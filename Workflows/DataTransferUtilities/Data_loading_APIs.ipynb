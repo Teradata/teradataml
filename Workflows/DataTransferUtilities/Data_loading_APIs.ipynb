{
 "cells": [
  {
   "cell_type": "markdown",
   "id": "a7f2ad26-84e7-41f7-9930-4bf6d9817b4c",
   "metadata": {},
   "source": [
    "\n",
    "<header style=\"padding:1px;background:#00233c;border-top:5px solid #00b2b1\">\n",
    "\n",
    "<b style = 'font-size:28px;font-family:Arial;color:#E37C4D'>teradataml Data Transfer Utilities - Data Loading APIs </b>\n",
    "</header>"
   ]
  },
  {
   "cell_type": "markdown",
   "id": "32cd974b-b2f9-4a28-bd57-c1a74c9f56b5",
   "metadata": {},
   "source": [
    "<header style=\"padding:1px;border-top:3px solid #00b2b1\">\n",
    "<p style = 'font-size:20px;font-family:Arial;color:#E37C4D'><b>Disclaimer </b> </p>\n",
    "\n",
    "<p style = 'font-size:16px;font-family:Arial;color:#00233C'>\n",
    "The sample code (“Sample Code”) provided is not covered by any Teradata agreements. Please be aware that Teradata has no control over the model responses to such sample code and such response may vary. The use of the model by Teradata is strictly for demonstration purposes and does not constitute any form of certification or endorsement. The sample code is provided “AS IS” and any express or implied warranties, including the implied warranties of merchantability and fitness for a particular purpose, are disclaimed. In no event shall Teradata be liable for any direct, indirect, incidental, special, exemplary, or consequential damages (including, but not limited to, procurement of substitute goods or services; loss of use, data, or profits; or business interruption) sustained by you or a third party, however caused and on any theory of liability, whether in contract, strict liability, or tort arising in any way out of the use of this sample code, even if advised of the possibility of such damage.\n",
    "</p>"
   ]
  },
  {
   "cell_type": "markdown",
   "id": "057b6540-baa4-46bb-84e8-82a302eaec31",
   "metadata": {},
   "source": [
    "<header style=\"padding:1px;border-top:3px solid #00b2b1\">\n",
    "\n",
    "<p style = 'font-size:20px;font-family:Arial;color:#E37C4D'><b>Introduction</b></p>\n",
    "\n",
    "<p style = 'font-size:16px;font-family:Arial;color:#00233C'>\n",
    "This demo notebook introduces <font color=#E37C4D>data loading APIs</font> provided by <font color=#E37C4D>teradataml</font> designed to simplify and streamline the movement of data between various sources and Teradata Vantage as destination.\n",
    "Through a series of examples, the notebook showcases functions and methods that handle tasks such as bulk data loading, CSV imports, with a focus on leveraging performance features like <font color=#E37C4D>fastload protocol</font>.\n",
    "Whether dealing with small datasets or large volumes of data, <font color=#E37C4D>teradataml</font> offers versatile APIs to manage data loading efficiently and reliably.\n",
    "</p>\n"
   ]
  },
  {
   "cell_type": "markdown",
   "id": "79f59505-da97-4f1a-931c-24921e695e48",
   "metadata": {},
   "source": [
    "<header style=\"padding:1px;border-top:3px solid #00b2b1\">\n",
    "<p style = 'font-size:20px;font-family:Arial;color:#E37C4D'><b>Why teradataml?</b></p>  \n",
    "<ul style = 'font-size:16px;color:#00233C'>\n",
    "    <li>Syntax similar to opensource packages like pandas.</li>\n",
    "    <li>Enable usage of Teradata specific performance improving features like fastload, from python client.</li>\n",
    "    <li>Flexibility to choose number of fastload sessions to be opened for given fastload operation.</li>\n",
    "    <li>Flexibility to choose batch size for loading.</li>\n",
    "    <li>Easy way of monitoring erroneous records which are not loaded.</li>\n",
    " </ul>"
   ]
  },
  {
   "cell_type": "markdown",
   "id": "19a6373a-36b9-49d5-9e1f-086a1000795e",
   "metadata": {},
   "source": [
    "<header style=\"padding:1px;border-top:3px solid #00b2b1\">\n",
    "<b style = 'font-size:20px;font-family:Arial;color:#E37C4D'>Overview of data loading APIs in teradataml</b>"
   ]
  },
  {
   "cell_type": "markdown",
   "id": "56236fd7-3519-4f83-881f-474127b532d3",
   "metadata": {},
   "source": [
    "| <span style=color:#E37C4D>API name</span>           | Source                                | Destination       | Function/Method | Fastload applicable | Recommended when | Returns                                                                                             |\r\n",
    "--------------------|---------------------------------------|-------------------|-----------------|---------------------|-------------------------------------------------------------------------------------------------------------|------------|\r\n",
    "| <span style=color:#E37C4D>copy_to_sql()</span>      | Pandas DataFrame/ terdataml DataFrame | Teradata Vantage | Function        | No                  | Number of rows < 100,000| None|                                                                                |\r\n",
    "|<span style=color:#E37C4D>fastload()</span>         | Pandas DataFrame | Teradata Vantage | Function        | Yes                 | Number of rows > 100,000| A dictionary containing keys named as errors_dataframe, warnings_dataframe, errors_table, warnings_table, ERR_1_table, ERR_2_table    |                                                                      \r\n",
    "|<span style=color:#E37C4D>read_csv()</span>         | csv file                              | Teradata Vantage | Function        | Yes                 | with fastload=True when Number of rows > 100,000 and with fastload=False when Number of rows < 100,000 | when fastload=False: teradataml DataFrame and when fastload=True: a tuple containing teradataml DataFrame and a dictionary. Dictionary contains keys named as errors_dataframe, warnings_dataframe, errors_table, warnings_table, fastloadcsv_error_tables |\r\n",
    "|<span style=color:#E37C4D>DataFrame.to_sql()</span> | terdataml DataFrame                   | Teradata Vantage | Method of DataFrame class         | No                  | NA        | None|\r\n"
   ]
  },
  {
   "cell_type": "markdown",
   "id": "e6667556-5d04-4518-b41c-e37f08709e5a",
   "metadata": {},
   "source": [
    "<hr>\n",
    "<b style = 'font-size:20px;font-family:Arial;color:#E37C4D'>Notes</b>\n",
    "\n",
    "<style>\n",
    "  li {\n",
    "    margin-bottom: 5px;\n",
    "  }\n",
    "</style>\n",
    "\n",
    "<ul style = 'font-size:16px;color:#00233C'>\n",
    "  <li>User must have required privileges to create new tables.</li>\n",
    "  <li>User should precisely specify information about column datatypes while creating new tables.</li>\n",
    "  <li>Every API is having some default behavior. Teradata recommends to use <b>help()</b> on APIs before using them. \n",
    "  <li>Limitations and points to be considered while using fastload protocol are explained in below section in detail.</li>\n",
    " </ul>"
   ]
  },
  {
   "cell_type": "markdown",
   "id": "cdf874ab-e775-4785-bbd4-421662c35340",
   "metadata": {},
   "source": [
    "<hr>\n",
    "<b style = 'font-size:20px;font-family:Arial;color:#E37C4D'>About Fastload Protocol</b>\n",
    "\n",
    "<style>\n",
    "  li {\n",
    "    margin-bottom: 5px;\n",
    "  }\n",
    "</style>\n",
    "\n",
    "<ul style = 'font-size:16px;color:#00233C'>\n",
    "    <li>Usage recommendation</li>\n",
    "        Teradata recommends to use Fastload when number of rows in dataset is atleast 100,000. To load lesser number of rows, go with <b>copy_to_sql()</b>, <b>read_csv()</b> with <b>use_fastload=False</b>. Fastload opens multiple data transfer connections to the Teradata Vantage, which is time consuming.\n",
    "    <br>\n",
    "    <br>\n",
    "    <li>Limitations</li>\n",
    "     <ul>\n",
    "      <li>FastLoad cannot load duplicate rows into a MULTISET table with a primary index.</li>\n",
    "      <li>FastLoad does not support all Teradata Vantage data types. For example, BLOB and CLOB are not supported.</li>\n",
    "     <ul>\n",
    "</ul>"
   ]
  },
  {
   "cell_type": "markdown",
   "id": "4072619b-134c-40a9-8c51-eab1e424630f",
   "metadata": {},
   "source": [
    "<ul style = 'font-size:16px;color:#00233C'>\n",
    "<li>Find more deatils about Fastload protocol here: <a href=\"https://pypi.org/project/teradatasql/#FastLoad\" target=\"_blank\">https://pypi.org/project/teradatasql/#FastLoad</a></li>\n",
    "</ul>"
   ]
  },
  {
   "cell_type": "markdown",
   "id": "45f9b7aa-0075-4bec-ae22-3e8a396d26d6",
   "metadata": {},
   "source": [
    "<hr>\n",
    "\n",
    "<header style=\"padding:1px;border-top:3px solid #00b2b1\">\n",
    "<b style = 'font-size:20px;font-family:Arial;color:#E37C4D'>Data loading APIs in teradataml</b>"
   ]
  },
  {
   "cell_type": "markdown",
   "id": "dc9ce3f7-d243-425d-86c4-b6a5929df7a8",
   "metadata": {},
   "source": [
    "<hr>\n",
    "<b style = 'font-size:18px;font-family:Arial;color:#E37C4D'>1. Common Initial Setup</b>"
   ]
  },
  {
   "cell_type": "markdown",
   "id": "1585ba12-a4d4-45f6-95d7-6286d2ac467e",
   "metadata": {},
   "source": [
    "#### 1.1 Import required teradataml modules and other dependencies"
   ]
  },
  {
   "cell_type": "code",
   "execution_count": 1,
   "id": "c6e0877b-967e-4830-bf8b-91ec7d5cafc7",
   "metadata": {},
   "outputs": [],
   "source": [
    "from teradataml import create_context, remove_context, DataFrame, load_example_data, db_drop_table, execute_sql, in_schema\n",
    "from teradataml import copy_to_sql, fastload, read_csv\n",
    "import pandas as pd\n",
    "import getpass, os, json, csv\n",
    "from collections import OrderedDict\n",
    "from teradatasqlalchemy.types import *"
   ]
  },
  {
   "cell_type": "markdown",
   "id": "19e3f46a-6128-4417-9a34-1523d3bc820a",
   "metadata": {},
   "source": [
    "#### 1.2. Connect to a Vantage system"
   ]
  },
  {
   "cell_type": "code",
   "execution_count": 2,
   "id": "3ca3e20a-7b08-49df-a802-d8f561bff5e5",
   "metadata": {},
   "outputs": [
    {
     "name": "stdin",
     "output_type": "stream",
     "text": [
      "Host:  ········\n",
      "Username:  ········\n",
      "Password:  ········\n"
     ]
    },
    {
     "data": {
      "text/plain": [
       "Engine(teradatasql://user:***host)"
      ]
     },
     "execution_count": 2,
     "metadata": {},
     "output_type": "execute_result"
    }
   ],
   "source": [
    "# Create a connetion.\n",
    "host = getpass.getpass(\"Host: \")\n",
    "username = getpass.getpass(\"Username: \")\n",
    "password = getpass.getpass(\"Password: \")\n",
    "\n",
    "create_context(host=host, username=username, password=password)"
   ]
  },
  {
   "cell_type": "markdown",
   "id": "e7ba9f92-f72e-4522-94b7-9fa7eb7b79ef",
   "metadata": {},
   "source": [
    "#### 1.3 Create demo data"
   ]
  },
  {
   "cell_type": "markdown",
   "id": "aa49b054-6619-482e-abed-40aa5c475b77",
   "metadata": {},
   "source": [
    "##### 1.3.1 Pandas Dataframe"
   ]
  },
  {
   "cell_type": "code",
   "execution_count": 3,
   "id": "062390d5-efb8-4e43-a677-6952323ec897",
   "metadata": {},
   "outputs": [],
   "source": [
    "data_dict = {'emp_name': ['A1', 'A2', 'A3', 'A4'],\n",
    "             'emp_sage': [100, 200, 300, 400],\n",
    "             'emp_id': [133, 144, 155, 177],\n",
    "             'marks': [99.99, 97.32, 94.67, 91.00]\n",
    "            }\n",
    "\n",
    "pandas_df = pd.DataFrame(data_dict)"
   ]
  },
  {
   "cell_type": "markdown",
   "id": "6f426b42-c2c3-4f4c-b3ba-cb18f98a6dfa",
   "metadata": {},
   "source": [
    "##### 1.3.2 teradataml DataFrame"
   ]
  },
  {
   "cell_type": "code",
   "execution_count": 4,
   "id": "52038181-04ce-4133-ab5e-b974528be2da",
   "metadata": {},
   "outputs": [],
   "source": [
    "load_example_data('dataframe', 'admissions_train')\n",
    "tdml_df = DataFrame('admissions_train')"
   ]
  },
  {
   "cell_type": "markdown",
   "id": "19549eeb-476e-4135-b263-d216fb4a7598",
   "metadata": {},
   "source": [
    "##### 1.3.3 teradataml DataFrame having timestamp data"
   ]
  },
  {
   "cell_type": "code",
   "execution_count": 5,
   "id": "3aab1ce7-88db-4c4c-a2c4-bbcf6f7b5182",
   "metadata": {},
   "outputs": [],
   "source": [
    "load_example_data('sessionize', 'sessionize_table')\n",
    "tdml_time_df = DataFrame('sessionize_table')"
   ]
  },
  {
   "cell_type": "markdown",
   "id": "53269939-ed3b-41af-aa55-ee08be76be48",
   "metadata": {},
   "source": [
    "<hr>\n",
    "<b style = 'font-size:18px;font-family:Arial;color:#E37C4D'>2. Demonstration of Data loading APIs in teradataml</b>"
   ]
  },
  {
   "cell_type": "markdown",
   "id": "80bc6cd8-3605-4a70-abda-1f14f089c94e",
   "metadata": {},
   "source": [
    "<hr>\n",
    "<b style = 'font-size:17px;font-family:Arial;color:#E37C4D'>2.1 copy_to_sql</b>"
   ]
  },
  {
   "cell_type": "markdown",
   "id": "5ce154db-fb80-4b32-9638-c16568d6b92c",
   "metadata": {},
   "source": [
    "##### Notes:\n",
    "- If destination table already exists, source data will be appended to existing table by default. Use `if_exists` argument to alter this behavior.\n",
    "- Destination table is created as MULTISET table by default. Use `set_table` argument to alter this behavior.\n",
    "- Index columns in source pandas DataFrame will not be reflected in destination table by default. Use `index`, `index_label` arguments to alter this behavior.\n",
    "- Destination table is created as a permanent table by default. Use `temporary` argument to alter this behavior.\n",
    "- Destination table is created in default database. Use `schema_name` argument to alter this behavior.\n",
    "- `schema_name` will be ignored when `temporary=True`.\n",
    "- `primary_time_index_name`, `timecode_column`, `timebucket_duration`, `timezero_date`, `columns_list`, `sequence_column`, `seq_max` are only applicable for time series data.\n",
    "- Data will be loaded in chunks of default size. Use `chunksize` argument to alter this size."
   ]
  },
  {
   "cell_type": "markdown",
   "id": "991e0e6c-e081-4d67-89b0-168e2be3e6a8",
   "metadata": {},
   "source": [
    "<hr>\n",
    "<b style = 'font-size:16px;font-family:Arial;color:#E37C4D'>2.1.1 copy_to_sql : Source- pandas DataFrame, Destination- Teradata Vantage</b>"
   ]
  },
  {
   "cell_type": "code",
   "execution_count": 6,
   "id": "525b1e9c-9e0b-4c65-930c-a1eb61252987",
   "metadata": {},
   "outputs": [
    {
     "data": {
      "text/html": [
       "<div>\n",
       "<style scoped>\n",
       "    .dataframe tbody tr th:only-of-type {\n",
       "        vertical-align: middle;\n",
       "    }\n",
       "\n",
       "    .dataframe tbody tr th {\n",
       "        vertical-align: top;\n",
       "    }\n",
       "\n",
       "    .dataframe thead th {\n",
       "        text-align: right;\n",
       "    }\n",
       "</style>\n",
       "<table border=\"1\" class=\"dataframe\">\n",
       "  <thead>\n",
       "    <tr style=\"text-align: right;\">\n",
       "      <th></th>\n",
       "      <th>emp_name</th>\n",
       "      <th>emp_sage</th>\n",
       "      <th>emp_id</th>\n",
       "      <th>marks</th>\n",
       "    </tr>\n",
       "  </thead>\n",
       "  <tbody>\n",
       "    <tr>\n",
       "      <th>0</th>\n",
       "      <td>A1</td>\n",
       "      <td>100</td>\n",
       "      <td>133</td>\n",
       "      <td>99.99</td>\n",
       "    </tr>\n",
       "    <tr>\n",
       "      <th>1</th>\n",
       "      <td>A2</td>\n",
       "      <td>200</td>\n",
       "      <td>144</td>\n",
       "      <td>97.32</td>\n",
       "    </tr>\n",
       "    <tr>\n",
       "      <th>2</th>\n",
       "      <td>A3</td>\n",
       "      <td>300</td>\n",
       "      <td>155</td>\n",
       "      <td>94.67</td>\n",
       "    </tr>\n",
       "    <tr>\n",
       "      <th>3</th>\n",
       "      <td>A4</td>\n",
       "      <td>400</td>\n",
       "      <td>177</td>\n",
       "      <td>91.00</td>\n",
       "    </tr>\n",
       "  </tbody>\n",
       "</table>\n",
       "</div>"
      ],
      "text/plain": [
       "  emp_name  emp_sage  emp_id  marks\n",
       "0       A1       100     133  99.99\n",
       "1       A2       200     144  97.32\n",
       "2       A3       300     155  94.67\n",
       "3       A4       400     177  91.00"
      ]
     },
     "execution_count": 6,
     "metadata": {},
     "output_type": "execute_result"
    }
   ],
   "source": [
    "# Print source pandas DataFrame.\n",
    "pandas_df"
   ]
  },
  {
   "cell_type": "code",
   "execution_count": 7,
   "id": "672ad4c6-49a7-4297-9531-d2f917c7e88c",
   "metadata": {},
   "outputs": [
    {
     "data": {
      "text/plain": [
       "RangeIndex(start=0, stop=4, step=1)"
      ]
     },
     "execution_count": 7,
     "metadata": {},
     "output_type": "execute_result"
    }
   ],
   "source": [
    "# Print index of pandas DataFrame.\n",
    "pandas_df.index "
   ]
  },
  {
   "cell_type": "markdown",
   "id": "b74a28fc-b822-4fe8-93f6-b4f431328b44",
   "metadata": {},
   "source": [
    "#### Usecase 1: Save Pandas DataFrame to Teradata Vantage by only specifying destination table name."
   ]
  },
  {
   "cell_type": "markdown",
   "id": "71ef7896-babd-4ca0-addd-3575c3127b38",
   "metadata": {},
   "source": [
    "Note:\n",
    "- If table already exists, new data is appended to existing table. If table does not exist, `copy_to_sql()` creates table and loads data."
   ]
  },
  {
   "cell_type": "code",
   "execution_count": 12,
   "id": "3edce6ba-10bb-43c2-a72d-b1056a59ea2d",
   "metadata": {},
   "outputs": [
    {
     "data": {
      "text/plain": [
       "TeradataCursor uRowsHandle=72 bClosed=False"
      ]
     },
     "execution_count": 12,
     "metadata": {},
     "output_type": "execute_result"
    }
   ],
   "source": [
    "execute_sql(\"drop table copy_to_pd_table;\")"
   ]
  },
  {
   "cell_type": "code",
   "execution_count": 13,
   "id": "f47ff9b4-edb6-49be-9ac1-c2cf9fc3ec7a",
   "metadata": {},
   "outputs": [],
   "source": [
    "copy_to_sql(df=pandas_df,\n",
    "            table_name='copy_to_pd_table')"
   ]
  },
  {
   "cell_type": "code",
   "execution_count": 14,
   "id": "dc1e2c9c-0ac2-4b9b-b76a-57639fd528a7",
   "metadata": {},
   "outputs": [
    {
     "data": {
      "text/html": [
       "<style type=\"text/css\">\n",
       "\ttable {border:ridge 5px;}\n",
       "\ttable td {border:inset 1px;}\n",
       "\ttable tr#HeaderRow {background-color:grey; color:white;}</style>\n",
       "<html><table>\n",
       "\t<tr id=\"HeaderRow\">\n",
       "\t\t<th>emp_name</th>\n",
       "\t\t<th>emp_sage</th>\n",
       "\t\t<th>emp_id</th>\n",
       "\t\t<th>marks</th>\n",
       "\t</tr>\n",
       "\t<tr>\n",
       "\t\t<td>A3</td>\n",
       "\t\t<td>300</td>\n",
       "\t\t<td>155</td>\n",
       "\t\t<td>94.67</td>\n",
       "\t</tr>\n",
       "\t<tr>\n",
       "\t\t<td>A4</td>\n",
       "\t\t<td>400</td>\n",
       "\t\t<td>177</td>\n",
       "\t\t<td>91.0</td>\n",
       "\t</tr>\n",
       "\t<tr>\n",
       "\t\t<td>A2</td>\n",
       "\t\t<td>200</td>\n",
       "\t\t<td>144</td>\n",
       "\t\t<td>97.32</td>\n",
       "\t</tr>\n",
       "\t<tr>\n",
       "\t\t<td>A1</td>\n",
       "\t\t<td>100</td>\n",
       "\t\t<td>133</td>\n",
       "\t\t<td>99.99</td>\n",
       "\t</tr>\n",
       "</table></html>"
      ],
      "text/plain": [
       "  emp_name  emp_sage  emp_id  marks\n",
       "0       A3       300     155  94.67\n",
       "1       A4       400     177  91.00\n",
       "2       A2       200     144  97.32\n",
       "3       A1       100     133  99.99"
      ]
     },
     "execution_count": 14,
     "metadata": {},
     "output_type": "execute_result"
    }
   ],
   "source": [
    "tdml_df_1 = DataFrame('copy_to_pd_table')\n",
    "tdml_df_1"
   ]
  },
  {
   "cell_type": "code",
   "execution_count": 15,
   "id": "d5180b4e-eaf2-4344-9350-f99c8c091093",
   "metadata": {},
   "outputs": [
    {
     "data": {
      "text/html": [
       "<style type=\"text/css\">\n",
       "                                table {border:ridge 5px;}\n",
       "                                table td {border:inset 1px;}\n",
       "                                table tr#HeaderRow {background-color:grey; color:white;}\n",
       "                               </style>\n",
       "                               <html>\n",
       "                                  <table>\n",
       "                                    <tr id=\"HeaderRow\">\n",
       "                                        <th>COLUMN NAME</th>\n",
       "                                        <th>TYPE</th>\n",
       "                                    </tr>\n",
       "                                    <tr><td>emp_name</td><td>VARCHAR(length=1024, charset='UNICODE')</td></tr>\n",
       "<tr><td>emp_sage</td><td>BIGINT()</td></tr>\n",
       "<tr><td>emp_id</td><td>BIGINT()</td></tr>\n",
       "<tr><td>marks</td><td>FLOAT()</td></tr>\n",
       "                                  </table>\n",
       "                               </html>\n",
       "                            "
      ],
      "text/plain": [
       "emp_name    VARCHAR(length=1024, charset='UNICODE')\n",
       "emp_sage                                   BIGINT()\n",
       "emp_id                                     BIGINT()\n",
       "marks                                       FLOAT()"
      ]
     },
     "execution_count": 15,
     "metadata": {},
     "output_type": "execute_result"
    }
   ],
   "source": [
    "# Default types are assigned by copy_to_sql().\n",
    "tdml_df_1.tdtypes"
   ]
  },
  {
   "cell_type": "markdown",
   "id": "caf827cd-42d7-4514-9a9e-6e8b8c38eeb6",
   "metadata": {},
   "source": [
    "#### Usecase 2: Save Pandas DataFrame to Teradata Vantage in a fresh table. Also, specify `types` argument to change default column types.\""
   ]
  },
  {
   "cell_type": "markdown",
   "id": "4edd00ca-87c2-4d7c-9304-b29585a56590",
   "metadata": {},
   "source": [
    "Notes:\n",
    "- User can provide column names and their types in dictionary. Specify column name as key and column types as value in dictionary. Type should be a valid teradatasqlalachemy datatype.\n",
    "- If `types` argument is not provided, default types are extracted from pandas dataframe and used.\n",
    "- Consider indices in pandas dataframe while stating column names."
   ]
  },
  {
   "cell_type": "code",
   "execution_count": 16,
   "id": "e3880593-d22e-4511-a6fb-da2f46ec3f64",
   "metadata": {},
   "outputs": [],
   "source": [
    "copy_to_sql(df=pandas_df,\n",
    "            table_name='copy_to_pd_table_1',\n",
    "            if_exists='replace',\n",
    "            types={'emp_name': VARCHAR, 'emp_sage':INTEGER,\n",
    "                   'emp_id': BIGINT, 'marks': DECIMAL})"
   ]
  },
  {
   "cell_type": "code",
   "execution_count": 17,
   "id": "f306e8d1-2457-45ee-9d41-f7362711c82c",
   "metadata": {},
   "outputs": [],
   "source": [
    "tdml_df_2 = DataFrame('copy_to_pd_table_1')"
   ]
  },
  {
   "cell_type": "code",
   "execution_count": 18,
   "id": "b60b0cbc-cefb-478b-84cc-2148269c5504",
   "metadata": {},
   "outputs": [
    {
     "data": {
      "text/html": [
       "<style type=\"text/css\">\n",
       "                                table {border:ridge 5px;}\n",
       "                                table td {border:inset 1px;}\n",
       "                                table tr#HeaderRow {background-color:grey; color:white;}\n",
       "                               </style>\n",
       "                               <html>\n",
       "                                  <table>\n",
       "                                    <tr id=\"HeaderRow\">\n",
       "                                        <th>COLUMN NAME</th>\n",
       "                                        <th>TYPE</th>\n",
       "                                    </tr>\n",
       "                                    <tr><td>emp_name</td><td>VARCHAR(length=64000, charset='LATIN')</td></tr>\n",
       "<tr><td>emp_sage</td><td>INTEGER()</td></tr>\n",
       "<tr><td>emp_id</td><td>BIGINT()</td></tr>\n",
       "<tr><td>marks</td><td>DECIMAL()</td></tr>\n",
       "                                  </table>\n",
       "                               </html>\n",
       "                            "
      ],
      "text/plain": [
       "emp_name    VARCHAR(length=64000, charset='LATIN')\n",
       "emp_sage                                 INTEGER()\n",
       "emp_id                                    BIGINT()\n",
       "marks                                    DECIMAL()"
      ]
     },
     "execution_count": 18,
     "metadata": {},
     "output_type": "execute_result"
    }
   ],
   "source": [
    "# User defined types are assigned by copy_to_sql().\n",
    "tdml_df_2.tdtypes"
   ]
  },
  {
   "cell_type": "markdown",
   "id": "13b11007-54cc-4066-a05e-3895f80e8760",
   "metadata": {},
   "source": [
    "#### Usecase 3: Save Pandas DataFrame to Teradata Vantage as a SET table. Also, specify column to be used as primary index for destination table."
   ]
  },
  {
   "cell_type": "code",
   "execution_count": 19,
   "id": "ec27d54b-a892-46ea-900c-0832573037ff",
   "metadata": {},
   "outputs": [],
   "source": [
    "copy_to_sql(df=pandas_df,\n",
    "            table_name='copy_to_pd_set_table',\n",
    "            set_table=True,\n",
    "            primary_index=['emp_id'])"
   ]
  },
  {
   "cell_type": "code",
   "execution_count": 20,
   "id": "b7d8cbeb-4ddf-461c-b734-784bce1af4ed",
   "metadata": {},
   "outputs": [],
   "source": [
    "set_df = DataFrame('copy_to_pd_set_table')"
   ]
  },
  {
   "cell_type": "code",
   "execution_count": 21,
   "id": "eaeccdec-9c4c-4d98-b4f4-d771a5bb9781",
   "metadata": {},
   "outputs": [
    {
     "data": {
      "text/plain": [
       "['emp_id']"
      ]
     },
     "execution_count": 21,
     "metadata": {},
     "output_type": "execute_result"
    }
   ],
   "source": [
    "set_df.index"
   ]
  },
  {
   "cell_type": "markdown",
   "id": "eadd9603-a448-445a-aa57-f889881c4270",
   "metadata": {},
   "source": [
    "#### Usecase 4: Save Pandas DataFrame with index to Teradata Vantage table and retain index column in destination table."
   ]
  },
  {
   "cell_type": "markdown",
   "id": "45672b90-1a26-4aec-8ff4-dbd97706166e",
   "metadata": {},
   "source": [
    "##### Notes:\n",
    "- If `index` is **True** and `index_label` is not specified, then the `names` property of the Pandas DataFrame Index is used as the `index_label`(s). If pandas DataFrame index `names` is also None or empty, then:\n",
    "  - A default label `index_label` or `level_0` (when `index_label` is already taken) is used when Pandas DataFrame index is standard.\n",
    "  - Default labels `level_0`, `level_1`, etc. are used when Pandas DataFrame index is multi-level index.\n",
    "- Use `index_label=True` only when source is Pandas DataFrame (and not when source is teradataml DataFrame).\n",
    "- `index` and `index_label` arguments do not play any role in setting primary index to destination table."
   ]
  },
  {
   "cell_type": "code",
   "execution_count": 22,
   "id": "968be559-f72e-44d7-9739-79b8caad4646",
   "metadata": {},
   "outputs": [],
   "source": [
    "copy_to_sql(df=pandas_df,\n",
    "            table_name='copy_to_pd_table_2',\n",
    "            index=True)"
   ]
  },
  {
   "cell_type": "code",
   "execution_count": 24,
   "id": "dd9272f5-1167-4058-8a4a-4b7e50b39cd8",
   "metadata": {},
   "outputs": [
    {
     "data": {
      "text/html": [
       "<style type=\"text/css\">\n",
       "\ttable {border:ridge 5px;}\n",
       "\ttable td {border:inset 1px;}\n",
       "\ttable tr#HeaderRow {background-color:grey; color:white;}</style>\n",
       "<html><table>\n",
       "\t<tr id=\"HeaderRow\">\n",
       "\t\t<th>emp_name</th>\n",
       "\t\t<th>emp_sage</th>\n",
       "\t\t<th>emp_id</th>\n",
       "\t\t<th>marks</th>\n",
       "\t\t<th>index_label</th>\n",
       "\t</tr>\n",
       "\t<tr>\n",
       "\t\t<td>A3</td>\n",
       "\t\t<td>300</td>\n",
       "\t\t<td>155</td>\n",
       "\t\t<td>94.67</td>\n",
       "\t\t<td>2</td>\n",
       "\t</tr>\n",
       "\t<tr>\n",
       "\t\t<td>A4</td>\n",
       "\t\t<td>400</td>\n",
       "\t\t<td>177</td>\n",
       "\t\t<td>91.0</td>\n",
       "\t\t<td>3</td>\n",
       "\t</tr>\n",
       "\t<tr>\n",
       "\t\t<td>A2</td>\n",
       "\t\t<td>200</td>\n",
       "\t\t<td>144</td>\n",
       "\t\t<td>97.32</td>\n",
       "\t\t<td>1</td>\n",
       "\t</tr>\n",
       "\t<tr>\n",
       "\t\t<td>A1</td>\n",
       "\t\t<td>100</td>\n",
       "\t\t<td>133</td>\n",
       "\t\t<td>99.99</td>\n",
       "\t\t<td>0</td>\n",
       "\t</tr>\n",
       "</table></html>"
      ],
      "text/plain": [
       "  emp_name  emp_sage  emp_id  marks  index_label\n",
       "0       A3       300     155  94.67            2\n",
       "1       A4       400     177  91.00            3\n",
       "2       A2       200     144  97.32            1\n",
       "3       A1       100     133  99.99            0"
      ]
     },
     "execution_count": 24,
     "metadata": {},
     "output_type": "execute_result"
    }
   ],
   "source": [
    "# Default label for index is used.\n",
    "tdml_df_with_index_col = DataFrame('copy_to_pd_table_2')\n",
    "tdml_df_with_index_col"
   ]
  },
  {
   "cell_type": "code",
   "execution_count": 26,
   "id": "b3219292-371f-4834-9324-0be0d1e578c6",
   "metadata": {},
   "outputs": [],
   "source": [
    "# No index will be set to teradataml DataFrame.\n",
    "tdml_df_with_index_col.index"
   ]
  },
  {
   "cell_type": "markdown",
   "id": "0702b51c-009c-48c1-a5e4-9ba28174c49e",
   "metadata": {},
   "source": [
    "#### Usecase 5: Save Pandas DataFrame with index to Teradata Vantage table and retain index column in destination table and set name to that column."
   ]
  },
  {
   "cell_type": "code",
   "execution_count": 28,
   "id": "8f75c1a6-0b34-487e-800d-3199c49d109d",
   "metadata": {},
   "outputs": [],
   "source": [
    "copy_to_sql(df=pandas_df,\n",
    "            table_name='copy_to_pd_table_3',\n",
    "            index=True,\n",
    "            index_label='new_column')"
   ]
  },
  {
   "cell_type": "code",
   "execution_count": 29,
   "id": "055a5714-6b6d-4741-ba73-7a418693845c",
   "metadata": {},
   "outputs": [
    {
     "data": {
      "text/html": [
       "<style type=\"text/css\">\n",
       "\ttable {border:ridge 5px;}\n",
       "\ttable td {border:inset 1px;}\n",
       "\ttable tr#HeaderRow {background-color:grey; color:white;}</style>\n",
       "<html><table>\n",
       "\t<tr id=\"HeaderRow\">\n",
       "\t\t<th>emp_name</th>\n",
       "\t\t<th>emp_sage</th>\n",
       "\t\t<th>emp_id</th>\n",
       "\t\t<th>marks</th>\n",
       "\t\t<th>new_column</th>\n",
       "\t</tr>\n",
       "\t<tr>\n",
       "\t\t<td>A3</td>\n",
       "\t\t<td>300</td>\n",
       "\t\t<td>155</td>\n",
       "\t\t<td>94.67</td>\n",
       "\t\t<td>2</td>\n",
       "\t</tr>\n",
       "\t<tr>\n",
       "\t\t<td>A4</td>\n",
       "\t\t<td>400</td>\n",
       "\t\t<td>177</td>\n",
       "\t\t<td>91.0</td>\n",
       "\t\t<td>3</td>\n",
       "\t</tr>\n",
       "\t<tr>\n",
       "\t\t<td>A2</td>\n",
       "\t\t<td>200</td>\n",
       "\t\t<td>144</td>\n",
       "\t\t<td>97.32</td>\n",
       "\t\t<td>1</td>\n",
       "\t</tr>\n",
       "\t<tr>\n",
       "\t\t<td>A1</td>\n",
       "\t\t<td>100</td>\n",
       "\t\t<td>133</td>\n",
       "\t\t<td>99.99</td>\n",
       "\t\t<td>0</td>\n",
       "\t</tr>\n",
       "</table></html>"
      ],
      "text/plain": [
       "  emp_name  emp_sage  emp_id  marks  new_column\n",
       "0       A3       300     155  94.67           2\n",
       "1       A4       400     177  91.00           3\n",
       "2       A2       200     144  97.32           1\n",
       "3       A1       100     133  99.99           0"
      ]
     },
     "execution_count": 29,
     "metadata": {},
     "output_type": "execute_result"
    }
   ],
   "source": [
    "tdml_df_with_index_col = DataFrame('copy_to_pd_table_3')\n",
    "tdml_df_with_index_col"
   ]
  },
  {
   "cell_type": "code",
   "execution_count": 30,
   "id": "acb4bc21-ec5c-426b-bbac-cbde5ec9bb49",
   "metadata": {},
   "outputs": [],
   "source": [
    "# No index will be set to teradataml DataFrame.\n",
    "tdml_df_with_index_col.index"
   ]
  },
  {
   "cell_type": "markdown",
   "id": "60b6f006-dd49-40d3-95cf-85a5c7e848ea",
   "metadata": {},
   "source": [
    "#### Usecase 6: Save Pandas DataFrame having index of type MultiIndex to Teradata Vantage table and retain index columns."
   ]
  },
  {
   "cell_type": "code",
   "execution_count": 31,
   "id": "96e2bd98-66f2-4d70-adde-080443a4b4c8",
   "metadata": {},
   "outputs": [],
   "source": [
    "indexed_pandas_df = pandas_df.set_index(['emp_id', 'emp_name'], inplace=False)"
   ]
  },
  {
   "cell_type": "code",
   "execution_count": 32,
   "id": "e1ebe0ac-05cb-4929-aa4d-5275b03cbc58",
   "metadata": {},
   "outputs": [
    {
     "data": {
      "text/plain": [
       "MultiIndex([(133, 'A1'),\n",
       "            (144, 'A2'),\n",
       "            (155, 'A3'),\n",
       "            (177, 'A4')],\n",
       "           names=['emp_id', 'emp_name'])"
      ]
     },
     "execution_count": 32,
     "metadata": {},
     "output_type": "execute_result"
    }
   ],
   "source": [
    "indexed_pandas_df.index "
   ]
  },
  {
   "cell_type": "code",
   "execution_count": 33,
   "id": "72117160-d828-4e9e-9bad-a9bd1332ecf4",
   "metadata": {},
   "outputs": [
    {
     "data": {
      "text/html": [
       "<div>\n",
       "<style scoped>\n",
       "    .dataframe tbody tr th:only-of-type {\n",
       "        vertical-align: middle;\n",
       "    }\n",
       "\n",
       "    .dataframe tbody tr th {\n",
       "        vertical-align: top;\n",
       "    }\n",
       "\n",
       "    .dataframe thead th {\n",
       "        text-align: right;\n",
       "    }\n",
       "</style>\n",
       "<table border=\"1\" class=\"dataframe\">\n",
       "  <thead>\n",
       "    <tr style=\"text-align: right;\">\n",
       "      <th></th>\n",
       "      <th></th>\n",
       "      <th>emp_sage</th>\n",
       "      <th>marks</th>\n",
       "    </tr>\n",
       "    <tr>\n",
       "      <th>emp_id</th>\n",
       "      <th>emp_name</th>\n",
       "      <th></th>\n",
       "      <th></th>\n",
       "    </tr>\n",
       "  </thead>\n",
       "  <tbody>\n",
       "    <tr>\n",
       "      <th>133</th>\n",
       "      <th>A1</th>\n",
       "      <td>100</td>\n",
       "      <td>99.99</td>\n",
       "    </tr>\n",
       "    <tr>\n",
       "      <th>144</th>\n",
       "      <th>A2</th>\n",
       "      <td>200</td>\n",
       "      <td>97.32</td>\n",
       "    </tr>\n",
       "    <tr>\n",
       "      <th>155</th>\n",
       "      <th>A3</th>\n",
       "      <td>300</td>\n",
       "      <td>94.67</td>\n",
       "    </tr>\n",
       "    <tr>\n",
       "      <th>177</th>\n",
       "      <th>A4</th>\n",
       "      <td>400</td>\n",
       "      <td>91.00</td>\n",
       "    </tr>\n",
       "  </tbody>\n",
       "</table>\n",
       "</div>"
      ],
      "text/plain": [
       "                 emp_sage  marks\n",
       "emp_id emp_name                 \n",
       "133    A1             100  99.99\n",
       "144    A2             200  97.32\n",
       "155    A3             300  94.67\n",
       "177    A4             400  91.00"
      ]
     },
     "execution_count": 33,
     "metadata": {},
     "output_type": "execute_result"
    }
   ],
   "source": [
    "indexed_pandas_df"
   ]
  },
  {
   "cell_type": "code",
   "execution_count": 34,
   "id": "4e4f161a-0f1e-411a-bdf5-f8ca2bd35ba1",
   "metadata": {},
   "outputs": [],
   "source": [
    "copy_to_sql(df=indexed_pandas_df,\n",
    "            table_name='copy_to_pd_index',\n",
    "            index=True)"
   ]
  },
  {
   "cell_type": "code",
   "execution_count": 35,
   "id": "e562da60-334c-4528-a48f-54a588f3962b",
   "metadata": {},
   "outputs": [],
   "source": [
    "indexed_tdml_df = DataFrame('copy_to_pd_index')"
   ]
  },
  {
   "cell_type": "code",
   "execution_count": 36,
   "id": "a43673d3-ce2a-4144-99c2-46f18063c1b9",
   "metadata": {},
   "outputs": [
    {
     "data": {
      "text/html": [
       "<style type=\"text/css\">\n",
       "\ttable {border:ridge 5px;}\n",
       "\ttable td {border:inset 1px;}\n",
       "\ttable tr#HeaderRow {background-color:grey; color:white;}</style>\n",
       "<html><table>\n",
       "\t<tr id=\"HeaderRow\">\n",
       "\t\t<th>emp_sage</th>\n",
       "\t\t<th>marks</th>\n",
       "\t\t<th>emp_id</th>\n",
       "\t\t<th>emp_name</th>\n",
       "\t</tr>\n",
       "\t<tr>\n",
       "\t\t<td>300</td>\n",
       "\t\t<td>94.67</td>\n",
       "\t\t<td>155</td>\n",
       "\t\t<td>A3</td>\n",
       "\t</tr>\n",
       "\t<tr>\n",
       "\t\t<td>400</td>\n",
       "\t\t<td>91.0</td>\n",
       "\t\t<td>177</td>\n",
       "\t\t<td>A4</td>\n",
       "\t</tr>\n",
       "\t<tr>\n",
       "\t\t<td>200</td>\n",
       "\t\t<td>97.32</td>\n",
       "\t\t<td>144</td>\n",
       "\t\t<td>A2</td>\n",
       "\t</tr>\n",
       "\t<tr>\n",
       "\t\t<td>100</td>\n",
       "\t\t<td>99.99</td>\n",
       "\t\t<td>133</td>\n",
       "\t\t<td>A1</td>\n",
       "\t</tr>\n",
       "</table></html>"
      ],
      "text/plain": [
       "   emp_sage  marks  emp_id emp_name\n",
       "0       300  94.67     155       A3\n",
       "1       400  91.00     177       A4\n",
       "2       200  97.32     144       A2\n",
       "3       100  99.99     133       A1"
      ]
     },
     "execution_count": 36,
     "metadata": {},
     "output_type": "execute_result"
    }
   ],
   "source": [
    "indexed_tdml_df"
   ]
  },
  {
   "cell_type": "code",
   "execution_count": 37,
   "id": "d0c6f5b9-e440-4bd1-97c9-f32134b5e2bd",
   "metadata": {},
   "outputs": [],
   "source": [
    "# No index will be set to teradataml DataFrame.\n",
    "indexed_tdml_df.index"
   ]
  },
  {
   "cell_type": "markdown",
   "id": "c1f6aa74-9737-4cd1-a62c-ec654f858ee6",
   "metadata": {},
   "source": [
    "#### Usecase 7: Save Pandas DataFrame having index of type MultiIndex to Teradata Vantage table, retain index columns and set names to those columns."
   ]
  },
  {
   "cell_type": "code",
   "execution_count": 38,
   "id": "db3e5b6a-9186-4123-9771-579b42d4560e",
   "metadata": {},
   "outputs": [
    {
     "data": {
      "text/plain": [
       "MultiIndex([(133, 'A1'),\n",
       "            (144, 'A2'),\n",
       "            (155, 'A3'),\n",
       "            (177, 'A4')],\n",
       "           names=['emp_id', 'emp_name'])"
      ]
     },
     "execution_count": 38,
     "metadata": {},
     "output_type": "execute_result"
    }
   ],
   "source": [
    "indexed_pandas_df.index"
   ]
  },
  {
   "cell_type": "code",
   "execution_count": 39,
   "id": "39eace62-31d7-4f2b-a7d9-3ef42be19beb",
   "metadata": {},
   "outputs": [
    {
     "data": {
      "text/html": [
       "<div>\n",
       "<style scoped>\n",
       "    .dataframe tbody tr th:only-of-type {\n",
       "        vertical-align: middle;\n",
       "    }\n",
       "\n",
       "    .dataframe tbody tr th {\n",
       "        vertical-align: top;\n",
       "    }\n",
       "\n",
       "    .dataframe thead th {\n",
       "        text-align: right;\n",
       "    }\n",
       "</style>\n",
       "<table border=\"1\" class=\"dataframe\">\n",
       "  <thead>\n",
       "    <tr style=\"text-align: right;\">\n",
       "      <th></th>\n",
       "      <th></th>\n",
       "      <th>emp_sage</th>\n",
       "      <th>marks</th>\n",
       "    </tr>\n",
       "    <tr>\n",
       "      <th>emp_id</th>\n",
       "      <th>emp_name</th>\n",
       "      <th></th>\n",
       "      <th></th>\n",
       "    </tr>\n",
       "  </thead>\n",
       "  <tbody>\n",
       "    <tr>\n",
       "      <th>133</th>\n",
       "      <th>A1</th>\n",
       "      <td>100</td>\n",
       "      <td>99.99</td>\n",
       "    </tr>\n",
       "    <tr>\n",
       "      <th>144</th>\n",
       "      <th>A2</th>\n",
       "      <td>200</td>\n",
       "      <td>97.32</td>\n",
       "    </tr>\n",
       "    <tr>\n",
       "      <th>155</th>\n",
       "      <th>A3</th>\n",
       "      <td>300</td>\n",
       "      <td>94.67</td>\n",
       "    </tr>\n",
       "    <tr>\n",
       "      <th>177</th>\n",
       "      <th>A4</th>\n",
       "      <td>400</td>\n",
       "      <td>91.00</td>\n",
       "    </tr>\n",
       "  </tbody>\n",
       "</table>\n",
       "</div>"
      ],
      "text/plain": [
       "                 emp_sage  marks\n",
       "emp_id emp_name                 \n",
       "133    A1             100  99.99\n",
       "144    A2             200  97.32\n",
       "155    A3             300  94.67\n",
       "177    A4             400  91.00"
      ]
     },
     "execution_count": 39,
     "metadata": {},
     "output_type": "execute_result"
    }
   ],
   "source": [
    "indexed_pandas_df"
   ]
  },
  {
   "cell_type": "code",
   "execution_count": 40,
   "id": "9023e74f-0d1f-4e71-818d-0370d459b530",
   "metadata": {},
   "outputs": [],
   "source": [
    "copy_to_sql(df=indexed_pandas_df,\n",
    "            table_name='copy_to_pd_multi_index',\n",
    "            index=True,\n",
    "            index_label=['index_1', 'index_2'])"
   ]
  },
  {
   "cell_type": "code",
   "execution_count": 41,
   "id": "e6b6617c-e8de-4e85-ad36-1806ead58030",
   "metadata": {},
   "outputs": [],
   "source": [
    "multi_indexed_tdml_df = DataFrame('copy_to_pd_multi_index')"
   ]
  },
  {
   "cell_type": "code",
   "execution_count": 42,
   "id": "90a8111f-e545-4279-90eb-dc67d3b8a314",
   "metadata": {},
   "outputs": [
    {
     "data": {
      "text/html": [
       "<style type=\"text/css\">\n",
       "\ttable {border:ridge 5px;}\n",
       "\ttable td {border:inset 1px;}\n",
       "\ttable tr#HeaderRow {background-color:grey; color:white;}</style>\n",
       "<html><table>\n",
       "\t<tr id=\"HeaderRow\">\n",
       "\t\t<th>emp_sage</th>\n",
       "\t\t<th>marks</th>\n",
       "\t\t<th>index_1</th>\n",
       "\t\t<th>index_2</th>\n",
       "\t</tr>\n",
       "\t<tr>\n",
       "\t\t<td>300</td>\n",
       "\t\t<td>94.67</td>\n",
       "\t\t<td>155</td>\n",
       "\t\t<td>A3</td>\n",
       "\t</tr>\n",
       "\t<tr>\n",
       "\t\t<td>400</td>\n",
       "\t\t<td>91.0</td>\n",
       "\t\t<td>177</td>\n",
       "\t\t<td>A4</td>\n",
       "\t</tr>\n",
       "\t<tr>\n",
       "\t\t<td>200</td>\n",
       "\t\t<td>97.32</td>\n",
       "\t\t<td>144</td>\n",
       "\t\t<td>A2</td>\n",
       "\t</tr>\n",
       "\t<tr>\n",
       "\t\t<td>100</td>\n",
       "\t\t<td>99.99</td>\n",
       "\t\t<td>133</td>\n",
       "\t\t<td>A1</td>\n",
       "\t</tr>\n",
       "</table></html>"
      ],
      "text/plain": [
       "   emp_sage  marks  index_1 index_2\n",
       "0       300  94.67      155      A3\n",
       "1       400  91.00      177      A4\n",
       "2       200  97.32      144      A2\n",
       "3       100  99.99      133      A1"
      ]
     },
     "execution_count": 42,
     "metadata": {},
     "output_type": "execute_result"
    }
   ],
   "source": [
    "multi_indexed_tdml_df"
   ]
  },
  {
   "cell_type": "code",
   "execution_count": 44,
   "id": "4dabb0be-c879-4147-bb9b-16e47047862c",
   "metadata": {},
   "outputs": [],
   "source": [
    "# No index will be set to teradataml DataFrame.\n",
    "multi_indexed_tdml_df.index"
   ]
  },
  {
   "cell_type": "markdown",
   "id": "d426fb63-b619-4e42-9818-c0a13a8d3ffb",
   "metadata": {},
   "source": [
    "#### Usecase 8: Save Pandas DataFrame in target schema."
   ]
  },
  {
   "cell_type": "markdown",
   "id": "2b13c13d-4cd0-4a37-8f69-4a84d6b04ab0",
   "metadata": {},
   "source": [
    "Note:\n",
    "- User must have create table rights on provided schema."
   ]
  },
  {
   "cell_type": "code",
   "execution_count": 45,
   "id": "96788150-bc24-4532-a0e3-d4afa528860d",
   "metadata": {},
   "outputs": [
    {
     "name": "stdin",
     "output_type": "stream",
     "text": [
      "Schema name:  ········\n"
     ]
    }
   ],
   "source": [
    "schema_name = getpass.getpass(\"Schema name: \")"
   ]
  },
  {
   "cell_type": "code",
   "execution_count": 46,
   "id": "e2dce3a4-ffd4-43fb-bdde-c210cedc622f",
   "metadata": {},
   "outputs": [],
   "source": [
    "copy_to_sql(df=pandas_df,\n",
    "            table_name='copy_to_pd_table_4',\n",
    "            schema_name=schema_name)"
   ]
  },
  {
   "cell_type": "code",
   "execution_count": 47,
   "id": "dc125bdb-12d4-49d7-844f-3108ca047de0",
   "metadata": {},
   "outputs": [
    {
     "data": {
      "text/html": [
       "<style type=\"text/css\">\n",
       "\ttable {border:ridge 5px;}\n",
       "\ttable td {border:inset 1px;}\n",
       "\ttable tr#HeaderRow {background-color:grey; color:white;}</style>\n",
       "<html><table>\n",
       "\t<tr id=\"HeaderRow\">\n",
       "\t\t<th>emp_name</th>\n",
       "\t\t<th>emp_sage</th>\n",
       "\t\t<th>emp_id</th>\n",
       "\t\t<th>marks</th>\n",
       "\t</tr>\n",
       "\t<tr>\n",
       "\t\t<td>A3</td>\n",
       "\t\t<td>300</td>\n",
       "\t\t<td>155</td>\n",
       "\t\t<td>94.67</td>\n",
       "\t</tr>\n",
       "\t<tr>\n",
       "\t\t<td>A4</td>\n",
       "\t\t<td>400</td>\n",
       "\t\t<td>177</td>\n",
       "\t\t<td>91.0</td>\n",
       "\t</tr>\n",
       "\t<tr>\n",
       "\t\t<td>A2</td>\n",
       "\t\t<td>200</td>\n",
       "\t\t<td>144</td>\n",
       "\t\t<td>97.32</td>\n",
       "\t</tr>\n",
       "\t<tr>\n",
       "\t\t<td>A1</td>\n",
       "\t\t<td>100</td>\n",
       "\t\t<td>133</td>\n",
       "\t\t<td>99.99</td>\n",
       "\t</tr>\n",
       "</table></html>"
      ],
      "text/plain": [
       "  emp_name  emp_sage  emp_id  marks\n",
       "0       A3       300     155  94.67\n",
       "1       A4       400     177  91.00\n",
       "2       A2       200     144  97.32\n",
       "3       A1       100     133  99.99"
      ]
     },
     "execution_count": 47,
     "metadata": {},
     "output_type": "execute_result"
    }
   ],
   "source": [
    "DataFrame(in_schema(schema_name, 'copy_to_pd_table_4'))"
   ]
  },
  {
   "cell_type": "markdown",
   "id": "68af0746-db7a-41d6-bb16-2c3ccbc5284b",
   "metadata": {},
   "source": [
    "<hr>\n",
    "<b style = 'font-size:16px;font-family:Arial;color:#E37C4D'>2.1.2 copy_to_sql: Source- teradataml DataFrame, Destination- Teradata Vantage</b>"
   ]
  },
  {
   "cell_type": "markdown",
   "id": "47ba87cf-2705-4b86-aa45-c925bd0d3102",
   "metadata": {},
   "source": [
    "#### Usecase 1: Save teradataml DataFrame to Teradata Vantage by only specifying table name."
   ]
  },
  {
   "cell_type": "markdown",
   "id": "8e1b0243-2ecf-4e1d-af5d-d019935b42a7",
   "metadata": {},
   "source": [
    "##### Note:\n",
    "- If table already exists, new data is appended to existing table. If table does not exist, `copy_to_sql()` creates table and loads data."
   ]
  },
  {
   "cell_type": "code",
   "execution_count": 48,
   "id": "372e756a-2ae6-45e3-8ab4-22ede4d864ae",
   "metadata": {},
   "outputs": [],
   "source": [
    "copy_to_sql(df=tdml_df,\n",
    "            table_name='copy_to_tdml_table_1')"
   ]
  },
  {
   "cell_type": "code",
   "execution_count": 49,
   "id": "c56be55f-60b4-43c4-8647-c81f365c8602",
   "metadata": {},
   "outputs": [
    {
     "data": {
      "text/html": [
       "<style type=\"text/css\">\n",
       "\ttable {border:ridge 5px;}\n",
       "\ttable td {border:inset 1px;}\n",
       "\ttable tr#HeaderRow {background-color:grey; color:white;}</style>\n",
       "<html><table>\n",
       "\t<tr id=\"HeaderRow\">\n",
       "\t\t<th>id</th>\n",
       "\t\t<th>masters</th>\n",
       "\t\t<th>gpa</th>\n",
       "\t\t<th>stats</th>\n",
       "\t\t<th>programming</th>\n",
       "\t\t<th>admitted</th>\n",
       "\t</tr>\n",
       "\t<tr>\n",
       "\t\t<td>34</td>\n",
       "\t\t<td>yes</td>\n",
       "\t\t<td>3.85</td>\n",
       "\t\t<td>Advanced</td>\n",
       "\t\t<td>Beginner</td>\n",
       "\t\t<td>0</td>\n",
       "\t</tr>\n",
       "\t<tr>\n",
       "\t\t<td>32</td>\n",
       "\t\t<td>yes</td>\n",
       "\t\t<td>3.46</td>\n",
       "\t\t<td>Advanced</td>\n",
       "\t\t<td>Beginner</td>\n",
       "\t\t<td>0</td>\n",
       "\t</tr>\n",
       "\t<tr>\n",
       "\t\t<td>11</td>\n",
       "\t\t<td>no</td>\n",
       "\t\t<td>3.13</td>\n",
       "\t\t<td>Advanced</td>\n",
       "\t\t<td>Advanced</td>\n",
       "\t\t<td>1</td>\n",
       "\t</tr>\n",
       "\t<tr>\n",
       "\t\t<td>30</td>\n",
       "\t\t<td>yes</td>\n",
       "\t\t<td>3.79</td>\n",
       "\t\t<td>Advanced</td>\n",
       "\t\t<td>Novice</td>\n",
       "\t\t<td>0</td>\n",
       "\t</tr>\n",
       "\t<tr>\n",
       "\t\t<td>28</td>\n",
       "\t\t<td>no</td>\n",
       "\t\t<td>3.93</td>\n",
       "\t\t<td>Advanced</td>\n",
       "\t\t<td>Advanced</td>\n",
       "\t\t<td>1</td>\n",
       "\t</tr>\n",
       "\t<tr>\n",
       "\t\t<td>16</td>\n",
       "\t\t<td>no</td>\n",
       "\t\t<td>3.7</td>\n",
       "\t\t<td>Advanced</td>\n",
       "\t\t<td>Advanced</td>\n",
       "\t\t<td>1</td>\n",
       "\t</tr>\n",
       "\t<tr>\n",
       "\t\t<td>9</td>\n",
       "\t\t<td>no</td>\n",
       "\t\t<td>3.82</td>\n",
       "\t\t<td>Advanced</td>\n",
       "\t\t<td>Advanced</td>\n",
       "\t\t<td>1</td>\n",
       "\t</tr>\n",
       "\t<tr>\n",
       "\t\t<td>13</td>\n",
       "\t\t<td>no</td>\n",
       "\t\t<td>4.0</td>\n",
       "\t\t<td>Advanced</td>\n",
       "\t\t<td>Novice</td>\n",
       "\t\t<td>1</td>\n",
       "\t</tr>\n",
       "\t<tr>\n",
       "\t\t<td>15</td>\n",
       "\t\t<td>yes</td>\n",
       "\t\t<td>4.0</td>\n",
       "\t\t<td>Advanced</td>\n",
       "\t\t<td>Advanced</td>\n",
       "\t\t<td>1</td>\n",
       "\t</tr>\n",
       "\t<tr>\n",
       "\t\t<td>17</td>\n",
       "\t\t<td>no</td>\n",
       "\t\t<td>3.83</td>\n",
       "\t\t<td>Advanced</td>\n",
       "\t\t<td>Advanced</td>\n",
       "\t\t<td>1</td>\n",
       "\t</tr>\n",
       "</table></html>"
      ],
      "text/plain": [
       "   id masters   gpa     stats programming  admitted\n",
       "0  34     yes  3.85  Advanced    Beginner         0\n",
       "1  32     yes  3.46  Advanced    Beginner         0\n",
       "2  11      no  3.13  Advanced    Advanced         1\n",
       "3  30     yes  3.79  Advanced      Novice         0\n",
       "4  28      no  3.93  Advanced    Advanced         1\n",
       "5  16      no  3.70  Advanced    Advanced         1\n",
       "6   9      no  3.82  Advanced    Advanced         1\n",
       "7  13      no  4.00  Advanced      Novice         1\n",
       "8  15     yes  4.00  Advanced    Advanced         1\n",
       "9  17      no  3.83  Advanced    Advanced         1"
      ]
     },
     "execution_count": 49,
     "metadata": {},
     "output_type": "execute_result"
    }
   ],
   "source": [
    "DataFrame('copy_to_tdml_table_1')"
   ]
  },
  {
   "cell_type": "markdown",
   "id": "6b3ddd44-6f91-4659-9575-00f17def8c3e",
   "metadata": {},
   "source": [
    "####  Usecase 2: Save teradataml DataFrame to Teradata Vantage in a fresh table."
   ]
  },
  {
   "cell_type": "code",
   "execution_count": 50,
   "id": "da4d66f2-41fd-4ebf-9e1d-31eb924a48e6",
   "metadata": {},
   "outputs": [],
   "source": [
    "copy_to_sql(df=tdml_df,\n",
    "            table_name='copy_to_tdml_table_1',\n",
    "            if_exists='replace')"
   ]
  },
  {
   "cell_type": "code",
   "execution_count": 51,
   "id": "f849e4e5-da0e-42c7-8f3f-0554945c443b",
   "metadata": {},
   "outputs": [
    {
     "data": {
      "text/html": [
       "<style type=\"text/css\">\n",
       "\ttable {border:ridge 5px;}\n",
       "\ttable td {border:inset 1px;}\n",
       "\ttable tr#HeaderRow {background-color:grey; color:white;}</style>\n",
       "<html><table>\n",
       "\t<tr id=\"HeaderRow\">\n",
       "\t\t<th>id</th>\n",
       "\t\t<th>masters</th>\n",
       "\t\t<th>gpa</th>\n",
       "\t\t<th>stats</th>\n",
       "\t\t<th>programming</th>\n",
       "\t\t<th>admitted</th>\n",
       "\t</tr>\n",
       "\t<tr>\n",
       "\t\t<td>34</td>\n",
       "\t\t<td>yes</td>\n",
       "\t\t<td>3.85</td>\n",
       "\t\t<td>Advanced</td>\n",
       "\t\t<td>Beginner</td>\n",
       "\t\t<td>0</td>\n",
       "\t</tr>\n",
       "\t<tr>\n",
       "\t\t<td>32</td>\n",
       "\t\t<td>yes</td>\n",
       "\t\t<td>3.46</td>\n",
       "\t\t<td>Advanced</td>\n",
       "\t\t<td>Beginner</td>\n",
       "\t\t<td>0</td>\n",
       "\t</tr>\n",
       "\t<tr>\n",
       "\t\t<td>11</td>\n",
       "\t\t<td>no</td>\n",
       "\t\t<td>3.13</td>\n",
       "\t\t<td>Advanced</td>\n",
       "\t\t<td>Advanced</td>\n",
       "\t\t<td>1</td>\n",
       "\t</tr>\n",
       "\t<tr>\n",
       "\t\t<td>30</td>\n",
       "\t\t<td>yes</td>\n",
       "\t\t<td>3.79</td>\n",
       "\t\t<td>Advanced</td>\n",
       "\t\t<td>Novice</td>\n",
       "\t\t<td>0</td>\n",
       "\t</tr>\n",
       "\t<tr>\n",
       "\t\t<td>28</td>\n",
       "\t\t<td>no</td>\n",
       "\t\t<td>3.93</td>\n",
       "\t\t<td>Advanced</td>\n",
       "\t\t<td>Advanced</td>\n",
       "\t\t<td>1</td>\n",
       "\t</tr>\n",
       "\t<tr>\n",
       "\t\t<td>16</td>\n",
       "\t\t<td>no</td>\n",
       "\t\t<td>3.7</td>\n",
       "\t\t<td>Advanced</td>\n",
       "\t\t<td>Advanced</td>\n",
       "\t\t<td>1</td>\n",
       "\t</tr>\n",
       "\t<tr>\n",
       "\t\t<td>9</td>\n",
       "\t\t<td>no</td>\n",
       "\t\t<td>3.82</td>\n",
       "\t\t<td>Advanced</td>\n",
       "\t\t<td>Advanced</td>\n",
       "\t\t<td>1</td>\n",
       "\t</tr>\n",
       "\t<tr>\n",
       "\t\t<td>13</td>\n",
       "\t\t<td>no</td>\n",
       "\t\t<td>4.0</td>\n",
       "\t\t<td>Advanced</td>\n",
       "\t\t<td>Novice</td>\n",
       "\t\t<td>1</td>\n",
       "\t</tr>\n",
       "\t<tr>\n",
       "\t\t<td>15</td>\n",
       "\t\t<td>yes</td>\n",
       "\t\t<td>4.0</td>\n",
       "\t\t<td>Advanced</td>\n",
       "\t\t<td>Advanced</td>\n",
       "\t\t<td>1</td>\n",
       "\t</tr>\n",
       "\t<tr>\n",
       "\t\t<td>17</td>\n",
       "\t\t<td>no</td>\n",
       "\t\t<td>3.83</td>\n",
       "\t\t<td>Advanced</td>\n",
       "\t\t<td>Advanced</td>\n",
       "\t\t<td>1</td>\n",
       "\t</tr>\n",
       "</table></html>"
      ],
      "text/plain": [
       "   id masters   gpa     stats programming  admitted\n",
       "0  34     yes  3.85  Advanced    Beginner         0\n",
       "1  32     yes  3.46  Advanced    Beginner         0\n",
       "2  11      no  3.13  Advanced    Advanced         1\n",
       "3  30     yes  3.79  Advanced      Novice         0\n",
       "4  28      no  3.93  Advanced    Advanced         1\n",
       "5  16      no  3.70  Advanced    Advanced         1\n",
       "6   9      no  3.82  Advanced    Advanced         1\n",
       "7  13      no  4.00  Advanced      Novice         1\n",
       "8  15     yes  4.00  Advanced    Advanced         1\n",
       "9  17      no  3.83  Advanced    Advanced         1"
      ]
     },
     "execution_count": 51,
     "metadata": {},
     "output_type": "execute_result"
    }
   ],
   "source": [
    "DataFrame('copy_to_tdml_table_1')"
   ]
  },
  {
   "cell_type": "markdown",
   "id": "f310d9d5-d1c6-49ab-b459-9d8b228fbb4e",
   "metadata": {},
   "source": [
    "#### Usecase 3: Save teradataml DataFrame to Teradata Vantage as a SET table. Also mention column to be used as primary index for destination table."
   ]
  },
  {
   "cell_type": "code",
   "execution_count": 52,
   "id": "11861cd0-d071-46d9-8f90-26ffe8dd6b0a",
   "metadata": {},
   "outputs": [],
   "source": [
    "copy_to_sql(df=tdml_df,\n",
    "            table_name='copy_to_tdml_set_table',\n",
    "            set_table=True,\n",
    "            primary_index='id')"
   ]
  },
  {
   "cell_type": "code",
   "execution_count": 53,
   "id": "12a7825e-3a62-4203-b2da-aa723b6a76ce",
   "metadata": {},
   "outputs": [],
   "source": [
    "set_table_df = DataFrame('copy_to_tdml_set_table')"
   ]
  },
  {
   "cell_type": "code",
   "execution_count": 54,
   "id": "473bf55e-00cc-419e-ae34-dcfb766dd8fe",
   "metadata": {},
   "outputs": [
    {
     "data": {
      "text/plain": [
       "['id']"
      ]
     },
     "execution_count": 54,
     "metadata": {},
     "output_type": "execute_result"
    }
   ],
   "source": [
    "set_table_df.index"
   ]
  },
  {
   "cell_type": "code",
   "execution_count": 55,
   "id": "35078ee5-c41b-4280-9440-3b654da0357a",
   "metadata": {},
   "outputs": [
    {
     "data": {
      "text/html": [
       "<style type=\"text/css\">\n",
       "\ttable {border:ridge 5px;}\n",
       "\ttable td {border:inset 1px;}\n",
       "\ttable tr#HeaderRow {background-color:grey; color:white;}</style>\n",
       "<html><table>\n",
       "\t<tr id=\"HeaderRow\">\n",
       "\t\t<th>id</th>\n",
       "\t\t<th>masters</th>\n",
       "\t\t<th>gpa</th>\n",
       "\t\t<th>stats</th>\n",
       "\t\t<th>programming</th>\n",
       "\t\t<th>admitted</th>\n",
       "\t</tr>\n",
       "\t<tr>\n",
       "\t\t<td>34</td>\n",
       "\t\t<td>yes</td>\n",
       "\t\t<td>3.85</td>\n",
       "\t\t<td>Advanced</td>\n",
       "\t\t<td>Beginner</td>\n",
       "\t\t<td>0</td>\n",
       "\t</tr>\n",
       "\t<tr>\n",
       "\t\t<td>32</td>\n",
       "\t\t<td>yes</td>\n",
       "\t\t<td>3.46</td>\n",
       "\t\t<td>Advanced</td>\n",
       "\t\t<td>Beginner</td>\n",
       "\t\t<td>0</td>\n",
       "\t</tr>\n",
       "\t<tr>\n",
       "\t\t<td>11</td>\n",
       "\t\t<td>no</td>\n",
       "\t\t<td>3.13</td>\n",
       "\t\t<td>Advanced</td>\n",
       "\t\t<td>Advanced</td>\n",
       "\t\t<td>1</td>\n",
       "\t</tr>\n",
       "\t<tr>\n",
       "\t\t<td>40</td>\n",
       "\t\t<td>yes</td>\n",
       "\t\t<td>3.95</td>\n",
       "\t\t<td>Novice</td>\n",
       "\t\t<td>Beginner</td>\n",
       "\t\t<td>0</td>\n",
       "\t</tr>\n",
       "\t<tr>\n",
       "\t\t<td>38</td>\n",
       "\t\t<td>yes</td>\n",
       "\t\t<td>2.65</td>\n",
       "\t\t<td>Advanced</td>\n",
       "\t\t<td>Beginner</td>\n",
       "\t\t<td>1</td>\n",
       "\t</tr>\n",
       "\t<tr>\n",
       "\t\t<td>36</td>\n",
       "\t\t<td>no</td>\n",
       "\t\t<td>3.0</td>\n",
       "\t\t<td>Advanced</td>\n",
       "\t\t<td>Novice</td>\n",
       "\t\t<td>0</td>\n",
       "\t</tr>\n",
       "\t<tr>\n",
       "\t\t<td>7</td>\n",
       "\t\t<td>yes</td>\n",
       "\t\t<td>2.33</td>\n",
       "\t\t<td>Novice</td>\n",
       "\t\t<td>Novice</td>\n",
       "\t\t<td>1</td>\n",
       "\t</tr>\n",
       "\t<tr>\n",
       "\t\t<td>26</td>\n",
       "\t\t<td>yes</td>\n",
       "\t\t<td>3.57</td>\n",
       "\t\t<td>Advanced</td>\n",
       "\t\t<td>Advanced</td>\n",
       "\t\t<td>1</td>\n",
       "\t</tr>\n",
       "\t<tr>\n",
       "\t\t<td>19</td>\n",
       "\t\t<td>yes</td>\n",
       "\t\t<td>1.98</td>\n",
       "\t\t<td>Advanced</td>\n",
       "\t\t<td>Advanced</td>\n",
       "\t\t<td>0</td>\n",
       "\t</tr>\n",
       "\t<tr>\n",
       "\t\t<td>13</td>\n",
       "\t\t<td>no</td>\n",
       "\t\t<td>4.0</td>\n",
       "\t\t<td>Advanced</td>\n",
       "\t\t<td>Novice</td>\n",
       "\t\t<td>1</td>\n",
       "\t</tr>\n",
       "</table></html>"
      ],
      "text/plain": [
       "   masters   gpa     stats programming  admitted\n",
       "id                                              \n",
       "34     yes  3.85  Advanced    Beginner         0\n",
       "32     yes  3.46  Advanced    Beginner         0\n",
       "11      no  3.13  Advanced    Advanced         1\n",
       "40     yes  3.95    Novice    Beginner         0\n",
       "38     yes  2.65  Advanced    Beginner         1\n",
       "36      no  3.00  Advanced      Novice         0\n",
       "7      yes  2.33    Novice      Novice         1\n",
       "26     yes  3.57  Advanced    Advanced         1\n",
       "19     yes  1.98  Advanced    Advanced         0\n",
       "13      no  4.00  Advanced      Novice         1"
      ]
     },
     "execution_count": 55,
     "metadata": {},
     "output_type": "execute_result"
    }
   ],
   "source": [
    "set_table_df"
   ]
  },
  {
   "cell_type": "markdown",
   "id": "bee29f41-7b03-475a-b18c-c131cd93836b",
   "metadata": {},
   "source": [
    "#### Usecase 4: Save teradataml DataFrame in destination schema."
   ]
  },
  {
   "cell_type": "markdown",
   "id": "4752def2-0dc8-4648-8ff9-0dfa31bc0a6a",
   "metadata": {},
   "source": [
    "Notes:\n",
    "- User must have create table rights on provided schema."
   ]
  },
  {
   "cell_type": "code",
   "execution_count": 56,
   "id": "5c90ff13-ad69-454f-ac4c-2095b943e2c0",
   "metadata": {},
   "outputs": [
    {
     "name": "stdin",
     "output_type": "stream",
     "text": [
      "Schema name:  ········\n"
     ]
    }
   ],
   "source": [
    "schema_name = getpass.getpass(\"Schema name: \")"
   ]
  },
  {
   "cell_type": "code",
   "execution_count": 57,
   "id": "1074c488-0430-485e-9eb1-51267308bae2",
   "metadata": {},
   "outputs": [],
   "source": [
    "copy_to_sql(df=tdml_df,\n",
    "            table_name='copy_to_tdml_table_2',\n",
    "            schema_name=schema_name)"
   ]
  },
  {
   "cell_type": "code",
   "execution_count": 58,
   "id": "2de2dc73-792f-4e23-aa9d-aa890672e169",
   "metadata": {},
   "outputs": [
    {
     "data": {
      "text/html": [
       "<style type=\"text/css\">\n",
       "\ttable {border:ridge 5px;}\n",
       "\ttable td {border:inset 1px;}\n",
       "\ttable tr#HeaderRow {background-color:grey; color:white;}</style>\n",
       "<html><table>\n",
       "\t<tr id=\"HeaderRow\">\n",
       "\t\t<th>id</th>\n",
       "\t\t<th>masters</th>\n",
       "\t\t<th>gpa</th>\n",
       "\t\t<th>stats</th>\n",
       "\t\t<th>programming</th>\n",
       "\t\t<th>admitted</th>\n",
       "\t</tr>\n",
       "\t<tr>\n",
       "\t\t<td>38</td>\n",
       "\t\t<td>yes</td>\n",
       "\t\t<td>2.65</td>\n",
       "\t\t<td>Advanced</td>\n",
       "\t\t<td>Beginner</td>\n",
       "\t\t<td>1</td>\n",
       "\t</tr>\n",
       "\t<tr>\n",
       "\t\t<td>7</td>\n",
       "\t\t<td>yes</td>\n",
       "\t\t<td>2.33</td>\n",
       "\t\t<td>Novice</td>\n",
       "\t\t<td>Novice</td>\n",
       "\t\t<td>1</td>\n",
       "\t</tr>\n",
       "\t<tr>\n",
       "\t\t<td>26</td>\n",
       "\t\t<td>yes</td>\n",
       "\t\t<td>3.57</td>\n",
       "\t\t<td>Advanced</td>\n",
       "\t\t<td>Advanced</td>\n",
       "\t\t<td>1</td>\n",
       "\t</tr>\n",
       "\t<tr>\n",
       "\t\t<td>5</td>\n",
       "\t\t<td>no</td>\n",
       "\t\t<td>3.44</td>\n",
       "\t\t<td>Novice</td>\n",
       "\t\t<td>Novice</td>\n",
       "\t\t<td>0</td>\n",
       "\t</tr>\n",
       "\t<tr>\n",
       "\t\t<td>3</td>\n",
       "\t\t<td>no</td>\n",
       "\t\t<td>3.7</td>\n",
       "\t\t<td>Novice</td>\n",
       "\t\t<td>Beginner</td>\n",
       "\t\t<td>1</td>\n",
       "\t</tr>\n",
       "\t<tr>\n",
       "\t\t<td>22</td>\n",
       "\t\t<td>yes</td>\n",
       "\t\t<td>3.46</td>\n",
       "\t\t<td>Novice</td>\n",
       "\t\t<td>Beginner</td>\n",
       "\t\t<td>0</td>\n",
       "\t</tr>\n",
       "\t<tr>\n",
       "\t\t<td>24</td>\n",
       "\t\t<td>no</td>\n",
       "\t\t<td>1.87</td>\n",
       "\t\t<td>Advanced</td>\n",
       "\t\t<td>Novice</td>\n",
       "\t\t<td>1</td>\n",
       "\t</tr>\n",
       "\t<tr>\n",
       "\t\t<td>36</td>\n",
       "\t\t<td>no</td>\n",
       "\t\t<td>3.0</td>\n",
       "\t\t<td>Advanced</td>\n",
       "\t\t<td>Novice</td>\n",
       "\t\t<td>0</td>\n",
       "\t</tr>\n",
       "\t<tr>\n",
       "\t\t<td>19</td>\n",
       "\t\t<td>yes</td>\n",
       "\t\t<td>1.98</td>\n",
       "\t\t<td>Advanced</td>\n",
       "\t\t<td>Advanced</td>\n",
       "\t\t<td>0</td>\n",
       "\t</tr>\n",
       "\t<tr>\n",
       "\t\t<td>40</td>\n",
       "\t\t<td>yes</td>\n",
       "\t\t<td>3.95</td>\n",
       "\t\t<td>Novice</td>\n",
       "\t\t<td>Beginner</td>\n",
       "\t\t<td>0</td>\n",
       "\t</tr>\n",
       "</table></html>"
      ],
      "text/plain": [
       "   id masters   gpa     stats programming  admitted\n",
       "0  38     yes  2.65  Advanced    Beginner         1\n",
       "1   7     yes  2.33    Novice      Novice         1\n",
       "2  26     yes  3.57  Advanced    Advanced         1\n",
       "3   5      no  3.44    Novice      Novice         0\n",
       "4   3      no  3.70    Novice    Beginner         1\n",
       "5  22     yes  3.46    Novice    Beginner         0\n",
       "6  24      no  1.87  Advanced      Novice         1\n",
       "7  36      no  3.00  Advanced      Novice         0\n",
       "8  19     yes  1.98  Advanced    Advanced         0\n",
       "9  40     yes  3.95    Novice    Beginner         0"
      ]
     },
     "execution_count": 58,
     "metadata": {},
     "output_type": "execute_result"
    }
   ],
   "source": [
    "DataFrame(in_schema(schema_name, 'copy_to_tdml_table_2'))"
   ]
  },
  {
   "cell_type": "markdown",
   "id": "96aa0c10-047b-4966-9b9d-82f7499176c7",
   "metadata": {},
   "source": [
    "#### Usecase 5 : Save teradataml DataFrame having timestamp data into Teradata Vantage as a PTI table."
   ]
  },
  {
   "cell_type": "markdown",
   "id": "21f9c909-c48a-4aae-9460-9413880ee77d",
   "metadata": {},
   "source": [
    "Notes:\n",
    "- `primary_time_index_name`, `timecode_column`, `timebucket_duration`, `timezero_date`, `columns_list`, `sequence_column`, `seq_max` are only applicable for time series data."
   ]
  },
  {
   "cell_type": "code",
   "execution_count": 59,
   "id": "7fe11d53-ba7c-42f8-85b0-24f94733e672",
   "metadata": {},
   "outputs": [],
   "source": [
    "copy_to_sql(df=tdml_time_df,\n",
    "            table_name='copy_to_pti_table',\n",
    "            timecode_column='clicktime',\n",
    "            primary_time_index_name='pti_name',\n",
    "            timebucket_duration='HOURS(2)',\n",
    "            timezero_date=\"DATE '2009-01-01'\",\n",
    "            columns_list='event',\n",
    "            sequence_column='adid',\n",
    "            seq_max=10)"
   ]
  },
  {
   "cell_type": "code",
   "execution_count": 61,
   "id": "a9397fcb-d844-451e-b81c-e1884d2b2656",
   "metadata": {},
   "outputs": [
    {
     "data": {
      "text/html": [
       "<style type=\"text/css\">\n",
       "\ttable {border:ridge 5px;}\n",
       "\ttable td {border:inset 1px;}\n",
       "\ttable tr#HeaderRow {background-color:grey; color:white;}</style>\n",
       "<html><table>\n",
       "\t<tr id=\"HeaderRow\">\n",
       "\t\t<th>TD_TIMECODE</th>\n",
       "\t\t<th>TD_SEQNO</th>\n",
       "\t\t<th>partition_id</th>\n",
       "\t\t<th>productid</th>\n",
       "\t\t<th>event</th>\n",
       "\t</tr>\n",
       "\t<tr>\n",
       "\t\t<td>2009-03-19 01:18:08.000000</td>\n",
       "\t\t<td>1</td>\n",
       "\t\t<td>1199</td>\n",
       "\t\t<td>1001</td>\n",
       "\t\t<td>click</td>\n",
       "\t</tr>\n",
       "\t<tr>\n",
       "\t\t<td>2009-03-19 16:43:09.000000</td>\n",
       "\t\t<td>1</td>\n",
       "\t\t<td>1199</td>\n",
       "\t\t<td>1001</td>\n",
       "\t\t<td>view</td>\n",
       "\t</tr>\n",
       "\t<tr>\n",
       "\t\t<td>2009-03-19 16:43:09.000000</td>\n",
       "\t\t<td>1</td>\n",
       "\t\t<td>1199</td>\n",
       "\t\t<td>1001</td>\n",
       "\t\t<td>view</td>\n",
       "\t</tr>\n",
       "\t<tr>\n",
       "\t\t<td>2009-02-09 15:17:59.000000</td>\n",
       "\t\t<td>4</td>\n",
       "\t\t<td>1263</td>\n",
       "\t\t<td>1001</td>\n",
       "\t\t<td>view</td>\n",
       "\t</tr>\n",
       "\t<tr>\n",
       "\t\t<td>2009-03-09 21:17:59.000000</td>\n",
       "\t\t<td>2</td>\n",
       "\t\t<td>1199</td>\n",
       "\t\t<td>1001</td>\n",
       "\t\t<td>view</td>\n",
       "\t</tr>\n",
       "\t<tr>\n",
       "\t\t<td>2009-03-13 17:17:59.000000</td>\n",
       "\t\t<td>4</td>\n",
       "\t\t<td>1071</td>\n",
       "\t\t<td>1001</td>\n",
       "\t\t<td>view</td>\n",
       "\t</tr>\n",
       "\t<tr>\n",
       "\t\t<td>2009-03-13 17:17:59.000000</td>\n",
       "\t\t<td>4</td>\n",
       "\t\t<td>1071</td>\n",
       "\t\t<td>1001</td>\n",
       "\t\t<td>view</td>\n",
       "\t</tr>\n",
       "\t<tr>\n",
       "\t\t<td>2009-03-19 01:18:09.000000</td>\n",
       "\t\t<td>1</td>\n",
       "\t\t<td>1199</td>\n",
       "\t\t<td>1001</td>\n",
       "\t\t<td>landing_page</td>\n",
       "\t</tr>\n",
       "\t<tr>\n",
       "\t\t<td>2009-03-09 21:17:59.000000</td>\n",
       "\t\t<td>2</td>\n",
       "\t\t<td>1199</td>\n",
       "\t\t<td>1001</td>\n",
       "\t\t<td>view</td>\n",
       "\t</tr>\n",
       "\t<tr>\n",
       "\t\t<td>2009-03-19 01:18:08.000000</td>\n",
       "\t\t<td>1</td>\n",
       "\t\t<td>1199</td>\n",
       "\t\t<td>1001</td>\n",
       "\t\t<td>click</td>\n",
       "\t</tr>\n",
       "</table></html>"
      ],
      "text/plain": [
       "                             TD_TIMECODE  TD_SEQNO  partition_id  productid\n",
       "event                                                                      \n",
       "click         2009-03-19 01:18:08.000000         1          1199       1001\n",
       "view          2009-03-19 16:43:09.000000         1          1199       1001\n",
       "view          2009-03-19 16:43:09.000000         1          1199       1001\n",
       "view          2009-02-09 15:17:59.000000         4          1263       1001\n",
       "view          2009-03-09 21:17:59.000000         2          1199       1001\n",
       "view          2009-03-13 17:17:59.000000         4          1071       1001\n",
       "view          2009-03-13 17:17:59.000000         4          1071       1001\n",
       "landing_page  2009-03-19 01:18:09.000000         1          1199       1001\n",
       "view          2009-03-09 21:17:59.000000         2          1199       1001\n",
       "click         2009-03-19 01:18:08.000000         1          1199       1001"
      ]
     },
     "execution_count": 61,
     "metadata": {},
     "output_type": "execute_result"
    }
   ],
   "source": [
    "time_tdml_df = DataFrame('copy_to_pti_table')\n",
    "time_tdml_df"
   ]
  },
  {
   "cell_type": "markdown",
   "id": "c9aa8290-df44-45e4-b76f-ae3f17d385b6",
   "metadata": {},
   "source": [
    "<hr>\n",
    "<b style = 'font-size:17px;font-family:Arial;color:#E37C4D'>2.2 fastload</b>"
   ]
  },
  {
   "cell_type": "markdown",
   "id": "4bec1903-2880-4745-9942-f96769e93f73",
   "metadata": {},
   "source": [
    "##### Notes:\n",
    "- Teradata recommends to use `fastload()` API only when number of rows in the source DataFrame is greater than 100,000 to have better performance. To insert lesser rows, please use `copy_to_sql()` for optimized performance.\n",
    "- All Teradata types are not supported with fastload(). For example, target table having BLOB and CLOB data type columns cannot be loaded.\n",
    "- If destination table already exists, existing table will be dropped and new table will be created by default. Use `if_exists` argument to alter this behavior.\n",
    "- Index columns in source pandas DataFrame will not be reflected in destination table by default. Use `index`, `index_label` arguments to alter this behavior.\n",
    "- Newly created destination table is always a MULTISET table.\n",
    "- Duplicate rows in the source DataFrame are not loaded, if the destination table is a MULTISET table having primary index.\n",
    "- Data will be loaded in chunks of default size. Use `batch_size` argument to alter this size.\n",
    "- Default number of data-transfer sessions (smaller of 8 or the number of AMPs available) are opened during fastload. Use `open_sessions` argument to alter this behavior. For additional information about number of Teradata data-transfer sessions opened during fastload, please refer to: https://pypi.org/project/teradatasql/#FastLoad\n",
    "- Destination table is created in default database. Use `schema_name` argument to alter this behavior.\n",
    "- Errors and warnings information is not persisted as tables by default, rather it is available as pandas dataframes in returned dictionary containing keys named as `errors_dataframe` and `warnings_dataframe` respectively. Use `save_errors` as `True` in combination with `err_tbl_name`, `warn_tbl_name`, `err_staging_db`, `err_tbl_1_suffix`, `err_tbl_2_suffix` arguments to alter this bevavior."
   ]
  },
  {
   "cell_type": "markdown",
   "id": "8f898e76-8e8b-4205-a0fd-7cba467db01d",
   "metadata": {},
   "source": [
    "<hr>\n",
    "<b style = 'font-size:16px;font-family:Arial;color:#E37C4D'>2.2.1 fastload: Source - pandas DataFrame, Destination - Teradata Vantage</b>"
   ]
  },
  {
   "cell_type": "markdown",
   "id": "9bc0c42e-579c-49fe-9a6c-e7951d735604",
   "metadata": {},
   "source": [
    "#### Usecase 1: Save Pandas DataFrame to Teradata Vantage table."
   ]
  },
  {
   "cell_type": "markdown",
   "id": "adc2382f-3393-4bf2-90d6-7c977f356e87",
   "metadata": {},
   "source": [
    "##### Note:\n",
    "- If table already exists, it will be dropped and new table will be created."
   ]
  },
  {
   "cell_type": "code",
   "execution_count": 63,
   "id": "b2aadb26-de9c-4a53-b698-f548fed03322",
   "metadata": {},
   "outputs": [
    {
     "name": "stdout",
     "output_type": "stream",
     "text": [
      "Processed 4 rows in batch 1.\n"
     ]
    },
    {
     "data": {
      "text/plain": [
       "{'errors_dataframe': Empty DataFrame\n",
       " Columns: []\n",
       " Index: [],\n",
       " 'warnings_dataframe': Empty DataFrame\n",
       " Columns: []\n",
       " Index: [],\n",
       " 'errors_table': '',\n",
       " 'warnings_table': '',\n",
       " 'ERR_1_table': '',\n",
       " 'ERR_2_table': ''}"
      ]
     },
     "execution_count": 63,
     "metadata": {},
     "output_type": "execute_result"
    }
   ],
   "source": [
    "fastload(df=pandas_df,\n",
    "         table_name='fastload_table')"
   ]
  },
  {
   "cell_type": "code",
   "execution_count": 64,
   "id": "4858a8be-7552-4149-adf8-ec8db844c1a6",
   "metadata": {},
   "outputs": [
    {
     "data": {
      "text/html": [
       "<style type=\"text/css\">\n",
       "\ttable {border:ridge 5px;}\n",
       "\ttable td {border:inset 1px;}\n",
       "\ttable tr#HeaderRow {background-color:grey; color:white;}</style>\n",
       "<html><table>\n",
       "\t<tr id=\"HeaderRow\">\n",
       "\t\t<th>emp_name</th>\n",
       "\t\t<th>emp_sage</th>\n",
       "\t\t<th>emp_id</th>\n",
       "\t\t<th>marks</th>\n",
       "\t</tr>\n",
       "\t<tr>\n",
       "\t\t<td>A2</td>\n",
       "\t\t<td>200</td>\n",
       "\t\t<td>144</td>\n",
       "\t\t<td>97.32</td>\n",
       "\t</tr>\n",
       "\t<tr>\n",
       "\t\t<td>A4</td>\n",
       "\t\t<td>400</td>\n",
       "\t\t<td>177</td>\n",
       "\t\t<td>91.0</td>\n",
       "\t</tr>\n",
       "\t<tr>\n",
       "\t\t<td>A3</td>\n",
       "\t\t<td>300</td>\n",
       "\t\t<td>155</td>\n",
       "\t\t<td>94.67</td>\n",
       "\t</tr>\n",
       "\t<tr>\n",
       "\t\t<td>A1</td>\n",
       "\t\t<td>100</td>\n",
       "\t\t<td>133</td>\n",
       "\t\t<td>99.99</td>\n",
       "\t</tr>\n",
       "</table></html>"
      ],
      "text/plain": [
       "  emp_name  emp_sage  emp_id  marks\n",
       "0       A2       200     144  97.32\n",
       "1       A4       400     177  91.00\n",
       "2       A3       300     155  94.67\n",
       "3       A1       100     133  99.99"
      ]
     },
     "execution_count": 64,
     "metadata": {},
     "output_type": "execute_result"
    }
   ],
   "source": [
    "DataFrame('fastload_table')"
   ]
  },
  {
   "cell_type": "markdown",
   "id": "260623d1-c072-4c2d-984d-df62fd61ce33",
   "metadata": {},
   "source": [
    "####  Usecase 2: Save teradataml DataFrame to an existing Teradata Vantage table."
   ]
  },
  {
   "cell_type": "code",
   "execution_count": 65,
   "id": "b1958c62-7a27-433d-9d7b-7b2137b13d69",
   "metadata": {},
   "outputs": [
    {
     "name": "stdout",
     "output_type": "stream",
     "text": [
      "Processed 4 rows in batch 1.\n"
     ]
    },
    {
     "data": {
      "text/plain": [
       "{'errors_dataframe': Empty DataFrame\n",
       " Columns: []\n",
       " Index: [],\n",
       " 'warnings_dataframe': Empty DataFrame\n",
       " Columns: []\n",
       " Index: [],\n",
       " 'errors_table': '',\n",
       " 'warnings_table': '',\n",
       " 'ERR_1_table': '',\n",
       " 'ERR_2_table': ''}"
      ]
     },
     "execution_count": 65,
     "metadata": {},
     "output_type": "execute_result"
    }
   ],
   "source": [
    "fastload(df=pandas_df,\n",
    "         table_name='fastload_table',\n",
    "         if_exists='append')"
   ]
  },
  {
   "cell_type": "code",
   "execution_count": 66,
   "id": "83dca2f5-5e10-4714-b440-2addf77947d4",
   "metadata": {},
   "outputs": [
    {
     "data": {
      "text/html": [
       "<style type=\"text/css\">\n",
       "\ttable {border:ridge 5px;}\n",
       "\ttable td {border:inset 1px;}\n",
       "\ttable tr#HeaderRow {background-color:grey; color:white;}</style>\n",
       "<html><table>\n",
       "\t<tr id=\"HeaderRow\">\n",
       "\t\t<th>emp_name</th>\n",
       "\t\t<th>emp_sage</th>\n",
       "\t\t<th>emp_id</th>\n",
       "\t\t<th>marks</th>\n",
       "\t</tr>\n",
       "\t<tr>\n",
       "\t\t<td>A2</td>\n",
       "\t\t<td>200</td>\n",
       "\t\t<td>144</td>\n",
       "\t\t<td>97.32</td>\n",
       "\t</tr>\n",
       "\t<tr>\n",
       "\t\t<td>A1</td>\n",
       "\t\t<td>100</td>\n",
       "\t\t<td>133</td>\n",
       "\t\t<td>99.99</td>\n",
       "\t</tr>\n",
       "\t<tr>\n",
       "\t\t<td>A3</td>\n",
       "\t\t<td>300</td>\n",
       "\t\t<td>155</td>\n",
       "\t\t<td>94.67</td>\n",
       "\t</tr>\n",
       "\t<tr>\n",
       "\t\t<td>A1</td>\n",
       "\t\t<td>100</td>\n",
       "\t\t<td>133</td>\n",
       "\t\t<td>99.99</td>\n",
       "\t</tr>\n",
       "\t<tr>\n",
       "\t\t<td>A3</td>\n",
       "\t\t<td>300</td>\n",
       "\t\t<td>155</td>\n",
       "\t\t<td>94.67</td>\n",
       "\t</tr>\n",
       "\t<tr>\n",
       "\t\t<td>A4</td>\n",
       "\t\t<td>400</td>\n",
       "\t\t<td>177</td>\n",
       "\t\t<td>91.0</td>\n",
       "\t</tr>\n",
       "\t<tr>\n",
       "\t\t<td>A4</td>\n",
       "\t\t<td>400</td>\n",
       "\t\t<td>177</td>\n",
       "\t\t<td>91.0</td>\n",
       "\t</tr>\n",
       "\t<tr>\n",
       "\t\t<td>A2</td>\n",
       "\t\t<td>200</td>\n",
       "\t\t<td>144</td>\n",
       "\t\t<td>97.32</td>\n",
       "\t</tr>\n",
       "</table></html>"
      ],
      "text/plain": [
       "  emp_name  emp_sage  emp_id  marks\n",
       "0       A2       200     144  97.32\n",
       "1       A1       100     133  99.99\n",
       "2       A3       300     155  94.67\n",
       "3       A1       100     133  99.99\n",
       "4       A3       300     155  94.67\n",
       "5       A4       400     177  91.00\n",
       "6       A4       400     177  91.00\n",
       "7       A2       200     144  97.32"
      ]
     },
     "execution_count": 66,
     "metadata": {},
     "output_type": "execute_result"
    }
   ],
   "source": [
    "DataFrame('fastload_table')"
   ]
  },
  {
   "cell_type": "markdown",
   "id": "dd59ca68-58fb-4dc7-99c8-769d27fd8782",
   "metadata": {},
   "source": [
    "#### Usecase 3: Save Pandas DataFrame to Teradata Vantage table and set primary index."
   ]
  },
  {
   "cell_type": "code",
   "execution_count": 67,
   "id": "30d68ff4-c488-4872-bf6c-19ff07b54abd",
   "metadata": {},
   "outputs": [
    {
     "name": "stdout",
     "output_type": "stream",
     "text": [
      "Processed 4 rows in batch 1.\n"
     ]
    },
    {
     "data": {
      "text/plain": [
       "{'errors_dataframe': Empty DataFrame\n",
       " Columns: []\n",
       " Index: [],\n",
       " 'warnings_dataframe': Empty DataFrame\n",
       " Columns: []\n",
       " Index: [],\n",
       " 'errors_table': '',\n",
       " 'warnings_table': '',\n",
       " 'ERR_1_table': '',\n",
       " 'ERR_2_table': ''}"
      ]
     },
     "execution_count": 67,
     "metadata": {},
     "output_type": "execute_result"
    }
   ],
   "source": [
    "fastload(df=pandas_df,\n",
    "         table_name='fastload_table_1',\n",
    "         primary_index=['emp_id'])"
   ]
  },
  {
   "cell_type": "code",
   "execution_count": 68,
   "id": "c601fe5f-c707-4a77-99a0-11a636f0bd33",
   "metadata": {},
   "outputs": [
    {
     "data": {
      "text/html": [
       "<style type=\"text/css\">\n",
       "\ttable {border:ridge 5px;}\n",
       "\ttable td {border:inset 1px;}\n",
       "\ttable tr#HeaderRow {background-color:grey; color:white;}</style>\n",
       "<html><table>\n",
       "\t<tr id=\"HeaderRow\">\n",
       "\t\t<th>emp_name</th>\n",
       "\t\t<th>emp_sage</th>\n",
       "\t\t<th>emp_id</th>\n",
       "\t\t<th>marks</th>\n",
       "\t</tr>\n",
       "\t<tr>\n",
       "\t\t<td>A1</td>\n",
       "\t\t<td>100</td>\n",
       "\t\t<td>133</td>\n",
       "\t\t<td>99.99</td>\n",
       "\t</tr>\n",
       "\t<tr>\n",
       "\t\t<td>A2</td>\n",
       "\t\t<td>200</td>\n",
       "\t\t<td>144</td>\n",
       "\t\t<td>97.32</td>\n",
       "\t</tr>\n",
       "\t<tr>\n",
       "\t\t<td>A3</td>\n",
       "\t\t<td>300</td>\n",
       "\t\t<td>155</td>\n",
       "\t\t<td>94.67</td>\n",
       "\t</tr>\n",
       "\t<tr>\n",
       "\t\t<td>A4</td>\n",
       "\t\t<td>400</td>\n",
       "\t\t<td>177</td>\n",
       "\t\t<td>91.0</td>\n",
       "\t</tr>\n",
       "</table></html>"
      ],
      "text/plain": [
       "       emp_name  emp_sage  marks\n",
       "emp_id                          \n",
       "133          A1       100  99.99\n",
       "144          A2       200  97.32\n",
       "155          A3       300  94.67\n",
       "177          A4       400  91.00"
      ]
     },
     "execution_count": 68,
     "metadata": {},
     "output_type": "execute_result"
    }
   ],
   "source": [
    "fastload_tdml_df = DataFrame('fastload_table_1')\n",
    "fastload_tdml_df"
   ]
  },
  {
   "cell_type": "code",
   "execution_count": 69,
   "id": "adf93038-682f-4d7b-a453-a3dc3fe384b7",
   "metadata": {},
   "outputs": [
    {
     "data": {
      "text/plain": [
       "['emp_id']"
      ]
     },
     "execution_count": 69,
     "metadata": {},
     "output_type": "execute_result"
    }
   ],
   "source": [
    "fastload_tdml_df.index"
   ]
  },
  {
   "cell_type": "markdown",
   "id": "0787b164-825d-44df-a51e-1d8461bde0f0",
   "metadata": {},
   "source": [
    "#### Usecase 4: Save Pandas DataFrame having index to Teradata Vantage and retain index column in pandas DataFrame in destination table."
   ]
  },
  {
   "cell_type": "markdown",
   "id": "a11987a5-0079-4031-80b4-536189f473a6",
   "metadata": {},
   "source": [
    "Note:\n",
    "- `index_label` is applicable only when `index` is `True`."
   ]
  },
  {
   "cell_type": "code",
   "execution_count": 70,
   "id": "20d954aa-7e81-41fa-8519-007def6a664c",
   "metadata": {},
   "outputs": [
    {
     "data": {
      "text/html": [
       "<div>\n",
       "<style scoped>\n",
       "    .dataframe tbody tr th:only-of-type {\n",
       "        vertical-align: middle;\n",
       "    }\n",
       "\n",
       "    .dataframe tbody tr th {\n",
       "        vertical-align: top;\n",
       "    }\n",
       "\n",
       "    .dataframe thead th {\n",
       "        text-align: right;\n",
       "    }\n",
       "</style>\n",
       "<table border=\"1\" class=\"dataframe\">\n",
       "  <thead>\n",
       "    <tr style=\"text-align: right;\">\n",
       "      <th></th>\n",
       "      <th>emp_name</th>\n",
       "      <th>emp_sage</th>\n",
       "      <th>emp_id</th>\n",
       "      <th>marks</th>\n",
       "    </tr>\n",
       "  </thead>\n",
       "  <tbody>\n",
       "    <tr>\n",
       "      <th>0</th>\n",
       "      <td>A1</td>\n",
       "      <td>100</td>\n",
       "      <td>133</td>\n",
       "      <td>99.99</td>\n",
       "    </tr>\n",
       "    <tr>\n",
       "      <th>1</th>\n",
       "      <td>A2</td>\n",
       "      <td>200</td>\n",
       "      <td>144</td>\n",
       "      <td>97.32</td>\n",
       "    </tr>\n",
       "    <tr>\n",
       "      <th>2</th>\n",
       "      <td>A3</td>\n",
       "      <td>300</td>\n",
       "      <td>155</td>\n",
       "      <td>94.67</td>\n",
       "    </tr>\n",
       "    <tr>\n",
       "      <th>3</th>\n",
       "      <td>A4</td>\n",
       "      <td>400</td>\n",
       "      <td>177</td>\n",
       "      <td>91.00</td>\n",
       "    </tr>\n",
       "  </tbody>\n",
       "</table>\n",
       "</div>"
      ],
      "text/plain": [
       "  emp_name  emp_sage  emp_id  marks\n",
       "0       A1       100     133  99.99\n",
       "1       A2       200     144  97.32\n",
       "2       A3       300     155  94.67\n",
       "3       A4       400     177  91.00"
      ]
     },
     "execution_count": 70,
     "metadata": {},
     "output_type": "execute_result"
    }
   ],
   "source": [
    "pandas_df"
   ]
  },
  {
   "cell_type": "code",
   "execution_count": 71,
   "id": "8230d872-2f11-40ba-a9f3-ed9a7d419a8c",
   "metadata": {},
   "outputs": [],
   "source": [
    "indexed_pandas_df = pandas_df.set_index(['emp_id', 'emp_name'], inplace=False)"
   ]
  },
  {
   "cell_type": "code",
   "execution_count": 72,
   "id": "51914336-3d52-44ae-a9e3-c27743bcb02d",
   "metadata": {},
   "outputs": [
    {
     "data": {
      "text/plain": [
       "MultiIndex([(133, 'A1'),\n",
       "            (144, 'A2'),\n",
       "            (155, 'A3'),\n",
       "            (177, 'A4')],\n",
       "           names=['emp_id', 'emp_name'])"
      ]
     },
     "execution_count": 72,
     "metadata": {},
     "output_type": "execute_result"
    }
   ],
   "source": [
    "indexed_pandas_df.index"
   ]
  },
  {
   "cell_type": "code",
   "execution_count": 73,
   "id": "62e8cb7a-f1b7-4fe3-aa69-75cd18c752e3",
   "metadata": {},
   "outputs": [
    {
     "data": {
      "text/html": [
       "<div>\n",
       "<style scoped>\n",
       "    .dataframe tbody tr th:only-of-type {\n",
       "        vertical-align: middle;\n",
       "    }\n",
       "\n",
       "    .dataframe tbody tr th {\n",
       "        vertical-align: top;\n",
       "    }\n",
       "\n",
       "    .dataframe thead th {\n",
       "        text-align: right;\n",
       "    }\n",
       "</style>\n",
       "<table border=\"1\" class=\"dataframe\">\n",
       "  <thead>\n",
       "    <tr style=\"text-align: right;\">\n",
       "      <th></th>\n",
       "      <th></th>\n",
       "      <th>emp_sage</th>\n",
       "      <th>marks</th>\n",
       "    </tr>\n",
       "    <tr>\n",
       "      <th>emp_id</th>\n",
       "      <th>emp_name</th>\n",
       "      <th></th>\n",
       "      <th></th>\n",
       "    </tr>\n",
       "  </thead>\n",
       "  <tbody>\n",
       "    <tr>\n",
       "      <th>133</th>\n",
       "      <th>A1</th>\n",
       "      <td>100</td>\n",
       "      <td>99.99</td>\n",
       "    </tr>\n",
       "    <tr>\n",
       "      <th>144</th>\n",
       "      <th>A2</th>\n",
       "      <td>200</td>\n",
       "      <td>97.32</td>\n",
       "    </tr>\n",
       "    <tr>\n",
       "      <th>155</th>\n",
       "      <th>A3</th>\n",
       "      <td>300</td>\n",
       "      <td>94.67</td>\n",
       "    </tr>\n",
       "    <tr>\n",
       "      <th>177</th>\n",
       "      <th>A4</th>\n",
       "      <td>400</td>\n",
       "      <td>91.00</td>\n",
       "    </tr>\n",
       "  </tbody>\n",
       "</table>\n",
       "</div>"
      ],
      "text/plain": [
       "                 emp_sage  marks\n",
       "emp_id emp_name                 \n",
       "133    A1             100  99.99\n",
       "144    A2             200  97.32\n",
       "155    A3             300  94.67\n",
       "177    A4             400  91.00"
      ]
     },
     "execution_count": 73,
     "metadata": {},
     "output_type": "execute_result"
    }
   ],
   "source": [
    "indexed_pandas_df"
   ]
  },
  {
   "cell_type": "code",
   "execution_count": 74,
   "id": "9619245c-651e-445b-ab1f-29124e555e57",
   "metadata": {},
   "outputs": [
    {
     "name": "stdout",
     "output_type": "stream",
     "text": [
      "Processed 4 rows in batch 1.\n"
     ]
    },
    {
     "data": {
      "text/plain": [
       "{'errors_dataframe': Empty DataFrame\n",
       " Columns: []\n",
       " Index: [],\n",
       " 'warnings_dataframe': Empty DataFrame\n",
       " Columns: []\n",
       " Index: [],\n",
       " 'errors_table': '',\n",
       " 'warnings_table': '',\n",
       " 'ERR_1_table': '',\n",
       " 'ERR_2_table': ''}"
      ]
     },
     "execution_count": 74,
     "metadata": {},
     "output_type": "execute_result"
    }
   ],
   "source": [
    "fastload(df=indexed_pandas_df,\n",
    "         table_name='fastload_table_2',\n",
    "         index=True,\n",
    "         index_label=['index1', 'index2'])"
   ]
  },
  {
   "cell_type": "code",
   "execution_count": 75,
   "id": "f525d80b-4e2f-4269-a538-430dbd3c0c80",
   "metadata": {},
   "outputs": [
    {
     "data": {
      "text/html": [
       "<style type=\"text/css\">\n",
       "\ttable {border:ridge 5px;}\n",
       "\ttable td {border:inset 1px;}\n",
       "\ttable tr#HeaderRow {background-color:grey; color:white;}</style>\n",
       "<html><table>\n",
       "\t<tr id=\"HeaderRow\">\n",
       "\t\t<th>emp_sage</th>\n",
       "\t\t<th>marks</th>\n",
       "\t\t<th>index1</th>\n",
       "\t\t<th>index2</th>\n",
       "\t</tr>\n",
       "\t<tr>\n",
       "\t\t<td>200</td>\n",
       "\t\t<td>97.32</td>\n",
       "\t\t<td>144</td>\n",
       "\t\t<td>A2</td>\n",
       "\t</tr>\n",
       "\t<tr>\n",
       "\t\t<td>400</td>\n",
       "\t\t<td>91.0</td>\n",
       "\t\t<td>177</td>\n",
       "\t\t<td>A4</td>\n",
       "\t</tr>\n",
       "\t<tr>\n",
       "\t\t<td>300</td>\n",
       "\t\t<td>94.67</td>\n",
       "\t\t<td>155</td>\n",
       "\t\t<td>A3</td>\n",
       "\t</tr>\n",
       "\t<tr>\n",
       "\t\t<td>100</td>\n",
       "\t\t<td>99.99</td>\n",
       "\t\t<td>133</td>\n",
       "\t\t<td>A1</td>\n",
       "\t</tr>\n",
       "</table></html>"
      ],
      "text/plain": [
       "   emp_sage  marks  index1 index2\n",
       "0       200  97.32     144     A2\n",
       "1       400  91.00     177     A4\n",
       "2       300  94.67     155     A3\n",
       "3       100  99.99     133     A1"
      ]
     },
     "execution_count": 75,
     "metadata": {},
     "output_type": "execute_result"
    }
   ],
   "source": [
    "indexed_fastload_tdml_df = DataFrame('fastload_table_2')\n",
    "indexed_fastload_tdml_df"
   ]
  },
  {
   "cell_type": "code",
   "execution_count": 76,
   "id": "2075e560-3146-47e3-8003-5cf90f60457d",
   "metadata": {},
   "outputs": [],
   "source": [
    "indexed_fastload_tdml_df.index"
   ]
  },
  {
   "cell_type": "markdown",
   "id": "e4d0fcb7-e9d3-4e75-aeda-9a5201bf72df",
   "metadata": {},
   "source": [
    "#### Usecase 5: Save Pandas DataFrame to Teradata Vantage table by opening desired number of data transfer sessions."
   ]
  },
  {
   "cell_type": "code",
   "execution_count": 77,
   "id": "48fb44e1-a6c9-4cd7-acf4-1a2764e5804e",
   "metadata": {},
   "outputs": [
    {
     "name": "stdout",
     "output_type": "stream",
     "text": [
      "Processed 4 rows in batch 1.\n"
     ]
    },
    {
     "data": {
      "text/plain": [
       "{'errors_dataframe': Empty DataFrame\n",
       " Columns: []\n",
       " Index: [],\n",
       " 'warnings_dataframe': Empty DataFrame\n",
       " Columns: []\n",
       " Index: [],\n",
       " 'errors_table': '',\n",
       " 'warnings_table': '',\n",
       " 'ERR_1_table': '',\n",
       " 'ERR_2_table': ''}"
      ]
     },
     "execution_count": 77,
     "metadata": {},
     "output_type": "execute_result"
    }
   ],
   "source": [
    "fastload(df=pandas_df,\n",
    "         table_name='fastload_table_3',\n",
    "         open_sessions=2)"
   ]
  },
  {
   "cell_type": "code",
   "execution_count": 78,
   "id": "378e54b0-940e-45db-9441-a47a8bdb3545",
   "metadata": {},
   "outputs": [
    {
     "data": {
      "text/html": [
       "<style type=\"text/css\">\n",
       "\ttable {border:ridge 5px;}\n",
       "\ttable td {border:inset 1px;}\n",
       "\ttable tr#HeaderRow {background-color:grey; color:white;}</style>\n",
       "<html><table>\n",
       "\t<tr id=\"HeaderRow\">\n",
       "\t\t<th>emp_name</th>\n",
       "\t\t<th>emp_sage</th>\n",
       "\t\t<th>emp_id</th>\n",
       "\t\t<th>marks</th>\n",
       "\t</tr>\n",
       "\t<tr>\n",
       "\t\t<td>A1</td>\n",
       "\t\t<td>100</td>\n",
       "\t\t<td>133</td>\n",
       "\t\t<td>99.99</td>\n",
       "\t</tr>\n",
       "\t<tr>\n",
       "\t\t<td>A3</td>\n",
       "\t\t<td>300</td>\n",
       "\t\t<td>155</td>\n",
       "\t\t<td>94.67</td>\n",
       "\t</tr>\n",
       "\t<tr>\n",
       "\t\t<td>A4</td>\n",
       "\t\t<td>400</td>\n",
       "\t\t<td>177</td>\n",
       "\t\t<td>91.0</td>\n",
       "\t</tr>\n",
       "\t<tr>\n",
       "\t\t<td>A2</td>\n",
       "\t\t<td>200</td>\n",
       "\t\t<td>144</td>\n",
       "\t\t<td>97.32</td>\n",
       "\t</tr>\n",
       "</table></html>"
      ],
      "text/plain": [
       "  emp_name  emp_sage  emp_id  marks\n",
       "0       A1       100     133  99.99\n",
       "1       A3       300     155  94.67\n",
       "2       A4       400     177  91.00\n",
       "3       A2       200     144  97.32"
      ]
     },
     "execution_count": 78,
     "metadata": {},
     "output_type": "execute_result"
    }
   ],
   "source": [
    "DataFrame('fastload_table_3')"
   ]
  },
  {
   "cell_type": "markdown",
   "id": "83d83077-7bb6-4ddd-9887-13eb977bf7ec",
   "metadata": {},
   "source": [
    "#### Usecase 6: Save a Pandas Dataframe to a table in specified target database `schema_name`."
   ]
  },
  {
   "cell_type": "code",
   "execution_count": 79,
   "id": "dc4a798a-53b3-4e0f-bebf-cb39db0ccdce",
   "metadata": {},
   "outputs": [
    {
     "name": "stdin",
     "output_type": "stream",
     "text": [
      "Destination Schema name:  ········\n"
     ]
    }
   ],
   "source": [
    "schema_name = getpass.getpass(\"Destination Schema name: \")"
   ]
  },
  {
   "cell_type": "code",
   "execution_count": 80,
   "id": "46b8dac6-99be-409d-ab34-fd2b6cc5f96f",
   "metadata": {},
   "outputs": [
    {
     "name": "stdout",
     "output_type": "stream",
     "text": [
      "Processed 4 rows in batch 1.\n"
     ]
    },
    {
     "data": {
      "text/plain": [
       "{'errors_dataframe': Empty DataFrame\n",
       " Columns: []\n",
       " Index: [],\n",
       " 'warnings_dataframe': Empty DataFrame\n",
       " Columns: []\n",
       " Index: [],\n",
       " 'errors_table': '',\n",
       " 'warnings_table': '',\n",
       " 'ERR_1_table': '',\n",
       " 'ERR_2_table': ''}"
      ]
     },
     "execution_count": 80,
     "metadata": {},
     "output_type": "execute_result"
    }
   ],
   "source": [
    "fastload(df=pandas_df,\n",
    "         table_name='fastload_in_diff_schema',\n",
    "         schema_name=schema_name,\n",
    "         types = {'emp_name': VARCHAR, 'emp_sage':INTEGER,\n",
    "                  'emp_id': BIGINT, 'marks': DECIMAL})"
   ]
  },
  {
   "cell_type": "code",
   "execution_count": 81,
   "id": "4bfc0fb4-3b93-4e86-8cf8-43a893de2fae",
   "metadata": {},
   "outputs": [
    {
     "data": {
      "text/html": [
       "<style type=\"text/css\">\n",
       "\ttable {border:ridge 5px;}\n",
       "\ttable td {border:inset 1px;}\n",
       "\ttable tr#HeaderRow {background-color:grey; color:white;}</style>\n",
       "<html><table>\n",
       "\t<tr id=\"HeaderRow\">\n",
       "\t\t<th>emp_name</th>\n",
       "\t\t<th>emp_sage</th>\n",
       "\t\t<th>emp_id</th>\n",
       "\t\t<th>marks</th>\n",
       "\t</tr>\n",
       "\t<tr>\n",
       "\t\t<td>A2</td>\n",
       "\t\t<td>200</td>\n",
       "\t\t<td>144</td>\n",
       "\t\t<td>97.320</td>\n",
       "\t</tr>\n",
       "\t<tr>\n",
       "\t\t<td>A4</td>\n",
       "\t\t<td>400</td>\n",
       "\t\t<td>177</td>\n",
       "\t\t<td>91.000</td>\n",
       "\t</tr>\n",
       "\t<tr>\n",
       "\t\t<td>A3</td>\n",
       "\t\t<td>300</td>\n",
       "\t\t<td>155</td>\n",
       "\t\t<td>94.670</td>\n",
       "\t</tr>\n",
       "\t<tr>\n",
       "\t\t<td>A1</td>\n",
       "\t\t<td>100</td>\n",
       "\t\t<td>133</td>\n",
       "\t\t<td>99.990</td>\n",
       "\t</tr>\n",
       "</table></html>"
      ],
      "text/plain": [
       "  emp_name  emp_sage  emp_id  marks\n",
       "0       A2       200     144  97.32\n",
       "1       A4       400     177  91.00\n",
       "2       A3       300     155  94.67\n",
       "3       A1       100     133  99.99"
      ]
     },
     "execution_count": 81,
     "metadata": {},
     "output_type": "execute_result"
    }
   ],
   "source": [
    "# Verify table in target schema.\n",
    "DataFrame(in_schema(schema_name, 'fastload_in_diff_schema'))"
   ]
  },
  {
   "cell_type": "markdown",
   "id": "f7846381-6e55-4267-a93d-b26cdb01435d",
   "metadata": {},
   "source": [
    "#### Usecase 7: Save a Pandas Dataframe to a Teradata Vantage table in specified target database `schema_name`. Save errors and warnings to database specified with `err_staging_db`. Save errors to table named as `err_tbl_name` and warnings to `warn_tbl_name`."
   ]
  },
  {
   "cell_type": "markdown",
   "id": "ff6b6d1c-b2bf-401f-9f18-86c47aed6e40",
   "metadata": {},
   "source": [
    "Note:\n",
    "- User must have create table rights on provided schema."
   ]
  },
  {
   "cell_type": "code",
   "execution_count": 82,
   "id": "5cf779ca-d4d6-415c-82f7-470ee4655e67",
   "metadata": {},
   "outputs": [],
   "source": [
    "# Create a pandas dataframe having one duplicate and one fualty row.\n",
    "faulty_data_dict = {\"C_ID\": [301, 301, 302, 303, 304, 305, 306, 307, 308],\n",
    "                    \"C_timestamp\": ['2014-01-06 09:01:25', '2014-01-06 09:01:25',\n",
    "                                    '2015-01-06 09:01:25.25.122200', '2017-01-06 09:01:25.11111',\n",
    "                                    '2013-01-06 09:01:25', '2019-03-06 10:15:28',\n",
    "                                    '2014-01-06 09:01:25.1098', '2014-03-06 10:01:02',\n",
    "                                    '2014-03-06 10:01:20.0000']}\n",
    "\n",
    "faulty_pandas_df = pd.DataFrame(faulty_data_dict)"
   ]
  },
  {
   "cell_type": "code",
   "execution_count": 83,
   "id": "224421ed-3ef2-4097-9f98-04437ee4e5b8",
   "metadata": {},
   "outputs": [
    {
     "name": "stdin",
     "output_type": "stream",
     "text": [
      "Staging database:  ········\n"
     ]
    }
   ],
   "source": [
    "staging_db = getpass.getpass(\"Staging database: \")"
   ]
  },
  {
   "cell_type": "code",
   "execution_count": 84,
   "id": "1ce4b01c-bf07-4fc2-b52a-56738a92855e",
   "metadata": {},
   "outputs": [
    {
     "name": "stdout",
     "output_type": "stream",
     "text": [
      "Processed 9 rows in batch 1.\n"
     ]
    },
    {
     "data": {
      "text/plain": [
       "{'errors_dataframe':    batch_no                                      error_message\n",
       " 0         1   [Session 1320] [Teradata Database] [Error 267...,\n",
       " 'warnings_dataframe':         batch_no                                      error_message\n",
       " 0  batch_summary   [Session 1319] [Teradata SQL Driver] [Warning...,\n",
       " 'errors_table': 'staging_db.fld_errors',\n",
       " 'warnings_table': 'staging_db.fld_warnings',\n",
       " 'ERR_1_table': '',\n",
       " 'ERR_2_table': ''}"
      ]
     },
     "execution_count": 84,
     "metadata": {},
     "output_type": "execute_result"
    }
   ],
   "source": [
    "# Fastlaod data in non-default schema \"target_db\" and save erors and warnings in given tables.\n",
    "fastload(df=faulty_pandas_df,\n",
    "         table_name='fastload_with_err_warn_tbl_stag_db',\n",
    "         if_exists='replace',\n",
    "         primary_index='C_ID',\n",
    "         schema_name=schema_name,\n",
    "         types={'C_ID': INTEGER, 'C_timestamp': TIMESTAMP(6)},\n",
    "         err_tbl_name='fld_errors',\n",
    "         warn_tbl_name='fld_warnings',\n",
    "         err_staging_db=staging_db)"
   ]
  },
  {
   "cell_type": "code",
   "execution_count": 85,
   "id": "1f2377d5-2390-4ea4-9581-cd25c4fc6fd9",
   "metadata": {},
   "outputs": [
    {
     "data": {
      "text/html": [
       "<style type=\"text/css\">\n",
       "\ttable {border:ridge 5px;}\n",
       "\ttable td {border:inset 1px;}\n",
       "\ttable tr#HeaderRow {background-color:grey; color:white;}</style>\n",
       "<html><table>\n",
       "\t<tr id=\"HeaderRow\">\n",
       "\t\t<th>C_ID</th>\n",
       "\t\t<th>C_timestamp</th>\n",
       "\t</tr>\n",
       "\t<tr>\n",
       "\t\t<td>301</td>\n",
       "\t\t<td>2014-01-06 09:01:25.000000</td>\n",
       "\t</tr>\n",
       "\t<tr>\n",
       "\t\t<td>308</td>\n",
       "\t\t<td>2014-03-06 10:01:20.000000</td>\n",
       "\t</tr>\n",
       "\t<tr>\n",
       "\t\t<td>306</td>\n",
       "\t\t<td>2014-01-06 09:01:25.109800</td>\n",
       "\t</tr>\n",
       "\t<tr>\n",
       "\t\t<td>307</td>\n",
       "\t\t<td>2014-03-06 10:01:02.000000</td>\n",
       "\t</tr>\n",
       "\t<tr>\n",
       "\t\t<td>304</td>\n",
       "\t\t<td>2013-01-06 09:01:25.000000</td>\n",
       "\t</tr>\n",
       "\t<tr>\n",
       "\t\t<td>303</td>\n",
       "\t\t<td>2017-01-06 09:01:25.111110</td>\n",
       "\t</tr>\n",
       "\t<tr>\n",
       "\t\t<td>305</td>\n",
       "\t\t<td>2019-03-06 10:15:28.000000</td>\n",
       "\t</tr>\n",
       "</table></html>"
      ],
      "text/plain": [
       "                     C_timestamp\n",
       "C_ID                            \n",
       "301   2014-01-06 09:01:25.000000\n",
       "308   2014-03-06 10:01:20.000000\n",
       "306   2014-01-06 09:01:25.109800\n",
       "307   2014-03-06 10:01:02.000000\n",
       "304   2013-01-06 09:01:25.000000\n",
       "303   2017-01-06 09:01:25.111110\n",
       "305   2019-03-06 10:15:28.000000"
      ]
     },
     "execution_count": 85,
     "metadata": {},
     "output_type": "execute_result"
    }
   ],
   "source": [
    "# Validate loaded data table.\n",
    "DataFrame(in_schema(schema_name, \"fastload_with_err_warn_tbl_stag_db\"))"
   ]
  },
  {
   "cell_type": "code",
   "execution_count": 86,
   "id": "ef2151df-f475-4e1d-a69c-ac3d1a4810be",
   "metadata": {},
   "outputs": [
    {
     "data": {
      "text/html": [
       "<style type=\"text/css\">\n",
       "\ttable {border:ridge 5px;}\n",
       "\ttable td {border:inset 1px;}\n",
       "\ttable tr#HeaderRow {background-color:grey; color:white;}</style>\n",
       "<html><table>\n",
       "\t<tr id=\"HeaderRow\">\n",
       "\t\t<th>batch_no</th>\n",
       "\t\t<th>error_message</th>\n",
       "\t</tr>\n",
       "\t<tr>\n",
       "\t\t<td>1</td>\n",
       "\t\t<td> [Session 1320] [Teradata Database] [Error 2673] FastLoad failed to insert 1 of 9 batched rows. Batched row 3 failed to insert because of Teradata Database error 2673 in \"staging_db\".\"fastload_with_err_warn_tbl_stag_db\".\"C_timestamp\"</td>\n",
       "\t</tr>\n",
       "</table></html>"
      ],
      "text/plain": [
       "   batch_no                                                                                                                                                                                                                         error_message\n",
       "0         1   [Session 1320] [Teradata Database] [Error 2673] FastLoad failed to insert 1 of 9 batched rows. Batched row 3 failed to insert because of Teradata Database error 2673 in \"staging_db\".\"fastload_with_err_warn_tbl_stag_db\".\"C_timestamp\""
      ]
     },
     "execution_count": 86,
     "metadata": {},
     "output_type": "execute_result"
    }
   ],
   "source": [
    "# Validate error table.\n",
    "DataFrame(in_schema(staging_db, \"fld_errors\"))"
   ]
  },
  {
   "cell_type": "code",
   "execution_count": 87,
   "id": "60dacf06-9c03-40f5-9742-4c2852cfeca4",
   "metadata": {},
   "outputs": [
    {
     "data": {
      "text/html": [
       "<style type=\"text/css\">\n",
       "\ttable {border:ridge 5px;}\n",
       "\ttable td {border:inset 1px;}\n",
       "\ttable tr#HeaderRow {background-color:grey; color:white;}</style>\n",
       "<html><table>\n",
       "\t<tr id=\"HeaderRow\">\n",
       "\t\t<th>batch_no</th>\n",
       "\t\t<th>error_message</th>\n",
       "\t</tr>\n",
       "\t<tr>\n",
       "\t\t<td>batch_summary</td>\n",
       "\t\t<td> [Session 1319] [Teradata SQL Driver] [Warning 518] Found 1 duplicate or faulty row(s) while ending FastLoad of database table \"staging_db\".\"fastload_with_err_warn_tbl_stag_db\": expected a row count of 8, got a row count of 7</td>\n",
       "\t</tr>\n",
       "</table></html>"
      ],
      "text/plain": [
       "        batch_no                                                                                                                                                                                                                 error_message\n",
       "0  batch_summary   [Session 1319] [Teradata SQL Driver] [Warning 518] Found 1 duplicate or faulty row(s) while ending FastLoad of database table \"staging_db\".\"fastload_with_err_warn_tbl_stag_db\": expected a row count of 8, got a row count of 7"
      ]
     },
     "execution_count": 87,
     "metadata": {},
     "output_type": "execute_result"
    }
   ],
   "source": [
    "# Validate warning table.\n",
    "DataFrame(in_schema(staging_db, \"fld_warnings\"))"
   ]
  },
  {
   "cell_type": "markdown",
   "id": "245221f1-164c-4b33-8046-6277aeda4f8f",
   "metadata": {},
   "source": [
    "#### Usecase 8: Save a Pandas Dataframe to a table in specified target database `schema_name`. Save errors in ERR_1 and ERR_2 tables having user defined suffixes provided in `err_tbl_1_suffix` and `err_tbl_2_suffix`. Source Pandas dataframe is same as previous usecase 7."
   ]
  },
  {
   "cell_type": "markdown",
   "id": "c9ea9b3b-68f4-44bd-8af3-530644972d78",
   "metadata": {},
   "source": [
    "Note:\n",
    "- User must have create table rights on provided schema."
   ]
  },
  {
   "cell_type": "code",
   "execution_count": 88,
   "id": "95882d07-0903-488d-b42f-c48f0ede5584",
   "metadata": {},
   "outputs": [
    {
     "name": "stdout",
     "output_type": "stream",
     "text": [
      "Processed 9 rows in batch 1.\n"
     ]
    },
    {
     "data": {
      "text/plain": [
       "{'errors_dataframe': Empty DataFrame\n",
       " Columns: []\n",
       " Index: [],\n",
       " 'warnings_dataframe': Empty DataFrame\n",
       " Columns: []\n",
       " Index: [],\n",
       " 'errors_table': '',\n",
       " 'warnings_table': '',\n",
       " 'ERR_1_table': 'staging_db.ml__fl_stag_1732120328815718_user_err_1',\n",
       " 'ERR_2_table': 'staging_db.ml__fl_stag_1732120328815718_user_err_2'}"
      ]
     },
     "execution_count": 88,
     "metadata": {},
     "output_type": "execute_result"
    }
   ],
   "source": [
    "returned_dict = fastload(df=faulty_pandas_df,\n",
    "                         table_name='fastload_with_err_warn_tbl_stag_db',\n",
    "                         schema_name=schema_name,\n",
    "                         if_exists='append',\n",
    "                         types={'C_ID': INTEGER, 'C_timestamp': TIMESTAMP(6)},\n",
    "                         save_errors=True,\n",
    "                         err_staging_db=staging_db,\n",
    "                         err_tbl_1_suffix=\"_user_err_1\",\n",
    "                         err_tbl_2_suffix=\"_user_err_2\")\n",
    "returned_dict"
   ]
  },
  {
   "cell_type": "code",
   "execution_count": 89,
   "id": "107951e7-bc7e-444f-827c-96ec478b0bf9",
   "metadata": {},
   "outputs": [],
   "source": [
    "# Extract run time table names created in staging database.\n",
    "err_1_table_name = returned_dict['ERR_1_table'].split('.')[1]\n",
    "err_2_table_name = returned_dict['ERR_2_table'].split('.')[1]"
   ]
  },
  {
   "cell_type": "code",
   "execution_count": 90,
   "id": "9ee37866-0db6-4eca-9296-c8609d2169b1",
   "metadata": {},
   "outputs": [
    {
     "data": {
      "text/html": [
       "<style type=\"text/css\">\n",
       "\ttable {border:ridge 5px;}\n",
       "\ttable td {border:inset 1px;}\n",
       "\ttable tr#HeaderRow {background-color:grey; color:white;}</style>\n",
       "<html><table>\n",
       "\t<tr id=\"HeaderRow\">\n",
       "\t\t<th>ErrorCode</th>\n",
       "\t\t<th>ErrorFieldName</th>\n",
       "\t\t<th>DataParcel</th>\n",
       "\t</tr>\n",
       "\t<tr>\n",
       "\t\t<td>2673</td>\n",
       "\t\t<td>F_C_timestamp</td>\n",
       "\t\t<td>b'12E...'</td>\n",
       "\t</tr>\n",
       "</table></html>"
      ],
      "text/plain": [
       "   ErrorCode ErrorFieldName DataParcel\n",
       "0       2673  F_C_timestamp  b'12E...'"
      ]
     },
     "execution_count": 90,
     "metadata": {},
     "output_type": "execute_result"
    }
   ],
   "source": [
    "# Validate ERR_1 table.\n",
    "DataFrame(in_schema(schema_name, err_1_table_name))"
   ]
  },
  {
   "cell_type": "code",
   "execution_count": 91,
   "id": "a12d3d83-6c94-456b-8a41-de27dd980fe4",
   "metadata": {},
   "outputs": [
    {
     "data": {
      "text/html": [
       "<style type=\"text/css\">\n",
       "\ttable {border:ridge 5px;}\n",
       "\ttable td {border:inset 1px;}\n",
       "\ttable tr#HeaderRow {background-color:grey; color:white;}</style>\n",
       "<html><table>\n",
       "\t<tr id=\"HeaderRow\">\n",
       "\t\t<th>C_ID</th>\n",
       "\t\t<th>C_timestamp</th>\n",
       "\t</tr>\n",
       "</table></html>"
      ],
      "text/plain": [
       "Empty DataFrame\n",
       "Columns: [C_ID, C_timestamp]\n",
       "Index: []"
      ]
     },
     "execution_count": 91,
     "metadata": {},
     "output_type": "execute_result"
    }
   ],
   "source": [
    "# Validate ERR_2 table.\n",
    "DataFrame(in_schema(schema_name, err_2_table_name))"
   ]
  },
  {
   "cell_type": "markdown",
   "id": "3daf0f57-f673-40f6-9bf0-e0fc8b5f1ce7",
   "metadata": {},
   "source": [
    "<hr>\n",
    "<b style = 'font-size:17px;font-family:Arial;color:#E37C4D'>2.3 read_csv</b>"
   ]
  },
  {
   "cell_type": "markdown",
   "id": "83f2963b-91a3-4103-8638-d908c3ab036e",
   "metadata": {},
   "source": [
    "##### Notes:\n",
    "- Considerations about a CSV file:\n",
    "   - First line in the CSV must be a header line. The header line lists the column names separated by the field separator (e.g. col1,col2,col3).\n",
    "   - Default field separator is considered to be `,`. Use `sep` argument to specify different field separator.\n",
    "   - Default quoting character is considered to be `\"`. Use `quotechar` argument to specify different quoting character.\n",
    "- Fastload protocol is used by default. Use `use_fastload` argument to alter this behavior.\n",
    "- Existing table is dropped and new table is created by default. Use `if_exists` argument to alter this behavior.\n",
    "- Destination table is created as a permanent table by default. Use `temporary` argument to alter this behavior.\n",
    "- Destination table is created in default database. Use `schema_name` argument to alter this behavior.\n",
    "- `schema_name` will be ignored when `temporary=True`.\n",
    "- Destination table is created as MULTISET table by default. Use `set_table` argument to alter this behavior.\n",
    "- `primary_time_index_name`, `timecode_column`, `timebucket_duration`, `timezero_date`, `columns_list`, `sequence_column`, `seq_max` arguments are only applicable for time series data.\n",
    "- `catch_errors_warnings`, `save_errors`, `open_sessions` arguments are only applicable while `use_fastload` is `True`.\n",
    "- Considerations while using **fastLoad** protocol with read_csv():\n",
    "    - Teradata recommends to use Fastload protocol when number of rows to be loaded is at least 100,000 as Fastload opens multiple data transfer connections to the database. \n",
    "    - If the destination table is a MULTISET table having primary index, duplicate rows in the csv are not loaded.\n",
    "    - All Teradata types are not supported. For example, target table having BLOB and CLOB data type columns cannot be loaded.\n",
    "    - If there are any incorrect rows, i.e. due to constraint violations, data type conversion errors, etc., FastLoad protocol ignores those rows and inserts all valid rows. Rows that failed to get inserted are categorized into errors and warnings by FastLoad protocol and these errors and warnings are collected into pandas Dataframe. User can access this information by using appropriate values for `catch_errors_warnings` and `save_errors` arguments.\n",
    "        - To access error and warning information only in the form of pandas Dataframe use `catch_errors_warnings=True` and `save_errors=False`.\n",
    "        - To access error and warning information the form of pandas Dataframe as well as in the permanent tables use `catch_errors_warnings=True` and `save_errors=True`.\n",
    "    - Default number of data-transfer sessions (smaller of 8 or the number of AMPs available) are opened for FastLoad operation. Use `open_sessions` argument to alter this behavior. For additional information about number of Teradata data-transfer sessions opened during fastload, please refer to: https://pypi.org/project/teradatasql/#FastLoad.\n",
    "\n"
   ]
  },
  {
   "cell_type": "code",
   "execution_count": 92,
   "id": "ce5bbf5f-3253-4dd3-99bf-440dd1789156",
   "metadata": {},
   "outputs": [],
   "source": [
    "# Helper function to write data in CSV file.\n",
    "def write_data_into_csv(filename, record):\n",
    "    \"\"\" \n",
    "    Helper unction to write data into the csv file. \n",
    "    \"\"\"\n",
    "    with open(filename, 'w', newline='') as csvFile:\n",
    "        csvWriter = csv.writer(csvFile, delimiter='\\n')\n",
    "        csvWriter.writerow(record)"
   ]
  },
  {
   "cell_type": "code",
   "execution_count": 94,
   "id": "1b9e6c3d-2610-4af7-8349-b0c5cefe30dc",
   "metadata": {},
   "outputs": [],
   "source": [
    "# Generate a CSV file to be used in following usecases.\n",
    "record_with_header = ['id,fname,lname,marks',\n",
    "                      '101,abc,def,200',\n",
    "                      '102,lmn,pqr,105',\n",
    "                      '103,def,xyz,492',\n",
    "                      '101,abc,def,300']\n",
    "\n",
    "write_data_into_csv('test_file.csv', record_with_header)"
   ]
  },
  {
   "cell_type": "markdown",
   "id": "a8dbd1c9-9829-4fc4-8ab8-d9bca47e6152",
   "metadata": {},
   "source": [
    "<hr>\n",
    "<b style = 'font-size:16px;font-family:Arial;color:#E37C4D'>2.3.1 read_csv: Source - CSV file, Destination - Teradata Vantage</b>"
   ]
  },
  {
   "cell_type": "markdown",
   "id": "ff67e8f7-6d2d-4a6b-a803-42f30ef0eabf",
   "metadata": {},
   "source": [
    "#### Usecase 1: Save data from CSV file into Teradata Vantage table without fastload."
   ]
  },
  {
   "cell_type": "markdown",
   "id": "857ad6d2-0f8e-4eff-b6a5-e751cb07bd9b",
   "metadata": {},
   "source": [
    "##### Note:\n",
    "- If table already exists, it will be dropped and new table will be created."
   ]
  },
  {
   "cell_type": "code",
   "execution_count": 95,
   "id": "2a280944-94c9-4227-9512-a2333fb2fb67",
   "metadata": {},
   "outputs": [
    {
     "data": {
      "text/html": [
       "<style type=\"text/css\">\n",
       "\ttable {border:ridge 5px;}\n",
       "\ttable td {border:inset 1px;}\n",
       "\ttable tr#HeaderRow {background-color:grey; color:white;}</style>\n",
       "<html><table>\n",
       "\t<tr id=\"HeaderRow\">\n",
       "\t\t<th>id</th>\n",
       "\t\t<th>fname</th>\n",
       "\t\t<th>lname</th>\n",
       "\t\t<th>marks</th>\n",
       "\t</tr>\n",
       "\t<tr>\n",
       "\t\t<td>103</td>\n",
       "\t\t<td>def</td>\n",
       "\t\t<td>xyz</td>\n",
       "\t\t<td>492.0</td>\n",
       "\t</tr>\n",
       "\t<tr>\n",
       "\t\t<td>101</td>\n",
       "\t\t<td>abc</td>\n",
       "\t\t<td>def</td>\n",
       "\t\t<td>300.0</td>\n",
       "\t</tr>\n",
       "\t<tr>\n",
       "\t\t<td>102</td>\n",
       "\t\t<td>lmn</td>\n",
       "\t\t<td>pqr</td>\n",
       "\t\t<td>105.0</td>\n",
       "\t</tr>\n",
       "\t<tr>\n",
       "\t\t<td>101</td>\n",
       "\t\t<td>abc</td>\n",
       "\t\t<td>def</td>\n",
       "\t\t<td>200.0</td>\n",
       "\t</tr>\n",
       "</table></html>"
      ],
      "text/plain": [
       "    id fname lname  marks\n",
       "0  103   def   xyz  492.0\n",
       "1  101   abc   def  300.0\n",
       "2  102   lmn   pqr  105.0\n",
       "3  101   abc   def  200.0"
      ]
     },
     "execution_count": 95,
     "metadata": {},
     "output_type": "execute_result"
    }
   ],
   "source": [
    "read_csv(filepath='test_file.csv',\n",
    "         table_name='read_csv_table',\n",
    "         use_fastload=False,\n",
    "         types=OrderedDict(id=BIGINT, fname=VARCHAR, lname=VARCHAR, marks=FLOAT))"
   ]
  },
  {
   "cell_type": "markdown",
   "id": "30ec785e-ba18-46ab-857e-f655d007a821",
   "metadata": {},
   "source": [
    "#### Usecase 2: Save data from CSV file into Teradata Vantage table using fastload protocol."
   ]
  },
  {
   "cell_type": "markdown",
   "id": "80cf38a1-f9a7-4bf4-bc54-01bc3f1b63d3",
   "metadata": {},
   "source": [
    "##### Note:\n",
    "- If table already exists, it will be dropped and new table will be created.\n",
    "- `types`should be an ordered dictionary where key is column name and value is corresponding teradatasqlalchemy type."
   ]
  },
  {
   "cell_type": "code",
   "execution_count": 96,
   "id": "da469458-4bae-46a0-adfc-6b86000d72a4",
   "metadata": {},
   "outputs": [
    {
     "data": {
      "text/html": [
       "<style type=\"text/css\">\n",
       "\ttable {border:ridge 5px;}\n",
       "\ttable td {border:inset 1px;}\n",
       "\ttable tr#HeaderRow {background-color:grey; color:white;}</style>\n",
       "<html><table>\n",
       "\t<tr id=\"HeaderRow\">\n",
       "\t\t<th>id</th>\n",
       "\t\t<th>fname</th>\n",
       "\t\t<th>lname</th>\n",
       "\t\t<th>marks</th>\n",
       "\t</tr>\n",
       "\t<tr>\n",
       "\t\t<td>101</td>\n",
       "\t\t<td>abc</td>\n",
       "\t\t<td>def</td>\n",
       "\t\t<td>200.0</td>\n",
       "\t</tr>\n",
       "\t<tr>\n",
       "\t\t<td>103</td>\n",
       "\t\t<td>def</td>\n",
       "\t\t<td>xyz</td>\n",
       "\t\t<td>492.0</td>\n",
       "\t</tr>\n",
       "\t<tr>\n",
       "\t\t<td>101</td>\n",
       "\t\t<td>abc</td>\n",
       "\t\t<td>def</td>\n",
       "\t\t<td>300.0</td>\n",
       "\t</tr>\n",
       "\t<tr>\n",
       "\t\t<td>102</td>\n",
       "\t\t<td>lmn</td>\n",
       "\t\t<td>pqr</td>\n",
       "\t\t<td>105.0</td>\n",
       "\t</tr>\n",
       "</table></html>"
      ],
      "text/plain": [
       "    id fname lname  marks\n",
       "0  101   abc   def  200.0\n",
       "1  103   def   xyz  492.0\n",
       "2  101   abc   def  300.0\n",
       "3  102   lmn   pqr  105.0"
      ]
     },
     "execution_count": 96,
     "metadata": {},
     "output_type": "execute_result"
    }
   ],
   "source": [
    "read_csv(filepath='test_file.csv',\n",
    "         table_name='read_csv_table_1',\n",
    "         types=OrderedDict(id=BIGINT, fname=VARCHAR, lname=VARCHAR, marks=FLOAT))"
   ]
  },
  {
   "cell_type": "markdown",
   "id": "06c7a669-d4f8-4cdc-80a5-1e990a27cf7e",
   "metadata": {},
   "source": [
    "#### Usecase 3: Save data from CSV file into an existing Teradata Vantage table."
   ]
  },
  {
   "cell_type": "code",
   "execution_count": 97,
   "id": "81a0f97b-077e-4b74-962f-ff42e672338f",
   "metadata": {},
   "outputs": [
    {
     "data": {
      "text/html": [
       "<style type=\"text/css\">\n",
       "\ttable {border:ridge 5px;}\n",
       "\ttable td {border:inset 1px;}\n",
       "\ttable tr#HeaderRow {background-color:grey; color:white;}</style>\n",
       "<html><table>\n",
       "\t<tr id=\"HeaderRow\">\n",
       "\t\t<th>id</th>\n",
       "\t\t<th>fname</th>\n",
       "\t\t<th>lname</th>\n",
       "\t\t<th>marks</th>\n",
       "\t</tr>\n",
       "\t<tr>\n",
       "\t\t<td>102</td>\n",
       "\t\t<td>lmn</td>\n",
       "\t\t<td>pqr</td>\n",
       "\t\t<td>105.0</td>\n",
       "\t</tr>\n",
       "\t<tr>\n",
       "\t\t<td>101</td>\n",
       "\t\t<td>abc</td>\n",
       "\t\t<td>def</td>\n",
       "\t\t<td>200.0</td>\n",
       "\t</tr>\n",
       "\t<tr>\n",
       "\t\t<td>103</td>\n",
       "\t\t<td>def</td>\n",
       "\t\t<td>xyz</td>\n",
       "\t\t<td>492.0</td>\n",
       "\t</tr>\n",
       "\t<tr>\n",
       "\t\t<td>101</td>\n",
       "\t\t<td>abc</td>\n",
       "\t\t<td>def</td>\n",
       "\t\t<td>200.0</td>\n",
       "\t</tr>\n",
       "\t<tr>\n",
       "\t\t<td>103</td>\n",
       "\t\t<td>def</td>\n",
       "\t\t<td>xyz</td>\n",
       "\t\t<td>492.0</td>\n",
       "\t</tr>\n",
       "\t<tr>\n",
       "\t\t<td>101</td>\n",
       "\t\t<td>abc</td>\n",
       "\t\t<td>def</td>\n",
       "\t\t<td>300.0</td>\n",
       "\t</tr>\n",
       "\t<tr>\n",
       "\t\t<td>101</td>\n",
       "\t\t<td>abc</td>\n",
       "\t\t<td>def</td>\n",
       "\t\t<td>300.0</td>\n",
       "\t</tr>\n",
       "\t<tr>\n",
       "\t\t<td>102</td>\n",
       "\t\t<td>lmn</td>\n",
       "\t\t<td>pqr</td>\n",
       "\t\t<td>105.0</td>\n",
       "\t</tr>\n",
       "</table></html>"
      ],
      "text/plain": [
       "    id fname lname  marks\n",
       "0  102   lmn   pqr  105.0\n",
       "1  101   abc   def  200.0\n",
       "2  103   def   xyz  492.0\n",
       "3  101   abc   def  200.0\n",
       "4  103   def   xyz  492.0\n",
       "5  101   abc   def  300.0\n",
       "6  101   abc   def  300.0\n",
       "7  102   lmn   pqr  105.0"
      ]
     },
     "execution_count": 97,
     "metadata": {},
     "output_type": "execute_result"
    }
   ],
   "source": [
    "read_csv(filepath='test_file.csv',\n",
    "         table_name='read_csv_table_1',\n",
    "         if_exists='append')"
   ]
  },
  {
   "cell_type": "markdown",
   "id": "3c32a19a-cbf7-4fd3-9954-7999d0c2fc0a",
   "metadata": {},
   "source": [
    "#### Usecase 4: Load the data from CSV file into Teradata Vantage table and set primary index provided through `primary_index` argument."
   ]
  },
  {
   "cell_type": "code",
   "execution_count": 98,
   "id": "a25bb90a-353f-47a2-afb1-57bbf43d5106",
   "metadata": {},
   "outputs": [
    {
     "data": {
      "text/html": [
       "<style type=\"text/css\">\n",
       "\ttable {border:ridge 5px;}\n",
       "\ttable td {border:inset 1px;}\n",
       "\ttable tr#HeaderRow {background-color:grey; color:white;}</style>\n",
       "<html><table>\n",
       "\t<tr id=\"HeaderRow\">\n",
       "\t\t<th>id</th>\n",
       "\t\t<th>fname</th>\n",
       "\t\t<th>lname</th>\n",
       "\t\t<th>marks</th>\n",
       "\t</tr>\n",
       "\t<tr>\n",
       "\t\t<td>101</td>\n",
       "\t\t<td>abc</td>\n",
       "\t\t<td>def</td>\n",
       "\t\t<td>200.0</td>\n",
       "\t</tr>\n",
       "\t<tr>\n",
       "\t\t<td>101</td>\n",
       "\t\t<td>abc</td>\n",
       "\t\t<td>def</td>\n",
       "\t\t<td>300.0</td>\n",
       "\t</tr>\n",
       "\t<tr>\n",
       "\t\t<td>103</td>\n",
       "\t\t<td>def</td>\n",
       "\t\t<td>xyz</td>\n",
       "\t\t<td>492.0</td>\n",
       "\t</tr>\n",
       "\t<tr>\n",
       "\t\t<td>102</td>\n",
       "\t\t<td>lmn</td>\n",
       "\t\t<td>pqr</td>\n",
       "\t\t<td>105.0</td>\n",
       "\t</tr>\n",
       "</table></html>"
      ],
      "text/plain": [
       "        id lname  marks\n",
       "fname                  \n",
       "abc    101   def  200.0\n",
       "abc    101   def  300.0\n",
       "def    103   xyz  492.0\n",
       "lmn    102   pqr  105.0"
      ]
     },
     "execution_count": 98,
     "metadata": {},
     "output_type": "execute_result"
    }
   ],
   "source": [
    "tdml_df_with_pi = read_csv(filepath='test_file.csv',\n",
    "                           table_name='read_csv_table_pi',\n",
    "                           primary_index=['fname'],\n",
    "                           types=OrderedDict(id=BIGINT, fname=VARCHAR, lname=VARCHAR, marks=FLOAT))\n",
    "tdml_df_with_pi"
   ]
  },
  {
   "cell_type": "code",
   "execution_count": 99,
   "id": "4ef2ee8a-45f4-453f-b2e6-aaa1b1e0d507",
   "metadata": {},
   "outputs": [
    {
     "data": {
      "text/plain": [
       "['fname']"
      ]
     },
     "execution_count": 99,
     "metadata": {},
     "output_type": "execute_result"
    }
   ],
   "source": [
    "tdml_df_with_pi.index"
   ]
  },
  {
   "cell_type": "markdown",
   "id": "9f76a7aa-bf45-498f-9815-94d1d6137e34",
   "metadata": {},
   "source": [
    "#### Usecase 5: Save data from CSV file into an existing Teradata Vantage table using fastload protocol. Catch all errors and warnings. Also store those in permanent table."
   ]
  },
  {
   "cell_type": "code",
   "execution_count": 100,
   "id": "a6676d61-226b-4dba-8e52-6d9d00d814f2",
   "metadata": {},
   "outputs": [],
   "source": [
    "# Generate a csv file having duplicate rows and data with mismatching type.\n",
    "record_with_header = ['id,fname,lname,marks',\n",
    "                      '101,abc,def,200',\n",
    "                      '102,lmn,pqr,105',\n",
    "                      '103,def,xyz,492',\n",
    "                      '101,abc,def,300.1']\n",
    "\n",
    "erroneous_data = record_with_header + ['103,def,xyz,492']\n",
    "\n",
    "write_data_into_csv('erroneous_data.csv', erroneous_data)"
   ]
  },
  {
   "cell_type": "code",
   "execution_count": 101,
   "id": "5d2fa6fe-7405-4c4f-b65a-39b9ea815af9",
   "metadata": {},
   "outputs": [
    {
     "data": {
      "text/plain": [
       "(    fname lname  marks\n",
       " id                    \n",
       " 102   lmn   pqr    105\n",
       " 103   def   xyz    492\n",
       " 101   abc   def    300\n",
       " 101   abc   def    200,\n",
       " {'errors_dataframe': Empty DataFrame\n",
       "  Columns: []\n",
       "  Index: [],\n",
       "  'warnings_dataframe':                                        error_message\n",
       "  0   [Session 1339] [Teradata SQL Driver] [Warning...,\n",
       "  'errors_table': '',\n",
       "  'warnings_table': 'staging_db.td_fl_read_csv_table_2_warn_267',\n",
       "  'fastloadcsv_error_tables': ['read_csv_table_2_ERR_1',\n",
       "   'read_csv_table_2_ERR_2']})"
      ]
     },
     "execution_count": 101,
     "metadata": {},
     "output_type": "execute_result"
    }
   ],
   "source": [
    "returned_tuple = read_csv(filepath='erroneous_data.csv',\n",
    "                          table_name='read_csv_table_2',\n",
    "                          save_errors=True,\n",
    "                          catch_errors_warnings=True,\n",
    "                          set_table=True,\n",
    "                          primary_index='id',\n",
    "                          types=OrderedDict(id=BIGINT, fname=VARCHAR, lname=VARCHAR, marks=INTEGER))\n",
    "returned_tuple"
   ]
  },
  {
   "cell_type": "code",
   "execution_count": 102,
   "id": "4016848f-110b-4496-9109-110176847dd3",
   "metadata": {},
   "outputs": [],
   "source": [
    "# Verify error and warnings tables."
   ]
  },
  {
   "cell_type": "code",
   "execution_count": 103,
   "id": "15e50b24-28ea-4d8b-a0e1-37f59bb0e07e",
   "metadata": {},
   "outputs": [],
   "source": [
    "# TODO: Uncomment after https://teradata-pe.atlassian.net/browse/ELE-6743 is completed.\n",
    "# DataFrame('my_csv_table_2_ERR_1')"
   ]
  },
  {
   "cell_type": "code",
   "execution_count": 104,
   "id": "7f495e86-ae4b-4010-9796-420f546f5470",
   "metadata": {},
   "outputs": [],
   "source": [
    "# TODO: Uncomment after https://teradata-pe.atlassian.net/browse/ELE-6743 is completed.\n",
    "# DataFrame('my_csv_table_2_ERR_2')"
   ]
  },
  {
   "cell_type": "code",
   "execution_count": 105,
   "id": "b1050a4c-a23a-4818-8a2b-dcef3c151b6c",
   "metadata": {},
   "outputs": [
    {
     "data": {
      "text/html": [
       "<style type=\"text/css\">\n",
       "\ttable {border:ridge 5px;}\n",
       "\ttable td {border:inset 1px;}\n",
       "\ttable tr#HeaderRow {background-color:grey; color:white;}</style>\n",
       "<html><table>\n",
       "\t<tr id=\"HeaderRow\">\n",
       "\t\t<th>error_message</th>\n",
       "\t</tr>\n",
       "\t<tr>\n",
       "\t\t<td> [Session 1339] [Teradata SQL Driver] [Warning 518] Found 1 duplicate or faulty row(s) while ending FastLoad of database table \"staging_db\".\"read_csv_table_2\": expected a row count of 5, got a row count of 4</td>\n",
       "\t</tr>\n",
       "</table></html>"
      ],
      "text/plain": [
       "                                                                                                                                                                                                error_message\n",
       "0   [Session 1339] [Teradata SQL Driver] [Warning 518] Found 1 duplicate or faulty row(s) while ending FastLoad of database table \"staging_db\".\"read_csv_table_2\": expected a row count of 5, got a row count of 4"
      ]
     },
     "execution_count": 105,
     "metadata": {},
     "output_type": "execute_result"
    }
   ],
   "source": [
    "warnings_table = returned_tuple[1]['warnings_table'].split('.')[1]\n",
    "DataFrame(warnings_table)"
   ]
  },
  {
   "cell_type": "markdown",
   "id": "206943a9-6ce3-49f4-806e-29fafe186efc",
   "metadata": {},
   "source": [
    "#### Usecase 6: Save data from CSV file Teradata Vantage table using fastload protocol and open desired number of data trasfer sessions."
   ]
  },
  {
   "cell_type": "markdown",
   "id": "175e1231-e629-4ce8-8215-9d11e9de5d2b",
   "metadata": {},
   "source": [
    "##### Note\n",
    "- Default number of data-transfer sessions (smaller of 8 or the number of AMPs available) are opened for FastLoad operation. For additional information about number of Teradata data-transfer sessions opened during fastload, please refer to: https://pypi.org/project/teradatasql/#FastLoad."
   ]
  },
  {
   "cell_type": "code",
   "execution_count": 106,
   "id": "d70867ac-3325-42a6-ae5f-28081c2ab87e",
   "metadata": {},
   "outputs": [
    {
     "data": {
      "text/html": [
       "<style type=\"text/css\">\n",
       "\ttable {border:ridge 5px;}\n",
       "\ttable td {border:inset 1px;}\n",
       "\ttable tr#HeaderRow {background-color:grey; color:white;}</style>\n",
       "<html><table>\n",
       "\t<tr id=\"HeaderRow\">\n",
       "\t\t<th>id</th>\n",
       "\t\t<th>fname</th>\n",
       "\t\t<th>lname</th>\n",
       "\t\t<th>marks</th>\n",
       "\t</tr>\n",
       "\t<tr>\n",
       "\t\t<td>101</td>\n",
       "\t\t<td>abc</td>\n",
       "\t\t<td>def</td>\n",
       "\t\t<td>200.0</td>\n",
       "\t</tr>\n",
       "\t<tr>\n",
       "\t\t<td>103</td>\n",
       "\t\t<td>def</td>\n",
       "\t\t<td>xyz</td>\n",
       "\t\t<td>492.0</td>\n",
       "\t</tr>\n",
       "\t<tr>\n",
       "\t\t<td>101</td>\n",
       "\t\t<td>abc</td>\n",
       "\t\t<td>def</td>\n",
       "\t\t<td>300.0</td>\n",
       "\t</tr>\n",
       "\t<tr>\n",
       "\t\t<td>102</td>\n",
       "\t\t<td>lmn</td>\n",
       "\t\t<td>pqr</td>\n",
       "\t\t<td>105.0</td>\n",
       "\t</tr>\n",
       "</table></html>"
      ],
      "text/plain": [
       "    id fname lname  marks\n",
       "0  101   abc   def  200.0\n",
       "1  103   def   xyz  492.0\n",
       "2  101   abc   def  300.0\n",
       "3  102   lmn   pqr  105.0"
      ]
     },
     "execution_count": 106,
     "metadata": {},
     "output_type": "execute_result"
    }
   ],
   "source": [
    "read_csv(filepath='test_file.csv',\n",
    "         table_name='read_csv_open_sessions',\n",
    "         open_sessions=2,\n",
    "         types=OrderedDict(id=BIGINT, fname=VARCHAR, lname=VARCHAR, marks=FLOAT))"
   ]
  },
  {
   "cell_type": "markdown",
   "id": "68899bb3-e975-46f8-b057-1474ff545a47",
   "metadata": {},
   "source": [
    "#### Usecase 7: Save timeseries data from CSV file into a Teradata Vantage table."
   ]
  },
  {
   "cell_type": "code",
   "execution_count": 107,
   "id": "a81bf529-5e27-4181-8e95-12f372828c3a",
   "metadata": {},
   "outputs": [],
   "source": [
    "# Generate a csv file having timeseries data.\n",
    "pti_record = ['partition_id,adid,product_id,event,clicktime',\n",
    "              '1039,1,1001,view,2009-07-29 20:17:59',\n",
    "              '1039,2,1001,view,2009-04-21 13:17:59',\n",
    "              '1039,4,1001,landing_page,2009-07-16 11:18:18',\n",
    "              '1039,5,1001,click,2009-08-19 22:18:02',\n",
    "              '1071,1,1001,view,2009-06-15 18:17:59']\n",
    "\n",
    "write_data_into_csv('time_series.csv', pti_record)"
   ]
  },
  {
   "cell_type": "code",
   "execution_count": 108,
   "id": "d9f229b6-a690-4229-b741-4da04422eb4f",
   "metadata": {},
   "outputs": [
    {
     "data": {
      "text/html": [
       "<style type=\"text/css\">\n",
       "\ttable {border:ridge 5px;}\n",
       "\ttable td {border:inset 1px;}\n",
       "\ttable tr#HeaderRow {background-color:grey; color:white;}</style>\n",
       "<html><table>\n",
       "\t<tr id=\"HeaderRow\">\n",
       "\t\t<th>TD_TIMECODE</th>\n",
       "\t\t<th>TD_SEQNO</th>\n",
       "\t\t<th>partition_id</th>\n",
       "\t\t<th>product_id</th>\n",
       "\t\t<th>event</th>\n",
       "\t</tr>\n",
       "\t<tr>\n",
       "\t\t<td>2009-04-21 13:17:59.000000</td>\n",
       "\t\t<td>2</td>\n",
       "\t\t<td>1039</td>\n",
       "\t\t<td>1001</td>\n",
       "\t\t<td>view</td>\n",
       "\t</tr>\n",
       "\t<tr>\n",
       "\t\t<td>2009-07-16 11:18:18.000000</td>\n",
       "\t\t<td>4</td>\n",
       "\t\t<td>1039</td>\n",
       "\t\t<td>1001</td>\n",
       "\t\t<td>landing_page</td>\n",
       "\t</tr>\n",
       "\t<tr>\n",
       "\t\t<td>2009-06-15 18:17:59.000000</td>\n",
       "\t\t<td>1</td>\n",
       "\t\t<td>1071</td>\n",
       "\t\t<td>1001</td>\n",
       "\t\t<td>view</td>\n",
       "\t</tr>\n",
       "\t<tr>\n",
       "\t\t<td>2009-08-19 22:18:02.000000</td>\n",
       "\t\t<td>5</td>\n",
       "\t\t<td>1039</td>\n",
       "\t\t<td>1001</td>\n",
       "\t\t<td>click</td>\n",
       "\t</tr>\n",
       "\t<tr>\n",
       "\t\t<td>2009-07-29 20:17:59.000000</td>\n",
       "\t\t<td>1</td>\n",
       "\t\t<td>1039</td>\n",
       "\t\t<td>1001</td>\n",
       "\t\t<td>view</td>\n",
       "\t</tr>\n",
       "</table></html>"
      ],
      "text/plain": [
       "                             TD_TIMECODE  TD_SEQNO  partition_id  product_id\n",
       "event                                                                       \n",
       "view          2009-04-21 13:17:59.000000         2          1039        1001\n",
       "landing_page  2009-07-16 11:18:18.000000         4          1039        1001\n",
       "view          2009-06-15 18:17:59.000000         1          1071        1001\n",
       "click         2009-08-19 22:18:02.000000         5          1039        1001\n",
       "view          2009-07-29 20:17:59.000000         1          1039        1001"
      ]
     },
     "execution_count": 108,
     "metadata": {},
     "output_type": "execute_result"
    }
   ],
   "source": [
    "read_csv(filepath='time_series.csv',\n",
    "         table_name='read_csv_pti',\n",
    "         types=OrderedDict(partition_id=INTEGER, adid=INTEGER, product_id=INTEGER,\n",
    "                           event=VARCHAR, clicktime=TIMESTAMP),\n",
    "         primary_time_index_name='pti_name',\n",
    "         timecode_column='clicktime',\n",
    "         timebucket_duration='HOURS(2)',\n",
    "         timezero_date=\"DATE '2009-01-01'\",\n",
    "         columns_list='event',\n",
    "         sequence_column='adid',\n",
    "         seq_max=10)"
   ]
  },
  {
   "cell_type": "markdown",
   "id": "53285f97-3869-495d-af1e-ada297570ff1",
   "metadata": {},
   "source": [
    "<hr>\n",
    "<b style = 'font-size:17px;font-family:Arial;color:#E37C4D'>2.4 DataFrame.to_sql()</b>"
   ]
  },
  {
   "cell_type": "markdown",
   "id": "89ce2f10-69ce-4d22-854e-775d7163ce8e",
   "metadata": {},
   "source": [
    "##### Notes:\n",
    "- Table underlying current teradataml DataFrame and target table can't be same.\n",
    "- If destination table already exists, operation will fail by default. Use `if_exists` argument to alter this behavior.\n",
    "- Destination table is created as MULTISET table by default. Use `set_table` argument to alter this behavior.\n",
    "- Destination table is created as a permanent table by default. Use `temporary` argument to alter this behavior.\n",
    "- Destination table is created in default database. Use `schema_name` argument to alter this behavior.\n",
    "- `schema_name` will be ignored when `temporary=True`.\n",
    "- Primary index of source DataFrame is not preserved in target table.\n",
    "- `primary_time_index_name`, `timecode_column`, `timebucket_duration`, `timezero_date`, `columns_list`, `sequence_column`, `seq_max` are only applicable for time series data."
   ]
  },
  {
   "cell_type": "markdown",
   "id": "2e3ee461-c7ef-42b8-a38c-8a7a3375f78e",
   "metadata": {},
   "source": [
    "#### Usecase 1: Save data from teradataml DataFrame to a different table by only specifying table name."
   ]
  },
  {
   "cell_type": "markdown",
   "id": "09bcf3e3-68ef-446a-80a4-513ba91159a1",
   "metadata": {},
   "source": [
    "##### Note:\n",
    "- If table already exists, operation will fail by default.."
   ]
  },
  {
   "cell_type": "code",
   "execution_count": 109,
   "id": "d703abae-900f-4e48-adb8-d2ec254e9e29",
   "metadata": {},
   "outputs": [],
   "source": [
    "filtered_df = tdml_df[(tdml_df.gpa == 4.00)]"
   ]
  },
  {
   "cell_type": "code",
   "execution_count": 110,
   "id": "0a155391-fbf5-4278-8e70-0bcd5dbb46ae",
   "metadata": {},
   "outputs": [],
   "source": [
    "filtered_df.to_sql(table_name='to_sql_target')"
   ]
  },
  {
   "cell_type": "code",
   "execution_count": 111,
   "id": "5d894b07-4682-4da1-a782-766291ed52ed",
   "metadata": {},
   "outputs": [
    {
     "data": {
      "text/html": [
       "<style type=\"text/css\">\n",
       "\ttable {border:ridge 5px;}\n",
       "\ttable td {border:inset 1px;}\n",
       "\ttable tr#HeaderRow {background-color:grey; color:white;}</style>\n",
       "<html><table>\n",
       "\t<tr id=\"HeaderRow\">\n",
       "\t\t<th>id</th>\n",
       "\t\t<th>masters</th>\n",
       "\t\t<th>gpa</th>\n",
       "\t\t<th>stats</th>\n",
       "\t\t<th>programming</th>\n",
       "\t\t<th>admitted</th>\n",
       "\t</tr>\n",
       "\t<tr>\n",
       "\t\t<td>29</td>\n",
       "\t\t<td>yes</td>\n",
       "\t\t<td>4.0</td>\n",
       "\t\t<td>Novice</td>\n",
       "\t\t<td>Beginner</td>\n",
       "\t\t<td>0</td>\n",
       "\t</tr>\n",
       "\t<tr>\n",
       "\t\t<td>13</td>\n",
       "\t\t<td>no</td>\n",
       "\t\t<td>4.0</td>\n",
       "\t\t<td>Advanced</td>\n",
       "\t\t<td>Novice</td>\n",
       "\t\t<td>1</td>\n",
       "\t</tr>\n",
       "\t<tr>\n",
       "\t\t<td>15</td>\n",
       "\t\t<td>yes</td>\n",
       "\t\t<td>4.0</td>\n",
       "\t\t<td>Advanced</td>\n",
       "\t\t<td>Advanced</td>\n",
       "\t\t<td>1</td>\n",
       "\t</tr>\n",
       "</table></html>"
      ],
      "text/plain": [
       "   id masters  gpa     stats programming  admitted\n",
       "0  29     yes  4.0    Novice    Beginner         0\n",
       "1  13      no  4.0  Advanced      Novice         1\n",
       "2  15     yes  4.0  Advanced    Advanced         1"
      ]
     },
     "execution_count": 111,
     "metadata": {},
     "output_type": "execute_result"
    }
   ],
   "source": [
    "DataFrame('to_sql_target')"
   ]
  },
  {
   "cell_type": "markdown",
   "id": "24751d61-015d-49ab-b1d0-a7be429448a9",
   "metadata": {},
   "source": [
    "####  Usecase 2: Append data from teradataml DataFrame to an existing Teradata Vantage table which is not same as underlying table of DataFrame."
   ]
  },
  {
   "cell_type": "code",
   "execution_count": 112,
   "id": "84d4085f-0711-4bb7-88df-19859aa6314c",
   "metadata": {},
   "outputs": [],
   "source": [
    "tdml_df.to_sql(table_name='to_sql_target',\n",
    "               if_exists='append')"
   ]
  },
  {
   "cell_type": "code",
   "execution_count": 113,
   "id": "b4f17e67-5750-4420-9efd-1e7adfa97ba0",
   "metadata": {},
   "outputs": [
    {
     "data": {
      "text/html": [
       "<style type=\"text/css\">\n",
       "\ttable {border:ridge 5px;}\n",
       "\ttable td {border:inset 1px;}\n",
       "\ttable tr#HeaderRow {background-color:grey; color:white;}</style>\n",
       "<html><table>\n",
       "\t<tr id=\"HeaderRow\">\n",
       "\t\t<th>id</th>\n",
       "\t\t<th>masters</th>\n",
       "\t\t<th>gpa</th>\n",
       "\t\t<th>stats</th>\n",
       "\t\t<th>programming</th>\n",
       "\t\t<th>admitted</th>\n",
       "\t</tr>\n",
       "\t<tr>\n",
       "\t\t<td>29</td>\n",
       "\t\t<td>yes</td>\n",
       "\t\t<td>4.0</td>\n",
       "\t\t<td>Novice</td>\n",
       "\t\t<td>Beginner</td>\n",
       "\t\t<td>0</td>\n",
       "\t</tr>\n",
       "\t<tr>\n",
       "\t\t<td>15</td>\n",
       "\t\t<td>yes</td>\n",
       "\t\t<td>4.0</td>\n",
       "\t\t<td>Advanced</td>\n",
       "\t\t<td>Advanced</td>\n",
       "\t\t<td>1</td>\n",
       "\t</tr>\n",
       "\t<tr>\n",
       "\t\t<td>34</td>\n",
       "\t\t<td>yes</td>\n",
       "\t\t<td>3.85</td>\n",
       "\t\t<td>Advanced</td>\n",
       "\t\t<td>Beginner</td>\n",
       "\t\t<td>0</td>\n",
       "\t</tr>\n",
       "\t<tr>\n",
       "\t\t<td>13</td>\n",
       "\t\t<td>no</td>\n",
       "\t\t<td>4.0</td>\n",
       "\t\t<td>Advanced</td>\n",
       "\t\t<td>Novice</td>\n",
       "\t\t<td>1</td>\n",
       "\t</tr>\n",
       "\t<tr>\n",
       "\t\t<td>11</td>\n",
       "\t\t<td>no</td>\n",
       "\t\t<td>3.13</td>\n",
       "\t\t<td>Advanced</td>\n",
       "\t\t<td>Advanced</td>\n",
       "\t\t<td>1</td>\n",
       "\t</tr>\n",
       "\t<tr>\n",
       "\t\t<td>30</td>\n",
       "\t\t<td>yes</td>\n",
       "\t\t<td>3.79</td>\n",
       "\t\t<td>Advanced</td>\n",
       "\t\t<td>Novice</td>\n",
       "\t\t<td>0</td>\n",
       "\t</tr>\n",
       "\t<tr>\n",
       "\t\t<td>32</td>\n",
       "\t\t<td>yes</td>\n",
       "\t\t<td>3.46</td>\n",
       "\t\t<td>Advanced</td>\n",
       "\t\t<td>Beginner</td>\n",
       "\t\t<td>0</td>\n",
       "\t</tr>\n",
       "\t<tr>\n",
       "\t\t<td>17</td>\n",
       "\t\t<td>no</td>\n",
       "\t\t<td>3.83</td>\n",
       "\t\t<td>Advanced</td>\n",
       "\t\t<td>Advanced</td>\n",
       "\t\t<td>1</td>\n",
       "\t</tr>\n",
       "\t<tr>\n",
       "\t\t<td>13</td>\n",
       "\t\t<td>no</td>\n",
       "\t\t<td>4.0</td>\n",
       "\t\t<td>Advanced</td>\n",
       "\t\t<td>Novice</td>\n",
       "\t\t<td>1</td>\n",
       "\t</tr>\n",
       "\t<tr>\n",
       "\t\t<td>15</td>\n",
       "\t\t<td>yes</td>\n",
       "\t\t<td>4.0</td>\n",
       "\t\t<td>Advanced</td>\n",
       "\t\t<td>Advanced</td>\n",
       "\t\t<td>1</td>\n",
       "\t</tr>\n",
       "</table></html>"
      ],
      "text/plain": [
       "   id masters   gpa     stats programming  admitted\n",
       "0  29     yes  4.00    Novice    Beginner         0\n",
       "1  15     yes  4.00  Advanced    Advanced         1\n",
       "2  34     yes  3.85  Advanced    Beginner         0\n",
       "3  13      no  4.00  Advanced      Novice         1\n",
       "4  11      no  3.13  Advanced    Advanced         1\n",
       "5  30     yes  3.79  Advanced      Novice         0\n",
       "6  32     yes  3.46  Advanced    Beginner         0\n",
       "7  17      no  3.83  Advanced    Advanced         1\n",
       "8  13      no  4.00  Advanced      Novice         1\n",
       "9  15     yes  4.00  Advanced    Advanced         1"
      ]
     },
     "execution_count": 113,
     "metadata": {},
     "output_type": "execute_result"
    }
   ],
   "source": [
    "DataFrame('to_sql_target')"
   ]
  },
  {
   "cell_type": "markdown",
   "id": "fc1dd21a-2244-43ab-90ce-8b7085da67d0",
   "metadata": {},
   "source": [
    "#### Usecase 3: Save teradataml DataFrame to Teradata Vantage as a SET table. Also mention column to be used as primary index for destination table."
   ]
  },
  {
   "cell_type": "code",
   "execution_count": 114,
   "id": "27e2f7d7-0692-49fb-b3be-4ca9415bc93b",
   "metadata": {},
   "outputs": [],
   "source": [
    "tdml_df.to_sql(table_name='to_sql_set_table',\n",
    "               set_table=True,\n",
    "               primary_index='id')"
   ]
  },
  {
   "cell_type": "code",
   "execution_count": 115,
   "id": "931dd5ef-33ea-45f4-b36b-a15b2ec2f182",
   "metadata": {},
   "outputs": [
    {
     "data": {
      "text/html": [
       "<style type=\"text/css\">\n",
       "\ttable {border:ridge 5px;}\n",
       "\ttable td {border:inset 1px;}\n",
       "\ttable tr#HeaderRow {background-color:grey; color:white;}</style>\n",
       "<html><table>\n",
       "\t<tr id=\"HeaderRow\">\n",
       "\t\t<th>id</th>\n",
       "\t\t<th>masters</th>\n",
       "\t\t<th>gpa</th>\n",
       "\t\t<th>stats</th>\n",
       "\t\t<th>programming</th>\n",
       "\t\t<th>admitted</th>\n",
       "\t</tr>\n",
       "\t<tr>\n",
       "\t\t<td>34</td>\n",
       "\t\t<td>yes</td>\n",
       "\t\t<td>3.85</td>\n",
       "\t\t<td>Advanced</td>\n",
       "\t\t<td>Beginner</td>\n",
       "\t\t<td>0</td>\n",
       "\t</tr>\n",
       "\t<tr>\n",
       "\t\t<td>32</td>\n",
       "\t\t<td>yes</td>\n",
       "\t\t<td>3.46</td>\n",
       "\t\t<td>Advanced</td>\n",
       "\t\t<td>Beginner</td>\n",
       "\t\t<td>0</td>\n",
       "\t</tr>\n",
       "\t<tr>\n",
       "\t\t<td>11</td>\n",
       "\t\t<td>no</td>\n",
       "\t\t<td>3.13</td>\n",
       "\t\t<td>Advanced</td>\n",
       "\t\t<td>Advanced</td>\n",
       "\t\t<td>1</td>\n",
       "\t</tr>\n",
       "\t<tr>\n",
       "\t\t<td>40</td>\n",
       "\t\t<td>yes</td>\n",
       "\t\t<td>3.95</td>\n",
       "\t\t<td>Novice</td>\n",
       "\t\t<td>Beginner</td>\n",
       "\t\t<td>0</td>\n",
       "\t</tr>\n",
       "\t<tr>\n",
       "\t\t<td>38</td>\n",
       "\t\t<td>yes</td>\n",
       "\t\t<td>2.65</td>\n",
       "\t\t<td>Advanced</td>\n",
       "\t\t<td>Beginner</td>\n",
       "\t\t<td>1</td>\n",
       "\t</tr>\n",
       "\t<tr>\n",
       "\t\t<td>36</td>\n",
       "\t\t<td>no</td>\n",
       "\t\t<td>3.0</td>\n",
       "\t\t<td>Advanced</td>\n",
       "\t\t<td>Novice</td>\n",
       "\t\t<td>0</td>\n",
       "\t</tr>\n",
       "\t<tr>\n",
       "\t\t<td>7</td>\n",
       "\t\t<td>yes</td>\n",
       "\t\t<td>2.33</td>\n",
       "\t\t<td>Novice</td>\n",
       "\t\t<td>Novice</td>\n",
       "\t\t<td>1</td>\n",
       "\t</tr>\n",
       "\t<tr>\n",
       "\t\t<td>26</td>\n",
       "\t\t<td>yes</td>\n",
       "\t\t<td>3.57</td>\n",
       "\t\t<td>Advanced</td>\n",
       "\t\t<td>Advanced</td>\n",
       "\t\t<td>1</td>\n",
       "\t</tr>\n",
       "\t<tr>\n",
       "\t\t<td>19</td>\n",
       "\t\t<td>yes</td>\n",
       "\t\t<td>1.98</td>\n",
       "\t\t<td>Advanced</td>\n",
       "\t\t<td>Advanced</td>\n",
       "\t\t<td>0</td>\n",
       "\t</tr>\n",
       "\t<tr>\n",
       "\t\t<td>13</td>\n",
       "\t\t<td>no</td>\n",
       "\t\t<td>4.0</td>\n",
       "\t\t<td>Advanced</td>\n",
       "\t\t<td>Novice</td>\n",
       "\t\t<td>1</td>\n",
       "\t</tr>\n",
       "</table></html>"
      ],
      "text/plain": [
       "   masters   gpa     stats programming  admitted\n",
       "id                                              \n",
       "34     yes  3.85  Advanced    Beginner         0\n",
       "32     yes  3.46  Advanced    Beginner         0\n",
       "11      no  3.13  Advanced    Advanced         1\n",
       "40     yes  3.95    Novice    Beginner         0\n",
       "38     yes  2.65  Advanced    Beginner         1\n",
       "36      no  3.00  Advanced      Novice         0\n",
       "7      yes  2.33    Novice      Novice         1\n",
       "26     yes  3.57  Advanced    Advanced         1\n",
       "19     yes  1.98  Advanced    Advanced         0\n",
       "13      no  4.00  Advanced      Novice         1"
      ]
     },
     "execution_count": 115,
     "metadata": {},
     "output_type": "execute_result"
    }
   ],
   "source": [
    "set_df = DataFrame('to_sql_set_table')\n",
    "set_df"
   ]
  },
  {
   "cell_type": "code",
   "execution_count": 116,
   "id": "f40e9d76-0716-4679-b670-380c8103cdf9",
   "metadata": {},
   "outputs": [
    {
     "data": {
      "text/plain": [
       "['id']"
      ]
     },
     "execution_count": 116,
     "metadata": {},
     "output_type": "execute_result"
    }
   ],
   "source": [
    "set_df.index"
   ]
  },
  {
   "cell_type": "markdown",
   "id": "52017aef-51fd-4be5-a627-6a58d843e873",
   "metadata": {},
   "source": [
    "#### Usecase 4: Save teradataml DataFrame in destination schema."
   ]
  },
  {
   "cell_type": "markdown",
   "id": "a8f857df-5dec-4a96-9579-9371dad0f92b",
   "metadata": {},
   "source": [
    "Notes:\n",
    "- User must have create table rights on provided schema."
   ]
  },
  {
   "cell_type": "code",
   "execution_count": 117,
   "id": "81f0cba0-bf11-4a4a-be11-ab3e331d578f",
   "metadata": {},
   "outputs": [
    {
     "name": "stdin",
     "output_type": "stream",
     "text": [
      "Schema name:  ········\n"
     ]
    }
   ],
   "source": [
    "schema_name = getpass.getpass(\"Schema name: \")"
   ]
  },
  {
   "cell_type": "code",
   "execution_count": 118,
   "id": "0902c229-287f-4232-bccc-a1c838899ceb",
   "metadata": {},
   "outputs": [],
   "source": [
    "tdml_df.to_sql(table_name='to_sql_target_schema',\n",
    "               schema_name=schema_name)"
   ]
  },
  {
   "cell_type": "code",
   "execution_count": 119,
   "id": "545d57a9-3e7c-4cc4-a236-ca849667ef82",
   "metadata": {},
   "outputs": [
    {
     "data": {
      "text/html": [
       "<style type=\"text/css\">\n",
       "\ttable {border:ridge 5px;}\n",
       "\ttable td {border:inset 1px;}\n",
       "\ttable tr#HeaderRow {background-color:grey; color:white;}</style>\n",
       "<html><table>\n",
       "\t<tr id=\"HeaderRow\">\n",
       "\t\t<th>id</th>\n",
       "\t\t<th>masters</th>\n",
       "\t\t<th>gpa</th>\n",
       "\t\t<th>stats</th>\n",
       "\t\t<th>programming</th>\n",
       "\t\t<th>admitted</th>\n",
       "\t</tr>\n",
       "\t<tr>\n",
       "\t\t<td>34</td>\n",
       "\t\t<td>yes</td>\n",
       "\t\t<td>3.85</td>\n",
       "\t\t<td>Advanced</td>\n",
       "\t\t<td>Beginner</td>\n",
       "\t\t<td>0</td>\n",
       "\t</tr>\n",
       "\t<tr>\n",
       "\t\t<td>32</td>\n",
       "\t\t<td>yes</td>\n",
       "\t\t<td>3.46</td>\n",
       "\t\t<td>Advanced</td>\n",
       "\t\t<td>Beginner</td>\n",
       "\t\t<td>0</td>\n",
       "\t</tr>\n",
       "\t<tr>\n",
       "\t\t<td>11</td>\n",
       "\t\t<td>no</td>\n",
       "\t\t<td>3.13</td>\n",
       "\t\t<td>Advanced</td>\n",
       "\t\t<td>Advanced</td>\n",
       "\t\t<td>1</td>\n",
       "\t</tr>\n",
       "\t<tr>\n",
       "\t\t<td>30</td>\n",
       "\t\t<td>yes</td>\n",
       "\t\t<td>3.79</td>\n",
       "\t\t<td>Advanced</td>\n",
       "\t\t<td>Novice</td>\n",
       "\t\t<td>0</td>\n",
       "\t</tr>\n",
       "\t<tr>\n",
       "\t\t<td>28</td>\n",
       "\t\t<td>no</td>\n",
       "\t\t<td>3.93</td>\n",
       "\t\t<td>Advanced</td>\n",
       "\t\t<td>Advanced</td>\n",
       "\t\t<td>1</td>\n",
       "\t</tr>\n",
       "\t<tr>\n",
       "\t\t<td>16</td>\n",
       "\t\t<td>no</td>\n",
       "\t\t<td>3.7</td>\n",
       "\t\t<td>Advanced</td>\n",
       "\t\t<td>Advanced</td>\n",
       "\t\t<td>1</td>\n",
       "\t</tr>\n",
       "\t<tr>\n",
       "\t\t<td>9</td>\n",
       "\t\t<td>no</td>\n",
       "\t\t<td>3.82</td>\n",
       "\t\t<td>Advanced</td>\n",
       "\t\t<td>Advanced</td>\n",
       "\t\t<td>1</td>\n",
       "\t</tr>\n",
       "\t<tr>\n",
       "\t\t<td>13</td>\n",
       "\t\t<td>no</td>\n",
       "\t\t<td>4.0</td>\n",
       "\t\t<td>Advanced</td>\n",
       "\t\t<td>Novice</td>\n",
       "\t\t<td>1</td>\n",
       "\t</tr>\n",
       "\t<tr>\n",
       "\t\t<td>15</td>\n",
       "\t\t<td>yes</td>\n",
       "\t\t<td>4.0</td>\n",
       "\t\t<td>Advanced</td>\n",
       "\t\t<td>Advanced</td>\n",
       "\t\t<td>1</td>\n",
       "\t</tr>\n",
       "\t<tr>\n",
       "\t\t<td>17</td>\n",
       "\t\t<td>no</td>\n",
       "\t\t<td>3.83</td>\n",
       "\t\t<td>Advanced</td>\n",
       "\t\t<td>Advanced</td>\n",
       "\t\t<td>1</td>\n",
       "\t</tr>\n",
       "</table></html>"
      ],
      "text/plain": [
       "   id masters   gpa     stats programming  admitted\n",
       "0  34     yes  3.85  Advanced    Beginner         0\n",
       "1  32     yes  3.46  Advanced    Beginner         0\n",
       "2  11      no  3.13  Advanced    Advanced         1\n",
       "3  30     yes  3.79  Advanced      Novice         0\n",
       "4  28      no  3.93  Advanced    Advanced         1\n",
       "5  16      no  3.70  Advanced    Advanced         1\n",
       "6   9      no  3.82  Advanced    Advanced         1\n",
       "7  13      no  4.00  Advanced      Novice         1\n",
       "8  15     yes  4.00  Advanced    Advanced         1\n",
       "9  17      no  3.83  Advanced    Advanced         1"
      ]
     },
     "execution_count": 119,
     "metadata": {},
     "output_type": "execute_result"
    }
   ],
   "source": [
    "DataFrame(in_schema(schema_name, 'to_sql_target_schema'))"
   ]
  },
  {
   "cell_type": "markdown",
   "id": "87aab300-6c38-45c9-8848-f91a7b189437",
   "metadata": {},
   "source": [
    "#### Usecase 5 : Save teradataml DataFrame having timestamp data into Teradata Vantage as a PTI table."
   ]
  },
  {
   "cell_type": "markdown",
   "id": "4a224eb7-dc8e-4c52-a3da-6c63af82e26e",
   "metadata": {},
   "source": [
    "Notes:\n",
    "- `primary_time_index_name`, `timecode_column`, `timebucket_duration`, `timezero_date`, `columns_list`, `sequence_column`, `seq_max` are only applicable for time series data."
   ]
  },
  {
   "cell_type": "code",
   "execution_count": 120,
   "id": "6065097f-3378-4740-803a-f8dfb194a161",
   "metadata": {},
   "outputs": [],
   "source": [
    "tdml_time_df.to_sql(table_name='to_sql_pti',\n",
    "                    timecode_column='clicktime',\n",
    "                    columns_list='event',\n",
    "                    set_table=True)"
   ]
  },
  {
   "cell_type": "code",
   "execution_count": 121,
   "id": "40ed2de0-bc14-4733-a2a4-0046b8c119a9",
   "metadata": {},
   "outputs": [
    {
     "data": {
      "text/html": [
       "<style type=\"text/css\">\n",
       "\ttable {border:ridge 5px;}\n",
       "\ttable td {border:inset 1px;}\n",
       "\ttable tr#HeaderRow {background-color:grey; color:white;}</style>\n",
       "<html><table>\n",
       "\t<tr id=\"HeaderRow\">\n",
       "\t\t<th>TD_TIMECODE</th>\n",
       "\t\t<th>partition_id</th>\n",
       "\t\t<th>adid</th>\n",
       "\t\t<th>productid</th>\n",
       "\t\t<th>event</th>\n",
       "\t</tr>\n",
       "\t<tr>\n",
       "\t\t<td>2009-07-30 02:20:12.000000</td>\n",
       "\t\t<td>1167</td>\n",
       "\t\t<td>2</td>\n",
       "\t\t<td>1001</td>\n",
       "\t\t<td>page_03</td>\n",
       "\t</tr>\n",
       "\t<tr>\n",
       "\t\t<td>2009-02-09 15:17:59.000000</td>\n",
       "\t\t<td>1263</td>\n",
       "\t\t<td>4</td>\n",
       "\t\t<td>1001</td>\n",
       "\t\t<td>view</td>\n",
       "\t</tr>\n",
       "\t<tr>\n",
       "\t\t<td>2009-03-09 21:17:59.000000</td>\n",
       "\t\t<td>1199</td>\n",
       "\t\t<td>2</td>\n",
       "\t\t<td>1001</td>\n",
       "\t\t<td>view</td>\n",
       "\t</tr>\n",
       "\t<tr>\n",
       "\t\t<td>2009-03-13 17:17:59.000000</td>\n",
       "\t\t<td>1071</td>\n",
       "\t\t<td>4</td>\n",
       "\t\t<td>1001</td>\n",
       "\t\t<td>view</td>\n",
       "\t</tr>\n",
       "\t<tr>\n",
       "\t\t<td>2009-03-19 01:18:08.000000</td>\n",
       "\t\t<td>1199</td>\n",
       "\t\t<td>1</td>\n",
       "\t\t<td>1001</td>\n",
       "\t\t<td>click</td>\n",
       "\t</tr>\n",
       "\t<tr>\n",
       "\t\t<td>2009-03-19 01:18:09.000000</td>\n",
       "\t\t<td>1199</td>\n",
       "\t\t<td>1</td>\n",
       "\t\t<td>1001</td>\n",
       "\t\t<td>landing_page</td>\n",
       "\t</tr>\n",
       "\t<tr>\n",
       "\t\t<td>2009-03-19 01:17:59.000000</td>\n",
       "\t\t<td>1199</td>\n",
       "\t\t<td>1</td>\n",
       "\t\t<td>1001</td>\n",
       "\t\t<td>view</td>\n",
       "\t</tr>\n",
       "\t<tr>\n",
       "\t\t<td>2009-08-24 14:30:05.000000</td>\n",
       "\t\t<td>1039</td>\n",
       "\t\t<td>5</td>\n",
       "\t\t<td>1001</td>\n",
       "\t\t<td>page_03</td>\n",
       "\t</tr>\n",
       "\t<tr>\n",
       "\t\t<td>2009-07-27 06:10:12.000000</td>\n",
       "\t\t<td>1167</td>\n",
       "\t\t<td>2</td>\n",
       "\t\t<td>1001</td>\n",
       "\t\t<td>page_03</td>\n",
       "\t</tr>\n",
       "\t<tr>\n",
       "\t\t<td>2009-07-06 13:00:20.000000</td>\n",
       "\t\t<td>1231</td>\n",
       "\t\t<td>1</td>\n",
       "\t\t<td>1001</td>\n",
       "\t\t<td>page_03</td>\n",
       "\t</tr>\n",
       "</table></html>"
      ],
      "text/plain": [
       "                             TD_TIMECODE  partition_id  adid  productid\n",
       "event                                                                  \n",
       "page_03       2009-07-30 02:20:12.000000          1167     2       1001\n",
       "view          2009-02-09 15:17:59.000000          1263     4       1001\n",
       "view          2009-03-09 21:17:59.000000          1199     2       1001\n",
       "view          2009-03-13 17:17:59.000000          1071     4       1001\n",
       "click         2009-03-19 01:18:08.000000          1199     1       1001\n",
       "landing_page  2009-03-19 01:18:09.000000          1199     1       1001\n",
       "view          2009-03-19 01:17:59.000000          1199     1       1001\n",
       "page_03       2009-08-24 14:30:05.000000          1039     5       1001\n",
       "page_03       2009-07-27 06:10:12.000000          1167     2       1001\n",
       "page_03       2009-07-06 13:00:20.000000          1231     1       1001"
      ]
     },
     "execution_count": 121,
     "metadata": {},
     "output_type": "execute_result"
    }
   ],
   "source": [
    "pti_df = DataFrame('to_sql_pti')\n",
    "pti_df"
   ]
  },
  {
   "cell_type": "code",
   "execution_count": 122,
   "id": "cd4920be-f058-49e5-8f37-356bae2a5659",
   "metadata": {},
   "outputs": [
    {
     "data": {
      "text/plain": [
       "['event']"
      ]
     },
     "execution_count": 122,
     "metadata": {},
     "output_type": "execute_result"
    }
   ],
   "source": [
    "pti_df.index"
   ]
  },
  {
   "cell_type": "markdown",
   "id": "1e57d74b-3b76-4810-8548-8c456063ec70",
   "metadata": {
    "editable": true,
    "slideshow": {
     "slide_type": ""
    },
    "tags": []
   },
   "source": [
    "## 6. Cleanup"
   ]
  },
  {
   "cell_type": "code",
   "execution_count": 123,
   "id": "230b2bc6-61ff-4ca9-bbfc-1244bd114ee5",
   "metadata": {},
   "outputs": [],
   "source": [
    "tables_to_drop = ['admissions_train', 'sessionize_table',\n",
    "                  'copy_to_pd_table', 'copy_to_pd_set_table', 'copy_to_pd_table_1', 'copy_to_pd_table_2', 'copy_to_pd_index', 'copy_to_pd_multi_index',\n",
    "                  'copy_to_tdml_table_1', 'copy_to_tdml_set_table', 'copy_to_tdml_table_2', 'copy_to_pti_table',\n",
    "                  'fastload_table', 'fastload_table_1', 'fastload_table_2', 'fastload_table_3', 'fastload_in_diff_schema', 'fastload_with_err_warn_tbl_stag_db',\n",
    "                  'read_csv_table', 'read_csv_table_1', 'read_csv_table_pi', 'read_csv_table_2', 'read_csv_open_sessions', 'read_csv_pti',\n",
    "                  'to_sql_target', 'to_sql_set_table', 'to_sql_target_schema', 'to_sql_pti']"
   ]
  },
  {
   "cell_type": "code",
   "execution_count": 124,
   "id": "acd8e979-5613-4c7d-9af8-bf740caaa5a2",
   "metadata": {},
   "outputs": [],
   "source": [
    "# Remove the loaded tables.\n",
    "for table in tables_to_drop:\n",
    "    try:\n",
    "        db_drop_table(table)\n",
    "    except:\n",
    "        print(\"Failed to drop {}.\". format(table))\n",
    "        pass"
   ]
  },
  {
   "cell_type": "code",
   "execution_count": 125,
   "id": "ca711fab-86bf-46e2-913a-836b2dbb600e",
   "metadata": {},
   "outputs": [],
   "source": [
    "files_to_delete = ['test_file.csv', 'erroneous_data.csv', 'time_series.csv']"
   ]
  },
  {
   "cell_type": "code",
   "execution_count": 126,
   "id": "22bce0b0-827f-4e8f-bab8-3ee2d3682367",
   "metadata": {},
   "outputs": [],
   "source": [
    "# Remove CSV files.\n",
    "for csv_file in files_to_delete:\n",
    "    try:\n",
    "        os.remove (csv_file)\n",
    "    except:\n",
    "        print(\"Failed to remove {}.\". format(csv_file))\n",
    "        pass"
   ]
  },
  {
   "cell_type": "code",
   "execution_count": 127,
   "id": "08166d34-8549-4f63-8a37-4b9de9c2a3f4",
   "metadata": {},
   "outputs": [
    {
     "data": {
      "text/plain": [
       "True"
      ]
     },
     "execution_count": 127,
     "metadata": {},
     "output_type": "execute_result"
    }
   ],
   "source": [
    "# Removes the current context associated with the Teradata Vantage.\n",
    "remove_context()"
   ]
  }
 ],
 "metadata": {
  "kernelspec": {
   "display_name": "Python 3 (ipykernel)",
   "language": "python",
   "name": "python3"
  },
  "language_info": {
   "codemirror_mode": {
    "name": "ipython",
    "version": 3
   },
   "file_extension": ".py",
   "mimetype": "text/x-python",
   "name": "python",
   "nbconvert_exporter": "python",
   "pygments_lexer": "ipython3",
   "version": "3.11.10"
  }
 },
 "nbformat": 4,
 "nbformat_minor": 5
}
