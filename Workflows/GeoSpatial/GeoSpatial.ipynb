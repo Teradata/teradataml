{
 "cells": [
  {
   "cell_type": "markdown",
   "id": "8cf6d777-c5a3-4c4e-ba5e-4f6fa2d657c4",
   "metadata": {},
   "source": [
    "### Disclaimer\n",
    "TERADATA DISCLAIMS ALL WARRANTIES RELATING TO THE CODE, EXPRESS OR IMPLIED, INCLUDING, BUT NOT LIMITED TO, ANY WARRANTIES AGAINST INFRINGEMENT OF THIRD-PARTY RIGHTS, MERCHANTABILITY AND FITNESS FOR A PARTICULAR PURPOSE.\n",
    "\n",
    "TERADATA SHALL NOT BE RESPONSIBLE OR LIABLE WITH RESPECT TO ANY SUBJECT MATTER OF THE CODE UNDER ANY CONTRACT, NEGLIGENCE, STRICT LIABILITY OR OTHER THEORY \n",
    "    (A) FOR LOSS OR INACCURACY OF DATA OR COST OF PROCUREMENT OF SUBSTITUTE GOODS, SERVICES OR TECHNOLOGY, OR \n",
    "    (B) FOR ANY INDIRECT, INCIDENTAL OR CONSEQUENTIAL DAMAGES INCLUDING, BUT NOT LIMITED TO LOSS OF REVENUES AND LOSS OF PROFITS. TERADATA SHALL NOT BE RESPONSIBLE FOR ANY MATTER BEYOND ITS REASONABLE CONTROL.\n",
    "\n",
    "Notwithstanding anything to the contrary: \n",
    "    (a) Teradata will have no obligation of any kind with respect to any Code-related comments, suggestions, design changes or improvements that you elect to provide to Teradata in either verbal or written form (collectively, “Feedback”), and \n",
    "    (b) Teradata and its affiliates are hereby free to use any ideas, concepts, know-how or techniques, in whole or in part, contained in Feedback: \n",
    "        (i) for any purpose whatsoever, including developing, manufacturing, and/or marketing products and/or services incorporating Feedback in whole or in part, and \n",
    "        (ii) without any restrictions or limitations, including requiring the payment of any license fees, royalties, or other consideration. "
   ]
  },
  {
   "cell_type": "markdown",
   "id": "f13e07d6-a9f9-4996-99b0-7d5b145e411b",
   "metadata": {},
   "source": [
    "## Introduction\n",
    "##### User can create a GeoDataFrame on a Teradata table and view containing geospatial data. This allows user to retrieve, manipulate, process, and analyze geospatial information stored in the table with help of the GeoDataFrame Methods and GeoDataFrame Properties of teradataml GeoDataFrame.\n",
    "If GeoDataFrame is created on a table that does not contain geometry data, then exception is raised.\n",
    "teradataml GeoDataFrame extends the teradataml DataFrame that allows user to access and use teradataml DataFrame properties and methods.\n",
    "Methods and Properties of teradataml GeoDataFrame will return teradataml GeoDataFrame, if the result contains geometry data. If result does not contain geometry data, then it returns teradataml DataFrame."
   ]
  },
  {
   "cell_type": "markdown",
   "id": "abdd0b65-4ca6-46d2-bbd1-ea0807075bb8",
   "metadata": {},
   "source": [
    "This notebook covers following:\n",
    "1. Import the required teradataml modules.\n",
    "2. Connect to a Vantage system.\n",
    "3. Data loading.\n",
    "4. Create a GeoDataFrame. \n",
    "5. Different GeoDataFrame properties and methods. \n",
    "6. Cleanup"
   ]
  },
  {
   "cell_type": "markdown",
   "id": "430a37ee-f665-4e1e-ab3f-e19046197bcf",
   "metadata": {},
   "source": [
    "<hr>\n",
    "<b style = 'font-size:28px;font-family:Arial;color:#E37C4D'>1. Import the required modules.</b>"
   ]
  },
  {
   "cell_type": "code",
   "execution_count": 1,
   "id": "a1157743-6cf6-4a67-b757-1abc1d2b73e1",
   "metadata": {},
   "outputs": [],
   "source": [
    "# Import.\n",
    "import os\n",
    "import getpass\n",
    "\n",
    "from collections import OrderedDict\n",
    "\n",
    "from teradataml.context.context import *\n",
    "from teradataml import db_drop_table, read_csv\n",
    "from teradataml import Point, LineString, Polygon, GeometryCollection, GeoSequence\n",
    "from teradataml.geospatial.geodataframe import GeoDataFrame\n",
    "from teradataml.utils.utils import execute_sql\n",
    "from teradatasqlalchemy import (FLOAT, VARCHAR, INTEGER)"
   ]
  },
  {
   "cell_type": "markdown",
   "id": "a3268723-4ea5-4c44-9c8d-f67a84c660ff",
   "metadata": {},
   "source": [
    "<hr>\n",
    "<b style = 'font-size:28px;font-family:Arial;color:#E37C4D'>2. Connect to Vantage</b>\n",
    "<p style = 'font-size:16px;font-family:Arial'>You will be prompted to enter the host name, username and password.</p>"
   ]
  },
  {
   "cell_type": "code",
   "execution_count": 2,
   "id": "541a7cbb-e7e7-4d1c-a084-71728676b722",
   "metadata": {},
   "outputs": [
    {
     "name": "stdin",
     "output_type": "stream",
     "text": [
      "Hostname:  ········\n",
      "Username:  ········\n",
      "Password:  ········\n"
     ]
    }
   ],
   "source": [
    "con = create_context(host=getpass.getpass(\"Hostname: \"), \n",
    "                     username=getpass.getpass(\"Username: \"),\n",
    "                     password=getpass.getpass(\"Password: \"))"
   ]
  },
  {
   "cell_type": "markdown",
   "id": "f33ffa8f-0a66-4c1a-95ac-a6b8aa2c0f30",
   "metadata": {},
   "source": [
    "<hr>\n",
    "<b style = 'font-size:28px;font-family:Arial;color:#E37C4D'>3. Data Loading</b>"
   ]
  },
  {
   "cell_type": "code",
   "execution_count": 3,
   "id": "f19b5f55-e0ac-4f4f-b6f6-7689fe1a5f25",
   "metadata": {},
   "outputs": [
    {
     "data": {
      "text/plain": [
       "TeradataCursor uRowsHandle=13 bClosed=False"
      ]
     },
     "execution_count": 3,
     "metadata": {},
     "output_type": "execute_result"
    }
   ],
   "source": [
    "execute_sql(\"CREATE TABLE customers(pkey integer, cust_name VARCHAR(10),cust_zipcode VARCHAR(5), location ST_Geometry);\")\n",
    "execute_sql(\"INSERT INTO customers(0, 'Fred Smith', '91234', new ST_Geometry('POINT(20.34 80.78)'));\")\n",
    "execute_sql(\"INSERT INTO customers(1, 'Richard Connor', '95421', new ST_Geometry('POINT(20.56 89.44)'));\")\n",
    "execute_sql(\"INSERT INTO customers(2, 'Anita Johnson', '98523', new ST_Geometry('POINT(19.12 88.22)'));\")\n",
    "execute_sql(\"INSERT INTO customers(3, 'Mary Willow', '90642', new ST_Geometry('POINT(21.45 88.12)'));\")"
   ]
  },
  {
   "cell_type": "markdown",
   "id": "b903c9ef-6cf8-4dbd-9996-7e88853e8f5f",
   "metadata": {},
   "source": [
    "<hr>\n",
    "<b style = 'font-size:28px;font-family:Arial;color:#E37C4D'>4. Create a GeoDataFrame</b>"
   ]
  },
  {
   "cell_type": "code",
   "execution_count": 4,
   "id": "258e65cc-2b36-426b-a441-9aeeb02dcc33",
   "metadata": {},
   "outputs": [],
   "source": [
    "gdf = GeoDataFrame.from_table(\"customers\")"
   ]
  },
  {
   "cell_type": "code",
   "execution_count": 5,
   "id": "2108b95a-7ddc-4c64-8bcb-a7fd55a9e0de",
   "metadata": {},
   "outputs": [
    {
     "data": {
      "text/html": [
       "<style type=\"text/css\">\n",
       "\ttable {border:ridge 5px;}\n",
       "\ttable td {border:inset 1px;}\n",
       "\ttable tr#HeaderRow {background-color:grey; color:white;}</style>\n",
       "<html><table>\n",
       "\t<tr id=\"HeaderRow\">\n",
       "\t\t<th>pkey</th>\n",
       "\t\t<th>cust_name</th>\n",
       "\t\t<th>cust_zipcode</th>\n",
       "\t\t<th>location</th>\n",
       "\t</tr>\n",
       "\t<tr>\n",
       "\t\t<td>2</td>\n",
       "\t\t<td>Anita John</td>\n",
       "\t\t<td>98523</td>\n",
       "\t\t<td>POINT (19.12 88.22)</td>\n",
       "\t</tr>\n",
       "\t<tr>\n",
       "\t\t<td>0</td>\n",
       "\t\t<td>Fred Smith</td>\n",
       "\t\t<td>91234</td>\n",
       "\t\t<td>POINT (20.34 80.78)</td>\n",
       "\t</tr>\n",
       "\t<tr>\n",
       "\t\t<td>1</td>\n",
       "\t\t<td>Richard Co</td>\n",
       "\t\t<td>95421</td>\n",
       "\t\t<td>POINT (20.56 89.44)</td>\n",
       "\t</tr>\n",
       "\t<tr>\n",
       "\t\t<td>3</td>\n",
       "\t\t<td>Mary Willo</td>\n",
       "\t\t<td>90642</td>\n",
       "\t\t<td>POINT (21.45 88.12)</td>\n",
       "\t</tr>\n",
       "</table></html>"
      ],
      "text/plain": [
       "       cust_name cust_zipcode             location\n",
       "pkey                                              \n",
       "2     Anita John        98523  POINT (19.12 88.22)\n",
       "0     Fred Smith        91234  POINT (20.34 80.78)\n",
       "1     Richard Co        95421  POINT (20.56 89.44)\n",
       "3     Mary Willo        90642  POINT (21.45 88.12)"
      ]
     },
     "execution_count": 5,
     "metadata": {},
     "output_type": "execute_result"
    }
   ],
   "source": [
    "# Print the Geo dataframe.\n",
    "gdf"
   ]
  },
  {
   "cell_type": "code",
   "execution_count": 6,
   "id": "13550ce1-8d1d-4494-a236-74b6de3eed93",
   "metadata": {},
   "outputs": [
    {
     "data": {
      "text/html": [
       "<style type=\"text/css\">\n",
       "                                table {border:ridge 5px;}\n",
       "                                table td {border:inset 1px;}\n",
       "                                table tr#HeaderRow {background-color:grey; color:white;}\n",
       "                               </style>\n",
       "                               <html>\n",
       "                                  <table>\n",
       "                                    <tr id=\"HeaderRow\">\n",
       "                                        <th>COLUMN NAME</th>\n",
       "                                        <th>TYPE</th>\n",
       "                                    </tr>\n",
       "                                    <tr><td>pkey</td><td>INTEGER()</td></tr>\n",
       "<tr><td>cust_name</td><td>VARCHAR(length=10, charset='LATIN')</td></tr>\n",
       "<tr><td>cust_zipcode</td><td>VARCHAR(length=5, charset='LATIN')</td></tr>\n",
       "<tr><td>location</td><td>GEOMETRY()</td></tr>\n",
       "                                  </table>\n",
       "                               </html>\n",
       "                            "
      ],
      "text/plain": [
       "pkey                                      INTEGER()\n",
       "cust_name       VARCHAR(length=10, charset='LATIN')\n",
       "cust_zipcode     VARCHAR(length=5, charset='LATIN')\n",
       "location                                 GEOMETRY()"
      ]
     },
     "execution_count": 6,
     "metadata": {},
     "output_type": "execute_result"
    }
   ],
   "source": [
    "# Check the Teradata types for GeoDataFrame. Notice 'loc' column that is of type Geometry(). \n",
    "gdf.tdtypes"
   ]
  },
  {
   "cell_type": "code",
   "execution_count": 7,
   "id": "f1e1d80b-b005-49c7-97be-494be0b3b607",
   "metadata": {},
   "outputs": [
    {
     "data": {
      "text/html": [
       "<style type=\"text/css\">\n",
       "                                table {border:ridge 5px;}\n",
       "                                table td {border:inset 1px;}\n",
       "                                table tr#HeaderRow {background-color:grey; color:white;}\n",
       "                               </style>\n",
       "                               <html>\n",
       "                                  <table>\n",
       "                                    <tr id=\"HeaderRow\">\n",
       "                                        <th>COLUMN NAME</th>\n",
       "                                        <th>TYPE</th>\n",
       "                                    </tr>\n",
       "                                    <tr><td>pkey</td><td>int</td></tr>\n",
       "<tr><td>cust_name</td><td>str</td></tr>\n",
       "<tr><td>cust_zipcode</td><td>str</td></tr>\n",
       "<tr><td>location</td><td>str</td></tr>\n",
       "                                  </table>\n",
       "                               </html>\n",
       "                            "
      ],
      "text/plain": [
       "pkey            int\n",
       "cust_name       str\n",
       "cust_zipcode    str\n",
       "location        str"
      ]
     },
     "execution_count": 7,
     "metadata": {},
     "output_type": "execute_result"
    }
   ],
   "source": [
    "# Check the Python types for GeoDataFrame.\n",
    "gdf.dtypes"
   ]
  },
  {
   "cell_type": "markdown",
   "id": "e6c40097-13b0-4d86-90ad-561cd645012e",
   "metadata": {},
   "source": [
    "<hr>\n",
    "<b style = 'font-size:28px;font-family:Arial;color:#E37C4D'>5. GeoDataFrame methods and properties</b> "
   ]
  },
  {
   "cell_type": "code",
   "execution_count": 8,
   "id": "4a91a39b-171c-47e6-83b5-3840f7ab045f",
   "metadata": {},
   "outputs": [
    {
     "data": {
      "text/html": [
       "<style type=\"text/css\">\n",
       "\ttable {border:ridge 5px;}\n",
       "\ttable td {border:inset 1px;}\n",
       "\ttable tr#HeaderRow {background-color:grey; color:white;}</style>\n",
       "<html><table>\n",
       "\t<tr id=\"HeaderRow\">\n",
       "\t\t<th>pkey</th>\n",
       "\t\t<th>location</th>\n",
       "\t</tr>\n",
       "\t<tr>\n",
       "\t\t<td>2</td>\n",
       "\t\t<td>POINT (19.12 88.22)</td>\n",
       "\t</tr>\n",
       "\t<tr>\n",
       "\t\t<td>0</td>\n",
       "\t\t<td>POINT (20.34 80.78)</td>\n",
       "\t</tr>\n",
       "\t<tr>\n",
       "\t\t<td>1</td>\n",
       "\t\t<td>POINT (20.56 89.44)</td>\n",
       "\t</tr>\n",
       "\t<tr>\n",
       "\t\t<td>3</td>\n",
       "\t\t<td>POINT (21.45 88.12)</td>\n",
       "\t</tr>\n",
       "</table></html>"
      ],
      "text/plain": [
       "                 location\n",
       "pkey                     \n",
       "2     POINT (19.12 88.22)\n",
       "0     POINT (20.34 80.78)\n",
       "1     POINT (20.56 89.44)\n",
       "3     POINT (21.45 88.12)"
      ]
     },
     "execution_count": 8,
     "metadata": {},
     "output_type": "execute_result"
    }
   ],
   "source": [
    "# select few columns from the GeoDataFrame. \n",
    "gdf.select([\"pkey\", \"location\"])"
   ]
  },
  {
   "cell_type": "code",
   "execution_count": 9,
   "id": "f91d423d-4413-47dc-980f-496bf0c58b86",
   "metadata": {},
   "outputs": [
    {
     "data": {
      "text/html": [
       "<style type=\"text/css\">\n",
       "\ttable {border:ridge 5px;}\n",
       "\ttable td {border:inset 1px;}\n",
       "\ttable tr#HeaderRow {background-color:grey; color:white;}</style>\n",
       "<html><table>\n",
       "\t<tr id=\"HeaderRow\">\n",
       "\t\t<th>pkey</th>\n",
       "\t\t<th>cust_name</th>\n",
       "\t\t<th>cust_zipcode</th>\n",
       "\t\t<th>location</th>\n",
       "\t</tr>\n",
       "\t<tr>\n",
       "\t\t<td>2</td>\n",
       "\t\t<td>Anita John</td>\n",
       "\t\t<td>98523</td>\n",
       "\t\t<td>POINT (19.12 88.22)</td>\n",
       "\t</tr>\n",
       "\t<tr>\n",
       "\t\t<td>1</td>\n",
       "\t\t<td>Richard Co</td>\n",
       "\t\t<td>95421</td>\n",
       "\t\t<td>POINT (20.56 89.44)</td>\n",
       "\t</tr>\n",
       "</table></html>"
      ],
      "text/plain": [
       "       cust_name cust_zipcode             location\n",
       "pkey                                              \n",
       "2     Anita John        98523  POINT (19.12 88.22)\n",
       "1     Richard Co        95421  POINT (20.56 89.44)"
      ]
     },
     "execution_count": 9,
     "metadata": {},
     "output_type": "execute_result"
    }
   ],
   "source": [
    "# Filter rows from the GeoDataFrame. \n",
    "gdf_filter = gdf[gdf.pkey.isin([1, 2])]\n",
    "gdf_filter"
   ]
  },
  {
   "cell_type": "code",
   "execution_count": 10,
   "id": "141d4842-2c47-4fd9-99d9-70f7a6f6aeec",
   "metadata": {},
   "outputs": [
    {
     "data": {
      "text/html": [
       "<style type=\"text/css\">\n",
       "\ttable {border:ridge 5px;}\n",
       "\ttable td {border:inset 1px;}\n",
       "\ttable tr#HeaderRow {background-color:grey; color:white;}</style>\n",
       "<html><table>\n",
       "\t<tr id=\"HeaderRow\">\n",
       "\t\t<th>pkey</th>\n",
       "\t\t<th>cust_name</th>\n",
       "\t\t<th>cust_zipcode</th>\n",
       "\t\t<th>location</th>\n",
       "\t\t<th>is_simple_location_geom</th>\n",
       "\t</tr>\n",
       "\t<tr>\n",
       "\t\t<td>2</td>\n",
       "\t\t<td>Anita John</td>\n",
       "\t\t<td>98523</td>\n",
       "\t\t<td>POINT (19.12 88.22)</td>\n",
       "\t\t<td>1</td>\n",
       "\t</tr>\n",
       "\t<tr>\n",
       "\t\t<td>0</td>\n",
       "\t\t<td>Fred Smith</td>\n",
       "\t\t<td>91234</td>\n",
       "\t\t<td>POINT (20.34 80.78)</td>\n",
       "\t\t<td>1</td>\n",
       "\t</tr>\n",
       "\t<tr>\n",
       "\t\t<td>1</td>\n",
       "\t\t<td>Richard Co</td>\n",
       "\t\t<td>95421</td>\n",
       "\t\t<td>POINT (20.56 89.44)</td>\n",
       "\t\t<td>1</td>\n",
       "\t</tr>\n",
       "\t<tr>\n",
       "\t\t<td>3</td>\n",
       "\t\t<td>Mary Willo</td>\n",
       "\t\t<td>90642</td>\n",
       "\t\t<td>POINT (21.45 88.12)</td>\n",
       "\t\t<td>1</td>\n",
       "\t</tr>\n",
       "</table></html>"
      ],
      "text/plain": [
       "       cust_name cust_zipcode             location  is_simple_location_geom\n",
       "pkey                                                                       \n",
       "1     Richard Co        95421  POINT (20.56 89.44)                        1\n",
       "2     Anita John        98523  POINT (19.12 88.22)                        1\n",
       "3     Mary Willo        90642  POINT (21.45 88.12)                        1\n",
       "0     Fred Smith        91234  POINT (20.34 80.78)                        1"
      ]
     },
     "execution_count": 10,
     "metadata": {},
     "output_type": "execute_result"
    }
   ],
   "source": [
    "# Check if a Geometry value has no anomalous geometric points, such as self intersection tangency.\n",
    "# Resultant column \"is_simple_location_geom\" contains:\n",
    "#    * 1, if the geometry is simple, with no anomalous points\n",
    "#    * 0, if the geometry is not simple\n",
    "is_simple = gdf.is_simple\n",
    "is_simple"
   ]
  },
  {
   "cell_type": "code",
   "execution_count": 11,
   "id": "ac20697a-351f-4182-b98f-b9fbb150f0a0",
   "metadata": {},
   "outputs": [
    {
     "data": {
      "text/html": [
       "<style type=\"text/css\">\n",
       "\ttable {border:ridge 5px;}\n",
       "\ttable td {border:inset 1px;}\n",
       "\ttable tr#HeaderRow {background-color:grey; color:white;}</style>\n",
       "<html><table>\n",
       "\t<tr id=\"HeaderRow\">\n",
       "\t\t<th>pkey</th>\n",
       "\t\t<th>cust_name</th>\n",
       "\t\t<th>cust_zipcode</th>\n",
       "\t\t<th>location</th>\n",
       "\t\t<th>is_valid_location_geom</th>\n",
       "\t</tr>\n",
       "\t<tr>\n",
       "\t\t<td>1</td>\n",
       "\t\t<td>Richard Co</td>\n",
       "\t\t<td>95421</td>\n",
       "\t\t<td>POINT (20.56 89.44)</td>\n",
       "\t\t<td>1</td>\n",
       "\t</tr>\n",
       "\t<tr>\n",
       "\t\t<td>2</td>\n",
       "\t\t<td>Anita John</td>\n",
       "\t\t<td>98523</td>\n",
       "\t\t<td>POINT (19.12 88.22)</td>\n",
       "\t\t<td>1</td>\n",
       "\t</tr>\n",
       "\t<tr>\n",
       "\t\t<td>3</td>\n",
       "\t\t<td>Mary Willo</td>\n",
       "\t\t<td>90642</td>\n",
       "\t\t<td>POINT (21.45 88.12)</td>\n",
       "\t\t<td>1</td>\n",
       "\t</tr>\n",
       "\t<tr>\n",
       "\t\t<td>0</td>\n",
       "\t\t<td>Fred Smith</td>\n",
       "\t\t<td>91234</td>\n",
       "\t\t<td>POINT (20.34 80.78)</td>\n",
       "\t\t<td>1</td>\n",
       "\t</tr>\n",
       "</table></html>"
      ],
      "text/plain": [
       "       cust_name cust_zipcode             location  is_valid_location_geom\n",
       "pkey                                                                      \n",
       "1     Richard Co        95421  POINT (20.56 89.44)                       1\n",
       "2     Anita John        98523  POINT (19.12 88.22)                       1\n",
       "3     Mary Willo        90642  POINT (21.45 88.12)                       1\n",
       "0     Fred Smith        91234  POINT (20.34 80.78)                       1"
      ]
     },
     "execution_count": 11,
     "metadata": {},
     "output_type": "execute_result"
    }
   ],
   "source": [
    "# Check if a Geometry value is well-formed.\n",
    "# Resultant column \"is_valid_location_geom\" contains:\n",
    "#    * 1, if the geometry is simple, with no anomalous points\n",
    "#    * 0, if the geometry is not simple\n",
    "is_valid = gdf.is_valid\n",
    "is_valid"
   ]
  },
  {
   "cell_type": "code",
   "execution_count": 12,
   "id": "6ff9c6c6-1717-4358-8a77-9370605ac232",
   "metadata": {},
   "outputs": [],
   "source": [
    "# Get the geometry type.\n",
    "geom_type = gdf.geometry.geom_type"
   ]
  },
  {
   "cell_type": "code",
   "execution_count": 13,
   "id": "9cecdcf2-5b43-429a-ba4c-014b39f63c0d",
   "metadata": {},
   "outputs": [
    {
     "data": {
      "text/html": [
       "<style type=\"text/css\">\n",
       "\ttable {border:ridge 5px;}\n",
       "\ttable td {border:inset 1px;}\n",
       "\ttable tr#HeaderRow {background-color:grey; color:white;}</style>\n",
       "<html><table>\n",
       "\t<tr id=\"HeaderRow\">\n",
       "\t\t<th>pkey</th>\n",
       "\t\t<th>cust_name</th>\n",
       "\t\t<th>cust_zipcode</th>\n",
       "\t\t<th>location</th>\n",
       "\t\t<th>geom_type</th>\n",
       "\t\t<th>is_simple</th>\n",
       "\t\t<th>is_valid</th>\n",
       "\t</tr>\n",
       "\t<tr>\n",
       "\t\t<td>2</td>\n",
       "\t\t<td>Anita John</td>\n",
       "\t\t<td>98523</td>\n",
       "\t\t<td>POINT (19.12 88.22)</td>\n",
       "\t\t<td>ST_Point</td>\n",
       "\t\t<td>1</td>\n",
       "\t\t<td>1</td>\n",
       "\t</tr>\n",
       "\t<tr>\n",
       "\t\t<td>0</td>\n",
       "\t\t<td>Fred Smith</td>\n",
       "\t\t<td>91234</td>\n",
       "\t\t<td>POINT (20.34 80.78)</td>\n",
       "\t\t<td>ST_Point</td>\n",
       "\t\t<td>1</td>\n",
       "\t\t<td>1</td>\n",
       "\t</tr>\n",
       "\t<tr>\n",
       "\t\t<td>1</td>\n",
       "\t\t<td>Richard Co</td>\n",
       "\t\t<td>95421</td>\n",
       "\t\t<td>POINT (20.56 89.44)</td>\n",
       "\t\t<td>ST_Point</td>\n",
       "\t\t<td>1</td>\n",
       "\t\t<td>1</td>\n",
       "\t</tr>\n",
       "\t<tr>\n",
       "\t\t<td>3</td>\n",
       "\t\t<td>Mary Willo</td>\n",
       "\t\t<td>90642</td>\n",
       "\t\t<td>POINT (21.45 88.12)</td>\n",
       "\t\t<td>ST_Point</td>\n",
       "\t\t<td>1</td>\n",
       "\t\t<td>1</td>\n",
       "\t</tr>\n",
       "</table></html>"
      ],
      "text/plain": [
       "       cust_name cust_zipcode             location geom_type  is_simple  is_valid\n",
       "pkey                                                                             \n",
       "1     Richard Co        95421  POINT (20.56 89.44)  ST_Point          1         1\n",
       "2     Anita John        98523  POINT (19.12 88.22)  ST_Point          1         1\n",
       "3     Mary Willo        90642  POINT (21.45 88.12)  ST_Point          1         1\n",
       "0     Fred Smith        91234  POINT (20.34 80.78)  ST_Point          1         1"
      ]
     },
     "execution_count": 13,
     "metadata": {},
     "output_type": "execute_result"
    }
   ],
   "source": [
    "# Assign new columns. \n",
    "gdf.assign(geom_type = geom_type, is_simple = gdf.geometry.is_simple, is_valid = gdf.geometry.is_valid)"
   ]
  },
  {
   "cell_type": "code",
   "execution_count": 14,
   "id": "4ec9f621-f289-4b30-aa84-781444e18118",
   "metadata": {},
   "outputs": [
    {
     "data": {
      "text/html": [
       "<style type=\"text/css\">\n",
       "\ttable {border:ridge 5px;}\n",
       "\ttable td {border:inset 1px;}\n",
       "\ttable tr#HeaderRow {background-color:grey; color:white;}</style>\n",
       "<html><table>\n",
       "\t<tr id=\"HeaderRow\">\n",
       "\t\t<th>pkey</th>\n",
       "\t\t<th>cust_name</th>\n",
       "\t\t<th>cust_zipcode</th>\n",
       "\t\t<th>location</th>\n",
       "\t\t<th>x_location_geom</th>\n",
       "\t</tr>\n",
       "\t<tr>\n",
       "\t\t<td>2</td>\n",
       "\t\t<td>Anita John</td>\n",
       "\t\t<td>98523</td>\n",
       "\t\t<td>POINT (19.12 88.22)</td>\n",
       "\t\t<td>19.12</td>\n",
       "\t</tr>\n",
       "\t<tr>\n",
       "\t\t<td>0</td>\n",
       "\t\t<td>Fred Smith</td>\n",
       "\t\t<td>91234</td>\n",
       "\t\t<td>POINT (20.34 80.78)</td>\n",
       "\t\t<td>20.34</td>\n",
       "\t</tr>\n",
       "\t<tr>\n",
       "\t\t<td>1</td>\n",
       "\t\t<td>Richard Co</td>\n",
       "\t\t<td>95421</td>\n",
       "\t\t<td>POINT (20.56 89.44)</td>\n",
       "\t\t<td>20.56</td>\n",
       "\t</tr>\n",
       "\t<tr>\n",
       "\t\t<td>3</td>\n",
       "\t\t<td>Mary Willo</td>\n",
       "\t\t<td>90642</td>\n",
       "\t\t<td>POINT (21.45 88.12)</td>\n",
       "\t\t<td>21.45</td>\n",
       "\t</tr>\n",
       "</table></html>"
      ],
      "text/plain": [
       "       cust_name cust_zipcode             location  x_location_geom\n",
       "pkey                                                               \n",
       "1     Richard Co        95421  POINT (20.56 89.44)            20.56\n",
       "2     Anita John        98523  POINT (19.12 88.22)            19.12\n",
       "3     Mary Willo        90642  POINT (21.45 88.12)            21.45\n",
       "0     Fred Smith        91234  POINT (20.34 80.78)            20.34"
      ]
     },
     "execution_count": 14,
     "metadata": {},
     "output_type": "execute_result"
    }
   ],
   "source": [
    "# Find the x-coordinate. \n",
    "gdf.x"
   ]
  },
  {
   "cell_type": "code",
   "execution_count": 15,
   "id": "5840e592-45db-4abf-9540-16bc2cc45393",
   "metadata": {},
   "outputs": [
    {
     "data": {
      "text/html": [
       "<style type=\"text/css\">\n",
       "\ttable {border:ridge 5px;}\n",
       "\ttable td {border:inset 1px;}\n",
       "\ttable tr#HeaderRow {background-color:grey; color:white;}</style>\n",
       "<html><table>\n",
       "\t<tr id=\"HeaderRow\">\n",
       "\t\t<th>pkey</th>\n",
       "\t\t<th>cust_name</th>\n",
       "\t\t<th>cust_zipcode</th>\n",
       "\t\t<th>location</th>\n",
       "\t\t<th>y_location_geom</th>\n",
       "\t</tr>\n",
       "\t<tr>\n",
       "\t\t<td>1</td>\n",
       "\t\t<td>Richard Co</td>\n",
       "\t\t<td>95421</td>\n",
       "\t\t<td>POINT (20.56 89.44)</td>\n",
       "\t\t<td>89.44</td>\n",
       "\t</tr>\n",
       "\t<tr>\n",
       "\t\t<td>2</td>\n",
       "\t\t<td>Anita John</td>\n",
       "\t\t<td>98523</td>\n",
       "\t\t<td>POINT (19.12 88.22)</td>\n",
       "\t\t<td>88.22</td>\n",
       "\t</tr>\n",
       "\t<tr>\n",
       "\t\t<td>3</td>\n",
       "\t\t<td>Mary Willo</td>\n",
       "\t\t<td>90642</td>\n",
       "\t\t<td>POINT (21.45 88.12)</td>\n",
       "\t\t<td>88.12</td>\n",
       "\t</tr>\n",
       "\t<tr>\n",
       "\t\t<td>0</td>\n",
       "\t\t<td>Fred Smith</td>\n",
       "\t\t<td>91234</td>\n",
       "\t\t<td>POINT (20.34 80.78)</td>\n",
       "\t\t<td>80.78</td>\n",
       "\t</tr>\n",
       "</table></html>"
      ],
      "text/plain": [
       "       cust_name cust_zipcode             location  y_location_geom\n",
       "pkey                                                               \n",
       "1     Richard Co        95421  POINT (20.56 89.44)            89.44\n",
       "2     Anita John        98523  POINT (19.12 88.22)            88.22\n",
       "3     Mary Willo        90642  POINT (21.45 88.12)            88.12\n",
       "0     Fred Smith        91234  POINT (20.34 80.78)            80.78"
      ]
     },
     "execution_count": 15,
     "metadata": {},
     "output_type": "execute_result"
    }
   ],
   "source": [
    "# Find the y-coordinate. \n",
    "gdf.y"
   ]
  },
  {
   "cell_type": "code",
   "execution_count": 16,
   "id": "770a0247-e1a2-4cff-b0cf-57e739f81f2f",
   "metadata": {},
   "outputs": [
    {
     "data": {
      "text/plain": [
       "'location'"
      ]
     },
     "execution_count": 16,
     "metadata": {},
     "output_type": "execute_result"
    }
   ],
   "source": [
    "# Print the column name that contains geometry data.\n",
    "gdf.geometry.name"
   ]
  },
  {
   "cell_type": "markdown",
   "id": "d9aad549-a097-4c78-9e16-cc30d1f2d7ab",
   "metadata": {},
   "source": [
    "<hr>\n",
    "<b style = 'font-size:28px;font-family:Arial;color:#E37C4D'>6. Cleanup</b>"
   ]
  },
  {
   "cell_type": "code",
   "execution_count": 17,
   "id": "02f34d58-7e0a-414c-aec2-ec27d1711d81",
   "metadata": {},
   "outputs": [
    {
     "data": {
      "text/plain": [
       "True"
      ]
     },
     "execution_count": 17,
     "metadata": {},
     "output_type": "execute_result"
    }
   ],
   "source": [
    "# Drop the table. \n",
    "db_drop_table('customers')"
   ]
  },
  {
   "cell_type": "code",
   "execution_count": 18,
   "id": "a725bcbf-12e0-4b73-b9db-8059d204e42c",
   "metadata": {},
   "outputs": [
    {
     "data": {
      "text/plain": [
       "True"
      ]
     },
     "execution_count": 18,
     "metadata": {},
     "output_type": "execute_result"
    }
   ],
   "source": [
    "# Remove context.\n",
    "remove_context()"
   ]
  },
  {
   "cell_type": "code",
   "execution_count": null,
   "id": "254f007f-7ce2-4b04-a16b-54add1a6c6d7",
   "metadata": {},
   "outputs": [],
   "source": []
  }
 ],
 "metadata": {
  "kernelspec": {
   "display_name": "tdml_venv",
   "language": "python",
   "name": "tdml_venv"
  },
  "language_info": {
   "codemirror_mode": {
    "name": "ipython",
    "version": 3
   },
   "file_extension": ".py",
   "mimetype": "text/x-python",
   "name": "python",
   "nbconvert_exporter": "python",
   "pygments_lexer": "ipython3",
   "version": "3.10.11"
  }
 },
 "nbformat": 4,
 "nbformat_minor": 5
}
