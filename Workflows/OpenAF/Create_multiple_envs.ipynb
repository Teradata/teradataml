{
 "cells": [
  {
   "cell_type": "markdown",
   "id": "236f46d0-c5d7-4100-955c-94e1b332001a",
   "metadata": {},
   "source": [
    "# Open Analytics Framework - Multiple User Environments creation."
   ]
  },
  {
   "cell_type": "markdown",
   "id": "19e949b4-35f0-42ac-a9d3-0c0d719e729a",
   "metadata": {},
   "source": [
    "### Disclaimer\n",
    "The sample code (“Sample Code”) provided is not covered by any Teradata agreements. Please be aware that Teradata has no control over the model responses to such sample code and such response may vary. The use of the model by Teradata is strictly for demonstration purposes and does not constitute any form of certification or endorsement. The sample code is provided “AS IS” and any express or implied warranties, including the implied warranties of merchantability and fitness for a particular purpose, are disclaimed. In no event shall Teradata be liable for any direct, indirect, incidental, special, exemplary, or consequential damages (including, but not limited to, procurement of substitute goods or services; loss of use, data, or profits; or business interruption) sustained by you or a third party, however caused and on any theory of liability, whether in contract, strict liability, or tort arising in any way out of the use of this sample code, even if advised of the possibility of such damage.\n",
    "\n",
    "\n",
    "### Introduction\n",
    "`create_env()` creates isolated remote user environment(s) in the Open Analytics Framework that include a specific Python or R language interpreter version, when \"template\" argument is provided. Additionally, files/libs are installed if specified in template file. The \"template\" argument enables users to create multiple environments using a single JSON template file.\n",
    "\n",
    "Steps to create the multiple user environments using a single template file.:\n",
    "1. Import the required teradataml modules.\n",
    "2. Connect to a Vantage system.\n",
    "3. Set parameters for OpenAF services.\n",
    "4. Create new environments using template file.\n",
    "5. List the created user environments.\n",
    "6. Cleanup."
   ]
  },
  {
   "cell_type": "markdown",
   "id": "cea42d14-ae1e-4d79-a595-e68a3dc5ec8e",
   "metadata": {},
   "source": [
    "## 1. Import the required teradataml modules"
   ]
  },
  {
   "cell_type": "code",
   "execution_count": 1,
   "id": "5ffddf03",
   "metadata": {},
   "outputs": [],
   "source": [
    "from teradataml import create_context, remove_context, set_auth_token, list_base_envs, create_env, remove_env, list_user_envs, remove_all_envs\n",
    "import getpass, os"
   ]
  },
  {
   "cell_type": "markdown",
   "id": "5d9e0fca-626b-406b-85ee-c9bf05968ade",
   "metadata": {},
   "source": [
    "## 2. Connect to a Vantage system"
   ]
  },
  {
   "cell_type": "code",
   "execution_count": 2,
   "id": "01fdfed2",
   "metadata": {},
   "outputs": [
    {
     "name": "stdin",
     "output_type": "stream",
     "text": [
      "Host:  ········\n",
      "Username:  ········\n",
      "Password:  ········\n"
     ]
    }
   ],
   "source": [
    "# Create a connetion.\n",
    "host = getpass.getpass(\"Host: \")\n",
    "username = getpass.getpass(\"Username: \")\n",
    "password = getpass.getpass(\"Password: \")\n",
    "\n",
    "con = create_context(host=host, username=username, password=password)"
   ]
  },
  {
   "cell_type": "markdown",
   "id": "c0f4bfcf-d798-4578-a619-f26df4dc1d88",
   "metadata": {},
   "source": [
    "## 3. Set parameters for OpenAF services"
   ]
  },
  {
   "cell_type": "code",
   "execution_count": 3,
   "id": "19a2e2a4",
   "metadata": {
    "scrolled": true
   },
   "outputs": [
    {
     "name": "stdin",
     "output_type": "stream",
     "text": [
      "ues_url :  ········\n",
      "auth_token :  ········\n"
     ]
    }
   ],
   "source": [
    "# set parameters for OpenAF services.\n",
    "ues_url = getpass.getpass(\"ues_url : \")\n",
    "auth_token = getpass.getpass(\"auth_token : \")"
   ]
  },
  {
   "cell_type": "code",
   "execution_count": 4,
   "id": "251278c1-a949-4f68-adfe-7f570be7dcaf",
   "metadata": {},
   "outputs": [
    {
     "data": {
      "text/plain": [
       "True"
      ]
     },
     "execution_count": 4,
     "metadata": {},
     "output_type": "execute_result"
    }
   ],
   "source": [
    "set_auth_token(ues_url=ues_url, auth_token=auth_token)"
   ]
  },
  {
   "cell_type": "markdown",
   "id": "36530289-ec11-4ea9-bd8f-bba4a5961120",
   "metadata": {},
   "source": [
    "## 4. Create new environments using template file"
   ]
  },
  {
   "cell_type": "markdown",
   "id": "cc3b1597-c71c-43f1-a4e2-c6bacddbcf26",
   "metadata": {},
   "source": [
    "#### First we will check what are the available base user environments using \"list_base_envs()\" and user environments using \"list_user_envs()\"\n",
    "\n",
    "User environments are created from available base environments."
   ]
  },
  {
   "cell_type": "code",
   "execution_count": 5,
   "id": "5b01eafe",
   "metadata": {
    "scrolled": true
   },
   "outputs": [
    {
     "data": {
      "text/html": [
       "<div>\n",
       "<style scoped>\n",
       "    .dataframe tbody tr th:only-of-type {\n",
       "        vertical-align: middle;\n",
       "    }\n",
       "\n",
       "    .dataframe tbody tr th {\n",
       "        vertical-align: top;\n",
       "    }\n",
       "\n",
       "    .dataframe thead th {\n",
       "        text-align: right;\n",
       "    }\n",
       "</style>\n",
       "<table border=\"1\" class=\"dataframe\">\n",
       "  <thead>\n",
       "    <tr style=\"text-align: right;\">\n",
       "      <th></th>\n",
       "      <th>base_name</th>\n",
       "      <th>language</th>\n",
       "      <th>version</th>\n",
       "    </tr>\n",
       "  </thead>\n",
       "  <tbody>\n",
       "    <tr>\n",
       "      <th>0</th>\n",
       "      <td>python_3.8</td>\n",
       "      <td>Python</td>\n",
       "      <td>3.8.18</td>\n",
       "    </tr>\n",
       "    <tr>\n",
       "      <th>1</th>\n",
       "      <td>python_3.9</td>\n",
       "      <td>Python</td>\n",
       "      <td>3.9.18</td>\n",
       "    </tr>\n",
       "    <tr>\n",
       "      <th>2</th>\n",
       "      <td>python_3.10</td>\n",
       "      <td>Python</td>\n",
       "      <td>3.10.13</td>\n",
       "    </tr>\n",
       "    <tr>\n",
       "      <th>3</th>\n",
       "      <td>r_4.1</td>\n",
       "      <td>R</td>\n",
       "      <td>4.1.3</td>\n",
       "    </tr>\n",
       "    <tr>\n",
       "      <th>4</th>\n",
       "      <td>r_4.0</td>\n",
       "      <td>R</td>\n",
       "      <td>4.0.5</td>\n",
       "    </tr>\n",
       "    <tr>\n",
       "      <th>5</th>\n",
       "      <td>r_4.2</td>\n",
       "      <td>R</td>\n",
       "      <td>4.2.2</td>\n",
       "    </tr>\n",
       "  </tbody>\n",
       "</table>\n",
       "</div>"
      ],
      "text/plain": [
       "     base_name language  version\n",
       "0   python_3.8   Python   3.8.18\n",
       "1   python_3.9   Python   3.9.18\n",
       "2  python_3.10   Python  3.10.13\n",
       "3        r_4.1        R    4.1.3\n",
       "4        r_4.0        R    4.0.5\n",
       "5        r_4.2        R    4.2.2"
      ]
     },
     "execution_count": 5,
     "metadata": {},
     "output_type": "execute_result"
    }
   ],
   "source": [
    "# Check base user environments.\n",
    "list_base_envs()"
   ]
  },
  {
   "cell_type": "code",
   "execution_count": 6,
   "id": "2ace4f90",
   "metadata": {
    "scrolled": true
   },
   "outputs": [
    {
     "name": "stdout",
     "output_type": "stream",
     "text": [
      "No user environment(s) found.\n"
     ]
    }
   ],
   "source": [
    "# Before creating environment, check existing user environments.\n",
    "list_user_envs()"
   ]
  },
  {
   "cell_type": "markdown",
   "id": "00e82694-7e2f-4e42-ad59-b0ce113caeee",
   "metadata": {},
   "source": [
    "### Create a template file which has specifications for user environments\n",
    "\n",
    "In the snapshot file, only `env_name` is required. If `base_env` is not specified, the environment will be created using the latest Python version available in the Open Analytics Framework."
   ]
  },
  {
   "cell_type": "code",
   "execution_count": 12,
   "id": "4de561c7",
   "metadata": {},
   "outputs": [
    {
     "name": "stdin",
     "output_type": "stream",
     "text": [
      "Python base env: python_3.10\n",
      "R base env: r_4.1\n"
     ]
    }
   ],
   "source": [
    "import os, json\n",
    "python_base_env = input(\"Python base env:\")\n",
    "r_base_env = input(\"R base env:\") \n",
    "\n",
    "env_specs = [\n",
    "    {\n",
    "        # All sepcifications are provided.\n",
    "        \"env_name\": \"env_1\",\n",
    "        \"base_env\": python_base_env,\n",
    "        \"desc\": \"Desc for test env 1\"\n",
    "    },\n",
    "    {\n",
    "        # description is missing. Default description will be generated.\n",
    "        \"env_name\": \"env_2\",\n",
    "        \"base_env\": python_base_env\n",
    "    },\n",
    "    {\n",
    "        # base env and description are missing. Default base env and default description will be generated.\n",
    "        \"env_name\": \"env_3\"\n",
    "    },\n",
    "    {\n",
    "        # base env and description are missing. Default base env and default description will be generated.\n",
    "        # Also, files will be installed.\n",
    "        \"env_name\": \"env_4\",\n",
    "        \"files\": [\"/tmp/mapper.py\",\n",
    "          \"/tmp/open_source_ml.json\"]\n",
    "    },\n",
    "    {\n",
    "        # Libarries will be installed.\n",
    "        \"env_name\": \"env_5\",\n",
    "        \"base_env\": r_base_env,\n",
    "        \"desc\": \"Desc for test env 5\",\n",
    "        \"libs\": [\"glm2\", \"stringi\"]\n",
    "    }\n",
    "]\n",
    "\n",
    "json_data = {\"env_specs\": env_specs}\n",
    "with open(\"template.json\", \"w\") as json_file:\n",
    "   json.dump(json_data, json_file)"
   ]
  },
  {
   "cell_type": "markdown",
   "id": "2e914b86-ae85-40cb-85cc-d626742225c1",
   "metadata": {},
   "source": [
    "### Create environments using template file"
   ]
  },
  {
   "cell_type": "code",
   "execution_count": 13,
   "id": "2398566e",
   "metadata": {},
   "outputs": [
    {
     "name": "stdout",
     "output_type": "stream",
     "text": [
      "Creating environment 'env_1'...\n",
      "User environment 'env_1' created.\n",
      "An empty environment 'env_1' is created.\n",
      "Created environment 'env_1' with specified requirements.\n",
      "\n",
      "================================================\n",
      "Environment Name: env_1\n",
      "Base Environment: python_3.10\n",
      "Description: Desc for test env 1\n",
      "\n",
      "############ Libraries installed in User Environment ############\n",
      "\n",
      "         name version\n",
      "0         pip  23.0.1\n",
      "1  setuptools  65.5.0\n",
      "\n",
      "================================================\n",
      "\n",
      "Creating environment 'env_2'...\n",
      "User environment 'env_2' created.\n",
      "An empty environment 'env_2' is created.\n",
      "Created environment 'env_2' with specified requirements.\n",
      "\n",
      "================================================\n",
      "Environment Name: env_2\n",
      "Base Environment: python_3.10\n",
      "Description: This env 'env_2' is created with base env 'python_3.10'.\n",
      "\n",
      "############ Libraries installed in User Environment ############\n",
      "\n",
      "         name version\n",
      "0         pip  23.0.1\n",
      "1  setuptools  65.5.0\n",
      "\n",
      "================================================\n",
      "\n",
      "Creating environment 'env_3'...\n",
      "User environment 'env_3' created.\n",
      "An empty environment 'env_3' is created.\n",
      "Created environment 'env_3' with specified requirements.\n",
      "\n",
      "================================================\n",
      "Environment Name: env_3\n",
      "Base Environment: python_3.10\n",
      "Description: This env 'env_3' is created with base env 'python_3.10'.\n",
      "\n",
      "############ Libraries installed in User Environment ############\n",
      "\n",
      "         name version\n",
      "0         pip  23.0.1\n",
      "1  setuptools  65.5.0\n",
      "\n",
      "================================================\n",
      "\n",
      "Creating environment 'env_4'...\n",
      "User environment 'env_4' created.\n",
      "An empty environment 'env_4' is created.\n",
      "Installing files in environment 'env_4'...\n",
      "File 'mapper.py' installed successfully in the remote user environment 'env_4'.\n",
      "File 'open_source_ml.json' installed successfully in the remote user environment 'env_4'.\n",
      "File installation in environment 'env_4' - Completed.\n",
      "Created environment 'env_4' with specified requirements.\n",
      "\n",
      "================================================\n",
      "Environment Name: env_4\n",
      "Base Environment: python_3.10\n",
      "Description: This env 'env_4' is created with base env 'python_3.10'.\n",
      "\n",
      "############ Files installed in User Environment ############\n",
      "\n",
      "                  File Size             Timestamp\n",
      "0            mapper.py  532  2024-09-24T06:58:28Z\n",
      "1  open_source_ml.json  245  2024-09-24T06:58:28Z\n",
      "\n",
      "############ Libraries installed in User Environment ############\n",
      "\n",
      "         name version\n",
      "0         pip  23.0.1\n",
      "1  setuptools  65.5.0\n",
      "\n",
      "================================================\n",
      "\n",
      "Creating environment 'env_5'...\n",
      "User environment 'env_5' created.\n",
      "An empty environment 'env_5' is created.\n",
      "Installing libraries in environment 'env_5'...\n",
      "Libraries installation in environment 'env_5' - Completed.\n",
      "Created environment 'env_5' with specified requirements.\n",
      "\n",
      "================================================\n",
      "Environment Name: env_5\n",
      "Base Environment: r_4.1\n",
      "Description: Desc for test env 5\n",
      "\n",
      "############ Libraries installed in User Environment ############\n",
      "\n",
      "          name  version\n",
      "0   KernSmooth  2.23-20\n",
      "1         MASS   7.3-55\n",
      "2       Matrix    1.4-0\n",
      "3         base    4.1.3\n",
      "4         boot   1.3-28\n",
      "5        class   7.3-20\n",
      "6      cluster    2.1.2\n",
      "7    codetools   0.2-18\n",
      "8     compiler    4.1.3\n",
      "9     datasets    4.1.3\n",
      "10     foreign   0.8-82\n",
      "11   grDevices    4.1.3\n",
      "12    graphics    4.1.3\n",
      "13        grid    4.1.3\n",
      "14     lattice  0.20-45\n",
      "15     methods    4.1.3\n",
      "16        mgcv   1.8-39\n",
      "17        nlme  3.1-155\n",
      "18        nnet   7.3-17\n",
      "19    parallel    4.1.3\n",
      "20     remotes    2.5.0\n",
      "21       rpart   4.1.16\n",
      "22     spatial   7.3-15\n",
      "23     splines    4.1.3\n",
      "24       stats    4.1.3\n",
      "25      stats4    4.1.3\n",
      "26    survival   3.2-13\n",
      "27       tcltk    4.1.3\n",
      "28       tools    4.1.3\n",
      "29       utils    4.1.3\n",
      "30        glm2    1.2.1\n",
      "31     stringi    1.8.4\n",
      "\n",
      "================================================\n",
      "\n"
     ]
    }
   ],
   "source": [
    "env = create_env(template=\"template.json\")"
   ]
  },
  {
   "cell_type": "markdown",
   "id": "50975460-9550-4ec8-ba06-cb94d27227c3",
   "metadata": {},
   "source": [
    "### 5. List the created user environments"
   ]
  },
  {
   "cell_type": "code",
   "execution_count": 14,
   "id": "d543ea41",
   "metadata": {},
   "outputs": [
    {
     "data": {
      "text/html": [
       "<div>\n",
       "<style scoped>\n",
       "    .dataframe tbody tr th:only-of-type {\n",
       "        vertical-align: middle;\n",
       "    }\n",
       "\n",
       "    .dataframe tbody tr th {\n",
       "        vertical-align: top;\n",
       "    }\n",
       "\n",
       "    .dataframe thead th {\n",
       "        text-align: right;\n",
       "    }\n",
       "</style>\n",
       "<table border=\"1\" class=\"dataframe\">\n",
       "  <thead>\n",
       "    <tr style=\"text-align: right;\">\n",
       "      <th></th>\n",
       "      <th>env_name</th>\n",
       "      <th>env_description</th>\n",
       "      <th>base_env_name</th>\n",
       "      <th>language</th>\n",
       "      <th>conda</th>\n",
       "    </tr>\n",
       "  </thead>\n",
       "  <tbody>\n",
       "    <tr>\n",
       "      <th>0</th>\n",
       "      <td>env_1</td>\n",
       "      <td>Desc for test env 1</td>\n",
       "      <td>python_3.10</td>\n",
       "      <td>Python</td>\n",
       "      <td>False</td>\n",
       "    </tr>\n",
       "    <tr>\n",
       "      <th>1</th>\n",
       "      <td>env_2</td>\n",
       "      <td>This env 'env_2' is created with base env 'pyt...</td>\n",
       "      <td>python_3.10</td>\n",
       "      <td>Python</td>\n",
       "      <td>False</td>\n",
       "    </tr>\n",
       "    <tr>\n",
       "      <th>2</th>\n",
       "      <td>env_3</td>\n",
       "      <td>This env 'env_3' is created with base env 'pyt...</td>\n",
       "      <td>python_3.10</td>\n",
       "      <td>Python</td>\n",
       "      <td>False</td>\n",
       "    </tr>\n",
       "    <tr>\n",
       "      <th>3</th>\n",
       "      <td>env_4</td>\n",
       "      <td>This env 'env_4' is created with base env 'pyt...</td>\n",
       "      <td>python_3.10</td>\n",
       "      <td>Python</td>\n",
       "      <td>False</td>\n",
       "    </tr>\n",
       "    <tr>\n",
       "      <th>4</th>\n",
       "      <td>env_5</td>\n",
       "      <td>Desc for test env 5</td>\n",
       "      <td>r_4.1</td>\n",
       "      <td>R</td>\n",
       "      <td>False</td>\n",
       "    </tr>\n",
       "  </tbody>\n",
       "</table>\n",
       "</div>"
      ],
      "text/plain": [
       "  env_name                                    env_description base_env_name  \\\n",
       "0    env_1                                Desc for test env 1   python_3.10   \n",
       "1    env_2  This env 'env_2' is created with base env 'pyt...   python_3.10   \n",
       "2    env_3  This env 'env_3' is created with base env 'pyt...   python_3.10   \n",
       "3    env_4  This env 'env_4' is created with base env 'pyt...   python_3.10   \n",
       "4    env_5                                Desc for test env 5         r_4.1   \n",
       "\n",
       "  language  conda  \n",
       "0   Python  False  \n",
       "1   Python  False  \n",
       "2   Python  False  \n",
       "3   Python  False  \n",
       "4        R  False  "
      ]
     },
     "execution_count": 14,
     "metadata": {},
     "output_type": "execute_result"
    }
   ],
   "source": [
    "# Verify user environment creation.\n",
    "list_user_envs()"
   ]
  },
  {
   "cell_type": "markdown",
   "id": "474a5218-d1f0-465d-9db7-eb5ffccec714",
   "metadata": {},
   "source": [
    "## 6. Cleanup"
   ]
  },
  {
   "cell_type": "markdown",
   "id": "5d1bf981-8911-455f-b129-c602d127877d",
   "metadata": {},
   "source": [
    "#### Remove the user environment"
   ]
  },
  {
   "cell_type": "code",
   "execution_count": 15,
   "id": "92eb38ed",
   "metadata": {},
   "outputs": [
    {
     "name": "stdout",
     "output_type": "stream",
     "text": [
      "All user environment(s) removed.\n"
     ]
    },
    {
     "data": {
      "text/plain": [
       "True"
      ]
     },
     "execution_count": 15,
     "metadata": {},
     "output_type": "execute_result"
    }
   ],
   "source": [
    "remove_all_envs()"
   ]
  },
  {
   "cell_type": "markdown",
   "id": "0a299243",
   "metadata": {},
   "source": [
    "#### Disconnect the Vantage"
   ]
  },
  {
   "cell_type": "code",
   "execution_count": 17,
   "id": "7e151a43",
   "metadata": {},
   "outputs": [
    {
     "data": {
      "text/plain": [
       "True"
      ]
     },
     "execution_count": 17,
     "metadata": {},
     "output_type": "execute_result"
    }
   ],
   "source": [
    "# Removes the current context associated with the Teradata Vantage.\n",
    "remove_context()"
   ]
  }
 ],
 "metadata": {
  "kernelspec": {
   "display_name": "Python 3 (ipykernel)",
   "language": "python",
   "name": "python3"
  },
  "language_info": {
   "codemirror_mode": {
    "name": "ipython",
    "version": 3
   },
   "file_extension": ".py",
   "mimetype": "text/x-python",
   "name": "python",
   "nbconvert_exporter": "python",
   "pygments_lexer": "ipython3",
   "version": "3.10.14"
  }
 },
 "nbformat": 4,
 "nbformat_minor": 5
}
