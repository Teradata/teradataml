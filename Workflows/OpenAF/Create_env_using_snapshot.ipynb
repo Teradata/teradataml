{
 "cells": [
  {
   "cell_type": "markdown",
   "id": "6d643a16-3850-47d8-a7da-9d7841459f52",
   "metadata": {},
   "source": [
    "# Open Analytics Framework - User Environment Sharing and Re-creation."
   ]
  },
  {
   "cell_type": "markdown",
   "id": "9714d8d8-0e57-4c09-90e7-1cdfb7a54b50",
   "metadata": {},
   "source": [
    "### Disclaimer\n",
    "The sample code (“Sample Code”) provided is not covered by any Teradata agreements. Please be aware that Teradata has no control over the model responses to such sample code and such response may vary. The use of the model by Teradata is strictly for demonstration purposes and does not constitute any form of certification or endorsement. The sample code is provided “AS IS” and any express or implied warranties, including the implied warranties of merchantability and fitness for a particular purpose, are disclaimed. In no event shall Teradata be liable for any direct, indirect, incidental, special, exemplary, or consequential damages (including, but not limited to, procurement of substitute goods or services; loss of use, data, or profits; or business interruption) sustained by you or a third party, however caused and on any theory of liability, whether in contract, strict liability, or tort arising in any way out of the use of this sample code, even if advised of the possibility of such damage.\n",
    "\n",
    "### Introduction\n",
    "The `snapshot()` function allows users to capture the current state of their environment in a snapshot file. This file can later be passed to `create_env()` to create an environment with same libraries and files.\n",
    "* Users can clone the environments by sharing the file with others.\n",
    "* Before passing the file to create_env(), users can modify the file so the corresponding changes are effective in new environment.\n",
    "* Files can not be cloned unless user specifies their path in the snapshot file.\n",
    "\n",
    "Steps to capture the snapshot and re-create the exact same environment:\n",
    "1. Import the required teradataml modules.\n",
    "2. Connect to a Vantage system.\n",
    "3. Set parameters for OpenAF services.\n",
    "4. Create new environment with installing packages and files in it.\n",
    "5. Take a snapshot for the environment.\n",
    "6. Remove created environment.\n",
    "7. Create environment using snapshot.\n",
    "8. Cleanup."
   ]
  },
  {
   "cell_type": "markdown",
   "id": "05b54fe9-59fc-400c-a8bb-1c696837f13a",
   "metadata": {},
   "source": [
    "## 1. Import the required teradataml modules"
   ]
  },
  {
   "cell_type": "code",
   "execution_count": 1,
   "id": "3c7fc48a-0173-43e8-8aac-209badc514bd",
   "metadata": {},
   "outputs": [],
   "source": [
    "from teradataml import create_context, remove_context, set_auth_token, list_base_envs, create_env, remove_env, list_user_envs\n",
    "import getpass, os, json"
   ]
  },
  {
   "cell_type": "markdown",
   "id": "320a3f1e-dc11-42d7-b524-2a7fe05e9ff2",
   "metadata": {},
   "source": [
    "## 2. Connect to a Vantage system"
   ]
  },
  {
   "cell_type": "code",
   "execution_count": 2,
   "id": "86f13f2b-6240-4cd5-904d-95810d90f41a",
   "metadata": {},
   "outputs": [
    {
     "name": "stdin",
     "output_type": "stream",
     "text": [
      "Host:  ········\n",
      "Username:  ········\n",
      "Password:  ········\n"
     ]
    }
   ],
   "source": [
    "# Create a connetion.\n",
    "host = getpass.getpass(\"Host: \")\n",
    "username = getpass.getpass(\"Username: \")\n",
    "password = getpass.getpass(\"Password: \")\n",
    "\n",
    "con = create_context(host=host, username=username, password=password)"
   ]
  },
  {
   "cell_type": "markdown",
   "id": "a7457e05-0c06-48c4-b795-8dd38a65d893",
   "metadata": {},
   "source": [
    "## 3. Set parameters for OpenAF services"
   ]
  },
  {
   "cell_type": "code",
   "execution_count": 3,
   "id": "e60bbeea-345c-4d3c-a9e7-24652de94ab1",
   "metadata": {},
   "outputs": [
    {
     "name": "stdin",
     "output_type": "stream",
     "text": [
      "ues_url:  ········\n",
      "auth_token:  ········\n"
     ]
    }
   ],
   "source": [
    "# set parameters for OpenAF services.\n",
    "ues_url = getpass.getpass(\"ues_url: \")\n",
    "auth_token = getpass.getpass(\"auth_token: \")\n"
   ]
  },
  {
   "cell_type": "code",
   "execution_count": 4,
   "id": "910f54d6-8148-4243-8d12-508e01d99ef2",
   "metadata": {},
   "outputs": [
    {
     "data": {
      "text/plain": [
       "True"
      ]
     },
     "execution_count": 4,
     "metadata": {},
     "output_type": "execute_result"
    }
   ],
   "source": [
    "set_auth_token(ues_url=ues_url, auth_token=auth_token)"
   ]
  },
  {
   "cell_type": "markdown",
   "id": "4254bf8f-793b-461c-a20c-15f75069248c",
   "metadata": {},
   "source": [
    "## 4. Create new environment with installing packages and files in it"
   ]
  },
  {
   "cell_type": "markdown",
   "id": "4d0fcb68-a171-4f98-b6e8-33ae182193b3",
   "metadata": {},
   "source": [
    "#### First we will check what are the available base user environments using `list_base_envs()` and existing user environments using `list_user_envs()`.\n",
    "\n",
    "User environments are created from available base environments."
   ]
  },
  {
   "cell_type": "code",
   "execution_count": 5,
   "id": "c6c6d489-f551-47ab-a921-22d973cd3eca",
   "metadata": {},
   "outputs": [
    {
     "data": {
      "text/html": [
       "<div>\n",
       "<style scoped>\n",
       "    .dataframe tbody tr th:only-of-type {\n",
       "        vertical-align: middle;\n",
       "    }\n",
       "\n",
       "    .dataframe tbody tr th {\n",
       "        vertical-align: top;\n",
       "    }\n",
       "\n",
       "    .dataframe thead th {\n",
       "        text-align: right;\n",
       "    }\n",
       "</style>\n",
       "<table border=\"1\" class=\"dataframe\">\n",
       "  <thead>\n",
       "    <tr style=\"text-align: right;\">\n",
       "      <th></th>\n",
       "      <th>base_name</th>\n",
       "      <th>language</th>\n",
       "      <th>version</th>\n",
       "    </tr>\n",
       "  </thead>\n",
       "  <tbody>\n",
       "    <tr>\n",
       "      <th>0</th>\n",
       "      <td>python_3.8</td>\n",
       "      <td>Python</td>\n",
       "      <td>3.8.18</td>\n",
       "    </tr>\n",
       "    <tr>\n",
       "      <th>1</th>\n",
       "      <td>python_3.9</td>\n",
       "      <td>Python</td>\n",
       "      <td>3.9.18</td>\n",
       "    </tr>\n",
       "    <tr>\n",
       "      <th>2</th>\n",
       "      <td>python_3.10</td>\n",
       "      <td>Python</td>\n",
       "      <td>3.10.13</td>\n",
       "    </tr>\n",
       "    <tr>\n",
       "      <th>3</th>\n",
       "      <td>r_4.1</td>\n",
       "      <td>R</td>\n",
       "      <td>4.1.3</td>\n",
       "    </tr>\n",
       "    <tr>\n",
       "      <th>4</th>\n",
       "      <td>r_4.0</td>\n",
       "      <td>R</td>\n",
       "      <td>4.0.5</td>\n",
       "    </tr>\n",
       "    <tr>\n",
       "      <th>5</th>\n",
       "      <td>r_4.2</td>\n",
       "      <td>R</td>\n",
       "      <td>4.2.2</td>\n",
       "    </tr>\n",
       "  </tbody>\n",
       "</table>\n",
       "</div>"
      ],
      "text/plain": [
       "     base_name language  version\n",
       "0   python_3.8   Python   3.8.18\n",
       "1   python_3.9   Python   3.9.18\n",
       "2  python_3.10   Python  3.10.13\n",
       "3        r_4.1        R    4.1.3\n",
       "4        r_4.0        R    4.0.5\n",
       "5        r_4.2        R    4.2.2"
      ]
     },
     "execution_count": 5,
     "metadata": {},
     "output_type": "execute_result"
    }
   ],
   "source": [
    "list_base_envs()"
   ]
  },
  {
   "cell_type": "code",
   "execution_count": 9,
   "id": "3dcb955b-38f1-4e6a-9970-49d494952a3d",
   "metadata": {},
   "outputs": [
    {
     "name": "stdout",
     "output_type": "stream",
     "text": [
      "No user environment(s) found.\n"
     ]
    }
   ],
   "source": [
    "list_user_envs()"
   ]
  },
  {
   "cell_type": "markdown",
   "id": "25190cf0-b466-40c6-a857-c8cd514ccae7",
   "metadata": {},
   "source": [
    "#### Create environment with 'python_3.10' base_env"
   ]
  },
  {
   "cell_type": "code",
   "execution_count": 10,
   "id": "83668f50-c726-42be-bf98-f09222006295",
   "metadata": {},
   "outputs": [
    {
     "name": "stdout",
     "output_type": "stream",
     "text": [
      "User environment 'demo_env' created.\n"
     ]
    }
   ],
   "source": [
    "env = create_env(env_name=\"demo_env\", base_env=\"python_3.10\", desc=\"Demo env.\")"
   ]
  },
  {
   "cell_type": "markdown",
   "id": "b04b2610-956b-4f35-87b2-82811c6ff969",
   "metadata": {},
   "source": [
    "#### Install 'scikit-learn' and 'nltk' libraries in 'demo_env' environment."
   ]
  },
  {
   "cell_type": "code",
   "execution_count": 11,
   "id": "394c8364-a2b8-4368-9a80-7796460ed536",
   "metadata": {},
   "outputs": [
    {
     "name": "stdout",
     "output_type": "stream",
     "text": [
      "Request to install libraries initiated successfully in the remote user environment demo_env. Check the status using status() with the claim id 'b382b132-f718-4c90-86e6-782b928dae96'.\n"
     ]
    },
    {
     "data": {
      "text/plain": [
       "'b382b132-f718-4c90-86e6-782b928dae96'"
      ]
     },
     "execution_count": 11,
     "metadata": {},
     "output_type": "execute_result"
    }
   ],
   "source": [
    "env.install_lib([\"scikit-learn\", \"nltk\"], asynchronous=True)"
   ]
  },
  {
   "cell_type": "markdown",
   "id": "1a83055f-ed0f-4ed0-a03f-b58f346c807e",
   "metadata": {},
   "source": [
    "#### Check the status of asynchronous package installation task using claim_id returned by `install_lib()`"
   ]
  },
  {
   "cell_type": "code",
   "execution_count": 13,
   "id": "71f45cca-2435-4452-9a97-dec3093d6cb7",
   "metadata": {},
   "outputs": [
    {
     "data": {
      "text/html": [
       "<div>\n",
       "<style scoped>\n",
       "    .dataframe tbody tr th:only-of-type {\n",
       "        vertical-align: middle;\n",
       "    }\n",
       "\n",
       "    .dataframe tbody tr th {\n",
       "        vertical-align: top;\n",
       "    }\n",
       "\n",
       "    .dataframe thead th {\n",
       "        text-align: right;\n",
       "    }\n",
       "</style>\n",
       "<table border=\"1\" class=\"dataframe\">\n",
       "  <thead>\n",
       "    <tr style=\"text-align: right;\">\n",
       "      <th></th>\n",
       "      <th>Claim Id</th>\n",
       "      <th>File/Libs/Model</th>\n",
       "      <th>Method Name</th>\n",
       "      <th>Stage</th>\n",
       "      <th>Timestamp</th>\n",
       "      <th>Additional Details</th>\n",
       "    </tr>\n",
       "  </thead>\n",
       "  <tbody>\n",
       "    <tr>\n",
       "      <th>0</th>\n",
       "      <td>b382b132-f718-4c90-86e6-782b928dae96</td>\n",
       "      <td>scikit-learn, nltk</td>\n",
       "      <td>install_lib</td>\n",
       "      <td>Started</td>\n",
       "      <td>2024-09-24T06:41:07Z</td>\n",
       "      <td></td>\n",
       "    </tr>\n",
       "  </tbody>\n",
       "</table>\n",
       "</div>"
      ],
      "text/plain": [
       "                               Claim Id     File/Libs/Model  Method Name  \\\n",
       "0  b382b132-f718-4c90-86e6-782b928dae96  scikit-learn, nltk  install_lib   \n",
       "\n",
       "     Stage             Timestamp Additional Details  \n",
       "0  Started  2024-09-24T06:41:07Z                     "
      ]
     },
     "execution_count": 13,
     "metadata": {},
     "output_type": "execute_result"
    }
   ],
   "source": [
    "env.status(\"b382b132-f718-4c90-86e6-782b928dae96\")"
   ]
  },
  {
   "cell_type": "markdown",
   "id": "59042b15-5d8e-43e5-b8ff-875d6db3b9aa",
   "metadata": {},
   "source": [
    "#### Let's check the status again"
   ]
  },
  {
   "cell_type": "code",
   "execution_count": 16,
   "id": "80eb5b78-3a18-438c-9eb7-fb67437f6d07",
   "metadata": {},
   "outputs": [
    {
     "data": {
      "text/html": [
       "<div>\n",
       "<style scoped>\n",
       "    .dataframe tbody tr th:only-of-type {\n",
       "        vertical-align: middle;\n",
       "    }\n",
       "\n",
       "    .dataframe tbody tr th {\n",
       "        vertical-align: top;\n",
       "    }\n",
       "\n",
       "    .dataframe thead th {\n",
       "        text-align: right;\n",
       "    }\n",
       "</style>\n",
       "<table border=\"1\" class=\"dataframe\">\n",
       "  <thead>\n",
       "    <tr style=\"text-align: right;\">\n",
       "      <th></th>\n",
       "      <th>Claim Id</th>\n",
       "      <th>File/Libs/Model</th>\n",
       "      <th>Method Name</th>\n",
       "      <th>Stage</th>\n",
       "      <th>Timestamp</th>\n",
       "      <th>Additional Details</th>\n",
       "    </tr>\n",
       "  </thead>\n",
       "  <tbody>\n",
       "    <tr>\n",
       "      <th>0</th>\n",
       "      <td>b382b132-f718-4c90-86e6-782b928dae96</td>\n",
       "      <td>scikit-learn, nltk</td>\n",
       "      <td>install_lib</td>\n",
       "      <td>Started</td>\n",
       "      <td>2024-09-24T06:41:07Z</td>\n",
       "      <td></td>\n",
       "    </tr>\n",
       "    <tr>\n",
       "      <th>1</th>\n",
       "      <td>b382b132-f718-4c90-86e6-782b928dae96</td>\n",
       "      <td>scikit-learn, nltk</td>\n",
       "      <td>install_lib</td>\n",
       "      <td>Finished</td>\n",
       "      <td>2024-09-24T06:43:07Z</td>\n",
       "      <td></td>\n",
       "    </tr>\n",
       "  </tbody>\n",
       "</table>\n",
       "</div>"
      ],
      "text/plain": [
       "                               Claim Id     File/Libs/Model  Method Name  \\\n",
       "0  b382b132-f718-4c90-86e6-782b928dae96  scikit-learn, nltk  install_lib   \n",
       "1  b382b132-f718-4c90-86e6-782b928dae96  scikit-learn, nltk  install_lib   \n",
       "\n",
       "      Stage             Timestamp Additional Details  \n",
       "0   Started  2024-09-24T06:41:07Z                     \n",
       "1  Finished  2024-09-24T06:43:07Z                     "
      ]
     },
     "execution_count": 16,
     "metadata": {},
     "output_type": "execute_result"
    }
   ],
   "source": [
    "env.status(\"b382b132-f718-4c90-86e6-782b928dae96\")"
   ]
  },
  {
   "cell_type": "markdown",
   "id": "640510de-463d-42b3-b183-a8a56d7a8e03",
   "metadata": {},
   "source": [
    "#### List the installed libraries in 'demo_env' environment."
   ]
  },
  {
   "cell_type": "code",
   "execution_count": 17,
   "id": "ebd753c1-2877-4db7-a5cf-9e5c9058f3d9",
   "metadata": {},
   "outputs": [
    {
     "data": {
      "text/html": [
       "<div>\n",
       "<style scoped>\n",
       "    .dataframe tbody tr th:only-of-type {\n",
       "        vertical-align: middle;\n",
       "    }\n",
       "\n",
       "    .dataframe tbody tr th {\n",
       "        vertical-align: top;\n",
       "    }\n",
       "\n",
       "    .dataframe thead th {\n",
       "        text-align: right;\n",
       "    }\n",
       "</style>\n",
       "<table border=\"1\" class=\"dataframe\">\n",
       "  <thead>\n",
       "    <tr style=\"text-align: right;\">\n",
       "      <th></th>\n",
       "      <th>name</th>\n",
       "      <th>version</th>\n",
       "    </tr>\n",
       "  </thead>\n",
       "  <tbody>\n",
       "    <tr>\n",
       "      <th>0</th>\n",
       "      <td>click</td>\n",
       "      <td>8.1.7</td>\n",
       "    </tr>\n",
       "    <tr>\n",
       "      <th>1</th>\n",
       "      <td>joblib</td>\n",
       "      <td>1.4.2</td>\n",
       "    </tr>\n",
       "    <tr>\n",
       "      <th>2</th>\n",
       "      <td>nltk</td>\n",
       "      <td>3.9.1</td>\n",
       "    </tr>\n",
       "    <tr>\n",
       "      <th>3</th>\n",
       "      <td>numpy</td>\n",
       "      <td>2.1.1</td>\n",
       "    </tr>\n",
       "    <tr>\n",
       "      <th>4</th>\n",
       "      <td>pip</td>\n",
       "      <td>23.0.1</td>\n",
       "    </tr>\n",
       "    <tr>\n",
       "      <th>5</th>\n",
       "      <td>regex</td>\n",
       "      <td>2024.9.11</td>\n",
       "    </tr>\n",
       "    <tr>\n",
       "      <th>6</th>\n",
       "      <td>scikit-learn</td>\n",
       "      <td>1.5.2</td>\n",
       "    </tr>\n",
       "    <tr>\n",
       "      <th>7</th>\n",
       "      <td>scipy</td>\n",
       "      <td>1.14.1</td>\n",
       "    </tr>\n",
       "    <tr>\n",
       "      <th>8</th>\n",
       "      <td>setuptools</td>\n",
       "      <td>65.5.0</td>\n",
       "    </tr>\n",
       "    <tr>\n",
       "      <th>9</th>\n",
       "      <td>threadpoolctl</td>\n",
       "      <td>3.5.0</td>\n",
       "    </tr>\n",
       "    <tr>\n",
       "      <th>10</th>\n",
       "      <td>tqdm</td>\n",
       "      <td>4.66.5</td>\n",
       "    </tr>\n",
       "  </tbody>\n",
       "</table>\n",
       "</div>"
      ],
      "text/plain": [
       "             name    version\n",
       "0           click      8.1.7\n",
       "1          joblib      1.4.2\n",
       "2            nltk      3.9.1\n",
       "3           numpy      2.1.1\n",
       "4             pip     23.0.1\n",
       "5           regex  2024.9.11\n",
       "6    scikit-learn      1.5.2\n",
       "7           scipy     1.14.1\n",
       "8      setuptools     65.5.0\n",
       "9   threadpoolctl      3.5.0\n",
       "10           tqdm     4.66.5"
      ]
     },
     "execution_count": 17,
     "metadata": {},
     "output_type": "execute_result"
    }
   ],
   "source": [
    "env.libs"
   ]
  },
  {
   "cell_type": "markdown",
   "id": "35b0d101-1a8b-4f3d-ad3a-aa6653d03192",
   "metadata": {},
   "source": [
    "#### Install 'mapper.py' file in 'demo_env' environment"
   ]
  },
  {
   "cell_type": "code",
   "execution_count": 18,
   "id": "b9319e07-22d1-4356-ab37-ab452a2b9e27",
   "metadata": {},
   "outputs": [
    {
     "name": "stdout",
     "output_type": "stream",
     "text": [
      "File 'mapper.py' installed successfully in the remote user environment 'demo_env'.\n"
     ]
    },
    {
     "data": {
      "text/plain": [
       "True"
      ]
     },
     "execution_count": 18,
     "metadata": {},
     "output_type": "execute_result"
    }
   ],
   "source": [
    "env.install_file(\"/tmp/mapper.py\")"
   ]
  },
  {
   "cell_type": "markdown",
   "id": "81550825-5880-41bd-9208-3a03f158461e",
   "metadata": {},
   "source": [
    "#### List the installed file in 'demo_env' environment"
   ]
  },
  {
   "cell_type": "code",
   "execution_count": 19,
   "id": "12baf092-e53d-47c1-bcbb-29ca37f688b3",
   "metadata": {},
   "outputs": [
    {
     "data": {
      "text/html": [
       "<div>\n",
       "<style scoped>\n",
       "    .dataframe tbody tr th:only-of-type {\n",
       "        vertical-align: middle;\n",
       "    }\n",
       "\n",
       "    .dataframe tbody tr th {\n",
       "        vertical-align: top;\n",
       "    }\n",
       "\n",
       "    .dataframe thead th {\n",
       "        text-align: right;\n",
       "    }\n",
       "</style>\n",
       "<table border=\"1\" class=\"dataframe\">\n",
       "  <thead>\n",
       "    <tr style=\"text-align: right;\">\n",
       "      <th></th>\n",
       "      <th>File</th>\n",
       "      <th>Size</th>\n",
       "      <th>Timestamp</th>\n",
       "    </tr>\n",
       "  </thead>\n",
       "  <tbody>\n",
       "    <tr>\n",
       "      <th>0</th>\n",
       "      <td>mapper.py</td>\n",
       "      <td>532</td>\n",
       "      <td>2024-09-24T06:43:43Z</td>\n",
       "    </tr>\n",
       "  </tbody>\n",
       "</table>\n",
       "</div>"
      ],
      "text/plain": [
       "        File Size             Timestamp\n",
       "0  mapper.py  532  2024-09-24T06:43:43Z"
      ]
     },
     "execution_count": 19,
     "metadata": {},
     "output_type": "execute_result"
    }
   ],
   "source": [
    "env.files"
   ]
  },
  {
   "cell_type": "markdown",
   "id": "ce9e97ef-af95-4ad0-8c03-663a6253a251",
   "metadata": {},
   "source": [
    "## 5. Take a snapshot for the environment"
   ]
  },
  {
   "cell_type": "code",
   "execution_count": 20,
   "id": "fd9f8f8b-31a7-4d2a-8949-e3ca94cd90e1",
   "metadata": {},
   "outputs": [
    {
     "name": "stdout",
     "output_type": "stream",
     "text": [
      "Snapshot for environment \"demo_env\" is stored at \"/tmp/snapshot_demo_env_python_3.10_1727160231.8639364.json\"\n"
     ]
    }
   ],
   "source": [
    "env.snapshot(\"/tmp\")"
   ]
  },
  {
   "cell_type": "markdown",
   "id": "0518a08d-b911-454e-8c6b-ff9c97a7450e",
   "metadata": {},
   "source": [
    "#### Display the content of snapshot file"
   ]
  },
  {
   "cell_type": "code",
   "execution_count": 21,
   "id": "5972f05e-1e91-4582-a7c6-b3efbc210aa7",
   "metadata": {},
   "outputs": [],
   "source": [
    "snapshot_file_path = \"/tmp/snapshot_demo_env_python_3.10_1727160231.8639364.json\""
   ]
  },
  {
   "cell_type": "code",
   "execution_count": 22,
   "id": "89617413-ae1c-4e50-85bd-2298e0fc9a73",
   "metadata": {},
   "outputs": [
    {
     "name": "stdout",
     "output_type": "stream",
     "text": [
      "{\n",
      "    \"env_specs\": [\n",
      "        {\n",
      "            \"env_name\": \"demo_env\",\n",
      "            \"base_env\": \"python_3.10\",\n",
      "            \"desc\": \"Demo env.\",\n",
      "            \"libs\": [\n",
      "                \"click==8.1.7\",\n",
      "                \"joblib==1.4.2\",\n",
      "                \"nltk==3.9.1\",\n",
      "                \"numpy==2.1.1\",\n",
      "                \"pip==23.0.1\",\n",
      "                \"regex==2024.9.11\",\n",
      "                \"scikit-learn==1.5.2\",\n",
      "                \"scipy==1.14.1\",\n",
      "                \"setuptools==65.5.0\",\n",
      "                \"threadpoolctl==3.5.0\",\n",
      "                \"tqdm==4.66.5\"\n",
      "            ],\n",
      "            \"files\": [\n",
      "                \"<ADD_YOUR_LOCAL_FILE_PATH>/mapper.py\"\n",
      "            ]\n",
      "        }\n",
      "    ]\n",
      "}\n"
     ]
    }
   ],
   "source": [
    "with open(snapshot_file_path, 'r') as file:\n",
    "    data = json.load(file)\n",
    "\n",
    "print(json.dumps(data, indent=4))"
   ]
  },
  {
   "cell_type": "markdown",
   "id": "db74043e-fedc-463c-a213-b30ca97cfcab",
   "metadata": {},
   "source": [
    "#### Update the local file path in the snapshot file\n",
    "\n",
    "To recreate the exact same environment, the files referenced in the snapshot must be available on the user's local machine. The user should update the snapshot file with the absolute file paths of referenced files"
   ]
  },
  {
   "cell_type": "code",
   "execution_count": 23,
   "id": "17a1e82f-6789-4e3b-bbce-0e2e3df60b57",
   "metadata": {},
   "outputs": [],
   "source": [
    "data[\"env_specs\"][0]['files'][0] = \"/tmp/mapper.py\"\n",
    "\n",
    "# Write the updated data back to the JSON file\n",
    "with open(snapshot_file_path, 'w') as file:\n",
    "    json.dump(data, file, indent=4)"
   ]
  },
  {
   "cell_type": "markdown",
   "id": "165bec0c-54ed-4b4d-936f-f46edd30c921",
   "metadata": {},
   "source": [
    "#### Display the updated content of snapshot file"
   ]
  },
  {
   "cell_type": "code",
   "execution_count": 24,
   "id": "5d182aa5-3a7b-4acb-bcb0-24ed8ed7297e",
   "metadata": {},
   "outputs": [
    {
     "name": "stdout",
     "output_type": "stream",
     "text": [
      "{\n",
      "    \"env_specs\": [\n",
      "        {\n",
      "            \"env_name\": \"demo_env\",\n",
      "            \"base_env\": \"python_3.10\",\n",
      "            \"desc\": \"Demo env.\",\n",
      "            \"libs\": [\n",
      "                \"click==8.1.7\",\n",
      "                \"joblib==1.4.2\",\n",
      "                \"nltk==3.9.1\",\n",
      "                \"numpy==2.1.1\",\n",
      "                \"pip==23.0.1\",\n",
      "                \"regex==2024.9.11\",\n",
      "                \"scikit-learn==1.5.2\",\n",
      "                \"scipy==1.14.1\",\n",
      "                \"setuptools==65.5.0\",\n",
      "                \"threadpoolctl==3.5.0\",\n",
      "                \"tqdm==4.66.5\"\n",
      "            ],\n",
      "            \"files\": [\n",
      "                \"/tmp/mapper.py\"\n",
      "            ]\n",
      "        }\n",
      "    ]\n",
      "}\n"
     ]
    }
   ],
   "source": [
    "with open(snapshot_file_path, 'r') as file:\n",
    "    data = json.load(file)\n",
    "\n",
    "print(json.dumps(data, indent=4))\n"
   ]
  },
  {
   "cell_type": "markdown",
   "id": "e51eac84-59a5-4f1e-a387-2809d88c29e7",
   "metadata": {},
   "source": [
    "## 6. Remove created environment"
   ]
  },
  {
   "cell_type": "code",
   "execution_count": 25,
   "id": "e93a9f56-0fb6-460d-a708-19a406e6e7cb",
   "metadata": {},
   "outputs": [
    {
     "name": "stdout",
     "output_type": "stream",
     "text": [
      "User environment 'demo_env' removed.\n"
     ]
    },
    {
     "data": {
      "text/plain": [
       "True"
      ]
     },
     "execution_count": 25,
     "metadata": {},
     "output_type": "execute_result"
    }
   ],
   "source": [
    "remove_env(\"demo_env\")"
   ]
  },
  {
   "cell_type": "markdown",
   "id": "40f1eab7-0e28-45d2-8c9b-79f26b5ad624",
   "metadata": {},
   "source": [
    "## Add new libraries and files in the snapshot file before creating enviroment\n",
    "\n",
    "#### If you want to install new libraries and files in the environment before recreating it, update the snapshot file accordingly"
   ]
  },
  {
   "cell_type": "markdown",
   "id": "b01950c9-0ae7-4c60-820e-09e4bedfc904",
   "metadata": {},
   "source": [
    "##### Add new files and libraries in snapshot file"
   ]
  },
  {
   "cell_type": "code",
   "execution_count": 26,
   "id": "10fe9d5c-6820-4925-be86-7d27af6646d6",
   "metadata": {},
   "outputs": [
    {
     "name": "stdout",
     "output_type": "stream",
     "text": [
      "{\n",
      "    \"env_specs\": [\n",
      "        {\n",
      "            \"env_name\": \"demo_env\",\n",
      "            \"base_env\": \"python_3.10\",\n",
      "            \"desc\": \"Demo env.\",\n",
      "            \"libs\": [\n",
      "                \"click==8.1.7\",\n",
      "                \"joblib==1.4.2\",\n",
      "                \"nltk==3.9.1\",\n",
      "                \"numpy==2.1.1\",\n",
      "                \"pip==23.0.1\",\n",
      "                \"regex==2024.9.11\",\n",
      "                \"scikit-learn==1.5.2\",\n",
      "                \"scipy==1.14.1\",\n",
      "                \"setuptools==65.5.0\",\n",
      "                \"threadpoolctl==3.5.0\",\n",
      "                \"tqdm==4.66.5\",\n",
      "                \"cryptography\",\n",
      "                \"pyjwt\"\n",
      "            ],\n",
      "            \"files\": [\n",
      "                \"/tmp/mapper.py\",\n",
      "                \"/tmp/mapper.R\"\n",
      "            ]\n",
      "        }\n",
      "    ]\n",
      "}\n"
     ]
    }
   ],
   "source": [
    "new_file_path = \"/tmp/mapper.R\"\n",
    "\n",
    "# Add new file to the list.\n",
    "data['env_specs'][0]['files'].append(new_file_path)\n",
    "\n",
    "# Add new libs to the list.\n",
    "data['env_specs'][0]['libs'].extend([\"cryptography\", \"pyjwt\"])\n",
    "\n",
    "# Save the updated JSON content back to the file\n",
    "with open(snapshot_file_path, 'w') as file:\n",
    "    json.dump(data, file, indent=4)\n",
    "\n",
    "# Display the updated content of the snapshot file\n",
    "print(json.dumps(data, indent=4))\n"
   ]
  },
  {
   "cell_type": "markdown",
   "id": "2677d990-e1b8-4b7a-a943-01150c84b686",
   "metadata": {},
   "source": [
    "## 7. Create environment using snapshot\n",
    "\n",
    "####  Only one environment is creating because the snapshot file contains information for a single environment."
   ]
  },
  {
   "cell_type": "code",
   "execution_count": 27,
   "id": "c1a3a0a3-16dd-4521-910a-7386bf7eaa14",
   "metadata": {},
   "outputs": [
    {
     "name": "stdout",
     "output_type": "stream",
     "text": [
      "Creating environment 'demo_env'...\n",
      "User environment 'demo_env' created.\n",
      "An empty environment 'demo_env' is created.\n",
      "Installing files in environment 'demo_env'...\n",
      "File 'mapper.py' installed successfully in the remote user environment 'demo_env'.\n",
      "File 'mapper.R' installed successfully in the remote user environment 'demo_env'.\n",
      "File installation in environment 'demo_env' - Completed.\n",
      "Installing libraries in environment 'demo_env'...\n",
      "Libraries installation in environment 'demo_env' - Completed.\n",
      "Created environment 'demo_env' with specified requirements.\n",
      "\n",
      "================================================\n",
      "Environment Name: demo_env\n",
      "Base Environment: python_3.10\n",
      "Description: Demo env.\n",
      "\n",
      "############ Files installed in User Environment ############\n",
      "\n",
      "        File Size             Timestamp\n",
      "0  mapper.py  532  2024-09-24T06:46:26Z\n",
      "1   mapper.R  594  2024-09-24T06:46:26Z\n",
      "\n",
      "############ Libraries installed in User Environment ############\n",
      "\n",
      "             name    version\n",
      "0            cffi     1.17.1\n",
      "1           click      8.1.7\n",
      "2    cryptography     43.0.1\n",
      "3          joblib      1.4.2\n",
      "4            nltk      3.9.1\n",
      "5           numpy      2.1.1\n",
      "6             pip     23.0.1\n",
      "7       pycparser       2.22\n",
      "8           PyJWT      2.9.0\n",
      "9           regex  2024.9.11\n",
      "10   scikit-learn      1.5.2\n",
      "11          scipy     1.14.1\n",
      "12     setuptools     65.5.0\n",
      "13  threadpoolctl      3.5.0\n",
      "14           tqdm     4.66.5\n",
      "\n",
      "================================================\n",
      "\n"
     ]
    },
    {
     "data": {
      "text/plain": [
       "\n",
       "================================================\n",
       "Environment Name: demo_env\n",
       "Base Environment: python_3.10\n",
       "Description: Demo env.\n",
       "\n",
       "############ Files installed in User Environment ############\n",
       "\n",
       "        File Size             Timestamp\n",
       "0  mapper.py  532  2024-09-24T06:46:26Z\n",
       "1   mapper.R  594  2024-09-24T06:46:26Z\n",
       "\n",
       "############ Libraries installed in User Environment ############\n",
       "\n",
       "             name    version\n",
       "0            cffi     1.17.1\n",
       "1           click      8.1.7\n",
       "2    cryptography     43.0.1\n",
       "3          joblib      1.4.2\n",
       "4            nltk      3.9.1\n",
       "5           numpy      2.1.1\n",
       "6             pip     23.0.1\n",
       "7       pycparser       2.22\n",
       "8           PyJWT      2.9.0\n",
       "9           regex  2024.9.11\n",
       "10   scikit-learn      1.5.2\n",
       "11          scipy     1.14.1\n",
       "12     setuptools     65.5.0\n",
       "13  threadpoolctl      3.5.0\n",
       "14           tqdm     4.66.5\n",
       "\n",
       "================================================"
      ]
     },
     "execution_count": 27,
     "metadata": {},
     "output_type": "execute_result"
    }
   ],
   "source": [
    "create_env(template=snapshot_file_path)"
   ]
  },
  {
   "cell_type": "markdown",
   "id": "8632acaf-1c42-4b0d-acf6-fd6f30d2c33a",
   "metadata": {},
   "source": [
    "### List the user environments"
   ]
  },
  {
   "cell_type": "code",
   "execution_count": 28,
   "id": "6430ef56-b6e7-42cc-8cac-70500601ac8a",
   "metadata": {},
   "outputs": [
    {
     "data": {
      "text/html": [
       "<div>\n",
       "<style scoped>\n",
       "    .dataframe tbody tr th:only-of-type {\n",
       "        vertical-align: middle;\n",
       "    }\n",
       "\n",
       "    .dataframe tbody tr th {\n",
       "        vertical-align: top;\n",
       "    }\n",
       "\n",
       "    .dataframe thead th {\n",
       "        text-align: right;\n",
       "    }\n",
       "</style>\n",
       "<table border=\"1\" class=\"dataframe\">\n",
       "  <thead>\n",
       "    <tr style=\"text-align: right;\">\n",
       "      <th></th>\n",
       "      <th>env_name</th>\n",
       "      <th>env_description</th>\n",
       "      <th>base_env_name</th>\n",
       "      <th>language</th>\n",
       "      <th>conda</th>\n",
       "    </tr>\n",
       "  </thead>\n",
       "  <tbody>\n",
       "    <tr>\n",
       "      <th>0</th>\n",
       "      <td>demo_env</td>\n",
       "      <td>Demo env.</td>\n",
       "      <td>python_3.10</td>\n",
       "      <td>Python</td>\n",
       "      <td>False</td>\n",
       "    </tr>\n",
       "  </tbody>\n",
       "</table>\n",
       "</div>"
      ],
      "text/plain": [
       "   env_name env_description base_env_name language  conda\n",
       "0  demo_env       Demo env.   python_3.10   Python  False"
      ]
     },
     "execution_count": 28,
     "metadata": {},
     "output_type": "execute_result"
    }
   ],
   "source": [
    "list_user_envs()"
   ]
  },
  {
   "cell_type": "markdown",
   "id": "4f02ffee-2e70-4d0a-9557-977527bdcb84",
   "metadata": {},
   "source": [
    "## 8. Cleanup"
   ]
  },
  {
   "cell_type": "code",
   "execution_count": 29,
   "id": "4c246993-d623-4de9-b41a-b14876194247",
   "metadata": {},
   "outputs": [
    {
     "name": "stdout",
     "output_type": "stream",
     "text": [
      "User environment 'demo_env' removed.\n"
     ]
    },
    {
     "data": {
      "text/plain": [
       "True"
      ]
     },
     "execution_count": 29,
     "metadata": {},
     "output_type": "execute_result"
    }
   ],
   "source": [
    "# Remove the re-created environment.\n",
    "remove_env(\"demo_env\")"
   ]
  },
  {
   "cell_type": "code",
   "execution_count": 30,
   "id": "47b71d11-c100-402c-834d-0ee443c11640",
   "metadata": {},
   "outputs": [
    {
     "data": {
      "text/plain": [
       "True"
      ]
     },
     "execution_count": 30,
     "metadata": {},
     "output_type": "execute_result"
    }
   ],
   "source": [
    "# Removes the current context associated with the Teradata Vantage.\n",
    "remove_context()"
   ]
  }
 ],
 "metadata": {
  "kernelspec": {
   "display_name": "Python 3 (ipykernel)",
   "language": "python",
   "name": "python3"
  },
  "language_info": {
   "codemirror_mode": {
    "name": "ipython",
    "version": 3
   },
   "file_extension": ".py",
   "mimetype": "text/x-python",
   "name": "python",
   "nbconvert_exporter": "python",
   "pygments_lexer": "ipython3",
   "version": "3.8.10"
  }
 },
 "nbformat": 4,
 "nbformat_minor": 5
}
