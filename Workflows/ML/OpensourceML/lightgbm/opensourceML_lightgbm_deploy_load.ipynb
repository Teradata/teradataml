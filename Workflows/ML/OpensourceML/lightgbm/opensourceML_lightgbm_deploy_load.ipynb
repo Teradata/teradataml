{
 "cells": [
  {
   "cell_type": "markdown",
   "id": "0fffd3c0",
   "metadata": {},
   "source": [
    "<header style=\"padding:1px;background:#f9f9f9;border-top:3px solid #00b2b1\"><img id=\"Teradata-logo\" src=\"https://www.teradata.com/Teradata/Images/Rebrand/Teradata_logo-two_color.png\" alt=\"Teradata\" width=\"220\" align=\"right\" />\n",
    "\n",
    "<b style = 'font-size:28px;font-family:Arial;color:#E37C4D'>deploy() and load() of LightGBM OpensourceML module</b>\n",
    "</header>"
   ]
  },
  {
   "cell_type": "markdown",
   "id": "8efc1255",
   "metadata": {},
   "source": [
    "<b style = 'font-size:16px;font-family:Arial;color:#E37C4D'>Disclaimer</b>"
   ]
  },
  {
   "cell_type": "markdown",
   "id": "4c5ea092",
   "metadata": {},
   "source": [
    "The sample code (“Sample Code”) provided is not covered by any Teradata agreements. Please be aware that Teradata has no control over the model responses to such sample code and such response may vary. The use of the model by Teradata is strictly for demonstration purposes and does not constitute any form of certification or endorsement. The sample code is provided “AS IS” and any express or implied warranties, including the implied warranties of merchantability and fitness for a particular purpose, are disclaimed. In no event shall Teradata be liable for any direct, indirect, incidental, special, exemplary, or consequential damages (including, but not limited to, procurement of substitute goods or services; loss of use, data, or profits; or business interruption) sustained by you or a third party, however caused and on any theory of liability, whether in contract, strict liability, or tort arising in any way out of the use of this sample code, even if advised of the possibility of such damage."
   ]
  },
  {
   "cell_type": "markdown",
   "id": "aebd7cd0",
   "metadata": {},
   "source": [
    "<b style = 'font-size:28px;font-family:Arial;color:#E37C4D'>Introduction</b><br>\n",
    "OpensourceML enables users to run opensource libraries in Teradata Vantage, without pulling the data to client.</br>\n",
    "We already exposed `td_sklearn` interface object on which users can run scikit-learn classes and functions and `td_lightgbm` an interface object for lightgbm package.\n",
    "\n",
    "In this notebook we provide different ways to use `load()` and `deploy()` methods using lightgbm OpensourceML interface object."
   ]
  },
  {
   "cell_type": "markdown",
   "id": "70b38693",
   "metadata": {},
   "source": [
    "<b style = 'font-size:28px;font-family:Arial;color:#E37C4D'>Import the required libraries</b>"
   ]
  },
  {
   "cell_type": "code",
   "execution_count": 1,
   "id": "638aff42",
   "metadata": {},
   "outputs": [],
   "source": [
    "# Importing required libraries.\n",
    "import getpass\n",
    "from teradataml import *\n",
    "from teradataml.opensource import td_lightgbm"
   ]
  },
  {
   "cell_type": "markdown",
   "id": "2c59448e-ff3d-43cd-88e8-6ac69e436a0d",
   "metadata": {},
   "source": [
    " "
   ]
  },
  {
   "cell_type": "markdown",
   "id": "c950694a",
   "metadata": {},
   "source": [
    "<b style = 'font-size:28px;font-family:Arial;color:#E37C4D'>Connect to Vantage</b>"
   ]
  },
  {
   "cell_type": "code",
   "execution_count": 2,
   "id": "64337371-c4bf-479f-9da3-45a9e2f587a4",
   "metadata": {},
   "outputs": [
    {
     "name": "stdout",
     "output_type": "stream",
     "text": [
      "Hostname:  ········\n",
      "Username:  ········\n",
      "Password:  ········\n"
     ]
    }
   ],
   "source": [
    "td_context = create_context(host=getpass.getpass(\"Hostname: \"), username=getpass.getpass(\"Username: \"), password=getpass.getpass(\"Password: \"))"
   ]
  },
  {
   "cell_type": "code",
   "execution_count": 3,
   "id": "a573bd9d-edc5-484b-b939-f0f88d1cf346",
   "metadata": {},
   "outputs": [
    {
     "name": "stdout",
     "output_type": "stream",
     "text": [
      "WARNING: Skipped loading table multi_model_classification since it already exists in the database.\n"
     ]
    }
   ],
   "source": [
    "load_example_data(\"openml\", [\"multi_model_classification\"])"
   ]
  },
  {
   "cell_type": "code",
   "execution_count": 4,
   "id": "42ba4e0e-5b40-465c-9175-e8130014514d",
   "metadata": {},
   "outputs": [
    {
     "data": {
      "application/vnd.jupyter.widget-view+json": {
       "model_id": "9a8f5d1c6df14225a81b067b88a251cd",
       "version_major": 2,
       "version_minor": 0
      },
      "text/plain": []
     },
     "metadata": {},
     "output_type": "display_data"
    },
    {
     "data": {
      "text/html": [
       "<style type=\"text/css\">\n",
       "\ttable { border:ridge 5px}\n",
       "\ttable td {border:inset 1px;}\n",
       "\ttable tr#HeaderRow {background-color:grey; color:white;}\n",
       "\t</style>\n",
       "<html><table style=\"min-width:1000px;\">\n",
       "\t<tr id=\"HeaderRow\">\n",
       "<th>col1</th><th>col2</th><th>col3</th><th>col4</th><th>label</th><th>group_column</th><th>partition_column_1</th><th>partition_column_2</th>\n",
       "</tr>\n",
       "\t<tr>\n",
       "\t\t<td>1.441799942052639</td>\n",
       "\t\t<td>-0.007863088254752237</td>\n",
       "\t\t<td>0.16867607034191498</td>\n",
       "\t\t<td>0.6171640072092826</td>\n",
       "\t\t<td>0</td>\n",
       "\t\t<td>9</td>\n",
       "\t\t<td>1</td>\n",
       "\t\t<td>10</td>\n",
       "\t</tr>\n",
       "\t<tr>\n",
       "\t\t<td>0.6694011171349543</td>\n",
       "\t\t<td>0.9652764024551586</td>\n",
       "\t\t<td>-0.07935670591231186</td>\n",
       "\t\t<td>0.6836973223055627</td>\n",
       "\t\t<td>1</td>\n",
       "\t\t<td>8</td>\n",
       "\t\t<td>1</td>\n",
       "\t\t<td>10</td>\n",
       "\t</tr>\n",
       "\t<tr>\n",
       "\t\t<td>-1.876448117768668</td>\n",
       "\t\t<td>-1.0417196347697408</td>\n",
       "\t\t<td>-0.04834511398822236</td>\n",
       "\t\t<td>-1.2344071410531203</td>\n",
       "\t\t<td>0</td>\n",
       "\t\t<td>8</td>\n",
       "\t\t<td>0</td>\n",
       "\t\t<td>11</td>\n",
       "\t</tr>\n",
       "\t<tr>\n",
       "\t\t<td>0.579671001277728</td>\n",
       "\t\t<td>-0.573365219679928</td>\n",
       "\t\t<td>0.16060282214309085</td>\n",
       "\t\t<td>0.01440442754473703</td>\n",
       "\t\t<td>0</td>\n",
       "\t\t<td>9</td>\n",
       "\t\t<td>1</td>\n",
       "\t\t<td>10</td>\n",
       "\t</tr>\n",
       "\t<tr>\n",
       "\t\t<td>-0.6152257788527016</td>\n",
       "\t\t<td>-0.5464720050729892</td>\n",
       "\t\t<td>0.017496118036175914</td>\n",
       "\t\t<td>-0.4887201062539174</td>\n",
       "\t\t<td>0</td>\n",
       "\t\t<td>12</td>\n",
       "\t\t<td>0</td>\n",
       "\t\t<td>10</td>\n",
       "\t</tr>\n",
       "\t<tr>\n",
       "\t\t<td>-1.0238897504244115</td>\n",
       "\t\t<td>1.3437756557705778</td>\n",
       "\t\t<td>-0.3375437364491432</td>\n",
       "\t\t<td>0.11024249137484599</td>\n",
       "\t\t<td>1</td>\n",
       "\t\t<td>10</td>\n",
       "\t\t<td>1</td>\n",
       "\t\t<td>10</td>\n",
       "\t</tr>\n",
       "\t<tr>\n",
       "\t\t<td>1.9626893537873635</td>\n",
       "\t\t<td>1.2250596232346727</td>\n",
       "\t\t<td>0.0285237018026106</td>\n",
       "\t\t<td>1.3466659316222755</td>\n",
       "\t\t<td>0</td>\n",
       "\t\t<td>12</td>\n",
       "\t\t<td>0</td>\n",
       "\t\t<td>10</td>\n",
       "\t</tr>\n",
       "\t<tr>\n",
       "\t\t<td>0.24199712488344916</td>\n",
       "\t\t<td>1.9200179733329914</td>\n",
       "\t\t<td>-0.2843409038906144</td>\n",
       "\t\t<td>0.8911360218393471</td>\n",
       "\t\t<td>1</td>\n",
       "\t\t<td>9</td>\n",
       "\t\t<td>1</td>\n",
       "\t\t<td>11</td>\n",
       "\t</tr>\n",
       "\t<tr>\n",
       "\t\t<td>-0.8105262923234027</td>\n",
       "\t\t<td>-1.134015223960283</td>\n",
       "\t\t<td>0.09042996353629612</td>\n",
       "\t\t<td>-0.813586969448157</td>\n",
       "\t\t<td>0</td>\n",
       "\t\t<td>8</td>\n",
       "\t\t<td>0</td>\n",
       "\t\t<td>10</td>\n",
       "\t</tr>\n",
       "\t<tr>\n",
       "\t\t<td>-2.869764010059474</td>\n",
       "\t\t<td>-1.4565007703551098</td>\n",
       "\t\t<td>-0.0961757576193859</td>\n",
       "\t\t<td>-1.8318347434856384</td>\n",
       "\t\t<td>0</td>\n",
       "\t\t<td>11</td>\n",
       "\t\t<td>1</td>\n",
       "\t\t<td>11</td>\n",
       "\t</tr>\n",
       "</table></html>"
      ],
      "text/plain": [
       "               col2      col3      col4  label  group_column  partition_column_1  partition_column_2\n",
       "col1                                                                                                \n",
       " 1.441800 -0.007863  0.168676  0.617164      0             9                   1                  10\n",
       " 0.669401  0.965276 -0.079357  0.683697      1             8                   1                  10\n",
       "-1.876448 -1.041720 -0.048345 -1.234407      0             8                   0                  11\n",
       " 0.579671 -0.573365  0.160603  0.014404      0             9                   1                  10\n",
       "-0.615226 -0.546472  0.017496 -0.488720      0            12                   0                  10\n",
       "-1.023890  1.343776 -0.337544  0.110242      1            10                   1                  10\n",
       " 1.962689  1.225060  0.028524  1.346666      0            12                   0                  10\n",
       " 0.241997  1.920018 -0.284341  0.891136      1             9                   1                  11\n",
       "-0.810526 -1.134015  0.090430 -0.813587      0             8                   0                  10\n",
       "-2.869764 -1.456501 -0.096176 -1.831835      0            11                   1                  11"
      ]
     },
     "execution_count": 4,
     "metadata": {},
     "output_type": "execute_result"
    }
   ],
   "source": [
    "df_train = DataFrame(\"multi_model_classification\")\n",
    "df_train"
   ]
  },
  {
   "cell_type": "code",
   "execution_count": 5,
   "id": "90661e56-b0bd-4113-888c-8a52a9d56bdc",
   "metadata": {},
   "outputs": [],
   "source": [
    "df_x = df_train.select([\"col1\", \"col2\", \"col3\", \"col4\"])\n",
    "df_y = df_train.select(\"label\")"
   ]
  },
  {
   "cell_type": "markdown",
   "id": "16e04854",
   "metadata": {},
   "source": [
    "<b style = 'font-size:28px;font-family:Arial;color:#E37C4D'>Loading Dataset</b>"
   ]
  },
  {
   "cell_type": "markdown",
   "id": "e7e85dcb",
   "metadata": {},
   "source": [
    "<b style = 'font-size:24px;font-family:Arial;color:#E37C4D'>Dataset Creation for train()</b>"
   ]
  },
  {
   "cell_type": "markdown",
   "id": "926cb083",
   "metadata": {},
   "source": [
    "<b style = 'font-size:20px;font-family:Arial;color:#E37C4D'>Single model case</b>"
   ]
  },
  {
   "cell_type": "code",
   "execution_count": 6,
   "id": "0ff22214-7393-4085-bdc2-1fae6d1c333e",
   "metadata": {},
   "outputs": [
    {
     "data": {
      "text/plain": [
       "<lightgbm.basic.Dataset object at 0x7f373a78e760>"
      ]
     },
     "execution_count": 6,
     "metadata": {},
     "output_type": "execute_result"
    }
   ],
   "source": [
    "# Training dataset.\n",
    "obj_s = td_lightgbm.Dataset(df_x, df_y, silent=True, free_raw_data=False)\n",
    "obj_s"
   ]
  },
  {
   "cell_type": "markdown",
   "id": "06beb807",
   "metadata": {},
   "source": [
    "<b style = 'font-size:20px;font-family:Arial;color:#E37C4D'>Multi model case</b>"
   ]
  },
  {
   "cell_type": "code",
   "execution_count": 7,
   "id": "3b3b1057-5165-45a2-8acd-f898e6f0dba1",
   "metadata": {},
   "outputs": [
    {
     "data": {
      "text/plain": [
       "   partition_column_1  partition_column_2                                              model\n",
       "0                   1                  11  <lightgbm.basic.Dataset object at 0x7f373a7b09d0>\n",
       "1                   0                  11  <lightgbm.basic.Dataset object at 0x7f3739e0d550>\n",
       "2                   1                  10  <lightgbm.basic.Dataset object at 0x7f3739e50820>\n",
       "3                   0                  10  <lightgbm.basic.Dataset object at 0x7f3739e0b3d0>"
      ]
     },
     "execution_count": 7,
     "metadata": {},
     "output_type": "execute_result"
    }
   ],
   "source": [
    "# Training dataset.\n",
    "obj_m = td_lightgbm.Dataset(df_x, df_y, free_raw_data=False, partition_columns=[\"partition_column_1\", \"partition_column_2\"])\n",
    "obj_m"
   ]
  },
  {
   "cell_type": "code",
   "execution_count": 8,
   "id": "ca34f03f-6618-4d43-84e4-896ac2d82e5d",
   "metadata": {},
   "outputs": [
    {
     "data": {
      "text/plain": [
       "   partition_column_1  partition_column_2                                              model\n",
       "0                   1                  11  <lightgbm.basic.Dataset object at 0x7f3739d3b9a0>\n",
       "1                   0                  11  <lightgbm.basic.Dataset object at 0x7f3739d3ba00>\n",
       "2                   1                  10  <lightgbm.basic.Dataset object at 0x7f3739d3b4c0>\n",
       "3                   0                  10  <lightgbm.basic.Dataset object at 0x7f3739d379d0>"
      ]
     },
     "execution_count": 8,
     "metadata": {},
     "output_type": "execute_result"
    }
   ],
   "source": [
    "# Validation dataset.\n",
    "obj_m_v = td_lightgbm.Dataset(df_x, df_y, free_raw_data=False, partition_columns=[\"partition_column_1\", \"partition_column_2\"])\n",
    "obj_m_v"
   ]
  },
  {
   "cell_type": "markdown",
   "id": "7bf8e57a",
   "metadata": {},
   "source": [
    "<b style = 'font-size:24px;font-family:Arial;color:#E37C4D'>Data for training locally</b>"
   ]
  },
  {
   "cell_type": "code",
   "execution_count": 9,
   "id": "5e4cb428-0484-47af-8f05-4f45af0abffc",
   "metadata": {},
   "outputs": [],
   "source": [
    "# Get pandas DataFrame of data.\n",
    "pdf_x = df_x.to_pandas().reset_index()\n",
    "pdf_y = df_y.to_pandas()"
   ]
  },
  {
   "cell_type": "code",
   "execution_count": 10,
   "id": "ae663a34-4460-4d6d-9c42-dd09a7406dbe",
   "metadata": {},
   "outputs": [
    {
     "data": {
      "text/html": [
       "<div>\n",
       "<style scoped>\n",
       "    .dataframe tbody tr th:only-of-type {\n",
       "        vertical-align: middle;\n",
       "    }\n",
       "\n",
       "    .dataframe tbody tr th {\n",
       "        vertical-align: top;\n",
       "    }\n",
       "\n",
       "    .dataframe thead th {\n",
       "        text-align: right;\n",
       "    }\n",
       "</style>\n",
       "<table border=\"1\" class=\"dataframe\">\n",
       "  <thead>\n",
       "    <tr style=\"text-align: right;\">\n",
       "      <th></th>\n",
       "      <th>col1</th>\n",
       "      <th>col2</th>\n",
       "      <th>col3</th>\n",
       "      <th>col4</th>\n",
       "    </tr>\n",
       "  </thead>\n",
       "  <tbody>\n",
       "    <tr>\n",
       "      <th>0</th>\n",
       "      <td>0.579671</td>\n",
       "      <td>-0.573365</td>\n",
       "      <td>0.160603</td>\n",
       "      <td>0.014404</td>\n",
       "    </tr>\n",
       "    <tr>\n",
       "      <th>1</th>\n",
       "      <td>0.152618</td>\n",
       "      <td>-3.176931</td>\n",
       "      <td>0.534689</td>\n",
       "      <td>-1.236542</td>\n",
       "    </tr>\n",
       "    <tr>\n",
       "      <th>2</th>\n",
       "      <td>-0.810526</td>\n",
       "      <td>-1.134015</td>\n",
       "      <td>0.090430</td>\n",
       "      <td>-0.813587</td>\n",
       "    </tr>\n",
       "    <tr>\n",
       "      <th>3</th>\n",
       "      <td>1.619580</td>\n",
       "      <td>0.479071</td>\n",
       "      <td>0.110080</td>\n",
       "      <td>0.893253</td>\n",
       "    </tr>\n",
       "    <tr>\n",
       "      <th>4</th>\n",
       "      <td>-0.615226</td>\n",
       "      <td>-0.546472</td>\n",
       "      <td>0.017496</td>\n",
       "      <td>-0.488720</td>\n",
       "    </tr>\n",
       "    <tr>\n",
       "      <th>...</th>\n",
       "      <td>...</td>\n",
       "      <td>...</td>\n",
       "      <td>...</td>\n",
       "      <td>...</td>\n",
       "    </tr>\n",
       "    <tr>\n",
       "      <th>395</th>\n",
       "      <td>-0.909989</td>\n",
       "      <td>1.105659</td>\n",
       "      <td>-0.285572</td>\n",
       "      <td>0.061649</td>\n",
       "    </tr>\n",
       "    <tr>\n",
       "      <th>396</th>\n",
       "      <td>1.152479</td>\n",
       "      <td>-0.585358</td>\n",
       "      <td>0.229059</td>\n",
       "      <td>0.255960</td>\n",
       "    </tr>\n",
       "    <tr>\n",
       "      <th>397</th>\n",
       "      <td>-0.704176</td>\n",
       "      <td>-0.737887</td>\n",
       "      <td>0.038317</td>\n",
       "      <td>-0.605455</td>\n",
       "    </tr>\n",
       "    <tr>\n",
       "      <th>398</th>\n",
       "      <td>1.221528</td>\n",
       "      <td>0.486295</td>\n",
       "      <td>0.062689</td>\n",
       "      <td>0.724938</td>\n",
       "    </tr>\n",
       "    <tr>\n",
       "      <th>399</th>\n",
       "      <td>-0.922911</td>\n",
       "      <td>-0.670668</td>\n",
       "      <td>0.001983</td>\n",
       "      <td>-0.672020</td>\n",
       "    </tr>\n",
       "  </tbody>\n",
       "</table>\n",
       "<p>400 rows × 4 columns</p>\n",
       "</div>"
      ],
      "text/plain": [
       "         col1      col2      col3      col4\n",
       "0    0.579671 -0.573365  0.160603  0.014404\n",
       "1    0.152618 -3.176931  0.534689 -1.236542\n",
       "2   -0.810526 -1.134015  0.090430 -0.813587\n",
       "3    1.619580  0.479071  0.110080  0.893253\n",
       "4   -0.615226 -0.546472  0.017496 -0.488720\n",
       "..        ...       ...       ...       ...\n",
       "395 -0.909989  1.105659 -0.285572  0.061649\n",
       "396  1.152479 -0.585358  0.229059  0.255960\n",
       "397 -0.704176 -0.737887  0.038317 -0.605455\n",
       "398  1.221528  0.486295  0.062689  0.724938\n",
       "399 -0.922911 -0.670668  0.001983 -0.672020\n",
       "\n",
       "[400 rows x 4 columns]"
      ]
     },
     "execution_count": 10,
     "metadata": {},
     "output_type": "execute_result"
    }
   ],
   "source": [
    "pdf_x"
   ]
  },
  {
   "cell_type": "code",
   "execution_count": 11,
   "id": "4c911146-4f1b-4292-99d1-beae3dc2d71c",
   "metadata": {},
   "outputs": [
    {
     "data": {
      "text/html": [
       "<div>\n",
       "<style scoped>\n",
       "    .dataframe tbody tr th:only-of-type {\n",
       "        vertical-align: middle;\n",
       "    }\n",
       "\n",
       "    .dataframe tbody tr th {\n",
       "        vertical-align: top;\n",
       "    }\n",
       "\n",
       "    .dataframe thead th {\n",
       "        text-align: right;\n",
       "    }\n",
       "</style>\n",
       "<table border=\"1\" class=\"dataframe\">\n",
       "  <thead>\n",
       "    <tr style=\"text-align: right;\">\n",
       "      <th></th>\n",
       "      <th>label</th>\n",
       "    </tr>\n",
       "  </thead>\n",
       "  <tbody>\n",
       "    <tr>\n",
       "      <th>0</th>\n",
       "      <td>0</td>\n",
       "    </tr>\n",
       "    <tr>\n",
       "      <th>1</th>\n",
       "      <td>0</td>\n",
       "    </tr>\n",
       "    <tr>\n",
       "      <th>2</th>\n",
       "      <td>0</td>\n",
       "    </tr>\n",
       "    <tr>\n",
       "      <th>3</th>\n",
       "      <td>1</td>\n",
       "    </tr>\n",
       "    <tr>\n",
       "      <th>4</th>\n",
       "      <td>0</td>\n",
       "    </tr>\n",
       "    <tr>\n",
       "      <th>...</th>\n",
       "      <td>...</td>\n",
       "    </tr>\n",
       "    <tr>\n",
       "      <th>395</th>\n",
       "      <td>1</td>\n",
       "    </tr>\n",
       "    <tr>\n",
       "      <th>396</th>\n",
       "      <td>0</td>\n",
       "    </tr>\n",
       "    <tr>\n",
       "      <th>397</th>\n",
       "      <td>0</td>\n",
       "    </tr>\n",
       "    <tr>\n",
       "      <th>398</th>\n",
       "      <td>1</td>\n",
       "    </tr>\n",
       "    <tr>\n",
       "      <th>399</th>\n",
       "      <td>0</td>\n",
       "    </tr>\n",
       "  </tbody>\n",
       "</table>\n",
       "<p>400 rows × 1 columns</p>\n",
       "</div>"
      ],
      "text/plain": [
       "     label\n",
       "0        0\n",
       "1        0\n",
       "2        0\n",
       "3        1\n",
       "4        0\n",
       "..     ...\n",
       "395      1\n",
       "396      0\n",
       "397      0\n",
       "398      1\n",
       "399      0\n",
       "\n",
       "[400 rows x 1 columns]"
      ]
     },
     "execution_count": 11,
     "metadata": {},
     "output_type": "execute_result"
    }
   ],
   "source": [
    "pdf_y"
   ]
  },
  {
   "cell_type": "markdown",
   "id": "e20ffa35",
   "metadata": {},
   "source": [
    "<b style = 'font-size:28px;font-family:Arial;color:#E37C4D'>Deploy and load models trained in Vantage</b>"
   ]
  },
  {
   "cell_type": "markdown",
   "id": "a9fbcc02",
   "metadata": {},
   "source": [
    "<b style = 'font-size:24px;font-family:Arial;color:#E37C4D'>Single model</b>"
   ]
  },
  {
   "cell_type": "markdown",
   "id": "6ad8e53f",
   "metadata": {},
   "source": [
    "<b style = 'font-size:22px;font-family:Arial;color:#E37C4D'>Train</b>"
   ]
  },
  {
   "cell_type": "code",
   "execution_count": 12,
   "id": "dd56d70a-b1c6-4a7c-a08c-e1b366ea3cc7",
   "metadata": {},
   "outputs": [
    {
     "name": "stdout",
     "output_type": "stream",
     "text": [
      "[LightGBM] [Warning] Auto-choosing col-wise multi-threading, the overhead of testing was 0.000069 seconds.\n",
      "You can set `force_col_wise=true` to remove the overhead.\n",
      "[LightGBM] [Info] Total Bins 532\n",
      "[LightGBM] [Info] Number of data points in the train set: 400, number of used features: 4\n",
      "[1]\tvalid_0's l2: 0.215811\n",
      "[2]\tvalid_0's l2: 0.188138\n",
      "[3]\tvalid_0's l2: 0.166146\n",
      "[4]\tvalid_0's l2: 0.14767\n",
      "[5]\tvalid_0's l2: 0.133023\n",
      "[6]\tvalid_0's l2: 0.121225\n",
      "[7]\tvalid_0's l2: 0.111342\n",
      "[8]\tvalid_0's l2: 0.102441\n",
      "[9]\tvalid_0's l2: 0.0954689\n",
      "[10]\tvalid_0's l2: 0.0885382\n",
      "[11]\tvalid_0's l2: 0.0829116\n",
      "[12]\tvalid_0's l2: 0.0781437\n",
      "[13]\tvalid_0's l2: 0.0743136\n",
      "[14]\tvalid_0's l2: 0.0708161\n",
      "[15]\tvalid_0's l2: 0.0673105\n",
      "[16]\tvalid_0's l2: 0.0649678\n",
      "[17]\tvalid_0's l2: 0.0610153\n",
      "[18]\tvalid_0's l2: 0.0578387\n",
      "[19]\tvalid_0's l2: 0.055239\n",
      "[20]\tvalid_0's l2: 0.0530351\n",
      "[21]\tvalid_0's l2: 0.0508195\n",
      "[22]\tvalid_0's l2: 0.0492392\n",
      "[23]\tvalid_0's l2: 0.0478884\n",
      "[24]\tvalid_0's l2: 0.0468161\n",
      "[25]\tvalid_0's l2: 0.0457537\n",
      "[26]\tvalid_0's l2: 0.0449375\n",
      "[27]\tvalid_0's l2: 0.0439461\n",
      "[28]\tvalid_0's l2: 0.0432557\n",
      "[29]\tvalid_0's l2: 0.042255\n",
      "[30]\tvalid_0's l2: 0.0416953\n",
      "\n"
     ]
    },
    {
     "data": {
      "text/plain": [
       "<lightgbm.basic.Booster object at 0x7f373a7a07f0>"
      ]
     },
     "execution_count": 12,
     "metadata": {},
     "output_type": "execute_result"
    }
   ],
   "source": [
    "# Training without valid_sets argument.\n",
    "opt_s = td_lightgbm.train(params={}, train_set=obj_s, num_boost_round=30, valid_sets=[obj_s])\n",
    "opt_s"
   ]
  },
  {
   "cell_type": "code",
   "execution_count": 13,
   "id": "c48092ae-af67-41d8-aae1-de4e09ee9fcf",
   "metadata": {},
   "outputs": [
    {
     "data": {
      "text/plain": [
       "teradataml.opensource._lightgbm._LightgbmBoosterWrapper"
      ]
     },
     "execution_count": 13,
     "metadata": {},
     "output_type": "execute_result"
    }
   ],
   "source": [
    "type(opt_s)"
   ]
  },
  {
   "cell_type": "markdown",
   "id": "e65a4fb5",
   "metadata": {},
   "source": [
    "<b style = 'font-size:22px;font-family:Arial;color:#E37C4D'>Deploy</b>"
   ]
  },
  {
   "cell_type": "code",
   "execution_count": 14,
   "id": "a64f61dc-3209-4cab-aa2c-00fcaee1bf8f",
   "metadata": {},
   "outputs": [
    {
     "name": "stdout",
     "output_type": "stream",
     "text": [
      "Model is saved.\n"
     ]
    },
    {
     "data": {
      "text/plain": [
       "<lightgbm.basic.Booster object at 0x7f373a7a07f0>"
      ]
     },
     "execution_count": 14,
     "metadata": {},
     "output_type": "execute_result"
    }
   ],
   "source": [
    "opt_s.deploy(model_name=\"lightgbm_deploy_train_single_model\")"
   ]
  },
  {
   "cell_type": "code",
   "execution_count": 15,
   "id": "a38a16d6-751b-4f73-8846-4bf68f14b415",
   "metadata": {},
   "outputs": [
    {
     "name": "stdout",
     "output_type": "stream",
     "text": [
      "Model is deleted.\n",
      "Model is saved.\n"
     ]
    },
    {
     "data": {
      "text/plain": [
       "<lightgbm.basic.Booster object at 0x7f373a7a07f0>"
      ]
     },
     "execution_count": 15,
     "metadata": {},
     "output_type": "execute_result"
    }
   ],
   "source": [
    "# Deploying again with \"replace_if_exists\" set to True.\n",
    "opt_s.deploy(model_name=\"lightgbm_deploy_train_single_model\", replace_if_exists=True)"
   ]
  },
  {
   "cell_type": "code",
   "execution_count": 16,
   "id": "00ae67f7-5ca0-4047-a00b-d4cc56530d5f",
   "metadata": {},
   "outputs": [],
   "source": [
    "opt_s.record_evaluation_result # Empty as no record evaluation callback used."
   ]
  },
  {
   "cell_type": "markdown",
   "id": "6548545d",
   "metadata": {},
   "source": [
    "<b style = 'font-size:22px;font-family:Arial;color:#E37C4D'>Load</b>"
   ]
  },
  {
   "cell_type": "code",
   "execution_count": 17,
   "id": "7ae6cdfc-7e6b-4571-a702-7cceb50c05e3",
   "metadata": {},
   "outputs": [
    {
     "data": {
      "text/plain": [
       "<lightgbm.basic.Booster object at 0x7f373a7b0910>"
      ]
     },
     "execution_count": 17,
     "metadata": {},
     "output_type": "execute_result"
    }
   ],
   "source": [
    "opt_load = td_lightgbm.load(model_name=\"lightgbm_deploy_train_single_model\")\n",
    "opt_load"
   ]
  },
  {
   "cell_type": "code",
   "execution_count": 18,
   "id": "48ff1ec3-e311-4e25-b64b-f3e660ab3cfd",
   "metadata": {},
   "outputs": [
    {
     "data": {
      "application/vnd.jupyter.widget-view+json": {
       "model_id": "ba6916f160f74e8dbcaefc053a3a6422",
       "version_major": 2,
       "version_minor": 0
      },
      "text/plain": []
     },
     "metadata": {},
     "output_type": "display_data"
    },
    {
     "data": {
      "text/html": [
       "<style type=\"text/css\">\n",
       "\ttable { border:ridge 5px}\n",
       "\ttable td {border:inset 1px;}\n",
       "\ttable tr#HeaderRow {background-color:grey; color:white;}\n",
       "\t</style>\n",
       "<html><table style=\"min-width:1000px;\">\n",
       "\t<tr id=\"HeaderRow\">\n",
       "<th>col1</th><th>col2</th><th>col3</th><th>col4</th><th>label</th><th>booster_predict_1</th>\n",
       "</tr>\n",
       "\t<tr>\n",
       "\t\t<td>1.08721910721962</td>\n",
       "\t\t<td>-1.00616238561834</td>\n",
       "\t\t<td>0.289957882286553</td>\n",
       "\t\t<td>0.0553936469585556</td>\n",
       "\t\t<td>0</td>\n",
       "\t\t<td>0.01455385234183247</td>\n",
       "\t</tr>\n",
       "\t<tr>\n",
       "\t\t<td>-1.0134542207762</td>\n",
       "\t\t<td>0.855764911464957</td>\n",
       "\t\t<td>-0.256919976110177</td>\n",
       "\t\t<td>-0.0853009535407497</td>\n",
       "\t\t<td>1</td>\n",
       "\t\t<td>0.9765026758817095</td>\n",
       "\t</tr>\n",
       "\t<tr>\n",
       "\t\t<td>1.45883918214779</td>\n",
       "\t\t<td>0.627871026643599</td>\n",
       "\t\t<td>0.067203725213036</td>\n",
       "\t\t<td>0.885080711754702</td>\n",
       "\t\t<td>1</td>\n",
       "\t\t<td>0.6711517783816373</td>\n",
       "\t</tr>\n",
       "\t<tr>\n",
       "\t\t<td>1.15227849437784</td>\n",
       "\t\t<td>-0.385591649876342</td>\n",
       "\t\t<td>0.196528275174699</td>\n",
       "\t\t<td>0.337757362367158</td>\n",
       "\t\t<td>0</td>\n",
       "\t\t<td>0.03177510210948415</td>\n",
       "\t</tr>\n",
       "\t<tr>\n",
       "\t\t<td>-0.697767009551012</td>\n",
       "\t\t<td>2.3918078347398</td>\n",
       "\t\t<td>-0.470222449950579</td>\n",
       "\t\t<td>0.680153033261556</td>\n",
       "\t\t<td>1</td>\n",
       "\t\t<td>0.9798849376620596</td>\n",
       "\t</tr>\n",
       "\t<tr>\n",
       "\t\t<td>0.908225366310926</td>\n",
       "\t\t<td>-1.16923260998804</td>\n",
       "\t\t<td>0.295712076085351</td>\n",
       "\t\t<td>-0.0884667969477652</td>\n",
       "\t\t<td>0</td>\n",
       "\t\t<td>0.015945753556884906</td>\n",
       "\t</tr>\n",
       "\t<tr>\n",
       "\t\t<td>1.46768781760664</td>\n",
       "\t\t<td>-0.373959133431616</td>\n",
       "\t\t<td>0.231255161662991</td>\n",
       "\t\t<td>0.478241860805545</td>\n",
       "\t\t<td>0</td>\n",
       "\t\t<td>0.13171968363330805</td>\n",
       "\t</tr>\n",
       "\t<tr>\n",
       "\t\t<td>0.599510804787902</td>\n",
       "\t\t<td>1.29890654949678</td>\n",
       "\t\t<td>-0.141761534378328</td>\n",
       "\t\t<td>0.790378168209106</td>\n",
       "\t\t<td>1</td>\n",
       "\t\t<td>0.9620758466678745</td>\n",
       "\t</tr>\n",
       "\t<tr>\n",
       "\t\t<td>1.4139639946904</td>\n",
       "\t\t<td>0.32934226567058</td>\n",
       "\t\t<td>0.110572077573417</td>\n",
       "\t\t<td>0.743405742245793</td>\n",
       "\t\t<td>0</td>\n",
       "\t\t<td>0.5943842107636799</td>\n",
       "\t</tr>\n",
       "\t<tr>\n",
       "\t\t<td>-1.87644811776867</td>\n",
       "\t\t<td>-1.04171963476974</td>\n",
       "\t\t<td>-0.0483451139882224</td>\n",
       "\t\t<td>-1.23440714105312</td>\n",
       "\t\t<td>0</td>\n",
       "\t\t<td>-0.01096093893718341</td>\n",
       "\t</tr>\n",
       "</table></html>"
      ],
      "text/plain": [
       "       col1      col2      col3      col4  label  booster_predict_1\n",
       "0  1.087219 -1.006162  0.289958  0.055394      0           0.014554\n",
       "1 -1.013454  0.855765 -0.256920 -0.085301      1           0.976503\n",
       "2  1.458839  0.627871  0.067204  0.885081      1           0.671152\n",
       "3  1.152278 -0.385592  0.196528  0.337757      0           0.031775\n",
       "4 -0.697767  2.391808 -0.470222  0.680153      1           0.979885\n",
       "5  0.908225 -1.169233  0.295712 -0.088467      0           0.015946\n",
       "6  1.467688 -0.373959  0.231255  0.478242      0           0.131720\n",
       "7  0.599511  1.298907 -0.141762  0.790378      1           0.962076\n",
       "8  1.413964  0.329342  0.110572  0.743406      0           0.594384\n",
       "9 -1.876448 -1.041720 -0.048345 -1.234407      0          -0.010961"
      ]
     },
     "execution_count": 18,
     "metadata": {},
     "output_type": "execute_result"
    }
   ],
   "source": [
    "opt_load.predict(data=df_x, label=df_y)"
   ]
  },
  {
   "cell_type": "markdown",
   "id": "a9b414a4",
   "metadata": {},
   "source": [
    "<b style = 'font-size:24px;font-family:Arial;color:#E37C4D'>Single model with record_evaluation callback</b>"
   ]
  },
  {
   "cell_type": "markdown",
   "id": "a5c93309",
   "metadata": {},
   "source": [
    "<b style = 'font-size:22px;font-family:Arial;color:#E37C4D'>Train</b>"
   ]
  },
  {
   "cell_type": "code",
   "execution_count": 19,
   "id": "40003c6f-8ad8-4f84-ac81-de34d1a48856",
   "metadata": {},
   "outputs": [],
   "source": [
    "rec = {}"
   ]
  },
  {
   "cell_type": "code",
   "execution_count": 20,
   "id": "f3e2a200-8686-4278-9293-5035f840ea89",
   "metadata": {},
   "outputs": [
    {
     "name": "stdout",
     "output_type": "stream",
     "text": [
      "[LightGBM] [Warning] Auto-choosing row-wise multi-threading, the overhead of testing was 0.000062 seconds.\n",
      "You can set `force_row_wise=true` to remove the overhead.\n",
      "And if memory is not enough, you can set `force_col_wise=true`.\n",
      "[LightGBM] [Info] Total Bins 532\n",
      "[LightGBM] [Info] Number of data points in the train set: 400, number of used features: 4\n",
      "Training until validation scores don't improve for 3 rounds\n",
      "Did not meet early stopping. Best iteration is:\n",
      "[30]\tvalid_0's l2: 0.0416953\n",
      "\n"
     ]
    },
    {
     "data": {
      "text/plain": [
       "<lightgbm.basic.Booster object at 0x7f37384b2b20>"
      ]
     },
     "execution_count": 20,
     "metadata": {},
     "output_type": "execute_result"
    }
   ],
   "source": [
    "# Training With valid_sets and callbacks argument.\n",
    "opt1 = td_lightgbm.train(params={}, train_set = obj_s, num_boost_round=30,\n",
    "                         callbacks=[td_lightgbm.record_evaluation(rec), td_lightgbm.early_stopping(3)],\n",
    "                         valid_sets=[obj_s])\n",
    "opt1"
   ]
  },
  {
   "cell_type": "code",
   "execution_count": 21,
   "id": "eb7f1394-27cd-40f9-8f3d-be6033593834",
   "metadata": {},
   "outputs": [
    {
     "data": {
      "text/plain": [
       "teradataml.opensource._lightgbm._LightgbmBoosterWrapper"
      ]
     },
     "execution_count": 21,
     "metadata": {},
     "output_type": "execute_result"
    }
   ],
   "source": [
    "type(opt1)"
   ]
  },
  {
   "cell_type": "code",
   "execution_count": 22,
   "id": "39d64595-2830-4d71-a517-c6d94dd80022",
   "metadata": {},
   "outputs": [
    {
     "data": {
      "text/plain": [
       "{'valid_0': OrderedDict([('l2',\n",
       "               [0.21581071275252506,\n",
       "                0.18813848372931538,\n",
       "                0.16614597654803753,\n",
       "                0.14767044160631687,\n",
       "                0.13302313884161535,\n",
       "                0.12122466019783522,\n",
       "                0.11134224788641987,\n",
       "                0.10244106031111,\n",
       "                0.09546885423861737,\n",
       "                0.08853818576366684,\n",
       "                0.08291158235734035,\n",
       "                0.07814370620464588,\n",
       "                0.07431355341477688,\n",
       "                0.0708161265895864,\n",
       "                0.06731046317041568,\n",
       "                0.06496776380958444,\n",
       "                0.06101534989219161,\n",
       "                0.05783874072873213,\n",
       "                0.05523896129206842,\n",
       "                0.05303513329305773,\n",
       "                0.050819538604252125,\n",
       "                0.0492392067741575,\n",
       "                0.047888389710407535,\n",
       "                0.046816146687603685,\n",
       "                0.045753706406899186,\n",
       "                0.04493752813972262,\n",
       "                0.04394607409922496,\n",
       "                0.04325565893415338,\n",
       "                0.04225501033363511,\n",
       "                0.04169529314351533])])}"
      ]
     },
     "execution_count": 22,
     "metadata": {},
     "output_type": "execute_result"
    }
   ],
   "source": [
    "opt1.record_evaluation_result"
   ]
  },
  {
   "cell_type": "markdown",
   "id": "f1a63a50",
   "metadata": {},
   "source": [
    "<b style = 'font-size:22px;font-family:Arial;color:#E37C4D'>Deploy</b>"
   ]
  },
  {
   "cell_type": "code",
   "execution_count": 23,
   "id": "e93f1cba-63b7-4951-8fe9-7e9c267c2fb2",
   "metadata": {},
   "outputs": [
    {
     "name": "stdout",
     "output_type": "stream",
     "text": [
      "Model is saved.\n"
     ]
    },
    {
     "data": {
      "text/plain": [
       "<lightgbm.basic.Booster object at 0x7f37384b2b20>"
      ]
     },
     "execution_count": 23,
     "metadata": {},
     "output_type": "execute_result"
    }
   ],
   "source": [
    "opt1.deploy(model_name=\"lightgbm_deploy_train_single_model_with_callback\")"
   ]
  },
  {
   "cell_type": "markdown",
   "id": "26a4f743",
   "metadata": {},
   "source": [
    "<b style = 'font-size:22px;font-family:Arial;color:#E37C4D'>Load</b>"
   ]
  },
  {
   "cell_type": "code",
   "execution_count": 25,
   "id": "11274548-7e10-4c54-8511-8a2b48bef1cc",
   "metadata": {},
   "outputs": [
    {
     "data": {
      "text/plain": [
       "<lightgbm.basic.Booster object at 0x7f37383c7b50>"
      ]
     },
     "execution_count": 25,
     "metadata": {},
     "output_type": "execute_result"
    }
   ],
   "source": [
    "opt1_load = td_lightgbm.load(model_name=\"lightgbm_deploy_train_single_model_with_callback\")\n",
    "opt1_load"
   ]
  },
  {
   "cell_type": "code",
   "execution_count": 26,
   "id": "51f56875-7c88-4629-99c6-c65b150966fb",
   "metadata": {},
   "outputs": [],
   "source": [
    "opt1_load.record_evaluation_result # Deploy will not save wrapper attributes. It just saves underlying model object."
   ]
  },
  {
   "cell_type": "code",
   "execution_count": 27,
   "id": "6fd8ee94-734a-43fe-bc89-81e49e7351b3",
   "metadata": {},
   "outputs": [
    {
     "data": {
      "application/vnd.jupyter.widget-view+json": {
       "model_id": "ca94e3456942436eaf842cffd94b2070",
       "version_major": 2,
       "version_minor": 0
      },
      "text/plain": []
     },
     "metadata": {},
     "output_type": "display_data"
    },
    {
     "data": {
      "text/html": [
       "<style type=\"text/css\">\n",
       "\ttable { border:ridge 5px}\n",
       "\ttable td {border:inset 1px;}\n",
       "\ttable tr#HeaderRow {background-color:grey; color:white;}\n",
       "\t</style>\n",
       "<html><table style=\"min-width:1000px;\">\n",
       "\t<tr id=\"HeaderRow\">\n",
       "<th>col1</th><th>col2</th><th>col3</th><th>col4</th><th>booster_predict_1</th>\n",
       "</tr>\n",
       "\t<tr>\n",
       "\t\t<td>1.08721910721962</td>\n",
       "\t\t<td>-1.00616238561834</td>\n",
       "\t\t<td>0.289957882286553</td>\n",
       "\t\t<td>0.0553936469585556</td>\n",
       "\t\t<td>0.01455385234183247</td>\n",
       "\t</tr>\n",
       "\t<tr>\n",
       "\t\t<td>-1.0134542207762</td>\n",
       "\t\t<td>0.855764911464957</td>\n",
       "\t\t<td>-0.256919976110177</td>\n",
       "\t\t<td>-0.0853009535407497</td>\n",
       "\t\t<td>0.9765026758817095</td>\n",
       "\t</tr>\n",
       "\t<tr>\n",
       "\t\t<td>1.45883918214779</td>\n",
       "\t\t<td>0.627871026643599</td>\n",
       "\t\t<td>0.067203725213036</td>\n",
       "\t\t<td>0.885080711754702</td>\n",
       "\t\t<td>0.6711517783816373</td>\n",
       "\t</tr>\n",
       "\t<tr>\n",
       "\t\t<td>1.15227849437784</td>\n",
       "\t\t<td>-0.385591649876342</td>\n",
       "\t\t<td>0.196528275174699</td>\n",
       "\t\t<td>0.337757362367158</td>\n",
       "\t\t<td>0.03177510210948415</td>\n",
       "\t</tr>\n",
       "\t<tr>\n",
       "\t\t<td>-0.697767009551012</td>\n",
       "\t\t<td>2.3918078347398</td>\n",
       "\t\t<td>-0.470222449950579</td>\n",
       "\t\t<td>0.680153033261556</td>\n",
       "\t\t<td>0.9798849376620596</td>\n",
       "\t</tr>\n",
       "\t<tr>\n",
       "\t\t<td>0.908225366310926</td>\n",
       "\t\t<td>-1.16923260998804</td>\n",
       "\t\t<td>0.295712076085351</td>\n",
       "\t\t<td>-0.0884667969477652</td>\n",
       "\t\t<td>0.015945753556884906</td>\n",
       "\t</tr>\n",
       "\t<tr>\n",
       "\t\t<td>1.46768781760664</td>\n",
       "\t\t<td>-0.373959133431616</td>\n",
       "\t\t<td>0.231255161662991</td>\n",
       "\t\t<td>0.478241860805545</td>\n",
       "\t\t<td>0.13171968363330805</td>\n",
       "\t</tr>\n",
       "\t<tr>\n",
       "\t\t<td>0.599510804787902</td>\n",
       "\t\t<td>1.29890654949678</td>\n",
       "\t\t<td>-0.141761534378328</td>\n",
       "\t\t<td>0.790378168209106</td>\n",
       "\t\t<td>0.9620758466678745</td>\n",
       "\t</tr>\n",
       "\t<tr>\n",
       "\t\t<td>1.4139639946904</td>\n",
       "\t\t<td>0.32934226567058</td>\n",
       "\t\t<td>0.110572077573417</td>\n",
       "\t\t<td>0.743405742245793</td>\n",
       "\t\t<td>0.5943842107636799</td>\n",
       "\t</tr>\n",
       "\t<tr>\n",
       "\t\t<td>-1.87644811776867</td>\n",
       "\t\t<td>-1.04171963476974</td>\n",
       "\t\t<td>-0.0483451139882224</td>\n",
       "\t\t<td>-1.23440714105312</td>\n",
       "\t\t<td>-0.01096093893718341</td>\n",
       "\t</tr>\n",
       "</table></html>"
      ],
      "text/plain": [
       "       col1      col2      col3      col4  booster_predict_1\n",
       "0  1.087219 -1.006162  0.289958  0.055394           0.014554\n",
       "1 -1.013454  0.855765 -0.256920 -0.085301           0.976503\n",
       "2  1.458839  0.627871  0.067204  0.885081           0.671152\n",
       "3  1.152278 -0.385592  0.196528  0.337757           0.031775\n",
       "4 -0.697767  2.391808 -0.470222  0.680153           0.979885\n",
       "5  0.908225 -1.169233  0.295712 -0.088467           0.015946\n",
       "6  1.467688 -0.373959  0.231255  0.478242           0.131720\n",
       "7  0.599511  1.298907 -0.141762  0.790378           0.962076\n",
       "8  1.413964  0.329342  0.110572  0.743406           0.594384\n",
       "9 -1.876448 -1.041720 -0.048345 -1.234407          -0.010961"
      ]
     },
     "execution_count": 27,
     "metadata": {},
     "output_type": "execute_result"
    }
   ],
   "source": [
    "opt1_load.predict(df_x)"
   ]
  },
  {
   "cell_type": "markdown",
   "id": "1ee5620e",
   "metadata": {},
   "source": [
    "<b style = 'font-size:24px;font-family:Arial;color:#E37C4D'>Create Booster object from arguments</b>"
   ]
  },
  {
   "cell_type": "code",
   "execution_count": 28,
   "id": "5961b208-b048-4ce3-94f5-46c822e48c46",
   "metadata": {},
   "outputs": [
    {
     "data": {
      "text/plain": [
       "<lightgbm.basic.Booster object at 0x7f373a7a07f0>"
      ]
     },
     "execution_count": 28,
     "metadata": {},
     "output_type": "execute_result"
    }
   ],
   "source": [
    "opt_s.save_model(\"model_file_one_partition\")"
   ]
  },
  {
   "cell_type": "code",
   "execution_count": 29,
   "id": "edb68137-01e6-4318-bbce-c64175fe259d",
   "metadata": {},
   "outputs": [
    {
     "data": {
      "text/plain": [
       "<lightgbm.basic.Booster object at 0x7f373839a6a0>"
      ]
     },
     "execution_count": 29,
     "metadata": {},
     "output_type": "execute_result"
    }
   ],
   "source": [
    "direct_obj = td_lightgbm.Booster(model_file=\"model_file_one_partition\")\n",
    "direct_obj"
   ]
  },
  {
   "cell_type": "markdown",
   "id": "30aa43fb",
   "metadata": {},
   "source": [
    "<b style = 'font-size:22px;font-family:Arial;color:#E37C4D'>Deploy</b>"
   ]
  },
  {
   "cell_type": "code",
   "execution_count": 30,
   "id": "9dbe3f26-73bb-4e94-850c-4a6331d41213",
   "metadata": {},
   "outputs": [
    {
     "name": "stdout",
     "output_type": "stream",
     "text": [
      "Model is saved.\n"
     ]
    },
    {
     "data": {
      "text/plain": [
       "<lightgbm.basic.Booster object at 0x7f373839a6a0>"
      ]
     },
     "execution_count": 30,
     "metadata": {},
     "output_type": "execute_result"
    }
   ],
   "source": [
    "direct_obj.deploy(model_name=\"lightgbm_deploy_booster_from_outside\", replace_if_exists=True)"
   ]
  },
  {
   "cell_type": "markdown",
   "id": "b178f6a2",
   "metadata": {},
   "source": [
    "<b style = 'font-size:22px;font-family:Arial;color:#E37C4D'>Load</b>"
   ]
  },
  {
   "cell_type": "code",
   "execution_count": 31,
   "id": "aadea451-57bd-4c91-a4ce-9b33c7c00706",
   "metadata": {},
   "outputs": [
    {
     "data": {
      "text/plain": [
       "<lightgbm.basic.Booster object at 0x7f3738135340>"
      ]
     },
     "execution_count": 31,
     "metadata": {},
     "output_type": "execute_result"
    }
   ],
   "source": [
    "obj_d = td_lightgbm.load(\"lightgbm_deploy_booster_from_outside\")\n",
    "obj_d"
   ]
  },
  {
   "cell_type": "code",
   "execution_count": 32,
   "id": "1980ec3a-f738-4579-b52d-3d3d0dd3c7e7",
   "metadata": {},
   "outputs": [
    {
     "data": {
      "text/plain": [
       "teradataml.opensource._lightgbm._LightgbmBoosterWrapper"
      ]
     },
     "execution_count": 32,
     "metadata": {},
     "output_type": "execute_result"
    }
   ],
   "source": [
    "type(obj_d)"
   ]
  },
  {
   "cell_type": "code",
   "execution_count": 33,
   "id": "acacfcf9-7489-49b3-b52b-2e6c573156ac",
   "metadata": {},
   "outputs": [
    {
     "data": {
      "text/plain": [
       "30"
      ]
     },
     "execution_count": 33,
     "metadata": {},
     "output_type": "execute_result"
    }
   ],
   "source": [
    "obj_d.current_iteration()"
   ]
  },
  {
   "cell_type": "code",
   "execution_count": 34,
   "id": "7102a607-19d4-4f71-b5cb-d1a54adfb376",
   "metadata": {},
   "outputs": [
    {
     "data": {
      "application/vnd.jupyter.widget-view+json": {
       "model_id": "18cf1dabfb43488cb010c04272de985e",
       "version_major": 2,
       "version_minor": 0
      },
      "text/plain": []
     },
     "metadata": {},
     "output_type": "display_data"
    },
    {
     "data": {
      "text/html": [
       "<style type=\"text/css\">\n",
       "\ttable { border:ridge 5px}\n",
       "\ttable td {border:inset 1px;}\n",
       "\ttable tr#HeaderRow {background-color:grey; color:white;}\n",
       "\t</style>\n",
       "<html><table style=\"min-width:1000px;\">\n",
       "\t<tr id=\"HeaderRow\">\n",
       "<th>col1</th><th>col2</th><th>col3</th><th>col4</th><th>label</th><th>booster_predict_1</th>\n",
       "</tr>\n",
       "\t<tr>\n",
       "\t\t<td>1.08721910721962</td>\n",
       "\t\t<td>-1.00616238561834</td>\n",
       "\t\t<td>0.289957882286553</td>\n",
       "\t\t<td>0.0553936469585556</td>\n",
       "\t\t<td>0</td>\n",
       "\t\t<td>0.01455385234183247</td>\n",
       "\t</tr>\n",
       "\t<tr>\n",
       "\t\t<td>-1.0134542207762</td>\n",
       "\t\t<td>0.855764911464957</td>\n",
       "\t\t<td>-0.256919976110177</td>\n",
       "\t\t<td>-0.0853009535407497</td>\n",
       "\t\t<td>1</td>\n",
       "\t\t<td>0.9765026758817095</td>\n",
       "\t</tr>\n",
       "\t<tr>\n",
       "\t\t<td>1.45883918214779</td>\n",
       "\t\t<td>0.627871026643599</td>\n",
       "\t\t<td>0.067203725213036</td>\n",
       "\t\t<td>0.885080711754702</td>\n",
       "\t\t<td>1</td>\n",
       "\t\t<td>0.6711517783816373</td>\n",
       "\t</tr>\n",
       "\t<tr>\n",
       "\t\t<td>1.15227849437784</td>\n",
       "\t\t<td>-0.385591649876342</td>\n",
       "\t\t<td>0.196528275174699</td>\n",
       "\t\t<td>0.337757362367158</td>\n",
       "\t\t<td>0</td>\n",
       "\t\t<td>0.03177510210948415</td>\n",
       "\t</tr>\n",
       "\t<tr>\n",
       "\t\t<td>-0.697767009551012</td>\n",
       "\t\t<td>2.3918078347398</td>\n",
       "\t\t<td>-0.470222449950579</td>\n",
       "\t\t<td>0.680153033261556</td>\n",
       "\t\t<td>1</td>\n",
       "\t\t<td>0.9798849376620596</td>\n",
       "\t</tr>\n",
       "\t<tr>\n",
       "\t\t<td>0.908225366310926</td>\n",
       "\t\t<td>-1.16923260998804</td>\n",
       "\t\t<td>0.295712076085351</td>\n",
       "\t\t<td>-0.0884667969477652</td>\n",
       "\t\t<td>0</td>\n",
       "\t\t<td>0.015945753556884906</td>\n",
       "\t</tr>\n",
       "\t<tr>\n",
       "\t\t<td>1.46768781760664</td>\n",
       "\t\t<td>-0.373959133431616</td>\n",
       "\t\t<td>0.231255161662991</td>\n",
       "\t\t<td>0.478241860805545</td>\n",
       "\t\t<td>0</td>\n",
       "\t\t<td>0.13171968363330805</td>\n",
       "\t</tr>\n",
       "\t<tr>\n",
       "\t\t<td>0.599510804787902</td>\n",
       "\t\t<td>1.29890654949678</td>\n",
       "\t\t<td>-0.141761534378328</td>\n",
       "\t\t<td>0.790378168209106</td>\n",
       "\t\t<td>1</td>\n",
       "\t\t<td>0.9620758466678745</td>\n",
       "\t</tr>\n",
       "\t<tr>\n",
       "\t\t<td>1.4139639946904</td>\n",
       "\t\t<td>0.32934226567058</td>\n",
       "\t\t<td>0.110572077573417</td>\n",
       "\t\t<td>0.743405742245793</td>\n",
       "\t\t<td>0</td>\n",
       "\t\t<td>0.5943842107636799</td>\n",
       "\t</tr>\n",
       "\t<tr>\n",
       "\t\t<td>-1.87644811776867</td>\n",
       "\t\t<td>-1.04171963476974</td>\n",
       "\t\t<td>-0.0483451139882224</td>\n",
       "\t\t<td>-1.23440714105312</td>\n",
       "\t\t<td>0</td>\n",
       "\t\t<td>-0.01096093893718341</td>\n",
       "\t</tr>\n",
       "</table></html>"
      ],
      "text/plain": [
       "       col1      col2      col3      col4  label  booster_predict_1\n",
       "0  1.087219 -1.006162  0.289958  0.055394      0           0.014554\n",
       "1 -1.013454  0.855765 -0.256920 -0.085301      1           0.976503\n",
       "2  1.458839  0.627871  0.067204  0.885081      1           0.671152\n",
       "3  1.152278 -0.385592  0.196528  0.337757      0           0.031775\n",
       "4 -0.697767  2.391808 -0.470222  0.680153      1           0.979885\n",
       "5  0.908225 -1.169233  0.295712 -0.088467      0           0.015946\n",
       "6  1.467688 -0.373959  0.231255  0.478242      0           0.131720\n",
       "7  0.599511  1.298907 -0.141762  0.790378      1           0.962076\n",
       "8  1.413964  0.329342  0.110572  0.743406      0           0.594384\n",
       "9 -1.876448 -1.041720 -0.048345 -1.234407      0          -0.010961"
      ]
     },
     "execution_count": 34,
     "metadata": {},
     "output_type": "execute_result"
    }
   ],
   "source": [
    "obj_d.predict(df_x, label=df_y)"
   ]
  },
  {
   "cell_type": "markdown",
   "id": "04304ae2-bc18-409c-bad9-53993d406699",
   "metadata": {},
   "source": [
    "<b style = 'font-size:24px;font-family:Arial;color:#E37C4D'>Multi model</b>"
   ]
  },
  {
   "cell_type": "markdown",
   "id": "d5c38857",
   "metadata": {},
   "source": [
    "<b style = 'font-size:22px;font-family:Arial;color:#E37C4D'>Train</b>"
   ]
  },
  {
   "cell_type": "code",
   "execution_count": 35,
   "id": "bd07334c-ae89-4bba-a95e-60b11d2626ad",
   "metadata": {},
   "outputs": [
    {
     "data": {
      "text/plain": [
       "   partition_column_1  partition_column_2  \\\n",
       "0                   1                  11   \n",
       "1                   0                  11   \n",
       "2                   1                  10   \n",
       "3                   0                  10   \n",
       "\n",
       "                                               model  \\\n",
       "0  <lightgbm.basic.Booster object at 0x7f37382766a0>   \n",
       "1  <lightgbm.basic.Booster object at 0x7f37384b2f10>   \n",
       "2  <lightgbm.basic.Booster object at 0x7f3733f909a0>   \n",
       "3  <lightgbm.basic.Booster object at 0x7f379f29fbb0>   \n",
       "\n",
       "                                      console_output  \n",
       "0  [LightGBM] [Warning] Auto-choosing row-wise mu...  \n",
       "1  [LightGBM] [Warning] Auto-choosing col-wise mu...  \n",
       "2  [LightGBM] [Warning] Auto-choosing row-wise mu...  \n",
       "3  [LightGBM] [Warning] Auto-choosing row-wise mu...  "
      ]
     },
     "execution_count": 35,
     "metadata": {},
     "output_type": "execute_result"
    }
   ],
   "source": [
    "# Training with valid_sets argument.\n",
    "opt_m = td_lightgbm.train(params={}, train_set = obj_m, num_boost_round=30, early_stopping_rounds=50, valid_sets=[obj_m_v, obj_m_v])\n",
    "opt_m"
   ]
  },
  {
   "cell_type": "markdown",
   "id": "bc7cb1d3",
   "metadata": {},
   "source": [
    "<b style = 'font-size:22px;font-family:Arial;color:#E37C4D'>Deploy</b>"
   ]
  },
  {
   "cell_type": "code",
   "execution_count": 36,
   "id": "f809760e-25b9-4f50-b383-3ad901273a35",
   "metadata": {},
   "outputs": [
    {
     "name": "stdout",
     "output_type": "stream",
     "text": [
      "Model is saved.\n"
     ]
    }
   ],
   "source": [
    "opt_m_deploy = opt_m.deploy(model_name=\"lightgbm_deploy_train_multi_model\")"
   ]
  },
  {
   "cell_type": "code",
   "execution_count": 37,
   "id": "d7225820-be2a-46d3-ac4a-52b744c63076",
   "metadata": {},
   "outputs": [
    {
     "data": {
      "text/plain": [
       "   partition_column_1  partition_column_2  \\\n",
       "0                   1                  11   \n",
       "1                   0                  11   \n",
       "2                   1                  10   \n",
       "3                   0                  10   \n",
       "\n",
       "                                               model  \\\n",
       "0  <lightgbm.basic.Booster object at 0x7f37382766a0>   \n",
       "1  <lightgbm.basic.Booster object at 0x7f37384b2f10>   \n",
       "2  <lightgbm.basic.Booster object at 0x7f3733f909a0>   \n",
       "3  <lightgbm.basic.Booster object at 0x7f379f29fbb0>   \n",
       "\n",
       "                                      console_output  \n",
       "0  [LightGBM] [Warning] Auto-choosing row-wise mu...  \n",
       "1  [LightGBM] [Warning] Auto-choosing col-wise mu...  \n",
       "2  [LightGBM] [Warning] Auto-choosing row-wise mu...  \n",
       "3  [LightGBM] [Warning] Auto-choosing row-wise mu...  "
      ]
     },
     "execution_count": 37,
     "metadata": {},
     "output_type": "execute_result"
    }
   ],
   "source": [
    "opt_m_deploy"
   ]
  },
  {
   "cell_type": "markdown",
   "id": "dfcfb7ca",
   "metadata": {},
   "source": [
    "<b style = 'font-size:22px;font-family:Arial;color:#E37C4D'>Load</b>"
   ]
  },
  {
   "cell_type": "code",
   "execution_count": 38,
   "id": "20a55a9f-630e-4726-bc5e-625cde7ec4e1",
   "metadata": {},
   "outputs": [
    {
     "data": {
      "text/plain": [
       "   partition_column_1  partition_column_2  \\\n",
       "0                   1                  11   \n",
       "1                   0                  11   \n",
       "2                   1                  10   \n",
       "3                   0                  10   \n",
       "\n",
       "                                               model  \\\n",
       "0  <lightgbm.basic.Booster object at 0x7f373b1a9400>   \n",
       "1  <lightgbm.basic.Booster object at 0x7f373816d280>   \n",
       "2  <lightgbm.basic.Booster object at 0x7f37380a4f70>   \n",
       "3  <lightgbm.basic.Booster object at 0x7f3738170cd0>   \n",
       "\n",
       "                                      console_output  \n",
       "0  [LightGBM] [Warning] Auto-choosing row-wise mu...  \n",
       "1  [LightGBM] [Warning] Auto-choosing col-wise mu...  \n",
       "2  [LightGBM] [Warning] Auto-choosing row-wise mu...  \n",
       "3  [LightGBM] [Warning] Auto-choosing row-wise mu...  "
      ]
     },
     "execution_count": 38,
     "metadata": {},
     "output_type": "execute_result"
    }
   ],
   "source": [
    "opt_m_load = td_lightgbm.load(\"lightgbm_deploy_train_multi_model\")\n",
    "opt_m_load"
   ]
  },
  {
   "cell_type": "code",
   "execution_count": 39,
   "id": "c45c9364-100a-4d05-96ef-c334a9172a13",
   "metadata": {},
   "outputs": [
    {
     "data": {
      "application/vnd.jupyter.widget-view+json": {
       "model_id": "9742bb4ae48a4531a50fff6a9c4193c7",
       "version_major": 2,
       "version_minor": 0
      },
      "text/plain": []
     },
     "metadata": {},
     "output_type": "display_data"
    },
    {
     "data": {
      "text/html": [
       "<style type=\"text/css\">\n",
       "\ttable { border:ridge 5px}\n",
       "\ttable td {border:inset 1px;}\n",
       "\ttable tr#HeaderRow {background-color:grey; color:white;}\n",
       "\t</style>\n",
       "<html><table style=\"min-width:1000px;\">\n",
       "\t<tr id=\"HeaderRow\">\n",
       "<th>partition_column_1</th><th>partition_column_2</th><th>col1</th><th>col2</th><th>col3</th><th>col4</th><th>booster_predict_1</th>\n",
       "</tr>\n",
       "\t<tr>\n",
       "\t\t<td>0</td>\n",
       "\t\t<td>10</td>\n",
       "\t\t<td>1.18175014373863</td>\n",
       "\t\t<td>-0.378409839573248</td>\n",
       "\t\t<td>0.198781337335136</td>\n",
       "\t\t<td>0.353382411544652</td>\n",
       "\t\t<td>0.10116847268843293</td>\n",
       "\t</tr>\n",
       "\t<tr>\n",
       "\t\t<td>0</td>\n",
       "\t\t<td>10</td>\n",
       "\t\t<td>1.61958006284022</td>\n",
       "\t\t<td>0.479070865675633</td>\n",
       "\t\t<td>0.11007983461946</td>\n",
       "\t\t<td>0.893252734157523</td>\n",
       "\t\t<td>0.6407137464225</td>\n",
       "\t</tr>\n",
       "\t<tr>\n",
       "\t\t<td>0</td>\n",
       "\t\t<td>10</td>\n",
       "\t\t<td>-1.70817782377046</td>\n",
       "\t\t<td>-1.42574876314059</td>\n",
       "\t\t<td>0.0336831120597743</td>\n",
       "\t\t<td>-1.31941475567603</td>\n",
       "\t\t<td>0.0019317029209896365</td>\n",
       "\t</tr>\n",
       "\t<tr>\n",
       "\t\t<td>0</td>\n",
       "\t\t<td>10</td>\n",
       "\t\t<td>2.08263134345229</td>\n",
       "\t\t<td>0.884105923622972</td>\n",
       "\t\t<td>0.0979313882125954</td>\n",
       "\t\t<td>1.25851975116246</td>\n",
       "\t\t<td>0.6228217884661379</td>\n",
       "\t</tr>\n",
       "\t<tr>\n",
       "\t\t<td>0</td>\n",
       "\t\t<td>10</td>\n",
       "\t\t<td>1.09867539212952</td>\n",
       "\t\t<td>-0.74898711895134</td>\n",
       "\t\t<td>0.249438812683104</td>\n",
       "\t\t<td>0.165738276697588</td>\n",
       "\t\t<td>0.14221496931846078</td>\n",
       "\t</tr>\n",
       "\t<tr>\n",
       "\t\t<td>0</td>\n",
       "\t\t<td>10</td>\n",
       "\t\t<td>-0.612469017951351</td>\n",
       "\t\t<td>-0.547252280586996</td>\n",
       "\t\t<td>0.0179431561213576</td>\n",
       "\t\t<td>-0.487853741151895</td>\n",
       "\t\t<td>0.09364869346038196</td>\n",
       "\t</tr>\n",
       "\t<tr>\n",
       "\t\t<td>0</td>\n",
       "\t\t<td>10</td>\n",
       "\t\t<td>-1.02578986110877</td>\n",
       "\t\t<td>-0.247690669360584</td>\n",
       "\t\t<td>-0.0787909605284584</td>\n",
       "\t\t<td>-0.542910978510773</td>\n",
       "\t\t<td>0.38011744358750715</td>\n",
       "\t</tr>\n",
       "\t<tr>\n",
       "\t\t<td>0</td>\n",
       "\t\t<td>10</td>\n",
       "\t\t<td>-1.0839778730759</td>\n",
       "\t\t<td>1.87924596826784</td>\n",
       "\t\t<td>-0.431655204285638</td>\n",
       "\t\t<td>0.30387458867114</td>\n",
       "\t\t<td>1.0031885249492265</td>\n",
       "\t</tr>\n",
       "\t<tr>\n",
       "\t\t<td>0</td>\n",
       "\t\t<td>10</td>\n",
       "\t\t<td>0.423752960687558</td>\n",
       "\t\t<td>-2.22341274927069</td>\n",
       "\t\t<td>0.411006436528286</td>\n",
       "\t\t<td>-0.729033087599375</td>\n",
       "\t\t<td>0.017889704046139134</td>\n",
       "\t</tr>\n",
       "\t<tr>\n",
       "\t\t<td>0</td>\n",
       "\t\t<td>10</td>\n",
       "\t\t<td>1.06980588152946</td>\n",
       "\t\t<td>0.658572465011404</td>\n",
       "\t\t<td>0.0170400661725024</td>\n",
       "\t\t<td>0.730269333455773</td>\n",
       "\t\t<td>0.776822066928576</td>\n",
       "\t</tr>\n",
       "</table></html>"
      ],
      "text/plain": [
       "                    partition_column_2      col1      col2      col3      col4  booster_predict_1\n",
       "partition_column_1                                                                               \n",
       "0                                   10  1.181750 -0.378410  0.198781  0.353382           0.101168\n",
       "0                                   10  1.619580  0.479071  0.110080  0.893253           0.640714\n",
       "0                                   10 -1.708178 -1.425749  0.033683 -1.319415           0.001932\n",
       "0                                   10  2.082631  0.884106  0.097931  1.258520           0.622822\n",
       "0                                   10  1.098675 -0.748987  0.249439  0.165738           0.142215\n",
       "0                                   10 -0.612469 -0.547252  0.017943 -0.487854           0.093649\n",
       "0                                   10 -1.025790 -0.247691 -0.078791 -0.542911           0.380117\n",
       "0                                   10 -1.083978  1.879246 -0.431655  0.303875           1.003189\n",
       "0                                   10  0.423753 -2.223413  0.411006 -0.729033           0.017890\n",
       "0                                   10  1.069806  0.658572  0.017040  0.730269           0.776822"
      ]
     },
     "execution_count": 39,
     "metadata": {},
     "output_type": "execute_result"
    }
   ],
   "source": [
    "opt_m_load.predict(df_x)"
   ]
  },
  {
   "cell_type": "markdown",
   "id": "a0c499ce",
   "metadata": {},
   "source": [
    "<b style = 'font-size:24px;font-family:Arial;color:#E37C4D'>Multi model with record_evaluation callback</b>"
   ]
  },
  {
   "cell_type": "markdown",
   "id": "8c240e4e",
   "metadata": {},
   "source": [
    "<b style = 'font-size:22px;font-family:Arial;color:#E37C4D'>Train</b>"
   ]
  },
  {
   "cell_type": "code",
   "execution_count": 40,
   "id": "29b24670-f155-4ff1-97ae-560d41b2ae34",
   "metadata": {},
   "outputs": [],
   "source": [
    "rec = {}"
   ]
  },
  {
   "cell_type": "code",
   "execution_count": 41,
   "id": "94530af4-d11b-471f-842e-47b527cbc8f2",
   "metadata": {},
   "outputs": [
    {
     "data": {
      "text/plain": [
       "   partition_column_1  partition_column_2  \\\n",
       "0                   1                  11   \n",
       "1                   0                  11   \n",
       "2                   1                  10   \n",
       "3                   0                  10   \n",
       "\n",
       "                                               model  \\\n",
       "0  <lightgbm.basic.Booster object at 0x7f373816da90>   \n",
       "1  <lightgbm.basic.Booster object at 0x7f373814cbb0>   \n",
       "2  <lightgbm.basic.Booster object at 0x7f3733f23be0>   \n",
       "3  <lightgbm.basic.Booster object at 0x7f37382e32b0>   \n",
       "\n",
       "                                      console_output  \\\n",
       "0  [LightGBM] [Warning] Auto-choosing col-wise mu...   \n",
       "1  [LightGBM] [Warning] Auto-choosing col-wise mu...   \n",
       "2  [LightGBM] [Warning] Auto-choosing col-wise mu...   \n",
       "3  [LightGBM] [Warning] Auto-choosing col-wise mu...   \n",
       "\n",
       "                            record_evaluation_result  \n",
       "0  {'valid_0': {'l2': [0.2196373768349858, 0.1965...  \n",
       "1  {'valid_0': {'l2': [0.2229904865477987, 0.2008...  \n",
       "2  {'valid_0': {'l2': [0.21514138095238078, 0.191...  \n",
       "3  {'valid_0': {'l2': [0.2195184911242605, 0.1948...  "
      ]
     },
     "execution_count": 41,
     "metadata": {},
     "output_type": "execute_result"
    }
   ],
   "source": [
    "# Training with valid_sets and callbacks argument.\n",
    "opt_m_r = td_lightgbm.train(params={}, train_set=obj_m, num_boost_round=30, callbacks=[td_lightgbm.record_evaluation(rec)],\n",
    "                            valid_sets=[obj_m_v, obj_m_v])\n",
    "opt_m_r"
   ]
  },
  {
   "cell_type": "code",
   "execution_count": 42,
   "id": "92be38b1-eaf2-448e-b52c-1cf26d04f834",
   "metadata": {},
   "outputs": [
    {
     "data": {
      "text/plain": [
       "teradataml.opensource._lightgbm._LightgbmBoosterWrapper"
      ]
     },
     "execution_count": 42,
     "metadata": {},
     "output_type": "execute_result"
    }
   ],
   "source": [
    "type(opt_m_r)"
   ]
  },
  {
   "cell_type": "markdown",
   "id": "9862121d",
   "metadata": {},
   "source": [
    "<b style = 'font-size:22px;font-family:Arial;color:#E37C4D'>Deploy</b>"
   ]
  },
  {
   "cell_type": "code",
   "execution_count": 43,
   "id": "bbccd69f-be30-4e42-b55c-ccad1f7fb827",
   "metadata": {},
   "outputs": [
    {
     "name": "stdout",
     "output_type": "stream",
     "text": [
      "Model is saved.\n"
     ]
    }
   ],
   "source": [
    "opt_m_r_deploy = opt_m_r.deploy(\"lightgbm_deploy_train_multi_model_with_record_eval\")"
   ]
  },
  {
   "cell_type": "code",
   "execution_count": 44,
   "id": "91b61339-0357-4ad4-a5e4-f56747b5fe19",
   "metadata": {},
   "outputs": [
    {
     "data": {
      "text/plain": [
       "   partition_column_1  partition_column_2  \\\n",
       "0                   1                  11   \n",
       "1                   0                  11   \n",
       "2                   1                  10   \n",
       "3                   0                  10   \n",
       "\n",
       "                                               model  \\\n",
       "0  <lightgbm.basic.Booster object at 0x7f373816da90>   \n",
       "1  <lightgbm.basic.Booster object at 0x7f373814cbb0>   \n",
       "2  <lightgbm.basic.Booster object at 0x7f3733f23be0>   \n",
       "3  <lightgbm.basic.Booster object at 0x7f37382e32b0>   \n",
       "\n",
       "                                      console_output  \\\n",
       "0  [LightGBM] [Warning] Auto-choosing col-wise mu...   \n",
       "1  [LightGBM] [Warning] Auto-choosing col-wise mu...   \n",
       "2  [LightGBM] [Warning] Auto-choosing col-wise mu...   \n",
       "3  [LightGBM] [Warning] Auto-choosing col-wise mu...   \n",
       "\n",
       "                            record_evaluation_result  \n",
       "0  {'valid_0': {'l2': [0.2196373768349858, 0.1965...  \n",
       "1  {'valid_0': {'l2': [0.2229904865477987, 0.2008...  \n",
       "2  {'valid_0': {'l2': [0.21514138095238078, 0.191...  \n",
       "3  {'valid_0': {'l2': [0.2195184911242605, 0.1948...  "
      ]
     },
     "execution_count": 44,
     "metadata": {},
     "output_type": "execute_result"
    }
   ],
   "source": [
    "opt_m_r_deploy"
   ]
  },
  {
   "cell_type": "markdown",
   "id": "90056000",
   "metadata": {},
   "source": [
    "<b style = 'font-size:22px;font-family:Arial;color:#E37C4D'>Load</b>"
   ]
  },
  {
   "cell_type": "code",
   "execution_count": 45,
   "id": "28abd2d4-5af0-4640-b1f7-f2da702e366c",
   "metadata": {},
   "outputs": [],
   "source": [
    "opt_m_r_load = td_lightgbm.load(\"lightgbm_deploy_train_multi_model_with_record_eval\")"
   ]
  },
  {
   "cell_type": "code",
   "execution_count": 46,
   "id": "d6e4fc50-6ab2-4761-a629-4766a1452b8c",
   "metadata": {},
   "outputs": [
    {
     "data": {
      "application/vnd.jupyter.widget-view+json": {
       "model_id": "738744d3a0704dea86031f92252797f8",
       "version_major": 2,
       "version_minor": 0
      },
      "text/plain": []
     },
     "metadata": {},
     "output_type": "display_data"
    },
    {
     "data": {
      "text/html": [
       "<style type=\"text/css\">\n",
       "\ttable { border:ridge 5px}\n",
       "\ttable td {border:inset 1px;}\n",
       "\ttable tr#HeaderRow {background-color:grey; color:white;}\n",
       "\t</style>\n",
       "<html><table style=\"min-width:1000px;\">\n",
       "\t<tr id=\"HeaderRow\">\n",
       "<th>partition_column_1</th><th>partition_column_2</th><th>col1</th><th>col2</th><th>col3</th><th>col4</th><th>label</th><th>booster_predict_1</th>\n",
       "</tr>\n",
       "\t<tr>\n",
       "\t\t<td>0</td>\n",
       "\t\t<td>10</td>\n",
       "\t\t<td>0.773845635832102</td>\n",
       "\t\t<td>-1.58675295942853</td>\n",
       "\t\t<td>0.348051787321054</td>\n",
       "\t\t<td>-0.317428554253059</td>\n",
       "\t\t<td>0</td>\n",
       "\t\t<td>-0.016299511105335486</td>\n",
       "\t</tr>\n",
       "\t<tr>\n",
       "\t\t<td>0</td>\n",
       "\t\t<td>10</td>\n",
       "\t\t<td>-0.652532094184103</td>\n",
       "\t\t<td>1.32943072895083</td>\n",
       "\t\t<td>-0.292093897599532</td>\n",
       "\t\t<td>0.264152749130696</td>\n",
       "\t\t<td>1</td>\n",
       "\t\t<td>1.0361952652995408</td>\n",
       "\t</tr>\n",
       "\t<tr>\n",
       "\t\t<td>0</td>\n",
       "\t\t<td>10</td>\n",
       "\t\t<td>-1.23692438918288</td>\n",
       "\t\t<td>-1.18018296015538</td>\n",
       "\t\t<td>0.0484367935117144</td>\n",
       "\t\t<td>-1.0159842919928</td>\n",
       "\t\t<td>0</td>\n",
       "\t\t<td>0.0019317029209896365</td>\n",
       "\t</tr>\n",
       "\t<tr>\n",
       "\t\t<td>0</td>\n",
       "\t\t<td>10</td>\n",
       "\t\t<td>0.920031063974712</td>\n",
       "\t\t<td>-1.20648254637488</td>\n",
       "\t\t<td>0.303144290095821</td>\n",
       "\t\t<td>-0.0986555691105928</td>\n",
       "\t\t<td>0</td>\n",
       "\t\t<td>-0.016299511105335486</td>\n",
       "\t</tr>\n",
       "\t<tr>\n",
       "\t\t<td>0</td>\n",
       "\t\t<td>10</td>\n",
       "\t\t<td>1.25253683301775</td>\n",
       "\t\t<td>0.831584626905822</td>\n",
       "\t\t<td>0.0101019573268889</td>\n",
       "\t\t<td>0.879813010292186</td>\n",
       "\t\t<td>1</td>\n",
       "\t\t<td>0.7062334538356531</td>\n",
       "\t</tr>\n",
       "\t<tr>\n",
       "\t\t<td>0</td>\n",
       "\t\t<td>10</td>\n",
       "\t\t<td>-0.246722969060997</td>\n",
       "\t\t<td>1.63296730945332</td>\n",
       "\t\t<td>-0.294371830900959</td>\n",
       "\t\t<td>0.56318540668509</td>\n",
       "\t\t<td>1</td>\n",
       "\t\t<td>0.9777491089894179</td>\n",
       "\t</tr>\n",
       "\t<tr>\n",
       "\t\t<td>0</td>\n",
       "\t\t<td>10</td>\n",
       "\t\t<td>-0.733263307298235</td>\n",
       "\t\t<td>1.97737051024738</td>\n",
       "\t\t<td>-0.406903816763842</td>\n",
       "\t\t<td>0.495003202510811</td>\n",
       "\t\t<td>1</td>\n",
       "\t\t<td>1.0361952652995408</td>\n",
       "\t</tr>\n",
       "\t<tr>\n",
       "\t\t<td>0</td>\n",
       "\t\t<td>10</td>\n",
       "\t\t<td>-1.29470959152506</td>\n",
       "\t\t<td>-0.0474693099496212</td>\n",
       "\t\t<td>-0.142594481916762</td>\n",
       "\t\t<td>-0.576553550048223</td>\n",
       "\t\t<td>0</td>\n",
       "\t\t<td>0.412931851324878</td>\n",
       "\t</tr>\n",
       "\t<tr>\n",
       "\t\t<td>0</td>\n",
       "\t\t<td>10</td>\n",
       "\t\t<td>-1.29000931602396</td>\n",
       "\t\t<td>2.07409376142361</td>\n",
       "\t\t<td>-0.487282819547692</td>\n",
       "\t\t<td>0.2950893945149</td>\n",
       "\t\t<td>1</td>\n",
       "\t\t<td>0.9312513457625944</td>\n",
       "\t</tr>\n",
       "\t<tr>\n",
       "\t\t<td>0</td>\n",
       "\t\t<td>10</td>\n",
       "\t\t<td>1.81742458095479</td>\n",
       "\t\t<td>0.547362905756978</td>\n",
       "\t\t<td>0.121937163355842</td>\n",
       "\t\t<td>1.00637520272149</td>\n",
       "\t\t<td>0</td>\n",
       "\t\t<td>0.6228217884661379</td>\n",
       "\t</tr>\n",
       "</table></html>"
      ],
      "text/plain": [
       "                    partition_column_2      col1      col2      col3      col4  label  booster_predict_1\n",
       "partition_column_1                                                                                      \n",
       "0                                   10  0.773846 -1.586753  0.348052 -0.317429      0          -0.016300\n",
       "0                                   10 -0.652532  1.329431 -0.292094  0.264153      1           1.036195\n",
       "0                                   10 -1.236924 -1.180183  0.048437 -1.015984      0           0.001932\n",
       "0                                   10  0.920031 -1.206483  0.303144 -0.098656      0          -0.016300\n",
       "0                                   10  1.252537  0.831585  0.010102  0.879813      1           0.706233\n",
       "0                                   10 -0.246723  1.632967 -0.294372  0.563185      1           0.977749\n",
       "0                                   10 -0.733263  1.977371 -0.406904  0.495003      1           1.036195\n",
       "0                                   10 -1.294710 -0.047469 -0.142594 -0.576554      0           0.412932\n",
       "0                                   10 -1.290009  2.074094 -0.487283  0.295089      1           0.931251\n",
       "0                                   10  1.817425  0.547363  0.121937  1.006375      0           0.622822"
      ]
     },
     "execution_count": 46,
     "metadata": {},
     "output_type": "execute_result"
    }
   ],
   "source": [
    "opt_m_r_load.predict(df_x, label=df_y)"
   ]
  },
  {
   "cell_type": "markdown",
   "id": "d3b32e26",
   "metadata": {},
   "source": [
    "<b style = 'font-size:28px;font-family:Arial;color:#E37C4D'>Deploy and load sklearn models trained in Vantage</b>"
   ]
  },
  {
   "cell_type": "markdown",
   "id": "a44cd36b",
   "metadata": {},
   "source": [
    "<b style = 'font-size:24px;font-family:Arial;color:#E37C4D'>Single model</b>"
   ]
  },
  {
   "cell_type": "markdown",
   "id": "2209bbac",
   "metadata": {},
   "source": [
    "<b style = 'font-size:22px;font-family:Arial;color:#E37C4D'>Train</b>"
   ]
  },
  {
   "cell_type": "code",
   "execution_count": 47,
   "id": "b16c1ffd-8fd7-4ad9-b8b2-7292e6922af6",
   "metadata": {},
   "outputs": [
    {
     "data": {
      "text/html": [
       "<style>#sk-container-id-1 {color: black;background-color: white;}#sk-container-id-1 pre{padding: 0;}#sk-container-id-1 div.sk-toggleable {background-color: white;}#sk-container-id-1 label.sk-toggleable__label {cursor: pointer;display: block;width: 100%;margin-bottom: 0;padding: 0.3em;box-sizing: border-box;text-align: center;}#sk-container-id-1 label.sk-toggleable__label-arrow:before {content: \"▸\";float: left;margin-right: 0.25em;color: #696969;}#sk-container-id-1 label.sk-toggleable__label-arrow:hover:before {color: black;}#sk-container-id-1 div.sk-estimator:hover label.sk-toggleable__label-arrow:before {color: black;}#sk-container-id-1 div.sk-toggleable__content {max-height: 0;max-width: 0;overflow: hidden;text-align: left;background-color: #f0f8ff;}#sk-container-id-1 div.sk-toggleable__content pre {margin: 0.2em;color: black;border-radius: 0.25em;background-color: #f0f8ff;}#sk-container-id-1 input.sk-toggleable__control:checked~div.sk-toggleable__content {max-height: 200px;max-width: 100%;overflow: auto;}#sk-container-id-1 input.sk-toggleable__control:checked~label.sk-toggleable__label-arrow:before {content: \"▾\";}#sk-container-id-1 div.sk-estimator input.sk-toggleable__control:checked~label.sk-toggleable__label {background-color: #d4ebff;}#sk-container-id-1 div.sk-label input.sk-toggleable__control:checked~label.sk-toggleable__label {background-color: #d4ebff;}#sk-container-id-1 input.sk-hidden--visually {border: 0;clip: rect(1px 1px 1px 1px);clip: rect(1px, 1px, 1px, 1px);height: 1px;margin: -1px;overflow: hidden;padding: 0;position: absolute;width: 1px;}#sk-container-id-1 div.sk-estimator {font-family: monospace;background-color: #f0f8ff;border: 1px dotted black;border-radius: 0.25em;box-sizing: border-box;margin-bottom: 0.5em;}#sk-container-id-1 div.sk-estimator:hover {background-color: #d4ebff;}#sk-container-id-1 div.sk-parallel-item::after {content: \"\";width: 100%;border-bottom: 1px solid gray;flex-grow: 1;}#sk-container-id-1 div.sk-label:hover label.sk-toggleable__label {background-color: #d4ebff;}#sk-container-id-1 div.sk-serial::before {content: \"\";position: absolute;border-left: 1px solid gray;box-sizing: border-box;top: 0;bottom: 0;left: 50%;z-index: 0;}#sk-container-id-1 div.sk-serial {display: flex;flex-direction: column;align-items: center;background-color: white;padding-right: 0.2em;padding-left: 0.2em;position: relative;}#sk-container-id-1 div.sk-item {position: relative;z-index: 1;}#sk-container-id-1 div.sk-parallel {display: flex;align-items: stretch;justify-content: center;background-color: white;position: relative;}#sk-container-id-1 div.sk-item::before, #sk-container-id-1 div.sk-parallel-item::before {content: \"\";position: absolute;border-left: 1px solid gray;box-sizing: border-box;top: 0;bottom: 0;left: 50%;z-index: -1;}#sk-container-id-1 div.sk-parallel-item {display: flex;flex-direction: column;z-index: 1;position: relative;background-color: white;}#sk-container-id-1 div.sk-parallel-item:first-child::after {align-self: flex-end;width: 50%;}#sk-container-id-1 div.sk-parallel-item:last-child::after {align-self: flex-start;width: 50%;}#sk-container-id-1 div.sk-parallel-item:only-child::after {width: 0;}#sk-container-id-1 div.sk-dashed-wrapped {border: 1px dashed gray;margin: 0 0.4em 0.5em 0.4em;box-sizing: border-box;padding-bottom: 0.4em;background-color: white;}#sk-container-id-1 div.sk-label label {font-family: monospace;font-weight: bold;display: inline-block;line-height: 1.2em;}#sk-container-id-1 div.sk-label-container {text-align: center;}#sk-container-id-1 div.sk-container {/* jupyter's `normalize.less` sets `[hidden] { display: none; }` but bootstrap.min.css set `[hidden] { display: none !important; }` so we also need the `!important` here to be able to override the default hidden behavior on the sphinx rendered scikit-learn.org. See: https://github.com/scikit-learn/scikit-learn/issues/21755 */display: inline-block !important;position: relative;}#sk-container-id-1 div.sk-text-repr-fallback {display: none;}</style><div id=\"sk-container-id-1\" class=\"sk-top-container\"><div class=\"sk-text-repr-fallback\"><pre>LGBMModel(n_estimators=10, num_leaves=15, objective=&#x27;binary&#x27;)</pre><b>In a Jupyter environment, please rerun this cell to show the HTML representation or trust the notebook. <br />On GitHub, the HTML representation is unable to render, please try loading this page with nbviewer.org.</b></div><div class=\"sk-container\" hidden><div class=\"sk-item\"><div class=\"sk-estimator sk-toggleable\"><input class=\"sk-toggleable__control sk-hidden--visually\" id=\"sk-estimator-id-1\" type=\"checkbox\" checked><label for=\"sk-estimator-id-1\" class=\"sk-toggleable__label sk-toggleable__label-arrow\">LGBMModel</label><div class=\"sk-toggleable__content\"><pre>LGBMModel(n_estimators=10, num_leaves=15, objective=&#x27;binary&#x27;)</pre></div></div></div></div></div>"
      ],
      "text/plain": [
       "LGBMModel(n_estimators=10, num_leaves=15, objective='binary')"
      ]
     },
     "execution_count": 47,
     "metadata": {},
     "output_type": "execute_result"
    }
   ],
   "source": [
    "obj_skl_s = td_lightgbm.LGBMModel(num_leaves=15, objective=\"binary\", n_estimators=10)\n",
    "obj_skl_s"
   ]
  },
  {
   "cell_type": "code",
   "execution_count": 48,
   "id": "032ff503-1649-4018-9adc-731d265e50ca",
   "metadata": {},
   "outputs": [
    {
     "data": {
      "text/html": [
       "<style>#sk-container-id-2 {color: black;background-color: white;}#sk-container-id-2 pre{padding: 0;}#sk-container-id-2 div.sk-toggleable {background-color: white;}#sk-container-id-2 label.sk-toggleable__label {cursor: pointer;display: block;width: 100%;margin-bottom: 0;padding: 0.3em;box-sizing: border-box;text-align: center;}#sk-container-id-2 label.sk-toggleable__label-arrow:before {content: \"▸\";float: left;margin-right: 0.25em;color: #696969;}#sk-container-id-2 label.sk-toggleable__label-arrow:hover:before {color: black;}#sk-container-id-2 div.sk-estimator:hover label.sk-toggleable__label-arrow:before {color: black;}#sk-container-id-2 div.sk-toggleable__content {max-height: 0;max-width: 0;overflow: hidden;text-align: left;background-color: #f0f8ff;}#sk-container-id-2 div.sk-toggleable__content pre {margin: 0.2em;color: black;border-radius: 0.25em;background-color: #f0f8ff;}#sk-container-id-2 input.sk-toggleable__control:checked~div.sk-toggleable__content {max-height: 200px;max-width: 100%;overflow: auto;}#sk-container-id-2 input.sk-toggleable__control:checked~label.sk-toggleable__label-arrow:before {content: \"▾\";}#sk-container-id-2 div.sk-estimator input.sk-toggleable__control:checked~label.sk-toggleable__label {background-color: #d4ebff;}#sk-container-id-2 div.sk-label input.sk-toggleable__control:checked~label.sk-toggleable__label {background-color: #d4ebff;}#sk-container-id-2 input.sk-hidden--visually {border: 0;clip: rect(1px 1px 1px 1px);clip: rect(1px, 1px, 1px, 1px);height: 1px;margin: -1px;overflow: hidden;padding: 0;position: absolute;width: 1px;}#sk-container-id-2 div.sk-estimator {font-family: monospace;background-color: #f0f8ff;border: 1px dotted black;border-radius: 0.25em;box-sizing: border-box;margin-bottom: 0.5em;}#sk-container-id-2 div.sk-estimator:hover {background-color: #d4ebff;}#sk-container-id-2 div.sk-parallel-item::after {content: \"\";width: 100%;border-bottom: 1px solid gray;flex-grow: 1;}#sk-container-id-2 div.sk-label:hover label.sk-toggleable__label {background-color: #d4ebff;}#sk-container-id-2 div.sk-serial::before {content: \"\";position: absolute;border-left: 1px solid gray;box-sizing: border-box;top: 0;bottom: 0;left: 50%;z-index: 0;}#sk-container-id-2 div.sk-serial {display: flex;flex-direction: column;align-items: center;background-color: white;padding-right: 0.2em;padding-left: 0.2em;position: relative;}#sk-container-id-2 div.sk-item {position: relative;z-index: 1;}#sk-container-id-2 div.sk-parallel {display: flex;align-items: stretch;justify-content: center;background-color: white;position: relative;}#sk-container-id-2 div.sk-item::before, #sk-container-id-2 div.sk-parallel-item::before {content: \"\";position: absolute;border-left: 1px solid gray;box-sizing: border-box;top: 0;bottom: 0;left: 50%;z-index: -1;}#sk-container-id-2 div.sk-parallel-item {display: flex;flex-direction: column;z-index: 1;position: relative;background-color: white;}#sk-container-id-2 div.sk-parallel-item:first-child::after {align-self: flex-end;width: 50%;}#sk-container-id-2 div.sk-parallel-item:last-child::after {align-self: flex-start;width: 50%;}#sk-container-id-2 div.sk-parallel-item:only-child::after {width: 0;}#sk-container-id-2 div.sk-dashed-wrapped {border: 1px dashed gray;margin: 0 0.4em 0.5em 0.4em;box-sizing: border-box;padding-bottom: 0.4em;background-color: white;}#sk-container-id-2 div.sk-label label {font-family: monospace;font-weight: bold;display: inline-block;line-height: 1.2em;}#sk-container-id-2 div.sk-label-container {text-align: center;}#sk-container-id-2 div.sk-container {/* jupyter's `normalize.less` sets `[hidden] { display: none; }` but bootstrap.min.css set `[hidden] { display: none !important; }` so we also need the `!important` here to be able to override the default hidden behavior on the sphinx rendered scikit-learn.org. See: https://github.com/scikit-learn/scikit-learn/issues/21755 */display: inline-block !important;position: relative;}#sk-container-id-2 div.sk-text-repr-fallback {display: none;}</style><div id=\"sk-container-id-2\" class=\"sk-top-container\"><div class=\"sk-text-repr-fallback\"><pre>LGBMModel(n_estimators=10, num_leaves=15, objective=&#x27;binary&#x27;)</pre><b>In a Jupyter environment, please rerun this cell to show the HTML representation or trust the notebook. <br />On GitHub, the HTML representation is unable to render, please try loading this page with nbviewer.org.</b></div><div class=\"sk-container\" hidden><div class=\"sk-item\"><div class=\"sk-estimator sk-toggleable\"><input class=\"sk-toggleable__control sk-hidden--visually\" id=\"sk-estimator-id-2\" type=\"checkbox\" checked><label for=\"sk-estimator-id-2\" class=\"sk-toggleable__label sk-toggleable__label-arrow\">LGBMModel</label><div class=\"sk-toggleable__content\"><pre>LGBMModel(n_estimators=10, num_leaves=15, objective=&#x27;binary&#x27;)</pre></div></div></div></div></div>"
      ],
      "text/plain": [
       "LGBMModel(n_estimators=10, num_leaves=15, objective='binary')"
      ]
     },
     "execution_count": 48,
     "metadata": {},
     "output_type": "execute_result"
    }
   ],
   "source": [
    "obj_skl_s.fit(df_x, df_y, callbacks=[td_lightgbm.log_evaluation()])"
   ]
  },
  {
   "cell_type": "markdown",
   "id": "2ffc85e4",
   "metadata": {},
   "source": [
    "<b style = 'font-size:22px;font-family:Arial;color:#E37C4D'>Deploy</b>"
   ]
  },
  {
   "cell_type": "code",
   "execution_count": 49,
   "id": "4c040d3c-6fc3-49c8-a223-d4d517750cd1",
   "metadata": {},
   "outputs": [
    {
     "name": "stdout",
     "output_type": "stream",
     "text": [
      "Model is saved.\n"
     ]
    },
    {
     "data": {
      "text/html": [
       "<style>#sk-container-id-3 {color: black;background-color: white;}#sk-container-id-3 pre{padding: 0;}#sk-container-id-3 div.sk-toggleable {background-color: white;}#sk-container-id-3 label.sk-toggleable__label {cursor: pointer;display: block;width: 100%;margin-bottom: 0;padding: 0.3em;box-sizing: border-box;text-align: center;}#sk-container-id-3 label.sk-toggleable__label-arrow:before {content: \"▸\";float: left;margin-right: 0.25em;color: #696969;}#sk-container-id-3 label.sk-toggleable__label-arrow:hover:before {color: black;}#sk-container-id-3 div.sk-estimator:hover label.sk-toggleable__label-arrow:before {color: black;}#sk-container-id-3 div.sk-toggleable__content {max-height: 0;max-width: 0;overflow: hidden;text-align: left;background-color: #f0f8ff;}#sk-container-id-3 div.sk-toggleable__content pre {margin: 0.2em;color: black;border-radius: 0.25em;background-color: #f0f8ff;}#sk-container-id-3 input.sk-toggleable__control:checked~div.sk-toggleable__content {max-height: 200px;max-width: 100%;overflow: auto;}#sk-container-id-3 input.sk-toggleable__control:checked~label.sk-toggleable__label-arrow:before {content: \"▾\";}#sk-container-id-3 div.sk-estimator input.sk-toggleable__control:checked~label.sk-toggleable__label {background-color: #d4ebff;}#sk-container-id-3 div.sk-label input.sk-toggleable__control:checked~label.sk-toggleable__label {background-color: #d4ebff;}#sk-container-id-3 input.sk-hidden--visually {border: 0;clip: rect(1px 1px 1px 1px);clip: rect(1px, 1px, 1px, 1px);height: 1px;margin: -1px;overflow: hidden;padding: 0;position: absolute;width: 1px;}#sk-container-id-3 div.sk-estimator {font-family: monospace;background-color: #f0f8ff;border: 1px dotted black;border-radius: 0.25em;box-sizing: border-box;margin-bottom: 0.5em;}#sk-container-id-3 div.sk-estimator:hover {background-color: #d4ebff;}#sk-container-id-3 div.sk-parallel-item::after {content: \"\";width: 100%;border-bottom: 1px solid gray;flex-grow: 1;}#sk-container-id-3 div.sk-label:hover label.sk-toggleable__label {background-color: #d4ebff;}#sk-container-id-3 div.sk-serial::before {content: \"\";position: absolute;border-left: 1px solid gray;box-sizing: border-box;top: 0;bottom: 0;left: 50%;z-index: 0;}#sk-container-id-3 div.sk-serial {display: flex;flex-direction: column;align-items: center;background-color: white;padding-right: 0.2em;padding-left: 0.2em;position: relative;}#sk-container-id-3 div.sk-item {position: relative;z-index: 1;}#sk-container-id-3 div.sk-parallel {display: flex;align-items: stretch;justify-content: center;background-color: white;position: relative;}#sk-container-id-3 div.sk-item::before, #sk-container-id-3 div.sk-parallel-item::before {content: \"\";position: absolute;border-left: 1px solid gray;box-sizing: border-box;top: 0;bottom: 0;left: 50%;z-index: -1;}#sk-container-id-3 div.sk-parallel-item {display: flex;flex-direction: column;z-index: 1;position: relative;background-color: white;}#sk-container-id-3 div.sk-parallel-item:first-child::after {align-self: flex-end;width: 50%;}#sk-container-id-3 div.sk-parallel-item:last-child::after {align-self: flex-start;width: 50%;}#sk-container-id-3 div.sk-parallel-item:only-child::after {width: 0;}#sk-container-id-3 div.sk-dashed-wrapped {border: 1px dashed gray;margin: 0 0.4em 0.5em 0.4em;box-sizing: border-box;padding-bottom: 0.4em;background-color: white;}#sk-container-id-3 div.sk-label label {font-family: monospace;font-weight: bold;display: inline-block;line-height: 1.2em;}#sk-container-id-3 div.sk-label-container {text-align: center;}#sk-container-id-3 div.sk-container {/* jupyter's `normalize.less` sets `[hidden] { display: none; }` but bootstrap.min.css set `[hidden] { display: none !important; }` so we also need the `!important` here to be able to override the default hidden behavior on the sphinx rendered scikit-learn.org. See: https://github.com/scikit-learn/scikit-learn/issues/21755 */display: inline-block !important;position: relative;}#sk-container-id-3 div.sk-text-repr-fallback {display: none;}</style><div id=\"sk-container-id-3\" class=\"sk-top-container\"><div class=\"sk-text-repr-fallback\"><pre>LGBMModel(n_estimators=10, num_leaves=15, objective=&#x27;binary&#x27;)</pre><b>In a Jupyter environment, please rerun this cell to show the HTML representation or trust the notebook. <br />On GitHub, the HTML representation is unable to render, please try loading this page with nbviewer.org.</b></div><div class=\"sk-container\" hidden><div class=\"sk-item\"><div class=\"sk-estimator sk-toggleable\"><input class=\"sk-toggleable__control sk-hidden--visually\" id=\"sk-estimator-id-3\" type=\"checkbox\" checked><label for=\"sk-estimator-id-3\" class=\"sk-toggleable__label sk-toggleable__label-arrow\">LGBMModel</label><div class=\"sk-toggleable__content\"><pre>LGBMModel(n_estimators=10, num_leaves=15, objective=&#x27;binary&#x27;)</pre></div></div></div></div></div>"
      ],
      "text/plain": [
       "LGBMModel(n_estimators=10, num_leaves=15, objective='binary')"
      ]
     },
     "execution_count": 49,
     "metadata": {},
     "output_type": "execute_result"
    }
   ],
   "source": [
    "obj_skl_deploy_s = obj_skl_s.deploy(model_name=\"lightgbm_sklearn_single_model\")\n",
    "obj_skl_deploy_s"
   ]
  },
  {
   "cell_type": "markdown",
   "id": "1d2d9e46",
   "metadata": {},
   "source": [
    "<b style = 'font-size:22px;font-family:Arial;color:#E37C4D'>Load</b>"
   ]
  },
  {
   "cell_type": "code",
   "execution_count": 50,
   "id": "d5a3e3bd-553f-4f5c-a2ee-7a7e43f79dcb",
   "metadata": {},
   "outputs": [
    {
     "data": {
      "text/html": [
       "<style>#sk-container-id-4 {color: black;background-color: white;}#sk-container-id-4 pre{padding: 0;}#sk-container-id-4 div.sk-toggleable {background-color: white;}#sk-container-id-4 label.sk-toggleable__label {cursor: pointer;display: block;width: 100%;margin-bottom: 0;padding: 0.3em;box-sizing: border-box;text-align: center;}#sk-container-id-4 label.sk-toggleable__label-arrow:before {content: \"▸\";float: left;margin-right: 0.25em;color: #696969;}#sk-container-id-4 label.sk-toggleable__label-arrow:hover:before {color: black;}#sk-container-id-4 div.sk-estimator:hover label.sk-toggleable__label-arrow:before {color: black;}#sk-container-id-4 div.sk-toggleable__content {max-height: 0;max-width: 0;overflow: hidden;text-align: left;background-color: #f0f8ff;}#sk-container-id-4 div.sk-toggleable__content pre {margin: 0.2em;color: black;border-radius: 0.25em;background-color: #f0f8ff;}#sk-container-id-4 input.sk-toggleable__control:checked~div.sk-toggleable__content {max-height: 200px;max-width: 100%;overflow: auto;}#sk-container-id-4 input.sk-toggleable__control:checked~label.sk-toggleable__label-arrow:before {content: \"▾\";}#sk-container-id-4 div.sk-estimator input.sk-toggleable__control:checked~label.sk-toggleable__label {background-color: #d4ebff;}#sk-container-id-4 div.sk-label input.sk-toggleable__control:checked~label.sk-toggleable__label {background-color: #d4ebff;}#sk-container-id-4 input.sk-hidden--visually {border: 0;clip: rect(1px 1px 1px 1px);clip: rect(1px, 1px, 1px, 1px);height: 1px;margin: -1px;overflow: hidden;padding: 0;position: absolute;width: 1px;}#sk-container-id-4 div.sk-estimator {font-family: monospace;background-color: #f0f8ff;border: 1px dotted black;border-radius: 0.25em;box-sizing: border-box;margin-bottom: 0.5em;}#sk-container-id-4 div.sk-estimator:hover {background-color: #d4ebff;}#sk-container-id-4 div.sk-parallel-item::after {content: \"\";width: 100%;border-bottom: 1px solid gray;flex-grow: 1;}#sk-container-id-4 div.sk-label:hover label.sk-toggleable__label {background-color: #d4ebff;}#sk-container-id-4 div.sk-serial::before {content: \"\";position: absolute;border-left: 1px solid gray;box-sizing: border-box;top: 0;bottom: 0;left: 50%;z-index: 0;}#sk-container-id-4 div.sk-serial {display: flex;flex-direction: column;align-items: center;background-color: white;padding-right: 0.2em;padding-left: 0.2em;position: relative;}#sk-container-id-4 div.sk-item {position: relative;z-index: 1;}#sk-container-id-4 div.sk-parallel {display: flex;align-items: stretch;justify-content: center;background-color: white;position: relative;}#sk-container-id-4 div.sk-item::before, #sk-container-id-4 div.sk-parallel-item::before {content: \"\";position: absolute;border-left: 1px solid gray;box-sizing: border-box;top: 0;bottom: 0;left: 50%;z-index: -1;}#sk-container-id-4 div.sk-parallel-item {display: flex;flex-direction: column;z-index: 1;position: relative;background-color: white;}#sk-container-id-4 div.sk-parallel-item:first-child::after {align-self: flex-end;width: 50%;}#sk-container-id-4 div.sk-parallel-item:last-child::after {align-self: flex-start;width: 50%;}#sk-container-id-4 div.sk-parallel-item:only-child::after {width: 0;}#sk-container-id-4 div.sk-dashed-wrapped {border: 1px dashed gray;margin: 0 0.4em 0.5em 0.4em;box-sizing: border-box;padding-bottom: 0.4em;background-color: white;}#sk-container-id-4 div.sk-label label {font-family: monospace;font-weight: bold;display: inline-block;line-height: 1.2em;}#sk-container-id-4 div.sk-label-container {text-align: center;}#sk-container-id-4 div.sk-container {/* jupyter's `normalize.less` sets `[hidden] { display: none; }` but bootstrap.min.css set `[hidden] { display: none !important; }` so we also need the `!important` here to be able to override the default hidden behavior on the sphinx rendered scikit-learn.org. See: https://github.com/scikit-learn/scikit-learn/issues/21755 */display: inline-block !important;position: relative;}#sk-container-id-4 div.sk-text-repr-fallback {display: none;}</style><div id=\"sk-container-id-4\" class=\"sk-top-container\"><div class=\"sk-text-repr-fallback\"><pre>LGBMModel(n_estimators=10, num_leaves=15, objective=&#x27;binary&#x27;)</pre><b>In a Jupyter environment, please rerun this cell to show the HTML representation or trust the notebook. <br />On GitHub, the HTML representation is unable to render, please try loading this page with nbviewer.org.</b></div><div class=\"sk-container\" hidden><div class=\"sk-item\"><div class=\"sk-estimator sk-toggleable\"><input class=\"sk-toggleable__control sk-hidden--visually\" id=\"sk-estimator-id-4\" type=\"checkbox\" checked><label for=\"sk-estimator-id-4\" class=\"sk-toggleable__label sk-toggleable__label-arrow\">LGBMModel</label><div class=\"sk-toggleable__content\"><pre>LGBMModel(n_estimators=10, num_leaves=15, objective=&#x27;binary&#x27;)</pre></div></div></div></div></div>"
      ],
      "text/plain": [
       "LGBMModel(n_estimators=10, num_leaves=15, objective='binary')"
      ]
     },
     "execution_count": 50,
     "metadata": {},
     "output_type": "execute_result"
    }
   ],
   "source": [
    "obj_skl_load_model_s = td_lightgbm.load(\"lightgbm_sklearn_single_model\")\n",
    "obj_skl_load_model_s"
   ]
  },
  {
   "cell_type": "code",
   "execution_count": 51,
   "id": "cc8e8e19-a4c8-4d31-9167-189bff1c6626",
   "metadata": {},
   "outputs": [
    {
     "data": {
      "application/vnd.jupyter.widget-view+json": {
       "model_id": "6f9cd35c414f4d67a3f9acb4234b3d00",
       "version_major": 2,
       "version_minor": 0
      },
      "text/plain": []
     },
     "metadata": {},
     "output_type": "display_data"
    },
    {
     "data": {
      "text/html": [
       "<style type=\"text/css\">\n",
       "\ttable { border:ridge 5px}\n",
       "\ttable td {border:inset 1px;}\n",
       "\ttable tr#HeaderRow {background-color:grey; color:white;}\n",
       "\t</style>\n",
       "<html><table style=\"min-width:1000px;\">\n",
       "\t<tr id=\"HeaderRow\">\n",
       "<th>col1</th><th>col2</th><th>col3</th><th>col4</th><th>lgbmmodel_predict_1</th><th>lgbmmodel_predict_2</th><th>lgbmmodel_predict_3</th><th>lgbmmodel_predict_4</th><th>lgbmmodel_predict_5</th><th>lgbmmodel_predict_6</th><th>lgbmmodel_predict_7</th><th>lgbmmodel_predict_8</th><th>lgbmmodel_predict_9</th><th>lgbmmodel_predict_10</th>\n",
       "</tr>\n",
       "\t<tr>\n",
       "\t\t<td>1.08721910721962</td>\n",
       "\t\t<td>-1.00616238561834</td>\n",
       "\t\t<td>0.289957882286553</td>\n",
       "\t\t<td>0.0553936469585556</td>\n",
       "\t\t<td>9</td>\n",
       "\t\t<td>10</td>\n",
       "\t\t<td>10</td>\n",
       "\t\t<td>9</td>\n",
       "\t\t<td>12</td>\n",
       "\t\t<td>9</td>\n",
       "\t\t<td>14</td>\n",
       "\t\t<td>10</td>\n",
       "\t\t<td>14</td>\n",
       "\t\t<td>9</td>\n",
       "\t</tr>\n",
       "\t<tr>\n",
       "\t\t<td>-1.0134542207762</td>\n",
       "\t\t<td>0.855764911464957</td>\n",
       "\t\t<td>-0.256919976110177</td>\n",
       "\t\t<td>-0.0853009535407497</td>\n",
       "\t\t<td>8</td>\n",
       "\t\t<td>8</td>\n",
       "\t\t<td>8</td>\n",
       "\t\t<td>10</td>\n",
       "\t\t<td>11</td>\n",
       "\t\t<td>7</td>\n",
       "\t\t<td>11</td>\n",
       "\t\t<td>7</td>\n",
       "\t\t<td>12</td>\n",
       "\t\t<td>12</td>\n",
       "\t</tr>\n",
       "\t<tr>\n",
       "\t\t<td>1.45883918214779</td>\n",
       "\t\t<td>0.627871026643599</td>\n",
       "\t\t<td>0.067203725213036</td>\n",
       "\t\t<td>0.885080711754702</td>\n",
       "\t\t<td>6</td>\n",
       "\t\t<td>6</td>\n",
       "\t\t<td>6</td>\n",
       "\t\t<td>3</td>\n",
       "\t\t<td>6</td>\n",
       "\t\t<td>3</td>\n",
       "\t\t<td>6</td>\n",
       "\t\t<td>3</td>\n",
       "\t\t<td>7</td>\n",
       "\t\t<td>6</td>\n",
       "\t</tr>\n",
       "\t<tr>\n",
       "\t\t<td>1.15227849437784</td>\n",
       "\t\t<td>-0.385591649876342</td>\n",
       "\t\t<td>0.196528275174699</td>\n",
       "\t\t<td>0.337757362367158</td>\n",
       "\t\t<td>9</td>\n",
       "\t\t<td>5</td>\n",
       "\t\t<td>5</td>\n",
       "\t\t<td>6</td>\n",
       "\t\t<td>9</td>\n",
       "\t\t<td>6</td>\n",
       "\t\t<td>9</td>\n",
       "\t\t<td>6</td>\n",
       "\t\t<td>8</td>\n",
       "\t\t<td>8</td>\n",
       "\t</tr>\n",
       "\t<tr>\n",
       "\t\t<td>-0.697767009551012</td>\n",
       "\t\t<td>2.3918078347398</td>\n",
       "\t\t<td>-0.470222449950579</td>\n",
       "\t\t<td>0.680153033261556</td>\n",
       "\t\t<td>8</td>\n",
       "\t\t<td>13</td>\n",
       "\t\t<td>12</td>\n",
       "\t\t<td>14</td>\n",
       "\t\t<td>13</td>\n",
       "\t\t<td>14</td>\n",
       "\t\t<td>13</td>\n",
       "\t\t<td>14</td>\n",
       "\t\t<td>12</td>\n",
       "\t\t<td>14</td>\n",
       "\t</tr>\n",
       "\t<tr>\n",
       "\t\t<td>0.908225366310926</td>\n",
       "\t\t<td>-1.16923260998804</td>\n",
       "\t\t<td>0.295712076085351</td>\n",
       "\t\t<td>-0.0884667969477652</td>\n",
       "\t\t<td>9</td>\n",
       "\t\t<td>11</td>\n",
       "\t\t<td>13</td>\n",
       "\t\t<td>9</td>\n",
       "\t\t<td>12</td>\n",
       "\t\t<td>9</td>\n",
       "\t\t<td>14</td>\n",
       "\t\t<td>10</td>\n",
       "\t\t<td>14</td>\n",
       "\t\t<td>9</td>\n",
       "\t</tr>\n",
       "\t<tr>\n",
       "\t\t<td>1.46768781760664</td>\n",
       "\t\t<td>-0.373959133431616</td>\n",
       "\t\t<td>0.231255161662991</td>\n",
       "\t\t<td>0.478241860805545</td>\n",
       "\t\t<td>5</td>\n",
       "\t\t<td>5</td>\n",
       "\t\t<td>5</td>\n",
       "\t\t<td>6</td>\n",
       "\t\t<td>5</td>\n",
       "\t\t<td>6</td>\n",
       "\t\t<td>5</td>\n",
       "\t\t<td>6</td>\n",
       "\t\t<td>3</td>\n",
       "\t\t<td>3</td>\n",
       "\t</tr>\n",
       "\t<tr>\n",
       "\t\t<td>0.599510804787902</td>\n",
       "\t\t<td>1.29890654949678</td>\n",
       "\t\t<td>-0.141761534378328</td>\n",
       "\t\t<td>0.790378168209106</td>\n",
       "\t\t<td>10</td>\n",
       "\t\t<td>13</td>\n",
       "\t\t<td>14</td>\n",
       "\t\t<td>14</td>\n",
       "\t\t<td>14</td>\n",
       "\t\t<td>14</td>\n",
       "\t\t<td>13</td>\n",
       "\t\t<td>14</td>\n",
       "\t\t<td>12</td>\n",
       "\t\t<td>14</td>\n",
       "\t</tr>\n",
       "\t<tr>\n",
       "\t\t<td>1.4139639946904</td>\n",
       "\t\t<td>0.32934226567058</td>\n",
       "\t\t<td>0.110572077573417</td>\n",
       "\t\t<td>0.743405742245793</td>\n",
       "\t\t<td>2</td>\n",
       "\t\t<td>2</td>\n",
       "\t\t<td>2</td>\n",
       "\t\t<td>3</td>\n",
       "\t\t<td>2</td>\n",
       "\t\t<td>3</td>\n",
       "\t\t<td>2</td>\n",
       "\t\t<td>3</td>\n",
       "\t\t<td>7</td>\n",
       "\t\t<td>6</td>\n",
       "\t</tr>\n",
       "\t<tr>\n",
       "\t\t<td>-1.87644811776867</td>\n",
       "\t\t<td>-1.04171963476974</td>\n",
       "\t\t<td>-0.0483451139882224</td>\n",
       "\t\t<td>-1.23440714105312</td>\n",
       "\t\t<td>0</td>\n",
       "\t\t<td>0</td>\n",
       "\t\t<td>0</td>\n",
       "\t\t<td>0</td>\n",
       "\t\t<td>0</td>\n",
       "\t\t<td>0</td>\n",
       "\t\t<td>0</td>\n",
       "\t\t<td>0</td>\n",
       "\t\t<td>0</td>\n",
       "\t\t<td>0</td>\n",
       "\t</tr>\n",
       "</table></html>"
      ],
      "text/plain": [
       "       col1      col2      col3      col4  lgbmmodel_predict_1  lgbmmodel_predict_2  lgbmmodel_predict_3  lgbmmodel_predict_4  lgbmmodel_predict_5  lgbmmodel_predict_6  lgbmmodel_predict_7  lgbmmodel_predict_8  lgbmmodel_predict_9  lgbmmodel_predict_10\n",
       "0  1.087219 -1.006162  0.289958  0.055394                    9                   10                   10                    9                   12                    9                   14                   10                   14                     9\n",
       "1 -1.013454  0.855765 -0.256920 -0.085301                    8                    8                    8                   10                   11                    7                   11                    7                   12                    12\n",
       "2  1.458839  0.627871  0.067204  0.885081                    6                    6                    6                    3                    6                    3                    6                    3                    7                     6\n",
       "3  1.152278 -0.385592  0.196528  0.337757                    9                    5                    5                    6                    9                    6                    9                    6                    8                     8\n",
       "4 -0.697767  2.391808 -0.470222  0.680153                    8                   13                   12                   14                   13                   14                   13                   14                   12                    14\n",
       "5  0.908225 -1.169233  0.295712 -0.088467                    9                   11                   13                    9                   12                    9                   14                   10                   14                     9\n",
       "6  1.467688 -0.373959  0.231255  0.478242                    5                    5                    5                    6                    5                    6                    5                    6                    3                     3\n",
       "7  0.599511  1.298907 -0.141762  0.790378                   10                   13                   14                   14                   14                   14                   13                   14                   12                    14\n",
       "8  1.413964  0.329342  0.110572  0.743406                    2                    2                    2                    3                    2                    3                    2                    3                    7                     6\n",
       "9 -1.876448 -1.041720 -0.048345 -1.234407                    0                    0                    0                    0                    0                    0                    0                    0                    0                     0"
      ]
     },
     "execution_count": 51,
     "metadata": {},
     "output_type": "execute_result"
    }
   ],
   "source": [
    "obj_skl_load_model_s.predict(df_x, pred_leaf=True)"
   ]
  },
  {
   "cell_type": "markdown",
   "id": "b5c07e42",
   "metadata": {},
   "source": [
    "<b style = 'font-size:24px;font-family:Arial;color:#E37C4D'>Multi model</b>"
   ]
  },
  {
   "cell_type": "markdown",
   "id": "66c7404f",
   "metadata": {},
   "source": [
    "<b style = 'font-size:22px;font-family:Arial;color:#E37C4D'>Train</b>"
   ]
  },
  {
   "cell_type": "code",
   "execution_count": 52,
   "id": "6b38ba8b-7a14-49bf-9df0-3376e758b3ce",
   "metadata": {},
   "outputs": [
    {
     "data": {
      "text/html": [
       "<style>#sk-container-id-5 {color: black;background-color: white;}#sk-container-id-5 pre{padding: 0;}#sk-container-id-5 div.sk-toggleable {background-color: white;}#sk-container-id-5 label.sk-toggleable__label {cursor: pointer;display: block;width: 100%;margin-bottom: 0;padding: 0.3em;box-sizing: border-box;text-align: center;}#sk-container-id-5 label.sk-toggleable__label-arrow:before {content: \"▸\";float: left;margin-right: 0.25em;color: #696969;}#sk-container-id-5 label.sk-toggleable__label-arrow:hover:before {color: black;}#sk-container-id-5 div.sk-estimator:hover label.sk-toggleable__label-arrow:before {color: black;}#sk-container-id-5 div.sk-toggleable__content {max-height: 0;max-width: 0;overflow: hidden;text-align: left;background-color: #f0f8ff;}#sk-container-id-5 div.sk-toggleable__content pre {margin: 0.2em;color: black;border-radius: 0.25em;background-color: #f0f8ff;}#sk-container-id-5 input.sk-toggleable__control:checked~div.sk-toggleable__content {max-height: 200px;max-width: 100%;overflow: auto;}#sk-container-id-5 input.sk-toggleable__control:checked~label.sk-toggleable__label-arrow:before {content: \"▾\";}#sk-container-id-5 div.sk-estimator input.sk-toggleable__control:checked~label.sk-toggleable__label {background-color: #d4ebff;}#sk-container-id-5 div.sk-label input.sk-toggleable__control:checked~label.sk-toggleable__label {background-color: #d4ebff;}#sk-container-id-5 input.sk-hidden--visually {border: 0;clip: rect(1px 1px 1px 1px);clip: rect(1px, 1px, 1px, 1px);height: 1px;margin: -1px;overflow: hidden;padding: 0;position: absolute;width: 1px;}#sk-container-id-5 div.sk-estimator {font-family: monospace;background-color: #f0f8ff;border: 1px dotted black;border-radius: 0.25em;box-sizing: border-box;margin-bottom: 0.5em;}#sk-container-id-5 div.sk-estimator:hover {background-color: #d4ebff;}#sk-container-id-5 div.sk-parallel-item::after {content: \"\";width: 100%;border-bottom: 1px solid gray;flex-grow: 1;}#sk-container-id-5 div.sk-label:hover label.sk-toggleable__label {background-color: #d4ebff;}#sk-container-id-5 div.sk-serial::before {content: \"\";position: absolute;border-left: 1px solid gray;box-sizing: border-box;top: 0;bottom: 0;left: 50%;z-index: 0;}#sk-container-id-5 div.sk-serial {display: flex;flex-direction: column;align-items: center;background-color: white;padding-right: 0.2em;padding-left: 0.2em;position: relative;}#sk-container-id-5 div.sk-item {position: relative;z-index: 1;}#sk-container-id-5 div.sk-parallel {display: flex;align-items: stretch;justify-content: center;background-color: white;position: relative;}#sk-container-id-5 div.sk-item::before, #sk-container-id-5 div.sk-parallel-item::before {content: \"\";position: absolute;border-left: 1px solid gray;box-sizing: border-box;top: 0;bottom: 0;left: 50%;z-index: -1;}#sk-container-id-5 div.sk-parallel-item {display: flex;flex-direction: column;z-index: 1;position: relative;background-color: white;}#sk-container-id-5 div.sk-parallel-item:first-child::after {align-self: flex-end;width: 50%;}#sk-container-id-5 div.sk-parallel-item:last-child::after {align-self: flex-start;width: 50%;}#sk-container-id-5 div.sk-parallel-item:only-child::after {width: 0;}#sk-container-id-5 div.sk-dashed-wrapped {border: 1px dashed gray;margin: 0 0.4em 0.5em 0.4em;box-sizing: border-box;padding-bottom: 0.4em;background-color: white;}#sk-container-id-5 div.sk-label label {font-family: monospace;font-weight: bold;display: inline-block;line-height: 1.2em;}#sk-container-id-5 div.sk-label-container {text-align: center;}#sk-container-id-5 div.sk-container {/* jupyter's `normalize.less` sets `[hidden] { display: none; }` but bootstrap.min.css set `[hidden] { display: none !important; }` so we also need the `!important` here to be able to override the default hidden behavior on the sphinx rendered scikit-learn.org. See: https://github.com/scikit-learn/scikit-learn/issues/21755 */display: inline-block !important;position: relative;}#sk-container-id-5 div.sk-text-repr-fallback {display: none;}</style><div id=\"sk-container-id-5\" class=\"sk-top-container\"><div class=\"sk-text-repr-fallback\"><pre>LGBMModel(n_estimators=5, num_leaves=15, objective=&#x27;binary&#x27;)</pre><b>In a Jupyter environment, please rerun this cell to show the HTML representation or trust the notebook. <br />On GitHub, the HTML representation is unable to render, please try loading this page with nbviewer.org.</b></div><div class=\"sk-container\" hidden><div class=\"sk-item\"><div class=\"sk-estimator sk-toggleable\"><input class=\"sk-toggleable__control sk-hidden--visually\" id=\"sk-estimator-id-5\" type=\"checkbox\" checked><label for=\"sk-estimator-id-5\" class=\"sk-toggleable__label sk-toggleable__label-arrow\">LGBMModel</label><div class=\"sk-toggleable__content\"><pre>LGBMModel(n_estimators=5, num_leaves=15, objective=&#x27;binary&#x27;)</pre></div></div></div></div></div>"
      ],
      "text/plain": [
       "LGBMModel(n_estimators=5, num_leaves=15, objective='binary')"
      ]
     },
     "execution_count": 52,
     "metadata": {},
     "output_type": "execute_result"
    }
   ],
   "source": [
    "obj_skl_m = td_lightgbm.LGBMModel(num_leaves=15, objective=\"binary\", n_estimators=5)\n",
    "obj_skl_m"
   ]
  },
  {
   "cell_type": "code",
   "execution_count": 53,
   "id": "8007d1a6-0f18-4790-b8a7-8eb5bd56c70b",
   "metadata": {},
   "outputs": [
    {
     "name": "stderr",
     "output_type": "stream",
     "text": [
      "/root/.virtualenvs/tdml_20_04/lib/python3.8/site-packages/IPython/core/formatters.py:367: FormatterWarning: text/plain formatter returned invalid type <class 'pandas.core.frame.DataFrame'> (expected <class 'dict'>) for object:    partition_column_1  partition_column_2                                                         model\n",
      "0                   1                  11  LGBMModel(n_estimators=5, num_leaves=15, objective='binary')\n",
      "1                   0                  11  LGBMModel(n_estimators=5, num_leaves=15, objective='binary')\n",
      "2                   1                  10  LGBMModel(n_estimators=5, num_leaves=15, objective='binary')\n",
      "3                   0                  10  LGBMModel(n_estimators=5, num_leaves=15, objective='binary')\n",
      "  warnings.warn(\n",
      "/root/.virtualenvs/tdml_20_04/lib/python3.8/site-packages/IPython/core/formatters.py:367: FormatterWarning: text/html formatter returned invalid type <class 'pandas.core.frame.DataFrame'> (expected <class 'str'>) for object:    partition_column_1  partition_column_2                                                         model\n",
      "0                   1                  11  LGBMModel(n_estimators=5, num_leaves=15, objective='binary')\n",
      "1                   0                  11  LGBMModel(n_estimators=5, num_leaves=15, objective='binary')\n",
      "2                   1                  10  LGBMModel(n_estimators=5, num_leaves=15, objective='binary')\n",
      "3                   0                  10  LGBMModel(n_estimators=5, num_leaves=15, objective='binary')\n",
      "  warnings.warn(\n"
     ]
    },
    {
     "data": {
      "text/plain": [
       "   partition_column_1  partition_column_2                                                         model\n",
       "0                   1                  11  LGBMModel(n_estimators=5, num_leaves=15, objective='binary')\n",
       "1                   0                  11  LGBMModel(n_estimators=5, num_leaves=15, objective='binary')\n",
       "2                   1                  10  LGBMModel(n_estimators=5, num_leaves=15, objective='binary')\n",
       "3                   0                  10  LGBMModel(n_estimators=5, num_leaves=15, objective='binary')"
      ]
     },
     "execution_count": 53,
     "metadata": {},
     "output_type": "execute_result"
    }
   ],
   "source": [
    "obj_skl_m.fit(df_x, df_y, sample_weight=df_train.select(\"group_column\"),\n",
    "              partition_columns=[\"partition_column_1\", \"partition_column_2\"],\n",
    "              callbacks = [td_lightgbm.log_evaluation()])"
   ]
  },
  {
   "cell_type": "markdown",
   "id": "6f8deac6",
   "metadata": {},
   "source": [
    "<b style = 'font-size:22px;font-family:Arial;color:#E37C4D'>Deploy</b>"
   ]
  },
  {
   "cell_type": "code",
   "execution_count": 54,
   "id": "e32514ce-0438-4906-a938-bef8e7f70f06",
   "metadata": {},
   "outputs": [
    {
     "name": "stdout",
     "output_type": "stream",
     "text": [
      "Model is saved.\n"
     ]
    },
    {
     "name": "stderr",
     "output_type": "stream",
     "text": [
      "/root/.virtualenvs/tdml_20_04/lib/python3.8/site-packages/IPython/core/formatters.py:367: FormatterWarning: text/plain formatter returned invalid type <class 'pandas.core.frame.DataFrame'> (expected <class 'dict'>) for object:    partition_column_1  partition_column_2                                                         model\n",
      "0                   1                  11  LGBMModel(n_estimators=5, num_leaves=15, objective='binary')\n",
      "1                   0                  11  LGBMModel(n_estimators=5, num_leaves=15, objective='binary')\n",
      "2                   1                  10  LGBMModel(n_estimators=5, num_leaves=15, objective='binary')\n",
      "3                   0                  10  LGBMModel(n_estimators=5, num_leaves=15, objective='binary')\n",
      "  warnings.warn(\n",
      "/root/.virtualenvs/tdml_20_04/lib/python3.8/site-packages/IPython/core/formatters.py:367: FormatterWarning: text/html formatter returned invalid type <class 'pandas.core.frame.DataFrame'> (expected <class 'str'>) for object:    partition_column_1  partition_column_2                                                         model\n",
      "0                   1                  11  LGBMModel(n_estimators=5, num_leaves=15, objective='binary')\n",
      "1                   0                  11  LGBMModel(n_estimators=5, num_leaves=15, objective='binary')\n",
      "2                   1                  10  LGBMModel(n_estimators=5, num_leaves=15, objective='binary')\n",
      "3                   0                  10  LGBMModel(n_estimators=5, num_leaves=15, objective='binary')\n",
      "  warnings.warn(\n"
     ]
    },
    {
     "data": {
      "text/plain": [
       "   partition_column_1  partition_column_2                                                         model\n",
       "0                   1                  11  LGBMModel(n_estimators=5, num_leaves=15, objective='binary')\n",
       "1                   0                  11  LGBMModel(n_estimators=5, num_leaves=15, objective='binary')\n",
       "2                   1                  10  LGBMModel(n_estimators=5, num_leaves=15, objective='binary')\n",
       "3                   0                  10  LGBMModel(n_estimators=5, num_leaves=15, objective='binary')"
      ]
     },
     "execution_count": 54,
     "metadata": {},
     "output_type": "execute_result"
    }
   ],
   "source": [
    "obj_skl_m.deploy(model_name=\"lightgbm_sklearn_multi_model\")"
   ]
  },
  {
   "cell_type": "markdown",
   "id": "1b926846",
   "metadata": {},
   "source": [
    "<b style = 'font-size:22px;font-family:Arial;color:#E37C4D'>Load</b>"
   ]
  },
  {
   "cell_type": "code",
   "execution_count": 55,
   "id": "aa2d83f0-8dcb-484d-9a50-e54de57a0a16",
   "metadata": {},
   "outputs": [],
   "source": [
    "obj_skl_load_model_m = td_lightgbm.load(\"lightgbm_sklearn_multi_model\")"
   ]
  },
  {
   "cell_type": "code",
   "execution_count": 56,
   "id": "0783f8e8-e7a8-498c-be16-65849167819d",
   "metadata": {},
   "outputs": [
    {
     "name": "stderr",
     "output_type": "stream",
     "text": [
      "/root/.virtualenvs/tdml_20_04/lib/python3.8/site-packages/IPython/core/formatters.py:367: FormatterWarning: text/plain formatter returned invalid type <class 'pandas.core.frame.DataFrame'> (expected <class 'dict'>) for object:    partition_column_1  partition_column_2                                                         model\n",
      "0                   1                  11  LGBMModel(n_estimators=5, num_leaves=15, objective='binary')\n",
      "1                   0                  11  LGBMModel(n_estimators=5, num_leaves=15, objective='binary')\n",
      "2                   1                  10  LGBMModel(n_estimators=5, num_leaves=15, objective='binary')\n",
      "3                   0                  10  LGBMModel(n_estimators=5, num_leaves=15, objective='binary')\n",
      "  warnings.warn(\n",
      "/root/.virtualenvs/tdml_20_04/lib/python3.8/site-packages/IPython/core/formatters.py:367: FormatterWarning: text/html formatter returned invalid type <class 'pandas.core.frame.DataFrame'> (expected <class 'str'>) for object:    partition_column_1  partition_column_2                                                         model\n",
      "0                   1                  11  LGBMModel(n_estimators=5, num_leaves=15, objective='binary')\n",
      "1                   0                  11  LGBMModel(n_estimators=5, num_leaves=15, objective='binary')\n",
      "2                   1                  10  LGBMModel(n_estimators=5, num_leaves=15, objective='binary')\n",
      "3                   0                  10  LGBMModel(n_estimators=5, num_leaves=15, objective='binary')\n",
      "  warnings.warn(\n"
     ]
    },
    {
     "data": {
      "text/plain": [
       "   partition_column_1  partition_column_2                                                         model\n",
       "0                   1                  11  LGBMModel(n_estimators=5, num_leaves=15, objective='binary')\n",
       "1                   0                  11  LGBMModel(n_estimators=5, num_leaves=15, objective='binary')\n",
       "2                   1                  10  LGBMModel(n_estimators=5, num_leaves=15, objective='binary')\n",
       "3                   0                  10  LGBMModel(n_estimators=5, num_leaves=15, objective='binary')"
      ]
     },
     "execution_count": 56,
     "metadata": {},
     "output_type": "execute_result"
    }
   ],
   "source": [
    "obj_skl_load_model_m"
   ]
  },
  {
   "cell_type": "code",
   "execution_count": 57,
   "id": "cfc24966-fbc5-4584-829c-3bd4fd327d74",
   "metadata": {},
   "outputs": [
    {
     "data": {
      "application/vnd.jupyter.widget-view+json": {
       "model_id": "04f2209537464979860eb7c224ad168b",
       "version_major": 2,
       "version_minor": 0
      },
      "text/plain": []
     },
     "metadata": {},
     "output_type": "display_data"
    },
    {
     "data": {
      "text/html": [
       "<style type=\"text/css\">\n",
       "\ttable { border:ridge 5px}\n",
       "\ttable td {border:inset 1px;}\n",
       "\ttable tr#HeaderRow {background-color:grey; color:white;}\n",
       "\t</style>\n",
       "<html><table style=\"min-width:1000px;\">\n",
       "\t<tr id=\"HeaderRow\">\n",
       "<th>partition_column_1</th><th>partition_column_2</th><th>col1</th><th>col2</th><th>col3</th><th>col4</th><th>lgbmmodel_predict_1</th><th>lgbmmodel_predict_2</th><th>lgbmmodel_predict_3</th><th>lgbmmodel_predict_4</th><th>lgbmmodel_predict_5</th>\n",
       "</tr>\n",
       "\t<tr>\n",
       "\t\t<td>1</td>\n",
       "\t\t<td>10</td>\n",
       "\t\t<td>-0.81561368659203</td>\n",
       "\t\t<td>-1.23797225905657</td>\n",
       "\t\t<td>0.106755845337771</td>\n",
       "\t\t<td>-0.858387592275172</td>\n",
       "\t\t<td>0</td>\n",
       "\t\t<td>0</td>\n",
       "\t\t<td>1</td>\n",
       "\t\t<td>0</td>\n",
       "\t\t<td>2</td>\n",
       "\t</tr>\n",
       "\t<tr>\n",
       "\t\t<td>1</td>\n",
       "\t\t<td>10</td>\n",
       "\t\t<td>1.22293214360004</td>\n",
       "\t\t<td>-0.0499157426583425</td>\n",
       "\t\t<td>0.150108049327627</td>\n",
       "\t\t<td>0.505750927326388</td>\n",
       "\t\t<td>2</td>\n",
       "\t\t<td>2</td>\n",
       "\t\t<td>2</td>\n",
       "\t\t<td>2</td>\n",
       "\t\t<td>2</td>\n",
       "\t</tr>\n",
       "\t<tr>\n",
       "\t\t<td>1</td>\n",
       "\t\t<td>10</td>\n",
       "\t\t<td>-1.41682282355336</td>\n",
       "\t\t<td>-1.10436212447853</td>\n",
       "\t\t<td>0.0152120983410702</td>\n",
       "\t\t<td>-1.0623134937516</td>\n",
       "\t\t<td>0</td>\n",
       "\t\t<td>0</td>\n",
       "\t\t<td>1</td>\n",
       "\t\t<td>0</td>\n",
       "\t\t<td>0</td>\n",
       "\t</tr>\n",
       "\t<tr>\n",
       "\t\t<td>1</td>\n",
       "\t\t<td>10</td>\n",
       "\t\t<td>1.68842312661873</td>\n",
       "\t\t<td>1.25645955102489</td>\n",
       "\t\t<td>-0.00842887873568515</td>\n",
       "\t\t<td>1.24152358424494</td>\n",
       "\t\t<td>2</td>\n",
       "\t\t<td>1</td>\n",
       "\t\t<td>2</td>\n",
       "\t\t<td>2</td>\n",
       "\t\t<td>1</td>\n",
       "\t</tr>\n",
       "\t<tr>\n",
       "\t\t<td>1</td>\n",
       "\t\t<td>10</td>\n",
       "\t\t<td>1.05259185573158</td>\n",
       "\t\t<td>1.19821169185417</td>\n",
       "\t\t<td>-0.0727720048714777</td>\n",
       "\t\t<td>0.944058397832405</td>\n",
       "\t\t<td>2</td>\n",
       "\t\t<td>1</td>\n",
       "\t\t<td>0</td>\n",
       "\t\t<td>2</td>\n",
       "\t\t<td>1</td>\n",
       "\t</tr>\n",
       "\t<tr>\n",
       "\t\t<td>1</td>\n",
       "\t\t<td>10</td>\n",
       "\t\t<td>0.978831185266201</td>\n",
       "\t\t<td>-1.26545290822398</td>\n",
       "\t\t<td>0.319567156801863</td>\n",
       "\t\t<td>-0.0975263932260341</td>\n",
       "\t\t<td>0</td>\n",
       "\t\t<td>0</td>\n",
       "\t\t<td>3</td>\n",
       "\t\t<td>0</td>\n",
       "\t\t<td>2</td>\n",
       "\t</tr>\n",
       "\t<tr>\n",
       "\t\t<td>1</td>\n",
       "\t\t<td>10</td>\n",
       "\t\t<td>-1.72182210533619</td>\n",
       "\t\t<td>-0.849435337879736</td>\n",
       "\t\t<td>-0.0616823584684557</td>\n",
       "\t\t<td>-1.08905706675667</td>\n",
       "\t\t<td>3</td>\n",
       "\t\t<td>2</td>\n",
       "\t\t<td>0</td>\n",
       "\t\t<td>3</td>\n",
       "\t\t<td>0</td>\n",
       "\t</tr>\n",
       "\t<tr>\n",
       "\t\t<td>1</td>\n",
       "\t\t<td>10</td>\n",
       "\t\t<td>-1.47190825008191</td>\n",
       "\t\t<td>-0.0291948925884957</td>\n",
       "\t\t<td>-0.166141412269092</td>\n",
       "\t\t<td>-0.64530912851927</td>\n",
       "\t\t<td>1</td>\n",
       "\t\t<td>2</td>\n",
       "\t\t<td>0</td>\n",
       "\t\t<td>1</td>\n",
       "\t\t<td>0</td>\n",
       "\t</tr>\n",
       "\t<tr>\n",
       "\t\t<td>1</td>\n",
       "\t\t<td>10</td>\n",
       "\t\t<td>0.191240730419773</td>\n",
       "\t\t<td>1.97100133015377</td>\n",
       "\t\t<td>-0.298530178457708</td>\n",
       "\t\t<td>0.890194110648821</td>\n",
       "\t\t<td>1</td>\n",
       "\t\t<td>1</td>\n",
       "\t\t<td>0</td>\n",
       "\t\t<td>1</td>\n",
       "\t\t<td>1</td>\n",
       "\t</tr>\n",
       "\t<tr>\n",
       "\t\t<td>1</td>\n",
       "\t\t<td>10</td>\n",
       "\t\t<td>1.13813152232889</td>\n",
       "\t\t<td>-0.257627247407291</td>\n",
       "\t\t<td>0.174062606457366</td>\n",
       "\t\t<td>0.384122223783585</td>\n",
       "\t\t<td>2</td>\n",
       "\t\t<td>2</td>\n",
       "\t\t<td>2</td>\n",
       "\t\t<td>2</td>\n",
       "\t\t<td>2</td>\n",
       "\t</tr>\n",
       "</table></html>"
      ],
      "text/plain": [
       "                    partition_column_2      col1      col2      col3      col4  lgbmmodel_predict_1  lgbmmodel_predict_2  lgbmmodel_predict_3  lgbmmodel_predict_4  lgbmmodel_predict_5\n",
       "partition_column_1                                                                                                                                                                     \n",
       "1                                   10 -0.815614 -1.237972  0.106756 -0.858388                    0                    0                    1                    0                    2\n",
       "1                                   10  1.222932 -0.049916  0.150108  0.505751                    2                    2                    2                    2                    2\n",
       "1                                   10 -1.416823 -1.104362  0.015212 -1.062313                    0                    0                    1                    0                    0\n",
       "1                                   10  1.688423  1.256460 -0.008429  1.241524                    2                    1                    2                    2                    1\n",
       "1                                   10  1.052592  1.198212 -0.072772  0.944058                    2                    1                    0                    2                    1\n",
       "1                                   10  0.978831 -1.265453  0.319567 -0.097526                    0                    0                    3                    0                    2\n",
       "1                                   10 -1.721822 -0.849435 -0.061682 -1.089057                    3                    2                    0                    3                    0\n",
       "1                                   10 -1.471908 -0.029195 -0.166141 -0.645309                    1                    2                    0                    1                    0\n",
       "1                                   10  0.191241  1.971001 -0.298530  0.890194                    1                    1                    0                    1                    1\n",
       "1                                   10  1.138132 -0.257627  0.174063  0.384122                    2                    2                    2                    2                    2"
      ]
     },
     "execution_count": 57,
     "metadata": {},
     "output_type": "execute_result"
    }
   ],
   "source": [
    "obj_skl_load_model_m.predict(df_x, raw_score=True, pred_leaf=True)"
   ]
  },
  {
   "cell_type": "code",
   "execution_count": 58,
   "id": "27ddf898-0916-4f5b-a92a-4272762945bf",
   "metadata": {},
   "outputs": [
    {
     "data": {
      "text/html": [
       "<div>\n",
       "<style scoped>\n",
       "    .dataframe tbody tr th:only-of-type {\n",
       "        vertical-align: middle;\n",
       "    }\n",
       "\n",
       "    .dataframe tbody tr th {\n",
       "        vertical-align: top;\n",
       "    }\n",
       "\n",
       "    .dataframe thead th {\n",
       "        text-align: right;\n",
       "    }\n",
       "</style>\n",
       "<table border=\"1\" class=\"dataframe\">\n",
       "  <thead>\n",
       "    <tr style=\"text-align: right;\">\n",
       "      <th></th>\n",
       "      <th>partition_column_1</th>\n",
       "      <th>partition_column_2</th>\n",
       "      <th>feature_importances_</th>\n",
       "    </tr>\n",
       "  </thead>\n",
       "  <tbody>\n",
       "    <tr>\n",
       "      <th>0</th>\n",
       "      <td>1</td>\n",
       "      <td>11</td>\n",
       "      <td>[3, 11, 1, 0]</td>\n",
       "    </tr>\n",
       "    <tr>\n",
       "      <th>1</th>\n",
       "      <td>0</td>\n",
       "      <td>11</td>\n",
       "      <td>[0, 5, 7, 0]</td>\n",
       "    </tr>\n",
       "    <tr>\n",
       "      <th>2</th>\n",
       "      <td>1</td>\n",
       "      <td>10</td>\n",
       "      <td>[2, 7, 2, 2]</td>\n",
       "    </tr>\n",
       "    <tr>\n",
       "      <th>3</th>\n",
       "      <td>0</td>\n",
       "      <td>10</td>\n",
       "      <td>[4, 10, 0, 1]</td>\n",
       "    </tr>\n",
       "  </tbody>\n",
       "</table>\n",
       "</div>"
      ],
      "text/plain": [
       "   partition_column_1  partition_column_2 feature_importances_\n",
       "0                   1                  11        [3, 11, 1, 0]\n",
       "1                   0                  11         [0, 5, 7, 0]\n",
       "2                   1                  10         [2, 7, 2, 2]\n",
       "3                   0                  10        [4, 10, 0, 1]"
      ]
     },
     "execution_count": 58,
     "metadata": {},
     "output_type": "execute_result"
    }
   ],
   "source": [
    "obj_skl_load_model_m.feature_importances_"
   ]
  },
  {
   "cell_type": "markdown",
   "id": "e58edafd",
   "metadata": {},
   "source": [
    "<b style = 'font-size:28px;font-family:Arial;color:#E37C4D'>Deploy and load models trained outside Vantage</b>"
   ]
  },
  {
   "cell_type": "markdown",
   "id": "6ea1aaa0",
   "metadata": {},
   "source": [
    "<b style = 'font-size:22px;font-family:Arial;color:#E37C4D'>Train using train() method</b>"
   ]
  },
  {
   "cell_type": "markdown",
   "id": "e7cd9eb0",
   "metadata": {},
   "source": [
    "<b style = 'font-size:22px;font-family:Arial;color:#E37C4D'>Train</b>"
   ]
  },
  {
   "cell_type": "code",
   "execution_count": 59,
   "id": "0f342781-2890-4289-9f73-9a352a22fb3b",
   "metadata": {},
   "outputs": [],
   "source": [
    "from lightgbm import Dataset, train"
   ]
  },
  {
   "cell_type": "code",
   "execution_count": 60,
   "id": "6ccb5d86-4859-4382-ab2b-14ac1c280244",
   "metadata": {},
   "outputs": [
    {
     "data": {
      "text/plain": [
       "<lightgbm.basic.Dataset at 0x7f3739d3b730>"
      ]
     },
     "execution_count": 60,
     "metadata": {},
     "output_type": "execute_result"
    }
   ],
   "source": [
    "pdf_dataset = Dataset(params={},data=pdf_x, label=pdf_y)\n",
    "pdf_dataset"
   ]
  },
  {
   "cell_type": "code",
   "execution_count": 61,
   "id": "99b952a4-b9e5-43e4-a4f8-59a3766f6e64",
   "metadata": {},
   "outputs": [
    {
     "name": "stdout",
     "output_type": "stream",
     "text": [
      "[LightGBM] [Warning] Auto-choosing col-wise multi-threading, the overhead of testing was 0.000066 seconds.\n",
      "You can set `force_col_wise=true` to remove the overhead.\n",
      "[LightGBM] [Info] Total Bins 532\n",
      "[LightGBM] [Info] Number of data points in the train set: 400, number of used features: 4\n",
      "[LightGBM] [Info] Start training from score 0.507500\n",
      "[LightGBM] [Warning] No further splits with positive gain, best gain: -inf\n",
      "[LightGBM] [Warning] No further splits with positive gain, best gain: -inf\n",
      "[LightGBM] [Warning] No further splits with positive gain, best gain: -inf\n",
      "[LightGBM] [Warning] No further splits with positive gain, best gain: -inf\n",
      "[LightGBM] [Warning] No further splits with positive gain, best gain: -inf\n",
      "[LightGBM] [Warning] No further splits with positive gain, best gain: -inf\n",
      "[LightGBM] [Warning] No further splits with positive gain, best gain: -inf\n",
      "[LightGBM] [Warning] No further splits with positive gain, best gain: -inf\n",
      "[LightGBM] [Warning] No further splits with positive gain, best gain: -inf\n",
      "[LightGBM] [Warning] No further splits with positive gain, best gain: -inf\n",
      "[LightGBM] [Warning] No further splits with positive gain, best gain: -inf\n",
      "[LightGBM] [Warning] No further splits with positive gain, best gain: -inf\n",
      "[LightGBM] [Warning] No further splits with positive gain, best gain: -inf\n",
      "[LightGBM] [Warning] No further splits with positive gain, best gain: -inf\n",
      "[LightGBM] [Warning] No further splits with positive gain, best gain: -inf\n",
      "[LightGBM] [Warning] No further splits with positive gain, best gain: -inf\n",
      "[LightGBM] [Warning] No further splits with positive gain, best gain: -inf\n",
      "[LightGBM] [Warning] No further splits with positive gain, best gain: -inf\n",
      "[LightGBM] [Warning] No further splits with positive gain, best gain: -inf\n",
      "[LightGBM] [Warning] No further splits with positive gain, best gain: -inf\n",
      "[LightGBM] [Warning] No further splits with positive gain, best gain: -inf\n",
      "[LightGBM] [Warning] No further splits with positive gain, best gain: -inf\n",
      "[LightGBM] [Warning] No further splits with positive gain, best gain: -inf\n",
      "[LightGBM] [Warning] No further splits with positive gain, best gain: -inf\n",
      "[LightGBM] [Warning] No further splits with positive gain, best gain: -inf\n",
      "[LightGBM] [Warning] No further splits with positive gain, best gain: -inf\n",
      "[LightGBM] [Warning] No further splits with positive gain, best gain: -inf\n",
      "[LightGBM] [Warning] No further splits with positive gain, best gain: -inf\n",
      "[LightGBM] [Warning] No further splits with positive gain, best gain: -inf\n",
      "[LightGBM] [Warning] No further splits with positive gain, best gain: -inf\n",
      "[LightGBM] [Warning] No further splits with positive gain, best gain: -inf\n",
      "[LightGBM] [Warning] No further splits with positive gain, best gain: -inf\n",
      "[LightGBM] [Warning] No further splits with positive gain, best gain: -inf\n",
      "[LightGBM] [Warning] No further splits with positive gain, best gain: -inf\n",
      "[LightGBM] [Warning] No further splits with positive gain, best gain: -inf\n",
      "[LightGBM] [Warning] No further splits with positive gain, best gain: -inf\n",
      "[LightGBM] [Warning] No further splits with positive gain, best gain: -inf\n",
      "[LightGBM] [Warning] No further splits with positive gain, best gain: -inf\n",
      "[LightGBM] [Warning] No further splits with positive gain, best gain: -inf\n",
      "[LightGBM] [Warning] No further splits with positive gain, best gain: -inf\n",
      "[LightGBM] [Warning] No further splits with positive gain, best gain: -inf\n",
      "[LightGBM] [Warning] No further splits with positive gain, best gain: -inf\n",
      "[LightGBM] [Warning] No further splits with positive gain, best gain: -inf\n",
      "[LightGBM] [Warning] No further splits with positive gain, best gain: -inf\n",
      "[LightGBM] [Warning] No further splits with positive gain, best gain: -inf\n",
      "[LightGBM] [Warning] No further splits with positive gain, best gain: -inf\n",
      "[LightGBM] [Warning] No further splits with positive gain, best gain: -inf\n",
      "[LightGBM] [Warning] No further splits with positive gain, best gain: -inf\n",
      "[LightGBM] [Warning] No further splits with positive gain, best gain: -inf\n",
      "[LightGBM] [Warning] No further splits with positive gain, best gain: -inf\n",
      "[LightGBM] [Warning] No further splits with positive gain, best gain: -inf\n",
      "[LightGBM] [Warning] No further splits with positive gain, best gain: -inf\n",
      "[LightGBM] [Warning] No further splits with positive gain, best gain: -inf\n",
      "[LightGBM] [Warning] No further splits with positive gain, best gain: -inf\n",
      "[LightGBM] [Warning] No further splits with positive gain, best gain: -inf\n",
      "[LightGBM] [Warning] No further splits with positive gain, best gain: -inf\n",
      "[LightGBM] [Warning] No further splits with positive gain, best gain: -inf\n",
      "[LightGBM] [Warning] No further splits with positive gain, best gain: -inf\n",
      "[LightGBM] [Warning] No further splits with positive gain, best gain: -inf\n",
      "[LightGBM] [Warning] No further splits with positive gain, best gain: -inf\n",
      "[LightGBM] [Warning] No further splits with positive gain, best gain: -inf\n",
      "[LightGBM] [Warning] No further splits with positive gain, best gain: -inf\n",
      "[LightGBM] [Warning] No further splits with positive gain, best gain: -inf\n",
      "[LightGBM] [Warning] No further splits with positive gain, best gain: -inf\n",
      "[LightGBM] [Warning] No further splits with positive gain, best gain: -inf\n",
      "[LightGBM] [Warning] No further splits with positive gain, best gain: -inf\n",
      "[LightGBM] [Warning] No further splits with positive gain, best gain: -inf\n",
      "[LightGBM] [Warning] No further splits with positive gain, best gain: -inf\n",
      "[LightGBM] [Warning] No further splits with positive gain, best gain: -inf\n",
      "[LightGBM] [Warning] No further splits with positive gain, best gain: -inf\n",
      "[LightGBM] [Warning] No further splits with positive gain, best gain: -inf\n",
      "[LightGBM] [Warning] No further splits with positive gain, best gain: -inf\n",
      "[LightGBM] [Warning] No further splits with positive gain, best gain: -inf\n",
      "[LightGBM] [Warning] No further splits with positive gain, best gain: -inf\n",
      "[LightGBM] [Warning] No further splits with positive gain, best gain: -inf\n",
      "[LightGBM] [Warning] No further splits with positive gain, best gain: -inf\n",
      "[LightGBM] [Warning] No further splits with positive gain, best gain: -inf\n",
      "[LightGBM] [Warning] No further splits with positive gain, best gain: -inf\n",
      "[LightGBM] [Warning] No further splits with positive gain, best gain: -inf\n",
      "[LightGBM] [Warning] No further splits with positive gain, best gain: -inf\n",
      "[LightGBM] [Warning] No further splits with positive gain, best gain: -inf\n",
      "[LightGBM] [Warning] No further splits with positive gain, best gain: -inf\n",
      "[LightGBM] [Warning] No further splits with positive gain, best gain: -inf\n",
      "[LightGBM] [Warning] No further splits with positive gain, best gain: -inf\n",
      "[LightGBM] [Warning] No further splits with positive gain, best gain: -inf\n",
      "[LightGBM] [Warning] No further splits with positive gain, best gain: -inf\n",
      "[LightGBM] [Warning] No further splits with positive gain, best gain: -inf\n",
      "[LightGBM] [Warning] No further splits with positive gain, best gain: -inf\n",
      "[LightGBM] [Warning] No further splits with positive gain, best gain: -inf\n",
      "[LightGBM] [Warning] No further splits with positive gain, best gain: -inf\n",
      "[LightGBM] [Warning] No further splits with positive gain, best gain: -inf\n",
      "[LightGBM] [Warning] No further splits with positive gain, best gain: -inf\n",
      "[LightGBM] [Warning] No further splits with positive gain, best gain: -inf\n",
      "[LightGBM] [Warning] No further splits with positive gain, best gain: -inf\n",
      "[LightGBM] [Warning] No further splits with positive gain, best gain: -inf\n",
      "[LightGBM] [Warning] No further splits with positive gain, best gain: -inf\n",
      "[LightGBM] [Warning] No further splits with positive gain, best gain: -inf\n",
      "[LightGBM] [Warning] No further splits with positive gain, best gain: -inf\n",
      "[LightGBM] [Warning] No further splits with positive gain, best gain: -inf\n",
      "[LightGBM] [Warning] No further splits with positive gain, best gain: -inf\n"
     ]
    },
    {
     "data": {
      "text/plain": [
       "<lightgbm.basic.Booster at 0x7f3733e818e0>"
      ]
     },
     "execution_count": 61,
     "metadata": {},
     "output_type": "execute_result"
    }
   ],
   "source": [
    "local_train = train(train_set=pdf_dataset, params={})\n",
    "local_train"
   ]
  },
  {
   "cell_type": "code",
   "execution_count": 62,
   "id": "e05c9564-21bd-47d5-92a7-8e8e3fa3febf",
   "metadata": {},
   "outputs": [
    {
     "data": {
      "text/plain": [
       "lightgbm.basic.Booster"
      ]
     },
     "execution_count": 62,
     "metadata": {},
     "output_type": "execute_result"
    }
   ],
   "source": [
    "type(local_train)"
   ]
  },
  {
   "cell_type": "markdown",
   "id": "52c23a9e",
   "metadata": {},
   "source": [
    "<b style = 'font-size:22px;font-family:Arial;color:#E37C4D'>Deploy</b>"
   ]
  },
  {
   "cell_type": "code",
   "execution_count": 63,
   "id": "a2bf26d2-153c-4385-a4e8-6022705b05c9",
   "metadata": {},
   "outputs": [
    {
     "name": "stdout",
     "output_type": "stream",
     "text": [
      "Model is saved.\n"
     ]
    }
   ],
   "source": [
    "opt_outside = td_lightgbm.deploy(model_name=\"model_trained_outside_vantage_using_train\", model=local_train)"
   ]
  },
  {
   "cell_type": "code",
   "execution_count": 64,
   "id": "b4da51cc-10a6-4758-bbc8-136b1661ec3a",
   "metadata": {},
   "outputs": [
    {
     "data": {
      "text/plain": [
       "<lightgbm.basic.Booster object at 0x7f3733e818e0>"
      ]
     },
     "execution_count": 64,
     "metadata": {},
     "output_type": "execute_result"
    }
   ],
   "source": [
    "opt_outside"
   ]
  },
  {
   "cell_type": "code",
   "execution_count": 65,
   "id": "bdb24be3-8144-4577-80ed-453965ca0039",
   "metadata": {},
   "outputs": [
    {
     "data": {
      "text/plain": [
       "teradataml.opensource._lightgbm._LightgbmBoosterWrapper"
      ]
     },
     "execution_count": 65,
     "metadata": {},
     "output_type": "execute_result"
    }
   ],
   "source": [
    "type(opt_outside)"
   ]
  },
  {
   "cell_type": "markdown",
   "id": "f82c7299",
   "metadata": {},
   "source": [
    "<b style = 'font-size:22px;font-family:Arial;color:#E37C4D'>Load</b>"
   ]
  },
  {
   "cell_type": "code",
   "execution_count": 66,
   "id": "33ef1d1a-3aa4-4d4c-9adf-b23bf5b82214",
   "metadata": {},
   "outputs": [],
   "source": [
    "opt_load_outside = td_lightgbm.load(\"model_trained_outside_vantage_using_train\")"
   ]
  },
  {
   "cell_type": "code",
   "execution_count": 67,
   "id": "62e37c80-a00f-49f0-861f-4d319abb9644",
   "metadata": {},
   "outputs": [
    {
     "data": {
      "text/plain": [
       "<lightgbm.basic.Booster object at 0x7f373847e4f0>"
      ]
     },
     "execution_count": 67,
     "metadata": {},
     "output_type": "execute_result"
    }
   ],
   "source": [
    "opt_load_outside"
   ]
  },
  {
   "cell_type": "code",
   "execution_count": 68,
   "id": "3da5b1c7-f083-40d4-b42b-f056bd625fe4",
   "metadata": {},
   "outputs": [
    {
     "data": {
      "text/plain": [
       "teradataml.opensource._lightgbm._LightgbmBoosterWrapper"
      ]
     },
     "execution_count": 68,
     "metadata": {},
     "output_type": "execute_result"
    }
   ],
   "source": [
    "type(opt_load_outside)"
   ]
  },
  {
   "cell_type": "code",
   "execution_count": 69,
   "id": "67232584-6dfc-406f-bac6-53ff60fbbb58",
   "metadata": {},
   "outputs": [
    {
     "data": {
      "application/vnd.jupyter.widget-view+json": {
       "model_id": "109946c2e4034774b4a1bb0bbe3c1a17",
       "version_major": 2,
       "version_minor": 0
      },
      "text/plain": []
     },
     "metadata": {},
     "output_type": "display_data"
    },
    {
     "data": {
      "text/html": [
       "<style type=\"text/css\">\n",
       "\ttable { border:ridge 5px}\n",
       "\ttable td {border:inset 1px;}\n",
       "\ttable tr#HeaderRow {background-color:grey; color:white;}\n",
       "\t</style>\n",
       "<html><table style=\"min-width:1000px;\">\n",
       "\t<tr id=\"HeaderRow\">\n",
       "<th>col1</th><th>col2</th><th>col3</th><th>col4</th><th>label</th><th>booster_predict_1</th><th>booster_predict_2</th><th>booster_predict_3</th><th>booster_predict_4</th><th>booster_predict_5</th>\n",
       "</tr>\n",
       "\t<tr>\n",
       "\t\t<td>1.08721910721962</td>\n",
       "\t\t<td>-1.00616238561834</td>\n",
       "\t\t<td>0.289957882286553</td>\n",
       "\t\t<td>0.0553936469585556</td>\n",
       "\t\t<td>0</td>\n",
       "\t\t<td>-0.00833579810727546</td>\n",
       "\t\t<td>-0.22112517012835295</td>\n",
       "\t\t<td>-0.20113440328171378</td>\n",
       "\t\t<td>-0.07605501510300809</td>\n",
       "\t\t<td>0.5075000001219884</td>\n",
       "\t</tr>\n",
       "\t<tr>\n",
       "\t\t<td>-1.0134542207762</td>\n",
       "\t\t<td>0.855764911464957</td>\n",
       "\t\t<td>-0.256919976110177</td>\n",
       "\t\t<td>-0.0853009535407497</td>\n",
       "\t\t<td>1</td>\n",
       "\t\t<td>0.06110916096361132</td>\n",
       "\t\t<td>0.21833605758666122</td>\n",
       "\t\t<td>0.21179148949448173</td>\n",
       "\t\t<td>-0.002357382078336835</td>\n",
       "\t\t<td>0.5075000001219884</td>\n",
       "\t</tr>\n",
       "\t<tr>\n",
       "\t\t<td>1.45883918214779</td>\n",
       "\t\t<td>0.627871026643599</td>\n",
       "\t\t<td>0.067203725213036</td>\n",
       "\t\t<td>0.885080711754702</td>\n",
       "\t\t<td>1</td>\n",
       "\t\t<td>0.004680991076712079</td>\n",
       "\t\t<td>0.195964350951066</td>\n",
       "\t\t<td>-0.28917899638570543</td>\n",
       "\t\t<td>0.3281383071163784</td>\n",
       "\t\t<td>0.5075000001219884</td>\n",
       "\t</tr>\n",
       "\t<tr>\n",
       "\t\t<td>1.15227849437784</td>\n",
       "\t\t<td>-0.385591649876342</td>\n",
       "\t\t<td>0.196528275174699</td>\n",
       "\t\t<td>0.337757362367158</td>\n",
       "\t\t<td>0</td>\n",
       "\t\t<td>-0.02042170696612689</td>\n",
       "\t\t<td>-0.17478383825134908</td>\n",
       "\t\t<td>-0.2195245446526588</td>\n",
       "\t\t<td>-0.07015392991043054</td>\n",
       "\t\t<td>0.5075000001219884</td>\n",
       "\t</tr>\n",
       "\t<tr>\n",
       "\t\t<td>-0.697767009551012</td>\n",
       "\t\t<td>2.3918078347398</td>\n",
       "\t\t<td>-0.470222449950579</td>\n",
       "\t\t<td>0.680153033261556</td>\n",
       "\t\t<td>1</td>\n",
       "\t\t<td>0.02224858337535854</td>\n",
       "\t\t<td>0.2102123731329647</td>\n",
       "\t\t<td>0.1876546274090518</td>\n",
       "\t\t<td>0.10991105244883527</td>\n",
       "\t\t<td>0.5075000001219884</td>\n",
       "\t</tr>\n",
       "\t<tr>\n",
       "\t\t<td>0.908225366310926</td>\n",
       "\t\t<td>-1.16923260998804</td>\n",
       "\t\t<td>0.295712076085351</td>\n",
       "\t\t<td>-0.0884667969477652</td>\n",
       "\t\t<td>0</td>\n",
       "\t\t<td>-0.024890698908048615</td>\n",
       "\t\t<td>-0.22123314864075572</td>\n",
       "\t\t<td>-0.20098226889845636</td>\n",
       "\t\t<td>-0.07463602482282394</td>\n",
       "\t\t<td>0.5075000001219884</td>\n",
       "\t</tr>\n",
       "\t<tr>\n",
       "\t\t<td>1.46768781760664</td>\n",
       "\t\t<td>-0.373959133431616</td>\n",
       "\t\t<td>0.231255161662991</td>\n",
       "\t\t<td>0.478241860805545</td>\n",
       "\t\t<td>0</td>\n",
       "\t\t<td>0.056130720716364</td>\n",
       "\t\t<td>-0.11726830536888427</td>\n",
       "\t\t<td>-0.225904690187823</td>\n",
       "\t\t<td>-0.14076596895704943</td>\n",
       "\t\t<td>0.5075000001219884</td>\n",
       "\t</tr>\n",
       "\t<tr>\n",
       "\t\t<td>0.599510804787902</td>\n",
       "\t\t<td>1.29890654949678</td>\n",
       "\t\t<td>-0.141761534378328</td>\n",
       "\t\t<td>0.790378168209106</td>\n",
       "\t\t<td>1</td>\n",
       "\t\t<td>0.03963988514556895</td>\n",
       "\t\t<td>0.21123058825505625</td>\n",
       "\t\t<td>0.11065501926119418</td>\n",
       "\t\t<td>0.10149995768495287</td>\n",
       "\t\t<td>0.5075000001219884</td>\n",
       "\t</tr>\n",
       "\t<tr>\n",
       "\t\t<td>1.4139639946904</td>\n",
       "\t\t<td>0.32934226567058</td>\n",
       "\t\t<td>0.110572077573417</td>\n",
       "\t\t<td>0.743405742245793</td>\n",
       "\t\t<td>0</td>\n",
       "\t\t<td>0.0008441299258880061</td>\n",
       "\t\t<td>0.18687670284763483</td>\n",
       "\t\t<td>-0.32118545959663547</td>\n",
       "\t\t<td>0.16265455137433787</td>\n",
       "\t\t<td>0.5075000001219884</td>\n",
       "\t</tr>\n",
       "\t<tr>\n",
       "\t\t<td>-1.87644811776867</td>\n",
       "\t\t<td>-1.04171963476974</td>\n",
       "\t\t<td>-0.0483451139882224</td>\n",
       "\t\t<td>-1.23440714105312</td>\n",
       "\t\t<td>0</td>\n",
       "\t\t<td>-0.1644513511900406</td>\n",
       "\t\t<td>-0.34977302838307955</td>\n",
       "\t\t<td>0.10377109462933694</td>\n",
       "\t\t<td>-0.16797120973479227</td>\n",
       "\t\t<td>0.5075000001219884</td>\n",
       "\t</tr>\n",
       "</table></html>"
      ],
      "text/plain": [
       "       col1      col2      col3      col4  label  booster_predict_1  booster_predict_2  booster_predict_3  booster_predict_4  booster_predict_5\n",
       "0  1.087219 -1.006162  0.289958  0.055394      0          -0.008336          -0.221125          -0.201134          -0.076055             0.5075\n",
       "1 -1.013454  0.855765 -0.256920 -0.085301      1           0.061109           0.218336           0.211791          -0.002357             0.5075\n",
       "2  1.458839  0.627871  0.067204  0.885081      1           0.004681           0.195964          -0.289179           0.328138             0.5075\n",
       "3  1.152278 -0.385592  0.196528  0.337757      0          -0.020422          -0.174784          -0.219525          -0.070154             0.5075\n",
       "4 -0.697767  2.391808 -0.470222  0.680153      1           0.022249           0.210212           0.187655           0.109911             0.5075\n",
       "5  0.908225 -1.169233  0.295712 -0.088467      0          -0.024891          -0.221233          -0.200982          -0.074636             0.5075\n",
       "6  1.467688 -0.373959  0.231255  0.478242      0           0.056131          -0.117268          -0.225905          -0.140766             0.5075\n",
       "7  0.599511  1.298907 -0.141762  0.790378      1           0.039640           0.211231           0.110655           0.101500             0.5075\n",
       "8  1.413964  0.329342  0.110572  0.743406      0           0.000844           0.186877          -0.321185           0.162655             0.5075\n",
       "9 -1.876448 -1.041720 -0.048345 -1.234407      0          -0.164451          -0.349773           0.103771          -0.167971             0.5075"
      ]
     },
     "execution_count": 69,
     "metadata": {},
     "output_type": "execute_result"
    }
   ],
   "source": [
    "# Predict on data residing in Vantage.\n",
    "opt_load_outside.predict(data=df_x, label=df_y, pred_contrib=True)"
   ]
  },
  {
   "cell_type": "markdown",
   "id": "27971c2d",
   "metadata": {},
   "source": [
    "<b style = 'font-size:24px;font-family:Arial;color:#E37C4D'>Train using sklearn classes</b>"
   ]
  },
  {
   "cell_type": "markdown",
   "id": "3adc2631",
   "metadata": {},
   "source": [
    "<b style = 'font-size:22px;font-family:Arial;color:#E37C4D'>Train locally</b>"
   ]
  },
  {
   "cell_type": "code",
   "execution_count": 70,
   "id": "bee5e1f1-4970-491f-b014-65d7a7dde4f6",
   "metadata": {},
   "outputs": [
    {
     "data": {
      "text/html": [
       "<style>#sk-container-id-30 {color: black;background-color: white;}#sk-container-id-30 pre{padding: 0;}#sk-container-id-30 div.sk-toggleable {background-color: white;}#sk-container-id-30 label.sk-toggleable__label {cursor: pointer;display: block;width: 100%;margin-bottom: 0;padding: 0.3em;box-sizing: border-box;text-align: center;}#sk-container-id-30 label.sk-toggleable__label-arrow:before {content: \"▸\";float: left;margin-right: 0.25em;color: #696969;}#sk-container-id-30 label.sk-toggleable__label-arrow:hover:before {color: black;}#sk-container-id-30 div.sk-estimator:hover label.sk-toggleable__label-arrow:before {color: black;}#sk-container-id-30 div.sk-toggleable__content {max-height: 0;max-width: 0;overflow: hidden;text-align: left;background-color: #f0f8ff;}#sk-container-id-30 div.sk-toggleable__content pre {margin: 0.2em;color: black;border-radius: 0.25em;background-color: #f0f8ff;}#sk-container-id-30 input.sk-toggleable__control:checked~div.sk-toggleable__content {max-height: 200px;max-width: 100%;overflow: auto;}#sk-container-id-30 input.sk-toggleable__control:checked~label.sk-toggleable__label-arrow:before {content: \"▾\";}#sk-container-id-30 div.sk-estimator input.sk-toggleable__control:checked~label.sk-toggleable__label {background-color: #d4ebff;}#sk-container-id-30 div.sk-label input.sk-toggleable__control:checked~label.sk-toggleable__label {background-color: #d4ebff;}#sk-container-id-30 input.sk-hidden--visually {border: 0;clip: rect(1px 1px 1px 1px);clip: rect(1px, 1px, 1px, 1px);height: 1px;margin: -1px;overflow: hidden;padding: 0;position: absolute;width: 1px;}#sk-container-id-30 div.sk-estimator {font-family: monospace;background-color: #f0f8ff;border: 1px dotted black;border-radius: 0.25em;box-sizing: border-box;margin-bottom: 0.5em;}#sk-container-id-30 div.sk-estimator:hover {background-color: #d4ebff;}#sk-container-id-30 div.sk-parallel-item::after {content: \"\";width: 100%;border-bottom: 1px solid gray;flex-grow: 1;}#sk-container-id-30 div.sk-label:hover label.sk-toggleable__label {background-color: #d4ebff;}#sk-container-id-30 div.sk-serial::before {content: \"\";position: absolute;border-left: 1px solid gray;box-sizing: border-box;top: 0;bottom: 0;left: 50%;z-index: 0;}#sk-container-id-30 div.sk-serial {display: flex;flex-direction: column;align-items: center;background-color: white;padding-right: 0.2em;padding-left: 0.2em;position: relative;}#sk-container-id-30 div.sk-item {position: relative;z-index: 1;}#sk-container-id-30 div.sk-parallel {display: flex;align-items: stretch;justify-content: center;background-color: white;position: relative;}#sk-container-id-30 div.sk-item::before, #sk-container-id-30 div.sk-parallel-item::before {content: \"\";position: absolute;border-left: 1px solid gray;box-sizing: border-box;top: 0;bottom: 0;left: 50%;z-index: -1;}#sk-container-id-30 div.sk-parallel-item {display: flex;flex-direction: column;z-index: 1;position: relative;background-color: white;}#sk-container-id-30 div.sk-parallel-item:first-child::after {align-self: flex-end;width: 50%;}#sk-container-id-30 div.sk-parallel-item:last-child::after {align-self: flex-start;width: 50%;}#sk-container-id-30 div.sk-parallel-item:only-child::after {width: 0;}#sk-container-id-30 div.sk-dashed-wrapped {border: 1px dashed gray;margin: 0 0.4em 0.5em 0.4em;box-sizing: border-box;padding-bottom: 0.4em;background-color: white;}#sk-container-id-30 div.sk-label label {font-family: monospace;font-weight: bold;display: inline-block;line-height: 1.2em;}#sk-container-id-30 div.sk-label-container {text-align: center;}#sk-container-id-30 div.sk-container {/* jupyter's `normalize.less` sets `[hidden] { display: none; }` but bootstrap.min.css set `[hidden] { display: none !important; }` so we also need the `!important` here to be able to override the default hidden behavior on the sphinx rendered scikit-learn.org. See: https://github.com/scikit-learn/scikit-learn/issues/21755 */display: inline-block !important;position: relative;}#sk-container-id-30 div.sk-text-repr-fallback {display: none;}</style><div id=\"sk-container-id-30\" class=\"sk-top-container\"><div class=\"sk-text-repr-fallback\"><pre>LGBMClassifier(learning_rate=0.01, n_estimators=10, num_leaves=5,\n",
       "               objective=&#x27;binary&#x27;)</pre><b>In a Jupyter environment, please rerun this cell to show the HTML representation or trust the notebook. <br />On GitHub, the HTML representation is unable to render, please try loading this page with nbviewer.org.</b></div><div class=\"sk-container\" hidden><div class=\"sk-item\"><div class=\"sk-estimator sk-toggleable\"><input class=\"sk-toggleable__control sk-hidden--visually\" id=\"sk-estimator-id-30\" type=\"checkbox\" checked><label for=\"sk-estimator-id-30\" class=\"sk-toggleable__label sk-toggleable__label-arrow\">LGBMClassifier</label><div class=\"sk-toggleable__content\"><pre>LGBMClassifier(learning_rate=0.01, n_estimators=10, num_leaves=5,\n",
       "               objective=&#x27;binary&#x27;)</pre></div></div></div></div></div>"
      ],
      "text/plain": [
       "LGBMClassifier(learning_rate=0.01, n_estimators=10, num_leaves=5,\n",
       "               objective='binary')"
      ]
     },
     "execution_count": 70,
     "metadata": {},
     "output_type": "execute_result"
    }
   ],
   "source": [
    "from lightgbm import LGBMClassifier\n",
    "local_obj = LGBMClassifier(num_leaves=5, objective=\"binary\", n_estimators=10, learning_rate=0.01)\n",
    "local_obj"
   ]
  },
  {
   "cell_type": "code",
   "execution_count": 71,
   "id": "0f4e8098-50d3-4918-adf7-bc3b09506335",
   "metadata": {},
   "outputs": [
    {
     "name": "stderr",
     "output_type": "stream",
     "text": [
      "/root/.virtualenvs/tdml_20_04/lib/python3.8/site-packages/sklearn/preprocessing/_label.py:98: DataConversionWarning: A column-vector y was passed when a 1d array was expected. Please change the shape of y to (n_samples, ), for example using ravel().\n",
      "  y = column_or_1d(y, warn=True)\n",
      "/root/.virtualenvs/tdml_20_04/lib/python3.8/site-packages/sklearn/preprocessing/_label.py:133: DataConversionWarning: A column-vector y was passed when a 1d array was expected. Please change the shape of y to (n_samples, ), for example using ravel().\n",
      "  y = column_or_1d(y, warn=True)\n"
     ]
    },
    {
     "data": {
      "text/html": [
       "<style>#sk-container-id-31 {color: black;background-color: white;}#sk-container-id-31 pre{padding: 0;}#sk-container-id-31 div.sk-toggleable {background-color: white;}#sk-container-id-31 label.sk-toggleable__label {cursor: pointer;display: block;width: 100%;margin-bottom: 0;padding: 0.3em;box-sizing: border-box;text-align: center;}#sk-container-id-31 label.sk-toggleable__label-arrow:before {content: \"▸\";float: left;margin-right: 0.25em;color: #696969;}#sk-container-id-31 label.sk-toggleable__label-arrow:hover:before {color: black;}#sk-container-id-31 div.sk-estimator:hover label.sk-toggleable__label-arrow:before {color: black;}#sk-container-id-31 div.sk-toggleable__content {max-height: 0;max-width: 0;overflow: hidden;text-align: left;background-color: #f0f8ff;}#sk-container-id-31 div.sk-toggleable__content pre {margin: 0.2em;color: black;border-radius: 0.25em;background-color: #f0f8ff;}#sk-container-id-31 input.sk-toggleable__control:checked~div.sk-toggleable__content {max-height: 200px;max-width: 100%;overflow: auto;}#sk-container-id-31 input.sk-toggleable__control:checked~label.sk-toggleable__label-arrow:before {content: \"▾\";}#sk-container-id-31 div.sk-estimator input.sk-toggleable__control:checked~label.sk-toggleable__label {background-color: #d4ebff;}#sk-container-id-31 div.sk-label input.sk-toggleable__control:checked~label.sk-toggleable__label {background-color: #d4ebff;}#sk-container-id-31 input.sk-hidden--visually {border: 0;clip: rect(1px 1px 1px 1px);clip: rect(1px, 1px, 1px, 1px);height: 1px;margin: -1px;overflow: hidden;padding: 0;position: absolute;width: 1px;}#sk-container-id-31 div.sk-estimator {font-family: monospace;background-color: #f0f8ff;border: 1px dotted black;border-radius: 0.25em;box-sizing: border-box;margin-bottom: 0.5em;}#sk-container-id-31 div.sk-estimator:hover {background-color: #d4ebff;}#sk-container-id-31 div.sk-parallel-item::after {content: \"\";width: 100%;border-bottom: 1px solid gray;flex-grow: 1;}#sk-container-id-31 div.sk-label:hover label.sk-toggleable__label {background-color: #d4ebff;}#sk-container-id-31 div.sk-serial::before {content: \"\";position: absolute;border-left: 1px solid gray;box-sizing: border-box;top: 0;bottom: 0;left: 50%;z-index: 0;}#sk-container-id-31 div.sk-serial {display: flex;flex-direction: column;align-items: center;background-color: white;padding-right: 0.2em;padding-left: 0.2em;position: relative;}#sk-container-id-31 div.sk-item {position: relative;z-index: 1;}#sk-container-id-31 div.sk-parallel {display: flex;align-items: stretch;justify-content: center;background-color: white;position: relative;}#sk-container-id-31 div.sk-item::before, #sk-container-id-31 div.sk-parallel-item::before {content: \"\";position: absolute;border-left: 1px solid gray;box-sizing: border-box;top: 0;bottom: 0;left: 50%;z-index: -1;}#sk-container-id-31 div.sk-parallel-item {display: flex;flex-direction: column;z-index: 1;position: relative;background-color: white;}#sk-container-id-31 div.sk-parallel-item:first-child::after {align-self: flex-end;width: 50%;}#sk-container-id-31 div.sk-parallel-item:last-child::after {align-self: flex-start;width: 50%;}#sk-container-id-31 div.sk-parallel-item:only-child::after {width: 0;}#sk-container-id-31 div.sk-dashed-wrapped {border: 1px dashed gray;margin: 0 0.4em 0.5em 0.4em;box-sizing: border-box;padding-bottom: 0.4em;background-color: white;}#sk-container-id-31 div.sk-label label {font-family: monospace;font-weight: bold;display: inline-block;line-height: 1.2em;}#sk-container-id-31 div.sk-label-container {text-align: center;}#sk-container-id-31 div.sk-container {/* jupyter's `normalize.less` sets `[hidden] { display: none; }` but bootstrap.min.css set `[hidden] { display: none !important; }` so we also need the `!important` here to be able to override the default hidden behavior on the sphinx rendered scikit-learn.org. See: https://github.com/scikit-learn/scikit-learn/issues/21755 */display: inline-block !important;position: relative;}#sk-container-id-31 div.sk-text-repr-fallback {display: none;}</style><div id=\"sk-container-id-31\" class=\"sk-top-container\"><div class=\"sk-text-repr-fallback\"><pre>LGBMClassifier(learning_rate=0.01, n_estimators=10, num_leaves=5,\n",
       "               objective=&#x27;binary&#x27;)</pre><b>In a Jupyter environment, please rerun this cell to show the HTML representation or trust the notebook. <br />On GitHub, the HTML representation is unable to render, please try loading this page with nbviewer.org.</b></div><div class=\"sk-container\" hidden><div class=\"sk-item\"><div class=\"sk-estimator sk-toggleable\"><input class=\"sk-toggleable__control sk-hidden--visually\" id=\"sk-estimator-id-31\" type=\"checkbox\" checked><label for=\"sk-estimator-id-31\" class=\"sk-toggleable__label sk-toggleable__label-arrow\">LGBMClassifier</label><div class=\"sk-toggleable__content\"><pre>LGBMClassifier(learning_rate=0.01, n_estimators=10, num_leaves=5,\n",
       "               objective=&#x27;binary&#x27;)</pre></div></div></div></div></div>"
      ],
      "text/plain": [
       "LGBMClassifier(learning_rate=0.01, n_estimators=10, num_leaves=5,\n",
       "               objective='binary')"
      ]
     },
     "execution_count": 71,
     "metadata": {},
     "output_type": "execute_result"
    }
   ],
   "source": [
    "local_obj.fit(pdf_x, pdf_y)"
   ]
  },
  {
   "cell_type": "code",
   "execution_count": 72,
   "id": "2922378d-0139-4c18-968e-f06a98a5338d",
   "metadata": {},
   "outputs": [
    {
     "data": {
      "text/plain": [
       "lightgbm.sklearn.LGBMClassifier"
      ]
     },
     "execution_count": 72,
     "metadata": {},
     "output_type": "execute_result"
    }
   ],
   "source": [
    "type(local_obj)"
   ]
  },
  {
   "cell_type": "markdown",
   "id": "73de523c",
   "metadata": {},
   "source": [
    "<b style = 'font-size:22px;font-family:Arial;color:#E37C4D'>Deploy</b>"
   ]
  },
  {
   "cell_type": "code",
   "execution_count": 73,
   "id": "535c47c4-7c15-42fc-a0bb-ea06e9a3318f",
   "metadata": {},
   "outputs": [
    {
     "name": "stdout",
     "output_type": "stream",
     "text": [
      "Model is saved.\n"
     ]
    }
   ],
   "source": [
    "skl_deploy = td_lightgbm.deploy(model_name=\"skl_model_trained_outside_vantage\", model=local_obj)"
   ]
  },
  {
   "cell_type": "code",
   "execution_count": 74,
   "id": "029a4974-3196-400c-9303-a7f6e4359176",
   "metadata": {},
   "outputs": [
    {
     "data": {
      "text/html": [
       "<style>#sk-container-id-32 {color: black;background-color: white;}#sk-container-id-32 pre{padding: 0;}#sk-container-id-32 div.sk-toggleable {background-color: white;}#sk-container-id-32 label.sk-toggleable__label {cursor: pointer;display: block;width: 100%;margin-bottom: 0;padding: 0.3em;box-sizing: border-box;text-align: center;}#sk-container-id-32 label.sk-toggleable__label-arrow:before {content: \"▸\";float: left;margin-right: 0.25em;color: #696969;}#sk-container-id-32 label.sk-toggleable__label-arrow:hover:before {color: black;}#sk-container-id-32 div.sk-estimator:hover label.sk-toggleable__label-arrow:before {color: black;}#sk-container-id-32 div.sk-toggleable__content {max-height: 0;max-width: 0;overflow: hidden;text-align: left;background-color: #f0f8ff;}#sk-container-id-32 div.sk-toggleable__content pre {margin: 0.2em;color: black;border-radius: 0.25em;background-color: #f0f8ff;}#sk-container-id-32 input.sk-toggleable__control:checked~div.sk-toggleable__content {max-height: 200px;max-width: 100%;overflow: auto;}#sk-container-id-32 input.sk-toggleable__control:checked~label.sk-toggleable__label-arrow:before {content: \"▾\";}#sk-container-id-32 div.sk-estimator input.sk-toggleable__control:checked~label.sk-toggleable__label {background-color: #d4ebff;}#sk-container-id-32 div.sk-label input.sk-toggleable__control:checked~label.sk-toggleable__label {background-color: #d4ebff;}#sk-container-id-32 input.sk-hidden--visually {border: 0;clip: rect(1px 1px 1px 1px);clip: rect(1px, 1px, 1px, 1px);height: 1px;margin: -1px;overflow: hidden;padding: 0;position: absolute;width: 1px;}#sk-container-id-32 div.sk-estimator {font-family: monospace;background-color: #f0f8ff;border: 1px dotted black;border-radius: 0.25em;box-sizing: border-box;margin-bottom: 0.5em;}#sk-container-id-32 div.sk-estimator:hover {background-color: #d4ebff;}#sk-container-id-32 div.sk-parallel-item::after {content: \"\";width: 100%;border-bottom: 1px solid gray;flex-grow: 1;}#sk-container-id-32 div.sk-label:hover label.sk-toggleable__label {background-color: #d4ebff;}#sk-container-id-32 div.sk-serial::before {content: \"\";position: absolute;border-left: 1px solid gray;box-sizing: border-box;top: 0;bottom: 0;left: 50%;z-index: 0;}#sk-container-id-32 div.sk-serial {display: flex;flex-direction: column;align-items: center;background-color: white;padding-right: 0.2em;padding-left: 0.2em;position: relative;}#sk-container-id-32 div.sk-item {position: relative;z-index: 1;}#sk-container-id-32 div.sk-parallel {display: flex;align-items: stretch;justify-content: center;background-color: white;position: relative;}#sk-container-id-32 div.sk-item::before, #sk-container-id-32 div.sk-parallel-item::before {content: \"\";position: absolute;border-left: 1px solid gray;box-sizing: border-box;top: 0;bottom: 0;left: 50%;z-index: -1;}#sk-container-id-32 div.sk-parallel-item {display: flex;flex-direction: column;z-index: 1;position: relative;background-color: white;}#sk-container-id-32 div.sk-parallel-item:first-child::after {align-self: flex-end;width: 50%;}#sk-container-id-32 div.sk-parallel-item:last-child::after {align-self: flex-start;width: 50%;}#sk-container-id-32 div.sk-parallel-item:only-child::after {width: 0;}#sk-container-id-32 div.sk-dashed-wrapped {border: 1px dashed gray;margin: 0 0.4em 0.5em 0.4em;box-sizing: border-box;padding-bottom: 0.4em;background-color: white;}#sk-container-id-32 div.sk-label label {font-family: monospace;font-weight: bold;display: inline-block;line-height: 1.2em;}#sk-container-id-32 div.sk-label-container {text-align: center;}#sk-container-id-32 div.sk-container {/* jupyter's `normalize.less` sets `[hidden] { display: none; }` but bootstrap.min.css set `[hidden] { display: none !important; }` so we also need the `!important` here to be able to override the default hidden behavior on the sphinx rendered scikit-learn.org. See: https://github.com/scikit-learn/scikit-learn/issues/21755 */display: inline-block !important;position: relative;}#sk-container-id-32 div.sk-text-repr-fallback {display: none;}</style><div id=\"sk-container-id-32\" class=\"sk-top-container\"><div class=\"sk-text-repr-fallback\"><pre>LGBMClassifier(learning_rate=0.01, n_estimators=10, num_leaves=5,\n",
       "               objective=&#x27;binary&#x27;)</pre><b>In a Jupyter environment, please rerun this cell to show the HTML representation or trust the notebook. <br />On GitHub, the HTML representation is unable to render, please try loading this page with nbviewer.org.</b></div><div class=\"sk-container\" hidden><div class=\"sk-item\"><div class=\"sk-estimator sk-toggleable\"><input class=\"sk-toggleable__control sk-hidden--visually\" id=\"sk-estimator-id-32\" type=\"checkbox\" checked><label for=\"sk-estimator-id-32\" class=\"sk-toggleable__label sk-toggleable__label-arrow\">LGBMClassifier</label><div class=\"sk-toggleable__content\"><pre>LGBMClassifier(learning_rate=0.01, n_estimators=10, num_leaves=5,\n",
       "               objective=&#x27;binary&#x27;)</pre></div></div></div></div></div>"
      ],
      "text/plain": [
       "LGBMClassifier(learning_rate=0.01, n_estimators=10, num_leaves=5,\n",
       "               objective='binary')"
      ]
     },
     "execution_count": 74,
     "metadata": {},
     "output_type": "execute_result"
    }
   ],
   "source": [
    "skl_deploy"
   ]
  },
  {
   "cell_type": "code",
   "execution_count": 75,
   "id": "b99c6091-f01a-4803-8a98-32328bdaef8d",
   "metadata": {},
   "outputs": [
    {
     "data": {
      "text/plain": [
       "teradataml.opensource._lightgbm._LightgbmSklearnWrapper"
      ]
     },
     "execution_count": 75,
     "metadata": {},
     "output_type": "execute_result"
    }
   ],
   "source": [
    "type(skl_deploy)"
   ]
  },
  {
   "cell_type": "markdown",
   "id": "d1a3ec6a",
   "metadata": {},
   "source": [
    "<b style = 'font-size:22px;font-family:Arial;color:#E37C4D'>Load</b>"
   ]
  },
  {
   "cell_type": "code",
   "execution_count": 76,
   "id": "03368c84-6bff-4bf5-b063-7586e18927ce",
   "metadata": {},
   "outputs": [
    {
     "data": {
      "text/html": [
       "<style>#sk-container-id-33 {color: black;background-color: white;}#sk-container-id-33 pre{padding: 0;}#sk-container-id-33 div.sk-toggleable {background-color: white;}#sk-container-id-33 label.sk-toggleable__label {cursor: pointer;display: block;width: 100%;margin-bottom: 0;padding: 0.3em;box-sizing: border-box;text-align: center;}#sk-container-id-33 label.sk-toggleable__label-arrow:before {content: \"▸\";float: left;margin-right: 0.25em;color: #696969;}#sk-container-id-33 label.sk-toggleable__label-arrow:hover:before {color: black;}#sk-container-id-33 div.sk-estimator:hover label.sk-toggleable__label-arrow:before {color: black;}#sk-container-id-33 div.sk-toggleable__content {max-height: 0;max-width: 0;overflow: hidden;text-align: left;background-color: #f0f8ff;}#sk-container-id-33 div.sk-toggleable__content pre {margin: 0.2em;color: black;border-radius: 0.25em;background-color: #f0f8ff;}#sk-container-id-33 input.sk-toggleable__control:checked~div.sk-toggleable__content {max-height: 200px;max-width: 100%;overflow: auto;}#sk-container-id-33 input.sk-toggleable__control:checked~label.sk-toggleable__label-arrow:before {content: \"▾\";}#sk-container-id-33 div.sk-estimator input.sk-toggleable__control:checked~label.sk-toggleable__label {background-color: #d4ebff;}#sk-container-id-33 div.sk-label input.sk-toggleable__control:checked~label.sk-toggleable__label {background-color: #d4ebff;}#sk-container-id-33 input.sk-hidden--visually {border: 0;clip: rect(1px 1px 1px 1px);clip: rect(1px, 1px, 1px, 1px);height: 1px;margin: -1px;overflow: hidden;padding: 0;position: absolute;width: 1px;}#sk-container-id-33 div.sk-estimator {font-family: monospace;background-color: #f0f8ff;border: 1px dotted black;border-radius: 0.25em;box-sizing: border-box;margin-bottom: 0.5em;}#sk-container-id-33 div.sk-estimator:hover {background-color: #d4ebff;}#sk-container-id-33 div.sk-parallel-item::after {content: \"\";width: 100%;border-bottom: 1px solid gray;flex-grow: 1;}#sk-container-id-33 div.sk-label:hover label.sk-toggleable__label {background-color: #d4ebff;}#sk-container-id-33 div.sk-serial::before {content: \"\";position: absolute;border-left: 1px solid gray;box-sizing: border-box;top: 0;bottom: 0;left: 50%;z-index: 0;}#sk-container-id-33 div.sk-serial {display: flex;flex-direction: column;align-items: center;background-color: white;padding-right: 0.2em;padding-left: 0.2em;position: relative;}#sk-container-id-33 div.sk-item {position: relative;z-index: 1;}#sk-container-id-33 div.sk-parallel {display: flex;align-items: stretch;justify-content: center;background-color: white;position: relative;}#sk-container-id-33 div.sk-item::before, #sk-container-id-33 div.sk-parallel-item::before {content: \"\";position: absolute;border-left: 1px solid gray;box-sizing: border-box;top: 0;bottom: 0;left: 50%;z-index: -1;}#sk-container-id-33 div.sk-parallel-item {display: flex;flex-direction: column;z-index: 1;position: relative;background-color: white;}#sk-container-id-33 div.sk-parallel-item:first-child::after {align-self: flex-end;width: 50%;}#sk-container-id-33 div.sk-parallel-item:last-child::after {align-self: flex-start;width: 50%;}#sk-container-id-33 div.sk-parallel-item:only-child::after {width: 0;}#sk-container-id-33 div.sk-dashed-wrapped {border: 1px dashed gray;margin: 0 0.4em 0.5em 0.4em;box-sizing: border-box;padding-bottom: 0.4em;background-color: white;}#sk-container-id-33 div.sk-label label {font-family: monospace;font-weight: bold;display: inline-block;line-height: 1.2em;}#sk-container-id-33 div.sk-label-container {text-align: center;}#sk-container-id-33 div.sk-container {/* jupyter's `normalize.less` sets `[hidden] { display: none; }` but bootstrap.min.css set `[hidden] { display: none !important; }` so we also need the `!important` here to be able to override the default hidden behavior on the sphinx rendered scikit-learn.org. See: https://github.com/scikit-learn/scikit-learn/issues/21755 */display: inline-block !important;position: relative;}#sk-container-id-33 div.sk-text-repr-fallback {display: none;}</style><div id=\"sk-container-id-33\" class=\"sk-top-container\"><div class=\"sk-text-repr-fallback\"><pre>LGBMClassifier(learning_rate=0.01, n_estimators=10, num_leaves=5,\n",
       "               objective=&#x27;binary&#x27;)</pre><b>In a Jupyter environment, please rerun this cell to show the HTML representation or trust the notebook. <br />On GitHub, the HTML representation is unable to render, please try loading this page with nbviewer.org.</b></div><div class=\"sk-container\" hidden><div class=\"sk-item\"><div class=\"sk-estimator sk-toggleable\"><input class=\"sk-toggleable__control sk-hidden--visually\" id=\"sk-estimator-id-33\" type=\"checkbox\" checked><label for=\"sk-estimator-id-33\" class=\"sk-toggleable__label sk-toggleable__label-arrow\">LGBMClassifier</label><div class=\"sk-toggleable__content\"><pre>LGBMClassifier(learning_rate=0.01, n_estimators=10, num_leaves=5,\n",
       "               objective=&#x27;binary&#x27;)</pre></div></div></div></div></div>"
      ],
      "text/plain": [
       "LGBMClassifier(learning_rate=0.01, n_estimators=10, num_leaves=5,\n",
       "               objective='binary')"
      ]
     },
     "execution_count": 76,
     "metadata": {},
     "output_type": "execute_result"
    }
   ],
   "source": [
    "skl_load = td_lightgbm.load(\"skl_model_trained_outside_vantage\")\n",
    "skl_load"
   ]
  },
  {
   "cell_type": "code",
   "execution_count": 77,
   "id": "992e4856-69e9-4da3-acac-a2f9b70f3d3e",
   "metadata": {},
   "outputs": [
    {
     "data": {
      "application/vnd.jupyter.widget-view+json": {
       "model_id": "95a8cbce9da84024b72391107938d76b",
       "version_major": 2,
       "version_minor": 0
      },
      "text/plain": []
     },
     "metadata": {},
     "output_type": "display_data"
    },
    {
     "data": {
      "text/html": [
       "<style type=\"text/css\">\n",
       "\ttable { border:ridge 5px}\n",
       "\ttable td {border:inset 1px;}\n",
       "\ttable tr#HeaderRow {background-color:grey; color:white;}\n",
       "\t</style>\n",
       "<html><table style=\"min-width:1000px;\">\n",
       "\t<tr id=\"HeaderRow\">\n",
       "<th>col1</th><th>col2</th><th>col3</th><th>col4</th><th>lgbmclassifier_predict_1</th>\n",
       "</tr>\n",
       "\t<tr>\n",
       "\t\t<td>0.140351620495199</td>\n",
       "\t\t<td>-0.667007351250991</td>\n",
       "\t\t<td>0.124834790512454</td>\n",
       "\t\t<td>-0.213012319733515</td>\n",
       "\t\t<td>0</td>\n",
       "\t</tr>\n",
       "\t<tr>\n",
       "\t\t<td>-1.21731323571577</td>\n",
       "\t\t<td>-0.750997387220421</td>\n",
       "\t\t<td>-0.0191260717151705</td>\n",
       "\t\t<td>-0.83162437457057</td>\n",
       "\t\t<td>1</td>\n",
       "\t</tr>\n",
       "\t<tr>\n",
       "\t\t<td>1.13813152232889</td>\n",
       "\t\t<td>-0.257627247407291</td>\n",
       "\t\t<td>0.174062606457366</td>\n",
       "\t\t<td>0.384122223783585</td>\n",
       "\t\t<td>0</td>\n",
       "\t</tr>\n",
       "\t<tr>\n",
       "\t\t<td>-0.440338894029492</td>\n",
       "\t\t<td>2.29067598200844</td>\n",
       "\t\t<td>-0.42387759957544</td>\n",
       "\t\t<td>0.749467322701779</td>\n",
       "\t\t<td>1</td>\n",
       "\t</tr>\n",
       "\t<tr>\n",
       "\t\t<td>0.957701697830466</td>\n",
       "\t\t<td>-1.4105675310624</td>\n",
       "\t\t<td>0.340727932762679</td>\n",
       "\t\t<td>-0.166100047921912</td>\n",
       "\t\t<td>0</td>\n",
       "\t</tr>\n",
       "\t<tr>\n",
       "\t\t<td>0.191240730419773</td>\n",
       "\t\t<td>1.97100133015377</td>\n",
       "\t\t<td>-0.298530178457708</td>\n",
       "\t\t<td>0.890194110648821</td>\n",
       "\t\t<td>1</td>\n",
       "\t</tr>\n",
       "\t<tr>\n",
       "\t\t<td>-1.09939360645383</td>\n",
       "\t\t<td>0.871762881447565</td>\n",
       "\t\t<td>-0.269501041371075</td>\n",
       "\t\t<td>-0.115722005478974</td>\n",
       "\t\t<td>1</td>\n",
       "\t</tr>\n",
       "\t<tr>\n",
       "\t\t<td>-1.32949774623385</td>\n",
       "\t\t<td>-1.509881753279</td>\n",
       "\t\t<td>0.0913394535664962</td>\n",
       "\t\t<td>-1.19095961550441</td>\n",
       "\t\t<td>0</td>\n",
       "\t</tr>\n",
       "\t<tr>\n",
       "\t\t<td>1.01425780621963</td>\n",
       "\t\t<td>-1.06308839279554</td>\n",
       "\t\t<td>0.290750251760953</td>\n",
       "\t\t<td>0.000665634132343107</td>\n",
       "\t\t<td>0</td>\n",
       "\t</tr>\n",
       "\t<tr>\n",
       "\t\t<td>0.241997124883449</td>\n",
       "\t\t<td>1.92001797333299</td>\n",
       "\t\t<td>-0.284340903890614</td>\n",
       "\t\t<td>0.891136021839347</td>\n",
       "\t\t<td>1</td>\n",
       "\t</tr>\n",
       "</table></html>"
      ],
      "text/plain": [
       "       col1      col2      col3      col4  lgbmclassifier_predict_1\n",
       "0  0.140352 -0.667007  0.124835 -0.213012                         0\n",
       "1 -1.217313 -0.750997 -0.019126 -0.831624                         1\n",
       "2  1.138132 -0.257627  0.174063  0.384122                         0\n",
       "3 -0.440339  2.290676 -0.423878  0.749467                         1\n",
       "4  0.957702 -1.410568  0.340728 -0.166100                         0\n",
       "5  0.191241  1.971001 -0.298530  0.890194                         1\n",
       "6 -1.099394  0.871763 -0.269501 -0.115722                         1\n",
       "7 -1.329498 -1.509882  0.091339 -1.190960                         0\n",
       "8  1.014258 -1.063088  0.290750  0.000666                         0\n",
       "9  0.241997  1.920018 -0.284341  0.891136                         1"
      ]
     },
     "execution_count": 77,
     "metadata": {},
     "output_type": "execute_result"
    }
   ],
   "source": [
    "# Predict on data residing in Vantage.\n",
    "skl_load.predict(df_x)"
   ]
  },
  {
   "cell_type": "markdown",
   "id": "92c068a7",
   "metadata": {},
   "source": [
    "<b style = 'font-size:28px;font-family:Arial;color:#E37C4D'>Remove connection</b>"
   ]
  },
  {
   "cell_type": "code",
   "execution_count": 78,
   "id": "2625b6ef-e8a0-43e0-8fc6-a32def4e419d",
   "metadata": {},
   "outputs": [
    {
     "data": {
      "text/plain": [
       "True"
      ]
     },
     "execution_count": 78,
     "metadata": {},
     "output_type": "execute_result"
    }
   ],
   "source": [
    "remove_context()"
   ]
  }
 ],
 "metadata": {
  "kernelspec": {
   "display_name": "Python 3 (ipykernel)",
   "language": "python",
   "name": "python3"
  },
  "language_info": {
   "codemirror_mode": {
    "name": "ipython",
    "version": 3
   },
   "file_extension": ".py",
   "mimetype": "text/x-python",
   "name": "python",
   "nbconvert_exporter": "python",
   "pygments_lexer": "ipython3",
   "version": "3.8.19"
  }
 },
 "nbformat": 4,
 "nbformat_minor": 5
}
