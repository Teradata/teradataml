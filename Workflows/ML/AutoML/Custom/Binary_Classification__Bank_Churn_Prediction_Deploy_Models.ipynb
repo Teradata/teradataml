{
 "cells": [
  {
   "cell_type": "markdown",
   "id": "2762f1d8-5a66-411f-a625-34cf16ac6dd3",
   "metadata": {},
   "source": [
    "# <b><span style='color:#F1A424'>AutoML - Binary Classification - Bank Churn Prediction </span> </b>"
   ]
  },
  {
   "cell_type": "markdown",
   "id": "d34a0853-fad0-4354-bcb7-737ebae0e97f",
   "metadata": {},
   "source": [
    "### Disclaimer\n",
    "Please note, the Vantage Functions via SQLAlchemy feature is a preview/beta code release with limited functionality (the “Code”). As such, you acknowledge that the Code is experimental in nature and that the Code is provided “AS IS” and may not be functional on any machine or in any environment. TERADATA DISCLAIMS ALL WARRANTIES RELATING TO THE CODE, EXPRESS OR IMPLIED, INCLUDING, BUT NOT LIMITED TO, ANY WARRANTIES AGAINST INFRINGEMENT OF THIRD-PARTY RIGHTS, MERCHANTABILITY AND FITNESS FOR A PARTICULAR PURPOSE.\n",
    "\n",
    "TERADATA SHALL NOT BE RESPONSIBLE OR LIABLE WITH RESPECT TO ANY SUBJECT MATTER OF THE CODE UNDER ANY CONTRACT, NEGLIGENCE, STRICT LIABILITY OR OTHER THEORY \n",
    "    (A) FOR LOSS OR INACCURACY OF DATA OR COST OF PROCUREMENT OF SUBSTITUTE GOODS, SERVICES OR TECHNOLOGY, OR \n",
    "    (B) FOR ANY INDIRECT, INCIDENTAL OR CONSEQUENTIAL DAMAGES INCLUDING, BUT NOT LIMITED TO LOSS OF REVENUES AND LOSS OF PROFITS. TERADATA SHALL NOT BE RESPONSIBLE FOR ANY MATTER BEYOND ITS REASONABLE CONTROL.\n",
    "\n",
    "Notwithstanding anything to the contrary: \n",
    "    (a) Teradata will have no obligation of any kind with respect to any Code-related comments, suggestions, design changes or improvements that you elect to provide to Teradata in either verbal or written form (collectively, “Feedback”), and \n",
    "    (b) Teradata and its affiliates are hereby free to use any ideas, concepts, know-how or techniques, in whole or in part, contained in Feedback: \n",
    "        (i) for any purpose whatsoever, including developing, manufacturing, and/or marketing products and/or services incorporating Feedback in whole or in part, and \n",
    "        (ii) without any restrictions or limitations, including requiring the payment of any license fees, royalties, or other consideration. "
   ]
  },
  {
   "cell_type": "markdown",
   "id": "f225fb94-b2c8-4c92-af38-733d08e0e2a1",
   "metadata": {},
   "source": [
    "## <b> Problem overview:</b>\n",
    "    "
   ]
  },
  {
   "cell_type": "markdown",
   "id": "af9813eb-9c44-4968-a5fe-d1c74415c894",
   "metadata": {},
   "source": [
    "**Dataset used - Bank Churn Dataset**\n",
    "\n",
    "**Features**:\n",
    "\n",
    "- `customer_id`: customer_id .\n",
    "- `credit_score`: credit score of customer.\n",
    "- `country`: country of customer.\n",
    "- `gender`: Gender of customer.\n",
    "- `age`: Age of customer.\n",
    "- `tenure`: tenure.\n",
    "- `balance`: bank balance.\n",
    "- `products_number`: products number.\n",
    "- `credit_card`: having credit card or not.\n",
    "- `active_member`: active member or not.\n",
    "- `estimated_salary`: Estimated salary of customer..\n",
    "\n",
    "**Target Variable**:\n",
    "\n",
    "- `churn`: 1 if the client has left the bank during some period or 0 if he/she has not.\n",
    "\n",
    "        \n",
    "**Objective**:\n",
    "\n",
    "The primary objective is typically to build a model that can accurately predict the Customer Churn for ABC Bank.\n",
    "\n",
    "**Usecase**:\n",
    "\n",
    "Here, we will use AutoML(Automated Machine Learning) functionality to automate the entire process of developing a predictive model. It will perform feature exploration, feature engineering, data preparation, model training and evaluation on dataset in custom run and at end we will get leaderboard containined different models along with their performance. Model will also have rank associated with them which indicates which is best performing model for given data followed by other models.\n",
    "\n",
    "As part of custom AutoML run, we will customize below functionalities:\n",
    "- Binning on 'Age' feature :\n",
    "    - Aim is to treat 'Age' as categorical variable rather than numerical and check how different age group people will impact prediction.\n",
    "- Target encoding on 'gender' feature :\n",
    "    - Aim is to get gender feature encoded with help of target column distribution rather than default encoding i.e., one-hot encoding.\n",
    "- Deletion of id column 'customer_id' using antiselect.\n",
    "- Feature scaling using 'std' method. "
   ]
  },
  {
   "cell_type": "code",
   "execution_count": 1,
   "id": "66568348-4d00-477c-a071-17995f797c95",
   "metadata": {},
   "outputs": [],
   "source": [
    "# Importing AutoML from teradataml\n",
    "from teradataml import AutoML, AutoClassifier"
   ]
  },
  {
   "cell_type": "code",
   "execution_count": 2,
   "id": "17dfae70-0401-4cc4-ba1c-400a5cf62451",
   "metadata": {},
   "outputs": [],
   "source": [
    "# Importing other important libraries\n",
    "import getpass\n",
    "from teradataml import create_context, remove_context\n",
    "from teradataml import DataFrame\n",
    "from teradataml import load_example_data\n",
    "from teradataml import TrainTestSplit"
   ]
  },
  {
   "cell_type": "code",
   "execution_count": 3,
   "id": "cadd9ed2-42d6-4899-b23e-4e2cf601162f",
   "metadata": {},
   "outputs": [
    {
     "name": "stdin",
     "output_type": "stream",
     "text": [
      "Host:  ········\n",
      "Username:  ········\n",
      "Password:  ········\n"
     ]
    }
   ],
   "source": [
    "# Create the connection.\n",
    "host = getpass.getpass(\"Host: \")\n",
    "username = getpass.getpass(\"Username: \")\n",
    "password = getpass.getpass(\"Password: \")\n",
    "\n",
    "con = create_context(host=host, username=username, password=password)"
   ]
  },
  {
   "cell_type": "markdown",
   "id": "be767a89-d5b8-4876-91cb-36980754586e",
   "metadata": {},
   "source": [
    "## <b><span style='color:#F1A424'>| 1.</span> Loading Dataset </b>"
   ]
  },
  {
   "cell_type": "code",
   "execution_count": 4,
   "id": "f1592c52-b247-4792-be2a-30b49bbeb9b6",
   "metadata": {},
   "outputs": [],
   "source": [
    "# Loading dataset from example data collection\n",
    "load_example_data('teradataml','bank_churn')"
   ]
  },
  {
   "cell_type": "code",
   "execution_count": 5,
   "id": "3846ae0f-004b-4b8e-9fea-06fac4294065",
   "metadata": {},
   "outputs": [],
   "source": [
    "# Fetching in teradata dataframe\n",
    "bank_df = DataFrame(\"bank_churn\")"
   ]
  },
  {
   "cell_type": "code",
   "execution_count": 6,
   "id": "442ccd80-b444-413e-970d-d855ec3d6cae",
   "metadata": {},
   "outputs": [
    {
     "data": {
      "text/html": [
       "<style type=\"text/css\">\n",
       "\ttable {border:ridge 5px;}\n",
       "\ttable td {border:inset 1px;}\n",
       "\ttable tr#HeaderRow {background-color:grey; color:white;}</style>\n",
       "<html><table>\n",
       "\t<tr id=\"HeaderRow\">\n",
       "\t\t<th>customer_id</th>\n",
       "\t\t<th>credit_score</th>\n",
       "\t\t<th>country</th>\n",
       "\t\t<th>gender</th>\n",
       "\t\t<th>age</th>\n",
       "\t\t<th>tenure</th>\n",
       "\t\t<th>balance</th>\n",
       "\t\t<th>products_number</th>\n",
       "\t\t<th>credit_card</th>\n",
       "\t\t<th>active_member</th>\n",
       "\t\t<th>estimated_salary</th>\n",
       "\t\t<th>churn</th>\n",
       "\t</tr>\n",
       "\t<tr>\n",
       "\t\t<td>15565714</td>\n",
       "\t\t<td>601</td>\n",
       "\t\t<td>France</td>\n",
       "\t\t<td>Male</td>\n",
       "\t\t<td>47</td>\n",
       "\t\t<td>1</td>\n",
       "\t\t<td>64430.06</td>\n",
       "\t\t<td>2</td>\n",
       "\t\t<td>0</td>\n",
       "\t\t<td>1</td>\n",
       "\t\t<td>96517.97</td>\n",
       "\t\t<td>0</td>\n",
       "\t</tr>\n",
       "\t<tr>\n",
       "\t\t<td>15565796</td>\n",
       "\t\t<td>745</td>\n",
       "\t\t<td>Germany</td>\n",
       "\t\t<td>Male</td>\n",
       "\t\t<td>48</td>\n",
       "\t\t<td>10</td>\n",
       "\t\t<td>96048.55</td>\n",
       "\t\t<td>1</td>\n",
       "\t\t<td>1</td>\n",
       "\t\t<td>0</td>\n",
       "\t\t<td>74510.65</td>\n",
       "\t\t<td>0</td>\n",
       "\t</tr>\n",
       "\t<tr>\n",
       "\t\t<td>15565806</td>\n",
       "\t\t<td>532</td>\n",
       "\t\t<td>France</td>\n",
       "\t\t<td>Male</td>\n",
       "\t\t<td>38</td>\n",
       "\t\t<td>9</td>\n",
       "\t\t<td>0.0</td>\n",
       "\t\t<td>2</td>\n",
       "\t\t<td>0</td>\n",
       "\t\t<td>0</td>\n",
       "\t\t<td>30583.95</td>\n",
       "\t\t<td>0</td>\n",
       "\t</tr>\n",
       "\t<tr>\n",
       "\t\t<td>15565878</td>\n",
       "\t\t<td>631</td>\n",
       "\t\t<td>Spain</td>\n",
       "\t\t<td>Male</td>\n",
       "\t\t<td>29</td>\n",
       "\t\t<td>3</td>\n",
       "\t\t<td>0.0</td>\n",
       "\t\t<td>2</td>\n",
       "\t\t<td>1</td>\n",
       "\t\t<td>1</td>\n",
       "\t\t<td>197963.46</td>\n",
       "\t\t<td>0</td>\n",
       "\t</tr>\n",
       "\t<tr>\n",
       "\t\t<td>15565891</td>\n",
       "\t\t<td>709</td>\n",
       "\t\t<td>France</td>\n",
       "\t\t<td>Male</td>\n",
       "\t\t<td>39</td>\n",
       "\t\t<td>8</td>\n",
       "\t\t<td>0.0</td>\n",
       "\t\t<td>2</td>\n",
       "\t\t<td>1</td>\n",
       "\t\t<td>0</td>\n",
       "\t\t<td>56214.09</td>\n",
       "\t\t<td>0</td>\n",
       "\t</tr>\n",
       "\t<tr>\n",
       "\t\t<td>15565996</td>\n",
       "\t\t<td>653</td>\n",
       "\t\t<td>France</td>\n",
       "\t\t<td>Male</td>\n",
       "\t\t<td>44</td>\n",
       "\t\t<td>8</td>\n",
       "\t\t<td>0.0</td>\n",
       "\t\t<td>2</td>\n",
       "\t\t<td>1</td>\n",
       "\t\t<td>1</td>\n",
       "\t\t<td>154639.72</td>\n",
       "\t\t<td>0</td>\n",
       "\t</tr>\n",
       "\t<tr>\n",
       "\t\t<td>15565879</td>\n",
       "\t\t<td>845</td>\n",
       "\t\t<td>France</td>\n",
       "\t\t<td>Female</td>\n",
       "\t\t<td>28</td>\n",
       "\t\t<td>9</td>\n",
       "\t\t<td>0.0</td>\n",
       "\t\t<td>2</td>\n",
       "\t\t<td>1</td>\n",
       "\t\t<td>1</td>\n",
       "\t\t<td>56185.98</td>\n",
       "\t\t<td>0</td>\n",
       "\t</tr>\n",
       "\t<tr>\n",
       "\t\t<td>15565779</td>\n",
       "\t\t<td>627</td>\n",
       "\t\t<td>Germany</td>\n",
       "\t\t<td>Female</td>\n",
       "\t\t<td>30</td>\n",
       "\t\t<td>6</td>\n",
       "\t\t<td>57809.32</td>\n",
       "\t\t<td>1</td>\n",
       "\t\t<td>1</td>\n",
       "\t\t<td>0</td>\n",
       "\t\t<td>188258.49</td>\n",
       "\t\t<td>0</td>\n",
       "\t</tr>\n",
       "\t<tr>\n",
       "\t\t<td>15565706</td>\n",
       "\t\t<td>612</td>\n",
       "\t\t<td>Spain</td>\n",
       "\t\t<td>Male</td>\n",
       "\t\t<td>35</td>\n",
       "\t\t<td>1</td>\n",
       "\t\t<td>0.0</td>\n",
       "\t\t<td>1</td>\n",
       "\t\t<td>1</td>\n",
       "\t\t<td>1</td>\n",
       "\t\t<td>83256.26</td>\n",
       "\t\t<td>1</td>\n",
       "\t</tr>\n",
       "\t<tr>\n",
       "\t\t<td>15565701</td>\n",
       "\t\t<td>698</td>\n",
       "\t\t<td>Spain</td>\n",
       "\t\t<td>Female</td>\n",
       "\t\t<td>39</td>\n",
       "\t\t<td>9</td>\n",
       "\t\t<td>161993.89</td>\n",
       "\t\t<td>1</td>\n",
       "\t\t<td>0</td>\n",
       "\t\t<td>0</td>\n",
       "\t\t<td>90212.38</td>\n",
       "\t\t<td>0</td>\n",
       "\t</tr>\n",
       "</table></html>"
      ],
      "text/plain": [
       "             credit_score  country  gender  age  tenure    balance  products_number  credit_card  active_member  estimated_salary  churn\n",
       "customer_id                                                                                                                             \n",
       "15565714              601   France    Male   47       1   64430.06                2            0              1          96517.97      0\n",
       "15565796              745  Germany    Male   48      10   96048.55                1            1              0          74510.65      0\n",
       "15565806              532   France    Male   38       9       0.00                2            0              0          30583.95      0\n",
       "15565878              631    Spain    Male   29       3       0.00                2            1              1         197963.46      0\n",
       "15565891              709   France    Male   39       8       0.00                2            1              0          56214.09      0\n",
       "15565996              653   France    Male   44       8       0.00                2            1              1         154639.72      0\n",
       "15565879              845   France  Female   28       9       0.00                2            1              1          56185.98      0\n",
       "15565779              627  Germany  Female   30       6   57809.32                1            1              0         188258.49      0\n",
       "15565706              612    Spain    Male   35       1       0.00                1            1              1          83256.26      1\n",
       "15565701              698    Spain  Female   39       9  161993.89                1            0              0          90212.38      0"
      ]
     },
     "execution_count": 6,
     "metadata": {},
     "output_type": "execute_result"
    }
   ],
   "source": [
    "# first 5 rows\n",
    "bank_df.head()"
   ]
  },
  {
   "cell_type": "code",
   "execution_count": 7,
   "id": "636c220d-d12f-4ea5-ab2b-c9203ef00d49",
   "metadata": {},
   "outputs": [
    {
     "data": {
      "text/plain": [
       "(10000, 12)"
      ]
     },
     "execution_count": 7,
     "metadata": {},
     "output_type": "execute_result"
    }
   ],
   "source": [
    "# bank_df dataset\n",
    "bank_df.shape"
   ]
  },
  {
   "cell_type": "code",
   "execution_count": 8,
   "id": "e5d1fad7-8784-4d7a-be1f-7be1d3991d8f",
   "metadata": {},
   "outputs": [],
   "source": [
    "# Performing sampling to get 80% for trainning and 20% for testing\n",
    "bank_df_sample = bank_df.sample(frac = [0.8, 0.2])"
   ]
  },
  {
   "cell_type": "code",
   "execution_count": 9,
   "id": "a0e6891a-1b7e-4bac-97c8-350ba5f5bde4",
   "metadata": {},
   "outputs": [
    {
     "data": {
      "text/html": [
       "<style type=\"text/css\">\n",
       "\ttable {border:ridge 5px;}\n",
       "\ttable td {border:inset 1px;}\n",
       "\ttable tr#HeaderRow {background-color:grey; color:white;}</style>\n",
       "<html><table>\n",
       "\t<tr id=\"HeaderRow\">\n",
       "\t\t<th>customer_id</th>\n",
       "\t\t<th>credit_score</th>\n",
       "\t\t<th>country</th>\n",
       "\t\t<th>gender</th>\n",
       "\t\t<th>age</th>\n",
       "\t\t<th>tenure</th>\n",
       "\t\t<th>balance</th>\n",
       "\t\t<th>products_number</th>\n",
       "\t\t<th>credit_card</th>\n",
       "\t\t<th>active_member</th>\n",
       "\t\t<th>estimated_salary</th>\n",
       "\t\t<th>churn</th>\n",
       "\t\t<th>sampleid</th>\n",
       "\t</tr>\n",
       "\t<tr>\n",
       "\t\t<td>15565714</td>\n",
       "\t\t<td>601</td>\n",
       "\t\t<td>France</td>\n",
       "\t\t<td>Male</td>\n",
       "\t\t<td>47</td>\n",
       "\t\t<td>1</td>\n",
       "\t\t<td>64430.06</td>\n",
       "\t\t<td>2</td>\n",
       "\t\t<td>0</td>\n",
       "\t\t<td>1</td>\n",
       "\t\t<td>96517.97</td>\n",
       "\t\t<td>0</td>\n",
       "\t\t<td>2</td>\n",
       "\t</tr>\n",
       "\t<tr>\n",
       "\t\t<td>15565796</td>\n",
       "\t\t<td>745</td>\n",
       "\t\t<td>Germany</td>\n",
       "\t\t<td>Male</td>\n",
       "\t\t<td>48</td>\n",
       "\t\t<td>10</td>\n",
       "\t\t<td>96048.55</td>\n",
       "\t\t<td>1</td>\n",
       "\t\t<td>1</td>\n",
       "\t\t<td>0</td>\n",
       "\t\t<td>74510.65</td>\n",
       "\t\t<td>0</td>\n",
       "\t\t<td>1</td>\n",
       "\t</tr>\n",
       "\t<tr>\n",
       "\t\t<td>15565806</td>\n",
       "\t\t<td>532</td>\n",
       "\t\t<td>France</td>\n",
       "\t\t<td>Male</td>\n",
       "\t\t<td>38</td>\n",
       "\t\t<td>9</td>\n",
       "\t\t<td>0.0</td>\n",
       "\t\t<td>2</td>\n",
       "\t\t<td>0</td>\n",
       "\t\t<td>0</td>\n",
       "\t\t<td>30583.95</td>\n",
       "\t\t<td>0</td>\n",
       "\t\t<td>1</td>\n",
       "\t</tr>\n",
       "\t<tr>\n",
       "\t\t<td>15565878</td>\n",
       "\t\t<td>631</td>\n",
       "\t\t<td>Spain</td>\n",
       "\t\t<td>Male</td>\n",
       "\t\t<td>29</td>\n",
       "\t\t<td>3</td>\n",
       "\t\t<td>0.0</td>\n",
       "\t\t<td>2</td>\n",
       "\t\t<td>1</td>\n",
       "\t\t<td>1</td>\n",
       "\t\t<td>197963.46</td>\n",
       "\t\t<td>0</td>\n",
       "\t\t<td>1</td>\n",
       "\t</tr>\n",
       "\t<tr>\n",
       "\t\t<td>15565891</td>\n",
       "\t\t<td>709</td>\n",
       "\t\t<td>France</td>\n",
       "\t\t<td>Male</td>\n",
       "\t\t<td>39</td>\n",
       "\t\t<td>8</td>\n",
       "\t\t<td>0.0</td>\n",
       "\t\t<td>2</td>\n",
       "\t\t<td>1</td>\n",
       "\t\t<td>0</td>\n",
       "\t\t<td>56214.09</td>\n",
       "\t\t<td>0</td>\n",
       "\t\t<td>2</td>\n",
       "\t</tr>\n",
       "\t<tr>\n",
       "\t\t<td>15565996</td>\n",
       "\t\t<td>653</td>\n",
       "\t\t<td>France</td>\n",
       "\t\t<td>Male</td>\n",
       "\t\t<td>44</td>\n",
       "\t\t<td>8</td>\n",
       "\t\t<td>0.0</td>\n",
       "\t\t<td>2</td>\n",
       "\t\t<td>1</td>\n",
       "\t\t<td>1</td>\n",
       "\t\t<td>154639.72</td>\n",
       "\t\t<td>0</td>\n",
       "\t\t<td>1</td>\n",
       "\t</tr>\n",
       "\t<tr>\n",
       "\t\t<td>15565879</td>\n",
       "\t\t<td>845</td>\n",
       "\t\t<td>France</td>\n",
       "\t\t<td>Female</td>\n",
       "\t\t<td>28</td>\n",
       "\t\t<td>9</td>\n",
       "\t\t<td>0.0</td>\n",
       "\t\t<td>2</td>\n",
       "\t\t<td>1</td>\n",
       "\t\t<td>1</td>\n",
       "\t\t<td>56185.98</td>\n",
       "\t\t<td>0</td>\n",
       "\t\t<td>1</td>\n",
       "\t</tr>\n",
       "\t<tr>\n",
       "\t\t<td>15565779</td>\n",
       "\t\t<td>627</td>\n",
       "\t\t<td>Germany</td>\n",
       "\t\t<td>Female</td>\n",
       "\t\t<td>30</td>\n",
       "\t\t<td>6</td>\n",
       "\t\t<td>57809.32</td>\n",
       "\t\t<td>1</td>\n",
       "\t\t<td>1</td>\n",
       "\t\t<td>0</td>\n",
       "\t\t<td>188258.49</td>\n",
       "\t\t<td>0</td>\n",
       "\t\t<td>2</td>\n",
       "\t</tr>\n",
       "\t<tr>\n",
       "\t\t<td>15565706</td>\n",
       "\t\t<td>612</td>\n",
       "\t\t<td>Spain</td>\n",
       "\t\t<td>Male</td>\n",
       "\t\t<td>35</td>\n",
       "\t\t<td>1</td>\n",
       "\t\t<td>0.0</td>\n",
       "\t\t<td>1</td>\n",
       "\t\t<td>1</td>\n",
       "\t\t<td>1</td>\n",
       "\t\t<td>83256.26</td>\n",
       "\t\t<td>1</td>\n",
       "\t\t<td>1</td>\n",
       "\t</tr>\n",
       "\t<tr>\n",
       "\t\t<td>15565701</td>\n",
       "\t\t<td>698</td>\n",
       "\t\t<td>Spain</td>\n",
       "\t\t<td>Female</td>\n",
       "\t\t<td>39</td>\n",
       "\t\t<td>9</td>\n",
       "\t\t<td>161993.89</td>\n",
       "\t\t<td>1</td>\n",
       "\t\t<td>0</td>\n",
       "\t\t<td>0</td>\n",
       "\t\t<td>90212.38</td>\n",
       "\t\t<td>0</td>\n",
       "\t\t<td>1</td>\n",
       "\t</tr>\n",
       "</table></html>"
      ],
      "text/plain": [
       "             credit_score  country  gender  age  tenure    balance  products_number  credit_card  active_member  estimated_salary  churn  sampleid\n",
       "customer_id                                                                                                                                       \n",
       "15565714              601   France    Male   47       1   64430.06                2            0              1          96517.97      0         2\n",
       "15565796              745  Germany    Male   48      10   96048.55                1            1              0          74510.65      0         1\n",
       "15565806              532   France    Male   38       9       0.00                2            0              0          30583.95      0         1\n",
       "15565878              631    Spain    Male   29       3       0.00                2            1              1         197963.46      0         1\n",
       "15565891              709   France    Male   39       8       0.00                2            1              0          56214.09      0         2\n",
       "15565996              653   France    Male   44       8       0.00                2            1              1         154639.72      0         1\n",
       "15565879              845   France  Female   28       9       0.00                2            1              1          56185.98      0         1\n",
       "15565779              627  Germany  Female   30       6   57809.32                1            1              0         188258.49      0         2\n",
       "15565706              612    Spain    Male   35       1       0.00                1            1              1          83256.26      1         1\n",
       "15565701              698    Spain  Female   39       9  161993.89                1            0              0          90212.38      0         1"
      ]
     },
     "execution_count": 9,
     "metadata": {},
     "output_type": "execute_result"
    }
   ],
   "source": [
    "bank_df_sample.head()"
   ]
  },
  {
   "cell_type": "code",
   "execution_count": 10,
   "id": "5e3e5923-18ad-4cf6-b4e5-e87f8854700b",
   "metadata": {},
   "outputs": [],
   "source": [
    "# Fetching train and test data\n",
    "bank_df_train= bank_df_sample[bank_df_sample['sampleid'] == 1].drop('sampleid', axis=1)\n",
    "bank_df_test = bank_df_sample[bank_df_sample['sampleid'] == 2].drop('sampleid', axis=1)"
   ]
  },
  {
   "cell_type": "code",
   "execution_count": 11,
   "id": "83d72a72-3fac-4862-b374-d21ab59be1a6",
   "metadata": {},
   "outputs": [
    {
     "data": {
      "text/plain": [
       "(8000, 12)"
      ]
     },
     "execution_count": 11,
     "metadata": {},
     "output_type": "execute_result"
    }
   ],
   "source": [
    "# train data shape\n",
    "bank_df_train.shape"
   ]
  },
  {
   "cell_type": "code",
   "execution_count": 12,
   "id": "b22be730-8a7a-40f3-8e2a-cabd8d1f427f",
   "metadata": {},
   "outputs": [
    {
     "data": {
      "text/plain": [
       "(2000, 12)"
      ]
     },
     "execution_count": 12,
     "metadata": {},
     "output_type": "execute_result"
    }
   ],
   "source": [
    "# test data shape\n",
    "bank_df_test.shape"
   ]
  },
  {
   "cell_type": "code",
   "execution_count": 13,
   "id": "18473df2-be15-4e1e-bc5e-739abacf8b89",
   "metadata": {},
   "outputs": [
    {
     "data": {
      "text/html": [
       "<style type=\"text/css\">\n",
       "\ttable {border:ridge 5px;}\n",
       "\ttable td {border:inset 1px;}\n",
       "\ttable tr#HeaderRow {background-color:grey; color:white;}</style>\n",
       "<html><table>\n",
       "\t<tr id=\"HeaderRow\">\n",
       "\t\t<th>customer_id</th>\n",
       "\t\t<th>credit_score</th>\n",
       "\t\t<th>country</th>\n",
       "\t\t<th>gender</th>\n",
       "\t\t<th>age</th>\n",
       "\t\t<th>tenure</th>\n",
       "\t\t<th>balance</th>\n",
       "\t\t<th>products_number</th>\n",
       "\t\t<th>credit_card</th>\n",
       "\t\t<th>active_member</th>\n",
       "\t\t<th>estimated_salary</th>\n",
       "\t\t<th>churn</th>\n",
       "\t</tr>\n",
       "\t<tr>\n",
       "\t\t<td>15565796</td>\n",
       "\t\t<td>745</td>\n",
       "\t\t<td>Germany</td>\n",
       "\t\t<td>Male</td>\n",
       "\t\t<td>48</td>\n",
       "\t\t<td>10</td>\n",
       "\t\t<td>96048.55</td>\n",
       "\t\t<td>1</td>\n",
       "\t\t<td>1</td>\n",
       "\t\t<td>0</td>\n",
       "\t\t<td>74510.65</td>\n",
       "\t\t<td>0</td>\n",
       "\t</tr>\n",
       "\t<tr>\n",
       "\t\t<td>15565878</td>\n",
       "\t\t<td>631</td>\n",
       "\t\t<td>Spain</td>\n",
       "\t\t<td>Male</td>\n",
       "\t\t<td>29</td>\n",
       "\t\t<td>3</td>\n",
       "\t\t<td>0.0</td>\n",
       "\t\t<td>2</td>\n",
       "\t\t<td>1</td>\n",
       "\t\t<td>1</td>\n",
       "\t\t<td>197963.46</td>\n",
       "\t\t<td>0</td>\n",
       "\t</tr>\n",
       "\t<tr>\n",
       "\t\t<td>15565879</td>\n",
       "\t\t<td>845</td>\n",
       "\t\t<td>France</td>\n",
       "\t\t<td>Female</td>\n",
       "\t\t<td>28</td>\n",
       "\t\t<td>9</td>\n",
       "\t\t<td>0.0</td>\n",
       "\t\t<td>2</td>\n",
       "\t\t<td>1</td>\n",
       "\t\t<td>1</td>\n",
       "\t\t<td>56185.98</td>\n",
       "\t\t<td>0</td>\n",
       "\t</tr>\n",
       "\t<tr>\n",
       "\t\t<td>15565996</td>\n",
       "\t\t<td>653</td>\n",
       "\t\t<td>France</td>\n",
       "\t\t<td>Male</td>\n",
       "\t\t<td>44</td>\n",
       "\t\t<td>8</td>\n",
       "\t\t<td>0.0</td>\n",
       "\t\t<td>2</td>\n",
       "\t\t<td>1</td>\n",
       "\t\t<td>1</td>\n",
       "\t\t<td>154639.72</td>\n",
       "\t\t<td>0</td>\n",
       "\t</tr>\n",
       "\t<tr>\n",
       "\t\t<td>15566091</td>\n",
       "\t\t<td>545</td>\n",
       "\t\t<td>Spain</td>\n",
       "\t\t<td>Female</td>\n",
       "\t\t<td>32</td>\n",
       "\t\t<td>4</td>\n",
       "\t\t<td>0.0</td>\n",
       "\t\t<td>1</td>\n",
       "\t\t<td>1</td>\n",
       "\t\t<td>0</td>\n",
       "\t\t<td>94739.2</td>\n",
       "\t\t<td>0</td>\n",
       "\t</tr>\n",
       "\t<tr>\n",
       "\t\t<td>15566139</td>\n",
       "\t\t<td>526</td>\n",
       "\t\t<td>France</td>\n",
       "\t\t<td>Female</td>\n",
       "\t\t<td>37</td>\n",
       "\t\t<td>5</td>\n",
       "\t\t<td>53573.18</td>\n",
       "\t\t<td>1</td>\n",
       "\t\t<td>1</td>\n",
       "\t\t<td>0</td>\n",
       "\t\t<td>62830.97</td>\n",
       "\t\t<td>0</td>\n",
       "\t</tr>\n",
       "\t<tr>\n",
       "\t\t<td>15566030</td>\n",
       "\t\t<td>497</td>\n",
       "\t\t<td>Germany</td>\n",
       "\t\t<td>Male</td>\n",
       "\t\t<td>41</td>\n",
       "\t\t<td>5</td>\n",
       "\t\t<td>80542.81</td>\n",
       "\t\t<td>1</td>\n",
       "\t\t<td>0</td>\n",
       "\t\t<td>0</td>\n",
       "\t\t<td>88729.22</td>\n",
       "\t\t<td>1</td>\n",
       "\t</tr>\n",
       "\t<tr>\n",
       "\t\t<td>15565806</td>\n",
       "\t\t<td>532</td>\n",
       "\t\t<td>France</td>\n",
       "\t\t<td>Male</td>\n",
       "\t\t<td>38</td>\n",
       "\t\t<td>9</td>\n",
       "\t\t<td>0.0</td>\n",
       "\t\t<td>2</td>\n",
       "\t\t<td>0</td>\n",
       "\t\t<td>0</td>\n",
       "\t\t<td>30583.95</td>\n",
       "\t\t<td>0</td>\n",
       "\t</tr>\n",
       "\t<tr>\n",
       "\t\t<td>15565706</td>\n",
       "\t\t<td>612</td>\n",
       "\t\t<td>Spain</td>\n",
       "\t\t<td>Male</td>\n",
       "\t\t<td>35</td>\n",
       "\t\t<td>1</td>\n",
       "\t\t<td>0.0</td>\n",
       "\t\t<td>1</td>\n",
       "\t\t<td>1</td>\n",
       "\t\t<td>1</td>\n",
       "\t\t<td>83256.26</td>\n",
       "\t\t<td>1</td>\n",
       "\t</tr>\n",
       "\t<tr>\n",
       "\t\t<td>15565701</td>\n",
       "\t\t<td>698</td>\n",
       "\t\t<td>Spain</td>\n",
       "\t\t<td>Female</td>\n",
       "\t\t<td>39</td>\n",
       "\t\t<td>9</td>\n",
       "\t\t<td>161993.89</td>\n",
       "\t\t<td>1</td>\n",
       "\t\t<td>0</td>\n",
       "\t\t<td>0</td>\n",
       "\t\t<td>90212.38</td>\n",
       "\t\t<td>0</td>\n",
       "\t</tr>\n",
       "</table></html>"
      ],
      "text/plain": [
       "             credit_score  country  gender  age  tenure    balance  products_number  credit_card  active_member  estimated_salary  churn\n",
       "customer_id                                                                                                                             \n",
       "15565796              745  Germany    Male   48      10   96048.55                1            1              0          74510.65      0\n",
       "15565878              631    Spain    Male   29       3       0.00                2            1              1         197963.46      0\n",
       "15565879              845   France  Female   28       9       0.00                2            1              1          56185.98      0\n",
       "15565996              653   France    Male   44       8       0.00                2            1              1         154639.72      0\n",
       "15566091              545    Spain  Female   32       4       0.00                1            1              0          94739.20      0\n",
       "15566139              526   France  Female   37       5   53573.18                1            1              0          62830.97      0\n",
       "15566030              497  Germany    Male   41       5   80542.81                1            0              0          88729.22      1\n",
       "15565806              532   France    Male   38       9       0.00                2            0              0          30583.95      0\n",
       "15565706              612    Spain    Male   35       1       0.00                1            1              1          83256.26      1\n",
       "15565701              698    Spain  Female   39       9  161993.89                1            0              0          90212.38      0"
      ]
     },
     "execution_count": 13,
     "metadata": {},
     "output_type": "execute_result"
    }
   ],
   "source": [
    "#train dataset\n",
    "bank_df_train.head()"
   ]
  },
  {
   "cell_type": "code",
   "execution_count": 14,
   "id": "58c9d763-4f19-449e-a35b-676d4d026acc",
   "metadata": {},
   "outputs": [
    {
     "data": {
      "text/html": [
       "<style type=\"text/css\">\n",
       "\ttable {border:ridge 5px;}\n",
       "\ttable td {border:inset 1px;}\n",
       "\ttable tr#HeaderRow {background-color:grey; color:white;}</style>\n",
       "<html><table>\n",
       "\t<tr id=\"HeaderRow\">\n",
       "\t\t<th>customer_id</th>\n",
       "\t\t<th>credit_score</th>\n",
       "\t\t<th>country</th>\n",
       "\t\t<th>gender</th>\n",
       "\t\t<th>age</th>\n",
       "\t\t<th>tenure</th>\n",
       "\t\t<th>balance</th>\n",
       "\t\t<th>products_number</th>\n",
       "\t\t<th>credit_card</th>\n",
       "\t\t<th>active_member</th>\n",
       "\t\t<th>estimated_salary</th>\n",
       "\t\t<th>churn</th>\n",
       "\t</tr>\n",
       "\t<tr>\n",
       "\t\t<td>15565891</td>\n",
       "\t\t<td>709</td>\n",
       "\t\t<td>France</td>\n",
       "\t\t<td>Male</td>\n",
       "\t\t<td>39</td>\n",
       "\t\t<td>8</td>\n",
       "\t\t<td>0.0</td>\n",
       "\t\t<td>2</td>\n",
       "\t\t<td>1</td>\n",
       "\t\t<td>0</td>\n",
       "\t\t<td>56214.09</td>\n",
       "\t\t<td>0</td>\n",
       "\t</tr>\n",
       "\t<tr>\n",
       "\t\t<td>15566292</td>\n",
       "\t\t<td>574</td>\n",
       "\t\t<td>Spain</td>\n",
       "\t\t<td>Male</td>\n",
       "\t\t<td>36</td>\n",
       "\t\t<td>1</td>\n",
       "\t\t<td>0.0</td>\n",
       "\t\t<td>2</td>\n",
       "\t\t<td>0</td>\n",
       "\t\t<td>1</td>\n",
       "\t\t<td>71709.12</td>\n",
       "\t\t<td>0</td>\n",
       "\t</tr>\n",
       "\t<tr>\n",
       "\t\t<td>15566467</td>\n",
       "\t\t<td>683</td>\n",
       "\t\t<td>Germany</td>\n",
       "\t\t<td>Female</td>\n",
       "\t\t<td>32</td>\n",
       "\t\t<td>0</td>\n",
       "\t\t<td>138171.1</td>\n",
       "\t\t<td>2</td>\n",
       "\t\t<td>1</td>\n",
       "\t\t<td>1</td>\n",
       "\t\t<td>188203.58</td>\n",
       "\t\t<td>0</td>\n",
       "\t</tr>\n",
       "\t<tr>\n",
       "\t\t<td>15566790</td>\n",
       "\t\t<td>598</td>\n",
       "\t\t<td>France</td>\n",
       "\t\t<td>Male</td>\n",
       "\t\t<td>28</td>\n",
       "\t\t<td>8</td>\n",
       "\t\t<td>129991.76</td>\n",
       "\t\t<td>2</td>\n",
       "\t\t<td>0</td>\n",
       "\t\t<td>1</td>\n",
       "\t\t<td>46041.08</td>\n",
       "\t\t<td>0</td>\n",
       "\t</tr>\n",
       "\t<tr>\n",
       "\t\t<td>15566894</td>\n",
       "\t\t<td>793</td>\n",
       "\t\t<td>France</td>\n",
       "\t\t<td>Male</td>\n",
       "\t\t<td>39</td>\n",
       "\t\t<td>3</td>\n",
       "\t\t<td>137817.52</td>\n",
       "\t\t<td>1</td>\n",
       "\t\t<td>0</td>\n",
       "\t\t<td>0</td>\n",
       "\t\t<td>83997.79</td>\n",
       "\t\t<td>0</td>\n",
       "\t</tr>\n",
       "\t<tr>\n",
       "\t\t<td>15567328</td>\n",
       "\t\t<td>738</td>\n",
       "\t\t<td>Spain</td>\n",
       "\t\t<td>Male</td>\n",
       "\t\t<td>38</td>\n",
       "\t\t<td>5</td>\n",
       "\t\t<td>177997.07</td>\n",
       "\t\t<td>1</td>\n",
       "\t\t<td>0</td>\n",
       "\t\t<td>1</td>\n",
       "\t\t<td>19233.41</td>\n",
       "\t\t<td>0</td>\n",
       "\t</tr>\n",
       "\t<tr>\n",
       "\t\t<td>15566891</td>\n",
       "\t\t<td>584</td>\n",
       "\t\t<td>Germany</td>\n",
       "\t\t<td>Female</td>\n",
       "\t\t<td>41</td>\n",
       "\t\t<td>3</td>\n",
       "\t\t<td>88594.93</td>\n",
       "\t\t<td>1</td>\n",
       "\t\t<td>1</td>\n",
       "\t\t<td>0</td>\n",
       "\t\t<td>178997.89</td>\n",
       "\t\t<td>0</td>\n",
       "\t</tr>\n",
       "\t<tr>\n",
       "\t\t<td>15566111</td>\n",
       "\t\t<td>596</td>\n",
       "\t\t<td>France</td>\n",
       "\t\t<td>Male</td>\n",
       "\t\t<td>39</td>\n",
       "\t\t<td>9</td>\n",
       "\t\t<td>0.0</td>\n",
       "\t\t<td>1</td>\n",
       "\t\t<td>1</td>\n",
       "\t\t<td>0</td>\n",
       "\t\t<td>48963.59</td>\n",
       "\t\t<td>0</td>\n",
       "\t</tr>\n",
       "\t<tr>\n",
       "\t\t<td>15565779</td>\n",
       "\t\t<td>627</td>\n",
       "\t\t<td>Germany</td>\n",
       "\t\t<td>Female</td>\n",
       "\t\t<td>30</td>\n",
       "\t\t<td>6</td>\n",
       "\t\t<td>57809.32</td>\n",
       "\t\t<td>1</td>\n",
       "\t\t<td>1</td>\n",
       "\t\t<td>0</td>\n",
       "\t\t<td>188258.49</td>\n",
       "\t\t<td>0</td>\n",
       "\t</tr>\n",
       "\t<tr>\n",
       "\t\t<td>15565714</td>\n",
       "\t\t<td>601</td>\n",
       "\t\t<td>France</td>\n",
       "\t\t<td>Male</td>\n",
       "\t\t<td>47</td>\n",
       "\t\t<td>1</td>\n",
       "\t\t<td>64430.06</td>\n",
       "\t\t<td>2</td>\n",
       "\t\t<td>0</td>\n",
       "\t\t<td>1</td>\n",
       "\t\t<td>96517.97</td>\n",
       "\t\t<td>0</td>\n",
       "\t</tr>\n",
       "</table></html>"
      ],
      "text/plain": [
       "             credit_score  country  gender  age  tenure    balance  products_number  credit_card  active_member  estimated_salary  churn\n",
       "customer_id                                                                                                                             \n",
       "15565891              709   France    Male   39       8       0.00                2            1              0          56214.09      0\n",
       "15566292              574    Spain    Male   36       1       0.00                2            0              1          71709.12      0\n",
       "15566467              683  Germany  Female   32       0  138171.10                2            1              1         188203.58      0\n",
       "15566790              598   France    Male   28       8  129991.76                2            0              1          46041.08      0\n",
       "15566894              793   France    Male   39       3  137817.52                1            0              0          83997.79      0\n",
       "15567328              738    Spain    Male   38       5  177997.07                1            0              1          19233.41      0\n",
       "15566891              584  Germany  Female   41       3   88594.93                1            1              0         178997.89      0\n",
       "15566111              596   France    Male   39       9       0.00                1            1              0          48963.59      0\n",
       "15565779              627  Germany  Female   30       6   57809.32                1            1              0         188258.49      0\n",
       "15565714              601   France    Male   47       1   64430.06                2            0              1          96517.97      0"
      ]
     },
     "execution_count": 14,
     "metadata": {},
     "output_type": "execute_result"
    }
   ],
   "source": [
    "# test dataset\n",
    "bank_df_test.head()"
   ]
  },
  {
   "cell_type": "code",
   "execution_count": 18,
   "id": "3666633b-f448-4928-a8d1-bf5ddc982192",
   "metadata": {},
   "outputs": [
    {
     "name": "stdout",
     "output_type": "stream",
     "text": [
      "\n",
      "Generating custom config JSON for AutoML ...\n",
      "\n",
      "Available main options for customization with corresponding indices: \n",
      "--------------------------------------------------------------------------------\n",
      "\n",
      "Index 1: Customize Feature Engineering Phase\n",
      "\n",
      "Index 2: Customize Data Preparation Phase\n",
      "\n",
      "Index 3: Customize Model Training Phase\n",
      "\n",
      "Index 4: Generate custom json and exit\n",
      "--------------------------------------------------------------------------------\n"
     ]
    },
    {
     "name": "stdin",
     "output_type": "stream",
     "text": [
      "\n",
      "Enter the index you want to customize:  1\n"
     ]
    },
    {
     "name": "stdout",
     "output_type": "stream",
     "text": [
      "\n",
      "Customizing Feature Engineering Phase ...\n",
      "\n",
      "Available options for customization of feature engineering phase with corresponding indices: \n",
      "--------------------------------------------------------------------------------\n",
      "\n",
      "Index 1: Customize Missing Value Handling\n",
      "\n",
      "Index 2: Customize Bincode Encoding\n",
      "\n",
      "Index 3: Customize String Manipulation\n",
      "\n",
      "Index 4: Customize Categorical Encoding\n",
      "\n",
      "Index 5: Customize Mathematical Transformation\n",
      "\n",
      "Index 6: Customize Nonlinear Transformation\n",
      "\n",
      "Index 7: Customize Antiselect Features\n",
      "\n",
      "Index 8: Back to main menu\n",
      "\n",
      "Index 9: Generate custom json and exit\n",
      "--------------------------------------------------------------------------------\n"
     ]
    },
    {
     "name": "stdin",
     "output_type": "stream",
     "text": [
      "\n",
      "Enter the list of indices you want to customize in feature engineering phase:  2,4,7,8\n"
     ]
    },
    {
     "name": "stdout",
     "output_type": "stream",
     "text": [
      "\n",
      "Customizing Bincode Encoding ...\n",
      "\n",
      "Provide the following details to customize binning and coding encoding:\n",
      "\n",
      "Available binning methods with corresponding indices:\n",
      "Index 1: Equal-Width\n",
      "Index 2: Variable-Width\n"
     ]
    },
    {
     "name": "stdin",
     "output_type": "stream",
     "text": [
      "\n",
      "Enter the feature or list of features for binning:  age\n",
      "\n",
      "Enter the index of corresponding binning method for feature age:  2\n",
      "\n",
      "Enter the number of bins for feature age:  3\n"
     ]
    },
    {
     "name": "stdout",
     "output_type": "stream",
     "text": [
      "\n",
      "Available value type of feature for variable binning with corresponding indices:\n",
      "Index 1: int\n",
      "Index 2: float\n",
      "\n",
      "Provide the range for bin 1 of feature age: \n"
     ]
    },
    {
     "name": "stdin",
     "output_type": "stream",
     "text": [
      "\n",
      "Enter the index of corresponding value type of feature age:  1\n",
      "\n",
      "Enter the minimum value for bin 1 of feature age:  0\n",
      "\n",
      "Enter the maximum value for bin 1 of feature age:  29\n",
      "\n",
      "Enter the label for bin 1 of feature age:  young\n"
     ]
    },
    {
     "name": "stdout",
     "output_type": "stream",
     "text": [
      "\n",
      "Provide the range for bin 2 of feature age: \n"
     ]
    },
    {
     "name": "stdin",
     "output_type": "stream",
     "text": [
      "\n",
      "Enter the index of corresponding value type of feature age:  1\n",
      "\n",
      "Enter the minimum value for bin 2 of feature age:  30\n",
      "\n",
      "Enter the maximum value for bin 2 of feature age:  59\n",
      "\n",
      "Enter the label for bin 2 of feature age:  adult\n"
     ]
    },
    {
     "name": "stdout",
     "output_type": "stream",
     "text": [
      "\n",
      "Provide the range for bin 3 of feature age: \n"
     ]
    },
    {
     "name": "stdin",
     "output_type": "stream",
     "text": [
      "\n",
      "Enter the index of corresponding value type of feature age:  1\n",
      "\n",
      "Enter the minimum value for bin 3 of feature age:  60\n",
      "\n",
      "Enter the maximum value for bin 3 of feature age:  120\n",
      "\n",
      "Enter the label for bin 3 of feature age:  old\n"
     ]
    },
    {
     "name": "stdout",
     "output_type": "stream",
     "text": [
      "\n",
      "Available options for generic arguments: \n",
      "Index 0: Default\n",
      "Index 1: volatile\n",
      "Index 2: persist\n"
     ]
    },
    {
     "name": "stdin",
     "output_type": "stream",
     "text": [
      "\n",
      "Enter the indices for generic arguments :  0\n"
     ]
    },
    {
     "name": "stdout",
     "output_type": "stream",
     "text": [
      "\n",
      "Customization of bincode encoding has been completed successfully.\n",
      "\n",
      "Customizing Categorical Encoding ...\n",
      "\n",
      "Provide the following details to customize categorical encoding:\n",
      "\n",
      "Available categorical encoding methods with corresponding indices:\n",
      "Index 1: OneHotEncoding\n",
      "Index 2: OrdinalEncoding\n",
      "Index 3: TargetEncoding\n"
     ]
    },
    {
     "name": "stdin",
     "output_type": "stream",
     "text": [
      "\n",
      "Enter the list of corresponding index categorical encoding methods you want to use:  3\n",
      "\n",
      "Enter the feature or list of features for TargetEncoding:  gender\n"
     ]
    },
    {
     "name": "stdout",
     "output_type": "stream",
     "text": [
      "\n",
      "Available target encoding methods with corresponding indices:\n",
      "Index 1: CBM_BETA\n",
      "Index 2: CBM_DIRICHLET\n",
      "Index 3: CBM_GAUSSIAN_INVERSE_GAMMA\n"
     ]
    },
    {
     "name": "stdin",
     "output_type": "stream",
     "text": [
      "\n",
      "Enter the index of target encoding method for feature gender:  1\n",
      "\n",
      "Enter the response column for target encoding method for feature gender:  churn\n"
     ]
    },
    {
     "name": "stdout",
     "output_type": "stream",
     "text": [
      "\n",
      "Available options for generic arguments: \n",
      "Index 0: Default\n",
      "Index 1: volatile\n",
      "Index 2: persist\n"
     ]
    },
    {
     "name": "stdin",
     "output_type": "stream",
     "text": [
      "\n",
      "Enter the indices for generic arguments :  0\n"
     ]
    },
    {
     "name": "stdout",
     "output_type": "stream",
     "text": [
      "\n",
      "Customization of categorical encoding has been completed successfully.\n",
      "\n",
      "Customizing Antiselect Features ...\n"
     ]
    },
    {
     "name": "stdin",
     "output_type": "stream",
     "text": [
      "\n",
      "Enter the feature or list of features for antiselect:  customer_id\n"
     ]
    },
    {
     "name": "stdout",
     "output_type": "stream",
     "text": [
      "\n",
      "Available options for generic arguments: \n",
      "Index 0: Default\n",
      "Index 1: volatile\n",
      "Index 2: persist\n"
     ]
    },
    {
     "name": "stdin",
     "output_type": "stream",
     "text": [
      "\n",
      "Enter the indices for generic arguments :  0\n"
     ]
    },
    {
     "name": "stdout",
     "output_type": "stream",
     "text": [
      "\n",
      "Customization of antiselect features has been completed successfully.\n",
      "\n",
      "Customization of feature engineering phase has been completed successfully.\n",
      "\n",
      "Available main options for customization with corresponding indices: \n",
      "--------------------------------------------------------------------------------\n",
      "\n",
      "Index 1: Customize Feature Engineering Phase\n",
      "\n",
      "Index 2: Customize Data Preparation Phase\n",
      "\n",
      "Index 3: Customize Model Training Phase\n",
      "\n",
      "Index 4: Generate custom json and exit\n",
      "--------------------------------------------------------------------------------\n"
     ]
    },
    {
     "name": "stdin",
     "output_type": "stream",
     "text": [
      "\n",
      "Enter the index you want to customize:  2\n"
     ]
    },
    {
     "name": "stdout",
     "output_type": "stream",
     "text": [
      "\n",
      "Customizing Data Preparation Phase ...\n",
      "\n",
      "Available options for customization of data preparation phase with corresponding indices: \n",
      "--------------------------------------------------------------------------------\n",
      "\n",
      "Index 1: Customize Data Imbalance Handling\n",
      "\n",
      "Index 2: Customize Outlier Handling\n",
      "\n",
      "Index 3: Customize Feature Scaling\n",
      "\n",
      "Index 4: Back to main menu\n",
      "\n",
      "Index 5: Generate custom json and exit\n",
      "--------------------------------------------------------------------------------\n"
     ]
    },
    {
     "name": "stdin",
     "output_type": "stream",
     "text": [
      "\n",
      "Enter the list of indices you want to customize in data preparation phase:  3\n"
     ]
    },
    {
     "name": "stdout",
     "output_type": "stream",
     "text": [
      "\n",
      "Available feature scaling methods with corresponding indices:\n",
      "Index 1: maxabs\n",
      "Index 2: mean\n",
      "Index 3: midrange\n",
      "Index 4: range\n",
      "Index 5: rescale\n",
      "Index 6: std\n",
      "Index 7: sum\n",
      "Index 8: ustd\n"
     ]
    },
    {
     "name": "stdin",
     "output_type": "stream",
     "text": [
      "\n",
      "Enter the corresponding index feature scaling method:  6\n"
     ]
    },
    {
     "name": "stdout",
     "output_type": "stream",
     "text": [
      "\n",
      "Available options for generic arguments: \n",
      "Index 0: Default\n",
      "Index 1: volatile\n",
      "Index 2: persist\n"
     ]
    },
    {
     "name": "stdin",
     "output_type": "stream",
     "text": [
      "\n",
      "Enter the indices for generic arguments :  0\n"
     ]
    },
    {
     "name": "stdout",
     "output_type": "stream",
     "text": [
      "\n",
      "Customization of feature scaling has been completed successfully.\n",
      "\n",
      "Available options for customization of data preparation phase with corresponding indices: \n",
      "--------------------------------------------------------------------------------\n",
      "\n",
      "Index 1: Customize Data Imbalance Handling\n",
      "\n",
      "Index 2: Customize Outlier Handling\n",
      "\n",
      "Index 3: Customize Feature Scaling\n",
      "\n",
      "Index 4: Back to main menu\n",
      "\n",
      "Index 5: Generate custom json and exit\n",
      "--------------------------------------------------------------------------------\n"
     ]
    },
    {
     "name": "stdin",
     "output_type": "stream",
     "text": [
      "\n",
      "Enter the list of indices you want to customize in data preparation phase:  5\n"
     ]
    },
    {
     "name": "stdout",
     "output_type": "stream",
     "text": [
      "\n",
      "Customization of data preparation phase has been completed successfully.\n",
      "\n",
      "Process of generating custom config file for AutoML has been completed successfully.\n",
      "\n",
      "'custom_bank_churn.json' file is generated successfully under the current working directory.\n"
     ]
    }
   ],
   "source": [
    "AutoClassifier.generate_custom_config(\"custom_bank_churn\")"
   ]
  },
  {
   "cell_type": "markdown",
   "id": "856ea871-93d8-4ea2-b524-1acb23bd7eb5",
   "metadata": {},
   "source": [
    "## <b><span style='color:#F1A424'>| 2.</span> Fitting AutoML </b>"
   ]
  },
  {
   "cell_type": "code",
   "execution_count": 19,
   "id": "f3650aa5-a408-4227-a88d-79c0f3d36d3c",
   "metadata": {},
   "outputs": [],
   "source": [
    "# Creating AutoClassifier instance\n",
    "# Excluding svm and glm from model training.\n",
    "# Keeping early stopping metrics threshold to 0.6 for 'MICRO-RECALL', early stopping timer threshold to 100 sec\n",
    "# Using verbose level 2 for detailed loggging\n",
    "# Passing custom json file to provide customized value for AutoML.\n",
    "\n",
    "aml = AutoClassifier(exclude=['svm', 'glm'],\n",
    "                     stopping_metric='MICRO-RECALL', \n",
    "                     stopping_tolerance=0.60,\n",
    "                     max_runtime_secs=100,\n",
    "                     verbose=2,\n",
    "                     custom_config_file='custom_bank_churn.json')"
   ]
  },
  {
   "cell_type": "code",
   "execution_count": 20,
   "id": "a1b7a771-1bfa-40c9-8ad0-c377d320c137",
   "metadata": {},
   "outputs": [
    {
     "name": "stdout",
     "output_type": "stream",
     "text": [
      "\n",
      "Received below input for customization : \n",
      "{\n",
      "    \"BincodeIndicator\": true,\n",
      "    \"BincodeParam\": {\n",
      "        \"age\": {\n",
      "            \"Type\": \"Variable-Width\",\n",
      "            \"NumOfBins\": 3,\n",
      "            \"Bin_1\": {\n",
      "                \"min_value\": 0,\n",
      "                \"max_value\": 29,\n",
      "                \"label\": \"young\"\n",
      "            },\n",
      "            \"Bin_2\": {\n",
      "                \"min_value\": 30,\n",
      "                \"max_value\": 59,\n",
      "                \"label\": \"adult\"\n",
      "            },\n",
      "            \"Bin_3\": {\n",
      "                \"min_value\": 60,\n",
      "                \"max_value\": 120,\n",
      "                \"label\": \"old\"\n",
      "            }\n",
      "        }\n",
      "    },\n",
      "    \"CategoricalEncodingIndicator\": true,\n",
      "    \"CategoricalEncodingParam\": {\n",
      "        \"TargetEncodingIndicator\": true,\n",
      "        \"TargetEncodingList\": {\n",
      "            \"gender\": {\n",
      "                \"encoder_method\": \"CBM_BETA\",\n",
      "                \"response_column\": \"churn\"\n",
      "            }\n",
      "        }\n",
      "    },\n",
      "    \"AntiselectIndicator\": true,\n",
      "    \"AntiselectParam\": {\n",
      "        \"excluded_columns\": [\n",
      "            \"customer_id\"\n",
      "        ]\n",
      "    },\n",
      "    \"FeatureScalingIndicator\": true,\n",
      "    \"FeatureScalingParam\": {\n",
      "        \"FeatureScalingMethod\": \"std\"\n",
      "    }\n",
      "}\n"
     ]
    },
    {
     "data": {
      "text/html": [
       "\n",
       "            <style>\n",
       "                .custom-div {\n",
       "                    background-color: lightgray;\n",
       "                    color: #000000;\n",
       "                    padding: 10px;\n",
       "                    border-radius: 8px;\n",
       "                    box-shadow: 0 3px 4px rgba(0, 0, 0, 0.2);\n",
       "                    margin-bottom: 10px;\n",
       "                    text-align: center;\n",
       "                }\n",
       "            </style>\n",
       "        <br><div class=\"custom-div\"><h3><span style=\"color: green;\"></span>1. Feature Exploration -> 2. Feature Engineering -> 3. Data Preparation -> 4. Model Training & Evaluation<center></h3></center></div>"
      ],
      "text/plain": [
       "<IPython.core.display.HTML object>"
      ]
     },
     "metadata": {},
     "output_type": "display_data"
    },
    {
     "name": "stdout",
     "output_type": "stream",
     "text": [
      "Feature Exploration started ...\n",
      "\n",
      "Data Overview:\n",
      "Total Rows in the data: 8000\n",
      "Total Columns in the data: 12\n",
      "\n",
      "Column Summary:\n"
     ]
    },
    {
     "data": {
      "text/html": [
       "<style type=\"text/css\">\n",
       "\ttable {border:ridge 5px;}\n",
       "\ttable td {border:inset 1px;}\n",
       "\ttable tr#HeaderRow {background-color:grey; color:white;}</style>\n",
       "<html><table>\n",
       "\t<tr id=\"HeaderRow\">\n",
       "\t\t<th>ColumnName</th>\n",
       "\t\t<th>Datatype</th>\n",
       "\t\t<th>NonNullCount</th>\n",
       "\t\t<th>NullCount</th>\n",
       "\t\t<th>BlankCount</th>\n",
       "\t\t<th>ZeroCount</th>\n",
       "\t\t<th>PositiveCount</th>\n",
       "\t\t<th>NegativeCount</th>\n",
       "\t\t<th>NullPercentage</th>\n",
       "\t\t<th>NonNullPercentage</th>\n",
       "\t</tr>\n",
       "\t<tr>\n",
       "\t\t<td>tenure</td>\n",
       "\t\t<td>BIGINT</td>\n",
       "\t\t<td>8000</td>\n",
       "\t\t<td>0</td>\n",
       "\t\t<td>None</td>\n",
       "\t\t<td>330</td>\n",
       "\t\t<td>7670</td>\n",
       "\t\t<td>0</td>\n",
       "\t\t<td>0.0</td>\n",
       "\t\t<td>100.0</td>\n",
       "\t</tr>\n",
       "\t<tr>\n",
       "\t\t<td>active_member</td>\n",
       "\t\t<td>BIGINT</td>\n",
       "\t\t<td>8000</td>\n",
       "\t\t<td>0</td>\n",
       "\t\t<td>None</td>\n",
       "\t\t<td>3866</td>\n",
       "\t\t<td>4134</td>\n",
       "\t\t<td>0</td>\n",
       "\t\t<td>0.0</td>\n",
       "\t\t<td>100.0</td>\n",
       "\t</tr>\n",
       "\t<tr>\n",
       "\t\t<td>churn</td>\n",
       "\t\t<td>BIGINT</td>\n",
       "\t\t<td>8000</td>\n",
       "\t\t<td>0</td>\n",
       "\t\t<td>None</td>\n",
       "\t\t<td>6347</td>\n",
       "\t\t<td>1653</td>\n",
       "\t\t<td>0</td>\n",
       "\t\t<td>0.0</td>\n",
       "\t\t<td>100.0</td>\n",
       "\t</tr>\n",
       "\t<tr>\n",
       "\t\t<td>age</td>\n",
       "\t\t<td>INTEGER</td>\n",
       "\t\t<td>8000</td>\n",
       "\t\t<td>0</td>\n",
       "\t\t<td>None</td>\n",
       "\t\t<td>0</td>\n",
       "\t\t<td>8000</td>\n",
       "\t\t<td>0</td>\n",
       "\t\t<td>0.0</td>\n",
       "\t\t<td>100.0</td>\n",
       "\t</tr>\n",
       "\t<tr>\n",
       "\t\t<td>gender</td>\n",
       "\t\t<td>VARCHAR(20) CHARACTER SET LATIN</td>\n",
       "\t\t<td>8000</td>\n",
       "\t\t<td>0</td>\n",
       "\t\t<td>0</td>\n",
       "\t\t<td>None</td>\n",
       "\t\t<td>None</td>\n",
       "\t\t<td>None</td>\n",
       "\t\t<td>0.0</td>\n",
       "\t\t<td>100.0</td>\n",
       "\t</tr>\n",
       "\t<tr>\n",
       "\t\t<td>customer_id</td>\n",
       "\t\t<td>BIGINT</td>\n",
       "\t\t<td>8000</td>\n",
       "\t\t<td>0</td>\n",
       "\t\t<td>None</td>\n",
       "\t\t<td>0</td>\n",
       "\t\t<td>8000</td>\n",
       "\t\t<td>0</td>\n",
       "\t\t<td>0.0</td>\n",
       "\t\t<td>100.0</td>\n",
       "\t</tr>\n",
       "\t<tr>\n",
       "\t\t<td>estimated_salary</td>\n",
       "\t\t<td>FLOAT</td>\n",
       "\t\t<td>8000</td>\n",
       "\t\t<td>0</td>\n",
       "\t\t<td>None</td>\n",
       "\t\t<td>0</td>\n",
       "\t\t<td>8000</td>\n",
       "\t\t<td>0</td>\n",
       "\t\t<td>0.0</td>\n",
       "\t\t<td>100.0</td>\n",
       "\t</tr>\n",
       "\t<tr>\n",
       "\t\t<td>balance</td>\n",
       "\t\t<td>FLOAT</td>\n",
       "\t\t<td>8000</td>\n",
       "\t\t<td>0</td>\n",
       "\t\t<td>None</td>\n",
       "\t\t<td>2906</td>\n",
       "\t\t<td>5094</td>\n",
       "\t\t<td>0</td>\n",
       "\t\t<td>0.0</td>\n",
       "\t\t<td>100.0</td>\n",
       "\t</tr>\n",
       "\t<tr>\n",
       "\t\t<td>products_number</td>\n",
       "\t\t<td>BIGINT</td>\n",
       "\t\t<td>8000</td>\n",
       "\t\t<td>0</td>\n",
       "\t\t<td>None</td>\n",
       "\t\t<td>0</td>\n",
       "\t\t<td>8000</td>\n",
       "\t\t<td>0</td>\n",
       "\t\t<td>0.0</td>\n",
       "\t\t<td>100.0</td>\n",
       "\t</tr>\n",
       "\t<tr>\n",
       "\t\t<td>credit_card</td>\n",
       "\t\t<td>BIGINT</td>\n",
       "\t\t<td>8000</td>\n",
       "\t\t<td>0</td>\n",
       "\t\t<td>None</td>\n",
       "\t\t<td>2351</td>\n",
       "\t\t<td>5649</td>\n",
       "\t\t<td>0</td>\n",
       "\t\t<td>0.0</td>\n",
       "\t\t<td>100.0</td>\n",
       "\t</tr>\n",
       "\t<tr>\n",
       "\t\t<td>country</td>\n",
       "\t\t<td>VARCHAR(256) CHARACTER SET LATIN</td>\n",
       "\t\t<td>8000</td>\n",
       "\t\t<td>0</td>\n",
       "\t\t<td>0</td>\n",
       "\t\t<td>None</td>\n",
       "\t\t<td>None</td>\n",
       "\t\t<td>None</td>\n",
       "\t\t<td>0.0</td>\n",
       "\t\t<td>100.0</td>\n",
       "\t</tr>\n",
       "\t<tr>\n",
       "\t\t<td>credit_score</td>\n",
       "\t\t<td>BIGINT</td>\n",
       "\t\t<td>8000</td>\n",
       "\t\t<td>0</td>\n",
       "\t\t<td>None</td>\n",
       "\t\t<td>0</td>\n",
       "\t\t<td>8000</td>\n",
       "\t\t<td>0</td>\n",
       "\t\t<td>0.0</td>\n",
       "\t\t<td>100.0</td>\n",
       "\t</tr>\n",
       "</table></html>"
      ],
      "text/plain": [
       "          ColumnName                          Datatype  NonNullCount  NullCount  BlankCount  ZeroCount  PositiveCount  NegativeCount  NullPercentage  NonNullPercentage\n",
       "0             tenure                            BIGINT          8000          0         NaN      330.0         7670.0            0.0             0.0              100.0\n",
       "1      active_member                            BIGINT          8000          0         NaN     3866.0         4134.0            0.0             0.0              100.0\n",
       "2              churn                            BIGINT          8000          0         NaN     6347.0         1653.0            0.0             0.0              100.0\n",
       "3                age                           INTEGER          8000          0         NaN        0.0         8000.0            0.0             0.0              100.0\n",
       "4             gender   VARCHAR(20) CHARACTER SET LATIN          8000          0         0.0        NaN            NaN            NaN             0.0              100.0\n",
       "5        customer_id                            BIGINT          8000          0         NaN        0.0         8000.0            0.0             0.0              100.0\n",
       "6   estimated_salary                             FLOAT          8000          0         NaN        0.0         8000.0            0.0             0.0              100.0\n",
       "7            balance                             FLOAT          8000          0         NaN     2906.0         5094.0            0.0             0.0              100.0\n",
       "8    products_number                            BIGINT          8000          0         NaN        0.0         8000.0            0.0             0.0              100.0\n",
       "9        credit_card                            BIGINT          8000          0         NaN     2351.0         5649.0            0.0             0.0              100.0\n",
       "10           country  VARCHAR(256) CHARACTER SET LATIN          8000          0         0.0        NaN            NaN            NaN             0.0              100.0\n",
       "11      credit_score                            BIGINT          8000          0         NaN        0.0         8000.0            0.0             0.0              100.0"
      ]
     },
     "metadata": {},
     "output_type": "display_data"
    },
    {
     "name": "stdout",
     "output_type": "stream",
     "text": [
      "        customer_id  credit_score       age    tenure     balance  products_number  credit_card  active_member  estimated_salary     churn\n",
      "func                                                                                                                                      \n",
      "std    7.204971e+04        96.708    10.476     2.895   62439.369            0.583        0.456          0.500         57434.007     0.405\n",
      "25%    1.562819e+07       584.000    32.000     3.000       0.000            1.000        0.000          0.000         51364.125     0.000\n",
      "50%    1.569074e+07       652.000    37.000     5.000   96986.030            1.000        1.000          1.000        100565.590     0.000\n",
      "75%    1.575281e+07       718.000    44.000     7.000  127621.900            2.000        1.000          1.000        149595.113     0.000\n",
      "max    1.581569e+07       850.000    92.000    10.000  250898.090            4.000        1.000          1.000        199970.740     1.000\n",
      "min    1.556570e+07       350.000    18.000     0.000       0.000            1.000        0.000          0.000            90.070     0.000\n",
      "mean   1.569075e+07       650.381    38.948     5.013   76263.531            1.532        0.706          0.517        100200.787     0.207\n",
      "count  8.000000e+03      8000.000  8000.000  8000.000    8000.000         8000.000     8000.000       8000.000          8000.000  8000.000\n",
      "\n",
      "Statistics of Data:\n"
     ]
    },
    {
     "data": {
      "text/html": [
       "<style type=\"text/css\">\n",
       "\ttable {border:ridge 5px;}\n",
       "\ttable td {border:inset 1px;}\n",
       "\ttable tr#HeaderRow {background-color:grey; color:white;}</style>\n",
       "<html><table>\n",
       "\t<tr id=\"HeaderRow\">\n",
       "\t\t<th>func</th>\n",
       "\t\t<th>customer_id</th>\n",
       "\t\t<th>credit_score</th>\n",
       "\t\t<th>age</th>\n",
       "\t\t<th>tenure</th>\n",
       "\t\t<th>balance</th>\n",
       "\t\t<th>products_number</th>\n",
       "\t\t<th>credit_card</th>\n",
       "\t\t<th>active_member</th>\n",
       "\t\t<th>estimated_salary</th>\n",
       "\t\t<th>churn</th>\n",
       "\t</tr>\n",
       "\t<tr>\n",
       "\t\t<td>50%</td>\n",
       "\t\t<td>15690743.5</td>\n",
       "\t\t<td>652</td>\n",
       "\t\t<td>37</td>\n",
       "\t\t<td>5</td>\n",
       "\t\t<td>96986.03</td>\n",
       "\t\t<td>1</td>\n",
       "\t\t<td>1</td>\n",
       "\t\t<td>1</td>\n",
       "\t\t<td>100565.59</td>\n",
       "\t\t<td>0</td>\n",
       "\t</tr>\n",
       "\t<tr>\n",
       "\t\t<td>count</td>\n",
       "\t\t<td>8000</td>\n",
       "\t\t<td>8000</td>\n",
       "\t\t<td>8000</td>\n",
       "\t\t<td>8000</td>\n",
       "\t\t<td>8000</td>\n",
       "\t\t<td>8000</td>\n",
       "\t\t<td>8000</td>\n",
       "\t\t<td>8000</td>\n",
       "\t\t<td>8000</td>\n",
       "\t\t<td>8000</td>\n",
       "\t</tr>\n",
       "\t<tr>\n",
       "\t\t<td>mean</td>\n",
       "\t\t<td>15690753.432</td>\n",
       "\t\t<td>650.381</td>\n",
       "\t\t<td>38.948</td>\n",
       "\t\t<td>5.013</td>\n",
       "\t\t<td>76263.531</td>\n",
       "\t\t<td>1.532</td>\n",
       "\t\t<td>0.706</td>\n",
       "\t\t<td>0.517</td>\n",
       "\t\t<td>100200.787</td>\n",
       "\t\t<td>0.207</td>\n",
       "\t</tr>\n",
       "\t<tr>\n",
       "\t\t<td>min</td>\n",
       "\t\t<td>15565701</td>\n",
       "\t\t<td>350</td>\n",
       "\t\t<td>18</td>\n",
       "\t\t<td>0</td>\n",
       "\t\t<td>0</td>\n",
       "\t\t<td>1</td>\n",
       "\t\t<td>0</td>\n",
       "\t\t<td>0</td>\n",
       "\t\t<td>90.07</td>\n",
       "\t\t<td>0</td>\n",
       "\t</tr>\n",
       "\t<tr>\n",
       "\t\t<td>max</td>\n",
       "\t\t<td>15815690</td>\n",
       "\t\t<td>850</td>\n",
       "\t\t<td>92</td>\n",
       "\t\t<td>10</td>\n",
       "\t\t<td>250898.09</td>\n",
       "\t\t<td>4</td>\n",
       "\t\t<td>1</td>\n",
       "\t\t<td>1</td>\n",
       "\t\t<td>199970.74</td>\n",
       "\t\t<td>1</td>\n",
       "\t</tr>\n",
       "\t<tr>\n",
       "\t\t<td>75%</td>\n",
       "\t\t<td>15752810.75</td>\n",
       "\t\t<td>718</td>\n",
       "\t\t<td>44</td>\n",
       "\t\t<td>7</td>\n",
       "\t\t<td>127621.9</td>\n",
       "\t\t<td>2</td>\n",
       "\t\t<td>1</td>\n",
       "\t\t<td>1</td>\n",
       "\t\t<td>149595.113</td>\n",
       "\t\t<td>0</td>\n",
       "\t</tr>\n",
       "\t<tr>\n",
       "\t\t<td>25%</td>\n",
       "\t\t<td>15628194.75</td>\n",
       "\t\t<td>584</td>\n",
       "\t\t<td>32</td>\n",
       "\t\t<td>3</td>\n",
       "\t\t<td>0</td>\n",
       "\t\t<td>1</td>\n",
       "\t\t<td>0</td>\n",
       "\t\t<td>0</td>\n",
       "\t\t<td>51364.125</td>\n",
       "\t\t<td>0</td>\n",
       "\t</tr>\n",
       "\t<tr>\n",
       "\t\t<td>std</td>\n",
       "\t\t<td>72049.707</td>\n",
       "\t\t<td>96.708</td>\n",
       "\t\t<td>10.476</td>\n",
       "\t\t<td>2.895</td>\n",
       "\t\t<td>62439.369</td>\n",
       "\t\t<td>0.583</td>\n",
       "\t\t<td>0.456</td>\n",
       "\t\t<td>0.5</td>\n",
       "\t\t<td>57434.007</td>\n",
       "\t\t<td>0.405</td>\n",
       "\t</tr>\n",
       "</table></html>"
      ],
      "text/plain": [
       "        customer_id  credit_score       age    tenure     balance  products_number  credit_card  active_member  estimated_salary     churn\n",
       "func                                                                                                                                      \n",
       "50%    1.569074e+07       652.000    37.000     5.000   96986.030            1.000        1.000          1.000        100565.590     0.000\n",
       "count  8.000000e+03      8000.000  8000.000  8000.000    8000.000         8000.000     8000.000       8000.000          8000.000  8000.000\n",
       "mean   1.569075e+07       650.381    38.948     5.013   76263.531            1.532        0.706          0.517        100200.787     0.207\n",
       "min    1.556570e+07       350.000    18.000     0.000       0.000            1.000        0.000          0.000            90.070     0.000\n",
       "max    1.581569e+07       850.000    92.000    10.000  250898.090            4.000        1.000          1.000        199970.740     1.000\n",
       "75%    1.575281e+07       718.000    44.000     7.000  127621.900            2.000        1.000          1.000        149595.113     0.000\n",
       "25%    1.562819e+07       584.000    32.000     3.000       0.000            1.000        0.000          0.000         51364.125     0.000\n",
       "std    7.204971e+04        96.708    10.476     2.895   62439.369            0.583        0.456          0.500         57434.007     0.405"
      ]
     },
     "metadata": {},
     "output_type": "display_data"
    },
    {
     "name": "stdout",
     "output_type": "stream",
     "text": [
      "\n",
      "Categorical Columns with their Distinct values:\n",
      "ColumnName                DistinctValueCount\n",
      "country                   3         \n",
      "gender                    2         \n",
      "\n",
      "No Futile columns found.\n",
      "\n",
      "Target Column Distribution:\n"
     ]
    },
    {
     "data": {
      "image/png": "[encoded data removed]",
      "text/plain": [
       "<Figure size 600x600 with 1 Axes>"
      ]
     },
     "metadata": {},
     "output_type": "display_data"
    },
    {
     "name": "stdout",
     "output_type": "stream",
     "text": [
      "Columns with outlier percentage :-                                                                                                                                                                                                                                                                                                                                                                                                                                                                                  \n",
      "        ColumnName  OutlierPercentage\n",
      "0              age             3.5625\n",
      "1  products_number             0.6500\n",
      "2     credit_score             0.1625\n",
      "3            churn            20.6625\n",
      "                                                                                        \r"
     ]
    },
    {
     "data": {
      "text/html": [
       "\n",
       "            <style>\n",
       "                .custom-div {\n",
       "                    background-color: lightgray;\n",
       "                    color: #000000;\n",
       "                    padding: 10px;\n",
       "                    border-radius: 8px;\n",
       "                    box-shadow: 0 3px 4px rgba(0 -  0 -  0 -  0.2);\n",
       "                    margin-bottom: 10px;\n",
       "                    text-align: center;\n",
       "                }\n",
       "            </style>\n",
       "        <br><div class=\"custom-div\"><h3><span style=\"color: green;\">1. Feature Exploration -></span> 2. Feature Engineering -> 3. Data Preparation -> 4. Model Training & Evaluation<center></h3></center></div>"
      ],
      "text/plain": [
       "<IPython.core.display.HTML object>"
      ]
     },
     "metadata": {},
     "output_type": "display_data"
    },
    {
     "name": "stdout",
     "output_type": "stream",
     "text": [
      "                                                                                        \r"
     ]
    },
    {
     "data": {
      "text/html": [
       "Feature Engineering started ..."
      ],
      "text/plain": [
       "<IPython.core.display.HTML object>"
      ]
     },
     "metadata": {},
     "output_type": "display_data"
    },
    {
     "name": "stdout",
     "output_type": "stream",
     "text": [
      "                                                                                        \r"
     ]
    },
    {
     "data": {
      "text/html": [
       "\n",
       "Handling duplicate records present in dataset ..."
      ],
      "text/plain": [
       "<IPython.core.display.HTML object>"
      ]
     },
     "metadata": {},
     "output_type": "display_data"
    },
    {
     "name": "stdout",
     "output_type": "stream",
     "text": [
      "Analysis completed. No action taken.                                                    \n",
      "                                                                                        \r"
     ]
    },
    {
     "data": {
      "text/html": [
       "Total time to handle duplicate records: 1.63 sec  "
      ],
      "text/plain": [
       "<IPython.core.display.HTML object>"
      ]
     },
     "metadata": {},
     "output_type": "display_data"
    },
    {
     "name": "stdout",
     "output_type": "stream",
     "text": [
      "                                                                                        \r"
     ]
    },
    {
     "data": {
      "text/html": [
       "\n",
       "Starting customized anti-select columns ..."
      ],
      "text/plain": [
       "<IPython.core.display.HTML object>"
      ]
     },
     "metadata": {},
     "output_type": "display_data"
    },
    {
     "name": "stdout",
     "output_type": "stream",
     "text": [
      "                                                                                        \r"
     ]
    },
    {
     "data": {
      "text/html": [
       "Updated dataset sample after performing anti-select columns:"
      ],
      "text/plain": [
       "<IPython.core.display.HTML object>"
      ]
     },
     "metadata": {},
     "output_type": "display_data"
    },
    {
     "data": {
      "text/html": [
       "<style type=\"text/css\">\n",
       "\ttable {border:ridge 5px;}\n",
       "\ttable td {border:inset 1px;}\n",
       "\ttable tr#HeaderRow {background-color:grey; color:white;}</style>\n",
       "<html><table>\n",
       "\t<tr id=\"HeaderRow\">\n",
       "\t\t<th>credit_score</th>\n",
       "\t\t<th>country</th>\n",
       "\t\t<th>gender</th>\n",
       "\t\t<th>age</th>\n",
       "\t\t<th>tenure</th>\n",
       "\t\t<th>balance</th>\n",
       "\t\t<th>products_number</th>\n",
       "\t\t<th>credit_card</th>\n",
       "\t\t<th>active_member</th>\n",
       "\t\t<th>estimated_salary</th>\n",
       "\t\t<th>churn</th>\n",
       "\t</tr>\n",
       "\t<tr>\n",
       "\t\t<td>569</td>\n",
       "\t\t<td>Spain</td>\n",
       "\t\t<td>Female</td>\n",
       "\t\t<td>34</td>\n",
       "\t\t<td>3</td>\n",
       "\t\t<td>0.0</td>\n",
       "\t\t<td>1</td>\n",
       "\t\t<td>1</td>\n",
       "\t\t<td>0</td>\n",
       "\t\t<td>133997.53</td>\n",
       "\t\t<td>0</td>\n",
       "\t</tr>\n",
       "\t<tr>\n",
       "\t\t<td>721</td>\n",
       "\t\t<td>Germany</td>\n",
       "\t\t<td>Male</td>\n",
       "\t\t<td>28</td>\n",
       "\t\t<td>9</td>\n",
       "\t\t<td>154475.54</td>\n",
       "\t\t<td>2</td>\n",
       "\t\t<td>0</td>\n",
       "\t\t<td>1</td>\n",
       "\t\t<td>101300.94</td>\n",
       "\t\t<td>1</td>\n",
       "\t</tr>\n",
       "\t<tr>\n",
       "\t\t<td>850</td>\n",
       "\t\t<td>Spain</td>\n",
       "\t\t<td>Female</td>\n",
       "\t\t<td>57</td>\n",
       "\t\t<td>8</td>\n",
       "\t\t<td>126776.3</td>\n",
       "\t\t<td>2</td>\n",
       "\t\t<td>1</td>\n",
       "\t\t<td>1</td>\n",
       "\t\t<td>132298.49</td>\n",
       "\t\t<td>0</td>\n",
       "\t</tr>\n",
       "\t<tr>\n",
       "\t\t<td>515</td>\n",
       "\t\t<td>France</td>\n",
       "\t\t<td>Female</td>\n",
       "\t\t<td>37</td>\n",
       "\t\t<td>0</td>\n",
       "\t\t<td>196853.62</td>\n",
       "\t\t<td>1</td>\n",
       "\t\t<td>1</td>\n",
       "\t\t<td>1</td>\n",
       "\t\t<td>132770.11</td>\n",
       "\t\t<td>0</td>\n",
       "\t</tr>\n",
       "\t<tr>\n",
       "\t\t<td>728</td>\n",
       "\t\t<td>France</td>\n",
       "\t\t<td>Female</td>\n",
       "\t\t<td>46</td>\n",
       "\t\t<td>2</td>\n",
       "\t\t<td>109705.52</td>\n",
       "\t\t<td>1</td>\n",
       "\t\t<td>1</td>\n",
       "\t\t<td>0</td>\n",
       "\t\t<td>20276.87</td>\n",
       "\t\t<td>1</td>\n",
       "\t</tr>\n",
       "\t<tr>\n",
       "\t\t<td>612</td>\n",
       "\t\t<td>France</td>\n",
       "\t\t<td>Female</td>\n",
       "\t\t<td>38</td>\n",
       "\t\t<td>1</td>\n",
       "\t\t<td>0.0</td>\n",
       "\t\t<td>2</td>\n",
       "\t\t<td>1</td>\n",
       "\t\t<td>1</td>\n",
       "\t\t<td>9209.21</td>\n",
       "\t\t<td>0</td>\n",
       "\t</tr>\n",
       "\t<tr>\n",
       "\t\t<td>638</td>\n",
       "\t\t<td>Germany</td>\n",
       "\t\t<td>Male</td>\n",
       "\t\t<td>37</td>\n",
       "\t\t<td>2</td>\n",
       "\t\t<td>89728.86</td>\n",
       "\t\t<td>2</td>\n",
       "\t\t<td>1</td>\n",
       "\t\t<td>1</td>\n",
       "\t\t<td>37294.88</td>\n",
       "\t\t<td>0</td>\n",
       "\t</tr>\n",
       "\t<tr>\n",
       "\t\t<td>639</td>\n",
       "\t\t<td>Germany</td>\n",
       "\t\t<td>Female</td>\n",
       "\t\t<td>46</td>\n",
       "\t\t<td>10</td>\n",
       "\t\t<td>110031.09</td>\n",
       "\t\t<td>2</td>\n",
       "\t\t<td>1</td>\n",
       "\t\t<td>1</td>\n",
       "\t\t<td>133995.59</td>\n",
       "\t\t<td>0</td>\n",
       "\t</tr>\n",
       "\t<tr>\n",
       "\t\t<td>665</td>\n",
       "\t\t<td>Spain</td>\n",
       "\t\t<td>Male</td>\n",
       "\t\t<td>41</td>\n",
       "\t\t<td>8</td>\n",
       "\t\t<td>0.0</td>\n",
       "\t\t<td>2</td>\n",
       "\t\t<td>1</td>\n",
       "\t\t<td>0</td>\n",
       "\t\t<td>132152.32</td>\n",
       "\t\t<td>0</td>\n",
       "\t</tr>\n",
       "\t<tr>\n",
       "\t\t<td>663</td>\n",
       "\t\t<td>Germany</td>\n",
       "\t\t<td>Male</td>\n",
       "\t\t<td>32</td>\n",
       "\t\t<td>3</td>\n",
       "\t\t<td>108586.86</td>\n",
       "\t\t<td>1</td>\n",
       "\t\t<td>1</td>\n",
       "\t\t<td>1</td>\n",
       "\t\t<td>182355.21</td>\n",
       "\t\t<td>0</td>\n",
       "\t</tr>\n",
       "</table></html>"
      ],
      "text/plain": [
       "   credit_score  country  gender  age  tenure    balance  products_number  credit_card  active_member  estimated_salary  churn\n",
       "0           569    Spain  Female   34       3       0.00                1            1              0         133997.53      0\n",
       "1           721  Germany    Male   28       9  154475.54                2            0              1         101300.94      1\n",
       "2           850    Spain  Female   57       8  126776.30                2            1              1         132298.49      0\n",
       "3           515   France  Female   37       0  196853.62                1            1              1         132770.11      0\n",
       "4           728   France  Female   46       2  109705.52                1            1              0          20276.87      1\n",
       "5           612   France  Female   38       1       0.00                2            1              1           9209.21      0\n",
       "6           638  Germany    Male   37       2   89728.86                2            1              1          37294.88      0\n",
       "7           639  Germany  Female   46      10  110031.09                2            1              1         133995.59      0\n",
       "8           665    Spain    Male   41       8       0.00                2            1              0         132152.32      0\n",
       "9           663  Germany    Male   32       3  108586.86                1            1              1         182355.21      0"
      ]
     },
     "metadata": {},
     "output_type": "display_data"
    },
    {
     "name": "stdout",
     "output_type": "stream",
     "text": [
      "                                                                                        \r"
     ]
    },
    {
     "data": {
      "text/html": [
       "8000 rows X 11 columns"
      ],
      "text/plain": [
       "<IPython.core.display.HTML object>"
      ]
     },
     "metadata": {},
     "output_type": "display_data"
    },
    {
     "name": "stdout",
     "output_type": "stream",
     "text": [
      "                                                                                         \r"
     ]
    },
    {
     "data": {
      "text/html": [
       "\n",
       "Handling less significant features from data ..."
      ],
      "text/plain": [
       "<IPython.core.display.HTML object>"
      ]
     },
     "metadata": {},
     "output_type": "display_data"
    },
    {
     "name": "stdout",
     "output_type": "stream",
     "text": [
      "Analysis indicates all categorical columns are significant. No action Needed.            \n",
      "                                                                                         \r"
     ]
    },
    {
     "data": {
      "text/html": [
       "Total time to handle less significant features: 17.38 sec  "
      ],
      "text/plain": [
       "<IPython.core.display.HTML object>"
      ]
     },
     "metadata": {},
     "output_type": "display_data"
    },
    {
     "name": "stdout",
     "output_type": "stream",
     "text": [
      "                                                                                         \r"
     ]
    },
    {
     "data": {
      "text/html": [
       "\n",
       "Handling Date Features ..."
      ],
      "text/plain": [
       "<IPython.core.display.HTML object>"
      ]
     },
     "metadata": {},
     "output_type": "display_data"
    },
    {
     "name": "stdout",
     "output_type": "stream",
     "text": [
      "Analysis Completed. Dataset does not contain any feature related to dates. No action needed.\n",
      "                                                                                         \r"
     ]
    },
    {
     "data": {
      "text/html": [
       "Total time to handle date features: 0.00 sec\n"
      ],
      "text/plain": [
       "<IPython.core.display.HTML object>"
      ]
     },
     "metadata": {},
     "output_type": "display_data"
    },
    {
     "name": "stdout",
     "output_type": "stream",
     "text": [
      "Proceeding with default option for missing value imputation.                             \n",
      "Proceeding with default option for handling remaining missing values.                    \n",
      "                                                                                         \r"
     ]
    },
    {
     "data": {
      "text/html": [
       "\n",
       "Checking Missing values in dataset ..."
      ],
      "text/plain": [
       "<IPython.core.display.HTML object>"
      ]
     },
     "metadata": {},
     "output_type": "display_data"
    },
    {
     "name": "stdout",
     "output_type": "stream",
     "text": [
      "Analysis Completed. No Missing Values Detected.                                          \n",
      "                                                                                         \r"
     ]
    },
    {
     "data": {
      "text/html": [
       "Total time to find missing values in data: 8.02 sec  "
      ],
      "text/plain": [
       "<IPython.core.display.HTML object>"
      ]
     },
     "metadata": {},
     "output_type": "display_data"
    },
    {
     "name": "stdout",
     "output_type": "stream",
     "text": [
      "                                                                                         \r"
     ]
    },
    {
     "data": {
      "text/html": [
       "\n",
       "Imputing Missing Values ..."
      ],
      "text/plain": [
       "<IPython.core.display.HTML object>"
      ]
     },
     "metadata": {},
     "output_type": "display_data"
    },
    {
     "name": "stdout",
     "output_type": "stream",
     "text": [
      "Analysis completed. No imputation required.                                              \n",
      "                                                                                         \r"
     ]
    },
    {
     "data": {
      "text/html": [
       "Time taken to perform imputation: 0.01 sec  "
      ],
      "text/plain": [
       "<IPython.core.display.HTML object>"
      ]
     },
     "metadata": {},
     "output_type": "display_data"
    },
    {
     "name": "stdout",
     "output_type": "stream",
     "text": [
      "No information provided for Equal-Width Transformation.                                  \n",
      "                                                                                         \r"
     ]
    },
    {
     "data": {
      "text/html": [
       "Variable-Width binning information:-"
      ],
      "text/plain": [
       "<IPython.core.display.HTML object>"
      ]
     },
     "metadata": {},
     "output_type": "display_data"
    },
    {
     "data": {
      "text/html": [
       "<div>\n",
       "<style scoped>\n",
       "    .dataframe tbody tr th:only-of-type {\n",
       "        vertical-align: middle;\n",
       "    }\n",
       "\n",
       "    .dataframe tbody tr th {\n",
       "        vertical-align: top;\n",
       "    }\n",
       "\n",
       "    .dataframe thead th {\n",
       "        text-align: right;\n",
       "    }\n",
       "</style>\n",
       "<table border=\"1\" class=\"dataframe\">\n",
       "  <thead>\n",
       "    <tr style=\"text-align: right;\">\n",
       "      <th></th>\n",
       "      <th>ColumnName</th>\n",
       "      <th>MinValue</th>\n",
       "      <th>MaxValue</th>\n",
       "      <th>Label</th>\n",
       "    </tr>\n",
       "  </thead>\n",
       "  <tbody>\n",
       "    <tr>\n",
       "      <th>0</th>\n",
       "      <td>age</td>\n",
       "      <td>0</td>\n",
       "      <td>29</td>\n",
       "      <td>young</td>\n",
       "    </tr>\n",
       "    <tr>\n",
       "      <th>1</th>\n",
       "      <td>age</td>\n",
       "      <td>30</td>\n",
       "      <td>59</td>\n",
       "      <td>adult</td>\n",
       "    </tr>\n",
       "    <tr>\n",
       "      <th>2</th>\n",
       "      <td>age</td>\n",
       "      <td>60</td>\n",
       "      <td>120</td>\n",
       "      <td>old</td>\n",
       "    </tr>\n",
       "  </tbody>\n",
       "</table>\n",
       "</div>"
      ],
      "text/plain": [
       "  ColumnName  MinValue  MaxValue  Label\n",
       "0        age         0        29  young\n",
       "1        age        30        59  adult\n",
       "2        age        60       120    old"
      ]
     },
     "metadata": {},
     "output_type": "display_data"
    },
    {
     "name": "stdout",
     "output_type": "stream",
     "text": [
      "                                                                                         \r"
     ]
    },
    {
     "data": {
      "text/html": [
       "3 rows X 4 columns"
      ],
      "text/plain": [
       "<IPython.core.display.HTML object>"
      ]
     },
     "metadata": {},
     "output_type": "display_data"
    },
    {
     "name": "stdout",
     "output_type": "stream",
     "text": [
      "                                                                                         \r"
     ]
    },
    {
     "data": {
      "text/html": [
       "Updated dataset sample after performing Variable-Width binning:"
      ],
      "text/plain": [
       "<IPython.core.display.HTML object>"
      ]
     },
     "metadata": {},
     "output_type": "display_data"
    },
    {
     "data": {
      "text/html": [
       "<style type=\"text/css\">\n",
       "\ttable {border:ridge 5px;}\n",
       "\ttable td {border:inset 1px;}\n",
       "\ttable tr#HeaderRow {background-color:grey; color:white;}</style>\n",
       "<html><table>\n",
       "\t<tr id=\"HeaderRow\">\n",
       "\t\t<th>credit_score</th>\n",
       "\t\t<th>churn</th>\n",
       "\t\t<th>active_member</th>\n",
       "\t\t<th>credit_card</th>\n",
       "\t\t<th>country</th>\n",
       "\t\t<th>products_number</th>\n",
       "\t\t<th>gender</th>\n",
       "\t\t<th>tenure</th>\n",
       "\t\t<th>id</th>\n",
       "\t\t<th>balance</th>\n",
       "\t\t<th>estimated_salary</th>\n",
       "\t\t<th>age</th>\n",
       "\t</tr>\n",
       "\t<tr>\n",
       "\t\t<td>734</td>\n",
       "\t\t<td>0</td>\n",
       "\t\t<td>1</td>\n",
       "\t\t<td>1</td>\n",
       "\t\t<td>France</td>\n",
       "\t\t<td>1</td>\n",
       "\t\t<td>Male</td>\n",
       "\t\t<td>1</td>\n",
       "\t\t<td>1994</td>\n",
       "\t\t<td>118537.47</td>\n",
       "\t\t<td>116912.45</td>\n",
       "\t\t<td>adult</td>\n",
       "\t</tr>\n",
       "\t<tr>\n",
       "\t\t<td>734</td>\n",
       "\t\t<td>0</td>\n",
       "\t\t<td>1</td>\n",
       "\t\t<td>1</td>\n",
       "\t\t<td>Spain</td>\n",
       "\t\t<td>2</td>\n",
       "\t\t<td>Female</td>\n",
       "\t\t<td>3</td>\n",
       "\t\t<td>5859</td>\n",
       "\t\t<td>92636.96</td>\n",
       "\t\t<td>125671.29</td>\n",
       "\t\t<td>adult</td>\n",
       "\t</tr>\n",
       "\t<tr>\n",
       "\t\t<td>734</td>\n",
       "\t\t<td>0</td>\n",
       "\t\t<td>1</td>\n",
       "\t\t<td>0</td>\n",
       "\t\t<td>Germany</td>\n",
       "\t\t<td>2</td>\n",
       "\t\t<td>Female</td>\n",
       "\t\t<td>6</td>\n",
       "\t\t<td>7637</td>\n",
       "\t\t<td>71283.09</td>\n",
       "\t\t<td>38984.37</td>\n",
       "\t\t<td>adult</td>\n",
       "\t</tr>\n",
       "\t<tr>\n",
       "\t\t<td>734</td>\n",
       "\t\t<td>0</td>\n",
       "\t\t<td>1</td>\n",
       "\t\t<td>1</td>\n",
       "\t\t<td>Germany</td>\n",
       "\t\t<td>2</td>\n",
       "\t\t<td>Female</td>\n",
       "\t\t<td>10</td>\n",
       "\t\t<td>2021</td>\n",
       "\t\t<td>91522.04</td>\n",
       "\t\t<td>138835.91</td>\n",
       "\t\t<td>adult</td>\n",
       "\t</tr>\n",
       "\t<tr>\n",
       "\t\t<td>734</td>\n",
       "\t\t<td>0</td>\n",
       "\t\t<td>0</td>\n",
       "\t\t<td>0</td>\n",
       "\t\t<td>Spain</td>\n",
       "\t\t<td>1</td>\n",
       "\t\t<td>Female</td>\n",
       "\t\t<td>2</td>\n",
       "\t\t<td>2611</td>\n",
       "\t\t<td>130404.92</td>\n",
       "\t\t<td>34548.74</td>\n",
       "\t\t<td>adult</td>\n",
       "\t</tr>\n",
       "\t<tr>\n",
       "\t\t<td>734</td>\n",
       "\t\t<td>0</td>\n",
       "\t\t<td>0</td>\n",
       "\t\t<td>0</td>\n",
       "\t\t<td>Spain</td>\n",
       "\t\t<td>2</td>\n",
       "\t\t<td>Female</td>\n",
       "\t\t<td>6</td>\n",
       "\t\t<td>1931</td>\n",
       "\t\t<td>92126.26</td>\n",
       "\t\t<td>112973.34</td>\n",
       "\t\t<td>adult</td>\n",
       "\t</tr>\n",
       "\t<tr>\n",
       "\t\t<td>734</td>\n",
       "\t\t<td>1</td>\n",
       "\t\t<td>0</td>\n",
       "\t\t<td>1</td>\n",
       "\t\t<td>France</td>\n",
       "\t\t<td>1</td>\n",
       "\t\t<td>Female</td>\n",
       "\t\t<td>3</td>\n",
       "\t\t<td>7763</td>\n",
       "\t\t<td>0.0</td>\n",
       "\t\t<td>130805.54</td>\n",
       "\t\t<td>adult</td>\n",
       "\t</tr>\n",
       "\t<tr>\n",
       "\t\t<td>734</td>\n",
       "\t\t<td>1</td>\n",
       "\t\t<td>1</td>\n",
       "\t\t<td>0</td>\n",
       "\t\t<td>Spain</td>\n",
       "\t\t<td>2</td>\n",
       "\t\t<td>Female</td>\n",
       "\t\t<td>3</td>\n",
       "\t\t<td>774</td>\n",
       "\t\t<td>55853.33</td>\n",
       "\t\t<td>94811.85</td>\n",
       "\t\t<td>adult</td>\n",
       "\t</tr>\n",
       "\t<tr>\n",
       "\t\t<td>734</td>\n",
       "\t\t<td>0</td>\n",
       "\t\t<td>0</td>\n",
       "\t\t<td>1</td>\n",
       "\t\t<td>Germany</td>\n",
       "\t\t<td>1</td>\n",
       "\t\t<td>Male</td>\n",
       "\t\t<td>5</td>\n",
       "\t\t<td>567</td>\n",
       "\t\t<td>121898.58</td>\n",
       "\t\t<td>61829.89</td>\n",
       "\t\t<td>adult</td>\n",
       "\t</tr>\n",
       "\t<tr>\n",
       "\t\t<td>734</td>\n",
       "\t\t<td>0</td>\n",
       "\t\t<td>1</td>\n",
       "\t\t<td>1</td>\n",
       "\t\t<td>Spain</td>\n",
       "\t\t<td>1</td>\n",
       "\t\t<td>Female</td>\n",
       "\t\t<td>0</td>\n",
       "\t\t<td>7774</td>\n",
       "\t\t<td>152760.24</td>\n",
       "\t\t<td>48990.5</td>\n",
       "\t\t<td>adult</td>\n",
       "\t</tr>\n",
       "</table></html>"
      ],
      "text/plain": [
       "              churn  active_member  credit_card  country  products_number  gender  tenure    id    balance  estimated_salary    age\n",
       "credit_score                                                                                                                       \n",
       "734               0              1            1   France                1    Male       1  1994  118537.47         116912.45  adult\n",
       "734               0              1            1    Spain                2  Female       3  5859   92636.96         125671.29  adult\n",
       "734               0              1            0  Germany                2  Female       6  7637   71283.09          38984.37  adult\n",
       "734               0              1            1  Germany                2  Female      10  2021   91522.04         138835.91  adult\n",
       "734               0              0            0    Spain                1  Female       2  2611  130404.92          34548.74  adult\n",
       "734               0              0            0    Spain                2  Female       6  1931   92126.26         112973.34  adult\n",
       "734               1              0            1   France                1  Female       3  7763       0.00         130805.54  adult\n",
       "734               1              1            0    Spain                2  Female       3   774   55853.33          94811.85  adult\n",
       "734               0              0            1  Germany                1    Male       5   567  121898.58          61829.89  adult\n",
       "734               0              1            1    Spain                1  Female       0  7774  152760.24          48990.50  adult"
      ]
     },
     "metadata": {},
     "output_type": "display_data"
    },
    {
     "name": "stdout",
     "output_type": "stream",
     "text": [
      "                                                                                         \r"
     ]
    },
    {
     "data": {
      "text/html": [
       "8000 rows X 12 columns"
      ],
      "text/plain": [
       "<IPython.core.display.HTML object>"
      ]
     },
     "metadata": {},
     "output_type": "display_data"
    },
    {
     "name": "stdout",
     "output_type": "stream",
     "text": [
      "Skipping customized string manipulation.                                                 \n",
      "                                                                                         \r"
     ]
    },
    {
     "data": {
      "text/html": [
       "\n",
       "Starting Customized Categorical Feature Encoding ..."
      ],
      "text/plain": [
       "<IPython.core.display.HTML object>"
      ]
     },
     "metadata": {},
     "output_type": "display_data"
    },
    {
     "name": "stdout",
     "output_type": "stream",
     "text": [
      "                                                                                         \r"
     ]
    },
    {
     "data": {
      "text/html": [
       "Updated dataset sample after performing target encoding:"
      ],
      "text/plain": [
       "<IPython.core.display.HTML object>"
      ]
     },
     "metadata": {},
     "output_type": "display_data"
    },
    {
     "data": {
      "text/html": [
       "<style type=\"text/css\">\n",
       "\ttable {border:ridge 5px;}\n",
       "\ttable td {border:inset 1px;}\n",
       "\ttable tr#HeaderRow {background-color:grey; color:white;}</style>\n",
       "<html><table>\n",
       "\t<tr id=\"HeaderRow\">\n",
       "\t\t<th>gender</th>\n",
       "\t\t<th>credit_score</th>\n",
       "\t\t<th>churn</th>\n",
       "\t\t<th>age</th>\n",
       "\t\t<th>active_member</th>\n",
       "\t\t<th>credit_card</th>\n",
       "\t\t<th>country</th>\n",
       "\t\t<th>products_number</th>\n",
       "\t\t<th>tenure</th>\n",
       "\t\t<th>id</th>\n",
       "\t\t<th>balance</th>\n",
       "\t\t<th>estimated_salary</th>\n",
       "\t</tr>\n",
       "\t<tr>\n",
       "\t\t<td>0.2530258561170947</td>\n",
       "\t\t<td>530</td>\n",
       "\t\t<td>1</td>\n",
       "\t\t<td>adult</td>\n",
       "\t\t<td>1</td>\n",
       "\t\t<td>0</td>\n",
       "\t\t<td>France</td>\n",
       "\t\t<td>1</td>\n",
       "\t\t<td>4</td>\n",
       "\t\t<td>4829</td>\n",
       "\t\t<td>120905.03</td>\n",
       "\t\t<td>123475.88</td>\n",
       "\t</tr>\n",
       "\t<tr>\n",
       "\t\t<td>0.2530258561170947</td>\n",
       "\t\t<td>549</td>\n",
       "\t\t<td>0</td>\n",
       "\t\t<td>adult</td>\n",
       "\t\t<td>1</td>\n",
       "\t\t<td>1</td>\n",
       "\t\t<td>Germany</td>\n",
       "\t\t<td>2</td>\n",
       "\t\t<td>1</td>\n",
       "\t\t<td>5687</td>\n",
       "\t\t<td>130622.34</td>\n",
       "\t\t<td>128499.94</td>\n",
       "\t</tr>\n",
       "\t<tr>\n",
       "\t\t<td>0.2530258561170947</td>\n",
       "\t\t<td>549</td>\n",
       "\t\t<td>0</td>\n",
       "\t\t<td>adult</td>\n",
       "\t\t<td>0</td>\n",
       "\t\t<td>1</td>\n",
       "\t\t<td>Germany</td>\n",
       "\t\t<td>1</td>\n",
       "\t\t<td>3</td>\n",
       "\t\t<td>420</td>\n",
       "\t\t<td>134985.66</td>\n",
       "\t\t<td>6101.41</td>\n",
       "\t</tr>\n",
       "\t<tr>\n",
       "\t\t<td>0.2530258561170947</td>\n",
       "\t\t<td>549</td>\n",
       "\t\t<td>0</td>\n",
       "\t\t<td>adult</td>\n",
       "\t\t<td>0</td>\n",
       "\t\t<td>0</td>\n",
       "\t\t<td>France</td>\n",
       "\t\t<td>2</td>\n",
       "\t\t<td>4</td>\n",
       "\t\t<td>3791</td>\n",
       "\t\t<td>0.0</td>\n",
       "\t\t<td>139463.57</td>\n",
       "\t</tr>\n",
       "\t<tr>\n",
       "\t\t<td>0.2530258561170947</td>\n",
       "\t\t<td>549</td>\n",
       "\t\t<td>0</td>\n",
       "\t\t<td>young</td>\n",
       "\t\t<td>1</td>\n",
       "\t\t<td>1</td>\n",
       "\t\t<td>France</td>\n",
       "\t\t<td>2</td>\n",
       "\t\t<td>8</td>\n",
       "\t\t<td>5529</td>\n",
       "\t\t<td>0.0</td>\n",
       "\t\t<td>189558.44</td>\n",
       "\t</tr>\n",
       "\t<tr>\n",
       "\t\t<td>0.2530258561170947</td>\n",
       "\t\t<td>549</td>\n",
       "\t\t<td>0</td>\n",
       "\t\t<td>young</td>\n",
       "\t\t<td>1</td>\n",
       "\t\t<td>1</td>\n",
       "\t\t<td>Spain</td>\n",
       "\t\t<td>2</td>\n",
       "\t\t<td>9</td>\n",
       "\t\t<td>6762</td>\n",
       "\t\t<td>0.0</td>\n",
       "\t\t<td>14406.41</td>\n",
       "\t</tr>\n",
       "\t<tr>\n",
       "\t\t<td>0.16827359621091076</td>\n",
       "\t\t<td>631</td>\n",
       "\t\t<td>1</td>\n",
       "\t\t<td>adult</td>\n",
       "\t\t<td>0</td>\n",
       "\t\t<td>0</td>\n",
       "\t\t<td>Germany</td>\n",
       "\t\t<td>2</td>\n",
       "\t\t<td>8</td>\n",
       "\t\t<td>1902</td>\n",
       "\t\t<td>138292.64</td>\n",
       "\t\t<td>152422.91</td>\n",
       "\t</tr>\n",
       "\t<tr>\n",
       "\t\t<td>0.16827359621091076</td>\n",
       "\t\t<td>631</td>\n",
       "\t\t<td>0</td>\n",
       "\t\t<td>adult</td>\n",
       "\t\t<td>1</td>\n",
       "\t\t<td>1</td>\n",
       "\t\t<td>France</td>\n",
       "\t\t<td>1</td>\n",
       "\t\t<td>8</td>\n",
       "\t\t<td>3316</td>\n",
       "\t\t<td>129205.49</td>\n",
       "\t\t<td>79146.36</td>\n",
       "\t</tr>\n",
       "\t<tr>\n",
       "\t\t<td>0.16827359621091076</td>\n",
       "\t\t<td>631</td>\n",
       "\t\t<td>0</td>\n",
       "\t\t<td>adult</td>\n",
       "\t\t<td>0</td>\n",
       "\t\t<td>1</td>\n",
       "\t\t<td>France</td>\n",
       "\t\t<td>2</td>\n",
       "\t\t<td>9</td>\n",
       "\t\t<td>5894</td>\n",
       "\t\t<td>112392.45</td>\n",
       "\t\t<td>24472.23</td>\n",
       "\t</tr>\n",
       "\t<tr>\n",
       "\t\t<td>0.16827359621091076</td>\n",
       "\t\t<td>631</td>\n",
       "\t\t<td>0</td>\n",
       "\t\t<td>adult</td>\n",
       "\t\t<td>0</td>\n",
       "\t\t<td>1</td>\n",
       "\t\t<td>Spain</td>\n",
       "\t\t<td>2</td>\n",
       "\t\t<td>7</td>\n",
       "\t\t<td>1503</td>\n",
       "\t\t<td>0.0</td>\n",
       "\t\t<td>181605.85</td>\n",
       "\t</tr>\n",
       "</table></html>"
      ],
      "text/plain": [
       "          credit_score  churn    age  active_member  credit_card  country  products_number  tenure    id    balance  estimated_salary\n",
       "gender                                                                                                                               \n",
       "0.253026           530      1  adult              1            0   France                1       4  4829  120905.03         123475.88\n",
       "0.253026           549      0  adult              1            1  Germany                2       1  5687  130622.34         128499.94\n",
       "0.253026           549      0  adult              0            1  Germany                1       3   420  134985.66           6101.41\n",
       "0.253026           549      0  adult              0            0   France                2       4  3791       0.00         139463.57\n",
       "0.253026           549      0  young              1            1   France                2       8  5529       0.00         189558.44\n",
       "0.253026           549      0  young              1            1    Spain                2       9  6762       0.00          14406.41\n",
       "0.168274           631      1  adult              0            0  Germany                2       8  1902  138292.64         152422.91\n",
       "0.168274           631      0  adult              1            1   France                1       8  3316  129205.49          79146.36\n",
       "0.168274           631      0  adult              0            1   France                2       9  5894  112392.45          24472.23\n",
       "0.168274           631      0  adult              0            1    Spain                2       7  1503       0.00         181605.85"
      ]
     },
     "metadata": {},
     "output_type": "display_data"
    },
    {
     "name": "stdout",
     "output_type": "stream",
     "text": [
      "                                                                                         \r"
     ]
    },
    {
     "data": {
      "text/html": [
       "8000 rows X 12 columns"
      ],
      "text/plain": [
       "<IPython.core.display.HTML object>"
      ]
     },
     "metadata": {},
     "output_type": "display_data"
    },
    {
     "name": "stdout",
     "output_type": "stream",
     "text": [
      "                                                                                         \r"
     ]
    },
    {
     "data": {
      "text/html": [
       "\n",
       "Performing encoding for categorical columns ..."
      ],
      "text/plain": [
       "<IPython.core.display.HTML object>"
      ]
     },
     "metadata": {},
     "output_type": "display_data"
    },
    {
     "name": "stdout",
     "output_type": "stream",
     "text": [
      "                                                                                         \r"
     ]
    },
    {
     "data": {
      "text/html": [
       "ONE HOT Encoding these Columns:"
      ],
      "text/plain": [
       "<IPython.core.display.HTML object>"
      ]
     },
     "metadata": {},
     "output_type": "display_data"
    },
    {
     "name": "stdout",
     "output_type": "stream",
     "text": [
      "['age', 'country']\n",
      "                                                                                         \r"
     ]
    },
    {
     "data": {
      "text/html": [
       "Sample of dataset after performing one hot encoding:"
      ],
      "text/plain": [
       "<IPython.core.display.HTML object>"
      ]
     },
     "metadata": {},
     "output_type": "display_data"
    },
    {
     "data": {
      "text/html": [
       "<style type=\"text/css\">\n",
       "\ttable {border:ridge 5px;}\n",
       "\ttable td {border:inset 1px;}\n",
       "\ttable tr#HeaderRow {background-color:grey; color:white;}</style>\n",
       "<html><table>\n",
       "\t<tr id=\"HeaderRow\">\n",
       "\t\t<th>gender</th>\n",
       "\t\t<th>credit_score</th>\n",
       "\t\t<th>churn</th>\n",
       "\t\t<th>age_0</th>\n",
       "\t\t<th>age_1</th>\n",
       "\t\t<th>age_2</th>\n",
       "\t\t<th>active_member</th>\n",
       "\t\t<th>credit_card</th>\n",
       "\t\t<th>country_0</th>\n",
       "\t\t<th>country_1</th>\n",
       "\t\t<th>country_2</th>\n",
       "\t\t<th>products_number</th>\n",
       "\t\t<th>tenure</th>\n",
       "\t\t<th>id</th>\n",
       "\t\t<th>balance</th>\n",
       "\t\t<th>estimated_salary</th>\n",
       "\t</tr>\n",
       "\t<tr>\n",
       "\t\t<td>0.16827359621091076</td>\n",
       "\t\t<td>631</td>\n",
       "\t\t<td>0</td>\n",
       "\t\t<td>1</td>\n",
       "\t\t<td>0</td>\n",
       "\t\t<td>0</td>\n",
       "\t\t<td>0</td>\n",
       "\t\t<td>1</td>\n",
       "\t\t<td>1</td>\n",
       "\t\t<td>0</td>\n",
       "\t\t<td>0</td>\n",
       "\t\t<td>1</td>\n",
       "\t\t<td>8</td>\n",
       "\t\t<td>1407</td>\n",
       "\t\t<td>100654.8</td>\n",
       "\t\t<td>171587.9</td>\n",
       "\t</tr>\n",
       "\t<tr>\n",
       "\t\t<td>0.16827359621091076</td>\n",
       "\t\t<td>631</td>\n",
       "\t\t<td>0</td>\n",
       "\t\t<td>0</td>\n",
       "\t\t<td>0</td>\n",
       "\t\t<td>1</td>\n",
       "\t\t<td>0</td>\n",
       "\t\t<td>1</td>\n",
       "\t\t<td>0</td>\n",
       "\t\t<td>0</td>\n",
       "\t\t<td>1</td>\n",
       "\t\t<td>2</td>\n",
       "\t\t<td>3</td>\n",
       "\t\t<td>3797</td>\n",
       "\t\t<td>0.0</td>\n",
       "\t\t<td>13813.24</td>\n",
       "\t</tr>\n",
       "\t<tr>\n",
       "\t\t<td>0.16827359621091076</td>\n",
       "\t\t<td>631</td>\n",
       "\t\t<td>0</td>\n",
       "\t\t<td>0</td>\n",
       "\t\t<td>0</td>\n",
       "\t\t<td>1</td>\n",
       "\t\t<td>1</td>\n",
       "\t\t<td>1</td>\n",
       "\t\t<td>1</td>\n",
       "\t\t<td>0</td>\n",
       "\t\t<td>0</td>\n",
       "\t\t<td>2</td>\n",
       "\t\t<td>2</td>\n",
       "\t\t<td>748</td>\n",
       "\t\t<td>0.0</td>\n",
       "\t\t<td>18581.84</td>\n",
       "\t</tr>\n",
       "\t<tr>\n",
       "\t\t<td>0.16827359621091076</td>\n",
       "\t\t<td>631</td>\n",
       "\t\t<td>0</td>\n",
       "\t\t<td>0</td>\n",
       "\t\t<td>0</td>\n",
       "\t\t<td>1</td>\n",
       "\t\t<td>1</td>\n",
       "\t\t<td>1</td>\n",
       "\t\t<td>0</td>\n",
       "\t\t<td>0</td>\n",
       "\t\t<td>1</td>\n",
       "\t\t<td>2</td>\n",
       "\t\t<td>3</td>\n",
       "\t\t<td>3918</td>\n",
       "\t\t<td>0.0</td>\n",
       "\t\t<td>197963.46</td>\n",
       "\t</tr>\n",
       "\t<tr>\n",
       "\t\t<td>0.16827359621091076</td>\n",
       "\t\t<td>751</td>\n",
       "\t\t<td>0</td>\n",
       "\t\t<td>0</td>\n",
       "\t\t<td>0</td>\n",
       "\t\t<td>1</td>\n",
       "\t\t<td>0</td>\n",
       "\t\t<td>1</td>\n",
       "\t\t<td>1</td>\n",
       "\t\t<td>0</td>\n",
       "\t\t<td>0</td>\n",
       "\t\t<td>1</td>\n",
       "\t\t<td>1</td>\n",
       "\t\t<td>2230</td>\n",
       "\t\t<td>135536.5</td>\n",
       "\t\t<td>66825.33</td>\n",
       "\t</tr>\n",
       "\t<tr>\n",
       "\t\t<td>0.16827359621091076</td>\n",
       "\t\t<td>751</td>\n",
       "\t\t<td>0</td>\n",
       "\t\t<td>1</td>\n",
       "\t\t<td>0</td>\n",
       "\t\t<td>0</td>\n",
       "\t\t<td>0</td>\n",
       "\t\t<td>1</td>\n",
       "\t\t<td>0</td>\n",
       "\t\t<td>0</td>\n",
       "\t\t<td>1</td>\n",
       "\t\t<td>1</td>\n",
       "\t\t<td>4</td>\n",
       "\t\t<td>7427</td>\n",
       "\t\t<td>79281.61</td>\n",
       "\t\t<td>117547.76</td>\n",
       "\t</tr>\n",
       "\t<tr>\n",
       "\t\t<td>0.2530258561170947</td>\n",
       "\t\t<td>530</td>\n",
       "\t\t<td>1</td>\n",
       "\t\t<td>1</td>\n",
       "\t\t<td>0</td>\n",
       "\t\t<td>0</td>\n",
       "\t\t<td>1</td>\n",
       "\t\t<td>0</td>\n",
       "\t\t<td>1</td>\n",
       "\t\t<td>0</td>\n",
       "\t\t<td>0</td>\n",
       "\t\t<td>1</td>\n",
       "\t\t<td>4</td>\n",
       "\t\t<td>4829</td>\n",
       "\t\t<td>120905.03</td>\n",
       "\t\t<td>123475.88</td>\n",
       "\t</tr>\n",
       "\t<tr>\n",
       "\t\t<td>0.2530258561170947</td>\n",
       "\t\t<td>549</td>\n",
       "\t\t<td>0</td>\n",
       "\t\t<td>1</td>\n",
       "\t\t<td>0</td>\n",
       "\t\t<td>0</td>\n",
       "\t\t<td>1</td>\n",
       "\t\t<td>1</td>\n",
       "\t\t<td>0</td>\n",
       "\t\t<td>1</td>\n",
       "\t\t<td>0</td>\n",
       "\t\t<td>2</td>\n",
       "\t\t<td>1</td>\n",
       "\t\t<td>5687</td>\n",
       "\t\t<td>130622.34</td>\n",
       "\t\t<td>128499.94</td>\n",
       "\t</tr>\n",
       "\t<tr>\n",
       "\t\t<td>0.2530258561170947</td>\n",
       "\t\t<td>549</td>\n",
       "\t\t<td>0</td>\n",
       "\t\t<td>1</td>\n",
       "\t\t<td>0</td>\n",
       "\t\t<td>0</td>\n",
       "\t\t<td>0</td>\n",
       "\t\t<td>1</td>\n",
       "\t\t<td>0</td>\n",
       "\t\t<td>1</td>\n",
       "\t\t<td>0</td>\n",
       "\t\t<td>1</td>\n",
       "\t\t<td>3</td>\n",
       "\t\t<td>420</td>\n",
       "\t\t<td>134985.66</td>\n",
       "\t\t<td>6101.41</td>\n",
       "\t</tr>\n",
       "\t<tr>\n",
       "\t\t<td>0.2530258561170947</td>\n",
       "\t\t<td>549</td>\n",
       "\t\t<td>0</td>\n",
       "\t\t<td>1</td>\n",
       "\t\t<td>0</td>\n",
       "\t\t<td>0</td>\n",
       "\t\t<td>0</td>\n",
       "\t\t<td>0</td>\n",
       "\t\t<td>1</td>\n",
       "\t\t<td>0</td>\n",
       "\t\t<td>0</td>\n",
       "\t\t<td>2</td>\n",
       "\t\t<td>4</td>\n",
       "\t\t<td>3791</td>\n",
       "\t\t<td>0.0</td>\n",
       "\t\t<td>139463.57</td>\n",
       "\t</tr>\n",
       "</table></html>"
      ],
      "text/plain": [
       "          credit_score  churn  age_0  age_1  age_2  active_member  credit_card  country_0  country_1  country_2  products_number  tenure    id    balance  estimated_salary\n",
       "gender                                                                                                                                                                     \n",
       "0.168274           631      0      1      0      0              0            1          1          0          0                1       8  1407  100654.80         171587.90\n",
       "0.168274           631      0      0      0      1              0            1          0          0          1                2       3  3797       0.00          13813.24\n",
       "0.168274           631      0      0      0      1              1            1          1          0          0                2       2   748       0.00          18581.84\n",
       "0.168274           631      0      0      0      1              1            1          0          0          1                2       3  3918       0.00         197963.46\n",
       "0.168274           751      0      0      0      1              0            1          1          0          0                1       1  2230  135536.50          66825.33\n",
       "0.168274           751      0      1      0      0              0            1          0          0          1                1       4  7427   79281.61         117547.76\n",
       "0.253026           530      1      1      0      0              1            0          1          0          0                1       4  4829  120905.03         123475.88\n",
       "0.253026           549      0      1      0      0              1            1          0          1          0                2       1  5687  130622.34         128499.94\n",
       "0.253026           549      0      1      0      0              0            1          0          1          0                1       3   420  134985.66           6101.41\n",
       "0.253026           549      0      1      0      0              0            0          1          0          0                2       4  3791       0.00         139463.57"
      ]
     },
     "metadata": {},
     "output_type": "display_data"
    },
    {
     "name": "stdout",
     "output_type": "stream",
     "text": [
      "                                                                                         \r"
     ]
    },
    {
     "data": {
      "text/html": [
       "8000 rows X 16 columns"
      ],
      "text/plain": [
       "<IPython.core.display.HTML object>"
      ]
     },
     "metadata": {},
     "output_type": "display_data"
    },
    {
     "name": "stdout",
     "output_type": "stream",
     "text": [
      "                                                                                         \r"
     ]
    },
    {
     "data": {
      "text/html": [
       "Time taken to encode the columns: 13.64 sec"
      ],
      "text/plain": [
       "<IPython.core.display.HTML object>"
      ]
     },
     "metadata": {},
     "output_type": "display_data"
    },
    {
     "name": "stdout",
     "output_type": "stream",
     "text": [
      "                                                                                         \r"
     ]
    },
    {
     "data": {
      "text/html": [
       "\n",
       "Starting customized mathematical transformation ..."
      ],
      "text/plain": [
       "<IPython.core.display.HTML object>"
      ]
     },
     "metadata": {},
     "output_type": "display_data"
    },
    {
     "name": "stdout",
     "output_type": "stream",
     "text": [
      "Skipping customized mathematical transformation.                                         \n",
      "                                                                                         \r"
     ]
    },
    {
     "data": {
      "text/html": [
       "\n",
       "Starting customized non-linear transformation ..."
      ],
      "text/plain": [
       "<IPython.core.display.HTML object>"
      ]
     },
     "metadata": {},
     "output_type": "display_data"
    },
    {
     "name": "stdout",
     "output_type": "stream",
     "text": [
      "Skipping customized non-linear transformation.                                           \n",
      "                                                                                          \r"
     ]
    },
    {
     "data": {
      "text/html": [
       "\n",
       "            <style>\n",
       "                .custom-div {\n",
       "                    background-color: lightgray;\n",
       "                    color: #000000;\n",
       "                    padding: 10px;\n",
       "                    border-radius: 8px;\n",
       "                    box-shadow: 0 3px 4px rgba(0 -  0 -  0 -  0.2);\n",
       "                    margin-bottom: 10px;\n",
       "                    text-align: center;\n",
       "                }\n",
       "            </style>\n",
       "        <br><div class=\"custom-div\"><h3><span style=\"color: green;\">1. Feature Exploration -> 2. Feature Engineering -></span> 3. Data Preparation -> 4. Model Training & Evaluation<center></h3></center></div>"
      ],
      "text/plain": [
       "<IPython.core.display.HTML object>"
      ]
     },
     "metadata": {},
     "output_type": "display_data"
    },
    {
     "name": "stdout",
     "output_type": "stream",
     "text": [
      "                                                                                          \r"
     ]
    },
    {
     "data": {
      "text/html": [
       "Data preparation started ..."
      ],
      "text/plain": [
       "<IPython.core.display.HTML object>"
      ]
     },
     "metadata": {},
     "output_type": "display_data"
    },
    {
     "name": "stdout",
     "output_type": "stream",
     "text": [
      "No information provided for performing customized imbalanced dataset sampling. AutoML will Proceed with default option.\n",
      "                                                                                          \r"
     ]
    },
    {
     "data": {
      "text/html": [
       "\n",
       "Starting customized outlier processing ..."
      ],
      "text/plain": [
       "<IPython.core.display.HTML object>"
      ]
     },
     "metadata": {},
     "output_type": "display_data"
    },
    {
     "name": "stdout",
     "output_type": "stream",
     "text": [
      "No information provided for customized outlier processing. AutoML will proceed with default settings.\n",
      "                                                                                          \r"
     ]
    },
    {
     "data": {
      "text/html": [
       "\n",
       "Outlier preprocessing ..."
      ],
      "text/plain": [
       "<IPython.core.display.HTML object>"
      ]
     },
     "metadata": {},
     "output_type": "display_data"
    },
    {
     "name": "stdout",
     "output_type": "stream",
     "text": [
      "Columns with outlier percentage :-                                                                                                                                                                                                                                                                                                                                                                                                                                                                                  \n",
      "        ColumnName  OutlierPercentage\n",
      "0  products_number             0.6500\n",
      "1            churn            20.6625\n",
      "2     credit_score             0.1625\n",
      "                                                                                          \r"
     ]
    },
    {
     "data": {
      "text/html": [
       "Deleting rows of these columns:"
      ],
      "text/plain": [
       "<IPython.core.display.HTML object>"
      ]
     },
     "metadata": {},
     "output_type": "display_data"
    },
    {
     "name": "stdout",
     "output_type": "stream",
     "text": [
      "['credit_score', 'products_number']\n",
      "                                                                                          \r"
     ]
    },
    {
     "data": {
      "text/html": [
       "Sample of dataset after removing outlier rows:"
      ],
      "text/plain": [
       "<IPython.core.display.HTML object>"
      ]
     },
     "metadata": {},
     "output_type": "display_data"
    },
    {
     "data": {
      "text/html": [
       "<style type=\"text/css\">\n",
       "\ttable {border:ridge 5px;}\n",
       "\ttable td {border:inset 1px;}\n",
       "\ttable tr#HeaderRow {background-color:grey; color:white;}</style>\n",
       "<html><table>\n",
       "\t<tr id=\"HeaderRow\">\n",
       "\t\t<th>gender</th>\n",
       "\t\t<th>credit_score</th>\n",
       "\t\t<th>churn</th>\n",
       "\t\t<th>age_0</th>\n",
       "\t\t<th>age_1</th>\n",
       "\t\t<th>age_2</th>\n",
       "\t\t<th>active_member</th>\n",
       "\t\t<th>credit_card</th>\n",
       "\t\t<th>country_0</th>\n",
       "\t\t<th>country_1</th>\n",
       "\t\t<th>country_2</th>\n",
       "\t\t<th>products_number</th>\n",
       "\t\t<th>tenure</th>\n",
       "\t\t<th>id</th>\n",
       "\t\t<th>balance</th>\n",
       "\t\t<th>estimated_salary</th>\n",
       "\t</tr>\n",
       "\t<tr>\n",
       "\t\t<td>0.2530258561170947</td>\n",
       "\t\t<td>549</td>\n",
       "\t\t<td>0</td>\n",
       "\t\t<td>0</td>\n",
       "\t\t<td>0</td>\n",
       "\t\t<td>1</td>\n",
       "\t\t<td>1</td>\n",
       "\t\t<td>1</td>\n",
       "\t\t<td>0</td>\n",
       "\t\t<td>0</td>\n",
       "\t\t<td>1</td>\n",
       "\t\t<td>2</td>\n",
       "\t\t<td>9</td>\n",
       "\t\t<td>6762</td>\n",
       "\t\t<td>0.0</td>\n",
       "\t\t<td>14406.41</td>\n",
       "\t</tr>\n",
       "\t<tr>\n",
       "\t\t<td>0.2530258561170947</td>\n",
       "\t\t<td>549</td>\n",
       "\t\t<td>1</td>\n",
       "\t\t<td>1</td>\n",
       "\t\t<td>0</td>\n",
       "\t\t<td>0</td>\n",
       "\t\t<td>1</td>\n",
       "\t\t<td>0</td>\n",
       "\t\t<td>0</td>\n",
       "\t\t<td>1</td>\n",
       "\t\t<td>0</td>\n",
       "\t\t<td>2</td>\n",
       "\t\t<td>1</td>\n",
       "\t\t<td>6204</td>\n",
       "\t\t<td>137592.31</td>\n",
       "\t\t<td>116548.02</td>\n",
       "\t</tr>\n",
       "\t<tr>\n",
       "\t\t<td>0.2530258561170947</td>\n",
       "\t\t<td>549</td>\n",
       "\t\t<td>0</td>\n",
       "\t\t<td>1</td>\n",
       "\t\t<td>0</td>\n",
       "\t\t<td>0</td>\n",
       "\t\t<td>1</td>\n",
       "\t\t<td>1</td>\n",
       "\t\t<td>1</td>\n",
       "\t\t<td>0</td>\n",
       "\t\t<td>0</td>\n",
       "\t\t<td>1</td>\n",
       "\t\t<td>7</td>\n",
       "\t\t<td>2382</td>\n",
       "\t\t<td>0.0</td>\n",
       "\t\t<td>109057.56</td>\n",
       "\t</tr>\n",
       "\t<tr>\n",
       "\t\t<td>0.2530258561170947</td>\n",
       "\t\t<td>549</td>\n",
       "\t\t<td>0</td>\n",
       "\t\t<td>1</td>\n",
       "\t\t<td>0</td>\n",
       "\t\t<td>0</td>\n",
       "\t\t<td>1</td>\n",
       "\t\t<td>0</td>\n",
       "\t\t<td>0</td>\n",
       "\t\t<td>1</td>\n",
       "\t\t<td>0</td>\n",
       "\t\t<td>1</td>\n",
       "\t\t<td>6</td>\n",
       "\t\t<td>3050</td>\n",
       "\t\t<td>124829.16</td>\n",
       "\t\t<td>93551.36</td>\n",
       "\t</tr>\n",
       "\t<tr>\n",
       "\t\t<td>0.2530258561170947</td>\n",
       "\t\t<td>608</td>\n",
       "\t\t<td>0</td>\n",
       "\t\t<td>1</td>\n",
       "\t\t<td>0</td>\n",
       "\t\t<td>0</td>\n",
       "\t\t<td>1</td>\n",
       "\t\t<td>1</td>\n",
       "\t\t<td>0</td>\n",
       "\t\t<td>1</td>\n",
       "\t\t<td>0</td>\n",
       "\t\t<td>2</td>\n",
       "\t\t<td>8</td>\n",
       "\t\t<td>1404</td>\n",
       "\t\t<td>103653.51</td>\n",
       "\t\t<td>137079.86</td>\n",
       "\t</tr>\n",
       "\t<tr>\n",
       "\t\t<td>0.2530258561170947</td>\n",
       "\t\t<td>608</td>\n",
       "\t\t<td>0</td>\n",
       "\t\t<td>1</td>\n",
       "\t\t<td>0</td>\n",
       "\t\t<td>0</td>\n",
       "\t\t<td>0</td>\n",
       "\t\t<td>0</td>\n",
       "\t\t<td>1</td>\n",
       "\t\t<td>0</td>\n",
       "\t\t<td>0</td>\n",
       "\t\t<td>1</td>\n",
       "\t\t<td>8</td>\n",
       "\t\t<td>7955</td>\n",
       "\t\t<td>85859.76</td>\n",
       "\t\t<td>142730.27</td>\n",
       "\t</tr>\n",
       "\t<tr>\n",
       "\t\t<td>0.16827359621091076</td>\n",
       "\t\t<td>631</td>\n",
       "\t\t<td>0</td>\n",
       "\t\t<td>1</td>\n",
       "\t\t<td>0</td>\n",
       "\t\t<td>0</td>\n",
       "\t\t<td>0</td>\n",
       "\t\t<td>1</td>\n",
       "\t\t<td>1</td>\n",
       "\t\t<td>0</td>\n",
       "\t\t<td>0</td>\n",
       "\t\t<td>1</td>\n",
       "\t\t<td>8</td>\n",
       "\t\t<td>1407</td>\n",
       "\t\t<td>100654.8</td>\n",
       "\t\t<td>171587.9</td>\n",
       "\t</tr>\n",
       "\t<tr>\n",
       "\t\t<td>0.16827359621091076</td>\n",
       "\t\t<td>631</td>\n",
       "\t\t<td>0</td>\n",
       "\t\t<td>0</td>\n",
       "\t\t<td>0</td>\n",
       "\t\t<td>1</td>\n",
       "\t\t<td>0</td>\n",
       "\t\t<td>1</td>\n",
       "\t\t<td>0</td>\n",
       "\t\t<td>0</td>\n",
       "\t\t<td>1</td>\n",
       "\t\t<td>2</td>\n",
       "\t\t<td>3</td>\n",
       "\t\t<td>3797</td>\n",
       "\t\t<td>0.0</td>\n",
       "\t\t<td>13813.24</td>\n",
       "\t</tr>\n",
       "\t<tr>\n",
       "\t\t<td>0.16827359621091076</td>\n",
       "\t\t<td>631</td>\n",
       "\t\t<td>0</td>\n",
       "\t\t<td>0</td>\n",
       "\t\t<td>0</td>\n",
       "\t\t<td>1</td>\n",
       "\t\t<td>1</td>\n",
       "\t\t<td>1</td>\n",
       "\t\t<td>1</td>\n",
       "\t\t<td>0</td>\n",
       "\t\t<td>0</td>\n",
       "\t\t<td>2</td>\n",
       "\t\t<td>2</td>\n",
       "\t\t<td>748</td>\n",
       "\t\t<td>0.0</td>\n",
       "\t\t<td>18581.84</td>\n",
       "\t</tr>\n",
       "\t<tr>\n",
       "\t\t<td>0.16827359621091076</td>\n",
       "\t\t<td>631</td>\n",
       "\t\t<td>0</td>\n",
       "\t\t<td>0</td>\n",
       "\t\t<td>0</td>\n",
       "\t\t<td>1</td>\n",
       "\t\t<td>1</td>\n",
       "\t\t<td>1</td>\n",
       "\t\t<td>0</td>\n",
       "\t\t<td>0</td>\n",
       "\t\t<td>1</td>\n",
       "\t\t<td>2</td>\n",
       "\t\t<td>3</td>\n",
       "\t\t<td>3918</td>\n",
       "\t\t<td>0.0</td>\n",
       "\t\t<td>197963.46</td>\n",
       "\t</tr>\n",
       "</table></html>"
      ],
      "text/plain": [
       "          credit_score  churn  age_0  age_1  age_2  active_member  credit_card  country_0  country_1  country_2  products_number  tenure    id    balance  estimated_salary\n",
       "gender                                                                                                                                                                     \n",
       "0.253026           549      0      0      0      1              1            1          0          0          1                2       9  6762       0.00          14406.41\n",
       "0.253026           549      1      1      0      0              1            0          0          1          0                2       1  6204  137592.31         116548.02\n",
       "0.253026           549      0      1      0      0              1            1          1          0          0                1       7  2382       0.00         109057.56\n",
       "0.253026           549      0      1      0      0              1            0          0          1          0                1       6  3050  124829.16          93551.36\n",
       "0.253026           608      0      1      0      0              1            1          0          1          0                2       8  1404  103653.51         137079.86\n",
       "0.253026           608      0      1      0      0              0            0          1          0          0                1       8  7955   85859.76         142730.27\n",
       "0.168274           631      0      1      0      0              0            1          1          0          0                1       8  1407  100654.80         171587.90\n",
       "0.168274           631      0      0      0      1              0            1          0          0          1                2       3  3797       0.00          13813.24\n",
       "0.168274           631      0      0      0      1              1            1          1          0          0                2       2   748       0.00          18581.84\n",
       "0.168274           631      0      0      0      1              1            1          0          0          1                2       3  3918       0.00         197963.46"
      ]
     },
     "metadata": {},
     "output_type": "display_data"
    },
    {
     "name": "stdout",
     "output_type": "stream",
     "text": [
      "                                                                                          \r"
     ]
    },
    {
     "data": {
      "text/html": [
       "7936 rows X 16 columns"
      ],
      "text/plain": [
       "<IPython.core.display.HTML object>"
      ]
     },
     "metadata": {},
     "output_type": "display_data"
    },
    {
     "name": "stdout",
     "output_type": "stream",
     "text": [
      "                                                                                          \r"
     ]
    },
    {
     "data": {
      "text/html": [
       "Time Taken by Outlier processing: 36.13 sec "
      ],
      "text/plain": [
       "<IPython.core.display.HTML object>"
      ]
     },
     "metadata": {},
     "output_type": "display_data"
    },
    {
     "name": "stdout",
     "output_type": "stream",
     "text": [
      "                                                                                          \r"
     ]
    },
    {
     "data": {
      "text/html": [
       "\n",
       "Checking imbalance data ..."
      ],
      "text/plain": [
       "<IPython.core.display.HTML object>"
      ]
     },
     "metadata": {},
     "output_type": "display_data"
    },
    {
     "name": "stdout",
     "output_type": "stream",
     "text": [
      "                                                                                          \r"
     ]
    },
    {
     "data": {
      "text/html": [
       "Imbalance Found."
      ],
      "text/plain": [
       "<IPython.core.display.HTML object>"
      ]
     },
     "metadata": {},
     "output_type": "display_data"
    },
    {
     "name": "stdout",
     "output_type": "stream",
     "text": [
      "                                                                                          \r"
     ]
    },
    {
     "data": {
      "text/html": [
       "\n",
       "Starting data imbalance handling ..."
      ],
      "text/plain": [
       "<IPython.core.display.HTML object>"
      ]
     },
     "metadata": {},
     "output_type": "display_data"
    },
    {
     "name": "stdout",
     "output_type": "stream",
     "text": [
      "                                                                                          \r"
     ]
    },
    {
     "data": {
      "text/html": [
       "\n",
       "Balancing the data using SMOTE..."
      ],
      "text/plain": [
       "<IPython.core.display.HTML object>"
      ]
     },
     "metadata": {},
     "output_type": "display_data"
    },
    {
     "name": "stdout",
     "output_type": "stream",
     "text": [
      "                                                                                          \r"
     ]
    },
    {
     "data": {
      "text/html": [
       "Handled imbalanced dataset using SMOTE: 0.06 sec"
      ],
      "text/plain": [
       "<IPython.core.display.HTML object>"
      ]
     },
     "metadata": {},
     "output_type": "display_data"
    },
    {
     "name": "stdout",
     "output_type": "stream",
     "text": [
      "                                                                                          \r"
     ]
    },
    {
     "data": {
      "text/html": [
       "Completed data imbalance handling."
      ],
      "text/plain": [
       "<IPython.core.display.HTML object>"
      ]
     },
     "metadata": {},
     "output_type": "display_data"
    },
    {
     "name": "stdout",
     "output_type": "stream",
     "text": [
      "                                                                                          \r"
     ]
    },
    {
     "data": {
      "text/html": [
       "\n",
       "Feature selection using lasso ..."
      ],
      "text/plain": [
       "<IPython.core.display.HTML object>"
      ]
     },
     "metadata": {},
     "output_type": "display_data"
    },
    {
     "name": "stdout",
     "output_type": "stream",
     "text": [
      "                                                                                          \r"
     ]
    },
    {
     "data": {
      "text/html": [
       "feature selected by lasso:"
      ],
      "text/plain": [
       "<IPython.core.display.HTML object>"
      ]
     },
     "metadata": {},
     "output_type": "display_data"
    },
    {
     "name": "stdout",
     "output_type": "stream",
     "text": [
      "['credit_score', 'country_1', 'age_2', 'age_0', 'active_member', 'credit_card', 'products_number', 'country_2', 'gender', 'tenure', 'country_0', 'balance', 'estimated_salary', 'age_1']\n",
      "                                                                                          \r"
     ]
    },
    {
     "data": {
      "text/html": [
       "Total time taken by feature selection: 96.25 sec  "
      ],
      "text/plain": [
       "<IPython.core.display.HTML object>"
      ]
     },
     "metadata": {},
     "output_type": "display_data"
    },
    {
     "name": "stdout",
     "output_type": "stream",
     "text": [
      "                                                                                          \r"
     ]
    },
    {
     "data": {
      "text/html": [
       "\n",
       "scaling Features of lasso data ..."
      ],
      "text/plain": [
       "<IPython.core.display.HTML object>"
      ]
     },
     "metadata": {},
     "output_type": "display_data"
    },
    {
     "name": "stdout",
     "output_type": "stream",
     "text": [
      "                                                                                          \r"
     ]
    },
    {
     "data": {
      "text/html": [
       "columns that will be scaled: "
      ],
      "text/plain": [
       "<IPython.core.display.HTML object>"
      ]
     },
     "metadata": {},
     "output_type": "display_data"
    },
    {
     "name": "stdout",
     "output_type": "stream",
     "text": [
      "['credit_score', 'active_member', 'credit_card', 'products_number', 'gender', 'tenure', 'balance', 'estimated_salary']\n",
      "                                                                                          \r"
     ]
    },
    {
     "data": {
      "text/html": [
       "Dataset sample after scaling:"
      ],
      "text/plain": [
       "<IPython.core.display.HTML object>"
      ]
     },
     "metadata": {},
     "output_type": "display_data"
    },
    {
     "data": {
      "text/html": [
       "<style type=\"text/css\">\n",
       "\ttable {border:ridge 5px;}\n",
       "\ttable td {border:inset 1px;}\n",
       "\ttable tr#HeaderRow {background-color:grey; color:white;}</style>\n",
       "<html><table>\n",
       "\t<tr id=\"HeaderRow\">\n",
       "\t\t<th>churn</th>\n",
       "\t\t<th>country_1</th>\n",
       "\t\t<th>age_2</th>\n",
       "\t\t<th>age_0</th>\n",
       "\t\t<th>country_2</th>\n",
       "\t\t<th>id</th>\n",
       "\t\t<th>country_0</th>\n",
       "\t\t<th>age_1</th>\n",
       "\t\t<th>credit_score</th>\n",
       "\t\t<th>active_member</th>\n",
       "\t\t<th>credit_card</th>\n",
       "\t\t<th>products_number</th>\n",
       "\t\t<th>gender</th>\n",
       "\t\t<th>tenure</th>\n",
       "\t\t<th>balance</th>\n",
       "\t\t<th>estimated_salary</th>\n",
       "\t</tr>\n",
       "\t<tr>\n",
       "\t\t<td>0</td>\n",
       "\t\t<td>1</td>\n",
       "\t\t<td>0</td>\n",
       "\t\t<td>1</td>\n",
       "\t\t<td>0</td>\n",
       "\t\t<td>2</td>\n",
       "\t\t<td>0</td>\n",
       "\t\t<td>0</td>\n",
       "\t\t<td>-1.1026260786744229</td>\n",
       "\t\t<td>1.3148075260699945</td>\n",
       "\t\t<td>-1.2817688953726483</td>\n",
       "\t\t<td>-0.7300008769676279</td>\n",
       "\t\t<td>1.0967456634359403</td>\n",
       "\t\t<td>0.43916493408393953</td>\n",
       "\t\t<td>0.7020454082761981</td>\n",
       "\t\t<td>-0.11761350757832034</td>\n",
       "\t</tr>\n",
       "\t<tr>\n",
       "\t\t<td>0</td>\n",
       "\t\t<td>1</td>\n",
       "\t\t<td>0</td>\n",
       "\t\t<td>1</td>\n",
       "\t\t<td>0</td>\n",
       "\t\t<td>4</td>\n",
       "\t\t<td>0</td>\n",
       "\t\t<td>0</td>\n",
       "\t\t<td>-0.4501295859745322</td>\n",
       "\t\t<td>1.3148075260699945</td>\n",
       "\t\t<td>0.7801718419053136</td>\n",
       "\t\t<td>1.16076246362145</td>\n",
       "\t\t<td>1.0967456634359403</td>\n",
       "\t\t<td>1.1744273547198574</td>\n",
       "\t\t<td>0.3556906432867941</td>\n",
       "\t\t<td>0.6416790631176587</td>\n",
       "\t</tr>\n",
       "\t<tr>\n",
       "\t\t<td>0</td>\n",
       "\t\t<td>0</td>\n",
       "\t\t<td>1</td>\n",
       "\t\t<td>0</td>\n",
       "\t\t<td>0</td>\n",
       "\t\t<td>5</td>\n",
       "\t\t<td>1</td>\n",
       "\t\t<td>0</td>\n",
       "\t\t<td>-0.19576654644745617</td>\n",
       "\t\t<td>-0.7605675965279302</td>\n",
       "\t\t<td>-1.2817688953726483</td>\n",
       "\t\t<td>1.16076246362145</td>\n",
       "\t\t<td>1.0967456634359403</td>\n",
       "\t\t<td>-0.6637286968699371</td>\n",
       "\t\t<td>-1.3396947213361015</td>\n",
       "\t\t<td>-1.2125394377765268</td>\n",
       "\t</tr>\n",
       "\t<tr>\n",
       "\t\t<td>0</td>\n",
       "\t\t<td>0</td>\n",
       "\t\t<td>0</td>\n",
       "\t\t<td>1</td>\n",
       "\t\t<td>0</td>\n",
       "\t\t<td>6</td>\n",
       "\t\t<td>1</td>\n",
       "\t\t<td>0</td>\n",
       "\t\t<td>-0.4501295859745322</td>\n",
       "\t\t<td>-0.7605675965279302</td>\n",
       "\t\t<td>-1.2817688953726483</td>\n",
       "\t\t<td>-0.7300008769676279</td>\n",
       "\t\t<td>1.0967456634359403</td>\n",
       "\t\t<td>1.1744273547198574</td>\n",
       "\t\t<td>0.06465116636258145</td>\n",
       "\t\t<td>0.7402424028694596</td>\n",
       "\t</tr>\n",
       "\t<tr>\n",
       "\t\t<td>0</td>\n",
       "\t\t<td>0</td>\n",
       "\t\t<td>0</td>\n",
       "\t\t<td>1</td>\n",
       "\t\t<td>1</td>\n",
       "\t\t<td>8</td>\n",
       "\t\t<td>0</td>\n",
       "\t\t<td>0</td>\n",
       "\t\t<td>-0.4501295859745322</td>\n",
       "\t\t<td>1.3148075260699945</td>\n",
       "\t\t<td>-1.2817688953726483</td>\n",
       "\t\t<td>-0.7300008769676279</td>\n",
       "\t\t<td>1.0967456634359403</td>\n",
       "\t\t<td>-1.398991117505855</td>\n",
       "\t\t<td>0.031089724693411633</td>\n",
       "\t\t<td>0.2136612263190778</td>\n",
       "\t</tr>\n",
       "\t<tr>\n",
       "\t\t<td>0</td>\n",
       "\t\t<td>0</td>\n",
       "\t\t<td>0</td>\n",
       "\t\t<td>0</td>\n",
       "\t\t<td>0</td>\n",
       "\t\t<td>9</td>\n",
       "\t\t<td>1</td>\n",
       "\t\t<td>1</td>\n",
       "\t\t<td>0.03647796790335238</td>\n",
       "\t\t<td>1.3148075260699945</td>\n",
       "\t\t<td>0.7801718419053136</td>\n",
       "\t\t<td>1.16076246362145</td>\n",
       "\t\t<td>1.0967456634359403</td>\n",
       "\t\t<td>0.07153372376598066</td>\n",
       "\t\t<td>-1.3396947213361015</td>\n",
       "\t\t<td>-1.733136247711274</td>\n",
       "\t</tr>\n",
       "\t<tr>\n",
       "\t\t<td>0</td>\n",
       "\t\t<td>1</td>\n",
       "\t\t<td>1</td>\n",
       "\t\t<td>0</td>\n",
       "\t\t<td>0</td>\n",
       "\t\t<td>7</td>\n",
       "\t\t<td>0</td>\n",
       "\t\t<td>0</td>\n",
       "\t\t<td>1.1313449641285926</td>\n",
       "\t\t<td>1.3148075260699945</td>\n",
       "\t\t<td>0.7801718419053136</td>\n",
       "\t\t<td>1.16076246362145</td>\n",
       "\t\t<td>1.0967456634359403</td>\n",
       "\t\t<td>1.909689775355775</td>\n",
       "\t\t<td>0.8345799814115609</td>\n",
       "\t\t<td>-0.9360814811460579</td>\n",
       "\t</tr>\n",
       "\t<tr>\n",
       "\t\t<td>0</td>\n",
       "\t\t<td>1</td>\n",
       "\t\t<td>1</td>\n",
       "\t\t<td>0</td>\n",
       "\t\t<td>0</td>\n",
       "\t\t<td>3</td>\n",
       "\t\t<td>0</td>\n",
       "\t\t<td>0</td>\n",
       "\t\t<td>-0.19576654644745617</td>\n",
       "\t\t<td>1.3148075260699945</td>\n",
       "\t\t<td>0.7801718419053136</td>\n",
       "\t\t<td>1.16076246362145</td>\n",
       "\t\t<td>1.0967456634359403</td>\n",
       "\t\t<td>-1.031359907187896</td>\n",
       "\t\t<td>0.24463169630144074</td>\n",
       "\t\t<td>-1.1980337112768917</td>\n",
       "\t</tr>\n",
       "\t<tr>\n",
       "\t\t<td>0</td>\n",
       "\t\t<td>0</td>\n",
       "\t\t<td>1</td>\n",
       "\t\t<td>0</td>\n",
       "\t\t<td>0</td>\n",
       "\t\t<td>1</td>\n",
       "\t\t<td>1</td>\n",
       "\t\t<td>0</td>\n",
       "\t\t<td>-0.4501295859745322</td>\n",
       "\t\t<td>1.3148075260699945</td>\n",
       "\t\t<td>0.7801718419053136</td>\n",
       "\t\t<td>1.16076246362145</td>\n",
       "\t\t<td>1.0967456634359403</td>\n",
       "\t\t<td>1.5420585650378162</td>\n",
       "\t\t<td>-1.3396947213361015</td>\n",
       "\t\t<td>0.43204499284615944</td>\n",
       "\t</tr>\n",
       "\t<tr>\n",
       "\t\t<td>1</td>\n",
       "\t\t<td>1</td>\n",
       "\t\t<td>0</td>\n",
       "\t\t<td>1</td>\n",
       "\t\t<td>0</td>\n",
       "\t\t<td>0</td>\n",
       "\t\t<td>0</td>\n",
       "\t\t<td>0</td>\n",
       "\t\t<td>-1.1026260786744229</td>\n",
       "\t\t<td>1.3148075260699945</td>\n",
       "\t\t<td>-1.2817688953726483</td>\n",
       "\t\t<td>1.16076246362145</td>\n",
       "\t\t<td>1.0967456634359403</td>\n",
       "\t\t<td>-1.398991117505855</td>\n",
       "\t\t<td>0.9108030057418961</td>\n",
       "\t\t<td>0.28353041166588516</td>\n",
       "\t</tr>\n",
       "</table></html>"
      ],
      "text/plain": [
       "   churn  country_1  age_2  age_0  country_2  id  country_0  age_1  credit_score  active_member  credit_card  products_number    gender    tenure   balance  estimated_salary\n",
       "0      0          1      0      1          0   2          0      0     -1.102626       1.314808    -1.281769        -0.730001  1.096746  0.439165  0.702045         -0.117614\n",
       "1      0          1      0      1          0   4          0      0     -0.450130       1.314808     0.780172         1.160762  1.096746  1.174427  0.355691          0.641679\n",
       "2      0          0      1      0          0   5          1      0     -0.195767      -0.760568    -1.281769         1.160762  1.096746 -0.663729 -1.339695         -1.212539\n",
       "3      0          0      0      1          0   6          1      0     -0.450130      -0.760568    -1.281769        -0.730001  1.096746  1.174427  0.064651          0.740242\n",
       "4      0          0      0      1          1   8          0      0     -0.450130       1.314808    -1.281769        -0.730001  1.096746 -1.398991  0.031090          0.213661\n",
       "5      0          0      0      0          0   9          1      1      0.036478       1.314808     0.780172         1.160762  1.096746  0.071534 -1.339695         -1.733136\n",
       "6      0          1      1      0          0   7          0      0      1.131345       1.314808     0.780172         1.160762  1.096746  1.909690  0.834580         -0.936081\n",
       "7      0          1      1      0          0   3          0      0     -0.195767       1.314808     0.780172         1.160762  1.096746 -1.031360  0.244632         -1.198034\n",
       "8      0          0      1      0          0   1          1      0     -0.450130       1.314808     0.780172         1.160762  1.096746  1.542059 -1.339695          0.432045\n",
       "9      1          1      0      1          0   0          0      0     -1.102626       1.314808    -1.281769         1.160762  1.096746 -1.398991  0.910803          0.283530"
      ]
     },
     "metadata": {},
     "output_type": "display_data"
    },
    {
     "name": "stdout",
     "output_type": "stream",
     "text": [
      "                                                                                          \r"
     ]
    },
    {
     "data": {
      "text/html": [
       "12694 rows X 16 columns"
      ],
      "text/plain": [
       "<IPython.core.display.HTML object>"
      ]
     },
     "metadata": {},
     "output_type": "display_data"
    },
    {
     "name": "stdout",
     "output_type": "stream",
     "text": [
      "                                                                                          \r"
     ]
    },
    {
     "data": {
      "text/html": [
       "Total time taken by feature scaling: 39.78 sec"
      ],
      "text/plain": [
       "<IPython.core.display.HTML object>"
      ]
     },
     "metadata": {},
     "output_type": "display_data"
    },
    {
     "name": "stdout",
     "output_type": "stream",
     "text": [
      "                                                                                          \r"
     ]
    },
    {
     "data": {
      "text/html": [
       "\n",
       "Feature selection using rfe ..."
      ],
      "text/plain": [
       "<IPython.core.display.HTML object>"
      ]
     },
     "metadata": {},
     "output_type": "display_data"
    },
    {
     "name": "stdout",
     "output_type": "stream",
     "text": [
      "                                                                                          \r"
     ]
    },
    {
     "data": {
      "text/html": [
       "feature selected by RFE:"
      ],
      "text/plain": [
       "<IPython.core.display.HTML object>"
      ]
     },
     "metadata": {},
     "output_type": "display_data"
    },
    {
     "name": "stdout",
     "output_type": "stream",
     "text": [
      "['products_number', 'tenure', 'country_0', 'credit_score', 'age_2', 'active_member', 'country_2', 'gender', 'balance', 'estimated_salary']\n",
      "                                                                                          \r"
     ]
    },
    {
     "data": {
      "text/html": [
       "Total time taken by feature selection: 88.32 sec  "
      ],
      "text/plain": [
       "<IPython.core.display.HTML object>"
      ]
     },
     "metadata": {},
     "output_type": "display_data"
    },
    {
     "name": "stdout",
     "output_type": "stream",
     "text": [
      "                                                                                          \r"
     ]
    },
    {
     "data": {
      "text/html": [
       "\n",
       "scaling Features of rfe data ..."
      ],
      "text/plain": [
       "<IPython.core.display.HTML object>"
      ]
     },
     "metadata": {},
     "output_type": "display_data"
    },
    {
     "name": "stdout",
     "output_type": "stream",
     "text": [
      "                                                                                          \r"
     ]
    },
    {
     "data": {
      "text/html": [
       "columns that will be scaled: "
      ],
      "text/plain": [
       "<IPython.core.display.HTML object>"
      ]
     },
     "metadata": {},
     "output_type": "display_data"
    },
    {
     "name": "stdout",
     "output_type": "stream",
     "text": [
      "['r_products_number', 'r_tenure', 'r_credit_score', 'r_active_member', 'r_gender', 'r_balance', 'r_estimated_salary']\n",
      "                                                                                          \r"
     ]
    },
    {
     "data": {
      "text/html": [
       "Dataset sample after scaling:"
      ],
      "text/plain": [
       "<IPython.core.display.HTML object>"
      ]
     },
     "metadata": {},
     "output_type": "display_data"
    },
    {
     "data": {
      "text/html": [
       "<style type=\"text/css\">\n",
       "\ttable {border:ridge 5px;}\n",
       "\ttable td {border:inset 1px;}\n",
       "\ttable tr#HeaderRow {background-color:grey; color:white;}</style>\n",
       "<html><table>\n",
       "\t<tr id=\"HeaderRow\">\n",
       "\t\t<th>r_country_2</th>\n",
       "\t\t<th>r_country_0</th>\n",
       "\t\t<th>churn</th>\n",
       "\t\t<th>r_age_2</th>\n",
       "\t\t<th>id</th>\n",
       "\t\t<th>r_products_number</th>\n",
       "\t\t<th>r_tenure</th>\n",
       "\t\t<th>r_credit_score</th>\n",
       "\t\t<th>r_active_member</th>\n",
       "\t\t<th>r_gender</th>\n",
       "\t\t<th>r_balance</th>\n",
       "\t\t<th>r_estimated_salary</th>\n",
       "\t</tr>\n",
       "\t<tr>\n",
       "\t\t<td>0</td>\n",
       "\t\t<td>0</td>\n",
       "\t\t<td>0</td>\n",
       "\t\t<td>0</td>\n",
       "\t\t<td>2</td>\n",
       "\t\t<td>-0.7300008769676279</td>\n",
       "\t\t<td>0.43916493408393953</td>\n",
       "\t\t<td>-1.1026260786744229</td>\n",
       "\t\t<td>1.3148075260699945</td>\n",
       "\t\t<td>1.0967456634359403</td>\n",
       "\t\t<td>0.7020454082761981</td>\n",
       "\t\t<td>-0.11761350757832034</td>\n",
       "\t</tr>\n",
       "\t<tr>\n",
       "\t\t<td>0</td>\n",
       "\t\t<td>0</td>\n",
       "\t\t<td>0</td>\n",
       "\t\t<td>0</td>\n",
       "\t\t<td>4</td>\n",
       "\t\t<td>1.16076246362145</td>\n",
       "\t\t<td>1.1744273547198574</td>\n",
       "\t\t<td>-0.4501295859745322</td>\n",
       "\t\t<td>1.3148075260699945</td>\n",
       "\t\t<td>1.0967456634359403</td>\n",
       "\t\t<td>0.3556906432867941</td>\n",
       "\t\t<td>0.6416790631176587</td>\n",
       "\t</tr>\n",
       "\t<tr>\n",
       "\t\t<td>0</td>\n",
       "\t\t<td>1</td>\n",
       "\t\t<td>0</td>\n",
       "\t\t<td>1</td>\n",
       "\t\t<td>5</td>\n",
       "\t\t<td>1.16076246362145</td>\n",
       "\t\t<td>-0.6637286968699371</td>\n",
       "\t\t<td>-0.19576654644745617</td>\n",
       "\t\t<td>-0.7605675965279302</td>\n",
       "\t\t<td>1.0967456634359403</td>\n",
       "\t\t<td>-1.3396947213361015</td>\n",
       "\t\t<td>-1.2125394377765268</td>\n",
       "\t</tr>\n",
       "\t<tr>\n",
       "\t\t<td>0</td>\n",
       "\t\t<td>1</td>\n",
       "\t\t<td>0</td>\n",
       "\t\t<td>0</td>\n",
       "\t\t<td>6</td>\n",
       "\t\t<td>-0.7300008769676279</td>\n",
       "\t\t<td>1.1744273547198574</td>\n",
       "\t\t<td>-0.4501295859745322</td>\n",
       "\t\t<td>-0.7605675965279302</td>\n",
       "\t\t<td>1.0967456634359403</td>\n",
       "\t\t<td>0.06465116636258145</td>\n",
       "\t\t<td>0.7402424028694596</td>\n",
       "\t</tr>\n",
       "\t<tr>\n",
       "\t\t<td>1</td>\n",
       "\t\t<td>0</td>\n",
       "\t\t<td>0</td>\n",
       "\t\t<td>0</td>\n",
       "\t\t<td>8</td>\n",
       "\t\t<td>-0.7300008769676279</td>\n",
       "\t\t<td>-1.398991117505855</td>\n",
       "\t\t<td>-0.4501295859745322</td>\n",
       "\t\t<td>1.3148075260699945</td>\n",
       "\t\t<td>1.0967456634359403</td>\n",
       "\t\t<td>0.031089724693411633</td>\n",
       "\t\t<td>0.2136612263190778</td>\n",
       "\t</tr>\n",
       "\t<tr>\n",
       "\t\t<td>0</td>\n",
       "\t\t<td>1</td>\n",
       "\t\t<td>0</td>\n",
       "\t\t<td>0</td>\n",
       "\t\t<td>9</td>\n",
       "\t\t<td>1.16076246362145</td>\n",
       "\t\t<td>0.07153372376598066</td>\n",
       "\t\t<td>0.03647796790335238</td>\n",
       "\t\t<td>1.3148075260699945</td>\n",
       "\t\t<td>1.0967456634359403</td>\n",
       "\t\t<td>-1.3396947213361015</td>\n",
       "\t\t<td>-1.733136247711274</td>\n",
       "\t</tr>\n",
       "\t<tr>\n",
       "\t\t<td>0</td>\n",
       "\t\t<td>0</td>\n",
       "\t\t<td>0</td>\n",
       "\t\t<td>1</td>\n",
       "\t\t<td>7</td>\n",
       "\t\t<td>1.16076246362145</td>\n",
       "\t\t<td>1.909689775355775</td>\n",
       "\t\t<td>1.1313449641285926</td>\n",
       "\t\t<td>1.3148075260699945</td>\n",
       "\t\t<td>1.0967456634359403</td>\n",
       "\t\t<td>0.8345799814115609</td>\n",
       "\t\t<td>-0.9360814811460579</td>\n",
       "\t</tr>\n",
       "\t<tr>\n",
       "\t\t<td>0</td>\n",
       "\t\t<td>0</td>\n",
       "\t\t<td>0</td>\n",
       "\t\t<td>1</td>\n",
       "\t\t<td>3</td>\n",
       "\t\t<td>1.16076246362145</td>\n",
       "\t\t<td>-1.031359907187896</td>\n",
       "\t\t<td>-0.19576654644745617</td>\n",
       "\t\t<td>1.3148075260699945</td>\n",
       "\t\t<td>1.0967456634359403</td>\n",
       "\t\t<td>0.24463169630144074</td>\n",
       "\t\t<td>-1.1980337112768917</td>\n",
       "\t</tr>\n",
       "\t<tr>\n",
       "\t\t<td>0</td>\n",
       "\t\t<td>1</td>\n",
       "\t\t<td>0</td>\n",
       "\t\t<td>1</td>\n",
       "\t\t<td>1</td>\n",
       "\t\t<td>1.16076246362145</td>\n",
       "\t\t<td>1.5420585650378162</td>\n",
       "\t\t<td>-0.4501295859745322</td>\n",
       "\t\t<td>1.3148075260699945</td>\n",
       "\t\t<td>1.0967456634359403</td>\n",
       "\t\t<td>-1.3396947213361015</td>\n",
       "\t\t<td>0.43204499284615944</td>\n",
       "\t</tr>\n",
       "\t<tr>\n",
       "\t\t<td>0</td>\n",
       "\t\t<td>0</td>\n",
       "\t\t<td>1</td>\n",
       "\t\t<td>0</td>\n",
       "\t\t<td>0</td>\n",
       "\t\t<td>1.16076246362145</td>\n",
       "\t\t<td>-1.398991117505855</td>\n",
       "\t\t<td>-1.1026260786744229</td>\n",
       "\t\t<td>1.3148075260699945</td>\n",
       "\t\t<td>1.0967456634359403</td>\n",
       "\t\t<td>0.9108030057418961</td>\n",
       "\t\t<td>0.28353041166588516</td>\n",
       "\t</tr>\n",
       "</table></html>"
      ],
      "text/plain": [
       "   r_country_2  r_country_0  churn  r_age_2  id  r_products_number  r_tenure  r_credit_score  r_active_member  r_gender  r_balance  r_estimated_salary\n",
       "0            0            0      0        0   2          -0.730001  0.439165       -1.102626         1.314808  1.096746   0.702045           -0.117614\n",
       "1            0            0      0        0   4           1.160762  1.174427       -0.450130         1.314808  1.096746   0.355691            0.641679\n",
       "2            0            1      0        1   5           1.160762 -0.663729       -0.195767        -0.760568  1.096746  -1.339695           -1.212539\n",
       "3            0            1      0        0   6          -0.730001  1.174427       -0.450130        -0.760568  1.096746   0.064651            0.740242\n",
       "4            1            0      0        0   8          -0.730001 -1.398991       -0.450130         1.314808  1.096746   0.031090            0.213661\n",
       "5            0            1      0        0   9           1.160762  0.071534        0.036478         1.314808  1.096746  -1.339695           -1.733136\n",
       "6            0            0      0        1   7           1.160762  1.909690        1.131345         1.314808  1.096746   0.834580           -0.936081\n",
       "7            0            0      0        1   3           1.160762 -1.031360       -0.195767         1.314808  1.096746   0.244632           -1.198034\n",
       "8            0            1      0        1   1           1.160762  1.542059       -0.450130         1.314808  1.096746  -1.339695            0.432045\n",
       "9            0            0      1        0   0           1.160762 -1.398991       -1.102626         1.314808  1.096746   0.910803            0.283530"
      ]
     },
     "metadata": {},
     "output_type": "display_data"
    },
    {
     "name": "stdout",
     "output_type": "stream",
     "text": [
      "                                                                                          \r"
     ]
    },
    {
     "data": {
      "text/html": [
       "12694 rows X 12 columns"
      ],
      "text/plain": [
       "<IPython.core.display.HTML object>"
      ]
     },
     "metadata": {},
     "output_type": "display_data"
    },
    {
     "name": "stdout",
     "output_type": "stream",
     "text": [
      "                                                                                          \r"
     ]
    },
    {
     "data": {
      "text/html": [
       "Total time taken by feature scaling: 32.04 sec"
      ],
      "text/plain": [
       "<IPython.core.display.HTML object>"
      ]
     },
     "metadata": {},
     "output_type": "display_data"
    },
    {
     "name": "stdout",
     "output_type": "stream",
     "text": [
      "                                                                                          \r"
     ]
    },
    {
     "data": {
      "text/html": [
       "\n",
       "scaling Features of pca data ..."
      ],
      "text/plain": [
       "<IPython.core.display.HTML object>"
      ]
     },
     "metadata": {},
     "output_type": "display_data"
    },
    {
     "name": "stdout",
     "output_type": "stream",
     "text": [
      "                                                                                          \r"
     ]
    },
    {
     "data": {
      "text/html": [
       "columns that will be scaled: "
      ],
      "text/plain": [
       "<IPython.core.display.HTML object>"
      ]
     },
     "metadata": {},
     "output_type": "display_data"
    },
    {
     "name": "stdout",
     "output_type": "stream",
     "text": [
      "['gender', 'credit_score', 'active_member', 'credit_card', 'products_number', 'tenure', 'balance', 'estimated_salary']\n",
      "                                                                                          \r"
     ]
    },
    {
     "data": {
      "text/html": [
       "Dataset sample after scaling:"
      ],
      "text/plain": [
       "<IPython.core.display.HTML object>"
      ]
     },
     "metadata": {},
     "output_type": "display_data"
    },
    {
     "data": {
      "text/html": [
       "<style type=\"text/css\">\n",
       "\ttable {border:ridge 5px;}\n",
       "\ttable td {border:inset 1px;}\n",
       "\ttable tr#HeaderRow {background-color:grey; color:white;}</style>\n",
       "<html><table>\n",
       "\t<tr id=\"HeaderRow\">\n",
       "\t\t<th>churn</th>\n",
       "\t\t<th>country_1</th>\n",
       "\t\t<th>age_2</th>\n",
       "\t\t<th>age_0</th>\n",
       "\t\t<th>country_2</th>\n",
       "\t\t<th>id</th>\n",
       "\t\t<th>country_0</th>\n",
       "\t\t<th>age_1</th>\n",
       "\t\t<th>gender</th>\n",
       "\t\t<th>credit_score</th>\n",
       "\t\t<th>active_member</th>\n",
       "\t\t<th>credit_card</th>\n",
       "\t\t<th>products_number</th>\n",
       "\t\t<th>tenure</th>\n",
       "\t\t<th>balance</th>\n",
       "\t\t<th>estimated_salary</th>\n",
       "\t</tr>\n",
       "\t<tr>\n",
       "\t\t<td>0</td>\n",
       "\t\t<td>0</td>\n",
       "\t\t<td>1</td>\n",
       "\t\t<td>0</td>\n",
       "\t\t<td>1</td>\n",
       "\t\t<td>6762</td>\n",
       "\t\t<td>0</td>\n",
       "\t\t<td>0</td>\n",
       "\t\t<td>1.1022267062508027</td>\n",
       "\t\t<td>-1.059473525258057</td>\n",
       "\t\t<td>0.966293535568315</td>\n",
       "\t\t<td>0.6450824247806599</td>\n",
       "\t\t<td>0.8807080930690419</td>\n",
       "\t\t<td>1.3779471226131137</td>\n",
       "\t\t<td>-1.2199992998727713</td>\n",
       "\t\t<td>-1.491982625560265</td>\n",
       "\t</tr>\n",
       "\t<tr>\n",
       "\t\t<td>1</td>\n",
       "\t\t<td>1</td>\n",
       "\t\t<td>0</td>\n",
       "\t\t<td>1</td>\n",
       "\t\t<td>0</td>\n",
       "\t\t<td>6204</td>\n",
       "\t\t<td>0</td>\n",
       "\t\t<td>0</td>\n",
       "\t\t<td>1.1022267062508027</td>\n",
       "\t\t<td>-1.059473525258057</td>\n",
       "\t\t<td>0.966293535568315</td>\n",
       "\t\t<td>-1.5501894976289958</td>\n",
       "\t\t<td>0.8807080930690419</td>\n",
       "\t\t<td>-1.3863941078498487</td>\n",
       "\t\t<td>0.983372498976856</td>\n",
       "\t\t<td>0.28628450562299856</td>\n",
       "\t</tr>\n",
       "\t<tr>\n",
       "\t\t<td>0</td>\n",
       "\t\t<td>0</td>\n",
       "\t\t<td>0</td>\n",
       "\t\t<td>1</td>\n",
       "\t\t<td>0</td>\n",
       "\t\t<td>2382</td>\n",
       "\t\t<td>1</td>\n",
       "\t\t<td>0</td>\n",
       "\t\t<td>1.1022267062508027</td>\n",
       "\t\t<td>-1.059473525258057</td>\n",
       "\t\t<td>0.966293535568315</td>\n",
       "\t\t<td>0.6450824247806599</td>\n",
       "\t\t<td>-0.9384744750194318</td>\n",
       "\t\t<td>0.6868618149973731</td>\n",
       "\t\t<td>-1.2199992998727713</td>\n",
       "\t\t<td>0.15587693895704333</td>\n",
       "\t</tr>\n",
       "\t<tr>\n",
       "\t\t<td>0</td>\n",
       "\t\t<td>1</td>\n",
       "\t\t<td>0</td>\n",
       "\t\t<td>1</td>\n",
       "\t\t<td>0</td>\n",
       "\t\t<td>3050</td>\n",
       "\t\t<td>0</td>\n",
       "\t\t<td>0</td>\n",
       "\t\t<td>1.1022267062508027</td>\n",
       "\t\t<td>-1.059473525258057</td>\n",
       "\t\t<td>0.966293535568315</td>\n",
       "\t\t<td>-1.5501894976289958</td>\n",
       "\t\t<td>-0.9384744750194318</td>\n",
       "\t\t<td>0.3413191611895028</td>\n",
       "\t\t<td>0.7789863325225853</td>\n",
       "\t\t<td>-0.11408322506968308</td>\n",
       "\t</tr>\n",
       "\t<tr>\n",
       "\t\t<td>0</td>\n",
       "\t\t<td>1</td>\n",
       "\t\t<td>0</td>\n",
       "\t\t<td>1</td>\n",
       "\t\t<td>0</td>\n",
       "\t\t<td>1404</td>\n",
       "\t\t<td>0</td>\n",
       "\t\t<td>0</td>\n",
       "\t\t<td>1.1022267062508027</td>\n",
       "\t\t<td>-0.4455448670691243</td>\n",
       "\t\t<td>0.966293535568315</td>\n",
       "\t\t<td>0.6450824247806599</td>\n",
       "\t\t<td>0.8807080930690419</td>\n",
       "\t\t<td>1.0324044688052434</td>\n",
       "\t\t<td>0.4398843141589854</td>\n",
       "\t\t<td>0.6437401616941506</td>\n",
       "\t</tr>\n",
       "\t<tr>\n",
       "\t\t<td>0</td>\n",
       "\t\t<td>0</td>\n",
       "\t\t<td>0</td>\n",
       "\t\t<td>1</td>\n",
       "\t\t<td>0</td>\n",
       "\t\t<td>7955</td>\n",
       "\t\t<td>1</td>\n",
       "\t\t<td>0</td>\n",
       "\t\t<td>1.1022267062508027</td>\n",
       "\t\t<td>-0.4455448670691243</td>\n",
       "\t\t<td>-1.0348822207652306</td>\n",
       "\t\t<td>-1.5501894976289958</td>\n",
       "\t\t<td>-0.9384744750194318</td>\n",
       "\t\t<td>1.0324044688052434</td>\n",
       "\t\t<td>0.15493926929579094</td>\n",
       "\t\t<td>0.7421127875095185</td>\n",
       "\t</tr>\n",
       "\t<tr>\n",
       "\t\t<td>0</td>\n",
       "\t\t<td>0</td>\n",
       "\t\t<td>0</td>\n",
       "\t\t<td>1</td>\n",
       "\t\t<td>0</td>\n",
       "\t\t<td>1407</td>\n",
       "\t\t<td>1</td>\n",
       "\t\t<td>0</td>\n",
       "\t\t<td>-0.907254373650125</td>\n",
       "\t\t<td>-0.20621674608021837</td>\n",
       "\t\t<td>-1.0348822207652306</td>\n",
       "\t\t<td>0.6450824247806599</td>\n",
       "\t\t<td>-0.9384744750194318</td>\n",
       "\t\t<td>1.0324044688052434</td>\n",
       "\t\t<td>0.39186365772165727</td>\n",
       "\t\t<td>1.244518955895234</td>\n",
       "\t</tr>\n",
       "\t<tr>\n",
       "\t\t<td>0</td>\n",
       "\t\t<td>0</td>\n",
       "\t\t<td>1</td>\n",
       "\t\t<td>0</td>\n",
       "\t\t<td>1</td>\n",
       "\t\t<td>3797</td>\n",
       "\t\t<td>0</td>\n",
       "\t\t<td>0</td>\n",
       "\t\t<td>-0.907254373650125</td>\n",
       "\t\t<td>-0.20621674608021837</td>\n",
       "\t\t<td>-1.0348822207652306</td>\n",
       "\t\t<td>0.6450824247806599</td>\n",
       "\t\t<td>0.8807080930690419</td>\n",
       "\t\t<td>-0.6953088002341081</td>\n",
       "\t\t<td>-1.2199992998727713</td>\n",
       "\t\t<td>-1.5023096089924235</td>\n",
       "\t</tr>\n",
       "\t<tr>\n",
       "\t\t<td>0</td>\n",
       "\t\t<td>0</td>\n",
       "\t\t<td>1</td>\n",
       "\t\t<td>0</td>\n",
       "\t\t<td>0</td>\n",
       "\t\t<td>748</td>\n",
       "\t\t<td>1</td>\n",
       "\t\t<td>0</td>\n",
       "\t\t<td>-0.907254373650125</td>\n",
       "\t\t<td>-0.20621674608021837</td>\n",
       "\t\t<td>0.966293535568315</td>\n",
       "\t\t<td>0.6450824247806599</td>\n",
       "\t\t<td>0.8807080930690419</td>\n",
       "\t\t<td>-1.0408514540419784</td>\n",
       "\t\t<td>-1.2199992998727713</td>\n",
       "\t\t<td>-1.4192891372986594</td>\n",
       "\t</tr>\n",
       "\t<tr>\n",
       "\t\t<td>0</td>\n",
       "\t\t<td>0</td>\n",
       "\t\t<td>1</td>\n",
       "\t\t<td>0</td>\n",
       "\t\t<td>1</td>\n",
       "\t\t<td>3918</td>\n",
       "\t\t<td>0</td>\n",
       "\t\t<td>0</td>\n",
       "\t\t<td>-0.907254373650125</td>\n",
       "\t\t<td>-0.20621674608021837</td>\n",
       "\t\t<td>0.966293535568315</td>\n",
       "\t\t<td>0.6450824247806599</td>\n",
       "\t\t<td>0.8807080930690419</td>\n",
       "\t\t<td>-0.6953088002341081</td>\n",
       "\t\t<td>-1.2199992998727713</td>\n",
       "\t\t<td>1.7037127302497996</td>\n",
       "\t</tr>\n",
       "</table></html>"
      ],
      "text/plain": [
       "   churn  country_1  age_2  age_0  country_2    id  country_0  age_1    gender  credit_score  active_member  credit_card  products_number    tenure   balance  estimated_salary\n",
       "0      0          0      1      0          1  6762          0      0  1.102227     -1.059474       0.966294     0.645082         0.880708  1.377947 -1.219999         -1.491983\n",
       "1      1          1      0      1          0  6204          0      0  1.102227     -1.059474       0.966294    -1.550189         0.880708 -1.386394  0.983372          0.286285\n",
       "2      0          0      0      1          0  2382          1      0  1.102227     -1.059474       0.966294     0.645082        -0.938474  0.686862 -1.219999          0.155877\n",
       "3      0          1      0      1          0  3050          0      0  1.102227     -1.059474       0.966294    -1.550189        -0.938474  0.341319  0.778986         -0.114083\n",
       "4      0          1      0      1          0  1404          0      0  1.102227     -0.445545       0.966294     0.645082         0.880708  1.032404  0.439884          0.643740\n",
       "5      0          0      0      1          0  7955          1      0  1.102227     -0.445545      -1.034882    -1.550189        -0.938474  1.032404  0.154939          0.742113\n",
       "6      0          0      0      1          0  1407          1      0 -0.907254     -0.206217      -1.034882     0.645082        -0.938474  1.032404  0.391864          1.244519\n",
       "7      0          0      1      0          1  3797          0      0 -0.907254     -0.206217      -1.034882     0.645082         0.880708 -0.695309 -1.219999         -1.502310\n",
       "8      0          0      1      0          0   748          1      0 -0.907254     -0.206217       0.966294     0.645082         0.880708 -1.040851 -1.219999         -1.419289\n",
       "9      0          0      1      0          1  3918          0      0 -0.907254     -0.206217       0.966294     0.645082         0.880708 -0.695309 -1.219999          1.703713"
      ]
     },
     "metadata": {},
     "output_type": "display_data"
    },
    {
     "name": "stdout",
     "output_type": "stream",
     "text": [
      "                                                                                          \r"
     ]
    },
    {
     "data": {
      "text/html": [
       "7936 rows X 16 columns"
      ],
      "text/plain": [
       "<IPython.core.display.HTML object>"
      ]
     },
     "metadata": {},
     "output_type": "display_data"
    },
    {
     "name": "stdout",
     "output_type": "stream",
     "text": [
      "                                                                                          \r"
     ]
    },
    {
     "data": {
      "text/html": [
       "Total time taken by feature scaling: 34.50 sec"
      ],
      "text/plain": [
       "<IPython.core.display.HTML object>"
      ]
     },
     "metadata": {},
     "output_type": "display_data"
    },
    {
     "name": "stdout",
     "output_type": "stream",
     "text": [
      "                                                                                          \r"
     ]
    },
    {
     "data": {
      "text/html": [
       "\n",
       "Dimension Reduction using pca ..."
      ],
      "text/plain": [
       "<IPython.core.display.HTML object>"
      ]
     },
     "metadata": {},
     "output_type": "display_data"
    },
    {
     "name": "stdout",
     "output_type": "stream",
     "text": [
      "                                                                                          \r"
     ]
    },
    {
     "data": {
      "text/html": [
       "PCA columns:"
      ],
      "text/plain": [
       "<IPython.core.display.HTML object>"
      ]
     },
     "metadata": {},
     "output_type": "display_data"
    },
    {
     "name": "stdout",
     "output_type": "stream",
     "text": [
      "['col_0', 'col_1', 'col_2', 'col_3', 'col_4', 'col_5', 'col_6', 'col_7', 'col_8', 'col_9']\n",
      "                                                                                          \r"
     ]
    },
    {
     "data": {
      "text/html": [
       "Total time taken by PCA: 10.04 sec  "
      ],
      "text/plain": [
       "<IPython.core.display.HTML object>"
      ]
     },
     "metadata": {},
     "output_type": "display_data"
    },
    {
     "name": "stdout",
     "output_type": "stream",
     "text": [
      "                                                                                          \r"
     ]
    },
    {
     "data": {
      "text/html": [
       "\n",
       "            <style>\n",
       "                .custom-div {\n",
       "                    background-color: lightgray;\n",
       "                    color: #000000;\n",
       "                    padding: 10px;\n",
       "                    border-radius: 8px;\n",
       "                    box-shadow: 0 3px 4px rgba(0 -  0 -  0 -  0.2);\n",
       "                    margin-bottom: 10px;\n",
       "                    text-align: center;\n",
       "                }\n",
       "            </style>\n",
       "        <br><div class=\"custom-div\"><h3><span style=\"color: green;\">1. Feature Exploration -> 2. Feature Engineering -> 3. Data Preparation -></span> 4. Model Training & Evaluation<center></h3></center></div>"
      ],
      "text/plain": [
       "<IPython.core.display.HTML object>"
      ]
     },
     "metadata": {},
     "output_type": "display_data"
    },
    {
     "name": "stdout",
     "output_type": "stream",
     "text": [
      "                                                                                          \r"
     ]
    },
    {
     "data": {
      "text/html": [
       "Model Training started ..."
      ],
      "text/plain": [
       "<IPython.core.display.HTML object>"
      ]
     },
     "metadata": {},
     "output_type": "display_data"
    },
    {
     "name": "stdout",
     "output_type": "stream",
     "text": [
      "                                                                                          \r"
     ]
    },
    {
     "data": {
      "text/html": [
       "\n",
       "Starting customized hyperparameter update ..."
      ],
      "text/plain": [
       "<IPython.core.display.HTML object>"
      ]
     },
     "metadata": {},
     "output_type": "display_data"
    },
    {
     "name": "stdout",
     "output_type": "stream",
     "text": [
      "                                                                                          \n",
      "Skipping customized hyperparameter tuning\n",
      "                                                                                          \r"
     ]
    },
    {
     "data": {
      "text/html": [
       "\n",
       "Hyperparameters used for model training: "
      ],
      "text/plain": [
       "<IPython.core.display.HTML object>"
      ]
     },
     "metadata": {},
     "output_type": "display_data"
    },
    {
     "name": "stdout",
     "output_type": "stream",
     "text": [
      "response_column : churn                                                                                                                               \n",
      "name : xgboost\n",
      "model_type : Classification\n",
      "column_sampling : (1, 0.6)\n",
      "min_impurity : (0.0, 0.2, 0.3)\n",
      "lambda1 : (0.01, 0.1, 1, 10)\n",
      "shrinkage_factor : (0.5, 0.01, 0.1, 0.2)\n",
      "max_depth : (5, 4, 6, 7)\n",
      "min_node_size : (1, 3, 4)\n",
      "iter_num : (10, 30, 40)\n",
      "seed : 42\n",
      "Total number of models for xgboost : 3456\n",
      "--------------------------------------------------------------------------------------------------------------------------------------------------------------------------------------------------------\n",
      "\n",
      "response_column : churn\n",
      "name : decision_forest\n",
      "tree_type : Classification\n",
      "min_impurity : (0.0, 0.2, 0.3)\n",
      "max_depth : (5, 4, 6, 7)\n",
      "min_node_size : (1, 3, 4)\n",
      "num_trees : (-1, 30, 40)\n",
      "seed : 42\n",
      "Total number of models for decision_forest : 108\n",
      "--------------------------------------------------------------------------------------------------------------------------------------------------------------------------------------------------------\n",
      "\n",
      "response_column : churn\n",
      "name : knn\n",
      "model_type : Classification\n",
      "k : (3, 5, 6, 8, 10, 12)\n",
      "id_column : id\n",
      "voting_weight : 1.0\n",
      "Total number of models for knn : 6\n",
      "--------------------------------------------------------------------------------------------------------------------------------------------------------------------------------------------------------\n",
      "\n",
      "                                                                                          \r"
     ]
    },
    {
     "data": {
      "text/html": [
       "\n",
       "Performing hyperparameter tuning ..."
      ],
      "text/plain": [
       "<IPython.core.display.HTML object>"
      ]
     },
     "metadata": {},
     "output_type": "display_data"
    },
    {
     "name": "stdout",
     "output_type": "stream",
     "text": [
      "                                                                                          \r"
     ]
    },
    {
     "data": {
      "text/html": [
       "xgboost"
      ],
      "text/plain": [
       "<IPython.core.display.HTML object>"
      ]
     },
     "metadata": {},
     "output_type": "display_data"
    },
    {
     "name": "stdout",
     "output_type": "stream",
     "text": [
      "                                                                                                                                                                                                        \r"
     ]
    },
    {
     "data": {
      "text/html": [
       "----------------------------------------------------------------------------------------------------"
      ],
      "text/plain": [
       "<IPython.core.display.HTML object>"
      ]
     },
     "metadata": {},
     "output_type": "display_data"
    },
    {
     "name": "stdout",
     "output_type": "stream",
     "text": [
      "                                                                                          \r"
     ]
    },
    {
     "data": {
      "text/html": [
       "decision_forest"
      ],
      "text/plain": [
       "<IPython.core.display.HTML object>"
      ]
     },
     "metadata": {},
     "output_type": "display_data"
    },
    {
     "name": "stdout",
     "output_type": "stream",
     "text": [
      "                                                                                                                                                                                                        \r"
     ]
    },
    {
     "data": {
      "text/html": [
       "----------------------------------------------------------------------------------------------------"
      ],
      "text/plain": [
       "<IPython.core.display.HTML object>"
      ]
     },
     "metadata": {},
     "output_type": "display_data"
    },
    {
     "name": "stdout",
     "output_type": "stream",
     "text": [
      "                                                                                          \r"
     ]
    },
    {
     "data": {
      "text/html": [
       "knn"
      ],
      "text/plain": [
       "<IPython.core.display.HTML object>"
      ]
     },
     "metadata": {},
     "output_type": "display_data"
    },
    {
     "name": "stdout",
     "output_type": "stream",
     "text": [
      "                                                                                                                                                                                                        \r"
     ]
    },
    {
     "data": {
      "text/html": [
       "----------------------------------------------------------------------------------------------------"
      ],
      "text/plain": [
       "<IPython.core.display.HTML object>"
      ]
     },
     "metadata": {},
     "output_type": "display_data"
    },
    {
     "name": "stdout",
     "output_type": "stream",
     "text": [
      "                                                                                          \r"
     ]
    },
    {
     "data": {
      "text/html": [
       "Leaderboard"
      ],
      "text/plain": [
       "<IPython.core.display.HTML object>"
      ]
     },
     "metadata": {},
     "output_type": "display_data"
    },
    {
     "data": {
      "text/html": [
       "<div>\n",
       "<style scoped>\n",
       "    .dataframe tbody tr th:only-of-type {\n",
       "        vertical-align: middle;\n",
       "    }\n",
       "\n",
       "    .dataframe tbody tr th {\n",
       "        vertical-align: top;\n",
       "    }\n",
       "\n",
       "    .dataframe thead th {\n",
       "        text-align: right;\n",
       "    }\n",
       "</style>\n",
       "<table border=\"1\" class=\"dataframe\">\n",
       "  <thead>\n",
       "    <tr style=\"text-align: right;\">\n",
       "      <th></th>\n",
       "      <th>RANK</th>\n",
       "      <th>MODEL_ID</th>\n",
       "      <th>FEATURE_SELECTION</th>\n",
       "      <th>ACCURACY</th>\n",
       "      <th>MICRO-PRECISION</th>\n",
       "      <th>MICRO-RECALL</th>\n",
       "      <th>MICRO-F1</th>\n",
       "      <th>MACRO-PRECISION</th>\n",
       "      <th>MACRO-RECALL</th>\n",
       "      <th>MACRO-F1</th>\n",
       "      <th>WEIGHTED-PRECISION</th>\n",
       "      <th>WEIGHTED-RECALL</th>\n",
       "      <th>WEIGHTED-F1</th>\n",
       "    </tr>\n",
       "  </thead>\n",
       "  <tbody>\n",
       "    <tr>\n",
       "      <th>0</th>\n",
       "      <td>1</td>\n",
       "      <td>KNN_9</td>\n",
       "      <td>lasso</td>\n",
       "      <td>0.837731</td>\n",
       "      <td>0.837731</td>\n",
       "      <td>0.837731</td>\n",
       "      <td>0.837731</td>\n",
       "      <td>0.837897</td>\n",
       "      <td>0.837727</td>\n",
       "      <td>0.837710</td>\n",
       "      <td>0.837894</td>\n",
       "      <td>0.837731</td>\n",
       "      <td>0.837711</td>\n",
       "    </tr>\n",
       "    <tr>\n",
       "      <th>1</th>\n",
       "      <td>2</td>\n",
       "      <td>KNN_0</td>\n",
       "      <td>lasso</td>\n",
       "      <td>0.834187</td>\n",
       "      <td>0.834187</td>\n",
       "      <td>0.834187</td>\n",
       "      <td>0.834187</td>\n",
       "      <td>0.834504</td>\n",
       "      <td>0.834181</td>\n",
       "      <td>0.834146</td>\n",
       "      <td>0.834500</td>\n",
       "      <td>0.834187</td>\n",
       "      <td>0.834147</td>\n",
       "    </tr>\n",
       "    <tr>\n",
       "      <th>2</th>\n",
       "      <td>3</td>\n",
       "      <td>KNN_4</td>\n",
       "      <td>rfe</td>\n",
       "      <td>0.825916</td>\n",
       "      <td>0.825916</td>\n",
       "      <td>0.825916</td>\n",
       "      <td>0.825916</td>\n",
       "      <td>0.826509</td>\n",
       "      <td>0.825907</td>\n",
       "      <td>0.825834</td>\n",
       "      <td>0.826504</td>\n",
       "      <td>0.825916</td>\n",
       "      <td>0.825835</td>\n",
       "    </tr>\n",
       "    <tr>\n",
       "      <th>3</th>\n",
       "      <td>4</td>\n",
       "      <td>DECISIONFOREST_3</td>\n",
       "      <td>lasso</td>\n",
       "      <td>0.820796</td>\n",
       "      <td>0.820796</td>\n",
       "      <td>0.820796</td>\n",
       "      <td>0.820796</td>\n",
       "      <td>0.821353</td>\n",
       "      <td>0.820804</td>\n",
       "      <td>0.820720</td>\n",
       "      <td>0.821359</td>\n",
       "      <td>0.820796</td>\n",
       "      <td>0.820719</td>\n",
       "    </tr>\n",
       "    <tr>\n",
       "      <th>4</th>\n",
       "      <td>5</td>\n",
       "      <td>XGBOOST_2</td>\n",
       "      <td>pca</td>\n",
       "      <td>0.818640</td>\n",
       "      <td>0.818640</td>\n",
       "      <td>0.818640</td>\n",
       "      <td>0.818640</td>\n",
       "      <td>0.716248</td>\n",
       "      <td>0.634388</td>\n",
       "      <td>0.655946</td>\n",
       "      <td>0.795369</td>\n",
       "      <td>0.818640</td>\n",
       "      <td>0.797782</td>\n",
       "    </tr>\n",
       "    <tr>\n",
       "      <th>5</th>\n",
       "      <td>6</td>\n",
       "      <td>DECISIONFOREST_2</td>\n",
       "      <td>pca</td>\n",
       "      <td>0.807935</td>\n",
       "      <td>0.807935</td>\n",
       "      <td>0.807935</td>\n",
       "      <td>0.807935</td>\n",
       "      <td>0.718487</td>\n",
       "      <td>0.544013</td>\n",
       "      <td>0.534582</td>\n",
       "      <td>0.775946</td>\n",
       "      <td>0.807935</td>\n",
       "      <td>0.748412</td>\n",
       "    </tr>\n",
       "    <tr>\n",
       "      <th>6</th>\n",
       "      <td>7</td>\n",
       "      <td>DECISIONFOREST_1</td>\n",
       "      <td>rfe</td>\n",
       "      <td>0.793620</td>\n",
       "      <td>0.793620</td>\n",
       "      <td>0.793620</td>\n",
       "      <td>0.793620</td>\n",
       "      <td>0.797885</td>\n",
       "      <td>0.793643</td>\n",
       "      <td>0.792887</td>\n",
       "      <td>0.797899</td>\n",
       "      <td>0.793620</td>\n",
       "      <td>0.792882</td>\n",
       "    </tr>\n",
       "    <tr>\n",
       "      <th>7</th>\n",
       "      <td>8</td>\n",
       "      <td>KNN_8</td>\n",
       "      <td>pca</td>\n",
       "      <td>0.778338</td>\n",
       "      <td>0.778338</td>\n",
       "      <td>0.778338</td>\n",
       "      <td>0.778338</td>\n",
       "      <td>0.624802</td>\n",
       "      <td>0.587976</td>\n",
       "      <td>0.597757</td>\n",
       "      <td>0.749093</td>\n",
       "      <td>0.778338</td>\n",
       "      <td>0.759329</td>\n",
       "    </tr>\n",
       "    <tr>\n",
       "      <th>8</th>\n",
       "      <td>9</td>\n",
       "      <td>DECISIONFOREST_0</td>\n",
       "      <td>lasso</td>\n",
       "      <td>0.767625</td>\n",
       "      <td>0.767625</td>\n",
       "      <td>0.767625</td>\n",
       "      <td>0.767625</td>\n",
       "      <td>0.793952</td>\n",
       "      <td>0.767684</td>\n",
       "      <td>0.762329</td>\n",
       "      <td>0.793987</td>\n",
       "      <td>0.767625</td>\n",
       "      <td>0.762315</td>\n",
       "    </tr>\n",
       "    <tr>\n",
       "      <th>9</th>\n",
       "      <td>10</td>\n",
       "      <td>XGBOOST_1</td>\n",
       "      <td>rfe</td>\n",
       "      <td>0.715242</td>\n",
       "      <td>0.715242</td>\n",
       "      <td>0.715242</td>\n",
       "      <td>0.715242</td>\n",
       "      <td>0.780147</td>\n",
       "      <td>0.715147</td>\n",
       "      <td>0.697677</td>\n",
       "      <td>0.780094</td>\n",
       "      <td>0.715242</td>\n",
       "      <td>0.697706</td>\n",
       "    </tr>\n",
       "    <tr>\n",
       "      <th>10</th>\n",
       "      <td>11</td>\n",
       "      <td>XGBOOST_3</td>\n",
       "      <td>lasso</td>\n",
       "      <td>0.587633</td>\n",
       "      <td>0.587633</td>\n",
       "      <td>0.587633</td>\n",
       "      <td>0.587633</td>\n",
       "      <td>0.725722</td>\n",
       "      <td>0.587479</td>\n",
       "      <td>0.512991</td>\n",
       "      <td>0.725653</td>\n",
       "      <td>0.587633</td>\n",
       "      <td>0.513066</td>\n",
       "    </tr>\n",
       "    <tr>\n",
       "      <th>11</th>\n",
       "      <td>12</td>\n",
       "      <td>XGBOOST_0</td>\n",
       "      <td>lasso</td>\n",
       "      <td>0.587633</td>\n",
       "      <td>0.587633</td>\n",
       "      <td>0.587633</td>\n",
       "      <td>0.587633</td>\n",
       "      <td>0.725722</td>\n",
       "      <td>0.587479</td>\n",
       "      <td>0.512991</td>\n",
       "      <td>0.725653</td>\n",
       "      <td>0.587633</td>\n",
       "      <td>0.513066</td>\n",
       "    </tr>\n",
       "  </tbody>\n",
       "</table>\n",
       "</div>"
      ],
      "text/plain": [
       "    RANK          MODEL_ID FEATURE_SELECTION  ACCURACY  MICRO-PRECISION  \\\n",
       "0      1             KNN_9             lasso  0.837731         0.837731   \n",
       "1      2             KNN_0             lasso  0.834187         0.834187   \n",
       "2      3             KNN_4               rfe  0.825916         0.825916   \n",
       "3      4  DECISIONFOREST_3             lasso  0.820796         0.820796   \n",
       "4      5         XGBOOST_2               pca  0.818640         0.818640   \n",
       "5      6  DECISIONFOREST_2               pca  0.807935         0.807935   \n",
       "6      7  DECISIONFOREST_1               rfe  0.793620         0.793620   \n",
       "7      8             KNN_8               pca  0.778338         0.778338   \n",
       "8      9  DECISIONFOREST_0             lasso  0.767625         0.767625   \n",
       "9     10         XGBOOST_1               rfe  0.715242         0.715242   \n",
       "10    11         XGBOOST_3             lasso  0.587633         0.587633   \n",
       "11    12         XGBOOST_0             lasso  0.587633         0.587633   \n",
       "\n",
       "    MICRO-RECALL  MICRO-F1  MACRO-PRECISION  MACRO-RECALL  MACRO-F1  \\\n",
       "0       0.837731  0.837731         0.837897      0.837727  0.837710   \n",
       "1       0.834187  0.834187         0.834504      0.834181  0.834146   \n",
       "2       0.825916  0.825916         0.826509      0.825907  0.825834   \n",
       "3       0.820796  0.820796         0.821353      0.820804  0.820720   \n",
       "4       0.818640  0.818640         0.716248      0.634388  0.655946   \n",
       "5       0.807935  0.807935         0.718487      0.544013  0.534582   \n",
       "6       0.793620  0.793620         0.797885      0.793643  0.792887   \n",
       "7       0.778338  0.778338         0.624802      0.587976  0.597757   \n",
       "8       0.767625  0.767625         0.793952      0.767684  0.762329   \n",
       "9       0.715242  0.715242         0.780147      0.715147  0.697677   \n",
       "10      0.587633  0.587633         0.725722      0.587479  0.512991   \n",
       "11      0.587633  0.587633         0.725722      0.587479  0.512991   \n",
       "\n",
       "    WEIGHTED-PRECISION  WEIGHTED-RECALL  WEIGHTED-F1  \n",
       "0             0.837894         0.837731     0.837711  \n",
       "1             0.834500         0.834187     0.834147  \n",
       "2             0.826504         0.825916     0.825835  \n",
       "3             0.821359         0.820796     0.820719  \n",
       "4             0.795369         0.818640     0.797782  \n",
       "5             0.775946         0.807935     0.748412  \n",
       "6             0.797899         0.793620     0.792882  \n",
       "7             0.749093         0.778338     0.759329  \n",
       "8             0.793987         0.767625     0.762315  \n",
       "9             0.780094         0.715242     0.697706  \n",
       "10            0.725653         0.587633     0.513066  \n",
       "11            0.725653         0.587633     0.513066  "
      ]
     },
     "metadata": {},
     "output_type": "display_data"
    },
    {
     "name": "stdout",
     "output_type": "stream",
     "text": [
      "                                                                                          \r"
     ]
    },
    {
     "data": {
      "text/html": [
       "12 rows X 13 columns"
      ],
      "text/plain": [
       "<IPython.core.display.HTML object>"
      ]
     },
     "metadata": {},
     "output_type": "display_data"
    },
    {
     "name": "stdout",
     "output_type": "stream",
     "text": [
      "                                                                                          \r"
     ]
    },
    {
     "data": {
      "text/html": [
       "\n",
       "            <style>\n",
       "                .custom-div {\n",
       "                    background-color: lightgray;\n",
       "                    color: #000000;\n",
       "                    padding: 10px;\n",
       "                    border-radius: 8px;\n",
       "                    box-shadow: 0 3px 4px rgba(0 -  0 -  0 -  0.2);\n",
       "                    margin-bottom: 10px;\n",
       "                    text-align: center;\n",
       "                }\n",
       "            </style>\n",
       "        <br><div class=\"custom-div\"><h3><span style=\"color: green;\">1. Feature Exploration -> 2. Feature Engineering -> 3. Data Preparation -> 4. Model Training & Evaluation</span><center></h3></center></div>"
      ],
      "text/plain": [
       "<IPython.core.display.HTML object>"
      ]
     },
     "metadata": {},
     "output_type": "display_data"
    },
    {
     "name": "stdout",
     "output_type": "stream",
     "text": [
      "Completed: ｜⫿⫿⫿⫿⫿⫿⫿⫿⫿⫿⫿⫿⫿⫿⫿⫿⫿⫿⫿⫿⫿⫿⫿⫿⫿⫿⫿⫿⫿⫿⫿⫿⫿⫿⫿⫿⫿⫿⫿⫿⫿⫿⫿⫿⫿⫿⫿⫿⫿⫿⫿⫿⫿⫿⫿⫿⫿⫿⫿⫿｜ 100% - 20/20    \r"
     ]
    }
   ],
   "source": [
    "# Fitting train data\n",
    "aml.fit(bank_df_train, bank_df_train.churn)"
   ]
  },
  {
   "cell_type": "markdown",
   "id": "23a04eb1-68e6-48b7-95aa-442f434809da",
   "metadata": {},
   "source": [
    "## <b><span style='color:#F1A424'>| 3.</span> Leaderboard : </b>"
   ]
  },
  {
   "cell_type": "code",
   "execution_count": 21,
   "id": "77de1099-6122-4f8a-8e7f-dd67e5b4ced4",
   "metadata": {},
   "outputs": [
    {
     "data": {
      "text/html": [
       "<div>\n",
       "<style scoped>\n",
       "    .dataframe tbody tr th:only-of-type {\n",
       "        vertical-align: middle;\n",
       "    }\n",
       "\n",
       "    .dataframe tbody tr th {\n",
       "        vertical-align: top;\n",
       "    }\n",
       "\n",
       "    .dataframe thead th {\n",
       "        text-align: right;\n",
       "    }\n",
       "</style>\n",
       "<table border=\"1\" class=\"dataframe\">\n",
       "  <thead>\n",
       "    <tr style=\"text-align: right;\">\n",
       "      <th></th>\n",
       "      <th>RANK</th>\n",
       "      <th>MODEL_ID</th>\n",
       "      <th>FEATURE_SELECTION</th>\n",
       "      <th>ACCURACY</th>\n",
       "      <th>MICRO-PRECISION</th>\n",
       "      <th>MICRO-RECALL</th>\n",
       "      <th>MICRO-F1</th>\n",
       "      <th>MACRO-PRECISION</th>\n",
       "      <th>MACRO-RECALL</th>\n",
       "      <th>MACRO-F1</th>\n",
       "      <th>WEIGHTED-PRECISION</th>\n",
       "      <th>WEIGHTED-RECALL</th>\n",
       "      <th>WEIGHTED-F1</th>\n",
       "    </tr>\n",
       "  </thead>\n",
       "  <tbody>\n",
       "    <tr>\n",
       "      <th>0</th>\n",
       "      <td>1</td>\n",
       "      <td>KNN_9</td>\n",
       "      <td>lasso</td>\n",
       "      <td>0.837731</td>\n",
       "      <td>0.837731</td>\n",
       "      <td>0.837731</td>\n",
       "      <td>0.837731</td>\n",
       "      <td>0.837897</td>\n",
       "      <td>0.837727</td>\n",
       "      <td>0.837710</td>\n",
       "      <td>0.837894</td>\n",
       "      <td>0.837731</td>\n",
       "      <td>0.837711</td>\n",
       "    </tr>\n",
       "    <tr>\n",
       "      <th>1</th>\n",
       "      <td>2</td>\n",
       "      <td>KNN_0</td>\n",
       "      <td>lasso</td>\n",
       "      <td>0.834187</td>\n",
       "      <td>0.834187</td>\n",
       "      <td>0.834187</td>\n",
       "      <td>0.834187</td>\n",
       "      <td>0.834504</td>\n",
       "      <td>0.834181</td>\n",
       "      <td>0.834146</td>\n",
       "      <td>0.834500</td>\n",
       "      <td>0.834187</td>\n",
       "      <td>0.834147</td>\n",
       "    </tr>\n",
       "    <tr>\n",
       "      <th>2</th>\n",
       "      <td>3</td>\n",
       "      <td>KNN_4</td>\n",
       "      <td>rfe</td>\n",
       "      <td>0.825916</td>\n",
       "      <td>0.825916</td>\n",
       "      <td>0.825916</td>\n",
       "      <td>0.825916</td>\n",
       "      <td>0.826509</td>\n",
       "      <td>0.825907</td>\n",
       "      <td>0.825834</td>\n",
       "      <td>0.826504</td>\n",
       "      <td>0.825916</td>\n",
       "      <td>0.825835</td>\n",
       "    </tr>\n",
       "    <tr>\n",
       "      <th>3</th>\n",
       "      <td>4</td>\n",
       "      <td>DECISIONFOREST_3</td>\n",
       "      <td>lasso</td>\n",
       "      <td>0.820796</td>\n",
       "      <td>0.820796</td>\n",
       "      <td>0.820796</td>\n",
       "      <td>0.820796</td>\n",
       "      <td>0.821353</td>\n",
       "      <td>0.820804</td>\n",
       "      <td>0.820720</td>\n",
       "      <td>0.821359</td>\n",
       "      <td>0.820796</td>\n",
       "      <td>0.820719</td>\n",
       "    </tr>\n",
       "    <tr>\n",
       "      <th>4</th>\n",
       "      <td>5</td>\n",
       "      <td>XGBOOST_2</td>\n",
       "      <td>pca</td>\n",
       "      <td>0.818640</td>\n",
       "      <td>0.818640</td>\n",
       "      <td>0.818640</td>\n",
       "      <td>0.818640</td>\n",
       "      <td>0.716248</td>\n",
       "      <td>0.634388</td>\n",
       "      <td>0.655946</td>\n",
       "      <td>0.795369</td>\n",
       "      <td>0.818640</td>\n",
       "      <td>0.797782</td>\n",
       "    </tr>\n",
       "    <tr>\n",
       "      <th>5</th>\n",
       "      <td>6</td>\n",
       "      <td>DECISIONFOREST_2</td>\n",
       "      <td>pca</td>\n",
       "      <td>0.807935</td>\n",
       "      <td>0.807935</td>\n",
       "      <td>0.807935</td>\n",
       "      <td>0.807935</td>\n",
       "      <td>0.718487</td>\n",
       "      <td>0.544013</td>\n",
       "      <td>0.534582</td>\n",
       "      <td>0.775946</td>\n",
       "      <td>0.807935</td>\n",
       "      <td>0.748412</td>\n",
       "    </tr>\n",
       "    <tr>\n",
       "      <th>6</th>\n",
       "      <td>7</td>\n",
       "      <td>DECISIONFOREST_1</td>\n",
       "      <td>rfe</td>\n",
       "      <td>0.793620</td>\n",
       "      <td>0.793620</td>\n",
       "      <td>0.793620</td>\n",
       "      <td>0.793620</td>\n",
       "      <td>0.797885</td>\n",
       "      <td>0.793643</td>\n",
       "      <td>0.792887</td>\n",
       "      <td>0.797899</td>\n",
       "      <td>0.793620</td>\n",
       "      <td>0.792882</td>\n",
       "    </tr>\n",
       "    <tr>\n",
       "      <th>7</th>\n",
       "      <td>8</td>\n",
       "      <td>KNN_8</td>\n",
       "      <td>pca</td>\n",
       "      <td>0.778338</td>\n",
       "      <td>0.778338</td>\n",
       "      <td>0.778338</td>\n",
       "      <td>0.778338</td>\n",
       "      <td>0.624802</td>\n",
       "      <td>0.587976</td>\n",
       "      <td>0.597757</td>\n",
       "      <td>0.749093</td>\n",
       "      <td>0.778338</td>\n",
       "      <td>0.759329</td>\n",
       "    </tr>\n",
       "    <tr>\n",
       "      <th>8</th>\n",
       "      <td>9</td>\n",
       "      <td>DECISIONFOREST_0</td>\n",
       "      <td>lasso</td>\n",
       "      <td>0.767625</td>\n",
       "      <td>0.767625</td>\n",
       "      <td>0.767625</td>\n",
       "      <td>0.767625</td>\n",
       "      <td>0.793952</td>\n",
       "      <td>0.767684</td>\n",
       "      <td>0.762329</td>\n",
       "      <td>0.793987</td>\n",
       "      <td>0.767625</td>\n",
       "      <td>0.762315</td>\n",
       "    </tr>\n",
       "    <tr>\n",
       "      <th>9</th>\n",
       "      <td>10</td>\n",
       "      <td>XGBOOST_1</td>\n",
       "      <td>rfe</td>\n",
       "      <td>0.715242</td>\n",
       "      <td>0.715242</td>\n",
       "      <td>0.715242</td>\n",
       "      <td>0.715242</td>\n",
       "      <td>0.780147</td>\n",
       "      <td>0.715147</td>\n",
       "      <td>0.697677</td>\n",
       "      <td>0.780094</td>\n",
       "      <td>0.715242</td>\n",
       "      <td>0.697706</td>\n",
       "    </tr>\n",
       "    <tr>\n",
       "      <th>10</th>\n",
       "      <td>11</td>\n",
       "      <td>XGBOOST_3</td>\n",
       "      <td>lasso</td>\n",
       "      <td>0.587633</td>\n",
       "      <td>0.587633</td>\n",
       "      <td>0.587633</td>\n",
       "      <td>0.587633</td>\n",
       "      <td>0.725722</td>\n",
       "      <td>0.587479</td>\n",
       "      <td>0.512991</td>\n",
       "      <td>0.725653</td>\n",
       "      <td>0.587633</td>\n",
       "      <td>0.513066</td>\n",
       "    </tr>\n",
       "    <tr>\n",
       "      <th>11</th>\n",
       "      <td>12</td>\n",
       "      <td>XGBOOST_0</td>\n",
       "      <td>lasso</td>\n",
       "      <td>0.587633</td>\n",
       "      <td>0.587633</td>\n",
       "      <td>0.587633</td>\n",
       "      <td>0.587633</td>\n",
       "      <td>0.725722</td>\n",
       "      <td>0.587479</td>\n",
       "      <td>0.512991</td>\n",
       "      <td>0.725653</td>\n",
       "      <td>0.587633</td>\n",
       "      <td>0.513066</td>\n",
       "    </tr>\n",
       "  </tbody>\n",
       "</table>\n",
       "</div>"
      ],
      "text/plain": [
       "    RANK          MODEL_ID FEATURE_SELECTION  ACCURACY  MICRO-PRECISION  \\\n",
       "0      1             KNN_9             lasso  0.837731         0.837731   \n",
       "1      2             KNN_0             lasso  0.834187         0.834187   \n",
       "2      3             KNN_4               rfe  0.825916         0.825916   \n",
       "3      4  DECISIONFOREST_3             lasso  0.820796         0.820796   \n",
       "4      5         XGBOOST_2               pca  0.818640         0.818640   \n",
       "5      6  DECISIONFOREST_2               pca  0.807935         0.807935   \n",
       "6      7  DECISIONFOREST_1               rfe  0.793620         0.793620   \n",
       "7      8             KNN_8               pca  0.778338         0.778338   \n",
       "8      9  DECISIONFOREST_0             lasso  0.767625         0.767625   \n",
       "9     10         XGBOOST_1               rfe  0.715242         0.715242   \n",
       "10    11         XGBOOST_3             lasso  0.587633         0.587633   \n",
       "11    12         XGBOOST_0             lasso  0.587633         0.587633   \n",
       "\n",
       "    MICRO-RECALL  MICRO-F1  MACRO-PRECISION  MACRO-RECALL  MACRO-F1  \\\n",
       "0       0.837731  0.837731         0.837897      0.837727  0.837710   \n",
       "1       0.834187  0.834187         0.834504      0.834181  0.834146   \n",
       "2       0.825916  0.825916         0.826509      0.825907  0.825834   \n",
       "3       0.820796  0.820796         0.821353      0.820804  0.820720   \n",
       "4       0.818640  0.818640         0.716248      0.634388  0.655946   \n",
       "5       0.807935  0.807935         0.718487      0.544013  0.534582   \n",
       "6       0.793620  0.793620         0.797885      0.793643  0.792887   \n",
       "7       0.778338  0.778338         0.624802      0.587976  0.597757   \n",
       "8       0.767625  0.767625         0.793952      0.767684  0.762329   \n",
       "9       0.715242  0.715242         0.780147      0.715147  0.697677   \n",
       "10      0.587633  0.587633         0.725722      0.587479  0.512991   \n",
       "11      0.587633  0.587633         0.725722      0.587479  0.512991   \n",
       "\n",
       "    WEIGHTED-PRECISION  WEIGHTED-RECALL  WEIGHTED-F1  \n",
       "0             0.837894         0.837731     0.837711  \n",
       "1             0.834500         0.834187     0.834147  \n",
       "2             0.826504         0.825916     0.825835  \n",
       "3             0.821359         0.820796     0.820719  \n",
       "4             0.795369         0.818640     0.797782  \n",
       "5             0.775946         0.807935     0.748412  \n",
       "6             0.797899         0.793620     0.792882  \n",
       "7             0.749093         0.778338     0.759329  \n",
       "8             0.793987         0.767625     0.762315  \n",
       "9             0.780094         0.715242     0.697706  \n",
       "10            0.725653         0.587633     0.513066  \n",
       "11            0.725653         0.587633     0.513066  "
      ]
     },
     "execution_count": 21,
     "metadata": {},
     "output_type": "execute_result"
    }
   ],
   "source": [
    "# Fetching Leaderboard\n",
    "aml.leaderboard()"
   ]
  },
  {
   "cell_type": "markdown",
   "id": "a7a3aa08-e349-4a61-9217-2c17d50411d8",
   "metadata": {},
   "source": [
    "## <b><span style='color:#F1A424'>| 4.</span> Best Performing Model : </b>"
   ]
  },
  {
   "cell_type": "code",
   "execution_count": 22,
   "id": "c4c32832-a76b-4f42-826a-cefc38a6301b",
   "metadata": {},
   "outputs": [
    {
     "data": {
      "text/html": [
       "<div>\n",
       "<style scoped>\n",
       "    .dataframe tbody tr th:only-of-type {\n",
       "        vertical-align: middle;\n",
       "    }\n",
       "\n",
       "    .dataframe tbody tr th {\n",
       "        vertical-align: top;\n",
       "    }\n",
       "\n",
       "    .dataframe thead th {\n",
       "        text-align: right;\n",
       "    }\n",
       "</style>\n",
       "<table border=\"1\" class=\"dataframe\">\n",
       "  <thead>\n",
       "    <tr style=\"text-align: right;\">\n",
       "      <th></th>\n",
       "      <th>RANK</th>\n",
       "      <th>MODEL_ID</th>\n",
       "      <th>FEATURE_SELECTION</th>\n",
       "      <th>ACCURACY</th>\n",
       "      <th>MICRO-PRECISION</th>\n",
       "      <th>MICRO-RECALL</th>\n",
       "      <th>MICRO-F1</th>\n",
       "      <th>MACRO-PRECISION</th>\n",
       "      <th>MACRO-RECALL</th>\n",
       "      <th>MACRO-F1</th>\n",
       "      <th>WEIGHTED-PRECISION</th>\n",
       "      <th>WEIGHTED-RECALL</th>\n",
       "      <th>WEIGHTED-F1</th>\n",
       "    </tr>\n",
       "  </thead>\n",
       "  <tbody>\n",
       "    <tr>\n",
       "      <th>0</th>\n",
       "      <td>1</td>\n",
       "      <td>KNN_9</td>\n",
       "      <td>lasso</td>\n",
       "      <td>0.837731</td>\n",
       "      <td>0.837731</td>\n",
       "      <td>0.837731</td>\n",
       "      <td>0.837731</td>\n",
       "      <td>0.837897</td>\n",
       "      <td>0.837727</td>\n",
       "      <td>0.83771</td>\n",
       "      <td>0.837894</td>\n",
       "      <td>0.837731</td>\n",
       "      <td>0.837711</td>\n",
       "    </tr>\n",
       "  </tbody>\n",
       "</table>\n",
       "</div>"
      ],
      "text/plain": [
       "   RANK MODEL_ID FEATURE_SELECTION  ACCURACY  MICRO-PRECISION  MICRO-RECALL  \\\n",
       "0     1    KNN_9             lasso  0.837731         0.837731      0.837731   \n",
       "\n",
       "   MICRO-F1  MACRO-PRECISION  MACRO-RECALL  MACRO-F1  WEIGHTED-PRECISION  \\\n",
       "0  0.837731         0.837897      0.837727   0.83771            0.837894   \n",
       "\n",
       "   WEIGHTED-RECALL  WEIGHTED-F1  \n",
       "0         0.837731     0.837711  "
      ]
     },
     "metadata": {},
     "output_type": "display_data"
    }
   ],
   "source": [
    "# Fetching best performing model for dataset\n",
    "aml.leader()"
   ]
  },
  {
   "cell_type": "markdown",
   "id": "ce64e4ca-e2e6-479b-8bea-761c4ca8e2dc",
   "metadata": {},
   "source": [
    "## <b><span style='color:#F1A424'>| 5.</span> Get Hyperparameter for Trained Model : </b>"
   ]
  },
  {
   "cell_type": "code",
   "execution_count": 23,
   "id": "a5348edb-698b-4c98-8c5a-f745b20d2ea2",
   "metadata": {},
   "outputs": [
    {
     "data": {
      "text/plain": [
       "{'response_column': 'churn',\n",
       " 'name': 'knn',\n",
       " 'model_type': 'Classification',\n",
       " 'k': 5,\n",
       " 'id_column': 'id',\n",
       " 'voting_weight': 1.0,\n",
       " 'persist': False,\n",
       " 'output_prob': True,\n",
       " 'output_responses': ['1', '0']}"
      ]
     },
     "execution_count": 23,
     "metadata": {},
     "output_type": "execute_result"
    }
   ],
   "source": [
    "aml.model_hyperparameters(rank=1)"
   ]
  },
  {
   "cell_type": "code",
   "execution_count": 24,
   "id": "e7c1e2a5-9d16-4e00-9aa0-9f4bd717699d",
   "metadata": {
    "tags": []
   },
   "outputs": [
    {
     "data": {
      "text/plain": [
       "{'response_column': 'churn',\n",
       " 'name': 'decision_forest',\n",
       " 'tree_type': 'Classification',\n",
       " 'min_impurity': 0.0,\n",
       " 'max_depth': 5,\n",
       " 'min_node_size': 1,\n",
       " 'num_trees': 30,\n",
       " 'seed': 42,\n",
       " 'persist': False,\n",
       " 'output_prob': True,\n",
       " 'output_responses': ['1', '0']}"
      ]
     },
     "execution_count": 24,
     "metadata": {},
     "output_type": "execute_result"
    }
   ],
   "source": [
    "aml.model_hyperparameters(rank=4)"
   ]
  },
  {
   "cell_type": "markdown",
   "id": "e74732dd-3008-4969-8e65-a059e0e4ae2c",
   "metadata": {},
   "source": [
    "## <b><span style='color:#F1A424'>| 6.</span> Generate Prediction and Performance Metrics : </b>"
   ]
  },
  {
   "cell_type": "code",
   "execution_count": 25,
   "id": "5b6edfe3-bd5a-46bd-ad80-b20fadfed7a0",
   "metadata": {},
   "outputs": [
    {
     "name": "stdout",
     "output_type": "stream",
     "text": [
      "Data Transformation started ...\n",
      "                                                                                                \r"
     ]
    },
    {
     "data": {
      "text/html": [
       "Performing transformation carried out in feature engineering phase ..."
      ],
      "text/plain": [
       "<IPython.core.display.HTML object>"
      ]
     },
     "metadata": {},
     "output_type": "display_data"
    },
    {
     "name": "stdout",
     "output_type": "stream",
     "text": [
      "                                                                                                 \r"
     ]
    },
    {
     "data": {
      "text/html": [
       "\n",
       "Updated dataset after performing target column transformation :"
      ],
      "text/plain": [
       "<IPython.core.display.HTML object>"
      ]
     },
     "metadata": {},
     "output_type": "display_data"
    },
    {
     "data": {
      "text/html": [
       "<style type=\"text/css\">\n",
       "\ttable {border:ridge 5px;}\n",
       "\ttable td {border:inset 1px;}\n",
       "\ttable tr#HeaderRow {background-color:grey; color:white;}</style>\n",
       "<html><table>\n",
       "\t<tr id=\"HeaderRow\">\n",
       "\t\t<th>credit_score</th>\n",
       "\t\t<th>age</th>\n",
       "\t\t<th>customer_id</th>\n",
       "\t\t<th>active_member</th>\n",
       "\t\t<th>credit_card</th>\n",
       "\t\t<th>country</th>\n",
       "\t\t<th>products_number</th>\n",
       "\t\t<th>gender</th>\n",
       "\t\t<th>tenure</th>\n",
       "\t\t<th>id</th>\n",
       "\t\t<th>balance</th>\n",
       "\t\t<th>estimated_salary</th>\n",
       "\t\t<th>churn</th>\n",
       "\t</tr>\n",
       "\t<tr>\n",
       "\t\t<td>710</td>\n",
       "\t\t<td>62</td>\n",
       "\t\t<td>15704053</td>\n",
       "\t\t<td>0</td>\n",
       "\t\t<td>1</td>\n",
       "\t\t<td>Spain</td>\n",
       "\t\t<td>2</td>\n",
       "\t\t<td>Male</td>\n",
       "\t\t<td>3</td>\n",
       "\t\t<td>9</td>\n",
       "\t\t<td>131078.42</td>\n",
       "\t\t<td>119348.76</td>\n",
       "\t\t<td>1</td>\n",
       "\t</tr>\n",
       "\t<tr>\n",
       "\t\t<td>778</td>\n",
       "\t\t<td>44</td>\n",
       "\t\t<td>15701096</td>\n",
       "\t\t<td>0</td>\n",
       "\t\t<td>1</td>\n",
       "\t\t<td>France</td>\n",
       "\t\t<td>1</td>\n",
       "\t\t<td>Male</td>\n",
       "\t\t<td>8</td>\n",
       "\t\t<td>11</td>\n",
       "\t\t<td>123863.64</td>\n",
       "\t\t<td>144494.94</td>\n",
       "\t\t<td>0</td>\n",
       "\t</tr>\n",
       "\t<tr>\n",
       "\t\t<td>826</td>\n",
       "\t\t<td>29</td>\n",
       "\t\t<td>15752463</td>\n",
       "\t\t<td>1</td>\n",
       "\t\t<td>0</td>\n",
       "\t\t<td>Spain</td>\n",
       "\t\t<td>1</td>\n",
       "\t\t<td>Female</td>\n",
       "\t\t<td>4</td>\n",
       "\t\t<td>19</td>\n",
       "\t\t<td>129938.07</td>\n",
       "\t\t<td>190200.53</td>\n",
       "\t\t<td>0</td>\n",
       "\t</tr>\n",
       "\t<tr>\n",
       "\t\t<td>507</td>\n",
       "\t\t<td>34</td>\n",
       "\t\t<td>15768777</td>\n",
       "\t\t<td>1</td>\n",
       "\t\t<td>1</td>\n",
       "\t\t<td>Spain</td>\n",
       "\t\t<td>2</td>\n",
       "\t\t<td>Female</td>\n",
       "\t\t<td>4</td>\n",
       "\t\t<td>13</td>\n",
       "\t\t<td>0.0</td>\n",
       "\t\t<td>60688.38</td>\n",
       "\t\t<td>0</td>\n",
       "\t</tr>\n",
       "\t<tr>\n",
       "\t\t<td>446</td>\n",
       "\t\t<td>45</td>\n",
       "\t\t<td>15684395</td>\n",
       "\t\t<td>1</td>\n",
       "\t\t<td>1</td>\n",
       "\t\t<td>Spain</td>\n",
       "\t\t<td>1</td>\n",
       "\t\t<td>Female</td>\n",
       "\t\t<td>10</td>\n",
       "\t\t<td>12</td>\n",
       "\t\t<td>125191.69</td>\n",
       "\t\t<td>128260.86</td>\n",
       "\t\t<td>1</td>\n",
       "\t</tr>\n",
       "\t<tr>\n",
       "\t\t<td>705</td>\n",
       "\t\t<td>30</td>\n",
       "\t\t<td>15677217</td>\n",
       "\t\t<td>1</td>\n",
       "\t\t<td>1</td>\n",
       "\t\t<td>France</td>\n",
       "\t\t<td>1</td>\n",
       "\t\t<td>Male</td>\n",
       "\t\t<td>1</td>\n",
       "\t\t<td>20</td>\n",
       "\t\t<td>0.0</td>\n",
       "\t\t<td>181300.32</td>\n",
       "\t\t<td>0</td>\n",
       "\t</tr>\n",
       "\t<tr>\n",
       "\t\t<td>681</td>\n",
       "\t\t<td>49</td>\n",
       "\t\t<td>15583863</td>\n",
       "\t\t<td>0</td>\n",
       "\t\t<td>0</td>\n",
       "\t\t<td>Germany</td>\n",
       "\t\t<td>1</td>\n",
       "\t\t<td>Male</td>\n",
       "\t\t<td>8</td>\n",
       "\t\t<td>14</td>\n",
       "\t\t<td>142946.18</td>\n",
       "\t\t<td>187280.51</td>\n",
       "\t\t<td>1</td>\n",
       "\t</tr>\n",
       "\t<tr>\n",
       "\t\t<td>672</td>\n",
       "\t\t<td>28</td>\n",
       "\t\t<td>15694530</td>\n",
       "\t\t<td>1</td>\n",
       "\t\t<td>1</td>\n",
       "\t\t<td>France</td>\n",
       "\t\t<td>1</td>\n",
       "\t\t<td>Male</td>\n",
       "\t\t<td>4</td>\n",
       "\t\t<td>22</td>\n",
       "\t\t<td>167268.98</td>\n",
       "\t\t<td>169469.3</td>\n",
       "\t\t<td>0</td>\n",
       "\t</tr>\n",
       "\t<tr>\n",
       "\t\t<td>648</td>\n",
       "\t\t<td>33</td>\n",
       "\t\t<td>15752137</td>\n",
       "\t\t<td>1</td>\n",
       "\t\t<td>1</td>\n",
       "\t\t<td>France</td>\n",
       "\t\t<td>1</td>\n",
       "\t\t<td>Male</td>\n",
       "\t\t<td>7</td>\n",
       "\t\t<td>15</td>\n",
       "\t\t<td>134944.0</td>\n",
       "\t\t<td>117036.38</td>\n",
       "\t\t<td>0</td>\n",
       "\t</tr>\n",
       "\t<tr>\n",
       "\t\t<td>522</td>\n",
       "\t\t<td>41</td>\n",
       "\t\t<td>15728523</td>\n",
       "\t\t<td>1</td>\n",
       "\t\t<td>1</td>\n",
       "\t\t<td>France</td>\n",
       "\t\t<td>1</td>\n",
       "\t\t<td>Male</td>\n",
       "\t\t<td>5</td>\n",
       "\t\t<td>23</td>\n",
       "\t\t<td>144147.68</td>\n",
       "\t\t<td>14789.9</td>\n",
       "\t\t<td>0</td>\n",
       "\t</tr>\n",
       "</table></html>"
      ],
      "text/plain": [
       "   credit_score  age  customer_id  active_member  credit_card  country  products_number  gender  tenure  id    balance  estimated_salary  churn\n",
       "0           710   62     15704053              0            1    Spain                2    Male       3   9  131078.42         119348.76      1\n",
       "1           778   44     15701096              0            1   France                1    Male       8  11  123863.64         144494.94      0\n",
       "2           826   29     15752463              1            0    Spain                1  Female       4  19  129938.07         190200.53      0\n",
       "3           507   34     15768777              1            1    Spain                2  Female       4  13       0.00          60688.38      0\n",
       "4           446   45     15684395              1            1    Spain                1  Female      10  12  125191.69         128260.86      1\n",
       "5           705   30     15677217              1            1   France                1    Male       1  20       0.00         181300.32      0\n",
       "6           681   49     15583863              0            0  Germany                1    Male       8  14  142946.18         187280.51      1\n",
       "7           672   28     15694530              1            1   France                1    Male       4  22  167268.98         169469.30      0\n",
       "8           648   33     15752137              1            1   France                1    Male       7  15  134944.00         117036.38      0\n",
       "9           522   41     15728523              1            1   France                1    Male       5  23  144147.68          14789.90      0"
      ]
     },
     "metadata": {},
     "output_type": "display_data"
    },
    {
     "name": "stdout",
     "output_type": "stream",
     "text": [
      "                                                                                                 \r"
     ]
    },
    {
     "data": {
      "text/html": [
       "2000 rows X 13 columns"
      ],
      "text/plain": [
       "<IPython.core.display.HTML object>"
      ]
     },
     "metadata": {},
     "output_type": "display_data"
    },
    {
     "name": "stdout",
     "output_type": "stream",
     "text": [
      "                                                                                                 \r"
     ]
    },
    {
     "data": {
      "text/html": [
       "\n",
       "Updated dataset after performing customized variable width bin-code transformation :"
      ],
      "text/plain": [
       "<IPython.core.display.HTML object>"
      ]
     },
     "metadata": {},
     "output_type": "display_data"
    },
    {
     "data": {
      "text/html": [
       "<style type=\"text/css\">\n",
       "\ttable {border:ridge 5px;}\n",
       "\ttable td {border:inset 1px;}\n",
       "\ttable tr#HeaderRow {background-color:grey; color:white;}</style>\n",
       "<html><table>\n",
       "\t<tr id=\"HeaderRow\">\n",
       "\t\t<th>credit_score</th>\n",
       "\t\t<th>churn</th>\n",
       "\t\t<th>customer_id</th>\n",
       "\t\t<th>active_member</th>\n",
       "\t\t<th>credit_card</th>\n",
       "\t\t<th>country</th>\n",
       "\t\t<th>products_number</th>\n",
       "\t\t<th>gender</th>\n",
       "\t\t<th>tenure</th>\n",
       "\t\t<th>id</th>\n",
       "\t\t<th>balance</th>\n",
       "\t\t<th>estimated_salary</th>\n",
       "\t\t<th>age</th>\n",
       "\t</tr>\n",
       "\t<tr>\n",
       "\t\t<td>530</td>\n",
       "\t\t<td>0</td>\n",
       "\t\t<td>15659149</td>\n",
       "\t\t<td>0</td>\n",
       "\t\t<td>1</td>\n",
       "\t\t<td>France</td>\n",
       "\t\t<td>2</td>\n",
       "\t\t<td>Male</td>\n",
       "\t\t<td>2</td>\n",
       "\t\t<td>42</td>\n",
       "\t\t<td>0.0</td>\n",
       "\t\t<td>197923.05</td>\n",
       "\t\t<td>adult</td>\n",
       "\t</tr>\n",
       "\t<tr>\n",
       "\t\t<td>530</td>\n",
       "\t\t<td>0</td>\n",
       "\t\t<td>15605950</td>\n",
       "\t\t<td>1</td>\n",
       "\t\t<td>1</td>\n",
       "\t\t<td>Germany</td>\n",
       "\t\t<td>2</td>\n",
       "\t\t<td>Male</td>\n",
       "\t\t<td>1</td>\n",
       "\t\t<td>1907</td>\n",
       "\t\t<td>137060.88</td>\n",
       "\t\t<td>165227.23</td>\n",
       "\t\t<td>young</td>\n",
       "\t</tr>\n",
       "\t<tr>\n",
       "\t\t<td>530</td>\n",
       "\t\t<td>0</td>\n",
       "\t\t<td>15673619</td>\n",
       "\t\t<td>0</td>\n",
       "\t\t<td>1</td>\n",
       "\t\t<td>France</td>\n",
       "\t\t<td>1</td>\n",
       "\t\t<td>Male</td>\n",
       "\t\t<td>9</td>\n",
       "\t\t<td>503</td>\n",
       "\t\t<td>162560.32</td>\n",
       "\t\t<td>64129.03</td>\n",
       "\t\t<td>young</td>\n",
       "\t</tr>\n",
       "\t<tr>\n",
       "\t\t<td>549</td>\n",
       "\t\t<td>0</td>\n",
       "\t\t<td>15814536</td>\n",
       "\t\t<td>0</td>\n",
       "\t\t<td>0</td>\n",
       "\t\t<td>France</td>\n",
       "\t\t<td>2</td>\n",
       "\t\t<td>Male</td>\n",
       "\t\t<td>2</td>\n",
       "\t\t<td>1177</td>\n",
       "\t\t<td>112541.54</td>\n",
       "\t\t<td>47432.43</td>\n",
       "\t\t<td>adult</td>\n",
       "\t</tr>\n",
       "\t<tr>\n",
       "\t\t<td>549</td>\n",
       "\t\t<td>1</td>\n",
       "\t\t<td>15717398</td>\n",
       "\t\t<td>0</td>\n",
       "\t\t<td>0</td>\n",
       "\t\t<td>Spain</td>\n",
       "\t\t<td>1</td>\n",
       "\t\t<td>Female</td>\n",
       "\t\t<td>7</td>\n",
       "\t\t<td>641</td>\n",
       "\t\t<td>0.0</td>\n",
       "\t\t<td>81259.25</td>\n",
       "\t\t<td>adult</td>\n",
       "\t</tr>\n",
       "\t<tr>\n",
       "\t\t<td>549</td>\n",
       "\t\t<td>0</td>\n",
       "\t\t<td>15647301</td>\n",
       "\t\t<td>1</td>\n",
       "\t\t<td>1</td>\n",
       "\t\t<td>Germany</td>\n",
       "\t\t<td>2</td>\n",
       "\t\t<td>Female</td>\n",
       "\t\t<td>3</td>\n",
       "\t\t<td>1054</td>\n",
       "\t\t<td>143734.01</td>\n",
       "\t\t<td>96404.38</td>\n",
       "\t\t<td>adult</td>\n",
       "\t</tr>\n",
       "\t<tr>\n",
       "\t\t<td>549</td>\n",
       "\t\t<td>0</td>\n",
       "\t\t<td>15622443</td>\n",
       "\t\t<td>1</td>\n",
       "\t\t<td>0</td>\n",
       "\t\t<td>France</td>\n",
       "\t\t<td>2</td>\n",
       "\t\t<td>Male</td>\n",
       "\t\t<td>4</td>\n",
       "\t\t<td>52</td>\n",
       "\t\t<td>0.0</td>\n",
       "\t\t<td>25684.85</td>\n",
       "\t\t<td>adult</td>\n",
       "\t</tr>\n",
       "\t<tr>\n",
       "\t\t<td>530</td>\n",
       "\t\t<td>0</td>\n",
       "\t\t<td>15696834</td>\n",
       "\t\t<td>0</td>\n",
       "\t\t<td>0</td>\n",
       "\t\t<td>France</td>\n",
       "\t\t<td>2</td>\n",
       "\t\t<td>Female</td>\n",
       "\t\t<td>5</td>\n",
       "\t\t<td>1161</td>\n",
       "\t\t<td>0.0</td>\n",
       "\t\t<td>121451.21</td>\n",
       "\t\t<td>young</td>\n",
       "\t</tr>\n",
       "\t<tr>\n",
       "\t\t<td>530</td>\n",
       "\t\t<td>0</td>\n",
       "\t\t<td>15669922</td>\n",
       "\t\t<td>1</td>\n",
       "\t\t<td>1</td>\n",
       "\t\t<td>Spain</td>\n",
       "\t\t<td>2</td>\n",
       "\t\t<td>Female</td>\n",
       "\t\t<td>2</td>\n",
       "\t\t<td>642</td>\n",
       "\t\t<td>0.0</td>\n",
       "\t\t<td>14721.8</td>\n",
       "\t\t<td>adult</td>\n",
       "\t</tr>\n",
       "\t<tr>\n",
       "\t\t<td>530</td>\n",
       "\t\t<td>0</td>\n",
       "\t\t<td>15738546</td>\n",
       "\t\t<td>1</td>\n",
       "\t\t<td>0</td>\n",
       "\t\t<td>Spain</td>\n",
       "\t\t<td>2</td>\n",
       "\t\t<td>Female</td>\n",
       "\t\t<td>4</td>\n",
       "\t\t<td>1384</td>\n",
       "\t\t<td>0.0</td>\n",
       "\t\t<td>147606.71</td>\n",
       "\t\t<td>adult</td>\n",
       "\t</tr>\n",
       "</table></html>"
      ],
      "text/plain": [
       "              churn  customer_id  active_member  credit_card  country  products_number  gender  tenure    id    balance  estimated_salary    age\n",
       "credit_score                                                                                                                                    \n",
       "530               0     15659149              0            1   France                2    Male       2    42       0.00         197923.05  adult\n",
       "530               0     15605950              1            1  Germany                2    Male       1  1907  137060.88         165227.23  young\n",
       "530               0     15673619              0            1   France                1    Male       9   503  162560.32          64129.03  young\n",
       "549               0     15814536              0            0   France                2    Male       2  1177  112541.54          47432.43  adult\n",
       "549               1     15717398              0            0    Spain                1  Female       7   641       0.00          81259.25  adult\n",
       "549               0     15647301              1            1  Germany                2  Female       3  1054  143734.01          96404.38  adult\n",
       "549               0     15622443              1            0   France                2    Male       4    52       0.00          25684.85  adult\n",
       "530               0     15696834              0            0   France                2  Female       5  1161       0.00         121451.21  young\n",
       "530               0     15669922              1            1    Spain                2  Female       2   642       0.00          14721.80  adult\n",
       "530               0     15738546              1            0    Spain                2  Female       4  1384       0.00         147606.71  adult"
      ]
     },
     "metadata": {},
     "output_type": "display_data"
    },
    {
     "name": "stdout",
     "output_type": "stream",
     "text": [
      "                                                                                                 \r"
     ]
    },
    {
     "data": {
      "text/html": [
       "2000 rows X 13 columns"
      ],
      "text/plain": [
       "<IPython.core.display.HTML object>"
      ]
     },
     "metadata": {},
     "output_type": "display_data"
    },
    {
     "name": "stdout",
     "output_type": "stream",
     "text": [
      "                                                                                                 \r"
     ]
    },
    {
     "data": {
      "text/html": [
       "\n",
       "Updated dataset after performing customized categorical encoding :"
      ],
      "text/plain": [
       "<IPython.core.display.HTML object>"
      ]
     },
     "metadata": {},
     "output_type": "display_data"
    },
    {
     "data": {
      "text/html": [
       "<style type=\"text/css\">\n",
       "\ttable {border:ridge 5px;}\n",
       "\ttable td {border:inset 1px;}\n",
       "\ttable tr#HeaderRow {background-color:grey; color:white;}</style>\n",
       "<html><table>\n",
       "\t<tr id=\"HeaderRow\">\n",
       "\t\t<th>gender</th>\n",
       "\t\t<th>credit_score</th>\n",
       "\t\t<th>churn</th>\n",
       "\t\t<th>age</th>\n",
       "\t\t<th>customer_id</th>\n",
       "\t\t<th>active_member</th>\n",
       "\t\t<th>credit_card</th>\n",
       "\t\t<th>country</th>\n",
       "\t\t<th>products_number</th>\n",
       "\t\t<th>tenure</th>\n",
       "\t\t<th>id</th>\n",
       "\t\t<th>balance</th>\n",
       "\t\t<th>estimated_salary</th>\n",
       "\t</tr>\n",
       "\t<tr>\n",
       "\t\t<td>0.2530258561170947</td>\n",
       "\t\t<td>669</td>\n",
       "\t\t<td>1</td>\n",
       "\t\t<td>adult</td>\n",
       "\t\t<td>15571869</td>\n",
       "\t\t<td>0</td>\n",
       "\t\t<td>0</td>\n",
       "\t\t<td>Germany</td>\n",
       "\t\t<td>1</td>\n",
       "\t\t<td>4</td>\n",
       "\t\t<td>183</td>\n",
       "\t\t<td>112650.89</td>\n",
       "\t\t<td>166386.22</td>\n",
       "\t</tr>\n",
       "\t<tr>\n",
       "\t\t<td>0.2530258561170947</td>\n",
       "\t\t<td>669</td>\n",
       "\t\t<td>0</td>\n",
       "\t\t<td>adult</td>\n",
       "\t\t<td>15642336</td>\n",
       "\t\t<td>0</td>\n",
       "\t\t<td>0</td>\n",
       "\t\t<td>France</td>\n",
       "\t\t<td>2</td>\n",
       "\t\t<td>9</td>\n",
       "\t\t<td>1615</td>\n",
       "\t\t<td>0.0</td>\n",
       "\t\t<td>135630.32</td>\n",
       "\t</tr>\n",
       "\t<tr>\n",
       "\t\t<td>0.2530258561170947</td>\n",
       "\t\t<td>669</td>\n",
       "\t\t<td>0</td>\n",
       "\t\t<td>adult</td>\n",
       "\t\t<td>15638646</td>\n",
       "\t\t<td>1</td>\n",
       "\t\t<td>1</td>\n",
       "\t\t<td>France</td>\n",
       "\t\t<td>1</td>\n",
       "\t\t<td>1</td>\n",
       "\t\t<td>478</td>\n",
       "\t\t<td>160474.59</td>\n",
       "\t\t<td>95963.14</td>\n",
       "\t</tr>\n",
       "\t<tr>\n",
       "\t\t<td>0.2530258561170947</td>\n",
       "\t\t<td>526</td>\n",
       "\t\t<td>0</td>\n",
       "\t\t<td>adult</td>\n",
       "\t\t<td>15593496</td>\n",
       "\t\t<td>0</td>\n",
       "\t\t<td>0</td>\n",
       "\t\t<td>Spain</td>\n",
       "\t\t<td>1</td>\n",
       "\t\t<td>5</td>\n",
       "\t\t<td>689</td>\n",
       "\t\t<td>91132.18</td>\n",
       "\t\t<td>58111.71</td>\n",
       "\t</tr>\n",
       "\t<tr>\n",
       "\t\t<td>0.2530258561170947</td>\n",
       "\t\t<td>850</td>\n",
       "\t\t<td>0</td>\n",
       "\t\t<td>young</td>\n",
       "\t\t<td>15628308</td>\n",
       "\t\t<td>1</td>\n",
       "\t\t<td>1</td>\n",
       "\t\t<td>France</td>\n",
       "\t\t<td>2</td>\n",
       "\t\t<td>6</td>\n",
       "\t\t<td>1414</td>\n",
       "\t\t<td>0.0</td>\n",
       "\t\t<td>13159.9</td>\n",
       "\t</tr>\n",
       "\t<tr>\n",
       "\t\t<td>0.2530258561170947</td>\n",
       "\t\t<td>850</td>\n",
       "\t\t<td>0</td>\n",
       "\t\t<td>adult</td>\n",
       "\t\t<td>15762793</td>\n",
       "\t\t<td>1</td>\n",
       "\t\t<td>1</td>\n",
       "\t\t<td>Germany</td>\n",
       "\t\t<td>2</td>\n",
       "\t\t<td>0</td>\n",
       "\t\t<td>1390</td>\n",
       "\t\t<td>136980.23</td>\n",
       "\t\t<td>99019.65</td>\n",
       "\t</tr>\n",
       "\t<tr>\n",
       "\t\t<td>0.16827359621091076</td>\n",
       "\t\t<td>774</td>\n",
       "\t\t<td>1</td>\n",
       "\t\t<td>old\u0000\u0000</td>\n",
       "\t\t<td>15714485</td>\n",
       "\t\t<td>0</td>\n",
       "\t\t<td>1</td>\n",
       "\t\t<td>France</td>\n",
       "\t\t<td>1</td>\n",
       "\t\t<td>5</td>\n",
       "\t\t<td>336</td>\n",
       "\t\t<td>85891.55</td>\n",
       "\t\t<td>74135.48</td>\n",
       "\t</tr>\n",
       "\t<tr>\n",
       "\t\t<td>0.16827359621091076</td>\n",
       "\t\t<td>814</td>\n",
       "\t\t<td>0</td>\n",
       "\t\t<td>young</td>\n",
       "\t\t<td>15693683</td>\n",
       "\t\t<td>1</td>\n",
       "\t\t<td>1</td>\n",
       "\t\t<td>Germany</td>\n",
       "\t\t<td>2</td>\n",
       "\t\t<td>8</td>\n",
       "\t\t<td>518</td>\n",
       "\t\t<td>97086.4</td>\n",
       "\t\t<td>197276.13</td>\n",
       "\t</tr>\n",
       "\t<tr>\n",
       "\t\t<td>0.16827359621091076</td>\n",
       "\t\t<td>547</td>\n",
       "\t\t<td>1</td>\n",
       "\t\t<td>adult</td>\n",
       "\t\t<td>15687372</td>\n",
       "\t\t<td>0</td>\n",
       "\t\t<td>1</td>\n",
       "\t\t<td>Germany</td>\n",
       "\t\t<td>2</td>\n",
       "\t\t<td>8</td>\n",
       "\t\t<td>1159</td>\n",
       "\t\t<td>121537.71</td>\n",
       "\t\t<td>46521.45</td>\n",
       "\t</tr>\n",
       "\t<tr>\n",
       "\t\t<td>0.16827359621091076</td>\n",
       "\t\t<td>547</td>\n",
       "\t\t<td>1</td>\n",
       "\t\t<td>adult</td>\n",
       "\t\t<td>15603942</td>\n",
       "\t\t<td>1</td>\n",
       "\t\t<td>0</td>\n",
       "\t\t<td>Germany</td>\n",
       "\t\t<td>3</td>\n",
       "\t\t<td>3</td>\n",
       "\t\t<td>364</td>\n",
       "\t\t<td>81290.02</td>\n",
       "\t\t<td>177747.03</td>\n",
       "\t</tr>\n",
       "</table></html>"
      ],
      "text/plain": [
       "          credit_score  churn    age  customer_id  active_member  credit_card  country  products_number  tenure    id    balance  estimated_salary\n",
       "gender                                                                                                                                            \n",
       "0.253026           669      1  adult     15571869              0            0  Germany                1       4   183  112650.89         166386.22\n",
       "0.253026           669      0  adult     15642336              0            0   France                2       9  1615       0.00         135630.32\n",
       "0.253026           669      0  adult     15638646              1            1   France                1       1   478  160474.59          95963.14\n",
       "0.253026           526      0  adult     15593496              0            0    Spain                1       5   689   91132.18          58111.71\n",
       "0.253026           850      0  young     15628308              1            1   France                2       6  1414       0.00          13159.90\n",
       "0.253026           850      0  adult     15762793              1            1  Germany                2       0  1390  136980.23          99019.65\n",
       "0.168274           774      1  old\u0000\u0000     15714485              0            1   France                1       5   336   85891.55          74135.48\n",
       "0.168274           814      0  young     15693683              1            1  Germany                2       8   518   97086.40         197276.13\n",
       "0.168274           547      1  adult     15687372              0            1  Germany                2       8  1159  121537.71          46521.45\n",
       "0.168274           547      1  adult     15603942              1            0  Germany                3       3   364   81290.02         177747.03"
      ]
     },
     "metadata": {},
     "output_type": "display_data"
    },
    {
     "name": "stdout",
     "output_type": "stream",
     "text": [
      "                                                                                                 \r"
     ]
    },
    {
     "data": {
      "text/html": [
       "2000 rows X 13 columns"
      ],
      "text/plain": [
       "<IPython.core.display.HTML object>"
      ]
     },
     "metadata": {},
     "output_type": "display_data"
    },
    {
     "name": "stdout",
     "output_type": "stream",
     "text": [
      "                                                                                                 \r"
     ]
    },
    {
     "data": {
      "text/html": [
       "\n",
       "Updated dataset after performing categorical encoding :"
      ],
      "text/plain": [
       "<IPython.core.display.HTML object>"
      ]
     },
     "metadata": {},
     "output_type": "display_data"
    },
    {
     "data": {
      "text/html": [
       "<style type=\"text/css\">\n",
       "\ttable {border:ridge 5px;}\n",
       "\ttable td {border:inset 1px;}\n",
       "\ttable tr#HeaderRow {background-color:grey; color:white;}</style>\n",
       "<html><table>\n",
       "\t<tr id=\"HeaderRow\">\n",
       "\t\t<th>gender</th>\n",
       "\t\t<th>credit_score</th>\n",
       "\t\t<th>churn</th>\n",
       "\t\t<th>age_0</th>\n",
       "\t\t<th>age_1</th>\n",
       "\t\t<th>age_2</th>\n",
       "\t\t<th>customer_id</th>\n",
       "\t\t<th>active_member</th>\n",
       "\t\t<th>credit_card</th>\n",
       "\t\t<th>country_0</th>\n",
       "\t\t<th>country_1</th>\n",
       "\t\t<th>country_2</th>\n",
       "\t\t<th>products_number</th>\n",
       "\t\t<th>tenure</th>\n",
       "\t\t<th>id</th>\n",
       "\t\t<th>balance</th>\n",
       "\t\t<th>estimated_salary</th>\n",
       "\t</tr>\n",
       "\t<tr>\n",
       "\t\t<td>0.2530258561170947</td>\n",
       "\t\t<td>669</td>\n",
       "\t\t<td>0</td>\n",
       "\t\t<td>1</td>\n",
       "\t\t<td>0</td>\n",
       "\t\t<td>0</td>\n",
       "\t\t<td>15638646</td>\n",
       "\t\t<td>1</td>\n",
       "\t\t<td>1</td>\n",
       "\t\t<td>1</td>\n",
       "\t\t<td>0</td>\n",
       "\t\t<td>0</td>\n",
       "\t\t<td>1</td>\n",
       "\t\t<td>1</td>\n",
       "\t\t<td>478</td>\n",
       "\t\t<td>160474.59</td>\n",
       "\t\t<td>95963.14</td>\n",
       "\t</tr>\n",
       "\t<tr>\n",
       "\t\t<td>0.2530258561170947</td>\n",
       "\t\t<td>850</td>\n",
       "\t\t<td>0</td>\n",
       "\t\t<td>0</td>\n",
       "\t\t<td>0</td>\n",
       "\t\t<td>1</td>\n",
       "\t\t<td>15628308</td>\n",
       "\t\t<td>1</td>\n",
       "\t\t<td>1</td>\n",
       "\t\t<td>1</td>\n",
       "\t\t<td>0</td>\n",
       "\t\t<td>0</td>\n",
       "\t\t<td>2</td>\n",
       "\t\t<td>6</td>\n",
       "\t\t<td>1414</td>\n",
       "\t\t<td>0.0</td>\n",
       "\t\t<td>13159.9</td>\n",
       "\t</tr>\n",
       "\t<tr>\n",
       "\t\t<td>0.2530258561170947</td>\n",
       "\t\t<td>850</td>\n",
       "\t\t<td>0</td>\n",
       "\t\t<td>1</td>\n",
       "\t\t<td>0</td>\n",
       "\t\t<td>0</td>\n",
       "\t\t<td>15762793</td>\n",
       "\t\t<td>1</td>\n",
       "\t\t<td>1</td>\n",
       "\t\t<td>0</td>\n",
       "\t\t<td>1</td>\n",
       "\t\t<td>0</td>\n",
       "\t\t<td>2</td>\n",
       "\t\t<td>0</td>\n",
       "\t\t<td>1390</td>\n",
       "\t\t<td>136980.23</td>\n",
       "\t\t<td>99019.65</td>\n",
       "\t</tr>\n",
       "\t<tr>\n",
       "\t\t<td>0.2530258561170947</td>\n",
       "\t\t<td>850</td>\n",
       "\t\t<td>0</td>\n",
       "\t\t<td>1</td>\n",
       "\t\t<td>0</td>\n",
       "\t\t<td>0</td>\n",
       "\t\t<td>15646196</td>\n",
       "\t\t<td>0</td>\n",
       "\t\t<td>0</td>\n",
       "\t\t<td>0</td>\n",
       "\t\t<td>0</td>\n",
       "\t\t<td>1</td>\n",
       "\t\t<td>2</td>\n",
       "\t\t<td>2</td>\n",
       "\t\t<td>253</td>\n",
       "\t\t<td>155180.56</td>\n",
       "\t\t<td>169415.54</td>\n",
       "\t</tr>\n",
       "\t<tr>\n",
       "\t\t<td>0.2530258561170947</td>\n",
       "\t\t<td>850</td>\n",
       "\t\t<td>1</td>\n",
       "\t\t<td>1</td>\n",
       "\t\t<td>0</td>\n",
       "\t\t<td>0</td>\n",
       "\t\t<td>15654562</td>\n",
       "\t\t<td>0</td>\n",
       "\t\t<td>1</td>\n",
       "\t\t<td>0</td>\n",
       "\t\t<td>0</td>\n",
       "\t\t<td>1</td>\n",
       "\t\t<td>4</td>\n",
       "\t\t<td>5</td>\n",
       "\t\t<td>2018</td>\n",
       "\t\t<td>174088.3</td>\n",
       "\t\t<td>5669.31</td>\n",
       "\t</tr>\n",
       "\t<tr>\n",
       "\t\t<td>0.2530258561170947</td>\n",
       "\t\t<td>850</td>\n",
       "\t\t<td>0</td>\n",
       "\t\t<td>0</td>\n",
       "\t\t<td>0</td>\n",
       "\t\t<td>1</td>\n",
       "\t\t<td>15642991</td>\n",
       "\t\t<td>0</td>\n",
       "\t\t<td>1</td>\n",
       "\t\t<td>0</td>\n",
       "\t\t<td>0</td>\n",
       "\t\t<td>1</td>\n",
       "\t\t<td>2</td>\n",
       "\t\t<td>7</td>\n",
       "\t\t<td>320</td>\n",
       "\t\t<td>0.0</td>\n",
       "\t\t<td>23237.25</td>\n",
       "\t</tr>\n",
       "\t<tr>\n",
       "\t\t<td>0.16827359621091076</td>\n",
       "\t\t<td>547</td>\n",
       "\t\t<td>1</td>\n",
       "\t\t<td>1</td>\n",
       "\t\t<td>0</td>\n",
       "\t\t<td>0</td>\n",
       "\t\t<td>15687372</td>\n",
       "\t\t<td>0</td>\n",
       "\t\t<td>1</td>\n",
       "\t\t<td>0</td>\n",
       "\t\t<td>1</td>\n",
       "\t\t<td>0</td>\n",
       "\t\t<td>2</td>\n",
       "\t\t<td>8</td>\n",
       "\t\t<td>1159</td>\n",
       "\t\t<td>121537.71</td>\n",
       "\t\t<td>46521.45</td>\n",
       "\t</tr>\n",
       "\t<tr>\n",
       "\t\t<td>0.16827359621091076</td>\n",
       "\t\t<td>669</td>\n",
       "\t\t<td>0</td>\n",
       "\t\t<td>1</td>\n",
       "\t\t<td>0</td>\n",
       "\t\t<td>0</td>\n",
       "\t\t<td>15694125</td>\n",
       "\t\t<td>1</td>\n",
       "\t\t<td>1</td>\n",
       "\t\t<td>1</td>\n",
       "\t\t<td>0</td>\n",
       "\t\t<td>0</td>\n",
       "\t\t<td>2</td>\n",
       "\t\t<td>5</td>\n",
       "\t\t<td>961</td>\n",
       "\t\t<td>0.0</td>\n",
       "\t\t<td>56875.76</td>\n",
       "\t</tr>\n",
       "\t<tr>\n",
       "\t\t<td>0.16827359621091076</td>\n",
       "\t\t<td>669</td>\n",
       "\t\t<td>0</td>\n",
       "\t\t<td>0</td>\n",
       "\t\t<td>0</td>\n",
       "\t\t<td>1</td>\n",
       "\t\t<td>15713160</td>\n",
       "\t\t<td>0</td>\n",
       "\t\t<td>1</td>\n",
       "\t\t<td>0</td>\n",
       "\t\t<td>0</td>\n",
       "\t\t<td>1</td>\n",
       "\t\t<td>2</td>\n",
       "\t\t<td>7</td>\n",
       "\t\t<td>366</td>\n",
       "\t\t<td>157228.61</td>\n",
       "\t\t<td>124382.9</td>\n",
       "\t</tr>\n",
       "\t<tr>\n",
       "\t\t<td>0.16827359621091076</td>\n",
       "\t\t<td>669</td>\n",
       "\t\t<td>0</td>\n",
       "\t\t<td>0</td>\n",
       "\t\t<td>0</td>\n",
       "\t\t<td>1</td>\n",
       "\t\t<td>15808831</td>\n",
       "\t\t<td>1</td>\n",
       "\t\t<td>1</td>\n",
       "\t\t<td>1</td>\n",
       "\t\t<td>0</td>\n",
       "\t\t<td>0</td>\n",
       "\t\t<td>2</td>\n",
       "\t\t<td>7</td>\n",
       "\t\t<td>1742</td>\n",
       "\t\t<td>0.0</td>\n",
       "\t\t<td>138145.62</td>\n",
       "\t</tr>\n",
       "</table></html>"
      ],
      "text/plain": [
       "          credit_score  churn  age_0  age_1  age_2  customer_id  active_member  credit_card  country_0  country_1  country_2  products_number  tenure    id    balance  estimated_salary\n",
       "gender                                                                                                                                                                                  \n",
       "0.253026           669      0      1      0      0     15638646              1            1          1          0          0                1       1   478  160474.59          95963.14\n",
       "0.253026           850      0      0      0      1     15628308              1            1          1          0          0                2       6  1414       0.00          13159.90\n",
       "0.253026           850      0      1      0      0     15762793              1            1          0          1          0                2       0  1390  136980.23          99019.65\n",
       "0.253026           850      0      1      0      0     15646196              0            0          0          0          1                2       2   253  155180.56         169415.54\n",
       "0.253026           850      1      1      0      0     15654562              0            1          0          0          1                4       5  2018  174088.30           5669.31\n",
       "0.253026           850      0      0      0      1     15642991              0            1          0          0          1                2       7   320       0.00          23237.25\n",
       "0.168274           547      1      1      0      0     15687372              0            1          0          1          0                2       8  1159  121537.71          46521.45\n",
       "0.168274           669      0      1      0      0     15694125              1            1          1          0          0                2       5   961       0.00          56875.76\n",
       "0.168274           669      0      0      0      1     15713160              0            1          0          0          1                2       7   366  157228.61         124382.90\n",
       "0.168274           669      0      0      0      1     15808831              1            1          1          0          0                2       7  1742       0.00         138145.62"
      ]
     },
     "metadata": {},
     "output_type": "display_data"
    },
    {
     "name": "stdout",
     "output_type": "stream",
     "text": [
      "                                                                                                 \r"
     ]
    },
    {
     "data": {
      "text/html": [
       "2000 rows X 17 columns"
      ],
      "text/plain": [
       "<IPython.core.display.HTML object>"
      ]
     },
     "metadata": {},
     "output_type": "display_data"
    },
    {
     "name": "stdout",
     "output_type": "stream",
     "text": [
      "                                                                                                  \r"
     ]
    },
    {
     "data": {
      "text/html": [
       "\n",
       "Updated dataset after performing customized anti-selection :"
      ],
      "text/plain": [
       "<IPython.core.display.HTML object>"
      ]
     },
     "metadata": {},
     "output_type": "display_data"
    },
    {
     "data": {
      "text/html": [
       "<style type=\"text/css\">\n",
       "\ttable {border:ridge 5px;}\n",
       "\ttable td {border:inset 1px;}\n",
       "\ttable tr#HeaderRow {background-color:grey; color:white;}</style>\n",
       "<html><table>\n",
       "\t<tr id=\"HeaderRow\">\n",
       "\t\t<th>gender</th>\n",
       "\t\t<th>credit_score</th>\n",
       "\t\t<th>churn</th>\n",
       "\t\t<th>age_0</th>\n",
       "\t\t<th>age_1</th>\n",
       "\t\t<th>age_2</th>\n",
       "\t\t<th>active_member</th>\n",
       "\t\t<th>credit_card</th>\n",
       "\t\t<th>country_0</th>\n",
       "\t\t<th>country_1</th>\n",
       "\t\t<th>country_2</th>\n",
       "\t\t<th>products_number</th>\n",
       "\t\t<th>tenure</th>\n",
       "\t\t<th>id</th>\n",
       "\t\t<th>balance</th>\n",
       "\t\t<th>estimated_salary</th>\n",
       "\t</tr>\n",
       "\t<tr>\n",
       "\t\t<td>0.2530258561170947</td>\n",
       "\t\t<td>669</td>\n",
       "\t\t<td>0</td>\n",
       "\t\t<td>1</td>\n",
       "\t\t<td>0</td>\n",
       "\t\t<td>0</td>\n",
       "\t\t<td>1</td>\n",
       "\t\t<td>1</td>\n",
       "\t\t<td>1</td>\n",
       "\t\t<td>0</td>\n",
       "\t\t<td>0</td>\n",
       "\t\t<td>1</td>\n",
       "\t\t<td>1</td>\n",
       "\t\t<td>478</td>\n",
       "\t\t<td>160474.59</td>\n",
       "\t\t<td>95963.14</td>\n",
       "\t</tr>\n",
       "\t<tr>\n",
       "\t\t<td>0.2530258561170947</td>\n",
       "\t\t<td>850</td>\n",
       "\t\t<td>0</td>\n",
       "\t\t<td>0</td>\n",
       "\t\t<td>0</td>\n",
       "\t\t<td>1</td>\n",
       "\t\t<td>1</td>\n",
       "\t\t<td>1</td>\n",
       "\t\t<td>1</td>\n",
       "\t\t<td>0</td>\n",
       "\t\t<td>0</td>\n",
       "\t\t<td>2</td>\n",
       "\t\t<td>6</td>\n",
       "\t\t<td>1414</td>\n",
       "\t\t<td>0.0</td>\n",
       "\t\t<td>13159.9</td>\n",
       "\t</tr>\n",
       "\t<tr>\n",
       "\t\t<td>0.2530258561170947</td>\n",
       "\t\t<td>850</td>\n",
       "\t\t<td>0</td>\n",
       "\t\t<td>1</td>\n",
       "\t\t<td>0</td>\n",
       "\t\t<td>0</td>\n",
       "\t\t<td>1</td>\n",
       "\t\t<td>1</td>\n",
       "\t\t<td>0</td>\n",
       "\t\t<td>1</td>\n",
       "\t\t<td>0</td>\n",
       "\t\t<td>2</td>\n",
       "\t\t<td>0</td>\n",
       "\t\t<td>1390</td>\n",
       "\t\t<td>136980.23</td>\n",
       "\t\t<td>99019.65</td>\n",
       "\t</tr>\n",
       "\t<tr>\n",
       "\t\t<td>0.2530258561170947</td>\n",
       "\t\t<td>850</td>\n",
       "\t\t<td>0</td>\n",
       "\t\t<td>1</td>\n",
       "\t\t<td>0</td>\n",
       "\t\t<td>0</td>\n",
       "\t\t<td>0</td>\n",
       "\t\t<td>0</td>\n",
       "\t\t<td>0</td>\n",
       "\t\t<td>0</td>\n",
       "\t\t<td>1</td>\n",
       "\t\t<td>2</td>\n",
       "\t\t<td>2</td>\n",
       "\t\t<td>253</td>\n",
       "\t\t<td>155180.56</td>\n",
       "\t\t<td>169415.54</td>\n",
       "\t</tr>\n",
       "\t<tr>\n",
       "\t\t<td>0.2530258561170947</td>\n",
       "\t\t<td>850</td>\n",
       "\t\t<td>1</td>\n",
       "\t\t<td>1</td>\n",
       "\t\t<td>0</td>\n",
       "\t\t<td>0</td>\n",
       "\t\t<td>0</td>\n",
       "\t\t<td>1</td>\n",
       "\t\t<td>0</td>\n",
       "\t\t<td>0</td>\n",
       "\t\t<td>1</td>\n",
       "\t\t<td>4</td>\n",
       "\t\t<td>5</td>\n",
       "\t\t<td>2018</td>\n",
       "\t\t<td>174088.3</td>\n",
       "\t\t<td>5669.31</td>\n",
       "\t</tr>\n",
       "\t<tr>\n",
       "\t\t<td>0.2530258561170947</td>\n",
       "\t\t<td>850</td>\n",
       "\t\t<td>0</td>\n",
       "\t\t<td>0</td>\n",
       "\t\t<td>0</td>\n",
       "\t\t<td>1</td>\n",
       "\t\t<td>0</td>\n",
       "\t\t<td>1</td>\n",
       "\t\t<td>0</td>\n",
       "\t\t<td>0</td>\n",
       "\t\t<td>1</td>\n",
       "\t\t<td>2</td>\n",
       "\t\t<td>7</td>\n",
       "\t\t<td>320</td>\n",
       "\t\t<td>0.0</td>\n",
       "\t\t<td>23237.25</td>\n",
       "\t</tr>\n",
       "\t<tr>\n",
       "\t\t<td>0.16827359621091076</td>\n",
       "\t\t<td>547</td>\n",
       "\t\t<td>1</td>\n",
       "\t\t<td>1</td>\n",
       "\t\t<td>0</td>\n",
       "\t\t<td>0</td>\n",
       "\t\t<td>0</td>\n",
       "\t\t<td>1</td>\n",
       "\t\t<td>0</td>\n",
       "\t\t<td>1</td>\n",
       "\t\t<td>0</td>\n",
       "\t\t<td>2</td>\n",
       "\t\t<td>8</td>\n",
       "\t\t<td>1159</td>\n",
       "\t\t<td>121537.71</td>\n",
       "\t\t<td>46521.45</td>\n",
       "\t</tr>\n",
       "\t<tr>\n",
       "\t\t<td>0.16827359621091076</td>\n",
       "\t\t<td>669</td>\n",
       "\t\t<td>0</td>\n",
       "\t\t<td>1</td>\n",
       "\t\t<td>0</td>\n",
       "\t\t<td>0</td>\n",
       "\t\t<td>1</td>\n",
       "\t\t<td>1</td>\n",
       "\t\t<td>1</td>\n",
       "\t\t<td>0</td>\n",
       "\t\t<td>0</td>\n",
       "\t\t<td>2</td>\n",
       "\t\t<td>5</td>\n",
       "\t\t<td>961</td>\n",
       "\t\t<td>0.0</td>\n",
       "\t\t<td>56875.76</td>\n",
       "\t</tr>\n",
       "\t<tr>\n",
       "\t\t<td>0.16827359621091076</td>\n",
       "\t\t<td>669</td>\n",
       "\t\t<td>0</td>\n",
       "\t\t<td>0</td>\n",
       "\t\t<td>0</td>\n",
       "\t\t<td>1</td>\n",
       "\t\t<td>0</td>\n",
       "\t\t<td>1</td>\n",
       "\t\t<td>0</td>\n",
       "\t\t<td>0</td>\n",
       "\t\t<td>1</td>\n",
       "\t\t<td>2</td>\n",
       "\t\t<td>7</td>\n",
       "\t\t<td>366</td>\n",
       "\t\t<td>157228.61</td>\n",
       "\t\t<td>124382.9</td>\n",
       "\t</tr>\n",
       "\t<tr>\n",
       "\t\t<td>0.16827359621091076</td>\n",
       "\t\t<td>669</td>\n",
       "\t\t<td>0</td>\n",
       "\t\t<td>0</td>\n",
       "\t\t<td>0</td>\n",
       "\t\t<td>1</td>\n",
       "\t\t<td>1</td>\n",
       "\t\t<td>1</td>\n",
       "\t\t<td>1</td>\n",
       "\t\t<td>0</td>\n",
       "\t\t<td>0</td>\n",
       "\t\t<td>2</td>\n",
       "\t\t<td>7</td>\n",
       "\t\t<td>1742</td>\n",
       "\t\t<td>0.0</td>\n",
       "\t\t<td>138145.62</td>\n",
       "\t</tr>\n",
       "</table></html>"
      ],
      "text/plain": [
       "     gender  credit_score  churn  age_0  age_1  age_2  active_member  credit_card  country_0  country_1  country_2  products_number  tenure    id    balance  estimated_salary\n",
       "0  0.253026           669      0      1      0      0              1            1          1          0          0                1       1   478  160474.59          95963.14\n",
       "1  0.253026           850      0      0      0      1              1            1          1          0          0                2       6  1414       0.00          13159.90\n",
       "2  0.253026           850      0      1      0      0              1            1          0          1          0                2       0  1390  136980.23          99019.65\n",
       "3  0.253026           850      0      1      0      0              0            0          0          0          1                2       2   253  155180.56         169415.54\n",
       "4  0.253026           850      1      1      0      0              0            1          0          0          1                4       5  2018  174088.30           5669.31\n",
       "5  0.253026           850      0      0      0      1              0            1          0          0          1                2       7   320       0.00          23237.25\n",
       "6  0.168274           547      1      1      0      0              0            1          0          1          0                2       8  1159  121537.71          46521.45\n",
       "7  0.168274           669      0      1      0      0              1            1          1          0          0                2       5   961       0.00          56875.76\n",
       "8  0.168274           669      0      0      0      1              0            1          0          0          1                2       7   366  157228.61         124382.90\n",
       "9  0.168274           669      0      0      0      1              1            1          1          0          0                2       7  1742       0.00         138145.62"
      ]
     },
     "metadata": {},
     "output_type": "display_data"
    },
    {
     "name": "stdout",
     "output_type": "stream",
     "text": [
      "                                                                                                  \r"
     ]
    },
    {
     "data": {
      "text/html": [
       "2000 rows X 16 columns"
      ],
      "text/plain": [
       "<IPython.core.display.HTML object>"
      ]
     },
     "metadata": {},
     "output_type": "display_data"
    },
    {
     "name": "stdout",
     "output_type": "stream",
     "text": [
      "                                                                                                  \r"
     ]
    },
    {
     "data": {
      "text/html": [
       "Performing transformation carried out in data preparation phase ..."
      ],
      "text/plain": [
       "<IPython.core.display.HTML object>"
      ]
     },
     "metadata": {},
     "output_type": "display_data"
    },
    {
     "name": "stdout",
     "output_type": "stream",
     "text": [
      "                                                                                                  \r"
     ]
    },
    {
     "data": {
      "text/html": [
       "\n",
       "Updated dataset after performing Lasso feature selection:"
      ],
      "text/plain": [
       "<IPython.core.display.HTML object>"
      ]
     },
     "metadata": {},
     "output_type": "display_data"
    },
    {
     "data": {
      "text/html": [
       "<style type=\"text/css\">\n",
       "\ttable {border:ridge 5px;}\n",
       "\ttable td {border:inset 1px;}\n",
       "\ttable tr#HeaderRow {background-color:grey; color:white;}</style>\n",
       "<html><table>\n",
       "\t<tr id=\"HeaderRow\">\n",
       "\t\t<th>id</th>\n",
       "\t\t<th>credit_score</th>\n",
       "\t\t<th>country_1</th>\n",
       "\t\t<th>age_2</th>\n",
       "\t\t<th>age_0</th>\n",
       "\t\t<th>active_member</th>\n",
       "\t\t<th>credit_card</th>\n",
       "\t\t<th>products_number</th>\n",
       "\t\t<th>country_2</th>\n",
       "\t\t<th>gender</th>\n",
       "\t\t<th>tenure</th>\n",
       "\t\t<th>country_0</th>\n",
       "\t\t<th>balance</th>\n",
       "\t\t<th>estimated_salary</th>\n",
       "\t\t<th>age_1</th>\n",
       "\t\t<th>churn</th>\n",
       "\t</tr>\n",
       "\t<tr>\n",
       "\t\t<td>1834</td>\n",
       "\t\t<td>631</td>\n",
       "\t\t<td>1</td>\n",
       "\t\t<td>1</td>\n",
       "\t\t<td>0</td>\n",
       "\t\t<td>1</td>\n",
       "\t\t<td>1</td>\n",
       "\t\t<td>1</td>\n",
       "\t\t<td>0</td>\n",
       "\t\t<td>0.253</td>\n",
       "\t\t<td>6</td>\n",
       "\t\t<td>0</td>\n",
       "\t\t<td>139129.92</td>\n",
       "\t\t<td>63747.51</td>\n",
       "\t\t<td>0</td>\n",
       "\t\t<td>0</td>\n",
       "\t</tr>\n",
       "\t<tr>\n",
       "\t\t<td>1187</td>\n",
       "\t\t<td>461</td>\n",
       "\t\t<td>0</td>\n",
       "\t\t<td>1</td>\n",
       "\t\t<td>0</td>\n",
       "\t\t<td>1</td>\n",
       "\t\t<td>1</td>\n",
       "\t\t<td>1</td>\n",
       "\t\t<td>0</td>\n",
       "\t\t<td>0.253</td>\n",
       "\t\t<td>8</td>\n",
       "\t\t<td>1</td>\n",
       "\t\t<td>0.0</td>\n",
       "\t\t<td>103349.74</td>\n",
       "\t\t<td>0</td>\n",
       "\t\t<td>0</td>\n",
       "\t</tr>\n",
       "\t<tr>\n",
       "\t\t<td>1222</td>\n",
       "\t\t<td>461</td>\n",
       "\t\t<td>0</td>\n",
       "\t\t<td>1</td>\n",
       "\t\t<td>0</td>\n",
       "\t\t<td>1</td>\n",
       "\t\t<td>1</td>\n",
       "\t\t<td>2</td>\n",
       "\t\t<td>1</td>\n",
       "\t\t<td>0.253</td>\n",
       "\t\t<td>6</td>\n",
       "\t\t<td>0</td>\n",
       "\t\t<td>0.0</td>\n",
       "\t\t<td>15306.29</td>\n",
       "\t\t<td>0</td>\n",
       "\t\t<td>0</td>\n",
       "\t</tr>\n",
       "\t<tr>\n",
       "\t\t<td>1021</td>\n",
       "\t\t<td>583</td>\n",
       "\t\t<td>0</td>\n",
       "\t\t<td>1</td>\n",
       "\t\t<td>0</td>\n",
       "\t\t<td>1</td>\n",
       "\t\t<td>1</td>\n",
       "\t\t<td>1</td>\n",
       "\t\t<td>0</td>\n",
       "\t\t<td>0.253</td>\n",
       "\t\t<td>1</td>\n",
       "\t\t<td>1</td>\n",
       "\t\t<td>125406.58</td>\n",
       "\t\t<td>110784.42</td>\n",
       "\t\t<td>0</td>\n",
       "\t\t<td>0</td>\n",
       "\t</tr>\n",
       "\t<tr>\n",
       "\t\t<td>1674</td>\n",
       "\t\t<td>568</td>\n",
       "\t\t<td>1</td>\n",
       "\t\t<td>1</td>\n",
       "\t\t<td>0</td>\n",
       "\t\t<td>0</td>\n",
       "\t\t<td>1</td>\n",
       "\t\t<td>2</td>\n",
       "\t\t<td>0</td>\n",
       "\t\t<td>0.253</td>\n",
       "\t\t<td>10</td>\n",
       "\t\t<td>0</td>\n",
       "\t\t<td>109819.16</td>\n",
       "\t\t<td>154491.39</td>\n",
       "\t\t<td>0</td>\n",
       "\t\t<td>0</td>\n",
       "\t</tr>\n",
       "\t<tr>\n",
       "\t\t<td>407</td>\n",
       "\t\t<td>690</td>\n",
       "\t\t<td>0</td>\n",
       "\t\t<td>1</td>\n",
       "\t\t<td>0</td>\n",
       "\t\t<td>0</td>\n",
       "\t\t<td>1</td>\n",
       "\t\t<td>1</td>\n",
       "\t\t<td>0</td>\n",
       "\t\t<td>0.253</td>\n",
       "\t\t<td>3</td>\n",
       "\t\t<td>1</td>\n",
       "\t\t<td>118097.87</td>\n",
       "\t\t<td>61257.83</td>\n",
       "\t\t<td>0</td>\n",
       "\t\t<td>0</td>\n",
       "\t</tr>\n",
       "\t<tr>\n",
       "\t\t<td>478</td>\n",
       "\t\t<td>669</td>\n",
       "\t\t<td>0</td>\n",
       "\t\t<td>0</td>\n",
       "\t\t<td>1</td>\n",
       "\t\t<td>1</td>\n",
       "\t\t<td>1</td>\n",
       "\t\t<td>1</td>\n",
       "\t\t<td>0</td>\n",
       "\t\t<td>0.253</td>\n",
       "\t\t<td>1</td>\n",
       "\t\t<td>1</td>\n",
       "\t\t<td>160474.59</td>\n",
       "\t\t<td>95963.14</td>\n",
       "\t\t<td>0</td>\n",
       "\t\t<td>0</td>\n",
       "\t</tr>\n",
       "\t<tr>\n",
       "\t\t<td>1390</td>\n",
       "\t\t<td>850</td>\n",
       "\t\t<td>1</td>\n",
       "\t\t<td>0</td>\n",
       "\t\t<td>1</td>\n",
       "\t\t<td>1</td>\n",
       "\t\t<td>1</td>\n",
       "\t\t<td>2</td>\n",
       "\t\t<td>0</td>\n",
       "\t\t<td>0.253</td>\n",
       "\t\t<td>0</td>\n",
       "\t\t<td>0</td>\n",
       "\t\t<td>136980.23</td>\n",
       "\t\t<td>99019.65</td>\n",
       "\t\t<td>0</td>\n",
       "\t\t<td>0</td>\n",
       "\t</tr>\n",
       "\t<tr>\n",
       "\t\t<td>253</td>\n",
       "\t\t<td>850</td>\n",
       "\t\t<td>0</td>\n",
       "\t\t<td>0</td>\n",
       "\t\t<td>1</td>\n",
       "\t\t<td>0</td>\n",
       "\t\t<td>0</td>\n",
       "\t\t<td>2</td>\n",
       "\t\t<td>1</td>\n",
       "\t\t<td>0.253</td>\n",
       "\t\t<td>2</td>\n",
       "\t\t<td>0</td>\n",
       "\t\t<td>155180.56</td>\n",
       "\t\t<td>169415.54</td>\n",
       "\t\t<td>0</td>\n",
       "\t\t<td>0</td>\n",
       "\t</tr>\n",
       "\t<tr>\n",
       "\t\t<td>2031</td>\n",
       "\t\t<td>850</td>\n",
       "\t\t<td>0</td>\n",
       "\t\t<td>0</td>\n",
       "\t\t<td>1</td>\n",
       "\t\t<td>1</td>\n",
       "\t\t<td>0</td>\n",
       "\t\t<td>1</td>\n",
       "\t\t<td>0</td>\n",
       "\t\t<td>0.253</td>\n",
       "\t\t<td>3</td>\n",
       "\t\t<td>1</td>\n",
       "\t\t<td>212778.2</td>\n",
       "\t\t<td>69372.88</td>\n",
       "\t\t<td>0</td>\n",
       "\t\t<td>0</td>\n",
       "\t</tr>\n",
       "</table></html>"
      ],
      "text/plain": [
       "         id  credit_score  country_1  age_2  active_member  credit_card  products_number  country_2  gender  tenure  country_0    balance  estimated_salary  age_1  churn\n",
       "age_0                                                                                                                                                                    \n",
       "0      1834           631          1      1              1            1                1          0   0.253       6          0  139129.92          63747.51      0      0\n",
       "0      1187           461          0      1              1            1                1          0   0.253       8          1       0.00         103349.74      0      0\n",
       "0      1222           461          0      1              1            1                2          1   0.253       6          0       0.00          15306.29      0      0\n",
       "0      1021           583          0      1              1            1                1          0   0.253       1          1  125406.58         110784.42      0      0\n",
       "0      1674           568          1      1              0            1                2          0   0.253      10          0  109819.16         154491.39      0      0\n",
       "0       407           690          0      1              0            1                1          0   0.253       3          1  118097.87          61257.83      0      0\n",
       "1       478           669          0      0              1            1                1          0   0.253       1          1  160474.59          95963.14      0      0\n",
       "1      1390           850          1      0              1            1                2          0   0.253       0          0  136980.23          99019.65      0      0\n",
       "1       253           850          0      0              0            0                2          1   0.253       2          0  155180.56         169415.54      0      0\n",
       "1      2031           850          0      0              1            0                1          0   0.253       3          1  212778.20          69372.88      0      0"
      ]
     },
     "metadata": {},
     "output_type": "display_data"
    },
    {
     "name": "stdout",
     "output_type": "stream",
     "text": [
      "                                                                                                  \r"
     ]
    },
    {
     "data": {
      "text/html": [
       "2000 rows X 16 columns"
      ],
      "text/plain": [
       "<IPython.core.display.HTML object>"
      ]
     },
     "metadata": {},
     "output_type": "display_data"
    },
    {
     "name": "stdout",
     "output_type": "stream",
     "text": [
      "                                                                                                  \r"
     ]
    },
    {
     "data": {
      "text/html": [
       "\n",
       "Updated dataset after performing scaling on Lasso selected features :"
      ],
      "text/plain": [
       "<IPython.core.display.HTML object>"
      ]
     },
     "metadata": {},
     "output_type": "display_data"
    },
    {
     "data": {
      "text/html": [
       "<style type=\"text/css\">\n",
       "\ttable {border:ridge 5px;}\n",
       "\ttable td {border:inset 1px;}\n",
       "\ttable tr#HeaderRow {background-color:grey; color:white;}</style>\n",
       "<html><table>\n",
       "\t<tr id=\"HeaderRow\">\n",
       "\t\t<th>churn</th>\n",
       "\t\t<th>country_1</th>\n",
       "\t\t<th>age_2</th>\n",
       "\t\t<th>age_0</th>\n",
       "\t\t<th>country_2</th>\n",
       "\t\t<th>id</th>\n",
       "\t\t<th>country_0</th>\n",
       "\t\t<th>age_1</th>\n",
       "\t\t<th>credit_score</th>\n",
       "\t\t<th>active_member</th>\n",
       "\t\t<th>credit_card</th>\n",
       "\t\t<th>products_number</th>\n",
       "\t\t<th>gender</th>\n",
       "\t\t<th>tenure</th>\n",
       "\t\t<th>balance</th>\n",
       "\t\t<th>estimated_salary</th>\n",
       "\t</tr>\n",
       "\t<tr>\n",
       "\t\t<td>0</td>\n",
       "\t\t<td>0</td>\n",
       "\t\t<td>0</td>\n",
       "\t\t<td>1</td>\n",
       "\t\t<td>1</td>\n",
       "\t\t<td>253</td>\n",
       "\t\t<td>0</td>\n",
       "\t\t<td>0</td>\n",
       "\t\t<td>2.226211960353833</td>\n",
       "\t\t<td>-0.7605675965279302</td>\n",
       "\t\t<td>-1.2817688953726483</td>\n",
       "\t\t<td>1.16076246362145</td>\n",
       "\t\t<td>1.0967456634359403</td>\n",
       "\t\t<td>-1.031359907187896</td>\n",
       "\t\t<td>1.1984812680537913</td>\n",
       "\t\t<td>1.2057288602023866</td>\n",
       "\t</tr>\n",
       "\t<tr>\n",
       "\t\t<td>0</td>\n",
       "\t\t<td>1</td>\n",
       "\t\t<td>0</td>\n",
       "\t\t<td>1</td>\n",
       "\t\t<td>0</td>\n",
       "\t\t<td>63</td>\n",
       "\t\t<td>0</td>\n",
       "\t\t<td>0</td>\n",
       "\t\t<td>2.226211960353833</td>\n",
       "\t\t<td>1.3148075260699945</td>\n",
       "\t\t<td>0.7801718419053136</td>\n",
       "\t\t<td>1.16076246362145</td>\n",
       "\t\t<td>1.0967456634359403</td>\n",
       "\t\t<td>-0.6637286968699371</td>\n",
       "\t\t<td>0.7811978415460278</td>\n",
       "\t\t<td>-0.20147121748302016</td>\n",
       "\t</tr>\n",
       "\t<tr>\n",
       "\t\t<td>0</td>\n",
       "\t\t<td>0</td>\n",
       "\t\t<td>0</td>\n",
       "\t\t<td>1</td>\n",
       "\t\t<td>1</td>\n",
       "\t\t<td>1741</td>\n",
       "\t\t<td>0</td>\n",
       "\t\t<td>0</td>\n",
       "\t\t<td>2.226211960353833</td>\n",
       "\t\t<td>1.3148075260699945</td>\n",
       "\t\t<td>0.7801718419053136</td>\n",
       "\t\t<td>-0.7300008769676279</td>\n",
       "\t\t<td>1.0967456634359403</td>\n",
       "\t\t<td>-1.031359907187896</td>\n",
       "\t\t<td>0.7131948270238011</td>\n",
       "\t\t<td>-0.3699742146168608</td>\n",
       "\t</tr>\n",
       "\t<tr>\n",
       "\t\t<td>0</td>\n",
       "\t\t<td>1</td>\n",
       "\t\t<td>0</td>\n",
       "\t\t<td>1</td>\n",
       "\t\t<td>0</td>\n",
       "\t\t<td>1696</td>\n",
       "\t\t<td>0</td>\n",
       "\t\t<td>0</td>\n",
       "\t\t<td>2.226211960353833</td>\n",
       "\t\t<td>-0.7605675965279302</td>\n",
       "\t\t<td>-1.2817688953726483</td>\n",
       "\t\t<td>-0.7300008769676279</td>\n",
       "\t\t<td>1.0967456634359403</td>\n",
       "\t\t<td>-0.6637286968699371</td>\n",
       "\t\t<td>-0.5007245953970613</td>\n",
       "\t\t<td>-1.1296317048616176</td>\n",
       "\t</tr>\n",
       "\t<tr>\n",
       "\t\t<td>0</td>\n",
       "\t\t<td>0</td>\n",
       "\t\t<td>0</td>\n",
       "\t\t<td>1</td>\n",
       "\t\t<td>0</td>\n",
       "\t\t<td>370</td>\n",
       "\t\t<td>1</td>\n",
       "\t\t<td>0</td>\n",
       "\t\t<td>2.226211960353833</td>\n",
       "\t\t<td>-0.7605675965279302</td>\n",
       "\t\t<td>-1.2817688953726483</td>\n",
       "\t\t<td>1.16076246362145</td>\n",
       "\t\t<td>1.0967456634359403</td>\n",
       "\t\t<td>0.8067961444018984</td>\n",
       "\t\t<td>-1.3396947213361015</td>\n",
       "\t\t<td>0.9582300258519555</td>\n",
       "\t</tr>\n",
       "\t<tr>\n",
       "\t\t<td>0</td>\n",
       "\t\t<td>1</td>\n",
       "\t\t<td>0</td>\n",
       "\t\t<td>1</td>\n",
       "\t\t<td>0</td>\n",
       "\t\t<td>250</td>\n",
       "\t\t<td>0</td>\n",
       "\t\t<td>0</td>\n",
       "\t\t<td>2.226211960353833</td>\n",
       "\t\t<td>-0.7605675965279302</td>\n",
       "\t\t<td>0.7801718419053136</td>\n",
       "\t\t<td>-0.7300008769676279</td>\n",
       "\t\t<td>1.0967456634359403</td>\n",
       "\t\t<td>0.43916493408393953</td>\n",
       "\t\t<td>0.49160278730996015</td>\n",
       "\t\t<td>0.19993697189330661</td>\n",
       "\t</tr>\n",
       "\t<tr>\n",
       "\t\t<td>0</td>\n",
       "\t\t<td>0</td>\n",
       "\t\t<td>1</td>\n",
       "\t\t<td>0</td>\n",
       "\t\t<td>1</td>\n",
       "\t\t<td>1902</td>\n",
       "\t\t<td>0</td>\n",
       "\t\t<td>0</td>\n",
       "\t\t<td>0.8548633994252491</td>\n",
       "\t\t<td>1.3148075260699945</td>\n",
       "\t\t<td>-1.2817688953726483</td>\n",
       "\t\t<td>-0.7300008769676279</td>\n",
       "\t\t<td>1.0967456634359403</td>\n",
       "\t\t<td>0.8067961444018984</td>\n",
       "\t\t<td>0.685638591899217</td>\n",
       "\t\t<td>-0.37195440903259785</td>\n",
       "\t</tr>\n",
       "\t<tr>\n",
       "\t\t<td>0</td>\n",
       "\t\t<td>0</td>\n",
       "\t\t<td>1</td>\n",
       "\t\t<td>0</td>\n",
       "\t\t<td>0</td>\n",
       "\t\t<td>21</td>\n",
       "\t\t<td>1</td>\n",
       "\t\t<td>0</td>\n",
       "\t\t<td>-0.7708482010304106</td>\n",
       "\t\t<td>-0.7605675965279302</td>\n",
       "\t\t<td>0.7801718419053136</td>\n",
       "\t\t<td>1.16076246362145</td>\n",
       "\t\t<td>1.0967456634359403</td>\n",
       "\t\t<td>1.5420585650378162</td>\n",
       "\t\t<td>-1.3396947213361015</td>\n",
       "\t\t<td>0.4630366402611663</td>\n",
       "\t</tr>\n",
       "\t<tr>\n",
       "\t\t<td>0</td>\n",
       "\t\t<td>1</td>\n",
       "\t\t<td>1</td>\n",
       "\t\t<td>0</td>\n",
       "\t\t<td>0</td>\n",
       "\t\t<td>1834</td>\n",
       "\t\t<td>0</td>\n",
       "\t\t<td>0</td>\n",
       "\t\t<td>-0.19576654644745617</td>\n",
       "\t\t<td>1.3148075260699945</td>\n",
       "\t\t<td>0.7801718419053136</td>\n",
       "\t\t<td>-0.7300008769676279</td>\n",
       "\t\t<td>1.0967456634359403</td>\n",
       "\t\t<td>0.43916493408393953</td>\n",
       "\t\t<td>0.93595257849151</td>\n",
       "\t\t<td>-0.6374991430387051</td>\n",
       "\t</tr>\n",
       "\t<tr>\n",
       "\t\t<td>1</td>\n",
       "\t\t<td>0</td>\n",
       "\t\t<td>0</td>\n",
       "\t\t<td>0</td>\n",
       "\t\t<td>0</td>\n",
       "\t\t<td>1470</td>\n",
       "\t\t<td>1</td>\n",
       "\t\t<td>1</td>\n",
       "\t\t<td>1.1092264389523252</td>\n",
       "\t\t<td>-0.7605675965279302</td>\n",
       "\t\t<td>0.7801718419053136</td>\n",
       "\t\t<td>-0.7300008769676279</td>\n",
       "\t\t<td>1.0967456634359403</td>\n",
       "\t\t<td>0.43916493408393953</td>\n",
       "\t\t<td>-1.3396947213361015</td>\n",
       "\t\t<td>-1.4358710738069893</td>\n",
       "\t</tr>\n",
       "</table></html>"
      ],
      "text/plain": [
       "   churn  country_1  age_2  age_0  country_2    id  country_0  age_1  credit_score  active_member  credit_card  products_number    gender    tenure   balance  estimated_salary\n",
       "0      0          0      0      1          1   253          0      0      2.226212      -0.760568    -1.281769         1.160762  1.096746 -1.031360  1.198481          1.205729\n",
       "1      0          1      0      1          0    63          0      0      2.226212       1.314808     0.780172         1.160762  1.096746 -0.663729  0.781198         -0.201471\n",
       "2      0          0      0      1          1  1741          0      0      2.226212       1.314808     0.780172        -0.730001  1.096746 -1.031360  0.713195         -0.369974\n",
       "3      0          1      0      1          0  1696          0      0      2.226212      -0.760568    -1.281769        -0.730001  1.096746 -0.663729 -0.500725         -1.129632\n",
       "4      0          0      0      1          0   370          1      0      2.226212      -0.760568    -1.281769         1.160762  1.096746  0.806796 -1.339695          0.958230\n",
       "5      0          1      0      1          0   250          0      0      2.226212      -0.760568     0.780172        -0.730001  1.096746  0.439165  0.491603          0.199937\n",
       "6      0          0      1      0          1  1902          0      0      0.854863       1.314808    -1.281769        -0.730001  1.096746  0.806796  0.685639         -0.371954\n",
       "7      0          0      1      0          0    21          1      0     -0.770848      -0.760568     0.780172         1.160762  1.096746  1.542059 -1.339695          0.463037\n",
       "8      0          1      1      0          0  1834          0      0     -0.195767       1.314808     0.780172        -0.730001  1.096746  0.439165  0.935953         -0.637499\n",
       "9      1          0      0      0          0  1470          1      1      1.109226      -0.760568     0.780172        -0.730001  1.096746  0.439165 -1.339695         -1.435871"
      ]
     },
     "metadata": {},
     "output_type": "display_data"
    },
    {
     "name": "stdout",
     "output_type": "stream",
     "text": [
      "                                                                                                  \r"
     ]
    },
    {
     "data": {
      "text/html": [
       "2000 rows X 16 columns"
      ],
      "text/plain": [
       "<IPython.core.display.HTML object>"
      ]
     },
     "metadata": {},
     "output_type": "display_data"
    },
    {
     "name": "stdout",
     "output_type": "stream",
     "text": [
      "                                                                                                  \r"
     ]
    },
    {
     "data": {
      "text/html": [
       "\n",
       "Updated dataset after performing RFE feature selection:"
      ],
      "text/plain": [
       "<IPython.core.display.HTML object>"
      ]
     },
     "metadata": {},
     "output_type": "display_data"
    },
    {
     "data": {
      "text/html": [
       "<style type=\"text/css\">\n",
       "\ttable {border:ridge 5px;}\n",
       "\ttable td {border:inset 1px;}\n",
       "\ttable tr#HeaderRow {background-color:grey; color:white;}</style>\n",
       "<html><table>\n",
       "\t<tr id=\"HeaderRow\">\n",
       "\t\t<th>id</th>\n",
       "\t\t<th>products_number</th>\n",
       "\t\t<th>tenure</th>\n",
       "\t\t<th>country_0</th>\n",
       "\t\t<th>credit_score</th>\n",
       "\t\t<th>age_2</th>\n",
       "\t\t<th>active_member</th>\n",
       "\t\t<th>country_2</th>\n",
       "\t\t<th>gender</th>\n",
       "\t\t<th>balance</th>\n",
       "\t\t<th>estimated_salary</th>\n",
       "\t\t<th>churn</th>\n",
       "\t</tr>\n",
       "\t<tr>\n",
       "\t\t<td>1834</td>\n",
       "\t\t<td>1</td>\n",
       "\t\t<td>6</td>\n",
       "\t\t<td>0</td>\n",
       "\t\t<td>631</td>\n",
       "\t\t<td>1</td>\n",
       "\t\t<td>1</td>\n",
       "\t\t<td>0</td>\n",
       "\t\t<td>0.253</td>\n",
       "\t\t<td>139129.92</td>\n",
       "\t\t<td>63747.51</td>\n",
       "\t\t<td>0</td>\n",
       "\t</tr>\n",
       "\t<tr>\n",
       "\t\t<td>1187</td>\n",
       "\t\t<td>1</td>\n",
       "\t\t<td>8</td>\n",
       "\t\t<td>1</td>\n",
       "\t\t<td>461</td>\n",
       "\t\t<td>1</td>\n",
       "\t\t<td>1</td>\n",
       "\t\t<td>0</td>\n",
       "\t\t<td>0.253</td>\n",
       "\t\t<td>0.0</td>\n",
       "\t\t<td>103349.74</td>\n",
       "\t\t<td>0</td>\n",
       "\t</tr>\n",
       "\t<tr>\n",
       "\t\t<td>1222</td>\n",
       "\t\t<td>2</td>\n",
       "\t\t<td>6</td>\n",
       "\t\t<td>0</td>\n",
       "\t\t<td>461</td>\n",
       "\t\t<td>1</td>\n",
       "\t\t<td>1</td>\n",
       "\t\t<td>1</td>\n",
       "\t\t<td>0.253</td>\n",
       "\t\t<td>0.0</td>\n",
       "\t\t<td>15306.29</td>\n",
       "\t\t<td>0</td>\n",
       "\t</tr>\n",
       "\t<tr>\n",
       "\t\t<td>1021</td>\n",
       "\t\t<td>1</td>\n",
       "\t\t<td>1</td>\n",
       "\t\t<td>1</td>\n",
       "\t\t<td>583</td>\n",
       "\t\t<td>1</td>\n",
       "\t\t<td>1</td>\n",
       "\t\t<td>0</td>\n",
       "\t\t<td>0.253</td>\n",
       "\t\t<td>125406.58</td>\n",
       "\t\t<td>110784.42</td>\n",
       "\t\t<td>0</td>\n",
       "\t</tr>\n",
       "\t<tr>\n",
       "\t\t<td>1674</td>\n",
       "\t\t<td>2</td>\n",
       "\t\t<td>10</td>\n",
       "\t\t<td>0</td>\n",
       "\t\t<td>568</td>\n",
       "\t\t<td>1</td>\n",
       "\t\t<td>0</td>\n",
       "\t\t<td>0</td>\n",
       "\t\t<td>0.253</td>\n",
       "\t\t<td>109819.16</td>\n",
       "\t\t<td>154491.39</td>\n",
       "\t\t<td>0</td>\n",
       "\t</tr>\n",
       "\t<tr>\n",
       "\t\t<td>407</td>\n",
       "\t\t<td>1</td>\n",
       "\t\t<td>3</td>\n",
       "\t\t<td>1</td>\n",
       "\t\t<td>690</td>\n",
       "\t\t<td>1</td>\n",
       "\t\t<td>0</td>\n",
       "\t\t<td>0</td>\n",
       "\t\t<td>0.253</td>\n",
       "\t\t<td>118097.87</td>\n",
       "\t\t<td>61257.83</td>\n",
       "\t\t<td>0</td>\n",
       "\t</tr>\n",
       "\t<tr>\n",
       "\t\t<td>478</td>\n",
       "\t\t<td>1</td>\n",
       "\t\t<td>1</td>\n",
       "\t\t<td>1</td>\n",
       "\t\t<td>669</td>\n",
       "\t\t<td>0</td>\n",
       "\t\t<td>1</td>\n",
       "\t\t<td>0</td>\n",
       "\t\t<td>0.253</td>\n",
       "\t\t<td>160474.59</td>\n",
       "\t\t<td>95963.14</td>\n",
       "\t\t<td>0</td>\n",
       "\t</tr>\n",
       "\t<tr>\n",
       "\t\t<td>1390</td>\n",
       "\t\t<td>2</td>\n",
       "\t\t<td>0</td>\n",
       "\t\t<td>0</td>\n",
       "\t\t<td>850</td>\n",
       "\t\t<td>0</td>\n",
       "\t\t<td>1</td>\n",
       "\t\t<td>0</td>\n",
       "\t\t<td>0.253</td>\n",
       "\t\t<td>136980.23</td>\n",
       "\t\t<td>99019.65</td>\n",
       "\t\t<td>0</td>\n",
       "\t</tr>\n",
       "\t<tr>\n",
       "\t\t<td>253</td>\n",
       "\t\t<td>2</td>\n",
       "\t\t<td>2</td>\n",
       "\t\t<td>0</td>\n",
       "\t\t<td>850</td>\n",
       "\t\t<td>0</td>\n",
       "\t\t<td>0</td>\n",
       "\t\t<td>1</td>\n",
       "\t\t<td>0.253</td>\n",
       "\t\t<td>155180.56</td>\n",
       "\t\t<td>169415.54</td>\n",
       "\t\t<td>0</td>\n",
       "\t</tr>\n",
       "\t<tr>\n",
       "\t\t<td>2031</td>\n",
       "\t\t<td>1</td>\n",
       "\t\t<td>3</td>\n",
       "\t\t<td>1</td>\n",
       "\t\t<td>850</td>\n",
       "\t\t<td>0</td>\n",
       "\t\t<td>1</td>\n",
       "\t\t<td>0</td>\n",
       "\t\t<td>0.253</td>\n",
       "\t\t<td>212778.2</td>\n",
       "\t\t<td>69372.88</td>\n",
       "\t\t<td>0</td>\n",
       "\t</tr>\n",
       "</table></html>"
      ],
      "text/plain": [
       "     id  products_number  tenure  country_0  credit_score  age_2  active_member  country_2  gender    balance  estimated_salary  churn\n",
       "0  1834                1       6          0           631      1              1          0   0.253  139129.92          63747.51      0\n",
       "1  1187                1       8          1           461      1              1          0   0.253       0.00         103349.74      0\n",
       "2  1222                2       6          0           461      1              1          1   0.253       0.00          15306.29      0\n",
       "3  1021                1       1          1           583      1              1          0   0.253  125406.58         110784.42      0\n",
       "4  1674                2      10          0           568      1              0          0   0.253  109819.16         154491.39      0\n",
       "5   407                1       3          1           690      1              0          0   0.253  118097.87          61257.83      0\n",
       "6   478                1       1          1           669      0              1          0   0.253  160474.59          95963.14      0\n",
       "7  1390                2       0          0           850      0              1          0   0.253  136980.23          99019.65      0\n",
       "8   253                2       2          0           850      0              0          1   0.253  155180.56         169415.54      0\n",
       "9  2031                1       3          1           850      0              1          0   0.253  212778.20          69372.88      0"
      ]
     },
     "metadata": {},
     "output_type": "display_data"
    },
    {
     "name": "stdout",
     "output_type": "stream",
     "text": [
      "                                                                                                  \r"
     ]
    },
    {
     "data": {
      "text/html": [
       "2000 rows X 12 columns"
      ],
      "text/plain": [
       "<IPython.core.display.HTML object>"
      ]
     },
     "metadata": {},
     "output_type": "display_data"
    },
    {
     "name": "stdout",
     "output_type": "stream",
     "text": [
      "                                                                                                  \r"
     ]
    },
    {
     "data": {
      "text/html": [
       "\n",
       "Updated dataset after performing scaling on RFE selected features :"
      ],
      "text/plain": [
       "<IPython.core.display.HTML object>"
      ]
     },
     "metadata": {},
     "output_type": "display_data"
    },
    {
     "data": {
      "text/html": [
       "<style type=\"text/css\">\n",
       "\ttable {border:ridge 5px;}\n",
       "\ttable td {border:inset 1px;}\n",
       "\ttable tr#HeaderRow {background-color:grey; color:white;}</style>\n",
       "<html><table>\n",
       "\t<tr id=\"HeaderRow\">\n",
       "\t\t<th>churn</th>\n",
       "\t\t<th>r_country_0</th>\n",
       "\t\t<th>r_country_2</th>\n",
       "\t\t<th>r_age_2</th>\n",
       "\t\t<th>id</th>\n",
       "\t\t<th>r_products_number</th>\n",
       "\t\t<th>r_tenure</th>\n",
       "\t\t<th>r_credit_score</th>\n",
       "\t\t<th>r_active_member</th>\n",
       "\t\t<th>r_gender</th>\n",
       "\t\t<th>r_balance</th>\n",
       "\t\t<th>r_estimated_salary</th>\n",
       "\t</tr>\n",
       "\t<tr>\n",
       "\t\t<td>0</td>\n",
       "\t\t<td>0</td>\n",
       "\t\t<td>1</td>\n",
       "\t\t<td>0</td>\n",
       "\t\t<td>253</td>\n",
       "\t\t<td>1.16076246362145</td>\n",
       "\t\t<td>-1.031359907187896</td>\n",
       "\t\t<td>2.226211960353833</td>\n",
       "\t\t<td>-0.7605675965279302</td>\n",
       "\t\t<td>1.0967456634359403</td>\n",
       "\t\t<td>1.1984812680537913</td>\n",
       "\t\t<td>1.2057288602023866</td>\n",
       "\t</tr>\n",
       "\t<tr>\n",
       "\t\t<td>0</td>\n",
       "\t\t<td>0</td>\n",
       "\t\t<td>0</td>\n",
       "\t\t<td>0</td>\n",
       "\t\t<td>63</td>\n",
       "\t\t<td>1.16076246362145</td>\n",
       "\t\t<td>-0.6637286968699371</td>\n",
       "\t\t<td>2.226211960353833</td>\n",
       "\t\t<td>1.3148075260699945</td>\n",
       "\t\t<td>1.0967456634359403</td>\n",
       "\t\t<td>0.7811978415460278</td>\n",
       "\t\t<td>-0.20147121748302016</td>\n",
       "\t</tr>\n",
       "\t<tr>\n",
       "\t\t<td>0</td>\n",
       "\t\t<td>0</td>\n",
       "\t\t<td>1</td>\n",
       "\t\t<td>0</td>\n",
       "\t\t<td>1741</td>\n",
       "\t\t<td>-0.7300008769676279</td>\n",
       "\t\t<td>-1.031359907187896</td>\n",
       "\t\t<td>2.226211960353833</td>\n",
       "\t\t<td>1.3148075260699945</td>\n",
       "\t\t<td>1.0967456634359403</td>\n",
       "\t\t<td>0.7131948270238011</td>\n",
       "\t\t<td>-0.3699742146168608</td>\n",
       "\t</tr>\n",
       "\t<tr>\n",
       "\t\t<td>0</td>\n",
       "\t\t<td>0</td>\n",
       "\t\t<td>0</td>\n",
       "\t\t<td>0</td>\n",
       "\t\t<td>1696</td>\n",
       "\t\t<td>-0.7300008769676279</td>\n",
       "\t\t<td>-0.6637286968699371</td>\n",
       "\t\t<td>2.226211960353833</td>\n",
       "\t\t<td>-0.7605675965279302</td>\n",
       "\t\t<td>1.0967456634359403</td>\n",
       "\t\t<td>-0.5007245953970613</td>\n",
       "\t\t<td>-1.1296317048616176</td>\n",
       "\t</tr>\n",
       "\t<tr>\n",
       "\t\t<td>0</td>\n",
       "\t\t<td>1</td>\n",
       "\t\t<td>0</td>\n",
       "\t\t<td>0</td>\n",
       "\t\t<td>370</td>\n",
       "\t\t<td>1.16076246362145</td>\n",
       "\t\t<td>0.8067961444018984</td>\n",
       "\t\t<td>2.226211960353833</td>\n",
       "\t\t<td>-0.7605675965279302</td>\n",
       "\t\t<td>1.0967456634359403</td>\n",
       "\t\t<td>-1.3396947213361015</td>\n",
       "\t\t<td>0.9582300258519555</td>\n",
       "\t</tr>\n",
       "\t<tr>\n",
       "\t\t<td>0</td>\n",
       "\t\t<td>0</td>\n",
       "\t\t<td>0</td>\n",
       "\t\t<td>0</td>\n",
       "\t\t<td>250</td>\n",
       "\t\t<td>-0.7300008769676279</td>\n",
       "\t\t<td>0.43916493408393953</td>\n",
       "\t\t<td>2.226211960353833</td>\n",
       "\t\t<td>-0.7605675965279302</td>\n",
       "\t\t<td>1.0967456634359403</td>\n",
       "\t\t<td>0.49160278730996015</td>\n",
       "\t\t<td>0.19993697189330661</td>\n",
       "\t</tr>\n",
       "\t<tr>\n",
       "\t\t<td>0</td>\n",
       "\t\t<td>0</td>\n",
       "\t\t<td>1</td>\n",
       "\t\t<td>1</td>\n",
       "\t\t<td>1902</td>\n",
       "\t\t<td>-0.7300008769676279</td>\n",
       "\t\t<td>0.8067961444018984</td>\n",
       "\t\t<td>0.8548633994252491</td>\n",
       "\t\t<td>1.3148075260699945</td>\n",
       "\t\t<td>1.0967456634359403</td>\n",
       "\t\t<td>0.685638591899217</td>\n",
       "\t\t<td>-0.37195440903259785</td>\n",
       "\t</tr>\n",
       "\t<tr>\n",
       "\t\t<td>0</td>\n",
       "\t\t<td>1</td>\n",
       "\t\t<td>0</td>\n",
       "\t\t<td>1</td>\n",
       "\t\t<td>21</td>\n",
       "\t\t<td>1.16076246362145</td>\n",
       "\t\t<td>1.5420585650378162</td>\n",
       "\t\t<td>-0.7708482010304106</td>\n",
       "\t\t<td>-0.7605675965279302</td>\n",
       "\t\t<td>1.0967456634359403</td>\n",
       "\t\t<td>-1.3396947213361015</td>\n",
       "\t\t<td>0.4630366402611663</td>\n",
       "\t</tr>\n",
       "\t<tr>\n",
       "\t\t<td>0</td>\n",
       "\t\t<td>0</td>\n",
       "\t\t<td>0</td>\n",
       "\t\t<td>1</td>\n",
       "\t\t<td>1834</td>\n",
       "\t\t<td>-0.7300008769676279</td>\n",
       "\t\t<td>0.43916493408393953</td>\n",
       "\t\t<td>-0.19576654644745617</td>\n",
       "\t\t<td>1.3148075260699945</td>\n",
       "\t\t<td>1.0967456634359403</td>\n",
       "\t\t<td>0.93595257849151</td>\n",
       "\t\t<td>-0.6374991430387051</td>\n",
       "\t</tr>\n",
       "\t<tr>\n",
       "\t\t<td>1</td>\n",
       "\t\t<td>1</td>\n",
       "\t\t<td>0</td>\n",
       "\t\t<td>0</td>\n",
       "\t\t<td>1470</td>\n",
       "\t\t<td>-0.7300008769676279</td>\n",
       "\t\t<td>0.43916493408393953</td>\n",
       "\t\t<td>1.1092264389523252</td>\n",
       "\t\t<td>-0.7605675965279302</td>\n",
       "\t\t<td>1.0967456634359403</td>\n",
       "\t\t<td>-1.3396947213361015</td>\n",
       "\t\t<td>-1.4358710738069893</td>\n",
       "\t</tr>\n",
       "</table></html>"
      ],
      "text/plain": [
       "   churn  r_country_0  r_country_2  r_age_2    id  r_products_number  r_tenure  r_credit_score  r_active_member  r_gender  r_balance  r_estimated_salary\n",
       "0      0            0            1        0   253           1.160762 -1.031360        2.226212        -0.760568  1.096746   1.198481            1.205729\n",
       "1      0            0            0        0    63           1.160762 -0.663729        2.226212         1.314808  1.096746   0.781198           -0.201471\n",
       "2      0            0            1        0  1741          -0.730001 -1.031360        2.226212         1.314808  1.096746   0.713195           -0.369974\n",
       "3      0            0            0        0  1696          -0.730001 -0.663729        2.226212        -0.760568  1.096746  -0.500725           -1.129632\n",
       "4      0            1            0        0   370           1.160762  0.806796        2.226212        -0.760568  1.096746  -1.339695            0.958230\n",
       "5      0            0            0        0   250          -0.730001  0.439165        2.226212        -0.760568  1.096746   0.491603            0.199937\n",
       "6      0            0            1        1  1902          -0.730001  0.806796        0.854863         1.314808  1.096746   0.685639           -0.371954\n",
       "7      0            1            0        1    21           1.160762  1.542059       -0.770848        -0.760568  1.096746  -1.339695            0.463037\n",
       "8      0            0            0        1  1834          -0.730001  0.439165       -0.195767         1.314808  1.096746   0.935953           -0.637499\n",
       "9      1            1            0        0  1470          -0.730001  0.439165        1.109226        -0.760568  1.096746  -1.339695           -1.435871"
      ]
     },
     "metadata": {},
     "output_type": "display_data"
    },
    {
     "name": "stdout",
     "output_type": "stream",
     "text": [
      "                                                                                                  \r"
     ]
    },
    {
     "data": {
      "text/html": [
       "2000 rows X 12 columns"
      ],
      "text/plain": [
       "<IPython.core.display.HTML object>"
      ]
     },
     "metadata": {},
     "output_type": "display_data"
    },
    {
     "name": "stdout",
     "output_type": "stream",
     "text": [
      "                                                                                                  \r"
     ]
    },
    {
     "data": {
      "text/html": [
       "\n",
       "Updated dataset after performing scaling for PCA feature selection :"
      ],
      "text/plain": [
       "<IPython.core.display.HTML object>"
      ]
     },
     "metadata": {},
     "output_type": "display_data"
    },
    {
     "data": {
      "text/html": [
       "<style type=\"text/css\">\n",
       "\ttable {border:ridge 5px;}\n",
       "\ttable td {border:inset 1px;}\n",
       "\ttable tr#HeaderRow {background-color:grey; color:white;}</style>\n",
       "<html><table>\n",
       "\t<tr id=\"HeaderRow\">\n",
       "\t\t<th>churn</th>\n",
       "\t\t<th>country_1</th>\n",
       "\t\t<th>age_2</th>\n",
       "\t\t<th>age_0</th>\n",
       "\t\t<th>country_2</th>\n",
       "\t\t<th>id</th>\n",
       "\t\t<th>country_0</th>\n",
       "\t\t<th>age_1</th>\n",
       "\t\t<th>gender</th>\n",
       "\t\t<th>credit_score</th>\n",
       "\t\t<th>active_member</th>\n",
       "\t\t<th>credit_card</th>\n",
       "\t\t<th>products_number</th>\n",
       "\t\t<th>tenure</th>\n",
       "\t\t<th>balance</th>\n",
       "\t\t<th>estimated_salary</th>\n",
       "\t</tr>\n",
       "\t<tr>\n",
       "\t\t<td>0</td>\n",
       "\t\t<td>0</td>\n",
       "\t\t<td>0</td>\n",
       "\t\t<td>1</td>\n",
       "\t\t<td>1</td>\n",
       "\t\t<td>253</td>\n",
       "\t\t<td>0</td>\n",
       "\t\t<td>0</td>\n",
       "\t\t<td>1.1016136561898482</td>\n",
       "\t\t<td>2.0726031885532774</td>\n",
       "\t\t<td>-1.0348822207652306</td>\n",
       "\t\t<td>-1.5501894976289958</td>\n",
       "\t\t<td>0.8807080930690419</td>\n",
       "\t\t<td>-1.0408514540419784</td>\n",
       "\t\t<td>1.2650267138171836</td>\n",
       "\t\t<td>1.206698557478788</td>\n",
       "\t</tr>\n",
       "\t<tr>\n",
       "\t\t<td>0</td>\n",
       "\t\t<td>1</td>\n",
       "\t\t<td>0</td>\n",
       "\t\t<td>1</td>\n",
       "\t\t<td>0</td>\n",
       "\t\t<td>63</td>\n",
       "\t\t<td>0</td>\n",
       "\t\t<td>0</td>\n",
       "\t\t<td>1.1016136561898482</td>\n",
       "\t\t<td>2.0726031885532774</td>\n",
       "\t\t<td>0.966293535568315</td>\n",
       "\t\t<td>0.6450824247806599</td>\n",
       "\t\t<td>0.8807080930690419</td>\n",
       "\t\t<td>-0.6953088002341081</td>\n",
       "\t\t<td>0.8564812960493915</td>\n",
       "\t\t<td>-0.19777867551770792</td>\n",
       "\t</tr>\n",
       "\t<tr>\n",
       "\t\t<td>0</td>\n",
       "\t\t<td>0</td>\n",
       "\t\t<td>0</td>\n",
       "\t\t<td>1</td>\n",
       "\t\t<td>1</td>\n",
       "\t\t<td>1741</td>\n",
       "\t\t<td>0</td>\n",
       "\t\t<td>0</td>\n",
       "\t\t<td>1.1016136561898482</td>\n",
       "\t\t<td>2.0726031885532774</td>\n",
       "\t\t<td>0.966293535568315</td>\n",
       "\t\t<td>0.6450824247806599</td>\n",
       "\t\t<td>-0.9384744750194318</td>\n",
       "\t\t<td>-1.0408514540419784</td>\n",
       "\t\t<td>0.7899022799356628</td>\n",
       "\t\t<td>-0.36595562982502594</td>\n",
       "\t</tr>\n",
       "\t<tr>\n",
       "\t\t<td>0</td>\n",
       "\t\t<td>1</td>\n",
       "\t\t<td>0</td>\n",
       "\t\t<td>1</td>\n",
       "\t\t<td>0</td>\n",
       "\t\t<td>1696</td>\n",
       "\t\t<td>0</td>\n",
       "\t\t<td>0</td>\n",
       "\t\t<td>1.1016136561898482</td>\n",
       "\t\t<td>2.0726031885532774</td>\n",
       "\t\t<td>-1.0348822207652306</td>\n",
       "\t\t<td>-1.5501894976289958</td>\n",
       "\t\t<td>-0.9384744750194318</td>\n",
       "\t\t<td>-0.6953088002341081</td>\n",
       "\t\t<td>-0.39859739693837487</td>\n",
       "\t\t<td>-1.1241432300409913</td>\n",
       "\t</tr>\n",
       "\t<tr>\n",
       "\t\t<td>0</td>\n",
       "\t\t<td>0</td>\n",
       "\t\t<td>0</td>\n",
       "\t\t<td>1</td>\n",
       "\t\t<td>0</td>\n",
       "\t\t<td>370</td>\n",
       "\t\t<td>1</td>\n",
       "\t\t<td>0</td>\n",
       "\t\t<td>1.1016136561898482</td>\n",
       "\t\t<td>2.0726031885532774</td>\n",
       "\t\t<td>-1.0348822207652306</td>\n",
       "\t\t<td>-1.5501894976289958</td>\n",
       "\t\t<td>0.8807080930690419</td>\n",
       "\t\t<td>0.6868618149973731</td>\n",
       "\t\t<td>-1.2199992998727713</td>\n",
       "\t\t<td>0.9596786179900821</td>\n",
       "\t</tr>\n",
       "\t<tr>\n",
       "\t\t<td>0</td>\n",
       "\t\t<td>1</td>\n",
       "\t\t<td>0</td>\n",
       "\t\t<td>1</td>\n",
       "\t\t<td>0</td>\n",
       "\t\t<td>250</td>\n",
       "\t\t<td>0</td>\n",
       "\t\t<td>0</td>\n",
       "\t\t<td>1.1016136561898482</td>\n",
       "\t\t<td>2.0726031885532774</td>\n",
       "\t\t<td>-1.0348822207652306</td>\n",
       "\t\t<td>0.6450824247806599</td>\n",
       "\t\t<td>-0.9384744750194318</td>\n",
       "\t\t<td>0.3413191611895028</td>\n",
       "\t\t<td>0.5729504273386029</td>\n",
       "\t\t<td>0.20285281396081445</td>\n",
       "\t</tr>\n",
       "\t<tr>\n",
       "\t\t<td>0</td>\n",
       "\t\t<td>0</td>\n",
       "\t\t<td>1</td>\n",
       "\t\t<td>0</td>\n",
       "\t\t<td>1</td>\n",
       "\t\t<td>1902</td>\n",
       "\t\t<td>0</td>\n",
       "\t\t<td>0</td>\n",
       "\t\t<td>1.1016136561898482</td>\n",
       "\t\t<td>0.7823124493087409</td>\n",
       "\t\t<td>0.966293535568315</td>\n",
       "\t\t<td>-1.5501894976289958</td>\n",
       "\t\t<td>-0.9384744750194318</td>\n",
       "\t\t<td>0.6868618149973731</td>\n",
       "\t\t<td>0.7629230785681451</td>\n",
       "\t\t<td>-0.36793199268764315</td>\n",
       "\t</tr>\n",
       "\t<tr>\n",
       "\t\t<td>0</td>\n",
       "\t\t<td>0</td>\n",
       "\t\t<td>1</td>\n",
       "\t\t<td>0</td>\n",
       "\t\t<td>0</td>\n",
       "\t\t<td>21</td>\n",
       "\t\t<td>1</td>\n",
       "\t\t<td>0</td>\n",
       "\t\t<td>1.1016136561898482</td>\n",
       "\t\t<td>-0.7473064109247013</td>\n",
       "\t\t<td>-1.0348822207652306</td>\n",
       "\t\t<td>0.6450824247806599</td>\n",
       "\t\t<td>0.8807080930690419</td>\n",
       "\t\t<td>1.3779471226131137</td>\n",
       "\t\t<td>-1.2199992998727713</td>\n",
       "\t\t<td>0.4654434008227607</td>\n",
       "\t</tr>\n",
       "\t<tr>\n",
       "\t\t<td>0</td>\n",
       "\t\t<td>1</td>\n",
       "\t\t<td>1</td>\n",
       "\t\t<td>0</td>\n",
       "\t\t<td>0</td>\n",
       "\t\t<td>1834</td>\n",
       "\t\t<td>0</td>\n",
       "\t\t<td>0</td>\n",
       "\t\t<td>1.1016136561898482</td>\n",
       "\t\t<td>-0.20621674608021837</td>\n",
       "\t\t<td>0.966293535568315</td>\n",
       "\t\t<td>0.6450824247806599</td>\n",
       "\t\t<td>-0.9384744750194318</td>\n",
       "\t\t<td>0.3413191611895028</td>\n",
       "\t\t<td>1.0079954340204584</td>\n",
       "\t\t<td>-0.6329629141377946</td>\n",
       "\t</tr>\n",
       "\t<tr>\n",
       "\t\t<td>1</td>\n",
       "\t\t<td>0</td>\n",
       "\t\t<td>0</td>\n",
       "\t\t<td>0</td>\n",
       "\t\t<td>0</td>\n",
       "\t\t<td>1470</td>\n",
       "\t\t<td>1</td>\n",
       "\t\t<td>1</td>\n",
       "\t\t<td>1.1016136561898482</td>\n",
       "\t\t<td>1.0216405702976468</td>\n",
       "\t\t<td>-1.0348822207652306</td>\n",
       "\t\t<td>0.6450824247806599</td>\n",
       "\t\t<td>-0.9384744750194318</td>\n",
       "\t\t<td>0.3413191611895028</td>\n",
       "\t\t<td>-1.2199992998727713</td>\n",
       "\t\t<td>-1.429790044841085</td>\n",
       "\t</tr>\n",
       "</table></html>"
      ],
      "text/plain": [
       "   churn  country_1  age_2  age_0  country_2    id  country_0  age_1    gender  credit_score  active_member  credit_card  products_number    tenure   balance  estimated_salary\n",
       "0      0          0      0      1          1   253          0      0  1.101614      2.072603      -1.034882    -1.550189         0.880708 -1.040851  1.265027          1.206699\n",
       "1      0          1      0      1          0    63          0      0  1.101614      2.072603       0.966294     0.645082         0.880708 -0.695309  0.856481         -0.197779\n",
       "2      0          0      0      1          1  1741          0      0  1.101614      2.072603       0.966294     0.645082        -0.938474 -1.040851  0.789902         -0.365956\n",
       "3      0          1      0      1          0  1696          0      0  1.101614      2.072603      -1.034882    -1.550189        -0.938474 -0.695309 -0.398597         -1.124143\n",
       "4      0          0      0      1          0   370          1      0  1.101614      2.072603      -1.034882    -1.550189         0.880708  0.686862 -1.219999          0.959679\n",
       "5      0          1      0      1          0   250          0      0  1.101614      2.072603      -1.034882     0.645082        -0.938474  0.341319  0.572950          0.202853\n",
       "6      0          0      1      0          1  1902          0      0  1.101614      0.782312       0.966294    -1.550189        -0.938474  0.686862  0.762923         -0.367932\n",
       "7      0          0      1      0          0    21          1      0  1.101614     -0.747306      -1.034882     0.645082         0.880708  1.377947 -1.219999          0.465443\n",
       "8      0          1      1      0          0  1834          0      0  1.101614     -0.206217       0.966294     0.645082        -0.938474  0.341319  1.007995         -0.632963\n",
       "9      1          0      0      0          0  1470          1      1  1.101614      1.021641      -1.034882     0.645082        -0.938474  0.341319 -1.219999         -1.429790"
      ]
     },
     "metadata": {},
     "output_type": "display_data"
    },
    {
     "name": "stdout",
     "output_type": "stream",
     "text": [
      "                                                                                                  \r"
     ]
    },
    {
     "data": {
      "text/html": [
       "2000 rows X 16 columns"
      ],
      "text/plain": [
       "<IPython.core.display.HTML object>"
      ]
     },
     "metadata": {},
     "output_type": "display_data"
    },
    {
     "name": "stdout",
     "output_type": "stream",
     "text": [
      "                                                                                                  \r"
     ]
    },
    {
     "name": "stderr",
     "output_type": "stream",
     "text": [
      "C:\\ProgramData\\anaconda3\\lib\\site-packages\\sklearn\\base.py:450: UserWarning: X does not have valid feature names, but PCA was fitted with feature names\n",
      "  warnings.warn(\n"
     ]
    },
    {
     "data": {
      "text/html": [
       "\n",
       "Updated dataset after performing PCA feature selection :"
      ],
      "text/plain": [
       "<IPython.core.display.HTML object>"
      ]
     },
     "metadata": {},
     "output_type": "display_data"
    },
    {
     "data": {
      "text/html": [
       "<div>\n",
       "<style scoped>\n",
       "    .dataframe tbody tr th:only-of-type {\n",
       "        vertical-align: middle;\n",
       "    }\n",
       "\n",
       "    .dataframe tbody tr th {\n",
       "        vertical-align: top;\n",
       "    }\n",
       "\n",
       "    .dataframe thead th {\n",
       "        text-align: right;\n",
       "    }\n",
       "</style>\n",
       "<table border=\"1\" class=\"dataframe\">\n",
       "  <thead>\n",
       "    <tr style=\"text-align: right;\">\n",
       "      <th></th>\n",
       "      <th>id</th>\n",
       "      <th>col_0</th>\n",
       "      <th>col_1</th>\n",
       "      <th>col_2</th>\n",
       "      <th>col_3</th>\n",
       "      <th>col_4</th>\n",
       "      <th>col_5</th>\n",
       "      <th>col_6</th>\n",
       "      <th>col_7</th>\n",
       "      <th>col_8</th>\n",
       "      <th>col_9</th>\n",
       "      <th>churn</th>\n",
       "    </tr>\n",
       "  </thead>\n",
       "  <tbody>\n",
       "    <tr>\n",
       "      <th>0</th>\n",
       "      <td>478</td>\n",
       "      <td>-1.488329</td>\n",
       "      <td>1.337747</td>\n",
       "      <td>0.564770</td>\n",
       "      <td>0.816043</td>\n",
       "      <td>-1.048429</td>\n",
       "      <td>-0.812509</td>\n",
       "      <td>-0.342880</td>\n",
       "      <td>-0.022034</td>\n",
       "      <td>0.701341</td>\n",
       "      <td>-0.341225</td>\n",
       "      <td>0</td>\n",
       "    </tr>\n",
       "    <tr>\n",
       "      <th>1</th>\n",
       "      <td>1902</td>\n",
       "      <td>-1.027224</td>\n",
       "      <td>0.978877</td>\n",
       "      <td>0.638455</td>\n",
       "      <td>-0.750029</td>\n",
       "      <td>-0.326090</td>\n",
       "      <td>1.537832</td>\n",
       "      <td>-1.296074</td>\n",
       "      <td>-0.318449</td>\n",
       "      <td>-0.571017</td>\n",
       "      <td>1.201799</td>\n",
       "      <td>0</td>\n",
       "    </tr>\n",
       "    <tr>\n",
       "      <th>2</th>\n",
       "      <td>1390</td>\n",
       "      <td>-0.226023</td>\n",
       "      <td>2.189666</td>\n",
       "      <td>0.415593</td>\n",
       "      <td>-0.277066</td>\n",
       "      <td>-2.146070</td>\n",
       "      <td>-0.498113</td>\n",
       "      <td>0.551505</td>\n",
       "      <td>1.409215</td>\n",
       "      <td>-0.128873</td>\n",
       "      <td>-0.310542</td>\n",
       "      <td>0</td>\n",
       "    </tr>\n",
       "    <tr>\n",
       "      <th>3</th>\n",
       "      <td>21</td>\n",
       "      <td>1.604201</td>\n",
       "      <td>-2.043001</td>\n",
       "      <td>0.520217</td>\n",
       "      <td>0.152697</td>\n",
       "      <td>-0.596605</td>\n",
       "      <td>-0.018305</td>\n",
       "      <td>-0.647563</td>\n",
       "      <td>-0.235395</td>\n",
       "      <td>0.537231</td>\n",
       "      <td>1.063817</td>\n",
       "      <td>0</td>\n",
       "    </tr>\n",
       "    <tr>\n",
       "      <th>4</th>\n",
       "      <td>253</td>\n",
       "      <td>-0.499834</td>\n",
       "      <td>0.726505</td>\n",
       "      <td>2.030866</td>\n",
       "      <td>-1.964175</td>\n",
       "      <td>-1.089244</td>\n",
       "      <td>0.623379</td>\n",
       "      <td>1.400422</td>\n",
       "      <td>1.179042</td>\n",
       "      <td>-0.457854</td>\n",
       "      <td>-0.140039</td>\n",
       "      <td>0</td>\n",
       "    </tr>\n",
       "    <tr>\n",
       "      <th>5</th>\n",
       "      <td>1834</td>\n",
       "      <td>-1.305208</td>\n",
       "      <td>0.358995</td>\n",
       "      <td>-0.153715</td>\n",
       "      <td>0.798144</td>\n",
       "      <td>-0.937596</td>\n",
       "      <td>0.067564</td>\n",
       "      <td>-1.444965</td>\n",
       "      <td>0.253729</td>\n",
       "      <td>-0.160033</td>\n",
       "      <td>1.106527</td>\n",
       "      <td>0</td>\n",
       "    </tr>\n",
       "    <tr>\n",
       "      <th>6</th>\n",
       "      <td>2031</td>\n",
       "      <td>-2.117488</td>\n",
       "      <td>2.225015</td>\n",
       "      <td>0.764082</td>\n",
       "      <td>-0.971806</td>\n",
       "      <td>-1.105120</td>\n",
       "      <td>1.451067</td>\n",
       "      <td>-0.164310</td>\n",
       "      <td>0.307747</td>\n",
       "      <td>0.889840</td>\n",
       "      <td>-0.338565</td>\n",
       "      <td>0</td>\n",
       "    </tr>\n",
       "    <tr>\n",
       "      <th>7</th>\n",
       "      <td>1470</td>\n",
       "      <td>0.319412</td>\n",
       "      <td>-0.501129</td>\n",
       "      <td>-0.361526</td>\n",
       "      <td>0.682065</td>\n",
       "      <td>-1.806869</td>\n",
       "      <td>1.173368</td>\n",
       "      <td>0.478404</td>\n",
       "      <td>-1.612415</td>\n",
       "      <td>0.337393</td>\n",
       "      <td>0.572715</td>\n",
       "      <td>1</td>\n",
       "    </tr>\n",
       "    <tr>\n",
       "      <th>8</th>\n",
       "      <td>63</td>\n",
       "      <td>-0.067492</td>\n",
       "      <td>1.644072</td>\n",
       "      <td>-0.010820</td>\n",
       "      <td>-0.518043</td>\n",
       "      <td>-2.174563</td>\n",
       "      <td>-0.025069</td>\n",
       "      <td>-0.020566</td>\n",
       "      <td>1.342932</td>\n",
       "      <td>-0.145520</td>\n",
       "      <td>-0.320815</td>\n",
       "      <td>0</td>\n",
       "    </tr>\n",
       "    <tr>\n",
       "      <th>9</th>\n",
       "      <td>1187</td>\n",
       "      <td>0.536611</td>\n",
       "      <td>-0.830820</td>\n",
       "      <td>0.281892</td>\n",
       "      <td>1.296264</td>\n",
       "      <td>0.266644</td>\n",
       "      <td>-0.552787</td>\n",
       "      <td>-2.231898</td>\n",
       "      <td>-1.469179</td>\n",
       "      <td>0.356955</td>\n",
       "      <td>1.035238</td>\n",
       "      <td>0</td>\n",
       "    </tr>\n",
       "  </tbody>\n",
       "</table>\n",
       "</div>"
      ],
      "text/plain": [
       "     id     col_0     col_1     col_2     col_3     col_4     col_5     col_6  \\\n",
       "0   478 -1.488329  1.337747  0.564770  0.816043 -1.048429 -0.812509 -0.342880   \n",
       "1  1902 -1.027224  0.978877  0.638455 -0.750029 -0.326090  1.537832 -1.296074   \n",
       "2  1390 -0.226023  2.189666  0.415593 -0.277066 -2.146070 -0.498113  0.551505   \n",
       "3    21  1.604201 -2.043001  0.520217  0.152697 -0.596605 -0.018305 -0.647563   \n",
       "4   253 -0.499834  0.726505  2.030866 -1.964175 -1.089244  0.623379  1.400422   \n",
       "5  1834 -1.305208  0.358995 -0.153715  0.798144 -0.937596  0.067564 -1.444965   \n",
       "6  2031 -2.117488  2.225015  0.764082 -0.971806 -1.105120  1.451067 -0.164310   \n",
       "7  1470  0.319412 -0.501129 -0.361526  0.682065 -1.806869  1.173368  0.478404   \n",
       "8    63 -0.067492  1.644072 -0.010820 -0.518043 -2.174563 -0.025069 -0.020566   \n",
       "9  1187  0.536611 -0.830820  0.281892  1.296264  0.266644 -0.552787 -2.231898   \n",
       "\n",
       "      col_7     col_8     col_9  churn  \n",
       "0 -0.022034  0.701341 -0.341225      0  \n",
       "1 -0.318449 -0.571017  1.201799      0  \n",
       "2  1.409215 -0.128873 -0.310542      0  \n",
       "3 -0.235395  0.537231  1.063817      0  \n",
       "4  1.179042 -0.457854 -0.140039      0  \n",
       "5  0.253729 -0.160033  1.106527      0  \n",
       "6  0.307747  0.889840 -0.338565      0  \n",
       "7 -1.612415  0.337393  0.572715      1  \n",
       "8  1.342932 -0.145520 -0.320815      0  \n",
       "9 -1.469179  0.356955  1.035238      0  "
      ]
     },
     "metadata": {},
     "output_type": "display_data"
    },
    {
     "name": "stdout",
     "output_type": "stream",
     "text": [
      "                                                                                                  \r"
     ]
    },
    {
     "data": {
      "text/html": [
       "10 rows X 12 columns"
      ],
      "text/plain": [
       "<IPython.core.display.HTML object>"
      ]
     },
     "metadata": {},
     "output_type": "display_data"
    },
    {
     "name": "stdout",
     "output_type": "stream",
     "text": [
      "Data Transformation completed.⫿⫿⫿⫿⫿⫿⫿⫿⫿⫿⫿⫿⫿⫿⫿⫿⫿⫿⫿⫿⫿⫿⫿⫿⫿⫿⫿⫿⫿⫿⫿⫿⫿⫿⫿⫿⫿⫿⫿⫿⫿⫿｜ 100% - 15/15            \n",
      "\n",
      "Following model is being picked for evaluation:\n",
      "Model ID : KNN_9 \n",
      "Feature Selection Method : lasso\n",
      "\n",
      "Prediction : \n",
      "   id  prediction    prob_1    prob_0  churn\n",
      "0  22           0  1.000000  0.000000      0\n",
      "1   8           0  1.000000  0.000000      0\n",
      "2  18           1  0.444394  0.555606      1\n",
      "3  12           0  1.000000  0.000000      1\n",
      "4  41           0  0.871337  0.128663      0\n",
      "5  48           1  0.389793  0.610207      0\n",
      "6  28           0  1.000000  0.000000      0\n",
      "7  31           0  1.000000  0.000000      0\n",
      "8  10           1  0.000000  1.000000      1\n",
      "9  15           0  0.502472  0.497528      0\n",
      "\n",
      "ROC-AUC : \n"
     ]
    },
    {
     "data": {
      "text/html": [
       "<style type=\"text/css\">\n",
       "\ttable {border:ridge 5px;}\n",
       "\ttable td {border:inset 1px;}\n",
       "\ttable tr#HeaderRow {background-color:grey; color:white;}</style>\n",
       "<html><table>\n",
       "\t<tr id=\"HeaderRow\">\n",
       "\t\t<th>AUC</th>\n",
       "\t\t<th>GINI</th>\n",
       "\t</tr>\n",
       "\t<tr>\n",
       "\t\t<td>0.20901177031765678</td>\n",
       "\t\t<td>-0.5819764593646864</td>\n",
       "\t</tr>\n",
       "</table></html>"
      ],
      "text/plain": [
       "              GINI\n",
       "AUC               \n",
       "0.209012 -0.581976"
      ]
     },
     "metadata": {},
     "output_type": "display_data"
    },
    {
     "data": {
      "text/html": [
       "<style type=\"text/css\">\n",
       "\ttable {border:ridge 5px;}\n",
       "\ttable td {border:inset 1px;}\n",
       "\ttable tr#HeaderRow {background-color:grey; color:white;}</style>\n",
       "<html><table>\n",
       "\t<tr id=\"HeaderRow\">\n",
       "\t\t<th>threshold_value</th>\n",
       "\t\t<th>tpr</th>\n",
       "\t\t<th>fpr</th>\n",
       "\t</tr>\n",
       "\t<tr>\n",
       "\t\t<td>0.04081632653061224</td>\n",
       "\t\t<td>0.8203125</td>\n",
       "\t\t<td>0.9777227722772277</td>\n",
       "\t</tr>\n",
       "\t<tr>\n",
       "\t\t<td>0.08163265306122448</td>\n",
       "\t\t<td>0.8203125</td>\n",
       "\t\t<td>0.9777227722772277</td>\n",
       "\t</tr>\n",
       "\t<tr>\n",
       "\t\t<td>0.1020408163265306</td>\n",
       "\t\t<td>0.8177083333333334</td>\n",
       "\t\t<td>0.9771039603960396</td>\n",
       "\t</tr>\n",
       "\t<tr>\n",
       "\t\t<td>0.12244897959183673</td>\n",
       "\t\t<td>0.8125</td>\n",
       "\t\t<td>0.9771039603960396</td>\n",
       "\t</tr>\n",
       "\t<tr>\n",
       "\t\t<td>0.16326530612244897</td>\n",
       "\t\t<td>0.7760416666666666</td>\n",
       "\t\t<td>0.9721534653465347</td>\n",
       "\t</tr>\n",
       "\t<tr>\n",
       "\t\t<td>0.18367346938775508</td>\n",
       "\t\t<td>0.7395833333333334</td>\n",
       "\t\t<td>0.9573019801980198</td>\n",
       "\t</tr>\n",
       "\t<tr>\n",
       "\t\t<td>0.14285714285714285</td>\n",
       "\t\t<td>0.7916666666666666</td>\n",
       "\t\t<td>0.9758663366336634</td>\n",
       "\t</tr>\n",
       "\t<tr>\n",
       "\t\t<td>0.061224489795918366</td>\n",
       "\t\t<td>0.8203125</td>\n",
       "\t\t<td>0.9777227722772277</td>\n",
       "\t</tr>\n",
       "\t<tr>\n",
       "\t\t<td>0.02040816326530612</td>\n",
       "\t\t<td>0.8203125</td>\n",
       "\t\t<td>0.9777227722772277</td>\n",
       "\t</tr>\n",
       "\t<tr>\n",
       "\t\t<td>0.0</td>\n",
       "\t\t<td>1.0</td>\n",
       "\t\t<td>1.0</td>\n",
       "\t</tr>\n",
       "</table></html>"
      ],
      "text/plain": [
       "   threshold_value       tpr       fpr\n",
       "0         0.040816  0.820312  0.977723\n",
       "1         0.081633  0.820312  0.977723\n",
       "2         0.102041  0.817708  0.977104\n",
       "3         0.122449  0.812500  0.977104\n",
       "4         0.163265  0.776042  0.972153\n",
       "5         0.183673  0.739583  0.957302\n",
       "6         0.142857  0.791667  0.975866\n",
       "7         0.061224  0.820312  0.977723\n",
       "8         0.020408  0.820312  0.977723\n",
       "9         0.000000  1.000000  1.000000"
      ]
     },
     "metadata": {},
     "output_type": "display_data"
    },
    {
     "name": "stdout",
     "output_type": "stream",
     "text": [
      "\n",
      "Confusion Matrix : \n"
     ]
    },
    {
     "data": {
      "text/plain": [
       "array([[1334,  282],\n",
       "       [ 170,  214]], dtype=int64)"
      ]
     },
     "metadata": {},
     "output_type": "display_data"
    }
   ],
   "source": [
    "# Generating prediction on test data\n",
    "prediction = aml.predict(bank_df_test)"
   ]
  },
  {
   "cell_type": "code",
   "execution_count": 26,
   "id": "cc4f6a78-1cdf-4938-a9f1-22035d8404ca",
   "metadata": {},
   "outputs": [
    {
     "data": {
      "text/html": [
       "<style type=\"text/css\">\n",
       "\ttable {border:ridge 5px;}\n",
       "\ttable td {border:inset 1px;}\n",
       "\ttable tr#HeaderRow {background-color:grey; color:white;}</style>\n",
       "<html><table>\n",
       "\t<tr id=\"HeaderRow\">\n",
       "\t\t<th>id</th>\n",
       "\t\t<th>prediction</th>\n",
       "\t\t<th>prob_1</th>\n",
       "\t\t<th>prob_0</th>\n",
       "\t\t<th>churn</th>\n",
       "\t</tr>\n",
       "\t<tr>\n",
       "\t\t<td>10</td>\n",
       "\t\t<td>1</td>\n",
       "\t\t<td>0.0</td>\n",
       "\t\t<td>1.0</td>\n",
       "\t\t<td>1</td>\n",
       "\t</tr>\n",
       "\t<tr>\n",
       "\t\t<td>12</td>\n",
       "\t\t<td>0</td>\n",
       "\t\t<td>1.0</td>\n",
       "\t\t<td>0.0</td>\n",
       "\t\t<td>1</td>\n",
       "\t</tr>\n",
       "\t<tr>\n",
       "\t\t<td>13</td>\n",
       "\t\t<td>0</td>\n",
       "\t\t<td>1.0</td>\n",
       "\t\t<td>0.0</td>\n",
       "\t\t<td>0</td>\n",
       "\t</tr>\n",
       "\t<tr>\n",
       "\t\t<td>14</td>\n",
       "\t\t<td>1</td>\n",
       "\t\t<td>0.22809253174082206</td>\n",
       "\t\t<td>0.771907468259178</td>\n",
       "\t\t<td>1</td>\n",
       "\t</tr>\n",
       "\t<tr>\n",
       "\t\t<td>16</td>\n",
       "\t\t<td>0</td>\n",
       "\t\t<td>1.0</td>\n",
       "\t\t<td>0.0</td>\n",
       "\t\t<td>0</td>\n",
       "\t</tr>\n",
       "\t<tr>\n",
       "\t\t<td>17</td>\n",
       "\t\t<td>1</td>\n",
       "\t\t<td>0.34971023695152625</td>\n",
       "\t\t<td>0.6502897630484737</td>\n",
       "\t\t<td>1</td>\n",
       "\t</tr>\n",
       "\t<tr>\n",
       "\t\t<td>15</td>\n",
       "\t\t<td>0</td>\n",
       "\t\t<td>0.5024716296543856</td>\n",
       "\t\t<td>0.4975283703456145</td>\n",
       "\t\t<td>0</td>\n",
       "\t</tr>\n",
       "\t<tr>\n",
       "\t\t<td>11</td>\n",
       "\t\t<td>0</td>\n",
       "\t\t<td>0.8375185508227423</td>\n",
       "\t\t<td>0.16248144917725774</td>\n",
       "\t\t<td>0</td>\n",
       "\t</tr>\n",
       "\t<tr>\n",
       "\t\t<td>9</td>\n",
       "\t\t<td>1</td>\n",
       "\t\t<td>0.0</td>\n",
       "\t\t<td>1.0</td>\n",
       "\t\t<td>1</td>\n",
       "\t</tr>\n",
       "\t<tr>\n",
       "\t\t<td>8</td>\n",
       "\t\t<td>0</td>\n",
       "\t\t<td>1.0</td>\n",
       "\t\t<td>0.0</td>\n",
       "\t\t<td>0</td>\n",
       "\t</tr>\n",
       "</table></html>"
      ],
      "text/plain": [
       "   id  prediction    prob_1    prob_0  churn\n",
       "0  10           1  0.000000  1.000000      1\n",
       "1  12           0  1.000000  0.000000      1\n",
       "2  13           0  1.000000  0.000000      0\n",
       "3  14           1  0.228093  0.771907      1\n",
       "4  16           0  1.000000  0.000000      0\n",
       "5  17           1  0.349710  0.650290      1\n",
       "6  15           0  0.502472  0.497528      0\n",
       "7  11           0  0.837519  0.162481      0\n",
       "8   9           1  0.000000  1.000000      1\n",
       "9   8           0  1.000000  0.000000      0"
      ]
     },
     "execution_count": 26,
     "metadata": {},
     "output_type": "execute_result"
    }
   ],
   "source": [
    "# Printing prediction\n",
    "prediction.head()"
   ]
  },
  {
   "cell_type": "code",
   "execution_count": 27,
   "id": "b799b463-5ded-4731-be43-9462f03448cd",
   "metadata": {},
   "outputs": [
    {
     "name": "stdout",
     "output_type": "stream",
     "text": [
      "\n",
      "Skipping data transformation as data is already transformed.\n",
      "\n",
      "Following model is being picked for evaluation:\n",
      "Model ID : KNN_9 \n",
      "Feature Selection Method : lasso\n",
      "\n",
      "Performance Metrics : \n",
      "       Prediction  Mapping  CLASS_1  CLASS_2  Precision    Recall        F1  Support\n",
      "SeqNum                                                                              \n",
      "0               0  CLASS_1     1334      170   0.886968  0.825495  0.855128     1616\n",
      "1               1  CLASS_2      282      214   0.431452  0.557292  0.486364      384\n",
      "--------------------------------------------------------------------------------\n",
      "   SeqNum              Metric  MetricValue\n",
      "0       3        Micro-Recall     0.774000\n",
      "1       5     Macro-Precision     0.659210\n",
      "2       6        Macro-Recall     0.691393\n",
      "3       7            Macro-F1     0.670746\n",
      "4       9     Weighted-Recall     0.774000\n",
      "5      10         Weighted-F1     0.784325\n",
      "6       8  Weighted-Precision     0.799509\n",
      "7       4            Micro-F1     0.774000\n",
      "8       2     Micro-Precision     0.774000\n",
      "9       1            Accuracy     0.774000\n"
     ]
    }
   ],
   "source": [
    "# Fetching performance metrics on test data\n",
    "performance_metrics = aml.evaluate(bank_df_test)"
   ]
  },
  {
   "cell_type": "code",
   "execution_count": 28,
   "id": "0005227f-7722-49ea-8f11-d940b8a28980",
   "metadata": {},
   "outputs": [
    {
     "data": {
      "text/html": [
       "<style type=\"text/css\">\n",
       "\ttable {border:ridge 5px;}\n",
       "\ttable td {border:inset 1px;}\n",
       "\ttable tr#HeaderRow {background-color:grey; color:white;}</style>\n",
       "<html><table>\n",
       "\t<tr id=\"HeaderRow\">\n",
       "\t\t<th>SeqNum</th>\n",
       "\t\t<th>Prediction</th>\n",
       "\t\t<th>Mapping</th>\n",
       "\t\t<th>CLASS_1</th>\n",
       "\t\t<th>CLASS_2</th>\n",
       "\t\t<th>Precision</th>\n",
       "\t\t<th>Recall</th>\n",
       "\t\t<th>F1</th>\n",
       "\t\t<th>Support</th>\n",
       "\t</tr>\n",
       "\t<tr>\n",
       "\t\t<td>0</td>\n",
       "\t\t<td>0</td>\n",
       "\t\t<td>CLASS_1</td>\n",
       "\t\t<td>1334</td>\n",
       "\t\t<td>170</td>\n",
       "\t\t<td>0.886968085106383</td>\n",
       "\t\t<td>0.8254950495049505</td>\n",
       "\t\t<td>0.8551282051282051</td>\n",
       "\t\t<td>1616</td>\n",
       "\t</tr>\n",
       "\t<tr>\n",
       "\t\t<td>1</td>\n",
       "\t\t<td>1</td>\n",
       "\t\t<td>CLASS_2</td>\n",
       "\t\t<td>282</td>\n",
       "\t\t<td>214</td>\n",
       "\t\t<td>0.4314516129032258</td>\n",
       "\t\t<td>0.5572916666666666</td>\n",
       "\t\t<td>0.4863636363636363</td>\n",
       "\t\t<td>384</td>\n",
       "\t</tr>\n",
       "</table></html>"
      ],
      "text/plain": [
       "       Prediction  Mapping  CLASS_1  CLASS_2  Precision    Recall        F1  Support\n",
       "SeqNum                                                                              \n",
       "0               0  CLASS_1     1334      170   0.886968  0.825495  0.855128     1616\n",
       "1               1  CLASS_2      282      214   0.431452  0.557292  0.486364      384"
      ]
     },
     "execution_count": 28,
     "metadata": {},
     "output_type": "execute_result"
    }
   ],
   "source": [
    "performance_metrics"
   ]
  },
  {
   "cell_type": "markdown",
   "id": "bce185de-fd43-49eb-add8-49110549b9d4",
   "metadata": {},
   "source": [
    "## <b><span style='color:#F1A424'>| 7.</span> Deploy Trained Model : </b>"
   ]
  },
  {
   "cell_type": "markdown",
   "id": "7d8e4413-502b-41ea-a3ab-923f084c25c3",
   "metadata": {},
   "source": [
    "#### 7.1. Deploy top 5 models"
   ]
  },
  {
   "cell_type": "code",
   "execution_count": 29,
   "id": "a06f0f10-e327-4238-ac6e-68d5e68106c7",
   "metadata": {
    "tags": []
   },
   "outputs": [
    {
     "name": "stdout",
     "output_type": "stream",
     "text": [
      "Model Deployment Completed Successfully.\n"
     ]
    }
   ],
   "source": [
    "aml.deploy(table_name='churn_top_5_models', top_n=5)"
   ]
  },
  {
   "cell_type": "code",
   "execution_count": null,
   "id": "635fcb68-03c4-4a7e-bff8-c36038d58a6f",
   "metadata": {},
   "outputs": [],
   "source": []
  },
  {
   "cell_type": "markdown",
   "id": "bdcabdc5-bb50-4045-a130-9d53fd736589",
   "metadata": {},
   "source": [
    "#### 7.2. Deploy models using list of model ranks"
   ]
  },
  {
   "cell_type": "code",
   "execution_count": 30,
   "id": "76da42ea-fa1f-4252-bd96-110b22543d6f",
   "metadata": {},
   "outputs": [
    {
     "name": "stdout",
     "output_type": "stream",
     "text": [
      "Model Deployment Completed Successfully.\n"
     ]
    }
   ],
   "source": [
    "aml.deploy(table_name='churn_mixed_models', ranks=[5, 7, 10])"
   ]
  },
  {
   "cell_type": "code",
   "execution_count": null,
   "id": "4b92b64f-bf8e-4222-a90a-a93bf4db1d69",
   "metadata": {},
   "outputs": [],
   "source": []
  },
  {
   "cell_type": "markdown",
   "id": "65f2b2a8-1120-4172-9bbc-921a27c32d93",
   "metadata": {},
   "source": [
    "#### 7.3. Deploy models using range of model rank"
   ]
  },
  {
   "cell_type": "code",
   "execution_count": 31,
   "id": "36ee6077-074e-4ff7-900c-34b8599d5b1f",
   "metadata": {
    "tags": []
   },
   "outputs": [
    {
     "name": "stdout",
     "output_type": "stream",
     "text": [
      "Model Deployment Completed Successfully.\n"
     ]
    }
   ],
   "source": [
    "aml.deploy(table_name='churn_range_models', ranks=range(8,12))"
   ]
  },
  {
   "cell_type": "code",
   "execution_count": null,
   "id": "7ae6d39d-92db-4ddb-9c10-009f582c5c19",
   "metadata": {},
   "outputs": [],
   "source": []
  },
  {
   "cell_type": "markdown",
   "id": "14015aa8-0b22-4439-b8c6-f97944c8fe07",
   "metadata": {},
   "source": [
    "##### Note: \n",
    " - After deployment, saved models can be loaded in same session or different session using table name. After loading models can be used for predict and evaluate. Please refer to notebook: `Binary_Classification__Bank_Churn_Prediction_Load_Models` for more details."
   ]
  },
  {
   "cell_type": "code",
   "execution_count": 32,
   "id": "8f195b03-6057-4c47-adf0-38d756ff8440",
   "metadata": {},
   "outputs": [
    {
     "data": {
      "text/plain": [
       "True"
      ]
     },
     "execution_count": 32,
     "metadata": {},
     "output_type": "execute_result"
    }
   ],
   "source": [
    "remove_context()"
   ]
  },
  {
   "cell_type": "code",
   "execution_count": null,
   "id": "b0f6ebed-7efa-4382-93db-b70776e7fdaa",
   "metadata": {},
   "outputs": [],
   "source": []
  }
 ],
 "metadata": {
  "kernelspec": {
   "display_name": "Python 3 (ipykernel)",
   "language": "python",
   "name": "python3"
  },
  "language_info": {
   "codemirror_mode": {
    "name": "ipython",
    "version": 3
   },
   "file_extension": ".py",
   "mimetype": "text/x-python",
   "name": "python",
   "nbconvert_exporter": "python",
   "pygments_lexer": "ipython3",
   "version": "3.10.9"
  }
 },
 "nbformat": 4,
 "nbformat_minor": 5
}
