{
 "cells": [
  {
   "cell_type": "markdown",
   "id": "2762f1d8-5a66-411f-a625-34cf16ac6dd3",
   "metadata": {},
   "source": [
    "# <b><span style='color:#F1A424'>AutoML - Regression </span> </b>"
   ]
  },
  {
   "cell_type": "markdown",
   "id": "f225fb94-b2c8-4c92-af38-733d08e0e2a1",
   "metadata": {},
   "source": [
    "## <b> Problem overview:</b>\n",
    "    "
   ]
  },
  {
   "cell_type": "markdown",
   "id": "af9813eb-9c44-4968-a5fe-d1c74415c894",
   "metadata": {},
   "source": [
    "**Dataset used : Fish Weight Dataset**\n",
    "\n",
    "**Features**:\n",
    "\n",
    "- `Species`: Species name of fish\n",
    "- `Length1`: Vertical length in cm\n",
    "- `Length2`: Diagonal length in cm\n",
    "- `Length3`: Cross length in cm\n",
    "- `Height`: Height in cm\n",
    "- `Width`: Diagonal width in cm\n",
    "\n",
    "**Target Variable**:\n",
    "\n",
    "- `Weight`: Weight of fish in gram\n",
    "\n",
    "        \n",
    "**Objective**:\n",
    "\n",
    "The primary objective is typically to build a model that can accurately predict weight of fish in gram.\n",
    "\n",
    "**Usecase**:\n",
    "\n",
    "Here, we will use AutoML(Automated Machine Learning) functionality to automate the entire process of developing a predictive model. It will perform feature exploration, feature engineering, data preparation, model training and evaluation on dataset in custom run and at end we will get leaderboard containined different models along with their performance. Model will also have rank associated with them which indicates which is best performing model for given data followed by other models.\n",
    "\n",
    "As part of custom AutoML run, we will customize below functionalities:\n",
    "- Train test split with training size 0.7.\n",
    "- Outlier filteration with 'tukey' method and imputation with median for outlier in 'Length2' feature.\n",
    "- Feature scaling with 'std' method.\n",
    "- Replacement of customized value in hyperparameter 'max_depth' for 'xgboost' model."
   ]
  },
  {
   "cell_type": "code",
   "execution_count": 1,
   "id": "66568348-4d00-477c-a071-17995f797c95",
   "metadata": {},
   "outputs": [],
   "source": [
    "# Importing AutoML from teradataml\n",
    "from teradataml import AutoML"
   ]
  },
  {
   "cell_type": "code",
   "execution_count": 2,
   "id": "17dfae70-0401-4cc4-ba1c-400a5cf62451",
   "metadata": {},
   "outputs": [],
   "source": [
    "# Importing other important libraries\n",
    "import getpass\n",
    "from teradataml import create_context, remove_context\n",
    "from teradataml import DataFrame\n",
    "from teradataml import load_example_data\n",
    "from teradataml import TrainTestSplit"
   ]
  },
  {
   "cell_type": "code",
   "execution_count": 3,
   "id": "cadd9ed2-42d6-4899-b23e-4e2cf601162f",
   "metadata": {},
   "outputs": [
    {
     "name": "stdout",
     "output_type": "stream",
     "text": [
      "Host:  ········\n",
      "Username:  ········\n",
      "Password:  ········\n"
     ]
    }
   ],
   "source": [
    "# Create the connection.\n",
    "host = getpass.getpass(\"Host: \")\n",
    "username = getpass.getpass(\"Username: \")\n",
    "password = getpass.getpass(\"Password: \")\n",
    "\n",
    "con = create_context(host=host, username=username, password=password)"
   ]
  },
  {
   "cell_type": "markdown",
   "id": "be767a89-d5b8-4876-91cb-36980754586e",
   "metadata": {},
   "source": [
    "## <b><span style='color:#F1A424'>| 1.</span> Loading Dataset </b>"
   ]
  },
  {
   "cell_type": "code",
   "execution_count": 4,
   "id": "f1592c52-b247-4792-be2a-30b49bbeb9b6",
   "metadata": {},
   "outputs": [
    {
     "name": "stdout",
     "output_type": "stream",
     "text": [
      "WARNING: Skipped loading table fish since it already exists in the database.\n"
     ]
    }
   ],
   "source": [
    "# Loading dataset from example data collection\n",
    "load_example_data('teradataml','fish')"
   ]
  },
  {
   "cell_type": "code",
   "execution_count": 5,
   "id": "3846ae0f-004b-4b8e-9fea-06fac4294065",
   "metadata": {},
   "outputs": [],
   "source": [
    "# Fetching in teradata dataframe\n",
    "fish_df = DataFrame(\"fish\")"
   ]
  },
  {
   "cell_type": "code",
   "execution_count": 6,
   "id": "442ccd80-b444-413e-970d-d855ec3d6cae",
   "metadata": {},
   "outputs": [
    {
     "data": {
      "text/html": [
       "<style type=\"text/css\">\n",
       "\ttable {border:ridge 5px;}\n",
       "\ttable td {border:inset 1px;}\n",
       "\ttable tr#HeaderRow {background-color:grey; color:white;}</style>\n",
       "<html><table>\n",
       "\t<tr id=\"HeaderRow\">\n",
       "\t\t<th>Species</th>\n",
       "\t\t<th>Weight</th>\n",
       "\t\t<th>Length1</th>\n",
       "\t\t<th>Length2</th>\n",
       "\t\t<th>Length3</th>\n",
       "\t\t<th>Height</th>\n",
       "\t\t<th>Width</th>\n",
       "\t</tr>\n",
       "\t<tr>\n",
       "\t\t<td>Bream</td>\n",
       "\t\t<td>450</td>\n",
       "\t\t<td>26.8</td>\n",
       "\t\t<td>29.7</td>\n",
       "\t\t<td>34.7</td>\n",
       "\t\t<td>13.6024</td>\n",
       "\t\t<td>4.9274</td>\n",
       "\t</tr>\n",
       "\t<tr>\n",
       "\t\t<td>Bream</td>\n",
       "\t\t<td>450</td>\n",
       "\t\t<td>27.6</td>\n",
       "\t\t<td>30.0</td>\n",
       "\t\t<td>35.1</td>\n",
       "\t\t<td>14.0049</td>\n",
       "\t\t<td>4.8438</td>\n",
       "\t</tr>\n",
       "\t<tr>\n",
       "\t\t<td>Bream</td>\n",
       "\t\t<td>500</td>\n",
       "\t\t<td>28.5</td>\n",
       "\t\t<td>30.7</td>\n",
       "\t\t<td>36.2</td>\n",
       "\t\t<td>14.2266</td>\n",
       "\t\t<td>4.9594</td>\n",
       "\t</tr>\n",
       "\t<tr>\n",
       "\t\t<td>Bream</td>\n",
       "\t\t<td>475</td>\n",
       "\t\t<td>28.4</td>\n",
       "\t\t<td>31.0</td>\n",
       "\t\t<td>36.2</td>\n",
       "\t\t<td>14.2628</td>\n",
       "\t\t<td>5.1042</td>\n",
       "\t</tr>\n",
       "\t<tr>\n",
       "\t\t<td>Bream</td>\n",
       "\t\t<td>500</td>\n",
       "\t\t<td>29.1</td>\n",
       "\t\t<td>31.5</td>\n",
       "\t\t<td>36.4</td>\n",
       "\t\t<td>13.7592</td>\n",
       "\t\t<td>4.368</td>\n",
       "\t</tr>\n",
       "\t<tr>\n",
       "\t\t<td>Bream</td>\n",
       "\t\t<td>340</td>\n",
       "\t\t<td>29.5</td>\n",
       "\t\t<td>32.0</td>\n",
       "\t\t<td>37.3</td>\n",
       "\t\t<td>13.9129</td>\n",
       "\t\t<td>5.0728</td>\n",
       "\t</tr>\n",
       "\t<tr>\n",
       "\t\t<td>Bream</td>\n",
       "\t\t<td>500</td>\n",
       "\t\t<td>28.7</td>\n",
       "\t\t<td>31.0</td>\n",
       "\t\t<td>36.2</td>\n",
       "\t\t<td>14.3714</td>\n",
       "\t\t<td>4.8146</td>\n",
       "\t</tr>\n",
       "\t<tr>\n",
       "\t\t<td>Bream</td>\n",
       "\t\t<td>500</td>\n",
       "\t\t<td>26.8</td>\n",
       "\t\t<td>29.7</td>\n",
       "\t\t<td>34.5</td>\n",
       "\t\t<td>14.1795</td>\n",
       "\t\t<td>5.2785</td>\n",
       "\t</tr>\n",
       "\t<tr>\n",
       "\t\t<td>Bream</td>\n",
       "\t\t<td>430</td>\n",
       "\t\t<td>26.5</td>\n",
       "\t\t<td>29.0</td>\n",
       "\t\t<td>34.0</td>\n",
       "\t\t<td>12.444</td>\n",
       "\t\t<td>5.134</td>\n",
       "\t</tr>\n",
       "\t<tr>\n",
       "\t\t<td>Bream</td>\n",
       "\t\t<td>340</td>\n",
       "\t\t<td>23.9</td>\n",
       "\t\t<td>26.5</td>\n",
       "\t\t<td>31.1</td>\n",
       "\t\t<td>12.3778</td>\n",
       "\t\t<td>4.6961</td>\n",
       "\t</tr>\n",
       "</table></html>"
      ],
      "text/plain": [
       "         Weight  Length1  Length2  Length3   Height   Width\n",
       "Species                                                    \n",
       "Bream       450     26.8     29.7     34.7  13.6024  4.9274\n",
       "Bream       450     27.6     30.0     35.1  14.0049  4.8438\n",
       "Bream       500     28.5     30.7     36.2  14.2266  4.9594\n",
       "Bream       475     28.4     31.0     36.2  14.2628  5.1042\n",
       "Bream       500     29.1     31.5     36.4  13.7592  4.3680\n",
       "Bream       340     29.5     32.0     37.3  13.9129  5.0728\n",
       "Bream       500     28.7     31.0     36.2  14.3714  4.8146\n",
       "Bream       500     26.8     29.7     34.5  14.1795  5.2785\n",
       "Bream       430     26.5     29.0     34.0  12.4440  5.1340\n",
       "Bream       340     23.9     26.5     31.1  12.3778  4.6961"
      ]
     },
     "execution_count": 6,
     "metadata": {},
     "output_type": "execute_result"
    }
   ],
   "source": [
    "# first 5 rows\n",
    "fish_df.head()"
   ]
  },
  {
   "cell_type": "code",
   "execution_count": 7,
   "id": "636c220d-d12f-4ea5-ab2b-c9203ef00d49",
   "metadata": {},
   "outputs": [
    {
     "data": {
      "text/plain": [
       "(159, 7)"
      ]
     },
     "execution_count": 7,
     "metadata": {},
     "output_type": "execute_result"
    }
   ],
   "source": [
    "# fish_df dataset\n",
    "fish_df.shape"
   ]
  },
  {
   "cell_type": "code",
   "execution_count": 8,
   "id": "e5d1fad7-8784-4d7a-be1f-7be1d3991d8f",
   "metadata": {},
   "outputs": [],
   "source": [
    "# Performing sampling to get 80% for trainning and 20% for testing\n",
    "fish_df_sample = fish_df.sample(frac = [0.8, 0.2])"
   ]
  },
  {
   "cell_type": "code",
   "execution_count": 9,
   "id": "a0e6891a-1b7e-4bac-97c8-350ba5f5bde4",
   "metadata": {},
   "outputs": [
    {
     "data": {
      "text/html": [
       "<style type=\"text/css\">\n",
       "\ttable {border:ridge 5px;}\n",
       "\ttable td {border:inset 1px;}\n",
       "\ttable tr#HeaderRow {background-color:grey; color:white;}</style>\n",
       "<html><table>\n",
       "\t<tr id=\"HeaderRow\">\n",
       "\t\t<th>Species</th>\n",
       "\t\t<th>Weight</th>\n",
       "\t\t<th>Length1</th>\n",
       "\t\t<th>Length2</th>\n",
       "\t\t<th>Length3</th>\n",
       "\t\t<th>Height</th>\n",
       "\t\t<th>Width</th>\n",
       "\t\t<th>sampleid</th>\n",
       "\t</tr>\n",
       "\t<tr>\n",
       "\t\t<td>Bream</td>\n",
       "\t\t<td>500</td>\n",
       "\t\t<td>28.5</td>\n",
       "\t\t<td>30.7</td>\n",
       "\t\t<td>36.2</td>\n",
       "\t\t<td>14.2266</td>\n",
       "\t\t<td>4.9594</td>\n",
       "\t\t<td>1</td>\n",
       "\t</tr>\n",
       "\t<tr>\n",
       "\t\t<td>Bream</td>\n",
       "\t\t<td>500</td>\n",
       "\t\t<td>29.1</td>\n",
       "\t\t<td>31.5</td>\n",
       "\t\t<td>36.4</td>\n",
       "\t\t<td>13.7592</td>\n",
       "\t\t<td>4.368</td>\n",
       "\t\t<td>1</td>\n",
       "\t</tr>\n",
       "\t<tr>\n",
       "\t\t<td>Bream</td>\n",
       "\t\t<td>340</td>\n",
       "\t\t<td>29.5</td>\n",
       "\t\t<td>32.0</td>\n",
       "\t\t<td>37.3</td>\n",
       "\t\t<td>13.9129</td>\n",
       "\t\t<td>5.0728</td>\n",
       "\t\t<td>1</td>\n",
       "\t</tr>\n",
       "\t<tr>\n",
       "\t\t<td>Bream</td>\n",
       "\t\t<td>600</td>\n",
       "\t\t<td>29.4</td>\n",
       "\t\t<td>32.0</td>\n",
       "\t\t<td>37.2</td>\n",
       "\t\t<td>14.9544</td>\n",
       "\t\t<td>5.1708</td>\n",
       "\t\t<td>1</td>\n",
       "\t</tr>\n",
       "\t<tr>\n",
       "\t\t<td>Bream</td>\n",
       "\t\t<td>700</td>\n",
       "\t\t<td>30.4</td>\n",
       "\t\t<td>33.0</td>\n",
       "\t\t<td>38.5</td>\n",
       "\t\t<td>14.938</td>\n",
       "\t\t<td>5.1975</td>\n",
       "\t\t<td>1</td>\n",
       "\t</tr>\n",
       "\t<tr>\n",
       "\t\t<td>Bream</td>\n",
       "\t\t<td>610</td>\n",
       "\t\t<td>30.9</td>\n",
       "\t\t<td>33.5</td>\n",
       "\t\t<td>38.6</td>\n",
       "\t\t<td>15.633</td>\n",
       "\t\t<td>5.1338</td>\n",
       "\t\t<td>1</td>\n",
       "\t</tr>\n",
       "\t<tr>\n",
       "\t\t<td>Bream</td>\n",
       "\t\t<td>700</td>\n",
       "\t\t<td>30.4</td>\n",
       "\t\t<td>33.0</td>\n",
       "\t\t<td>38.3</td>\n",
       "\t\t<td>14.8604</td>\n",
       "\t\t<td>5.2854</td>\n",
       "\t\t<td>2</td>\n",
       "\t</tr>\n",
       "\t<tr>\n",
       "\t\t<td>Bream</td>\n",
       "\t\t<td>475</td>\n",
       "\t\t<td>28.4</td>\n",
       "\t\t<td>31.0</td>\n",
       "\t\t<td>36.2</td>\n",
       "\t\t<td>14.2628</td>\n",
       "\t\t<td>5.1042</td>\n",
       "\t\t<td>1</td>\n",
       "\t</tr>\n",
       "\t<tr>\n",
       "\t\t<td>Bream</td>\n",
       "\t\t<td>450</td>\n",
       "\t\t<td>27.6</td>\n",
       "\t\t<td>30.0</td>\n",
       "\t\t<td>35.1</td>\n",
       "\t\t<td>14.0049</td>\n",
       "\t\t<td>4.8438</td>\n",
       "\t\t<td>1</td>\n",
       "\t</tr>\n",
       "\t<tr>\n",
       "\t\t<td>Bream</td>\n",
       "\t\t<td>450</td>\n",
       "\t\t<td>26.8</td>\n",
       "\t\t<td>29.7</td>\n",
       "\t\t<td>34.7</td>\n",
       "\t\t<td>13.6024</td>\n",
       "\t\t<td>4.9274</td>\n",
       "\t\t<td>1</td>\n",
       "\t</tr>\n",
       "</table></html>"
      ],
      "text/plain": [
       "         Weight  Length1  Length2  Length3   Height   Width  sampleid\n",
       "Species                                                              \n",
       "Bream       500     28.5     30.7     36.2  14.2266  4.9594         1\n",
       "Bream       500     29.1     31.5     36.4  13.7592  4.3680         1\n",
       "Bream       340     29.5     32.0     37.3  13.9129  5.0728         1\n",
       "Bream       600     29.4     32.0     37.2  14.9544  5.1708         1\n",
       "Bream       700     30.4     33.0     38.5  14.9380  5.1975         1\n",
       "Bream       610     30.9     33.5     38.6  15.6330  5.1338         1\n",
       "Bream       700     30.4     33.0     38.3  14.8604  5.2854         2\n",
       "Bream       475     28.4     31.0     36.2  14.2628  5.1042         1\n",
       "Bream       450     27.6     30.0     35.1  14.0049  4.8438         1\n",
       "Bream       450     26.8     29.7     34.7  13.6024  4.9274         1"
      ]
     },
     "execution_count": 9,
     "metadata": {},
     "output_type": "execute_result"
    }
   ],
   "source": [
    "fish_df_sample.head()"
   ]
  },
  {
   "cell_type": "code",
   "execution_count": 10,
   "id": "5e3e5923-18ad-4cf6-b4e5-e87f8854700b",
   "metadata": {},
   "outputs": [],
   "source": [
    "# Fetching train and test data\n",
    "fish_df_train= fish_df_sample[fish_df_sample['sampleid'] == 1].drop('sampleid', axis=1)\n",
    "fish_df_test = fish_df_sample[fish_df_sample['sampleid'] == 2].drop('sampleid', axis=1)"
   ]
  },
  {
   "cell_type": "code",
   "execution_count": 11,
   "id": "83d72a72-3fac-4862-b374-d21ab59be1a6",
   "metadata": {},
   "outputs": [
    {
     "data": {
      "text/plain": [
       "(127, 7)"
      ]
     },
     "execution_count": 11,
     "metadata": {},
     "output_type": "execute_result"
    }
   ],
   "source": [
    "# train data shape\n",
    "fish_df_train.shape"
   ]
  },
  {
   "cell_type": "code",
   "execution_count": 12,
   "id": "b22be730-8a7a-40f3-8e2a-cabd8d1f427f",
   "metadata": {},
   "outputs": [
    {
     "data": {
      "text/plain": [
       "(32, 7)"
      ]
     },
     "execution_count": 12,
     "metadata": {},
     "output_type": "execute_result"
    }
   ],
   "source": [
    "# test data shape\n",
    "fish_df_test.shape"
   ]
  },
  {
   "cell_type": "code",
   "execution_count": 13,
   "id": "18473df2-be15-4e1e-bc5e-739abacf8b89",
   "metadata": {},
   "outputs": [
    {
     "data": {
      "text/html": [
       "<style type=\"text/css\">\n",
       "\ttable {border:ridge 5px;}\n",
       "\ttable td {border:inset 1px;}\n",
       "\ttable tr#HeaderRow {background-color:grey; color:white;}</style>\n",
       "<html><table>\n",
       "\t<tr id=\"HeaderRow\">\n",
       "\t\t<th>Species</th>\n",
       "\t\t<th>Weight</th>\n",
       "\t\t<th>Length1</th>\n",
       "\t\t<th>Length2</th>\n",
       "\t\t<th>Length3</th>\n",
       "\t\t<th>Height</th>\n",
       "\t\t<th>Width</th>\n",
       "\t</tr>\n",
       "\t<tr>\n",
       "\t\t<td>Bream</td>\n",
       "\t\t<td>475</td>\n",
       "\t\t<td>28.4</td>\n",
       "\t\t<td>31.0</td>\n",
       "\t\t<td>36.2</td>\n",
       "\t\t<td>14.2628</td>\n",
       "\t\t<td>5.1042</td>\n",
       "\t</tr>\n",
       "\t<tr>\n",
       "\t\t<td>Bream</td>\n",
       "\t\t<td>340</td>\n",
       "\t\t<td>29.5</td>\n",
       "\t\t<td>32.0</td>\n",
       "\t\t<td>37.3</td>\n",
       "\t\t<td>13.9129</td>\n",
       "\t\t<td>5.0728</td>\n",
       "\t</tr>\n",
       "\t<tr>\n",
       "\t\t<td>Bream</td>\n",
       "\t\t<td>600</td>\n",
       "\t\t<td>29.4</td>\n",
       "\t\t<td>32.0</td>\n",
       "\t\t<td>37.2</td>\n",
       "\t\t<td>14.9544</td>\n",
       "\t\t<td>5.1708</td>\n",
       "\t</tr>\n",
       "\t<tr>\n",
       "\t\t<td>Bream</td>\n",
       "\t\t<td>700</td>\n",
       "\t\t<td>30.4</td>\n",
       "\t\t<td>33.0</td>\n",
       "\t\t<td>38.5</td>\n",
       "\t\t<td>14.938</td>\n",
       "\t\t<td>5.1975</td>\n",
       "\t</tr>\n",
       "\t<tr>\n",
       "\t\t<td>Bream</td>\n",
       "\t\t<td>650</td>\n",
       "\t\t<td>31.0</td>\n",
       "\t\t<td>33.5</td>\n",
       "\t\t<td>38.7</td>\n",
       "\t\t<td>14.4738</td>\n",
       "\t\t<td>5.7276</td>\n",
       "\t</tr>\n",
       "\t<tr>\n",
       "\t\t<td>Bream</td>\n",
       "\t\t<td>685</td>\n",
       "\t\t<td>31.4</td>\n",
       "\t\t<td>34.0</td>\n",
       "\t\t<td>39.2</td>\n",
       "\t\t<td>15.9936</td>\n",
       "\t\t<td>5.3704</td>\n",
       "\t</tr>\n",
       "\t<tr>\n",
       "\t\t<td>Bream</td>\n",
       "\t\t<td>610</td>\n",
       "\t\t<td>30.9</td>\n",
       "\t\t<td>33.5</td>\n",
       "\t\t<td>38.6</td>\n",
       "\t\t<td>15.633</td>\n",
       "\t\t<td>5.1338</td>\n",
       "\t</tr>\n",
       "\t<tr>\n",
       "\t\t<td>Bream</td>\n",
       "\t\t<td>500</td>\n",
       "\t\t<td>28.7</td>\n",
       "\t\t<td>31.0</td>\n",
       "\t\t<td>36.2</td>\n",
       "\t\t<td>14.3714</td>\n",
       "\t\t<td>4.8146</td>\n",
       "\t</tr>\n",
       "\t<tr>\n",
       "\t\t<td>Bream</td>\n",
       "\t\t<td>500</td>\n",
       "\t\t<td>28.5</td>\n",
       "\t\t<td>30.7</td>\n",
       "\t\t<td>36.2</td>\n",
       "\t\t<td>14.2266</td>\n",
       "\t\t<td>4.9594</td>\n",
       "\t</tr>\n",
       "\t<tr>\n",
       "\t\t<td>Bream</td>\n",
       "\t\t<td>500</td>\n",
       "\t\t<td>26.8</td>\n",
       "\t\t<td>29.7</td>\n",
       "\t\t<td>34.5</td>\n",
       "\t\t<td>14.1795</td>\n",
       "\t\t<td>5.2785</td>\n",
       "\t</tr>\n",
       "</table></html>"
      ],
      "text/plain": [
       "         Weight  Length1  Length2  Length3   Height   Width\n",
       "Species                                                    \n",
       "Bream       475     28.4     31.0     36.2  14.2628  5.1042\n",
       "Bream       340     29.5     32.0     37.3  13.9129  5.0728\n",
       "Bream       600     29.4     32.0     37.2  14.9544  5.1708\n",
       "Bream       700     30.4     33.0     38.5  14.9380  5.1975\n",
       "Bream       650     31.0     33.5     38.7  14.4738  5.7276\n",
       "Bream       685     31.4     34.0     39.2  15.9936  5.3704\n",
       "Bream       610     30.9     33.5     38.6  15.6330  5.1338\n",
       "Bream       500     28.7     31.0     36.2  14.3714  4.8146\n",
       "Bream       500     28.5     30.7     36.2  14.2266  4.9594\n",
       "Bream       500     26.8     29.7     34.5  14.1795  5.2785"
      ]
     },
     "execution_count": 13,
     "metadata": {},
     "output_type": "execute_result"
    }
   ],
   "source": [
    "#train dataset\n",
    "fish_df_train.head()"
   ]
  },
  {
   "cell_type": "code",
   "execution_count": 14,
   "id": "58c9d763-4f19-449e-a35b-676d4d026acc",
   "metadata": {},
   "outputs": [
    {
     "data": {
      "text/html": [
       "<style type=\"text/css\">\n",
       "\ttable {border:ridge 5px;}\n",
       "\ttable td {border:inset 1px;}\n",
       "\ttable tr#HeaderRow {background-color:grey; color:white;}</style>\n",
       "<html><table>\n",
       "\t<tr id=\"HeaderRow\">\n",
       "\t\t<th>Species</th>\n",
       "\t\t<th>Weight</th>\n",
       "\t\t<th>Length1</th>\n",
       "\t\t<th>Length2</th>\n",
       "\t\t<th>Length3</th>\n",
       "\t\t<th>Height</th>\n",
       "\t\t<th>Width</th>\n",
       "\t</tr>\n",
       "\t<tr>\n",
       "\t\t<td>Bream</td>\n",
       "\t\t<td>390</td>\n",
       "\t\t<td>27.6</td>\n",
       "\t\t<td>30.0</td>\n",
       "\t\t<td>35.0</td>\n",
       "\t\t<td>12.67</td>\n",
       "\t\t<td>4.69</td>\n",
       "\t</tr>\n",
       "\t<tr>\n",
       "\t\t<td>Bream</td>\n",
       "\t\t<td>700</td>\n",
       "\t\t<td>30.4</td>\n",
       "\t\t<td>33.0</td>\n",
       "\t\t<td>38.3</td>\n",
       "\t\t<td>14.8604</td>\n",
       "\t\t<td>5.2854</td>\n",
       "\t</tr>\n",
       "\t<tr>\n",
       "\t\t<td>Bream</td>\n",
       "\t\t<td>430</td>\n",
       "\t\t<td>26.5</td>\n",
       "\t\t<td>29.0</td>\n",
       "\t\t<td>34.0</td>\n",
       "\t\t<td>12.444</td>\n",
       "\t\t<td>5.134</td>\n",
       "\t</tr>\n",
       "\t<tr>\n",
       "\t\t<td>Bream</td>\n",
       "\t\t<td>575</td>\n",
       "\t\t<td>31.3</td>\n",
       "\t\t<td>34.0</td>\n",
       "\t\t<td>39.5</td>\n",
       "\t\t<td>15.1285</td>\n",
       "\t\t<td>5.5695</td>\n",
       "\t</tr>\n",
       "\t<tr>\n",
       "\t\t<td>Parkki</td>\n",
       "\t\t<td>170</td>\n",
       "\t\t<td>19.0</td>\n",
       "\t\t<td>20.7</td>\n",
       "\t\t<td>23.2</td>\n",
       "\t\t<td>9.396</td>\n",
       "\t\t<td>3.4104</td>\n",
       "\t</tr>\n",
       "\t<tr>\n",
       "\t\t<td>Perch</td>\n",
       "\t\t<td>225</td>\n",
       "\t\t<td>22.0</td>\n",
       "\t\t<td>24.0</td>\n",
       "\t\t<td>25.5</td>\n",
       "\t\t<td>7.293</td>\n",
       "\t\t<td>3.723</td>\n",
       "\t</tr>\n",
       "\t<tr>\n",
       "\t\t<td>Parkki</td>\n",
       "\t\t<td>273</td>\n",
       "\t\t<td>23.0</td>\n",
       "\t\t<td>25.0</td>\n",
       "\t\t<td>28.0</td>\n",
       "\t\t<td>11.088</td>\n",
       "\t\t<td>4.144</td>\n",
       "\t</tr>\n",
       "\t<tr>\n",
       "\t\t<td>Bream</td>\n",
       "\t\t<td>290</td>\n",
       "\t\t<td>24.0</td>\n",
       "\t\t<td>26.3</td>\n",
       "\t\t<td>31.2</td>\n",
       "\t\t<td>12.48</td>\n",
       "\t\t<td>4.3056</td>\n",
       "\t</tr>\n",
       "\t<tr>\n",
       "\t\t<td>Bream</td>\n",
       "\t\t<td>700</td>\n",
       "\t\t<td>31.9</td>\n",
       "\t\t<td>35.0</td>\n",
       "\t\t<td>40.5</td>\n",
       "\t\t<td>16.2405</td>\n",
       "\t\t<td>5.589</td>\n",
       "\t</tr>\n",
       "\t<tr>\n",
       "\t\t<td>Bream</td>\n",
       "\t\t<td>242</td>\n",
       "\t\t<td>23.2</td>\n",
       "\t\t<td>25.4</td>\n",
       "\t\t<td>30.0</td>\n",
       "\t\t<td>11.52</td>\n",
       "\t\t<td>4.02</td>\n",
       "\t</tr>\n",
       "</table></html>"
      ],
      "text/plain": [
       "         Weight  Length1  Length2  Length3   Height   Width\n",
       "Species                                                    \n",
       "Bream       390     27.6     30.0     35.0  12.6700  4.6900\n",
       "Bream       700     30.4     33.0     38.3  14.8604  5.2854\n",
       "Bream       430     26.5     29.0     34.0  12.4440  5.1340\n",
       "Bream       575     31.3     34.0     39.5  15.1285  5.5695\n",
       "Parkki      170     19.0     20.7     23.2   9.3960  3.4104\n",
       "Perch       225     22.0     24.0     25.5   7.2930  3.7230\n",
       "Parkki      273     23.0     25.0     28.0  11.0880  4.1440\n",
       "Bream       290     24.0     26.3     31.2  12.4800  4.3056\n",
       "Bream       700     31.9     35.0     40.5  16.2405  5.5890\n",
       "Bream       242     23.2     25.4     30.0  11.5200  4.0200"
      ]
     },
     "execution_count": 14,
     "metadata": {},
     "output_type": "execute_result"
    }
   ],
   "source": [
    "# test dataset\n",
    "fish_df_test.head()"
   ]
  },
  {
   "cell_type": "code",
   "execution_count": 16,
   "id": "143f776d-c857-4501-b518-4d5c3f653b12",
   "metadata": {},
   "outputs": [
    {
     "name": "stdout",
     "output_type": "stream",
     "text": [
      "\n",
      "Generating custom config JSON for AutoML ...\n",
      "\n",
      "Available main options for customization with corresponding indices: \n",
      "--------------------------------------------------------------------------------\n",
      "\n",
      "Index 1: Customize Feature Engineering Phase\n",
      "\n",
      "Index 2: Customize Data Preparation Phase\n",
      "\n",
      "Index 3: Customize Model Training Phase\n",
      "\n",
      "Index 4: Generate custom json and exit\n",
      "--------------------------------------------------------------------------------\n"
     ]
    },
    {
     "name": "stdout",
     "output_type": "stream",
     "text": [
      "\n",
      "Enter the index you want to customize:  1\n"
     ]
    },
    {
     "name": "stdout",
     "output_type": "stream",
     "text": [
      "\n",
      "Customizing Feature Engineering Phase ...\n",
      "\n",
      "Available options for customization of feature engineering phase with corresponding indices: \n",
      "--------------------------------------------------------------------------------\n",
      "\n",
      "Index 1: Customize Missing Value Handling\n",
      "\n",
      "Index 2: Customize Bincode Encoding\n",
      "\n",
      "Index 3: Customize String Manipulation\n",
      "\n",
      "Index 4: Customize Categorical Encoding\n",
      "\n",
      "Index 5: Customize Mathematical Transformation\n",
      "\n",
      "Index 6: Customize Nonlinear Transformation\n",
      "\n",
      "Index 7: Customize Antiselect Features\n",
      "\n",
      "Index 8: Back to main menu\n",
      "\n",
      "Index 9: Generate custom json and exit\n",
      "--------------------------------------------------------------------------------\n"
     ]
    },
    {
     "name": "stdout",
     "output_type": "stream",
     "text": [
      "\n",
      "Enter the list of indices you want to customize in feature engineering phase:  8\n"
     ]
    },
    {
     "name": "stdout",
     "output_type": "stream",
     "text": [
      "\n",
      "Customization of feature engineering phase has been completed successfully.\n",
      "\n",
      "Available main options for customization with corresponding indices: \n",
      "--------------------------------------------------------------------------------\n",
      "\n",
      "Index 1: Customize Feature Engineering Phase\n",
      "\n",
      "Index 2: Customize Data Preparation Phase\n",
      "\n",
      "Index 3: Customize Model Training Phase\n",
      "\n",
      "Index 4: Generate custom json and exit\n",
      "--------------------------------------------------------------------------------\n"
     ]
    },
    {
     "name": "stdout",
     "output_type": "stream",
     "text": [
      "\n",
      "Enter the index you want to customize:  2\n"
     ]
    },
    {
     "name": "stdout",
     "output_type": "stream",
     "text": [
      "\n",
      "Customizing Data Preparation Phase ...\n",
      "\n",
      "Available options for customization of data preparation phase with corresponding indices: \n",
      "--------------------------------------------------------------------------------\n",
      "\n",
      "Index 1: Customize Train Test Split\n",
      "\n",
      "Index 2: Customize Data Imbalance Handling\n",
      "\n",
      "Index 3: Customize Outlier Handling\n",
      "\n",
      "Index 4: Customize Feature Scaling\n",
      "\n",
      "Index 5: Back to main menu\n",
      "\n",
      "Index 6: Generate custom json and exit\n",
      "--------------------------------------------------------------------------------\n"
     ]
    },
    {
     "name": "stdout",
     "output_type": "stream",
     "text": [
      "\n",
      "Enter the list of indices you want to customize in data preparation phase:  1,3,4\n"
     ]
    },
    {
     "name": "stdout",
     "output_type": "stream",
     "text": [
      "\n",
      "Customizing Train Test Split ...\n"
     ]
    },
    {
     "name": "stdout",
     "output_type": "stream",
     "text": [
      "\n",
      "Enter the train size for train test split:  0.7\n"
     ]
    },
    {
     "name": "stdout",
     "output_type": "stream",
     "text": [
      "\n",
      "Customization of train test split has been completed successfully.\n",
      "\n",
      "Customizing Outlier Handling ...\n",
      "\n",
      "Available outlier detection methods with corresponding indices:\n",
      "Index 1: percentile\n",
      "Index 2: tukey\n",
      "Index 3: carling\n"
     ]
    },
    {
     "name": "stdout",
     "output_type": "stream",
     "text": [
      "\n",
      "Enter the corresponding index oulier handling method:  2\n",
      "\n",
      "Enter the feature or list of features for outlier handling:  Length2\n"
     ]
    },
    {
     "name": "stdout",
     "output_type": "stream",
     "text": [
      "\n",
      "Available outlier replacement methods with corresponding indices:\n",
      "Index 1: delete\n",
      "Index 2: median\n",
      "Index 3: Any Numeric Value\n"
     ]
    },
    {
     "name": "stdout",
     "output_type": "stream",
     "text": [
      "\n",
      "Enter the index of corresponding replacement method for feature Length2:  2\n"
     ]
    },
    {
     "name": "stdout",
     "output_type": "stream",
     "text": [
      "\n",
      "Customization of outlier handling has been completed successfully.\n",
      "\n",
      "Available feature scaling methods with corresponding indices:\n",
      "Index 1: maxabs\n",
      "Index 2: mean\n",
      "Index 3: midrange\n",
      "Index 4: range\n",
      "Index 5: rescale\n",
      "Index 6: std\n",
      "Index 7: sum\n",
      "Index 8: ustd\n"
     ]
    },
    {
     "name": "stdout",
     "output_type": "stream",
     "text": [
      "\n",
      "Enter the corresponding index feature scaling method:  6\n"
     ]
    },
    {
     "name": "stdout",
     "output_type": "stream",
     "text": [
      "\n",
      "Customization of feature scaling has been completed successfully.\n",
      "\n",
      "Available options for customization of data preparation phase with corresponding indices: \n",
      "--------------------------------------------------------------------------------\n",
      "\n",
      "Index 1: Customize Train Test Split\n",
      "\n",
      "Index 2: Customize Data Imbalance Handling\n",
      "\n",
      "Index 3: Customize Outlier Handling\n",
      "\n",
      "Index 4: Customize Feature Scaling\n",
      "\n",
      "Index 5: Back to main menu\n",
      "\n",
      "Index 6: Generate custom json and exit\n",
      "--------------------------------------------------------------------------------\n"
     ]
    },
    {
     "name": "stdout",
     "output_type": "stream",
     "text": [
      "\n",
      "Enter the list of indices you want to customize in data preparation phase:  5\n"
     ]
    },
    {
     "name": "stdout",
     "output_type": "stream",
     "text": [
      "\n",
      "Customization of data preparation phase has been completed successfully.\n",
      "\n",
      "Available main options for customization with corresponding indices: \n",
      "--------------------------------------------------------------------------------\n",
      "\n",
      "Index 1: Customize Feature Engineering Phase\n",
      "\n",
      "Index 2: Customize Data Preparation Phase\n",
      "\n",
      "Index 3: Customize Model Training Phase\n",
      "\n",
      "Index 4: Generate custom json and exit\n",
      "--------------------------------------------------------------------------------\n"
     ]
    },
    {
     "name": "stdout",
     "output_type": "stream",
     "text": [
      "\n",
      "Enter the index you want to customize:  3\n"
     ]
    },
    {
     "name": "stdout",
     "output_type": "stream",
     "text": [
      "\n",
      "Customizing Model Training Phase ...\n",
      "\n",
      "Available options for customization of model training phase with corresponding indices: \n",
      "--------------------------------------------------------------------------------\n",
      "\n",
      "Index 1: Customize Model Hyperparameter\n",
      "\n",
      "Index 2: Back to main menu\n",
      "\n",
      "Index 3: Generate custom json and exit\n",
      "--------------------------------------------------------------------------------\n"
     ]
    },
    {
     "name": "stdout",
     "output_type": "stream",
     "text": [
      "\n",
      "Enter the list of indices you want to customize in model training phase:  1\n"
     ]
    },
    {
     "name": "stdout",
     "output_type": "stream",
     "text": [
      "\n",
      "Customizing Model Hyperparameter ...\n",
      "\n",
      "Available models for hyperparameter tuning with corresponding indices:\n",
      "Index 1: decision_forest\n",
      "Index 2: xgboost\n",
      "Index 3: knn\n",
      "Index 4: glm\n",
      "Index 5: svm\n",
      "\n",
      "Available hyperparamters update methods with corresponding indices:\n",
      "Index 1: ADD\n",
      "Index 2: REPLACE\n"
     ]
    },
    {
     "name": "stdout",
     "output_type": "stream",
     "text": [
      "\n",
      "Enter the list of model indices for performing hyperparameter tuning:  2\n"
     ]
    },
    {
     "name": "stdout",
     "output_type": "stream",
     "text": [
      "\n",
      "Available hyperparameters for model 'xgboost' with corresponding indices:\n",
      "Index 1: min_impurity\n",
      "Index 2: max_depth\n",
      "Index 3: min_node_size\n",
      "Index 4: shrinkage_factor\n",
      "Index 5: iter_num\n"
     ]
    },
    {
     "name": "stdout",
     "output_type": "stream",
     "text": [
      "\n",
      "Enter the list of hyperparameter indices for model 'xgboost':  2\n",
      "\n",
      "Enter the index of corresponding update method for hyperparameters 'max_depth' for model 'xgboost':  2\n",
      "\n",
      "Enter the list of value for hyperparameter 'max_depth' for model 'xgboost':  4,5,8,10\n"
     ]
    },
    {
     "name": "stdout",
     "output_type": "stream",
     "text": [
      "\n",
      "Customization of model hyperparameter has been completed successfully.\n",
      "\n",
      "Available options for customization of model training phase with corresponding indices: \n",
      "--------------------------------------------------------------------------------\n",
      "\n",
      "Index 1: Customize Model Hyperparameter\n",
      "\n",
      "Index 2: Back to main menu\n",
      "\n",
      "Index 3: Generate custom json and exit\n",
      "--------------------------------------------------------------------------------\n"
     ]
    },
    {
     "name": "stdout",
     "output_type": "stream",
     "text": [
      "\n",
      "Enter the list of indices you want to customize in model training phase:  3\n"
     ]
    },
    {
     "name": "stdout",
     "output_type": "stream",
     "text": [
      "\n",
      "Customization of model training phase has been completed successfully.\n",
      "\n",
      "Process of generating custom config file for AutoML has been completed successfully.\n",
      "\n",
      "'custom_fish_weight.json' file is generated successfully under the current working directory.\n"
     ]
    }
   ],
   "source": [
    "AutoML.generate_custom_config(\"custom_fish_weight\")"
   ]
  },
  {
   "cell_type": "markdown",
   "id": "856ea871-93d8-4ea2-b524-1acb23bd7eb5",
   "metadata": {},
   "source": [
    "## <b><span style='color:#F1A424'>| 2.</span> Fitting AutoML </b>"
   ]
  },
  {
   "cell_type": "code",
   "execution_count": 15,
   "id": "f3650aa5-a408-4227-a88d-79c0f3d36d3c",
   "metadata": {},
   "outputs": [],
   "source": [
    "# Creating AutoML instance\n",
    "# Excluded 'glm' from model training.\n",
    "# Keeping early stopping timer threshold to 300 sec\n",
    "# and verbose level 2 for detailed loggging\n",
    "# Using custom config json for custom run\n",
    "\n",
    "aml = AutoML(task_type=\"Regression\", \n",
    "             exclude=['glm'],\n",
    "             max_runtime_secs=300,\n",
    "             verbose=2,\n",
    "             custom_config_file='custom_fish_weight.json')"
   ]
  },
  {
   "cell_type": "code",
   "execution_count": 16,
   "id": "a1b7a771-1bfa-40c9-8ad0-c377d320c137",
   "metadata": {},
   "outputs": [
    {
     "name": "stdout",
     "output_type": "stream",
     "text": [
      "\n",
      " Received below input for customization : \n",
      "{\n",
      "    \"TrainTestSplitIndicator\": true,\n",
      "    \"TrainingSize\": 0.7,\n",
      "    \"OutlierFilterIndicator\": true,\n",
      "    \"OutlierFilterMethod\": \"tukey\",\n",
      "    \"OutlierFilterParam\": {\n",
      "        \"Length2\": {\n",
      "            \"replacement_value\": \"median\"\n",
      "        }\n",
      "    },\n",
      "    \"FeatureScalingIndicator\": true,\n",
      "    \"FeatureScalingMethod\": \"std\",\n",
      "    \"HyperparameterTuningIndicator\": true,\n",
      "    \"HyperparameterTuningParam\": {\n",
      "        \"xgboost\": {\n",
      "            \"max_depth\": {\n",
      "                \"Method\": \"REPLACE\",\n",
      "                \"Value\": [\n",
      "                    4,\n",
      "                    5,\n",
      "                    8,\n",
      "                    10\n",
      "                ]\n",
      "            }\n",
      "        }\n",
      "    }\n",
      "}\n"
     ]
    },
    {
     "data": {
      "text/html": [
       "\n",
       "            <style>\n",
       "                .custom-div {\n",
       "                    background-color: lightgray;\n",
       "                    color: #000000;\n",
       "                    padding: 10px;\n",
       "                    border-radius: 8px;\n",
       "                    box-shadow: 0 3px 4px rgba(0, 0, 0, 0.2);\n",
       "                    margin-bottom: 10px;\n",
       "                    text-align: center;\n",
       "                }\n",
       "            </style>\n",
       "        <br><div class=\"custom-div\"><h3><span style=\"color: green;\"></span>1. Feature Exploration -> 2. Feature Engineering -> 3. Data Preparation -> 4. Model Training & Evaluation<center></h3></center></div>"
      ],
      "text/plain": [
       "<IPython.core.display.HTML object>"
      ]
     },
     "metadata": {},
     "output_type": "display_data"
    },
    {
     "name": "stdout",
     "output_type": "stream",
     "text": [
      "Feature Exploration started ...\n",
      "\n",
      "Data Overview:\n",
      "Total Rows in the data: 127\n",
      "Total Columns in the data: 7\n",
      "\n",
      "Column Summary:\n"
     ]
    },
    {
     "data": {
      "text/html": [
       "<style type=\"text/css\">\n",
       "\ttable {border:ridge 5px;}\n",
       "\ttable td {border:inset 1px;}\n",
       "\ttable tr#HeaderRow {background-color:grey; color:white;}</style>\n",
       "<html><table>\n",
       "\t<tr id=\"HeaderRow\">\n",
       "\t\t<th>ColumnName</th>\n",
       "\t\t<th>Datatype</th>\n",
       "\t\t<th>NonNullCount</th>\n",
       "\t\t<th>NullCount</th>\n",
       "\t\t<th>BlankCount</th>\n",
       "\t\t<th>ZeroCount</th>\n",
       "\t\t<th>PositiveCount</th>\n",
       "\t\t<th>NegativeCount</th>\n",
       "\t\t<th>NullPercentage</th>\n",
       "\t\t<th>NonNullPercentage</th>\n",
       "\t</tr>\n",
       "\t<tr>\n",
       "\t\t<td>Width</td>\n",
       "\t\t<td>FLOAT</td>\n",
       "\t\t<td>127</td>\n",
       "\t\t<td>0</td>\n",
       "\t\t<td>None</td>\n",
       "\t\t<td>0</td>\n",
       "\t\t<td>127</td>\n",
       "\t\t<td>0</td>\n",
       "\t\t<td>0.0</td>\n",
       "\t\t<td>100.0</td>\n",
       "\t</tr>\n",
       "\t<tr>\n",
       "\t\t<td>Height</td>\n",
       "\t\t<td>FLOAT</td>\n",
       "\t\t<td>127</td>\n",
       "\t\t<td>0</td>\n",
       "\t\t<td>None</td>\n",
       "\t\t<td>0</td>\n",
       "\t\t<td>127</td>\n",
       "\t\t<td>0</td>\n",
       "\t\t<td>0.0</td>\n",
       "\t\t<td>100.0</td>\n",
       "\t</tr>\n",
       "\t<tr>\n",
       "\t\t<td>Length1</td>\n",
       "\t\t<td>FLOAT</td>\n",
       "\t\t<td>127</td>\n",
       "\t\t<td>0</td>\n",
       "\t\t<td>None</td>\n",
       "\t\t<td>0</td>\n",
       "\t\t<td>127</td>\n",
       "\t\t<td>0</td>\n",
       "\t\t<td>0.0</td>\n",
       "\t\t<td>100.0</td>\n",
       "\t</tr>\n",
       "\t<tr>\n",
       "\t\t<td>Length2</td>\n",
       "\t\t<td>FLOAT</td>\n",
       "\t\t<td>127</td>\n",
       "\t\t<td>0</td>\n",
       "\t\t<td>None</td>\n",
       "\t\t<td>0</td>\n",
       "\t\t<td>127</td>\n",
       "\t\t<td>0</td>\n",
       "\t\t<td>0.0</td>\n",
       "\t\t<td>100.0</td>\n",
       "\t</tr>\n",
       "\t<tr>\n",
       "\t\t<td>Weight</td>\n",
       "\t\t<td>INTEGER</td>\n",
       "\t\t<td>127</td>\n",
       "\t\t<td>0</td>\n",
       "\t\t<td>None</td>\n",
       "\t\t<td>1</td>\n",
       "\t\t<td>126</td>\n",
       "\t\t<td>0</td>\n",
       "\t\t<td>0.0</td>\n",
       "\t\t<td>100.0</td>\n",
       "\t</tr>\n",
       "\t<tr>\n",
       "\t\t<td>Length3</td>\n",
       "\t\t<td>FLOAT</td>\n",
       "\t\t<td>127</td>\n",
       "\t\t<td>0</td>\n",
       "\t\t<td>None</td>\n",
       "\t\t<td>0</td>\n",
       "\t\t<td>127</td>\n",
       "\t\t<td>0</td>\n",
       "\t\t<td>0.0</td>\n",
       "\t\t<td>100.0</td>\n",
       "\t</tr>\n",
       "\t<tr>\n",
       "\t\t<td>Species</td>\n",
       "\t\t<td>VARCHAR(20) CHARACTER SET LATIN</td>\n",
       "\t\t<td>127</td>\n",
       "\t\t<td>0</td>\n",
       "\t\t<td>0</td>\n",
       "\t\t<td>None</td>\n",
       "\t\t<td>None</td>\n",
       "\t\t<td>None</td>\n",
       "\t\t<td>0.0</td>\n",
       "\t\t<td>100.0</td>\n",
       "\t</tr>\n",
       "</table></html>"
      ],
      "text/plain": [
       "                                   Datatype  NonNullCount  NullCount  BlankCount  ZeroCount  PositiveCount  NegativeCount  NullPercentage  NonNullPercentage\n",
       "ColumnName                                                                                                                                                  \n",
       "Width                                 FLOAT           127          0         NaN        0.0          127.0            0.0             0.0              100.0\n",
       "Height                                FLOAT           127          0         NaN        0.0          127.0            0.0             0.0              100.0\n",
       "Length1                               FLOAT           127          0         NaN        0.0          127.0            0.0             0.0              100.0\n",
       "Length2                               FLOAT           127          0         NaN        0.0          127.0            0.0             0.0              100.0\n",
       "Weight                              INTEGER           127          0         NaN        1.0          126.0            0.0             0.0              100.0\n",
       "Length3                               FLOAT           127          0         NaN        0.0          127.0            0.0             0.0              100.0\n",
       "Species     VARCHAR(20) CHARACTER SET LATIN           127          0         0.0        NaN            NaN            NaN             0.0              100.0"
      ]
     },
     "metadata": {},
     "output_type": "display_data"
    },
    {
     "name": "stdout",
     "output_type": "stream",
     "text": [
      "\n",
      "Statistics of Data:\n"
     ]
    },
    {
     "data": {
      "text/html": [
       "<style type=\"text/css\">\n",
       "\ttable {border:ridge 5px;}\n",
       "\ttable td {border:inset 1px;}\n",
       "\ttable tr#HeaderRow {background-color:grey; color:white;}</style>\n",
       "<html><table>\n",
       "\t<tr id=\"HeaderRow\">\n",
       "\t\t<th>func</th>\n",
       "\t\t<th>Weight</th>\n",
       "\t\t<th>Length1</th>\n",
       "\t\t<th>Length2</th>\n",
       "\t\t<th>Length3</th>\n",
       "\t\t<th>Height</th>\n",
       "\t\t<th>Width</th>\n",
       "\t</tr>\n",
       "\t<tr>\n",
       "\t\t<td>min</td>\n",
       "\t\t<td>0</td>\n",
       "\t\t<td>9.3</td>\n",
       "\t\t<td>9.8</td>\n",
       "\t\t<td>10.8</td>\n",
       "\t\t<td>1.739</td>\n",
       "\t\t<td>1.048</td>\n",
       "\t</tr>\n",
       "\t<tr>\n",
       "\t\t<td>std</td>\n",
       "\t\t<td>374.32</td>\n",
       "\t\t<td>10.071</td>\n",
       "\t\t<td>10.809</td>\n",
       "\t\t<td>11.69</td>\n",
       "\t\t<td>4.36</td>\n",
       "\t\t<td>1.715</td>\n",
       "\t</tr>\n",
       "\t<tr>\n",
       "\t\t<td>25%</td>\n",
       "\t\t<td>130</td>\n",
       "\t\t<td>19.55</td>\n",
       "\t\t<td>21.4</td>\n",
       "\t\t<td>23.35</td>\n",
       "\t\t<td>6.192</td>\n",
       "\t\t<td>3.46</td>\n",
       "\t</tr>\n",
       "\t<tr>\n",
       "\t\t<td>50%</td>\n",
       "\t\t<td>300</td>\n",
       "\t\t<td>25.9</td>\n",
       "\t\t<td>28</td>\n",
       "\t\t<td>30.6</td>\n",
       "\t\t<td>8.145</td>\n",
       "\t\t<td>4.368</td>\n",
       "\t</tr>\n",
       "\t<tr>\n",
       "\t\t<td>75%</td>\n",
       "\t\t<td>682.5</td>\n",
       "\t\t<td>33.85</td>\n",
       "\t\t<td>36.45</td>\n",
       "\t\t<td>40.6</td>\n",
       "\t\t<td>12.406</td>\n",
       "\t\t<td>6.036</td>\n",
       "\t</tr>\n",
       "\t<tr>\n",
       "\t\t<td>max</td>\n",
       "\t\t<td>1650</td>\n",
       "\t\t<td>59</td>\n",
       "\t\t<td>63.4</td>\n",
       "\t\t<td>68</td>\n",
       "\t\t<td>18.957</td>\n",
       "\t\t<td>8.142</td>\n",
       "\t</tr>\n",
       "\t<tr>\n",
       "\t\t<td>mean</td>\n",
       "\t\t<td>421.567</td>\n",
       "\t\t<td>26.775</td>\n",
       "\t\t<td>28.978</td>\n",
       "\t\t<td>31.814</td>\n",
       "\t\t<td>9.204</td>\n",
       "\t\t<td>4.521</td>\n",
       "\t</tr>\n",
       "\t<tr>\n",
       "\t\t<td>count</td>\n",
       "\t\t<td>127</td>\n",
       "\t\t<td>127</td>\n",
       "\t\t<td>127</td>\n",
       "\t\t<td>127</td>\n",
       "\t\t<td>127</td>\n",
       "\t\t<td>127</td>\n",
       "\t</tr>\n",
       "</table></html>"
      ],
      "text/plain": [
       "         Weight  Length1  Length2  Length3   Height    Width\n",
       "func                                                        \n",
       "min       0.000    9.300    9.800   10.800    1.739    1.048\n",
       "std     374.320   10.071   10.809   11.690    4.360    1.715\n",
       "25%     130.000   19.550   21.400   23.350    6.192    3.460\n",
       "50%     300.000   25.900   28.000   30.600    8.145    4.368\n",
       "75%     682.500   33.850   36.450   40.600   12.406    6.036\n",
       "max    1650.000   59.000   63.400   68.000   18.957    8.142\n",
       "mean    421.567   26.775   28.978   31.814    9.204    4.521\n",
       "count   127.000  127.000  127.000  127.000  127.000  127.000"
      ]
     },
     "metadata": {},
     "output_type": "display_data"
    },
    {
     "name": "stdout",
     "output_type": "stream",
     "text": [
      "\n",
      "Categorical Columns with their Distinct values:\n",
      "ColumnName                DistinctValueCount\n",
      "Species                   7         \n",
      "\n",
      "No Futile columns found.\n",
      "\n",
      "Target Column Distribution:\n"
     ]
    },
    {
     "data": {
      "image/png": "[encoded data removed]",
      "text/plain": [
       "<Figure size 800x600 with 1 Axes>"
      ]
     },
     "metadata": {},
     "output_type": "display_data"
    },
    {
     "name": "stdout",
     "output_type": "stream",
     "text": [
      "Columns with outlier percentage :-                                                                                                                                                                                                                                                                                                                                                                                                                                                                                  \n",
      "  ColumnName  OutlierPercentage\n",
      "0    Length2           2.362205\n",
      "1    Length3           0.787402\n",
      "2    Length1           0.787402\n",
      "3     Weight           2.362205\n",
      "                                                                                        \r"
     ]
    },
    {
     "data": {
      "text/html": [
       "\n",
       "            <style>\n",
       "                .custom-div {\n",
       "                    background-color: lightgray;\n",
       "                    color: #000000;\n",
       "                    padding: 10px;\n",
       "                    border-radius: 8px;\n",
       "                    box-shadow: 0 3px 4px rgba(0 -  0 -  0 -  0.2);\n",
       "                    margin-bottom: 10px;\n",
       "                    text-align: center;\n",
       "                }\n",
       "            </style>\n",
       "        <br><div class=\"custom-div\"><h3><span style=\"color: green;\">1. Feature Exploration -></span> 2. Feature Engineering -> 3. Data Preparation -> 4. Model Training & Evaluation<center></h3></center></div>"
      ],
      "text/plain": [
       "<IPython.core.display.HTML object>"
      ]
     },
     "metadata": {},
     "output_type": "display_data"
    },
    {
     "name": "stdout",
     "output_type": "stream",
     "text": [
      "                                                                                        \r"
     ]
    },
    {
     "data": {
      "text/html": [
       "Feature Engineering started ..."
      ],
      "text/plain": [
       "<IPython.core.display.HTML object>"
      ]
     },
     "metadata": {},
     "output_type": "display_data"
    },
    {
     "name": "stdout",
     "output_type": "stream",
     "text": [
      "                                                                                        \r"
     ]
    },
    {
     "data": {
      "text/html": [
       "\n",
       "Handling duplicate records present in dataset ..."
      ],
      "text/plain": [
       "<IPython.core.display.HTML object>"
      ]
     },
     "metadata": {},
     "output_type": "display_data"
    },
    {
     "name": "stdout",
     "output_type": "stream",
     "text": [
      "Analysis complete. No action taken.                                                     \n",
      "                                                                                        \r"
     ]
    },
    {
     "data": {
      "text/html": [
       "Total time to handle duplicate records: 1.73 sec  "
      ],
      "text/plain": [
       "<IPython.core.display.HTML object>"
      ]
     },
     "metadata": {},
     "output_type": "display_data"
    },
    {
     "name": "stdout",
     "output_type": "stream",
     "text": [
      "                                                                                        \r"
     ]
    },
    {
     "data": {
      "text/html": [
       "\n",
       "Handling less significant features from data ..."
      ],
      "text/plain": [
       "<IPython.core.display.HTML object>"
      ]
     },
     "metadata": {},
     "output_type": "display_data"
    },
    {
     "name": "stdout",
     "output_type": "stream",
     "text": [
      "All categorical columns seem to be significant.                                         \n",
      "                                                                                        \r"
     ]
    },
    {
     "data": {
      "text/html": [
       "Total time to handle less significant features: 17.72 sec  "
      ],
      "text/plain": [
       "<IPython.core.display.HTML object>"
      ]
     },
     "metadata": {},
     "output_type": "display_data"
    },
    {
     "name": "stdout",
     "output_type": "stream",
     "text": [
      "                                                                                        \r"
     ]
    },
    {
     "data": {
      "text/html": [
       "\n",
       "Handling Date Features ..."
      ],
      "text/plain": [
       "<IPython.core.display.HTML object>"
      ]
     },
     "metadata": {},
     "output_type": "display_data"
    },
    {
     "name": "stdout",
     "output_type": "stream",
     "text": [
      "Dataset does not contain any feature related to dates.                                  \n",
      "                                                                                        \r"
     ]
    },
    {
     "data": {
      "text/html": [
       "Total time to handle date features: 0.00 sec\n"
      ],
      "text/plain": [
       "<IPython.core.display.HTML object>"
      ]
     },
     "metadata": {},
     "output_type": "display_data"
    },
    {
     "name": "stdout",
     "output_type": "stream",
     "text": [
      "Proceeding with default option for missing value imputation.                             \n",
      "Proceeding with default option for handling remaining missing values.                    \n",
      "                                                                                         \r"
     ]
    },
    {
     "data": {
      "text/html": [
       "\n",
       "Checking Missing values in dataset ..."
      ],
      "text/plain": [
       "<IPython.core.display.HTML object>"
      ]
     },
     "metadata": {},
     "output_type": "display_data"
    },
    {
     "name": "stdout",
     "output_type": "stream",
     "text": [
      "No Missing Values Detected.                                                              \n",
      "                                                                                         \r"
     ]
    },
    {
     "data": {
      "text/html": [
       "Total time to find missing values in data: 8.04 sec  "
      ],
      "text/plain": [
       "<IPython.core.display.HTML object>"
      ]
     },
     "metadata": {},
     "output_type": "display_data"
    },
    {
     "name": "stdout",
     "output_type": "stream",
     "text": [
      "                                                                                         \r"
     ]
    },
    {
     "data": {
      "text/html": [
       "\n",
       "Imputing Missing Values ..."
      ],
      "text/plain": [
       "<IPython.core.display.HTML object>"
      ]
     },
     "metadata": {},
     "output_type": "display_data"
    },
    {
     "name": "stdout",
     "output_type": "stream",
     "text": [
      "No imputation is Required.                                                               \n",
      "                                                                                         \r"
     ]
    },
    {
     "data": {
      "text/html": [
       "Time taken to perform imputation: 0.00 sec  "
      ],
      "text/plain": [
       "<IPython.core.display.HTML object>"
      ]
     },
     "metadata": {},
     "output_type": "display_data"
    },
    {
     "name": "stdout",
     "output_type": "stream",
     "text": [
      "No information provided for Variable-Width Transformation.                               \n",
      "Skipping customized string manipulation.⫾⫾⫾⫾⫾⫾⫾⫾⫾⫾⫾⫾⫾⫾⫾⫾⫾⫾⫾⫾⫾⫾⫾⫾⫾⫾⫾⫾⫾⫾⫾⫾⫾⫾⫾⫾⫾｜ 22% - 5/22\n",
      "                                                                                         \r"
     ]
    },
    {
     "data": {
      "text/html": [
       "\n",
       "Starting Customized Categorical Feature Encoding ..."
      ],
      "text/plain": [
       "<IPython.core.display.HTML object>"
      ]
     },
     "metadata": {},
     "output_type": "display_data"
    },
    {
     "name": "stdout",
     "output_type": "stream",
     "text": [
      "AutoML will proceed with default encoding technique.                                     \n",
      "                                                                                         \r"
     ]
    },
    {
     "data": {
      "text/html": [
       "\n",
       "Performing encoding for categorical columns ..."
      ],
      "text/plain": [
       "<IPython.core.display.HTML object>"
      ]
     },
     "metadata": {},
     "output_type": "display_data"
    },
    {
     "name": "stdout",
     "output_type": "stream",
     "text": [
      "result data stored in table '\"AUTOML_USR\".\"ml__td_sqlmr_persist_out__171291122693460\"'/22\n",
      "                                                                                         \r"
     ]
    },
    {
     "data": {
      "text/html": [
       "ONE HOT Encoding these Columns:"
      ],
      "text/plain": [
       "<IPython.core.display.HTML object>"
      ]
     },
     "metadata": {},
     "output_type": "display_data"
    },
    {
     "name": "stdout",
     "output_type": "stream",
     "text": [
      "['Species']\n",
      "                                                                                         \r"
     ]
    },
    {
     "data": {
      "text/html": [
       "Time taken to encode the columns: 13.04 sec"
      ],
      "text/plain": [
       "<IPython.core.display.HTML object>"
      ]
     },
     "metadata": {},
     "output_type": "display_data"
    },
    {
     "name": "stdout",
     "output_type": "stream",
     "text": [
      "                                                                                         \r"
     ]
    },
    {
     "data": {
      "text/html": [
       "\n",
       "Starting customized mathematical transformation ..."
      ],
      "text/plain": [
       "<IPython.core.display.HTML object>"
      ]
     },
     "metadata": {},
     "output_type": "display_data"
    },
    {
     "name": "stdout",
     "output_type": "stream",
     "text": [
      "Skipping customized mathematical transformation.                                         \n",
      "                                                                                         \r"
     ]
    },
    {
     "data": {
      "text/html": [
       "\n",
       "Starting customized non-linear transformation ..."
      ],
      "text/plain": [
       "<IPython.core.display.HTML object>"
      ]
     },
     "metadata": {},
     "output_type": "display_data"
    },
    {
     "name": "stdout",
     "output_type": "stream",
     "text": [
      "Skipping customized non-linear transformation.                                           \n",
      "                                                                                         \r"
     ]
    },
    {
     "data": {
      "text/html": [
       "\n",
       "Starting customized anti-select columns ..."
      ],
      "text/plain": [
       "<IPython.core.display.HTML object>"
      ]
     },
     "metadata": {},
     "output_type": "display_data"
    },
    {
     "name": "stdout",
     "output_type": "stream",
     "text": [
      "Skipping customized anti-select columns.                                                 \n",
      "                                                                                          \r"
     ]
    },
    {
     "data": {
      "text/html": [
       "\n",
       "            <style>\n",
       "                .custom-div {\n",
       "                    background-color: lightgray;\n",
       "                    color: #000000;\n",
       "                    padding: 10px;\n",
       "                    border-radius: 8px;\n",
       "                    box-shadow: 0 3px 4px rgba(0 -  0 -  0 -  0.2);\n",
       "                    margin-bottom: 10px;\n",
       "                    text-align: center;\n",
       "                }\n",
       "            </style>\n",
       "        <br><div class=\"custom-div\"><h3><span style=\"color: green;\">1. Feature Exploration -> 2. Feature Engineering -></span> 3. Data Preparation -> 4. Model Training & Evaluation<center></h3></center></div>"
      ],
      "text/plain": [
       "<IPython.core.display.HTML object>"
      ]
     },
     "metadata": {},
     "output_type": "display_data"
    },
    {
     "name": "stdout",
     "output_type": "stream",
     "text": [
      "                                                                                          \r"
     ]
    },
    {
     "data": {
      "text/html": [
       "Data preparation started ..."
      ],
      "text/plain": [
       "<IPython.core.display.HTML object>"
      ]
     },
     "metadata": {},
     "output_type": "display_data"
    },
    {
     "name": "stdout",
     "output_type": "stream",
     "text": [
      "                                                                                          \r"
     ]
    },
    {
     "data": {
      "text/html": [
       "\n",
       "Spliting of dataset into training and testing ..."
      ],
      "text/plain": [
       "<IPython.core.display.HTML object>"
      ]
     },
     "metadata": {},
     "output_type": "display_data"
    },
    {
     "name": "stdout",
     "output_type": "stream",
     "text": [
      "Training size : 0.7                                                                       \n",
      "Testing size  : 0.3                                                                       \n",
      "                                                                                          \r"
     ]
    },
    {
     "data": {
      "text/html": [
       "Training data sample"
      ],
      "text/plain": [
       "<IPython.core.display.HTML object>"
      ]
     },
     "metadata": {},
     "output_type": "display_data"
    },
    {
     "data": {
      "text/html": [
       "<style type=\"text/css\">\n",
       "\ttable {border:ridge 5px;}\n",
       "\ttable td {border:inset 1px;}\n",
       "\ttable tr#HeaderRow {background-color:grey; color:white;}</style>\n",
       "<html><table>\n",
       "\t<tr id=\"HeaderRow\">\n",
       "\t\t<th>Species_0</th>\n",
       "\t\t<th>Species_1</th>\n",
       "\t\t<th>Species_2</th>\n",
       "\t\t<th>Species_3</th>\n",
       "\t\t<th>Species_4</th>\n",
       "\t\t<th>Species_5</th>\n",
       "\t\t<th>Species_6</th>\n",
       "\t\t<th>Weight</th>\n",
       "\t\t<th>Length1</th>\n",
       "\t\t<th>Length2</th>\n",
       "\t\t<th>Length3</th>\n",
       "\t\t<th>Height</th>\n",
       "\t\t<th>Width</th>\n",
       "\t\t<th>id</th>\n",
       "\t</tr>\n",
       "\t<tr>\n",
       "\t\t<td>1</td>\n",
       "\t\t<td>0</td>\n",
       "\t\t<td>0</td>\n",
       "\t\t<td>0</td>\n",
       "\t\t<td>0</td>\n",
       "\t\t<td>0</td>\n",
       "\t\t<td>0</td>\n",
       "\t\t<td>620</td>\n",
       "\t\t<td>31.5</td>\n",
       "\t\t<td>34.5</td>\n",
       "\t\t<td>39.7</td>\n",
       "\t\t<td>15.5227</td>\n",
       "\t\t<td>5.2801</td>\n",
       "\t\t<td>58</td>\n",
       "\t</tr>\n",
       "\t<tr>\n",
       "\t\t<td>1</td>\n",
       "\t\t<td>0</td>\n",
       "\t\t<td>0</td>\n",
       "\t\t<td>0</td>\n",
       "\t\t<td>0</td>\n",
       "\t\t<td>0</td>\n",
       "\t\t<td>0</td>\n",
       "\t\t<td>850</td>\n",
       "\t\t<td>32.8</td>\n",
       "\t\t<td>36.0</td>\n",
       "\t\t<td>41.6</td>\n",
       "\t\t<td>16.8896</td>\n",
       "\t\t<td>6.1984</td>\n",
       "\t\t<td>74</td>\n",
       "\t</tr>\n",
       "\t<tr>\n",
       "\t\t<td>1</td>\n",
       "\t\t<td>0</td>\n",
       "\t\t<td>0</td>\n",
       "\t\t<td>0</td>\n",
       "\t\t<td>0</td>\n",
       "\t\t<td>0</td>\n",
       "\t\t<td>0</td>\n",
       "\t\t<td>500</td>\n",
       "\t\t<td>28.5</td>\n",
       "\t\t<td>30.7</td>\n",
       "\t\t<td>36.2</td>\n",
       "\t\t<td>14.2266</td>\n",
       "\t\t<td>4.9594</td>\n",
       "\t\t<td>82</td>\n",
       "\t</tr>\n",
       "\t<tr>\n",
       "\t\t<td>1</td>\n",
       "\t\t<td>0</td>\n",
       "\t\t<td>0</td>\n",
       "\t\t<td>0</td>\n",
       "\t\t<td>0</td>\n",
       "\t\t<td>0</td>\n",
       "\t\t<td>0</td>\n",
       "\t\t<td>500</td>\n",
       "\t\t<td>28.7</td>\n",
       "\t\t<td>31.0</td>\n",
       "\t\t<td>36.2</td>\n",
       "\t\t<td>14.3714</td>\n",
       "\t\t<td>4.8146</td>\n",
       "\t\t<td>90</td>\n",
       "\t</tr>\n",
       "\t<tr>\n",
       "\t\t<td>1</td>\n",
       "\t\t<td>0</td>\n",
       "\t\t<td>0</td>\n",
       "\t\t<td>0</td>\n",
       "\t\t<td>0</td>\n",
       "\t\t<td>0</td>\n",
       "\t\t<td>0</td>\n",
       "\t\t<td>363</td>\n",
       "\t\t<td>26.3</td>\n",
       "\t\t<td>29.0</td>\n",
       "\t\t<td>33.5</td>\n",
       "\t\t<td>12.73</td>\n",
       "\t\t<td>4.4555</td>\n",
       "\t\t<td>106</td>\n",
       "\t</tr>\n",
       "\t<tr>\n",
       "\t\t<td>1</td>\n",
       "\t\t<td>0</td>\n",
       "\t\t<td>0</td>\n",
       "\t\t<td>0</td>\n",
       "\t\t<td>0</td>\n",
       "\t\t<td>0</td>\n",
       "\t\t<td>0</td>\n",
       "\t\t<td>685</td>\n",
       "\t\t<td>31.4</td>\n",
       "\t\t<td>34.0</td>\n",
       "\t\t<td>39.2</td>\n",
       "\t\t<td>15.9936</td>\n",
       "\t\t<td>5.3704</td>\n",
       "\t\t<td>114</td>\n",
       "\t</tr>\n",
       "\t<tr>\n",
       "\t\t<td>0</td>\n",
       "\t\t<td>1</td>\n",
       "\t\t<td>0</td>\n",
       "\t\t<td>0</td>\n",
       "\t\t<td>0</td>\n",
       "\t\t<td>0</td>\n",
       "\t\t<td>0</td>\n",
       "\t\t<td>120</td>\n",
       "\t\t<td>17.5</td>\n",
       "\t\t<td>19.0</td>\n",
       "\t\t<td>21.3</td>\n",
       "\t\t<td>8.3922</td>\n",
       "\t\t<td>2.9181</td>\n",
       "\t\t<td>8</td>\n",
       "\t</tr>\n",
       "\t<tr>\n",
       "\t\t<td>0</td>\n",
       "\t\t<td>0</td>\n",
       "\t\t<td>0</td>\n",
       "\t\t<td>0</td>\n",
       "\t\t<td>0</td>\n",
       "\t\t<td>1</td>\n",
       "\t\t<td>0</td>\n",
       "\t\t<td>8</td>\n",
       "\t\t<td>10.8</td>\n",
       "\t\t<td>11.3</td>\n",
       "\t\t<td>12.6</td>\n",
       "\t\t<td>1.9782</td>\n",
       "\t\t<td>1.2852</td>\n",
       "\t\t<td>15</td>\n",
       "\t</tr>\n",
       "\t<tr>\n",
       "\t\t<td>0</td>\n",
       "\t\t<td>0</td>\n",
       "\t\t<td>0</td>\n",
       "\t\t<td>1</td>\n",
       "\t\t<td>0</td>\n",
       "\t\t<td>0</td>\n",
       "\t\t<td>0</td>\n",
       "\t\t<td>345</td>\n",
       "\t\t<td>36.0</td>\n",
       "\t\t<td>38.5</td>\n",
       "\t\t<td>41.0</td>\n",
       "\t\t<td>6.396</td>\n",
       "\t\t<td>3.977</td>\n",
       "\t\t<td>21</td>\n",
       "\t</tr>\n",
       "\t<tr>\n",
       "\t\t<td>0</td>\n",
       "\t\t<td>0</td>\n",
       "\t\t<td>0</td>\n",
       "\t\t<td>0</td>\n",
       "\t\t<td>0</td>\n",
       "\t\t<td>1</td>\n",
       "\t\t<td>0</td>\n",
       "\t\t<td>9</td>\n",
       "\t\t<td>11.3</td>\n",
       "\t\t<td>11.8</td>\n",
       "\t\t<td>13.1</td>\n",
       "\t\t<td>2.2139</td>\n",
       "\t\t<td>1.1659</td>\n",
       "\t\t<td>23</td>\n",
       "\t</tr>\n",
       "</table></html>"
      ],
      "text/plain": [
       "   Species_0  Species_1  Species_2  Species_3  Species_4  Species_5  Species_6  Weight  Length1  Length2  Length3   Height   Width   id\n",
       "0          1          0          0          0          0          0          0     620     31.5     34.5     39.7  15.5227  5.2801   58\n",
       "1          1          0          0          0          0          0          0     850     32.8     36.0     41.6  16.8896  6.1984   74\n",
       "2          1          0          0          0          0          0          0     500     28.5     30.7     36.2  14.2266  4.9594   82\n",
       "3          1          0          0          0          0          0          0     500     28.7     31.0     36.2  14.3714  4.8146   90\n",
       "4          1          0          0          0          0          0          0     363     26.3     29.0     33.5  12.7300  4.4555  106\n",
       "5          1          0          0          0          0          0          0     685     31.4     34.0     39.2  15.9936  5.3704  114\n",
       "6          0          1          0          0          0          0          0     120     17.5     19.0     21.3   8.3922  2.9181    8\n",
       "7          0          0          0          0          0          1          0       8     10.8     11.3     12.6   1.9782  1.2852   15\n",
       "8          0          0          0          1          0          0          0     345     36.0     38.5     41.0   6.3960  3.9770   21\n",
       "9          0          0          0          0          0          1          0       9     11.3     11.8     13.1   2.2139  1.1659   23"
      ]
     },
     "metadata": {},
     "output_type": "display_data"
    },
    {
     "name": "stdout",
     "output_type": "stream",
     "text": [
      "                                                                                          \r"
     ]
    },
    {
     "data": {
      "text/html": [
       "Testing data sample"
      ],
      "text/plain": [
       "<IPython.core.display.HTML object>"
      ]
     },
     "metadata": {},
     "output_type": "display_data"
    },
    {
     "data": {
      "text/html": [
       "<style type=\"text/css\">\n",
       "\ttable {border:ridge 5px;}\n",
       "\ttable td {border:inset 1px;}\n",
       "\ttable tr#HeaderRow {background-color:grey; color:white;}</style>\n",
       "<html><table>\n",
       "\t<tr id=\"HeaderRow\">\n",
       "\t\t<th>Species_0</th>\n",
       "\t\t<th>Species_1</th>\n",
       "\t\t<th>Species_2</th>\n",
       "\t\t<th>Species_3</th>\n",
       "\t\t<th>Species_4</th>\n",
       "\t\t<th>Species_5</th>\n",
       "\t\t<th>Species_6</th>\n",
       "\t\t<th>Weight</th>\n",
       "\t\t<th>Length1</th>\n",
       "\t\t<th>Length2</th>\n",
       "\t\t<th>Length3</th>\n",
       "\t\t<th>Height</th>\n",
       "\t\t<th>Width</th>\n",
       "\t\t<th>id</th>\n",
       "\t</tr>\n",
       "\t<tr>\n",
       "\t\t<td>1</td>\n",
       "\t\t<td>0</td>\n",
       "\t\t<td>0</td>\n",
       "\t\t<td>0</td>\n",
       "\t\t<td>0</td>\n",
       "\t\t<td>0</td>\n",
       "\t\t<td>0</td>\n",
       "\t\t<td>700</td>\n",
       "\t\t<td>30.4</td>\n",
       "\t\t<td>33.0</td>\n",
       "\t\t<td>38.5</td>\n",
       "\t\t<td>14.938</td>\n",
       "\t\t<td>5.1975</td>\n",
       "\t\t<td>42</td>\n",
       "\t</tr>\n",
       "\t<tr>\n",
       "\t\t<td>1</td>\n",
       "\t\t<td>0</td>\n",
       "\t\t<td>0</td>\n",
       "\t\t<td>0</td>\n",
       "\t\t<td>0</td>\n",
       "\t\t<td>0</td>\n",
       "\t\t<td>0</td>\n",
       "\t\t<td>975</td>\n",
       "\t\t<td>37.4</td>\n",
       "\t\t<td>41.0</td>\n",
       "\t\t<td>45.9</td>\n",
       "\t\t<td>18.6354</td>\n",
       "\t\t<td>6.7473</td>\n",
       "\t\t<td>122</td>\n",
       "\t</tr>\n",
       "\t<tr>\n",
       "\t\t<td>1</td>\n",
       "\t\t<td>0</td>\n",
       "\t\t<td>0</td>\n",
       "\t\t<td>0</td>\n",
       "\t\t<td>0</td>\n",
       "\t\t<td>0</td>\n",
       "\t\t<td>0</td>\n",
       "\t\t<td>714</td>\n",
       "\t\t<td>32.7</td>\n",
       "\t\t<td>36.0</td>\n",
       "\t\t<td>41.5</td>\n",
       "\t\t<td>16.517</td>\n",
       "\t\t<td>5.8515</td>\n",
       "\t\t<td>154</td>\n",
       "\t</tr>\n",
       "\t<tr>\n",
       "\t\t<td>1</td>\n",
       "\t\t<td>0</td>\n",
       "\t\t<td>0</td>\n",
       "\t\t<td>0</td>\n",
       "\t\t<td>0</td>\n",
       "\t\t<td>0</td>\n",
       "\t\t<td>0</td>\n",
       "\t\t<td>600</td>\n",
       "\t\t<td>29.4</td>\n",
       "\t\t<td>32.0</td>\n",
       "\t\t<td>37.2</td>\n",
       "\t\t<td>14.9544</td>\n",
       "\t\t<td>5.1708</td>\n",
       "\t\t<td>186</td>\n",
       "\t</tr>\n",
       "\t<tr>\n",
       "\t\t<td>1</td>\n",
       "\t\t<td>0</td>\n",
       "\t\t<td>0</td>\n",
       "\t\t<td>0</td>\n",
       "\t\t<td>0</td>\n",
       "\t\t<td>0</td>\n",
       "\t\t<td>0</td>\n",
       "\t\t<td>725</td>\n",
       "\t\t<td>31.8</td>\n",
       "\t\t<td>35.0</td>\n",
       "\t\t<td>40.9</td>\n",
       "\t\t<td>16.36</td>\n",
       "\t\t<td>6.0532</td>\n",
       "\t\t<td>202</td>\n",
       "\t</tr>\n",
       "\t<tr>\n",
       "\t\t<td>0</td>\n",
       "\t\t<td>0</td>\n",
       "\t\t<td>0</td>\n",
       "\t\t<td>0</td>\n",
       "\t\t<td>1</td>\n",
       "\t\t<td>0</td>\n",
       "\t\t<td>0</td>\n",
       "\t\t<td>145</td>\n",
       "\t\t<td>20.5</td>\n",
       "\t\t<td>22.0</td>\n",
       "\t\t<td>24.3</td>\n",
       "\t\t<td>6.6339</td>\n",
       "\t\t<td>3.5478</td>\n",
       "\t\t<td>12</td>\n",
       "\t</tr>\n",
       "\t<tr>\n",
       "\t\t<td>0</td>\n",
       "\t\t<td>0</td>\n",
       "\t\t<td>0</td>\n",
       "\t\t<td>1</td>\n",
       "\t\t<td>0</td>\n",
       "\t\t<td>0</td>\n",
       "\t\t<td>0</td>\n",
       "\t\t<td>500</td>\n",
       "\t\t<td>42.0</td>\n",
       "\t\t<td>45.0</td>\n",
       "\t\t<td>48.0</td>\n",
       "\t\t<td>6.96</td>\n",
       "\t\t<td>4.896</td>\n",
       "\t\t<td>13</td>\n",
       "\t</tr>\n",
       "\t<tr>\n",
       "\t\t<td>0</td>\n",
       "\t\t<td>1</td>\n",
       "\t\t<td>0</td>\n",
       "\t\t<td>0</td>\n",
       "\t\t<td>0</td>\n",
       "\t\t<td>0</td>\n",
       "\t\t<td>0</td>\n",
       "\t\t<td>90</td>\n",
       "\t\t<td>16.3</td>\n",
       "\t\t<td>17.7</td>\n",
       "\t\t<td>19.8</td>\n",
       "\t\t<td>7.4052</td>\n",
       "\t\t<td>2.673</td>\n",
       "\t\t<td>16</td>\n",
       "\t</tr>\n",
       "\t<tr>\n",
       "\t\t<td>0</td>\n",
       "\t\t<td>0</td>\n",
       "\t\t<td>0</td>\n",
       "\t\t<td>0</td>\n",
       "\t\t<td>1</td>\n",
       "\t\t<td>0</td>\n",
       "\t\t<td>0</td>\n",
       "\t\t<td>150</td>\n",
       "\t\t<td>20.4</td>\n",
       "\t\t<td>22.0</td>\n",
       "\t\t<td>24.7</td>\n",
       "\t\t<td>5.8045</td>\n",
       "\t\t<td>3.7544</td>\n",
       "\t\t<td>20</td>\n",
       "\t</tr>\n",
       "\t<tr>\n",
       "\t\t<td>0</td>\n",
       "\t\t<td>0</td>\n",
       "\t\t<td>0</td>\n",
       "\t\t<td>1</td>\n",
       "\t\t<td>0</td>\n",
       "\t\t<td>0</td>\n",
       "\t\t<td>0</td>\n",
       "\t\t<td>567</td>\n",
       "\t\t<td>43.2</td>\n",
       "\t\t<td>46.0</td>\n",
       "\t\t<td>48.7</td>\n",
       "\t\t<td>7.792</td>\n",
       "\t\t<td>4.87</td>\n",
       "\t\t<td>37</td>\n",
       "\t</tr>\n",
       "</table></html>"
      ],
      "text/plain": [
       "   Species_0  Species_1  Species_2  Species_3  Species_4  Species_5  Species_6  Weight  Length1  Length2  Length3   Height   Width   id\n",
       "0          1          0          0          0          0          0          0     700     30.4     33.0     38.5  14.9380  5.1975   42\n",
       "1          1          0          0          0          0          0          0     975     37.4     41.0     45.9  18.6354  6.7473  122\n",
       "2          1          0          0          0          0          0          0     714     32.7     36.0     41.5  16.5170  5.8515  154\n",
       "3          1          0          0          0          0          0          0     600     29.4     32.0     37.2  14.9544  5.1708  186\n",
       "4          1          0          0          0          0          0          0     725     31.8     35.0     40.9  16.3600  6.0532  202\n",
       "5          0          0          0          0          1          0          0     145     20.5     22.0     24.3   6.6339  3.5478   12\n",
       "6          0          0          0          1          0          0          0     500     42.0     45.0     48.0   6.9600  4.8960   13\n",
       "7          0          1          0          0          0          0          0      90     16.3     17.7     19.8   7.4052  2.6730   16\n",
       "8          0          0          0          0          1          0          0     150     20.4     22.0     24.7   5.8045  3.7544   20\n",
       "9          0          0          0          1          0          0          0     567     43.2     46.0     48.7   7.7920  4.8700   37"
      ]
     },
     "metadata": {},
     "output_type": "display_data"
    },
    {
     "name": "stdout",
     "output_type": "stream",
     "text": [
      "                                                                                          \r"
     ]
    },
    {
     "data": {
      "text/html": [
       "Time taken for spliting of data: 9.60 sec  "
      ],
      "text/plain": [
       "<IPython.core.display.HTML object>"
      ]
     },
     "metadata": {},
     "output_type": "display_data"
    },
    {
     "name": "stdout",
     "output_type": "stream",
     "text": [
      "                                                                                          \r"
     ]
    },
    {
     "data": {
      "text/html": [
       "\n",
       "Starting customized outlier processing ..."
      ],
      "text/plain": [
       "<IPython.core.display.HTML object>"
      ]
     },
     "metadata": {},
     "output_type": "display_data"
    },
    {
     "name": "stdout",
     "output_type": "stream",
     "text": [
      "Columns with outlier percentage :-                                                                                                                                                                                                                                                                                                                                                                                                                                                                                  \n",
      "  ColumnName  OutlierPercentage\n",
      "0    Length2           8.661417\n",
      "1         id           9.448819\n",
      "2     Weight           7.874016\n",
      "3    Length3           8.661417\n",
      "4      Width           9.448819\n",
      "5    Length1           8.661417\n",
      "6     Height           9.448819\n",
      "result data stored in table '\"AUTOML_USR\".\"ml__td_sqlmr_persist_out__171283872122753\"'\n",
      "result data stored in table '\"AUTOML_USR\".\"ml__td_sqlmr_persist_out__171283643494990\"'2/22\n",
      "result data stored in table '\"AUTOML_USR\".\"ml__td_sqlmr_persist_out__171282599531135\"'\n",
      "                                                                                          \r"
     ]
    },
    {
     "data": {
      "text/html": [
       "\n",
       "Feature selection using lasso ..."
      ],
      "text/plain": [
       "<IPython.core.display.HTML object>"
      ]
     },
     "metadata": {},
     "output_type": "display_data"
    },
    {
     "name": "stdout",
     "output_type": "stream",
     "text": [
      "                                                                                          \r"
     ]
    },
    {
     "data": {
      "text/html": [
       "feature selected by lasso:"
      ],
      "text/plain": [
       "<IPython.core.display.HTML object>"
      ]
     },
     "metadata": {},
     "output_type": "display_data"
    },
    {
     "name": "stdout",
     "output_type": "stream",
     "text": [
      "['Species_3', 'Species_2', 'Species_0', 'Species_5', 'Species_4', 'Length1', 'Length2', 'Length3', 'Height', 'Width']\n",
      "                                                                                          \r"
     ]
    },
    {
     "data": {
      "text/html": [
       "Total time taken by feature selection: 0.82 sec  "
      ],
      "text/plain": [
       "<IPython.core.display.HTML object>"
      ]
     },
     "metadata": {},
     "output_type": "display_data"
    },
    {
     "name": "stdout",
     "output_type": "stream",
     "text": [
      "                                                                                          \r"
     ]
    },
    {
     "data": {
      "text/html": [
       "\n",
       "scaling Features of lasso data ..."
      ],
      "text/plain": [
       "<IPython.core.display.HTML object>"
      ]
     },
     "metadata": {},
     "output_type": "display_data"
    },
    {
     "name": "stdout",
     "output_type": "stream",
     "text": [
      "                                                                                          \r"
     ]
    },
    {
     "data": {
      "text/html": [
       "columns that will be scaled: "
      ],
      "text/plain": [
       "<IPython.core.display.HTML object>"
      ]
     },
     "metadata": {},
     "output_type": "display_data"
    },
    {
     "name": "stdout",
     "output_type": "stream",
     "text": [
      "['Length1', 'Length2', 'Length3', 'Height', 'Width']\n",
      "                                                                                          \r"
     ]
    },
    {
     "data": {
      "text/html": [
       "Training dataset sample after scaling:"
      ],
      "text/plain": [
       "<IPython.core.display.HTML object>"
      ]
     },
     "metadata": {},
     "output_type": "display_data"
    },
    {
     "data": {
      "text/html": [
       "<style type=\"text/css\">\n",
       "\ttable {border:ridge 5px;}\n",
       "\ttable td {border:inset 1px;}\n",
       "\ttable tr#HeaderRow {background-color:grey; color:white;}</style>\n",
       "<html><table>\n",
       "\t<tr id=\"HeaderRow\">\n",
       "\t\t<th>Weight</th>\n",
       "\t\t<th>Species_3</th>\n",
       "\t\t<th>Species_2</th>\n",
       "\t\t<th>Species_0</th>\n",
       "\t\t<th>Species_5</th>\n",
       "\t\t<th>id</th>\n",
       "\t\t<th>Species_4</th>\n",
       "\t\t<th>Length1</th>\n",
       "\t\t<th>Length2</th>\n",
       "\t\t<th>Length3</th>\n",
       "\t\t<th>Height</th>\n",
       "\t\t<th>Width</th>\n",
       "\t</tr>\n",
       "\t<tr>\n",
       "\t\t<td>120</td>\n",
       "\t\t<td>0</td>\n",
       "\t\t<td>0</td>\n",
       "\t\t<td>0</td>\n",
       "\t\t<td>0</td>\n",
       "\t\t<td>8</td>\n",
       "\t\t<td>0</td>\n",
       "\t\t<td>-0.8375067087381018</td>\n",
       "\t\t<td>-1.0457116607777026</td>\n",
       "\t\t<td>-0.8200408088446093</td>\n",
       "\t\t<td>-0.1309595519561692</td>\n",
       "\t\t<td>-0.8421577312987043</td>\n",
       "\t</tr>\n",
       "\t<tr>\n",
       "\t\t<td>1100</td>\n",
       "\t\t<td>0</td>\n",
       "\t\t<td>1</td>\n",
       "\t\t<td>0</td>\n",
       "\t\t<td>0</td>\n",
       "\t\t<td>200</td>\n",
       "\t\t<td>0</td>\n",
       "\t\t<td>1.3570036237234753</td>\n",
       "\t\t<td>1.860648422868184</td>\n",
       "\t\t<td>1.205897597785879</td>\n",
       "\t\t<td>0.8238412300232488</td>\n",
       "\t\t<td>1.7079523106635086</td>\n",
       "\t</tr>\n",
       "\t<tr>\n",
       "\t\t<td>510</td>\n",
       "\t\t<td>1</td>\n",
       "\t\t<td>0</td>\n",
       "\t\t<td>0</td>\n",
       "\t\t<td>0</td>\n",
       "\t\t<td>101</td>\n",
       "\t\t<td>0</td>\n",
       "\t\t<td>1.347293401013468</td>\n",
       "\t\t<td>1.8000992544588947</td>\n",
       "\t\t<td>1.205897597785879</td>\n",
       "\t\t<td>-0.49412820120941414</td>\n",
       "\t\t<td>0.031367202824444614</td>\n",
       "\t</tr>\n",
       "\t<tr>\n",
       "\t\t<td>610</td>\n",
       "\t\t<td>0</td>\n",
       "\t\t<td>0</td>\n",
       "\t\t<td>1</td>\n",
       "\t\t<td>0</td>\n",
       "\t\t<td>162</td>\n",
       "\t\t<td>0</td>\n",
       "\t\t<td>0.463663134402833</td>\n",
       "\t\t<td>0.7102142230916874</td>\n",
       "\t\t<td>0.6282540025069382</td>\n",
       "\t\t<td>1.546957469172528</td>\n",
       "\t\t<td>0.41390638482606784</td>\n",
       "\t</tr>\n",
       "\t<tr>\n",
       "\t\t<td>850</td>\n",
       "\t\t<td>0</td>\n",
       "\t\t<td>1</td>\n",
       "\t\t<td>0</td>\n",
       "\t\t<td>0</td>\n",
       "\t\t<td>232</td>\n",
       "\t\t<td>0</td>\n",
       "\t\t<td>1.0462764970032516</td>\n",
       "\t\t<td>1.4973534124124483</td>\n",
       "\t\t<td>0.9380049159173844</td>\n",
       "\t\t<td>0.6885335639315122</td>\n",
       "\t\t<td>1.5321588898889036</td>\n",
       "\t</tr>\n",
       "\t<tr>\n",
       "\t\t<td>9</td>\n",
       "\t\t<td>0</td>\n",
       "\t\t<td>0</td>\n",
       "\t\t<td>0</td>\n",
       "\t\t<td>1</td>\n",
       "\t\t<td>23</td>\n",
       "\t\t<td>0</td>\n",
       "\t\t<td>-1.4395405167585344</td>\n",
       "\t\t<td>-1.9176196858714685</td>\n",
       "\t\t<td>-1.5065158061326263</td>\n",
       "\t\t<td>-1.5626625035139297</td>\n",
       "\t\t<td>-1.835467089187329</td>\n",
       "\t</tr>\n",
       "\t<tr>\n",
       "\t\t<td>0</td>\n",
       "\t\t<td>0</td>\n",
       "\t\t<td>0</td>\n",
       "\t\t<td>0</td>\n",
       "\t\t<td>0</td>\n",
       "\t\t<td>28</td>\n",
       "\t\t<td>1</td>\n",
       "\t\t<td>-0.6918533680879971</td>\n",
       "\t\t<td>-0.8640641555498346</td>\n",
       "\t\t<td>-0.6944661142187526</td>\n",
       "\t\t<td>-0.5751876661843919</td>\n",
       "\t\t<td>-0.5964097535309159</td>\n",
       "\t</tr>\n",
       "\t<tr>\n",
       "\t\t<td>19</td>\n",
       "\t\t<td>0</td>\n",
       "\t\t<td>0</td>\n",
       "\t\t<td>0</td>\n",
       "\t\t<td>1</td>\n",
       "\t\t<td>79</td>\n",
       "\t\t<td>0</td>\n",
       "\t\t<td>-1.19678494900836</td>\n",
       "\t\t<td>-1.530105008052017</td>\n",
       "\t\t<td>-1.2469947705725222</td>\n",
       "\t\t<td>-1.396210205939526</td>\n",
       "\t\t<td>-1.4311025389179783</td>\n",
       "\t</tr>\n",
       "\t<tr>\n",
       "\t\t<td>9</td>\n",
       "\t\t<td>0</td>\n",
       "\t\t<td>0</td>\n",
       "\t\t<td>0</td>\n",
       "\t\t<td>1</td>\n",
       "\t\t<td>87</td>\n",
       "\t\t<td>0</td>\n",
       "\t\t<td>-1.5269325211485971</td>\n",
       "\t\t<td>-0.10719955043371833</td>\n",
       "\t\t<td>-1.598603915524921</td>\n",
       "\t\t<td>-1.5668104864271721</td>\n",
       "\t\t<td>-1.714095365911473</td>\n",
       "\t</tr>\n",
       "\t<tr>\n",
       "\t\t<td>850</td>\n",
       "\t\t<td>0</td>\n",
       "\t\t<td>0</td>\n",
       "\t\t<td>1</td>\n",
       "\t\t<td>0</td>\n",
       "\t\t<td>74</td>\n",
       "\t\t<td>0</td>\n",
       "\t\t<td>0.6481573658929655</td>\n",
       "\t\t<td>1.0129600651381339</td>\n",
       "\t\t<td>0.8794033917586517</td>\n",
       "\t\t<td>1.838150504299907</td>\n",
       "\t\t<td>1.017420334379903</td>\n",
       "\t</tr>\n",
       "</table></html>"
      ],
      "text/plain": [
       "   Weight  Species_3  Species_2  Species_0  Species_5   id  Species_4   Length1   Length2   Length3    Height     Width\n",
       "0     120          0          0          0          0    8          0 -0.837507 -1.045712 -0.820041 -0.130960 -0.842158\n",
       "1    1100          0          1          0          0  200          0  1.357004  1.860648  1.205898  0.823841  1.707952\n",
       "2     510          1          0          0          0  101          0  1.347293  1.800099  1.205898 -0.494128  0.031367\n",
       "3     610          0          0          1          0  162          0  0.463663  0.710214  0.628254  1.546957  0.413906\n",
       "4     850          0          1          0          0  232          0  1.046276  1.497353  0.938005  0.688534  1.532159\n",
       "5       9          0          0          0          1   23          0 -1.439541 -1.917620 -1.506516 -1.562663 -1.835467\n",
       "6       0          0          0          0          0   28          1 -0.691853 -0.864064 -0.694466 -0.575188 -0.596410\n",
       "7      19          0          0          0          1   79          0 -1.196785 -1.530105 -1.246995 -1.396210 -1.431103\n",
       "8       9          0          0          0          1   87          0 -1.526933 -0.107200 -1.598604 -1.566810 -1.714095\n",
       "9     850          0          0          1          0   74          0  0.648157  1.012960  0.879403  1.838151  1.017420"
      ]
     },
     "metadata": {},
     "output_type": "display_data"
    },
    {
     "name": "stdout",
     "output_type": "stream",
     "text": [
      "                                                                                          \r"
     ]
    },
    {
     "data": {
      "text/html": [
       "Testing dataset sample after scaling:"
      ],
      "text/plain": [
       "<IPython.core.display.HTML object>"
      ]
     },
     "metadata": {},
     "output_type": "display_data"
    },
    {
     "data": {
      "text/html": [
       "<style type=\"text/css\">\n",
       "\ttable {border:ridge 5px;}\n",
       "\ttable td {border:inset 1px;}\n",
       "\ttable tr#HeaderRow {background-color:grey; color:white;}</style>\n",
       "<html><table>\n",
       "\t<tr id=\"HeaderRow\">\n",
       "\t\t<th>Weight</th>\n",
       "\t\t<th>Species_3</th>\n",
       "\t\t<th>Species_2</th>\n",
       "\t\t<th>Species_0</th>\n",
       "\t\t<th>Species_5</th>\n",
       "\t\t<th>id</th>\n",
       "\t\t<th>Species_4</th>\n",
       "\t\t<th>Length1</th>\n",
       "\t\t<th>Length2</th>\n",
       "\t\t<th>Length3</th>\n",
       "\t\t<th>Height</th>\n",
       "\t\t<th>Width</th>\n",
       "\t</tr>\n",
       "\t<tr>\n",
       "\t\t<td>40</td>\n",
       "\t\t<td>0</td>\n",
       "\t\t<td>0</td>\n",
       "\t\t<td>0</td>\n",
       "\t\t<td>0</td>\n",
       "\t\t<td>68</td>\n",
       "\t\t<td>1</td>\n",
       "\t\t<td>-1.2841769533984229</td>\n",
       "\t\t<td>-1.639093511188738</td>\n",
       "\t\t<td>-1.2469947705725222</td>\n",
       "\t\t<td>-1.114657175794878</td>\n",
       "\t\t<td>-1.2106946640480452</td>\n",
       "\t</tr>\n",
       "\t<tr>\n",
       "\t\t<td>1100</td>\n",
       "\t\t<td>0</td>\n",
       "\t\t<td>1</td>\n",
       "\t\t<td>0</td>\n",
       "\t\t<td>0</td>\n",
       "\t\t<td>312</td>\n",
       "\t\t<td>0</td>\n",
       "\t\t<td>1.2501911739133984</td>\n",
       "\t\t<td>1.7395500860496056</td>\n",
       "\t\t<td>1.130552781010365</td>\n",
       "\t\t<td>0.8905102067908336</td>\n",
       "\t\t<td>1.3972384315065887</td>\n",
       "\t</tr>\n",
       "\t<tr>\n",
       "\t\t<td>650</td>\n",
       "\t\t<td>0</td>\n",
       "\t\t<td>1</td>\n",
       "\t\t<td>0</td>\n",
       "\t\t<td>0</td>\n",
       "\t\t<td>208</td>\n",
       "\t\t<td>0</td>\n",
       "\t\t<td>1.007435606163224</td>\n",
       "\t\t<td>1.3762550755938696</td>\n",
       "\t\t<td>0.8626600991418706</td>\n",
       "\t\t<td>0.5050026998372232</td>\n",
       "\t\t<td>0.9066495042626577</td>\n",
       "\t</tr>\n",
       "\t<tr>\n",
       "\t\t<td>1250</td>\n",
       "\t\t<td>1</td>\n",
       "\t\t<td>0</td>\n",
       "\t\t<td>0</td>\n",
       "\t\t<td>0</td>\n",
       "\t\t<td>53</td>\n",
       "\t\t<td>0</td>\n",
       "\t\t<td>2.5125201262143055</td>\n",
       "\t\t<td>3.434926801509706</td>\n",
       "\t\t<td>2.394671373577323</td>\n",
       "\t\t<td>0.40065428051694735</td>\n",
       "\t\t<td>1.4632814289920493</td>\n",
       "\t</tr>\n",
       "\t<tr>\n",
       "\t\t<td>218</td>\n",
       "\t\t<td>0</td>\n",
       "\t\t<td>1</td>\n",
       "\t\t<td>0</td>\n",
       "\t\t<td>0</td>\n",
       "\t\t<td>368</td>\n",
       "\t\t<td>0</td>\n",
       "\t\t<td>-0.10924000548757849</td>\n",
       "\t\t<td>-0.13747413463836297</td>\n",
       "\t\t<td>-0.2591405061824493</td>\n",
       "\t\t<td>-0.41464450627969046</td>\n",
       "\t\t<td>-0.1472039920933252</td>\n",
       "\t</tr>\n",
       "\t<tr>\n",
       "\t\t<td>9</td>\n",
       "\t\t<td>0</td>\n",
       "\t\t<td>0</td>\n",
       "\t\t<td>0</td>\n",
       "\t\t<td>1</td>\n",
       "\t\t<td>55</td>\n",
       "\t\t<td>0</td>\n",
       "\t\t<td>-1.4298302940485275</td>\n",
       "\t\t<td>-1.8934000185077529</td>\n",
       "\t\t<td>-1.4981441598242358</td>\n",
       "\t\t<td>-1.5648639469595054</td>\n",
       "\t\t<td>-1.845387711127205</td>\n",
       "\t</tr>\n",
       "\t<tr>\n",
       "\t\t<td>320</td>\n",
       "\t\t<td>0</td>\n",
       "\t\t<td>1</td>\n",
       "\t\t<td>0</td>\n",
       "\t\t<td>0</td>\n",
       "\t\t<td>336</td>\n",
       "\t\t<td>0</td>\n",
       "\t\t<td>0.16264623039261694</td>\n",
       "\t\t<td>0.2863700442266622</td>\n",
       "\t\t<td>0.0422387609196069</td>\n",
       "\t\t<td>-0.3109217603597363</td>\n",
       "\t\t<td>0.20857785530474637</td>\n",
       "\t</tr>\n",
       "\t<tr>\n",
       "\t\t<td>955</td>\n",
       "\t\t<td>0</td>\n",
       "\t\t<td>0</td>\n",
       "\t\t<td>1</td>\n",
       "\t\t<td>0</td>\n",
       "\t\t<td>26</td>\n",
       "\t\t<td>0</td>\n",
       "\t\t<td>0.8617822655131193</td>\n",
       "\t\t<td>1.3157059071845805</td>\n",
       "\t\t<td>1.0803229031600223</td>\n",
       "\t\t<td>2.114929878130991</td>\n",
       "\t\t<td>1.0704814894411832</td>\n",
       "\t</tr>\n",
       "\t<tr>\n",
       "\t\t<td>265</td>\n",
       "\t\t<td>0</td>\n",
       "\t\t<td>1</td>\n",
       "\t\t<td>0</td>\n",
       "\t\t<td>0</td>\n",
       "\t\t<td>392</td>\n",
       "\t\t<td>0</td>\n",
       "\t\t<td>-0.07039911464755072</td>\n",
       "\t\t<td>-0.016375797819784366</td>\n",
       "\t\t<td>-0.18379568940693544</td>\n",
       "\t\t<td>-0.4416179817602149</td>\n",
       "\t\t<td>-0.038927489778105964</td>\n",
       "\t</tr>\n",
       "\t<tr>\n",
       "\t\t<td>600</td>\n",
       "\t\t<td>0</td>\n",
       "\t\t<td>0</td>\n",
       "\t\t<td>1</td>\n",
       "\t\t<td>0</td>\n",
       "\t\t<td>186</td>\n",
       "\t\t<td>0</td>\n",
       "\t\t<td>0.31800979375272836</td>\n",
       "\t\t<td>0.5285667178638194</td>\n",
       "\t\t<td>0.5110509541894721</td>\n",
       "\t\t<td>1.3897048878917395</td>\n",
       "\t\t<td>0.4348814140703773</td>\n",
       "\t</tr>\n",
       "</table></html>"
      ],
      "text/plain": [
       "   Weight  Species_3  Species_2  Species_0  Species_5   id  Species_4   Length1   Length2   Length3    Height     Width\n",
       "0      40          0          0          0          0   68          1 -1.284177 -1.639094 -1.246995 -1.114657 -1.210695\n",
       "1    1100          0          1          0          0  312          0  1.250191  1.739550  1.130553  0.890510  1.397238\n",
       "2     650          0          1          0          0  208          0  1.007436  1.376255  0.862660  0.505003  0.906650\n",
       "3    1250          1          0          0          0   53          0  2.512520  3.434927  2.394671  0.400654  1.463281\n",
       "4     218          0          1          0          0  368          0 -0.109240 -0.137474 -0.259141 -0.414645 -0.147204\n",
       "5       9          0          0          0          1   55          0 -1.429830 -1.893400 -1.498144 -1.564864 -1.845388\n",
       "6     320          0          1          0          0  336          0  0.162646  0.286370  0.042239 -0.310922  0.208578\n",
       "7     955          0          0          1          0   26          0  0.861782  1.315706  1.080323  2.114930  1.070481\n",
       "8     265          0          1          0          0  392          0 -0.070399 -0.016376 -0.183796 -0.441618 -0.038927\n",
       "9     600          0          0          1          0  186          0  0.318010  0.528567  0.511051  1.389705  0.434881"
      ]
     },
     "metadata": {},
     "output_type": "display_data"
    },
    {
     "name": "stdout",
     "output_type": "stream",
     "text": [
      "                                                                                          \r"
     ]
    },
    {
     "data": {
      "text/html": [
       "Total time taken by feature scaling: 50.58 sec"
      ],
      "text/plain": [
       "<IPython.core.display.HTML object>"
      ]
     },
     "metadata": {},
     "output_type": "display_data"
    },
    {
     "name": "stdout",
     "output_type": "stream",
     "text": [
      "                                                                                          \r"
     ]
    },
    {
     "data": {
      "text/html": [
       "\n",
       "Feature selection using rfe ..."
      ],
      "text/plain": [
       "<IPython.core.display.HTML object>"
      ]
     },
     "metadata": {},
     "output_type": "display_data"
    },
    {
     "name": "stdout",
     "output_type": "stream",
     "text": [
      "                                                                                          \r"
     ]
    },
    {
     "data": {
      "text/html": [
       "feature selected by RFE:"
      ],
      "text/plain": [
       "<IPython.core.display.HTML object>"
      ]
     },
     "metadata": {},
     "output_type": "display_data"
    },
    {
     "name": "stdout",
     "output_type": "stream",
     "text": [
      "['Length3', 'Width']\n",
      "                                                                                          \r"
     ]
    },
    {
     "data": {
      "text/html": [
       "Total time taken by feature selection: 11.40 sec  "
      ],
      "text/plain": [
       "<IPython.core.display.HTML object>"
      ]
     },
     "metadata": {},
     "output_type": "display_data"
    },
    {
     "name": "stdout",
     "output_type": "stream",
     "text": [
      "                                                                                          \r"
     ]
    },
    {
     "data": {
      "text/html": [
       "\n",
       "scaling Features of rfe data ..."
      ],
      "text/plain": [
       "<IPython.core.display.HTML object>"
      ]
     },
     "metadata": {},
     "output_type": "display_data"
    },
    {
     "name": "stdout",
     "output_type": "stream",
     "text": [
      "                                                                                          \r"
     ]
    },
    {
     "data": {
      "text/html": [
       "columns that will be scaled: "
      ],
      "text/plain": [
       "<IPython.core.display.HTML object>"
      ]
     },
     "metadata": {},
     "output_type": "display_data"
    },
    {
     "name": "stdout",
     "output_type": "stream",
     "text": [
      "['r_Length3', 'r_Width']\n",
      "                                                                                          \r"
     ]
    },
    {
     "data": {
      "text/html": [
       "Training dataset sample after scaling:"
      ],
      "text/plain": [
       "<IPython.core.display.HTML object>"
      ]
     },
     "metadata": {},
     "output_type": "display_data"
    },
    {
     "data": {
      "text/html": [
       "<style type=\"text/css\">\n",
       "\ttable {border:ridge 5px;}\n",
       "\ttable td {border:inset 1px;}\n",
       "\ttable tr#HeaderRow {background-color:grey; color:white;}</style>\n",
       "<html><table>\n",
       "\t<tr id=\"HeaderRow\">\n",
       "\t\t<th>id</th>\n",
       "\t\t<th>Weight</th>\n",
       "\t\t<th>r_Length3</th>\n",
       "\t\t<th>r_Width</th>\n",
       "\t</tr>\n",
       "\t<tr>\n",
       "\t\t<td>8</td>\n",
       "\t\t<td>120</td>\n",
       "\t\t<td>-0.8200408088446093</td>\n",
       "\t\t<td>-0.8421577312987043</td>\n",
       "\t</tr>\n",
       "\t<tr>\n",
       "\t\t<td>200</td>\n",
       "\t\t<td>1100</td>\n",
       "\t\t<td>1.205897597785879</td>\n",
       "\t\t<td>1.7079523106635086</td>\n",
       "\t</tr>\n",
       "\t<tr>\n",
       "\t\t<td>101</td>\n",
       "\t\t<td>510</td>\n",
       "\t\t<td>1.205897597785879</td>\n",
       "\t\t<td>0.031367202824444614</td>\n",
       "\t</tr>\n",
       "\t<tr>\n",
       "\t\t<td>162</td>\n",
       "\t\t<td>610</td>\n",
       "\t\t<td>0.6282540025069382</td>\n",
       "\t\t<td>0.41390638482606784</td>\n",
       "\t</tr>\n",
       "\t<tr>\n",
       "\t\t<td>232</td>\n",
       "\t\t<td>850</td>\n",
       "\t\t<td>0.9380049159173844</td>\n",
       "\t\t<td>1.5321588898889036</td>\n",
       "\t</tr>\n",
       "\t<tr>\n",
       "\t\t<td>23</td>\n",
       "\t\t<td>9</td>\n",
       "\t\t<td>-1.5065158061326263</td>\n",
       "\t\t<td>-1.835467089187329</td>\n",
       "\t</tr>\n",
       "\t<tr>\n",
       "\t\t<td>28</td>\n",
       "\t\t<td>0</td>\n",
       "\t\t<td>-0.6944661142187526</td>\n",
       "\t\t<td>-0.5964097535309159</td>\n",
       "\t</tr>\n",
       "\t<tr>\n",
       "\t\t<td>79</td>\n",
       "\t\t<td>19</td>\n",
       "\t\t<td>-1.2469947705725222</td>\n",
       "\t\t<td>-1.4311025389179783</td>\n",
       "\t</tr>\n",
       "\t<tr>\n",
       "\t\t<td>87</td>\n",
       "\t\t<td>9</td>\n",
       "\t\t<td>-1.598603915524921</td>\n",
       "\t\t<td>-1.714095365911473</td>\n",
       "\t</tr>\n",
       "\t<tr>\n",
       "\t\t<td>74</td>\n",
       "\t\t<td>850</td>\n",
       "\t\t<td>0.8794033917586517</td>\n",
       "\t\t<td>1.017420334379903</td>\n",
       "\t</tr>\n",
       "</table></html>"
      ],
      "text/plain": [
       "    id  Weight  r_Length3   r_Width\n",
       "0    8     120  -0.820041 -0.842158\n",
       "1  200    1100   1.205898  1.707952\n",
       "2  101     510   1.205898  0.031367\n",
       "3  162     610   0.628254  0.413906\n",
       "4  232     850   0.938005  1.532159\n",
       "5   23       9  -1.506516 -1.835467\n",
       "6   28       0  -0.694466 -0.596410\n",
       "7   79      19  -1.246995 -1.431103\n",
       "8   87       9  -1.598604 -1.714095\n",
       "9   74     850   0.879403  1.017420"
      ]
     },
     "metadata": {},
     "output_type": "display_data"
    },
    {
     "name": "stdout",
     "output_type": "stream",
     "text": [
      "                                                                                          \r"
     ]
    },
    {
     "data": {
      "text/html": [
       "Testing dataset sample after scaling:"
      ],
      "text/plain": [
       "<IPython.core.display.HTML object>"
      ]
     },
     "metadata": {},
     "output_type": "display_data"
    },
    {
     "data": {
      "text/html": [
       "<style type=\"text/css\">\n",
       "\ttable {border:ridge 5px;}\n",
       "\ttable td {border:inset 1px;}\n",
       "\ttable tr#HeaderRow {background-color:grey; color:white;}</style>\n",
       "<html><table>\n",
       "\t<tr id=\"HeaderRow\">\n",
       "\t\t<th>id</th>\n",
       "\t\t<th>Weight</th>\n",
       "\t\t<th>r_Length3</th>\n",
       "\t\t<th>r_Width</th>\n",
       "\t</tr>\n",
       "\t<tr>\n",
       "\t\t<td>68</td>\n",
       "\t\t<td>40</td>\n",
       "\t\t<td>-1.2469947705725222</td>\n",
       "\t\t<td>-1.2106946640480452</td>\n",
       "\t</tr>\n",
       "\t<tr>\n",
       "\t\t<td>312</td>\n",
       "\t\t<td>1100</td>\n",
       "\t\t<td>1.130552781010365</td>\n",
       "\t\t<td>1.3972384315065887</td>\n",
       "\t</tr>\n",
       "\t<tr>\n",
       "\t\t<td>208</td>\n",
       "\t\t<td>650</td>\n",
       "\t\t<td>0.8626600991418706</td>\n",
       "\t\t<td>0.9066495042626577</td>\n",
       "\t</tr>\n",
       "\t<tr>\n",
       "\t\t<td>53</td>\n",
       "\t\t<td>1250</td>\n",
       "\t\t<td>2.394671373577323</td>\n",
       "\t\t<td>1.4632814289920493</td>\n",
       "\t</tr>\n",
       "\t<tr>\n",
       "\t\t<td>368</td>\n",
       "\t\t<td>218</td>\n",
       "\t\t<td>-0.2591405061824493</td>\n",
       "\t\t<td>-0.1472039920933252</td>\n",
       "\t</tr>\n",
       "\t<tr>\n",
       "\t\t<td>55</td>\n",
       "\t\t<td>9</td>\n",
       "\t\t<td>-1.4981441598242358</td>\n",
       "\t\t<td>-1.845387711127205</td>\n",
       "\t</tr>\n",
       "\t<tr>\n",
       "\t\t<td>336</td>\n",
       "\t\t<td>320</td>\n",
       "\t\t<td>0.0422387609196069</td>\n",
       "\t\t<td>0.20857785530474637</td>\n",
       "\t</tr>\n",
       "\t<tr>\n",
       "\t\t<td>26</td>\n",
       "\t\t<td>955</td>\n",
       "\t\t<td>1.0803229031600223</td>\n",
       "\t\t<td>1.0704814894411832</td>\n",
       "\t</tr>\n",
       "\t<tr>\n",
       "\t\t<td>392</td>\n",
       "\t\t<td>265</td>\n",
       "\t\t<td>-0.18379568940693544</td>\n",
       "\t\t<td>-0.038927489778105964</td>\n",
       "\t</tr>\n",
       "\t<tr>\n",
       "\t\t<td>186</td>\n",
       "\t\t<td>600</td>\n",
       "\t\t<td>0.5110509541894721</td>\n",
       "\t\t<td>0.4348814140703773</td>\n",
       "\t</tr>\n",
       "</table></html>"
      ],
      "text/plain": [
       "    id  Weight  r_Length3   r_Width\n",
       "0   68      40  -1.246995 -1.210695\n",
       "1  312    1100   1.130553  1.397238\n",
       "2  208     650   0.862660  0.906650\n",
       "3   53    1250   2.394671  1.463281\n",
       "4  368     218  -0.259141 -0.147204\n",
       "5   55       9  -1.498144 -1.845388\n",
       "6  336     320   0.042239  0.208578\n",
       "7   26     955   1.080323  1.070481\n",
       "8  392     265  -0.183796 -0.038927\n",
       "9  186     600   0.511051  0.434881"
      ]
     },
     "metadata": {},
     "output_type": "display_data"
    },
    {
     "name": "stdout",
     "output_type": "stream",
     "text": [
      "                                                                                          \r"
     ]
    },
    {
     "data": {
      "text/html": [
       "Total time taken by feature scaling: 38.41 sec"
      ],
      "text/plain": [
       "<IPython.core.display.HTML object>"
      ]
     },
     "metadata": {},
     "output_type": "display_data"
    },
    {
     "name": "stdout",
     "output_type": "stream",
     "text": [
      "                                                                                          \r"
     ]
    },
    {
     "data": {
      "text/html": [
       "\n",
       "scaling Features of pca data ..."
      ],
      "text/plain": [
       "<IPython.core.display.HTML object>"
      ]
     },
     "metadata": {},
     "output_type": "display_data"
    },
    {
     "name": "stdout",
     "output_type": "stream",
     "text": [
      "                                                                                          \r"
     ]
    },
    {
     "data": {
      "text/html": [
       "columns that will be scaled: "
      ],
      "text/plain": [
       "<IPython.core.display.HTML object>"
      ]
     },
     "metadata": {},
     "output_type": "display_data"
    },
    {
     "name": "stdout",
     "output_type": "stream",
     "text": [
      "['Length1', 'Length2', 'Length3', 'Height', 'Width']\n",
      "                                                                                          \r"
     ]
    },
    {
     "data": {
      "text/html": [
       "Training dataset sample after scaling:"
      ],
      "text/plain": [
       "<IPython.core.display.HTML object>"
      ]
     },
     "metadata": {},
     "output_type": "display_data"
    },
    {
     "data": {
      "text/html": [
       "<style type=\"text/css\">\n",
       "\ttable {border:ridge 5px;}\n",
       "\ttable td {border:inset 1px;}\n",
       "\ttable tr#HeaderRow {background-color:grey; color:white;}</style>\n",
       "<html><table>\n",
       "\t<tr id=\"HeaderRow\">\n",
       "\t\t<th>Weight</th>\n",
       "\t\t<th>Species_3</th>\n",
       "\t\t<th>Species_1</th>\n",
       "\t\t<th>Species_2</th>\n",
       "\t\t<th>Species_0</th>\n",
       "\t\t<th>Species_5</th>\n",
       "\t\t<th>id</th>\n",
       "\t\t<th>Species_4</th>\n",
       "\t\t<th>Species_6</th>\n",
       "\t\t<th>Length1</th>\n",
       "\t\t<th>Length2</th>\n",
       "\t\t<th>Length3</th>\n",
       "\t\t<th>Height</th>\n",
       "\t\t<th>Width</th>\n",
       "\t</tr>\n",
       "\t<tr>\n",
       "\t\t<td>500</td>\n",
       "\t\t<td>0</td>\n",
       "\t\t<td>0</td>\n",
       "\t\t<td>0</td>\n",
       "\t\t<td>1</td>\n",
       "\t\t<td>0</td>\n",
       "\t\t<td>82</td>\n",
       "\t\t<td>0</td>\n",
       "\t\t<td>0</td>\n",
       "\t\t<td>0.2306177893626657</td>\n",
       "\t\t<td>0.3711388799996663</td>\n",
       "\t\t<td>0.42733449110556704</td>\n",
       "\t\t<td>1.22105114687176</td>\n",
       "\t\t<td>0.3150403010366737</td>\n",
       "\t</tr>\n",
       "\t<tr>\n",
       "\t\t<td>363</td>\n",
       "\t\t<td>0</td>\n",
       "\t\t<td>0</td>\n",
       "\t\t<td>0</td>\n",
       "\t\t<td>1</td>\n",
       "\t\t<td>0</td>\n",
       "\t\t<td>106</td>\n",
       "\t\t<td>0</td>\n",
       "\t\t<td>0</td>\n",
       "\t\t<td>0.016992889742512278</td>\n",
       "\t\t<td>0.16527170740808272</td>\n",
       "\t\t<td>0.2013000407790247</td>\n",
       "\t\t<td>0.8742426983824759</td>\n",
       "\t\t<td>0.02938307843646949</td>\n",
       "\t</tr>\n",
       "\t<tr>\n",
       "\t\t<td>685</td>\n",
       "\t\t<td>0</td>\n",
       "\t\t<td>0</td>\n",
       "\t\t<td>0</td>\n",
       "\t\t<td>1</td>\n",
       "\t\t<td>0</td>\n",
       "\t\t<td>114</td>\n",
       "\t\t<td>0</td>\n",
       "\t\t<td>0</td>\n",
       "\t\t<td>0.5122142479528679</td>\n",
       "\t\t<td>0.770763391500976</td>\n",
       "\t\t<td>0.6784838803572805</td>\n",
       "\t\t<td>1.6305196277487917</td>\n",
       "\t\t<td>0.5480331934531931</td>\n",
       "\t</tr>\n",
       "\t<tr>\n",
       "\t\t<td>450</td>\n",
       "\t\t<td>0</td>\n",
       "\t\t<td>0</td>\n",
       "\t\t<td>0</td>\n",
       "\t\t<td>1</td>\n",
       "\t\t<td>0</td>\n",
       "\t\t<td>130</td>\n",
       "\t\t<td>0</td>\n",
       "\t\t<td>0</td>\n",
       "\t\t<td>0.14322578497260302</td>\n",
       "\t\t<td>0.28637004422666135</td>\n",
       "\t\t<td>0.335246381713272</td>\n",
       "\t\t<td>1.1696764087786995</td>\n",
       "\t\t<td>0.24950750696526364</td>\n",
       "\t</tr>\n",
       "\t<tr>\n",
       "\t\t<td>920</td>\n",
       "\t\t<td>0</td>\n",
       "\t\t<td>0</td>\n",
       "\t\t<td>0</td>\n",
       "\t\t<td>1</td>\n",
       "\t\t<td>0</td>\n",
       "\t\t<td>146</td>\n",
       "\t\t<td>0</td>\n",
       "\t\t<td>0</td>\n",
       "\t\t<td>0.8617822655131191</td>\n",
       "\t\t<td>1.3157059071845798</td>\n",
       "\t\t<td>1.0886945494684124</td>\n",
       "\t\t<td>2.104015353258717</td>\n",
       "\t\t<td>1.078588054797768</td>\n",
       "\t</tr>\n",
       "\t<tr>\n",
       "\t\t<td>610</td>\n",
       "\t\t<td>0</td>\n",
       "\t\t<td>0</td>\n",
       "\t\t<td>0</td>\n",
       "\t\t<td>1</td>\n",
       "\t\t<td>0</td>\n",
       "\t\t<td>162</td>\n",
       "\t\t<td>0</td>\n",
       "\t\t<td>0</td>\n",
       "\t\t<td>0.46366313440283297</td>\n",
       "\t\t<td>0.7102142230916866</td>\n",
       "\t\t<td>0.6282540025069376</td>\n",
       "\t\t<td>1.5469574691725279</td>\n",
       "\t\t<td>0.4139063848260679</td>\n",
       "\t</tr>\n",
       "\t<tr>\n",
       "\t\t<td>345</td>\n",
       "\t\t<td>1</td>\n",
       "\t\t<td>0</td>\n",
       "\t\t<td>0</td>\n",
       "\t\t<td>0</td>\n",
       "\t\t<td>0</td>\n",
       "\t\t<td>21</td>\n",
       "\t\t<td>0</td>\n",
       "\t\t<td>0</td>\n",
       "\t\t<td>0.9588844926131889</td>\n",
       "\t\t<td>1.3157059071845798</td>\n",
       "\t\t<td>0.8291735139083083</td>\n",
       "\t\t<td>-0.5935407525938213</td>\n",
       "\t\t<td>-0.24187507003385747</td>\n",
       "\t</tr>\n",
       "\t<tr>\n",
       "\t\t<td>200</td>\n",
       "\t\t<td>0</td>\n",
       "\t\t<td>1</td>\n",
       "\t\t<td>0</td>\n",
       "\t\t<td>0</td>\n",
       "\t\t<td>0</td>\n",
       "\t\t<td>24</td>\n",
       "\t\t<td>0</td>\n",
       "\t\t<td>0</td>\n",
       "\t\t<td>-0.4782284684678436</td>\n",
       "\t\t<td>-0.5613183135033891</td>\n",
       "\t\t<td>-0.4433167249670397</td>\n",
       "\t\t<td>0.32174991280974347</td>\n",
       "\t\t<td>-0.4195392366599816</td>\n",
       "\t</tr>\n",
       "\t<tr>\n",
       "\t\t<td>0</td>\n",
       "\t\t<td>0</td>\n",
       "\t\t<td>0</td>\n",
       "\t\t<td>0</td>\n",
       "\t\t<td>0</td>\n",
       "\t\t<td>0</td>\n",
       "\t\t<td>28</td>\n",
       "\t\t<td>1</td>\n",
       "\t\t<td>0</td>\n",
       "\t\t<td>-0.691853368087997</td>\n",
       "\t\t<td>-0.8640641555498357</td>\n",
       "\t\t<td>-0.6944661142187531</td>\n",
       "\t\t<td>-0.5751876661843923</td>\n",
       "\t\t<td>-0.596409753530916</td>\n",
       "\t</tr>\n",
       "\t<tr>\n",
       "\t\t<td>300</td>\n",
       "\t\t<td>1</td>\n",
       "\t\t<td>0</td>\n",
       "\t\t<td>0</td>\n",
       "\t\t<td>0</td>\n",
       "\t\t<td>0</td>\n",
       "\t\t<td>29</td>\n",
       "\t\t<td>0</td>\n",
       "\t\t<td>0</td>\n",
       "\t\t<td>0.5413449160828888</td>\n",
       "\t\t<td>0.770763391500976</td>\n",
       "\t\t<td>0.5612808320398137</td>\n",
       "\t\t<td>-0.7530179504090863</td>\n",
       "\t\t<td>-0.1392674945414242</td>\n",
       "\t</tr>\n",
       "</table></html>"
      ],
      "text/plain": [
       "   Weight  Species_3  Species_1  Species_2  Species_0  Species_5   id  Species_4  Species_6   Length1   Length2   Length3    Height     Width\n",
       "0     500          0          0          0          1          0   82          0          0  0.230618  0.371139  0.427334  1.221051  0.315040\n",
       "1     363          0          0          0          1          0  106          0          0  0.016993  0.165272  0.201300  0.874243  0.029383\n",
       "2     685          0          0          0          1          0  114          0          0  0.512214  0.770763  0.678484  1.630520  0.548033\n",
       "3     450          0          0          0          1          0  130          0          0  0.143226  0.286370  0.335246  1.169676  0.249508\n",
       "4     920          0          0          0          1          0  146          0          0  0.861782  1.315706  1.088695  2.104015  1.078588\n",
       "5     610          0          0          0          1          0  162          0          0  0.463663  0.710214  0.628254  1.546957  0.413906\n",
       "6     345          1          0          0          0          0   21          0          0  0.958884  1.315706  0.829174 -0.593541 -0.241875\n",
       "7     200          0          1          0          0          0   24          0          0 -0.478228 -0.561318 -0.443317  0.321750 -0.419539\n",
       "8       0          0          0          0          0          0   28          1          0 -0.691853 -0.864064 -0.694466 -0.575188 -0.596410\n",
       "9     300          1          0          0          0          0   29          0          0  0.541345  0.770763  0.561281 -0.753018 -0.139267"
      ]
     },
     "metadata": {},
     "output_type": "display_data"
    },
    {
     "name": "stdout",
     "output_type": "stream",
     "text": [
      "                                                                                          \r"
     ]
    },
    {
     "data": {
      "text/html": [
       "Testing dataset sample after scaling:"
      ],
      "text/plain": [
       "<IPython.core.display.HTML object>"
      ]
     },
     "metadata": {},
     "output_type": "display_data"
    },
    {
     "data": {
      "text/html": [
       "<style type=\"text/css\">\n",
       "\ttable {border:ridge 5px;}\n",
       "\ttable td {border:inset 1px;}\n",
       "\ttable tr#HeaderRow {background-color:grey; color:white;}</style>\n",
       "<html><table>\n",
       "\t<tr id=\"HeaderRow\">\n",
       "\t\t<th>Weight</th>\n",
       "\t\t<th>Species_3</th>\n",
       "\t\t<th>Species_1</th>\n",
       "\t\t<th>Species_2</th>\n",
       "\t\t<th>Species_0</th>\n",
       "\t\t<th>Species_5</th>\n",
       "\t\t<th>id</th>\n",
       "\t\t<th>Species_4</th>\n",
       "\t\t<th>Species_6</th>\n",
       "\t\t<th>Length1</th>\n",
       "\t\t<th>Length2</th>\n",
       "\t\t<th>Length3</th>\n",
       "\t\t<th>Height</th>\n",
       "\t\t<th>Width</th>\n",
       "\t</tr>\n",
       "\t<tr>\n",
       "\t\t<td>700</td>\n",
       "\t\t<td>0</td>\n",
       "\t\t<td>0</td>\n",
       "\t\t<td>0</td>\n",
       "\t\t<td>1</td>\n",
       "\t\t<td>0</td>\n",
       "\t\t<td>42</td>\n",
       "\t\t<td>0</td>\n",
       "\t\t<td>0</td>\n",
       "\t\t<td>0.4151120208527981</td>\n",
       "\t\t<td>0.6496650546823973</td>\n",
       "\t\t<td>0.619882356198547</td>\n",
       "\t\t<td>1.3859045013120093</td>\n",
       "\t\t<td>0.4500174486872169</td>\n",
       "\t</tr>\n",
       "\t<tr>\n",
       "\t\t<td>975</td>\n",
       "\t\t<td>0</td>\n",
       "\t\t<td>0</td>\n",
       "\t\t<td>0</td>\n",
       "\t\t<td>1</td>\n",
       "\t\t<td>0</td>\n",
       "\t\t<td>122</td>\n",
       "\t\t<td>0</td>\n",
       "\t\t<td>0</td>\n",
       "\t\t<td>1.0948276105532864</td>\n",
       "\t\t<td>1.6184517492310264</td>\n",
       "\t\t<td>1.23938418301944</td>\n",
       "\t\t<td>2.24270629032997</td>\n",
       "\t\t<td>1.328587727682646</td>\n",
       "\t</tr>\n",
       "\t<tr>\n",
       "\t\t<td>714</td>\n",
       "\t\t<td>0</td>\n",
       "\t\t<td>0</td>\n",
       "\t\t<td>0</td>\n",
       "\t\t<td>1</td>\n",
       "\t\t<td>0</td>\n",
       "\t\t<td>154</td>\n",
       "\t\t<td>0</td>\n",
       "\t\t<td>0</td>\n",
       "\t\t<td>0.6384471431829589</td>\n",
       "\t\t<td>1.0129600651381332</td>\n",
       "\t\t<td>0.8710317454502605</td>\n",
       "\t\t<td>1.7518075750555477</td>\n",
       "\t\t<td>0.8207652628974443</td>\n",
       "\t</tr>\n",
       "\t<tr>\n",
       "\t\t<td>600</td>\n",
       "\t\t<td>0</td>\n",
       "\t\t<td>0</td>\n",
       "\t\t<td>0</td>\n",
       "\t\t<td>1</td>\n",
       "\t\t<td>0</td>\n",
       "\t\t<td>186</td>\n",
       "\t\t<td>0</td>\n",
       "\t\t<td>0</td>\n",
       "\t\t<td>0.3180097937527283</td>\n",
       "\t\t<td>0.5285667178638186</td>\n",
       "\t\t<td>0.5110509541894716</td>\n",
       "\t\t<td>1.3897048878917393</td>\n",
       "\t\t<td>0.43488141407037734</td>\n",
       "\t</tr>\n",
       "\t<tr>\n",
       "\t\t<td>725</td>\n",
       "\t\t<td>0</td>\n",
       "\t\t<td>0</td>\n",
       "\t\t<td>0</td>\n",
       "\t\t<td>1</td>\n",
       "\t\t<td>0</td>\n",
       "\t\t<td>202</td>\n",
       "\t\t<td>0</td>\n",
       "\t\t<td>0</td>\n",
       "\t\t<td>0.5510551387928959</td>\n",
       "\t\t<td>0.8918617283195546</td>\n",
       "\t\t<td>0.8208018675999177</td>\n",
       "\t\t<td>1.7154258254813008</td>\n",
       "\t\t<td>0.9351075169130454</td>\n",
       "\t</tr>\n",
       "\t<tr>\n",
       "\t\t<td>145</td>\n",
       "\t\t<td>0</td>\n",
       "\t\t<td>0</td>\n",
       "\t\t<td>0</td>\n",
       "\t\t<td>0</td>\n",
       "\t\t<td>0</td>\n",
       "\t\t<td>12</td>\n",
       "\t\t<td>1</td>\n",
       "\t\t<td>0</td>\n",
       "\t\t<td>-0.5462000274378924</td>\n",
       "\t\t<td>-0.6824166503219677</td>\n",
       "\t\t<td>-0.5688914195928965</td>\n",
       "\t\t<td>-0.5384119740988322</td>\n",
       "\t\t<td>-0.48518540926784764</td>\n",
       "\t</tr>\n",
       "\t<tr>\n",
       "\t\t<td>500</td>\n",
       "\t\t<td>1</td>\n",
       "\t\t<td>0</td>\n",
       "\t\t<td>0</td>\n",
       "\t\t<td>0</td>\n",
       "\t\t<td>0</td>\n",
       "\t\t<td>13</td>\n",
       "\t\t<td>0</td>\n",
       "\t\t<td>0</td>\n",
       "\t\t<td>1.5414978552136074</td>\n",
       "\t\t<td>2.102845096505341</td>\n",
       "\t\t<td>1.4151887554956397</td>\n",
       "\t\t<td>-0.4628445311933427</td>\n",
       "\t\t<td>0.2790993049802084</td>\n",
       "\t</tr>\n",
       "\t<tr>\n",
       "\t\t<td>90</td>\n",
       "\t\t<td>0</td>\n",
       "\t\t<td>1</td>\n",
       "\t\t<td>0</td>\n",
       "\t\t<td>0</td>\n",
       "\t\t<td>0</td>\n",
       "\t\t<td>16</td>\n",
       "\t\t<td>0</td>\n",
       "\t\t<td>0</td>\n",
       "\t\t<td>-0.9540293812581854</td>\n",
       "\t\t<td>-1.203139498641856</td>\n",
       "\t\t<td>-0.9456155034704666</td>\n",
       "\t\t<td>-0.3596779394070075</td>\n",
       "\t\t<td>-0.9811031277251978</td>\n",
       "\t</tr>\n",
       "\t<tr>\n",
       "\t\t<td>150</td>\n",
       "\t\t<td>0</td>\n",
       "\t\t<td>0</td>\n",
       "\t\t<td>0</td>\n",
       "\t\t<td>0</td>\n",
       "\t\t<td>0</td>\n",
       "\t\t<td>20</td>\n",
       "\t\t<td>1</td>\n",
       "\t\t<td>0</td>\n",
       "\t\t<td>-0.5559102501478995</td>\n",
       "\t\t<td>-0.6824166503219677</td>\n",
       "\t\t<td>-0.5354048343593347</td>\n",
       "\t\t<td>-0.7306095734420183</td>\n",
       "\t\t<td>-0.3680653811090816</td>\n",
       "\t</tr>\n",
       "\t<tr>\n",
       "\t\t<td>567</td>\n",
       "\t\t<td>1</td>\n",
       "\t\t<td>0</td>\n",
       "\t\t<td>0</td>\n",
       "\t\t<td>0</td>\n",
       "\t\t<td>0</td>\n",
       "\t\t<td>37</td>\n",
       "\t\t<td>0</td>\n",
       "\t\t<td>0</td>\n",
       "\t\t<td>1.6580205277336915</td>\n",
       "\t\t<td>2.2239434333239196</td>\n",
       "\t\t<td>1.473790279654373</td>\n",
       "\t\t<td>-0.270044431538736</td>\n",
       "\t\t<td>0.264360095240964</td>\n",
       "\t</tr>\n",
       "</table></html>"
      ],
      "text/plain": [
       "   Weight  Species_3  Species_1  Species_2  Species_0  Species_5   id  Species_4  Species_6   Length1   Length2   Length3    Height     Width\n",
       "0     700          0          0          0          1          0   42          0          0  0.415112  0.649665  0.619882  1.385905  0.450017\n",
       "1     975          0          0          0          1          0  122          0          0  1.094828  1.618452  1.239384  2.242706  1.328588\n",
       "2     714          0          0          0          1          0  154          0          0  0.638447  1.012960  0.871032  1.751808  0.820765\n",
       "3     600          0          0          0          1          0  186          0          0  0.318010  0.528567  0.511051  1.389705  0.434881\n",
       "4     725          0          0          0          1          0  202          0          0  0.551055  0.891862  0.820802  1.715426  0.935108\n",
       "5     145          0          0          0          0          0   12          1          0 -0.546200 -0.682417 -0.568891 -0.538412 -0.485185\n",
       "6     500          1          0          0          0          0   13          0          0  1.541498  2.102845  1.415189 -0.462845  0.279099\n",
       "7      90          0          1          0          0          0   16          0          0 -0.954029 -1.203139 -0.945616 -0.359678 -0.981103\n",
       "8     150          0          0          0          0          0   20          1          0 -0.555910 -0.682417 -0.535405 -0.730610 -0.368065\n",
       "9     567          1          0          0          0          0   37          0          0  1.658021  2.223943  1.473790 -0.270044  0.264360"
      ]
     },
     "metadata": {},
     "output_type": "display_data"
    },
    {
     "name": "stdout",
     "output_type": "stream",
     "text": [
      "                                                                                          \r"
     ]
    },
    {
     "data": {
      "text/html": [
       "Total time taken by feature scaling: 45.14 sec"
      ],
      "text/plain": [
       "<IPython.core.display.HTML object>"
      ]
     },
     "metadata": {},
     "output_type": "display_data"
    },
    {
     "name": "stdout",
     "output_type": "stream",
     "text": [
      "                                                                                          \r"
     ]
    },
    {
     "data": {
      "text/html": [
       "\n",
       "Dimension Reduction using pca ..."
      ],
      "text/plain": [
       "<IPython.core.display.HTML object>"
      ]
     },
     "metadata": {},
     "output_type": "display_data"
    },
    {
     "name": "stdout",
     "output_type": "stream",
     "text": [
      "                                                                                          \r"
     ]
    },
    {
     "data": {
      "text/html": [
       "PCA columns:"
      ],
      "text/plain": [
       "<IPython.core.display.HTML object>"
      ]
     },
     "metadata": {},
     "output_type": "display_data"
    },
    {
     "name": "stdout",
     "output_type": "stream",
     "text": [
      "['col_0', 'col_1', 'col_2', 'col_3', 'col_4']\n",
      "                                                                                          \r"
     ]
    },
    {
     "data": {
      "text/html": [
       "Total time taken by PCA: 11.46 sec  "
      ],
      "text/plain": [
       "<IPython.core.display.HTML object>"
      ]
     },
     "metadata": {},
     "output_type": "display_data"
    },
    {
     "name": "stdout",
     "output_type": "stream",
     "text": [
      "                                                                                          \r"
     ]
    },
    {
     "data": {
      "text/html": [
       "\n",
       "            <style>\n",
       "                .custom-div {\n",
       "                    background-color: lightgray;\n",
       "                    color: #000000;\n",
       "                    padding: 10px;\n",
       "                    border-radius: 8px;\n",
       "                    box-shadow: 0 3px 4px rgba(0 -  0 -  0 -  0.2);\n",
       "                    margin-bottom: 10px;\n",
       "                    text-align: center;\n",
       "                }\n",
       "            </style>\n",
       "        <br><div class=\"custom-div\"><h3><span style=\"color: green;\">1. Feature Exploration -> 2. Feature Engineering -> 3. Data Preparation -></span> 4. Model Training & Evaluation<center></h3></center></div>"
      ],
      "text/plain": [
       "<IPython.core.display.HTML object>"
      ]
     },
     "metadata": {},
     "output_type": "display_data"
    },
    {
     "name": "stdout",
     "output_type": "stream",
     "text": [
      "                                                                                          \r"
     ]
    },
    {
     "data": {
      "text/html": [
       "Model Training started ..."
      ],
      "text/plain": [
       "<IPython.core.display.HTML object>"
      ]
     },
     "metadata": {},
     "output_type": "display_data"
    },
    {
     "name": "stdout",
     "output_type": "stream",
     "text": [
      "                                                                                          \r"
     ]
    },
    {
     "data": {
      "text/html": [
       "\n",
       "Starting customized hyperparameter update ..."
      ],
      "text/plain": [
       "<IPython.core.display.HTML object>"
      ]
     },
     "metadata": {},
     "output_type": "display_data"
    },
    {
     "name": "stdout",
     "output_type": "stream",
     "text": [
      "                                                                                          \n",
      "Completed customized hyperparameter update.\n",
      "                                                                                          \r"
     ]
    },
    {
     "data": {
      "text/html": [
       "\n",
       "Hyperparameters used for model training: "
      ],
      "text/plain": [
       "<IPython.core.display.HTML object>"
      ]
     },
     "metadata": {},
     "output_type": "display_data"
    },
    {
     "name": "stdout",
     "output_type": "stream",
     "text": [
      "response_column : Weight                                                                                                                              \n",
      "name : knn\n",
      "model_type : Regression\n",
      "k : (3, 5, 6, 8, 10, 12)\n",
      "id_column : id\n",
      "voting_weight : 1.0\n",
      "Total number of models for knn : 6\n",
      "--------------------------------------------------------------------------------------------------------------------------------------------------------------------------------------------------------\n",
      "\n",
      "response_column : Weight\n",
      "name : decision_forest\n",
      "tree_type : Regression\n",
      "min_impurity : (0.0, 0.1, 0.2)\n",
      "max_depth : (5, 6, 8, 10)\n",
      "min_node_size : (1, 2, 3)\n",
      "num_trees : (-1, 20, 30)\n",
      "Total number of models for decision_forest : 108\n",
      "--------------------------------------------------------------------------------------------------------------------------------------------------------------------------------------------------------\n",
      "\n",
      "response_column : Weight\n",
      "name : xgboost\n",
      "model_type : Regression\n",
      "column_sampling : (1, 0.6)\n",
      "min_impurity : (0.0, 0.1, 0.2)\n",
      "lambda1 : (0.01, 0.1, 1, 10)\n",
      "shrinkage_factor : (0.5, 0.1, 0.3)\n",
      "max_depth : (4, 5, 8, 10)\n",
      "min_node_size : (1, 2, 3)\n",
      "iter_num : (10, 20, 30)\n",
      "Total number of models for xgboost : 2592\n",
      "--------------------------------------------------------------------------------------------------------------------------------------------------------------------------------------------------------\n",
      "\n",
      "response_column : Weight\n",
      "name : svm\n",
      "model_type : regression\n",
      "lambda1 : (0.001, 0.02, 0.1)\n",
      "alpha : (0.15, 0.85)\n",
      "tolerance : (0.001, 0.01)\n",
      "learning_rate : ('Invtime', 'Adaptive', 'constant')\n",
      "initial_eta : (0.05, 0.1)\n",
      "momentum : (0.65, 0.8, 0.95)\n",
      "nesterov : True\n",
      "intercept : True\n",
      "iter_num_no_change : (5, 10, 50)\n",
      "local_sgd_iterations  : (10, 20)\n",
      "iter_max : (300, 200, 400)\n",
      "batch_size : (10, 50, 60, 80)\n",
      "Total number of models for svm : 15552\n",
      "--------------------------------------------------------------------------------------------------------------------------------------------------------------------------------------------------------\n",
      "\n",
      "                                                                                          \r"
     ]
    },
    {
     "data": {
      "text/html": [
       "\n",
       "Performing hyperParameter tuning ..."
      ],
      "text/plain": [
       "<IPython.core.display.HTML object>"
      ]
     },
     "metadata": {},
     "output_type": "display_data"
    },
    {
     "name": "stdout",
     "output_type": "stream",
     "text": [
      "                                                                                          \r"
     ]
    },
    {
     "data": {
      "text/html": [
       "knn"
      ],
      "text/plain": [
       "<IPython.core.display.HTML object>"
      ]
     },
     "metadata": {},
     "output_type": "display_data"
    },
    {
     "name": "stdout",
     "output_type": "stream",
     "text": [
      "KNN_9                                                                                                                                                                                                   \n",
      "KNN_4                                                                                     \n",
      "KNN_8                                                                                     \n",
      "                                                                                          \r"
     ]
    },
    {
     "data": {
      "text/html": [
       "----------------------------------------------------------------------------------------------------"
      ],
      "text/plain": [
       "<IPython.core.display.HTML object>"
      ]
     },
     "metadata": {},
     "output_type": "display_data"
    },
    {
     "name": "stdout",
     "output_type": "stream",
     "text": [
      "                                                                                          \r"
     ]
    },
    {
     "data": {
      "text/html": [
       "decision_forest"
      ],
      "text/plain": [
       "<IPython.core.display.HTML object>"
      ]
     },
     "metadata": {},
     "output_type": "display_data"
    },
    {
     "name": "stdout",
     "output_type": "stream",
     "text": [
      "DECISIONFOREST_0                                                                                                                                                                                        \n",
      "DECISIONFOREST_1                                                                          \n",
      "DECISIONFOREST_2                                                                          \n",
      "                                                                                          \r"
     ]
    },
    {
     "data": {
      "text/html": [
       "----------------------------------------------------------------------------------------------------"
      ],
      "text/plain": [
       "<IPython.core.display.HTML object>"
      ]
     },
     "metadata": {},
     "output_type": "display_data"
    },
    {
     "name": "stdout",
     "output_type": "stream",
     "text": [
      "                                                                                          \r"
     ]
    },
    {
     "data": {
      "text/html": [
       "xgboost"
      ],
      "text/plain": [
       "<IPython.core.display.HTML object>"
      ]
     },
     "metadata": {},
     "output_type": "display_data"
    },
    {
     "name": "stdout",
     "output_type": "stream",
     "text": [
      "XGBOOST_3                                                                                                                                                                                               \n",
      "XGBOOST_1                                                                                 \n",
      "XGBOOST_2                                                                                 \n",
      "                                                                                          \r"
     ]
    },
    {
     "data": {
      "text/html": [
       "----------------------------------------------------------------------------------------------------"
      ],
      "text/plain": [
       "<IPython.core.display.HTML object>"
      ]
     },
     "metadata": {},
     "output_type": "display_data"
    },
    {
     "name": "stdout",
     "output_type": "stream",
     "text": [
      "                                                                                          \r"
     ]
    },
    {
     "data": {
      "text/html": [
       "svm"
      ],
      "text/plain": [
       "<IPython.core.display.HTML object>"
      ]
     },
     "metadata": {},
     "output_type": "display_data"
    },
    {
     "name": "stdout",
     "output_type": "stream",
     "text": [
      "SVM_3                                                                                                                                                                                                   \n",
      "SVM_1                                                                                     \n",
      "SVM_2                                                                                     \n",
      "                                                                                          \r"
     ]
    },
    {
     "data": {
      "text/html": [
       "----------------------------------------------------------------------------------------------------"
      ],
      "text/plain": [
       "<IPython.core.display.HTML object>"
      ]
     },
     "metadata": {},
     "output_type": "display_data"
    },
    {
     "name": "stdout",
     "output_type": "stream",
     "text": [
      "                                                                                          \r"
     ]
    },
    {
     "data": {
      "text/html": [
       "Evaluating models performance ..."
      ],
      "text/plain": [
       "<IPython.core.display.HTML object>"
      ]
     },
     "metadata": {},
     "output_type": "display_data"
    },
    {
     "name": "stdout",
     "output_type": "stream",
     "text": [
      "                                                                                          \r"
     ]
    },
    {
     "data": {
      "text/html": [
       "Evaluation completed."
      ],
      "text/plain": [
       "<IPython.core.display.HTML object>"
      ]
     },
     "metadata": {},
     "output_type": "display_data"
    },
    {
     "name": "stdout",
     "output_type": "stream",
     "text": [
      "                                                                                          \r"
     ]
    },
    {
     "data": {
      "text/html": [
       "Leaderboard"
      ],
      "text/plain": [
       "<IPython.core.display.HTML object>"
      ]
     },
     "metadata": {},
     "output_type": "display_data"
    },
    {
     "data": {
      "text/html": [
       "<div>\n",
       "<style scoped>\n",
       "    .dataframe tbody tr th:only-of-type {\n",
       "        vertical-align: middle;\n",
       "    }\n",
       "\n",
       "    .dataframe tbody tr th {\n",
       "        vertical-align: top;\n",
       "    }\n",
       "\n",
       "    .dataframe thead th {\n",
       "        text-align: right;\n",
       "    }\n",
       "</style>\n",
       "<table border=\"1\" class=\"dataframe\">\n",
       "  <thead>\n",
       "    <tr style=\"text-align: right;\">\n",
       "      <th></th>\n",
       "      <th>Rank</th>\n",
       "      <th>Name</th>\n",
       "      <th>Feature selection</th>\n",
       "      <th>MAE</th>\n",
       "      <th>MSE</th>\n",
       "      <th>MSLE</th>\n",
       "      <th>RMSE</th>\n",
       "      <th>RMSLE</th>\n",
       "      <th>R2-score</th>\n",
       "      <th>Adjusted R2-score</th>\n",
       "    </tr>\n",
       "  </thead>\n",
       "  <tbody>\n",
       "    <tr>\n",
       "      <th>0</th>\n",
       "      <td>1</td>\n",
       "      <td>knn</td>\n",
       "      <td>rfe</td>\n",
       "      <td>47.849410</td>\n",
       "      <td>5.448357e+03</td>\n",
       "      <td>0.025187</td>\n",
       "      <td>73.812984</td>\n",
       "      <td>0.158703</td>\n",
       "      <td>0.956164</td>\n",
       "      <td>0.953729</td>\n",
       "    </tr>\n",
       "    <tr>\n",
       "      <th>1</th>\n",
       "      <td>2</td>\n",
       "      <td>knn</td>\n",
       "      <td>pca</td>\n",
       "      <td>51.387364</td>\n",
       "      <td>7.439020e+03</td>\n",
       "      <td>0.027744</td>\n",
       "      <td>86.249755</td>\n",
       "      <td>0.166564</td>\n",
       "      <td>0.940148</td>\n",
       "      <td>0.931080</td>\n",
       "    </tr>\n",
       "    <tr>\n",
       "      <th>2</th>\n",
       "      <td>3</td>\n",
       "      <td>decision_forest</td>\n",
       "      <td>pca</td>\n",
       "      <td>62.669872</td>\n",
       "      <td>7.813414e+03</td>\n",
       "      <td>0.158153</td>\n",
       "      <td>88.393517</td>\n",
       "      <td>0.397684</td>\n",
       "      <td>0.937136</td>\n",
       "      <td>0.927611</td>\n",
       "    </tr>\n",
       "    <tr>\n",
       "      <th>3</th>\n",
       "      <td>4</td>\n",
       "      <td>knn</td>\n",
       "      <td>lasso</td>\n",
       "      <td>49.282561</td>\n",
       "      <td>8.130170e+03</td>\n",
       "      <td>0.027453</td>\n",
       "      <td>90.167455</td>\n",
       "      <td>0.165688</td>\n",
       "      <td>0.934587</td>\n",
       "      <td>0.911226</td>\n",
       "    </tr>\n",
       "    <tr>\n",
       "      <th>4</th>\n",
       "      <td>5</td>\n",
       "      <td>decision_forest</td>\n",
       "      <td>rfe</td>\n",
       "      <td>87.000000</td>\n",
       "      <td>1.967725e+04</td>\n",
       "      <td>0.133735</td>\n",
       "      <td>140.275613</td>\n",
       "      <td>0.365698</td>\n",
       "      <td>0.841683</td>\n",
       "      <td>0.832888</td>\n",
       "    </tr>\n",
       "    <tr>\n",
       "      <th>5</th>\n",
       "      <td>6</td>\n",
       "      <td>decision_forest</td>\n",
       "      <td>lasso</td>\n",
       "      <td>145.006410</td>\n",
       "      <td>3.770418e+04</td>\n",
       "      <td>0.352815</td>\n",
       "      <td>194.175639</td>\n",
       "      <td>0.593982</td>\n",
       "      <td>0.696644</td>\n",
       "      <td>0.588303</td>\n",
       "    </tr>\n",
       "    <tr>\n",
       "      <th>6</th>\n",
       "      <td>7</td>\n",
       "      <td>svm</td>\n",
       "      <td>lasso</td>\n",
       "      <td>448.994095</td>\n",
       "      <td>3.226849e+05</td>\n",
       "      <td>8.774630</td>\n",
       "      <td>568.053611</td>\n",
       "      <td>2.962200</td>\n",
       "      <td>-1.596220</td>\n",
       "      <td>-2.523441</td>\n",
       "    </tr>\n",
       "    <tr>\n",
       "      <th>7</th>\n",
       "      <td>8</td>\n",
       "      <td>svm</td>\n",
       "      <td>pca</td>\n",
       "      <td>452.229703</td>\n",
       "      <td>3.268275e+05</td>\n",
       "      <td>9.930168</td>\n",
       "      <td>571.688251</td>\n",
       "      <td>3.151217</td>\n",
       "      <td>-1.629549</td>\n",
       "      <td>-2.027966</td>\n",
       "    </tr>\n",
       "    <tr>\n",
       "      <th>8</th>\n",
       "      <td>9</td>\n",
       "      <td>svm</td>\n",
       "      <td>rfe</td>\n",
       "      <td>452.591578</td>\n",
       "      <td>3.276263e+05</td>\n",
       "      <td>10.108538</td>\n",
       "      <td>572.386527</td>\n",
       "      <td>3.179393</td>\n",
       "      <td>-1.635977</td>\n",
       "      <td>-1.782420</td>\n",
       "    </tr>\n",
       "    <tr>\n",
       "      <th>9</th>\n",
       "      <td>10</td>\n",
       "      <td>xgboost</td>\n",
       "      <td>lasso</td>\n",
       "      <td>1422.663870</td>\n",
       "      <td>2.579083e+06</td>\n",
       "      <td>0.800040</td>\n",
       "      <td>1605.952379</td>\n",
       "      <td>0.894450</td>\n",
       "      <td>-19.750479</td>\n",
       "      <td>-27.161365</td>\n",
       "    </tr>\n",
       "    <tr>\n",
       "      <th>10</th>\n",
       "      <td>11</td>\n",
       "      <td>xgboost</td>\n",
       "      <td>rfe</td>\n",
       "      <td>1703.001078</td>\n",
       "      <td>3.555383e+06</td>\n",
       "      <td>1.164725</td>\n",
       "      <td>1885.572246</td>\n",
       "      <td>1.079224</td>\n",
       "      <td>-27.605475</td>\n",
       "      <td>-29.194668</td>\n",
       "    </tr>\n",
       "    <tr>\n",
       "      <th>11</th>\n",
       "      <td>12</td>\n",
       "      <td>xgboost</td>\n",
       "      <td>pca</td>\n",
       "      <td>1809.889468</td>\n",
       "      <td>3.944404e+06</td>\n",
       "      <td>0.783399</td>\n",
       "      <td>1986.052363</td>\n",
       "      <td>0.885098</td>\n",
       "      <td>-30.735416</td>\n",
       "      <td>-35.543812</td>\n",
       "    </tr>\n",
       "  </tbody>\n",
       "</table>\n",
       "</div>"
      ],
      "text/plain": [
       "    Rank             Name Feature selection          MAE           MSE  \\\n",
       "0      1              knn               rfe    47.849410  5.448357e+03   \n",
       "1      2              knn               pca    51.387364  7.439020e+03   \n",
       "2      3  decision_forest               pca    62.669872  7.813414e+03   \n",
       "3      4              knn             lasso    49.282561  8.130170e+03   \n",
       "4      5  decision_forest               rfe    87.000000  1.967725e+04   \n",
       "5      6  decision_forest             lasso   145.006410  3.770418e+04   \n",
       "6      7              svm             lasso   448.994095  3.226849e+05   \n",
       "7      8              svm               pca   452.229703  3.268275e+05   \n",
       "8      9              svm               rfe   452.591578  3.276263e+05   \n",
       "9     10          xgboost             lasso  1422.663870  2.579083e+06   \n",
       "10    11          xgboost               rfe  1703.001078  3.555383e+06   \n",
       "11    12          xgboost               pca  1809.889468  3.944404e+06   \n",
       "\n",
       "         MSLE         RMSE     RMSLE   R2-score  Adjusted R2-score  \n",
       "0    0.025187    73.812984  0.158703   0.956164           0.953729  \n",
       "1    0.027744    86.249755  0.166564   0.940148           0.931080  \n",
       "2    0.158153    88.393517  0.397684   0.937136           0.927611  \n",
       "3    0.027453    90.167455  0.165688   0.934587           0.911226  \n",
       "4    0.133735   140.275613  0.365698   0.841683           0.832888  \n",
       "5    0.352815   194.175639  0.593982   0.696644           0.588303  \n",
       "6    8.774630   568.053611  2.962200  -1.596220          -2.523441  \n",
       "7    9.930168   571.688251  3.151217  -1.629549          -2.027966  \n",
       "8   10.108538   572.386527  3.179393  -1.635977          -1.782420  \n",
       "9    0.800040  1605.952379  0.894450 -19.750479         -27.161365  \n",
       "10   1.164725  1885.572246  1.079224 -27.605475         -29.194668  \n",
       "11   0.783399  1986.052363  0.885098 -30.735416         -35.543812  "
      ]
     },
     "metadata": {},
     "output_type": "display_data"
    },
    {
     "name": "stdout",
     "output_type": "stream",
     "text": [
      "                                                                                          \r"
     ]
    },
    {
     "data": {
      "text/html": [
       "\n",
       "            <style>\n",
       "                .custom-div {\n",
       "                    background-color: lightgray;\n",
       "                    color: #000000;\n",
       "                    padding: 10px;\n",
       "                    border-radius: 8px;\n",
       "                    box-shadow: 0 3px 4px rgba(0 -  0 -  0 -  0.2);\n",
       "                    margin-bottom: 10px;\n",
       "                    text-align: center;\n",
       "                }\n",
       "            </style>\n",
       "        <br><div class=\"custom-div\"><h3><span style=\"color: green;\">1. Feature Exploration -> 2. Feature Engineering -> 3. Data Preparation -> 4. Model Training & Evaluation</span><center></h3></center></div>"
      ],
      "text/plain": [
       "<IPython.core.display.HTML object>"
      ]
     },
     "metadata": {},
     "output_type": "display_data"
    },
    {
     "name": "stdout",
     "output_type": "stream",
     "text": [
      "Completed: ｜⫿⫿⫿⫿⫿⫿⫿⫿⫿⫿⫿⫿⫿⫿⫿⫿⫿⫿⫿⫿⫿⫿⫿⫿⫿⫿⫿⫿⫿⫿⫿⫿⫿⫿⫿⫿⫿⫿⫿⫿⫿⫿⫿⫿⫿⫿⫿⫿⫿⫿⫿⫿⫿⫿⫿⫿⫿⫿⫿⫿｜ 100% - 22/22    \r"
     ]
    }
   ],
   "source": [
    "# Fitting train data\n",
    "aml.fit(fish_df_train, fish_df_train.Weight)"
   ]
  },
  {
   "cell_type": "markdown",
   "id": "23a04eb1-68e6-48b7-95aa-442f434809da",
   "metadata": {},
   "source": [
    "## <b><span style='color:#F1A424'>| 3.</span> Leaderboard : </b>"
   ]
  },
  {
   "cell_type": "code",
   "execution_count": 17,
   "id": "77de1099-6122-4f8a-8e7f-dd67e5b4ced4",
   "metadata": {},
   "outputs": [
    {
     "data": {
      "text/html": [
       "<div>\n",
       "<style scoped>\n",
       "    .dataframe tbody tr th:only-of-type {\n",
       "        vertical-align: middle;\n",
       "    }\n",
       "\n",
       "    .dataframe tbody tr th {\n",
       "        vertical-align: top;\n",
       "    }\n",
       "\n",
       "    .dataframe thead th {\n",
       "        text-align: right;\n",
       "    }\n",
       "</style>\n",
       "<table border=\"1\" class=\"dataframe\">\n",
       "  <thead>\n",
       "    <tr style=\"text-align: right;\">\n",
       "      <th></th>\n",
       "      <th>Rank</th>\n",
       "      <th>Name</th>\n",
       "      <th>Feature selection</th>\n",
       "      <th>MAE</th>\n",
       "      <th>MSE</th>\n",
       "      <th>MSLE</th>\n",
       "      <th>RMSE</th>\n",
       "      <th>RMSLE</th>\n",
       "      <th>R2-score</th>\n",
       "      <th>Adjusted R2-score</th>\n",
       "    </tr>\n",
       "  </thead>\n",
       "  <tbody>\n",
       "    <tr>\n",
       "      <th>0</th>\n",
       "      <td>1</td>\n",
       "      <td>knn</td>\n",
       "      <td>rfe</td>\n",
       "      <td>47.849410</td>\n",
       "      <td>5.448357e+03</td>\n",
       "      <td>0.025187</td>\n",
       "      <td>73.812984</td>\n",
       "      <td>0.158703</td>\n",
       "      <td>0.956164</td>\n",
       "      <td>0.953729</td>\n",
       "    </tr>\n",
       "    <tr>\n",
       "      <th>1</th>\n",
       "      <td>2</td>\n",
       "      <td>knn</td>\n",
       "      <td>pca</td>\n",
       "      <td>51.387364</td>\n",
       "      <td>7.439020e+03</td>\n",
       "      <td>0.027744</td>\n",
       "      <td>86.249755</td>\n",
       "      <td>0.166564</td>\n",
       "      <td>0.940148</td>\n",
       "      <td>0.931080</td>\n",
       "    </tr>\n",
       "    <tr>\n",
       "      <th>2</th>\n",
       "      <td>3</td>\n",
       "      <td>decision_forest</td>\n",
       "      <td>pca</td>\n",
       "      <td>62.669872</td>\n",
       "      <td>7.813414e+03</td>\n",
       "      <td>0.158153</td>\n",
       "      <td>88.393517</td>\n",
       "      <td>0.397684</td>\n",
       "      <td>0.937136</td>\n",
       "      <td>0.927611</td>\n",
       "    </tr>\n",
       "    <tr>\n",
       "      <th>3</th>\n",
       "      <td>4</td>\n",
       "      <td>knn</td>\n",
       "      <td>lasso</td>\n",
       "      <td>49.282561</td>\n",
       "      <td>8.130170e+03</td>\n",
       "      <td>0.027453</td>\n",
       "      <td>90.167455</td>\n",
       "      <td>0.165688</td>\n",
       "      <td>0.934587</td>\n",
       "      <td>0.911226</td>\n",
       "    </tr>\n",
       "    <tr>\n",
       "      <th>4</th>\n",
       "      <td>5</td>\n",
       "      <td>decision_forest</td>\n",
       "      <td>rfe</td>\n",
       "      <td>87.000000</td>\n",
       "      <td>1.967725e+04</td>\n",
       "      <td>0.133735</td>\n",
       "      <td>140.275613</td>\n",
       "      <td>0.365698</td>\n",
       "      <td>0.841683</td>\n",
       "      <td>0.832888</td>\n",
       "    </tr>\n",
       "    <tr>\n",
       "      <th>5</th>\n",
       "      <td>6</td>\n",
       "      <td>decision_forest</td>\n",
       "      <td>lasso</td>\n",
       "      <td>145.006410</td>\n",
       "      <td>3.770418e+04</td>\n",
       "      <td>0.352815</td>\n",
       "      <td>194.175639</td>\n",
       "      <td>0.593982</td>\n",
       "      <td>0.696644</td>\n",
       "      <td>0.588303</td>\n",
       "    </tr>\n",
       "    <tr>\n",
       "      <th>6</th>\n",
       "      <td>7</td>\n",
       "      <td>svm</td>\n",
       "      <td>lasso</td>\n",
       "      <td>448.994095</td>\n",
       "      <td>3.226849e+05</td>\n",
       "      <td>8.774630</td>\n",
       "      <td>568.053611</td>\n",
       "      <td>2.962200</td>\n",
       "      <td>-1.596220</td>\n",
       "      <td>-2.523441</td>\n",
       "    </tr>\n",
       "    <tr>\n",
       "      <th>7</th>\n",
       "      <td>8</td>\n",
       "      <td>svm</td>\n",
       "      <td>pca</td>\n",
       "      <td>452.229703</td>\n",
       "      <td>3.268275e+05</td>\n",
       "      <td>9.930168</td>\n",
       "      <td>571.688251</td>\n",
       "      <td>3.151217</td>\n",
       "      <td>-1.629549</td>\n",
       "      <td>-2.027966</td>\n",
       "    </tr>\n",
       "    <tr>\n",
       "      <th>8</th>\n",
       "      <td>9</td>\n",
       "      <td>svm</td>\n",
       "      <td>rfe</td>\n",
       "      <td>452.591578</td>\n",
       "      <td>3.276263e+05</td>\n",
       "      <td>10.108538</td>\n",
       "      <td>572.386527</td>\n",
       "      <td>3.179393</td>\n",
       "      <td>-1.635977</td>\n",
       "      <td>-1.782420</td>\n",
       "    </tr>\n",
       "    <tr>\n",
       "      <th>9</th>\n",
       "      <td>10</td>\n",
       "      <td>xgboost</td>\n",
       "      <td>lasso</td>\n",
       "      <td>1422.663870</td>\n",
       "      <td>2.579083e+06</td>\n",
       "      <td>0.800040</td>\n",
       "      <td>1605.952379</td>\n",
       "      <td>0.894450</td>\n",
       "      <td>-19.750479</td>\n",
       "      <td>-27.161365</td>\n",
       "    </tr>\n",
       "    <tr>\n",
       "      <th>10</th>\n",
       "      <td>11</td>\n",
       "      <td>xgboost</td>\n",
       "      <td>rfe</td>\n",
       "      <td>1703.001078</td>\n",
       "      <td>3.555383e+06</td>\n",
       "      <td>1.164725</td>\n",
       "      <td>1885.572246</td>\n",
       "      <td>1.079224</td>\n",
       "      <td>-27.605475</td>\n",
       "      <td>-29.194668</td>\n",
       "    </tr>\n",
       "    <tr>\n",
       "      <th>11</th>\n",
       "      <td>12</td>\n",
       "      <td>xgboost</td>\n",
       "      <td>pca</td>\n",
       "      <td>1809.889468</td>\n",
       "      <td>3.944404e+06</td>\n",
       "      <td>0.783399</td>\n",
       "      <td>1986.052363</td>\n",
       "      <td>0.885098</td>\n",
       "      <td>-30.735416</td>\n",
       "      <td>-35.543812</td>\n",
       "    </tr>\n",
       "  </tbody>\n",
       "</table>\n",
       "</div>"
      ],
      "text/plain": [
       "    Rank             Name Feature selection          MAE           MSE  \\\n",
       "0      1              knn               rfe    47.849410  5.448357e+03   \n",
       "1      2              knn               pca    51.387364  7.439020e+03   \n",
       "2      3  decision_forest               pca    62.669872  7.813414e+03   \n",
       "3      4              knn             lasso    49.282561  8.130170e+03   \n",
       "4      5  decision_forest               rfe    87.000000  1.967725e+04   \n",
       "5      6  decision_forest             lasso   145.006410  3.770418e+04   \n",
       "6      7              svm             lasso   448.994095  3.226849e+05   \n",
       "7      8              svm               pca   452.229703  3.268275e+05   \n",
       "8      9              svm               rfe   452.591578  3.276263e+05   \n",
       "9     10          xgboost             lasso  1422.663870  2.579083e+06   \n",
       "10    11          xgboost               rfe  1703.001078  3.555383e+06   \n",
       "11    12          xgboost               pca  1809.889468  3.944404e+06   \n",
       "\n",
       "         MSLE         RMSE     RMSLE   R2-score  Adjusted R2-score  \n",
       "0    0.025187    73.812984  0.158703   0.956164           0.953729  \n",
       "1    0.027744    86.249755  0.166564   0.940148           0.931080  \n",
       "2    0.158153    88.393517  0.397684   0.937136           0.927611  \n",
       "3    0.027453    90.167455  0.165688   0.934587           0.911226  \n",
       "4    0.133735   140.275613  0.365698   0.841683           0.832888  \n",
       "5    0.352815   194.175639  0.593982   0.696644           0.588303  \n",
       "6    8.774630   568.053611  2.962200  -1.596220          -2.523441  \n",
       "7    9.930168   571.688251  3.151217  -1.629549          -2.027966  \n",
       "8   10.108538   572.386527  3.179393  -1.635977          -1.782420  \n",
       "9    0.800040  1605.952379  0.894450 -19.750479         -27.161365  \n",
       "10   1.164725  1885.572246  1.079224 -27.605475         -29.194668  \n",
       "11   0.783399  1986.052363  0.885098 -30.735416         -35.543812  "
      ]
     },
     "execution_count": 17,
     "metadata": {},
     "output_type": "execute_result"
    }
   ],
   "source": [
    "# Fetching Leaderboard\n",
    "aml.leaderboard()"
   ]
  },
  {
   "cell_type": "markdown",
   "id": "a7a3aa08-e349-4a61-9217-2c17d50411d8",
   "metadata": {},
   "source": [
    "## <b><span style='color:#F1A424'>| 4.</span> Best Performing Model : </b>"
   ]
  },
  {
   "cell_type": "code",
   "execution_count": 18,
   "id": "c4c32832-a76b-4f42-826a-cefc38a6301b",
   "metadata": {},
   "outputs": [
    {
     "data": {
      "text/html": [
       "<div>\n",
       "<style scoped>\n",
       "    .dataframe tbody tr th:only-of-type {\n",
       "        vertical-align: middle;\n",
       "    }\n",
       "\n",
       "    .dataframe tbody tr th {\n",
       "        vertical-align: top;\n",
       "    }\n",
       "\n",
       "    .dataframe thead th {\n",
       "        text-align: right;\n",
       "    }\n",
       "</style>\n",
       "<table border=\"1\" class=\"dataframe\">\n",
       "  <thead>\n",
       "    <tr style=\"text-align: right;\">\n",
       "      <th></th>\n",
       "      <th>Rank</th>\n",
       "      <th>Name</th>\n",
       "      <th>Feature selection</th>\n",
       "      <th>MAE</th>\n",
       "      <th>MSE</th>\n",
       "      <th>MSLE</th>\n",
       "      <th>RMSE</th>\n",
       "      <th>RMSLE</th>\n",
       "      <th>R2-score</th>\n",
       "      <th>Adjusted R2-score</th>\n",
       "    </tr>\n",
       "  </thead>\n",
       "  <tbody>\n",
       "    <tr>\n",
       "      <th>0</th>\n",
       "      <td>1</td>\n",
       "      <td>knn</td>\n",
       "      <td>rfe</td>\n",
       "      <td>47.84941</td>\n",
       "      <td>5448.356641</td>\n",
       "      <td>0.025187</td>\n",
       "      <td>73.812984</td>\n",
       "      <td>0.158703</td>\n",
       "      <td>0.956164</td>\n",
       "      <td>0.953729</td>\n",
       "    </tr>\n",
       "  </tbody>\n",
       "</table>\n",
       "</div>"
      ],
      "text/plain": [
       "   Rank Name Feature selection       MAE          MSE      MSLE       RMSE  \\\n",
       "0     1  knn               rfe  47.84941  5448.356641  0.025187  73.812984   \n",
       "\n",
       "      RMSLE  R2-score  Adjusted R2-score  \n",
       "0  0.158703  0.956164           0.953729  "
      ]
     },
     "metadata": {},
     "output_type": "display_data"
    }
   ],
   "source": [
    "# Fetching best performing model for dataset\n",
    "aml.leader()"
   ]
  },
  {
   "cell_type": "markdown",
   "id": "e43181a9-3847-4e8b-b510-6da81f1c550f",
   "metadata": {},
   "source": [
    "## <b><span style='color:#F1A424'>| 5.</span> Generating Prediction : </b>"
   ]
  },
  {
   "cell_type": "markdown",
   "id": "8bf3bed8-dbdd-4239-97da-f289559c785c",
   "metadata": {},
   "source": [
    "### <b><span style='color:#F1A424'>| 5.1.</span> Generating prediction on default validation test data </b>"
   ]
  },
  {
   "cell_type": "code",
   "execution_count": 19,
   "id": "27663268-da3c-4717-b675-6d3a6d6f8f37",
   "metadata": {},
   "outputs": [
    {
     "name": "stdout",
     "output_type": "stream",
     "text": [
      "knn rfe\n",
      "\n",
      " Prediction : \n",
      "    id  prediction  Weight\n",
      "0   13  541.958205     500\n",
      "1   50  982.003828     925\n",
      "2  112   90.049468      80\n",
      "3   37  542.229534     567\n",
      "4  154  745.058859     714\n",
      "5   16   92.031820      90\n",
      "6  100  506.819101     390\n",
      "7   12  131.485856     145\n",
      "8   55    9.021113       9\n",
      "9   45  314.461292     430\n",
      "\n",
      " Performance Metrics : \n",
      "        MAE          MSE      MSLE       MAPE       MPE       RMSE     RMSLE          ME        R2        EV       MPD       MGD\n",
      "0  47.84941  5448.356641  0.025187  10.569013  0.122226  73.812984  0.158703  232.674186  0.956164  0.956172  8.807784  0.027861\n"
     ]
    }
   ],
   "source": [
    "# Generating prediction and metrics on default test data\n",
    "prediction = aml.predict()"
   ]
  },
  {
   "cell_type": "code",
   "execution_count": 20,
   "id": "742da363-550e-43e9-8c4b-d5feac54f522",
   "metadata": {},
   "outputs": [
    {
     "data": {
      "text/html": [
       "<style type=\"text/css\">\n",
       "\ttable {border:ridge 5px;}\n",
       "\ttable td {border:inset 1px;}\n",
       "\ttable tr#HeaderRow {background-color:grey; color:white;}</style>\n",
       "<html><table>\n",
       "\t<tr id=\"HeaderRow\">\n",
       "\t\t<th>id</th>\n",
       "\t\t<th>prediction</th>\n",
       "\t\t<th>Weight</th>\n",
       "\t</tr>\n",
       "\t<tr>\n",
       "\t\t<td>16</td>\n",
       "\t\t<td>92.03182037031716</td>\n",
       "\t\t<td>90</td>\n",
       "\t</tr>\n",
       "\t<tr>\n",
       "\t\t<td>20</td>\n",
       "\t\t<td>150.02651379829365</td>\n",
       "\t\t<td>150</td>\n",
       "\t</tr>\n",
       "\t<tr>\n",
       "\t\t<td>26</td>\n",
       "\t\t<td>932.7550487171717</td>\n",
       "\t\t<td>955</td>\n",
       "\t</tr>\n",
       "\t<tr>\n",
       "\t\t<td>37</td>\n",
       "\t\t<td>542.2295338353506</td>\n",
       "\t\t<td>567</td>\n",
       "\t</tr>\n",
       "\t<tr>\n",
       "\t\t<td>45</td>\n",
       "\t\t<td>314.4612919694693</td>\n",
       "\t\t<td>430</td>\n",
       "\t</tr>\n",
       "\t<tr>\n",
       "\t\t<td>50</td>\n",
       "\t\t<td>982.003828217571</td>\n",
       "\t\t<td>925</td>\n",
       "\t</tr>\n",
       "\t<tr>\n",
       "\t\t<td>42</td>\n",
       "\t\t<td>562.247880624827</td>\n",
       "\t\t<td>700</td>\n",
       "\t</tr>\n",
       "\t<tr>\n",
       "\t\t<td>18</td>\n",
       "\t\t<td>637.7465626556584</td>\n",
       "\t\t<td>650</td>\n",
       "\t</tr>\n",
       "\t<tr>\n",
       "\t\t<td>13</td>\n",
       "\t\t<td>541.958205272727</td>\n",
       "\t\t<td>500</td>\n",
       "\t</tr>\n",
       "\t<tr>\n",
       "\t\t<td>12</td>\n",
       "\t\t<td>131.48585565211513</td>\n",
       "\t\t<td>145</td>\n",
       "\t</tr>\n",
       "</table></html>"
      ],
      "text/plain": [
       "   id  prediction  Weight\n",
       "0  16   92.031820      90\n",
       "1  20  150.026514     150\n",
       "2  26  932.755049     955\n",
       "3  37  542.229534     567\n",
       "4  45  314.461292     430\n",
       "5  50  982.003828     925\n",
       "6  42  562.247881     700\n",
       "7  18  637.746563     650\n",
       "8  13  541.958205     500\n",
       "9  12  131.485856     145"
      ]
     },
     "execution_count": 20,
     "metadata": {},
     "output_type": "execute_result"
    }
   ],
   "source": [
    "# Printing prediction\n",
    "prediction.head()"
   ]
  },
  {
   "cell_type": "markdown",
   "id": "ff38e5a7-70a4-4e80-9728-3b5e93b62344",
   "metadata": {},
   "source": [
    "### <b><span style='color:#F1A424'>| 5.2. </span> Generating prediction on external test data </b>"
   ]
  },
  {
   "cell_type": "code",
   "execution_count": 21,
   "id": "5b6edfe3-bd5a-46bd-ad80-b20fadfed7a0",
   "metadata": {},
   "outputs": [
    {
     "name": "stdout",
     "output_type": "stream",
     "text": [
      "Data Transformation started ...\n",
      "Performing transformation carried out in feature engineering phase ...\n",
      "result data stored in table '\"AUTOML_USR\".\"ml__td_sqlmr_persist_out__171284763824159\"'\n",
      "\n",
      "Updated dataset after performing categorical encoding :\n"
     ]
    },
    {
     "data": {
      "text/html": [
       "<style type=\"text/css\">\n",
       "\ttable {border:ridge 5px;}\n",
       "\ttable td {border:inset 1px;}\n",
       "\ttable tr#HeaderRow {background-color:grey; color:white;}</style>\n",
       "<html><table>\n",
       "\t<tr id=\"HeaderRow\">\n",
       "\t\t<th>Species_0</th>\n",
       "\t\t<th>Species_1</th>\n",
       "\t\t<th>Species_2</th>\n",
       "\t\t<th>Species_3</th>\n",
       "\t\t<th>Species_4</th>\n",
       "\t\t<th>Species_5</th>\n",
       "\t\t<th>Species_6</th>\n",
       "\t\t<th>Weight</th>\n",
       "\t\t<th>Length1</th>\n",
       "\t\t<th>Length2</th>\n",
       "\t\t<th>Length3</th>\n",
       "\t\t<th>Height</th>\n",
       "\t\t<th>Width</th>\n",
       "\t\t<th>id</th>\n",
       "\t</tr>\n",
       "\t<tr>\n",
       "\t\t<td>1</td>\n",
       "\t\t<td>0</td>\n",
       "\t\t<td>0</td>\n",
       "\t\t<td>0</td>\n",
       "\t\t<td>0</td>\n",
       "\t\t<td>0</td>\n",
       "\t\t<td>0</td>\n",
       "\t\t<td>290</td>\n",
       "\t\t<td>24.0</td>\n",
       "\t\t<td>26.3</td>\n",
       "\t\t<td>31.2</td>\n",
       "\t\t<td>12.48</td>\n",
       "\t\t<td>4.3056</td>\n",
       "\t\t<td>50</td>\n",
       "\t</tr>\n",
       "\t<tr>\n",
       "\t\t<td>1</td>\n",
       "\t\t<td>0</td>\n",
       "\t\t<td>0</td>\n",
       "\t\t<td>0</td>\n",
       "\t\t<td>0</td>\n",
       "\t\t<td>0</td>\n",
       "\t\t<td>0</td>\n",
       "\t\t<td>700</td>\n",
       "\t\t<td>31.9</td>\n",
       "\t\t<td>35.0</td>\n",
       "\t\t<td>40.5</td>\n",
       "\t\t<td>16.2405</td>\n",
       "\t\t<td>5.589</td>\n",
       "\t\t<td>34</td>\n",
       "\t</tr>\n",
       "\t<tr>\n",
       "\t\t<td>1</td>\n",
       "\t\t<td>0</td>\n",
       "\t\t<td>0</td>\n",
       "\t\t<td>0</td>\n",
       "\t\t<td>0</td>\n",
       "\t\t<td>0</td>\n",
       "\t\t<td>0</td>\n",
       "\t\t<td>700</td>\n",
       "\t\t<td>30.4</td>\n",
       "\t\t<td>33.0</td>\n",
       "\t\t<td>38.3</td>\n",
       "\t\t<td>14.8604</td>\n",
       "\t\t<td>5.2854</td>\n",
       "\t\t<td>18</td>\n",
       "\t</tr>\n",
       "\t<tr>\n",
       "\t\t<td>1</td>\n",
       "\t\t<td>0</td>\n",
       "\t\t<td>0</td>\n",
       "\t\t<td>0</td>\n",
       "\t\t<td>0</td>\n",
       "\t\t<td>0</td>\n",
       "\t\t<td>0</td>\n",
       "\t\t<td>430</td>\n",
       "\t\t<td>26.5</td>\n",
       "\t\t<td>29.0</td>\n",
       "\t\t<td>34.0</td>\n",
       "\t\t<td>12.444</td>\n",
       "\t\t<td>5.134</td>\n",
       "\t\t<td>10</td>\n",
       "\t</tr>\n",
       "\t<tr>\n",
       "\t\t<td>0</td>\n",
       "\t\t<td>0</td>\n",
       "\t\t<td>1</td>\n",
       "\t\t<td>0</td>\n",
       "\t\t<td>0</td>\n",
       "\t\t<td>0</td>\n",
       "\t\t<td>0</td>\n",
       "\t\t<td>5</td>\n",
       "\t\t<td>7.5</td>\n",
       "\t\t<td>8.4</td>\n",
       "\t\t<td>8.8</td>\n",
       "\t\t<td>2.112</td>\n",
       "\t\t<td>1.408</td>\n",
       "\t\t<td>40</td>\n",
       "\t</tr>\n",
       "\t<tr>\n",
       "\t\t<td>0</td>\n",
       "\t\t<td>0</td>\n",
       "\t\t<td>1</td>\n",
       "\t\t<td>0</td>\n",
       "\t\t<td>0</td>\n",
       "\t\t<td>0</td>\n",
       "\t\t<td>0</td>\n",
       "\t\t<td>120</td>\n",
       "\t\t<td>20.0</td>\n",
       "\t\t<td>22.0</td>\n",
       "\t\t<td>23.5</td>\n",
       "\t\t<td>6.11</td>\n",
       "\t\t<td>3.4075</td>\n",
       "\t\t<td>48</td>\n",
       "\t</tr>\n",
       "\t<tr>\n",
       "\t\t<td>0</td>\n",
       "\t\t<td>0</td>\n",
       "\t\t<td>1</td>\n",
       "\t\t<td>0</td>\n",
       "\t\t<td>0</td>\n",
       "\t\t<td>0</td>\n",
       "\t\t<td>0</td>\n",
       "\t\t<td>197</td>\n",
       "\t\t<td>23.5</td>\n",
       "\t\t<td>25.6</td>\n",
       "\t\t<td>27.0</td>\n",
       "\t\t<td>6.561</td>\n",
       "\t\t<td>4.239</td>\n",
       "\t\t<td>56</td>\n",
       "\t</tr>\n",
       "\t<tr>\n",
       "\t\t<td>0</td>\n",
       "\t\t<td>0</td>\n",
       "\t\t<td>1</td>\n",
       "\t\t<td>0</td>\n",
       "\t\t<td>0</td>\n",
       "\t\t<td>0</td>\n",
       "\t\t<td>0</td>\n",
       "\t\t<td>225</td>\n",
       "\t\t<td>22.0</td>\n",
       "\t\t<td>24.0</td>\n",
       "\t\t<td>25.5</td>\n",
       "\t\t<td>7.293</td>\n",
       "\t\t<td>3.723</td>\n",
       "\t\t<td>72</td>\n",
       "\t</tr>\n",
       "\t<tr>\n",
       "\t\t<td>0</td>\n",
       "\t\t<td>0</td>\n",
       "\t\t<td>1</td>\n",
       "\t\t<td>0</td>\n",
       "\t\t<td>0</td>\n",
       "\t\t<td>0</td>\n",
       "\t\t<td>0</td>\n",
       "\t\t<td>840</td>\n",
       "\t\t<td>32.5</td>\n",
       "\t\t<td>35.0</td>\n",
       "\t\t<td>37.3</td>\n",
       "\t\t<td>11.4884</td>\n",
       "\t\t<td>7.7957</td>\n",
       "\t\t<td>80</td>\n",
       "\t</tr>\n",
       "\t<tr>\n",
       "\t\t<td>0</td>\n",
       "\t\t<td>0</td>\n",
       "\t\t<td>1</td>\n",
       "\t\t<td>0</td>\n",
       "\t\t<td>0</td>\n",
       "\t\t<td>0</td>\n",
       "\t\t<td>0</td>\n",
       "\t\t<td>700</td>\n",
       "\t\t<td>34.5</td>\n",
       "\t\t<td>37.0</td>\n",
       "\t\t<td>39.4</td>\n",
       "\t\t<td>10.835</td>\n",
       "\t\t<td>6.2646</td>\n",
       "\t\t<td>88</td>\n",
       "\t</tr>\n",
       "</table></html>"
      ],
      "text/plain": [
       "           Species_1  Species_2  Species_3  Species_4  Species_5  Species_6  Weight  Length1  Length2  Length3   Height   Width  id\n",
       "Species_0                                                                                                                          \n",
       "1                  0          0          0          0          0          0     290     24.0     26.3     31.2  12.4800  4.3056  50\n",
       "1                  0          0          0          0          0          0     700     31.9     35.0     40.5  16.2405  5.5890  34\n",
       "1                  0          0          0          0          0          0     700     30.4     33.0     38.3  14.8604  5.2854  18\n",
       "1                  0          0          0          0          0          0     430     26.5     29.0     34.0  12.4440  5.1340  10\n",
       "0                  0          1          0          0          0          0       5      7.5      8.4      8.8   2.1120  1.4080  40\n",
       "0                  0          1          0          0          0          0     120     20.0     22.0     23.5   6.1100  3.4075  48\n",
       "0                  0          1          0          0          0          0     197     23.5     25.6     27.0   6.5610  4.2390  56\n",
       "0                  0          1          0          0          0          0     225     22.0     24.0     25.5   7.2930  3.7230  72\n",
       "0                  0          1          0          0          0          0     840     32.5     35.0     37.3  11.4884  7.7957  80\n",
       "0                  0          1          0          0          0          0     700     34.5     37.0     39.4  10.8350  6.2646  88"
      ]
     },
     "metadata": {},
     "output_type": "display_data"
    },
    {
     "name": "stdout",
     "output_type": "stream",
     "text": [
      "Performing transformation carried out in data preparation phase ...\n",
      "result data stored in table '\"AUTOML_USR\".\"ml__td_sqlmr_persist_out__171283484384608\"'\n",
      "\n",
      "Updated dataset after performing Lasso feature selection:\n"
     ]
    },
    {
     "data": {
      "text/html": [
       "<style type=\"text/css\">\n",
       "\ttable {border:ridge 5px;}\n",
       "\ttable td {border:inset 1px;}\n",
       "\ttable tr#HeaderRow {background-color:grey; color:white;}</style>\n",
       "<html><table>\n",
       "\t<tr id=\"HeaderRow\">\n",
       "\t\t<th>id</th>\n",
       "\t\t<th>Species_3</th>\n",
       "\t\t<th>Species_2</th>\n",
       "\t\t<th>Species_0</th>\n",
       "\t\t<th>Species_5</th>\n",
       "\t\t<th>Species_4</th>\n",
       "\t\t<th>Length1</th>\n",
       "\t\t<th>Length2</th>\n",
       "\t\t<th>Length3</th>\n",
       "\t\t<th>Height</th>\n",
       "\t\t<th>Width</th>\n",
       "\t\t<th>Weight</th>\n",
       "\t</tr>\n",
       "\t<tr>\n",
       "\t\t<td>58</td>\n",
       "\t\t<td>0</td>\n",
       "\t\t<td>0</td>\n",
       "\t\t<td>1</td>\n",
       "\t\t<td>0</td>\n",
       "\t\t<td>0</td>\n",
       "\t\t<td>23.2</td>\n",
       "\t\t<td>25.4</td>\n",
       "\t\t<td>30.0</td>\n",
       "\t\t<td>11.52</td>\n",
       "\t\t<td>4.02</td>\n",
       "\t\t<td>242</td>\n",
       "\t</tr>\n",
       "\t<tr>\n",
       "\t\t<td>20</td>\n",
       "\t\t<td>0</td>\n",
       "\t\t<td>0</td>\n",
       "\t\t<td>0</td>\n",
       "\t\t<td>0</td>\n",
       "\t\t<td>1</td>\n",
       "\t\t<td>20.5</td>\n",
       "\t\t<td>22.5</td>\n",
       "\t\t<td>25.3</td>\n",
       "\t\t<td>7.0334</td>\n",
       "\t\t<td>3.8203</td>\n",
       "\t\t<td>160</td>\n",
       "\t</tr>\n",
       "\t<tr>\n",
       "\t\t<td>10</td>\n",
       "\t\t<td>0</td>\n",
       "\t\t<td>0</td>\n",
       "\t\t<td>1</td>\n",
       "\t\t<td>0</td>\n",
       "\t\t<td>0</td>\n",
       "\t\t<td>26.5</td>\n",
       "\t\t<td>29.0</td>\n",
       "\t\t<td>34.0</td>\n",
       "\t\t<td>12.444</td>\n",
       "\t\t<td>5.134</td>\n",
       "\t\t<td>430</td>\n",
       "\t</tr>\n",
       "\t<tr>\n",
       "\t\t<td>37</td>\n",
       "\t\t<td>1</td>\n",
       "\t\t<td>0</td>\n",
       "\t\t<td>0</td>\n",
       "\t\t<td>0</td>\n",
       "\t\t<td>0</td>\n",
       "\t\t<td>48.3</td>\n",
       "\t\t<td>51.7</td>\n",
       "\t\t<td>55.1</td>\n",
       "\t\t<td>8.9262</td>\n",
       "\t\t<td>6.1712</td>\n",
       "\t\t<td>950</td>\n",
       "\t</tr>\n",
       "\t<tr>\n",
       "\t\t<td>48</td>\n",
       "\t\t<td>0</td>\n",
       "\t\t<td>1</td>\n",
       "\t\t<td>0</td>\n",
       "\t\t<td>0</td>\n",
       "\t\t<td>0</td>\n",
       "\t\t<td>20.0</td>\n",
       "\t\t<td>22.0</td>\n",
       "\t\t<td>23.5</td>\n",
       "\t\t<td>6.11</td>\n",
       "\t\t<td>3.4075</td>\n",
       "\t\t<td>120</td>\n",
       "\t</tr>\n",
       "\t<tr>\n",
       "\t\t<td>12</td>\n",
       "\t\t<td>0</td>\n",
       "\t\t<td>0</td>\n",
       "\t\t<td>0</td>\n",
       "\t\t<td>0</td>\n",
       "\t\t<td>1</td>\n",
       "\t\t<td>17.5</td>\n",
       "\t\t<td>18.8</td>\n",
       "\t\t<td>21.2</td>\n",
       "\t\t<td>5.5756</td>\n",
       "\t\t<td>2.9044</td>\n",
       "\t\t<td>78</td>\n",
       "\t</tr>\n",
       "\t<tr>\n",
       "\t\t<td>32</td>\n",
       "\t\t<td>0</td>\n",
       "\t\t<td>1</td>\n",
       "\t\t<td>0</td>\n",
       "\t\t<td>0</td>\n",
       "\t\t<td>0</td>\n",
       "\t\t<td>19.0</td>\n",
       "\t\t<td>21.0</td>\n",
       "\t\t<td>22.5</td>\n",
       "\t\t<td>5.6925</td>\n",
       "\t\t<td>3.6675</td>\n",
       "\t\t<td>125</td>\n",
       "\t</tr>\n",
       "\t<tr>\n",
       "\t\t<td>29</td>\n",
       "\t\t<td>1</td>\n",
       "\t\t<td>0</td>\n",
       "\t\t<td>0</td>\n",
       "\t\t<td>0</td>\n",
       "\t\t<td>0</td>\n",
       "\t\t<td>44.8</td>\n",
       "\t\t<td>48.0</td>\n",
       "\t\t<td>51.2</td>\n",
       "\t\t<td>7.68</td>\n",
       "\t\t<td>5.376</td>\n",
       "\t\t<td>770</td>\n",
       "\t</tr>\n",
       "\t<tr>\n",
       "\t\t<td>23</td>\n",
       "\t\t<td>0</td>\n",
       "\t\t<td>0</td>\n",
       "\t\t<td>0</td>\n",
       "\t\t<td>1</td>\n",
       "\t\t<td>0</td>\n",
       "\t\t<td>11.7</td>\n",
       "\t\t<td>12.4</td>\n",
       "\t\t<td>13.5</td>\n",
       "\t\t<td>2.43</td>\n",
       "\t\t<td>1.269</td>\n",
       "\t\t<td>13</td>\n",
       "\t</tr>\n",
       "\t<tr>\n",
       "\t\t<td>45</td>\n",
       "\t\t<td>0</td>\n",
       "\t\t<td>0</td>\n",
       "\t\t<td>0</td>\n",
       "\t\t<td>0</td>\n",
       "\t\t<td>0</td>\n",
       "\t\t<td>25.6</td>\n",
       "\t\t<td>28.0</td>\n",
       "\t\t<td>30.8</td>\n",
       "\t\t<td>8.778</td>\n",
       "\t\t<td>4.6816</td>\n",
       "\t\t<td>306</td>\n",
       "\t</tr>\n",
       "</table></html>"
      ],
      "text/plain": [
       "        id  Species_3  Species_2  Species_0  Species_5  Species_4  Length1  Length2  Length3   Height   Width\n",
       "Weight                                                                                                       \n",
       "242     58          0          0          1          0          0     23.2     25.4     30.0  11.5200  4.0200\n",
       "160     20          0          0          0          0          1     20.5     22.5     25.3   7.0334  3.8203\n",
       "430     10          0          0          1          0          0     26.5     29.0     34.0  12.4440  5.1340\n",
       "950     37          1          0          0          0          0     48.3     51.7     55.1   8.9262  6.1712\n",
       "120     48          0          1          0          0          0     20.0     22.0     23.5   6.1100  3.4075\n",
       "78      12          0          0          0          0          1     17.5     18.8     21.2   5.5756  2.9044\n",
       "125     32          0          1          0          0          0     19.0     21.0     22.5   5.6925  3.6675\n",
       "770     29          1          0          0          0          0     44.8     48.0     51.2   7.6800  5.3760\n",
       "13      23          0          0          0          1          0     11.7     12.4     13.5   2.4300  1.2690\n",
       "306     45          0          0          0          0          0     25.6     28.0     30.8   8.7780  4.6816"
      ]
     },
     "metadata": {},
     "output_type": "display_data"
    },
    {
     "name": "stdout",
     "output_type": "stream",
     "text": [
      "\n",
      "Updated dataset after performing scaling on Lasso selected features :\n"
     ]
    },
    {
     "data": {
      "text/html": [
       "<style type=\"text/css\">\n",
       "\ttable {border:ridge 5px;}\n",
       "\ttable td {border:inset 1px;}\n",
       "\ttable tr#HeaderRow {background-color:grey; color:white;}</style>\n",
       "<html><table>\n",
       "\t<tr id=\"HeaderRow\">\n",
       "\t\t<th>Weight</th>\n",
       "\t\t<th>Species_3</th>\n",
       "\t\t<th>Species_2</th>\n",
       "\t\t<th>Species_0</th>\n",
       "\t\t<th>Species_5</th>\n",
       "\t\t<th>id</th>\n",
       "\t\t<th>Species_4</th>\n",
       "\t\t<th>Length1</th>\n",
       "\t\t<th>Length2</th>\n",
       "\t\t<th>Length3</th>\n",
       "\t\t<th>Height</th>\n",
       "\t\t<th>Width</th>\n",
       "\t</tr>\n",
       "\t<tr>\n",
       "\t\t<td>40</td>\n",
       "\t\t<td>0</td>\n",
       "\t\t<td>1</td>\n",
       "\t\t<td>0</td>\n",
       "\t\t<td>0</td>\n",
       "\t\t<td>24</td>\n",
       "\t\t<td>0</td>\n",
       "\t\t<td>-1.19678494900836</td>\n",
       "\t\t<td>-1.530105008052017</td>\n",
       "\t\t<td>-1.2637380631893032</td>\n",
       "\t\t<td>-1.1895525991222444</td>\n",
       "\t\t<td>-1.1177242641543488</td>\n",
       "\t</tr>\n",
       "\t<tr>\n",
       "\t\t<td>78</td>\n",
       "\t\t<td>0</td>\n",
       "\t\t<td>0</td>\n",
       "\t\t<td>0</td>\n",
       "\t\t<td>0</td>\n",
       "\t\t<td>12</td>\n",
       "\t\t<td>1</td>\n",
       "\t\t<td>-0.8375067087381018</td>\n",
       "\t\t<td>-1.0699313281414182</td>\n",
       "\t\t<td>-0.8284124551529999</td>\n",
       "\t\t<td>-0.7836527739359355</td>\n",
       "\t\t<td>-0.8499241610459216</td>\n",
       "\t</tr>\n",
       "\t<tr>\n",
       "\t\t<td>125</td>\n",
       "\t\t<td>0</td>\n",
       "\t\t<td>1</td>\n",
       "\t\t<td>0</td>\n",
       "\t\t<td>0</td>\n",
       "\t\t<td>32</td>\n",
       "\t\t<td>0</td>\n",
       "\t\t<td>-0.6918533680879971</td>\n",
       "\t\t<td>-0.8035149871405454</td>\n",
       "\t\t<td>-0.719581053143924</td>\n",
       "\t\t<td>-0.7565634330109071</td>\n",
       "\t\t<td>-0.41732835519909495</td>\n",
       "\t</tr>\n",
       "\t<tr>\n",
       "\t\t<td>306</td>\n",
       "\t\t<td>0</td>\n",
       "\t\t<td>0</td>\n",
       "\t\t<td>0</td>\n",
       "\t\t<td>0</td>\n",
       "\t\t<td>45</td>\n",
       "\t\t<td>0</td>\n",
       "\t\t<td>-0.050978669227536494</td>\n",
       "\t\t<td>0.04417337058950494</td>\n",
       "\t\t<td>-0.024734409547516746</td>\n",
       "\t\t<td>-0.04155777497690573</td>\n",
       "\t\t<td>0.15755751389966927</td>\n",
       "\t</tr>\n",
       "\t<tr>\n",
       "\t\t<td>13</td>\n",
       "\t\t<td>0</td>\n",
       "\t\t<td>0</td>\n",
       "\t\t<td>0</td>\n",
       "\t\t<td>1</td>\n",
       "\t\t<td>23</td>\n",
       "\t\t<td>0</td>\n",
       "\t\t<td>-1.4006996259185065</td>\n",
       "\t\t<td>-1.8449606837803214</td>\n",
       "\t\t<td>-1.4730292208990643</td>\n",
       "\t\t<td>-1.512585458399314</td>\n",
       "\t\t<td>-1.7770204536444014</td>\n",
       "\t</tr>\n",
       "\t<tr>\n",
       "\t\t<td>160</td>\n",
       "\t\t<td>0</td>\n",
       "\t\t<td>0</td>\n",
       "\t\t<td>0</td>\n",
       "\t\t<td>0</td>\n",
       "\t\t<td>20</td>\n",
       "\t\t<td>1</td>\n",
       "\t\t<td>-0.5462000274378925</td>\n",
       "\t\t<td>-0.6218674819126774</td>\n",
       "\t\t<td>-0.4851749565089914</td>\n",
       "\t\t<td>-0.44583548394015926</td>\n",
       "\t\t<td>-0.33070715334691947</td>\n",
       "\t</tr>\n",
       "\t<tr>\n",
       "\t\t<td>430</td>\n",
       "\t\t<td>0</td>\n",
       "\t\t<td>0</td>\n",
       "\t\t<td>1</td>\n",
       "\t\t<td>0</td>\n",
       "\t\t<td>10</td>\n",
       "\t\t<td>0</td>\n",
       "\t\t<td>0.036413335162526164</td>\n",
       "\t\t<td>0.16527170740808356</td>\n",
       "\t\t<td>0.24315827232097753</td>\n",
       "\t\t<td>0.8079676641262052</td>\n",
       "\t\t<td>0.41401976336252383</td>\n",
       "\t</tr>\n",
       "\t<tr>\n",
       "\t\t<td>950</td>\n",
       "\t\t<td>1</td>\n",
       "\t\t<td>0</td>\n",
       "\t\t<td>0</td>\n",
       "\t\t<td>0</td>\n",
       "\t\t<td>37</td>\n",
       "\t\t<td>0</td>\n",
       "\t\t<td>2.153241885944047</td>\n",
       "\t\t<td>2.9142039531898183</td>\n",
       "\t\t<td>2.0095756433913623</td>\n",
       "\t\t<td>-0.007215257225929089</td>\n",
       "\t\t<td>1.002000853421924</td>\n",
       "\t</tr>\n",
       "\t<tr>\n",
       "\t\t<td>242</td>\n",
       "\t\t<td>0</td>\n",
       "\t\t<td>0</td>\n",
       "\t\t<td>1</td>\n",
       "\t\t<td>0</td>\n",
       "\t\t<td>58</td>\n",
       "\t\t<td>0</td>\n",
       "\t\t<td>-0.2840240142677042</td>\n",
       "\t\t<td>-0.27068230513879965</td>\n",
       "\t\t<td>-0.09170758001464038</td>\n",
       "\t\t<td>0.5938483226828677</td>\n",
       "\t\t<td>-0.21749868469587627</td>\n",
       "\t</tr>\n",
       "\t<tr>\n",
       "\t\t<td>840</td>\n",
       "\t\t<td>0</td>\n",
       "\t\t<td>1</td>\n",
       "\t\t<td>0</td>\n",
       "\t\t<td>0</td>\n",
       "\t\t<td>80</td>\n",
       "\t\t<td>0</td>\n",
       "\t\t<td>0.6190266977629448</td>\n",
       "\t\t<td>0.8918617283195552</td>\n",
       "\t\t<td>0.519422600497862</td>\n",
       "\t\t<td>0.5865256265902169</td>\n",
       "\t\t<td>1.922918015783567</td>\n",
       "\t</tr>\n",
       "</table></html>"
      ],
      "text/plain": [
       "   Weight  Species_3  Species_2  Species_0  Species_5  id  Species_4   Length1   Length2   Length3    Height     Width\n",
       "0      40          0          1          0          0  24          0 -1.196785 -1.530105 -1.263738 -1.189553 -1.117724\n",
       "1      78          0          0          0          0  12          1 -0.837507 -1.069931 -0.828412 -0.783653 -0.849924\n",
       "2     125          0          1          0          0  32          0 -0.691853 -0.803515 -0.719581 -0.756563 -0.417328\n",
       "3     306          0          0          0          0  45          0 -0.050979  0.044173 -0.024734 -0.041558  0.157558\n",
       "4      13          0          0          0          1  23          0 -1.400700 -1.844961 -1.473029 -1.512585 -1.777020\n",
       "5     160          0          0          0          0  20          1 -0.546200 -0.621867 -0.485175 -0.445835 -0.330707\n",
       "6     430          0          0          1          0  10          0  0.036413  0.165272  0.243158  0.807968  0.414020\n",
       "7     950          1          0          0          0  37          0  2.153242  2.914204  2.009576 -0.007215  1.002001\n",
       "8     242          0          0          1          0  58          0 -0.284024 -0.270682 -0.091708  0.593848 -0.217499\n",
       "9     840          0          1          0          0  80          0  0.619027  0.891862  0.519423  0.586526  1.922918"
      ]
     },
     "metadata": {},
     "output_type": "display_data"
    },
    {
     "name": "stdout",
     "output_type": "stream",
     "text": [
      "\n",
      "Updated dataset after performing RFE feature selection:\n"
     ]
    },
    {
     "data": {
      "text/html": [
       "<style type=\"text/css\">\n",
       "\ttable {border:ridge 5px;}\n",
       "\ttable td {border:inset 1px;}\n",
       "\ttable tr#HeaderRow {background-color:grey; color:white;}</style>\n",
       "<html><table>\n",
       "\t<tr id=\"HeaderRow\">\n",
       "\t\t<th>id</th>\n",
       "\t\t<th>Length3</th>\n",
       "\t\t<th>Width</th>\n",
       "\t\t<th>Weight</th>\n",
       "\t</tr>\n",
       "\t<tr>\n",
       "\t\t<td>24</td>\n",
       "\t\t<td>16.0</td>\n",
       "\t\t<td>2.432</td>\n",
       "\t\t<td>40</td>\n",
       "\t</tr>\n",
       "\t<tr>\n",
       "\t\t<td>37</td>\n",
       "\t\t<td>55.1</td>\n",
       "\t\t<td>6.1712</td>\n",
       "\t\t<td>950</td>\n",
       "\t</tr>\n",
       "\t<tr>\n",
       "\t\t<td>58</td>\n",
       "\t\t<td>30.0</td>\n",
       "\t\t<td>4.02</td>\n",
       "\t\t<td>242</td>\n",
       "\t</tr>\n",
       "\t<tr>\n",
       "\t\t<td>80</td>\n",
       "\t\t<td>37.3</td>\n",
       "\t\t<td>7.7957</td>\n",
       "\t\t<td>840</td>\n",
       "\t</tr>\n",
       "\t<tr>\n",
       "\t\t<td>20</td>\n",
       "\t\t<td>25.3</td>\n",
       "\t\t<td>3.8203</td>\n",
       "\t\t<td>160</td>\n",
       "\t</tr>\n",
       "\t<tr>\n",
       "\t\t<td>10</td>\n",
       "\t\t<td>34.0</td>\n",
       "\t\t<td>5.134</td>\n",
       "\t\t<td>430</td>\n",
       "\t</tr>\n",
       "\t<tr>\n",
       "\t\t<td>29</td>\n",
       "\t\t<td>51.2</td>\n",
       "\t\t<td>5.376</td>\n",
       "\t\t<td>770</td>\n",
       "\t</tr>\n",
       "\t<tr>\n",
       "\t\t<td>23</td>\n",
       "\t\t<td>13.5</td>\n",
       "\t\t<td>1.269</td>\n",
       "\t\t<td>13</td>\n",
       "\t</tr>\n",
       "\t<tr>\n",
       "\t\t<td>12</td>\n",
       "\t\t<td>21.2</td>\n",
       "\t\t<td>2.9044</td>\n",
       "\t\t<td>78</td>\n",
       "\t</tr>\n",
       "\t<tr>\n",
       "\t\t<td>32</td>\n",
       "\t\t<td>22.5</td>\n",
       "\t\t<td>3.6675</td>\n",
       "\t\t<td>125</td>\n",
       "\t</tr>\n",
       "</table></html>"
      ],
      "text/plain": [
       "        id  Length3   Width\n",
       "Weight                     \n",
       "40      24     16.0  2.4320\n",
       "950     37     55.1  6.1712\n",
       "242     58     30.0  4.0200\n",
       "840     80     37.3  7.7957\n",
       "160     20     25.3  3.8203\n",
       "430     10     34.0  5.1340\n",
       "770     29     51.2  5.3760\n",
       "13      23     13.5  1.2690\n",
       "78      12     21.2  2.9044\n",
       "125     32     22.5  3.6675"
      ]
     },
     "metadata": {},
     "output_type": "display_data"
    },
    {
     "name": "stdout",
     "output_type": "stream",
     "text": [
      "\n",
      "Updated dataset after performing scaling on RFE selected features :\n"
     ]
    },
    {
     "data": {
      "text/html": [
       "<style type=\"text/css\">\n",
       "\ttable {border:ridge 5px;}\n",
       "\ttable td {border:inset 1px;}\n",
       "\ttable tr#HeaderRow {background-color:grey; color:white;}</style>\n",
       "<html><table>\n",
       "\t<tr id=\"HeaderRow\">\n",
       "\t\t<th>id</th>\n",
       "\t\t<th>Weight</th>\n",
       "\t\t<th>r_Length3</th>\n",
       "\t\t<th>r_Width</th>\n",
       "\t</tr>\n",
       "\t<tr>\n",
       "\t\t<td>45</td>\n",
       "\t\t<td>306</td>\n",
       "\t\t<td>-0.024734409547516746</td>\n",
       "\t\t<td>0.15755751389966927</td>\n",
       "\t</tr>\n",
       "\t<tr>\n",
       "\t\t<td>58</td>\n",
       "\t\t<td>242</td>\n",
       "\t\t<td>-0.09170758001464038</td>\n",
       "\t\t<td>-0.21749868469587627</td>\n",
       "\t</tr>\n",
       "\t<tr>\n",
       "\t\t<td>80</td>\n",
       "\t\t<td>840</td>\n",
       "\t\t<td>0.519422600497862</td>\n",
       "\t\t<td>1.922918015783567</td>\n",
       "\t</tr>\n",
       "\t<tr>\n",
       "\t\t<td>29</td>\n",
       "\t\t<td>770</td>\n",
       "\t\t<td>1.6830814373641347</td>\n",
       "\t\t<td>0.5512077924739536</td>\n",
       "\t</tr>\n",
       "\t<tr>\n",
       "\t\t<td>20</td>\n",
       "\t\t<td>160</td>\n",
       "\t\t<td>-0.4851749565089914</td>\n",
       "\t\t<td>-0.33070715334691947</td>\n",
       "\t</tr>\n",
       "\t<tr>\n",
       "\t\t<td>10</td>\n",
       "\t\t<td>430</td>\n",
       "\t\t<td>0.24315827232097753</td>\n",
       "\t\t<td>0.41401976336252383</td>\n",
       "\t</tr>\n",
       "\t<tr>\n",
       "\t\t<td>40</td>\n",
       "\t\t<td>5</td>\n",
       "\t\t<td>-1.8664965973934153</td>\n",
       "\t\t<td>-1.6982223708076714</td>\n",
       "\t</tr>\n",
       "\t<tr>\n",
       "\t\t<td>8</td>\n",
       "\t\t<td>273</td>\n",
       "\t\t<td>-0.2591405061824493</td>\n",
       "\t\t<td>-0.1472039920933252</td>\n",
       "\t</tr>\n",
       "\t<tr>\n",
       "\t\t<td>12</td>\n",
       "\t\t<td>78</td>\n",
       "\t\t<td>-0.8284124551529999</td>\n",
       "\t\t<td>-0.8499241610459216</td>\n",
       "\t</tr>\n",
       "\t<tr>\n",
       "\t\t<td>32</td>\n",
       "\t\t<td>125</td>\n",
       "\t\t<td>-0.719581053143924</td>\n",
       "\t\t<td>-0.41732835519909495</td>\n",
       "\t</tr>\n",
       "</table></html>"
      ],
      "text/plain": [
       "   id  Weight  r_Length3   r_Width\n",
       "0  45     306  -0.024734  0.157558\n",
       "1  58     242  -0.091708 -0.217499\n",
       "2  80     840   0.519423  1.922918\n",
       "3  29     770   1.683081  0.551208\n",
       "4  20     160  -0.485175 -0.330707\n",
       "5  10     430   0.243158  0.414020\n",
       "6  40       5  -1.866497 -1.698222\n",
       "7   8     273  -0.259141 -0.147204\n",
       "8  12      78  -0.828412 -0.849924\n",
       "9  32     125  -0.719581 -0.417328"
      ]
     },
     "metadata": {},
     "output_type": "display_data"
    },
    {
     "name": "stdout",
     "output_type": "stream",
     "text": [
      "\n",
      "Updated dataset after performing scaling for PCA feature selection :\n"
     ]
    },
    {
     "data": {
      "text/html": [
       "<style type=\"text/css\">\n",
       "\ttable {border:ridge 5px;}\n",
       "\ttable td {border:inset 1px;}\n",
       "\ttable tr#HeaderRow {background-color:grey; color:white;}</style>\n",
       "<html><table>\n",
       "\t<tr id=\"HeaderRow\">\n",
       "\t\t<th>Weight</th>\n",
       "\t\t<th>Species_3</th>\n",
       "\t\t<th>Species_1</th>\n",
       "\t\t<th>Species_2</th>\n",
       "\t\t<th>Species_0</th>\n",
       "\t\t<th>Species_5</th>\n",
       "\t\t<th>id</th>\n",
       "\t\t<th>Species_4</th>\n",
       "\t\t<th>Species_6</th>\n",
       "\t\t<th>Length1</th>\n",
       "\t\t<th>Length2</th>\n",
       "\t\t<th>Length3</th>\n",
       "\t\t<th>Height</th>\n",
       "\t\t<th>Width</th>\n",
       "\t</tr>\n",
       "\t<tr>\n",
       "\t\t<td>840</td>\n",
       "\t\t<td>0</td>\n",
       "\t\t<td>0</td>\n",
       "\t\t<td>1</td>\n",
       "\t\t<td>0</td>\n",
       "\t\t<td>0</td>\n",
       "\t\t<td>80</td>\n",
       "\t\t<td>0</td>\n",
       "\t\t<td>0</td>\n",
       "\t\t<td>0.6190266977629447</td>\n",
       "\t\t<td>0.8918617283195546</td>\n",
       "\t\t<td>0.5194226004978615</td>\n",
       "\t\t<td>0.5865256265902167</td>\n",
       "\t\t<td>1.9229180157835672</td>\n",
       "\t</tr>\n",
       "\t<tr>\n",
       "\t\t<td>78</td>\n",
       "\t\t<td>0</td>\n",
       "\t\t<td>0</td>\n",
       "\t\t<td>0</td>\n",
       "\t\t<td>0</td>\n",
       "\t\t<td>0</td>\n",
       "\t\t<td>12</td>\n",
       "\t\t<td>1</td>\n",
       "\t\t<td>0</td>\n",
       "\t\t<td>-0.8375067087381016</td>\n",
       "\t\t<td>-1.0699313281414193</td>\n",
       "\t\t<td>-0.8284124551530004</td>\n",
       "\t\t<td>-0.783652773935936</td>\n",
       "\t\t<td>-0.8499241610459217</td>\n",
       "\t</tr>\n",
       "\t<tr>\n",
       "\t\t<td>125</td>\n",
       "\t\t<td>0</td>\n",
       "\t\t<td>0</td>\n",
       "\t\t<td>1</td>\n",
       "\t\t<td>0</td>\n",
       "\t\t<td>0</td>\n",
       "\t\t<td>32</td>\n",
       "\t\t<td>0</td>\n",
       "\t\t<td>0</td>\n",
       "\t\t<td>-0.691853368087997</td>\n",
       "\t\t<td>-0.8035149871405464</td>\n",
       "\t\t<td>-0.7195810531439246</td>\n",
       "\t\t<td>-0.7565634330109077</td>\n",
       "\t\t<td>-0.417328355199095</td>\n",
       "\t</tr>\n",
       "\t<tr>\n",
       "\t\t<td>5</td>\n",
       "\t\t<td>0</td>\n",
       "\t\t<td>0</td>\n",
       "\t\t<td>1</td>\n",
       "\t\t<td>0</td>\n",
       "\t\t<td>0</td>\n",
       "\t\t<td>40</td>\n",
       "\t\t<td>0</td>\n",
       "\t\t<td>0</td>\n",
       "\t\t<td>-1.8085289797387993</td>\n",
       "\t\t<td>-2.329354031054637</td>\n",
       "\t\t<td>-1.8664965973934158</td>\n",
       "\t\t<td>-1.5862758811038398</td>\n",
       "\t\t<td>-1.6982223708076716</td>\n",
       "\t</tr>\n",
       "\t<tr>\n",
       "\t\t<td>770</td>\n",
       "\t\t<td>1</td>\n",
       "\t\t<td>0</td>\n",
       "\t\t<td>0</td>\n",
       "\t\t<td>0</td>\n",
       "\t\t<td>0</td>\n",
       "\t\t<td>29</td>\n",
       "\t\t<td>0</td>\n",
       "\t\t<td>0</td>\n",
       "\t\t<td>1.8133840910938024</td>\n",
       "\t\t<td>2.4661401069610767</td>\n",
       "\t\t<td>1.6830814373641343</td>\n",
       "\t\t<td>-0.2959982911076253</td>\n",
       "\t\t<td>0.5512077924739536</td>\n",
       "\t</tr>\n",
       "\t<tr>\n",
       "\t\t<td>13</td>\n",
       "\t\t<td>0</td>\n",
       "\t\t<td>0</td>\n",
       "\t\t<td>0</td>\n",
       "\t\t<td>0</td>\n",
       "\t\t<td>1</td>\n",
       "\t\t<td>23</td>\n",
       "\t\t<td>0</td>\n",
       "\t\t<td>0</td>\n",
       "\t\t<td>-1.4006996259185063</td>\n",
       "\t\t<td>-1.8449606837803227</td>\n",
       "\t\t<td>-1.473029220899065</td>\n",
       "\t\t<td>-1.5125854583993146</td>\n",
       "\t\t<td>-1.7770204536444016</td>\n",
       "\t</tr>\n",
       "\t<tr>\n",
       "\t\t<td>40</td>\n",
       "\t\t<td>0</td>\n",
       "\t\t<td>0</td>\n",
       "\t\t<td>1</td>\n",
       "\t\t<td>0</td>\n",
       "\t\t<td>0</td>\n",
       "\t\t<td>24</td>\n",
       "\t\t<td>0</td>\n",
       "\t\t<td>0</td>\n",
       "\t\t<td>-1.1967849490083597</td>\n",
       "\t\t<td>-1.5301050080520182</td>\n",
       "\t\t<td>-1.2637380631893036</td>\n",
       "\t\t<td>-1.189552599122245</td>\n",
       "\t\t<td>-1.117724264154349</td>\n",
       "\t</tr>\n",
       "\t<tr>\n",
       "\t\t<td>120</td>\n",
       "\t\t<td>0</td>\n",
       "\t\t<td>0</td>\n",
       "\t\t<td>1</td>\n",
       "\t\t<td>0</td>\n",
       "\t\t<td>0</td>\n",
       "\t\t<td>48</td>\n",
       "\t\t<td>0</td>\n",
       "\t\t<td>0</td>\n",
       "\t\t<td>-0.5947511409879273</td>\n",
       "\t\t<td>-0.6824166503219677</td>\n",
       "\t\t<td>-0.63586459006002</td>\n",
       "\t\t<td>-0.6598157868500923</td>\n",
       "\t\t<td>-0.5647204525915401</td>\n",
       "\t</tr>\n",
       "\t<tr>\n",
       "\t\t<td>160</td>\n",
       "\t\t<td>0</td>\n",
       "\t\t<td>0</td>\n",
       "\t\t<td>0</td>\n",
       "\t\t<td>0</td>\n",
       "\t\t<td>0</td>\n",
       "\t\t<td>20</td>\n",
       "\t\t<td>1</td>\n",
       "\t\t<td>0</td>\n",
       "\t\t<td>-0.5462000274378924</td>\n",
       "\t\t<td>-0.6218674819126784</td>\n",
       "\t\t<td>-0.48517495650899195</td>\n",
       "\t\t<td>-0.44583548394015976</td>\n",
       "\t\t<td>-0.3307071533469195</td>\n",
       "\t</tr>\n",
       "\t<tr>\n",
       "\t\t<td>430</td>\n",
       "\t\t<td>0</td>\n",
       "\t\t<td>0</td>\n",
       "\t\t<td>0</td>\n",
       "\t\t<td>1</td>\n",
       "\t\t<td>0</td>\n",
       "\t\t<td>10</td>\n",
       "\t\t<td>0</td>\n",
       "\t\t<td>0</td>\n",
       "\t\t<td>0.03641333516252616</td>\n",
       "\t\t<td>0.16527170740808272</td>\n",
       "\t\t<td>0.24315827232097692</td>\n",
       "\t\t<td>0.807967664126205</td>\n",
       "\t\t<td>0.41401976336252383</td>\n",
       "\t</tr>\n",
       "</table></html>"
      ],
      "text/plain": [
       "   Weight  Species_3  Species_1  Species_2  Species_0  Species_5  id  Species_4  Species_6   Length1   Length2   Length3    Height     Width\n",
       "0     840          0          0          1          0          0  80          0          0  0.619027  0.891862  0.519423  0.586526  1.922918\n",
       "1      78          0          0          0          0          0  12          1          0 -0.837507 -1.069931 -0.828412 -0.783653 -0.849924\n",
       "2     125          0          0          1          0          0  32          0          0 -0.691853 -0.803515 -0.719581 -0.756563 -0.417328\n",
       "3       5          0          0          1          0          0  40          0          0 -1.808529 -2.329354 -1.866497 -1.586276 -1.698222\n",
       "4     770          1          0          0          0          0  29          0          0  1.813384  2.466140  1.683081 -0.295998  0.551208\n",
       "5      13          0          0          0          0          1  23          0          0 -1.400700 -1.844961 -1.473029 -1.512585 -1.777020\n",
       "6      40          0          0          1          0          0  24          0          0 -1.196785 -1.530105 -1.263738 -1.189553 -1.117724\n",
       "7     120          0          0          1          0          0  48          0          0 -0.594751 -0.682417 -0.635865 -0.659816 -0.564720\n",
       "8     160          0          0          0          0          0  20          1          0 -0.546200 -0.621867 -0.485175 -0.445835 -0.330707\n",
       "9     430          0          0          0          1          0  10          0          0  0.036413  0.165272  0.243158  0.807968  0.414020"
      ]
     },
     "metadata": {},
     "output_type": "display_data"
    },
    {
     "name": "stdout",
     "output_type": "stream",
     "text": [
      "\n",
      "Updated dataset after performing PCA feature selection :\n"
     ]
    },
    {
     "data": {
      "text/html": [
       "<div>\n",
       "<style scoped>\n",
       "    .dataframe tbody tr th:only-of-type {\n",
       "        vertical-align: middle;\n",
       "    }\n",
       "\n",
       "    .dataframe tbody tr th {\n",
       "        vertical-align: top;\n",
       "    }\n",
       "\n",
       "    .dataframe thead th {\n",
       "        text-align: right;\n",
       "    }\n",
       "</style>\n",
       "<table border=\"1\" class=\"dataframe\">\n",
       "  <thead>\n",
       "    <tr style=\"text-align: right;\">\n",
       "      <th></th>\n",
       "      <th>id</th>\n",
       "      <th>col_0</th>\n",
       "      <th>col_1</th>\n",
       "      <th>col_2</th>\n",
       "      <th>col_3</th>\n",
       "      <th>col_4</th>\n",
       "      <th>Weight</th>\n",
       "    </tr>\n",
       "  </thead>\n",
       "  <tbody>\n",
       "    <tr>\n",
       "      <th>0</th>\n",
       "      <td>40</td>\n",
       "      <td>-4.100594</td>\n",
       "      <td>0.091869</td>\n",
       "      <td>-0.065162</td>\n",
       "      <td>-0.896975</td>\n",
       "      <td>-0.422281</td>\n",
       "      <td>5</td>\n",
       "    </tr>\n",
       "    <tr>\n",
       "      <th>1</th>\n",
       "      <td>29</td>\n",
       "      <td>2.816829</td>\n",
       "      <td>1.635800</td>\n",
       "      <td>-0.161071</td>\n",
       "      <td>1.668686</td>\n",
       "      <td>0.052975</td>\n",
       "      <td>770</td>\n",
       "    </tr>\n",
       "    <tr>\n",
       "      <th>2</th>\n",
       "      <td>24</td>\n",
       "      <td>-2.774980</td>\n",
       "      <td>0.217814</td>\n",
       "      <td>-0.228074</td>\n",
       "      <td>-0.700072</td>\n",
       "      <td>-0.347941</td>\n",
       "      <td>40</td>\n",
       "    </tr>\n",
       "    <tr>\n",
       "      <th>3</th>\n",
       "      <td>37</td>\n",
       "      <td>3.638202</td>\n",
       "      <td>1.657120</td>\n",
       "      <td>-0.279981</td>\n",
       "      <td>1.716511</td>\n",
       "      <td>0.121636</td>\n",
       "      <td>950</td>\n",
       "    </tr>\n",
       "    <tr>\n",
       "      <th>4</th>\n",
       "      <td>58</td>\n",
       "      <td>-0.072284</td>\n",
       "      <td>-0.962919</td>\n",
       "      <td>0.417548</td>\n",
       "      <td>0.063388</td>\n",
       "      <td>-0.242517</td>\n",
       "      <td>242</td>\n",
       "    </tr>\n",
       "    <tr>\n",
       "      <th>5</th>\n",
       "      <td>45</td>\n",
       "      <td>0.034987</td>\n",
       "      <td>0.005561</td>\n",
       "      <td>-0.007598</td>\n",
       "      <td>0.053154</td>\n",
       "      <td>0.250944</td>\n",
       "      <td>306</td>\n",
       "    </tr>\n",
       "    <tr>\n",
       "      <th>6</th>\n",
       "      <td>20</td>\n",
       "      <td>-1.113433</td>\n",
       "      <td>-0.025403</td>\n",
       "      <td>0.240791</td>\n",
       "      <td>-0.147973</td>\n",
       "      <td>0.897783</td>\n",
       "      <td>160</td>\n",
       "    </tr>\n",
       "    <tr>\n",
       "      <th>7</th>\n",
       "      <td>12</td>\n",
       "      <td>-1.972026</td>\n",
       "      <td>0.001742</td>\n",
       "      <td>0.378656</td>\n",
       "      <td>-0.161463</td>\n",
       "      <td>0.812430</td>\n",
       "      <td>78</td>\n",
       "    </tr>\n",
       "    <tr>\n",
       "      <th>8</th>\n",
       "      <td>8</td>\n",
       "      <td>-0.300078</td>\n",
       "      <td>-0.610840</td>\n",
       "      <td>0.297370</td>\n",
       "      <td>-0.190658</td>\n",
       "      <td>-0.002254</td>\n",
       "      <td>273</td>\n",
       "    </tr>\n",
       "    <tr>\n",
       "      <th>9</th>\n",
       "      <td>23</td>\n",
       "      <td>-3.639023</td>\n",
       "      <td>0.139165</td>\n",
       "      <td>0.490024</td>\n",
       "      <td>0.123198</td>\n",
       "      <td>-0.339190</td>\n",
       "      <td>13</td>\n",
       "    </tr>\n",
       "    <tr>\n",
       "      <th>10</th>\n",
       "      <td>48</td>\n",
       "      <td>-1.380515</td>\n",
       "      <td>0.252049</td>\n",
       "      <td>-0.389555</td>\n",
       "      <td>-0.478078</td>\n",
       "      <td>-0.285858</td>\n",
       "      <td>120</td>\n",
       "    </tr>\n",
       "    <tr>\n",
       "      <th>11</th>\n",
       "      <td>80</td>\n",
       "      <td>2.030527</td>\n",
       "      <td>0.186133</td>\n",
       "      <td>-0.992489</td>\n",
       "      <td>-0.728614</td>\n",
       "      <td>0.154554</td>\n",
       "      <td>840</td>\n",
       "    </tr>\n",
       "    <tr>\n",
       "      <th>12</th>\n",
       "      <td>10</td>\n",
       "      <td>0.792444</td>\n",
       "      <td>-0.891687</td>\n",
       "      <td>0.249119</td>\n",
       "      <td>0.037598</td>\n",
       "      <td>-0.124989</td>\n",
       "      <td>430</td>\n",
       "    </tr>\n",
       "    <tr>\n",
       "      <th>13</th>\n",
       "      <td>32</td>\n",
       "      <td>-1.485722</td>\n",
       "      <td>0.262514</td>\n",
       "      <td>-0.426007</td>\n",
       "      <td>-0.602731</td>\n",
       "      <td>-0.238009</td>\n",
       "      <td>125</td>\n",
       "    </tr>\n",
       "    <tr>\n",
       "      <th>14</th>\n",
       "      <td>16</td>\n",
       "      <td>-1.234968</td>\n",
       "      <td>-0.597348</td>\n",
       "      <td>0.395838</td>\n",
       "      <td>-0.284130</td>\n",
       "      <td>-0.050735</td>\n",
       "      <td>170</td>\n",
       "    </tr>\n",
       "    <tr>\n",
       "      <th>15</th>\n",
       "      <td>36</td>\n",
       "      <td>-1.776307</td>\n",
       "      <td>0.045834</td>\n",
       "      <td>0.321662</td>\n",
       "      <td>-0.151045</td>\n",
       "      <td>0.846225</td>\n",
       "      <td>87</td>\n",
       "    </tr>\n",
       "    <tr>\n",
       "      <th>16</th>\n",
       "      <td>28</td>\n",
       "      <td>-1.525338</td>\n",
       "      <td>0.043828</td>\n",
       "      <td>0.313965</td>\n",
       "      <td>-0.105802</td>\n",
       "      <td>0.845648</td>\n",
       "      <td>120</td>\n",
       "    </tr>\n",
       "    <tr>\n",
       "      <th>17</th>\n",
       "      <td>31</td>\n",
       "      <td>-3.596872</td>\n",
       "      <td>0.185997</td>\n",
       "      <td>0.465669</td>\n",
       "      <td>0.178004</td>\n",
       "      <td>-0.337573</td>\n",
       "      <td>12</td>\n",
       "    </tr>\n",
       "    <tr>\n",
       "      <th>18</th>\n",
       "      <td>42</td>\n",
       "      <td>0.835794</td>\n",
       "      <td>-0.868466</td>\n",
       "      <td>0.308573</td>\n",
       "      <td>0.212577</td>\n",
       "      <td>-0.195942</td>\n",
       "      <td>390</td>\n",
       "    </tr>\n",
       "    <tr>\n",
       "      <th>19</th>\n",
       "      <td>50</td>\n",
       "      <td>0.220934</td>\n",
       "      <td>-1.061094</td>\n",
       "      <td>0.400773</td>\n",
       "      <td>0.030988</td>\n",
       "      <td>-0.225155</td>\n",
       "      <td>290</td>\n",
       "    </tr>\n",
       "    <tr>\n",
       "      <th>20</th>\n",
       "      <td>15</td>\n",
       "      <td>-3.973242</td>\n",
       "      <td>0.150473</td>\n",
       "      <td>0.510757</td>\n",
       "      <td>0.038457</td>\n",
       "      <td>-0.335663</td>\n",
       "      <td>7</td>\n",
       "    </tr>\n",
       "    <tr>\n",
       "      <th>21</th>\n",
       "      <td>21</td>\n",
       "      <td>1.787674</td>\n",
       "      <td>1.384742</td>\n",
       "      <td>0.054026</td>\n",
       "      <td>1.516797</td>\n",
       "      <td>-0.059732</td>\n",
       "      <td>456</td>\n",
       "    </tr>\n",
       "    <tr>\n",
       "      <th>22</th>\n",
       "      <td>96</td>\n",
       "      <td>-2.026200</td>\n",
       "      <td>0.157621</td>\n",
       "      <td>-0.358761</td>\n",
       "      <td>-0.731496</td>\n",
       "      <td>-0.260851</td>\n",
       "      <td>100</td>\n",
       "    </tr>\n",
       "    <tr>\n",
       "      <th>23</th>\n",
       "      <td>104</td>\n",
       "      <td>-1.242885</td>\n",
       "      <td>0.321613</td>\n",
       "      <td>-0.433517</td>\n",
       "      <td>-0.473527</td>\n",
       "      <td>-0.256790</td>\n",
       "      <td>145</td>\n",
       "    </tr>\n",
       "    <tr>\n",
       "      <th>24</th>\n",
       "      <td>26</td>\n",
       "      <td>1.840714</td>\n",
       "      <td>-1.024349</td>\n",
       "      <td>0.215457</td>\n",
       "      <td>0.222751</td>\n",
       "      <td>-0.138181</td>\n",
       "      <td>575</td>\n",
       "    </tr>\n",
       "    <tr>\n",
       "      <th>25</th>\n",
       "      <td>72</td>\n",
       "      <td>-0.918116</td>\n",
       "      <td>0.180976</td>\n",
       "      <td>-0.423298</td>\n",
       "      <td>-0.441831</td>\n",
       "      <td>-0.272876</td>\n",
       "      <td>225</td>\n",
       "    </tr>\n",
       "    <tr>\n",
       "      <th>26</th>\n",
       "      <td>56</td>\n",
       "      <td>-0.645005</td>\n",
       "      <td>0.395247</td>\n",
       "      <td>-0.541436</td>\n",
       "      <td>-0.420350</td>\n",
       "      <td>-0.197631</td>\n",
       "      <td>197</td>\n",
       "    </tr>\n",
       "    <tr>\n",
       "      <th>27</th>\n",
       "      <td>64</td>\n",
       "      <td>-0.307826</td>\n",
       "      <td>0.410856</td>\n",
       "      <td>-0.559995</td>\n",
       "      <td>-0.319636</td>\n",
       "      <td>-0.204828</td>\n",
       "      <td>260</td>\n",
       "    </tr>\n",
       "    <tr>\n",
       "      <th>28</th>\n",
       "      <td>13</td>\n",
       "      <td>0.711023</td>\n",
       "      <td>1.179872</td>\n",
       "      <td>0.125564</td>\n",
       "      <td>0.976548</td>\n",
       "      <td>0.004024</td>\n",
       "      <td>300</td>\n",
       "    </tr>\n",
       "    <tr>\n",
       "      <th>29</th>\n",
       "      <td>88</td>\n",
       "      <td>1.839638</td>\n",
       "      <td>0.402895</td>\n",
       "      <td>-0.818385</td>\n",
       "      <td>-0.186239</td>\n",
       "      <td>-0.056230</td>\n",
       "      <td>700</td>\n",
       "    </tr>\n",
       "    <tr>\n",
       "      <th>30</th>\n",
       "      <td>18</td>\n",
       "      <td>1.603363</td>\n",
       "      <td>-1.043346</td>\n",
       "      <td>0.256193</td>\n",
       "      <td>0.224204</td>\n",
       "      <td>-0.166678</td>\n",
       "      <td>700</td>\n",
       "    </tr>\n",
       "    <tr>\n",
       "      <th>31</th>\n",
       "      <td>34</td>\n",
       "      <td>2.066815</td>\n",
       "      <td>-1.161599</td>\n",
       "      <td>0.221597</td>\n",
       "      <td>0.258582</td>\n",
       "      <td>-0.154908</td>\n",
       "      <td>700</td>\n",
       "    </tr>\n",
       "  </tbody>\n",
       "</table>\n",
       "</div>"
      ],
      "text/plain": [
       "     id     col_0     col_1     col_2     col_3     col_4  Weight\n",
       "0    40 -4.100594  0.091869 -0.065162 -0.896975 -0.422281       5\n",
       "1    29  2.816829  1.635800 -0.161071  1.668686  0.052975     770\n",
       "2    24 -2.774980  0.217814 -0.228074 -0.700072 -0.347941      40\n",
       "3    37  3.638202  1.657120 -0.279981  1.716511  0.121636     950\n",
       "4    58 -0.072284 -0.962919  0.417548  0.063388 -0.242517     242\n",
       "5    45  0.034987  0.005561 -0.007598  0.053154  0.250944     306\n",
       "6    20 -1.113433 -0.025403  0.240791 -0.147973  0.897783     160\n",
       "7    12 -1.972026  0.001742  0.378656 -0.161463  0.812430      78\n",
       "8     8 -0.300078 -0.610840  0.297370 -0.190658 -0.002254     273\n",
       "9    23 -3.639023  0.139165  0.490024  0.123198 -0.339190      13\n",
       "10   48 -1.380515  0.252049 -0.389555 -0.478078 -0.285858     120\n",
       "11   80  2.030527  0.186133 -0.992489 -0.728614  0.154554     840\n",
       "12   10  0.792444 -0.891687  0.249119  0.037598 -0.124989     430\n",
       "13   32 -1.485722  0.262514 -0.426007 -0.602731 -0.238009     125\n",
       "14   16 -1.234968 -0.597348  0.395838 -0.284130 -0.050735     170\n",
       "15   36 -1.776307  0.045834  0.321662 -0.151045  0.846225      87\n",
       "16   28 -1.525338  0.043828  0.313965 -0.105802  0.845648     120\n",
       "17   31 -3.596872  0.185997  0.465669  0.178004 -0.337573      12\n",
       "18   42  0.835794 -0.868466  0.308573  0.212577 -0.195942     390\n",
       "19   50  0.220934 -1.061094  0.400773  0.030988 -0.225155     290\n",
       "20   15 -3.973242  0.150473  0.510757  0.038457 -0.335663       7\n",
       "21   21  1.787674  1.384742  0.054026  1.516797 -0.059732     456\n",
       "22   96 -2.026200  0.157621 -0.358761 -0.731496 -0.260851     100\n",
       "23  104 -1.242885  0.321613 -0.433517 -0.473527 -0.256790     145\n",
       "24   26  1.840714 -1.024349  0.215457  0.222751 -0.138181     575\n",
       "25   72 -0.918116  0.180976 -0.423298 -0.441831 -0.272876     225\n",
       "26   56 -0.645005  0.395247 -0.541436 -0.420350 -0.197631     197\n",
       "27   64 -0.307826  0.410856 -0.559995 -0.319636 -0.204828     260\n",
       "28   13  0.711023  1.179872  0.125564  0.976548  0.004024     300\n",
       "29   88  1.839638  0.402895 -0.818385 -0.186239 -0.056230     700\n",
       "30   18  1.603363 -1.043346  0.256193  0.224204 -0.166678     700\n",
       "31   34  2.066815 -1.161599  0.221597  0.258582 -0.154908     700"
      ]
     },
     "metadata": {},
     "output_type": "display_data"
    },
    {
     "name": "stdout",
     "output_type": "stream",
     "text": [
      "Data Transformation completed.\n",
      "knn rfe\n",
      "\n",
      " Prediction : \n",
      "   id   prediction  Weight\n",
      "0  37  1071.104999     950\n",
      "1  21   491.493519     456\n",
      "2  45   315.226007     306\n",
      "3   8   232.740127     273\n",
      "4  28    85.001995     120\n",
      "5  31    10.259169      12\n",
      "6  12   113.887364      78\n",
      "7  29   651.099718     770\n",
      "8  10   457.367626     430\n",
      "9  15     8.672957       7\n",
      "\n",
      " Performance Metrics : \n",
      "         MAE          MSE      MSLE       MAPE       MPE       RMSE     RMSLE          ME        R2        EV       MPD       MGD\n",
      "0  34.853513  2674.096143  0.041799  15.559711 -0.889359  51.711664  0.204449  156.181132  0.962092  0.962176  7.116544  0.046934\n"
     ]
    }
   ],
   "source": [
    "# Generating prediction and metrics on test data\n",
    "prediction = aml.predict(fish_df_test)"
   ]
  },
  {
   "cell_type": "code",
   "execution_count": 22,
   "id": "cc4f6a78-1cdf-4938-a9f1-22035d8404ca",
   "metadata": {},
   "outputs": [
    {
     "data": {
      "text/html": [
       "<style type=\"text/css\">\n",
       "\ttable {border:ridge 5px;}\n",
       "\ttable td {border:inset 1px;}\n",
       "\ttable tr#HeaderRow {background-color:grey; color:white;}</style>\n",
       "<html><table>\n",
       "\t<tr id=\"HeaderRow\">\n",
       "\t\t<th>id</th>\n",
       "\t\t<th>prediction</th>\n",
       "\t\t<th>Weight</th>\n",
       "\t</tr>\n",
       "\t<tr>\n",
       "\t\t<td>12</td>\n",
       "\t\t<td>113.88736363073572</td>\n",
       "\t\t<td>78</td>\n",
       "\t</tr>\n",
       "\t<tr>\n",
       "\t\t<td>15</td>\n",
       "\t\t<td>8.672956984280688</td>\n",
       "\t\t<td>7</td>\n",
       "\t</tr>\n",
       "\t<tr>\n",
       "\t\t<td>16</td>\n",
       "\t\t<td>93.61482532664849</td>\n",
       "\t\t<td>170</td>\n",
       "\t</tr>\n",
       "\t<tr>\n",
       "\t\t<td>18</td>\n",
       "\t\t<td>543.8188679899158</td>\n",
       "\t\t<td>700</td>\n",
       "\t</tr>\n",
       "\t<tr>\n",
       "\t\t<td>21</td>\n",
       "\t\t<td>491.49351875280377</td>\n",
       "\t\t<td>456</td>\n",
       "\t</tr>\n",
       "\t<tr>\n",
       "\t\t<td>23</td>\n",
       "\t\t<td>10.22933808348981</td>\n",
       "\t\t<td>13</td>\n",
       "\t</tr>\n",
       "\t<tr>\n",
       "\t\t<td>20</td>\n",
       "\t\t<td>155.46889594460924</td>\n",
       "\t\t<td>160</td>\n",
       "\t</tr>\n",
       "\t<tr>\n",
       "\t\t<td>13</td>\n",
       "\t\t<td>362.2172164104925</td>\n",
       "\t\t<td>300</td>\n",
       "\t</tr>\n",
       "\t<tr>\n",
       "\t\t<td>10</td>\n",
       "\t\t<td>457.36762559326803</td>\n",
       "\t\t<td>430</td>\n",
       "\t</tr>\n",
       "\t<tr>\n",
       "\t\t<td>8</td>\n",
       "\t\t<td>232.7401273304365</td>\n",
       "\t\t<td>273</td>\n",
       "\t</tr>\n",
       "</table></html>"
      ],
      "text/plain": [
       "   id  prediction  Weight\n",
       "0  12  113.887364      78\n",
       "1  15    8.672957       7\n",
       "2  16   93.614825     170\n",
       "3  18  543.818868     700\n",
       "4  21  491.493519     456\n",
       "5  23   10.229338      13\n",
       "6  20  155.468896     160\n",
       "7  13  362.217216     300\n",
       "8  10  457.367626     430\n",
       "9   8  232.740127     273"
      ]
     },
     "execution_count": 22,
     "metadata": {},
     "output_type": "execute_result"
    }
   ],
   "source": [
    "# Printing prediction\n",
    "prediction.head()"
   ]
  },
  {
   "cell_type": "code",
   "execution_count": 24,
   "id": "b2cba357-75ac-4089-a234-64a57067b117",
   "metadata": {},
   "outputs": [
    {
     "data": {
      "text/plain": [
       "True"
      ]
     },
     "execution_count": 24,
     "metadata": {},
     "output_type": "execute_result"
    }
   ],
   "source": [
    "remove_context()"
   ]
  }
 ],
 "metadata": {
  "kernelspec": {
   "display_name": "Python 3 (ipykernel)",
   "language": "python",
   "name": "python3"
  },
  "language_info": {
   "codemirror_mode": {
    "name": "ipython",
    "version": 3
   },
   "file_extension": ".py",
   "mimetype": "text/x-python",
   "name": "python",
   "nbconvert_exporter": "python",
   "pygments_lexer": "ipython3",
   "version": "3.10.9"
  }
 },
 "nbformat": 4,
 "nbformat_minor": 5
}
