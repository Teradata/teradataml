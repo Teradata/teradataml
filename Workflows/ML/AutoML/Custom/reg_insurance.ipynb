{
 "cells": [
  {
   "cell_type": "markdown",
   "id": "2762f1d8-5a66-411f-a625-34cf16ac6dd3",
   "metadata": {},
   "source": [
    "# <b><span style='color:#F1A424'>AutoML - Regression </span> </b>"
   ]
  },
  {
   "cell_type": "markdown",
   "id": "f225fb94-b2c8-4c92-af38-733d08e0e2a1",
   "metadata": {},
   "source": [
    "## <b> Problem overview:</b>\n",
    "    "
   ]
  },
  {
   "cell_type": "markdown",
   "id": "af9813eb-9c44-4968-a5fe-d1c74415c894",
   "metadata": {},
   "source": [
    "**Dataset Used : Medical insurance Dataset**\n",
    "\n",
    "**Features**:\n",
    "\n",
    "- `Age`: The insured person's age.\n",
    "- `Sex`: Gender (male or female) of the insured.\n",
    "- `BMI (Body Mass Index)`: A measure of body fat based on height and weight.\n",
    "- `Children`: The number of dependents covered.\n",
    "- `Smoker`: Whether the insured is a smoker (yes or no).\n",
    "- `Region`: The geographic area of coverage.\n",
    "\n",
    "**Target Variable**:\n",
    "\n",
    "- `Charges`: The medical insurance costs incurred by the insured person.\n",
    "    \n",
    "**Objective**:\n",
    "\n",
    "The primary objective is typically to build a model that can accurately predict medical insurance costs incurred by the insured person.\n",
    "\n",
    "**Usecase**:\n",
    "\n",
    "Here, we will use AutoML(Automated Machine Learning) functionality to automate the entire process of developing a predictive model. It will perform feature exploration, feature engineering, data preparation, model training and evaluation on dataset in custom run and at end we will get leaderboard containined different models along with their performance. Model will also have rank associated with them which indicates which is best performing model for given data followed by other models.\n",
    "\n",
    "As part of custom AutoML run, we will customize below functionalities:\n",
    "- Binning on 'age' feature to get 3 different levels.\n",
    "- Customized target encoding on 'region' feature.\n",
    "- Train test split with training size 0.9.\n",
    "- Feature scaling with 'midrange' method."
   ]
  },
  {
   "cell_type": "code",
   "execution_count": 1,
   "id": "66568348-4d00-477c-a071-17995f797c95",
   "metadata": {},
   "outputs": [],
   "source": [
    "# Importing AutoML from teradataml\n",
    "from teradataml import AutoML, AutoRegressor"
   ]
  },
  {
   "cell_type": "code",
   "execution_count": 2,
   "id": "17dfae70-0401-4cc4-ba1c-400a5cf62451",
   "metadata": {},
   "outputs": [],
   "source": [
    "# Importing other important libraries\n",
    "import getpass\n",
    "from teradataml import create_context, remove_context\n",
    "from teradataml import DataFrame\n",
    "from teradataml import load_example_data\n",
    "from teradataml import TrainTestSplit"
   ]
  },
  {
   "cell_type": "code",
   "execution_count": 3,
   "id": "cadd9ed2-42d6-4899-b23e-4e2cf601162f",
   "metadata": {},
   "outputs": [
    {
     "name": "stdout",
     "output_type": "stream",
     "text": [
      "Host:  ········\n",
      "Username:  ········\n",
      "Password:  ········\n"
     ]
    }
   ],
   "source": [
    "# Create the connection.\n",
    "host = getpass.getpass(\"Host: \")\n",
    "username = getpass.getpass(\"Username: \")\n",
    "password = getpass.getpass(\"Password: \")\n",
    "\n",
    "con = create_context(host=host, username=username, password=password)"
   ]
  },
  {
   "cell_type": "markdown",
   "id": "be767a89-d5b8-4876-91cb-36980754586e",
   "metadata": {},
   "source": [
    "## <b><span style='color:#F1A424'>| 1.</span> Loading Dataset </b>"
   ]
  },
  {
   "cell_type": "code",
   "execution_count": 4,
   "id": "f1592c52-b247-4792-be2a-30b49bbeb9b6",
   "metadata": {},
   "outputs": [
    {
     "name": "stdout",
     "output_type": "stream",
     "text": [
      "WARNING: Skipped loading table insurance since it already exists in the database.\n"
     ]
    }
   ],
   "source": [
    "# Loading dataset from example data collection\n",
    "load_example_data('teradataml','insurance')"
   ]
  },
  {
   "cell_type": "code",
   "execution_count": 5,
   "id": "3846ae0f-004b-4b8e-9fea-06fac4294065",
   "metadata": {},
   "outputs": [],
   "source": [
    "# Fetching in teradata dataframe\n",
    "insurance_df = DataFrame(\"insurance\")"
   ]
  },
  {
   "cell_type": "code",
   "execution_count": 6,
   "id": "442ccd80-b444-413e-970d-d855ec3d6cae",
   "metadata": {},
   "outputs": [
    {
     "data": {
      "text/html": [
       "<style type=\"text/css\">\n",
       "\ttable {border:ridge 5px;}\n",
       "\ttable td {border:inset 1px;}\n",
       "\ttable tr#HeaderRow {background-color:grey; color:white;}</style>\n",
       "<html><table>\n",
       "\t<tr id=\"HeaderRow\">\n",
       "\t\t<th>age</th>\n",
       "\t\t<th>sex</th>\n",
       "\t\t<th>bmi</th>\n",
       "\t\t<th>children</th>\n",
       "\t\t<th>smoker</th>\n",
       "\t\t<th>region</th>\n",
       "\t\t<th>charges</th>\n",
       "\t</tr>\n",
       "\t<tr>\n",
       "\t\t<td>18</td>\n",
       "\t\t<td>female</td>\n",
       "\t\t<td>30.115</td>\n",
       "\t\t<td>0</td>\n",
       "\t\t<td>no</td>\n",
       "\t\t<td>northeast</td>\n",
       "\t\t<td>21344.8467</td>\n",
       "\t</tr>\n",
       "\t<tr>\n",
       "\t\t<td>18</td>\n",
       "\t\t<td>female</td>\n",
       "\t\t<td>31.13</td>\n",
       "\t\t<td>0</td>\n",
       "\t\t<td>no</td>\n",
       "\t\t<td>southeast</td>\n",
       "\t\t<td>1621.8827</td>\n",
       "\t</tr>\n",
       "\t<tr>\n",
       "\t\t<td>18</td>\n",
       "\t\t<td>male</td>\n",
       "\t\t<td>21.565</td>\n",
       "\t\t<td>0</td>\n",
       "\t\t<td>yes</td>\n",
       "\t\t<td>northeast</td>\n",
       "\t\t<td>13747.87235</td>\n",
       "\t</tr>\n",
       "\t<tr>\n",
       "\t\t<td>18</td>\n",
       "\t\t<td>male</td>\n",
       "\t\t<td>17.29</td>\n",
       "\t\t<td>2</td>\n",
       "\t\t<td>yes</td>\n",
       "\t\t<td>northeast</td>\n",
       "\t\t<td>12829.4551</td>\n",
       "\t</tr>\n",
       "\t<tr>\n",
       "\t\t<td>18</td>\n",
       "\t\t<td>male</td>\n",
       "\t\t<td>43.01</td>\n",
       "\t\t<td>0</td>\n",
       "\t\t<td>no</td>\n",
       "\t\t<td>southeast</td>\n",
       "\t\t<td>1149.3959</td>\n",
       "\t</tr>\n",
       "\t<tr>\n",
       "\t\t<td>18</td>\n",
       "\t\t<td>female</td>\n",
       "\t\t<td>31.35</td>\n",
       "\t\t<td>4</td>\n",
       "\t\t<td>no</td>\n",
       "\t\t<td>northeast</td>\n",
       "\t\t<td>4561.1885</td>\n",
       "\t</tr>\n",
       "\t<tr>\n",
       "\t\t<td>18</td>\n",
       "\t\t<td>female</td>\n",
       "\t\t<td>29.165</td>\n",
       "\t\t<td>0</td>\n",
       "\t\t<td>no</td>\n",
       "\t\t<td>northeast</td>\n",
       "\t\t<td>7323.734819</td>\n",
       "\t</tr>\n",
       "\t<tr>\n",
       "\t\t<td>18</td>\n",
       "\t\t<td>female</td>\n",
       "\t\t<td>25.08</td>\n",
       "\t\t<td>0</td>\n",
       "\t\t<td>no</td>\n",
       "\t\t<td>northeast</td>\n",
       "\t\t<td>2196.4732</td>\n",
       "\t</tr>\n",
       "\t<tr>\n",
       "\t\t<td>18</td>\n",
       "\t\t<td>male</td>\n",
       "\t\t<td>15.96</td>\n",
       "\t\t<td>0</td>\n",
       "\t\t<td>no</td>\n",
       "\t\t<td>northeast</td>\n",
       "\t\t<td>1694.7964</td>\n",
       "\t</tr>\n",
       "\t<tr>\n",
       "\t\t<td>18</td>\n",
       "\t\t<td>female</td>\n",
       "\t\t<td>20.79</td>\n",
       "\t\t<td>0</td>\n",
       "\t\t<td>no</td>\n",
       "\t\t<td>southeast</td>\n",
       "\t\t<td>1607.5101</td>\n",
       "\t</tr>\n",
       "</table></html>"
      ],
      "text/plain": [
       "        sex     bmi  children smoker     region       charges\n",
       "age                                                          \n",
       "18   female  30.115         0     no  northeast  21344.846700\n",
       "18   female  31.130         0     no  southeast   1621.882700\n",
       "18     male  21.565         0    yes  northeast  13747.872350\n",
       "18     male  17.290         2    yes  northeast  12829.455100\n",
       "18     male  43.010         0     no  southeast   1149.395900\n",
       "18   female  31.350         4     no  northeast   4561.188500\n",
       "18   female  29.165         0     no  northeast   7323.734819\n",
       "18   female  25.080         0     no  northeast   2196.473200\n",
       "18     male  15.960         0     no  northeast   1694.796400\n",
       "18   female  20.790         0     no  southeast   1607.510100"
      ]
     },
     "execution_count": 6,
     "metadata": {},
     "output_type": "execute_result"
    }
   ],
   "source": [
    "# first 5 rows\n",
    "insurance_df.head()"
   ]
  },
  {
   "cell_type": "code",
   "execution_count": 7,
   "id": "636c220d-d12f-4ea5-ab2b-c9203ef00d49",
   "metadata": {},
   "outputs": [
    {
     "data": {
      "text/plain": [
       "(1338, 7)"
      ]
     },
     "execution_count": 7,
     "metadata": {},
     "output_type": "execute_result"
    }
   ],
   "source": [
    "# insurance_df dataset\n",
    "insurance_df.shape"
   ]
  },
  {
   "cell_type": "code",
   "execution_count": 8,
   "id": "e5d1fad7-8784-4d7a-be1f-7be1d3991d8f",
   "metadata": {},
   "outputs": [],
   "source": [
    "# Performing sampling to get 80% for trainning and 20% for testing\n",
    "insurance_df_sample = insurance_df.sample(frac = [0.8, 0.2])"
   ]
  },
  {
   "cell_type": "code",
   "execution_count": 9,
   "id": "a0e6891a-1b7e-4bac-97c8-350ba5f5bde4",
   "metadata": {},
   "outputs": [
    {
     "data": {
      "text/html": [
       "<style type=\"text/css\">\n",
       "\ttable {border:ridge 5px;}\n",
       "\ttable td {border:inset 1px;}\n",
       "\ttable tr#HeaderRow {background-color:grey; color:white;}</style>\n",
       "<html><table>\n",
       "\t<tr id=\"HeaderRow\">\n",
       "\t\t<th>age</th>\n",
       "\t\t<th>sex</th>\n",
       "\t\t<th>bmi</th>\n",
       "\t\t<th>children</th>\n",
       "\t\t<th>smoker</th>\n",
       "\t\t<th>region</th>\n",
       "\t\t<th>charges</th>\n",
       "\t\t<th>sampleid</th>\n",
       "\t</tr>\n",
       "\t<tr>\n",
       "\t\t<td>18</td>\n",
       "\t\t<td>male</td>\n",
       "\t\t<td>43.01</td>\n",
       "\t\t<td>0</td>\n",
       "\t\t<td>no</td>\n",
       "\t\t<td>southeast</td>\n",
       "\t\t<td>1149.3959</td>\n",
       "\t\t<td>1</td>\n",
       "\t</tr>\n",
       "\t<tr>\n",
       "\t\t<td>18</td>\n",
       "\t\t<td>female</td>\n",
       "\t\t<td>31.13</td>\n",
       "\t\t<td>0</td>\n",
       "\t\t<td>no</td>\n",
       "\t\t<td>southeast</td>\n",
       "\t\t<td>1621.8827</td>\n",
       "\t\t<td>2</td>\n",
       "\t</tr>\n",
       "\t<tr>\n",
       "\t\t<td>18</td>\n",
       "\t\t<td>female</td>\n",
       "\t\t<td>42.24</td>\n",
       "\t\t<td>0</td>\n",
       "\t\t<td>yes</td>\n",
       "\t\t<td>southeast</td>\n",
       "\t\t<td>38792.6856</td>\n",
       "\t\t<td>1</td>\n",
       "\t</tr>\n",
       "\t<tr>\n",
       "\t\t<td>18</td>\n",
       "\t\t<td>male</td>\n",
       "\t\t<td>34.1</td>\n",
       "\t\t<td>0</td>\n",
       "\t\t<td>no</td>\n",
       "\t\t<td>southeast</td>\n",
       "\t\t<td>1137.011</td>\n",
       "\t\t<td>1</td>\n",
       "\t</tr>\n",
       "\t<tr>\n",
       "\t\t<td>18</td>\n",
       "\t\t<td>male</td>\n",
       "\t\t<td>28.31</td>\n",
       "\t\t<td>1</td>\n",
       "\t\t<td>no</td>\n",
       "\t\t<td>northeast</td>\n",
       "\t\t<td>11272.33139</td>\n",
       "\t\t<td>1</td>\n",
       "\t</tr>\n",
       "\t<tr>\n",
       "\t\t<td>18</td>\n",
       "\t\t<td>male</td>\n",
       "\t\t<td>53.13</td>\n",
       "\t\t<td>0</td>\n",
       "\t\t<td>no</td>\n",
       "\t\t<td>southeast</td>\n",
       "\t\t<td>1163.4627</td>\n",
       "\t\t<td>1</td>\n",
       "\t</tr>\n",
       "\t<tr>\n",
       "\t\t<td>18</td>\n",
       "\t\t<td>male</td>\n",
       "\t\t<td>38.17</td>\n",
       "\t\t<td>0</td>\n",
       "\t\t<td>yes</td>\n",
       "\t\t<td>southeast</td>\n",
       "\t\t<td>36307.7983</td>\n",
       "\t\t<td>1</td>\n",
       "\t</tr>\n",
       "\t<tr>\n",
       "\t\t<td>18</td>\n",
       "\t\t<td>male</td>\n",
       "\t\t<td>33.33</td>\n",
       "\t\t<td>0</td>\n",
       "\t\t<td>no</td>\n",
       "\t\t<td>southeast</td>\n",
       "\t\t<td>1135.9407</td>\n",
       "\t\t<td>1</td>\n",
       "\t</tr>\n",
       "\t<tr>\n",
       "\t\t<td>18</td>\n",
       "\t\t<td>male</td>\n",
       "\t\t<td>25.175</td>\n",
       "\t\t<td>0</td>\n",
       "\t\t<td>yes</td>\n",
       "\t\t<td>northeast</td>\n",
       "\t\t<td>15518.18025</td>\n",
       "\t\t<td>2</td>\n",
       "\t</tr>\n",
       "\t<tr>\n",
       "\t\t<td>18</td>\n",
       "\t\t<td>female</td>\n",
       "\t\t<td>30.115</td>\n",
       "\t\t<td>0</td>\n",
       "\t\t<td>no</td>\n",
       "\t\t<td>northeast</td>\n",
       "\t\t<td>21344.8467</td>\n",
       "\t\t<td>1</td>\n",
       "\t</tr>\n",
       "</table></html>"
      ],
      "text/plain": [
       "        sex     bmi  children smoker     region      charges  sampleid\n",
       "age                                                                   \n",
       "18     male  43.010         0     no  southeast   1149.39590         1\n",
       "18   female  31.130         0     no  southeast   1621.88270         2\n",
       "18   female  42.240         0    yes  southeast  38792.68560         1\n",
       "18     male  34.100         0     no  southeast   1137.01100         1\n",
       "18     male  28.310         1     no  northeast  11272.33139         1\n",
       "18     male  53.130         0     no  southeast   1163.46270         1\n",
       "18     male  38.170         0    yes  southeast  36307.79830         1\n",
       "18     male  33.330         0     no  southeast   1135.94070         1\n",
       "18     male  25.175         0    yes  northeast  15518.18025         2\n",
       "18   female  30.115         0     no  northeast  21344.84670         1"
      ]
     },
     "execution_count": 9,
     "metadata": {},
     "output_type": "execute_result"
    }
   ],
   "source": [
    "insurance_df_sample.head()"
   ]
  },
  {
   "cell_type": "code",
   "execution_count": 10,
   "id": "5e3e5923-18ad-4cf6-b4e5-e87f8854700b",
   "metadata": {},
   "outputs": [],
   "source": [
    "# Fetching train and test data\n",
    "insurance_df_train= insurance_df_sample[insurance_df_sample['sampleid'] == 1].drop('sampleid', axis=1)\n",
    "insurance_df_test = insurance_df_sample[insurance_df_sample['sampleid'] == 2].drop('sampleid', axis=1)"
   ]
  },
  {
   "cell_type": "code",
   "execution_count": 11,
   "id": "83d72a72-3fac-4862-b374-d21ab59be1a6",
   "metadata": {},
   "outputs": [
    {
     "data": {
      "text/plain": [
       "(1070, 7)"
      ]
     },
     "execution_count": 11,
     "metadata": {},
     "output_type": "execute_result"
    }
   ],
   "source": [
    "# train data shape\n",
    "insurance_df_train.shape"
   ]
  },
  {
   "cell_type": "code",
   "execution_count": 12,
   "id": "b22be730-8a7a-40f3-8e2a-cabd8d1f427f",
   "metadata": {},
   "outputs": [
    {
     "data": {
      "text/plain": [
       "(268, 7)"
      ]
     },
     "execution_count": 12,
     "metadata": {},
     "output_type": "execute_result"
    }
   ],
   "source": [
    "# test data shape\n",
    "insurance_df_test.shape"
   ]
  },
  {
   "cell_type": "code",
   "execution_count": 13,
   "id": "18473df2-be15-4e1e-bc5e-739abacf8b89",
   "metadata": {},
   "outputs": [
    {
     "data": {
      "text/html": [
       "<style type=\"text/css\">\n",
       "\ttable {border:ridge 5px;}\n",
       "\ttable td {border:inset 1px;}\n",
       "\ttable tr#HeaderRow {background-color:grey; color:white;}</style>\n",
       "<html><table>\n",
       "\t<tr id=\"HeaderRow\">\n",
       "\t\t<th>age</th>\n",
       "\t\t<th>sex</th>\n",
       "\t\t<th>bmi</th>\n",
       "\t\t<th>children</th>\n",
       "\t\t<th>smoker</th>\n",
       "\t\t<th>region</th>\n",
       "\t\t<th>charges</th>\n",
       "\t</tr>\n",
       "\t<tr>\n",
       "\t\t<td>18</td>\n",
       "\t\t<td>female</td>\n",
       "\t\t<td>33.88</td>\n",
       "\t\t<td>0</td>\n",
       "\t\t<td>no</td>\n",
       "\t\t<td>southeast</td>\n",
       "\t\t<td>11482.63485</td>\n",
       "\t</tr>\n",
       "\t<tr>\n",
       "\t\t<td>18</td>\n",
       "\t\t<td>male</td>\n",
       "\t\t<td>38.17</td>\n",
       "\t\t<td>0</td>\n",
       "\t\t<td>yes</td>\n",
       "\t\t<td>southeast</td>\n",
       "\t\t<td>36307.7983</td>\n",
       "\t</tr>\n",
       "\t<tr>\n",
       "\t\t<td>18</td>\n",
       "\t\t<td>male</td>\n",
       "\t\t<td>33.535</td>\n",
       "\t\t<td>0</td>\n",
       "\t\t<td>yes</td>\n",
       "\t\t<td>northeast</td>\n",
       "\t\t<td>34617.84065</td>\n",
       "\t</tr>\n",
       "\t<tr>\n",
       "\t\t<td>18</td>\n",
       "\t\t<td>female</td>\n",
       "\t\t<td>37.29</td>\n",
       "\t\t<td>1</td>\n",
       "\t\t<td>no</td>\n",
       "\t\t<td>southeast</td>\n",
       "\t\t<td>2219.4451</td>\n",
       "\t</tr>\n",
       "\t<tr>\n",
       "\t\t<td>18</td>\n",
       "\t\t<td>male</td>\n",
       "\t\t<td>34.1</td>\n",
       "\t\t<td>0</td>\n",
       "\t\t<td>no</td>\n",
       "\t\t<td>southeast</td>\n",
       "\t\t<td>1137.011</td>\n",
       "\t</tr>\n",
       "\t<tr>\n",
       "\t\t<td>18</td>\n",
       "\t\t<td>male</td>\n",
       "\t\t<td>21.47</td>\n",
       "\t\t<td>0</td>\n",
       "\t\t<td>no</td>\n",
       "\t\t<td>northeast</td>\n",
       "\t\t<td>1702.4553</td>\n",
       "\t</tr>\n",
       "\t<tr>\n",
       "\t\t<td>18</td>\n",
       "\t\t<td>female</td>\n",
       "\t\t<td>25.08</td>\n",
       "\t\t<td>0</td>\n",
       "\t\t<td>no</td>\n",
       "\t\t<td>northeast</td>\n",
       "\t\t<td>2196.4732</td>\n",
       "\t</tr>\n",
       "\t<tr>\n",
       "\t\t<td>18</td>\n",
       "\t\t<td>female</td>\n",
       "\t\t<td>21.66</td>\n",
       "\t\t<td>0</td>\n",
       "\t\t<td>yes</td>\n",
       "\t\t<td>northeast</td>\n",
       "\t\t<td>14283.4594</td>\n",
       "\t</tr>\n",
       "\t<tr>\n",
       "\t\t<td>18</td>\n",
       "\t\t<td>female</td>\n",
       "\t\t<td>31.92</td>\n",
       "\t\t<td>0</td>\n",
       "\t\t<td>no</td>\n",
       "\t\t<td>northeast</td>\n",
       "\t\t<td>2205.9808</td>\n",
       "\t</tr>\n",
       "\t<tr>\n",
       "\t\t<td>18</td>\n",
       "\t\t<td>male</td>\n",
       "\t\t<td>17.29</td>\n",
       "\t\t<td>2</td>\n",
       "\t\t<td>yes</td>\n",
       "\t\t<td>northeast</td>\n",
       "\t\t<td>12829.4551</td>\n",
       "\t</tr>\n",
       "</table></html>"
      ],
      "text/plain": [
       "        sex     bmi  children smoker     region      charges\n",
       "age                                                         \n",
       "18   female  33.880         0     no  southeast  11482.63485\n",
       "18     male  38.170         0    yes  southeast  36307.79830\n",
       "18     male  33.535         0    yes  northeast  34617.84065\n",
       "18   female  37.290         1     no  southeast   2219.44510\n",
       "18     male  34.100         0     no  southeast   1137.01100\n",
       "18     male  21.470         0     no  northeast   1702.45530\n",
       "18   female  25.080         0     no  northeast   2196.47320\n",
       "18   female  21.660         0    yes  northeast  14283.45940\n",
       "18   female  31.920         0     no  northeast   2205.98080\n",
       "18     male  17.290         2    yes  northeast  12829.45510"
      ]
     },
     "execution_count": 13,
     "metadata": {},
     "output_type": "execute_result"
    }
   ],
   "source": [
    "#train dataset\n",
    "insurance_df_train.head()"
   ]
  },
  {
   "cell_type": "code",
   "execution_count": 14,
   "id": "58c9d763-4f19-449e-a35b-676d4d026acc",
   "metadata": {},
   "outputs": [
    {
     "data": {
      "text/html": [
       "<style type=\"text/css\">\n",
       "\ttable {border:ridge 5px;}\n",
       "\ttable td {border:inset 1px;}\n",
       "\ttable tr#HeaderRow {background-color:grey; color:white;}</style>\n",
       "<html><table>\n",
       "\t<tr id=\"HeaderRow\">\n",
       "\t\t<th>age</th>\n",
       "\t\t<th>sex</th>\n",
       "\t\t<th>bmi</th>\n",
       "\t\t<th>children</th>\n",
       "\t\t<th>smoker</th>\n",
       "\t\t<th>region</th>\n",
       "\t\t<th>charges</th>\n",
       "\t</tr>\n",
       "\t<tr>\n",
       "\t\t<td>18</td>\n",
       "\t\t<td>female</td>\n",
       "\t\t<td>31.13</td>\n",
       "\t\t<td>0</td>\n",
       "\t\t<td>no</td>\n",
       "\t\t<td>southeast</td>\n",
       "\t\t<td>1621.8827</td>\n",
       "\t</tr>\n",
       "\t<tr>\n",
       "\t\t<td>18</td>\n",
       "\t\t<td>female</td>\n",
       "\t\t<td>26.315</td>\n",
       "\t\t<td>0</td>\n",
       "\t\t<td>no</td>\n",
       "\t\t<td>northeast</td>\n",
       "\t\t<td>2198.18985</td>\n",
       "\t</tr>\n",
       "\t<tr>\n",
       "\t\t<td>18</td>\n",
       "\t\t<td>male</td>\n",
       "\t\t<td>35.2</td>\n",
       "\t\t<td>1</td>\n",
       "\t\t<td>no</td>\n",
       "\t\t<td>southeast</td>\n",
       "\t\t<td>1727.54</td>\n",
       "\t</tr>\n",
       "\t<tr>\n",
       "\t\t<td>18</td>\n",
       "\t\t<td>male</td>\n",
       "\t\t<td>26.18</td>\n",
       "\t\t<td>2</td>\n",
       "\t\t<td>no</td>\n",
       "\t\t<td>southeast</td>\n",
       "\t\t<td>2304.0022</td>\n",
       "\t</tr>\n",
       "\t<tr>\n",
       "\t\t<td>18</td>\n",
       "\t\t<td>female</td>\n",
       "\t\t<td>40.28</td>\n",
       "\t\t<td>0</td>\n",
       "\t\t<td>no</td>\n",
       "\t\t<td>northeast</td>\n",
       "\t\t<td>2217.6012</td>\n",
       "\t</tr>\n",
       "\t<tr>\n",
       "\t\t<td>18</td>\n",
       "\t\t<td>male</td>\n",
       "\t\t<td>25.175</td>\n",
       "\t\t<td>0</td>\n",
       "\t\t<td>yes</td>\n",
       "\t\t<td>northeast</td>\n",
       "\t\t<td>15518.18025</td>\n",
       "\t</tr>\n",
       "\t<tr>\n",
       "\t\t<td>18</td>\n",
       "\t\t<td>male</td>\n",
       "\t\t<td>29.37</td>\n",
       "\t\t<td>1</td>\n",
       "\t\t<td>no</td>\n",
       "\t\t<td>southeast</td>\n",
       "\t\t<td>1719.4363</td>\n",
       "\t</tr>\n",
       "\t<tr>\n",
       "\t\t<td>18</td>\n",
       "\t\t<td>female</td>\n",
       "\t\t<td>32.12</td>\n",
       "\t\t<td>2</td>\n",
       "\t\t<td>no</td>\n",
       "\t\t<td>southeast</td>\n",
       "\t\t<td>2801.2588</td>\n",
       "\t</tr>\n",
       "\t<tr>\n",
       "\t\t<td>18</td>\n",
       "\t\t<td>male</td>\n",
       "\t\t<td>33.77</td>\n",
       "\t\t<td>1</td>\n",
       "\t\t<td>no</td>\n",
       "\t\t<td>southeast</td>\n",
       "\t\t<td>1725.5523</td>\n",
       "\t</tr>\n",
       "\t<tr>\n",
       "\t\t<td>18</td>\n",
       "\t\t<td>male</td>\n",
       "\t\t<td>37.29</td>\n",
       "\t\t<td>0</td>\n",
       "\t\t<td>no</td>\n",
       "\t\t<td>southeast</td>\n",
       "\t\t<td>1141.4451</td>\n",
       "\t</tr>\n",
       "</table></html>"
      ],
      "text/plain": [
       "        sex     bmi  children smoker     region      charges\n",
       "age                                                         \n",
       "18   female  31.130         0     no  southeast   1621.88270\n",
       "18   female  26.315         0     no  northeast   2198.18985\n",
       "18     male  35.200         1     no  southeast   1727.54000\n",
       "18     male  26.180         2     no  southeast   2304.00220\n",
       "18   female  40.280         0     no  northeast   2217.60120\n",
       "18     male  25.175         0    yes  northeast  15518.18025\n",
       "18     male  29.370         1     no  southeast   1719.43630\n",
       "18   female  32.120         2     no  southeast   2801.25880\n",
       "18     male  33.770         1     no  southeast   1725.55230\n",
       "18     male  37.290         0     no  southeast   1141.44510"
      ]
     },
     "execution_count": 14,
     "metadata": {},
     "output_type": "execute_result"
    }
   ],
   "source": [
    "# test dataset\n",
    "insurance_df_test.head()"
   ]
  },
  {
   "cell_type": "code",
   "execution_count": 15,
   "id": "dc05635b-e785-4bcd-a851-39c6cc734990",
   "metadata": {},
   "outputs": [
    {
     "name": "stdout",
     "output_type": "stream",
     "text": [
      "\n",
      "Generating custom config JSON for AutoML ...\n",
      "\n",
      "Available main options for customization with corresponding indices: \n",
      "--------------------------------------------------------------------------------\n",
      "\n",
      "Index 1: Customize Feature Engineering Phase\n",
      "\n",
      "Index 2: Customize Data Preparation Phase\n",
      "\n",
      "Index 3: Customize Model Training Phase\n",
      "\n",
      "Index 4: Generate custom json and exit\n",
      "--------------------------------------------------------------------------------\n"
     ]
    },
    {
     "name": "stdout",
     "output_type": "stream",
     "text": [
      "\n",
      "Enter the index you want to customize:  1\n"
     ]
    },
    {
     "name": "stdout",
     "output_type": "stream",
     "text": [
      "\n",
      "Customizing Feature Engineering Phase ...\n",
      "\n",
      "Available options for customization of feature engineering phase with corresponding indices: \n",
      "--------------------------------------------------------------------------------\n",
      "\n",
      "Index 1: Customize Missing Value Handling\n",
      "\n",
      "Index 2: Customize Bincode Encoding\n",
      "\n",
      "Index 3: Customize String Manipulation\n",
      "\n",
      "Index 4: Customize Categorical Encoding\n",
      "\n",
      "Index 5: Customize Mathematical Transformation\n",
      "\n",
      "Index 6: Customize Nonlinear Transformation\n",
      "\n",
      "Index 7: Customize Antiselect Features\n",
      "\n",
      "Index 8: Back to main menu\n",
      "\n",
      "Index 9: Generate custom json and exit\n",
      "--------------------------------------------------------------------------------\n"
     ]
    },
    {
     "name": "stdout",
     "output_type": "stream",
     "text": [
      "\n",
      "Enter the list of indices you want to customize in feature engineering phase:  2, 4, 8\n"
     ]
    },
    {
     "name": "stdout",
     "output_type": "stream",
     "text": [
      "\n",
      "Customizing Bincode Encoding ...\n",
      "\n",
      "Provide the following details to customize binning and coding encoding:\n",
      "\n",
      "Available binning methods with corresponding indices:\n",
      "Index 1: Equal-Width\n",
      "Index 2: Variable-Width\n"
     ]
    },
    {
     "name": "stdout",
     "output_type": "stream",
     "text": [
      "\n",
      "Enter the feature or list of features for binning:  age\n",
      "\n",
      "Enter the index of corresponding binning method for feature age:  1\n",
      "\n",
      "Enter the number of bins for feature age:  3\n"
     ]
    },
    {
     "name": "stdout",
     "output_type": "stream",
     "text": [
      "\n",
      "Customization of bincode encoding has been completed successfully.\n",
      "\n",
      "Customizing Categorical Encoding ...\n",
      "\n",
      "Provide the following details to customize categorical encoding:\n",
      "\n",
      "Available categorical encoding methods with corresponding indices:\n",
      "Index 1: OneHotEncoding\n",
      "Index 2: OrdinalEncoding\n",
      "Index 3: TargetEncoding\n"
     ]
    },
    {
     "name": "stdout",
     "output_type": "stream",
     "text": [
      "\n",
      "Enter the list of corresponding index categorical encoding methods you want to use:  3\n",
      "\n",
      "Enter the feature or list of features for TargetEncoding:  region\n"
     ]
    },
    {
     "name": "stdout",
     "output_type": "stream",
     "text": [
      "\n",
      "Available target encoding methods with corresponding indices:\n",
      "Index 1: CBM_BETA\n",
      "Index 2: CBM_DIRICHLET\n",
      "Index 3: CBM_GAUSSIAN_INVERSE_GAMMA\n"
     ]
    },
    {
     "name": "stdout",
     "output_type": "stream",
     "text": [
      "\n",
      "Enter the index of target encoding method for feature region:  3\n",
      "\n",
      "Enter the response column for target encoding method for feature region:  charges\n"
     ]
    },
    {
     "name": "stdout",
     "output_type": "stream",
     "text": [
      "\n",
      "Customization of categorical encoding has been completed successfully.\n",
      "\n",
      "Customization of feature engineering phase has been completed successfully.\n",
      "\n",
      "Available main options for customization with corresponding indices: \n",
      "--------------------------------------------------------------------------------\n",
      "\n",
      "Index 1: Customize Feature Engineering Phase\n",
      "\n",
      "Index 2: Customize Data Preparation Phase\n",
      "\n",
      "Index 3: Customize Model Training Phase\n",
      "\n",
      "Index 4: Generate custom json and exit\n",
      "--------------------------------------------------------------------------------\n"
     ]
    },
    {
     "name": "stdout",
     "output_type": "stream",
     "text": [
      "\n",
      "Enter the index you want to customize:  2\n"
     ]
    },
    {
     "name": "stdout",
     "output_type": "stream",
     "text": [
      "\n",
      "Customizing Data Preparation Phase ...\n",
      "\n",
      "Available options for customization of data preparation phase with corresponding indices: \n",
      "--------------------------------------------------------------------------------\n",
      "\n",
      "Index 1: Customize Train Test Split\n",
      "\n",
      "Index 2: Customize Data Imbalance Handling\n",
      "\n",
      "Index 3: Customize Outlier Handling\n",
      "\n",
      "Index 4: Customize Feature Scaling\n",
      "\n",
      "Index 5: Back to main menu\n",
      "\n",
      "Index 6: Generate custom json and exit\n",
      "--------------------------------------------------------------------------------\n"
     ]
    },
    {
     "name": "stdout",
     "output_type": "stream",
     "text": [
      "\n",
      "Enter the list of indices you want to customize in data preparation phase:  1,4\n"
     ]
    },
    {
     "name": "stdout",
     "output_type": "stream",
     "text": [
      "\n",
      "Customizing Train Test Split ...\n"
     ]
    },
    {
     "name": "stdout",
     "output_type": "stream",
     "text": [
      "\n",
      "Enter the train size for train test split:  0.9\n"
     ]
    },
    {
     "name": "stdout",
     "output_type": "stream",
     "text": [
      "\n",
      "Customization of train test split has been completed successfully.\n",
      "\n",
      "Available feature scaling methods with corresponding indices:\n",
      "Index 1: maxabs\n",
      "Index 2: mean\n",
      "Index 3: midrange\n",
      "Index 4: range\n",
      "Index 5: rescale\n",
      "Index 6: std\n",
      "Index 7: sum\n",
      "Index 8: ustd\n"
     ]
    },
    {
     "name": "stdout",
     "output_type": "stream",
     "text": [
      "\n",
      "Enter the corresponding index feature scaling method:  3\n"
     ]
    },
    {
     "name": "stdout",
     "output_type": "stream",
     "text": [
      "\n",
      "Customization of feature scaling has been completed successfully.\n",
      "\n",
      "Available options for customization of data preparation phase with corresponding indices: \n",
      "--------------------------------------------------------------------------------\n",
      "\n",
      "Index 1: Customize Train Test Split\n",
      "\n",
      "Index 2: Customize Data Imbalance Handling\n",
      "\n",
      "Index 3: Customize Outlier Handling\n",
      "\n",
      "Index 4: Customize Feature Scaling\n",
      "\n",
      "Index 5: Back to main menu\n",
      "\n",
      "Index 6: Generate custom json and exit\n",
      "--------------------------------------------------------------------------------\n"
     ]
    },
    {
     "name": "stdout",
     "output_type": "stream",
     "text": [
      "\n",
      "Enter the list of indices you want to customize in data preparation phase:  6\n"
     ]
    },
    {
     "name": "stdout",
     "output_type": "stream",
     "text": [
      "\n",
      "Customization of data preparation phase has been completed successfully.\n",
      "\n",
      "Process of generating custom config file for AutoML has been completed successfully.\n",
      "\n",
      "'custom_insurance.json' file is generated successfully under the current working directory.\n"
     ]
    }
   ],
   "source": [
    "AutoRegressor.generate_custom_config(\"custom_insurance\")"
   ]
  },
  {
   "cell_type": "markdown",
   "id": "856ea871-93d8-4ea2-b524-1acb23bd7eb5",
   "metadata": {},
   "source": [
    "## <b><span style='color:#F1A424'>| 2.</span> Fitting AutoML </b>"
   ]
  },
  {
   "cell_type": "code",
   "execution_count": 16,
   "id": "f3650aa5-a408-4227-a88d-79c0f3d36d3c",
   "metadata": {},
   "outputs": [],
   "source": [
    "# Creating AutoRegressor instance\n",
    "# Using all models from model training.\n",
    "# Keeping early stopping timer threshold to 500 sec\n",
    "# and verbose level 2 for detailed loggging\n",
    "# Using custom json file for custom run\n",
    "\n",
    "aml = AutoRegressor(max_runtime_secs=500, \n",
    "                    verbose=2,\n",
    "                    custom_config_file=\"custom_insurance.json\")"
   ]
  },
  {
   "cell_type": "code",
   "execution_count": 17,
   "id": "a1b7a771-1bfa-40c9-8ad0-c377d320c137",
   "metadata": {},
   "outputs": [
    {
     "name": "stdout",
     "output_type": "stream",
     "text": [
      "\n",
      " Received below input for customization : \n",
      "{\n",
      "    \"BincodeIndicator\": true,\n",
      "    \"BincodeParam\": {\n",
      "        \"age\": {\n",
      "            \"Type\": \"Equal-Width\",\n",
      "            \"NumOfBins\": 3\n",
      "        }\n",
      "    },\n",
      "    \"CategoricalEncodingIndicator\": true,\n",
      "    \"CategoricalEncodingParam\": {\n",
      "        \"TargetEncodingIndicator\": true,\n",
      "        \"TargetEncodingList\": {\n",
      "            \"region\": {\n",
      "                \"encoder_method\": \"CBM_GAUSSIAN_INVERSE_GAMMA\",\n",
      "                \"response_column\": \"charges\"\n",
      "            }\n",
      "        }\n",
      "    },\n",
      "    \"TrainTestSplitIndicator\": true,\n",
      "    \"TrainingSize\": 0.9,\n",
      "    \"FeatureScalingIndicator\": true,\n",
      "    \"FeatureScalingMethod\": \"midrange\"\n",
      "}\n"
     ]
    },
    {
     "data": {
      "text/html": [
       "\n",
       "            <style>\n",
       "                .custom-div {\n",
       "                    background-color: lightgray;\n",
       "                    color: #000000;\n",
       "                    padding: 10px;\n",
       "                    border-radius: 8px;\n",
       "                    box-shadow: 0 3px 4px rgba(0, 0, 0, 0.2);\n",
       "                    margin-bottom: 10px;\n",
       "                    text-align: center;\n",
       "                }\n",
       "            </style>\n",
       "        <br><div class=\"custom-div\"><h3><span style=\"color: green;\"></span>1. Feature Exploration -> 2. Feature Engineering -> 3. Data Preparation -> 4. Model Training & Evaluation<center></h3></center></div>"
      ],
      "text/plain": [
       "<IPython.core.display.HTML object>"
      ]
     },
     "metadata": {},
     "output_type": "display_data"
    },
    {
     "name": "stdout",
     "output_type": "stream",
     "text": [
      "Feature Exploration started ...\n",
      "\n",
      "Data Overview:\n",
      "Total Rows in the data: 1070\n",
      "Total Columns in the data: 7\n",
      "\n",
      "Column Summary:\n"
     ]
    },
    {
     "data": {
      "text/html": [
       "<style type=\"text/css\">\n",
       "\ttable {border:ridge 5px;}\n",
       "\ttable td {border:inset 1px;}\n",
       "\ttable tr#HeaderRow {background-color:grey; color:white;}</style>\n",
       "<html><table>\n",
       "\t<tr id=\"HeaderRow\">\n",
       "\t\t<th>ColumnName</th>\n",
       "\t\t<th>Datatype</th>\n",
       "\t\t<th>NonNullCount</th>\n",
       "\t\t<th>NullCount</th>\n",
       "\t\t<th>BlankCount</th>\n",
       "\t\t<th>ZeroCount</th>\n",
       "\t\t<th>PositiveCount</th>\n",
       "\t\t<th>NegativeCount</th>\n",
       "\t\t<th>NullPercentage</th>\n",
       "\t\t<th>NonNullPercentage</th>\n",
       "\t</tr>\n",
       "\t<tr>\n",
       "\t\t<td>region</td>\n",
       "\t\t<td>VARCHAR(20) CHARACTER SET LATIN</td>\n",
       "\t\t<td>1070</td>\n",
       "\t\t<td>0</td>\n",
       "\t\t<td>0</td>\n",
       "\t\t<td>None</td>\n",
       "\t\t<td>None</td>\n",
       "\t\t<td>None</td>\n",
       "\t\t<td>0.0</td>\n",
       "\t\t<td>100.0</td>\n",
       "\t</tr>\n",
       "\t<tr>\n",
       "\t\t<td>bmi</td>\n",
       "\t\t<td>FLOAT</td>\n",
       "\t\t<td>1070</td>\n",
       "\t\t<td>0</td>\n",
       "\t\t<td>None</td>\n",
       "\t\t<td>0</td>\n",
       "\t\t<td>1070</td>\n",
       "\t\t<td>0</td>\n",
       "\t\t<td>0.0</td>\n",
       "\t\t<td>100.0</td>\n",
       "\t</tr>\n",
       "\t<tr>\n",
       "\t\t<td>children</td>\n",
       "\t\t<td>INTEGER</td>\n",
       "\t\t<td>1070</td>\n",
       "\t\t<td>0</td>\n",
       "\t\t<td>None</td>\n",
       "\t\t<td>460</td>\n",
       "\t\t<td>610</td>\n",
       "\t\t<td>0</td>\n",
       "\t\t<td>0.0</td>\n",
       "\t\t<td>100.0</td>\n",
       "\t</tr>\n",
       "\t<tr>\n",
       "\t\t<td>sex</td>\n",
       "\t\t<td>VARCHAR(20) CHARACTER SET LATIN</td>\n",
       "\t\t<td>1070</td>\n",
       "\t\t<td>0</td>\n",
       "\t\t<td>0</td>\n",
       "\t\t<td>None</td>\n",
       "\t\t<td>None</td>\n",
       "\t\t<td>None</td>\n",
       "\t\t<td>0.0</td>\n",
       "\t\t<td>100.0</td>\n",
       "\t</tr>\n",
       "\t<tr>\n",
       "\t\t<td>age</td>\n",
       "\t\t<td>INTEGER</td>\n",
       "\t\t<td>1070</td>\n",
       "\t\t<td>0</td>\n",
       "\t\t<td>None</td>\n",
       "\t\t<td>0</td>\n",
       "\t\t<td>1070</td>\n",
       "\t\t<td>0</td>\n",
       "\t\t<td>0.0</td>\n",
       "\t\t<td>100.0</td>\n",
       "\t</tr>\n",
       "\t<tr>\n",
       "\t\t<td>charges</td>\n",
       "\t\t<td>FLOAT</td>\n",
       "\t\t<td>1070</td>\n",
       "\t\t<td>0</td>\n",
       "\t\t<td>None</td>\n",
       "\t\t<td>0</td>\n",
       "\t\t<td>1070</td>\n",
       "\t\t<td>0</td>\n",
       "\t\t<td>0.0</td>\n",
       "\t\t<td>100.0</td>\n",
       "\t</tr>\n",
       "\t<tr>\n",
       "\t\t<td>smoker</td>\n",
       "\t\t<td>VARCHAR(20) CHARACTER SET LATIN</td>\n",
       "\t\t<td>1070</td>\n",
       "\t\t<td>0</td>\n",
       "\t\t<td>0</td>\n",
       "\t\t<td>None</td>\n",
       "\t\t<td>None</td>\n",
       "\t\t<td>None</td>\n",
       "\t\t<td>0.0</td>\n",
       "\t\t<td>100.0</td>\n",
       "\t</tr>\n",
       "</table></html>"
      ],
      "text/plain": [
       "                                   Datatype  NonNullCount  NullCount  BlankCount  ZeroCount  PositiveCount  NegativeCount  NullPercentage  NonNullPercentage\n",
       "ColumnName                                                                                                                                                  \n",
       "region      VARCHAR(20) CHARACTER SET LATIN          1070          0         0.0        NaN            NaN            NaN             0.0              100.0\n",
       "bmi                                   FLOAT          1070          0         NaN        0.0         1070.0            0.0             0.0              100.0\n",
       "children                            INTEGER          1070          0         NaN      460.0          610.0            0.0             0.0              100.0\n",
       "sex         VARCHAR(20) CHARACTER SET LATIN          1070          0         0.0        NaN            NaN            NaN             0.0              100.0\n",
       "age                                 INTEGER          1070          0         NaN        0.0         1070.0            0.0             0.0              100.0\n",
       "charges                               FLOAT          1070          0         NaN        0.0         1070.0            0.0             0.0              100.0\n",
       "smoker      VARCHAR(20) CHARACTER SET LATIN          1070          0         0.0        NaN            NaN            NaN             0.0              100.0"
      ]
     },
     "metadata": {},
     "output_type": "display_data"
    },
    {
     "name": "stdout",
     "output_type": "stream",
     "text": [
      "\n",
      "Statistics of Data:\n"
     ]
    },
    {
     "data": {
      "text/html": [
       "<style type=\"text/css\">\n",
       "\ttable {border:ridge 5px;}\n",
       "\ttable td {border:inset 1px;}\n",
       "\ttable tr#HeaderRow {background-color:grey; color:white;}</style>\n",
       "<html><table>\n",
       "\t<tr id=\"HeaderRow\">\n",
       "\t\t<th>func</th>\n",
       "\t\t<th>age</th>\n",
       "\t\t<th>bmi</th>\n",
       "\t\t<th>children</th>\n",
       "\t\t<th>charges</th>\n",
       "\t</tr>\n",
       "\t<tr>\n",
       "\t\t<td>min</td>\n",
       "\t\t<td>18</td>\n",
       "\t\t<td>15.96</td>\n",
       "\t\t<td>0</td>\n",
       "\t\t<td>1121.874</td>\n",
       "\t</tr>\n",
       "\t<tr>\n",
       "\t\t<td>std</td>\n",
       "\t\t<td>14.067</td>\n",
       "\t\t<td>6.11</td>\n",
       "\t\t<td>1.222</td>\n",
       "\t\t<td>12247.954</td>\n",
       "\t</tr>\n",
       "\t<tr>\n",
       "\t\t<td>25%</td>\n",
       "\t\t<td>27</td>\n",
       "\t\t<td>26.185</td>\n",
       "\t\t<td>0</td>\n",
       "\t\t<td>4755.81</td>\n",
       "\t</tr>\n",
       "\t<tr>\n",
       "\t\t<td>50%</td>\n",
       "\t\t<td>39</td>\n",
       "\t\t<td>30.4</td>\n",
       "\t\t<td>1</td>\n",
       "\t\t<td>9473.978</td>\n",
       "\t</tr>\n",
       "\t<tr>\n",
       "\t\t<td>75%</td>\n",
       "\t\t<td>51</td>\n",
       "\t\t<td>34.42</td>\n",
       "\t\t<td>2</td>\n",
       "\t\t<td>17309.391</td>\n",
       "\t</tr>\n",
       "\t<tr>\n",
       "\t\t<td>max</td>\n",
       "\t\t<td>64</td>\n",
       "\t\t<td>53.13</td>\n",
       "\t\t<td>5</td>\n",
       "\t\t<td>63770.428</td>\n",
       "\t</tr>\n",
       "\t<tr>\n",
       "\t\t<td>mean</td>\n",
       "\t\t<td>39.162</td>\n",
       "\t\t<td>30.599</td>\n",
       "\t\t<td>1.113</td>\n",
       "\t\t<td>13472.1</td>\n",
       "\t</tr>\n",
       "\t<tr>\n",
       "\t\t<td>count</td>\n",
       "\t\t<td>1070</td>\n",
       "\t\t<td>1070</td>\n",
       "\t\t<td>1070</td>\n",
       "\t\t<td>1070</td>\n",
       "\t</tr>\n",
       "</table></html>"
      ],
      "text/plain": [
       "            age       bmi  children    charges\n",
       "func                                          \n",
       "min      18.000    15.960     0.000   1121.874\n",
       "std      14.067     6.110     1.222  12247.954\n",
       "25%      27.000    26.185     0.000   4755.810\n",
       "50%      39.000    30.400     1.000   9473.978\n",
       "75%      51.000    34.420     2.000  17309.391\n",
       "max      64.000    53.130     5.000  63770.428\n",
       "mean     39.162    30.599     1.113  13472.100\n",
       "count  1070.000  1070.000  1070.000   1070.000"
      ]
     },
     "metadata": {},
     "output_type": "display_data"
    },
    {
     "name": "stdout",
     "output_type": "stream",
     "text": [
      "\n",
      "Categorical Columns with their Distinct values:\n",
      "ColumnName                DistinctValueCount\n",
      "sex                       2         \n",
      "smoker                    2         \n",
      "region                    4         \n",
      "\n",
      "No Futile columns found.\n",
      "\n",
      "Target Column Distribution:\n"
     ]
    },
    {
     "data": {
      "image/png": "[encoded data removed]",
      "text/plain": [
       "<Figure size 800x600 with 1 Axes>"
      ]
     },
     "metadata": {},
     "output_type": "display_data"
    },
    {
     "name": "stdout",
     "output_type": "stream",
     "text": [
      "Columns with outlier percentage :-                                                                                                                                                                                                                                                                                                                                                                                                                                                                                  \n",
      "  ColumnName  OutlierPercentage\n",
      "0    charges           9.439252\n",
      "1        bmi           0.841121\n",
      "                                                                                        \r"
     ]
    },
    {
     "data": {
      "text/html": [
       "\n",
       "            <style>\n",
       "                .custom-div {\n",
       "                    background-color: lightgray;\n",
       "                    color: #000000;\n",
       "                    padding: 10px;\n",
       "                    border-radius: 8px;\n",
       "                    box-shadow: 0 3px 4px rgba(0 -  0 -  0 -  0.2);\n",
       "                    margin-bottom: 10px;\n",
       "                    text-align: center;\n",
       "                }\n",
       "            </style>\n",
       "        <br><div class=\"custom-div\"><h3><span style=\"color: green;\">1. Feature Exploration -></span> 2. Feature Engineering -> 3. Data Preparation -> 4. Model Training & Evaluation<center></h3></center></div>"
      ],
      "text/plain": [
       "<IPython.core.display.HTML object>"
      ]
     },
     "metadata": {},
     "output_type": "display_data"
    },
    {
     "name": "stdout",
     "output_type": "stream",
     "text": [
      "                                                                                        \r"
     ]
    },
    {
     "data": {
      "text/html": [
       "Feature Engineering started ..."
      ],
      "text/plain": [
       "<IPython.core.display.HTML object>"
      ]
     },
     "metadata": {},
     "output_type": "display_data"
    },
    {
     "name": "stdout",
     "output_type": "stream",
     "text": [
      "                                                                                        \r"
     ]
    },
    {
     "data": {
      "text/html": [
       "\n",
       "Handling duplicate records present in dataset ..."
      ],
      "text/plain": [
       "<IPython.core.display.HTML object>"
      ]
     },
     "metadata": {},
     "output_type": "display_data"
    },
    {
     "name": "stdout",
     "output_type": "stream",
     "text": [
      "Analysis complete. No action taken.                                                     \n",
      "                                                                                        \r"
     ]
    },
    {
     "data": {
      "text/html": [
       "Total time to handle duplicate records: 1.66 sec  "
      ],
      "text/plain": [
       "<IPython.core.display.HTML object>"
      ]
     },
     "metadata": {},
     "output_type": "display_data"
    },
    {
     "name": "stdout",
     "output_type": "stream",
     "text": [
      "                                                                                        \r"
     ]
    },
    {
     "data": {
      "text/html": [
       "\n",
       "Handling less significant features from data ..."
      ],
      "text/plain": [
       "<IPython.core.display.HTML object>"
      ]
     },
     "metadata": {},
     "output_type": "display_data"
    },
    {
     "name": "stdout",
     "output_type": "stream",
     "text": [
      "All categorical columns seem to be significant.                                         \n",
      "                                                                                        \r"
     ]
    },
    {
     "data": {
      "text/html": [
       "Total time to handle less significant features: 17.25 sec  "
      ],
      "text/plain": [
       "<IPython.core.display.HTML object>"
      ]
     },
     "metadata": {},
     "output_type": "display_data"
    },
    {
     "name": "stdout",
     "output_type": "stream",
     "text": [
      "                                                                                        \r"
     ]
    },
    {
     "data": {
      "text/html": [
       "\n",
       "Handling Date Features ..."
      ],
      "text/plain": [
       "<IPython.core.display.HTML object>"
      ]
     },
     "metadata": {},
     "output_type": "display_data"
    },
    {
     "name": "stdout",
     "output_type": "stream",
     "text": [
      "Dataset does not contain any feature related to dates.                                  \n",
      "                                                                                        \r"
     ]
    },
    {
     "data": {
      "text/html": [
       "Total time to handle date features: 0.00 sec\n"
      ],
      "text/plain": [
       "<IPython.core.display.HTML object>"
      ]
     },
     "metadata": {},
     "output_type": "display_data"
    },
    {
     "name": "stdout",
     "output_type": "stream",
     "text": [
      "Proceeding with default option for missing value imputation.                             \n",
      "Proceeding with default option for handling remaining missing values.                    \n",
      "                                                                                         \r"
     ]
    },
    {
     "data": {
      "text/html": [
       "\n",
       "Checking Missing values in dataset ..."
      ],
      "text/plain": [
       "<IPython.core.display.HTML object>"
      ]
     },
     "metadata": {},
     "output_type": "display_data"
    },
    {
     "name": "stdout",
     "output_type": "stream",
     "text": [
      "No Missing Values Detected.                                                              \n",
      "                                                                                         \r"
     ]
    },
    {
     "data": {
      "text/html": [
       "Total time to find missing values in data: 7.55 sec  "
      ],
      "text/plain": [
       "<IPython.core.display.HTML object>"
      ]
     },
     "metadata": {},
     "output_type": "display_data"
    },
    {
     "name": "stdout",
     "output_type": "stream",
     "text": [
      "                                                                                         \r"
     ]
    },
    {
     "data": {
      "text/html": [
       "\n",
       "Imputing Missing Values ..."
      ],
      "text/plain": [
       "<IPython.core.display.HTML object>"
      ]
     },
     "metadata": {},
     "output_type": "display_data"
    },
    {
     "name": "stdout",
     "output_type": "stream",
     "text": [
      "No imputation is Required.                                                               \n",
      "                                                                                         \r"
     ]
    },
    {
     "data": {
      "text/html": [
       "Time taken to perform imputation: 0.00 sec  "
      ],
      "text/plain": [
       "<IPython.core.display.HTML object>"
      ]
     },
     "metadata": {},
     "output_type": "display_data"
    },
    {
     "name": "stdout",
     "output_type": "stream",
     "text": [
      "result data stored in table '\"AUTOML_USR\".\"ml__td_sqlmr_persist_out__171285723531015\"'/23\n",
      "                                                                                         \r"
     ]
    },
    {
     "data": {
      "text/html": [
       "\n",
       "Updated dataset sample after performing Equal-Width binning :-"
      ],
      "text/plain": [
       "<IPython.core.display.HTML object>"
      ]
     },
     "metadata": {},
     "output_type": "display_data"
    },
    {
     "data": {
      "text/html": [
       "<style type=\"text/css\">\n",
       "\ttable {border:ridge 5px;}\n",
       "\ttable td {border:inset 1px;}\n",
       "\ttable tr#HeaderRow {background-color:grey; color:white;}</style>\n",
       "<html><table>\n",
       "\t<tr id=\"HeaderRow\">\n",
       "\t\t<th>smoker</th>\n",
       "\t\t<th>children</th>\n",
       "\t\t<th>sex</th>\n",
       "\t\t<th>charges</th>\n",
       "\t\t<th>region</th>\n",
       "\t\t<th>id</th>\n",
       "\t\t<th>bmi</th>\n",
       "\t\t<th>age</th>\n",
       "\t</tr>\n",
       "\t<tr>\n",
       "\t\t<td>yes</td>\n",
       "\t\t<td>3</td>\n",
       "\t\t<td>female</td>\n",
       "\t\t<td>40941.2854</td>\n",
       "\t\t<td>southeast</td>\n",
       "\t\t<td>224</td>\n",
       "\t\t<td>32.56</td>\n",
       "\t\t<td>age_2</td>\n",
       "\t</tr>\n",
       "\t<tr>\n",
       "\t\t<td>yes</td>\n",
       "\t\t<td>2</td>\n",
       "\t\t<td>female</td>\n",
       "\t\t<td>21880.82</td>\n",
       "\t\t<td>northwest</td>\n",
       "\t\t<td>272</td>\n",
       "\t\t<td>24.7</td>\n",
       "\t\t<td>age_2</td>\n",
       "\t</tr>\n",
       "\t<tr>\n",
       "\t\t<td>yes</td>\n",
       "\t\t<td>0</td>\n",
       "\t\t<td>female</td>\n",
       "\t\t<td>45863.205</td>\n",
       "\t\t<td>southeast</td>\n",
       "\t\t<td>280</td>\n",
       "\t\t<td>46.2</td>\n",
       "\t\t<td>age_2</td>\n",
       "\t</tr>\n",
       "\t<tr>\n",
       "\t\t<td>yes</td>\n",
       "\t\t<td>2</td>\n",
       "\t\t<td>female</td>\n",
       "\t\t<td>19798.05455</td>\n",
       "\t\t<td>northeast</td>\n",
       "\t\t<td>288</td>\n",
       "\t\t<td>20.045</td>\n",
       "\t\t<td>age_2</td>\n",
       "\t</tr>\n",
       "\t<tr>\n",
       "\t\t<td>yes</td>\n",
       "\t\t<td>0</td>\n",
       "\t\t<td>female</td>\n",
       "\t\t<td>14711.7438</td>\n",
       "\t\t<td>northwest</td>\n",
       "\t\t<td>376</td>\n",
       "\t\t<td>22.42</td>\n",
       "\t\t<td>age_1</td>\n",
       "\t</tr>\n",
       "\t<tr>\n",
       "\t\t<td>yes</td>\n",
       "\t\t<td>1</td>\n",
       "\t\t<td>female</td>\n",
       "\t\t<td>17085.2676</td>\n",
       "\t\t<td>southeast</td>\n",
       "\t\t<td>392</td>\n",
       "\t\t<td>26.84</td>\n",
       "\t\t<td>age_1</td>\n",
       "\t</tr>\n",
       "\t<tr>\n",
       "\t\t<td>no</td>\n",
       "\t\t<td>0</td>\n",
       "\t\t<td>male</td>\n",
       "\t\t<td>1632.03625</td>\n",
       "\t\t<td>northwest</td>\n",
       "\t\t<td>51</td>\n",
       "\t\t<td>25.175</td>\n",
       "\t\t<td>age_1</td>\n",
       "\t</tr>\n",
       "\t<tr>\n",
       "\t\t<td>no</td>\n",
       "\t\t<td>0</td>\n",
       "\t\t<td>female</td>\n",
       "\t\t<td>1731.677</td>\n",
       "\t\t<td>southwest</td>\n",
       "\t\t<td>83</td>\n",
       "\t\t<td>20.6</td>\n",
       "\t\t<td>age_1</td>\n",
       "\t</tr>\n",
       "\t<tr>\n",
       "\t\t<td>no</td>\n",
       "\t\t<td>1</td>\n",
       "\t\t<td>female</td>\n",
       "\t\t<td>2719.27975</td>\n",
       "\t\t<td>northwest</td>\n",
       "\t\t<td>91</td>\n",
       "\t\t<td>31.825</td>\n",
       "\t\t<td>age_1</td>\n",
       "\t</tr>\n",
       "\t<tr>\n",
       "\t\t<td>no</td>\n",
       "\t\t<td>0</td>\n",
       "\t\t<td>male</td>\n",
       "\t\t<td>1632.56445</td>\n",
       "\t\t<td>northwest</td>\n",
       "\t\t<td>99</td>\n",
       "\t\t<td>25.555</td>\n",
       "\t\t<td>age_1</td>\n",
       "\t</tr>\n",
       "</table></html>"
      ],
      "text/plain": [
       "        children     sex      charges     region   id     bmi    age\n",
       "smoker                                                              \n",
       "yes            3  female  40941.28540  southeast  224  32.560  age_2\n",
       "yes            2  female  21880.82000  northwest  272  24.700  age_2\n",
       "yes            0  female  45863.20500  southeast  280  46.200  age_2\n",
       "yes            2  female  19798.05455  northeast  288  20.045  age_2\n",
       "yes            0  female  14711.74380  northwest  376  22.420  age_1\n",
       "yes            1  female  17085.26760  southeast  392  26.840  age_1\n",
       "no             0    male   1632.03625  northwest   51  25.175  age_1\n",
       "no             0  female   1731.67700  southwest   83  20.600  age_1\n",
       "no             1  female   2719.27975  northwest   91  31.825  age_1\n",
       "no             0    male   1632.56445  northwest   99  25.555  age_1"
      ]
     },
     "metadata": {},
     "output_type": "display_data"
    },
    {
     "name": "stdout",
     "output_type": "stream",
     "text": [
      "No information provided for Variable-Width Transformation.                               \n",
      "Skipping customized string manipulation.⫾⫾⫾⫾⫾⫾⫾⫾⫾⫾⫾⫾⫾⫾⫾⫾⫾⫾⫾⫾⫾⫾⫾⫾⫾⫾⫾⫾⫾⫾⫾⫾⫾⫾⫾⫾⫾｜ 21% - 5/23\n",
      "                                                                                         \r"
     ]
    },
    {
     "data": {
      "text/html": [
       "\n",
       "Starting Customized Categorical Feature Encoding ..."
      ],
      "text/plain": [
       "<IPython.core.display.HTML object>"
      ]
     },
     "metadata": {},
     "output_type": "display_data"
    },
    {
     "name": "stdout",
     "output_type": "stream",
     "text": [
      "result data stored in table '\"AUTOML_USR\".\"ml__td_sqlmr_persist_out__171293842050838\"'/23\n",
      "                                                                                         \r"
     ]
    },
    {
     "data": {
      "text/html": [
       "Updated dataset sample after performing target encoding:"
      ],
      "text/plain": [
       "<IPython.core.display.HTML object>"
      ]
     },
     "metadata": {},
     "output_type": "display_data"
    },
    {
     "data": {
      "text/html": [
       "<style type=\"text/css\">\n",
       "\ttable {border:ridge 5px;}\n",
       "\ttable td {border:inset 1px;}\n",
       "\ttable tr#HeaderRow {background-color:grey; color:white;}</style>\n",
       "<html><table>\n",
       "\t<tr id=\"HeaderRow\">\n",
       "\t\t<th>region</th>\n",
       "\t\t<th>smoker</th>\n",
       "\t\t<th>children</th>\n",
       "\t\t<th>sex</th>\n",
       "\t\t<th>charges</th>\n",
       "\t\t<th>age</th>\n",
       "\t\t<th>id</th>\n",
       "\t\t<th>bmi</th>\n",
       "\t</tr>\n",
       "\t<tr>\n",
       "\t\t<td>12774.780611628787</td>\n",
       "\t\t<td>no</td>\n",
       "\t\t<td>3</td>\n",
       "\t\t<td>female</td>\n",
       "\t\t<td>18838.70366</td>\n",
       "\t\t<td>age_1</td>\n",
       "\t\t<td>155</td>\n",
       "\t\t<td>27.93</td>\n",
       "\t</tr>\n",
       "\t<tr>\n",
       "\t\t<td>12774.780611628787</td>\n",
       "\t\t<td>no</td>\n",
       "\t\t<td>0</td>\n",
       "\t\t<td>male</td>\n",
       "\t\t<td>1628.4709</td>\n",
       "\t\t<td>age_1</td>\n",
       "\t\t<td>235</td>\n",
       "\t\t<td>22.61</td>\n",
       "\t</tr>\n",
       "\t<tr>\n",
       "\t\t<td>12774.780611628787</td>\n",
       "\t\t<td>no</td>\n",
       "\t\t<td>0</td>\n",
       "\t\t<td>male</td>\n",
       "\t\t<td>1646.4297</td>\n",
       "\t\t<td>age_1</td>\n",
       "\t\t<td>251</td>\n",
       "\t\t<td>35.53</td>\n",
       "\t</tr>\n",
       "\t<tr>\n",
       "\t\t<td>12774.780611628787</td>\n",
       "\t\t<td>no</td>\n",
       "\t\t<td>0</td>\n",
       "\t\t<td>female</td>\n",
       "\t\t<td>2117.33885</td>\n",
       "\t\t<td>age_1</td>\n",
       "\t\t<td>275</td>\n",
       "\t\t<td>22.515</td>\n",
       "\t</tr>\n",
       "\t<tr>\n",
       "\t\t<td>12774.780611628787</td>\n",
       "\t\t<td>no</td>\n",
       "\t\t<td>0</td>\n",
       "\t\t<td>male</td>\n",
       "\t\t<td>1621.3402</td>\n",
       "\t\t<td>age_1</td>\n",
       "\t\t<td>291</td>\n",
       "\t\t<td>17.48</td>\n",
       "\t</tr>\n",
       "\t<tr>\n",
       "\t\t<td>12774.780611628787</td>\n",
       "\t\t<td>no</td>\n",
       "\t\t<td>1</td>\n",
       "\t\t<td>female</td>\n",
       "\t\t<td>2709.24395</td>\n",
       "\t\t<td>age_1</td>\n",
       "\t\t<td>307</td>\n",
       "\t\t<td>24.605</td>\n",
       "\t</tr>\n",
       "\t<tr>\n",
       "\t\t<td>12777.709305691702</td>\n",
       "\t\t<td>no</td>\n",
       "\t\t<td>1</td>\n",
       "\t\t<td>male</td>\n",
       "\t\t<td>1837.237</td>\n",
       "\t\t<td>age_1</td>\n",
       "\t\t<td>139</td>\n",
       "\t\t<td>24.6</td>\n",
       "\t</tr>\n",
       "\t<tr>\n",
       "\t\t<td>12777.709305691702</td>\n",
       "\t\t<td>no</td>\n",
       "\t\t<td>0</td>\n",
       "\t\t<td>male</td>\n",
       "\t\t<td>1256.299</td>\n",
       "\t\t<td>age_1</td>\n",
       "\t\t<td>179</td>\n",
       "\t\t<td>30.4</td>\n",
       "\t</tr>\n",
       "\t<tr>\n",
       "\t\t<td>12777.709305691702</td>\n",
       "\t\t<td>no</td>\n",
       "\t\t<td>0</td>\n",
       "\t\t<td>female</td>\n",
       "\t\t<td>1759.338</td>\n",
       "\t\t<td>age_1</td>\n",
       "\t\t<td>187</td>\n",
       "\t\t<td>40.5</td>\n",
       "\t</tr>\n",
       "\t<tr>\n",
       "\t\t<td>12777.709305691702</td>\n",
       "\t\t<td>no</td>\n",
       "\t\t<td>0</td>\n",
       "\t\t<td>female</td>\n",
       "\t\t<td>1748.774</td>\n",
       "\t\t<td>age_1</td>\n",
       "\t\t<td>195</td>\n",
       "\t\t<td>32.9</td>\n",
       "\t</tr>\n",
       "</table></html>"
      ],
      "text/plain": [
       "             smoker  children     sex      charges    age   id     bmi\n",
       "region                                                                \n",
       "12774.780612     no         3  female  18838.70366  age_1  155  27.930\n",
       "12774.780612     no         0    male   1628.47090  age_1  235  22.610\n",
       "12774.780612     no         0    male   1646.42970  age_1  251  35.530\n",
       "12774.780612     no         0  female   2117.33885  age_1  275  22.515\n",
       "12774.780612     no         0    male   1621.34020  age_1  291  17.480\n",
       "12774.780612     no         1  female   2709.24395  age_1  307  24.605\n",
       "12777.709306     no         1    male   1837.23700  age_1  139  24.600\n",
       "12777.709306     no         0    male   1256.29900  age_1  179  30.400\n",
       "12777.709306     no         0  female   1759.33800  age_1  187  40.500\n",
       "12777.709306     no         0  female   1748.77400  age_1  195  32.900"
      ]
     },
     "metadata": {},
     "output_type": "display_data"
    },
    {
     "name": "stdout",
     "output_type": "stream",
     "text": [
      "                                                                                         \r"
     ]
    },
    {
     "data": {
      "text/html": [
       "\n",
       "Performing encoding for categorical columns ..."
      ],
      "text/plain": [
       "<IPython.core.display.HTML object>"
      ]
     },
     "metadata": {},
     "output_type": "display_data"
    },
    {
     "name": "stdout",
     "output_type": "stream",
     "text": [
      "result data stored in table '\"AUTOML_USR\".\"ml__td_sqlmr_persist_out__171293835304755\"'/23\n",
      "                                                                                         \r"
     ]
    },
    {
     "data": {
      "text/html": [
       "ONE HOT Encoding these Columns:"
      ],
      "text/plain": [
       "<IPython.core.display.HTML object>"
      ]
     },
     "metadata": {},
     "output_type": "display_data"
    },
    {
     "name": "stdout",
     "output_type": "stream",
     "text": [
      "['smoker', 'sex', 'age']\n",
      "                                                                                         \r"
     ]
    },
    {
     "data": {
      "text/html": [
       "Time taken to encode the columns: 12.06 sec"
      ],
      "text/plain": [
       "<IPython.core.display.HTML object>"
      ]
     },
     "metadata": {},
     "output_type": "display_data"
    },
    {
     "name": "stdout",
     "output_type": "stream",
     "text": [
      "                                                                                         \r"
     ]
    },
    {
     "data": {
      "text/html": [
       "\n",
       "Starting customized mathematical transformation ..."
      ],
      "text/plain": [
       "<IPython.core.display.HTML object>"
      ]
     },
     "metadata": {},
     "output_type": "display_data"
    },
    {
     "name": "stdout",
     "output_type": "stream",
     "text": [
      "Skipping customized mathematical transformation.                                         \n",
      "                                                                                         \r"
     ]
    },
    {
     "data": {
      "text/html": [
       "\n",
       "Starting customized non-linear transformation ..."
      ],
      "text/plain": [
       "<IPython.core.display.HTML object>"
      ]
     },
     "metadata": {},
     "output_type": "display_data"
    },
    {
     "name": "stdout",
     "output_type": "stream",
     "text": [
      "Skipping customized non-linear transformation.                                           \n",
      "                                                                                         \r"
     ]
    },
    {
     "data": {
      "text/html": [
       "\n",
       "Starting customized anti-select columns ..."
      ],
      "text/plain": [
       "<IPython.core.display.HTML object>"
      ]
     },
     "metadata": {},
     "output_type": "display_data"
    },
    {
     "name": "stdout",
     "output_type": "stream",
     "text": [
      "Skipping customized anti-select columns.                                                 \n",
      "                                                                                          \r"
     ]
    },
    {
     "data": {
      "text/html": [
       "\n",
       "            <style>\n",
       "                .custom-div {\n",
       "                    background-color: lightgray;\n",
       "                    color: #000000;\n",
       "                    padding: 10px;\n",
       "                    border-radius: 8px;\n",
       "                    box-shadow: 0 3px 4px rgba(0 -  0 -  0 -  0.2);\n",
       "                    margin-bottom: 10px;\n",
       "                    text-align: center;\n",
       "                }\n",
       "            </style>\n",
       "        <br><div class=\"custom-div\"><h3><span style=\"color: green;\">1. Feature Exploration -> 2. Feature Engineering -></span> 3. Data Preparation -> 4. Model Training & Evaluation<center></h3></center></div>"
      ],
      "text/plain": [
       "<IPython.core.display.HTML object>"
      ]
     },
     "metadata": {},
     "output_type": "display_data"
    },
    {
     "name": "stdout",
     "output_type": "stream",
     "text": [
      "                                                                                          \r"
     ]
    },
    {
     "data": {
      "text/html": [
       "Data preparation started ..."
      ],
      "text/plain": [
       "<IPython.core.display.HTML object>"
      ]
     },
     "metadata": {},
     "output_type": "display_data"
    },
    {
     "name": "stdout",
     "output_type": "stream",
     "text": [
      "                                                                                          \r"
     ]
    },
    {
     "data": {
      "text/html": [
       "\n",
       "Spliting of dataset into training and testing ..."
      ],
      "text/plain": [
       "<IPython.core.display.HTML object>"
      ]
     },
     "metadata": {},
     "output_type": "display_data"
    },
    {
     "name": "stdout",
     "output_type": "stream",
     "text": [
      "Training size : 0.9                                                                       \n",
      "Testing size  : 0.1                                                                       \n",
      "                                                                                          \r"
     ]
    },
    {
     "data": {
      "text/html": [
       "Training data sample"
      ],
      "text/plain": [
       "<IPython.core.display.HTML object>"
      ]
     },
     "metadata": {},
     "output_type": "display_data"
    },
    {
     "data": {
      "text/html": [
       "<style type=\"text/css\">\n",
       "\ttable {border:ridge 5px;}\n",
       "\ttable td {border:inset 1px;}\n",
       "\ttable tr#HeaderRow {background-color:grey; color:white;}</style>\n",
       "<html><table>\n",
       "\t<tr id=\"HeaderRow\">\n",
       "\t\t<th>region</th>\n",
       "\t\t<th>smoker_0</th>\n",
       "\t\t<th>smoker_1</th>\n",
       "\t\t<th>children</th>\n",
       "\t\t<th>sex_0</th>\n",
       "\t\t<th>sex_1</th>\n",
       "\t\t<th>charges</th>\n",
       "\t\t<th>age_0</th>\n",
       "\t\t<th>age_1</th>\n",
       "\t\t<th>age_2</th>\n",
       "\t\t<th>id</th>\n",
       "\t\t<th>bmi</th>\n",
       "\t</tr>\n",
       "\t<tr>\n",
       "\t\t<td>13534.89941829259</td>\n",
       "\t\t<td>1</td>\n",
       "\t\t<td>0</td>\n",
       "\t\t<td>2</td>\n",
       "\t\t<td>1</td>\n",
       "\t\t<td>0</td>\n",
       "\t\t<td>7133.9025</td>\n",
       "\t\t<td>0</td>\n",
       "\t\t<td>1</td>\n",
       "\t\t<td>0</td>\n",
       "\t\t<td>28</td>\n",
       "\t\t<td>19.95</td>\n",
       "\t</tr>\n",
       "\t<tr>\n",
       "\t\t<td>13534.89941829259</td>\n",
       "\t\t<td>1</td>\n",
       "\t\t<td>0</td>\n",
       "\t\t<td>3</td>\n",
       "\t\t<td>1</td>\n",
       "\t\t<td>0</td>\n",
       "\t\t<td>6753.038</td>\n",
       "\t\t<td>0</td>\n",
       "\t\t<td>1</td>\n",
       "\t\t<td>0</td>\n",
       "\t\t<td>33</td>\n",
       "\t\t<td>19.0</td>\n",
       "\t</tr>\n",
       "\t<tr>\n",
       "\t\t<td>13534.89941829259</td>\n",
       "\t\t<td>1</td>\n",
       "\t\t<td>0</td>\n",
       "\t\t<td>0</td>\n",
       "\t\t<td>1</td>\n",
       "\t\t<td>0</td>\n",
       "\t\t<td>13616.3586</td>\n",
       "\t\t<td>0</td>\n",
       "\t\t<td>0</td>\n",
       "\t\t<td>1</td>\n",
       "\t\t<td>38</td>\n",
       "\t\t<td>22.04</td>\n",
       "\t</tr>\n",
       "\t<tr>\n",
       "\t\t<td>13534.89941829259</td>\n",
       "\t\t<td>1</td>\n",
       "\t\t<td>0</td>\n",
       "\t\t<td>4</td>\n",
       "\t\t<td>1</td>\n",
       "\t\t<td>0</td>\n",
       "\t\t<td>24671.66334</td>\n",
       "\t\t<td>1</td>\n",
       "\t\t<td>0</td>\n",
       "\t\t<td>0</td>\n",
       "\t\t<td>40</td>\n",
       "\t\t<td>29.64</td>\n",
       "\t</tr>\n",
       "\t<tr>\n",
       "\t\t<td>13534.89941829259</td>\n",
       "\t\t<td>0</td>\n",
       "\t\t<td>1</td>\n",
       "\t\t<td>1</td>\n",
       "\t\t<td>1</td>\n",
       "\t\t<td>0</td>\n",
       "\t\t<td>48517.56315</td>\n",
       "\t\t<td>0</td>\n",
       "\t\t<td>0</td>\n",
       "\t\t<td>1</td>\n",
       "\t\t<td>46</td>\n",
       "\t\t<td>36.385</td>\n",
       "\t</tr>\n",
       "\t<tr>\n",
       "\t\t<td>13534.89941829259</td>\n",
       "\t\t<td>1</td>\n",
       "\t\t<td>0</td>\n",
       "\t\t<td>2</td>\n",
       "\t\t<td>1</td>\n",
       "\t\t<td>0</td>\n",
       "\t\t<td>7144.86265</td>\n",
       "\t\t<td>0</td>\n",
       "\t\t<td>1</td>\n",
       "\t\t<td>0</td>\n",
       "\t\t<td>52</td>\n",
       "\t\t<td>27.835</td>\n",
       "\t</tr>\n",
       "\t<tr>\n",
       "\t\t<td>12777.709305691702</td>\n",
       "\t\t<td>1</td>\n",
       "\t\t<td>0</td>\n",
       "\t\t<td>2</td>\n",
       "\t\t<td>0</td>\n",
       "\t\t<td>1</td>\n",
       "\t\t<td>3484.331</td>\n",
       "\t\t<td>1</td>\n",
       "\t\t<td>0</td>\n",
       "\t\t<td>0</td>\n",
       "\t\t<td>8</td>\n",
       "\t\t<td>23.7</td>\n",
       "\t</tr>\n",
       "\t<tr>\n",
       "\t\t<td>12777.709305691702</td>\n",
       "\t\t<td>1</td>\n",
       "\t\t<td>0</td>\n",
       "\t\t<td>1</td>\n",
       "\t\t<td>1</td>\n",
       "\t\t<td>0</td>\n",
       "\t\t<td>6496.886</td>\n",
       "\t\t<td>0</td>\n",
       "\t\t<td>1</td>\n",
       "\t\t<td>0</td>\n",
       "\t\t<td>10</td>\n",
       "\t\t<td>27.4</td>\n",
       "\t</tr>\n",
       "\t<tr>\n",
       "\t\t<td>12777.709305691702</td>\n",
       "\t\t<td>0</td>\n",
       "\t\t<td>1</td>\n",
       "\t\t<td>0</td>\n",
       "\t\t<td>0</td>\n",
       "\t\t<td>1</td>\n",
       "\t\t<td>35491.64</td>\n",
       "\t\t<td>0</td>\n",
       "\t\t<td>1</td>\n",
       "\t\t<td>0</td>\n",
       "\t\t<td>25</td>\n",
       "\t\t<td>30.8</td>\n",
       "\t</tr>\n",
       "\t<tr>\n",
       "\t\t<td>12777.709305691702</td>\n",
       "\t\t<td>1</td>\n",
       "\t\t<td>0</td>\n",
       "\t\t<td>0</td>\n",
       "\t\t<td>0</td>\n",
       "\t\t<td>1</td>\n",
       "\t\t<td>1263.249</td>\n",
       "\t\t<td>1</td>\n",
       "\t\t<td>0</td>\n",
       "\t\t<td>0</td>\n",
       "\t\t<td>27</td>\n",
       "\t\t<td>35.4</td>\n",
       "\t</tr>\n",
       "</table></html>"
      ],
      "text/plain": [
       "         region  smoker_0  smoker_1  children  sex_0  sex_1      charges  age_0  age_1  age_2  id     bmi\n",
       "0  13534.899418         1         0         2      1      0   7133.90250      0      1      0  28  19.950\n",
       "1  13534.899418         1         0         3      1      0   6753.03800      0      1      0  33  19.000\n",
       "2  13534.899418         1         0         0      1      0  13616.35860      0      0      1  38  22.040\n",
       "3  13534.899418         1         0         4      1      0  24671.66334      1      0      0  40  29.640\n",
       "4  13534.899418         0         1         1      1      0  48517.56315      0      0      1  46  36.385\n",
       "5  13534.899418         1         0         2      1      0   7144.86265      0      1      0  52  27.835\n",
       "6  12777.709306         1         0         2      0      1   3484.33100      1      0      0   8  23.700\n",
       "7  12777.709306         1         0         1      1      0   6496.88600      0      1      0  10  27.400\n",
       "8  12777.709306         0         1         0      0      1  35491.64000      0      1      0  25  30.800\n",
       "9  12777.709306         1         0         0      0      1   1263.24900      1      0      0  27  35.400"
      ]
     },
     "metadata": {},
     "output_type": "display_data"
    },
    {
     "name": "stdout",
     "output_type": "stream",
     "text": [
      "                                                                                          \r"
     ]
    },
    {
     "data": {
      "text/html": [
       "Testing data sample"
      ],
      "text/plain": [
       "<IPython.core.display.HTML object>"
      ]
     },
     "metadata": {},
     "output_type": "display_data"
    },
    {
     "data": {
      "text/html": [
       "<style type=\"text/css\">\n",
       "\ttable {border:ridge 5px;}\n",
       "\ttable td {border:inset 1px;}\n",
       "\ttable tr#HeaderRow {background-color:grey; color:white;}</style>\n",
       "<html><table>\n",
       "\t<tr id=\"HeaderRow\">\n",
       "\t\t<th>region</th>\n",
       "\t\t<th>smoker_0</th>\n",
       "\t\t<th>smoker_1</th>\n",
       "\t\t<th>children</th>\n",
       "\t\t<th>sex_0</th>\n",
       "\t\t<th>sex_1</th>\n",
       "\t\t<th>charges</th>\n",
       "\t\t<th>age_0</th>\n",
       "\t\t<th>age_1</th>\n",
       "\t\t<th>age_2</th>\n",
       "\t\t<th>id</th>\n",
       "\t\t<th>bmi</th>\n",
       "\t</tr>\n",
       "\t<tr>\n",
       "\t\t<td>13534.89941829259</td>\n",
       "\t\t<td>1</td>\n",
       "\t\t<td>0</td>\n",
       "\t\t<td>1</td>\n",
       "\t\t<td>0</td>\n",
       "\t\t<td>1</td>\n",
       "\t\t<td>6600.20595</td>\n",
       "\t\t<td>0</td>\n",
       "\t\t<td>1</td>\n",
       "\t\t<td>0</td>\n",
       "\t\t<td>114</td>\n",
       "\t\t<td>34.105</td>\n",
       "\t</tr>\n",
       "\t<tr>\n",
       "\t\t<td>13534.89941829259</td>\n",
       "\t\t<td>1</td>\n",
       "\t\t<td>0</td>\n",
       "\t\t<td>0</td>\n",
       "\t\t<td>0</td>\n",
       "\t\t<td>1</td>\n",
       "\t\t<td>10796.35025</td>\n",
       "\t\t<td>0</td>\n",
       "\t\t<td>0</td>\n",
       "\t\t<td>1</td>\n",
       "\t\t<td>220</td>\n",
       "\t\t<td>28.975</td>\n",
       "\t</tr>\n",
       "\t<tr>\n",
       "\t\t<td>13534.89941829259</td>\n",
       "\t\t<td>1</td>\n",
       "\t\t<td>0</td>\n",
       "\t\t<td>1</td>\n",
       "\t\t<td>0</td>\n",
       "\t\t<td>1</td>\n",
       "\t\t<td>9964.06</td>\n",
       "\t\t<td>0</td>\n",
       "\t\t<td>0</td>\n",
       "\t\t<td>1</td>\n",
       "\t\t<td>263</td>\n",
       "\t\t<td>32.3</td>\n",
       "\t</tr>\n",
       "\t<tr>\n",
       "\t\t<td>13534.89941829259</td>\n",
       "\t\t<td>1</td>\n",
       "\t\t<td>0</td>\n",
       "\t\t<td>1</td>\n",
       "\t\t<td>1</td>\n",
       "\t\t<td>0</td>\n",
       "\t\t<td>23288.9284</td>\n",
       "\t\t<td>1</td>\n",
       "\t\t<td>0</td>\n",
       "\t\t<td>0</td>\n",
       "\t\t<td>318</td>\n",
       "\t\t<td>24.32</td>\n",
       "\t</tr>\n",
       "\t<tr>\n",
       "\t\t<td>13534.89941829259</td>\n",
       "\t\t<td>1</td>\n",
       "\t\t<td>0</td>\n",
       "\t\t<td>1</td>\n",
       "\t\t<td>1</td>\n",
       "\t\t<td>0</td>\n",
       "\t\t<td>13725.47184</td>\n",
       "\t\t<td>0</td>\n",
       "\t\t<td>1</td>\n",
       "\t\t<td>0</td>\n",
       "\t\t<td>325</td>\n",
       "\t\t<td>21.755</td>\n",
       "\t</tr>\n",
       "\t<tr>\n",
       "\t\t<td>13534.89941829259</td>\n",
       "\t\t<td>1</td>\n",
       "\t\t<td>0</td>\n",
       "\t\t<td>0</td>\n",
       "\t\t<td>1</td>\n",
       "\t\t<td>0</td>\n",
       "\t\t<td>2459.7201</td>\n",
       "\t\t<td>1</td>\n",
       "\t\t<td>0</td>\n",
       "\t\t<td>0</td>\n",
       "\t\t<td>432</td>\n",
       "\t\t<td>30.59</td>\n",
       "\t</tr>\n",
       "\t<tr>\n",
       "\t\t<td>12774.780611628787</td>\n",
       "\t\t<td>1</td>\n",
       "\t\t<td>0</td>\n",
       "\t\t<td>0</td>\n",
       "\t\t<td>1</td>\n",
       "\t\t<td>0</td>\n",
       "\t\t<td>3201.24515</td>\n",
       "\t\t<td>1</td>\n",
       "\t\t<td>0</td>\n",
       "\t\t<td>0</td>\n",
       "\t\t<td>16</td>\n",
       "\t\t<td>40.185</td>\n",
       "\t</tr>\n",
       "\t<tr>\n",
       "\t\t<td>12774.780611628787</td>\n",
       "\t\t<td>1</td>\n",
       "\t\t<td>0</td>\n",
       "\t\t<td>0</td>\n",
       "\t\t<td>0</td>\n",
       "\t\t<td>1</td>\n",
       "\t\t<td>1632.56445</td>\n",
       "\t\t<td>1</td>\n",
       "\t\t<td>0</td>\n",
       "\t\t<td>0</td>\n",
       "\t\t<td>99</td>\n",
       "\t\t<td>25.555</td>\n",
       "\t</tr>\n",
       "\t<tr>\n",
       "\t\t<td>12774.780611628787</td>\n",
       "\t\t<td>1</td>\n",
       "\t\t<td>0</td>\n",
       "\t\t<td>0</td>\n",
       "\t\t<td>1</td>\n",
       "\t\t<td>0</td>\n",
       "\t\t<td>2128.43105</td>\n",
       "\t\t<td>1</td>\n",
       "\t\t<td>0</td>\n",
       "\t\t<td>0</td>\n",
       "\t\t<td>107</td>\n",
       "\t\t<td>30.495</td>\n",
       "\t</tr>\n",
       "\t<tr>\n",
       "\t\t<td>12774.780611628787</td>\n",
       "\t\t<td>1</td>\n",
       "\t\t<td>0</td>\n",
       "\t\t<td>0</td>\n",
       "\t\t<td>1</td>\n",
       "\t\t<td>0</td>\n",
       "\t\t<td>8988.15875</td>\n",
       "\t\t<td>0</td>\n",
       "\t\t<td>0</td>\n",
       "\t\t<td>1</td>\n",
       "\t\t<td>117</td>\n",
       "\t\t<td>29.925</td>\n",
       "\t</tr>\n",
       "</table></html>"
      ],
      "text/plain": [
       "         region  smoker_0  smoker_1  children  sex_0  sex_1      charges  age_0  age_1  age_2   id     bmi\n",
       "0  13534.899418         1         0         1      0      1   6600.20595      0      1      0  114  34.105\n",
       "1  13534.899418         1         0         0      0      1  10796.35025      0      0      1  220  28.975\n",
       "2  13534.899418         1         0         1      0      1   9964.06000      0      0      1  263  32.300\n",
       "3  13534.899418         1         0         1      1      0  23288.92840      1      0      0  318  24.320\n",
       "4  13534.899418         1         0         1      1      0  13725.47184      0      1      0  325  21.755\n",
       "5  13534.899418         1         0         0      1      0   2459.72010      1      0      0  432  30.590\n",
       "6  12774.780612         1         0         0      1      0   3201.24515      1      0      0   16  40.185\n",
       "7  12774.780612         1         0         0      0      1   1632.56445      1      0      0   99  25.555\n",
       "8  12774.780612         1         0         0      1      0   2128.43105      1      0      0  107  30.495\n",
       "9  12774.780612         1         0         0      1      0   8988.15875      0      0      1  117  29.925"
      ]
     },
     "metadata": {},
     "output_type": "display_data"
    },
    {
     "name": "stdout",
     "output_type": "stream",
     "text": [
      "                                                                                          \r"
     ]
    },
    {
     "data": {
      "text/html": [
       "Time taken for spliting of data: 11.13 sec  "
      ],
      "text/plain": [
       "<IPython.core.display.HTML object>"
      ]
     },
     "metadata": {},
     "output_type": "display_data"
    },
    {
     "name": "stdout",
     "output_type": "stream",
     "text": [
      "                                                                                          \r"
     ]
    },
    {
     "data": {
      "text/html": [
       "\n",
       "Starting customized outlier processing ..."
      ],
      "text/plain": [
       "<IPython.core.display.HTML object>"
      ]
     },
     "metadata": {},
     "output_type": "display_data"
    },
    {
     "name": "stdout",
     "output_type": "stream",
     "text": [
      "No information provided for customized outlier processing. AutoML will proceed with default settings.\n",
      "                                                                                          \r"
     ]
    },
    {
     "data": {
      "text/html": [
       "\n",
       "Outlier preprocessing ..."
      ],
      "text/plain": [
       "<IPython.core.display.HTML object>"
      ]
     },
     "metadata": {},
     "output_type": "display_data"
    },
    {
     "name": "stdout",
     "output_type": "stream",
     "text": [
      "Columns with outlier percentage :-                                                                                                                                                                                                                                                                                                                                                                                                                                                                                  \n",
      "  ColumnName  OutlierPercentage\n",
      "0        bmi           0.841121\n",
      "1    charges           9.439252\n",
      "                                                                                          \r"
     ]
    },
    {
     "data": {
      "text/html": [
       "Deleting rows of these columns:"
      ],
      "text/plain": [
       "<IPython.core.display.HTML object>"
      ]
     },
     "metadata": {},
     "output_type": "display_data"
    },
    {
     "name": "stdout",
     "output_type": "stream",
     "text": [
      "['bmi']\n",
      "result data stored in table '\"AUTOML_USR\".\"ml__td_sqlmr_persist_out__171285337238905\"'1/23\n",
      "                                                                                          \r"
     ]
    },
    {
     "data": {
      "text/html": [
       "Time Taken by Outlier processing: 35.77 sec "
      ],
      "text/plain": [
       "<IPython.core.display.HTML object>"
      ]
     },
     "metadata": {},
     "output_type": "display_data"
    },
    {
     "name": "stdout",
     "output_type": "stream",
     "text": [
      "result data stored in table '\"AUTOML_USR\".\"ml__td_sqlmr_persist_out__171285894787725\"'2/23\n",
      "result data stored in table '\"AUTOML_USR\".\"ml__td_sqlmr_persist_out__171286071711654\"'\n",
      "                                                                                          \r"
     ]
    },
    {
     "data": {
      "text/html": [
       "\n",
       "Feature selection using lasso ..."
      ],
      "text/plain": [
       "<IPython.core.display.HTML object>"
      ]
     },
     "metadata": {},
     "output_type": "display_data"
    },
    {
     "name": "stdout",
     "output_type": "stream",
     "text": [
      "                                                                                          \r"
     ]
    },
    {
     "data": {
      "text/html": [
       "feature selected by lasso:"
      ],
      "text/plain": [
       "<IPython.core.display.HTML object>"
      ]
     },
     "metadata": {},
     "output_type": "display_data"
    },
    {
     "name": "stdout",
     "output_type": "stream",
     "text": [
      "['children', 'sex_0', 'smoker_1', 'age_0', 'smoker_0', 'age_2', 'sex_1', 'region', 'bmi']\n",
      "                                                                                          \r"
     ]
    },
    {
     "data": {
      "text/html": [
       "Total time taken by feature selection: 0.91 sec  "
      ],
      "text/plain": [
       "<IPython.core.display.HTML object>"
      ]
     },
     "metadata": {},
     "output_type": "display_data"
    },
    {
     "name": "stdout",
     "output_type": "stream",
     "text": [
      "                                                                                          \r"
     ]
    },
    {
     "data": {
      "text/html": [
       "\n",
       "scaling Features of lasso data ..."
      ],
      "text/plain": [
       "<IPython.core.display.HTML object>"
      ]
     },
     "metadata": {},
     "output_type": "display_data"
    },
    {
     "name": "stdout",
     "output_type": "stream",
     "text": [
      "                                                                                          \r"
     ]
    },
    {
     "data": {
      "text/html": [
       "columns that will be scaled: "
      ],
      "text/plain": [
       "<IPython.core.display.HTML object>"
      ]
     },
     "metadata": {},
     "output_type": "display_data"
    },
    {
     "name": "stdout",
     "output_type": "stream",
     "text": [
      "['children', 'region', 'bmi']\n",
      "                                                                                          \r"
     ]
    },
    {
     "data": {
      "text/html": [
       "Training dataset sample after scaling:"
      ],
      "text/plain": [
       "<IPython.core.display.HTML object>"
      ]
     },
     "metadata": {},
     "output_type": "display_data"
    },
    {
     "data": {
      "text/html": [
       "<style type=\"text/css\">\n",
       "\ttable {border:ridge 5px;}\n",
       "\ttable td {border:inset 1px;}\n",
       "\ttable tr#HeaderRow {background-color:grey; color:white;}</style>\n",
       "<html><table>\n",
       "\t<tr id=\"HeaderRow\">\n",
       "\t\t<th>charges</th>\n",
       "\t\t<th>sex_0</th>\n",
       "\t\t<th>age_0</th>\n",
       "\t\t<th>age_2</th>\n",
       "\t\t<th>smoker_0</th>\n",
       "\t\t<th>smoker_1</th>\n",
       "\t\t<th>id</th>\n",
       "\t\t<th>sex_1</th>\n",
       "\t\t<th>children</th>\n",
       "\t\t<th>region</th>\n",
       "\t\t<th>bmi</th>\n",
       "\t</tr>\n",
       "\t<tr>\n",
       "\t\t<td>7682.67</td>\n",
       "\t\t<td>1</td>\n",
       "\t\t<td>0</td>\n",
       "\t\t<td>0</td>\n",
       "\t\t<td>1</td>\n",
       "\t\t<td>0</td>\n",
       "\t\t<td>58</td>\n",
       "\t\t<td>0</td>\n",
       "\t\t<td>0.2</td>\n",
       "\t\t<td>0.9999999999999989</td>\n",
       "\t\t<td>0.11481844946025509</td>\n",
       "\t</tr>\n",
       "\t<tr>\n",
       "\t\t<td>9788.8659</td>\n",
       "\t\t<td>0</td>\n",
       "\t\t<td>0</td>\n",
       "\t\t<td>0</td>\n",
       "\t\t<td>1</td>\n",
       "\t\t<td>0</td>\n",
       "\t\t<td>1267</td>\n",
       "\t\t<td>1</td>\n",
       "\t\t<td>1.0</td>\n",
       "\t\t<td>0.9999999999999989</td>\n",
       "\t\t<td>-0.4537127903173047</td>\n",
       "\t</tr>\n",
       "\t<tr>\n",
       "\t\t<td>24671.6633</td>\n",
       "\t\t<td>1</td>\n",
       "\t\t<td>1</td>\n",
       "\t\t<td>0</td>\n",
       "\t\t<td>1</td>\n",
       "\t\t<td>0</td>\n",
       "\t\t<td>40</td>\n",
       "\t\t<td>0</td>\n",
       "\t\t<td>0.6</td>\n",
       "\t\t<td>-0.10786382566487175</td>\n",
       "\t\t<td>-0.10500490677134448</td>\n",
       "\t</tr>\n",
       "\t<tr>\n",
       "\t\t<td>42124.5153</td>\n",
       "\t\t<td>0</td>\n",
       "\t\t<td>0</td>\n",
       "\t\t<td>0</td>\n",
       "\t\t<td>0</td>\n",
       "\t\t<td>1</td>\n",
       "\t\t<td>184</td>\n",
       "\t\t<td>1</td>\n",
       "\t\t<td>0.2</td>\n",
       "\t\t<td>0.9999999999999989</td>\n",
       "\t\t<td>0.3091265947006868</td>\n",
       "\t</tr>\n",
       "\t<tr>\n",
       "\t\t<td>6653.7886</td>\n",
       "\t\t<td>0</td>\n",
       "\t\t<td>1</td>\n",
       "\t\t<td>0</td>\n",
       "\t\t<td>1</td>\n",
       "\t\t<td>0</td>\n",
       "\t\t<td>441</td>\n",
       "\t\t<td>1</td>\n",
       "\t\t<td>1.0</td>\n",
       "\t\t<td>0.9999999999999989</td>\n",
       "\t\t<td>0.1436048413477263</td>\n",
       "\t</tr>\n",
       "\t<tr>\n",
       "\t\t<td>14394.3982</td>\n",
       "\t\t<td>1</td>\n",
       "\t\t<td>0</td>\n",
       "\t\t<td>1</td>\n",
       "\t\t<td>1</td>\n",
       "\t\t<td>0</td>\n",
       "\t\t<td>290</td>\n",
       "\t\t<td>0</td>\n",
       "\t\t<td>0.6</td>\n",
       "\t\t<td>-0.10786382566487175</td>\n",
       "\t\t<td>-0.16094210009813548</td>\n",
       "\t</tr>\n",
       "\t<tr>\n",
       "\t\t<td>2699.5684</td>\n",
       "\t\t<td>0</td>\n",
       "\t\t<td>1</td>\n",
       "\t\t<td>0</td>\n",
       "\t\t<td>1</td>\n",
       "\t\t<td>0</td>\n",
       "\t\t<td>72</td>\n",
       "\t\t<td>1</td>\n",
       "\t\t<td>-1.0</td>\n",
       "\t\t<td>-1.000000000000001</td>\n",
       "\t\t<td>-0.011776251226692817</td>\n",
       "\t</tr>\n",
       "\t<tr>\n",
       "\t\t<td>1632.0363</td>\n",
       "\t\t<td>0</td>\n",
       "\t\t<td>1</td>\n",
       "\t\t<td>0</td>\n",
       "\t\t<td>1</td>\n",
       "\t\t<td>0</td>\n",
       "\t\t<td>51</td>\n",
       "\t\t<td>1</td>\n",
       "\t\t<td>-1.0</td>\n",
       "\t\t<td>-1.000000000000001</td>\n",
       "\t\t<td>-0.3971213608112529</td>\n",
       "\t</tr>\n",
       "\t<tr>\n",
       "\t\t<td>4504.6624</td>\n",
       "\t\t<td>0</td>\n",
       "\t\t<td>1</td>\n",
       "\t\t<td>0</td>\n",
       "\t\t<td>1</td>\n",
       "\t\t<td>0</td>\n",
       "\t\t<td>1320</td>\n",
       "\t\t<td>1</td>\n",
       "\t\t<td>0.6</td>\n",
       "\t\t<td>0.9999999999999989</td>\n",
       "\t\t<td>0.15799803729146192</td>\n",
       "\t</tr>\n",
       "\t<tr>\n",
       "\t\t<td>6799.458</td>\n",
       "\t\t<td>0</td>\n",
       "\t\t<td>1</td>\n",
       "\t\t<td>0</td>\n",
       "\t\t<td>1</td>\n",
       "\t\t<td>0</td>\n",
       "\t\t<td>998</td>\n",
       "\t\t<td>1</td>\n",
       "\t\t<td>1.0</td>\n",
       "\t\t<td>-0.10786382566487175</td>\n",
       "\t\t<td>-0.1795878312070658</td>\n",
       "\t</tr>\n",
       "</table></html>"
      ],
      "text/plain": [
       "      charges  sex_0  age_0  age_2  smoker_0  smoker_1    id  sex_1  children    region       bmi\n",
       "0   7682.6700      1      0      0         1         0    58      0       0.2  1.000000  0.114818\n",
       "1   9788.8659      0      0      0         1         0  1267      1       1.0  1.000000 -0.453713\n",
       "2  24671.6633      1      1      0         1         0    40      0       0.6 -0.107864 -0.105005\n",
       "3  42124.5153      0      0      0         0         1   184      1       0.2  1.000000  0.309127\n",
       "4   6653.7886      0      1      0         1         0   441      1       1.0  1.000000  0.143605\n",
       "5  14394.3982      1      0      1         1         0   290      0       0.6 -0.107864 -0.160942\n",
       "6   2699.5684      0      1      0         1         0    72      1      -1.0 -1.000000 -0.011776\n",
       "7   1632.0363      0      1      0         1         0    51      1      -1.0 -1.000000 -0.397121\n",
       "8   4504.6624      0      1      0         1         0  1320      1       0.6  1.000000  0.157998\n",
       "9   6799.4580      0      1      0         1         0   998      1       1.0 -0.107864 -0.179588"
      ]
     },
     "metadata": {},
     "output_type": "display_data"
    },
    {
     "name": "stdout",
     "output_type": "stream",
     "text": [
      "                                                                                          \r"
     ]
    },
    {
     "data": {
      "text/html": [
       "Testing dataset sample after scaling:"
      ],
      "text/plain": [
       "<IPython.core.display.HTML object>"
      ]
     },
     "metadata": {},
     "output_type": "display_data"
    },
    {
     "data": {
      "text/html": [
       "<style type=\"text/css\">\n",
       "\ttable {border:ridge 5px;}\n",
       "\ttable td {border:inset 1px;}\n",
       "\ttable tr#HeaderRow {background-color:grey; color:white;}</style>\n",
       "<html><table>\n",
       "\t<tr id=\"HeaderRow\">\n",
       "\t\t<th>charges</th>\n",
       "\t\t<th>sex_0</th>\n",
       "\t\t<th>age_0</th>\n",
       "\t\t<th>age_2</th>\n",
       "\t\t<th>smoker_0</th>\n",
       "\t\t<th>smoker_1</th>\n",
       "\t\t<th>id</th>\n",
       "\t\t<th>sex_1</th>\n",
       "\t\t<th>children</th>\n",
       "\t\t<th>region</th>\n",
       "\t\t<th>bmi</th>\n",
       "\t</tr>\n",
       "\t<tr>\n",
       "\t\t<td>11411.685</td>\n",
       "\t\t<td>1</td>\n",
       "\t\t<td>0</td>\n",
       "\t\t<td>1</td>\n",
       "\t\t<td>1</td>\n",
       "\t\t<td>0</td>\n",
       "\t\t<td>1130</td>\n",
       "\t\t<td>0</td>\n",
       "\t\t<td>0.2</td>\n",
       "\t\t<td>-0.9965626436107424</td>\n",
       "\t\t<td>0.8802747791952896</td>\n",
       "\t</tr>\n",
       "\t<tr>\n",
       "\t\t<td>6666.243</td>\n",
       "\t\t<td>0</td>\n",
       "\t\t<td>1</td>\n",
       "\t\t<td>0</td>\n",
       "\t\t<td>1</td>\n",
       "\t\t<td>0</td>\n",
       "\t\t<td>385</td>\n",
       "\t\t<td>1</td>\n",
       "\t\t<td>1.0</td>\n",
       "\t\t<td>-0.9965626436107424</td>\n",
       "\t\t<td>0.7298004579653253</td>\n",
       "\t</tr>\n",
       "\t<tr>\n",
       "\t\t<td>11033.6617</td>\n",
       "\t\t<td>1</td>\n",
       "\t\t<td>0</td>\n",
       "\t\t<td>0</td>\n",
       "\t\t<td>1</td>\n",
       "\t\t<td>0</td>\n",
       "\t\t<td>741</td>\n",
       "\t\t<td>0</td>\n",
       "\t\t<td>0.6</td>\n",
       "\t\t<td>-1.000000000000001</td>\n",
       "\t\t<td>0.6532548249918217</td>\n",
       "\t</tr>\n",
       "\t<tr>\n",
       "\t\t<td>6548.1951</td>\n",
       "\t\t<td>0</td>\n",
       "\t\t<td>0</td>\n",
       "\t\t<td>0</td>\n",
       "\t\t<td>1</td>\n",
       "\t\t<td>0</td>\n",
       "\t\t<td>198</td>\n",
       "\t\t<td>1</td>\n",
       "\t\t<td>0.2</td>\n",
       "\t\t<td>-1.000000000000001</td>\n",
       "\t\t<td>-0.17337258750408913</td>\n",
       "\t</tr>\n",
       "\t<tr>\n",
       "\t\t<td>5615.369</td>\n",
       "\t\t<td>0</td>\n",
       "\t\t<td>1</td>\n",
       "\t\t<td>0</td>\n",
       "\t\t<td>1</td>\n",
       "\t\t<td>0</td>\n",
       "\t\t<td>414</td>\n",
       "\t\t<td>1</td>\n",
       "\t\t<td>1.0</td>\n",
       "\t\t<td>-0.9965626436107424</td>\n",
       "\t\t<td>-0.4543670264965653</td>\n",
       "\t</tr>\n",
       "\t<tr>\n",
       "\t\t<td>17128.4261</td>\n",
       "\t\t<td>0</td>\n",
       "\t\t<td>1</td>\n",
       "\t\t<td>0</td>\n",
       "\t\t<td>1</td>\n",
       "\t\t<td>0</td>\n",
       "\t\t<td>503</td>\n",
       "\t\t<td>1</td>\n",
       "\t\t<td>0.6</td>\n",
       "\t\t<td>-0.10786382566487175</td>\n",
       "\t\t<td>0.15603532875368017</td>\n",
       "\t</tr>\n",
       "\t<tr>\n",
       "\t\t<td>2459.7201</td>\n",
       "\t\t<td>1</td>\n",
       "\t\t<td>1</td>\n",
       "\t\t<td>0</td>\n",
       "\t\t<td>1</td>\n",
       "\t\t<td>0</td>\n",
       "\t\t<td>432</td>\n",
       "\t\t<td>0</td>\n",
       "\t\t<td>-1.0</td>\n",
       "\t\t<td>-0.10786382566487175</td>\n",
       "\t\t<td>-0.04285246974157678</td>\n",
       "\t</tr>\n",
       "\t<tr>\n",
       "\t\t<td>10796.3502</td>\n",
       "\t\t<td>0</td>\n",
       "\t\t<td>0</td>\n",
       "\t\t<td>1</td>\n",
       "\t\t<td>1</td>\n",
       "\t\t<td>0</td>\n",
       "\t\t<td>220</td>\n",
       "\t\t<td>1</td>\n",
       "\t\t<td>-1.0</td>\n",
       "\t\t<td>-0.10786382566487175</td>\n",
       "\t\t<td>-0.14851161269218185</td>\n",
       "\t</tr>\n",
       "\t<tr>\n",
       "\t\t<td>36580.2822</td>\n",
       "\t\t<td>1</td>\n",
       "\t\t<td>0</td>\n",
       "\t\t<td>1</td>\n",
       "\t\t<td>1</td>\n",
       "\t\t<td>0</td>\n",
       "\t\t<td>102</td>\n",
       "\t\t<td>0</td>\n",
       "\t\t<td>0.6</td>\n",
       "\t\t<td>0.9999999999999989</td>\n",
       "\t\t<td>0.1364082433758585</td>\n",
       "\t</tr>\n",
       "\t<tr>\n",
       "\t\t<td>8582.3023</td>\n",
       "\t\t<td>1</td>\n",
       "\t\t<td>0</td>\n",
       "\t\t<td>0</td>\n",
       "\t\t<td>1</td>\n",
       "\t\t<td>0</td>\n",
       "\t\t<td>559</td>\n",
       "\t\t<td>0</td>\n",
       "\t\t<td>1.0</td>\n",
       "\t\t<td>0.9999999999999989</td>\n",
       "\t\t<td>-0.48249918220477594</td>\n",
       "\t</tr>\n",
       "</table></html>"
      ],
      "text/plain": [
       "      charges  sex_0  age_0  age_2  smoker_0  smoker_1    id  sex_1  children    region       bmi\n",
       "0  11411.6850      1      0      1         1         0  1130      0       0.2 -0.996563  0.880275\n",
       "1   6666.2430      0      1      0         1         0   385      1       1.0 -0.996563  0.729800\n",
       "2  11033.6617      1      0      0         1         0   741      0       0.6 -1.000000  0.653255\n",
       "3   6548.1951      0      0      0         1         0   198      1       0.2 -1.000000 -0.173373\n",
       "4   5615.3690      0      1      0         1         0   414      1       1.0 -0.996563 -0.454367\n",
       "5  17128.4261      0      1      0         1         0   503      1       0.6 -0.107864  0.156035\n",
       "6   2459.7201      1      1      0         1         0   432      0      -1.0 -0.107864 -0.042852\n",
       "7  10796.3502      0      0      1         1         0   220      1      -1.0 -0.107864 -0.148512\n",
       "8  36580.2822      1      0      1         1         0   102      0       0.6  1.000000  0.136408\n",
       "9   8582.3023      1      0      0         1         0   559      0       1.0  1.000000 -0.482499"
      ]
     },
     "metadata": {},
     "output_type": "display_data"
    },
    {
     "name": "stdout",
     "output_type": "stream",
     "text": [
      "                                                                                          \r"
     ]
    },
    {
     "data": {
      "text/html": [
       "Total time taken by feature scaling: 47.07 sec"
      ],
      "text/plain": [
       "<IPython.core.display.HTML object>"
      ]
     },
     "metadata": {},
     "output_type": "display_data"
    },
    {
     "name": "stdout",
     "output_type": "stream",
     "text": [
      "                                                                                          \r"
     ]
    },
    {
     "data": {
      "text/html": [
       "\n",
       "Feature selection using rfe ..."
      ],
      "text/plain": [
       "<IPython.core.display.HTML object>"
      ]
     },
     "metadata": {},
     "output_type": "display_data"
    },
    {
     "name": "stdout",
     "output_type": "stream",
     "text": [
      "                                                                                          \r"
     ]
    },
    {
     "data": {
      "text/html": [
       "feature selected by RFE:"
      ],
      "text/plain": [
       "<IPython.core.display.HTML object>"
      ]
     },
     "metadata": {},
     "output_type": "display_data"
    },
    {
     "name": "stdout",
     "output_type": "stream",
     "text": [
      "['children', 'sex_0', 'smoker_1', 'age_0', 'smoker_0', 'age_2', 'age_1', 'region', 'bmi']\n",
      "                                                                                          \r"
     ]
    },
    {
     "data": {
      "text/html": [
       "Total time taken by feature selection: 17.06 sec  "
      ],
      "text/plain": [
       "<IPython.core.display.HTML object>"
      ]
     },
     "metadata": {},
     "output_type": "display_data"
    },
    {
     "name": "stdout",
     "output_type": "stream",
     "text": [
      "                                                                                          \r"
     ]
    },
    {
     "data": {
      "text/html": [
       "\n",
       "scaling Features of rfe data ..."
      ],
      "text/plain": [
       "<IPython.core.display.HTML object>"
      ]
     },
     "metadata": {},
     "output_type": "display_data"
    },
    {
     "name": "stdout",
     "output_type": "stream",
     "text": [
      "                                                                                          \r"
     ]
    },
    {
     "data": {
      "text/html": [
       "columns that will be scaled: "
      ],
      "text/plain": [
       "<IPython.core.display.HTML object>"
      ]
     },
     "metadata": {},
     "output_type": "display_data"
    },
    {
     "name": "stdout",
     "output_type": "stream",
     "text": [
      "['r_children', 'r_region', 'r_bmi']\n",
      "                                                                                          \r"
     ]
    },
    {
     "data": {
      "text/html": [
       "Training dataset sample after scaling:"
      ],
      "text/plain": [
       "<IPython.core.display.HTML object>"
      ]
     },
     "metadata": {},
     "output_type": "display_data"
    },
    {
     "data": {
      "text/html": [
       "<style type=\"text/css\">\n",
       "\ttable {border:ridge 5px;}\n",
       "\ttable td {border:inset 1px;}\n",
       "\ttable tr#HeaderRow {background-color:grey; color:white;}</style>\n",
       "<html><table>\n",
       "\t<tr id=\"HeaderRow\">\n",
       "\t\t<th>r_age_0</th>\n",
       "\t\t<th>r_smoker_1</th>\n",
       "\t\t<th>r_age_2</th>\n",
       "\t\t<th>charges</th>\n",
       "\t\t<th>r_smoker_0</th>\n",
       "\t\t<th>r_age_1</th>\n",
       "\t\t<th>id</th>\n",
       "\t\t<th>r_sex_0</th>\n",
       "\t\t<th>r_children</th>\n",
       "\t\t<th>r_region</th>\n",
       "\t\t<th>r_bmi</th>\n",
       "\t</tr>\n",
       "\t<tr>\n",
       "\t\t<td>0</td>\n",
       "\t\t<td>0</td>\n",
       "\t\t<td>0</td>\n",
       "\t\t<td>7682.67</td>\n",
       "\t\t<td>1</td>\n",
       "\t\t<td>1</td>\n",
       "\t\t<td>58</td>\n",
       "\t\t<td>1</td>\n",
       "\t\t<td>0.2</td>\n",
       "\t\t<td>0.9999999999999989</td>\n",
       "\t\t<td>0.11481844946025509</td>\n",
       "\t</tr>\n",
       "\t<tr>\n",
       "\t\t<td>0</td>\n",
       "\t\t<td>0</td>\n",
       "\t\t<td>0</td>\n",
       "\t\t<td>9788.8659</td>\n",
       "\t\t<td>1</td>\n",
       "\t\t<td>1</td>\n",
       "\t\t<td>1267</td>\n",
       "\t\t<td>0</td>\n",
       "\t\t<td>1.0</td>\n",
       "\t\t<td>0.9999999999999989</td>\n",
       "\t\t<td>-0.4537127903173047</td>\n",
       "\t</tr>\n",
       "\t<tr>\n",
       "\t\t<td>1</td>\n",
       "\t\t<td>0</td>\n",
       "\t\t<td>0</td>\n",
       "\t\t<td>24671.6633</td>\n",
       "\t\t<td>1</td>\n",
       "\t\t<td>0</td>\n",
       "\t\t<td>40</td>\n",
       "\t\t<td>1</td>\n",
       "\t\t<td>0.6</td>\n",
       "\t\t<td>-0.10786382566487175</td>\n",
       "\t\t<td>-0.10500490677134448</td>\n",
       "\t</tr>\n",
       "\t<tr>\n",
       "\t\t<td>0</td>\n",
       "\t\t<td>1</td>\n",
       "\t\t<td>0</td>\n",
       "\t\t<td>42124.5153</td>\n",
       "\t\t<td>0</td>\n",
       "\t\t<td>1</td>\n",
       "\t\t<td>184</td>\n",
       "\t\t<td>0</td>\n",
       "\t\t<td>0.2</td>\n",
       "\t\t<td>0.9999999999999989</td>\n",
       "\t\t<td>0.3091265947006868</td>\n",
       "\t</tr>\n",
       "\t<tr>\n",
       "\t\t<td>1</td>\n",
       "\t\t<td>0</td>\n",
       "\t\t<td>0</td>\n",
       "\t\t<td>6653.7886</td>\n",
       "\t\t<td>1</td>\n",
       "\t\t<td>0</td>\n",
       "\t\t<td>441</td>\n",
       "\t\t<td>0</td>\n",
       "\t\t<td>1.0</td>\n",
       "\t\t<td>0.9999999999999989</td>\n",
       "\t\t<td>0.1436048413477263</td>\n",
       "\t</tr>\n",
       "\t<tr>\n",
       "\t\t<td>0</td>\n",
       "\t\t<td>0</td>\n",
       "\t\t<td>1</td>\n",
       "\t\t<td>14394.3982</td>\n",
       "\t\t<td>1</td>\n",
       "\t\t<td>0</td>\n",
       "\t\t<td>290</td>\n",
       "\t\t<td>1</td>\n",
       "\t\t<td>0.6</td>\n",
       "\t\t<td>-0.10786382566487175</td>\n",
       "\t\t<td>-0.16094210009813548</td>\n",
       "\t</tr>\n",
       "\t<tr>\n",
       "\t\t<td>1</td>\n",
       "\t\t<td>0</td>\n",
       "\t\t<td>0</td>\n",
       "\t\t<td>2699.5684</td>\n",
       "\t\t<td>1</td>\n",
       "\t\t<td>0</td>\n",
       "\t\t<td>72</td>\n",
       "\t\t<td>0</td>\n",
       "\t\t<td>-1.0</td>\n",
       "\t\t<td>-1.000000000000001</td>\n",
       "\t\t<td>-0.011776251226692817</td>\n",
       "\t</tr>\n",
       "\t<tr>\n",
       "\t\t<td>1</td>\n",
       "\t\t<td>0</td>\n",
       "\t\t<td>0</td>\n",
       "\t\t<td>1632.0363</td>\n",
       "\t\t<td>1</td>\n",
       "\t\t<td>0</td>\n",
       "\t\t<td>51</td>\n",
       "\t\t<td>0</td>\n",
       "\t\t<td>-1.0</td>\n",
       "\t\t<td>-1.000000000000001</td>\n",
       "\t\t<td>-0.3971213608112529</td>\n",
       "\t</tr>\n",
       "\t<tr>\n",
       "\t\t<td>1</td>\n",
       "\t\t<td>0</td>\n",
       "\t\t<td>0</td>\n",
       "\t\t<td>4504.6624</td>\n",
       "\t\t<td>1</td>\n",
       "\t\t<td>0</td>\n",
       "\t\t<td>1320</td>\n",
       "\t\t<td>0</td>\n",
       "\t\t<td>0.6</td>\n",
       "\t\t<td>0.9999999999999989</td>\n",
       "\t\t<td>0.15799803729146192</td>\n",
       "\t</tr>\n",
       "\t<tr>\n",
       "\t\t<td>1</td>\n",
       "\t\t<td>0</td>\n",
       "\t\t<td>0</td>\n",
       "\t\t<td>6799.458</td>\n",
       "\t\t<td>1</td>\n",
       "\t\t<td>0</td>\n",
       "\t\t<td>998</td>\n",
       "\t\t<td>0</td>\n",
       "\t\t<td>1.0</td>\n",
       "\t\t<td>-0.10786382566487175</td>\n",
       "\t\t<td>-0.1795878312070658</td>\n",
       "\t</tr>\n",
       "</table></html>"
      ],
      "text/plain": [
       "   r_age_0  r_smoker_1  r_age_2     charges  r_smoker_0  r_age_1    id  r_sex_0  r_children  r_region     r_bmi\n",
       "0        0           0        0   7682.6700           1        1    58        1         0.2  1.000000  0.114818\n",
       "1        0           0        0   9788.8659           1        1  1267        0         1.0  1.000000 -0.453713\n",
       "2        1           0        0  24671.6633           1        0    40        1         0.6 -0.107864 -0.105005\n",
       "3        0           1        0  42124.5153           0        1   184        0         0.2  1.000000  0.309127\n",
       "4        1           0        0   6653.7886           1        0   441        0         1.0  1.000000  0.143605\n",
       "5        0           0        1  14394.3982           1        0   290        1         0.6 -0.107864 -0.160942\n",
       "6        1           0        0   2699.5684           1        0    72        0        -1.0 -1.000000 -0.011776\n",
       "7        1           0        0   1632.0363           1        0    51        0        -1.0 -1.000000 -0.397121\n",
       "8        1           0        0   4504.6624           1        0  1320        0         0.6  1.000000  0.157998\n",
       "9        1           0        0   6799.4580           1        0   998        0         1.0 -0.107864 -0.179588"
      ]
     },
     "metadata": {},
     "output_type": "display_data"
    },
    {
     "name": "stdout",
     "output_type": "stream",
     "text": [
      "                                                                                          \r"
     ]
    },
    {
     "data": {
      "text/html": [
       "Testing dataset sample after scaling:"
      ],
      "text/plain": [
       "<IPython.core.display.HTML object>"
      ]
     },
     "metadata": {},
     "output_type": "display_data"
    },
    {
     "data": {
      "text/html": [
       "<style type=\"text/css\">\n",
       "\ttable {border:ridge 5px;}\n",
       "\ttable td {border:inset 1px;}\n",
       "\ttable tr#HeaderRow {background-color:grey; color:white;}</style>\n",
       "<html><table>\n",
       "\t<tr id=\"HeaderRow\">\n",
       "\t\t<th>r_age_0</th>\n",
       "\t\t<th>r_smoker_1</th>\n",
       "\t\t<th>r_age_2</th>\n",
       "\t\t<th>charges</th>\n",
       "\t\t<th>r_smoker_0</th>\n",
       "\t\t<th>r_age_1</th>\n",
       "\t\t<th>id</th>\n",
       "\t\t<th>r_sex_0</th>\n",
       "\t\t<th>r_children</th>\n",
       "\t\t<th>r_region</th>\n",
       "\t\t<th>r_bmi</th>\n",
       "\t</tr>\n",
       "\t<tr>\n",
       "\t\t<td>0</td>\n",
       "\t\t<td>0</td>\n",
       "\t\t<td>1</td>\n",
       "\t\t<td>11411.685</td>\n",
       "\t\t<td>1</td>\n",
       "\t\t<td>0</td>\n",
       "\t\t<td>1130</td>\n",
       "\t\t<td>1</td>\n",
       "\t\t<td>0.2</td>\n",
       "\t\t<td>-0.9965626436107424</td>\n",
       "\t\t<td>0.8802747791952896</td>\n",
       "\t</tr>\n",
       "\t<tr>\n",
       "\t\t<td>1</td>\n",
       "\t\t<td>0</td>\n",
       "\t\t<td>0</td>\n",
       "\t\t<td>6666.243</td>\n",
       "\t\t<td>1</td>\n",
       "\t\t<td>0</td>\n",
       "\t\t<td>385</td>\n",
       "\t\t<td>0</td>\n",
       "\t\t<td>1.0</td>\n",
       "\t\t<td>-0.9965626436107424</td>\n",
       "\t\t<td>0.7298004579653253</td>\n",
       "\t</tr>\n",
       "\t<tr>\n",
       "\t\t<td>0</td>\n",
       "\t\t<td>0</td>\n",
       "\t\t<td>0</td>\n",
       "\t\t<td>11033.6617</td>\n",
       "\t\t<td>1</td>\n",
       "\t\t<td>1</td>\n",
       "\t\t<td>741</td>\n",
       "\t\t<td>1</td>\n",
       "\t\t<td>0.6</td>\n",
       "\t\t<td>-1.000000000000001</td>\n",
       "\t\t<td>0.6532548249918217</td>\n",
       "\t</tr>\n",
       "\t<tr>\n",
       "\t\t<td>0</td>\n",
       "\t\t<td>0</td>\n",
       "\t\t<td>0</td>\n",
       "\t\t<td>6548.1951</td>\n",
       "\t\t<td>1</td>\n",
       "\t\t<td>1</td>\n",
       "\t\t<td>198</td>\n",
       "\t\t<td>0</td>\n",
       "\t\t<td>0.2</td>\n",
       "\t\t<td>-1.000000000000001</td>\n",
       "\t\t<td>-0.17337258750408913</td>\n",
       "\t</tr>\n",
       "\t<tr>\n",
       "\t\t<td>1</td>\n",
       "\t\t<td>0</td>\n",
       "\t\t<td>0</td>\n",
       "\t\t<td>5615.369</td>\n",
       "\t\t<td>1</td>\n",
       "\t\t<td>0</td>\n",
       "\t\t<td>414</td>\n",
       "\t\t<td>0</td>\n",
       "\t\t<td>1.0</td>\n",
       "\t\t<td>-0.9965626436107424</td>\n",
       "\t\t<td>-0.4543670264965653</td>\n",
       "\t</tr>\n",
       "\t<tr>\n",
       "\t\t<td>1</td>\n",
       "\t\t<td>0</td>\n",
       "\t\t<td>0</td>\n",
       "\t\t<td>17128.4261</td>\n",
       "\t\t<td>1</td>\n",
       "\t\t<td>0</td>\n",
       "\t\t<td>503</td>\n",
       "\t\t<td>0</td>\n",
       "\t\t<td>0.6</td>\n",
       "\t\t<td>-0.10786382566487175</td>\n",
       "\t\t<td>0.15603532875368017</td>\n",
       "\t</tr>\n",
       "\t<tr>\n",
       "\t\t<td>1</td>\n",
       "\t\t<td>0</td>\n",
       "\t\t<td>0</td>\n",
       "\t\t<td>2459.7201</td>\n",
       "\t\t<td>1</td>\n",
       "\t\t<td>0</td>\n",
       "\t\t<td>432</td>\n",
       "\t\t<td>1</td>\n",
       "\t\t<td>-1.0</td>\n",
       "\t\t<td>-0.10786382566487175</td>\n",
       "\t\t<td>-0.04285246974157678</td>\n",
       "\t</tr>\n",
       "\t<tr>\n",
       "\t\t<td>0</td>\n",
       "\t\t<td>0</td>\n",
       "\t\t<td>1</td>\n",
       "\t\t<td>10796.3502</td>\n",
       "\t\t<td>1</td>\n",
       "\t\t<td>0</td>\n",
       "\t\t<td>220</td>\n",
       "\t\t<td>0</td>\n",
       "\t\t<td>-1.0</td>\n",
       "\t\t<td>-0.10786382566487175</td>\n",
       "\t\t<td>-0.14851161269218185</td>\n",
       "\t</tr>\n",
       "\t<tr>\n",
       "\t\t<td>0</td>\n",
       "\t\t<td>0</td>\n",
       "\t\t<td>1</td>\n",
       "\t\t<td>36580.2822</td>\n",
       "\t\t<td>1</td>\n",
       "\t\t<td>0</td>\n",
       "\t\t<td>102</td>\n",
       "\t\t<td>1</td>\n",
       "\t\t<td>0.6</td>\n",
       "\t\t<td>0.9999999999999989</td>\n",
       "\t\t<td>0.1364082433758585</td>\n",
       "\t</tr>\n",
       "\t<tr>\n",
       "\t\t<td>0</td>\n",
       "\t\t<td>0</td>\n",
       "\t\t<td>0</td>\n",
       "\t\t<td>8582.3023</td>\n",
       "\t\t<td>1</td>\n",
       "\t\t<td>1</td>\n",
       "\t\t<td>559</td>\n",
       "\t\t<td>1</td>\n",
       "\t\t<td>1.0</td>\n",
       "\t\t<td>0.9999999999999989</td>\n",
       "\t\t<td>-0.48249918220477594</td>\n",
       "\t</tr>\n",
       "</table></html>"
      ],
      "text/plain": [
       "   r_age_0  r_smoker_1  r_age_2     charges  r_smoker_0  r_age_1    id  r_sex_0  r_children  r_region     r_bmi\n",
       "0        0           0        1  11411.6850           1        0  1130        1         0.2 -0.996563  0.880275\n",
       "1        1           0        0   6666.2430           1        0   385        0         1.0 -0.996563  0.729800\n",
       "2        0           0        0  11033.6617           1        1   741        1         0.6 -1.000000  0.653255\n",
       "3        0           0        0   6548.1951           1        1   198        0         0.2 -1.000000 -0.173373\n",
       "4        1           0        0   5615.3690           1        0   414        0         1.0 -0.996563 -0.454367\n",
       "5        1           0        0  17128.4261           1        0   503        0         0.6 -0.107864  0.156035\n",
       "6        1           0        0   2459.7201           1        0   432        1        -1.0 -0.107864 -0.042852\n",
       "7        0           0        1  10796.3502           1        0   220        0        -1.0 -0.107864 -0.148512\n",
       "8        0           0        1  36580.2822           1        0   102        1         0.6  1.000000  0.136408\n",
       "9        0           0        0   8582.3023           1        1   559        1         1.0  1.000000 -0.482499"
      ]
     },
     "metadata": {},
     "output_type": "display_data"
    },
    {
     "name": "stdout",
     "output_type": "stream",
     "text": [
      "                                                                                          \r"
     ]
    },
    {
     "data": {
      "text/html": [
       "Total time taken by feature scaling: 49.39 sec"
      ],
      "text/plain": [
       "<IPython.core.display.HTML object>"
      ]
     },
     "metadata": {},
     "output_type": "display_data"
    },
    {
     "name": "stdout",
     "output_type": "stream",
     "text": [
      "                                                                                          \r"
     ]
    },
    {
     "data": {
      "text/html": [
       "\n",
       "scaling Features of pca data ..."
      ],
      "text/plain": [
       "<IPython.core.display.HTML object>"
      ]
     },
     "metadata": {},
     "output_type": "display_data"
    },
    {
     "name": "stdout",
     "output_type": "stream",
     "text": [
      "                                                                                          \r"
     ]
    },
    {
     "data": {
      "text/html": [
       "columns that will be scaled: "
      ],
      "text/plain": [
       "<IPython.core.display.HTML object>"
      ]
     },
     "metadata": {},
     "output_type": "display_data"
    },
    {
     "name": "stdout",
     "output_type": "stream",
     "text": [
      "['region', 'children', 'bmi']\n",
      "                                                                                          \r"
     ]
    },
    {
     "data": {
      "text/html": [
       "Training dataset sample after scaling:"
      ],
      "text/plain": [
       "<IPython.core.display.HTML object>"
      ]
     },
     "metadata": {},
     "output_type": "display_data"
    },
    {
     "data": {
      "text/html": [
       "<style type=\"text/css\">\n",
       "\ttable {border:ridge 5px;}\n",
       "\ttable td {border:inset 1px;}\n",
       "\ttable tr#HeaderRow {background-color:grey; color:white;}</style>\n",
       "<html><table>\n",
       "\t<tr id=\"HeaderRow\">\n",
       "\t\t<th>charges</th>\n",
       "\t\t<th>smoker_1</th>\n",
       "\t\t<th>sex_0</th>\n",
       "\t\t<th>age_0</th>\n",
       "\t\t<th>smoker_0</th>\n",
       "\t\t<th>age_2</th>\n",
       "\t\t<th>age_1</th>\n",
       "\t\t<th>id</th>\n",
       "\t\t<th>sex_1</th>\n",
       "\t\t<th>region</th>\n",
       "\t\t<th>children</th>\n",
       "\t\t<th>bmi</th>\n",
       "\t</tr>\n",
       "\t<tr>\n",
       "\t\t<td>13616.3586</td>\n",
       "\t\t<td>0</td>\n",
       "\t\t<td>1</td>\n",
       "\t\t<td>0</td>\n",
       "\t\t<td>1</td>\n",
       "\t\t<td>1</td>\n",
       "\t\t<td>0</td>\n",
       "\t\t<td>38</td>\n",
       "\t\t<td>0</td>\n",
       "\t\t<td>-0.1078638201468002</td>\n",
       "\t\t<td>-1.0</td>\n",
       "\t\t<td>-0.6022244030094865</td>\n",
       "\t</tr>\n",
       "\t<tr>\n",
       "\t\t<td>48517.56315</td>\n",
       "\t\t<td>1</td>\n",
       "\t\t<td>1</td>\n",
       "\t\t<td>0</td>\n",
       "\t\t<td>0</td>\n",
       "\t\t<td>1</td>\n",
       "\t\t<td>0</td>\n",
       "\t\t<td>46</td>\n",
       "\t\t<td>0</td>\n",
       "\t\t<td>-0.1078638201468002</td>\n",
       "\t\t<td>-0.6</td>\n",
       "\t\t<td>0.33627739614000635</td>\n",
       "\t</tr>\n",
       "\t<tr>\n",
       "\t\t<td>7144.86265</td>\n",
       "\t\t<td>0</td>\n",
       "\t\t<td>1</td>\n",
       "\t\t<td>0</td>\n",
       "\t\t<td>1</td>\n",
       "\t\t<td>0</td>\n",
       "\t\t<td>1</td>\n",
       "\t\t<td>52</td>\n",
       "\t\t<td>0</td>\n",
       "\t\t<td>-0.1078638201468002</td>\n",
       "\t\t<td>-0.2</td>\n",
       "\t\t<td>-0.22309453712790317</td>\n",
       "\t</tr>\n",
       "\t<tr>\n",
       "\t\t<td>9288.0267</td>\n",
       "\t\t<td>0</td>\n",
       "\t\t<td>0</td>\n",
       "\t\t<td>0</td>\n",
       "\t\t<td>1</td>\n",
       "\t\t<td>1</td>\n",
       "\t\t<td>0</td>\n",
       "\t\t<td>53</td>\n",
       "\t\t<td>1</td>\n",
       "\t\t<td>-0.1078638201468002</td>\n",
       "\t\t<td>-0.6</td>\n",
       "\t\t<td>-0.09257441936539108</td>\n",
       "\t</tr>\n",
       "\t<tr>\n",
       "\t\t<td>4661.28635</td>\n",
       "\t\t<td>0</td>\n",
       "\t\t<td>0</td>\n",
       "\t\t<td>1</td>\n",
       "\t\t<td>1</td>\n",
       "\t\t<td>0</td>\n",
       "\t\t<td>0</td>\n",
       "\t\t<td>80</td>\n",
       "\t\t<td>1</td>\n",
       "\t\t<td>-0.1078638201468002</td>\n",
       "\t\t<td>0.2</td>\n",
       "\t\t<td>-0.26038599934576384</td>\n",
       "\t</tr>\n",
       "\t<tr>\n",
       "\t\t<td>27375.90478</td>\n",
       "\t\t<td>0</td>\n",
       "\t\t<td>0</td>\n",
       "\t\t<td>0</td>\n",
       "\t\t<td>1</td>\n",
       "\t\t<td>0</td>\n",
       "\t\t<td>1</td>\n",
       "\t\t<td>81</td>\n",
       "\t\t<td>1</td>\n",
       "\t\t<td>-0.1078638201468002</td>\n",
       "\t\t<td>-0.2</td>\n",
       "\t\t<td>-0.5773634281975792</td>\n",
       "\t</tr>\n",
       "\t<tr>\n",
       "\t\t<td>35491.64</td>\n",
       "\t\t<td>1</td>\n",
       "\t\t<td>0</td>\n",
       "\t\t<td>0</td>\n",
       "\t\t<td>0</td>\n",
       "\t\t<td>0</td>\n",
       "\t\t<td>1</td>\n",
       "\t\t<td>25</td>\n",
       "\t\t<td>1</td>\n",
       "\t\t<td>-0.9965626505878525</td>\n",
       "\t\t<td>-1.0</td>\n",
       "\t\t<td>-0.029113509977101753</td>\n",
       "\t</tr>\n",
       "\t<tr>\n",
       "\t\t<td>23306.547</td>\n",
       "\t\t<td>1</td>\n",
       "\t\t<td>0</td>\n",
       "\t\t<td>0</td>\n",
       "\t\t<td>0</td>\n",
       "\t\t<td>1</td>\n",
       "\t\t<td>0</td>\n",
       "\t\t<td>29</td>\n",
       "\t\t<td>1</td>\n",
       "\t\t<td>-0.9965626505878525</td>\n",
       "\t\t<td>-0.2</td>\n",
       "\t\t<td>-0.36931632319267255</td>\n",
       "\t</tr>\n",
       "\t<tr>\n",
       "\t\t<td>7196.867</td>\n",
       "\t\t<td>0</td>\n",
       "\t\t<td>0</td>\n",
       "\t\t<td>0</td>\n",
       "\t\t<td>1</td>\n",
       "\t\t<td>0</td>\n",
       "\t\t<td>1</td>\n",
       "\t\t<td>34</td>\n",
       "\t\t<td>1</td>\n",
       "\t\t<td>-0.9965626505878525</td>\n",
       "\t\t<td>0.2</td>\n",
       "\t\t<td>0.2652927706902189</td>\n",
       "\t</tr>\n",
       "\t<tr>\n",
       "\t\t<td>34779.615</td>\n",
       "\t\t<td>1</td>\n",
       "\t\t<td>0</td>\n",
       "\t\t<td>1</td>\n",
       "\t\t<td>0</td>\n",
       "\t\t<td>0</td>\n",
       "\t\t<td>0</td>\n",
       "\t\t<td>35</td>\n",
       "\t\t<td>1</td>\n",
       "\t\t<td>-0.9965626505878525</td>\n",
       "\t\t<td>-1.0</td>\n",
       "\t\t<td>0.23258096172718326</td>\n",
       "\t</tr>\n",
       "</table></html>"
      ],
      "text/plain": [
       "       charges  smoker_1  sex_0  age_0  smoker_0  age_2  age_1  id  sex_1    region  children       bmi\n",
       "0  13616.35860         0      1      0         1      1      0  38      0 -0.107864      -1.0 -0.602224\n",
       "1  48517.56315         1      1      0         0      1      0  46      0 -0.107864      -0.6  0.336277\n",
       "2   7144.86265         0      1      0         1      0      1  52      0 -0.107864      -0.2 -0.223095\n",
       "3   9288.02670         0      0      0         1      1      0  53      1 -0.107864      -0.6 -0.092574\n",
       "4   4661.28635         0      0      1         1      0      0  80      1 -0.107864       0.2 -0.260386\n",
       "5  27375.90478         0      0      0         1      0      1  81      1 -0.107864      -0.2 -0.577363\n",
       "6  35491.64000         1      0      0         0      0      1  25      1 -0.996563      -1.0 -0.029114\n",
       "7  23306.54700         1      0      0         0      1      0  29      1 -0.996563      -0.2 -0.369316\n",
       "8   7196.86700         0      0      0         1      0      1  34      1 -0.996563       0.2  0.265293\n",
       "9  34779.61500         1      0      1         0      0      0  35      1 -0.996563      -1.0  0.232581"
      ]
     },
     "metadata": {},
     "output_type": "display_data"
    },
    {
     "name": "stdout",
     "output_type": "stream",
     "text": [
      "                                                                                          \r"
     ]
    },
    {
     "data": {
      "text/html": [
       "Testing dataset sample after scaling:"
      ],
      "text/plain": [
       "<IPython.core.display.HTML object>"
      ]
     },
     "metadata": {},
     "output_type": "display_data"
    },
    {
     "data": {
      "text/html": [
       "<style type=\"text/css\">\n",
       "\ttable {border:ridge 5px;}\n",
       "\ttable td {border:inset 1px;}\n",
       "\ttable tr#HeaderRow {background-color:grey; color:white;}</style>\n",
       "<html><table>\n",
       "\t<tr id=\"HeaderRow\">\n",
       "\t\t<th>charges</th>\n",
       "\t\t<th>smoker_1</th>\n",
       "\t\t<th>sex_0</th>\n",
       "\t\t<th>age_0</th>\n",
       "\t\t<th>smoker_0</th>\n",
       "\t\t<th>age_2</th>\n",
       "\t\t<th>age_1</th>\n",
       "\t\t<th>id</th>\n",
       "\t\t<th>sex_1</th>\n",
       "\t\t<th>region</th>\n",
       "\t\t<th>children</th>\n",
       "\t\t<th>bmi</th>\n",
       "\t</tr>\n",
       "\t<tr>\n",
       "\t\t<td>6600.20595</td>\n",
       "\t\t<td>0</td>\n",
       "\t\t<td>0</td>\n",
       "\t\t<td>0</td>\n",
       "\t\t<td>1</td>\n",
       "\t\t<td>0</td>\n",
       "\t\t<td>1</td>\n",
       "\t\t<td>114</td>\n",
       "\t\t<td>1</td>\n",
       "\t\t<td>-0.1078638201468002</td>\n",
       "\t\t<td>-0.6</td>\n",
       "\t\t<td>0.1871115472685637</td>\n",
       "\t</tr>\n",
       "\t<tr>\n",
       "\t\t<td>10796.35025</td>\n",
       "\t\t<td>0</td>\n",
       "\t\t<td>0</td>\n",
       "\t\t<td>0</td>\n",
       "\t\t<td>1</td>\n",
       "\t\t<td>1</td>\n",
       "\t\t<td>0</td>\n",
       "\t\t<td>220</td>\n",
       "\t\t<td>1</td>\n",
       "\t\t<td>-0.1078638201468002</td>\n",
       "\t\t<td>-1.0</td>\n",
       "\t\t<td>-0.14851161269218185</td>\n",
       "\t</tr>\n",
       "\t<tr>\n",
       "\t\t<td>9964.06</td>\n",
       "\t\t<td>0</td>\n",
       "\t\t<td>0</td>\n",
       "\t\t<td>0</td>\n",
       "\t\t<td>1</td>\n",
       "\t\t<td>1</td>\n",
       "\t\t<td>0</td>\n",
       "\t\t<td>263</td>\n",
       "\t\t<td>1</td>\n",
       "\t\t<td>-0.1078638201468002</td>\n",
       "\t\t<td>-0.6</td>\n",
       "\t\t<td>0.06902191691200499</td>\n",
       "\t</tr>\n",
       "\t<tr>\n",
       "\t\t<td>23288.9284</td>\n",
       "\t\t<td>0</td>\n",
       "\t\t<td>1</td>\n",
       "\t\t<td>1</td>\n",
       "\t\t<td>1</td>\n",
       "\t\t<td>0</td>\n",
       "\t\t<td>0</td>\n",
       "\t\t<td>318</td>\n",
       "\t\t<td>0</td>\n",
       "\t\t<td>-0.1078638201468002</td>\n",
       "\t\t<td>-0.6</td>\n",
       "\t\t<td>-0.45305855413804386</td>\n",
       "\t</tr>\n",
       "\t<tr>\n",
       "\t\t<td>13725.47184</td>\n",
       "\t\t<td>0</td>\n",
       "\t\t<td>1</td>\n",
       "\t\t<td>0</td>\n",
       "\t\t<td>1</td>\n",
       "\t\t<td>0</td>\n",
       "\t\t<td>1</td>\n",
       "\t\t<td>325</td>\n",
       "\t\t<td>0</td>\n",
       "\t\t<td>-0.1078638201468002</td>\n",
       "\t\t<td>-0.6</td>\n",
       "\t\t<td>-0.6208701341184168</td>\n",
       "\t</tr>\n",
       "\t<tr>\n",
       "\t\t<td>2459.7201</td>\n",
       "\t\t<td>0</td>\n",
       "\t\t<td>1</td>\n",
       "\t\t<td>1</td>\n",
       "\t\t<td>1</td>\n",
       "\t\t<td>0</td>\n",
       "\t\t<td>0</td>\n",
       "\t\t<td>432</td>\n",
       "\t\t<td>0</td>\n",
       "\t\t<td>-0.1078638201468002</td>\n",
       "\t\t<td>-1.0</td>\n",
       "\t\t<td>-0.04285246974157678</td>\n",
       "\t</tr>\n",
       "\t<tr>\n",
       "\t\t<td>13844.506</td>\n",
       "\t\t<td>1</td>\n",
       "\t\t<td>1</td>\n",
       "\t\t<td>1</td>\n",
       "\t\t<td>0</td>\n",
       "\t\t<td>0</td>\n",
       "\t\t<td>0</td>\n",
       "\t\t<td>11</td>\n",
       "\t\t<td>0</td>\n",
       "\t\t<td>-0.9965626505878525</td>\n",
       "\t\t<td>-1.0</td>\n",
       "\t\t<td>-0.6244684331043507</td>\n",
       "\t</tr>\n",
       "\t<tr>\n",
       "\t\t<td>1731.677</td>\n",
       "\t\t<td>0</td>\n",
       "\t\t<td>1</td>\n",
       "\t\t<td>1</td>\n",
       "\t\t<td>1</td>\n",
       "\t\t<td>0</td>\n",
       "\t\t<td>0</td>\n",
       "\t\t<td>83</td>\n",
       "\t\t<td>0</td>\n",
       "\t\t<td>-0.9965626505878525</td>\n",
       "\t\t<td>-1.0</td>\n",
       "\t\t<td>-0.6964344128230291</td>\n",
       "\t</tr>\n",
       "\t<tr>\n",
       "\t\t<td>6600.361</td>\n",
       "\t\t<td>0</td>\n",
       "\t\t<td>0</td>\n",
       "\t\t<td>0</td>\n",
       "\t\t<td>1</td>\n",
       "\t\t<td>0</td>\n",
       "\t\t<td>1</td>\n",
       "\t\t<td>90</td>\n",
       "\t\t<td>1</td>\n",
       "\t\t<td>-0.9965626505878525</td>\n",
       "\t\t<td>-0.2</td>\n",
       "\t\t<td>-0.08799476611056607</td>\n",
       "\t</tr>\n",
       "\t<tr>\n",
       "\t\t<td>4076.497</td>\n",
       "\t\t<td>0</td>\n",
       "\t\t<td>0</td>\n",
       "\t\t<td>1</td>\n",
       "\t\t<td>1</td>\n",
       "\t\t<td>0</td>\n",
       "\t\t<td>0</td>\n",
       "\t\t<td>119</td>\n",
       "\t\t<td>1</td>\n",
       "\t\t<td>-0.9965626505878525</td>\n",
       "\t\t<td>-0.6</td>\n",
       "\t\t<td>0.01668302257114812</td>\n",
       "\t</tr>\n",
       "</table></html>"
      ],
      "text/plain": [
       "       charges  smoker_1  sex_0  age_0  smoker_0  age_2  age_1   id  sex_1    region  children       bmi\n",
       "0   6600.20595         0      0      0         1      0      1  114      1 -0.107864      -0.6  0.187112\n",
       "1  10796.35025         0      0      0         1      1      0  220      1 -0.107864      -1.0 -0.148512\n",
       "2   9964.06000         0      0      0         1      1      0  263      1 -0.107864      -0.6  0.069022\n",
       "3  23288.92840         0      1      1         1      0      0  318      0 -0.107864      -0.6 -0.453059\n",
       "4  13725.47184         0      1      0         1      0      1  325      0 -0.107864      -0.6 -0.620870\n",
       "5   2459.72010         0      1      1         1      0      0  432      0 -0.107864      -1.0 -0.042852\n",
       "6  13844.50600         1      1      1         0      0      0   11      0 -0.996563      -1.0 -0.624468\n",
       "7   1731.67700         0      1      1         1      0      0   83      0 -0.996563      -1.0 -0.696434\n",
       "8   6600.36100         0      0      0         1      0      1   90      1 -0.996563      -0.2 -0.087995\n",
       "9   4076.49700         0      0      1         1      0      0  119      1 -0.996563      -0.6  0.016683"
      ]
     },
     "metadata": {},
     "output_type": "display_data"
    },
    {
     "name": "stdout",
     "output_type": "stream",
     "text": [
      "                                                                                          \r"
     ]
    },
    {
     "data": {
      "text/html": [
       "Total time taken by feature scaling: 40.52 sec"
      ],
      "text/plain": [
       "<IPython.core.display.HTML object>"
      ]
     },
     "metadata": {},
     "output_type": "display_data"
    },
    {
     "name": "stdout",
     "output_type": "stream",
     "text": [
      "                                                                                          \r"
     ]
    },
    {
     "data": {
      "text/html": [
       "\n",
       "Dimension Reduction using pca ..."
      ],
      "text/plain": [
       "<IPython.core.display.HTML object>"
      ]
     },
     "metadata": {},
     "output_type": "display_data"
    },
    {
     "name": "stdout",
     "output_type": "stream",
     "text": [
      "                                                                                          \r"
     ]
    },
    {
     "data": {
      "text/html": [
       "PCA columns:"
      ],
      "text/plain": [
       "<IPython.core.display.HTML object>"
      ]
     },
     "metadata": {},
     "output_type": "display_data"
    },
    {
     "name": "stdout",
     "output_type": "stream",
     "text": [
      "['col_0', 'col_1', 'col_2', 'col_3', 'col_4', 'col_5', 'col_6']\n",
      "                                                                                          \r"
     ]
    },
    {
     "data": {
      "text/html": [
       "Total time taken by PCA: 12.29 sec  "
      ],
      "text/plain": [
       "<IPython.core.display.HTML object>"
      ]
     },
     "metadata": {},
     "output_type": "display_data"
    },
    {
     "name": "stdout",
     "output_type": "stream",
     "text": [
      "                                                                                          \r"
     ]
    },
    {
     "data": {
      "text/html": [
       "\n",
       "            <style>\n",
       "                .custom-div {\n",
       "                    background-color: lightgray;\n",
       "                    color: #000000;\n",
       "                    padding: 10px;\n",
       "                    border-radius: 8px;\n",
       "                    box-shadow: 0 3px 4px rgba(0 -  0 -  0 -  0.2);\n",
       "                    margin-bottom: 10px;\n",
       "                    text-align: center;\n",
       "                }\n",
       "            </style>\n",
       "        <br><div class=\"custom-div\"><h3><span style=\"color: green;\">1. Feature Exploration -> 2. Feature Engineering -> 3. Data Preparation -></span> 4. Model Training & Evaluation<center></h3></center></div>"
      ],
      "text/plain": [
       "<IPython.core.display.HTML object>"
      ]
     },
     "metadata": {},
     "output_type": "display_data"
    },
    {
     "name": "stdout",
     "output_type": "stream",
     "text": [
      "                                                                                          \r"
     ]
    },
    {
     "data": {
      "text/html": [
       "Model Training started ..."
      ],
      "text/plain": [
       "<IPython.core.display.HTML object>"
      ]
     },
     "metadata": {},
     "output_type": "display_data"
    },
    {
     "name": "stdout",
     "output_type": "stream",
     "text": [
      "                                                                                          \r"
     ]
    },
    {
     "data": {
      "text/html": [
       "\n",
       "Starting customized hyperparameter update ..."
      ],
      "text/plain": [
       "<IPython.core.display.HTML object>"
      ]
     },
     "metadata": {},
     "output_type": "display_data"
    },
    {
     "name": "stdout",
     "output_type": "stream",
     "text": [
      "                                                                                          \n",
      "Skipping customized hyperparameter tuning\n",
      "                                                                                          \r"
     ]
    },
    {
     "data": {
      "text/html": [
       "\n",
       "Hyperparameters used for model training: "
      ],
      "text/plain": [
       "<IPython.core.display.HTML object>"
      ]
     },
     "metadata": {},
     "output_type": "display_data"
    },
    {
     "name": "stdout",
     "output_type": "stream",
     "text": [
      "response_column : charges                                                                                                                             \n",
      "name : decision_forest\n",
      "tree_type : Regression\n",
      "min_impurity : (0.0, 0.1, 0.2)\n",
      "max_depth : (5, 6, 8, 10)\n",
      "min_node_size : (1, 2, 3)\n",
      "num_trees : (-1, 20, 30)\n",
      "Total number of models for decision_forest : 108\n",
      "--------------------------------------------------------------------------------------------------------------------------------------------------------------------------------------------------------\n",
      "\n",
      "response_column : charges\n",
      "name : xgboost\n",
      "model_type : Regression\n",
      "column_sampling : (1, 0.6)\n",
      "min_impurity : (0.0, 0.1, 0.2)\n",
      "lambda1 : (0.01, 0.1, 1, 10)\n",
      "shrinkage_factor : (0.5, 0.1, 0.3)\n",
      "max_depth : (5, 6, 8, 10)\n",
      "min_node_size : (1, 2, 3)\n",
      "iter_num : (10, 20, 30)\n",
      "Total number of models for xgboost : 2592\n",
      "--------------------------------------------------------------------------------------------------------------------------------------------------------------------------------------------------------\n",
      "\n",
      "response_column : charges\n",
      "name : knn\n",
      "model_type : Regression\n",
      "k : (3, 5, 6, 8, 10, 12)\n",
      "id_column : id\n",
      "voting_weight : 1.0\n",
      "Total number of models for knn : 6\n",
      "--------------------------------------------------------------------------------------------------------------------------------------------------------------------------------------------------------\n",
      "\n",
      "response_column : charges\n",
      "name : svm\n",
      "model_type : regression\n",
      "lambda1 : (0.001, 0.02, 0.1)\n",
      "alpha : (0.15, 0.85)\n",
      "tolerance : (0.001, 0.01)\n",
      "learning_rate : ('Invtime', 'Adaptive', 'constant')\n",
      "initial_eta : (0.05, 0.1)\n",
      "momentum : (0.65, 0.8, 0.95)\n",
      "nesterov : True\n",
      "intercept : True\n",
      "iter_num_no_change : (5, 10, 50)\n",
      "local_sgd_iterations  : (10, 20)\n",
      "iter_max : (300, 200, 400)\n",
      "batch_size : (10, 50, 60, 80)\n",
      "Total number of models for svm : 15552\n",
      "--------------------------------------------------------------------------------------------------------------------------------------------------------------------------------------------------------\n",
      "\n",
      "response_column : charges\n",
      "name : glm\n",
      "family : GAUSSIAN\n",
      "lambda1 : (0.001, 0.02, 0.1)\n",
      "alpha : (0.15, 0.85)\n",
      "learning_rate : ('invtime', 'constant', 'adaptive')\n",
      "initial_eta : (0.05, 0.1)\n",
      "momentum : (0.65, 0.8, 0.95)\n",
      "iter_num_no_change : (5, 10, 50)\n",
      "iter_max : (300, 200, 400)\n",
      "batch_size : (10, 50, 60, 80)\n",
      "Total number of models for glm : 3888\n",
      "--------------------------------------------------------------------------------------------------------------------------------------------------------------------------------------------------------\n",
      "\n",
      "                                                                                          \r"
     ]
    },
    {
     "data": {
      "text/html": [
       "\n",
       "Performing hyperParameter tuning ..."
      ],
      "text/plain": [
       "<IPython.core.display.HTML object>"
      ]
     },
     "metadata": {},
     "output_type": "display_data"
    },
    {
     "name": "stdout",
     "output_type": "stream",
     "text": [
      "                                                                                          \r"
     ]
    },
    {
     "data": {
      "text/html": [
       "decision_forest"
      ],
      "text/plain": [
       "<IPython.core.display.HTML object>"
      ]
     },
     "metadata": {},
     "output_type": "display_data"
    },
    {
     "name": "stdout",
     "output_type": "stream",
     "text": [
      "DECISIONFOREST_0                                                                                                                                                                                        \n",
      "DECISIONFOREST_4                                                                          \n",
      "DECISIONFOREST_5                                                                          \n",
      "                                                                                          \r"
     ]
    },
    {
     "data": {
      "text/html": [
       "----------------------------------------------------------------------------------------------------"
      ],
      "text/plain": [
       "<IPython.core.display.HTML object>"
      ]
     },
     "metadata": {},
     "output_type": "display_data"
    },
    {
     "name": "stdout",
     "output_type": "stream",
     "text": [
      "                                                                                          \r"
     ]
    },
    {
     "data": {
      "text/html": [
       "xgboost"
      ],
      "text/plain": [
       "<IPython.core.display.HTML object>"
      ]
     },
     "metadata": {},
     "output_type": "display_data"
    },
    {
     "name": "stdout",
     "output_type": "stream",
     "text": [
      "XGBOOST_0                                                                                                                                                                                               \n",
      "XGBOOST_1                                                                                 \n",
      "XGBOOST_2                                                                                 \n",
      "                                                                                          \r"
     ]
    },
    {
     "data": {
      "text/html": [
       "----------------------------------------------------------------------------------------------------"
      ],
      "text/plain": [
       "<IPython.core.display.HTML object>"
      ]
     },
     "metadata": {},
     "output_type": "display_data"
    },
    {
     "name": "stdout",
     "output_type": "stream",
     "text": [
      "                                                                                          \r"
     ]
    },
    {
     "data": {
      "text/html": [
       "knn"
      ],
      "text/plain": [
       "<IPython.core.display.HTML object>"
      ]
     },
     "metadata": {},
     "output_type": "display_data"
    },
    {
     "name": "stdout",
     "output_type": "stream",
     "text": [
      "KNN_9                                                                                                                                                                                                   \n",
      "KNN_4                                                                                     \n",
      "KNN_8                                                                                     \n",
      "                                                                                          \r"
     ]
    },
    {
     "data": {
      "text/html": [
       "----------------------------------------------------------------------------------------------------"
      ],
      "text/plain": [
       "<IPython.core.display.HTML object>"
      ]
     },
     "metadata": {},
     "output_type": "display_data"
    },
    {
     "name": "stdout",
     "output_type": "stream",
     "text": [
      "                                                                                          \r"
     ]
    },
    {
     "data": {
      "text/html": [
       "svm"
      ],
      "text/plain": [
       "<IPython.core.display.HTML object>"
      ]
     },
     "metadata": {},
     "output_type": "display_data"
    },
    {
     "name": "stdout",
     "output_type": "stream",
     "text": [
      "SVM_3                                                                                                                                                                                                   \n",
      "SVM_1                                                                                     \n",
      "SVM_2                                                                                     \n",
      "                                                                                          \r"
     ]
    },
    {
     "data": {
      "text/html": [
       "----------------------------------------------------------------------------------------------------"
      ],
      "text/plain": [
       "<IPython.core.display.HTML object>"
      ]
     },
     "metadata": {},
     "output_type": "display_data"
    },
    {
     "name": "stdout",
     "output_type": "stream",
     "text": [
      "                                                                                          \r"
     ]
    },
    {
     "data": {
      "text/html": [
       "glm"
      ],
      "text/plain": [
       "<IPython.core.display.HTML object>"
      ]
     },
     "metadata": {},
     "output_type": "display_data"
    },
    {
     "name": "stdout",
     "output_type": "stream",
     "text": [
      "GLM_3                                                                                                                                                                                                   \n",
      "GLM_1                                                                                     \n",
      "GLM_2                                                                                     \n",
      "                                                                                          \r"
     ]
    },
    {
     "data": {
      "text/html": [
       "----------------------------------------------------------------------------------------------------"
      ],
      "text/plain": [
       "<IPython.core.display.HTML object>"
      ]
     },
     "metadata": {},
     "output_type": "display_data"
    },
    {
     "name": "stdout",
     "output_type": "stream",
     "text": [
      "                                                                                          \r"
     ]
    },
    {
     "data": {
      "text/html": [
       "Evaluating models performance ..."
      ],
      "text/plain": [
       "<IPython.core.display.HTML object>"
      ]
     },
     "metadata": {},
     "output_type": "display_data"
    },
    {
     "name": "stdout",
     "output_type": "stream",
     "text": [
      "                                                                                          \r"
     ]
    },
    {
     "data": {
      "text/html": [
       "Evaluation completed."
      ],
      "text/plain": [
       "<IPython.core.display.HTML object>"
      ]
     },
     "metadata": {},
     "output_type": "display_data"
    },
    {
     "name": "stdout",
     "output_type": "stream",
     "text": [
      "                                                                                          \r"
     ]
    },
    {
     "data": {
      "text/html": [
       "Leaderboard"
      ],
      "text/plain": [
       "<IPython.core.display.HTML object>"
      ]
     },
     "metadata": {},
     "output_type": "display_data"
    },
    {
     "data": {
      "text/html": [
       "<div>\n",
       "<style scoped>\n",
       "    .dataframe tbody tr th:only-of-type {\n",
       "        vertical-align: middle;\n",
       "    }\n",
       "\n",
       "    .dataframe tbody tr th {\n",
       "        vertical-align: top;\n",
       "    }\n",
       "\n",
       "    .dataframe thead th {\n",
       "        text-align: right;\n",
       "    }\n",
       "</style>\n",
       "<table border=\"1\" class=\"dataframe\">\n",
       "  <thead>\n",
       "    <tr style=\"text-align: right;\">\n",
       "      <th></th>\n",
       "      <th>Rank</th>\n",
       "      <th>Name</th>\n",
       "      <th>Feature selection</th>\n",
       "      <th>MAE</th>\n",
       "      <th>MSE</th>\n",
       "      <th>MSLE</th>\n",
       "      <th>RMSE</th>\n",
       "      <th>RMSLE</th>\n",
       "      <th>R2-score</th>\n",
       "      <th>Adjusted R2-score</th>\n",
       "    </tr>\n",
       "  </thead>\n",
       "  <tbody>\n",
       "    <tr>\n",
       "      <th>0</th>\n",
       "      <td>1</td>\n",
       "      <td>decision_forest</td>\n",
       "      <td>lasso</td>\n",
       "      <td>3043.335467</td>\n",
       "      <td>2.704768e+07</td>\n",
       "      <td>0.227603</td>\n",
       "      <td>5200.738616</td>\n",
       "      <td>0.477078</td>\n",
       "      <td>0.823580</td>\n",
       "      <td>0.807211</td>\n",
       "    </tr>\n",
       "    <tr>\n",
       "      <th>1</th>\n",
       "      <td>2</td>\n",
       "      <td>decision_forest</td>\n",
       "      <td>rfe</td>\n",
       "      <td>4200.135217</td>\n",
       "      <td>3.343545e+07</td>\n",
       "      <td>0.491493</td>\n",
       "      <td>5782.339348</td>\n",
       "      <td>0.701066</td>\n",
       "      <td>0.781916</td>\n",
       "      <td>0.761681</td>\n",
       "    </tr>\n",
       "    <tr>\n",
       "      <th>2</th>\n",
       "      <td>3</td>\n",
       "      <td>knn</td>\n",
       "      <td>lasso</td>\n",
       "      <td>3834.866532</td>\n",
       "      <td>3.632309e+07</td>\n",
       "      <td>0.275992</td>\n",
       "      <td>6026.864077</td>\n",
       "      <td>0.525350</td>\n",
       "      <td>0.763081</td>\n",
       "      <td>0.741099</td>\n",
       "    </tr>\n",
       "    <tr>\n",
       "      <th>3</th>\n",
       "      <td>4</td>\n",
       "      <td>knn</td>\n",
       "      <td>pca</td>\n",
       "      <td>3708.025781</td>\n",
       "      <td>3.874729e+07</td>\n",
       "      <td>0.263428</td>\n",
       "      <td>6224.732015</td>\n",
       "      <td>0.513252</td>\n",
       "      <td>0.747269</td>\n",
       "      <td>0.729399</td>\n",
       "    </tr>\n",
       "    <tr>\n",
       "      <th>4</th>\n",
       "      <td>5</td>\n",
       "      <td>knn</td>\n",
       "      <td>rfe</td>\n",
       "      <td>3820.792418</td>\n",
       "      <td>3.922171e+07</td>\n",
       "      <td>0.261206</td>\n",
       "      <td>6262.723879</td>\n",
       "      <td>0.511084</td>\n",
       "      <td>0.744175</td>\n",
       "      <td>0.720438</td>\n",
       "    </tr>\n",
       "    <tr>\n",
       "      <th>5</th>\n",
       "      <td>6</td>\n",
       "      <td>decision_forest</td>\n",
       "      <td>pca</td>\n",
       "      <td>4147.400873</td>\n",
       "      <td>3.958853e+07</td>\n",
       "      <td>0.308471</td>\n",
       "      <td>6291.941488</td>\n",
       "      <td>0.555402</td>\n",
       "      <td>0.741782</td>\n",
       "      <td>0.723524</td>\n",
       "    </tr>\n",
       "    <tr>\n",
       "      <th>6</th>\n",
       "      <td>7</td>\n",
       "      <td>glm</td>\n",
       "      <td>lasso</td>\n",
       "      <td>4833.516532</td>\n",
       "      <td>4.030297e+07</td>\n",
       "      <td>0.359495</td>\n",
       "      <td>6348.462299</td>\n",
       "      <td>0.599579</td>\n",
       "      <td>0.737122</td>\n",
       "      <td>0.712731</td>\n",
       "    </tr>\n",
       "    <tr>\n",
       "      <th>7</th>\n",
       "      <td>8</td>\n",
       "      <td>glm</td>\n",
       "      <td>pca</td>\n",
       "      <td>5616.536292</td>\n",
       "      <td>5.197557e+07</td>\n",
       "      <td>0.451758</td>\n",
       "      <td>7209.408306</td>\n",
       "      <td>0.672130</td>\n",
       "      <td>0.660987</td>\n",
       "      <td>0.637016</td>\n",
       "    </tr>\n",
       "    <tr>\n",
       "      <th>8</th>\n",
       "      <td>9</td>\n",
       "      <td>glm</td>\n",
       "      <td>rfe</td>\n",
       "      <td>7275.914147</td>\n",
       "      <td>7.932505e+07</td>\n",
       "      <td>0.607235</td>\n",
       "      <td>8906.460909</td>\n",
       "      <td>0.779253</td>\n",
       "      <td>0.482599</td>\n",
       "      <td>0.434592</td>\n",
       "    </tr>\n",
       "    <tr>\n",
       "      <th>9</th>\n",
       "      <td>10</td>\n",
       "      <td>xgboost</td>\n",
       "      <td>rfe</td>\n",
       "      <td>7800.571845</td>\n",
       "      <td>1.019105e+08</td>\n",
       "      <td>2.238702</td>\n",
       "      <td>10095.071089</td>\n",
       "      <td>1.496229</td>\n",
       "      <td>0.335284</td>\n",
       "      <td>0.273609</td>\n",
       "    </tr>\n",
       "    <tr>\n",
       "      <th>10</th>\n",
       "      <td>11</td>\n",
       "      <td>svm</td>\n",
       "      <td>lasso</td>\n",
       "      <td>12929.882201</td>\n",
       "      <td>3.205924e+08</td>\n",
       "      <td>30.113117</td>\n",
       "      <td>17905.093306</td>\n",
       "      <td>5.487542</td>\n",
       "      <td>-1.091079</td>\n",
       "      <td>-1.285097</td>\n",
       "    </tr>\n",
       "    <tr>\n",
       "      <th>11</th>\n",
       "      <td>12</td>\n",
       "      <td>svm</td>\n",
       "      <td>pca</td>\n",
       "      <td>12954.285731</td>\n",
       "      <td>3.211217e+08</td>\n",
       "      <td>41.192920</td>\n",
       "      <td>17919.868327</td>\n",
       "      <td>6.418171</td>\n",
       "      <td>-1.094532</td>\n",
       "      <td>-1.242630</td>\n",
       "    </tr>\n",
       "    <tr>\n",
       "      <th>12</th>\n",
       "      <td>13</td>\n",
       "      <td>svm</td>\n",
       "      <td>rfe</td>\n",
       "      <td>12966.474025</td>\n",
       "      <td>3.214471e+08</td>\n",
       "      <td>56.587276</td>\n",
       "      <td>17928.945757</td>\n",
       "      <td>7.522451</td>\n",
       "      <td>-1.096654</td>\n",
       "      <td>-1.291189</td>\n",
       "    </tr>\n",
       "    <tr>\n",
       "      <th>13</th>\n",
       "      <td>14</td>\n",
       "      <td>xgboost</td>\n",
       "      <td>pca</td>\n",
       "      <td>46533.894896</td>\n",
       "      <td>3.552707e+09</td>\n",
       "      <td>0.652750</td>\n",
       "      <td>59604.591543</td>\n",
       "      <td>0.807930</td>\n",
       "      <td>-22.172705</td>\n",
       "      <td>-23.811179</td>\n",
       "    </tr>\n",
       "    <tr>\n",
       "      <th>14</th>\n",
       "      <td>15</td>\n",
       "      <td>xgboost</td>\n",
       "      <td>lasso</td>\n",
       "      <td>48948.173049</td>\n",
       "      <td>4.822692e+09</td>\n",
       "      <td>0.595728</td>\n",
       "      <td>69445.602658</td>\n",
       "      <td>0.771834</td>\n",
       "      <td>-30.456239</td>\n",
       "      <td>-33.374859</td>\n",
       "    </tr>\n",
       "  </tbody>\n",
       "</table>\n",
       "</div>"
      ],
      "text/plain": [
       "    Rank             Name Feature selection           MAE           MSE  \\\n",
       "0      1  decision_forest             lasso   3043.335467  2.704768e+07   \n",
       "1      2  decision_forest               rfe   4200.135217  3.343545e+07   \n",
       "2      3              knn             lasso   3834.866532  3.632309e+07   \n",
       "3      4              knn               pca   3708.025781  3.874729e+07   \n",
       "4      5              knn               rfe   3820.792418  3.922171e+07   \n",
       "5      6  decision_forest               pca   4147.400873  3.958853e+07   \n",
       "6      7              glm             lasso   4833.516532  4.030297e+07   \n",
       "7      8              glm               pca   5616.536292  5.197557e+07   \n",
       "8      9              glm               rfe   7275.914147  7.932505e+07   \n",
       "9     10          xgboost               rfe   7800.571845  1.019105e+08   \n",
       "10    11              svm             lasso  12929.882201  3.205924e+08   \n",
       "11    12              svm               pca  12954.285731  3.211217e+08   \n",
       "12    13              svm               rfe  12966.474025  3.214471e+08   \n",
       "13    14          xgboost               pca  46533.894896  3.552707e+09   \n",
       "14    15          xgboost             lasso  48948.173049  4.822692e+09   \n",
       "\n",
       "         MSLE          RMSE     RMSLE   R2-score  Adjusted R2-score  \n",
       "0    0.227603   5200.738616  0.477078   0.823580           0.807211  \n",
       "1    0.491493   5782.339348  0.701066   0.781916           0.761681  \n",
       "2    0.275992   6026.864077  0.525350   0.763081           0.741099  \n",
       "3    0.263428   6224.732015  0.513252   0.747269           0.729399  \n",
       "4    0.261206   6262.723879  0.511084   0.744175           0.720438  \n",
       "5    0.308471   6291.941488  0.555402   0.741782           0.723524  \n",
       "6    0.359495   6348.462299  0.599579   0.737122           0.712731  \n",
       "7    0.451758   7209.408306  0.672130   0.660987           0.637016  \n",
       "8    0.607235   8906.460909  0.779253   0.482599           0.434592  \n",
       "9    2.238702  10095.071089  1.496229   0.335284           0.273609  \n",
       "10  30.113117  17905.093306  5.487542  -1.091079          -1.285097  \n",
       "11  41.192920  17919.868327  6.418171  -1.094532          -1.242630  \n",
       "12  56.587276  17928.945757  7.522451  -1.096654          -1.291189  \n",
       "13   0.652750  59604.591543  0.807930 -22.172705         -23.811179  \n",
       "14   0.595728  69445.602658  0.771834 -30.456239         -33.374859  "
      ]
     },
     "metadata": {},
     "output_type": "display_data"
    },
    {
     "name": "stdout",
     "output_type": "stream",
     "text": [
      "                                                                                          \r"
     ]
    },
    {
     "data": {
      "text/html": [
       "\n",
       "            <style>\n",
       "                .custom-div {\n",
       "                    background-color: lightgray;\n",
       "                    color: #000000;\n",
       "                    padding: 10px;\n",
       "                    border-radius: 8px;\n",
       "                    box-shadow: 0 3px 4px rgba(0 -  0 -  0 -  0.2);\n",
       "                    margin-bottom: 10px;\n",
       "                    text-align: center;\n",
       "                }\n",
       "            </style>\n",
       "        <br><div class=\"custom-div\"><h3><span style=\"color: green;\">1. Feature Exploration -> 2. Feature Engineering -> 3. Data Preparation -> 4. Model Training & Evaluation</span><center></h3></center></div>"
      ],
      "text/plain": [
       "<IPython.core.display.HTML object>"
      ]
     },
     "metadata": {},
     "output_type": "display_data"
    },
    {
     "name": "stdout",
     "output_type": "stream",
     "text": [
      "Completed: ｜⫿⫿⫿⫿⫿⫿⫿⫿⫿⫿⫿⫿⫿⫿⫿⫿⫿⫿⫿⫿⫿⫿⫿⫿⫿⫿⫿⫿⫿⫿⫿⫿⫿⫿⫿⫿⫿⫿⫿⫿⫿⫿⫿⫿⫿⫿⫿⫿⫿⫿⫿⫿⫿⫿⫿⫿⫿⫿⫿⫿｜ 100% - 23/23    \r"
     ]
    }
   ],
   "source": [
    "# Fitting train data\n",
    "aml.fit(insurance_df_train, insurance_df_train.charges)"
   ]
  },
  {
   "cell_type": "markdown",
   "id": "23a04eb1-68e6-48b7-95aa-442f434809da",
   "metadata": {},
   "source": [
    "## <b><span style='color:#F1A424'>| 3.</span> Leaderboard : </b>"
   ]
  },
  {
   "cell_type": "code",
   "execution_count": 18,
   "id": "77de1099-6122-4f8a-8e7f-dd67e5b4ced4",
   "metadata": {},
   "outputs": [
    {
     "data": {
      "text/html": [
       "<div>\n",
       "<style scoped>\n",
       "    .dataframe tbody tr th:only-of-type {\n",
       "        vertical-align: middle;\n",
       "    }\n",
       "\n",
       "    .dataframe tbody tr th {\n",
       "        vertical-align: top;\n",
       "    }\n",
       "\n",
       "    .dataframe thead th {\n",
       "        text-align: right;\n",
       "    }\n",
       "</style>\n",
       "<table border=\"1\" class=\"dataframe\">\n",
       "  <thead>\n",
       "    <tr style=\"text-align: right;\">\n",
       "      <th></th>\n",
       "      <th>Rank</th>\n",
       "      <th>Name</th>\n",
       "      <th>Feature selection</th>\n",
       "      <th>MAE</th>\n",
       "      <th>MSE</th>\n",
       "      <th>MSLE</th>\n",
       "      <th>RMSE</th>\n",
       "      <th>RMSLE</th>\n",
       "      <th>R2-score</th>\n",
       "      <th>Adjusted R2-score</th>\n",
       "    </tr>\n",
       "  </thead>\n",
       "  <tbody>\n",
       "    <tr>\n",
       "      <th>0</th>\n",
       "      <td>1</td>\n",
       "      <td>decision_forest</td>\n",
       "      <td>lasso</td>\n",
       "      <td>3043.335467</td>\n",
       "      <td>2.704768e+07</td>\n",
       "      <td>0.227603</td>\n",
       "      <td>5200.738616</td>\n",
       "      <td>0.477078</td>\n",
       "      <td>0.823580</td>\n",
       "      <td>0.807211</td>\n",
       "    </tr>\n",
       "    <tr>\n",
       "      <th>1</th>\n",
       "      <td>2</td>\n",
       "      <td>decision_forest</td>\n",
       "      <td>rfe</td>\n",
       "      <td>4200.135217</td>\n",
       "      <td>3.343545e+07</td>\n",
       "      <td>0.491493</td>\n",
       "      <td>5782.339348</td>\n",
       "      <td>0.701066</td>\n",
       "      <td>0.781916</td>\n",
       "      <td>0.761681</td>\n",
       "    </tr>\n",
       "    <tr>\n",
       "      <th>2</th>\n",
       "      <td>3</td>\n",
       "      <td>knn</td>\n",
       "      <td>lasso</td>\n",
       "      <td>3834.866532</td>\n",
       "      <td>3.632309e+07</td>\n",
       "      <td>0.275992</td>\n",
       "      <td>6026.864077</td>\n",
       "      <td>0.525350</td>\n",
       "      <td>0.763081</td>\n",
       "      <td>0.741099</td>\n",
       "    </tr>\n",
       "    <tr>\n",
       "      <th>3</th>\n",
       "      <td>4</td>\n",
       "      <td>knn</td>\n",
       "      <td>pca</td>\n",
       "      <td>3708.025781</td>\n",
       "      <td>3.874729e+07</td>\n",
       "      <td>0.263428</td>\n",
       "      <td>6224.732015</td>\n",
       "      <td>0.513252</td>\n",
       "      <td>0.747269</td>\n",
       "      <td>0.729399</td>\n",
       "    </tr>\n",
       "    <tr>\n",
       "      <th>4</th>\n",
       "      <td>5</td>\n",
       "      <td>knn</td>\n",
       "      <td>rfe</td>\n",
       "      <td>3820.792418</td>\n",
       "      <td>3.922171e+07</td>\n",
       "      <td>0.261206</td>\n",
       "      <td>6262.723879</td>\n",
       "      <td>0.511084</td>\n",
       "      <td>0.744175</td>\n",
       "      <td>0.720438</td>\n",
       "    </tr>\n",
       "    <tr>\n",
       "      <th>5</th>\n",
       "      <td>6</td>\n",
       "      <td>decision_forest</td>\n",
       "      <td>pca</td>\n",
       "      <td>4147.400873</td>\n",
       "      <td>3.958853e+07</td>\n",
       "      <td>0.308471</td>\n",
       "      <td>6291.941488</td>\n",
       "      <td>0.555402</td>\n",
       "      <td>0.741782</td>\n",
       "      <td>0.723524</td>\n",
       "    </tr>\n",
       "    <tr>\n",
       "      <th>6</th>\n",
       "      <td>7</td>\n",
       "      <td>glm</td>\n",
       "      <td>lasso</td>\n",
       "      <td>4833.516532</td>\n",
       "      <td>4.030297e+07</td>\n",
       "      <td>0.359495</td>\n",
       "      <td>6348.462299</td>\n",
       "      <td>0.599579</td>\n",
       "      <td>0.737122</td>\n",
       "      <td>0.712731</td>\n",
       "    </tr>\n",
       "    <tr>\n",
       "      <th>7</th>\n",
       "      <td>8</td>\n",
       "      <td>glm</td>\n",
       "      <td>pca</td>\n",
       "      <td>5616.536292</td>\n",
       "      <td>5.197557e+07</td>\n",
       "      <td>0.451758</td>\n",
       "      <td>7209.408306</td>\n",
       "      <td>0.672130</td>\n",
       "      <td>0.660987</td>\n",
       "      <td>0.637016</td>\n",
       "    </tr>\n",
       "    <tr>\n",
       "      <th>8</th>\n",
       "      <td>9</td>\n",
       "      <td>glm</td>\n",
       "      <td>rfe</td>\n",
       "      <td>7275.914147</td>\n",
       "      <td>7.932505e+07</td>\n",
       "      <td>0.607235</td>\n",
       "      <td>8906.460909</td>\n",
       "      <td>0.779253</td>\n",
       "      <td>0.482599</td>\n",
       "      <td>0.434592</td>\n",
       "    </tr>\n",
       "    <tr>\n",
       "      <th>9</th>\n",
       "      <td>10</td>\n",
       "      <td>xgboost</td>\n",
       "      <td>rfe</td>\n",
       "      <td>7800.571845</td>\n",
       "      <td>1.019105e+08</td>\n",
       "      <td>2.238702</td>\n",
       "      <td>10095.071089</td>\n",
       "      <td>1.496229</td>\n",
       "      <td>0.335284</td>\n",
       "      <td>0.273609</td>\n",
       "    </tr>\n",
       "    <tr>\n",
       "      <th>10</th>\n",
       "      <td>11</td>\n",
       "      <td>svm</td>\n",
       "      <td>lasso</td>\n",
       "      <td>12929.882201</td>\n",
       "      <td>3.205924e+08</td>\n",
       "      <td>30.113117</td>\n",
       "      <td>17905.093306</td>\n",
       "      <td>5.487542</td>\n",
       "      <td>-1.091079</td>\n",
       "      <td>-1.285097</td>\n",
       "    </tr>\n",
       "    <tr>\n",
       "      <th>11</th>\n",
       "      <td>12</td>\n",
       "      <td>svm</td>\n",
       "      <td>pca</td>\n",
       "      <td>12954.285731</td>\n",
       "      <td>3.211217e+08</td>\n",
       "      <td>41.192920</td>\n",
       "      <td>17919.868327</td>\n",
       "      <td>6.418171</td>\n",
       "      <td>-1.094532</td>\n",
       "      <td>-1.242630</td>\n",
       "    </tr>\n",
       "    <tr>\n",
       "      <th>12</th>\n",
       "      <td>13</td>\n",
       "      <td>svm</td>\n",
       "      <td>rfe</td>\n",
       "      <td>12966.474025</td>\n",
       "      <td>3.214471e+08</td>\n",
       "      <td>56.587276</td>\n",
       "      <td>17928.945757</td>\n",
       "      <td>7.522451</td>\n",
       "      <td>-1.096654</td>\n",
       "      <td>-1.291189</td>\n",
       "    </tr>\n",
       "    <tr>\n",
       "      <th>13</th>\n",
       "      <td>14</td>\n",
       "      <td>xgboost</td>\n",
       "      <td>pca</td>\n",
       "      <td>46533.894896</td>\n",
       "      <td>3.552707e+09</td>\n",
       "      <td>0.652750</td>\n",
       "      <td>59604.591543</td>\n",
       "      <td>0.807930</td>\n",
       "      <td>-22.172705</td>\n",
       "      <td>-23.811179</td>\n",
       "    </tr>\n",
       "    <tr>\n",
       "      <th>14</th>\n",
       "      <td>15</td>\n",
       "      <td>xgboost</td>\n",
       "      <td>lasso</td>\n",
       "      <td>48948.173049</td>\n",
       "      <td>4.822692e+09</td>\n",
       "      <td>0.595728</td>\n",
       "      <td>69445.602658</td>\n",
       "      <td>0.771834</td>\n",
       "      <td>-30.456239</td>\n",
       "      <td>-33.374859</td>\n",
       "    </tr>\n",
       "  </tbody>\n",
       "</table>\n",
       "</div>"
      ],
      "text/plain": [
       "    Rank             Name Feature selection           MAE           MSE  \\\n",
       "0      1  decision_forest             lasso   3043.335467  2.704768e+07   \n",
       "1      2  decision_forest               rfe   4200.135217  3.343545e+07   \n",
       "2      3              knn             lasso   3834.866532  3.632309e+07   \n",
       "3      4              knn               pca   3708.025781  3.874729e+07   \n",
       "4      5              knn               rfe   3820.792418  3.922171e+07   \n",
       "5      6  decision_forest               pca   4147.400873  3.958853e+07   \n",
       "6      7              glm             lasso   4833.516532  4.030297e+07   \n",
       "7      8              glm               pca   5616.536292  5.197557e+07   \n",
       "8      9              glm               rfe   7275.914147  7.932505e+07   \n",
       "9     10          xgboost               rfe   7800.571845  1.019105e+08   \n",
       "10    11              svm             lasso  12929.882201  3.205924e+08   \n",
       "11    12              svm               pca  12954.285731  3.211217e+08   \n",
       "12    13              svm               rfe  12966.474025  3.214471e+08   \n",
       "13    14          xgboost               pca  46533.894896  3.552707e+09   \n",
       "14    15          xgboost             lasso  48948.173049  4.822692e+09   \n",
       "\n",
       "         MSLE          RMSE     RMSLE   R2-score  Adjusted R2-score  \n",
       "0    0.227603   5200.738616  0.477078   0.823580           0.807211  \n",
       "1    0.491493   5782.339348  0.701066   0.781916           0.761681  \n",
       "2    0.275992   6026.864077  0.525350   0.763081           0.741099  \n",
       "3    0.263428   6224.732015  0.513252   0.747269           0.729399  \n",
       "4    0.261206   6262.723879  0.511084   0.744175           0.720438  \n",
       "5    0.308471   6291.941488  0.555402   0.741782           0.723524  \n",
       "6    0.359495   6348.462299  0.599579   0.737122           0.712731  \n",
       "7    0.451758   7209.408306  0.672130   0.660987           0.637016  \n",
       "8    0.607235   8906.460909  0.779253   0.482599           0.434592  \n",
       "9    2.238702  10095.071089  1.496229   0.335284           0.273609  \n",
       "10  30.113117  17905.093306  5.487542  -1.091079          -1.285097  \n",
       "11  41.192920  17919.868327  6.418171  -1.094532          -1.242630  \n",
       "12  56.587276  17928.945757  7.522451  -1.096654          -1.291189  \n",
       "13   0.652750  59604.591543  0.807930 -22.172705         -23.811179  \n",
       "14   0.595728  69445.602658  0.771834 -30.456239         -33.374859  "
      ]
     },
     "execution_count": 18,
     "metadata": {},
     "output_type": "execute_result"
    }
   ],
   "source": [
    "# Fetching Leaderboard\n",
    "aml.leaderboard()"
   ]
  },
  {
   "cell_type": "markdown",
   "id": "a7a3aa08-e349-4a61-9217-2c17d50411d8",
   "metadata": {},
   "source": [
    "## <b><span style='color:#F1A424'>| 4.</span> Best Performing Model : </b>"
   ]
  },
  {
   "cell_type": "code",
   "execution_count": 19,
   "id": "c4c32832-a76b-4f42-826a-cefc38a6301b",
   "metadata": {},
   "outputs": [
    {
     "data": {
      "text/html": [
       "<div>\n",
       "<style scoped>\n",
       "    .dataframe tbody tr th:only-of-type {\n",
       "        vertical-align: middle;\n",
       "    }\n",
       "\n",
       "    .dataframe tbody tr th {\n",
       "        vertical-align: top;\n",
       "    }\n",
       "\n",
       "    .dataframe thead th {\n",
       "        text-align: right;\n",
       "    }\n",
       "</style>\n",
       "<table border=\"1\" class=\"dataframe\">\n",
       "  <thead>\n",
       "    <tr style=\"text-align: right;\">\n",
       "      <th></th>\n",
       "      <th>Rank</th>\n",
       "      <th>Name</th>\n",
       "      <th>Feature selection</th>\n",
       "      <th>MAE</th>\n",
       "      <th>MSE</th>\n",
       "      <th>MSLE</th>\n",
       "      <th>RMSE</th>\n",
       "      <th>RMSLE</th>\n",
       "      <th>R2-score</th>\n",
       "      <th>Adjusted R2-score</th>\n",
       "    </tr>\n",
       "  </thead>\n",
       "  <tbody>\n",
       "    <tr>\n",
       "      <th>0</th>\n",
       "      <td>1</td>\n",
       "      <td>decision_forest</td>\n",
       "      <td>lasso</td>\n",
       "      <td>3043.335467</td>\n",
       "      <td>2.704768e+07</td>\n",
       "      <td>0.227603</td>\n",
       "      <td>5200.738616</td>\n",
       "      <td>0.477078</td>\n",
       "      <td>0.82358</td>\n",
       "      <td>0.807211</td>\n",
       "    </tr>\n",
       "  </tbody>\n",
       "</table>\n",
       "</div>"
      ],
      "text/plain": [
       "   Rank             Name Feature selection          MAE           MSE  \\\n",
       "0     1  decision_forest             lasso  3043.335467  2.704768e+07   \n",
       "\n",
       "       MSLE         RMSE     RMSLE  R2-score  Adjusted R2-score  \n",
       "0  0.227603  5200.738616  0.477078   0.82358           0.807211  "
      ]
     },
     "metadata": {},
     "output_type": "display_data"
    }
   ],
   "source": [
    "# Fetching best performing model for dataset\n",
    "aml.leader()"
   ]
  },
  {
   "cell_type": "markdown",
   "id": "e43181a9-3847-4e8b-b510-6da81f1c550f",
   "metadata": {},
   "source": [
    "## <b><span style='color:#F1A424'>| 5.</span> Generating Prediction : </b>"
   ]
  },
  {
   "cell_type": "markdown",
   "id": "8bf3bed8-dbdd-4239-97da-f289559c785c",
   "metadata": {},
   "source": [
    "### <b><span style='color:#F1A424'>| 5.1.</span> Generating prediction on default validation test data </b>"
   ]
  },
  {
   "cell_type": "code",
   "execution_count": 20,
   "id": "27663268-da3c-4717-b675-6d3a6d6f8f37",
   "metadata": {},
   "outputs": [
    {
     "name": "stdout",
     "output_type": "stream",
     "text": [
      "decision_forest rfe\n",
      "\n",
      " Prediction : \n",
      "      charges    id    prediction  confidence_lower  confidence_upper\n",
      "0  11411.6850  1130   9394.224064       7327.929888      11460.518241\n",
      "1   6666.2430   385   8050.921001       6397.692735       9704.149268\n",
      "2  11033.6617   741   9290.141873       6975.640296      11604.643451\n",
      "3   6548.1951   198  10558.899417       8411.335647      12706.463187\n",
      "4   5615.3690   414  11193.321225       8138.093811      14248.548639\n",
      "5  17128.4261   503   8039.474264       6289.850267       9789.098261\n",
      "6   2459.7201   432   6755.366985       5233.724518       8277.009453\n",
      "7  10796.3502   220   7294.366296       5171.795589       9416.937002\n",
      "8  36580.2822   102  10033.349636       8041.387032      12025.312241\n",
      "9   8582.3023   559   8344.863833       7428.906880       9260.820785\n",
      "\n",
      " Performance Metrics : \n",
      "           MAE           MSE      MSLE       MAPE        MPE         RMSE     RMSLE            ME        R2        EV          MPD       MGD\n",
      "0  4200.135217  3.343545e+07  0.491493  78.892898 -55.871825  5782.339348  0.701066  26546.932564  0.781916  0.782008  3098.388144  0.414982\n"
     ]
    }
   ],
   "source": [
    "# Generating prediction and metrics on default test data\n",
    "prediction = aml.predict(rank=2)"
   ]
  },
  {
   "cell_type": "code",
   "execution_count": 21,
   "id": "742da363-550e-43e9-8c4b-d5feac54f522",
   "metadata": {},
   "outputs": [
    {
     "data": {
      "text/html": [
       "<style type=\"text/css\">\n",
       "\ttable {border:ridge 5px;}\n",
       "\ttable td {border:inset 1px;}\n",
       "\ttable tr#HeaderRow {background-color:grey; color:white;}</style>\n",
       "<html><table>\n",
       "\t<tr id=\"HeaderRow\">\n",
       "\t\t<th>charges</th>\n",
       "\t\t<th>id</th>\n",
       "\t\t<th>prediction</th>\n",
       "\t\t<th>confidence_lower</th>\n",
       "\t\t<th>confidence_upper</th>\n",
       "\t</tr>\n",
       "\t<tr>\n",
       "\t\t<td>1252.407</td>\n",
       "\t\t<td>219</td>\n",
       "\t\t<td>6048.838871184683</td>\n",
       "\t\t<td>4286.524429811982</td>\n",
       "\t\t<td>7811.153312557383</td>\n",
       "\t</tr>\n",
       "\t<tr>\n",
       "\t\t<td>1534.3045</td>\n",
       "\t\t<td>1435</td>\n",
       "\t\t<td>6089.145276028177</td>\n",
       "\t\t<td>4015.6913450933403</td>\n",
       "\t\t<td>8162.599206963014</td>\n",
       "\t</tr>\n",
       "\t<tr>\n",
       "\t\t<td>1632.5645</td>\n",
       "\t\t<td>99</td>\n",
       "\t\t<td>6458.689039164301</td>\n",
       "\t\t<td>4503.896238577454</td>\n",
       "\t\t<td>8413.481839751148</td>\n",
       "\t</tr>\n",
       "\t<tr>\n",
       "\t\t<td>1633.9618</td>\n",
       "\t\t<td>872</td>\n",
       "\t\t<td>6672.579272391447</td>\n",
       "\t\t<td>4835.520857058482</td>\n",
       "\t\t<td>8509.637687724413</td>\n",
       "\t</tr>\n",
       "\t<tr>\n",
       "\t\t<td>1877.9294</td>\n",
       "\t\t<td>472</td>\n",
       "\t\t<td>6906.8296804103065</td>\n",
       "\t\t<td>5167.011111895937</td>\n",
       "\t\t<td>8646.648248924677</td>\n",
       "\t</tr>\n",
       "\t<tr>\n",
       "\t\t<td>1909.5275</td>\n",
       "\t\t<td>1427</td>\n",
       "\t\t<td>6382.100484954478</td>\n",
       "\t\t<td>4617.601694425307</td>\n",
       "\t\t<td>8146.599275483649</td>\n",
       "\t</tr>\n",
       "\t<tr>\n",
       "\t\t<td>1731.677</td>\n",
       "\t\t<td>83</td>\n",
       "\t\t<td>6683.862810929995</td>\n",
       "\t\t<td>4986.082004316255</td>\n",
       "\t\t<td>8381.643617543736</td>\n",
       "\t</tr>\n",
       "\t<tr>\n",
       "\t\t<td>1526.312</td>\n",
       "\t\t<td>1475</td>\n",
       "\t\t<td>6328.527943076874</td>\n",
       "\t\t<td>4673.24904657526</td>\n",
       "\t\t<td>7983.8068395784885</td>\n",
       "\t</tr>\n",
       "\t<tr>\n",
       "\t\t<td>1137.4697</td>\n",
       "\t\t<td>752</td>\n",
       "\t\t<td>5772.963794934506</td>\n",
       "\t\t<td>3643.544790434683</td>\n",
       "\t\t<td>7902.382799434329</td>\n",
       "\t</tr>\n",
       "\t<tr>\n",
       "\t\t<td>1121.8739</td>\n",
       "\t\t<td>984</td>\n",
       "\t\t<td>7670.342083769855</td>\n",
       "\t\t<td>5223.266876161064</td>\n",
       "\t\t<td>10117.417291378646</td>\n",
       "\t</tr>\n",
       "</table></html>"
      ],
      "text/plain": [
       "     charges    id   prediction  confidence_lower  confidence_upper\n",
       "0  1252.4070   219  6048.838871       4286.524430       7811.153313\n",
       "1  1534.3045  1435  6089.145276       4015.691345       8162.599207\n",
       "2  1632.5645    99  6458.689039       4503.896239       8413.481840\n",
       "3  1633.9618   872  6672.579272       4835.520857       8509.637688\n",
       "4  1877.9294   472  6906.829680       5167.011112       8646.648249\n",
       "5  1909.5275  1427  6382.100485       4617.601694       8146.599275\n",
       "6  1731.6770    83  6683.862811       4986.082004       8381.643618\n",
       "7  1526.3120  1475  6328.527943       4673.249047       7983.806840\n",
       "8  1137.4697   752  5772.963795       3643.544790       7902.382799\n",
       "9  1121.8739   984  7670.342084       5223.266876      10117.417291"
      ]
     },
     "execution_count": 21,
     "metadata": {},
     "output_type": "execute_result"
    }
   ],
   "source": [
    "# Printing prediction\n",
    "prediction.head()"
   ]
  },
  {
   "cell_type": "markdown",
   "id": "ff38e5a7-70a4-4e80-9728-3b5e93b62344",
   "metadata": {},
   "source": [
    "### <b><span style='color:#F1A424'>| 5.2. </span> Generating prediction on external test data </b>"
   ]
  },
  {
   "cell_type": "code",
   "execution_count": 22,
   "id": "5b6edfe3-bd5a-46bd-ad80-b20fadfed7a0",
   "metadata": {},
   "outputs": [
    {
     "name": "stdout",
     "output_type": "stream",
     "text": [
      "Data Transformation started ...\n",
      "Performing transformation carried out in feature engineering phase ...\n",
      "result data stored in table '\"AUTOML_USR\".\"ml__td_sqlmr_persist_out__171286845572144\"'\n",
      "\n",
      "Updated dataset after performing customized equal width bin-code transformation :\n"
     ]
    },
    {
     "data": {
      "text/html": [
       "<style type=\"text/css\">\n",
       "\ttable {border:ridge 5px;}\n",
       "\ttable td {border:inset 1px;}\n",
       "\ttable tr#HeaderRow {background-color:grey; color:white;}</style>\n",
       "<html><table>\n",
       "\t<tr id=\"HeaderRow\">\n",
       "\t\t<th>smoker</th>\n",
       "\t\t<th>children</th>\n",
       "\t\t<th>sex</th>\n",
       "\t\t<th>charges</th>\n",
       "\t\t<th>region</th>\n",
       "\t\t<th>id</th>\n",
       "\t\t<th>bmi</th>\n",
       "\t\t<th>age</th>\n",
       "\t</tr>\n",
       "\t<tr>\n",
       "\t\t<td>yes</td>\n",
       "\t\t<td>2</td>\n",
       "\t\t<td>male</td>\n",
       "\t\t<td>39241.442</td>\n",
       "\t\t<td>southwest</td>\n",
       "\t\t<td>235</td>\n",
       "\t\t<td>37.8</td>\n",
       "\t\t<td>age_1</td>\n",
       "\t</tr>\n",
       "\t<tr>\n",
       "\t\t<td>yes</td>\n",
       "\t\t<td>0</td>\n",
       "\t\t<td>female</td>\n",
       "\t\t<td>23065.4207</td>\n",
       "\t\t<td>southeast</td>\n",
       "\t\t<td>275</td>\n",
       "\t\t<td>27.83</td>\n",
       "\t\t<td>age_2</td>\n",
       "\t</tr>\n",
       "\t<tr>\n",
       "\t\t<td>yes</td>\n",
       "\t\t<td>1</td>\n",
       "\t\t<td>female</td>\n",
       "\t\t<td>42969.8527</td>\n",
       "\t\t<td>southeast</td>\n",
       "\t\t<td>291</td>\n",
       "\t\t<td>36.63</td>\n",
       "\t\t<td>age_2</td>\n",
       "\t</tr>\n",
       "\t<tr>\n",
       "\t\t<td>yes</td>\n",
       "\t\t<td>0</td>\n",
       "\t\t<td>male</td>\n",
       "\t\t<td>41676.0811</td>\n",
       "\t\t<td>southeast</td>\n",
       "\t\t<td>307</td>\n",
       "\t\t<td>36.19</td>\n",
       "\t\t<td>age_2</td>\n",
       "\t</tr>\n",
       "\t<tr>\n",
       "\t\t<td>yes</td>\n",
       "\t\t<td>1</td>\n",
       "\t\t<td>male</td>\n",
       "\t\t<td>28868.6639</td>\n",
       "\t\t<td>northwest</td>\n",
       "\t\t<td>30</td>\n",
       "\t\t<td>28.31</td>\n",
       "\t\t<td>age_3</td>\n",
       "\t</tr>\n",
       "\t<tr>\n",
       "\t\t<td>yes</td>\n",
       "\t\t<td>3</td>\n",
       "\t\t<td>female</td>\n",
       "\t\t<td>30942.1918</td>\n",
       "\t\t<td>southeast</td>\n",
       "\t\t<td>62</td>\n",
       "\t\t<td>29.92</td>\n",
       "\t\t<td>age_3</td>\n",
       "\t</tr>\n",
       "\t<tr>\n",
       "\t\t<td>no</td>\n",
       "\t\t<td>1</td>\n",
       "\t\t<td>female</td>\n",
       "\t\t<td>2331.519</td>\n",
       "\t\t<td>southwest</td>\n",
       "\t\t<td>51</td>\n",
       "\t\t<td>28.4</td>\n",
       "\t\t<td>age_1</td>\n",
       "\t</tr>\n",
       "\t<tr>\n",
       "\t\t<td>no</td>\n",
       "\t\t<td>0</td>\n",
       "\t\t<td>male</td>\n",
       "\t\t<td>1639.5631</td>\n",
       "\t\t<td>northwest</td>\n",
       "\t\t<td>67</td>\n",
       "\t\t<td>30.59</td>\n",
       "\t\t<td>age_1</td>\n",
       "\t</tr>\n",
       "\t<tr>\n",
       "\t\t<td>no</td>\n",
       "\t\t<td>0</td>\n",
       "\t\t<td>female</td>\n",
       "\t\t<td>1737.376</td>\n",
       "\t\t<td>southwest</td>\n",
       "\t\t<td>75</td>\n",
       "\t\t<td>24.7</td>\n",
       "\t\t<td>age_1</td>\n",
       "\t</tr>\n",
       "\t<tr>\n",
       "\t\t<td>no</td>\n",
       "\t\t<td>0</td>\n",
       "\t\t<td>male</td>\n",
       "\t\t<td>1253.936</td>\n",
       "\t\t<td>southwest</td>\n",
       "\t\t<td>83</td>\n",
       "\t\t<td>28.7</td>\n",
       "\t\t<td>age_1</td>\n",
       "\t</tr>\n",
       "</table></html>"
      ],
      "text/plain": [
       "        children     sex     charges     region   id    bmi    age\n",
       "smoker                                                            \n",
       "yes            2    male  39241.4420  southwest  235  37.80  age_1\n",
       "yes            0  female  23065.4207  southeast  275  27.83  age_2\n",
       "yes            1  female  42969.8527  southeast  291  36.63  age_2\n",
       "yes            0    male  41676.0811  southeast  307  36.19  age_2\n",
       "yes            1    male  28868.6639  northwest   30  28.31  age_3\n",
       "yes            3  female  30942.1918  southeast   62  29.92  age_3\n",
       "no             1  female   2331.5190  southwest   51  28.40  age_1\n",
       "no             0    male   1639.5631  northwest   67  30.59  age_1\n",
       "no             0  female   1737.3760  southwest   75  24.70  age_1\n",
       "no             0    male   1253.9360  southwest   83  28.70  age_1"
      ]
     },
     "metadata": {},
     "output_type": "display_data"
    },
    {
     "name": "stdout",
     "output_type": "stream",
     "text": [
      "result data stored in table '\"AUTOML_USR\".\"ml__td_sqlmr_persist_out__171286625576438\"'\n",
      "\n",
      "Updated dataset after performing customized categorical encoding :\n"
     ]
    },
    {
     "data": {
      "text/html": [
       "<style type=\"text/css\">\n",
       "\ttable {border:ridge 5px;}\n",
       "\ttable td {border:inset 1px;}\n",
       "\ttable tr#HeaderRow {background-color:grey; color:white;}</style>\n",
       "<html><table>\n",
       "\t<tr id=\"HeaderRow\">\n",
       "\t\t<th>region</th>\n",
       "\t\t<th>smoker</th>\n",
       "\t\t<th>children</th>\n",
       "\t\t<th>sex</th>\n",
       "\t\t<th>charges</th>\n",
       "\t\t<th>age</th>\n",
       "\t\t<th>id</th>\n",
       "\t\t<th>bmi</th>\n",
       "\t</tr>\n",
       "\t<tr>\n",
       "\t\t<td>12774.780611628787</td>\n",
       "\t\t<td>no</td>\n",
       "\t\t<td>0</td>\n",
       "\t\t<td>male</td>\n",
       "\t\t<td>9869.8102</td>\n",
       "\t\t<td>age_3</td>\n",
       "\t\t<td>179</td>\n",
       "\t\t<td>28.88</td>\n",
       "\t</tr>\n",
       "\t<tr>\n",
       "\t\t<td>12774.780611628787</td>\n",
       "\t\t<td>no</td>\n",
       "\t\t<td>2</td>\n",
       "\t\t<td>female</td>\n",
       "\t\t<td>3579.8287</td>\n",
       "\t\t<td>age_1</td>\n",
       "\t\t<td>379</td>\n",
       "\t\t<td>33.63</td>\n",
       "\t</tr>\n",
       "\t<tr>\n",
       "\t\t<td>12774.780611628787</td>\n",
       "\t\t<td>no</td>\n",
       "\t\t<td>2</td>\n",
       "\t\t<td>male</td>\n",
       "\t\t<td>14119.62</td>\n",
       "\t\t<td>age_3</td>\n",
       "\t\t<td>22</td>\n",
       "\t\t<td>32.3</td>\n",
       "\t</tr>\n",
       "\t<tr>\n",
       "\t\t<td>12774.780611628787</td>\n",
       "\t\t<td>no</td>\n",
       "\t\t<td>0</td>\n",
       "\t\t<td>female</td>\n",
       "\t\t<td>13429.0354</td>\n",
       "\t\t<td>age_3</td>\n",
       "\t\t<td>46</td>\n",
       "\t\t<td>31.16</td>\n",
       "\t</tr>\n",
       "\t<tr>\n",
       "\t\t<td>12774.780611628787</td>\n",
       "\t\t<td>no</td>\n",
       "\t\t<td>0</td>\n",
       "\t\t<td>male</td>\n",
       "\t\t<td>10231.4999</td>\n",
       "\t\t<td>age_3</td>\n",
       "\t\t<td>174</td>\n",
       "\t\t<td>30.21</td>\n",
       "\t</tr>\n",
       "\t<tr>\n",
       "\t\t<td>12774.780611628787</td>\n",
       "\t\t<td>no</td>\n",
       "\t\t<td>3</td>\n",
       "\t\t<td>female</td>\n",
       "\t\t<td>12475.3513</td>\n",
       "\t\t<td>age_3</td>\n",
       "\t\t<td>182</td>\n",
       "\t\t<td>21.47</td>\n",
       "\t</tr>\n",
       "\t<tr>\n",
       "\t\t<td>12774.780611628787</td>\n",
       "\t\t<td>no</td>\n",
       "\t\t<td>0</td>\n",
       "\t\t<td>female</td>\n",
       "\t\t<td>5267.81815</td>\n",
       "\t\t<td>age_2</td>\n",
       "\t\t<td>70</td>\n",
       "\t\t<td>26.885</td>\n",
       "\t</tr>\n",
       "\t<tr>\n",
       "\t\t<td>12774.780611628787</td>\n",
       "\t\t<td>no</td>\n",
       "\t\t<td>1</td>\n",
       "\t\t<td>male</td>\n",
       "\t\t<td>4032.2407</td>\n",
       "\t\t<td>age_1</td>\n",
       "\t\t<td>251</td>\n",
       "\t\t<td>24.13</td>\n",
       "\t</tr>\n",
       "\t<tr>\n",
       "\t\t<td>12774.780611628787</td>\n",
       "\t\t<td>no</td>\n",
       "\t\t<td>0</td>\n",
       "\t\t<td>male</td>\n",
       "\t\t<td>12124.9924</td>\n",
       "\t\t<td>age_3</td>\n",
       "\t\t<td>147</td>\n",
       "\t\t<td>25.46</td>\n",
       "\t</tr>\n",
       "\t<tr>\n",
       "\t\t<td>12774.780611628787</td>\n",
       "\t\t<td>no</td>\n",
       "\t\t<td>1</td>\n",
       "\t\t<td>female</td>\n",
       "\t\t<td>2730.10785</td>\n",
       "\t\t<td>age_1</td>\n",
       "\t\t<td>107</td>\n",
       "\t\t<td>39.615</td>\n",
       "\t</tr>\n",
       "</table></html>"
      ],
      "text/plain": [
       "             smoker  children     sex      charges    age   id     bmi\n",
       "region                                                                \n",
       "12774.780612     no         0    male   9869.81020  age_3  179  28.880\n",
       "12774.780612     no         2  female   3579.82870  age_1  379  33.630\n",
       "12774.780612     no         2    male  14119.62000  age_3   22  32.300\n",
       "12774.780612     no         0  female  13429.03540  age_3   46  31.160\n",
       "12774.780612     no         0    male  10231.49990  age_3  174  30.210\n",
       "12774.780612     no         3  female  12475.35130  age_3  182  21.470\n",
       "12774.780612     no         0  female   5267.81815  age_2   70  26.885\n",
       "12774.780612     no         1    male   4032.24070  age_1  251  24.130\n",
       "12774.780612     no         0    male  12124.99240  age_3  147  25.460\n",
       "12774.780612     no         1  female   2730.10785  age_1  107  39.615"
      ]
     },
     "metadata": {},
     "output_type": "display_data"
    },
    {
     "name": "stdout",
     "output_type": "stream",
     "text": [
      "result data stored in table '\"AUTOML_USR\".\"ml__td_sqlmr_persist_out__171291453201674\"'\n",
      "\n",
      "Updated dataset after performing categorical encoding :\n"
     ]
    },
    {
     "data": {
      "text/html": [
       "<style type=\"text/css\">\n",
       "\ttable {border:ridge 5px;}\n",
       "\ttable td {border:inset 1px;}\n",
       "\ttable tr#HeaderRow {background-color:grey; color:white;}</style>\n",
       "<html><table>\n",
       "\t<tr id=\"HeaderRow\">\n",
       "\t\t<th>region</th>\n",
       "\t\t<th>smoker_0</th>\n",
       "\t\t<th>smoker_1</th>\n",
       "\t\t<th>children</th>\n",
       "\t\t<th>sex_0</th>\n",
       "\t\t<th>sex_1</th>\n",
       "\t\t<th>charges</th>\n",
       "\t\t<th>age_0</th>\n",
       "\t\t<th>age_1</th>\n",
       "\t\t<th>age_2</th>\n",
       "\t\t<th>id</th>\n",
       "\t\t<th>bmi</th>\n",
       "\t</tr>\n",
       "\t<tr>\n",
       "\t\t<td>12774.780611628787</td>\n",
       "\t\t<td>1</td>\n",
       "\t\t<td>0</td>\n",
       "\t\t<td>2</td>\n",
       "\t\t<td>0</td>\n",
       "\t\t<td>1</td>\n",
       "\t\t<td>14119.62</td>\n",
       "\t\t<td>0</td>\n",
       "\t\t<td>0</td>\n",
       "\t\t<td>1</td>\n",
       "\t\t<td>22</td>\n",
       "\t\t<td>32.3</td>\n",
       "\t</tr>\n",
       "\t<tr>\n",
       "\t\t<td>12774.780611628787</td>\n",
       "\t\t<td>1</td>\n",
       "\t\t<td>0</td>\n",
       "\t\t<td>0</td>\n",
       "\t\t<td>0</td>\n",
       "\t\t<td>1</td>\n",
       "\t\t<td>10231.4999</td>\n",
       "\t\t<td>0</td>\n",
       "\t\t<td>0</td>\n",
       "\t\t<td>1</td>\n",
       "\t\t<td>174</td>\n",
       "\t\t<td>30.21</td>\n",
       "\t</tr>\n",
       "\t<tr>\n",
       "\t\t<td>12774.780611628787</td>\n",
       "\t\t<td>1</td>\n",
       "\t\t<td>0</td>\n",
       "\t\t<td>3</td>\n",
       "\t\t<td>1</td>\n",
       "\t\t<td>0</td>\n",
       "\t\t<td>12475.3513</td>\n",
       "\t\t<td>0</td>\n",
       "\t\t<td>0</td>\n",
       "\t\t<td>1</td>\n",
       "\t\t<td>182</td>\n",
       "\t\t<td>21.47</td>\n",
       "\t</tr>\n",
       "\t<tr>\n",
       "\t\t<td>12774.780611628787</td>\n",
       "\t\t<td>1</td>\n",
       "\t\t<td>0</td>\n",
       "\t\t<td>0</td>\n",
       "\t\t<td>0</td>\n",
       "\t\t<td>1</td>\n",
       "\t\t<td>24476.47851</td>\n",
       "\t\t<td>0</td>\n",
       "\t\t<td>0</td>\n",
       "\t\t<td>1</td>\n",
       "\t\t<td>206</td>\n",
       "\t\t<td>30.02</td>\n",
       "\t</tr>\n",
       "\t<tr>\n",
       "\t\t<td>12774.780611628787</td>\n",
       "\t\t<td>1</td>\n",
       "\t\t<td>0</td>\n",
       "\t\t<td>0</td>\n",
       "\t\t<td>1</td>\n",
       "\t\t<td>0</td>\n",
       "\t\t<td>7421.19455</td>\n",
       "\t\t<td>0</td>\n",
       "\t\t<td>1</td>\n",
       "\t\t<td>0</td>\n",
       "\t\t<td>302</td>\n",
       "\t\t<td>27.645</td>\n",
       "\t</tr>\n",
       "\t<tr>\n",
       "\t\t<td>12774.780611628787</td>\n",
       "\t\t<td>1</td>\n",
       "\t\t<td>0</td>\n",
       "\t\t<td>2</td>\n",
       "\t\t<td>1</td>\n",
       "\t\t<td>0</td>\n",
       "\t\t<td>8017.06115</td>\n",
       "\t\t<td>0</td>\n",
       "\t\t<td>1</td>\n",
       "\t\t<td>0</td>\n",
       "\t\t<td>350</td>\n",
       "\t\t<td>24.985</td>\n",
       "\t</tr>\n",
       "\t<tr>\n",
       "\t\t<td>14478.822716027873</td>\n",
       "\t\t<td>1</td>\n",
       "\t\t<td>0</td>\n",
       "\t\t<td>0</td>\n",
       "\t\t<td>1</td>\n",
       "\t\t<td>0</td>\n",
       "\t\t<td>17929.30337</td>\n",
       "\t\t<td>0</td>\n",
       "\t\t<td>1</td>\n",
       "\t\t<td>0</td>\n",
       "\t\t<td>339</td>\n",
       "\t\t<td>31.79</td>\n",
       "\t</tr>\n",
       "\t<tr>\n",
       "\t\t<td>14478.822716027873</td>\n",
       "\t\t<td>1</td>\n",
       "\t\t<td>0</td>\n",
       "\t\t<td>2</td>\n",
       "\t\t<td>1</td>\n",
       "\t\t<td>0</td>\n",
       "\t\t<td>4340.4409</td>\n",
       "\t\t<td>1</td>\n",
       "\t\t<td>0</td>\n",
       "\t\t<td>0</td>\n",
       "\t\t<td>118</td>\n",
       "\t\t<td>26.51</td>\n",
       "\t</tr>\n",
       "\t<tr>\n",
       "\t\t<td>14478.822716027873</td>\n",
       "\t\t<td>1</td>\n",
       "\t\t<td>0</td>\n",
       "\t\t<td>0</td>\n",
       "\t\t<td>1</td>\n",
       "\t\t<td>0</td>\n",
       "\t\t<td>3171.6149</td>\n",
       "\t\t<td>1</td>\n",
       "\t\t<td>0</td>\n",
       "\t\t<td>0</td>\n",
       "\t\t<td>134</td>\n",
       "\t\t<td>33.11</td>\n",
       "\t</tr>\n",
       "\t<tr>\n",
       "\t\t<td>14478.822716027873</td>\n",
       "\t\t<td>1</td>\n",
       "\t\t<td>0</td>\n",
       "\t\t<td>0</td>\n",
       "\t\t<td>1</td>\n",
       "\t\t<td>0</td>\n",
       "\t\t<td>24227.33724</td>\n",
       "\t\t<td>0</td>\n",
       "\t\t<td>0</td>\n",
       "\t\t<td>1</td>\n",
       "\t\t<td>150</td>\n",
       "\t\t<td>41.91</td>\n",
       "\t</tr>\n",
       "</table></html>"
      ],
      "text/plain": [
       "              smoker_0  smoker_1  children  sex_0  sex_1      charges  age_0  age_1  age_2   id     bmi\n",
       "region                                                                                                 \n",
       "12774.780612         1         0         2      0      1  14119.62000      0      0      1   22  32.300\n",
       "12774.780612         1         0         0      0      1  10231.49990      0      0      1  174  30.210\n",
       "12774.780612         1         0         3      1      0  12475.35130      0      0      1  182  21.470\n",
       "12774.780612         1         0         0      0      1  24476.47851      0      0      1  206  30.020\n",
       "12774.780612         1         0         0      1      0   7421.19455      0      1      0  302  27.645\n",
       "12774.780612         1         0         2      1      0   8017.06115      0      1      0  350  24.985\n",
       "14478.822716         1         0         0      1      0  17929.30337      0      1      0  339  31.790\n",
       "14478.822716         1         0         2      1      0   4340.44090      1      0      0  118  26.510\n",
       "14478.822716         1         0         0      1      0   3171.61490      1      0      0  134  33.110\n",
       "14478.822716         1         0         0      1      0  24227.33724      0      0      1  150  41.910"
      ]
     },
     "metadata": {},
     "output_type": "display_data"
    },
    {
     "name": "stdout",
     "output_type": "stream",
     "text": [
      "Performing transformation carried out in data preparation phase ...\n",
      "result data stored in table '\"AUTOML_USR\".\"ml__td_sqlmr_persist_out__171287452344413\"'\n",
      "\n",
      "Updated dataset after performing Lasso feature selection:\n"
     ]
    },
    {
     "data": {
      "text/html": [
       "<style type=\"text/css\">\n",
       "\ttable {border:ridge 5px;}\n",
       "\ttable td {border:inset 1px;}\n",
       "\ttable tr#HeaderRow {background-color:grey; color:white;}</style>\n",
       "<html><table>\n",
       "\t<tr id=\"HeaderRow\">\n",
       "\t\t<th>id</th>\n",
       "\t\t<th>children</th>\n",
       "\t\t<th>sex_0</th>\n",
       "\t\t<th>smoker_1</th>\n",
       "\t\t<th>age_0</th>\n",
       "\t\t<th>smoker_0</th>\n",
       "\t\t<th>age_2</th>\n",
       "\t\t<th>sex_1</th>\n",
       "\t\t<th>region</th>\n",
       "\t\t<th>bmi</th>\n",
       "\t\t<th>charges</th>\n",
       "\t</tr>\n",
       "\t<tr>\n",
       "\t\t<td>159</td>\n",
       "\t\t<td>5</td>\n",
       "\t\t<td>1</td>\n",
       "\t\t<td>0</td>\n",
       "\t\t<td>0</td>\n",
       "\t\t<td>1</td>\n",
       "\t\t<td>0</td>\n",
       "\t\t<td>0</td>\n",
       "\t\t<td>14478.8227</td>\n",
       "\t\t<td>34.32</td>\n",
       "\t\t<td>8596.8278</td>\n",
       "\t</tr>\n",
       "\t<tr>\n",
       "\t\t<td>262</td>\n",
       "\t\t<td>1</td>\n",
       "\t\t<td>0</td>\n",
       "\t\t<td>0</td>\n",
       "\t\t<td>0</td>\n",
       "\t\t<td>1</td>\n",
       "\t\t<td>0</td>\n",
       "\t\t<td>1</td>\n",
       "\t\t<td>12774.7806</td>\n",
       "\t\t<td>25.365</td>\n",
       "\t\t<td>7518.0253</td>\n",
       "\t</tr>\n",
       "\t<tr>\n",
       "\t\t<td>114</td>\n",
       "\t\t<td>1</td>\n",
       "\t\t<td>0</td>\n",
       "\t\t<td>0</td>\n",
       "\t\t<td>0</td>\n",
       "\t\t<td>1</td>\n",
       "\t\t<td>1</td>\n",
       "\t\t<td>1</td>\n",
       "\t\t<td>12777.7093</td>\n",
       "\t\t<td>43.7</td>\n",
       "\t\t<td>11576.13</td>\n",
       "\t</tr>\n",
       "\t<tr>\n",
       "\t\t<td>141</td>\n",
       "\t\t<td>1</td>\n",
       "\t\t<td>0</td>\n",
       "\t\t<td>0</td>\n",
       "\t\t<td>0</td>\n",
       "\t\t<td>1</td>\n",
       "\t\t<td>0</td>\n",
       "\t\t<td>1</td>\n",
       "\t\t<td>12774.7806</td>\n",
       "\t\t<td>36.67</td>\n",
       "\t\t<td>28468.919</td>\n",
       "\t</tr>\n",
       "\t<tr>\n",
       "\t\t<td>146</td>\n",
       "\t\t<td>1</td>\n",
       "\t\t<td>0</td>\n",
       "\t\t<td>0</td>\n",
       "\t\t<td>1</td>\n",
       "\t\t<td>1</td>\n",
       "\t\t<td>0</td>\n",
       "\t\t<td>1</td>\n",
       "\t\t<td>12774.7806</td>\n",
       "\t\t<td>28.31</td>\n",
       "\t\t<td>2639.0429</td>\n",
       "\t</tr>\n",
       "\t<tr>\n",
       "\t\t<td>63</td>\n",
       "\t\t<td>1</td>\n",
       "\t\t<td>0</td>\n",
       "\t\t<td>0</td>\n",
       "\t\t<td>0</td>\n",
       "\t\t<td>1</td>\n",
       "\t\t<td>1</td>\n",
       "\t\t<td>1</td>\n",
       "\t\t<td>14478.8227</td>\n",
       "\t\t<td>35.97</td>\n",
       "\t\t<td>9386.1613</td>\n",
       "\t</tr>\n",
       "\t<tr>\n",
       "\t\t<td>336</td>\n",
       "\t\t<td>4</td>\n",
       "\t\t<td>0</td>\n",
       "\t\t<td>0</td>\n",
       "\t\t<td>1</td>\n",
       "\t\t<td>1</td>\n",
       "\t\t<td>0</td>\n",
       "\t\t<td>1</td>\n",
       "\t\t<td>12774.7806</td>\n",
       "\t\t<td>26.695</td>\n",
       "\t\t<td>4877.9811</td>\n",
       "\t</tr>\n",
       "\t<tr>\n",
       "\t\t<td>174</td>\n",
       "\t\t<td>0</td>\n",
       "\t\t<td>0</td>\n",
       "\t\t<td>0</td>\n",
       "\t\t<td>0</td>\n",
       "\t\t<td>1</td>\n",
       "\t\t<td>1</td>\n",
       "\t\t<td>1</td>\n",
       "\t\t<td>12774.7806</td>\n",
       "\t\t<td>30.21</td>\n",
       "\t\t<td>10231.4999</td>\n",
       "\t</tr>\n",
       "\t<tr>\n",
       "\t\t<td>302</td>\n",
       "\t\t<td>0</td>\n",
       "\t\t<td>1</td>\n",
       "\t\t<td>0</td>\n",
       "\t\t<td>0</td>\n",
       "\t\t<td>1</td>\n",
       "\t\t<td>0</td>\n",
       "\t\t<td>0</td>\n",
       "\t\t<td>12774.7806</td>\n",
       "\t\t<td>27.645</td>\n",
       "\t\t<td>7421.1946</td>\n",
       "\t</tr>\n",
       "\t<tr>\n",
       "\t\t<td>9</td>\n",
       "\t\t<td>0</td>\n",
       "\t\t<td>0</td>\n",
       "\t\t<td>0</td>\n",
       "\t\t<td>0</td>\n",
       "\t\t<td>1</td>\n",
       "\t\t<td>0</td>\n",
       "\t\t<td>1</td>\n",
       "\t\t<td>12774.7806</td>\n",
       "\t\t<td>35.815</td>\n",
       "\t\t<td>4320.4109</td>\n",
       "\t</tr>\n",
       "</table></html>"
      ],
      "text/plain": [
       "           id  sex_0  smoker_1  age_0  smoker_0  age_2  sex_1      region     bmi     charges\n",
       "children                                                                                     \n",
       "5         159      1         0      0         1      0      0  14478.8227  34.320   8596.8278\n",
       "1         262      0         0      0         1      0      1  12774.7806  25.365   7518.0253\n",
       "1         114      0         0      0         1      1      1  12777.7093  43.700  11576.1300\n",
       "1         141      0         0      0         1      0      1  12774.7806  36.670  28468.9190\n",
       "1         146      0         0      1         1      0      1  12774.7806  28.310   2639.0429\n",
       "1          63      0         0      0         1      1      1  14478.8227  35.970   9386.1613\n",
       "4         336      0         0      1         1      0      1  12774.7806  26.695   4877.9811\n",
       "0         174      0         0      0         1      1      1  12774.7806  30.210  10231.4999\n",
       "0         302      1         0      0         1      0      0  12774.7806  27.645   7421.1946\n",
       "0           9      0         0      0         1      0      1  12774.7806  35.815   4320.4109"
      ]
     },
     "metadata": {},
     "output_type": "display_data"
    },
    {
     "name": "stdout",
     "output_type": "stream",
     "text": [
      "\n",
      "Updated dataset after performing scaling on Lasso selected features :\n"
     ]
    },
    {
     "data": {
      "text/html": [
       "<style type=\"text/css\">\n",
       "\ttable {border:ridge 5px;}\n",
       "\ttable td {border:inset 1px;}\n",
       "\ttable tr#HeaderRow {background-color:grey; color:white;}</style>\n",
       "<html><table>\n",
       "\t<tr id=\"HeaderRow\">\n",
       "\t\t<th>charges</th>\n",
       "\t\t<th>sex_0</th>\n",
       "\t\t<th>age_0</th>\n",
       "\t\t<th>age_2</th>\n",
       "\t\t<th>smoker_0</th>\n",
       "\t\t<th>smoker_1</th>\n",
       "\t\t<th>id</th>\n",
       "\t\t<th>sex_1</th>\n",
       "\t\t<th>children</th>\n",
       "\t\t<th>region</th>\n",
       "\t\t<th>bmi</th>\n",
       "\t</tr>\n",
       "\t<tr>\n",
       "\t\t<td>4618.0799</td>\n",
       "\t\t<td>1</td>\n",
       "\t\t<td>1</td>\n",
       "\t\t<td>0</td>\n",
       "\t\t<td>1</td>\n",
       "\t\t<td>0</td>\n",
       "\t\t<td>103</td>\n",
       "\t\t<td>0</td>\n",
       "\t\t<td>0.2</td>\n",
       "\t\t<td>-1.000000000000001</td>\n",
       "\t\t<td>-0.06771344455348381</td>\n",
       "\t</tr>\n",
       "\t<tr>\n",
       "\t\t<td>27941.2876</td>\n",
       "\t\t<td>0</td>\n",
       "\t\t<td>0</td>\n",
       "\t\t<td>1</td>\n",
       "\t\t<td>1</td>\n",
       "\t\t<td>0</td>\n",
       "\t\t<td>38</td>\n",
       "\t\t<td>1</td>\n",
       "\t\t<td>0.2</td>\n",
       "\t\t<td>-0.9965626436107424</td>\n",
       "\t\t<td>0.31763166503107626</td>\n",
       "\t</tr>\n",
       "\t<tr>\n",
       "\t\t<td>12105.32</td>\n",
       "\t\t<td>1</td>\n",
       "\t\t<td>0</td>\n",
       "\t\t<td>1</td>\n",
       "\t\t<td>1</td>\n",
       "\t\t<td>0</td>\n",
       "\t\t<td>214</td>\n",
       "\t\t<td>0</td>\n",
       "\t\t<td>0.2</td>\n",
       "\t\t<td>-0.9965626436107424</td>\n",
       "\t\t<td>-0.029113509977101753</td>\n",
       "\t</tr>\n",
       "\t<tr>\n",
       "\t\t<td>6196.448</td>\n",
       "\t\t<td>1</td>\n",
       "\t\t<td>0</td>\n",
       "\t\t<td>0</td>\n",
       "\t\t<td>1</td>\n",
       "\t\t<td>0</td>\n",
       "\t\t<td>17</td>\n",
       "\t\t<td>0</td>\n",
       "\t\t<td>0.2</td>\n",
       "\t\t<td>-0.9965626436107424</td>\n",
       "\t\t<td>0.44193653909061165</td>\n",
       "\t</tr>\n",
       "\t<tr>\n",
       "\t\t<td>4234.927</td>\n",
       "\t\t<td>1</td>\n",
       "\t\t<td>1</td>\n",
       "\t\t<td>0</td>\n",
       "\t\t<td>1</td>\n",
       "\t\t<td>0</td>\n",
       "\t\t<td>127</td>\n",
       "\t\t<td>0</td>\n",
       "\t\t<td>0.2</td>\n",
       "\t\t<td>-0.9965626436107424</td>\n",
       "\t\t<td>-0.07491004252535162</td>\n",
       "\t</tr>\n",
       "\t<tr>\n",
       "\t\t<td>8522.003</td>\n",
       "\t\t<td>1</td>\n",
       "\t\t<td>0</td>\n",
       "\t\t<td>0</td>\n",
       "\t\t<td>1</td>\n",
       "\t\t<td>0</td>\n",
       "\t\t<td>96</td>\n",
       "\t\t<td>0</td>\n",
       "\t\t<td>0.2</td>\n",
       "\t\t<td>-0.9965626436107424</td>\n",
       "\t\t<td>0.20641151455675483</td>\n",
       "\t</tr>\n",
       "\t<tr>\n",
       "\t\t<td>3906.127</td>\n",
       "\t\t<td>0</td>\n",
       "\t\t<td>1</td>\n",
       "\t\t<td>0</td>\n",
       "\t\t<td>1</td>\n",
       "\t\t<td>0</td>\n",
       "\t\t<td>360</td>\n",
       "\t\t<td>1</td>\n",
       "\t\t<td>0.2</td>\n",
       "\t\t<td>-0.9965626436107424</td>\n",
       "\t\t<td>-0.290807981681387</td>\n",
       "\t</tr>\n",
       "\t<tr>\n",
       "\t\t<td>4915.0598</td>\n",
       "\t\t<td>0</td>\n",
       "\t\t<td>1</td>\n",
       "\t\t<td>0</td>\n",
       "\t\t<td>1</td>\n",
       "\t\t<td>0</td>\n",
       "\t\t<td>120</td>\n",
       "\t\t<td>1</td>\n",
       "\t\t<td>1.0</td>\n",
       "\t\t<td>-0.10786382566487175</td>\n",
       "\t\t<td>-0.07392868825646075</td>\n",
       "\t</tr>\n",
       "\t<tr>\n",
       "\t\t<td>4687.797</td>\n",
       "\t\t<td>1</td>\n",
       "\t\t<td>1</td>\n",
       "\t\t<td>0</td>\n",
       "\t\t<td>1</td>\n",
       "\t\t<td>0</td>\n",
       "\t\t<td>91</td>\n",
       "\t\t<td>0</td>\n",
       "\t\t<td>1.0</td>\n",
       "\t\t<td>-0.9965626436107424</td>\n",
       "\t\t<td>-0.17304546941445859</td>\n",
       "\t</tr>\n",
       "\t<tr>\n",
       "\t\t<td>8596.8278</td>\n",
       "\t\t<td>1</td>\n",
       "\t\t<td>0</td>\n",
       "\t\t<td>0</td>\n",
       "\t\t<td>1</td>\n",
       "\t\t<td>0</td>\n",
       "\t\t<td>159</td>\n",
       "\t\t<td>0</td>\n",
       "\t\t<td>1.0</td>\n",
       "\t\t<td>0.9999999999999989</td>\n",
       "\t\t<td>0.20117762512266923</td>\n",
       "\t</tr>\n",
       "</table></html>"
      ],
      "text/plain": [
       "      charges  sex_0  age_0  age_2  smoker_0  smoker_1   id  sex_1  children    region       bmi\n",
       "0   4618.0799      1      1      0         1         0  103      0       0.2 -1.000000 -0.067713\n",
       "1  27941.2876      0      0      1         1         0   38      1       0.2 -0.996563  0.317632\n",
       "2  12105.3200      1      0      1         1         0  214      0       0.2 -0.996563 -0.029114\n",
       "3   6196.4480      1      0      0         1         0   17      0       0.2 -0.996563  0.441937\n",
       "4   4234.9270      1      1      0         1         0  127      0       0.2 -0.996563 -0.074910\n",
       "5   8522.0030      1      0      0         1         0   96      0       0.2 -0.996563  0.206412\n",
       "6   3906.1270      0      1      0         1         0  360      1       0.2 -0.996563 -0.290808\n",
       "7   4915.0598      0      1      0         1         0  120      1       1.0 -0.107864 -0.073929\n",
       "8   4687.7970      1      1      0         1         0   91      0       1.0 -0.996563 -0.173045\n",
       "9   8596.8278      1      0      0         1         0  159      0       1.0  1.000000  0.201178"
      ]
     },
     "metadata": {},
     "output_type": "display_data"
    },
    {
     "name": "stdout",
     "output_type": "stream",
     "text": [
      "\n",
      "Updated dataset after performing RFE feature selection:\n"
     ]
    },
    {
     "data": {
      "text/html": [
       "<style type=\"text/css\">\n",
       "\ttable {border:ridge 5px;}\n",
       "\ttable td {border:inset 1px;}\n",
       "\ttable tr#HeaderRow {background-color:grey; color:white;}</style>\n",
       "<html><table>\n",
       "\t<tr id=\"HeaderRow\">\n",
       "\t\t<th>id</th>\n",
       "\t\t<th>children</th>\n",
       "\t\t<th>sex_0</th>\n",
       "\t\t<th>smoker_1</th>\n",
       "\t\t<th>age_0</th>\n",
       "\t\t<th>smoker_0</th>\n",
       "\t\t<th>age_2</th>\n",
       "\t\t<th>age_1</th>\n",
       "\t\t<th>region</th>\n",
       "\t\t<th>bmi</th>\n",
       "\t\t<th>charges</th>\n",
       "\t</tr>\n",
       "\t<tr>\n",
       "\t\t<td>91</td>\n",
       "\t\t<td>5</td>\n",
       "\t\t<td>1</td>\n",
       "\t\t<td>0</td>\n",
       "\t\t<td>1</td>\n",
       "\t\t<td>1</td>\n",
       "\t\t<td>0</td>\n",
       "\t\t<td>0</td>\n",
       "\t\t<td>12777.7093</td>\n",
       "\t\t<td>28.6</td>\n",
       "\t\t<td>4687.797</td>\n",
       "\t</tr>\n",
       "\t<tr>\n",
       "\t\t<td>13</td>\n",
       "\t\t<td>5</td>\n",
       "\t\t<td>1</td>\n",
       "\t\t<td>0</td>\n",
       "\t\t<td>0</td>\n",
       "\t\t<td>1</td>\n",
       "\t\t<td>1</td>\n",
       "\t\t<td>0</td>\n",
       "\t\t<td>12777.7093</td>\n",
       "\t\t<td>31.9</td>\n",
       "\t\t<td>11552.904</td>\n",
       "\t</tr>\n",
       "\t<tr>\n",
       "\t\t<td>262</td>\n",
       "\t\t<td>1</td>\n",
       "\t\t<td>0</td>\n",
       "\t\t<td>0</td>\n",
       "\t\t<td>0</td>\n",
       "\t\t<td>1</td>\n",
       "\t\t<td>0</td>\n",
       "\t\t<td>1</td>\n",
       "\t\t<td>12774.7806</td>\n",
       "\t\t<td>25.365</td>\n",
       "\t\t<td>7518.0253</td>\n",
       "\t</tr>\n",
       "\t<tr>\n",
       "\t\t<td>114</td>\n",
       "\t\t<td>1</td>\n",
       "\t\t<td>0</td>\n",
       "\t\t<td>0</td>\n",
       "\t\t<td>0</td>\n",
       "\t\t<td>1</td>\n",
       "\t\t<td>1</td>\n",
       "\t\t<td>0</td>\n",
       "\t\t<td>12777.7093</td>\n",
       "\t\t<td>43.7</td>\n",
       "\t\t<td>11576.13</td>\n",
       "\t</tr>\n",
       "\t<tr>\n",
       "\t\t<td>32</td>\n",
       "\t\t<td>1</td>\n",
       "\t\t<td>0</td>\n",
       "\t\t<td>0</td>\n",
       "\t\t<td>1</td>\n",
       "\t\t<td>1</td>\n",
       "\t\t<td>0</td>\n",
       "\t\t<td>0</td>\n",
       "\t\t<td>14478.8227</td>\n",
       "\t\t<td>46.53</td>\n",
       "\t\t<td>2927.0647</td>\n",
       "\t</tr>\n",
       "\t<tr>\n",
       "\t\t<td>146</td>\n",
       "\t\t<td>1</td>\n",
       "\t\t<td>0</td>\n",
       "\t\t<td>0</td>\n",
       "\t\t<td>1</td>\n",
       "\t\t<td>1</td>\n",
       "\t\t<td>0</td>\n",
       "\t\t<td>0</td>\n",
       "\t\t<td>12774.7806</td>\n",
       "\t\t<td>28.31</td>\n",
       "\t\t<td>2639.0429</td>\n",
       "\t</tr>\n",
       "\t<tr>\n",
       "\t\t<td>63</td>\n",
       "\t\t<td>1</td>\n",
       "\t\t<td>0</td>\n",
       "\t\t<td>0</td>\n",
       "\t\t<td>0</td>\n",
       "\t\t<td>1</td>\n",
       "\t\t<td>1</td>\n",
       "\t\t<td>0</td>\n",
       "\t\t<td>14478.8227</td>\n",
       "\t\t<td>35.97</td>\n",
       "\t\t<td>9386.1613</td>\n",
       "\t</tr>\n",
       "\t<tr>\n",
       "\t\t<td>174</td>\n",
       "\t\t<td>0</td>\n",
       "\t\t<td>0</td>\n",
       "\t\t<td>0</td>\n",
       "\t\t<td>0</td>\n",
       "\t\t<td>1</td>\n",
       "\t\t<td>1</td>\n",
       "\t\t<td>0</td>\n",
       "\t\t<td>12774.7806</td>\n",
       "\t\t<td>30.21</td>\n",
       "\t\t<td>10231.4999</td>\n",
       "\t</tr>\n",
       "\t<tr>\n",
       "\t\t<td>302</td>\n",
       "\t\t<td>0</td>\n",
       "\t\t<td>1</td>\n",
       "\t\t<td>0</td>\n",
       "\t\t<td>0</td>\n",
       "\t\t<td>1</td>\n",
       "\t\t<td>0</td>\n",
       "\t\t<td>1</td>\n",
       "\t\t<td>12774.7806</td>\n",
       "\t\t<td>27.645</td>\n",
       "\t\t<td>7421.1946</td>\n",
       "\t</tr>\n",
       "\t<tr>\n",
       "\t\t<td>9</td>\n",
       "\t\t<td>0</td>\n",
       "\t\t<td>0</td>\n",
       "\t\t<td>0</td>\n",
       "\t\t<td>0</td>\n",
       "\t\t<td>1</td>\n",
       "\t\t<td>0</td>\n",
       "\t\t<td>1</td>\n",
       "\t\t<td>12774.7806</td>\n",
       "\t\t<td>35.815</td>\n",
       "\t\t<td>4320.4109</td>\n",
       "\t</tr>\n",
       "</table></html>"
      ],
      "text/plain": [
       "           id  sex_0  smoker_1  age_0  smoker_0  age_2  age_1      region     bmi     charges\n",
       "children                                                                                     \n",
       "5          91      1         0      1         1      0      0  12777.7093  28.600   4687.7970\n",
       "5          13      1         0      0         1      1      0  12777.7093  31.900  11552.9040\n",
       "1         262      0         0      0         1      0      1  12774.7806  25.365   7518.0253\n",
       "1         114      0         0      0         1      1      0  12777.7093  43.700  11576.1300\n",
       "1          32      0         0      1         1      0      0  14478.8227  46.530   2927.0647\n",
       "1         146      0         0      1         1      0      0  12774.7806  28.310   2639.0429\n",
       "1          63      0         0      0         1      1      0  14478.8227  35.970   9386.1613\n",
       "0         174      0         0      0         1      1      0  12774.7806  30.210  10231.4999\n",
       "0         302      1         0      0         1      0      1  12774.7806  27.645   7421.1946\n",
       "0           9      0         0      0         1      0      1  12774.7806  35.815   4320.4109"
      ]
     },
     "metadata": {},
     "output_type": "display_data"
    },
    {
     "name": "stdout",
     "output_type": "stream",
     "text": [
      "\n",
      "Updated dataset after performing scaling on RFE selected features :\n"
     ]
    },
    {
     "data": {
      "text/html": [
       "<style type=\"text/css\">\n",
       "\ttable {border:ridge 5px;}\n",
       "\ttable td {border:inset 1px;}\n",
       "\ttable tr#HeaderRow {background-color:grey; color:white;}</style>\n",
       "<html><table>\n",
       "\t<tr id=\"HeaderRow\">\n",
       "\t\t<th>r_age_0</th>\n",
       "\t\t<th>r_smoker_1</th>\n",
       "\t\t<th>r_age_2</th>\n",
       "\t\t<th>charges</th>\n",
       "\t\t<th>r_smoker_0</th>\n",
       "\t\t<th>r_age_1</th>\n",
       "\t\t<th>id</th>\n",
       "\t\t<th>r_sex_0</th>\n",
       "\t\t<th>r_children</th>\n",
       "\t\t<th>r_region</th>\n",
       "\t\t<th>r_bmi</th>\n",
       "\t</tr>\n",
       "\t<tr>\n",
       "\t\t<td>0</td>\n",
       "\t\t<td>0</td>\n",
       "\t\t<td>0</td>\n",
       "\t\t<td>7421.1946</td>\n",
       "\t\t<td>1</td>\n",
       "\t\t<td>1</td>\n",
       "\t\t<td>302</td>\n",
       "\t\t<td>1</td>\n",
       "\t\t<td>-1.0</td>\n",
       "\t\t<td>-1.000000000000001</td>\n",
       "\t\t<td>-0.23552502453385682</td>\n",
       "\t</tr>\n",
       "\t<tr>\n",
       "\t\t<td>0</td>\n",
       "\t\t<td>0</td>\n",
       "\t\t<td>1</td>\n",
       "\t\t<td>14210.5359</td>\n",
       "\t\t<td>1</td>\n",
       "\t\t<td>0</td>\n",
       "\t\t<td>57</td>\n",
       "\t\t<td>0</td>\n",
       "\t\t<td>-1.0</td>\n",
       "\t\t<td>-1.000000000000001</td>\n",
       "\t\t<td>0.43572129538763493</td>\n",
       "\t</tr>\n",
       "\t<tr>\n",
       "\t\t<td>1</td>\n",
       "\t\t<td>0</td>\n",
       "\t\t<td>0</td>\n",
       "\t\t<td>3866.8552</td>\n",
       "\t\t<td>1</td>\n",
       "\t\t<td>0</td>\n",
       "\t\t<td>15</td>\n",
       "\t\t<td>0</td>\n",
       "\t\t<td>-1.0</td>\n",
       "\t\t<td>-1.000000000000001</td>\n",
       "\t\t<td>-0.1547268563951588</td>\n",
       "\t</tr>\n",
       "\t<tr>\n",
       "\t\t<td>0</td>\n",
       "\t\t<td>0</td>\n",
       "\t\t<td>1</td>\n",
       "\t\t<td>9644.2525</td>\n",
       "\t\t<td>1</td>\n",
       "\t\t<td>0</td>\n",
       "\t\t<td>39</td>\n",
       "\t\t<td>1</td>\n",
       "\t\t<td>-1.0</td>\n",
       "\t\t<td>-1.000000000000001</td>\n",
       "\t\t<td>-0.863264638534511</td>\n",
       "\t</tr>\n",
       "\t<tr>\n",
       "\t\t<td>0</td>\n",
       "\t\t<td>0</td>\n",
       "\t\t<td>1</td>\n",
       "\t\t<td>8827.2099</td>\n",
       "\t\t<td>1</td>\n",
       "\t\t<td>0</td>\n",
       "\t\t<td>133</td>\n",
       "\t\t<td>0</td>\n",
       "\t\t<td>-1.0</td>\n",
       "\t\t<td>-1.000000000000001</td>\n",
       "\t\t<td>-0.3163231926725548</td>\n",
       "\t</tr>\n",
       "\t<tr>\n",
       "\t\t<td>0</td>\n",
       "\t\t<td>0</td>\n",
       "\t\t<td>1</td>\n",
       "\t\t<td>14254.6082</td>\n",
       "\t\t<td>1</td>\n",
       "\t\t<td>0</td>\n",
       "\t\t<td>205</td>\n",
       "\t\t<td>1</td>\n",
       "\t\t<td>-1.0</td>\n",
       "\t\t<td>-1.000000000000001</td>\n",
       "\t\t<td>-0.4033366045142298</td>\n",
       "\t</tr>\n",
       "\t<tr>\n",
       "\t\t<td>1</td>\n",
       "\t\t<td>0</td>\n",
       "\t\t<td>0</td>\n",
       "\t\t<td>3176.2877</td>\n",
       "\t\t<td>1</td>\n",
       "\t\t<td>0</td>\n",
       "\t\t<td>24</td>\n",
       "\t\t<td>1</td>\n",
       "\t\t<td>-1.0</td>\n",
       "\t\t<td>-1.000000000000001</td>\n",
       "\t\t<td>-0.5897939156035329</td>\n",
       "\t</tr>\n",
       "\t<tr>\n",
       "\t\t<td>1</td>\n",
       "\t\t<td>0</td>\n",
       "\t\t<td>0</td>\n",
       "\t\t<td>4915.0598</td>\n",
       "\t\t<td>1</td>\n",
       "\t\t<td>0</td>\n",
       "\t\t<td>120</td>\n",
       "\t\t<td>0</td>\n",
       "\t\t<td>1.0</td>\n",
       "\t\t<td>-0.10786382566487175</td>\n",
       "\t\t<td>-0.07392868825646075</td>\n",
       "\t</tr>\n",
       "\t<tr>\n",
       "\t\t<td>1</td>\n",
       "\t\t<td>0</td>\n",
       "\t\t<td>0</td>\n",
       "\t\t<td>4687.797</td>\n",
       "\t\t<td>1</td>\n",
       "\t\t<td>0</td>\n",
       "\t\t<td>91</td>\n",
       "\t\t<td>1</td>\n",
       "\t\t<td>1.0</td>\n",
       "\t\t<td>-0.9965626436107424</td>\n",
       "\t\t<td>-0.17304546941445859</td>\n",
       "\t</tr>\n",
       "\t<tr>\n",
       "\t\t<td>0</td>\n",
       "\t\t<td>0</td>\n",
       "\t\t<td>0</td>\n",
       "\t\t<td>8596.8278</td>\n",
       "\t\t<td>1</td>\n",
       "\t\t<td>1</td>\n",
       "\t\t<td>159</td>\n",
       "\t\t<td>1</td>\n",
       "\t\t<td>1.0</td>\n",
       "\t\t<td>0.9999999999999989</td>\n",
       "\t\t<td>0.20117762512266923</td>\n",
       "\t</tr>\n",
       "</table></html>"
      ],
      "text/plain": [
       "   r_age_0  r_smoker_1  r_age_2     charges  r_smoker_0  r_age_1   id  r_sex_0  r_children  r_region     r_bmi\n",
       "0        0           0        0   7421.1946           1        1  302        1        -1.0 -1.000000 -0.235525\n",
       "1        0           0        1  14210.5359           1        0   57        0        -1.0 -1.000000  0.435721\n",
       "2        1           0        0   3866.8552           1        0   15        0        -1.0 -1.000000 -0.154727\n",
       "3        0           0        1   9644.2525           1        0   39        1        -1.0 -1.000000 -0.863265\n",
       "4        0           0        1   8827.2099           1        0  133        0        -1.0 -1.000000 -0.316323\n",
       "5        0           0        1  14254.6082           1        0  205        1        -1.0 -1.000000 -0.403337\n",
       "6        1           0        0   3176.2877           1        0   24        1        -1.0 -1.000000 -0.589794\n",
       "7        1           0        0   4915.0598           1        0  120        0         1.0 -0.107864 -0.073929\n",
       "8        1           0        0   4687.7970           1        0   91        1         1.0 -0.996563 -0.173045\n",
       "9        0           0        0   8596.8278           1        1  159        1         1.0  1.000000  0.201178"
      ]
     },
     "metadata": {},
     "output_type": "display_data"
    },
    {
     "name": "stdout",
     "output_type": "stream",
     "text": [
      "\n",
      "Updated dataset after performing scaling for PCA feature selection :\n"
     ]
    },
    {
     "data": {
      "text/html": [
       "<style type=\"text/css\">\n",
       "\ttable {border:ridge 5px;}\n",
       "\ttable td {border:inset 1px;}\n",
       "\ttable tr#HeaderRow {background-color:grey; color:white;}</style>\n",
       "<html><table>\n",
       "\t<tr id=\"HeaderRow\">\n",
       "\t\t<th>charges</th>\n",
       "\t\t<th>smoker_1</th>\n",
       "\t\t<th>sex_0</th>\n",
       "\t\t<th>age_0</th>\n",
       "\t\t<th>smoker_0</th>\n",
       "\t\t<th>age_2</th>\n",
       "\t\t<th>age_1</th>\n",
       "\t\t<th>id</th>\n",
       "\t\t<th>sex_1</th>\n",
       "\t\t<th>region</th>\n",
       "\t\t<th>children</th>\n",
       "\t\t<th>bmi</th>\n",
       "\t</tr>\n",
       "\t<tr>\n",
       "\t\t<td>4687.797</td>\n",
       "\t\t<td>0</td>\n",
       "\t\t<td>1</td>\n",
       "\t\t<td>1</td>\n",
       "\t\t<td>1</td>\n",
       "\t\t<td>0</td>\n",
       "\t\t<td>0</td>\n",
       "\t\t<td>91</td>\n",
       "\t\t<td>0</td>\n",
       "\t\t<td>-0.9965626572680882</td>\n",
       "\t\t<td>1.0</td>\n",
       "\t\t<td>-0.17304546941445859</td>\n",
       "\t</tr>\n",
       "\t<tr>\n",
       "\t\t<td>11552.904</td>\n",
       "\t\t<td>0</td>\n",
       "\t\t<td>1</td>\n",
       "\t\t<td>0</td>\n",
       "\t\t<td>1</td>\n",
       "\t\t<td>1</td>\n",
       "\t\t<td>0</td>\n",
       "\t\t<td>13</td>\n",
       "\t\t<td>0</td>\n",
       "\t\t<td>-0.9965626572680882</td>\n",
       "\t\t<td>1.0</td>\n",
       "\t\t<td>0.04285246974157655</td>\n",
       "\t</tr>\n",
       "\t<tr>\n",
       "\t\t<td>7518.0253</td>\n",
       "\t\t<td>0</td>\n",
       "\t\t<td>0</td>\n",
       "\t\t<td>0</td>\n",
       "\t\t<td>1</td>\n",
       "\t\t<td>0</td>\n",
       "\t\t<td>1</td>\n",
       "\t\t<td>262</td>\n",
       "\t\t<td>1</td>\n",
       "\t\t<td>-1.0000000136484732</td>\n",
       "\t\t<td>-0.6</td>\n",
       "\t\t<td>-0.38469087340529945</td>\n",
       "\t</tr>\n",
       "\t<tr>\n",
       "\t\t<td>11576.13</td>\n",
       "\t\t<td>0</td>\n",
       "\t\t<td>0</td>\n",
       "\t\t<td>0</td>\n",
       "\t\t<td>1</td>\n",
       "\t\t<td>1</td>\n",
       "\t\t<td>0</td>\n",
       "\t\t<td>114</td>\n",
       "\t\t<td>1</td>\n",
       "\t\t<td>-0.9965626572680882</td>\n",
       "\t\t<td>-0.6</td>\n",
       "\t\t<td>0.8148511612692183</td>\n",
       "\t</tr>\n",
       "\t<tr>\n",
       "\t\t<td>2927.0647</td>\n",
       "\t\t<td>0</td>\n",
       "\t\t<td>0</td>\n",
       "\t\t<td>1</td>\n",
       "\t\t<td>1</td>\n",
       "\t\t<td>0</td>\n",
       "\t\t<td>0</td>\n",
       "\t\t<td>32</td>\n",
       "\t\t<td>1</td>\n",
       "\t\t<td>0.999999981188408</td>\n",
       "\t\t<td>-0.6</td>\n",
       "\t\t<td>1.0</td>\n",
       "\t</tr>\n",
       "\t<tr>\n",
       "\t\t<td>2639.0429</td>\n",
       "\t\t<td>0</td>\n",
       "\t\t<td>0</td>\n",
       "\t\t<td>1</td>\n",
       "\t\t<td>1</td>\n",
       "\t\t<td>0</td>\n",
       "\t\t<td>0</td>\n",
       "\t\t<td>146</td>\n",
       "\t\t<td>1</td>\n",
       "\t\t<td>-1.0000000136484732</td>\n",
       "\t\t<td>-0.6</td>\n",
       "\t\t<td>-0.19201831861301943</td>\n",
       "\t</tr>\n",
       "\t<tr>\n",
       "\t\t<td>9386.1613</td>\n",
       "\t\t<td>0</td>\n",
       "\t\t<td>0</td>\n",
       "\t\t<td>0</td>\n",
       "\t\t<td>1</td>\n",
       "\t\t<td>1</td>\n",
       "\t\t<td>0</td>\n",
       "\t\t<td>63</td>\n",
       "\t\t<td>1</td>\n",
       "\t\t<td>0.999999981188408</td>\n",
       "\t\t<td>-0.6</td>\n",
       "\t\t<td>0.3091265947006868</td>\n",
       "\t</tr>\n",
       "\t<tr>\n",
       "\t\t<td>10269.46</td>\n",
       "\t\t<td>0</td>\n",
       "\t\t<td>0</td>\n",
       "\t\t<td>0</td>\n",
       "\t\t<td>1</td>\n",
       "\t\t<td>1</td>\n",
       "\t\t<td>0</td>\n",
       "\t\t<td>61</td>\n",
       "\t\t<td>1</td>\n",
       "\t\t<td>-1.0000000136484732</td>\n",
       "\t\t<td>0.2</td>\n",
       "\t\t<td>0.06902191691200499</td>\n",
       "\t</tr>\n",
       "\t<tr>\n",
       "\t\t<td>4618.0799</td>\n",
       "\t\t<td>0</td>\n",
       "\t\t<td>1</td>\n",
       "\t\t<td>1</td>\n",
       "\t\t<td>1</td>\n",
       "\t\t<td>0</td>\n",
       "\t\t<td>0</td>\n",
       "\t\t<td>103</td>\n",
       "\t\t<td>0</td>\n",
       "\t\t<td>-1.0000000136484732</td>\n",
       "\t\t<td>0.2</td>\n",
       "\t\t<td>-0.06771344455348381</td>\n",
       "\t</tr>\n",
       "\t<tr>\n",
       "\t\t<td>9620.3307</td>\n",
       "\t\t<td>0</td>\n",
       "\t\t<td>0</td>\n",
       "\t\t<td>0</td>\n",
       "\t\t<td>1</td>\n",
       "\t\t<td>0</td>\n",
       "\t\t<td>1</td>\n",
       "\t\t<td>315</td>\n",
       "\t\t<td>1</td>\n",
       "\t\t<td>-1.0000000136484732</td>\n",
       "\t\t<td>0.2</td>\n",
       "\t\t<td>-0.09257441936539108</td>\n",
       "\t</tr>\n",
       "</table></html>"
      ],
      "text/plain": [
       "      charges  smoker_1  sex_0  age_0  smoker_0  age_2  age_1   id  sex_1    region  children       bmi\n",
       "0   4687.7970         0      1      1         1      0      0   91      0 -0.996563       1.0 -0.173045\n",
       "1  11552.9040         0      1      0         1      1      0   13      0 -0.996563       1.0  0.042852\n",
       "2   7518.0253         0      0      0         1      0      1  262      1 -1.000000      -0.6 -0.384691\n",
       "3  11576.1300         0      0      0         1      1      0  114      1 -0.996563      -0.6  0.814851\n",
       "4   2927.0647         0      0      1         1      0      0   32      1  1.000000      -0.6  1.000000\n",
       "5   2639.0429         0      0      1         1      0      0  146      1 -1.000000      -0.6 -0.192018\n",
       "6   9386.1613         0      0      0         1      1      0   63      1  1.000000      -0.6  0.309127\n",
       "7  10269.4600         0      0      0         1      1      0   61      1 -1.000000       0.2  0.069022\n",
       "8   4618.0799         0      1      1         1      0      0  103      0 -1.000000       0.2 -0.067713\n",
       "9   9620.3307         0      0      0         1      0      1  315      1 -1.000000       0.2 -0.092574"
      ]
     },
     "metadata": {},
     "output_type": "display_data"
    },
    {
     "name": "stdout",
     "output_type": "stream",
     "text": [
      "\n",
      "Updated dataset after performing PCA feature selection :\n"
     ]
    },
    {
     "data": {
      "text/html": [
       "<div>\n",
       "<style scoped>\n",
       "    .dataframe tbody tr th:only-of-type {\n",
       "        vertical-align: middle;\n",
       "    }\n",
       "\n",
       "    .dataframe tbody tr th {\n",
       "        vertical-align: top;\n",
       "    }\n",
       "\n",
       "    .dataframe thead th {\n",
       "        text-align: right;\n",
       "    }\n",
       "</style>\n",
       "<table border=\"1\" class=\"dataframe\">\n",
       "  <thead>\n",
       "    <tr style=\"text-align: right;\">\n",
       "      <th></th>\n",
       "      <th>id</th>\n",
       "      <th>col_0</th>\n",
       "      <th>col_1</th>\n",
       "      <th>col_2</th>\n",
       "      <th>col_3</th>\n",
       "      <th>col_4</th>\n",
       "      <th>col_5</th>\n",
       "      <th>col_6</th>\n",
       "      <th>charges</th>\n",
       "    </tr>\n",
       "  </thead>\n",
       "  <tbody>\n",
       "    <tr>\n",
       "      <th>0</th>\n",
       "      <td>120</td>\n",
       "      <td>0.141522</td>\n",
       "      <td>0.788872</td>\n",
       "      <td>-0.190910</td>\n",
       "      <td>0.289694</td>\n",
       "      <td>-0.838601</td>\n",
       "      <td>1.456858</td>\n",
       "      <td>0.028977</td>\n",
       "      <td>4915.0598</td>\n",
       "    </tr>\n",
       "    <tr>\n",
       "      <th>1</th>\n",
       "      <td>336</td>\n",
       "      <td>-0.757173</td>\n",
       "      <td>0.813099</td>\n",
       "      <td>-0.361259</td>\n",
       "      <td>0.211241</td>\n",
       "      <td>-0.707794</td>\n",
       "      <td>1.091215</td>\n",
       "      <td>-0.079436</td>\n",
       "      <td>4877.9811</td>\n",
       "    </tr>\n",
       "    <tr>\n",
       "      <th>2</th>\n",
       "      <td>61</td>\n",
       "      <td>-0.751350</td>\n",
       "      <td>0.719612</td>\n",
       "      <td>0.583819</td>\n",
       "      <td>-0.608888</td>\n",
       "      <td>0.074272</td>\n",
       "      <td>0.818409</td>\n",
       "      <td>0.104571</td>\n",
       "      <td>10269.4600</td>\n",
       "    </tr>\n",
       "    <tr>\n",
       "      <th>3</th>\n",
       "      <td>174</td>\n",
       "      <td>-0.739838</td>\n",
       "      <td>0.632575</td>\n",
       "      <td>0.233819</td>\n",
       "      <td>-0.961528</td>\n",
       "      <td>0.331817</td>\n",
       "      <td>-0.238487</td>\n",
       "      <td>-0.039572</td>\n",
       "      <td>10231.4999</td>\n",
       "    </tr>\n",
       "    <tr>\n",
       "      <th>4</th>\n",
       "      <td>91</td>\n",
       "      <td>-0.815895</td>\n",
       "      <td>-0.541591</td>\n",
       "      <td>-0.291561</td>\n",
       "      <td>0.530225</td>\n",
       "      <td>-0.656344</td>\n",
       "      <td>1.529833</td>\n",
       "      <td>0.108363</td>\n",
       "      <td>4687.7970</td>\n",
       "    </tr>\n",
       "    <tr>\n",
       "      <th>...</th>\n",
       "      <td>...</td>\n",
       "      <td>...</td>\n",
       "      <td>...</td>\n",
       "      <td>...</td>\n",
       "      <td>...</td>\n",
       "      <td>...</td>\n",
       "      <td>...</td>\n",
       "      <td>...</td>\n",
       "      <td>...</td>\n",
       "    </tr>\n",
       "    <tr>\n",
       "      <th>263</th>\n",
       "      <td>44</td>\n",
       "      <td>-0.786906</td>\n",
       "      <td>-0.651114</td>\n",
       "      <td>0.669300</td>\n",
       "      <td>0.480908</td>\n",
       "      <td>-0.425164</td>\n",
       "      <td>-0.057688</td>\n",
       "      <td>0.412247</td>\n",
       "      <td>6571.5440</td>\n",
       "    </tr>\n",
       "    <tr>\n",
       "      <th>264</th>\n",
       "      <td>37</td>\n",
       "      <td>-0.885888</td>\n",
       "      <td>-0.710749</td>\n",
       "      <td>0.360736</td>\n",
       "      <td>-0.479334</td>\n",
       "      <td>0.265915</td>\n",
       "      <td>0.552648</td>\n",
       "      <td>-0.422750</td>\n",
       "      <td>10156.7832</td>\n",
       "    </tr>\n",
       "    <tr>\n",
       "      <th>265</th>\n",
       "      <td>350</td>\n",
       "      <td>-0.871921</td>\n",
       "      <td>-0.669101</td>\n",
       "      <td>0.608724</td>\n",
       "      <td>0.527439</td>\n",
       "      <td>-0.457271</td>\n",
       "      <td>-0.057465</td>\n",
       "      <td>-0.218569</td>\n",
       "      <td>8017.0612</td>\n",
       "    </tr>\n",
       "    <tr>\n",
       "      <th>266</th>\n",
       "      <td>22</td>\n",
       "      <td>-0.741719</td>\n",
       "      <td>0.691892</td>\n",
       "      <td>0.471442</td>\n",
       "      <td>-0.729731</td>\n",
       "      <td>0.162414</td>\n",
       "      <td>0.466091</td>\n",
       "      <td>0.101330</td>\n",
       "      <td>14119.6200</td>\n",
       "    </tr>\n",
       "    <tr>\n",
       "      <th>267</th>\n",
       "      <td>379</td>\n",
       "      <td>-0.748560</td>\n",
       "      <td>-0.615193</td>\n",
       "      <td>-0.597863</td>\n",
       "      <td>0.144004</td>\n",
       "      <td>-0.375150</td>\n",
       "      <td>0.472687</td>\n",
       "      <td>0.422591</td>\n",
       "      <td>3579.8287</td>\n",
       "    </tr>\n",
       "  </tbody>\n",
       "</table>\n",
       "<p>268 rows × 9 columns</p>\n",
       "</div>"
      ],
      "text/plain": [
       "      id     col_0     col_1     col_2     col_3     col_4     col_5  \\\n",
       "0    120  0.141522  0.788872 -0.190910  0.289694 -0.838601  1.456858   \n",
       "1    336 -0.757173  0.813099 -0.361259  0.211241 -0.707794  1.091215   \n",
       "2     61 -0.751350  0.719612  0.583819 -0.608888  0.074272  0.818409   \n",
       "3    174 -0.739838  0.632575  0.233819 -0.961528  0.331817 -0.238487   \n",
       "4     91 -0.815895 -0.541591 -0.291561  0.530225 -0.656344  1.529833   \n",
       "..   ...       ...       ...       ...       ...       ...       ...   \n",
       "263   44 -0.786906 -0.651114  0.669300  0.480908 -0.425164 -0.057688   \n",
       "264   37 -0.885888 -0.710749  0.360736 -0.479334  0.265915  0.552648   \n",
       "265  350 -0.871921 -0.669101  0.608724  0.527439 -0.457271 -0.057465   \n",
       "266   22 -0.741719  0.691892  0.471442 -0.729731  0.162414  0.466091   \n",
       "267  379 -0.748560 -0.615193 -0.597863  0.144004 -0.375150  0.472687   \n",
       "\n",
       "        col_6     charges  \n",
       "0    0.028977   4915.0598  \n",
       "1   -0.079436   4877.9811  \n",
       "2    0.104571  10269.4600  \n",
       "3   -0.039572  10231.4999  \n",
       "4    0.108363   4687.7970  \n",
       "..        ...         ...  \n",
       "263  0.412247   6571.5440  \n",
       "264 -0.422750  10156.7832  \n",
       "265 -0.218569   8017.0612  \n",
       "266  0.101330  14119.6200  \n",
       "267  0.422591   3579.8287  \n",
       "\n",
       "[268 rows x 9 columns]"
      ]
     },
     "metadata": {},
     "output_type": "display_data"
    },
    {
     "name": "stdout",
     "output_type": "stream",
     "text": [
      "Data Transformation completed.\n",
      "decision_forest lasso\n",
      "\n",
      " Prediction : \n",
      "      charges   id    prediction  confidence_lower  confidence_upper\n",
      "0   9620.3307  315   7933.637210       7320.188428       8547.085991\n",
      "1  12105.3200  214  13026.660612       8967.771404      17085.549820\n",
      "2   6196.4480   17   8140.268406       7668.140356       8612.396456\n",
      "3   5972.3780   89   5802.050907       4033.270156       7570.831659\n",
      "4   8522.0030   96   8153.807272       7700.042949       8607.571595\n",
      "5   3906.1270  360   9758.780261       5364.010148      14153.550373\n",
      "6  10231.4999  174  11292.014852      10828.832395      11755.197309\n",
      "7   7421.1946  302   9045.088294       3848.529834      14241.646754\n",
      "8   4320.4109    9   6756.402479       5988.807046       7523.997913\n",
      "9  14210.5359   57  12537.172690      10173.159273      14901.186106\n",
      "\n",
      " Performance Metrics : \n",
      "           MAE           MSE      MSLE       MAPE        MPE         RMSE     RMSLE            ME        R2        EV          MPD       MGD\n",
      "0  2631.461805  1.987024e+07  0.184387  33.527858 -21.118485  4457.604686  0.429404  25773.634263  0.849967  0.850411  1676.344537  0.216731\n"
     ]
    }
   ],
   "source": [
    "# Generating prediction and metrics on test data\n",
    "prediction = aml.predict(insurance_df_test)"
   ]
  },
  {
   "cell_type": "code",
   "execution_count": 23,
   "id": "cc4f6a78-1cdf-4938-a9f1-22035d8404ca",
   "metadata": {},
   "outputs": [
    {
     "data": {
      "text/html": [
       "<style type=\"text/css\">\n",
       "\ttable {border:ridge 5px;}\n",
       "\ttable td {border:inset 1px;}\n",
       "\ttable tr#HeaderRow {background-color:grey; color:white;}</style>\n",
       "<html><table>\n",
       "\t<tr id=\"HeaderRow\">\n",
       "\t\t<th>charges</th>\n",
       "\t\t<th>id</th>\n",
       "\t\t<th>prediction</th>\n",
       "\t\t<th>confidence_lower</th>\n",
       "\t\t<th>confidence_upper</th>\n",
       "\t</tr>\n",
       "\t<tr>\n",
       "\t\t<td>1253.936</td>\n",
       "\t\t<td>83</td>\n",
       "\t\t<td>2659.936750454854</td>\n",
       "\t\t<td>1679.6927489882328</td>\n",
       "\t\t<td>3640.1807519214753</td>\n",
       "\t</tr>\n",
       "\t<tr>\n",
       "\t\t<td>1621.8827</td>\n",
       "\t\t<td>216</td>\n",
       "\t\t<td>3257.4544591621193</td>\n",
       "\t\t<td>2070.901208568264</td>\n",
       "\t\t<td>4444.007709755975</td>\n",
       "\t</tr>\n",
       "\t<tr>\n",
       "\t\t<td>1625.4337</td>\n",
       "\t\t<td>123</td>\n",
       "\t\t<td>2106.718929866619</td>\n",
       "\t\t<td>1756.9055030319528</td>\n",
       "\t\t<td>2456.532356701285</td>\n",
       "\t</tr>\n",
       "\t<tr>\n",
       "\t\t<td>1635.7336</td>\n",
       "\t\t<td>99</td>\n",
       "\t\t<td>2659.936750454854</td>\n",
       "\t\t<td>1679.6927489882328</td>\n",
       "\t\t<td>3640.1807519214753</td>\n",
       "\t</tr>\n",
       "\t<tr>\n",
       "\t\t<td>1674.6323</td>\n",
       "\t\t<td>122</td>\n",
       "\t\t<td>3460.7555264713383</td>\n",
       "\t\t<td>2093.579146088491</td>\n",
       "\t\t<td>4827.931906854185</td>\n",
       "\t</tr>\n",
       "\t<tr>\n",
       "\t\t<td>1682.597</td>\n",
       "\t\t<td>154</td>\n",
       "\t\t<td>4049.3998048494486</td>\n",
       "\t\t<td>1093.377448427409</td>\n",
       "\t\t<td>7005.422161271488</td>\n",
       "\t</tr>\n",
       "\t<tr>\n",
       "\t\t<td>1639.5631</td>\n",
       "\t\t<td>67</td>\n",
       "\t\t<td>2659.936750454854</td>\n",
       "\t\t<td>1679.6927489882328</td>\n",
       "\t\t<td>3640.1807519214753</td>\n",
       "\t</tr>\n",
       "\t<tr>\n",
       "\t\t<td>1261.859</td>\n",
       "\t\t<td>19</td>\n",
       "\t\t<td>3098.688392625184</td>\n",
       "\t\t<td>1932.5078781067339</td>\n",
       "\t\t<td>4264.868907143634</td>\n",
       "\t</tr>\n",
       "\t<tr>\n",
       "\t\t<td>1242.816</td>\n",
       "\t\t<td>131</td>\n",
       "\t\t<td>2106.718929866619</td>\n",
       "\t\t<td>1756.9055030319528</td>\n",
       "\t\t<td>2456.532356701285</td>\n",
       "\t</tr>\n",
       "\t<tr>\n",
       "\t\t<td>1141.4451</td>\n",
       "\t\t<td>208</td>\n",
       "\t\t<td>4411.466938695602</td>\n",
       "\t\t<td>1433.305580776405</td>\n",
       "\t\t<td>7389.628296614799</td>\n",
       "\t</tr>\n",
       "</table></html>"
      ],
      "text/plain": [
       "     charges   id   prediction  confidence_lower  confidence_upper\n",
       "0  1253.9360   83  2659.936750       1679.692749       3640.180752\n",
       "1  1621.8827  216  3257.454459       2070.901209       4444.007710\n",
       "2  1625.4337  123  2106.718930       1756.905503       2456.532357\n",
       "3  1635.7336   99  2659.936750       1679.692749       3640.180752\n",
       "4  1674.6323  122  3460.755526       2093.579146       4827.931907\n",
       "5  1682.5970  154  4049.399805       1093.377448       7005.422161\n",
       "6  1639.5631   67  2659.936750       1679.692749       3640.180752\n",
       "7  1261.8590   19  3098.688393       1932.507878       4264.868907\n",
       "8  1242.8160  131  2106.718930       1756.905503       2456.532357\n",
       "9  1141.4451  208  4411.466939       1433.305581       7389.628297"
      ]
     },
     "execution_count": 23,
     "metadata": {},
     "output_type": "execute_result"
    }
   ],
   "source": [
    "# Printing prediction\n",
    "prediction.head()"
   ]
  },
  {
   "cell_type": "code",
   "execution_count": 24,
   "id": "b2cba357-75ac-4089-a234-64a57067b117",
   "metadata": {},
   "outputs": [
    {
     "data": {
      "text/plain": [
       "True"
      ]
     },
     "execution_count": 24,
     "metadata": {},
     "output_type": "execute_result"
    }
   ],
   "source": [
    "remove_context()"
   ]
  },
  {
   "cell_type": "code",
   "execution_count": null,
   "id": "b672112c-d042-4842-846b-163f495d7664",
   "metadata": {},
   "outputs": [],
   "source": []
  }
 ],
 "metadata": {
  "kernelspec": {
   "display_name": "Python 3 (ipykernel)",
   "language": "python",
   "name": "python3"
  },
  "language_info": {
   "codemirror_mode": {
    "name": "ipython",
    "version": 3
   },
   "file_extension": ".py",
   "mimetype": "text/x-python",
   "name": "python",
   "nbconvert_exporter": "python",
   "pygments_lexer": "ipython3",
   "version": "3.10.9"
  }
 },
 "nbformat": 4,
 "nbformat_minor": 5
}
