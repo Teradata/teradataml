{
 "cells": [
  {
   "cell_type": "markdown",
   "id": "2762f1d8-5a66-411f-a625-34cf16ac6dd3",
   "metadata": {},
   "source": [
    "# <b><span style='color:#F1A424'>AutoML - Binary Classification - Bank Churn Prediction </span> </b>"
   ]
  },
  {
   "cell_type": "markdown",
   "id": "d34a0853-fad0-4354-bcb7-737ebae0e97f",
   "metadata": {},
   "source": [
    "### Disclaimer\n",
    "Please note, the Vantage Functions via SQLAlchemy feature is a preview/beta code release with limited functionality (the “Code”). As such, you acknowledge that the Code is experimental in nature and that the Code is provided “AS IS” and may not be functional on any machine or in any environment. TERADATA DISCLAIMS ALL WARRANTIES RELATING TO THE CODE, EXPRESS OR IMPLIED, INCLUDING, BUT NOT LIMITED TO, ANY WARRANTIES AGAINST INFRINGEMENT OF THIRD-PARTY RIGHTS, MERCHANTABILITY AND FITNESS FOR A PARTICULAR PURPOSE.\n",
    "\n",
    "TERADATA SHALL NOT BE RESPONSIBLE OR LIABLE WITH RESPECT TO ANY SUBJECT MATTER OF THE CODE UNDER ANY CONTRACT, NEGLIGENCE, STRICT LIABILITY OR OTHER THEORY \n",
    "    (A) FOR LOSS OR INACCURACY OF DATA OR COST OF PROCUREMENT OF SUBSTITUTE GOODS, SERVICES OR TECHNOLOGY, OR \n",
    "    (B) FOR ANY INDIRECT, INCIDENTAL OR CONSEQUENTIAL DAMAGES INCLUDING, BUT NOT LIMITED TO LOSS OF REVENUES AND LOSS OF PROFITS. TERADATA SHALL NOT BE RESPONSIBLE FOR ANY MATTER BEYOND ITS REASONABLE CONTROL.\n",
    "\n",
    "Notwithstanding anything to the contrary: \n",
    "    (a) Teradata will have no obligation of any kind with respect to any Code-related comments, suggestions, design changes or improvements that you elect to provide to Teradata in either verbal or written form (collectively, “Feedback”), and \n",
    "    (b) Teradata and its affiliates are hereby free to use any ideas, concepts, know-how or techniques, in whole or in part, contained in Feedback: \n",
    "        (i) for any purpose whatsoever, including developing, manufacturing, and/or marketing products and/or services incorporating Feedback in whole or in part, and \n",
    "        (ii) without any restrictions or limitations, including requiring the payment of any license fees, royalties, or other consideration. "
   ]
  },
  {
   "cell_type": "markdown",
   "id": "f225fb94-b2c8-4c92-af38-733d08e0e2a1",
   "metadata": {},
   "source": [
    "## <b> Problem overview:</b>\n",
    "    "
   ]
  },
  {
   "cell_type": "markdown",
   "id": "af9813eb-9c44-4968-a5fe-d1c74415c894",
   "metadata": {},
   "source": [
    "**Dataset used - Bank Churn Dataset**\n",
    "\n",
    "**Features**:\n",
    "\n",
    "- `customer_id`: customer_id .\n",
    "- `credit_score`: credit score of customer.\n",
    "- `country`: country of customer.\n",
    "- `gender`: Gender of customer.\n",
    "- `age`: Age of customer.\n",
    "- `tenure`: tenure.\n",
    "- `balance`: bank balance.\n",
    "- `products_number`: products number.\n",
    "- `credit_card`: having credit card or not.\n",
    "- `active_member`: active member or not.\n",
    "- `estimated_salary`: Estimated salary of customer..\n",
    "\n",
    "**Target Variable**:\n",
    "\n",
    "- `churn`: 1 if the client has left the bank during some period or 0 if he/she has not.\n",
    "\n",
    "        \n",
    "**Objective**:\n",
    "\n",
    "The primary objective is typically to build a model that can accurately predict the Customer Churn for ABC Bank.\n",
    "\n",
    "**Usecase**:\n",
    "\n",
    "Here, we will use AutoML(Automated Machine Learning) functionality to automate the entire process of developing a predictive model. It will perform feature exploration, feature engineering, data preparation, model training and evaluation on dataset in custom run and at end we will get leaderboard containined different models along with their performance. Model will also have rank associated with them which indicates which is best performing model for given data followed by other models.\n",
    "\n",
    "As part of custom AutoML run, we will customize below functionalities:\n",
    "- Binning on 'Age' feature :\n",
    "    - Aim is to treat 'Age' as categorical variable rather than numerical and check how different age group people will impact prediction.\n",
    "- Target encoding on 'gender' feature :\n",
    "    - Aim is to get gender feature encoded with help of target column distribution rather than default encoding i.e., one-hot encoding.\n",
    "- Deletion of id column 'customer_id' using antiselect.\n",
    "- Feature scaling using 'std' method. "
   ]
  },
  {
   "cell_type": "code",
   "execution_count": 1,
   "id": "66568348-4d00-477c-a071-17995f797c95",
   "metadata": {},
   "outputs": [],
   "source": [
    "# Importing AutoML from teradataml\n",
    "from teradataml import AutoML, AutoClassifier"
   ]
  },
  {
   "cell_type": "code",
   "execution_count": 2,
   "id": "17dfae70-0401-4cc4-ba1c-400a5cf62451",
   "metadata": {},
   "outputs": [],
   "source": [
    "# Importing other important libraries\n",
    "import getpass\n",
    "from teradataml import create_context, remove_context\n",
    "from teradataml import DataFrame\n",
    "from teradataml import load_example_data\n",
    "from teradataml import TrainTestSplit"
   ]
  },
  {
   "cell_type": "code",
   "execution_count": 3,
   "id": "cadd9ed2-42d6-4899-b23e-4e2cf601162f",
   "metadata": {},
   "outputs": [
    {
     "name": "stdin",
     "output_type": "stream",
     "text": [
      "Host:  ········\n",
      "Username:  ········\n",
      "Password:  ········\n"
     ]
    }
   ],
   "source": [
    "# Create the connection.\n",
    "host = getpass.getpass(\"Host: \")\n",
    "username = getpass.getpass(\"Username: \")\n",
    "password = getpass.getpass(\"Password: \")\n",
    "\n",
    "con = create_context(host=host, username=username, password=password)"
   ]
  },
  {
   "cell_type": "markdown",
   "id": "89f20bf7-e11d-4f1e-b867-cb8313ee3215",
   "metadata": {
    "tags": []
   },
   "source": [
    "## <b><span style='color:#F1A424'>| 1.</span> Loading Deployed Models - 'churn_top_5_models' </b>"
   ]
  },
  {
   "cell_type": "markdown",
   "id": "305aa8e6-80d1-49ed-bb52-866c703d1c06",
   "metadata": {},
   "source": [
    "### <b><span style='color:#F1A424'>| 1.1.</span> Loading Model </b>"
   ]
  },
  {
   "cell_type": "code",
   "execution_count": 4,
   "id": "3d7b33af-a017-4949-a01f-33cbc071331d",
   "metadata": {},
   "outputs": [],
   "source": [
    "# Creating AutoML object\n",
    "\n",
    "aml=AutoML()"
   ]
  },
  {
   "cell_type": "code",
   "execution_count": 5,
   "id": "9c608142-9082-489c-9592-b305b17d0312",
   "metadata": {},
   "outputs": [],
   "source": [
    "# Loading models\n",
    "\n",
    "models_1 = aml.load('churn_top_5_models')"
   ]
  },
  {
   "cell_type": "code",
   "execution_count": 6,
   "id": "a7324767-1da9-4243-9857-04218d433937",
   "metadata": {},
   "outputs": [
    {
     "data": {
      "text/html": [
       "<div>\n",
       "<style scoped>\n",
       "    .dataframe tbody tr th:only-of-type {\n",
       "        vertical-align: middle;\n",
       "    }\n",
       "\n",
       "    .dataframe tbody tr th {\n",
       "        vertical-align: top;\n",
       "    }\n",
       "\n",
       "    .dataframe thead th {\n",
       "        text-align: right;\n",
       "    }\n",
       "</style>\n",
       "<table border=\"1\" class=\"dataframe\">\n",
       "  <thead>\n",
       "    <tr style=\"text-align: right;\">\n",
       "      <th></th>\n",
       "      <th>RANK</th>\n",
       "      <th>MODEL_ID</th>\n",
       "      <th>FEATURE_SELECTION</th>\n",
       "      <th>ACCURACY</th>\n",
       "      <th>MICRO-PRECISION</th>\n",
       "      <th>MICRO-RECALL</th>\n",
       "      <th>MICRO-F1</th>\n",
       "      <th>MACRO-PRECISION</th>\n",
       "      <th>MACRO-RECALL</th>\n",
       "      <th>MACRO-F1</th>\n",
       "      <th>WEIGHTED-PRECISION</th>\n",
       "      <th>WEIGHTED-RECALL</th>\n",
       "      <th>WEIGHTED-F1</th>\n",
       "      <th>DATA_TABLE</th>\n",
       "    </tr>\n",
       "  </thead>\n",
       "  <tbody>\n",
       "    <tr>\n",
       "      <th>0</th>\n",
       "      <td>1</td>\n",
       "      <td>KNN_9</td>\n",
       "      <td>lasso</td>\n",
       "      <td>0.837731</td>\n",
       "      <td>0.837731</td>\n",
       "      <td>0.837731</td>\n",
       "      <td>0.837731</td>\n",
       "      <td>0.837897</td>\n",
       "      <td>0.837727</td>\n",
       "      <td>0.837710</td>\n",
       "      <td>0.837894</td>\n",
       "      <td>0.837731</td>\n",
       "      <td>0.837711</td>\n",
       "      <td>ml__churn_lasso_1723408493503047</td>\n",
       "    </tr>\n",
       "    <tr>\n",
       "      <th>1</th>\n",
       "      <td>2</td>\n",
       "      <td>KNN_0</td>\n",
       "      <td>lasso</td>\n",
       "      <td>0.834187</td>\n",
       "      <td>0.834187</td>\n",
       "      <td>0.834187</td>\n",
       "      <td>0.834187</td>\n",
       "      <td>0.834504</td>\n",
       "      <td>0.834181</td>\n",
       "      <td>0.834146</td>\n",
       "      <td>0.834500</td>\n",
       "      <td>0.834187</td>\n",
       "      <td>0.834147</td>\n",
       "      <td>ml__churn_lasso_1723408493503047</td>\n",
       "    </tr>\n",
       "    <tr>\n",
       "      <th>2</th>\n",
       "      <td>3</td>\n",
       "      <td>KNN_4</td>\n",
       "      <td>rfe</td>\n",
       "      <td>0.825916</td>\n",
       "      <td>0.825916</td>\n",
       "      <td>0.825916</td>\n",
       "      <td>0.825916</td>\n",
       "      <td>0.826509</td>\n",
       "      <td>0.825907</td>\n",
       "      <td>0.825834</td>\n",
       "      <td>0.826504</td>\n",
       "      <td>0.825916</td>\n",
       "      <td>0.825835</td>\n",
       "      <td>ml__churn_rfe_1723403665947275</td>\n",
       "    </tr>\n",
       "    <tr>\n",
       "      <th>3</th>\n",
       "      <td>4</td>\n",
       "      <td>DECISIONFOREST_3</td>\n",
       "      <td>lasso</td>\n",
       "      <td>0.820796</td>\n",
       "      <td>0.820796</td>\n",
       "      <td>0.820796</td>\n",
       "      <td>0.820796</td>\n",
       "      <td>0.821353</td>\n",
       "      <td>0.820804</td>\n",
       "      <td>0.820720</td>\n",
       "      <td>0.821359</td>\n",
       "      <td>0.820796</td>\n",
       "      <td>0.820719</td>\n",
       "      <td>ml__churn_lasso_1723408493503047</td>\n",
       "    </tr>\n",
       "    <tr>\n",
       "      <th>4</th>\n",
       "      <td>5</td>\n",
       "      <td>XGBOOST_2</td>\n",
       "      <td>pca</td>\n",
       "      <td>0.818640</td>\n",
       "      <td>0.818640</td>\n",
       "      <td>0.818640</td>\n",
       "      <td>0.818640</td>\n",
       "      <td>0.716248</td>\n",
       "      <td>0.634388</td>\n",
       "      <td>0.655946</td>\n",
       "      <td>0.795369</td>\n",
       "      <td>0.818640</td>\n",
       "      <td>0.797782</td>\n",
       "      <td>ml__churn_pca_1723409447845319</td>\n",
       "    </tr>\n",
       "  </tbody>\n",
       "</table>\n",
       "</div>"
      ],
      "text/plain": [
       "   RANK          MODEL_ID FEATURE_SELECTION  ACCURACY  MICRO-PRECISION  \\\n",
       "0     1             KNN_9             lasso  0.837731         0.837731   \n",
       "1     2             KNN_0             lasso  0.834187         0.834187   \n",
       "2     3             KNN_4               rfe  0.825916         0.825916   \n",
       "3     4  DECISIONFOREST_3             lasso  0.820796         0.820796   \n",
       "4     5         XGBOOST_2               pca  0.818640         0.818640   \n",
       "\n",
       "   MICRO-RECALL  MICRO-F1  MACRO-PRECISION  MACRO-RECALL  MACRO-F1  \\\n",
       "0      0.837731  0.837731         0.837897      0.837727  0.837710   \n",
       "1      0.834187  0.834187         0.834504      0.834181  0.834146   \n",
       "2      0.825916  0.825916         0.826509      0.825907  0.825834   \n",
       "3      0.820796  0.820796         0.821353      0.820804  0.820720   \n",
       "4      0.818640  0.818640         0.716248      0.634388  0.655946   \n",
       "\n",
       "   WEIGHTED-PRECISION  WEIGHTED-RECALL  WEIGHTED-F1  \\\n",
       "0            0.837894         0.837731     0.837711   \n",
       "1            0.834500         0.834187     0.834147   \n",
       "2            0.826504         0.825916     0.825835   \n",
       "3            0.821359         0.820796     0.820719   \n",
       "4            0.795369         0.818640     0.797782   \n",
       "\n",
       "                         DATA_TABLE  \n",
       "0  ml__churn_lasso_1723408493503047  \n",
       "1  ml__churn_lasso_1723408493503047  \n",
       "2    ml__churn_rfe_1723403665947275  \n",
       "3  ml__churn_lasso_1723408493503047  \n",
       "4    ml__churn_pca_1723409447845319  "
      ]
     },
     "execution_count": 6,
     "metadata": {},
     "output_type": "execute_result"
    }
   ],
   "source": [
    "# Display loaded models\n",
    "\n",
    "models_1"
   ]
  },
  {
   "cell_type": "markdown",
   "id": "9b02155e-a844-4c1d-a181-076fc85361fa",
   "metadata": {},
   "source": [
    "### <b><span style='color:#F1A424'>| 1.2.</span> Get Loaded Model Hyperparameters</b>"
   ]
  },
  {
   "cell_type": "code",
   "execution_count": 7,
   "id": "369bc5ec-c9c1-4bf4-825b-809777d89a51",
   "metadata": {},
   "outputs": [
    {
     "data": {
      "text/plain": [
       "{'response_column': 'churn',\n",
       " 'name': 'knn',\n",
       " 'model_type': 'Classification',\n",
       " 'k': 5,\n",
       " 'id_column': 'id',\n",
       " 'voting_weight': 1.0,\n",
       " 'persist': False,\n",
       " 'output_prob': True,\n",
       " 'output_responses': ['1', '0']}"
      ]
     },
     "execution_count": 7,
     "metadata": {},
     "output_type": "execute_result"
    }
   ],
   "source": [
    "aml.model_hyperparameters(rank=1, use_loaded_models=True)"
   ]
  },
  {
   "cell_type": "code",
   "execution_count": 8,
   "id": "ef22f037-a80d-4ca9-b524-06c4f017a070",
   "metadata": {},
   "outputs": [
    {
     "data": {
      "text/plain": [
       "{'response_column': 'churn',\n",
       " 'name': 'xgboost',\n",
       " 'model_type': 'Classification',\n",
       " 'column_sampling': 1,\n",
       " 'min_impurity': 0.0,\n",
       " 'lambda1': 0.01,\n",
       " 'shrinkage_factor': 0.5,\n",
       " 'max_depth': 5,\n",
       " 'min_node_size': 1,\n",
       " 'iter_num': 10,\n",
       " 'seed': 42,\n",
       " 'persist': False,\n",
       " 'output_prob': True,\n",
       " 'output_responses': ['1', '0']}"
      ]
     },
     "execution_count": 8,
     "metadata": {},
     "output_type": "execute_result"
    }
   ],
   "source": [
    "aml.model_hyperparameters(rank=5, use_loaded_models=True)"
   ]
  },
  {
   "cell_type": "markdown",
   "id": "b0c99384-f070-4502-8098-777dc01f23f9",
   "metadata": {},
   "source": [
    "### <b><span style='color:#F1A424'>| 1.3.</span> Loading Dataset</b>"
   ]
  },
  {
   "cell_type": "code",
   "execution_count": 9,
   "id": "901721b9-4136-431c-9079-b4f3e0730dac",
   "metadata": {},
   "outputs": [
    {
     "name": "stdout",
     "output_type": "stream",
     "text": [
      "WARNING: Skipped loading table bank_churn since it already exists in the database.\n"
     ]
    }
   ],
   "source": [
    "### Loading Dataset for Prediction\n",
    "\n",
    "load_example_data('teradataml','bank_churn')\n",
    "df = DataFrame('bank_churn')"
   ]
  },
  {
   "cell_type": "code",
   "execution_count": 10,
   "id": "103f0e7b-fda9-4a54-a36c-4922ea6249de",
   "metadata": {},
   "outputs": [
    {
     "data": {
      "text/html": [
       "<style type=\"text/css\">\n",
       "\ttable {border:ridge 5px;}\n",
       "\ttable td {border:inset 1px;}\n",
       "\ttable tr#HeaderRow {background-color:grey; color:white;}</style>\n",
       "<html><table>\n",
       "\t<tr id=\"HeaderRow\">\n",
       "\t\t<th>customer_id</th>\n",
       "\t\t<th>credit_score</th>\n",
       "\t\t<th>country</th>\n",
       "\t\t<th>gender</th>\n",
       "\t\t<th>age</th>\n",
       "\t\t<th>tenure</th>\n",
       "\t\t<th>balance</th>\n",
       "\t\t<th>products_number</th>\n",
       "\t\t<th>credit_card</th>\n",
       "\t\t<th>active_member</th>\n",
       "\t\t<th>estimated_salary</th>\n",
       "\t\t<th>churn</th>\n",
       "\t</tr>\n",
       "\t<tr>\n",
       "\t\t<td>15668775</td>\n",
       "\t\t<td>757</td>\n",
       "\t\t<td>France</td>\n",
       "\t\t<td>Male</td>\n",
       "\t\t<td>47</td>\n",
       "\t\t<td>3</td>\n",
       "\t\t<td>130747.1</td>\n",
       "\t\t<td>1</td>\n",
       "\t\t<td>1</td>\n",
       "\t\t<td>0</td>\n",
       "\t\t<td>143829.54</td>\n",
       "\t\t<td>0</td>\n",
       "\t</tr>\n",
       "\t<tr>\n",
       "\t\t<td>15688963</td>\n",
       "\t\t<td>731</td>\n",
       "\t\t<td>France</td>\n",
       "\t\t<td>Female</td>\n",
       "\t\t<td>52</td>\n",
       "\t\t<td>10</td>\n",
       "\t\t<td>0.0</td>\n",
       "\t\t<td>1</td>\n",
       "\t\t<td>1</td>\n",
       "\t\t<td>1</td>\n",
       "\t\t<td>24998.75</td>\n",
       "\t\t<td>1</td>\n",
       "\t</tr>\n",
       "\t<tr>\n",
       "\t\t<td>15706602</td>\n",
       "\t\t<td>760</td>\n",
       "\t\t<td>Spain</td>\n",
       "\t\t<td>Female</td>\n",
       "\t\t<td>33</td>\n",
       "\t\t<td>1</td>\n",
       "\t\t<td>118114.28</td>\n",
       "\t\t<td>2</td>\n",
       "\t\t<td>0</td>\n",
       "\t\t<td>1</td>\n",
       "\t\t<td>156660.21</td>\n",
       "\t\t<td>0</td>\n",
       "\t</tr>\n",
       "\t<tr>\n",
       "\t\t<td>15809826</td>\n",
       "\t\t<td>728</td>\n",
       "\t\t<td>France</td>\n",
       "\t\t<td>Female</td>\n",
       "\t\t<td>46</td>\n",
       "\t\t<td>2</td>\n",
       "\t\t<td>109705.52</td>\n",
       "\t\t<td>1</td>\n",
       "\t\t<td>1</td>\n",
       "\t\t<td>0</td>\n",
       "\t\t<td>20276.87</td>\n",
       "\t\t<td>1</td>\n",
       "\t</tr>\n",
       "\t<tr>\n",
       "\t\t<td>15614716</td>\n",
       "\t\t<td>515</td>\n",
       "\t\t<td>France</td>\n",
       "\t\t<td>Female</td>\n",
       "\t\t<td>37</td>\n",
       "\t\t<td>0</td>\n",
       "\t\t<td>196853.62</td>\n",
       "\t\t<td>1</td>\n",
       "\t\t<td>1</td>\n",
       "\t\t<td>1</td>\n",
       "\t\t<td>132770.11</td>\n",
       "\t\t<td>0</td>\n",
       "\t</tr>\n",
       "\t<tr>\n",
       "\t\t<td>15685476</td>\n",
       "\t\t<td>658</td>\n",
       "\t\t<td>France</td>\n",
       "\t\t<td>Male</td>\n",
       "\t\t<td>31</td>\n",
       "\t\t<td>5</td>\n",
       "\t\t<td>100082.14</td>\n",
       "\t\t<td>1</td>\n",
       "\t\t<td>0</td>\n",
       "\t\t<td>1</td>\n",
       "\t\t<td>49809.88</td>\n",
       "\t\t<td>0</td>\n",
       "\t</tr>\n",
       "\t<tr>\n",
       "\t\t<td>15609618</td>\n",
       "\t\t<td>721</td>\n",
       "\t\t<td>Germany</td>\n",
       "\t\t<td>Male</td>\n",
       "\t\t<td>28</td>\n",
       "\t\t<td>9</td>\n",
       "\t\t<td>154475.54</td>\n",
       "\t\t<td>2</td>\n",
       "\t\t<td>0</td>\n",
       "\t\t<td>1</td>\n",
       "\t\t<td>101300.94</td>\n",
       "\t\t<td>1</td>\n",
       "\t</tr>\n",
       "\t<tr>\n",
       "\t\t<td>15806808</td>\n",
       "\t\t<td>834</td>\n",
       "\t\t<td>Germany</td>\n",
       "\t\t<td>Female</td>\n",
       "\t\t<td>57</td>\n",
       "\t\t<td>8</td>\n",
       "\t\t<td>112281.6</td>\n",
       "\t\t<td>3</td>\n",
       "\t\t<td>1</td>\n",
       "\t\t<td>0</td>\n",
       "\t\t<td>140225.14</td>\n",
       "\t\t<td>1</td>\n",
       "\t</tr>\n",
       "\t<tr>\n",
       "\t\t<td>15603582</td>\n",
       "\t\t<td>569</td>\n",
       "\t\t<td>Spain</td>\n",
       "\t\t<td>Female</td>\n",
       "\t\t<td>34</td>\n",
       "\t\t<td>3</td>\n",
       "\t\t<td>0.0</td>\n",
       "\t\t<td>1</td>\n",
       "\t\t<td>1</td>\n",
       "\t\t<td>0</td>\n",
       "\t\t<td>133997.53</td>\n",
       "\t\t<td>0</td>\n",
       "\t</tr>\n",
       "\t<tr>\n",
       "\t\t<td>15618203</td>\n",
       "\t\t<td>773</td>\n",
       "\t\t<td>Germany</td>\n",
       "\t\t<td>Male</td>\n",
       "\t\t<td>51</td>\n",
       "\t\t<td>8</td>\n",
       "\t\t<td>116197.65</td>\n",
       "\t\t<td>2</td>\n",
       "\t\t<td>1</td>\n",
       "\t\t<td>1</td>\n",
       "\t\t<td>86701.4</td>\n",
       "\t\t<td>0</td>\n",
       "\t</tr>\n",
       "</table></html>"
      ],
      "text/plain": [
       "             credit_score  country  gender  age  tenure    balance  products_number  credit_card  active_member  estimated_salary  churn\n",
       "customer_id                                                                                                                             \n",
       "15668775              757   France    Male   47       3  130747.10                1            1              0         143829.54      0\n",
       "15688963              731   France  Female   52      10       0.00                1            1              1          24998.75      1\n",
       "15706602              760    Spain  Female   33       1  118114.28                2            0              1         156660.21      0\n",
       "15809826              728   France  Female   46       2  109705.52                1            1              0          20276.87      1\n",
       "15614716              515   France  Female   37       0  196853.62                1            1              1         132770.11      0\n",
       "15685476              658   France    Male   31       5  100082.14                1            0              1          49809.88      0\n",
       "15609618              721  Germany    Male   28       9  154475.54                2            0              1         101300.94      1\n",
       "15806808              834  Germany  Female   57       8  112281.60                3            1              0         140225.14      1\n",
       "15603582              569    Spain  Female   34       3       0.00                1            1              0         133997.53      0\n",
       "15618203              773  Germany    Male   51       8  116197.65                2            1              1          86701.40      0"
      ]
     },
     "execution_count": 10,
     "metadata": {},
     "output_type": "execute_result"
    }
   ],
   "source": [
    "# Display data\n",
    "\n",
    "df"
   ]
  },
  {
   "cell_type": "markdown",
   "id": "9c831cc7-e828-4a6d-9317-5270271fa83d",
   "metadata": {},
   "source": [
    "### <b><span style='color:#F1A424'>| 1.4.</span> Generating Prediction & Performance Metrics</b>"
   ]
  },
  {
   "cell_type": "code",
   "execution_count": 11,
   "id": "39ecd317-b312-486d-9620-97d941d035f2",
   "metadata": {
    "tags": []
   },
   "outputs": [
    {
     "name": "stdout",
     "output_type": "stream",
     "text": [
      "Generating prediction using:\n",
      "Model Name: KNN\n",
      "Feature Selection: lasso\n",
      "Completed: ｜⫿⫿⫿⫿⫿⫿⫿⫿⫿⫿⫿⫿⫿⫿⫿⫿⫿⫿⫿⫿⫿⫿⫿⫿⫿⫿⫿⫿⫿⫿⫿⫿⫿⫿⫿⫿⫿⫿⫿⫿⫿⫿⫿⫿⫿⫿⫿⫿⫿⫿⫿⫿⫿⫿⫿⫿⫿⫿⫿⫿｜ 100% - 15/15            \r"
     ]
    }
   ],
   "source": [
    "# Generate prediction using some data rows and model rank\n",
    "\n",
    "prediction = aml.predict(df, rank=1)"
   ]
  },
  {
   "cell_type": "code",
   "execution_count": 12,
   "id": "f44f2daf-706e-415a-a81b-0ef555505a30",
   "metadata": {},
   "outputs": [
    {
     "data": {
      "text/html": [
       "<style type=\"text/css\">\n",
       "\ttable {border:ridge 5px;}\n",
       "\ttable td {border:inset 1px;}\n",
       "\ttable tr#HeaderRow {background-color:grey; color:white;}</style>\n",
       "<html><table>\n",
       "\t<tr id=\"HeaderRow\">\n",
       "\t\t<th>id</th>\n",
       "\t\t<th>prediction</th>\n",
       "\t\t<th>prob_1</th>\n",
       "\t\t<th>prob_0</th>\n",
       "\t\t<th>churn</th>\n",
       "\t</tr>\n",
       "\t<tr>\n",
       "\t\t<td>14</td>\n",
       "\t\t<td>1</td>\n",
       "\t\t<td>0.21017513302596438</td>\n",
       "\t\t<td>0.7898248669740356</td>\n",
       "\t\t<td>1</td>\n",
       "\t</tr>\n",
       "\t<tr>\n",
       "\t\t<td>12</td>\n",
       "\t\t<td>0</td>\n",
       "\t\t<td>0.9999996637276443</td>\n",
       "\t\t<td>3.3627235575638046e-07</td>\n",
       "\t\t<td>0</td>\n",
       "\t</tr>\n",
       "\t<tr>\n",
       "\t\t<td>29</td>\n",
       "\t\t<td>0</td>\n",
       "\t\t<td>0.9999999106959919</td>\n",
       "\t\t<td>8.930400806290184e-08</td>\n",
       "\t\t<td>0</td>\n",
       "\t</tr>\n",
       "\t<tr>\n",
       "\t\t<td>9</td>\n",
       "\t\t<td>0</td>\n",
       "\t\t<td>1.0</td>\n",
       "\t\t<td>0.0</td>\n",
       "\t\t<td>0</td>\n",
       "\t</tr>\n",
       "\t<tr>\n",
       "\t\t<td>41</td>\n",
       "\t\t<td>0</td>\n",
       "\t\t<td>0.5614065204000482</td>\n",
       "\t\t<td>0.4385934795999518</td>\n",
       "\t\t<td>1</td>\n",
       "\t</tr>\n",
       "\t<tr>\n",
       "\t\t<td>48</td>\n",
       "\t\t<td>0</td>\n",
       "\t\t<td>1.0</td>\n",
       "\t\t<td>0.0</td>\n",
       "\t\t<td>0</td>\n",
       "\t</tr>\n",
       "\t<tr>\n",
       "\t\t<td>10</td>\n",
       "\t\t<td>1</td>\n",
       "\t\t<td>2.9847659556910036e-07</td>\n",
       "\t\t<td>0.9999997015234044</td>\n",
       "\t\t<td>1</td>\n",
       "\t</tr>\n",
       "\t<tr>\n",
       "\t\t<td>15</td>\n",
       "\t\t<td>1</td>\n",
       "\t\t<td>4.529889396752895e-07</td>\n",
       "\t\t<td>0.9999995470110604</td>\n",
       "\t\t<td>1</td>\n",
       "\t</tr>\n",
       "\t<tr>\n",
       "\t\t<td>22</td>\n",
       "\t\t<td>0</td>\n",
       "\t\t<td>1.0</td>\n",
       "\t\t<td>0.0</td>\n",
       "\t\t<td>0</td>\n",
       "\t</tr>\n",
       "\t<tr>\n",
       "\t\t<td>27</td>\n",
       "\t\t<td>0</td>\n",
       "\t\t<td>1.0</td>\n",
       "\t\t<td>0.0</td>\n",
       "\t\t<td>0</td>\n",
       "\t</tr>\n",
       "</table></html>"
      ],
      "text/plain": [
       "   id  prediction        prob_1        prob_0  churn\n",
       "0  14           1  2.101751e-01  7.898249e-01      1\n",
       "1  12           0  9.999997e-01  3.362724e-07      0\n",
       "2  29           0  9.999999e-01  8.930401e-08      0\n",
       "3   9           0  1.000000e+00  0.000000e+00      0\n",
       "4  41           0  5.614065e-01  4.385935e-01      1\n",
       "5  48           0  1.000000e+00  0.000000e+00      0\n",
       "6  10           1  2.984766e-07  9.999997e-01      1\n",
       "7  15           1  4.529889e-07  9.999995e-01      1\n",
       "8  22           0  1.000000e+00  0.000000e+00      0\n",
       "9  27           0  1.000000e+00  0.000000e+00      0"
      ]
     },
     "execution_count": 12,
     "metadata": {},
     "output_type": "execute_result"
    }
   ],
   "source": [
    "prediction"
   ]
  },
  {
   "cell_type": "code",
   "execution_count": 13,
   "id": "ab029333-fd2f-4c82-9307-0df80fe76b63",
   "metadata": {
    "tags": []
   },
   "outputs": [
    {
     "name": "stdout",
     "output_type": "stream",
     "text": [
      "Generating performance metrics using:\n",
      "Model Name: KNN\n",
      "Feature Selection: lasso\n"
     ]
    }
   ],
   "source": [
    "# Generate performance metrics\n",
    "\n",
    "performance_metric = aml.evaluate(df, rank=1)"
   ]
  },
  {
   "cell_type": "code",
   "execution_count": 14,
   "id": "67a60191-536b-45a2-ae75-b2472f1518a8",
   "metadata": {
    "tags": []
   },
   "outputs": [
    {
     "data": {
      "text/plain": [
       "\n",
       "############ output_data Output ############\n",
       "\n",
       "   SeqNum              Metric  MetricValue\n",
       "0       3        Micro-Recall     0.955100\n",
       "1       5     Macro-Precision     0.925652\n",
       "2       6        Macro-Recall     0.938379\n",
       "3       7            Macro-F1     0.931824\n",
       "4       9     Weighted-Recall     0.955100\n",
       "5      10         Weighted-F1     0.955431\n",
       "6       8  Weighted-Precision     0.955949\n",
       "7       4            Micro-F1     0.955100\n",
       "8       2     Micro-Precision     0.955100\n",
       "9       1            Accuracy     0.955100\n",
       "\n",
       "\n",
       "############ result Output ############\n",
       "\n",
       "       Prediction  Mapping  CLASS_1  CLASS_2  Precision    Recall        F1  Support\n",
       "SeqNum                                                                              \n",
       "0               0  CLASS_1     7697      183   0.976777  0.966596  0.971659     7963\n",
       "1               1  CLASS_2      266     1854   0.874528  0.910162  0.891989     2037\n"
      ]
     },
     "execution_count": 14,
     "metadata": {},
     "output_type": "execute_result"
    }
   ],
   "source": [
    "performance_metric"
   ]
  },
  {
   "cell_type": "code",
   "execution_count": 15,
   "id": "9a73d6a9-b721-46f5-987d-b9a935cc398a",
   "metadata": {},
   "outputs": [
    {
     "name": "stdout",
     "output_type": "stream",
     "text": [
      "Generating prediction using:\n",
      "Model Name: DECISIONFOREST\n",
      "Feature Selection: lasso\n"
     ]
    }
   ],
   "source": [
    "# Generate prediction using data and model rank\n",
    "\n",
    "prediction = aml.predict(df, rank=4)"
   ]
  },
  {
   "cell_type": "code",
   "execution_count": 16,
   "id": "93a89587-4994-4dd4-98f5-80dacf076e65",
   "metadata": {},
   "outputs": [
    {
     "data": {
      "text/html": [
       "<style type=\"text/css\">\n",
       "\ttable {border:ridge 5px;}\n",
       "\ttable td {border:inset 1px;}\n",
       "\ttable tr#HeaderRow {background-color:grey; color:white;}</style>\n",
       "<html><table>\n",
       "\t<tr id=\"HeaderRow\">\n",
       "\t\t<th>id</th>\n",
       "\t\t<th>prediction</th>\n",
       "\t\t<th>prob_1</th>\n",
       "\t\t<th>prob_0</th>\n",
       "\t\t<th>churn</th>\n",
       "\t</tr>\n",
       "\t<tr>\n",
       "\t\t<td>4968</td>\n",
       "\t\t<td>0</td>\n",
       "\t\t<td>0.26666666666666666</td>\n",
       "\t\t<td>0.7333333333333333</td>\n",
       "\t\t<td>0</td>\n",
       "\t</tr>\n",
       "\t<tr>\n",
       "\t\t<td>3040</td>\n",
       "\t\t<td>0</td>\n",
       "\t\t<td>0.06666666666666667</td>\n",
       "\t\t<td>0.9333333333333333</td>\n",
       "\t\t<td>0</td>\n",
       "\t</tr>\n",
       "\t<tr>\n",
       "\t\t<td>6936</td>\n",
       "\t\t<td>0</td>\n",
       "\t\t<td>0.5</td>\n",
       "\t\t<td>0.5</td>\n",
       "\t\t<td>0</td>\n",
       "\t</tr>\n",
       "\t<tr>\n",
       "\t\t<td>4946</td>\n",
       "\t\t<td>1</td>\n",
       "\t\t<td>0.6</td>\n",
       "\t\t<td>0.4</td>\n",
       "\t\t<td>1</td>\n",
       "\t</tr>\n",
       "\t<tr>\n",
       "\t\t<td>7978</td>\n",
       "\t\t<td>1</td>\n",
       "\t\t<td>0.7333333333333333</td>\n",
       "\t\t<td>0.26666666666666666</td>\n",
       "\t\t<td>0</td>\n",
       "\t</tr>\n",
       "\t<tr>\n",
       "\t\t<td>2730</td>\n",
       "\t\t<td>0</td>\n",
       "\t\t<td>0.16666666666666666</td>\n",
       "\t\t<td>0.8333333333333334</td>\n",
       "\t\t<td>0</td>\n",
       "\t</tr>\n",
       "\t<tr>\n",
       "\t\t<td>6858</td>\n",
       "\t\t<td>1</td>\n",
       "\t\t<td>0.9</td>\n",
       "\t\t<td>0.1</td>\n",
       "\t\t<td>1</td>\n",
       "\t</tr>\n",
       "\t<tr>\n",
       "\t\t<td>8311</td>\n",
       "\t\t<td>0</td>\n",
       "\t\t<td>0.2</td>\n",
       "\t\t<td>0.8</td>\n",
       "\t\t<td>0</td>\n",
       "\t</tr>\n",
       "\t<tr>\n",
       "\t\t<td>291</td>\n",
       "\t\t<td>0</td>\n",
       "\t\t<td>0.16666666666666666</td>\n",
       "\t\t<td>0.8333333333333334</td>\n",
       "\t\t<td>0</td>\n",
       "\t</tr>\n",
       "\t<tr>\n",
       "\t\t<td>618</td>\n",
       "\t\t<td>1</td>\n",
       "\t\t<td>0.7666666666666667</td>\n",
       "\t\t<td>0.23333333333333334</td>\n",
       "\t\t<td>1</td>\n",
       "\t</tr>\n",
       "</table></html>"
      ],
      "text/plain": [
       "     id  prediction    prob_1    prob_0  churn\n",
       "0  4968           0  0.266667  0.733333      0\n",
       "1  3040           0  0.066667  0.933333      0\n",
       "2  6936           0  0.500000  0.500000      0\n",
       "3  4946           1  0.600000  0.400000      1\n",
       "4  7978           1  0.733333  0.266667      0\n",
       "5  2730           0  0.166667  0.833333      0\n",
       "6  6858           1  0.900000  0.100000      1\n",
       "7  8311           0  0.200000  0.800000      0\n",
       "8   291           0  0.166667  0.833333      0\n",
       "9   618           1  0.766667  0.233333      1"
      ]
     },
     "execution_count": 16,
     "metadata": {},
     "output_type": "execute_result"
    }
   ],
   "source": [
    "prediction"
   ]
  },
  {
   "cell_type": "code",
   "execution_count": 17,
   "id": "b8263bee-77a6-49ad-927d-ea9645df864c",
   "metadata": {},
   "outputs": [
    {
     "name": "stdout",
     "output_type": "stream",
     "text": [
      "Generating performance metrics using:\n",
      "Model Name: DECISIONFOREST\n",
      "Feature Selection: lasso\n"
     ]
    }
   ],
   "source": [
    "# Generate performance metrics\n",
    "\n",
    "performance_metric = aml.evaluate(df, rank=4)"
   ]
  },
  {
   "cell_type": "code",
   "execution_count": 18,
   "id": "2dd569de-4d14-496d-af2f-9f857d60936d",
   "metadata": {},
   "outputs": [
    {
     "data": {
      "text/plain": [
       "\n",
       "############ output_data Output ############\n",
       "\n",
       "   SeqNum              Metric  MetricValue\n",
       "0       3        Micro-Recall     0.775900\n",
       "1       5     Macro-Precision     0.661100\n",
       "2       6        Macro-Recall     0.671869\n",
       "3       7            Macro-F1     0.665955\n",
       "4       9     Weighted-Recall     0.775900\n",
       "5      10         Weighted-F1     0.779522\n",
       "6       8  Weighted-Precision     0.783722\n",
       "7       4            Micro-F1     0.775900\n",
       "8       2     Micro-Precision     0.775900\n",
       "9       1            Accuracy     0.775900\n",
       "\n",
       "\n",
       "############ result Output ############\n",
       "\n",
       "       Prediction  Mapping  CLASS_1  CLASS_2  Precision    Recall        F1  Support\n",
       "SeqNum                                                                              \n",
       "0               0  CLASS_1     6748     1026   0.868022  0.847419  0.857597     7963\n",
       "1               1  CLASS_2     1215     1011   0.454178  0.496318  0.474314     2037\n"
      ]
     },
     "execution_count": 18,
     "metadata": {},
     "output_type": "execute_result"
    }
   ],
   "source": [
    "performance_metric"
   ]
  },
  {
   "cell_type": "code",
   "execution_count": null,
   "id": "b48cf506-bc15-4f53-af8b-1739cd4963f7",
   "metadata": {},
   "outputs": [],
   "source": []
  },
  {
   "cell_type": "markdown",
   "id": "b4477a89-7216-4d85-a842-0cb426d63204",
   "metadata": {
    "tags": []
   },
   "source": [
    "## <b><span style='color:#F1A424'>| 2.</span> Loading Deployed Models - 'churn_mixed_models' </b>"
   ]
  },
  {
   "cell_type": "markdown",
   "id": "11dc907d-8b95-4c40-b24b-f23a39652e2b",
   "metadata": {},
   "source": [
    "### <b><span style='color:#F1A424'>| 2.1.</span> Loading Model </b>"
   ]
  },
  {
   "cell_type": "code",
   "execution_count": 19,
   "id": "41e7076b-bdab-4cca-908f-0491f46f27a8",
   "metadata": {},
   "outputs": [],
   "source": [
    "# Loading models\n",
    "\n",
    "models_2 = aml.load('churn_mixed_models')"
   ]
  },
  {
   "cell_type": "code",
   "execution_count": 20,
   "id": "a01c591a-4898-4d03-b91a-e662a4cac5ce",
   "metadata": {},
   "outputs": [
    {
     "data": {
      "text/html": [
       "<div>\n",
       "<style scoped>\n",
       "    .dataframe tbody tr th:only-of-type {\n",
       "        vertical-align: middle;\n",
       "    }\n",
       "\n",
       "    .dataframe tbody tr th {\n",
       "        vertical-align: top;\n",
       "    }\n",
       "\n",
       "    .dataframe thead th {\n",
       "        text-align: right;\n",
       "    }\n",
       "</style>\n",
       "<table border=\"1\" class=\"dataframe\">\n",
       "  <thead>\n",
       "    <tr style=\"text-align: right;\">\n",
       "      <th></th>\n",
       "      <th>RANK</th>\n",
       "      <th>MODEL_ID</th>\n",
       "      <th>FEATURE_SELECTION</th>\n",
       "      <th>ACCURACY</th>\n",
       "      <th>MICRO-PRECISION</th>\n",
       "      <th>MICRO-RECALL</th>\n",
       "      <th>MICRO-F1</th>\n",
       "      <th>MACRO-PRECISION</th>\n",
       "      <th>MACRO-RECALL</th>\n",
       "      <th>MACRO-F1</th>\n",
       "      <th>WEIGHTED-PRECISION</th>\n",
       "      <th>WEIGHTED-RECALL</th>\n",
       "      <th>WEIGHTED-F1</th>\n",
       "      <th>DATA_TABLE</th>\n",
       "    </tr>\n",
       "  </thead>\n",
       "  <tbody>\n",
       "    <tr>\n",
       "      <th>0</th>\n",
       "      <td>1</td>\n",
       "      <td>XGBOOST_2</td>\n",
       "      <td>pca</td>\n",
       "      <td>0.818640</td>\n",
       "      <td>0.818640</td>\n",
       "      <td>0.818640</td>\n",
       "      <td>0.818640</td>\n",
       "      <td>0.716248</td>\n",
       "      <td>0.634388</td>\n",
       "      <td>0.655946</td>\n",
       "      <td>0.795369</td>\n",
       "      <td>0.818640</td>\n",
       "      <td>0.797782</td>\n",
       "      <td>ml__churn_pca_1723402925700993</td>\n",
       "    </tr>\n",
       "    <tr>\n",
       "      <th>1</th>\n",
       "      <td>2</td>\n",
       "      <td>DECISIONFOREST_1</td>\n",
       "      <td>rfe</td>\n",
       "      <td>0.793620</td>\n",
       "      <td>0.793620</td>\n",
       "      <td>0.793620</td>\n",
       "      <td>0.793620</td>\n",
       "      <td>0.797885</td>\n",
       "      <td>0.793643</td>\n",
       "      <td>0.792887</td>\n",
       "      <td>0.797899</td>\n",
       "      <td>0.793620</td>\n",
       "      <td>0.792882</td>\n",
       "      <td>ml__churn_rfe_1723409188128962</td>\n",
       "    </tr>\n",
       "    <tr>\n",
       "      <th>2</th>\n",
       "      <td>3</td>\n",
       "      <td>XGBOOST_1</td>\n",
       "      <td>rfe</td>\n",
       "      <td>0.715242</td>\n",
       "      <td>0.715242</td>\n",
       "      <td>0.715242</td>\n",
       "      <td>0.715242</td>\n",
       "      <td>0.780147</td>\n",
       "      <td>0.715147</td>\n",
       "      <td>0.697677</td>\n",
       "      <td>0.780094</td>\n",
       "      <td>0.715242</td>\n",
       "      <td>0.697706</td>\n",
       "      <td>ml__churn_rfe_1723409188128962</td>\n",
       "    </tr>\n",
       "  </tbody>\n",
       "</table>\n",
       "</div>"
      ],
      "text/plain": [
       "   RANK          MODEL_ID FEATURE_SELECTION  ACCURACY  MICRO-PRECISION  \\\n",
       "0     1         XGBOOST_2               pca  0.818640         0.818640   \n",
       "1     2  DECISIONFOREST_1               rfe  0.793620         0.793620   \n",
       "2     3         XGBOOST_1               rfe  0.715242         0.715242   \n",
       "\n",
       "   MICRO-RECALL  MICRO-F1  MACRO-PRECISION  MACRO-RECALL  MACRO-F1  \\\n",
       "0      0.818640  0.818640         0.716248      0.634388  0.655946   \n",
       "1      0.793620  0.793620         0.797885      0.793643  0.792887   \n",
       "2      0.715242  0.715242         0.780147      0.715147  0.697677   \n",
       "\n",
       "   WEIGHTED-PRECISION  WEIGHTED-RECALL  WEIGHTED-F1  \\\n",
       "0            0.795369         0.818640     0.797782   \n",
       "1            0.797899         0.793620     0.792882   \n",
       "2            0.780094         0.715242     0.697706   \n",
       "\n",
       "                       DATA_TABLE  \n",
       "0  ml__churn_pca_1723402925700993  \n",
       "1  ml__churn_rfe_1723409188128962  \n",
       "2  ml__churn_rfe_1723409188128962  "
      ]
     },
     "execution_count": 20,
     "metadata": {},
     "output_type": "execute_result"
    }
   ],
   "source": [
    "models_2"
   ]
  },
  {
   "cell_type": "markdown",
   "id": "4bd5ad3c-4668-425e-bd3d-13080a595295",
   "metadata": {},
   "source": [
    "### <b><span style='color:#F1A424'>| 2.2.</span> Generating Prediction & Performance Metrics</b>"
   ]
  },
  {
   "cell_type": "code",
   "execution_count": 21,
   "id": "bfecf520-7ff7-4534-9356-306797fc5e3a",
   "metadata": {},
   "outputs": [
    {
     "name": "stdout",
     "output_type": "stream",
     "text": [
      "Generating prediction using:\n",
      "Model Name: XGBOOST\n",
      "Feature Selection: pca\n"
     ]
    }
   ],
   "source": [
    "# Generate prediction using data and model rank\n",
    "\n",
    "prediction = aml.predict(df)"
   ]
  },
  {
   "cell_type": "code",
   "execution_count": 22,
   "id": "06c842b2-703e-423c-9baa-f78a7961bd50",
   "metadata": {},
   "outputs": [
    {
     "data": {
      "text/html": [
       "<style type=\"text/css\">\n",
       "\ttable {border:ridge 5px;}\n",
       "\ttable td {border:inset 1px;}\n",
       "\ttable tr#HeaderRow {background-color:grey; color:white;}</style>\n",
       "<html><table>\n",
       "\t<tr id=\"HeaderRow\">\n",
       "\t\t<th>id</th>\n",
       "\t\t<th>Prediction</th>\n",
       "\t\t<th>Prob_1</th>\n",
       "\t\t<th>Prob_0</th>\n",
       "\t\t<th>churn</th>\n",
       "\t</tr>\n",
       "\t<tr>\n",
       "\t\t<td>7312</td>\n",
       "\t\t<td>0</td>\n",
       "\t\t<td>0.15775585356711166</td>\n",
       "\t\t<td>0.8422441464328884</td>\n",
       "\t\t<td>0</td>\n",
       "\t</tr>\n",
       "\t<tr>\n",
       "\t\t<td>4968</td>\n",
       "\t\t<td>0</td>\n",
       "\t\t<td>0.17959104021612787</td>\n",
       "\t\t<td>0.8204089597838722</td>\n",
       "\t\t<td>0</td>\n",
       "\t</tr>\n",
       "\t<tr>\n",
       "\t\t<td>291</td>\n",
       "\t\t<td>0</td>\n",
       "\t\t<td>0.13748779443229667</td>\n",
       "\t\t<td>0.8625122055677034</td>\n",
       "\t\t<td>0</td>\n",
       "\t</tr>\n",
       "\t<tr>\n",
       "\t\t<td>787</td>\n",
       "\t\t<td>0</td>\n",
       "\t\t<td>0.0793114403069032</td>\n",
       "\t\t<td>0.9206885596930967</td>\n",
       "\t\t<td>0</td>\n",
       "\t</tr>\n",
       "\t<tr>\n",
       "\t\t<td>3040</td>\n",
       "\t\t<td>0</td>\n",
       "\t\t<td>0.08037920033192167</td>\n",
       "\t\t<td>0.9196207996680784</td>\n",
       "\t\t<td>0</td>\n",
       "\t</tr>\n",
       "\t<tr>\n",
       "\t\t<td>6136</td>\n",
       "\t\t<td>0</td>\n",
       "\t\t<td>0.16942598855321234</td>\n",
       "\t\t<td>0.8305740114467877</td>\n",
       "\t\t<td>0</td>\n",
       "\t</tr>\n",
       "\t<tr>\n",
       "\t\t<td>618</td>\n",
       "\t\t<td>1</td>\n",
       "\t\t<td>0.6916263780065909</td>\n",
       "\t\t<td>0.3083736219934092</td>\n",
       "\t\t<td>1</td>\n",
       "\t</tr>\n",
       "\t<tr>\n",
       "\t\t<td>8311</td>\n",
       "\t\t<td>0</td>\n",
       "\t\t<td>0.05770198180236852</td>\n",
       "\t\t<td>0.9422980181976316</td>\n",
       "\t\t<td>0</td>\n",
       "\t</tr>\n",
       "\t<tr>\n",
       "\t\t<td>6858</td>\n",
       "\t\t<td>1</td>\n",
       "\t\t<td>0.6616466851120484</td>\n",
       "\t\t<td>0.33835331488795156</td>\n",
       "\t\t<td>1</td>\n",
       "\t</tr>\n",
       "\t<tr>\n",
       "\t\t<td>7636</td>\n",
       "\t\t<td>0</td>\n",
       "\t\t<td>0.060572862012690624</td>\n",
       "\t\t<td>0.9394271379873093</td>\n",
       "\t\t<td>0</td>\n",
       "\t</tr>\n",
       "</table></html>"
      ],
      "text/plain": [
       "     id  Prediction    Prob_1    Prob_0  churn\n",
       "0  7312           0  0.157756  0.842244      0\n",
       "1  4968           0  0.179591  0.820409      0\n",
       "2   291           0  0.137488  0.862512      0\n",
       "3   787           0  0.079311  0.920689      0\n",
       "4  3040           0  0.080379  0.919621      0\n",
       "5  6136           0  0.169426  0.830574      0\n",
       "6   618           1  0.691626  0.308374      1\n",
       "7  8311           0  0.057702  0.942298      0\n",
       "8  6858           1  0.661647  0.338353      1\n",
       "9  7636           0  0.060573  0.939427      0"
      ]
     },
     "execution_count": 22,
     "metadata": {},
     "output_type": "execute_result"
    }
   ],
   "source": [
    "prediction"
   ]
  },
  {
   "cell_type": "code",
   "execution_count": 23,
   "id": "9cdf111d-4384-4c64-911c-0a8a5a2a632d",
   "metadata": {},
   "outputs": [
    {
     "name": "stdout",
     "output_type": "stream",
     "text": [
      "Generating performance metrics using:\n",
      "Model Name: XGBOOST\n",
      "Feature Selection: pca\n"
     ]
    }
   ],
   "source": [
    "# Generate performance metrics\n",
    "\n",
    "performance_metric = aml.evaluate(df)"
   ]
  },
  {
   "cell_type": "code",
   "execution_count": 24,
   "id": "e02a0caa-02b7-4687-88a3-a22ae39e0915",
   "metadata": {},
   "outputs": [
    {
     "data": {
      "text/plain": [
       "\n",
       "############ output_data Output ############\n",
       "\n",
       "   SeqNum              Metric  MetricValue\n",
       "0       3        Micro-Recall     0.843700\n",
       "1       5     Macro-Precision     0.781573\n",
       "2       6        Macro-Recall     0.681195\n",
       "3       7            Macro-F1     0.710797\n",
       "4       9     Weighted-Recall     0.843700\n",
       "5      10         Weighted-F1     0.826977\n",
       "6       8  Weighted-Precision     0.829813\n",
       "7       4            Micro-F1     0.843700\n",
       "8       2     Micro-Precision     0.843700\n",
       "9       1            Accuracy     0.843700\n",
       "\n",
       "\n",
       "############ result Output ############\n",
       "\n",
       "       Prediction  Mapping  CLASS_1  CLASS_2  Precision    Recall        F1  Support\n",
       "SeqNum                                                                              \n",
       "0               0  CLASS_1     7608     1208   0.862976  0.955419  0.906848     7963\n",
       "1               1  CLASS_2      355      829   0.700169  0.406971  0.514747     2037\n"
      ]
     },
     "execution_count": 24,
     "metadata": {},
     "output_type": "execute_result"
    }
   ],
   "source": [
    "performance_metric"
   ]
  },
  {
   "cell_type": "code",
   "execution_count": null,
   "id": "c0c38e18-83fe-40f4-a9ea-070dd8850d9e",
   "metadata": {},
   "outputs": [],
   "source": []
  },
  {
   "cell_type": "markdown",
   "id": "7cca5778-aaf7-42d0-a513-8312f8d7837b",
   "metadata": {
    "tags": []
   },
   "source": [
    "## <b><span style='color:#F1A424'>| 3.</span> Loading Deployed Models - 'churn_range_models' </b>"
   ]
  },
  {
   "cell_type": "markdown",
   "id": "83417d03-9c33-428a-bb47-31b99c36f594",
   "metadata": {},
   "source": [
    "### <b><span style='color:#F1A424'>| 3.1.</span> Loading Model</b>"
   ]
  },
  {
   "cell_type": "code",
   "execution_count": 25,
   "id": "ddccb9c1-8ed5-4bf3-b187-f36f5f143406",
   "metadata": {},
   "outputs": [],
   "source": [
    "# Creating another AutoML object\n",
    "\n",
    "obj=AutoML()"
   ]
  },
  {
   "cell_type": "code",
   "execution_count": 26,
   "id": "f93bd37c-de8a-41b1-821b-aa87a3ad9ac5",
   "metadata": {},
   "outputs": [],
   "source": [
    "# Loading models\n",
    "\n",
    "models_3 = obj.load('churn_range_models')"
   ]
  },
  {
   "cell_type": "code",
   "execution_count": 27,
   "id": "4222f023-71a9-4b59-a3af-7154cb2e0ccf",
   "metadata": {},
   "outputs": [
    {
     "data": {
      "text/html": [
       "<div>\n",
       "<style scoped>\n",
       "    .dataframe tbody tr th:only-of-type {\n",
       "        vertical-align: middle;\n",
       "    }\n",
       "\n",
       "    .dataframe tbody tr th {\n",
       "        vertical-align: top;\n",
       "    }\n",
       "\n",
       "    .dataframe thead th {\n",
       "        text-align: right;\n",
       "    }\n",
       "</style>\n",
       "<table border=\"1\" class=\"dataframe\">\n",
       "  <thead>\n",
       "    <tr style=\"text-align: right;\">\n",
       "      <th></th>\n",
       "      <th>RANK</th>\n",
       "      <th>MODEL_ID</th>\n",
       "      <th>FEATURE_SELECTION</th>\n",
       "      <th>ACCURACY</th>\n",
       "      <th>MICRO-PRECISION</th>\n",
       "      <th>MICRO-RECALL</th>\n",
       "      <th>MICRO-F1</th>\n",
       "      <th>MACRO-PRECISION</th>\n",
       "      <th>MACRO-RECALL</th>\n",
       "      <th>MACRO-F1</th>\n",
       "      <th>WEIGHTED-PRECISION</th>\n",
       "      <th>WEIGHTED-RECALL</th>\n",
       "      <th>WEIGHTED-F1</th>\n",
       "      <th>DATA_TABLE</th>\n",
       "    </tr>\n",
       "  </thead>\n",
       "  <tbody>\n",
       "    <tr>\n",
       "      <th>0</th>\n",
       "      <td>1</td>\n",
       "      <td>KNN_8</td>\n",
       "      <td>pca</td>\n",
       "      <td>0.778338</td>\n",
       "      <td>0.778338</td>\n",
       "      <td>0.778338</td>\n",
       "      <td>0.778338</td>\n",
       "      <td>0.624802</td>\n",
       "      <td>0.587976</td>\n",
       "      <td>0.597757</td>\n",
       "      <td>0.749093</td>\n",
       "      <td>0.778338</td>\n",
       "      <td>0.759329</td>\n",
       "      <td>ml__churn_pca_1723403937001843</td>\n",
       "    </tr>\n",
       "    <tr>\n",
       "      <th>1</th>\n",
       "      <td>2</td>\n",
       "      <td>DECISIONFOREST_0</td>\n",
       "      <td>lasso</td>\n",
       "      <td>0.767625</td>\n",
       "      <td>0.767625</td>\n",
       "      <td>0.767625</td>\n",
       "      <td>0.767625</td>\n",
       "      <td>0.793952</td>\n",
       "      <td>0.767684</td>\n",
       "      <td>0.762329</td>\n",
       "      <td>0.793987</td>\n",
       "      <td>0.767625</td>\n",
       "      <td>0.762315</td>\n",
       "      <td>ml__churn_lasso_1723403639131079</td>\n",
       "    </tr>\n",
       "    <tr>\n",
       "      <th>2</th>\n",
       "      <td>3</td>\n",
       "      <td>XGBOOST_1</td>\n",
       "      <td>rfe</td>\n",
       "      <td>0.715242</td>\n",
       "      <td>0.715242</td>\n",
       "      <td>0.715242</td>\n",
       "      <td>0.715242</td>\n",
       "      <td>0.780147</td>\n",
       "      <td>0.715147</td>\n",
       "      <td>0.697677</td>\n",
       "      <td>0.780094</td>\n",
       "      <td>0.715242</td>\n",
       "      <td>0.697706</td>\n",
       "      <td>ml__churn_rfe_1723402723065074</td>\n",
       "    </tr>\n",
       "    <tr>\n",
       "      <th>3</th>\n",
       "      <td>4</td>\n",
       "      <td>XGBOOST_3</td>\n",
       "      <td>lasso</td>\n",
       "      <td>0.587633</td>\n",
       "      <td>0.587633</td>\n",
       "      <td>0.587633</td>\n",
       "      <td>0.587633</td>\n",
       "      <td>0.725722</td>\n",
       "      <td>0.587479</td>\n",
       "      <td>0.512991</td>\n",
       "      <td>0.725653</td>\n",
       "      <td>0.587633</td>\n",
       "      <td>0.513066</td>\n",
       "      <td>ml__churn_lasso_1723403639131079</td>\n",
       "    </tr>\n",
       "    <tr>\n",
       "      <th>4</th>\n",
       "      <td>5</td>\n",
       "      <td>XGBOOST_0</td>\n",
       "      <td>lasso</td>\n",
       "      <td>0.587633</td>\n",
       "      <td>0.587633</td>\n",
       "      <td>0.587633</td>\n",
       "      <td>0.587633</td>\n",
       "      <td>0.725722</td>\n",
       "      <td>0.587479</td>\n",
       "      <td>0.512991</td>\n",
       "      <td>0.725653</td>\n",
       "      <td>0.587633</td>\n",
       "      <td>0.513066</td>\n",
       "      <td>ml__churn_lasso_1723403639131079</td>\n",
       "    </tr>\n",
       "  </tbody>\n",
       "</table>\n",
       "</div>"
      ],
      "text/plain": [
       "   RANK          MODEL_ID FEATURE_SELECTION  ACCURACY  MICRO-PRECISION  \\\n",
       "0     1             KNN_8               pca  0.778338         0.778338   \n",
       "1     2  DECISIONFOREST_0             lasso  0.767625         0.767625   \n",
       "2     3         XGBOOST_1               rfe  0.715242         0.715242   \n",
       "3     4         XGBOOST_3             lasso  0.587633         0.587633   \n",
       "4     5         XGBOOST_0             lasso  0.587633         0.587633   \n",
       "\n",
       "   MICRO-RECALL  MICRO-F1  MACRO-PRECISION  MACRO-RECALL  MACRO-F1  \\\n",
       "0      0.778338  0.778338         0.624802      0.587976  0.597757   \n",
       "1      0.767625  0.767625         0.793952      0.767684  0.762329   \n",
       "2      0.715242  0.715242         0.780147      0.715147  0.697677   \n",
       "3      0.587633  0.587633         0.725722      0.587479  0.512991   \n",
       "4      0.587633  0.587633         0.725722      0.587479  0.512991   \n",
       "\n",
       "   WEIGHTED-PRECISION  WEIGHTED-RECALL  WEIGHTED-F1  \\\n",
       "0            0.749093         0.778338     0.759329   \n",
       "1            0.793987         0.767625     0.762315   \n",
       "2            0.780094         0.715242     0.697706   \n",
       "3            0.725653         0.587633     0.513066   \n",
       "4            0.725653         0.587633     0.513066   \n",
       "\n",
       "                         DATA_TABLE  \n",
       "0    ml__churn_pca_1723403937001843  \n",
       "1  ml__churn_lasso_1723403639131079  \n",
       "2    ml__churn_rfe_1723402723065074  \n",
       "3  ml__churn_lasso_1723403639131079  \n",
       "4  ml__churn_lasso_1723403639131079  "
      ]
     },
     "execution_count": 27,
     "metadata": {},
     "output_type": "execute_result"
    }
   ],
   "source": [
    "models_3"
   ]
  },
  {
   "cell_type": "markdown",
   "id": "f7af3aa1-2bee-4efd-80de-57f5816924a2",
   "metadata": {},
   "source": [
    "### <b><span style='color:#F1A424'>| 3.2.</span> Generating Prediction & Performance Metrics</b>"
   ]
  },
  {
   "cell_type": "code",
   "execution_count": 28,
   "id": "b238fa86-6c91-47ad-b274-3e214f5a6841",
   "metadata": {},
   "outputs": [
    {
     "name": "stdout",
     "output_type": "stream",
     "text": [
      "Generating prediction using:\n",
      "Model Name: DECISIONFOREST\n",
      "Feature Selection: lasso\n",
      "Completed: ｜⫿⫿⫿⫿⫿⫿⫿⫿⫿⫿⫿⫿⫿⫿⫿⫿⫿⫿⫿⫿⫿⫿⫿⫿⫿⫿⫿⫿⫿⫿⫿⫿⫿⫿⫿⫿⫿⫿⫿⫿⫿⫿⫿⫿⫿⫿⫿⫿⫿⫿⫿⫿⫿⫿⫿⫿⫿⫿⫿⫿｜ 100% - 15/15            \r"
     ]
    }
   ],
   "source": [
    "# Generate prediction using data and model rank\n",
    "\n",
    "prediction = obj.predict(df, rank=2)"
   ]
  },
  {
   "cell_type": "code",
   "execution_count": 29,
   "id": "21b7b20f-6768-485e-9007-38f9bd309d47",
   "metadata": {},
   "outputs": [
    {
     "data": {
      "text/html": [
       "<style type=\"text/css\">\n",
       "\ttable {border:ridge 5px;}\n",
       "\ttable td {border:inset 1px;}\n",
       "\ttable tr#HeaderRow {background-color:grey; color:white;}</style>\n",
       "<html><table>\n",
       "\t<tr id=\"HeaderRow\">\n",
       "\t\t<th>id</th>\n",
       "\t\t<th>prediction</th>\n",
       "\t\t<th>prob_1</th>\n",
       "\t\t<th>prob_0</th>\n",
       "\t\t<th>churn</th>\n",
       "\t</tr>\n",
       "\t<tr>\n",
       "\t\t<td>6370</td>\n",
       "\t\t<td>1</td>\n",
       "\t\t<td>1.0</td>\n",
       "\t\t<td>0.0</td>\n",
       "\t\t<td>0</td>\n",
       "\t</tr>\n",
       "\t<tr>\n",
       "\t\t<td>2279</td>\n",
       "\t\t<td>0</td>\n",
       "\t\t<td>0.0</td>\n",
       "\t\t<td>1.0</td>\n",
       "\t\t<td>0</td>\n",
       "\t</tr>\n",
       "\t<tr>\n",
       "\t\t<td>8776</td>\n",
       "\t\t<td>0</td>\n",
       "\t\t<td>0.0</td>\n",
       "\t\t<td>1.0</td>\n",
       "\t\t<td>0</td>\n",
       "\t</tr>\n",
       "\t<tr>\n",
       "\t\t<td>9046</td>\n",
       "\t\t<td>0</td>\n",
       "\t\t<td>0.0</td>\n",
       "\t\t<td>1.0</td>\n",
       "\t\t<td>0</td>\n",
       "\t</tr>\n",
       "\t<tr>\n",
       "\t\t<td>5431</td>\n",
       "\t\t<td>1</td>\n",
       "\t\t<td>1.0</td>\n",
       "\t\t<td>0.0</td>\n",
       "\t\t<td>0</td>\n",
       "\t</tr>\n",
       "\t<tr>\n",
       "\t\t<td>6611</td>\n",
       "\t\t<td>0</td>\n",
       "\t\t<td>0.0</td>\n",
       "\t\t<td>1.0</td>\n",
       "\t\t<td>0</td>\n",
       "\t</tr>\n",
       "\t<tr>\n",
       "\t\t<td>5067</td>\n",
       "\t\t<td>0</td>\n",
       "\t\t<td>0.0</td>\n",
       "\t\t<td>1.0</td>\n",
       "\t\t<td>0</td>\n",
       "\t</tr>\n",
       "\t<tr>\n",
       "\t\t<td>9818</td>\n",
       "\t\t<td>1</td>\n",
       "\t\t<td>1.0</td>\n",
       "\t\t<td>0.0</td>\n",
       "\t\t<td>0</td>\n",
       "\t</tr>\n",
       "\t<tr>\n",
       "\t\t<td>8459</td>\n",
       "\t\t<td>0</td>\n",
       "\t\t<td>0.0</td>\n",
       "\t\t<td>1.0</td>\n",
       "\t\t<td>0</td>\n",
       "\t</tr>\n",
       "\t<tr>\n",
       "\t\t<td>5032</td>\n",
       "\t\t<td>0</td>\n",
       "\t\t<td>0.0</td>\n",
       "\t\t<td>1.0</td>\n",
       "\t\t<td>0</td>\n",
       "\t</tr>\n",
       "</table></html>"
      ],
      "text/plain": [
       "     id  prediction  prob_1  prob_0  churn\n",
       "0  6370           1     1.0     0.0      0\n",
       "1  2279           0     0.0     1.0      0\n",
       "2  8776           0     0.0     1.0      0\n",
       "3  9046           0     0.0     1.0      0\n",
       "4  5431           1     1.0     0.0      0\n",
       "5  6611           0     0.0     1.0      0\n",
       "6  5067           0     0.0     1.0      0\n",
       "7  9818           1     1.0     0.0      0\n",
       "8  8459           0     0.0     1.0      0\n",
       "9  5032           0     0.0     1.0      0"
      ]
     },
     "execution_count": 29,
     "metadata": {},
     "output_type": "execute_result"
    }
   ],
   "source": [
    "prediction"
   ]
  },
  {
   "cell_type": "code",
   "execution_count": 30,
   "id": "5ccde57c-4546-435e-ade4-193ece793133",
   "metadata": {},
   "outputs": [
    {
     "name": "stdout",
     "output_type": "stream",
     "text": [
      "Generating performance metrics using:\n",
      "Model Name: DECISIONFOREST\n",
      "Feature Selection: lasso\n"
     ]
    }
   ],
   "source": [
    "# Generate performance metrics\n",
    "\n",
    "performance_metric = obj.evaluate(df, rank=2)"
   ]
  },
  {
   "cell_type": "code",
   "execution_count": 31,
   "id": "2fcc91d8-4fe8-4650-9514-830770a97cb8",
   "metadata": {},
   "outputs": [
    {
     "data": {
      "text/plain": [
       "\n",
       "############ output_data Output ############\n",
       "\n",
       "   SeqNum              Metric  MetricValue\n",
       "0       3        Micro-Recall     0.813600\n",
       "1       5     Macro-Precision     0.708305\n",
       "2       6        Macro-Recall     0.650056\n",
       "3       7            Macro-F1     0.668807\n",
       "4       9     Weighted-Recall     0.813600\n",
       "5      10         Weighted-F1     0.798578\n",
       "6       8  Weighted-Precision     0.793805\n",
       "7       4            Micro-F1     0.813600\n",
       "8       2     Micro-Precision     0.813600\n",
       "9       1            Accuracy     0.813600\n",
       "\n",
       "\n",
       "############ result Output ############\n",
       "\n",
       "       Prediction  Mapping  CLASS_1  CLASS_2  Precision    Recall        F1  Support\n",
       "SeqNum                                                                              \n",
       "0               0  CLASS_1     7374     1275   0.852584  0.926033  0.887792     7963\n",
       "1               1  CLASS_2      589      762   0.564027  0.374080  0.449823     2037\n"
      ]
     },
     "execution_count": 31,
     "metadata": {},
     "output_type": "execute_result"
    }
   ],
   "source": [
    "performance_metric"
   ]
  },
  {
   "cell_type": "code",
   "execution_count": 32,
   "id": "8f195b03-6057-4c47-adf0-38d756ff8440",
   "metadata": {},
   "outputs": [
    {
     "data": {
      "text/plain": [
       "True"
      ]
     },
     "execution_count": 32,
     "metadata": {},
     "output_type": "execute_result"
    }
   ],
   "source": [
    "remove_context()"
   ]
  },
  {
   "cell_type": "code",
   "execution_count": null,
   "id": "1777bdf8-c8f8-4623-8e85-2d1c70fe074a",
   "metadata": {},
   "outputs": [],
   "source": []
  }
 ],
 "metadata": {
  "kernelspec": {
   "display_name": "Python 3 (ipykernel)",
   "language": "python",
   "name": "python3"
  },
  "language_info": {
   "codemirror_mode": {
    "name": "ipython",
    "version": 3
   },
   "file_extension": ".py",
   "mimetype": "text/x-python",
   "name": "python",
   "nbconvert_exporter": "python",
   "pygments_lexer": "ipython3",
   "version": "3.10.9"
  }
 },
 "nbformat": 4,
 "nbformat_minor": 5
}
