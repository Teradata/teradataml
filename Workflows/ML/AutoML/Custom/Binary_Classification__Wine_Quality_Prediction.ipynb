{
 "cells": [
  {
   "cell_type": "markdown",
   "id": "2762f1d8-5a66-411f-a625-34cf16ac6dd3",
   "metadata": {},
   "source": [
    "# <b><span style='color:#F1A424'>AutoML - Binary Classification - Wine Quality Prediction </span> </b>"
   ]
  },
  {
   "cell_type": "markdown",
   "id": "894b58c5-5910-4683-ba4a-a8d9ea5e3be2",
   "metadata": {},
   "source": [
    "### Disclaimer\n",
    "Please note, the Vantage Functions via SQLAlchemy feature is a preview/beta code release with limited functionality (the “Code”). As such, you acknowledge that the Code is experimental in nature and that the Code is provided “AS IS” and may not be functional on any machine or in any environment. TERADATA DISCLAIMS ALL WARRANTIES RELATING TO THE CODE, EXPRESS OR IMPLIED, INCLUDING, BUT NOT LIMITED TO, ANY WARRANTIES AGAINST INFRINGEMENT OF THIRD-PARTY RIGHTS, MERCHANTABILITY AND FITNESS FOR A PARTICULAR PURPOSE.\n",
    "\n",
    "TERADATA SHALL NOT BE RESPONSIBLE OR LIABLE WITH RESPECT TO ANY SUBJECT MATTER OF THE CODE UNDER ANY CONTRACT, NEGLIGENCE, STRICT LIABILITY OR OTHER THEORY \n",
    "    (A) FOR LOSS OR INACCURACY OF DATA OR COST OF PROCUREMENT OF SUBSTITUTE GOODS, SERVICES OR TECHNOLOGY, OR \n",
    "    (B) FOR ANY INDIRECT, INCIDENTAL OR CONSEQUENTIAL DAMAGES INCLUDING, BUT NOT LIMITED TO LOSS OF REVENUES AND LOSS OF PROFITS. TERADATA SHALL NOT BE RESPONSIBLE FOR ANY MATTER BEYOND ITS REASONABLE CONTROL.\n",
    "\n",
    "Notwithstanding anything to the contrary: \n",
    "    (a) Teradata will have no obligation of any kind with respect to any Code-related comments, suggestions, design changes or improvements that you elect to provide to Teradata in either verbal or written form (collectively, “Feedback”), and \n",
    "    (b) Teradata and its affiliates are hereby free to use any ideas, concepts, know-how or techniques, in whole or in part, contained in Feedback: \n",
    "        (i) for any purpose whatsoever, including developing, manufacturing, and/or marketing products and/or services incorporating Feedback in whole or in part, and \n",
    "        (ii) without any restrictions or limitations, including requiring the payment of any license fees, royalties, or other consideration. "
   ]
  },
  {
   "cell_type": "markdown",
   "id": "f225fb94-b2c8-4c92-af38-733d08e0e2a1",
   "metadata": {},
   "source": [
    "## <b> Problem overview:</b>\n",
    "    "
   ]
  },
  {
   "cell_type": "markdown",
   "id": "af9813eb-9c44-4968-a5fe-d1c74415c894",
   "metadata": {},
   "source": [
    "**Dataset used : Wine Quality Dataset**\n",
    "\n",
    "**Features**:\n",
    "\n",
    "- `fixed acidity`: fixed acidity of wine.\n",
    "- `volatile acidity`: volatile acidity of wine.\n",
    "- `citric acid`: citric acid of wine.\n",
    "- `residual sugar`: residual sugar of wine.\n",
    "- `chlorides`: chlorides.\n",
    "- `free sulfur dioxide`: free sulfur dioxide in wine.\n",
    "- `total sulfur dioxide`: total sulfur dioxide in wine.\n",
    "- `density`: density of wine.\n",
    "- `pH`: pH of wine.\n",
    "- `sulphates`: sulphates in wine.\n",
    "- `alcohol`: alcohol in wine.\n",
    "\n",
    "**Target Variable**:\n",
    "\n",
    "- `quality`: Quality of wine\n",
    "\n",
    "        \n",
    "**Objective**:\n",
    "\n",
    "The primary objective is typically to build a model that can accurately predict the quality of wine.\n",
    "\n",
    "**Usecase**:\n",
    "\n",
    "Here, we will use AutoML(Automated Machine Learning) functionality to automate the entire process of developing a predictive model. It will perform feature exploration, feature engineering, data preparation, model training and evaluation on dataset in custom run and at end we will get leaderboard containined different models along with their performance. Model will also have rank associated with them which indicates which is best performing model for given data followed by other models.\n",
    "\n",
    "As part of custom AutoML run, we will customize below functionalities:\n",
    "- Train test split with training size 0.7.\n",
    "- Data imbalance handling with 'SMOTE' method.\n",
    "- Outlier filteration with 'carling' method and deletion of outliers for 'residual_sugar'.\n",
    "- Feature scaling with 'std' method.\n",
    "- Addition of customized value in hyperparameter 'k' for 'knn' model."
   ]
  },
  {
   "cell_type": "code",
   "execution_count": 1,
   "id": "66568348-4d00-477c-a071-17995f797c95",
   "metadata": {},
   "outputs": [],
   "source": [
    "# Importing AutoML from teradataml\n",
    "from teradataml import AutoML, AutoClassifier"
   ]
  },
  {
   "cell_type": "code",
   "execution_count": 2,
   "id": "17dfae70-0401-4cc4-ba1c-400a5cf62451",
   "metadata": {},
   "outputs": [],
   "source": [
    "# Importing other important libraries\n",
    "import getpass\n",
    "from teradataml import create_context, remove_context\n",
    "from teradataml import DataFrame\n",
    "from teradataml import load_example_data\n",
    "from teradataml import TrainTestSplit"
   ]
  },
  {
   "cell_type": "code",
   "execution_count": 3,
   "id": "cadd9ed2-42d6-4899-b23e-4e2cf601162f",
   "metadata": {},
   "outputs": [
    {
     "name": "stdin",
     "output_type": "stream",
     "text": [
      "Host:  ········\n",
      "Username:  ········\n",
      "Password:  ········\n"
     ]
    }
   ],
   "source": [
    "# Create the connection.\n",
    "host = getpass.getpass(\"Host: \")\n",
    "username = getpass.getpass(\"Username: \")\n",
    "password = getpass.getpass(\"Password: \")\n",
    "\n",
    "con = create_context(host=host, username=username, password=password)"
   ]
  },
  {
   "cell_type": "markdown",
   "id": "be767a89-d5b8-4876-91cb-36980754586e",
   "metadata": {},
   "source": [
    "## <b><span style='color:#F1A424'>| 1.</span> Loading Dataset </b>"
   ]
  },
  {
   "cell_type": "code",
   "execution_count": 4,
   "id": "f1592c52-b247-4792-be2a-30b49bbeb9b6",
   "metadata": {},
   "outputs": [
    {
     "name": "stdout",
     "output_type": "stream",
     "text": [
      "WARNING: Skipped loading table wine_data since it already exists in the database.\n"
     ]
    }
   ],
   "source": [
    "# Loading dataset from example data collection\n",
    "load_example_data('teradataml','wine_data')"
   ]
  },
  {
   "cell_type": "code",
   "execution_count": 5,
   "id": "3846ae0f-004b-4b8e-9fea-06fac4294065",
   "metadata": {},
   "outputs": [],
   "source": [
    "# Fetching in teradata dataframe\n",
    "wine_df = DataFrame(\"wine_data\")"
   ]
  },
  {
   "cell_type": "code",
   "execution_count": 6,
   "id": "442ccd80-b444-413e-970d-d855ec3d6cae",
   "metadata": {},
   "outputs": [
    {
     "data": {
      "text/html": [
       "<style type=\"text/css\">\n",
       "\ttable {border:ridge 5px;}\n",
       "\ttable td {border:inset 1px;}\n",
       "\ttable tr#HeaderRow {background-color:grey; color:white;}</style>\n",
       "<html><table>\n",
       "\t<tr id=\"HeaderRow\">\n",
       "\t\t<th>fixed_acidity</th>\n",
       "\t\t<th>volatile_acidity</th>\n",
       "\t\t<th>citric_acid</th>\n",
       "\t\t<th>residual_sugar</th>\n",
       "\t\t<th>chlorides</th>\n",
       "\t\t<th>free_sulfur_dioxide</th>\n",
       "\t\t<th>total_sulfur_dioxide</th>\n",
       "\t\t<th>density</th>\n",
       "\t\t<th>pH</th>\n",
       "\t\t<th>sulphates</th>\n",
       "\t\t<th>alcohol</th>\n",
       "\t\t<th>quality</th>\n",
       "\t</tr>\n",
       "\t<tr>\n",
       "\t\t<td>4.9</td>\n",
       "\t\t<td>0.42</td>\n",
       "\t\t<td>0.0</td>\n",
       "\t\t<td>2.1</td>\n",
       "\t\t<td>0.048</td>\n",
       "\t\t<td>16.0</td>\n",
       "\t\t<td>42.0</td>\n",
       "\t\t<td>0.99154</td>\n",
       "\t\t<td>3.71</td>\n",
       "\t\t<td>0.74</td>\n",
       "\t\t<td>14.0</td>\n",
       "\t\t<td>good</td>\n",
       "\t</tr>\n",
       "\t<tr>\n",
       "\t\t<td>5.0</td>\n",
       "\t\t<td>0.38</td>\n",
       "\t\t<td>0.01</td>\n",
       "\t\t<td>1.6</td>\n",
       "\t\t<td>0.048</td>\n",
       "\t\t<td>26.0</td>\n",
       "\t\t<td>60.0</td>\n",
       "\t\t<td>0.99084</td>\n",
       "\t\t<td>3.7</td>\n",
       "\t\t<td>0.75</td>\n",
       "\t\t<td>14.0</td>\n",
       "\t\t<td>good</td>\n",
       "\t</tr>\n",
       "\t<tr>\n",
       "\t\t<td>5.0</td>\n",
       "\t\t<td>0.4</td>\n",
       "\t\t<td>0.5</td>\n",
       "\t\t<td>4.3</td>\n",
       "\t\t<td>0.046</td>\n",
       "\t\t<td>29.0</td>\n",
       "\t\t<td>80.0</td>\n",
       "\t\t<td>0.9902</td>\n",
       "\t\t<td>3.49</td>\n",
       "\t\t<td>0.66</td>\n",
       "\t\t<td>13.6</td>\n",
       "\t\t<td>good</td>\n",
       "\t</tr>\n",
       "\t<tr>\n",
       "\t\t<td>5.0</td>\n",
       "\t\t<td>0.74</td>\n",
       "\t\t<td>0.0</td>\n",
       "\t\t<td>1.2</td>\n",
       "\t\t<td>0.041</td>\n",
       "\t\t<td>16.0</td>\n",
       "\t\t<td>46.0</td>\n",
       "\t\t<td>0.99258</td>\n",
       "\t\t<td>4.01</td>\n",
       "\t\t<td>0.59</td>\n",
       "\t\t<td>12.5</td>\n",
       "\t\t<td>good</td>\n",
       "\t</tr>\n",
       "\t<tr>\n",
       "\t\t<td>5.0</td>\n",
       "\t\t<td>1.04</td>\n",
       "\t\t<td>0.24</td>\n",
       "\t\t<td>1.6</td>\n",
       "\t\t<td>0.05</td>\n",
       "\t\t<td>32.0</td>\n",
       "\t\t<td>96.0</td>\n",
       "\t\t<td>0.9934</td>\n",
       "\t\t<td>3.74</td>\n",
       "\t\t<td>0.62</td>\n",
       "\t\t<td>11.5</td>\n",
       "\t\t<td>bad</td>\n",
       "\t</tr>\n",
       "\t<tr>\n",
       "\t\t<td>5.1</td>\n",
       "\t\t<td>0.51</td>\n",
       "\t\t<td>0.18</td>\n",
       "\t\t<td>2.1</td>\n",
       "\t\t<td>0.042</td>\n",
       "\t\t<td>16.0</td>\n",
       "\t\t<td>101.0</td>\n",
       "\t\t<td>0.9924</td>\n",
       "\t\t<td>3.46</td>\n",
       "\t\t<td>0.87</td>\n",
       "\t\t<td>12.9</td>\n",
       "\t\t<td>good</td>\n",
       "\t</tr>\n",
       "\t<tr>\n",
       "\t\t<td>5.0</td>\n",
       "\t\t<td>0.42</td>\n",
       "\t\t<td>0.24</td>\n",
       "\t\t<td>2.0</td>\n",
       "\t\t<td>0.06</td>\n",
       "\t\t<td>19.0</td>\n",
       "\t\t<td>50.0</td>\n",
       "\t\t<td>0.9917</td>\n",
       "\t\t<td>3.72</td>\n",
       "\t\t<td>0.74</td>\n",
       "\t\t<td>14.0</td>\n",
       "\t\t<td>good</td>\n",
       "\t</tr>\n",
       "\t<tr>\n",
       "\t\t<td>5.0</td>\n",
       "\t\t<td>1.02</td>\n",
       "\t\t<td>0.04</td>\n",
       "\t\t<td>1.4</td>\n",
       "\t\t<td>0.045</td>\n",
       "\t\t<td>41.0</td>\n",
       "\t\t<td>85.0</td>\n",
       "\t\t<td>0.9938</td>\n",
       "\t\t<td>3.75</td>\n",
       "\t\t<td>0.48</td>\n",
       "\t\t<td>10.5</td>\n",
       "\t\t<td>bad</td>\n",
       "\t</tr>\n",
       "\t<tr>\n",
       "\t\t<td>4.7</td>\n",
       "\t\t<td>0.6</td>\n",
       "\t\t<td>0.17</td>\n",
       "\t\t<td>2.3</td>\n",
       "\t\t<td>0.058</td>\n",
       "\t\t<td>17.0</td>\n",
       "\t\t<td>106.0</td>\n",
       "\t\t<td>0.9932</td>\n",
       "\t\t<td>3.85</td>\n",
       "\t\t<td>0.6</td>\n",
       "\t\t<td>12.9</td>\n",
       "\t\t<td>good</td>\n",
       "\t</tr>\n",
       "\t<tr>\n",
       "\t\t<td>4.6</td>\n",
       "\t\t<td>0.52</td>\n",
       "\t\t<td>0.15</td>\n",
       "\t\t<td>2.1</td>\n",
       "\t\t<td>0.054</td>\n",
       "\t\t<td>8.0</td>\n",
       "\t\t<td>65.0</td>\n",
       "\t\t<td>0.9934</td>\n",
       "\t\t<td>3.9</td>\n",
       "\t\t<td>0.56</td>\n",
       "\t\t<td>13.1</td>\n",
       "\t\t<td>bad</td>\n",
       "\t</tr>\n",
       "</table></html>"
      ],
      "text/plain": [
       "               volatile_acidity  citric_acid  residual_sugar  chlorides  free_sulfur_dioxide  total_sulfur_dioxide  density    pH  sulphates  alcohol quality\n",
       "fixed_acidity                                                                                                                                                \n",
       "4.9                        0.42         0.00             2.1      0.048                 16.0                  42.0  0.99154  3.71       0.74     14.0    good\n",
       "5.0                        0.38         0.01             1.6      0.048                 26.0                  60.0  0.99084  3.70       0.75     14.0    good\n",
       "5.0                        0.40         0.50             4.3      0.046                 29.0                  80.0  0.99020  3.49       0.66     13.6    good\n",
       "5.0                        0.74         0.00             1.2      0.041                 16.0                  46.0  0.99258  4.01       0.59     12.5    good\n",
       "5.0                        1.04         0.24             1.6      0.050                 32.0                  96.0  0.99340  3.74       0.62     11.5     bad\n",
       "5.1                        0.51         0.18             2.1      0.042                 16.0                 101.0  0.99240  3.46       0.87     12.9    good\n",
       "5.0                        0.42         0.24             2.0      0.060                 19.0                  50.0  0.99170  3.72       0.74     14.0    good\n",
       "5.0                        1.02         0.04             1.4      0.045                 41.0                  85.0  0.99380  3.75       0.48     10.5     bad\n",
       "4.7                        0.60         0.17             2.3      0.058                 17.0                 106.0  0.99320  3.85       0.60     12.9    good\n",
       "4.6                        0.52         0.15             2.1      0.054                  8.0                  65.0  0.99340  3.90       0.56     13.1     bad"
      ]
     },
     "execution_count": 6,
     "metadata": {},
     "output_type": "execute_result"
    }
   ],
   "source": [
    "# first 5 rows\n",
    "wine_df.head()"
   ]
  },
  {
   "cell_type": "code",
   "execution_count": 7,
   "id": "636c220d-d12f-4ea5-ab2b-c9203ef00d49",
   "metadata": {},
   "outputs": [
    {
     "data": {
      "text/plain": [
       "(1599, 12)"
      ]
     },
     "execution_count": 7,
     "metadata": {},
     "output_type": "execute_result"
    }
   ],
   "source": [
    "# wine_df dataset\n",
    "wine_df.shape"
   ]
  },
  {
   "cell_type": "code",
   "execution_count": 8,
   "id": "e5d1fad7-8784-4d7a-be1f-7be1d3991d8f",
   "metadata": {},
   "outputs": [],
   "source": [
    "# Performing sampling to get 80% for trainning and 20% for testing\n",
    "wine_df_sample = wine_df.sample(frac = [0.8, 0.2])"
   ]
  },
  {
   "cell_type": "code",
   "execution_count": 9,
   "id": "a0e6891a-1b7e-4bac-97c8-350ba5f5bde4",
   "metadata": {},
   "outputs": [
    {
     "data": {
      "text/html": [
       "<style type=\"text/css\">\n",
       "\ttable {border:ridge 5px;}\n",
       "\ttable td {border:inset 1px;}\n",
       "\ttable tr#HeaderRow {background-color:grey; color:white;}</style>\n",
       "<html><table>\n",
       "\t<tr id=\"HeaderRow\">\n",
       "\t\t<th>fixed_acidity</th>\n",
       "\t\t<th>volatile_acidity</th>\n",
       "\t\t<th>citric_acid</th>\n",
       "\t\t<th>residual_sugar</th>\n",
       "\t\t<th>chlorides</th>\n",
       "\t\t<th>free_sulfur_dioxide</th>\n",
       "\t\t<th>total_sulfur_dioxide</th>\n",
       "\t\t<th>density</th>\n",
       "\t\t<th>pH</th>\n",
       "\t\t<th>sulphates</th>\n",
       "\t\t<th>alcohol</th>\n",
       "\t\t<th>quality</th>\n",
       "\t\t<th>sampleid</th>\n",
       "\t</tr>\n",
       "\t<tr>\n",
       "\t\t<td>4.9</td>\n",
       "\t\t<td>0.42</td>\n",
       "\t\t<td>0.0</td>\n",
       "\t\t<td>2.1</td>\n",
       "\t\t<td>0.048</td>\n",
       "\t\t<td>16.0</td>\n",
       "\t\t<td>42.0</td>\n",
       "\t\t<td>0.99154</td>\n",
       "\t\t<td>3.71</td>\n",
       "\t\t<td>0.74</td>\n",
       "\t\t<td>14.0</td>\n",
       "\t\t<td>good</td>\n",
       "\t\t<td>2</td>\n",
       "\t</tr>\n",
       "\t<tr>\n",
       "\t\t<td>5.0</td>\n",
       "\t\t<td>0.4</td>\n",
       "\t\t<td>0.5</td>\n",
       "\t\t<td>4.3</td>\n",
       "\t\t<td>0.046</td>\n",
       "\t\t<td>29.0</td>\n",
       "\t\t<td>80.0</td>\n",
       "\t\t<td>0.9902</td>\n",
       "\t\t<td>3.49</td>\n",
       "\t\t<td>0.66</td>\n",
       "\t\t<td>13.6</td>\n",
       "\t\t<td>good</td>\n",
       "\t\t<td>1</td>\n",
       "\t</tr>\n",
       "\t<tr>\n",
       "\t\t<td>5.0</td>\n",
       "\t\t<td>1.02</td>\n",
       "\t\t<td>0.04</td>\n",
       "\t\t<td>1.4</td>\n",
       "\t\t<td>0.045</td>\n",
       "\t\t<td>41.0</td>\n",
       "\t\t<td>85.0</td>\n",
       "\t\t<td>0.9938</td>\n",
       "\t\t<td>3.75</td>\n",
       "\t\t<td>0.48</td>\n",
       "\t\t<td>10.5</td>\n",
       "\t\t<td>bad</td>\n",
       "\t\t<td>2</td>\n",
       "\t</tr>\n",
       "\t<tr>\n",
       "\t\t<td>5.0</td>\n",
       "\t\t<td>0.38</td>\n",
       "\t\t<td>0.01</td>\n",
       "\t\t<td>1.6</td>\n",
       "\t\t<td>0.048</td>\n",
       "\t\t<td>26.0</td>\n",
       "\t\t<td>60.0</td>\n",
       "\t\t<td>0.99084</td>\n",
       "\t\t<td>3.7</td>\n",
       "\t\t<td>0.75</td>\n",
       "\t\t<td>14.0</td>\n",
       "\t\t<td>good</td>\n",
       "\t\t<td>1</td>\n",
       "\t</tr>\n",
       "\t<tr>\n",
       "\t\t<td>5.0</td>\n",
       "\t\t<td>0.74</td>\n",
       "\t\t<td>0.0</td>\n",
       "\t\t<td>1.2</td>\n",
       "\t\t<td>0.041</td>\n",
       "\t\t<td>16.0</td>\n",
       "\t\t<td>46.0</td>\n",
       "\t\t<td>0.99258</td>\n",
       "\t\t<td>4.01</td>\n",
       "\t\t<td>0.59</td>\n",
       "\t\t<td>12.5</td>\n",
       "\t\t<td>good</td>\n",
       "\t\t<td>1</td>\n",
       "\t</tr>\n",
       "\t<tr>\n",
       "\t\t<td>5.1</td>\n",
       "\t\t<td>0.585</td>\n",
       "\t\t<td>0.0</td>\n",
       "\t\t<td>1.7</td>\n",
       "\t\t<td>0.044</td>\n",
       "\t\t<td>14.0</td>\n",
       "\t\t<td>86.0</td>\n",
       "\t\t<td>0.99264</td>\n",
       "\t\t<td>3.56</td>\n",
       "\t\t<td>0.94</td>\n",
       "\t\t<td>12.9</td>\n",
       "\t\t<td>good</td>\n",
       "\t\t<td>1</td>\n",
       "\t</tr>\n",
       "\t<tr>\n",
       "\t\t<td>5.0</td>\n",
       "\t\t<td>1.04</td>\n",
       "\t\t<td>0.24</td>\n",
       "\t\t<td>1.6</td>\n",
       "\t\t<td>0.05</td>\n",
       "\t\t<td>32.0</td>\n",
       "\t\t<td>96.0</td>\n",
       "\t\t<td>0.9934</td>\n",
       "\t\t<td>3.74</td>\n",
       "\t\t<td>0.62</td>\n",
       "\t\t<td>11.5</td>\n",
       "\t\t<td>bad</td>\n",
       "\t\t<td>1</td>\n",
       "\t</tr>\n",
       "\t<tr>\n",
       "\t\t<td>5.0</td>\n",
       "\t\t<td>0.42</td>\n",
       "\t\t<td>0.24</td>\n",
       "\t\t<td>2.0</td>\n",
       "\t\t<td>0.06</td>\n",
       "\t\t<td>19.0</td>\n",
       "\t\t<td>50.0</td>\n",
       "\t\t<td>0.9917</td>\n",
       "\t\t<td>3.72</td>\n",
       "\t\t<td>0.74</td>\n",
       "\t\t<td>14.0</td>\n",
       "\t\t<td>good</td>\n",
       "\t\t<td>1</td>\n",
       "\t</tr>\n",
       "\t<tr>\n",
       "\t\t<td>4.7</td>\n",
       "\t\t<td>0.6</td>\n",
       "\t\t<td>0.17</td>\n",
       "\t\t<td>2.3</td>\n",
       "\t\t<td>0.058</td>\n",
       "\t\t<td>17.0</td>\n",
       "\t\t<td>106.0</td>\n",
       "\t\t<td>0.9932</td>\n",
       "\t\t<td>3.85</td>\n",
       "\t\t<td>0.6</td>\n",
       "\t\t<td>12.9</td>\n",
       "\t\t<td>good</td>\n",
       "\t\t<td>2</td>\n",
       "\t</tr>\n",
       "\t<tr>\n",
       "\t\t<td>4.6</td>\n",
       "\t\t<td>0.52</td>\n",
       "\t\t<td>0.15</td>\n",
       "\t\t<td>2.1</td>\n",
       "\t\t<td>0.054</td>\n",
       "\t\t<td>8.0</td>\n",
       "\t\t<td>65.0</td>\n",
       "\t\t<td>0.9934</td>\n",
       "\t\t<td>3.9</td>\n",
       "\t\t<td>0.56</td>\n",
       "\t\t<td>13.1</td>\n",
       "\t\t<td>bad</td>\n",
       "\t\t<td>1</td>\n",
       "\t</tr>\n",
       "</table></html>"
      ],
      "text/plain": [
       "               volatile_acidity  citric_acid  residual_sugar  chlorides  free_sulfur_dioxide  total_sulfur_dioxide  density    pH  sulphates  alcohol quality  sampleid\n",
       "fixed_acidity                                                                                                                                                          \n",
       "4.9                       0.420         0.00             2.1      0.048                 16.0                  42.0  0.99154  3.71       0.74     14.0    good         2\n",
       "5.0                       0.400         0.50             4.3      0.046                 29.0                  80.0  0.99020  3.49       0.66     13.6    good         1\n",
       "5.0                       1.020         0.04             1.4      0.045                 41.0                  85.0  0.99380  3.75       0.48     10.5     bad         2\n",
       "5.0                       0.380         0.01             1.6      0.048                 26.0                  60.0  0.99084  3.70       0.75     14.0    good         1\n",
       "5.0                       0.740         0.00             1.2      0.041                 16.0                  46.0  0.99258  4.01       0.59     12.5    good         1\n",
       "5.1                       0.585         0.00             1.7      0.044                 14.0                  86.0  0.99264  3.56       0.94     12.9    good         1\n",
       "5.0                       1.040         0.24             1.6      0.050                 32.0                  96.0  0.99340  3.74       0.62     11.5     bad         1\n",
       "5.0                       0.420         0.24             2.0      0.060                 19.0                  50.0  0.99170  3.72       0.74     14.0    good         1\n",
       "4.7                       0.600         0.17             2.3      0.058                 17.0                 106.0  0.99320  3.85       0.60     12.9    good         2\n",
       "4.6                       0.520         0.15             2.1      0.054                  8.0                  65.0  0.99340  3.90       0.56     13.1     bad         1"
      ]
     },
     "execution_count": 9,
     "metadata": {},
     "output_type": "execute_result"
    }
   ],
   "source": [
    "wine_df_sample.head()"
   ]
  },
  {
   "cell_type": "code",
   "execution_count": 10,
   "id": "5e3e5923-18ad-4cf6-b4e5-e87f8854700b",
   "metadata": {},
   "outputs": [],
   "source": [
    "# Fetching train and test data\n",
    "wine_df_train= wine_df_sample[wine_df_sample['sampleid'] == 1].drop('sampleid', axis=1)\n",
    "wine_df_test = wine_df_sample[wine_df_sample['sampleid'] == 2].drop('sampleid', axis=1)"
   ]
  },
  {
   "cell_type": "code",
   "execution_count": 11,
   "id": "83d72a72-3fac-4862-b374-d21ab59be1a6",
   "metadata": {},
   "outputs": [
    {
     "data": {
      "text/plain": [
       "(1279, 12)"
      ]
     },
     "execution_count": 11,
     "metadata": {},
     "output_type": "execute_result"
    }
   ],
   "source": [
    "# train data shape\n",
    "wine_df_train.shape"
   ]
  },
  {
   "cell_type": "code",
   "execution_count": 12,
   "id": "b22be730-8a7a-40f3-8e2a-cabd8d1f427f",
   "metadata": {},
   "outputs": [
    {
     "data": {
      "text/plain": [
       "(320, 12)"
      ]
     },
     "execution_count": 12,
     "metadata": {},
     "output_type": "execute_result"
    }
   ],
   "source": [
    "# test data shape\n",
    "wine_df_test.shape"
   ]
  },
  {
   "cell_type": "code",
   "execution_count": 13,
   "id": "18473df2-be15-4e1e-bc5e-739abacf8b89",
   "metadata": {},
   "outputs": [
    {
     "data": {
      "text/html": [
       "<style type=\"text/css\">\n",
       "\ttable {border:ridge 5px;}\n",
       "\ttable td {border:inset 1px;}\n",
       "\ttable tr#HeaderRow {background-color:grey; color:white;}</style>\n",
       "<html><table>\n",
       "\t<tr id=\"HeaderRow\">\n",
       "\t\t<th>fixed_acidity</th>\n",
       "\t\t<th>volatile_acidity</th>\n",
       "\t\t<th>citric_acid</th>\n",
       "\t\t<th>residual_sugar</th>\n",
       "\t\t<th>chlorides</th>\n",
       "\t\t<th>free_sulfur_dioxide</th>\n",
       "\t\t<th>total_sulfur_dioxide</th>\n",
       "\t\t<th>density</th>\n",
       "\t\t<th>pH</th>\n",
       "\t\t<th>sulphates</th>\n",
       "\t\t<th>alcohol</th>\n",
       "\t\t<th>quality</th>\n",
       "\t</tr>\n",
       "\t<tr>\n",
       "\t\t<td>5.0</td>\n",
       "\t\t<td>0.38</td>\n",
       "\t\t<td>0.01</td>\n",
       "\t\t<td>1.6</td>\n",
       "\t\t<td>0.048</td>\n",
       "\t\t<td>26.0</td>\n",
       "\t\t<td>60.0</td>\n",
       "\t\t<td>0.99084</td>\n",
       "\t\t<td>3.7</td>\n",
       "\t\t<td>0.75</td>\n",
       "\t\t<td>14.0</td>\n",
       "\t\t<td>good</td>\n",
       "\t</tr>\n",
       "\t<tr>\n",
       "\t\t<td>5.0</td>\n",
       "\t\t<td>0.4</td>\n",
       "\t\t<td>0.5</td>\n",
       "\t\t<td>4.3</td>\n",
       "\t\t<td>0.046</td>\n",
       "\t\t<td>29.0</td>\n",
       "\t\t<td>80.0</td>\n",
       "\t\t<td>0.9902</td>\n",
       "\t\t<td>3.49</td>\n",
       "\t\t<td>0.66</td>\n",
       "\t\t<td>13.6</td>\n",
       "\t\t<td>good</td>\n",
       "\t</tr>\n",
       "\t<tr>\n",
       "\t\t<td>5.0</td>\n",
       "\t\t<td>0.42</td>\n",
       "\t\t<td>0.24</td>\n",
       "\t\t<td>2.0</td>\n",
       "\t\t<td>0.06</td>\n",
       "\t\t<td>19.0</td>\n",
       "\t\t<td>50.0</td>\n",
       "\t\t<td>0.9917</td>\n",
       "\t\t<td>3.72</td>\n",
       "\t\t<td>0.74</td>\n",
       "\t\t<td>14.0</td>\n",
       "\t\t<td>good</td>\n",
       "\t</tr>\n",
       "\t<tr>\n",
       "\t\t<td>5.1</td>\n",
       "\t\t<td>0.51</td>\n",
       "\t\t<td>0.18</td>\n",
       "\t\t<td>2.1</td>\n",
       "\t\t<td>0.042</td>\n",
       "\t\t<td>16.0</td>\n",
       "\t\t<td>101.0</td>\n",
       "\t\t<td>0.9924</td>\n",
       "\t\t<td>3.46</td>\n",
       "\t\t<td>0.87</td>\n",
       "\t\t<td>12.9</td>\n",
       "\t\t<td>good</td>\n",
       "\t</tr>\n",
       "\t<tr>\n",
       "\t\t<td>5.1</td>\n",
       "\t\t<td>0.585</td>\n",
       "\t\t<td>0.0</td>\n",
       "\t\t<td>1.7</td>\n",
       "\t\t<td>0.044</td>\n",
       "\t\t<td>14.0</td>\n",
       "\t\t<td>86.0</td>\n",
       "\t\t<td>0.99264</td>\n",
       "\t\t<td>3.56</td>\n",
       "\t\t<td>0.94</td>\n",
       "\t\t<td>12.9</td>\n",
       "\t\t<td>good</td>\n",
       "\t</tr>\n",
       "\t<tr>\n",
       "\t\t<td>5.2</td>\n",
       "\t\t<td>0.32</td>\n",
       "\t\t<td>0.25</td>\n",
       "\t\t<td>1.8</td>\n",
       "\t\t<td>0.103</td>\n",
       "\t\t<td>13.0</td>\n",
       "\t\t<td>50.0</td>\n",
       "\t\t<td>0.9957</td>\n",
       "\t\t<td>3.38</td>\n",
       "\t\t<td>0.55</td>\n",
       "\t\t<td>9.2</td>\n",
       "\t\t<td>bad</td>\n",
       "\t</tr>\n",
       "\t<tr>\n",
       "\t\t<td>5.1</td>\n",
       "\t\t<td>0.42</td>\n",
       "\t\t<td>0.0</td>\n",
       "\t\t<td>1.8</td>\n",
       "\t\t<td>0.044</td>\n",
       "\t\t<td>18.0</td>\n",
       "\t\t<td>88.0</td>\n",
       "\t\t<td>0.99157</td>\n",
       "\t\t<td>3.68</td>\n",
       "\t\t<td>0.73</td>\n",
       "\t\t<td>13.6</td>\n",
       "\t\t<td>good</td>\n",
       "\t</tr>\n",
       "\t<tr>\n",
       "\t\t<td>5.0</td>\n",
       "\t\t<td>0.74</td>\n",
       "\t\t<td>0.0</td>\n",
       "\t\t<td>1.2</td>\n",
       "\t\t<td>0.041</td>\n",
       "\t\t<td>16.0</td>\n",
       "\t\t<td>46.0</td>\n",
       "\t\t<td>0.99258</td>\n",
       "\t\t<td>4.01</td>\n",
       "\t\t<td>0.59</td>\n",
       "\t\t<td>12.5</td>\n",
       "\t\t<td>good</td>\n",
       "\t</tr>\n",
       "\t<tr>\n",
       "\t\t<td>5.0</td>\n",
       "\t\t<td>1.04</td>\n",
       "\t\t<td>0.24</td>\n",
       "\t\t<td>1.6</td>\n",
       "\t\t<td>0.05</td>\n",
       "\t\t<td>32.0</td>\n",
       "\t\t<td>96.0</td>\n",
       "\t\t<td>0.9934</td>\n",
       "\t\t<td>3.74</td>\n",
       "\t\t<td>0.62</td>\n",
       "\t\t<td>11.5</td>\n",
       "\t\t<td>bad</td>\n",
       "\t</tr>\n",
       "\t<tr>\n",
       "\t\t<td>4.6</td>\n",
       "\t\t<td>0.52</td>\n",
       "\t\t<td>0.15</td>\n",
       "\t\t<td>2.1</td>\n",
       "\t\t<td>0.054</td>\n",
       "\t\t<td>8.0</td>\n",
       "\t\t<td>65.0</td>\n",
       "\t\t<td>0.9934</td>\n",
       "\t\t<td>3.9</td>\n",
       "\t\t<td>0.56</td>\n",
       "\t\t<td>13.1</td>\n",
       "\t\t<td>bad</td>\n",
       "\t</tr>\n",
       "</table></html>"
      ],
      "text/plain": [
       "               volatile_acidity  citric_acid  residual_sugar  chlorides  free_sulfur_dioxide  total_sulfur_dioxide  density    pH  sulphates  alcohol quality\n",
       "fixed_acidity                                                                                                                                                \n",
       "5.0                       0.380         0.01             1.6      0.048                 26.0                  60.0  0.99084  3.70       0.75     14.0    good\n",
       "5.0                       0.400         0.50             4.3      0.046                 29.0                  80.0  0.99020  3.49       0.66     13.6    good\n",
       "5.0                       0.420         0.24             2.0      0.060                 19.0                  50.0  0.99170  3.72       0.74     14.0    good\n",
       "5.1                       0.510         0.18             2.1      0.042                 16.0                 101.0  0.99240  3.46       0.87     12.9    good\n",
       "5.1                       0.585         0.00             1.7      0.044                 14.0                  86.0  0.99264  3.56       0.94     12.9    good\n",
       "5.2                       0.320         0.25             1.8      0.103                 13.0                  50.0  0.99570  3.38       0.55      9.2     bad\n",
       "5.1                       0.420         0.00             1.8      0.044                 18.0                  88.0  0.99157  3.68       0.73     13.6    good\n",
       "5.0                       0.740         0.00             1.2      0.041                 16.0                  46.0  0.99258  4.01       0.59     12.5    good\n",
       "5.0                       1.040         0.24             1.6      0.050                 32.0                  96.0  0.99340  3.74       0.62     11.5     bad\n",
       "4.6                       0.520         0.15             2.1      0.054                  8.0                  65.0  0.99340  3.90       0.56     13.1     bad"
      ]
     },
     "execution_count": 13,
     "metadata": {},
     "output_type": "execute_result"
    }
   ],
   "source": [
    "#train dataset\n",
    "wine_df_train.head()"
   ]
  },
  {
   "cell_type": "code",
   "execution_count": 14,
   "id": "58c9d763-4f19-449e-a35b-676d4d026acc",
   "metadata": {},
   "outputs": [
    {
     "data": {
      "text/html": [
       "<style type=\"text/css\">\n",
       "\ttable {border:ridge 5px;}\n",
       "\ttable td {border:inset 1px;}\n",
       "\ttable tr#HeaderRow {background-color:grey; color:white;}</style>\n",
       "<html><table>\n",
       "\t<tr id=\"HeaderRow\">\n",
       "\t\t<th>fixed_acidity</th>\n",
       "\t\t<th>volatile_acidity</th>\n",
       "\t\t<th>citric_acid</th>\n",
       "\t\t<th>residual_sugar</th>\n",
       "\t\t<th>chlorides</th>\n",
       "\t\t<th>free_sulfur_dioxide</th>\n",
       "\t\t<th>total_sulfur_dioxide</th>\n",
       "\t\t<th>density</th>\n",
       "\t\t<th>pH</th>\n",
       "\t\t<th>sulphates</th>\n",
       "\t\t<th>alcohol</th>\n",
       "\t\t<th>quality</th>\n",
       "\t</tr>\n",
       "\t<tr>\n",
       "\t\t<td>5.0</td>\n",
       "\t\t<td>1.02</td>\n",
       "\t\t<td>0.04</td>\n",
       "\t\t<td>1.4</td>\n",
       "\t\t<td>0.045</td>\n",
       "\t\t<td>41.0</td>\n",
       "\t\t<td>85.0</td>\n",
       "\t\t<td>0.9938</td>\n",
       "\t\t<td>3.75</td>\n",
       "\t\t<td>0.48</td>\n",
       "\t\t<td>10.5</td>\n",
       "\t\t<td>bad</td>\n",
       "\t</tr>\n",
       "\t<tr>\n",
       "\t\t<td>5.2</td>\n",
       "\t\t<td>0.48</td>\n",
       "\t\t<td>0.04</td>\n",
       "\t\t<td>1.6</td>\n",
       "\t\t<td>0.054</td>\n",
       "\t\t<td>19.0</td>\n",
       "\t\t<td>106.0</td>\n",
       "\t\t<td>0.9927</td>\n",
       "\t\t<td>3.54</td>\n",
       "\t\t<td>0.62</td>\n",
       "\t\t<td>12.2</td>\n",
       "\t\t<td>good</td>\n",
       "\t</tr>\n",
       "\t<tr>\n",
       "\t\t<td>5.6</td>\n",
       "\t\t<td>0.915</td>\n",
       "\t\t<td>0.0</td>\n",
       "\t\t<td>2.1</td>\n",
       "\t\t<td>0.041</td>\n",
       "\t\t<td>17.0</td>\n",
       "\t\t<td>78.0</td>\n",
       "\t\t<td>0.99346</td>\n",
       "\t\t<td>3.68</td>\n",
       "\t\t<td>0.73</td>\n",
       "\t\t<td>11.4</td>\n",
       "\t\t<td>bad</td>\n",
       "\t</tr>\n",
       "\t<tr>\n",
       "\t\t<td>5.6</td>\n",
       "\t\t<td>0.54</td>\n",
       "\t\t<td>0.04</td>\n",
       "\t\t<td>1.7</td>\n",
       "\t\t<td>0.049</td>\n",
       "\t\t<td>5.0</td>\n",
       "\t\t<td>13.0</td>\n",
       "\t\t<td>0.9942</td>\n",
       "\t\t<td>3.72</td>\n",
       "\t\t<td>0.58</td>\n",
       "\t\t<td>11.4</td>\n",
       "\t\t<td>bad</td>\n",
       "\t</tr>\n",
       "\t<tr>\n",
       "\t\t<td>5.6</td>\n",
       "\t\t<td>0.5</td>\n",
       "\t\t<td>0.09</td>\n",
       "\t\t<td>2.3</td>\n",
       "\t\t<td>0.049</td>\n",
       "\t\t<td>17.0</td>\n",
       "\t\t<td>99.0</td>\n",
       "\t\t<td>0.9937</td>\n",
       "\t\t<td>3.63</td>\n",
       "\t\t<td>0.63</td>\n",
       "\t\t<td>13.0</td>\n",
       "\t\t<td>bad</td>\n",
       "\t</tr>\n",
       "\t<tr>\n",
       "\t\t<td>5.8</td>\n",
       "\t\t<td>0.61</td>\n",
       "\t\t<td>0.11</td>\n",
       "\t\t<td>1.8</td>\n",
       "\t\t<td>0.066</td>\n",
       "\t\t<td>18.0</td>\n",
       "\t\t<td>28.0</td>\n",
       "\t\t<td>0.99483</td>\n",
       "\t\t<td>3.55</td>\n",
       "\t\t<td>0.66</td>\n",
       "\t\t<td>10.9</td>\n",
       "\t\t<td>good</td>\n",
       "\t</tr>\n",
       "\t<tr>\n",
       "\t\t<td>5.6</td>\n",
       "\t\t<td>0.66</td>\n",
       "\t\t<td>0.0</td>\n",
       "\t\t<td>2.2</td>\n",
       "\t\t<td>0.087</td>\n",
       "\t\t<td>3.0</td>\n",
       "\t\t<td>11.0</td>\n",
       "\t\t<td>0.99378</td>\n",
       "\t\t<td>3.71</td>\n",
       "\t\t<td>0.63</td>\n",
       "\t\t<td>12.8</td>\n",
       "\t\t<td>good</td>\n",
       "\t</tr>\n",
       "\t<tr>\n",
       "\t\t<td>5.1</td>\n",
       "\t\t<td>0.47</td>\n",
       "\t\t<td>0.02</td>\n",
       "\t\t<td>1.3</td>\n",
       "\t\t<td>0.034</td>\n",
       "\t\t<td>18.0</td>\n",
       "\t\t<td>44.0</td>\n",
       "\t\t<td>0.9921</td>\n",
       "\t\t<td>3.9</td>\n",
       "\t\t<td>0.62</td>\n",
       "\t\t<td>12.8</td>\n",
       "\t\t<td>good</td>\n",
       "\t</tr>\n",
       "\t<tr>\n",
       "\t\t<td>4.9</td>\n",
       "\t\t<td>0.42</td>\n",
       "\t\t<td>0.0</td>\n",
       "\t\t<td>2.1</td>\n",
       "\t\t<td>0.048</td>\n",
       "\t\t<td>16.0</td>\n",
       "\t\t<td>42.0</td>\n",
       "\t\t<td>0.99154</td>\n",
       "\t\t<td>3.71</td>\n",
       "\t\t<td>0.74</td>\n",
       "\t\t<td>14.0</td>\n",
       "\t\t<td>good</td>\n",
       "\t</tr>\n",
       "\t<tr>\n",
       "\t\t<td>4.7</td>\n",
       "\t\t<td>0.6</td>\n",
       "\t\t<td>0.17</td>\n",
       "\t\t<td>2.3</td>\n",
       "\t\t<td>0.058</td>\n",
       "\t\t<td>17.0</td>\n",
       "\t\t<td>106.0</td>\n",
       "\t\t<td>0.9932</td>\n",
       "\t\t<td>3.85</td>\n",
       "\t\t<td>0.6</td>\n",
       "\t\t<td>12.9</td>\n",
       "\t\t<td>good</td>\n",
       "\t</tr>\n",
       "</table></html>"
      ],
      "text/plain": [
       "               volatile_acidity  citric_acid  residual_sugar  chlorides  free_sulfur_dioxide  total_sulfur_dioxide  density    pH  sulphates  alcohol quality\n",
       "fixed_acidity                                                                                                                                                \n",
       "5.0                       1.020         0.04             1.4      0.045                 41.0                  85.0  0.99380  3.75       0.48     10.5     bad\n",
       "5.2                       0.480         0.04             1.6      0.054                 19.0                 106.0  0.99270  3.54       0.62     12.2    good\n",
       "5.6                       0.915         0.00             2.1      0.041                 17.0                  78.0  0.99346  3.68       0.73     11.4     bad\n",
       "5.6                       0.540         0.04             1.7      0.049                  5.0                  13.0  0.99420  3.72       0.58     11.4     bad\n",
       "5.6                       0.500         0.09             2.3      0.049                 17.0                  99.0  0.99370  3.63       0.63     13.0     bad\n",
       "5.8                       0.610         0.11             1.8      0.066                 18.0                  28.0  0.99483  3.55       0.66     10.9    good\n",
       "5.6                       0.660         0.00             2.2      0.087                  3.0                  11.0  0.99378  3.71       0.63     12.8    good\n",
       "5.1                       0.470         0.02             1.3      0.034                 18.0                  44.0  0.99210  3.90       0.62     12.8    good\n",
       "4.9                       0.420         0.00             2.1      0.048                 16.0                  42.0  0.99154  3.71       0.74     14.0    good\n",
       "4.7                       0.600         0.17             2.3      0.058                 17.0                 106.0  0.99320  3.85       0.60     12.9    good"
      ]
     },
     "execution_count": 14,
     "metadata": {},
     "output_type": "execute_result"
    }
   ],
   "source": [
    "# test dataset\n",
    "wine_df_test.head()"
   ]
  },
  {
   "cell_type": "code",
   "execution_count": 15,
   "id": "178b1f9c-c363-4701-983e-2d1fdb2c2868",
   "metadata": {
    "collapsed": true,
    "jupyter": {
     "outputs_hidden": true
    },
    "tags": []
   },
   "outputs": [
    {
     "name": "stdout",
     "output_type": "stream",
     "text": [
      "\n",
      "Generating custom config JSON for AutoML ...\n",
      "\n",
      "Available main options for customization with corresponding indices: \n",
      "--------------------------------------------------------------------------------\n",
      "\n",
      "Index 1: Customize Feature Engineering Phase\n",
      "\n",
      "Index 2: Customize Data Preparation Phase\n",
      "\n",
      "Index 3: Customize Model Training Phase\n",
      "\n",
      "Index 4: Generate custom json and exit\n",
      "--------------------------------------------------------------------------------\n",
      "\n",
      "Enter the index you want to customize:  2\n",
      "\n",
      "Customizing Data Preparation Phase ...\n",
      "\n",
      "Available options for customization of data preparation phase with corresponding indices: \n",
      "--------------------------------------------------------------------------------\n",
      "\n",
      "Index 1: Customize Train Test Split\n",
      "\n",
      "Index 2: Customize Data Imbalance Handling\n",
      "\n",
      "Index 3: Customize Outlier Handling\n",
      "\n",
      "Index 4: Customize Feature Scaling\n",
      "\n",
      "Index 5: Back to main menu\n",
      "\n",
      "Index 6: Generate custom json and exit\n",
      "--------------------------------------------------------------------------------\n",
      "\n",
      "Enter the list of indices you want to customize in data preparation phase:  1,2,3,4\n",
      "\n",
      "Customizing Train Test Split ...\n",
      "\n",
      "Enter the train size for train test split:  0.7\n",
      "\n",
      "Customization of train test split has been completed successfully.\n",
      "\n",
      "Customizing Data Imbalance Handling ...\n",
      "\n",
      "Available data sampling methods with corresponding indices:\n",
      "Index 1: SMOTE\n",
      "Index 2: NearMiss\n",
      "\n",
      "Enter the corresponding index data imbalance handling method:  1\n",
      "\n",
      "Customization of data imbalance handling has been completed successfully.\n",
      "\n",
      "Customizing Outlier Handling ...\n",
      "\n",
      "Available outlier detection methods with corresponding indices:\n",
      "Index 1: percentile\n",
      "Index 2: tukey\n",
      "Index 3: carling\n",
      "\n",
      "Enter the corresponding index oulier handling method:  3\n",
      "\n",
      "Enter the feature or list of features for outlier handling:  residual_sugar\n",
      "\n",
      "Available outlier replacement methods with corresponding indices:\n",
      "Index 1: delete\n",
      "Index 2: median\n",
      "Index 3: Any Numeric Value\n",
      "\n",
      "Enter the index of corresponding replacement method for feature residual_sugar:  1\n",
      "\n",
      "Customization of outlier handling has been completed successfully.\n",
      "\n",
      "Available feature scaling methods with corresponding indices:\n",
      "Index 1: maxabs\n",
      "Index 2: mean\n",
      "Index 3: midrange\n",
      "Index 4: range\n",
      "Index 5: rescale\n",
      "Index 6: std\n",
      "Index 7: sum\n",
      "Index 8: ustd\n",
      "\n",
      "Enter the corresponding index feature scaling method:  6\n",
      "\n",
      "Customization of feature scaling has been completed successfully.\n",
      "\n",
      "Available options for customization of data preparation phase with corresponding indices: \n",
      "--------------------------------------------------------------------------------\n",
      "\n",
      "Index 1: Customize Train Test Split\n",
      "\n",
      "Index 2: Customize Data Imbalance Handling\n",
      "\n",
      "Index 3: Customize Outlier Handling\n",
      "\n",
      "Index 4: Customize Feature Scaling\n",
      "\n",
      "Index 5: Back to main menu\n",
      "\n",
      "Index 6: Generate custom json and exit\n",
      "--------------------------------------------------------------------------------\n",
      "\n",
      "Enter the list of indices you want to customize in data preparation phase:  5\n",
      "\n",
      "Customization of data preparation phase has been completed successfully.\n",
      "\n",
      "Available main options for customization with corresponding indices: \n",
      "--------------------------------------------------------------------------------\n",
      "\n",
      "Index 1: Customize Feature Engineering Phase\n",
      "\n",
      "Index 2: Customize Data Preparation Phase\n",
      "\n",
      "Index 3: Customize Model Training Phase\n",
      "\n",
      "Index 4: Generate custom json and exit\n",
      "--------------------------------------------------------------------------------\n",
      "\n",
      "Enter the index you want to customize:  3\n",
      "\n",
      "Customizing Model Training Phase ...\n",
      "\n",
      "Available options for customization of model training phase with corresponding indices: \n",
      "--------------------------------------------------------------------------------\n",
      "\n",
      "Index 1: Customize Model Hyperparameter\n",
      "\n",
      "Index 2: Back to main menu\n",
      "\n",
      "Index 3: Generate custom json and exit\n",
      "--------------------------------------------------------------------------------\n",
      "\n",
      "Enter the list of indices you want to customize in model training phase:  1\n",
      "\n",
      "Customizing Model Hyperparameter ...\n",
      "\n",
      "Available models for hyperparameter tuning with corresponding indices:\n",
      "Index 1: decision_forest\n",
      "Index 2: xgboost\n",
      "Index 3: knn\n",
      "Index 4: glm\n",
      "Index 5: svm\n",
      "\n",
      "Available hyperparamters update methods with corresponding indices:\n",
      "Index 1: ADD\n",
      "Index 2: REPLACE\n",
      "\n",
      "Enter the list of model indices for performing hyperparameter tuning:  3\n",
      "\n",
      "Available hyperparameters for model 'knn' with corresponding indices:\n",
      "Index 0: k\n",
      "\n",
      "Enter the list of hyperparameter indices for model 'knn':  0\n",
      "\n",
      "Enter the index of corresponding update method for hyperparameters 'k' for model 'knn':  1\n",
      "\n",
      "Enter the list of value for hyperparameter 'k' for model 'knn':  2\n",
      "\n",
      "Customization of model hyperparameter has been completed successfully.\n",
      "\n",
      "Available options for customization of model training phase with corresponding indices: \n",
      "--------------------------------------------------------------------------------\n",
      "\n",
      "Index 1: Customize Model Hyperparameter\n",
      "\n",
      "Index 2: Back to main menu\n",
      "\n",
      "Index 3: Generate custom json and exit\n",
      "--------------------------------------------------------------------------------\n",
      "\n",
      "Enter the list of indices you want to customize in model training phase:  3\n",
      "\n",
      "Customization of model training phase has been completed successfully.\n",
      "\n",
      "Process of generating custom config file for AutoML has been completed successfully.\n",
      "\n",
      "'custom_wine_quality.json' file is generated successfully under the current working directory.\n"
     ]
    }
   ],
   "source": [
    "AutoML.generate_custom_config(\"custom_wine_quality\")"
   ]
  },
  {
   "cell_type": "markdown",
   "id": "856ea871-93d8-4ea2-b524-1acb23bd7eb5",
   "metadata": {},
   "source": [
    "## <b><span style='color:#F1A424'>| 2.</span> Fitting AutoML </b>"
   ]
  },
  {
   "cell_type": "code",
   "execution_count": 16,
   "id": "f3650aa5-a408-4227-a88d-79c0f3d36d3c",
   "metadata": {},
   "outputs": [],
   "source": [
    "# Creating AutoML instance\n",
    "# Excluding 'svm' and 'glm' from model training.\n",
    "# Keeping early stopping metrics threshold to 0.6 for 'MICRO-RECALL', early stopping timer threshold to 200 sec\n",
    "# and verbose level 2 for detailed loggging\n",
    "# Using custom json file for custom run\n",
    "\n",
    "aml = AutoML(task_type=\"Classification\",\n",
    "             exclude=['svm', 'glm'],\n",
    "             stopping_metric='MICRO-RECALL', \n",
    "             stopping_tolerance=0.60,\n",
    "             max_runtime_secs=200,\n",
    "             verbose=2,\n",
    "             custom_config_file='custom_wine_quality.json')"
   ]
  },
  {
   "cell_type": "code",
   "execution_count": 17,
   "id": "a1b7a771-1bfa-40c9-8ad0-c377d320c137",
   "metadata": {},
   "outputs": [
    {
     "name": "stdout",
     "output_type": "stream",
     "text": [
      "\n",
      "Received below input for customization : \n",
      "{\n",
      "    \"TrainTestSplitIndicator\": true,\n",
      "    \"TrainingSize\": 0.7,\n",
      "    \"DataImbalanceIndicator\": true,\n",
      "    \"DataImbalanceMethod\": \"SMOTE\",\n",
      "    \"OutlierFilterIndicator\": true,\n",
      "    \"OutlierFilterMethod\": \"carling\",\n",
      "    \"OutlierFilterParam\": {\n",
      "        \"residual_sugar\": {\n",
      "            \"replacement_value\": \"delete\"\n",
      "        }\n",
      "    },\n",
      "    \"FeatureScalingIndicator\": true,\n",
      "    \"FeatureScalingMethod\": \"std\",\n",
      "    \"HyperparameterTuningIndicator\": true,\n",
      "    \"HyperparameterTuningParam\": {\n",
      "        \"knn\": {\n",
      "            \"k\": {\n",
      "                \"Method\": \"ADD\",\n",
      "                \"Value\": [\n",
      "                    2\n",
      "                ]\n",
      "            }\n",
      "        }\n",
      "    }\n",
      "}\n"
     ]
    },
    {
     "data": {
      "text/html": [
       "\n",
       "            <style>\n",
       "                .custom-div {\n",
       "                    background-color: lightgray;\n",
       "                    color: #000000;\n",
       "                    padding: 10px;\n",
       "                    border-radius: 8px;\n",
       "                    box-shadow: 0 3px 4px rgba(0, 0, 0, 0.2);\n",
       "                    margin-bottom: 10px;\n",
       "                    text-align: center;\n",
       "                }\n",
       "            </style>\n",
       "        <br><div class=\"custom-div\"><h3><span style=\"color: green;\"></span>1. Feature Exploration -> 2. Feature Engineering -> 3. Data Preparation -> 4. Model Training & Evaluation<center></h3></center></div>"
      ],
      "text/plain": [
       "<IPython.core.display.HTML object>"
      ]
     },
     "metadata": {},
     "output_type": "display_data"
    },
    {
     "name": "stdout",
     "output_type": "stream",
     "text": [
      "Feature Exploration started ...\n",
      "\n",
      "Data Overview:\n",
      "Total Rows in the data: 1279\n",
      "Total Columns in the data: 12\n",
      "\n",
      "Column Summary:\n"
     ]
    },
    {
     "data": {
      "text/html": [
       "<style type=\"text/css\">\n",
       "\ttable {border:ridge 5px;}\n",
       "\ttable td {border:inset 1px;}\n",
       "\ttable tr#HeaderRow {background-color:grey; color:white;}</style>\n",
       "<html><table>\n",
       "\t<tr id=\"HeaderRow\">\n",
       "\t\t<th>ColumnName</th>\n",
       "\t\t<th>Datatype</th>\n",
       "\t\t<th>NonNullCount</th>\n",
       "\t\t<th>NullCount</th>\n",
       "\t\t<th>BlankCount</th>\n",
       "\t\t<th>ZeroCount</th>\n",
       "\t\t<th>PositiveCount</th>\n",
       "\t\t<th>NegativeCount</th>\n",
       "\t\t<th>NullPercentage</th>\n",
       "\t\t<th>NonNullPercentage</th>\n",
       "\t</tr>\n",
       "\t<tr>\n",
       "\t\t<td>free_sulfur_dioxide</td>\n",
       "\t\t<td>FLOAT</td>\n",
       "\t\t<td>1279</td>\n",
       "\t\t<td>0</td>\n",
       "\t\t<td>None</td>\n",
       "\t\t<td>0</td>\n",
       "\t\t<td>1279</td>\n",
       "\t\t<td>0</td>\n",
       "\t\t<td>0.0</td>\n",
       "\t\t<td>100.0</td>\n",
       "\t</tr>\n",
       "\t<tr>\n",
       "\t\t<td>sulphates</td>\n",
       "\t\t<td>FLOAT</td>\n",
       "\t\t<td>1279</td>\n",
       "\t\t<td>0</td>\n",
       "\t\t<td>None</td>\n",
       "\t\t<td>0</td>\n",
       "\t\t<td>1279</td>\n",
       "\t\t<td>0</td>\n",
       "\t\t<td>0.0</td>\n",
       "\t\t<td>100.0</td>\n",
       "\t</tr>\n",
       "\t<tr>\n",
       "\t\t<td>quality</td>\n",
       "\t\t<td>VARCHAR(20) CHARACTER SET LATIN</td>\n",
       "\t\t<td>1279</td>\n",
       "\t\t<td>0</td>\n",
       "\t\t<td>0</td>\n",
       "\t\t<td>None</td>\n",
       "\t\t<td>None</td>\n",
       "\t\t<td>None</td>\n",
       "\t\t<td>0.0</td>\n",
       "\t\t<td>100.0</td>\n",
       "\t</tr>\n",
       "\t<tr>\n",
       "\t\t<td>fixed_acidity</td>\n",
       "\t\t<td>FLOAT</td>\n",
       "\t\t<td>1279</td>\n",
       "\t\t<td>0</td>\n",
       "\t\t<td>None</td>\n",
       "\t\t<td>0</td>\n",
       "\t\t<td>1279</td>\n",
       "\t\t<td>0</td>\n",
       "\t\t<td>0.0</td>\n",
       "\t\t<td>100.0</td>\n",
       "\t</tr>\n",
       "\t<tr>\n",
       "\t\t<td>total_sulfur_dioxide</td>\n",
       "\t\t<td>FLOAT</td>\n",
       "\t\t<td>1279</td>\n",
       "\t\t<td>0</td>\n",
       "\t\t<td>None</td>\n",
       "\t\t<td>0</td>\n",
       "\t\t<td>1279</td>\n",
       "\t\t<td>0</td>\n",
       "\t\t<td>0.0</td>\n",
       "\t\t<td>100.0</td>\n",
       "\t</tr>\n",
       "\t<tr>\n",
       "\t\t<td>chlorides</td>\n",
       "\t\t<td>FLOAT</td>\n",
       "\t\t<td>1279</td>\n",
       "\t\t<td>0</td>\n",
       "\t\t<td>None</td>\n",
       "\t\t<td>0</td>\n",
       "\t\t<td>1279</td>\n",
       "\t\t<td>0</td>\n",
       "\t\t<td>0.0</td>\n",
       "\t\t<td>100.0</td>\n",
       "\t</tr>\n",
       "\t<tr>\n",
       "\t\t<td>density</td>\n",
       "\t\t<td>FLOAT</td>\n",
       "\t\t<td>1279</td>\n",
       "\t\t<td>0</td>\n",
       "\t\t<td>None</td>\n",
       "\t\t<td>0</td>\n",
       "\t\t<td>1279</td>\n",
       "\t\t<td>0</td>\n",
       "\t\t<td>0.0</td>\n",
       "\t\t<td>100.0</td>\n",
       "\t</tr>\n",
       "\t<tr>\n",
       "\t\t<td>residual_sugar</td>\n",
       "\t\t<td>FLOAT</td>\n",
       "\t\t<td>1279</td>\n",
       "\t\t<td>0</td>\n",
       "\t\t<td>None</td>\n",
       "\t\t<td>0</td>\n",
       "\t\t<td>1279</td>\n",
       "\t\t<td>0</td>\n",
       "\t\t<td>0.0</td>\n",
       "\t\t<td>100.0</td>\n",
       "\t</tr>\n",
       "\t<tr>\n",
       "\t\t<td>alcohol</td>\n",
       "\t\t<td>FLOAT</td>\n",
       "\t\t<td>1279</td>\n",
       "\t\t<td>0</td>\n",
       "\t\t<td>None</td>\n",
       "\t\t<td>0</td>\n",
       "\t\t<td>1279</td>\n",
       "\t\t<td>0</td>\n",
       "\t\t<td>0.0</td>\n",
       "\t\t<td>100.0</td>\n",
       "\t</tr>\n",
       "\t<tr>\n",
       "\t\t<td>pH</td>\n",
       "\t\t<td>FLOAT</td>\n",
       "\t\t<td>1279</td>\n",
       "\t\t<td>0</td>\n",
       "\t\t<td>None</td>\n",
       "\t\t<td>0</td>\n",
       "\t\t<td>1279</td>\n",
       "\t\t<td>0</td>\n",
       "\t\t<td>0.0</td>\n",
       "\t\t<td>100.0</td>\n",
       "\t</tr>\n",
       "\t<tr>\n",
       "\t\t<td>citric_acid</td>\n",
       "\t\t<td>FLOAT</td>\n",
       "\t\t<td>1279</td>\n",
       "\t\t<td>0</td>\n",
       "\t\t<td>None</td>\n",
       "\t\t<td>108</td>\n",
       "\t\t<td>1171</td>\n",
       "\t\t<td>0</td>\n",
       "\t\t<td>0.0</td>\n",
       "\t\t<td>100.0</td>\n",
       "\t</tr>\n",
       "\t<tr>\n",
       "\t\t<td>volatile_acidity</td>\n",
       "\t\t<td>FLOAT</td>\n",
       "\t\t<td>1279</td>\n",
       "\t\t<td>0</td>\n",
       "\t\t<td>None</td>\n",
       "\t\t<td>0</td>\n",
       "\t\t<td>1279</td>\n",
       "\t\t<td>0</td>\n",
       "\t\t<td>0.0</td>\n",
       "\t\t<td>100.0</td>\n",
       "\t</tr>\n",
       "</table></html>"
      ],
      "text/plain": [
       "              ColumnName                         Datatype  NonNullCount  NullCount  BlankCount  ZeroCount  PositiveCount  NegativeCount  NullPercentage  NonNullPercentage\n",
       "0    free_sulfur_dioxide                            FLOAT          1279          0         NaN        0.0         1279.0            0.0             0.0              100.0\n",
       "1              sulphates                            FLOAT          1279          0         NaN        0.0         1279.0            0.0             0.0              100.0\n",
       "2                quality  VARCHAR(20) CHARACTER SET LATIN          1279          0         0.0        NaN            NaN            NaN             0.0              100.0\n",
       "3          fixed_acidity                            FLOAT          1279          0         NaN        0.0         1279.0            0.0             0.0              100.0\n",
       "4   total_sulfur_dioxide                            FLOAT          1279          0         NaN        0.0         1279.0            0.0             0.0              100.0\n",
       "5              chlorides                            FLOAT          1279          0         NaN        0.0         1279.0            0.0             0.0              100.0\n",
       "6                density                            FLOAT          1279          0         NaN        0.0         1279.0            0.0             0.0              100.0\n",
       "7         residual_sugar                            FLOAT          1279          0         NaN        0.0         1279.0            0.0             0.0              100.0\n",
       "8                alcohol                            FLOAT          1279          0         NaN        0.0         1279.0            0.0             0.0              100.0\n",
       "9                     pH                            FLOAT          1279          0         NaN        0.0         1279.0            0.0             0.0              100.0\n",
       "10           citric_acid                            FLOAT          1279          0         NaN      108.0         1171.0            0.0             0.0              100.0\n",
       "11      volatile_acidity                            FLOAT          1279          0         NaN        0.0         1279.0            0.0             0.0              100.0"
      ]
     },
     "metadata": {},
     "output_type": "display_data"
    },
    {
     "name": "stdout",
     "output_type": "stream",
     "text": [
      "\n",
      "Statistics of Data:\n"
     ]
    },
    {
     "data": {
      "text/html": [
       "<style type=\"text/css\">\n",
       "\ttable {border:ridge 5px;}\n",
       "\ttable td {border:inset 1px;}\n",
       "\ttable tr#HeaderRow {background-color:grey; color:white;}</style>\n",
       "<html><table>\n",
       "\t<tr id=\"HeaderRow\">\n",
       "\t\t<th>func</th>\n",
       "\t\t<th>fixed_acidity</th>\n",
       "\t\t<th>volatile_acidity</th>\n",
       "\t\t<th>citric_acid</th>\n",
       "\t\t<th>residual_sugar</th>\n",
       "\t\t<th>chlorides</th>\n",
       "\t\t<th>free_sulfur_dioxide</th>\n",
       "\t\t<th>total_sulfur_dioxide</th>\n",
       "\t\t<th>density</th>\n",
       "\t\t<th>pH</th>\n",
       "\t\t<th>sulphates</th>\n",
       "\t\t<th>alcohol</th>\n",
       "\t</tr>\n",
       "\t<tr>\n",
       "\t\t<td>min</td>\n",
       "\t\t<td>4.6</td>\n",
       "\t\t<td>0.12</td>\n",
       "\t\t<td>0</td>\n",
       "\t\t<td>0.9</td>\n",
       "\t\t<td>0.012</td>\n",
       "\t\t<td>1</td>\n",
       "\t\t<td>6</td>\n",
       "\t\t<td>0.99</td>\n",
       "\t\t<td>2.74</td>\n",
       "\t\t<td>0.39</td>\n",
       "\t\t<td>8.4</td>\n",
       "\t</tr>\n",
       "\t<tr>\n",
       "\t\t<td>std</td>\n",
       "\t\t<td>1.751</td>\n",
       "\t\t<td>0.18</td>\n",
       "\t\t<td>0.196</td>\n",
       "\t\t<td>1.291</td>\n",
       "\t\t<td>0.048</td>\n",
       "\t\t<td>10.26</td>\n",
       "\t\t<td>33.097</td>\n",
       "\t\t<td>0.002</td>\n",
       "\t\t<td>0.154</td>\n",
       "\t\t<td>0.171</td>\n",
       "\t\t<td>1.064</td>\n",
       "\t</tr>\n",
       "\t<tr>\n",
       "\t\t<td>25%</td>\n",
       "\t\t<td>7.1</td>\n",
       "\t\t<td>0.39</td>\n",
       "\t\t<td>0.095</td>\n",
       "\t\t<td>1.9</td>\n",
       "\t\t<td>0.07</td>\n",
       "\t\t<td>7</td>\n",
       "\t\t<td>21</td>\n",
       "\t\t<td>0.996</td>\n",
       "\t\t<td>3.21</td>\n",
       "\t\t<td>0.55</td>\n",
       "\t\t<td>9.5</td>\n",
       "\t</tr>\n",
       "\t<tr>\n",
       "\t\t<td>50%</td>\n",
       "\t\t<td>7.9</td>\n",
       "\t\t<td>0.52</td>\n",
       "\t\t<td>0.26</td>\n",
       "\t\t<td>2.2</td>\n",
       "\t\t<td>0.08</td>\n",
       "\t\t<td>13</td>\n",
       "\t\t<td>37</td>\n",
       "\t\t<td>0.997</td>\n",
       "\t\t<td>3.31</td>\n",
       "\t\t<td>0.62</td>\n",
       "\t\t<td>10.2</td>\n",
       "\t</tr>\n",
       "\t<tr>\n",
       "\t\t<td>75%</td>\n",
       "\t\t<td>9.2</td>\n",
       "\t\t<td>0.64</td>\n",
       "\t\t<td>0.43</td>\n",
       "\t\t<td>2.6</td>\n",
       "\t\t<td>0.091</td>\n",
       "\t\t<td>21</td>\n",
       "\t\t<td>61.5</td>\n",
       "\t\t<td>0.998</td>\n",
       "\t\t<td>3.4</td>\n",
       "\t\t<td>0.73</td>\n",
       "\t\t<td>11.1</td>\n",
       "\t</tr>\n",
       "\t<tr>\n",
       "\t\t<td>max</td>\n",
       "\t\t<td>15.6</td>\n",
       "\t\t<td>1.58</td>\n",
       "\t\t<td>1</td>\n",
       "\t\t<td>15.5</td>\n",
       "\t\t<td>0.611</td>\n",
       "\t\t<td>68</td>\n",
       "\t\t<td>289</td>\n",
       "\t\t<td>1.004</td>\n",
       "\t\t<td>4.01</td>\n",
       "\t\t<td>2</td>\n",
       "\t\t<td>14</td>\n",
       "\t</tr>\n",
       "\t<tr>\n",
       "\t\t<td>mean</td>\n",
       "\t\t<td>8.339</td>\n",
       "\t\t<td>0.527</td>\n",
       "\t\t<td>0.274</td>\n",
       "\t\t<td>2.511</td>\n",
       "\t\t<td>0.088</td>\n",
       "\t\t<td>15.688</td>\n",
       "\t\t<td>46.169</td>\n",
       "\t\t<td>0.997</td>\n",
       "\t\t<td>3.309</td>\n",
       "\t\t<td>0.659</td>\n",
       "\t\t<td>10.419</td>\n",
       "\t</tr>\n",
       "\t<tr>\n",
       "\t\t<td>count</td>\n",
       "\t\t<td>1279</td>\n",
       "\t\t<td>1279</td>\n",
       "\t\t<td>1279</td>\n",
       "\t\t<td>1279</td>\n",
       "\t\t<td>1279</td>\n",
       "\t\t<td>1279</td>\n",
       "\t\t<td>1279</td>\n",
       "\t\t<td>1279</td>\n",
       "\t\t<td>1279</td>\n",
       "\t\t<td>1279</td>\n",
       "\t\t<td>1279</td>\n",
       "\t</tr>\n",
       "</table></html>"
      ],
      "text/plain": [
       "       fixed_acidity  volatile_acidity  citric_acid  residual_sugar  chlorides  free_sulfur_dioxide  total_sulfur_dioxide   density        pH  sulphates   alcohol\n",
       "func                                                                                                                                                              \n",
       "min            4.600             0.120        0.000           0.900      0.012                1.000                 6.000     0.990     2.740      0.390     8.400\n",
       "std            1.751             0.180        0.196           1.291      0.048               10.260                33.097     0.002     0.154      0.171     1.064\n",
       "25%            7.100             0.390        0.095           1.900      0.070                7.000                21.000     0.996     3.210      0.550     9.500\n",
       "50%            7.900             0.520        0.260           2.200      0.080               13.000                37.000     0.997     3.310      0.620    10.200\n",
       "75%            9.200             0.640        0.430           2.600      0.091               21.000                61.500     0.998     3.400      0.730    11.100\n",
       "max           15.600             1.580        1.000          15.500      0.611               68.000               289.000     1.004     4.010      2.000    14.000\n",
       "mean           8.339             0.527        0.274           2.511      0.088               15.688                46.169     0.997     3.309      0.659    10.419\n",
       "count       1279.000          1279.000     1279.000        1279.000   1279.000             1279.000              1279.000  1279.000  1279.000   1279.000  1279.000"
      ]
     },
     "metadata": {},
     "output_type": "display_data"
    },
    {
     "name": "stdout",
     "output_type": "stream",
     "text": [
      "\n",
      "Categorical Columns with their Distinct values:\n",
      "ColumnName                DistinctValueCount\n",
      "quality                   2         \n",
      "\n",
      "No Futile columns found.\n",
      "\n",
      "Target Column Distribution:\n"
     ]
    },
    {
     "data": {
      "image/png": "[encoded data removed]",
      "text/plain": [
       "<Figure size 600x600 with 1 Axes>"
      ]
     },
     "metadata": {},
     "output_type": "display_data"
    },
    {
     "name": "stdout",
     "output_type": "stream",
     "text": [
      "Columns with outlier percentage :-                                                                                                                                                                                                                                                                                                                                                                                                                                                                                  \n",
      "             ColumnName  OutlierPercentage\n",
      "0   free_sulfur_dioxide           1.876466\n",
      "1  total_sulfur_dioxide           3.518374\n",
      "2             chlorides           6.254887\n",
      "3               density           2.658327\n",
      "4         fixed_acidity           3.205629\n",
      "5               alcohol           0.781861\n",
      "6        residual_sugar           9.382330\n",
      "7             sulphates           3.831118\n",
      "8                    pH           2.189210\n",
      "9           citric_acid           0.078186\n",
      "                                                                                        \r"
     ]
    },
    {
     "data": {
      "text/html": [
       "\n",
       "            <style>\n",
       "                .custom-div {\n",
       "                    background-color: lightgray;\n",
       "                    color: #000000;\n",
       "                    padding: 10px;\n",
       "                    border-radius: 8px;\n",
       "                    box-shadow: 0 3px 4px rgba(0 -  0 -  0 -  0.2);\n",
       "                    margin-bottom: 10px;\n",
       "                    text-align: center;\n",
       "                }\n",
       "            </style>\n",
       "        <br><div class=\"custom-div\"><h3><span style=\"color: green;\">1. Feature Exploration -></span> 2. Feature Engineering -> 3. Data Preparation -> 4. Model Training & Evaluation<center></h3></center></div>"
      ],
      "text/plain": [
       "<IPython.core.display.HTML object>"
      ]
     },
     "metadata": {},
     "output_type": "display_data"
    },
    {
     "name": "stdout",
     "output_type": "stream",
     "text": [
      "                                                                                        \r"
     ]
    },
    {
     "data": {
      "text/html": [
       "Feature Engineering started ..."
      ],
      "text/plain": [
       "<IPython.core.display.HTML object>"
      ]
     },
     "metadata": {},
     "output_type": "display_data"
    },
    {
     "name": "stdout",
     "output_type": "stream",
     "text": [
      "                                                                                        \r"
     ]
    },
    {
     "data": {
      "text/html": [
       "\n",
       "Handling duplicate records present in dataset ..."
      ],
      "text/plain": [
       "<IPython.core.display.HTML object>"
      ]
     },
     "metadata": {},
     "output_type": "display_data"
    },
    {
     "name": "stdout",
     "output_type": "stream",
     "text": [
      "                                                                                        \r"
     ]
    },
    {
     "data": {
      "text/html": [
       "Updated dataset sample after removing 150 duplicate records:"
      ],
      "text/plain": [
       "<IPython.core.display.HTML object>"
      ]
     },
     "metadata": {},
     "output_type": "display_data"
    },
    {
     "data": {
      "text/html": [
       "<style type=\"text/css\">\n",
       "\ttable {border:ridge 5px;}\n",
       "\ttable td {border:inset 1px;}\n",
       "\ttable tr#HeaderRow {background-color:grey; color:white;}</style>\n",
       "<html><table>\n",
       "\t<tr id=\"HeaderRow\">\n",
       "\t\t<th>fixed_acidity</th>\n",
       "\t\t<th>volatile_acidity</th>\n",
       "\t\t<th>citric_acid</th>\n",
       "\t\t<th>residual_sugar</th>\n",
       "\t\t<th>chlorides</th>\n",
       "\t\t<th>free_sulfur_dioxide</th>\n",
       "\t\t<th>total_sulfur_dioxide</th>\n",
       "\t\t<th>density</th>\n",
       "\t\t<th>pH</th>\n",
       "\t\t<th>sulphates</th>\n",
       "\t\t<th>alcohol</th>\n",
       "\t\t<th>quality</th>\n",
       "\t</tr>\n",
       "\t<tr>\n",
       "\t\t<td>8.4</td>\n",
       "\t\t<td>0.25</td>\n",
       "\t\t<td>0.39</td>\n",
       "\t\t<td>2.0</td>\n",
       "\t\t<td>0.041</td>\n",
       "\t\t<td>4.0</td>\n",
       "\t\t<td>10.0</td>\n",
       "\t\t<td>0.99386</td>\n",
       "\t\t<td>3.27</td>\n",
       "\t\t<td>0.71</td>\n",
       "\t\t<td>12.5</td>\n",
       "\t\t<td>good</td>\n",
       "\t</tr>\n",
       "\t<tr>\n",
       "\t\t<td>10.5</td>\n",
       "\t\t<td>0.24</td>\n",
       "\t\t<td>0.47</td>\n",
       "\t\t<td>2.1</td>\n",
       "\t\t<td>0.066</td>\n",
       "\t\t<td>6.0</td>\n",
       "\t\t<td>24.0</td>\n",
       "\t\t<td>0.9978</td>\n",
       "\t\t<td>3.15</td>\n",
       "\t\t<td>0.9</td>\n",
       "\t\t<td>11.0</td>\n",
       "\t\t<td>good</td>\n",
       "\t</tr>\n",
       "\t<tr>\n",
       "\t\t<td>10.5</td>\n",
       "\t\t<td>0.28</td>\n",
       "\t\t<td>0.51</td>\n",
       "\t\t<td>1.7</td>\n",
       "\t\t<td>0.08</td>\n",
       "\t\t<td>10.0</td>\n",
       "\t\t<td>24.0</td>\n",
       "\t\t<td>0.9982</td>\n",
       "\t\t<td>3.2</td>\n",
       "\t\t<td>0.89</td>\n",
       "\t\t<td>9.4</td>\n",
       "\t\t<td>good</td>\n",
       "\t</tr>\n",
       "\t<tr>\n",
       "\t\t<td>8.6</td>\n",
       "\t\t<td>0.37</td>\n",
       "\t\t<td>0.65</td>\n",
       "\t\t<td>6.4</td>\n",
       "\t\t<td>0.08</td>\n",
       "\t\t<td>3.0</td>\n",
       "\t\t<td>8.0</td>\n",
       "\t\t<td>0.99817</td>\n",
       "\t\t<td>3.27</td>\n",
       "\t\t<td>0.58</td>\n",
       "\t\t<td>11.0</td>\n",
       "\t\t<td>bad</td>\n",
       "\t</tr>\n",
       "\t<tr>\n",
       "\t\t<td>8.2</td>\n",
       "\t\t<td>0.35</td>\n",
       "\t\t<td>0.33</td>\n",
       "\t\t<td>2.4</td>\n",
       "\t\t<td>0.076</td>\n",
       "\t\t<td>11.0</td>\n",
       "\t\t<td>47.0</td>\n",
       "\t\t<td>0.99599</td>\n",
       "\t\t<td>3.27</td>\n",
       "\t\t<td>0.81</td>\n",
       "\t\t<td>11.0</td>\n",
       "\t\t<td>good</td>\n",
       "\t</tr>\n",
       "\t<tr>\n",
       "\t\t<td>8.2</td>\n",
       "\t\t<td>0.28</td>\n",
       "\t\t<td>0.6</td>\n",
       "\t\t<td>3.0</td>\n",
       "\t\t<td>0.104</td>\n",
       "\t\t<td>10.0</td>\n",
       "\t\t<td>22.0</td>\n",
       "\t\t<td>0.99828</td>\n",
       "\t\t<td>3.39</td>\n",
       "\t\t<td>0.68</td>\n",
       "\t\t<td>10.6</td>\n",
       "\t\t<td>bad</td>\n",
       "\t</tr>\n",
       "\t<tr>\n",
       "\t\t<td>7.4</td>\n",
       "\t\t<td>0.36</td>\n",
       "\t\t<td>0.29</td>\n",
       "\t\t<td>2.6</td>\n",
       "\t\t<td>0.087</td>\n",
       "\t\t<td>26.0</td>\n",
       "\t\t<td>72.0</td>\n",
       "\t\t<td>0.99645</td>\n",
       "\t\t<td>3.39</td>\n",
       "\t\t<td>0.68</td>\n",
       "\t\t<td>11.0</td>\n",
       "\t\t<td>bad</td>\n",
       "\t</tr>\n",
       "\t<tr>\n",
       "\t\t<td>7.4</td>\n",
       "\t\t<td>0.55</td>\n",
       "\t\t<td>0.19</td>\n",
       "\t\t<td>1.8</td>\n",
       "\t\t<td>0.082</td>\n",
       "\t\t<td>15.0</td>\n",
       "\t\t<td>34.0</td>\n",
       "\t\t<td>0.99655</td>\n",
       "\t\t<td>3.49</td>\n",
       "\t\t<td>0.68</td>\n",
       "\t\t<td>10.5</td>\n",
       "\t\t<td>bad</td>\n",
       "\t</tr>\n",
       "\t<tr>\n",
       "\t\t<td>9.0</td>\n",
       "\t\t<td>0.66</td>\n",
       "\t\t<td>0.17</td>\n",
       "\t\t<td>3.0</td>\n",
       "\t\t<td>0.077</td>\n",
       "\t\t<td>5.0</td>\n",
       "\t\t<td>13.0</td>\n",
       "\t\t<td>0.9976</td>\n",
       "\t\t<td>3.29</td>\n",
       "\t\t<td>0.55</td>\n",
       "\t\t<td>10.4</td>\n",
       "\t\t<td>bad</td>\n",
       "\t</tr>\n",
       "\t<tr>\n",
       "\t\t<td>9.0</td>\n",
       "\t\t<td>0.46</td>\n",
       "\t\t<td>0.31</td>\n",
       "\t\t<td>2.8</td>\n",
       "\t\t<td>0.093</td>\n",
       "\t\t<td>19.0</td>\n",
       "\t\t<td>98.0</td>\n",
       "\t\t<td>0.99815</td>\n",
       "\t\t<td>3.32</td>\n",
       "\t\t<td>0.63</td>\n",
       "\t\t<td>9.5</td>\n",
       "\t\t<td>good</td>\n",
       "\t</tr>\n",
       "</table></html>"
      ],
      "text/plain": [
       "               volatile_acidity  citric_acid  residual_sugar  chlorides  free_sulfur_dioxide  total_sulfur_dioxide  density    pH  sulphates  alcohol quality\n",
       "fixed_acidity                                                                                                                                                \n",
       "8.4                        0.25         0.39             2.0      0.041                  4.0                  10.0  0.99386  3.27       0.71     12.5    good\n",
       "10.5                       0.24         0.47             2.1      0.066                  6.0                  24.0  0.99780  3.15       0.90     11.0    good\n",
       "10.5                       0.28         0.51             1.7      0.080                 10.0                  24.0  0.99820  3.20       0.89      9.4    good\n",
       "8.6                        0.37         0.65             6.4      0.080                  3.0                   8.0  0.99817  3.27       0.58     11.0     bad\n",
       "8.2                        0.35         0.33             2.4      0.076                 11.0                  47.0  0.99599  3.27       0.81     11.0    good\n",
       "8.2                        0.28         0.60             3.0      0.104                 10.0                  22.0  0.99828  3.39       0.68     10.6     bad\n",
       "7.4                        0.36         0.29             2.6      0.087                 26.0                  72.0  0.99645  3.39       0.68     11.0     bad\n",
       "7.4                        0.55         0.19             1.8      0.082                 15.0                  34.0  0.99655  3.49       0.68     10.5     bad\n",
       "9.0                        0.66         0.17             3.0      0.077                  5.0                  13.0  0.99760  3.29       0.55     10.4     bad\n",
       "9.0                        0.46         0.31             2.8      0.093                 19.0                  98.0  0.99815  3.32       0.63      9.5    good"
      ]
     },
     "metadata": {},
     "output_type": "display_data"
    },
    {
     "name": "stdout",
     "output_type": "stream",
     "text": [
      "                                                                                        \r"
     ]
    },
    {
     "data": {
      "text/html": [
       "1129 rows X 12 columns"
      ],
      "text/plain": [
       "<IPython.core.display.HTML object>"
      ]
     },
     "metadata": {},
     "output_type": "display_data"
    },
    {
     "name": "stdout",
     "output_type": "stream",
     "text": [
      "Remaining Rows in the data: 1129                                                        \n",
      "Remaining Columns in the data: 12\n",
      "                                                                                        \r"
     ]
    },
    {
     "data": {
      "text/html": [
       "Total time to handle duplicate records: 4.16 sec  "
      ],
      "text/plain": [
       "<IPython.core.display.HTML object>"
      ]
     },
     "metadata": {},
     "output_type": "display_data"
    },
    {
     "name": "stdout",
     "output_type": "stream",
     "text": [
      "                                                                                        \r"
     ]
    },
    {
     "data": {
      "text/html": [
       "\n",
       "Handling less significant features from data ..."
      ],
      "text/plain": [
       "<IPython.core.display.HTML object>"
      ]
     },
     "metadata": {},
     "output_type": "display_data"
    },
    {
     "name": "stdout",
     "output_type": "stream",
     "text": [
      "result data stored in table '\"ALICE\".\"ml__td_sqlmr_persist_out__1719263560175580\"'- 1/21\n",
      "                                                                                        \r"
     ]
    },
    {
     "data": {
      "text/html": [
       "Total time to handle less significant features: 17.48 sec  "
      ],
      "text/plain": [
       "<IPython.core.display.HTML object>"
      ]
     },
     "metadata": {},
     "output_type": "display_data"
    },
    {
     "name": "stdout",
     "output_type": "stream",
     "text": [
      "                                                                                        \r"
     ]
    },
    {
     "data": {
      "text/html": [
       "\n",
       "Handling Date Features ..."
      ],
      "text/plain": [
       "<IPython.core.display.HTML object>"
      ]
     },
     "metadata": {},
     "output_type": "display_data"
    },
    {
     "name": "stdout",
     "output_type": "stream",
     "text": [
      "Analysis Completed. Dataset does not contain any feature related to dates. No action needed.\n",
      "                                                                                        \r"
     ]
    },
    {
     "data": {
      "text/html": [
       "Total time to handle date features: 0.00 sec\n"
      ],
      "text/plain": [
       "<IPython.core.display.HTML object>"
      ]
     },
     "metadata": {},
     "output_type": "display_data"
    },
    {
     "name": "stdout",
     "output_type": "stream",
     "text": [
      "Proceeding with default option for missing value imputation.                             \n",
      "Proceeding with default option for handling remaining missing values.                    \n",
      "                                                                                         \r"
     ]
    },
    {
     "data": {
      "text/html": [
       "\n",
       "Checking Missing values in dataset ..."
      ],
      "text/plain": [
       "<IPython.core.display.HTML object>"
      ]
     },
     "metadata": {},
     "output_type": "display_data"
    },
    {
     "name": "stdout",
     "output_type": "stream",
     "text": [
      "Analysis Completed. No Missing Values Detected.                                          \n",
      "                                                                                         \r"
     ]
    },
    {
     "data": {
      "text/html": [
       "Total time to find missing values in data: 7.32 sec  "
      ],
      "text/plain": [
       "<IPython.core.display.HTML object>"
      ]
     },
     "metadata": {},
     "output_type": "display_data"
    },
    {
     "name": "stdout",
     "output_type": "stream",
     "text": [
      "                                                                                         \r"
     ]
    },
    {
     "data": {
      "text/html": [
       "\n",
       "Imputing Missing Values ..."
      ],
      "text/plain": [
       "<IPython.core.display.HTML object>"
      ]
     },
     "metadata": {},
     "output_type": "display_data"
    },
    {
     "name": "stdout",
     "output_type": "stream",
     "text": [
      "Analysis completed. No imputation required.                                              \n",
      "                                                                                         \r"
     ]
    },
    {
     "data": {
      "text/html": [
       "Time taken to perform imputation: 0.00 sec  "
      ],
      "text/plain": [
       "<IPython.core.display.HTML object>"
      ]
     },
     "metadata": {},
     "output_type": "display_data"
    },
    {
     "name": "stdout",
     "output_type": "stream",
     "text": [
      "No information provided for Variable-Width Transformation.                               \n",
      "Skipping customized string manipulation.⫾⫾⫾⫾⫾⫾⫾⫾⫾⫾⫾⫾⫾⫾⫾⫾⫾⫾⫾⫾⫾⫾⫾⫾⫾⫾⫾⫾⫾⫾⫾⫾⫾⫾⫾⫾⫾｜ 23% - 5/21\n",
      "                                                                                         \r"
     ]
    },
    {
     "data": {
      "text/html": [
       "\n",
       "Starting Customized Categorical Feature Encoding ..."
      ],
      "text/plain": [
       "<IPython.core.display.HTML object>"
      ]
     },
     "metadata": {},
     "output_type": "display_data"
    },
    {
     "name": "stdout",
     "output_type": "stream",
     "text": [
      "AutoML will proceed with default encoding technique.                                     \n",
      "                                                                                         \r"
     ]
    },
    {
     "data": {
      "text/html": [
       "\n",
       "Performing encoding for categorical columns ..."
      ],
      "text/plain": [
       "<IPython.core.display.HTML object>"
      ]
     },
     "metadata": {},
     "output_type": "display_data"
    },
    {
     "name": "stdout",
     "output_type": "stream",
     "text": [
      "Analysis completed. No categorical columns were found.                                   \n",
      "                                                                                         \r"
     ]
    },
    {
     "data": {
      "text/html": [
       "Time taken to encode the columns: 2.07 sec"
      ],
      "text/plain": [
       "<IPython.core.display.HTML object>"
      ]
     },
     "metadata": {},
     "output_type": "display_data"
    },
    {
     "name": "stdout",
     "output_type": "stream",
     "text": [
      "                                                                                         \r"
     ]
    },
    {
     "data": {
      "text/html": [
       "\n",
       "Starting customized mathematical transformation ..."
      ],
      "text/plain": [
       "<IPython.core.display.HTML object>"
      ]
     },
     "metadata": {},
     "output_type": "display_data"
    },
    {
     "name": "stdout",
     "output_type": "stream",
     "text": [
      "Skipping customized mathematical transformation.                                         \n",
      "                                                                                         \r"
     ]
    },
    {
     "data": {
      "text/html": [
       "\n",
       "Starting customized non-linear transformation ..."
      ],
      "text/plain": [
       "<IPython.core.display.HTML object>"
      ]
     },
     "metadata": {},
     "output_type": "display_data"
    },
    {
     "name": "stdout",
     "output_type": "stream",
     "text": [
      "Skipping customized non-linear transformation.                                           \n",
      "                                                                                         \r"
     ]
    },
    {
     "data": {
      "text/html": [
       "\n",
       "Starting customized anti-select columns ..."
      ],
      "text/plain": [
       "<IPython.core.display.HTML object>"
      ]
     },
     "metadata": {},
     "output_type": "display_data"
    },
    {
     "name": "stdout",
     "output_type": "stream",
     "text": [
      "Skipping customized anti-select columns.                                                 \n",
      "                                                                                          \r"
     ]
    },
    {
     "data": {
      "text/html": [
       "\n",
       "            <style>\n",
       "                .custom-div {\n",
       "                    background-color: lightgray;\n",
       "                    color: #000000;\n",
       "                    padding: 10px;\n",
       "                    border-radius: 8px;\n",
       "                    box-shadow: 0 3px 4px rgba(0 -  0 -  0 -  0.2);\n",
       "                    margin-bottom: 10px;\n",
       "                    text-align: center;\n",
       "                }\n",
       "            </style>\n",
       "        <br><div class=\"custom-div\"><h3><span style=\"color: green;\">1. Feature Exploration -> 2. Feature Engineering -></span> 3. Data Preparation -> 4. Model Training & Evaluation<center></h3></center></div>"
      ],
      "text/plain": [
       "<IPython.core.display.HTML object>"
      ]
     },
     "metadata": {},
     "output_type": "display_data"
    },
    {
     "name": "stdout",
     "output_type": "stream",
     "text": [
      "                                                                                          \r"
     ]
    },
    {
     "data": {
      "text/html": [
       "Data preparation started ..."
      ],
      "text/plain": [
       "<IPython.core.display.HTML object>"
      ]
     },
     "metadata": {},
     "output_type": "display_data"
    },
    {
     "name": "stdout",
     "output_type": "stream",
     "text": [
      "                                                                                          \r"
     ]
    },
    {
     "data": {
      "text/html": [
       "\n",
       "Spliting of dataset into training and testing ..."
      ],
      "text/plain": [
       "<IPython.core.display.HTML object>"
      ]
     },
     "metadata": {},
     "output_type": "display_data"
    },
    {
     "name": "stdout",
     "output_type": "stream",
     "text": [
      "Training size : 0.7                                                                       \n",
      "Testing size  : 0.3                                                                       \n",
      "                                                                                          \r"
     ]
    },
    {
     "data": {
      "text/html": [
       "Training data sample"
      ],
      "text/plain": [
       "<IPython.core.display.HTML object>"
      ]
     },
     "metadata": {},
     "output_type": "display_data"
    },
    {
     "data": {
      "text/html": [
       "<style type=\"text/css\">\n",
       "\ttable {border:ridge 5px;}\n",
       "\ttable td {border:inset 1px;}\n",
       "\ttable tr#HeaderRow {background-color:grey; color:white;}</style>\n",
       "<html><table>\n",
       "\t<tr id=\"HeaderRow\">\n",
       "\t\t<th>free_sulfur_dioxide</th>\n",
       "\t\t<th>volatile_acidity</th>\n",
       "\t\t<th>total_sulfur_dioxide</th>\n",
       "\t\t<th>id</th>\n",
       "\t\t<th>density</th>\n",
       "\t\t<th>alcohol</th>\n",
       "\t\t<th>chlorides</th>\n",
       "\t\t<th>pH</th>\n",
       "\t\t<th>sulphates</th>\n",
       "\t\t<th>residual_sugar</th>\n",
       "\t\t<th>citric_acid</th>\n",
       "\t\t<th>fixed_acidity</th>\n",
       "\t\t<th>quality</th>\n",
       "\t</tr>\n",
       "\t<tr>\n",
       "\t\t<td>3.0</td>\n",
       "\t\t<td>0.37</td>\n",
       "\t\t<td>8.0</td>\n",
       "\t\t<td>13</td>\n",
       "\t\t<td>0.99817</td>\n",
       "\t\t<td>11.0</td>\n",
       "\t\t<td>0.08</td>\n",
       "\t\t<td>3.27</td>\n",
       "\t\t<td>0.58</td>\n",
       "\t\t<td>6.4</td>\n",
       "\t\t<td>0.65</td>\n",
       "\t\t<td>8.6</td>\n",
       "\t\t<td>0</td>\n",
       "\t</tr>\n",
       "\t<tr>\n",
       "\t\t<td>4.0</td>\n",
       "\t\t<td>0.25</td>\n",
       "\t\t<td>10.0</td>\n",
       "\t\t<td>12</td>\n",
       "\t\t<td>0.99386</td>\n",
       "\t\t<td>12.5</td>\n",
       "\t\t<td>0.041</td>\n",
       "\t\t<td>3.27</td>\n",
       "\t\t<td>0.71</td>\n",
       "\t\t<td>2.0</td>\n",
       "\t\t<td>0.39</td>\n",
       "\t\t<td>8.4</td>\n",
       "\t\t<td>1</td>\n",
       "\t</tr>\n",
       "\t<tr>\n",
       "\t\t<td>4.0</td>\n",
       "\t\t<td>0.28</td>\n",
       "\t\t<td>10.0</td>\n",
       "\t\t<td>39</td>\n",
       "\t\t<td>0.99356</td>\n",
       "\t\t<td>12.8</td>\n",
       "\t\t<td>0.052</td>\n",
       "\t\t<td>3.33</td>\n",
       "\t\t<td>0.7</td>\n",
       "\t\t<td>2.4</td>\n",
       "\t\t<td>0.4</td>\n",
       "\t\t<td>8.2</td>\n",
       "\t\t<td>1</td>\n",
       "\t</tr>\n",
       "\t<tr>\n",
       "\t\t<td>17.0</td>\n",
       "\t\t<td>0.415</td>\n",
       "\t\t<td>43.0</td>\n",
       "\t\t<td>9</td>\n",
       "\t\t<td>1.0014</td>\n",
       "\t\t<td>10.0</td>\n",
       "\t\t<td>0.085</td>\n",
       "\t\t<td>3.06</td>\n",
       "\t\t<td>0.8</td>\n",
       "\t\t<td>2.9</td>\n",
       "\t\t<td>0.68</td>\n",
       "\t\t<td>13.7</td>\n",
       "\t\t<td>1</td>\n",
       "\t</tr>\n",
       "\t<tr>\n",
       "\t\t<td>15.0</td>\n",
       "\t\t<td>0.55</td>\n",
       "\t\t<td>34.0</td>\n",
       "\t\t<td>19</td>\n",
       "\t\t<td>0.99655</td>\n",
       "\t\t<td>10.5</td>\n",
       "\t\t<td>0.082</td>\n",
       "\t\t<td>3.49</td>\n",
       "\t\t<td>0.68</td>\n",
       "\t\t<td>1.8</td>\n",
       "\t\t<td>0.19</td>\n",
       "\t\t<td>7.4</td>\n",
       "\t\t<td>0</td>\n",
       "\t</tr>\n",
       "\t<tr>\n",
       "\t\t<td>47.0</td>\n",
       "\t\t<td>0.39</td>\n",
       "\t\t<td>133.0</td>\n",
       "\t\t<td>47</td>\n",
       "\t\t<td>0.9979</td>\n",
       "\t\t<td>9.8</td>\n",
       "\t\t<td>0.099</td>\n",
       "\t\t<td>3.38</td>\n",
       "\t\t<td>0.99</td>\n",
       "\t\t<td>2.3</td>\n",
       "\t\t<td>0.49</td>\n",
       "\t\t<td>8.2</td>\n",
       "\t\t<td>0</td>\n",
       "\t</tr>\n",
       "\t<tr>\n",
       "\t\t<td>6.0</td>\n",
       "\t\t<td>0.24</td>\n",
       "\t\t<td>24.0</td>\n",
       "\t\t<td>10</td>\n",
       "\t\t<td>0.9978</td>\n",
       "\t\t<td>11.0</td>\n",
       "\t\t<td>0.066</td>\n",
       "\t\t<td>3.15</td>\n",
       "\t\t<td>0.9</td>\n",
       "\t\t<td>2.1</td>\n",
       "\t\t<td>0.47</td>\n",
       "\t\t<td>10.5</td>\n",
       "\t\t<td>1</td>\n",
       "\t</tr>\n",
       "\t<tr>\n",
       "\t\t<td>10.0</td>\n",
       "\t\t<td>0.28</td>\n",
       "\t\t<td>24.0</td>\n",
       "\t\t<td>18</td>\n",
       "\t\t<td>0.9982</td>\n",
       "\t\t<td>9.4</td>\n",
       "\t\t<td>0.08</td>\n",
       "\t\t<td>3.2</td>\n",
       "\t\t<td>0.89</td>\n",
       "\t\t<td>1.7</td>\n",
       "\t\t<td>0.51</td>\n",
       "\t\t<td>10.5</td>\n",
       "\t\t<td>1</td>\n",
       "\t</tr>\n",
       "\t<tr>\n",
       "\t\t<td>5.0</td>\n",
       "\t\t<td>0.5</td>\n",
       "\t\t<td>14.0</td>\n",
       "\t\t<td>8</td>\n",
       "\t\t<td>1.0002</td>\n",
       "\t\t<td>9.6</td>\n",
       "\t\t<td>0.089</td>\n",
       "\t\t<td>3.19</td>\n",
       "\t\t<td>0.44</td>\n",
       "\t\t<td>2.2</td>\n",
       "\t\t<td>0.49</td>\n",
       "\t\t<td>12.3</td>\n",
       "\t\t<td>0</td>\n",
       "\t</tr>\n",
       "\t<tr>\n",
       "\t\t<td>5.0</td>\n",
       "\t\t<td>0.38</td>\n",
       "\t\t<td>12.0</td>\n",
       "\t\t<td>49</td>\n",
       "\t\t<td>0.99605</td>\n",
       "\t\t<td>11.4</td>\n",
       "\t\t<td>0.106</td>\n",
       "\t\t<td>3.36</td>\n",
       "\t\t<td>0.55</td>\n",
       "\t\t<td>2.3</td>\n",
       "\t\t<td>0.57</td>\n",
       "\t\t<td>7.5</td>\n",
       "\t\t<td>1</td>\n",
       "\t</tr>\n",
       "</table></html>"
      ],
      "text/plain": [
       "   free_sulfur_dioxide  volatile_acidity  total_sulfur_dioxide  id  density  alcohol  chlorides    pH  sulphates  residual_sugar  citric_acid  fixed_acidity  quality\n",
       "0                  3.0             0.370                   8.0  13  0.99817     11.0      0.080  3.27       0.58             6.4         0.65            8.6        0\n",
       "1                  4.0             0.250                  10.0  12  0.99386     12.5      0.041  3.27       0.71             2.0         0.39            8.4        1\n",
       "2                  4.0             0.280                  10.0  39  0.99356     12.8      0.052  3.33       0.70             2.4         0.40            8.2        1\n",
       "3                 17.0             0.415                  43.0   9  1.00140     10.0      0.085  3.06       0.80             2.9         0.68           13.7        1\n",
       "4                 15.0             0.550                  34.0  19  0.99655     10.5      0.082  3.49       0.68             1.8         0.19            7.4        0\n",
       "5                 47.0             0.390                 133.0  47  0.99790      9.8      0.099  3.38       0.99             2.3         0.49            8.2        0\n",
       "6                  6.0             0.240                  24.0  10  0.99780     11.0      0.066  3.15       0.90             2.1         0.47           10.5        1\n",
       "7                 10.0             0.280                  24.0  18  0.99820      9.4      0.080  3.20       0.89             1.7         0.51           10.5        1\n",
       "8                  5.0             0.500                  14.0   8  1.00020      9.6      0.089  3.19       0.44             2.2         0.49           12.3        0\n",
       "9                  5.0             0.380                  12.0  49  0.99605     11.4      0.106  3.36       0.55             2.3         0.57            7.5        1"
      ]
     },
     "metadata": {},
     "output_type": "display_data"
    },
    {
     "name": "stdout",
     "output_type": "stream",
     "text": [
      "                                                                                          \r"
     ]
    },
    {
     "data": {
      "text/html": [
       "790 rows X 13 columns"
      ],
      "text/plain": [
       "<IPython.core.display.HTML object>"
      ]
     },
     "metadata": {},
     "output_type": "display_data"
    },
    {
     "name": "stdout",
     "output_type": "stream",
     "text": [
      "                                                                                          \r"
     ]
    },
    {
     "data": {
      "text/html": [
       "Testing data sample"
      ],
      "text/plain": [
       "<IPython.core.display.HTML object>"
      ]
     },
     "metadata": {},
     "output_type": "display_data"
    },
    {
     "data": {
      "text/html": [
       "<style type=\"text/css\">\n",
       "\ttable {border:ridge 5px;}\n",
       "\ttable td {border:inset 1px;}\n",
       "\ttable tr#HeaderRow {background-color:grey; color:white;}</style>\n",
       "<html><table>\n",
       "\t<tr id=\"HeaderRow\">\n",
       "\t\t<th>free_sulfur_dioxide</th>\n",
       "\t\t<th>volatile_acidity</th>\n",
       "\t\t<th>total_sulfur_dioxide</th>\n",
       "\t\t<th>id</th>\n",
       "\t\t<th>density</th>\n",
       "\t\t<th>alcohol</th>\n",
       "\t\t<th>chlorides</th>\n",
       "\t\t<th>pH</th>\n",
       "\t\t<th>sulphates</th>\n",
       "\t\t<th>residual_sugar</th>\n",
       "\t\t<th>citric_acid</th>\n",
       "\t\t<th>fixed_acidity</th>\n",
       "\t\t<th>quality</th>\n",
       "\t</tr>\n",
       "\t<tr>\n",
       "\t\t<td>22.0</td>\n",
       "\t\t<td>0.69</td>\n",
       "\t\t<td>91.0</td>\n",
       "\t\t<td>48</td>\n",
       "\t\t<td>0.9979</td>\n",
       "\t\t<td>10.1</td>\n",
       "\t\t<td>0.088</td>\n",
       "\t\t<td>3.29</td>\n",
       "\t\t<td>0.62</td>\n",
       "\t\t<td>2.5</td>\n",
       "\t\t<td>0.32</td>\n",
       "\t\t<td>9.7</td>\n",
       "\t\t<td>0</td>\n",
       "\t</tr>\n",
       "\t<tr>\n",
       "\t\t<td>19.0</td>\n",
       "\t\t<td>0.46</td>\n",
       "\t\t<td>98.0</td>\n",
       "\t\t<td>22</td>\n",
       "\t\t<td>0.99815</td>\n",
       "\t\t<td>9.5</td>\n",
       "\t\t<td>0.093</td>\n",
       "\t\t<td>3.32</td>\n",
       "\t\t<td>0.63</td>\n",
       "\t\t<td>2.8</td>\n",
       "\t\t<td>0.31</td>\n",
       "\t\t<td>9.0</td>\n",
       "\t\t<td>1</td>\n",
       "\t</tr>\n",
       "\t<tr>\n",
       "\t\t<td>19.0</td>\n",
       "\t\t<td>0.49</td>\n",
       "\t\t<td>133.0</td>\n",
       "\t\t<td>29</td>\n",
       "\t\t<td>0.9972</td>\n",
       "\t\t<td>9.8</td>\n",
       "\t\t<td>0.11</td>\n",
       "\t\t<td>2.93</td>\n",
       "\t\t<td>1.98</td>\n",
       "\t\t<td>2.0</td>\n",
       "\t\t<td>0.29</td>\n",
       "\t\t<td>8.6</td>\n",
       "\t\t<td>0</td>\n",
       "\t</tr>\n",
       "\t<tr>\n",
       "\t\t<td>14.0</td>\n",
       "\t\t<td>0.47</td>\n",
       "\t\t<td>28.0</td>\n",
       "\t\t<td>21</td>\n",
       "\t\t<td>0.99516</td>\n",
       "\t\t<td>11.2</td>\n",
       "\t\t<td>0.055</td>\n",
       "\t\t<td>3.18</td>\n",
       "\t\t<td>0.8</td>\n",
       "\t\t<td>2.3</td>\n",
       "\t\t<td>0.27</td>\n",
       "\t\t<td>8.6</td>\n",
       "\t\t<td>0</td>\n",
       "\t</tr>\n",
       "\t<tr>\n",
       "\t\t<td>4.0</td>\n",
       "\t\t<td>0.53</td>\n",
       "\t\t<td>12.0</td>\n",
       "\t\t<td>27</td>\n",
       "\t\t<td>0.99702</td>\n",
       "\t\t<td>9.2</td>\n",
       "\t\t<td>0.165</td>\n",
       "\t\t<td>3.26</td>\n",
       "\t\t<td>0.86</td>\n",
       "\t\t<td>1.9</td>\n",
       "\t\t<td>0.12</td>\n",
       "\t\t<td>7.4</td>\n",
       "\t\t<td>0</td>\n",
       "\t</tr>\n",
       "\t<tr>\n",
       "\t\t<td>16.0</td>\n",
       "\t\t<td>0.745</td>\n",
       "\t\t<td>63.0</td>\n",
       "\t\t<td>36</td>\n",
       "\t\t<td>0.9965</td>\n",
       "\t\t<td>9.6</td>\n",
       "\t\t<td>0.09</td>\n",
       "\t\t<td>3.19</td>\n",
       "\t\t<td>0.82</td>\n",
       "\t\t<td>1.9</td>\n",
       "\t\t<td>0.11</td>\n",
       "\t\t<td>8.4</td>\n",
       "\t\t<td>0</td>\n",
       "\t</tr>\n",
       "\t<tr>\n",
       "\t\t<td>23.0</td>\n",
       "\t\t<td>0.34</td>\n",
       "\t\t<td>36.0</td>\n",
       "\t\t<td>20</td>\n",
       "\t\t<td>0.99392</td>\n",
       "\t\t<td>12.4</td>\n",
       "\t\t<td>0.072</td>\n",
       "\t\t<td>3.11</td>\n",
       "\t\t<td>0.78</td>\n",
       "\t\t<td>2.1</td>\n",
       "\t\t<td>0.42</td>\n",
       "\t\t<td>8.4</td>\n",
       "\t\t<td>1</td>\n",
       "\t</tr>\n",
       "\t<tr>\n",
       "\t\t<td>17.0</td>\n",
       "\t\t<td>0.63</td>\n",
       "\t\t<td>91.0</td>\n",
       "\t\t<td>33</td>\n",
       "\t\t<td>0.99616</td>\n",
       "\t\t<td>9.8</td>\n",
       "\t\t<td>0.083</td>\n",
       "\t\t<td>3.26</td>\n",
       "\t\t<td>0.58</td>\n",
       "\t\t<td>2.0</td>\n",
       "\t\t<td>0.27</td>\n",
       "\t\t<td>7.5</td>\n",
       "\t\t<td>1</td>\n",
       "\t</tr>\n",
       "\t<tr>\n",
       "\t\t<td>15.0</td>\n",
       "\t\t<td>0.4</td>\n",
       "\t\t<td>54.0</td>\n",
       "\t\t<td>32</td>\n",
       "\t\t<td>1.0</td>\n",
       "\t\t<td>10.2</td>\n",
       "\t\t<td>0.092</td>\n",
       "\t\t<td>3.03</td>\n",
       "\t\t<td>0.66</td>\n",
       "\t\t<td>2.0</td>\n",
       "\t\t<td>0.52</td>\n",
       "\t\t<td>12.1</td>\n",
       "\t\t<td>0</td>\n",
       "\t</tr>\n",
       "\t<tr>\n",
       "\t\t<td>15.0</td>\n",
       "\t\t<td>0.705</td>\n",
       "\t\t<td>63.0</td>\n",
       "\t\t<td>41</td>\n",
       "\t\t<td>0.9964</td>\n",
       "\t\t<td>9.5</td>\n",
       "\t\t<td>0.36</td>\n",
       "\t\t<td>3.0</td>\n",
       "\t\t<td>1.59</td>\n",
       "\t\t<td>1.8</td>\n",
       "\t\t<td>0.24</td>\n",
       "\t\t<td>7.5</td>\n",
       "\t\t<td>0</td>\n",
       "\t</tr>\n",
       "</table></html>"
      ],
      "text/plain": [
       "   free_sulfur_dioxide  volatile_acidity  total_sulfur_dioxide  id  density  alcohol  chlorides    pH  sulphates  residual_sugar  citric_acid  fixed_acidity  quality\n",
       "0                 22.0             0.690                  91.0  48  0.99790     10.1      0.088  3.29       0.62             2.5         0.32            9.7        0\n",
       "1                 19.0             0.460                  98.0  22  0.99815      9.5      0.093  3.32       0.63             2.8         0.31            9.0        1\n",
       "2                 19.0             0.490                 133.0  29  0.99720      9.8      0.110  2.93       1.98             2.0         0.29            8.6        0\n",
       "3                 14.0             0.470                  28.0  21  0.99516     11.2      0.055  3.18       0.80             2.3         0.27            8.6        0\n",
       "4                  4.0             0.530                  12.0  27  0.99702      9.2      0.165  3.26       0.86             1.9         0.12            7.4        0\n",
       "5                 16.0             0.745                  63.0  36  0.99650      9.6      0.090  3.19       0.82             1.9         0.11            8.4        0\n",
       "6                 23.0             0.340                  36.0  20  0.99392     12.4      0.072  3.11       0.78             2.1         0.42            8.4        1\n",
       "7                 17.0             0.630                  91.0  33  0.99616      9.8      0.083  3.26       0.58             2.0         0.27            7.5        1\n",
       "8                 15.0             0.400                  54.0  32  1.00000     10.2      0.092  3.03       0.66             2.0         0.52           12.1        0\n",
       "9                 15.0             0.705                  63.0  41  0.99640      9.5      0.360  3.00       1.59             1.8         0.24            7.5        0"
      ]
     },
     "metadata": {},
     "output_type": "display_data"
    },
    {
     "name": "stdout",
     "output_type": "stream",
     "text": [
      "                                                                                          \r"
     ]
    },
    {
     "data": {
      "text/html": [
       "339 rows X 13 columns"
      ],
      "text/plain": [
       "<IPython.core.display.HTML object>"
      ]
     },
     "metadata": {},
     "output_type": "display_data"
    },
    {
     "name": "stdout",
     "output_type": "stream",
     "text": [
      "                                                                                          \r"
     ]
    },
    {
     "data": {
      "text/html": [
       "Time taken for spliting of data: 10.68 sec  "
      ],
      "text/plain": [
       "<IPython.core.display.HTML object>"
      ]
     },
     "metadata": {},
     "output_type": "display_data"
    },
    {
     "name": "stdout",
     "output_type": "stream",
     "text": [
      "                                                                                          \r"
     ]
    },
    {
     "data": {
      "text/html": [
       "\n",
       "Starting customized outlier processing ..."
      ],
      "text/plain": [
       "<IPython.core.display.HTML object>"
      ]
     },
     "metadata": {},
     "output_type": "display_data"
    },
    {
     "name": "stdout",
     "output_type": "stream",
     "text": [
      "Columns with outlier percentage :-                                                                                                                                                                                                                                                                                                                                                                                                                                                                                  \n",
      "             ColumnName  OutlierPercentage\n",
      "0                    id           9.920283\n",
      "1                    pH           9.388840\n",
      "2             chlorides           9.831709\n",
      "3   free_sulfur_dioxide           7.705934\n",
      "4      volatile_acidity           9.477414\n",
      "5  total_sulfur_dioxide           8.591674\n",
      "6           citric_acid           4.960142\n",
      "7               density           9.920283\n",
      "8         fixed_acidity           9.300266\n",
      "9        residual_sugar           9.743136\n",
      "result data stored in table '\"ALICE\".\"ml__td_sqlmr_persist_out__1719264023108535\"'\n",
      "result data stored in table '\"ALICE\".\"ml__td_sqlmr_persist_out__1719264394675023\"' - 12/21\n",
      "result data stored in table '\"ALICE\".\"ml__td_sqlmr_persist_out__1719264034268191\"'\n",
      "                                                                                          \r"
     ]
    },
    {
     "data": {
      "text/html": [
       "\n",
       "Checking imbalance data ..."
      ],
      "text/plain": [
       "<IPython.core.display.HTML object>"
      ]
     },
     "metadata": {},
     "output_type": "display_data"
    },
    {
     "name": "stdout",
     "output_type": "stream",
     "text": [
      "                                                                                          \r"
     ]
    },
    {
     "data": {
      "text/html": [
       "Imbalance Not Found."
      ],
      "text/plain": [
       "<IPython.core.display.HTML object>"
      ]
     },
     "metadata": {},
     "output_type": "display_data"
    },
    {
     "name": "stdout",
     "output_type": "stream",
     "text": [
      "                                                                                          \r"
     ]
    },
    {
     "data": {
      "text/html": [
       "\n",
       "Feature selection using lasso ..."
      ],
      "text/plain": [
       "<IPython.core.display.HTML object>"
      ]
     },
     "metadata": {},
     "output_type": "display_data"
    },
    {
     "name": "stdout",
     "output_type": "stream",
     "text": [
      "                                                                                          \r"
     ]
    },
    {
     "data": {
      "text/html": [
       "feature selected by lasso:"
      ],
      "text/plain": [
       "<IPython.core.display.HTML object>"
      ]
     },
     "metadata": {},
     "output_type": "display_data"
    },
    {
     "name": "stdout",
     "output_type": "stream",
     "text": [
      "['free_sulfur_dioxide', 'volatile_acidity', 'total_sulfur_dioxide', 'density', 'alcohol', 'chlorides', 'pH', 'sulphates', 'residual_sugar', 'citric_acid', 'fixed_acidity']\n",
      "                                                                                          \r"
     ]
    },
    {
     "data": {
      "text/html": [
       "Total time taken by feature selection: 4.89 sec  "
      ],
      "text/plain": [
       "<IPython.core.display.HTML object>"
      ]
     },
     "metadata": {},
     "output_type": "display_data"
    },
    {
     "name": "stdout",
     "output_type": "stream",
     "text": [
      "                                                                                          \r"
     ]
    },
    {
     "data": {
      "text/html": [
       "\n",
       "scaling Features of lasso data ..."
      ],
      "text/plain": [
       "<IPython.core.display.HTML object>"
      ]
     },
     "metadata": {},
     "output_type": "display_data"
    },
    {
     "name": "stdout",
     "output_type": "stream",
     "text": [
      "                                                                                          \r"
     ]
    },
    {
     "data": {
      "text/html": [
       "columns that will be scaled: "
      ],
      "text/plain": [
       "<IPython.core.display.HTML object>"
      ]
     },
     "metadata": {},
     "output_type": "display_data"
    },
    {
     "name": "stdout",
     "output_type": "stream",
     "text": [
      "['free_sulfur_dioxide', 'volatile_acidity', 'total_sulfur_dioxide', 'density', 'alcohol', 'chlorides', 'pH', 'sulphates', 'residual_sugar', 'citric_acid', 'fixed_acidity']\n",
      "                                                                                          \r"
     ]
    },
    {
     "data": {
      "text/html": [
       "Training dataset sample after scaling:"
      ],
      "text/plain": [
       "<IPython.core.display.HTML object>"
      ]
     },
     "metadata": {},
     "output_type": "display_data"
    },
    {
     "data": {
      "text/html": [
       "<style type=\"text/css\">\n",
       "\ttable {border:ridge 5px;}\n",
       "\ttable td {border:inset 1px;}\n",
       "\ttable tr#HeaderRow {background-color:grey; color:white;}</style>\n",
       "<html><table>\n",
       "\t<tr id=\"HeaderRow\">\n",
       "\t\t<th>quality</th>\n",
       "\t\t<th>id</th>\n",
       "\t\t<th>free_sulfur_dioxide</th>\n",
       "\t\t<th>volatile_acidity</th>\n",
       "\t\t<th>total_sulfur_dioxide</th>\n",
       "\t\t<th>density</th>\n",
       "\t\t<th>alcohol</th>\n",
       "\t\t<th>chlorides</th>\n",
       "\t\t<th>pH</th>\n",
       "\t\t<th>sulphates</th>\n",
       "\t\t<th>residual_sugar</th>\n",
       "\t\t<th>citric_acid</th>\n",
       "\t\t<th>fixed_acidity</th>\n",
       "\t</tr>\n",
       "\t<tr>\n",
       "\t\t<td>1</td>\n",
       "\t\t<td>10</td>\n",
       "\t\t<td>-0.9469832311593162</td>\n",
       "\t\t<td>-1.5305312969962683</td>\n",
       "\t\t<td>-0.6898738716051849</td>\n",
       "\t\t<td>0.5888606784345118</td>\n",
       "\t\t<td>0.5578889665874601</td>\n",
       "\t\t<td>-0.43459550887968174</td>\n",
       "\t\t<td>-1.020693704829492</td>\n",
       "\t\t<td>1.372653069112132</td>\n",
       "\t\t<td>-0.33568471404171424</td>\n",
       "\t\t<td>0.9623417605147321</td>\n",
       "\t\t<td>1.219069855157542</td>\n",
       "\t</tr>\n",
       "\t<tr>\n",
       "\t\t<td>1</td>\n",
       "\t\t<td>12</td>\n",
       "\t\t<td>-1.144491838030533</td>\n",
       "\t\t<td>-1.475767373659333</td>\n",
       "\t\t<td>-1.139079717278403</td>\n",
       "\t\t<td>-1.5886507024087462</td>\n",
       "\t\t<td>1.9665323789770186</td>\n",
       "\t\t<td>-0.8781597900377234</td>\n",
       "\t\t<td>-0.2398214563497408</td>\n",
       "\t\t<td>0.27402228263145756</td>\n",
       "\t\t<td>-0.5012527843820742</td>\n",
       "\t\t<td>0.5521633052133705</td>\n",
       "\t\t<td>0.02154110455363119</td>\n",
       "\t</tr>\n",
       "\t<tr>\n",
       "\t\t<td>1</td>\n",
       "\t\t<td>17</td>\n",
       "\t\t<td>-0.156948803674449</td>\n",
       "\t\t<td>0.27667817312259135</td>\n",
       "\t\t<td>-0.5936154761037811</td>\n",
       "\t\t<td>-0.4719781994122068</td>\n",
       "\t\t<td>-0.005568398368362888</td>\n",
       "\t\t<td>-0.026516370214283505</td>\n",
       "\t\t<td>-0.04460339422980449</td>\n",
       "\t\t<td>-0.41984979304054704</td>\n",
       "\t\t<td>0.49215563766008447</td>\n",
       "\t\t<td>-1.0372782090794064</td>\n",
       "\t\t<td>-0.49168550284804513</td>\n",
       "\t</tr>\n",
       "\t<tr>\n",
       "\t\t<td>1</td>\n",
       "\t\t<td>18</td>\n",
       "\t\t<td>-0.5519660174168826</td>\n",
       "\t\t<td>-1.3114756036485276</td>\n",
       "\t\t<td>-0.6898738716051849</td>\n",
       "\t\t<td>0.812195179033795</td>\n",
       "\t\t<td>-0.9446640066280685</td>\n",
       "\t\t<td>-0.1861995114311784</td>\n",
       "\t\t<td>-0.6953302679629275</td>\n",
       "\t\t<td>1.3148303961394647</td>\n",
       "\t\t<td>-0.9979569954031535</td>\n",
       "\t\t<td>1.1674309881654132</td>\n",
       "\t\t<td>1.219069855157542</td>\n",
       "\t</tr>\n",
       "\t<tr>\n",
       "\t\t<td>1</td>\n",
       "\t\t<td>26</td>\n",
       "\t\t<td>-0.9469832311593162</td>\n",
       "\t\t<td>-1.5305312969962683</td>\n",
       "\t\t<td>-0.7540461352727875</td>\n",
       "\t\t<td>0.4771934281348703</td>\n",
       "\t\t<td>0.3700698449355197</td>\n",
       "\t\t<td>-0.23942722517014345</td>\n",
       "\t\t<td>-0.6302575805896163</td>\n",
       "\t\t<td>2.2399931637021377</td>\n",
       "\t\t<td>-0.8323889250627936</td>\n",
       "\t\t<td>0.705980225951381</td>\n",
       "\t\t<td>1.219069855157542</td>\n",
       "\t</tr>\n",
       "\t<tr>\n",
       "\t\t<td>0</td>\n",
       "\t\t<td>28</td>\n",
       "\t\t<td>-0.5519660174168826</td>\n",
       "\t\t<td>0.22191424978565674</td>\n",
       "\t\t<td>-0.7540461352727875</td>\n",
       "\t\t<td>0.4771934281348703</td>\n",
       "\t\t<td>-0.7568448849761281</td>\n",
       "\t\t<td>-0.15071436893853504</td>\n",
       "\t\t<td>-0.5651848932163023</td>\n",
       "\t\t<td>-1.2871898876305525</td>\n",
       "\t\t<td>-0.5012527843820742</td>\n",
       "\t\t<td>-1.2423674367300872</td>\n",
       "\t\t<td>0.02154110455363119</td>\n",
       "\t</tr>\n",
       "\t<tr>\n",
       "\t\t<td>0</td>\n",
       "\t\t<td>19</td>\n",
       "\t\t<td>-0.05819450023884059</td>\n",
       "\t\t<td>0.16715032644872155</td>\n",
       "\t\t<td>-0.369012553267172</td>\n",
       "\t\t<td>-0.0811428233633994</td>\n",
       "\t\t<td>0.08834116245760734</td>\n",
       "\t\t<td>-0.15071436893853504</td>\n",
       "\t\t<td>1.191777665863136</td>\n",
       "\t\t<td>0.10055426371345687</td>\n",
       "\t\t<td>-0.8323889250627936</td>\n",
       "\t\t<td>-0.473282833040034</td>\n",
       "\t\t<td>-0.5487106814482312</td>\n",
       "\t</tr>\n",
       "\t<tr>\n",
       "\t\t<td>0</td>\n",
       "\t\t<td>11</td>\n",
       "\t\t<td>1.0281028375528518</td>\n",
       "\t\t<td>-0.8733642169530466</td>\n",
       "\t\t<td>0.850260456417277</td>\n",
       "\t\t<td>-0.19281007366310293</td>\n",
       "\t\t<td>0.5578889665874601</td>\n",
       "\t\t<td>-0.06200151270692687</td>\n",
       "\t\t<td>0.5410507921300103</td>\n",
       "\t\t<td>0.10055426371345687</td>\n",
       "\t\t<td>0.49215563766008447</td>\n",
       "\t\t<td>0.03944023608666812</td>\n",
       "\t\t<td>-0.5487106814482312</td>\n",
       "\t</tr>\n",
       "\t<tr>\n",
       "\t\t<td>1</td>\n",
       "\t\t<td>9</td>\n",
       "\t\t<td>0.1393141066323762</td>\n",
       "\t\t<td>-0.5721626385999032</td>\n",
       "\t\t<td>-0.08023736676296041</td>\n",
       "\t\t<td>2.5988711838283076</td>\n",
       "\t\t<td>-0.3812066416722455</td>\n",
       "\t\t<td>-0.09748665519956999</td>\n",
       "\t\t<td>-1.6063478911893037</td>\n",
       "\t\t<td>0.7944263393854615</td>\n",
       "\t\t<td>0.9888598486811635</td>\n",
       "\t\t<td>2.039060205680807</td>\n",
       "\t\t<td>3.043875570363501</td>\n",
       "\t</tr>\n",
       "\t<tr>\n",
       "\t\t<td>0</td>\n",
       "\t\t<td>8</td>\n",
       "\t\t<td>-1.0457375345949245</td>\n",
       "\t\t<td>-0.10666929023595442</td>\n",
       "\t\t<td>-1.0107351899431978</td>\n",
       "\t\t<td>1.9288676820303343</td>\n",
       "\t\t<td>-0.7568448849761281</td>\n",
       "\t\t<td>-0.026516370214283505</td>\n",
       "\t\t<td>-0.7604029553362415</td>\n",
       "\t\t<td>-1.2871898876305525</td>\n",
       "\t\t<td>-0.17011664370135438</td>\n",
       "\t\t<td>1.0648863743400727</td>\n",
       "\t\t<td>2.245523069960895</td>\n",
       "\t</tr>\n",
       "</table></html>"
      ],
      "text/plain": [
       "   quality  id  free_sulfur_dioxide  volatile_acidity  total_sulfur_dioxide   density   alcohol  chlorides        pH  sulphates  residual_sugar  citric_acid  fixed_acidity\n",
       "0        1  10            -0.946983         -1.530531             -0.689874  0.588861  0.557889  -0.434596 -1.020694   1.372653       -0.335685     0.962342       1.219070\n",
       "1        1  12            -1.144492         -1.475767             -1.139080 -1.588651  1.966532  -0.878160 -0.239821   0.274022       -0.501253     0.552163       0.021541\n",
       "2        1  17            -0.156949          0.276678             -0.593615 -0.471978 -0.005568  -0.026516 -0.044603  -0.419850        0.492156    -1.037278      -0.491686\n",
       "3        1  18            -0.551966         -1.311476             -0.689874  0.812195 -0.944664  -0.186200 -0.695330   1.314830       -0.997957     1.167431       1.219070\n",
       "4        1  26            -0.946983         -1.530531             -0.754046  0.477193  0.370070  -0.239427 -0.630258   2.239993       -0.832389     0.705980       1.219070\n",
       "5        0  28            -0.551966          0.221914             -0.754046  0.477193 -0.756845  -0.150714 -0.565185  -1.287190       -0.501253    -1.242367       0.021541\n",
       "6        0  19            -0.058195          0.167150             -0.369013 -0.081143  0.088341  -0.150714  1.191778   0.100554       -0.832389    -0.473283      -0.548711\n",
       "7        0  11             1.028103         -0.873364              0.850260 -0.192810  0.557889  -0.062002  0.541051   0.100554        0.492156     0.039440      -0.548711\n",
       "8        1   9             0.139314         -0.572163             -0.080237  2.598871 -0.381207  -0.097487 -1.606348   0.794426        0.988860     2.039060       3.043876\n",
       "9        0   8            -1.045738         -0.106669             -1.010735  1.928868 -0.756845  -0.026516 -0.760403  -1.287190       -0.170117     1.064886       2.245523"
      ]
     },
     "metadata": {},
     "output_type": "display_data"
    },
    {
     "name": "stdout",
     "output_type": "stream",
     "text": [
      "                                                                                          \r"
     ]
    },
    {
     "data": {
      "text/html": [
       "728 rows X 13 columns"
      ],
      "text/plain": [
       "<IPython.core.display.HTML object>"
      ]
     },
     "metadata": {},
     "output_type": "display_data"
    },
    {
     "name": "stdout",
     "output_type": "stream",
     "text": [
      "                                                                                          \r"
     ]
    },
    {
     "data": {
      "text/html": [
       "Testing dataset sample after scaling:"
      ],
      "text/plain": [
       "<IPython.core.display.HTML object>"
      ]
     },
     "metadata": {},
     "output_type": "display_data"
    },
    {
     "data": {
      "text/html": [
       "<style type=\"text/css\">\n",
       "\ttable {border:ridge 5px;}\n",
       "\ttable td {border:inset 1px;}\n",
       "\ttable tr#HeaderRow {background-color:grey; color:white;}</style>\n",
       "<html><table>\n",
       "\t<tr id=\"HeaderRow\">\n",
       "\t\t<th>quality</th>\n",
       "\t\t<th>id</th>\n",
       "\t\t<th>free_sulfur_dioxide</th>\n",
       "\t\t<th>volatile_acidity</th>\n",
       "\t\t<th>total_sulfur_dioxide</th>\n",
       "\t\t<th>density</th>\n",
       "\t\t<th>alcohol</th>\n",
       "\t\t<th>chlorides</th>\n",
       "\t\t<th>pH</th>\n",
       "\t\t<th>sulphates</th>\n",
       "\t\t<th>residual_sugar</th>\n",
       "\t\t<th>citric_acid</th>\n",
       "\t\t<th>fixed_acidity</th>\n",
       "\t</tr>\n",
       "\t<tr>\n",
       "\t\t<td>1</td>\n",
       "\t\t<td>119</td>\n",
       "\t\t<td>-0.9469832311593162</td>\n",
       "\t\t<td>-1.1471838336377223</td>\n",
       "\t\t<td>-1.139079717278403</td>\n",
       "\t\t<td>-0.7511463251613727</td>\n",
       "\t\t<td>0.7457080882394006</td>\n",
       "\t\t<td>-0.576536078850255</td>\n",
       "\t\t<td>0.020469293143509544</td>\n",
       "\t\t<td>0.10055426371345687</td>\n",
       "\t\t<td>-0.17011664370135438</td>\n",
       "\t\t<td>0.6034356121260408</td>\n",
       "\t\t<td>-0.09250925264674188</td>\n",
       "\t</tr>\n",
       "\t<tr>\n",
       "\t\t<td>1</td>\n",
       "\t\t<td>225</td>\n",
       "\t\t<td>0.4355770169392014</td>\n",
       "\t\t<td>0.05762247977485116</td>\n",
       "\t\t<td>-0.048151234929159126</td>\n",
       "\t\t<td>-0.13697644851322016</td>\n",
       "\t\t<td>0.2761602841095478</td>\n",
       "\t\t<td>-0.07974408395324856</td>\n",
       "\t\t<td>0.4759781047566962</td>\n",
       "\t\t<td>-0.41984979304054704</td>\n",
       "\t\t<td>0.49215563766008447</td>\n",
       "\t\t<td>-1.139822822904747</td>\n",
       "\t\t<td>-0.49168550284804513</td>\n",
       "\t</tr>\n",
       "\t<tr>\n",
       "\t\t<td>0</td>\n",
       "\t\t<td>80</td>\n",
       "\t\t<td>1.2256114444240687</td>\n",
       "\t\t<td>-1.092419910300787</td>\n",
       "\t\t<td>1.2032079065890913</td>\n",
       "\t\t<td>0.9238624293334365</td>\n",
       "\t\t<td>-0.7568448849761281</td>\n",
       "\t\t<td>0.06219648601732491</td>\n",
       "\t\t<td>-0.17474876897642966</td>\n",
       "\t\t<td>0.9100716853307951</td>\n",
       "\t\t<td>0.3265875673197246</td>\n",
       "\t\t<td>1.321247908903424</td>\n",
       "\t\t<td>0.7628684263560517</td>\n",
       "\t</tr>\n",
       "\t<tr>\n",
       "\t\t<td>1</td>\n",
       "\t\t<td>241</td>\n",
       "\t\t<td>-0.9469832311593162</td>\n",
       "\t\t<td>-0.4900167535945005</td>\n",
       "\t\t<td>-1.0749074536108003</td>\n",
       "\t\t<td>-0.9744808257606558</td>\n",
       "\t\t<td>1.0274367707173129</td>\n",
       "\t\t<td>-0.5055657938649685</td>\n",
       "\t\t<td>0.8664142289965717</td>\n",
       "\t\t<td>0.33184495560412464</td>\n",
       "\t\t<td>-0.17011664370135438</td>\n",
       "\t\t<td>0.09071254299933838</td>\n",
       "\t\t<td>-0.49168550284804513</td>\n",
       "\t</tr>\n",
       "\t<tr>\n",
       "\t\t<td>1</td>\n",
       "\t\t<td>292</td>\n",
       "\t\t<td>-0.5519660174168826</td>\n",
       "\t\t<td>-0.2161971369098248</td>\n",
       "\t\t<td>-0.8823906626079927</td>\n",
       "\t\t<td>0.03052442693624215</td>\n",
       "\t\t<td>0.7457080882394006</td>\n",
       "\t\t<td>-0.026516370214283505</td>\n",
       "\t\t<td>0.41090541738338504</td>\n",
       "\t\t<td>0.10055426371345687</td>\n",
       "\t\t<td>5.293629677530517</td>\n",
       "\t\t<td>-1.0885505159920765</td>\n",
       "\t\t<td>-0.6627610386486037</td>\n",
       "\t</tr>\n",
       "\t<tr>\n",
       "\t\t<td>0</td>\n",
       "\t\t<td>277</td>\n",
       "\t\t<td>-0.9469832311593162</td>\n",
       "\t\t<td>0.33144209645952655</td>\n",
       "\t\t<td>-0.27275415776576817</td>\n",
       "\t\t<td>1.3705314305320646</td>\n",
       "\t\t<td>-0.3812066416722455</td>\n",
       "\t\t<td>-0.3281400814017519</td>\n",
       "\t\t<td>-1.6714205785626177</td>\n",
       "\t\t<td>-0.5933178119585477</td>\n",
       "\t\t<td>0.3265875673197246</td>\n",
       "\t\t<td>1.9365155918554666</td>\n",
       "\t\t<td>2.0174223555601496</td>\n",
       "\t</tr>\n",
       "\t<tr>\n",
       "\t\t<td>0</td>\n",
       "\t\t<td>185</td>\n",
       "\t\t<td>-0.9469832311593162</td>\n",
       "\t\t<td>1.289810754855892</td>\n",
       "\t\t<td>-1.0749074536108003</td>\n",
       "\t\t<td>-0.025309198213578625</td>\n",
       "\t\t<td>-0.6629353241501579</td>\n",
       "\t\t<td>-0.11522922644589167</td>\n",
       "\t\t<td>0.21568735526344585</td>\n",
       "\t\t<td>-0.9980765227672175</td>\n",
       "\t\t<td>-0.666820854722434</td>\n",
       "\t\t<td>-1.4474566643807683</td>\n",
       "\t\t<td>-0.49168550284804513</td>\n",
       "\t</tr>\n",
       "\t<tr>\n",
       "\t\t<td>0</td>\n",
       "\t\t<td>76</td>\n",
       "\t\t<td>-0.4532117139812742</td>\n",
       "\t\t<td>0.5504977898072673</td>\n",
       "\t\t<td>2.0053612024341234</td>\n",
       "\t\t<td>-0.19281007366310293</td>\n",
       "\t\t<td>-0.569025763324186</td>\n",
       "\t\t<td>-0.11522922644589167</td>\n",
       "\t\t<td>-1.020693704829492</td>\n",
       "\t\t<td>-0.015091082231877335</td>\n",
       "\t\t<td>-0.17011664370135438</td>\n",
       "\t\t<td>-0.9860059021667362</td>\n",
       "\t\t<td>0.02154110455363119</td>\n",
       "\t</tr>\n",
       "\t<tr>\n",
       "\t\t<td>0</td>\n",
       "\t\t<td>54</td>\n",
       "\t\t<td>1.2256114444240687</td>\n",
       "\t\t<td>-0.3257249835836949</td>\n",
       "\t\t<td>1.8770166750989183</td>\n",
       "\t\t<td>0.8680288041836157</td>\n",
       "\t\t<td>-1.1324831282800107</td>\n",
       "\t\t<td>0.026711343524681543</td>\n",
       "\t\t<td>-1.3460571416960534</td>\n",
       "\t\t<td>-0.5933178119585477</td>\n",
       "\t\t<td>0.8232917783408036</td>\n",
       "\t\t<td>-0.26819360538935305</td>\n",
       "\t\t<td>0.3636921761547484</td>\n",
       "\t</tr>\n",
       "\t<tr>\n",
       "\t\t<td>1</td>\n",
       "\t\t<td>82</td>\n",
       "\t\t<td>-0.9469832311593162</td>\n",
       "\t\t<td>-0.5995446002683709</td>\n",
       "\t\t<td>0.04810716057224475</td>\n",
       "\t\t<td>2.5988711838283076</td>\n",
       "\t\t<td>0.3700698449355197</td>\n",
       "\t\t<td>-0.026516370214283505</td>\n",
       "\t\t<td>-1.931711328055868</td>\n",
       "\t\t<td>0.8522490123581286</td>\n",
       "\t\t<td>2.478972481744401</td>\n",
       "\t\t<td>1.7826986711174557</td>\n",
       "\t\t<td>3.2149511061640603</td>\n",
       "\t</tr>\n",
       "</table></html>"
      ],
      "text/plain": [
       "   quality   id  free_sulfur_dioxide  volatile_acidity  total_sulfur_dioxide   density   alcohol  chlorides        pH  sulphates  residual_sugar  citric_acid  fixed_acidity\n",
       "0        1  119            -0.946983         -1.147184             -1.139080 -0.751146  0.745708  -0.576536  0.020469   0.100554       -0.170117     0.603436      -0.092509\n",
       "1        1  225             0.435577          0.057622             -0.048151 -0.136976  0.276160  -0.079744  0.475978  -0.419850        0.492156    -1.139823      -0.491686\n",
       "2        0   80             1.225611         -1.092420              1.203208  0.923862 -0.756845   0.062196 -0.174749   0.910072        0.326588     1.321248       0.762868\n",
       "3        1  241            -0.946983         -0.490017             -1.074907 -0.974481  1.027437  -0.505566  0.866414   0.331845       -0.170117     0.090713      -0.491686\n",
       "4        1  292            -0.551966         -0.216197             -0.882391  0.030524  0.745708  -0.026516  0.410905   0.100554        5.293630    -1.088551      -0.662761\n",
       "5        0  277            -0.946983          0.331442             -0.272754  1.370531 -0.381207  -0.328140 -1.671421  -0.593318        0.326588     1.936516       2.017422\n",
       "6        0  185            -0.946983          1.289811             -1.074907 -0.025309 -0.662935  -0.115229  0.215687  -0.998077       -0.666821    -1.447457      -0.491686\n",
       "7        0   76            -0.453212          0.550498              2.005361 -0.192810 -0.569026  -0.115229 -1.020694  -0.015091       -0.170117    -0.986006       0.021541\n",
       "8        0   54             1.225611         -0.325725              1.877017  0.868029 -1.132483   0.026711 -1.346057  -0.593318        0.823292    -0.268194       0.363692\n",
       "9        1   82            -0.946983         -0.599545              0.048107  2.598871  0.370070  -0.026516 -1.931711   0.852249        2.478972     1.782699       3.214951"
      ]
     },
     "metadata": {},
     "output_type": "display_data"
    },
    {
     "name": "stdout",
     "output_type": "stream",
     "text": [
      "                                                                                          \r"
     ]
    },
    {
     "data": {
      "text/html": [
       "339 rows X 13 columns"
      ],
      "text/plain": [
       "<IPython.core.display.HTML object>"
      ]
     },
     "metadata": {},
     "output_type": "display_data"
    },
    {
     "name": "stdout",
     "output_type": "stream",
     "text": [
      "                                                                                          \r"
     ]
    },
    {
     "data": {
      "text/html": [
       "Total time taken by feature scaling: 44.56 sec"
      ],
      "text/plain": [
       "<IPython.core.display.HTML object>"
      ]
     },
     "metadata": {},
     "output_type": "display_data"
    },
    {
     "name": "stdout",
     "output_type": "stream",
     "text": [
      "                                                                                          \r"
     ]
    },
    {
     "data": {
      "text/html": [
       "\n",
       "Feature selection using rfe ..."
      ],
      "text/plain": [
       "<IPython.core.display.HTML object>"
      ]
     },
     "metadata": {},
     "output_type": "display_data"
    },
    {
     "name": "stdout",
     "output_type": "stream",
     "text": [
      "                                                                                          \r"
     ]
    },
    {
     "data": {
      "text/html": [
       "feature selected by RFE:"
      ],
      "text/plain": [
       "<IPython.core.display.HTML object>"
      ]
     },
     "metadata": {},
     "output_type": "display_data"
    },
    {
     "name": "stdout",
     "output_type": "stream",
     "text": [
      "['free_sulfur_dioxide', 'volatile_acidity', 'total_sulfur_dioxide', 'density', 'alcohol', 'chlorides', 'pH', 'sulphates', 'residual_sugar', 'citric_acid', 'fixed_acidity']\n",
      "                                                                                          \r"
     ]
    },
    {
     "data": {
      "text/html": [
       "Total time taken by feature selection: 23.31 sec  "
      ],
      "text/plain": [
       "<IPython.core.display.HTML object>"
      ]
     },
     "metadata": {},
     "output_type": "display_data"
    },
    {
     "name": "stdout",
     "output_type": "stream",
     "text": [
      "                                                                                          \r"
     ]
    },
    {
     "data": {
      "text/html": [
       "\n",
       "scaling Features of rfe data ..."
      ],
      "text/plain": [
       "<IPython.core.display.HTML object>"
      ]
     },
     "metadata": {},
     "output_type": "display_data"
    },
    {
     "name": "stdout",
     "output_type": "stream",
     "text": [
      "                                                                                          \r"
     ]
    },
    {
     "data": {
      "text/html": [
       "columns that will be scaled: "
      ],
      "text/plain": [
       "<IPython.core.display.HTML object>"
      ]
     },
     "metadata": {},
     "output_type": "display_data"
    },
    {
     "name": "stdout",
     "output_type": "stream",
     "text": [
      "['r_free_sulfur_dioxide', 'r_volatile_acidity', 'r_total_sulfur_dioxide', 'r_density', 'r_alcohol', 'r_chlorides', 'r_pH', 'r_sulphates', 'r_residual_sugar', 'r_citric_acid', 'r_fixed_acidity']\n",
      "                                                                                          \r"
     ]
    },
    {
     "data": {
      "text/html": [
       "Training dataset sample after scaling:"
      ],
      "text/plain": [
       "<IPython.core.display.HTML object>"
      ]
     },
     "metadata": {},
     "output_type": "display_data"
    },
    {
     "data": {
      "text/html": [
       "<style type=\"text/css\">\n",
       "\ttable {border:ridge 5px;}\n",
       "\ttable td {border:inset 1px;}\n",
       "\ttable tr#HeaderRow {background-color:grey; color:white;}</style>\n",
       "<html><table>\n",
       "\t<tr id=\"HeaderRow\">\n",
       "\t\t<th>quality</th>\n",
       "\t\t<th>id</th>\n",
       "\t\t<th>r_free_sulfur_dioxide</th>\n",
       "\t\t<th>r_volatile_acidity</th>\n",
       "\t\t<th>r_total_sulfur_dioxide</th>\n",
       "\t\t<th>r_density</th>\n",
       "\t\t<th>r_alcohol</th>\n",
       "\t\t<th>r_chlorides</th>\n",
       "\t\t<th>r_pH</th>\n",
       "\t\t<th>r_sulphates</th>\n",
       "\t\t<th>r_residual_sugar</th>\n",
       "\t\t<th>r_citric_acid</th>\n",
       "\t\t<th>r_fixed_acidity</th>\n",
       "\t</tr>\n",
       "\t<tr>\n",
       "\t\t<td>1</td>\n",
       "\t\t<td>10</td>\n",
       "\t\t<td>-0.9469832311593162</td>\n",
       "\t\t<td>-1.5305312969962683</td>\n",
       "\t\t<td>-0.6898738716051849</td>\n",
       "\t\t<td>0.5888606784345118</td>\n",
       "\t\t<td>0.5578889665874601</td>\n",
       "\t\t<td>-0.43459550887968174</td>\n",
       "\t\t<td>-1.020693704829492</td>\n",
       "\t\t<td>1.372653069112132</td>\n",
       "\t\t<td>-0.33568471404171424</td>\n",
       "\t\t<td>0.9623417605147321</td>\n",
       "\t\t<td>1.219069855157542</td>\n",
       "\t</tr>\n",
       "\t<tr>\n",
       "\t\t<td>1</td>\n",
       "\t\t<td>12</td>\n",
       "\t\t<td>-1.144491838030533</td>\n",
       "\t\t<td>-1.475767373659333</td>\n",
       "\t\t<td>-1.139079717278403</td>\n",
       "\t\t<td>-1.5886507024087462</td>\n",
       "\t\t<td>1.9665323789770186</td>\n",
       "\t\t<td>-0.8781597900377234</td>\n",
       "\t\t<td>-0.2398214563497408</td>\n",
       "\t\t<td>0.27402228263145756</td>\n",
       "\t\t<td>-0.5012527843820742</td>\n",
       "\t\t<td>0.5521633052133705</td>\n",
       "\t\t<td>0.02154110455363119</td>\n",
       "\t</tr>\n",
       "\t<tr>\n",
       "\t\t<td>1</td>\n",
       "\t\t<td>17</td>\n",
       "\t\t<td>-0.156948803674449</td>\n",
       "\t\t<td>0.27667817312259135</td>\n",
       "\t\t<td>-0.5936154761037811</td>\n",
       "\t\t<td>-0.4719781994122068</td>\n",
       "\t\t<td>-0.005568398368362888</td>\n",
       "\t\t<td>-0.026516370214283505</td>\n",
       "\t\t<td>-0.04460339422980449</td>\n",
       "\t\t<td>-0.41984979304054704</td>\n",
       "\t\t<td>0.49215563766008447</td>\n",
       "\t\t<td>-1.0372782090794064</td>\n",
       "\t\t<td>-0.49168550284804513</td>\n",
       "\t</tr>\n",
       "\t<tr>\n",
       "\t\t<td>1</td>\n",
       "\t\t<td>18</td>\n",
       "\t\t<td>-0.5519660174168826</td>\n",
       "\t\t<td>-1.3114756036485276</td>\n",
       "\t\t<td>-0.6898738716051849</td>\n",
       "\t\t<td>0.812195179033795</td>\n",
       "\t\t<td>-0.9446640066280685</td>\n",
       "\t\t<td>-0.1861995114311784</td>\n",
       "\t\t<td>-0.6953302679629275</td>\n",
       "\t\t<td>1.3148303961394647</td>\n",
       "\t\t<td>-0.9979569954031535</td>\n",
       "\t\t<td>1.1674309881654132</td>\n",
       "\t\t<td>1.219069855157542</td>\n",
       "\t</tr>\n",
       "\t<tr>\n",
       "\t\t<td>1</td>\n",
       "\t\t<td>26</td>\n",
       "\t\t<td>-0.9469832311593162</td>\n",
       "\t\t<td>-1.5305312969962683</td>\n",
       "\t\t<td>-0.7540461352727875</td>\n",
       "\t\t<td>0.4771934281348703</td>\n",
       "\t\t<td>0.3700698449355197</td>\n",
       "\t\t<td>-0.23942722517014345</td>\n",
       "\t\t<td>-0.6302575805896163</td>\n",
       "\t\t<td>2.2399931637021377</td>\n",
       "\t\t<td>-0.8323889250627936</td>\n",
       "\t\t<td>0.705980225951381</td>\n",
       "\t\t<td>1.219069855157542</td>\n",
       "\t</tr>\n",
       "\t<tr>\n",
       "\t\t<td>0</td>\n",
       "\t\t<td>28</td>\n",
       "\t\t<td>-0.5519660174168826</td>\n",
       "\t\t<td>0.22191424978565674</td>\n",
       "\t\t<td>-0.7540461352727875</td>\n",
       "\t\t<td>0.4771934281348703</td>\n",
       "\t\t<td>-0.7568448849761281</td>\n",
       "\t\t<td>-0.15071436893853504</td>\n",
       "\t\t<td>-0.5651848932163023</td>\n",
       "\t\t<td>-1.2871898876305525</td>\n",
       "\t\t<td>-0.5012527843820742</td>\n",
       "\t\t<td>-1.2423674367300872</td>\n",
       "\t\t<td>0.02154110455363119</td>\n",
       "\t</tr>\n",
       "\t<tr>\n",
       "\t\t<td>0</td>\n",
       "\t\t<td>19</td>\n",
       "\t\t<td>-0.05819450023884059</td>\n",
       "\t\t<td>0.16715032644872155</td>\n",
       "\t\t<td>-0.369012553267172</td>\n",
       "\t\t<td>-0.0811428233633994</td>\n",
       "\t\t<td>0.08834116245760734</td>\n",
       "\t\t<td>-0.15071436893853504</td>\n",
       "\t\t<td>1.191777665863136</td>\n",
       "\t\t<td>0.10055426371345687</td>\n",
       "\t\t<td>-0.8323889250627936</td>\n",
       "\t\t<td>-0.473282833040034</td>\n",
       "\t\t<td>-0.5487106814482312</td>\n",
       "\t</tr>\n",
       "\t<tr>\n",
       "\t\t<td>0</td>\n",
       "\t\t<td>11</td>\n",
       "\t\t<td>1.0281028375528518</td>\n",
       "\t\t<td>-0.8733642169530466</td>\n",
       "\t\t<td>0.850260456417277</td>\n",
       "\t\t<td>-0.19281007366310293</td>\n",
       "\t\t<td>0.5578889665874601</td>\n",
       "\t\t<td>-0.06200151270692687</td>\n",
       "\t\t<td>0.5410507921300103</td>\n",
       "\t\t<td>0.10055426371345687</td>\n",
       "\t\t<td>0.49215563766008447</td>\n",
       "\t\t<td>0.03944023608666812</td>\n",
       "\t\t<td>-0.5487106814482312</td>\n",
       "\t</tr>\n",
       "\t<tr>\n",
       "\t\t<td>1</td>\n",
       "\t\t<td>9</td>\n",
       "\t\t<td>0.1393141066323762</td>\n",
       "\t\t<td>-0.5721626385999032</td>\n",
       "\t\t<td>-0.08023736676296041</td>\n",
       "\t\t<td>2.5988711838283076</td>\n",
       "\t\t<td>-0.3812066416722455</td>\n",
       "\t\t<td>-0.09748665519956999</td>\n",
       "\t\t<td>-1.6063478911893037</td>\n",
       "\t\t<td>0.7944263393854615</td>\n",
       "\t\t<td>0.9888598486811635</td>\n",
       "\t\t<td>2.039060205680807</td>\n",
       "\t\t<td>3.043875570363501</td>\n",
       "\t</tr>\n",
       "\t<tr>\n",
       "\t\t<td>0</td>\n",
       "\t\t<td>8</td>\n",
       "\t\t<td>-1.0457375345949245</td>\n",
       "\t\t<td>-0.10666929023595442</td>\n",
       "\t\t<td>-1.0107351899431978</td>\n",
       "\t\t<td>1.9288676820303343</td>\n",
       "\t\t<td>-0.7568448849761281</td>\n",
       "\t\t<td>-0.026516370214283505</td>\n",
       "\t\t<td>-0.7604029553362415</td>\n",
       "\t\t<td>-1.2871898876305525</td>\n",
       "\t\t<td>-0.17011664370135438</td>\n",
       "\t\t<td>1.0648863743400727</td>\n",
       "\t\t<td>2.245523069960895</td>\n",
       "\t</tr>\n",
       "</table></html>"
      ],
      "text/plain": [
       "   quality  id  r_free_sulfur_dioxide  r_volatile_acidity  r_total_sulfur_dioxide  r_density  r_alcohol  r_chlorides      r_pH  r_sulphates  r_residual_sugar  r_citric_acid  r_fixed_acidity\n",
       "0        1  10              -0.946983           -1.530531               -0.689874   0.588861   0.557889    -0.434596 -1.020694     1.372653         -0.335685       0.962342         1.219070\n",
       "1        1  12              -1.144492           -1.475767               -1.139080  -1.588651   1.966532    -0.878160 -0.239821     0.274022         -0.501253       0.552163         0.021541\n",
       "2        1  17              -0.156949            0.276678               -0.593615  -0.471978  -0.005568    -0.026516 -0.044603    -0.419850          0.492156      -1.037278        -0.491686\n",
       "3        1  18              -0.551966           -1.311476               -0.689874   0.812195  -0.944664    -0.186200 -0.695330     1.314830         -0.997957       1.167431         1.219070\n",
       "4        1  26              -0.946983           -1.530531               -0.754046   0.477193   0.370070    -0.239427 -0.630258     2.239993         -0.832389       0.705980         1.219070\n",
       "5        0  28              -0.551966            0.221914               -0.754046   0.477193  -0.756845    -0.150714 -0.565185    -1.287190         -0.501253      -1.242367         0.021541\n",
       "6        0  19              -0.058195            0.167150               -0.369013  -0.081143   0.088341    -0.150714  1.191778     0.100554         -0.832389      -0.473283        -0.548711\n",
       "7        0  11               1.028103           -0.873364                0.850260  -0.192810   0.557889    -0.062002  0.541051     0.100554          0.492156       0.039440        -0.548711\n",
       "8        1   9               0.139314           -0.572163               -0.080237   2.598871  -0.381207    -0.097487 -1.606348     0.794426          0.988860       2.039060         3.043876\n",
       "9        0   8              -1.045738           -0.106669               -1.010735   1.928868  -0.756845    -0.026516 -0.760403    -1.287190         -0.170117       1.064886         2.245523"
      ]
     },
     "metadata": {},
     "output_type": "display_data"
    },
    {
     "name": "stdout",
     "output_type": "stream",
     "text": [
      "                                                                                          \r"
     ]
    },
    {
     "data": {
      "text/html": [
       "728 rows X 13 columns"
      ],
      "text/plain": [
       "<IPython.core.display.HTML object>"
      ]
     },
     "metadata": {},
     "output_type": "display_data"
    },
    {
     "name": "stdout",
     "output_type": "stream",
     "text": [
      "                                                                                          \r"
     ]
    },
    {
     "data": {
      "text/html": [
       "Testing dataset sample after scaling:"
      ],
      "text/plain": [
       "<IPython.core.display.HTML object>"
      ]
     },
     "metadata": {},
     "output_type": "display_data"
    },
    {
     "data": {
      "text/html": [
       "<style type=\"text/css\">\n",
       "\ttable {border:ridge 5px;}\n",
       "\ttable td {border:inset 1px;}\n",
       "\ttable tr#HeaderRow {background-color:grey; color:white;}</style>\n",
       "<html><table>\n",
       "\t<tr id=\"HeaderRow\">\n",
       "\t\t<th>quality</th>\n",
       "\t\t<th>id</th>\n",
       "\t\t<th>r_free_sulfur_dioxide</th>\n",
       "\t\t<th>r_volatile_acidity</th>\n",
       "\t\t<th>r_total_sulfur_dioxide</th>\n",
       "\t\t<th>r_density</th>\n",
       "\t\t<th>r_alcohol</th>\n",
       "\t\t<th>r_chlorides</th>\n",
       "\t\t<th>r_pH</th>\n",
       "\t\t<th>r_sulphates</th>\n",
       "\t\t<th>r_residual_sugar</th>\n",
       "\t\t<th>r_citric_acid</th>\n",
       "\t\t<th>r_fixed_acidity</th>\n",
       "\t</tr>\n",
       "\t<tr>\n",
       "\t\t<td>1</td>\n",
       "\t\t<td>119</td>\n",
       "\t\t<td>-0.9469832311593162</td>\n",
       "\t\t<td>-1.1471838336377223</td>\n",
       "\t\t<td>-1.139079717278403</td>\n",
       "\t\t<td>-0.7511463251613727</td>\n",
       "\t\t<td>0.7457080882394006</td>\n",
       "\t\t<td>-0.576536078850255</td>\n",
       "\t\t<td>0.020469293143509544</td>\n",
       "\t\t<td>0.10055426371345687</td>\n",
       "\t\t<td>-0.17011664370135438</td>\n",
       "\t\t<td>0.6034356121260408</td>\n",
       "\t\t<td>-0.09250925264674188</td>\n",
       "\t</tr>\n",
       "\t<tr>\n",
       "\t\t<td>1</td>\n",
       "\t\t<td>225</td>\n",
       "\t\t<td>0.4355770169392014</td>\n",
       "\t\t<td>0.05762247977485116</td>\n",
       "\t\t<td>-0.048151234929159126</td>\n",
       "\t\t<td>-0.13697644851322016</td>\n",
       "\t\t<td>0.2761602841095478</td>\n",
       "\t\t<td>-0.07974408395324856</td>\n",
       "\t\t<td>0.4759781047566962</td>\n",
       "\t\t<td>-0.41984979304054704</td>\n",
       "\t\t<td>0.49215563766008447</td>\n",
       "\t\t<td>-1.139822822904747</td>\n",
       "\t\t<td>-0.49168550284804513</td>\n",
       "\t</tr>\n",
       "\t<tr>\n",
       "\t\t<td>0</td>\n",
       "\t\t<td>80</td>\n",
       "\t\t<td>1.2256114444240687</td>\n",
       "\t\t<td>-1.092419910300787</td>\n",
       "\t\t<td>1.2032079065890913</td>\n",
       "\t\t<td>0.9238624293334365</td>\n",
       "\t\t<td>-0.7568448849761281</td>\n",
       "\t\t<td>0.06219648601732491</td>\n",
       "\t\t<td>-0.17474876897642966</td>\n",
       "\t\t<td>0.9100716853307951</td>\n",
       "\t\t<td>0.3265875673197246</td>\n",
       "\t\t<td>1.321247908903424</td>\n",
       "\t\t<td>0.7628684263560517</td>\n",
       "\t</tr>\n",
       "\t<tr>\n",
       "\t\t<td>1</td>\n",
       "\t\t<td>241</td>\n",
       "\t\t<td>-0.9469832311593162</td>\n",
       "\t\t<td>-0.4900167535945005</td>\n",
       "\t\t<td>-1.0749074536108003</td>\n",
       "\t\t<td>-0.9744808257606558</td>\n",
       "\t\t<td>1.0274367707173129</td>\n",
       "\t\t<td>-0.5055657938649685</td>\n",
       "\t\t<td>0.8664142289965717</td>\n",
       "\t\t<td>0.33184495560412464</td>\n",
       "\t\t<td>-0.17011664370135438</td>\n",
       "\t\t<td>0.09071254299933838</td>\n",
       "\t\t<td>-0.49168550284804513</td>\n",
       "\t</tr>\n",
       "\t<tr>\n",
       "\t\t<td>1</td>\n",
       "\t\t<td>292</td>\n",
       "\t\t<td>-0.5519660174168826</td>\n",
       "\t\t<td>-0.2161971369098248</td>\n",
       "\t\t<td>-0.8823906626079927</td>\n",
       "\t\t<td>0.03052442693624215</td>\n",
       "\t\t<td>0.7457080882394006</td>\n",
       "\t\t<td>-0.026516370214283505</td>\n",
       "\t\t<td>0.41090541738338504</td>\n",
       "\t\t<td>0.10055426371345687</td>\n",
       "\t\t<td>5.293629677530517</td>\n",
       "\t\t<td>-1.0885505159920765</td>\n",
       "\t\t<td>-0.6627610386486037</td>\n",
       "\t</tr>\n",
       "\t<tr>\n",
       "\t\t<td>0</td>\n",
       "\t\t<td>277</td>\n",
       "\t\t<td>-0.9469832311593162</td>\n",
       "\t\t<td>0.33144209645952655</td>\n",
       "\t\t<td>-0.27275415776576817</td>\n",
       "\t\t<td>1.3705314305320646</td>\n",
       "\t\t<td>-0.3812066416722455</td>\n",
       "\t\t<td>-0.3281400814017519</td>\n",
       "\t\t<td>-1.6714205785626177</td>\n",
       "\t\t<td>-0.5933178119585477</td>\n",
       "\t\t<td>0.3265875673197246</td>\n",
       "\t\t<td>1.9365155918554666</td>\n",
       "\t\t<td>2.0174223555601496</td>\n",
       "\t</tr>\n",
       "\t<tr>\n",
       "\t\t<td>0</td>\n",
       "\t\t<td>185</td>\n",
       "\t\t<td>-0.9469832311593162</td>\n",
       "\t\t<td>1.289810754855892</td>\n",
       "\t\t<td>-1.0749074536108003</td>\n",
       "\t\t<td>-0.025309198213578625</td>\n",
       "\t\t<td>-0.6629353241501579</td>\n",
       "\t\t<td>-0.11522922644589167</td>\n",
       "\t\t<td>0.21568735526344585</td>\n",
       "\t\t<td>-0.9980765227672175</td>\n",
       "\t\t<td>-0.666820854722434</td>\n",
       "\t\t<td>-1.4474566643807683</td>\n",
       "\t\t<td>-0.49168550284804513</td>\n",
       "\t</tr>\n",
       "\t<tr>\n",
       "\t\t<td>0</td>\n",
       "\t\t<td>76</td>\n",
       "\t\t<td>-0.4532117139812742</td>\n",
       "\t\t<td>0.5504977898072673</td>\n",
       "\t\t<td>2.0053612024341234</td>\n",
       "\t\t<td>-0.19281007366310293</td>\n",
       "\t\t<td>-0.569025763324186</td>\n",
       "\t\t<td>-0.11522922644589167</td>\n",
       "\t\t<td>-1.020693704829492</td>\n",
       "\t\t<td>-0.015091082231877335</td>\n",
       "\t\t<td>-0.17011664370135438</td>\n",
       "\t\t<td>-0.9860059021667362</td>\n",
       "\t\t<td>0.02154110455363119</td>\n",
       "\t</tr>\n",
       "\t<tr>\n",
       "\t\t<td>0</td>\n",
       "\t\t<td>54</td>\n",
       "\t\t<td>1.2256114444240687</td>\n",
       "\t\t<td>-0.3257249835836949</td>\n",
       "\t\t<td>1.8770166750989183</td>\n",
       "\t\t<td>0.8680288041836157</td>\n",
       "\t\t<td>-1.1324831282800107</td>\n",
       "\t\t<td>0.026711343524681543</td>\n",
       "\t\t<td>-1.3460571416960534</td>\n",
       "\t\t<td>-0.5933178119585477</td>\n",
       "\t\t<td>0.8232917783408036</td>\n",
       "\t\t<td>-0.26819360538935305</td>\n",
       "\t\t<td>0.3636921761547484</td>\n",
       "\t</tr>\n",
       "\t<tr>\n",
       "\t\t<td>1</td>\n",
       "\t\t<td>82</td>\n",
       "\t\t<td>-0.9469832311593162</td>\n",
       "\t\t<td>-0.5995446002683709</td>\n",
       "\t\t<td>0.04810716057224475</td>\n",
       "\t\t<td>2.5988711838283076</td>\n",
       "\t\t<td>0.3700698449355197</td>\n",
       "\t\t<td>-0.026516370214283505</td>\n",
       "\t\t<td>-1.931711328055868</td>\n",
       "\t\t<td>0.8522490123581286</td>\n",
       "\t\t<td>2.478972481744401</td>\n",
       "\t\t<td>1.7826986711174557</td>\n",
       "\t\t<td>3.2149511061640603</td>\n",
       "\t</tr>\n",
       "</table></html>"
      ],
      "text/plain": [
       "   quality   id  r_free_sulfur_dioxide  r_volatile_acidity  r_total_sulfur_dioxide  r_density  r_alcohol  r_chlorides      r_pH  r_sulphates  r_residual_sugar  r_citric_acid  r_fixed_acidity\n",
       "0        1  119              -0.946983           -1.147184               -1.139080  -0.751146   0.745708    -0.576536  0.020469     0.100554         -0.170117       0.603436        -0.092509\n",
       "1        1  225               0.435577            0.057622               -0.048151  -0.136976   0.276160    -0.079744  0.475978    -0.419850          0.492156      -1.139823        -0.491686\n",
       "2        0   80               1.225611           -1.092420                1.203208   0.923862  -0.756845     0.062196 -0.174749     0.910072          0.326588       1.321248         0.762868\n",
       "3        1  241              -0.946983           -0.490017               -1.074907  -0.974481   1.027437    -0.505566  0.866414     0.331845         -0.170117       0.090713        -0.491686\n",
       "4        1  292              -0.551966           -0.216197               -0.882391   0.030524   0.745708    -0.026516  0.410905     0.100554          5.293630      -1.088551        -0.662761\n",
       "5        0  277              -0.946983            0.331442               -0.272754   1.370531  -0.381207    -0.328140 -1.671421    -0.593318          0.326588       1.936516         2.017422\n",
       "6        0  185              -0.946983            1.289811               -1.074907  -0.025309  -0.662935    -0.115229  0.215687    -0.998077         -0.666821      -1.447457        -0.491686\n",
       "7        0   76              -0.453212            0.550498                2.005361  -0.192810  -0.569026    -0.115229 -1.020694    -0.015091         -0.170117      -0.986006         0.021541\n",
       "8        0   54               1.225611           -0.325725                1.877017   0.868029  -1.132483     0.026711 -1.346057    -0.593318          0.823292      -0.268194         0.363692\n",
       "9        1   82              -0.946983           -0.599545                0.048107   2.598871   0.370070    -0.026516 -1.931711     0.852249          2.478972       1.782699         3.214951"
      ]
     },
     "metadata": {},
     "output_type": "display_data"
    },
    {
     "name": "stdout",
     "output_type": "stream",
     "text": [
      "                                                                                          \r"
     ]
    },
    {
     "data": {
      "text/html": [
       "339 rows X 13 columns"
      ],
      "text/plain": [
       "<IPython.core.display.HTML object>"
      ]
     },
     "metadata": {},
     "output_type": "display_data"
    },
    {
     "name": "stdout",
     "output_type": "stream",
     "text": [
      "                                                                                          \r"
     ]
    },
    {
     "data": {
      "text/html": [
       "Total time taken by feature scaling: 45.38 sec"
      ],
      "text/plain": [
       "<IPython.core.display.HTML object>"
      ]
     },
     "metadata": {},
     "output_type": "display_data"
    },
    {
     "name": "stdout",
     "output_type": "stream",
     "text": [
      "                                                                                          \r"
     ]
    },
    {
     "data": {
      "text/html": [
       "\n",
       "scaling Features of pca data ..."
      ],
      "text/plain": [
       "<IPython.core.display.HTML object>"
      ]
     },
     "metadata": {},
     "output_type": "display_data"
    },
    {
     "name": "stdout",
     "output_type": "stream",
     "text": [
      "                                                                                          \r"
     ]
    },
    {
     "data": {
      "text/html": [
       "columns that will be scaled: "
      ],
      "text/plain": [
       "<IPython.core.display.HTML object>"
      ]
     },
     "metadata": {},
     "output_type": "display_data"
    },
    {
     "name": "stdout",
     "output_type": "stream",
     "text": [
      "['free_sulfur_dioxide', 'volatile_acidity', 'total_sulfur_dioxide', 'density', 'alcohol', 'chlorides', 'pH', 'sulphates', 'residual_sugar', 'citric_acid', 'fixed_acidity']\n",
      "                                                                                          \r"
     ]
    },
    {
     "data": {
      "text/html": [
       "Training dataset sample after scaling:"
      ],
      "text/plain": [
       "<IPython.core.display.HTML object>"
      ]
     },
     "metadata": {},
     "output_type": "display_data"
    },
    {
     "data": {
      "text/html": [
       "<style type=\"text/css\">\n",
       "\ttable {border:ridge 5px;}\n",
       "\ttable td {border:inset 1px;}\n",
       "\ttable tr#HeaderRow {background-color:grey; color:white;}</style>\n",
       "<html><table>\n",
       "\t<tr id=\"HeaderRow\">\n",
       "\t\t<th>quality</th>\n",
       "\t\t<th>id</th>\n",
       "\t\t<th>free_sulfur_dioxide</th>\n",
       "\t\t<th>volatile_acidity</th>\n",
       "\t\t<th>total_sulfur_dioxide</th>\n",
       "\t\t<th>density</th>\n",
       "\t\t<th>alcohol</th>\n",
       "\t\t<th>chlorides</th>\n",
       "\t\t<th>pH</th>\n",
       "\t\t<th>sulphates</th>\n",
       "\t\t<th>residual_sugar</th>\n",
       "\t\t<th>citric_acid</th>\n",
       "\t\t<th>fixed_acidity</th>\n",
       "\t</tr>\n",
       "\t<tr>\n",
       "\t\t<td>1</td>\n",
       "\t\t<td>101</td>\n",
       "\t\t<td>-1.2432461414661424</td>\n",
       "\t\t<td>-1.1198018719692537</td>\n",
       "\t\t<td>-1.267424244613607</td>\n",
       "\t\t<td>-0.9083190758339079</td>\n",
       "\t\t<td>1.4030752360743814</td>\n",
       "\t\t<td>-0.20394208267749958</td>\n",
       "\t\t<td>-0.23982145634972063</td>\n",
       "\t\t<td>0.0427315907407897</td>\n",
       "\t\t<td>-0.17011664370135843</td>\n",
       "\t\t<td>0.6034356121260417</td>\n",
       "\t\t<td>0.1355914617540135</td>\n",
       "\t</tr>\n",
       "\t<tr>\n",
       "\t\t<td>0</td>\n",
       "\t\t<td>78</td>\n",
       "\t\t<td>-0.6507203208524915</td>\n",
       "\t\t<td>1.6457762565459704</td>\n",
       "\t\t<td>-0.7219600034389856</td>\n",
       "\t\t<td>0.9232147079031258</td>\n",
       "\t\t<td>-0.5690257929479325</td>\n",
       "\t\t<td>-0.02651637021428301</td>\n",
       "\t\t<td>0.5410507921300306</td>\n",
       "\t\t<td>-0.18855910114987834</td>\n",
       "\t\t<td>0.4921556376600791</td>\n",
       "\t\t<td>-0.729644367603383</td>\n",
       "\t\t<td>0.3636921761547588</td>\n",
       "\t</tr>\n",
       "\t<tr>\n",
       "\t\t<td>1</td>\n",
       "\t\t<td>99</td>\n",
       "\t\t<td>-0.6507203208524915</td>\n",
       "\t\t<td>-0.928128140289981</td>\n",
       "\t\t<td>-0.6257016079375819</td>\n",
       "\t\t<td>-1.1428447432636402</td>\n",
       "\t\t<td>1.4030752360743814</td>\n",
       "\t\t<td>-0.3991103663870378</td>\n",
       "\t\t<td>0.34583273001009135</td>\n",
       "\t\t<td>-0.36202712006787935</td>\n",
       "\t\t<td>0.16101949697935997</td>\n",
       "\t\t<td>0.2445294637373504</td>\n",
       "\t\t<td>-0.5487106814482214</td>\n",
       "\t</tr>\n",
       "\t<tr>\n",
       "\t\t<td>0</td>\n",
       "\t\t<td>1020</td>\n",
       "\t\t<td>-0.15694880367444913</td>\n",
       "\t\t<td>0.6600256364811382</td>\n",
       "\t\t<td>-0.4652709487685755</td>\n",
       "\t\t<td>0.08003909404861943</td>\n",
       "\t\t<td>-0.5690257929479325</td>\n",
       "\t\t<td>-0.1684569401848562</td>\n",
       "\t\t<td>1.8425045395962796</td>\n",
       "\t\t<td>-0.015091082231877311</td>\n",
       "\t\t<td>-0.8323889250627963</td>\n",
       "\t\t<td>-0.37073821921469186</td>\n",
       "\t\t<td>-1.1189624674500842</td>\n",
       "\t</tr>\n",
       "\t<tr>\n",
       "\t\t<td>0</td>\n",
       "\t\t<td>103</td>\n",
       "\t\t<td>1.1268571409884611</td>\n",
       "\t\t<td>-0.4900167535944998</td>\n",
       "\t\t<td>-0.01606510309535782</td>\n",
       "\t\t<td>-0.4001801297361443</td>\n",
       "\t\t<td>-0.09947792889500054</td>\n",
       "\t\t<td>-0.1684569401848562</td>\n",
       "\t\t<td>-0.3699668310963458</td>\n",
       "\t\t<td>-0.7089631579038808</td>\n",
       "\t\t<td>-1.163525065743515</td>\n",
       "\t\t<td>0.039440236086669515</td>\n",
       "\t\t<td>-0.09250925264673183</td>\n",
       "\t</tr>\n",
       "\t<tr>\n",
       "\t\t<td>0</td>\n",
       "\t\t<td>780</td>\n",
       "\t\t<td>1.1268571409884611</td>\n",
       "\t\t<td>-0.4900167535944998</td>\n",
       "\t\t<td>0.17645168790744978</td>\n",
       "\t\t<td>-0.22707785139512338</td>\n",
       "\t\t<td>-0.005568356084414481</td>\n",
       "\t\t<td>-0.15071436893853452</td>\n",
       "\t\t<td>1.1917776658631565</td>\n",
       "\t\t<td>-0.13073642817721134</td>\n",
       "\t\t<td>-0.8323889250627963</td>\n",
       "\t\t<td>-0.5758274468653725</td>\n",
       "\t\t<td>-0.7197862172487807</td>\n",
       "\t</tr>\n",
       "\t<tr>\n",
       "\t\t<td>1</td>\n",
       "\t\t<td>305</td>\n",
       "\t\t<td>0.43557701693920176</td>\n",
       "\t\t<td>0.3314420964595271</td>\n",
       "\t\t<td>-0.4652709487685755</td>\n",
       "\t\t<td>-1.0646695207871042</td>\n",
       "\t\t<td>-0.19338750170558827</td>\n",
       "\t\t<td>-0.558793507603933</td>\n",
       "\t\t<td>1.2568503532364677</td>\n",
       "\t\t<td>-0.13073642817721134</td>\n",
       "\t\t<td>-0.6668208547224371</td>\n",
       "\t\t<td>-1.037278209079404</td>\n",
       "\t\t<td>-1.689214253451947</td>\n",
       "\t</tr>\n",
       "\t<tr>\n",
       "\t\t<td>1</td>\n",
       "\t\t<td>1178</td>\n",
       "\t\t<td>0.43557701693920176</td>\n",
       "\t\t<td>-1.366239526985462</td>\n",
       "\t\t<td>-0.5936154761037806</td>\n",
       "\t\t<td>-0.7184649641050622</td>\n",
       "\t\t<td>0.7457082264002757</td>\n",
       "\t\t<td>0.16865191349525546</td>\n",
       "\t\t<td>-1.0206937048294717</td>\n",
       "\t\t<td>0.15837693668612307</td>\n",
       "\t\t<td>-0.5012527843820775</td>\n",
       "\t\t<td>0.5521633052133714</td>\n",
       "\t\t<td>0.24964181895438667</td>\n",
       "\t</tr>\n",
       "\t<tr>\n",
       "\t\t<td>0</td>\n",
       "\t\t<td>1066</td>\n",
       "\t\t<td>-0.3544574105456661</td>\n",
       "\t\t<td>-1.2567116803115919</td>\n",
       "\t\t<td>-0.27275415776576795</td>\n",
       "\t\t<td>0.085623038511207</td>\n",
       "\t\t<td>-0.8507545113796924</td>\n",
       "\t\t<td>0.3993053396974371</td>\n",
       "\t\t<td>-0.3699668310963458</td>\n",
       "\t\t<td>-0.4776724660132134</td>\n",
       "\t\t<td>-1.163525065743515</td>\n",
       "\t\t<td>1.2187032950780838</td>\n",
       "\t\t<td>0.19261664035419956</td>\n",
       "\t</tr>\n",
       "\t<tr>\n",
       "\t\t<td>1</td>\n",
       "\t\t<td>996</td>\n",
       "\t\t<td>-0.3544574105456661</td>\n",
       "\t\t<td>-0.7090724469422403</td>\n",
       "\t\t<td>0.2406239515750523</td>\n",
       "\t\t<td>-2.125618968683518</td>\n",
       "\t\t<td>1.6848039545061397</td>\n",
       "\t\t<td>-0.7894469338061145</td>\n",
       "\t\t<td>0.34583273001009135</td>\n",
       "\t\t<td>-0.24638177412254536</td>\n",
       "\t\t<td>1.6511321300425945</td>\n",
       "\t\t<td>0.2445294637373504</td>\n",
       "\t\t<td>-1.1189624674500842</td>\n",
       "\t</tr>\n",
       "</table></html>"
      ],
      "text/plain": [
       "   quality    id  free_sulfur_dioxide  volatile_acidity  total_sulfur_dioxide   density   alcohol  chlorides        pH  sulphates  residual_sugar  citric_acid  fixed_acidity\n",
       "0        1   101            -1.243246         -1.119802             -1.267424 -0.908319  1.403075  -0.203942 -0.239821   0.042732       -0.170117     0.603436       0.135591\n",
       "1        0    78            -0.650720          1.645776             -0.721960  0.923215 -0.569026  -0.026516  0.541051  -0.188559        0.492156    -0.729644       0.363692\n",
       "2        1    99            -0.650720         -0.928128             -0.625702 -1.142845  1.403075  -0.399110  0.345833  -0.362027        0.161019     0.244529      -0.548711\n",
       "3        0  1020            -0.156949          0.660026             -0.465271  0.080039 -0.569026  -0.168457  1.842505  -0.015091       -0.832389    -0.370738      -1.118962\n",
       "4        0   103             1.126857         -0.490017             -0.016065 -0.400180 -0.099478  -0.168457 -0.369967  -0.708963       -1.163525     0.039440      -0.092509\n",
       "5        0   780             1.126857         -0.490017              0.176452 -0.227078 -0.005568  -0.150714  1.191778  -0.130736       -0.832389    -0.575827      -0.719786\n",
       "6        1   305             0.435577          0.331442             -0.465271 -1.064670 -0.193388  -0.558794  1.256850  -0.130736       -0.666821    -1.037278      -1.689214\n",
       "7        1  1178             0.435577         -1.366240             -0.593615 -0.718465  0.745708   0.168652 -1.020694   0.158377       -0.501253     0.552163       0.249642\n",
       "8        0  1066            -0.354457         -1.256712             -0.272754  0.085623 -0.850755   0.399305 -0.369967  -0.477672       -1.163525     1.218703       0.192617\n",
       "9        1   996            -0.354457         -0.709072              0.240624 -2.125619  1.684804  -0.789447  0.345833  -0.246382        1.651132     0.244529      -1.118962"
      ]
     },
     "metadata": {},
     "output_type": "display_data"
    },
    {
     "name": "stdout",
     "output_type": "stream",
     "text": [
      "                                                                                          \r"
     ]
    },
    {
     "data": {
      "text/html": [
       "728 rows X 13 columns"
      ],
      "text/plain": [
       "<IPython.core.display.HTML object>"
      ]
     },
     "metadata": {},
     "output_type": "display_data"
    },
    {
     "name": "stdout",
     "output_type": "stream",
     "text": [
      "                                                                                          \r"
     ]
    },
    {
     "data": {
      "text/html": [
       "Testing dataset sample after scaling:"
      ],
      "text/plain": [
       "<IPython.core.display.HTML object>"
      ]
     },
     "metadata": {},
     "output_type": "display_data"
    },
    {
     "data": {
      "text/html": [
       "<style type=\"text/css\">\n",
       "\ttable {border:ridge 5px;}\n",
       "\ttable td {border:inset 1px;}\n",
       "\ttable tr#HeaderRow {background-color:grey; color:white;}</style>\n",
       "<html><table>\n",
       "\t<tr id=\"HeaderRow\">\n",
       "\t\t<th>quality</th>\n",
       "\t\t<th>id</th>\n",
       "\t\t<th>free_sulfur_dioxide</th>\n",
       "\t\t<th>volatile_acidity</th>\n",
       "\t\t<th>total_sulfur_dioxide</th>\n",
       "\t\t<th>density</th>\n",
       "\t\t<th>alcohol</th>\n",
       "\t\t<th>chlorides</th>\n",
       "\t\t<th>pH</th>\n",
       "\t\t<th>sulphates</th>\n",
       "\t\t<th>residual_sugar</th>\n",
       "\t\t<th>citric_acid</th>\n",
       "\t\t<th>fixed_acidity</th>\n",
       "\t</tr>\n",
       "\t<tr>\n",
       "\t\t<td>0</td>\n",
       "\t\t<td>21</td>\n",
       "\t\t<td>-0.15694880367444913</td>\n",
       "\t\t<td>-0.27096106024675937</td>\n",
       "\t\t<td>-0.5615293442699794</td>\n",
       "\t\t<td>-0.8859832979834336</td>\n",
       "\t\t<td>0.7457082264002757</td>\n",
       "\t\t<td>-0.6297637925892196</td>\n",
       "\t\t<td>-0.8254756427095326</td>\n",
       "\t\t<td>0.7944263393854601</td>\n",
       "\t\t<td>-0.0045485733609996045</td>\n",
       "\t\t<td>-0.06310437773867066</td>\n",
       "\t\t<td>0.1355914617540135</td>\n",
       "\t</tr>\n",
       "\t<tr>\n",
       "\t\t<td>0</td>\n",
       "\t\t<td>48</td>\n",
       "\t\t<td>0.6330856238104188</td>\n",
       "\t\t<td>0.9338452531658136</td>\n",
       "\t\t<td>1.4598969612595003</td>\n",
       "\t\t<td>0.6440174847725069</td>\n",
       "\t\t<td>-0.28729707451617437</td>\n",
       "\t\t<td>-0.04425894146060469</td>\n",
       "\t\t<td>-0.10967608160309543</td>\n",
       "\t\t<td>-0.24638177412254536</td>\n",
       "\t\t<td>0.3265875673197195</td>\n",
       "\t\t<td>0.19325715682468017</td>\n",
       "\t\t<td>0.7628684263560623</td>\n",
       "\t</tr>\n",
       "\t<tr>\n",
       "\t\t<td>1</td>\n",
       "\t\t<td>56</td>\n",
       "\t\t<td>-0.2557031071100576</td>\n",
       "\t\t<td>-1.1471838336377214</td>\n",
       "\t\t<td>-0.40109868510097296</td>\n",
       "\t\t<td>0.867375263277002</td>\n",
       "\t\t<td>-0.3812066473267604</td>\n",
       "\t\t<td>-0.5055657938649679</td>\n",
       "\t\t<td>-0.23982145634972063</td>\n",
       "\t\t<td>-0.015091082231877311</td>\n",
       "\t\t<td>-1.163525065743515</td>\n",
       "\t\t<td>0.9623417605147326</td>\n",
       "\t\t<td>0.7628684263560623</td>\n",
       "\t</tr>\n",
       "\t<tr>\n",
       "\t\t<td>0</td>\n",
       "\t\t<td>27</td>\n",
       "\t\t<td>-1.144491838030534</td>\n",
       "\t\t<td>0.057622479774851756</td>\n",
       "\t\t<td>-1.0749074536107996</td>\n",
       "\t\t<td>0.15263037206256796</td>\n",
       "\t\t<td>-1.1324832298114522</td>\n",
       "\t\t<td>1.3219190445061637</td>\n",
       "\t\t<td>-0.30489414372303464</td>\n",
       "\t\t<td>1.1413623772214616</td>\n",
       "\t\t<td>-0.6668208547224371</td>\n",
       "\t\t<td>-0.8321889814287234</td>\n",
       "\t\t<td>-0.5487106814482214</td>\n",
       "\t</tr>\n",
       "\t<tr>\n",
       "\t\t<td>1</td>\n",
       "\t\t<td>15</td>\n",
       "\t\t<td>-0.4532117139812746</td>\n",
       "\t\t<td>-0.928128140289981</td>\n",
       "\t\t<td>0.048107160572244706</td>\n",
       "\t\t<td>-0.4225159075865566</td>\n",
       "\t\t<td>0.5578890807791036</td>\n",
       "\t\t<td>-0.2571697964164646</td>\n",
       "\t\t<td>-0.23982145634972063</td>\n",
       "\t\t<td>0.8522490123581272</td>\n",
       "\t\t<td>0.16101949697935997</td>\n",
       "\t\t<td>0.2445294637373504</td>\n",
       "\t\t<td>-0.09250925264673183</td>\n",
       "\t</tr>\n",
       "\t<tr>\n",
       "\t\t<td>1</td>\n",
       "\t\t<td>16</td>\n",
       "\t\t<td>1.2256114444240696</td>\n",
       "\t\t<td>-1.366239526985462</td>\n",
       "\t\t<td>0.016021028738443445</td>\n",
       "\t\t<td>1.4257697095383017</td>\n",
       "\t\t<td>-0.19338750170558827</td>\n",
       "\t\t<td>-0.20394208267749958</td>\n",
       "\t\t<td>-0.6953302679629074</td>\n",
       "\t\t<td>0.7944263393854601</td>\n",
       "\t\t<td>1.3199959893618762</td>\n",
       "\t\t<td>1.0648863743400732</td>\n",
       "\t\t<td>2.2455230699609063</td>\n",
       "\t</tr>\n",
       "\t<tr>\n",
       "\t\t<td>0</td>\n",
       "\t\t<td>32</td>\n",
       "\t\t<td>-0.05819450023884064</td>\n",
       "\t\t<td>-0.6543085236053051</td>\n",
       "\t\t<td>0.27271008340885355</td>\n",
       "\t\t<td>1.8166458219212303</td>\n",
       "\t\t<td>-0.19338750170558827</td>\n",
       "\t\t<td>0.026711343524682032</td>\n",
       "\t\t<td>-1.801565953309223</td>\n",
       "\t\t<td>-0.015091082231877311</td>\n",
       "\t\t<td>-0.5012527843820775</td>\n",
       "\t\t<td>1.2187032950780838</td>\n",
       "\t\t<td>2.1314727127605333</td>\n",
       "\t</tr>\n",
       "\t<tr>\n",
       "\t\t<td>0</td>\n",
       "\t\t<td>41</td>\n",
       "\t\t<td>-0.05819450023884064</td>\n",
       "\t\t<td>1.0159911381712163</td>\n",
       "\t\t<td>0.5614852699130649</td>\n",
       "\t\t<td>-0.1935741846194739</td>\n",
       "\t\t<td>-0.8507545113796924</td>\n",
       "\t\t<td>4.781720437538888</td>\n",
       "\t\t<td>-1.9967840154291594</td>\n",
       "\t\t<td>5.36241750422615</td>\n",
       "\t\t<td>-0.8323889250627963</td>\n",
       "\t\t<td>-0.21692129847668132</td>\n",
       "\t\t<td>-0.49168550284803536</td>\n",
       "\t</tr>\n",
       "\t<tr>\n",
       "\t\t<td>1</td>\n",
       "\t\t<td>20</td>\n",
       "\t\t<td>0.7318399272460272</td>\n",
       "\t\t<td>-0.9828920636269158</td>\n",
       "\t\t<td>-0.3048402895995692</td>\n",
       "\t\t<td>-1.5783924113474552</td>\n",
       "\t\t<td>1.8726231001273135</td>\n",
       "\t\t<td>-0.3281400814017513</td>\n",
       "\t\t<td>-1.2809844543227222</td>\n",
       "\t\t<td>0.6787809934401262</td>\n",
       "\t\t<td>-0.335684714041718</td>\n",
       "\t\t<td>0.7059802259513819</td>\n",
       "\t\t<td>0.02154110455364134</td>\n",
       "\t</tr>\n",
       "\t<tr>\n",
       "\t\t<td>1</td>\n",
       "\t\t<td>33</td>\n",
       "\t\t<td>0.13931410663237634</td>\n",
       "\t\t<td>0.605261713144203</td>\n",
       "\t\t<td>1.4598969612595003</td>\n",
       "\t\t<td>-0.32758885172213376</td>\n",
       "\t\t<td>-0.5690257929479325</td>\n",
       "\t\t<td>-0.13297179769221285</td>\n",
       "\t\t<td>-0.30489414372303464</td>\n",
       "\t\t<td>-0.4776724660132134</td>\n",
       "\t\t<td>-0.5012527843820775</td>\n",
       "\t\t<td>-0.06310437773867066</td>\n",
       "\t\t<td>-0.49168550284803536</td>\n",
       "\t</tr>\n",
       "</table></html>"
      ],
      "text/plain": [
       "   quality  id  free_sulfur_dioxide  volatile_acidity  total_sulfur_dioxide   density   alcohol  chlorides        pH  sulphates  residual_sugar  citric_acid  fixed_acidity\n",
       "0        0  21            -0.156949         -0.270961             -0.561529 -0.885983  0.745708  -0.629764 -0.825476   0.794426       -0.004549    -0.063104       0.135591\n",
       "1        0  48             0.633086          0.933845              1.459897  0.644017 -0.287297  -0.044259 -0.109676  -0.246382        0.326588     0.193257       0.762868\n",
       "2        1  56            -0.255703         -1.147184             -0.401099  0.867375 -0.381207  -0.505566 -0.239821  -0.015091       -1.163525     0.962342       0.762868\n",
       "3        0  27            -1.144492          0.057622             -1.074907  0.152630 -1.132483   1.321919 -0.304894   1.141362       -0.666821    -0.832189      -0.548711\n",
       "4        1  15            -0.453212         -0.928128              0.048107 -0.422516  0.557889  -0.257170 -0.239821   0.852249        0.161019     0.244529      -0.092509\n",
       "5        1  16             1.225611         -1.366240              0.016021  1.425770 -0.193388  -0.203942 -0.695330   0.794426        1.319996     1.064886       2.245523\n",
       "6        0  32            -0.058195         -0.654309              0.272710  1.816646 -0.193388   0.026711 -1.801566  -0.015091       -0.501253     1.218703       2.131473\n",
       "7        0  41            -0.058195          1.015991              0.561485 -0.193574 -0.850755   4.781720 -1.996784   5.362418       -0.832389    -0.216921      -0.491686\n",
       "8        1  20             0.731840         -0.982892             -0.304840 -1.578392  1.872623  -0.328140 -1.280984   0.678781       -0.335685     0.705980       0.021541\n",
       "9        1  33             0.139314          0.605262              1.459897 -0.327589 -0.569026  -0.132972 -0.304894  -0.477672       -0.501253    -0.063104      -0.491686"
      ]
     },
     "metadata": {},
     "output_type": "display_data"
    },
    {
     "name": "stdout",
     "output_type": "stream",
     "text": [
      "                                                                                          \r"
     ]
    },
    {
     "data": {
      "text/html": [
       "339 rows X 13 columns"
      ],
      "text/plain": [
       "<IPython.core.display.HTML object>"
      ]
     },
     "metadata": {},
     "output_type": "display_data"
    },
    {
     "name": "stdout",
     "output_type": "stream",
     "text": [
      "                                                                                          \r"
     ]
    },
    {
     "data": {
      "text/html": [
       "Total time taken by feature scaling: 40.61 sec"
      ],
      "text/plain": [
       "<IPython.core.display.HTML object>"
      ]
     },
     "metadata": {},
     "output_type": "display_data"
    },
    {
     "name": "stdout",
     "output_type": "stream",
     "text": [
      "                                                                                          \r"
     ]
    },
    {
     "data": {
      "text/html": [
       "\n",
       "Dimension Reduction using pca ..."
      ],
      "text/plain": [
       "<IPython.core.display.HTML object>"
      ]
     },
     "metadata": {},
     "output_type": "display_data"
    },
    {
     "name": "stdout",
     "output_type": "stream",
     "text": [
      "                                                                                          \r"
     ]
    },
    {
     "data": {
      "text/html": [
       "PCA columns:"
      ],
      "text/plain": [
       "<IPython.core.display.HTML object>"
      ]
     },
     "metadata": {},
     "output_type": "display_data"
    },
    {
     "name": "stdout",
     "output_type": "stream",
     "text": [
      "['col_0', 'col_1', 'col_2', 'col_3', 'col_4', 'col_5', 'col_6', 'col_7', 'col_8']\n",
      "                                                                                          \r"
     ]
    },
    {
     "data": {
      "text/html": [
       "Total time taken by PCA: 9.87 sec  "
      ],
      "text/plain": [
       "<IPython.core.display.HTML object>"
      ]
     },
     "metadata": {},
     "output_type": "display_data"
    },
    {
     "name": "stdout",
     "output_type": "stream",
     "text": [
      "                                                                                          \r"
     ]
    },
    {
     "data": {
      "text/html": [
       "\n",
       "            <style>\n",
       "                .custom-div {\n",
       "                    background-color: lightgray;\n",
       "                    color: #000000;\n",
       "                    padding: 10px;\n",
       "                    border-radius: 8px;\n",
       "                    box-shadow: 0 3px 4px rgba(0 -  0 -  0 -  0.2);\n",
       "                    margin-bottom: 10px;\n",
       "                    text-align: center;\n",
       "                }\n",
       "            </style>\n",
       "        <br><div class=\"custom-div\"><h3><span style=\"color: green;\">1. Feature Exploration -> 2. Feature Engineering -> 3. Data Preparation -></span> 4. Model Training & Evaluation<center></h3></center></div>"
      ],
      "text/plain": [
       "<IPython.core.display.HTML object>"
      ]
     },
     "metadata": {},
     "output_type": "display_data"
    },
    {
     "name": "stdout",
     "output_type": "stream",
     "text": [
      "                                                                                          \r"
     ]
    },
    {
     "data": {
      "text/html": [
       "Model Training started ..."
      ],
      "text/plain": [
       "<IPython.core.display.HTML object>"
      ]
     },
     "metadata": {},
     "output_type": "display_data"
    },
    {
     "name": "stdout",
     "output_type": "stream",
     "text": [
      "                                                                                          \r"
     ]
    },
    {
     "data": {
      "text/html": [
       "\n",
       "Starting customized hyperparameter update ..."
      ],
      "text/plain": [
       "<IPython.core.display.HTML object>"
      ]
     },
     "metadata": {},
     "output_type": "display_data"
    },
    {
     "name": "stdout",
     "output_type": "stream",
     "text": [
      "                                                                                          \n",
      "Completed customized hyperparameter update.\n",
      "                                                                                          \r"
     ]
    },
    {
     "data": {
      "text/html": [
       "\n",
       "Hyperparameters used for model training: "
      ],
      "text/plain": [
       "<IPython.core.display.HTML object>"
      ]
     },
     "metadata": {},
     "output_type": "display_data"
    },
    {
     "name": "stdout",
     "output_type": "stream",
     "text": [
      "response_column : quality                                                                                                                             \n",
      "name : xgboost\n",
      "model_type : Classification\n",
      "column_sampling : (1, 0.6)\n",
      "min_impurity : (0.0, 0.1, 0.2)\n",
      "lambda1 : (0.01, 0.1, 1, 10)\n",
      "shrinkage_factor : (0.5, 0.1, 0.3)\n",
      "max_depth : (5, 6, 8, 10)\n",
      "min_node_size : (1, 2, 3)\n",
      "iter_num : (10, 20, 30)\n",
      "seed : 42\n",
      "Total number of models for xgboost : 2592\n",
      "--------------------------------------------------------------------------------------------------------------------------------------------------------------------------------------------------------\n",
      "\n",
      "response_column : quality\n",
      "name : knn\n",
      "model_type : Classification\n",
      "k : (2, 3, 5, 6, 8, 10, 12)\n",
      "id_column : id\n",
      "voting_weight : 1.0\n",
      "Total number of models for knn : 7\n",
      "--------------------------------------------------------------------------------------------------------------------------------------------------------------------------------------------------------\n",
      "\n",
      "response_column : quality\n",
      "name : decision_forest\n",
      "tree_type : Classification\n",
      "min_impurity : (0.0, 0.1, 0.2)\n",
      "max_depth : (5, 6, 8, 10)\n",
      "min_node_size : (1, 2, 3)\n",
      "num_trees : (-1, 20, 30)\n",
      "seed : 42\n",
      "Total number of models for decision_forest : 108\n",
      "--------------------------------------------------------------------------------------------------------------------------------------------------------------------------------------------------------\n",
      "\n",
      "                                                                                          \r"
     ]
    },
    {
     "data": {
      "text/html": [
       "\n",
       "Performing hyperParameter tuning ..."
      ],
      "text/plain": [
       "<IPython.core.display.HTML object>"
      ]
     },
     "metadata": {},
     "output_type": "display_data"
    },
    {
     "name": "stdout",
     "output_type": "stream",
     "text": [
      "                                                                                          \r"
     ]
    },
    {
     "data": {
      "text/html": [
       "xgboost"
      ],
      "text/plain": [
       "<IPython.core.display.HTML object>"
      ]
     },
     "metadata": {},
     "output_type": "display_data"
    },
    {
     "name": "stdout",
     "output_type": "stream",
     "text": [
      "result data stored in table '\"ALICE\".\"ml__td_sqlmr_persist_out__1719264812191785\"'                                                                                                                      \n",
      "result data stored in table '\"ALICE\".\"ml__td_sqlmr_persist_out__1719263713140976\"'\n",
      "result data stored in table '\"ALICE\".\"ml__td_sqlmr_persist_out__1719263938600385\"'\n",
      "                                                                                          \r"
     ]
    },
    {
     "data": {
      "text/html": [
       "----------------------------------------------------------------------------------------------------"
      ],
      "text/plain": [
       "<IPython.core.display.HTML object>"
      ]
     },
     "metadata": {},
     "output_type": "display_data"
    },
    {
     "name": "stdout",
     "output_type": "stream",
     "text": [
      "                                                                                          \r"
     ]
    },
    {
     "data": {
      "text/html": [
       "knn"
      ],
      "text/plain": [
       "<IPython.core.display.HTML object>"
      ]
     },
     "metadata": {},
     "output_type": "display_data"
    },
    {
     "name": "stdout",
     "output_type": "stream",
     "text": [
      "result data stored in table '\"ALICE\".\"ml__td_sqlmr_persist_out__1719263725930201\"'                                                                                                                      \n",
      "result data stored in table '\"ALICE\".\"ml__td_sqlmr_persist_out__1719264513536682\"'\n",
      "result data stored in table '\"ALICE\".\"ml__td_sqlmr_persist_out__1719263328671277\"'\n",
      "                                                                                          \r"
     ]
    },
    {
     "data": {
      "text/html": [
       "----------------------------------------------------------------------------------------------------"
      ],
      "text/plain": [
       "<IPython.core.display.HTML object>"
      ]
     },
     "metadata": {},
     "output_type": "display_data"
    },
    {
     "name": "stdout",
     "output_type": "stream",
     "text": [
      "                                                                                          \r"
     ]
    },
    {
     "data": {
      "text/html": [
       "decision_forest"
      ],
      "text/plain": [
       "<IPython.core.display.HTML object>"
      ]
     },
     "metadata": {},
     "output_type": "display_data"
    },
    {
     "name": "stdout",
     "output_type": "stream",
     "text": [
      "result data stored in table '\"ALICE\".\"ml__td_sqlmr_persist_out__1719265006997242\"'                                                                                                                      \n",
      "result data stored in table '\"ALICE\".\"ml__td_sqlmr_persist_out__1719264725611147\"'\n",
      "result data stored in table '\"ALICE\".\"ml__td_sqlmr_persist_out__1719264035293759\"'\n",
      "                                                                                          \r"
     ]
    },
    {
     "data": {
      "text/html": [
       "----------------------------------------------------------------------------------------------------"
      ],
      "text/plain": [
       "<IPython.core.display.HTML object>"
      ]
     },
     "metadata": {},
     "output_type": "display_data"
    },
    {
     "name": "stdout",
     "output_type": "stream",
     "text": [
      "                                                                                          \r"
     ]
    },
    {
     "data": {
      "text/html": [
       "Evaluating models performance ..."
      ],
      "text/plain": [
       "<IPython.core.display.HTML object>"
      ]
     },
     "metadata": {},
     "output_type": "display_data"
    },
    {
     "name": "stdout",
     "output_type": "stream",
     "text": [
      "                                                                                          \r"
     ]
    },
    {
     "data": {
      "text/html": [
       "Evaluation completed."
      ],
      "text/plain": [
       "<IPython.core.display.HTML object>"
      ]
     },
     "metadata": {},
     "output_type": "display_data"
    },
    {
     "name": "stdout",
     "output_type": "stream",
     "text": [
      "                                                                                          \r"
     ]
    },
    {
     "data": {
      "text/html": [
       "Leaderboard"
      ],
      "text/plain": [
       "<IPython.core.display.HTML object>"
      ]
     },
     "metadata": {},
     "output_type": "display_data"
    },
    {
     "data": {
      "text/html": [
       "<div>\n",
       "<style scoped>\n",
       "    .dataframe tbody tr th:only-of-type {\n",
       "        vertical-align: middle;\n",
       "    }\n",
       "\n",
       "    .dataframe tbody tr th {\n",
       "        vertical-align: top;\n",
       "    }\n",
       "\n",
       "    .dataframe thead th {\n",
       "        text-align: right;\n",
       "    }\n",
       "</style>\n",
       "<table border=\"1\" class=\"dataframe\">\n",
       "  <thead>\n",
       "    <tr style=\"text-align: right;\">\n",
       "      <th></th>\n",
       "      <th>Rank</th>\n",
       "      <th>Model-ID</th>\n",
       "      <th>Feature-Selection</th>\n",
       "      <th>Accuracy</th>\n",
       "      <th>Micro-Precision</th>\n",
       "      <th>Micro-Recall</th>\n",
       "      <th>Micro-F1</th>\n",
       "      <th>Macro-Precision</th>\n",
       "      <th>Macro-Recall</th>\n",
       "      <th>Macro-F1</th>\n",
       "      <th>Weighted-Precision</th>\n",
       "      <th>Weighted-Recall</th>\n",
       "      <th>Weighted-F1</th>\n",
       "    </tr>\n",
       "  </thead>\n",
       "  <tbody>\n",
       "    <tr>\n",
       "      <th>0</th>\n",
       "      <td>1</td>\n",
       "      <td>DECISIONFOREST_3</td>\n",
       "      <td>lasso</td>\n",
       "      <td>0.746313</td>\n",
       "      <td>0.746313</td>\n",
       "      <td>0.746313</td>\n",
       "      <td>0.746313</td>\n",
       "      <td>0.748830</td>\n",
       "      <td>0.749004</td>\n",
       "      <td>0.746310</td>\n",
       "      <td>0.751613</td>\n",
       "      <td>0.746313</td>\n",
       "      <td>0.746357</td>\n",
       "    </tr>\n",
       "    <tr>\n",
       "      <th>1</th>\n",
       "      <td>2</td>\n",
       "      <td>KNN_9</td>\n",
       "      <td>lasso</td>\n",
       "      <td>0.716814</td>\n",
       "      <td>0.716814</td>\n",
       "      <td>0.716814</td>\n",
       "      <td>0.716814</td>\n",
       "      <td>0.716518</td>\n",
       "      <td>0.713522</td>\n",
       "      <td>0.714105</td>\n",
       "      <td>0.716656</td>\n",
       "      <td>0.716814</td>\n",
       "      <td>0.715829</td>\n",
       "    </tr>\n",
       "    <tr>\n",
       "      <th>2</th>\n",
       "      <td>3</td>\n",
       "      <td>XGBOOST_2</td>\n",
       "      <td>pca</td>\n",
       "      <td>0.707965</td>\n",
       "      <td>0.707965</td>\n",
       "      <td>0.707965</td>\n",
       "      <td>0.707965</td>\n",
       "      <td>0.710048</td>\n",
       "      <td>0.702621</td>\n",
       "      <td>0.702961</td>\n",
       "      <td>0.709395</td>\n",
       "      <td>0.707965</td>\n",
       "      <td>0.705349</td>\n",
       "    </tr>\n",
       "    <tr>\n",
       "      <th>3</th>\n",
       "      <td>4</td>\n",
       "      <td>XGBOOST_0</td>\n",
       "      <td>lasso</td>\n",
       "      <td>0.705015</td>\n",
       "      <td>0.705015</td>\n",
       "      <td>0.705015</td>\n",
       "      <td>0.705015</td>\n",
       "      <td>0.706115</td>\n",
       "      <td>0.700210</td>\n",
       "      <td>0.700636</td>\n",
       "      <td>0.705736</td>\n",
       "      <td>0.705015</td>\n",
       "      <td>0.702879</td>\n",
       "    </tr>\n",
       "    <tr>\n",
       "      <th>4</th>\n",
       "      <td>5</td>\n",
       "      <td>XGBOOST_3</td>\n",
       "      <td>lasso</td>\n",
       "      <td>0.705015</td>\n",
       "      <td>0.705015</td>\n",
       "      <td>0.705015</td>\n",
       "      <td>0.705015</td>\n",
       "      <td>0.706115</td>\n",
       "      <td>0.700210</td>\n",
       "      <td>0.700636</td>\n",
       "      <td>0.705736</td>\n",
       "      <td>0.705015</td>\n",
       "      <td>0.702879</td>\n",
       "    </tr>\n",
       "    <tr>\n",
       "      <th>5</th>\n",
       "      <td>6</td>\n",
       "      <td>XGBOOST_1</td>\n",
       "      <td>rfe</td>\n",
       "      <td>0.705015</td>\n",
       "      <td>0.705015</td>\n",
       "      <td>0.705015</td>\n",
       "      <td>0.705015</td>\n",
       "      <td>0.706115</td>\n",
       "      <td>0.700210</td>\n",
       "      <td>0.700636</td>\n",
       "      <td>0.705736</td>\n",
       "      <td>0.705015</td>\n",
       "      <td>0.702879</td>\n",
       "    </tr>\n",
       "    <tr>\n",
       "      <th>6</th>\n",
       "      <td>7</td>\n",
       "      <td>DECISIONFOREST_2</td>\n",
       "      <td>pca</td>\n",
       "      <td>0.690265</td>\n",
       "      <td>0.690265</td>\n",
       "      <td>0.690265</td>\n",
       "      <td>0.690265</td>\n",
       "      <td>0.699996</td>\n",
       "      <td>0.695860</td>\n",
       "      <td>0.689574</td>\n",
       "      <td>0.703852</td>\n",
       "      <td>0.690265</td>\n",
       "      <td>0.688666</td>\n",
       "    </tr>\n",
       "    <tr>\n",
       "      <th>7</th>\n",
       "      <td>8</td>\n",
       "      <td>KNN_4</td>\n",
       "      <td>rfe</td>\n",
       "      <td>0.660767</td>\n",
       "      <td>0.660767</td>\n",
       "      <td>0.660767</td>\n",
       "      <td>0.660767</td>\n",
       "      <td>0.659266</td>\n",
       "      <td>0.658543</td>\n",
       "      <td>0.658760</td>\n",
       "      <td>0.660283</td>\n",
       "      <td>0.660767</td>\n",
       "      <td>0.660381</td>\n",
       "    </tr>\n",
       "    <tr>\n",
       "      <th>8</th>\n",
       "      <td>9</td>\n",
       "      <td>KNN_0</td>\n",
       "      <td>lasso</td>\n",
       "      <td>0.660767</td>\n",
       "      <td>0.660767</td>\n",
       "      <td>0.660767</td>\n",
       "      <td>0.660767</td>\n",
       "      <td>0.659266</td>\n",
       "      <td>0.658543</td>\n",
       "      <td>0.658760</td>\n",
       "      <td>0.660283</td>\n",
       "      <td>0.660767</td>\n",
       "      <td>0.660381</td>\n",
       "    </tr>\n",
       "    <tr>\n",
       "      <th>9</th>\n",
       "      <td>10</td>\n",
       "      <td>KNN_8</td>\n",
       "      <td>pca</td>\n",
       "      <td>0.651917</td>\n",
       "      <td>0.651917</td>\n",
       "      <td>0.651917</td>\n",
       "      <td>0.651917</td>\n",
       "      <td>0.650743</td>\n",
       "      <td>0.650943</td>\n",
       "      <td>0.650821</td>\n",
       "      <td>0.652194</td>\n",
       "      <td>0.651917</td>\n",
       "      <td>0.652033</td>\n",
       "    </tr>\n",
       "    <tr>\n",
       "      <th>10</th>\n",
       "      <td>11</td>\n",
       "      <td>DECISIONFOREST_1</td>\n",
       "      <td>rfe</td>\n",
       "      <td>0.640118</td>\n",
       "      <td>0.640118</td>\n",
       "      <td>0.640118</td>\n",
       "      <td>0.640118</td>\n",
       "      <td>0.639300</td>\n",
       "      <td>0.634696</td>\n",
       "      <td>0.634233</td>\n",
       "      <td>0.639565</td>\n",
       "      <td>0.640118</td>\n",
       "      <td>0.637107</td>\n",
       "    </tr>\n",
       "    <tr>\n",
       "      <th>11</th>\n",
       "      <td>12</td>\n",
       "      <td>DECISIONFOREST_0</td>\n",
       "      <td>lasso</td>\n",
       "      <td>0.640118</td>\n",
       "      <td>0.640118</td>\n",
       "      <td>0.640118</td>\n",
       "      <td>0.640118</td>\n",
       "      <td>0.639300</td>\n",
       "      <td>0.634696</td>\n",
       "      <td>0.634233</td>\n",
       "      <td>0.639565</td>\n",
       "      <td>0.640118</td>\n",
       "      <td>0.637107</td>\n",
       "    </tr>\n",
       "  </tbody>\n",
       "</table>\n",
       "</div>"
      ],
      "text/plain": [
       "    Rank          Model-ID Feature-Selection  Accuracy  Micro-Precision  \\\n",
       "0      1  DECISIONFOREST_3             lasso  0.746313         0.746313   \n",
       "1      2             KNN_9             lasso  0.716814         0.716814   \n",
       "2      3         XGBOOST_2               pca  0.707965         0.707965   \n",
       "3      4         XGBOOST_0             lasso  0.705015         0.705015   \n",
       "4      5         XGBOOST_3             lasso  0.705015         0.705015   \n",
       "5      6         XGBOOST_1               rfe  0.705015         0.705015   \n",
       "6      7  DECISIONFOREST_2               pca  0.690265         0.690265   \n",
       "7      8             KNN_4               rfe  0.660767         0.660767   \n",
       "8      9             KNN_0             lasso  0.660767         0.660767   \n",
       "9     10             KNN_8               pca  0.651917         0.651917   \n",
       "10    11  DECISIONFOREST_1               rfe  0.640118         0.640118   \n",
       "11    12  DECISIONFOREST_0             lasso  0.640118         0.640118   \n",
       "\n",
       "    Micro-Recall  Micro-F1  Macro-Precision  Macro-Recall  Macro-F1  \\\n",
       "0       0.746313  0.746313         0.748830      0.749004  0.746310   \n",
       "1       0.716814  0.716814         0.716518      0.713522  0.714105   \n",
       "2       0.707965  0.707965         0.710048      0.702621  0.702961   \n",
       "3       0.705015  0.705015         0.706115      0.700210  0.700636   \n",
       "4       0.705015  0.705015         0.706115      0.700210  0.700636   \n",
       "5       0.705015  0.705015         0.706115      0.700210  0.700636   \n",
       "6       0.690265  0.690265         0.699996      0.695860  0.689574   \n",
       "7       0.660767  0.660767         0.659266      0.658543  0.658760   \n",
       "8       0.660767  0.660767         0.659266      0.658543  0.658760   \n",
       "9       0.651917  0.651917         0.650743      0.650943  0.650821   \n",
       "10      0.640118  0.640118         0.639300      0.634696  0.634233   \n",
       "11      0.640118  0.640118         0.639300      0.634696  0.634233   \n",
       "\n",
       "    Weighted-Precision  Weighted-Recall  Weighted-F1  \n",
       "0             0.751613         0.746313     0.746357  \n",
       "1             0.716656         0.716814     0.715829  \n",
       "2             0.709395         0.707965     0.705349  \n",
       "3             0.705736         0.705015     0.702879  \n",
       "4             0.705736         0.705015     0.702879  \n",
       "5             0.705736         0.705015     0.702879  \n",
       "6             0.703852         0.690265     0.688666  \n",
       "7             0.660283         0.660767     0.660381  \n",
       "8             0.660283         0.660767     0.660381  \n",
       "9             0.652194         0.651917     0.652033  \n",
       "10            0.639565         0.640118     0.637107  \n",
       "11            0.639565         0.640118     0.637107  "
      ]
     },
     "metadata": {},
     "output_type": "display_data"
    },
    {
     "name": "stdout",
     "output_type": "stream",
     "text": [
      "                                                                                          \r"
     ]
    },
    {
     "data": {
      "text/html": [
       "12 rows X 13 columns"
      ],
      "text/plain": [
       "<IPython.core.display.HTML object>"
      ]
     },
     "metadata": {},
     "output_type": "display_data"
    },
    {
     "name": "stdout",
     "output_type": "stream",
     "text": [
      "                                                                                          \r"
     ]
    },
    {
     "data": {
      "text/html": [
       "\n",
       "            <style>\n",
       "                .custom-div {\n",
       "                    background-color: lightgray;\n",
       "                    color: #000000;\n",
       "                    padding: 10px;\n",
       "                    border-radius: 8px;\n",
       "                    box-shadow: 0 3px 4px rgba(0 -  0 -  0 -  0.2);\n",
       "                    margin-bottom: 10px;\n",
       "                    text-align: center;\n",
       "                }\n",
       "            </style>\n",
       "        <br><div class=\"custom-div\"><h3><span style=\"color: green;\">1. Feature Exploration -> 2. Feature Engineering -> 3. Data Preparation -> 4. Model Training & Evaluation</span><center></h3></center></div>"
      ],
      "text/plain": [
       "<IPython.core.display.HTML object>"
      ]
     },
     "metadata": {},
     "output_type": "display_data"
    },
    {
     "name": "stdout",
     "output_type": "stream",
     "text": [
      "Completed: ｜⫿⫿⫿⫿⫿⫿⫿⫿⫿⫿⫿⫿⫿⫿⫿⫿⫿⫿⫿⫿⫿⫿⫿⫿⫿⫿⫿⫿⫿⫿⫿⫿⫿⫿⫿⫿⫿⫿⫿⫿⫿⫿⫿⫿⫿⫿⫿⫿⫿⫿⫿⫿⫿⫿⫿⫿⫿⫿⫿⫿｜ 100% - 21/21    \r"
     ]
    }
   ],
   "source": [
    "# Fitting train data\n",
    "aml.fit(wine_df_train, wine_df_train.quality)"
   ]
  },
  {
   "cell_type": "markdown",
   "id": "23a04eb1-68e6-48b7-95aa-442f434809da",
   "metadata": {},
   "source": [
    "## <b><span style='color:#F1A424'>| 3.</span> Leaderboard : </b>"
   ]
  },
  {
   "cell_type": "code",
   "execution_count": 18,
   "id": "77de1099-6122-4f8a-8e7f-dd67e5b4ced4",
   "metadata": {},
   "outputs": [
    {
     "data": {
      "text/html": [
       "<div>\n",
       "<style scoped>\n",
       "    .dataframe tbody tr th:only-of-type {\n",
       "        vertical-align: middle;\n",
       "    }\n",
       "\n",
       "    .dataframe tbody tr th {\n",
       "        vertical-align: top;\n",
       "    }\n",
       "\n",
       "    .dataframe thead th {\n",
       "        text-align: right;\n",
       "    }\n",
       "</style>\n",
       "<table border=\"1\" class=\"dataframe\">\n",
       "  <thead>\n",
       "    <tr style=\"text-align: right;\">\n",
       "      <th></th>\n",
       "      <th>Rank</th>\n",
       "      <th>Model-ID</th>\n",
       "      <th>Feature-Selection</th>\n",
       "      <th>Accuracy</th>\n",
       "      <th>Micro-Precision</th>\n",
       "      <th>Micro-Recall</th>\n",
       "      <th>Micro-F1</th>\n",
       "      <th>Macro-Precision</th>\n",
       "      <th>Macro-Recall</th>\n",
       "      <th>Macro-F1</th>\n",
       "      <th>Weighted-Precision</th>\n",
       "      <th>Weighted-Recall</th>\n",
       "      <th>Weighted-F1</th>\n",
       "    </tr>\n",
       "  </thead>\n",
       "  <tbody>\n",
       "    <tr>\n",
       "      <th>0</th>\n",
       "      <td>1</td>\n",
       "      <td>DECISIONFOREST_3</td>\n",
       "      <td>lasso</td>\n",
       "      <td>0.746313</td>\n",
       "      <td>0.746313</td>\n",
       "      <td>0.746313</td>\n",
       "      <td>0.746313</td>\n",
       "      <td>0.748830</td>\n",
       "      <td>0.749004</td>\n",
       "      <td>0.746310</td>\n",
       "      <td>0.751613</td>\n",
       "      <td>0.746313</td>\n",
       "      <td>0.746357</td>\n",
       "    </tr>\n",
       "    <tr>\n",
       "      <th>1</th>\n",
       "      <td>2</td>\n",
       "      <td>KNN_9</td>\n",
       "      <td>lasso</td>\n",
       "      <td>0.716814</td>\n",
       "      <td>0.716814</td>\n",
       "      <td>0.716814</td>\n",
       "      <td>0.716814</td>\n",
       "      <td>0.716518</td>\n",
       "      <td>0.713522</td>\n",
       "      <td>0.714105</td>\n",
       "      <td>0.716656</td>\n",
       "      <td>0.716814</td>\n",
       "      <td>0.715829</td>\n",
       "    </tr>\n",
       "    <tr>\n",
       "      <th>2</th>\n",
       "      <td>3</td>\n",
       "      <td>XGBOOST_2</td>\n",
       "      <td>pca</td>\n",
       "      <td>0.707965</td>\n",
       "      <td>0.707965</td>\n",
       "      <td>0.707965</td>\n",
       "      <td>0.707965</td>\n",
       "      <td>0.710048</td>\n",
       "      <td>0.702621</td>\n",
       "      <td>0.702961</td>\n",
       "      <td>0.709395</td>\n",
       "      <td>0.707965</td>\n",
       "      <td>0.705349</td>\n",
       "    </tr>\n",
       "    <tr>\n",
       "      <th>3</th>\n",
       "      <td>4</td>\n",
       "      <td>XGBOOST_0</td>\n",
       "      <td>lasso</td>\n",
       "      <td>0.705015</td>\n",
       "      <td>0.705015</td>\n",
       "      <td>0.705015</td>\n",
       "      <td>0.705015</td>\n",
       "      <td>0.706115</td>\n",
       "      <td>0.700210</td>\n",
       "      <td>0.700636</td>\n",
       "      <td>0.705736</td>\n",
       "      <td>0.705015</td>\n",
       "      <td>0.702879</td>\n",
       "    </tr>\n",
       "    <tr>\n",
       "      <th>4</th>\n",
       "      <td>5</td>\n",
       "      <td>XGBOOST_3</td>\n",
       "      <td>lasso</td>\n",
       "      <td>0.705015</td>\n",
       "      <td>0.705015</td>\n",
       "      <td>0.705015</td>\n",
       "      <td>0.705015</td>\n",
       "      <td>0.706115</td>\n",
       "      <td>0.700210</td>\n",
       "      <td>0.700636</td>\n",
       "      <td>0.705736</td>\n",
       "      <td>0.705015</td>\n",
       "      <td>0.702879</td>\n",
       "    </tr>\n",
       "    <tr>\n",
       "      <th>5</th>\n",
       "      <td>6</td>\n",
       "      <td>XGBOOST_1</td>\n",
       "      <td>rfe</td>\n",
       "      <td>0.705015</td>\n",
       "      <td>0.705015</td>\n",
       "      <td>0.705015</td>\n",
       "      <td>0.705015</td>\n",
       "      <td>0.706115</td>\n",
       "      <td>0.700210</td>\n",
       "      <td>0.700636</td>\n",
       "      <td>0.705736</td>\n",
       "      <td>0.705015</td>\n",
       "      <td>0.702879</td>\n",
       "    </tr>\n",
       "    <tr>\n",
       "      <th>6</th>\n",
       "      <td>7</td>\n",
       "      <td>DECISIONFOREST_2</td>\n",
       "      <td>pca</td>\n",
       "      <td>0.690265</td>\n",
       "      <td>0.690265</td>\n",
       "      <td>0.690265</td>\n",
       "      <td>0.690265</td>\n",
       "      <td>0.699996</td>\n",
       "      <td>0.695860</td>\n",
       "      <td>0.689574</td>\n",
       "      <td>0.703852</td>\n",
       "      <td>0.690265</td>\n",
       "      <td>0.688666</td>\n",
       "    </tr>\n",
       "    <tr>\n",
       "      <th>7</th>\n",
       "      <td>8</td>\n",
       "      <td>KNN_4</td>\n",
       "      <td>rfe</td>\n",
       "      <td>0.660767</td>\n",
       "      <td>0.660767</td>\n",
       "      <td>0.660767</td>\n",
       "      <td>0.660767</td>\n",
       "      <td>0.659266</td>\n",
       "      <td>0.658543</td>\n",
       "      <td>0.658760</td>\n",
       "      <td>0.660283</td>\n",
       "      <td>0.660767</td>\n",
       "      <td>0.660381</td>\n",
       "    </tr>\n",
       "    <tr>\n",
       "      <th>8</th>\n",
       "      <td>9</td>\n",
       "      <td>KNN_0</td>\n",
       "      <td>lasso</td>\n",
       "      <td>0.660767</td>\n",
       "      <td>0.660767</td>\n",
       "      <td>0.660767</td>\n",
       "      <td>0.660767</td>\n",
       "      <td>0.659266</td>\n",
       "      <td>0.658543</td>\n",
       "      <td>0.658760</td>\n",
       "      <td>0.660283</td>\n",
       "      <td>0.660767</td>\n",
       "      <td>0.660381</td>\n",
       "    </tr>\n",
       "    <tr>\n",
       "      <th>9</th>\n",
       "      <td>10</td>\n",
       "      <td>KNN_8</td>\n",
       "      <td>pca</td>\n",
       "      <td>0.651917</td>\n",
       "      <td>0.651917</td>\n",
       "      <td>0.651917</td>\n",
       "      <td>0.651917</td>\n",
       "      <td>0.650743</td>\n",
       "      <td>0.650943</td>\n",
       "      <td>0.650821</td>\n",
       "      <td>0.652194</td>\n",
       "      <td>0.651917</td>\n",
       "      <td>0.652033</td>\n",
       "    </tr>\n",
       "    <tr>\n",
       "      <th>10</th>\n",
       "      <td>11</td>\n",
       "      <td>DECISIONFOREST_1</td>\n",
       "      <td>rfe</td>\n",
       "      <td>0.640118</td>\n",
       "      <td>0.640118</td>\n",
       "      <td>0.640118</td>\n",
       "      <td>0.640118</td>\n",
       "      <td>0.639300</td>\n",
       "      <td>0.634696</td>\n",
       "      <td>0.634233</td>\n",
       "      <td>0.639565</td>\n",
       "      <td>0.640118</td>\n",
       "      <td>0.637107</td>\n",
       "    </tr>\n",
       "    <tr>\n",
       "      <th>11</th>\n",
       "      <td>12</td>\n",
       "      <td>DECISIONFOREST_0</td>\n",
       "      <td>lasso</td>\n",
       "      <td>0.640118</td>\n",
       "      <td>0.640118</td>\n",
       "      <td>0.640118</td>\n",
       "      <td>0.640118</td>\n",
       "      <td>0.639300</td>\n",
       "      <td>0.634696</td>\n",
       "      <td>0.634233</td>\n",
       "      <td>0.639565</td>\n",
       "      <td>0.640118</td>\n",
       "      <td>0.637107</td>\n",
       "    </tr>\n",
       "  </tbody>\n",
       "</table>\n",
       "</div>"
      ],
      "text/plain": [
       "    Rank          Model-ID Feature-Selection  Accuracy  Micro-Precision  \\\n",
       "0      1  DECISIONFOREST_3             lasso  0.746313         0.746313   \n",
       "1      2             KNN_9             lasso  0.716814         0.716814   \n",
       "2      3         XGBOOST_2               pca  0.707965         0.707965   \n",
       "3      4         XGBOOST_0             lasso  0.705015         0.705015   \n",
       "4      5         XGBOOST_3             lasso  0.705015         0.705015   \n",
       "5      6         XGBOOST_1               rfe  0.705015         0.705015   \n",
       "6      7  DECISIONFOREST_2               pca  0.690265         0.690265   \n",
       "7      8             KNN_4               rfe  0.660767         0.660767   \n",
       "8      9             KNN_0             lasso  0.660767         0.660767   \n",
       "9     10             KNN_8               pca  0.651917         0.651917   \n",
       "10    11  DECISIONFOREST_1               rfe  0.640118         0.640118   \n",
       "11    12  DECISIONFOREST_0             lasso  0.640118         0.640118   \n",
       "\n",
       "    Micro-Recall  Micro-F1  Macro-Precision  Macro-Recall  Macro-F1  \\\n",
       "0       0.746313  0.746313         0.748830      0.749004  0.746310   \n",
       "1       0.716814  0.716814         0.716518      0.713522  0.714105   \n",
       "2       0.707965  0.707965         0.710048      0.702621  0.702961   \n",
       "3       0.705015  0.705015         0.706115      0.700210  0.700636   \n",
       "4       0.705015  0.705015         0.706115      0.700210  0.700636   \n",
       "5       0.705015  0.705015         0.706115      0.700210  0.700636   \n",
       "6       0.690265  0.690265         0.699996      0.695860  0.689574   \n",
       "7       0.660767  0.660767         0.659266      0.658543  0.658760   \n",
       "8       0.660767  0.660767         0.659266      0.658543  0.658760   \n",
       "9       0.651917  0.651917         0.650743      0.650943  0.650821   \n",
       "10      0.640118  0.640118         0.639300      0.634696  0.634233   \n",
       "11      0.640118  0.640118         0.639300      0.634696  0.634233   \n",
       "\n",
       "    Weighted-Precision  Weighted-Recall  Weighted-F1  \n",
       "0             0.751613         0.746313     0.746357  \n",
       "1             0.716656         0.716814     0.715829  \n",
       "2             0.709395         0.707965     0.705349  \n",
       "3             0.705736         0.705015     0.702879  \n",
       "4             0.705736         0.705015     0.702879  \n",
       "5             0.705736         0.705015     0.702879  \n",
       "6             0.703852         0.690265     0.688666  \n",
       "7             0.660283         0.660767     0.660381  \n",
       "8             0.660283         0.660767     0.660381  \n",
       "9             0.652194         0.651917     0.652033  \n",
       "10            0.639565         0.640118     0.637107  \n",
       "11            0.639565         0.640118     0.637107  "
      ]
     },
     "execution_count": 18,
     "metadata": {},
     "output_type": "execute_result"
    }
   ],
   "source": [
    "# Fetching Leaderboard\n",
    "aml.leaderboard()"
   ]
  },
  {
   "cell_type": "markdown",
   "id": "a7a3aa08-e349-4a61-9217-2c17d50411d8",
   "metadata": {},
   "source": [
    "## <b><span style='color:#F1A424'>| 4.</span> Best Performing Model : </b>"
   ]
  },
  {
   "cell_type": "code",
   "execution_count": 19,
   "id": "c4c32832-a76b-4f42-826a-cefc38a6301b",
   "metadata": {},
   "outputs": [
    {
     "data": {
      "text/html": [
       "<div>\n",
       "<style scoped>\n",
       "    .dataframe tbody tr th:only-of-type {\n",
       "        vertical-align: middle;\n",
       "    }\n",
       "\n",
       "    .dataframe tbody tr th {\n",
       "        vertical-align: top;\n",
       "    }\n",
       "\n",
       "    .dataframe thead th {\n",
       "        text-align: right;\n",
       "    }\n",
       "</style>\n",
       "<table border=\"1\" class=\"dataframe\">\n",
       "  <thead>\n",
       "    <tr style=\"text-align: right;\">\n",
       "      <th></th>\n",
       "      <th>Rank</th>\n",
       "      <th>Model-ID</th>\n",
       "      <th>Feature-Selection</th>\n",
       "      <th>Accuracy</th>\n",
       "      <th>Micro-Precision</th>\n",
       "      <th>Micro-Recall</th>\n",
       "      <th>Micro-F1</th>\n",
       "      <th>Macro-Precision</th>\n",
       "      <th>Macro-Recall</th>\n",
       "      <th>Macro-F1</th>\n",
       "      <th>Weighted-Precision</th>\n",
       "      <th>Weighted-Recall</th>\n",
       "      <th>Weighted-F1</th>\n",
       "    </tr>\n",
       "  </thead>\n",
       "  <tbody>\n",
       "    <tr>\n",
       "      <th>0</th>\n",
       "      <td>1</td>\n",
       "      <td>DECISIONFOREST_3</td>\n",
       "      <td>lasso</td>\n",
       "      <td>0.746313</td>\n",
       "      <td>0.746313</td>\n",
       "      <td>0.746313</td>\n",
       "      <td>0.746313</td>\n",
       "      <td>0.74883</td>\n",
       "      <td>0.749004</td>\n",
       "      <td>0.74631</td>\n",
       "      <td>0.751613</td>\n",
       "      <td>0.746313</td>\n",
       "      <td>0.746357</td>\n",
       "    </tr>\n",
       "  </tbody>\n",
       "</table>\n",
       "</div>"
      ],
      "text/plain": [
       "   Rank          Model-ID Feature-Selection  Accuracy  Micro-Precision  \\\n",
       "0     1  DECISIONFOREST_3             lasso  0.746313         0.746313   \n",
       "\n",
       "   Micro-Recall  Micro-F1  Macro-Precision  Macro-Recall  Macro-F1  \\\n",
       "0      0.746313  0.746313          0.74883      0.749004   0.74631   \n",
       "\n",
       "   Weighted-Precision  Weighted-Recall  Weighted-F1  \n",
       "0            0.751613         0.746313     0.746357  "
      ]
     },
     "metadata": {},
     "output_type": "display_data"
    }
   ],
   "source": [
    "# Fetching best performing model for dataset\n",
    "aml.leader()"
   ]
  },
  {
   "cell_type": "markdown",
   "id": "e43181a9-3847-4e8b-b510-6da81f1c550f",
   "metadata": {},
   "source": [
    "## <b><span style='color:#F1A424'>| 5.</span> Generating Prediction : </b>"
   ]
  },
  {
   "cell_type": "code",
   "execution_count": 22,
   "id": "5b6edfe3-bd5a-46bd-ad80-b20fadfed7a0",
   "metadata": {},
   "outputs": [
    {
     "name": "stdout",
     "output_type": "stream",
     "text": [
      "Data Transformation started ...\n",
      "                                                                                                \r"
     ]
    },
    {
     "data": {
      "text/html": [
       "Performing transformation carried out in feature engineering phase ..."
      ],
      "text/plain": [
       "<IPython.core.display.HTML object>"
      ]
     },
     "metadata": {},
     "output_type": "display_data"
    },
    {
     "name": "stdout",
     "output_type": "stream",
     "text": [
      "result data stored in table '\"ALICE\".\"ml__td_sqlmr_persist_out__1719265245513884\"'⫾⫾⫾｜ 13% - 2/15\n",
      "                                                                                                 \r"
     ]
    },
    {
     "data": {
      "text/html": [
       "\n",
       "Updated dataset after performing target column transformation :"
      ],
      "text/plain": [
       "<IPython.core.display.HTML object>"
      ]
     },
     "metadata": {},
     "output_type": "display_data"
    },
    {
     "data": {
      "text/html": [
       "<style type=\"text/css\">\n",
       "\ttable {border:ridge 5px;}\n",
       "\ttable td {border:inset 1px;}\n",
       "\ttable tr#HeaderRow {background-color:grey; color:white;}</style>\n",
       "<html><table>\n",
       "\t<tr id=\"HeaderRow\">\n",
       "\t\t<th>free_sulfur_dioxide</th>\n",
       "\t\t<th>volatile_acidity</th>\n",
       "\t\t<th>total_sulfur_dioxide</th>\n",
       "\t\t<th>id</th>\n",
       "\t\t<th>density</th>\n",
       "\t\t<th>alcohol</th>\n",
       "\t\t<th>chlorides</th>\n",
       "\t\t<th>pH</th>\n",
       "\t\t<th>sulphates</th>\n",
       "\t\t<th>residual_sugar</th>\n",
       "\t\t<th>citric_acid</th>\n",
       "\t\t<th>fixed_acidity</th>\n",
       "\t\t<th>quality</th>\n",
       "\t</tr>\n",
       "\t<tr>\n",
       "\t\t<td>16.0</td>\n",
       "\t\t<td>0.62</td>\n",
       "\t\t<td>37.0</td>\n",
       "\t\t<td>242</td>\n",
       "\t\t<td>0.9972</td>\n",
       "\t\t<td>10.7</td>\n",
       "\t\t<td>0.088</td>\n",
       "\t\t<td>3.31</td>\n",
       "\t\t<td>0.58</td>\n",
       "\t\t<td>2.7</td>\n",
       "\t\t<td>0.33</td>\n",
       "\t\t<td>8.0</td>\n",
       "\t\t<td>1</td>\n",
       "\t</tr>\n",
       "\t<tr>\n",
       "\t\t<td>9.0</td>\n",
       "\t\t<td>0.64</td>\n",
       "\t\t<td>17.0</td>\n",
       "\t\t<td>287</td>\n",
       "\t\t<td>0.99496</td>\n",
       "\t\t<td>10.6</td>\n",
       "\t\t<td>0.066</td>\n",
       "\t\t<td>3.52</td>\n",
       "\t\t<td>0.78</td>\n",
       "\t\t<td>1.9</td>\n",
       "\t\t<td>0.05</td>\n",
       "\t\t<td>6.0</td>\n",
       "\t\t<td>0</td>\n",
       "\t</tr>\n",
       "\t<tr>\n",
       "\t\t<td>9.0</td>\n",
       "\t\t<td>0.58</td>\n",
       "\t\t<td>104.0</td>\n",
       "\t\t<td>30</td>\n",
       "\t\t<td>0.99779</td>\n",
       "\t\t<td>9.7</td>\n",
       "\t\t<td>0.075</td>\n",
       "\t\t<td>3.23</td>\n",
       "\t\t<td>0.57</td>\n",
       "\t\t<td>2.8</td>\n",
       "\t\t<td>0.25</td>\n",
       "\t\t<td>9.0</td>\n",
       "\t\t<td>0</td>\n",
       "\t</tr>\n",
       "\t<tr>\n",
       "\t\t<td>50.0</td>\n",
       "\t\t<td>0.63</td>\n",
       "\t\t<td>110.0</td>\n",
       "\t\t<td>17</td>\n",
       "\t\t<td>0.9983</td>\n",
       "\t\t<td>9.4</td>\n",
       "\t\t<td>0.111</td>\n",
       "\t\t<td>3.26</td>\n",
       "\t\t<td>0.77</td>\n",
       "\t\t<td>5.1</td>\n",
       "\t\t<td>0.12</td>\n",
       "\t\t<td>7.5</td>\n",
       "\t\t<td>0</td>\n",
       "\t</tr>\n",
       "\t<tr>\n",
       "\t\t<td>55.0</td>\n",
       "\t\t<td>0.54</td>\n",
       "\t\t<td>95.0</td>\n",
       "\t\t<td>359</td>\n",
       "\t\t<td>1.00369</td>\n",
       "\t\t<td>9.0</td>\n",
       "\t\t<td>0.214</td>\n",
       "\t\t<td>3.18</td>\n",
       "\t\t<td>0.77</td>\n",
       "\t\t<td>15.4</td>\n",
       "\t\t<td>0.37</td>\n",
       "\t\t<td>10.2</td>\n",
       "\t\t<td>1</td>\n",
       "\t</tr>\n",
       "\t<tr>\n",
       "\t\t<td>12.0</td>\n",
       "\t\t<td>0.695</td>\n",
       "\t\t<td>20.0</td>\n",
       "\t\t<td>132</td>\n",
       "\t\t<td>0.99546</td>\n",
       "\t\t<td>10.1</td>\n",
       "\t\t<td>0.076</td>\n",
       "\t\t<td>3.29</td>\n",
       "\t\t<td>0.54</td>\n",
       "\t\t<td>2.0</td>\n",
       "\t\t<td>0.13</td>\n",
       "\t\t<td>7.2</td>\n",
       "\t\t<td>0</td>\n",
       "\t</tr>\n",
       "\t<tr>\n",
       "\t\t<td>20.0</td>\n",
       "\t\t<td>0.6</td>\n",
       "\t\t<td>110.0</td>\n",
       "\t\t<td>191</td>\n",
       "\t\t<td>0.99914</td>\n",
       "\t\t<td>10.2</td>\n",
       "\t\t<td>0.068</td>\n",
       "\t\t<td>3.3</td>\n",
       "\t\t<td>1.17</td>\n",
       "\t\t<td>4.5</td>\n",
       "\t\t<td>0.3</td>\n",
       "\t\t<td>7.0</td>\n",
       "\t\t<td>0</td>\n",
       "\t</tr>\n",
       "\t<tr>\n",
       "\t\t<td>20.0</td>\n",
       "\t\t<td>0.34</td>\n",
       "\t\t<td>78.0</td>\n",
       "\t\t<td>343</td>\n",
       "\t\t<td>0.9992</td>\n",
       "\t\t<td>10.0</td>\n",
       "\t\t<td>0.078</td>\n",
       "\t\t<td>3.19</td>\n",
       "\t\t<td>0.7</td>\n",
       "\t\t<td>3.2</td>\n",
       "\t\t<td>0.49</td>\n",
       "\t\t<td>10.6</td>\n",
       "\t\t<td>1</td>\n",
       "\t</tr>\n",
       "\t<tr>\n",
       "\t\t<td>3.0</td>\n",
       "\t\t<td>0.38</td>\n",
       "\t\t<td>11.0</td>\n",
       "\t\t<td>223</td>\n",
       "\t\t<td>0.99577</td>\n",
       "\t\t<td>13.2</td>\n",
       "\t\t<td>0.132</td>\n",
       "\t\t<td>3.23</td>\n",
       "\t\t<td>0.57</td>\n",
       "\t\t<td>3.8</td>\n",
       "\t\t<td>0.48</td>\n",
       "\t\t<td>9.3</td>\n",
       "\t\t<td>1</td>\n",
       "\t</tr>\n",
       "\t<tr>\n",
       "\t\t<td>3.0</td>\n",
       "\t\t<td>0.395</td>\n",
       "\t\t<td>10.0</td>\n",
       "\t\t<td>420</td>\n",
       "\t\t<td>0.99639</td>\n",
       "\t\t<td>12.2</td>\n",
       "\t\t<td>0.094</td>\n",
       "\t\t<td>3.27</td>\n",
       "\t\t<td>0.64</td>\n",
       "\t\t<td>4.6</td>\n",
       "\t\t<td>0.46</td>\n",
       "\t\t<td>9.4</td>\n",
       "\t\t<td>1</td>\n",
       "\t</tr>\n",
       "</table></html>"
      ],
      "text/plain": [
       "   free_sulfur_dioxide  volatile_acidity  total_sulfur_dioxide   id  density  alcohol  chlorides    pH  sulphates  residual_sugar  citric_acid  fixed_acidity  quality\n",
       "0                 16.0             0.620                  37.0  242  0.99720     10.7      0.088  3.31       0.58             2.7         0.33            8.0        1\n",
       "1                  9.0             0.640                  17.0  287  0.99496     10.6      0.066  3.52       0.78             1.9         0.05            6.0        0\n",
       "2                  9.0             0.580                 104.0   30  0.99779      9.7      0.075  3.23       0.57             2.8         0.25            9.0        0\n",
       "3                 50.0             0.630                 110.0   17  0.99830      9.4      0.111  3.26       0.77             5.1         0.12            7.5        0\n",
       "4                 55.0             0.540                  95.0  359  1.00369      9.0      0.214  3.18       0.77            15.4         0.37           10.2        1\n",
       "5                 12.0             0.695                  20.0  132  0.99546     10.1      0.076  3.29       0.54             2.0         0.13            7.2        0\n",
       "6                 20.0             0.600                 110.0  191  0.99914     10.2      0.068  3.30       1.17             4.5         0.30            7.0        0\n",
       "7                 20.0             0.340                  78.0  343  0.99920     10.0      0.078  3.19       0.70             3.2         0.49           10.6        1\n",
       "8                  3.0             0.380                  11.0  223  0.99577     13.2      0.132  3.23       0.57             3.8         0.48            9.3        1\n",
       "9                  3.0             0.395                  10.0  420  0.99639     12.2      0.094  3.27       0.64             4.6         0.46            9.4        1"
      ]
     },
     "metadata": {},
     "output_type": "display_data"
    },
    {
     "name": "stdout",
     "output_type": "stream",
     "text": [
      "                                                                                                 \r"
     ]
    },
    {
     "data": {
      "text/html": [
       "320 rows X 13 columns"
      ],
      "text/plain": [
       "<IPython.core.display.HTML object>"
      ]
     },
     "metadata": {},
     "output_type": "display_data"
    },
    {
     "name": "stdout",
     "output_type": "stream",
     "text": [
      "                                                                                                  \r"
     ]
    },
    {
     "data": {
      "text/html": [
       "Performing transformation carried out in data preparation phase ..."
      ],
      "text/plain": [
       "<IPython.core.display.HTML object>"
      ]
     },
     "metadata": {},
     "output_type": "display_data"
    },
    {
     "name": "stdout",
     "output_type": "stream",
     "text": [
      "result data stored in table '\"ALICE\".\"ml__td_sqlmr_persist_out__1719265794656251\"'⫾⫾⫾｜ 73% - 11/15\n",
      "                                                                                                  \r"
     ]
    },
    {
     "data": {
      "text/html": [
       "\n",
       "Updated dataset after performing Lasso feature selection:"
      ],
      "text/plain": [
       "<IPython.core.display.HTML object>"
      ]
     },
     "metadata": {},
     "output_type": "display_data"
    },
    {
     "data": {
      "text/html": [
       "<style type=\"text/css\">\n",
       "\ttable {border:ridge 5px;}\n",
       "\ttable td {border:inset 1px;}\n",
       "\ttable tr#HeaderRow {background-color:grey; color:white;}</style>\n",
       "<html><table>\n",
       "\t<tr id=\"HeaderRow\">\n",
       "\t\t<th>id</th>\n",
       "\t\t<th>free_sulfur_dioxide</th>\n",
       "\t\t<th>volatile_acidity</th>\n",
       "\t\t<th>total_sulfur_dioxide</th>\n",
       "\t\t<th>density</th>\n",
       "\t\t<th>alcohol</th>\n",
       "\t\t<th>chlorides</th>\n",
       "\t\t<th>pH</th>\n",
       "\t\t<th>sulphates</th>\n",
       "\t\t<th>residual_sugar</th>\n",
       "\t\t<th>citric_acid</th>\n",
       "\t\t<th>fixed_acidity</th>\n",
       "\t\t<th>quality</th>\n",
       "\t</tr>\n",
       "\t<tr>\n",
       "\t\t<td>266</td>\n",
       "\t\t<td>10.0</td>\n",
       "\t\t<td>0.33</td>\n",
       "\t\t<td>19.0</td>\n",
       "\t\t<td>0.9947</td>\n",
       "\t\t<td>12.0</td>\n",
       "\t\t<td>0.063</td>\n",
       "\t\t<td>3.3</td>\n",
       "\t\t<td>0.73</td>\n",
       "\t\t<td>3.3</td>\n",
       "\t\t<td>0.38</td>\n",
       "\t\t<td>8.7</td>\n",
       "\t\t<td>1</td>\n",
       "\t</tr>\n",
       "\t<tr>\n",
       "\t\t<td>298</td>\n",
       "\t\t<td>10.0</td>\n",
       "\t\t<td>0.34</td>\n",
       "\t\t<td>21.0</td>\n",
       "\t\t<td>1.0</td>\n",
       "\t\t<td>9.2</td>\n",
       "\t\t<td>0.066</td>\n",
       "\t\t<td>3.12</td>\n",
       "\t\t<td>1.18</td>\n",
       "\t\t<td>2.4</td>\n",
       "\t\t<td>0.5</td>\n",
       "\t\t<td>12.2</td>\n",
       "\t\t<td>1</td>\n",
       "\t</tr>\n",
       "\t<tr>\n",
       "\t\t<td>121</td>\n",
       "\t\t<td>10.0</td>\n",
       "\t\t<td>0.35</td>\n",
       "\t\t<td>37.0</td>\n",
       "\t\t<td>1.0003</td>\n",
       "\t\t<td>11.0</td>\n",
       "\t\t<td>0.07</td>\n",
       "\t\t<td>3.32</td>\n",
       "\t\t<td>0.91</td>\n",
       "\t\t<td>3.3</td>\n",
       "\t\t<td>0.49</td>\n",
       "\t\t<td>11.5</td>\n",
       "\t\t<td>1</td>\n",
       "\t</tr>\n",
       "\t<tr>\n",
       "\t\t<td>391</td>\n",
       "\t\t<td>10.0</td>\n",
       "\t\t<td>0.36</td>\n",
       "\t\t<td>41.0</td>\n",
       "\t\t<td>0.998</td>\n",
       "\t\t<td>12.5</td>\n",
       "\t\t<td>0.122</td>\n",
       "\t\t<td>3.23</td>\n",
       "\t\t<td>0.66</td>\n",
       "\t\t<td>2.9</td>\n",
       "\t\t<td>0.64</td>\n",
       "\t\t<td>10.2</td>\n",
       "\t\t<td>1</td>\n",
       "\t</tr>\n",
       "\t<tr>\n",
       "\t\t<td>319</td>\n",
       "\t\t<td>10.0</td>\n",
       "\t\t<td>0.38</td>\n",
       "\t\t<td>41.0</td>\n",
       "\t\t<td>1.001</td>\n",
       "\t\t<td>9.8</td>\n",
       "\t\t<td>0.088</td>\n",
       "\t\t<td>3.17</td>\n",
       "\t\t<td>0.68</td>\n",
       "\t\t<td>2.6</td>\n",
       "\t\t<td>0.66</td>\n",
       "\t\t<td>12.6</td>\n",
       "\t\t<td>1</td>\n",
       "\t</tr>\n",
       "\t<tr>\n",
       "\t\t<td>64</td>\n",
       "\t\t<td>7.0</td>\n",
       "\t\t<td>0.55</td>\n",
       "\t\t<td>17.0</td>\n",
       "\t\t<td>0.9966</td>\n",
       "\t\t<td>9.4</td>\n",
       "\t\t<td>0.07</td>\n",
       "\t\t<td>3.26</td>\n",
       "\t\t<td>0.64</td>\n",
       "\t\t<td>1.7</td>\n",
       "\t\t<td>0.0</td>\n",
       "\t\t<td>7.8</td>\n",
       "\t\t<td>1</td>\n",
       "\t</tr>\n",
       "\t<tr>\n",
       "\t\t<td>59</td>\n",
       "\t\t<td>14.0</td>\n",
       "\t\t<td>0.39</td>\n",
       "\t\t<td>67.0</td>\n",
       "\t\t<td>0.9972</td>\n",
       "\t\t<td>9.2</td>\n",
       "\t\t<td>0.082</td>\n",
       "\t\t<td>3.34</td>\n",
       "\t\t<td>0.55</td>\n",
       "\t\t<td>2.0</td>\n",
       "\t\t<td>0.48</td>\n",
       "\t\t<td>7.4</td>\n",
       "\t\t<td>0</td>\n",
       "\t</tr>\n",
       "\t<tr>\n",
       "\t\t<td>214</td>\n",
       "\t\t<td>8.0</td>\n",
       "\t\t<td>0.7</td>\n",
       "\t\t<td>16.0</td>\n",
       "\t\t<td>0.9933</td>\n",
       "\t\t<td>12.6</td>\n",
       "\t\t<td>0.067</td>\n",
       "\t\t<td>3.43</td>\n",
       "\t\t<td>0.52</td>\n",
       "\t\t<td>3.75</td>\n",
       "\t\t<td>0.08</td>\n",
       "\t\t<td>6.7</td>\n",
       "\t\t<td>0</td>\n",
       "\t</tr>\n",
       "\t<tr>\n",
       "\t\t<td>139</td>\n",
       "\t\t<td>8.0</td>\n",
       "\t\t<td>0.775</td>\n",
       "\t\t<td>86.0</td>\n",
       "\t\t<td>0.9959</td>\n",
       "\t\t<td>9.5</td>\n",
       "\t\t<td>0.092</td>\n",
       "\t\t<td>3.23</td>\n",
       "\t\t<td>0.59</td>\n",
       "\t\t<td>1.9</td>\n",
       "\t\t<td>0.42</td>\n",
       "\t\t<td>7.7</td>\n",
       "\t\t<td>0</td>\n",
       "\t</tr>\n",
       "\t<tr>\n",
       "\t\t<td>51</td>\n",
       "\t\t<td>8.0</td>\n",
       "\t\t<td>0.64</td>\n",
       "\t\t<td>23.0</td>\n",
       "\t\t<td>0.9961</td>\n",
       "\t\t<td>9.6</td>\n",
       "\t\t<td>0.1</td>\n",
       "\t\t<td>3.3</td>\n",
       "\t\t<td>0.58</td>\n",
       "\t\t<td>1.8</td>\n",
       "\t\t<td>0.07</td>\n",
       "\t\t<td>7.4</td>\n",
       "\t\t<td>0</td>\n",
       "\t</tr>\n",
       "</table></html>"
      ],
      "text/plain": [
       "          id  free_sulfur_dioxide  volatile_acidity  total_sulfur_dioxide  density  alcohol  chlorides    pH  sulphates  residual_sugar  citric_acid  fixed_acidity\n",
       "quality                                                                                                                                                            \n",
       "1        266                 10.0             0.330                  19.0   0.9947     12.0      0.063  3.30       0.73            3.30         0.38            8.7\n",
       "1        298                 10.0             0.340                  21.0   1.0000      9.2      0.066  3.12       1.18            2.40         0.50           12.2\n",
       "1        121                 10.0             0.350                  37.0   1.0003     11.0      0.070  3.32       0.91            3.30         0.49           11.5\n",
       "1        391                 10.0             0.360                  41.0   0.9980     12.5      0.122  3.23       0.66            2.90         0.64           10.2\n",
       "1        319                 10.0             0.380                  41.0   1.0010      9.8      0.088  3.17       0.68            2.60         0.66           12.6\n",
       "1         64                  7.0             0.550                  17.0   0.9966      9.4      0.070  3.26       0.64            1.70         0.00            7.8\n",
       "0         59                 14.0             0.390                  67.0   0.9972      9.2      0.082  3.34       0.55            2.00         0.48            7.4\n",
       "0        214                  8.0             0.700                  16.0   0.9933     12.6      0.067  3.43       0.52            3.75         0.08            6.7\n",
       "0        139                  8.0             0.775                  86.0   0.9959      9.5      0.092  3.23       0.59            1.90         0.42            7.7\n",
       "0         51                  8.0             0.640                  23.0   0.9961      9.6      0.100  3.30       0.58            1.80         0.07            7.4"
      ]
     },
     "metadata": {},
     "output_type": "display_data"
    },
    {
     "name": "stdout",
     "output_type": "stream",
     "text": [
      "                                                                                                  \r"
     ]
    },
    {
     "data": {
      "text/html": [
       "320 rows X 13 columns"
      ],
      "text/plain": [
       "<IPython.core.display.HTML object>"
      ]
     },
     "metadata": {},
     "output_type": "display_data"
    },
    {
     "name": "stdout",
     "output_type": "stream",
     "text": [
      "                                                                                                  \r"
     ]
    },
    {
     "data": {
      "text/html": [
       "\n",
       "Updated dataset after performing scaling on Lasso selected features :"
      ],
      "text/plain": [
       "<IPython.core.display.HTML object>"
      ]
     },
     "metadata": {},
     "output_type": "display_data"
    },
    {
     "data": {
      "text/html": [
       "<style type=\"text/css\">\n",
       "\ttable {border:ridge 5px;}\n",
       "\ttable td {border:inset 1px;}\n",
       "\ttable tr#HeaderRow {background-color:grey; color:white;}</style>\n",
       "<html><table>\n",
       "\t<tr id=\"HeaderRow\">\n",
       "\t\t<th>quality</th>\n",
       "\t\t<th>id</th>\n",
       "\t\t<th>free_sulfur_dioxide</th>\n",
       "\t\t<th>volatile_acidity</th>\n",
       "\t\t<th>total_sulfur_dioxide</th>\n",
       "\t\t<th>density</th>\n",
       "\t\t<th>alcohol</th>\n",
       "\t\t<th>chlorides</th>\n",
       "\t\t<th>pH</th>\n",
       "\t\t<th>sulphates</th>\n",
       "\t\t<th>residual_sugar</th>\n",
       "\t\t<th>citric_acid</th>\n",
       "\t\t<th>fixed_acidity</th>\n",
       "\t</tr>\n",
       "\t<tr>\n",
       "\t\t<td>0</td>\n",
       "\t\t<td>139</td>\n",
       "\t\t<td>-0.7494746242880994</td>\n",
       "\t\t<td>1.3993386015297622</td>\n",
       "\t\t<td>1.299466302090495</td>\n",
       "\t\t<td>-0.4719781994122068</td>\n",
       "\t\t<td>-0.8507544458020982</td>\n",
       "\t\t<td>0.026711343524681543</td>\n",
       "\t\t<td>-0.5001122058429912</td>\n",
       "\t\t<td>-0.41984979304054704</td>\n",
       "\t\t<td>-0.666820854722434</td>\n",
       "\t\t<td>0.705980225951381</td>\n",
       "\t\t<td>-0.3776351456476726</td>\n",
       "\t</tr>\n",
       "\t<tr>\n",
       "\t\t<td>0</td>\n",
       "\t\t<td>48</td>\n",
       "\t\t<td>0.9293485341172434</td>\n",
       "\t\t<td>1.9743597965675812</td>\n",
       "\t\t<td>0.6898297972482705</td>\n",
       "\t\t<td>0.03052442693624215</td>\n",
       "\t\t<td>-0.569025763324186</td>\n",
       "\t\t<td>0.13316677100261165</td>\n",
       "\t\t<td>-0.6953302679629275</td>\n",
       "\t\t<td>0.10055426371345687</td>\n",
       "\t\t<td>0.49215563766008447</td>\n",
       "\t\t<td>-1.4474566643807683</td>\n",
       "\t\t<td>-0.3206099670474865</td>\n",
       "\t</tr>\n",
       "\t<tr>\n",
       "\t\t<td>0</td>\n",
       "\t\t<td>263</td>\n",
       "\t\t<td>0.9293485341172434</td>\n",
       "\t\t<td>0.49573386647033213</td>\n",
       "\t\t<td>1.3315524339242963</td>\n",
       "\t\t<td>1.7055331814310513</td>\n",
       "\t\t<td>-0.6629353241501579</td>\n",
       "\t\t<td>-0.008773798967961823</td>\n",
       "\t\t<td>-0.43503951846967714</td>\n",
       "\t\t<td>-0.24638177412254575</td>\n",
       "\t\t<td>1.8167002003829622</td>\n",
       "\t\t<td>-0.11437668465134239</td>\n",
       "\t\t<td>0.5347677119553075</td>\n",
       "\t</tr>\n",
       "\t<tr>\n",
       "\t\t<td>0</td>\n",
       "\t\t<td>228</td>\n",
       "\t\t<td>1.620628658166502</td>\n",
       "\t\t<td>0.38620601979646174</td>\n",
       "\t\t<td>0.8181743245834757</td>\n",
       "\t\t<td>1.9288676820303343</td>\n",
       "\t\t<td>-0.569025763324186</td>\n",
       "\t\t<td>0.20413705598789814</td>\n",
       "\t\t<td>0.020469293143509544</td>\n",
       "\t\t<td>0.27402228263145756</td>\n",
       "\t\t<td>1.8167002003829622</td>\n",
       "\t\t<td>-1.0885505159920765</td>\n",
       "\t\t<td>0.8769187835564247</td>\n",
       "\t</tr>\n",
       "\t<tr>\n",
       "\t\t<td>0</td>\n",
       "\t\t<td>130</td>\n",
       "\t\t<td>2.2131544787801523</td>\n",
       "\t\t<td>-1.8591148370178792</td>\n",
       "\t\t<td>0.6898297972482705</td>\n",
       "\t\t<td>-0.41614457426238605</td>\n",
       "\t\t<td>0.8396176490653725</td>\n",
       "\t\t<td>-0.7362192200671501</td>\n",
       "\t\t<td>0.15061466789013472</td>\n",
       "\t\t<td>1.5461210880301333</td>\n",
       "\t\t<td>-0.17011664370135438</td>\n",
       "\t\t<td>0.6034356121260408</td>\n",
       "\t\t<td>-0.2635847884473</td>\n",
       "\t</tr>\n",
       "\t<tr>\n",
       "\t\t<td>0</td>\n",
       "\t\t<td>274</td>\n",
       "\t\t<td>0.830594230681635</td>\n",
       "\t\t<td>1.7553041032198404</td>\n",
       "\t\t<td>-0.4010986851009733</td>\n",
       "\t\t<td>-0.7511463251613727</td>\n",
       "\t\t<td>-0.6629353241501579</td>\n",
       "\t\t<td>-0.4523380801260034</td>\n",
       "\t\t<td>-0.2398214563497408</td>\n",
       "\t\t<td>-0.6511404849312148</td>\n",
       "\t\t<td>-1.4946612064242328</td>\n",
       "\t\t<td>-1.4474566643807683</td>\n",
       "\t\t<td>0.1926166403541893</td>\n",
       "\t</tr>\n",
       "\t<tr>\n",
       "\t\t<td>1</td>\n",
       "\t\t<td>468</td>\n",
       "\t\t<td>1.4231200512952853</td>\n",
       "\t\t<td>1.3719566398612946</td>\n",
       "\t\t<td>0.9144327200848795</td>\n",
       "\t\t<td>1.0913633047829607</td>\n",
       "\t\t<td>-0.005568398368362888</td>\n",
       "\t\t<td>-0.15071436893853504</td>\n",
       "\t\t<td>-0.04460339422980449</td>\n",
       "\t\t<td>-0.13073642817721154</td>\n",
       "\t\t<td>0.9888598486811635</td>\n",
       "\t\t<td>-0.8321889814287255</td>\n",
       "\t\t<td>0.7058432477558656</td>\n",
       "\t</tr>\n",
       "\t<tr>\n",
       "\t\t<td>1</td>\n",
       "\t\t<td>53</td>\n",
       "\t\t<td>-0.5519660174168826</td>\n",
       "\t\t<td>-0.4900167535945005</td>\n",
       "\t\t<td>-0.7219600034389863</td>\n",
       "\t\t<td>1.817200431730693</td>\n",
       "\t\t<td>-0.005568398368362888</td>\n",
       "\t\t<td>0.3283350547121499</td>\n",
       "\t\t<td>-1.020693704829492</td>\n",
       "\t\t<td>1.0835397042487964</td>\n",
       "\t\t<td>1.3199959893618833</td>\n",
       "\t\t<td>1.9365155918554666</td>\n",
       "\t\t<td>2.0174223555601496</td>\n",
       "\t</tr>\n",
       "\t<tr>\n",
       "\t\t<td>1</td>\n",
       "\t\t<td>266</td>\n",
       "\t\t<td>-0.5519660174168826</td>\n",
       "\t\t<td>-1.0376559869638518</td>\n",
       "\t\t<td>-0.8503045307741913</td>\n",
       "\t\t<td>-1.141981701210118</td>\n",
       "\t\t<td>1.4969845748471657</td>\n",
       "\t\t<td>-0.48782322261864675</td>\n",
       "\t\t<td>-0.04460339422980449</td>\n",
       "\t\t<td>0.38966762857679177</td>\n",
       "\t\t<td>1.6511321300426023</td>\n",
       "\t\t<td>0.5008909983007003</td>\n",
       "\t\t<td>0.1926166403541893</td>\n",
       "\t</tr>\n",
       "\t<tr>\n",
       "\t\t<td>1</td>\n",
       "\t\t<td>364</td>\n",
       "\t\t<td>-0.5519660174168826</td>\n",
       "\t\t<td>-0.3804889069206301</td>\n",
       "\t\t<td>-0.8823906626079927</td>\n",
       "\t\t<td>0.5330270532846911</td>\n",
       "\t\t<td>-1.0385735674540388</td>\n",
       "\t\t<td>-0.15071436893853504</td>\n",
       "\t\t<td>-0.5651848932163023</td>\n",
       "\t\t<td>-0.07291375520454443</td>\n",
       "\t\t<td>-0.666820854722434</td>\n",
       "\t\t<td>-0.26819360538935305</td>\n",
       "\t\t<td>0.9909691407567968</td>\n",
       "\t</tr>\n",
       "</table></html>"
      ],
      "text/plain": [
       "   quality   id  free_sulfur_dioxide  volatile_acidity  total_sulfur_dioxide   density   alcohol  chlorides        pH  sulphates  residual_sugar  citric_acid  fixed_acidity\n",
       "0        0  139            -0.749475          1.399339              1.299466 -0.471978 -0.850754   0.026711 -0.500112  -0.419850       -0.666821     0.705980      -0.377635\n",
       "1        0   48             0.929349          1.974360              0.689830  0.030524 -0.569026   0.133167 -0.695330   0.100554        0.492156    -1.447457      -0.320610\n",
       "2        0  263             0.929349          0.495734              1.331552  1.705533 -0.662935  -0.008774 -0.435040  -0.246382        1.816700    -0.114377       0.534768\n",
       "3        0  228             1.620629          0.386206              0.818174  1.928868 -0.569026   0.204137  0.020469   0.274022        1.816700    -1.088551       0.876919\n",
       "4        0  130             2.213154         -1.859115              0.689830 -0.416145  0.839618  -0.736219  0.150615   1.546121       -0.170117     0.603436      -0.263585\n",
       "5        0  274             0.830594          1.755304             -0.401099 -0.751146 -0.662935  -0.452338 -0.239821  -0.651140       -1.494661    -1.447457       0.192617\n",
       "6        1  468             1.423120          1.371957              0.914433  1.091363 -0.005568  -0.150714 -0.044603  -0.130736        0.988860    -0.832189       0.705843\n",
       "7        1   53            -0.551966         -0.490017             -0.721960  1.817200 -0.005568   0.328335 -1.020694   1.083540        1.319996     1.936516       2.017422\n",
       "8        1  266            -0.551966         -1.037656             -0.850305 -1.141982  1.496985  -0.487823 -0.044603   0.389668        1.651132     0.500891       0.192617\n",
       "9        1  364            -0.551966         -0.380489             -0.882391  0.533027 -1.038574  -0.150714 -0.565185  -0.072914       -0.666821    -0.268194       0.990969"
      ]
     },
     "metadata": {},
     "output_type": "display_data"
    },
    {
     "name": "stdout",
     "output_type": "stream",
     "text": [
      "                                                                                                  \r"
     ]
    },
    {
     "data": {
      "text/html": [
       "320 rows X 13 columns"
      ],
      "text/plain": [
       "<IPython.core.display.HTML object>"
      ]
     },
     "metadata": {},
     "output_type": "display_data"
    },
    {
     "name": "stdout",
     "output_type": "stream",
     "text": [
      "                                                                                                  \r"
     ]
    },
    {
     "data": {
      "text/html": [
       "\n",
       "Updated dataset after performing RFE feature selection:"
      ],
      "text/plain": [
       "<IPython.core.display.HTML object>"
      ]
     },
     "metadata": {},
     "output_type": "display_data"
    },
    {
     "data": {
      "text/html": [
       "<style type=\"text/css\">\n",
       "\ttable {border:ridge 5px;}\n",
       "\ttable td {border:inset 1px;}\n",
       "\ttable tr#HeaderRow {background-color:grey; color:white;}</style>\n",
       "<html><table>\n",
       "\t<tr id=\"HeaderRow\">\n",
       "\t\t<th>id</th>\n",
       "\t\t<th>free_sulfur_dioxide</th>\n",
       "\t\t<th>volatile_acidity</th>\n",
       "\t\t<th>total_sulfur_dioxide</th>\n",
       "\t\t<th>density</th>\n",
       "\t\t<th>alcohol</th>\n",
       "\t\t<th>chlorides</th>\n",
       "\t\t<th>pH</th>\n",
       "\t\t<th>sulphates</th>\n",
       "\t\t<th>residual_sugar</th>\n",
       "\t\t<th>citric_acid</th>\n",
       "\t\t<th>fixed_acidity</th>\n",
       "\t\t<th>quality</th>\n",
       "\t</tr>\n",
       "\t<tr>\n",
       "\t\t<td>139</td>\n",
       "\t\t<td>8.0</td>\n",
       "\t\t<td>0.775</td>\n",
       "\t\t<td>86.0</td>\n",
       "\t\t<td>0.9959</td>\n",
       "\t\t<td>9.5</td>\n",
       "\t\t<td>0.092</td>\n",
       "\t\t<td>3.23</td>\n",
       "\t\t<td>0.59</td>\n",
       "\t\t<td>1.9</td>\n",
       "\t\t<td>0.42</td>\n",
       "\t\t<td>7.7</td>\n",
       "\t\t<td>0</td>\n",
       "\t</tr>\n",
       "\t<tr>\n",
       "\t\t<td>48</td>\n",
       "\t\t<td>25.0</td>\n",
       "\t\t<td>0.88</td>\n",
       "\t\t<td>67.0</td>\n",
       "\t\t<td>0.9968</td>\n",
       "\t\t<td>9.8</td>\n",
       "\t\t<td>0.098</td>\n",
       "\t\t<td>3.2</td>\n",
       "\t\t<td>0.68</td>\n",
       "\t\t<td>2.6</td>\n",
       "\t\t<td>0.0</td>\n",
       "\t\t<td>7.8</td>\n",
       "\t\t<td>0</td>\n",
       "\t</tr>\n",
       "\t<tr>\n",
       "\t\t<td>263</td>\n",
       "\t\t<td>25.0</td>\n",
       "\t\t<td>0.61</td>\n",
       "\t\t<td>87.0</td>\n",
       "\t\t<td>0.9998</td>\n",
       "\t\t<td>9.7</td>\n",
       "\t\t<td>0.09</td>\n",
       "\t\t<td>3.24</td>\n",
       "\t\t<td>0.62</td>\n",
       "\t\t<td>3.4</td>\n",
       "\t\t<td>0.26</td>\n",
       "\t\t<td>9.3</td>\n",
       "\t\t<td>0</td>\n",
       "\t</tr>\n",
       "\t<tr>\n",
       "\t\t<td>228</td>\n",
       "\t\t<td>32.0</td>\n",
       "\t\t<td>0.59</td>\n",
       "\t\t<td>71.0</td>\n",
       "\t\t<td>1.0002</td>\n",
       "\t\t<td>9.8</td>\n",
       "\t\t<td>0.102</td>\n",
       "\t\t<td>3.31</td>\n",
       "\t\t<td>0.71</td>\n",
       "\t\t<td>3.4</td>\n",
       "\t\t<td>0.07</td>\n",
       "\t\t<td>9.9</td>\n",
       "\t\t<td>0</td>\n",
       "\t</tr>\n",
       "\t<tr>\n",
       "\t\t<td>130</td>\n",
       "\t\t<td>38.0</td>\n",
       "\t\t<td>0.18</td>\n",
       "\t\t<td>67.0</td>\n",
       "\t\t<td>0.996</td>\n",
       "\t\t<td>11.3</td>\n",
       "\t\t<td>0.049</td>\n",
       "\t\t<td>3.33</td>\n",
       "\t\t<td>0.93</td>\n",
       "\t\t<td>2.2</td>\n",
       "\t\t<td>0.4</td>\n",
       "\t\t<td>7.9</td>\n",
       "\t\t<td>0</td>\n",
       "\t</tr>\n",
       "\t<tr>\n",
       "\t\t<td>274</td>\n",
       "\t\t<td>24.0</td>\n",
       "\t\t<td>0.84</td>\n",
       "\t\t<td>33.0</td>\n",
       "\t\t<td>0.9954</td>\n",
       "\t\t<td>9.7</td>\n",
       "\t\t<td>0.065</td>\n",
       "\t\t<td>3.27</td>\n",
       "\t\t<td>0.55</td>\n",
       "\t\t<td>1.4</td>\n",
       "\t\t<td>0.0</td>\n",
       "\t\t<td>8.7</td>\n",
       "\t\t<td>0</td>\n",
       "\t</tr>\n",
       "\t<tr>\n",
       "\t\t<td>468</td>\n",
       "\t\t<td>30.0</td>\n",
       "\t\t<td>0.77</td>\n",
       "\t\t<td>74.0</td>\n",
       "\t\t<td>0.9987</td>\n",
       "\t\t<td>10.4</td>\n",
       "\t\t<td>0.082</td>\n",
       "\t\t<td>3.3</td>\n",
       "\t\t<td>0.64</td>\n",
       "\t\t<td>2.9</td>\n",
       "\t\t<td>0.12</td>\n",
       "\t\t<td>9.6</td>\n",
       "\t\t<td>1</td>\n",
       "\t</tr>\n",
       "\t<tr>\n",
       "\t\t<td>53</td>\n",
       "\t\t<td>10.0</td>\n",
       "\t\t<td>0.43</td>\n",
       "\t\t<td>23.0</td>\n",
       "\t\t<td>1.0</td>\n",
       "\t\t<td>10.4</td>\n",
       "\t\t<td>0.109</td>\n",
       "\t\t<td>3.15</td>\n",
       "\t\t<td>0.85</td>\n",
       "\t\t<td>3.1</td>\n",
       "\t\t<td>0.66</td>\n",
       "\t\t<td>11.9</td>\n",
       "\t\t<td>1</td>\n",
       "\t</tr>\n",
       "\t<tr>\n",
       "\t\t<td>266</td>\n",
       "\t\t<td>10.0</td>\n",
       "\t\t<td>0.33</td>\n",
       "\t\t<td>19.0</td>\n",
       "\t\t<td>0.9947</td>\n",
       "\t\t<td>12.0</td>\n",
       "\t\t<td>0.063</td>\n",
       "\t\t<td>3.3</td>\n",
       "\t\t<td>0.73</td>\n",
       "\t\t<td>3.3</td>\n",
       "\t\t<td>0.38</td>\n",
       "\t\t<td>8.7</td>\n",
       "\t\t<td>1</td>\n",
       "\t</tr>\n",
       "\t<tr>\n",
       "\t\t<td>364</td>\n",
       "\t\t<td>10.0</td>\n",
       "\t\t<td>0.45</td>\n",
       "\t\t<td>18.0</td>\n",
       "\t\t<td>0.9977</td>\n",
       "\t\t<td>9.3</td>\n",
       "\t\t<td>0.082</td>\n",
       "\t\t<td>3.22</td>\n",
       "\t\t<td>0.65</td>\n",
       "\t\t<td>1.9</td>\n",
       "\t\t<td>0.23</td>\n",
       "\t\t<td>10.1</td>\n",
       "\t\t<td>1</td>\n",
       "\t</tr>\n",
       "</table></html>"
      ],
      "text/plain": [
       "          id  free_sulfur_dioxide  volatile_acidity  total_sulfur_dioxide  density  alcohol  chlorides    pH  sulphates  residual_sugar  citric_acid  fixed_acidity\n",
       "quality                                                                                                                                                            \n",
       "0        139                  8.0             0.775                  86.0   0.9959      9.5      0.092  3.23       0.59             1.9         0.42            7.7\n",
       "0         48                 25.0             0.880                  67.0   0.9968      9.8      0.098  3.20       0.68             2.6         0.00            7.8\n",
       "0        263                 25.0             0.610                  87.0   0.9998      9.7      0.090  3.24       0.62             3.4         0.26            9.3\n",
       "0        228                 32.0             0.590                  71.0   1.0002      9.8      0.102  3.31       0.71             3.4         0.07            9.9\n",
       "0        130                 38.0             0.180                  67.0   0.9960     11.3      0.049  3.33       0.93             2.2         0.40            7.9\n",
       "0        274                 24.0             0.840                  33.0   0.9954      9.7      0.065  3.27       0.55             1.4         0.00            8.7\n",
       "1        468                 30.0             0.770                  74.0   0.9987     10.4      0.082  3.30       0.64             2.9         0.12            9.6\n",
       "1         53                 10.0             0.430                  23.0   1.0000     10.4      0.109  3.15       0.85             3.1         0.66           11.9\n",
       "1        266                 10.0             0.330                  19.0   0.9947     12.0      0.063  3.30       0.73             3.3         0.38            8.7\n",
       "1        364                 10.0             0.450                  18.0   0.9977      9.3      0.082  3.22       0.65             1.9         0.23           10.1"
      ]
     },
     "metadata": {},
     "output_type": "display_data"
    },
    {
     "name": "stdout",
     "output_type": "stream",
     "text": [
      "                                                                                                  \r"
     ]
    },
    {
     "data": {
      "text/html": [
       "320 rows X 13 columns"
      ],
      "text/plain": [
       "<IPython.core.display.HTML object>"
      ]
     },
     "metadata": {},
     "output_type": "display_data"
    },
    {
     "name": "stdout",
     "output_type": "stream",
     "text": [
      "                                                                                                  \r"
     ]
    },
    {
     "data": {
      "text/html": [
       "\n",
       "Updated dataset after performing scaling on RFE selected features :"
      ],
      "text/plain": [
       "<IPython.core.display.HTML object>"
      ]
     },
     "metadata": {},
     "output_type": "display_data"
    },
    {
     "data": {
      "text/html": [
       "<style type=\"text/css\">\n",
       "\ttable {border:ridge 5px;}\n",
       "\ttable td {border:inset 1px;}\n",
       "\ttable tr#HeaderRow {background-color:grey; color:white;}</style>\n",
       "<html><table>\n",
       "\t<tr id=\"HeaderRow\">\n",
       "\t\t<th>quality</th>\n",
       "\t\t<th>id</th>\n",
       "\t\t<th>r_free_sulfur_dioxide</th>\n",
       "\t\t<th>r_volatile_acidity</th>\n",
       "\t\t<th>r_total_sulfur_dioxide</th>\n",
       "\t\t<th>r_density</th>\n",
       "\t\t<th>r_alcohol</th>\n",
       "\t\t<th>r_chlorides</th>\n",
       "\t\t<th>r_pH</th>\n",
       "\t\t<th>r_sulphates</th>\n",
       "\t\t<th>r_residual_sugar</th>\n",
       "\t\t<th>r_citric_acid</th>\n",
       "\t\t<th>r_fixed_acidity</th>\n",
       "\t</tr>\n",
       "\t<tr>\n",
       "\t\t<td>1</td>\n",
       "\t\t<td>266</td>\n",
       "\t\t<td>-0.5519660174168826</td>\n",
       "\t\t<td>-1.0376559869638518</td>\n",
       "\t\t<td>-0.8503045307741913</td>\n",
       "\t\t<td>-1.141981701210118</td>\n",
       "\t\t<td>1.4969845748471657</td>\n",
       "\t\t<td>-0.48782322261864675</td>\n",
       "\t\t<td>-0.04460339422980449</td>\n",
       "\t\t<td>0.38966762857679177</td>\n",
       "\t\t<td>1.6511321300426023</td>\n",
       "\t\t<td>0.5008909983007003</td>\n",
       "\t\t<td>0.1926166403541893</td>\n",
       "\t</tr>\n",
       "\t<tr>\n",
       "\t\t<td>1</td>\n",
       "\t\t<td>298</td>\n",
       "\t\t<td>-0.5519660174168826</td>\n",
       "\t\t<td>-0.9828920636269166</td>\n",
       "\t\t<td>-0.7861322671065888</td>\n",
       "\t\t<td>1.817200431730693</td>\n",
       "\t\t<td>-1.1324831282800107</td>\n",
       "\t\t<td>-0.43459550887968174</td>\n",
       "\t\t<td>-1.2159117669494282</td>\n",
       "\t\t<td>2.991687912346809</td>\n",
       "\t\t<td>0.16101949697936468</td>\n",
       "\t\t<td>1.1161586812527429</td>\n",
       "\t\t<td>2.1884978913607074</td>\n",
       "\t</tr>\n",
       "\t<tr>\n",
       "\t\t<td>1</td>\n",
       "\t\t<td>121</td>\n",
       "\t\t<td>-0.5519660174168826</td>\n",
       "\t\t<td>-0.9281281402899817</td>\n",
       "\t\t<td>-0.27275415776576817</td>\n",
       "\t\t<td>1.9847013071801551</td>\n",
       "\t\t<td>0.5578889665874601</td>\n",
       "\t\t<td>-0.363625223894395</td>\n",
       "\t\t<td>0.08554198051682069</td>\n",
       "\t\t<td>1.4304757420847989</td>\n",
       "\t\t<td>1.6511321300426023</td>\n",
       "\t\t<td>1.0648863743400727</td>\n",
       "\t\t<td>1.7893216411594044</td>\n",
       "\t</tr>\n",
       "\t<tr>\n",
       "\t\t<td>1</td>\n",
       "\t\t<td>391</td>\n",
       "\t\t<td>-0.5519660174168826</td>\n",
       "\t\t<td>-0.8733642169530466</td>\n",
       "\t\t<td>-0.14440963043056299</td>\n",
       "\t\t<td>0.7005279287341534</td>\n",
       "\t\t<td>1.9665323789770186</td>\n",
       "\t\t<td>0.5589884809143315</td>\n",
       "\t\t<td>-0.5001122058429912</td>\n",
       "\t\t<td>-0.015091082231877335</td>\n",
       "\t\t<td>0.9888598486811635</td>\n",
       "\t\t<td>1.833970978030126</td>\n",
       "\t\t<td>1.047994319356983</td>\n",
       "\t</tr>\n",
       "\t<tr>\n",
       "\t\t<td>1</td>\n",
       "\t\t<td>319</td>\n",
       "\t\t<td>-0.5519660174168826</td>\n",
       "\t\t<td>-0.7638363702791762</td>\n",
       "\t\t<td>-0.14440963043056299</td>\n",
       "\t\t<td>2.3755366832289004</td>\n",
       "\t\t<td>-0.569025763324186</td>\n",
       "\t\t<td>-0.04425894146060519</td>\n",
       "\t\t<td>-0.8905483300828667</td>\n",
       "\t\t<td>0.10055426371345687</td>\n",
       "\t\t<td>0.49215563766008447</td>\n",
       "\t\t<td>1.9365155918554666</td>\n",
       "\t\t<td>2.4165986057614526</td>\n",
       "\t</tr>\n",
       "\t<tr>\n",
       "\t\t<td>1</td>\n",
       "\t\t<td>64</td>\n",
       "\t\t<td>-0.8482289277237077</td>\n",
       "\t\t<td>0.16715032644872155</td>\n",
       "\t\t<td>-0.914476794441794</td>\n",
       "\t\t<td>-0.0811428233633994</td>\n",
       "\t\t<td>-0.9446640066280685</td>\n",
       "\t\t<td>-0.363625223894395</td>\n",
       "\t\t<td>-0.30489414372305484</td>\n",
       "\t\t<td>-0.13073642817721154</td>\n",
       "\t\t<td>-0.9979569954031535</td>\n",
       "\t\t<td>-1.4474566643807683</td>\n",
       "\t\t<td>-0.3206099670474865</td>\n",
       "\t</tr>\n",
       "\t<tr>\n",
       "\t\t<td>0</td>\n",
       "\t\t<td>59</td>\n",
       "\t\t<td>-0.156948803674449</td>\n",
       "\t\t<td>-0.7090724469422409</td>\n",
       "\t\t<td>0.6898297972482705</td>\n",
       "\t\t<td>0.25385892753552525</td>\n",
       "\t\t<td>-1.1324831282800107</td>\n",
       "\t\t<td>-0.15071436893853504</td>\n",
       "\t\t<td>0.21568735526344585</td>\n",
       "\t\t<td>-0.6511404849312148</td>\n",
       "\t\t<td>-0.5012527843820742</td>\n",
       "\t\t<td>1.0136140674274023</td>\n",
       "\t\t<td>-0.5487106814482312</td>\n",
       "\t</tr>\n",
       "\t<tr>\n",
       "\t\t<td>0</td>\n",
       "\t\t<td>214</td>\n",
       "\t\t<td>-0.7494746242880994</td>\n",
       "\t\t<td>0.9886091765027483</td>\n",
       "\t\t<td>-0.9465629262755952</td>\n",
       "\t\t<td>-1.9236524533077328</td>\n",
       "\t\t<td>2.0604419398029887</td>\n",
       "\t\t<td>-0.41685293763336</td>\n",
       "\t\t<td>0.8013415416232605</td>\n",
       "\t\t<td>-0.8246085038492161</td>\n",
       "\t\t<td>2.3961884465742216</td>\n",
       "\t\t<td>-1.0372782090794064</td>\n",
       "\t\t<td>-0.947886931649535</td>\n",
       "\t</tr>\n",
       "\t<tr>\n",
       "\t\t<td>0</td>\n",
       "\t\t<td>139</td>\n",
       "\t\t<td>-0.7494746242880994</td>\n",
       "\t\t<td>1.3993386015297622</td>\n",
       "\t\t<td>1.299466302090495</td>\n",
       "\t\t<td>-0.4719781994122068</td>\n",
       "\t\t<td>-0.8507544458020982</td>\n",
       "\t\t<td>0.026711343524681543</td>\n",
       "\t\t<td>-0.5001122058429912</td>\n",
       "\t\t<td>-0.41984979304054704</td>\n",
       "\t\t<td>-0.666820854722434</td>\n",
       "\t\t<td>0.705980225951381</td>\n",
       "\t\t<td>-0.3776351456476726</td>\n",
       "\t</tr>\n",
       "\t<tr>\n",
       "\t\t<td>0</td>\n",
       "\t\t<td>51</td>\n",
       "\t\t<td>-0.7494746242880994</td>\n",
       "\t\t<td>0.6600256364811377</td>\n",
       "\t\t<td>-0.7219600034389863</td>\n",
       "\t\t<td>-0.3603109491125653</td>\n",
       "\t\t<td>-0.7568448849761281</td>\n",
       "\t\t<td>0.168651913495255</td>\n",
       "\t\t<td>-0.04460339422980449</td>\n",
       "\t\t<td>-0.47767246601321417</td>\n",
       "\t\t<td>-0.8323889250627936</td>\n",
       "\t\t<td>-1.0885505159920765</td>\n",
       "\t\t<td>-0.5487106814482312</td>\n",
       "\t</tr>\n",
       "</table></html>"
      ],
      "text/plain": [
       "   quality   id  r_free_sulfur_dioxide  r_volatile_acidity  r_total_sulfur_dioxide  r_density  r_alcohol  r_chlorides      r_pH  r_sulphates  r_residual_sugar  r_citric_acid  r_fixed_acidity\n",
       "0        1  266              -0.551966           -1.037656               -0.850305  -1.141982   1.496985    -0.487823 -0.044603     0.389668          1.651132       0.500891         0.192617\n",
       "1        1  298              -0.551966           -0.982892               -0.786132   1.817200  -1.132483    -0.434596 -1.215912     2.991688          0.161019       1.116159         2.188498\n",
       "2        1  121              -0.551966           -0.928128               -0.272754   1.984701   0.557889    -0.363625  0.085542     1.430476          1.651132       1.064886         1.789322\n",
       "3        1  391              -0.551966           -0.873364               -0.144410   0.700528   1.966532     0.558988 -0.500112    -0.015091          0.988860       1.833971         1.047994\n",
       "4        1  319              -0.551966           -0.763836               -0.144410   2.375537  -0.569026    -0.044259 -0.890548     0.100554          0.492156       1.936516         2.416599\n",
       "5        1   64              -0.848229            0.167150               -0.914477  -0.081143  -0.944664    -0.363625 -0.304894    -0.130736         -0.997957      -1.447457        -0.320610\n",
       "6        0   59              -0.156949           -0.709072                0.689830   0.253859  -1.132483    -0.150714  0.215687    -0.651140         -0.501253       1.013614        -0.548711\n",
       "7        0  214              -0.749475            0.988609               -0.946563  -1.923652   2.060442    -0.416853  0.801342    -0.824609          2.396188      -1.037278        -0.947887\n",
       "8        0  139              -0.749475            1.399339                1.299466  -0.471978  -0.850754     0.026711 -0.500112    -0.419850         -0.666821       0.705980        -0.377635\n",
       "9        0   51              -0.749475            0.660026               -0.721960  -0.360311  -0.756845     0.168652 -0.044603    -0.477672         -0.832389      -1.088551        -0.548711"
      ]
     },
     "metadata": {},
     "output_type": "display_data"
    },
    {
     "name": "stdout",
     "output_type": "stream",
     "text": [
      "                                                                                                  \r"
     ]
    },
    {
     "data": {
      "text/html": [
       "320 rows X 13 columns"
      ],
      "text/plain": [
       "<IPython.core.display.HTML object>"
      ]
     },
     "metadata": {},
     "output_type": "display_data"
    },
    {
     "name": "stdout",
     "output_type": "stream",
     "text": [
      "                                                                                                  \r"
     ]
    },
    {
     "data": {
      "text/html": [
       "\n",
       "Updated dataset after performing scaling for PCA feature selection :"
      ],
      "text/plain": [
       "<IPython.core.display.HTML object>"
      ]
     },
     "metadata": {},
     "output_type": "display_data"
    },
    {
     "data": {
      "text/html": [
       "<style type=\"text/css\">\n",
       "\ttable {border:ridge 5px;}\n",
       "\ttable td {border:inset 1px;}\n",
       "\ttable tr#HeaderRow {background-color:grey; color:white;}</style>\n",
       "<html><table>\n",
       "\t<tr id=\"HeaderRow\">\n",
       "\t\t<th>quality</th>\n",
       "\t\t<th>id</th>\n",
       "\t\t<th>free_sulfur_dioxide</th>\n",
       "\t\t<th>volatile_acidity</th>\n",
       "\t\t<th>total_sulfur_dioxide</th>\n",
       "\t\t<th>density</th>\n",
       "\t\t<th>alcohol</th>\n",
       "\t\t<th>chlorides</th>\n",
       "\t\t<th>pH</th>\n",
       "\t\t<th>sulphates</th>\n",
       "\t\t<th>residual_sugar</th>\n",
       "\t\t<th>citric_acid</th>\n",
       "\t\t<th>fixed_acidity</th>\n",
       "\t</tr>\n",
       "\t<tr>\n",
       "\t\t<td>1</td>\n",
       "\t\t<td>266</td>\n",
       "\t\t<td>-0.5519660174168831</td>\n",
       "\t\t<td>-1.037655986963851</td>\n",
       "\t\t<td>-0.8503045307741907</td>\n",
       "\t\t<td>-1.1428447432636402</td>\n",
       "\t\t<td>1.4969848088849675</td>\n",
       "\t\t<td>-0.4878232226186462</td>\n",
       "\t\t<td>-0.044603394229784266</td>\n",
       "\t\t<td>0.3896676285767911</td>\n",
       "\t\t<td>1.6511321300425945</td>\n",
       "\t\t<td>0.5008909983007013</td>\n",
       "\t\t<td>0.19261664035419956</td>\n",
       "\t</tr>\n",
       "\t<tr>\n",
       "\t\t<td>1</td>\n",
       "\t\t<td>298</td>\n",
       "\t\t<td>-0.5519660174168831</td>\n",
       "\t\t<td>-0.9828920636269158</td>\n",
       "\t\t<td>-0.7861322671065881</td>\n",
       "\t\t<td>1.8166458219212303</td>\n",
       "\t\t<td>-1.1324832298114522</td>\n",
       "\t\t<td>-0.4345955088796812</td>\n",
       "\t\t<td>-1.2159117669494082</td>\n",
       "\t\t<td>2.991687912346804</td>\n",
       "\t\t<td>0.16101949697935997</td>\n",
       "\t\t<td>1.1161586812527433</td>\n",
       "\t\t<td>2.1884978913607194</td>\n",
       "\t</tr>\n",
       "\t<tr>\n",
       "\t\t<td>1</td>\n",
       "\t\t<td>121</td>\n",
       "\t\t<td>-0.5519660174168831</td>\n",
       "\t\t<td>-0.928128140289981</td>\n",
       "\t\t<td>-0.27275415776576795</td>\n",
       "\t\t<td>1.9841641557996017</td>\n",
       "\t\t<td>0.5578890807791036</td>\n",
       "\t\t<td>-0.36362522389439444</td>\n",
       "\t\t<td>0.08554198051684093</td>\n",
       "\t\t<td>1.4304757420847967</td>\n",
       "\t\t<td>1.6511321300425945</td>\n",
       "\t\t<td>1.0648863743400732</td>\n",
       "\t\t<td>1.7893216411594157</td>\n",
       "\t</tr>\n",
       "\t<tr>\n",
       "\t\t<td>1</td>\n",
       "\t\t<td>391</td>\n",
       "\t\t<td>-0.5519660174168831</td>\n",
       "\t\t<td>-0.8733642169530458</td>\n",
       "\t\t<td>-0.14440963043056287</td>\n",
       "\t\t<td>0.6998569293986306</td>\n",
       "\t\t<td>1.9665326729378996</td>\n",
       "\t\t<td>0.558988480914332</td>\n",
       "\t\t<td>-0.500112205842971</td>\n",
       "\t\t<td>-0.015091082231877311</td>\n",
       "\t\t<td>0.9888598486811571</td>\n",
       "\t\t<td>1.8339709780301259</td>\n",
       "\t\t<td>1.0479943193569938</td>\n",
       "\t</tr>\n",
       "\t<tr>\n",
       "\t\t<td>1</td>\n",
       "\t\t<td>319</td>\n",
       "\t\t<td>-0.5519660174168831</td>\n",
       "\t\t<td>-0.7638363702791754</td>\n",
       "\t\t<td>-0.14440963043056287</td>\n",
       "\t\t<td>2.375040268182468</td>\n",
       "\t\t<td>-0.5690257929479325</td>\n",
       "\t\t<td>-0.04425894146060469</td>\n",
       "\t\t<td>-0.8905483300828466</td>\n",
       "\t\t<td>0.10055426371345672</td>\n",
       "\t\t<td>0.4921556376600791</td>\n",
       "\t\t<td>1.9365155918554664</td>\n",
       "\t\t<td>2.4165986057614646</td>\n",
       "\t</tr>\n",
       "\t<tr>\n",
       "\t\t<td>1</td>\n",
       "\t\t<td>64</td>\n",
       "\t\t<td>-0.8482289277237085</td>\n",
       "\t\t<td>0.16715032644872213</td>\n",
       "\t\t<td>-0.9144767944417932</td>\n",
       "\t\t<td>-0.08189529536716433</td>\n",
       "\t\t<td>-0.9446640841902785</td>\n",
       "\t\t<td>-0.36362522389439444</td>\n",
       "\t\t<td>-0.30489414372303464</td>\n",
       "\t\t<td>-0.13073642817721134</td>\n",
       "\t\t<td>-0.9979569954031559</td>\n",
       "\t\t<td>-1.4474566643807656</td>\n",
       "\t\t<td>-0.32060996704747663</td>\n",
       "\t</tr>\n",
       "\t<tr>\n",
       "\t\t<td>0</td>\n",
       "\t\t<td>59</td>\n",
       "\t\t<td>-0.15694880367444913</td>\n",
       "\t\t<td>-0.7090724469422403</td>\n",
       "\t\t<td>0.68982979724827</td>\n",
       "\t\t<td>0.25314137238957835</td>\n",
       "\t\t<td>-1.1324832298114522</td>\n",
       "\t\t<td>-0.15071436893853452</td>\n",
       "\t\t<td>0.21568735526346614</td>\n",
       "\t\t<td>-0.6511404849312138</td>\n",
       "\t\t<td>-0.5012527843820775</td>\n",
       "\t\t<td>1.013614067427403</td>\n",
       "\t\t<td>-0.5487106814482214</td>\n",
       "\t</tr>\n",
       "\t<tr>\n",
       "\t\t<td>0</td>\n",
       "\t\t<td>214</td>\n",
       "\t\t<td>-0.7494746242881001</td>\n",
       "\t\t<td>0.9886091765027487</td>\n",
       "\t\t<td>-0.9465629262755945</td>\n",
       "\t\t<td>-1.9245969680294972</td>\n",
       "\t\t<td>2.0604422457484857</td>\n",
       "\t\t<td>-0.4168529376333595</td>\n",
       "\t\t<td>0.801341541623281</td>\n",
       "\t\t<td>-0.8246085038492148</td>\n",
       "\t\t<td>2.3961884465742123</td>\n",
       "\t\t<td>-1.037278209079404</td>\n",
       "\t\t<td>-0.9478869316495255</td>\n",
       "\t</tr>\n",
       "\t<tr>\n",
       "\t\t<td>0</td>\n",
       "\t\t<td>139</td>\n",
       "\t\t<td>-0.7494746242881001</td>\n",
       "\t\t<td>1.3993386015297626</td>\n",
       "\t\t<td>1.299466302090494</td>\n",
       "\t\t<td>-0.4727714077500928</td>\n",
       "\t\t<td>-0.8507545113796924</td>\n",
       "\t\t<td>0.026711343524682032</td>\n",
       "\t\t<td>-0.500112205842971</td>\n",
       "\t\t<td>-0.41984979304054637</td>\n",
       "\t\t<td>-0.6668208547224371</td>\n",
       "\t\t<td>0.7059802259513819</td>\n",
       "\t\t<td>-0.3776351456476627</td>\n",
       "\t</tr>\n",
       "\t<tr>\n",
       "\t\t<td>0</td>\n",
       "\t\t<td>51</td>\n",
       "\t\t<td>-0.7494746242881001</td>\n",
       "\t\t<td>0.6600256364811382</td>\n",
       "\t\t<td>-0.7219600034389856</td>\n",
       "\t\t<td>-0.36109251849784524</td>\n",
       "\t\t<td>-0.7568449385691063</td>\n",
       "\t\t<td>0.16865191349525546</td>\n",
       "\t\t<td>-0.044603394229784266</td>\n",
       "\t\t<td>-0.4776724660132134</td>\n",
       "\t\t<td>-0.8323889250627963</td>\n",
       "\t\t<td>-1.0885505159920743</td>\n",
       "\t\t<td>-0.5487106814482214</td>\n",
       "\t</tr>\n",
       "</table></html>"
      ],
      "text/plain": [
       "   quality   id  free_sulfur_dioxide  volatile_acidity  total_sulfur_dioxide   density   alcohol  chlorides        pH  sulphates  residual_sugar  citric_acid  fixed_acidity\n",
       "0        1  266            -0.551966         -1.037656             -0.850305 -1.142845  1.496985  -0.487823 -0.044603   0.389668        1.651132     0.500891       0.192617\n",
       "1        1  298            -0.551966         -0.982892             -0.786132  1.816646 -1.132483  -0.434596 -1.215912   2.991688        0.161019     1.116159       2.188498\n",
       "2        1  121            -0.551966         -0.928128             -0.272754  1.984164  0.557889  -0.363625  0.085542   1.430476        1.651132     1.064886       1.789322\n",
       "3        1  391            -0.551966         -0.873364             -0.144410  0.699857  1.966533   0.558988 -0.500112  -0.015091        0.988860     1.833971       1.047994\n",
       "4        1  319            -0.551966         -0.763836             -0.144410  2.375040 -0.569026  -0.044259 -0.890548   0.100554        0.492156     1.936516       2.416599\n",
       "5        1   64            -0.848229          0.167150             -0.914477 -0.081895 -0.944664  -0.363625 -0.304894  -0.130736       -0.997957    -1.447457      -0.320610\n",
       "6        0   59            -0.156949         -0.709072              0.689830  0.253141 -1.132483  -0.150714  0.215687  -0.651140       -0.501253     1.013614      -0.548711\n",
       "7        0  214            -0.749475          0.988609             -0.946563 -1.924597  2.060442  -0.416853  0.801342  -0.824609        2.396188    -1.037278      -0.947887\n",
       "8        0  139            -0.749475          1.399339              1.299466 -0.472771 -0.850755   0.026711 -0.500112  -0.419850       -0.666821     0.705980      -0.377635\n",
       "9        0   51            -0.749475          0.660026             -0.721960 -0.361093 -0.756845   0.168652 -0.044603  -0.477672       -0.832389    -1.088551      -0.548711"
      ]
     },
     "metadata": {},
     "output_type": "display_data"
    },
    {
     "name": "stdout",
     "output_type": "stream",
     "text": [
      "                                                                                                  \r"
     ]
    },
    {
     "data": {
      "text/html": [
       "320 rows X 13 columns"
      ],
      "text/plain": [
       "<IPython.core.display.HTML object>"
      ]
     },
     "metadata": {},
     "output_type": "display_data"
    },
    {
     "name": "stdout",
     "output_type": "stream",
     "text": [
      "                                                                                                  \r"
     ]
    },
    {
     "data": {
      "text/html": [
       "\n",
       "Updated dataset after performing PCA feature selection :"
      ],
      "text/plain": [
       "<IPython.core.display.HTML object>"
      ]
     },
     "metadata": {},
     "output_type": "display_data"
    },
    {
     "data": {
      "text/html": [
       "<div>\n",
       "<style scoped>\n",
       "    .dataframe tbody tr th:only-of-type {\n",
       "        vertical-align: middle;\n",
       "    }\n",
       "\n",
       "    .dataframe tbody tr th {\n",
       "        vertical-align: top;\n",
       "    }\n",
       "\n",
       "    .dataframe thead th {\n",
       "        text-align: right;\n",
       "    }\n",
       "</style>\n",
       "<table border=\"1\" class=\"dataframe\">\n",
       "  <thead>\n",
       "    <tr style=\"text-align: right;\">\n",
       "      <th></th>\n",
       "      <th>id</th>\n",
       "      <th>col_0</th>\n",
       "      <th>col_1</th>\n",
       "      <th>col_2</th>\n",
       "      <th>col_3</th>\n",
       "      <th>col_4</th>\n",
       "      <th>col_5</th>\n",
       "      <th>col_6</th>\n",
       "      <th>col_7</th>\n",
       "      <th>col_8</th>\n",
       "      <th>quality</th>\n",
       "    </tr>\n",
       "  </thead>\n",
       "  <tbody>\n",
       "    <tr>\n",
       "      <th>0</th>\n",
       "      <td>468</td>\n",
       "      <td>0.070651</td>\n",
       "      <td>1.992987</td>\n",
       "      <td>-0.709704</td>\n",
       "      <td>-1.217654</td>\n",
       "      <td>0.906758</td>\n",
       "      <td>-0.035119</td>\n",
       "      <td>0.929707</td>\n",
       "      <td>-0.137795</td>\n",
       "      <td>0.605527</td>\n",
       "      <td>1</td>\n",
       "    </tr>\n",
       "    <tr>\n",
       "      <th>1</th>\n",
       "      <td>59</td>\n",
       "      <td>0.227158</td>\n",
       "      <td>0.551780</td>\n",
       "      <td>0.047791</td>\n",
       "      <td>0.172305</td>\n",
       "      <td>-1.319797</td>\n",
       "      <td>-0.271727</td>\n",
       "      <td>-1.012531</td>\n",
       "      <td>-0.345453</td>\n",
       "      <td>-0.906497</td>\n",
       "      <td>0</td>\n",
       "    </tr>\n",
       "    <tr>\n",
       "      <th>2</th>\n",
       "      <td>53</td>\n",
       "      <td>3.726769</td>\n",
       "      <td>-0.689627</td>\n",
       "      <td>-0.557143</td>\n",
       "      <td>-0.671163</td>\n",
       "      <td>0.709761</td>\n",
       "      <td>-0.602778</td>\n",
       "      <td>0.241240</td>\n",
       "      <td>-0.176603</td>\n",
       "      <td>-0.077571</td>\n",
       "      <td>1</td>\n",
       "    </tr>\n",
       "    <tr>\n",
       "      <th>3</th>\n",
       "      <td>214</td>\n",
       "      <td>-2.397710</td>\n",
       "      <td>-1.782013</td>\n",
       "      <td>-0.407402</td>\n",
       "      <td>-1.509556</td>\n",
       "      <td>2.499306</td>\n",
       "      <td>1.090237</td>\n",
       "      <td>-0.648919</td>\n",
       "      <td>0.418084</td>\n",
       "      <td>0.170664</td>\n",
       "      <td>0</td>\n",
       "    </tr>\n",
       "    <tr>\n",
       "      <th>4</th>\n",
       "      <td>266</td>\n",
       "      <td>0.242360</td>\n",
       "      <td>-2.081820</td>\n",
       "      <td>0.837405</td>\n",
       "      <td>-1.323975</td>\n",
       "      <td>1.050938</td>\n",
       "      <td>0.247476</td>\n",
       "      <td>-0.651463</td>\n",
       "      <td>0.620239</td>\n",
       "      <td>0.116459</td>\n",
       "      <td>1</td>\n",
       "    </tr>\n",
       "    <tr>\n",
       "      <th>5</th>\n",
       "      <td>139</td>\n",
       "      <td>-0.205817</td>\n",
       "      <td>0.993707</td>\n",
       "      <td>-0.527107</td>\n",
       "      <td>0.729946</td>\n",
       "      <td>-0.454097</td>\n",
       "      <td>1.290120</td>\n",
       "      <td>0.275164</td>\n",
       "      <td>-0.020257</td>\n",
       "      <td>-1.545645</td>\n",
       "      <td>0</td>\n",
       "    </tr>\n",
       "    <tr>\n",
       "      <th>6</th>\n",
       "      <td>364</td>\n",
       "      <td>0.908750</td>\n",
       "      <td>-0.412717</td>\n",
       "      <td>-1.056826</td>\n",
       "      <td>0.681867</td>\n",
       "      <td>-1.051605</td>\n",
       "      <td>-0.347709</td>\n",
       "      <td>0.217343</td>\n",
       "      <td>0.304358</td>\n",
       "      <td>0.570406</td>\n",
       "      <td>1</td>\n",
       "    </tr>\n",
       "    <tr>\n",
       "      <th>7</th>\n",
       "      <td>51</td>\n",
       "      <td>-1.109092</td>\n",
       "      <td>-0.200498</td>\n",
       "      <td>-1.116051</td>\n",
       "      <td>1.332412</td>\n",
       "      <td>-0.359242</td>\n",
       "      <td>0.239707</td>\n",
       "      <td>0.019055</td>\n",
       "      <td>0.315617</td>\n",
       "      <td>0.274951</td>\n",
       "      <td>0</td>\n",
       "    </tr>\n",
       "    <tr>\n",
       "      <th>8</th>\n",
       "      <td>298</td>\n",
       "      <td>3.907167</td>\n",
       "      <td>-0.466157</td>\n",
       "      <td>-0.041922</td>\n",
       "      <td>0.463881</td>\n",
       "      <td>-0.215296</td>\n",
       "      <td>-1.826473</td>\n",
       "      <td>1.306944</td>\n",
       "      <td>1.404250</td>\n",
       "      <td>0.128449</td>\n",
       "      <td>1</td>\n",
       "    </tr>\n",
       "    <tr>\n",
       "      <th>9</th>\n",
       "      <td>48</td>\n",
       "      <td>-0.828922</td>\n",
       "      <td>1.988586</td>\n",
       "      <td>-0.804482</td>\n",
       "      <td>0.133280</td>\n",
       "      <td>0.941219</td>\n",
       "      <td>0.780607</td>\n",
       "      <td>0.824009</td>\n",
       "      <td>0.775013</td>\n",
       "      <td>0.646117</td>\n",
       "      <td>0</td>\n",
       "    </tr>\n",
       "  </tbody>\n",
       "</table>\n",
       "</div>"
      ],
      "text/plain": [
       "    id     col_0     col_1     col_2     col_3     col_4     col_5     col_6  \\\n",
       "0  468  0.070651  1.992987 -0.709704 -1.217654  0.906758 -0.035119  0.929707   \n",
       "1   59  0.227158  0.551780  0.047791  0.172305 -1.319797 -0.271727 -1.012531   \n",
       "2   53  3.726769 -0.689627 -0.557143 -0.671163  0.709761 -0.602778  0.241240   \n",
       "3  214 -2.397710 -1.782013 -0.407402 -1.509556  2.499306  1.090237 -0.648919   \n",
       "4  266  0.242360 -2.081820  0.837405 -1.323975  1.050938  0.247476 -0.651463   \n",
       "5  139 -0.205817  0.993707 -0.527107  0.729946 -0.454097  1.290120  0.275164   \n",
       "6  364  0.908750 -0.412717 -1.056826  0.681867 -1.051605 -0.347709  0.217343   \n",
       "7   51 -1.109092 -0.200498 -1.116051  1.332412 -0.359242  0.239707  0.019055   \n",
       "8  298  3.907167 -0.466157 -0.041922  0.463881 -0.215296 -1.826473  1.306944   \n",
       "9   48 -0.828922  1.988586 -0.804482  0.133280  0.941219  0.780607  0.824009   \n",
       "\n",
       "      col_7     col_8  quality  \n",
       "0 -0.137795  0.605527        1  \n",
       "1 -0.345453 -0.906497        0  \n",
       "2 -0.176603 -0.077571        1  \n",
       "3  0.418084  0.170664        0  \n",
       "4  0.620239  0.116459        1  \n",
       "5 -0.020257 -1.545645        0  \n",
       "6  0.304358  0.570406        1  \n",
       "7  0.315617  0.274951        0  \n",
       "8  1.404250  0.128449        1  \n",
       "9  0.775013  0.646117        0  "
      ]
     },
     "metadata": {},
     "output_type": "display_data"
    },
    {
     "name": "stdout",
     "output_type": "stream",
     "text": [
      "                                                                                                  \r"
     ]
    },
    {
     "data": {
      "text/html": [
       "10 rows X 11 columns"
      ],
      "text/plain": [
       "<IPython.core.display.HTML object>"
      ]
     },
     "metadata": {},
     "output_type": "display_data"
    },
    {
     "name": "stdout",
     "output_type": "stream",
     "text": [
      "Data Transformation completed.⫿⫿⫿⫿⫿⫿⫿⫿⫿⫿⫿⫿⫿⫿⫿⫿⫿⫿⫿⫿⫿⫿⫿⫿⫿⫿⫿⫿⫿⫿⫿⫿⫿⫿⫿⫿⫿⫿⫿⫿⫿⫿｜ 100% - 15/15            \n",
      "\n",
      "Following model is being used for generating prediction :\n",
      "Model ID : XGBOOST_2 \n",
      "Feature Selection Method : pca\n",
      "\n",
      "Target Column Mapping:\n",
      "good: 1\n",
      "bad: 0\n",
      "\n",
      "Prediction : \n",
      "    id  Prediction  Confidence_Lower  Confidence_upper  quality\n",
      "0   53           1               1.0               1.0        1\n",
      "1  266           1               1.0               1.0        1\n",
      "2  139           0               1.0               1.0        0\n",
      "3  364           0               1.0               1.0        1\n",
      "4  298           1               1.0               1.0        1\n",
      "5   48           1               1.0               1.0        0\n",
      "6   51           0               1.0               1.0        0\n",
      "7  214           1               1.0               1.0        0\n",
      "8   59           0               1.0               1.0        0\n",
      "9  468           1               1.0               1.0        1\n",
      "\n",
      "Performance Metrics : \n",
      "       Prediction  Mapping  CLASS_1  CLASS_2  Precision    Recall        F1  Support\n",
      "SeqNum                                                                              \n",
      "0               0  CLASS_1       95       31   0.753968  0.620915  0.681004      153\n",
      "1               1  CLASS_2       58      136   0.701031  0.814371  0.753463      167\n",
      "\n",
      "ROC-AUC : \n"
     ]
    },
    {
     "data": {
      "text/html": [
       "<style type=\"text/css\">\n",
       "\ttable {border:ridge 5px;}\n",
       "\ttable td {border:inset 1px;}\n",
       "\ttable tr#HeaderRow {background-color:grey; color:white;}</style>\n",
       "<html><table>\n",
       "\t<tr id=\"HeaderRow\">\n",
       "\t\t<th>AUC</th>\n",
       "\t\t<th>GINI</th>\n",
       "\t</tr>\n",
       "\t<tr>\n",
       "\t\t<td>0.5632851943172479</td>\n",
       "\t\t<td>0.12657038863449577</td>\n",
       "\t</tr>\n",
       "</table></html>"
      ],
      "text/plain": [
       "             GINI\n",
       "AUC              \n",
       "0.563285  0.12657"
      ]
     },
     "metadata": {},
     "output_type": "display_data"
    },
    {
     "data": {
      "text/html": [
       "<style type=\"text/css\">\n",
       "\ttable {border:ridge 5px;}\n",
       "\ttable td {border:inset 1px;}\n",
       "\ttable tr#HeaderRow {background-color:grey; color:white;}</style>\n",
       "<html><table>\n",
       "\t<tr id=\"HeaderRow\">\n",
       "\t\t<th>threshold_value</th>\n",
       "\t\t<th>tpr</th>\n",
       "\t\t<th>fpr</th>\n",
       "\t</tr>\n",
       "\t<tr>\n",
       "\t\t<td>0.04081632653061224</td>\n",
       "\t\t<td>0.8143712574850299</td>\n",
       "\t\t<td>0.3790849673202614</td>\n",
       "\t</tr>\n",
       "\t<tr>\n",
       "\t\t<td>0.08163265306122448</td>\n",
       "\t\t<td>0.8143712574850299</td>\n",
       "\t\t<td>0.3790849673202614</td>\n",
       "\t</tr>\n",
       "\t<tr>\n",
       "\t\t<td>0.1020408163265306</td>\n",
       "\t\t<td>0.8143712574850299</td>\n",
       "\t\t<td>0.3790849673202614</td>\n",
       "\t</tr>\n",
       "\t<tr>\n",
       "\t\t<td>0.12244897959183673</td>\n",
       "\t\t<td>0.8143712574850299</td>\n",
       "\t\t<td>0.3790849673202614</td>\n",
       "\t</tr>\n",
       "\t<tr>\n",
       "\t\t<td>0.16326530612244897</td>\n",
       "\t\t<td>0.8143712574850299</td>\n",
       "\t\t<td>0.3790849673202614</td>\n",
       "\t</tr>\n",
       "\t<tr>\n",
       "\t\t<td>0.18367346938775508</td>\n",
       "\t\t<td>0.8143712574850299</td>\n",
       "\t\t<td>0.3790849673202614</td>\n",
       "\t</tr>\n",
       "\t<tr>\n",
       "\t\t<td>0.14285714285714285</td>\n",
       "\t\t<td>0.8143712574850299</td>\n",
       "\t\t<td>0.3790849673202614</td>\n",
       "\t</tr>\n",
       "\t<tr>\n",
       "\t\t<td>0.061224489795918366</td>\n",
       "\t\t<td>0.8143712574850299</td>\n",
       "\t\t<td>0.3790849673202614</td>\n",
       "\t</tr>\n",
       "\t<tr>\n",
       "\t\t<td>0.02040816326530612</td>\n",
       "\t\t<td>0.8143712574850299</td>\n",
       "\t\t<td>0.3790849673202614</td>\n",
       "\t</tr>\n",
       "\t<tr>\n",
       "\t\t<td>0.0</td>\n",
       "\t\t<td>1.0</td>\n",
       "\t\t<td>1.0</td>\n",
       "\t</tr>\n",
       "</table></html>"
      ],
      "text/plain": [
       "   threshold_value       tpr       fpr\n",
       "0         0.040816  0.814371  0.379085\n",
       "1         0.081633  0.814371  0.379085\n",
       "2         0.102041  0.814371  0.379085\n",
       "3         0.122449  0.814371  0.379085\n",
       "4         0.163265  0.814371  0.379085\n",
       "5         0.183673  0.814371  0.379085\n",
       "6         0.142857  0.814371  0.379085\n",
       "7         0.061224  0.814371  0.379085\n",
       "8         0.020408  0.814371  0.379085\n",
       "9         0.000000  1.000000  1.000000"
      ]
     },
     "metadata": {},
     "output_type": "display_data"
    },
    {
     "name": "stdout",
     "output_type": "stream",
     "text": [
      "\n",
      "Confusion Matrix : \n"
     ]
    },
    {
     "data": {
      "text/plain": [
       "array([[ 95,  58],\n",
       "       [ 31, 136]], dtype=int64)"
      ]
     },
     "metadata": {},
     "output_type": "display_data"
    }
   ],
   "source": [
    "# Generating prediction and metrics on test data\n",
    "prediction = aml.predict(wine_df_test,3)"
   ]
  },
  {
   "cell_type": "code",
   "execution_count": 23,
   "id": "cc4f6a78-1cdf-4938-a9f1-22035d8404ca",
   "metadata": {},
   "outputs": [
    {
     "data": {
      "text/html": [
       "<style type=\"text/css\">\n",
       "\ttable {border:ridge 5px;}\n",
       "\ttable td {border:inset 1px;}\n",
       "\ttable tr#HeaderRow {background-color:grey; color:white;}</style>\n",
       "<html><table>\n",
       "\t<tr id=\"HeaderRow\">\n",
       "\t\t<th>id</th>\n",
       "\t\t<th>Prediction</th>\n",
       "\t\t<th>Confidence_Lower</th>\n",
       "\t\t<th>Confidence_upper</th>\n",
       "\t\t<th>quality</th>\n",
       "\t</tr>\n",
       "\t<tr>\n",
       "\t\t<td>10</td>\n",
       "\t\t<td>1</td>\n",
       "\t\t<td>1.0</td>\n",
       "\t\t<td>1.0</td>\n",
       "\t\t<td>1</td>\n",
       "\t</tr>\n",
       "\t<tr>\n",
       "\t\t<td>12</td>\n",
       "\t\t<td>1</td>\n",
       "\t\t<td>1.0</td>\n",
       "\t\t<td>1.0</td>\n",
       "\t\t<td>0</td>\n",
       "\t</tr>\n",
       "\t<tr>\n",
       "\t\t<td>13</td>\n",
       "\t\t<td>1</td>\n",
       "\t\t<td>1.0</td>\n",
       "\t\t<td>1.0</td>\n",
       "\t\t<td>0</td>\n",
       "\t</tr>\n",
       "\t<tr>\n",
       "\t\t<td>14</td>\n",
       "\t\t<td>0</td>\n",
       "\t\t<td>1.0</td>\n",
       "\t\t<td>1.0</td>\n",
       "\t\t<td>0</td>\n",
       "\t</tr>\n",
       "\t<tr>\n",
       "\t\t<td>16</td>\n",
       "\t\t<td>1</td>\n",
       "\t\t<td>1.0</td>\n",
       "\t\t<td>1.0</td>\n",
       "\t\t<td>1</td>\n",
       "\t</tr>\n",
       "\t<tr>\n",
       "\t\t<td>17</td>\n",
       "\t\t<td>1</td>\n",
       "\t\t<td>1.0</td>\n",
       "\t\t<td>1.0</td>\n",
       "\t\t<td>0</td>\n",
       "\t</tr>\n",
       "\t<tr>\n",
       "\t\t<td>15</td>\n",
       "\t\t<td>0</td>\n",
       "\t\t<td>1.0</td>\n",
       "\t\t<td>1.0</td>\n",
       "\t\t<td>0</td>\n",
       "\t</tr>\n",
       "\t<tr>\n",
       "\t\t<td>11</td>\n",
       "\t\t<td>1</td>\n",
       "\t\t<td>1.0</td>\n",
       "\t\t<td>1.0</td>\n",
       "\t\t<td>1</td>\n",
       "\t</tr>\n",
       "\t<tr>\n",
       "\t\t<td>9</td>\n",
       "\t\t<td>1</td>\n",
       "\t\t<td>1.0</td>\n",
       "\t\t<td>1.0</td>\n",
       "\t\t<td>1</td>\n",
       "\t</tr>\n",
       "\t<tr>\n",
       "\t\t<td>8</td>\n",
       "\t\t<td>1</td>\n",
       "\t\t<td>1.0</td>\n",
       "\t\t<td>1.0</td>\n",
       "\t\t<td>1</td>\n",
       "\t</tr>\n",
       "</table></html>"
      ],
      "text/plain": [
       "   id  Prediction  Confidence_Lower  Confidence_upper  quality\n",
       "0  10           1               1.0               1.0        1\n",
       "1  12           1               1.0               1.0        0\n",
       "2  13           1               1.0               1.0        0\n",
       "3  14           0               1.0               1.0        0\n",
       "4  16           1               1.0               1.0        1\n",
       "5  17           1               1.0               1.0        0\n",
       "6  15           0               1.0               1.0        0\n",
       "7  11           1               1.0               1.0        1\n",
       "8   9           1               1.0               1.0        1\n",
       "9   8           1               1.0               1.0        1"
      ]
     },
     "execution_count": 23,
     "metadata": {},
     "output_type": "execute_result"
    }
   ],
   "source": [
    "# Printing prediction\n",
    "prediction.head()"
   ]
  },
  {
   "cell_type": "code",
   "execution_count": 24,
   "id": "d36aacb0-dec8-4dbd-82c1-ad1891f065db",
   "metadata": {},
   "outputs": [
    {
     "data": {
      "text/plain": [
       "True"
      ]
     },
     "execution_count": 24,
     "metadata": {},
     "output_type": "execute_result"
    }
   ],
   "source": [
    "remove_context()"
   ]
  },
  {
   "cell_type": "code",
   "execution_count": null,
   "id": "b672112c-d042-4842-846b-163f495d7664",
   "metadata": {},
   "outputs": [],
   "source": []
  }
 ],
 "metadata": {
  "kernelspec": {
   "display_name": "Python 3 (ipykernel)",
   "language": "python",
   "name": "python3"
  },
  "language_info": {
   "codemirror_mode": {
    "name": "ipython",
    "version": 3
   },
   "file_extension": ".py",
   "mimetype": "text/x-python",
   "name": "python",
   "nbconvert_exporter": "python",
   "pygments_lexer": "ipython3",
   "version": "3.10.9"
  }
 },
 "nbformat": 4,
 "nbformat_minor": 5
}
