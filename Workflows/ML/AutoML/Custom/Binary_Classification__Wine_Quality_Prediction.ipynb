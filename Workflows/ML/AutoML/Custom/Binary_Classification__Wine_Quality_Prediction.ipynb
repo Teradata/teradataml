{
 "cells": [
  {
   "cell_type": "markdown",
   "id": "2762f1d8-5a66-411f-a625-34cf16ac6dd3",
   "metadata": {},
   "source": [
    "# <b><span style='color:#F1A424'>AutoML - Binary Classification - Wine Quality Prediction </span> </b>"
   ]
  },
  {
   "cell_type": "markdown",
   "id": "894b58c5-5910-4683-ba4a-a8d9ea5e3be2",
   "metadata": {},
   "source": [
    "### Disclaimer\n",
    "Please note, the Vantage Functions via SQLAlchemy feature is a preview/beta code release with limited functionality (the “Code”). As such, you acknowledge that the Code is experimental in nature and that the Code is provided “AS IS” and may not be functional on any machine or in any environment. TERADATA DISCLAIMS ALL WARRANTIES RELATING TO THE CODE, EXPRESS OR IMPLIED, INCLUDING, BUT NOT LIMITED TO, ANY WARRANTIES AGAINST INFRINGEMENT OF THIRD-PARTY RIGHTS, MERCHANTABILITY AND FITNESS FOR A PARTICULAR PURPOSE.\n",
    "\n",
    "TERADATA SHALL NOT BE RESPONSIBLE OR LIABLE WITH RESPECT TO ANY SUBJECT MATTER OF THE CODE UNDER ANY CONTRACT, NEGLIGENCE, STRICT LIABILITY OR OTHER THEORY \n",
    "    (A) FOR LOSS OR INACCURACY OF DATA OR COST OF PROCUREMENT OF SUBSTITUTE GOODS, SERVICES OR TECHNOLOGY, OR \n",
    "    (B) FOR ANY INDIRECT, INCIDENTAL OR CONSEQUENTIAL DAMAGES INCLUDING, BUT NOT LIMITED TO LOSS OF REVENUES AND LOSS OF PROFITS. TERADATA SHALL NOT BE RESPONSIBLE FOR ANY MATTER BEYOND ITS REASONABLE CONTROL.\n",
    "\n",
    "Notwithstanding anything to the contrary: \n",
    "    (a) Teradata will have no obligation of any kind with respect to any Code-related comments, suggestions, design changes or improvements that you elect to provide to Teradata in either verbal or written form (collectively, “Feedback”), and \n",
    "    (b) Teradata and its affiliates are hereby free to use any ideas, concepts, know-how or techniques, in whole or in part, contained in Feedback: \n",
    "        (i) for any purpose whatsoever, including developing, manufacturing, and/or marketing products and/or services incorporating Feedback in whole or in part, and \n",
    "        (ii) without any restrictions or limitations, including requiring the payment of any license fees, royalties, or other consideration. "
   ]
  },
  {
   "cell_type": "markdown",
   "id": "f225fb94-b2c8-4c92-af38-733d08e0e2a1",
   "metadata": {},
   "source": [
    "## <b> Problem overview:</b>\n",
    "    "
   ]
  },
  {
   "cell_type": "markdown",
   "id": "af9813eb-9c44-4968-a5fe-d1c74415c894",
   "metadata": {},
   "source": [
    "**Dataset used : Wine Quality Dataset**\n",
    "\n",
    "**Features**:\n",
    "\n",
    "- `fixed acidity`: fixed acidity of wine.\n",
    "- `volatile acidity`: volatile acidity of wine.\n",
    "- `citric acid`: citric acid of wine.\n",
    "- `residual sugar`: residual sugar of wine.\n",
    "- `chlorides`: chlorides.\n",
    "- `free sulfur dioxide`: free sulfur dioxide in wine.\n",
    "- `total sulfur dioxide`: total sulfur dioxide in wine.\n",
    "- `density`: density of wine.\n",
    "- `pH`: pH of wine.\n",
    "- `sulphates`: sulphates in wine.\n",
    "- `alcohol`: alcohol in wine.\n",
    "\n",
    "**Target Variable**:\n",
    "\n",
    "- `quality`: Quality of wine\n",
    "\n",
    "        \n",
    "**Objective**:\n",
    "\n",
    "The primary objective is typically to build a model that can accurately predict the quality of wine.\n",
    "\n",
    "**Usecase**:\n",
    "\n",
    "Here, we will use AutoML(Automated Machine Learning) functionality to automate the entire process of developing a predictive model. It will perform feature exploration, feature engineering, data preparation, model training and evaluation on dataset in custom run and at end we will get leaderboard containined different models along with their performance. Model will also have rank associated with them which indicates which is best performing model for given data followed by other models.\n",
    "\n",
    "As part of custom AutoML run, we will customize below functionalities:\n",
    "- Train test split with training size 0.7.\n",
    "- Data imbalance handling with 'SMOTE' method.\n",
    "- Outlier filteration with 'carling' method and deletion of outliers for 'residual_sugar'.\n",
    "- Feature scaling with 'std' method.\n",
    "- Addition of customized value in hyperparameter 'k' for 'knn' model."
   ]
  },
  {
   "cell_type": "code",
   "execution_count": 1,
   "id": "66568348-4d00-477c-a071-17995f797c95",
   "metadata": {},
   "outputs": [],
   "source": [
    "# Importing AutoML from teradataml\n",
    "from teradataml import AutoML, AutoClassifier"
   ]
  },
  {
   "cell_type": "code",
   "execution_count": 2,
   "id": "17dfae70-0401-4cc4-ba1c-400a5cf62451",
   "metadata": {},
   "outputs": [],
   "source": [
    "# Importing other important libraries\n",
    "import getpass\n",
    "from teradataml import create_context, remove_context\n",
    "from teradataml import DataFrame\n",
    "from teradataml import load_example_data\n",
    "from teradataml import TrainTestSplit"
   ]
  },
  {
   "cell_type": "code",
   "execution_count": 3,
   "id": "cadd9ed2-42d6-4899-b23e-4e2cf601162f",
   "metadata": {},
   "outputs": [
    {
     "name": "stdin",
     "output_type": "stream",
     "text": [
      "Host:  ········\n",
      "Username:  ········\n",
      "Password:  ········\n"
     ]
    }
   ],
   "source": [
    "# Create the connection.\n",
    "host = getpass.getpass(\"Host: \")\n",
    "username = getpass.getpass(\"Username: \")\n",
    "password = getpass.getpass(\"Password: \")\n",
    "\n",
    "con = create_context(host=host, username=username, password=password)"
   ]
  },
  {
   "cell_type": "markdown",
   "id": "be767a89-d5b8-4876-91cb-36980754586e",
   "metadata": {},
   "source": [
    "## <b><span style='color:#F1A424'>| 1.</span> Loading Dataset </b>"
   ]
  },
  {
   "cell_type": "code",
   "execution_count": 4,
   "id": "f1592c52-b247-4792-be2a-30b49bbeb9b6",
   "metadata": {},
   "outputs": [
    {
     "name": "stdout",
     "output_type": "stream",
     "text": [
      "WARNING: Skipped loading table wine_data since it already exists in the database.\n"
     ]
    }
   ],
   "source": [
    "# Loading dataset from example data collection\n",
    "load_example_data('teradataml','wine_data')"
   ]
  },
  {
   "cell_type": "code",
   "execution_count": 5,
   "id": "3846ae0f-004b-4b8e-9fea-06fac4294065",
   "metadata": {},
   "outputs": [],
   "source": [
    "# Fetching in teradata dataframe\n",
    "wine_df = DataFrame(\"wine_data\")"
   ]
  },
  {
   "cell_type": "code",
   "execution_count": 6,
   "id": "442ccd80-b444-413e-970d-d855ec3d6cae",
   "metadata": {},
   "outputs": [
    {
     "data": {
      "text/html": [
       "<style type=\"text/css\">\n",
       "\ttable {border:ridge 5px;}\n",
       "\ttable td {border:inset 1px;}\n",
       "\ttable tr#HeaderRow {background-color:grey; color:white;}</style>\n",
       "<html><table>\n",
       "\t<tr id=\"HeaderRow\">\n",
       "\t\t<th>fixed_acidity</th>\n",
       "\t\t<th>volatile_acidity</th>\n",
       "\t\t<th>citric_acid</th>\n",
       "\t\t<th>residual_sugar</th>\n",
       "\t\t<th>chlorides</th>\n",
       "\t\t<th>free_sulfur_dioxide</th>\n",
       "\t\t<th>total_sulfur_dioxide</th>\n",
       "\t\t<th>density</th>\n",
       "\t\t<th>pH</th>\n",
       "\t\t<th>sulphates</th>\n",
       "\t\t<th>alcohol</th>\n",
       "\t\t<th>quality</th>\n",
       "\t</tr>\n",
       "\t<tr>\n",
       "\t\t<td>4.9</td>\n",
       "\t\t<td>0.42</td>\n",
       "\t\t<td>0.0</td>\n",
       "\t\t<td>2.1</td>\n",
       "\t\t<td>0.048</td>\n",
       "\t\t<td>16.0</td>\n",
       "\t\t<td>42.0</td>\n",
       "\t\t<td>0.99154</td>\n",
       "\t\t<td>3.71</td>\n",
       "\t\t<td>0.74</td>\n",
       "\t\t<td>14.0</td>\n",
       "\t\t<td>good</td>\n",
       "\t</tr>\n",
       "\t<tr>\n",
       "\t\t<td>5.0</td>\n",
       "\t\t<td>0.74</td>\n",
       "\t\t<td>0.0</td>\n",
       "\t\t<td>1.2</td>\n",
       "\t\t<td>0.041</td>\n",
       "\t\t<td>16.0</td>\n",
       "\t\t<td>46.0</td>\n",
       "\t\t<td>0.99258</td>\n",
       "\t\t<td>4.01</td>\n",
       "\t\t<td>0.59</td>\n",
       "\t\t<td>12.5</td>\n",
       "\t\t<td>good</td>\n",
       "\t</tr>\n",
       "\t<tr>\n",
       "\t\t<td>5.0</td>\n",
       "\t\t<td>0.4</td>\n",
       "\t\t<td>0.5</td>\n",
       "\t\t<td>4.3</td>\n",
       "\t\t<td>0.046</td>\n",
       "\t\t<td>29.0</td>\n",
       "\t\t<td>80.0</td>\n",
       "\t\t<td>0.9902</td>\n",
       "\t\t<td>3.49</td>\n",
       "\t\t<td>0.66</td>\n",
       "\t\t<td>13.6</td>\n",
       "\t\t<td>good</td>\n",
       "\t</tr>\n",
       "\t<tr>\n",
       "\t\t<td>5.0</td>\n",
       "\t\t<td>1.02</td>\n",
       "\t\t<td>0.04</td>\n",
       "\t\t<td>1.4</td>\n",
       "\t\t<td>0.045</td>\n",
       "\t\t<td>41.0</td>\n",
       "\t\t<td>85.0</td>\n",
       "\t\t<td>0.9938</td>\n",
       "\t\t<td>3.75</td>\n",
       "\t\t<td>0.48</td>\n",
       "\t\t<td>10.5</td>\n",
       "\t\t<td>bad</td>\n",
       "\t</tr>\n",
       "\t<tr>\n",
       "\t\t<td>5.0</td>\n",
       "\t\t<td>1.04</td>\n",
       "\t\t<td>0.24</td>\n",
       "\t\t<td>1.6</td>\n",
       "\t\t<td>0.05</td>\n",
       "\t\t<td>32.0</td>\n",
       "\t\t<td>96.0</td>\n",
       "\t\t<td>0.9934</td>\n",
       "\t\t<td>3.74</td>\n",
       "\t\t<td>0.62</td>\n",
       "\t\t<td>11.5</td>\n",
       "\t\t<td>bad</td>\n",
       "\t</tr>\n",
       "\t<tr>\n",
       "\t\t<td>5.1</td>\n",
       "\t\t<td>0.585</td>\n",
       "\t\t<td>0.0</td>\n",
       "\t\t<td>1.7</td>\n",
       "\t\t<td>0.044</td>\n",
       "\t\t<td>14.0</td>\n",
       "\t\t<td>86.0</td>\n",
       "\t\t<td>0.99264</td>\n",
       "\t\t<td>3.56</td>\n",
       "\t\t<td>0.94</td>\n",
       "\t\t<td>12.9</td>\n",
       "\t\t<td>good</td>\n",
       "\t</tr>\n",
       "\t<tr>\n",
       "\t\t<td>5.0</td>\n",
       "\t\t<td>0.38</td>\n",
       "\t\t<td>0.01</td>\n",
       "\t\t<td>1.6</td>\n",
       "\t\t<td>0.048</td>\n",
       "\t\t<td>26.0</td>\n",
       "\t\t<td>60.0</td>\n",
       "\t\t<td>0.99084</td>\n",
       "\t\t<td>3.7</td>\n",
       "\t\t<td>0.75</td>\n",
       "\t\t<td>14.0</td>\n",
       "\t\t<td>good</td>\n",
       "\t</tr>\n",
       "\t<tr>\n",
       "\t\t<td>5.0</td>\n",
       "\t\t<td>0.42</td>\n",
       "\t\t<td>0.24</td>\n",
       "\t\t<td>2.0</td>\n",
       "\t\t<td>0.06</td>\n",
       "\t\t<td>19.0</td>\n",
       "\t\t<td>50.0</td>\n",
       "\t\t<td>0.9917</td>\n",
       "\t\t<td>3.72</td>\n",
       "\t\t<td>0.74</td>\n",
       "\t\t<td>14.0</td>\n",
       "\t\t<td>good</td>\n",
       "\t</tr>\n",
       "\t<tr>\n",
       "\t\t<td>4.7</td>\n",
       "\t\t<td>0.6</td>\n",
       "\t\t<td>0.17</td>\n",
       "\t\t<td>2.3</td>\n",
       "\t\t<td>0.058</td>\n",
       "\t\t<td>17.0</td>\n",
       "\t\t<td>106.0</td>\n",
       "\t\t<td>0.9932</td>\n",
       "\t\t<td>3.85</td>\n",
       "\t\t<td>0.6</td>\n",
       "\t\t<td>12.9</td>\n",
       "\t\t<td>good</td>\n",
       "\t</tr>\n",
       "\t<tr>\n",
       "\t\t<td>4.6</td>\n",
       "\t\t<td>0.52</td>\n",
       "\t\t<td>0.15</td>\n",
       "\t\t<td>2.1</td>\n",
       "\t\t<td>0.054</td>\n",
       "\t\t<td>8.0</td>\n",
       "\t\t<td>65.0</td>\n",
       "\t\t<td>0.9934</td>\n",
       "\t\t<td>3.9</td>\n",
       "\t\t<td>0.56</td>\n",
       "\t\t<td>13.1</td>\n",
       "\t\t<td>bad</td>\n",
       "\t</tr>\n",
       "</table></html>"
      ],
      "text/plain": [
       "               volatile_acidity  citric_acid  residual_sugar  chlorides  free_sulfur_dioxide  total_sulfur_dioxide  density    pH  sulphates  alcohol quality\n",
       "fixed_acidity                                                                                                                                                \n",
       "4.9                       0.420         0.00             2.1      0.048                 16.0                  42.0  0.99154  3.71       0.74     14.0    good\n",
       "5.0                       0.740         0.00             1.2      0.041                 16.0                  46.0  0.99258  4.01       0.59     12.5    good\n",
       "5.0                       0.400         0.50             4.3      0.046                 29.0                  80.0  0.99020  3.49       0.66     13.6    good\n",
       "5.0                       1.020         0.04             1.4      0.045                 41.0                  85.0  0.99380  3.75       0.48     10.5     bad\n",
       "5.0                       1.040         0.24             1.6      0.050                 32.0                  96.0  0.99340  3.74       0.62     11.5     bad\n",
       "5.1                       0.585         0.00             1.7      0.044                 14.0                  86.0  0.99264  3.56       0.94     12.9    good\n",
       "5.0                       0.380         0.01             1.6      0.048                 26.0                  60.0  0.99084  3.70       0.75     14.0    good\n",
       "5.0                       0.420         0.24             2.0      0.060                 19.0                  50.0  0.99170  3.72       0.74     14.0    good\n",
       "4.7                       0.600         0.17             2.3      0.058                 17.0                 106.0  0.99320  3.85       0.60     12.9    good\n",
       "4.6                       0.520         0.15             2.1      0.054                  8.0                  65.0  0.99340  3.90       0.56     13.1     bad"
      ]
     },
     "execution_count": 6,
     "metadata": {},
     "output_type": "execute_result"
    }
   ],
   "source": [
    "# first 5 rows\n",
    "wine_df.head()"
   ]
  },
  {
   "cell_type": "code",
   "execution_count": 7,
   "id": "636c220d-d12f-4ea5-ab2b-c9203ef00d49",
   "metadata": {},
   "outputs": [
    {
     "data": {
      "text/plain": [
       "(1599, 12)"
      ]
     },
     "execution_count": 7,
     "metadata": {},
     "output_type": "execute_result"
    }
   ],
   "source": [
    "# wine_df dataset\n",
    "wine_df.shape"
   ]
  },
  {
   "cell_type": "code",
   "execution_count": 8,
   "id": "e5d1fad7-8784-4d7a-be1f-7be1d3991d8f",
   "metadata": {},
   "outputs": [],
   "source": [
    "# Performing sampling to get 80% for trainning and 20% for testing\n",
    "wine_df_sample = wine_df.sample(frac = [0.8, 0.2])"
   ]
  },
  {
   "cell_type": "code",
   "execution_count": 9,
   "id": "a0e6891a-1b7e-4bac-97c8-350ba5f5bde4",
   "metadata": {},
   "outputs": [
    {
     "data": {
      "text/html": [
       "<style type=\"text/css\">\n",
       "\ttable {border:ridge 5px;}\n",
       "\ttable td {border:inset 1px;}\n",
       "\ttable tr#HeaderRow {background-color:grey; color:white;}</style>\n",
       "<html><table>\n",
       "\t<tr id=\"HeaderRow\">\n",
       "\t\t<th>fixed_acidity</th>\n",
       "\t\t<th>volatile_acidity</th>\n",
       "\t\t<th>citric_acid</th>\n",
       "\t\t<th>residual_sugar</th>\n",
       "\t\t<th>chlorides</th>\n",
       "\t\t<th>free_sulfur_dioxide</th>\n",
       "\t\t<th>total_sulfur_dioxide</th>\n",
       "\t\t<th>density</th>\n",
       "\t\t<th>pH</th>\n",
       "\t\t<th>sulphates</th>\n",
       "\t\t<th>alcohol</th>\n",
       "\t\t<th>quality</th>\n",
       "\t\t<th>sampleid</th>\n",
       "\t</tr>\n",
       "\t<tr>\n",
       "\t\t<td>4.9</td>\n",
       "\t\t<td>0.42</td>\n",
       "\t\t<td>0.0</td>\n",
       "\t\t<td>2.1</td>\n",
       "\t\t<td>0.048</td>\n",
       "\t\t<td>16.0</td>\n",
       "\t\t<td>42.0</td>\n",
       "\t\t<td>0.99154</td>\n",
       "\t\t<td>3.71</td>\n",
       "\t\t<td>0.74</td>\n",
       "\t\t<td>14.0</td>\n",
       "\t\t<td>good</td>\n",
       "\t\t<td>1</td>\n",
       "\t</tr>\n",
       "\t<tr>\n",
       "\t\t<td>5.0</td>\n",
       "\t\t<td>1.04</td>\n",
       "\t\t<td>0.24</td>\n",
       "\t\t<td>1.6</td>\n",
       "\t\t<td>0.05</td>\n",
       "\t\t<td>32.0</td>\n",
       "\t\t<td>96.0</td>\n",
       "\t\t<td>0.9934</td>\n",
       "\t\t<td>3.74</td>\n",
       "\t\t<td>0.62</td>\n",
       "\t\t<td>11.5</td>\n",
       "\t\t<td>bad</td>\n",
       "\t\t<td>2</td>\n",
       "\t</tr>\n",
       "\t<tr>\n",
       "\t\t<td>5.0</td>\n",
       "\t\t<td>0.38</td>\n",
       "\t\t<td>0.01</td>\n",
       "\t\t<td>1.6</td>\n",
       "\t\t<td>0.048</td>\n",
       "\t\t<td>26.0</td>\n",
       "\t\t<td>60.0</td>\n",
       "\t\t<td>0.99084</td>\n",
       "\t\t<td>3.7</td>\n",
       "\t\t<td>0.75</td>\n",
       "\t\t<td>14.0</td>\n",
       "\t\t<td>good</td>\n",
       "\t\t<td>1</td>\n",
       "\t</tr>\n",
       "\t<tr>\n",
       "\t\t<td>5.0</td>\n",
       "\t\t<td>0.42</td>\n",
       "\t\t<td>0.24</td>\n",
       "\t\t<td>2.0</td>\n",
       "\t\t<td>0.06</td>\n",
       "\t\t<td>19.0</td>\n",
       "\t\t<td>50.0</td>\n",
       "\t\t<td>0.9917</td>\n",
       "\t\t<td>3.72</td>\n",
       "\t\t<td>0.74</td>\n",
       "\t\t<td>14.0</td>\n",
       "\t\t<td>good</td>\n",
       "\t\t<td>1</td>\n",
       "\t</tr>\n",
       "\t<tr>\n",
       "\t\t<td>5.0</td>\n",
       "\t\t<td>0.74</td>\n",
       "\t\t<td>0.0</td>\n",
       "\t\t<td>1.2</td>\n",
       "\t\t<td>0.041</td>\n",
       "\t\t<td>16.0</td>\n",
       "\t\t<td>46.0</td>\n",
       "\t\t<td>0.99258</td>\n",
       "\t\t<td>4.01</td>\n",
       "\t\t<td>0.59</td>\n",
       "\t\t<td>12.5</td>\n",
       "\t\t<td>good</td>\n",
       "\t\t<td>1</td>\n",
       "\t</tr>\n",
       "\t<tr>\n",
       "\t\t<td>5.1</td>\n",
       "\t\t<td>0.51</td>\n",
       "\t\t<td>0.18</td>\n",
       "\t\t<td>2.1</td>\n",
       "\t\t<td>0.042</td>\n",
       "\t\t<td>16.0</td>\n",
       "\t\t<td>101.0</td>\n",
       "\t\t<td>0.9924</td>\n",
       "\t\t<td>3.46</td>\n",
       "\t\t<td>0.87</td>\n",
       "\t\t<td>12.9</td>\n",
       "\t\t<td>good</td>\n",
       "\t\t<td>2</td>\n",
       "\t</tr>\n",
       "\t<tr>\n",
       "\t\t<td>5.0</td>\n",
       "\t\t<td>1.02</td>\n",
       "\t\t<td>0.04</td>\n",
       "\t\t<td>1.4</td>\n",
       "\t\t<td>0.045</td>\n",
       "\t\t<td>41.0</td>\n",
       "\t\t<td>85.0</td>\n",
       "\t\t<td>0.9938</td>\n",
       "\t\t<td>3.75</td>\n",
       "\t\t<td>0.48</td>\n",
       "\t\t<td>10.5</td>\n",
       "\t\t<td>bad</td>\n",
       "\t\t<td>2</td>\n",
       "\t</tr>\n",
       "\t<tr>\n",
       "\t\t<td>5.0</td>\n",
       "\t\t<td>0.4</td>\n",
       "\t\t<td>0.5</td>\n",
       "\t\t<td>4.3</td>\n",
       "\t\t<td>0.046</td>\n",
       "\t\t<td>29.0</td>\n",
       "\t\t<td>80.0</td>\n",
       "\t\t<td>0.9902</td>\n",
       "\t\t<td>3.49</td>\n",
       "\t\t<td>0.66</td>\n",
       "\t\t<td>13.6</td>\n",
       "\t\t<td>good</td>\n",
       "\t\t<td>2</td>\n",
       "\t</tr>\n",
       "\t<tr>\n",
       "\t\t<td>4.7</td>\n",
       "\t\t<td>0.6</td>\n",
       "\t\t<td>0.17</td>\n",
       "\t\t<td>2.3</td>\n",
       "\t\t<td>0.058</td>\n",
       "\t\t<td>17.0</td>\n",
       "\t\t<td>106.0</td>\n",
       "\t\t<td>0.9932</td>\n",
       "\t\t<td>3.85</td>\n",
       "\t\t<td>0.6</td>\n",
       "\t\t<td>12.9</td>\n",
       "\t\t<td>good</td>\n",
       "\t\t<td>2</td>\n",
       "\t</tr>\n",
       "\t<tr>\n",
       "\t\t<td>4.6</td>\n",
       "\t\t<td>0.52</td>\n",
       "\t\t<td>0.15</td>\n",
       "\t\t<td>2.1</td>\n",
       "\t\t<td>0.054</td>\n",
       "\t\t<td>8.0</td>\n",
       "\t\t<td>65.0</td>\n",
       "\t\t<td>0.9934</td>\n",
       "\t\t<td>3.9</td>\n",
       "\t\t<td>0.56</td>\n",
       "\t\t<td>13.1</td>\n",
       "\t\t<td>bad</td>\n",
       "\t\t<td>1</td>\n",
       "\t</tr>\n",
       "</table></html>"
      ],
      "text/plain": [
       "               volatile_acidity  citric_acid  residual_sugar  chlorides  free_sulfur_dioxide  total_sulfur_dioxide  density    pH  sulphates  alcohol quality  sampleid\n",
       "fixed_acidity                                                                                                                                                          \n",
       "4.9                        0.42         0.00             2.1      0.048                 16.0                  42.0  0.99154  3.71       0.74     14.0    good         1\n",
       "5.0                        1.04         0.24             1.6      0.050                 32.0                  96.0  0.99340  3.74       0.62     11.5     bad         2\n",
       "5.0                        0.38         0.01             1.6      0.048                 26.0                  60.0  0.99084  3.70       0.75     14.0    good         1\n",
       "5.0                        0.42         0.24             2.0      0.060                 19.0                  50.0  0.99170  3.72       0.74     14.0    good         1\n",
       "5.0                        0.74         0.00             1.2      0.041                 16.0                  46.0  0.99258  4.01       0.59     12.5    good         1\n",
       "5.1                        0.51         0.18             2.1      0.042                 16.0                 101.0  0.99240  3.46       0.87     12.9    good         2\n",
       "5.0                        1.02         0.04             1.4      0.045                 41.0                  85.0  0.99380  3.75       0.48     10.5     bad         2\n",
       "5.0                        0.40         0.50             4.3      0.046                 29.0                  80.0  0.99020  3.49       0.66     13.6    good         2\n",
       "4.7                        0.60         0.17             2.3      0.058                 17.0                 106.0  0.99320  3.85       0.60     12.9    good         2\n",
       "4.6                        0.52         0.15             2.1      0.054                  8.0                  65.0  0.99340  3.90       0.56     13.1     bad         1"
      ]
     },
     "execution_count": 9,
     "metadata": {},
     "output_type": "execute_result"
    }
   ],
   "source": [
    "wine_df_sample.head()"
   ]
  },
  {
   "cell_type": "code",
   "execution_count": 10,
   "id": "5e3e5923-18ad-4cf6-b4e5-e87f8854700b",
   "metadata": {},
   "outputs": [],
   "source": [
    "# Fetching train and test data\n",
    "wine_df_train= wine_df_sample[wine_df_sample['sampleid'] == 1].drop('sampleid', axis=1)\n",
    "wine_df_test = wine_df_sample[wine_df_sample['sampleid'] == 2].drop('sampleid', axis=1)"
   ]
  },
  {
   "cell_type": "code",
   "execution_count": 11,
   "id": "83d72a72-3fac-4862-b374-d21ab59be1a6",
   "metadata": {},
   "outputs": [
    {
     "data": {
      "text/plain": [
       "(1279, 12)"
      ]
     },
     "execution_count": 11,
     "metadata": {},
     "output_type": "execute_result"
    }
   ],
   "source": [
    "# train data shape\n",
    "wine_df_train.shape"
   ]
  },
  {
   "cell_type": "code",
   "execution_count": 12,
   "id": "b22be730-8a7a-40f3-8e2a-cabd8d1f427f",
   "metadata": {},
   "outputs": [
    {
     "data": {
      "text/plain": [
       "(320, 12)"
      ]
     },
     "execution_count": 12,
     "metadata": {},
     "output_type": "execute_result"
    }
   ],
   "source": [
    "# test data shape\n",
    "wine_df_test.shape"
   ]
  },
  {
   "cell_type": "code",
   "execution_count": 13,
   "id": "18473df2-be15-4e1e-bc5e-739abacf8b89",
   "metadata": {},
   "outputs": [
    {
     "data": {
      "text/html": [
       "<style type=\"text/css\">\n",
       "\ttable {border:ridge 5px;}\n",
       "\ttable td {border:inset 1px;}\n",
       "\ttable tr#HeaderRow {background-color:grey; color:white;}</style>\n",
       "<html><table>\n",
       "\t<tr id=\"HeaderRow\">\n",
       "\t\t<th>fixed_acidity</th>\n",
       "\t\t<th>volatile_acidity</th>\n",
       "\t\t<th>citric_acid</th>\n",
       "\t\t<th>residual_sugar</th>\n",
       "\t\t<th>chlorides</th>\n",
       "\t\t<th>free_sulfur_dioxide</th>\n",
       "\t\t<th>total_sulfur_dioxide</th>\n",
       "\t\t<th>density</th>\n",
       "\t\t<th>pH</th>\n",
       "\t\t<th>sulphates</th>\n",
       "\t\t<th>alcohol</th>\n",
       "\t\t<th>quality</th>\n",
       "\t</tr>\n",
       "\t<tr>\n",
       "\t\t<td>5.0</td>\n",
       "\t\t<td>0.42</td>\n",
       "\t\t<td>0.24</td>\n",
       "\t\t<td>2.0</td>\n",
       "\t\t<td>0.06</td>\n",
       "\t\t<td>19.0</td>\n",
       "\t\t<td>50.0</td>\n",
       "\t\t<td>0.9917</td>\n",
       "\t\t<td>3.72</td>\n",
       "\t\t<td>0.74</td>\n",
       "\t\t<td>14.0</td>\n",
       "\t\t<td>good</td>\n",
       "\t</tr>\n",
       "\t<tr>\n",
       "\t\t<td>5.0</td>\n",
       "\t\t<td>0.74</td>\n",
       "\t\t<td>0.0</td>\n",
       "\t\t<td>1.2</td>\n",
       "\t\t<td>0.041</td>\n",
       "\t\t<td>16.0</td>\n",
       "\t\t<td>46.0</td>\n",
       "\t\t<td>0.99258</td>\n",
       "\t\t<td>4.01</td>\n",
       "\t\t<td>0.59</td>\n",
       "\t\t<td>12.5</td>\n",
       "\t\t<td>good</td>\n",
       "\t</tr>\n",
       "\t<tr>\n",
       "\t\t<td>5.1</td>\n",
       "\t\t<td>0.585</td>\n",
       "\t\t<td>0.0</td>\n",
       "\t\t<td>1.7</td>\n",
       "\t\t<td>0.044</td>\n",
       "\t\t<td>14.0</td>\n",
       "\t\t<td>86.0</td>\n",
       "\t\t<td>0.99264</td>\n",
       "\t\t<td>3.56</td>\n",
       "\t\t<td>0.94</td>\n",
       "\t\t<td>12.9</td>\n",
       "\t\t<td>good</td>\n",
       "\t</tr>\n",
       "\t<tr>\n",
       "\t\t<td>5.1</td>\n",
       "\t\t<td>0.47</td>\n",
       "\t\t<td>0.02</td>\n",
       "\t\t<td>1.3</td>\n",
       "\t\t<td>0.034</td>\n",
       "\t\t<td>18.0</td>\n",
       "\t\t<td>44.0</td>\n",
       "\t\t<td>0.9921</td>\n",
       "\t\t<td>3.9</td>\n",
       "\t\t<td>0.62</td>\n",
       "\t\t<td>12.8</td>\n",
       "\t\t<td>good</td>\n",
       "\t</tr>\n",
       "\t<tr>\n",
       "\t\t<td>5.2</td>\n",
       "\t\t<td>0.645</td>\n",
       "\t\t<td>0.0</td>\n",
       "\t\t<td>2.15</td>\n",
       "\t\t<td>0.08</td>\n",
       "\t\t<td>15.0</td>\n",
       "\t\t<td>28.0</td>\n",
       "\t\t<td>0.99444</td>\n",
       "\t\t<td>3.78</td>\n",
       "\t\t<td>0.61</td>\n",
       "\t\t<td>12.5</td>\n",
       "\t\t<td>good</td>\n",
       "\t</tr>\n",
       "\t<tr>\n",
       "\t\t<td>5.2</td>\n",
       "\t\t<td>0.32</td>\n",
       "\t\t<td>0.25</td>\n",
       "\t\t<td>1.8</td>\n",
       "\t\t<td>0.103</td>\n",
       "\t\t<td>13.0</td>\n",
       "\t\t<td>50.0</td>\n",
       "\t\t<td>0.9957</td>\n",
       "\t\t<td>3.38</td>\n",
       "\t\t<td>0.55</td>\n",
       "\t\t<td>9.2</td>\n",
       "\t\t<td>bad</td>\n",
       "\t</tr>\n",
       "\t<tr>\n",
       "\t\t<td>5.2</td>\n",
       "\t\t<td>0.34</td>\n",
       "\t\t<td>0.0</td>\n",
       "\t\t<td>1.8</td>\n",
       "\t\t<td>0.05</td>\n",
       "\t\t<td>27.0</td>\n",
       "\t\t<td>63.0</td>\n",
       "\t\t<td>0.9916</td>\n",
       "\t\t<td>3.68</td>\n",
       "\t\t<td>0.79</td>\n",
       "\t\t<td>14.0</td>\n",
       "\t\t<td>good</td>\n",
       "\t</tr>\n",
       "\t<tr>\n",
       "\t\t<td>5.0</td>\n",
       "\t\t<td>0.38</td>\n",
       "\t\t<td>0.01</td>\n",
       "\t\t<td>1.6</td>\n",
       "\t\t<td>0.048</td>\n",
       "\t\t<td>26.0</td>\n",
       "\t\t<td>60.0</td>\n",
       "\t\t<td>0.99084</td>\n",
       "\t\t<td>3.7</td>\n",
       "\t\t<td>0.75</td>\n",
       "\t\t<td>14.0</td>\n",
       "\t\t<td>good</td>\n",
       "\t</tr>\n",
       "\t<tr>\n",
       "\t\t<td>4.9</td>\n",
       "\t\t<td>0.42</td>\n",
       "\t\t<td>0.0</td>\n",
       "\t\t<td>2.1</td>\n",
       "\t\t<td>0.048</td>\n",
       "\t\t<td>16.0</td>\n",
       "\t\t<td>42.0</td>\n",
       "\t\t<td>0.99154</td>\n",
       "\t\t<td>3.71</td>\n",
       "\t\t<td>0.74</td>\n",
       "\t\t<td>14.0</td>\n",
       "\t\t<td>good</td>\n",
       "\t</tr>\n",
       "\t<tr>\n",
       "\t\t<td>4.6</td>\n",
       "\t\t<td>0.52</td>\n",
       "\t\t<td>0.15</td>\n",
       "\t\t<td>2.1</td>\n",
       "\t\t<td>0.054</td>\n",
       "\t\t<td>8.0</td>\n",
       "\t\t<td>65.0</td>\n",
       "\t\t<td>0.9934</td>\n",
       "\t\t<td>3.9</td>\n",
       "\t\t<td>0.56</td>\n",
       "\t\t<td>13.1</td>\n",
       "\t\t<td>bad</td>\n",
       "\t</tr>\n",
       "</table></html>"
      ],
      "text/plain": [
       "               volatile_acidity  citric_acid  residual_sugar  chlorides  free_sulfur_dioxide  total_sulfur_dioxide  density    pH  sulphates  alcohol quality\n",
       "fixed_acidity                                                                                                                                                \n",
       "5.0                       0.420         0.24            2.00      0.060                 19.0                  50.0  0.99170  3.72       0.74     14.0    good\n",
       "5.0                       0.740         0.00            1.20      0.041                 16.0                  46.0  0.99258  4.01       0.59     12.5    good\n",
       "5.1                       0.585         0.00            1.70      0.044                 14.0                  86.0  0.99264  3.56       0.94     12.9    good\n",
       "5.1                       0.470         0.02            1.30      0.034                 18.0                  44.0  0.99210  3.90       0.62     12.8    good\n",
       "5.2                       0.645         0.00            2.15      0.080                 15.0                  28.0  0.99444  3.78       0.61     12.5    good\n",
       "5.2                       0.320         0.25            1.80      0.103                 13.0                  50.0  0.99570  3.38       0.55      9.2     bad\n",
       "5.2                       0.340         0.00            1.80      0.050                 27.0                  63.0  0.99160  3.68       0.79     14.0    good\n",
       "5.0                       0.380         0.01            1.60      0.048                 26.0                  60.0  0.99084  3.70       0.75     14.0    good\n",
       "4.9                       0.420         0.00            2.10      0.048                 16.0                  42.0  0.99154  3.71       0.74     14.0    good\n",
       "4.6                       0.520         0.15            2.10      0.054                  8.0                  65.0  0.99340  3.90       0.56     13.1     bad"
      ]
     },
     "execution_count": 13,
     "metadata": {},
     "output_type": "execute_result"
    }
   ],
   "source": [
    "#train dataset\n",
    "wine_df_train.head()"
   ]
  },
  {
   "cell_type": "code",
   "execution_count": 14,
   "id": "58c9d763-4f19-449e-a35b-676d4d026acc",
   "metadata": {},
   "outputs": [
    {
     "data": {
      "text/html": [
       "<style type=\"text/css\">\n",
       "\ttable {border:ridge 5px;}\n",
       "\ttable td {border:inset 1px;}\n",
       "\ttable tr#HeaderRow {background-color:grey; color:white;}</style>\n",
       "<html><table>\n",
       "\t<tr id=\"HeaderRow\">\n",
       "\t\t<th>fixed_acidity</th>\n",
       "\t\t<th>volatile_acidity</th>\n",
       "\t\t<th>citric_acid</th>\n",
       "\t\t<th>residual_sugar</th>\n",
       "\t\t<th>chlorides</th>\n",
       "\t\t<th>free_sulfur_dioxide</th>\n",
       "\t\t<th>total_sulfur_dioxide</th>\n",
       "\t\t<th>density</th>\n",
       "\t\t<th>pH</th>\n",
       "\t\t<th>sulphates</th>\n",
       "\t\t<th>alcohol</th>\n",
       "\t\t<th>quality</th>\n",
       "\t</tr>\n",
       "\t<tr>\n",
       "\t\t<td>5.0</td>\n",
       "\t\t<td>1.02</td>\n",
       "\t\t<td>0.04</td>\n",
       "\t\t<td>1.4</td>\n",
       "\t\t<td>0.045</td>\n",
       "\t\t<td>41.0</td>\n",
       "\t\t<td>85.0</td>\n",
       "\t\t<td>0.9938</td>\n",
       "\t\t<td>3.75</td>\n",
       "\t\t<td>0.48</td>\n",
       "\t\t<td>10.5</td>\n",
       "\t\t<td>bad</td>\n",
       "\t</tr>\n",
       "\t<tr>\n",
       "\t\t<td>5.1</td>\n",
       "\t\t<td>0.51</td>\n",
       "\t\t<td>0.18</td>\n",
       "\t\t<td>2.1</td>\n",
       "\t\t<td>0.042</td>\n",
       "\t\t<td>16.0</td>\n",
       "\t\t<td>101.0</td>\n",
       "\t\t<td>0.9924</td>\n",
       "\t\t<td>3.46</td>\n",
       "\t\t<td>0.87</td>\n",
       "\t\t<td>12.9</td>\n",
       "\t\t<td>good</td>\n",
       "\t</tr>\n",
       "\t<tr>\n",
       "\t\t<td>5.1</td>\n",
       "\t\t<td>0.42</td>\n",
       "\t\t<td>0.0</td>\n",
       "\t\t<td>1.8</td>\n",
       "\t\t<td>0.044</td>\n",
       "\t\t<td>18.0</td>\n",
       "\t\t<td>88.0</td>\n",
       "\t\t<td>0.99157</td>\n",
       "\t\t<td>3.68</td>\n",
       "\t\t<td>0.73</td>\n",
       "\t\t<td>13.6</td>\n",
       "\t\t<td>good</td>\n",
       "\t</tr>\n",
       "\t<tr>\n",
       "\t\t<td>5.2</td>\n",
       "\t\t<td>0.49</td>\n",
       "\t\t<td>0.26</td>\n",
       "\t\t<td>2.3</td>\n",
       "\t\t<td>0.09</td>\n",
       "\t\t<td>23.0</td>\n",
       "\t\t<td>74.0</td>\n",
       "\t\t<td>0.9953</td>\n",
       "\t\t<td>3.71</td>\n",
       "\t\t<td>0.62</td>\n",
       "\t\t<td>12.2</td>\n",
       "\t\t<td>good</td>\n",
       "\t</tr>\n",
       "\t<tr>\n",
       "\t\t<td>5.4</td>\n",
       "\t\t<td>0.58</td>\n",
       "\t\t<td>0.08</td>\n",
       "\t\t<td>1.9</td>\n",
       "\t\t<td>0.059</td>\n",
       "\t\t<td>20.0</td>\n",
       "\t\t<td>31.0</td>\n",
       "\t\t<td>0.99484</td>\n",
       "\t\t<td>3.5</td>\n",
       "\t\t<td>0.64</td>\n",
       "\t\t<td>10.2</td>\n",
       "\t\t<td>good</td>\n",
       "\t</tr>\n",
       "\t<tr>\n",
       "\t\t<td>5.6</td>\n",
       "\t\t<td>0.66</td>\n",
       "\t\t<td>0.0</td>\n",
       "\t\t<td>2.2</td>\n",
       "\t\t<td>0.087</td>\n",
       "\t\t<td>3.0</td>\n",
       "\t\t<td>11.0</td>\n",
       "\t\t<td>0.99378</td>\n",
       "\t\t<td>3.71</td>\n",
       "\t\t<td>0.63</td>\n",
       "\t\t<td>12.8</td>\n",
       "\t\t<td>good</td>\n",
       "\t</tr>\n",
       "\t<tr>\n",
       "\t\t<td>5.2</td>\n",
       "\t\t<td>0.34</td>\n",
       "\t\t<td>0.0</td>\n",
       "\t\t<td>1.8</td>\n",
       "\t\t<td>0.05</td>\n",
       "\t\t<td>27.0</td>\n",
       "\t\t<td>63.0</td>\n",
       "\t\t<td>0.9916</td>\n",
       "\t\t<td>3.68</td>\n",
       "\t\t<td>0.79</td>\n",
       "\t\t<td>14.0</td>\n",
       "\t\t<td>good</td>\n",
       "\t</tr>\n",
       "\t<tr>\n",
       "\t\t<td>5.0</td>\n",
       "\t\t<td>0.4</td>\n",
       "\t\t<td>0.5</td>\n",
       "\t\t<td>4.3</td>\n",
       "\t\t<td>0.046</td>\n",
       "\t\t<td>29.0</td>\n",
       "\t\t<td>80.0</td>\n",
       "\t\t<td>0.9902</td>\n",
       "\t\t<td>3.49</td>\n",
       "\t\t<td>0.66</td>\n",
       "\t\t<td>13.6</td>\n",
       "\t\t<td>good</td>\n",
       "\t</tr>\n",
       "\t<tr>\n",
       "\t\t<td>5.0</td>\n",
       "\t\t<td>1.04</td>\n",
       "\t\t<td>0.24</td>\n",
       "\t\t<td>1.6</td>\n",
       "\t\t<td>0.05</td>\n",
       "\t\t<td>32.0</td>\n",
       "\t\t<td>96.0</td>\n",
       "\t\t<td>0.9934</td>\n",
       "\t\t<td>3.74</td>\n",
       "\t\t<td>0.62</td>\n",
       "\t\t<td>11.5</td>\n",
       "\t\t<td>bad</td>\n",
       "\t</tr>\n",
       "\t<tr>\n",
       "\t\t<td>4.7</td>\n",
       "\t\t<td>0.6</td>\n",
       "\t\t<td>0.17</td>\n",
       "\t\t<td>2.3</td>\n",
       "\t\t<td>0.058</td>\n",
       "\t\t<td>17.0</td>\n",
       "\t\t<td>106.0</td>\n",
       "\t\t<td>0.9932</td>\n",
       "\t\t<td>3.85</td>\n",
       "\t\t<td>0.6</td>\n",
       "\t\t<td>12.9</td>\n",
       "\t\t<td>good</td>\n",
       "\t</tr>\n",
       "</table></html>"
      ],
      "text/plain": [
       "               volatile_acidity  citric_acid  residual_sugar  chlorides  free_sulfur_dioxide  total_sulfur_dioxide  density    pH  sulphates  alcohol quality\n",
       "fixed_acidity                                                                                                                                                \n",
       "5.0                        1.02         0.04             1.4      0.045                 41.0                  85.0  0.99380  3.75       0.48     10.5     bad\n",
       "5.1                        0.51         0.18             2.1      0.042                 16.0                 101.0  0.99240  3.46       0.87     12.9    good\n",
       "5.1                        0.42         0.00             1.8      0.044                 18.0                  88.0  0.99157  3.68       0.73     13.6    good\n",
       "5.2                        0.49         0.26             2.3      0.090                 23.0                  74.0  0.99530  3.71       0.62     12.2    good\n",
       "5.4                        0.58         0.08             1.9      0.059                 20.0                  31.0  0.99484  3.50       0.64     10.2    good\n",
       "5.6                        0.66         0.00             2.2      0.087                  3.0                  11.0  0.99378  3.71       0.63     12.8    good\n",
       "5.2                        0.34         0.00             1.8      0.050                 27.0                  63.0  0.99160  3.68       0.79     14.0    good\n",
       "5.0                        0.40         0.50             4.3      0.046                 29.0                  80.0  0.99020  3.49       0.66     13.6    good\n",
       "5.0                        1.04         0.24             1.6      0.050                 32.0                  96.0  0.99340  3.74       0.62     11.5     bad\n",
       "4.7                        0.60         0.17             2.3      0.058                 17.0                 106.0  0.99320  3.85       0.60     12.9    good"
      ]
     },
     "execution_count": 14,
     "metadata": {},
     "output_type": "execute_result"
    }
   ],
   "source": [
    "# test dataset\n",
    "wine_df_test.head()"
   ]
  },
  {
   "cell_type": "code",
   "execution_count": 15,
   "id": "c1d29676-bd31-4393-b322-f561e6292551",
   "metadata": {},
   "outputs": [
    {
     "name": "stdout",
     "output_type": "stream",
     "text": [
      "\n",
      "Generating custom config JSON for AutoML ...\n",
      "\n",
      "Available main options for customization with corresponding indices: \n",
      "--------------------------------------------------------------------------------\n",
      "\n",
      "Index 1: Customize Feature Engineering Phase\n",
      "\n",
      "Index 2: Customize Data Preparation Phase\n",
      "\n",
      "Index 3: Customize Model Training Phase\n",
      "\n",
      "Index 4: Generate custom json and exit\n",
      "--------------------------------------------------------------------------------\n"
     ]
    },
    {
     "name": "stdin",
     "output_type": "stream",
     "text": [
      "\n",
      "Enter the index you want to customize:  2\n"
     ]
    },
    {
     "name": "stdout",
     "output_type": "stream",
     "text": [
      "\n",
      "Customizing Data Preparation Phase ...\n",
      "\n",
      "Available options for customization of data preparation phase with corresponding indices: \n",
      "--------------------------------------------------------------------------------\n",
      "\n",
      "Index 1: Customize Data Imbalance Handling\n",
      "\n",
      "Index 2: Customize Outlier Handling\n",
      "\n",
      "Index 3: Customize Feature Scaling\n",
      "\n",
      "Index 4: Back to main menu\n",
      "\n",
      "Index 5: Generate custom json and exit\n",
      "--------------------------------------------------------------------------------\n"
     ]
    },
    {
     "name": "stdin",
     "output_type": "stream",
     "text": [
      "\n",
      "Enter the list of indices you want to customize in data preparation phase:  1,2,3,4\n"
     ]
    },
    {
     "name": "stdout",
     "output_type": "stream",
     "text": [
      "\n",
      "Customizing Data Imbalance Handling ...\n",
      "\n",
      "Available data sampling methods with corresponding indices:\n",
      "Index 1: SMOTE\n",
      "Index 2: NearMiss\n"
     ]
    },
    {
     "name": "stdin",
     "output_type": "stream",
     "text": [
      "\n",
      "Enter the corresponding index data imbalance handling method:  1\n"
     ]
    },
    {
     "name": "stdout",
     "output_type": "stream",
     "text": [
      "\n",
      "Customization of data imbalance handling has been completed successfully.\n",
      "\n",
      "Customizing Outlier Handling ...\n",
      "\n",
      "Available outlier detection methods with corresponding indices:\n",
      "Index 1: percentile\n",
      "Index 2: tukey\n",
      "Index 3: carling\n"
     ]
    },
    {
     "name": "stdin",
     "output_type": "stream",
     "text": [
      "\n",
      "Enter the corresponding index oulier handling method:  3\n",
      "\n",
      "Enter the feature or list of features for outlier handling:  residual_sugar\n"
     ]
    },
    {
     "name": "stdout",
     "output_type": "stream",
     "text": [
      "\n",
      "Available outlier replacement methods with corresponding indices:\n",
      "Index 1: delete\n",
      "Index 2: median\n",
      "Index 3: Any Numeric Value\n"
     ]
    },
    {
     "name": "stdin",
     "output_type": "stream",
     "text": [
      "\n",
      "Enter the index of corresponding replacement method for feature residual_sugar:  1\n"
     ]
    },
    {
     "name": "stdout",
     "output_type": "stream",
     "text": [
      "\n",
      "Available options for generic arguments: \n",
      "Index 0: Default\n",
      "Index 1: volatile\n",
      "Index 2: persist\n"
     ]
    },
    {
     "name": "stdin",
     "output_type": "stream",
     "text": [
      "\n",
      "Enter the indices for generic arguments :  0\n"
     ]
    },
    {
     "name": "stdout",
     "output_type": "stream",
     "text": [
      "\n",
      "Customization of outlier handling has been completed successfully.\n",
      "\n",
      "Available feature scaling methods with corresponding indices:\n",
      "Index 1: maxabs\n",
      "Index 2: mean\n",
      "Index 3: midrange\n",
      "Index 4: range\n",
      "Index 5: rescale\n",
      "Index 6: std\n",
      "Index 7: sum\n",
      "Index 8: ustd\n"
     ]
    },
    {
     "name": "stdin",
     "output_type": "stream",
     "text": [
      "\n",
      "Enter the corresponding index feature scaling method:  6\n"
     ]
    },
    {
     "name": "stdout",
     "output_type": "stream",
     "text": [
      "\n",
      "Available options for generic arguments: \n",
      "Index 0: Default\n",
      "Index 1: volatile\n",
      "Index 2: persist\n"
     ]
    },
    {
     "name": "stdin",
     "output_type": "stream",
     "text": [
      "\n",
      "Enter the indices for generic arguments :  0\n"
     ]
    },
    {
     "name": "stdout",
     "output_type": "stream",
     "text": [
      "\n",
      "Customization of feature scaling has been completed successfully.\n",
      "\n",
      "Customization of data preparation phase has been completed successfully.\n",
      "\n",
      "Available main options for customization with corresponding indices: \n",
      "--------------------------------------------------------------------------------\n",
      "\n",
      "Index 1: Customize Feature Engineering Phase\n",
      "\n",
      "Index 2: Customize Data Preparation Phase\n",
      "\n",
      "Index 3: Customize Model Training Phase\n",
      "\n",
      "Index 4: Generate custom json and exit\n",
      "--------------------------------------------------------------------------------\n"
     ]
    },
    {
     "name": "stdin",
     "output_type": "stream",
     "text": [
      "\n",
      "Enter the index you want to customize:  3\n"
     ]
    },
    {
     "name": "stdout",
     "output_type": "stream",
     "text": [
      "\n",
      "Customizing Model Training Phase ...\n",
      "\n",
      "Available options for customization of model training phase with corresponding indices: \n",
      "--------------------------------------------------------------------------------\n",
      "\n",
      "Index 1: Customize Model Hyperparameter\n",
      "\n",
      "Index 2: Back to main menu\n",
      "\n",
      "Index 3: Generate custom json and exit\n",
      "--------------------------------------------------------------------------------\n"
     ]
    },
    {
     "name": "stdin",
     "output_type": "stream",
     "text": [
      "\n",
      "Enter the list of indices you want to customize in model training phase:  1\n"
     ]
    },
    {
     "name": "stdout",
     "output_type": "stream",
     "text": [
      "\n",
      "Customizing Model Hyperparameter ...\n",
      "\n",
      "Available models for hyperparameter tuning with corresponding indices:\n",
      "Index 1: decision_forest\n",
      "Index 2: xgboost\n",
      "Index 3: knn\n",
      "Index 4: glm\n",
      "Index 5: svm\n",
      "\n",
      "Available hyperparamters update methods with corresponding indices:\n",
      "Index 1: ADD\n",
      "Index 2: REPLACE\n"
     ]
    },
    {
     "name": "stdin",
     "output_type": "stream",
     "text": [
      "\n",
      "Enter the list of model indices for performing hyperparameter tuning:  3\n"
     ]
    },
    {
     "name": "stdout",
     "output_type": "stream",
     "text": [
      "\n",
      "Available hyperparameters for model 'knn' with corresponding indices:\n",
      "Index 0: k\n"
     ]
    },
    {
     "name": "stdin",
     "output_type": "stream",
     "text": [
      "\n",
      "Enter the list of hyperparameter indices for model 'knn':  0\n",
      "\n",
      "Enter the index of corresponding update method for hyperparameters 'k' for model 'knn':  1\n",
      "\n",
      "Enter the list of value for hyperparameter 'k' for model 'knn':  2\n"
     ]
    },
    {
     "name": "stdout",
     "output_type": "stream",
     "text": [
      "\n",
      "Customization of model hyperparameter has been completed successfully.\n",
      "\n",
      "Available options for customization of model training phase with corresponding indices: \n",
      "--------------------------------------------------------------------------------\n",
      "\n",
      "Index 1: Customize Model Hyperparameter\n",
      "\n",
      "Index 2: Back to main menu\n",
      "\n",
      "Index 3: Generate custom json and exit\n",
      "--------------------------------------------------------------------------------\n"
     ]
    },
    {
     "name": "stdin",
     "output_type": "stream",
     "text": [
      "\n",
      "Enter the list of indices you want to customize in model training phase:  3\n"
     ]
    },
    {
     "name": "stdout",
     "output_type": "stream",
     "text": [
      "\n",
      "Customization of model training phase has been completed successfully.\n",
      "\n",
      "Process of generating custom config file for AutoML has been completed successfully.\n",
      "\n",
      "'custom_wine_quality.json' file is generated successfully under the current working directory.\n"
     ]
    }
   ],
   "source": [
    "AutoML.generate_custom_config(\"custom_wine_quality\")"
   ]
  },
  {
   "cell_type": "markdown",
   "id": "856ea871-93d8-4ea2-b524-1acb23bd7eb5",
   "metadata": {},
   "source": [
    "## <b><span style='color:#F1A424'>| 2.</span> Fitting AutoML </b>"
   ]
  },
  {
   "cell_type": "code",
   "execution_count": 16,
   "id": "f3650aa5-a408-4227-a88d-79c0f3d36d3c",
   "metadata": {},
   "outputs": [],
   "source": [
    "# Creating AutoML instance\n",
    "# Excluding 'svm' and 'glm' from model training.\n",
    "# Keeping early stopping metrics threshold to 0.6 for 'MICRO-RECALL', early stopping timer threshold to 200 sec\n",
    "# and verbose level 2 for detailed loggging\n",
    "# Using custom json file for custom run\n",
    "\n",
    "aml = AutoML(task_type=\"Classification\",\n",
    "             exclude=['svm', 'glm'],\n",
    "             stopping_metric='MICRO-RECALL', \n",
    "             stopping_tolerance=0.60,\n",
    "             max_runtime_secs=200,\n",
    "             verbose=2,\n",
    "             custom_config_file='custom_wine_quality.json')"
   ]
  },
  {
   "cell_type": "code",
   "execution_count": 17,
   "id": "a1b7a771-1bfa-40c9-8ad0-c377d320c137",
   "metadata": {},
   "outputs": [
    {
     "name": "stdout",
     "output_type": "stream",
     "text": [
      "\n",
      "Received below input for customization : \n",
      "{\n",
      "    \"DataImbalanceIndicator\": true,\n",
      "    \"DataImbalanceMethod\": \"SMOTE\",\n",
      "    \"OutlierFilterIndicator\": true,\n",
      "    \"OutlierFilterMethod\": \"carling\",\n",
      "    \"OutlierFilterParam\": {\n",
      "        \"residual_sugar\": {\n",
      "            \"replacement_value\": \"delete\"\n",
      "        }\n",
      "    },\n",
      "    \"FeatureScalingIndicator\": true,\n",
      "    \"FeatureScalingParam\": {\n",
      "        \"FeatureScalingMethod\": \"std\"\n",
      "    },\n",
      "    \"HyperparameterTuningIndicator\": true,\n",
      "    \"HyperparameterTuningParam\": {\n",
      "        \"knn\": {\n",
      "            \"k\": {\n",
      "                \"Method\": \"ADD\",\n",
      "                \"Value\": [\n",
      "                    2\n",
      "                ]\n",
      "            }\n",
      "        }\n",
      "    }\n",
      "}\n"
     ]
    },
    {
     "data": {
      "text/html": [
       "\n",
       "            <style>\n",
       "                .custom-div {\n",
       "                    background-color: lightgray;\n",
       "                    color: #000000;\n",
       "                    padding: 10px;\n",
       "                    border-radius: 8px;\n",
       "                    box-shadow: 0 3px 4px rgba(0, 0, 0, 0.2);\n",
       "                    margin-bottom: 10px;\n",
       "                    text-align: center;\n",
       "                }\n",
       "            </style>\n",
       "        <br><div class=\"custom-div\"><h3><span style=\"color: green;\"></span>1. Feature Exploration -> 2. Feature Engineering -> 3. Data Preparation -> 4. Model Training & Evaluation<center></h3></center></div>"
      ],
      "text/plain": [
       "<IPython.core.display.HTML object>"
      ]
     },
     "metadata": {},
     "output_type": "display_data"
    },
    {
     "name": "stdout",
     "output_type": "stream",
     "text": [
      "Feature Exploration started ...\n",
      "\n",
      "Data Overview:\n",
      "Total Rows in the data: 1279\n",
      "Total Columns in the data: 12\n",
      "\n",
      "Column Summary:\n"
     ]
    },
    {
     "data": {
      "text/html": [
       "<style type=\"text/css\">\n",
       "\ttable {border:ridge 5px;}\n",
       "\ttable td {border:inset 1px;}\n",
       "\ttable tr#HeaderRow {background-color:grey; color:white;}</style>\n",
       "<html><table>\n",
       "\t<tr id=\"HeaderRow\">\n",
       "\t\t<th>ColumnName</th>\n",
       "\t\t<th>Datatype</th>\n",
       "\t\t<th>NonNullCount</th>\n",
       "\t\t<th>NullCount</th>\n",
       "\t\t<th>BlankCount</th>\n",
       "\t\t<th>ZeroCount</th>\n",
       "\t\t<th>PositiveCount</th>\n",
       "\t\t<th>NegativeCount</th>\n",
       "\t\t<th>NullPercentage</th>\n",
       "\t\t<th>NonNullPercentage</th>\n",
       "\t</tr>\n",
       "\t<tr>\n",
       "\t\t<td>volatile_acidity</td>\n",
       "\t\t<td>FLOAT</td>\n",
       "\t\t<td>1279</td>\n",
       "\t\t<td>0</td>\n",
       "\t\t<td>None</td>\n",
       "\t\t<td>0</td>\n",
       "\t\t<td>1279</td>\n",
       "\t\t<td>0</td>\n",
       "\t\t<td>0.0</td>\n",
       "\t\t<td>100.0</td>\n",
       "\t</tr>\n",
       "\t<tr>\n",
       "\t\t<td>free_sulfur_dioxide</td>\n",
       "\t\t<td>FLOAT</td>\n",
       "\t\t<td>1279</td>\n",
       "\t\t<td>0</td>\n",
       "\t\t<td>None</td>\n",
       "\t\t<td>0</td>\n",
       "\t\t<td>1279</td>\n",
       "\t\t<td>0</td>\n",
       "\t\t<td>0.0</td>\n",
       "\t\t<td>100.0</td>\n",
       "\t</tr>\n",
       "\t<tr>\n",
       "\t\t<td>pH</td>\n",
       "\t\t<td>FLOAT</td>\n",
       "\t\t<td>1279</td>\n",
       "\t\t<td>0</td>\n",
       "\t\t<td>None</td>\n",
       "\t\t<td>0</td>\n",
       "\t\t<td>1279</td>\n",
       "\t\t<td>0</td>\n",
       "\t\t<td>0.0</td>\n",
       "\t\t<td>100.0</td>\n",
       "\t</tr>\n",
       "\t<tr>\n",
       "\t\t<td>residual_sugar</td>\n",
       "\t\t<td>FLOAT</td>\n",
       "\t\t<td>1279</td>\n",
       "\t\t<td>0</td>\n",
       "\t\t<td>None</td>\n",
       "\t\t<td>0</td>\n",
       "\t\t<td>1279</td>\n",
       "\t\t<td>0</td>\n",
       "\t\t<td>0.0</td>\n",
       "\t\t<td>100.0</td>\n",
       "\t</tr>\n",
       "\t<tr>\n",
       "\t\t<td>fixed_acidity</td>\n",
       "\t\t<td>FLOAT</td>\n",
       "\t\t<td>1279</td>\n",
       "\t\t<td>0</td>\n",
       "\t\t<td>None</td>\n",
       "\t\t<td>0</td>\n",
       "\t\t<td>1279</td>\n",
       "\t\t<td>0</td>\n",
       "\t\t<td>0.0</td>\n",
       "\t\t<td>100.0</td>\n",
       "\t</tr>\n",
       "\t<tr>\n",
       "\t\t<td>alcohol</td>\n",
       "\t\t<td>FLOAT</td>\n",
       "\t\t<td>1279</td>\n",
       "\t\t<td>0</td>\n",
       "\t\t<td>None</td>\n",
       "\t\t<td>0</td>\n",
       "\t\t<td>1279</td>\n",
       "\t\t<td>0</td>\n",
       "\t\t<td>0.0</td>\n",
       "\t\t<td>100.0</td>\n",
       "\t</tr>\n",
       "\t<tr>\n",
       "\t\t<td>sulphates</td>\n",
       "\t\t<td>FLOAT</td>\n",
       "\t\t<td>1279</td>\n",
       "\t\t<td>0</td>\n",
       "\t\t<td>None</td>\n",
       "\t\t<td>0</td>\n",
       "\t\t<td>1279</td>\n",
       "\t\t<td>0</td>\n",
       "\t\t<td>0.0</td>\n",
       "\t\t<td>100.0</td>\n",
       "\t</tr>\n",
       "\t<tr>\n",
       "\t\t<td>quality</td>\n",
       "\t\t<td>VARCHAR(20) CHARACTER SET LATIN</td>\n",
       "\t\t<td>1279</td>\n",
       "\t\t<td>0</td>\n",
       "\t\t<td>0</td>\n",
       "\t\t<td>None</td>\n",
       "\t\t<td>None</td>\n",
       "\t\t<td>None</td>\n",
       "\t\t<td>0.0</td>\n",
       "\t\t<td>100.0</td>\n",
       "\t</tr>\n",
       "\t<tr>\n",
       "\t\t<td>total_sulfur_dioxide</td>\n",
       "\t\t<td>FLOAT</td>\n",
       "\t\t<td>1279</td>\n",
       "\t\t<td>0</td>\n",
       "\t\t<td>None</td>\n",
       "\t\t<td>0</td>\n",
       "\t\t<td>1279</td>\n",
       "\t\t<td>0</td>\n",
       "\t\t<td>0.0</td>\n",
       "\t\t<td>100.0</td>\n",
       "\t</tr>\n",
       "\t<tr>\n",
       "\t\t<td>citric_acid</td>\n",
       "\t\t<td>FLOAT</td>\n",
       "\t\t<td>1279</td>\n",
       "\t\t<td>0</td>\n",
       "\t\t<td>None</td>\n",
       "\t\t<td>110</td>\n",
       "\t\t<td>1169</td>\n",
       "\t\t<td>0</td>\n",
       "\t\t<td>0.0</td>\n",
       "\t\t<td>100.0</td>\n",
       "\t</tr>\n",
       "\t<tr>\n",
       "\t\t<td>density</td>\n",
       "\t\t<td>FLOAT</td>\n",
       "\t\t<td>1279</td>\n",
       "\t\t<td>0</td>\n",
       "\t\t<td>None</td>\n",
       "\t\t<td>0</td>\n",
       "\t\t<td>1279</td>\n",
       "\t\t<td>0</td>\n",
       "\t\t<td>0.0</td>\n",
       "\t\t<td>100.0</td>\n",
       "\t</tr>\n",
       "\t<tr>\n",
       "\t\t<td>chlorides</td>\n",
       "\t\t<td>FLOAT</td>\n",
       "\t\t<td>1279</td>\n",
       "\t\t<td>0</td>\n",
       "\t\t<td>None</td>\n",
       "\t\t<td>0</td>\n",
       "\t\t<td>1279</td>\n",
       "\t\t<td>0</td>\n",
       "\t\t<td>0.0</td>\n",
       "\t\t<td>100.0</td>\n",
       "\t</tr>\n",
       "</table></html>"
      ],
      "text/plain": [
       "              ColumnName                         Datatype  NonNullCount  NullCount  BlankCount  ZeroCount  PositiveCount  NegativeCount  NullPercentage  NonNullPercentage\n",
       "0       volatile_acidity                            FLOAT          1279          0         NaN        0.0         1279.0            0.0             0.0              100.0\n",
       "1    free_sulfur_dioxide                            FLOAT          1279          0         NaN        0.0         1279.0            0.0             0.0              100.0\n",
       "2                     pH                            FLOAT          1279          0         NaN        0.0         1279.0            0.0             0.0              100.0\n",
       "3         residual_sugar                            FLOAT          1279          0         NaN        0.0         1279.0            0.0             0.0              100.0\n",
       "4          fixed_acidity                            FLOAT          1279          0         NaN        0.0         1279.0            0.0             0.0              100.0\n",
       "5                alcohol                            FLOAT          1279          0         NaN        0.0         1279.0            0.0             0.0              100.0\n",
       "6              sulphates                            FLOAT          1279          0         NaN        0.0         1279.0            0.0             0.0              100.0\n",
       "7                quality  VARCHAR(20) CHARACTER SET LATIN          1279          0         0.0        NaN            NaN            NaN             0.0              100.0\n",
       "8   total_sulfur_dioxide                            FLOAT          1279          0         NaN        0.0         1279.0            0.0             0.0              100.0\n",
       "9            citric_acid                            FLOAT          1279          0         NaN      110.0         1169.0            0.0             0.0              100.0\n",
       "10               density                            FLOAT          1279          0         NaN        0.0         1279.0            0.0             0.0              100.0\n",
       "11             chlorides                            FLOAT          1279          0         NaN        0.0         1279.0            0.0             0.0              100.0"
      ]
     },
     "metadata": {},
     "output_type": "display_data"
    },
    {
     "name": "stdout",
     "output_type": "stream",
     "text": [
      "       fixed_acidity  volatile_acidity  citric_acid  residual_sugar  chlorides  free_sulfur_dioxide  total_sulfur_dioxide   density        pH  sulphates   alcohol\n",
      "func                                                                                                                                                              \n",
      "50%            7.900             0.520        0.260           2.200      0.079               14.000                38.000     0.997     3.310      0.620    10.200\n",
      "count       1279.000          1279.000     1279.000        1279.000   1279.000             1279.000              1279.000  1279.000  1279.000   1279.000  1279.000\n",
      "mean           8.321             0.526        0.273           2.544      0.087               15.821                46.356     0.997     3.313      0.660    10.419\n",
      "min            4.600             0.120        0.000           0.900      0.012                1.000                 6.000     0.990     2.860      0.330     8.400\n",
      "max           15.600             1.580        0.790          15.400      0.467               72.000               278.000     1.004     4.010      1.980    14.000\n",
      "75%            9.300             0.640        0.430           2.600      0.091               21.000                62.000     0.998     3.400      0.730    11.100\n",
      "25%            7.100             0.390        0.100           1.900      0.070                7.000                22.000     0.996     3.210      0.550     9.500\n",
      "std            1.731             0.180        0.194           1.414      0.044               10.480                32.608     0.002     0.154      0.168     1.049\n",
      "\n",
      "Statistics of Data:\n"
     ]
    },
    {
     "data": {
      "text/html": [
       "<style type=\"text/css\">\n",
       "\ttable {border:ridge 5px;}\n",
       "\ttable td {border:inset 1px;}\n",
       "\ttable tr#HeaderRow {background-color:grey; color:white;}</style>\n",
       "<html><table>\n",
       "\t<tr id=\"HeaderRow\">\n",
       "\t\t<th>func</th>\n",
       "\t\t<th>fixed_acidity</th>\n",
       "\t\t<th>volatile_acidity</th>\n",
       "\t\t<th>citric_acid</th>\n",
       "\t\t<th>residual_sugar</th>\n",
       "\t\t<th>chlorides</th>\n",
       "\t\t<th>free_sulfur_dioxide</th>\n",
       "\t\t<th>total_sulfur_dioxide</th>\n",
       "\t\t<th>density</th>\n",
       "\t\t<th>pH</th>\n",
       "\t\t<th>sulphates</th>\n",
       "\t\t<th>alcohol</th>\n",
       "\t</tr>\n",
       "\t<tr>\n",
       "\t\t<td>min</td>\n",
       "\t\t<td>4.6</td>\n",
       "\t\t<td>0.12</td>\n",
       "\t\t<td>0</td>\n",
       "\t\t<td>0.9</td>\n",
       "\t\t<td>0.012</td>\n",
       "\t\t<td>1</td>\n",
       "\t\t<td>6</td>\n",
       "\t\t<td>0.99</td>\n",
       "\t\t<td>2.86</td>\n",
       "\t\t<td>0.33</td>\n",
       "\t\t<td>8.4</td>\n",
       "\t</tr>\n",
       "\t<tr>\n",
       "\t\t<td>std</td>\n",
       "\t\t<td>1.731</td>\n",
       "\t\t<td>0.18</td>\n",
       "\t\t<td>0.194</td>\n",
       "\t\t<td>1.414</td>\n",
       "\t\t<td>0.044</td>\n",
       "\t\t<td>10.48</td>\n",
       "\t\t<td>32.608</td>\n",
       "\t\t<td>0.002</td>\n",
       "\t\t<td>0.154</td>\n",
       "\t\t<td>0.168</td>\n",
       "\t\t<td>1.049</td>\n",
       "\t</tr>\n",
       "\t<tr>\n",
       "\t\t<td>25%</td>\n",
       "\t\t<td>7.1</td>\n",
       "\t\t<td>0.39</td>\n",
       "\t\t<td>0.1</td>\n",
       "\t\t<td>1.9</td>\n",
       "\t\t<td>0.07</td>\n",
       "\t\t<td>7</td>\n",
       "\t\t<td>22</td>\n",
       "\t\t<td>0.996</td>\n",
       "\t\t<td>3.21</td>\n",
       "\t\t<td>0.55</td>\n",
       "\t\t<td>9.5</td>\n",
       "\t</tr>\n",
       "\t<tr>\n",
       "\t\t<td>50%</td>\n",
       "\t\t<td>7.9</td>\n",
       "\t\t<td>0.52</td>\n",
       "\t\t<td>0.26</td>\n",
       "\t\t<td>2.2</td>\n",
       "\t\t<td>0.079</td>\n",
       "\t\t<td>14</td>\n",
       "\t\t<td>38</td>\n",
       "\t\t<td>0.997</td>\n",
       "\t\t<td>3.31</td>\n",
       "\t\t<td>0.62</td>\n",
       "\t\t<td>10.2</td>\n",
       "\t</tr>\n",
       "\t<tr>\n",
       "\t\t<td>75%</td>\n",
       "\t\t<td>9.3</td>\n",
       "\t\t<td>0.64</td>\n",
       "\t\t<td>0.43</td>\n",
       "\t\t<td>2.6</td>\n",
       "\t\t<td>0.091</td>\n",
       "\t\t<td>21</td>\n",
       "\t\t<td>62</td>\n",
       "\t\t<td>0.998</td>\n",
       "\t\t<td>3.4</td>\n",
       "\t\t<td>0.73</td>\n",
       "\t\t<td>11.1</td>\n",
       "\t</tr>\n",
       "\t<tr>\n",
       "\t\t<td>max</td>\n",
       "\t\t<td>15.6</td>\n",
       "\t\t<td>1.58</td>\n",
       "\t\t<td>0.79</td>\n",
       "\t\t<td>15.4</td>\n",
       "\t\t<td>0.467</td>\n",
       "\t\t<td>72</td>\n",
       "\t\t<td>278</td>\n",
       "\t\t<td>1.004</td>\n",
       "\t\t<td>4.01</td>\n",
       "\t\t<td>1.98</td>\n",
       "\t\t<td>14</td>\n",
       "\t</tr>\n",
       "\t<tr>\n",
       "\t\t<td>mean</td>\n",
       "\t\t<td>8.321</td>\n",
       "\t\t<td>0.526</td>\n",
       "\t\t<td>0.273</td>\n",
       "\t\t<td>2.544</td>\n",
       "\t\t<td>0.087</td>\n",
       "\t\t<td>15.821</td>\n",
       "\t\t<td>46.356</td>\n",
       "\t\t<td>0.997</td>\n",
       "\t\t<td>3.313</td>\n",
       "\t\t<td>0.66</td>\n",
       "\t\t<td>10.419</td>\n",
       "\t</tr>\n",
       "\t<tr>\n",
       "\t\t<td>count</td>\n",
       "\t\t<td>1279</td>\n",
       "\t\t<td>1279</td>\n",
       "\t\t<td>1279</td>\n",
       "\t\t<td>1279</td>\n",
       "\t\t<td>1279</td>\n",
       "\t\t<td>1279</td>\n",
       "\t\t<td>1279</td>\n",
       "\t\t<td>1279</td>\n",
       "\t\t<td>1279</td>\n",
       "\t\t<td>1279</td>\n",
       "\t\t<td>1279</td>\n",
       "\t</tr>\n",
       "</table></html>"
      ],
      "text/plain": [
       "       fixed_acidity  volatile_acidity  citric_acid  residual_sugar  chlorides  free_sulfur_dioxide  total_sulfur_dioxide   density        pH  sulphates   alcohol\n",
       "func                                                                                                                                                              \n",
       "min            4.600             0.120        0.000           0.900      0.012                1.000                 6.000     0.990     2.860      0.330     8.400\n",
       "std            1.731             0.180        0.194           1.414      0.044               10.480                32.608     0.002     0.154      0.168     1.049\n",
       "25%            7.100             0.390        0.100           1.900      0.070                7.000                22.000     0.996     3.210      0.550     9.500\n",
       "50%            7.900             0.520        0.260           2.200      0.079               14.000                38.000     0.997     3.310      0.620    10.200\n",
       "75%            9.300             0.640        0.430           2.600      0.091               21.000                62.000     0.998     3.400      0.730    11.100\n",
       "max           15.600             1.580        0.790          15.400      0.467               72.000               278.000     1.004     4.010      1.980    14.000\n",
       "mean           8.321             0.526        0.273           2.544      0.087               15.821                46.356     0.997     3.313      0.660    10.419\n",
       "count       1279.000          1279.000     1279.000        1279.000   1279.000             1279.000              1279.000  1279.000  1279.000   1279.000  1279.000"
      ]
     },
     "metadata": {},
     "output_type": "display_data"
    },
    {
     "name": "stdout",
     "output_type": "stream",
     "text": [
      "\n",
      "Categorical Columns with their Distinct values:\n",
      "ColumnName                DistinctValueCount\n",
      "quality                   2         \n",
      "\n",
      "No Futile columns found.\n",
      "\n",
      "Target Column Distribution:\n"
     ]
    },
    {
     "data": {
      "image/png": "[encoded data removed]",
      "text/plain": [
       "<Figure size 600x600 with 1 Axes>"
      ]
     },
     "metadata": {},
     "output_type": "display_data"
    },
    {
     "name": "stdout",
     "output_type": "stream",
     "text": [
      "Columns with outlier percentage :-                                                                                                                                                                                                                                                                                                                                                                                                                                                                                  \n",
      "             ColumnName  OutlierPercentage\n",
      "0               density           3.049257\n",
      "1      volatile_acidity           1.172791\n",
      "2   free_sulfur_dioxide           2.032838\n",
      "3                    pH           2.111024\n",
      "4               alcohol           0.625489\n",
      "5  total_sulfur_dioxide           3.596560\n",
      "6         fixed_acidity           2.111024\n",
      "7        residual_sugar           9.773260\n",
      "8             chlorides           6.411259\n",
      "9             sulphates           3.674746\n",
      "                                                                                        \r"
     ]
    },
    {
     "data": {
      "text/html": [
       "\n",
       "            <style>\n",
       "                .custom-div {\n",
       "                    background-color: lightgray;\n",
       "                    color: #000000;\n",
       "                    padding: 10px;\n",
       "                    border-radius: 8px;\n",
       "                    box-shadow: 0 3px 4px rgba(0 -  0 -  0 -  0.2);\n",
       "                    margin-bottom: 10px;\n",
       "                    text-align: center;\n",
       "                }\n",
       "            </style>\n",
       "        <br><div class=\"custom-div\"><h3><span style=\"color: green;\">1. Feature Exploration -></span> 2. Feature Engineering -> 3. Data Preparation -> 4. Model Training & Evaluation<center></h3></center></div>"
      ],
      "text/plain": [
       "<IPython.core.display.HTML object>"
      ]
     },
     "metadata": {},
     "output_type": "display_data"
    },
    {
     "name": "stdout",
     "output_type": "stream",
     "text": [
      "                                                                                        \r"
     ]
    },
    {
     "data": {
      "text/html": [
       "Feature Engineering started ..."
      ],
      "text/plain": [
       "<IPython.core.display.HTML object>"
      ]
     },
     "metadata": {},
     "output_type": "display_data"
    },
    {
     "name": "stdout",
     "output_type": "stream",
     "text": [
      "                                                                                        \r"
     ]
    },
    {
     "data": {
      "text/html": [
       "\n",
       "Handling duplicate records present in dataset ..."
      ],
      "text/plain": [
       "<IPython.core.display.HTML object>"
      ]
     },
     "metadata": {},
     "output_type": "display_data"
    },
    {
     "name": "stdout",
     "output_type": "stream",
     "text": [
      "                                                                                        \r"
     ]
    },
    {
     "data": {
      "text/html": [
       "Updated dataset sample after removing 152 duplicate records:"
      ],
      "text/plain": [
       "<IPython.core.display.HTML object>"
      ]
     },
     "metadata": {},
     "output_type": "display_data"
    },
    {
     "data": {
      "text/html": [
       "<style type=\"text/css\">\n",
       "\ttable {border:ridge 5px;}\n",
       "\ttable td {border:inset 1px;}\n",
       "\ttable tr#HeaderRow {background-color:grey; color:white;}</style>\n",
       "<html><table>\n",
       "\t<tr id=\"HeaderRow\">\n",
       "\t\t<th>fixed_acidity</th>\n",
       "\t\t<th>volatile_acidity</th>\n",
       "\t\t<th>citric_acid</th>\n",
       "\t\t<th>residual_sugar</th>\n",
       "\t\t<th>chlorides</th>\n",
       "\t\t<th>free_sulfur_dioxide</th>\n",
       "\t\t<th>total_sulfur_dioxide</th>\n",
       "\t\t<th>density</th>\n",
       "\t\t<th>pH</th>\n",
       "\t\t<th>sulphates</th>\n",
       "\t\t<th>alcohol</th>\n",
       "\t\t<th>quality</th>\n",
       "\t</tr>\n",
       "\t<tr>\n",
       "\t\t<td>8.2</td>\n",
       "\t\t<td>0.885</td>\n",
       "\t\t<td>0.2</td>\n",
       "\t\t<td>1.4</td>\n",
       "\t\t<td>0.086</td>\n",
       "\t\t<td>7.0</td>\n",
       "\t\t<td>31.0</td>\n",
       "\t\t<td>0.9946</td>\n",
       "\t\t<td>3.11</td>\n",
       "\t\t<td>0.46</td>\n",
       "\t\t<td>10.0</td>\n",
       "\t\t<td>bad</td>\n",
       "\t</tr>\n",
       "\t<tr>\n",
       "\t\t<td>8.6</td>\n",
       "\t\t<td>0.37</td>\n",
       "\t\t<td>0.65</td>\n",
       "\t\t<td>6.4</td>\n",
       "\t\t<td>0.08</td>\n",
       "\t\t<td>3.0</td>\n",
       "\t\t<td>8.0</td>\n",
       "\t\t<td>0.99817</td>\n",
       "\t\t<td>3.27</td>\n",
       "\t\t<td>0.58</td>\n",
       "\t\t<td>11.0</td>\n",
       "\t\t<td>bad</td>\n",
       "\t</tr>\n",
       "\t<tr>\n",
       "\t\t<td>8.6</td>\n",
       "\t\t<td>0.47</td>\n",
       "\t\t<td>0.27</td>\n",
       "\t\t<td>2.3</td>\n",
       "\t\t<td>0.055</td>\n",
       "\t\t<td>14.0</td>\n",
       "\t\t<td>28.0</td>\n",
       "\t\t<td>0.99516</td>\n",
       "\t\t<td>3.18</td>\n",
       "\t\t<td>0.8</td>\n",
       "\t\t<td>11.2</td>\n",
       "\t\t<td>bad</td>\n",
       "\t</tr>\n",
       "\t<tr>\n",
       "\t\t<td>8.4</td>\n",
       "\t\t<td>0.29</td>\n",
       "\t\t<td>0.4</td>\n",
       "\t\t<td>1.7</td>\n",
       "\t\t<td>0.067</td>\n",
       "\t\t<td>8.0</td>\n",
       "\t\t<td>20.0</td>\n",
       "\t\t<td>0.99603</td>\n",
       "\t\t<td>3.39</td>\n",
       "\t\t<td>0.6</td>\n",
       "\t\t<td>10.5</td>\n",
       "\t\t<td>bad</td>\n",
       "\t</tr>\n",
       "\t<tr>\n",
       "\t\t<td>13.7</td>\n",
       "\t\t<td>0.415</td>\n",
       "\t\t<td>0.68</td>\n",
       "\t\t<td>2.9</td>\n",
       "\t\t<td>0.085</td>\n",
       "\t\t<td>17.0</td>\n",
       "\t\t<td>43.0</td>\n",
       "\t\t<td>1.0014</td>\n",
       "\t\t<td>3.06</td>\n",
       "\t\t<td>0.8</td>\n",
       "\t\t<td>10.0</td>\n",
       "\t\t<td>good</td>\n",
       "\t</tr>\n",
       "\t<tr>\n",
       "\t\t<td>7.5</td>\n",
       "\t\t<td>0.52</td>\n",
       "\t\t<td>0.42</td>\n",
       "\t\t<td>2.3</td>\n",
       "\t\t<td>0.087</td>\n",
       "\t\t<td>8.0</td>\n",
       "\t\t<td>38.0</td>\n",
       "\t\t<td>0.9972</td>\n",
       "\t\t<td>3.58</td>\n",
       "\t\t<td>0.61</td>\n",
       "\t\t<td>10.5</td>\n",
       "\t\t<td>good</td>\n",
       "\t</tr>\n",
       "\t<tr>\n",
       "\t\t<td>9.0</td>\n",
       "\t\t<td>0.46</td>\n",
       "\t\t<td>0.31</td>\n",
       "\t\t<td>2.8</td>\n",
       "\t\t<td>0.093</td>\n",
       "\t\t<td>19.0</td>\n",
       "\t\t<td>98.0</td>\n",
       "\t\t<td>0.99815</td>\n",
       "\t\t<td>3.32</td>\n",
       "\t\t<td>0.63</td>\n",
       "\t\t<td>9.5</td>\n",
       "\t\t<td>good</td>\n",
       "\t</tr>\n",
       "\t<tr>\n",
       "\t\t<td>9.0</td>\n",
       "\t\t<td>0.62</td>\n",
       "\t\t<td>0.04</td>\n",
       "\t\t<td>1.9</td>\n",
       "\t\t<td>0.146</td>\n",
       "\t\t<td>27.0</td>\n",
       "\t\t<td>90.0</td>\n",
       "\t\t<td>0.9984</td>\n",
       "\t\t<td>3.16</td>\n",
       "\t\t<td>0.7</td>\n",
       "\t\t<td>9.4</td>\n",
       "\t\t<td>bad</td>\n",
       "\t</tr>\n",
       "\t<tr>\n",
       "\t\t<td>10.5</td>\n",
       "\t\t<td>0.24</td>\n",
       "\t\t<td>0.47</td>\n",
       "\t\t<td>2.1</td>\n",
       "\t\t<td>0.066</td>\n",
       "\t\t<td>6.0</td>\n",
       "\t\t<td>24.0</td>\n",
       "\t\t<td>0.9978</td>\n",
       "\t\t<td>3.15</td>\n",
       "\t\t<td>0.9</td>\n",
       "\t\t<td>11.0</td>\n",
       "\t\t<td>good</td>\n",
       "\t</tr>\n",
       "\t<tr>\n",
       "\t\t<td>10.5</td>\n",
       "\t\t<td>0.24</td>\n",
       "\t\t<td>0.42</td>\n",
       "\t\t<td>1.8</td>\n",
       "\t\t<td>0.077</td>\n",
       "\t\t<td>6.0</td>\n",
       "\t\t<td>22.0</td>\n",
       "\t\t<td>0.9976</td>\n",
       "\t\t<td>3.21</td>\n",
       "\t\t<td>1.05</td>\n",
       "\t\t<td>10.8</td>\n",
       "\t\t<td>good</td>\n",
       "\t</tr>\n",
       "</table></html>"
      ],
      "text/plain": [
       "               volatile_acidity  citric_acid  residual_sugar  chlorides  free_sulfur_dioxide  total_sulfur_dioxide  density    pH  sulphates  alcohol quality\n",
       "fixed_acidity                                                                                                                                                \n",
       "8.2                       0.885         0.20             1.4      0.086                  7.0                  31.0  0.99460  3.11       0.46     10.0     bad\n",
       "8.6                       0.370         0.65             6.4      0.080                  3.0                   8.0  0.99817  3.27       0.58     11.0     bad\n",
       "8.6                       0.470         0.27             2.3      0.055                 14.0                  28.0  0.99516  3.18       0.80     11.2     bad\n",
       "8.4                       0.290         0.40             1.7      0.067                  8.0                  20.0  0.99603  3.39       0.60     10.5     bad\n",
       "13.7                      0.415         0.68             2.9      0.085                 17.0                  43.0  1.00140  3.06       0.80     10.0    good\n",
       "7.5                       0.520         0.42             2.3      0.087                  8.0                  38.0  0.99720  3.58       0.61     10.5    good\n",
       "9.0                       0.460         0.31             2.8      0.093                 19.0                  98.0  0.99815  3.32       0.63      9.5    good\n",
       "9.0                       0.620         0.04             1.9      0.146                 27.0                  90.0  0.99840  3.16       0.70      9.4     bad\n",
       "10.5                      0.240         0.47             2.1      0.066                  6.0                  24.0  0.99780  3.15       0.90     11.0    good\n",
       "10.5                      0.240         0.42             1.8      0.077                  6.0                  22.0  0.99760  3.21       1.05     10.8    good"
      ]
     },
     "metadata": {},
     "output_type": "display_data"
    },
    {
     "name": "stdout",
     "output_type": "stream",
     "text": [
      "                                                                                        \r"
     ]
    },
    {
     "data": {
      "text/html": [
       "1127 rows X 12 columns"
      ],
      "text/plain": [
       "<IPython.core.display.HTML object>"
      ]
     },
     "metadata": {},
     "output_type": "display_data"
    },
    {
     "name": "stdout",
     "output_type": "stream",
     "text": [
      "Remaining Rows in the data: 1127                                                        \n",
      "Remaining Columns in the data: 12\n",
      "                                                                                        \r"
     ]
    },
    {
     "data": {
      "text/html": [
       "Total time to handle duplicate records: 4.65 sec  "
      ],
      "text/plain": [
       "<IPython.core.display.HTML object>"
      ]
     },
     "metadata": {},
     "output_type": "display_data"
    },
    {
     "name": "stdout",
     "output_type": "stream",
     "text": [
      "                                                                                        \r"
     ]
    },
    {
     "data": {
      "text/html": [
       "\n",
       "Starting customized anti-select columns ..."
      ],
      "text/plain": [
       "<IPython.core.display.HTML object>"
      ]
     },
     "metadata": {},
     "output_type": "display_data"
    },
    {
     "name": "stdout",
     "output_type": "stream",
     "text": [
      "Skipping customized anti-select columns.                                                \n",
      "                                                                                         \r"
     ]
    },
    {
     "data": {
      "text/html": [
       "\n",
       "Handling less significant features from data ..."
      ],
      "text/plain": [
       "<IPython.core.display.HTML object>"
      ]
     },
     "metadata": {},
     "output_type": "display_data"
    },
    {
     "name": "stdout",
     "output_type": "stream",
     "text": [
      "                                                                                         \r"
     ]
    },
    {
     "data": {
      "text/html": [
       "Total time to handle less significant features: 19.34 sec  "
      ],
      "text/plain": [
       "<IPython.core.display.HTML object>"
      ]
     },
     "metadata": {},
     "output_type": "display_data"
    },
    {
     "name": "stdout",
     "output_type": "stream",
     "text": [
      "                                                                                         \r"
     ]
    },
    {
     "data": {
      "text/html": [
       "\n",
       "Handling Date Features ..."
      ],
      "text/plain": [
       "<IPython.core.display.HTML object>"
      ]
     },
     "metadata": {},
     "output_type": "display_data"
    },
    {
     "name": "stdout",
     "output_type": "stream",
     "text": [
      "Analysis Completed. Dataset does not contain any feature related to dates. No action needed.\n",
      "                                                                                         \r"
     ]
    },
    {
     "data": {
      "text/html": [
       "Total time to handle date features: 0.00 sec\n"
      ],
      "text/plain": [
       "<IPython.core.display.HTML object>"
      ]
     },
     "metadata": {},
     "output_type": "display_data"
    },
    {
     "name": "stdout",
     "output_type": "stream",
     "text": [
      "Proceeding with default option for missing value imputation.                             \n",
      "Proceeding with default option for handling remaining missing values.                    \n",
      "                                                                                         \r"
     ]
    },
    {
     "data": {
      "text/html": [
       "\n",
       "Checking Missing values in dataset ..."
      ],
      "text/plain": [
       "<IPython.core.display.HTML object>"
      ]
     },
     "metadata": {},
     "output_type": "display_data"
    },
    {
     "name": "stdout",
     "output_type": "stream",
     "text": [
      "Analysis Completed. No Missing Values Detected.                                          \n",
      "                                                                                         \r"
     ]
    },
    {
     "data": {
      "text/html": [
       "Total time to find missing values in data: 8.37 sec  "
      ],
      "text/plain": [
       "<IPython.core.display.HTML object>"
      ]
     },
     "metadata": {},
     "output_type": "display_data"
    },
    {
     "name": "stdout",
     "output_type": "stream",
     "text": [
      "                                                                                         \r"
     ]
    },
    {
     "data": {
      "text/html": [
       "\n",
       "Imputing Missing Values ..."
      ],
      "text/plain": [
       "<IPython.core.display.HTML object>"
      ]
     },
     "metadata": {},
     "output_type": "display_data"
    },
    {
     "name": "stdout",
     "output_type": "stream",
     "text": [
      "Analysis completed. No imputation required.                                              \n",
      "                                                                                         \r"
     ]
    },
    {
     "data": {
      "text/html": [
       "Time taken to perform imputation: 0.01 sec  "
      ],
      "text/plain": [
       "<IPython.core.display.HTML object>"
      ]
     },
     "metadata": {},
     "output_type": "display_data"
    },
    {
     "name": "stdout",
     "output_type": "stream",
     "text": [
      "No information provided for Variable-Width Transformation.                               \n",
      "Skipping customized string manipulation.                                                 \n",
      "                                                                                         \r"
     ]
    },
    {
     "data": {
      "text/html": [
       "\n",
       "Starting Customized Categorical Feature Encoding ..."
      ],
      "text/plain": [
       "<IPython.core.display.HTML object>"
      ]
     },
     "metadata": {},
     "output_type": "display_data"
    },
    {
     "name": "stdout",
     "output_type": "stream",
     "text": [
      "AutoML will proceed with default encoding technique.                                     \n",
      "                                                                                         \r"
     ]
    },
    {
     "data": {
      "text/html": [
       "\n",
       "Performing encoding for categorical columns ..."
      ],
      "text/plain": [
       "<IPython.core.display.HTML object>"
      ]
     },
     "metadata": {},
     "output_type": "display_data"
    },
    {
     "name": "stdout",
     "output_type": "stream",
     "text": [
      "Analysis completed. No categorical columns were found.                                   \n",
      "                                                                                         \r"
     ]
    },
    {
     "data": {
      "text/html": [
       "Time taken to encode the columns: 1.87 sec"
      ],
      "text/plain": [
       "<IPython.core.display.HTML object>"
      ]
     },
     "metadata": {},
     "output_type": "display_data"
    },
    {
     "name": "stdout",
     "output_type": "stream",
     "text": [
      "                                                                                         \r"
     ]
    },
    {
     "data": {
      "text/html": [
       "\n",
       "Starting customized mathematical transformation ..."
      ],
      "text/plain": [
       "<IPython.core.display.HTML object>"
      ]
     },
     "metadata": {},
     "output_type": "display_data"
    },
    {
     "name": "stdout",
     "output_type": "stream",
     "text": [
      "Skipping customized mathematical transformation.                                         \n",
      "                                                                                         \r"
     ]
    },
    {
     "data": {
      "text/html": [
       "\n",
       "Starting customized non-linear transformation ..."
      ],
      "text/plain": [
       "<IPython.core.display.HTML object>"
      ]
     },
     "metadata": {},
     "output_type": "display_data"
    },
    {
     "name": "stdout",
     "output_type": "stream",
     "text": [
      "Skipping customized non-linear transformation.                                           \n",
      "                                                                                          \r"
     ]
    },
    {
     "data": {
      "text/html": [
       "\n",
       "            <style>\n",
       "                .custom-div {\n",
       "                    background-color: lightgray;\n",
       "                    color: #000000;\n",
       "                    padding: 10px;\n",
       "                    border-radius: 8px;\n",
       "                    box-shadow: 0 3px 4px rgba(0 -  0 -  0 -  0.2);\n",
       "                    margin-bottom: 10px;\n",
       "                    text-align: center;\n",
       "                }\n",
       "            </style>\n",
       "        <br><div class=\"custom-div\"><h3><span style=\"color: green;\">1. Feature Exploration -> 2. Feature Engineering -></span> 3. Data Preparation -> 4. Model Training & Evaluation<center></h3></center></div>"
      ],
      "text/plain": [
       "<IPython.core.display.HTML object>"
      ]
     },
     "metadata": {},
     "output_type": "display_data"
    },
    {
     "name": "stdout",
     "output_type": "stream",
     "text": [
      "                                                                                          \r"
     ]
    },
    {
     "data": {
      "text/html": [
       "Data preparation started ..."
      ],
      "text/plain": [
       "<IPython.core.display.HTML object>"
      ]
     },
     "metadata": {},
     "output_type": "display_data"
    },
    {
     "name": "stdout",
     "output_type": "stream",
     "text": [
      "                                                                                          \r"
     ]
    },
    {
     "data": {
      "text/html": [
       "\n",
       "Starting customized outlier processing ..."
      ],
      "text/plain": [
       "<IPython.core.display.HTML object>"
      ]
     },
     "metadata": {},
     "output_type": "display_data"
    },
    {
     "name": "stdout",
     "output_type": "stream",
     "text": [
      "Columns with outlier percentage :-                                                                                                                                                                                                                                                                                                                                                                                                                                                                                  \n",
      "             ColumnName  OutlierPercentage\n",
      "0             sulphates           9.760426\n",
      "1      volatile_acidity           9.582964\n",
      "2  total_sulfur_dioxide           8.429459\n",
      "3           citric_acid           4.880213\n",
      "4                    pH           9.139308\n",
      "5                    id           9.937888\n",
      "6             chlorides           9.671695\n",
      "7               density           9.494232\n",
      "8         fixed_acidity           9.494232\n",
      "9               alcohol           7.453416\n",
      "                                                                                          \r"
     ]
    },
    {
     "data": {
      "text/html": [
       "\n",
       "Checking imbalance data ..."
      ],
      "text/plain": [
       "<IPython.core.display.HTML object>"
      ]
     },
     "metadata": {},
     "output_type": "display_data"
    },
    {
     "name": "stdout",
     "output_type": "stream",
     "text": [
      "                                                                                          \r"
     ]
    },
    {
     "data": {
      "text/html": [
       "Imbalance Not Found."
      ],
      "text/plain": [
       "<IPython.core.display.HTML object>"
      ]
     },
     "metadata": {},
     "output_type": "display_data"
    },
    {
     "name": "stdout",
     "output_type": "stream",
     "text": [
      "                                                                                          \r"
     ]
    },
    {
     "data": {
      "text/html": [
       "\n",
       "Feature selection using lasso ..."
      ],
      "text/plain": [
       "<IPython.core.display.HTML object>"
      ]
     },
     "metadata": {},
     "output_type": "display_data"
    },
    {
     "name": "stdout",
     "output_type": "stream",
     "text": [
      "                                                                                          \r"
     ]
    },
    {
     "data": {
      "text/html": [
       "feature selected by lasso:"
      ],
      "text/plain": [
       "<IPython.core.display.HTML object>"
      ]
     },
     "metadata": {},
     "output_type": "display_data"
    },
    {
     "name": "stdout",
     "output_type": "stream",
     "text": [
      "['total_sulfur_dioxide', 'alcohol', 'fixed_acidity', 'volatile_acidity', 'pH', 'free_sulfur_dioxide', 'chlorides', 'residual_sugar', 'sulphates', 'citric_acid', 'density']\n",
      "                                                                                          \r"
     ]
    },
    {
     "data": {
      "text/html": [
       "Total time taken by feature selection: 7.01 sec  "
      ],
      "text/plain": [
       "<IPython.core.display.HTML object>"
      ]
     },
     "metadata": {},
     "output_type": "display_data"
    },
    {
     "name": "stdout",
     "output_type": "stream",
     "text": [
      "                                                                                          \r"
     ]
    },
    {
     "data": {
      "text/html": [
       "\n",
       "scaling Features of lasso data ..."
      ],
      "text/plain": [
       "<IPython.core.display.HTML object>"
      ]
     },
     "metadata": {},
     "output_type": "display_data"
    },
    {
     "name": "stdout",
     "output_type": "stream",
     "text": [
      "                                                                                          \r"
     ]
    },
    {
     "data": {
      "text/html": [
       "columns that will be scaled: "
      ],
      "text/plain": [
       "<IPython.core.display.HTML object>"
      ]
     },
     "metadata": {},
     "output_type": "display_data"
    },
    {
     "name": "stdout",
     "output_type": "stream",
     "text": [
      "['total_sulfur_dioxide', 'alcohol', 'fixed_acidity', 'volatile_acidity', 'pH', 'free_sulfur_dioxide', 'chlorides', 'residual_sugar', 'sulphates', 'citric_acid', 'density']\n",
      "                                                                                          \r"
     ]
    },
    {
     "data": {
      "text/html": [
       "Dataset sample after scaling:"
      ],
      "text/plain": [
       "<IPython.core.display.HTML object>"
      ]
     },
     "metadata": {},
     "output_type": "display_data"
    },
    {
     "data": {
      "text/html": [
       "<style type=\"text/css\">\n",
       "\ttable {border:ridge 5px;}\n",
       "\ttable td {border:inset 1px;}\n",
       "\ttable tr#HeaderRow {background-color:grey; color:white;}</style>\n",
       "<html><table>\n",
       "\t<tr id=\"HeaderRow\">\n",
       "\t\t<th>id</th>\n",
       "\t\t<th>quality</th>\n",
       "\t\t<th>total_sulfur_dioxide</th>\n",
       "\t\t<th>alcohol</th>\n",
       "\t\t<th>fixed_acidity</th>\n",
       "\t\t<th>volatile_acidity</th>\n",
       "\t\t<th>pH</th>\n",
       "\t\t<th>free_sulfur_dioxide</th>\n",
       "\t\t<th>chlorides</th>\n",
       "\t\t<th>residual_sugar</th>\n",
       "\t\t<th>sulphates</th>\n",
       "\t\t<th>citric_acid</th>\n",
       "\t\t<th>density</th>\n",
       "\t</tr>\n",
       "\t<tr>\n",
       "\t\t<td>10</td>\n",
       "\t\t<td>1</td>\n",
       "\t\t<td>-0.6965260664542596</td>\n",
       "\t\t<td>0.5473006118509043</td>\n",
       "\t\t<td>1.2606118364669572</td>\n",
       "\t\t<td>-1.5736452319163328</td>\n",
       "\t\t<td>-1.0786429786523726</td>\n",
       "\t\t<td>-0.9757854820899197</td>\n",
       "\t\t<td>-0.49527837474736547</td>\n",
       "\t\t<td>-0.38475771163359157</td>\n",
       "\t\t<td>1.4230370536509505</td>\n",
       "\t\t<td>1.035103764732606</td>\n",
       "\t\t<td>0.5966408726090554</td>\n",
       "\t</tr>\n",
       "\t<tr>\n",
       "\t\t<td>12</td>\n",
       "\t\t<td>0</td>\n",
       "\t\t<td>-0.824510319697223</td>\n",
       "\t\t<td>0.07296411419782187</td>\n",
       "\t\t<td>0.037625943214445644</td>\n",
       "\t\t<td>-1.2997296127838112</td>\n",
       "\t\t<td>0.5184767284431255</td>\n",
       "\t\t<td>-0.7719660602434611</td>\n",
       "\t\t<td>-0.4725530512096994</td>\n",
       "\t\t<td>-1.0798258823066293</td>\n",
       "\t\t<td>-0.3600567525698818</td>\n",
       "\t\t<td>0.672586431128309</td>\n",
       "\t\t<td>-0.41093146192935964</td>\n",
       "\t</tr>\n",
       "\t<tr>\n",
       "\t\t<td>14</td>\n",
       "\t\t<td>1</td>\n",
       "\t\t<td>1.6711826185405625</td>\n",
       "\t\t<td>-0.875708881108343</td>\n",
       "\t\t<td>0.38705048414373455</td>\n",
       "\t\t<td>-0.3684165077332377</td>\n",
       "\t\t<td>0.05265014720693708</td>\n",
       "\t\t<td>0.34904075991206013</td>\n",
       "\t\t<td>0.11830536076961778</td>\n",
       "\t\t<td>0.8316115870442236</td>\n",
       "\t\t<td>-0.18174737194779841</td>\n",
       "\t\t<td>0.20649271649421247</td>\n",
       "\t\t<td>0.7645695950321039</td>\n",
       "\t</tr>\n",
       "\t<tr>\n",
       "\t\t<td>16</td>\n",
       "\t\t<td>0</td>\n",
       "\t\t<td>-1.0164866995616681</td>\n",
       "\t\t<td>-0.7808415815777269</td>\n",
       "\t\t<td>2.308885459254825</td>\n",
       "\t\t<td>-0.14928401242722059</td>\n",
       "\t\t<td>-0.8124563608031229</td>\n",
       "\t\t<td>-1.0776951930131489</td>\n",
       "\t\t<td>0.027404066618953508</td>\n",
       "\t\t<td>-0.21099066896533206</td>\n",
       "\t\t<td>-1.3110401158876588</td>\n",
       "\t\t<td>1.1386801457624052</td>\n",
       "\t\t<td>1.9400706519935673</td>\n",
       "\t</tr>\n",
       "\t<tr>\n",
       "\t\t<td>18</td>\n",
       "\t\t<td>1</td>\n",
       "\t\t<td>-0.7605181930757413</td>\n",
       "\t\t<td>0.357566012789672</td>\n",
       "\t\t<td>1.2606118364669572</td>\n",
       "\t\t<td>-1.5736452319163328</td>\n",
       "\t\t<td>-0.6793630518784981</td>\n",
       "\t\t<td>-0.9757854820899197</td>\n",
       "\t\t<td>-0.24529981583303903</td>\n",
       "\t\t<td>-0.9060588396383698</td>\n",
       "\t\t<td>2.314583956761367</td>\n",
       "\t\t<td>0.776162812158108</td>\n",
       "\t\t<td>0.48468839099368977</td>\n",
       "\t</tr>\n",
       "\t<tr>\n",
       "\t\t<td>19</td>\n",
       "\t\t<td>1</td>\n",
       "\t\t<td>-0.2485811801038879</td>\n",
       "\t\t<td>3.0138503996469326</td>\n",
       "\t\t<td>-0.5447482916677029</td>\n",
       "\t\t<td>-0.916247745998281</td>\n",
       "\t\t<td>0.4519300739808116</td>\n",
       "\t\t<td>0.2471310489888309</td>\n",
       "\t\t<td>-0.29075046290837114</td>\n",
       "\t\t<td>-0.9060588396383698</td>\n",
       "\t\t<td>1.3041641332362284</td>\n",
       "\t\t<td>0.36185728803891143</td>\n",
       "\t\t<td>-1.9222899637369821</td>\n",
       "\t</tr>\n",
       "\t<tr>\n",
       "\t\t<td>17</td>\n",
       "\t\t<td>1</td>\n",
       "\t\t<td>-0.2485811801038879</td>\n",
       "\t\t<td>0.07296411419782187</td>\n",
       "\t\t<td>-0.4865108681794882</td>\n",
       "\t\t<td>-0.03971776477421186</td>\n",
       "\t\t<td>1.78286316322706</td>\n",
       "\t\t<td>-0.7719660602434611</td>\n",
       "\t\t<td>-0.018046580456378632</td>\n",
       "\t\t<td>-0.037223626297073306</td>\n",
       "\t\t<td>-0.3006202923625207</td>\n",
       "\t\t<td>0.776162812158108</td>\n",
       "\t\t<td>0.2607834277628963</td>\n",
       "\t</tr>\n",
       "\t<tr>\n",
       "\t\t<td>11</td>\n",
       "\t\t<td>0</td>\n",
       "\t\t<td>0.8392849724613006</td>\n",
       "\t\t<td>0.5473006118509043</td>\n",
       "\t\t<td>-0.5447482916677029</td>\n",
       "\t\t<td>-0.916247745998281</td>\n",
       "\t\t<td>0.5184767284431255</td>\n",
       "\t\t<td>1.0624087363746646</td>\n",
       "\t\t<td>-0.018046580456378632</td>\n",
       "\t\t<td>0.48407750170770525</td>\n",
       "\t\t<td>0.11543492908900718</td>\n",
       "\t\t<td>0.10291633546441317</td>\n",
       "\t\t<td>-0.18702649869862836</td>\n",
       "\t</tr>\n",
       "\t<tr>\n",
       "\t\t<td>9</td>\n",
       "\t\t<td>1</td>\n",
       "\t\t<td>-0.08860086355018372</td>\n",
       "\t\t<td>-0.4013723834552606</td>\n",
       "\t\t<td>3.124209388089832</td>\n",
       "\t\t<td>-0.6149405649525073</td>\n",
       "\t\t<td>-1.677562868813183</td>\n",
       "\t\t<td>0.1452213380656017</td>\n",
       "\t\t<td>-0.06349722753171046</td>\n",
       "\t\t<td>1.005378629712483</td>\n",
       "\t\t<td>0.8286724515773399</td>\n",
       "\t\t<td>2.122655765545498</td>\n",
       "\t\t<td>2.6117855416858853</td>\n",
       "\t</tr>\n",
       "\t<tr>\n",
       "\t\t<td>8</td>\n",
       "\t\t<td>1</td>\n",
       "\t\t<td>0.007387326382038795</td>\n",
       "\t\t<td>-0.21163778439402828</td>\n",
       "\t\t<td>2.308885459254825</td>\n",
       "\t\t<td>-1.4092958604368195</td>\n",
       "\t\t<td>-0.745909706340809</td>\n",
       "\t\t<td>1.266228158221123</td>\n",
       "\t\t<td>-0.1998491687577069</td>\n",
       "\t\t<td>1.3529127150490021</td>\n",
       "\t\t<td>0.8286724515773399</td>\n",
       "\t\t<td>1.1386801457624052</td>\n",
       "\t\t<td>1.4362844847243599</td>\n",
       "\t</tr>\n",
       "</table></html>"
      ],
      "text/plain": [
       "   id  quality  total_sulfur_dioxide   alcohol  fixed_acidity  volatile_acidity        pH  free_sulfur_dioxide  chlorides  residual_sugar  sulphates  citric_acid   density\n",
       "0  10        1             -0.696526  0.547301       1.260612         -1.573645 -1.078643            -0.975785  -0.495278       -0.384758   1.423037     1.035104  0.596641\n",
       "1  12        0             -0.824510  0.072964       0.037626         -1.299730  0.518477            -0.771966  -0.472553       -1.079826  -0.360057     0.672586 -0.410931\n",
       "2  14        1              1.671183 -0.875709       0.387050         -0.368417  0.052650             0.349041   0.118305        0.831612  -0.181747     0.206493  0.764570\n",
       "3  16        0             -1.016487 -0.780842       2.308885         -0.149284 -0.812456            -1.077695   0.027404       -0.210991  -1.311040     1.138680  1.940071\n",
       "4  18        1             -0.760518  0.357566       1.260612         -1.573645 -0.679363            -0.975785  -0.245300       -0.906059   2.314584     0.776163  0.484688\n",
       "5  19        1             -0.248581  3.013850      -0.544748         -0.916248  0.451930             0.247131  -0.290750       -0.906059   1.304164     0.361857 -1.922290\n",
       "6  17        1             -0.248581  0.072964      -0.486511         -0.039718  1.782863            -0.771966  -0.018047       -0.037224  -0.300620     0.776163  0.260783\n",
       "7  11        0              0.839285  0.547301      -0.544748         -0.916248  0.518477             1.062409  -0.018047        0.484078   0.115435     0.102916 -0.187026\n",
       "8   9        1             -0.088601 -0.401372       3.124209         -0.614941 -1.677563             0.145221  -0.063497        1.005379   0.828672     2.122656  2.611786\n",
       "9   8        1              0.007387 -0.211638       2.308885         -1.409296 -0.745910             1.266228  -0.199849        1.352913   0.828672     1.138680  1.436284"
      ]
     },
     "metadata": {},
     "output_type": "display_data"
    },
    {
     "name": "stdout",
     "output_type": "stream",
     "text": [
      "                                                                                          \r"
     ]
    },
    {
     "data": {
      "text/html": [
       "1020 rows X 13 columns"
      ],
      "text/plain": [
       "<IPython.core.display.HTML object>"
      ]
     },
     "metadata": {},
     "output_type": "display_data"
    },
    {
     "name": "stdout",
     "output_type": "stream",
     "text": [
      "                                                                                          \r"
     ]
    },
    {
     "data": {
      "text/html": [
       "Total time taken by feature scaling: 34.06 sec"
      ],
      "text/plain": [
       "<IPython.core.display.HTML object>"
      ]
     },
     "metadata": {},
     "output_type": "display_data"
    },
    {
     "name": "stdout",
     "output_type": "stream",
     "text": [
      "                                                                                          \r"
     ]
    },
    {
     "data": {
      "text/html": [
       "\n",
       "Feature selection using rfe ..."
      ],
      "text/plain": [
       "<IPython.core.display.HTML object>"
      ]
     },
     "metadata": {},
     "output_type": "display_data"
    },
    {
     "name": "stdout",
     "output_type": "stream",
     "text": [
      "                                                                                          \r"
     ]
    },
    {
     "data": {
      "text/html": [
       "feature selected by RFE:"
      ],
      "text/plain": [
       "<IPython.core.display.HTML object>"
      ]
     },
     "metadata": {},
     "output_type": "display_data"
    },
    {
     "name": "stdout",
     "output_type": "stream",
     "text": [
      "['total_sulfur_dioxide', 'alcohol', 'volatile_acidity', 'pH', 'chlorides', 'sulphates', 'citric_acid', 'density']\n",
      "                                                                                          \r"
     ]
    },
    {
     "data": {
      "text/html": [
       "Total time taken by feature selection: 8.96 sec  "
      ],
      "text/plain": [
       "<IPython.core.display.HTML object>"
      ]
     },
     "metadata": {},
     "output_type": "display_data"
    },
    {
     "name": "stdout",
     "output_type": "stream",
     "text": [
      "                                                                                          \r"
     ]
    },
    {
     "data": {
      "text/html": [
       "\n",
       "scaling Features of rfe data ..."
      ],
      "text/plain": [
       "<IPython.core.display.HTML object>"
      ]
     },
     "metadata": {},
     "output_type": "display_data"
    },
    {
     "name": "stdout",
     "output_type": "stream",
     "text": [
      "                                                                                          \r"
     ]
    },
    {
     "data": {
      "text/html": [
       "columns that will be scaled: "
      ],
      "text/plain": [
       "<IPython.core.display.HTML object>"
      ]
     },
     "metadata": {},
     "output_type": "display_data"
    },
    {
     "name": "stdout",
     "output_type": "stream",
     "text": [
      "['r_total_sulfur_dioxide', 'r_alcohol', 'r_volatile_acidity', 'r_pH', 'r_chlorides', 'r_sulphates', 'r_citric_acid', 'r_density']\n",
      "                                                                                          \r"
     ]
    },
    {
     "data": {
      "text/html": [
       "Dataset sample after scaling:"
      ],
      "text/plain": [
       "<IPython.core.display.HTML object>"
      ]
     },
     "metadata": {},
     "output_type": "display_data"
    },
    {
     "data": {
      "text/html": [
       "<style type=\"text/css\">\n",
       "\ttable {border:ridge 5px;}\n",
       "\ttable td {border:inset 1px;}\n",
       "\ttable tr#HeaderRow {background-color:grey; color:white;}</style>\n",
       "<html><table>\n",
       "\t<tr id=\"HeaderRow\">\n",
       "\t\t<th>id</th>\n",
       "\t\t<th>quality</th>\n",
       "\t\t<th>r_total_sulfur_dioxide</th>\n",
       "\t\t<th>r_alcohol</th>\n",
       "\t\t<th>r_volatile_acidity</th>\n",
       "\t\t<th>r_pH</th>\n",
       "\t\t<th>r_chlorides</th>\n",
       "\t\t<th>r_sulphates</th>\n",
       "\t\t<th>r_citric_acid</th>\n",
       "\t\t<th>r_density</th>\n",
       "\t</tr>\n",
       "\t<tr>\n",
       "\t\t<td>10</td>\n",
       "\t\t<td>1</td>\n",
       "\t\t<td>-0.6965260664542596</td>\n",
       "\t\t<td>0.5473006118509043</td>\n",
       "\t\t<td>-1.5736452319163328</td>\n",
       "\t\t<td>-1.0786429786523726</td>\n",
       "\t\t<td>-0.49527837474736547</td>\n",
       "\t\t<td>1.4230370536509505</td>\n",
       "\t\t<td>1.035103764732606</td>\n",
       "\t\t<td>0.5966408726090554</td>\n",
       "\t</tr>\n",
       "\t<tr>\n",
       "\t\t<td>12</td>\n",
       "\t\t<td>0</td>\n",
       "\t\t<td>-0.824510319697223</td>\n",
       "\t\t<td>0.07296411419782187</td>\n",
       "\t\t<td>-1.2997296127838112</td>\n",
       "\t\t<td>0.5184767284431255</td>\n",
       "\t\t<td>-0.4725530512096994</td>\n",
       "\t\t<td>-0.3600567525698818</td>\n",
       "\t\t<td>0.672586431128309</td>\n",
       "\t\t<td>-0.41093146192935964</td>\n",
       "\t</tr>\n",
       "\t<tr>\n",
       "\t\t<td>14</td>\n",
       "\t\t<td>1</td>\n",
       "\t\t<td>1.6711826185405625</td>\n",
       "\t\t<td>-0.875708881108343</td>\n",
       "\t\t<td>-0.3684165077332377</td>\n",
       "\t\t<td>0.05265014720693708</td>\n",
       "\t\t<td>0.11830536076961778</td>\n",
       "\t\t<td>-0.18174737194779841</td>\n",
       "\t\t<td>0.20649271649421247</td>\n",
       "\t\t<td>0.7645695950321039</td>\n",
       "\t</tr>\n",
       "\t<tr>\n",
       "\t\t<td>16</td>\n",
       "\t\t<td>0</td>\n",
       "\t\t<td>-1.0164866995616681</td>\n",
       "\t\t<td>-0.7808415815777269</td>\n",
       "\t\t<td>-0.14928401242722059</td>\n",
       "\t\t<td>-0.8124563608031229</td>\n",
       "\t\t<td>0.027404066618953508</td>\n",
       "\t\t<td>-1.3110401158876588</td>\n",
       "\t\t<td>1.1386801457624052</td>\n",
       "\t\t<td>1.9400706519935673</td>\n",
       "\t</tr>\n",
       "\t<tr>\n",
       "\t\t<td>18</td>\n",
       "\t\t<td>1</td>\n",
       "\t\t<td>-0.7605181930757413</td>\n",
       "\t\t<td>0.357566012789672</td>\n",
       "\t\t<td>-1.5736452319163328</td>\n",
       "\t\t<td>-0.6793630518784981</td>\n",
       "\t\t<td>-0.24529981583303903</td>\n",
       "\t\t<td>2.314583956761367</td>\n",
       "\t\t<td>0.776162812158108</td>\n",
       "\t\t<td>0.48468839099368977</td>\n",
       "\t</tr>\n",
       "\t<tr>\n",
       "\t\t<td>19</td>\n",
       "\t\t<td>1</td>\n",
       "\t\t<td>-0.2485811801038879</td>\n",
       "\t\t<td>3.0138503996469326</td>\n",
       "\t\t<td>-0.916247745998281</td>\n",
       "\t\t<td>0.4519300739808116</td>\n",
       "\t\t<td>-0.29075046290837114</td>\n",
       "\t\t<td>1.3041641332362284</td>\n",
       "\t\t<td>0.36185728803891143</td>\n",
       "\t\t<td>-1.9222899637369821</td>\n",
       "\t</tr>\n",
       "\t<tr>\n",
       "\t\t<td>17</td>\n",
       "\t\t<td>1</td>\n",
       "\t\t<td>-0.2485811801038879</td>\n",
       "\t\t<td>0.07296411419782187</td>\n",
       "\t\t<td>-0.03971776477421186</td>\n",
       "\t\t<td>1.78286316322706</td>\n",
       "\t\t<td>-0.018046580456378632</td>\n",
       "\t\t<td>-0.3006202923625207</td>\n",
       "\t\t<td>0.776162812158108</td>\n",
       "\t\t<td>0.2607834277628963</td>\n",
       "\t</tr>\n",
       "\t<tr>\n",
       "\t\t<td>11</td>\n",
       "\t\t<td>0</td>\n",
       "\t\t<td>0.8392849724613006</td>\n",
       "\t\t<td>0.5473006118509043</td>\n",
       "\t\t<td>-0.916247745998281</td>\n",
       "\t\t<td>0.5184767284431255</td>\n",
       "\t\t<td>-0.018046580456378632</td>\n",
       "\t\t<td>0.11543492908900718</td>\n",
       "\t\t<td>0.10291633546441317</td>\n",
       "\t\t<td>-0.18702649869862836</td>\n",
       "\t</tr>\n",
       "\t<tr>\n",
       "\t\t<td>9</td>\n",
       "\t\t<td>1</td>\n",
       "\t\t<td>-0.08860086355018372</td>\n",
       "\t\t<td>-0.4013723834552606</td>\n",
       "\t\t<td>-0.6149405649525073</td>\n",
       "\t\t<td>-1.677562868813183</td>\n",
       "\t\t<td>-0.06349722753171046</td>\n",
       "\t\t<td>0.8286724515773399</td>\n",
       "\t\t<td>2.122655765545498</td>\n",
       "\t\t<td>2.6117855416858853</td>\n",
       "\t</tr>\n",
       "\t<tr>\n",
       "\t\t<td>8</td>\n",
       "\t\t<td>1</td>\n",
       "\t\t<td>0.007387326382038795</td>\n",
       "\t\t<td>-0.21163778439402828</td>\n",
       "\t\t<td>-1.4092958604368195</td>\n",
       "\t\t<td>-0.745909706340809</td>\n",
       "\t\t<td>-0.1998491687577069</td>\n",
       "\t\t<td>0.8286724515773399</td>\n",
       "\t\t<td>1.1386801457624052</td>\n",
       "\t\t<td>1.4362844847243599</td>\n",
       "\t</tr>\n",
       "</table></html>"
      ],
      "text/plain": [
       "   id  quality  r_total_sulfur_dioxide  r_alcohol  r_volatile_acidity      r_pH  r_chlorides  r_sulphates  r_citric_acid  r_density\n",
       "0  10        1               -0.696526   0.547301           -1.573645 -1.078643    -0.495278     1.423037       1.035104   0.596641\n",
       "1  12        0               -0.824510   0.072964           -1.299730  0.518477    -0.472553    -0.360057       0.672586  -0.410931\n",
       "2  14        1                1.671183  -0.875709           -0.368417  0.052650     0.118305    -0.181747       0.206493   0.764570\n",
       "3  16        0               -1.016487  -0.780842           -0.149284 -0.812456     0.027404    -1.311040       1.138680   1.940071\n",
       "4  18        1               -0.760518   0.357566           -1.573645 -0.679363    -0.245300     2.314584       0.776163   0.484688\n",
       "5  19        1               -0.248581   3.013850           -0.916248  0.451930    -0.290750     1.304164       0.361857  -1.922290\n",
       "6  17        1               -0.248581   0.072964           -0.039718  1.782863    -0.018047    -0.300620       0.776163   0.260783\n",
       "7  11        0                0.839285   0.547301           -0.916248  0.518477    -0.018047     0.115435       0.102916  -0.187026\n",
       "8   9        1               -0.088601  -0.401372           -0.614941 -1.677563    -0.063497     0.828672       2.122656   2.611786\n",
       "9   8        1                0.007387  -0.211638           -1.409296 -0.745910    -0.199849     0.828672       1.138680   1.436284"
      ]
     },
     "metadata": {},
     "output_type": "display_data"
    },
    {
     "name": "stdout",
     "output_type": "stream",
     "text": [
      "                                                                                          \r"
     ]
    },
    {
     "data": {
      "text/html": [
       "1020 rows X 10 columns"
      ],
      "text/plain": [
       "<IPython.core.display.HTML object>"
      ]
     },
     "metadata": {},
     "output_type": "display_data"
    },
    {
     "name": "stdout",
     "output_type": "stream",
     "text": [
      "                                                                                          \r"
     ]
    },
    {
     "data": {
      "text/html": [
       "Total time taken by feature scaling: 33.87 sec"
      ],
      "text/plain": [
       "<IPython.core.display.HTML object>"
      ]
     },
     "metadata": {},
     "output_type": "display_data"
    },
    {
     "name": "stdout",
     "output_type": "stream",
     "text": [
      "                                                                                          \r"
     ]
    },
    {
     "data": {
      "text/html": [
       "\n",
       "scaling Features of pca data ..."
      ],
      "text/plain": [
       "<IPython.core.display.HTML object>"
      ]
     },
     "metadata": {},
     "output_type": "display_data"
    },
    {
     "name": "stdout",
     "output_type": "stream",
     "text": [
      "                                                                                          \r"
     ]
    },
    {
     "data": {
      "text/html": [
       "columns that will be scaled: "
      ],
      "text/plain": [
       "<IPython.core.display.HTML object>"
      ]
     },
     "metadata": {},
     "output_type": "display_data"
    },
    {
     "name": "stdout",
     "output_type": "stream",
     "text": [
      "['total_sulfur_dioxide', 'alcohol', 'fixed_acidity', 'volatile_acidity', 'pH', 'free_sulfur_dioxide', 'chlorides', 'residual_sugar', 'sulphates', 'citric_acid', 'density']\n",
      "                                                                                          \r"
     ]
    },
    {
     "data": {
      "text/html": [
       "Dataset sample after scaling:"
      ],
      "text/plain": [
       "<IPython.core.display.HTML object>"
      ]
     },
     "metadata": {},
     "output_type": "display_data"
    },
    {
     "data": {
      "text/html": [
       "<style type=\"text/css\">\n",
       "\ttable {border:ridge 5px;}\n",
       "\ttable td {border:inset 1px;}\n",
       "\ttable tr#HeaderRow {background-color:grey; color:white;}</style>\n",
       "<html><table>\n",
       "\t<tr id=\"HeaderRow\">\n",
       "\t\t<th>id</th>\n",
       "\t\t<th>quality</th>\n",
       "\t\t<th>total_sulfur_dioxide</th>\n",
       "\t\t<th>alcohol</th>\n",
       "\t\t<th>fixed_acidity</th>\n",
       "\t\t<th>volatile_acidity</th>\n",
       "\t\t<th>pH</th>\n",
       "\t\t<th>free_sulfur_dioxide</th>\n",
       "\t\t<th>chlorides</th>\n",
       "\t\t<th>residual_sugar</th>\n",
       "\t\t<th>sulphates</th>\n",
       "\t\t<th>citric_acid</th>\n",
       "\t\t<th>density</th>\n",
       "\t</tr>\n",
       "\t<tr>\n",
       "\t\t<td>683</td>\n",
       "\t\t<td>0</td>\n",
       "\t\t<td>1.6071904919190811</td>\n",
       "\t\t<td>-0.8757089927111525</td>\n",
       "\t\t<td>-0.37003602120305934</td>\n",
       "\t\t<td>0.7820290926233491</td>\n",
       "\t\t<td>0.05265014720693997</td>\n",
       "\t\t<td>0.14522133806560145</td>\n",
       "\t\t<td>0.00467874308128397</td>\n",
       "\t\t<td>-0.38475771163359274</td>\n",
       "\t\t<td>-1.0732942750582175</td>\n",
       "\t\t<td>-0.20781280762498427</td>\n",
       "\t\t<td>-0.29947653006476904</td>\n",
       "\t</tr>\n",
       "\t<tr>\n",
       "\t\t<td>547</td>\n",
       "\t\t<td>0</td>\n",
       "\t\t<td>3.3989700373205687</td>\n",
       "\t\t<td>-0.9705763043316216</td>\n",
       "\t\t<td>0.8529498720494559</td>\n",
       "\t\t<td>2.4803059312449833</td>\n",
       "\t\t<td>-0.413176434029245</td>\n",
       "\t\t<td>1.9795961346837239</td>\n",
       "\t\t<td>-0.22257449229537649</td>\n",
       "\t\t<td>-0.03722362629707342</td>\n",
       "\t\t<td>-1.0732942750582175</td>\n",
       "\t\t<td>0.2582809070091121</td>\n",
       "\t\t<td>0.708366620457234</td>\n",
       "\t</tr>\n",
       "\t<tr>\n",
       "\t\t<td>12</td>\n",
       "\t\t<td>0</td>\n",
       "\t\t<td>-0.8245103196972232</td>\n",
       "\t\t<td>0.07296412349354023</td>\n",
       "\t\t<td>0.03762594321444574</td>\n",
       "\t\t<td>-1.2997296127838163</td>\n",
       "\t\t<td>0.5184767284431279</td>\n",
       "\t\t<td>-0.7719660602434598</td>\n",
       "\t\t<td>-0.47255305120970303</td>\n",
       "\t\t<td>-1.0798258823066327</td>\n",
       "\t\t<td>-0.36005675256988584</td>\n",
       "\t\t<td>0.672586431128309</td>\n",
       "\t\t<td>-0.3946617165029589</td>\n",
       "\t</tr>\n",
       "\t<tr>\n",
       "\t\t<td>186</td>\n",
       "\t\t<td>1</td>\n",
       "\t\t<td>1.831162935094267</td>\n",
       "\t\t<td>0.07296412349354023</td>\n",
       "\t\t<td>0.09586336670266053</td>\n",
       "\t\t<td>-1.3545127366103202</td>\n",
       "\t\t<td>-0.08044316171768472</td>\n",
       "\t\t<td>1.9795961346837239</td>\n",
       "\t\t<td>0.09558003723194827</td>\n",
       "\t\t<td>-0.9060588396383725</td>\n",
       "\t\t<td>0.5314901505405288</td>\n",
       "\t\t<td>1.501197479366703</td>\n",
       "\t\t<td>0.09246247291602373</td>\n",
       "\t</tr>\n",
       "\t<tr>\n",
       "\t\t<td>133</td>\n",
       "\t\t<td>0</td>\n",
       "\t\t<td>2.855036961037974</td>\n",
       "\t\t<td>-0.9705763043316216</td>\n",
       "\t\t<td>0.15410079019087533</td>\n",
       "\t\t<td>-0.3136333839067381</td>\n",
       "\t\t<td>-0.08044316171768472</td>\n",
       "\t\t<td>1.4700475800675787</td>\n",
       "\t\t<td>-0.26802513937070865</td>\n",
       "\t\t<td>1.179145672380746</td>\n",
       "\t\t<td>-0.7761119740214123</td>\n",
       "\t\t<td>0.15470452597931283</td>\n",
       "\t\t<td>0.48440147589681654</td>\n",
       "\t</tr>\n",
       "\t<tr>\n",
       "\t\t<td>978</td>\n",
       "\t\t<td>0</td>\n",
       "\t\t<td>2.855036961037974</td>\n",
       "\t\t<td>-0.8757089927111525</td>\n",
       "\t\t<td>-1.4183096439909293</td>\n",
       "\t\t<td>-1.8475608510488595</td>\n",
       "\t\t<td>0.05265014720693997</td>\n",
       "\t\t<td>4.2216097749947625</td>\n",
       "\t\t<td>-0.9725101690383564</td>\n",
       "\t\t<td>-1.0798258823066327</td>\n",
       "\t\t<td>-1.3110401158876612</td>\n",
       "\t\t<td>-0.3113891886547836</td>\n",
       "\t\t<td>-1.8616334133738301</td>\n",
       "\t</tr>\n",
       "\t<tr>\n",
       "\t\t<td>408</td>\n",
       "\t\t<td>0</td>\n",
       "\t\t<td>-0.9524945729401866</td>\n",
       "\t\t<td>-1.9192494205363144</td>\n",
       "\t\t<td>1.2023744129787457</td>\n",
       "\t\t<td>0.4533303496643228</td>\n",
       "\t\t<td>-1.0120963241900547</td>\n",
       "\t\t<td>-1.0776951930131469</td>\n",
       "\t\t<td>2.5499149792998828</td>\n",
       "\t\t<td>-0.38475771163359274</td>\n",
       "\t\t<td>-0.18174737194780274</td>\n",
       "\t\t<td>1.1386801457624052</td>\n",
       "\t\t<td>1.4922446264187574</td>\n",
       "\t</tr>\n",
       "\t<tr>\n",
       "\t\t<td>1007</td>\n",
       "\t\t<td>0</td>\n",
       "\t\t<td>-0.9524945729401866</td>\n",
       "\t\t<td>0.7370353048368246</td>\n",
       "\t\t<td>0.561762754608381</td>\n",
       "\t\t<td>-0.2588502600802337</td>\n",
       "\t\t<td>-0.6128163974161805</td>\n",
       "\t\t<td>-0.9757854820899179</td>\n",
       "\t\t<td>0.8909663610502604</td>\n",
       "\t\t<td>-0.38475771163359274</td>\n",
       "\t\t<td>0.3531807699184458</td>\n",
       "\t\t<td>0.10291633546441317</td>\n",
       "\t\t<td>0.036471186775919366</td>\n",
       "\t</tr>\n",
       "\t<tr>\n",
       "\t\t<td>121</td>\n",
       "\t\t<td>0</td>\n",
       "\t\t<td>-1.1764670161153725</td>\n",
       "\t\t<td>0.45243336997541767</td>\n",
       "\t\t<td>-0.48651086817948946</td>\n",
       "\t\t<td>0.8642037783631057</td>\n",
       "\t\t<td>0.4519300739808141</td>\n",
       "\t\t<td>-1.0776951930131469</td>\n",
       "\t\t<td>-0.6770809630486976</td>\n",
       "\t\t<td>0.3103104590394467</td>\n",
       "\t\t<td>-0.6572390536066903</td>\n",
       "\t\t<td>-1.036423855863378</td>\n",
       "\t\t<td>-0.23228698669663136</td>\n",
       "\t</tr>\n",
       "\t<tr>\n",
       "\t\t<td>324</td>\n",
       "\t\t<td>0</td>\n",
       "\t\t<td>-1.1764670161153725</td>\n",
       "\t\t<td>-0.11677049974739767</td>\n",
       "\t\t<td>-0.6612231386441344</td>\n",
       "\t\t<td>0.2889809781848096</td>\n",
       "\t\t<td>0.1191968016692538</td>\n",
       "\t\t<td>-1.2815146148596048</td>\n",
       "\t\t<td>0.5955371550606017</td>\n",
       "\t\t<td>-0.38475771163359274</td>\n",
       "\t\t<td>-0.5383661331919689</td>\n",
       "\t\t<td>1.3976210983369035</td>\n",
       "\t\t<td>0.2548372027223513</td>\n",
       "\t</tr>\n",
       "</table></html>"
      ],
      "text/plain": [
       "     id  quality  total_sulfur_dioxide   alcohol  fixed_acidity  volatile_acidity        pH  free_sulfur_dioxide  chlorides  residual_sugar  sulphates  citric_acid   density\n",
       "0   683        0              1.607190 -0.875709      -0.370036          0.782029  0.052650             0.145221   0.004679       -0.384758  -1.073294    -0.207813 -0.299477\n",
       "1   547        0              3.398970 -0.970576       0.852950          2.480306 -0.413176             1.979596  -0.222574       -0.037224  -1.073294     0.258281  0.708367\n",
       "2    12        0             -0.824510  0.072964       0.037626         -1.299730  0.518477            -0.771966  -0.472553       -1.079826  -0.360057     0.672586 -0.394662\n",
       "3   186        1              1.831163  0.072964       0.095863         -1.354513 -0.080443             1.979596   0.095580       -0.906059   0.531490     1.501197  0.092462\n",
       "4   133        0              2.855037 -0.970576       0.154101         -0.313633 -0.080443             1.470048  -0.268025        1.179146  -0.776112     0.154705  0.484401\n",
       "5   978        0              2.855037 -0.875709      -1.418310         -1.847561  0.052650             4.221610  -0.972510       -1.079826  -1.311040    -0.311389 -1.861633\n",
       "6   408        0             -0.952495 -1.919249       1.202374          0.453330 -1.012096            -1.077695   2.549915       -0.384758  -0.181747     1.138680  1.492245\n",
       "7  1007        0             -0.952495  0.737035       0.561763         -0.258850 -0.612816            -0.975785   0.890966       -0.384758   0.353181     0.102916  0.036471\n",
       "8   121        0             -1.176467  0.452433      -0.486511          0.864204  0.451930            -1.077695  -0.677081        0.310310  -0.657239    -1.036424 -0.232287\n",
       "9   324        0             -1.176467 -0.116770      -0.661223          0.288981  0.119197            -1.281515   0.595537       -0.384758  -0.538366     1.397621  0.254837"
      ]
     },
     "metadata": {},
     "output_type": "display_data"
    },
    {
     "name": "stdout",
     "output_type": "stream",
     "text": [
      "                                                                                          \r"
     ]
    },
    {
     "data": {
      "text/html": [
       "1020 rows X 13 columns"
      ],
      "text/plain": [
       "<IPython.core.display.HTML object>"
      ]
     },
     "metadata": {},
     "output_type": "display_data"
    },
    {
     "name": "stdout",
     "output_type": "stream",
     "text": [
      "                                                                                          \r"
     ]
    },
    {
     "data": {
      "text/html": [
       "Total time taken by feature scaling: 31.39 sec"
      ],
      "text/plain": [
       "<IPython.core.display.HTML object>"
      ]
     },
     "metadata": {},
     "output_type": "display_data"
    },
    {
     "name": "stdout",
     "output_type": "stream",
     "text": [
      "                                                                                          \r"
     ]
    },
    {
     "data": {
      "text/html": [
       "\n",
       "Dimension Reduction using pca ..."
      ],
      "text/plain": [
       "<IPython.core.display.HTML object>"
      ]
     },
     "metadata": {},
     "output_type": "display_data"
    },
    {
     "name": "stdout",
     "output_type": "stream",
     "text": [
      "                                                                                          \r"
     ]
    },
    {
     "data": {
      "text/html": [
       "PCA columns:"
      ],
      "text/plain": [
       "<IPython.core.display.HTML object>"
      ]
     },
     "metadata": {},
     "output_type": "display_data"
    },
    {
     "name": "stdout",
     "output_type": "stream",
     "text": [
      "['col_0', 'col_1', 'col_2', 'col_3', 'col_4', 'col_5', 'col_6', 'col_7', 'col_8']\n",
      "                                                                                          \r"
     ]
    },
    {
     "data": {
      "text/html": [
       "Total time taken by PCA: 6.56 sec  "
      ],
      "text/plain": [
       "<IPython.core.display.HTML object>"
      ]
     },
     "metadata": {},
     "output_type": "display_data"
    },
    {
     "name": "stdout",
     "output_type": "stream",
     "text": [
      "                                                                                          \r"
     ]
    },
    {
     "data": {
      "text/html": [
       "\n",
       "            <style>\n",
       "                .custom-div {\n",
       "                    background-color: lightgray;\n",
       "                    color: #000000;\n",
       "                    padding: 10px;\n",
       "                    border-radius: 8px;\n",
       "                    box-shadow: 0 3px 4px rgba(0 -  0 -  0 -  0.2);\n",
       "                    margin-bottom: 10px;\n",
       "                    text-align: center;\n",
       "                }\n",
       "            </style>\n",
       "        <br><div class=\"custom-div\"><h3><span style=\"color: green;\">1. Feature Exploration -> 2. Feature Engineering -> 3. Data Preparation -></span> 4. Model Training & Evaluation<center></h3></center></div>"
      ],
      "text/plain": [
       "<IPython.core.display.HTML object>"
      ]
     },
     "metadata": {},
     "output_type": "display_data"
    },
    {
     "name": "stdout",
     "output_type": "stream",
     "text": [
      "                                                                                          \r"
     ]
    },
    {
     "data": {
      "text/html": [
       "Model Training started ..."
      ],
      "text/plain": [
       "<IPython.core.display.HTML object>"
      ]
     },
     "metadata": {},
     "output_type": "display_data"
    },
    {
     "name": "stdout",
     "output_type": "stream",
     "text": [
      "                                                                                          \r"
     ]
    },
    {
     "data": {
      "text/html": [
       "\n",
       "Starting customized hyperparameter update ..."
      ],
      "text/plain": [
       "<IPython.core.display.HTML object>"
      ]
     },
     "metadata": {},
     "output_type": "display_data"
    },
    {
     "name": "stdout",
     "output_type": "stream",
     "text": [
      "                                                                                          \n",
      "Completed customized hyperparameter update.\n",
      "                                                                                          \r"
     ]
    },
    {
     "data": {
      "text/html": [
       "\n",
       "Hyperparameters used for model training: "
      ],
      "text/plain": [
       "<IPython.core.display.HTML object>"
      ]
     },
     "metadata": {},
     "output_type": "display_data"
    },
    {
     "name": "stdout",
     "output_type": "stream",
     "text": [
      "response_column : quality                                                                                                                             \n",
      "name : decision_forest\n",
      "tree_type : Classification\n",
      "min_impurity : (0.0, 0.1, 0.2)\n",
      "max_depth : (5, 6, 8, 10)\n",
      "min_node_size : (1, 2, 3)\n",
      "num_trees : (-1, 20, 30)\n",
      "seed : 42\n",
      "Total number of models for decision_forest : 108\n",
      "--------------------------------------------------------------------------------------------------------------------------------------------------------------------------------------------------------\n",
      "\n",
      "response_column : quality\n",
      "name : xgboost\n",
      "model_type : Classification\n",
      "column_sampling : (1, 0.6)\n",
      "min_impurity : (0.0, 0.1, 0.2)\n",
      "lambda1 : (0.01, 0.1, 1, 10)\n",
      "shrinkage_factor : (0.5, 0.1, 0.3)\n",
      "max_depth : (5, 6, 8, 10)\n",
      "min_node_size : (1, 2, 3)\n",
      "iter_num : (10, 20, 30)\n",
      "seed : 42\n",
      "Total number of models for xgboost : 2592\n",
      "--------------------------------------------------------------------------------------------------------------------------------------------------------------------------------------------------------\n",
      "\n",
      "response_column : quality\n",
      "name : knn\n",
      "model_type : Classification\n",
      "k : (2, 3, 5, 6, 8, 10, 12)\n",
      "id_column : id\n",
      "voting_weight : 1.0\n",
      "Total number of models for knn : 7\n",
      "--------------------------------------------------------------------------------------------------------------------------------------------------------------------------------------------------------\n",
      "\n",
      "                                                                                          \r"
     ]
    },
    {
     "data": {
      "text/html": [
       "\n",
       "Performing hyperparameter tuning ..."
      ],
      "text/plain": [
       "<IPython.core.display.HTML object>"
      ]
     },
     "metadata": {},
     "output_type": "display_data"
    },
    {
     "name": "stdout",
     "output_type": "stream",
     "text": [
      "                                                                                          \r"
     ]
    },
    {
     "data": {
      "text/html": [
       "decision_forest"
      ],
      "text/plain": [
       "<IPython.core.display.HTML object>"
      ]
     },
     "metadata": {},
     "output_type": "display_data"
    },
    {
     "name": "stdout",
     "output_type": "stream",
     "text": [
      "                                                                                                                                                                                                        \r"
     ]
    },
    {
     "data": {
      "text/html": [
       "----------------------------------------------------------------------------------------------------"
      ],
      "text/plain": [
       "<IPython.core.display.HTML object>"
      ]
     },
     "metadata": {},
     "output_type": "display_data"
    },
    {
     "name": "stdout",
     "output_type": "stream",
     "text": [
      "                                                                                          \r"
     ]
    },
    {
     "data": {
      "text/html": [
       "xgboost"
      ],
      "text/plain": [
       "<IPython.core.display.HTML object>"
      ]
     },
     "metadata": {},
     "output_type": "display_data"
    },
    {
     "name": "stdout",
     "output_type": "stream",
     "text": [
      "                                                                                                                                                                                                        \r"
     ]
    },
    {
     "data": {
      "text/html": [
       "----------------------------------------------------------------------------------------------------"
      ],
      "text/plain": [
       "<IPython.core.display.HTML object>"
      ]
     },
     "metadata": {},
     "output_type": "display_data"
    },
    {
     "name": "stdout",
     "output_type": "stream",
     "text": [
      "                                                                                          \r"
     ]
    },
    {
     "data": {
      "text/html": [
       "knn"
      ],
      "text/plain": [
       "<IPython.core.display.HTML object>"
      ]
     },
     "metadata": {},
     "output_type": "display_data"
    },
    {
     "name": "stdout",
     "output_type": "stream",
     "text": [
      "                                                                                                                                                                                                        \r"
     ]
    },
    {
     "data": {
      "text/html": [
       "----------------------------------------------------------------------------------------------------"
      ],
      "text/plain": [
       "<IPython.core.display.HTML object>"
      ]
     },
     "metadata": {},
     "output_type": "display_data"
    },
    {
     "name": "stdout",
     "output_type": "stream",
     "text": [
      "                                                                                          \r"
     ]
    },
    {
     "data": {
      "text/html": [
       "Leaderboard"
      ],
      "text/plain": [
       "<IPython.core.display.HTML object>"
      ]
     },
     "metadata": {},
     "output_type": "display_data"
    },
    {
     "data": {
      "text/html": [
       "<div>\n",
       "<style scoped>\n",
       "    .dataframe tbody tr th:only-of-type {\n",
       "        vertical-align: middle;\n",
       "    }\n",
       "\n",
       "    .dataframe tbody tr th {\n",
       "        vertical-align: top;\n",
       "    }\n",
       "\n",
       "    .dataframe thead th {\n",
       "        text-align: right;\n",
       "    }\n",
       "</style>\n",
       "<table border=\"1\" class=\"dataframe\">\n",
       "  <thead>\n",
       "    <tr style=\"text-align: right;\">\n",
       "      <th></th>\n",
       "      <th>RANK</th>\n",
       "      <th>MODEL_ID</th>\n",
       "      <th>FEATURE_SELECTION</th>\n",
       "      <th>ACCURACY</th>\n",
       "      <th>MICRO-PRECISION</th>\n",
       "      <th>MICRO-RECALL</th>\n",
       "      <th>MICRO-F1</th>\n",
       "      <th>MACRO-PRECISION</th>\n",
       "      <th>MACRO-RECALL</th>\n",
       "      <th>MACRO-F1</th>\n",
       "      <th>WEIGHTED-PRECISION</th>\n",
       "      <th>WEIGHTED-RECALL</th>\n",
       "      <th>WEIGHTED-F1</th>\n",
       "    </tr>\n",
       "  </thead>\n",
       "  <tbody>\n",
       "    <tr>\n",
       "      <th>0</th>\n",
       "      <td>1</td>\n",
       "      <td>DECISIONFOREST_3</td>\n",
       "      <td>lasso</td>\n",
       "      <td>0.725490</td>\n",
       "      <td>0.725490</td>\n",
       "      <td>0.725490</td>\n",
       "      <td>0.725490</td>\n",
       "      <td>0.723797</td>\n",
       "      <td>0.723017</td>\n",
       "      <td>0.723336</td>\n",
       "      <td>0.725151</td>\n",
       "      <td>0.725490</td>\n",
       "      <td>0.725251</td>\n",
       "    </tr>\n",
       "    <tr>\n",
       "      <th>1</th>\n",
       "      <td>2</td>\n",
       "      <td>XGBOOST_3</td>\n",
       "      <td>lasso</td>\n",
       "      <td>0.700980</td>\n",
       "      <td>0.700980</td>\n",
       "      <td>0.700980</td>\n",
       "      <td>0.700980</td>\n",
       "      <td>0.700637</td>\n",
       "      <td>0.694874</td>\n",
       "      <td>0.695649</td>\n",
       "      <td>0.700782</td>\n",
       "      <td>0.700980</td>\n",
       "      <td>0.698808</td>\n",
       "    </tr>\n",
       "    <tr>\n",
       "      <th>2</th>\n",
       "      <td>3</td>\n",
       "      <td>XGBOOST_0</td>\n",
       "      <td>lasso</td>\n",
       "      <td>0.700980</td>\n",
       "      <td>0.700980</td>\n",
       "      <td>0.700980</td>\n",
       "      <td>0.700980</td>\n",
       "      <td>0.700637</td>\n",
       "      <td>0.694874</td>\n",
       "      <td>0.695649</td>\n",
       "      <td>0.700782</td>\n",
       "      <td>0.700980</td>\n",
       "      <td>0.698808</td>\n",
       "    </tr>\n",
       "    <tr>\n",
       "      <th>3</th>\n",
       "      <td>4</td>\n",
       "      <td>KNN_9</td>\n",
       "      <td>lasso</td>\n",
       "      <td>0.696078</td>\n",
       "      <td>0.696078</td>\n",
       "      <td>0.696078</td>\n",
       "      <td>0.696078</td>\n",
       "      <td>0.694099</td>\n",
       "      <td>0.693424</td>\n",
       "      <td>0.693694</td>\n",
       "      <td>0.695683</td>\n",
       "      <td>0.696078</td>\n",
       "      <td>0.695813</td>\n",
       "    </tr>\n",
       "    <tr>\n",
       "      <th>4</th>\n",
       "      <td>5</td>\n",
       "      <td>XGBOOST_2</td>\n",
       "      <td>pca</td>\n",
       "      <td>0.681373</td>\n",
       "      <td>0.681373</td>\n",
       "      <td>0.681373</td>\n",
       "      <td>0.681373</td>\n",
       "      <td>0.680970</td>\n",
       "      <td>0.674371</td>\n",
       "      <td>0.674801</td>\n",
       "      <td>0.681123</td>\n",
       "      <td>0.681373</td>\n",
       "      <td>0.678427</td>\n",
       "    </tr>\n",
       "    <tr>\n",
       "      <th>5</th>\n",
       "      <td>6</td>\n",
       "      <td>KNN_4</td>\n",
       "      <td>rfe</td>\n",
       "      <td>0.666667</td>\n",
       "      <td>0.666667</td>\n",
       "      <td>0.666667</td>\n",
       "      <td>0.666667</td>\n",
       "      <td>0.666667</td>\n",
       "      <td>0.667698</td>\n",
       "      <td>0.666153</td>\n",
       "      <td>0.669742</td>\n",
       "      <td>0.666667</td>\n",
       "      <td>0.667180</td>\n",
       "    </tr>\n",
       "    <tr>\n",
       "      <th>6</th>\n",
       "      <td>7</td>\n",
       "      <td>XGBOOST_1</td>\n",
       "      <td>rfe</td>\n",
       "      <td>0.666667</td>\n",
       "      <td>0.666667</td>\n",
       "      <td>0.666667</td>\n",
       "      <td>0.666667</td>\n",
       "      <td>0.664881</td>\n",
       "      <td>0.660735</td>\n",
       "      <td>0.661163</td>\n",
       "      <td>0.665675</td>\n",
       "      <td>0.666667</td>\n",
       "      <td>0.664550</td>\n",
       "    </tr>\n",
       "    <tr>\n",
       "      <th>7</th>\n",
       "      <td>8</td>\n",
       "      <td>KNN_0</td>\n",
       "      <td>lasso</td>\n",
       "      <td>0.661765</td>\n",
       "      <td>0.661765</td>\n",
       "      <td>0.661765</td>\n",
       "      <td>0.661765</td>\n",
       "      <td>0.660750</td>\n",
       "      <td>0.661605</td>\n",
       "      <td>0.660778</td>\n",
       "      <td>0.663455</td>\n",
       "      <td>0.661765</td>\n",
       "      <td>0.662213</td>\n",
       "    </tr>\n",
       "    <tr>\n",
       "      <th>8</th>\n",
       "      <td>9</td>\n",
       "      <td>KNN_8</td>\n",
       "      <td>pca</td>\n",
       "      <td>0.661765</td>\n",
       "      <td>0.661765</td>\n",
       "      <td>0.661765</td>\n",
       "      <td>0.661765</td>\n",
       "      <td>0.659826</td>\n",
       "      <td>0.660058</td>\n",
       "      <td>0.659926</td>\n",
       "      <td>0.662042</td>\n",
       "      <td>0.661765</td>\n",
       "      <td>0.661887</td>\n",
       "    </tr>\n",
       "    <tr>\n",
       "      <th>9</th>\n",
       "      <td>10</td>\n",
       "      <td>DECISIONFOREST_2</td>\n",
       "      <td>pca</td>\n",
       "      <td>0.661765</td>\n",
       "      <td>0.661765</td>\n",
       "      <td>0.661765</td>\n",
       "      <td>0.661765</td>\n",
       "      <td>0.661877</td>\n",
       "      <td>0.653095</td>\n",
       "      <td>0.652676</td>\n",
       "      <td>0.661841</td>\n",
       "      <td>0.661765</td>\n",
       "      <td>0.657083</td>\n",
       "    </tr>\n",
       "    <tr>\n",
       "      <th>10</th>\n",
       "      <td>11</td>\n",
       "      <td>DECISIONFOREST_1</td>\n",
       "      <td>rfe</td>\n",
       "      <td>0.647059</td>\n",
       "      <td>0.647059</td>\n",
       "      <td>0.647059</td>\n",
       "      <td>0.647059</td>\n",
       "      <td>0.647401</td>\n",
       "      <td>0.637137</td>\n",
       "      <td>0.635714</td>\n",
       "      <td>0.647303</td>\n",
       "      <td>0.647059</td>\n",
       "      <td>0.640756</td>\n",
       "    </tr>\n",
       "    <tr>\n",
       "      <th>11</th>\n",
       "      <td>12</td>\n",
       "      <td>DECISIONFOREST_0</td>\n",
       "      <td>lasso</td>\n",
       "      <td>0.598039</td>\n",
       "      <td>0.598039</td>\n",
       "      <td>0.598039</td>\n",
       "      <td>0.598039</td>\n",
       "      <td>0.593962</td>\n",
       "      <td>0.590909</td>\n",
       "      <td>0.590321</td>\n",
       "      <td>0.595593</td>\n",
       "      <td>0.598039</td>\n",
       "      <td>0.594732</td>\n",
       "    </tr>\n",
       "  </tbody>\n",
       "</table>\n",
       "</div>"
      ],
      "text/plain": [
       "    RANK          MODEL_ID FEATURE_SELECTION  ACCURACY  MICRO-PRECISION  \\\n",
       "0      1  DECISIONFOREST_3             lasso  0.725490         0.725490   \n",
       "1      2         XGBOOST_3             lasso  0.700980         0.700980   \n",
       "2      3         XGBOOST_0             lasso  0.700980         0.700980   \n",
       "3      4             KNN_9             lasso  0.696078         0.696078   \n",
       "4      5         XGBOOST_2               pca  0.681373         0.681373   \n",
       "5      6             KNN_4               rfe  0.666667         0.666667   \n",
       "6      7         XGBOOST_1               rfe  0.666667         0.666667   \n",
       "7      8             KNN_0             lasso  0.661765         0.661765   \n",
       "8      9             KNN_8               pca  0.661765         0.661765   \n",
       "9     10  DECISIONFOREST_2               pca  0.661765         0.661765   \n",
       "10    11  DECISIONFOREST_1               rfe  0.647059         0.647059   \n",
       "11    12  DECISIONFOREST_0             lasso  0.598039         0.598039   \n",
       "\n",
       "    MICRO-RECALL  MICRO-F1  MACRO-PRECISION  MACRO-RECALL  MACRO-F1  \\\n",
       "0       0.725490  0.725490         0.723797      0.723017  0.723336   \n",
       "1       0.700980  0.700980         0.700637      0.694874  0.695649   \n",
       "2       0.700980  0.700980         0.700637      0.694874  0.695649   \n",
       "3       0.696078  0.696078         0.694099      0.693424  0.693694   \n",
       "4       0.681373  0.681373         0.680970      0.674371  0.674801   \n",
       "5       0.666667  0.666667         0.666667      0.667698  0.666153   \n",
       "6       0.666667  0.666667         0.664881      0.660735  0.661163   \n",
       "7       0.661765  0.661765         0.660750      0.661605  0.660778   \n",
       "8       0.661765  0.661765         0.659826      0.660058  0.659926   \n",
       "9       0.661765  0.661765         0.661877      0.653095  0.652676   \n",
       "10      0.647059  0.647059         0.647401      0.637137  0.635714   \n",
       "11      0.598039  0.598039         0.593962      0.590909  0.590321   \n",
       "\n",
       "    WEIGHTED-PRECISION  WEIGHTED-RECALL  WEIGHTED-F1  \n",
       "0             0.725151         0.725490     0.725251  \n",
       "1             0.700782         0.700980     0.698808  \n",
       "2             0.700782         0.700980     0.698808  \n",
       "3             0.695683         0.696078     0.695813  \n",
       "4             0.681123         0.681373     0.678427  \n",
       "5             0.669742         0.666667     0.667180  \n",
       "6             0.665675         0.666667     0.664550  \n",
       "7             0.663455         0.661765     0.662213  \n",
       "8             0.662042         0.661765     0.661887  \n",
       "9             0.661841         0.661765     0.657083  \n",
       "10            0.647303         0.647059     0.640756  \n",
       "11            0.595593         0.598039     0.594732  "
      ]
     },
     "metadata": {},
     "output_type": "display_data"
    },
    {
     "name": "stdout",
     "output_type": "stream",
     "text": [
      "                                                                                          \r"
     ]
    },
    {
     "data": {
      "text/html": [
       "12 rows X 13 columns"
      ],
      "text/plain": [
       "<IPython.core.display.HTML object>"
      ]
     },
     "metadata": {},
     "output_type": "display_data"
    },
    {
     "name": "stdout",
     "output_type": "stream",
     "text": [
      "                                                                                          \r"
     ]
    },
    {
     "data": {
      "text/html": [
       "\n",
       "            <style>\n",
       "                .custom-div {\n",
       "                    background-color: lightgray;\n",
       "                    color: #000000;\n",
       "                    padding: 10px;\n",
       "                    border-radius: 8px;\n",
       "                    box-shadow: 0 3px 4px rgba(0 -  0 -  0 -  0.2);\n",
       "                    margin-bottom: 10px;\n",
       "                    text-align: center;\n",
       "                }\n",
       "            </style>\n",
       "        <br><div class=\"custom-div\"><h3><span style=\"color: green;\">1. Feature Exploration -> 2. Feature Engineering -> 3. Data Preparation -> 4. Model Training & Evaluation</span><center></h3></center></div>"
      ],
      "text/plain": [
       "<IPython.core.display.HTML object>"
      ]
     },
     "metadata": {},
     "output_type": "display_data"
    },
    {
     "name": "stdout",
     "output_type": "stream",
     "text": [
      "Completed: ｜⫿⫿⫿⫿⫿⫿⫿⫿⫿⫿⫿⫿⫿⫿⫿⫿⫿⫿⫿⫿⫿⫿⫿⫿⫿⫿⫿⫿⫿⫿⫿⫿⫿⫿⫿⫿⫿⫿⫿⫿⫿⫿⫿⫿⫿⫿⫿⫿⫿⫿⫿⫿⫿⫿⫿⫿⫿⫿⫿⫿｜ 100% - 20/20    \r"
     ]
    }
   ],
   "source": [
    "# Fitting train data\n",
    "aml.fit(wine_df_train, wine_df_train.quality)"
   ]
  },
  {
   "cell_type": "markdown",
   "id": "23a04eb1-68e6-48b7-95aa-442f434809da",
   "metadata": {},
   "source": [
    "## <b><span style='color:#F1A424'>| 3.</span> Leaderboard : </b>"
   ]
  },
  {
   "cell_type": "code",
   "execution_count": 18,
   "id": "77de1099-6122-4f8a-8e7f-dd67e5b4ced4",
   "metadata": {},
   "outputs": [
    {
     "data": {
      "text/html": [
       "<div>\n",
       "<style scoped>\n",
       "    .dataframe tbody tr th:only-of-type {\n",
       "        vertical-align: middle;\n",
       "    }\n",
       "\n",
       "    .dataframe tbody tr th {\n",
       "        vertical-align: top;\n",
       "    }\n",
       "\n",
       "    .dataframe thead th {\n",
       "        text-align: right;\n",
       "    }\n",
       "</style>\n",
       "<table border=\"1\" class=\"dataframe\">\n",
       "  <thead>\n",
       "    <tr style=\"text-align: right;\">\n",
       "      <th></th>\n",
       "      <th>RANK</th>\n",
       "      <th>MODEL_ID</th>\n",
       "      <th>FEATURE_SELECTION</th>\n",
       "      <th>ACCURACY</th>\n",
       "      <th>MICRO-PRECISION</th>\n",
       "      <th>MICRO-RECALL</th>\n",
       "      <th>MICRO-F1</th>\n",
       "      <th>MACRO-PRECISION</th>\n",
       "      <th>MACRO-RECALL</th>\n",
       "      <th>MACRO-F1</th>\n",
       "      <th>WEIGHTED-PRECISION</th>\n",
       "      <th>WEIGHTED-RECALL</th>\n",
       "      <th>WEIGHTED-F1</th>\n",
       "    </tr>\n",
       "  </thead>\n",
       "  <tbody>\n",
       "    <tr>\n",
       "      <th>0</th>\n",
       "      <td>1</td>\n",
       "      <td>DECISIONFOREST_3</td>\n",
       "      <td>lasso</td>\n",
       "      <td>0.725490</td>\n",
       "      <td>0.725490</td>\n",
       "      <td>0.725490</td>\n",
       "      <td>0.725490</td>\n",
       "      <td>0.723797</td>\n",
       "      <td>0.723017</td>\n",
       "      <td>0.723336</td>\n",
       "      <td>0.725151</td>\n",
       "      <td>0.725490</td>\n",
       "      <td>0.725251</td>\n",
       "    </tr>\n",
       "    <tr>\n",
       "      <th>1</th>\n",
       "      <td>2</td>\n",
       "      <td>XGBOOST_3</td>\n",
       "      <td>lasso</td>\n",
       "      <td>0.700980</td>\n",
       "      <td>0.700980</td>\n",
       "      <td>0.700980</td>\n",
       "      <td>0.700980</td>\n",
       "      <td>0.700637</td>\n",
       "      <td>0.694874</td>\n",
       "      <td>0.695649</td>\n",
       "      <td>0.700782</td>\n",
       "      <td>0.700980</td>\n",
       "      <td>0.698808</td>\n",
       "    </tr>\n",
       "    <tr>\n",
       "      <th>2</th>\n",
       "      <td>3</td>\n",
       "      <td>XGBOOST_0</td>\n",
       "      <td>lasso</td>\n",
       "      <td>0.700980</td>\n",
       "      <td>0.700980</td>\n",
       "      <td>0.700980</td>\n",
       "      <td>0.700980</td>\n",
       "      <td>0.700637</td>\n",
       "      <td>0.694874</td>\n",
       "      <td>0.695649</td>\n",
       "      <td>0.700782</td>\n",
       "      <td>0.700980</td>\n",
       "      <td>0.698808</td>\n",
       "    </tr>\n",
       "    <tr>\n",
       "      <th>3</th>\n",
       "      <td>4</td>\n",
       "      <td>KNN_9</td>\n",
       "      <td>lasso</td>\n",
       "      <td>0.696078</td>\n",
       "      <td>0.696078</td>\n",
       "      <td>0.696078</td>\n",
       "      <td>0.696078</td>\n",
       "      <td>0.694099</td>\n",
       "      <td>0.693424</td>\n",
       "      <td>0.693694</td>\n",
       "      <td>0.695683</td>\n",
       "      <td>0.696078</td>\n",
       "      <td>0.695813</td>\n",
       "    </tr>\n",
       "    <tr>\n",
       "      <th>4</th>\n",
       "      <td>5</td>\n",
       "      <td>XGBOOST_2</td>\n",
       "      <td>pca</td>\n",
       "      <td>0.681373</td>\n",
       "      <td>0.681373</td>\n",
       "      <td>0.681373</td>\n",
       "      <td>0.681373</td>\n",
       "      <td>0.680970</td>\n",
       "      <td>0.674371</td>\n",
       "      <td>0.674801</td>\n",
       "      <td>0.681123</td>\n",
       "      <td>0.681373</td>\n",
       "      <td>0.678427</td>\n",
       "    </tr>\n",
       "    <tr>\n",
       "      <th>5</th>\n",
       "      <td>6</td>\n",
       "      <td>KNN_4</td>\n",
       "      <td>rfe</td>\n",
       "      <td>0.666667</td>\n",
       "      <td>0.666667</td>\n",
       "      <td>0.666667</td>\n",
       "      <td>0.666667</td>\n",
       "      <td>0.666667</td>\n",
       "      <td>0.667698</td>\n",
       "      <td>0.666153</td>\n",
       "      <td>0.669742</td>\n",
       "      <td>0.666667</td>\n",
       "      <td>0.667180</td>\n",
       "    </tr>\n",
       "    <tr>\n",
       "      <th>6</th>\n",
       "      <td>7</td>\n",
       "      <td>XGBOOST_1</td>\n",
       "      <td>rfe</td>\n",
       "      <td>0.666667</td>\n",
       "      <td>0.666667</td>\n",
       "      <td>0.666667</td>\n",
       "      <td>0.666667</td>\n",
       "      <td>0.664881</td>\n",
       "      <td>0.660735</td>\n",
       "      <td>0.661163</td>\n",
       "      <td>0.665675</td>\n",
       "      <td>0.666667</td>\n",
       "      <td>0.664550</td>\n",
       "    </tr>\n",
       "    <tr>\n",
       "      <th>7</th>\n",
       "      <td>8</td>\n",
       "      <td>KNN_0</td>\n",
       "      <td>lasso</td>\n",
       "      <td>0.661765</td>\n",
       "      <td>0.661765</td>\n",
       "      <td>0.661765</td>\n",
       "      <td>0.661765</td>\n",
       "      <td>0.660750</td>\n",
       "      <td>0.661605</td>\n",
       "      <td>0.660778</td>\n",
       "      <td>0.663455</td>\n",
       "      <td>0.661765</td>\n",
       "      <td>0.662213</td>\n",
       "    </tr>\n",
       "    <tr>\n",
       "      <th>8</th>\n",
       "      <td>9</td>\n",
       "      <td>KNN_8</td>\n",
       "      <td>pca</td>\n",
       "      <td>0.661765</td>\n",
       "      <td>0.661765</td>\n",
       "      <td>0.661765</td>\n",
       "      <td>0.661765</td>\n",
       "      <td>0.659826</td>\n",
       "      <td>0.660058</td>\n",
       "      <td>0.659926</td>\n",
       "      <td>0.662042</td>\n",
       "      <td>0.661765</td>\n",
       "      <td>0.661887</td>\n",
       "    </tr>\n",
       "    <tr>\n",
       "      <th>9</th>\n",
       "      <td>10</td>\n",
       "      <td>DECISIONFOREST_2</td>\n",
       "      <td>pca</td>\n",
       "      <td>0.661765</td>\n",
       "      <td>0.661765</td>\n",
       "      <td>0.661765</td>\n",
       "      <td>0.661765</td>\n",
       "      <td>0.661877</td>\n",
       "      <td>0.653095</td>\n",
       "      <td>0.652676</td>\n",
       "      <td>0.661841</td>\n",
       "      <td>0.661765</td>\n",
       "      <td>0.657083</td>\n",
       "    </tr>\n",
       "    <tr>\n",
       "      <th>10</th>\n",
       "      <td>11</td>\n",
       "      <td>DECISIONFOREST_1</td>\n",
       "      <td>rfe</td>\n",
       "      <td>0.647059</td>\n",
       "      <td>0.647059</td>\n",
       "      <td>0.647059</td>\n",
       "      <td>0.647059</td>\n",
       "      <td>0.647401</td>\n",
       "      <td>0.637137</td>\n",
       "      <td>0.635714</td>\n",
       "      <td>0.647303</td>\n",
       "      <td>0.647059</td>\n",
       "      <td>0.640756</td>\n",
       "    </tr>\n",
       "    <tr>\n",
       "      <th>11</th>\n",
       "      <td>12</td>\n",
       "      <td>DECISIONFOREST_0</td>\n",
       "      <td>lasso</td>\n",
       "      <td>0.598039</td>\n",
       "      <td>0.598039</td>\n",
       "      <td>0.598039</td>\n",
       "      <td>0.598039</td>\n",
       "      <td>0.593962</td>\n",
       "      <td>0.590909</td>\n",
       "      <td>0.590321</td>\n",
       "      <td>0.595593</td>\n",
       "      <td>0.598039</td>\n",
       "      <td>0.594732</td>\n",
       "    </tr>\n",
       "  </tbody>\n",
       "</table>\n",
       "</div>"
      ],
      "text/plain": [
       "    RANK          MODEL_ID FEATURE_SELECTION  ACCURACY  MICRO-PRECISION  \\\n",
       "0      1  DECISIONFOREST_3             lasso  0.725490         0.725490   \n",
       "1      2         XGBOOST_3             lasso  0.700980         0.700980   \n",
       "2      3         XGBOOST_0             lasso  0.700980         0.700980   \n",
       "3      4             KNN_9             lasso  0.696078         0.696078   \n",
       "4      5         XGBOOST_2               pca  0.681373         0.681373   \n",
       "5      6             KNN_4               rfe  0.666667         0.666667   \n",
       "6      7         XGBOOST_1               rfe  0.666667         0.666667   \n",
       "7      8             KNN_0             lasso  0.661765         0.661765   \n",
       "8      9             KNN_8               pca  0.661765         0.661765   \n",
       "9     10  DECISIONFOREST_2               pca  0.661765         0.661765   \n",
       "10    11  DECISIONFOREST_1               rfe  0.647059         0.647059   \n",
       "11    12  DECISIONFOREST_0             lasso  0.598039         0.598039   \n",
       "\n",
       "    MICRO-RECALL  MICRO-F1  MACRO-PRECISION  MACRO-RECALL  MACRO-F1  \\\n",
       "0       0.725490  0.725490         0.723797      0.723017  0.723336   \n",
       "1       0.700980  0.700980         0.700637      0.694874  0.695649   \n",
       "2       0.700980  0.700980         0.700637      0.694874  0.695649   \n",
       "3       0.696078  0.696078         0.694099      0.693424  0.693694   \n",
       "4       0.681373  0.681373         0.680970      0.674371  0.674801   \n",
       "5       0.666667  0.666667         0.666667      0.667698  0.666153   \n",
       "6       0.666667  0.666667         0.664881      0.660735  0.661163   \n",
       "7       0.661765  0.661765         0.660750      0.661605  0.660778   \n",
       "8       0.661765  0.661765         0.659826      0.660058  0.659926   \n",
       "9       0.661765  0.661765         0.661877      0.653095  0.652676   \n",
       "10      0.647059  0.647059         0.647401      0.637137  0.635714   \n",
       "11      0.598039  0.598039         0.593962      0.590909  0.590321   \n",
       "\n",
       "    WEIGHTED-PRECISION  WEIGHTED-RECALL  WEIGHTED-F1  \n",
       "0             0.725151         0.725490     0.725251  \n",
       "1             0.700782         0.700980     0.698808  \n",
       "2             0.700782         0.700980     0.698808  \n",
       "3             0.695683         0.696078     0.695813  \n",
       "4             0.681123         0.681373     0.678427  \n",
       "5             0.669742         0.666667     0.667180  \n",
       "6             0.665675         0.666667     0.664550  \n",
       "7             0.663455         0.661765     0.662213  \n",
       "8             0.662042         0.661765     0.661887  \n",
       "9             0.661841         0.661765     0.657083  \n",
       "10            0.647303         0.647059     0.640756  \n",
       "11            0.595593         0.598039     0.594732  "
      ]
     },
     "execution_count": 18,
     "metadata": {},
     "output_type": "execute_result"
    }
   ],
   "source": [
    "# Fetching Leaderboard\n",
    "aml.leaderboard()"
   ]
  },
  {
   "cell_type": "markdown",
   "id": "a7a3aa08-e349-4a61-9217-2c17d50411d8",
   "metadata": {},
   "source": [
    "## <b><span style='color:#F1A424'>| 4.</span> Best Performing Model : </b>"
   ]
  },
  {
   "cell_type": "code",
   "execution_count": 19,
   "id": "c4c32832-a76b-4f42-826a-cefc38a6301b",
   "metadata": {},
   "outputs": [
    {
     "data": {
      "text/html": [
       "<div>\n",
       "<style scoped>\n",
       "    .dataframe tbody tr th:only-of-type {\n",
       "        vertical-align: middle;\n",
       "    }\n",
       "\n",
       "    .dataframe tbody tr th {\n",
       "        vertical-align: top;\n",
       "    }\n",
       "\n",
       "    .dataframe thead th {\n",
       "        text-align: right;\n",
       "    }\n",
       "</style>\n",
       "<table border=\"1\" class=\"dataframe\">\n",
       "  <thead>\n",
       "    <tr style=\"text-align: right;\">\n",
       "      <th></th>\n",
       "      <th>RANK</th>\n",
       "      <th>MODEL_ID</th>\n",
       "      <th>FEATURE_SELECTION</th>\n",
       "      <th>ACCURACY</th>\n",
       "      <th>MICRO-PRECISION</th>\n",
       "      <th>MICRO-RECALL</th>\n",
       "      <th>MICRO-F1</th>\n",
       "      <th>MACRO-PRECISION</th>\n",
       "      <th>MACRO-RECALL</th>\n",
       "      <th>MACRO-F1</th>\n",
       "      <th>WEIGHTED-PRECISION</th>\n",
       "      <th>WEIGHTED-RECALL</th>\n",
       "      <th>WEIGHTED-F1</th>\n",
       "    </tr>\n",
       "  </thead>\n",
       "  <tbody>\n",
       "    <tr>\n",
       "      <th>0</th>\n",
       "      <td>1</td>\n",
       "      <td>DECISIONFOREST_3</td>\n",
       "      <td>lasso</td>\n",
       "      <td>0.72549</td>\n",
       "      <td>0.72549</td>\n",
       "      <td>0.72549</td>\n",
       "      <td>0.72549</td>\n",
       "      <td>0.723797</td>\n",
       "      <td>0.723017</td>\n",
       "      <td>0.723336</td>\n",
       "      <td>0.725151</td>\n",
       "      <td>0.72549</td>\n",
       "      <td>0.725251</td>\n",
       "    </tr>\n",
       "  </tbody>\n",
       "</table>\n",
       "</div>"
      ],
      "text/plain": [
       "   RANK          MODEL_ID FEATURE_SELECTION  ACCURACY  MICRO-PRECISION  \\\n",
       "0     1  DECISIONFOREST_3             lasso   0.72549          0.72549   \n",
       "\n",
       "   MICRO-RECALL  MICRO-F1  MACRO-PRECISION  MACRO-RECALL  MACRO-F1  \\\n",
       "0       0.72549   0.72549         0.723797      0.723017  0.723336   \n",
       "\n",
       "   WEIGHTED-PRECISION  WEIGHTED-RECALL  WEIGHTED-F1  \n",
       "0            0.725151          0.72549     0.725251  "
      ]
     },
     "metadata": {},
     "output_type": "display_data"
    }
   ],
   "source": [
    "# Fetching best performing model for dataset\n",
    "aml.leader()"
   ]
  },
  {
   "cell_type": "markdown",
   "id": "96f3d34b-efe5-4638-9fe5-cbc543f1efe0",
   "metadata": {},
   "source": [
    "## <b><span style='color:#F1A424'>| 5.</span> Get Hyperparameter for Trained Model : </b>"
   ]
  },
  {
   "cell_type": "code",
   "execution_count": 20,
   "id": "a5348edb-698b-4c98-8c5a-f745b20d2ea2",
   "metadata": {},
   "outputs": [
    {
     "data": {
      "text/plain": [
       "{'response_column': 'quality',\n",
       " 'name': 'xgboost',\n",
       " 'model_type': 'Classification',\n",
       " 'column_sampling': 1,\n",
       " 'min_impurity': 0.0,\n",
       " 'lambda1': 0.01,\n",
       " 'shrinkage_factor': 0.5,\n",
       " 'max_depth': 5,\n",
       " 'min_node_size': 1,\n",
       " 'iter_num': 20,\n",
       " 'seed': 42,\n",
       " 'persist': False,\n",
       " 'output_prob': True,\n",
       " 'output_responses': ['1', '0']}"
      ]
     },
     "execution_count": 20,
     "metadata": {},
     "output_type": "execute_result"
    }
   ],
   "source": [
    "aml.model_hyperparameters(rank=2)"
   ]
  },
  {
   "cell_type": "code",
   "execution_count": 21,
   "id": "e7c1e2a5-9d16-4e00-9aa0-9f4bd717699d",
   "metadata": {
    "tags": []
   },
   "outputs": [
    {
     "data": {
      "text/plain": [
       "{'response_column': 'quality',\n",
       " 'name': 'xgboost',\n",
       " 'model_type': 'Classification',\n",
       " 'column_sampling': 1,\n",
       " 'min_impurity': 0.0,\n",
       " 'lambda1': 0.01,\n",
       " 'shrinkage_factor': 0.5,\n",
       " 'max_depth': 5,\n",
       " 'min_node_size': 1,\n",
       " 'iter_num': 10,\n",
       " 'seed': 42,\n",
       " 'persist': False,\n",
       " 'output_prob': True,\n",
       " 'output_responses': ['1', '0']}"
      ]
     },
     "execution_count": 21,
     "metadata": {},
     "output_type": "execute_result"
    }
   ],
   "source": [
    "aml.model_hyperparameters(rank=5)"
   ]
  },
  {
   "cell_type": "markdown",
   "id": "33182bcb-b471-4c6d-94aa-748356805133",
   "metadata": {},
   "source": [
    "## <b><span style='color:#F1A424'>| 6.</span> Generate Prediction and Performance Metrics : </b>"
   ]
  },
  {
   "cell_type": "code",
   "execution_count": 22,
   "id": "5b6edfe3-bd5a-46bd-ad80-b20fadfed7a0",
   "metadata": {},
   "outputs": [
    {
     "name": "stdout",
     "output_type": "stream",
     "text": [
      "Data Transformation started ...\n",
      "                                                                                                \r"
     ]
    },
    {
     "data": {
      "text/html": [
       "Performing transformation carried out in feature engineering phase ..."
      ],
      "text/plain": [
       "<IPython.core.display.HTML object>"
      ]
     },
     "metadata": {},
     "output_type": "display_data"
    },
    {
     "name": "stdout",
     "output_type": "stream",
     "text": [
      "                                                                                                 \r"
     ]
    },
    {
     "data": {
      "text/html": [
       "\n",
       "Updated dataset after performing target column transformation :"
      ],
      "text/plain": [
       "<IPython.core.display.HTML object>"
      ]
     },
     "metadata": {},
     "output_type": "display_data"
    },
    {
     "data": {
      "text/html": [
       "<style type=\"text/css\">\n",
       "\ttable {border:ridge 5px;}\n",
       "\ttable td {border:inset 1px;}\n",
       "\ttable tr#HeaderRow {background-color:grey; color:white;}</style>\n",
       "<html><table>\n",
       "\t<tr id=\"HeaderRow\">\n",
       "\t\t<th>total_sulfur_dioxide</th>\n",
       "\t\t<th>alcohol</th>\n",
       "\t\t<th>fixed_acidity</th>\n",
       "\t\t<th>volatile_acidity</th>\n",
       "\t\t<th>pH</th>\n",
       "\t\t<th>free_sulfur_dioxide</th>\n",
       "\t\t<th>chlorides</th>\n",
       "\t\t<th>id</th>\n",
       "\t\t<th>residual_sugar</th>\n",
       "\t\t<th>sulphates</th>\n",
       "\t\t<th>citric_acid</th>\n",
       "\t\t<th>density</th>\n",
       "\t\t<th>quality</th>\n",
       "\t</tr>\n",
       "\t<tr>\n",
       "\t\t<td>124.0</td>\n",
       "\t\t<td>10.5</td>\n",
       "\t\t<td>7.0</td>\n",
       "\t\t<td>0.58</td>\n",
       "\t\t<td>3.44</td>\n",
       "\t\t<td>34.0</td>\n",
       "\t\t<td>0.091</td>\n",
       "\t\t<td>215</td>\n",
       "\t\t<td>1.9</td>\n",
       "\t\t<td>0.48</td>\n",
       "\t\t<td>0.12</td>\n",
       "\t\t<td>0.9956</td>\n",
       "\t\t<td>0</td>\n",
       "\t</tr>\n",
       "\t<tr>\n",
       "\t\t<td>9.0</td>\n",
       "\t\t<td>9.4</td>\n",
       "\t\t<td>7.7</td>\n",
       "\t\t<td>0.66</td>\n",
       "\t\t<td>3.4</td>\n",
       "\t\t<td>4.0</td>\n",
       "\t\t<td>0.039</td>\n",
       "\t\t<td>203</td>\n",
       "\t\t<td>1.6</td>\n",
       "\t\t<td>0.47</td>\n",
       "\t\t<td>0.04</td>\n",
       "\t\t<td>0.9962</td>\n",
       "\t\t<td>0</td>\n",
       "\t</tr>\n",
       "\t<tr>\n",
       "\t\t<td>9.0</td>\n",
       "\t\t<td>11.5</td>\n",
       "\t\t<td>6.1</td>\n",
       "\t\t<td>0.56</td>\n",
       "\t\t<td>3.59</td>\n",
       "\t\t<td>6.0</td>\n",
       "\t\t<td>0.079</td>\n",
       "\t\t<td>109</td>\n",
       "\t\t<td>2.2</td>\n",
       "\t\t<td>0.54</td>\n",
       "\t\t<td>0.0</td>\n",
       "\t\t<td>0.9948</td>\n",
       "\t\t<td>1</td>\n",
       "\t</tr>\n",
       "\t<tr>\n",
       "\t\t<td>106.0</td>\n",
       "\t\t<td>9.1</td>\n",
       "\t\t<td>9.1</td>\n",
       "\t\t<td>0.47</td>\n",
       "\t\t<td>3.08</td>\n",
       "\t\t<td>38.0</td>\n",
       "\t\t<td>0.094</td>\n",
       "\t\t<td>294</td>\n",
       "\t\t<td>2.6</td>\n",
       "\t\t<td>0.59</td>\n",
       "\t\t<td>0.49</td>\n",
       "\t\t<td>0.9982</td>\n",
       "\t\t<td>0</td>\n",
       "\t</tr>\n",
       "\t<tr>\n",
       "\t\t<td>134.0</td>\n",
       "\t\t<td>9.4</td>\n",
       "\t\t<td>8.0</td>\n",
       "\t\t<td>0.745</td>\n",
       "\t\t<td>3.24</td>\n",
       "\t\t<td>30.0</td>\n",
       "\t\t<td>0.118</td>\n",
       "\t\t<td>178</td>\n",
       "\t\t<td>2.0</td>\n",
       "\t\t<td>0.66</td>\n",
       "\t\t<td>0.56</td>\n",
       "\t\t<td>0.9968</td>\n",
       "\t\t<td>0</td>\n",
       "\t</tr>\n",
       "\t<tr>\n",
       "\t\t<td>121.0</td>\n",
       "\t\t<td>9.4</td>\n",
       "\t\t<td>7.4</td>\n",
       "\t\t<td>0.6</td>\n",
       "\t\t<td>3.37</td>\n",
       "\t\t<td>36.0</td>\n",
       "\t\t<td>0.07</td>\n",
       "\t\t<td>35</td>\n",
       "\t\t<td>7.3</td>\n",
       "\t\t<td>0.49</td>\n",
       "\t\t<td>0.26</td>\n",
       "\t\t<td>0.9982</td>\n",
       "\t\t<td>0</td>\n",
       "\t</tr>\n",
       "\t<tr>\n",
       "\t\t<td>65.0</td>\n",
       "\t\t<td>9.2</td>\n",
       "\t\t<td>8.1</td>\n",
       "\t\t<td>0.575</td>\n",
       "\t\t<td>3.29</td>\n",
       "\t\t<td>12.0</td>\n",
       "\t\t<td>0.077</td>\n",
       "\t\t<td>404</td>\n",
       "\t\t<td>2.1</td>\n",
       "\t\t<td>0.51</td>\n",
       "\t\t<td>0.22</td>\n",
       "\t\t<td>0.9967</td>\n",
       "\t\t<td>0</td>\n",
       "\t</tr>\n",
       "\t<tr>\n",
       "\t\t<td>65.0</td>\n",
       "\t\t<td>10.4</td>\n",
       "\t\t<td>10.1</td>\n",
       "\t\t<td>0.65</td>\n",
       "\t\t<td>3.32</td>\n",
       "\t\t<td>11.0</td>\n",
       "\t\t<td>0.11</td>\n",
       "\t\t<td>340</td>\n",
       "\t\t<td>5.1</td>\n",
       "\t\t<td>0.64</td>\n",
       "\t\t<td>0.37</td>\n",
       "\t\t<td>1.0026</td>\n",
       "\t\t<td>1</td>\n",
       "\t</tr>\n",
       "\t<tr>\n",
       "\t\t<td>75.0</td>\n",
       "\t\t<td>9.4</td>\n",
       "\t\t<td>10.3</td>\n",
       "\t\t<td>0.34</td>\n",
       "\t\t<td>3.18</td>\n",
       "\t\t<td>15.0</td>\n",
       "\t\t<td>0.159</td>\n",
       "\t\t<td>83</td>\n",
       "\t\t<td>2.8</td>\n",
       "\t\t<td>0.64</td>\n",
       "\t\t<td>0.52</td>\n",
       "\t\t<td>0.9998</td>\n",
       "\t\t<td>0</td>\n",
       "\t</tr>\n",
       "\t<tr>\n",
       "\t\t<td>44.0</td>\n",
       "\t\t<td>11.0</td>\n",
       "\t\t<td>8.4</td>\n",
       "\t\t<td>0.56</td>\n",
       "\t\t<td>3.13</td>\n",
       "\t\t<td>16.0</td>\n",
       "\t\t<td>0.105</td>\n",
       "\t\t<td>20</td>\n",
       "\t\t<td>2.1</td>\n",
       "\t\t<td>0.52</td>\n",
       "\t\t<td>0.08</td>\n",
       "\t\t<td>0.9958</td>\n",
       "\t\t<td>0</td>\n",
       "\t</tr>\n",
       "</table></html>"
      ],
      "text/plain": [
       "   total_sulfur_dioxide  alcohol  fixed_acidity  volatile_acidity    pH  free_sulfur_dioxide  chlorides   id  residual_sugar  sulphates  citric_acid  density  quality\n",
       "0                 124.0     10.5            7.0             0.580  3.44                 34.0      0.091  215             1.9       0.48         0.12   0.9956        0\n",
       "1                   9.0      9.4            7.7             0.660  3.40                  4.0      0.039  203             1.6       0.47         0.04   0.9962        0\n",
       "2                   9.0     11.5            6.1             0.560  3.59                  6.0      0.079  109             2.2       0.54         0.00   0.9948        1\n",
       "3                 106.0      9.1            9.1             0.470  3.08                 38.0      0.094  294             2.6       0.59         0.49   0.9982        0\n",
       "4                 134.0      9.4            8.0             0.745  3.24                 30.0      0.118  178             2.0       0.66         0.56   0.9968        0\n",
       "5                 121.0      9.4            7.4             0.600  3.37                 36.0      0.070   35             7.3       0.49         0.26   0.9982        0\n",
       "6                  65.0      9.2            8.1             0.575  3.29                 12.0      0.077  404             2.1       0.51         0.22   0.9967        0\n",
       "7                  65.0     10.4           10.1             0.650  3.32                 11.0      0.110  340             5.1       0.64         0.37   1.0026        1\n",
       "8                  75.0      9.4           10.3             0.340  3.18                 15.0      0.159   83             2.8       0.64         0.52   0.9998        0\n",
       "9                  44.0     11.0            8.4             0.560  3.13                 16.0      0.105   20             2.1       0.52         0.08   0.9958        0"
      ]
     },
     "metadata": {},
     "output_type": "display_data"
    },
    {
     "name": "stdout",
     "output_type": "stream",
     "text": [
      "                                                                                                 \r"
     ]
    },
    {
     "data": {
      "text/html": [
       "320 rows X 13 columns"
      ],
      "text/plain": [
       "<IPython.core.display.HTML object>"
      ]
     },
     "metadata": {},
     "output_type": "display_data"
    },
    {
     "name": "stdout",
     "output_type": "stream",
     "text": [
      "                                                                                                  \r"
     ]
    },
    {
     "data": {
      "text/html": [
       "Performing transformation carried out in data preparation phase ..."
      ],
      "text/plain": [
       "<IPython.core.display.HTML object>"
      ]
     },
     "metadata": {},
     "output_type": "display_data"
    },
    {
     "name": "stdout",
     "output_type": "stream",
     "text": [
      "                                                                                                  \r"
     ]
    },
    {
     "data": {
      "text/html": [
       "\n",
       "Updated dataset after performing Lasso feature selection:"
      ],
      "text/plain": [
       "<IPython.core.display.HTML object>"
      ]
     },
     "metadata": {},
     "output_type": "display_data"
    },
    {
     "data": {
      "text/html": [
       "<style type=\"text/css\">\n",
       "\ttable {border:ridge 5px;}\n",
       "\ttable td {border:inset 1px;}\n",
       "\ttable tr#HeaderRow {background-color:grey; color:white;}</style>\n",
       "<html><table>\n",
       "\t<tr id=\"HeaderRow\">\n",
       "\t\t<th>id</th>\n",
       "\t\t<th>total_sulfur_dioxide</th>\n",
       "\t\t<th>alcohol</th>\n",
       "\t\t<th>fixed_acidity</th>\n",
       "\t\t<th>volatile_acidity</th>\n",
       "\t\t<th>pH</th>\n",
       "\t\t<th>free_sulfur_dioxide</th>\n",
       "\t\t<th>chlorides</th>\n",
       "\t\t<th>residual_sugar</th>\n",
       "\t\t<th>sulphates</th>\n",
       "\t\t<th>citric_acid</th>\n",
       "\t\t<th>density</th>\n",
       "\t\t<th>quality</th>\n",
       "\t</tr>\n",
       "\t<tr>\n",
       "\t\t<td>141</td>\n",
       "\t\t<td>7.0</td>\n",
       "\t\t<td>11.4</td>\n",
       "\t\t<td>6.9</td>\n",
       "\t\t<td>0.39</td>\n",
       "\t\t<td>3.44</td>\n",
       "\t\t<td>4.0</td>\n",
       "\t\t<td>0.102</td>\n",
       "\t\t<td>2.1</td>\n",
       "\t\t<td>0.58</td>\n",
       "\t\t<td>0.24</td>\n",
       "\t\t<td>0.9946</td>\n",
       "\t\t<td>0</td>\n",
       "\t</tr>\n",
       "\t<tr>\n",
       "\t\t<td>343</td>\n",
       "\t\t<td>106.0</td>\n",
       "\t\t<td>12.9</td>\n",
       "\t\t<td>4.7</td>\n",
       "\t\t<td>0.6</td>\n",
       "\t\t<td>3.85</td>\n",
       "\t\t<td>17.0</td>\n",
       "\t\t<td>0.058</td>\n",
       "\t\t<td>2.3</td>\n",
       "\t\t<td>0.6</td>\n",
       "\t\t<td>0.17</td>\n",
       "\t\t<td>0.9932</td>\n",
       "\t\t<td>1</td>\n",
       "\t</tr>\n",
       "\t<tr>\n",
       "\t\t<td>36</td>\n",
       "\t\t<td>19.0</td>\n",
       "\t\t<td>11.2</td>\n",
       "\t\t<td>8.4</td>\n",
       "\t\t<td>0.37</td>\n",
       "\t\t<td>3.17</td>\n",
       "\t\t<td>12.0</td>\n",
       "\t\t<td>0.063</td>\n",
       "\t\t<td>2.3</td>\n",
       "\t\t<td>0.81</td>\n",
       "\t\t<td>0.43</td>\n",
       "\t\t<td>0.9955</td>\n",
       "\t\t<td>1</td>\n",
       "\t</tr>\n",
       "\t<tr>\n",
       "\t\t<td>116</td>\n",
       "\t\t<td>27.0</td>\n",
       "\t\t<td>9.6</td>\n",
       "\t\t<td>7.2</td>\n",
       "\t\t<td>0.57</td>\n",
       "\t\t<td>3.36</td>\n",
       "\t\t<td>9.0</td>\n",
       "\t\t<td>0.076</td>\n",
       "\t\t<td>1.6</td>\n",
       "\t\t<td>0.7</td>\n",
       "\t\t<td>0.06</td>\n",
       "\t\t<td>0.9972</td>\n",
       "\t\t<td>1</td>\n",
       "\t</tr>\n",
       "\t<tr>\n",
       "\t\t<td>154</td>\n",
       "\t\t<td>37.0</td>\n",
       "\t\t<td>9.5</td>\n",
       "\t\t<td>7.9</td>\n",
       "\t\t<td>0.43</td>\n",
       "\t\t<td>3.17</td>\n",
       "\t\t<td>10.0</td>\n",
       "\t\t<td>0.106</td>\n",
       "\t\t<td>1.6</td>\n",
       "\t\t<td>0.91</td>\n",
       "\t\t<td>0.21</td>\n",
       "\t\t<td>0.9966</td>\n",
       "\t\t<td>0</td>\n",
       "\t</tr>\n",
       "\t<tr>\n",
       "\t\t<td>295</td>\n",
       "\t\t<td>72.0</td>\n",
       "\t\t<td>9.5</td>\n",
       "\t\t<td>7.0</td>\n",
       "\t\t<td>0.45</td>\n",
       "\t\t<td>3.55</td>\n",
       "\t\t<td>16.0</td>\n",
       "\t\t<td>0.082</td>\n",
       "\t\t<td>2.7</td>\n",
       "\t\t<td>0.6</td>\n",
       "\t\t<td>0.34</td>\n",
       "\t\t<td>0.998</td>\n",
       "\t\t<td>0</td>\n",
       "\t</tr>\n",
       "\t<tr>\n",
       "\t\t<td>238</td>\n",
       "\t\t<td>39.0</td>\n",
       "\t\t<td>10.9</td>\n",
       "\t\t<td>9.5</td>\n",
       "\t\t<td>0.39</td>\n",
       "\t\t<td>3.29</td>\n",
       "\t\t<td>18.0</td>\n",
       "\t\t<td>0.069</td>\n",
       "\t\t<td>8.9</td>\n",
       "\t\t<td>0.81</td>\n",
       "\t\t<td>0.41</td>\n",
       "\t\t<td>0.9986</td>\n",
       "\t\t<td>1</td>\n",
       "\t</tr>\n",
       "\t<tr>\n",
       "\t\t<td>181</td>\n",
       "\t\t<td>22.0</td>\n",
       "\t\t<td>11.2</td>\n",
       "\t\t<td>11.1</td>\n",
       "\t\t<td>0.45</td>\n",
       "\t\t<td>3.17</td>\n",
       "\t\t<td>6.0</td>\n",
       "\t\t<td>0.066</td>\n",
       "\t\t<td>3.2</td>\n",
       "\t\t<td>0.66</td>\n",
       "\t\t<td>0.73</td>\n",
       "\t\t<td>0.9986</td>\n",
       "\t\t<td>1</td>\n",
       "\t</tr>\n",
       "\t<tr>\n",
       "\t\t<td>244</td>\n",
       "\t\t<td>31.0</td>\n",
       "\t\t<td>12.4</td>\n",
       "\t\t<td>7.1</td>\n",
       "\t\t<td>0.16</td>\n",
       "\t\t<td>3.35</td>\n",
       "\t\t<td>17.0</td>\n",
       "\t\t<td>0.068</td>\n",
       "\t\t<td>2.5</td>\n",
       "\t\t<td>0.54</td>\n",
       "\t\t<td>0.44</td>\n",
       "\t\t<td>0.9933</td>\n",
       "\t\t<td>1</td>\n",
       "\t</tr>\n",
       "\t<tr>\n",
       "\t\t<td>61</td>\n",
       "\t\t<td>49.0</td>\n",
       "\t\t<td>9.6</td>\n",
       "\t\t<td>12.5</td>\n",
       "\t\t<td>0.46</td>\n",
       "\t\t<td>3.05</td>\n",
       "\t\t<td>26.0</td>\n",
       "\t\t<td>0.07</td>\n",
       "\t\t<td>4.5</td>\n",
       "\t\t<td>0.57</td>\n",
       "\t\t<td>0.49</td>\n",
       "\t\t<td>0.9981</td>\n",
       "\t\t<td>0</td>\n",
       "\t</tr>\n",
       "</table></html>"
      ],
      "text/plain": [
       "     total_sulfur_dioxide  alcohol  fixed_acidity  volatile_acidity    pH  free_sulfur_dioxide  chlorides  residual_sugar  sulphates  citric_acid  density  quality\n",
       "id                                                                                                                                                                 \n",
       "141                   7.0     11.4            6.9              0.39  3.44                  4.0      0.102             2.1       0.58         0.24   0.9946        0\n",
       "343                 106.0     12.9            4.7              0.60  3.85                 17.0      0.058             2.3       0.60         0.17   0.9932        1\n",
       "36                   19.0     11.2            8.4              0.37  3.17                 12.0      0.063             2.3       0.81         0.43   0.9955        1\n",
       "116                  27.0      9.6            7.2              0.57  3.36                  9.0      0.076             1.6       0.70         0.06   0.9972        1\n",
       "154                  37.0      9.5            7.9              0.43  3.17                 10.0      0.106             1.6       0.91         0.21   0.9966        0\n",
       "295                  72.0      9.5            7.0              0.45  3.55                 16.0      0.082             2.7       0.60         0.34   0.9980        0\n",
       "238                  39.0     10.9            9.5              0.39  3.29                 18.0      0.069             8.9       0.81         0.41   0.9986        1\n",
       "181                  22.0     11.2           11.1              0.45  3.17                  6.0      0.066             3.2       0.66         0.73   0.9986        1\n",
       "244                  31.0     12.4            7.1              0.16  3.35                 17.0      0.068             2.5       0.54         0.44   0.9933        1\n",
       "61                   49.0      9.6           12.5              0.46  3.05                 26.0      0.070             4.5       0.57         0.49   0.9981        0"
      ]
     },
     "metadata": {},
     "output_type": "display_data"
    },
    {
     "name": "stdout",
     "output_type": "stream",
     "text": [
      "                                                                                                  \r"
     ]
    },
    {
     "data": {
      "text/html": [
       "320 rows X 13 columns"
      ],
      "text/plain": [
       "<IPython.core.display.HTML object>"
      ]
     },
     "metadata": {},
     "output_type": "display_data"
    },
    {
     "name": "stdout",
     "output_type": "stream",
     "text": [
      "                                                                                                  \r"
     ]
    },
    {
     "data": {
      "text/html": [
       "\n",
       "Updated dataset after performing scaling on Lasso selected features :"
      ],
      "text/plain": [
       "<IPython.core.display.HTML object>"
      ]
     },
     "metadata": {},
     "output_type": "display_data"
    },
    {
     "data": {
      "text/html": [
       "<style type=\"text/css\">\n",
       "\ttable {border:ridge 5px;}\n",
       "\ttable td {border:inset 1px;}\n",
       "\ttable tr#HeaderRow {background-color:grey; color:white;}</style>\n",
       "<html><table>\n",
       "\t<tr id=\"HeaderRow\">\n",
       "\t\t<th>id</th>\n",
       "\t\t<th>quality</th>\n",
       "\t\t<th>total_sulfur_dioxide</th>\n",
       "\t\t<th>alcohol</th>\n",
       "\t\t<th>fixed_acidity</th>\n",
       "\t\t<th>volatile_acidity</th>\n",
       "\t\t<th>pH</th>\n",
       "\t\t<th>free_sulfur_dioxide</th>\n",
       "\t\t<th>chlorides</th>\n",
       "\t\t<th>residual_sugar</th>\n",
       "\t\t<th>sulphates</th>\n",
       "\t\t<th>citric_acid</th>\n",
       "\t\t<th>density</th>\n",
       "\t</tr>\n",
       "\t<tr>\n",
       "\t\t<td>101</td>\n",
       "\t\t<td>1</td>\n",
       "\t\t<td>-0.44055755996833296</td>\n",
       "\t\t<td>0.26269871325905414</td>\n",
       "\t\t<td>2.075935765301965</td>\n",
       "\t\t<td>0.23419785435830934</td>\n",
       "\t\t<td>-1.2782829420393085</td>\n",
       "\t\t<td>-0.9757854820899197</td>\n",
       "\t\t<td>-0.13167319814470868</td>\n",
       "\t\t<td>0.48407750170770525</td>\n",
       "\t\t<td>0.7097995311626177</td>\n",
       "\t\t<td>1.190468336277305</td>\n",
       "\t\t<td>2.1639756152242984</td>\n",
       "\t</tr>\n",
       "\t<tr>\n",
       "\t\t<td>162</td>\n",
       "\t\t<td>1</td>\n",
       "\t\t<td>0.5193243393538922</td>\n",
       "\t\t<td>-0.4013723834552606</td>\n",
       "\t\t<td>-0.19532375073841396</td>\n",
       "\t\t<td>1.0833362736691263</td>\n",
       "\t\t<td>0.2522901105938758</td>\n",
       "\t\t<td>-0.5681466383970027</td>\n",
       "\t\t<td>-0.1089478746070426</td>\n",
       "\t\t<td>0.8316115870442236</td>\n",
       "\t\t<td>-0.5978025933993256</td>\n",
       "\t\t<td>-0.15602461711008478</td>\n",
       "\t\t<td>0.09285470533984787</td>\n",
       "\t</tr>\n",
       "\t<tr>\n",
       "\t\t<td>223</td>\n",
       "\t\t<td>0</td>\n",
       "\t\t<td>0.6793046559075965</td>\n",
       "\t\t<td>-0.9705761806389591</td>\n",
       "\t\t<td>-0.7776979856205625</td>\n",
       "\t\t<td>2.452914369331734</td>\n",
       "\t\t<td>0.2522901105938758</td>\n",
       "\t\t<td>-0.36432721655054434</td>\n",
       "\t\t<td>-0.018046580456378632</td>\n",
       "\t\t<td>-0.5585247543018511</td>\n",
       "\t\t<td>-0.3600567525698818</td>\n",
       "\t\t<td>-1.1917884274080768</td>\n",
       "\t\t<td>-0.5788601843524082</td>\n",
       "\t</tr>\n",
       "\t<tr>\n",
       "\t\t<td>122</td>\n",
       "\t\t<td>0</td>\n",
       "\t\t<td>3.0470133409024185</td>\n",
       "\t\t<td>-0.49623968298587673</td>\n",
       "\t\t<td>-0.2535611742266286</td>\n",
       "\t\t<td>0.891595340276361</td>\n",
       "\t\t<td>-0.4131764340292484</td>\n",
       "\t\t<td>1.775776712837269</td>\n",
       "\t\t<td>-0.17712384522004082</td>\n",
       "\t\t<td>-0.38475771163359157</td>\n",
       "\t\t<td>-0.8949848944361313</td>\n",
       "\t\t<td>-0.3113891886547836</td>\n",
       "\t\t<td>-0.298978980313994</td>\n",
       "\t</tr>\n",
       "\t<tr>\n",
       "\t\t<td>326</td>\n",
       "\t\t<td>0</td>\n",
       "\t\t<td>0.8072889091505598</td>\n",
       "\t\t<td>4.247125293544948</td>\n",
       "\t\t<td>4.4054327048305595</td>\n",
       "\t\t<td>-0.916247745998281</td>\n",
       "\t\t<td>-2.2099361045116823</td>\n",
       "\t\t<td>0.6547698926817478</td>\n",
       "\t\t<td>0.186481331382616</td>\n",
       "\t\t<td>8.998662592452414</td>\n",
       "\t\t<td>1.0664182924067838</td>\n",
       "\t\t<td>1.967291194000799</td>\n",
       "\t\t<td>0.48468839099368977</td>\n",
       "\t</tr>\n",
       "\t<tr>\n",
       "\t\t<td>99</td>\n",
       "\t\t<td>1</td>\n",
       "\t\t<td>-1.208463079426113</td>\n",
       "\t\t<td>1.3062390080958368</td>\n",
       "\t\t<td>1.144136989490528</td>\n",
       "\t\t<td>-1.4092958604368195</td>\n",
       "\t\t<td>-1.0120963241900587</td>\n",
       "\t\t<td>-1.2815146148596073</td>\n",
       "\t\t<td>-0.9270595219630204</td>\n",
       "\t\t<td>-1.6011270103114075</td>\n",
       "\t\t<td>-0.8949848944361313</td>\n",
       "\t\t<td>1.501197479366703</td>\n",
       "\t\t<td>-1.1386225924292985</td>\n",
       "\t</tr>\n",
       "\t<tr>\n",
       "\t\t<td>61</td>\n",
       "\t\t<td>0</td>\n",
       "\t\t<td>0.10337551631426131</td>\n",
       "\t\t<td>-0.7808415815777269</td>\n",
       "\t\t<td>2.425360306231254</td>\n",
       "\t\t<td>-0.3684165077332377</td>\n",
       "\t\t<td>-1.7441095232754968</td>\n",
       "\t\t<td>1.0624087363746646</td>\n",
       "\t\t<td>-0.4043770805967012</td>\n",
       "\t\t<td>3.785651312404633</td>\n",
       "\t\t<td>-0.5383661331919651</td>\n",
       "\t\t<td>1.1386801457624052</td>\n",
       "\t\t<td>0.7645695950321039</td>\n",
       "\t</tr>\n",
       "\t<tr>\n",
       "\t\t<td>244</td>\n",
       "\t\t<td>1</td>\n",
       "\t\t<td>-0.4725536232790738</td>\n",
       "\t\t<td>1.8754428052795356</td>\n",
       "\t\t<td>-0.7194605621323478</td>\n",
       "\t\t<td>-2.011910222528367</td>\n",
       "\t\t<td>0.2522901105938758</td>\n",
       "\t\t<td>0.1452213380656017</td>\n",
       "\t\t<td>-0.44982772767203333</td>\n",
       "\t\t<td>0.3103104590394457</td>\n",
       "\t\t<td>-0.7166755138140478</td>\n",
       "\t\t<td>0.8797391931879073</td>\n",
       "\t\t<td>-1.9222899637369821</td>\n",
       "\t</tr>\n",
       "\t<tr>\n",
       "\t\t<td>40</td>\n",
       "\t\t<td>0</td>\n",
       "\t\t<td>0.03938338969277964</td>\n",
       "\t\t<td>-0.875708881108343</td>\n",
       "\t\t<td>-0.31179859771484375</td>\n",
       "\t\t<td>0.17941473053180557</td>\n",
       "\t\t<td>-0.8124563608031229</td>\n",
       "\t\t<td>-0.36432721655054434</td>\n",
       "\t\t<td>0.36828391968394425</td>\n",
       "\t\t<td>-0.9060588396383698</td>\n",
       "\t\t<td>1.601346434273034</td>\n",
       "\t\t<td>-0.41496556968458276</td>\n",
       "\t\t<td>-0.18702649869862836</td>\n",
       "\t</tr>\n",
       "\t<tr>\n",
       "\t\t<td>120</td>\n",
       "\t\t<td>0</td>\n",
       "\t\t<td>-0.8565063830079639</td>\n",
       "\t\t<td>-0.5911069825164929</td>\n",
       "\t\t<td>-0.31179859771484375</td>\n",
       "\t\t<td>0.0150653590522925</td>\n",
       "\t\t<td>-1.0120963241900587</td>\n",
       "\t\t<td>-1.2815146148596073</td>\n",
       "\t\t<td>-0.24529981583303903</td>\n",
       "\t\t<td>-1.2535929249748883</td>\n",
       "\t\t<td>-1.1921671954729365</td>\n",
       "\t\t<td>-1.3471529989527755</td>\n",
       "\t\t<td>-0.97069387000625</td>\n",
       "\t</tr>\n",
       "</table></html>"
      ],
      "text/plain": [
       "    id  quality  total_sulfur_dioxide   alcohol  fixed_acidity  volatile_acidity        pH  free_sulfur_dioxide  chlorides  residual_sugar  sulphates  citric_acid   density\n",
       "0  101        1             -0.440558  0.262699       2.075936          0.234198 -1.278283            -0.975785  -0.131673        0.484078   0.709800     1.190468  2.163976\n",
       "1  162        1              0.519324 -0.401372      -0.195324          1.083336  0.252290            -0.568147  -0.108948        0.831612  -0.597803    -0.156025  0.092855\n",
       "2  223        0              0.679305 -0.970576      -0.777698          2.452914  0.252290            -0.364327  -0.018047       -0.558525  -0.360057    -1.191788 -0.578860\n",
       "3  122        0              3.047013 -0.496240      -0.253561          0.891595 -0.413176             1.775777  -0.177124       -0.384758  -0.894985    -0.311389 -0.298979\n",
       "4  326        0              0.807289  4.247125       4.405433         -0.916248 -2.209936             0.654770   0.186481        8.998663   1.066418     1.967291  0.484688\n",
       "5   99        1             -1.208463  1.306239       1.144137         -1.409296 -1.012096            -1.281515  -0.927060       -1.601127  -0.894985     1.501197 -1.138623\n",
       "6   61        0              0.103376 -0.780842       2.425360         -0.368417 -1.744110             1.062409  -0.404377        3.785651  -0.538366     1.138680  0.764570\n",
       "7  244        1             -0.472554  1.875443      -0.719461         -2.011910  0.252290             0.145221  -0.449828        0.310310  -0.716676     0.879739 -1.922290\n",
       "8   40        0              0.039383 -0.875709      -0.311799          0.179415 -0.812456            -0.364327   0.368284       -0.906059   1.601346    -0.414966 -0.187026\n",
       "9  120        0             -0.856506 -0.591107      -0.311799          0.015065 -1.012096            -1.281515  -0.245300       -1.253593  -1.192167    -1.347153 -0.970694"
      ]
     },
     "metadata": {},
     "output_type": "display_data"
    },
    {
     "name": "stdout",
     "output_type": "stream",
     "text": [
      "                                                                                                  \r"
     ]
    },
    {
     "data": {
      "text/html": [
       "320 rows X 13 columns"
      ],
      "text/plain": [
       "<IPython.core.display.HTML object>"
      ]
     },
     "metadata": {},
     "output_type": "display_data"
    },
    {
     "name": "stdout",
     "output_type": "stream",
     "text": [
      "                                                                                                  \r"
     ]
    },
    {
     "data": {
      "text/html": [
       "\n",
       "Updated dataset after performing RFE feature selection:"
      ],
      "text/plain": [
       "<IPython.core.display.HTML object>"
      ]
     },
     "metadata": {},
     "output_type": "display_data"
    },
    {
     "data": {
      "text/html": [
       "<style type=\"text/css\">\n",
       "\ttable {border:ridge 5px;}\n",
       "\ttable td {border:inset 1px;}\n",
       "\ttable tr#HeaderRow {background-color:grey; color:white;}</style>\n",
       "<html><table>\n",
       "\t<tr id=\"HeaderRow\">\n",
       "\t\t<th>id</th>\n",
       "\t\t<th>total_sulfur_dioxide</th>\n",
       "\t\t<th>alcohol</th>\n",
       "\t\t<th>volatile_acidity</th>\n",
       "\t\t<th>pH</th>\n",
       "\t\t<th>chlorides</th>\n",
       "\t\t<th>sulphates</th>\n",
       "\t\t<th>citric_acid</th>\n",
       "\t\t<th>density</th>\n",
       "\t\t<th>quality</th>\n",
       "\t</tr>\n",
       "\t<tr>\n",
       "\t\t<td>38</td>\n",
       "\t\t<td>50.0</td>\n",
       "\t\t<td>10.9</td>\n",
       "\t\t<td>0.39</td>\n",
       "\t\t<td>3.2</td>\n",
       "\t\t<td>0.044</td>\n",
       "\t\t<td>0.83</td>\n",
       "\t\t<td>0.4</td>\n",
       "\t\t<td>0.9948</td>\n",
       "\t\t<td>1</td>\n",
       "\t</tr>\n",
       "\t<tr>\n",
       "\t\t<td>198</td>\n",
       "\t\t<td>36.0</td>\n",
       "\t\t<td>9.8</td>\n",
       "\t\t<td>0.54</td>\n",
       "\t\t<td>3.61</td>\n",
       "\t\t<td>0.076</td>\n",
       "\t\t<td>0.64</td>\n",
       "\t\t<td>0.13</td>\n",
       "\t\t<td>0.9973</td>\n",
       "\t\t<td>0</td>\n",
       "\t</tr>\n",
       "\t<tr>\n",
       "\t\t<td>259</td>\n",
       "\t\t<td>45.0</td>\n",
       "\t\t<td>10.7</td>\n",
       "\t\t<td>0.78</td>\n",
       "\t\t<td>3.31</td>\n",
       "\t\t<td>0.076</td>\n",
       "\t\t<td>0.62</td>\n",
       "\t\t<td>0.0</td>\n",
       "\t\t<td>0.9961</td>\n",
       "\t\t<td>1</td>\n",
       "\t</tr>\n",
       "\t<tr>\n",
       "\t\t<td>55</td>\n",
       "\t\t<td>35.0</td>\n",
       "\t\t<td>9.5</td>\n",
       "\t\t<td>0.38</td>\n",
       "\t\t<td>3.33</td>\n",
       "\t\t<td>0.08</td>\n",
       "\t\t<td>0.47</td>\n",
       "\t\t<td>0.21</td>\n",
       "\t\t<td>0.9961</td>\n",
       "\t\t<td>0</td>\n",
       "\t</tr>\n",
       "\t<tr>\n",
       "\t\t<td>339</td>\n",
       "\t\t<td>10.0</td>\n",
       "\t\t<td>9.1</td>\n",
       "\t\t<td>0.84</td>\n",
       "\t\t<td>3.12</td>\n",
       "\t\t<td>0.05</td>\n",
       "\t\t<td>0.48</td>\n",
       "\t\t<td>0.34</td>\n",
       "\t\t<td>0.9955</td>\n",
       "\t\t<td>1</td>\n",
       "\t</tr>\n",
       "\t<tr>\n",
       "\t\t<td>135</td>\n",
       "\t\t<td>70.0</td>\n",
       "\t\t<td>10.1</td>\n",
       "\t\t<td>0.32</td>\n",
       "\t\t<td>3.43</td>\n",
       "\t\t<td>0.066</td>\n",
       "\t\t<td>0.62</td>\n",
       "\t\t<td>0.23</td>\n",
       "\t\t<td>0.9959</td>\n",
       "\t\t<td>0</td>\n",
       "\t</tr>\n",
       "\t<tr>\n",
       "\t\t<td>177</td>\n",
       "\t\t<td>26.0</td>\n",
       "\t\t<td>12.5</td>\n",
       "\t\t<td>0.52</td>\n",
       "\t\t<td>3.4</td>\n",
       "\t\t<td>0.07</td>\n",
       "\t\t<td>0.72</td>\n",
       "\t\t<td>0.08</td>\n",
       "\t\t<td>0.9936</td>\n",
       "\t\t<td>1</td>\n",
       "\t</tr>\n",
       "\t<tr>\n",
       "\t\t<td>118</td>\n",
       "\t\t<td>52.0</td>\n",
       "\t\t<td>9.5</td>\n",
       "\t\t<td>0.715</td>\n",
       "\t\t<td>3.23</td>\n",
       "\t\t<td>0.089</td>\n",
       "\t\t<td>0.77</td>\n",
       "\t\t<td>0.15</td>\n",
       "\t\t<td>0.9968</td>\n",
       "\t\t<td>0</td>\n",
       "\t</tr>\n",
       "\t<tr>\n",
       "\t\t<td>242</td>\n",
       "\t\t<td>25.0</td>\n",
       "\t\t<td>9.9</td>\n",
       "\t\t<td>0.6</td>\n",
       "\t\t<td>3.03</td>\n",
       "\t\t<td>0.063</td>\n",
       "\t\t<td>0.57</td>\n",
       "\t\t<td>0.65</td>\n",
       "\t\t<td>0.9997</td>\n",
       "\t\t<td>0</td>\n",
       "\t</tr>\n",
       "\t<tr>\n",
       "\t\t<td>80</td>\n",
       "\t\t<td>45.0</td>\n",
       "\t\t<td>12.7</td>\n",
       "\t\t<td>0.57</td>\n",
       "\t\t<td>3.46</td>\n",
       "\t\t<td>0.065</td>\n",
       "\t\t<td>0.74</td>\n",
       "\t\t<td>0.09</td>\n",
       "\t\t<td>0.9942</td>\n",
       "\t\t<td>1</td>\n",
       "\t</tr>\n",
       "</table></html>"
      ],
      "text/plain": [
       "     total_sulfur_dioxide  alcohol  volatile_acidity    pH  chlorides  sulphates  citric_acid  density  quality\n",
       "id                                                                                                             \n",
       "38                   50.0     10.9             0.390  3.20      0.044       0.83         0.40   0.9948        1\n",
       "198                  36.0      9.8             0.540  3.61      0.076       0.64         0.13   0.9973        0\n",
       "259                  45.0     10.7             0.780  3.31      0.076       0.62         0.00   0.9961        1\n",
       "55                   35.0      9.5             0.380  3.33      0.080       0.47         0.21   0.9961        0\n",
       "339                  10.0      9.1             0.840  3.12      0.050       0.48         0.34   0.9955        1\n",
       "135                  70.0     10.1             0.320  3.43      0.066       0.62         0.23   0.9959        0\n",
       "177                  26.0     12.5             0.520  3.40      0.070       0.72         0.08   0.9936        1\n",
       "118                  52.0      9.5             0.715  3.23      0.089       0.77         0.15   0.9968        0\n",
       "242                  25.0      9.9             0.600  3.03      0.063       0.57         0.65   0.9997        0\n",
       "80                   45.0     12.7             0.570  3.46      0.065       0.74         0.09   0.9942        1"
      ]
     },
     "metadata": {},
     "output_type": "display_data"
    },
    {
     "name": "stdout",
     "output_type": "stream",
     "text": [
      "                                                                                                  \r"
     ]
    },
    {
     "data": {
      "text/html": [
       "320 rows X 10 columns"
      ],
      "text/plain": [
       "<IPython.core.display.HTML object>"
      ]
     },
     "metadata": {},
     "output_type": "display_data"
    },
    {
     "name": "stdout",
     "output_type": "stream",
     "text": [
      "                                                                                                  \r"
     ]
    },
    {
     "data": {
      "text/html": [
       "\n",
       "Updated dataset after performing scaling on RFE selected features :"
      ],
      "text/plain": [
       "<IPython.core.display.HTML object>"
      ]
     },
     "metadata": {},
     "output_type": "display_data"
    },
    {
     "data": {
      "text/html": [
       "<style type=\"text/css\">\n",
       "\ttable {border:ridge 5px;}\n",
       "\ttable td {border:inset 1px;}\n",
       "\ttable tr#HeaderRow {background-color:grey; color:white;}</style>\n",
       "<html><table>\n",
       "\t<tr id=\"HeaderRow\">\n",
       "\t\t<th>id</th>\n",
       "\t\t<th>quality</th>\n",
       "\t\t<th>r_total_sulfur_dioxide</th>\n",
       "\t\t<th>r_alcohol</th>\n",
       "\t\t<th>r_volatile_acidity</th>\n",
       "\t\t<th>r_pH</th>\n",
       "\t\t<th>r_chlorides</th>\n",
       "\t\t<th>r_sulphates</th>\n",
       "\t\t<th>r_citric_acid</th>\n",
       "\t\t<th>r_density</th>\n",
       "\t</tr>\n",
       "\t<tr>\n",
       "\t\t<td>122</td>\n",
       "\t\t<td>0</td>\n",
       "\t\t<td>3.0470133409024185</td>\n",
       "\t\t<td>-0.49623968298587673</td>\n",
       "\t\t<td>0.891595340276361</td>\n",
       "\t\t<td>-0.4131764340292484</td>\n",
       "\t\t<td>-0.17712384522004082</td>\n",
       "\t\t<td>-0.8949848944361313</td>\n",
       "\t\t<td>-0.3113891886547836</td>\n",
       "\t\t<td>-0.298978980313994</td>\n",
       "\t</tr>\n",
       "\t<tr>\n",
       "\t\t<td>101</td>\n",
       "\t\t<td>1</td>\n",
       "\t\t<td>-0.44055755996833296</td>\n",
       "\t\t<td>0.26269871325905414</td>\n",
       "\t\t<td>0.23419785435830934</td>\n",
       "\t\t<td>-1.2782829420393085</td>\n",
       "\t\t<td>-0.13167319814470868</td>\n",
       "\t\t<td>0.7097995311626177</td>\n",
       "\t\t<td>1.190468336277305</td>\n",
       "\t\t<td>2.1639756152242984</td>\n",
       "\t</tr>\n",
       "\t<tr>\n",
       "\t\t<td>284</td>\n",
       "\t\t<td>0</td>\n",
       "\t\t<td>-1.0164866995616681</td>\n",
       "\t\t<td>0.45243331232028816</td>\n",
       "\t\t<td>-0.3136333839067337</td>\n",
       "\t\t<td>0.5850233829054364</td>\n",
       "\t\t<td>-0.4725530512096994</td>\n",
       "\t\t<td>-0.47892967298460404</td>\n",
       "\t\t<td>-1.398941189467675</td>\n",
       "\t\t<td>-0.8587413883908843</td>\n",
       "\t</tr>\n",
       "\t<tr>\n",
       "\t\t<td>326</td>\n",
       "\t\t<td>0</td>\n",
       "\t\t<td>0.8072889091505598</td>\n",
       "\t\t<td>4.247125293544948</td>\n",
       "\t\t<td>-0.916247745998281</td>\n",
       "\t\t<td>-2.2099361045116823</td>\n",
       "\t\t<td>0.186481331382616</td>\n",
       "\t\t<td>1.0664182924067838</td>\n",
       "\t\t<td>1.967291194000799</td>\n",
       "\t\t<td>0.48468839099368977</td>\n",
       "\t</tr>\n",
       "\t<tr>\n",
       "\t\t<td>183</td>\n",
       "\t\t<td>0</td>\n",
       "\t\t<td>0.167367642935743</td>\n",
       "\t\t<td>-0.9705761806389591</td>\n",
       "\t\t<td>0.782029092623353</td>\n",
       "\t\t<td>-1.0120963241900587</td>\n",
       "\t\t<td>7.117705010370761</td>\n",
       "\t\t<td>2.8495120986276157</td>\n",
       "\t\t<td>-0.05244823608028548</td>\n",
       "\t\t<td>0.09285470533984787</td>\n",
       "\t</tr>\n",
       "\t<tr>\n",
       "\t\t<td>364</td>\n",
       "\t\t<td>1</td>\n",
       "\t\t<td>-0.056604800239442886</td>\n",
       "\t\t<td>1.4959736071570693</td>\n",
       "\t\t<td>-1.0258139936512893</td>\n",
       "\t\t<td>-0.6793630518784981</td>\n",
       "\t\t<td>-0.4725530512096994</td>\n",
       "\t\t<td>-0.5978025933993256</td>\n",
       "\t\t<td>-0.000660045565385835</td>\n",
       "\t\t<td>-1.642408759698506</td>\n",
       "\t</tr>\n",
       "\t<tr>\n",
       "\t\t<td>40</td>\n",
       "\t\t<td>0</td>\n",
       "\t\t<td>0.03938338969277964</td>\n",
       "\t\t<td>-0.875708881108343</td>\n",
       "\t\t<td>0.17941473053180557</td>\n",
       "\t\t<td>-0.8124563608031229</td>\n",
       "\t\t<td>0.36828391968394425</td>\n",
       "\t\t<td>1.601346434273034</td>\n",
       "\t\t<td>-0.41496556968458276</td>\n",
       "\t\t<td>-0.18702649869862836</td>\n",
       "\t</tr>\n",
       "\t<tr>\n",
       "\t\t<td>120</td>\n",
       "\t\t<td>0</td>\n",
       "\t\t<td>-0.8565063830079639</td>\n",
       "\t\t<td>-0.5911069825164929</td>\n",
       "\t\t<td>0.0150653590522925</td>\n",
       "\t\t<td>-1.0120963241900587</td>\n",
       "\t\t<td>-0.24529981583303903</td>\n",
       "\t\t<td>-1.1921671954729365</td>\n",
       "\t\t<td>-1.3471529989527755</td>\n",
       "\t\t<td>-0.97069387000625</td>\n",
       "\t</tr>\n",
       "\t<tr>\n",
       "\t\t<td>162</td>\n",
       "\t\t<td>1</td>\n",
       "\t\t<td>0.5193243393538922</td>\n",
       "\t\t<td>-0.4013723834552606</td>\n",
       "\t\t<td>1.0833362736691263</td>\n",
       "\t\t<td>0.2522901105938758</td>\n",
       "\t\t<td>-0.1089478746070426</td>\n",
       "\t\t<td>-0.5978025933993256</td>\n",
       "\t\t<td>-0.15602461711008478</td>\n",
       "\t\t<td>0.09285470533984787</td>\n",
       "\t</tr>\n",
       "\t<tr>\n",
       "\t\t<td>223</td>\n",
       "\t\t<td>0</td>\n",
       "\t\t<td>0.6793046559075965</td>\n",
       "\t\t<td>-0.9705761806389591</td>\n",
       "\t\t<td>2.452914369331734</td>\n",
       "\t\t<td>0.2522901105938758</td>\n",
       "\t\t<td>-0.018046580456378632</td>\n",
       "\t\t<td>-0.3600567525698818</td>\n",
       "\t\t<td>-1.1917884274080768</td>\n",
       "\t\t<td>-0.5788601843524082</td>\n",
       "\t</tr>\n",
       "</table></html>"
      ],
      "text/plain": [
       "    id  quality  r_total_sulfur_dioxide  r_alcohol  r_volatile_acidity      r_pH  r_chlorides  r_sulphates  r_citric_acid  r_density\n",
       "0  122        0                3.047013  -0.496240            0.891595 -0.413176    -0.177124    -0.894985      -0.311389  -0.298979\n",
       "1  101        1               -0.440558   0.262699            0.234198 -1.278283    -0.131673     0.709800       1.190468   2.163976\n",
       "2  284        0               -1.016487   0.452433           -0.313633  0.585023    -0.472553    -0.478930      -1.398941  -0.858741\n",
       "3  326        0                0.807289   4.247125           -0.916248 -2.209936     0.186481     1.066418       1.967291   0.484688\n",
       "4  183        0                0.167368  -0.970576            0.782029 -1.012096     7.117705     2.849512      -0.052448   0.092855\n",
       "5  364        1               -0.056605   1.495974           -1.025814 -0.679363    -0.472553    -0.597803      -0.000660  -1.642409\n",
       "6   40        0                0.039383  -0.875709            0.179415 -0.812456     0.368284     1.601346      -0.414966  -0.187026\n",
       "7  120        0               -0.856506  -0.591107            0.015065 -1.012096    -0.245300    -1.192167      -1.347153  -0.970694\n",
       "8  162        1                0.519324  -0.401372            1.083336  0.252290    -0.108948    -0.597803      -0.156025   0.092855\n",
       "9  223        0                0.679305  -0.970576            2.452914  0.252290    -0.018047    -0.360057      -1.191788  -0.578860"
      ]
     },
     "metadata": {},
     "output_type": "display_data"
    },
    {
     "name": "stdout",
     "output_type": "stream",
     "text": [
      "                                                                                                  \r"
     ]
    },
    {
     "data": {
      "text/html": [
       "320 rows X 10 columns"
      ],
      "text/plain": [
       "<IPython.core.display.HTML object>"
      ]
     },
     "metadata": {},
     "output_type": "display_data"
    },
    {
     "name": "stdout",
     "output_type": "stream",
     "text": [
      "                                                                                                  \r"
     ]
    },
    {
     "data": {
      "text/html": [
       "\n",
       "Updated dataset after performing scaling for PCA feature selection :"
      ],
      "text/plain": [
       "<IPython.core.display.HTML object>"
      ]
     },
     "metadata": {},
     "output_type": "display_data"
    },
    {
     "data": {
      "text/html": [
       "<style type=\"text/css\">\n",
       "\ttable {border:ridge 5px;}\n",
       "\ttable td {border:inset 1px;}\n",
       "\ttable tr#HeaderRow {background-color:grey; color:white;}</style>\n",
       "<html><table>\n",
       "\t<tr id=\"HeaderRow\">\n",
       "\t\t<th>id</th>\n",
       "\t\t<th>quality</th>\n",
       "\t\t<th>total_sulfur_dioxide</th>\n",
       "\t\t<th>alcohol</th>\n",
       "\t\t<th>fixed_acidity</th>\n",
       "\t\t<th>volatile_acidity</th>\n",
       "\t\t<th>pH</th>\n",
       "\t\t<th>free_sulfur_dioxide</th>\n",
       "\t\t<th>chlorides</th>\n",
       "\t\t<th>residual_sugar</th>\n",
       "\t\t<th>sulphates</th>\n",
       "\t\t<th>citric_acid</th>\n",
       "\t\t<th>density</th>\n",
       "\t</tr>\n",
       "\t<tr>\n",
       "\t\t<td>101</td>\n",
       "\t\t<td>1</td>\n",
       "\t\t<td>-0.44055755996833307</td>\n",
       "\t\t<td>0.26269874673447813</td>\n",
       "\t\t<td>2.0759357653019705</td>\n",
       "\t\t<td>0.2341978543583052</td>\n",
       "\t\t<td>-1.278282942039304</td>\n",
       "\t\t<td>-0.9757854820899179</td>\n",
       "\t\t<td>-0.13167319814471218</td>\n",
       "\t\t<td>0.48407750170770675</td>\n",
       "\t\t<td>0.709799531162612</td>\n",
       "\t\t<td>1.190468336277305</td>\n",
       "\t\t<td>2.164140060100072</td>\n",
       "\t</tr>\n",
       "\t<tr>\n",
       "\t\t<td>80</td>\n",
       "\t\t<td>1</td>\n",
       "\t\t<td>-0.02460873692870205</td>\n",
       "\t\t<td>2.160044979143864</td>\n",
       "\t\t<td>-0.3117985977148446</td>\n",
       "\t\t<td>0.2341978543583052</td>\n",
       "\t\t<td>0.9843033096793129</td>\n",
       "\t\t<td>1.8776864237604949</td>\n",
       "\t\t<td>-0.5180036982850352</td>\n",
       "\t\t<td>-0.03722362629707342</td>\n",
       "\t\t<td>0.47205369033316785</td>\n",
       "\t\t<td>-0.9328474748335788</td>\n",
       "\t\t<td>-1.4193022528669808</td>\n",
       "\t</tr>\n",
       "\t<tr>\n",
       "\t\t<td>242</td>\n",
       "\t\t<td>0</td>\n",
       "\t\t<td>-0.664530003143519</td>\n",
       "\t\t<td>-0.49623974622927514</td>\n",
       "\t\t<td>2.54183515320769</td>\n",
       "\t\t<td>0.3985472258378184</td>\n",
       "\t\t<td>-1.8772028322001166</td>\n",
       "\t\t<td>-0.9757854820899179</td>\n",
       "\t\t<td>-0.5634543453603673</td>\n",
       "\t\t<td>-0.03722362629707342</td>\n",
       "\t\t<td>-0.5383661331919689</td>\n",
       "\t\t<td>1.967291194000799</td>\n",
       "\t\t<td>1.6602184848391326</td>\n",
       "\t</tr>\n",
       "\t<tr>\n",
       "\t\t<td>326</td>\n",
       "\t\t<td>0</td>\n",
       "\t\t<td>0.80728890915056</td>\n",
       "\t\t<td>4.247125834794189</td>\n",
       "\t\t<td>4.405432704830571</td>\n",
       "\t\t<td>-0.9162477459982858</td>\n",
       "\t\t<td>-2.209936104511677</td>\n",
       "\t\t<td>0.6547698926817466</td>\n",
       "\t\t<td>0.18648133138261258</td>\n",
       "\t\t<td>8.998662592452442</td>\n",
       "\t\t<td>1.0664182924067773</td>\n",
       "\t\t<td>1.967291194000799</td>\n",
       "\t\t<td>0.48440147589681654</td>\n",
       "\t</tr>\n",
       "\t<tr>\n",
       "\t\t<td>40</td>\n",
       "\t\t<td>0</td>\n",
       "\t\t<td>0.039383389692779644</td>\n",
       "\t\t<td>-0.8757089927111525</td>\n",
       "\t\t<td>-0.3117985977148446</td>\n",
       "\t\t<td>0.17941473053180143</td>\n",
       "\t\t<td>-0.8124563608031191</td>\n",
       "\t\t<td>-0.3643272165505437</td>\n",
       "\t\t<td>0.3682839196839409</td>\n",
       "\t\t<td>-0.9060588396383725</td>\n",
       "\t\t<td>1.6013464342730266</td>\n",
       "\t\t<td>-0.41496556968458276</td>\n",
       "\t\t<td>-0.1874939577845603</td>\n",
       "\t</tr>\n",
       "\t<tr>\n",
       "\t\t<td>120</td>\n",
       "\t\t<td>0</td>\n",
       "\t\t<td>-0.8565063830079641</td>\n",
       "\t\t<td>-0.591107057849744</td>\n",
       "\t\t<td>-0.3117985977148446</td>\n",
       "\t\t<td>0.015065359052288252</td>\n",
       "\t\t<td>-1.0120963241900547</td>\n",
       "\t\t<td>-1.2815146148596048</td>\n",
       "\t\t<td>-0.24529981583304256</td>\n",
       "\t\t<td>-1.2535929249748923</td>\n",
       "\t\t<td>-1.1921671954729391</td>\n",
       "\t\t<td>-1.3471529989527755</td>\n",
       "\t\t<td>-0.9713719637460837</td>\n",
       "\t</tr>\n",
       "\t<tr>\n",
       "\t\t<td>61</td>\n",
       "\t\t<td>0</td>\n",
       "\t\t<td>0.10337551631426134</td>\n",
       "\t\t<td>-0.7808416810906836</td>\n",
       "\t\t<td>2.4253603062312608</td>\n",
       "\t\t<td>-0.3684165077332422</td>\n",
       "\t\t<td>-1.744109523275492</td>\n",
       "\t\t<td>1.0624087363746626</td>\n",
       "\t\t<td>-0.4043770805967048</td>\n",
       "\t\t<td>3.7856513124046445</td>\n",
       "\t\t<td>-0.5383661331919689</td>\n",
       "\t\t<td>1.1386801457624052</td>\n",
       "\t\t<td>0.7643579065973384</td>\n",
       "\t</tr>\n",
       "\t<tr>\n",
       "\t\t<td>244</td>\n",
       "\t\t<td>1</td>\n",
       "\t\t<td>-0.4725536232790739</td>\n",
       "\t\t<td>1.875443044282457</td>\n",
       "\t\t<td>-0.7194605621323497</td>\n",
       "\t\t<td>-2.0119102225283725</td>\n",
       "\t\t<td>0.2522901105938785</td>\n",
       "\t\t<td>0.14522133806560145</td>\n",
       "\t\t<td>-0.44982772767203694</td>\n",
       "\t\t<td>0.3103104590394467</td>\n",
       "\t\t<td>-0.7166755138140513</td>\n",
       "\t\t<td>0.8797391931879073</td>\n",
       "\t\t<td>-1.9232238281279823</td>\n",
       "\t</tr>\n",
       "\t<tr>\n",
       "\t\t<td>162</td>\n",
       "\t\t<td>1</td>\n",
       "\t\t<td>0.5193243393538923</td>\n",
       "\t\t<td>-0.4013724346088062</td>\n",
       "\t\t<td>-0.19532375073841446</td>\n",
       "\t\t<td>1.0833362736691228</td>\n",
       "\t\t<td>0.2522901105938785</td>\n",
       "\t\t<td>-0.5681466383970017</td>\n",
       "\t\t<td>-0.10894787460704611</td>\n",
       "\t\t<td>0.8316115870442261</td>\n",
       "\t\t<td>-0.5978025933993293</td>\n",
       "\t\t<td>-0.15602461711008478</td>\n",
       "\t\t<td>0.09246247291602373</td>\n",
       "\t</tr>\n",
       "\t<tr>\n",
       "\t\t<td>223</td>\n",
       "\t\t<td>0</td>\n",
       "\t\t<td>0.6793046559075966</td>\n",
       "\t\t<td>-0.9705763043316216</td>\n",
       "\t\t<td>-0.7776979856205645</td>\n",
       "\t\t<td>2.4529143693317312</td>\n",
       "\t\t<td>0.2522901105938785</td>\n",
       "\t\t<td>-0.3643272165505437</td>\n",
       "\t\t<td>-0.01804658045638211</td>\n",
       "\t\t<td>-0.5585247543018528</td>\n",
       "\t\t<td>-0.36005675256988584</td>\n",
       "\t\t<td>-1.1917884274080768</td>\n",
       "\t\t<td>-0.5794329607652909</td>\n",
       "\t</tr>\n",
       "</table></html>"
      ],
      "text/plain": [
       "    id  quality  total_sulfur_dioxide   alcohol  fixed_acidity  volatile_acidity        pH  free_sulfur_dioxide  chlorides  residual_sugar  sulphates  citric_acid   density\n",
       "0  101        1             -0.440558  0.262699       2.075936          0.234198 -1.278283            -0.975785  -0.131673        0.484078   0.709800     1.190468  2.164140\n",
       "1   80        1             -0.024609  2.160045      -0.311799          0.234198  0.984303             1.877686  -0.518004       -0.037224   0.472054    -0.932847 -1.419302\n",
       "2  242        0             -0.664530 -0.496240       2.541835          0.398547 -1.877203            -0.975785  -0.563454       -0.037224  -0.538366     1.967291  1.660218\n",
       "3  326        0              0.807289  4.247126       4.405433         -0.916248 -2.209936             0.654770   0.186481        8.998663   1.066418     1.967291  0.484401\n",
       "4   40        0              0.039383 -0.875709      -0.311799          0.179415 -0.812456            -0.364327   0.368284       -0.906059   1.601346    -0.414966 -0.187494\n",
       "5  120        0             -0.856506 -0.591107      -0.311799          0.015065 -1.012096            -1.281515  -0.245300       -1.253593  -1.192167    -1.347153 -0.971372\n",
       "6   61        0              0.103376 -0.780842       2.425360         -0.368417 -1.744110             1.062409  -0.404377        3.785651  -0.538366     1.138680  0.764358\n",
       "7  244        1             -0.472554  1.875443      -0.719461         -2.011910  0.252290             0.145221  -0.449828        0.310310  -0.716676     0.879739 -1.923224\n",
       "8  162        1              0.519324 -0.401372      -0.195324          1.083336  0.252290            -0.568147  -0.108948        0.831612  -0.597803    -0.156025  0.092462\n",
       "9  223        0              0.679305 -0.970576      -0.777698          2.452914  0.252290            -0.364327  -0.018047       -0.558525  -0.360057    -1.191788 -0.579433"
      ]
     },
     "metadata": {},
     "output_type": "display_data"
    },
    {
     "name": "stdout",
     "output_type": "stream",
     "text": [
      "                                                                                                  \r"
     ]
    },
    {
     "data": {
      "text/html": [
       "320 rows X 13 columns"
      ],
      "text/plain": [
       "<IPython.core.display.HTML object>"
      ]
     },
     "metadata": {},
     "output_type": "display_data"
    },
    {
     "name": "stdout",
     "output_type": "stream",
     "text": [
      "                                                                                                  \r"
     ]
    },
    {
     "name": "stderr",
     "output_type": "stream",
     "text": [
      "C:\\ProgramData\\anaconda3\\lib\\site-packages\\sklearn\\base.py:450: UserWarning: X does not have valid feature names, but PCA was fitted with feature names\n",
      "  warnings.warn(\n"
     ]
    },
    {
     "data": {
      "text/html": [
       "\n",
       "Updated dataset after performing PCA feature selection :"
      ],
      "text/plain": [
       "<IPython.core.display.HTML object>"
      ]
     },
     "metadata": {},
     "output_type": "display_data"
    },
    {
     "data": {
      "text/html": [
       "<div>\n",
       "<style scoped>\n",
       "    .dataframe tbody tr th:only-of-type {\n",
       "        vertical-align: middle;\n",
       "    }\n",
       "\n",
       "    .dataframe tbody tr th {\n",
       "        vertical-align: top;\n",
       "    }\n",
       "\n",
       "    .dataframe thead th {\n",
       "        text-align: right;\n",
       "    }\n",
       "</style>\n",
       "<table border=\"1\" class=\"dataframe\">\n",
       "  <thead>\n",
       "    <tr style=\"text-align: right;\">\n",
       "      <th></th>\n",
       "      <th>id</th>\n",
       "      <th>col_0</th>\n",
       "      <th>col_1</th>\n",
       "      <th>col_2</th>\n",
       "      <th>col_3</th>\n",
       "      <th>col_4</th>\n",
       "      <th>col_5</th>\n",
       "      <th>col_6</th>\n",
       "      <th>col_7</th>\n",
       "      <th>col_8</th>\n",
       "      <th>quality</th>\n",
       "    </tr>\n",
       "  </thead>\n",
       "  <tbody>\n",
       "    <tr>\n",
       "      <th>0</th>\n",
       "      <td>183</td>\n",
       "      <td>1.894882</td>\n",
       "      <td>1.380568</td>\n",
       "      <td>0.507355</td>\n",
       "      <td>6.682458</td>\n",
       "      <td>2.871999</td>\n",
       "      <td>-1.522571</td>\n",
       "      <td>-0.817267</td>\n",
       "      <td>-0.497219</td>\n",
       "      <td>-0.684970</td>\n",
       "      <td>0</td>\n",
       "    </tr>\n",
       "    <tr>\n",
       "      <th>1</th>\n",
       "      <td>101</td>\n",
       "      <td>3.154696</td>\n",
       "      <td>-0.572437</td>\n",
       "      <td>-1.293448</td>\n",
       "      <td>-0.452664</td>\n",
       "      <td>0.174533</td>\n",
       "      <td>0.489044</td>\n",
       "      <td>1.059492</td>\n",
       "      <td>-0.490087</td>\n",
       "      <td>0.230398</td>\n",
       "      <td>1</td>\n",
       "    </tr>\n",
       "    <tr>\n",
       "      <th>2</th>\n",
       "      <td>40</td>\n",
       "      <td>0.261995</td>\n",
       "      <td>0.212397</td>\n",
       "      <td>0.215428</td>\n",
       "      <td>1.788474</td>\n",
       "      <td>-0.260686</td>\n",
       "      <td>0.542156</td>\n",
       "      <td>0.890438</td>\n",
       "      <td>0.939035</td>\n",
       "      <td>0.016638</td>\n",
       "      <td>0</td>\n",
       "    </tr>\n",
       "    <tr>\n",
       "      <th>3</th>\n",
       "      <td>122</td>\n",
       "      <td>-0.585457</td>\n",
       "      <td>3.062390</td>\n",
       "      <td>1.354934</td>\n",
       "      <td>-0.635221</td>\n",
       "      <td>-0.631761</td>\n",
       "      <td>-1.234048</td>\n",
       "      <td>0.631554</td>\n",
       "      <td>-0.166078</td>\n",
       "      <td>0.686068</td>\n",
       "      <td>0</td>\n",
       "    </tr>\n",
       "    <tr>\n",
       "      <th>4</th>\n",
       "      <td>80</td>\n",
       "      <td>-1.949505</td>\n",
       "      <td>-0.454663</td>\n",
       "      <td>1.974682</td>\n",
       "      <td>-0.856345</td>\n",
       "      <td>1.151918</td>\n",
       "      <td>-0.174606</td>\n",
       "      <td>0.930541</td>\n",
       "      <td>-0.692944</td>\n",
       "      <td>-1.121919</td>\n",
       "      <td>1</td>\n",
       "    </tr>\n",
       "    <tr>\n",
       "      <th>5</th>\n",
       "      <td>326</td>\n",
       "      <td>5.939561</td>\n",
       "      <td>-1.416124</td>\n",
       "      <td>0.836798</td>\n",
       "      <td>-6.111628</td>\n",
       "      <td>6.782220</td>\n",
       "      <td>-2.035813</td>\n",
       "      <td>0.167866</td>\n",
       "      <td>1.488771</td>\n",
       "      <td>-0.428572</td>\n",
       "      <td>0</td>\n",
       "    </tr>\n",
       "    <tr>\n",
       "      <th>6</th>\n",
       "      <td>61</td>\n",
       "      <td>3.460193</td>\n",
       "      <td>1.000229</td>\n",
       "      <td>-0.629372</td>\n",
       "      <td>-2.856384</td>\n",
       "      <td>1.144260</td>\n",
       "      <td>-0.741400</td>\n",
       "      <td>-0.471832</td>\n",
       "      <td>1.068493</td>\n",
       "      <td>-0.960485</td>\n",
       "      <td>0</td>\n",
       "    </tr>\n",
       "    <tr>\n",
       "      <th>7</th>\n",
       "      <td>162</td>\n",
       "      <td>-0.407322</td>\n",
       "      <td>0.749025</td>\n",
       "      <td>-1.049815</td>\n",
       "      <td>-0.447564</td>\n",
       "      <td>0.505204</td>\n",
       "      <td>-0.326499</td>\n",
       "      <td>-0.001559</td>\n",
       "      <td>0.180169</td>\n",
       "      <td>0.795741</td>\n",
       "      <td>1</td>\n",
       "    </tr>\n",
       "    <tr>\n",
       "      <th>8</th>\n",
       "      <td>364</td>\n",
       "      <td>-0.862655</td>\n",
       "      <td>-1.700529</td>\n",
       "      <td>0.832871</td>\n",
       "      <td>-0.871733</td>\n",
       "      <td>0.326407</td>\n",
       "      <td>-1.298729</td>\n",
       "      <td>-0.510000</td>\n",
       "      <td>1.398243</td>\n",
       "      <td>0.430756</td>\n",
       "      <td>1</td>\n",
       "    </tr>\n",
       "    <tr>\n",
       "      <th>9</th>\n",
       "      <td>284</td>\n",
       "      <td>-1.824425</td>\n",
       "      <td>-1.220999</td>\n",
       "      <td>-0.587736</td>\n",
       "      <td>0.009160</td>\n",
       "      <td>-0.132364</td>\n",
       "      <td>0.151262</td>\n",
       "      <td>-0.249728</td>\n",
       "      <td>0.651736</td>\n",
       "      <td>-0.381736</td>\n",
       "      <td>0</td>\n",
       "    </tr>\n",
       "  </tbody>\n",
       "</table>\n",
       "</div>"
      ],
      "text/plain": [
       "    id     col_0     col_1     col_2     col_3     col_4     col_5     col_6  \\\n",
       "0  183  1.894882  1.380568  0.507355  6.682458  2.871999 -1.522571 -0.817267   \n",
       "1  101  3.154696 -0.572437 -1.293448 -0.452664  0.174533  0.489044  1.059492   \n",
       "2   40  0.261995  0.212397  0.215428  1.788474 -0.260686  0.542156  0.890438   \n",
       "3  122 -0.585457  3.062390  1.354934 -0.635221 -0.631761 -1.234048  0.631554   \n",
       "4   80 -1.949505 -0.454663  1.974682 -0.856345  1.151918 -0.174606  0.930541   \n",
       "5  326  5.939561 -1.416124  0.836798 -6.111628  6.782220 -2.035813  0.167866   \n",
       "6   61  3.460193  1.000229 -0.629372 -2.856384  1.144260 -0.741400 -0.471832   \n",
       "7  162 -0.407322  0.749025 -1.049815 -0.447564  0.505204 -0.326499 -0.001559   \n",
       "8  364 -0.862655 -1.700529  0.832871 -0.871733  0.326407 -1.298729 -0.510000   \n",
       "9  284 -1.824425 -1.220999 -0.587736  0.009160 -0.132364  0.151262 -0.249728   \n",
       "\n",
       "      col_7     col_8  quality  \n",
       "0 -0.497219 -0.684970        0  \n",
       "1 -0.490087  0.230398        1  \n",
       "2  0.939035  0.016638        0  \n",
       "3 -0.166078  0.686068        0  \n",
       "4 -0.692944 -1.121919        1  \n",
       "5  1.488771 -0.428572        0  \n",
       "6  1.068493 -0.960485        0  \n",
       "7  0.180169  0.795741        1  \n",
       "8  1.398243  0.430756        1  \n",
       "9  0.651736 -0.381736        0  "
      ]
     },
     "metadata": {},
     "output_type": "display_data"
    },
    {
     "name": "stdout",
     "output_type": "stream",
     "text": [
      "                                                                                                  \r"
     ]
    },
    {
     "data": {
      "text/html": [
       "10 rows X 11 columns"
      ],
      "text/plain": [
       "<IPython.core.display.HTML object>"
      ]
     },
     "metadata": {},
     "output_type": "display_data"
    },
    {
     "name": "stdout",
     "output_type": "stream",
     "text": [
      "Data Transformation completed.⫿⫿⫿⫿⫿⫿⫿⫿⫿⫿⫿⫿⫿⫿⫿⫿⫿⫿⫿⫿⫿⫿⫿⫿⫿⫿⫿⫿⫿⫿⫿⫿⫿⫿⫿⫿⫿⫿⫿⫿⫿⫿｜ 100% - 15/15            \n",
      "\n",
      "Following model is being picked for evaluation:\n",
      "Model ID : XGBOOST_0 \n",
      "Feature Selection Method : lasso\n",
      "\n",
      "Target Column Mapping:\n",
      "good: 1\n",
      "bad: 0\n",
      "\n",
      "Prediction : \n",
      "    id  Prediction  quality    prob_0    prob_1\n",
      "0  101           1        1  0.164800  0.835200\n",
      "1   80           1        1  0.010445  0.989555\n",
      "2  242           0        0  0.571155  0.428845\n",
      "3  183           0        0  0.815870  0.184130\n",
      "4  162           0        1  0.624902  0.375098\n",
      "5  223           0        0  0.565791  0.434209\n",
      "6  122           0        0  0.867066  0.132934\n",
      "7  387           1        1  0.033053  0.966947\n",
      "8   61           0        0  0.838392  0.161608\n",
      "9  244           1        1  0.138195  0.861805\n",
      "\n",
      "ROC-AUC : \n"
     ]
    },
    {
     "data": {
      "text/html": [
       "<style type=\"text/css\">\n",
       "\ttable {border:ridge 5px;}\n",
       "\ttable td {border:inset 1px;}\n",
       "\ttable tr#HeaderRow {background-color:grey; color:white;}</style>\n",
       "<html><table>\n",
       "\t<tr id=\"HeaderRow\">\n",
       "\t\t<th>AUC</th>\n",
       "\t\t<th>GINI</th>\n",
       "\t</tr>\n",
       "\t<tr>\n",
       "\t\t<td>0.8211423632935257</td>\n",
       "\t\t<td>0.6422847265870515</td>\n",
       "\t</tr>\n",
       "</table></html>"
      ],
      "text/plain": [
       "              GINI\n",
       "AUC               \n",
       "0.821142  0.642285"
      ]
     },
     "metadata": {},
     "output_type": "display_data"
    },
    {
     "data": {
      "text/html": [
       "<style type=\"text/css\">\n",
       "\ttable {border:ridge 5px;}\n",
       "\ttable td {border:inset 1px;}\n",
       "\ttable tr#HeaderRow {background-color:grey; color:white;}</style>\n",
       "<html><table>\n",
       "\t<tr id=\"HeaderRow\">\n",
       "\t\t<th>threshold_value</th>\n",
       "\t\t<th>tpr</th>\n",
       "\t\t<th>fpr</th>\n",
       "\t</tr>\n",
       "\t<tr>\n",
       "\t\t<td>0.04081632653061224</td>\n",
       "\t\t<td>1.0</td>\n",
       "\t\t<td>0.9256756756756757</td>\n",
       "\t</tr>\n",
       "\t<tr>\n",
       "\t\t<td>0.08163265306122448</td>\n",
       "\t\t<td>1.0</td>\n",
       "\t\t<td>0.8175675675675675</td>\n",
       "\t</tr>\n",
       "\t<tr>\n",
       "\t\t<td>0.1020408163265306</td>\n",
       "\t\t<td>1.0</td>\n",
       "\t\t<td>0.7702702702702703</td>\n",
       "\t</tr>\n",
       "\t<tr>\n",
       "\t\t<td>0.12244897959183673</td>\n",
       "\t\t<td>0.9941860465116279</td>\n",
       "\t\t<td>0.7635135135135135</td>\n",
       "\t</tr>\n",
       "\t<tr>\n",
       "\t\t<td>0.16326530612244897</td>\n",
       "\t\t<td>0.9476744186046512</td>\n",
       "\t\t<td>0.6756756756756757</td>\n",
       "\t</tr>\n",
       "\t<tr>\n",
       "\t\t<td>0.18367346938775508</td>\n",
       "\t\t<td>0.9418604651162791</td>\n",
       "\t\t<td>0.6756756756756757</td>\n",
       "\t</tr>\n",
       "\t<tr>\n",
       "\t\t<td>0.14285714285714285</td>\n",
       "\t\t<td>0.9767441860465116</td>\n",
       "\t\t<td>0.6959459459459459</td>\n",
       "\t</tr>\n",
       "\t<tr>\n",
       "\t\t<td>0.061224489795918366</td>\n",
       "\t\t<td>1.0</td>\n",
       "\t\t<td>0.831081081081081</td>\n",
       "\t</tr>\n",
       "\t<tr>\n",
       "\t\t<td>0.02040816326530612</td>\n",
       "\t\t<td>1.0</td>\n",
       "\t\t<td>0.9864864864864865</td>\n",
       "\t</tr>\n",
       "\t<tr>\n",
       "\t\t<td>0.0</td>\n",
       "\t\t<td>1.0</td>\n",
       "\t\t<td>1.0</td>\n",
       "\t</tr>\n",
       "</table></html>"
      ],
      "text/plain": [
       "   threshold_value       tpr       fpr\n",
       "0         0.040816  1.000000  0.925676\n",
       "1         0.081633  1.000000  0.817568\n",
       "2         0.102041  1.000000  0.770270\n",
       "3         0.122449  0.994186  0.763514\n",
       "4         0.163265  0.947674  0.675676\n",
       "5         0.183673  0.941860  0.675676\n",
       "6         0.142857  0.976744  0.695946\n",
       "7         0.061224  1.000000  0.831081\n",
       "8         0.020408  1.000000  0.986486\n",
       "9         0.000000  1.000000  1.000000"
      ]
     },
     "metadata": {},
     "output_type": "display_data"
    },
    {
     "name": "stdout",
     "output_type": "stream",
     "text": [
      "\n",
      "Confusion Matrix : \n"
     ]
    },
    {
     "data": {
      "text/plain": [
       "array([[ 99,  49],\n",
       "       [ 26, 146]], dtype=int64)"
      ]
     },
     "metadata": {},
     "output_type": "display_data"
    }
   ],
   "source": [
    "# Generating prediction on test data\n",
    "prediction = aml.predict(wine_df_test,3)"
   ]
  },
  {
   "cell_type": "code",
   "execution_count": 23,
   "id": "cc4f6a78-1cdf-4938-a9f1-22035d8404ca",
   "metadata": {},
   "outputs": [
    {
     "data": {
      "text/html": [
       "<style type=\"text/css\">\n",
       "\ttable {border:ridge 5px;}\n",
       "\ttable td {border:inset 1px;}\n",
       "\ttable tr#HeaderRow {background-color:grey; color:white;}</style>\n",
       "<html><table>\n",
       "\t<tr id=\"HeaderRow\">\n",
       "\t\t<th>id</th>\n",
       "\t\t<th>Prediction</th>\n",
       "\t\t<th>quality</th>\n",
       "\t\t<th>prob_0</th>\n",
       "\t\t<th>prob_1</th>\n",
       "\t</tr>\n",
       "\t<tr>\n",
       "\t\t<td>10</td>\n",
       "\t\t<td>1</td>\n",
       "\t\t<td>1</td>\n",
       "\t\t<td>0.026620796467248686</td>\n",
       "\t\t<td>0.9733792035327513</td>\n",
       "\t</tr>\n",
       "\t<tr>\n",
       "\t\t<td>12</td>\n",
       "\t\t<td>1</td>\n",
       "\t\t<td>1</td>\n",
       "\t\t<td>0.01319171238895478</td>\n",
       "\t\t<td>0.9868082876110452</td>\n",
       "\t</tr>\n",
       "\t<tr>\n",
       "\t\t<td>13</td>\n",
       "\t\t<td>1</td>\n",
       "\t\t<td>1</td>\n",
       "\t\t<td>0.34354500871158133</td>\n",
       "\t\t<td>0.6564549912884187</td>\n",
       "\t</tr>\n",
       "\t<tr>\n",
       "\t\t<td>14</td>\n",
       "\t\t<td>1</td>\n",
       "\t\t<td>0</td>\n",
       "\t\t<td>0.48890332240967527</td>\n",
       "\t\t<td>0.5110966775903247</td>\n",
       "\t</tr>\n",
       "\t<tr>\n",
       "\t\t<td>16</td>\n",
       "\t\t<td>1</td>\n",
       "\t\t<td>0</td>\n",
       "\t\t<td>0.06563058851082604</td>\n",
       "\t\t<td>0.934369411489174</td>\n",
       "\t</tr>\n",
       "\t<tr>\n",
       "\t\t<td>17</td>\n",
       "\t\t<td>0</td>\n",
       "\t\t<td>0</td>\n",
       "\t\t<td>0.999466332093476</td>\n",
       "\t\t<td>0.0005336679065239965</td>\n",
       "\t</tr>\n",
       "\t<tr>\n",
       "\t\t<td>15</td>\n",
       "\t\t<td>1</td>\n",
       "\t\t<td>1</td>\n",
       "\t\t<td>0.01319171238895478</td>\n",
       "\t\t<td>0.9868082876110452</td>\n",
       "\t</tr>\n",
       "\t<tr>\n",
       "\t\t<td>11</td>\n",
       "\t\t<td>1</td>\n",
       "\t\t<td>1</td>\n",
       "\t\t<td>0.024743975029789755</td>\n",
       "\t\t<td>0.9752560249702102</td>\n",
       "\t</tr>\n",
       "\t<tr>\n",
       "\t\t<td>9</td>\n",
       "\t\t<td>1</td>\n",
       "\t\t<td>1</td>\n",
       "\t\t<td>0.022045578606112448</td>\n",
       "\t\t<td>0.9779544213938876</td>\n",
       "\t</tr>\n",
       "\t<tr>\n",
       "\t\t<td>8</td>\n",
       "\t\t<td>0</td>\n",
       "\t\t<td>0</td>\n",
       "\t\t<td>0.9413594711369604</td>\n",
       "\t\t<td>0.058640528863039616</td>\n",
       "\t</tr>\n",
       "</table></html>"
      ],
      "text/plain": [
       "   id  Prediction  quality    prob_0    prob_1\n",
       "0  10           1        1  0.026621  0.973379\n",
       "1  12           1        1  0.013192  0.986808\n",
       "2  13           1        1  0.343545  0.656455\n",
       "3  14           1        0  0.488903  0.511097\n",
       "4  16           1        0  0.065631  0.934369\n",
       "5  17           0        0  0.999466  0.000534\n",
       "6  15           1        1  0.013192  0.986808\n",
       "7  11           1        1  0.024744  0.975256\n",
       "8   9           1        1  0.022046  0.977954\n",
       "9   8           0        0  0.941359  0.058641"
      ]
     },
     "execution_count": 23,
     "metadata": {},
     "output_type": "execute_result"
    }
   ],
   "source": [
    "# Printing prediction\n",
    "prediction.head()"
   ]
  },
  {
   "cell_type": "code",
   "execution_count": 24,
   "id": "56b22d8c-2c3c-4867-a03b-740b081a6f41",
   "metadata": {},
   "outputs": [
    {
     "name": "stdout",
     "output_type": "stream",
     "text": [
      "\n",
      "Skipping data transformation as data is already transformed.\n",
      "\n",
      "Following model is being picked for evaluation:\n",
      "Model ID : XGBOOST_0 \n",
      "Feature Selection Method : lasso\n",
      "\n",
      "Target Column Mapping:\n",
      "good: 1\n",
      "bad: 0\n",
      "\n",
      "Performance Metrics : \n",
      "       Prediction  Mapping  CLASS_1  CLASS_2  Precision    Recall        F1  Support\n",
      "SeqNum                                                                              \n",
      "0               0  CLASS_1       99       26   0.792000  0.668919  0.725275      148\n",
      "1               1  CLASS_2       49      146   0.748718  0.848837  0.795640      172\n",
      "--------------------------------------------------------------------------------\n",
      "   SeqNum              Metric  MetricValue\n",
      "0       3        Micro-Recall     0.765625\n",
      "1       5     Macro-Precision     0.770359\n",
      "2       6        Macro-Recall     0.758878\n",
      "3       7            Macro-F1     0.760458\n",
      "4       9     Weighted-Recall     0.765625\n",
      "5      10         Weighted-F1     0.763096\n",
      "6       8  Weighted-Precision     0.768736\n",
      "7       4            Micro-F1     0.765625\n",
      "8       2     Micro-Precision     0.765625\n",
      "9       1            Accuracy     0.765625\n"
     ]
    }
   ],
   "source": [
    "# Fetching performance metrics on test data\n",
    "performance_metrics = aml.evaluate(wine_df_test,3)"
   ]
  },
  {
   "cell_type": "code",
   "execution_count": 25,
   "id": "94aee95f-ee9b-48cd-a70e-9c45e6d1b84a",
   "metadata": {},
   "outputs": [
    {
     "data": {
      "text/html": [
       "<style type=\"text/css\">\n",
       "\ttable {border:ridge 5px;}\n",
       "\ttable td {border:inset 1px;}\n",
       "\ttable tr#HeaderRow {background-color:grey; color:white;}</style>\n",
       "<html><table>\n",
       "\t<tr id=\"HeaderRow\">\n",
       "\t\t<th>SeqNum</th>\n",
       "\t\t<th>Prediction</th>\n",
       "\t\t<th>Mapping</th>\n",
       "\t\t<th>CLASS_1</th>\n",
       "\t\t<th>CLASS_2</th>\n",
       "\t\t<th>Precision</th>\n",
       "\t\t<th>Recall</th>\n",
       "\t\t<th>F1</th>\n",
       "\t\t<th>Support</th>\n",
       "\t</tr>\n",
       "\t<tr>\n",
       "\t\t<td>0</td>\n",
       "\t\t<td>0</td>\n",
       "\t\t<td>CLASS_1</td>\n",
       "\t\t<td>99</td>\n",
       "\t\t<td>26</td>\n",
       "\t\t<td>0.792</td>\n",
       "\t\t<td>0.668918918918919</td>\n",
       "\t\t<td>0.7252747252747253</td>\n",
       "\t\t<td>148</td>\n",
       "\t</tr>\n",
       "\t<tr>\n",
       "\t\t<td>1</td>\n",
       "\t\t<td>1</td>\n",
       "\t\t<td>CLASS_2</td>\n",
       "\t\t<td>49</td>\n",
       "\t\t<td>146</td>\n",
       "\t\t<td>0.7487179487179487</td>\n",
       "\t\t<td>0.8488372093023255</td>\n",
       "\t\t<td>0.7956403269754768</td>\n",
       "\t\t<td>172</td>\n",
       "\t</tr>\n",
       "</table></html>"
      ],
      "text/plain": [
       "       Prediction  Mapping  CLASS_1  CLASS_2  Precision    Recall        F1  Support\n",
       "SeqNum                                                                              \n",
       "0               0  CLASS_1       99       26   0.792000  0.668919  0.725275      148\n",
       "1               1  CLASS_2       49      146   0.748718  0.848837  0.795640      172"
      ]
     },
     "execution_count": 25,
     "metadata": {},
     "output_type": "execute_result"
    }
   ],
   "source": [
    "performance_metrics"
   ]
  },
  {
   "cell_type": "code",
   "execution_count": 26,
   "id": "d36aacb0-dec8-4dbd-82c1-ad1891f065db",
   "metadata": {},
   "outputs": [
    {
     "data": {
      "text/plain": [
       "True"
      ]
     },
     "execution_count": 26,
     "metadata": {},
     "output_type": "execute_result"
    }
   ],
   "source": [
    "remove_context()"
   ]
  },
  {
   "cell_type": "code",
   "execution_count": null,
   "id": "b672112c-d042-4842-846b-163f495d7664",
   "metadata": {},
   "outputs": [],
   "source": []
  }
 ],
 "metadata": {
  "kernelspec": {
   "display_name": "Python 3 (ipykernel)",
   "language": "python",
   "name": "python3"
  },
  "language_info": {
   "codemirror_mode": {
    "name": "ipython",
    "version": 3
   },
   "file_extension": ".py",
   "mimetype": "text/x-python",
   "name": "python",
   "nbconvert_exporter": "python",
   "pygments_lexer": "ipython3",
   "version": "3.10.9"
  }
 },
 "nbformat": 4,
 "nbformat_minor": 5
}
