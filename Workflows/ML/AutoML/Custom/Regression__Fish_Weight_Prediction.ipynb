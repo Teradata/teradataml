{
 "cells": [
  {
   "cell_type": "markdown",
   "id": "2762f1d8-5a66-411f-a625-34cf16ac6dd3",
   "metadata": {},
   "source": [
    "# <b><span style='color:#F1A424'>AutoML - Regression - Fish Weight Prediction </span> </b>"
   ]
  },
  {
   "cell_type": "markdown",
   "id": "bd1e45fd-6095-425b-84d7-f5a9ccea8da8",
   "metadata": {},
   "source": [
    "### Disclaimer\n",
    "Please note, the Vantage Functions via SQLAlchemy feature is a preview/beta code release with limited functionality (the “Code”). As such, you acknowledge that the Code is experimental in nature and that the Code is provided “AS IS” and may not be functional on any machine or in any environment. TERADATA DISCLAIMS ALL WARRANTIES RELATING TO THE CODE, EXPRESS OR IMPLIED, INCLUDING, BUT NOT LIMITED TO, ANY WARRANTIES AGAINST INFRINGEMENT OF THIRD-PARTY RIGHTS, MERCHANTABILITY AND FITNESS FOR A PARTICULAR PURPOSE.\n",
    "\n",
    "TERADATA SHALL NOT BE RESPONSIBLE OR LIABLE WITH RESPECT TO ANY SUBJECT MATTER OF THE CODE UNDER ANY CONTRACT, NEGLIGENCE, STRICT LIABILITY OR OTHER THEORY \n",
    "    (A) FOR LOSS OR INACCURACY OF DATA OR COST OF PROCUREMENT OF SUBSTITUTE GOODS, SERVICES OR TECHNOLOGY, OR \n",
    "    (B) FOR ANY INDIRECT, INCIDENTAL OR CONSEQUENTIAL DAMAGES INCLUDING, BUT NOT LIMITED TO LOSS OF REVENUES AND LOSS OF PROFITS. TERADATA SHALL NOT BE RESPONSIBLE FOR ANY MATTER BEYOND ITS REASONABLE CONTROL.\n",
    "\n",
    "Notwithstanding anything to the contrary: \n",
    "    (a) Teradata will have no obligation of any kind with respect to any Code-related comments, suggestions, design changes or improvements that you elect to provide to Teradata in either verbal or written form (collectively, “Feedback”), and \n",
    "    (b) Teradata and its affiliates are hereby free to use any ideas, concepts, know-how or techniques, in whole or in part, contained in Feedback: \n",
    "        (i) for any purpose whatsoever, including developing, manufacturing, and/or marketing products and/or services incorporating Feedback in whole or in part, and \n",
    "        (ii) without any restrictions or limitations, including requiring the payment of any license fees, royalties, or other consideration. "
   ]
  },
  {
   "cell_type": "markdown",
   "id": "f225fb94-b2c8-4c92-af38-733d08e0e2a1",
   "metadata": {},
   "source": [
    "## <b> Problem overview:</b>\n",
    "    "
   ]
  },
  {
   "cell_type": "markdown",
   "id": "af9813eb-9c44-4968-a5fe-d1c74415c894",
   "metadata": {},
   "source": [
    "**Dataset used : Fish Weight Dataset**\n",
    "\n",
    "**Features**:\n",
    "\n",
    "- `Species`: Species name of fish\n",
    "- `Length1`: Vertical length in cm\n",
    "- `Length2`: Diagonal length in cm\n",
    "- `Length3`: Cross length in cm\n",
    "- `Height`: Height in cm\n",
    "- `Width`: Diagonal width in cm\n",
    "\n",
    "**Target Variable**:\n",
    "\n",
    "- `Weight`: Weight of fish in gram\n",
    "\n",
    "        \n",
    "**Objective**:\n",
    "\n",
    "The primary objective is typically to build a model that can accurately predict weight of fish in gram.\n",
    "\n",
    "**Usecase**:\n",
    "\n",
    "Here, we will use AutoML(Automated Machine Learning) functionality to automate the entire process of developing a predictive model. It will perform feature exploration, feature engineering, data preparation, model training and evaluation on dataset in custom run and at end we will get leaderboard containined different models along with their performance. Model will also have rank associated with them which indicates which is best performing model for given data followed by other models.\n",
    "\n",
    "As part of custom AutoML run, we will customize below functionalities:\n",
    "- Train test split with training size 0.7.\n",
    "- Outlier filteration with 'tukey' method and imputation with median for outlier in 'Length2' feature.\n",
    "- Feature scaling with 'std' method.\n",
    "- Replacement of customized value in hyperparameter 'max_depth' for 'xgboost' model."
   ]
  },
  {
   "cell_type": "code",
   "execution_count": 1,
   "id": "66568348-4d00-477c-a071-17995f797c95",
   "metadata": {},
   "outputs": [],
   "source": [
    "# Importing AutoML from teradataml\n",
    "from teradataml import AutoML"
   ]
  },
  {
   "cell_type": "code",
   "execution_count": 2,
   "id": "17dfae70-0401-4cc4-ba1c-400a5cf62451",
   "metadata": {},
   "outputs": [],
   "source": [
    "# Importing other important libraries\n",
    "import getpass\n",
    "from teradataml import create_context, remove_context\n",
    "from teradataml import DataFrame\n",
    "from teradataml import load_example_data\n",
    "from teradataml import TrainTestSplit"
   ]
  },
  {
   "cell_type": "code",
   "execution_count": 3,
   "id": "cadd9ed2-42d6-4899-b23e-4e2cf601162f",
   "metadata": {},
   "outputs": [
    {
     "name": "stdin",
     "output_type": "stream",
     "text": [
      "Host:  ········\n",
      "Username:  ········\n",
      "Password:  ········\n"
     ]
    }
   ],
   "source": [
    "# Create the connection.\n",
    "host = getpass.getpass(\"Host: \")\n",
    "username = getpass.getpass(\"Username: \")\n",
    "password = getpass.getpass(\"Password: \")\n",
    "\n",
    "con = create_context(host=host, username=username, password=password)"
   ]
  },
  {
   "cell_type": "markdown",
   "id": "be767a89-d5b8-4876-91cb-36980754586e",
   "metadata": {},
   "source": [
    "## <b><span style='color:#F1A424'>| 1.</span> Loading Dataset </b>"
   ]
  },
  {
   "cell_type": "code",
   "execution_count": 4,
   "id": "f1592c52-b247-4792-be2a-30b49bbeb9b6",
   "metadata": {},
   "outputs": [],
   "source": [
    "# Loading dataset from example data collection\n",
    "load_example_data('teradataml','fish')"
   ]
  },
  {
   "cell_type": "code",
   "execution_count": 5,
   "id": "3846ae0f-004b-4b8e-9fea-06fac4294065",
   "metadata": {},
   "outputs": [],
   "source": [
    "# Fetching in teradata dataframe\n",
    "fish_df = DataFrame(\"fish\")"
   ]
  },
  {
   "cell_type": "code",
   "execution_count": 6,
   "id": "442ccd80-b444-413e-970d-d855ec3d6cae",
   "metadata": {},
   "outputs": [
    {
     "data": {
      "text/html": [
       "<style type=\"text/css\">\n",
       "\ttable {border:ridge 5px;}\n",
       "\ttable td {border:inset 1px;}\n",
       "\ttable tr#HeaderRow {background-color:grey; color:white;}</style>\n",
       "<html><table>\n",
       "\t<tr id=\"HeaderRow\">\n",
       "\t\t<th>Species</th>\n",
       "\t\t<th>Weight</th>\n",
       "\t\t<th>Length1</th>\n",
       "\t\t<th>Length2</th>\n",
       "\t\t<th>Length3</th>\n",
       "\t\t<th>Height</th>\n",
       "\t\t<th>Width</th>\n",
       "\t</tr>\n",
       "\t<tr>\n",
       "\t\t<td>Bream</td>\n",
       "\t\t<td>725</td>\n",
       "\t\t<td>31.8</td>\n",
       "\t\t<td>35.0</td>\n",
       "\t\t<td>40.9</td>\n",
       "\t\t<td>16.36</td>\n",
       "\t\t<td>6.0532</td>\n",
       "\t</tr>\n",
       "\t<tr>\n",
       "\t\t<td>Bream</td>\n",
       "\t\t<td>920</td>\n",
       "\t\t<td>35.0</td>\n",
       "\t\t<td>38.5</td>\n",
       "\t\t<td>44.1</td>\n",
       "\t\t<td>18.0369</td>\n",
       "\t\t<td>6.3063</td>\n",
       "\t</tr>\n",
       "\t<tr>\n",
       "\t\t<td>Bream</td>\n",
       "\t\t<td>475</td>\n",
       "\t\t<td>28.4</td>\n",
       "\t\t<td>31.0</td>\n",
       "\t\t<td>36.2</td>\n",
       "\t\t<td>14.2628</td>\n",
       "\t\t<td>5.1042</td>\n",
       "\t</tr>\n",
       "\t<tr>\n",
       "\t\t<td>Bream</td>\n",
       "\t\t<td>680</td>\n",
       "\t\t<td>31.8</td>\n",
       "\t\t<td>35.0</td>\n",
       "\t\t<td>40.6</td>\n",
       "\t\t<td>15.4686</td>\n",
       "\t\t<td>6.1306</td>\n",
       "\t</tr>\n",
       "\t<tr>\n",
       "\t\t<td>Bream</td>\n",
       "\t\t<td>430</td>\n",
       "\t\t<td>26.5</td>\n",
       "\t\t<td>29.0</td>\n",
       "\t\t<td>34.0</td>\n",
       "\t\t<td>12.444</td>\n",
       "\t\t<td>5.134</td>\n",
       "\t</tr>\n",
       "\t<tr>\n",
       "\t\t<td>Bream</td>\n",
       "\t\t<td>450</td>\n",
       "\t\t<td>26.8</td>\n",
       "\t\t<td>29.7</td>\n",
       "\t\t<td>34.7</td>\n",
       "\t\t<td>13.6024</td>\n",
       "\t\t<td>4.9274</td>\n",
       "\t</tr>\n",
       "\t<tr>\n",
       "\t\t<td>Bream</td>\n",
       "\t\t<td>685</td>\n",
       "\t\t<td>31.4</td>\n",
       "\t\t<td>34.0</td>\n",
       "\t\t<td>39.2</td>\n",
       "\t\t<td>15.9936</td>\n",
       "\t\t<td>5.3704</td>\n",
       "\t</tr>\n",
       "\t<tr>\n",
       "\t\t<td>Bream</td>\n",
       "\t\t<td>600</td>\n",
       "\t\t<td>29.4</td>\n",
       "\t\t<td>32.0</td>\n",
       "\t\t<td>37.2</td>\n",
       "\t\t<td>15.438</td>\n",
       "\t\t<td>5.58</td>\n",
       "\t</tr>\n",
       "\t<tr>\n",
       "\t\t<td>Bream</td>\n",
       "\t\t<td>450</td>\n",
       "\t\t<td>27.6</td>\n",
       "\t\t<td>30.0</td>\n",
       "\t\t<td>35.1</td>\n",
       "\t\t<td>14.0049</td>\n",
       "\t\t<td>4.8438</td>\n",
       "\t</tr>\n",
       "\t<tr>\n",
       "\t\t<td>Bream</td>\n",
       "\t\t<td>500</td>\n",
       "\t\t<td>26.8</td>\n",
       "\t\t<td>29.7</td>\n",
       "\t\t<td>34.5</td>\n",
       "\t\t<td>14.1795</td>\n",
       "\t\t<td>5.2785</td>\n",
       "\t</tr>\n",
       "</table></html>"
      ],
      "text/plain": [
       "         Weight  Length1  Length2  Length3   Height   Width\n",
       "Species                                                    \n",
       "Bream       725     31.8     35.0     40.9  16.3600  6.0532\n",
       "Bream       920     35.0     38.5     44.1  18.0369  6.3063\n",
       "Bream       475     28.4     31.0     36.2  14.2628  5.1042\n",
       "Bream       680     31.8     35.0     40.6  15.4686  6.1306\n",
       "Bream       430     26.5     29.0     34.0  12.4440  5.1340\n",
       "Bream       450     26.8     29.7     34.7  13.6024  4.9274\n",
       "Bream       685     31.4     34.0     39.2  15.9936  5.3704\n",
       "Bream       600     29.4     32.0     37.2  15.4380  5.5800\n",
       "Bream       450     27.6     30.0     35.1  14.0049  4.8438\n",
       "Bream       500     26.8     29.7     34.5  14.1795  5.2785"
      ]
     },
     "execution_count": 6,
     "metadata": {},
     "output_type": "execute_result"
    }
   ],
   "source": [
    "# first 5 rows\n",
    "fish_df.head()"
   ]
  },
  {
   "cell_type": "code",
   "execution_count": 7,
   "id": "636c220d-d12f-4ea5-ab2b-c9203ef00d49",
   "metadata": {},
   "outputs": [
    {
     "data": {
      "text/plain": [
       "(159, 7)"
      ]
     },
     "execution_count": 7,
     "metadata": {},
     "output_type": "execute_result"
    }
   ],
   "source": [
    "# fish_df dataset\n",
    "fish_df.shape"
   ]
  },
  {
   "cell_type": "code",
   "execution_count": 8,
   "id": "e5d1fad7-8784-4d7a-be1f-7be1d3991d8f",
   "metadata": {},
   "outputs": [],
   "source": [
    "# Performing sampling to get 80% for trainning and 20% for testing\n",
    "fish_df_sample = fish_df.sample(frac = [0.8, 0.2])"
   ]
  },
  {
   "cell_type": "code",
   "execution_count": 9,
   "id": "a0e6891a-1b7e-4bac-97c8-350ba5f5bde4",
   "metadata": {},
   "outputs": [
    {
     "data": {
      "text/html": [
       "<style type=\"text/css\">\n",
       "\ttable {border:ridge 5px;}\n",
       "\ttable td {border:inset 1px;}\n",
       "\ttable tr#HeaderRow {background-color:grey; color:white;}</style>\n",
       "<html><table>\n",
       "\t<tr id=\"HeaderRow\">\n",
       "\t\t<th>Species</th>\n",
       "\t\t<th>Weight</th>\n",
       "\t\t<th>Length1</th>\n",
       "\t\t<th>Length2</th>\n",
       "\t\t<th>Length3</th>\n",
       "\t\t<th>Height</th>\n",
       "\t\t<th>Width</th>\n",
       "\t\t<th>sampleid</th>\n",
       "\t</tr>\n",
       "\t<tr>\n",
       "\t\t<td>Bream</td>\n",
       "\t\t<td>242</td>\n",
       "\t\t<td>23.2</td>\n",
       "\t\t<td>25.4</td>\n",
       "\t\t<td>30.0</td>\n",
       "\t\t<td>11.52</td>\n",
       "\t\t<td>4.02</td>\n",
       "\t\t<td>2</td>\n",
       "\t</tr>\n",
       "\t<tr>\n",
       "\t\t<td>Bream</td>\n",
       "\t\t<td>575</td>\n",
       "\t\t<td>31.3</td>\n",
       "\t\t<td>34.0</td>\n",
       "\t\t<td>39.5</td>\n",
       "\t\t<td>15.1285</td>\n",
       "\t\t<td>5.5695</td>\n",
       "\t\t<td>1</td>\n",
       "\t</tr>\n",
       "\t<tr>\n",
       "\t\t<td>Bream</td>\n",
       "\t\t<td>925</td>\n",
       "\t\t<td>36.2</td>\n",
       "\t\t<td>39.5</td>\n",
       "\t\t<td>45.3</td>\n",
       "\t\t<td>18.7542</td>\n",
       "\t\t<td>6.7497</td>\n",
       "\t\t<td>1</td>\n",
       "\t</tr>\n",
       "\t<tr>\n",
       "\t\t<td>Bream</td>\n",
       "\t\t<td>340</td>\n",
       "\t\t<td>23.9</td>\n",
       "\t\t<td>26.5</td>\n",
       "\t\t<td>31.1</td>\n",
       "\t\t<td>12.3778</td>\n",
       "\t\t<td>4.6961</td>\n",
       "\t\t<td>1</td>\n",
       "\t</tr>\n",
       "\t<tr>\n",
       "\t\t<td>Bream</td>\n",
       "\t\t<td>500</td>\n",
       "\t\t<td>29.1</td>\n",
       "\t\t<td>31.5</td>\n",
       "\t\t<td>36.4</td>\n",
       "\t\t<td>13.7592</td>\n",
       "\t\t<td>4.368</td>\n",
       "\t\t<td>1</td>\n",
       "\t</tr>\n",
       "\t<tr>\n",
       "\t\t<td>Bream</td>\n",
       "\t\t<td>475</td>\n",
       "\t\t<td>28.4</td>\n",
       "\t\t<td>31.0</td>\n",
       "\t\t<td>36.2</td>\n",
       "\t\t<td>14.2628</td>\n",
       "\t\t<td>5.1042</td>\n",
       "\t\t<td>1</td>\n",
       "\t</tr>\n",
       "\t<tr>\n",
       "\t\t<td>Bream</td>\n",
       "\t\t<td>1000</td>\n",
       "\t\t<td>33.5</td>\n",
       "\t\t<td>37.0</td>\n",
       "\t\t<td>42.6</td>\n",
       "\t\t<td>18.957</td>\n",
       "\t\t<td>6.603</td>\n",
       "\t\t<td>2</td>\n",
       "\t</tr>\n",
       "\t<tr>\n",
       "\t\t<td>Bream</td>\n",
       "\t\t<td>500</td>\n",
       "\t\t<td>26.8</td>\n",
       "\t\t<td>29.7</td>\n",
       "\t\t<td>34.5</td>\n",
       "\t\t<td>14.1795</td>\n",
       "\t\t<td>5.2785</td>\n",
       "\t\t<td>1</td>\n",
       "\t</tr>\n",
       "\t<tr>\n",
       "\t\t<td>Bream</td>\n",
       "\t\t<td>600</td>\n",
       "\t\t<td>29.4</td>\n",
       "\t\t<td>32.0</td>\n",
       "\t\t<td>37.2</td>\n",
       "\t\t<td>15.438</td>\n",
       "\t\t<td>5.58</td>\n",
       "\t\t<td>2</td>\n",
       "\t</tr>\n",
       "\t<tr>\n",
       "\t\t<td>Bream</td>\n",
       "\t\t<td>700</td>\n",
       "\t\t<td>30.4</td>\n",
       "\t\t<td>33.0</td>\n",
       "\t\t<td>38.3</td>\n",
       "\t\t<td>14.8604</td>\n",
       "\t\t<td>5.2854</td>\n",
       "\t\t<td>1</td>\n",
       "\t</tr>\n",
       "</table></html>"
      ],
      "text/plain": [
       "         Weight  Length1  Length2  Length3   Height   Width  sampleid\n",
       "Species                                                              \n",
       "Bream       242     23.2     25.4     30.0  11.5200  4.0200         2\n",
       "Bream       575     31.3     34.0     39.5  15.1285  5.5695         1\n",
       "Bream       925     36.2     39.5     45.3  18.7542  6.7497         1\n",
       "Bream       340     23.9     26.5     31.1  12.3778  4.6961         1\n",
       "Bream       500     29.1     31.5     36.4  13.7592  4.3680         1\n",
       "Bream       475     28.4     31.0     36.2  14.2628  5.1042         1\n",
       "Bream      1000     33.5     37.0     42.6  18.9570  6.6030         2\n",
       "Bream       500     26.8     29.7     34.5  14.1795  5.2785         1\n",
       "Bream       600     29.4     32.0     37.2  15.4380  5.5800         2\n",
       "Bream       700     30.4     33.0     38.3  14.8604  5.2854         1"
      ]
     },
     "execution_count": 9,
     "metadata": {},
     "output_type": "execute_result"
    }
   ],
   "source": [
    "fish_df_sample.head()"
   ]
  },
  {
   "cell_type": "code",
   "execution_count": 10,
   "id": "5e3e5923-18ad-4cf6-b4e5-e87f8854700b",
   "metadata": {},
   "outputs": [],
   "source": [
    "# Fetching train and test data\n",
    "fish_df_train= fish_df_sample[fish_df_sample['sampleid'] == 1].drop('sampleid', axis=1)\n",
    "fish_df_test = fish_df_sample[fish_df_sample['sampleid'] == 2].drop('sampleid', axis=1)"
   ]
  },
  {
   "cell_type": "code",
   "execution_count": 11,
   "id": "83d72a72-3fac-4862-b374-d21ab59be1a6",
   "metadata": {},
   "outputs": [
    {
     "data": {
      "text/plain": [
       "(127, 7)"
      ]
     },
     "execution_count": 11,
     "metadata": {},
     "output_type": "execute_result"
    }
   ],
   "source": [
    "# train data shape\n",
    "fish_df_train.shape"
   ]
  },
  {
   "cell_type": "code",
   "execution_count": 12,
   "id": "b22be730-8a7a-40f3-8e2a-cabd8d1f427f",
   "metadata": {},
   "outputs": [
    {
     "data": {
      "text/plain": [
       "(32, 7)"
      ]
     },
     "execution_count": 12,
     "metadata": {},
     "output_type": "execute_result"
    }
   ],
   "source": [
    "# test data shape\n",
    "fish_df_test.shape"
   ]
  },
  {
   "cell_type": "code",
   "execution_count": 13,
   "id": "18473df2-be15-4e1e-bc5e-739abacf8b89",
   "metadata": {},
   "outputs": [
    {
     "data": {
      "text/html": [
       "<style type=\"text/css\">\n",
       "\ttable {border:ridge 5px;}\n",
       "\ttable td {border:inset 1px;}\n",
       "\ttable tr#HeaderRow {background-color:grey; color:white;}</style>\n",
       "<html><table>\n",
       "\t<tr id=\"HeaderRow\">\n",
       "\t\t<th>Species</th>\n",
       "\t\t<th>Weight</th>\n",
       "\t\t<th>Length1</th>\n",
       "\t\t<th>Length2</th>\n",
       "\t\t<th>Length3</th>\n",
       "\t\t<th>Height</th>\n",
       "\t\t<th>Width</th>\n",
       "\t</tr>\n",
       "\t<tr>\n",
       "\t\t<td>Bream</td>\n",
       "\t\t<td>500</td>\n",
       "\t\t<td>28.5</td>\n",
       "\t\t<td>30.7</td>\n",
       "\t\t<td>36.2</td>\n",
       "\t\t<td>14.2266</td>\n",
       "\t\t<td>4.9594</td>\n",
       "\t</tr>\n",
       "\t<tr>\n",
       "\t\t<td>Bream</td>\n",
       "\t\t<td>500</td>\n",
       "\t\t<td>29.1</td>\n",
       "\t\t<td>31.5</td>\n",
       "\t\t<td>36.4</td>\n",
       "\t\t<td>13.7592</td>\n",
       "\t\t<td>4.368</td>\n",
       "\t</tr>\n",
       "\t<tr>\n",
       "\t\t<td>Bream</td>\n",
       "\t\t<td>340</td>\n",
       "\t\t<td>29.5</td>\n",
       "\t\t<td>32.0</td>\n",
       "\t\t<td>37.3</td>\n",
       "\t\t<td>13.9129</td>\n",
       "\t\t<td>5.0728</td>\n",
       "\t</tr>\n",
       "\t<tr>\n",
       "\t\t<td>Bream</td>\n",
       "\t\t<td>600</td>\n",
       "\t\t<td>29.4</td>\n",
       "\t\t<td>32.0</td>\n",
       "\t\t<td>37.2</td>\n",
       "\t\t<td>14.9544</td>\n",
       "\t\t<td>5.1708</td>\n",
       "\t</tr>\n",
       "\t<tr>\n",
       "\t\t<td>Bream</td>\n",
       "\t\t<td>700</td>\n",
       "\t\t<td>30.4</td>\n",
       "\t\t<td>33.0</td>\n",
       "\t\t<td>38.5</td>\n",
       "\t\t<td>14.938</td>\n",
       "\t\t<td>5.1975</td>\n",
       "\t</tr>\n",
       "\t<tr>\n",
       "\t\t<td>Bream</td>\n",
       "\t\t<td>610</td>\n",
       "\t\t<td>30.9</td>\n",
       "\t\t<td>33.5</td>\n",
       "\t\t<td>38.6</td>\n",
       "\t\t<td>15.633</td>\n",
       "\t\t<td>5.1338</td>\n",
       "\t</tr>\n",
       "\t<tr>\n",
       "\t\t<td>Bream</td>\n",
       "\t\t<td>700</td>\n",
       "\t\t<td>30.4</td>\n",
       "\t\t<td>33.0</td>\n",
       "\t\t<td>38.3</td>\n",
       "\t\t<td>14.8604</td>\n",
       "\t\t<td>5.2854</td>\n",
       "\t</tr>\n",
       "\t<tr>\n",
       "\t\t<td>Bream</td>\n",
       "\t\t<td>475</td>\n",
       "\t\t<td>28.4</td>\n",
       "\t\t<td>31.0</td>\n",
       "\t\t<td>36.2</td>\n",
       "\t\t<td>14.2628</td>\n",
       "\t\t<td>5.1042</td>\n",
       "\t</tr>\n",
       "\t<tr>\n",
       "\t\t<td>Bream</td>\n",
       "\t\t<td>450</td>\n",
       "\t\t<td>27.6</td>\n",
       "\t\t<td>30.0</td>\n",
       "\t\t<td>35.1</td>\n",
       "\t\t<td>14.0049</td>\n",
       "\t\t<td>4.8438</td>\n",
       "\t</tr>\n",
       "\t<tr>\n",
       "\t\t<td>Bream</td>\n",
       "\t\t<td>450</td>\n",
       "\t\t<td>26.8</td>\n",
       "\t\t<td>29.7</td>\n",
       "\t\t<td>34.7</td>\n",
       "\t\t<td>13.6024</td>\n",
       "\t\t<td>4.9274</td>\n",
       "\t</tr>\n",
       "</table></html>"
      ],
      "text/plain": [
       "         Weight  Length1  Length2  Length3   Height   Width\n",
       "Species                                                    \n",
       "Bream       500     28.5     30.7     36.2  14.2266  4.9594\n",
       "Bream       500     29.1     31.5     36.4  13.7592  4.3680\n",
       "Bream       340     29.5     32.0     37.3  13.9129  5.0728\n",
       "Bream       600     29.4     32.0     37.2  14.9544  5.1708\n",
       "Bream       700     30.4     33.0     38.5  14.9380  5.1975\n",
       "Bream       610     30.9     33.5     38.6  15.6330  5.1338\n",
       "Bream       700     30.4     33.0     38.3  14.8604  5.2854\n",
       "Bream       475     28.4     31.0     36.2  14.2628  5.1042\n",
       "Bream       450     27.6     30.0     35.1  14.0049  4.8438\n",
       "Bream       450     26.8     29.7     34.7  13.6024  4.9274"
      ]
     },
     "execution_count": 13,
     "metadata": {},
     "output_type": "execute_result"
    }
   ],
   "source": [
    "#train dataset\n",
    "fish_df_train.head()"
   ]
  },
  {
   "cell_type": "code",
   "execution_count": 14,
   "id": "58c9d763-4f19-449e-a35b-676d4d026acc",
   "metadata": {},
   "outputs": [
    {
     "data": {
      "text/html": [
       "<style type=\"text/css\">\n",
       "\ttable {border:ridge 5px;}\n",
       "\ttable td {border:inset 1px;}\n",
       "\ttable tr#HeaderRow {background-color:grey; color:white;}</style>\n",
       "<html><table>\n",
       "\t<tr id=\"HeaderRow\">\n",
       "\t\t<th>Species</th>\n",
       "\t\t<th>Weight</th>\n",
       "\t\t<th>Length1</th>\n",
       "\t\t<th>Length2</th>\n",
       "\t\t<th>Length3</th>\n",
       "\t\t<th>Height</th>\n",
       "\t\t<th>Width</th>\n",
       "\t</tr>\n",
       "\t<tr>\n",
       "\t\t<td>Bream</td>\n",
       "\t\t<td>390</td>\n",
       "\t\t<td>27.6</td>\n",
       "\t\t<td>30.0</td>\n",
       "\t\t<td>35.0</td>\n",
       "\t\t<td>12.67</td>\n",
       "\t\t<td>4.69</td>\n",
       "\t</tr>\n",
       "\t<tr>\n",
       "\t\t<td>Bream</td>\n",
       "\t\t<td>242</td>\n",
       "\t\t<td>23.2</td>\n",
       "\t\t<td>25.4</td>\n",
       "\t\t<td>30.0</td>\n",
       "\t\t<td>11.52</td>\n",
       "\t\t<td>4.02</td>\n",
       "\t</tr>\n",
       "\t<tr>\n",
       "\t\t<td>Bream</td>\n",
       "\t\t<td>1000</td>\n",
       "\t\t<td>33.5</td>\n",
       "\t\t<td>37.0</td>\n",
       "\t\t<td>42.6</td>\n",
       "\t\t<td>18.957</td>\n",
       "\t\t<td>6.603</td>\n",
       "\t</tr>\n",
       "\t<tr>\n",
       "\t\t<td>Bream</td>\n",
       "\t\t<td>600</td>\n",
       "\t\t<td>29.4</td>\n",
       "\t\t<td>32.0</td>\n",
       "\t\t<td>37.2</td>\n",
       "\t\t<td>15.438</td>\n",
       "\t\t<td>5.58</td>\n",
       "\t</tr>\n",
       "\t<tr>\n",
       "\t\t<td>Parkki</td>\n",
       "\t\t<td>120</td>\n",
       "\t\t<td>17.5</td>\n",
       "\t\t<td>19.0</td>\n",
       "\t\t<td>21.3</td>\n",
       "\t\t<td>8.3922</td>\n",
       "\t\t<td>2.9181</td>\n",
       "\t</tr>\n",
       "\t<tr>\n",
       "\t\t<td>Parkki</td>\n",
       "\t\t<td>170</td>\n",
       "\t\t<td>19.0</td>\n",
       "\t\t<td>20.7</td>\n",
       "\t\t<td>23.2</td>\n",
       "\t\t<td>9.396</td>\n",
       "\t\t<td>3.4104</td>\n",
       "\t</tr>\n",
       "\t<tr>\n",
       "\t\t<td>Parkki</td>\n",
       "\t\t<td>150</td>\n",
       "\t\t<td>18.4</td>\n",
       "\t\t<td>20.0</td>\n",
       "\t\t<td>22.4</td>\n",
       "\t\t<td>8.8928</td>\n",
       "\t\t<td>3.2928</td>\n",
       "\t</tr>\n",
       "\t<tr>\n",
       "\t\t<td>Bream</td>\n",
       "\t\t<td>955</td>\n",
       "\t\t<td>35.0</td>\n",
       "\t\t<td>38.5</td>\n",
       "\t\t<td>44.0</td>\n",
       "\t\t<td>18.084</td>\n",
       "\t\t<td>6.292</td>\n",
       "\t</tr>\n",
       "\t<tr>\n",
       "\t\t<td>Bream</td>\n",
       "\t\t<td>720</td>\n",
       "\t\t<td>32.0</td>\n",
       "\t\t<td>35.0</td>\n",
       "\t\t<td>40.6</td>\n",
       "\t\t<td>16.3618</td>\n",
       "\t\t<td>6.09</td>\n",
       "\t</tr>\n",
       "\t<tr>\n",
       "\t\t<td>Bream</td>\n",
       "\t\t<td>975</td>\n",
       "\t\t<td>37.4</td>\n",
       "\t\t<td>41.0</td>\n",
       "\t\t<td>45.9</td>\n",
       "\t\t<td>18.6354</td>\n",
       "\t\t<td>6.7473</td>\n",
       "\t</tr>\n",
       "</table></html>"
      ],
      "text/plain": [
       "         Weight  Length1  Length2  Length3   Height   Width\n",
       "Species                                                    \n",
       "Bream       390     27.6     30.0     35.0  12.6700  4.6900\n",
       "Bream       242     23.2     25.4     30.0  11.5200  4.0200\n",
       "Bream      1000     33.5     37.0     42.6  18.9570  6.6030\n",
       "Bream       600     29.4     32.0     37.2  15.4380  5.5800\n",
       "Parkki      120     17.5     19.0     21.3   8.3922  2.9181\n",
       "Parkki      170     19.0     20.7     23.2   9.3960  3.4104\n",
       "Parkki      150     18.4     20.0     22.4   8.8928  3.2928\n",
       "Bream       955     35.0     38.5     44.0  18.0840  6.2920\n",
       "Bream       720     32.0     35.0     40.6  16.3618  6.0900\n",
       "Bream       975     37.4     41.0     45.9  18.6354  6.7473"
      ]
     },
     "execution_count": 14,
     "metadata": {},
     "output_type": "execute_result"
    }
   ],
   "source": [
    "# test dataset\n",
    "fish_df_test.head()"
   ]
  },
  {
   "cell_type": "code",
   "execution_count": 16,
   "id": "143f776d-c857-4501-b518-4d5c3f653b12",
   "metadata": {
    "collapsed": true,
    "jupyter": {
     "outputs_hidden": true
    },
    "tags": []
   },
   "outputs": [
    {
     "name": "stdout",
     "output_type": "stream",
     "text": [
      "\n",
      "Generating custom config JSON for AutoML ...\n",
      "\n",
      "Available main options for customization with corresponding indices: \n",
      "--------------------------------------------------------------------------------\n",
      "\n",
      "Index 1: Customize Feature Engineering Phase\n",
      "\n",
      "Index 2: Customize Data Preparation Phase\n",
      "\n",
      "Index 3: Customize Model Training Phase\n",
      "\n",
      "Index 4: Generate custom json and exit\n",
      "--------------------------------------------------------------------------------\n",
      "\n",
      "Enter the index you want to customize:  1\n",
      "\n",
      "Customizing Feature Engineering Phase ...\n",
      "\n",
      "Available options for customization of feature engineering phase with corresponding indices: \n",
      "--------------------------------------------------------------------------------\n",
      "\n",
      "Index 1: Customize Missing Value Handling\n",
      "\n",
      "Index 2: Customize Bincode Encoding\n",
      "\n",
      "Index 3: Customize String Manipulation\n",
      "\n",
      "Index 4: Customize Categorical Encoding\n",
      "\n",
      "Index 5: Customize Mathematical Transformation\n",
      "\n",
      "Index 6: Customize Nonlinear Transformation\n",
      "\n",
      "Index 7: Customize Antiselect Features\n",
      "\n",
      "Index 8: Back to main menu\n",
      "\n",
      "Index 9: Generate custom json and exit\n",
      "--------------------------------------------------------------------------------\n",
      "\n",
      "Enter the list of indices you want to customize in feature engineering phase:  8\n",
      "\n",
      "Customization of feature engineering phase has been completed successfully.\n",
      "\n",
      "Available main options for customization with corresponding indices: \n",
      "--------------------------------------------------------------------------------\n",
      "\n",
      "Index 1: Customize Feature Engineering Phase\n",
      "\n",
      "Index 2: Customize Data Preparation Phase\n",
      "\n",
      "Index 3: Customize Model Training Phase\n",
      "\n",
      "Index 4: Generate custom json and exit\n",
      "--------------------------------------------------------------------------------\n",
      "\n",
      "Enter the index you want to customize:  2\n",
      "\n",
      "Customizing Data Preparation Phase ...\n",
      "\n",
      "Available options for customization of data preparation phase with corresponding indices: \n",
      "--------------------------------------------------------------------------------\n",
      "\n",
      "Index 1: Customize Train Test Split\n",
      "\n",
      "Index 2: Customize Data Imbalance Handling\n",
      "\n",
      "Index 3: Customize Outlier Handling\n",
      "\n",
      "Index 4: Customize Feature Scaling\n",
      "\n",
      "Index 5: Back to main menu\n",
      "\n",
      "Index 6: Generate custom json and exit\n",
      "--------------------------------------------------------------------------------\n",
      "\n",
      "Enter the list of indices you want to customize in data preparation phase:  1,3,4\n",
      "\n",
      "Customizing Train Test Split ...\n",
      "\n",
      "Enter the train size for train test split:  0.7\n",
      "\n",
      "Customization of train test split has been completed successfully.\n",
      "\n",
      "Customizing Outlier Handling ...\n",
      "\n",
      "Available outlier detection methods with corresponding indices:\n",
      "Index 1: percentile\n",
      "Index 2: tukey\n",
      "Index 3: carling\n",
      "\n",
      "Enter the corresponding index oulier handling method:  2\n",
      "\n",
      "Enter the feature or list of features for outlier handling:  Length2\n",
      "\n",
      "Available outlier replacement methods with corresponding indices:\n",
      "Index 1: delete\n",
      "Index 2: median\n",
      "Index 3: Any Numeric Value\n",
      "\n",
      "Enter the index of corresponding replacement method for feature Length2:  2\n",
      "\n",
      "Customization of outlier handling has been completed successfully.\n",
      "\n",
      "Available feature scaling methods with corresponding indices:\n",
      "Index 1: maxabs\n",
      "Index 2: mean\n",
      "Index 3: midrange\n",
      "Index 4: range\n",
      "Index 5: rescale\n",
      "Index 6: std\n",
      "Index 7: sum\n",
      "Index 8: ustd\n",
      "\n",
      "Enter the corresponding index feature scaling method:  6\n",
      "\n",
      "Customization of feature scaling has been completed successfully.\n",
      "\n",
      "Available options for customization of data preparation phase with corresponding indices: \n",
      "--------------------------------------------------------------------------------\n",
      "\n",
      "Index 1: Customize Train Test Split\n",
      "\n",
      "Index 2: Customize Data Imbalance Handling\n",
      "\n",
      "Index 3: Customize Outlier Handling\n",
      "\n",
      "Index 4: Customize Feature Scaling\n",
      "\n",
      "Index 5: Back to main menu\n",
      "\n",
      "Index 6: Generate custom json and exit\n",
      "--------------------------------------------------------------------------------\n",
      "\n",
      "Enter the list of indices you want to customize in data preparation phase:  5\n",
      "\n",
      "Customization of data preparation phase has been completed successfully.\n",
      "\n",
      "Available main options for customization with corresponding indices: \n",
      "--------------------------------------------------------------------------------\n",
      "\n",
      "Index 1: Customize Feature Engineering Phase\n",
      "\n",
      "Index 2: Customize Data Preparation Phase\n",
      "\n",
      "Index 3: Customize Model Training Phase\n",
      "\n",
      "Index 4: Generate custom json and exit\n",
      "--------------------------------------------------------------------------------\n",
      "\n",
      "Enter the index you want to customize:  3\n",
      "\n",
      "Customizing Model Training Phase ...\n",
      "\n",
      "Available options for customization of model training phase with corresponding indices: \n",
      "--------------------------------------------------------------------------------\n",
      "\n",
      "Index 1: Customize Model Hyperparameter\n",
      "\n",
      "Index 2: Back to main menu\n",
      "\n",
      "Index 3: Generate custom json and exit\n",
      "--------------------------------------------------------------------------------\n",
      "\n",
      "Enter the list of indices you want to customize in model training phase:  1\n",
      "\n",
      "Customizing Model Hyperparameter ...\n",
      "\n",
      "Available models for hyperparameter tuning with corresponding indices:\n",
      "Index 1: decision_forest\n",
      "Index 2: xgboost\n",
      "Index 3: knn\n",
      "Index 4: glm\n",
      "Index 5: svm\n",
      "\n",
      "Available hyperparamters update methods with corresponding indices:\n",
      "Index 1: ADD\n",
      "Index 2: REPLACE\n",
      "\n",
      "Enter the list of model indices for performing hyperparameter tuning:  2\n",
      "\n",
      "Available hyperparameters for model 'xgboost' with corresponding indices:\n",
      "Index 1: min_impurity\n",
      "Index 2: max_depth\n",
      "Index 3: min_node_size\n",
      "Index 4: shrinkage_factor\n",
      "Index 5: iter_num\n",
      "\n",
      "Enter the list of hyperparameter indices for model 'xgboost':  2\n",
      "\n",
      "Enter the index of corresponding update method for hyperparameters 'max_depth' for model 'xgboost':  2\n",
      "\n",
      "Enter the list of value for hyperparameter 'max_depth' for model 'xgboost':  4,5,8,10\n",
      "\n",
      "Customization of model hyperparameter has been completed successfully.\n",
      "\n",
      "Available options for customization of model training phase with corresponding indices: \n",
      "--------------------------------------------------------------------------------\n",
      "\n",
      "Index 1: Customize Model Hyperparameter\n",
      "\n",
      "Index 2: Back to main menu\n",
      "\n",
      "Index 3: Generate custom json and exit\n",
      "--------------------------------------------------------------------------------\n",
      "\n",
      "Enter the list of indices you want to customize in model training phase:  3\n",
      "\n",
      "Customization of model training phase has been completed successfully.\n",
      "\n",
      "Process of generating custom config file for AutoML has been completed successfully.\n",
      "\n",
      "'custom_fish_weight.json' file is generated successfully under the current working directory.\n"
     ]
    }
   ],
   "source": [
    "AutoML.generate_custom_config(\"custom_fish_weight\")"
   ]
  },
  {
   "cell_type": "markdown",
   "id": "856ea871-93d8-4ea2-b524-1acb23bd7eb5",
   "metadata": {},
   "source": [
    "## <b><span style='color:#F1A424'>| 2.</span> Fitting AutoML </b>"
   ]
  },
  {
   "cell_type": "code",
   "execution_count": 17,
   "id": "f3650aa5-a408-4227-a88d-79c0f3d36d3c",
   "metadata": {},
   "outputs": [],
   "source": [
    "# Creating AutoML instance\n",
    "# Excluded 'glm' and 'xgboost' from model training.\n",
    "# Keeping early stopping timer threshold to 200 sec\n",
    "# and verbose level 2 for detailed loggging\n",
    "# Using custom config json for custom run\n",
    "\n",
    "aml = AutoML(task_type=\"Regression\", \n",
    "             exclude=['glm', 'xgboost'],\n",
    "             max_runtime_secs=200,\n",
    "             verbose=2,\n",
    "             custom_config_file='custom_fish_weight.json')"
   ]
  },
  {
   "cell_type": "code",
   "execution_count": 18,
   "id": "a1b7a771-1bfa-40c9-8ad0-c377d320c137",
   "metadata": {},
   "outputs": [
    {
     "name": "stdout",
     "output_type": "stream",
     "text": [
      "\n",
      "Received below input for customization : \n",
      "{\n",
      "    \"TrainTestSplitIndicator\": true,\n",
      "    \"TrainingSize\": 0.7,\n",
      "    \"OutlierFilterIndicator\": true,\n",
      "    \"OutlierFilterMethod\": \"tukey\",\n",
      "    \"OutlierFilterParam\": {\n",
      "        \"Length2\": {\n",
      "            \"replacement_value\": \"median\"\n",
      "        }\n",
      "    },\n",
      "    \"FeatureScalingIndicator\": true,\n",
      "    \"FeatureScalingMethod\": \"std\",\n",
      "    \"HyperparameterTuningIndicator\": true,\n",
      "    \"HyperparameterTuningParam\": {\n",
      "        \"xgboost\": {\n",
      "            \"max_depth\": {\n",
      "                \"Method\": \"REPLACE\",\n",
      "                \"Value\": [\n",
      "                    4,\n",
      "                    5,\n",
      "                    8,\n",
      "                    10\n",
      "                ]\n",
      "            }\n",
      "        }\n",
      "    }\n",
      "}\n"
     ]
    },
    {
     "data": {
      "text/html": [
       "\n",
       "            <style>\n",
       "                .custom-div {\n",
       "                    background-color: lightgray;\n",
       "                    color: #000000;\n",
       "                    padding: 10px;\n",
       "                    border-radius: 8px;\n",
       "                    box-shadow: 0 3px 4px rgba(0, 0, 0, 0.2);\n",
       "                    margin-bottom: 10px;\n",
       "                    text-align: center;\n",
       "                }\n",
       "            </style>\n",
       "        <br><div class=\"custom-div\"><h3><span style=\"color: green;\"></span>1. Feature Exploration -> 2. Feature Engineering -> 3. Data Preparation -> 4. Model Training & Evaluation<center></h3></center></div>"
      ],
      "text/plain": [
       "<IPython.core.display.HTML object>"
      ]
     },
     "metadata": {},
     "output_type": "display_data"
    },
    {
     "name": "stdout",
     "output_type": "stream",
     "text": [
      "Feature Exploration started ...\n",
      "\n",
      "Data Overview:\n",
      "Total Rows in the data: 127\n",
      "Total Columns in the data: 7\n",
      "\n",
      "Column Summary:\n"
     ]
    },
    {
     "data": {
      "text/html": [
       "<style type=\"text/css\">\n",
       "\ttable {border:ridge 5px;}\n",
       "\ttable td {border:inset 1px;}\n",
       "\ttable tr#HeaderRow {background-color:grey; color:white;}</style>\n",
       "<html><table>\n",
       "\t<tr id=\"HeaderRow\">\n",
       "\t\t<th>ColumnName</th>\n",
       "\t\t<th>Datatype</th>\n",
       "\t\t<th>NonNullCount</th>\n",
       "\t\t<th>NullCount</th>\n",
       "\t\t<th>BlankCount</th>\n",
       "\t\t<th>ZeroCount</th>\n",
       "\t\t<th>PositiveCount</th>\n",
       "\t\t<th>NegativeCount</th>\n",
       "\t\t<th>NullPercentage</th>\n",
       "\t\t<th>NonNullPercentage</th>\n",
       "\t</tr>\n",
       "\t<tr>\n",
       "\t\t<td>Length1</td>\n",
       "\t\t<td>FLOAT</td>\n",
       "\t\t<td>127</td>\n",
       "\t\t<td>0</td>\n",
       "\t\t<td>None</td>\n",
       "\t\t<td>0</td>\n",
       "\t\t<td>127</td>\n",
       "\t\t<td>0</td>\n",
       "\t\t<td>0.0</td>\n",
       "\t\t<td>100.0</td>\n",
       "\t</tr>\n",
       "\t<tr>\n",
       "\t\t<td>Length2</td>\n",
       "\t\t<td>FLOAT</td>\n",
       "\t\t<td>127</td>\n",
       "\t\t<td>0</td>\n",
       "\t\t<td>None</td>\n",
       "\t\t<td>0</td>\n",
       "\t\t<td>127</td>\n",
       "\t\t<td>0</td>\n",
       "\t\t<td>0.0</td>\n",
       "\t\t<td>100.0</td>\n",
       "\t</tr>\n",
       "\t<tr>\n",
       "\t\t<td>Species</td>\n",
       "\t\t<td>VARCHAR(20) CHARACTER SET LATIN</td>\n",
       "\t\t<td>127</td>\n",
       "\t\t<td>0</td>\n",
       "\t\t<td>0</td>\n",
       "\t\t<td>None</td>\n",
       "\t\t<td>None</td>\n",
       "\t\t<td>None</td>\n",
       "\t\t<td>0.0</td>\n",
       "\t\t<td>100.0</td>\n",
       "\t</tr>\n",
       "\t<tr>\n",
       "\t\t<td>Width</td>\n",
       "\t\t<td>FLOAT</td>\n",
       "\t\t<td>127</td>\n",
       "\t\t<td>0</td>\n",
       "\t\t<td>None</td>\n",
       "\t\t<td>0</td>\n",
       "\t\t<td>127</td>\n",
       "\t\t<td>0</td>\n",
       "\t\t<td>0.0</td>\n",
       "\t\t<td>100.0</td>\n",
       "\t</tr>\n",
       "\t<tr>\n",
       "\t\t<td>Height</td>\n",
       "\t\t<td>FLOAT</td>\n",
       "\t\t<td>127</td>\n",
       "\t\t<td>0</td>\n",
       "\t\t<td>None</td>\n",
       "\t\t<td>0</td>\n",
       "\t\t<td>127</td>\n",
       "\t\t<td>0</td>\n",
       "\t\t<td>0.0</td>\n",
       "\t\t<td>100.0</td>\n",
       "\t</tr>\n",
       "\t<tr>\n",
       "\t\t<td>Weight</td>\n",
       "\t\t<td>INTEGER</td>\n",
       "\t\t<td>127</td>\n",
       "\t\t<td>0</td>\n",
       "\t\t<td>None</td>\n",
       "\t\t<td>0</td>\n",
       "\t\t<td>127</td>\n",
       "\t\t<td>0</td>\n",
       "\t\t<td>0.0</td>\n",
       "\t\t<td>100.0</td>\n",
       "\t</tr>\n",
       "\t<tr>\n",
       "\t\t<td>Length3</td>\n",
       "\t\t<td>FLOAT</td>\n",
       "\t\t<td>127</td>\n",
       "\t\t<td>0</td>\n",
       "\t\t<td>None</td>\n",
       "\t\t<td>0</td>\n",
       "\t\t<td>127</td>\n",
       "\t\t<td>0</td>\n",
       "\t\t<td>0.0</td>\n",
       "\t\t<td>100.0</td>\n",
       "\t</tr>\n",
       "</table></html>"
      ],
      "text/plain": [
       "  ColumnName                         Datatype  NonNullCount  NullCount  BlankCount  ZeroCount  PositiveCount  NegativeCount  NullPercentage  NonNullPercentage\n",
       "0    Length1                            FLOAT           127          0         NaN        0.0          127.0            0.0             0.0              100.0\n",
       "1    Length2                            FLOAT           127          0         NaN        0.0          127.0            0.0             0.0              100.0\n",
       "2    Species  VARCHAR(20) CHARACTER SET LATIN           127          0         0.0        NaN            NaN            NaN             0.0              100.0\n",
       "3      Width                            FLOAT           127          0         NaN        0.0          127.0            0.0             0.0              100.0\n",
       "4     Height                            FLOAT           127          0         NaN        0.0          127.0            0.0             0.0              100.0\n",
       "5     Weight                          INTEGER           127          0         NaN        0.0          127.0            0.0             0.0              100.0\n",
       "6    Length3                            FLOAT           127          0         NaN        0.0          127.0            0.0             0.0              100.0"
      ]
     },
     "metadata": {},
     "output_type": "display_data"
    },
    {
     "name": "stdout",
     "output_type": "stream",
     "text": [
      "\n",
      "Statistics of Data:\n"
     ]
    },
    {
     "data": {
      "text/html": [
       "<style type=\"text/css\">\n",
       "\ttable {border:ridge 5px;}\n",
       "\ttable td {border:inset 1px;}\n",
       "\ttable tr#HeaderRow {background-color:grey; color:white;}</style>\n",
       "<html><table>\n",
       "\t<tr id=\"HeaderRow\">\n",
       "\t\t<th>func</th>\n",
       "\t\t<th>Weight</th>\n",
       "\t\t<th>Length1</th>\n",
       "\t\t<th>Length2</th>\n",
       "\t\t<th>Length3</th>\n",
       "\t\t<th>Height</th>\n",
       "\t\t<th>Width</th>\n",
       "\t</tr>\n",
       "\t<tr>\n",
       "\t\t<td>50%</td>\n",
       "\t\t<td>300</td>\n",
       "\t\t<td>26.3</td>\n",
       "\t\t<td>28.7</td>\n",
       "\t\t<td>31.2</td>\n",
       "\t\t<td>7.792</td>\n",
       "\t\t<td>4.368</td>\n",
       "\t</tr>\n",
       "\t<tr>\n",
       "\t\t<td>count</td>\n",
       "\t\t<td>127</td>\n",
       "\t\t<td>127</td>\n",
       "\t\t<td>127</td>\n",
       "\t\t<td>127</td>\n",
       "\t\t<td>127</td>\n",
       "\t\t<td>127</td>\n",
       "\t</tr>\n",
       "\t<tr>\n",
       "\t\t<td>mean</td>\n",
       "\t\t<td>414.047</td>\n",
       "\t\t<td>26.814</td>\n",
       "\t\t<td>29.001</td>\n",
       "\t\t<td>31.838</td>\n",
       "\t\t<td>9.05</td>\n",
       "\t\t<td>4.502</td>\n",
       "\t</tr>\n",
       "\t<tr>\n",
       "\t\t<td>min</td>\n",
       "\t\t<td>5</td>\n",
       "\t\t<td>7.5</td>\n",
       "\t\t<td>8.4</td>\n",
       "\t\t<td>8.8</td>\n",
       "\t\t<td>1.728</td>\n",
       "\t\t<td>1.048</td>\n",
       "\t</tr>\n",
       "\t<tr>\n",
       "\t\t<td>max</td>\n",
       "\t\t<td>1600</td>\n",
       "\t\t<td>56</td>\n",
       "\t\t<td>60</td>\n",
       "\t\t<td>64</td>\n",
       "\t\t<td>18.754</td>\n",
       "\t\t<td>8.142</td>\n",
       "\t</tr>\n",
       "\t<tr>\n",
       "\t\t<td>75%</td>\n",
       "\t\t<td>682.5</td>\n",
       "\t\t<td>33.25</td>\n",
       "\t\t<td>36</td>\n",
       "\t\t<td>40.15</td>\n",
       "\t\t<td>12.406</td>\n",
       "\t\t<td>5.658</td>\n",
       "\t</tr>\n",
       "\t<tr>\n",
       "\t\t<td>25%</td>\n",
       "\t\t<td>132.5</td>\n",
       "\t\t<td>20</td>\n",
       "\t\t<td>22</td>\n",
       "\t\t<td>23.5</td>\n",
       "\t\t<td>5.945</td>\n",
       "\t\t<td>3.53</td>\n",
       "\t</tr>\n",
       "\t<tr>\n",
       "\t\t<td>std</td>\n",
       "\t\t<td>351.567</td>\n",
       "\t\t<td>9.924</td>\n",
       "\t\t<td>10.625</td>\n",
       "\t\t<td>11.451</td>\n",
       "\t\t<td>4.197</td>\n",
       "\t\t<td>1.689</td>\n",
       "\t</tr>\n",
       "</table></html>"
      ],
      "text/plain": [
       "         Weight  Length1  Length2  Length3   Height    Width\n",
       "func                                                        \n",
       "50%     300.000   26.300   28.700   31.200    7.792    4.368\n",
       "count   127.000  127.000  127.000  127.000  127.000  127.000\n",
       "mean    414.047   26.814   29.001   31.838    9.050    4.502\n",
       "min       5.000    7.500    8.400    8.800    1.728    1.048\n",
       "max    1600.000   56.000   60.000   64.000   18.754    8.142\n",
       "75%     682.500   33.250   36.000   40.150   12.406    5.658\n",
       "25%     132.500   20.000   22.000   23.500    5.945    3.530\n",
       "std     351.567    9.924   10.625   11.451    4.197    1.689"
      ]
     },
     "metadata": {},
     "output_type": "display_data"
    },
    {
     "name": "stdout",
     "output_type": "stream",
     "text": [
      "\n",
      "Categorical Columns with their Distinct values:\n",
      "ColumnName                DistinctValueCount\n",
      "Species                   7         \n",
      "\n",
      "No Futile columns found.\n",
      "\n",
      "Target Column Distribution:\n"
     ]
    },
    {
     "data": {
      "image/png": "[encoded data removed]",
      "text/plain": [
       "<Figure size 800x600 with 1 Axes>"
      ]
     },
     "metadata": {},
     "output_type": "display_data"
    },
    {
     "name": "stdout",
     "output_type": "stream",
     "text": [
      "Columns with outlier percentage :-                                                                                                                                                                                                                                                                                                                                                                                                                                                                                  \n",
      "  ColumnName  OutlierPercentage\n",
      "0    Length2           1.574803\n",
      "1    Length1           1.574803\n",
      "2     Weight           1.574803\n",
      "                                                                                        \r"
     ]
    },
    {
     "data": {
      "text/html": [
       "\n",
       "            <style>\n",
       "                .custom-div {\n",
       "                    background-color: lightgray;\n",
       "                    color: #000000;\n",
       "                    padding: 10px;\n",
       "                    border-radius: 8px;\n",
       "                    box-shadow: 0 3px 4px rgba(0 -  0 -  0 -  0.2);\n",
       "                    margin-bottom: 10px;\n",
       "                    text-align: center;\n",
       "                }\n",
       "            </style>\n",
       "        <br><div class=\"custom-div\"><h3><span style=\"color: green;\">1. Feature Exploration -></span> 2. Feature Engineering -> 3. Data Preparation -> 4. Model Training & Evaluation<center></h3></center></div>"
      ],
      "text/plain": [
       "<IPython.core.display.HTML object>"
      ]
     },
     "metadata": {},
     "output_type": "display_data"
    },
    {
     "name": "stdout",
     "output_type": "stream",
     "text": [
      "                                                                                        \r"
     ]
    },
    {
     "data": {
      "text/html": [
       "Feature Engineering started ..."
      ],
      "text/plain": [
       "<IPython.core.display.HTML object>"
      ]
     },
     "metadata": {},
     "output_type": "display_data"
    },
    {
     "name": "stdout",
     "output_type": "stream",
     "text": [
      "                                                                                        \r"
     ]
    },
    {
     "data": {
      "text/html": [
       "\n",
       "Handling duplicate records present in dataset ..."
      ],
      "text/plain": [
       "<IPython.core.display.HTML object>"
      ]
     },
     "metadata": {},
     "output_type": "display_data"
    },
    {
     "name": "stdout",
     "output_type": "stream",
     "text": [
      "Analysis completed. No action taken.                                                    \n",
      "                                                                                        \r"
     ]
    },
    {
     "data": {
      "text/html": [
       "Total time to handle duplicate records: 1.56 sec  "
      ],
      "text/plain": [
       "<IPython.core.display.HTML object>"
      ]
     },
     "metadata": {},
     "output_type": "display_data"
    },
    {
     "name": "stdout",
     "output_type": "stream",
     "text": [
      "                                                                                        \r"
     ]
    },
    {
     "data": {
      "text/html": [
       "\n",
       "Handling less significant features from data ..."
      ],
      "text/plain": [
       "<IPython.core.display.HTML object>"
      ]
     },
     "metadata": {},
     "output_type": "display_data"
    },
    {
     "name": "stdout",
     "output_type": "stream",
     "text": [
      "Analysis indicates all categorical columns are significant. No action Needed.           \n",
      "                                                                                        \r"
     ]
    },
    {
     "data": {
      "text/html": [
       "Total time to handle less significant features: 15.46 sec  "
      ],
      "text/plain": [
       "<IPython.core.display.HTML object>"
      ]
     },
     "metadata": {},
     "output_type": "display_data"
    },
    {
     "name": "stdout",
     "output_type": "stream",
     "text": [
      "                                                                                        \r"
     ]
    },
    {
     "data": {
      "text/html": [
       "\n",
       "Handling Date Features ..."
      ],
      "text/plain": [
       "<IPython.core.display.HTML object>"
      ]
     },
     "metadata": {},
     "output_type": "display_data"
    },
    {
     "name": "stdout",
     "output_type": "stream",
     "text": [
      "Analysis Completed. Dataset does not contain any feature related to dates. No action needed.\n",
      "                                                                                        \r"
     ]
    },
    {
     "data": {
      "text/html": [
       "Total time to handle date features: 0.00 sec\n"
      ],
      "text/plain": [
       "<IPython.core.display.HTML object>"
      ]
     },
     "metadata": {},
     "output_type": "display_data"
    },
    {
     "name": "stdout",
     "output_type": "stream",
     "text": [
      "Proceeding with default option for missing value imputation.                             \n",
      "Proceeding with default option for handling remaining missing values.                    \n",
      "                                                                                         \r"
     ]
    },
    {
     "data": {
      "text/html": [
       "\n",
       "Checking Missing values in dataset ..."
      ],
      "text/plain": [
       "<IPython.core.display.HTML object>"
      ]
     },
     "metadata": {},
     "output_type": "display_data"
    },
    {
     "name": "stdout",
     "output_type": "stream",
     "text": [
      "Analysis Completed. No Missing Values Detected.                                          \n",
      "                                                                                         \r"
     ]
    },
    {
     "data": {
      "text/html": [
       "Total time to find missing values in data: 7.47 sec  "
      ],
      "text/plain": [
       "<IPython.core.display.HTML object>"
      ]
     },
     "metadata": {},
     "output_type": "display_data"
    },
    {
     "name": "stdout",
     "output_type": "stream",
     "text": [
      "                                                                                         \r"
     ]
    },
    {
     "data": {
      "text/html": [
       "\n",
       "Imputing Missing Values ..."
      ],
      "text/plain": [
       "<IPython.core.display.HTML object>"
      ]
     },
     "metadata": {},
     "output_type": "display_data"
    },
    {
     "name": "stdout",
     "output_type": "stream",
     "text": [
      "Analysis completed. No imputation required.                                              \n",
      "                                                                                         \r"
     ]
    },
    {
     "data": {
      "text/html": [
       "Time taken to perform imputation: 0.01 sec  "
      ],
      "text/plain": [
       "<IPython.core.display.HTML object>"
      ]
     },
     "metadata": {},
     "output_type": "display_data"
    },
    {
     "name": "stdout",
     "output_type": "stream",
     "text": [
      "No information provided for Variable-Width Transformation.                               \n",
      "Skipping customized string manipulation.⫾⫾⫾⫾⫾⫾⫾⫾⫾⫾⫾⫾⫾⫾⫾⫾⫾⫾⫾⫾⫾⫾⫾⫾⫾⫾⫾⫾⫾⫾⫾⫾⫾⫾⫾⫾⫾｜ 23% - 5/21\n",
      "                                                                                         \r"
     ]
    },
    {
     "data": {
      "text/html": [
       "\n",
       "Starting Customized Categorical Feature Encoding ..."
      ],
      "text/plain": [
       "<IPython.core.display.HTML object>"
      ]
     },
     "metadata": {},
     "output_type": "display_data"
    },
    {
     "name": "stdout",
     "output_type": "stream",
     "text": [
      "AutoML will proceed with default encoding technique.                                     \n",
      "                                                                                         \r"
     ]
    },
    {
     "data": {
      "text/html": [
       "\n",
       "Performing encoding for categorical columns ..."
      ],
      "text/plain": [
       "<IPython.core.display.HTML object>"
      ]
     },
     "metadata": {},
     "output_type": "display_data"
    },
    {
     "name": "stdout",
     "output_type": "stream",
     "text": [
      "result data stored in table '\"ALICE\".\"ml__td_sqlmr_persist_out__1719265586472718\"' - 6/21\n",
      "                                                                                         \r"
     ]
    },
    {
     "data": {
      "text/html": [
       "ONE HOT Encoding these Columns:"
      ],
      "text/plain": [
       "<IPython.core.display.HTML object>"
      ]
     },
     "metadata": {},
     "output_type": "display_data"
    },
    {
     "name": "stdout",
     "output_type": "stream",
     "text": [
      "['Species']\n",
      "                                                                                         \r"
     ]
    },
    {
     "data": {
      "text/html": [
       "Sample of dataset after performing one hot encoding:"
      ],
      "text/plain": [
       "<IPython.core.display.HTML object>"
      ]
     },
     "metadata": {},
     "output_type": "display_data"
    },
    {
     "data": {
      "text/html": [
       "<style type=\"text/css\">\n",
       "\ttable {border:ridge 5px;}\n",
       "\ttable td {border:inset 1px;}\n",
       "\ttable tr#HeaderRow {background-color:grey; color:white;}</style>\n",
       "<html><table>\n",
       "\t<tr id=\"HeaderRow\">\n",
       "\t\t<th>Species_0</th>\n",
       "\t\t<th>Species_1</th>\n",
       "\t\t<th>Species_2</th>\n",
       "\t\t<th>Species_3</th>\n",
       "\t\t<th>Species_4</th>\n",
       "\t\t<th>Species_5</th>\n",
       "\t\t<th>Species_6</th>\n",
       "\t\t<th>Weight</th>\n",
       "\t\t<th>Length1</th>\n",
       "\t\t<th>Length2</th>\n",
       "\t\t<th>Length3</th>\n",
       "\t\t<th>Height</th>\n",
       "\t\t<th>Width</th>\n",
       "\t\t<th>id</th>\n",
       "\t</tr>\n",
       "\t<tr>\n",
       "\t\t<td>1</td>\n",
       "\t\t<td>0</td>\n",
       "\t\t<td>0</td>\n",
       "\t\t<td>0</td>\n",
       "\t\t<td>0</td>\n",
       "\t\t<td>0</td>\n",
       "\t\t<td>0</td>\n",
       "\t\t<td>620</td>\n",
       "\t\t<td>31.5</td>\n",
       "\t\t<td>34.5</td>\n",
       "\t\t<td>39.7</td>\n",
       "\t\t<td>15.5227</td>\n",
       "\t\t<td>5.2801</td>\n",
       "\t\t<td>50</td>\n",
       "\t</tr>\n",
       "\t<tr>\n",
       "\t\t<td>1</td>\n",
       "\t\t<td>0</td>\n",
       "\t\t<td>0</td>\n",
       "\t\t<td>0</td>\n",
       "\t\t<td>0</td>\n",
       "\t\t<td>0</td>\n",
       "\t\t<td>0</td>\n",
       "\t\t<td>700</td>\n",
       "\t\t<td>31.9</td>\n",
       "\t\t<td>35.0</td>\n",
       "\t\t<td>40.5</td>\n",
       "\t\t<td>16.2405</td>\n",
       "\t\t<td>5.589</td>\n",
       "\t\t<td>74</td>\n",
       "\t</tr>\n",
       "\t<tr>\n",
       "\t\t<td>1</td>\n",
       "\t\t<td>0</td>\n",
       "\t\t<td>0</td>\n",
       "\t\t<td>0</td>\n",
       "\t\t<td>0</td>\n",
       "\t\t<td>0</td>\n",
       "\t\t<td>0</td>\n",
       "\t\t<td>850</td>\n",
       "\t\t<td>32.8</td>\n",
       "\t\t<td>36.0</td>\n",
       "\t\t<td>41.6</td>\n",
       "\t\t<td>16.8896</td>\n",
       "\t\t<td>6.1984</td>\n",
       "\t\t<td>82</td>\n",
       "\t</tr>\n",
       "\t<tr>\n",
       "\t\t<td>1</td>\n",
       "\t\t<td>0</td>\n",
       "\t\t<td>0</td>\n",
       "\t\t<td>0</td>\n",
       "\t\t<td>0</td>\n",
       "\t\t<td>0</td>\n",
       "\t\t<td>0</td>\n",
       "\t\t<td>430</td>\n",
       "\t\t<td>26.5</td>\n",
       "\t\t<td>29.0</td>\n",
       "\t\t<td>34.0</td>\n",
       "\t\t<td>12.444</td>\n",
       "\t\t<td>5.134</td>\n",
       "\t\t<td>90</td>\n",
       "\t</tr>\n",
       "\t<tr>\n",
       "\t\t<td>1</td>\n",
       "\t\t<td>0</td>\n",
       "\t\t<td>0</td>\n",
       "\t\t<td>0</td>\n",
       "\t\t<td>0</td>\n",
       "\t\t<td>0</td>\n",
       "\t\t<td>0</td>\n",
       "\t\t<td>290</td>\n",
       "\t\t<td>24.0</td>\n",
       "\t\t<td>26.3</td>\n",
       "\t\t<td>31.2</td>\n",
       "\t\t<td>12.48</td>\n",
       "\t\t<td>4.3056</td>\n",
       "\t\t<td>106</td>\n",
       "\t</tr>\n",
       "\t<tr>\n",
       "\t\t<td>1</td>\n",
       "\t\t<td>0</td>\n",
       "\t\t<td>0</td>\n",
       "\t\t<td>0</td>\n",
       "\t\t<td>0</td>\n",
       "\t\t<td>0</td>\n",
       "\t\t<td>0</td>\n",
       "\t\t<td>500</td>\n",
       "\t\t<td>28.7</td>\n",
       "\t\t<td>31.0</td>\n",
       "\t\t<td>36.2</td>\n",
       "\t\t<td>14.3714</td>\n",
       "\t\t<td>4.8146</td>\n",
       "\t\t<td>114</td>\n",
       "\t</tr>\n",
       "\t<tr>\n",
       "\t\t<td>0</td>\n",
       "\t\t<td>1</td>\n",
       "\t\t<td>0</td>\n",
       "\t\t<td>0</td>\n",
       "\t\t<td>0</td>\n",
       "\t\t<td>0</td>\n",
       "\t\t<td>0</td>\n",
       "\t\t<td>200</td>\n",
       "\t\t<td>21.2</td>\n",
       "\t\t<td>23.0</td>\n",
       "\t\t<td>25.8</td>\n",
       "\t\t<td>10.3458</td>\n",
       "\t\t<td>3.6636</td>\n",
       "\t\t<td>24</td>\n",
       "\t</tr>\n",
       "\t<tr>\n",
       "\t\t<td>0</td>\n",
       "\t\t<td>1</td>\n",
       "\t\t<td>0</td>\n",
       "\t\t<td>0</td>\n",
       "\t\t<td>0</td>\n",
       "\t\t<td>0</td>\n",
       "\t\t<td>0</td>\n",
       "\t\t<td>300</td>\n",
       "\t\t<td>24.0</td>\n",
       "\t\t<td>26.0</td>\n",
       "\t\t<td>29.0</td>\n",
       "\t\t<td>11.368</td>\n",
       "\t\t<td>4.234</td>\n",
       "\t\t<td>40</td>\n",
       "\t</tr>\n",
       "\t<tr>\n",
       "\t\t<td>0</td>\n",
       "\t\t<td>1</td>\n",
       "\t\t<td>0</td>\n",
       "\t\t<td>0</td>\n",
       "\t\t<td>0</td>\n",
       "\t\t<td>0</td>\n",
       "\t\t<td>0</td>\n",
       "\t\t<td>140</td>\n",
       "\t\t<td>19.0</td>\n",
       "\t\t<td>20.7</td>\n",
       "\t\t<td>23.2</td>\n",
       "\t\t<td>8.5376</td>\n",
       "\t\t<td>3.2944</td>\n",
       "\t\t<td>48</td>\n",
       "\t</tr>\n",
       "\t<tr>\n",
       "\t\t<td>0</td>\n",
       "\t\t<td>1</td>\n",
       "\t\t<td>0</td>\n",
       "\t\t<td>0</td>\n",
       "\t\t<td>0</td>\n",
       "\t\t<td>0</td>\n",
       "\t\t<td>0</td>\n",
       "\t\t<td>145</td>\n",
       "\t\t<td>19.8</td>\n",
       "\t\t<td>21.5</td>\n",
       "\t\t<td>24.1</td>\n",
       "\t\t<td>9.7364</td>\n",
       "\t\t<td>3.1571</td>\n",
       "\t\t<td>56</td>\n",
       "\t</tr>\n",
       "</table></html>"
      ],
      "text/plain": [
       "           Species_1  Species_2  Species_3  Species_4  Species_5  Species_6  Weight  Length1  Length2  Length3   Height   Width   id\n",
       "Species_0                                                                                                                           \n",
       "1                  0          0          0          0          0          0     620     31.5     34.5     39.7  15.5227  5.2801   50\n",
       "1                  0          0          0          0          0          0     700     31.9     35.0     40.5  16.2405  5.5890   74\n",
       "1                  0          0          0          0          0          0     850     32.8     36.0     41.6  16.8896  6.1984   82\n",
       "1                  0          0          0          0          0          0     430     26.5     29.0     34.0  12.4440  5.1340   90\n",
       "1                  0          0          0          0          0          0     290     24.0     26.3     31.2  12.4800  4.3056  106\n",
       "1                  0          0          0          0          0          0     500     28.7     31.0     36.2  14.3714  4.8146  114\n",
       "0                  1          0          0          0          0          0     200     21.2     23.0     25.8  10.3458  3.6636   24\n",
       "0                  1          0          0          0          0          0     300     24.0     26.0     29.0  11.3680  4.2340   40\n",
       "0                  1          0          0          0          0          0     140     19.0     20.7     23.2   8.5376  3.2944   48\n",
       "0                  1          0          0          0          0          0     145     19.8     21.5     24.1   9.7364  3.1571   56"
      ]
     },
     "metadata": {},
     "output_type": "display_data"
    },
    {
     "name": "stdout",
     "output_type": "stream",
     "text": [
      "                                                                                         \r"
     ]
    },
    {
     "data": {
      "text/html": [
       "127 rows X 14 columns"
      ],
      "text/plain": [
       "<IPython.core.display.HTML object>"
      ]
     },
     "metadata": {},
     "output_type": "display_data"
    },
    {
     "name": "stdout",
     "output_type": "stream",
     "text": [
      "                                                                                         \r"
     ]
    },
    {
     "data": {
      "text/html": [
       "Time taken to encode the columns: 13.37 sec"
      ],
      "text/plain": [
       "<IPython.core.display.HTML object>"
      ]
     },
     "metadata": {},
     "output_type": "display_data"
    },
    {
     "name": "stdout",
     "output_type": "stream",
     "text": [
      "                                                                                         \r"
     ]
    },
    {
     "data": {
      "text/html": [
       "\n",
       "Starting customized mathematical transformation ..."
      ],
      "text/plain": [
       "<IPython.core.display.HTML object>"
      ]
     },
     "metadata": {},
     "output_type": "display_data"
    },
    {
     "name": "stdout",
     "output_type": "stream",
     "text": [
      "Skipping customized mathematical transformation.                                         \n",
      "                                                                                         \r"
     ]
    },
    {
     "data": {
      "text/html": [
       "\n",
       "Starting customized non-linear transformation ..."
      ],
      "text/plain": [
       "<IPython.core.display.HTML object>"
      ]
     },
     "metadata": {},
     "output_type": "display_data"
    },
    {
     "name": "stdout",
     "output_type": "stream",
     "text": [
      "Skipping customized non-linear transformation.                                           \n",
      "                                                                                         \r"
     ]
    },
    {
     "data": {
      "text/html": [
       "\n",
       "Starting customized anti-select columns ..."
      ],
      "text/plain": [
       "<IPython.core.display.HTML object>"
      ]
     },
     "metadata": {},
     "output_type": "display_data"
    },
    {
     "name": "stdout",
     "output_type": "stream",
     "text": [
      "Skipping customized anti-select columns.                                                 \n",
      "                                                                                          \r"
     ]
    },
    {
     "data": {
      "text/html": [
       "\n",
       "            <style>\n",
       "                .custom-div {\n",
       "                    background-color: lightgray;\n",
       "                    color: #000000;\n",
       "                    padding: 10px;\n",
       "                    border-radius: 8px;\n",
       "                    box-shadow: 0 3px 4px rgba(0 -  0 -  0 -  0.2);\n",
       "                    margin-bottom: 10px;\n",
       "                    text-align: center;\n",
       "                }\n",
       "            </style>\n",
       "        <br><div class=\"custom-div\"><h3><span style=\"color: green;\">1. Feature Exploration -> 2. Feature Engineering -></span> 3. Data Preparation -> 4. Model Training & Evaluation<center></h3></center></div>"
      ],
      "text/plain": [
       "<IPython.core.display.HTML object>"
      ]
     },
     "metadata": {},
     "output_type": "display_data"
    },
    {
     "name": "stdout",
     "output_type": "stream",
     "text": [
      "                                                                                          \r"
     ]
    },
    {
     "data": {
      "text/html": [
       "Data preparation started ..."
      ],
      "text/plain": [
       "<IPython.core.display.HTML object>"
      ]
     },
     "metadata": {},
     "output_type": "display_data"
    },
    {
     "name": "stdout",
     "output_type": "stream",
     "text": [
      "                                                                                          \r"
     ]
    },
    {
     "data": {
      "text/html": [
       "\n",
       "Spliting of dataset into training and testing ..."
      ],
      "text/plain": [
       "<IPython.core.display.HTML object>"
      ]
     },
     "metadata": {},
     "output_type": "display_data"
    },
    {
     "name": "stdout",
     "output_type": "stream",
     "text": [
      "Training size : 0.7                                                                       \n",
      "Testing size  : 0.3                                                                       \n",
      "                                                                                          \r"
     ]
    },
    {
     "data": {
      "text/html": [
       "Training data sample"
      ],
      "text/plain": [
       "<IPython.core.display.HTML object>"
      ]
     },
     "metadata": {},
     "output_type": "display_data"
    },
    {
     "data": {
      "text/html": [
       "<style type=\"text/css\">\n",
       "\ttable {border:ridge 5px;}\n",
       "\ttable td {border:inset 1px;}\n",
       "\ttable tr#HeaderRow {background-color:grey; color:white;}</style>\n",
       "<html><table>\n",
       "\t<tr id=\"HeaderRow\">\n",
       "\t\t<th>Species_0</th>\n",
       "\t\t<th>Species_1</th>\n",
       "\t\t<th>Species_2</th>\n",
       "\t\t<th>Species_3</th>\n",
       "\t\t<th>Species_4</th>\n",
       "\t\t<th>Species_5</th>\n",
       "\t\t<th>Species_6</th>\n",
       "\t\t<th>Weight</th>\n",
       "\t\t<th>Length1</th>\n",
       "\t\t<th>Length2</th>\n",
       "\t\t<th>Length3</th>\n",
       "\t\t<th>Height</th>\n",
       "\t\t<th>Width</th>\n",
       "\t\t<th>id</th>\n",
       "\t</tr>\n",
       "\t<tr>\n",
       "\t\t<td>1</td>\n",
       "\t\t<td>0</td>\n",
       "\t\t<td>0</td>\n",
       "\t\t<td>0</td>\n",
       "\t\t<td>0</td>\n",
       "\t\t<td>0</td>\n",
       "\t\t<td>0</td>\n",
       "\t\t<td>680</td>\n",
       "\t\t<td>31.8</td>\n",
       "\t\t<td>35.0</td>\n",
       "\t\t<td>40.6</td>\n",
       "\t\t<td>15.4686</td>\n",
       "\t\t<td>6.1306</td>\n",
       "\t\t<td>58</td>\n",
       "\t</tr>\n",
       "\t<tr>\n",
       "\t\t<td>1</td>\n",
       "\t\t<td>0</td>\n",
       "\t\t<td>0</td>\n",
       "\t\t<td>0</td>\n",
       "\t\t<td>0</td>\n",
       "\t\t<td>0</td>\n",
       "\t\t<td>0</td>\n",
       "\t\t<td>700</td>\n",
       "\t\t<td>31.9</td>\n",
       "\t\t<td>35.0</td>\n",
       "\t\t<td>40.5</td>\n",
       "\t\t<td>16.2405</td>\n",
       "\t\t<td>5.589</td>\n",
       "\t\t<td>74</td>\n",
       "\t</tr>\n",
       "\t<tr>\n",
       "\t\t<td>1</td>\n",
       "\t\t<td>0</td>\n",
       "\t\t<td>0</td>\n",
       "\t\t<td>0</td>\n",
       "\t\t<td>0</td>\n",
       "\t\t<td>0</td>\n",
       "\t\t<td>0</td>\n",
       "\t\t<td>850</td>\n",
       "\t\t<td>32.8</td>\n",
       "\t\t<td>36.0</td>\n",
       "\t\t<td>41.6</td>\n",
       "\t\t<td>16.8896</td>\n",
       "\t\t<td>6.1984</td>\n",
       "\t\t<td>82</td>\n",
       "\t</tr>\n",
       "\t<tr>\n",
       "\t\t<td>1</td>\n",
       "\t\t<td>0</td>\n",
       "\t\t<td>0</td>\n",
       "\t\t<td>0</td>\n",
       "\t\t<td>0</td>\n",
       "\t\t<td>0</td>\n",
       "\t\t<td>0</td>\n",
       "\t\t<td>430</td>\n",
       "\t\t<td>26.5</td>\n",
       "\t\t<td>29.0</td>\n",
       "\t\t<td>34.0</td>\n",
       "\t\t<td>12.444</td>\n",
       "\t\t<td>5.134</td>\n",
       "\t\t<td>90</td>\n",
       "\t</tr>\n",
       "\t<tr>\n",
       "\t\t<td>1</td>\n",
       "\t\t<td>0</td>\n",
       "\t\t<td>0</td>\n",
       "\t\t<td>0</td>\n",
       "\t\t<td>0</td>\n",
       "\t\t<td>0</td>\n",
       "\t\t<td>0</td>\n",
       "\t\t<td>290</td>\n",
       "\t\t<td>24.0</td>\n",
       "\t\t<td>26.3</td>\n",
       "\t\t<td>31.2</td>\n",
       "\t\t<td>12.48</td>\n",
       "\t\t<td>4.3056</td>\n",
       "\t\t<td>106</td>\n",
       "\t</tr>\n",
       "\t<tr>\n",
       "\t\t<td>1</td>\n",
       "\t\t<td>0</td>\n",
       "\t\t<td>0</td>\n",
       "\t\t<td>0</td>\n",
       "\t\t<td>0</td>\n",
       "\t\t<td>0</td>\n",
       "\t\t<td>0</td>\n",
       "\t\t<td>500</td>\n",
       "\t\t<td>28.7</td>\n",
       "\t\t<td>31.0</td>\n",
       "\t\t<td>36.2</td>\n",
       "\t\t<td>14.3714</td>\n",
       "\t\t<td>4.8146</td>\n",
       "\t\t<td>114</td>\n",
       "\t</tr>\n",
       "\t<tr>\n",
       "\t\t<td>0</td>\n",
       "\t\t<td>1</td>\n",
       "\t\t<td>0</td>\n",
       "\t\t<td>0</td>\n",
       "\t\t<td>0</td>\n",
       "\t\t<td>0</td>\n",
       "\t\t<td>0</td>\n",
       "\t\t<td>273</td>\n",
       "\t\t<td>23.0</td>\n",
       "\t\t<td>25.0</td>\n",
       "\t\t<td>28.0</td>\n",
       "\t\t<td>11.088</td>\n",
       "\t\t<td>4.144</td>\n",
       "\t\t<td>8</td>\n",
       "\t</tr>\n",
       "\t<tr>\n",
       "\t\t<td>0</td>\n",
       "\t\t<td>0</td>\n",
       "\t\t<td>0</td>\n",
       "\t\t<td>0</td>\n",
       "\t\t<td>0</td>\n",
       "\t\t<td>1</td>\n",
       "\t\t<td>0</td>\n",
       "\t\t<td>8</td>\n",
       "\t\t<td>10.8</td>\n",
       "\t\t<td>11.3</td>\n",
       "\t\t<td>12.6</td>\n",
       "\t\t<td>1.9782</td>\n",
       "\t\t<td>1.2852</td>\n",
       "\t\t<td>15</td>\n",
       "\t</tr>\n",
       "\t<tr>\n",
       "\t\t<td>0</td>\n",
       "\t\t<td>0</td>\n",
       "\t\t<td>0</td>\n",
       "\t\t<td>1</td>\n",
       "\t\t<td>0</td>\n",
       "\t\t<td>0</td>\n",
       "\t\t<td>0</td>\n",
       "\t\t<td>345</td>\n",
       "\t\t<td>36.0</td>\n",
       "\t\t<td>38.5</td>\n",
       "\t\t<td>41.0</td>\n",
       "\t\t<td>6.396</td>\n",
       "\t\t<td>3.977</td>\n",
       "\t\t<td>21</td>\n",
       "\t</tr>\n",
       "\t<tr>\n",
       "\t\t<td>0</td>\n",
       "\t\t<td>0</td>\n",
       "\t\t<td>0</td>\n",
       "\t\t<td>0</td>\n",
       "\t\t<td>0</td>\n",
       "\t\t<td>1</td>\n",
       "\t\t<td>0</td>\n",
       "\t\t<td>12</td>\n",
       "\t\t<td>12.1</td>\n",
       "\t\t<td>13.0</td>\n",
       "\t\t<td>13.8</td>\n",
       "\t\t<td>2.277</td>\n",
       "\t\t<td>1.2558</td>\n",
       "\t\t<td>23</td>\n",
       "\t</tr>\n",
       "</table></html>"
      ],
      "text/plain": [
       "   Species_0  Species_1  Species_2  Species_3  Species_4  Species_5  Species_6  Weight  Length1  Length2  Length3   Height   Width   id\n",
       "0          1          0          0          0          0          0          0     680     31.8     35.0     40.6  15.4686  6.1306   58\n",
       "1          1          0          0          0          0          0          0     700     31.9     35.0     40.5  16.2405  5.5890   74\n",
       "2          1          0          0          0          0          0          0     850     32.8     36.0     41.6  16.8896  6.1984   82\n",
       "3          1          0          0          0          0          0          0     430     26.5     29.0     34.0  12.4440  5.1340   90\n",
       "4          1          0          0          0          0          0          0     290     24.0     26.3     31.2  12.4800  4.3056  106\n",
       "5          1          0          0          0          0          0          0     500     28.7     31.0     36.2  14.3714  4.8146  114\n",
       "6          0          1          0          0          0          0          0     273     23.0     25.0     28.0  11.0880  4.1440    8\n",
       "7          0          0          0          0          0          1          0       8     10.8     11.3     12.6   1.9782  1.2852   15\n",
       "8          0          0          0          1          0          0          0     345     36.0     38.5     41.0   6.3960  3.9770   21\n",
       "9          0          0          0          0          0          1          0      12     12.1     13.0     13.8   2.2770  1.2558   23"
      ]
     },
     "metadata": {},
     "output_type": "display_data"
    },
    {
     "name": "stdout",
     "output_type": "stream",
     "text": [
      "                                                                                          \r"
     ]
    },
    {
     "data": {
      "text/html": [
       "88 rows X 14 columns"
      ],
      "text/plain": [
       "<IPython.core.display.HTML object>"
      ]
     },
     "metadata": {},
     "output_type": "display_data"
    },
    {
     "name": "stdout",
     "output_type": "stream",
     "text": [
      "                                                                                          \r"
     ]
    },
    {
     "data": {
      "text/html": [
       "Testing data sample"
      ],
      "text/plain": [
       "<IPython.core.display.HTML object>"
      ]
     },
     "metadata": {},
     "output_type": "display_data"
    },
    {
     "data": {
      "text/html": [
       "<style type=\"text/css\">\n",
       "\ttable {border:ridge 5px;}\n",
       "\ttable td {border:inset 1px;}\n",
       "\ttable tr#HeaderRow {background-color:grey; color:white;}</style>\n",
       "<html><table>\n",
       "\t<tr id=\"HeaderRow\">\n",
       "\t\t<th>Species_0</th>\n",
       "\t\t<th>Species_1</th>\n",
       "\t\t<th>Species_2</th>\n",
       "\t\t<th>Species_3</th>\n",
       "\t\t<th>Species_4</th>\n",
       "\t\t<th>Species_5</th>\n",
       "\t\t<th>Species_6</th>\n",
       "\t\t<th>Weight</th>\n",
       "\t\t<th>Length1</th>\n",
       "\t\t<th>Length2</th>\n",
       "\t\t<th>Length3</th>\n",
       "\t\t<th>Height</th>\n",
       "\t\t<th>Width</th>\n",
       "\t\t<th>id</th>\n",
       "\t</tr>\n",
       "\t<tr>\n",
       "\t\t<td>1</td>\n",
       "\t\t<td>0</td>\n",
       "\t\t<td>0</td>\n",
       "\t\t<td>0</td>\n",
       "\t\t<td>0</td>\n",
       "\t\t<td>0</td>\n",
       "\t\t<td>0</td>\n",
       "\t\t<td>925</td>\n",
       "\t\t<td>36.2</td>\n",
       "\t\t<td>39.5</td>\n",
       "\t\t<td>45.3</td>\n",
       "\t\t<td>18.7542</td>\n",
       "\t\t<td>6.7497</td>\n",
       "\t\t<td>42</td>\n",
       "\t</tr>\n",
       "\t<tr>\n",
       "\t\t<td>1</td>\n",
       "\t\t<td>0</td>\n",
       "\t\t<td>0</td>\n",
       "\t\t<td>0</td>\n",
       "\t\t<td>0</td>\n",
       "\t\t<td>0</td>\n",
       "\t\t<td>0</td>\n",
       "\t\t<td>475</td>\n",
       "\t\t<td>28.4</td>\n",
       "\t\t<td>31.0</td>\n",
       "\t\t<td>36.2</td>\n",
       "\t\t<td>14.2628</td>\n",
       "\t\t<td>5.1042</td>\n",
       "\t\t<td>122</td>\n",
       "\t</tr>\n",
       "\t<tr>\n",
       "\t\t<td>1</td>\n",
       "\t\t<td>0</td>\n",
       "\t\t<td>0</td>\n",
       "\t\t<td>0</td>\n",
       "\t\t<td>0</td>\n",
       "\t\t<td>0</td>\n",
       "\t\t<td>0</td>\n",
       "\t\t<td>950</td>\n",
       "\t\t<td>38.0</td>\n",
       "\t\t<td>41.0</td>\n",
       "\t\t<td>46.5</td>\n",
       "\t\t<td>17.6235</td>\n",
       "\t\t<td>6.3705</td>\n",
       "\t\t<td>154</td>\n",
       "\t</tr>\n",
       "\t<tr>\n",
       "\t\t<td>1</td>\n",
       "\t\t<td>0</td>\n",
       "\t\t<td>0</td>\n",
       "\t\t<td>0</td>\n",
       "\t\t<td>0</td>\n",
       "\t\t<td>0</td>\n",
       "\t\t<td>0</td>\n",
       "\t\t<td>600</td>\n",
       "\t\t<td>29.4</td>\n",
       "\t\t<td>32.0</td>\n",
       "\t\t<td>37.2</td>\n",
       "\t\t<td>14.9544</td>\n",
       "\t\t<td>5.1708</td>\n",
       "\t\t<td>186</td>\n",
       "\t</tr>\n",
       "\t<tr>\n",
       "\t\t<td>1</td>\n",
       "\t\t<td>0</td>\n",
       "\t\t<td>0</td>\n",
       "\t\t<td>0</td>\n",
       "\t\t<td>0</td>\n",
       "\t\t<td>0</td>\n",
       "\t\t<td>0</td>\n",
       "\t\t<td>725</td>\n",
       "\t\t<td>31.8</td>\n",
       "\t\t<td>35.0</td>\n",
       "\t\t<td>40.9</td>\n",
       "\t\t<td>16.36</td>\n",
       "\t\t<td>6.0532</td>\n",
       "\t\t<td>202</td>\n",
       "\t</tr>\n",
       "\t<tr>\n",
       "\t\t<td>0</td>\n",
       "\t\t<td>0</td>\n",
       "\t\t<td>0</td>\n",
       "\t\t<td>0</td>\n",
       "\t\t<td>1</td>\n",
       "\t\t<td>0</td>\n",
       "\t\t<td>0</td>\n",
       "\t\t<td>145</td>\n",
       "\t\t<td>20.5</td>\n",
       "\t\t<td>22.0</td>\n",
       "\t\t<td>24.3</td>\n",
       "\t\t<td>6.6339</td>\n",
       "\t\t<td>3.5478</td>\n",
       "\t\t<td>12</td>\n",
       "\t</tr>\n",
       "\t<tr>\n",
       "\t\t<td>0</td>\n",
       "\t\t<td>0</td>\n",
       "\t\t<td>0</td>\n",
       "\t\t<td>1</td>\n",
       "\t\t<td>0</td>\n",
       "\t\t<td>0</td>\n",
       "\t\t<td>0</td>\n",
       "\t\t<td>300</td>\n",
       "\t\t<td>32.7</td>\n",
       "\t\t<td>35.0</td>\n",
       "\t\t<td>38.8</td>\n",
       "\t\t<td>5.9364</td>\n",
       "\t\t<td>4.3844</td>\n",
       "\t\t<td>13</td>\n",
       "\t</tr>\n",
       "\t<tr>\n",
       "\t\t<td>0</td>\n",
       "\t\t<td>1</td>\n",
       "\t\t<td>0</td>\n",
       "\t\t<td>0</td>\n",
       "\t\t<td>0</td>\n",
       "\t\t<td>0</td>\n",
       "\t\t<td>0</td>\n",
       "\t\t<td>90</td>\n",
       "\t\t<td>16.3</td>\n",
       "\t\t<td>17.7</td>\n",
       "\t\t<td>19.8</td>\n",
       "\t\t<td>7.4052</td>\n",
       "\t\t<td>2.673</td>\n",
       "\t\t<td>16</td>\n",
       "\t</tr>\n",
       "\t<tr>\n",
       "\t\t<td>0</td>\n",
       "\t\t<td>0</td>\n",
       "\t\t<td>0</td>\n",
       "\t\t<td>0</td>\n",
       "\t\t<td>1</td>\n",
       "\t\t<td>0</td>\n",
       "\t\t<td>0</td>\n",
       "\t\t<td>150</td>\n",
       "\t\t<td>20.4</td>\n",
       "\t\t<td>22.0</td>\n",
       "\t\t<td>24.7</td>\n",
       "\t\t<td>5.8045</td>\n",
       "\t\t<td>3.7544</td>\n",
       "\t\t<td>20</td>\n",
       "\t</tr>\n",
       "\t<tr>\n",
       "\t\t<td>0</td>\n",
       "\t\t<td>0</td>\n",
       "\t\t<td>0</td>\n",
       "\t\t<td>1</td>\n",
       "\t\t<td>0</td>\n",
       "\t\t<td>0</td>\n",
       "\t\t<td>0</td>\n",
       "\t\t<td>300</td>\n",
       "\t\t<td>31.7</td>\n",
       "\t\t<td>34.0</td>\n",
       "\t\t<td>37.8</td>\n",
       "\t\t<td>5.7078</td>\n",
       "\t\t<td>4.158</td>\n",
       "\t\t<td>37</td>\n",
       "\t</tr>\n",
       "</table></html>"
      ],
      "text/plain": [
       "   Species_0  Species_1  Species_2  Species_3  Species_4  Species_5  Species_6  Weight  Length1  Length2  Length3   Height   Width   id\n",
       "0          1          0          0          0          0          0          0     925     36.2     39.5     45.3  18.7542  6.7497   42\n",
       "1          1          0          0          0          0          0          0     475     28.4     31.0     36.2  14.2628  5.1042  122\n",
       "2          1          0          0          0          0          0          0     950     38.0     41.0     46.5  17.6235  6.3705  154\n",
       "3          1          0          0          0          0          0          0     600     29.4     32.0     37.2  14.9544  5.1708  186\n",
       "4          1          0          0          0          0          0          0     725     31.8     35.0     40.9  16.3600  6.0532  202\n",
       "5          0          0          0          0          1          0          0     145     20.5     22.0     24.3   6.6339  3.5478   12\n",
       "6          0          0          0          1          0          0          0     300     32.7     35.0     38.8   5.9364  4.3844   13\n",
       "7          0          1          0          0          0          0          0      90     16.3     17.7     19.8   7.4052  2.6730   16\n",
       "8          0          0          0          0          1          0          0     150     20.4     22.0     24.7   5.8045  3.7544   20\n",
       "9          0          0          0          1          0          0          0     300     31.7     34.0     37.8   5.7078  4.1580   37"
      ]
     },
     "metadata": {},
     "output_type": "display_data"
    },
    {
     "name": "stdout",
     "output_type": "stream",
     "text": [
      "                                                                                          \r"
     ]
    },
    {
     "data": {
      "text/html": [
       "39 rows X 14 columns"
      ],
      "text/plain": [
       "<IPython.core.display.HTML object>"
      ]
     },
     "metadata": {},
     "output_type": "display_data"
    },
    {
     "name": "stdout",
     "output_type": "stream",
     "text": [
      "                                                                                          \r"
     ]
    },
    {
     "data": {
      "text/html": [
       "Time taken for spliting of data: 10.85 sec  "
      ],
      "text/plain": [
       "<IPython.core.display.HTML object>"
      ]
     },
     "metadata": {},
     "output_type": "display_data"
    },
    {
     "name": "stdout",
     "output_type": "stream",
     "text": [
      "                                                                                          \r"
     ]
    },
    {
     "data": {
      "text/html": [
       "\n",
       "Starting customized outlier processing ..."
      ],
      "text/plain": [
       "<IPython.core.display.HTML object>"
      ]
     },
     "metadata": {},
     "output_type": "display_data"
    },
    {
     "name": "stdout",
     "output_type": "stream",
     "text": [
      "Columns with outlier percentage :-                                                                                                                                                                                                                                                                                                                                                                                                                                                                                  \n",
      "  ColumnName  OutlierPercentage\n",
      "0    Length3           9.448819\n",
      "1    Length1           9.448819\n",
      "2    Length2           9.448819\n",
      "3      Width           9.448819\n",
      "4     Weight           8.661417\n",
      "5         id           9.448819\n",
      "6     Height           9.448819\n",
      "result data stored in table '\"ALICE\".\"ml__td_sqlmr_persist_out__1719265067256214\"'\n",
      "result data stored in table '\"ALICE\".\"ml__td_sqlmr_persist_out__1719266305825272\"' - 12/21\n",
      "result data stored in table '\"ALICE\".\"ml__td_sqlmr_persist_out__1719265599594825\"'\n",
      "                                                                                          \r"
     ]
    },
    {
     "data": {
      "text/html": [
       "\n",
       "Feature selection using lasso ..."
      ],
      "text/plain": [
       "<IPython.core.display.HTML object>"
      ]
     },
     "metadata": {},
     "output_type": "display_data"
    },
    {
     "name": "stdout",
     "output_type": "stream",
     "text": [
      "                                                                                          \r"
     ]
    },
    {
     "data": {
      "text/html": [
       "feature selected by lasso:"
      ],
      "text/plain": [
       "<IPython.core.display.HTML object>"
      ]
     },
     "metadata": {},
     "output_type": "display_data"
    },
    {
     "name": "stdout",
     "output_type": "stream",
     "text": [
      "['Species_0', 'Species_4', 'Species_3', 'Species_5', 'Species_1', 'Species_6', 'Species_2', 'Length1', 'Length2', 'Length3', 'Height', 'Width']\n",
      "                                                                                          \r"
     ]
    },
    {
     "data": {
      "text/html": [
       "Total time taken by feature selection: 0.65 sec  "
      ],
      "text/plain": [
       "<IPython.core.display.HTML object>"
      ]
     },
     "metadata": {},
     "output_type": "display_data"
    },
    {
     "name": "stdout",
     "output_type": "stream",
     "text": [
      "                                                                                          \r"
     ]
    },
    {
     "data": {
      "text/html": [
       "\n",
       "scaling Features of lasso data ..."
      ],
      "text/plain": [
       "<IPython.core.display.HTML object>"
      ]
     },
     "metadata": {},
     "output_type": "display_data"
    },
    {
     "name": "stdout",
     "output_type": "stream",
     "text": [
      "                                                                                          \r"
     ]
    },
    {
     "data": {
      "text/html": [
       "columns that will be scaled: "
      ],
      "text/plain": [
       "<IPython.core.display.HTML object>"
      ]
     },
     "metadata": {},
     "output_type": "display_data"
    },
    {
     "name": "stdout",
     "output_type": "stream",
     "text": [
      "['Length1', 'Length2', 'Length3', 'Height', 'Width']\n",
      "                                                                                          \r"
     ]
    },
    {
     "data": {
      "text/html": [
       "Training dataset sample after scaling:"
      ],
      "text/plain": [
       "<IPython.core.display.HTML object>"
      ]
     },
     "metadata": {},
     "output_type": "display_data"
    },
    {
     "data": {
      "text/html": [
       "<style type=\"text/css\">\n",
       "\ttable {border:ridge 5px;}\n",
       "\ttable td {border:inset 1px;}\n",
       "\ttable tr#HeaderRow {background-color:grey; color:white;}</style>\n",
       "<html><table>\n",
       "\t<tr id=\"HeaderRow\">\n",
       "\t\t<th>Species_0</th>\n",
       "\t\t<th>Species_4</th>\n",
       "\t\t<th>Species_3</th>\n",
       "\t\t<th>Weight</th>\n",
       "\t\t<th>Species_5</th>\n",
       "\t\t<th>id</th>\n",
       "\t\t<th>Species_1</th>\n",
       "\t\t<th>Species_6</th>\n",
       "\t\t<th>Species_2</th>\n",
       "\t\t<th>Length1</th>\n",
       "\t\t<th>Length2</th>\n",
       "\t\t<th>Length3</th>\n",
       "\t\t<th>Height</th>\n",
       "\t\t<th>Width</th>\n",
       "\t</tr>\n",
       "\t<tr>\n",
       "\t\t<td>0</td>\n",
       "\t\t<td>0</td>\n",
       "\t\t<td>0</td>\n",
       "\t\t<td>8</td>\n",
       "\t\t<td>1</td>\n",
       "\t\t<td>15</td>\n",
       "\t\t<td>0</td>\n",
       "\t\t<td>0</td>\n",
       "\t\t<td>0</td>\n",
       "\t\t<td>-1.5795465017949906</td>\n",
       "\t\t<td>-2.074193513474164</td>\n",
       "\t\t<td>-1.6503988114495387</td>\n",
       "\t\t<td>-1.7370274383121174</td>\n",
       "\t\t<td>-1.8704914843731173</td>\n",
       "\t</tr>\n",
       "\t<tr>\n",
       "\t\t<td>0</td>\n",
       "\t\t<td>0</td>\n",
       "\t\t<td>0</td>\n",
       "\t\t<td>12</td>\n",
       "\t\t<td>1</td>\n",
       "\t\t<td>23</td>\n",
       "\t\t<td>0</td>\n",
       "\t\t<td>0</td>\n",
       "\t\t<td>0</td>\n",
       "\t\t<td>-1.4544339075934074</td>\n",
       "\t\t<td>-1.8747210593627375</td>\n",
       "\t\t<td>-1.5496693498329215</td>\n",
       "\t\t<td>-1.6641765900850094</td>\n",
       "\t\t<td>-1.8873923588982218</td>\n",
       "\t</tr>\n",
       "\t<tr>\n",
       "\t\t<td>0</td>\n",
       "\t\t<td>0</td>\n",
       "\t\t<td>0</td>\n",
       "\t\t<td>200</td>\n",
       "\t\t<td>0</td>\n",
       "\t\t<td>24</td>\n",
       "\t\t<td>1</td>\n",
       "\t\t<td>0</td>\n",
       "\t\t<td>0</td>\n",
       "\t\t<td>-0.5786457481823233</td>\n",
       "\t\t<td>-0.7013536822367002</td>\n",
       "\t\t<td>-0.5423747336667484</td>\n",
       "\t\t<td>0.30308888573456494</td>\n",
       "\t\t<td>-0.5032452268728268</td>\n",
       "\t</tr>\n",
       "\t<tr>\n",
       "\t\t<td>0</td>\n",
       "\t\t<td>1</td>\n",
       "\t\t<td>0</td>\n",
       "\t\t<td>290</td>\n",
       "\t\t<td>0</td>\n",
       "\t\t<td>28</td>\n",
       "\t\t<td>0</td>\n",
       "\t\t<td>0</td>\n",
       "\t\t<td>0</td>\n",
       "\t\t<td>-0.30917246836352813</td>\n",
       "\t\t<td>-0.34934346909888914</td>\n",
       "\t\t<td>-0.25697459241966614</td>\n",
       "\t\t<td>-0.05507007024141126</td>\n",
       "\t\t<td>-0.024272143392654384</td>\n",
       "\t</tr>\n",
       "\t<tr>\n",
       "\t\t<td>0</td>\n",
       "\t\t<td>0</td>\n",
       "\t\t<td>0</td>\n",
       "\t\t<td>9</td>\n",
       "\t\t<td>1</td>\n",
       "\t\t<td>31</td>\n",
       "\t\t<td>0</td>\n",
       "\t\t<td>0</td>\n",
       "\t\t<td>0</td>\n",
       "\t\t<td>-1.53142627325592</td>\n",
       "\t\t<td>-2.015525144617862</td>\n",
       "\t\t<td>-1.6084282024426149</td>\n",
       "\t\t<td>-1.6795610898277487</td>\n",
       "\t\t<td>-1.9390722439256671</td>\n",
       "\t</tr>\n",
       "\t<tr>\n",
       "\t\t<td>0</td>\n",
       "\t\t<td>0</td>\n",
       "\t\t<td>0</td>\n",
       "\t\t<td>55</td>\n",
       "\t\t<td>0</td>\n",
       "\t\t<td>32</td>\n",
       "\t\t<td>1</td>\n",
       "\t\t<td>0</td>\n",
       "\t\t<td>0</td>\n",
       "\t\t<td>-1.3196972676840097</td>\n",
       "\t\t<td>-1.6752486052513114</td>\n",
       "\t\t<td>-1.3230280611955325</td>\n",
       "\t\t<td>-0.5498365572135335</td>\n",
       "\t\t<td>-1.2718901019584468</td>\n",
       "\t</tr>\n",
       "\t<tr>\n",
       "\t\t<td>0</td>\n",
       "\t\t<td>0</td>\n",
       "\t\t<td>1</td>\n",
       "\t\t<td>456</td>\n",
       "\t\t<td>0</td>\n",
       "\t\t<td>29</td>\n",
       "\t\t<td>0</td>\n",
       "\t\t<td>0</td>\n",
       "\t\t<td>0</td>\n",
       "\t\t<td>1.2306748448867295</td>\n",
       "\t\t<td>1.5867127031590722</td>\n",
       "\t\t<td>1.1112672612060523</td>\n",
       "\t\t<td>-0.4443881239530777</td>\n",
       "\t\t<td>-0.12447018522005994</td>\n",
       "\t</tr>\n",
       "\t<tr>\n",
       "\t\t<td>0</td>\n",
       "\t\t<td>0</td>\n",
       "\t\t<td>1</td>\n",
       "\t\t<td>345</td>\n",
       "\t\t<td>0</td>\n",
       "\t\t<td>21</td>\n",
       "\t\t<td>0</td>\n",
       "\t\t<td>0</td>\n",
       "\t\t<td>0</td>\n",
       "\t\t<td>0.8457130165741651</td>\n",
       "\t\t<td>1.1173657523086573</td>\n",
       "\t\t<td>0.7335317801437374</td>\n",
       "\t\t<td>-0.659917407195258</td>\n",
       "\t\t<td>-0.32308420387392395</td>\n",
       "\t</tr>\n",
       "\t<tr>\n",
       "\t\t<td>1</td>\n",
       "\t\t<td>0</td>\n",
       "\t\t<td>0</td>\n",
       "\t\t<td>650</td>\n",
       "\t\t<td>0</td>\n",
       "\t\t<td>10</td>\n",
       "\t\t<td>0</td>\n",
       "\t\t<td>0</td>\n",
       "\t\t<td>0</td>\n",
       "\t\t<td>0.36451073118345956</td>\n",
       "\t\t<td>0.5306820637456388</td>\n",
       "\t\t<td>0.5404669787118879</td>\n",
       "\t\t<td>1.3095423712817593</td>\n",
       "\t\t<td>0.6832651479508356</td>\n",
       "\t</tr>\n",
       "\t<tr>\n",
       "\t\t<td>0</td>\n",
       "\t\t<td>0</td>\n",
       "\t\t<td>0</td>\n",
       "\t\t<td>273</td>\n",
       "\t\t<td>0</td>\n",
       "\t\t<td>8</td>\n",
       "\t\t<td>1</td>\n",
       "\t\t<td>0</td>\n",
       "\t\t<td>0</td>\n",
       "\t\t<td>-0.40541292544166924</td>\n",
       "\t\t<td>-0.46668020681149286</td>\n",
       "\t\t<td>-0.35770405403628336</td>\n",
       "\t\t<td>0.4840457115516983</td>\n",
       "\t\t<td>-0.22708263769390846</td>\n",
       "\t</tr>\n",
       "</table></html>"
      ],
      "text/plain": [
       "   Species_0  Species_4  Species_3  Weight  Species_5  id  Species_1  Species_6  Species_2   Length1   Length2   Length3    Height     Width\n",
       "0          0          0          0       8          1  15          0          0          0 -1.579547 -2.074194 -1.650399 -1.737027 -1.870491\n",
       "1          0          0          0      12          1  23          0          0          0 -1.454434 -1.874721 -1.549669 -1.664177 -1.887392\n",
       "2          0          0          0     200          0  24          1          0          0 -0.578646 -0.701354 -0.542375  0.303089 -0.503245\n",
       "3          0          1          0     290          0  28          0          0          0 -0.309172 -0.349343 -0.256975 -0.055070 -0.024272\n",
       "4          0          0          0       9          1  31          0          0          0 -1.531426 -2.015525 -1.608428 -1.679561 -1.939072\n",
       "5          0          0          0      55          0  32          1          0          0 -1.319697 -1.675249 -1.323028 -0.549837 -1.271890\n",
       "6          0          0          1     456          0  29          0          0          0  1.230675  1.586713  1.111267 -0.444388 -0.124470\n",
       "7          0          0          1     345          0  21          0          0          0  0.845713  1.117366  0.733532 -0.659917 -0.323084\n",
       "8          1          0          0     650          0  10          0          0          0  0.364511  0.530682  0.540467  1.309542  0.683265\n",
       "9          0          0          0     273          0   8          1          0          0 -0.405413 -0.466680 -0.357704  0.484046 -0.227083"
      ]
     },
     "metadata": {},
     "output_type": "display_data"
    },
    {
     "name": "stdout",
     "output_type": "stream",
     "text": [
      "                                                                                          \r"
     ]
    },
    {
     "data": {
      "text/html": [
       "88 rows X 14 columns"
      ],
      "text/plain": [
       "<IPython.core.display.HTML object>"
      ]
     },
     "metadata": {},
     "output_type": "display_data"
    },
    {
     "name": "stdout",
     "output_type": "stream",
     "text": [
      "                                                                                          \r"
     ]
    },
    {
     "data": {
      "text/html": [
       "Testing dataset sample after scaling:"
      ],
      "text/plain": [
       "<IPython.core.display.HTML object>"
      ]
     },
     "metadata": {},
     "output_type": "display_data"
    },
    {
     "data": {
      "text/html": [
       "<style type=\"text/css\">\n",
       "\ttable {border:ridge 5px;}\n",
       "\ttable td {border:inset 1px;}\n",
       "\ttable tr#HeaderRow {background-color:grey; color:white;}</style>\n",
       "<html><table>\n",
       "\t<tr id=\"HeaderRow\">\n",
       "\t\t<th>Species_0</th>\n",
       "\t\t<th>Species_4</th>\n",
       "\t\t<th>Species_3</th>\n",
       "\t\t<th>Weight</th>\n",
       "\t\t<th>Species_5</th>\n",
       "\t\t<th>id</th>\n",
       "\t\t<th>Species_1</th>\n",
       "\t\t<th>Species_6</th>\n",
       "\t\t<th>Species_2</th>\n",
       "\t\t<th>Length1</th>\n",
       "\t\t<th>Length2</th>\n",
       "\t\t<th>Length3</th>\n",
       "\t\t<th>Height</th>\n",
       "\t\t<th>Width</th>\n",
       "\t</tr>\n",
       "\t<tr>\n",
       "\t\t<td>1</td>\n",
       "\t\t<td>0</td>\n",
       "\t\t<td>0</td>\n",
       "\t\t<td>475</td>\n",
       "\t\t<td>0</td>\n",
       "\t\t<td>122</td>\n",
       "\t\t<td>0</td>\n",
       "\t\t<td>0</td>\n",
       "\t\t<td>0</td>\n",
       "\t\t<td>0.11428554278029256</td>\n",
       "\t\t<td>0.2373402194641295</td>\n",
       "\t\t<td>0.3306139336772685</td>\n",
       "\t\t<td>1.2580981645350398</td>\n",
       "\t\t<td>0.3248976248572932</td>\n",
       "\t</tr>\n",
       "\t<tr>\n",
       "\t\t<td>1</td>\n",
       "\t\t<td>0</td>\n",
       "\t\t<td>0</td>\n",
       "\t\t<td>950</td>\n",
       "\t\t<td>0</td>\n",
       "\t\t<td>154</td>\n",
       "\t\t<td>0</td>\n",
       "\t\t<td>0</td>\n",
       "\t\t<td>0</td>\n",
       "\t\t<td>1.0381939307304473</td>\n",
       "\t\t<td>1.4107075965901668</td>\n",
       "\t\t<td>1.1952084792199</td>\n",
       "\t\t<td>2.0774751579648982</td>\n",
       "\t\t<td>1.0528424347600085</td>\n",
       "\t</tr>\n",
       "\t<tr>\n",
       "\t\t<td>0</td>\n",
       "\t\t<td>0</td>\n",
       "\t\t<td>1</td>\n",
       "\t\t<td>567</td>\n",
       "\t\t<td>0</td>\n",
       "\t\t<td>45</td>\n",
       "\t\t<td>0</td>\n",
       "\t\t<td>0</td>\n",
       "\t\t<td>0</td>\n",
       "\t\t<td>1.5386443075367813</td>\n",
       "\t\t<td>1.9973912851531854</td>\n",
       "\t\t<td>1.3798791588503654</td>\n",
       "\t\t<td>-0.31955668388520875</td>\n",
       "\t\t<td>0.19026548833418214</td>\n",
       "\t</tr>\n",
       "\t<tr>\n",
       "\t\t<td>1</td>\n",
       "\t\t<td>0</td>\n",
       "\t\t<td>0</td>\n",
       "\t\t<td>600</td>\n",
       "\t\t<td>0</td>\n",
       "\t\t<td>186</td>\n",
       "\t\t<td>0</td>\n",
       "\t\t<td>0</td>\n",
       "\t\t<td>0</td>\n",
       "\t\t<td>0.21052599985843368</td>\n",
       "\t\t<td>0.3546769571767332</td>\n",
       "\t\t<td>0.41455515169111623</td>\n",
       "\t\t<td>1.426718133189216</td>\n",
       "\t\t<td>0.3631832793937545</td>\n",
       "\t</tr>\n",
       "\t<tr>\n",
       "\t\t<td>1</td>\n",
       "\t\t<td>0</td>\n",
       "\t\t<td>0</td>\n",
       "\t\t<td>725</td>\n",
       "\t\t<td>0</td>\n",
       "\t\t<td>202</td>\n",
       "\t\t<td>0</td>\n",
       "\t\t<td>0</td>\n",
       "\t\t<td>0</td>\n",
       "\t\t<td>0.4415030968459725</td>\n",
       "\t\t<td>0.7066871703145444</td>\n",
       "\t\t<td>0.7251376583423526</td>\n",
       "\t\t<td>1.7694194460005377</td>\n",
       "\t\t<td>0.8704394590179796</td>\n",
       "\t</tr>\n",
       "\t<tr>\n",
       "\t\t<td>0</td>\n",
       "\t\t<td>0</td>\n",
       "\t\t<td>0</td>\n",
       "\t\t<td>145</td>\n",
       "\t\t<td>0</td>\n",
       "\t\t<td>56</td>\n",
       "\t\t<td>1</td>\n",
       "\t\t<td>0</td>\n",
       "\t\t<td>0</td>\n",
       "\t\t<td>-0.7133823880917207</td>\n",
       "\t\t<td>-0.8773587888056059</td>\n",
       "\t\t<td>-0.6850748042902896</td>\n",
       "\t\t<td>0.15451021468503465</td>\n",
       "\t\t<td>-0.7944116536403586</td>\n",
       "\t</tr>\n",
       "\t<tr>\n",
       "\t\t<td>0</td>\n",
       "\t\t<td>0</td>\n",
       "\t\t<td>1</td>\n",
       "\t\t<td>430</td>\n",
       "\t\t<td>0</td>\n",
       "\t\t<td>53</td>\n",
       "\t\t<td>0</td>\n",
       "\t\t<td>0</td>\n",
       "\t\t<td>0</td>\n",
       "\t\t<td>0.7975927880350945</td>\n",
       "\t\t<td>1.0586973834523556</td>\n",
       "\t\t<td>0.6915611711368136</td>\n",
       "\t\t<td>-0.4419500098892522</td>\n",
       "\t\t<td>0.021544172921999574</td>\n",
       "\t</tr>\n",
       "\t<tr>\n",
       "\t\t<td>0</td>\n",
       "\t\t<td>0</td>\n",
       "\t\t<td>1</td>\n",
       "\t\t<td>300</td>\n",
       "\t\t<td>0</td>\n",
       "\t\t<td>37</td>\n",
       "\t\t<td>0</td>\n",
       "\t\t<td>0</td>\n",
       "\t\t<td>0</td>\n",
       "\t\t<td>0.4318790511381583</td>\n",
       "\t\t<td>0.5893504326019406</td>\n",
       "\t\t<td>0.4649198824994244</td>\n",
       "\t\t<td>-0.8277084170677336</td>\n",
       "\t\t<td>-0.21903460220576335</td>\n",
       "\t</tr>\n",
       "\t<tr>\n",
       "\t\t<td>0</td>\n",
       "\t\t<td>0</td>\n",
       "\t\t<td>0</td>\n",
       "\t\t<td>90</td>\n",
       "\t\t<td>0</td>\n",
       "\t\t<td>16</td>\n",
       "\t\t<td>1</td>\n",
       "\t\t<td>0</td>\n",
       "\t\t<td>0</td>\n",
       "\t\t<td>-1.0502239878652146</td>\n",
       "\t\t<td>-1.3232383921135</td>\n",
       "\t\t<td>-1.046022041749835</td>\n",
       "\t\t<td>-0.4138629358739817</td>\n",
       "\t\t<td>-1.072701223626858</td>\n",
       "\t</tr>\n",
       "\t<tr>\n",
       "\t\t<td>1</td>\n",
       "\t\t<td>0</td>\n",
       "\t\t<td>0</td>\n",
       "\t\t<td>925</td>\n",
       "\t\t<td>0</td>\n",
       "\t\t<td>42</td>\n",
       "\t\t<td>0</td>\n",
       "\t\t<td>0</td>\n",
       "\t\t<td>0</td>\n",
       "\t\t<td>0.8649611079897935</td>\n",
       "\t\t<td>1.234702490021261</td>\n",
       "\t\t<td>1.0944790176032826</td>\n",
       "\t\t<td>2.3531527151616554</td>\n",
       "\t\t<td>1.270829224553193</td>\n",
       "\t</tr>\n",
       "</table></html>"
      ],
      "text/plain": [
       "   Species_0  Species_4  Species_3  Weight  Species_5   id  Species_1  Species_6  Species_2   Length1   Length2   Length3    Height     Width\n",
       "0          1          0          0     475          0  122          0          0          0  0.114286  0.237340  0.330614  1.258098  0.324898\n",
       "1          1          0          0     950          0  154          0          0          0  1.038194  1.410708  1.195208  2.077475  1.052842\n",
       "2          0          0          1     567          0   45          0          0          0  1.538644  1.997391  1.379879 -0.319557  0.190265\n",
       "3          1          0          0     600          0  186          0          0          0  0.210526  0.354677  0.414555  1.426718  0.363183\n",
       "4          1          0          0     725          0  202          0          0          0  0.441503  0.706687  0.725138  1.769419  0.870439\n",
       "5          0          0          0     145          0   56          1          0          0 -0.713382 -0.877359 -0.685075  0.154510 -0.794412\n",
       "6          0          0          1     430          0   53          0          0          0  0.797593  1.058697  0.691561 -0.441950  0.021544\n",
       "7          0          0          1     300          0   37          0          0          0  0.431879  0.589350  0.464920 -0.827708 -0.219035\n",
       "8          0          0          0      90          0   16          1          0          0 -1.050224 -1.323238 -1.046022 -0.413863 -1.072701\n",
       "9          1          0          0     925          0   42          0          0          0  0.864961  1.234702  1.094479  2.353153  1.270829"
      ]
     },
     "metadata": {},
     "output_type": "display_data"
    },
    {
     "name": "stdout",
     "output_type": "stream",
     "text": [
      "                                                                                          \r"
     ]
    },
    {
     "data": {
      "text/html": [
       "39 rows X 14 columns"
      ],
      "text/plain": [
       "<IPython.core.display.HTML object>"
      ]
     },
     "metadata": {},
     "output_type": "display_data"
    },
    {
     "name": "stdout",
     "output_type": "stream",
     "text": [
      "                                                                                          \r"
     ]
    },
    {
     "data": {
      "text/html": [
       "Total time taken by feature scaling: 45.12 sec"
      ],
      "text/plain": [
       "<IPython.core.display.HTML object>"
      ]
     },
     "metadata": {},
     "output_type": "display_data"
    },
    {
     "name": "stdout",
     "output_type": "stream",
     "text": [
      "                                                                                          \r"
     ]
    },
    {
     "data": {
      "text/html": [
       "\n",
       "Feature selection using rfe ..."
      ],
      "text/plain": [
       "<IPython.core.display.HTML object>"
      ]
     },
     "metadata": {},
     "output_type": "display_data"
    },
    {
     "name": "stdout",
     "output_type": "stream",
     "text": [
      "                                                                                          \r"
     ]
    },
    {
     "data": {
      "text/html": [
       "feature selected by RFE:"
      ],
      "text/plain": [
       "<IPython.core.display.HTML object>"
      ]
     },
     "metadata": {},
     "output_type": "display_data"
    },
    {
     "name": "stdout",
     "output_type": "stream",
     "text": [
      "['Species_0', 'Species_3', 'Species_5', 'Species_6', 'Species_2', 'Length1', 'Length2', 'Length3', 'Height', 'Width']\n",
      "                                                                                          \r"
     ]
    },
    {
     "data": {
      "text/html": [
       "Total time taken by feature selection: 11.50 sec  "
      ],
      "text/plain": [
       "<IPython.core.display.HTML object>"
      ]
     },
     "metadata": {},
     "output_type": "display_data"
    },
    {
     "name": "stdout",
     "output_type": "stream",
     "text": [
      "                                                                                          \r"
     ]
    },
    {
     "data": {
      "text/html": [
       "\n",
       "scaling Features of rfe data ..."
      ],
      "text/plain": [
       "<IPython.core.display.HTML object>"
      ]
     },
     "metadata": {},
     "output_type": "display_data"
    },
    {
     "name": "stdout",
     "output_type": "stream",
     "text": [
      "                                                                                          \r"
     ]
    },
    {
     "data": {
      "text/html": [
       "columns that will be scaled: "
      ],
      "text/plain": [
       "<IPython.core.display.HTML object>"
      ]
     },
     "metadata": {},
     "output_type": "display_data"
    },
    {
     "name": "stdout",
     "output_type": "stream",
     "text": [
      "['r_Length1', 'r_Length2', 'r_Length3', 'r_Height', 'r_Width']\n",
      "                                                                                          \r"
     ]
    },
    {
     "data": {
      "text/html": [
       "Training dataset sample after scaling:"
      ],
      "text/plain": [
       "<IPython.core.display.HTML object>"
      ]
     },
     "metadata": {},
     "output_type": "display_data"
    },
    {
     "data": {
      "text/html": [
       "<style type=\"text/css\">\n",
       "\ttable {border:ridge 5px;}\n",
       "\ttable td {border:inset 1px;}\n",
       "\ttable tr#HeaderRow {background-color:grey; color:white;}</style>\n",
       "<html><table>\n",
       "\t<tr id=\"HeaderRow\">\n",
       "\t\t<th>Weight</th>\n",
       "\t\t<th>r_Species_2</th>\n",
       "\t\t<th>r_Species_6</th>\n",
       "\t\t<th>r_Species_3</th>\n",
       "\t\t<th>r_Species_0</th>\n",
       "\t\t<th>id</th>\n",
       "\t\t<th>r_Species_5</th>\n",
       "\t\t<th>r_Length1</th>\n",
       "\t\t<th>r_Length2</th>\n",
       "\t\t<th>r_Length3</th>\n",
       "\t\t<th>r_Height</th>\n",
       "\t\t<th>r_Width</th>\n",
       "\t</tr>\n",
       "\t<tr>\n",
       "\t\t<td>8</td>\n",
       "\t\t<td>0</td>\n",
       "\t\t<td>0</td>\n",
       "\t\t<td>0</td>\n",
       "\t\t<td>0</td>\n",
       "\t\t<td>15</td>\n",
       "\t\t<td>1</td>\n",
       "\t\t<td>-1.5795465017949906</td>\n",
       "\t\t<td>-2.074193513474164</td>\n",
       "\t\t<td>-1.6503988114495387</td>\n",
       "\t\t<td>-1.7370274383121174</td>\n",
       "\t\t<td>-1.8704914843731173</td>\n",
       "\t</tr>\n",
       "\t<tr>\n",
       "\t\t<td>12</td>\n",
       "\t\t<td>0</td>\n",
       "\t\t<td>0</td>\n",
       "\t\t<td>0</td>\n",
       "\t\t<td>0</td>\n",
       "\t\t<td>23</td>\n",
       "\t\t<td>1</td>\n",
       "\t\t<td>-1.4544339075934074</td>\n",
       "\t\t<td>-1.8747210593627375</td>\n",
       "\t\t<td>-1.5496693498329215</td>\n",
       "\t\t<td>-1.6641765900850094</td>\n",
       "\t\t<td>-1.8873923588982218</td>\n",
       "\t</tr>\n",
       "\t<tr>\n",
       "\t\t<td>200</td>\n",
       "\t\t<td>0</td>\n",
       "\t\t<td>0</td>\n",
       "\t\t<td>0</td>\n",
       "\t\t<td>0</td>\n",
       "\t\t<td>24</td>\n",
       "\t\t<td>0</td>\n",
       "\t\t<td>-0.5786457481823233</td>\n",
       "\t\t<td>-0.7013536822367002</td>\n",
       "\t\t<td>-0.5423747336667484</td>\n",
       "\t\t<td>0.30308888573456494</td>\n",
       "\t\t<td>-0.5032452268728268</td>\n",
       "\t</tr>\n",
       "\t<tr>\n",
       "\t\t<td>290</td>\n",
       "\t\t<td>0</td>\n",
       "\t\t<td>0</td>\n",
       "\t\t<td>0</td>\n",
       "\t\t<td>0</td>\n",
       "\t\t<td>28</td>\n",
       "\t\t<td>0</td>\n",
       "\t\t<td>-0.30917246836352813</td>\n",
       "\t\t<td>-0.34934346909888914</td>\n",
       "\t\t<td>-0.25697459241966614</td>\n",
       "\t\t<td>-0.05507007024141126</td>\n",
       "\t\t<td>-0.024272143392654384</td>\n",
       "\t</tr>\n",
       "\t<tr>\n",
       "\t\t<td>9</td>\n",
       "\t\t<td>0</td>\n",
       "\t\t<td>0</td>\n",
       "\t\t<td>0</td>\n",
       "\t\t<td>0</td>\n",
       "\t\t<td>31</td>\n",
       "\t\t<td>1</td>\n",
       "\t\t<td>-1.53142627325592</td>\n",
       "\t\t<td>-2.015525144617862</td>\n",
       "\t\t<td>-1.6084282024426149</td>\n",
       "\t\t<td>-1.6795610898277487</td>\n",
       "\t\t<td>-1.9390722439256671</td>\n",
       "\t</tr>\n",
       "\t<tr>\n",
       "\t\t<td>55</td>\n",
       "\t\t<td>0</td>\n",
       "\t\t<td>0</td>\n",
       "\t\t<td>0</td>\n",
       "\t\t<td>0</td>\n",
       "\t\t<td>32</td>\n",
       "\t\t<td>0</td>\n",
       "\t\t<td>-1.3196972676840097</td>\n",
       "\t\t<td>-1.6752486052513114</td>\n",
       "\t\t<td>-1.3230280611955325</td>\n",
       "\t\t<td>-0.5498365572135335</td>\n",
       "\t\t<td>-1.2718901019584468</td>\n",
       "\t</tr>\n",
       "\t<tr>\n",
       "\t\t<td>456</td>\n",
       "\t\t<td>0</td>\n",
       "\t\t<td>0</td>\n",
       "\t\t<td>1</td>\n",
       "\t\t<td>0</td>\n",
       "\t\t<td>29</td>\n",
       "\t\t<td>0</td>\n",
       "\t\t<td>1.2306748448867295</td>\n",
       "\t\t<td>1.5867127031590722</td>\n",
       "\t\t<td>1.1112672612060523</td>\n",
       "\t\t<td>-0.4443881239530777</td>\n",
       "\t\t<td>-0.12447018522005994</td>\n",
       "\t</tr>\n",
       "\t<tr>\n",
       "\t\t<td>345</td>\n",
       "\t\t<td>0</td>\n",
       "\t\t<td>0</td>\n",
       "\t\t<td>1</td>\n",
       "\t\t<td>0</td>\n",
       "\t\t<td>21</td>\n",
       "\t\t<td>0</td>\n",
       "\t\t<td>0.8457130165741651</td>\n",
       "\t\t<td>1.1173657523086573</td>\n",
       "\t\t<td>0.7335317801437374</td>\n",
       "\t\t<td>-0.659917407195258</td>\n",
       "\t\t<td>-0.32308420387392395</td>\n",
       "\t</tr>\n",
       "\t<tr>\n",
       "\t\t<td>650</td>\n",
       "\t\t<td>0</td>\n",
       "\t\t<td>0</td>\n",
       "\t\t<td>0</td>\n",
       "\t\t<td>1</td>\n",
       "\t\t<td>10</td>\n",
       "\t\t<td>0</td>\n",
       "\t\t<td>0.36451073118345956</td>\n",
       "\t\t<td>0.5306820637456388</td>\n",
       "\t\t<td>0.5404669787118879</td>\n",
       "\t\t<td>1.3095423712817593</td>\n",
       "\t\t<td>0.6832651479508356</td>\n",
       "\t</tr>\n",
       "\t<tr>\n",
       "\t\t<td>273</td>\n",
       "\t\t<td>0</td>\n",
       "\t\t<td>0</td>\n",
       "\t\t<td>0</td>\n",
       "\t\t<td>0</td>\n",
       "\t\t<td>8</td>\n",
       "\t\t<td>0</td>\n",
       "\t\t<td>-0.40541292544166924</td>\n",
       "\t\t<td>-0.46668020681149286</td>\n",
       "\t\t<td>-0.35770405403628336</td>\n",
       "\t\t<td>0.4840457115516983</td>\n",
       "\t\t<td>-0.22708263769390846</td>\n",
       "\t</tr>\n",
       "</table></html>"
      ],
      "text/plain": [
       "   Weight  r_Species_2  r_Species_6  r_Species_3  r_Species_0  id  r_Species_5  r_Length1  r_Length2  r_Length3  r_Height   r_Width\n",
       "0       8            0            0            0            0  15            1  -1.579547  -2.074194  -1.650399 -1.737027 -1.870491\n",
       "1      12            0            0            0            0  23            1  -1.454434  -1.874721  -1.549669 -1.664177 -1.887392\n",
       "2     200            0            0            0            0  24            0  -0.578646  -0.701354  -0.542375  0.303089 -0.503245\n",
       "3     290            0            0            0            0  28            0  -0.309172  -0.349343  -0.256975 -0.055070 -0.024272\n",
       "4       9            0            0            0            0  31            1  -1.531426  -2.015525  -1.608428 -1.679561 -1.939072\n",
       "5      55            0            0            0            0  32            0  -1.319697  -1.675249  -1.323028 -0.549837 -1.271890\n",
       "6     456            0            0            1            0  29            0   1.230675   1.586713   1.111267 -0.444388 -0.124470\n",
       "7     345            0            0            1            0  21            0   0.845713   1.117366   0.733532 -0.659917 -0.323084\n",
       "8     650            0            0            0            1  10            0   0.364511   0.530682   0.540467  1.309542  0.683265\n",
       "9     273            0            0            0            0   8            0  -0.405413  -0.466680  -0.357704  0.484046 -0.227083"
      ]
     },
     "metadata": {},
     "output_type": "display_data"
    },
    {
     "name": "stdout",
     "output_type": "stream",
     "text": [
      "                                                                                          \r"
     ]
    },
    {
     "data": {
      "text/html": [
       "88 rows X 12 columns"
      ],
      "text/plain": [
       "<IPython.core.display.HTML object>"
      ]
     },
     "metadata": {},
     "output_type": "display_data"
    },
    {
     "name": "stdout",
     "output_type": "stream",
     "text": [
      "                                                                                          \r"
     ]
    },
    {
     "data": {
      "text/html": [
       "Testing dataset sample after scaling:"
      ],
      "text/plain": [
       "<IPython.core.display.HTML object>"
      ]
     },
     "metadata": {},
     "output_type": "display_data"
    },
    {
     "data": {
      "text/html": [
       "<style type=\"text/css\">\n",
       "\ttable {border:ridge 5px;}\n",
       "\ttable td {border:inset 1px;}\n",
       "\ttable tr#HeaderRow {background-color:grey; color:white;}</style>\n",
       "<html><table>\n",
       "\t<tr id=\"HeaderRow\">\n",
       "\t\t<th>Weight</th>\n",
       "\t\t<th>r_Species_2</th>\n",
       "\t\t<th>r_Species_6</th>\n",
       "\t\t<th>r_Species_3</th>\n",
       "\t\t<th>r_Species_0</th>\n",
       "\t\t<th>id</th>\n",
       "\t\t<th>r_Species_5</th>\n",
       "\t\t<th>r_Length1</th>\n",
       "\t\t<th>r_Length2</th>\n",
       "\t\t<th>r_Length3</th>\n",
       "\t\t<th>r_Height</th>\n",
       "\t\t<th>r_Width</th>\n",
       "\t</tr>\n",
       "\t<tr>\n",
       "\t\t<td>475</td>\n",
       "\t\t<td>0</td>\n",
       "\t\t<td>0</td>\n",
       "\t\t<td>0</td>\n",
       "\t\t<td>1</td>\n",
       "\t\t<td>122</td>\n",
       "\t\t<td>0</td>\n",
       "\t\t<td>0.11428554278029256</td>\n",
       "\t\t<td>0.2373402194641295</td>\n",
       "\t\t<td>0.3306139336772685</td>\n",
       "\t\t<td>1.2580981645350398</td>\n",
       "\t\t<td>0.3248976248572932</td>\n",
       "\t</tr>\n",
       "\t<tr>\n",
       "\t\t<td>950</td>\n",
       "\t\t<td>0</td>\n",
       "\t\t<td>0</td>\n",
       "\t\t<td>0</td>\n",
       "\t\t<td>1</td>\n",
       "\t\t<td>154</td>\n",
       "\t\t<td>0</td>\n",
       "\t\t<td>1.0381939307304473</td>\n",
       "\t\t<td>1.4107075965901668</td>\n",
       "\t\t<td>1.1952084792199</td>\n",
       "\t\t<td>2.0774751579648982</td>\n",
       "\t\t<td>1.0528424347600085</td>\n",
       "\t</tr>\n",
       "\t<tr>\n",
       "\t\t<td>567</td>\n",
       "\t\t<td>0</td>\n",
       "\t\t<td>0</td>\n",
       "\t\t<td>1</td>\n",
       "\t\t<td>0</td>\n",
       "\t\t<td>45</td>\n",
       "\t\t<td>0</td>\n",
       "\t\t<td>1.5386443075367813</td>\n",
       "\t\t<td>1.9973912851531854</td>\n",
       "\t\t<td>1.3798791588503654</td>\n",
       "\t\t<td>-0.31955668388520875</td>\n",
       "\t\t<td>0.19026548833418214</td>\n",
       "\t</tr>\n",
       "\t<tr>\n",
       "\t\t<td>600</td>\n",
       "\t\t<td>0</td>\n",
       "\t\t<td>0</td>\n",
       "\t\t<td>0</td>\n",
       "\t\t<td>1</td>\n",
       "\t\t<td>186</td>\n",
       "\t\t<td>0</td>\n",
       "\t\t<td>0.21052599985843368</td>\n",
       "\t\t<td>0.3546769571767332</td>\n",
       "\t\t<td>0.41455515169111623</td>\n",
       "\t\t<td>1.426718133189216</td>\n",
       "\t\t<td>0.3631832793937545</td>\n",
       "\t</tr>\n",
       "\t<tr>\n",
       "\t\t<td>725</td>\n",
       "\t\t<td>0</td>\n",
       "\t\t<td>0</td>\n",
       "\t\t<td>0</td>\n",
       "\t\t<td>1</td>\n",
       "\t\t<td>202</td>\n",
       "\t\t<td>0</td>\n",
       "\t\t<td>0.4415030968459725</td>\n",
       "\t\t<td>0.7066871703145444</td>\n",
       "\t\t<td>0.7251376583423526</td>\n",
       "\t\t<td>1.7694194460005377</td>\n",
       "\t\t<td>0.8704394590179796</td>\n",
       "\t</tr>\n",
       "\t<tr>\n",
       "\t\t<td>145</td>\n",
       "\t\t<td>0</td>\n",
       "\t\t<td>0</td>\n",
       "\t\t<td>0</td>\n",
       "\t\t<td>0</td>\n",
       "\t\t<td>56</td>\n",
       "\t\t<td>0</td>\n",
       "\t\t<td>-0.7133823880917207</td>\n",
       "\t\t<td>-0.8773587888056059</td>\n",
       "\t\t<td>-0.6850748042902896</td>\n",
       "\t\t<td>0.15451021468503465</td>\n",
       "\t\t<td>-0.7944116536403586</td>\n",
       "\t</tr>\n",
       "\t<tr>\n",
       "\t\t<td>430</td>\n",
       "\t\t<td>0</td>\n",
       "\t\t<td>0</td>\n",
       "\t\t<td>1</td>\n",
       "\t\t<td>0</td>\n",
       "\t\t<td>53</td>\n",
       "\t\t<td>0</td>\n",
       "\t\t<td>0.7975927880350945</td>\n",
       "\t\t<td>1.0586973834523556</td>\n",
       "\t\t<td>0.6915611711368136</td>\n",
       "\t\t<td>-0.4419500098892522</td>\n",
       "\t\t<td>0.021544172921999574</td>\n",
       "\t</tr>\n",
       "\t<tr>\n",
       "\t\t<td>300</td>\n",
       "\t\t<td>0</td>\n",
       "\t\t<td>0</td>\n",
       "\t\t<td>1</td>\n",
       "\t\t<td>0</td>\n",
       "\t\t<td>37</td>\n",
       "\t\t<td>0</td>\n",
       "\t\t<td>0.4318790511381583</td>\n",
       "\t\t<td>0.5893504326019406</td>\n",
       "\t\t<td>0.4649198824994244</td>\n",
       "\t\t<td>-0.8277084170677336</td>\n",
       "\t\t<td>-0.21903460220576335</td>\n",
       "\t</tr>\n",
       "\t<tr>\n",
       "\t\t<td>90</td>\n",
       "\t\t<td>0</td>\n",
       "\t\t<td>0</td>\n",
       "\t\t<td>0</td>\n",
       "\t\t<td>0</td>\n",
       "\t\t<td>16</td>\n",
       "\t\t<td>0</td>\n",
       "\t\t<td>-1.0502239878652146</td>\n",
       "\t\t<td>-1.3232383921135</td>\n",
       "\t\t<td>-1.046022041749835</td>\n",
       "\t\t<td>-0.4138629358739817</td>\n",
       "\t\t<td>-1.072701223626858</td>\n",
       "\t</tr>\n",
       "\t<tr>\n",
       "\t\t<td>925</td>\n",
       "\t\t<td>0</td>\n",
       "\t\t<td>0</td>\n",
       "\t\t<td>0</td>\n",
       "\t\t<td>1</td>\n",
       "\t\t<td>42</td>\n",
       "\t\t<td>0</td>\n",
       "\t\t<td>0.8649611079897935</td>\n",
       "\t\t<td>1.234702490021261</td>\n",
       "\t\t<td>1.0944790176032826</td>\n",
       "\t\t<td>2.3531527151616554</td>\n",
       "\t\t<td>1.270829224553193</td>\n",
       "\t</tr>\n",
       "</table></html>"
      ],
      "text/plain": [
       "   Weight  r_Species_2  r_Species_6  r_Species_3  r_Species_0   id  r_Species_5  r_Length1  r_Length2  r_Length3  r_Height   r_Width\n",
       "0     475            0            0            0            1  122            0   0.114286   0.237340   0.330614  1.258098  0.324898\n",
       "1     950            0            0            0            1  154            0   1.038194   1.410708   1.195208  2.077475  1.052842\n",
       "2     567            0            0            1            0   45            0   1.538644   1.997391   1.379879 -0.319557  0.190265\n",
       "3     600            0            0            0            1  186            0   0.210526   0.354677   0.414555  1.426718  0.363183\n",
       "4     725            0            0            0            1  202            0   0.441503   0.706687   0.725138  1.769419  0.870439\n",
       "5     145            0            0            0            0   56            0  -0.713382  -0.877359  -0.685075  0.154510 -0.794412\n",
       "6     430            0            0            1            0   53            0   0.797593   1.058697   0.691561 -0.441950  0.021544\n",
       "7     300            0            0            1            0   37            0   0.431879   0.589350   0.464920 -0.827708 -0.219035\n",
       "8      90            0            0            0            0   16            0  -1.050224  -1.323238  -1.046022 -0.413863 -1.072701\n",
       "9     925            0            0            0            1   42            0   0.864961   1.234702   1.094479  2.353153  1.270829"
      ]
     },
     "metadata": {},
     "output_type": "display_data"
    },
    {
     "name": "stdout",
     "output_type": "stream",
     "text": [
      "                                                                                          \r"
     ]
    },
    {
     "data": {
      "text/html": [
       "39 rows X 12 columns"
      ],
      "text/plain": [
       "<IPython.core.display.HTML object>"
      ]
     },
     "metadata": {},
     "output_type": "display_data"
    },
    {
     "name": "stdout",
     "output_type": "stream",
     "text": [
      "                                                                                          \r"
     ]
    },
    {
     "data": {
      "text/html": [
       "Total time taken by feature scaling: 41.99 sec"
      ],
      "text/plain": [
       "<IPython.core.display.HTML object>"
      ]
     },
     "metadata": {},
     "output_type": "display_data"
    },
    {
     "name": "stdout",
     "output_type": "stream",
     "text": [
      "                                                                                          \r"
     ]
    },
    {
     "data": {
      "text/html": [
       "\n",
       "scaling Features of pca data ..."
      ],
      "text/plain": [
       "<IPython.core.display.HTML object>"
      ]
     },
     "metadata": {},
     "output_type": "display_data"
    },
    {
     "name": "stdout",
     "output_type": "stream",
     "text": [
      "                                                                                          \r"
     ]
    },
    {
     "data": {
      "text/html": [
       "columns that will be scaled: "
      ],
      "text/plain": [
       "<IPython.core.display.HTML object>"
      ]
     },
     "metadata": {},
     "output_type": "display_data"
    },
    {
     "name": "stdout",
     "output_type": "stream",
     "text": [
      "['Length1', 'Length2', 'Length3', 'Height', 'Width']\n",
      "                                                                                          \r"
     ]
    },
    {
     "data": {
      "text/html": [
       "Training dataset sample after scaling:"
      ],
      "text/plain": [
       "<IPython.core.display.HTML object>"
      ]
     },
     "metadata": {},
     "output_type": "display_data"
    },
    {
     "data": {
      "text/html": [
       "<style type=\"text/css\">\n",
       "\ttable {border:ridge 5px;}\n",
       "\ttable td {border:inset 1px;}\n",
       "\ttable tr#HeaderRow {background-color:grey; color:white;}</style>\n",
       "<html><table>\n",
       "\t<tr id=\"HeaderRow\">\n",
       "\t\t<th>Species_0</th>\n",
       "\t\t<th>Species_4</th>\n",
       "\t\t<th>Species_3</th>\n",
       "\t\t<th>Weight</th>\n",
       "\t\t<th>Species_5</th>\n",
       "\t\t<th>id</th>\n",
       "\t\t<th>Species_1</th>\n",
       "\t\t<th>Species_6</th>\n",
       "\t\t<th>Species_2</th>\n",
       "\t\t<th>Length1</th>\n",
       "\t\t<th>Length2</th>\n",
       "\t\t<th>Length3</th>\n",
       "\t\t<th>Height</th>\n",
       "\t\t<th>Width</th>\n",
       "\t</tr>\n",
       "\t<tr>\n",
       "\t\t<td>1</td>\n",
       "\t\t<td>0</td>\n",
       "\t\t<td>0</td>\n",
       "\t\t<td>850</td>\n",
       "\t\t<td>0</td>\n",
       "\t\t<td>82</td>\n",
       "\t\t<td>0</td>\n",
       "\t\t<td>0</td>\n",
       "\t\t<td>0</td>\n",
       "\t\t<td>0.5377435539241133</td>\n",
       "\t\t<td>0.8240239080271493</td>\n",
       "\t\t<td>0.7838965109520469</td>\n",
       "\t\t<td>1.898541966820741</td>\n",
       "\t\t<td>0.9539090842235972</td>\n",
       "\t</tr>\n",
       "\t<tr>\n",
       "\t\t<td>1</td>\n",
       "\t\t<td>0</td>\n",
       "\t\t<td>0</td>\n",
       "\t\t<td>290</td>\n",
       "\t\t<td>0</td>\n",
       "\t\t<td>106</td>\n",
       "\t\t<td>0</td>\n",
       "\t\t<td>0</td>\n",
       "\t\t<td>0</td>\n",
       "\t\t<td>-0.3091724683635282</td>\n",
       "\t\t<td>-0.3141424477851072</td>\n",
       "\t\t<td>-0.08909215639197003</td>\n",
       "\t\t<td>0.8234311892362183</td>\n",
       "\t\t<td>-0.13418531377360673</td>\n",
       "\t</tr>\n",
       "\t<tr>\n",
       "\t\t<td>1</td>\n",
       "\t\t<td>0</td>\n",
       "\t\t<td>0</td>\n",
       "\t\t<td>500</td>\n",
       "\t\t<td>0</td>\n",
       "\t\t<td>114</td>\n",
       "\t\t<td>0</td>\n",
       "\t\t<td>0</td>\n",
       "\t\t<td>0</td>\n",
       "\t\t<td>0.14315767990373499</td>\n",
       "\t\t<td>0.23734021946413042</td>\n",
       "\t\t<td>0.3306139336772691</td>\n",
       "\t\t<td>1.284576083268186</td>\n",
       "\t\t<td>0.15841826218823662</td>\n",
       "\t</tr>\n",
       "\t<tr>\n",
       "\t\t<td>1</td>\n",
       "\t\t<td>0</td>\n",
       "\t\t<td>0</td>\n",
       "\t\t<td>363</td>\n",
       "\t\t<td>0</td>\n",
       "\t\t<td>130</td>\n",
       "\t\t<td>0</td>\n",
       "\t\t<td>0</td>\n",
       "\t\t<td>0</td>\n",
       "\t\t<td>-0.08781941708380357</td>\n",
       "\t\t<td>0.0026667440389228888</td>\n",
       "\t\t<td>0.1039726450398799</td>\n",
       "\t\t<td>0.8843840408318574</td>\n",
       "\t\t<td>-0.04801384808268296</td>\n",
       "\t</tr>\n",
       "\t<tr>\n",
       "\t\t<td>1</td>\n",
       "\t\t<td>0</td>\n",
       "\t\t<td>0</td>\n",
       "\t\t<td>450</td>\n",
       "\t\t<td>0</td>\n",
       "\t\t<td>146</td>\n",
       "\t\t<td>0</td>\n",
       "\t\t<td>0</td>\n",
       "\t\t<td>0</td>\n",
       "\t\t<td>0.037293177117779956</td>\n",
       "\t\t<td>0.12000348175152666</td>\n",
       "\t\t<td>0.23827859386203645</td>\n",
       "\t\t<td>1.1952192028289788</td>\n",
       "\t\t<td>0.17520416477779588</td>\n",
       "\t</tr>\n",
       "\t<tr>\n",
       "\t\t<td>1</td>\n",
       "\t\t<td>0</td>\n",
       "\t\t<td>0</td>\n",
       "\t\t<td>920</td>\n",
       "\t\t<td>0</td>\n",
       "\t\t<td>162</td>\n",
       "\t\t<td>0</td>\n",
       "\t\t<td>0</td>\n",
       "\t\t<td>0</td>\n",
       "\t\t<td>0.7494725594960241</td>\n",
       "\t\t<td>1.1173657523086586</td>\n",
       "\t\t<td>0.9937495559866664</td>\n",
       "\t\t<td>2.178266793363448</td>\n",
       "\t\t<td>1.0159364434500862</td>\n",
       "\t</tr>\n",
       "\t<tr>\n",
       "\t\t<td>0</td>\n",
       "\t\t<td>0</td>\n",
       "\t\t<td>1</td>\n",
       "\t\t<td>345</td>\n",
       "\t\t<td>0</td>\n",
       "\t\t<td>21</td>\n",
       "\t\t<td>0</td>\n",
       "\t\t<td>0</td>\n",
       "\t\t<td>0</td>\n",
       "\t\t<td>0.8457130165741652</td>\n",
       "\t\t<td>1.1173657523086586</td>\n",
       "\t\t<td>0.7335317801437382</td>\n",
       "\t\t<td>-0.6599174071952577</td>\n",
       "\t\t<td>-0.32308420387392445</td>\n",
       "\t</tr>\n",
       "\t<tr>\n",
       "\t\t<td>0</td>\n",
       "\t\t<td>0</td>\n",
       "\t\t<td>0</td>\n",
       "\t\t<td>200</td>\n",
       "\t\t<td>0</td>\n",
       "\t\t<td>24</td>\n",
       "\t\t<td>1</td>\n",
       "\t\t<td>0</td>\n",
       "\t\t<td>0</td>\n",
       "\t\t<td>-0.5786457481823234</td>\n",
       "\t\t<td>-0.7013536822366997</td>\n",
       "\t\t<td>-0.5423747336667479</td>\n",
       "\t\t<td>0.30308888573456544</td>\n",
       "\t\t<td>-0.5032452268728274</td>\n",
       "\t</tr>\n",
       "\t<tr>\n",
       "\t\t<td>0</td>\n",
       "\t\t<td>1</td>\n",
       "\t\t<td>0</td>\n",
       "\t\t<td>290</td>\n",
       "\t\t<td>0</td>\n",
       "\t\t<td>28</td>\n",
       "\t\t<td>0</td>\n",
       "\t\t<td>0</td>\n",
       "\t\t<td>0</td>\n",
       "\t\t<td>-0.3091724683635282</td>\n",
       "\t\t<td>-0.3493434690988884</td>\n",
       "\t\t<td>-0.2569745924196656</td>\n",
       "\t\t<td>-0.055070070241410835</td>\n",
       "\t\t<td>-0.024272143392654894</td>\n",
       "\t</tr>\n",
       "\t<tr>\n",
       "\t\t<td>0</td>\n",
       "\t\t<td>0</td>\n",
       "\t\t<td>1</td>\n",
       "\t\t<td>456</td>\n",
       "\t\t<td>0</td>\n",
       "\t\t<td>29</td>\n",
       "\t\t<td>0</td>\n",
       "\t\t<td>0</td>\n",
       "\t\t<td>0</td>\n",
       "\t\t<td>1.2306748448867297</td>\n",
       "\t\t<td>1.5867127031590738</td>\n",
       "\t\t<td>1.1112672612060532</td>\n",
       "\t\t<td>-0.44438812395307736</td>\n",
       "\t\t<td>-0.12447018522006045</td>\n",
       "\t</tr>\n",
       "</table></html>"
      ],
      "text/plain": [
       "   Species_0  Species_4  Species_3  Weight  Species_5   id  Species_1  Species_6  Species_2   Length1   Length2   Length3    Height     Width\n",
       "0          1          0          0     850          0   82          0          0          0  0.537744  0.824024  0.783897  1.898542  0.953909\n",
       "1          1          0          0     290          0  106          0          0          0 -0.309172 -0.314142 -0.089092  0.823431 -0.134185\n",
       "2          1          0          0     500          0  114          0          0          0  0.143158  0.237340  0.330614  1.284576  0.158418\n",
       "3          1          0          0     363          0  130          0          0          0 -0.087819  0.002667  0.103973  0.884384 -0.048014\n",
       "4          1          0          0     450          0  146          0          0          0  0.037293  0.120003  0.238279  1.195219  0.175204\n",
       "5          1          0          0     920          0  162          0          0          0  0.749473  1.117366  0.993750  2.178267  1.015936\n",
       "6          0          0          1     345          0   21          0          0          0  0.845713  1.117366  0.733532 -0.659917 -0.323084\n",
       "7          0          0          0     200          0   24          1          0          0 -0.578646 -0.701354 -0.542375  0.303089 -0.503245\n",
       "8          0          1          0     290          0   28          0          0          0 -0.309172 -0.349343 -0.256975 -0.055070 -0.024272\n",
       "9          0          0          1     456          0   29          0          0          0  1.230675  1.586713  1.111267 -0.444388 -0.124470"
      ]
     },
     "metadata": {},
     "output_type": "display_data"
    },
    {
     "name": "stdout",
     "output_type": "stream",
     "text": [
      "                                                                                          \r"
     ]
    },
    {
     "data": {
      "text/html": [
       "88 rows X 14 columns"
      ],
      "text/plain": [
       "<IPython.core.display.HTML object>"
      ]
     },
     "metadata": {},
     "output_type": "display_data"
    },
    {
     "name": "stdout",
     "output_type": "stream",
     "text": [
      "                                                                                          \r"
     ]
    },
    {
     "data": {
      "text/html": [
       "Testing dataset sample after scaling:"
      ],
      "text/plain": [
       "<IPython.core.display.HTML object>"
      ]
     },
     "metadata": {},
     "output_type": "display_data"
    },
    {
     "data": {
      "text/html": [
       "<style type=\"text/css\">\n",
       "\ttable {border:ridge 5px;}\n",
       "\ttable td {border:inset 1px;}\n",
       "\ttable tr#HeaderRow {background-color:grey; color:white;}</style>\n",
       "<html><table>\n",
       "\t<tr id=\"HeaderRow\">\n",
       "\t\t<th>Species_0</th>\n",
       "\t\t<th>Species_4</th>\n",
       "\t\t<th>Species_3</th>\n",
       "\t\t<th>Weight</th>\n",
       "\t\t<th>Species_5</th>\n",
       "\t\t<th>id</th>\n",
       "\t\t<th>Species_1</th>\n",
       "\t\t<th>Species_6</th>\n",
       "\t\t<th>Species_2</th>\n",
       "\t\t<th>Length1</th>\n",
       "\t\t<th>Length2</th>\n",
       "\t\t<th>Length3</th>\n",
       "\t\t<th>Height</th>\n",
       "\t\t<th>Width</th>\n",
       "\t</tr>\n",
       "\t<tr>\n",
       "\t\t<td>1</td>\n",
       "\t\t<td>0</td>\n",
       "\t\t<td>0</td>\n",
       "\t\t<td>925</td>\n",
       "\t\t<td>0</td>\n",
       "\t\t<td>42</td>\n",
       "\t\t<td>0</td>\n",
       "\t\t<td>0</td>\n",
       "\t\t<td>0</td>\n",
       "\t\t<td>0.8649611079897938</td>\n",
       "\t\t<td>1.2347024900212624</td>\n",
       "\t\t<td>1.0944790176032833</td>\n",
       "\t\t<td>2.3531527151616562</td>\n",
       "\t\t<td>1.2708292245531925</td>\n",
       "\t</tr>\n",
       "\t<tr>\n",
       "\t\t<td>1</td>\n",
       "\t\t<td>0</td>\n",
       "\t\t<td>0</td>\n",
       "\t\t<td>475</td>\n",
       "\t\t<td>0</td>\n",
       "\t\t<td>122</td>\n",
       "\t\t<td>0</td>\n",
       "\t\t<td>0</td>\n",
       "\t\t<td>0</td>\n",
       "\t\t<td>0.11428554278029258</td>\n",
       "\t\t<td>0.23734021946413042</td>\n",
       "\t\t<td>0.3306139336772691</td>\n",
       "\t\t<td>1.2580981645350406</td>\n",
       "\t\t<td>0.3248976248572927</td>\n",
       "\t</tr>\n",
       "\t<tr>\n",
       "\t\t<td>1</td>\n",
       "\t\t<td>0</td>\n",
       "\t\t<td>0</td>\n",
       "\t\t<td>950</td>\n",
       "\t\t<td>0</td>\n",
       "\t\t<td>154</td>\n",
       "\t\t<td>0</td>\n",
       "\t\t<td>0</td>\n",
       "\t\t<td>0</td>\n",
       "\t\t<td>1.0381939307304475</td>\n",
       "\t\t<td>1.410707596590168</td>\n",
       "\t\t<td>1.195208479219901</td>\n",
       "\t\t<td>2.077475157964899</td>\n",
       "\t\t<td>1.0528424347600078</td>\n",
       "\t</tr>\n",
       "\t<tr>\n",
       "\t\t<td>1</td>\n",
       "\t\t<td>0</td>\n",
       "\t\t<td>0</td>\n",
       "\t\t<td>600</td>\n",
       "\t\t<td>0</td>\n",
       "\t\t<td>186</td>\n",
       "\t\t<td>0</td>\n",
       "\t\t<td>0</td>\n",
       "\t\t<td>0</td>\n",
       "\t\t<td>0.2105259998584337</td>\n",
       "\t\t<td>0.3546769571767342</td>\n",
       "\t\t<td>0.4145551516911169</td>\n",
       "\t\t<td>1.4267181331892167</td>\n",
       "\t\t<td>0.363183279393754</td>\n",
       "\t</tr>\n",
       "\t<tr>\n",
       "\t\t<td>1</td>\n",
       "\t\t<td>0</td>\n",
       "\t\t<td>0</td>\n",
       "\t\t<td>725</td>\n",
       "\t\t<td>0</td>\n",
       "\t\t<td>202</td>\n",
       "\t\t<td>0</td>\n",
       "\t\t<td>0</td>\n",
       "\t\t<td>0</td>\n",
       "\t\t<td>0.4415030968459726</td>\n",
       "\t\t<td>0.7066871703145455</td>\n",
       "\t\t<td>0.7251376583423533</td>\n",
       "\t\t<td>1.7694194460005386</td>\n",
       "\t\t<td>0.870439459017979</td>\n",
       "\t</tr>\n",
       "\t<tr>\n",
       "\t\t<td>0</td>\n",
       "\t\t<td>1</td>\n",
       "\t\t<td>0</td>\n",
       "\t\t<td>145</td>\n",
       "\t\t<td>0</td>\n",
       "\t\t<td>12</td>\n",
       "\t\t<td>0</td>\n",
       "\t\t<td>0</td>\n",
       "\t\t<td>0</td>\n",
       "\t\t<td>-0.6460140681370221</td>\n",
       "\t\t<td>-0.8186904199493035</td>\n",
       "\t\t<td>-0.6682865606875196</td>\n",
       "\t\t<td>-0.6019146736168475</td>\n",
       "\t\t<td>-0.5698139775533411</td>\n",
       "\t</tr>\n",
       "\t<tr>\n",
       "\t\t<td>0</td>\n",
       "\t\t<td>0</td>\n",
       "\t\t<td>1</td>\n",
       "\t\t<td>300</td>\n",
       "\t\t<td>0</td>\n",
       "\t\t<td>13</td>\n",
       "\t\t<td>0</td>\n",
       "\t\t<td>0</td>\n",
       "\t\t<td>0</td>\n",
       "\t\t<td>0.5281195082162998</td>\n",
       "\t\t<td>0.7066871703145455</td>\n",
       "\t\t<td>0.5488611005132729</td>\n",
       "\t\t<td>-0.7719731295686808</td>\n",
       "\t\t<td>-0.08888637116890477</td>\n",
       "\t</tr>\n",
       "\t<tr>\n",
       "\t\t<td>0</td>\n",
       "\t\t<td>0</td>\n",
       "\t\t<td>0</td>\n",
       "\t\t<td>90</td>\n",
       "\t\t<td>0</td>\n",
       "\t\t<td>16</td>\n",
       "\t\t<td>1</td>\n",
       "\t\t<td>0</td>\n",
       "\t\t<td>0</td>\n",
       "\t\t<td>-1.0502239878652149</td>\n",
       "\t\t<td>-1.3232383921134998</td>\n",
       "\t\t<td>-1.0460220417498345</td>\n",
       "\t\t<td>-0.4138629358739814</td>\n",
       "\t\t<td>-1.0727012236268585</td>\n",
       "\t</tr>\n",
       "\t<tr>\n",
       "\t\t<td>0</td>\n",
       "\t\t<td>1</td>\n",
       "\t\t<td>0</td>\n",
       "\t\t<td>150</td>\n",
       "\t\t<td>0</td>\n",
       "\t\t<td>20</td>\n",
       "\t\t<td>0</td>\n",
       "\t\t<td>0</td>\n",
       "\t\t<td>0</td>\n",
       "\t\t<td>-0.6556381138448364</td>\n",
       "\t\t<td>-0.8186904199493035</td>\n",
       "\t\t<td>-0.6347100734819805</td>\n",
       "\t\t<td>-0.8041318540705401</td>\n",
       "\t\t<td>-0.4510479681354299</td>\n",
       "\t</tr>\n",
       "\t<tr>\n",
       "\t\t<td>0</td>\n",
       "\t\t<td>0</td>\n",
       "\t\t<td>1</td>\n",
       "\t\t<td>300</td>\n",
       "\t\t<td>0</td>\n",
       "\t\t<td>37</td>\n",
       "\t\t<td>0</td>\n",
       "\t\t<td>0</td>\n",
       "\t\t<td>0</td>\n",
       "\t\t<td>0.43187905113815833</td>\n",
       "\t\t<td>0.5893504326019418</td>\n",
       "\t\t<td>0.46491988249942506</td>\n",
       "\t\t<td>-0.8277084170677333</td>\n",
       "\t\t<td>-0.21903460220576385</td>\n",
       "\t</tr>\n",
       "</table></html>"
      ],
      "text/plain": [
       "   Species_0  Species_4  Species_3  Weight  Species_5   id  Species_1  Species_6  Species_2   Length1   Length2   Length3    Height     Width\n",
       "0          1          0          0     925          0   42          0          0          0  0.864961  1.234702  1.094479  2.353153  1.270829\n",
       "1          1          0          0     475          0  122          0          0          0  0.114286  0.237340  0.330614  1.258098  0.324898\n",
       "2          1          0          0     950          0  154          0          0          0  1.038194  1.410708  1.195208  2.077475  1.052842\n",
       "3          1          0          0     600          0  186          0          0          0  0.210526  0.354677  0.414555  1.426718  0.363183\n",
       "4          1          0          0     725          0  202          0          0          0  0.441503  0.706687  0.725138  1.769419  0.870439\n",
       "5          0          1          0     145          0   12          0          0          0 -0.646014 -0.818690 -0.668287 -0.601915 -0.569814\n",
       "6          0          0          1     300          0   13          0          0          0  0.528120  0.706687  0.548861 -0.771973 -0.088886\n",
       "7          0          0          0      90          0   16          1          0          0 -1.050224 -1.323238 -1.046022 -0.413863 -1.072701\n",
       "8          0          1          0     150          0   20          0          0          0 -0.655638 -0.818690 -0.634710 -0.804132 -0.451048\n",
       "9          0          0          1     300          0   37          0          0          0  0.431879  0.589350  0.464920 -0.827708 -0.219035"
      ]
     },
     "metadata": {},
     "output_type": "display_data"
    },
    {
     "name": "stdout",
     "output_type": "stream",
     "text": [
      "                                                                                          \r"
     ]
    },
    {
     "data": {
      "text/html": [
       "39 rows X 14 columns"
      ],
      "text/plain": [
       "<IPython.core.display.HTML object>"
      ]
     },
     "metadata": {},
     "output_type": "display_data"
    },
    {
     "name": "stdout",
     "output_type": "stream",
     "text": [
      "                                                                                          \r"
     ]
    },
    {
     "data": {
      "text/html": [
       "Total time taken by feature scaling: 41.82 sec"
      ],
      "text/plain": [
       "<IPython.core.display.HTML object>"
      ]
     },
     "metadata": {},
     "output_type": "display_data"
    },
    {
     "name": "stdout",
     "output_type": "stream",
     "text": [
      "                                                                                          \r"
     ]
    },
    {
     "data": {
      "text/html": [
       "\n",
       "Dimension Reduction using pca ..."
      ],
      "text/plain": [
       "<IPython.core.display.HTML object>"
      ]
     },
     "metadata": {},
     "output_type": "display_data"
    },
    {
     "name": "stdout",
     "output_type": "stream",
     "text": [
      "                                                                                          \r"
     ]
    },
    {
     "data": {
      "text/html": [
       "PCA columns:"
      ],
      "text/plain": [
       "<IPython.core.display.HTML object>"
      ]
     },
     "metadata": {},
     "output_type": "display_data"
    },
    {
     "name": "stdout",
     "output_type": "stream",
     "text": [
      "['col_0', 'col_1', 'col_2', 'col_3', 'col_4']\n",
      "                                                                                          \r"
     ]
    },
    {
     "data": {
      "text/html": [
       "Total time taken by PCA: 9.41 sec  "
      ],
      "text/plain": [
       "<IPython.core.display.HTML object>"
      ]
     },
     "metadata": {},
     "output_type": "display_data"
    },
    {
     "name": "stdout",
     "output_type": "stream",
     "text": [
      "                                                                                          \r"
     ]
    },
    {
     "data": {
      "text/html": [
       "\n",
       "            <style>\n",
       "                .custom-div {\n",
       "                    background-color: lightgray;\n",
       "                    color: #000000;\n",
       "                    padding: 10px;\n",
       "                    border-radius: 8px;\n",
       "                    box-shadow: 0 3px 4px rgba(0 -  0 -  0 -  0.2);\n",
       "                    margin-bottom: 10px;\n",
       "                    text-align: center;\n",
       "                }\n",
       "            </style>\n",
       "        <br><div class=\"custom-div\"><h3><span style=\"color: green;\">1. Feature Exploration -> 2. Feature Engineering -> 3. Data Preparation -></span> 4. Model Training & Evaluation<center></h3></center></div>"
      ],
      "text/plain": [
       "<IPython.core.display.HTML object>"
      ]
     },
     "metadata": {},
     "output_type": "display_data"
    },
    {
     "name": "stdout",
     "output_type": "stream",
     "text": [
      "                                                                                          \r"
     ]
    },
    {
     "data": {
      "text/html": [
       "Model Training started ..."
      ],
      "text/plain": [
       "<IPython.core.display.HTML object>"
      ]
     },
     "metadata": {},
     "output_type": "display_data"
    },
    {
     "name": "stdout",
     "output_type": "stream",
     "text": [
      "                                                                                          \r"
     ]
    },
    {
     "data": {
      "text/html": [
       "\n",
       "Starting customized hyperparameter update ..."
      ],
      "text/plain": [
       "<IPython.core.display.HTML object>"
      ]
     },
     "metadata": {},
     "output_type": "display_data"
    },
    {
     "name": "stdout",
     "output_type": "stream",
     "text": [
      "Automl Running: ｜⫿⫿⫿⫿⫿⫿⫿⫿⫿⫿⫿⫿⫿⫿⫿⫿⫿⫿⫿⫿⫿⫿⫿⫿⫿⫿⫿⫿⫿⫿⫿⫿⫿⫿⫿⫿⫿⫿⫿⫿⫿⫿⫿⫿⫿⫿⫿⫿⫾⫾⫾⫾⫾⫾⫾⫾⫾⫾⫾⫾｜ 80% - 17/21\n",
      "Passed model xgboost is not available for training.\n",
      "                                                                                          \n",
      "Completed customized hyperparameter update.\n",
      "                                                                                          \r"
     ]
    },
    {
     "data": {
      "text/html": [
       "\n",
       "Hyperparameters used for model training: "
      ],
      "text/plain": [
       "<IPython.core.display.HTML object>"
      ]
     },
     "metadata": {},
     "output_type": "display_data"
    },
    {
     "name": "stdout",
     "output_type": "stream",
     "text": [
      "response_column : Weight                                                                                                                              \n",
      "name : knn\n",
      "model_type : Regression\n",
      "k : (3, 5, 6, 8, 10, 12)\n",
      "id_column : id\n",
      "voting_weight : 1.0\n",
      "Total number of models for knn : 6\n",
      "--------------------------------------------------------------------------------------------------------------------------------------------------------------------------------------------------------\n",
      "\n",
      "response_column : Weight\n",
      "name : svm\n",
      "model_type : regression\n",
      "lambda1 : (0.001, 0.02, 0.1)\n",
      "alpha : (0.15, 0.85)\n",
      "tolerance : (0.001, 0.01)\n",
      "learning_rate : ('Invtime', 'Adaptive', 'constant')\n",
      "initial_eta : (0.05, 0.1)\n",
      "momentum : (0.65, 0.8, 0.95)\n",
      "nesterov : True\n",
      "intercept : True\n",
      "iter_num_no_change : (5, 10, 50)\n",
      "local_sgd_iterations  : (10, 20)\n",
      "iter_max : (300, 200, 400)\n",
      "batch_size : (10, 50, 60, 80)\n",
      "Total number of models for svm : 15552\n",
      "--------------------------------------------------------------------------------------------------------------------------------------------------------------------------------------------------------\n",
      "\n",
      "response_column : Weight\n",
      "name : decision_forest\n",
      "tree_type : Regression\n",
      "min_impurity : (0.0, 0.1, 0.2)\n",
      "max_depth : (5, 6, 8, 10)\n",
      "min_node_size : (1, 2, 3)\n",
      "num_trees : (-1, 20, 30)\n",
      "seed : 42\n",
      "Total number of models for decision_forest : 108\n",
      "--------------------------------------------------------------------------------------------------------------------------------------------------------------------------------------------------------\n",
      "\n",
      "                                                                                          \r"
     ]
    },
    {
     "data": {
      "text/html": [
       "\n",
       "Performing hyperParameter tuning ..."
      ],
      "text/plain": [
       "<IPython.core.display.HTML object>"
      ]
     },
     "metadata": {},
     "output_type": "display_data"
    },
    {
     "name": "stdout",
     "output_type": "stream",
     "text": [
      "                                                                                          \r"
     ]
    },
    {
     "data": {
      "text/html": [
       "knn"
      ],
      "text/plain": [
       "<IPython.core.display.HTML object>"
      ]
     },
     "metadata": {},
     "output_type": "display_data"
    },
    {
     "name": "stdout",
     "output_type": "stream",
     "text": [
      "result data stored in table '\"ALICE\".\"ml__td_sqlmr_persist_out__1719265576809261\"'                                                                                                                      \n",
      "result data stored in table '\"ALICE\".\"ml__td_sqlmr_persist_out__1719266051070609\"'\n",
      "result data stored in table '\"ALICE\".\"ml__td_sqlmr_persist_out__1719269641191309\"'\n",
      "                                                                                          \r"
     ]
    },
    {
     "data": {
      "text/html": [
       "----------------------------------------------------------------------------------------------------"
      ],
      "text/plain": [
       "<IPython.core.display.HTML object>"
      ]
     },
     "metadata": {},
     "output_type": "display_data"
    },
    {
     "name": "stdout",
     "output_type": "stream",
     "text": [
      "                                                                                          \r"
     ]
    },
    {
     "data": {
      "text/html": [
       "svm"
      ],
      "text/plain": [
       "<IPython.core.display.HTML object>"
      ]
     },
     "metadata": {},
     "output_type": "display_data"
    },
    {
     "name": "stdout",
     "output_type": "stream",
     "text": [
      "result data stored in table '\"ALICE\".\"ml__td_sqlmr_persist_out__1719265895411325\"'                                                                                                                      \n",
      "result data stored in table '\"ALICE\".\"ml__td_sqlmr_persist_out__1719265866584391\"'\n",
      "result data stored in table '\"ALICE\".\"ml__td_sqlmr_persist_out__1719265228649416\"'\n",
      "                                                                                          \r"
     ]
    },
    {
     "data": {
      "text/html": [
       "----------------------------------------------------------------------------------------------------"
      ],
      "text/plain": [
       "<IPython.core.display.HTML object>"
      ]
     },
     "metadata": {},
     "output_type": "display_data"
    },
    {
     "name": "stdout",
     "output_type": "stream",
     "text": [
      "                                                                                          \r"
     ]
    },
    {
     "data": {
      "text/html": [
       "decision_forest"
      ],
      "text/plain": [
       "<IPython.core.display.HTML object>"
      ]
     },
     "metadata": {},
     "output_type": "display_data"
    },
    {
     "name": "stdout",
     "output_type": "stream",
     "text": [
      "result data stored in table '\"ALICE\".\"ml__td_sqlmr_persist_out__1719265235561393\"'                                                                                                                      \n",
      "result data stored in table '\"ALICE\".\"ml__td_sqlmr_persist_out__1719272862533797\"'\n",
      "result data stored in table '\"ALICE\".\"ml__td_sqlmr_persist_out__1719266053887160\"'\n",
      "                                                                                          \r"
     ]
    },
    {
     "data": {
      "text/html": [
       "----------------------------------------------------------------------------------------------------"
      ],
      "text/plain": [
       "<IPython.core.display.HTML object>"
      ]
     },
     "metadata": {},
     "output_type": "display_data"
    },
    {
     "name": "stdout",
     "output_type": "stream",
     "text": [
      "                                                                                          \r"
     ]
    },
    {
     "data": {
      "text/html": [
       "Evaluating models performance ..."
      ],
      "text/plain": [
       "<IPython.core.display.HTML object>"
      ]
     },
     "metadata": {},
     "output_type": "display_data"
    },
    {
     "name": "stdout",
     "output_type": "stream",
     "text": [
      "                                                                                          \r"
     ]
    },
    {
     "data": {
      "text/html": [
       "Evaluation completed."
      ],
      "text/plain": [
       "<IPython.core.display.HTML object>"
      ]
     },
     "metadata": {},
     "output_type": "display_data"
    },
    {
     "name": "stdout",
     "output_type": "stream",
     "text": [
      "                                                                                          \r"
     ]
    },
    {
     "data": {
      "text/html": [
       "Leaderboard"
      ],
      "text/plain": [
       "<IPython.core.display.HTML object>"
      ]
     },
     "metadata": {},
     "output_type": "display_data"
    },
    {
     "data": {
      "text/html": [
       "<div>\n",
       "<style scoped>\n",
       "    .dataframe tbody tr th:only-of-type {\n",
       "        vertical-align: middle;\n",
       "    }\n",
       "\n",
       "    .dataframe tbody tr th {\n",
       "        vertical-align: top;\n",
       "    }\n",
       "\n",
       "    .dataframe thead th {\n",
       "        text-align: right;\n",
       "    }\n",
       "</style>\n",
       "<table border=\"1\" class=\"dataframe\">\n",
       "  <thead>\n",
       "    <tr style=\"text-align: right;\">\n",
       "      <th></th>\n",
       "      <th>Rank</th>\n",
       "      <th>Model-ID</th>\n",
       "      <th>Feature-Selection</th>\n",
       "      <th>MAE</th>\n",
       "      <th>MSE</th>\n",
       "      <th>MSLE</th>\n",
       "      <th>RMSE</th>\n",
       "      <th>RMSLE</th>\n",
       "      <th>R2-score</th>\n",
       "      <th>Adjusted R2-score</th>\n",
       "    </tr>\n",
       "  </thead>\n",
       "  <tbody>\n",
       "    <tr>\n",
       "      <th>0</th>\n",
       "      <td>1</td>\n",
       "      <td>KNN_8</td>\n",
       "      <td>pca</td>\n",
       "      <td>36.211839</td>\n",
       "      <td>2371.638960</td>\n",
       "      <td>0.037129</td>\n",
       "      <td>48.699476</td>\n",
       "      <td>0.192690</td>\n",
       "      <td>0.975797</td>\n",
       "      <td>0.972130</td>\n",
       "    </tr>\n",
       "    <tr>\n",
       "      <th>1</th>\n",
       "      <td>2</td>\n",
       "      <td>KNN_4</td>\n",
       "      <td>rfe</td>\n",
       "      <td>37.042925</td>\n",
       "      <td>2468.084425</td>\n",
       "      <td>0.066792</td>\n",
       "      <td>49.679819</td>\n",
       "      <td>0.258441</td>\n",
       "      <td>0.974813</td>\n",
       "      <td>0.965818</td>\n",
       "    </tr>\n",
       "    <tr>\n",
       "      <th>2</th>\n",
       "      <td>3</td>\n",
       "      <td>KNN_0</td>\n",
       "      <td>lasso</td>\n",
       "      <td>37.424751</td>\n",
       "      <td>2485.402708</td>\n",
       "      <td>0.041486</td>\n",
       "      <td>49.853813</td>\n",
       "      <td>0.203681</td>\n",
       "      <td>0.974636</td>\n",
       "      <td>0.962930</td>\n",
       "    </tr>\n",
       "    <tr>\n",
       "      <th>3</th>\n",
       "      <td>4</td>\n",
       "      <td>KNN_9</td>\n",
       "      <td>lasso</td>\n",
       "      <td>42.152893</td>\n",
       "      <td>3172.844643</td>\n",
       "      <td>0.110092</td>\n",
       "      <td>56.328009</td>\n",
       "      <td>0.331801</td>\n",
       "      <td>0.967621</td>\n",
       "      <td>0.952677</td>\n",
       "    </tr>\n",
       "    <tr>\n",
       "      <th>4</th>\n",
       "      <td>5</td>\n",
       "      <td>DECISIONFOREST_1</td>\n",
       "      <td>rfe</td>\n",
       "      <td>49.562271</td>\n",
       "      <td>4374.187118</td>\n",
       "      <td>0.161862</td>\n",
       "      <td>66.137638</td>\n",
       "      <td>0.402321</td>\n",
       "      <td>0.955361</td>\n",
       "      <td>0.939418</td>\n",
       "    </tr>\n",
       "    <tr>\n",
       "      <th>5</th>\n",
       "      <td>6</td>\n",
       "      <td>DECISIONFOREST_0</td>\n",
       "      <td>lasso</td>\n",
       "      <td>49.562271</td>\n",
       "      <td>4374.187118</td>\n",
       "      <td>0.161862</td>\n",
       "      <td>66.137638</td>\n",
       "      <td>0.402321</td>\n",
       "      <td>0.955361</td>\n",
       "      <td>0.934758</td>\n",
       "    </tr>\n",
       "    <tr>\n",
       "      <th>6</th>\n",
       "      <td>7</td>\n",
       "      <td>DECISIONFOREST_2</td>\n",
       "      <td>pca</td>\n",
       "      <td>47.484829</td>\n",
       "      <td>5064.104720</td>\n",
       "      <td>0.032911</td>\n",
       "      <td>71.162523</td>\n",
       "      <td>0.181414</td>\n",
       "      <td>0.948320</td>\n",
       "      <td>0.940490</td>\n",
       "    </tr>\n",
       "    <tr>\n",
       "      <th>7</th>\n",
       "      <td>8</td>\n",
       "      <td>DECISIONFOREST_3</td>\n",
       "      <td>lasso</td>\n",
       "      <td>203.906410</td>\n",
       "      <td>55579.327500</td>\n",
       "      <td>1.257591</td>\n",
       "      <td>235.752683</td>\n",
       "      <td>1.121423</td>\n",
       "      <td>0.432807</td>\n",
       "      <td>0.171025</td>\n",
       "    </tr>\n",
       "    <tr>\n",
       "      <th>8</th>\n",
       "      <td>9</td>\n",
       "      <td>SVM_3</td>\n",
       "      <td>lasso</td>\n",
       "      <td>355.051282</td>\n",
       "      <td>222648.743590</td>\n",
       "      <td>8.239819</td>\n",
       "      <td>471.856698</td>\n",
       "      <td>2.870509</td>\n",
       "      <td>-1.272155</td>\n",
       "      <td>-2.320842</td>\n",
       "    </tr>\n",
       "    <tr>\n",
       "      <th>9</th>\n",
       "      <td>10</td>\n",
       "      <td>SVM_2</td>\n",
       "      <td>pca</td>\n",
       "      <td>369.666667</td>\n",
       "      <td>234643.564103</td>\n",
       "      <td>0.000000</td>\n",
       "      <td>484.400211</td>\n",
       "      <td>0.000000</td>\n",
       "      <td>-1.394564</td>\n",
       "      <td>-1.757376</td>\n",
       "    </tr>\n",
       "    <tr>\n",
       "      <th>10</th>\n",
       "      <td>11</td>\n",
       "      <td>SVM_1</td>\n",
       "      <td>rfe</td>\n",
       "      <td>369.666667</td>\n",
       "      <td>234643.564103</td>\n",
       "      <td>0.000000</td>\n",
       "      <td>484.400211</td>\n",
       "      <td>0.000000</td>\n",
       "      <td>-1.394564</td>\n",
       "      <td>-2.249765</td>\n",
       "    </tr>\n",
       "    <tr>\n",
       "      <th>11</th>\n",
       "      <td>12</td>\n",
       "      <td>SVM_0</td>\n",
       "      <td>lasso</td>\n",
       "      <td>369.666667</td>\n",
       "      <td>234643.564103</td>\n",
       "      <td>0.000000</td>\n",
       "      <td>484.400211</td>\n",
       "      <td>0.000000</td>\n",
       "      <td>-1.394564</td>\n",
       "      <td>-2.499747</td>\n",
       "    </tr>\n",
       "  </tbody>\n",
       "</table>\n",
       "</div>"
      ],
      "text/plain": [
       "    Rank          Model-ID Feature-Selection         MAE            MSE  \\\n",
       "0      1             KNN_8               pca   36.211839    2371.638960   \n",
       "1      2             KNN_4               rfe   37.042925    2468.084425   \n",
       "2      3             KNN_0             lasso   37.424751    2485.402708   \n",
       "3      4             KNN_9             lasso   42.152893    3172.844643   \n",
       "4      5  DECISIONFOREST_1               rfe   49.562271    4374.187118   \n",
       "5      6  DECISIONFOREST_0             lasso   49.562271    4374.187118   \n",
       "6      7  DECISIONFOREST_2               pca   47.484829    5064.104720   \n",
       "7      8  DECISIONFOREST_3             lasso  203.906410   55579.327500   \n",
       "8      9             SVM_3             lasso  355.051282  222648.743590   \n",
       "9     10             SVM_2               pca  369.666667  234643.564103   \n",
       "10    11             SVM_1               rfe  369.666667  234643.564103   \n",
       "11    12             SVM_0             lasso  369.666667  234643.564103   \n",
       "\n",
       "        MSLE        RMSE     RMSLE  R2-score  Adjusted R2-score  \n",
       "0   0.037129   48.699476  0.192690  0.975797           0.972130  \n",
       "1   0.066792   49.679819  0.258441  0.974813           0.965818  \n",
       "2   0.041486   49.853813  0.203681  0.974636           0.962930  \n",
       "3   0.110092   56.328009  0.331801  0.967621           0.952677  \n",
       "4   0.161862   66.137638  0.402321  0.955361           0.939418  \n",
       "5   0.161862   66.137638  0.402321  0.955361           0.934758  \n",
       "6   0.032911   71.162523  0.181414  0.948320           0.940490  \n",
       "7   1.257591  235.752683  1.121423  0.432807           0.171025  \n",
       "8   8.239819  471.856698  2.870509 -1.272155          -2.320842  \n",
       "9   0.000000  484.400211  0.000000 -1.394564          -1.757376  \n",
       "10  0.000000  484.400211  0.000000 -1.394564          -2.249765  \n",
       "11  0.000000  484.400211  0.000000 -1.394564          -2.499747  "
      ]
     },
     "metadata": {},
     "output_type": "display_data"
    },
    {
     "name": "stdout",
     "output_type": "stream",
     "text": [
      "                                                                                          \r"
     ]
    },
    {
     "data": {
      "text/html": [
       "12 rows X 10 columns"
      ],
      "text/plain": [
       "<IPython.core.display.HTML object>"
      ]
     },
     "metadata": {},
     "output_type": "display_data"
    },
    {
     "name": "stdout",
     "output_type": "stream",
     "text": [
      "                                                                                          \r"
     ]
    },
    {
     "data": {
      "text/html": [
       "\n",
       "            <style>\n",
       "                .custom-div {\n",
       "                    background-color: lightgray;\n",
       "                    color: #000000;\n",
       "                    padding: 10px;\n",
       "                    border-radius: 8px;\n",
       "                    box-shadow: 0 3px 4px rgba(0 -  0 -  0 -  0.2);\n",
       "                    margin-bottom: 10px;\n",
       "                    text-align: center;\n",
       "                }\n",
       "            </style>\n",
       "        <br><div class=\"custom-div\"><h3><span style=\"color: green;\">1. Feature Exploration -> 2. Feature Engineering -> 3. Data Preparation -> 4. Model Training & Evaluation</span><center></h3></center></div>"
      ],
      "text/plain": [
       "<IPython.core.display.HTML object>"
      ]
     },
     "metadata": {},
     "output_type": "display_data"
    },
    {
     "name": "stdout",
     "output_type": "stream",
     "text": [
      "Completed: ｜⫿⫿⫿⫿⫿⫿⫿⫿⫿⫿⫿⫿⫿⫿⫿⫿⫿⫿⫿⫿⫿⫿⫿⫿⫿⫿⫿⫿⫿⫿⫿⫿⫿⫿⫿⫿⫿⫿⫿⫿⫿⫿⫿⫿⫿⫿⫿⫿⫿⫿⫿⫿⫿⫿⫿⫿⫿⫿⫿⫿｜ 100% - 21/21    \r"
     ]
    }
   ],
   "source": [
    "# Fitting train data\n",
    "aml.fit(fish_df_train, fish_df_train.Weight)"
   ]
  },
  {
   "cell_type": "markdown",
   "id": "23a04eb1-68e6-48b7-95aa-442f434809da",
   "metadata": {},
   "source": [
    "## <b><span style='color:#F1A424'>| 3.</span> Leaderboard : </b>"
   ]
  },
  {
   "cell_type": "code",
   "execution_count": 19,
   "id": "77de1099-6122-4f8a-8e7f-dd67e5b4ced4",
   "metadata": {},
   "outputs": [
    {
     "data": {
      "text/html": [
       "<div>\n",
       "<style scoped>\n",
       "    .dataframe tbody tr th:only-of-type {\n",
       "        vertical-align: middle;\n",
       "    }\n",
       "\n",
       "    .dataframe tbody tr th {\n",
       "        vertical-align: top;\n",
       "    }\n",
       "\n",
       "    .dataframe thead th {\n",
       "        text-align: right;\n",
       "    }\n",
       "</style>\n",
       "<table border=\"1\" class=\"dataframe\">\n",
       "  <thead>\n",
       "    <tr style=\"text-align: right;\">\n",
       "      <th></th>\n",
       "      <th>Rank</th>\n",
       "      <th>Model-ID</th>\n",
       "      <th>Feature-Selection</th>\n",
       "      <th>MAE</th>\n",
       "      <th>MSE</th>\n",
       "      <th>MSLE</th>\n",
       "      <th>RMSE</th>\n",
       "      <th>RMSLE</th>\n",
       "      <th>R2-score</th>\n",
       "      <th>Adjusted R2-score</th>\n",
       "    </tr>\n",
       "  </thead>\n",
       "  <tbody>\n",
       "    <tr>\n",
       "      <th>0</th>\n",
       "      <td>1</td>\n",
       "      <td>KNN_8</td>\n",
       "      <td>pca</td>\n",
       "      <td>36.211839</td>\n",
       "      <td>2371.638960</td>\n",
       "      <td>0.037129</td>\n",
       "      <td>48.699476</td>\n",
       "      <td>0.192690</td>\n",
       "      <td>0.975797</td>\n",
       "      <td>0.972130</td>\n",
       "    </tr>\n",
       "    <tr>\n",
       "      <th>1</th>\n",
       "      <td>2</td>\n",
       "      <td>KNN_4</td>\n",
       "      <td>rfe</td>\n",
       "      <td>37.042925</td>\n",
       "      <td>2468.084425</td>\n",
       "      <td>0.066792</td>\n",
       "      <td>49.679819</td>\n",
       "      <td>0.258441</td>\n",
       "      <td>0.974813</td>\n",
       "      <td>0.965818</td>\n",
       "    </tr>\n",
       "    <tr>\n",
       "      <th>2</th>\n",
       "      <td>3</td>\n",
       "      <td>KNN_0</td>\n",
       "      <td>lasso</td>\n",
       "      <td>37.424751</td>\n",
       "      <td>2485.402708</td>\n",
       "      <td>0.041486</td>\n",
       "      <td>49.853813</td>\n",
       "      <td>0.203681</td>\n",
       "      <td>0.974636</td>\n",
       "      <td>0.962930</td>\n",
       "    </tr>\n",
       "    <tr>\n",
       "      <th>3</th>\n",
       "      <td>4</td>\n",
       "      <td>KNN_9</td>\n",
       "      <td>lasso</td>\n",
       "      <td>42.152893</td>\n",
       "      <td>3172.844643</td>\n",
       "      <td>0.110092</td>\n",
       "      <td>56.328009</td>\n",
       "      <td>0.331801</td>\n",
       "      <td>0.967621</td>\n",
       "      <td>0.952677</td>\n",
       "    </tr>\n",
       "    <tr>\n",
       "      <th>4</th>\n",
       "      <td>5</td>\n",
       "      <td>DECISIONFOREST_1</td>\n",
       "      <td>rfe</td>\n",
       "      <td>49.562271</td>\n",
       "      <td>4374.187118</td>\n",
       "      <td>0.161862</td>\n",
       "      <td>66.137638</td>\n",
       "      <td>0.402321</td>\n",
       "      <td>0.955361</td>\n",
       "      <td>0.939418</td>\n",
       "    </tr>\n",
       "    <tr>\n",
       "      <th>5</th>\n",
       "      <td>6</td>\n",
       "      <td>DECISIONFOREST_0</td>\n",
       "      <td>lasso</td>\n",
       "      <td>49.562271</td>\n",
       "      <td>4374.187118</td>\n",
       "      <td>0.161862</td>\n",
       "      <td>66.137638</td>\n",
       "      <td>0.402321</td>\n",
       "      <td>0.955361</td>\n",
       "      <td>0.934758</td>\n",
       "    </tr>\n",
       "    <tr>\n",
       "      <th>6</th>\n",
       "      <td>7</td>\n",
       "      <td>DECISIONFOREST_2</td>\n",
       "      <td>pca</td>\n",
       "      <td>47.484829</td>\n",
       "      <td>5064.104720</td>\n",
       "      <td>0.032911</td>\n",
       "      <td>71.162523</td>\n",
       "      <td>0.181414</td>\n",
       "      <td>0.948320</td>\n",
       "      <td>0.940490</td>\n",
       "    </tr>\n",
       "    <tr>\n",
       "      <th>7</th>\n",
       "      <td>8</td>\n",
       "      <td>DECISIONFOREST_3</td>\n",
       "      <td>lasso</td>\n",
       "      <td>203.906410</td>\n",
       "      <td>55579.327500</td>\n",
       "      <td>1.257591</td>\n",
       "      <td>235.752683</td>\n",
       "      <td>1.121423</td>\n",
       "      <td>0.432807</td>\n",
       "      <td>0.171025</td>\n",
       "    </tr>\n",
       "    <tr>\n",
       "      <th>8</th>\n",
       "      <td>9</td>\n",
       "      <td>SVM_3</td>\n",
       "      <td>lasso</td>\n",
       "      <td>355.051282</td>\n",
       "      <td>222648.743590</td>\n",
       "      <td>8.239819</td>\n",
       "      <td>471.856698</td>\n",
       "      <td>2.870509</td>\n",
       "      <td>-1.272155</td>\n",
       "      <td>-2.320842</td>\n",
       "    </tr>\n",
       "    <tr>\n",
       "      <th>9</th>\n",
       "      <td>10</td>\n",
       "      <td>SVM_2</td>\n",
       "      <td>pca</td>\n",
       "      <td>369.666667</td>\n",
       "      <td>234643.564103</td>\n",
       "      <td>0.000000</td>\n",
       "      <td>484.400211</td>\n",
       "      <td>0.000000</td>\n",
       "      <td>-1.394564</td>\n",
       "      <td>-1.757376</td>\n",
       "    </tr>\n",
       "    <tr>\n",
       "      <th>10</th>\n",
       "      <td>11</td>\n",
       "      <td>SVM_1</td>\n",
       "      <td>rfe</td>\n",
       "      <td>369.666667</td>\n",
       "      <td>234643.564103</td>\n",
       "      <td>0.000000</td>\n",
       "      <td>484.400211</td>\n",
       "      <td>0.000000</td>\n",
       "      <td>-1.394564</td>\n",
       "      <td>-2.249765</td>\n",
       "    </tr>\n",
       "    <tr>\n",
       "      <th>11</th>\n",
       "      <td>12</td>\n",
       "      <td>SVM_0</td>\n",
       "      <td>lasso</td>\n",
       "      <td>369.666667</td>\n",
       "      <td>234643.564103</td>\n",
       "      <td>0.000000</td>\n",
       "      <td>484.400211</td>\n",
       "      <td>0.000000</td>\n",
       "      <td>-1.394564</td>\n",
       "      <td>-2.499747</td>\n",
       "    </tr>\n",
       "  </tbody>\n",
       "</table>\n",
       "</div>"
      ],
      "text/plain": [
       "    Rank          Model-ID Feature-Selection         MAE            MSE  \\\n",
       "0      1             KNN_8               pca   36.211839    2371.638960   \n",
       "1      2             KNN_4               rfe   37.042925    2468.084425   \n",
       "2      3             KNN_0             lasso   37.424751    2485.402708   \n",
       "3      4             KNN_9             lasso   42.152893    3172.844643   \n",
       "4      5  DECISIONFOREST_1               rfe   49.562271    4374.187118   \n",
       "5      6  DECISIONFOREST_0             lasso   49.562271    4374.187118   \n",
       "6      7  DECISIONFOREST_2               pca   47.484829    5064.104720   \n",
       "7      8  DECISIONFOREST_3             lasso  203.906410   55579.327500   \n",
       "8      9             SVM_3             lasso  355.051282  222648.743590   \n",
       "9     10             SVM_2               pca  369.666667  234643.564103   \n",
       "10    11             SVM_1               rfe  369.666667  234643.564103   \n",
       "11    12             SVM_0             lasso  369.666667  234643.564103   \n",
       "\n",
       "        MSLE        RMSE     RMSLE  R2-score  Adjusted R2-score  \n",
       "0   0.037129   48.699476  0.192690  0.975797           0.972130  \n",
       "1   0.066792   49.679819  0.258441  0.974813           0.965818  \n",
       "2   0.041486   49.853813  0.203681  0.974636           0.962930  \n",
       "3   0.110092   56.328009  0.331801  0.967621           0.952677  \n",
       "4   0.161862   66.137638  0.402321  0.955361           0.939418  \n",
       "5   0.161862   66.137638  0.402321  0.955361           0.934758  \n",
       "6   0.032911   71.162523  0.181414  0.948320           0.940490  \n",
       "7   1.257591  235.752683  1.121423  0.432807           0.171025  \n",
       "8   8.239819  471.856698  2.870509 -1.272155          -2.320842  \n",
       "9   0.000000  484.400211  0.000000 -1.394564          -1.757376  \n",
       "10  0.000000  484.400211  0.000000 -1.394564          -2.249765  \n",
       "11  0.000000  484.400211  0.000000 -1.394564          -2.499747  "
      ]
     },
     "execution_count": 19,
     "metadata": {},
     "output_type": "execute_result"
    }
   ],
   "source": [
    "# Fetching Leaderboard\n",
    "aml.leaderboard()"
   ]
  },
  {
   "cell_type": "markdown",
   "id": "a7a3aa08-e349-4a61-9217-2c17d50411d8",
   "metadata": {},
   "source": [
    "## <b><span style='color:#F1A424'>| 4.</span> Best Performing Model : </b>"
   ]
  },
  {
   "cell_type": "code",
   "execution_count": 20,
   "id": "c4c32832-a76b-4f42-826a-cefc38a6301b",
   "metadata": {},
   "outputs": [
    {
     "data": {
      "text/html": [
       "<div>\n",
       "<style scoped>\n",
       "    .dataframe tbody tr th:only-of-type {\n",
       "        vertical-align: middle;\n",
       "    }\n",
       "\n",
       "    .dataframe tbody tr th {\n",
       "        vertical-align: top;\n",
       "    }\n",
       "\n",
       "    .dataframe thead th {\n",
       "        text-align: right;\n",
       "    }\n",
       "</style>\n",
       "<table border=\"1\" class=\"dataframe\">\n",
       "  <thead>\n",
       "    <tr style=\"text-align: right;\">\n",
       "      <th></th>\n",
       "      <th>Rank</th>\n",
       "      <th>Model-ID</th>\n",
       "      <th>Feature-Selection</th>\n",
       "      <th>MAE</th>\n",
       "      <th>MSE</th>\n",
       "      <th>MSLE</th>\n",
       "      <th>RMSE</th>\n",
       "      <th>RMSLE</th>\n",
       "      <th>R2-score</th>\n",
       "      <th>Adjusted R2-score</th>\n",
       "    </tr>\n",
       "  </thead>\n",
       "  <tbody>\n",
       "    <tr>\n",
       "      <th>0</th>\n",
       "      <td>1</td>\n",
       "      <td>KNN_8</td>\n",
       "      <td>pca</td>\n",
       "      <td>36.211839</td>\n",
       "      <td>2371.63896</td>\n",
       "      <td>0.037129</td>\n",
       "      <td>48.699476</td>\n",
       "      <td>0.19269</td>\n",
       "      <td>0.975797</td>\n",
       "      <td>0.97213</td>\n",
       "    </tr>\n",
       "  </tbody>\n",
       "</table>\n",
       "</div>"
      ],
      "text/plain": [
       "   Rank Model-ID Feature-Selection        MAE         MSE      MSLE  \\\n",
       "0     1    KNN_8               pca  36.211839  2371.63896  0.037129   \n",
       "\n",
       "        RMSE    RMSLE  R2-score  Adjusted R2-score  \n",
       "0  48.699476  0.19269  0.975797            0.97213  "
      ]
     },
     "metadata": {},
     "output_type": "display_data"
    }
   ],
   "source": [
    "# Fetching best performing model for dataset\n",
    "aml.leader()"
   ]
  },
  {
   "cell_type": "markdown",
   "id": "e43181a9-3847-4e8b-b510-6da81f1c550f",
   "metadata": {},
   "source": [
    "## <b><span style='color:#F1A424'>| 5.</span> Generating Prediction : </b>"
   ]
  },
  {
   "cell_type": "code",
   "execution_count": 23,
   "id": "5b6edfe3-bd5a-46bd-ad80-b20fadfed7a0",
   "metadata": {},
   "outputs": [
    {
     "name": "stdout",
     "output_type": "stream",
     "text": [
      "Data Transformation started ...\n",
      "                                                                                                \r"
     ]
    },
    {
     "data": {
      "text/html": [
       "Performing transformation carried out in feature engineering phase ..."
      ],
      "text/plain": [
       "<IPython.core.display.HTML object>"
      ]
     },
     "metadata": {},
     "output_type": "display_data"
    },
    {
     "name": "stdout",
     "output_type": "stream",
     "text": [
      "result data stored in table '\"ALICE\".\"ml__td_sqlmr_persist_out__1719272485352162\"'⫾⫾⫾｜ 46% - 7/15\n",
      "                                                                                                 \r"
     ]
    },
    {
     "data": {
      "text/html": [
       "\n",
       "Updated dataset after performing categorical encoding :"
      ],
      "text/plain": [
       "<IPython.core.display.HTML object>"
      ]
     },
     "metadata": {},
     "output_type": "display_data"
    },
    {
     "data": {
      "text/html": [
       "<style type=\"text/css\">\n",
       "\ttable {border:ridge 5px;}\n",
       "\ttable td {border:inset 1px;}\n",
       "\ttable tr#HeaderRow {background-color:grey; color:white;}</style>\n",
       "<html><table>\n",
       "\t<tr id=\"HeaderRow\">\n",
       "\t\t<th>Species_0</th>\n",
       "\t\t<th>Species_1</th>\n",
       "\t\t<th>Species_2</th>\n",
       "\t\t<th>Species_3</th>\n",
       "\t\t<th>Species_4</th>\n",
       "\t\t<th>Species_5</th>\n",
       "\t\t<th>Species_6</th>\n",
       "\t\t<th>Weight</th>\n",
       "\t\t<th>Length1</th>\n",
       "\t\t<th>Length2</th>\n",
       "\t\t<th>Length3</th>\n",
       "\t\t<th>Height</th>\n",
       "\t\t<th>Width</th>\n",
       "\t\t<th>id</th>\n",
       "\t</tr>\n",
       "\t<tr>\n",
       "\t\t<td>0</td>\n",
       "\t\t<td>1</td>\n",
       "\t\t<td>0</td>\n",
       "\t\t<td>0</td>\n",
       "\t\t<td>0</td>\n",
       "\t\t<td>0</td>\n",
       "\t\t<td>0</td>\n",
       "\t\t<td>150</td>\n",
       "\t\t<td>18.4</td>\n",
       "\t\t<td>20.0</td>\n",
       "\t\t<td>22.4</td>\n",
       "\t\t<td>8.8928</td>\n",
       "\t\t<td>3.2928</td>\n",
       "\t\t<td>24</td>\n",
       "\t</tr>\n",
       "\t<tr>\n",
       "\t\t<td>0</td>\n",
       "\t\t<td>0</td>\n",
       "\t\t<td>1</td>\n",
       "\t\t<td>0</td>\n",
       "\t\t<td>0</td>\n",
       "\t\t<td>0</td>\n",
       "\t\t<td>0</td>\n",
       "\t\t<td>120</td>\n",
       "\t\t<td>20.0</td>\n",
       "\t\t<td>22.0</td>\n",
       "\t\t<td>23.5</td>\n",
       "\t\t<td>6.11</td>\n",
       "\t\t<td>3.4075</td>\n",
       "\t\t<td>48</td>\n",
       "\t</tr>\n",
       "\t<tr>\n",
       "\t\t<td>0</td>\n",
       "\t\t<td>0</td>\n",
       "\t\t<td>1</td>\n",
       "\t\t<td>0</td>\n",
       "\t\t<td>0</td>\n",
       "\t\t<td>0</td>\n",
       "\t\t<td>0</td>\n",
       "\t\t<td>115</td>\n",
       "\t\t<td>19.0</td>\n",
       "\t\t<td>21.0</td>\n",
       "\t\t<td>22.5</td>\n",
       "\t\t<td>5.9175</td>\n",
       "\t\t<td>3.3075</td>\n",
       "\t\t<td>56</td>\n",
       "\t</tr>\n",
       "\t<tr>\n",
       "\t\t<td>0</td>\n",
       "\t\t<td>0</td>\n",
       "\t\t<td>1</td>\n",
       "\t\t<td>0</td>\n",
       "\t\t<td>0</td>\n",
       "\t\t<td>0</td>\n",
       "\t\t<td>0</td>\n",
       "\t\t<td>85</td>\n",
       "\t\t<td>18.2</td>\n",
       "\t\t<td>20.0</td>\n",
       "\t\t<td>21.0</td>\n",
       "\t\t<td>5.082</td>\n",
       "\t\t<td>2.772</td>\n",
       "\t\t<td>64</td>\n",
       "\t</tr>\n",
       "\t<tr>\n",
       "\t\t<td>0</td>\n",
       "\t\t<td>0</td>\n",
       "\t\t<td>1</td>\n",
       "\t\t<td>0</td>\n",
       "\t\t<td>0</td>\n",
       "\t\t<td>0</td>\n",
       "\t\t<td>0</td>\n",
       "\t\t<td>225</td>\n",
       "\t\t<td>22.0</td>\n",
       "\t\t<td>24.0</td>\n",
       "\t\t<td>25.5</td>\n",
       "\t\t<td>7.293</td>\n",
       "\t\t<td>3.723</td>\n",
       "\t\t<td>80</td>\n",
       "\t</tr>\n",
       "\t<tr>\n",
       "\t\t<td>0</td>\n",
       "\t\t<td>0</td>\n",
       "\t\t<td>1</td>\n",
       "\t\t<td>0</td>\n",
       "\t\t<td>0</td>\n",
       "\t\t<td>0</td>\n",
       "\t\t<td>0</td>\n",
       "\t\t<td>690</td>\n",
       "\t\t<td>34.6</td>\n",
       "\t\t<td>37.0</td>\n",
       "\t\t<td>39.3</td>\n",
       "\t\t<td>10.5717</td>\n",
       "\t\t<td>6.3666</td>\n",
       "\t\t<td>88</td>\n",
       "\t</tr>\n",
       "\t<tr>\n",
       "\t\t<td>1</td>\n",
       "\t\t<td>0</td>\n",
       "\t\t<td>0</td>\n",
       "\t\t<td>0</td>\n",
       "\t\t<td>0</td>\n",
       "\t\t<td>0</td>\n",
       "\t\t<td>0</td>\n",
       "\t\t<td>975</td>\n",
       "\t\t<td>37.4</td>\n",
       "\t\t<td>41.0</td>\n",
       "\t\t<td>45.9</td>\n",
       "\t\t<td>18.6354</td>\n",
       "\t\t<td>6.7473</td>\n",
       "\t\t<td>26</td>\n",
       "\t</tr>\n",
       "\t<tr>\n",
       "\t\t<td>1</td>\n",
       "\t\t<td>0</td>\n",
       "\t\t<td>0</td>\n",
       "\t\t<td>0</td>\n",
       "\t\t<td>0</td>\n",
       "\t\t<td>0</td>\n",
       "\t\t<td>0</td>\n",
       "\t\t<td>600</td>\n",
       "\t\t<td>29.4</td>\n",
       "\t\t<td>32.0</td>\n",
       "\t\t<td>37.2</td>\n",
       "\t\t<td>15.438</td>\n",
       "\t\t<td>5.58</td>\n",
       "\t\t<td>42</td>\n",
       "\t</tr>\n",
       "\t<tr>\n",
       "\t\t<td>1</td>\n",
       "\t\t<td>0</td>\n",
       "\t\t<td>0</td>\n",
       "\t\t<td>0</td>\n",
       "\t\t<td>0</td>\n",
       "\t\t<td>0</td>\n",
       "\t\t<td>0</td>\n",
       "\t\t<td>390</td>\n",
       "\t\t<td>27.6</td>\n",
       "\t\t<td>30.0</td>\n",
       "\t\t<td>35.0</td>\n",
       "\t\t<td>12.67</td>\n",
       "\t\t<td>4.69</td>\n",
       "\t\t<td>50</td>\n",
       "\t</tr>\n",
       "\t<tr>\n",
       "\t\t<td>1</td>\n",
       "\t\t<td>0</td>\n",
       "\t\t<td>0</td>\n",
       "\t\t<td>0</td>\n",
       "\t\t<td>0</td>\n",
       "\t\t<td>0</td>\n",
       "\t\t<td>0</td>\n",
       "\t\t<td>242</td>\n",
       "\t\t<td>23.2</td>\n",
       "\t\t<td>25.4</td>\n",
       "\t\t<td>30.0</td>\n",
       "\t\t<td>11.52</td>\n",
       "\t\t<td>4.02</td>\n",
       "\t\t<td>58</td>\n",
       "\t</tr>\n",
       "</table></html>"
      ],
      "text/plain": [
       "           Species_1  Species_2  Species_3  Species_4  Species_5  Species_6  Weight  Length1  Length2  Length3   Height   Width  id\n",
       "Species_0                                                                                                                          \n",
       "0                  1          0          0          0          0          0     150     18.4     20.0     22.4   8.8928  3.2928  24\n",
       "0                  0          1          0          0          0          0     120     20.0     22.0     23.5   6.1100  3.4075  48\n",
       "0                  0          1          0          0          0          0     115     19.0     21.0     22.5   5.9175  3.3075  56\n",
       "0                  0          1          0          0          0          0      85     18.2     20.0     21.0   5.0820  2.7720  64\n",
       "0                  0          1          0          0          0          0     225     22.0     24.0     25.5   7.2930  3.7230  80\n",
       "0                  0          1          0          0          0          0     690     34.6     37.0     39.3  10.5717  6.3666  88\n",
       "1                  0          0          0          0          0          0     975     37.4     41.0     45.9  18.6354  6.7473  26\n",
       "1                  0          0          0          0          0          0     600     29.4     32.0     37.2  15.4380  5.5800  42\n",
       "1                  0          0          0          0          0          0     390     27.6     30.0     35.0  12.6700  4.6900  50\n",
       "1                  0          0          0          0          0          0     242     23.2     25.4     30.0  11.5200  4.0200  58"
      ]
     },
     "metadata": {},
     "output_type": "display_data"
    },
    {
     "name": "stdout",
     "output_type": "stream",
     "text": [
      "                                                                                                 \r"
     ]
    },
    {
     "data": {
      "text/html": [
       "32 rows X 14 columns"
      ],
      "text/plain": [
       "<IPython.core.display.HTML object>"
      ]
     },
     "metadata": {},
     "output_type": "display_data"
    },
    {
     "name": "stdout",
     "output_type": "stream",
     "text": [
      "                                                                                                  \r"
     ]
    },
    {
     "data": {
      "text/html": [
       "Performing transformation carried out in data preparation phase ..."
      ],
      "text/plain": [
       "<IPython.core.display.HTML object>"
      ]
     },
     "metadata": {},
     "output_type": "display_data"
    },
    {
     "name": "stdout",
     "output_type": "stream",
     "text": [
      "result data stored in table '\"ALICE\".\"ml__td_sqlmr_persist_out__1719265534831920\"'⫾⫾⫾｜ 73% - 11/15\n",
      "                                                                                                  \r"
     ]
    },
    {
     "data": {
      "text/html": [
       "\n",
       "Updated dataset after performing Lasso feature selection:"
      ],
      "text/plain": [
       "<IPython.core.display.HTML object>"
      ]
     },
     "metadata": {},
     "output_type": "display_data"
    },
    {
     "data": {
      "text/html": [
       "<style type=\"text/css\">\n",
       "\ttable {border:ridge 5px;}\n",
       "\ttable td {border:inset 1px;}\n",
       "\ttable tr#HeaderRow {background-color:grey; color:white;}</style>\n",
       "<html><table>\n",
       "\t<tr id=\"HeaderRow\">\n",
       "\t\t<th>id</th>\n",
       "\t\t<th>Species_0</th>\n",
       "\t\t<th>Species_4</th>\n",
       "\t\t<th>Species_3</th>\n",
       "\t\t<th>Species_5</th>\n",
       "\t\t<th>Species_1</th>\n",
       "\t\t<th>Species_6</th>\n",
       "\t\t<th>Species_2</th>\n",
       "\t\t<th>Length1</th>\n",
       "\t\t<th>Length2</th>\n",
       "\t\t<th>Length3</th>\n",
       "\t\t<th>Height</th>\n",
       "\t\t<th>Width</th>\n",
       "\t\t<th>Weight</th>\n",
       "\t</tr>\n",
       "\t<tr>\n",
       "\t\t<td>18</td>\n",
       "\t\t<td>1</td>\n",
       "\t\t<td>0</td>\n",
       "\t\t<td>0</td>\n",
       "\t\t<td>0</td>\n",
       "\t\t<td>0</td>\n",
       "\t\t<td>0</td>\n",
       "\t\t<td>0</td>\n",
       "\t\t<td>33.5</td>\n",
       "\t\t<td>37.0</td>\n",
       "\t\t<td>42.6</td>\n",
       "\t\t<td>18.957</td>\n",
       "\t\t<td>6.603</td>\n",
       "\t\t<td>1000</td>\n",
       "\t</tr>\n",
       "\t<tr>\n",
       "\t\t<td>58</td>\n",
       "\t\t<td>1</td>\n",
       "\t\t<td>0</td>\n",
       "\t\t<td>0</td>\n",
       "\t\t<td>0</td>\n",
       "\t\t<td>0</td>\n",
       "\t\t<td>0</td>\n",
       "\t\t<td>0</td>\n",
       "\t\t<td>23.2</td>\n",
       "\t\t<td>25.4</td>\n",
       "\t\t<td>30.0</td>\n",
       "\t\t<td>11.52</td>\n",
       "\t\t<td>4.02</td>\n",
       "\t\t<td>242</td>\n",
       "\t</tr>\n",
       "\t<tr>\n",
       "\t\t<td>42</td>\n",
       "\t\t<td>1</td>\n",
       "\t\t<td>0</td>\n",
       "\t\t<td>0</td>\n",
       "\t\t<td>0</td>\n",
       "\t\t<td>0</td>\n",
       "\t\t<td>0</td>\n",
       "\t\t<td>0</td>\n",
       "\t\t<td>29.4</td>\n",
       "\t\t<td>32.0</td>\n",
       "\t\t<td>37.2</td>\n",
       "\t\t<td>15.438</td>\n",
       "\t\t<td>5.58</td>\n",
       "\t\t<td>600</td>\n",
       "\t</tr>\n",
       "\t<tr>\n",
       "\t\t<td>26</td>\n",
       "\t\t<td>1</td>\n",
       "\t\t<td>0</td>\n",
       "\t\t<td>0</td>\n",
       "\t\t<td>0</td>\n",
       "\t\t<td>0</td>\n",
       "\t\t<td>0</td>\n",
       "\t\t<td>0</td>\n",
       "\t\t<td>37.4</td>\n",
       "\t\t<td>41.0</td>\n",
       "\t\t<td>45.9</td>\n",
       "\t\t<td>18.6354</td>\n",
       "\t\t<td>6.7473</td>\n",
       "\t\t<td>975</td>\n",
       "\t</tr>\n",
       "\t<tr>\n",
       "\t\t<td>48</td>\n",
       "\t\t<td>0</td>\n",
       "\t\t<td>0</td>\n",
       "\t\t<td>0</td>\n",
       "\t\t<td>0</td>\n",
       "\t\t<td>0</td>\n",
       "\t\t<td>0</td>\n",
       "\t\t<td>1</td>\n",
       "\t\t<td>20.0</td>\n",
       "\t\t<td>22.0</td>\n",
       "\t\t<td>23.5</td>\n",
       "\t\t<td>6.11</td>\n",
       "\t\t<td>3.4075</td>\n",
       "\t\t<td>120</td>\n",
       "\t</tr>\n",
       "\t<tr>\n",
       "\t\t<td>56</td>\n",
       "\t\t<td>0</td>\n",
       "\t\t<td>0</td>\n",
       "\t\t<td>0</td>\n",
       "\t\t<td>0</td>\n",
       "\t\t<td>0</td>\n",
       "\t\t<td>0</td>\n",
       "\t\t<td>1</td>\n",
       "\t\t<td>19.0</td>\n",
       "\t\t<td>21.0</td>\n",
       "\t\t<td>22.5</td>\n",
       "\t\t<td>5.9175</td>\n",
       "\t\t<td>3.3075</td>\n",
       "\t\t<td>115</td>\n",
       "\t</tr>\n",
       "\t<tr>\n",
       "\t\t<td>64</td>\n",
       "\t\t<td>0</td>\n",
       "\t\t<td>0</td>\n",
       "\t\t<td>0</td>\n",
       "\t\t<td>0</td>\n",
       "\t\t<td>0</td>\n",
       "\t\t<td>0</td>\n",
       "\t\t<td>1</td>\n",
       "\t\t<td>18.2</td>\n",
       "\t\t<td>20.0</td>\n",
       "\t\t<td>21.0</td>\n",
       "\t\t<td>5.082</td>\n",
       "\t\t<td>2.772</td>\n",
       "\t\t<td>85</td>\n",
       "\t</tr>\n",
       "\t<tr>\n",
       "\t\t<td>80</td>\n",
       "\t\t<td>0</td>\n",
       "\t\t<td>0</td>\n",
       "\t\t<td>0</td>\n",
       "\t\t<td>0</td>\n",
       "\t\t<td>0</td>\n",
       "\t\t<td>0</td>\n",
       "\t\t<td>1</td>\n",
       "\t\t<td>22.0</td>\n",
       "\t\t<td>24.0</td>\n",
       "\t\t<td>25.5</td>\n",
       "\t\t<td>7.293</td>\n",
       "\t\t<td>3.723</td>\n",
       "\t\t<td>225</td>\n",
       "\t</tr>\n",
       "\t<tr>\n",
       "\t\t<td>88</td>\n",
       "\t\t<td>0</td>\n",
       "\t\t<td>0</td>\n",
       "\t\t<td>0</td>\n",
       "\t\t<td>0</td>\n",
       "\t\t<td>0</td>\n",
       "\t\t<td>0</td>\n",
       "\t\t<td>1</td>\n",
       "\t\t<td>34.6</td>\n",
       "\t\t<td>37.0</td>\n",
       "\t\t<td>39.3</td>\n",
       "\t\t<td>10.5717</td>\n",
       "\t\t<td>6.3666</td>\n",
       "\t\t<td>690</td>\n",
       "\t</tr>\n",
       "\t<tr>\n",
       "\t\t<td>96</td>\n",
       "\t\t<td>0</td>\n",
       "\t\t<td>0</td>\n",
       "\t\t<td>0</td>\n",
       "\t\t<td>0</td>\n",
       "\t\t<td>0</td>\n",
       "\t\t<td>0</td>\n",
       "\t\t<td>1</td>\n",
       "\t\t<td>21.5</td>\n",
       "\t\t<td>23.5</td>\n",
       "\t\t<td>25.0</td>\n",
       "\t\t<td>6.275</td>\n",
       "\t\t<td>3.725</td>\n",
       "\t\t<td>170</td>\n",
       "\t</tr>\n",
       "</table></html>"
      ],
      "text/plain": [
       "           id  Species_4  Species_3  Species_5  Species_1  Species_6  Species_2  Length1  Length2  Length3   Height   Width  Weight\n",
       "Species_0                                                                                                                          \n",
       "1          18          0          0          0          0          0          0     33.5     37.0     42.6  18.9570  6.6030    1000\n",
       "1          58          0          0          0          0          0          0     23.2     25.4     30.0  11.5200  4.0200     242\n",
       "1          42          0          0          0          0          0          0     29.4     32.0     37.2  15.4380  5.5800     600\n",
       "1          26          0          0          0          0          0          0     37.4     41.0     45.9  18.6354  6.7473     975\n",
       "0          48          0          0          0          0          0          1     20.0     22.0     23.5   6.1100  3.4075     120\n",
       "0          56          0          0          0          0          0          1     19.0     21.0     22.5   5.9175  3.3075     115\n",
       "0          64          0          0          0          0          0          1     18.2     20.0     21.0   5.0820  2.7720      85\n",
       "0          80          0          0          0          0          0          1     22.0     24.0     25.5   7.2930  3.7230     225\n",
       "0          88          0          0          0          0          0          1     34.6     37.0     39.3  10.5717  6.3666     690\n",
       "0          96          0          0          0          0          0          1     21.5     23.5     25.0   6.2750  3.7250     170"
      ]
     },
     "metadata": {},
     "output_type": "display_data"
    },
    {
     "name": "stdout",
     "output_type": "stream",
     "text": [
      "                                                                                                  \r"
     ]
    },
    {
     "data": {
      "text/html": [
       "32 rows X 14 columns"
      ],
      "text/plain": [
       "<IPython.core.display.HTML object>"
      ]
     },
     "metadata": {},
     "output_type": "display_data"
    },
    {
     "name": "stdout",
     "output_type": "stream",
     "text": [
      "                                                                                                  \r"
     ]
    },
    {
     "data": {
      "text/html": [
       "\n",
       "Updated dataset after performing scaling on Lasso selected features :"
      ],
      "text/plain": [
       "<IPython.core.display.HTML object>"
      ]
     },
     "metadata": {},
     "output_type": "display_data"
    },
    {
     "data": {
      "text/html": [
       "<style type=\"text/css\">\n",
       "\ttable {border:ridge 5px;}\n",
       "\ttable td {border:inset 1px;}\n",
       "\ttable tr#HeaderRow {background-color:grey; color:white;}</style>\n",
       "<html><table>\n",
       "\t<tr id=\"HeaderRow\">\n",
       "\t\t<th>Species_0</th>\n",
       "\t\t<th>Species_4</th>\n",
       "\t\t<th>Species_3</th>\n",
       "\t\t<th>Weight</th>\n",
       "\t\t<th>Species_5</th>\n",
       "\t\t<th>id</th>\n",
       "\t\t<th>Species_1</th>\n",
       "\t\t<th>Species_6</th>\n",
       "\t\t<th>Species_2</th>\n",
       "\t\t<th>Length1</th>\n",
       "\t\t<th>Length2</th>\n",
       "\t\t<th>Length3</th>\n",
       "\t\t<th>Height</th>\n",
       "\t\t<th>Width</th>\n",
       "\t</tr>\n",
       "\t<tr>\n",
       "\t\t<td>1</td>\n",
       "\t\t<td>0</td>\n",
       "\t\t<td>0</td>\n",
       "\t\t<td>1000</td>\n",
       "\t\t<td>0</td>\n",
       "\t\t<td>18</td>\n",
       "\t\t<td>0</td>\n",
       "\t\t<td>0</td>\n",
       "\t\t<td>0</td>\n",
       "\t\t<td>0.6051118738788123</td>\n",
       "\t\t<td>0.9413606457397519</td>\n",
       "\t\t<td>0.867837728965894</td>\n",
       "\t\t<td>2.402597668376038</td>\n",
       "\t\t<td>1.186497309830988</td>\n",
       "\t</tr>\n",
       "\t<tr>\n",
       "\t\t<td>1</td>\n",
       "\t\t<td>0</td>\n",
       "\t\t<td>0</td>\n",
       "\t\t<td>242</td>\n",
       "\t\t<td>0</td>\n",
       "\t\t<td>58</td>\n",
       "\t\t<td>0</td>\n",
       "\t\t<td>0</td>\n",
       "\t\t<td>0</td>\n",
       "\t\t<td>-0.3861648340260411</td>\n",
       "\t\t<td>-0.4197455117264515</td>\n",
       "\t\t<td>-0.18982161800858788</td>\n",
       "\t\t<td>0.5893722391089629</td>\n",
       "\t\t<td>-0.2983652377317645</td>\n",
       "\t</tr>\n",
       "\t<tr>\n",
       "\t\t<td>1</td>\n",
       "\t\t<td>0</td>\n",
       "\t\t<td>0</td>\n",
       "\t\t<td>600</td>\n",
       "\t\t<td>0</td>\n",
       "\t\t<td>42</td>\n",
       "\t\t<td>0</td>\n",
       "\t\t<td>0</td>\n",
       "\t\t<td>0</td>\n",
       "\t\t<td>0.21052599985843368</td>\n",
       "\t\t<td>0.3546769571767332</td>\n",
       "\t\t<td>0.41455515169111623</td>\n",
       "\t\t<td>1.5446253293158205</td>\n",
       "\t\t<td>0.5984158595186785</td>\n",
       "\t</tr>\n",
       "\t<tr>\n",
       "\t\t<td>1</td>\n",
       "\t\t<td>0</td>\n",
       "\t\t<td>0</td>\n",
       "\t\t<td>975</td>\n",
       "\t\t<td>0</td>\n",
       "\t\t<td>26</td>\n",
       "\t\t<td>0</td>\n",
       "\t\t<td>0</td>\n",
       "\t\t<td>0</td>\n",
       "\t\t<td>0.9804496564835625</td>\n",
       "\t\t<td>1.4107075965901668</td>\n",
       "\t\t<td>1.1448437484115914</td>\n",
       "\t\t<td>2.324187920083408</td>\n",
       "\t\t<td>1.2694495613266539</td>\n",
       "\t</tr>\n",
       "\t<tr>\n",
       "\t\t<td>0</td>\n",
       "\t\t<td>0</td>\n",
       "\t\t<td>0</td>\n",
       "\t\t<td>120</td>\n",
       "\t\t<td>0</td>\n",
       "\t\t<td>48</td>\n",
       "\t\t<td>0</td>\n",
       "\t\t<td>0</td>\n",
       "\t\t<td>1</td>\n",
       "\t\t<td>-0.6941342966760926</td>\n",
       "\t\t<td>-0.818690419949304</td>\n",
       "\t\t<td>-0.7354395350985983</td>\n",
       "\t\t<td>-0.7296474694206692</td>\n",
       "\t\t<td>-0.6504667903381078</td>\n",
       "\t</tr>\n",
       "\t<tr>\n",
       "\t\t<td>0</td>\n",
       "\t\t<td>0</td>\n",
       "\t\t<td>0</td>\n",
       "\t\t<td>115</td>\n",
       "\t\t<td>0</td>\n",
       "\t\t<td>56</td>\n",
       "\t\t<td>0</td>\n",
       "\t\t<td>0</td>\n",
       "\t\t<td>1</td>\n",
       "\t\t<td>-0.7903747537542337</td>\n",
       "\t\t<td>-0.9360271576619077</td>\n",
       "\t\t<td>-0.8193807531124461</td>\n",
       "\t\t<td>-0.7765811651493113</td>\n",
       "\t\t<td>-0.7079527581105721</td>\n",
       "\t</tr>\n",
       "\t<tr>\n",
       "\t\t<td>0</td>\n",
       "\t\t<td>0</td>\n",
       "\t\t<td>0</td>\n",
       "\t\t<td>85</td>\n",
       "\t\t<td>0</td>\n",
       "\t\t<td>64</td>\n",
       "\t\t<td>0</td>\n",
       "\t\t<td>0</td>\n",
       "\t\t<td>1</td>\n",
       "\t\t<td>-0.8673671194167466</td>\n",
       "\t\t<td>-1.0533638953745115</td>\n",
       "\t\t<td>-0.9452925801332177</td>\n",
       "\t\t<td>-0.9802855951819376</td>\n",
       "\t\t<td>-1.0157901155321185</td>\n",
       "\t</tr>\n",
       "\t<tr>\n",
       "\t\t<td>0</td>\n",
       "\t\t<td>0</td>\n",
       "\t\t<td>0</td>\n",
       "\t\t<td>225</td>\n",
       "\t\t<td>0</td>\n",
       "\t\t<td>80</td>\n",
       "\t\t<td>0</td>\n",
       "\t\t<td>0</td>\n",
       "\t\t<td>1</td>\n",
       "\t\t<td>-0.5016533825198104</td>\n",
       "\t\t<td>-0.5840169445240966</td>\n",
       "\t\t<td>-0.5675570990709028</td>\n",
       "\t\t<td>-0.44121857567010453</td>\n",
       "\t\t<td>-0.4690985620159832</td>\n",
       "\t</tr>\n",
       "\t<tr>\n",
       "\t\t<td>0</td>\n",
       "\t\t<td>0</td>\n",
       "\t\t<td>0</td>\n",
       "\t\t<td>690</td>\n",
       "\t\t<td>0</td>\n",
       "\t\t<td>88</td>\n",
       "\t\t<td>0</td>\n",
       "\t\t<td>0</td>\n",
       "\t\t<td>1</td>\n",
       "\t\t<td>0.7109763766647677</td>\n",
       "\t\t<td>0.9413606457397519</td>\n",
       "\t\t<td>0.590831709520196</td>\n",
       "\t\t<td>0.35816588243638436</td>\n",
       "\t\t<td>1.0506004820168824</td>\n",
       "\t</tr>\n",
       "\t<tr>\n",
       "\t\t<td>0</td>\n",
       "\t\t<td>0</td>\n",
       "\t\t<td>0</td>\n",
       "\t\t<td>170</td>\n",
       "\t\t<td>0</td>\n",
       "\t\t<td>96</td>\n",
       "\t\t<td>0</td>\n",
       "\t\t<td>0</td>\n",
       "\t\t<td>1</td>\n",
       "\t\t<td>-0.5497736110588809</td>\n",
       "\t\t<td>-0.6426853133803985</td>\n",
       "\t\t<td>-0.6095277080778266</td>\n",
       "\t\t<td>-0.6894185873675472</td>\n",
       "\t\t<td>-0.46794884266053377</td>\n",
       "\t</tr>\n",
       "</table></html>"
      ],
      "text/plain": [
       "   Species_0  Species_4  Species_3  Weight  Species_5  id  Species_1  Species_6  Species_2   Length1   Length2   Length3    Height     Width\n",
       "0          1          0          0    1000          0  18          0          0          0  0.605112  0.941361  0.867838  2.402598  1.186497\n",
       "1          1          0          0     242          0  58          0          0          0 -0.386165 -0.419746 -0.189822  0.589372 -0.298365\n",
       "2          1          0          0     600          0  42          0          0          0  0.210526  0.354677  0.414555  1.544625  0.598416\n",
       "3          1          0          0     975          0  26          0          0          0  0.980450  1.410708  1.144844  2.324188  1.269450\n",
       "4          0          0          0     120          0  48          0          0          1 -0.694134 -0.818690 -0.735440 -0.729647 -0.650467\n",
       "5          0          0          0     115          0  56          0          0          1 -0.790375 -0.936027 -0.819381 -0.776581 -0.707953\n",
       "6          0          0          0      85          0  64          0          0          1 -0.867367 -1.053364 -0.945293 -0.980286 -1.015790\n",
       "7          0          0          0     225          0  80          0          0          1 -0.501653 -0.584017 -0.567557 -0.441219 -0.469099\n",
       "8          0          0          0     690          0  88          0          0          1  0.710976  0.941361  0.590832  0.358166  1.050600\n",
       "9          0          0          0     170          0  96          0          0          1 -0.549774 -0.642685 -0.609528 -0.689419 -0.467949"
      ]
     },
     "metadata": {},
     "output_type": "display_data"
    },
    {
     "name": "stdout",
     "output_type": "stream",
     "text": [
      "                                                                                                  \r"
     ]
    },
    {
     "data": {
      "text/html": [
       "32 rows X 14 columns"
      ],
      "text/plain": [
       "<IPython.core.display.HTML object>"
      ]
     },
     "metadata": {},
     "output_type": "display_data"
    },
    {
     "name": "stdout",
     "output_type": "stream",
     "text": [
      "                                                                                                  \r"
     ]
    },
    {
     "data": {
      "text/html": [
       "\n",
       "Updated dataset after performing RFE feature selection:"
      ],
      "text/plain": [
       "<IPython.core.display.HTML object>"
      ]
     },
     "metadata": {},
     "output_type": "display_data"
    },
    {
     "data": {
      "text/html": [
       "<style type=\"text/css\">\n",
       "\ttable {border:ridge 5px;}\n",
       "\ttable td {border:inset 1px;}\n",
       "\ttable tr#HeaderRow {background-color:grey; color:white;}</style>\n",
       "<html><table>\n",
       "\t<tr id=\"HeaderRow\">\n",
       "\t\t<th>id</th>\n",
       "\t\t<th>Species_0</th>\n",
       "\t\t<th>Species_3</th>\n",
       "\t\t<th>Species_5</th>\n",
       "\t\t<th>Species_6</th>\n",
       "\t\t<th>Species_2</th>\n",
       "\t\t<th>Length1</th>\n",
       "\t\t<th>Length2</th>\n",
       "\t\t<th>Length3</th>\n",
       "\t\t<th>Height</th>\n",
       "\t\t<th>Width</th>\n",
       "\t\t<th>Weight</th>\n",
       "\t</tr>\n",
       "\t<tr>\n",
       "\t\t<td>18</td>\n",
       "\t\t<td>1</td>\n",
       "\t\t<td>0</td>\n",
       "\t\t<td>0</td>\n",
       "\t\t<td>0</td>\n",
       "\t\t<td>0</td>\n",
       "\t\t<td>33.5</td>\n",
       "\t\t<td>37.0</td>\n",
       "\t\t<td>42.6</td>\n",
       "\t\t<td>18.957</td>\n",
       "\t\t<td>6.603</td>\n",
       "\t\t<td>1000</td>\n",
       "\t</tr>\n",
       "\t<tr>\n",
       "\t\t<td>58</td>\n",
       "\t\t<td>1</td>\n",
       "\t\t<td>0</td>\n",
       "\t\t<td>0</td>\n",
       "\t\t<td>0</td>\n",
       "\t\t<td>0</td>\n",
       "\t\t<td>23.2</td>\n",
       "\t\t<td>25.4</td>\n",
       "\t\t<td>30.0</td>\n",
       "\t\t<td>11.52</td>\n",
       "\t\t<td>4.02</td>\n",
       "\t\t<td>242</td>\n",
       "\t</tr>\n",
       "\t<tr>\n",
       "\t\t<td>42</td>\n",
       "\t\t<td>1</td>\n",
       "\t\t<td>0</td>\n",
       "\t\t<td>0</td>\n",
       "\t\t<td>0</td>\n",
       "\t\t<td>0</td>\n",
       "\t\t<td>29.4</td>\n",
       "\t\t<td>32.0</td>\n",
       "\t\t<td>37.2</td>\n",
       "\t\t<td>15.438</td>\n",
       "\t\t<td>5.58</td>\n",
       "\t\t<td>600</td>\n",
       "\t</tr>\n",
       "\t<tr>\n",
       "\t\t<td>26</td>\n",
       "\t\t<td>1</td>\n",
       "\t\t<td>0</td>\n",
       "\t\t<td>0</td>\n",
       "\t\t<td>0</td>\n",
       "\t\t<td>0</td>\n",
       "\t\t<td>37.4</td>\n",
       "\t\t<td>41.0</td>\n",
       "\t\t<td>45.9</td>\n",
       "\t\t<td>18.6354</td>\n",
       "\t\t<td>6.7473</td>\n",
       "\t\t<td>975</td>\n",
       "\t</tr>\n",
       "\t<tr>\n",
       "\t\t<td>48</td>\n",
       "\t\t<td>0</td>\n",
       "\t\t<td>0</td>\n",
       "\t\t<td>0</td>\n",
       "\t\t<td>0</td>\n",
       "\t\t<td>1</td>\n",
       "\t\t<td>20.0</td>\n",
       "\t\t<td>22.0</td>\n",
       "\t\t<td>23.5</td>\n",
       "\t\t<td>6.11</td>\n",
       "\t\t<td>3.4075</td>\n",
       "\t\t<td>120</td>\n",
       "\t</tr>\n",
       "\t<tr>\n",
       "\t\t<td>56</td>\n",
       "\t\t<td>0</td>\n",
       "\t\t<td>0</td>\n",
       "\t\t<td>0</td>\n",
       "\t\t<td>0</td>\n",
       "\t\t<td>1</td>\n",
       "\t\t<td>19.0</td>\n",
       "\t\t<td>21.0</td>\n",
       "\t\t<td>22.5</td>\n",
       "\t\t<td>5.9175</td>\n",
       "\t\t<td>3.3075</td>\n",
       "\t\t<td>115</td>\n",
       "\t</tr>\n",
       "\t<tr>\n",
       "\t\t<td>64</td>\n",
       "\t\t<td>0</td>\n",
       "\t\t<td>0</td>\n",
       "\t\t<td>0</td>\n",
       "\t\t<td>0</td>\n",
       "\t\t<td>1</td>\n",
       "\t\t<td>18.2</td>\n",
       "\t\t<td>20.0</td>\n",
       "\t\t<td>21.0</td>\n",
       "\t\t<td>5.082</td>\n",
       "\t\t<td>2.772</td>\n",
       "\t\t<td>85</td>\n",
       "\t</tr>\n",
       "\t<tr>\n",
       "\t\t<td>80</td>\n",
       "\t\t<td>0</td>\n",
       "\t\t<td>0</td>\n",
       "\t\t<td>0</td>\n",
       "\t\t<td>0</td>\n",
       "\t\t<td>1</td>\n",
       "\t\t<td>22.0</td>\n",
       "\t\t<td>24.0</td>\n",
       "\t\t<td>25.5</td>\n",
       "\t\t<td>7.293</td>\n",
       "\t\t<td>3.723</td>\n",
       "\t\t<td>225</td>\n",
       "\t</tr>\n",
       "\t<tr>\n",
       "\t\t<td>88</td>\n",
       "\t\t<td>0</td>\n",
       "\t\t<td>0</td>\n",
       "\t\t<td>0</td>\n",
       "\t\t<td>0</td>\n",
       "\t\t<td>1</td>\n",
       "\t\t<td>34.6</td>\n",
       "\t\t<td>37.0</td>\n",
       "\t\t<td>39.3</td>\n",
       "\t\t<td>10.5717</td>\n",
       "\t\t<td>6.3666</td>\n",
       "\t\t<td>690</td>\n",
       "\t</tr>\n",
       "\t<tr>\n",
       "\t\t<td>96</td>\n",
       "\t\t<td>0</td>\n",
       "\t\t<td>0</td>\n",
       "\t\t<td>0</td>\n",
       "\t\t<td>0</td>\n",
       "\t\t<td>1</td>\n",
       "\t\t<td>21.5</td>\n",
       "\t\t<td>23.5</td>\n",
       "\t\t<td>25.0</td>\n",
       "\t\t<td>6.275</td>\n",
       "\t\t<td>3.725</td>\n",
       "\t\t<td>170</td>\n",
       "\t</tr>\n",
       "</table></html>"
      ],
      "text/plain": [
       "           id  Species_3  Species_5  Species_6  Species_2  Length1  Length2  Length3   Height   Width  Weight\n",
       "Species_0                                                                                                    \n",
       "1          18          0          0          0          0     33.5     37.0     42.6  18.9570  6.6030    1000\n",
       "1          58          0          0          0          0     23.2     25.4     30.0  11.5200  4.0200     242\n",
       "1          42          0          0          0          0     29.4     32.0     37.2  15.4380  5.5800     600\n",
       "1          26          0          0          0          0     37.4     41.0     45.9  18.6354  6.7473     975\n",
       "0          48          0          0          0          1     20.0     22.0     23.5   6.1100  3.4075     120\n",
       "0          56          0          0          0          1     19.0     21.0     22.5   5.9175  3.3075     115\n",
       "0          64          0          0          0          1     18.2     20.0     21.0   5.0820  2.7720      85\n",
       "0          80          0          0          0          1     22.0     24.0     25.5   7.2930  3.7230     225\n",
       "0          88          0          0          0          1     34.6     37.0     39.3  10.5717  6.3666     690\n",
       "0          96          0          0          0          1     21.5     23.5     25.0   6.2750  3.7250     170"
      ]
     },
     "metadata": {},
     "output_type": "display_data"
    },
    {
     "name": "stdout",
     "output_type": "stream",
     "text": [
      "                                                                                                  \r"
     ]
    },
    {
     "data": {
      "text/html": [
       "32 rows X 12 columns"
      ],
      "text/plain": [
       "<IPython.core.display.HTML object>"
      ]
     },
     "metadata": {},
     "output_type": "display_data"
    },
    {
     "name": "stdout",
     "output_type": "stream",
     "text": [
      "                                                                                                  \r"
     ]
    },
    {
     "data": {
      "text/html": [
       "\n",
       "Updated dataset after performing scaling on RFE selected features :"
      ],
      "text/plain": [
       "<IPython.core.display.HTML object>"
      ]
     },
     "metadata": {},
     "output_type": "display_data"
    },
    {
     "data": {
      "text/html": [
       "<style type=\"text/css\">\n",
       "\ttable {border:ridge 5px;}\n",
       "\ttable td {border:inset 1px;}\n",
       "\ttable tr#HeaderRow {background-color:grey; color:white;}</style>\n",
       "<html><table>\n",
       "\t<tr id=\"HeaderRow\">\n",
       "\t\t<th>Weight</th>\n",
       "\t\t<th>r_Species_2</th>\n",
       "\t\t<th>r_Species_6</th>\n",
       "\t\t<th>r_Species_3</th>\n",
       "\t\t<th>r_Species_0</th>\n",
       "\t\t<th>id</th>\n",
       "\t\t<th>r_Species_5</th>\n",
       "\t\t<th>r_Length1</th>\n",
       "\t\t<th>r_Length2</th>\n",
       "\t\t<th>r_Length3</th>\n",
       "\t\t<th>r_Height</th>\n",
       "\t\t<th>r_Width</th>\n",
       "\t</tr>\n",
       "\t<tr>\n",
       "\t\t<td>1000</td>\n",
       "\t\t<td>0</td>\n",
       "\t\t<td>0</td>\n",
       "\t\t<td>0</td>\n",
       "\t\t<td>1</td>\n",
       "\t\t<td>18</td>\n",
       "\t\t<td>0</td>\n",
       "\t\t<td>0.6051118738788123</td>\n",
       "\t\t<td>0.9413606457397519</td>\n",
       "\t\t<td>0.867837728965894</td>\n",
       "\t\t<td>2.402597668376038</td>\n",
       "\t\t<td>1.186497309830988</td>\n",
       "\t</tr>\n",
       "\t<tr>\n",
       "\t\t<td>242</td>\n",
       "\t\t<td>0</td>\n",
       "\t\t<td>0</td>\n",
       "\t\t<td>0</td>\n",
       "\t\t<td>1</td>\n",
       "\t\t<td>58</td>\n",
       "\t\t<td>0</td>\n",
       "\t\t<td>-0.3861648340260411</td>\n",
       "\t\t<td>-0.4197455117264515</td>\n",
       "\t\t<td>-0.18982161800858788</td>\n",
       "\t\t<td>0.5893722391089629</td>\n",
       "\t\t<td>-0.2983652377317645</td>\n",
       "\t</tr>\n",
       "\t<tr>\n",
       "\t\t<td>600</td>\n",
       "\t\t<td>0</td>\n",
       "\t\t<td>0</td>\n",
       "\t\t<td>0</td>\n",
       "\t\t<td>1</td>\n",
       "\t\t<td>42</td>\n",
       "\t\t<td>0</td>\n",
       "\t\t<td>0.21052599985843368</td>\n",
       "\t\t<td>0.3546769571767332</td>\n",
       "\t\t<td>0.41455515169111623</td>\n",
       "\t\t<td>1.5446253293158205</td>\n",
       "\t\t<td>0.5984158595186785</td>\n",
       "\t</tr>\n",
       "\t<tr>\n",
       "\t\t<td>975</td>\n",
       "\t\t<td>0</td>\n",
       "\t\t<td>0</td>\n",
       "\t\t<td>0</td>\n",
       "\t\t<td>1</td>\n",
       "\t\t<td>26</td>\n",
       "\t\t<td>0</td>\n",
       "\t\t<td>0.9804496564835625</td>\n",
       "\t\t<td>1.4107075965901668</td>\n",
       "\t\t<td>1.1448437484115914</td>\n",
       "\t\t<td>2.324187920083408</td>\n",
       "\t\t<td>1.2694495613266539</td>\n",
       "\t</tr>\n",
       "\t<tr>\n",
       "\t\t<td>120</td>\n",
       "\t\t<td>1</td>\n",
       "\t\t<td>0</td>\n",
       "\t\t<td>0</td>\n",
       "\t\t<td>0</td>\n",
       "\t\t<td>48</td>\n",
       "\t\t<td>0</td>\n",
       "\t\t<td>-0.6941342966760926</td>\n",
       "\t\t<td>-0.818690419949304</td>\n",
       "\t\t<td>-0.7354395350985983</td>\n",
       "\t\t<td>-0.7296474694206692</td>\n",
       "\t\t<td>-0.6504667903381078</td>\n",
       "\t</tr>\n",
       "\t<tr>\n",
       "\t\t<td>115</td>\n",
       "\t\t<td>1</td>\n",
       "\t\t<td>0</td>\n",
       "\t\t<td>0</td>\n",
       "\t\t<td>0</td>\n",
       "\t\t<td>56</td>\n",
       "\t\t<td>0</td>\n",
       "\t\t<td>-0.7903747537542337</td>\n",
       "\t\t<td>-0.9360271576619077</td>\n",
       "\t\t<td>-0.8193807531124461</td>\n",
       "\t\t<td>-0.7765811651493113</td>\n",
       "\t\t<td>-0.7079527581105721</td>\n",
       "\t</tr>\n",
       "\t<tr>\n",
       "\t\t<td>85</td>\n",
       "\t\t<td>1</td>\n",
       "\t\t<td>0</td>\n",
       "\t\t<td>0</td>\n",
       "\t\t<td>0</td>\n",
       "\t\t<td>64</td>\n",
       "\t\t<td>0</td>\n",
       "\t\t<td>-0.8673671194167466</td>\n",
       "\t\t<td>-1.0533638953745115</td>\n",
       "\t\t<td>-0.9452925801332177</td>\n",
       "\t\t<td>-0.9802855951819376</td>\n",
       "\t\t<td>-1.0157901155321185</td>\n",
       "\t</tr>\n",
       "\t<tr>\n",
       "\t\t<td>225</td>\n",
       "\t\t<td>1</td>\n",
       "\t\t<td>0</td>\n",
       "\t\t<td>0</td>\n",
       "\t\t<td>0</td>\n",
       "\t\t<td>80</td>\n",
       "\t\t<td>0</td>\n",
       "\t\t<td>-0.5016533825198104</td>\n",
       "\t\t<td>-0.5840169445240966</td>\n",
       "\t\t<td>-0.5675570990709028</td>\n",
       "\t\t<td>-0.44121857567010453</td>\n",
       "\t\t<td>-0.4690985620159832</td>\n",
       "\t</tr>\n",
       "\t<tr>\n",
       "\t\t<td>690</td>\n",
       "\t\t<td>1</td>\n",
       "\t\t<td>0</td>\n",
       "\t\t<td>0</td>\n",
       "\t\t<td>0</td>\n",
       "\t\t<td>88</td>\n",
       "\t\t<td>0</td>\n",
       "\t\t<td>0.7109763766647677</td>\n",
       "\t\t<td>0.9413606457397519</td>\n",
       "\t\t<td>0.590831709520196</td>\n",
       "\t\t<td>0.35816588243638436</td>\n",
       "\t\t<td>1.0506004820168824</td>\n",
       "\t</tr>\n",
       "\t<tr>\n",
       "\t\t<td>170</td>\n",
       "\t\t<td>1</td>\n",
       "\t\t<td>0</td>\n",
       "\t\t<td>0</td>\n",
       "\t\t<td>0</td>\n",
       "\t\t<td>96</td>\n",
       "\t\t<td>0</td>\n",
       "\t\t<td>-0.5497736110588809</td>\n",
       "\t\t<td>-0.6426853133803985</td>\n",
       "\t\t<td>-0.6095277080778266</td>\n",
       "\t\t<td>-0.6894185873675472</td>\n",
       "\t\t<td>-0.46794884266053377</td>\n",
       "\t</tr>\n",
       "</table></html>"
      ],
      "text/plain": [
       "   Weight  r_Species_2  r_Species_6  r_Species_3  r_Species_0  id  r_Species_5  r_Length1  r_Length2  r_Length3  r_Height   r_Width\n",
       "0    1000            0            0            0            1  18            0   0.605112   0.941361   0.867838  2.402598  1.186497\n",
       "1     242            0            0            0            1  58            0  -0.386165  -0.419746  -0.189822  0.589372 -0.298365\n",
       "2     600            0            0            0            1  42            0   0.210526   0.354677   0.414555  1.544625  0.598416\n",
       "3     975            0            0            0            1  26            0   0.980450   1.410708   1.144844  2.324188  1.269450\n",
       "4     120            1            0            0            0  48            0  -0.694134  -0.818690  -0.735440 -0.729647 -0.650467\n",
       "5     115            1            0            0            0  56            0  -0.790375  -0.936027  -0.819381 -0.776581 -0.707953\n",
       "6      85            1            0            0            0  64            0  -0.867367  -1.053364  -0.945293 -0.980286 -1.015790\n",
       "7     225            1            0            0            0  80            0  -0.501653  -0.584017  -0.567557 -0.441219 -0.469099\n",
       "8     690            1            0            0            0  88            0   0.710976   0.941361   0.590832  0.358166  1.050600\n",
       "9     170            1            0            0            0  96            0  -0.549774  -0.642685  -0.609528 -0.689419 -0.467949"
      ]
     },
     "metadata": {},
     "output_type": "display_data"
    },
    {
     "name": "stdout",
     "output_type": "stream",
     "text": [
      "                                                                                                  \r"
     ]
    },
    {
     "data": {
      "text/html": [
       "32 rows X 12 columns"
      ],
      "text/plain": [
       "<IPython.core.display.HTML object>"
      ]
     },
     "metadata": {},
     "output_type": "display_data"
    },
    {
     "name": "stdout",
     "output_type": "stream",
     "text": [
      "                                                                                                  \r"
     ]
    },
    {
     "data": {
      "text/html": [
       "\n",
       "Updated dataset after performing scaling for PCA feature selection :"
      ],
      "text/plain": [
       "<IPython.core.display.HTML object>"
      ]
     },
     "metadata": {},
     "output_type": "display_data"
    },
    {
     "data": {
      "text/html": [
       "<style type=\"text/css\">\n",
       "\ttable {border:ridge 5px;}\n",
       "\ttable td {border:inset 1px;}\n",
       "\ttable tr#HeaderRow {background-color:grey; color:white;}</style>\n",
       "<html><table>\n",
       "\t<tr id=\"HeaderRow\">\n",
       "\t\t<th>Species_0</th>\n",
       "\t\t<th>Species_4</th>\n",
       "\t\t<th>Species_3</th>\n",
       "\t\t<th>Weight</th>\n",
       "\t\t<th>Species_5</th>\n",
       "\t\t<th>id</th>\n",
       "\t\t<th>Species_1</th>\n",
       "\t\t<th>Species_6</th>\n",
       "\t\t<th>Species_2</th>\n",
       "\t\t<th>Length1</th>\n",
       "\t\t<th>Length2</th>\n",
       "\t\t<th>Length3</th>\n",
       "\t\t<th>Height</th>\n",
       "\t\t<th>Width</th>\n",
       "\t</tr>\n",
       "\t<tr>\n",
       "\t\t<td>0</td>\n",
       "\t\t<td>0</td>\n",
       "\t\t<td>0</td>\n",
       "\t\t<td>115</td>\n",
       "\t\t<td>0</td>\n",
       "\t\t<td>56</td>\n",
       "\t\t<td>0</td>\n",
       "\t\t<td>0</td>\n",
       "\t\t<td>1</td>\n",
       "\t\t<td>-0.7903747537542338</td>\n",
       "\t\t<td>-0.9360271576619072</td>\n",
       "\t\t<td>-0.8193807531124456</td>\n",
       "\t\t<td>-0.7765811651493111</td>\n",
       "\t\t<td>-0.7079527581105727</td>\n",
       "\t</tr>\n",
       "\t<tr>\n",
       "\t\t<td>0</td>\n",
       "\t\t<td>0</td>\n",
       "\t\t<td>0</td>\n",
       "\t\t<td>225</td>\n",
       "\t\t<td>0</td>\n",
       "\t\t<td>80</td>\n",
       "\t\t<td>0</td>\n",
       "\t\t<td>0</td>\n",
       "\t\t<td>1</td>\n",
       "\t\t<td>-0.5016533825198104</td>\n",
       "\t\t<td>-0.5840169445240959</td>\n",
       "\t\t<td>-0.5675570990709022</td>\n",
       "\t\t<td>-0.44121857567010414</td>\n",
       "\t\t<td>-0.4690985620159837</td>\n",
       "\t</tr>\n",
       "\t<tr>\n",
       "\t\t<td>0</td>\n",
       "\t\t<td>0</td>\n",
       "\t\t<td>0</td>\n",
       "\t\t<td>690</td>\n",
       "\t\t<td>0</td>\n",
       "\t\t<td>88</td>\n",
       "\t\t<td>0</td>\n",
       "\t\t<td>0</td>\n",
       "\t\t<td>1</td>\n",
       "\t\t<td>0.7109763766647678</td>\n",
       "\t\t<td>0.9413606457397531</td>\n",
       "\t\t<td>0.5908317095201967</td>\n",
       "\t\t<td>0.35816588243638486</td>\n",
       "\t\t<td>1.050600482016882</td>\n",
       "\t</tr>\n",
       "\t<tr>\n",
       "\t\t<td>0</td>\n",
       "\t\t<td>0</td>\n",
       "\t\t<td>0</td>\n",
       "\t\t<td>170</td>\n",
       "\t\t<td>0</td>\n",
       "\t\t<td>96</td>\n",
       "\t\t<td>0</td>\n",
       "\t\t<td>0</td>\n",
       "\t\t<td>1</td>\n",
       "\t\t<td>-0.549773611058881</td>\n",
       "\t\t<td>-0.6426853133803978</td>\n",
       "\t\t<td>-0.6095277080778262</td>\n",
       "\t\t<td>-0.689418587367547</td>\n",
       "\t\t<td>-0.4679488426605343</td>\n",
       "\t</tr>\n",
       "\t<tr>\n",
       "\t\t<td>0</td>\n",
       "\t\t<td>1</td>\n",
       "\t\t<td>0</td>\n",
       "\t\t<td>0</td>\n",
       "\t\t<td>0</td>\n",
       "\t\t<td>20</td>\n",
       "\t\t<td>0</td>\n",
       "\t\t<td>0</td>\n",
       "\t\t<td>0</td>\n",
       "\t\t<td>-0.7903747537542338</td>\n",
       "\t\t<td>-0.9946955265182091</td>\n",
       "\t\t<td>-0.7941983877082912</td>\n",
       "\t\t<td>-0.6406075438097592</td>\n",
       "\t\t<td>-0.682601446322916</td>\n",
       "\t</tr>\n",
       "\t<tr>\n",
       "\t\t<td>0</td>\n",
       "\t\t<td>1</td>\n",
       "\t\t<td>0</td>\n",
       "\t\t<td>180</td>\n",
       "\t\t<td>0</td>\n",
       "\t\t<td>28</td>\n",
       "\t\t<td>0</td>\n",
       "\t\t<td>0</td>\n",
       "\t\t<td>0</td>\n",
       "\t\t<td>-0.3476686511947845</td>\n",
       "\t\t<td>-0.4432128592689715</td>\n",
       "\t\t<td>-0.36609817583766774</td>\n",
       "\t\t<td>-0.491541249947464</td>\n",
       "\t\t<td>-0.3638992409923739</td>\n",
       "\t</tr>\n",
       "\t<tr>\n",
       "\t\t<td>1</td>\n",
       "\t\t<td>0</td>\n",
       "\t\t<td>0</td>\n",
       "\t\t<td>390</td>\n",
       "\t\t<td>0</td>\n",
       "\t\t<td>50</td>\n",
       "\t\t<td>0</td>\n",
       "\t\t<td>0</td>\n",
       "\t\t<td>0</td>\n",
       "\t\t<td>0.037293177117779956</td>\n",
       "\t\t<td>0.12000348175152666</td>\n",
       "\t\t<td>0.22988447206065155</td>\n",
       "\t\t<td>0.8697553564489039</td>\n",
       "\t\t<td>0.0867907463437461</td>\n",
       "\t</tr>\n",
       "\t<tr>\n",
       "\t\t<td>1</td>\n",
       "\t\t<td>0</td>\n",
       "\t\t<td>0</td>\n",
       "\t\t<td>955</td>\n",
       "\t\t<td>0</td>\n",
       "\t\t<td>34</td>\n",
       "\t\t<td>0</td>\n",
       "\t\t<td>0</td>\n",
       "\t\t<td>0</td>\n",
       "\t\t<td>0.7494725594960241</td>\n",
       "\t\t<td>1.1173657523086586</td>\n",
       "\t\t<td>0.9853554341852815</td>\n",
       "\t\t<td>2.1897503106040666</td>\n",
       "\t\t<td>1.0077159500586235</td>\n",
       "\t</tr>\n",
       "\t<tr>\n",
       "\t\t<td>1</td>\n",
       "\t\t<td>0</td>\n",
       "\t\t<td>0</td>\n",
       "\t\t<td>1000</td>\n",
       "\t\t<td>0</td>\n",
       "\t\t<td>18</td>\n",
       "\t\t<td>0</td>\n",
       "\t\t<td>0</td>\n",
       "\t\t<td>0</td>\n",
       "\t\t<td>0.6051118738788124</td>\n",
       "\t\t<td>0.9413606457397531</td>\n",
       "\t\t<td>0.8678377289658947</td>\n",
       "\t\t<td>2.402597668376039</td>\n",
       "\t\t<td>1.1864973098309872</td>\n",
       "\t</tr>\n",
       "\t<tr>\n",
       "\t\t<td>1</td>\n",
       "\t\t<td>0</td>\n",
       "\t\t<td>0</td>\n",
       "\t\t<td>720</td>\n",
       "\t\t<td>0</td>\n",
       "\t\t<td>10</td>\n",
       "\t\t<td>0</td>\n",
       "\t\t<td>0</td>\n",
       "\t\t<td>0</td>\n",
       "\t\t<td>0.4607511882616007</td>\n",
       "\t\t<td>0.7066871703145455</td>\n",
       "\t\t<td>0.6999552929381991</td>\n",
       "\t\t<td>1.769858306532027</td>\n",
       "\t\t<td>0.8915942951582456</td>\n",
       "\t</tr>\n",
       "</table></html>"
      ],
      "text/plain": [
       "   Species_0  Species_4  Species_3  Weight  Species_5  id  Species_1  Species_6  Species_2   Length1   Length2   Length3    Height     Width\n",
       "0          0          0          0     115          0  56          0          0          1 -0.790375 -0.936027 -0.819381 -0.776581 -0.707953\n",
       "1          0          0          0     225          0  80          0          0          1 -0.501653 -0.584017 -0.567557 -0.441219 -0.469099\n",
       "2          0          0          0     690          0  88          0          0          1  0.710976  0.941361  0.590832  0.358166  1.050600\n",
       "3          0          0          0     170          0  96          0          0          1 -0.549774 -0.642685 -0.609528 -0.689419 -0.467949\n",
       "4          0          1          0       0          0  20          0          0          0 -0.790375 -0.994696 -0.794198 -0.640608 -0.682601\n",
       "5          0          1          0     180          0  28          0          0          0 -0.347669 -0.443213 -0.366098 -0.491541 -0.363899\n",
       "6          1          0          0     390          0  50          0          0          0  0.037293  0.120003  0.229884  0.869755  0.086791\n",
       "7          1          0          0     955          0  34          0          0          0  0.749473  1.117366  0.985355  2.189750  1.007716\n",
       "8          1          0          0    1000          0  18          0          0          0  0.605112  0.941361  0.867838  2.402598  1.186497\n",
       "9          1          0          0     720          0  10          0          0          0  0.460751  0.706687  0.699955  1.769858  0.891594"
      ]
     },
     "metadata": {},
     "output_type": "display_data"
    },
    {
     "name": "stdout",
     "output_type": "stream",
     "text": [
      "                                                                                                  \r"
     ]
    },
    {
     "data": {
      "text/html": [
       "32 rows X 14 columns"
      ],
      "text/plain": [
       "<IPython.core.display.HTML object>"
      ]
     },
     "metadata": {},
     "output_type": "display_data"
    },
    {
     "name": "stdout",
     "output_type": "stream",
     "text": [
      "                                                                                                  \r"
     ]
    },
    {
     "data": {
      "text/html": [
       "\n",
       "Updated dataset after performing PCA feature selection :"
      ],
      "text/plain": [
       "<IPython.core.display.HTML object>"
      ]
     },
     "metadata": {},
     "output_type": "display_data"
    },
    {
     "data": {
      "text/html": [
       "<div>\n",
       "<style scoped>\n",
       "    .dataframe tbody tr th:only-of-type {\n",
       "        vertical-align: middle;\n",
       "    }\n",
       "\n",
       "    .dataframe tbody tr th {\n",
       "        vertical-align: top;\n",
       "    }\n",
       "\n",
       "    .dataframe thead th {\n",
       "        text-align: right;\n",
       "    }\n",
       "</style>\n",
       "<table border=\"1\" class=\"dataframe\">\n",
       "  <thead>\n",
       "    <tr style=\"text-align: right;\">\n",
       "      <th></th>\n",
       "      <th>id</th>\n",
       "      <th>col_0</th>\n",
       "      <th>col_1</th>\n",
       "      <th>col_2</th>\n",
       "      <th>col_3</th>\n",
       "      <th>col_4</th>\n",
       "      <th>Weight</th>\n",
       "    </tr>\n",
       "  </thead>\n",
       "  <tbody>\n",
       "    <tr>\n",
       "      <th>0</th>\n",
       "      <td>50</td>\n",
       "      <td>-0.612520</td>\n",
       "      <td>-0.960890</td>\n",
       "      <td>0.374263</td>\n",
       "      <td>0.220593</td>\n",
       "      <td>-0.177345</td>\n",
       "      <td>390</td>\n",
       "    </tr>\n",
       "    <tr>\n",
       "      <th>1</th>\n",
       "      <td>24</td>\n",
       "      <td>1.612552</td>\n",
       "      <td>-0.618067</td>\n",
       "      <td>0.282974</td>\n",
       "      <td>-0.322660</td>\n",
       "      <td>-0.070707</td>\n",
       "      <td>150</td>\n",
       "    </tr>\n",
       "    <tr>\n",
       "      <th>2</th>\n",
       "      <td>34</td>\n",
       "      <td>-2.662663</td>\n",
       "      <td>-1.418229</td>\n",
       "      <td>0.223178</td>\n",
       "      <td>0.396117</td>\n",
       "      <td>-0.065880</td>\n",
       "      <td>955</td>\n",
       "    </tr>\n",
       "    <tr>\n",
       "      <th>3</th>\n",
       "      <td>48</td>\n",
       "      <td>1.584345</td>\n",
       "      <td>0.196545</td>\n",
       "      <td>-0.479044</td>\n",
       "      <td>-0.427009</td>\n",
       "      <td>-0.320443</td>\n",
       "      <td>120</td>\n",
       "    </tr>\n",
       "    <tr>\n",
       "      <th>4</th>\n",
       "      <td>18</td>\n",
       "      <td>-2.633161</td>\n",
       "      <td>-1.686046</td>\n",
       "      <td>0.154801</td>\n",
       "      <td>0.224146</td>\n",
       "      <td>-0.039789</td>\n",
       "      <td>1000</td>\n",
       "    </tr>\n",
       "    <tr>\n",
       "      <th>5</th>\n",
       "      <td>56</td>\n",
       "      <td>1.762740</td>\n",
       "      <td>0.164614</td>\n",
       "      <td>-0.474727</td>\n",
       "      <td>-0.468941</td>\n",
       "      <td>-0.328231</td>\n",
       "      <td>115</td>\n",
       "    </tr>\n",
       "    <tr>\n",
       "      <th>6</th>\n",
       "      <td>10</td>\n",
       "      <td>-2.002993</td>\n",
       "      <td>-1.326561</td>\n",
       "      <td>0.209050</td>\n",
       "      <td>0.218130</td>\n",
       "      <td>-0.067257</td>\n",
       "      <td>720</td>\n",
       "    </tr>\n",
       "    <tr>\n",
       "      <th>7</th>\n",
       "      <td>64</td>\n",
       "      <td>2.129513</td>\n",
       "      <td>0.258031</td>\n",
       "      <td>-0.399680</td>\n",
       "      <td>-0.410356</td>\n",
       "      <td>-0.377385</td>\n",
       "      <td>85</td>\n",
       "    </tr>\n",
       "    <tr>\n",
       "      <th>8</th>\n",
       "      <td>58</td>\n",
       "      <td>0.296230</td>\n",
       "      <td>-1.054901</td>\n",
       "      <td>0.426980</td>\n",
       "      <td>0.075948</td>\n",
       "      <td>-0.233761</td>\n",
       "      <td>242</td>\n",
       "    </tr>\n",
       "    <tr>\n",
       "      <th>9</th>\n",
       "      <td>80</td>\n",
       "      <td>1.120196</td>\n",
       "      <td>0.113554</td>\n",
       "      <td>-0.499774</td>\n",
       "      <td>-0.374617</td>\n",
       "      <td>-0.302389</td>\n",
       "      <td>225</td>\n",
       "    </tr>\n",
       "  </tbody>\n",
       "</table>\n",
       "</div>"
      ],
      "text/plain": [
       "   id     col_0     col_1     col_2     col_3     col_4  Weight\n",
       "0  50 -0.612520 -0.960890  0.374263  0.220593 -0.177345     390\n",
       "1  24  1.612552 -0.618067  0.282974 -0.322660 -0.070707     150\n",
       "2  34 -2.662663 -1.418229  0.223178  0.396117 -0.065880     955\n",
       "3  48  1.584345  0.196545 -0.479044 -0.427009 -0.320443     120\n",
       "4  18 -2.633161 -1.686046  0.154801  0.224146 -0.039789    1000\n",
       "5  56  1.762740  0.164614 -0.474727 -0.468941 -0.328231     115\n",
       "6  10 -2.002993 -1.326561  0.209050  0.218130 -0.067257     720\n",
       "7  64  2.129513  0.258031 -0.399680 -0.410356 -0.377385      85\n",
       "8  58  0.296230 -1.054901  0.426980  0.075948 -0.233761     242\n",
       "9  80  1.120196  0.113554 -0.499774 -0.374617 -0.302389     225"
      ]
     },
     "metadata": {},
     "output_type": "display_data"
    },
    {
     "name": "stdout",
     "output_type": "stream",
     "text": [
      "                                                                                                  \r"
     ]
    },
    {
     "data": {
      "text/html": [
       "10 rows X 7 columns"
      ],
      "text/plain": [
       "<IPython.core.display.HTML object>"
      ]
     },
     "metadata": {},
     "output_type": "display_data"
    },
    {
     "name": "stdout",
     "output_type": "stream",
     "text": [
      "Data Transformation completed.⫿⫿⫿⫿⫿⫿⫿⫿⫿⫿⫿⫿⫿⫿⫿⫿⫿⫿⫿⫿⫿⫿⫿⫿⫿⫿⫿⫿⫿⫿⫿⫿⫿⫿⫿⫿⫿⫿⫿⫿⫿⫿｜ 100% - 15/15            \n",
      "\n",
      "Following model is being used for generating prediction :\n",
      "Model ID : KNN_8 \n",
      "Feature Selection Method : pca\n",
      "\n",
      "Prediction : \n",
      "   id  prediction  Weight\n",
      "0  13  505.673376     500\n",
      "1  21  912.196228    1650\n",
      "2  45  273.659594     270\n",
      "3  28  177.172228     180\n",
      "4  12  127.655380     120\n",
      "5  29  544.841820     540\n",
      "6  48  129.611469     120\n",
      "7  50  426.382128     390\n",
      "8  10  740.898394     720\n",
      "9  15    9.863005       9\n",
      "\n",
      "Performance Metrics : \n",
      "         MAE          MSE      MSLE  MAPE  MPE       RMSE     RMSLE          ME        R2        EV  MPD  MGD\n",
      "0  54.178086  19461.13434  0.066752   inf -inf  139.50317  0.258364  737.803772  0.862335  0.866164  NaN  inf\n"
     ]
    }
   ],
   "source": [
    "# Generating prediction and metrics on test data\n",
    "prediction = aml.predict(fish_df_test)"
   ]
  },
  {
   "cell_type": "code",
   "execution_count": 24,
   "id": "cc4f6a78-1cdf-4938-a9f1-22035d8404ca",
   "metadata": {},
   "outputs": [
    {
     "data": {
      "text/html": [
       "<style type=\"text/css\">\n",
       "\ttable {border:ridge 5px;}\n",
       "\ttable td {border:inset 1px;}\n",
       "\ttable tr#HeaderRow {background-color:grey; color:white;}</style>\n",
       "<html><table>\n",
       "\t<tr id=\"HeaderRow\">\n",
       "\t\t<th>id</th>\n",
       "\t\t<th>prediction</th>\n",
       "\t\t<th>Weight</th>\n",
       "\t</tr>\n",
       "\t<tr>\n",
       "\t\t<td>12</td>\n",
       "\t\t<td>127.65538027832447</td>\n",
       "\t\t<td>120</td>\n",
       "\t</tr>\n",
       "\t<tr>\n",
       "\t\t<td>15</td>\n",
       "\t\t<td>9.863005006009766</td>\n",
       "\t\t<td>9</td>\n",
       "\t</tr>\n",
       "\t<tr>\n",
       "\t\t<td>16</td>\n",
       "\t\t<td>102.57817511113305</td>\n",
       "\t\t<td>120</td>\n",
       "\t</tr>\n",
       "\t<tr>\n",
       "\t\t<td>18</td>\n",
       "\t\t<td>852.7527245678865</td>\n",
       "\t\t<td>1000</td>\n",
       "\t</tr>\n",
       "\t<tr>\n",
       "\t\t<td>21</td>\n",
       "\t\t<td>912.196227519781</td>\n",
       "\t\t<td>1650</td>\n",
       "\t</tr>\n",
       "\t<tr>\n",
       "\t\t<td>23</td>\n",
       "\t\t<td>11.239860270179925</td>\n",
       "\t\t<td>13</td>\n",
       "\t</tr>\n",
       "\t<tr>\n",
       "\t\t<td>20</td>\n",
       "\t\t<td>122.61260959941464</td>\n",
       "\t\t<td>0</td>\n",
       "\t</tr>\n",
       "\t<tr>\n",
       "\t\t<td>13</td>\n",
       "\t\t<td>505.6733762863846</td>\n",
       "\t\t<td>500</td>\n",
       "\t</tr>\n",
       "\t<tr>\n",
       "\t\t<td>10</td>\n",
       "\t\t<td>740.898394007544</td>\n",
       "\t\t<td>720</td>\n",
       "\t</tr>\n",
       "\t<tr>\n",
       "\t\t<td>8</td>\n",
       "\t\t<td>172.31213897290183</td>\n",
       "\t\t<td>170</td>\n",
       "\t</tr>\n",
       "</table></html>"
      ],
      "text/plain": [
       "   id  prediction  Weight\n",
       "0  12  127.655380     120\n",
       "1  15    9.863005       9\n",
       "2  16  102.578175     120\n",
       "3  18  852.752725    1000\n",
       "4  21  912.196228    1650\n",
       "5  23   11.239860      13\n",
       "6  20  122.612610       0\n",
       "7  13  505.673376     500\n",
       "8  10  740.898394     720\n",
       "9   8  172.312139     170"
      ]
     },
     "execution_count": 24,
     "metadata": {},
     "output_type": "execute_result"
    }
   ],
   "source": [
    "# Printing prediction\n",
    "prediction.head()"
   ]
  },
  {
   "cell_type": "code",
   "execution_count": 25,
   "id": "b2cba357-75ac-4089-a234-64a57067b117",
   "metadata": {},
   "outputs": [
    {
     "data": {
      "text/plain": [
       "True"
      ]
     },
     "execution_count": 25,
     "metadata": {},
     "output_type": "execute_result"
    }
   ],
   "source": [
    "remove_context()"
   ]
  }
 ],
 "metadata": {
  "kernelspec": {
   "display_name": "Python 3 (ipykernel)",
   "language": "python",
   "name": "python3"
  },
  "language_info": {
   "codemirror_mode": {
    "name": "ipython",
    "version": 3
   },
   "file_extension": ".py",
   "mimetype": "text/x-python",
   "name": "python",
   "nbconvert_exporter": "python",
   "pygments_lexer": "ipython3",
   "version": "3.10.9"
  }
 },
 "nbformat": 4,
 "nbformat_minor": 5
}
