{
 "cells": [
  {
   "cell_type": "markdown",
   "id": "2762f1d8-5a66-411f-a625-34cf16ac6dd3",
   "metadata": {},
   "source": [
    "# <b><span style='color:#F1A424'>AutoML - Regression - Fish Weight Prediction </span> </b>"
   ]
  },
  {
   "cell_type": "markdown",
   "id": "bd1e45fd-6095-425b-84d7-f5a9ccea8da8",
   "metadata": {},
   "source": [
    "### Disclaimer\n",
    "Please note, the Vantage Functions via SQLAlchemy feature is a preview/beta code release with limited functionality (the “Code”). As such, you acknowledge that the Code is experimental in nature and that the Code is provided “AS IS” and may not be functional on any machine or in any environment. TERADATA DISCLAIMS ALL WARRANTIES RELATING TO THE CODE, EXPRESS OR IMPLIED, INCLUDING, BUT NOT LIMITED TO, ANY WARRANTIES AGAINST INFRINGEMENT OF THIRD-PARTY RIGHTS, MERCHANTABILITY AND FITNESS FOR A PARTICULAR PURPOSE.\n",
    "\n",
    "TERADATA SHALL NOT BE RESPONSIBLE OR LIABLE WITH RESPECT TO ANY SUBJECT MATTER OF THE CODE UNDER ANY CONTRACT, NEGLIGENCE, STRICT LIABILITY OR OTHER THEORY \n",
    "    (A) FOR LOSS OR INACCURACY OF DATA OR COST OF PROCUREMENT OF SUBSTITUTE GOODS, SERVICES OR TECHNOLOGY, OR \n",
    "    (B) FOR ANY INDIRECT, INCIDENTAL OR CONSEQUENTIAL DAMAGES INCLUDING, BUT NOT LIMITED TO LOSS OF REVENUES AND LOSS OF PROFITS. TERADATA SHALL NOT BE RESPONSIBLE FOR ANY MATTER BEYOND ITS REASONABLE CONTROL.\n",
    "\n",
    "Notwithstanding anything to the contrary: \n",
    "    (a) Teradata will have no obligation of any kind with respect to any Code-related comments, suggestions, design changes or improvements that you elect to provide to Teradata in either verbal or written form (collectively, “Feedback”), and \n",
    "    (b) Teradata and its affiliates are hereby free to use any ideas, concepts, know-how or techniques, in whole or in part, contained in Feedback: \n",
    "        (i) for any purpose whatsoever, including developing, manufacturing, and/or marketing products and/or services incorporating Feedback in whole or in part, and \n",
    "        (ii) without any restrictions or limitations, including requiring the payment of any license fees, royalties, or other consideration. "
   ]
  },
  {
   "cell_type": "markdown",
   "id": "f225fb94-b2c8-4c92-af38-733d08e0e2a1",
   "metadata": {},
   "source": [
    "## <b> Problem overview:</b>\n",
    "    "
   ]
  },
  {
   "cell_type": "markdown",
   "id": "af9813eb-9c44-4968-a5fe-d1c74415c894",
   "metadata": {},
   "source": [
    "**Dataset used : Fish Weight Dataset**\n",
    "\n",
    "**Features**:\n",
    "\n",
    "- `Species`: Species name of fish\n",
    "- `Length1`: Vertical length in cm\n",
    "- `Length2`: Diagonal length in cm\n",
    "- `Length3`: Cross length in cm\n",
    "- `Height`: Height in cm\n",
    "- `Width`: Diagonal width in cm\n",
    "\n",
    "**Target Variable**:\n",
    "\n",
    "- `Weight`: Weight of fish in gram\n",
    "\n",
    "        \n",
    "**Objective**:\n",
    "\n",
    "The primary objective is typically to build a model that can accurately predict weight of fish in gram.\n",
    "\n",
    "**Usecase**:\n",
    "\n",
    "Here, we will use AutoML(Automated Machine Learning) functionality to automate the entire process of developing a predictive model. It will perform feature exploration, feature engineering, data preparation, model training and evaluation on dataset in custom run and at end we will get leaderboard containined different models along with their performance. Model will also have rank associated with them which indicates which is best performing model for given data followed by other models.\n",
    "\n",
    "As part of custom AutoML run, we will customize below functionalities:\n",
    "- Train test split with training size 0.7.\n",
    "- Outlier filteration with 'tukey' method and imputation with median for outlier in 'Length2' feature.\n",
    "- Feature scaling with 'std' method.\n",
    "- Replacement of customized value in hyperparameter 'max_depth' for 'xgboost' model."
   ]
  },
  {
   "cell_type": "code",
   "execution_count": 1,
   "id": "66568348-4d00-477c-a071-17995f797c95",
   "metadata": {},
   "outputs": [],
   "source": [
    "# Importing AutoML from teradataml\n",
    "from teradataml import AutoML"
   ]
  },
  {
   "cell_type": "code",
   "execution_count": 2,
   "id": "17dfae70-0401-4cc4-ba1c-400a5cf62451",
   "metadata": {},
   "outputs": [],
   "source": [
    "# Importing other important libraries\n",
    "import getpass\n",
    "from teradataml import create_context, remove_context\n",
    "from teradataml import DataFrame\n",
    "from teradataml import load_example_data\n",
    "from teradataml import TrainTestSplit"
   ]
  },
  {
   "cell_type": "code",
   "execution_count": 3,
   "id": "cadd9ed2-42d6-4899-b23e-4e2cf601162f",
   "metadata": {},
   "outputs": [
    {
     "name": "stdin",
     "output_type": "stream",
     "text": [
      "Host:  ········\n",
      "Username:  ········\n",
      "Password:  ········\n"
     ]
    }
   ],
   "source": [
    "# Create the connection.\n",
    "host = getpass.getpass(\"Host: \")\n",
    "username = getpass.getpass(\"Username: \")\n",
    "password = getpass.getpass(\"Password: \")\n",
    "\n",
    "con = create_context(host=host, username=username, password=password)"
   ]
  },
  {
   "cell_type": "markdown",
   "id": "be767a89-d5b8-4876-91cb-36980754586e",
   "metadata": {},
   "source": [
    "## <b><span style='color:#F1A424'>| 1.</span> Loading Dataset </b>"
   ]
  },
  {
   "cell_type": "code",
   "execution_count": 4,
   "id": "f1592c52-b247-4792-be2a-30b49bbeb9b6",
   "metadata": {},
   "outputs": [
    {
     "name": "stdout",
     "output_type": "stream",
     "text": [
      "WARNING: Skipped loading table fish since it already exists in the database.\n"
     ]
    }
   ],
   "source": [
    "# Loading dataset from example data collection\n",
    "load_example_data('teradataml','fish')"
   ]
  },
  {
   "cell_type": "code",
   "execution_count": 5,
   "id": "3846ae0f-004b-4b8e-9fea-06fac4294065",
   "metadata": {},
   "outputs": [],
   "source": [
    "# Fetching in teradata dataframe\n",
    "fish_df = DataFrame(\"fish\")"
   ]
  },
  {
   "cell_type": "code",
   "execution_count": 6,
   "id": "442ccd80-b444-413e-970d-d855ec3d6cae",
   "metadata": {},
   "outputs": [
    {
     "data": {
      "text/html": [
       "<style type=\"text/css\">\n",
       "\ttable {border:ridge 5px;}\n",
       "\ttable td {border:inset 1px;}\n",
       "\ttable tr#HeaderRow {background-color:grey; color:white;}</style>\n",
       "<html><table>\n",
       "\t<tr id=\"HeaderRow\">\n",
       "\t\t<th>Species</th>\n",
       "\t\t<th>Weight</th>\n",
       "\t\t<th>Length1</th>\n",
       "\t\t<th>Length2</th>\n",
       "\t\t<th>Length3</th>\n",
       "\t\t<th>Height</th>\n",
       "\t\t<th>Width</th>\n",
       "\t</tr>\n",
       "\t<tr>\n",
       "\t\t<td>Bream</td>\n",
       "\t\t<td>850</td>\n",
       "\t\t<td>32.8</td>\n",
       "\t\t<td>36.0</td>\n",
       "\t\t<td>41.6</td>\n",
       "\t\t<td>16.8896</td>\n",
       "\t\t<td>6.1984</td>\n",
       "\t</tr>\n",
       "\t<tr>\n",
       "\t\t<td>Bream</td>\n",
       "\t\t<td>700</td>\n",
       "\t\t<td>31.9</td>\n",
       "\t\t<td>35.0</td>\n",
       "\t\t<td>40.5</td>\n",
       "\t\t<td>16.2405</td>\n",
       "\t\t<td>5.589</td>\n",
       "\t</tr>\n",
       "\t<tr>\n",
       "\t\t<td>Bream</td>\n",
       "\t\t<td>390</td>\n",
       "\t\t<td>27.6</td>\n",
       "\t\t<td>30.0</td>\n",
       "\t\t<td>35.0</td>\n",
       "\t\t<td>12.67</td>\n",
       "\t\t<td>4.69</td>\n",
       "\t</tr>\n",
       "\t<tr>\n",
       "\t\t<td>Bream</td>\n",
       "\t\t<td>242</td>\n",
       "\t\t<td>23.2</td>\n",
       "\t\t<td>25.4</td>\n",
       "\t\t<td>30.0</td>\n",
       "\t\t<td>11.52</td>\n",
       "\t\t<td>4.02</td>\n",
       "\t</tr>\n",
       "\t<tr>\n",
       "\t\t<td>Bream</td>\n",
       "\t\t<td>714</td>\n",
       "\t\t<td>32.7</td>\n",
       "\t\t<td>36.0</td>\n",
       "\t\t<td>41.5</td>\n",
       "\t\t<td>16.517</td>\n",
       "\t\t<td>5.8515</td>\n",
       "\t</tr>\n",
       "\t<tr>\n",
       "\t\t<td>Bream</td>\n",
       "\t\t<td>955</td>\n",
       "\t\t<td>35.0</td>\n",
       "\t\t<td>38.5</td>\n",
       "\t\t<td>44.0</td>\n",
       "\t\t<td>18.084</td>\n",
       "\t\t<td>6.292</td>\n",
       "\t</tr>\n",
       "\t<tr>\n",
       "\t\t<td>Bream</td>\n",
       "\t\t<td>700</td>\n",
       "\t\t<td>30.4</td>\n",
       "\t\t<td>33.0</td>\n",
       "\t\t<td>38.5</td>\n",
       "\t\t<td>14.938</td>\n",
       "\t\t<td>5.1975</td>\n",
       "\t</tr>\n",
       "\t<tr>\n",
       "\t\t<td>Bream</td>\n",
       "\t\t<td>600</td>\n",
       "\t\t<td>29.4</td>\n",
       "\t\t<td>32.0</td>\n",
       "\t\t<td>37.2</td>\n",
       "\t\t<td>15.438</td>\n",
       "\t\t<td>5.58</td>\n",
       "\t</tr>\n",
       "\t<tr>\n",
       "\t\t<td>Bream</td>\n",
       "\t\t<td>430</td>\n",
       "\t\t<td>26.5</td>\n",
       "\t\t<td>29.0</td>\n",
       "\t\t<td>34.0</td>\n",
       "\t\t<td>12.444</td>\n",
       "\t\t<td>5.134</td>\n",
       "\t</tr>\n",
       "\t<tr>\n",
       "\t\t<td>Bream</td>\n",
       "\t\t<td>575</td>\n",
       "\t\t<td>31.3</td>\n",
       "\t\t<td>34.0</td>\n",
       "\t\t<td>39.5</td>\n",
       "\t\t<td>15.1285</td>\n",
       "\t\t<td>5.5695</td>\n",
       "\t</tr>\n",
       "</table></html>"
      ],
      "text/plain": [
       "         Weight  Length1  Length2  Length3   Height   Width\n",
       "Species                                                    \n",
       "Bream       850     32.8     36.0     41.6  16.8896  6.1984\n",
       "Bream       700     31.9     35.0     40.5  16.2405  5.5890\n",
       "Bream       390     27.6     30.0     35.0  12.6700  4.6900\n",
       "Bream       242     23.2     25.4     30.0  11.5200  4.0200\n",
       "Bream       714     32.7     36.0     41.5  16.5170  5.8515\n",
       "Bream       955     35.0     38.5     44.0  18.0840  6.2920\n",
       "Bream       700     30.4     33.0     38.5  14.9380  5.1975\n",
       "Bream       600     29.4     32.0     37.2  15.4380  5.5800\n",
       "Bream       430     26.5     29.0     34.0  12.4440  5.1340\n",
       "Bream       575     31.3     34.0     39.5  15.1285  5.5695"
      ]
     },
     "execution_count": 6,
     "metadata": {},
     "output_type": "execute_result"
    }
   ],
   "source": [
    "# first 5 rows\n",
    "fish_df.head()"
   ]
  },
  {
   "cell_type": "code",
   "execution_count": 7,
   "id": "636c220d-d12f-4ea5-ab2b-c9203ef00d49",
   "metadata": {},
   "outputs": [
    {
     "data": {
      "text/plain": [
       "(159, 7)"
      ]
     },
     "execution_count": 7,
     "metadata": {},
     "output_type": "execute_result"
    }
   ],
   "source": [
    "# fish_df dataset\n",
    "fish_df.shape"
   ]
  },
  {
   "cell_type": "code",
   "execution_count": 8,
   "id": "e5d1fad7-8784-4d7a-be1f-7be1d3991d8f",
   "metadata": {},
   "outputs": [],
   "source": [
    "# Performing sampling to get 80% for trainning and 20% for testing\n",
    "fish_df_sample = fish_df.sample(frac = [0.8, 0.2])"
   ]
  },
  {
   "cell_type": "code",
   "execution_count": 9,
   "id": "a0e6891a-1b7e-4bac-97c8-350ba5f5bde4",
   "metadata": {},
   "outputs": [
    {
     "data": {
      "text/html": [
       "<style type=\"text/css\">\n",
       "\ttable {border:ridge 5px;}\n",
       "\ttable td {border:inset 1px;}\n",
       "\ttable tr#HeaderRow {background-color:grey; color:white;}</style>\n",
       "<html><table>\n",
       "\t<tr id=\"HeaderRow\">\n",
       "\t\t<th>Species</th>\n",
       "\t\t<th>Weight</th>\n",
       "\t\t<th>Length1</th>\n",
       "\t\t<th>Length2</th>\n",
       "\t\t<th>Length3</th>\n",
       "\t\t<th>Height</th>\n",
       "\t\t<th>Width</th>\n",
       "\t\t<th>sampleid</th>\n",
       "\t</tr>\n",
       "\t<tr>\n",
       "\t\t<td>Bream</td>\n",
       "\t\t<td>500</td>\n",
       "\t\t<td>28.5</td>\n",
       "\t\t<td>30.7</td>\n",
       "\t\t<td>36.2</td>\n",
       "\t\t<td>14.2266</td>\n",
       "\t\t<td>4.9594</td>\n",
       "\t\t<td>1</td>\n",
       "\t</tr>\n",
       "\t<tr>\n",
       "\t\t<td>Bream</td>\n",
       "\t\t<td>500</td>\n",
       "\t\t<td>29.1</td>\n",
       "\t\t<td>31.5</td>\n",
       "\t\t<td>36.4</td>\n",
       "\t\t<td>13.7592</td>\n",
       "\t\t<td>4.368</td>\n",
       "\t\t<td>1</td>\n",
       "\t</tr>\n",
       "\t<tr>\n",
       "\t\t<td>Bream</td>\n",
       "\t\t<td>340</td>\n",
       "\t\t<td>29.5</td>\n",
       "\t\t<td>32.0</td>\n",
       "\t\t<td>37.3</td>\n",
       "\t\t<td>13.9129</td>\n",
       "\t\t<td>5.0728</td>\n",
       "\t\t<td>1</td>\n",
       "\t</tr>\n",
       "\t<tr>\n",
       "\t\t<td>Bream</td>\n",
       "\t\t<td>600</td>\n",
       "\t\t<td>29.4</td>\n",
       "\t\t<td>32.0</td>\n",
       "\t\t<td>37.2</td>\n",
       "\t\t<td>14.9544</td>\n",
       "\t\t<td>5.1708</td>\n",
       "\t\t<td>1</td>\n",
       "\t</tr>\n",
       "\t<tr>\n",
       "\t\t<td>Bream</td>\n",
       "\t\t<td>700</td>\n",
       "\t\t<td>30.4</td>\n",
       "\t\t<td>33.0</td>\n",
       "\t\t<td>38.5</td>\n",
       "\t\t<td>14.938</td>\n",
       "\t\t<td>5.1975</td>\n",
       "\t\t<td>2</td>\n",
       "\t</tr>\n",
       "\t<tr>\n",
       "\t\t<td>Bream</td>\n",
       "\t\t<td>610</td>\n",
       "\t\t<td>30.9</td>\n",
       "\t\t<td>33.5</td>\n",
       "\t\t<td>38.6</td>\n",
       "\t\t<td>15.633</td>\n",
       "\t\t<td>5.1338</td>\n",
       "\t\t<td>1</td>\n",
       "\t</tr>\n",
       "\t<tr>\n",
       "\t\t<td>Bream</td>\n",
       "\t\t<td>700</td>\n",
       "\t\t<td>30.4</td>\n",
       "\t\t<td>33.0</td>\n",
       "\t\t<td>38.3</td>\n",
       "\t\t<td>14.8604</td>\n",
       "\t\t<td>5.2854</td>\n",
       "\t\t<td>2</td>\n",
       "\t</tr>\n",
       "\t<tr>\n",
       "\t\t<td>Bream</td>\n",
       "\t\t<td>475</td>\n",
       "\t\t<td>28.4</td>\n",
       "\t\t<td>31.0</td>\n",
       "\t\t<td>36.2</td>\n",
       "\t\t<td>14.2628</td>\n",
       "\t\t<td>5.1042</td>\n",
       "\t\t<td>1</td>\n",
       "\t</tr>\n",
       "\t<tr>\n",
       "\t\t<td>Bream</td>\n",
       "\t\t<td>450</td>\n",
       "\t\t<td>27.6</td>\n",
       "\t\t<td>30.0</td>\n",
       "\t\t<td>35.1</td>\n",
       "\t\t<td>14.0049</td>\n",
       "\t\t<td>4.8438</td>\n",
       "\t\t<td>2</td>\n",
       "\t</tr>\n",
       "\t<tr>\n",
       "\t\t<td>Bream</td>\n",
       "\t\t<td>450</td>\n",
       "\t\t<td>26.8</td>\n",
       "\t\t<td>29.7</td>\n",
       "\t\t<td>34.7</td>\n",
       "\t\t<td>13.6024</td>\n",
       "\t\t<td>4.9274</td>\n",
       "\t\t<td>1</td>\n",
       "\t</tr>\n",
       "</table></html>"
      ],
      "text/plain": [
       "         Weight  Length1  Length2  Length3   Height   Width  sampleid\n",
       "Species                                                              \n",
       "Bream       500     28.5     30.7     36.2  14.2266  4.9594         1\n",
       "Bream       500     29.1     31.5     36.4  13.7592  4.3680         1\n",
       "Bream       340     29.5     32.0     37.3  13.9129  5.0728         1\n",
       "Bream       600     29.4     32.0     37.2  14.9544  5.1708         1\n",
       "Bream       700     30.4     33.0     38.5  14.9380  5.1975         2\n",
       "Bream       610     30.9     33.5     38.6  15.6330  5.1338         1\n",
       "Bream       700     30.4     33.0     38.3  14.8604  5.2854         2\n",
       "Bream       475     28.4     31.0     36.2  14.2628  5.1042         1\n",
       "Bream       450     27.6     30.0     35.1  14.0049  4.8438         2\n",
       "Bream       450     26.8     29.7     34.7  13.6024  4.9274         1"
      ]
     },
     "execution_count": 9,
     "metadata": {},
     "output_type": "execute_result"
    }
   ],
   "source": [
    "fish_df_sample.head()"
   ]
  },
  {
   "cell_type": "code",
   "execution_count": 10,
   "id": "5e3e5923-18ad-4cf6-b4e5-e87f8854700b",
   "metadata": {},
   "outputs": [],
   "source": [
    "# Fetching train and test data\n",
    "fish_df_train= fish_df_sample[fish_df_sample['sampleid'] == 1].drop('sampleid', axis=1)\n",
    "fish_df_test = fish_df_sample[fish_df_sample['sampleid'] == 2].drop('sampleid', axis=1)"
   ]
  },
  {
   "cell_type": "code",
   "execution_count": 11,
   "id": "83d72a72-3fac-4862-b374-d21ab59be1a6",
   "metadata": {},
   "outputs": [
    {
     "data": {
      "text/plain": [
       "(127, 7)"
      ]
     },
     "execution_count": 11,
     "metadata": {},
     "output_type": "execute_result"
    }
   ],
   "source": [
    "# train data shape\n",
    "fish_df_train.shape"
   ]
  },
  {
   "cell_type": "code",
   "execution_count": 12,
   "id": "b22be730-8a7a-40f3-8e2a-cabd8d1f427f",
   "metadata": {},
   "outputs": [
    {
     "data": {
      "text/plain": [
       "(32, 7)"
      ]
     },
     "execution_count": 12,
     "metadata": {},
     "output_type": "execute_result"
    }
   ],
   "source": [
    "# test data shape\n",
    "fish_df_test.shape"
   ]
  },
  {
   "cell_type": "code",
   "execution_count": 13,
   "id": "18473df2-be15-4e1e-bc5e-739abacf8b89",
   "metadata": {},
   "outputs": [
    {
     "data": {
      "text/html": [
       "<style type=\"text/css\">\n",
       "\ttable {border:ridge 5px;}\n",
       "\ttable td {border:inset 1px;}\n",
       "\ttable tr#HeaderRow {background-color:grey; color:white;}</style>\n",
       "<html><table>\n",
       "\t<tr id=\"HeaderRow\">\n",
       "\t\t<th>Species</th>\n",
       "\t\t<th>Weight</th>\n",
       "\t\t<th>Length1</th>\n",
       "\t\t<th>Length2</th>\n",
       "\t\t<th>Length3</th>\n",
       "\t\t<th>Height</th>\n",
       "\t\t<th>Width</th>\n",
       "\t</tr>\n",
       "\t<tr>\n",
       "\t\t<td>Bream</td>\n",
       "\t\t<td>500</td>\n",
       "\t\t<td>28.7</td>\n",
       "\t\t<td>31.0</td>\n",
       "\t\t<td>36.2</td>\n",
       "\t\t<td>14.3714</td>\n",
       "\t\t<td>4.8146</td>\n",
       "\t</tr>\n",
       "\t<tr>\n",
       "\t\t<td>Bream</td>\n",
       "\t\t<td>600</td>\n",
       "\t\t<td>29.4</td>\n",
       "\t\t<td>32.0</td>\n",
       "\t\t<td>37.2</td>\n",
       "\t\t<td>14.9544</td>\n",
       "\t\t<td>5.1708</td>\n",
       "\t</tr>\n",
       "\t<tr>\n",
       "\t\t<td>Bream</td>\n",
       "\t\t<td>610</td>\n",
       "\t\t<td>30.9</td>\n",
       "\t\t<td>33.5</td>\n",
       "\t\t<td>38.6</td>\n",
       "\t\t<td>15.633</td>\n",
       "\t\t<td>5.1338</td>\n",
       "\t</tr>\n",
       "\t<tr>\n",
       "\t\t<td>Bream</td>\n",
       "\t\t<td>575</td>\n",
       "\t\t<td>31.3</td>\n",
       "\t\t<td>34.0</td>\n",
       "\t\t<td>39.5</td>\n",
       "\t\t<td>15.1285</td>\n",
       "\t\t<td>5.5695</td>\n",
       "\t</tr>\n",
       "\t<tr>\n",
       "\t\t<td>Bream</td>\n",
       "\t\t<td>700</td>\n",
       "\t\t<td>31.9</td>\n",
       "\t\t<td>35.0</td>\n",
       "\t\t<td>40.5</td>\n",
       "\t\t<td>16.2405</td>\n",
       "\t\t<td>5.589</td>\n",
       "\t</tr>\n",
       "\t<tr>\n",
       "\t\t<td>Bream</td>\n",
       "\t\t<td>725</td>\n",
       "\t\t<td>31.8</td>\n",
       "\t\t<td>35.0</td>\n",
       "\t\t<td>40.9</td>\n",
       "\t\t<td>16.36</td>\n",
       "\t\t<td>6.0532</td>\n",
       "\t</tr>\n",
       "\t<tr>\n",
       "\t\t<td>Bream</td>\n",
       "\t\t<td>620</td>\n",
       "\t\t<td>31.5</td>\n",
       "\t\t<td>34.5</td>\n",
       "\t\t<td>39.7</td>\n",
       "\t\t<td>15.5227</td>\n",
       "\t\t<td>5.2801</td>\n",
       "\t</tr>\n",
       "\t<tr>\n",
       "\t\t<td>Bream</td>\n",
       "\t\t<td>500</td>\n",
       "\t\t<td>29.1</td>\n",
       "\t\t<td>31.5</td>\n",
       "\t\t<td>36.4</td>\n",
       "\t\t<td>13.7592</td>\n",
       "\t\t<td>4.368</td>\n",
       "\t</tr>\n",
       "\t<tr>\n",
       "\t\t<td>Bream</td>\n",
       "\t\t<td>475</td>\n",
       "\t\t<td>28.4</td>\n",
       "\t\t<td>31.0</td>\n",
       "\t\t<td>36.2</td>\n",
       "\t\t<td>14.2628</td>\n",
       "\t\t<td>5.1042</td>\n",
       "\t</tr>\n",
       "\t<tr>\n",
       "\t\t<td>Bream</td>\n",
       "\t\t<td>500</td>\n",
       "\t\t<td>26.8</td>\n",
       "\t\t<td>29.7</td>\n",
       "\t\t<td>34.5</td>\n",
       "\t\t<td>14.1795</td>\n",
       "\t\t<td>5.2785</td>\n",
       "\t</tr>\n",
       "</table></html>"
      ],
      "text/plain": [
       "         Weight  Length1  Length2  Length3   Height   Width\n",
       "Species                                                    \n",
       "Bream       500     28.7     31.0     36.2  14.3714  4.8146\n",
       "Bream       600     29.4     32.0     37.2  14.9544  5.1708\n",
       "Bream       610     30.9     33.5     38.6  15.6330  5.1338\n",
       "Bream       575     31.3     34.0     39.5  15.1285  5.5695\n",
       "Bream       700     31.9     35.0     40.5  16.2405  5.5890\n",
       "Bream       725     31.8     35.0     40.9  16.3600  6.0532\n",
       "Bream       620     31.5     34.5     39.7  15.5227  5.2801\n",
       "Bream       500     29.1     31.5     36.4  13.7592  4.3680\n",
       "Bream       475     28.4     31.0     36.2  14.2628  5.1042\n",
       "Bream       500     26.8     29.7     34.5  14.1795  5.2785"
      ]
     },
     "execution_count": 13,
     "metadata": {},
     "output_type": "execute_result"
    }
   ],
   "source": [
    "#train dataset\n",
    "fish_df_train.head()"
   ]
  },
  {
   "cell_type": "code",
   "execution_count": 14,
   "id": "58c9d763-4f19-449e-a35b-676d4d026acc",
   "metadata": {},
   "outputs": [
    {
     "data": {
      "text/html": [
       "<style type=\"text/css\">\n",
       "\ttable {border:ridge 5px;}\n",
       "\ttable td {border:inset 1px;}\n",
       "\ttable tr#HeaderRow {background-color:grey; color:white;}</style>\n",
       "<html><table>\n",
       "\t<tr id=\"HeaderRow\">\n",
       "\t\t<th>Species</th>\n",
       "\t\t<th>Weight</th>\n",
       "\t\t<th>Length1</th>\n",
       "\t\t<th>Length2</th>\n",
       "\t\t<th>Length3</th>\n",
       "\t\t<th>Height</th>\n",
       "\t\t<th>Width</th>\n",
       "\t</tr>\n",
       "\t<tr>\n",
       "\t\t<td>Bream</td>\n",
       "\t\t<td>700</td>\n",
       "\t\t<td>30.4</td>\n",
       "\t\t<td>33.0</td>\n",
       "\t\t<td>38.3</td>\n",
       "\t\t<td>14.8604</td>\n",
       "\t\t<td>5.2854</td>\n",
       "\t</tr>\n",
       "\t<tr>\n",
       "\t\t<td>Bream</td>\n",
       "\t\t<td>650</td>\n",
       "\t\t<td>31.0</td>\n",
       "\t\t<td>33.5</td>\n",
       "\t\t<td>38.7</td>\n",
       "\t\t<td>14.4738</td>\n",
       "\t\t<td>5.7276</td>\n",
       "\t</tr>\n",
       "\t<tr>\n",
       "\t\t<td>Bream</td>\n",
       "\t\t<td>340</td>\n",
       "\t\t<td>23.9</td>\n",
       "\t\t<td>26.5</td>\n",
       "\t\t<td>31.1</td>\n",
       "\t\t<td>12.3778</td>\n",
       "\t\t<td>4.6961</td>\n",
       "\t</tr>\n",
       "\t<tr>\n",
       "\t\t<td>Bream</td>\n",
       "\t\t<td>680</td>\n",
       "\t\t<td>31.8</td>\n",
       "\t\t<td>35.0</td>\n",
       "\t\t<td>40.6</td>\n",
       "\t\t<td>15.4686</td>\n",
       "\t\t<td>6.1306</td>\n",
       "\t</tr>\n",
       "\t<tr>\n",
       "\t\t<td>Perch</td>\n",
       "\t\t<td>197</td>\n",
       "\t\t<td>23.5</td>\n",
       "\t\t<td>25.6</td>\n",
       "\t\t<td>27.0</td>\n",
       "\t\t<td>6.561</td>\n",
       "\t\t<td>4.239</td>\n",
       "\t</tr>\n",
       "\t<tr>\n",
       "\t\t<td>Perch</td>\n",
       "\t\t<td>170</td>\n",
       "\t\t<td>21.5</td>\n",
       "\t\t<td>23.5</td>\n",
       "\t\t<td>25.0</td>\n",
       "\t\t<td>6.275</td>\n",
       "\t\t<td>3.725</td>\n",
       "\t</tr>\n",
       "\t<tr>\n",
       "\t\t<td>Parkki</td>\n",
       "\t\t<td>140</td>\n",
       "\t\t<td>19.0</td>\n",
       "\t\t<td>20.7</td>\n",
       "\t\t<td>23.2</td>\n",
       "\t\t<td>8.5376</td>\n",
       "\t\t<td>3.2944</td>\n",
       "\t</tr>\n",
       "\t<tr>\n",
       "\t\t<td>Bream</td>\n",
       "\t\t<td>685</td>\n",
       "\t\t<td>31.4</td>\n",
       "\t\t<td>34.0</td>\n",
       "\t\t<td>39.2</td>\n",
       "\t\t<td>15.9936</td>\n",
       "\t\t<td>5.3704</td>\n",
       "\t</tr>\n",
       "\t<tr>\n",
       "\t\t<td>Bream</td>\n",
       "\t\t<td>700</td>\n",
       "\t\t<td>30.4</td>\n",
       "\t\t<td>33.0</td>\n",
       "\t\t<td>38.5</td>\n",
       "\t\t<td>14.938</td>\n",
       "\t\t<td>5.1975</td>\n",
       "\t</tr>\n",
       "\t<tr>\n",
       "\t\t<td>Bream</td>\n",
       "\t\t<td>450</td>\n",
       "\t\t<td>27.6</td>\n",
       "\t\t<td>30.0</td>\n",
       "\t\t<td>35.1</td>\n",
       "\t\t<td>14.0049</td>\n",
       "\t\t<td>4.8438</td>\n",
       "\t</tr>\n",
       "</table></html>"
      ],
      "text/plain": [
       "         Weight  Length1  Length2  Length3   Height   Width\n",
       "Species                                                    \n",
       "Bream       700     30.4     33.0     38.3  14.8604  5.2854\n",
       "Bream       650     31.0     33.5     38.7  14.4738  5.7276\n",
       "Bream       340     23.9     26.5     31.1  12.3778  4.6961\n",
       "Bream       680     31.8     35.0     40.6  15.4686  6.1306\n",
       "Perch       197     23.5     25.6     27.0   6.5610  4.2390\n",
       "Perch       170     21.5     23.5     25.0   6.2750  3.7250\n",
       "Parkki      140     19.0     20.7     23.2   8.5376  3.2944\n",
       "Bream       685     31.4     34.0     39.2  15.9936  5.3704\n",
       "Bream       700     30.4     33.0     38.5  14.9380  5.1975\n",
       "Bream       450     27.6     30.0     35.1  14.0049  4.8438"
      ]
     },
     "execution_count": 14,
     "metadata": {},
     "output_type": "execute_result"
    }
   ],
   "source": [
    "# test dataset\n",
    "fish_df_test.head()"
   ]
  },
  {
   "cell_type": "code",
   "execution_count": 15,
   "id": "3c0e69cd-8e1e-4b74-b6f5-35b36efe6b21",
   "metadata": {},
   "outputs": [
    {
     "name": "stdout",
     "output_type": "stream",
     "text": [
      "\n",
      "Generating custom config JSON for AutoML ...\n",
      "\n",
      "Available main options for customization with corresponding indices: \n",
      "--------------------------------------------------------------------------------\n",
      "\n",
      "Index 1: Customize Feature Engineering Phase\n",
      "\n",
      "Index 2: Customize Data Preparation Phase\n",
      "\n",
      "Index 3: Customize Model Training Phase\n",
      "\n",
      "Index 4: Generate custom json and exit\n",
      "--------------------------------------------------------------------------------\n"
     ]
    },
    {
     "name": "stdin",
     "output_type": "stream",
     "text": [
      "\n",
      "Enter the index you want to customize:  2\n"
     ]
    },
    {
     "name": "stdout",
     "output_type": "stream",
     "text": [
      "\n",
      "Customizing Data Preparation Phase ...\n",
      "\n",
      "Available options for customization of data preparation phase with corresponding indices: \n",
      "--------------------------------------------------------------------------------\n",
      "\n",
      "Index 1: Customize Data Imbalance Handling\n",
      "\n",
      "Index 2: Customize Outlier Handling\n",
      "\n",
      "Index 3: Customize Feature Scaling\n",
      "\n",
      "Index 4: Back to main menu\n",
      "\n",
      "Index 5: Generate custom json and exit\n",
      "--------------------------------------------------------------------------------\n"
     ]
    },
    {
     "name": "stdin",
     "output_type": "stream",
     "text": [
      "\n",
      "Enter the list of indices you want to customize in data preparation phase:  2,3\n"
     ]
    },
    {
     "name": "stdout",
     "output_type": "stream",
     "text": [
      "\n",
      "Customizing Outlier Handling ...\n",
      "\n",
      "Available outlier detection methods with corresponding indices:\n",
      "Index 1: percentile\n",
      "Index 2: tukey\n",
      "Index 3: carling\n"
     ]
    },
    {
     "name": "stdin",
     "output_type": "stream",
     "text": [
      "\n",
      "Enter the corresponding index oulier handling method:  2\n",
      "\n",
      "Enter the feature or list of features for outlier handling:  Length2\n"
     ]
    },
    {
     "name": "stdout",
     "output_type": "stream",
     "text": [
      "\n",
      "Available outlier replacement methods with corresponding indices:\n",
      "Index 1: delete\n",
      "Index 2: median\n",
      "Index 3: Any Numeric Value\n"
     ]
    },
    {
     "name": "stdin",
     "output_type": "stream",
     "text": [
      "\n",
      "Enter the index of corresponding replacement method for feature Length2:  2\n"
     ]
    },
    {
     "name": "stdout",
     "output_type": "stream",
     "text": [
      "\n",
      "Available options for generic arguments: \n",
      "Index 0: Default\n",
      "Index 1: volatile\n",
      "Index 2: persist\n"
     ]
    },
    {
     "name": "stdin",
     "output_type": "stream",
     "text": [
      "\n",
      "Enter the indices for generic arguments :  0\n"
     ]
    },
    {
     "name": "stdout",
     "output_type": "stream",
     "text": [
      "\n",
      "Customization of outlier handling has been completed successfully.\n",
      "\n",
      "Available feature scaling methods with corresponding indices:\n",
      "Index 1: maxabs\n",
      "Index 2: mean\n",
      "Index 3: midrange\n",
      "Index 4: range\n",
      "Index 5: rescale\n",
      "Index 6: std\n",
      "Index 7: sum\n",
      "Index 8: ustd\n"
     ]
    },
    {
     "name": "stdin",
     "output_type": "stream",
     "text": [
      "\n",
      "Enter the corresponding index feature scaling method:  6\n"
     ]
    },
    {
     "name": "stdout",
     "output_type": "stream",
     "text": [
      "\n",
      "Available options for generic arguments: \n",
      "Index 0: Default\n",
      "Index 1: volatile\n",
      "Index 2: persist\n"
     ]
    },
    {
     "name": "stdin",
     "output_type": "stream",
     "text": [
      "\n",
      "Enter the indices for generic arguments :  0\n"
     ]
    },
    {
     "name": "stdout",
     "output_type": "stream",
     "text": [
      "\n",
      "Customization of feature scaling has been completed successfully.\n",
      "\n",
      "Available options for customization of data preparation phase with corresponding indices: \n",
      "--------------------------------------------------------------------------------\n",
      "\n",
      "Index 1: Customize Data Imbalance Handling\n",
      "\n",
      "Index 2: Customize Outlier Handling\n",
      "\n",
      "Index 3: Customize Feature Scaling\n",
      "\n",
      "Index 4: Back to main menu\n",
      "\n",
      "Index 5: Generate custom json and exit\n",
      "--------------------------------------------------------------------------------\n"
     ]
    },
    {
     "name": "stdin",
     "output_type": "stream",
     "text": [
      "\n",
      "Enter the list of indices you want to customize in data preparation phase:  4\n"
     ]
    },
    {
     "name": "stdout",
     "output_type": "stream",
     "text": [
      "\n",
      "Customization of data preparation phase has been completed successfully.\n",
      "\n",
      "Available main options for customization with corresponding indices: \n",
      "--------------------------------------------------------------------------------\n",
      "\n",
      "Index 1: Customize Feature Engineering Phase\n",
      "\n",
      "Index 2: Customize Data Preparation Phase\n",
      "\n",
      "Index 3: Customize Model Training Phase\n",
      "\n",
      "Index 4: Generate custom json and exit\n",
      "--------------------------------------------------------------------------------\n"
     ]
    },
    {
     "name": "stdin",
     "output_type": "stream",
     "text": [
      "\n",
      "Enter the index you want to customize:  3\n"
     ]
    },
    {
     "name": "stdout",
     "output_type": "stream",
     "text": [
      "\n",
      "Customizing Model Training Phase ...\n",
      "\n",
      "Available options for customization of model training phase with corresponding indices: \n",
      "--------------------------------------------------------------------------------\n",
      "\n",
      "Index 1: Customize Model Hyperparameter\n",
      "\n",
      "Index 2: Back to main menu\n",
      "\n",
      "Index 3: Generate custom json and exit\n",
      "--------------------------------------------------------------------------------\n"
     ]
    },
    {
     "name": "stdin",
     "output_type": "stream",
     "text": [
      "\n",
      "Enter the list of indices you want to customize in model training phase:  1\n"
     ]
    },
    {
     "name": "stdout",
     "output_type": "stream",
     "text": [
      "\n",
      "Customizing Model Hyperparameter ...\n",
      "\n",
      "Available models for hyperparameter tuning with corresponding indices:\n",
      "Index 1: decision_forest\n",
      "Index 2: xgboost\n",
      "Index 3: knn\n",
      "Index 4: glm\n",
      "Index 5: svm\n",
      "\n",
      "Available hyperparamters update methods with corresponding indices:\n",
      "Index 1: ADD\n",
      "Index 2: REPLACE\n"
     ]
    },
    {
     "name": "stdin",
     "output_type": "stream",
     "text": [
      "\n",
      "Enter the list of model indices for performing hyperparameter tuning:  1\n"
     ]
    },
    {
     "name": "stdout",
     "output_type": "stream",
     "text": [
      "\n",
      "Available hyperparameters for model 'decision_forest' with corresponding indices:\n",
      "Index 1: min_impurity\n",
      "Index 2: max_depth\n",
      "Index 3: min_node_size\n",
      "Index 4: num_trees\n"
     ]
    },
    {
     "name": "stdin",
     "output_type": "stream",
     "text": [
      "\n",
      "Enter the list of hyperparameter indices for model 'decision_forest':  3\n",
      "\n",
      "Enter the index of corresponding update method for hyperparameters 'min_node_size' for model 'decision_forest':  1\n",
      "\n",
      "Enter the list of value for hyperparameter 'min_node_size' for model 'decision_forest':  2, 3\n"
     ]
    },
    {
     "name": "stdout",
     "output_type": "stream",
     "text": [
      "\n",
      "Customization of model hyperparameter has been completed successfully.\n",
      "\n",
      "Available options for customization of model training phase with corresponding indices: \n",
      "--------------------------------------------------------------------------------\n",
      "\n",
      "Index 1: Customize Model Hyperparameter\n",
      "\n",
      "Index 2: Back to main menu\n",
      "\n",
      "Index 3: Generate custom json and exit\n",
      "--------------------------------------------------------------------------------\n"
     ]
    },
    {
     "name": "stdin",
     "output_type": "stream",
     "text": [
      "\n",
      "Enter the list of indices you want to customize in model training phase:  3\n"
     ]
    },
    {
     "name": "stdout",
     "output_type": "stream",
     "text": [
      "\n",
      "Customization of model training phase has been completed successfully.\n",
      "\n",
      "Process of generating custom config file for AutoML has been completed successfully.\n",
      "\n",
      "'custom_fish_weight.json' file is generated successfully under the current working directory.\n"
     ]
    }
   ],
   "source": [
    "AutoML.generate_custom_config(\"custom_fish_weight\")"
   ]
  },
  {
   "cell_type": "markdown",
   "id": "856ea871-93d8-4ea2-b524-1acb23bd7eb5",
   "metadata": {},
   "source": [
    "## <b><span style='color:#F1A424'>| 2.</span> Fitting AutoML </b>"
   ]
  },
  {
   "cell_type": "code",
   "execution_count": 16,
   "id": "f3650aa5-a408-4227-a88d-79c0f3d36d3c",
   "metadata": {},
   "outputs": [],
   "source": [
    "# Creating AutoML instance\n",
    "# Excluded 'glm' and 'xgboost' from model training.\n",
    "# Keeping early stopping timer threshold to 200 sec\n",
    "# and verbose level 2 for detailed loggging\n",
    "# Using custom config json for custom run\n",
    "\n",
    "aml = AutoML(task_type=\"Regression\", \n",
    "             exclude=['glm', 'xgboost'],\n",
    "             max_runtime_secs=200,\n",
    "             verbose=2,\n",
    "             custom_config_file='custom_fish_weight.json')"
   ]
  },
  {
   "cell_type": "code",
   "execution_count": 17,
   "id": "a1b7a771-1bfa-40c9-8ad0-c377d320c137",
   "metadata": {},
   "outputs": [
    {
     "name": "stdout",
     "output_type": "stream",
     "text": [
      "\n",
      "Received below input for customization : \n",
      "{\n",
      "    \"OutlierFilterIndicator\": true,\n",
      "    \"OutlierFilterMethod\": \"tukey\",\n",
      "    \"OutlierFilterParam\": {\n",
      "        \"Length2\": {\n",
      "            \"replacement_value\": \"median\"\n",
      "        }\n",
      "    },\n",
      "    \"FeatureScalingIndicator\": true,\n",
      "    \"FeatureScalingParam\": {\n",
      "        \"FeatureScalingMethod\": \"std\"\n",
      "    },\n",
      "    \"HyperparameterTuningIndicator\": true,\n",
      "    \"HyperparameterTuningParam\": {\n",
      "        \"decision_forest\": {\n",
      "            \"min_node_size\": {\n",
      "                \"Method\": \"ADD\",\n",
      "                \"Value\": [\n",
      "                    2,\n",
      "                    3\n",
      "                ]\n",
      "            }\n",
      "        }\n",
      "    }\n",
      "}\n"
     ]
    },
    {
     "data": {
      "text/html": [
       "\n",
       "            <style>\n",
       "                .custom-div {\n",
       "                    background-color: lightgray;\n",
       "                    color: #000000;\n",
       "                    padding: 10px;\n",
       "                    border-radius: 8px;\n",
       "                    box-shadow: 0 3px 4px rgba(0, 0, 0, 0.2);\n",
       "                    margin-bottom: 10px;\n",
       "                    text-align: center;\n",
       "                }\n",
       "            </style>\n",
       "        <br><div class=\"custom-div\"><h3><span style=\"color: green;\"></span>1. Feature Exploration -> 2. Feature Engineering -> 3. Data Preparation -> 4. Model Training & Evaluation<center></h3></center></div>"
      ],
      "text/plain": [
       "<IPython.core.display.HTML object>"
      ]
     },
     "metadata": {},
     "output_type": "display_data"
    },
    {
     "name": "stdout",
     "output_type": "stream",
     "text": [
      "Feature Exploration started ...\n",
      "\n",
      "Data Overview:\n",
      "Total Rows in the data: 127\n",
      "Total Columns in the data: 7\n",
      "\n",
      "Column Summary:\n"
     ]
    },
    {
     "data": {
      "text/html": [
       "<style type=\"text/css\">\n",
       "\ttable {border:ridge 5px;}\n",
       "\ttable td {border:inset 1px;}\n",
       "\ttable tr#HeaderRow {background-color:grey; color:white;}</style>\n",
       "<html><table>\n",
       "\t<tr id=\"HeaderRow\">\n",
       "\t\t<th>ColumnName</th>\n",
       "\t\t<th>Datatype</th>\n",
       "\t\t<th>NonNullCount</th>\n",
       "\t\t<th>NullCount</th>\n",
       "\t\t<th>BlankCount</th>\n",
       "\t\t<th>ZeroCount</th>\n",
       "\t\t<th>PositiveCount</th>\n",
       "\t\t<th>NegativeCount</th>\n",
       "\t\t<th>NullPercentage</th>\n",
       "\t\t<th>NonNullPercentage</th>\n",
       "\t</tr>\n",
       "\t<tr>\n",
       "\t\t<td>Height</td>\n",
       "\t\t<td>FLOAT</td>\n",
       "\t\t<td>127</td>\n",
       "\t\t<td>0</td>\n",
       "\t\t<td>None</td>\n",
       "\t\t<td>0</td>\n",
       "\t\t<td>127</td>\n",
       "\t\t<td>0</td>\n",
       "\t\t<td>0.0</td>\n",
       "\t\t<td>100.0</td>\n",
       "\t</tr>\n",
       "\t<tr>\n",
       "\t\t<td>Length3</td>\n",
       "\t\t<td>FLOAT</td>\n",
       "\t\t<td>127</td>\n",
       "\t\t<td>0</td>\n",
       "\t\t<td>None</td>\n",
       "\t\t<td>0</td>\n",
       "\t\t<td>127</td>\n",
       "\t\t<td>0</td>\n",
       "\t\t<td>0.0</td>\n",
       "\t\t<td>100.0</td>\n",
       "\t</tr>\n",
       "\t<tr>\n",
       "\t\t<td>Length2</td>\n",
       "\t\t<td>FLOAT</td>\n",
       "\t\t<td>127</td>\n",
       "\t\t<td>0</td>\n",
       "\t\t<td>None</td>\n",
       "\t\t<td>0</td>\n",
       "\t\t<td>127</td>\n",
       "\t\t<td>0</td>\n",
       "\t\t<td>0.0</td>\n",
       "\t\t<td>100.0</td>\n",
       "\t</tr>\n",
       "\t<tr>\n",
       "\t\t<td>Species</td>\n",
       "\t\t<td>VARCHAR(20) CHARACTER SET LATIN</td>\n",
       "\t\t<td>127</td>\n",
       "\t\t<td>0</td>\n",
       "\t\t<td>0</td>\n",
       "\t\t<td>None</td>\n",
       "\t\t<td>None</td>\n",
       "\t\t<td>None</td>\n",
       "\t\t<td>0.0</td>\n",
       "\t\t<td>100.0</td>\n",
       "\t</tr>\n",
       "\t<tr>\n",
       "\t\t<td>Width</td>\n",
       "\t\t<td>FLOAT</td>\n",
       "\t\t<td>127</td>\n",
       "\t\t<td>0</td>\n",
       "\t\t<td>None</td>\n",
       "\t\t<td>0</td>\n",
       "\t\t<td>127</td>\n",
       "\t\t<td>0</td>\n",
       "\t\t<td>0.0</td>\n",
       "\t\t<td>100.0</td>\n",
       "\t</tr>\n",
       "\t<tr>\n",
       "\t\t<td>Length1</td>\n",
       "\t\t<td>FLOAT</td>\n",
       "\t\t<td>127</td>\n",
       "\t\t<td>0</td>\n",
       "\t\t<td>None</td>\n",
       "\t\t<td>0</td>\n",
       "\t\t<td>127</td>\n",
       "\t\t<td>0</td>\n",
       "\t\t<td>0.0</td>\n",
       "\t\t<td>100.0</td>\n",
       "\t</tr>\n",
       "\t<tr>\n",
       "\t\t<td>Weight</td>\n",
       "\t\t<td>INTEGER</td>\n",
       "\t\t<td>127</td>\n",
       "\t\t<td>0</td>\n",
       "\t\t<td>None</td>\n",
       "\t\t<td>0</td>\n",
       "\t\t<td>127</td>\n",
       "\t\t<td>0</td>\n",
       "\t\t<td>0.0</td>\n",
       "\t\t<td>100.0</td>\n",
       "\t</tr>\n",
       "</table></html>"
      ],
      "text/plain": [
       "  ColumnName                         Datatype  NonNullCount  NullCount  BlankCount  ZeroCount  PositiveCount  NegativeCount  NullPercentage  NonNullPercentage\n",
       "0     Height                            FLOAT           127          0         NaN        0.0          127.0            0.0             0.0              100.0\n",
       "1    Length3                            FLOAT           127          0         NaN        0.0          127.0            0.0             0.0              100.0\n",
       "2    Length2                            FLOAT           127          0         NaN        0.0          127.0            0.0             0.0              100.0\n",
       "3    Species  VARCHAR(20) CHARACTER SET LATIN           127          0         0.0        NaN            NaN            NaN             0.0              100.0\n",
       "4      Width                            FLOAT           127          0         NaN        0.0          127.0            0.0             0.0              100.0\n",
       "5    Length1                            FLOAT           127          0         NaN        0.0          127.0            0.0             0.0              100.0\n",
       "6     Weight                          INTEGER           127          0         NaN        0.0          127.0            0.0             0.0              100.0"
      ]
     },
     "metadata": {},
     "output_type": "display_data"
    },
    {
     "name": "stdout",
     "output_type": "stream",
     "text": [
      "         Weight  Length1  Length2  Length3   Height    Width\n",
      "func                                                        \n",
      "min       6.000    9.300    9.800   10.800    1.739    1.048\n",
      "std     367.355   10.090   10.818   11.694    4.320    1.712\n",
      "25%     120.000   19.000   21.000   22.800    6.032    3.350\n",
      "50%     300.000   25.400   27.500   30.600    8.323    4.335\n",
      "75%     667.500   33.600   36.200   40.150   12.143    6.011\n",
      "max    1650.000   59.000   63.400   68.000   18.957    8.142\n",
      "mean    411.283   26.509   28.697   31.531    9.117    4.469\n",
      "count   127.000  127.000  127.000  127.000  127.000  127.000\n",
      "\n",
      "Statistics of Data:\n"
     ]
    },
    {
     "data": {
      "text/html": [
       "<style type=\"text/css\">\n",
       "\ttable {border:ridge 5px;}\n",
       "\ttable td {border:inset 1px;}\n",
       "\ttable tr#HeaderRow {background-color:grey; color:white;}</style>\n",
       "<html><table>\n",
       "\t<tr id=\"HeaderRow\">\n",
       "\t\t<th>func</th>\n",
       "\t\t<th>Weight</th>\n",
       "\t\t<th>Length1</th>\n",
       "\t\t<th>Length2</th>\n",
       "\t\t<th>Length3</th>\n",
       "\t\t<th>Height</th>\n",
       "\t\t<th>Width</th>\n",
       "\t</tr>\n",
       "\t<tr>\n",
       "\t\t<td>50%</td>\n",
       "\t\t<td>300</td>\n",
       "\t\t<td>25.4</td>\n",
       "\t\t<td>27.5</td>\n",
       "\t\t<td>30.6</td>\n",
       "\t\t<td>8.323</td>\n",
       "\t\t<td>4.335</td>\n",
       "\t</tr>\n",
       "\t<tr>\n",
       "\t\t<td>count</td>\n",
       "\t\t<td>127</td>\n",
       "\t\t<td>127</td>\n",
       "\t\t<td>127</td>\n",
       "\t\t<td>127</td>\n",
       "\t\t<td>127</td>\n",
       "\t\t<td>127</td>\n",
       "\t</tr>\n",
       "\t<tr>\n",
       "\t\t<td>mean</td>\n",
       "\t\t<td>411.283</td>\n",
       "\t\t<td>26.509</td>\n",
       "\t\t<td>28.697</td>\n",
       "\t\t<td>31.531</td>\n",
       "\t\t<td>9.117</td>\n",
       "\t\t<td>4.469</td>\n",
       "\t</tr>\n",
       "\t<tr>\n",
       "\t\t<td>min</td>\n",
       "\t\t<td>6</td>\n",
       "\t\t<td>9.3</td>\n",
       "\t\t<td>9.8</td>\n",
       "\t\t<td>10.8</td>\n",
       "\t\t<td>1.739</td>\n",
       "\t\t<td>1.048</td>\n",
       "\t</tr>\n",
       "\t<tr>\n",
       "\t\t<td>max</td>\n",
       "\t\t<td>1650</td>\n",
       "\t\t<td>59</td>\n",
       "\t\t<td>63.4</td>\n",
       "\t\t<td>68</td>\n",
       "\t\t<td>18.957</td>\n",
       "\t\t<td>8.142</td>\n",
       "\t</tr>\n",
       "\t<tr>\n",
       "\t\t<td>75%</td>\n",
       "\t\t<td>667.5</td>\n",
       "\t\t<td>33.6</td>\n",
       "\t\t<td>36.2</td>\n",
       "\t\t<td>40.15</td>\n",
       "\t\t<td>12.143</td>\n",
       "\t\t<td>6.011</td>\n",
       "\t</tr>\n",
       "\t<tr>\n",
       "\t\t<td>25%</td>\n",
       "\t\t<td>120</td>\n",
       "\t\t<td>19</td>\n",
       "\t\t<td>21</td>\n",
       "\t\t<td>22.8</td>\n",
       "\t\t<td>6.032</td>\n",
       "\t\t<td>3.35</td>\n",
       "\t</tr>\n",
       "\t<tr>\n",
       "\t\t<td>std</td>\n",
       "\t\t<td>367.355</td>\n",
       "\t\t<td>10.09</td>\n",
       "\t\t<td>10.818</td>\n",
       "\t\t<td>11.694</td>\n",
       "\t\t<td>4.32</td>\n",
       "\t\t<td>1.712</td>\n",
       "\t</tr>\n",
       "</table></html>"
      ],
      "text/plain": [
       "         Weight  Length1  Length2  Length3   Height    Width\n",
       "func                                                        \n",
       "50%     300.000   25.400   27.500   30.600    8.323    4.335\n",
       "count   127.000  127.000  127.000  127.000  127.000  127.000\n",
       "mean    411.283   26.509   28.697   31.531    9.117    4.469\n",
       "min       6.000    9.300    9.800   10.800    1.739    1.048\n",
       "max    1650.000   59.000   63.400   68.000   18.957    8.142\n",
       "75%     667.500   33.600   36.200   40.150   12.143    6.011\n",
       "25%     120.000   19.000   21.000   22.800    6.032    3.350\n",
       "std     367.355   10.090   10.818   11.694    4.320    1.712"
      ]
     },
     "metadata": {},
     "output_type": "display_data"
    },
    {
     "name": "stdout",
     "output_type": "stream",
     "text": [
      "\n",
      "Categorical Columns with their Distinct values:\n",
      "ColumnName                DistinctValueCount\n",
      "Species                   7         \n",
      "\n",
      "No Futile columns found.\n",
      "\n",
      "Target Column Distribution:\n"
     ]
    },
    {
     "data": {
      "image/png": "[encoded data removed]",
      "text/plain": [
       "<Figure size 800x600 with 1 Axes>"
      ]
     },
     "metadata": {},
     "output_type": "display_data"
    },
    {
     "name": "stdout",
     "output_type": "stream",
     "text": [
      "Columns with outlier percentage :-                                                                                                                                                                                                                                                                                                                                                                                                                                                                                  \n",
      "  ColumnName  OutlierPercentage\n",
      "0    Length3           0.787402\n",
      "1     Weight           2.362205\n",
      "2    Length2           2.362205\n",
      "3    Length1           2.362205\n",
      "                                                                                        \r"
     ]
    },
    {
     "data": {
      "text/html": [
       "\n",
       "            <style>\n",
       "                .custom-div {\n",
       "                    background-color: lightgray;\n",
       "                    color: #000000;\n",
       "                    padding: 10px;\n",
       "                    border-radius: 8px;\n",
       "                    box-shadow: 0 3px 4px rgba(0 -  0 -  0 -  0.2);\n",
       "                    margin-bottom: 10px;\n",
       "                    text-align: center;\n",
       "                }\n",
       "            </style>\n",
       "        <br><div class=\"custom-div\"><h3><span style=\"color: green;\">1. Feature Exploration -></span> 2. Feature Engineering -> 3. Data Preparation -> 4. Model Training & Evaluation<center></h3></center></div>"
      ],
      "text/plain": [
       "<IPython.core.display.HTML object>"
      ]
     },
     "metadata": {},
     "output_type": "display_data"
    },
    {
     "name": "stdout",
     "output_type": "stream",
     "text": [
      "                                                                                        \r"
     ]
    },
    {
     "data": {
      "text/html": [
       "Feature Engineering started ..."
      ],
      "text/plain": [
       "<IPython.core.display.HTML object>"
      ]
     },
     "metadata": {},
     "output_type": "display_data"
    },
    {
     "name": "stdout",
     "output_type": "stream",
     "text": [
      "                                                                                        \r"
     ]
    },
    {
     "data": {
      "text/html": [
       "\n",
       "Handling duplicate records present in dataset ..."
      ],
      "text/plain": [
       "<IPython.core.display.HTML object>"
      ]
     },
     "metadata": {},
     "output_type": "display_data"
    },
    {
     "name": "stdout",
     "output_type": "stream",
     "text": [
      "Analysis completed. No action taken.                                                    \n",
      "                                                                                        \r"
     ]
    },
    {
     "data": {
      "text/html": [
       "Total time to handle duplicate records: 1.62 sec  "
      ],
      "text/plain": [
       "<IPython.core.display.HTML object>"
      ]
     },
     "metadata": {},
     "output_type": "display_data"
    },
    {
     "name": "stdout",
     "output_type": "stream",
     "text": [
      "                                                                                        \r"
     ]
    },
    {
     "data": {
      "text/html": [
       "\n",
       "Starting customized anti-select columns ..."
      ],
      "text/plain": [
       "<IPython.core.display.HTML object>"
      ]
     },
     "metadata": {},
     "output_type": "display_data"
    },
    {
     "name": "stdout",
     "output_type": "stream",
     "text": [
      "Skipping customized anti-select columns.                                                \n",
      "                                                                                         \r"
     ]
    },
    {
     "data": {
      "text/html": [
       "\n",
       "Handling less significant features from data ..."
      ],
      "text/plain": [
       "<IPython.core.display.HTML object>"
      ]
     },
     "metadata": {},
     "output_type": "display_data"
    },
    {
     "name": "stdout",
     "output_type": "stream",
     "text": [
      "Analysis indicates all categorical columns are significant. No action Needed.            \n",
      "                                                                                         \r"
     ]
    },
    {
     "data": {
      "text/html": [
       "Total time to handle less significant features: 16.89 sec  "
      ],
      "text/plain": [
       "<IPython.core.display.HTML object>"
      ]
     },
     "metadata": {},
     "output_type": "display_data"
    },
    {
     "name": "stdout",
     "output_type": "stream",
     "text": [
      "                                                                                         \r"
     ]
    },
    {
     "data": {
      "text/html": [
       "\n",
       "Handling Date Features ..."
      ],
      "text/plain": [
       "<IPython.core.display.HTML object>"
      ]
     },
     "metadata": {},
     "output_type": "display_data"
    },
    {
     "name": "stdout",
     "output_type": "stream",
     "text": [
      "Analysis Completed. Dataset does not contain any feature related to dates. No action needed.\n",
      "                                                                                         \r"
     ]
    },
    {
     "data": {
      "text/html": [
       "Total time to handle date features: 0.00 sec\n"
      ],
      "text/plain": [
       "<IPython.core.display.HTML object>"
      ]
     },
     "metadata": {},
     "output_type": "display_data"
    },
    {
     "name": "stdout",
     "output_type": "stream",
     "text": [
      "Proceeding with default option for missing value imputation.                             \n",
      "Proceeding with default option for handling remaining missing values.                    \n",
      "                                                                                         \r"
     ]
    },
    {
     "data": {
      "text/html": [
       "\n",
       "Checking Missing values in dataset ..."
      ],
      "text/plain": [
       "<IPython.core.display.HTML object>"
      ]
     },
     "metadata": {},
     "output_type": "display_data"
    },
    {
     "name": "stdout",
     "output_type": "stream",
     "text": [
      "Analysis Completed. No Missing Values Detected.                                          \n",
      "                                                                                         \r"
     ]
    },
    {
     "data": {
      "text/html": [
       "Total time to find missing values in data: 8.24 sec  "
      ],
      "text/plain": [
       "<IPython.core.display.HTML object>"
      ]
     },
     "metadata": {},
     "output_type": "display_data"
    },
    {
     "name": "stdout",
     "output_type": "stream",
     "text": [
      "                                                                                         \r"
     ]
    },
    {
     "data": {
      "text/html": [
       "\n",
       "Imputing Missing Values ..."
      ],
      "text/plain": [
       "<IPython.core.display.HTML object>"
      ]
     },
     "metadata": {},
     "output_type": "display_data"
    },
    {
     "name": "stdout",
     "output_type": "stream",
     "text": [
      "Analysis completed. No imputation required.                                              \n",
      "                                                                                         \r"
     ]
    },
    {
     "data": {
      "text/html": [
       "Time taken to perform imputation: 0.00 sec  "
      ],
      "text/plain": [
       "<IPython.core.display.HTML object>"
      ]
     },
     "metadata": {},
     "output_type": "display_data"
    },
    {
     "name": "stdout",
     "output_type": "stream",
     "text": [
      "No information provided for Variable-Width Transformation.                               \n",
      "Skipping customized string manipulation.                                                 \n",
      "                                                                                         \r"
     ]
    },
    {
     "data": {
      "text/html": [
       "\n",
       "Starting Customized Categorical Feature Encoding ..."
      ],
      "text/plain": [
       "<IPython.core.display.HTML object>"
      ]
     },
     "metadata": {},
     "output_type": "display_data"
    },
    {
     "name": "stdout",
     "output_type": "stream",
     "text": [
      "AutoML will proceed with default encoding technique.                                     \n",
      "                                                                                         \r"
     ]
    },
    {
     "data": {
      "text/html": [
       "\n",
       "Performing encoding for categorical columns ..."
      ],
      "text/plain": [
       "<IPython.core.display.HTML object>"
      ]
     },
     "metadata": {},
     "output_type": "display_data"
    },
    {
     "name": "stdout",
     "output_type": "stream",
     "text": [
      "                                                                                         \r"
     ]
    },
    {
     "data": {
      "text/html": [
       "ONE HOT Encoding these Columns:"
      ],
      "text/plain": [
       "<IPython.core.display.HTML object>"
      ]
     },
     "metadata": {},
     "output_type": "display_data"
    },
    {
     "name": "stdout",
     "output_type": "stream",
     "text": [
      "['Species']\n",
      "                                                                                         \r"
     ]
    },
    {
     "data": {
      "text/html": [
       "Sample of dataset after performing one hot encoding:"
      ],
      "text/plain": [
       "<IPython.core.display.HTML object>"
      ]
     },
     "metadata": {},
     "output_type": "display_data"
    },
    {
     "data": {
      "text/html": [
       "<style type=\"text/css\">\n",
       "\ttable {border:ridge 5px;}\n",
       "\ttable td {border:inset 1px;}\n",
       "\ttable tr#HeaderRow {background-color:grey; color:white;}</style>\n",
       "<html><table>\n",
       "\t<tr id=\"HeaderRow\">\n",
       "\t\t<th>Species_0</th>\n",
       "\t\t<th>Species_1</th>\n",
       "\t\t<th>Species_2</th>\n",
       "\t\t<th>Species_3</th>\n",
       "\t\t<th>Species_4</th>\n",
       "\t\t<th>Species_5</th>\n",
       "\t\t<th>Species_6</th>\n",
       "\t\t<th>Weight</th>\n",
       "\t\t<th>Length1</th>\n",
       "\t\t<th>Length2</th>\n",
       "\t\t<th>Length3</th>\n",
       "\t\t<th>Height</th>\n",
       "\t\t<th>Width</th>\n",
       "\t\t<th>id</th>\n",
       "\t</tr>\n",
       "\t<tr>\n",
       "\t\t<td>0</td>\n",
       "\t\t<td>1</td>\n",
       "\t\t<td>0</td>\n",
       "\t\t<td>0</td>\n",
       "\t\t<td>0</td>\n",
       "\t\t<td>0</td>\n",
       "\t\t<td>0</td>\n",
       "\t\t<td>55</td>\n",
       "\t\t<td>13.5</td>\n",
       "\t\t<td>14.7</td>\n",
       "\t\t<td>16.5</td>\n",
       "\t\t<td>6.8475</td>\n",
       "\t\t<td>2.3265</td>\n",
       "\t\t<td>48</td>\n",
       "\t</tr>\n",
       "\t<tr>\n",
       "\t\t<td>0</td>\n",
       "\t\t<td>1</td>\n",
       "\t\t<td>0</td>\n",
       "\t\t<td>0</td>\n",
       "\t\t<td>0</td>\n",
       "\t\t<td>0</td>\n",
       "\t\t<td>0</td>\n",
       "\t\t<td>145</td>\n",
       "\t\t<td>19.8</td>\n",
       "\t\t<td>21.5</td>\n",
       "\t\t<td>24.1</td>\n",
       "\t\t<td>9.7364</td>\n",
       "\t\t<td>3.1571</td>\n",
       "\t\t<td>72</td>\n",
       "\t</tr>\n",
       "\t<tr>\n",
       "\t\t<td>0</td>\n",
       "\t\t<td>1</td>\n",
       "\t\t<td>0</td>\n",
       "\t\t<td>0</td>\n",
       "\t\t<td>0</td>\n",
       "\t\t<td>0</td>\n",
       "\t\t<td>0</td>\n",
       "\t\t<td>60</td>\n",
       "\t\t<td>14.3</td>\n",
       "\t\t<td>15.5</td>\n",
       "\t\t<td>17.4</td>\n",
       "\t\t<td>6.5772</td>\n",
       "\t\t<td>2.3142</td>\n",
       "\t\t<td>80</td>\n",
       "\t</tr>\n",
       "\t<tr>\n",
       "\t\t<td>0</td>\n",
       "\t\t<td>0</td>\n",
       "\t\t<td>1</td>\n",
       "\t\t<td>0</td>\n",
       "\t\t<td>0</td>\n",
       "\t\t<td>0</td>\n",
       "\t\t<td>0</td>\n",
       "\t\t<td>40</td>\n",
       "\t\t<td>13.8</td>\n",
       "\t\t<td>15.0</td>\n",
       "\t\t<td>16.0</td>\n",
       "\t\t<td>3.824</td>\n",
       "\t\t<td>2.432</td>\n",
       "\t\t<td>88</td>\n",
       "\t</tr>\n",
       "\t<tr>\n",
       "\t\t<td>0</td>\n",
       "\t\t<td>0</td>\n",
       "\t\t<td>1</td>\n",
       "\t\t<td>0</td>\n",
       "\t\t<td>0</td>\n",
       "\t\t<td>0</td>\n",
       "\t\t<td>0</td>\n",
       "\t\t<td>900</td>\n",
       "\t\t<td>36.5</td>\n",
       "\t\t<td>39.0</td>\n",
       "\t\t<td>41.4</td>\n",
       "\t\t<td>11.1366</td>\n",
       "\t\t<td>7.4934</td>\n",
       "\t\t<td>104</td>\n",
       "\t</tr>\n",
       "\t<tr>\n",
       "\t\t<td>0</td>\n",
       "\t\t<td>0</td>\n",
       "\t\t<td>1</td>\n",
       "\t\t<td>0</td>\n",
       "\t\t<td>0</td>\n",
       "\t\t<td>0</td>\n",
       "\t\t<td>0</td>\n",
       "\t\t<td>260</td>\n",
       "\t\t<td>25.4</td>\n",
       "\t\t<td>27.5</td>\n",
       "\t\t<td>28.9</td>\n",
       "\t\t<td>7.1672</td>\n",
       "\t\t<td>4.335</td>\n",
       "\t\t<td>112</td>\n",
       "\t</tr>\n",
       "\t<tr>\n",
       "\t\t<td>1</td>\n",
       "\t\t<td>0</td>\n",
       "\t\t<td>0</td>\n",
       "\t\t<td>0</td>\n",
       "\t\t<td>0</td>\n",
       "\t\t<td>0</td>\n",
       "\t\t<td>0</td>\n",
       "\t\t<td>955</td>\n",
       "\t\t<td>35.0</td>\n",
       "\t\t<td>38.5</td>\n",
       "\t\t<td>44.0</td>\n",
       "\t\t<td>18.084</td>\n",
       "\t\t<td>6.292</td>\n",
       "\t\t<td>26</td>\n",
       "\t</tr>\n",
       "\t<tr>\n",
       "\t\t<td>1</td>\n",
       "\t\t<td>0</td>\n",
       "\t\t<td>0</td>\n",
       "\t\t<td>0</td>\n",
       "\t\t<td>0</td>\n",
       "\t\t<td>0</td>\n",
       "\t\t<td>0</td>\n",
       "\t\t<td>925</td>\n",
       "\t\t<td>36.2</td>\n",
       "\t\t<td>39.5</td>\n",
       "\t\t<td>45.3</td>\n",
       "\t\t<td>18.7542</td>\n",
       "\t\t<td>6.7497</td>\n",
       "\t\t<td>42</td>\n",
       "\t</tr>\n",
       "\t<tr>\n",
       "\t\t<td>1</td>\n",
       "\t\t<td>0</td>\n",
       "\t\t<td>0</td>\n",
       "\t\t<td>0</td>\n",
       "\t\t<td>0</td>\n",
       "\t\t<td>0</td>\n",
       "\t\t<td>0</td>\n",
       "\t\t<td>620</td>\n",
       "\t\t<td>31.5</td>\n",
       "\t\t<td>34.5</td>\n",
       "\t\t<td>39.7</td>\n",
       "\t\t<td>15.5227</td>\n",
       "\t\t<td>5.2801</td>\n",
       "\t\t<td>50</td>\n",
       "\t</tr>\n",
       "\t<tr>\n",
       "\t\t<td>1</td>\n",
       "\t\t<td>0</td>\n",
       "\t\t<td>0</td>\n",
       "\t\t<td>0</td>\n",
       "\t\t<td>0</td>\n",
       "\t\t<td>0</td>\n",
       "\t\t<td>0</td>\n",
       "\t\t<td>700</td>\n",
       "\t\t<td>31.9</td>\n",
       "\t\t<td>35.0</td>\n",
       "\t\t<td>40.5</td>\n",
       "\t\t<td>16.2405</td>\n",
       "\t\t<td>5.589</td>\n",
       "\t\t<td>58</td>\n",
       "\t</tr>\n",
       "</table></html>"
      ],
      "text/plain": [
       "           Species_1  Species_2  Species_3  Species_4  Species_5  Species_6  Weight  Length1  Length2  Length3   Height   Width   id\n",
       "Species_0                                                                                                                           \n",
       "0                  1          0          0          0          0          0      55     13.5     14.7     16.5   6.8475  2.3265   48\n",
       "0                  1          0          0          0          0          0     145     19.8     21.5     24.1   9.7364  3.1571   72\n",
       "0                  1          0          0          0          0          0      60     14.3     15.5     17.4   6.5772  2.3142   80\n",
       "0                  0          1          0          0          0          0      40     13.8     15.0     16.0   3.8240  2.4320   88\n",
       "0                  0          1          0          0          0          0     900     36.5     39.0     41.4  11.1366  7.4934  104\n",
       "0                  0          1          0          0          0          0     260     25.4     27.5     28.9   7.1672  4.3350  112\n",
       "1                  0          0          0          0          0          0     955     35.0     38.5     44.0  18.0840  6.2920   26\n",
       "1                  0          0          0          0          0          0     925     36.2     39.5     45.3  18.7542  6.7497   42\n",
       "1                  0          0          0          0          0          0     620     31.5     34.5     39.7  15.5227  5.2801   50\n",
       "1                  0          0          0          0          0          0     700     31.9     35.0     40.5  16.2405  5.5890   58"
      ]
     },
     "metadata": {},
     "output_type": "display_data"
    },
    {
     "name": "stdout",
     "output_type": "stream",
     "text": [
      "                                                                                         \r"
     ]
    },
    {
     "data": {
      "text/html": [
       "127 rows X 14 columns"
      ],
      "text/plain": [
       "<IPython.core.display.HTML object>"
      ]
     },
     "metadata": {},
     "output_type": "display_data"
    },
    {
     "name": "stdout",
     "output_type": "stream",
     "text": [
      "                                                                                         \r"
     ]
    },
    {
     "data": {
      "text/html": [
       "Time taken to encode the columns: 15.51 sec"
      ],
      "text/plain": [
       "<IPython.core.display.HTML object>"
      ]
     },
     "metadata": {},
     "output_type": "display_data"
    },
    {
     "name": "stdout",
     "output_type": "stream",
     "text": [
      "                                                                                         \r"
     ]
    },
    {
     "data": {
      "text/html": [
       "\n",
       "Starting customized mathematical transformation ..."
      ],
      "text/plain": [
       "<IPython.core.display.HTML object>"
      ]
     },
     "metadata": {},
     "output_type": "display_data"
    },
    {
     "name": "stdout",
     "output_type": "stream",
     "text": [
      "Skipping customized mathematical transformation.                                         \n",
      "                                                                                         \r"
     ]
    },
    {
     "data": {
      "text/html": [
       "\n",
       "Starting customized non-linear transformation ..."
      ],
      "text/plain": [
       "<IPython.core.display.HTML object>"
      ]
     },
     "metadata": {},
     "output_type": "display_data"
    },
    {
     "name": "stdout",
     "output_type": "stream",
     "text": [
      "Skipping customized non-linear transformation.                                           \n",
      "                                                                                          \r"
     ]
    },
    {
     "data": {
      "text/html": [
       "\n",
       "            <style>\n",
       "                .custom-div {\n",
       "                    background-color: lightgray;\n",
       "                    color: #000000;\n",
       "                    padding: 10px;\n",
       "                    border-radius: 8px;\n",
       "                    box-shadow: 0 3px 4px rgba(0 -  0 -  0 -  0.2);\n",
       "                    margin-bottom: 10px;\n",
       "                    text-align: center;\n",
       "                }\n",
       "            </style>\n",
       "        <br><div class=\"custom-div\"><h3><span style=\"color: green;\">1. Feature Exploration -> 2. Feature Engineering -></span> 3. Data Preparation -> 4. Model Training & Evaluation<center></h3></center></div>"
      ],
      "text/plain": [
       "<IPython.core.display.HTML object>"
      ]
     },
     "metadata": {},
     "output_type": "display_data"
    },
    {
     "name": "stdout",
     "output_type": "stream",
     "text": [
      "                                                                                          \r"
     ]
    },
    {
     "data": {
      "text/html": [
       "Data preparation started ..."
      ],
      "text/plain": [
       "<IPython.core.display.HTML object>"
      ]
     },
     "metadata": {},
     "output_type": "display_data"
    },
    {
     "name": "stdout",
     "output_type": "stream",
     "text": [
      "                                                                                          \r"
     ]
    },
    {
     "data": {
      "text/html": [
       "\n",
       "Starting customized outlier processing ..."
      ],
      "text/plain": [
       "<IPython.core.display.HTML object>"
      ]
     },
     "metadata": {},
     "output_type": "display_data"
    },
    {
     "name": "stdout",
     "output_type": "stream",
     "text": [
      "Columns with outlier percentage :-                                                                                                                                                                                                                                                                                                                                                                                                                                                                                  \n",
      "  ColumnName  OutlierPercentage\n",
      "0    Length2           9.448819\n",
      "1    Length3           9.448819\n",
      "2         id           9.448819\n",
      "3     Weight           8.661417\n",
      "4      Width           9.448819\n",
      "5    Length1           9.448819\n",
      "6     Height           8.661417\n",
      "                                                                                          \r"
     ]
    },
    {
     "data": {
      "text/html": [
       "\n",
       "Feature selection using lasso ..."
      ],
      "text/plain": [
       "<IPython.core.display.HTML object>"
      ]
     },
     "metadata": {},
     "output_type": "display_data"
    },
    {
     "name": "stdout",
     "output_type": "stream",
     "text": [
      "                                                                                          \r"
     ]
    },
    {
     "data": {
      "text/html": [
       "feature selected by lasso:"
      ],
      "text/plain": [
       "<IPython.core.display.HTML object>"
      ]
     },
     "metadata": {},
     "output_type": "display_data"
    },
    {
     "name": "stdout",
     "output_type": "stream",
     "text": [
      "['Species_1', 'Species_6', 'Species_3', 'Species_2', 'Species_5', 'Species_0', 'Length1', 'Length2', 'Length3', 'Height', 'Width']\n",
      "                                                                                          \r"
     ]
    },
    {
     "data": {
      "text/html": [
       "Total time taken by feature selection: 1.08 sec  "
      ],
      "text/plain": [
       "<IPython.core.display.HTML object>"
      ]
     },
     "metadata": {},
     "output_type": "display_data"
    },
    {
     "name": "stdout",
     "output_type": "stream",
     "text": [
      "                                                                                          \r"
     ]
    },
    {
     "data": {
      "text/html": [
       "\n",
       "scaling Features of lasso data ..."
      ],
      "text/plain": [
       "<IPython.core.display.HTML object>"
      ]
     },
     "metadata": {},
     "output_type": "display_data"
    },
    {
     "name": "stdout",
     "output_type": "stream",
     "text": [
      "                                                                                          \r"
     ]
    },
    {
     "data": {
      "text/html": [
       "columns that will be scaled: "
      ],
      "text/plain": [
       "<IPython.core.display.HTML object>"
      ]
     },
     "metadata": {},
     "output_type": "display_data"
    },
    {
     "name": "stdout",
     "output_type": "stream",
     "text": [
      "['Length1', 'Length2', 'Length3', 'Height', 'Width']\n",
      "                                                                                          \r"
     ]
    },
    {
     "data": {
      "text/html": [
       "Dataset sample after scaling:"
      ],
      "text/plain": [
       "<IPython.core.display.HTML object>"
      ]
     },
     "metadata": {},
     "output_type": "display_data"
    },
    {
     "data": {
      "text/html": [
       "<style type=\"text/css\">\n",
       "\ttable {border:ridge 5px;}\n",
       "\ttable td {border:inset 1px;}\n",
       "\ttable tr#HeaderRow {background-color:grey; color:white;}</style>\n",
       "<html><table>\n",
       "\t<tr id=\"HeaderRow\">\n",
       "\t\t<th>Weight</th>\n",
       "\t\t<th>id</th>\n",
       "\t\t<th>Species_1</th>\n",
       "\t\t<th>Species_6</th>\n",
       "\t\t<th>Species_3</th>\n",
       "\t\t<th>Species_2</th>\n",
       "\t\t<th>Species_5</th>\n",
       "\t\t<th>Species_0</th>\n",
       "\t\t<th>Length1</th>\n",
       "\t\t<th>Length2</th>\n",
       "\t\t<th>Length3</th>\n",
       "\t\t<th>Height</th>\n",
       "\t\t<th>Width</th>\n",
       "\t</tr>\n",
       "\t<tr>\n",
       "\t\t<td>145</td>\n",
       "\t\t<td>12</td>\n",
       "\t\t<td>0</td>\n",
       "\t\t<td>0</td>\n",
       "\t\t<td>0</td>\n",
       "\t\t<td>0</td>\n",
       "\t\t<td>0</td>\n",
       "\t\t<td>0</td>\n",
       "\t\t<td>-0.5979725609606392</td>\n",
       "\t\t<td>-0.7538338473937253</td>\n",
       "\t\t<td>-0.6207961721031394</td>\n",
       "\t\t<td>-0.5771105241201765</td>\n",
       "\t\t<td>-0.5401085657189114</td>\n",
       "\t</tr>\n",
       "\t<tr>\n",
       "\t\t<td>8</td>\n",
       "\t\t<td>15</td>\n",
       "\t\t<td>0</td>\n",
       "\t\t<td>0</td>\n",
       "\t\t<td>0</td>\n",
       "\t\t<td>0</td>\n",
       "\t\t<td>1</td>\n",
       "\t\t<td>0</td>\n",
       "\t\t<td>-1.563174864219827</td>\n",
       "\t\t<td>-0.08238148523545209</td>\n",
       "\t\t<td>-1.6253056266692452</td>\n",
       "\t\t<td>-1.6589858136754314</td>\n",
       "\t\t<td>-1.8665706144581142</td>\n",
       "\t</tr>\n",
       "\t<tr>\n",
       "\t\t<td>170</td>\n",
       "\t\t<td>16</td>\n",
       "\t\t<td>1</td>\n",
       "\t\t<td>0</td>\n",
       "\t\t<td>0</td>\n",
       "\t\t<td>0</td>\n",
       "\t\t<td>0</td>\n",
       "\t\t<td>0</td>\n",
       "\t\t<td>-0.7472306490935033</td>\n",
       "\t\t<td>-0.9125407693584081</td>\n",
       "\t\t<td>-0.7152372319341409</td>\n",
       "\t\t<td>0.0647366175084876</td>\n",
       "\t\t<td>-0.6206600929427982</td>\n",
       "\t</tr>\n",
       "\t<tr>\n",
       "\t\t<td>575</td>\n",
       "\t\t<td>18</td>\n",
       "\t\t<td>0</td>\n",
       "\t\t<td>0</td>\n",
       "\t\t<td>0</td>\n",
       "\t\t<td>0</td>\n",
       "\t\t<td>0</td>\n",
       "\t\t<td>1</td>\n",
       "\t\t<td>0.4766856735959825</td>\n",
       "\t\t<td>0.7111531245879616</td>\n",
       "\t\t<td>0.6842075637434255</td>\n",
       "\t\t<td>1.396834926543756</td>\n",
       "\t\t<td>0.645124495332996</td>\n",
       "\t</tr>\n",
       "\t<tr>\n",
       "\t\t<td>345</td>\n",
       "\t\t<td>21</td>\n",
       "\t\t<td>0</td>\n",
       "\t\t<td>0</td>\n",
       "\t\t<td>1</td>\n",
       "\t\t<td>0</td>\n",
       "\t\t<td>0</td>\n",
       "\t\t<td>0</td>\n",
       "\t\t<td>0.94436101641229</td>\n",
       "\t\t<td>1.2605232390810943</td>\n",
       "\t\t<td>0.8129908271493366</td>\n",
       "\t\t<td>-0.6323928944157701</td>\n",
       "\t\t<td>-0.28848763788417897</td>\n",
       "\t</tr>\n",
       "\t<tr>\n",
       "\t\t<td>12</td>\n",
       "\t\t<td>23</td>\n",
       "\t\t<td>0</td>\n",
       "\t\t<td>0</td>\n",
       "\t\t<td>0</td>\n",
       "\t\t<td>0</td>\n",
       "\t\t<td>1</td>\n",
       "\t\t<td>0</td>\n",
       "\t\t<td>-1.4338178545046782</td>\n",
       "\t\t<td>-1.8525740763799905</td>\n",
       "\t\t<td>-1.5222790159445165</td>\n",
       "\t\t<td>-1.5895517142877755</td>\n",
       "\t\t<td>-1.883806530763662</td>\n",
       "\t</tr>\n",
       "\t<tr>\n",
       "\t\t<td>290</td>\n",
       "\t\t<td>20</td>\n",
       "\t\t<td>0</td>\n",
       "\t\t<td>0</td>\n",
       "\t\t<td>0</td>\n",
       "\t\t<td>0</td>\n",
       "\t\t<td>0</td>\n",
       "\t\t<td>0</td>\n",
       "\t\t<td>-0.24970368865062295</td>\n",
       "\t\t<td>-0.265504856733163</td>\n",
       "\t\t<td>-0.20010417831049684</td>\n",
       "\t\t<td>-0.055913263355204225</td>\n",
       "\t\t<td>0.01624805244316045</td>\n",
       "\t</tr>\n",
       "\t<tr>\n",
       "\t\t<td>500</td>\n",
       "\t\t<td>13</td>\n",
       "\t\t<td>0</td>\n",
       "\t\t<td>0</td>\n",
       "\t\t<td>1</td>\n",
       "\t\t<td>0</td>\n",
       "\t\t<td>0</td>\n",
       "\t\t<td>0</td>\n",
       "\t\t<td>1.5413933689437465</td>\n",
       "\t\t<td>2.0540578489045083</td>\n",
       "\t\t<td>1.4139793897102546</td>\n",
       "\t\t<td>-0.5013325461740096</td>\n",
       "\t\t<td>0.25028131057835407</td>\n",
       "\t</tr>\n",
       "\t<tr>\n",
       "\t\t<td>720</td>\n",
       "\t\t<td>10</td>\n",
       "\t\t<td>0</td>\n",
       "\t\t<td>0</td>\n",
       "\t\t<td>0</td>\n",
       "\t\t<td>0</td>\n",
       "\t\t<td>0</td>\n",
       "\t\t<td>1</td>\n",
       "\t\t<td>0.5463394480579857</td>\n",
       "\t\t<td>0.8332353722531023</td>\n",
       "\t\t<td>0.778648623574427</td>\n",
       "\t\t<td>1.683424868895818</td>\n",
       "\t\t<td>0.9502705646199912</td>\n",
       "\t</tr>\n",
       "\t<tr>\n",
       "\t\t<td>273</td>\n",
       "\t\t<td>8</td>\n",
       "\t\t<td>1</td>\n",
       "\t\t<td>0</td>\n",
       "\t\t<td>0</td>\n",
       "\t\t<td>0</td>\n",
       "\t\t<td>0</td>\n",
       "\t\t<td>0</td>\n",
       "\t\t<td>-0.34920908073919904</td>\n",
       "\t\t<td>-0.3875871043983036</td>\n",
       "\t\t<td>-0.3031307890352256</td>\n",
       "\t\t<td>0.4579176622337684</td>\n",
       "\t\t<td>-0.19058294322341385</td>\n",
       "\t</tr>\n",
       "</table></html>"
      ],
      "text/plain": [
       "   Weight  id  Species_1  Species_6  Species_3  Species_2  Species_5  Species_0   Length1   Length2   Length3    Height     Width\n",
       "0     145  12          0          0          0          0          0          0 -0.597973 -0.753834 -0.620796 -0.577111 -0.540109\n",
       "1       8  15          0          0          0          0          1          0 -1.563175 -0.082381 -1.625306 -1.658986 -1.866571\n",
       "2     170  16          1          0          0          0          0          0 -0.747231 -0.912541 -0.715237  0.064737 -0.620660\n",
       "3     575  18          0          0          0          0          0          1  0.476686  0.711153  0.684208  1.396835  0.645124\n",
       "4     345  21          0          0          1          0          0          0  0.944361  1.260523  0.812991 -0.632393 -0.288488\n",
       "5      12  23          0          0          0          0          1          0 -1.433818 -1.852574 -1.522279 -1.589552 -1.883807\n",
       "6     290  20          0          0          0          0          0          0 -0.249704 -0.265505 -0.200104 -0.055913  0.016248\n",
       "7     500  13          0          0          1          0          0          0  1.541393  2.054058  1.413979 -0.501333  0.250281\n",
       "8     720  10          0          0          0          0          0          1  0.546339  0.833235  0.778649  1.683425  0.950271\n",
       "9     273   8          1          0          0          0          0          0 -0.349209 -0.387587 -0.303131  0.457918 -0.190583"
      ]
     },
     "metadata": {},
     "output_type": "display_data"
    },
    {
     "name": "stdout",
     "output_type": "stream",
     "text": [
      "                                                                                          \r"
     ]
    },
    {
     "data": {
      "text/html": [
       "127 rows X 13 columns"
      ],
      "text/plain": [
       "<IPython.core.display.HTML object>"
      ]
     },
     "metadata": {},
     "output_type": "display_data"
    },
    {
     "name": "stdout",
     "output_type": "stream",
     "text": [
      "                                                                                          \r"
     ]
    },
    {
     "data": {
      "text/html": [
       "Total time taken by feature scaling: 35.61 sec"
      ],
      "text/plain": [
       "<IPython.core.display.HTML object>"
      ]
     },
     "metadata": {},
     "output_type": "display_data"
    },
    {
     "name": "stdout",
     "output_type": "stream",
     "text": [
      "                                                                                          \r"
     ]
    },
    {
     "data": {
      "text/html": [
       "\n",
       "Feature selection using rfe ..."
      ],
      "text/plain": [
       "<IPython.core.display.HTML object>"
      ]
     },
     "metadata": {},
     "output_type": "display_data"
    },
    {
     "name": "stdout",
     "output_type": "stream",
     "text": [
      "                                                                                          \r"
     ]
    },
    {
     "data": {
      "text/html": [
       "feature selected by RFE:"
      ],
      "text/plain": [
       "<IPython.core.display.HTML object>"
      ]
     },
     "metadata": {},
     "output_type": "display_data"
    },
    {
     "name": "stdout",
     "output_type": "stream",
     "text": [
      "['Length1', 'Length2', 'Length3', 'Height', 'Width']\n",
      "                                                                                          \r"
     ]
    },
    {
     "data": {
      "text/html": [
       "Total time taken by feature selection: 18.26 sec  "
      ],
      "text/plain": [
       "<IPython.core.display.HTML object>"
      ]
     },
     "metadata": {},
     "output_type": "display_data"
    },
    {
     "name": "stdout",
     "output_type": "stream",
     "text": [
      "                                                                                          \r"
     ]
    },
    {
     "data": {
      "text/html": [
       "\n",
       "scaling Features of rfe data ..."
      ],
      "text/plain": [
       "<IPython.core.display.HTML object>"
      ]
     },
     "metadata": {},
     "output_type": "display_data"
    },
    {
     "name": "stdout",
     "output_type": "stream",
     "text": [
      "                                                                                          \r"
     ]
    },
    {
     "data": {
      "text/html": [
       "columns that will be scaled: "
      ],
      "text/plain": [
       "<IPython.core.display.HTML object>"
      ]
     },
     "metadata": {},
     "output_type": "display_data"
    },
    {
     "name": "stdout",
     "output_type": "stream",
     "text": [
      "['r_Length1', 'r_Length2', 'r_Length3', 'r_Height', 'r_Width']\n",
      "                                                                                          \r"
     ]
    },
    {
     "data": {
      "text/html": [
       "Dataset sample after scaling:"
      ],
      "text/plain": [
       "<IPython.core.display.HTML object>"
      ]
     },
     "metadata": {},
     "output_type": "display_data"
    },
    {
     "data": {
      "text/html": [
       "<style type=\"text/css\">\n",
       "\ttable {border:ridge 5px;}\n",
       "\ttable td {border:inset 1px;}\n",
       "\ttable tr#HeaderRow {background-color:grey; color:white;}</style>\n",
       "<html><table>\n",
       "\t<tr id=\"HeaderRow\">\n",
       "\t\t<th>id</th>\n",
       "\t\t<th>Weight</th>\n",
       "\t\t<th>r_Length1</th>\n",
       "\t\t<th>r_Length2</th>\n",
       "\t\t<th>r_Length3</th>\n",
       "\t\t<th>r_Height</th>\n",
       "\t\t<th>r_Width</th>\n",
       "\t</tr>\n",
       "\t<tr>\n",
       "\t\t<td>12</td>\n",
       "\t\t<td>145</td>\n",
       "\t\t<td>-0.5979725609606392</td>\n",
       "\t\t<td>-0.7538338473937253</td>\n",
       "\t\t<td>-0.6207961721031394</td>\n",
       "\t\t<td>-0.5771105241201765</td>\n",
       "\t\t<td>-0.5401085657189114</td>\n",
       "\t</tr>\n",
       "\t<tr>\n",
       "\t\t<td>15</td>\n",
       "\t\t<td>8</td>\n",
       "\t\t<td>-1.563174864219827</td>\n",
       "\t\t<td>-0.08238148523545209</td>\n",
       "\t\t<td>-1.6253056266692452</td>\n",
       "\t\t<td>-1.6589858136754314</td>\n",
       "\t\t<td>-1.8665706144581142</td>\n",
       "\t</tr>\n",
       "\t<tr>\n",
       "\t\t<td>16</td>\n",
       "\t\t<td>170</td>\n",
       "\t\t<td>-0.7472306490935033</td>\n",
       "\t\t<td>-0.9125407693584081</td>\n",
       "\t\t<td>-0.7152372319341409</td>\n",
       "\t\t<td>0.0647366175084876</td>\n",
       "\t\t<td>-0.6206600929427982</td>\n",
       "\t</tr>\n",
       "\t<tr>\n",
       "\t\t<td>18</td>\n",
       "\t\t<td>575</td>\n",
       "\t\t<td>0.4766856735959825</td>\n",
       "\t\t<td>0.7111531245879616</td>\n",
       "\t\t<td>0.6842075637434255</td>\n",
       "\t\t<td>1.396834926543756</td>\n",
       "\t\t<td>0.645124495332996</td>\n",
       "\t</tr>\n",
       "\t<tr>\n",
       "\t\t<td>21</td>\n",
       "\t\t<td>345</td>\n",
       "\t\t<td>0.94436101641229</td>\n",
       "\t\t<td>1.2605232390810943</td>\n",
       "\t\t<td>0.8129908271493366</td>\n",
       "\t\t<td>-0.6323928944157701</td>\n",
       "\t\t<td>-0.28848763788417897</td>\n",
       "\t</tr>\n",
       "\t<tr>\n",
       "\t\t<td>23</td>\n",
       "\t\t<td>12</td>\n",
       "\t\t<td>-1.4338178545046782</td>\n",
       "\t\t<td>-1.8525740763799905</td>\n",
       "\t\t<td>-1.5222790159445165</td>\n",
       "\t\t<td>-1.5895517142877755</td>\n",
       "\t\t<td>-1.883806530763662</td>\n",
       "\t</tr>\n",
       "\t<tr>\n",
       "\t\t<td>20</td>\n",
       "\t\t<td>290</td>\n",
       "\t\t<td>-0.24970368865062295</td>\n",
       "\t\t<td>-0.265504856733163</td>\n",
       "\t\t<td>-0.20010417831049684</td>\n",
       "\t\t<td>-0.055913263355204225</td>\n",
       "\t\t<td>0.01624805244316045</td>\n",
       "\t</tr>\n",
       "\t<tr>\n",
       "\t\t<td>13</td>\n",
       "\t\t<td>500</td>\n",
       "\t\t<td>1.5413933689437465</td>\n",
       "\t\t<td>2.0540578489045083</td>\n",
       "\t\t<td>1.4139793897102546</td>\n",
       "\t\t<td>-0.5013325461740096</td>\n",
       "\t\t<td>0.25028131057835407</td>\n",
       "\t</tr>\n",
       "\t<tr>\n",
       "\t\t<td>10</td>\n",
       "\t\t<td>720</td>\n",
       "\t\t<td>0.5463394480579857</td>\n",
       "\t\t<td>0.8332353722531023</td>\n",
       "\t\t<td>0.778648623574427</td>\n",
       "\t\t<td>1.683424868895818</td>\n",
       "\t\t<td>0.9502705646199912</td>\n",
       "\t</tr>\n",
       "\t<tr>\n",
       "\t\t<td>8</td>\n",
       "\t\t<td>273</td>\n",
       "\t\t<td>-0.34920908073919904</td>\n",
       "\t\t<td>-0.3875871043983036</td>\n",
       "\t\t<td>-0.3031307890352256</td>\n",
       "\t\t<td>0.4579176622337684</td>\n",
       "\t\t<td>-0.19058294322341385</td>\n",
       "\t</tr>\n",
       "</table></html>"
      ],
      "text/plain": [
       "   id  Weight  r_Length1  r_Length2  r_Length3  r_Height   r_Width\n",
       "0  12     145  -0.597973  -0.753834  -0.620796 -0.577111 -0.540109\n",
       "1  15       8  -1.563175  -0.082381  -1.625306 -1.658986 -1.866571\n",
       "2  16     170  -0.747231  -0.912541  -0.715237  0.064737 -0.620660\n",
       "3  18     575   0.476686   0.711153   0.684208  1.396835  0.645124\n",
       "4  21     345   0.944361   1.260523   0.812991 -0.632393 -0.288488\n",
       "5  23      12  -1.433818  -1.852574  -1.522279 -1.589552 -1.883807\n",
       "6  20     290  -0.249704  -0.265505  -0.200104 -0.055913  0.016248\n",
       "7  13     500   1.541393   2.054058   1.413979 -0.501333  0.250281\n",
       "8  10     720   0.546339   0.833235   0.778649  1.683425  0.950271\n",
       "9   8     273  -0.349209  -0.387587  -0.303131  0.457918 -0.190583"
      ]
     },
     "metadata": {},
     "output_type": "display_data"
    },
    {
     "name": "stdout",
     "output_type": "stream",
     "text": [
      "                                                                                          \r"
     ]
    },
    {
     "data": {
      "text/html": [
       "127 rows X 7 columns"
      ],
      "text/plain": [
       "<IPython.core.display.HTML object>"
      ]
     },
     "metadata": {},
     "output_type": "display_data"
    },
    {
     "name": "stdout",
     "output_type": "stream",
     "text": [
      "                                                                                          \r"
     ]
    },
    {
     "data": {
      "text/html": [
       "Total time taken by feature scaling: 29.62 sec"
      ],
      "text/plain": [
       "<IPython.core.display.HTML object>"
      ]
     },
     "metadata": {},
     "output_type": "display_data"
    },
    {
     "name": "stdout",
     "output_type": "stream",
     "text": [
      "                                                                                          \r"
     ]
    },
    {
     "data": {
      "text/html": [
       "\n",
       "scaling Features of pca data ..."
      ],
      "text/plain": [
       "<IPython.core.display.HTML object>"
      ]
     },
     "metadata": {},
     "output_type": "display_data"
    },
    {
     "name": "stdout",
     "output_type": "stream",
     "text": [
      "                                                                                          \r"
     ]
    },
    {
     "data": {
      "text/html": [
       "columns that will be scaled: "
      ],
      "text/plain": [
       "<IPython.core.display.HTML object>"
      ]
     },
     "metadata": {},
     "output_type": "display_data"
    },
    {
     "name": "stdout",
     "output_type": "stream",
     "text": [
      "['Length1', 'Length2', 'Length3', 'Height', 'Width']\n",
      "                                                                                          \r"
     ]
    },
    {
     "data": {
      "text/html": [
       "Dataset sample after scaling:"
      ],
      "text/plain": [
       "<IPython.core.display.HTML object>"
      ]
     },
     "metadata": {},
     "output_type": "display_data"
    },
    {
     "data": {
      "text/html": [
       "<style type=\"text/css\">\n",
       "\ttable {border:ridge 5px;}\n",
       "\ttable td {border:inset 1px;}\n",
       "\ttable tr#HeaderRow {background-color:grey; color:white;}</style>\n",
       "<html><table>\n",
       "\t<tr id=\"HeaderRow\">\n",
       "\t\t<th>Species_4</th>\n",
       "\t\t<th>Weight</th>\n",
       "\t\t<th>id</th>\n",
       "\t\t<th>Species_1</th>\n",
       "\t\t<th>Species_6</th>\n",
       "\t\t<th>Species_3</th>\n",
       "\t\t<th>Species_2</th>\n",
       "\t\t<th>Species_5</th>\n",
       "\t\t<th>Species_0</th>\n",
       "\t\t<th>Length1</th>\n",
       "\t\t<th>Length2</th>\n",
       "\t\t<th>Length3</th>\n",
       "\t\t<th>Height</th>\n",
       "\t\t<th>Width</th>\n",
       "\t</tr>\n",
       "\t<tr>\n",
       "\t\t<td>0</td>\n",
       "\t\t<td>60</td>\n",
       "\t\t<td>80</td>\n",
       "\t\t<td>1</td>\n",
       "\t\t<td>0</td>\n",
       "\t\t<td>0</td>\n",
       "\t\t<td>0</td>\n",
       "\t\t<td>0</td>\n",
       "\t\t<td>0</td>\n",
       "\t\t<td>-1.214905991909811</td>\n",
       "\t\t<td>-1.5473684572171407</td>\n",
       "\t\t<td>-1.2131991837703302</td>\n",
       "\t\t<td>-0.5902862718955444</td>\n",
       "\t\t<td>-1.2633135437639396</td>\n",
       "\t</tr>\n",
       "\t<tr>\n",
       "\t\t<td>0</td>\n",
       "\t\t<td>900</td>\n",
       "\t\t<td>104</td>\n",
       "\t\t<td>0</td>\n",
       "\t\t<td>0</td>\n",
       "\t\t<td>0</td>\n",
       "\t\t<td>1</td>\n",
       "\t\t<td>0</td>\n",
       "\t\t<td>0</td>\n",
       "\t\t<td>0.9941137124565775</td>\n",
       "\t\t<td>1.3215643629136635</td>\n",
       "\t\t<td>0.8473330307242455</td>\n",
       "\t\t<td>0.4692111603269419</td>\n",
       "\t\t<td>1.773021753164407</td>\n",
       "\t</tr>\n",
       "\t<tr>\n",
       "\t\t<td>0</td>\n",
       "\t\t<td>260</td>\n",
       "\t\t<td>112</td>\n",
       "\t\t<td>0</td>\n",
       "\t\t<td>0</td>\n",
       "\t\t<td>0</td>\n",
       "\t\t<td>1</td>\n",
       "\t\t<td>0</td>\n",
       "\t\t<td>0</td>\n",
       "\t\t<td>-0.11039613972661692</td>\n",
       "\t\t<td>-0.08238148523545342</td>\n",
       "\t\t<td>-0.22586083099167936</td>\n",
       "\t\t<td>-0.45318413455044043</td>\n",
       "\t\t<td>-0.07860811280301856</td>\n",
       "\t</tr>\n",
       "\t<tr>\n",
       "\t\t<td>0</td>\n",
       "\t\t<td>700</td>\n",
       "\t\t<td>120</td>\n",
       "\t\t<td>0</td>\n",
       "\t\t<td>0</td>\n",
       "\t\t<td>0</td>\n",
       "\t\t<td>1</td>\n",
       "\t\t<td>0</td>\n",
       "\t\t<td>0</td>\n",
       "\t\t<td>0.7453502322351374</td>\n",
       "\t\t<td>0.9553176199182418</td>\n",
       "\t\t<td>0.581180953018696</td>\n",
       "\t\t<td>0.34663255448026</td>\n",
       "\t\t<td>1.3318057459686483</td>\n",
       "\t</tr>\n",
       "\t<tr>\n",
       "\t\t<td>0</td>\n",
       "\t\t<td>85</td>\n",
       "\t\t<td>144</td>\n",
       "\t\t<td>0</td>\n",
       "\t\t<td>0</td>\n",
       "\t\t<td>0</td>\n",
       "\t\t<td>1</td>\n",
       "\t\t<td>0</td>\n",
       "\t\t<td>0</td>\n",
       "\t\t<td>-0.8268349627643645</td>\n",
       "\t\t<td>-0.997998342724008</td>\n",
       "\t\t<td>-0.9041193515961438</td>\n",
       "\t\t<td>-0.9377356206385944</td>\n",
       "\t\t<td>-0.9949257041489805</td>\n",
       "\t</tr>\n",
       "\t<tr>\n",
       "\t\t<td>0</td>\n",
       "\t\t<td>180</td>\n",
       "\t\t<td>152</td>\n",
       "\t\t<td>0</td>\n",
       "\t\t<td>0</td>\n",
       "\t\t<td>0</td>\n",
       "\t\t<td>1</td>\n",
       "\t\t<td>0</td>\n",
       "\t\t<td>0</td>\n",
       "\t\t<td>-0.3492090807391993</td>\n",
       "\t\t<td>-0.38758710439830496</td>\n",
       "\t\t<td>-0.4319140524411368</td>\n",
       "\t\t<td>-0.6222845164928679</td>\n",
       "\t\t<td>-0.46055367311133216</td>\n",
       "\t</tr>\n",
       "\t<tr>\n",
       "\t\t<td>0</td>\n",
       "\t\t<td>620</td>\n",
       "\t\t<td>50</td>\n",
       "\t\t<td>0</td>\n",
       "\t\t<td>0</td>\n",
       "\t\t<td>0</td>\n",
       "\t\t<td>0</td>\n",
       "\t\t<td>0</td>\n",
       "\t\t<td>1</td>\n",
       "\t\t<td>0.4965867520136972</td>\n",
       "\t\t<td>0.7721942484205309</td>\n",
       "\t\t<td>0.70137866553088</td>\n",
       "\t\t<td>1.4884377444106038</td>\n",
       "\t\t<td>0.475462108298113</td>\n",
       "\t</tr>\n",
       "\t<tr>\n",
       "\t\t<td>0</td>\n",
       "\t\t<td>430</td>\n",
       "\t\t<td>74</td>\n",
       "\t\t<td>0</td>\n",
       "\t\t<td>0</td>\n",
       "\t\t<td>0</td>\n",
       "\t\t<td>0</td>\n",
       "\t\t<td>0</td>\n",
       "\t\t<td>1</td>\n",
       "\t\t<td>-0.0009402084291831114</td>\n",
       "\t\t<td>0.1007418862622575</td>\n",
       "\t\t<td>0.2120022645884181</td>\n",
       "\t\t<td>0.7730202016235336</td>\n",
       "\t\t<td>0.3898101568613601</td>\n",
       "\t</tr>\n",
       "\t<tr>\n",
       "\t\t<td>0</td>\n",
       "\t\t<td>500</td>\n",
       "\t\t<td>82</td>\n",
       "\t\t<td>0</td>\n",
       "\t\t<td>0</td>\n",
       "\t\t<td>0</td>\n",
       "\t\t<td>0</td>\n",
       "\t\t<td>0</td>\n",
       "\t\t<td>1</td>\n",
       "\t\t<td>0.19807057574796902</td>\n",
       "\t\t<td>0.3082817072929965</td>\n",
       "\t\t<td>0.4008843842504211</td>\n",
       "\t\t<td>1.187254557608927</td>\n",
       "\t\t<td>0.2874499192100449</td>\n",
       "\t</tr>\n",
       "\t<tr>\n",
       "\t\t<td>0</td>\n",
       "\t\t<td>290</td>\n",
       "\t\t<td>90</td>\n",
       "\t\t<td>0</td>\n",
       "\t\t<td>0</td>\n",
       "\t\t<td>0</td>\n",
       "\t\t<td>0</td>\n",
       "\t\t<td>0</td>\n",
       "\t\t<td>1</td>\n",
       "\t\t<td>-0.24970368865062326</td>\n",
       "\t\t<td>-0.22888018243362207</td>\n",
       "\t\t<td>-0.02839316043594913</td>\n",
       "\t\t<td>0.7813857557666246</td>\n",
       "\t\t<td>-0.09584402910856633</td>\n",
       "\t</tr>\n",
       "</table></html>"
      ],
      "text/plain": [
       "   Species_4  Weight   id  Species_1  Species_6  Species_3  Species_2  Species_5  Species_0   Length1   Length2   Length3    Height     Width\n",
       "0          0      60   80          1          0          0          0          0          0 -1.214906 -1.547368 -1.213199 -0.590286 -1.263314\n",
       "1          0     900  104          0          0          0          1          0          0  0.994114  1.321564  0.847333  0.469211  1.773022\n",
       "2          0     260  112          0          0          0          1          0          0 -0.110396 -0.082381 -0.225861 -0.453184 -0.078608\n",
       "3          0     700  120          0          0          0          1          0          0  0.745350  0.955318  0.581181  0.346633  1.331806\n",
       "4          0      85  144          0          0          0          1          0          0 -0.826835 -0.997998 -0.904119 -0.937736 -0.994926\n",
       "5          0     180  152          0          0          0          1          0          0 -0.349209 -0.387587 -0.431914 -0.622285 -0.460554\n",
       "6          0     620   50          0          0          0          0          0          1  0.496587  0.772194  0.701379  1.488438  0.475462\n",
       "7          0     430   74          0          0          0          0          0          1 -0.000940  0.100742  0.212002  0.773020  0.389810\n",
       "8          0     500   82          0          0          0          0          0          1  0.198071  0.308282  0.400884  1.187255  0.287450\n",
       "9          0     290   90          0          0          0          0          0          1 -0.249704 -0.228880 -0.028393  0.781386 -0.095844"
      ]
     },
     "metadata": {},
     "output_type": "display_data"
    },
    {
     "name": "stdout",
     "output_type": "stream",
     "text": [
      "                                                                                          \r"
     ]
    },
    {
     "data": {
      "text/html": [
       "127 rows X 14 columns"
      ],
      "text/plain": [
       "<IPython.core.display.HTML object>"
      ]
     },
     "metadata": {},
     "output_type": "display_data"
    },
    {
     "name": "stdout",
     "output_type": "stream",
     "text": [
      "                                                                                          \r"
     ]
    },
    {
     "data": {
      "text/html": [
       "Total time taken by feature scaling: 38.45 sec"
      ],
      "text/plain": [
       "<IPython.core.display.HTML object>"
      ]
     },
     "metadata": {},
     "output_type": "display_data"
    },
    {
     "name": "stdout",
     "output_type": "stream",
     "text": [
      "                                                                                          \r"
     ]
    },
    {
     "data": {
      "text/html": [
       "\n",
       "Dimension Reduction using pca ..."
      ],
      "text/plain": [
       "<IPython.core.display.HTML object>"
      ]
     },
     "metadata": {},
     "output_type": "display_data"
    },
    {
     "name": "stdout",
     "output_type": "stream",
     "text": [
      "                                                                                          \r"
     ]
    },
    {
     "data": {
      "text/html": [
       "PCA columns:"
      ],
      "text/plain": [
       "<IPython.core.display.HTML object>"
      ]
     },
     "metadata": {},
     "output_type": "display_data"
    },
    {
     "name": "stdout",
     "output_type": "stream",
     "text": [
      "['col_0', 'col_1', 'col_2', 'col_3', 'col_4']\n",
      "                                                                                          \r"
     ]
    },
    {
     "data": {
      "text/html": [
       "Total time taken by PCA: 5.38 sec  "
      ],
      "text/plain": [
       "<IPython.core.display.HTML object>"
      ]
     },
     "metadata": {},
     "output_type": "display_data"
    },
    {
     "name": "stdout",
     "output_type": "stream",
     "text": [
      "                                                                                          \r"
     ]
    },
    {
     "data": {
      "text/html": [
       "\n",
       "            <style>\n",
       "                .custom-div {\n",
       "                    background-color: lightgray;\n",
       "                    color: #000000;\n",
       "                    padding: 10px;\n",
       "                    border-radius: 8px;\n",
       "                    box-shadow: 0 3px 4px rgba(0 -  0 -  0 -  0.2);\n",
       "                    margin-bottom: 10px;\n",
       "                    text-align: center;\n",
       "                }\n",
       "            </style>\n",
       "        <br><div class=\"custom-div\"><h3><span style=\"color: green;\">1. Feature Exploration -> 2. Feature Engineering -> 3. Data Preparation -></span> 4. Model Training & Evaluation<center></h3></center></div>"
      ],
      "text/plain": [
       "<IPython.core.display.HTML object>"
      ]
     },
     "metadata": {},
     "output_type": "display_data"
    },
    {
     "name": "stdout",
     "output_type": "stream",
     "text": [
      "                                                                                          \r"
     ]
    },
    {
     "data": {
      "text/html": [
       "Model Training started ..."
      ],
      "text/plain": [
       "<IPython.core.display.HTML object>"
      ]
     },
     "metadata": {},
     "output_type": "display_data"
    },
    {
     "name": "stdout",
     "output_type": "stream",
     "text": [
      "                                                                                          \r"
     ]
    },
    {
     "data": {
      "text/html": [
       "\n",
       "Starting customized hyperparameter update ..."
      ],
      "text/plain": [
       "<IPython.core.display.HTML object>"
      ]
     },
     "metadata": {},
     "output_type": "display_data"
    },
    {
     "name": "stdout",
     "output_type": "stream",
     "text": [
      "                                                                                          \n",
      "Completed customized hyperparameter update.\n",
      "                                                                                          \r"
     ]
    },
    {
     "data": {
      "text/html": [
       "\n",
       "Hyperparameters used for model training: "
      ],
      "text/plain": [
       "<IPython.core.display.HTML object>"
      ]
     },
     "metadata": {},
     "output_type": "display_data"
    },
    {
     "name": "stdout",
     "output_type": "stream",
     "text": [
      "response_column : Weight                                                                                                                              \n",
      "name : knn\n",
      "model_type : Regression\n",
      "k : (3, 5, 6, 8, 10, 12)\n",
      "id_column : id\n",
      "voting_weight : 1.0\n",
      "Total number of models for knn : 6\n",
      "--------------------------------------------------------------------------------------------------------------------------------------------------------------------------------------------------------\n",
      "\n",
      "response_column : Weight\n",
      "name : svm\n",
      "model_type : regression\n",
      "lambda1 : (0.001, 0.02, 0.1)\n",
      "alpha : (0.15, 0.85)\n",
      "tolerance : (0.001, 0.01)\n",
      "learning_rate : ('Invtime', 'Adaptive', 'constant')\n",
      "initial_eta : (0.05, 0.1)\n",
      "momentum : (0.65, 0.8, 0.95)\n",
      "nesterov : True\n",
      "intercept : True\n",
      "iter_num_no_change : (5, 10, 50)\n",
      "local_sgd_iterations  : (10, 20)\n",
      "iter_max : (300, 200, 400)\n",
      "batch_size : (10, 50, 60, 80)\n",
      "Total number of models for svm : 15552\n",
      "--------------------------------------------------------------------------------------------------------------------------------------------------------------------------------------------------------\n",
      "\n",
      "response_column : Weight\n",
      "name : decision_forest\n",
      "tree_type : Regression\n",
      "min_impurity : (0.0, 0.1, 0.2)\n",
      "max_depth : (5, 6, 8, 10)\n",
      "min_node_size : (1, 2, 3)\n",
      "num_trees : (-1, 20, 30)\n",
      "seed : 42\n",
      "Total number of models for decision_forest : 108\n",
      "--------------------------------------------------------------------------------------------------------------------------------------------------------------------------------------------------------\n",
      "\n",
      "                                                                                          \r"
     ]
    },
    {
     "data": {
      "text/html": [
       "\n",
       "Performing hyperparameter tuning ..."
      ],
      "text/plain": [
       "<IPython.core.display.HTML object>"
      ]
     },
     "metadata": {},
     "output_type": "display_data"
    },
    {
     "name": "stdout",
     "output_type": "stream",
     "text": [
      "                                                                                          \r"
     ]
    },
    {
     "data": {
      "text/html": [
       "knn"
      ],
      "text/plain": [
       "<IPython.core.display.HTML object>"
      ]
     },
     "metadata": {},
     "output_type": "display_data"
    },
    {
     "name": "stdout",
     "output_type": "stream",
     "text": [
      "                                                                                                                                                                                                        \r"
     ]
    },
    {
     "data": {
      "text/html": [
       "----------------------------------------------------------------------------------------------------"
      ],
      "text/plain": [
       "<IPython.core.display.HTML object>"
      ]
     },
     "metadata": {},
     "output_type": "display_data"
    },
    {
     "name": "stdout",
     "output_type": "stream",
     "text": [
      "                                                                                          \r"
     ]
    },
    {
     "data": {
      "text/html": [
       "svm"
      ],
      "text/plain": [
       "<IPython.core.display.HTML object>"
      ]
     },
     "metadata": {},
     "output_type": "display_data"
    },
    {
     "name": "stdout",
     "output_type": "stream",
     "text": [
      "                                                                                                                                                                                                        \r"
     ]
    },
    {
     "data": {
      "text/html": [
       "----------------------------------------------------------------------------------------------------"
      ],
      "text/plain": [
       "<IPython.core.display.HTML object>"
      ]
     },
     "metadata": {},
     "output_type": "display_data"
    },
    {
     "name": "stdout",
     "output_type": "stream",
     "text": [
      "                                                                                          \r"
     ]
    },
    {
     "data": {
      "text/html": [
       "decision_forest"
      ],
      "text/plain": [
       "<IPython.core.display.HTML object>"
      ]
     },
     "metadata": {},
     "output_type": "display_data"
    },
    {
     "name": "stdout",
     "output_type": "stream",
     "text": [
      "                                                                                                                                                                                                        \r"
     ]
    },
    {
     "data": {
      "text/html": [
       "----------------------------------------------------------------------------------------------------"
      ],
      "text/plain": [
       "<IPython.core.display.HTML object>"
      ]
     },
     "metadata": {},
     "output_type": "display_data"
    },
    {
     "name": "stdout",
     "output_type": "stream",
     "text": [
      "                                                                                          \r"
     ]
    },
    {
     "data": {
      "text/html": [
       "Leaderboard"
      ],
      "text/plain": [
       "<IPython.core.display.HTML object>"
      ]
     },
     "metadata": {},
     "output_type": "display_data"
    },
    {
     "data": {
      "text/html": [
       "<div>\n",
       "<style scoped>\n",
       "    .dataframe tbody tr th:only-of-type {\n",
       "        vertical-align: middle;\n",
       "    }\n",
       "\n",
       "    .dataframe tbody tr th {\n",
       "        vertical-align: top;\n",
       "    }\n",
       "\n",
       "    .dataframe thead th {\n",
       "        text-align: right;\n",
       "    }\n",
       "</style>\n",
       "<table border=\"1\" class=\"dataframe\">\n",
       "  <thead>\n",
       "    <tr style=\"text-align: right;\">\n",
       "      <th></th>\n",
       "      <th>RANK</th>\n",
       "      <th>MODEL_ID</th>\n",
       "      <th>FEATURE_SELECTION</th>\n",
       "      <th>MAE</th>\n",
       "      <th>MSE</th>\n",
       "      <th>MSLE</th>\n",
       "      <th>MAPE</th>\n",
       "      <th>MPE</th>\n",
       "      <th>RMSE</th>\n",
       "      <th>RMSLE</th>\n",
       "      <th>ME</th>\n",
       "      <th>R2</th>\n",
       "      <th>EV</th>\n",
       "      <th>MPD</th>\n",
       "      <th>MGD</th>\n",
       "      <th>ADJUSTED_R2</th>\n",
       "    </tr>\n",
       "  </thead>\n",
       "  <tbody>\n",
       "    <tr>\n",
       "      <th>0</th>\n",
       "      <td>1</td>\n",
       "      <td>KNN_8</td>\n",
       "      <td>pca</td>\n",
       "      <td>34.910813</td>\n",
       "      <td>2759.670403</td>\n",
       "      <td>0.019271</td>\n",
       "      <td>10.879343</td>\n",
       "      <td>-7.051822</td>\n",
       "      <td>52.532565</td>\n",
       "      <td>0.138822</td>\n",
       "      <td>135.919448</td>\n",
       "      <td>0.977742</td>\n",
       "      <td>0.982062</td>\n",
       "      <td>4.680425</td>\n",
       "      <td>0.018466</td>\n",
       "      <td>0.976822</td>\n",
       "    </tr>\n",
       "    <tr>\n",
       "      <th>1</th>\n",
       "      <td>2</td>\n",
       "      <td>KNN_9</td>\n",
       "      <td>lasso</td>\n",
       "      <td>36.298574</td>\n",
       "      <td>2943.061962</td>\n",
       "      <td>0.028948</td>\n",
       "      <td>13.166795</td>\n",
       "      <td>-8.834646</td>\n",
       "      <td>54.249995</td>\n",
       "      <td>0.170142</td>\n",
       "      <td>178.397216</td>\n",
       "      <td>0.976263</td>\n",
       "      <td>0.978359</td>\n",
       "      <td>5.682999</td>\n",
       "      <td>0.026512</td>\n",
       "      <td>0.973992</td>\n",
       "    </tr>\n",
       "    <tr>\n",
       "      <th>2</th>\n",
       "      <td>3</td>\n",
       "      <td>KNN_0</td>\n",
       "      <td>lasso</td>\n",
       "      <td>39.569375</td>\n",
       "      <td>3461.565226</td>\n",
       "      <td>0.034250</td>\n",
       "      <td>14.011865</td>\n",
       "      <td>-9.437544</td>\n",
       "      <td>58.835068</td>\n",
       "      <td>0.185066</td>\n",
       "      <td>177.819179</td>\n",
       "      <td>0.972081</td>\n",
       "      <td>0.976439</td>\n",
       "      <td>6.684804</td>\n",
       "      <td>0.030901</td>\n",
       "      <td>0.969410</td>\n",
       "    </tr>\n",
       "    <tr>\n",
       "      <th>3</th>\n",
       "      <td>4</td>\n",
       "      <td>KNN_4</td>\n",
       "      <td>rfe</td>\n",
       "      <td>40.567254</td>\n",
       "      <td>4041.215337</td>\n",
       "      <td>0.011358</td>\n",
       "      <td>8.541726</td>\n",
       "      <td>-2.070956</td>\n",
       "      <td>63.570554</td>\n",
       "      <td>0.106572</td>\n",
       "      <td>169.362975</td>\n",
       "      <td>0.967405</td>\n",
       "      <td>0.969199</td>\n",
       "      <td>5.477642</td>\n",
       "      <td>0.011537</td>\n",
       "      <td>0.966059</td>\n",
       "    </tr>\n",
       "    <tr>\n",
       "      <th>4</th>\n",
       "      <td>5</td>\n",
       "      <td>DECISIONFOREST_2</td>\n",
       "      <td>pca</td>\n",
       "      <td>44.453526</td>\n",
       "      <td>6103.874480</td>\n",
       "      <td>0.066941</td>\n",
       "      <td>21.573937</td>\n",
       "      <td>-15.618221</td>\n",
       "      <td>78.127297</td>\n",
       "      <td>0.258730</td>\n",
       "      <td>225.000000</td>\n",
       "      <td>0.950769</td>\n",
       "      <td>0.951051</td>\n",
       "      <td>9.902976</td>\n",
       "      <td>0.064418</td>\n",
       "      <td>0.948735</td>\n",
       "    </tr>\n",
       "    <tr>\n",
       "      <th>5</th>\n",
       "      <td>6</td>\n",
       "      <td>DECISIONFOREST_1</td>\n",
       "      <td>rfe</td>\n",
       "      <td>58.656718</td>\n",
       "      <td>9306.154488</td>\n",
       "      <td>0.227963</td>\n",
       "      <td>30.185571</td>\n",
       "      <td>-7.546338</td>\n",
       "      <td>96.468412</td>\n",
       "      <td>0.477454</td>\n",
       "      <td>284.000000</td>\n",
       "      <td>0.924941</td>\n",
       "      <td>0.929692</td>\n",
       "      <td>19.275763</td>\n",
       "      <td>0.332902</td>\n",
       "      <td>0.921839</td>\n",
       "    </tr>\n",
       "    <tr>\n",
       "      <th>6</th>\n",
       "      <td>7</td>\n",
       "      <td>DECISIONFOREST_0</td>\n",
       "      <td>lasso</td>\n",
       "      <td>72.118257</td>\n",
       "      <td>14414.039103</td>\n",
       "      <td>0.239260</td>\n",
       "      <td>32.543726</td>\n",
       "      <td>-8.966992</td>\n",
       "      <td>120.058482</td>\n",
       "      <td>0.489142</td>\n",
       "      <td>326.000000</td>\n",
       "      <td>0.883743</td>\n",
       "      <td>0.891115</td>\n",
       "      <td>26.511601</td>\n",
       "      <td>0.343272</td>\n",
       "      <td>0.872623</td>\n",
       "    </tr>\n",
       "    <tr>\n",
       "      <th>7</th>\n",
       "      <td>8</td>\n",
       "      <td>DECISIONFOREST_3</td>\n",
       "      <td>lasso</td>\n",
       "      <td>215.048077</td>\n",
       "      <td>72849.239519</td>\n",
       "      <td>1.441583</td>\n",
       "      <td>296.500023</td>\n",
       "      <td>-258.155798</td>\n",
       "      <td>269.905983</td>\n",
       "      <td>1.200659</td>\n",
       "      <td>571.750000</td>\n",
       "      <td>0.412432</td>\n",
       "      <td>0.487531</td>\n",
       "      <td>176.708049</td>\n",
       "      <td>0.898237</td>\n",
       "      <td>0.356229</td>\n",
       "    </tr>\n",
       "    <tr>\n",
       "      <th>8</th>\n",
       "      <td>9</td>\n",
       "      <td>SVM_0</td>\n",
       "      <td>lasso</td>\n",
       "      <td>430.189726</td>\n",
       "      <td>308799.919582</td>\n",
       "      <td>8.573098</td>\n",
       "      <td>99.689859</td>\n",
       "      <td>99.689859</td>\n",
       "      <td>555.697687</td>\n",
       "      <td>2.927985</td>\n",
       "      <td>998.894373</td>\n",
       "      <td>-1.490638</td>\n",
       "      <td>0.001997</td>\n",
       "      <td>4780.804185</td>\n",
       "      <td>1013.369464</td>\n",
       "      <td>-1.728873</td>\n",
       "    </tr>\n",
       "    <tr>\n",
       "      <th>9</th>\n",
       "      <td>10</td>\n",
       "      <td>SVM_1</td>\n",
       "      <td>rfe</td>\n",
       "      <td>430.283054</td>\n",
       "      <td>308900.332357</td>\n",
       "      <td>2.951653</td>\n",
       "      <td>99.748896</td>\n",
       "      <td>99.748896</td>\n",
       "      <td>555.788028</td>\n",
       "      <td>1.718038</td>\n",
       "      <td>999.017888</td>\n",
       "      <td>-1.491447</td>\n",
       "      <td>0.001835</td>\n",
       "      <td>4900.749194</td>\n",
       "      <td>1188.459504</td>\n",
       "      <td>-1.594400</td>\n",
       "    </tr>\n",
       "    <tr>\n",
       "      <th>10</th>\n",
       "      <td>11</td>\n",
       "      <td>SVM_3</td>\n",
       "      <td>lasso</td>\n",
       "      <td>430.143612</td>\n",
       "      <td>308903.376241</td>\n",
       "      <td>0.000000</td>\n",
       "      <td>99.120644</td>\n",
       "      <td>99.120644</td>\n",
       "      <td>555.790767</td>\n",
       "      <td>0.000000</td>\n",
       "      <td>999.155209</td>\n",
       "      <td>-1.491472</td>\n",
       "      <td>0.000842</td>\n",
       "      <td>4873.055940</td>\n",
       "      <td>1059.069598</td>\n",
       "      <td>-1.729787</td>\n",
       "    </tr>\n",
       "    <tr>\n",
       "      <th>11</th>\n",
       "      <td>12</td>\n",
       "      <td>SVM_2</td>\n",
       "      <td>pca</td>\n",
       "      <td>430.295532</td>\n",
       "      <td>308916.920198</td>\n",
       "      <td>1.469650</td>\n",
       "      <td>99.767585</td>\n",
       "      <td>99.767585</td>\n",
       "      <td>555.802951</td>\n",
       "      <td>1.212291</td>\n",
       "      <td>999.053652</td>\n",
       "      <td>-1.491581</td>\n",
       "      <td>0.001787</td>\n",
       "      <td>4921.998999</td>\n",
       "      <td>1233.663412</td>\n",
       "      <td>-1.594539</td>\n",
       "    </tr>\n",
       "  </tbody>\n",
       "</table>\n",
       "</div>"
      ],
      "text/plain": [
       "    RANK          MODEL_ID FEATURE_SELECTION         MAE            MSE  \\\n",
       "0      1             KNN_8               pca   34.910813    2759.670403   \n",
       "1      2             KNN_9             lasso   36.298574    2943.061962   \n",
       "2      3             KNN_0             lasso   39.569375    3461.565226   \n",
       "3      4             KNN_4               rfe   40.567254    4041.215337   \n",
       "4      5  DECISIONFOREST_2               pca   44.453526    6103.874480   \n",
       "5      6  DECISIONFOREST_1               rfe   58.656718    9306.154488   \n",
       "6      7  DECISIONFOREST_0             lasso   72.118257   14414.039103   \n",
       "7      8  DECISIONFOREST_3             lasso  215.048077   72849.239519   \n",
       "8      9             SVM_0             lasso  430.189726  308799.919582   \n",
       "9     10             SVM_1               rfe  430.283054  308900.332357   \n",
       "10    11             SVM_3             lasso  430.143612  308903.376241   \n",
       "11    12             SVM_2               pca  430.295532  308916.920198   \n",
       "\n",
       "        MSLE        MAPE         MPE        RMSE     RMSLE          ME  \\\n",
       "0   0.019271   10.879343   -7.051822   52.532565  0.138822  135.919448   \n",
       "1   0.028948   13.166795   -8.834646   54.249995  0.170142  178.397216   \n",
       "2   0.034250   14.011865   -9.437544   58.835068  0.185066  177.819179   \n",
       "3   0.011358    8.541726   -2.070956   63.570554  0.106572  169.362975   \n",
       "4   0.066941   21.573937  -15.618221   78.127297  0.258730  225.000000   \n",
       "5   0.227963   30.185571   -7.546338   96.468412  0.477454  284.000000   \n",
       "6   0.239260   32.543726   -8.966992  120.058482  0.489142  326.000000   \n",
       "7   1.441583  296.500023 -258.155798  269.905983  1.200659  571.750000   \n",
       "8   8.573098   99.689859   99.689859  555.697687  2.927985  998.894373   \n",
       "9   2.951653   99.748896   99.748896  555.788028  1.718038  999.017888   \n",
       "10  0.000000   99.120644   99.120644  555.790767  0.000000  999.155209   \n",
       "11  1.469650   99.767585   99.767585  555.802951  1.212291  999.053652   \n",
       "\n",
       "          R2        EV          MPD          MGD  ADJUSTED_R2  \n",
       "0   0.977742  0.982062     4.680425     0.018466     0.976822  \n",
       "1   0.976263  0.978359     5.682999     0.026512     0.973992  \n",
       "2   0.972081  0.976439     6.684804     0.030901     0.969410  \n",
       "3   0.967405  0.969199     5.477642     0.011537     0.966059  \n",
       "4   0.950769  0.951051     9.902976     0.064418     0.948735  \n",
       "5   0.924941  0.929692    19.275763     0.332902     0.921839  \n",
       "6   0.883743  0.891115    26.511601     0.343272     0.872623  \n",
       "7   0.412432  0.487531   176.708049     0.898237     0.356229  \n",
       "8  -1.490638  0.001997  4780.804185  1013.369464    -1.728873  \n",
       "9  -1.491447  0.001835  4900.749194  1188.459504    -1.594400  \n",
       "10 -1.491472  0.000842  4873.055940  1059.069598    -1.729787  \n",
       "11 -1.491581  0.001787  4921.998999  1233.663412    -1.594539  "
      ]
     },
     "metadata": {},
     "output_type": "display_data"
    },
    {
     "name": "stdout",
     "output_type": "stream",
     "text": [
      "                                                                                          \r"
     ]
    },
    {
     "data": {
      "text/html": [
       "12 rows X 16 columns"
      ],
      "text/plain": [
       "<IPython.core.display.HTML object>"
      ]
     },
     "metadata": {},
     "output_type": "display_data"
    },
    {
     "name": "stdout",
     "output_type": "stream",
     "text": [
      "                                                                                          \r"
     ]
    },
    {
     "data": {
      "text/html": [
       "\n",
       "            <style>\n",
       "                .custom-div {\n",
       "                    background-color: lightgray;\n",
       "                    color: #000000;\n",
       "                    padding: 10px;\n",
       "                    border-radius: 8px;\n",
       "                    box-shadow: 0 3px 4px rgba(0 -  0 -  0 -  0.2);\n",
       "                    margin-bottom: 10px;\n",
       "                    text-align: center;\n",
       "                }\n",
       "            </style>\n",
       "        <br><div class=\"custom-div\"><h3><span style=\"color: green;\">1. Feature Exploration -> 2. Feature Engineering -> 3. Data Preparation -> 4. Model Training & Evaluation</span><center></h3></center></div>"
      ],
      "text/plain": [
       "<IPython.core.display.HTML object>"
      ]
     },
     "metadata": {},
     "output_type": "display_data"
    },
    {
     "name": "stdout",
     "output_type": "stream",
     "text": [
      "Completed: ｜⫿⫿⫿⫿⫿⫿⫿⫿⫿⫿⫿⫿⫿⫿⫿⫿⫿⫿⫿⫿⫿⫿⫿⫿⫿⫿⫿⫿⫿⫿⫿⫿⫿⫿⫿⫿⫿⫿⫿⫿⫿⫿⫿⫿⫿⫿⫿⫿⫿⫿⫿⫿⫿⫿⫿⫿⫿⫿⫿⫿｜ 100% - 20/20    \r"
     ]
    }
   ],
   "source": [
    "# Fitting train data\n",
    "aml.fit(fish_df_train, fish_df_train.Weight)"
   ]
  },
  {
   "cell_type": "markdown",
   "id": "23a04eb1-68e6-48b7-95aa-442f434809da",
   "metadata": {},
   "source": [
    "## <b><span style='color:#F1A424'>| 3.</span> Leaderboard : </b>"
   ]
  },
  {
   "cell_type": "code",
   "execution_count": 18,
   "id": "77de1099-6122-4f8a-8e7f-dd67e5b4ced4",
   "metadata": {},
   "outputs": [
    {
     "data": {
      "text/html": [
       "<div>\n",
       "<style scoped>\n",
       "    .dataframe tbody tr th:only-of-type {\n",
       "        vertical-align: middle;\n",
       "    }\n",
       "\n",
       "    .dataframe tbody tr th {\n",
       "        vertical-align: top;\n",
       "    }\n",
       "\n",
       "    .dataframe thead th {\n",
       "        text-align: right;\n",
       "    }\n",
       "</style>\n",
       "<table border=\"1\" class=\"dataframe\">\n",
       "  <thead>\n",
       "    <tr style=\"text-align: right;\">\n",
       "      <th></th>\n",
       "      <th>RANK</th>\n",
       "      <th>MODEL_ID</th>\n",
       "      <th>FEATURE_SELECTION</th>\n",
       "      <th>MAE</th>\n",
       "      <th>MSE</th>\n",
       "      <th>MSLE</th>\n",
       "      <th>MAPE</th>\n",
       "      <th>MPE</th>\n",
       "      <th>RMSE</th>\n",
       "      <th>RMSLE</th>\n",
       "      <th>ME</th>\n",
       "      <th>R2</th>\n",
       "      <th>EV</th>\n",
       "      <th>MPD</th>\n",
       "      <th>MGD</th>\n",
       "      <th>ADJUSTED_R2</th>\n",
       "    </tr>\n",
       "  </thead>\n",
       "  <tbody>\n",
       "    <tr>\n",
       "      <th>0</th>\n",
       "      <td>1</td>\n",
       "      <td>KNN_8</td>\n",
       "      <td>pca</td>\n",
       "      <td>34.910813</td>\n",
       "      <td>2759.670403</td>\n",
       "      <td>0.019271</td>\n",
       "      <td>10.879343</td>\n",
       "      <td>-7.051822</td>\n",
       "      <td>52.532565</td>\n",
       "      <td>0.138822</td>\n",
       "      <td>135.919448</td>\n",
       "      <td>0.977742</td>\n",
       "      <td>0.982062</td>\n",
       "      <td>4.680425</td>\n",
       "      <td>0.018466</td>\n",
       "      <td>0.976822</td>\n",
       "    </tr>\n",
       "    <tr>\n",
       "      <th>1</th>\n",
       "      <td>2</td>\n",
       "      <td>KNN_9</td>\n",
       "      <td>lasso</td>\n",
       "      <td>36.298574</td>\n",
       "      <td>2943.061962</td>\n",
       "      <td>0.028948</td>\n",
       "      <td>13.166795</td>\n",
       "      <td>-8.834646</td>\n",
       "      <td>54.249995</td>\n",
       "      <td>0.170142</td>\n",
       "      <td>178.397216</td>\n",
       "      <td>0.976263</td>\n",
       "      <td>0.978359</td>\n",
       "      <td>5.682999</td>\n",
       "      <td>0.026512</td>\n",
       "      <td>0.973992</td>\n",
       "    </tr>\n",
       "    <tr>\n",
       "      <th>2</th>\n",
       "      <td>3</td>\n",
       "      <td>KNN_0</td>\n",
       "      <td>lasso</td>\n",
       "      <td>39.569375</td>\n",
       "      <td>3461.565226</td>\n",
       "      <td>0.034250</td>\n",
       "      <td>14.011865</td>\n",
       "      <td>-9.437544</td>\n",
       "      <td>58.835068</td>\n",
       "      <td>0.185066</td>\n",
       "      <td>177.819179</td>\n",
       "      <td>0.972081</td>\n",
       "      <td>0.976439</td>\n",
       "      <td>6.684804</td>\n",
       "      <td>0.030901</td>\n",
       "      <td>0.969410</td>\n",
       "    </tr>\n",
       "    <tr>\n",
       "      <th>3</th>\n",
       "      <td>4</td>\n",
       "      <td>KNN_4</td>\n",
       "      <td>rfe</td>\n",
       "      <td>40.567254</td>\n",
       "      <td>4041.215337</td>\n",
       "      <td>0.011358</td>\n",
       "      <td>8.541726</td>\n",
       "      <td>-2.070956</td>\n",
       "      <td>63.570554</td>\n",
       "      <td>0.106572</td>\n",
       "      <td>169.362975</td>\n",
       "      <td>0.967405</td>\n",
       "      <td>0.969199</td>\n",
       "      <td>5.477642</td>\n",
       "      <td>0.011537</td>\n",
       "      <td>0.966059</td>\n",
       "    </tr>\n",
       "    <tr>\n",
       "      <th>4</th>\n",
       "      <td>5</td>\n",
       "      <td>DECISIONFOREST_2</td>\n",
       "      <td>pca</td>\n",
       "      <td>44.453526</td>\n",
       "      <td>6103.874480</td>\n",
       "      <td>0.066941</td>\n",
       "      <td>21.573937</td>\n",
       "      <td>-15.618221</td>\n",
       "      <td>78.127297</td>\n",
       "      <td>0.258730</td>\n",
       "      <td>225.000000</td>\n",
       "      <td>0.950769</td>\n",
       "      <td>0.951051</td>\n",
       "      <td>9.902976</td>\n",
       "      <td>0.064418</td>\n",
       "      <td>0.948735</td>\n",
       "    </tr>\n",
       "    <tr>\n",
       "      <th>5</th>\n",
       "      <td>6</td>\n",
       "      <td>DECISIONFOREST_1</td>\n",
       "      <td>rfe</td>\n",
       "      <td>58.656718</td>\n",
       "      <td>9306.154488</td>\n",
       "      <td>0.227963</td>\n",
       "      <td>30.185571</td>\n",
       "      <td>-7.546338</td>\n",
       "      <td>96.468412</td>\n",
       "      <td>0.477454</td>\n",
       "      <td>284.000000</td>\n",
       "      <td>0.924941</td>\n",
       "      <td>0.929692</td>\n",
       "      <td>19.275763</td>\n",
       "      <td>0.332902</td>\n",
       "      <td>0.921839</td>\n",
       "    </tr>\n",
       "    <tr>\n",
       "      <th>6</th>\n",
       "      <td>7</td>\n",
       "      <td>DECISIONFOREST_0</td>\n",
       "      <td>lasso</td>\n",
       "      <td>72.118257</td>\n",
       "      <td>14414.039103</td>\n",
       "      <td>0.239260</td>\n",
       "      <td>32.543726</td>\n",
       "      <td>-8.966992</td>\n",
       "      <td>120.058482</td>\n",
       "      <td>0.489142</td>\n",
       "      <td>326.000000</td>\n",
       "      <td>0.883743</td>\n",
       "      <td>0.891115</td>\n",
       "      <td>26.511601</td>\n",
       "      <td>0.343272</td>\n",
       "      <td>0.872623</td>\n",
       "    </tr>\n",
       "    <tr>\n",
       "      <th>7</th>\n",
       "      <td>8</td>\n",
       "      <td>DECISIONFOREST_3</td>\n",
       "      <td>lasso</td>\n",
       "      <td>215.048077</td>\n",
       "      <td>72849.239519</td>\n",
       "      <td>1.441583</td>\n",
       "      <td>296.500023</td>\n",
       "      <td>-258.155798</td>\n",
       "      <td>269.905983</td>\n",
       "      <td>1.200659</td>\n",
       "      <td>571.750000</td>\n",
       "      <td>0.412432</td>\n",
       "      <td>0.487531</td>\n",
       "      <td>176.708049</td>\n",
       "      <td>0.898237</td>\n",
       "      <td>0.356229</td>\n",
       "    </tr>\n",
       "    <tr>\n",
       "      <th>8</th>\n",
       "      <td>9</td>\n",
       "      <td>SVM_0</td>\n",
       "      <td>lasso</td>\n",
       "      <td>430.189726</td>\n",
       "      <td>308799.919582</td>\n",
       "      <td>8.573098</td>\n",
       "      <td>99.689859</td>\n",
       "      <td>99.689859</td>\n",
       "      <td>555.697687</td>\n",
       "      <td>2.927985</td>\n",
       "      <td>998.894373</td>\n",
       "      <td>-1.490638</td>\n",
       "      <td>0.001997</td>\n",
       "      <td>4780.804185</td>\n",
       "      <td>1013.369464</td>\n",
       "      <td>-1.728873</td>\n",
       "    </tr>\n",
       "    <tr>\n",
       "      <th>9</th>\n",
       "      <td>10</td>\n",
       "      <td>SVM_1</td>\n",
       "      <td>rfe</td>\n",
       "      <td>430.283054</td>\n",
       "      <td>308900.332357</td>\n",
       "      <td>2.951653</td>\n",
       "      <td>99.748896</td>\n",
       "      <td>99.748896</td>\n",
       "      <td>555.788028</td>\n",
       "      <td>1.718038</td>\n",
       "      <td>999.017888</td>\n",
       "      <td>-1.491447</td>\n",
       "      <td>0.001835</td>\n",
       "      <td>4900.749194</td>\n",
       "      <td>1188.459504</td>\n",
       "      <td>-1.594400</td>\n",
       "    </tr>\n",
       "    <tr>\n",
       "      <th>10</th>\n",
       "      <td>11</td>\n",
       "      <td>SVM_3</td>\n",
       "      <td>lasso</td>\n",
       "      <td>430.143612</td>\n",
       "      <td>308903.376241</td>\n",
       "      <td>0.000000</td>\n",
       "      <td>99.120644</td>\n",
       "      <td>99.120644</td>\n",
       "      <td>555.790767</td>\n",
       "      <td>0.000000</td>\n",
       "      <td>999.155209</td>\n",
       "      <td>-1.491472</td>\n",
       "      <td>0.000842</td>\n",
       "      <td>4873.055940</td>\n",
       "      <td>1059.069598</td>\n",
       "      <td>-1.729787</td>\n",
       "    </tr>\n",
       "    <tr>\n",
       "      <th>11</th>\n",
       "      <td>12</td>\n",
       "      <td>SVM_2</td>\n",
       "      <td>pca</td>\n",
       "      <td>430.295532</td>\n",
       "      <td>308916.920198</td>\n",
       "      <td>1.469650</td>\n",
       "      <td>99.767585</td>\n",
       "      <td>99.767585</td>\n",
       "      <td>555.802951</td>\n",
       "      <td>1.212291</td>\n",
       "      <td>999.053652</td>\n",
       "      <td>-1.491581</td>\n",
       "      <td>0.001787</td>\n",
       "      <td>4921.998999</td>\n",
       "      <td>1233.663412</td>\n",
       "      <td>-1.594539</td>\n",
       "    </tr>\n",
       "  </tbody>\n",
       "</table>\n",
       "</div>"
      ],
      "text/plain": [
       "    RANK          MODEL_ID FEATURE_SELECTION         MAE            MSE  \\\n",
       "0      1             KNN_8               pca   34.910813    2759.670403   \n",
       "1      2             KNN_9             lasso   36.298574    2943.061962   \n",
       "2      3             KNN_0             lasso   39.569375    3461.565226   \n",
       "3      4             KNN_4               rfe   40.567254    4041.215337   \n",
       "4      5  DECISIONFOREST_2               pca   44.453526    6103.874480   \n",
       "5      6  DECISIONFOREST_1               rfe   58.656718    9306.154488   \n",
       "6      7  DECISIONFOREST_0             lasso   72.118257   14414.039103   \n",
       "7      8  DECISIONFOREST_3             lasso  215.048077   72849.239519   \n",
       "8      9             SVM_0             lasso  430.189726  308799.919582   \n",
       "9     10             SVM_1               rfe  430.283054  308900.332357   \n",
       "10    11             SVM_3             lasso  430.143612  308903.376241   \n",
       "11    12             SVM_2               pca  430.295532  308916.920198   \n",
       "\n",
       "        MSLE        MAPE         MPE        RMSE     RMSLE          ME  \\\n",
       "0   0.019271   10.879343   -7.051822   52.532565  0.138822  135.919448   \n",
       "1   0.028948   13.166795   -8.834646   54.249995  0.170142  178.397216   \n",
       "2   0.034250   14.011865   -9.437544   58.835068  0.185066  177.819179   \n",
       "3   0.011358    8.541726   -2.070956   63.570554  0.106572  169.362975   \n",
       "4   0.066941   21.573937  -15.618221   78.127297  0.258730  225.000000   \n",
       "5   0.227963   30.185571   -7.546338   96.468412  0.477454  284.000000   \n",
       "6   0.239260   32.543726   -8.966992  120.058482  0.489142  326.000000   \n",
       "7   1.441583  296.500023 -258.155798  269.905983  1.200659  571.750000   \n",
       "8   8.573098   99.689859   99.689859  555.697687  2.927985  998.894373   \n",
       "9   2.951653   99.748896   99.748896  555.788028  1.718038  999.017888   \n",
       "10  0.000000   99.120644   99.120644  555.790767  0.000000  999.155209   \n",
       "11  1.469650   99.767585   99.767585  555.802951  1.212291  999.053652   \n",
       "\n",
       "          R2        EV          MPD          MGD  ADJUSTED_R2  \n",
       "0   0.977742  0.982062     4.680425     0.018466     0.976822  \n",
       "1   0.976263  0.978359     5.682999     0.026512     0.973992  \n",
       "2   0.972081  0.976439     6.684804     0.030901     0.969410  \n",
       "3   0.967405  0.969199     5.477642     0.011537     0.966059  \n",
       "4   0.950769  0.951051     9.902976     0.064418     0.948735  \n",
       "5   0.924941  0.929692    19.275763     0.332902     0.921839  \n",
       "6   0.883743  0.891115    26.511601     0.343272     0.872623  \n",
       "7   0.412432  0.487531   176.708049     0.898237     0.356229  \n",
       "8  -1.490638  0.001997  4780.804185  1013.369464    -1.728873  \n",
       "9  -1.491447  0.001835  4900.749194  1188.459504    -1.594400  \n",
       "10 -1.491472  0.000842  4873.055940  1059.069598    -1.729787  \n",
       "11 -1.491581  0.001787  4921.998999  1233.663412    -1.594539  "
      ]
     },
     "execution_count": 18,
     "metadata": {},
     "output_type": "execute_result"
    }
   ],
   "source": [
    "# Fetching Leaderboard\n",
    "aml.leaderboard()"
   ]
  },
  {
   "cell_type": "markdown",
   "id": "a7a3aa08-e349-4a61-9217-2c17d50411d8",
   "metadata": {},
   "source": [
    "## <b><span style='color:#F1A424'>| 4.</span> Best Performing Model : </b>"
   ]
  },
  {
   "cell_type": "code",
   "execution_count": 19,
   "id": "c4c32832-a76b-4f42-826a-cefc38a6301b",
   "metadata": {},
   "outputs": [
    {
     "data": {
      "text/html": [
       "<div>\n",
       "<style scoped>\n",
       "    .dataframe tbody tr th:only-of-type {\n",
       "        vertical-align: middle;\n",
       "    }\n",
       "\n",
       "    .dataframe tbody tr th {\n",
       "        vertical-align: top;\n",
       "    }\n",
       "\n",
       "    .dataframe thead th {\n",
       "        text-align: right;\n",
       "    }\n",
       "</style>\n",
       "<table border=\"1\" class=\"dataframe\">\n",
       "  <thead>\n",
       "    <tr style=\"text-align: right;\">\n",
       "      <th></th>\n",
       "      <th>RANK</th>\n",
       "      <th>MODEL_ID</th>\n",
       "      <th>FEATURE_SELECTION</th>\n",
       "      <th>MAE</th>\n",
       "      <th>MSE</th>\n",
       "      <th>MSLE</th>\n",
       "      <th>MAPE</th>\n",
       "      <th>MPE</th>\n",
       "      <th>RMSE</th>\n",
       "      <th>RMSLE</th>\n",
       "      <th>ME</th>\n",
       "      <th>R2</th>\n",
       "      <th>EV</th>\n",
       "      <th>MPD</th>\n",
       "      <th>MGD</th>\n",
       "      <th>ADJUSTED_R2</th>\n",
       "    </tr>\n",
       "  </thead>\n",
       "  <tbody>\n",
       "    <tr>\n",
       "      <th>0</th>\n",
       "      <td>1</td>\n",
       "      <td>KNN_8</td>\n",
       "      <td>pca</td>\n",
       "      <td>34.910813</td>\n",
       "      <td>2759.670403</td>\n",
       "      <td>0.019271</td>\n",
       "      <td>10.879343</td>\n",
       "      <td>-7.051822</td>\n",
       "      <td>52.532565</td>\n",
       "      <td>0.138822</td>\n",
       "      <td>135.919448</td>\n",
       "      <td>0.977742</td>\n",
       "      <td>0.982062</td>\n",
       "      <td>4.680425</td>\n",
       "      <td>0.018466</td>\n",
       "      <td>0.976822</td>\n",
       "    </tr>\n",
       "  </tbody>\n",
       "</table>\n",
       "</div>"
      ],
      "text/plain": [
       "   RANK MODEL_ID FEATURE_SELECTION        MAE          MSE      MSLE  \\\n",
       "0     1    KNN_8               pca  34.910813  2759.670403  0.019271   \n",
       "\n",
       "        MAPE       MPE       RMSE     RMSLE          ME        R2        EV  \\\n",
       "0  10.879343 -7.051822  52.532565  0.138822  135.919448  0.977742  0.982062   \n",
       "\n",
       "        MPD       MGD  ADJUSTED_R2  \n",
       "0  4.680425  0.018466     0.976822  "
      ]
     },
     "metadata": {},
     "output_type": "display_data"
    }
   ],
   "source": [
    "# Fetching best performing model for dataset\n",
    "aml.leader()"
   ]
  },
  {
   "cell_type": "markdown",
   "id": "16494c7e-fc25-48e7-b8f5-6510db745086",
   "metadata": {},
   "source": [
    "## <b><span style='color:#F1A424'>| 5.</span> Get Hyperparameter for Trained Model : </b>"
   ]
  },
  {
   "cell_type": "code",
   "execution_count": 20,
   "id": "a5348edb-698b-4c98-8c5a-f745b20d2ea2",
   "metadata": {},
   "outputs": [
    {
     "data": {
      "text/plain": [
       "{'response_column': 'Weight',\n",
       " 'name': 'knn',\n",
       " 'model_type': 'Regression',\n",
       " 'k': 5,\n",
       " 'id_column': 'id',\n",
       " 'voting_weight': 1.0,\n",
       " 'persist': False}"
      ]
     },
     "execution_count": 20,
     "metadata": {},
     "output_type": "execute_result"
    }
   ],
   "source": [
    "aml.model_hyperparameters(rank=2)"
   ]
  },
  {
   "cell_type": "code",
   "execution_count": 21,
   "id": "e7c1e2a5-9d16-4e00-9aa0-9f4bd717699d",
   "metadata": {
    "tags": []
   },
   "outputs": [
    {
     "data": {
      "text/plain": [
       "{'response_column': 'Weight',\n",
       " 'name': 'decision_forest',\n",
       " 'tree_type': 'Regression',\n",
       " 'min_impurity': 0.0,\n",
       " 'max_depth': 5,\n",
       " 'min_node_size': 1,\n",
       " 'num_trees': -1,\n",
       " 'seed': 42,\n",
       " 'persist': False}"
      ]
     },
     "execution_count": 21,
     "metadata": {},
     "output_type": "execute_result"
    }
   ],
   "source": [
    "aml.model_hyperparameters(rank=5)"
   ]
  },
  {
   "cell_type": "markdown",
   "id": "6ea12786-7932-4103-b918-870716bcb8d7",
   "metadata": {},
   "source": [
    "## <b><span style='color:#F1A424'>| 6.</span> Generate Prediction and Performance Metrics : </b>"
   ]
  },
  {
   "cell_type": "code",
   "execution_count": 22,
   "id": "5b6edfe3-bd5a-46bd-ad80-b20fadfed7a0",
   "metadata": {},
   "outputs": [
    {
     "name": "stdout",
     "output_type": "stream",
     "text": [
      "Data Transformation started ...\n",
      "                                                                                                \r"
     ]
    },
    {
     "data": {
      "text/html": [
       "Performing transformation carried out in feature engineering phase ..."
      ],
      "text/plain": [
       "<IPython.core.display.HTML object>"
      ]
     },
     "metadata": {},
     "output_type": "display_data"
    },
    {
     "name": "stdout",
     "output_type": "stream",
     "text": [
      "                                                                                                 \r"
     ]
    },
    {
     "data": {
      "text/html": [
       "\n",
       "Updated dataset after performing categorical encoding :"
      ],
      "text/plain": [
       "<IPython.core.display.HTML object>"
      ]
     },
     "metadata": {},
     "output_type": "display_data"
    },
    {
     "data": {
      "text/html": [
       "<style type=\"text/css\">\n",
       "\ttable {border:ridge 5px;}\n",
       "\ttable td {border:inset 1px;}\n",
       "\ttable tr#HeaderRow {background-color:grey; color:white;}</style>\n",
       "<html><table>\n",
       "\t<tr id=\"HeaderRow\">\n",
       "\t\t<th>Species_0</th>\n",
       "\t\t<th>Species_1</th>\n",
       "\t\t<th>Species_2</th>\n",
       "\t\t<th>Species_3</th>\n",
       "\t\t<th>Species_4</th>\n",
       "\t\t<th>Species_5</th>\n",
       "\t\t<th>Species_6</th>\n",
       "\t\t<th>Weight</th>\n",
       "\t\t<th>Length1</th>\n",
       "\t\t<th>Length2</th>\n",
       "\t\t<th>Length3</th>\n",
       "\t\t<th>Height</th>\n",
       "\t\t<th>Width</th>\n",
       "\t\t<th>id</th>\n",
       "\t</tr>\n",
       "\t<tr>\n",
       "\t\t<td>1</td>\n",
       "\t\t<td>0</td>\n",
       "\t\t<td>0</td>\n",
       "\t\t<td>0</td>\n",
       "\t\t<td>0</td>\n",
       "\t\t<td>0</td>\n",
       "\t\t<td>0</td>\n",
       "\t\t<td>685</td>\n",
       "\t\t<td>31.4</td>\n",
       "\t\t<td>34.0</td>\n",
       "\t\t<td>39.2</td>\n",
       "\t\t<td>15.9936</td>\n",
       "\t\t<td>5.3704</td>\n",
       "\t\t<td>50</td>\n",
       "\t</tr>\n",
       "\t<tr>\n",
       "\t\t<td>1</td>\n",
       "\t\t<td>0</td>\n",
       "\t\t<td>0</td>\n",
       "\t\t<td>0</td>\n",
       "\t\t<td>0</td>\n",
       "\t\t<td>0</td>\n",
       "\t\t<td>0</td>\n",
       "\t\t<td>700</td>\n",
       "\t\t<td>30.4</td>\n",
       "\t\t<td>33.0</td>\n",
       "\t\t<td>38.5</td>\n",
       "\t\t<td>14.938</td>\n",
       "\t\t<td>5.1975</td>\n",
       "\t\t<td>34</td>\n",
       "\t</tr>\n",
       "\t<tr>\n",
       "\t\t<td>1</td>\n",
       "\t\t<td>0</td>\n",
       "\t\t<td>0</td>\n",
       "\t\t<td>0</td>\n",
       "\t\t<td>0</td>\n",
       "\t\t<td>0</td>\n",
       "\t\t<td>0</td>\n",
       "\t\t<td>450</td>\n",
       "\t\t<td>27.6</td>\n",
       "\t\t<td>30.0</td>\n",
       "\t\t<td>35.1</td>\n",
       "\t\t<td>14.0049</td>\n",
       "\t\t<td>4.8438</td>\n",
       "\t\t<td>18</td>\n",
       "\t</tr>\n",
       "\t<tr>\n",
       "\t\t<td>1</td>\n",
       "\t\t<td>0</td>\n",
       "\t\t<td>0</td>\n",
       "\t\t<td>0</td>\n",
       "\t\t<td>0</td>\n",
       "\t\t<td>0</td>\n",
       "\t\t<td>0</td>\n",
       "\t\t<td>340</td>\n",
       "\t\t<td>23.9</td>\n",
       "\t\t<td>26.5</td>\n",
       "\t\t<td>31.1</td>\n",
       "\t\t<td>12.3778</td>\n",
       "\t\t<td>4.6961</td>\n",
       "\t\t<td>10</td>\n",
       "\t</tr>\n",
       "\t<tr>\n",
       "\t\t<td>0</td>\n",
       "\t\t<td>0</td>\n",
       "\t\t<td>0</td>\n",
       "\t\t<td>0</td>\n",
       "\t\t<td>0</td>\n",
       "\t\t<td>0</td>\n",
       "\t\t<td>1</td>\n",
       "\t\t<td>270</td>\n",
       "\t\t<td>23.6</td>\n",
       "\t\t<td>26.0</td>\n",
       "\t\t<td>28.7</td>\n",
       "\t\t<td>8.3804</td>\n",
       "\t\t<td>4.2476</td>\n",
       "\t\t<td>45</td>\n",
       "\t</tr>\n",
       "\t<tr>\n",
       "\t\t<td>0</td>\n",
       "\t\t<td>1</td>\n",
       "\t\t<td>0</td>\n",
       "\t\t<td>0</td>\n",
       "\t\t<td>0</td>\n",
       "\t\t<td>0</td>\n",
       "\t\t<td>0</td>\n",
       "\t\t<td>140</td>\n",
       "\t\t<td>19.0</td>\n",
       "\t\t<td>20.7</td>\n",
       "\t\t<td>23.2</td>\n",
       "\t\t<td>8.5376</td>\n",
       "\t\t<td>3.2944</td>\n",
       "\t\t<td>8</td>\n",
       "\t</tr>\n",
       "\t<tr>\n",
       "\t\t<td>0</td>\n",
       "\t\t<td>0</td>\n",
       "\t\t<td>1</td>\n",
       "\t\t<td>0</td>\n",
       "\t\t<td>0</td>\n",
       "\t\t<td>0</td>\n",
       "\t\t<td>0</td>\n",
       "\t\t<td>5</td>\n",
       "\t\t<td>7.5</td>\n",
       "\t\t<td>8.4</td>\n",
       "\t\t<td>8.8</td>\n",
       "\t\t<td>2.112</td>\n",
       "\t\t<td>1.408</td>\n",
       "\t\t<td>16</td>\n",
       "\t</tr>\n",
       "\t<tr>\n",
       "\t\t<td>0</td>\n",
       "\t\t<td>0</td>\n",
       "\t\t<td>1</td>\n",
       "\t\t<td>0</td>\n",
       "\t\t<td>0</td>\n",
       "\t\t<td>0</td>\n",
       "\t\t<td>0</td>\n",
       "\t\t<td>135</td>\n",
       "\t\t<td>20.0</td>\n",
       "\t\t<td>22.0</td>\n",
       "\t\t<td>23.5</td>\n",
       "\t\t<td>5.875</td>\n",
       "\t\t<td>3.525</td>\n",
       "\t\t<td>32</td>\n",
       "\t</tr>\n",
       "\t<tr>\n",
       "\t\t<td>0</td>\n",
       "\t\t<td>0</td>\n",
       "\t\t<td>1</td>\n",
       "\t\t<td>0</td>\n",
       "\t\t<td>0</td>\n",
       "\t\t<td>0</td>\n",
       "\t\t<td>0</td>\n",
       "\t\t<td>110</td>\n",
       "\t\t<td>20.0</td>\n",
       "\t\t<td>22.0</td>\n",
       "\t\t<td>23.5</td>\n",
       "\t\t<td>5.5225</td>\n",
       "\t\t<td>3.995</td>\n",
       "\t\t<td>40</td>\n",
       "\t</tr>\n",
       "\t<tr>\n",
       "\t\t<td>0</td>\n",
       "\t\t<td>0</td>\n",
       "\t\t<td>1</td>\n",
       "\t\t<td>0</td>\n",
       "\t\t<td>0</td>\n",
       "\t\t<td>0</td>\n",
       "\t\t<td>0</td>\n",
       "\t\t<td>265</td>\n",
       "\t\t<td>25.4</td>\n",
       "\t\t<td>27.5</td>\n",
       "\t\t<td>28.9</td>\n",
       "\t\t<td>7.0516</td>\n",
       "\t\t<td>4.335</td>\n",
       "\t\t<td>48</td>\n",
       "\t</tr>\n",
       "</table></html>"
      ],
      "text/plain": [
       "           Species_1  Species_2  Species_3  Species_4  Species_5  Species_6  Weight  Length1  Length2  Length3   Height   Width  id\n",
       "Species_0                                                                                                                          \n",
       "1                  0          0          0          0          0          0     685     31.4     34.0     39.2  15.9936  5.3704  50\n",
       "1                  0          0          0          0          0          0     700     30.4     33.0     38.5  14.9380  5.1975  34\n",
       "1                  0          0          0          0          0          0     450     27.6     30.0     35.1  14.0049  4.8438  18\n",
       "1                  0          0          0          0          0          0     340     23.9     26.5     31.1  12.3778  4.6961  10\n",
       "0                  0          0          0          0          0          1     270     23.6     26.0     28.7   8.3804  4.2476  45\n",
       "0                  1          0          0          0          0          0     140     19.0     20.7     23.2   8.5376  3.2944   8\n",
       "0                  0          1          0          0          0          0       5      7.5      8.4      8.8   2.1120  1.4080  16\n",
       "0                  0          1          0          0          0          0     135     20.0     22.0     23.5   5.8750  3.5250  32\n",
       "0                  0          1          0          0          0          0     110     20.0     22.0     23.5   5.5225  3.9950  40\n",
       "0                  0          1          0          0          0          0     265     25.4     27.5     28.9   7.0516  4.3350  48"
      ]
     },
     "metadata": {},
     "output_type": "display_data"
    },
    {
     "name": "stdout",
     "output_type": "stream",
     "text": [
      "                                                                                                 \r"
     ]
    },
    {
     "data": {
      "text/html": [
       "32 rows X 14 columns"
      ],
      "text/plain": [
       "<IPython.core.display.HTML object>"
      ]
     },
     "metadata": {},
     "output_type": "display_data"
    },
    {
     "name": "stdout",
     "output_type": "stream",
     "text": [
      "                                                                                                  \r"
     ]
    },
    {
     "data": {
      "text/html": [
       "Performing transformation carried out in data preparation phase ..."
      ],
      "text/plain": [
       "<IPython.core.display.HTML object>"
      ]
     },
     "metadata": {},
     "output_type": "display_data"
    },
    {
     "name": "stdout",
     "output_type": "stream",
     "text": [
      "                                                                                                  \r"
     ]
    },
    {
     "data": {
      "text/html": [
       "\n",
       "Updated dataset after performing Lasso feature selection:"
      ],
      "text/plain": [
       "<IPython.core.display.HTML object>"
      ]
     },
     "metadata": {},
     "output_type": "display_data"
    },
    {
     "data": {
      "text/html": [
       "<style type=\"text/css\">\n",
       "\ttable {border:ridge 5px;}\n",
       "\ttable td {border:inset 1px;}\n",
       "\ttable tr#HeaderRow {background-color:grey; color:white;}</style>\n",
       "<html><table>\n",
       "\t<tr id=\"HeaderRow\">\n",
       "\t\t<th>id</th>\n",
       "\t\t<th>Species_1</th>\n",
       "\t\t<th>Species_6</th>\n",
       "\t\t<th>Species_3</th>\n",
       "\t\t<th>Species_2</th>\n",
       "\t\t<th>Species_5</th>\n",
       "\t\t<th>Species_0</th>\n",
       "\t\t<th>Length1</th>\n",
       "\t\t<th>Length2</th>\n",
       "\t\t<th>Length3</th>\n",
       "\t\t<th>Height</th>\n",
       "\t\t<th>Width</th>\n",
       "\t\t<th>Weight</th>\n",
       "\t</tr>\n",
       "\t<tr>\n",
       "\t\t<td>20</td>\n",
       "\t\t<td>0</td>\n",
       "\t\t<td>0</td>\n",
       "\t\t<td>0</td>\n",
       "\t\t<td>0</td>\n",
       "\t\t<td>0</td>\n",
       "\t\t<td>0</td>\n",
       "\t\t<td>20.4</td>\n",
       "\t\t<td>22.0</td>\n",
       "\t\t<td>24.7</td>\n",
       "\t\t<td>5.8045</td>\n",
       "\t\t<td>3.7544</td>\n",
       "\t\t<td>150</td>\n",
       "\t</tr>\n",
       "\t<tr>\n",
       "\t\t<td>50</td>\n",
       "\t\t<td>0</td>\n",
       "\t\t<td>0</td>\n",
       "\t\t<td>0</td>\n",
       "\t\t<td>0</td>\n",
       "\t\t<td>0</td>\n",
       "\t\t<td>1</td>\n",
       "\t\t<td>31.4</td>\n",
       "\t\t<td>34.0</td>\n",
       "\t\t<td>39.2</td>\n",
       "\t\t<td>15.9936</td>\n",
       "\t\t<td>5.3704</td>\n",
       "\t\t<td>685</td>\n",
       "\t</tr>\n",
       "\t<tr>\n",
       "\t\t<td>34</td>\n",
       "\t\t<td>0</td>\n",
       "\t\t<td>0</td>\n",
       "\t\t<td>0</td>\n",
       "\t\t<td>0</td>\n",
       "\t\t<td>0</td>\n",
       "\t\t<td>1</td>\n",
       "\t\t<td>30.4</td>\n",
       "\t\t<td>33.0</td>\n",
       "\t\t<td>38.5</td>\n",
       "\t\t<td>14.938</td>\n",
       "\t\t<td>5.1975</td>\n",
       "\t\t<td>700</td>\n",
       "\t</tr>\n",
       "\t<tr>\n",
       "\t\t<td>18</td>\n",
       "\t\t<td>0</td>\n",
       "\t\t<td>0</td>\n",
       "\t\t<td>0</td>\n",
       "\t\t<td>0</td>\n",
       "\t\t<td>0</td>\n",
       "\t\t<td>1</td>\n",
       "\t\t<td>27.6</td>\n",
       "\t\t<td>30.0</td>\n",
       "\t\t<td>35.1</td>\n",
       "\t\t<td>14.0049</td>\n",
       "\t\t<td>4.8438</td>\n",
       "\t\t<td>450</td>\n",
       "\t</tr>\n",
       "\t<tr>\n",
       "\t\t<td>45</td>\n",
       "\t\t<td>0</td>\n",
       "\t\t<td>1</td>\n",
       "\t\t<td>0</td>\n",
       "\t\t<td>0</td>\n",
       "\t\t<td>0</td>\n",
       "\t\t<td>0</td>\n",
       "\t\t<td>23.6</td>\n",
       "\t\t<td>26.0</td>\n",
       "\t\t<td>28.7</td>\n",
       "\t\t<td>8.3804</td>\n",
       "\t\t<td>4.2476</td>\n",
       "\t\t<td>270</td>\n",
       "\t</tr>\n",
       "\t<tr>\n",
       "\t\t<td>8</td>\n",
       "\t\t<td>1</td>\n",
       "\t\t<td>0</td>\n",
       "\t\t<td>0</td>\n",
       "\t\t<td>0</td>\n",
       "\t\t<td>0</td>\n",
       "\t\t<td>0</td>\n",
       "\t\t<td>19.0</td>\n",
       "\t\t<td>20.7</td>\n",
       "\t\t<td>23.2</td>\n",
       "\t\t<td>8.5376</td>\n",
       "\t\t<td>3.2944</td>\n",
       "\t\t<td>140</td>\n",
       "\t</tr>\n",
       "\t<tr>\n",
       "\t\t<td>16</td>\n",
       "\t\t<td>0</td>\n",
       "\t\t<td>0</td>\n",
       "\t\t<td>0</td>\n",
       "\t\t<td>1</td>\n",
       "\t\t<td>0</td>\n",
       "\t\t<td>0</td>\n",
       "\t\t<td>7.5</td>\n",
       "\t\t<td>8.4</td>\n",
       "\t\t<td>8.8</td>\n",
       "\t\t<td>2.112</td>\n",
       "\t\t<td>1.408</td>\n",
       "\t\t<td>5</td>\n",
       "\t</tr>\n",
       "\t<tr>\n",
       "\t\t<td>32</td>\n",
       "\t\t<td>0</td>\n",
       "\t\t<td>0</td>\n",
       "\t\t<td>0</td>\n",
       "\t\t<td>1</td>\n",
       "\t\t<td>0</td>\n",
       "\t\t<td>0</td>\n",
       "\t\t<td>20.0</td>\n",
       "\t\t<td>22.0</td>\n",
       "\t\t<td>23.5</td>\n",
       "\t\t<td>5.875</td>\n",
       "\t\t<td>3.525</td>\n",
       "\t\t<td>135</td>\n",
       "\t</tr>\n",
       "\t<tr>\n",
       "\t\t<td>40</td>\n",
       "\t\t<td>0</td>\n",
       "\t\t<td>0</td>\n",
       "\t\t<td>0</td>\n",
       "\t\t<td>1</td>\n",
       "\t\t<td>0</td>\n",
       "\t\t<td>0</td>\n",
       "\t\t<td>20.0</td>\n",
       "\t\t<td>22.0</td>\n",
       "\t\t<td>23.5</td>\n",
       "\t\t<td>5.5225</td>\n",
       "\t\t<td>3.995</td>\n",
       "\t\t<td>110</td>\n",
       "\t</tr>\n",
       "\t<tr>\n",
       "\t\t<td>48</td>\n",
       "\t\t<td>0</td>\n",
       "\t\t<td>0</td>\n",
       "\t\t<td>0</td>\n",
       "\t\t<td>1</td>\n",
       "\t\t<td>0</td>\n",
       "\t\t<td>0</td>\n",
       "\t\t<td>25.4</td>\n",
       "\t\t<td>27.5</td>\n",
       "\t\t<td>28.9</td>\n",
       "\t\t<td>7.0516</td>\n",
       "\t\t<td>4.335</td>\n",
       "\t\t<td>265</td>\n",
       "\t</tr>\n",
       "</table></html>"
      ],
      "text/plain": [
       "   id  Species_1  Species_6  Species_3  Species_2  Species_5  Species_0  Length1  Length2  Length3   Height   Width  Weight\n",
       "0  20          0          0          0          0          0          0     20.4     22.0     24.7   5.8045  3.7544     150\n",
       "1  50          0          0          0          0          0          1     31.4     34.0     39.2  15.9936  5.3704     685\n",
       "2  34          0          0          0          0          0          1     30.4     33.0     38.5  14.9380  5.1975     700\n",
       "3  18          0          0          0          0          0          1     27.6     30.0     35.1  14.0049  4.8438     450\n",
       "4  45          0          1          0          0          0          0     23.6     26.0     28.7   8.3804  4.2476     270\n",
       "5   8          1          0          0          0          0          0     19.0     20.7     23.2   8.5376  3.2944     140\n",
       "6  16          0          0          0          1          0          0      7.5      8.4      8.8   2.1120  1.4080       5\n",
       "7  32          0          0          0          1          0          0     20.0     22.0     23.5   5.8750  3.5250     135\n",
       "8  40          0          0          0          1          0          0     20.0     22.0     23.5   5.5225  3.9950     110\n",
       "9  48          0          0          0          1          0          0     25.4     27.5     28.9   7.0516  4.3350     265"
      ]
     },
     "metadata": {},
     "output_type": "display_data"
    },
    {
     "name": "stdout",
     "output_type": "stream",
     "text": [
      "                                                                                                  \r"
     ]
    },
    {
     "data": {
      "text/html": [
       "32 rows X 13 columns"
      ],
      "text/plain": [
       "<IPython.core.display.HTML object>"
      ]
     },
     "metadata": {},
     "output_type": "display_data"
    },
    {
     "name": "stdout",
     "output_type": "stream",
     "text": [
      "                                                                                                  \r"
     ]
    },
    {
     "data": {
      "text/html": [
       "\n",
       "Updated dataset after performing scaling on Lasso selected features :"
      ],
      "text/plain": [
       "<IPython.core.display.HTML object>"
      ]
     },
     "metadata": {},
     "output_type": "display_data"
    },
    {
     "data": {
      "text/html": [
       "<style type=\"text/css\">\n",
       "\ttable {border:ridge 5px;}\n",
       "\ttable td {border:inset 1px;}\n",
       "\ttable tr#HeaderRow {background-color:grey; color:white;}</style>\n",
       "<html><table>\n",
       "\t<tr id=\"HeaderRow\">\n",
       "\t\t<th>Weight</th>\n",
       "\t\t<th>id</th>\n",
       "\t\t<th>Species_1</th>\n",
       "\t\t<th>Species_6</th>\n",
       "\t\t<th>Species_3</th>\n",
       "\t\t<th>Species_2</th>\n",
       "\t\t<th>Species_5</th>\n",
       "\t\t<th>Species_0</th>\n",
       "\t\t<th>Length1</th>\n",
       "\t\t<th>Length2</th>\n",
       "\t\t<th>Length3</th>\n",
       "\t\t<th>Height</th>\n",
       "\t\t<th>Width</th>\n",
       "\t</tr>\n",
       "\t<tr>\n",
       "\t\t<td>150</td>\n",
       "\t\t<td>20</td>\n",
       "\t\t<td>0</td>\n",
       "\t\t<td>0</td>\n",
       "\t\t<td>0</td>\n",
       "\t\t<td>0</td>\n",
       "\t\t<td>0</td>\n",
       "\t\t<td>0</td>\n",
       "\t\t<td>-0.607923100169497</td>\n",
       "\t\t<td>-0.7538338473937253</td>\n",
       "\t\t<td>-0.58645396852823</td>\n",
       "\t\t<td>-0.7698435965168361</td>\n",
       "\t\t<td>-0.4189881470547555</td>\n",
       "\t</tr>\n",
       "\t<tr>\n",
       "\t\t<td>685</td>\n",
       "\t\t<td>50</td>\n",
       "\t\t<td>0</td>\n",
       "\t\t<td>0</td>\n",
       "\t\t<td>0</td>\n",
       "\t\t<td>0</td>\n",
       "\t\t<td>0</td>\n",
       "\t\t<td>1</td>\n",
       "\t\t<td>0.4866362128048399</td>\n",
       "\t\t<td>0.7111531245879616</td>\n",
       "\t\t<td>0.6584509110622435</td>\n",
       "\t\t<td>1.5978638401323144</td>\n",
       "\t\t<td>0.5284009940937249</td>\n",
       "\t</tr>\n",
       "\t<tr>\n",
       "\t\t<td>700</td>\n",
       "\t\t<td>34</td>\n",
       "\t\t<td>0</td>\n",
       "\t\t<td>0</td>\n",
       "\t\t<td>0</td>\n",
       "\t\t<td>0</td>\n",
       "\t\t<td>0</td>\n",
       "\t\t<td>1</td>\n",
       "\t\t<td>0.3871308207162638</td>\n",
       "\t\t<td>0.5890708769228211</td>\n",
       "\t\t<td>0.5983520548061515</td>\n",
       "\t\t<td>1.3525672025365658</td>\n",
       "\t\t<td>0.42703739105871713</td>\n",
       "\t</tr>\n",
       "\t<tr>\n",
       "\t\t<td>450</td>\n",
       "\t\t<td>18</td>\n",
       "\t\t<td>0</td>\n",
       "\t\t<td>0</td>\n",
       "\t\t<td>0</td>\n",
       "\t\t<td>0</td>\n",
       "\t\t<td>0</td>\n",
       "\t\t<td>1</td>\n",
       "\t\t<td>0.10851572286825108</td>\n",
       "\t\t<td>0.22282413392739936</td>\n",
       "\t\t<td>0.30644332441941996</td>\n",
       "\t\t<td>1.1357366866777239</td>\n",
       "\t\t<td>0.21967876530115688</td>\n",
       "\t</tr>\n",
       "\t<tr>\n",
       "\t\t<td>270</td>\n",
       "\t\t<td>45</td>\n",
       "\t\t<td>0</td>\n",
       "\t\t<td>1</td>\n",
       "\t\t<td>0</td>\n",
       "\t\t<td>0</td>\n",
       "\t\t<td>0</td>\n",
       "\t\t<td>0</td>\n",
       "\t\t<td>-0.28950584548605324</td>\n",
       "\t\t<td>-0.265504856733163</td>\n",
       "\t\t<td>-0.24303193277913385</td>\n",
       "\t\t<td>-0.17126495992827123</td>\n",
       "\t\t<td>-0.12984685719434041</td>\n",
       "\t</tr>\n",
       "\t<tr>\n",
       "\t\t<td>140</td>\n",
       "\t\t<td>8</td>\n",
       "\t\t<td>1</td>\n",
       "\t\t<td>0</td>\n",
       "\t\t<td>0</td>\n",
       "\t\t<td>0</td>\n",
       "\t\t<td>0</td>\n",
       "\t\t<td>0</td>\n",
       "\t\t<td>-0.7472306490935033</td>\n",
       "\t\t<td>-0.9125407693584081</td>\n",
       "\t\t<td>-0.7152372319341409</td>\n",
       "\t\t<td>-0.13473537350344025</td>\n",
       "\t\t<td>-0.6886657491143476</td>\n",
       "\t</tr>\n",
       "\t<tr>\n",
       "\t\t<td>5</td>\n",
       "\t\t<td>16</td>\n",
       "\t\t<td>0</td>\n",
       "\t\t<td>0</td>\n",
       "\t\t<td>0</td>\n",
       "\t\t<td>1</td>\n",
       "\t\t<td>0</td>\n",
       "\t\t<td>0</td>\n",
       "\t\t<td>-1.8915426581121282</td>\n",
       "\t\t<td>-2.4141524156396375</td>\n",
       "\t\t<td>-1.9515565606308864</td>\n",
       "\t\t<td>-1.6278938374436096</td>\n",
       "\t\t<td>-1.7945784198213361</td>\n",
       "\t</tr>\n",
       "\t<tr>\n",
       "\t\t<td>135</td>\n",
       "\t\t<td>32</td>\n",
       "\t\t<td>0</td>\n",
       "\t\t<td>0</td>\n",
       "\t\t<td>0</td>\n",
       "\t\t<td>1</td>\n",
       "\t\t<td>0</td>\n",
       "\t\t<td>0</td>\n",
       "\t\t<td>-0.6477252570049272</td>\n",
       "\t\t<td>-0.7538338473937253</td>\n",
       "\t\t<td>-0.6894805792529587</td>\n",
       "\t\t<td>-0.753461052986616</td>\n",
       "\t\t<td>-0.5534751946905608</td>\n",
       "\t</tr>\n",
       "\t<tr>\n",
       "\t\t<td>110</td>\n",
       "\t\t<td>40</td>\n",
       "\t\t<td>0</td>\n",
       "\t\t<td>0</td>\n",
       "\t\t<td>0</td>\n",
       "\t\t<td>1</td>\n",
       "\t\t<td>0</td>\n",
       "\t\t<td>0</td>\n",
       "\t\t<td>-0.6477252570049272</td>\n",
       "\t\t<td>-0.7538338473937253</td>\n",
       "\t\t<td>-0.6894805792529587</td>\n",
       "\t\t<td>-0.8353737706377163</td>\n",
       "\t\t<td>-0.2779350360644557</td>\n",
       "\t</tr>\n",
       "\t<tr>\n",
       "\t\t<td>265</td>\n",
       "\t\t<td>48</td>\n",
       "\t\t<td>0</td>\n",
       "\t\t<td>0</td>\n",
       "\t\t<td>0</td>\n",
       "\t\t<td>1</td>\n",
       "\t\t<td>0</td>\n",
       "\t\t<td>0</td>\n",
       "\t\t<td>-0.11039613972661659</td>\n",
       "\t\t<td>-0.08238148523545209</td>\n",
       "\t\t<td>-0.2258608309916791</td>\n",
       "\t\t<td>-0.4800468584099224</td>\n",
       "\t\t<td>-0.07860811280301806</td>\n",
       "\t</tr>\n",
       "</table></html>"
      ],
      "text/plain": [
       "   Weight  id  Species_1  Species_6  Species_3  Species_2  Species_5  Species_0   Length1   Length2   Length3    Height     Width\n",
       "0     150  20          0          0          0          0          0          0 -0.607923 -0.753834 -0.586454 -0.769844 -0.418988\n",
       "1     685  50          0          0          0          0          0          1  0.486636  0.711153  0.658451  1.597864  0.528401\n",
       "2     700  34          0          0          0          0          0          1  0.387131  0.589071  0.598352  1.352567  0.427037\n",
       "3     450  18          0          0          0          0          0          1  0.108516  0.222824  0.306443  1.135737  0.219679\n",
       "4     270  45          0          1          0          0          0          0 -0.289506 -0.265505 -0.243032 -0.171265 -0.129847\n",
       "5     140   8          1          0          0          0          0          0 -0.747231 -0.912541 -0.715237 -0.134735 -0.688666\n",
       "6       5  16          0          0          0          1          0          0 -1.891543 -2.414152 -1.951557 -1.627894 -1.794578\n",
       "7     135  32          0          0          0          1          0          0 -0.647725 -0.753834 -0.689481 -0.753461 -0.553475\n",
       "8     110  40          0          0          0          1          0          0 -0.647725 -0.753834 -0.689481 -0.835374 -0.277935\n",
       "9     265  48          0          0          0          1          0          0 -0.110396 -0.082381 -0.225861 -0.480047 -0.078608"
      ]
     },
     "metadata": {},
     "output_type": "display_data"
    },
    {
     "name": "stdout",
     "output_type": "stream",
     "text": [
      "                                                                                                  \r"
     ]
    },
    {
     "data": {
      "text/html": [
       "32 rows X 13 columns"
      ],
      "text/plain": [
       "<IPython.core.display.HTML object>"
      ]
     },
     "metadata": {},
     "output_type": "display_data"
    },
    {
     "name": "stdout",
     "output_type": "stream",
     "text": [
      "                                                                                                  \r"
     ]
    },
    {
     "data": {
      "text/html": [
       "\n",
       "Updated dataset after performing RFE feature selection:"
      ],
      "text/plain": [
       "<IPython.core.display.HTML object>"
      ]
     },
     "metadata": {},
     "output_type": "display_data"
    },
    {
     "data": {
      "text/html": [
       "<style type=\"text/css\">\n",
       "\ttable {border:ridge 5px;}\n",
       "\ttable td {border:inset 1px;}\n",
       "\ttable tr#HeaderRow {background-color:grey; color:white;}</style>\n",
       "<html><table>\n",
       "\t<tr id=\"HeaderRow\">\n",
       "\t\t<th>id</th>\n",
       "\t\t<th>Length1</th>\n",
       "\t\t<th>Length2</th>\n",
       "\t\t<th>Length3</th>\n",
       "\t\t<th>Height</th>\n",
       "\t\t<th>Width</th>\n",
       "\t\t<th>Weight</th>\n",
       "\t</tr>\n",
       "\t<tr>\n",
       "\t\t<td>18</td>\n",
       "\t\t<td>27.6</td>\n",
       "\t\t<td>30.0</td>\n",
       "\t\t<td>35.1</td>\n",
       "\t\t<td>14.0049</td>\n",
       "\t\t<td>4.8438</td>\n",
       "\t\t<td>450</td>\n",
       "\t</tr>\n",
       "\t<tr>\n",
       "\t\t<td>45</td>\n",
       "\t\t<td>23.6</td>\n",
       "\t\t<td>26.0</td>\n",
       "\t\t<td>28.7</td>\n",
       "\t\t<td>8.3804</td>\n",
       "\t\t<td>4.2476</td>\n",
       "\t\t<td>270</td>\n",
       "\t</tr>\n",
       "\t<tr>\n",
       "\t\t<td>8</td>\n",
       "\t\t<td>19.0</td>\n",
       "\t\t<td>20.7</td>\n",
       "\t\t<td>23.2</td>\n",
       "\t\t<td>8.5376</td>\n",
       "\t\t<td>3.2944</td>\n",
       "\t\t<td>140</td>\n",
       "\t</tr>\n",
       "\t<tr>\n",
       "\t\t<td>16</td>\n",
       "\t\t<td>7.5</td>\n",
       "\t\t<td>8.4</td>\n",
       "\t\t<td>8.8</td>\n",
       "\t\t<td>2.112</td>\n",
       "\t\t<td>1.408</td>\n",
       "\t\t<td>5</td>\n",
       "\t</tr>\n",
       "\t<tr>\n",
       "\t\t<td>40</td>\n",
       "\t\t<td>20.0</td>\n",
       "\t\t<td>22.0</td>\n",
       "\t\t<td>23.5</td>\n",
       "\t\t<td>5.5225</td>\n",
       "\t\t<td>3.995</td>\n",
       "\t\t<td>110</td>\n",
       "\t</tr>\n",
       "\t<tr>\n",
       "\t\t<td>48</td>\n",
       "\t\t<td>25.4</td>\n",
       "\t\t<td>27.5</td>\n",
       "\t\t<td>28.9</td>\n",
       "\t\t<td>7.0516</td>\n",
       "\t\t<td>4.335</td>\n",
       "\t\t<td>265</td>\n",
       "\t</tr>\n",
       "\t<tr>\n",
       "\t\t<td>28</td>\n",
       "\t\t<td>22.0</td>\n",
       "\t\t<td>24.0</td>\n",
       "\t\t<td>27.2</td>\n",
       "\t\t<td>7.5344</td>\n",
       "\t\t<td>3.8352</td>\n",
       "\t\t<td>169</td>\n",
       "\t</tr>\n",
       "\t<tr>\n",
       "\t\t<td>36</td>\n",
       "\t\t<td>23.6</td>\n",
       "\t\t<td>25.2</td>\n",
       "\t\t<td>27.9</td>\n",
       "\t\t<td>7.0866</td>\n",
       "\t\t<td>3.906</td>\n",
       "\t\t<td>180</td>\n",
       "\t</tr>\n",
       "\t<tr>\n",
       "\t\t<td>20</td>\n",
       "\t\t<td>20.4</td>\n",
       "\t\t<td>22.0</td>\n",
       "\t\t<td>24.7</td>\n",
       "\t\t<td>5.8045</td>\n",
       "\t\t<td>3.7544</td>\n",
       "\t\t<td>150</td>\n",
       "\t</tr>\n",
       "\t<tr>\n",
       "\t\t<td>12</td>\n",
       "\t\t<td>19.0</td>\n",
       "\t\t<td>20.5</td>\n",
       "\t\t<td>22.8</td>\n",
       "\t\t<td>6.4752</td>\n",
       "\t\t<td>3.3516</td>\n",
       "\t\t<td>0</td>\n",
       "\t</tr>\n",
       "</table></html>"
      ],
      "text/plain": [
       "   id  Length1  Length2  Length3   Height   Width  Weight\n",
       "0  18     27.6     30.0     35.1  14.0049  4.8438     450\n",
       "1  45     23.6     26.0     28.7   8.3804  4.2476     270\n",
       "2   8     19.0     20.7     23.2   8.5376  3.2944     140\n",
       "3  16      7.5      8.4      8.8   2.1120  1.4080       5\n",
       "4  40     20.0     22.0     23.5   5.5225  3.9950     110\n",
       "5  48     25.4     27.5     28.9   7.0516  4.3350     265\n",
       "6  28     22.0     24.0     27.2   7.5344  3.8352     169\n",
       "7  36     23.6     25.2     27.9   7.0866  3.9060     180\n",
       "8  20     20.4     22.0     24.7   5.8045  3.7544     150\n",
       "9  12     19.0     20.5     22.8   6.4752  3.3516       0"
      ]
     },
     "metadata": {},
     "output_type": "display_data"
    },
    {
     "name": "stdout",
     "output_type": "stream",
     "text": [
      "                                                                                                  \r"
     ]
    },
    {
     "data": {
      "text/html": [
       "32 rows X 7 columns"
      ],
      "text/plain": [
       "<IPython.core.display.HTML object>"
      ]
     },
     "metadata": {},
     "output_type": "display_data"
    },
    {
     "name": "stdout",
     "output_type": "stream",
     "text": [
      "                                                                                                  \r"
     ]
    },
    {
     "data": {
      "text/html": [
       "\n",
       "Updated dataset after performing scaling on RFE selected features :"
      ],
      "text/plain": [
       "<IPython.core.display.HTML object>"
      ]
     },
     "metadata": {},
     "output_type": "display_data"
    },
    {
     "data": {
      "text/html": [
       "<style type=\"text/css\">\n",
       "\ttable {border:ridge 5px;}\n",
       "\ttable td {border:inset 1px;}\n",
       "\ttable tr#HeaderRow {background-color:grey; color:white;}</style>\n",
       "<html><table>\n",
       "\t<tr id=\"HeaderRow\">\n",
       "\t\t<th>id</th>\n",
       "\t\t<th>Weight</th>\n",
       "\t\t<th>r_Length1</th>\n",
       "\t\t<th>r_Length2</th>\n",
       "\t\t<th>r_Length3</th>\n",
       "\t\t<th>r_Height</th>\n",
       "\t\t<th>r_Width</th>\n",
       "\t</tr>\n",
       "\t<tr>\n",
       "\t\t<td>18</td>\n",
       "\t\t<td>450</td>\n",
       "\t\t<td>0.10851572286825108</td>\n",
       "\t\t<td>0.22282413392739936</td>\n",
       "\t\t<td>0.30644332441941996</td>\n",
       "\t\t<td>1.1357366866777239</td>\n",
       "\t\t<td>0.21967876530115688</td>\n",
       "\t</tr>\n",
       "\t<tr>\n",
       "\t\t<td>45</td>\n",
       "\t\t<td>270</td>\n",
       "\t\t<td>-0.28950584548605324</td>\n",
       "\t\t<td>-0.265504856733163</td>\n",
       "\t\t<td>-0.24303193277913385</td>\n",
       "\t\t<td>-0.17126495992827123</td>\n",
       "\t\t<td>-0.12984685719434041</td>\n",
       "\t</tr>\n",
       "\t<tr>\n",
       "\t\t<td>8</td>\n",
       "\t\t<td>140</td>\n",
       "\t\t<td>-0.7472306490935033</td>\n",
       "\t\t<td>-0.9125407693584081</td>\n",
       "\t\t<td>-0.7152372319341409</td>\n",
       "\t\t<td>-0.13473537350344025</td>\n",
       "\t\t<td>-0.6886657491143476</td>\n",
       "\t</tr>\n",
       "\t<tr>\n",
       "\t\t<td>16</td>\n",
       "\t\t<td>5</td>\n",
       "\t\t<td>-1.8915426581121282</td>\n",
       "\t\t<td>-2.4141524156396375</td>\n",
       "\t\t<td>-1.9515565606308864</td>\n",
       "\t\t<td>-1.6278938374436096</td>\n",
       "\t\t<td>-1.7945784198213361</td>\n",
       "\t</tr>\n",
       "\t<tr>\n",
       "\t\t<td>40</td>\n",
       "\t\t<td>110</td>\n",
       "\t\t<td>-0.6477252570049272</td>\n",
       "\t\t<td>-0.7538338473937253</td>\n",
       "\t\t<td>-0.6894805792529587</td>\n",
       "\t\t<td>-0.8353737706377163</td>\n",
       "\t\t<td>-0.2779350360644557</td>\n",
       "\t</tr>\n",
       "\t<tr>\n",
       "\t\t<td>48</td>\n",
       "\t\t<td>265</td>\n",
       "\t\t<td>-0.11039613972661659</td>\n",
       "\t\t<td>-0.08238148523545209</td>\n",
       "\t\t<td>-0.2258608309916791</td>\n",
       "\t\t<td>-0.4800468584099224</td>\n",
       "\t\t<td>-0.07860811280301806</td>\n",
       "\t</tr>\n",
       "\t<tr>\n",
       "\t\t<td>28</td>\n",
       "\t\t<td>169</td>\n",
       "\t\t<td>-0.4487144728277751</td>\n",
       "\t\t<td>-0.5096693520634441</td>\n",
       "\t\t<td>-0.3718151961850449</td>\n",
       "\t\t<td>-0.36785548229091186</td>\n",
       "\t\t<td>-0.3716186899973315</td>\n",
       "\t</tr>\n",
       "\t<tr>\n",
       "\t\t<td>36</td>\n",
       "\t\t<td>180</td>\n",
       "\t\t<td>-0.28950584548605324</td>\n",
       "\t\t<td>-0.36317065486527556</td>\n",
       "\t\t<td>-0.31171633992895315</td>\n",
       "\t\t<td>-0.47191368077080603</td>\n",
       "\t\t<td>-0.33011178950642023</td>\n",
       "\t</tr>\n",
       "\t<tr>\n",
       "\t\t<td>20</td>\n",
       "\t\t<td>150</td>\n",
       "\t\t<td>-0.607923100169497</td>\n",
       "\t\t<td>-0.7538338473937253</td>\n",
       "\t\t<td>-0.58645396852823</td>\n",
       "\t\t<td>-0.7698435965168361</td>\n",
       "\t\t<td>-0.4189881470547555</td>\n",
       "\t</tr>\n",
       "\t<tr>\n",
       "\t\t<td>12</td>\n",
       "\t\t<td>0</td>\n",
       "\t\t<td>-0.7472306490935033</td>\n",
       "\t\t<td>-0.9369572188914362</td>\n",
       "\t\t<td>-0.7495794355090504</td>\n",
       "\t\t<td>-0.6139886753009696</td>\n",
       "\t\t<td>-0.6551319255538941</td>\n",
       "\t</tr>\n",
       "</table></html>"
      ],
      "text/plain": [
       "   id  Weight  r_Length1  r_Length2  r_Length3  r_Height   r_Width\n",
       "0  18     450   0.108516   0.222824   0.306443  1.135737  0.219679\n",
       "1  45     270  -0.289506  -0.265505  -0.243032 -0.171265 -0.129847\n",
       "2   8     140  -0.747231  -0.912541  -0.715237 -0.134735 -0.688666\n",
       "3  16       5  -1.891543  -2.414152  -1.951557 -1.627894 -1.794578\n",
       "4  40     110  -0.647725  -0.753834  -0.689481 -0.835374 -0.277935\n",
       "5  48     265  -0.110396  -0.082381  -0.225861 -0.480047 -0.078608\n",
       "6  28     169  -0.448714  -0.509669  -0.371815 -0.367855 -0.371619\n",
       "7  36     180  -0.289506  -0.363171  -0.311716 -0.471914 -0.330112\n",
       "8  20     150  -0.607923  -0.753834  -0.586454 -0.769844 -0.418988\n",
       "9  12       0  -0.747231  -0.936957  -0.749579 -0.613989 -0.655132"
      ]
     },
     "metadata": {},
     "output_type": "display_data"
    },
    {
     "name": "stdout",
     "output_type": "stream",
     "text": [
      "                                                                                                  \r"
     ]
    },
    {
     "data": {
      "text/html": [
       "32 rows X 7 columns"
      ],
      "text/plain": [
       "<IPython.core.display.HTML object>"
      ]
     },
     "metadata": {},
     "output_type": "display_data"
    },
    {
     "name": "stdout",
     "output_type": "stream",
     "text": [
      "                                                                                                  \r"
     ]
    },
    {
     "data": {
      "text/html": [
       "\n",
       "Updated dataset after performing scaling for PCA feature selection :"
      ],
      "text/plain": [
       "<IPython.core.display.HTML object>"
      ]
     },
     "metadata": {},
     "output_type": "display_data"
    },
    {
     "data": {
      "text/html": [
       "<style type=\"text/css\">\n",
       "\ttable {border:ridge 5px;}\n",
       "\ttable td {border:inset 1px;}\n",
       "\ttable tr#HeaderRow {background-color:grey; color:white;}</style>\n",
       "<html><table>\n",
       "\t<tr id=\"HeaderRow\">\n",
       "\t\t<th>Species_4</th>\n",
       "\t\t<th>Weight</th>\n",
       "\t\t<th>id</th>\n",
       "\t\t<th>Species_6</th>\n",
       "\t\t<th>Species_1</th>\n",
       "\t\t<th>Species_3</th>\n",
       "\t\t<th>Species_2</th>\n",
       "\t\t<th>Species_5</th>\n",
       "\t\t<th>Species_0</th>\n",
       "\t\t<th>Length1</th>\n",
       "\t\t<th>Length2</th>\n",
       "\t\t<th>Length3</th>\n",
       "\t\t<th>Height</th>\n",
       "\t\t<th>Width</th>\n",
       "\t</tr>\n",
       "\t<tr>\n",
       "\t\t<td>1</td>\n",
       "\t\t<td>150</td>\n",
       "\t\t<td>20</td>\n",
       "\t\t<td>0</td>\n",
       "\t\t<td>0</td>\n",
       "\t\t<td>0</td>\n",
       "\t\t<td>0</td>\n",
       "\t\t<td>0</td>\n",
       "\t\t<td>0</td>\n",
       "\t\t<td>-0.6079231001694972</td>\n",
       "\t\t<td>-0.7538338473937268</td>\n",
       "\t\t<td>-0.5864539685282301</td>\n",
       "\t\t<td>-0.7698435965168356</td>\n",
       "\t\t<td>-0.4189881470547559</td>\n",
       "\t</tr>\n",
       "\t<tr>\n",
       "\t\t<td>0</td>\n",
       "\t\t<td>685</td>\n",
       "\t\t<td>50</td>\n",
       "\t\t<td>0</td>\n",
       "\t\t<td>0</td>\n",
       "\t\t<td>0</td>\n",
       "\t\t<td>0</td>\n",
       "\t\t<td>0</td>\n",
       "\t\t<td>1</td>\n",
       "\t\t<td>0.48663621280483943</td>\n",
       "\t\t<td>0.7111531245879605</td>\n",
       "\t\t<td>0.6584509110622431</td>\n",
       "\t\t<td>1.5978638401323149</td>\n",
       "\t\t<td>0.5284009940937242</td>\n",
       "\t</tr>\n",
       "\t<tr>\n",
       "\t\t<td>0</td>\n",
       "\t\t<td>700</td>\n",
       "\t\t<td>34</td>\n",
       "\t\t<td>0</td>\n",
       "\t\t<td>0</td>\n",
       "\t\t<td>0</td>\n",
       "\t\t<td>0</td>\n",
       "\t\t<td>0</td>\n",
       "\t\t<td>1</td>\n",
       "\t\t<td>0.38713082071626337</td>\n",
       "\t\t<td>0.5890708769228199</td>\n",
       "\t\t<td>0.5983520548061511</td>\n",
       "\t\t<td>1.3525672025365663</td>\n",
       "\t\t<td>0.4270373910587165</td>\n",
       "\t</tr>\n",
       "\t<tr>\n",
       "\t\t<td>0</td>\n",
       "\t\t<td>450</td>\n",
       "\t\t<td>18</td>\n",
       "\t\t<td>0</td>\n",
       "\t\t<td>0</td>\n",
       "\t\t<td>0</td>\n",
       "\t\t<td>0</td>\n",
       "\t\t<td>0</td>\n",
       "\t\t<td>1</td>\n",
       "\t\t<td>0.1085157228682507</td>\n",
       "\t\t<td>0.2228241339273981</td>\n",
       "\t\t<td>0.30644332441941957</td>\n",
       "\t\t<td>1.1357366866777243</td>\n",
       "\t\t<td>0.2196787653011563</td>\n",
       "\t</tr>\n",
       "\t<tr>\n",
       "\t\t<td>0</td>\n",
       "\t\t<td>270</td>\n",
       "\t\t<td>45</td>\n",
       "\t\t<td>1</td>\n",
       "\t\t<td>0</td>\n",
       "\t\t<td>0</td>\n",
       "\t\t<td>0</td>\n",
       "\t\t<td>0</td>\n",
       "\t\t<td>0</td>\n",
       "\t\t<td>-0.28950584548605357</td>\n",
       "\t\t<td>-0.2655048567331643</td>\n",
       "\t\t<td>-0.2430319327791341</td>\n",
       "\t\t<td>-0.17126495992827082</td>\n",
       "\t\t<td>-0.1298468571943409</td>\n",
       "\t</tr>\n",
       "\t<tr>\n",
       "\t\t<td>0</td>\n",
       "\t\t<td>140</td>\n",
       "\t\t<td>8</td>\n",
       "\t\t<td>0</td>\n",
       "\t\t<td>1</td>\n",
       "\t\t<td>0</td>\n",
       "\t\t<td>0</td>\n",
       "\t\t<td>0</td>\n",
       "\t\t<td>0</td>\n",
       "\t\t<td>-0.7472306490935036</td>\n",
       "\t\t<td>-0.9125407693584097</td>\n",
       "\t\t<td>-0.715237231934141</td>\n",
       "\t\t<td>-0.13473537350343984</td>\n",
       "\t\t<td>-0.688665749114348</td>\n",
       "\t</tr>\n",
       "\t<tr>\n",
       "\t\t<td>0</td>\n",
       "\t\t<td>5</td>\n",
       "\t\t<td>16</td>\n",
       "\t\t<td>0</td>\n",
       "\t\t<td>0</td>\n",
       "\t\t<td>0</td>\n",
       "\t\t<td>1</td>\n",
       "\t\t<td>0</td>\n",
       "\t\t<td>0</td>\n",
       "\t\t<td>-1.8915426581121284</td>\n",
       "\t\t<td>-2.414152415639639</td>\n",
       "\t\t<td>-1.9515565606308862</td>\n",
       "\t\t<td>-1.6278938374436092</td>\n",
       "\t\t<td>-1.7945784198213361</td>\n",
       "\t</tr>\n",
       "\t<tr>\n",
       "\t\t<td>0</td>\n",
       "\t\t<td>135</td>\n",
       "\t\t<td>32</td>\n",
       "\t\t<td>0</td>\n",
       "\t\t<td>0</td>\n",
       "\t\t<td>0</td>\n",
       "\t\t<td>1</td>\n",
       "\t\t<td>0</td>\n",
       "\t\t<td>0</td>\n",
       "\t\t<td>-0.6477252570049276</td>\n",
       "\t\t<td>-0.7538338473937268</td>\n",
       "\t\t<td>-0.6894805792529587</td>\n",
       "\t\t<td>-0.7534610529866157</td>\n",
       "\t\t<td>-0.5534751946905612</td>\n",
       "\t</tr>\n",
       "\t<tr>\n",
       "\t\t<td>0</td>\n",
       "\t\t<td>110</td>\n",
       "\t\t<td>40</td>\n",
       "\t\t<td>0</td>\n",
       "\t\t<td>0</td>\n",
       "\t\t<td>0</td>\n",
       "\t\t<td>1</td>\n",
       "\t\t<td>0</td>\n",
       "\t\t<td>0</td>\n",
       "\t\t<td>-0.6477252570049276</td>\n",
       "\t\t<td>-0.7538338473937268</td>\n",
       "\t\t<td>-0.6894805792529587</td>\n",
       "\t\t<td>-0.8353737706377159</td>\n",
       "\t\t<td>-0.27793503606445613</td>\n",
       "\t</tr>\n",
       "\t<tr>\n",
       "\t\t<td>0</td>\n",
       "\t\t<td>265</td>\n",
       "\t\t<td>48</td>\n",
       "\t\t<td>0</td>\n",
       "\t\t<td>0</td>\n",
       "\t\t<td>0</td>\n",
       "\t\t<td>1</td>\n",
       "\t\t<td>0</td>\n",
       "\t\t<td>0</td>\n",
       "\t\t<td>-0.11039613972661692</td>\n",
       "\t\t<td>-0.08238148523545342</td>\n",
       "\t\t<td>-0.22586083099167936</td>\n",
       "\t\t<td>-0.48004685840992195</td>\n",
       "\t\t<td>-0.07860811280301856</td>\n",
       "\t</tr>\n",
       "</table></html>"
      ],
      "text/plain": [
       "   Species_4  Weight  id  Species_6  Species_1  Species_3  Species_2  Species_5  Species_0   Length1   Length2   Length3    Height     Width\n",
       "0          1     150  20          0          0          0          0          0          0 -0.607923 -0.753834 -0.586454 -0.769844 -0.418988\n",
       "1          0     685  50          0          0          0          0          0          1  0.486636  0.711153  0.658451  1.597864  0.528401\n",
       "2          0     700  34          0          0          0          0          0          1  0.387131  0.589071  0.598352  1.352567  0.427037\n",
       "3          0     450  18          0          0          0          0          0          1  0.108516  0.222824  0.306443  1.135737  0.219679\n",
       "4          0     270  45          1          0          0          0          0          0 -0.289506 -0.265505 -0.243032 -0.171265 -0.129847\n",
       "5          0     140   8          0          1          0          0          0          0 -0.747231 -0.912541 -0.715237 -0.134735 -0.688666\n",
       "6          0       5  16          0          0          0          1          0          0 -1.891543 -2.414152 -1.951557 -1.627894 -1.794578\n",
       "7          0     135  32          0          0          0          1          0          0 -0.647725 -0.753834 -0.689481 -0.753461 -0.553475\n",
       "8          0     110  40          0          0          0          1          0          0 -0.647725 -0.753834 -0.689481 -0.835374 -0.277935\n",
       "9          0     265  48          0          0          0          1          0          0 -0.110396 -0.082381 -0.225861 -0.480047 -0.078608"
      ]
     },
     "metadata": {},
     "output_type": "display_data"
    },
    {
     "name": "stdout",
     "output_type": "stream",
     "text": [
      "                                                                                                  \r"
     ]
    },
    {
     "data": {
      "text/html": [
       "32 rows X 14 columns"
      ],
      "text/plain": [
       "<IPython.core.display.HTML object>"
      ]
     },
     "metadata": {},
     "output_type": "display_data"
    },
    {
     "name": "stdout",
     "output_type": "stream",
     "text": [
      "                                                                                                  \r"
     ]
    },
    {
     "name": "stderr",
     "output_type": "stream",
     "text": [
      "C:\\ProgramData\\anaconda3\\lib\\site-packages\\sklearn\\base.py:450: UserWarning: X does not have valid feature names, but PCA was fitted with feature names\n",
      "  warnings.warn(\n"
     ]
    },
    {
     "data": {
      "text/html": [
       "\n",
       "Updated dataset after performing PCA feature selection :"
      ],
      "text/plain": [
       "<IPython.core.display.HTML object>"
      ]
     },
     "metadata": {},
     "output_type": "display_data"
    },
    {
     "data": {
      "text/html": [
       "<div>\n",
       "<style scoped>\n",
       "    .dataframe tbody tr th:only-of-type {\n",
       "        vertical-align: middle;\n",
       "    }\n",
       "\n",
       "    .dataframe tbody tr th {\n",
       "        vertical-align: top;\n",
       "    }\n",
       "\n",
       "    .dataframe thead th {\n",
       "        text-align: right;\n",
       "    }\n",
       "</style>\n",
       "<table border=\"1\" class=\"dataframe\">\n",
       "  <thead>\n",
       "    <tr style=\"text-align: right;\">\n",
       "      <th></th>\n",
       "      <th>id</th>\n",
       "      <th>col_0</th>\n",
       "      <th>col_1</th>\n",
       "      <th>col_2</th>\n",
       "      <th>col_3</th>\n",
       "      <th>col_4</th>\n",
       "      <th>Weight</th>\n",
       "    </tr>\n",
       "  </thead>\n",
       "  <tbody>\n",
       "    <tr>\n",
       "      <th>0</th>\n",
       "      <td>28</td>\n",
       "      <td>-0.966154</td>\n",
       "      <td>-0.023743</td>\n",
       "      <td>0.311887</td>\n",
       "      <td>-0.076674</td>\n",
       "      <td>0.858022</td>\n",
       "      <td>169</td>\n",
       "    </tr>\n",
       "    <tr>\n",
       "      <th>1</th>\n",
       "      <td>50</td>\n",
       "      <td>1.797574</td>\n",
       "      <td>-1.160221</td>\n",
       "      <td>0.296419</td>\n",
       "      <td>0.179505</td>\n",
       "      <td>-0.183470</td>\n",
       "      <td>685</td>\n",
       "    </tr>\n",
       "    <tr>\n",
       "      <th>2</th>\n",
       "      <td>36</td>\n",
       "      <td>-0.825958</td>\n",
       "      <td>0.130706</td>\n",
       "      <td>0.282435</td>\n",
       "      <td>0.012732</td>\n",
       "      <td>0.871660</td>\n",
       "      <td>180</td>\n",
       "    </tr>\n",
       "    <tr>\n",
       "      <th>3</th>\n",
       "      <td>34</td>\n",
       "      <td>1.526329</td>\n",
       "      <td>-1.043784</td>\n",
       "      <td>0.314463</td>\n",
       "      <td>0.181247</td>\n",
       "      <td>-0.187801</td>\n",
       "      <td>700</td>\n",
       "    </tr>\n",
       "    <tr>\n",
       "      <th>4</th>\n",
       "      <td>20</td>\n",
       "      <td>-1.426826</td>\n",
       "      <td>0.138878</td>\n",
       "      <td>0.290921</td>\n",
       "      <td>-0.146745</td>\n",
       "      <td>0.891507</td>\n",
       "      <td>150</td>\n",
       "    </tr>\n",
       "    <tr>\n",
       "      <th>5</th>\n",
       "      <td>18</td>\n",
       "      <td>0.923833</td>\n",
       "      <td>-1.081844</td>\n",
       "      <td>0.356942</td>\n",
       "      <td>0.072241</td>\n",
       "      <td>-0.208791</td>\n",
       "      <td>450</td>\n",
       "    </tr>\n",
       "    <tr>\n",
       "      <th>6</th>\n",
       "      <td>12</td>\n",
       "      <td>-1.690823</td>\n",
       "      <td>-0.072177</td>\n",
       "      <td>0.368335</td>\n",
       "      <td>-0.188078</td>\n",
       "      <td>0.821945</td>\n",
       "      <td>0</td>\n",
       "    </tr>\n",
       "    <tr>\n",
       "      <th>7</th>\n",
       "      <td>10</td>\n",
       "      <td>0.221417</td>\n",
       "      <td>-1.054825</td>\n",
       "      <td>0.338223</td>\n",
       "      <td>-0.094636</td>\n",
       "      <td>-0.173012</td>\n",
       "      <td>340</td>\n",
       "    </tr>\n",
       "    <tr>\n",
       "      <th>8</th>\n",
       "      <td>45</td>\n",
       "      <td>-0.488438</td>\n",
       "      <td>-0.060379</td>\n",
       "      <td>0.103852</td>\n",
       "      <td>0.029935</td>\n",
       "      <td>0.208920</td>\n",
       "      <td>270</td>\n",
       "    </tr>\n",
       "    <tr>\n",
       "      <th>9</th>\n",
       "      <td>8</td>\n",
       "      <td>-1.474065</td>\n",
       "      <td>-0.477520</td>\n",
       "      <td>0.401409</td>\n",
       "      <td>-0.245030</td>\n",
       "      <td>-0.125415</td>\n",
       "      <td>140</td>\n",
       "    </tr>\n",
       "  </tbody>\n",
       "</table>\n",
       "</div>"
      ],
      "text/plain": [
       "   id     col_0     col_1     col_2     col_3     col_4  Weight\n",
       "0  28 -0.966154 -0.023743  0.311887 -0.076674  0.858022     169\n",
       "1  50  1.797574 -1.160221  0.296419  0.179505 -0.183470     685\n",
       "2  36 -0.825958  0.130706  0.282435  0.012732  0.871660     180\n",
       "3  34  1.526329 -1.043784  0.314463  0.181247 -0.187801     700\n",
       "4  20 -1.426826  0.138878  0.290921 -0.146745  0.891507     150\n",
       "5  18  0.923833 -1.081844  0.356942  0.072241 -0.208791     450\n",
       "6  12 -1.690823 -0.072177  0.368335 -0.188078  0.821945       0\n",
       "7  10  0.221417 -1.054825  0.338223 -0.094636 -0.173012     340\n",
       "8  45 -0.488438 -0.060379  0.103852  0.029935  0.208920     270\n",
       "9   8 -1.474065 -0.477520  0.401409 -0.245030 -0.125415     140"
      ]
     },
     "metadata": {},
     "output_type": "display_data"
    },
    {
     "name": "stdout",
     "output_type": "stream",
     "text": [
      "                                                                                                  \r"
     ]
    },
    {
     "data": {
      "text/html": [
       "10 rows X 7 columns"
      ],
      "text/plain": [
       "<IPython.core.display.HTML object>"
      ]
     },
     "metadata": {},
     "output_type": "display_data"
    },
    {
     "name": "stdout",
     "output_type": "stream",
     "text": [
      "Data Transformation completed.⫿⫿⫿⫿⫿⫿⫿⫿⫿⫿⫿⫿⫿⫿⫿⫿⫿⫿⫿⫿⫿⫿⫿⫿⫿⫿⫿⫿⫿⫿⫿⫿⫿⫿⫿⫿⫿⫿⫿⫿⫿⫿｜ 100% - 15/15            \n",
      "\n",
      "Following model is being picked for evaluation:\n",
      "Model ID : KNN_8 \n",
      "Feature Selection Method : pca\n",
      "\n",
      "Prediction : \n",
      "   id  prediction  Weight\n",
      "0  13  309.282721     300\n",
      "1  12  115.626094       0\n",
      "2  29  853.623062    1250\n",
      "3  21  501.343300     456\n",
      "4  48  257.914360     265\n",
      "5  50  603.206770     685\n",
      "6  37  491.956818     540\n",
      "7  40  132.234911     110\n",
      "8  10  296.860559     340\n",
      "9  15   12.342444       7\n"
     ]
    }
   ],
   "source": [
    "# Generating prediction on test data\n",
    "prediction = aml.predict(fish_df_test)"
   ]
  },
  {
   "cell_type": "code",
   "execution_count": 23,
   "id": "cc4f6a78-1cdf-4938-a9f1-22035d8404ca",
   "metadata": {},
   "outputs": [
    {
     "data": {
      "text/html": [
       "<style type=\"text/css\">\n",
       "\ttable {border:ridge 5px;}\n",
       "\ttable td {border:inset 1px;}\n",
       "\ttable tr#HeaderRow {background-color:grey; color:white;}</style>\n",
       "<html><table>\n",
       "\t<tr id=\"HeaderRow\">\n",
       "\t\t<th>id</th>\n",
       "\t\t<th>prediction</th>\n",
       "\t\t<th>Weight</th>\n",
       "\t</tr>\n",
       "\t<tr>\n",
       "\t\t<td>12</td>\n",
       "\t\t<td>115.62609383634715</td>\n",
       "\t\t<td>0</td>\n",
       "\t</tr>\n",
       "\t<tr>\n",
       "\t\t<td>15</td>\n",
       "\t\t<td>12.342444330028243</td>\n",
       "\t\t<td>7</td>\n",
       "\t</tr>\n",
       "\t<tr>\n",
       "\t\t<td>16</td>\n",
       "\t\t<td>19.8935701823831</td>\n",
       "\t\t<td>5</td>\n",
       "\t</tr>\n",
       "\t<tr>\n",
       "\t\t<td>18</td>\n",
       "\t\t<td>476.498699036853</td>\n",
       "\t\t<td>450</td>\n",
       "\t</tr>\n",
       "\t<tr>\n",
       "\t\t<td>21</td>\n",
       "\t\t<td>501.34329966418284</td>\n",
       "\t\t<td>456</td>\n",
       "\t</tr>\n",
       "\t<tr>\n",
       "\t\t<td>23</td>\n",
       "\t\t<td>12.350546646339101</td>\n",
       "\t\t<td>9</td>\n",
       "\t</tr>\n",
       "\t<tr>\n",
       "\t\t<td>20</td>\n",
       "\t\t<td>144.02546336773403</td>\n",
       "\t\t<td>150</td>\n",
       "\t</tr>\n",
       "\t<tr>\n",
       "\t\t<td>13</td>\n",
       "\t\t<td>309.28272061789175</td>\n",
       "\t\t<td>300</td>\n",
       "\t</tr>\n",
       "\t<tr>\n",
       "\t\t<td>10</td>\n",
       "\t\t<td>296.8605593733608</td>\n",
       "\t\t<td>340</td>\n",
       "\t</tr>\n",
       "\t<tr>\n",
       "\t\t<td>8</td>\n",
       "\t\t<td>155.1896577751607</td>\n",
       "\t\t<td>140</td>\n",
       "\t</tr>\n",
       "</table></html>"
      ],
      "text/plain": [
       "   id  prediction  Weight\n",
       "0  12  115.626094       0\n",
       "1  15   12.342444       7\n",
       "2  16   19.893570       5\n",
       "3  18  476.498699     450\n",
       "4  21  501.343300     456\n",
       "5  23   12.350547       9\n",
       "6  20  144.025463     150\n",
       "7  13  309.282721     300\n",
       "8  10  296.860559     340\n",
       "9   8  155.189658     140"
      ]
     },
     "execution_count": 23,
     "metadata": {},
     "output_type": "execute_result"
    }
   ],
   "source": [
    "# Printing prediction\n",
    "prediction.head()"
   ]
  },
  {
   "cell_type": "code",
   "execution_count": 24,
   "id": "65fe8fec-7e58-4e1d-8a9c-427f985ca852",
   "metadata": {},
   "outputs": [
    {
     "name": "stdout",
     "output_type": "stream",
     "text": [
      "\n",
      "Skipping data transformation as data is already transformed.\n",
      "\n",
      "Following model is being picked for evaluation:\n",
      "Model ID : KNN_8 \n",
      "Feature Selection Method : pca\n",
      "\n",
      "Performance Metrics : \n",
      "         MAE          MSE     MSLE  MAPE  MPE       RMSE     RMSLE          ME        R2        EV  MPD  MGD\n",
      "0  42.690328  6893.309268  0.07568   inf -inf  83.025955  0.275101  396.376938  0.929835  0.932756  NaN  inf\n"
     ]
    }
   ],
   "source": [
    "# Fetching performance metrics on test data\n",
    "performance_metrics = aml.evaluate(fish_df_test)"
   ]
  },
  {
   "cell_type": "code",
   "execution_count": 25,
   "id": "b34ae26b-e67c-46d2-b854-cab2b8af44fb",
   "metadata": {},
   "outputs": [
    {
     "data": {
      "text/html": [
       "<style type=\"text/css\">\n",
       "\ttable {border:ridge 5px;}\n",
       "\ttable td {border:inset 1px;}\n",
       "\ttable tr#HeaderRow {background-color:grey; color:white;}</style>\n",
       "<html><table>\n",
       "\t<tr id=\"HeaderRow\">\n",
       "\t\t<th>MAE</th>\n",
       "\t\t<th>MSE</th>\n",
       "\t\t<th>MSLE</th>\n",
       "\t\t<th>MAPE</th>\n",
       "\t\t<th>MPE</th>\n",
       "\t\t<th>RMSE</th>\n",
       "\t\t<th>RMSLE</th>\n",
       "\t\t<th>ME</th>\n",
       "\t\t<th>R2</th>\n",
       "\t\t<th>EV</th>\n",
       "\t\t<th>MPD</th>\n",
       "\t\t<th>MGD</th>\n",
       "\t</tr>\n",
       "\t<tr>\n",
       "\t\t<td>42.69032843595683</td>\n",
       "\t\t<td>6893.309267675886</td>\n",
       "\t\t<td>0.07568047510247504</td>\n",
       "\t\t<td>inf</td>\n",
       "\t\t<td>-inf</td>\n",
       "\t\t<td>83.02595538550511</td>\n",
       "\t\t<td>0.27510084533217094</td>\n",
       "\t\t<td>396.3769377671799</td>\n",
       "\t\t<td>0.9298352417345963</td>\n",
       "\t\t<td>0.9327560418486379</td>\n",
       "\t\t<td>nan</td>\n",
       "\t\t<td>inf</td>\n",
       "\t</tr>\n",
       "</table></html>"
      ],
      "text/plain": [
       "         MAE          MSE     MSLE  MAPE  MPE       RMSE     RMSLE          ME        R2        EV  MPD  MGD\n",
       "0  42.690328  6893.309268  0.07568   inf -inf  83.025955  0.275101  396.376938  0.929835  0.932756  NaN  inf"
      ]
     },
     "execution_count": 25,
     "metadata": {},
     "output_type": "execute_result"
    }
   ],
   "source": [
    "performance_metrics"
   ]
  },
  {
   "cell_type": "code",
   "execution_count": 26,
   "id": "b2cba357-75ac-4089-a234-64a57067b117",
   "metadata": {},
   "outputs": [
    {
     "data": {
      "text/plain": [
       "True"
      ]
     },
     "execution_count": 26,
     "metadata": {},
     "output_type": "execute_result"
    }
   ],
   "source": [
    "remove_context()"
   ]
  }
 ],
 "metadata": {
  "kernelspec": {
   "display_name": "Python 3 (ipykernel)",
   "language": "python",
   "name": "python3"
  },
  "language_info": {
   "codemirror_mode": {
    "name": "ipython",
    "version": 3
   },
   "file_extension": ".py",
   "mimetype": "text/x-python",
   "name": "python",
   "nbconvert_exporter": "python",
   "pygments_lexer": "ipython3",
   "version": "3.10.9"
  }
 },
 "nbformat": 4,
 "nbformat_minor": 5
}
