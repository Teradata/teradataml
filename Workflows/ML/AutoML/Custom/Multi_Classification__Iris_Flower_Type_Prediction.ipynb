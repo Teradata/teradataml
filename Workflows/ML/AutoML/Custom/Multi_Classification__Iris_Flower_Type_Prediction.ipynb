{
 "cells": [
  {
   "cell_type": "markdown",
   "id": "2762f1d8-5a66-411f-a625-34cf16ac6dd3",
   "metadata": {},
   "source": [
    "# <b><span style='color:#F1A424'>AutoML - Multi-Class Classification - Iris Flower Type Prediction  </span> </b>"
   ]
  },
  {
   "cell_type": "markdown",
   "id": "f299da24-e4d4-46c4-9529-b440d75bb0bd",
   "metadata": {},
   "source": [
    "### Disclaimer\n",
    "Please note, the Vantage Functions via SQLAlchemy feature is a preview/beta code release with limited functionality (the “Code”). As such, you acknowledge that the Code is experimental in nature and that the Code is provided “AS IS” and may not be functional on any machine or in any environment. TERADATA DISCLAIMS ALL WARRANTIES RELATING TO THE CODE, EXPRESS OR IMPLIED, INCLUDING, BUT NOT LIMITED TO, ANY WARRANTIES AGAINST INFRINGEMENT OF THIRD-PARTY RIGHTS, MERCHANTABILITY AND FITNESS FOR A PARTICULAR PURPOSE.\n",
    "\n",
    "TERADATA SHALL NOT BE RESPONSIBLE OR LIABLE WITH RESPECT TO ANY SUBJECT MATTER OF THE CODE UNDER ANY CONTRACT, NEGLIGENCE, STRICT LIABILITY OR OTHER THEORY \n",
    "    (A) FOR LOSS OR INACCURACY OF DATA OR COST OF PROCUREMENT OF SUBSTITUTE GOODS, SERVICES OR TECHNOLOGY, OR \n",
    "    (B) FOR ANY INDIRECT, INCIDENTAL OR CONSEQUENTIAL DAMAGES INCLUDING, BUT NOT LIMITED TO LOSS OF REVENUES AND LOSS OF PROFITS. TERADATA SHALL NOT BE RESPONSIBLE FOR ANY MATTER BEYOND ITS REASONABLE CONTROL.\n",
    "\n",
    "Notwithstanding anything to the contrary: \n",
    "    (a) Teradata will have no obligation of any kind with respect to any Code-related comments, suggestions, design changes or improvements that you elect to provide to Teradata in either verbal or written form (collectively, “Feedback”), and \n",
    "    (b) Teradata and its affiliates are hereby free to use any ideas, concepts, know-how or techniques, in whole or in part, contained in Feedback: \n",
    "        (i) for any purpose whatsoever, including developing, manufacturing, and/or marketing products and/or services incorporating Feedback in whole or in part, and \n",
    "        (ii) without any restrictions or limitations, including requiring the payment of any license fees, royalties, or other consideration. "
   ]
  },
  {
   "cell_type": "markdown",
   "id": "f225fb94-b2c8-4c92-af38-733d08e0e2a1",
   "metadata": {},
   "source": [
    "## <b> Problem overview:</b>\n",
    "    "
   ]
  },
  {
   "cell_type": "markdown",
   "id": "af9813eb-9c44-4968-a5fe-d1c74415c894",
   "metadata": {},
   "source": [
    "\n",
    "The Iris dataset is a classic dataset in the field of machine learning and statistics.It contains measurements of various features of iris flowers, making it a quintessential dataset for practicing classification algorithms and statistical analysis.\n",
    "\n",
    "Here are some key details about the Iris dataset:\n",
    "\n",
    "**Features**:\n",
    "\n",
    "- `Sepal Length (cm)`: Measurement of the length of the outermost petal parts (sepals).\n",
    "- `Sepal Width (cm)`: Measurement of the width of the sepals.\n",
    "- `Petal Length (cm)`: Measurement of the length of the innermost petal parts (petals).\n",
    "- `Petal Width (cm)`: Measurement of the width of the petals.\n",
    "\n",
    "**Target Variable**:\n",
    "\n",
    "- `Species`: The species of iris flowers. It includes three classes: `Setosa`, `Versicolor` and `Virginica`.\n",
    "\n",
    "        \n",
    "**Objective**:\n",
    "\n",
    "The primary objective is typically to build a model that can accurately classify iris flowers into one of the three species based on the provided features.\n",
    "\n",
    "**Challenges**:\n",
    "\n",
    "- The dataset consists of 150 instances, with 50 instances for each of the three classes.\n",
    "\n",
    "**Usecase**:\n",
    "Here, we will use AutoML(Automated Machine Learning) functionality to automate the entire process of developing a predictive model. It will perform feature exploration, feature engineering, data preparation, model training and evaluation on dataset in custom run and at end we will get leaderboard containined different models along with their performance. Model will also have rank associated with them which indicates which is best performing model for given data followed by other models.\n",
    "\n",
    "As part of custom AutoML run, we will customize below functionalities:\n",
    "- Train test split with training size 0.85.\n",
    "- Data imbalance handling with 'SMOTE' method.\n",
    "- Feature scaling with 'range' method.\n",
    "- Addition of customized value in hyperparameter 'max_depth' for 'xgboost' model."
   ]
  },
  {
   "cell_type": "code",
   "execution_count": 1,
   "id": "66568348-4d00-477c-a071-17995f797c95",
   "metadata": {},
   "outputs": [],
   "source": [
    "# Importing AutoML from teradataml\n",
    "from teradataml import AutoML, AutoClassifier"
   ]
  },
  {
   "cell_type": "code",
   "execution_count": 2,
   "id": "17dfae70-0401-4cc4-ba1c-400a5cf62451",
   "metadata": {},
   "outputs": [],
   "source": [
    "# Importing other important libraries\n",
    "import getpass\n",
    "from teradataml import create_context, remove_context\n",
    "from teradataml import DataFrame\n",
    "from teradataml import load_example_data\n",
    "from teradataml import TrainTestSplit"
   ]
  },
  {
   "cell_type": "code",
   "execution_count": 3,
   "id": "cadd9ed2-42d6-4899-b23e-4e2cf601162f",
   "metadata": {},
   "outputs": [
    {
     "name": "stdin",
     "output_type": "stream",
     "text": [
      "Host:  ········\n",
      "Username:  ········\n",
      "Password:  ········\n"
     ]
    }
   ],
   "source": [
    "# Create the connection.\n",
    "host = getpass.getpass(\"Host: \")\n",
    "username = getpass.getpass(\"Username: \")\n",
    "password = getpass.getpass(\"Password: \")\n",
    "\n",
    "con = create_context(host=host, username=username, password=password)"
   ]
  },
  {
   "cell_type": "markdown",
   "id": "be767a89-d5b8-4876-91cb-36980754586e",
   "metadata": {},
   "source": [
    "## <b><span style='color:#F1A424'>| 1.</span> Loading Dataset </b>"
   ]
  },
  {
   "cell_type": "code",
   "execution_count": 4,
   "id": "f1592c52-b247-4792-be2a-30b49bbeb9b6",
   "metadata": {},
   "outputs": [],
   "source": [
    "# Loading dataset from example data collection\n",
    "load_example_data(\"teradataml\", \"iris_input\")"
   ]
  },
  {
   "cell_type": "code",
   "execution_count": 5,
   "id": "3846ae0f-004b-4b8e-9fea-06fac4294065",
   "metadata": {},
   "outputs": [],
   "source": [
    "# Fetching in teradata dataframe\n",
    "iris = DataFrame.from_table(\"iris_input\")"
   ]
  },
  {
   "cell_type": "code",
   "execution_count": 6,
   "id": "442ccd80-b444-413e-970d-d855ec3d6cae",
   "metadata": {},
   "outputs": [
    {
     "data": {
      "text/html": [
       "<style type=\"text/css\">\n",
       "\ttable {border:ridge 5px;}\n",
       "\ttable td {border:inset 1px;}\n",
       "\ttable tr#HeaderRow {background-color:grey; color:white;}</style>\n",
       "<html><table>\n",
       "\t<tr id=\"HeaderRow\">\n",
       "\t\t<th>id</th>\n",
       "\t\t<th>sepal_length</th>\n",
       "\t\t<th>sepal_width</th>\n",
       "\t\t<th>petal_length</th>\n",
       "\t\t<th>petal_width</th>\n",
       "\t\t<th>species</th>\n",
       "\t</tr>\n",
       "\t<tr>\n",
       "\t\t<td>3</td>\n",
       "\t\t<td>4.7</td>\n",
       "\t\t<td>3.2</td>\n",
       "\t\t<td>1.3</td>\n",
       "\t\t<td>0.2</td>\n",
       "\t\t<td>1</td>\n",
       "\t</tr>\n",
       "\t<tr>\n",
       "\t\t<td>5</td>\n",
       "\t\t<td>5.0</td>\n",
       "\t\t<td>3.6</td>\n",
       "\t\t<td>1.4</td>\n",
       "\t\t<td>0.2</td>\n",
       "\t\t<td>1</td>\n",
       "\t</tr>\n",
       "\t<tr>\n",
       "\t\t<td>6</td>\n",
       "\t\t<td>5.4</td>\n",
       "\t\t<td>3.9</td>\n",
       "\t\t<td>1.7</td>\n",
       "\t\t<td>0.4</td>\n",
       "\t\t<td>1</td>\n",
       "\t</tr>\n",
       "\t<tr>\n",
       "\t\t<td>7</td>\n",
       "\t\t<td>4.6</td>\n",
       "\t\t<td>3.4</td>\n",
       "\t\t<td>1.4</td>\n",
       "\t\t<td>0.3</td>\n",
       "\t\t<td>1</td>\n",
       "\t</tr>\n",
       "\t<tr>\n",
       "\t\t<td>9</td>\n",
       "\t\t<td>4.4</td>\n",
       "\t\t<td>2.9</td>\n",
       "\t\t<td>1.4</td>\n",
       "\t\t<td>0.2</td>\n",
       "\t\t<td>1</td>\n",
       "\t</tr>\n",
       "\t<tr>\n",
       "\t\t<td>10</td>\n",
       "\t\t<td>4.9</td>\n",
       "\t\t<td>3.1</td>\n",
       "\t\t<td>1.5</td>\n",
       "\t\t<td>0.1</td>\n",
       "\t\t<td>1</td>\n",
       "\t</tr>\n",
       "\t<tr>\n",
       "\t\t<td>8</td>\n",
       "\t\t<td>5.0</td>\n",
       "\t\t<td>3.4</td>\n",
       "\t\t<td>1.5</td>\n",
       "\t\t<td>0.2</td>\n",
       "\t\t<td>1</td>\n",
       "\t</tr>\n",
       "\t<tr>\n",
       "\t\t<td>4</td>\n",
       "\t\t<td>4.6</td>\n",
       "\t\t<td>3.1</td>\n",
       "\t\t<td>1.5</td>\n",
       "\t\t<td>0.2</td>\n",
       "\t\t<td>1</td>\n",
       "\t</tr>\n",
       "\t<tr>\n",
       "\t\t<td>2</td>\n",
       "\t\t<td>4.9</td>\n",
       "\t\t<td>3.0</td>\n",
       "\t\t<td>1.4</td>\n",
       "\t\t<td>0.2</td>\n",
       "\t\t<td>1</td>\n",
       "\t</tr>\n",
       "\t<tr>\n",
       "\t\t<td>1</td>\n",
       "\t\t<td>5.1</td>\n",
       "\t\t<td>3.5</td>\n",
       "\t\t<td>1.4</td>\n",
       "\t\t<td>0.2</td>\n",
       "\t\t<td>1</td>\n",
       "\t</tr>\n",
       "</table></html>"
      ],
      "text/plain": [
       "    sepal_length  sepal_width  petal_length  petal_width  species\n",
       "id                                                               \n",
       "3            4.7          3.2           1.3          0.2        1\n",
       "5            5.0          3.6           1.4          0.2        1\n",
       "6            5.4          3.9           1.7          0.4        1\n",
       "7            4.6          3.4           1.4          0.3        1\n",
       "9            4.4          2.9           1.4          0.2        1\n",
       "10           4.9          3.1           1.5          0.1        1\n",
       "8            5.0          3.4           1.5          0.2        1\n",
       "4            4.6          3.1           1.5          0.2        1\n",
       "2            4.9          3.0           1.4          0.2        1\n",
       "1            5.1          3.5           1.4          0.2        1"
      ]
     },
     "execution_count": 6,
     "metadata": {},
     "output_type": "execute_result"
    }
   ],
   "source": [
    "# first 5 rows\n",
    "iris.head()"
   ]
  },
  {
   "cell_type": "code",
   "execution_count": 7,
   "id": "aa0d253d-40c8-4624-931e-52ea9fca84a4",
   "metadata": {},
   "outputs": [],
   "source": [
    "# Performing sampling to get 80% for trainning and 20% for testing\n",
    "iris_sample = iris.sample(frac = [0.8, 0.2])"
   ]
  },
  {
   "cell_type": "code",
   "execution_count": 8,
   "id": "4378f284-2040-4a6d-aabd-eea06ddbe15e",
   "metadata": {},
   "outputs": [
    {
     "data": {
      "text/html": [
       "<style type=\"text/css\">\n",
       "\ttable {border:ridge 5px;}\n",
       "\ttable td {border:inset 1px;}\n",
       "\ttable tr#HeaderRow {background-color:grey; color:white;}</style>\n",
       "<html><table>\n",
       "\t<tr id=\"HeaderRow\">\n",
       "\t\t<th>id</th>\n",
       "\t\t<th>sepal_length</th>\n",
       "\t\t<th>sepal_width</th>\n",
       "\t\t<th>petal_length</th>\n",
       "\t\t<th>petal_width</th>\n",
       "\t\t<th>species</th>\n",
       "\t\t<th>sampleid</th>\n",
       "\t</tr>\n",
       "\t<tr>\n",
       "\t\t<td>3</td>\n",
       "\t\t<td>4.7</td>\n",
       "\t\t<td>3.2</td>\n",
       "\t\t<td>1.3</td>\n",
       "\t\t<td>0.2</td>\n",
       "\t\t<td>1</td>\n",
       "\t\t<td>1</td>\n",
       "\t</tr>\n",
       "\t<tr>\n",
       "\t\t<td>5</td>\n",
       "\t\t<td>5.0</td>\n",
       "\t\t<td>3.6</td>\n",
       "\t\t<td>1.4</td>\n",
       "\t\t<td>0.2</td>\n",
       "\t\t<td>1</td>\n",
       "\t\t<td>1</td>\n",
       "\t</tr>\n",
       "\t<tr>\n",
       "\t\t<td>6</td>\n",
       "\t\t<td>5.4</td>\n",
       "\t\t<td>3.9</td>\n",
       "\t\t<td>1.7</td>\n",
       "\t\t<td>0.4</td>\n",
       "\t\t<td>1</td>\n",
       "\t\t<td>1</td>\n",
       "\t</tr>\n",
       "\t<tr>\n",
       "\t\t<td>7</td>\n",
       "\t\t<td>4.6</td>\n",
       "\t\t<td>3.4</td>\n",
       "\t\t<td>1.4</td>\n",
       "\t\t<td>0.3</td>\n",
       "\t\t<td>1</td>\n",
       "\t\t<td>1</td>\n",
       "\t</tr>\n",
       "\t<tr>\n",
       "\t\t<td>9</td>\n",
       "\t\t<td>4.4</td>\n",
       "\t\t<td>2.9</td>\n",
       "\t\t<td>1.4</td>\n",
       "\t\t<td>0.2</td>\n",
       "\t\t<td>1</td>\n",
       "\t\t<td>2</td>\n",
       "\t</tr>\n",
       "\t<tr>\n",
       "\t\t<td>10</td>\n",
       "\t\t<td>4.9</td>\n",
       "\t\t<td>3.1</td>\n",
       "\t\t<td>1.5</td>\n",
       "\t\t<td>0.1</td>\n",
       "\t\t<td>1</td>\n",
       "\t\t<td>1</td>\n",
       "\t</tr>\n",
       "\t<tr>\n",
       "\t\t<td>8</td>\n",
       "\t\t<td>5.0</td>\n",
       "\t\t<td>3.4</td>\n",
       "\t\t<td>1.5</td>\n",
       "\t\t<td>0.2</td>\n",
       "\t\t<td>1</td>\n",
       "\t\t<td>1</td>\n",
       "\t</tr>\n",
       "\t<tr>\n",
       "\t\t<td>4</td>\n",
       "\t\t<td>4.6</td>\n",
       "\t\t<td>3.1</td>\n",
       "\t\t<td>1.5</td>\n",
       "\t\t<td>0.2</td>\n",
       "\t\t<td>1</td>\n",
       "\t\t<td>1</td>\n",
       "\t</tr>\n",
       "\t<tr>\n",
       "\t\t<td>2</td>\n",
       "\t\t<td>4.9</td>\n",
       "\t\t<td>3.0</td>\n",
       "\t\t<td>1.4</td>\n",
       "\t\t<td>0.2</td>\n",
       "\t\t<td>1</td>\n",
       "\t\t<td>1</td>\n",
       "\t</tr>\n",
       "\t<tr>\n",
       "\t\t<td>1</td>\n",
       "\t\t<td>5.1</td>\n",
       "\t\t<td>3.5</td>\n",
       "\t\t<td>1.4</td>\n",
       "\t\t<td>0.2</td>\n",
       "\t\t<td>1</td>\n",
       "\t\t<td>1</td>\n",
       "\t</tr>\n",
       "</table></html>"
      ],
      "text/plain": [
       "    sepal_length  sepal_width  petal_length  petal_width  species  sampleid\n",
       "id                                                                         \n",
       "3            4.7          3.2           1.3          0.2        1         1\n",
       "5            5.0          3.6           1.4          0.2        1         1\n",
       "6            5.4          3.9           1.7          0.4        1         1\n",
       "7            4.6          3.4           1.4          0.3        1         1\n",
       "9            4.4          2.9           1.4          0.2        1         2\n",
       "10           4.9          3.1           1.5          0.1        1         1\n",
       "8            5.0          3.4           1.5          0.2        1         1\n",
       "4            4.6          3.1           1.5          0.2        1         1\n",
       "2            4.9          3.0           1.4          0.2        1         1\n",
       "1            5.1          3.5           1.4          0.2        1         1"
      ]
     },
     "execution_count": 8,
     "metadata": {},
     "output_type": "execute_result"
    }
   ],
   "source": [
    "iris_sample.head()"
   ]
  },
  {
   "cell_type": "code",
   "execution_count": 9,
   "id": "8f3c86b7-3bb3-4a2c-8851-e7617ed4f1fe",
   "metadata": {},
   "outputs": [],
   "source": [
    "# Fetching train and test data\n",
    "iris_train= iris_sample[iris_sample['sampleid'] == 1].drop('sampleid', axis=1)\n",
    "iris_test = iris_sample[iris_sample['sampleid'] == 2].drop('sampleid', axis=1)"
   ]
  },
  {
   "cell_type": "code",
   "execution_count": 10,
   "id": "83d72a72-3fac-4862-b374-d21ab59be1a6",
   "metadata": {},
   "outputs": [
    {
     "data": {
      "text/plain": [
       "(120, 6)"
      ]
     },
     "execution_count": 10,
     "metadata": {},
     "output_type": "execute_result"
    }
   ],
   "source": [
    "# train data shape\n",
    "iris_train.shape"
   ]
  },
  {
   "cell_type": "code",
   "execution_count": 11,
   "id": "b22be730-8a7a-40f3-8e2a-cabd8d1f427f",
   "metadata": {},
   "outputs": [
    {
     "data": {
      "text/plain": [
       "(30, 6)"
      ]
     },
     "execution_count": 11,
     "metadata": {},
     "output_type": "execute_result"
    }
   ],
   "source": [
    "# test data shape\n",
    "iris_test.shape"
   ]
  },
  {
   "cell_type": "code",
   "execution_count": 12,
   "id": "18473df2-be15-4e1e-bc5e-739abacf8b89",
   "metadata": {},
   "outputs": [
    {
     "data": {
      "text/html": [
       "<style type=\"text/css\">\n",
       "\ttable {border:ridge 5px;}\n",
       "\ttable td {border:inset 1px;}\n",
       "\ttable tr#HeaderRow {background-color:grey; color:white;}</style>\n",
       "<html><table>\n",
       "\t<tr id=\"HeaderRow\">\n",
       "\t\t<th>id</th>\n",
       "\t\t<th>sepal_length</th>\n",
       "\t\t<th>sepal_width</th>\n",
       "\t\t<th>petal_length</th>\n",
       "\t\t<th>petal_width</th>\n",
       "\t\t<th>species</th>\n",
       "\t</tr>\n",
       "\t<tr>\n",
       "\t\t<td>3</td>\n",
       "\t\t<td>4.7</td>\n",
       "\t\t<td>3.2</td>\n",
       "\t\t<td>1.3</td>\n",
       "\t\t<td>0.2</td>\n",
       "\t\t<td>1</td>\n",
       "\t</tr>\n",
       "\t<tr>\n",
       "\t\t<td>5</td>\n",
       "\t\t<td>5.0</td>\n",
       "\t\t<td>3.6</td>\n",
       "\t\t<td>1.4</td>\n",
       "\t\t<td>0.2</td>\n",
       "\t\t<td>1</td>\n",
       "\t</tr>\n",
       "\t<tr>\n",
       "\t\t<td>6</td>\n",
       "\t\t<td>5.4</td>\n",
       "\t\t<td>3.9</td>\n",
       "\t\t<td>1.7</td>\n",
       "\t\t<td>0.4</td>\n",
       "\t\t<td>1</td>\n",
       "\t</tr>\n",
       "\t<tr>\n",
       "\t\t<td>7</td>\n",
       "\t\t<td>4.6</td>\n",
       "\t\t<td>3.4</td>\n",
       "\t\t<td>1.4</td>\n",
       "\t\t<td>0.3</td>\n",
       "\t\t<td>1</td>\n",
       "\t</tr>\n",
       "\t<tr>\n",
       "\t\t<td>10</td>\n",
       "\t\t<td>4.9</td>\n",
       "\t\t<td>3.1</td>\n",
       "\t\t<td>1.5</td>\n",
       "\t\t<td>0.1</td>\n",
       "\t\t<td>1</td>\n",
       "\t</tr>\n",
       "\t<tr>\n",
       "\t\t<td>11</td>\n",
       "\t\t<td>5.4</td>\n",
       "\t\t<td>3.7</td>\n",
       "\t\t<td>1.5</td>\n",
       "\t\t<td>0.2</td>\n",
       "\t\t<td>1</td>\n",
       "\t</tr>\n",
       "\t<tr>\n",
       "\t\t<td>8</td>\n",
       "\t\t<td>5.0</td>\n",
       "\t\t<td>3.4</td>\n",
       "\t\t<td>1.5</td>\n",
       "\t\t<td>0.2</td>\n",
       "\t\t<td>1</td>\n",
       "\t</tr>\n",
       "\t<tr>\n",
       "\t\t<td>4</td>\n",
       "\t\t<td>4.6</td>\n",
       "\t\t<td>3.1</td>\n",
       "\t\t<td>1.5</td>\n",
       "\t\t<td>0.2</td>\n",
       "\t\t<td>1</td>\n",
       "\t</tr>\n",
       "\t<tr>\n",
       "\t\t<td>2</td>\n",
       "\t\t<td>4.9</td>\n",
       "\t\t<td>3.0</td>\n",
       "\t\t<td>1.4</td>\n",
       "\t\t<td>0.2</td>\n",
       "\t\t<td>1</td>\n",
       "\t</tr>\n",
       "\t<tr>\n",
       "\t\t<td>1</td>\n",
       "\t\t<td>5.1</td>\n",
       "\t\t<td>3.5</td>\n",
       "\t\t<td>1.4</td>\n",
       "\t\t<td>0.2</td>\n",
       "\t\t<td>1</td>\n",
       "\t</tr>\n",
       "</table></html>"
      ],
      "text/plain": [
       "    sepal_length  sepal_width  petal_length  petal_width  species\n",
       "id                                                               \n",
       "3            4.7          3.2           1.3          0.2        1\n",
       "5            5.0          3.6           1.4          0.2        1\n",
       "6            5.4          3.9           1.7          0.4        1\n",
       "7            4.6          3.4           1.4          0.3        1\n",
       "10           4.9          3.1           1.5          0.1        1\n",
       "11           5.4          3.7           1.5          0.2        1\n",
       "8            5.0          3.4           1.5          0.2        1\n",
       "4            4.6          3.1           1.5          0.2        1\n",
       "2            4.9          3.0           1.4          0.2        1\n",
       "1            5.1          3.5           1.4          0.2        1"
      ]
     },
     "execution_count": 12,
     "metadata": {},
     "output_type": "execute_result"
    }
   ],
   "source": [
    "#train dataset\n",
    "iris_train.head()"
   ]
  },
  {
   "cell_type": "code",
   "execution_count": 13,
   "id": "58c9d763-4f19-449e-a35b-676d4d026acc",
   "metadata": {},
   "outputs": [
    {
     "data": {
      "text/html": [
       "<style type=\"text/css\">\n",
       "\ttable {border:ridge 5px;}\n",
       "\ttable td {border:inset 1px;}\n",
       "\ttable tr#HeaderRow {background-color:grey; color:white;}</style>\n",
       "<html><table>\n",
       "\t<tr id=\"HeaderRow\">\n",
       "\t\t<th>id</th>\n",
       "\t\t<th>sepal_length</th>\n",
       "\t\t<th>sepal_width</th>\n",
       "\t\t<th>petal_length</th>\n",
       "\t\t<th>petal_width</th>\n",
       "\t\t<th>species</th>\n",
       "\t</tr>\n",
       "\t<tr>\n",
       "\t\t<td>21</td>\n",
       "\t\t<td>5.4</td>\n",
       "\t\t<td>3.4</td>\n",
       "\t\t<td>1.7</td>\n",
       "\t\t<td>0.2</td>\n",
       "\t\t<td>1</td>\n",
       "\t</tr>\n",
       "\t<tr>\n",
       "\t\t<td>38</td>\n",
       "\t\t<td>4.9</td>\n",
       "\t\t<td>3.6</td>\n",
       "\t\t<td>1.4</td>\n",
       "\t\t<td>0.1</td>\n",
       "\t\t<td>1</td>\n",
       "\t</tr>\n",
       "\t<tr>\n",
       "\t\t<td>45</td>\n",
       "\t\t<td>5.1</td>\n",
       "\t\t<td>3.8</td>\n",
       "\t\t<td>1.9</td>\n",
       "\t\t<td>0.4</td>\n",
       "\t\t<td>1</td>\n",
       "\t</tr>\n",
       "\t<tr>\n",
       "\t\t<td>47</td>\n",
       "\t\t<td>5.1</td>\n",
       "\t\t<td>3.8</td>\n",
       "\t\t<td>1.6</td>\n",
       "\t\t<td>0.2</td>\n",
       "\t\t<td>1</td>\n",
       "\t</tr>\n",
       "\t<tr>\n",
       "\t\t<td>54</td>\n",
       "\t\t<td>5.5</td>\n",
       "\t\t<td>2.3</td>\n",
       "\t\t<td>4.0</td>\n",
       "\t\t<td>1.3</td>\n",
       "\t\t<td>2</td>\n",
       "\t</tr>\n",
       "\t<tr>\n",
       "\t\t<td>55</td>\n",
       "\t\t<td>6.5</td>\n",
       "\t\t<td>2.8</td>\n",
       "\t\t<td>4.6</td>\n",
       "\t\t<td>1.5</td>\n",
       "\t\t<td>2</td>\n",
       "\t</tr>\n",
       "\t<tr>\n",
       "\t\t<td>52</td>\n",
       "\t\t<td>6.4</td>\n",
       "\t\t<td>3.2</td>\n",
       "\t\t<td>4.5</td>\n",
       "\t\t<td>1.5</td>\n",
       "\t\t<td>2</td>\n",
       "\t</tr>\n",
       "\t<tr>\n",
       "\t\t<td>24</td>\n",
       "\t\t<td>5.1</td>\n",
       "\t\t<td>3.3</td>\n",
       "\t\t<td>1.7</td>\n",
       "\t\t<td>0.5</td>\n",
       "\t\t<td>1</td>\n",
       "\t</tr>\n",
       "\t<tr>\n",
       "\t\t<td>20</td>\n",
       "\t\t<td>5.1</td>\n",
       "\t\t<td>3.8</td>\n",
       "\t\t<td>1.5</td>\n",
       "\t\t<td>0.3</td>\n",
       "\t\t<td>1</td>\n",
       "\t</tr>\n",
       "\t<tr>\n",
       "\t\t<td>9</td>\n",
       "\t\t<td>4.4</td>\n",
       "\t\t<td>2.9</td>\n",
       "\t\t<td>1.4</td>\n",
       "\t\t<td>0.2</td>\n",
       "\t\t<td>1</td>\n",
       "\t</tr>\n",
       "</table></html>"
      ],
      "text/plain": [
       "    sepal_length  sepal_width  petal_length  petal_width  species\n",
       "id                                                               \n",
       "21           5.4          3.4           1.7          0.2        1\n",
       "38           4.9          3.6           1.4          0.1        1\n",
       "45           5.1          3.8           1.9          0.4        1\n",
       "47           5.1          3.8           1.6          0.2        1\n",
       "54           5.5          2.3           4.0          1.3        2\n",
       "55           6.5          2.8           4.6          1.5        2\n",
       "52           6.4          3.2           4.5          1.5        2\n",
       "24           5.1          3.3           1.7          0.5        1\n",
       "20           5.1          3.8           1.5          0.3        1\n",
       "9            4.4          2.9           1.4          0.2        1"
      ]
     },
     "execution_count": 13,
     "metadata": {},
     "output_type": "execute_result"
    }
   ],
   "source": [
    "# test dataset\n",
    "iris_test.head()"
   ]
  },
  {
   "cell_type": "code",
   "execution_count": 14,
   "id": "9fc5973c-1b94-4ba6-95f1-04b33b382bb8",
   "metadata": {
    "collapsed": true,
    "jupyter": {
     "outputs_hidden": true
    },
    "tags": []
   },
   "outputs": [
    {
     "data": {
      "text/html": [
       "<style type=\"text/css\">\n",
       "\ttable {border:ridge 5px;}\n",
       "\ttable td {border:inset 1px;}\n",
       "\ttable tr#HeaderRow {background-color:grey; color:white;}</style>\n",
       "<html><table>\n",
       "\t<tr id=\"HeaderRow\">\n",
       "\t\t<th>id</th>\n",
       "\t\t<th>sepal_length</th>\n",
       "\t\t<th>sepal_width</th>\n",
       "\t\t<th>petal_length</th>\n",
       "\t\t<th>petal_width</th>\n",
       "\t\t<th>species</th>\n",
       "\t</tr>\n",
       "\t<tr>\n",
       "\t\t<td>21</td>\n",
       "\t\t<td>5.4</td>\n",
       "\t\t<td>3.4</td>\n",
       "\t\t<td>1.7</td>\n",
       "\t\t<td>0.2</td>\n",
       "\t\t<td>1</td>\n",
       "\t</tr>\n",
       "\t<tr>\n",
       "\t\t<td>38</td>\n",
       "\t\t<td>4.9</td>\n",
       "\t\t<td>3.6</td>\n",
       "\t\t<td>1.4</td>\n",
       "\t\t<td>0.1</td>\n",
       "\t\t<td>1</td>\n",
       "\t</tr>\n",
       "\t<tr>\n",
       "\t\t<td>45</td>\n",
       "\t\t<td>5.1</td>\n",
       "\t\t<td>3.8</td>\n",
       "\t\t<td>1.9</td>\n",
       "\t\t<td>0.4</td>\n",
       "\t\t<td>1</td>\n",
       "\t</tr>\n",
       "\t<tr>\n",
       "\t\t<td>47</td>\n",
       "\t\t<td>5.1</td>\n",
       "\t\t<td>3.8</td>\n",
       "\t\t<td>1.6</td>\n",
       "\t\t<td>0.2</td>\n",
       "\t\t<td>1</td>\n",
       "\t</tr>\n",
       "\t<tr>\n",
       "\t\t<td>54</td>\n",
       "\t\t<td>5.5</td>\n",
       "\t\t<td>2.3</td>\n",
       "\t\t<td>4.0</td>\n",
       "\t\t<td>1.3</td>\n",
       "\t\t<td>2</td>\n",
       "\t</tr>\n",
       "\t<tr>\n",
       "\t\t<td>55</td>\n",
       "\t\t<td>6.5</td>\n",
       "\t\t<td>2.8</td>\n",
       "\t\t<td>4.6</td>\n",
       "\t\t<td>1.5</td>\n",
       "\t\t<td>2</td>\n",
       "\t</tr>\n",
       "\t<tr>\n",
       "\t\t<td>66</td>\n",
       "\t\t<td>6.7</td>\n",
       "\t\t<td>3.1</td>\n",
       "\t\t<td>4.4</td>\n",
       "\t\t<td>1.4</td>\n",
       "\t\t<td>2</td>\n",
       "\t</tr>\n",
       "\t<tr>\n",
       "\t\t<td>67</td>\n",
       "\t\t<td>5.6</td>\n",
       "\t\t<td>3.0</td>\n",
       "\t\t<td>4.5</td>\n",
       "\t\t<td>1.5</td>\n",
       "\t\t<td>2</td>\n",
       "\t</tr>\n",
       "\t<tr>\n",
       "\t\t<td>68</td>\n",
       "\t\t<td>5.8</td>\n",
       "\t\t<td>2.7</td>\n",
       "\t\t<td>4.1</td>\n",
       "\t\t<td>1.0</td>\n",
       "\t\t<td>2</td>\n",
       "\t</tr>\n",
       "\t<tr>\n",
       "\t\t<td>69</td>\n",
       "\t\t<td>6.2</td>\n",
       "\t\t<td>2.2</td>\n",
       "\t\t<td>4.5</td>\n",
       "\t\t<td>1.5</td>\n",
       "\t\t<td>2</td>\n",
       "\t</tr>\n",
       "\t<tr>\n",
       "\t\t<td>71</td>\n",
       "\t\t<td>5.9</td>\n",
       "\t\t<td>3.2</td>\n",
       "\t\t<td>4.8</td>\n",
       "\t\t<td>1.8</td>\n",
       "\t\t<td>2</td>\n",
       "\t</tr>\n",
       "\t<tr>\n",
       "\t\t<td>87</td>\n",
       "\t\t<td>6.7</td>\n",
       "\t\t<td>3.1</td>\n",
       "\t\t<td>4.7</td>\n",
       "\t\t<td>1.5</td>\n",
       "\t\t<td>2</td>\n",
       "\t</tr>\n",
       "\t<tr>\n",
       "\t\t<td>90</td>\n",
       "\t\t<td>5.5</td>\n",
       "\t\t<td>2.5</td>\n",
       "\t\t<td>4.0</td>\n",
       "\t\t<td>1.3</td>\n",
       "\t\t<td>2</td>\n",
       "\t</tr>\n",
       "\t<tr>\n",
       "\t\t<td>93</td>\n",
       "\t\t<td>5.8</td>\n",
       "\t\t<td>2.6</td>\n",
       "\t\t<td>4.0</td>\n",
       "\t\t<td>1.2</td>\n",
       "\t\t<td>2</td>\n",
       "\t</tr>\n",
       "\t<tr>\n",
       "\t\t<td>98</td>\n",
       "\t\t<td>6.2</td>\n",
       "\t\t<td>2.9</td>\n",
       "\t\t<td>4.3</td>\n",
       "\t\t<td>1.3</td>\n",
       "\t\t<td>2</td>\n",
       "\t</tr>\n",
       "\t<tr>\n",
       "\t\t<td>105</td>\n",
       "\t\t<td>6.5</td>\n",
       "\t\t<td>3.0</td>\n",
       "\t\t<td>5.8</td>\n",
       "\t\t<td>2.2</td>\n",
       "\t\t<td>3</td>\n",
       "\t</tr>\n",
       "\t<tr>\n",
       "\t\t<td>107</td>\n",
       "\t\t<td>4.9</td>\n",
       "\t\t<td>2.5</td>\n",
       "\t\t<td>4.5</td>\n",
       "\t\t<td>1.7</td>\n",
       "\t\t<td>3</td>\n",
       "\t</tr>\n",
       "\t<tr>\n",
       "\t\t<td>112</td>\n",
       "\t\t<td>6.4</td>\n",
       "\t\t<td>2.7</td>\n",
       "\t\t<td>5.3</td>\n",
       "\t\t<td>1.9</td>\n",
       "\t\t<td>3</td>\n",
       "\t</tr>\n",
       "\t<tr>\n",
       "\t\t<td>118</td>\n",
       "\t\t<td>7.7</td>\n",
       "\t\t<td>3.8</td>\n",
       "\t\t<td>6.7</td>\n",
       "\t\t<td>2.2</td>\n",
       "\t\t<td>3</td>\n",
       "\t</tr>\n",
       "\t<tr>\n",
       "\t\t<td>121</td>\n",
       "\t\t<td>6.9</td>\n",
       "\t\t<td>3.2</td>\n",
       "\t\t<td>5.7</td>\n",
       "\t\t<td>2.3</td>\n",
       "\t\t<td>3</td>\n",
       "\t</tr>\n",
       "\t<tr>\n",
       "\t\t<td>125</td>\n",
       "\t\t<td>6.7</td>\n",
       "\t\t<td>3.3</td>\n",
       "\t\t<td>5.7</td>\n",
       "\t\t<td>2.1</td>\n",
       "\t\t<td>3</td>\n",
       "\t</tr>\n",
       "\t<tr>\n",
       "\t\t<td>131</td>\n",
       "\t\t<td>7.4</td>\n",
       "\t\t<td>2.8</td>\n",
       "\t\t<td>6.1</td>\n",
       "\t\t<td>1.9</td>\n",
       "\t\t<td>3</td>\n",
       "\t</tr>\n",
       "\t<tr>\n",
       "\t\t<td>134</td>\n",
       "\t\t<td>6.3</td>\n",
       "\t\t<td>2.8</td>\n",
       "\t\t<td>5.1</td>\n",
       "\t\t<td>1.5</td>\n",
       "\t\t<td>3</td>\n",
       "\t</tr>\n",
       "\t<tr>\n",
       "\t\t<td>139</td>\n",
       "\t\t<td>6.0</td>\n",
       "\t\t<td>3.0</td>\n",
       "\t\t<td>4.8</td>\n",
       "\t\t<td>1.8</td>\n",
       "\t\t<td>3</td>\n",
       "\t</tr>\n",
       "\t<tr>\n",
       "\t\t<td>146</td>\n",
       "\t\t<td>6.7</td>\n",
       "\t\t<td>3.0</td>\n",
       "\t\t<td>5.2</td>\n",
       "\t\t<td>2.3</td>\n",
       "\t\t<td>3</td>\n",
       "\t</tr>\n",
       "\t<tr>\n",
       "\t\t<td>82</td>\n",
       "\t\t<td>5.5</td>\n",
       "\t\t<td>2.4</td>\n",
       "\t\t<td>3.7</td>\n",
       "\t\t<td>1.0</td>\n",
       "\t\t<td>2</td>\n",
       "\t</tr>\n",
       "\t<tr>\n",
       "\t\t<td>52</td>\n",
       "\t\t<td>6.4</td>\n",
       "\t\t<td>3.2</td>\n",
       "\t\t<td>4.5</td>\n",
       "\t\t<td>1.5</td>\n",
       "\t\t<td>2</td>\n",
       "\t</tr>\n",
       "\t<tr>\n",
       "\t\t<td>24</td>\n",
       "\t\t<td>5.1</td>\n",
       "\t\t<td>3.3</td>\n",
       "\t\t<td>1.7</td>\n",
       "\t\t<td>0.5</td>\n",
       "\t\t<td>1</td>\n",
       "\t</tr>\n",
       "\t<tr>\n",
       "\t\t<td>20</td>\n",
       "\t\t<td>5.1</td>\n",
       "\t\t<td>3.8</td>\n",
       "\t\t<td>1.5</td>\n",
       "\t\t<td>0.3</td>\n",
       "\t\t<td>1</td>\n",
       "\t</tr>\n",
       "\t<tr>\n",
       "\t\t<td>9</td>\n",
       "\t\t<td>4.4</td>\n",
       "\t\t<td>2.9</td>\n",
       "\t\t<td>1.4</td>\n",
       "\t\t<td>0.2</td>\n",
       "\t\t<td>1</td>\n",
       "\t</tr>\n",
       "</table></html>"
      ],
      "text/plain": [
       "     sepal_length  sepal_width  petal_length  petal_width  species\n",
       "id                                                                \n",
       "21            5.4          3.4           1.7          0.2        1\n",
       "38            4.9          3.6           1.4          0.1        1\n",
       "45            5.1          3.8           1.9          0.4        1\n",
       "47            5.1          3.8           1.6          0.2        1\n",
       "54            5.5          2.3           4.0          1.3        2\n",
       "55            6.5          2.8           4.6          1.5        2\n",
       "66            6.7          3.1           4.4          1.4        2\n",
       "67            5.6          3.0           4.5          1.5        2\n",
       "68            5.8          2.7           4.1          1.0        2\n",
       "69            6.2          2.2           4.5          1.5        2\n",
       "71            5.9          3.2           4.8          1.8        2\n",
       "87            6.7          3.1           4.7          1.5        2\n",
       "90            5.5          2.5           4.0          1.3        2\n",
       "93            5.8          2.6           4.0          1.2        2\n",
       "98            6.2          2.9           4.3          1.3        2\n",
       "105           6.5          3.0           5.8          2.2        3\n",
       "107           4.9          2.5           4.5          1.7        3\n",
       "112           6.4          2.7           5.3          1.9        3\n",
       "118           7.7          3.8           6.7          2.2        3\n",
       "121           6.9          3.2           5.7          2.3        3\n",
       "125           6.7          3.3           5.7          2.1        3\n",
       "131           7.4          2.8           6.1          1.9        3\n",
       "134           6.3          2.8           5.1          1.5        3\n",
       "139           6.0          3.0           4.8          1.8        3\n",
       "146           6.7          3.0           5.2          2.3        3\n",
       "82            5.5          2.4           3.7          1.0        2\n",
       "52            6.4          3.2           4.5          1.5        2\n",
       "24            5.1          3.3           1.7          0.5        1\n",
       "20            5.1          3.8           1.5          0.3        1\n",
       "9             4.4          2.9           1.4          0.2        1"
      ]
     },
     "execution_count": 14,
     "metadata": {},
     "output_type": "execute_result"
    }
   ],
   "source": [
    "iris_test.head(30)"
   ]
  },
  {
   "cell_type": "code",
   "execution_count": 16,
   "id": "a374d186-c0be-406e-8d05-fa697cd4e3f4",
   "metadata": {
    "collapsed": true,
    "jupyter": {
     "outputs_hidden": true
    },
    "tags": []
   },
   "outputs": [
    {
     "name": "stdout",
     "output_type": "stream",
     "text": [
      "\n",
      "Generating custom config JSON for AutoML ...\n",
      "\n",
      "Available main options for customization with corresponding indices: \n",
      "--------------------------------------------------------------------------------\n",
      "\n",
      "Index 1: Customize Feature Engineering Phase\n",
      "\n",
      "Index 2: Customize Data Preparation Phase\n",
      "\n",
      "Index 3: Customize Model Training Phase\n",
      "\n",
      "Index 4: Generate custom json and exit\n",
      "--------------------------------------------------------------------------------\n",
      "\n",
      "Enter the index you want to customize:  2\n",
      "\n",
      "Customizing Data Preparation Phase ...\n",
      "\n",
      "Available options for customization of data preparation phase with corresponding indices: \n",
      "--------------------------------------------------------------------------------\n",
      "\n",
      "Index 1: Customize Train Test Split\n",
      "\n",
      "Index 2: Customize Data Imbalance Handling\n",
      "\n",
      "Index 3: Customize Outlier Handling\n",
      "\n",
      "Index 4: Customize Feature Scaling\n",
      "\n",
      "Index 5: Back to main menu\n",
      "\n",
      "Index 6: Generate custom json and exit\n",
      "--------------------------------------------------------------------------------\n",
      "\n",
      "Enter the list of indices you want to customize in data preparation phase:  1,2,4\n",
      "\n",
      "Customizing Train Test Split ...\n",
      "\n",
      "Enter the train size for train test split:  0.85\n",
      "\n",
      "Customization of train test split has been completed successfully.\n",
      "\n",
      "Customizing Data Imbalance Handling ...\n",
      "\n",
      "Available data sampling methods with corresponding indices:\n",
      "Index 1: SMOTE\n",
      "Index 2: NearMiss\n",
      "\n",
      "Enter the corresponding index data imbalance handling method:  1\n",
      "\n",
      "Customization of data imbalance handling has been completed successfully.\n",
      "\n",
      "Available feature scaling methods with corresponding indices:\n",
      "Index 1: maxabs\n",
      "Index 2: mean\n",
      "Index 3: midrange\n",
      "Index 4: range\n",
      "Index 5: rescale\n",
      "Index 6: std\n",
      "Index 7: sum\n",
      "Index 8: ustd\n",
      "\n",
      "Enter the corresponding index feature scaling method:  4\n",
      "\n",
      "Customization of feature scaling has been completed successfully.\n",
      "\n",
      "Available options for customization of data preparation phase with corresponding indices: \n",
      "--------------------------------------------------------------------------------\n",
      "\n",
      "Index 1: Customize Train Test Split\n",
      "\n",
      "Index 2: Customize Data Imbalance Handling\n",
      "\n",
      "Index 3: Customize Outlier Handling\n",
      "\n",
      "Index 4: Customize Feature Scaling\n",
      "\n",
      "Index 5: Back to main menu\n",
      "\n",
      "Index 6: Generate custom json and exit\n",
      "--------------------------------------------------------------------------------\n",
      "\n",
      "Enter the list of indices you want to customize in data preparation phase:  5\n",
      "\n",
      "Customization of data preparation phase has been completed successfully.\n",
      "\n",
      "Available main options for customization with corresponding indices: \n",
      "--------------------------------------------------------------------------------\n",
      "\n",
      "Index 1: Customize Feature Engineering Phase\n",
      "\n",
      "Index 2: Customize Data Preparation Phase\n",
      "\n",
      "Index 3: Customize Model Training Phase\n",
      "\n",
      "Index 4: Generate custom json and exit\n",
      "--------------------------------------------------------------------------------\n",
      "\n",
      "Enter the index you want to customize:  3\n",
      "\n",
      "Customizing Model Training Phase ...\n",
      "\n",
      "Available options for customization of model training phase with corresponding indices: \n",
      "--------------------------------------------------------------------------------\n",
      "\n",
      "Index 1: Customize Model Hyperparameter\n",
      "\n",
      "Index 2: Back to main menu\n",
      "\n",
      "Index 3: Generate custom json and exit\n",
      "--------------------------------------------------------------------------------\n",
      "\n",
      "Enter the list of indices you want to customize in model training phase:  1\n",
      "\n",
      "Customizing Model Hyperparameter ...\n",
      "\n",
      "Available models for hyperparameter tuning with corresponding indices:\n",
      "Index 1: decision_forest\n",
      "Index 2: xgboost\n",
      "Index 3: knn\n",
      "Index 4: glm\n",
      "Index 5: svm\n",
      "\n",
      "Available hyperparamters update methods with corresponding indices:\n",
      "Index 1: ADD\n",
      "Index 2: REPLACE\n",
      "\n",
      "Enter the list of model indices for performing hyperparameter tuning:  2\n",
      "\n",
      "Available hyperparameters for model 'xgboost' with corresponding indices:\n",
      "Index 1: min_impurity\n",
      "Index 2: max_depth\n",
      "Index 3: min_node_size\n",
      "Index 4: shrinkage_factor\n",
      "Index 5: iter_num\n",
      "\n",
      "Enter the list of hyperparameter indices for model 'xgboost':  2\n",
      "\n",
      "Enter the index of corresponding update method for hyperparameters 'max_depth' for model 'xgboost':  1\n",
      "\n",
      "Enter the list of value for hyperparameter 'max_depth' for model 'xgboost':  3,4\n",
      "\n",
      "Customization of model hyperparameter has been completed successfully.\n",
      "\n",
      "Available options for customization of model training phase with corresponding indices: \n",
      "--------------------------------------------------------------------------------\n",
      "\n",
      "Index 1: Customize Model Hyperparameter\n",
      "\n",
      "Index 2: Back to main menu\n",
      "\n",
      "Index 3: Generate custom json and exit\n",
      "--------------------------------------------------------------------------------\n",
      "\n",
      "Enter the list of indices you want to customize in model training phase:  3\n",
      "\n",
      "Customization of model training phase has been completed successfully.\n",
      "\n",
      "Process of generating custom config file for AutoML has been completed successfully.\n",
      "\n",
      "'custom_iris.json' file is generated successfully under the current working directory.\n"
     ]
    }
   ],
   "source": [
    "AutoClassifier.generate_custom_config(\"custom_iris\")"
   ]
  },
  {
   "cell_type": "markdown",
   "id": "856ea871-93d8-4ea2-b524-1acb23bd7eb5",
   "metadata": {},
   "source": [
    "## <b><span style='color:#F1A424'>| 2.</span> Fitting AutoML </b>"
   ]
  },
  {
   "cell_type": "code",
   "execution_count": 15,
   "id": "f3650aa5-a408-4227-a88d-79c0f3d36d3c",
   "metadata": {},
   "outputs": [],
   "source": [
    "# Creating AutoClassifier instance\n",
    "# Including xgboost model from default model list for training.\n",
    "# Using early stopping timer criteria with value 100 sec.\n",
    "# Passing custom json file to provide customized value for AutoML.\n",
    "\n",
    "aml = AutoClassifier(include=['xgboost'],\n",
    "                     verbose=2,\n",
    "                     max_runtime_secs=100,\n",
    "                     custom_config_file='custom_iris.json')"
   ]
  },
  {
   "cell_type": "code",
   "execution_count": 16,
   "id": "a1b7a771-1bfa-40c9-8ad0-c377d320c137",
   "metadata": {
    "tags": []
   },
   "outputs": [
    {
     "name": "stdout",
     "output_type": "stream",
     "text": [
      "\n",
      "Received below input for customization : \n",
      "{\n",
      "    \"TrainTestSplitIndicator\": true,\n",
      "    \"TrainingSize\": 0.85,\n",
      "    \"DataImbalanceIndicator\": true,\n",
      "    \"DataImbalanceMethod\": \"SMOTE\",\n",
      "    \"FeatureScalingIndicator\": true,\n",
      "    \"FeatureScalingMethod\": \"range\",\n",
      "    \"HyperparameterTuningIndicator\": true,\n",
      "    \"HyperparameterTuningParam\": {\n",
      "        \"xgboost\": {\n",
      "            \"max_depth\": {\n",
      "                \"Method\": \"ADD\",\n",
      "                \"Value\": [\n",
      "                    3,\n",
      "                    4\n",
      "                ]\n",
      "            }\n",
      "        }\n",
      "    }\n",
      "}\n"
     ]
    },
    {
     "data": {
      "text/html": [
       "\n",
       "            <style>\n",
       "                .custom-div {\n",
       "                    background-color: lightgray;\n",
       "                    color: #000000;\n",
       "                    padding: 10px;\n",
       "                    border-radius: 8px;\n",
       "                    box-shadow: 0 3px 4px rgba(0, 0, 0, 0.2);\n",
       "                    margin-bottom: 10px;\n",
       "                    text-align: center;\n",
       "                }\n",
       "            </style>\n",
       "        <br><div class=\"custom-div\"><h3><span style=\"color: green;\"></span>1. Feature Exploration -> 2. Feature Engineering -> 3. Data Preparation -> 4. Model Training & Evaluation<center></h3></center></div>"
      ],
      "text/plain": [
       "<IPython.core.display.HTML object>"
      ]
     },
     "metadata": {},
     "output_type": "display_data"
    },
    {
     "name": "stdout",
     "output_type": "stream",
     "text": [
      "Feature Exploration started ...\n",
      "\n",
      "Data Overview:\n",
      "Total Rows in the data: 120\n",
      "Total Columns in the data: 6\n",
      "\n",
      "Column Summary:\n"
     ]
    },
    {
     "data": {
      "text/html": [
       "<style type=\"text/css\">\n",
       "\ttable {border:ridge 5px;}\n",
       "\ttable td {border:inset 1px;}\n",
       "\ttable tr#HeaderRow {background-color:grey; color:white;}</style>\n",
       "<html><table>\n",
       "\t<tr id=\"HeaderRow\">\n",
       "\t\t<th>ColumnName</th>\n",
       "\t\t<th>Datatype</th>\n",
       "\t\t<th>NonNullCount</th>\n",
       "\t\t<th>NullCount</th>\n",
       "\t\t<th>BlankCount</th>\n",
       "\t\t<th>ZeroCount</th>\n",
       "\t\t<th>PositiveCount</th>\n",
       "\t\t<th>NegativeCount</th>\n",
       "\t\t<th>NullPercentage</th>\n",
       "\t\t<th>NonNullPercentage</th>\n",
       "\t</tr>\n",
       "\t<tr>\n",
       "\t\t<td>species</td>\n",
       "\t\t<td>INTEGER</td>\n",
       "\t\t<td>120</td>\n",
       "\t\t<td>0</td>\n",
       "\t\t<td>None</td>\n",
       "\t\t<td>0</td>\n",
       "\t\t<td>120</td>\n",
       "\t\t<td>0</td>\n",
       "\t\t<td>0.0</td>\n",
       "\t\t<td>100.0</td>\n",
       "\t</tr>\n",
       "\t<tr>\n",
       "\t\t<td>id</td>\n",
       "\t\t<td>INTEGER</td>\n",
       "\t\t<td>120</td>\n",
       "\t\t<td>0</td>\n",
       "\t\t<td>None</td>\n",
       "\t\t<td>0</td>\n",
       "\t\t<td>120</td>\n",
       "\t\t<td>0</td>\n",
       "\t\t<td>0.0</td>\n",
       "\t\t<td>100.0</td>\n",
       "\t</tr>\n",
       "\t<tr>\n",
       "\t\t<td>petal_length</td>\n",
       "\t\t<td>FLOAT</td>\n",
       "\t\t<td>120</td>\n",
       "\t\t<td>0</td>\n",
       "\t\t<td>None</td>\n",
       "\t\t<td>0</td>\n",
       "\t\t<td>120</td>\n",
       "\t\t<td>0</td>\n",
       "\t\t<td>0.0</td>\n",
       "\t\t<td>100.0</td>\n",
       "\t</tr>\n",
       "\t<tr>\n",
       "\t\t<td>petal_width</td>\n",
       "\t\t<td>FLOAT</td>\n",
       "\t\t<td>120</td>\n",
       "\t\t<td>0</td>\n",
       "\t\t<td>None</td>\n",
       "\t\t<td>0</td>\n",
       "\t\t<td>120</td>\n",
       "\t\t<td>0</td>\n",
       "\t\t<td>0.0</td>\n",
       "\t\t<td>100.0</td>\n",
       "\t</tr>\n",
       "\t<tr>\n",
       "\t\t<td>sepal_width</td>\n",
       "\t\t<td>FLOAT</td>\n",
       "\t\t<td>120</td>\n",
       "\t\t<td>0</td>\n",
       "\t\t<td>None</td>\n",
       "\t\t<td>0</td>\n",
       "\t\t<td>120</td>\n",
       "\t\t<td>0</td>\n",
       "\t\t<td>0.0</td>\n",
       "\t\t<td>100.0</td>\n",
       "\t</tr>\n",
       "\t<tr>\n",
       "\t\t<td>sepal_length</td>\n",
       "\t\t<td>FLOAT</td>\n",
       "\t\t<td>120</td>\n",
       "\t\t<td>0</td>\n",
       "\t\t<td>None</td>\n",
       "\t\t<td>0</td>\n",
       "\t\t<td>120</td>\n",
       "\t\t<td>0</td>\n",
       "\t\t<td>0.0</td>\n",
       "\t\t<td>100.0</td>\n",
       "\t</tr>\n",
       "</table></html>"
      ],
      "text/plain": [
       "     ColumnName Datatype  NonNullCount  NullCount BlankCount  ZeroCount  PositiveCount  NegativeCount  NullPercentage  NonNullPercentage\n",
       "0       species  INTEGER           120          0       None          0            120              0             0.0              100.0\n",
       "1            id  INTEGER           120          0       None          0            120              0             0.0              100.0\n",
       "2  petal_length    FLOAT           120          0       None          0            120              0             0.0              100.0\n",
       "3   petal_width    FLOAT           120          0       None          0            120              0             0.0              100.0\n",
       "4   sepal_width    FLOAT           120          0       None          0            120              0             0.0              100.0\n",
       "5  sepal_length    FLOAT           120          0       None          0            120              0             0.0              100.0"
      ]
     },
     "metadata": {},
     "output_type": "display_data"
    },
    {
     "name": "stdout",
     "output_type": "stream",
     "text": [
      "\n",
      "Statistics of Data:\n"
     ]
    },
    {
     "data": {
      "text/html": [
       "<style type=\"text/css\">\n",
       "\ttable {border:ridge 5px;}\n",
       "\ttable td {border:inset 1px;}\n",
       "\ttable tr#HeaderRow {background-color:grey; color:white;}</style>\n",
       "<html><table>\n",
       "\t<tr id=\"HeaderRow\">\n",
       "\t\t<th>func</th>\n",
       "\t\t<th>id</th>\n",
       "\t\t<th>sepal_length</th>\n",
       "\t\t<th>sepal_width</th>\n",
       "\t\t<th>petal_length</th>\n",
       "\t\t<th>petal_width</th>\n",
       "\t\t<th>species</th>\n",
       "\t</tr>\n",
       "\t<tr>\n",
       "\t\t<td>50%</td>\n",
       "\t\t<td>75.5</td>\n",
       "\t\t<td>5.7</td>\n",
       "\t\t<td>3</td>\n",
       "\t\t<td>4.2</td>\n",
       "\t\t<td>1.3</td>\n",
       "\t\t<td>2</td>\n",
       "\t</tr>\n",
       "\t<tr>\n",
       "\t\t<td>count</td>\n",
       "\t\t<td>120</td>\n",
       "\t\t<td>120</td>\n",
       "\t\t<td>120</td>\n",
       "\t\t<td>120</td>\n",
       "\t\t<td>120</td>\n",
       "\t\t<td>120</td>\n",
       "\t</tr>\n",
       "\t<tr>\n",
       "\t\t<td>mean</td>\n",
       "\t\t<td>74.425</td>\n",
       "\t\t<td>5.813</td>\n",
       "\t\t<td>3.066</td>\n",
       "\t\t<td>3.679</td>\n",
       "\t\t<td>1.169</td>\n",
       "\t\t<td>1.975</td>\n",
       "\t</tr>\n",
       "\t<tr>\n",
       "\t\t<td>min</td>\n",
       "\t\t<td>1</td>\n",
       "\t\t<td>4.3</td>\n",
       "\t\t<td>2</td>\n",
       "\t\t<td>1</td>\n",
       "\t\t<td>0.1</td>\n",
       "\t\t<td>1</td>\n",
       "\t</tr>\n",
       "\t<tr>\n",
       "\t\t<td>max</td>\n",
       "\t\t<td>150</td>\n",
       "\t\t<td>7.9</td>\n",
       "\t\t<td>4.4</td>\n",
       "\t\t<td>6.9</td>\n",
       "\t\t<td>2.5</td>\n",
       "\t\t<td>3</td>\n",
       "\t</tr>\n",
       "\t<tr>\n",
       "\t\t<td>75%</td>\n",
       "\t\t<td>113.25</td>\n",
       "\t\t<td>6.4</td>\n",
       "\t\t<td>3.4</td>\n",
       "\t\t<td>5.1</td>\n",
       "\t\t<td>1.8</td>\n",
       "\t\t<td>3</td>\n",
       "\t</tr>\n",
       "\t<tr>\n",
       "\t\t<td>25%</td>\n",
       "\t\t<td>34.75</td>\n",
       "\t\t<td>5.1</td>\n",
       "\t\t<td>2.8</td>\n",
       "\t\t<td>1.5</td>\n",
       "\t\t<td>0.275</td>\n",
       "\t\t<td>1</td>\n",
       "\t</tr>\n",
       "\t<tr>\n",
       "\t\t<td>std</td>\n",
       "\t\t<td>44.617</td>\n",
       "\t\t<td>0.838</td>\n",
       "\t\t<td>0.434</td>\n",
       "\t\t<td>1.814</td>\n",
       "\t\t<td>0.78</td>\n",
       "\t\t<td>0.835</td>\n",
       "\t</tr>\n",
       "</table></html>"
      ],
      "text/plain": [
       "            id  sepal_length  sepal_width  petal_length  petal_width  species\n",
       "func                                                                         \n",
       "50%     75.500         5.700        3.000         4.200        1.300    2.000\n",
       "count  120.000       120.000      120.000       120.000      120.000  120.000\n",
       "mean    74.425         5.813        3.066         3.679        1.169    1.975\n",
       "min      1.000         4.300        2.000         1.000        0.100    1.000\n",
       "max    150.000         7.900        4.400         6.900        2.500    3.000\n",
       "75%    113.250         6.400        3.400         5.100        1.800    3.000\n",
       "25%     34.750         5.100        2.800         1.500        0.275    1.000\n",
       "std     44.617         0.838        0.434         1.814        0.780    0.835"
      ]
     },
     "metadata": {},
     "output_type": "display_data"
    },
    {
     "name": "stdout",
     "output_type": "stream",
     "text": [
      "\n",
      "Target Column Distribution:\n"
     ]
    },
    {
     "data": {
      "image/png": "[encoded data removed]",
      "text/plain": [
       "<Figure size 600x600 with 1 Axes>"
      ]
     },
     "metadata": {},
     "output_type": "display_data"
    },
    {
     "name": "stdout",
     "output_type": "stream",
     "text": [
      "Columns with outlier percentage :-                                                                                                                                                                                                                                                                                                                                                                                                                                                                                  \n",
      "    ColumnName  OutlierPercentage\n",
      "0  sepal_width           0.833333\n",
      "                                                                                        \r"
     ]
    },
    {
     "data": {
      "text/html": [
       "\n",
       "            <style>\n",
       "                .custom-div {\n",
       "                    background-color: lightgray;\n",
       "                    color: #000000;\n",
       "                    padding: 10px;\n",
       "                    border-radius: 8px;\n",
       "                    box-shadow: 0 3px 4px rgba(0 -  0 -  0 -  0.2);\n",
       "                    margin-bottom: 10px;\n",
       "                    text-align: center;\n",
       "                }\n",
       "            </style>\n",
       "        <br><div class=\"custom-div\"><h3><span style=\"color: green;\">1. Feature Exploration -></span> 2. Feature Engineering -> 3. Data Preparation -> 4. Model Training & Evaluation<center></h3></center></div>"
      ],
      "text/plain": [
       "<IPython.core.display.HTML object>"
      ]
     },
     "metadata": {},
     "output_type": "display_data"
    },
    {
     "name": "stdout",
     "output_type": "stream",
     "text": [
      "                                                                                        \r"
     ]
    },
    {
     "data": {
      "text/html": [
       "Feature Engineering started ..."
      ],
      "text/plain": [
       "<IPython.core.display.HTML object>"
      ]
     },
     "metadata": {},
     "output_type": "display_data"
    },
    {
     "name": "stdout",
     "output_type": "stream",
     "text": [
      "                                                                                        \r"
     ]
    },
    {
     "data": {
      "text/html": [
       "\n",
       "Handling duplicate records present in dataset ..."
      ],
      "text/plain": [
       "<IPython.core.display.HTML object>"
      ]
     },
     "metadata": {},
     "output_type": "display_data"
    },
    {
     "name": "stdout",
     "output_type": "stream",
     "text": [
      "Analysis completed. No action taken.                                                    \n",
      "                                                                                        \r"
     ]
    },
    {
     "data": {
      "text/html": [
       "Total time to handle duplicate records: 1.54 sec  "
      ],
      "text/plain": [
       "<IPython.core.display.HTML object>"
      ]
     },
     "metadata": {},
     "output_type": "display_data"
    },
    {
     "name": "stdout",
     "output_type": "stream",
     "text": [
      "                                                                                        \r"
     ]
    },
    {
     "data": {
      "text/html": [
       "\n",
       "Handling less significant features from data ..."
      ],
      "text/plain": [
       "<IPython.core.display.HTML object>"
      ]
     },
     "metadata": {},
     "output_type": "display_data"
    },
    {
     "name": "stdout",
     "output_type": "stream",
     "text": [
      "                                                                                        \r"
     ]
    },
    {
     "data": {
      "text/html": [
       "Total time to handle less significant features: 5.77 sec  "
      ],
      "text/plain": [
       "<IPython.core.display.HTML object>"
      ]
     },
     "metadata": {},
     "output_type": "display_data"
    },
    {
     "name": "stdout",
     "output_type": "stream",
     "text": [
      "                                                                                         \r"
     ]
    },
    {
     "data": {
      "text/html": [
       "\n",
       "Handling Date Features ..."
      ],
      "text/plain": [
       "<IPython.core.display.HTML object>"
      ]
     },
     "metadata": {},
     "output_type": "display_data"
    },
    {
     "name": "stdout",
     "output_type": "stream",
     "text": [
      "Analysis Completed. Dataset does not contain any feature related to dates. No action needed.\n",
      "                                                                                         \r"
     ]
    },
    {
     "data": {
      "text/html": [
       "Total time to handle date features: 0.00 sec\n"
      ],
      "text/plain": [
       "<IPython.core.display.HTML object>"
      ]
     },
     "metadata": {},
     "output_type": "display_data"
    },
    {
     "name": "stdout",
     "output_type": "stream",
     "text": [
      "Proceeding with default option for missing value imputation.                             \n",
      "Proceeding with default option for handling remaining missing values.                    \n",
      "                                                                                         \r"
     ]
    },
    {
     "data": {
      "text/html": [
       "\n",
       "Checking Missing values in dataset ..."
      ],
      "text/plain": [
       "<IPython.core.display.HTML object>"
      ]
     },
     "metadata": {},
     "output_type": "display_data"
    },
    {
     "name": "stdout",
     "output_type": "stream",
     "text": [
      "Analysis Completed. No Missing Values Detected.                                          \n",
      "                                                                                         \r"
     ]
    },
    {
     "data": {
      "text/html": [
       "Total time to find missing values in data: 7.49 sec  "
      ],
      "text/plain": [
       "<IPython.core.display.HTML object>"
      ]
     },
     "metadata": {},
     "output_type": "display_data"
    },
    {
     "name": "stdout",
     "output_type": "stream",
     "text": [
      "                                                                                         \r"
     ]
    },
    {
     "data": {
      "text/html": [
       "\n",
       "Imputing Missing Values ..."
      ],
      "text/plain": [
       "<IPython.core.display.HTML object>"
      ]
     },
     "metadata": {},
     "output_type": "display_data"
    },
    {
     "name": "stdout",
     "output_type": "stream",
     "text": [
      "Analysis completed. No imputation required.                                              \n",
      "                                                                                         \r"
     ]
    },
    {
     "data": {
      "text/html": [
       "Time taken to perform imputation: 0.01 sec  "
      ],
      "text/plain": [
       "<IPython.core.display.HTML object>"
      ]
     },
     "metadata": {},
     "output_type": "display_data"
    },
    {
     "name": "stdout",
     "output_type": "stream",
     "text": [
      "No information provided for Variable-Width Transformation.                               \n",
      "Skipping customized string manipulation.⫾⫾⫾⫾⫾⫾⫾⫾⫾⫾⫾⫾⫾⫾⫾⫾⫾⫾⫾⫾⫾⫾⫾⫾⫾⫾⫾⫾⫾⫾⫾⫾⫾⫾⫾⫾⫾｜ 26% - 5/19\n",
      "                                                                                         \r"
     ]
    },
    {
     "data": {
      "text/html": [
       "\n",
       "Starting Customized Categorical Feature Encoding ..."
      ],
      "text/plain": [
       "<IPython.core.display.HTML object>"
      ]
     },
     "metadata": {},
     "output_type": "display_data"
    },
    {
     "name": "stdout",
     "output_type": "stream",
     "text": [
      "AutoML will proceed with default encoding technique.                                     \n",
      "                                                                                         \r"
     ]
    },
    {
     "data": {
      "text/html": [
       "\n",
       "Performing encoding for categorical columns ..."
      ],
      "text/plain": [
       "<IPython.core.display.HTML object>"
      ]
     },
     "metadata": {},
     "output_type": "display_data"
    },
    {
     "name": "stdout",
     "output_type": "stream",
     "text": [
      "Analysis completed. No categorical columns were found.                                   \n",
      "                                                                                         \r"
     ]
    },
    {
     "data": {
      "text/html": [
       "Time taken to encode the columns: 1.48 sec"
      ],
      "text/plain": [
       "<IPython.core.display.HTML object>"
      ]
     },
     "metadata": {},
     "output_type": "display_data"
    },
    {
     "name": "stdout",
     "output_type": "stream",
     "text": [
      "                                                                                         \r"
     ]
    },
    {
     "data": {
      "text/html": [
       "\n",
       "Starting customized mathematical transformation ..."
      ],
      "text/plain": [
       "<IPython.core.display.HTML object>"
      ]
     },
     "metadata": {},
     "output_type": "display_data"
    },
    {
     "name": "stdout",
     "output_type": "stream",
     "text": [
      "Skipping customized mathematical transformation.                                         \n",
      "                                                                                         \r"
     ]
    },
    {
     "data": {
      "text/html": [
       "\n",
       "Starting customized non-linear transformation ..."
      ],
      "text/plain": [
       "<IPython.core.display.HTML object>"
      ]
     },
     "metadata": {},
     "output_type": "display_data"
    },
    {
     "name": "stdout",
     "output_type": "stream",
     "text": [
      "Skipping customized non-linear transformation.                                           \n",
      "                                                                                         \r"
     ]
    },
    {
     "data": {
      "text/html": [
       "\n",
       "Starting customized anti-select columns ..."
      ],
      "text/plain": [
       "<IPython.core.display.HTML object>"
      ]
     },
     "metadata": {},
     "output_type": "display_data"
    },
    {
     "name": "stdout",
     "output_type": "stream",
     "text": [
      "Skipping customized anti-select columns.                                                 \n",
      "                                                                                          \r"
     ]
    },
    {
     "data": {
      "text/html": [
       "\n",
       "            <style>\n",
       "                .custom-div {\n",
       "                    background-color: lightgray;\n",
       "                    color: #000000;\n",
       "                    padding: 10px;\n",
       "                    border-radius: 8px;\n",
       "                    box-shadow: 0 3px 4px rgba(0 -  0 -  0 -  0.2);\n",
       "                    margin-bottom: 10px;\n",
       "                    text-align: center;\n",
       "                }\n",
       "            </style>\n",
       "        <br><div class=\"custom-div\"><h3><span style=\"color: green;\">1. Feature Exploration -> 2. Feature Engineering -></span> 3. Data Preparation -> 4. Model Training & Evaluation<center></h3></center></div>"
      ],
      "text/plain": [
       "<IPython.core.display.HTML object>"
      ]
     },
     "metadata": {},
     "output_type": "display_data"
    },
    {
     "name": "stdout",
     "output_type": "stream",
     "text": [
      "                                                                                          \r"
     ]
    },
    {
     "data": {
      "text/html": [
       "Data preparation started ..."
      ],
      "text/plain": [
       "<IPython.core.display.HTML object>"
      ]
     },
     "metadata": {},
     "output_type": "display_data"
    },
    {
     "name": "stdout",
     "output_type": "stream",
     "text": [
      "                                                                                          \r"
     ]
    },
    {
     "data": {
      "text/html": [
       "\n",
       "Spliting of dataset into training and testing ..."
      ],
      "text/plain": [
       "<IPython.core.display.HTML object>"
      ]
     },
     "metadata": {},
     "output_type": "display_data"
    },
    {
     "name": "stdout",
     "output_type": "stream",
     "text": [
      "Training size : 0.85                                                                      \n",
      "Testing size  : 0.15                                                                      \n",
      "                                                                                          \r"
     ]
    },
    {
     "data": {
      "text/html": [
       "Training data sample"
      ],
      "text/plain": [
       "<IPython.core.display.HTML object>"
      ]
     },
     "metadata": {},
     "output_type": "display_data"
    },
    {
     "data": {
      "text/html": [
       "<style type=\"text/css\">\n",
       "\ttable {border:ridge 5px;}\n",
       "\ttable td {border:inset 1px;}\n",
       "\ttable tr#HeaderRow {background-color:grey; color:white;}</style>\n",
       "<html><table>\n",
       "\t<tr id=\"HeaderRow\">\n",
       "\t\t<th>sepal_length</th>\n",
       "\t\t<th>sepal_width</th>\n",
       "\t\t<th>petal_length</th>\n",
       "\t\t<th>petal_width</th>\n",
       "\t\t<th>species</th>\n",
       "\t\t<th>id</th>\n",
       "\t</tr>\n",
       "\t<tr>\n",
       "\t\t<td>5.0</td>\n",
       "\t\t<td>2.0</td>\n",
       "\t\t<td>3.5</td>\n",
       "\t\t<td>1.0</td>\n",
       "\t\t<td>2</td>\n",
       "\t\t<td>14</td>\n",
       "\t</tr>\n",
       "\t<tr>\n",
       "\t\t<td>6.3</td>\n",
       "\t\t<td>3.3</td>\n",
       "\t\t<td>6.0</td>\n",
       "\t\t<td>2.5</td>\n",
       "\t\t<td>3</td>\n",
       "\t\t<td>9</td>\n",
       "\t</tr>\n",
       "\t<tr>\n",
       "\t\t<td>5.4</td>\n",
       "\t\t<td>3.9</td>\n",
       "\t\t<td>1.3</td>\n",
       "\t\t<td>0.4</td>\n",
       "\t\t<td>1</td>\n",
       "\t\t<td>17</td>\n",
       "\t</tr>\n",
       "\t<tr>\n",
       "\t\t<td>6.6</td>\n",
       "\t\t<td>3.0</td>\n",
       "\t\t<td>4.4</td>\n",
       "\t\t<td>1.4</td>\n",
       "\t\t<td>2</td>\n",
       "\t\t<td>8</td>\n",
       "\t</tr>\n",
       "\t<tr>\n",
       "\t\t<td>5.1</td>\n",
       "\t\t<td>3.4</td>\n",
       "\t\t<td>1.5</td>\n",
       "\t\t<td>0.2</td>\n",
       "\t\t<td>1</td>\n",
       "\t\t<td>10</td>\n",
       "\t</tr>\n",
       "\t<tr>\n",
       "\t\t<td>6.0</td>\n",
       "\t\t<td>2.2</td>\n",
       "\t\t<td>5.0</td>\n",
       "\t\t<td>1.5</td>\n",
       "\t\t<td>3</td>\n",
       "\t\t<td>18</td>\n",
       "\t</tr>\n",
       "\t<tr>\n",
       "\t\t<td>5.1</td>\n",
       "\t\t<td>2.5</td>\n",
       "\t\t<td>3.0</td>\n",
       "\t\t<td>1.1</td>\n",
       "\t\t<td>2</td>\n",
       "\t\t<td>13</td>\n",
       "\t</tr>\n",
       "\t<tr>\n",
       "\t\t<td>5.6</td>\n",
       "\t\t<td>2.7</td>\n",
       "\t\t<td>4.2</td>\n",
       "\t\t<td>1.3</td>\n",
       "\t\t<td>2</td>\n",
       "\t\t<td>21</td>\n",
       "\t</tr>\n",
       "\t<tr>\n",
       "\t\t<td>5.6</td>\n",
       "\t\t<td>2.8</td>\n",
       "\t\t<td>4.9</td>\n",
       "\t\t<td>2.0</td>\n",
       "\t\t<td>3</td>\n",
       "\t\t<td>11</td>\n",
       "\t</tr>\n",
       "\t<tr>\n",
       "\t\t<td>5.7</td>\n",
       "\t\t<td>3.8</td>\n",
       "\t\t<td>1.7</td>\n",
       "\t\t<td>0.3</td>\n",
       "\t\t<td>1</td>\n",
       "\t\t<td>19</td>\n",
       "\t</tr>\n",
       "</table></html>"
      ],
      "text/plain": [
       "   sepal_length  sepal_width  petal_length  petal_width  species  id\n",
       "0           5.0          2.0           3.5          1.0        2  14\n",
       "1           6.3          3.3           6.0          2.5        3   9\n",
       "2           5.4          3.9           1.3          0.4        1  17\n",
       "3           6.6          3.0           4.4          1.4        2   8\n",
       "4           5.1          3.4           1.5          0.2        1  10\n",
       "5           6.0          2.2           5.0          1.5        3  18\n",
       "6           5.1          2.5           3.0          1.1        2  13\n",
       "7           5.6          2.7           4.2          1.3        2  21\n",
       "8           5.6          2.8           4.9          2.0        3  11\n",
       "9           5.7          3.8           1.7          0.3        1  19"
      ]
     },
     "metadata": {},
     "output_type": "display_data"
    },
    {
     "name": "stdout",
     "output_type": "stream",
     "text": [
      "                                                                                          \r"
     ]
    },
    {
     "data": {
      "text/html": [
       "102 rows X 6 columns"
      ],
      "text/plain": [
       "<IPython.core.display.HTML object>"
      ]
     },
     "metadata": {},
     "output_type": "display_data"
    },
    {
     "name": "stdout",
     "output_type": "stream",
     "text": [
      "                                                                                          \r"
     ]
    },
    {
     "data": {
      "text/html": [
       "Testing data sample"
      ],
      "text/plain": [
       "<IPython.core.display.HTML object>"
      ]
     },
     "metadata": {},
     "output_type": "display_data"
    },
    {
     "data": {
      "text/html": [
       "<style type=\"text/css\">\n",
       "\ttable {border:ridge 5px;}\n",
       "\ttable td {border:inset 1px;}\n",
       "\ttable tr#HeaderRow {background-color:grey; color:white;}</style>\n",
       "<html><table>\n",
       "\t<tr id=\"HeaderRow\">\n",
       "\t\t<th>sepal_length</th>\n",
       "\t\t<th>sepal_width</th>\n",
       "\t\t<th>petal_length</th>\n",
       "\t\t<th>petal_width</th>\n",
       "\t\t<th>species</th>\n",
       "\t\t<th>id</th>\n",
       "\t</tr>\n",
       "\t<tr>\n",
       "\t\t<td>5.7</td>\n",
       "\t\t<td>2.5</td>\n",
       "\t\t<td>5.0</td>\n",
       "\t\t<td>2.0</td>\n",
       "\t\t<td>3</td>\n",
       "\t\t<td>28</td>\n",
       "\t</tr>\n",
       "\t<tr>\n",
       "\t\t<td>5.8</td>\n",
       "\t\t<td>4.0</td>\n",
       "\t\t<td>1.2</td>\n",
       "\t\t<td>0.2</td>\n",
       "\t\t<td>1</td>\n",
       "\t\t<td>31</td>\n",
       "\t</tr>\n",
       "\t<tr>\n",
       "\t\t<td>6.0</td>\n",
       "\t\t<td>2.9</td>\n",
       "\t\t<td>4.5</td>\n",
       "\t\t<td>1.5</td>\n",
       "\t\t<td>2</td>\n",
       "\t\t<td>103</td>\n",
       "\t</tr>\n",
       "\t<tr>\n",
       "\t\t<td>5.3</td>\n",
       "\t\t<td>3.7</td>\n",
       "\t\t<td>1.5</td>\n",
       "\t\t<td>0.2</td>\n",
       "\t\t<td>1</td>\n",
       "\t\t<td>29</td>\n",
       "\t</tr>\n",
       "\t<tr>\n",
       "\t\t<td>6.6</td>\n",
       "\t\t<td>2.9</td>\n",
       "\t\t<td>4.6</td>\n",
       "\t\t<td>1.3</td>\n",
       "\t\t<td>2</td>\n",
       "\t\t<td>27</td>\n",
       "\t</tr>\n",
       "\t<tr>\n",
       "\t\t<td>6.9</td>\n",
       "\t\t<td>3.1</td>\n",
       "\t\t<td>5.4</td>\n",
       "\t\t<td>2.1</td>\n",
       "\t\t<td>3</td>\n",
       "\t\t<td>99</td>\n",
       "\t</tr>\n",
       "\t<tr>\n",
       "\t\t<td>5.0</td>\n",
       "\t\t<td>3.2</td>\n",
       "\t\t<td>1.2</td>\n",
       "\t\t<td>0.2</td>\n",
       "\t\t<td>1</td>\n",
       "\t\t<td>30</td>\n",
       "\t</tr>\n",
       "\t<tr>\n",
       "\t\t<td>5.6</td>\n",
       "\t\t<td>2.9</td>\n",
       "\t\t<td>3.6</td>\n",
       "\t\t<td>1.3</td>\n",
       "\t\t<td>2</td>\n",
       "\t\t<td>102</td>\n",
       "\t</tr>\n",
       "\t<tr>\n",
       "\t\t<td>6.5</td>\n",
       "\t\t<td>3.0</td>\n",
       "\t\t<td>5.5</td>\n",
       "\t\t<td>1.8</td>\n",
       "\t\t<td>3</td>\n",
       "\t\t<td>53</td>\n",
       "\t</tr>\n",
       "\t<tr>\n",
       "\t\t<td>6.1</td>\n",
       "\t\t<td>3.0</td>\n",
       "\t\t<td>4.6</td>\n",
       "\t\t<td>1.4</td>\n",
       "\t\t<td>2</td>\n",
       "\t\t<td>76</td>\n",
       "\t</tr>\n",
       "</table></html>"
      ],
      "text/plain": [
       "   sepal_length  sepal_width  petal_length  petal_width  species   id\n",
       "0           5.7          2.5           5.0          2.0        3   28\n",
       "1           5.8          4.0           1.2          0.2        1   31\n",
       "2           6.0          2.9           4.5          1.5        2  103\n",
       "3           5.3          3.7           1.5          0.2        1   29\n",
       "4           6.6          2.9           4.6          1.3        2   27\n",
       "5           6.9          3.1           5.4          2.1        3   99\n",
       "6           5.0          3.2           1.2          0.2        1   30\n",
       "7           5.6          2.9           3.6          1.3        2  102\n",
       "8           6.5          3.0           5.5          1.8        3   53\n",
       "9           6.1          3.0           4.6          1.4        2   76"
      ]
     },
     "metadata": {},
     "output_type": "display_data"
    },
    {
     "name": "stdout",
     "output_type": "stream",
     "text": [
      "                                                                                          \r"
     ]
    },
    {
     "data": {
      "text/html": [
       "18 rows X 6 columns"
      ],
      "text/plain": [
       "<IPython.core.display.HTML object>"
      ]
     },
     "metadata": {},
     "output_type": "display_data"
    },
    {
     "name": "stdout",
     "output_type": "stream",
     "text": [
      "                                                                                          \r"
     ]
    },
    {
     "data": {
      "text/html": [
       "Time taken for spliting of data: 11.80 sec  "
      ],
      "text/plain": [
       "<IPython.core.display.HTML object>"
      ]
     },
     "metadata": {},
     "output_type": "display_data"
    },
    {
     "name": "stdout",
     "output_type": "stream",
     "text": [
      "                                                                                          \r"
     ]
    },
    {
     "data": {
      "text/html": [
       "\n",
       "Starting customized outlier processing ..."
      ],
      "text/plain": [
       "<IPython.core.display.HTML object>"
      ]
     },
     "metadata": {},
     "output_type": "display_data"
    },
    {
     "name": "stdout",
     "output_type": "stream",
     "text": [
      "No information provided for customized outlier processing. AutoML will proceed with default settings.\n",
      "                                                                                          \r"
     ]
    },
    {
     "data": {
      "text/html": [
       "\n",
       "Outlier preprocessing ..."
      ],
      "text/plain": [
       "<IPython.core.display.HTML object>"
      ]
     },
     "metadata": {},
     "output_type": "display_data"
    },
    {
     "name": "stdout",
     "output_type": "stream",
     "text": [
      "Columns with outlier percentage :-                                                                                                                                                                                                                                                                                                                                                                                                                                                                                  \n",
      "    ColumnName  OutlierPercentage\n",
      "0  sepal_width           0.833333\n",
      "                                                                                          \r"
     ]
    },
    {
     "data": {
      "text/html": [
       "Deleting rows of these columns:"
      ],
      "text/plain": [
       "<IPython.core.display.HTML object>"
      ]
     },
     "metadata": {},
     "output_type": "display_data"
    },
    {
     "name": "stdout",
     "output_type": "stream",
     "text": [
      "['sepal_width']\n",
      "result data stored in table '\"ALICE\".\"ml__td_sqlmr_persist_out__1719271084415332\"' - 11/19\n",
      "                                                                                          \r"
     ]
    },
    {
     "data": {
      "text/html": [
       "Sample of training dataset after removing outlier rows:"
      ],
      "text/plain": [
       "<IPython.core.display.HTML object>"
      ]
     },
     "metadata": {},
     "output_type": "display_data"
    },
    {
     "data": {
      "text/html": [
       "<style type=\"text/css\">\n",
       "\ttable {border:ridge 5px;}\n",
       "\ttable td {border:inset 1px;}\n",
       "\ttable tr#HeaderRow {background-color:grey; color:white;}</style>\n",
       "<html><table>\n",
       "\t<tr id=\"HeaderRow\">\n",
       "\t\t<th>sepal_length</th>\n",
       "\t\t<th>sepal_width</th>\n",
       "\t\t<th>petal_length</th>\n",
       "\t\t<th>petal_width</th>\n",
       "\t\t<th>species</th>\n",
       "\t\t<th>id</th>\n",
       "\t</tr>\n",
       "\t<tr>\n",
       "\t\t<td>7.2</td>\n",
       "\t\t<td>3.0</td>\n",
       "\t\t<td>5.8</td>\n",
       "\t\t<td>1.6</td>\n",
       "\t\t<td>3</td>\n",
       "\t\t<td>112</td>\n",
       "\t</tr>\n",
       "\t<tr>\n",
       "\t\t<td>6.1</td>\n",
       "\t\t<td>2.9</td>\n",
       "\t\t<td>4.7</td>\n",
       "\t\t<td>1.4</td>\n",
       "\t\t<td>2</td>\n",
       "\t\t<td>65</td>\n",
       "\t</tr>\n",
       "\t<tr>\n",
       "\t\t<td>6.1</td>\n",
       "\t\t<td>2.6</td>\n",
       "\t\t<td>5.6</td>\n",
       "\t\t<td>1.4</td>\n",
       "\t\t<td>3</td>\n",
       "\t\t<td>20</td>\n",
       "\t</tr>\n",
       "\t<tr>\n",
       "\t\t<td>4.5</td>\n",
       "\t\t<td>2.3</td>\n",
       "\t\t<td>1.3</td>\n",
       "\t\t<td>0.3</td>\n",
       "\t\t<td>1</td>\n",
       "\t\t<td>126</td>\n",
       "\t</tr>\n",
       "\t<tr>\n",
       "\t\t<td>5.4</td>\n",
       "\t\t<td>3.4</td>\n",
       "\t\t<td>1.5</td>\n",
       "\t\t<td>0.4</td>\n",
       "\t\t<td>1</td>\n",
       "\t\t<td>39</td>\n",
       "\t</tr>\n",
       "\t<tr>\n",
       "\t\t<td>6.2</td>\n",
       "\t\t<td>2.8</td>\n",
       "\t\t<td>4.8</td>\n",
       "\t\t<td>1.8</td>\n",
       "\t\t<td>3</td>\n",
       "\t\t<td>58</td>\n",
       "\t</tr>\n",
       "\t<tr>\n",
       "\t\t<td>6.2</td>\n",
       "\t\t<td>3.4</td>\n",
       "\t\t<td>5.4</td>\n",
       "\t\t<td>2.3</td>\n",
       "\t\t<td>3</td>\n",
       "\t\t<td>122</td>\n",
       "\t</tr>\n",
       "\t<tr>\n",
       "\t\t<td>6.7</td>\n",
       "\t\t<td>2.5</td>\n",
       "\t\t<td>5.8</td>\n",
       "\t\t<td>1.8</td>\n",
       "\t\t<td>3</td>\n",
       "\t\t<td>100</td>\n",
       "\t</tr>\n",
       "\t<tr>\n",
       "\t\t<td>6.7</td>\n",
       "\t\t<td>3.0</td>\n",
       "\t\t<td>5.0</td>\n",
       "\t\t<td>1.7</td>\n",
       "\t\t<td>2</td>\n",
       "\t\t<td>15</td>\n",
       "\t</tr>\n",
       "\t<tr>\n",
       "\t\t<td>7.3</td>\n",
       "\t\t<td>2.9</td>\n",
       "\t\t<td>6.3</td>\n",
       "\t\t<td>1.8</td>\n",
       "\t\t<td>3</td>\n",
       "\t\t<td>63</td>\n",
       "\t</tr>\n",
       "</table></html>"
      ],
      "text/plain": [
       "              sepal_width  petal_length  petal_width  species   id\n",
       "sepal_length                                                      \n",
       "7.2                   3.0           5.8          1.6        3  112\n",
       "6.1                   2.9           4.7          1.4        2   65\n",
       "6.1                   2.6           5.6          1.4        3   20\n",
       "4.5                   2.3           1.3          0.3        1  126\n",
       "5.4                   3.4           1.5          0.4        1   39\n",
       "6.2                   2.8           4.8          1.8        3   58\n",
       "6.2                   3.4           5.4          2.3        3  122\n",
       "6.7                   2.5           5.8          1.8        3  100\n",
       "6.7                   3.0           5.0          1.7        2   15\n",
       "7.3                   2.9           6.3          1.8        3   63"
      ]
     },
     "metadata": {},
     "output_type": "display_data"
    },
    {
     "name": "stdout",
     "output_type": "stream",
     "text": [
      "                                                                                          \r"
     ]
    },
    {
     "data": {
      "text/html": [
       "101 rows X 6 columns"
      ],
      "text/plain": [
       "<IPython.core.display.HTML object>"
      ]
     },
     "metadata": {},
     "output_type": "display_data"
    },
    {
     "name": "stdout",
     "output_type": "stream",
     "text": [
      "                                                                                          \r"
     ]
    },
    {
     "data": {
      "text/html": [
       "Time Taken by Outlier processing: 33.83 sec "
      ],
      "text/plain": [
       "<IPython.core.display.HTML object>"
      ]
     },
     "metadata": {},
     "output_type": "display_data"
    },
    {
     "name": "stdout",
     "output_type": "stream",
     "text": [
      "result data stored in table '\"ALICE\".\"ml__td_sqlmr_persist_out__1719264618371555\"' - 12/19\n",
      "result data stored in table '\"ALICE\".\"ml__td_sqlmr_persist_out__1719265925891621\"'\n",
      "                                                                                          \r"
     ]
    },
    {
     "data": {
      "text/html": [
       "\n",
       "Checking imbalance data ..."
      ],
      "text/plain": [
       "<IPython.core.display.HTML object>"
      ]
     },
     "metadata": {},
     "output_type": "display_data"
    },
    {
     "name": "stdout",
     "output_type": "stream",
     "text": [
      "                                                                                          \r"
     ]
    },
    {
     "data": {
      "text/html": [
       "Imbalance Not Found."
      ],
      "text/plain": [
       "<IPython.core.display.HTML object>"
      ]
     },
     "metadata": {},
     "output_type": "display_data"
    },
    {
     "name": "stdout",
     "output_type": "stream",
     "text": [
      "                                                                                          \r"
     ]
    },
    {
     "data": {
      "text/html": [
       "\n",
       "Feature selection using lasso ..."
      ],
      "text/plain": [
       "<IPython.core.display.HTML object>"
      ]
     },
     "metadata": {},
     "output_type": "display_data"
    },
    {
     "name": "stdout",
     "output_type": "stream",
     "text": [
      "                                                                                          \r"
     ]
    },
    {
     "data": {
      "text/html": [
       "feature selected by lasso:"
      ],
      "text/plain": [
       "<IPython.core.display.HTML object>"
      ]
     },
     "metadata": {},
     "output_type": "display_data"
    },
    {
     "name": "stdout",
     "output_type": "stream",
     "text": [
      "['sepal_length', 'sepal_width', 'petal_width', 'petal_length']\n",
      "                                                                                          \r"
     ]
    },
    {
     "data": {
      "text/html": [
       "Total time taken by feature selection: 1.86 sec  "
      ],
      "text/plain": [
       "<IPython.core.display.HTML object>"
      ]
     },
     "metadata": {},
     "output_type": "display_data"
    },
    {
     "name": "stdout",
     "output_type": "stream",
     "text": [
      "                                                                                          \r"
     ]
    },
    {
     "data": {
      "text/html": [
       "\n",
       "scaling Features of lasso data ..."
      ],
      "text/plain": [
       "<IPython.core.display.HTML object>"
      ]
     },
     "metadata": {},
     "output_type": "display_data"
    },
    {
     "name": "stdout",
     "output_type": "stream",
     "text": [
      "                                                                                          \r"
     ]
    },
    {
     "data": {
      "text/html": [
       "columns that will be scaled: "
      ],
      "text/plain": [
       "<IPython.core.display.HTML object>"
      ]
     },
     "metadata": {},
     "output_type": "display_data"
    },
    {
     "name": "stdout",
     "output_type": "stream",
     "text": [
      "['sepal_length', 'sepal_width', 'petal_width', 'petal_length']\n",
      "                                                                                          \r"
     ]
    },
    {
     "data": {
      "text/html": [
       "Training dataset sample after scaling:"
      ],
      "text/plain": [
       "<IPython.core.display.HTML object>"
      ]
     },
     "metadata": {},
     "output_type": "display_data"
    },
    {
     "data": {
      "text/html": [
       "<style type=\"text/css\">\n",
       "\ttable {border:ridge 5px;}\n",
       "\ttable td {border:inset 1px;}\n",
       "\ttable tr#HeaderRow {background-color:grey; color:white;}</style>\n",
       "<html><table>\n",
       "\t<tr id=\"HeaderRow\">\n",
       "\t\t<th>id</th>\n",
       "\t\t<th>species</th>\n",
       "\t\t<th>sepal_length</th>\n",
       "\t\t<th>sepal_width</th>\n",
       "\t\t<th>petal_width</th>\n",
       "\t\t<th>petal_length</th>\n",
       "\t</tr>\n",
       "\t<tr>\n",
       "\t\t<td>10</td>\n",
       "\t\t<td>1</td>\n",
       "\t\t<td>0.2121212121212119</td>\n",
       "\t\t<td>0.6363636363636362</td>\n",
       "\t\t<td>0.04166666666666667</td>\n",
       "\t\t<td>0.0847457627118644</td>\n",
       "\t</tr>\n",
       "\t<tr>\n",
       "\t\t<td>12</td>\n",
       "\t\t<td>2</td>\n",
       "\t\t<td>0.3939393939393939</td>\n",
       "\t\t<td>0.27272727272727276</td>\n",
       "\t\t<td>0.375</td>\n",
       "\t\t<td>0.423728813559322</td>\n",
       "\t</tr>\n",
       "\t<tr>\n",
       "\t\t<td>13</td>\n",
       "\t\t<td>2</td>\n",
       "\t\t<td>0.2121212121212119</td>\n",
       "\t\t<td>0.22727272727272727</td>\n",
       "\t\t<td>0.4166666666666667</td>\n",
       "\t\t<td>0.3389830508474576</td>\n",
       "\t</tr>\n",
       "\t<tr>\n",
       "\t\t<td>14</td>\n",
       "\t\t<td>2</td>\n",
       "\t\t<td>0.1818181818181817</td>\n",
       "\t\t<td>0.0</td>\n",
       "\t\t<td>0.375</td>\n",
       "\t\t<td>0.423728813559322</td>\n",
       "\t</tr>\n",
       "\t<tr>\n",
       "\t\t<td>16</td>\n",
       "\t\t<td>1</td>\n",
       "\t\t<td>0.1818181818181817</td>\n",
       "\t\t<td>0.45454545454545453</td>\n",
       "\t\t<td>0.04166666666666667</td>\n",
       "\t\t<td>0.1016949152542373</td>\n",
       "\t</tr>\n",
       "\t<tr>\n",
       "\t\t<td>17</td>\n",
       "\t\t<td>1</td>\n",
       "\t\t<td>0.30303030303030304</td>\n",
       "\t\t<td>0.8636363636363635</td>\n",
       "\t\t<td>0.12500000000000003</td>\n",
       "\t\t<td>0.05084745762711865</td>\n",
       "\t</tr>\n",
       "\t<tr>\n",
       "\t\t<td>15</td>\n",
       "\t\t<td>2</td>\n",
       "\t\t<td>0.6969696969696969</td>\n",
       "\t\t<td>0.45454545454545453</td>\n",
       "\t\t<td>0.6666666666666666</td>\n",
       "\t\t<td>0.6779661016949152</td>\n",
       "\t</tr>\n",
       "\t<tr>\n",
       "\t\t<td>11</td>\n",
       "\t\t<td>3</td>\n",
       "\t\t<td>0.3636363636363634</td>\n",
       "\t\t<td>0.36363636363636354</td>\n",
       "\t\t<td>0.7916666666666666</td>\n",
       "\t\t<td>0.6610169491525424</td>\n",
       "\t</tr>\n",
       "\t<tr>\n",
       "\t\t<td>9</td>\n",
       "\t\t<td>3</td>\n",
       "\t\t<td>0.5757575757575756</td>\n",
       "\t\t<td>0.5909090909090908</td>\n",
       "\t\t<td>1.0</td>\n",
       "\t\t<td>0.847457627118644</td>\n",
       "\t</tr>\n",
       "\t<tr>\n",
       "\t\t<td>8</td>\n",
       "\t\t<td>2</td>\n",
       "\t\t<td>0.6666666666666665</td>\n",
       "\t\t<td>0.45454545454545453</td>\n",
       "\t\t<td>0.5416666666666666</td>\n",
       "\t\t<td>0.576271186440678</td>\n",
       "\t</tr>\n",
       "</table></html>"
      ],
      "text/plain": [
       "   id  species  sepal_length  sepal_width  petal_width  petal_length\n",
       "0  10        1      0.212121     0.636364     0.041667      0.084746\n",
       "1  12        2      0.393939     0.272727     0.375000      0.423729\n",
       "2  13        2      0.212121     0.227273     0.416667      0.338983\n",
       "3  14        2      0.181818     0.000000     0.375000      0.423729\n",
       "4  16        1      0.181818     0.454545     0.041667      0.101695\n",
       "5  17        1      0.303030     0.863636     0.125000      0.050847\n",
       "6  15        2      0.696970     0.454545     0.666667      0.677966\n",
       "7  11        3      0.363636     0.363636     0.791667      0.661017\n",
       "8   9        3      0.575758     0.590909     1.000000      0.847458\n",
       "9   8        2      0.666667     0.454545     0.541667      0.576271"
      ]
     },
     "metadata": {},
     "output_type": "display_data"
    },
    {
     "name": "stdout",
     "output_type": "stream",
     "text": [
      "                                                                                          \r"
     ]
    },
    {
     "data": {
      "text/html": [
       "101 rows X 6 columns"
      ],
      "text/plain": [
       "<IPython.core.display.HTML object>"
      ]
     },
     "metadata": {},
     "output_type": "display_data"
    },
    {
     "name": "stdout",
     "output_type": "stream",
     "text": [
      "                                                                                          \r"
     ]
    },
    {
     "data": {
      "text/html": [
       "Testing dataset sample after scaling:"
      ],
      "text/plain": [
       "<IPython.core.display.HTML object>"
      ]
     },
     "metadata": {},
     "output_type": "display_data"
    },
    {
     "data": {
      "text/html": [
       "<style type=\"text/css\">\n",
       "\ttable {border:ridge 5px;}\n",
       "\ttable td {border:inset 1px;}\n",
       "\ttable tr#HeaderRow {background-color:grey; color:white;}</style>\n",
       "<html><table>\n",
       "\t<tr id=\"HeaderRow\">\n",
       "\t\t<th>id</th>\n",
       "\t\t<th>species</th>\n",
       "\t\t<th>sepal_length</th>\n",
       "\t\t<th>sepal_width</th>\n",
       "\t\t<th>petal_width</th>\n",
       "\t\t<th>petal_length</th>\n",
       "\t</tr>\n",
       "\t<tr>\n",
       "\t\t<td>130</td>\n",
       "\t\t<td>1</td>\n",
       "\t\t<td>0.06060606060606039</td>\n",
       "\t\t<td>0.5</td>\n",
       "\t\t<td>0.04166666666666667</td>\n",
       "\t\t<td>0.0847457627118644</td>\n",
       "\t</tr>\n",
       "\t<tr>\n",
       "\t\t<td>30</td>\n",
       "\t\t<td>1</td>\n",
       "\t\t<td>0.1818181818181817</td>\n",
       "\t\t<td>0.5454545454545455</td>\n",
       "\t\t<td>0.04166666666666667</td>\n",
       "\t\t<td>0.033898305084745756</td>\n",
       "\t</tr>\n",
       "\t<tr>\n",
       "\t\t<td>134</td>\n",
       "\t\t<td>3</td>\n",
       "\t\t<td>0.818181818181818</td>\n",
       "\t\t<td>0.45454545454545453</td>\n",
       "\t\t<td>0.8333333333333334</td>\n",
       "\t\t<td>0.8305084745762712</td>\n",
       "\t</tr>\n",
       "\t<tr>\n",
       "\t\t<td>29</td>\n",
       "\t\t<td>1</td>\n",
       "\t\t<td>0.2727272727272726</td>\n",
       "\t\t<td>0.7727272727272727</td>\n",
       "\t\t<td>0.04166666666666667</td>\n",
       "\t\t<td>0.0847457627118644</td>\n",
       "\t</tr>\n",
       "\t<tr>\n",
       "\t\t<td>107</td>\n",
       "\t\t<td>1</td>\n",
       "\t\t<td>-0.030303030303030467</td>\n",
       "\t\t<td>0.45454545454545453</td>\n",
       "\t\t<td>0.0</td>\n",
       "\t\t<td>0.016949152542372895</td>\n",
       "\t</tr>\n",
       "\t<tr>\n",
       "\t\t<td>99</td>\n",
       "\t\t<td>3</td>\n",
       "\t\t<td>0.7575757575757576</td>\n",
       "\t\t<td>0.5</td>\n",
       "\t\t<td>0.8333333333333334</td>\n",
       "\t\t<td>0.7457627118644068</td>\n",
       "\t</tr>\n",
       "\t<tr>\n",
       "\t\t<td>53</td>\n",
       "\t\t<td>3</td>\n",
       "\t\t<td>0.6363636363636362</td>\n",
       "\t\t<td>0.45454545454545453</td>\n",
       "\t\t<td>0.7083333333333334</td>\n",
       "\t\t<td>0.7627118644067796</td>\n",
       "\t</tr>\n",
       "\t<tr>\n",
       "\t\t<td>118</td>\n",
       "\t\t<td>3</td>\n",
       "\t\t<td>0.5757575757575756</td>\n",
       "\t\t<td>0.31818181818181823</td>\n",
       "\t\t<td>0.7083333333333334</td>\n",
       "\t\t<td>0.6610169491525424</td>\n",
       "\t</tr>\n",
       "\t<tr>\n",
       "\t\t<td>127</td>\n",
       "\t\t<td>3</td>\n",
       "\t\t<td>1.0606060606060606</td>\n",
       "\t\t<td>0.818181818181818</td>\n",
       "\t\t<td>0.7916666666666666</td>\n",
       "\t\t<td>0.9152542372881356</td>\n",
       "\t</tr>\n",
       "\t<tr>\n",
       "\t\t<td>31</td>\n",
       "\t\t<td>1</td>\n",
       "\t\t<td>0.4242424242424241</td>\n",
       "\t\t<td>0.9090909090909091</td>\n",
       "\t\t<td>0.04166666666666667</td>\n",
       "\t\t<td>0.033898305084745756</td>\n",
       "\t</tr>\n",
       "</table></html>"
      ],
      "text/plain": [
       "    id  species  sepal_length  sepal_width  petal_width  petal_length\n",
       "0  130        1      0.060606     0.500000     0.041667      0.084746\n",
       "1   30        1      0.181818     0.545455     0.041667      0.033898\n",
       "2  134        3      0.818182     0.454545     0.833333      0.830508\n",
       "3   29        1      0.272727     0.772727     0.041667      0.084746\n",
       "4  107        1     -0.030303     0.454545     0.000000      0.016949\n",
       "5   99        3      0.757576     0.500000     0.833333      0.745763\n",
       "6   53        3      0.636364     0.454545     0.708333      0.762712\n",
       "7  118        3      0.575758     0.318182     0.708333      0.661017\n",
       "8  127        3      1.060606     0.818182     0.791667      0.915254\n",
       "9   31        1      0.424242     0.909091     0.041667      0.033898"
      ]
     },
     "metadata": {},
     "output_type": "display_data"
    },
    {
     "name": "stdout",
     "output_type": "stream",
     "text": [
      "                                                                                          \r"
     ]
    },
    {
     "data": {
      "text/html": [
       "18 rows X 6 columns"
      ],
      "text/plain": [
       "<IPython.core.display.HTML object>"
      ]
     },
     "metadata": {},
     "output_type": "display_data"
    },
    {
     "name": "stdout",
     "output_type": "stream",
     "text": [
      "                                                                                          \r"
     ]
    },
    {
     "data": {
      "text/html": [
       "Total time taken by feature scaling: 37.69 sec"
      ],
      "text/plain": [
       "<IPython.core.display.HTML object>"
      ]
     },
     "metadata": {},
     "output_type": "display_data"
    },
    {
     "name": "stdout",
     "output_type": "stream",
     "text": [
      "                                                                                          \r"
     ]
    },
    {
     "data": {
      "text/html": [
       "\n",
       "Feature selection using rfe ..."
      ],
      "text/plain": [
       "<IPython.core.display.HTML object>"
      ]
     },
     "metadata": {},
     "output_type": "display_data"
    },
    {
     "name": "stdout",
     "output_type": "stream",
     "text": [
      "                                                                                          \r"
     ]
    },
    {
     "data": {
      "text/html": [
       "feature selected by RFE:"
      ],
      "text/plain": [
       "<IPython.core.display.HTML object>"
      ]
     },
     "metadata": {},
     "output_type": "display_data"
    },
    {
     "name": "stdout",
     "output_type": "stream",
     "text": [
      "['petal_length', 'petal_width']\n",
      "                                                                                          \r"
     ]
    },
    {
     "data": {
      "text/html": [
       "Total time taken by feature selection: 8.05 sec  "
      ],
      "text/plain": [
       "<IPython.core.display.HTML object>"
      ]
     },
     "metadata": {},
     "output_type": "display_data"
    },
    {
     "name": "stdout",
     "output_type": "stream",
     "text": [
      "                                                                                          \r"
     ]
    },
    {
     "data": {
      "text/html": [
       "\n",
       "scaling Features of rfe data ..."
      ],
      "text/plain": [
       "<IPython.core.display.HTML object>"
      ]
     },
     "metadata": {},
     "output_type": "display_data"
    },
    {
     "name": "stdout",
     "output_type": "stream",
     "text": [
      "                                                                                          \r"
     ]
    },
    {
     "data": {
      "text/html": [
       "columns that will be scaled: "
      ],
      "text/plain": [
       "<IPython.core.display.HTML object>"
      ]
     },
     "metadata": {},
     "output_type": "display_data"
    },
    {
     "name": "stdout",
     "output_type": "stream",
     "text": [
      "['r_petal_length', 'r_petal_width']\n",
      "                                                                                          \r"
     ]
    },
    {
     "data": {
      "text/html": [
       "Training dataset sample after scaling:"
      ],
      "text/plain": [
       "<IPython.core.display.HTML object>"
      ]
     },
     "metadata": {},
     "output_type": "display_data"
    },
    {
     "data": {
      "text/html": [
       "<style type=\"text/css\">\n",
       "\ttable {border:ridge 5px;}\n",
       "\ttable td {border:inset 1px;}\n",
       "\ttable tr#HeaderRow {background-color:grey; color:white;}</style>\n",
       "<html><table>\n",
       "\t<tr id=\"HeaderRow\">\n",
       "\t\t<th>id</th>\n",
       "\t\t<th>species</th>\n",
       "\t\t<th>r_petal_length</th>\n",
       "\t\t<th>r_petal_width</th>\n",
       "\t</tr>\n",
       "\t<tr>\n",
       "\t\t<td>10</td>\n",
       "\t\t<td>1</td>\n",
       "\t\t<td>0.0847457627118644</td>\n",
       "\t\t<td>0.04166666666666667</td>\n",
       "\t</tr>\n",
       "\t<tr>\n",
       "\t\t<td>12</td>\n",
       "\t\t<td>2</td>\n",
       "\t\t<td>0.423728813559322</td>\n",
       "\t\t<td>0.375</td>\n",
       "\t</tr>\n",
       "\t<tr>\n",
       "\t\t<td>13</td>\n",
       "\t\t<td>2</td>\n",
       "\t\t<td>0.3389830508474576</td>\n",
       "\t\t<td>0.4166666666666667</td>\n",
       "\t</tr>\n",
       "\t<tr>\n",
       "\t\t<td>14</td>\n",
       "\t\t<td>2</td>\n",
       "\t\t<td>0.423728813559322</td>\n",
       "\t\t<td>0.375</td>\n",
       "\t</tr>\n",
       "\t<tr>\n",
       "\t\t<td>16</td>\n",
       "\t\t<td>1</td>\n",
       "\t\t<td>0.1016949152542373</td>\n",
       "\t\t<td>0.04166666666666667</td>\n",
       "\t</tr>\n",
       "\t<tr>\n",
       "\t\t<td>17</td>\n",
       "\t\t<td>1</td>\n",
       "\t\t<td>0.05084745762711865</td>\n",
       "\t\t<td>0.12500000000000003</td>\n",
       "\t</tr>\n",
       "\t<tr>\n",
       "\t\t<td>15</td>\n",
       "\t\t<td>2</td>\n",
       "\t\t<td>0.6779661016949152</td>\n",
       "\t\t<td>0.6666666666666666</td>\n",
       "\t</tr>\n",
       "\t<tr>\n",
       "\t\t<td>11</td>\n",
       "\t\t<td>3</td>\n",
       "\t\t<td>0.6610169491525424</td>\n",
       "\t\t<td>0.7916666666666666</td>\n",
       "\t</tr>\n",
       "\t<tr>\n",
       "\t\t<td>9</td>\n",
       "\t\t<td>3</td>\n",
       "\t\t<td>0.847457627118644</td>\n",
       "\t\t<td>1.0</td>\n",
       "\t</tr>\n",
       "\t<tr>\n",
       "\t\t<td>8</td>\n",
       "\t\t<td>2</td>\n",
       "\t\t<td>0.576271186440678</td>\n",
       "\t\t<td>0.5416666666666666</td>\n",
       "\t</tr>\n",
       "</table></html>"
      ],
      "text/plain": [
       "   id  species  r_petal_length  r_petal_width\n",
       "0  10        1        0.084746       0.041667\n",
       "1  12        2        0.423729       0.375000\n",
       "2  13        2        0.338983       0.416667\n",
       "3  14        2        0.423729       0.375000\n",
       "4  16        1        0.101695       0.041667\n",
       "5  17        1        0.050847       0.125000\n",
       "6  15        2        0.677966       0.666667\n",
       "7  11        3        0.661017       0.791667\n",
       "8   9        3        0.847458       1.000000\n",
       "9   8        2        0.576271       0.541667"
      ]
     },
     "metadata": {},
     "output_type": "display_data"
    },
    {
     "name": "stdout",
     "output_type": "stream",
     "text": [
      "                                                                                          \r"
     ]
    },
    {
     "data": {
      "text/html": [
       "101 rows X 4 columns"
      ],
      "text/plain": [
       "<IPython.core.display.HTML object>"
      ]
     },
     "metadata": {},
     "output_type": "display_data"
    },
    {
     "name": "stdout",
     "output_type": "stream",
     "text": [
      "                                                                                          \r"
     ]
    },
    {
     "data": {
      "text/html": [
       "Testing dataset sample after scaling:"
      ],
      "text/plain": [
       "<IPython.core.display.HTML object>"
      ]
     },
     "metadata": {},
     "output_type": "display_data"
    },
    {
     "data": {
      "text/html": [
       "<style type=\"text/css\">\n",
       "\ttable {border:ridge 5px;}\n",
       "\ttable td {border:inset 1px;}\n",
       "\ttable tr#HeaderRow {background-color:grey; color:white;}</style>\n",
       "<html><table>\n",
       "\t<tr id=\"HeaderRow\">\n",
       "\t\t<th>id</th>\n",
       "\t\t<th>species</th>\n",
       "\t\t<th>r_petal_length</th>\n",
       "\t\t<th>r_petal_width</th>\n",
       "\t</tr>\n",
       "\t<tr>\n",
       "\t\t<td>130</td>\n",
       "\t\t<td>1</td>\n",
       "\t\t<td>0.0847457627118644</td>\n",
       "\t\t<td>0.04166666666666667</td>\n",
       "\t</tr>\n",
       "\t<tr>\n",
       "\t\t<td>30</td>\n",
       "\t\t<td>1</td>\n",
       "\t\t<td>0.033898305084745756</td>\n",
       "\t\t<td>0.04166666666666667</td>\n",
       "\t</tr>\n",
       "\t<tr>\n",
       "\t\t<td>134</td>\n",
       "\t\t<td>3</td>\n",
       "\t\t<td>0.8305084745762712</td>\n",
       "\t\t<td>0.8333333333333334</td>\n",
       "\t</tr>\n",
       "\t<tr>\n",
       "\t\t<td>29</td>\n",
       "\t\t<td>1</td>\n",
       "\t\t<td>0.0847457627118644</td>\n",
       "\t\t<td>0.04166666666666667</td>\n",
       "\t</tr>\n",
       "\t<tr>\n",
       "\t\t<td>107</td>\n",
       "\t\t<td>1</td>\n",
       "\t\t<td>0.016949152542372895</td>\n",
       "\t\t<td>0.0</td>\n",
       "\t</tr>\n",
       "\t<tr>\n",
       "\t\t<td>99</td>\n",
       "\t\t<td>3</td>\n",
       "\t\t<td>0.7457627118644068</td>\n",
       "\t\t<td>0.8333333333333334</td>\n",
       "\t</tr>\n",
       "\t<tr>\n",
       "\t\t<td>53</td>\n",
       "\t\t<td>3</td>\n",
       "\t\t<td>0.7627118644067796</td>\n",
       "\t\t<td>0.7083333333333334</td>\n",
       "\t</tr>\n",
       "\t<tr>\n",
       "\t\t<td>118</td>\n",
       "\t\t<td>3</td>\n",
       "\t\t<td>0.6610169491525424</td>\n",
       "\t\t<td>0.7083333333333334</td>\n",
       "\t</tr>\n",
       "\t<tr>\n",
       "\t\t<td>127</td>\n",
       "\t\t<td>3</td>\n",
       "\t\t<td>0.9152542372881356</td>\n",
       "\t\t<td>0.7916666666666666</td>\n",
       "\t</tr>\n",
       "\t<tr>\n",
       "\t\t<td>31</td>\n",
       "\t\t<td>1</td>\n",
       "\t\t<td>0.033898305084745756</td>\n",
       "\t\t<td>0.04166666666666667</td>\n",
       "\t</tr>\n",
       "</table></html>"
      ],
      "text/plain": [
       "    id  species  r_petal_length  r_petal_width\n",
       "0  130        1        0.084746       0.041667\n",
       "1   30        1        0.033898       0.041667\n",
       "2  134        3        0.830508       0.833333\n",
       "3   29        1        0.084746       0.041667\n",
       "4  107        1        0.016949       0.000000\n",
       "5   99        3        0.745763       0.833333\n",
       "6   53        3        0.762712       0.708333\n",
       "7  118        3        0.661017       0.708333\n",
       "8  127        3        0.915254       0.791667\n",
       "9   31        1        0.033898       0.041667"
      ]
     },
     "metadata": {},
     "output_type": "display_data"
    },
    {
     "name": "stdout",
     "output_type": "stream",
     "text": [
      "                                                                                          \r"
     ]
    },
    {
     "data": {
      "text/html": [
       "18 rows X 4 columns"
      ],
      "text/plain": [
       "<IPython.core.display.HTML object>"
      ]
     },
     "metadata": {},
     "output_type": "display_data"
    },
    {
     "name": "stdout",
     "output_type": "stream",
     "text": [
      "                                                                                          \r"
     ]
    },
    {
     "data": {
      "text/html": [
       "Total time taken by feature scaling: 34.01 sec"
      ],
      "text/plain": [
       "<IPython.core.display.HTML object>"
      ]
     },
     "metadata": {},
     "output_type": "display_data"
    },
    {
     "name": "stdout",
     "output_type": "stream",
     "text": [
      "                                                                                          \r"
     ]
    },
    {
     "data": {
      "text/html": [
       "\n",
       "scaling Features of pca data ..."
      ],
      "text/plain": [
       "<IPython.core.display.HTML object>"
      ]
     },
     "metadata": {},
     "output_type": "display_data"
    },
    {
     "name": "stdout",
     "output_type": "stream",
     "text": [
      "                                                                                          \r"
     ]
    },
    {
     "data": {
      "text/html": [
       "columns that will be scaled: "
      ],
      "text/plain": [
       "<IPython.core.display.HTML object>"
      ]
     },
     "metadata": {},
     "output_type": "display_data"
    },
    {
     "name": "stdout",
     "output_type": "stream",
     "text": [
      "['sepal_length', 'sepal_width', 'petal_length', 'petal_width']\n",
      "                                                                                          \r"
     ]
    },
    {
     "data": {
      "text/html": [
       "Training dataset sample after scaling:"
      ],
      "text/plain": [
       "<IPython.core.display.HTML object>"
      ]
     },
     "metadata": {},
     "output_type": "display_data"
    },
    {
     "data": {
      "text/html": [
       "<style type=\"text/css\">\n",
       "\ttable {border:ridge 5px;}\n",
       "\ttable td {border:inset 1px;}\n",
       "\ttable tr#HeaderRow {background-color:grey; color:white;}</style>\n",
       "<html><table>\n",
       "\t<tr id=\"HeaderRow\">\n",
       "\t\t<th>species</th>\n",
       "\t\t<th>id</th>\n",
       "\t\t<th>sepal_length</th>\n",
       "\t\t<th>sepal_width</th>\n",
       "\t\t<th>petal_length</th>\n",
       "\t\t<th>petal_width</th>\n",
       "\t</tr>\n",
       "\t<tr>\n",
       "\t\t<td>1</td>\n",
       "\t\t<td>126</td>\n",
       "\t\t<td>0.030303030303030196</td>\n",
       "\t\t<td>0.13636363636363627</td>\n",
       "\t\t<td>0.05084745762711865</td>\n",
       "\t\t<td>0.08333333333333333</td>\n",
       "\t</tr>\n",
       "\t<tr>\n",
       "\t\t<td>1</td>\n",
       "\t\t<td>39</td>\n",
       "\t\t<td>0.30303030303030304</td>\n",
       "\t\t<td>0.6363636363636362</td>\n",
       "\t\t<td>0.0847457627118644</td>\n",
       "\t\t<td>0.12500000000000003</td>\n",
       "\t</tr>\n",
       "\t<tr>\n",
       "\t\t<td>3</td>\n",
       "\t\t<td>79</td>\n",
       "\t\t<td>0.5757575757575756</td>\n",
       "\t\t<td>0.409090909090909</td>\n",
       "\t\t<td>0.7796610169491525</td>\n",
       "\t\t<td>0.7083333333333334</td>\n",
       "\t</tr>\n",
       "\t<tr>\n",
       "\t\t<td>3</td>\n",
       "\t\t<td>9</td>\n",
       "\t\t<td>0.5757575757575756</td>\n",
       "\t\t<td>0.5909090909090908</td>\n",
       "\t\t<td>0.847457627118644</td>\n",
       "\t\t<td>1.0</td>\n",
       "\t</tr>\n",
       "\t<tr>\n",
       "\t\t<td>3</td>\n",
       "\t\t<td>34</td>\n",
       "\t\t<td>0.8484848484848485</td>\n",
       "\t\t<td>0.7272727272727273</td>\n",
       "\t\t<td>0.8644067796610169</td>\n",
       "\t\t<td>1.0</td>\n",
       "\t</tr>\n",
       "\t<tr>\n",
       "\t\t<td>2</td>\n",
       "\t\t<td>65</td>\n",
       "\t\t<td>0.5151515151515149</td>\n",
       "\t\t<td>0.409090909090909</td>\n",
       "\t\t<td>0.6271186440677966</td>\n",
       "\t\t<td>0.5416666666666666</td>\n",
       "\t</tr>\n",
       "\t<tr>\n",
       "\t\t<td>3</td>\n",
       "\t\t<td>20</td>\n",
       "\t\t<td>0.5151515151515149</td>\n",
       "\t\t<td>0.27272727272727276</td>\n",
       "\t\t<td>0.7796610169491525</td>\n",
       "\t\t<td>0.5416666666666666</td>\n",
       "\t</tr>\n",
       "\t<tr>\n",
       "\t\t<td>3</td>\n",
       "\t\t<td>100</td>\n",
       "\t\t<td>0.6969696969696969</td>\n",
       "\t\t<td>0.22727272727272727</td>\n",
       "\t\t<td>0.8135593220338982</td>\n",
       "\t\t<td>0.7083333333333334</td>\n",
       "\t</tr>\n",
       "\t<tr>\n",
       "\t\t<td>2</td>\n",
       "\t\t<td>15</td>\n",
       "\t\t<td>0.6969696969696969</td>\n",
       "\t\t<td>0.45454545454545453</td>\n",
       "\t\t<td>0.6779661016949152</td>\n",
       "\t\t<td>0.6666666666666666</td>\n",
       "\t</tr>\n",
       "\t<tr>\n",
       "\t\t<td>3</td>\n",
       "\t\t<td>58</td>\n",
       "\t\t<td>0.5454545454545454</td>\n",
       "\t\t<td>0.36363636363636354</td>\n",
       "\t\t<td>0.6440677966101694</td>\n",
       "\t\t<td>0.7083333333333334</td>\n",
       "\t</tr>\n",
       "</table></html>"
      ],
      "text/plain": [
       "   species   id  sepal_length  sepal_width  petal_length  petal_width\n",
       "0        1  126      0.030303     0.136364      0.050847     0.083333\n",
       "1        1   39      0.303030     0.636364      0.084746     0.125000\n",
       "2        3   79      0.575758     0.409091      0.779661     0.708333\n",
       "3        3    9      0.575758     0.590909      0.847458     1.000000\n",
       "4        3   34      0.848485     0.727273      0.864407     1.000000\n",
       "5        2   65      0.515152     0.409091      0.627119     0.541667\n",
       "6        3   20      0.515152     0.272727      0.779661     0.541667\n",
       "7        3  100      0.696970     0.227273      0.813559     0.708333\n",
       "8        2   15      0.696970     0.454545      0.677966     0.666667\n",
       "9        3   58      0.545455     0.363636      0.644068     0.708333"
      ]
     },
     "metadata": {},
     "output_type": "display_data"
    },
    {
     "name": "stdout",
     "output_type": "stream",
     "text": [
      "                                                                                          \r"
     ]
    },
    {
     "data": {
      "text/html": [
       "101 rows X 6 columns"
      ],
      "text/plain": [
       "<IPython.core.display.HTML object>"
      ]
     },
     "metadata": {},
     "output_type": "display_data"
    },
    {
     "name": "stdout",
     "output_type": "stream",
     "text": [
      "                                                                                          \r"
     ]
    },
    {
     "data": {
      "text/html": [
       "Testing dataset sample after scaling:"
      ],
      "text/plain": [
       "<IPython.core.display.HTML object>"
      ]
     },
     "metadata": {},
     "output_type": "display_data"
    },
    {
     "data": {
      "text/html": [
       "<style type=\"text/css\">\n",
       "\ttable {border:ridge 5px;}\n",
       "\ttable td {border:inset 1px;}\n",
       "\ttable tr#HeaderRow {background-color:grey; color:white;}</style>\n",
       "<html><table>\n",
       "\t<tr id=\"HeaderRow\">\n",
       "\t\t<th>species</th>\n",
       "\t\t<th>id</th>\n",
       "\t\t<th>sepal_length</th>\n",
       "\t\t<th>sepal_width</th>\n",
       "\t\t<th>petal_length</th>\n",
       "\t\t<th>petal_width</th>\n",
       "\t</tr>\n",
       "\t<tr>\n",
       "\t\t<td>1</td>\n",
       "\t\t<td>31</td>\n",
       "\t\t<td>0.4242424242424241</td>\n",
       "\t\t<td>0.9090909090909091</td>\n",
       "\t\t<td>0.033898305084745756</td>\n",
       "\t\t<td>0.04166666666666667</td>\n",
       "\t</tr>\n",
       "\t<tr>\n",
       "\t\t<td>2</td>\n",
       "\t\t<td>26</td>\n",
       "\t\t<td>0.5757575757575756</td>\n",
       "\t\t<td>0.5909090909090908</td>\n",
       "\t\t<td>0.6271186440677966</td>\n",
       "\t\t<td>0.625</td>\n",
       "\t</tr>\n",
       "\t<tr>\n",
       "\t\t<td>1</td>\n",
       "\t\t<td>130</td>\n",
       "\t\t<td>0.06060606060606039</td>\n",
       "\t\t<td>0.5</td>\n",
       "\t\t<td>0.0847457627118644</td>\n",
       "\t\t<td>0.04166666666666667</td>\n",
       "\t</tr>\n",
       "\t<tr>\n",
       "\t\t<td>1</td>\n",
       "\t\t<td>30</td>\n",
       "\t\t<td>0.1818181818181817</td>\n",
       "\t\t<td>0.5454545454545455</td>\n",
       "\t\t<td>0.033898305084745756</td>\n",
       "\t\t<td>0.04166666666666667</td>\n",
       "\t</tr>\n",
       "\t<tr>\n",
       "\t\t<td>1</td>\n",
       "\t\t<td>29</td>\n",
       "\t\t<td>0.2727272727272726</td>\n",
       "\t\t<td>0.7727272727272727</td>\n",
       "\t\t<td>0.0847457627118644</td>\n",
       "\t\t<td>0.04166666666666667</td>\n",
       "\t</tr>\n",
       "\t<tr>\n",
       "\t\t<td>3</td>\n",
       "\t\t<td>53</td>\n",
       "\t\t<td>0.6363636363636362</td>\n",
       "\t\t<td>0.45454545454545453</td>\n",
       "\t\t<td>0.7627118644067796</td>\n",
       "\t\t<td>0.7083333333333334</td>\n",
       "\t</tr>\n",
       "\t<tr>\n",
       "\t\t<td>3</td>\n",
       "\t\t<td>28</td>\n",
       "\t\t<td>0.3939393939393939</td>\n",
       "\t\t<td>0.22727272727272727</td>\n",
       "\t\t<td>0.6779661016949152</td>\n",
       "\t\t<td>0.7916666666666666</td>\n",
       "\t</tr>\n",
       "\t<tr>\n",
       "\t\t<td>2</td>\n",
       "\t\t<td>76</td>\n",
       "\t\t<td>0.5151515151515149</td>\n",
       "\t\t<td>0.45454545454545453</td>\n",
       "\t\t<td>0.6101694915254237</td>\n",
       "\t\t<td>0.5416666666666666</td>\n",
       "\t</tr>\n",
       "\t<tr>\n",
       "\t\t<td>2</td>\n",
       "\t\t<td>102</td>\n",
       "\t\t<td>0.3636363636363634</td>\n",
       "\t\t<td>0.409090909090909</td>\n",
       "\t\t<td>0.4406779661016949</td>\n",
       "\t\t<td>0.5</td>\n",
       "\t</tr>\n",
       "\t<tr>\n",
       "\t\t<td>2</td>\n",
       "\t\t<td>103</td>\n",
       "\t\t<td>0.48484848484848475</td>\n",
       "\t\t<td>0.409090909090909</td>\n",
       "\t\t<td>0.5932203389830508</td>\n",
       "\t\t<td>0.5833333333333334</td>\n",
       "\t</tr>\n",
       "</table></html>"
      ],
      "text/plain": [
       "   species   id  sepal_length  sepal_width  petal_length  petal_width\n",
       "0        1   31      0.424242     0.909091      0.033898     0.041667\n",
       "1        2   26      0.575758     0.590909      0.627119     0.625000\n",
       "2        1  130      0.060606     0.500000      0.084746     0.041667\n",
       "3        1   30      0.181818     0.545455      0.033898     0.041667\n",
       "4        1   29      0.272727     0.772727      0.084746     0.041667\n",
       "5        3   53      0.636364     0.454545      0.762712     0.708333\n",
       "6        3   28      0.393939     0.227273      0.677966     0.791667\n",
       "7        2   76      0.515152     0.454545      0.610169     0.541667\n",
       "8        2  102      0.363636     0.409091      0.440678     0.500000\n",
       "9        2  103      0.484848     0.409091      0.593220     0.583333"
      ]
     },
     "metadata": {},
     "output_type": "display_data"
    },
    {
     "name": "stdout",
     "output_type": "stream",
     "text": [
      "                                                                                          \r"
     ]
    },
    {
     "data": {
      "text/html": [
       "18 rows X 6 columns"
      ],
      "text/plain": [
       "<IPython.core.display.HTML object>"
      ]
     },
     "metadata": {},
     "output_type": "display_data"
    },
    {
     "name": "stdout",
     "output_type": "stream",
     "text": [
      "                                                                                          \r"
     ]
    },
    {
     "data": {
      "text/html": [
       "Total time taken by feature scaling: 31.29 sec"
      ],
      "text/plain": [
       "<IPython.core.display.HTML object>"
      ]
     },
     "metadata": {},
     "output_type": "display_data"
    },
    {
     "name": "stdout",
     "output_type": "stream",
     "text": [
      "                                                                                          \r"
     ]
    },
    {
     "data": {
      "text/html": [
       "\n",
       "Dimension Reduction using pca ..."
      ],
      "text/plain": [
       "<IPython.core.display.HTML object>"
      ]
     },
     "metadata": {},
     "output_type": "display_data"
    },
    {
     "name": "stdout",
     "output_type": "stream",
     "text": [
      "                                                                                          \r"
     ]
    },
    {
     "data": {
      "text/html": [
       "PCA columns:"
      ],
      "text/plain": [
       "<IPython.core.display.HTML object>"
      ]
     },
     "metadata": {},
     "output_type": "display_data"
    },
    {
     "name": "stdout",
     "output_type": "stream",
     "text": [
      "['col_0', 'col_1']\n",
      "                                                                                          \r"
     ]
    },
    {
     "data": {
      "text/html": [
       "Total time taken by PCA: 9.38 sec  "
      ],
      "text/plain": [
       "<IPython.core.display.HTML object>"
      ]
     },
     "metadata": {},
     "output_type": "display_data"
    },
    {
     "name": "stdout",
     "output_type": "stream",
     "text": [
      "                                                                                          \r"
     ]
    },
    {
     "data": {
      "text/html": [
       "\n",
       "            <style>\n",
       "                .custom-div {\n",
       "                    background-color: lightgray;\n",
       "                    color: #000000;\n",
       "                    padding: 10px;\n",
       "                    border-radius: 8px;\n",
       "                    box-shadow: 0 3px 4px rgba(0 -  0 -  0 -  0.2);\n",
       "                    margin-bottom: 10px;\n",
       "                    text-align: center;\n",
       "                }\n",
       "            </style>\n",
       "        <br><div class=\"custom-div\"><h3><span style=\"color: green;\">1. Feature Exploration -> 2. Feature Engineering -> 3. Data Preparation -></span> 4. Model Training & Evaluation<center></h3></center></div>"
      ],
      "text/plain": [
       "<IPython.core.display.HTML object>"
      ]
     },
     "metadata": {},
     "output_type": "display_data"
    },
    {
     "name": "stdout",
     "output_type": "stream",
     "text": [
      "                                                                                          \r"
     ]
    },
    {
     "data": {
      "text/html": [
       "Model Training started ..."
      ],
      "text/plain": [
       "<IPython.core.display.HTML object>"
      ]
     },
     "metadata": {},
     "output_type": "display_data"
    },
    {
     "name": "stdout",
     "output_type": "stream",
     "text": [
      "                                                                                          \r"
     ]
    },
    {
     "data": {
      "text/html": [
       "\n",
       "Starting customized hyperparameter update ..."
      ],
      "text/plain": [
       "<IPython.core.display.HTML object>"
      ]
     },
     "metadata": {},
     "output_type": "display_data"
    },
    {
     "name": "stdout",
     "output_type": "stream",
     "text": [
      "                                                                                          \n",
      "Completed customized hyperparameter update.\n",
      "                                                                                          \r"
     ]
    },
    {
     "data": {
      "text/html": [
       "\n",
       "Hyperparameters used for model training: "
      ],
      "text/plain": [
       "<IPython.core.display.HTML object>"
      ]
     },
     "metadata": {},
     "output_type": "display_data"
    },
    {
     "name": "stdout",
     "output_type": "stream",
     "text": [
      "response_column : species                                                                                                                             \n",
      "name : xgboost\n",
      "model_type : Classification\n",
      "column_sampling : (1, 0.6)\n",
      "min_impurity : (0.0, 0.1)\n",
      "lambda1 : (0.01, 0.1, 1, 10)\n",
      "shrinkage_factor : (0.5, 0.1, 0.2)\n",
      "max_depth : (3, 4, 5, 6, 7, 8)\n",
      "min_node_size : (1, 2)\n",
      "iter_num : (10, 20)\n",
      "seed : 42\n",
      "Total number of models for xgboost : 1152\n",
      "--------------------------------------------------------------------------------------------------------------------------------------------------------------------------------------------------------\n",
      "\n",
      "                                                                                          \r"
     ]
    },
    {
     "data": {
      "text/html": [
       "\n",
       "Performing hyperParameter tuning ..."
      ],
      "text/plain": [
       "<IPython.core.display.HTML object>"
      ]
     },
     "metadata": {},
     "output_type": "display_data"
    },
    {
     "name": "stdout",
     "output_type": "stream",
     "text": [
      "                                                                                          \r"
     ]
    },
    {
     "data": {
      "text/html": [
       "xgboost"
      ],
      "text/plain": [
       "<IPython.core.display.HTML object>"
      ]
     },
     "metadata": {},
     "output_type": "display_data"
    },
    {
     "name": "stdout",
     "output_type": "stream",
     "text": [
      "result data stored in table '\"ALICE\".\"ml__td_sqlmr_persist_out__1719269171316747\"'                                                                                                                      \n",
      "result data stored in table '\"ALICE\".\"ml__td_sqlmr_persist_out__1719273333477689\"'\n",
      "result data stored in table '\"ALICE\".\"ml__td_sqlmr_persist_out__1719266440814113\"'\n",
      "                                                                                          \r"
     ]
    },
    {
     "data": {
      "text/html": [
       "----------------------------------------------------------------------------------------------------"
      ],
      "text/plain": [
       "<IPython.core.display.HTML object>"
      ]
     },
     "metadata": {},
     "output_type": "display_data"
    },
    {
     "name": "stdout",
     "output_type": "stream",
     "text": [
      "                                                                                          \r"
     ]
    },
    {
     "data": {
      "text/html": [
       "Evaluating models performance ..."
      ],
      "text/plain": [
       "<IPython.core.display.HTML object>"
      ]
     },
     "metadata": {},
     "output_type": "display_data"
    },
    {
     "name": "stdout",
     "output_type": "stream",
     "text": [
      "                                                                                          \r"
     ]
    },
    {
     "data": {
      "text/html": [
       "Evaluation completed."
      ],
      "text/plain": [
       "<IPython.core.display.HTML object>"
      ]
     },
     "metadata": {},
     "output_type": "display_data"
    },
    {
     "name": "stdout",
     "output_type": "stream",
     "text": [
      "                                                                                          \r"
     ]
    },
    {
     "data": {
      "text/html": [
       "Leaderboard"
      ],
      "text/plain": [
       "<IPython.core.display.HTML object>"
      ]
     },
     "metadata": {},
     "output_type": "display_data"
    },
    {
     "data": {
      "text/html": [
       "<div>\n",
       "<style scoped>\n",
       "    .dataframe tbody tr th:only-of-type {\n",
       "        vertical-align: middle;\n",
       "    }\n",
       "\n",
       "    .dataframe tbody tr th {\n",
       "        vertical-align: top;\n",
       "    }\n",
       "\n",
       "    .dataframe thead th {\n",
       "        text-align: right;\n",
       "    }\n",
       "</style>\n",
       "<table border=\"1\" class=\"dataframe\">\n",
       "  <thead>\n",
       "    <tr style=\"text-align: right;\">\n",
       "      <th></th>\n",
       "      <th>Rank</th>\n",
       "      <th>Model-ID</th>\n",
       "      <th>Feature-Selection</th>\n",
       "      <th>Accuracy</th>\n",
       "      <th>Micro-Precision</th>\n",
       "      <th>Micro-Recall</th>\n",
       "      <th>Micro-F1</th>\n",
       "      <th>Macro-Precision</th>\n",
       "      <th>Macro-Recall</th>\n",
       "      <th>Macro-F1</th>\n",
       "      <th>Weighted-Precision</th>\n",
       "      <th>Weighted-Recall</th>\n",
       "      <th>Weighted-F1</th>\n",
       "    </tr>\n",
       "  </thead>\n",
       "  <tbody>\n",
       "    <tr>\n",
       "      <th>0</th>\n",
       "      <td>1</td>\n",
       "      <td>XGBOOST_3</td>\n",
       "      <td>lasso</td>\n",
       "      <td>1.0</td>\n",
       "      <td>1.0</td>\n",
       "      <td>1.0</td>\n",
       "      <td>1.0</td>\n",
       "      <td>1.0</td>\n",
       "      <td>1.0</td>\n",
       "      <td>1.0</td>\n",
       "      <td>1.0</td>\n",
       "      <td>1.0</td>\n",
       "      <td>1.0</td>\n",
       "    </tr>\n",
       "    <tr>\n",
       "      <th>1</th>\n",
       "      <td>2</td>\n",
       "      <td>XGBOOST_2</td>\n",
       "      <td>pca</td>\n",
       "      <td>1.0</td>\n",
       "      <td>1.0</td>\n",
       "      <td>1.0</td>\n",
       "      <td>1.0</td>\n",
       "      <td>1.0</td>\n",
       "      <td>1.0</td>\n",
       "      <td>1.0</td>\n",
       "      <td>1.0</td>\n",
       "      <td>1.0</td>\n",
       "      <td>1.0</td>\n",
       "    </tr>\n",
       "    <tr>\n",
       "      <th>2</th>\n",
       "      <td>3</td>\n",
       "      <td>XGBOOST_0</td>\n",
       "      <td>lasso</td>\n",
       "      <td>1.0</td>\n",
       "      <td>1.0</td>\n",
       "      <td>1.0</td>\n",
       "      <td>1.0</td>\n",
       "      <td>1.0</td>\n",
       "      <td>1.0</td>\n",
       "      <td>1.0</td>\n",
       "      <td>1.0</td>\n",
       "      <td>1.0</td>\n",
       "      <td>1.0</td>\n",
       "    </tr>\n",
       "    <tr>\n",
       "      <th>3</th>\n",
       "      <td>4</td>\n",
       "      <td>XGBOOST_4</td>\n",
       "      <td>rfe</td>\n",
       "      <td>1.0</td>\n",
       "      <td>1.0</td>\n",
       "      <td>1.0</td>\n",
       "      <td>1.0</td>\n",
       "      <td>1.0</td>\n",
       "      <td>1.0</td>\n",
       "      <td>1.0</td>\n",
       "      <td>1.0</td>\n",
       "      <td>1.0</td>\n",
       "      <td>1.0</td>\n",
       "    </tr>\n",
       "  </tbody>\n",
       "</table>\n",
       "</div>"
      ],
      "text/plain": [
       "   Rank   Model-ID Feature-Selection  Accuracy  Micro-Precision  Micro-Recall  \\\n",
       "0     1  XGBOOST_3             lasso       1.0              1.0           1.0   \n",
       "1     2  XGBOOST_2               pca       1.0              1.0           1.0   \n",
       "2     3  XGBOOST_0             lasso       1.0              1.0           1.0   \n",
       "3     4  XGBOOST_4               rfe       1.0              1.0           1.0   \n",
       "\n",
       "   Micro-F1  Macro-Precision  Macro-Recall  Macro-F1  Weighted-Precision  \\\n",
       "0       1.0              1.0           1.0       1.0                 1.0   \n",
       "1       1.0              1.0           1.0       1.0                 1.0   \n",
       "2       1.0              1.0           1.0       1.0                 1.0   \n",
       "3       1.0              1.0           1.0       1.0                 1.0   \n",
       "\n",
       "   Weighted-Recall  Weighted-F1  \n",
       "0              1.0          1.0  \n",
       "1              1.0          1.0  \n",
       "2              1.0          1.0  \n",
       "3              1.0          1.0  "
      ]
     },
     "metadata": {},
     "output_type": "display_data"
    },
    {
     "name": "stdout",
     "output_type": "stream",
     "text": [
      "                                                                                          \r"
     ]
    },
    {
     "data": {
      "text/html": [
       "4 rows X 13 columns"
      ],
      "text/plain": [
       "<IPython.core.display.HTML object>"
      ]
     },
     "metadata": {},
     "output_type": "display_data"
    },
    {
     "name": "stdout",
     "output_type": "stream",
     "text": [
      "                                                                                          \r"
     ]
    },
    {
     "data": {
      "text/html": [
       "\n",
       "            <style>\n",
       "                .custom-div {\n",
       "                    background-color: lightgray;\n",
       "                    color: #000000;\n",
       "                    padding: 10px;\n",
       "                    border-radius: 8px;\n",
       "                    box-shadow: 0 3px 4px rgba(0 -  0 -  0 -  0.2);\n",
       "                    margin-bottom: 10px;\n",
       "                    text-align: center;\n",
       "                }\n",
       "            </style>\n",
       "        <br><div class=\"custom-div\"><h3><span style=\"color: green;\">1. Feature Exploration -> 2. Feature Engineering -> 3. Data Preparation -> 4. Model Training & Evaluation</span><center></h3></center></div>"
      ],
      "text/plain": [
       "<IPython.core.display.HTML object>"
      ]
     },
     "metadata": {},
     "output_type": "display_data"
    },
    {
     "name": "stdout",
     "output_type": "stream",
     "text": [
      "Completed: ｜⫿⫿⫿⫿⫿⫿⫿⫿⫿⫿⫿⫿⫿⫿⫿⫿⫿⫿⫿⫿⫿⫿⫿⫿⫿⫿⫿⫿⫿⫿⫿⫿⫿⫿⫿⫿⫿⫿⫿⫿⫿⫿⫿⫿⫿⫿⫿⫿⫿⫿⫿⫿⫿⫿⫿⫿⫿⫿⫿⫿｜ 100% - 19/19    \r"
     ]
    }
   ],
   "source": [
    "# Fitting train data\n",
    "aml.fit(iris_train, iris_train.species)"
   ]
  },
  {
   "cell_type": "markdown",
   "id": "23a04eb1-68e6-48b7-95aa-442f434809da",
   "metadata": {},
   "source": [
    "## <b><span style='color:#F1A424'>| 3.</span> Leaderboard : </b>"
   ]
  },
  {
   "cell_type": "code",
   "execution_count": 17,
   "id": "77de1099-6122-4f8a-8e7f-dd67e5b4ced4",
   "metadata": {},
   "outputs": [
    {
     "data": {
      "text/html": [
       "<div>\n",
       "<style scoped>\n",
       "    .dataframe tbody tr th:only-of-type {\n",
       "        vertical-align: middle;\n",
       "    }\n",
       "\n",
       "    .dataframe tbody tr th {\n",
       "        vertical-align: top;\n",
       "    }\n",
       "\n",
       "    .dataframe thead th {\n",
       "        text-align: right;\n",
       "    }\n",
       "</style>\n",
       "<table border=\"1\" class=\"dataframe\">\n",
       "  <thead>\n",
       "    <tr style=\"text-align: right;\">\n",
       "      <th></th>\n",
       "      <th>Rank</th>\n",
       "      <th>Model-ID</th>\n",
       "      <th>Feature-Selection</th>\n",
       "      <th>Accuracy</th>\n",
       "      <th>Micro-Precision</th>\n",
       "      <th>Micro-Recall</th>\n",
       "      <th>Micro-F1</th>\n",
       "      <th>Macro-Precision</th>\n",
       "      <th>Macro-Recall</th>\n",
       "      <th>Macro-F1</th>\n",
       "      <th>Weighted-Precision</th>\n",
       "      <th>Weighted-Recall</th>\n",
       "      <th>Weighted-F1</th>\n",
       "    </tr>\n",
       "  </thead>\n",
       "  <tbody>\n",
       "    <tr>\n",
       "      <th>0</th>\n",
       "      <td>1</td>\n",
       "      <td>XGBOOST_3</td>\n",
       "      <td>lasso</td>\n",
       "      <td>1.0</td>\n",
       "      <td>1.0</td>\n",
       "      <td>1.0</td>\n",
       "      <td>1.0</td>\n",
       "      <td>1.0</td>\n",
       "      <td>1.0</td>\n",
       "      <td>1.0</td>\n",
       "      <td>1.0</td>\n",
       "      <td>1.0</td>\n",
       "      <td>1.0</td>\n",
       "    </tr>\n",
       "    <tr>\n",
       "      <th>1</th>\n",
       "      <td>2</td>\n",
       "      <td>XGBOOST_2</td>\n",
       "      <td>pca</td>\n",
       "      <td>1.0</td>\n",
       "      <td>1.0</td>\n",
       "      <td>1.0</td>\n",
       "      <td>1.0</td>\n",
       "      <td>1.0</td>\n",
       "      <td>1.0</td>\n",
       "      <td>1.0</td>\n",
       "      <td>1.0</td>\n",
       "      <td>1.0</td>\n",
       "      <td>1.0</td>\n",
       "    </tr>\n",
       "    <tr>\n",
       "      <th>2</th>\n",
       "      <td>3</td>\n",
       "      <td>XGBOOST_0</td>\n",
       "      <td>lasso</td>\n",
       "      <td>1.0</td>\n",
       "      <td>1.0</td>\n",
       "      <td>1.0</td>\n",
       "      <td>1.0</td>\n",
       "      <td>1.0</td>\n",
       "      <td>1.0</td>\n",
       "      <td>1.0</td>\n",
       "      <td>1.0</td>\n",
       "      <td>1.0</td>\n",
       "      <td>1.0</td>\n",
       "    </tr>\n",
       "    <tr>\n",
       "      <th>3</th>\n",
       "      <td>4</td>\n",
       "      <td>XGBOOST_4</td>\n",
       "      <td>rfe</td>\n",
       "      <td>1.0</td>\n",
       "      <td>1.0</td>\n",
       "      <td>1.0</td>\n",
       "      <td>1.0</td>\n",
       "      <td>1.0</td>\n",
       "      <td>1.0</td>\n",
       "      <td>1.0</td>\n",
       "      <td>1.0</td>\n",
       "      <td>1.0</td>\n",
       "      <td>1.0</td>\n",
       "    </tr>\n",
       "  </tbody>\n",
       "</table>\n",
       "</div>"
      ],
      "text/plain": [
       "   Rank   Model-ID Feature-Selection  Accuracy  Micro-Precision  Micro-Recall  \\\n",
       "0     1  XGBOOST_3             lasso       1.0              1.0           1.0   \n",
       "1     2  XGBOOST_2               pca       1.0              1.0           1.0   \n",
       "2     3  XGBOOST_0             lasso       1.0              1.0           1.0   \n",
       "3     4  XGBOOST_4               rfe       1.0              1.0           1.0   \n",
       "\n",
       "   Micro-F1  Macro-Precision  Macro-Recall  Macro-F1  Weighted-Precision  \\\n",
       "0       1.0              1.0           1.0       1.0                 1.0   \n",
       "1       1.0              1.0           1.0       1.0                 1.0   \n",
       "2       1.0              1.0           1.0       1.0                 1.0   \n",
       "3       1.0              1.0           1.0       1.0                 1.0   \n",
       "\n",
       "   Weighted-Recall  Weighted-F1  \n",
       "0              1.0          1.0  \n",
       "1              1.0          1.0  \n",
       "2              1.0          1.0  \n",
       "3              1.0          1.0  "
      ]
     },
     "execution_count": 17,
     "metadata": {},
     "output_type": "execute_result"
    }
   ],
   "source": [
    "# Fetching Leaderboard\n",
    "aml.leaderboard()"
   ]
  },
  {
   "cell_type": "markdown",
   "id": "a7a3aa08-e349-4a61-9217-2c17d50411d8",
   "metadata": {},
   "source": [
    "## <b><span style='color:#F1A424'>| 4.</span> Best Performing Model : </b>"
   ]
  },
  {
   "cell_type": "code",
   "execution_count": 18,
   "id": "c4c32832-a76b-4f42-826a-cefc38a6301b",
   "metadata": {},
   "outputs": [
    {
     "data": {
      "text/html": [
       "<div>\n",
       "<style scoped>\n",
       "    .dataframe tbody tr th:only-of-type {\n",
       "        vertical-align: middle;\n",
       "    }\n",
       "\n",
       "    .dataframe tbody tr th {\n",
       "        vertical-align: top;\n",
       "    }\n",
       "\n",
       "    .dataframe thead th {\n",
       "        text-align: right;\n",
       "    }\n",
       "</style>\n",
       "<table border=\"1\" class=\"dataframe\">\n",
       "  <thead>\n",
       "    <tr style=\"text-align: right;\">\n",
       "      <th></th>\n",
       "      <th>Rank</th>\n",
       "      <th>Model-ID</th>\n",
       "      <th>Feature-Selection</th>\n",
       "      <th>Accuracy</th>\n",
       "      <th>Micro-Precision</th>\n",
       "      <th>Micro-Recall</th>\n",
       "      <th>Micro-F1</th>\n",
       "      <th>Macro-Precision</th>\n",
       "      <th>Macro-Recall</th>\n",
       "      <th>Macro-F1</th>\n",
       "      <th>Weighted-Precision</th>\n",
       "      <th>Weighted-Recall</th>\n",
       "      <th>Weighted-F1</th>\n",
       "    </tr>\n",
       "  </thead>\n",
       "  <tbody>\n",
       "    <tr>\n",
       "      <th>0</th>\n",
       "      <td>1</td>\n",
       "      <td>XGBOOST_3</td>\n",
       "      <td>lasso</td>\n",
       "      <td>1.0</td>\n",
       "      <td>1.0</td>\n",
       "      <td>1.0</td>\n",
       "      <td>1.0</td>\n",
       "      <td>1.0</td>\n",
       "      <td>1.0</td>\n",
       "      <td>1.0</td>\n",
       "      <td>1.0</td>\n",
       "      <td>1.0</td>\n",
       "      <td>1.0</td>\n",
       "    </tr>\n",
       "  </tbody>\n",
       "</table>\n",
       "</div>"
      ],
      "text/plain": [
       "   Rank   Model-ID Feature-Selection  Accuracy  Micro-Precision  Micro-Recall  \\\n",
       "0     1  XGBOOST_3             lasso       1.0              1.0           1.0   \n",
       "\n",
       "   Micro-F1  Macro-Precision  Macro-Recall  Macro-F1  Weighted-Precision  \\\n",
       "0       1.0              1.0           1.0       1.0                 1.0   \n",
       "\n",
       "   Weighted-Recall  Weighted-F1  \n",
       "0              1.0          1.0  "
      ]
     },
     "metadata": {},
     "output_type": "display_data"
    }
   ],
   "source": [
    "# Fetching best performing model for dataset\n",
    "aml.leader()"
   ]
  },
  {
   "cell_type": "markdown",
   "id": "e43181a9-3847-4e8b-b510-6da81f1c550f",
   "metadata": {},
   "source": [
    "## <b><span style='color:#F1A424'>| 5.</span> Generating Prediction : </b>"
   ]
  },
  {
   "cell_type": "code",
   "execution_count": 21,
   "id": "5b6edfe3-bd5a-46bd-ad80-b20fadfed7a0",
   "metadata": {},
   "outputs": [
    {
     "name": "stdout",
     "output_type": "stream",
     "text": [
      "Data Transformation started ...\n",
      "                                                                                                \r"
     ]
    },
    {
     "data": {
      "text/html": [
       "Performing transformation carried out in feature engineering phase ..."
      ],
      "text/plain": [
       "<IPython.core.display.HTML object>"
      ]
     },
     "metadata": {},
     "output_type": "display_data"
    },
    {
     "name": "stdout",
     "output_type": "stream",
     "text": [
      "                                                                                                \r"
     ]
    },
    {
     "data": {
      "text/html": [
       "\n",
       "Updated dataset after dropping irrelevent columns :"
      ],
      "text/plain": [
       "<IPython.core.display.HTML object>"
      ]
     },
     "metadata": {},
     "output_type": "display_data"
    },
    {
     "data": {
      "text/html": [
       "<style type=\"text/css\">\n",
       "\ttable {border:ridge 5px;}\n",
       "\ttable td {border:inset 1px;}\n",
       "\ttable tr#HeaderRow {background-color:grey; color:white;}</style>\n",
       "<html><table>\n",
       "\t<tr id=\"HeaderRow\">\n",
       "\t\t<th>sepal_length</th>\n",
       "\t\t<th>sepal_width</th>\n",
       "\t\t<th>petal_length</th>\n",
       "\t\t<th>petal_width</th>\n",
       "\t\t<th>species</th>\n",
       "\t</tr>\n",
       "\t<tr>\n",
       "\t\t<td>4.9</td>\n",
       "\t\t<td>3.6</td>\n",
       "\t\t<td>1.4</td>\n",
       "\t\t<td>0.1</td>\n",
       "\t\t<td>1</td>\n",
       "\t</tr>\n",
       "\t<tr>\n",
       "\t\t<td>6.9</td>\n",
       "\t\t<td>3.2</td>\n",
       "\t\t<td>5.7</td>\n",
       "\t\t<td>2.3</td>\n",
       "\t\t<td>3</td>\n",
       "\t</tr>\n",
       "\t<tr>\n",
       "\t\t<td>5.5</td>\n",
       "\t\t<td>2.3</td>\n",
       "\t\t<td>4.0</td>\n",
       "\t\t<td>1.3</td>\n",
       "\t\t<td>2</td>\n",
       "\t</tr>\n",
       "\t<tr>\n",
       "\t\t<td>5.1</td>\n",
       "\t\t<td>3.8</td>\n",
       "\t\t<td>1.6</td>\n",
       "\t\t<td>0.2</td>\n",
       "\t\t<td>1</td>\n",
       "\t</tr>\n",
       "\t<tr>\n",
       "\t\t<td>6.0</td>\n",
       "\t\t<td>3.0</td>\n",
       "\t\t<td>4.8</td>\n",
       "\t\t<td>1.8</td>\n",
       "\t\t<td>3</td>\n",
       "\t</tr>\n",
       "\t<tr>\n",
       "\t\t<td>5.1</td>\n",
       "\t\t<td>3.3</td>\n",
       "\t\t<td>1.7</td>\n",
       "\t\t<td>0.5</td>\n",
       "\t\t<td>1</td>\n",
       "\t</tr>\n",
       "\t<tr>\n",
       "\t\t<td>6.4</td>\n",
       "\t\t<td>2.7</td>\n",
       "\t\t<td>5.3</td>\n",
       "\t\t<td>1.9</td>\n",
       "\t\t<td>3</td>\n",
       "\t</tr>\n",
       "\t<tr>\n",
       "\t\t<td>5.9</td>\n",
       "\t\t<td>3.2</td>\n",
       "\t\t<td>4.8</td>\n",
       "\t\t<td>1.8</td>\n",
       "\t\t<td>2</td>\n",
       "\t</tr>\n",
       "\t<tr>\n",
       "\t\t<td>6.4</td>\n",
       "\t\t<td>3.2</td>\n",
       "\t\t<td>4.5</td>\n",
       "\t\t<td>1.5</td>\n",
       "\t\t<td>2</td>\n",
       "\t</tr>\n",
       "\t<tr>\n",
       "\t\t<td>4.9</td>\n",
       "\t\t<td>2.5</td>\n",
       "\t\t<td>4.5</td>\n",
       "\t\t<td>1.7</td>\n",
       "\t\t<td>3</td>\n",
       "\t</tr>\n",
       "</table></html>"
      ],
      "text/plain": [
       "   sepal_length  sepal_width  petal_length  petal_width  species\n",
       "0           4.9          3.6           1.4          0.1        1\n",
       "1           6.9          3.2           5.7          2.3        3\n",
       "2           5.5          2.3           4.0          1.3        2\n",
       "3           5.1          3.8           1.6          0.2        1\n",
       "4           6.0          3.0           4.8          1.8        3\n",
       "5           5.1          3.3           1.7          0.5        1\n",
       "6           6.4          2.7           5.3          1.9        3\n",
       "7           5.9          3.2           4.8          1.8        2\n",
       "8           6.4          3.2           4.5          1.5        2\n",
       "9           4.9          2.5           4.5          1.7        3"
      ]
     },
     "metadata": {},
     "output_type": "display_data"
    },
    {
     "name": "stdout",
     "output_type": "stream",
     "text": [
      "                                                                                                \r"
     ]
    },
    {
     "data": {
      "text/html": [
       "30 rows X 5 columns"
      ],
      "text/plain": [
       "<IPython.core.display.HTML object>"
      ]
     },
     "metadata": {},
     "output_type": "display_data"
    },
    {
     "name": "stdout",
     "output_type": "stream",
     "text": [
      "                                                                                                 \r"
     ]
    },
    {
     "data": {
      "text/html": [
       "\n",
       "Updated dataset after performing target column transformation :"
      ],
      "text/plain": [
       "<IPython.core.display.HTML object>"
      ]
     },
     "metadata": {},
     "output_type": "display_data"
    },
    {
     "data": {
      "text/html": [
       "<style type=\"text/css\">\n",
       "\ttable {border:ridge 5px;}\n",
       "\ttable td {border:inset 1px;}\n",
       "\ttable tr#HeaderRow {background-color:grey; color:white;}</style>\n",
       "<html><table>\n",
       "\t<tr id=\"HeaderRow\">\n",
       "\t\t<th>id</th>\n",
       "\t\t<th>petal_width</th>\n",
       "\t\t<th>sepal_length</th>\n",
       "\t\t<th>petal_length</th>\n",
       "\t\t<th>sepal_width</th>\n",
       "\t\t<th>species</th>\n",
       "\t</tr>\n",
       "\t<tr>\n",
       "\t\t<td>11</td>\n",
       "\t\t<td>0.2</td>\n",
       "\t\t<td>5.1</td>\n",
       "\t\t<td>1.6</td>\n",
       "\t\t<td>3.8</td>\n",
       "\t\t<td>1</td>\n",
       "\t</tr>\n",
       "\t<tr>\n",
       "\t\t<td>10</td>\n",
       "\t\t<td>1.5</td>\n",
       "\t\t<td>6.4</td>\n",
       "\t\t<td>4.5</td>\n",
       "\t\t<td>3.2</td>\n",
       "\t\t<td>2</td>\n",
       "\t</tr>\n",
       "\t<tr>\n",
       "\t\t<td>18</td>\n",
       "\t\t<td>1.7</td>\n",
       "\t\t<td>4.9</td>\n",
       "\t\t<td>4.5</td>\n",
       "\t\t<td>2.5</td>\n",
       "\t\t<td>3</td>\n",
       "\t</tr>\n",
       "\t<tr>\n",
       "\t\t<td>9</td>\n",
       "\t\t<td>0.2</td>\n",
       "\t\t<td>4.4</td>\n",
       "\t\t<td>1.4</td>\n",
       "\t\t<td>2.9</td>\n",
       "\t\t<td>1</td>\n",
       "\t</tr>\n",
       "\t<tr>\n",
       "\t\t<td>13</td>\n",
       "\t\t<td>1.9</td>\n",
       "\t\t<td>6.4</td>\n",
       "\t\t<td>5.3</td>\n",
       "\t\t<td>2.7</td>\n",
       "\t\t<td>3</td>\n",
       "\t</tr>\n",
       "\t<tr>\n",
       "\t\t<td>21</td>\n",
       "\t\t<td>1.8</td>\n",
       "\t\t<td>5.9</td>\n",
       "\t\t<td>4.8</td>\n",
       "\t\t<td>3.2</td>\n",
       "\t\t<td>2</td>\n",
       "\t</tr>\n",
       "\t<tr>\n",
       "\t\t<td>15</td>\n",
       "\t\t<td>1.8</td>\n",
       "\t\t<td>6.0</td>\n",
       "\t\t<td>4.8</td>\n",
       "\t\t<td>3.0</td>\n",
       "\t\t<td>3</td>\n",
       "\t</tr>\n",
       "\t<tr>\n",
       "\t\t<td>23</td>\n",
       "\t\t<td>0.5</td>\n",
       "\t\t<td>5.1</td>\n",
       "\t\t<td>1.7</td>\n",
       "\t\t<td>3.3</td>\n",
       "\t\t<td>1</td>\n",
       "\t</tr>\n",
       "\t<tr>\n",
       "\t\t<td>14</td>\n",
       "\t\t<td>2.3</td>\n",
       "\t\t<td>6.9</td>\n",
       "\t\t<td>5.7</td>\n",
       "\t\t<td>3.2</td>\n",
       "\t\t<td>3</td>\n",
       "\t</tr>\n",
       "\t<tr>\n",
       "\t\t<td>22</td>\n",
       "\t\t<td>1.3</td>\n",
       "\t\t<td>5.5</td>\n",
       "\t\t<td>4.0</td>\n",
       "\t\t<td>2.3</td>\n",
       "\t\t<td>2</td>\n",
       "\t</tr>\n",
       "</table></html>"
      ],
      "text/plain": [
       "   id  petal_width  sepal_length  petal_length  sepal_width  species\n",
       "0  11          0.2           5.1           1.6          3.8        1\n",
       "1  10          1.5           6.4           4.5          3.2        2\n",
       "2  18          1.7           4.9           4.5          2.5        3\n",
       "3   9          0.2           4.4           1.4          2.9        1\n",
       "4  13          1.9           6.4           5.3          2.7        3\n",
       "5  21          1.8           5.9           4.8          3.2        2\n",
       "6  15          1.8           6.0           4.8          3.0        3\n",
       "7  23          0.5           5.1           1.7          3.3        1\n",
       "8  14          2.3           6.9           5.7          3.2        3\n",
       "9  22          1.3           5.5           4.0          2.3        2"
      ]
     },
     "metadata": {},
     "output_type": "display_data"
    },
    {
     "name": "stdout",
     "output_type": "stream",
     "text": [
      "                                                                                                 \r"
     ]
    },
    {
     "data": {
      "text/html": [
       "30 rows X 6 columns"
      ],
      "text/plain": [
       "<IPython.core.display.HTML object>"
      ]
     },
     "metadata": {},
     "output_type": "display_data"
    },
    {
     "name": "stdout",
     "output_type": "stream",
     "text": [
      "                                                                                                  \r"
     ]
    },
    {
     "data": {
      "text/html": [
       "Performing transformation carried out in data preparation phase ..."
      ],
      "text/plain": [
       "<IPython.core.display.HTML object>"
      ]
     },
     "metadata": {},
     "output_type": "display_data"
    },
    {
     "name": "stdout",
     "output_type": "stream",
     "text": [
      "result data stored in table '\"ALICE\".\"ml__td_sqlmr_persist_out__1719265181336355\"'⫾⫾⫾｜ 73% - 11/15\n",
      "                                                                                                  \r"
     ]
    },
    {
     "data": {
      "text/html": [
       "\n",
       "Updated dataset after performing Lasso feature selection:"
      ],
      "text/plain": [
       "<IPython.core.display.HTML object>"
      ]
     },
     "metadata": {},
     "output_type": "display_data"
    },
    {
     "data": {
      "text/html": [
       "<style type=\"text/css\">\n",
       "\ttable {border:ridge 5px;}\n",
       "\ttable td {border:inset 1px;}\n",
       "\ttable tr#HeaderRow {background-color:grey; color:white;}</style>\n",
       "<html><table>\n",
       "\t<tr id=\"HeaderRow\">\n",
       "\t\t<th>id</th>\n",
       "\t\t<th>sepal_length</th>\n",
       "\t\t<th>sepal_width</th>\n",
       "\t\t<th>petal_width</th>\n",
       "\t\t<th>petal_length</th>\n",
       "\t\t<th>species</th>\n",
       "\t</tr>\n",
       "\t<tr>\n",
       "\t\t<td>17</td>\n",
       "\t\t<td>5.8</td>\n",
       "\t\t<td>2.7</td>\n",
       "\t\t<td>1.0</td>\n",
       "\t\t<td>4.1</td>\n",
       "\t\t<td>2</td>\n",
       "\t</tr>\n",
       "\t<tr>\n",
       "\t\t<td>36</td>\n",
       "\t\t<td>6.7</td>\n",
       "\t\t<td>3.1</td>\n",
       "\t\t<td>1.4</td>\n",
       "\t\t<td>4.4</td>\n",
       "\t\t<td>2</td>\n",
       "\t</tr>\n",
       "\t<tr>\n",
       "\t\t<td>28</td>\n",
       "\t\t<td>6.5</td>\n",
       "\t\t<td>2.8</td>\n",
       "\t\t<td>1.5</td>\n",
       "\t\t<td>4.6</td>\n",
       "\t\t<td>2</td>\n",
       "\t</tr>\n",
       "\t<tr>\n",
       "\t\t<td>22</td>\n",
       "\t\t<td>5.5</td>\n",
       "\t\t<td>2.3</td>\n",
       "\t\t<td>1.3</td>\n",
       "\t\t<td>4.0</td>\n",
       "\t\t<td>2</td>\n",
       "\t</tr>\n",
       "\t<tr>\n",
       "\t\t<td>19</td>\n",
       "\t\t<td>5.1</td>\n",
       "\t\t<td>3.8</td>\n",
       "\t\t<td>0.4</td>\n",
       "\t\t<td>1.9</td>\n",
       "\t\t<td>1</td>\n",
       "\t</tr>\n",
       "\t<tr>\n",
       "\t\t<td>30</td>\n",
       "\t\t<td>6.3</td>\n",
       "\t\t<td>2.8</td>\n",
       "\t\t<td>1.5</td>\n",
       "\t\t<td>5.1</td>\n",
       "\t\t<td>3</td>\n",
       "\t</tr>\n",
       "\t<tr>\n",
       "\t\t<td>15</td>\n",
       "\t\t<td>6.0</td>\n",
       "\t\t<td>3.0</td>\n",
       "\t\t<td>1.8</td>\n",
       "\t\t<td>4.8</td>\n",
       "\t\t<td>3</td>\n",
       "\t</tr>\n",
       "\t<tr>\n",
       "\t\t<td>32</td>\n",
       "\t\t<td>6.2</td>\n",
       "\t\t<td>2.9</td>\n",
       "\t\t<td>1.3</td>\n",
       "\t\t<td>4.3</td>\n",
       "\t\t<td>2</td>\n",
       "\t</tr>\n",
       "\t<tr>\n",
       "\t\t<td>38</td>\n",
       "\t\t<td>5.5</td>\n",
       "\t\t<td>2.5</td>\n",
       "\t\t<td>1.3</td>\n",
       "\t\t<td>4.0</td>\n",
       "\t\t<td>2</td>\n",
       "\t</tr>\n",
       "\t<tr>\n",
       "\t\t<td>12</td>\n",
       "\t\t<td>4.9</td>\n",
       "\t\t<td>3.6</td>\n",
       "\t\t<td>0.1</td>\n",
       "\t\t<td>1.4</td>\n",
       "\t\t<td>1</td>\n",
       "\t</tr>\n",
       "</table></html>"
      ],
      "text/plain": [
       "    sepal_length  sepal_width  petal_width  petal_length  species\n",
       "id                                                               \n",
       "17           5.8          2.7          1.0           4.1        2\n",
       "36           6.7          3.1          1.4           4.4        2\n",
       "28           6.5          2.8          1.5           4.6        2\n",
       "22           5.5          2.3          1.3           4.0        2\n",
       "19           5.1          3.8          0.4           1.9        1\n",
       "30           6.3          2.8          1.5           5.1        3\n",
       "15           6.0          3.0          1.8           4.8        3\n",
       "32           6.2          2.9          1.3           4.3        2\n",
       "38           5.5          2.5          1.3           4.0        2\n",
       "12           4.9          3.6          0.1           1.4        1"
      ]
     },
     "metadata": {},
     "output_type": "display_data"
    },
    {
     "name": "stdout",
     "output_type": "stream",
     "text": [
      "                                                                                                  \r"
     ]
    },
    {
     "data": {
      "text/html": [
       "30 rows X 6 columns"
      ],
      "text/plain": [
       "<IPython.core.display.HTML object>"
      ]
     },
     "metadata": {},
     "output_type": "display_data"
    },
    {
     "name": "stdout",
     "output_type": "stream",
     "text": [
      "                                                                                                  \r"
     ]
    },
    {
     "data": {
      "text/html": [
       "\n",
       "Updated dataset after performing scaling on Lasso selected features :"
      ],
      "text/plain": [
       "<IPython.core.display.HTML object>"
      ]
     },
     "metadata": {},
     "output_type": "display_data"
    },
    {
     "data": {
      "text/html": [
       "<style type=\"text/css\">\n",
       "\ttable {border:ridge 5px;}\n",
       "\ttable td {border:inset 1px;}\n",
       "\ttable tr#HeaderRow {background-color:grey; color:white;}</style>\n",
       "<html><table>\n",
       "\t<tr id=\"HeaderRow\">\n",
       "\t\t<th>id</th>\n",
       "\t\t<th>species</th>\n",
       "\t\t<th>sepal_length</th>\n",
       "\t\t<th>sepal_width</th>\n",
       "\t\t<th>petal_width</th>\n",
       "\t\t<th>petal_length</th>\n",
       "\t</tr>\n",
       "\t<tr>\n",
       "\t\t<td>26</td>\n",
       "\t\t<td>3</td>\n",
       "\t\t<td>0.6363636363636362</td>\n",
       "\t\t<td>0.45454545454545453</td>\n",
       "\t\t<td>0.8750000000000001</td>\n",
       "\t\t<td>0.8135593220338982</td>\n",
       "\t</tr>\n",
       "\t<tr>\n",
       "\t\t<td>19</td>\n",
       "\t\t<td>1</td>\n",
       "\t\t<td>0.2121212121212119</td>\n",
       "\t\t<td>0.818181818181818</td>\n",
       "\t\t<td>0.12500000000000003</td>\n",
       "\t\t<td>0.15254237288135591</td>\n",
       "\t</tr>\n",
       "\t<tr>\n",
       "\t\t<td>30</td>\n",
       "\t\t<td>3</td>\n",
       "\t\t<td>0.5757575757575756</td>\n",
       "\t\t<td>0.36363636363636354</td>\n",
       "\t\t<td>0.5833333333333334</td>\n",
       "\t\t<td>0.6949152542372881</td>\n",
       "\t</tr>\n",
       "\t<tr>\n",
       "\t\t<td>38</td>\n",
       "\t\t<td>2</td>\n",
       "\t\t<td>0.33333333333333326</td>\n",
       "\t\t<td>0.22727272727272727</td>\n",
       "\t\t<td>0.5</td>\n",
       "\t\t<td>0.5084745762711864</td>\n",
       "\t</tr>\n",
       "\t<tr>\n",
       "\t\t<td>15</td>\n",
       "\t\t<td>3</td>\n",
       "\t\t<td>0.48484848484848475</td>\n",
       "\t\t<td>0.45454545454545453</td>\n",
       "\t\t<td>0.7083333333333334</td>\n",
       "\t\t<td>0.6440677966101694</td>\n",
       "\t</tr>\n",
       "\t<tr>\n",
       "\t\t<td>32</td>\n",
       "\t\t<td>2</td>\n",
       "\t\t<td>0.5454545454545454</td>\n",
       "\t\t<td>0.409090909090909</td>\n",
       "\t\t<td>0.5</td>\n",
       "\t\t<td>0.559322033898305</td>\n",
       "\t</tr>\n",
       "\t<tr>\n",
       "\t\t<td>36</td>\n",
       "\t\t<td>2</td>\n",
       "\t\t<td>0.6969696969696969</td>\n",
       "\t\t<td>0.5</td>\n",
       "\t\t<td>0.5416666666666666</td>\n",
       "\t\t<td>0.576271186440678</td>\n",
       "\t</tr>\n",
       "\t<tr>\n",
       "\t\t<td>28</td>\n",
       "\t\t<td>2</td>\n",
       "\t\t<td>0.6363636363636362</td>\n",
       "\t\t<td>0.36363636363636354</td>\n",
       "\t\t<td>0.5833333333333334</td>\n",
       "\t\t<td>0.6101694915254237</td>\n",
       "\t</tr>\n",
       "\t<tr>\n",
       "\t\t<td>22</td>\n",
       "\t\t<td>2</td>\n",
       "\t\t<td>0.33333333333333326</td>\n",
       "\t\t<td>0.13636363636363627</td>\n",
       "\t\t<td>0.5</td>\n",
       "\t\t<td>0.5084745762711864</td>\n",
       "\t</tr>\n",
       "\t<tr>\n",
       "\t\t<td>35</td>\n",
       "\t\t<td>1</td>\n",
       "\t\t<td>0.30303030303030304</td>\n",
       "\t\t<td>0.6363636363636362</td>\n",
       "\t\t<td>0.04166666666666667</td>\n",
       "\t\t<td>0.11864406779661016</td>\n",
       "\t</tr>\n",
       "</table></html>"
      ],
      "text/plain": [
       "   id  species  sepal_length  sepal_width  petal_width  petal_length\n",
       "0  26        3      0.636364     0.454545     0.875000      0.813559\n",
       "1  19        1      0.212121     0.818182     0.125000      0.152542\n",
       "2  30        3      0.575758     0.363636     0.583333      0.694915\n",
       "3  38        2      0.333333     0.227273     0.500000      0.508475\n",
       "4  15        3      0.484848     0.454545     0.708333      0.644068\n",
       "5  32        2      0.545455     0.409091     0.500000      0.559322\n",
       "6  36        2      0.696970     0.500000     0.541667      0.576271\n",
       "7  28        2      0.636364     0.363636     0.583333      0.610169\n",
       "8  22        2      0.333333     0.136364     0.500000      0.508475\n",
       "9  35        1      0.303030     0.636364     0.041667      0.118644"
      ]
     },
     "metadata": {},
     "output_type": "display_data"
    },
    {
     "name": "stdout",
     "output_type": "stream",
     "text": [
      "                                                                                                  \r"
     ]
    },
    {
     "data": {
      "text/html": [
       "30 rows X 6 columns"
      ],
      "text/plain": [
       "<IPython.core.display.HTML object>"
      ]
     },
     "metadata": {},
     "output_type": "display_data"
    },
    {
     "name": "stdout",
     "output_type": "stream",
     "text": [
      "                                                                                                  \r"
     ]
    },
    {
     "data": {
      "text/html": [
       "\n",
       "Updated dataset after performing RFE feature selection:"
      ],
      "text/plain": [
       "<IPython.core.display.HTML object>"
      ]
     },
     "metadata": {},
     "output_type": "display_data"
    },
    {
     "data": {
      "text/html": [
       "<style type=\"text/css\">\n",
       "\ttable {border:ridge 5px;}\n",
       "\ttable td {border:inset 1px;}\n",
       "\ttable tr#HeaderRow {background-color:grey; color:white;}</style>\n",
       "<html><table>\n",
       "\t<tr id=\"HeaderRow\">\n",
       "\t\t<th>id</th>\n",
       "\t\t<th>petal_length</th>\n",
       "\t\t<th>petal_width</th>\n",
       "\t\t<th>species</th>\n",
       "\t</tr>\n",
       "\t<tr>\n",
       "\t\t<td>19</td>\n",
       "\t\t<td>1.9</td>\n",
       "\t\t<td>0.4</td>\n",
       "\t\t<td>1</td>\n",
       "\t</tr>\n",
       "\t<tr>\n",
       "\t\t<td>36</td>\n",
       "\t\t<td>4.4</td>\n",
       "\t\t<td>1.4</td>\n",
       "\t\t<td>2</td>\n",
       "\t</tr>\n",
       "\t<tr>\n",
       "\t\t<td>28</td>\n",
       "\t\t<td>4.6</td>\n",
       "\t\t<td>1.5</td>\n",
       "\t\t<td>2</td>\n",
       "\t</tr>\n",
       "\t<tr>\n",
       "\t\t<td>15</td>\n",
       "\t\t<td>4.8</td>\n",
       "\t\t<td>1.8</td>\n",
       "\t\t<td>3</td>\n",
       "\t</tr>\n",
       "\t<tr>\n",
       "\t\t<td>22</td>\n",
       "\t\t<td>4.0</td>\n",
       "\t\t<td>1.3</td>\n",
       "\t\t<td>2</td>\n",
       "\t</tr>\n",
       "\t<tr>\n",
       "\t\t<td>35</td>\n",
       "\t\t<td>1.7</td>\n",
       "\t\t<td>0.2</td>\n",
       "\t\t<td>1</td>\n",
       "\t</tr>\n",
       "\t<tr>\n",
       "\t\t<td>26</td>\n",
       "\t\t<td>5.8</td>\n",
       "\t\t<td>2.2</td>\n",
       "\t\t<td>3</td>\n",
       "\t</tr>\n",
       "\t<tr>\n",
       "\t\t<td>20</td>\n",
       "\t\t<td>6.7</td>\n",
       "\t\t<td>2.2</td>\n",
       "\t\t<td>3</td>\n",
       "\t</tr>\n",
       "\t<tr>\n",
       "\t\t<td>17</td>\n",
       "\t\t<td>4.1</td>\n",
       "\t\t<td>1.0</td>\n",
       "\t\t<td>2</td>\n",
       "\t</tr>\n",
       "\t<tr>\n",
       "\t\t<td>34</td>\n",
       "\t\t<td>3.7</td>\n",
       "\t\t<td>1.0</td>\n",
       "\t\t<td>2</td>\n",
       "\t</tr>\n",
       "</table></html>"
      ],
      "text/plain": [
       "    petal_length  petal_width  species\n",
       "id                                    \n",
       "19           1.9          0.4        1\n",
       "36           4.4          1.4        2\n",
       "28           4.6          1.5        2\n",
       "15           4.8          1.8        3\n",
       "22           4.0          1.3        2\n",
       "35           1.7          0.2        1\n",
       "26           5.8          2.2        3\n",
       "20           6.7          2.2        3\n",
       "17           4.1          1.0        2\n",
       "34           3.7          1.0        2"
      ]
     },
     "metadata": {},
     "output_type": "display_data"
    },
    {
     "name": "stdout",
     "output_type": "stream",
     "text": [
      "                                                                                                  \r"
     ]
    },
    {
     "data": {
      "text/html": [
       "30 rows X 4 columns"
      ],
      "text/plain": [
       "<IPython.core.display.HTML object>"
      ]
     },
     "metadata": {},
     "output_type": "display_data"
    },
    {
     "name": "stdout",
     "output_type": "stream",
     "text": [
      "                                                                                                  \r"
     ]
    },
    {
     "data": {
      "text/html": [
       "\n",
       "Updated dataset after performing scaling on RFE selected features :"
      ],
      "text/plain": [
       "<IPython.core.display.HTML object>"
      ]
     },
     "metadata": {},
     "output_type": "display_data"
    },
    {
     "data": {
      "text/html": [
       "<style type=\"text/css\">\n",
       "\ttable {border:ridge 5px;}\n",
       "\ttable td {border:inset 1px;}\n",
       "\ttable tr#HeaderRow {background-color:grey; color:white;}</style>\n",
       "<html><table>\n",
       "\t<tr id=\"HeaderRow\">\n",
       "\t\t<th>id</th>\n",
       "\t\t<th>species</th>\n",
       "\t\t<th>r_petal_length</th>\n",
       "\t\t<th>r_petal_width</th>\n",
       "\t</tr>\n",
       "\t<tr>\n",
       "\t\t<td>17</td>\n",
       "\t\t<td>2</td>\n",
       "\t\t<td>0.5254237288135593</td>\n",
       "\t\t<td>0.375</td>\n",
       "\t</tr>\n",
       "\t<tr>\n",
       "\t\t<td>38</td>\n",
       "\t\t<td>2</td>\n",
       "\t\t<td>0.5084745762711864</td>\n",
       "\t\t<td>0.5</td>\n",
       "\t</tr>\n",
       "\t<tr>\n",
       "\t\t<td>12</td>\n",
       "\t\t<td>1</td>\n",
       "\t\t<td>0.06779661016949151</td>\n",
       "\t\t<td>0.0</td>\n",
       "\t</tr>\n",
       "\t<tr>\n",
       "\t\t<td>26</td>\n",
       "\t\t<td>3</td>\n",
       "\t\t<td>0.8135593220338982</td>\n",
       "\t\t<td>0.8750000000000001</td>\n",
       "\t</tr>\n",
       "\t<tr>\n",
       "\t\t<td>22</td>\n",
       "\t\t<td>2</td>\n",
       "\t\t<td>0.5084745762711864</td>\n",
       "\t\t<td>0.5</td>\n",
       "\t</tr>\n",
       "\t<tr>\n",
       "\t\t<td>35</td>\n",
       "\t\t<td>1</td>\n",
       "\t\t<td>0.11864406779661016</td>\n",
       "\t\t<td>0.04166666666666667</td>\n",
       "\t</tr>\n",
       "\t<tr>\n",
       "\t\t<td>36</td>\n",
       "\t\t<td>2</td>\n",
       "\t\t<td>0.576271186440678</td>\n",
       "\t\t<td>0.5416666666666666</td>\n",
       "\t</tr>\n",
       "\t<tr>\n",
       "\t\t<td>28</td>\n",
       "\t\t<td>2</td>\n",
       "\t\t<td>0.6101694915254237</td>\n",
       "\t\t<td>0.5833333333333334</td>\n",
       "\t</tr>\n",
       "\t<tr>\n",
       "\t\t<td>15</td>\n",
       "\t\t<td>3</td>\n",
       "\t\t<td>0.6440677966101694</td>\n",
       "\t\t<td>0.7083333333333334</td>\n",
       "\t</tr>\n",
       "\t<tr>\n",
       "\t\t<td>32</td>\n",
       "\t\t<td>2</td>\n",
       "\t\t<td>0.559322033898305</td>\n",
       "\t\t<td>0.5</td>\n",
       "\t</tr>\n",
       "</table></html>"
      ],
      "text/plain": [
       "   id  species  r_petal_length  r_petal_width\n",
       "0  17        2        0.525424       0.375000\n",
       "1  38        2        0.508475       0.500000\n",
       "2  12        1        0.067797       0.000000\n",
       "3  26        3        0.813559       0.875000\n",
       "4  22        2        0.508475       0.500000\n",
       "5  35        1        0.118644       0.041667\n",
       "6  36        2        0.576271       0.541667\n",
       "7  28        2        0.610169       0.583333\n",
       "8  15        3        0.644068       0.708333\n",
       "9  32        2        0.559322       0.500000"
      ]
     },
     "metadata": {},
     "output_type": "display_data"
    },
    {
     "name": "stdout",
     "output_type": "stream",
     "text": [
      "                                                                                                  \r"
     ]
    },
    {
     "data": {
      "text/html": [
       "30 rows X 4 columns"
      ],
      "text/plain": [
       "<IPython.core.display.HTML object>"
      ]
     },
     "metadata": {},
     "output_type": "display_data"
    },
    {
     "name": "stdout",
     "output_type": "stream",
     "text": [
      "                                                                                                  \r"
     ]
    },
    {
     "data": {
      "text/html": [
       "\n",
       "Updated dataset after performing scaling for PCA feature selection :"
      ],
      "text/plain": [
       "<IPython.core.display.HTML object>"
      ]
     },
     "metadata": {},
     "output_type": "display_data"
    },
    {
     "data": {
      "text/html": [
       "<style type=\"text/css\">\n",
       "\ttable {border:ridge 5px;}\n",
       "\ttable td {border:inset 1px;}\n",
       "\ttable tr#HeaderRow {background-color:grey; color:white;}</style>\n",
       "<html><table>\n",
       "\t<tr id=\"HeaderRow\">\n",
       "\t\t<th>id</th>\n",
       "\t\t<th>species</th>\n",
       "\t\t<th>sepal_length</th>\n",
       "\t\t<th>sepal_width</th>\n",
       "\t\t<th>petal_length</th>\n",
       "\t\t<th>petal_width</th>\n",
       "\t</tr>\n",
       "\t<tr>\n",
       "\t\t<td>38</td>\n",
       "\t\t<td>2</td>\n",
       "\t\t<td>0.33333333333333326</td>\n",
       "\t\t<td>0.22727272727272727</td>\n",
       "\t\t<td>0.5084745762711864</td>\n",
       "\t\t<td>0.5</td>\n",
       "\t</tr>\n",
       "\t<tr>\n",
       "\t\t<td>17</td>\n",
       "\t\t<td>2</td>\n",
       "\t\t<td>0.4242424242424241</td>\n",
       "\t\t<td>0.31818181818181823</td>\n",
       "\t\t<td>0.5254237288135593</td>\n",
       "\t\t<td>0.375</td>\n",
       "\t</tr>\n",
       "\t<tr>\n",
       "\t\t<td>34</td>\n",
       "\t\t<td>2</td>\n",
       "\t\t<td>0.33333333333333326</td>\n",
       "\t\t<td>0.18181818181818177</td>\n",
       "\t\t<td>0.4576271186440678</td>\n",
       "\t\t<td>0.375</td>\n",
       "\t</tr>\n",
       "\t<tr>\n",
       "\t\t<td>36</td>\n",
       "\t\t<td>2</td>\n",
       "\t\t<td>0.6969696969696969</td>\n",
       "\t\t<td>0.5</td>\n",
       "\t\t<td>0.576271186440678</td>\n",
       "\t\t<td>0.5416666666666666</td>\n",
       "\t</tr>\n",
       "\t<tr>\n",
       "\t\t<td>26</td>\n",
       "\t\t<td>3</td>\n",
       "\t\t<td>0.6363636363636362</td>\n",
       "\t\t<td>0.45454545454545453</td>\n",
       "\t\t<td>0.8135593220338982</td>\n",
       "\t\t<td>0.8750000000000001</td>\n",
       "\t</tr>\n",
       "\t<tr>\n",
       "\t\t<td>20</td>\n",
       "\t\t<td>3</td>\n",
       "\t\t<td>1.0</td>\n",
       "\t\t<td>0.818181818181818</td>\n",
       "\t\t<td>0.9661016949152542</td>\n",
       "\t\t<td>0.8750000000000001</td>\n",
       "\t</tr>\n",
       "\t<tr>\n",
       "\t\t<td>15</td>\n",
       "\t\t<td>3</td>\n",
       "\t\t<td>0.48484848484848475</td>\n",
       "\t\t<td>0.45454545454545453</td>\n",
       "\t\t<td>0.6440677966101694</td>\n",
       "\t\t<td>0.7083333333333334</td>\n",
       "\t</tr>\n",
       "\t<tr>\n",
       "\t\t<td>32</td>\n",
       "\t\t<td>2</td>\n",
       "\t\t<td>0.5454545454545454</td>\n",
       "\t\t<td>0.409090909090909</td>\n",
       "\t\t<td>0.559322033898305</td>\n",
       "\t\t<td>0.5</td>\n",
       "\t</tr>\n",
       "\t<tr>\n",
       "\t\t<td>19</td>\n",
       "\t\t<td>1</td>\n",
       "\t\t<td>0.2121212121212119</td>\n",
       "\t\t<td>0.818181818181818</td>\n",
       "\t\t<td>0.15254237288135591</td>\n",
       "\t\t<td>0.12500000000000003</td>\n",
       "\t</tr>\n",
       "\t<tr>\n",
       "\t\t<td>30</td>\n",
       "\t\t<td>3</td>\n",
       "\t\t<td>0.5757575757575756</td>\n",
       "\t\t<td>0.36363636363636354</td>\n",
       "\t\t<td>0.6949152542372881</td>\n",
       "\t\t<td>0.5833333333333334</td>\n",
       "\t</tr>\n",
       "</table></html>"
      ],
      "text/plain": [
       "   id  species  sepal_length  sepal_width  petal_length  petal_width\n",
       "0  38        2      0.333333     0.227273      0.508475     0.500000\n",
       "1  17        2      0.424242     0.318182      0.525424     0.375000\n",
       "2  34        2      0.333333     0.181818      0.457627     0.375000\n",
       "3  36        2      0.696970     0.500000      0.576271     0.541667\n",
       "4  26        3      0.636364     0.454545      0.813559     0.875000\n",
       "5  20        3      1.000000     0.818182      0.966102     0.875000\n",
       "6  15        3      0.484848     0.454545      0.644068     0.708333\n",
       "7  32        2      0.545455     0.409091      0.559322     0.500000\n",
       "8  19        1      0.212121     0.818182      0.152542     0.125000\n",
       "9  30        3      0.575758     0.363636      0.694915     0.583333"
      ]
     },
     "metadata": {},
     "output_type": "display_data"
    },
    {
     "name": "stdout",
     "output_type": "stream",
     "text": [
      "                                                                                                  \r"
     ]
    },
    {
     "data": {
      "text/html": [
       "30 rows X 6 columns"
      ],
      "text/plain": [
       "<IPython.core.display.HTML object>"
      ]
     },
     "metadata": {},
     "output_type": "display_data"
    },
    {
     "name": "stdout",
     "output_type": "stream",
     "text": [
      "                                                                                                  \r"
     ]
    },
    {
     "data": {
      "text/html": [
       "\n",
       "Updated dataset after performing PCA feature selection :"
      ],
      "text/plain": [
       "<IPython.core.display.HTML object>"
      ]
     },
     "metadata": {},
     "output_type": "display_data"
    },
    {
     "data": {
      "text/html": [
       "<div>\n",
       "<style scoped>\n",
       "    .dataframe tbody tr th:only-of-type {\n",
       "        vertical-align: middle;\n",
       "    }\n",
       "\n",
       "    .dataframe tbody tr th {\n",
       "        vertical-align: top;\n",
       "    }\n",
       "\n",
       "    .dataframe thead th {\n",
       "        text-align: right;\n",
       "    }\n",
       "</style>\n",
       "<table border=\"1\" class=\"dataframe\">\n",
       "  <thead>\n",
       "    <tr style=\"text-align: right;\">\n",
       "      <th></th>\n",
       "      <th>id</th>\n",
       "      <th>col_0</th>\n",
       "      <th>col_1</th>\n",
       "      <th>species</th>\n",
       "    </tr>\n",
       "  </thead>\n",
       "  <tbody>\n",
       "    <tr>\n",
       "      <th>0</th>\n",
       "      <td>26</td>\n",
       "      <td>0.587605</td>\n",
       "      <td>-0.047159</td>\n",
       "      <td>3</td>\n",
       "    </tr>\n",
       "    <tr>\n",
       "      <th>1</th>\n",
       "      <td>17</td>\n",
       "      <td>0.022157</td>\n",
       "      <td>0.151640</td>\n",
       "      <td>2</td>\n",
       "    </tr>\n",
       "    <tr>\n",
       "      <th>2</th>\n",
       "      <td>22</td>\n",
       "      <td>0.080254</td>\n",
       "      <td>0.350050</td>\n",
       "      <td>2</td>\n",
       "    </tr>\n",
       "    <tr>\n",
       "      <th>3</th>\n",
       "      <td>19</td>\n",
       "      <td>-0.539854</td>\n",
       "      <td>-0.241541</td>\n",
       "      <td>1</td>\n",
       "    </tr>\n",
       "    <tr>\n",
       "      <th>4</th>\n",
       "      <td>38</td>\n",
       "      <td>0.065359</td>\n",
       "      <td>0.267180</td>\n",
       "      <td>2</td>\n",
       "    </tr>\n",
       "    <tr>\n",
       "      <th>5</th>\n",
       "      <td>36</td>\n",
       "      <td>0.251901</td>\n",
       "      <td>-0.123876</td>\n",
       "      <td>2</td>\n",
       "    </tr>\n",
       "    <tr>\n",
       "      <th>6</th>\n",
       "      <td>15</td>\n",
       "      <td>0.310856</td>\n",
       "      <td>0.004679</td>\n",
       "      <td>3</td>\n",
       "    </tr>\n",
       "    <tr>\n",
       "      <th>7</th>\n",
       "      <td>20</td>\n",
       "      <td>0.784031</td>\n",
       "      <td>-0.513725</td>\n",
       "      <td>3</td>\n",
       "    </tr>\n",
       "    <tr>\n",
       "      <th>8</th>\n",
       "      <td>34</td>\n",
       "      <td>-0.037448</td>\n",
       "      <td>0.307457</td>\n",
       "      <td>2</td>\n",
       "    </tr>\n",
       "    <tr>\n",
       "      <th>9</th>\n",
       "      <td>35</td>\n",
       "      <td>-0.542639</td>\n",
       "      <td>-0.113247</td>\n",
       "      <td>1</td>\n",
       "    </tr>\n",
       "  </tbody>\n",
       "</table>\n",
       "</div>"
      ],
      "text/plain": [
       "   id     col_0     col_1  species\n",
       "0  26  0.587605 -0.047159        3\n",
       "1  17  0.022157  0.151640        2\n",
       "2  22  0.080254  0.350050        2\n",
       "3  19 -0.539854 -0.241541        1\n",
       "4  38  0.065359  0.267180        2\n",
       "5  36  0.251901 -0.123876        2\n",
       "6  15  0.310856  0.004679        3\n",
       "7  20  0.784031 -0.513725        3\n",
       "8  34 -0.037448  0.307457        2\n",
       "9  35 -0.542639 -0.113247        1"
      ]
     },
     "metadata": {},
     "output_type": "display_data"
    },
    {
     "name": "stdout",
     "output_type": "stream",
     "text": [
      "                                                                                                  \r"
     ]
    },
    {
     "data": {
      "text/html": [
       "10 rows X 4 columns"
      ],
      "text/plain": [
       "<IPython.core.display.HTML object>"
      ]
     },
     "metadata": {},
     "output_type": "display_data"
    },
    {
     "name": "stdout",
     "output_type": "stream",
     "text": [
      "Data Transformation completed.⫿⫿⫿⫿⫿⫿⫿⫿⫿⫿⫿⫿⫿⫿⫿⫿⫿⫿⫿⫿⫿⫿⫿⫿⫿⫿⫿⫿⫿⫿⫿⫿⫿⫿⫿⫿⫿⫿⫿⫿⫿⫿｜ 100% - 15/15            \n",
      "\n",
      "Following model is being used for generating prediction :\n",
      "Model ID : XGBOOST_3 \n",
      "Feature Selection Method : lasso\n",
      "\n",
      "Prediction : \n",
      "   id  Prediction  Confidence_Lower  Confidence_upper  species\n",
      "0  19           1               1.0               1.0        1\n",
      "1  26           3               1.0               1.0        3\n",
      "2  20           3               1.0               1.0        3\n",
      "3  36           2               1.0               1.0        2\n",
      "4  38           2               1.0               1.0        2\n",
      "5  12           1               1.0               1.0        1\n",
      "6  17           2               1.0               1.0        2\n",
      "7  34           2               1.0               1.0        2\n",
      "8  15           3               1.0               1.0        3\n",
      "9  32           2               1.0               1.0        2\n",
      "\n",
      "Performance Metrics : \n",
      "       Prediction  Mapping  CLASS_1  CLASS_2  CLASS_3  Precision    Recall        F1  Support\n",
      "SeqNum                                                                                       \n",
      "0               1  CLASS_1        7        0        0   1.000000  1.000000  1.000000        7\n",
      "2               3  CLASS_3        0        1        9   0.900000  0.900000  0.900000       10\n",
      "1               2  CLASS_2        0       12        1   0.923077  0.923077  0.923077       13\n",
      "\n",
      "Confusion Matrix : \n"
     ]
    },
    {
     "data": {
      "text/plain": [
       "array([[ 7,  0,  0],\n",
       "       [ 0, 12,  1],\n",
       "       [ 0,  1,  9]], dtype=int64)"
      ]
     },
     "metadata": {},
     "output_type": "display_data"
    }
   ],
   "source": [
    "# Generating prediction and metrics on test data\n",
    "prediction = aml.predict(iris_test)"
   ]
  },
  {
   "cell_type": "code",
   "execution_count": 22,
   "id": "cc4f6a78-1cdf-4938-a9f1-22035d8404ca",
   "metadata": {},
   "outputs": [
    {
     "data": {
      "text/html": [
       "<style type=\"text/css\">\n",
       "\ttable {border:ridge 5px;}\n",
       "\ttable td {border:inset 1px;}\n",
       "\ttable tr#HeaderRow {background-color:grey; color:white;}</style>\n",
       "<html><table>\n",
       "\t<tr id=\"HeaderRow\">\n",
       "\t\t<th>id</th>\n",
       "\t\t<th>Prediction</th>\n",
       "\t\t<th>Confidence_Lower</th>\n",
       "\t\t<th>Confidence_upper</th>\n",
       "\t\t<th>species</th>\n",
       "\t</tr>\n",
       "\t<tr>\n",
       "\t\t<td>10</td>\n",
       "\t\t<td>2</td>\n",
       "\t\t<td>1.0</td>\n",
       "\t\t<td>1.0</td>\n",
       "\t\t<td>2</td>\n",
       "\t</tr>\n",
       "\t<tr>\n",
       "\t\t<td>12</td>\n",
       "\t\t<td>1</td>\n",
       "\t\t<td>1.0</td>\n",
       "\t\t<td>1.0</td>\n",
       "\t\t<td>1</td>\n",
       "\t</tr>\n",
       "\t<tr>\n",
       "\t\t<td>13</td>\n",
       "\t\t<td>3</td>\n",
       "\t\t<td>1.0</td>\n",
       "\t\t<td>1.0</td>\n",
       "\t\t<td>3</td>\n",
       "\t</tr>\n",
       "\t<tr>\n",
       "\t\t<td>14</td>\n",
       "\t\t<td>3</td>\n",
       "\t\t<td>1.0</td>\n",
       "\t\t<td>1.0</td>\n",
       "\t\t<td>3</td>\n",
       "\t</tr>\n",
       "\t<tr>\n",
       "\t\t<td>16</td>\n",
       "\t\t<td>3</td>\n",
       "\t\t<td>1.0</td>\n",
       "\t\t<td>1.0</td>\n",
       "\t\t<td>3</td>\n",
       "\t</tr>\n",
       "\t<tr>\n",
       "\t\t<td>17</td>\n",
       "\t\t<td>2</td>\n",
       "\t\t<td>1.0</td>\n",
       "\t\t<td>1.0</td>\n",
       "\t\t<td>2</td>\n",
       "\t</tr>\n",
       "\t<tr>\n",
       "\t\t<td>15</td>\n",
       "\t\t<td>3</td>\n",
       "\t\t<td>1.0</td>\n",
       "\t\t<td>1.0</td>\n",
       "\t\t<td>3</td>\n",
       "\t</tr>\n",
       "\t<tr>\n",
       "\t\t<td>11</td>\n",
       "\t\t<td>1</td>\n",
       "\t\t<td>1.0</td>\n",
       "\t\t<td>1.0</td>\n",
       "\t\t<td>1</td>\n",
       "\t</tr>\n",
       "\t<tr>\n",
       "\t\t<td>9</td>\n",
       "\t\t<td>1</td>\n",
       "\t\t<td>1.0</td>\n",
       "\t\t<td>1.0</td>\n",
       "\t\t<td>1</td>\n",
       "\t</tr>\n",
       "\t<tr>\n",
       "\t\t<td>8</td>\n",
       "\t\t<td>2</td>\n",
       "\t\t<td>1.0</td>\n",
       "\t\t<td>1.0</td>\n",
       "\t\t<td>2</td>\n",
       "\t</tr>\n",
       "</table></html>"
      ],
      "text/plain": [
       "   id  Prediction  Confidence_Lower  Confidence_upper  species\n",
       "0  10           2               1.0               1.0        2\n",
       "1  12           1               1.0               1.0        1\n",
       "2  13           3               1.0               1.0        3\n",
       "3  14           3               1.0               1.0        3\n",
       "4  16           3               1.0               1.0        3\n",
       "5  17           2               1.0               1.0        2\n",
       "6  15           3               1.0               1.0        3\n",
       "7  11           1               1.0               1.0        1\n",
       "8   9           1               1.0               1.0        1\n",
       "9   8           2               1.0               1.0        2"
      ]
     },
     "execution_count": 22,
     "metadata": {},
     "output_type": "execute_result"
    }
   ],
   "source": [
    "# Printing prediction\n",
    "prediction.head()"
   ]
  },
  {
   "cell_type": "code",
   "execution_count": 23,
   "id": "b57808d8-547b-4712-846e-227417a46825",
   "metadata": {},
   "outputs": [
    {
     "name": "stdout",
     "output_type": "stream",
     "text": [
      "Data Transformation started ...\n",
      "                                                                                                \r"
     ]
    },
    {
     "data": {
      "text/html": [
       "Performing transformation carried out in feature engineering phase ..."
      ],
      "text/plain": [
       "<IPython.core.display.HTML object>"
      ]
     },
     "metadata": {},
     "output_type": "display_data"
    },
    {
     "name": "stdout",
     "output_type": "stream",
     "text": [
      "                                                                                                \r"
     ]
    },
    {
     "data": {
      "text/html": [
       "\n",
       "Updated dataset after dropping irrelevent columns :"
      ],
      "text/plain": [
       "<IPython.core.display.HTML object>"
      ]
     },
     "metadata": {},
     "output_type": "display_data"
    },
    {
     "data": {
      "text/html": [
       "<style type=\"text/css\">\n",
       "\ttable {border:ridge 5px;}\n",
       "\ttable td {border:inset 1px;}\n",
       "\ttable tr#HeaderRow {background-color:grey; color:white;}</style>\n",
       "<html><table>\n",
       "\t<tr id=\"HeaderRow\">\n",
       "\t\t<th>sepal_length</th>\n",
       "\t\t<th>sepal_width</th>\n",
       "\t\t<th>petal_length</th>\n",
       "\t\t<th>petal_width</th>\n",
       "\t\t<th>species</th>\n",
       "\t</tr>\n",
       "\t<tr>\n",
       "\t\t<td>6.4</td>\n",
       "\t\t<td>2.7</td>\n",
       "\t\t<td>5.3</td>\n",
       "\t\t<td>1.9</td>\n",
       "\t\t<td>3</td>\n",
       "\t</tr>\n",
       "\t<tr>\n",
       "\t\t<td>6.4</td>\n",
       "\t\t<td>3.2</td>\n",
       "\t\t<td>4.5</td>\n",
       "\t\t<td>1.5</td>\n",
       "\t\t<td>2</td>\n",
       "\t</tr>\n",
       "\t<tr>\n",
       "\t\t<td>4.9</td>\n",
       "\t\t<td>2.5</td>\n",
       "\t\t<td>4.5</td>\n",
       "\t\t<td>1.7</td>\n",
       "\t\t<td>3</td>\n",
       "\t</tr>\n",
       "\t<tr>\n",
       "\t\t<td>6.9</td>\n",
       "\t\t<td>3.2</td>\n",
       "\t\t<td>5.7</td>\n",
       "\t\t<td>2.3</td>\n",
       "\t\t<td>3</td>\n",
       "\t</tr>\n",
       "\t<tr>\n",
       "\t\t<td>6.0</td>\n",
       "\t\t<td>3.0</td>\n",
       "\t\t<td>4.8</td>\n",
       "\t\t<td>1.8</td>\n",
       "\t\t<td>3</td>\n",
       "\t</tr>\n",
       "\t<tr>\n",
       "\t\t<td>5.1</td>\n",
       "\t\t<td>3.3</td>\n",
       "\t\t<td>1.7</td>\n",
       "\t\t<td>0.5</td>\n",
       "\t\t<td>1</td>\n",
       "\t</tr>\n",
       "\t<tr>\n",
       "\t\t<td>5.1</td>\n",
       "\t\t<td>3.8</td>\n",
       "\t\t<td>1.6</td>\n",
       "\t\t<td>0.2</td>\n",
       "\t\t<td>1</td>\n",
       "\t</tr>\n",
       "\t<tr>\n",
       "\t\t<td>5.1</td>\n",
       "\t\t<td>3.8</td>\n",
       "\t\t<td>1.9</td>\n",
       "\t\t<td>0.4</td>\n",
       "\t\t<td>1</td>\n",
       "\t</tr>\n",
       "\t<tr>\n",
       "\t\t<td>4.9</td>\n",
       "\t\t<td>3.6</td>\n",
       "\t\t<td>1.4</td>\n",
       "\t\t<td>0.1</td>\n",
       "\t\t<td>1</td>\n",
       "\t</tr>\n",
       "\t<tr>\n",
       "\t\t<td>7.7</td>\n",
       "\t\t<td>3.8</td>\n",
       "\t\t<td>6.7</td>\n",
       "\t\t<td>2.2</td>\n",
       "\t\t<td>3</td>\n",
       "\t</tr>\n",
       "</table></html>"
      ],
      "text/plain": [
       "   sepal_length  sepal_width  petal_length  petal_width  species\n",
       "0           6.4          2.7           5.3          1.9        3\n",
       "1           6.4          3.2           4.5          1.5        2\n",
       "2           4.9          2.5           4.5          1.7        3\n",
       "3           6.9          3.2           5.7          2.3        3\n",
       "4           6.0          3.0           4.8          1.8        3\n",
       "5           5.1          3.3           1.7          0.5        1\n",
       "6           5.1          3.8           1.6          0.2        1\n",
       "7           5.1          3.8           1.9          0.4        1\n",
       "8           4.9          3.6           1.4          0.1        1\n",
       "9           7.7          3.8           6.7          2.2        3"
      ]
     },
     "metadata": {},
     "output_type": "display_data"
    },
    {
     "name": "stdout",
     "output_type": "stream",
     "text": [
      "                                                                                                \r"
     ]
    },
    {
     "data": {
      "text/html": [
       "30 rows X 5 columns"
      ],
      "text/plain": [
       "<IPython.core.display.HTML object>"
      ]
     },
     "metadata": {},
     "output_type": "display_data"
    },
    {
     "name": "stdout",
     "output_type": "stream",
     "text": [
      "                                                                                                 \r"
     ]
    },
    {
     "data": {
      "text/html": [
       "\n",
       "Updated dataset after performing target column transformation :"
      ],
      "text/plain": [
       "<IPython.core.display.HTML object>"
      ]
     },
     "metadata": {},
     "output_type": "display_data"
    },
    {
     "data": {
      "text/html": [
       "<style type=\"text/css\">\n",
       "\ttable {border:ridge 5px;}\n",
       "\ttable td {border:inset 1px;}\n",
       "\ttable tr#HeaderRow {background-color:grey; color:white;}</style>\n",
       "<html><table>\n",
       "\t<tr id=\"HeaderRow\">\n",
       "\t\t<th>id</th>\n",
       "\t\t<th>petal_width</th>\n",
       "\t\t<th>sepal_length</th>\n",
       "\t\t<th>petal_length</th>\n",
       "\t\t<th>sepal_width</th>\n",
       "\t\t<th>species</th>\n",
       "\t</tr>\n",
       "\t<tr>\n",
       "\t\t<td>9</td>\n",
       "\t\t<td>0.2</td>\n",
       "\t\t<td>4.4</td>\n",
       "\t\t<td>1.4</td>\n",
       "\t\t<td>2.9</td>\n",
       "\t\t<td>1</td>\n",
       "\t</tr>\n",
       "\t<tr>\n",
       "\t\t<td>13</td>\n",
       "\t\t<td>1.9</td>\n",
       "\t\t<td>6.4</td>\n",
       "\t\t<td>5.3</td>\n",
       "\t\t<td>2.7</td>\n",
       "\t\t<td>3</td>\n",
       "\t</tr>\n",
       "\t<tr>\n",
       "\t\t<td>21</td>\n",
       "\t\t<td>1.8</td>\n",
       "\t\t<td>5.9</td>\n",
       "\t\t<td>4.8</td>\n",
       "\t\t<td>3.2</td>\n",
       "\t\t<td>2</td>\n",
       "\t</tr>\n",
       "\t<tr>\n",
       "\t\t<td>12</td>\n",
       "\t\t<td>0.1</td>\n",
       "\t\t<td>4.9</td>\n",
       "\t\t<td>1.4</td>\n",
       "\t\t<td>3.6</td>\n",
       "\t\t<td>1</td>\n",
       "\t</tr>\n",
       "\t<tr>\n",
       "\t\t<td>14</td>\n",
       "\t\t<td>2.3</td>\n",
       "\t\t<td>6.9</td>\n",
       "\t\t<td>5.7</td>\n",
       "\t\t<td>3.2</td>\n",
       "\t\t<td>3</td>\n",
       "\t</tr>\n",
       "\t<tr>\n",
       "\t\t<td>22</td>\n",
       "\t\t<td>1.3</td>\n",
       "\t\t<td>5.5</td>\n",
       "\t\t<td>4.0</td>\n",
       "\t\t<td>2.3</td>\n",
       "\t\t<td>2</td>\n",
       "\t</tr>\n",
       "\t<tr>\n",
       "\t\t<td>15</td>\n",
       "\t\t<td>1.8</td>\n",
       "\t\t<td>6.0</td>\n",
       "\t\t<td>4.8</td>\n",
       "\t\t<td>3.0</td>\n",
       "\t\t<td>3</td>\n",
       "\t</tr>\n",
       "\t<tr>\n",
       "\t\t<td>23</td>\n",
       "\t\t<td>0.5</td>\n",
       "\t\t<td>5.1</td>\n",
       "\t\t<td>1.7</td>\n",
       "\t\t<td>3.3</td>\n",
       "\t\t<td>1</td>\n",
       "\t</tr>\n",
       "\t<tr>\n",
       "\t\t<td>8</td>\n",
       "\t\t<td>1.2</td>\n",
       "\t\t<td>5.8</td>\n",
       "\t\t<td>4.0</td>\n",
       "\t\t<td>2.6</td>\n",
       "\t\t<td>2</td>\n",
       "\t</tr>\n",
       "\t<tr>\n",
       "\t\t<td>16</td>\n",
       "\t\t<td>1.9</td>\n",
       "\t\t<td>7.4</td>\n",
       "\t\t<td>6.1</td>\n",
       "\t\t<td>2.8</td>\n",
       "\t\t<td>3</td>\n",
       "\t</tr>\n",
       "</table></html>"
      ],
      "text/plain": [
       "   id  petal_width  sepal_length  petal_length  sepal_width  species\n",
       "0   9          0.2           4.4           1.4          2.9        1\n",
       "1  13          1.9           6.4           5.3          2.7        3\n",
       "2  21          1.8           5.9           4.8          3.2        2\n",
       "3  12          0.1           4.9           1.4          3.6        1\n",
       "4  14          2.3           6.9           5.7          3.2        3\n",
       "5  22          1.3           5.5           4.0          2.3        2\n",
       "6  15          1.8           6.0           4.8          3.0        3\n",
       "7  23          0.5           5.1           1.7          3.3        1\n",
       "8   8          1.2           5.8           4.0          2.6        2\n",
       "9  16          1.9           7.4           6.1          2.8        3"
      ]
     },
     "metadata": {},
     "output_type": "display_data"
    },
    {
     "name": "stdout",
     "output_type": "stream",
     "text": [
      "                                                                                                 \r"
     ]
    },
    {
     "data": {
      "text/html": [
       "30 rows X 6 columns"
      ],
      "text/plain": [
       "<IPython.core.display.HTML object>"
      ]
     },
     "metadata": {},
     "output_type": "display_data"
    },
    {
     "name": "stdout",
     "output_type": "stream",
     "text": [
      "                                                                                                  \r"
     ]
    },
    {
     "data": {
      "text/html": [
       "Performing transformation carried out in data preparation phase ..."
      ],
      "text/plain": [
       "<IPython.core.display.HTML object>"
      ]
     },
     "metadata": {},
     "output_type": "display_data"
    },
    {
     "name": "stdout",
     "output_type": "stream",
     "text": [
      "result data stored in table '\"ALICE\".\"ml__td_sqlmr_persist_out__1719265053408686\"'⫾⫾⫾｜ 73% - 11/15\n",
      "                                                                                                  \r"
     ]
    },
    {
     "data": {
      "text/html": [
       "\n",
       "Updated dataset after performing Lasso feature selection:"
      ],
      "text/plain": [
       "<IPython.core.display.HTML object>"
      ]
     },
     "metadata": {},
     "output_type": "display_data"
    },
    {
     "data": {
      "text/html": [
       "<style type=\"text/css\">\n",
       "\ttable {border:ridge 5px;}\n",
       "\ttable td {border:inset 1px;}\n",
       "\ttable tr#HeaderRow {background-color:grey; color:white;}</style>\n",
       "<html><table>\n",
       "\t<tr id=\"HeaderRow\">\n",
       "\t\t<th>id</th>\n",
       "\t\t<th>sepal_length</th>\n",
       "\t\t<th>sepal_width</th>\n",
       "\t\t<th>petal_width</th>\n",
       "\t\t<th>petal_length</th>\n",
       "\t\t<th>species</th>\n",
       "\t</tr>\n",
       "\t<tr>\n",
       "\t\t<td>22</td>\n",
       "\t\t<td>5.5</td>\n",
       "\t\t<td>2.3</td>\n",
       "\t\t<td>1.3</td>\n",
       "\t\t<td>4.0</td>\n",
       "\t\t<td>2</td>\n",
       "\t</tr>\n",
       "\t<tr>\n",
       "\t\t<td>26</td>\n",
       "\t\t<td>6.5</td>\n",
       "\t\t<td>3.0</td>\n",
       "\t\t<td>2.2</td>\n",
       "\t\t<td>5.8</td>\n",
       "\t\t<td>3</td>\n",
       "\t</tr>\n",
       "\t<tr>\n",
       "\t\t<td>20</td>\n",
       "\t\t<td>7.7</td>\n",
       "\t\t<td>3.8</td>\n",
       "\t\t<td>2.2</td>\n",
       "\t\t<td>6.7</td>\n",
       "\t\t<td>3</td>\n",
       "\t</tr>\n",
       "\t<tr>\n",
       "\t\t<td>19</td>\n",
       "\t\t<td>5.1</td>\n",
       "\t\t<td>3.8</td>\n",
       "\t\t<td>0.4</td>\n",
       "\t\t<td>1.9</td>\n",
       "\t\t<td>1</td>\n",
       "\t</tr>\n",
       "\t<tr>\n",
       "\t\t<td>36</td>\n",
       "\t\t<td>6.7</td>\n",
       "\t\t<td>3.1</td>\n",
       "\t\t<td>1.4</td>\n",
       "\t\t<td>4.4</td>\n",
       "\t\t<td>2</td>\n",
       "\t</tr>\n",
       "\t<tr>\n",
       "\t\t<td>28</td>\n",
       "\t\t<td>6.5</td>\n",
       "\t\t<td>2.8</td>\n",
       "\t\t<td>1.5</td>\n",
       "\t\t<td>4.6</td>\n",
       "\t\t<td>2</td>\n",
       "\t</tr>\n",
       "\t<tr>\n",
       "\t\t<td>15</td>\n",
       "\t\t<td>6.0</td>\n",
       "\t\t<td>3.0</td>\n",
       "\t\t<td>1.8</td>\n",
       "\t\t<td>4.8</td>\n",
       "\t\t<td>3</td>\n",
       "\t</tr>\n",
       "\t<tr>\n",
       "\t\t<td>32</td>\n",
       "\t\t<td>6.2</td>\n",
       "\t\t<td>2.9</td>\n",
       "\t\t<td>1.3</td>\n",
       "\t\t<td>4.3</td>\n",
       "\t\t<td>2</td>\n",
       "\t</tr>\n",
       "\t<tr>\n",
       "\t\t<td>38</td>\n",
       "\t\t<td>5.5</td>\n",
       "\t\t<td>2.5</td>\n",
       "\t\t<td>1.3</td>\n",
       "\t\t<td>4.0</td>\n",
       "\t\t<td>2</td>\n",
       "\t</tr>\n",
       "\t<tr>\n",
       "\t\t<td>12</td>\n",
       "\t\t<td>4.9</td>\n",
       "\t\t<td>3.6</td>\n",
       "\t\t<td>0.1</td>\n",
       "\t\t<td>1.4</td>\n",
       "\t\t<td>1</td>\n",
       "\t</tr>\n",
       "</table></html>"
      ],
      "text/plain": [
       "    sepal_length  sepal_width  petal_width  petal_length  species\n",
       "id                                                               \n",
       "22           5.5          2.3          1.3           4.0        2\n",
       "26           6.5          3.0          2.2           5.8        3\n",
       "20           7.7          3.8          2.2           6.7        3\n",
       "19           5.1          3.8          0.4           1.9        1\n",
       "36           6.7          3.1          1.4           4.4        2\n",
       "28           6.5          2.8          1.5           4.6        2\n",
       "15           6.0          3.0          1.8           4.8        3\n",
       "32           6.2          2.9          1.3           4.3        2\n",
       "38           5.5          2.5          1.3           4.0        2\n",
       "12           4.9          3.6          0.1           1.4        1"
      ]
     },
     "metadata": {},
     "output_type": "display_data"
    },
    {
     "name": "stdout",
     "output_type": "stream",
     "text": [
      "                                                                                                  \r"
     ]
    },
    {
     "data": {
      "text/html": [
       "30 rows X 6 columns"
      ],
      "text/plain": [
       "<IPython.core.display.HTML object>"
      ]
     },
     "metadata": {},
     "output_type": "display_data"
    },
    {
     "name": "stdout",
     "output_type": "stream",
     "text": [
      "                                                                                                  \r"
     ]
    },
    {
     "data": {
      "text/html": [
       "\n",
       "Updated dataset after performing scaling on Lasso selected features :"
      ],
      "text/plain": [
       "<IPython.core.display.HTML object>"
      ]
     },
     "metadata": {},
     "output_type": "display_data"
    },
    {
     "data": {
      "text/html": [
       "<style type=\"text/css\">\n",
       "\ttable {border:ridge 5px;}\n",
       "\ttable td {border:inset 1px;}\n",
       "\ttable tr#HeaderRow {background-color:grey; color:white;}</style>\n",
       "<html><table>\n",
       "\t<tr id=\"HeaderRow\">\n",
       "\t\t<th>id</th>\n",
       "\t\t<th>species</th>\n",
       "\t\t<th>sepal_length</th>\n",
       "\t\t<th>sepal_width</th>\n",
       "\t\t<th>petal_width</th>\n",
       "\t\t<th>petal_length</th>\n",
       "\t</tr>\n",
       "\t<tr>\n",
       "\t\t<td>19</td>\n",
       "\t\t<td>1</td>\n",
       "\t\t<td>0.2121212121212119</td>\n",
       "\t\t<td>0.818181818181818</td>\n",
       "\t\t<td>0.12500000000000003</td>\n",
       "\t\t<td>0.15254237288135591</td>\n",
       "\t</tr>\n",
       "\t<tr>\n",
       "\t\t<td>15</td>\n",
       "\t\t<td>3</td>\n",
       "\t\t<td>0.48484848484848475</td>\n",
       "\t\t<td>0.45454545454545453</td>\n",
       "\t\t<td>0.7083333333333334</td>\n",
       "\t\t<td>0.6440677966101694</td>\n",
       "\t</tr>\n",
       "\t<tr>\n",
       "\t\t<td>32</td>\n",
       "\t\t<td>2</td>\n",
       "\t\t<td>0.5454545454545454</td>\n",
       "\t\t<td>0.409090909090909</td>\n",
       "\t\t<td>0.5</td>\n",
       "\t\t<td>0.559322033898305</td>\n",
       "\t</tr>\n",
       "\t<tr>\n",
       "\t\t<td>38</td>\n",
       "\t\t<td>2</td>\n",
       "\t\t<td>0.33333333333333326</td>\n",
       "\t\t<td>0.22727272727272727</td>\n",
       "\t\t<td>0.5</td>\n",
       "\t\t<td>0.5084745762711864</td>\n",
       "\t</tr>\n",
       "\t<tr>\n",
       "\t\t<td>17</td>\n",
       "\t\t<td>2</td>\n",
       "\t\t<td>0.4242424242424241</td>\n",
       "\t\t<td>0.31818181818181823</td>\n",
       "\t\t<td>0.375</td>\n",
       "\t\t<td>0.5254237288135593</td>\n",
       "\t</tr>\n",
       "\t<tr>\n",
       "\t\t<td>34</td>\n",
       "\t\t<td>2</td>\n",
       "\t\t<td>0.33333333333333326</td>\n",
       "\t\t<td>0.18181818181818177</td>\n",
       "\t\t<td>0.375</td>\n",
       "\t\t<td>0.4576271186440678</td>\n",
       "\t</tr>\n",
       "\t<tr>\n",
       "\t\t<td>26</td>\n",
       "\t\t<td>3</td>\n",
       "\t\t<td>0.6363636363636362</td>\n",
       "\t\t<td>0.45454545454545453</td>\n",
       "\t\t<td>0.8750000000000001</td>\n",
       "\t\t<td>0.8135593220338982</td>\n",
       "\t</tr>\n",
       "\t<tr>\n",
       "\t\t<td>20</td>\n",
       "\t\t<td>3</td>\n",
       "\t\t<td>1.0</td>\n",
       "\t\t<td>0.818181818181818</td>\n",
       "\t\t<td>0.8750000000000001</td>\n",
       "\t\t<td>0.9661016949152542</td>\n",
       "\t</tr>\n",
       "\t<tr>\n",
       "\t\t<td>36</td>\n",
       "\t\t<td>2</td>\n",
       "\t\t<td>0.6969696969696969</td>\n",
       "\t\t<td>0.5</td>\n",
       "\t\t<td>0.5416666666666666</td>\n",
       "\t\t<td>0.576271186440678</td>\n",
       "\t</tr>\n",
       "\t<tr>\n",
       "\t\t<td>28</td>\n",
       "\t\t<td>2</td>\n",
       "\t\t<td>0.6363636363636362</td>\n",
       "\t\t<td>0.36363636363636354</td>\n",
       "\t\t<td>0.5833333333333334</td>\n",
       "\t\t<td>0.6101694915254237</td>\n",
       "\t</tr>\n",
       "</table></html>"
      ],
      "text/plain": [
       "   id  species  sepal_length  sepal_width  petal_width  petal_length\n",
       "0  19        1      0.212121     0.818182     0.125000      0.152542\n",
       "1  15        3      0.484848     0.454545     0.708333      0.644068\n",
       "2  32        2      0.545455     0.409091     0.500000      0.559322\n",
       "3  38        2      0.333333     0.227273     0.500000      0.508475\n",
       "4  17        2      0.424242     0.318182     0.375000      0.525424\n",
       "5  34        2      0.333333     0.181818     0.375000      0.457627\n",
       "6  26        3      0.636364     0.454545     0.875000      0.813559\n",
       "7  20        3      1.000000     0.818182     0.875000      0.966102\n",
       "8  36        2      0.696970     0.500000     0.541667      0.576271\n",
       "9  28        2      0.636364     0.363636     0.583333      0.610169"
      ]
     },
     "metadata": {},
     "output_type": "display_data"
    },
    {
     "name": "stdout",
     "output_type": "stream",
     "text": [
      "                                                                                                  \r"
     ]
    },
    {
     "data": {
      "text/html": [
       "30 rows X 6 columns"
      ],
      "text/plain": [
       "<IPython.core.display.HTML object>"
      ]
     },
     "metadata": {},
     "output_type": "display_data"
    },
    {
     "name": "stdout",
     "output_type": "stream",
     "text": [
      "                                                                                                  \r"
     ]
    },
    {
     "data": {
      "text/html": [
       "\n",
       "Updated dataset after performing RFE feature selection:"
      ],
      "text/plain": [
       "<IPython.core.display.HTML object>"
      ]
     },
     "metadata": {},
     "output_type": "display_data"
    },
    {
     "data": {
      "text/html": [
       "<style type=\"text/css\">\n",
       "\ttable {border:ridge 5px;}\n",
       "\ttable td {border:inset 1px;}\n",
       "\ttable tr#HeaderRow {background-color:grey; color:white;}</style>\n",
       "<html><table>\n",
       "\t<tr id=\"HeaderRow\">\n",
       "\t\t<th>id</th>\n",
       "\t\t<th>petal_length</th>\n",
       "\t\t<th>petal_width</th>\n",
       "\t\t<th>species</th>\n",
       "\t</tr>\n",
       "\t<tr>\n",
       "\t\t<td>38</td>\n",
       "\t\t<td>4.0</td>\n",
       "\t\t<td>1.3</td>\n",
       "\t\t<td>2</td>\n",
       "\t</tr>\n",
       "\t<tr>\n",
       "\t\t<td>22</td>\n",
       "\t\t<td>4.0</td>\n",
       "\t\t<td>1.3</td>\n",
       "\t\t<td>2</td>\n",
       "\t</tr>\n",
       "\t<tr>\n",
       "\t\t<td>35</td>\n",
       "\t\t<td>1.7</td>\n",
       "\t\t<td>0.2</td>\n",
       "\t\t<td>1</td>\n",
       "\t</tr>\n",
       "\t<tr>\n",
       "\t\t<td>15</td>\n",
       "\t\t<td>4.8</td>\n",
       "\t\t<td>1.8</td>\n",
       "\t\t<td>3</td>\n",
       "\t</tr>\n",
       "\t<tr>\n",
       "\t\t<td>36</td>\n",
       "\t\t<td>4.4</td>\n",
       "\t\t<td>1.4</td>\n",
       "\t\t<td>2</td>\n",
       "\t</tr>\n",
       "\t<tr>\n",
       "\t\t<td>28</td>\n",
       "\t\t<td>4.6</td>\n",
       "\t\t<td>1.5</td>\n",
       "\t\t<td>2</td>\n",
       "\t</tr>\n",
       "\t<tr>\n",
       "\t\t<td>17</td>\n",
       "\t\t<td>4.1</td>\n",
       "\t\t<td>1.0</td>\n",
       "\t\t<td>2</td>\n",
       "\t</tr>\n",
       "\t<tr>\n",
       "\t\t<td>34</td>\n",
       "\t\t<td>3.7</td>\n",
       "\t\t<td>1.0</td>\n",
       "\t\t<td>2</td>\n",
       "\t</tr>\n",
       "\t<tr>\n",
       "\t\t<td>26</td>\n",
       "\t\t<td>5.8</td>\n",
       "\t\t<td>2.2</td>\n",
       "\t\t<td>3</td>\n",
       "\t</tr>\n",
       "\t<tr>\n",
       "\t\t<td>20</td>\n",
       "\t\t<td>6.7</td>\n",
       "\t\t<td>2.2</td>\n",
       "\t\t<td>3</td>\n",
       "\t</tr>\n",
       "</table></html>"
      ],
      "text/plain": [
       "    petal_length  petal_width  species\n",
       "id                                    \n",
       "38           4.0          1.3        2\n",
       "22           4.0          1.3        2\n",
       "35           1.7          0.2        1\n",
       "15           4.8          1.8        3\n",
       "36           4.4          1.4        2\n",
       "28           4.6          1.5        2\n",
       "17           4.1          1.0        2\n",
       "34           3.7          1.0        2\n",
       "26           5.8          2.2        3\n",
       "20           6.7          2.2        3"
      ]
     },
     "metadata": {},
     "output_type": "display_data"
    },
    {
     "name": "stdout",
     "output_type": "stream",
     "text": [
      "                                                                                                  \r"
     ]
    },
    {
     "data": {
      "text/html": [
       "30 rows X 4 columns"
      ],
      "text/plain": [
       "<IPython.core.display.HTML object>"
      ]
     },
     "metadata": {},
     "output_type": "display_data"
    },
    {
     "name": "stdout",
     "output_type": "stream",
     "text": [
      "                                                                                                  \r"
     ]
    },
    {
     "data": {
      "text/html": [
       "\n",
       "Updated dataset after performing scaling on RFE selected features :"
      ],
      "text/plain": [
       "<IPython.core.display.HTML object>"
      ]
     },
     "metadata": {},
     "output_type": "display_data"
    },
    {
     "data": {
      "text/html": [
       "<style type=\"text/css\">\n",
       "\ttable {border:ridge 5px;}\n",
       "\ttable td {border:inset 1px;}\n",
       "\ttable tr#HeaderRow {background-color:grey; color:white;}</style>\n",
       "<html><table>\n",
       "\t<tr id=\"HeaderRow\">\n",
       "\t\t<th>id</th>\n",
       "\t\t<th>species</th>\n",
       "\t\t<th>r_petal_length</th>\n",
       "\t\t<th>r_petal_width</th>\n",
       "\t</tr>\n",
       "\t<tr>\n",
       "\t\t<td>22</td>\n",
       "\t\t<td>2</td>\n",
       "\t\t<td>0.5084745762711864</td>\n",
       "\t\t<td>0.5</td>\n",
       "\t</tr>\n",
       "\t<tr>\n",
       "\t\t<td>38</td>\n",
       "\t\t<td>2</td>\n",
       "\t\t<td>0.5084745762711864</td>\n",
       "\t\t<td>0.5</td>\n",
       "\t</tr>\n",
       "\t<tr>\n",
       "\t\t<td>12</td>\n",
       "\t\t<td>1</td>\n",
       "\t\t<td>0.06779661016949151</td>\n",
       "\t\t<td>0.0</td>\n",
       "\t</tr>\n",
       "\t<tr>\n",
       "\t\t<td>26</td>\n",
       "\t\t<td>3</td>\n",
       "\t\t<td>0.8135593220338982</td>\n",
       "\t\t<td>0.8750000000000001</td>\n",
       "\t</tr>\n",
       "\t<tr>\n",
       "\t\t<td>36</td>\n",
       "\t\t<td>2</td>\n",
       "\t\t<td>0.576271186440678</td>\n",
       "\t\t<td>0.5416666666666666</td>\n",
       "\t</tr>\n",
       "\t<tr>\n",
       "\t\t<td>28</td>\n",
       "\t\t<td>2</td>\n",
       "\t\t<td>0.6101694915254237</td>\n",
       "\t\t<td>0.5833333333333334</td>\n",
       "\t</tr>\n",
       "\t<tr>\n",
       "\t\t<td>19</td>\n",
       "\t\t<td>1</td>\n",
       "\t\t<td>0.15254237288135591</td>\n",
       "\t\t<td>0.12500000000000003</td>\n",
       "\t</tr>\n",
       "\t<tr>\n",
       "\t\t<td>30</td>\n",
       "\t\t<td>3</td>\n",
       "\t\t<td>0.6949152542372881</td>\n",
       "\t\t<td>0.5833333333333334</td>\n",
       "\t</tr>\n",
       "\t<tr>\n",
       "\t\t<td>15</td>\n",
       "\t\t<td>3</td>\n",
       "\t\t<td>0.6440677966101694</td>\n",
       "\t\t<td>0.7083333333333334</td>\n",
       "\t</tr>\n",
       "\t<tr>\n",
       "\t\t<td>32</td>\n",
       "\t\t<td>2</td>\n",
       "\t\t<td>0.559322033898305</td>\n",
       "\t\t<td>0.5</td>\n",
       "\t</tr>\n",
       "</table></html>"
      ],
      "text/plain": [
       "   id  species  r_petal_length  r_petal_width\n",
       "0  22        2        0.508475       0.500000\n",
       "1  38        2        0.508475       0.500000\n",
       "2  12        1        0.067797       0.000000\n",
       "3  26        3        0.813559       0.875000\n",
       "4  36        2        0.576271       0.541667\n",
       "5  28        2        0.610169       0.583333\n",
       "6  19        1        0.152542       0.125000\n",
       "7  30        3        0.694915       0.583333\n",
       "8  15        3        0.644068       0.708333\n",
       "9  32        2        0.559322       0.500000"
      ]
     },
     "metadata": {},
     "output_type": "display_data"
    },
    {
     "name": "stdout",
     "output_type": "stream",
     "text": [
      "                                                                                                  \r"
     ]
    },
    {
     "data": {
      "text/html": [
       "30 rows X 4 columns"
      ],
      "text/plain": [
       "<IPython.core.display.HTML object>"
      ]
     },
     "metadata": {},
     "output_type": "display_data"
    },
    {
     "name": "stdout",
     "output_type": "stream",
     "text": [
      "                                                                                                  \r"
     ]
    },
    {
     "data": {
      "text/html": [
       "\n",
       "Updated dataset after performing scaling for PCA feature selection :"
      ],
      "text/plain": [
       "<IPython.core.display.HTML object>"
      ]
     },
     "metadata": {},
     "output_type": "display_data"
    },
    {
     "data": {
      "text/html": [
       "<style type=\"text/css\">\n",
       "\ttable {border:ridge 5px;}\n",
       "\ttable td {border:inset 1px;}\n",
       "\ttable tr#HeaderRow {background-color:grey; color:white;}</style>\n",
       "<html><table>\n",
       "\t<tr id=\"HeaderRow\">\n",
       "\t\t<th>id</th>\n",
       "\t\t<th>species</th>\n",
       "\t\t<th>sepal_length</th>\n",
       "\t\t<th>sepal_width</th>\n",
       "\t\t<th>petal_length</th>\n",
       "\t\t<th>petal_width</th>\n",
       "\t</tr>\n",
       "\t<tr>\n",
       "\t\t<td>22</td>\n",
       "\t\t<td>2</td>\n",
       "\t\t<td>0.33333333333333326</td>\n",
       "\t\t<td>0.13636363636363627</td>\n",
       "\t\t<td>0.5084745762711864</td>\n",
       "\t\t<td>0.5</td>\n",
       "\t</tr>\n",
       "\t<tr>\n",
       "\t\t<td>15</td>\n",
       "\t\t<td>3</td>\n",
       "\t\t<td>0.48484848484848475</td>\n",
       "\t\t<td>0.45454545454545453</td>\n",
       "\t\t<td>0.6440677966101694</td>\n",
       "\t\t<td>0.7083333333333334</td>\n",
       "\t</tr>\n",
       "\t<tr>\n",
       "\t\t<td>32</td>\n",
       "\t\t<td>2</td>\n",
       "\t\t<td>0.5454545454545454</td>\n",
       "\t\t<td>0.409090909090909</td>\n",
       "\t\t<td>0.559322033898305</td>\n",
       "\t\t<td>0.5</td>\n",
       "\t</tr>\n",
       "\t<tr>\n",
       "\t\t<td>38</td>\n",
       "\t\t<td>2</td>\n",
       "\t\t<td>0.33333333333333326</td>\n",
       "\t\t<td>0.22727272727272727</td>\n",
       "\t\t<td>0.5084745762711864</td>\n",
       "\t\t<td>0.5</td>\n",
       "\t</tr>\n",
       "\t<tr>\n",
       "\t\t<td>17</td>\n",
       "\t\t<td>2</td>\n",
       "\t\t<td>0.4242424242424241</td>\n",
       "\t\t<td>0.31818181818181823</td>\n",
       "\t\t<td>0.5254237288135593</td>\n",
       "\t\t<td>0.375</td>\n",
       "\t</tr>\n",
       "\t<tr>\n",
       "\t\t<td>34</td>\n",
       "\t\t<td>2</td>\n",
       "\t\t<td>0.33333333333333326</td>\n",
       "\t\t<td>0.18181818181818177</td>\n",
       "\t\t<td>0.4576271186440678</td>\n",
       "\t\t<td>0.375</td>\n",
       "\t</tr>\n",
       "\t<tr>\n",
       "\t\t<td>19</td>\n",
       "\t\t<td>1</td>\n",
       "\t\t<td>0.2121212121212119</td>\n",
       "\t\t<td>0.818181818181818</td>\n",
       "\t\t<td>0.15254237288135591</td>\n",
       "\t\t<td>0.12500000000000003</td>\n",
       "\t</tr>\n",
       "\t<tr>\n",
       "\t\t<td>30</td>\n",
       "\t\t<td>3</td>\n",
       "\t\t<td>0.5757575757575756</td>\n",
       "\t\t<td>0.36363636363636354</td>\n",
       "\t\t<td>0.6949152542372881</td>\n",
       "\t\t<td>0.5833333333333334</td>\n",
       "\t</tr>\n",
       "\t<tr>\n",
       "\t\t<td>36</td>\n",
       "\t\t<td>2</td>\n",
       "\t\t<td>0.6969696969696969</td>\n",
       "\t\t<td>0.5</td>\n",
       "\t\t<td>0.576271186440678</td>\n",
       "\t\t<td>0.5416666666666666</td>\n",
       "\t</tr>\n",
       "\t<tr>\n",
       "\t\t<td>28</td>\n",
       "\t\t<td>2</td>\n",
       "\t\t<td>0.6363636363636362</td>\n",
       "\t\t<td>0.36363636363636354</td>\n",
       "\t\t<td>0.6101694915254237</td>\n",
       "\t\t<td>0.5833333333333334</td>\n",
       "\t</tr>\n",
       "</table></html>"
      ],
      "text/plain": [
       "   id  species  sepal_length  sepal_width  petal_length  petal_width\n",
       "0  22        2      0.333333     0.136364      0.508475     0.500000\n",
       "1  15        3      0.484848     0.454545      0.644068     0.708333\n",
       "2  32        2      0.545455     0.409091      0.559322     0.500000\n",
       "3  38        2      0.333333     0.227273      0.508475     0.500000\n",
       "4  17        2      0.424242     0.318182      0.525424     0.375000\n",
       "5  34        2      0.333333     0.181818      0.457627     0.375000\n",
       "6  19        1      0.212121     0.818182      0.152542     0.125000\n",
       "7  30        3      0.575758     0.363636      0.694915     0.583333\n",
       "8  36        2      0.696970     0.500000      0.576271     0.541667\n",
       "9  28        2      0.636364     0.363636      0.610169     0.583333"
      ]
     },
     "metadata": {},
     "output_type": "display_data"
    },
    {
     "name": "stdout",
     "output_type": "stream",
     "text": [
      "                                                                                                  \r"
     ]
    },
    {
     "data": {
      "text/html": [
       "30 rows X 6 columns"
      ],
      "text/plain": [
       "<IPython.core.display.HTML object>"
      ]
     },
     "metadata": {},
     "output_type": "display_data"
    },
    {
     "name": "stdout",
     "output_type": "stream",
     "text": [
      "                                                                                                  \r"
     ]
    },
    {
     "data": {
      "text/html": [
       "\n",
       "Updated dataset after performing PCA feature selection :"
      ],
      "text/plain": [
       "<IPython.core.display.HTML object>"
      ]
     },
     "metadata": {},
     "output_type": "display_data"
    },
    {
     "data": {
      "text/html": [
       "<div>\n",
       "<style scoped>\n",
       "    .dataframe tbody tr th:only-of-type {\n",
       "        vertical-align: middle;\n",
       "    }\n",
       "\n",
       "    .dataframe tbody tr th {\n",
       "        vertical-align: top;\n",
       "    }\n",
       "\n",
       "    .dataframe thead th {\n",
       "        text-align: right;\n",
       "    }\n",
       "</style>\n",
       "<table border=\"1\" class=\"dataframe\">\n",
       "  <thead>\n",
       "    <tr style=\"text-align: right;\">\n",
       "      <th></th>\n",
       "      <th>id</th>\n",
       "      <th>col_0</th>\n",
       "      <th>col_1</th>\n",
       "      <th>species</th>\n",
       "    </tr>\n",
       "  </thead>\n",
       "  <tbody>\n",
       "    <tr>\n",
       "      <th>0</th>\n",
       "      <td>26</td>\n",
       "      <td>0.587605</td>\n",
       "      <td>-0.047159</td>\n",
       "      <td>3</td>\n",
       "    </tr>\n",
       "    <tr>\n",
       "      <th>1</th>\n",
       "      <td>17</td>\n",
       "      <td>0.022157</td>\n",
       "      <td>0.151640</td>\n",
       "      <td>2</td>\n",
       "    </tr>\n",
       "    <tr>\n",
       "      <th>2</th>\n",
       "      <td>22</td>\n",
       "      <td>0.080254</td>\n",
       "      <td>0.350050</td>\n",
       "      <td>2</td>\n",
       "    </tr>\n",
       "    <tr>\n",
       "      <th>3</th>\n",
       "      <td>19</td>\n",
       "      <td>-0.539854</td>\n",
       "      <td>-0.241541</td>\n",
       "      <td>1</td>\n",
       "    </tr>\n",
       "    <tr>\n",
       "      <th>4</th>\n",
       "      <td>38</td>\n",
       "      <td>0.065359</td>\n",
       "      <td>0.267180</td>\n",
       "      <td>2</td>\n",
       "    </tr>\n",
       "    <tr>\n",
       "      <th>5</th>\n",
       "      <td>36</td>\n",
       "      <td>0.251901</td>\n",
       "      <td>-0.123876</td>\n",
       "      <td>2</td>\n",
       "    </tr>\n",
       "    <tr>\n",
       "      <th>6</th>\n",
       "      <td>15</td>\n",
       "      <td>0.310856</td>\n",
       "      <td>0.004679</td>\n",
       "      <td>3</td>\n",
       "    </tr>\n",
       "    <tr>\n",
       "      <th>7</th>\n",
       "      <td>20</td>\n",
       "      <td>0.784031</td>\n",
       "      <td>-0.513725</td>\n",
       "      <td>3</td>\n",
       "    </tr>\n",
       "    <tr>\n",
       "      <th>8</th>\n",
       "      <td>34</td>\n",
       "      <td>-0.037448</td>\n",
       "      <td>0.307457</td>\n",
       "      <td>2</td>\n",
       "    </tr>\n",
       "    <tr>\n",
       "      <th>9</th>\n",
       "      <td>35</td>\n",
       "      <td>-0.542639</td>\n",
       "      <td>-0.113247</td>\n",
       "      <td>1</td>\n",
       "    </tr>\n",
       "  </tbody>\n",
       "</table>\n",
       "</div>"
      ],
      "text/plain": [
       "   id     col_0     col_1  species\n",
       "0  26  0.587605 -0.047159        3\n",
       "1  17  0.022157  0.151640        2\n",
       "2  22  0.080254  0.350050        2\n",
       "3  19 -0.539854 -0.241541        1\n",
       "4  38  0.065359  0.267180        2\n",
       "5  36  0.251901 -0.123876        2\n",
       "6  15  0.310856  0.004679        3\n",
       "7  20  0.784031 -0.513725        3\n",
       "8  34 -0.037448  0.307457        2\n",
       "9  35 -0.542639 -0.113247        1"
      ]
     },
     "metadata": {},
     "output_type": "display_data"
    },
    {
     "name": "stdout",
     "output_type": "stream",
     "text": [
      "                                                                                                  \r"
     ]
    },
    {
     "data": {
      "text/html": [
       "10 rows X 4 columns"
      ],
      "text/plain": [
       "<IPython.core.display.HTML object>"
      ]
     },
     "metadata": {},
     "output_type": "display_data"
    },
    {
     "name": "stdout",
     "output_type": "stream",
     "text": [
      "Data Transformation completed.⫿⫿⫿⫿⫿⫿⫿⫿⫿⫿⫿⫿⫿⫿⫿⫿⫿⫿⫿⫿⫿⫿⫿⫿⫿⫿⫿⫿⫿⫿⫿⫿⫿⫿⫿⫿⫿⫿⫿⫿⫿⫿｜ 100% - 15/15            \n",
      "\n",
      "Following model is being used for generating prediction :\n",
      "Model ID : XGBOOST_2 \n",
      "Feature Selection Method : pca\n",
      "\n",
      "Prediction : \n",
      "   id  Prediction  Confidence_Lower  Confidence_upper  species\n",
      "0  22           2               1.0               1.0        2\n",
      "1  38           2               1.0               1.0        2\n",
      "2  36           2               1.0               1.0        2\n",
      "3  15           2               1.0               1.0        3\n",
      "4  34           2               1.0               1.0        2\n",
      "5  35           1               1.0               1.0        1\n",
      "6  20           3               1.0               1.0        3\n",
      "7  19           1               1.0               1.0        1\n",
      "8  17           2               1.0               1.0        2\n",
      "9  26           3               1.0               1.0        3\n",
      "\n",
      "Performance Metrics : \n",
      "       Prediction  Mapping  CLASS_1  CLASS_2  CLASS_3  Precision    Recall        F1  Support\n",
      "SeqNum                                                                                       \n",
      "0               1  CLASS_1        7        0        0      1.000  1.000000  1.000000        7\n",
      "2               3  CLASS_3        0        1        7      0.875  0.700000  0.777778       10\n",
      "1               2  CLASS_2        0       12        3      0.800  0.923077  0.857143       13\n",
      "\n",
      "Confusion Matrix : \n"
     ]
    },
    {
     "data": {
      "text/plain": [
       "array([[ 7,  0,  0],\n",
       "       [ 0, 12,  1],\n",
       "       [ 0,  3,  7]], dtype=int64)"
      ]
     },
     "metadata": {},
     "output_type": "display_data"
    }
   ],
   "source": [
    "# Generating prediction and metrics on test data\n",
    "prediction = aml.predict(iris_test,2)"
   ]
  },
  {
   "cell_type": "code",
   "execution_count": 24,
   "id": "e287adcb-1ed3-431d-9edd-0b70d1feeaf0",
   "metadata": {},
   "outputs": [
    {
     "data": {
      "text/html": [
       "<style type=\"text/css\">\n",
       "\ttable {border:ridge 5px;}\n",
       "\ttable td {border:inset 1px;}\n",
       "\ttable tr#HeaderRow {background-color:grey; color:white;}</style>\n",
       "<html><table>\n",
       "\t<tr id=\"HeaderRow\">\n",
       "\t\t<th>id</th>\n",
       "\t\t<th>Prediction</th>\n",
       "\t\t<th>Confidence_Lower</th>\n",
       "\t\t<th>Confidence_upper</th>\n",
       "\t\t<th>species</th>\n",
       "\t</tr>\n",
       "\t<tr>\n",
       "\t\t<td>10</td>\n",
       "\t\t<td>2</td>\n",
       "\t\t<td>1.0</td>\n",
       "\t\t<td>1.0</td>\n",
       "\t\t<td>2</td>\n",
       "\t</tr>\n",
       "\t<tr>\n",
       "\t\t<td>12</td>\n",
       "\t\t<td>1</td>\n",
       "\t\t<td>1.0</td>\n",
       "\t\t<td>1.0</td>\n",
       "\t\t<td>1</td>\n",
       "\t</tr>\n",
       "\t<tr>\n",
       "\t\t<td>13</td>\n",
       "\t\t<td>3</td>\n",
       "\t\t<td>1.0</td>\n",
       "\t\t<td>1.0</td>\n",
       "\t\t<td>3</td>\n",
       "\t</tr>\n",
       "\t<tr>\n",
       "\t\t<td>14</td>\n",
       "\t\t<td>3</td>\n",
       "\t\t<td>1.0</td>\n",
       "\t\t<td>1.0</td>\n",
       "\t\t<td>3</td>\n",
       "\t</tr>\n",
       "\t<tr>\n",
       "\t\t<td>16</td>\n",
       "\t\t<td>3</td>\n",
       "\t\t<td>1.0</td>\n",
       "\t\t<td>1.0</td>\n",
       "\t\t<td>3</td>\n",
       "\t</tr>\n",
       "\t<tr>\n",
       "\t\t<td>17</td>\n",
       "\t\t<td>2</td>\n",
       "\t\t<td>1.0</td>\n",
       "\t\t<td>1.0</td>\n",
       "\t\t<td>2</td>\n",
       "\t</tr>\n",
       "\t<tr>\n",
       "\t\t<td>15</td>\n",
       "\t\t<td>2</td>\n",
       "\t\t<td>1.0</td>\n",
       "\t\t<td>1.0</td>\n",
       "\t\t<td>3</td>\n",
       "\t</tr>\n",
       "\t<tr>\n",
       "\t\t<td>11</td>\n",
       "\t\t<td>1</td>\n",
       "\t\t<td>1.0</td>\n",
       "\t\t<td>1.0</td>\n",
       "\t\t<td>1</td>\n",
       "\t</tr>\n",
       "\t<tr>\n",
       "\t\t<td>9</td>\n",
       "\t\t<td>1</td>\n",
       "\t\t<td>1.0</td>\n",
       "\t\t<td>1.0</td>\n",
       "\t\t<td>1</td>\n",
       "\t</tr>\n",
       "\t<tr>\n",
       "\t\t<td>8</td>\n",
       "\t\t<td>2</td>\n",
       "\t\t<td>1.0</td>\n",
       "\t\t<td>1.0</td>\n",
       "\t\t<td>2</td>\n",
       "\t</tr>\n",
       "</table></html>"
      ],
      "text/plain": [
       "   id  Prediction  Confidence_Lower  Confidence_upper  species\n",
       "0  10           2               1.0               1.0        2\n",
       "1  12           1               1.0               1.0        1\n",
       "2  13           3               1.0               1.0        3\n",
       "3  14           3               1.0               1.0        3\n",
       "4  16           3               1.0               1.0        3\n",
       "5  17           2               1.0               1.0        2\n",
       "6  15           2               1.0               1.0        3\n",
       "7  11           1               1.0               1.0        1\n",
       "8   9           1               1.0               1.0        1\n",
       "9   8           2               1.0               1.0        2"
      ]
     },
     "execution_count": 24,
     "metadata": {},
     "output_type": "execute_result"
    }
   ],
   "source": [
    "# Printing prediction\n",
    "prediction.head()"
   ]
  },
  {
   "cell_type": "code",
   "execution_count": 25,
   "id": "b2cba357-75ac-4089-a234-64a57067b117",
   "metadata": {},
   "outputs": [
    {
     "data": {
      "text/plain": [
       "True"
      ]
     },
     "execution_count": 25,
     "metadata": {},
     "output_type": "execute_result"
    }
   ],
   "source": [
    "remove_context()"
   ]
  }
 ],
 "metadata": {
  "kernelspec": {
   "display_name": "Python 3 (ipykernel)",
   "language": "python",
   "name": "python3"
  },
  "language_info": {
   "codemirror_mode": {
    "name": "ipython",
    "version": 3
   },
   "file_extension": ".py",
   "mimetype": "text/x-python",
   "name": "python",
   "nbconvert_exporter": "python",
   "pygments_lexer": "ipython3",
   "version": "3.10.9"
  }
 },
 "nbformat": 4,
 "nbformat_minor": 5
}
