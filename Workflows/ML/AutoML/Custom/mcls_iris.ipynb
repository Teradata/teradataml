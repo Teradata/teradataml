{
 "cells": [
  {
   "cell_type": "markdown",
   "id": "2762f1d8-5a66-411f-a625-34cf16ac6dd3",
   "metadata": {},
   "source": [
    "# <b><span style='color:#F1A424'>AutoML - Multi-Class Classification </span> </b>"
   ]
  },
  {
   "cell_type": "markdown",
   "id": "f225fb94-b2c8-4c92-af38-733d08e0e2a1",
   "metadata": {},
   "source": [
    "## <b> Problem overview:</b>\n",
    "    "
   ]
  },
  {
   "cell_type": "markdown",
   "id": "af9813eb-9c44-4968-a5fe-d1c74415c894",
   "metadata": {},
   "source": [
    "\n",
    "The Iris dataset is a classic dataset in the field of machine learning and statistics.It contains measurements of various features of iris flowers, making it a quintessential dataset for practicing classification algorithms and statistical analysis.\n",
    "\n",
    "Here are some key details about the Iris dataset:\n",
    "\n",
    "**Features**:\n",
    "\n",
    "- `Sepal Length (cm)`: Measurement of the length of the outermost petal parts (sepals).\n",
    "- `Sepal Width (cm)`: Measurement of the width of the sepals.\n",
    "- `Petal Length (cm)`: Measurement of the length of the innermost petal parts (petals).\n",
    "- `Petal Width (cm)`: Measurement of the width of the petals.\n",
    "\n",
    "**Target Variable**:\n",
    "\n",
    "- `Species`: The species of iris flowers. It includes three classes: `Setosa`, `Versicolor` and `Virginica`.\n",
    "\n",
    "        \n",
    "**Objective**:\n",
    "\n",
    "The primary objective is typically to build a model that can accurately classify iris flowers into one of the three species based on the provided features.\n",
    "\n",
    "**Challenges**:\n",
    "\n",
    "- The dataset consists of 150 instances, with 50 instances for each of the three classes.\n",
    "\n",
    "**Usecase**:\n",
    "Here, we will use AutoML(Automated Machine Learning) functionality to automate the entire process of developing a predictive model. It will perform feature exploration, feature engineering, data preparation, model training and evaluation on dataset in custom run and at end we will get leaderboard containined different models along with their performance. Model will also have rank associated with them which indicates which is best performing model for given data followed by other models.\n",
    "\n",
    "As part of custom AutoML run, we will customize below functionalities:\n",
    "- Train test split with training size 0.85.\n",
    "- Data imbalance handling with 'SMOTE' method.\n",
    "- Feature scaling with 'range' method.\n",
    "- Addition of customized value in hyperparameter 'max_depth' for 'xgboost' model."
   ]
  },
  {
   "cell_type": "code",
   "execution_count": 1,
   "id": "66568348-4d00-477c-a071-17995f797c95",
   "metadata": {},
   "outputs": [],
   "source": [
    "# Importing AutoML from teradataml\n",
    "from teradataml import AutoML, AutoClassifier"
   ]
  },
  {
   "cell_type": "code",
   "execution_count": 2,
   "id": "17dfae70-0401-4cc4-ba1c-400a5cf62451",
   "metadata": {},
   "outputs": [],
   "source": [
    "# Importing other important libraries\n",
    "import getpass\n",
    "from teradataml import create_context, remove_context\n",
    "from teradataml import DataFrame\n",
    "from teradataml import load_example_data\n",
    "from teradataml import TrainTestSplit"
   ]
  },
  {
   "cell_type": "code",
   "execution_count": 3,
   "id": "cadd9ed2-42d6-4899-b23e-4e2cf601162f",
   "metadata": {},
   "outputs": [
    {
     "name": "stdout",
     "output_type": "stream",
     "text": [
      "Host:  ········\n",
      "Username:  ········\n",
      "Password:  ········\n"
     ]
    }
   ],
   "source": [
    "# Create the connection.\n",
    "host = getpass.getpass(\"Host: \")\n",
    "username = getpass.getpass(\"Username: \")\n",
    "password = getpass.getpass(\"Password: \")\n",
    "\n",
    "con = create_context(host=host, username=username, password=password)"
   ]
  },
  {
   "cell_type": "markdown",
   "id": "be767a89-d5b8-4876-91cb-36980754586e",
   "metadata": {},
   "source": [
    "## <b><span style='color:#F1A424'>| 1.</span> Loading Dataset </b>"
   ]
  },
  {
   "cell_type": "code",
   "execution_count": 5,
   "id": "f1592c52-b247-4792-be2a-30b49bbeb9b6",
   "metadata": {},
   "outputs": [
    {
     "name": "stdout",
     "output_type": "stream",
     "text": [
      "WARNING: Skipped loading table iris_input since it already exists in the database.\n"
     ]
    }
   ],
   "source": [
    "# Loading dataset from example data collection\n",
    "load_example_data(\"teradataml\", \"iris_input\")"
   ]
  },
  {
   "cell_type": "code",
   "execution_count": 6,
   "id": "3846ae0f-004b-4b8e-9fea-06fac4294065",
   "metadata": {},
   "outputs": [],
   "source": [
    "# Fetching in teradata dataframe\n",
    "iris = DataFrame.from_table(\"iris_input\")"
   ]
  },
  {
   "cell_type": "code",
   "execution_count": 7,
   "id": "442ccd80-b444-413e-970d-d855ec3d6cae",
   "metadata": {},
   "outputs": [
    {
     "data": {
      "text/html": [
       "<style type=\"text/css\">\n",
       "\ttable {border:ridge 5px;}\n",
       "\ttable td {border:inset 1px;}\n",
       "\ttable tr#HeaderRow {background-color:grey; color:white;}</style>\n",
       "<html><table>\n",
       "\t<tr id=\"HeaderRow\">\n",
       "\t\t<th>id</th>\n",
       "\t\t<th>sepal_length</th>\n",
       "\t\t<th>sepal_width</th>\n",
       "\t\t<th>petal_length</th>\n",
       "\t\t<th>petal_width</th>\n",
       "\t\t<th>species</th>\n",
       "\t</tr>\n",
       "\t<tr>\n",
       "\t\t<td>3</td>\n",
       "\t\t<td>4.7</td>\n",
       "\t\t<td>3.2</td>\n",
       "\t\t<td>1.3</td>\n",
       "\t\t<td>0.2</td>\n",
       "\t\t<td>1</td>\n",
       "\t</tr>\n",
       "\t<tr>\n",
       "\t\t<td>5</td>\n",
       "\t\t<td>5.0</td>\n",
       "\t\t<td>3.6</td>\n",
       "\t\t<td>1.4</td>\n",
       "\t\t<td>0.2</td>\n",
       "\t\t<td>1</td>\n",
       "\t</tr>\n",
       "\t<tr>\n",
       "\t\t<td>6</td>\n",
       "\t\t<td>5.4</td>\n",
       "\t\t<td>3.9</td>\n",
       "\t\t<td>1.7</td>\n",
       "\t\t<td>0.4</td>\n",
       "\t\t<td>1</td>\n",
       "\t</tr>\n",
       "\t<tr>\n",
       "\t\t<td>7</td>\n",
       "\t\t<td>4.6</td>\n",
       "\t\t<td>3.4</td>\n",
       "\t\t<td>1.4</td>\n",
       "\t\t<td>0.3</td>\n",
       "\t\t<td>1</td>\n",
       "\t</tr>\n",
       "\t<tr>\n",
       "\t\t<td>9</td>\n",
       "\t\t<td>4.4</td>\n",
       "\t\t<td>2.9</td>\n",
       "\t\t<td>1.4</td>\n",
       "\t\t<td>0.2</td>\n",
       "\t\t<td>1</td>\n",
       "\t</tr>\n",
       "\t<tr>\n",
       "\t\t<td>10</td>\n",
       "\t\t<td>4.9</td>\n",
       "\t\t<td>3.1</td>\n",
       "\t\t<td>1.5</td>\n",
       "\t\t<td>0.1</td>\n",
       "\t\t<td>1</td>\n",
       "\t</tr>\n",
       "\t<tr>\n",
       "\t\t<td>8</td>\n",
       "\t\t<td>5.0</td>\n",
       "\t\t<td>3.4</td>\n",
       "\t\t<td>1.5</td>\n",
       "\t\t<td>0.2</td>\n",
       "\t\t<td>1</td>\n",
       "\t</tr>\n",
       "\t<tr>\n",
       "\t\t<td>4</td>\n",
       "\t\t<td>4.6</td>\n",
       "\t\t<td>3.1</td>\n",
       "\t\t<td>1.5</td>\n",
       "\t\t<td>0.2</td>\n",
       "\t\t<td>1</td>\n",
       "\t</tr>\n",
       "\t<tr>\n",
       "\t\t<td>2</td>\n",
       "\t\t<td>4.9</td>\n",
       "\t\t<td>3.0</td>\n",
       "\t\t<td>1.4</td>\n",
       "\t\t<td>0.2</td>\n",
       "\t\t<td>1</td>\n",
       "\t</tr>\n",
       "\t<tr>\n",
       "\t\t<td>1</td>\n",
       "\t\t<td>5.1</td>\n",
       "\t\t<td>3.5</td>\n",
       "\t\t<td>1.4</td>\n",
       "\t\t<td>0.2</td>\n",
       "\t\t<td>1</td>\n",
       "\t</tr>\n",
       "</table></html>"
      ],
      "text/plain": [
       "    sepal_length  sepal_width  petal_length  petal_width  species\n",
       "id                                                               \n",
       "3            4.7          3.2           1.3          0.2        1\n",
       "5            5.0          3.6           1.4          0.2        1\n",
       "6            5.4          3.9           1.7          0.4        1\n",
       "7            4.6          3.4           1.4          0.3        1\n",
       "9            4.4          2.9           1.4          0.2        1\n",
       "10           4.9          3.1           1.5          0.1        1\n",
       "8            5.0          3.4           1.5          0.2        1\n",
       "4            4.6          3.1           1.5          0.2        1\n",
       "2            4.9          3.0           1.4          0.2        1\n",
       "1            5.1          3.5           1.4          0.2        1"
      ]
     },
     "execution_count": 7,
     "metadata": {},
     "output_type": "execute_result"
    }
   ],
   "source": [
    "# first 5 rows\n",
    "iris.head()"
   ]
  },
  {
   "cell_type": "code",
   "execution_count": 8,
   "id": "aa0d253d-40c8-4624-931e-52ea9fca84a4",
   "metadata": {},
   "outputs": [],
   "source": [
    "# Performing sampling to get 80% for trainning and 20% for testing\n",
    "iris_sample = iris.sample(frac = [0.8, 0.2])"
   ]
  },
  {
   "cell_type": "code",
   "execution_count": 9,
   "id": "4378f284-2040-4a6d-aabd-eea06ddbe15e",
   "metadata": {},
   "outputs": [
    {
     "data": {
      "text/html": [
       "<style type=\"text/css\">\n",
       "\ttable {border:ridge 5px;}\n",
       "\ttable td {border:inset 1px;}\n",
       "\ttable tr#HeaderRow {background-color:grey; color:white;}</style>\n",
       "<html><table>\n",
       "\t<tr id=\"HeaderRow\">\n",
       "\t\t<th>id</th>\n",
       "\t\t<th>sepal_length</th>\n",
       "\t\t<th>sepal_width</th>\n",
       "\t\t<th>petal_length</th>\n",
       "\t\t<th>petal_width</th>\n",
       "\t\t<th>species</th>\n",
       "\t\t<th>sampleid</th>\n",
       "\t</tr>\n",
       "\t<tr>\n",
       "\t\t<td>3</td>\n",
       "\t\t<td>4.7</td>\n",
       "\t\t<td>3.2</td>\n",
       "\t\t<td>1.3</td>\n",
       "\t\t<td>0.2</td>\n",
       "\t\t<td>1</td>\n",
       "\t\t<td>2</td>\n",
       "\t</tr>\n",
       "\t<tr>\n",
       "\t\t<td>5</td>\n",
       "\t\t<td>5.0</td>\n",
       "\t\t<td>3.6</td>\n",
       "\t\t<td>1.4</td>\n",
       "\t\t<td>0.2</td>\n",
       "\t\t<td>1</td>\n",
       "\t\t<td>1</td>\n",
       "\t</tr>\n",
       "\t<tr>\n",
       "\t\t<td>6</td>\n",
       "\t\t<td>5.4</td>\n",
       "\t\t<td>3.9</td>\n",
       "\t\t<td>1.7</td>\n",
       "\t\t<td>0.4</td>\n",
       "\t\t<td>1</td>\n",
       "\t\t<td>1</td>\n",
       "\t</tr>\n",
       "\t<tr>\n",
       "\t\t<td>7</td>\n",
       "\t\t<td>4.6</td>\n",
       "\t\t<td>3.4</td>\n",
       "\t\t<td>1.4</td>\n",
       "\t\t<td>0.3</td>\n",
       "\t\t<td>1</td>\n",
       "\t\t<td>1</td>\n",
       "\t</tr>\n",
       "\t<tr>\n",
       "\t\t<td>9</td>\n",
       "\t\t<td>4.4</td>\n",
       "\t\t<td>2.9</td>\n",
       "\t\t<td>1.4</td>\n",
       "\t\t<td>0.2</td>\n",
       "\t\t<td>1</td>\n",
       "\t\t<td>1</td>\n",
       "\t</tr>\n",
       "\t<tr>\n",
       "\t\t<td>10</td>\n",
       "\t\t<td>4.9</td>\n",
       "\t\t<td>3.1</td>\n",
       "\t\t<td>1.5</td>\n",
       "\t\t<td>0.1</td>\n",
       "\t\t<td>1</td>\n",
       "\t\t<td>2</td>\n",
       "\t</tr>\n",
       "\t<tr>\n",
       "\t\t<td>8</td>\n",
       "\t\t<td>5.0</td>\n",
       "\t\t<td>3.4</td>\n",
       "\t\t<td>1.5</td>\n",
       "\t\t<td>0.2</td>\n",
       "\t\t<td>1</td>\n",
       "\t\t<td>2</td>\n",
       "\t</tr>\n",
       "\t<tr>\n",
       "\t\t<td>4</td>\n",
       "\t\t<td>4.6</td>\n",
       "\t\t<td>3.1</td>\n",
       "\t\t<td>1.5</td>\n",
       "\t\t<td>0.2</td>\n",
       "\t\t<td>1</td>\n",
       "\t\t<td>1</td>\n",
       "\t</tr>\n",
       "\t<tr>\n",
       "\t\t<td>2</td>\n",
       "\t\t<td>4.9</td>\n",
       "\t\t<td>3.0</td>\n",
       "\t\t<td>1.4</td>\n",
       "\t\t<td>0.2</td>\n",
       "\t\t<td>1</td>\n",
       "\t\t<td>1</td>\n",
       "\t</tr>\n",
       "\t<tr>\n",
       "\t\t<td>1</td>\n",
       "\t\t<td>5.1</td>\n",
       "\t\t<td>3.5</td>\n",
       "\t\t<td>1.4</td>\n",
       "\t\t<td>0.2</td>\n",
       "\t\t<td>1</td>\n",
       "\t\t<td>1</td>\n",
       "\t</tr>\n",
       "</table></html>"
      ],
      "text/plain": [
       "    sepal_length  sepal_width  petal_length  petal_width  species  sampleid\n",
       "id                                                                         \n",
       "3            4.7          3.2           1.3          0.2        1         2\n",
       "5            5.0          3.6           1.4          0.2        1         1\n",
       "6            5.4          3.9           1.7          0.4        1         1\n",
       "7            4.6          3.4           1.4          0.3        1         1\n",
       "9            4.4          2.9           1.4          0.2        1         1\n",
       "10           4.9          3.1           1.5          0.1        1         2\n",
       "8            5.0          3.4           1.5          0.2        1         2\n",
       "4            4.6          3.1           1.5          0.2        1         1\n",
       "2            4.9          3.0           1.4          0.2        1         1\n",
       "1            5.1          3.5           1.4          0.2        1         1"
      ]
     },
     "execution_count": 9,
     "metadata": {},
     "output_type": "execute_result"
    }
   ],
   "source": [
    "iris_sample.head()"
   ]
  },
  {
   "cell_type": "code",
   "execution_count": 10,
   "id": "8f3c86b7-3bb3-4a2c-8851-e7617ed4f1fe",
   "metadata": {},
   "outputs": [],
   "source": [
    "# Fetching train and test data\n",
    "iris_train= iris_sample[iris_sample['sampleid'] == 1].drop('sampleid', axis=1)\n",
    "iris_test = iris_sample[iris_sample['sampleid'] == 2].drop('sampleid', axis=1)"
   ]
  },
  {
   "cell_type": "code",
   "execution_count": 11,
   "id": "83d72a72-3fac-4862-b374-d21ab59be1a6",
   "metadata": {},
   "outputs": [
    {
     "data": {
      "text/plain": [
       "(120, 6)"
      ]
     },
     "execution_count": 11,
     "metadata": {},
     "output_type": "execute_result"
    }
   ],
   "source": [
    "# train data shape\n",
    "iris_train.shape"
   ]
  },
  {
   "cell_type": "code",
   "execution_count": 12,
   "id": "b22be730-8a7a-40f3-8e2a-cabd8d1f427f",
   "metadata": {},
   "outputs": [
    {
     "data": {
      "text/plain": [
       "(30, 6)"
      ]
     },
     "execution_count": 12,
     "metadata": {},
     "output_type": "execute_result"
    }
   ],
   "source": [
    "# test data shape\n",
    "iris_test.shape"
   ]
  },
  {
   "cell_type": "code",
   "execution_count": 13,
   "id": "18473df2-be15-4e1e-bc5e-739abacf8b89",
   "metadata": {},
   "outputs": [
    {
     "data": {
      "text/html": [
       "<style type=\"text/css\">\n",
       "\ttable {border:ridge 5px;}\n",
       "\ttable td {border:inset 1px;}\n",
       "\ttable tr#HeaderRow {background-color:grey; color:white;}</style>\n",
       "<html><table>\n",
       "\t<tr id=\"HeaderRow\">\n",
       "\t\t<th>id</th>\n",
       "\t\t<th>sepal_length</th>\n",
       "\t\t<th>sepal_width</th>\n",
       "\t\t<th>petal_length</th>\n",
       "\t\t<th>petal_width</th>\n",
       "\t\t<th>species</th>\n",
       "\t</tr>\n",
       "\t<tr>\n",
       "\t\t<td>4</td>\n",
       "\t\t<td>4.6</td>\n",
       "\t\t<td>3.1</td>\n",
       "\t\t<td>1.5</td>\n",
       "\t\t<td>0.2</td>\n",
       "\t\t<td>1</td>\n",
       "\t</tr>\n",
       "\t<tr>\n",
       "\t\t<td>6</td>\n",
       "\t\t<td>5.4</td>\n",
       "\t\t<td>3.9</td>\n",
       "\t\t<td>1.7</td>\n",
       "\t\t<td>0.4</td>\n",
       "\t\t<td>1</td>\n",
       "\t</tr>\n",
       "\t<tr>\n",
       "\t\t<td>7</td>\n",
       "\t\t<td>4.6</td>\n",
       "\t\t<td>3.4</td>\n",
       "\t\t<td>1.4</td>\n",
       "\t\t<td>0.3</td>\n",
       "\t\t<td>1</td>\n",
       "\t</tr>\n",
       "\t<tr>\n",
       "\t\t<td>9</td>\n",
       "\t\t<td>4.4</td>\n",
       "\t\t<td>2.9</td>\n",
       "\t\t<td>1.4</td>\n",
       "\t\t<td>0.2</td>\n",
       "\t\t<td>1</td>\n",
       "\t</tr>\n",
       "\t<tr>\n",
       "\t\t<td>12</td>\n",
       "\t\t<td>4.8</td>\n",
       "\t\t<td>3.4</td>\n",
       "\t\t<td>1.6</td>\n",
       "\t\t<td>0.2</td>\n",
       "\t\t<td>1</td>\n",
       "\t</tr>\n",
       "\t<tr>\n",
       "\t\t<td>13</td>\n",
       "\t\t<td>4.8</td>\n",
       "\t\t<td>3.0</td>\n",
       "\t\t<td>1.4</td>\n",
       "\t\t<td>0.1</td>\n",
       "\t\t<td>1</td>\n",
       "\t</tr>\n",
       "\t<tr>\n",
       "\t\t<td>11</td>\n",
       "\t\t<td>5.4</td>\n",
       "\t\t<td>3.7</td>\n",
       "\t\t<td>1.5</td>\n",
       "\t\t<td>0.2</td>\n",
       "\t\t<td>1</td>\n",
       "\t</tr>\n",
       "\t<tr>\n",
       "\t\t<td>5</td>\n",
       "\t\t<td>5.0</td>\n",
       "\t\t<td>3.6</td>\n",
       "\t\t<td>1.4</td>\n",
       "\t\t<td>0.2</td>\n",
       "\t\t<td>1</td>\n",
       "\t</tr>\n",
       "\t<tr>\n",
       "\t\t<td>2</td>\n",
       "\t\t<td>4.9</td>\n",
       "\t\t<td>3.0</td>\n",
       "\t\t<td>1.4</td>\n",
       "\t\t<td>0.2</td>\n",
       "\t\t<td>1</td>\n",
       "\t</tr>\n",
       "\t<tr>\n",
       "\t\t<td>1</td>\n",
       "\t\t<td>5.1</td>\n",
       "\t\t<td>3.5</td>\n",
       "\t\t<td>1.4</td>\n",
       "\t\t<td>0.2</td>\n",
       "\t\t<td>1</td>\n",
       "\t</tr>\n",
       "</table></html>"
      ],
      "text/plain": [
       "    sepal_length  sepal_width  petal_length  petal_width  species\n",
       "id                                                               \n",
       "4            4.6          3.1           1.5          0.2        1\n",
       "6            5.4          3.9           1.7          0.4        1\n",
       "7            4.6          3.4           1.4          0.3        1\n",
       "9            4.4          2.9           1.4          0.2        1\n",
       "12           4.8          3.4           1.6          0.2        1\n",
       "13           4.8          3.0           1.4          0.1        1\n",
       "11           5.4          3.7           1.5          0.2        1\n",
       "5            5.0          3.6           1.4          0.2        1\n",
       "2            4.9          3.0           1.4          0.2        1\n",
       "1            5.1          3.5           1.4          0.2        1"
      ]
     },
     "execution_count": 13,
     "metadata": {},
     "output_type": "execute_result"
    }
   ],
   "source": [
    "#train dataset\n",
    "iris_train.head()"
   ]
  },
  {
   "cell_type": "code",
   "execution_count": 14,
   "id": "58c9d763-4f19-449e-a35b-676d4d026acc",
   "metadata": {},
   "outputs": [
    {
     "data": {
      "text/html": [
       "<style type=\"text/css\">\n",
       "\ttable {border:ridge 5px;}\n",
       "\ttable td {border:inset 1px;}\n",
       "\ttable tr#HeaderRow {background-color:grey; color:white;}</style>\n",
       "<html><table>\n",
       "\t<tr id=\"HeaderRow\">\n",
       "\t\t<th>id</th>\n",
       "\t\t<th>sepal_length</th>\n",
       "\t\t<th>sepal_width</th>\n",
       "\t\t<th>petal_length</th>\n",
       "\t\t<th>petal_width</th>\n",
       "\t\t<th>species</th>\n",
       "\t</tr>\n",
       "\t<tr>\n",
       "\t\t<td>10</td>\n",
       "\t\t<td>4.9</td>\n",
       "\t\t<td>3.1</td>\n",
       "\t\t<td>1.5</td>\n",
       "\t\t<td>0.1</td>\n",
       "\t\t<td>1</td>\n",
       "\t</tr>\n",
       "\t<tr>\n",
       "\t\t<td>21</td>\n",
       "\t\t<td>5.4</td>\n",
       "\t\t<td>3.4</td>\n",
       "\t\t<td>1.7</td>\n",
       "\t\t<td>0.2</td>\n",
       "\t\t<td>1</td>\n",
       "\t</tr>\n",
       "\t<tr>\n",
       "\t\t<td>25</td>\n",
       "\t\t<td>4.8</td>\n",
       "\t\t<td>3.4</td>\n",
       "\t\t<td>1.9</td>\n",
       "\t\t<td>0.2</td>\n",
       "\t\t<td>1</td>\n",
       "\t</tr>\n",
       "\t<tr>\n",
       "\t\t<td>32</td>\n",
       "\t\t<td>5.4</td>\n",
       "\t\t<td>3.4</td>\n",
       "\t\t<td>1.5</td>\n",
       "\t\t<td>0.4</td>\n",
       "\t\t<td>1</td>\n",
       "\t</tr>\n",
       "\t<tr>\n",
       "\t\t<td>41</td>\n",
       "\t\t<td>5.0</td>\n",
       "\t\t<td>3.5</td>\n",
       "\t\t<td>1.3</td>\n",
       "\t\t<td>0.3</td>\n",
       "\t\t<td>1</td>\n",
       "\t</tr>\n",
       "\t<tr>\n",
       "\t\t<td>44</td>\n",
       "\t\t<td>5.0</td>\n",
       "\t\t<td>3.5</td>\n",
       "\t\t<td>1.6</td>\n",
       "\t\t<td>0.6</td>\n",
       "\t\t<td>1</td>\n",
       "\t</tr>\n",
       "\t<tr>\n",
       "\t\t<td>38</td>\n",
       "\t\t<td>4.9</td>\n",
       "\t\t<td>3.6</td>\n",
       "\t\t<td>1.4</td>\n",
       "\t\t<td>0.1</td>\n",
       "\t\t<td>1</td>\n",
       "\t</tr>\n",
       "\t<tr>\n",
       "\t\t<td>19</td>\n",
       "\t\t<td>5.7</td>\n",
       "\t\t<td>3.8</td>\n",
       "\t\t<td>1.7</td>\n",
       "\t\t<td>0.3</td>\n",
       "\t\t<td>1</td>\n",
       "\t</tr>\n",
       "\t<tr>\n",
       "\t\t<td>8</td>\n",
       "\t\t<td>5.0</td>\n",
       "\t\t<td>3.4</td>\n",
       "\t\t<td>1.5</td>\n",
       "\t\t<td>0.2</td>\n",
       "\t\t<td>1</td>\n",
       "\t</tr>\n",
       "\t<tr>\n",
       "\t\t<td>3</td>\n",
       "\t\t<td>4.7</td>\n",
       "\t\t<td>3.2</td>\n",
       "\t\t<td>1.3</td>\n",
       "\t\t<td>0.2</td>\n",
       "\t\t<td>1</td>\n",
       "\t</tr>\n",
       "</table></html>"
      ],
      "text/plain": [
       "    sepal_length  sepal_width  petal_length  petal_width  species\n",
       "id                                                               \n",
       "10           4.9          3.1           1.5          0.1        1\n",
       "21           5.4          3.4           1.7          0.2        1\n",
       "25           4.8          3.4           1.9          0.2        1\n",
       "32           5.4          3.4           1.5          0.4        1\n",
       "41           5.0          3.5           1.3          0.3        1\n",
       "44           5.0          3.5           1.6          0.6        1\n",
       "38           4.9          3.6           1.4          0.1        1\n",
       "19           5.7          3.8           1.7          0.3        1\n",
       "8            5.0          3.4           1.5          0.2        1\n",
       "3            4.7          3.2           1.3          0.2        1"
      ]
     },
     "execution_count": 14,
     "metadata": {},
     "output_type": "execute_result"
    }
   ],
   "source": [
    "# test dataset\n",
    "iris_test.head()"
   ]
  },
  {
   "cell_type": "code",
   "execution_count": 15,
   "id": "9fc5973c-1b94-4ba6-95f1-04b33b382bb8",
   "metadata": {},
   "outputs": [
    {
     "data": {
      "text/html": [
       "<style type=\"text/css\">\n",
       "\ttable {border:ridge 5px;}\n",
       "\ttable td {border:inset 1px;}\n",
       "\ttable tr#HeaderRow {background-color:grey; color:white;}</style>\n",
       "<html><table>\n",
       "\t<tr id=\"HeaderRow\">\n",
       "\t\t<th>id</th>\n",
       "\t\t<th>sepal_length</th>\n",
       "\t\t<th>sepal_width</th>\n",
       "\t\t<th>petal_length</th>\n",
       "\t\t<th>petal_width</th>\n",
       "\t\t<th>species</th>\n",
       "\t</tr>\n",
       "\t<tr>\n",
       "\t\t<td>10</td>\n",
       "\t\t<td>4.9</td>\n",
       "\t\t<td>3.1</td>\n",
       "\t\t<td>1.5</td>\n",
       "\t\t<td>0.1</td>\n",
       "\t\t<td>1</td>\n",
       "\t</tr>\n",
       "\t<tr>\n",
       "\t\t<td>21</td>\n",
       "\t\t<td>5.4</td>\n",
       "\t\t<td>3.4</td>\n",
       "\t\t<td>1.7</td>\n",
       "\t\t<td>0.2</td>\n",
       "\t\t<td>1</td>\n",
       "\t</tr>\n",
       "\t<tr>\n",
       "\t\t<td>25</td>\n",
       "\t\t<td>4.8</td>\n",
       "\t\t<td>3.4</td>\n",
       "\t\t<td>1.9</td>\n",
       "\t\t<td>0.2</td>\n",
       "\t\t<td>1</td>\n",
       "\t</tr>\n",
       "\t<tr>\n",
       "\t\t<td>32</td>\n",
       "\t\t<td>5.4</td>\n",
       "\t\t<td>3.4</td>\n",
       "\t\t<td>1.5</td>\n",
       "\t\t<td>0.4</td>\n",
       "\t\t<td>1</td>\n",
       "\t</tr>\n",
       "\t<tr>\n",
       "\t\t<td>41</td>\n",
       "\t\t<td>5.0</td>\n",
       "\t\t<td>3.5</td>\n",
       "\t\t<td>1.3</td>\n",
       "\t\t<td>0.3</td>\n",
       "\t\t<td>1</td>\n",
       "\t</tr>\n",
       "\t<tr>\n",
       "\t\t<td>44</td>\n",
       "\t\t<td>5.0</td>\n",
       "\t\t<td>3.5</td>\n",
       "\t\t<td>1.6</td>\n",
       "\t\t<td>0.6</td>\n",
       "\t\t<td>1</td>\n",
       "\t</tr>\n",
       "\t<tr>\n",
       "\t\t<td>47</td>\n",
       "\t\t<td>5.1</td>\n",
       "\t\t<td>3.8</td>\n",
       "\t\t<td>1.6</td>\n",
       "\t\t<td>0.2</td>\n",
       "\t\t<td>1</td>\n",
       "\t</tr>\n",
       "\t<tr>\n",
       "\t\t<td>54</td>\n",
       "\t\t<td>5.5</td>\n",
       "\t\t<td>2.3</td>\n",
       "\t\t<td>4.0</td>\n",
       "\t\t<td>1.3</td>\n",
       "\t\t<td>2</td>\n",
       "\t</tr>\n",
       "\t<tr>\n",
       "\t\t<td>57</td>\n",
       "\t\t<td>6.3</td>\n",
       "\t\t<td>3.3</td>\n",
       "\t\t<td>4.7</td>\n",
       "\t\t<td>1.6</td>\n",
       "\t\t<td>2</td>\n",
       "\t</tr>\n",
       "\t<tr>\n",
       "\t\t<td>64</td>\n",
       "\t\t<td>6.1</td>\n",
       "\t\t<td>2.9</td>\n",
       "\t\t<td>4.7</td>\n",
       "\t\t<td>1.4</td>\n",
       "\t\t<td>2</td>\n",
       "\t</tr>\n",
       "\t<tr>\n",
       "\t\t<td>66</td>\n",
       "\t\t<td>6.7</td>\n",
       "\t\t<td>3.1</td>\n",
       "\t\t<td>4.4</td>\n",
       "\t\t<td>1.4</td>\n",
       "\t\t<td>2</td>\n",
       "\t</tr>\n",
       "\t<tr>\n",
       "\t\t<td>71</td>\n",
       "\t\t<td>5.9</td>\n",
       "\t\t<td>3.2</td>\n",
       "\t\t<td>4.8</td>\n",
       "\t\t<td>1.8</td>\n",
       "\t\t<td>2</td>\n",
       "\t</tr>\n",
       "\t<tr>\n",
       "\t\t<td>75</td>\n",
       "\t\t<td>6.4</td>\n",
       "\t\t<td>2.9</td>\n",
       "\t\t<td>4.3</td>\n",
       "\t\t<td>1.3</td>\n",
       "\t\t<td>2</td>\n",
       "\t</tr>\n",
       "\t<tr>\n",
       "\t\t<td>78</td>\n",
       "\t\t<td>6.7</td>\n",
       "\t\t<td>3.0</td>\n",
       "\t\t<td>5.0</td>\n",
       "\t\t<td>1.7</td>\n",
       "\t\t<td>2</td>\n",
       "\t</tr>\n",
       "\t<tr>\n",
       "\t\t<td>89</td>\n",
       "\t\t<td>5.6</td>\n",
       "\t\t<td>3.0</td>\n",
       "\t\t<td>4.1</td>\n",
       "\t\t<td>1.3</td>\n",
       "\t\t<td>2</td>\n",
       "\t</tr>\n",
       "\t<tr>\n",
       "\t\t<td>92</td>\n",
       "\t\t<td>6.1</td>\n",
       "\t\t<td>3.0</td>\n",
       "\t\t<td>4.6</td>\n",
       "\t\t<td>1.4</td>\n",
       "\t\t<td>2</td>\n",
       "\t</tr>\n",
       "\t<tr>\n",
       "\t\t<td>93</td>\n",
       "\t\t<td>5.8</td>\n",
       "\t\t<td>2.6</td>\n",
       "\t\t<td>4.0</td>\n",
       "\t\t<td>1.2</td>\n",
       "\t\t<td>2</td>\n",
       "\t</tr>\n",
       "\t<tr>\n",
       "\t\t<td>94</td>\n",
       "\t\t<td>5.0</td>\n",
       "\t\t<td>2.3</td>\n",
       "\t\t<td>3.3</td>\n",
       "\t\t<td>1.0</td>\n",
       "\t\t<td>2</td>\n",
       "\t</tr>\n",
       "\t<tr>\n",
       "\t\t<td>95</td>\n",
       "\t\t<td>5.6</td>\n",
       "\t\t<td>2.7</td>\n",
       "\t\t<td>4.2</td>\n",
       "\t\t<td>1.3</td>\n",
       "\t\t<td>2</td>\n",
       "\t</tr>\n",
       "\t<tr>\n",
       "\t\t<td>105</td>\n",
       "\t\t<td>6.5</td>\n",
       "\t\t<td>3.0</td>\n",
       "\t\t<td>5.8</td>\n",
       "\t\t<td>2.2</td>\n",
       "\t\t<td>3</td>\n",
       "\t</tr>\n",
       "\t<tr>\n",
       "\t\t<td>110</td>\n",
       "\t\t<td>7.2</td>\n",
       "\t\t<td>3.6</td>\n",
       "\t\t<td>6.1</td>\n",
       "\t\t<td>2.5</td>\n",
       "\t\t<td>3</td>\n",
       "\t</tr>\n",
       "\t<tr>\n",
       "\t\t<td>124</td>\n",
       "\t\t<td>6.3</td>\n",
       "\t\t<td>2.7</td>\n",
       "\t\t<td>4.9</td>\n",
       "\t\t<td>1.8</td>\n",
       "\t\t<td>3</td>\n",
       "\t</tr>\n",
       "\t<tr>\n",
       "\t\t<td>126</td>\n",
       "\t\t<td>7.2</td>\n",
       "\t\t<td>3.2</td>\n",
       "\t\t<td>6.0</td>\n",
       "\t\t<td>1.8</td>\n",
       "\t\t<td>3</td>\n",
       "\t</tr>\n",
       "\t<tr>\n",
       "\t\t<td>139</td>\n",
       "\t\t<td>6.0</td>\n",
       "\t\t<td>3.0</td>\n",
       "\t\t<td>4.8</td>\n",
       "\t\t<td>1.8</td>\n",
       "\t\t<td>3</td>\n",
       "\t</tr>\n",
       "\t<tr>\n",
       "\t\t<td>143</td>\n",
       "\t\t<td>5.8</td>\n",
       "\t\t<td>2.7</td>\n",
       "\t\t<td>5.1</td>\n",
       "\t\t<td>1.9</td>\n",
       "\t\t<td>3</td>\n",
       "\t</tr>\n",
       "\t<tr>\n",
       "\t\t<td>70</td>\n",
       "\t\t<td>5.6</td>\n",
       "\t\t<td>2.5</td>\n",
       "\t\t<td>3.9</td>\n",
       "\t\t<td>1.1</td>\n",
       "\t\t<td>2</td>\n",
       "\t</tr>\n",
       "\t<tr>\n",
       "\t\t<td>38</td>\n",
       "\t\t<td>4.9</td>\n",
       "\t\t<td>3.6</td>\n",
       "\t\t<td>1.4</td>\n",
       "\t\t<td>0.1</td>\n",
       "\t\t<td>1</td>\n",
       "\t</tr>\n",
       "\t<tr>\n",
       "\t\t<td>19</td>\n",
       "\t\t<td>5.7</td>\n",
       "\t\t<td>3.8</td>\n",
       "\t\t<td>1.7</td>\n",
       "\t\t<td>0.3</td>\n",
       "\t\t<td>1</td>\n",
       "\t</tr>\n",
       "\t<tr>\n",
       "\t\t<td>8</td>\n",
       "\t\t<td>5.0</td>\n",
       "\t\t<td>3.4</td>\n",
       "\t\t<td>1.5</td>\n",
       "\t\t<td>0.2</td>\n",
       "\t\t<td>1</td>\n",
       "\t</tr>\n",
       "\t<tr>\n",
       "\t\t<td>3</td>\n",
       "\t\t<td>4.7</td>\n",
       "\t\t<td>3.2</td>\n",
       "\t\t<td>1.3</td>\n",
       "\t\t<td>0.2</td>\n",
       "\t\t<td>1</td>\n",
       "\t</tr>\n",
       "</table></html>"
      ],
      "text/plain": [
       "     sepal_length  sepal_width  petal_length  petal_width  species\n",
       "id                                                                \n",
       "10            4.9          3.1           1.5          0.1        1\n",
       "21            5.4          3.4           1.7          0.2        1\n",
       "25            4.8          3.4           1.9          0.2        1\n",
       "32            5.4          3.4           1.5          0.4        1\n",
       "41            5.0          3.5           1.3          0.3        1\n",
       "44            5.0          3.5           1.6          0.6        1\n",
       "47            5.1          3.8           1.6          0.2        1\n",
       "54            5.5          2.3           4.0          1.3        2\n",
       "57            6.3          3.3           4.7          1.6        2\n",
       "64            6.1          2.9           4.7          1.4        2\n",
       "66            6.7          3.1           4.4          1.4        2\n",
       "71            5.9          3.2           4.8          1.8        2\n",
       "75            6.4          2.9           4.3          1.3        2\n",
       "78            6.7          3.0           5.0          1.7        2\n",
       "89            5.6          3.0           4.1          1.3        2\n",
       "92            6.1          3.0           4.6          1.4        2\n",
       "93            5.8          2.6           4.0          1.2        2\n",
       "94            5.0          2.3           3.3          1.0        2\n",
       "95            5.6          2.7           4.2          1.3        2\n",
       "105           6.5          3.0           5.8          2.2        3\n",
       "110           7.2          3.6           6.1          2.5        3\n",
       "124           6.3          2.7           4.9          1.8        3\n",
       "126           7.2          3.2           6.0          1.8        3\n",
       "139           6.0          3.0           4.8          1.8        3\n",
       "143           5.8          2.7           5.1          1.9        3\n",
       "70            5.6          2.5           3.9          1.1        2\n",
       "38            4.9          3.6           1.4          0.1        1\n",
       "19            5.7          3.8           1.7          0.3        1\n",
       "8             5.0          3.4           1.5          0.2        1\n",
       "3             4.7          3.2           1.3          0.2        1"
      ]
     },
     "execution_count": 15,
     "metadata": {},
     "output_type": "execute_result"
    }
   ],
   "source": [
    "iris_test.head(30)"
   ]
  },
  {
   "cell_type": "code",
   "execution_count": 16,
   "id": "a374d186-c0be-406e-8d05-fa697cd4e3f4",
   "metadata": {
    "tags": []
   },
   "outputs": [
    {
     "name": "stdout",
     "output_type": "stream",
     "text": [
      "\n",
      "Generating custom config JSON for AutoML ...\n",
      "\n",
      "Available main options for customization with corresponding indices: \n",
      "--------------------------------------------------------------------------------\n",
      "\n",
      "Index 1: Customize Feature Engineering Phase\n",
      "\n",
      "Index 2: Customize Data Preparation Phase\n",
      "\n",
      "Index 3: Customize Model Training Phase\n",
      "\n",
      "Index 4: Generate custom json and exit\n",
      "--------------------------------------------------------------------------------\n"
     ]
    },
    {
     "name": "stdout",
     "output_type": "stream",
     "text": [
      "\n",
      "Enter the index you want to customize:  2\n"
     ]
    },
    {
     "name": "stdout",
     "output_type": "stream",
     "text": [
      "\n",
      "Customizing Data Preparation Phase ...\n",
      "\n",
      "Available options for customization of data preparation phase with corresponding indices: \n",
      "--------------------------------------------------------------------------------\n",
      "\n",
      "Index 1: Customize Train Test Split\n",
      "\n",
      "Index 2: Customize Data Imbalance Handling\n",
      "\n",
      "Index 3: Customize Outlier Handling\n",
      "\n",
      "Index 4: Customize Feature Scaling\n",
      "\n",
      "Index 5: Back to main menu\n",
      "\n",
      "Index 6: Generate custom json and exit\n",
      "--------------------------------------------------------------------------------\n"
     ]
    },
    {
     "name": "stdout",
     "output_type": "stream",
     "text": [
      "\n",
      "Enter the list of indices you want to customize in data preparation phase:  1,2,4\n"
     ]
    },
    {
     "name": "stdout",
     "output_type": "stream",
     "text": [
      "\n",
      "Customizing Train Test Split ...\n"
     ]
    },
    {
     "name": "stdout",
     "output_type": "stream",
     "text": [
      "\n",
      "Enter the train size for train test split:  0.85\n"
     ]
    },
    {
     "name": "stdout",
     "output_type": "stream",
     "text": [
      "\n",
      "Customization of train test split has been completed successfully.\n",
      "\n",
      "Customizing Data Imbalance Handling ...\n",
      "\n",
      "Available data sampling methods with corresponding indices:\n",
      "Index 1: SMOTE\n",
      "Index 2: NearMiss\n"
     ]
    },
    {
     "name": "stdout",
     "output_type": "stream",
     "text": [
      "\n",
      "Enter the corresponding index data imbalance handling method:  1\n"
     ]
    },
    {
     "name": "stdout",
     "output_type": "stream",
     "text": [
      "\n",
      "Customization of data imbalance handling has been completed successfully.\n",
      "\n",
      "Available feature scaling methods with corresponding indices:\n",
      "Index 1: maxabs\n",
      "Index 2: mean\n",
      "Index 3: midrange\n",
      "Index 4: range\n",
      "Index 5: rescale\n",
      "Index 6: std\n",
      "Index 7: sum\n",
      "Index 8: ustd\n"
     ]
    },
    {
     "name": "stdout",
     "output_type": "stream",
     "text": [
      "\n",
      "Enter the corresponding index feature scaling method:  4\n"
     ]
    },
    {
     "name": "stdout",
     "output_type": "stream",
     "text": [
      "\n",
      "Customization of feature scaling has been completed successfully.\n",
      "\n",
      "Available options for customization of data preparation phase with corresponding indices: \n",
      "--------------------------------------------------------------------------------\n",
      "\n",
      "Index 1: Customize Train Test Split\n",
      "\n",
      "Index 2: Customize Data Imbalance Handling\n",
      "\n",
      "Index 3: Customize Outlier Handling\n",
      "\n",
      "Index 4: Customize Feature Scaling\n",
      "\n",
      "Index 5: Back to main menu\n",
      "\n",
      "Index 6: Generate custom json and exit\n",
      "--------------------------------------------------------------------------------\n"
     ]
    },
    {
     "name": "stdout",
     "output_type": "stream",
     "text": [
      "\n",
      "Enter the list of indices you want to customize in data preparation phase:  5\n"
     ]
    },
    {
     "name": "stdout",
     "output_type": "stream",
     "text": [
      "\n",
      "Customization of data preparation phase has been completed successfully.\n",
      "\n",
      "Available main options for customization with corresponding indices: \n",
      "--------------------------------------------------------------------------------\n",
      "\n",
      "Index 1: Customize Feature Engineering Phase\n",
      "\n",
      "Index 2: Customize Data Preparation Phase\n",
      "\n",
      "Index 3: Customize Model Training Phase\n",
      "\n",
      "Index 4: Generate custom json and exit\n",
      "--------------------------------------------------------------------------------\n"
     ]
    },
    {
     "name": "stdout",
     "output_type": "stream",
     "text": [
      "\n",
      "Enter the index you want to customize:  3\n"
     ]
    },
    {
     "name": "stdout",
     "output_type": "stream",
     "text": [
      "\n",
      "Customizing Model Training Phase ...\n",
      "\n",
      "Available options for customization of model training phase with corresponding indices: \n",
      "--------------------------------------------------------------------------------\n",
      "\n",
      "Index 1: Customize Model Hyperparameter\n",
      "\n",
      "Index 2: Back to main menu\n",
      "\n",
      "Index 3: Generate custom json and exit\n",
      "--------------------------------------------------------------------------------\n"
     ]
    },
    {
     "name": "stdout",
     "output_type": "stream",
     "text": [
      "\n",
      "Enter the list of indices you want to customize in model training phase:  1\n"
     ]
    },
    {
     "name": "stdout",
     "output_type": "stream",
     "text": [
      "\n",
      "Customizing Model Hyperparameter ...\n",
      "\n",
      "Available models for hyperparameter tuning with corresponding indices:\n",
      "Index 1: decision_forest\n",
      "Index 2: xgboost\n",
      "Index 3: knn\n",
      "Index 4: glm\n",
      "Index 5: svm\n",
      "\n",
      "Available hyperparamters update methods with corresponding indices:\n",
      "Index 1: ADD\n",
      "Index 2: REPLACE\n"
     ]
    },
    {
     "name": "stdout",
     "output_type": "stream",
     "text": [
      "\n",
      "Enter the list of model indices for performing hyperparameter tuning:  2\n"
     ]
    },
    {
     "name": "stdout",
     "output_type": "stream",
     "text": [
      "\n",
      "Available hyperparameters for model 'xgboost' with corresponding indices:\n",
      "Index 1: min_impurity\n",
      "Index 2: max_depth\n",
      "Index 3: min_node_size\n",
      "Index 4: shrinkage_factor\n",
      "Index 5: iter_num\n"
     ]
    },
    {
     "name": "stdout",
     "output_type": "stream",
     "text": [
      "\n",
      "Enter the list of hyperparameter indices for model 'xgboost':  2\n",
      "\n",
      "Enter the index of corresponding update method for hyperparameters 'max_depth' for model 'xgboost':  1\n",
      "\n",
      "Enter the list of value for hyperparameter 'max_depth' for model 'xgboost':  3,4\n"
     ]
    },
    {
     "name": "stdout",
     "output_type": "stream",
     "text": [
      "\n",
      "Customization of model hyperparameter has been completed successfully.\n",
      "\n",
      "Available options for customization of model training phase with corresponding indices: \n",
      "--------------------------------------------------------------------------------\n",
      "\n",
      "Index 1: Customize Model Hyperparameter\n",
      "\n",
      "Index 2: Back to main menu\n",
      "\n",
      "Index 3: Generate custom json and exit\n",
      "--------------------------------------------------------------------------------\n"
     ]
    },
    {
     "name": "stdout",
     "output_type": "stream",
     "text": [
      "\n",
      "Enter the list of indices you want to customize in model training phase:  3\n"
     ]
    },
    {
     "name": "stdout",
     "output_type": "stream",
     "text": [
      "\n",
      "Customization of model training phase has been completed successfully.\n",
      "\n",
      "Process of generating custom config file for AutoML has been completed successfully.\n",
      "\n",
      "'custom_iris.json' file is generated successfully under the current working directory.\n"
     ]
    }
   ],
   "source": [
    "AutoClassifier.generate_custom_config(\"custom_iris\")"
   ]
  },
  {
   "cell_type": "markdown",
   "id": "856ea871-93d8-4ea2-b524-1acb23bd7eb5",
   "metadata": {},
   "source": [
    "## <b><span style='color:#F1A424'>| 2.</span> Fitting AutoML </b>"
   ]
  },
  {
   "cell_type": "code",
   "execution_count": 17,
   "id": "f3650aa5-a408-4227-a88d-79c0f3d36d3c",
   "metadata": {},
   "outputs": [],
   "source": [
    "# Creating AutoClassifier instance\n",
    "# Including xgboost model from default model list for training.\n",
    "# Using early stopping timer criteria with value 300 sec.\n",
    "# Passing custom json file to provide customized value for AutoML.\n",
    "\n",
    "aml = AutoClassifier(include=['xgboost'],\n",
    "                     verbose=2,\n",
    "                     max_runtime_secs=300,\n",
    "                     custom_config_file='custom_iris.json')"
   ]
  },
  {
   "cell_type": "code",
   "execution_count": 18,
   "id": "a1b7a771-1bfa-40c9-8ad0-c377d320c137",
   "metadata": {},
   "outputs": [
    {
     "name": "stdout",
     "output_type": "stream",
     "text": [
      "\n",
      " Received below input for customization : \n",
      "{\n",
      "    \"TrainTestSplitIndicator\": true,\n",
      "    \"TrainingSize\": 0.85,\n",
      "    \"DataImbalanceIndicator\": true,\n",
      "    \"DataImbalanceMethod\": \"SMOTE\",\n",
      "    \"FeatureScalingIndicator\": true,\n",
      "    \"FeatureScalingMethod\": \"range\",\n",
      "    \"HyperparameterTuningIndicator\": true,\n",
      "    \"HyperparameterTuningParam\": {\n",
      "        \"xgboost\": {\n",
      "            \"max_depth\": {\n",
      "                \"Method\": \"ADD\",\n",
      "                \"Value\": [\n",
      "                    3,\n",
      "                    4\n",
      "                ]\n",
      "            }\n",
      "        }\n",
      "    }\n",
      "}\n"
     ]
    },
    {
     "data": {
      "text/html": [
       "\n",
       "            <style>\n",
       "                .custom-div {\n",
       "                    background-color: lightgray;\n",
       "                    color: #000000;\n",
       "                    padding: 10px;\n",
       "                    border-radius: 8px;\n",
       "                    box-shadow: 0 3px 4px rgba(0, 0, 0, 0.2);\n",
       "                    margin-bottom: 10px;\n",
       "                    text-align: center;\n",
       "                }\n",
       "            </style>\n",
       "        <br><div class=\"custom-div\"><h3><span style=\"color: green;\"></span>1. Feature Exploration -> 2. Feature Engineering -> 3. Data Preparation -> 4. Model Training & Evaluation<center></h3></center></div>"
      ],
      "text/plain": [
       "<IPython.core.display.HTML object>"
      ]
     },
     "metadata": {},
     "output_type": "display_data"
    },
    {
     "name": "stdout",
     "output_type": "stream",
     "text": [
      "Feature Exploration started ...\n",
      "\n",
      "Data Overview:\n",
      "Total Rows in the data: 120\n",
      "Total Columns in the data: 6\n",
      "\n",
      "Column Summary:\n"
     ]
    },
    {
     "data": {
      "text/html": [
       "<style type=\"text/css\">\n",
       "\ttable {border:ridge 5px;}\n",
       "\ttable td {border:inset 1px;}\n",
       "\ttable tr#HeaderRow {background-color:grey; color:white;}</style>\n",
       "<html><table>\n",
       "\t<tr id=\"HeaderRow\">\n",
       "\t\t<th>ColumnName</th>\n",
       "\t\t<th>Datatype</th>\n",
       "\t\t<th>NonNullCount</th>\n",
       "\t\t<th>NullCount</th>\n",
       "\t\t<th>BlankCount</th>\n",
       "\t\t<th>ZeroCount</th>\n",
       "\t\t<th>PositiveCount</th>\n",
       "\t\t<th>NegativeCount</th>\n",
       "\t\t<th>NullPercentage</th>\n",
       "\t\t<th>NonNullPercentage</th>\n",
       "\t</tr>\n",
       "\t<tr>\n",
       "\t\t<td>species</td>\n",
       "\t\t<td>INTEGER</td>\n",
       "\t\t<td>120</td>\n",
       "\t\t<td>0</td>\n",
       "\t\t<td>None</td>\n",
       "\t\t<td>0</td>\n",
       "\t\t<td>120</td>\n",
       "\t\t<td>0</td>\n",
       "\t\t<td>0.0</td>\n",
       "\t\t<td>100.0</td>\n",
       "\t</tr>\n",
       "\t<tr>\n",
       "\t\t<td>sepal_width</td>\n",
       "\t\t<td>FLOAT</td>\n",
       "\t\t<td>120</td>\n",
       "\t\t<td>0</td>\n",
       "\t\t<td>None</td>\n",
       "\t\t<td>0</td>\n",
       "\t\t<td>120</td>\n",
       "\t\t<td>0</td>\n",
       "\t\t<td>0.0</td>\n",
       "\t\t<td>100.0</td>\n",
       "\t</tr>\n",
       "\t<tr>\n",
       "\t\t<td>petal_length</td>\n",
       "\t\t<td>FLOAT</td>\n",
       "\t\t<td>120</td>\n",
       "\t\t<td>0</td>\n",
       "\t\t<td>None</td>\n",
       "\t\t<td>0</td>\n",
       "\t\t<td>120</td>\n",
       "\t\t<td>0</td>\n",
       "\t\t<td>0.0</td>\n",
       "\t\t<td>100.0</td>\n",
       "\t</tr>\n",
       "\t<tr>\n",
       "\t\t<td>id</td>\n",
       "\t\t<td>INTEGER</td>\n",
       "\t\t<td>120</td>\n",
       "\t\t<td>0</td>\n",
       "\t\t<td>None</td>\n",
       "\t\t<td>0</td>\n",
       "\t\t<td>120</td>\n",
       "\t\t<td>0</td>\n",
       "\t\t<td>0.0</td>\n",
       "\t\t<td>100.0</td>\n",
       "\t</tr>\n",
       "\t<tr>\n",
       "\t\t<td>petal_width</td>\n",
       "\t\t<td>FLOAT</td>\n",
       "\t\t<td>120</td>\n",
       "\t\t<td>0</td>\n",
       "\t\t<td>None</td>\n",
       "\t\t<td>0</td>\n",
       "\t\t<td>120</td>\n",
       "\t\t<td>0</td>\n",
       "\t\t<td>0.0</td>\n",
       "\t\t<td>100.0</td>\n",
       "\t</tr>\n",
       "\t<tr>\n",
       "\t\t<td>sepal_length</td>\n",
       "\t\t<td>FLOAT</td>\n",
       "\t\t<td>120</td>\n",
       "\t\t<td>0</td>\n",
       "\t\t<td>None</td>\n",
       "\t\t<td>0</td>\n",
       "\t\t<td>120</td>\n",
       "\t\t<td>0</td>\n",
       "\t\t<td>0.0</td>\n",
       "\t\t<td>100.0</td>\n",
       "\t</tr>\n",
       "</table></html>"
      ],
      "text/plain": [
       "             Datatype  NonNullCount  NullCount BlankCount  ZeroCount  PositiveCount  NegativeCount  NullPercentage  NonNullPercentage\n",
       "ColumnName                                                                                                                           \n",
       "species       INTEGER           120          0       None          0            120              0             0.0              100.0\n",
       "sepal_width     FLOAT           120          0       None          0            120              0             0.0              100.0\n",
       "petal_length    FLOAT           120          0       None          0            120              0             0.0              100.0\n",
       "id            INTEGER           120          0       None          0            120              0             0.0              100.0\n",
       "petal_width     FLOAT           120          0       None          0            120              0             0.0              100.0\n",
       "sepal_length    FLOAT           120          0       None          0            120              0             0.0              100.0"
      ]
     },
     "metadata": {},
     "output_type": "display_data"
    },
    {
     "name": "stdout",
     "output_type": "stream",
     "text": [
      "\n",
      "Statistics of Data:\n"
     ]
    },
    {
     "data": {
      "text/html": [
       "<style type=\"text/css\">\n",
       "\ttable {border:ridge 5px;}\n",
       "\ttable td {border:inset 1px;}\n",
       "\ttable tr#HeaderRow {background-color:grey; color:white;}</style>\n",
       "<html><table>\n",
       "\t<tr id=\"HeaderRow\">\n",
       "\t\t<th>func</th>\n",
       "\t\t<th>id</th>\n",
       "\t\t<th>sepal_length</th>\n",
       "\t\t<th>sepal_width</th>\n",
       "\t\t<th>petal_length</th>\n",
       "\t\t<th>petal_width</th>\n",
       "\t\t<th>species</th>\n",
       "\t</tr>\n",
       "\t<tr>\n",
       "\t\t<td>std</td>\n",
       "\t\t<td>44.302</td>\n",
       "\t\t<td>0.857</td>\n",
       "\t\t<td>0.444</td>\n",
       "\t\t<td>1.797</td>\n",
       "\t\t<td>0.774</td>\n",
       "\t\t<td>0.834</td>\n",
       "\t</tr>\n",
       "\t<tr>\n",
       "\t\t<td>25%</td>\n",
       "\t\t<td>38.5</td>\n",
       "\t\t<td>5.1</td>\n",
       "\t\t<td>2.8</td>\n",
       "\t\t<td>1.5</td>\n",
       "\t\t<td>0.3</td>\n",
       "\t\t<td>1</td>\n",
       "\t</tr>\n",
       "\t<tr>\n",
       "\t\t<td>50%</td>\n",
       "\t\t<td>79.5</td>\n",
       "\t\t<td>5.8</td>\n",
       "\t\t<td>3</td>\n",
       "\t\t<td>4.45</td>\n",
       "\t\t<td>1.35</td>\n",
       "\t\t<td>2</td>\n",
       "\t</tr>\n",
       "\t<tr>\n",
       "\t\t<td>75%</td>\n",
       "\t\t<td>116.25</td>\n",
       "\t\t<td>6.425</td>\n",
       "\t\t<td>3.3</td>\n",
       "\t\t<td>5.2</td>\n",
       "\t\t<td>1.9</td>\n",
       "\t\t<td>3</td>\n",
       "\t</tr>\n",
       "\t<tr>\n",
       "\t\t<td>max</td>\n",
       "\t\t<td>150</td>\n",
       "\t\t<td>7.9</td>\n",
       "\t\t<td>4.4</td>\n",
       "\t\t<td>6.9</td>\n",
       "\t\t<td>2.5</td>\n",
       "\t\t<td>3</td>\n",
       "\t</tr>\n",
       "\t<tr>\n",
       "\t\t<td>min</td>\n",
       "\t\t<td>1</td>\n",
       "\t\t<td>4.3</td>\n",
       "\t\t<td>2</td>\n",
       "\t\t<td>1</td>\n",
       "\t\t<td>0.1</td>\n",
       "\t\t<td>1</td>\n",
       "\t</tr>\n",
       "\t<tr>\n",
       "\t\t<td>mean</td>\n",
       "\t\t<td>77.433</td>\n",
       "\t\t<td>5.869</td>\n",
       "\t\t<td>3.046</td>\n",
       "\t\t<td>3.817</td>\n",
       "\t\t<td>1.228</td>\n",
       "\t\t<td>2.042</td>\n",
       "\t</tr>\n",
       "\t<tr>\n",
       "\t\t<td>count</td>\n",
       "\t\t<td>120</td>\n",
       "\t\t<td>120</td>\n",
       "\t\t<td>120</td>\n",
       "\t\t<td>120</td>\n",
       "\t\t<td>120</td>\n",
       "\t\t<td>120</td>\n",
       "\t</tr>\n",
       "</table></html>"
      ],
      "text/plain": [
       "            id  sepal_length  sepal_width  petal_length  petal_width  species\n",
       "func                                                                         \n",
       "std     44.302         0.857        0.444         1.797        0.774    0.834\n",
       "25%     38.500         5.100        2.800         1.500        0.300    1.000\n",
       "50%     79.500         5.800        3.000         4.450        1.350    2.000\n",
       "75%    116.250         6.425        3.300         5.200        1.900    3.000\n",
       "max    150.000         7.900        4.400         6.900        2.500    3.000\n",
       "min      1.000         4.300        2.000         1.000        0.100    1.000\n",
       "mean    77.433         5.869        3.046         3.817        1.228    2.042\n",
       "count  120.000       120.000      120.000       120.000      120.000  120.000"
      ]
     },
     "metadata": {},
     "output_type": "display_data"
    },
    {
     "name": "stdout",
     "output_type": "stream",
     "text": [
      "\n",
      "Target Column Distribution:\n"
     ]
    },
    {
     "data": {
      "image/png": "[encoded data removed]",
      "text/plain": [
       "<Figure size 600x600 with 1 Axes>"
      ]
     },
     "metadata": {},
     "output_type": "display_data"
    },
    {
     "name": "stdout",
     "output_type": "stream",
     "text": [
      "Columns with outlier percentage :-                                                                                                                                                                                                                                                                                                                                                                                                                                                                                  \n",
      "    ColumnName  OutlierPercentage\n",
      "0  sepal_width           3.333333\n",
      "                                                                                        \r"
     ]
    },
    {
     "data": {
      "text/html": [
       "\n",
       "            <style>\n",
       "                .custom-div {\n",
       "                    background-color: lightgray;\n",
       "                    color: #000000;\n",
       "                    padding: 10px;\n",
       "                    border-radius: 8px;\n",
       "                    box-shadow: 0 3px 4px rgba(0 -  0 -  0 -  0.2);\n",
       "                    margin-bottom: 10px;\n",
       "                    text-align: center;\n",
       "                }\n",
       "            </style>\n",
       "        <br><div class=\"custom-div\"><h3><span style=\"color: green;\">1. Feature Exploration -></span> 2. Feature Engineering -> 3. Data Preparation -> 4. Model Training & Evaluation<center></h3></center></div>"
      ],
      "text/plain": [
       "<IPython.core.display.HTML object>"
      ]
     },
     "metadata": {},
     "output_type": "display_data"
    },
    {
     "name": "stdout",
     "output_type": "stream",
     "text": [
      "                                                                                        \r"
     ]
    },
    {
     "data": {
      "text/html": [
       "Feature Engineering started ..."
      ],
      "text/plain": [
       "<IPython.core.display.HTML object>"
      ]
     },
     "metadata": {},
     "output_type": "display_data"
    },
    {
     "name": "stdout",
     "output_type": "stream",
     "text": [
      "                                                                                        \r"
     ]
    },
    {
     "data": {
      "text/html": [
       "\n",
       "Handling duplicate records present in dataset ..."
      ],
      "text/plain": [
       "<IPython.core.display.HTML object>"
      ]
     },
     "metadata": {},
     "output_type": "display_data"
    },
    {
     "name": "stdout",
     "output_type": "stream",
     "text": [
      "Analysis complete. No action taken.                                                     \n",
      "                                                                                        \r"
     ]
    },
    {
     "data": {
      "text/html": [
       "Total time to handle duplicate records: 1.54 sec  "
      ],
      "text/plain": [
       "<IPython.core.display.HTML object>"
      ]
     },
     "metadata": {},
     "output_type": "display_data"
    },
    {
     "name": "stdout",
     "output_type": "stream",
     "text": [
      "                                                                                        \r"
     ]
    },
    {
     "data": {
      "text/html": [
       "\n",
       "Handling less significant features from data ..."
      ],
      "text/plain": [
       "<IPython.core.display.HTML object>"
      ]
     },
     "metadata": {},
     "output_type": "display_data"
    },
    {
     "name": "stdout",
     "output_type": "stream",
     "text": [
      "                                                                                        \r"
     ]
    },
    {
     "data": {
      "text/html": [
       "Total time to handle less significant features: 6.13 sec  "
      ],
      "text/plain": [
       "<IPython.core.display.HTML object>"
      ]
     },
     "metadata": {},
     "output_type": "display_data"
    },
    {
     "name": "stdout",
     "output_type": "stream",
     "text": [
      "                                                                                         \r"
     ]
    },
    {
     "data": {
      "text/html": [
       "\n",
       "Handling Date Features ..."
      ],
      "text/plain": [
       "<IPython.core.display.HTML object>"
      ]
     },
     "metadata": {},
     "output_type": "display_data"
    },
    {
     "name": "stdout",
     "output_type": "stream",
     "text": [
      "Dataset does not contain any feature related to dates.                                   \n",
      "                                                                                         \r"
     ]
    },
    {
     "data": {
      "text/html": [
       "Total time to handle date features: 0.00 sec\n"
      ],
      "text/plain": [
       "<IPython.core.display.HTML object>"
      ]
     },
     "metadata": {},
     "output_type": "display_data"
    },
    {
     "name": "stdout",
     "output_type": "stream",
     "text": [
      "Proceeding with default option for missing value imputation.                             \n",
      "Proceeding with default option for handling remaining missing values.                    \n",
      "                                                                                         \r"
     ]
    },
    {
     "data": {
      "text/html": [
       "\n",
       "Checking Missing values in dataset ..."
      ],
      "text/plain": [
       "<IPython.core.display.HTML object>"
      ]
     },
     "metadata": {},
     "output_type": "display_data"
    },
    {
     "name": "stdout",
     "output_type": "stream",
     "text": [
      "No Missing Values Detected.                                                              \n",
      "                                                                                         \r"
     ]
    },
    {
     "data": {
      "text/html": [
       "Total time to find missing values in data: 7.48 sec  "
      ],
      "text/plain": [
       "<IPython.core.display.HTML object>"
      ]
     },
     "metadata": {},
     "output_type": "display_data"
    },
    {
     "name": "stdout",
     "output_type": "stream",
     "text": [
      "                                                                                         \r"
     ]
    },
    {
     "data": {
      "text/html": [
       "\n",
       "Imputing Missing Values ..."
      ],
      "text/plain": [
       "<IPython.core.display.HTML object>"
      ]
     },
     "metadata": {},
     "output_type": "display_data"
    },
    {
     "name": "stdout",
     "output_type": "stream",
     "text": [
      "No imputation is Required.                                                               \n",
      "                                                                                         \r"
     ]
    },
    {
     "data": {
      "text/html": [
       "Time taken to perform imputation: 0.01 sec  "
      ],
      "text/plain": [
       "<IPython.core.display.HTML object>"
      ]
     },
     "metadata": {},
     "output_type": "display_data"
    },
    {
     "name": "stdout",
     "output_type": "stream",
     "text": [
      "No information provided for Variable-Width Transformation.                               \n",
      "Skipping customized string manipulation.⫾⫾⫾⫾⫾⫾⫾⫾⫾⫾⫾⫾⫾⫾⫾⫾⫾⫾⫾⫾⫾⫾⫾⫾⫾⫾⫾⫾⫾⫾⫾⫾⫾⫾⫾⫾⫾｜ 26% - 5/19\n",
      "                                                                                         \r"
     ]
    },
    {
     "data": {
      "text/html": [
       "\n",
       "Starting Customized Categorical Feature Encoding ..."
      ],
      "text/plain": [
       "<IPython.core.display.HTML object>"
      ]
     },
     "metadata": {},
     "output_type": "display_data"
    },
    {
     "name": "stdout",
     "output_type": "stream",
     "text": [
      "AutoML will proceed with default encoding technique.                                     \n",
      "                                                                                         \r"
     ]
    },
    {
     "data": {
      "text/html": [
       "\n",
       "Performing encoding for categorical columns ..."
      ],
      "text/plain": [
       "<IPython.core.display.HTML object>"
      ]
     },
     "metadata": {},
     "output_type": "display_data"
    },
    {
     "name": "stdout",
     "output_type": "stream",
     "text": [
      "Encoding not required.                                                                   \n",
      "                                                                                         \r"
     ]
    },
    {
     "data": {
      "text/html": [
       "Time taken to encode the columns: 1.45 sec"
      ],
      "text/plain": [
       "<IPython.core.display.HTML object>"
      ]
     },
     "metadata": {},
     "output_type": "display_data"
    },
    {
     "name": "stdout",
     "output_type": "stream",
     "text": [
      "                                                                                         \r"
     ]
    },
    {
     "data": {
      "text/html": [
       "\n",
       "Starting customized mathematical transformation ..."
      ],
      "text/plain": [
       "<IPython.core.display.HTML object>"
      ]
     },
     "metadata": {},
     "output_type": "display_data"
    },
    {
     "name": "stdout",
     "output_type": "stream",
     "text": [
      "Skipping customized mathematical transformation.                                         \n",
      "                                                                                         \r"
     ]
    },
    {
     "data": {
      "text/html": [
       "\n",
       "Starting customized non-linear transformation ..."
      ],
      "text/plain": [
       "<IPython.core.display.HTML object>"
      ]
     },
     "metadata": {},
     "output_type": "display_data"
    },
    {
     "name": "stdout",
     "output_type": "stream",
     "text": [
      "Skipping customized non-linear transformation.                                           \n",
      "                                                                                         \r"
     ]
    },
    {
     "data": {
      "text/html": [
       "\n",
       "Starting customized anti-select columns ..."
      ],
      "text/plain": [
       "<IPython.core.display.HTML object>"
      ]
     },
     "metadata": {},
     "output_type": "display_data"
    },
    {
     "name": "stdout",
     "output_type": "stream",
     "text": [
      "Skipping customized anti-select columns.                                                 \n",
      "                                                                                          \r"
     ]
    },
    {
     "data": {
      "text/html": [
       "\n",
       "            <style>\n",
       "                .custom-div {\n",
       "                    background-color: lightgray;\n",
       "                    color: #000000;\n",
       "                    padding: 10px;\n",
       "                    border-radius: 8px;\n",
       "                    box-shadow: 0 3px 4px rgba(0 -  0 -  0 -  0.2);\n",
       "                    margin-bottom: 10px;\n",
       "                    text-align: center;\n",
       "                }\n",
       "            </style>\n",
       "        <br><div class=\"custom-div\"><h3><span style=\"color: green;\">1. Feature Exploration -> 2. Feature Engineering -></span> 3. Data Preparation -> 4. Model Training & Evaluation<center></h3></center></div>"
      ],
      "text/plain": [
       "<IPython.core.display.HTML object>"
      ]
     },
     "metadata": {},
     "output_type": "display_data"
    },
    {
     "name": "stdout",
     "output_type": "stream",
     "text": [
      "                                                                                          \r"
     ]
    },
    {
     "data": {
      "text/html": [
       "Data preparation started ..."
      ],
      "text/plain": [
       "<IPython.core.display.HTML object>"
      ]
     },
     "metadata": {},
     "output_type": "display_data"
    },
    {
     "name": "stdout",
     "output_type": "stream",
     "text": [
      "                                                                                          \r"
     ]
    },
    {
     "data": {
      "text/html": [
       "\n",
       "Spliting of dataset into training and testing ..."
      ],
      "text/plain": [
       "<IPython.core.display.HTML object>"
      ]
     },
     "metadata": {},
     "output_type": "display_data"
    },
    {
     "name": "stdout",
     "output_type": "stream",
     "text": [
      "Training size : 0.85                                                                      \n",
      "Testing size  : 0.15                                                                      \n",
      "                                                                                          \r"
     ]
    },
    {
     "data": {
      "text/html": [
       "Training data sample"
      ],
      "text/plain": [
       "<IPython.core.display.HTML object>"
      ]
     },
     "metadata": {},
     "output_type": "display_data"
    },
    {
     "data": {
      "text/html": [
       "<style type=\"text/css\">\n",
       "\ttable {border:ridge 5px;}\n",
       "\ttable td {border:inset 1px;}\n",
       "\ttable tr#HeaderRow {background-color:grey; color:white;}</style>\n",
       "<html><table>\n",
       "\t<tr id=\"HeaderRow\">\n",
       "\t\t<th>sepal_length</th>\n",
       "\t\t<th>sepal_width</th>\n",
       "\t\t<th>petal_length</th>\n",
       "\t\t<th>petal_width</th>\n",
       "\t\t<th>species</th>\n",
       "\t\t<th>id</th>\n",
       "\t</tr>\n",
       "\t<tr>\n",
       "\t\t<td>5.1</td>\n",
       "\t\t<td>3.4</td>\n",
       "\t\t<td>1.5</td>\n",
       "\t\t<td>0.2</td>\n",
       "\t\t<td>1</td>\n",
       "\t\t<td>10</td>\n",
       "\t</tr>\n",
       "\t<tr>\n",
       "\t\t<td>5.1</td>\n",
       "\t\t<td>2.5</td>\n",
       "\t\t<td>3.0</td>\n",
       "\t\t<td>1.1</td>\n",
       "\t\t<td>2</td>\n",
       "\t\t<td>13</td>\n",
       "\t</tr>\n",
       "\t<tr>\n",
       "\t\t<td>6.4</td>\n",
       "\t\t<td>2.7</td>\n",
       "\t\t<td>5.3</td>\n",
       "\t\t<td>1.9</td>\n",
       "\t\t<td>3</td>\n",
       "\t\t<td>21</td>\n",
       "\t</tr>\n",
       "\t<tr>\n",
       "\t\t<td>6.3</td>\n",
       "\t\t<td>3.3</td>\n",
       "\t\t<td>6.0</td>\n",
       "\t\t<td>2.5</td>\n",
       "\t\t<td>3</td>\n",
       "\t\t<td>9</td>\n",
       "\t</tr>\n",
       "\t<tr>\n",
       "\t\t<td>5.7</td>\n",
       "\t\t<td>2.9</td>\n",
       "\t\t<td>4.2</td>\n",
       "\t\t<td>1.3</td>\n",
       "\t\t<td>2</td>\n",
       "\t\t<td>15</td>\n",
       "\t</tr>\n",
       "\t<tr>\n",
       "\t\t<td>5.8</td>\n",
       "\t\t<td>4.0</td>\n",
       "\t\t<td>1.2</td>\n",
       "\t\t<td>0.2</td>\n",
       "\t\t<td>1</td>\n",
       "\t\t<td>23</td>\n",
       "\t</tr>\n",
       "\t<tr>\n",
       "\t\t<td>5.7</td>\n",
       "\t\t<td>2.6</td>\n",
       "\t\t<td>3.5</td>\n",
       "\t\t<td>1.0</td>\n",
       "\t\t<td>2</td>\n",
       "\t\t<td>12</td>\n",
       "\t</tr>\n",
       "\t<tr>\n",
       "\t\t<td>7.7</td>\n",
       "\t\t<td>3.8</td>\n",
       "\t\t<td>6.7</td>\n",
       "\t\t<td>2.2</td>\n",
       "\t\t<td>3</td>\n",
       "\t\t<td>20</td>\n",
       "\t</tr>\n",
       "\t<tr>\n",
       "\t\t<td>5.6</td>\n",
       "\t\t<td>2.8</td>\n",
       "\t\t<td>4.9</td>\n",
       "\t\t<td>2.0</td>\n",
       "\t\t<td>3</td>\n",
       "\t\t<td>11</td>\n",
       "\t</tr>\n",
       "\t<tr>\n",
       "\t\t<td>6.6</td>\n",
       "\t\t<td>2.9</td>\n",
       "\t\t<td>4.6</td>\n",
       "\t\t<td>1.3</td>\n",
       "\t\t<td>2</td>\n",
       "\t\t<td>19</td>\n",
       "\t</tr>\n",
       "</table></html>"
      ],
      "text/plain": [
       "   sepal_length  sepal_width  petal_length  petal_width  species  id\n",
       "0           5.1          3.4           1.5          0.2        1  10\n",
       "1           5.1          2.5           3.0          1.1        2  13\n",
       "2           6.4          2.7           5.3          1.9        3  21\n",
       "3           6.3          3.3           6.0          2.5        3   9\n",
       "4           5.7          2.9           4.2          1.3        2  15\n",
       "5           5.8          4.0           1.2          0.2        1  23\n",
       "6           5.7          2.6           3.5          1.0        2  12\n",
       "7           7.7          3.8           6.7          2.2        3  20\n",
       "8           5.6          2.8           4.9          2.0        3  11\n",
       "9           6.6          2.9           4.6          1.3        2  19"
      ]
     },
     "metadata": {},
     "output_type": "display_data"
    },
    {
     "name": "stdout",
     "output_type": "stream",
     "text": [
      "                                                                                          \r"
     ]
    },
    {
     "data": {
      "text/html": [
       "Testing data sample"
      ],
      "text/plain": [
       "<IPython.core.display.HTML object>"
      ]
     },
     "metadata": {},
     "output_type": "display_data"
    },
    {
     "data": {
      "text/html": [
       "<style type=\"text/css\">\n",
       "\ttable {border:ridge 5px;}\n",
       "\ttable td {border:inset 1px;}\n",
       "\ttable tr#HeaderRow {background-color:grey; color:white;}</style>\n",
       "<html><table>\n",
       "\t<tr id=\"HeaderRow\">\n",
       "\t\t<th>sepal_length</th>\n",
       "\t\t<th>sepal_width</th>\n",
       "\t\t<th>petal_length</th>\n",
       "\t\t<th>petal_width</th>\n",
       "\t\t<th>species</th>\n",
       "\t\t<th>id</th>\n",
       "\t</tr>\n",
       "\t<tr>\n",
       "\t\t<td>6.5</td>\n",
       "\t\t<td>2.8</td>\n",
       "\t\t<td>4.6</td>\n",
       "\t\t<td>1.5</td>\n",
       "\t\t<td>2</td>\n",
       "\t\t<td>28</td>\n",
       "\t</tr>\n",
       "\t<tr>\n",
       "\t\t<td>5.5</td>\n",
       "\t\t<td>2.4</td>\n",
       "\t\t<td>3.7</td>\n",
       "\t\t<td>1.0</td>\n",
       "\t\t<td>2</td>\n",
       "\t\t<td>130</td>\n",
       "\t</tr>\n",
       "\t<tr>\n",
       "\t\t<td>5.3</td>\n",
       "\t\t<td>3.7</td>\n",
       "\t\t<td>1.5</td>\n",
       "\t\t<td>0.2</td>\n",
       "\t\t<td>1</td>\n",
       "\t\t<td>29</td>\n",
       "\t</tr>\n",
       "\t<tr>\n",
       "\t\t<td>6.5</td>\n",
       "\t\t<td>3.0</td>\n",
       "\t\t<td>5.5</td>\n",
       "\t\t<td>1.8</td>\n",
       "\t\t<td>3</td>\n",
       "\t\t<td>45</td>\n",
       "\t</tr>\n",
       "\t<tr>\n",
       "\t\t<td>6.0</td>\n",
       "\t\t<td>2.9</td>\n",
       "\t\t<td>4.5</td>\n",
       "\t\t<td>1.5</td>\n",
       "\t\t<td>2</td>\n",
       "\t\t<td>111</td>\n",
       "\t</tr>\n",
       "\t<tr>\n",
       "\t\t<td>5.0</td>\n",
       "\t\t<td>3.2</td>\n",
       "\t\t<td>1.2</td>\n",
       "\t\t<td>0.2</td>\n",
       "\t\t<td>1</td>\n",
       "\t\t<td>30</td>\n",
       "\t</tr>\n",
       "\t<tr>\n",
       "\t\t<td>6.3</td>\n",
       "\t\t<td>2.5</td>\n",
       "\t\t<td>5.0</td>\n",
       "\t\t<td>1.9</td>\n",
       "\t\t<td>3</td>\n",
       "\t\t<td>110</td>\n",
       "\t</tr>\n",
       "\t<tr>\n",
       "\t\t<td>6.4</td>\n",
       "\t\t<td>2.8</td>\n",
       "\t\t<td>5.6</td>\n",
       "\t\t<td>2.2</td>\n",
       "\t\t<td>3</td>\n",
       "\t\t<td>31</td>\n",
       "\t</tr>\n",
       "\t<tr>\n",
       "\t\t<td>6.7</td>\n",
       "\t\t<td>2.5</td>\n",
       "\t\t<td>5.8</td>\n",
       "\t\t<td>1.8</td>\n",
       "\t\t<td>3</td>\n",
       "\t\t<td>100</td>\n",
       "\t</tr>\n",
       "\t<tr>\n",
       "\t\t<td>4.3</td>\n",
       "\t\t<td>3.0</td>\n",
       "\t\t<td>1.1</td>\n",
       "\t\t<td>0.1</td>\n",
       "\t\t<td>1</td>\n",
       "\t\t<td>99</td>\n",
       "\t</tr>\n",
       "</table></html>"
      ],
      "text/plain": [
       "   sepal_length  sepal_width  petal_length  petal_width  species   id\n",
       "0           6.5          2.8           4.6          1.5        2   28\n",
       "1           5.5          2.4           3.7          1.0        2  130\n",
       "2           5.3          3.7           1.5          0.2        1   29\n",
       "3           6.5          3.0           5.5          1.8        3   45\n",
       "4           6.0          2.9           4.5          1.5        2  111\n",
       "5           5.0          3.2           1.2          0.2        1   30\n",
       "6           6.3          2.5           5.0          1.9        3  110\n",
       "7           6.4          2.8           5.6          2.2        3   31\n",
       "8           6.7          2.5           5.8          1.8        3  100\n",
       "9           4.3          3.0           1.1          0.1        1   99"
      ]
     },
     "metadata": {},
     "output_type": "display_data"
    },
    {
     "name": "stdout",
     "output_type": "stream",
     "text": [
      "                                                                                          \r"
     ]
    },
    {
     "data": {
      "text/html": [
       "Time taken for spliting of data: 9.20 sec  "
      ],
      "text/plain": [
       "<IPython.core.display.HTML object>"
      ]
     },
     "metadata": {},
     "output_type": "display_data"
    },
    {
     "name": "stdout",
     "output_type": "stream",
     "text": [
      "                                                                                          \r"
     ]
    },
    {
     "data": {
      "text/html": [
       "\n",
       "Starting customized outlier processing ..."
      ],
      "text/plain": [
       "<IPython.core.display.HTML object>"
      ]
     },
     "metadata": {},
     "output_type": "display_data"
    },
    {
     "name": "stdout",
     "output_type": "stream",
     "text": [
      "No information provided for customized outlier processing. AutoML will proceed with default settings.\n",
      "                                                                                          \r"
     ]
    },
    {
     "data": {
      "text/html": [
       "\n",
       "Outlier preprocessing ..."
      ],
      "text/plain": [
       "<IPython.core.display.HTML object>"
      ]
     },
     "metadata": {},
     "output_type": "display_data"
    },
    {
     "name": "stdout",
     "output_type": "stream",
     "text": [
      "Columns with outlier percentage :-                                                                                                                                                                                                                                                                                                                                                                                                                                                                                  \n",
      "    ColumnName  OutlierPercentage\n",
      "0  sepal_width           3.333333\n",
      "                                                                                          \r"
     ]
    },
    {
     "data": {
      "text/html": [
       "Deleting rows of these columns:"
      ],
      "text/plain": [
       "<IPython.core.display.HTML object>"
      ]
     },
     "metadata": {},
     "output_type": "display_data"
    },
    {
     "name": "stdout",
     "output_type": "stream",
     "text": [
      "['sepal_width']\n",
      "result data stored in table '\"AUTOML_USR\".\"ml__td_sqlmr_persist_out__1711274104397699\"'/19\n",
      "                                                                                          \r"
     ]
    },
    {
     "data": {
      "text/html": [
       "Time Taken by Outlier processing: 35.25 sec "
      ],
      "text/plain": [
       "<IPython.core.display.HTML object>"
      ]
     },
     "metadata": {},
     "output_type": "display_data"
    },
    {
     "name": "stdout",
     "output_type": "stream",
     "text": [
      "result data stored in table '\"AUTOML_USR\".\"ml__td_sqlmr_persist_out__1711274940659712\"'/19\n",
      "result data stored in table '\"AUTOML_USR\".\"ml__td_sqlmr_persist_out__1711274995238569\"'\n",
      "                                                                                          \r"
     ]
    },
    {
     "data": {
      "text/html": [
       "\n",
       "Checking imbalance data ..."
      ],
      "text/plain": [
       "<IPython.core.display.HTML object>"
      ]
     },
     "metadata": {},
     "output_type": "display_data"
    },
    {
     "name": "stdout",
     "output_type": "stream",
     "text": [
      "                                                                                          \r"
     ]
    },
    {
     "data": {
      "text/html": [
       "Imbalance Not Found."
      ],
      "text/plain": [
       "<IPython.core.display.HTML object>"
      ]
     },
     "metadata": {},
     "output_type": "display_data"
    },
    {
     "name": "stdout",
     "output_type": "stream",
     "text": [
      "                                                                                          \r"
     ]
    },
    {
     "data": {
      "text/html": [
       "\n",
       "Feature selection using lasso ..."
      ],
      "text/plain": [
       "<IPython.core.display.HTML object>"
      ]
     },
     "metadata": {},
     "output_type": "display_data"
    },
    {
     "name": "stdout",
     "output_type": "stream",
     "text": [
      "                                                                                          \r"
     ]
    },
    {
     "data": {
      "text/html": [
       "feature selected by lasso:"
      ],
      "text/plain": [
       "<IPython.core.display.HTML object>"
      ]
     },
     "metadata": {},
     "output_type": "display_data"
    },
    {
     "name": "stdout",
     "output_type": "stream",
     "text": [
      "['sepal_width', 'petal_length', 'sepal_length', 'petal_width']\n",
      "                                                                                          \r"
     ]
    },
    {
     "data": {
      "text/html": [
       "Total time taken by feature selection: 2.77 sec  "
      ],
      "text/plain": [
       "<IPython.core.display.HTML object>"
      ]
     },
     "metadata": {},
     "output_type": "display_data"
    },
    {
     "name": "stdout",
     "output_type": "stream",
     "text": [
      "                                                                                          \r"
     ]
    },
    {
     "data": {
      "text/html": [
       "\n",
       "scaling Features of lasso data ..."
      ],
      "text/plain": [
       "<IPython.core.display.HTML object>"
      ]
     },
     "metadata": {},
     "output_type": "display_data"
    },
    {
     "name": "stdout",
     "output_type": "stream",
     "text": [
      "                                                                                          \r"
     ]
    },
    {
     "data": {
      "text/html": [
       "columns that will be scaled: "
      ],
      "text/plain": [
       "<IPython.core.display.HTML object>"
      ]
     },
     "metadata": {},
     "output_type": "display_data"
    },
    {
     "name": "stdout",
     "output_type": "stream",
     "text": [
      "['sepal_width', 'petal_length', 'sepal_length', 'petal_width']\n",
      "                                                                                          \r"
     ]
    },
    {
     "data": {
      "text/html": [
       "Training dataset sample after scaling:"
      ],
      "text/plain": [
       "<IPython.core.display.HTML object>"
      ]
     },
     "metadata": {},
     "output_type": "display_data"
    },
    {
     "data": {
      "text/html": [
       "<style type=\"text/css\">\n",
       "\ttable {border:ridge 5px;}\n",
       "\ttable td {border:inset 1px;}\n",
       "\ttable tr#HeaderRow {background-color:grey; color:white;}</style>\n",
       "<html><table>\n",
       "\t<tr id=\"HeaderRow\">\n",
       "\t\t<th>species</th>\n",
       "\t\t<th>id</th>\n",
       "\t\t<th>sepal_width</th>\n",
       "\t\t<th>petal_length</th>\n",
       "\t\t<th>sepal_length</th>\n",
       "\t\t<th>petal_width</th>\n",
       "\t</tr>\n",
       "\t<tr>\n",
       "\t\t<td>1</td>\n",
       "\t\t<td>92</td>\n",
       "\t\t<td>0.6666666666666666</td>\n",
       "\t\t<td>0.035087719298245605</td>\n",
       "\t\t<td>0.2285714285714285</td>\n",
       "\t\t<td>0.04166666666666667</td>\n",
       "\t</tr>\n",
       "\t<tr>\n",
       "\t\t<td>1</td>\n",
       "\t\t<td>33</td>\n",
       "\t\t<td>0.44444444444444436</td>\n",
       "\t\t<td>0.035087719298245605</td>\n",
       "\t\t<td>0.11428571428571413</td>\n",
       "\t\t<td>0.0</td>\n",
       "\t</tr>\n",
       "\t<tr>\n",
       "\t\t<td>3</td>\n",
       "\t\t<td>70</td>\n",
       "\t\t<td>0.22222222222222218</td>\n",
       "\t\t<td>1.0</td>\n",
       "\t\t<td>0.9428571428571428</td>\n",
       "\t\t<td>0.9166666666666666</td>\n",
       "\t</tr>\n",
       "\t<tr>\n",
       "\t\t<td>1</td>\n",
       "\t\t<td>23</td>\n",
       "\t\t<td>1.0</td>\n",
       "\t\t<td>0.0</td>\n",
       "\t\t<td>0.39999999999999986</td>\n",
       "\t\t<td>0.04166666666666667</td>\n",
       "\t</tr>\n",
       "\t<tr>\n",
       "\t\t<td>1</td>\n",
       "\t\t<td>49</td>\n",
       "\t\t<td>0.3888888888888888</td>\n",
       "\t\t<td>0.035087719298245605</td>\n",
       "\t\t<td>0.0</td>\n",
       "\t\t<td>0.04166666666666667</td>\n",
       "\t</tr>\n",
       "\t<tr>\n",
       "\t\t<td>3</td>\n",
       "\t\t<td>78</td>\n",
       "\t\t<td>0.33333333333333315</td>\n",
       "\t\t<td>0.6842105263157894</td>\n",
       "\t\t<td>0.39999999999999986</td>\n",
       "\t\t<td>0.9583333333333333</td>\n",
       "\t</tr>\n",
       "\t<tr>\n",
       "\t\t<td>3</td>\n",
       "\t\t<td>81</td>\n",
       "\t\t<td>0.33333333333333315</td>\n",
       "\t\t<td>0.9649122807017544</td>\n",
       "\t\t<td>0.9428571428571428</td>\n",
       "\t\t<td>0.7916666666666666</td>\n",
       "\t</tr>\n",
       "\t<tr>\n",
       "\t\t<td>3</td>\n",
       "\t\t<td>20</td>\n",
       "\t\t<td>0.8888888888888887</td>\n",
       "\t\t<td>0.9649122807017544</td>\n",
       "\t\t<td>0.9428571428571428</td>\n",
       "\t\t<td>0.8750000000000001</td>\n",
       "\t</tr>\n",
       "\t<tr>\n",
       "\t\t<td>3</td>\n",
       "\t\t<td>106</td>\n",
       "\t\t<td>0.6666666666666666</td>\n",
       "\t\t<td>0.7368421052631579</td>\n",
       "\t\t<td>0.5142857142857142</td>\n",
       "\t\t<td>0.9166666666666666</td>\n",
       "\t</tr>\n",
       "\t<tr>\n",
       "\t\t<td>1</td>\n",
       "\t\t<td>56</td>\n",
       "\t\t<td>0.7222222222222222</td>\n",
       "\t\t<td>0.035087719298245605</td>\n",
       "\t\t<td>0.1999999999999998</td>\n",
       "\t\t<td>0.04166666666666667</td>\n",
       "\t</tr>\n",
       "</table></html>"
      ],
      "text/plain": [
       "   species   id  sepal_width  petal_length  sepal_length  petal_width\n",
       "0        1   92     0.666667      0.035088      0.228571     0.041667\n",
       "1        1   33     0.444444      0.035088      0.114286     0.000000\n",
       "2        3   70     0.222222      1.000000      0.942857     0.916667\n",
       "3        1   23     1.000000      0.000000      0.400000     0.041667\n",
       "4        1   49     0.388889      0.035088      0.000000     0.041667\n",
       "5        3   78     0.333333      0.684211      0.400000     0.958333\n",
       "6        3   81     0.333333      0.964912      0.942857     0.791667\n",
       "7        3   20     0.888889      0.964912      0.942857     0.875000\n",
       "8        3  106     0.666667      0.736842      0.514286     0.916667\n",
       "9        1   56     0.722222      0.035088      0.200000     0.041667"
      ]
     },
     "metadata": {},
     "output_type": "display_data"
    },
    {
     "name": "stdout",
     "output_type": "stream",
     "text": [
      "                                                                                          \r"
     ]
    },
    {
     "data": {
      "text/html": [
       "Testing dataset sample after scaling:"
      ],
      "text/plain": [
       "<IPython.core.display.HTML object>"
      ]
     },
     "metadata": {},
     "output_type": "display_data"
    },
    {
     "data": {
      "text/html": [
       "<style type=\"text/css\">\n",
       "\ttable {border:ridge 5px;}\n",
       "\ttable td {border:inset 1px;}\n",
       "\ttable tr#HeaderRow {background-color:grey; color:white;}</style>\n",
       "<html><table>\n",
       "\t<tr id=\"HeaderRow\">\n",
       "\t\t<th>species</th>\n",
       "\t\t<th>id</th>\n",
       "\t\t<th>sepal_width</th>\n",
       "\t\t<th>petal_length</th>\n",
       "\t\t<th>sepal_length</th>\n",
       "\t\t<th>petal_width</th>\n",
       "\t</tr>\n",
       "\t<tr>\n",
       "\t\t<td>1</td>\n",
       "\t\t<td>135</td>\n",
       "\t\t<td>0.7777777777777778</td>\n",
       "\t\t<td>-0.035087719298245605</td>\n",
       "\t\t<td>0.05714285714285694</td>\n",
       "\t\t<td>0.04166666666666667</td>\n",
       "\t</tr>\n",
       "\t<tr>\n",
       "\t\t<td>1</td>\n",
       "\t\t<td>116</td>\n",
       "\t\t<td>0.44444444444444436</td>\n",
       "\t\t<td>0.035087719298245605</td>\n",
       "\t\t<td>0.11428571428571413</td>\n",
       "\t\t<td>0.08333333333333333</td>\n",
       "\t</tr>\n",
       "\t<tr>\n",
       "\t\t<td>3</td>\n",
       "\t\t<td>45</td>\n",
       "\t\t<td>0.44444444444444436</td>\n",
       "\t\t<td>0.7543859649122806</td>\n",
       "\t\t<td>0.5999999999999999</td>\n",
       "\t\t<td>0.7083333333333334</td>\n",
       "\t</tr>\n",
       "\t<tr>\n",
       "\t\t<td>1</td>\n",
       "\t\t<td>29</td>\n",
       "\t\t<td>0.8333333333333334</td>\n",
       "\t\t<td>0.052631578947368425</td>\n",
       "\t\t<td>0.257142857142857</td>\n",
       "\t\t<td>0.04166666666666667</td>\n",
       "\t</tr>\n",
       "\t<tr>\n",
       "\t\t<td>1</td>\n",
       "\t\t<td>99</td>\n",
       "\t\t<td>0.44444444444444436</td>\n",
       "\t\t<td>-0.017543859649122782</td>\n",
       "\t\t<td>-0.028571428571428723</td>\n",
       "\t\t<td>0.0</td>\n",
       "\t</tr>\n",
       "\t<tr>\n",
       "\t\t<td>3</td>\n",
       "\t\t<td>100</td>\n",
       "\t\t<td>0.16666666666666657</td>\n",
       "\t\t<td>0.8070175438596491</td>\n",
       "\t\t<td>0.6571428571428571</td>\n",
       "\t\t<td>0.7083333333333334</td>\n",
       "\t</tr>\n",
       "\t<tr>\n",
       "\t\t<td>3</td>\n",
       "\t\t<td>31</td>\n",
       "\t\t<td>0.33333333333333315</td>\n",
       "\t\t<td>0.7719298245614034</td>\n",
       "\t\t<td>0.5714285714285714</td>\n",
       "\t\t<td>0.8750000000000001</td>\n",
       "\t</tr>\n",
       "\t<tr>\n",
       "\t\t<td>3</td>\n",
       "\t\t<td>108</td>\n",
       "\t\t<td>0.44444444444444436</td>\n",
       "\t\t<td>0.6491228070175439</td>\n",
       "\t\t<td>0.4857142857142855</td>\n",
       "\t\t<td>0.7083333333333334</td>\n",
       "\t</tr>\n",
       "\t<tr>\n",
       "\t\t<td>3</td>\n",
       "\t\t<td>134</td>\n",
       "\t\t<td>0.44444444444444436</td>\n",
       "\t\t<td>0.8245614035087719</td>\n",
       "\t\t<td>0.7714285714285712</td>\n",
       "\t\t<td>0.8333333333333334</td>\n",
       "\t</tr>\n",
       "\t<tr>\n",
       "\t\t<td>1</td>\n",
       "\t\t<td>30</td>\n",
       "\t\t<td>0.5555555555555556</td>\n",
       "\t\t<td>0.0</td>\n",
       "\t\t<td>0.17142857142857132</td>\n",
       "\t\t<td>0.04166666666666667</td>\n",
       "\t</tr>\n",
       "</table></html>"
      ],
      "text/plain": [
       "   species   id  sepal_width  petal_length  sepal_length  petal_width\n",
       "0        1  135     0.777778     -0.035088      0.057143     0.041667\n",
       "1        1  116     0.444444      0.035088      0.114286     0.083333\n",
       "2        3   45     0.444444      0.754386      0.600000     0.708333\n",
       "3        1   29     0.833333      0.052632      0.257143     0.041667\n",
       "4        1   99     0.444444     -0.017544     -0.028571     0.000000\n",
       "5        3  100     0.166667      0.807018      0.657143     0.708333\n",
       "6        3   31     0.333333      0.771930      0.571429     0.875000\n",
       "7        3  108     0.444444      0.649123      0.485714     0.708333\n",
       "8        3  134     0.444444      0.824561      0.771429     0.833333\n",
       "9        1   30     0.555556      0.000000      0.171429     0.041667"
      ]
     },
     "metadata": {},
     "output_type": "display_data"
    },
    {
     "name": "stdout",
     "output_type": "stream",
     "text": [
      "                                                                                          \r"
     ]
    },
    {
     "data": {
      "text/html": [
       "Total time taken by feature scaling: 39.36 sec"
      ],
      "text/plain": [
       "<IPython.core.display.HTML object>"
      ]
     },
     "metadata": {},
     "output_type": "display_data"
    },
    {
     "name": "stdout",
     "output_type": "stream",
     "text": [
      "                                                                                          \r"
     ]
    },
    {
     "data": {
      "text/html": [
       "\n",
       "Feature selection using rfe ..."
      ],
      "text/plain": [
       "<IPython.core.display.HTML object>"
      ]
     },
     "metadata": {},
     "output_type": "display_data"
    },
    {
     "name": "stdout",
     "output_type": "stream",
     "text": [
      "                                                                                          \r"
     ]
    },
    {
     "data": {
      "text/html": [
       "feature selected by RFE:"
      ],
      "text/plain": [
       "<IPython.core.display.HTML object>"
      ]
     },
     "metadata": {},
     "output_type": "display_data"
    },
    {
     "name": "stdout",
     "output_type": "stream",
     "text": [
      "['petal_length', 'petal_width']\n",
      "                                                                                          \r"
     ]
    },
    {
     "data": {
      "text/html": [
       "Total time taken by feature selection: 7.54 sec  "
      ],
      "text/plain": [
       "<IPython.core.display.HTML object>"
      ]
     },
     "metadata": {},
     "output_type": "display_data"
    },
    {
     "name": "stdout",
     "output_type": "stream",
     "text": [
      "                                                                                          \r"
     ]
    },
    {
     "data": {
      "text/html": [
       "\n",
       "scaling Features of rfe data ..."
      ],
      "text/plain": [
       "<IPython.core.display.HTML object>"
      ]
     },
     "metadata": {},
     "output_type": "display_data"
    },
    {
     "name": "stdout",
     "output_type": "stream",
     "text": [
      "                                                                                          \r"
     ]
    },
    {
     "data": {
      "text/html": [
       "columns that will be scaled: "
      ],
      "text/plain": [
       "<IPython.core.display.HTML object>"
      ]
     },
     "metadata": {},
     "output_type": "display_data"
    },
    {
     "name": "stdout",
     "output_type": "stream",
     "text": [
      "['r_petal_length', 'r_petal_width']\n",
      "                                                                                          \r"
     ]
    },
    {
     "data": {
      "text/html": [
       "Training dataset sample after scaling:"
      ],
      "text/plain": [
       "<IPython.core.display.HTML object>"
      ]
     },
     "metadata": {},
     "output_type": "display_data"
    },
    {
     "data": {
      "text/html": [
       "<style type=\"text/css\">\n",
       "\ttable {border:ridge 5px;}\n",
       "\ttable td {border:inset 1px;}\n",
       "\ttable tr#HeaderRow {background-color:grey; color:white;}</style>\n",
       "<html><table>\n",
       "\t<tr id=\"HeaderRow\">\n",
       "\t\t<th>species</th>\n",
       "\t\t<th>id</th>\n",
       "\t\t<th>r_petal_length</th>\n",
       "\t\t<th>r_petal_width</th>\n",
       "\t</tr>\n",
       "\t<tr>\n",
       "\t\t<td>1</td>\n",
       "\t\t<td>92</td>\n",
       "\t\t<td>0.035087719298245605</td>\n",
       "\t\t<td>0.04166666666666667</td>\n",
       "\t</tr>\n",
       "\t<tr>\n",
       "\t\t<td>1</td>\n",
       "\t\t<td>33</td>\n",
       "\t\t<td>0.035087719298245605</td>\n",
       "\t\t<td>0.0</td>\n",
       "\t</tr>\n",
       "\t<tr>\n",
       "\t\t<td>3</td>\n",
       "\t\t<td>70</td>\n",
       "\t\t<td>1.0</td>\n",
       "\t\t<td>0.9166666666666666</td>\n",
       "\t</tr>\n",
       "\t<tr>\n",
       "\t\t<td>1</td>\n",
       "\t\t<td>23</td>\n",
       "\t\t<td>0.0</td>\n",
       "\t\t<td>0.04166666666666667</td>\n",
       "\t</tr>\n",
       "\t<tr>\n",
       "\t\t<td>1</td>\n",
       "\t\t<td>49</td>\n",
       "\t\t<td>0.035087719298245605</td>\n",
       "\t\t<td>0.04166666666666667</td>\n",
       "\t</tr>\n",
       "\t<tr>\n",
       "\t\t<td>3</td>\n",
       "\t\t<td>78</td>\n",
       "\t\t<td>0.6842105263157894</td>\n",
       "\t\t<td>0.9583333333333333</td>\n",
       "\t</tr>\n",
       "\t<tr>\n",
       "\t\t<td>3</td>\n",
       "\t\t<td>81</td>\n",
       "\t\t<td>0.9649122807017544</td>\n",
       "\t\t<td>0.7916666666666666</td>\n",
       "\t</tr>\n",
       "\t<tr>\n",
       "\t\t<td>3</td>\n",
       "\t\t<td>20</td>\n",
       "\t\t<td>0.9649122807017544</td>\n",
       "\t\t<td>0.8750000000000001</td>\n",
       "\t</tr>\n",
       "\t<tr>\n",
       "\t\t<td>3</td>\n",
       "\t\t<td>106</td>\n",
       "\t\t<td>0.7368421052631579</td>\n",
       "\t\t<td>0.9166666666666666</td>\n",
       "\t</tr>\n",
       "\t<tr>\n",
       "\t\t<td>1</td>\n",
       "\t\t<td>56</td>\n",
       "\t\t<td>0.035087719298245605</td>\n",
       "\t\t<td>0.04166666666666667</td>\n",
       "\t</tr>\n",
       "</table></html>"
      ],
      "text/plain": [
       "   species   id  r_petal_length  r_petal_width\n",
       "0        1   92        0.035088       0.041667\n",
       "1        1   33        0.035088       0.000000\n",
       "2        3   70        1.000000       0.916667\n",
       "3        1   23        0.000000       0.041667\n",
       "4        1   49        0.035088       0.041667\n",
       "5        3   78        0.684211       0.958333\n",
       "6        3   81        0.964912       0.791667\n",
       "7        3   20        0.964912       0.875000\n",
       "8        3  106        0.736842       0.916667\n",
       "9        1   56        0.035088       0.041667"
      ]
     },
     "metadata": {},
     "output_type": "display_data"
    },
    {
     "name": "stdout",
     "output_type": "stream",
     "text": [
      "                                                                                          \r"
     ]
    },
    {
     "data": {
      "text/html": [
       "Testing dataset sample after scaling:"
      ],
      "text/plain": [
       "<IPython.core.display.HTML object>"
      ]
     },
     "metadata": {},
     "output_type": "display_data"
    },
    {
     "data": {
      "text/html": [
       "<style type=\"text/css\">\n",
       "\ttable {border:ridge 5px;}\n",
       "\ttable td {border:inset 1px;}\n",
       "\ttable tr#HeaderRow {background-color:grey; color:white;}</style>\n",
       "<html><table>\n",
       "\t<tr id=\"HeaderRow\">\n",
       "\t\t<th>species</th>\n",
       "\t\t<th>id</th>\n",
       "\t\t<th>r_petal_length</th>\n",
       "\t\t<th>r_petal_width</th>\n",
       "\t</tr>\n",
       "\t<tr>\n",
       "\t\t<td>1</td>\n",
       "\t\t<td>135</td>\n",
       "\t\t<td>-0.035087719298245605</td>\n",
       "\t\t<td>0.04166666666666667</td>\n",
       "\t</tr>\n",
       "\t<tr>\n",
       "\t\t<td>1</td>\n",
       "\t\t<td>116</td>\n",
       "\t\t<td>0.035087719298245605</td>\n",
       "\t\t<td>0.08333333333333333</td>\n",
       "\t</tr>\n",
       "\t<tr>\n",
       "\t\t<td>3</td>\n",
       "\t\t<td>45</td>\n",
       "\t\t<td>0.7543859649122806</td>\n",
       "\t\t<td>0.7083333333333334</td>\n",
       "\t</tr>\n",
       "\t<tr>\n",
       "\t\t<td>1</td>\n",
       "\t\t<td>29</td>\n",
       "\t\t<td>0.052631578947368425</td>\n",
       "\t\t<td>0.04166666666666667</td>\n",
       "\t</tr>\n",
       "\t<tr>\n",
       "\t\t<td>1</td>\n",
       "\t\t<td>99</td>\n",
       "\t\t<td>-0.017543859649122782</td>\n",
       "\t\t<td>0.0</td>\n",
       "\t</tr>\n",
       "\t<tr>\n",
       "\t\t<td>3</td>\n",
       "\t\t<td>100</td>\n",
       "\t\t<td>0.8070175438596491</td>\n",
       "\t\t<td>0.7083333333333334</td>\n",
       "\t</tr>\n",
       "\t<tr>\n",
       "\t\t<td>3</td>\n",
       "\t\t<td>31</td>\n",
       "\t\t<td>0.7719298245614034</td>\n",
       "\t\t<td>0.8750000000000001</td>\n",
       "\t</tr>\n",
       "\t<tr>\n",
       "\t\t<td>3</td>\n",
       "\t\t<td>108</td>\n",
       "\t\t<td>0.6491228070175439</td>\n",
       "\t\t<td>0.7083333333333334</td>\n",
       "\t</tr>\n",
       "\t<tr>\n",
       "\t\t<td>3</td>\n",
       "\t\t<td>134</td>\n",
       "\t\t<td>0.8245614035087719</td>\n",
       "\t\t<td>0.8333333333333334</td>\n",
       "\t</tr>\n",
       "\t<tr>\n",
       "\t\t<td>1</td>\n",
       "\t\t<td>30</td>\n",
       "\t\t<td>0.0</td>\n",
       "\t\t<td>0.04166666666666667</td>\n",
       "\t</tr>\n",
       "</table></html>"
      ],
      "text/plain": [
       "   species   id  r_petal_length  r_petal_width\n",
       "0        1  135       -0.035088       0.041667\n",
       "1        1  116        0.035088       0.083333\n",
       "2        3   45        0.754386       0.708333\n",
       "3        1   29        0.052632       0.041667\n",
       "4        1   99       -0.017544       0.000000\n",
       "5        3  100        0.807018       0.708333\n",
       "6        3   31        0.771930       0.875000\n",
       "7        3  108        0.649123       0.708333\n",
       "8        3  134        0.824561       0.833333\n",
       "9        1   30        0.000000       0.041667"
      ]
     },
     "metadata": {},
     "output_type": "display_data"
    },
    {
     "name": "stdout",
     "output_type": "stream",
     "text": [
      "                                                                                          \r"
     ]
    },
    {
     "data": {
      "text/html": [
       "Total time taken by feature scaling: 37.01 sec"
      ],
      "text/plain": [
       "<IPython.core.display.HTML object>"
      ]
     },
     "metadata": {},
     "output_type": "display_data"
    },
    {
     "name": "stdout",
     "output_type": "stream",
     "text": [
      "                                                                                          \r"
     ]
    },
    {
     "data": {
      "text/html": [
       "\n",
       "scaling Features of pca data ..."
      ],
      "text/plain": [
       "<IPython.core.display.HTML object>"
      ]
     },
     "metadata": {},
     "output_type": "display_data"
    },
    {
     "name": "stdout",
     "output_type": "stream",
     "text": [
      "                                                                                          \r"
     ]
    },
    {
     "data": {
      "text/html": [
       "columns that will be scaled: "
      ],
      "text/plain": [
       "<IPython.core.display.HTML object>"
      ]
     },
     "metadata": {},
     "output_type": "display_data"
    },
    {
     "name": "stdout",
     "output_type": "stream",
     "text": [
      "['sepal_length', 'sepal_width', 'petal_length', 'petal_width']\n",
      "                                                                                          \r"
     ]
    },
    {
     "data": {
      "text/html": [
       "Training dataset sample after scaling:"
      ],
      "text/plain": [
       "<IPython.core.display.HTML object>"
      ]
     },
     "metadata": {},
     "output_type": "display_data"
    },
    {
     "data": {
      "text/html": [
       "<style type=\"text/css\">\n",
       "\ttable {border:ridge 5px;}\n",
       "\ttable td {border:inset 1px;}\n",
       "\ttable tr#HeaderRow {background-color:grey; color:white;}</style>\n",
       "<html><table>\n",
       "\t<tr id=\"HeaderRow\">\n",
       "\t\t<th>species</th>\n",
       "\t\t<th>id</th>\n",
       "\t\t<th>sepal_length</th>\n",
       "\t\t<th>sepal_width</th>\n",
       "\t\t<th>petal_length</th>\n",
       "\t\t<th>petal_width</th>\n",
       "\t</tr>\n",
       "\t<tr>\n",
       "\t\t<td>3</td>\n",
       "\t\t<td>42</td>\n",
       "\t\t<td>0.5142857142857142</td>\n",
       "\t\t<td>0.33333333333333315</td>\n",
       "\t\t<td>0.631578947368421</td>\n",
       "\t\t<td>0.7083333333333334</td>\n",
       "\t</tr>\n",
       "\t<tr>\n",
       "\t\t<td>1</td>\n",
       "\t\t<td>17</td>\n",
       "\t\t<td>0.2857142857142857</td>\n",
       "\t\t<td>0.9444444444444444</td>\n",
       "\t\t<td>0.017543859649122823</td>\n",
       "\t\t<td>0.12500000000000003</td>\n",
       "\t</tr>\n",
       "\t<tr>\n",
       "\t\t<td>2</td>\n",
       "\t\t<td>35</td>\n",
       "\t\t<td>0.4857142857142855</td>\n",
       "\t\t<td>0.33333333333333315</td>\n",
       "\t\t<td>0.6140350877192983</td>\n",
       "\t\t<td>0.4583333333333333</td>\n",
       "\t</tr>\n",
       "\t<tr>\n",
       "\t\t<td>3</td>\n",
       "\t\t<td>36</td>\n",
       "\t\t<td>0.4857142857142855</td>\n",
       "\t\t<td>0.22222222222222218</td>\n",
       "\t\t<td>0.7719298245614034</td>\n",
       "\t\t<td>0.5416666666666666</td>\n",
       "\t</tr>\n",
       "\t<tr>\n",
       "\t\t<td>2</td>\n",
       "\t\t<td>39</td>\n",
       "\t\t<td>0.7428571428571428</td>\n",
       "\t\t<td>0.5555555555555556</td>\n",
       "\t\t<td>0.6140350877192983</td>\n",
       "\t\t<td>0.5416666666666666</td>\n",
       "\t</tr>\n",
       "\t<tr>\n",
       "\t\t<td>3</td>\n",
       "\t\t<td>128</td>\n",
       "\t\t<td>0.7999999999999999</td>\n",
       "\t\t<td>0.44444444444444436</td>\n",
       "\t\t<td>0.8070175438596491</td>\n",
       "\t\t<td>0.625</td>\n",
       "\t</tr>\n",
       "\t<tr>\n",
       "\t\t<td>3</td>\n",
       "\t\t<td>105</td>\n",
       "\t\t<td>0.5714285714285714</td>\n",
       "\t\t<td>0.5</td>\n",
       "\t\t<td>0.7543859649122806</td>\n",
       "\t\t<td>0.7083333333333334</td>\n",
       "\t</tr>\n",
       "\t<tr>\n",
       "\t\t<td>3</td>\n",
       "\t\t<td>86</td>\n",
       "\t\t<td>0.5428571428571427</td>\n",
       "\t\t<td>0.33333333333333315</td>\n",
       "\t\t<td>0.6842105263157894</td>\n",
       "\t\t<td>0.5833333333333334</td>\n",
       "\t</tr>\n",
       "\t<tr>\n",
       "\t\t<td>3</td>\n",
       "\t\t<td>87</td>\n",
       "\t\t<td>0.5428571428571427</td>\n",
       "\t\t<td>0.3888888888888888</td>\n",
       "\t\t<td>0.7719298245614034</td>\n",
       "\t\t<td>0.7083333333333334</td>\n",
       "\t</tr>\n",
       "\t<tr>\n",
       "\t\t<td>3</td>\n",
       "\t\t<td>136</td>\n",
       "\t\t<td>0.6571428571428571</td>\n",
       "\t\t<td>0.6111111111111109</td>\n",
       "\t\t<td>0.7894736842105263</td>\n",
       "\t\t<td>1.0</td>\n",
       "\t</tr>\n",
       "</table></html>"
      ],
      "text/plain": [
       "   species   id  sepal_length  sepal_width  petal_length  petal_width\n",
       "0        3   42      0.514286     0.333333      0.631579     0.708333\n",
       "1        1   17      0.285714     0.944444      0.017544     0.125000\n",
       "2        2   35      0.485714     0.333333      0.614035     0.458333\n",
       "3        3   36      0.485714     0.222222      0.771930     0.541667\n",
       "4        2   39      0.742857     0.555556      0.614035     0.541667\n",
       "5        3  128      0.800000     0.444444      0.807018     0.625000\n",
       "6        3  105      0.571429     0.500000      0.754386     0.708333\n",
       "7        3   86      0.542857     0.333333      0.684211     0.583333\n",
       "8        3   87      0.542857     0.388889      0.771930     0.708333\n",
       "9        3  136      0.657143     0.611111      0.789474     1.000000"
      ]
     },
     "metadata": {},
     "output_type": "display_data"
    },
    {
     "name": "stdout",
     "output_type": "stream",
     "text": [
      "                                                                                          \r"
     ]
    },
    {
     "data": {
      "text/html": [
       "Testing dataset sample after scaling:"
      ],
      "text/plain": [
       "<IPython.core.display.HTML object>"
      ]
     },
     "metadata": {},
     "output_type": "display_data"
    },
    {
     "data": {
      "text/html": [
       "<style type=\"text/css\">\n",
       "\ttable {border:ridge 5px;}\n",
       "\ttable td {border:inset 1px;}\n",
       "\ttable tr#HeaderRow {background-color:grey; color:white;}</style>\n",
       "<html><table>\n",
       "\t<tr id=\"HeaderRow\">\n",
       "\t\t<th>species</th>\n",
       "\t\t<th>id</th>\n",
       "\t\t<th>sepal_length</th>\n",
       "\t\t<th>sepal_width</th>\n",
       "\t\t<th>petal_length</th>\n",
       "\t\t<th>petal_width</th>\n",
       "\t</tr>\n",
       "\t<tr>\n",
       "\t\t<td>1</td>\n",
       "\t\t<td>29</td>\n",
       "\t\t<td>0.257142857142857</td>\n",
       "\t\t<td>0.8333333333333334</td>\n",
       "\t\t<td>0.052631578947368425</td>\n",
       "\t\t<td>0.04166666666666667</td>\n",
       "\t</tr>\n",
       "\t<tr>\n",
       "\t\t<td>2</td>\n",
       "\t\t<td>28</td>\n",
       "\t\t<td>0.5999999999999999</td>\n",
       "\t\t<td>0.33333333333333315</td>\n",
       "\t\t<td>0.5964912280701753</td>\n",
       "\t\t<td>0.5833333333333334</td>\n",
       "\t</tr>\n",
       "\t<tr>\n",
       "\t\t<td>3</td>\n",
       "\t\t<td>100</td>\n",
       "\t\t<td>0.6571428571428571</td>\n",
       "\t\t<td>0.16666666666666657</td>\n",
       "\t\t<td>0.8070175438596491</td>\n",
       "\t\t<td>0.7083333333333334</td>\n",
       "\t</tr>\n",
       "\t<tr>\n",
       "\t\t<td>1</td>\n",
       "\t\t<td>30</td>\n",
       "\t\t<td>0.17142857142857132</td>\n",
       "\t\t<td>0.5555555555555556</td>\n",
       "\t\t<td>0.0</td>\n",
       "\t\t<td>0.04166666666666667</td>\n",
       "\t</tr>\n",
       "\t<tr>\n",
       "\t\t<td>2</td>\n",
       "\t\t<td>130</td>\n",
       "\t\t<td>0.31428571428571417</td>\n",
       "\t\t<td>0.11111111111111098</td>\n",
       "\t\t<td>0.43859649122807015</td>\n",
       "\t\t<td>0.375</td>\n",
       "\t</tr>\n",
       "\t<tr>\n",
       "\t\t<td>3</td>\n",
       "\t\t<td>31</td>\n",
       "\t\t<td>0.5714285714285714</td>\n",
       "\t\t<td>0.33333333333333315</td>\n",
       "\t\t<td>0.7719298245614034</td>\n",
       "\t\t<td>0.8750000000000001</td>\n",
       "\t</tr>\n",
       "\t<tr>\n",
       "\t\t<td>2</td>\n",
       "\t\t<td>111</td>\n",
       "\t\t<td>0.457142857142857</td>\n",
       "\t\t<td>0.3888888888888888</td>\n",
       "\t\t<td>0.5789473684210525</td>\n",
       "\t\t<td>0.5833333333333334</td>\n",
       "\t</tr>\n",
       "\t<tr>\n",
       "\t\t<td>3</td>\n",
       "\t\t<td>110</td>\n",
       "\t\t<td>0.5428571428571427</td>\n",
       "\t\t<td>0.16666666666666657</td>\n",
       "\t\t<td>0.6666666666666666</td>\n",
       "\t\t<td>0.75</td>\n",
       "\t</tr>\n",
       "\t<tr>\n",
       "\t\t<td>3</td>\n",
       "\t\t<td>45</td>\n",
       "\t\t<td>0.5999999999999999</td>\n",
       "\t\t<td>0.44444444444444436</td>\n",
       "\t\t<td>0.7543859649122806</td>\n",
       "\t\t<td>0.7083333333333334</td>\n",
       "\t</tr>\n",
       "\t<tr>\n",
       "\t\t<td>1</td>\n",
       "\t\t<td>99</td>\n",
       "\t\t<td>-0.028571428571428723</td>\n",
       "\t\t<td>0.44444444444444436</td>\n",
       "\t\t<td>-0.017543859649122782</td>\n",
       "\t\t<td>0.0</td>\n",
       "\t</tr>\n",
       "</table></html>"
      ],
      "text/plain": [
       "   species   id  sepal_length  sepal_width  petal_length  petal_width\n",
       "0        1   29      0.257143     0.833333      0.052632     0.041667\n",
       "1        2   28      0.600000     0.333333      0.596491     0.583333\n",
       "2        3  100      0.657143     0.166667      0.807018     0.708333\n",
       "3        1   30      0.171429     0.555556      0.000000     0.041667\n",
       "4        2  130      0.314286     0.111111      0.438596     0.375000\n",
       "5        3   31      0.571429     0.333333      0.771930     0.875000\n",
       "6        2  111      0.457143     0.388889      0.578947     0.583333\n",
       "7        3  110      0.542857     0.166667      0.666667     0.750000\n",
       "8        3   45      0.600000     0.444444      0.754386     0.708333\n",
       "9        1   99     -0.028571     0.444444     -0.017544     0.000000"
      ]
     },
     "metadata": {},
     "output_type": "display_data"
    },
    {
     "name": "stdout",
     "output_type": "stream",
     "text": [
      "                                                                                          \r"
     ]
    },
    {
     "data": {
      "text/html": [
       "Total time taken by feature scaling: 36.28 sec"
      ],
      "text/plain": [
       "<IPython.core.display.HTML object>"
      ]
     },
     "metadata": {},
     "output_type": "display_data"
    },
    {
     "name": "stdout",
     "output_type": "stream",
     "text": [
      "                                                                                          \r"
     ]
    },
    {
     "data": {
      "text/html": [
       "\n",
       "Dimension Reduction using pca ..."
      ],
      "text/plain": [
       "<IPython.core.display.HTML object>"
      ]
     },
     "metadata": {},
     "output_type": "display_data"
    },
    {
     "name": "stdout",
     "output_type": "stream",
     "text": [
      "                                                                                          \r"
     ]
    },
    {
     "data": {
      "text/html": [
       "PCA columns:"
      ],
      "text/plain": [
       "<IPython.core.display.HTML object>"
      ]
     },
     "metadata": {},
     "output_type": "display_data"
    },
    {
     "name": "stdout",
     "output_type": "stream",
     "text": [
      "['col_0', 'col_1']\n",
      "                                                                                          \r"
     ]
    },
    {
     "data": {
      "text/html": [
       "Total time taken by PCA: 10.89 sec  "
      ],
      "text/plain": [
       "<IPython.core.display.HTML object>"
      ]
     },
     "metadata": {},
     "output_type": "display_data"
    },
    {
     "name": "stdout",
     "output_type": "stream",
     "text": [
      "                                                                                          \r"
     ]
    },
    {
     "data": {
      "text/html": [
       "\n",
       "            <style>\n",
       "                .custom-div {\n",
       "                    background-color: lightgray;\n",
       "                    color: #000000;\n",
       "                    padding: 10px;\n",
       "                    border-radius: 8px;\n",
       "                    box-shadow: 0 3px 4px rgba(0 -  0 -  0 -  0.2);\n",
       "                    margin-bottom: 10px;\n",
       "                    text-align: center;\n",
       "                }\n",
       "            </style>\n",
       "        <br><div class=\"custom-div\"><h3><span style=\"color: green;\">1. Feature Exploration -> 2. Feature Engineering -> 3. Data Preparation -></span> 4. Model Training & Evaluation<center></h3></center></div>"
      ],
      "text/plain": [
       "<IPython.core.display.HTML object>"
      ]
     },
     "metadata": {},
     "output_type": "display_data"
    },
    {
     "name": "stdout",
     "output_type": "stream",
     "text": [
      "                                                                                          \r"
     ]
    },
    {
     "data": {
      "text/html": [
       "Model Training started ..."
      ],
      "text/plain": [
       "<IPython.core.display.HTML object>"
      ]
     },
     "metadata": {},
     "output_type": "display_data"
    },
    {
     "name": "stdout",
     "output_type": "stream",
     "text": [
      "                                                                                          \r"
     ]
    },
    {
     "data": {
      "text/html": [
       "\n",
       "Starting customized hyperparameter update ..."
      ],
      "text/plain": [
       "<IPython.core.display.HTML object>"
      ]
     },
     "metadata": {},
     "output_type": "display_data"
    },
    {
     "name": "stdout",
     "output_type": "stream",
     "text": [
      "                                                                                          \n",
      "Completed customized hyperparameter update.\n",
      "                                                                                          \r"
     ]
    },
    {
     "data": {
      "text/html": [
       "\n",
       "Hyperparameters used for model training: "
      ],
      "text/plain": [
       "<IPython.core.display.HTML object>"
      ]
     },
     "metadata": {},
     "output_type": "display_data"
    },
    {
     "name": "stdout",
     "output_type": "stream",
     "text": [
      "response_column : species                                                                                                                             \n",
      "name : xgboost\n",
      "model_type : Classification\n",
      "column_sampling : (1, 0.6)\n",
      "min_impurity : (0.0, 0.1)\n",
      "lambda1 : (0.01, 0.1, 1, 10)\n",
      "shrinkage_factor : (0.5, 0.1, 0.2)\n",
      "max_depth : (3, 4, 5, 6, 7, 8)\n",
      "min_node_size : (1, 2)\n",
      "iter_num : (10, 20)\n",
      "Total number of models for xgboost : 1152\n",
      "--------------------------------------------------------------------------------------------------------------------------------------------------------------------------------------------------------\n",
      "\n",
      "                                                                                          \r"
     ]
    },
    {
     "data": {
      "text/html": [
       "\n",
       "Performing hyperParameter tuning ..."
      ],
      "text/plain": [
       "<IPython.core.display.HTML object>"
      ]
     },
     "metadata": {},
     "output_type": "display_data"
    },
    {
     "name": "stdout",
     "output_type": "stream",
     "text": [
      "                                                                                          \r"
     ]
    },
    {
     "data": {
      "text/html": [
       "xgboost"
      ],
      "text/plain": [
       "<IPython.core.display.HTML object>"
      ]
     },
     "metadata": {},
     "output_type": "display_data"
    },
    {
     "name": "stdout",
     "output_type": "stream",
     "text": [
      "XGBOOST_0                                                                                                                                                                                               \n",
      "XGBOOST_7                                                                                 \n",
      "XGBOOST_2                                                                                 \n",
      "                                                                                          \r"
     ]
    },
    {
     "data": {
      "text/html": [
       "----------------------------------------------------------------------------------------------------"
      ],
      "text/plain": [
       "<IPython.core.display.HTML object>"
      ]
     },
     "metadata": {},
     "output_type": "display_data"
    },
    {
     "name": "stdout",
     "output_type": "stream",
     "text": [
      "                                                                                          \r"
     ]
    },
    {
     "data": {
      "text/html": [
       "Evaluating models performance ..."
      ],
      "text/plain": [
       "<IPython.core.display.HTML object>"
      ]
     },
     "metadata": {},
     "output_type": "display_data"
    },
    {
     "name": "stdout",
     "output_type": "stream",
     "text": [
      "                                                                                          \r"
     ]
    },
    {
     "data": {
      "text/html": [
       "Evaluation completed."
      ],
      "text/plain": [
       "<IPython.core.display.HTML object>"
      ]
     },
     "metadata": {},
     "output_type": "display_data"
    },
    {
     "name": "stdout",
     "output_type": "stream",
     "text": [
      "                                                                                          \r"
     ]
    },
    {
     "data": {
      "text/html": [
       "Leaderboard"
      ],
      "text/plain": [
       "<IPython.core.display.HTML object>"
      ]
     },
     "metadata": {},
     "output_type": "display_data"
    },
    {
     "data": {
      "text/html": [
       "<div>\n",
       "<style scoped>\n",
       "    .dataframe tbody tr th:only-of-type {\n",
       "        vertical-align: middle;\n",
       "    }\n",
       "\n",
       "    .dataframe tbody tr th {\n",
       "        vertical-align: top;\n",
       "    }\n",
       "\n",
       "    .dataframe thead th {\n",
       "        text-align: right;\n",
       "    }\n",
       "</style>\n",
       "<table border=\"1\" class=\"dataframe\">\n",
       "  <thead>\n",
       "    <tr style=\"text-align: right;\">\n",
       "      <th></th>\n",
       "      <th>Rank</th>\n",
       "      <th>Name</th>\n",
       "      <th>Feature selection</th>\n",
       "      <th>Accuracy</th>\n",
       "      <th>Micro-Precision</th>\n",
       "      <th>Micro-Recall</th>\n",
       "      <th>Micro-F1</th>\n",
       "      <th>Macro-Precision</th>\n",
       "      <th>Macro-Recall</th>\n",
       "      <th>Macro-F1</th>\n",
       "      <th>Weighted-Precision</th>\n",
       "      <th>Weighted-Recall</th>\n",
       "      <th>Weighted-F1</th>\n",
       "    </tr>\n",
       "  </thead>\n",
       "  <tbody>\n",
       "    <tr>\n",
       "      <th>0</th>\n",
       "      <td>1</td>\n",
       "      <td>xgboost</td>\n",
       "      <td>pca</td>\n",
       "      <td>1.000000</td>\n",
       "      <td>1.000000</td>\n",
       "      <td>1.000000</td>\n",
       "      <td>1.000000</td>\n",
       "      <td>1.000000</td>\n",
       "      <td>1.000000</td>\n",
       "      <td>1.000000</td>\n",
       "      <td>1.00000</td>\n",
       "      <td>1.000000</td>\n",
       "      <td>1.000000</td>\n",
       "    </tr>\n",
       "    <tr>\n",
       "      <th>1</th>\n",
       "      <td>2</td>\n",
       "      <td>xgboost</td>\n",
       "      <td>lasso</td>\n",
       "      <td>0.277778</td>\n",
       "      <td>0.277778</td>\n",
       "      <td>0.277778</td>\n",
       "      <td>0.277778</td>\n",
       "      <td>0.092593</td>\n",
       "      <td>0.333333</td>\n",
       "      <td>0.144928</td>\n",
       "      <td>0.07716</td>\n",
       "      <td>0.277778</td>\n",
       "      <td>0.120773</td>\n",
       "    </tr>\n",
       "    <tr>\n",
       "      <th>2</th>\n",
       "      <td>3</td>\n",
       "      <td>xgboost</td>\n",
       "      <td>rfe</td>\n",
       "      <td>0.277778</td>\n",
       "      <td>0.277778</td>\n",
       "      <td>0.277778</td>\n",
       "      <td>0.277778</td>\n",
       "      <td>0.092593</td>\n",
       "      <td>0.333333</td>\n",
       "      <td>0.144928</td>\n",
       "      <td>0.07716</td>\n",
       "      <td>0.277778</td>\n",
       "      <td>0.120773</td>\n",
       "    </tr>\n",
       "  </tbody>\n",
       "</table>\n",
       "</div>"
      ],
      "text/plain": [
       "   Rank     Name Feature selection  Accuracy  Micro-Precision  Micro-Recall  \\\n",
       "0     1  xgboost               pca  1.000000         1.000000      1.000000   \n",
       "1     2  xgboost             lasso  0.277778         0.277778      0.277778   \n",
       "2     3  xgboost               rfe  0.277778         0.277778      0.277778   \n",
       "\n",
       "   Micro-F1  Macro-Precision  Macro-Recall  Macro-F1  Weighted-Precision  \\\n",
       "0  1.000000         1.000000      1.000000  1.000000             1.00000   \n",
       "1  0.277778         0.092593      0.333333  0.144928             0.07716   \n",
       "2  0.277778         0.092593      0.333333  0.144928             0.07716   \n",
       "\n",
       "   Weighted-Recall  Weighted-F1  \n",
       "0         1.000000     1.000000  \n",
       "1         0.277778     0.120773  \n",
       "2         0.277778     0.120773  "
      ]
     },
     "metadata": {},
     "output_type": "display_data"
    },
    {
     "name": "stdout",
     "output_type": "stream",
     "text": [
      "                                                                                          \r"
     ]
    },
    {
     "data": {
      "text/html": [
       "\n",
       "            <style>\n",
       "                .custom-div {\n",
       "                    background-color: lightgray;\n",
       "                    color: #000000;\n",
       "                    padding: 10px;\n",
       "                    border-radius: 8px;\n",
       "                    box-shadow: 0 3px 4px rgba(0 -  0 -  0 -  0.2);\n",
       "                    margin-bottom: 10px;\n",
       "                    text-align: center;\n",
       "                }\n",
       "            </style>\n",
       "        <br><div class=\"custom-div\"><h3><span style=\"color: green;\">1. Feature Exploration -> 2. Feature Engineering -> 3. Data Preparation -> 4. Model Training & Evaluation</span><center></h3></center></div>"
      ],
      "text/plain": [
       "<IPython.core.display.HTML object>"
      ]
     },
     "metadata": {},
     "output_type": "display_data"
    },
    {
     "name": "stdout",
     "output_type": "stream",
     "text": [
      "Completed: ｜⫿⫿⫿⫿⫿⫿⫿⫿⫿⫿⫿⫿⫿⫿⫿⫿⫿⫿⫿⫿⫿⫿⫿⫿⫿⫿⫿⫿⫿⫿⫿⫿⫿⫿⫿⫿⫿⫿⫿⫿⫿⫿⫿⫿⫿⫿⫿⫿⫿⫿⫿⫿⫿⫿⫿⫿⫿⫿⫿⫿｜ 100% - 19/19    \r"
     ]
    }
   ],
   "source": [
    "# Fitting train data\n",
    "aml.fit(iris_train, iris_train.species)"
   ]
  },
  {
   "cell_type": "markdown",
   "id": "23a04eb1-68e6-48b7-95aa-442f434809da",
   "metadata": {},
   "source": [
    "## <b><span style='color:#F1A424'>| 3.</span> Leaderboard : </b>"
   ]
  },
  {
   "cell_type": "code",
   "execution_count": 19,
   "id": "77de1099-6122-4f8a-8e7f-dd67e5b4ced4",
   "metadata": {},
   "outputs": [
    {
     "data": {
      "text/html": [
       "<div>\n",
       "<style scoped>\n",
       "    .dataframe tbody tr th:only-of-type {\n",
       "        vertical-align: middle;\n",
       "    }\n",
       "\n",
       "    .dataframe tbody tr th {\n",
       "        vertical-align: top;\n",
       "    }\n",
       "\n",
       "    .dataframe thead th {\n",
       "        text-align: right;\n",
       "    }\n",
       "</style>\n",
       "<table border=\"1\" class=\"dataframe\">\n",
       "  <thead>\n",
       "    <tr style=\"text-align: right;\">\n",
       "      <th></th>\n",
       "      <th>Rank</th>\n",
       "      <th>Name</th>\n",
       "      <th>Feature selection</th>\n",
       "      <th>Accuracy</th>\n",
       "      <th>Micro-Precision</th>\n",
       "      <th>Micro-Recall</th>\n",
       "      <th>Micro-F1</th>\n",
       "      <th>Macro-Precision</th>\n",
       "      <th>Macro-Recall</th>\n",
       "      <th>Macro-F1</th>\n",
       "      <th>Weighted-Precision</th>\n",
       "      <th>Weighted-Recall</th>\n",
       "      <th>Weighted-F1</th>\n",
       "    </tr>\n",
       "  </thead>\n",
       "  <tbody>\n",
       "    <tr>\n",
       "      <th>0</th>\n",
       "      <td>1</td>\n",
       "      <td>xgboost</td>\n",
       "      <td>pca</td>\n",
       "      <td>1.000000</td>\n",
       "      <td>1.000000</td>\n",
       "      <td>1.000000</td>\n",
       "      <td>1.000000</td>\n",
       "      <td>1.000000</td>\n",
       "      <td>1.000000</td>\n",
       "      <td>1.000000</td>\n",
       "      <td>1.00000</td>\n",
       "      <td>1.000000</td>\n",
       "      <td>1.000000</td>\n",
       "    </tr>\n",
       "    <tr>\n",
       "      <th>1</th>\n",
       "      <td>2</td>\n",
       "      <td>xgboost</td>\n",
       "      <td>lasso</td>\n",
       "      <td>0.277778</td>\n",
       "      <td>0.277778</td>\n",
       "      <td>0.277778</td>\n",
       "      <td>0.277778</td>\n",
       "      <td>0.092593</td>\n",
       "      <td>0.333333</td>\n",
       "      <td>0.144928</td>\n",
       "      <td>0.07716</td>\n",
       "      <td>0.277778</td>\n",
       "      <td>0.120773</td>\n",
       "    </tr>\n",
       "    <tr>\n",
       "      <th>2</th>\n",
       "      <td>3</td>\n",
       "      <td>xgboost</td>\n",
       "      <td>rfe</td>\n",
       "      <td>0.277778</td>\n",
       "      <td>0.277778</td>\n",
       "      <td>0.277778</td>\n",
       "      <td>0.277778</td>\n",
       "      <td>0.092593</td>\n",
       "      <td>0.333333</td>\n",
       "      <td>0.144928</td>\n",
       "      <td>0.07716</td>\n",
       "      <td>0.277778</td>\n",
       "      <td>0.120773</td>\n",
       "    </tr>\n",
       "  </tbody>\n",
       "</table>\n",
       "</div>"
      ],
      "text/plain": [
       "   Rank     Name Feature selection  Accuracy  Micro-Precision  Micro-Recall  \\\n",
       "0     1  xgboost               pca  1.000000         1.000000      1.000000   \n",
       "1     2  xgboost             lasso  0.277778         0.277778      0.277778   \n",
       "2     3  xgboost               rfe  0.277778         0.277778      0.277778   \n",
       "\n",
       "   Micro-F1  Macro-Precision  Macro-Recall  Macro-F1  Weighted-Precision  \\\n",
       "0  1.000000         1.000000      1.000000  1.000000             1.00000   \n",
       "1  0.277778         0.092593      0.333333  0.144928             0.07716   \n",
       "2  0.277778         0.092593      0.333333  0.144928             0.07716   \n",
       "\n",
       "   Weighted-Recall  Weighted-F1  \n",
       "0         1.000000     1.000000  \n",
       "1         0.277778     0.120773  \n",
       "2         0.277778     0.120773  "
      ]
     },
     "execution_count": 19,
     "metadata": {},
     "output_type": "execute_result"
    }
   ],
   "source": [
    "# Fetching Leaderboard\n",
    "aml.leaderboard()"
   ]
  },
  {
   "cell_type": "markdown",
   "id": "a7a3aa08-e349-4a61-9217-2c17d50411d8",
   "metadata": {},
   "source": [
    "## <b><span style='color:#F1A424'>| 4.</span> Best Performing Model : </b>"
   ]
  },
  {
   "cell_type": "code",
   "execution_count": 20,
   "id": "c4c32832-a76b-4f42-826a-cefc38a6301b",
   "metadata": {},
   "outputs": [
    {
     "data": {
      "text/html": [
       "<div>\n",
       "<style scoped>\n",
       "    .dataframe tbody tr th:only-of-type {\n",
       "        vertical-align: middle;\n",
       "    }\n",
       "\n",
       "    .dataframe tbody tr th {\n",
       "        vertical-align: top;\n",
       "    }\n",
       "\n",
       "    .dataframe thead th {\n",
       "        text-align: right;\n",
       "    }\n",
       "</style>\n",
       "<table border=\"1\" class=\"dataframe\">\n",
       "  <thead>\n",
       "    <tr style=\"text-align: right;\">\n",
       "      <th></th>\n",
       "      <th>Rank</th>\n",
       "      <th>Name</th>\n",
       "      <th>Feature selection</th>\n",
       "      <th>Accuracy</th>\n",
       "      <th>Micro-Precision</th>\n",
       "      <th>Micro-Recall</th>\n",
       "      <th>Micro-F1</th>\n",
       "      <th>Macro-Precision</th>\n",
       "      <th>Macro-Recall</th>\n",
       "      <th>Macro-F1</th>\n",
       "      <th>Weighted-Precision</th>\n",
       "      <th>Weighted-Recall</th>\n",
       "      <th>Weighted-F1</th>\n",
       "    </tr>\n",
       "  </thead>\n",
       "  <tbody>\n",
       "    <tr>\n",
       "      <th>0</th>\n",
       "      <td>1</td>\n",
       "      <td>xgboost</td>\n",
       "      <td>pca</td>\n",
       "      <td>1.0</td>\n",
       "      <td>1.0</td>\n",
       "      <td>1.0</td>\n",
       "      <td>1.0</td>\n",
       "      <td>1.0</td>\n",
       "      <td>1.0</td>\n",
       "      <td>1.0</td>\n",
       "      <td>1.0</td>\n",
       "      <td>1.0</td>\n",
       "      <td>1.0</td>\n",
       "    </tr>\n",
       "  </tbody>\n",
       "</table>\n",
       "</div>"
      ],
      "text/plain": [
       "   Rank     Name Feature selection  Accuracy  Micro-Precision  Micro-Recall  \\\n",
       "0     1  xgboost               pca       1.0              1.0           1.0   \n",
       "\n",
       "   Micro-F1  Macro-Precision  Macro-Recall  Macro-F1  Weighted-Precision  \\\n",
       "0       1.0              1.0           1.0       1.0                 1.0   \n",
       "\n",
       "   Weighted-Recall  Weighted-F1  \n",
       "0              1.0          1.0  "
      ]
     },
     "metadata": {},
     "output_type": "display_data"
    }
   ],
   "source": [
    "# Fetching best performing model for dataset\n",
    "aml.leader()"
   ]
  },
  {
   "cell_type": "markdown",
   "id": "e43181a9-3847-4e8b-b510-6da81f1c550f",
   "metadata": {},
   "source": [
    "## <b><span style='color:#F1A424'>| 5.</span> Generating Prediction : </b>"
   ]
  },
  {
   "cell_type": "markdown",
   "id": "8bf3bed8-dbdd-4239-97da-f289559c785c",
   "metadata": {},
   "source": [
    "### <b><span style='color:#F1A424'>| 5.1.</span> Generating prediction on default validation test data </b>"
   ]
  },
  {
   "cell_type": "code",
   "execution_count": 21,
   "id": "27663268-da3c-4717-b675-6d3a6d6f8f37",
   "metadata": {},
   "outputs": [
    {
     "name": "stdout",
     "output_type": "stream",
     "text": [
      "xgboost pca\n",
      "\n",
      " Prediction : \n",
      "   species   id  Prediction  Confidence_Lower  Confidence_upper\n",
      "0        2   28           2             0.625             0.625\n",
      "1        1   30           1             1.000             1.000\n",
      "2        3   31           3             1.000             1.000\n",
      "3        1   99           1             1.000             1.000\n",
      "4        3   45           3             0.875             0.875\n",
      "5        3  110           3             0.750             0.750\n",
      "6        3  100           3             0.750             0.750\n",
      "7        1   29           1             1.000             1.000\n",
      "8        3   27           3             0.875             0.875\n",
      "9        2  130           2             0.875             0.875\n",
      "\n",
      " Performance Metrics : \n",
      "       Prediction  Mapping  CLASS_1  CLASS_2  CLASS_3  Precision  Recall   F1  Support\n",
      "SeqNum                                                                                \n",
      "2               3  CLASS_3        0        0        7        1.0     1.0  1.0        7\n",
      "1               2  CLASS_2        0        6        0        1.0     1.0  1.0        6\n",
      "0               1  CLASS_1        5        0        0        1.0     1.0  1.0        5\n",
      "\n",
      " Confusion Matrix : \n"
     ]
    },
    {
     "data": {
      "text/plain": [
       "array([[5, 0, 0],\n",
       "       [0, 6, 0],\n",
       "       [0, 0, 7]], dtype=int64)"
      ]
     },
     "metadata": {},
     "output_type": "display_data"
    }
   ],
   "source": [
    "# Generating prediction and metrics on default test data\n",
    "prediction = aml.predict()"
   ]
  },
  {
   "cell_type": "code",
   "execution_count": 22,
   "id": "742da363-550e-43e9-8c4b-d5feac54f522",
   "metadata": {},
   "outputs": [
    {
     "data": {
      "text/html": [
       "<style type=\"text/css\">\n",
       "\ttable {border:ridge 5px;}\n",
       "\ttable td {border:inset 1px;}\n",
       "\ttable tr#HeaderRow {background-color:grey; color:white;}</style>\n",
       "<html><table>\n",
       "\t<tr id=\"HeaderRow\">\n",
       "\t\t<th>species</th>\n",
       "\t\t<th>id</th>\n",
       "\t\t<th>Prediction</th>\n",
       "\t\t<th>Confidence_Lower</th>\n",
       "\t\t<th>Confidence_upper</th>\n",
       "\t</tr>\n",
       "\t<tr>\n",
       "\t\t<td>1</td>\n",
       "\t\t<td>135</td>\n",
       "\t\t<td>1</td>\n",
       "\t\t<td>1.0</td>\n",
       "\t\t<td>1.0</td>\n",
       "\t</tr>\n",
       "\t<tr>\n",
       "\t\t<td>1</td>\n",
       "\t\t<td>29</td>\n",
       "\t\t<td>1</td>\n",
       "\t\t<td>1.0</td>\n",
       "\t\t<td>1.0</td>\n",
       "\t</tr>\n",
       "\t<tr>\n",
       "\t\t<td>2</td>\n",
       "\t\t<td>101</td>\n",
       "\t\t<td>2</td>\n",
       "\t\t<td>0.875</td>\n",
       "\t\t<td>0.875</td>\n",
       "\t</tr>\n",
       "\t<tr>\n",
       "\t\t<td>2</td>\n",
       "\t\t<td>28</td>\n",
       "\t\t<td>2</td>\n",
       "\t\t<td>0.625</td>\n",
       "\t\t<td>0.625</td>\n",
       "\t</tr>\n",
       "\t<tr>\n",
       "\t\t<td>2</td>\n",
       "\t\t<td>111</td>\n",
       "\t\t<td>2</td>\n",
       "\t\t<td>0.625</td>\n",
       "\t\t<td>0.625</td>\n",
       "\t</tr>\n",
       "\t<tr>\n",
       "\t\t<td>2</td>\n",
       "\t\t<td>118</td>\n",
       "\t\t<td>2</td>\n",
       "\t\t<td>0.75</td>\n",
       "\t\t<td>0.75</td>\n",
       "\t</tr>\n",
       "\t<tr>\n",
       "\t\t<td>2</td>\n",
       "\t\t<td>115</td>\n",
       "\t\t<td>2</td>\n",
       "\t\t<td>0.625</td>\n",
       "\t\t<td>0.625</td>\n",
       "\t</tr>\n",
       "\t<tr>\n",
       "\t\t<td>1</td>\n",
       "\t\t<td>99</td>\n",
       "\t\t<td>1</td>\n",
       "\t\t<td>1.0</td>\n",
       "\t\t<td>1.0</td>\n",
       "\t</tr>\n",
       "\t<tr>\n",
       "\t\t<td>1</td>\n",
       "\t\t<td>30</td>\n",
       "\t\t<td>1</td>\n",
       "\t\t<td>1.0</td>\n",
       "\t\t<td>1.0</td>\n",
       "\t</tr>\n",
       "\t<tr>\n",
       "\t\t<td>1</td>\n",
       "\t\t<td>116</td>\n",
       "\t\t<td>1</td>\n",
       "\t\t<td>1.0</td>\n",
       "\t\t<td>1.0</td>\n",
       "\t</tr>\n",
       "</table></html>"
      ],
      "text/plain": [
       "   species   id  Prediction  Confidence_Lower  Confidence_upper\n",
       "0        1  135           1             1.000             1.000\n",
       "1        1   29           1             1.000             1.000\n",
       "2        2  101           2             0.875             0.875\n",
       "3        2   28           2             0.625             0.625\n",
       "4        2  111           2             0.625             0.625\n",
       "5        2  118           2             0.750             0.750\n",
       "6        2  115           2             0.625             0.625\n",
       "7        1   99           1             1.000             1.000\n",
       "8        1   30           1             1.000             1.000\n",
       "9        1  116           1             1.000             1.000"
      ]
     },
     "execution_count": 22,
     "metadata": {},
     "output_type": "execute_result"
    }
   ],
   "source": [
    "# Printing prediction\n",
    "prediction.head()"
   ]
  },
  {
   "cell_type": "markdown",
   "id": "ff38e5a7-70a4-4e80-9728-3b5e93b62344",
   "metadata": {},
   "source": [
    "### <b><span style='color:#F1A424'>| 5.2. </span> Generating prediction on external test data </b>"
   ]
  },
  {
   "cell_type": "code",
   "execution_count": 23,
   "id": "5b6edfe3-bd5a-46bd-ad80-b20fadfed7a0",
   "metadata": {},
   "outputs": [
    {
     "name": "stdout",
     "output_type": "stream",
     "text": [
      "Data Transformation started ...\n",
      "Performing transformation carried out in feature engineering phase ...\n",
      "\n",
      "Updated dataset after dropping irrelevent columns :\n"
     ]
    },
    {
     "data": {
      "text/html": [
       "<style type=\"text/css\">\n",
       "\ttable {border:ridge 5px;}\n",
       "\ttable td {border:inset 1px;}\n",
       "\ttable tr#HeaderRow {background-color:grey; color:white;}</style>\n",
       "<html><table>\n",
       "\t<tr id=\"HeaderRow\">\n",
       "\t\t<th>sepal_length</th>\n",
       "\t\t<th>sepal_width</th>\n",
       "\t\t<th>petal_length</th>\n",
       "\t\t<th>petal_width</th>\n",
       "\t\t<th>species</th>\n",
       "\t</tr>\n",
       "\t<tr>\n",
       "\t\t<td>4.9</td>\n",
       "\t\t<td>3.6</td>\n",
       "\t\t<td>1.4</td>\n",
       "\t\t<td>0.1</td>\n",
       "\t\t<td>1</td>\n",
       "\t</tr>\n",
       "\t<tr>\n",
       "\t\t<td>5.6</td>\n",
       "\t\t<td>2.7</td>\n",
       "\t\t<td>4.2</td>\n",
       "\t\t<td>1.3</td>\n",
       "\t\t<td>2</td>\n",
       "\t</tr>\n",
       "\t<tr>\n",
       "\t\t<td>5.0</td>\n",
       "\t\t<td>3.5</td>\n",
       "\t\t<td>1.3</td>\n",
       "\t\t<td>0.3</td>\n",
       "\t\t<td>1</td>\n",
       "\t</tr>\n",
       "\t<tr>\n",
       "\t\t<td>5.8</td>\n",
       "\t\t<td>2.6</td>\n",
       "\t\t<td>4.0</td>\n",
       "\t\t<td>1.2</td>\n",
       "\t\t<td>2</td>\n",
       "\t</tr>\n",
       "\t<tr>\n",
       "\t\t<td>4.7</td>\n",
       "\t\t<td>3.2</td>\n",
       "\t\t<td>1.3</td>\n",
       "\t\t<td>0.2</td>\n",
       "\t\t<td>1</td>\n",
       "\t</tr>\n",
       "\t<tr>\n",
       "\t\t<td>5.5</td>\n",
       "\t\t<td>2.3</td>\n",
       "\t\t<td>4.0</td>\n",
       "\t\t<td>1.3</td>\n",
       "\t\t<td>2</td>\n",
       "\t</tr>\n",
       "\t<tr>\n",
       "\t\t<td>6.7</td>\n",
       "\t\t<td>3.0</td>\n",
       "\t\t<td>5.0</td>\n",
       "\t\t<td>1.7</td>\n",
       "\t\t<td>2</td>\n",
       "\t</tr>\n",
       "\t<tr>\n",
       "\t\t<td>6.0</td>\n",
       "\t\t<td>3.0</td>\n",
       "\t\t<td>4.8</td>\n",
       "\t\t<td>1.8</td>\n",
       "\t\t<td>3</td>\n",
       "\t</tr>\n",
       "\t<tr>\n",
       "\t\t<td>5.6</td>\n",
       "\t\t<td>3.0</td>\n",
       "\t\t<td>4.1</td>\n",
       "\t\t<td>1.3</td>\n",
       "\t\t<td>2</td>\n",
       "\t</tr>\n",
       "\t<tr>\n",
       "\t\t<td>6.1</td>\n",
       "\t\t<td>2.9</td>\n",
       "\t\t<td>4.7</td>\n",
       "\t\t<td>1.4</td>\n",
       "\t\t<td>2</td>\n",
       "\t</tr>\n",
       "</table></html>"
      ],
      "text/plain": [
       "   sepal_length  sepal_width  petal_length  petal_width  species\n",
       "0           4.9          3.6           1.4          0.1        1\n",
       "1           5.6          2.7           4.2          1.3        2\n",
       "2           5.0          3.5           1.3          0.3        1\n",
       "3           5.8          2.6           4.0          1.2        2\n",
       "4           4.7          3.2           1.3          0.2        1\n",
       "5           5.5          2.3           4.0          1.3        2\n",
       "6           6.7          3.0           5.0          1.7        2\n",
       "7           6.0          3.0           4.8          1.8        3\n",
       "8           5.6          3.0           4.1          1.3        2\n",
       "9           6.1          2.9           4.7          1.4        2"
      ]
     },
     "metadata": {},
     "output_type": "display_data"
    },
    {
     "name": "stdout",
     "output_type": "stream",
     "text": [
      "\n",
      "Updated dataset after performing target column transformation :\n"
     ]
    },
    {
     "data": {
      "text/html": [
       "<style type=\"text/css\">\n",
       "\ttable {border:ridge 5px;}\n",
       "\ttable td {border:inset 1px;}\n",
       "\ttable tr#HeaderRow {background-color:grey; color:white;}</style>\n",
       "<html><table>\n",
       "\t<tr id=\"HeaderRow\">\n",
       "\t\t<th>sepal_length</th>\n",
       "\t\t<th>sepal_width</th>\n",
       "\t\t<th>id</th>\n",
       "\t\t<th>petal_length</th>\n",
       "\t\t<th>petal_width</th>\n",
       "\t\t<th>species</th>\n",
       "\t</tr>\n",
       "\t<tr>\n",
       "\t\t<td>5.7</td>\n",
       "\t\t<td>3.8</td>\n",
       "\t\t<td>11</td>\n",
       "\t\t<td>1.7</td>\n",
       "\t\t<td>0.3</td>\n",
       "\t\t<td>1</td>\n",
       "\t</tr>\n",
       "\t<tr>\n",
       "\t\t<td>5.8</td>\n",
       "\t\t<td>2.6</td>\n",
       "\t\t<td>8</td>\n",
       "\t\t<td>4.0</td>\n",
       "\t\t<td>1.2</td>\n",
       "\t\t<td>2</td>\n",
       "\t</tr>\n",
       "\t<tr>\n",
       "\t\t<td>5.0</td>\n",
       "\t\t<td>3.4</td>\n",
       "\t\t<td>16</td>\n",
       "\t\t<td>1.5</td>\n",
       "\t\t<td>0.2</td>\n",
       "\t\t<td>1</td>\n",
       "\t</tr>\n",
       "\t<tr>\n",
       "\t\t<td>5.6</td>\n",
       "\t\t<td>2.7</td>\n",
       "\t\t<td>13</td>\n",
       "\t\t<td>4.2</td>\n",
       "\t\t<td>1.3</td>\n",
       "\t\t<td>2</td>\n",
       "\t</tr>\n",
       "\t<tr>\n",
       "\t\t<td>6.3</td>\n",
       "\t\t<td>3.3</td>\n",
       "\t\t<td>10</td>\n",
       "\t\t<td>4.7</td>\n",
       "\t\t<td>1.6</td>\n",
       "\t\t<td>2</td>\n",
       "\t</tr>\n",
       "\t<tr>\n",
       "\t\t<td>7.2</td>\n",
       "\t\t<td>3.6</td>\n",
       "\t\t<td>18</td>\n",
       "\t\t<td>6.1</td>\n",
       "\t\t<td>2.5</td>\n",
       "\t\t<td>3</td>\n",
       "\t</tr>\n",
       "\t<tr>\n",
       "\t\t<td>6.7</td>\n",
       "\t\t<td>3.0</td>\n",
       "\t\t<td>15</td>\n",
       "\t\t<td>5.0</td>\n",
       "\t\t<td>1.7</td>\n",
       "\t\t<td>2</td>\n",
       "\t</tr>\n",
       "\t<tr>\n",
       "\t\t<td>6.0</td>\n",
       "\t\t<td>3.0</td>\n",
       "\t\t<td>23</td>\n",
       "\t\t<td>4.8</td>\n",
       "\t\t<td>1.8</td>\n",
       "\t\t<td>3</td>\n",
       "\t</tr>\n",
       "\t<tr>\n",
       "\t\t<td>4.7</td>\n",
       "\t\t<td>3.2</td>\n",
       "\t\t<td>14</td>\n",
       "\t\t<td>1.3</td>\n",
       "\t\t<td>0.2</td>\n",
       "\t\t<td>1</td>\n",
       "\t</tr>\n",
       "\t<tr>\n",
       "\t\t<td>5.5</td>\n",
       "\t\t<td>2.3</td>\n",
       "\t\t<td>22</td>\n",
       "\t\t<td>4.0</td>\n",
       "\t\t<td>1.3</td>\n",
       "\t\t<td>2</td>\n",
       "\t</tr>\n",
       "</table></html>"
      ],
      "text/plain": [
       "   sepal_length  sepal_width  id  petal_length  petal_width  species\n",
       "0           5.7          3.8  11           1.7          0.3        1\n",
       "1           5.8          2.6   8           4.0          1.2        2\n",
       "2           5.0          3.4  16           1.5          0.2        1\n",
       "3           5.6          2.7  13           4.2          1.3        2\n",
       "4           6.3          3.3  10           4.7          1.6        2\n",
       "5           7.2          3.6  18           6.1          2.5        3\n",
       "6           6.7          3.0  15           5.0          1.7        2\n",
       "7           6.0          3.0  23           4.8          1.8        3\n",
       "8           4.7          3.2  14           1.3          0.2        1\n",
       "9           5.5          2.3  22           4.0          1.3        2"
      ]
     },
     "metadata": {},
     "output_type": "display_data"
    },
    {
     "name": "stdout",
     "output_type": "stream",
     "text": [
      "Performing transformation carried out in data preparation phase ...\n",
      "result data stored in table '\"AUTOML_USR\".\"ml__td_sqlmr_persist_out__1711276869963041\"'\n",
      "\n",
      "Updated dataset after performing Lasso feature selection:\n"
     ]
    },
    {
     "data": {
      "text/html": [
       "<style type=\"text/css\">\n",
       "\ttable {border:ridge 5px;}\n",
       "\ttable td {border:inset 1px;}\n",
       "\ttable tr#HeaderRow {background-color:grey; color:white;}</style>\n",
       "<html><table>\n",
       "\t<tr id=\"HeaderRow\">\n",
       "\t\t<th>id</th>\n",
       "\t\t<th>sepal_width</th>\n",
       "\t\t<th>petal_length</th>\n",
       "\t\t<th>sepal_length</th>\n",
       "\t\t<th>petal_width</th>\n",
       "\t\t<th>species</th>\n",
       "\t</tr>\n",
       "\t<tr>\n",
       "\t\t<td>21</td>\n",
       "\t\t<td>3.5</td>\n",
       "\t\t<td>1.3</td>\n",
       "\t\t<td>5.0</td>\n",
       "\t\t<td>0.3</td>\n",
       "\t\t<td>1</td>\n",
       "\t</tr>\n",
       "\t<tr>\n",
       "\t\t<td>35</td>\n",
       "\t\t<td>3.4</td>\n",
       "\t\t<td>1.7</td>\n",
       "\t\t<td>5.4</td>\n",
       "\t\t<td>0.2</td>\n",
       "\t\t<td>1</td>\n",
       "\t</tr>\n",
       "\t<tr>\n",
       "\t\t<td>14</td>\n",
       "\t\t<td>3.2</td>\n",
       "\t\t<td>1.3</td>\n",
       "\t\t<td>4.7</td>\n",
       "\t\t<td>0.2</td>\n",
       "\t\t<td>1</td>\n",
       "\t</tr>\n",
       "\t<tr>\n",
       "\t\t<td>30</td>\n",
       "\t\t<td>3.5</td>\n",
       "\t\t<td>1.6</td>\n",
       "\t\t<td>5.0</td>\n",
       "\t\t<td>0.6</td>\n",
       "\t\t<td>1</td>\n",
       "\t</tr>\n",
       "\t<tr>\n",
       "\t\t<td>12</td>\n",
       "\t\t<td>3.6</td>\n",
       "\t\t<td>1.4</td>\n",
       "\t\t<td>4.9</td>\n",
       "\t\t<td>0.1</td>\n",
       "\t\t<td>1</td>\n",
       "\t</tr>\n",
       "\t<tr>\n",
       "\t\t<td>39</td>\n",
       "\t\t<td>3.1</td>\n",
       "\t\t<td>1.5</td>\n",
       "\t\t<td>4.9</td>\n",
       "\t\t<td>0.1</td>\n",
       "\t\t<td>1</td>\n",
       "\t</tr>\n",
       "\t<tr>\n",
       "\t\t<td>18</td>\n",
       "\t\t<td>3.6</td>\n",
       "\t\t<td>6.1</td>\n",
       "\t\t<td>7.2</td>\n",
       "\t\t<td>2.5</td>\n",
       "\t\t<td>3</td>\n",
       "\t</tr>\n",
       "\t<tr>\n",
       "\t\t<td>25</td>\n",
       "\t\t<td>2.7</td>\n",
       "\t\t<td>5.1</td>\n",
       "\t\t<td>5.8</td>\n",
       "\t\t<td>1.9</td>\n",
       "\t\t<td>3</td>\n",
       "\t</tr>\n",
       "\t<tr>\n",
       "\t\t<td>38</td>\n",
       "\t\t<td>2.7</td>\n",
       "\t\t<td>4.9</td>\n",
       "\t\t<td>6.3</td>\n",
       "\t\t<td>1.8</td>\n",
       "\t\t<td>3</td>\n",
       "\t</tr>\n",
       "\t<tr>\n",
       "\t\t<td>34</td>\n",
       "\t\t<td>3.0</td>\n",
       "\t\t<td>5.8</td>\n",
       "\t\t<td>6.5</td>\n",
       "\t\t<td>2.2</td>\n",
       "\t\t<td>3</td>\n",
       "\t</tr>\n",
       "</table></html>"
      ],
      "text/plain": [
       "         id  sepal_width  petal_length  sepal_length  petal_width\n",
       "species                                                          \n",
       "1        21          3.5           1.3           5.0          0.3\n",
       "1        35          3.4           1.7           5.4          0.2\n",
       "1        14          3.2           1.3           4.7          0.2\n",
       "1        30          3.5           1.6           5.0          0.6\n",
       "1        12          3.6           1.4           4.9          0.1\n",
       "1        39          3.1           1.5           4.9          0.1\n",
       "3        18          3.6           6.1           7.2          2.5\n",
       "3        25          2.7           5.1           5.8          1.9\n",
       "3        38          2.7           4.9           6.3          1.8\n",
       "3        34          3.0           5.8           6.5          2.2"
      ]
     },
     "metadata": {},
     "output_type": "display_data"
    },
    {
     "name": "stdout",
     "output_type": "stream",
     "text": [
      "\n",
      "Updated dataset after performing scaling on Lasso selected features :\n"
     ]
    },
    {
     "data": {
      "text/html": [
       "<style type=\"text/css\">\n",
       "\ttable {border:ridge 5px;}\n",
       "\ttable td {border:inset 1px;}\n",
       "\ttable tr#HeaderRow {background-color:grey; color:white;}</style>\n",
       "<html><table>\n",
       "\t<tr id=\"HeaderRow\">\n",
       "\t\t<th>species</th>\n",
       "\t\t<th>id</th>\n",
       "\t\t<th>sepal_width</th>\n",
       "\t\t<th>petal_length</th>\n",
       "\t\t<th>sepal_length</th>\n",
       "\t\t<th>petal_width</th>\n",
       "\t</tr>\n",
       "\t<tr>\n",
       "\t\t<td>1</td>\n",
       "\t\t<td>21</td>\n",
       "\t\t<td>0.7222222222222222</td>\n",
       "\t\t<td>0.017543859649122823</td>\n",
       "\t\t<td>0.17142857142857132</td>\n",
       "\t\t<td>0.08333333333333333</td>\n",
       "\t</tr>\n",
       "\t<tr>\n",
       "\t\t<td>1</td>\n",
       "\t\t<td>35</td>\n",
       "\t\t<td>0.6666666666666666</td>\n",
       "\t\t<td>0.08771929824561403</td>\n",
       "\t\t<td>0.2857142857142857</td>\n",
       "\t\t<td>0.04166666666666667</td>\n",
       "\t</tr>\n",
       "\t<tr>\n",
       "\t\t<td>1</td>\n",
       "\t\t<td>14</td>\n",
       "\t\t<td>0.5555555555555556</td>\n",
       "\t\t<td>0.017543859649122823</td>\n",
       "\t\t<td>0.08571428571428566</td>\n",
       "\t\t<td>0.04166666666666667</td>\n",
       "\t</tr>\n",
       "\t<tr>\n",
       "\t\t<td>1</td>\n",
       "\t\t<td>30</td>\n",
       "\t\t<td>0.7222222222222222</td>\n",
       "\t\t<td>0.07017543859649125</td>\n",
       "\t\t<td>0.17142857142857132</td>\n",
       "\t\t<td>0.20833333333333334</td>\n",
       "\t</tr>\n",
       "\t<tr>\n",
       "\t\t<td>1</td>\n",
       "\t\t<td>12</td>\n",
       "\t\t<td>0.7777777777777778</td>\n",
       "\t\t<td>0.035087719298245605</td>\n",
       "\t\t<td>0.14285714285714285</td>\n",
       "\t\t<td>0.0</td>\n",
       "\t</tr>\n",
       "\t<tr>\n",
       "\t\t<td>1</td>\n",
       "\t\t<td>39</td>\n",
       "\t\t<td>0.5</td>\n",
       "\t\t<td>0.052631578947368425</td>\n",
       "\t\t<td>0.14285714285714285</td>\n",
       "\t\t<td>0.0</td>\n",
       "\t</tr>\n",
       "\t<tr>\n",
       "\t\t<td>3</td>\n",
       "\t\t<td>18</td>\n",
       "\t\t<td>0.7777777777777778</td>\n",
       "\t\t<td>0.8596491228070174</td>\n",
       "\t\t<td>0.7999999999999999</td>\n",
       "\t\t<td>1.0</td>\n",
       "\t</tr>\n",
       "\t<tr>\n",
       "\t\t<td>3</td>\n",
       "\t\t<td>25</td>\n",
       "\t\t<td>0.2777777777777778</td>\n",
       "\t\t<td>0.6842105263157894</td>\n",
       "\t\t<td>0.39999999999999986</td>\n",
       "\t\t<td>0.75</td>\n",
       "\t</tr>\n",
       "\t<tr>\n",
       "\t\t<td>3</td>\n",
       "\t\t<td>38</td>\n",
       "\t\t<td>0.2777777777777778</td>\n",
       "\t\t<td>0.6491228070175439</td>\n",
       "\t\t<td>0.5428571428571427</td>\n",
       "\t\t<td>0.7083333333333334</td>\n",
       "\t</tr>\n",
       "\t<tr>\n",
       "\t\t<td>3</td>\n",
       "\t\t<td>34</td>\n",
       "\t\t<td>0.44444444444444436</td>\n",
       "\t\t<td>0.8070175438596491</td>\n",
       "\t\t<td>0.5999999999999999</td>\n",
       "\t\t<td>0.8750000000000001</td>\n",
       "\t</tr>\n",
       "</table></html>"
      ],
      "text/plain": [
       "   species  id  sepal_width  petal_length  sepal_length  petal_width\n",
       "0        1  21     0.722222      0.017544      0.171429     0.083333\n",
       "1        1  35     0.666667      0.087719      0.285714     0.041667\n",
       "2        1  14     0.555556      0.017544      0.085714     0.041667\n",
       "3        1  30     0.722222      0.070175      0.171429     0.208333\n",
       "4        1  12     0.777778      0.035088      0.142857     0.000000\n",
       "5        1  39     0.500000      0.052632      0.142857     0.000000\n",
       "6        3  18     0.777778      0.859649      0.800000     1.000000\n",
       "7        3  25     0.277778      0.684211      0.400000     0.750000\n",
       "8        3  38     0.277778      0.649123      0.542857     0.708333\n",
       "9        3  34     0.444444      0.807018      0.600000     0.875000"
      ]
     },
     "metadata": {},
     "output_type": "display_data"
    },
    {
     "name": "stdout",
     "output_type": "stream",
     "text": [
      "\n",
      "Updated dataset after performing RFE feature selection:\n"
     ]
    },
    {
     "data": {
      "text/html": [
       "<style type=\"text/css\">\n",
       "\ttable {border:ridge 5px;}\n",
       "\ttable td {border:inset 1px;}\n",
       "\ttable tr#HeaderRow {background-color:grey; color:white;}</style>\n",
       "<html><table>\n",
       "\t<tr id=\"HeaderRow\">\n",
       "\t\t<th>id</th>\n",
       "\t\t<th>petal_length</th>\n",
       "\t\t<th>petal_width</th>\n",
       "\t\t<th>species</th>\n",
       "\t</tr>\n",
       "\t<tr>\n",
       "\t\t<td>21</td>\n",
       "\t\t<td>1.3</td>\n",
       "\t\t<td>0.3</td>\n",
       "\t\t<td>1</td>\n",
       "\t</tr>\n",
       "\t<tr>\n",
       "\t\t<td>35</td>\n",
       "\t\t<td>1.7</td>\n",
       "\t\t<td>0.2</td>\n",
       "\t\t<td>1</td>\n",
       "\t</tr>\n",
       "\t<tr>\n",
       "\t\t<td>14</td>\n",
       "\t\t<td>1.3</td>\n",
       "\t\t<td>0.2</td>\n",
       "\t\t<td>1</td>\n",
       "\t</tr>\n",
       "\t<tr>\n",
       "\t\t<td>30</td>\n",
       "\t\t<td>1.6</td>\n",
       "\t\t<td>0.6</td>\n",
       "\t\t<td>1</td>\n",
       "\t</tr>\n",
       "\t<tr>\n",
       "\t\t<td>12</td>\n",
       "\t\t<td>1.4</td>\n",
       "\t\t<td>0.1</td>\n",
       "\t\t<td>1</td>\n",
       "\t</tr>\n",
       "\t<tr>\n",
       "\t\t<td>39</td>\n",
       "\t\t<td>1.5</td>\n",
       "\t\t<td>0.1</td>\n",
       "\t\t<td>1</td>\n",
       "\t</tr>\n",
       "\t<tr>\n",
       "\t\t<td>18</td>\n",
       "\t\t<td>6.1</td>\n",
       "\t\t<td>2.5</td>\n",
       "\t\t<td>3</td>\n",
       "\t</tr>\n",
       "\t<tr>\n",
       "\t\t<td>25</td>\n",
       "\t\t<td>5.1</td>\n",
       "\t\t<td>1.9</td>\n",
       "\t\t<td>3</td>\n",
       "\t</tr>\n",
       "\t<tr>\n",
       "\t\t<td>38</td>\n",
       "\t\t<td>4.9</td>\n",
       "\t\t<td>1.8</td>\n",
       "\t\t<td>3</td>\n",
       "\t</tr>\n",
       "\t<tr>\n",
       "\t\t<td>34</td>\n",
       "\t\t<td>5.8</td>\n",
       "\t\t<td>2.2</td>\n",
       "\t\t<td>3</td>\n",
       "\t</tr>\n",
       "</table></html>"
      ],
      "text/plain": [
       "         id  petal_length  petal_width\n",
       "species                               \n",
       "1        21           1.3          0.3\n",
       "1        35           1.7          0.2\n",
       "1        14           1.3          0.2\n",
       "1        30           1.6          0.6\n",
       "1        12           1.4          0.1\n",
       "1        39           1.5          0.1\n",
       "3        18           6.1          2.5\n",
       "3        25           5.1          1.9\n",
       "3        38           4.9          1.8\n",
       "3        34           5.8          2.2"
      ]
     },
     "metadata": {},
     "output_type": "display_data"
    },
    {
     "name": "stdout",
     "output_type": "stream",
     "text": [
      "\n",
      "Updated dataset after performing scaling on RFE selected features :\n"
     ]
    },
    {
     "data": {
      "text/html": [
       "<style type=\"text/css\">\n",
       "\ttable {border:ridge 5px;}\n",
       "\ttable td {border:inset 1px;}\n",
       "\ttable tr#HeaderRow {background-color:grey; color:white;}</style>\n",
       "<html><table>\n",
       "\t<tr id=\"HeaderRow\">\n",
       "\t\t<th>species</th>\n",
       "\t\t<th>id</th>\n",
       "\t\t<th>r_petal_length</th>\n",
       "\t\t<th>r_petal_width</th>\n",
       "\t</tr>\n",
       "\t<tr>\n",
       "\t\t<td>3</td>\n",
       "\t\t<td>38</td>\n",
       "\t\t<td>0.6491228070175439</td>\n",
       "\t\t<td>0.7083333333333334</td>\n",
       "\t</tr>\n",
       "\t<tr>\n",
       "\t\t<td>3</td>\n",
       "\t\t<td>23</td>\n",
       "\t\t<td>0.631578947368421</td>\n",
       "\t\t<td>0.7083333333333334</td>\n",
       "\t</tr>\n",
       "\t<tr>\n",
       "\t\t<td>3</td>\n",
       "\t\t<td>32</td>\n",
       "\t\t<td>0.8421052631578947</td>\n",
       "\t\t<td>0.7083333333333334</td>\n",
       "\t</tr>\n",
       "\t<tr>\n",
       "\t\t<td>1</td>\n",
       "\t\t<td>24</td>\n",
       "\t\t<td>0.12280701754385964</td>\n",
       "\t\t<td>0.04166666666666667</td>\n",
       "\t</tr>\n",
       "\t<tr>\n",
       "\t\t<td>1</td>\n",
       "\t\t<td>21</td>\n",
       "\t\t<td>0.017543859649122823</td>\n",
       "\t\t<td>0.08333333333333333</td>\n",
       "\t</tr>\n",
       "\t<tr>\n",
       "\t\t<td>1</td>\n",
       "\t\t<td>11</td>\n",
       "\t\t<td>0.08771929824561403</td>\n",
       "\t\t<td>0.08333333333333333</td>\n",
       "\t</tr>\n",
       "\t<tr>\n",
       "\t\t<td>1</td>\n",
       "\t\t<td>35</td>\n",
       "\t\t<td>0.08771929824561403</td>\n",
       "\t\t<td>0.04166666666666667</td>\n",
       "\t</tr>\n",
       "\t<tr>\n",
       "\t\t<td>1</td>\n",
       "\t\t<td>14</td>\n",
       "\t\t<td>0.017543859649122823</td>\n",
       "\t\t<td>0.04166666666666667</td>\n",
       "\t</tr>\n",
       "\t<tr>\n",
       "\t\t<td>1</td>\n",
       "\t\t<td>30</td>\n",
       "\t\t<td>0.07017543859649125</td>\n",
       "\t\t<td>0.20833333333333334</td>\n",
       "\t</tr>\n",
       "\t<tr>\n",
       "\t\t<td>1</td>\n",
       "\t\t<td>27</td>\n",
       "\t\t<td>0.07017543859649125</td>\n",
       "\t\t<td>0.04166666666666667</td>\n",
       "\t</tr>\n",
       "</table></html>"
      ],
      "text/plain": [
       "   species  id  r_petal_length  r_petal_width\n",
       "0        3  38        0.649123       0.708333\n",
       "1        3  23        0.631579       0.708333\n",
       "2        3  32        0.842105       0.708333\n",
       "3        1  24        0.122807       0.041667\n",
       "4        1  21        0.017544       0.083333\n",
       "5        1  11        0.087719       0.083333\n",
       "6        1  35        0.087719       0.041667\n",
       "7        1  14        0.017544       0.041667\n",
       "8        1  30        0.070175       0.208333\n",
       "9        1  27        0.070175       0.041667"
      ]
     },
     "metadata": {},
     "output_type": "display_data"
    },
    {
     "name": "stdout",
     "output_type": "stream",
     "text": [
      "\n",
      "Updated dataset after performing scaling for PCA feature selection :\n"
     ]
    },
    {
     "data": {
      "text/html": [
       "<style type=\"text/css\">\n",
       "\ttable {border:ridge 5px;}\n",
       "\ttable td {border:inset 1px;}\n",
       "\ttable tr#HeaderRow {background-color:grey; color:white;}</style>\n",
       "<html><table>\n",
       "\t<tr id=\"HeaderRow\">\n",
       "\t\t<th>species</th>\n",
       "\t\t<th>id</th>\n",
       "\t\t<th>sepal_length</th>\n",
       "\t\t<th>sepal_width</th>\n",
       "\t\t<th>petal_length</th>\n",
       "\t\t<th>petal_width</th>\n",
       "\t</tr>\n",
       "\t<tr>\n",
       "\t\t<td>3</td>\n",
       "\t\t<td>38</td>\n",
       "\t\t<td>0.5428571428571427</td>\n",
       "\t\t<td>0.2777777777777778</td>\n",
       "\t\t<td>0.6491228070175439</td>\n",
       "\t\t<td>0.7083333333333334</td>\n",
       "\t</tr>\n",
       "\t<tr>\n",
       "\t\t<td>3</td>\n",
       "\t\t<td>23</td>\n",
       "\t\t<td>0.457142857142857</td>\n",
       "\t\t<td>0.44444444444444436</td>\n",
       "\t\t<td>0.631578947368421</td>\n",
       "\t\t<td>0.7083333333333334</td>\n",
       "\t</tr>\n",
       "\t<tr>\n",
       "\t\t<td>3</td>\n",
       "\t\t<td>32</td>\n",
       "\t\t<td>0.7999999999999999</td>\n",
       "\t\t<td>0.5555555555555556</td>\n",
       "\t\t<td>0.8421052631578947</td>\n",
       "\t\t<td>0.7083333333333334</td>\n",
       "\t</tr>\n",
       "\t<tr>\n",
       "\t\t<td>1</td>\n",
       "\t\t<td>24</td>\n",
       "\t\t<td>0.11428571428571413</td>\n",
       "\t\t<td>0.6666666666666666</td>\n",
       "\t\t<td>0.12280701754385964</td>\n",
       "\t\t<td>0.04166666666666667</td>\n",
       "\t</tr>\n",
       "\t<tr>\n",
       "\t\t<td>1</td>\n",
       "\t\t<td>21</td>\n",
       "\t\t<td>0.17142857142857132</td>\n",
       "\t\t<td>0.7222222222222222</td>\n",
       "\t\t<td>0.017543859649122823</td>\n",
       "\t\t<td>0.08333333333333333</td>\n",
       "\t</tr>\n",
       "\t<tr>\n",
       "\t\t<td>1</td>\n",
       "\t\t<td>11</td>\n",
       "\t\t<td>0.3714285714285714</td>\n",
       "\t\t<td>0.8888888888888887</td>\n",
       "\t\t<td>0.08771929824561403</td>\n",
       "\t\t<td>0.08333333333333333</td>\n",
       "\t</tr>\n",
       "\t<tr>\n",
       "\t\t<td>1</td>\n",
       "\t\t<td>35</td>\n",
       "\t\t<td>0.2857142857142857</td>\n",
       "\t\t<td>0.6666666666666666</td>\n",
       "\t\t<td>0.08771929824561403</td>\n",
       "\t\t<td>0.04166666666666667</td>\n",
       "\t</tr>\n",
       "\t<tr>\n",
       "\t\t<td>1</td>\n",
       "\t\t<td>14</td>\n",
       "\t\t<td>0.08571428571428566</td>\n",
       "\t\t<td>0.5555555555555556</td>\n",
       "\t\t<td>0.017543859649122823</td>\n",
       "\t\t<td>0.04166666666666667</td>\n",
       "\t</tr>\n",
       "\t<tr>\n",
       "\t\t<td>1</td>\n",
       "\t\t<td>30</td>\n",
       "\t\t<td>0.17142857142857132</td>\n",
       "\t\t<td>0.7222222222222222</td>\n",
       "\t\t<td>0.07017543859649125</td>\n",
       "\t\t<td>0.20833333333333334</td>\n",
       "\t</tr>\n",
       "\t<tr>\n",
       "\t\t<td>1</td>\n",
       "\t\t<td>27</td>\n",
       "\t\t<td>0.1999999999999998</td>\n",
       "\t\t<td>0.8888888888888887</td>\n",
       "\t\t<td>0.07017543859649125</td>\n",
       "\t\t<td>0.04166666666666667</td>\n",
       "\t</tr>\n",
       "</table></html>"
      ],
      "text/plain": [
       "   species  id  sepal_length  sepal_width  petal_length  petal_width\n",
       "0        3  38      0.542857     0.277778      0.649123     0.708333\n",
       "1        3  23      0.457143     0.444444      0.631579     0.708333\n",
       "2        3  32      0.800000     0.555556      0.842105     0.708333\n",
       "3        1  24      0.114286     0.666667      0.122807     0.041667\n",
       "4        1  21      0.171429     0.722222      0.017544     0.083333\n",
       "5        1  11      0.371429     0.888889      0.087719     0.083333\n",
       "6        1  35      0.285714     0.666667      0.087719     0.041667\n",
       "7        1  14      0.085714     0.555556      0.017544     0.041667\n",
       "8        1  30      0.171429     0.722222      0.070175     0.208333\n",
       "9        1  27      0.200000     0.888889      0.070175     0.041667"
      ]
     },
     "metadata": {},
     "output_type": "display_data"
    },
    {
     "name": "stdout",
     "output_type": "stream",
     "text": [
      "\n",
      "Updated dataset after performing PCA feature selection :\n"
     ]
    },
    {
     "data": {
      "text/html": [
       "<div>\n",
       "<style scoped>\n",
       "    .dataframe tbody tr th:only-of-type {\n",
       "        vertical-align: middle;\n",
       "    }\n",
       "\n",
       "    .dataframe tbody tr th {\n",
       "        vertical-align: top;\n",
       "    }\n",
       "\n",
       "    .dataframe thead th {\n",
       "        text-align: right;\n",
       "    }\n",
       "</style>\n",
       "<table border=\"1\" class=\"dataframe\">\n",
       "  <thead>\n",
       "    <tr style=\"text-align: right;\">\n",
       "      <th></th>\n",
       "      <th>id</th>\n",
       "      <th>col_0</th>\n",
       "      <th>col_1</th>\n",
       "      <th>species</th>\n",
       "    </tr>\n",
       "  </thead>\n",
       "  <tbody>\n",
       "    <tr>\n",
       "      <th>0</th>\n",
       "      <td>24</td>\n",
       "      <td>-0.662048</td>\n",
       "      <td>0.080712</td>\n",
       "      <td>1</td>\n",
       "    </tr>\n",
       "    <tr>\n",
       "      <th>1</th>\n",
       "      <td>18</td>\n",
       "      <td>0.681951</td>\n",
       "      <td>0.419969</td>\n",
       "      <td>3</td>\n",
       "    </tr>\n",
       "    <tr>\n",
       "      <th>2</th>\n",
       "      <td>31</td>\n",
       "      <td>-0.577049</td>\n",
       "      <td>0.147195</td>\n",
       "      <td>1</td>\n",
       "    </tr>\n",
       "    <tr>\n",
       "      <th>3</th>\n",
       "      <td>25</td>\n",
       "      <td>0.318190</td>\n",
       "      <td>-0.188041</td>\n",
       "      <td>3</td>\n",
       "    </tr>\n",
       "    <tr>\n",
       "      <th>4</th>\n",
       "      <td>21</td>\n",
       "      <td>-0.684797</td>\n",
       "      <td>0.157748</td>\n",
       "      <td>1</td>\n",
       "    </tr>\n",
       "    <tr>\n",
       "      <th>5</th>\n",
       "      <td>38</td>\n",
       "      <td>0.334287</td>\n",
       "      <td>-0.134925</td>\n",
       "      <td>3</td>\n",
       "    </tr>\n",
       "    <tr>\n",
       "      <th>6</th>\n",
       "      <td>11</td>\n",
       "      <td>-0.578423</td>\n",
       "      <td>0.383345</td>\n",
       "      <td>1</td>\n",
       "    </tr>\n",
       "    <tr>\n",
       "      <th>7</th>\n",
       "      <td>34</td>\n",
       "      <td>0.535187</td>\n",
       "      <td>0.037187</td>\n",
       "      <td>3</td>\n",
       "    </tr>\n",
       "    <tr>\n",
       "      <th>8</th>\n",
       "      <td>35</td>\n",
       "      <td>-0.607202</td>\n",
       "      <td>0.144826</td>\n",
       "      <td>1</td>\n",
       "    </tr>\n",
       "    <tr>\n",
       "      <th>9</th>\n",
       "      <td>23</td>\n",
       "      <td>0.258428</td>\n",
       "      <td>-0.010735</td>\n",
       "      <td>3</td>\n",
       "    </tr>\n",
       "    <tr>\n",
       "      <th>10</th>\n",
       "      <td>14</td>\n",
       "      <td>-0.722456</td>\n",
       "      <td>-0.029125</td>\n",
       "      <td>1</td>\n",
       "    </tr>\n",
       "    <tr>\n",
       "      <th>11</th>\n",
       "      <td>32</td>\n",
       "      <td>0.524742</td>\n",
       "      <td>0.210324</td>\n",
       "      <td>3</td>\n",
       "    </tr>\n",
       "    <tr>\n",
       "      <th>12</th>\n",
       "      <td>30</td>\n",
       "      <td>-0.574174</td>\n",
       "      <td>0.157378</td>\n",
       "      <td>1</td>\n",
       "    </tr>\n",
       "    <tr>\n",
       "      <th>13</th>\n",
       "      <td>27</td>\n",
       "      <td>-0.691940</td>\n",
       "      <td>0.320662</td>\n",
       "      <td>1</td>\n",
       "    </tr>\n",
       "    <tr>\n",
       "      <th>14</th>\n",
       "      <td>12</td>\n",
       "      <td>-0.747502</td>\n",
       "      <td>0.197211</td>\n",
       "      <td>1</td>\n",
       "    </tr>\n",
       "    <tr>\n",
       "      <th>15</th>\n",
       "      <td>39</td>\n",
       "      <td>-0.692206</td>\n",
       "      <td>-0.061674</td>\n",
       "      <td>1</td>\n",
       "    </tr>\n",
       "    <tr>\n",
       "      <th>16</th>\n",
       "      <td>16</td>\n",
       "      <td>-0.680095</td>\n",
       "      <td>0.104263</td>\n",
       "      <td>1</td>\n",
       "    </tr>\n",
       "    <tr>\n",
       "      <th>17</th>\n",
       "      <td>36</td>\n",
       "      <td>0.145503</td>\n",
       "      <td>-0.001081</td>\n",
       "      <td>2</td>\n",
       "    </tr>\n",
       "    <tr>\n",
       "      <th>18</th>\n",
       "      <td>9</td>\n",
       "      <td>0.001164</td>\n",
       "      <td>-0.050681</td>\n",
       "      <td>2</td>\n",
       "    </tr>\n",
       "    <tr>\n",
       "      <th>19</th>\n",
       "      <td>28</td>\n",
       "      <td>0.134032</td>\n",
       "      <td>-0.019894</td>\n",
       "      <td>2</td>\n",
       "    </tr>\n",
       "    <tr>\n",
       "      <th>20</th>\n",
       "      <td>29</td>\n",
       "      <td>0.227895</td>\n",
       "      <td>0.082090</td>\n",
       "      <td>2</td>\n",
       "    </tr>\n",
       "    <tr>\n",
       "      <th>21</th>\n",
       "      <td>20</td>\n",
       "      <td>0.191469</td>\n",
       "      <td>0.114679</td>\n",
       "      <td>2</td>\n",
       "    </tr>\n",
       "    <tr>\n",
       "      <th>22</th>\n",
       "      <td>13</td>\n",
       "      <td>0.038701</td>\n",
       "      <td>-0.206274</td>\n",
       "      <td>2</td>\n",
       "    </tr>\n",
       "    <tr>\n",
       "      <th>23</th>\n",
       "      <td>22</td>\n",
       "      <td>0.039647</td>\n",
       "      <td>-0.422020</td>\n",
       "      <td>2</td>\n",
       "    </tr>\n",
       "    <tr>\n",
       "      <th>24</th>\n",
       "      <td>26</td>\n",
       "      <td>-0.178440</td>\n",
       "      <td>-0.471373</td>\n",
       "      <td>2</td>\n",
       "    </tr>\n",
       "    <tr>\n",
       "      <th>25</th>\n",
       "      <td>10</td>\n",
       "      <td>0.207262</td>\n",
       "      <td>0.175200</td>\n",
       "      <td>2</td>\n",
       "    </tr>\n",
       "    <tr>\n",
       "      <th>26</th>\n",
       "      <td>19</td>\n",
       "      <td>-0.028187</td>\n",
       "      <td>-0.308667</td>\n",
       "      <td>2</td>\n",
       "    </tr>\n",
       "    <tr>\n",
       "      <th>27</th>\n",
       "      <td>17</td>\n",
       "      <td>0.165281</td>\n",
       "      <td>-0.053382</td>\n",
       "      <td>2</td>\n",
       "    </tr>\n",
       "    <tr>\n",
       "      <th>28</th>\n",
       "      <td>15</td>\n",
       "      <td>0.343668</td>\n",
       "      <td>0.060701</td>\n",
       "      <td>2</td>\n",
       "    </tr>\n",
       "    <tr>\n",
       "      <th>29</th>\n",
       "      <td>8</td>\n",
       "      <td>0.025355</td>\n",
       "      <td>-0.236208</td>\n",
       "      <td>2</td>\n",
       "    </tr>\n",
       "  </tbody>\n",
       "</table>\n",
       "</div>"
      ],
      "text/plain": [
       "    id     col_0     col_1  species\n",
       "0   24 -0.662048  0.080712        1\n",
       "1   18  0.681951  0.419969        3\n",
       "2   31 -0.577049  0.147195        1\n",
       "3   25  0.318190 -0.188041        3\n",
       "4   21 -0.684797  0.157748        1\n",
       "5   38  0.334287 -0.134925        3\n",
       "6   11 -0.578423  0.383345        1\n",
       "7   34  0.535187  0.037187        3\n",
       "8   35 -0.607202  0.144826        1\n",
       "9   23  0.258428 -0.010735        3\n",
       "10  14 -0.722456 -0.029125        1\n",
       "11  32  0.524742  0.210324        3\n",
       "12  30 -0.574174  0.157378        1\n",
       "13  27 -0.691940  0.320662        1\n",
       "14  12 -0.747502  0.197211        1\n",
       "15  39 -0.692206 -0.061674        1\n",
       "16  16 -0.680095  0.104263        1\n",
       "17  36  0.145503 -0.001081        2\n",
       "18   9  0.001164 -0.050681        2\n",
       "19  28  0.134032 -0.019894        2\n",
       "20  29  0.227895  0.082090        2\n",
       "21  20  0.191469  0.114679        2\n",
       "22  13  0.038701 -0.206274        2\n",
       "23  22  0.039647 -0.422020        2\n",
       "24  26 -0.178440 -0.471373        2\n",
       "25  10  0.207262  0.175200        2\n",
       "26  19 -0.028187 -0.308667        2\n",
       "27  17  0.165281 -0.053382        2\n",
       "28  15  0.343668  0.060701        2\n",
       "29   8  0.025355 -0.236208        2"
      ]
     },
     "metadata": {},
     "output_type": "display_data"
    },
    {
     "name": "stdout",
     "output_type": "stream",
     "text": [
      "Data Transformation completed.\n",
      "xgboost pca\n",
      "\n",
      " Prediction : \n",
      "   species  id  Prediction  Confidence_Lower  Confidence_upper\n",
      "0        1  31           1             1.000             1.000\n",
      "1        1  21           1             1.000             1.000\n",
      "2        3  38           3             0.625             0.625\n",
      "3        1  11           1             1.000             1.000\n",
      "4        1  35           1             1.000             1.000\n",
      "5        3  23           2             0.625             0.625\n",
      "6        3  34           3             1.000             1.000\n",
      "7        3  25           2             0.500             0.500\n",
      "8        3  18           3             1.000             1.000\n",
      "9        1  24           1             1.000             1.000\n",
      "\n",
      " Performance Metrics : \n",
      "       Prediction  Mapping  CLASS_1  CLASS_2  CLASS_3  Precision    Recall        F1  Support\n",
      "SeqNum                                                                                       \n",
      "2               3  CLASS_3        0        1        4   0.800000  0.666667  0.727273        6\n",
      "1               2  CLASS_2        0       12        2   0.857143  0.923077  0.888889       13\n",
      "0               1  CLASS_1       11        0        0   1.000000  1.000000  1.000000       11\n",
      "\n",
      " Confusion Matrix : \n"
     ]
    },
    {
     "data": {
      "text/plain": [
       "array([[11,  0,  0],\n",
       "       [ 0, 12,  1],\n",
       "       [ 0,  2,  4]], dtype=int64)"
      ]
     },
     "metadata": {},
     "output_type": "display_data"
    }
   ],
   "source": [
    "# Generating prediction and metrics on test data\n",
    "prediction = aml.predict(iris_test)"
   ]
  },
  {
   "cell_type": "code",
   "execution_count": 24,
   "id": "cc4f6a78-1cdf-4938-a9f1-22035d8404ca",
   "metadata": {},
   "outputs": [
    {
     "data": {
      "text/html": [
       "<style type=\"text/css\">\n",
       "\ttable {border:ridge 5px;}\n",
       "\ttable td {border:inset 1px;}\n",
       "\ttable tr#HeaderRow {background-color:grey; color:white;}</style>\n",
       "<html><table>\n",
       "\t<tr id=\"HeaderRow\">\n",
       "\t\t<th>species</th>\n",
       "\t\t<th>id</th>\n",
       "\t\t<th>Prediction</th>\n",
       "\t\t<th>Confidence_Lower</th>\n",
       "\t\t<th>Confidence_upper</th>\n",
       "\t</tr>\n",
       "\t<tr>\n",
       "\t\t<td>1</td>\n",
       "\t\t<td>16</td>\n",
       "\t\t<td>1</td>\n",
       "\t\t<td>1.0</td>\n",
       "\t\t<td>1.0</td>\n",
       "\t</tr>\n",
       "\t<tr>\n",
       "\t\t<td>1</td>\n",
       "\t\t<td>35</td>\n",
       "\t\t<td>1</td>\n",
       "\t\t<td>1.0</td>\n",
       "\t\t<td>1.0</td>\n",
       "\t</tr>\n",
       "\t<tr>\n",
       "\t\t<td>1</td>\n",
       "\t\t<td>31</td>\n",
       "\t\t<td>1</td>\n",
       "\t\t<td>1.0</td>\n",
       "\t\t<td>1.0</td>\n",
       "\t</tr>\n",
       "\t<tr>\n",
       "\t\t<td>1</td>\n",
       "\t\t<td>14</td>\n",
       "\t\t<td>1</td>\n",
       "\t\t<td>1.0</td>\n",
       "\t\t<td>1.0</td>\n",
       "\t</tr>\n",
       "\t<tr>\n",
       "\t\t<td>1</td>\n",
       "\t\t<td>30</td>\n",
       "\t\t<td>1</td>\n",
       "\t\t<td>1.0</td>\n",
       "\t\t<td>1.0</td>\n",
       "\t</tr>\n",
       "\t<tr>\n",
       "\t\t<td>1</td>\n",
       "\t\t<td>39</td>\n",
       "\t\t<td>1</td>\n",
       "\t\t<td>1.0</td>\n",
       "\t\t<td>1.0</td>\n",
       "\t</tr>\n",
       "\t<tr>\n",
       "\t\t<td>1</td>\n",
       "\t\t<td>27</td>\n",
       "\t\t<td>1</td>\n",
       "\t\t<td>1.0</td>\n",
       "\t\t<td>1.0</td>\n",
       "\t</tr>\n",
       "\t<tr>\n",
       "\t\t<td>1</td>\n",
       "\t\t<td>11</td>\n",
       "\t\t<td>1</td>\n",
       "\t\t<td>1.0</td>\n",
       "\t\t<td>1.0</td>\n",
       "\t</tr>\n",
       "\t<tr>\n",
       "\t\t<td>1</td>\n",
       "\t\t<td>21</td>\n",
       "\t\t<td>1</td>\n",
       "\t\t<td>1.0</td>\n",
       "\t\t<td>1.0</td>\n",
       "\t</tr>\n",
       "\t<tr>\n",
       "\t\t<td>1</td>\n",
       "\t\t<td>12</td>\n",
       "\t\t<td>1</td>\n",
       "\t\t<td>1.0</td>\n",
       "\t\t<td>1.0</td>\n",
       "\t</tr>\n",
       "</table></html>"
      ],
      "text/plain": [
       "   species  id  Prediction  Confidence_Lower  Confidence_upper\n",
       "0        1  16           1               1.0               1.0\n",
       "1        1  35           1               1.0               1.0\n",
       "2        1  31           1               1.0               1.0\n",
       "3        1  14           1               1.0               1.0\n",
       "4        1  30           1               1.0               1.0\n",
       "5        1  39           1               1.0               1.0\n",
       "6        1  27           1               1.0               1.0\n",
       "7        1  11           1               1.0               1.0\n",
       "8        1  21           1               1.0               1.0\n",
       "9        1  12           1               1.0               1.0"
      ]
     },
     "execution_count": 24,
     "metadata": {},
     "output_type": "execute_result"
    }
   ],
   "source": [
    "# Printing prediction\n",
    "prediction.head()"
   ]
  },
  {
   "cell_type": "code",
   "execution_count": 25,
   "id": "b57808d8-547b-4712-846e-227417a46825",
   "metadata": {},
   "outputs": [
    {
     "name": "stdout",
     "output_type": "stream",
     "text": [
      "Data Transformation started ...\n",
      "Performing transformation carried out in feature engineering phase ...\n",
      "\n",
      "Updated dataset after dropping irrelevent columns :\n"
     ]
    },
    {
     "data": {
      "text/html": [
       "<style type=\"text/css\">\n",
       "\ttable {border:ridge 5px;}\n",
       "\ttable td {border:inset 1px;}\n",
       "\ttable tr#HeaderRow {background-color:grey; color:white;}</style>\n",
       "<html><table>\n",
       "\t<tr id=\"HeaderRow\">\n",
       "\t\t<th>sepal_length</th>\n",
       "\t\t<th>sepal_width</th>\n",
       "\t\t<th>petal_length</th>\n",
       "\t\t<th>petal_width</th>\n",
       "\t\t<th>species</th>\n",
       "\t</tr>\n",
       "\t<tr>\n",
       "\t\t<td>5.6</td>\n",
       "\t\t<td>3.0</td>\n",
       "\t\t<td>4.1</td>\n",
       "\t\t<td>1.3</td>\n",
       "\t\t<td>2</td>\n",
       "\t</tr>\n",
       "\t<tr>\n",
       "\t\t<td>6.7</td>\n",
       "\t\t<td>3.0</td>\n",
       "\t\t<td>5.0</td>\n",
       "\t\t<td>1.7</td>\n",
       "\t\t<td>2</td>\n",
       "\t</tr>\n",
       "\t<tr>\n",
       "\t\t<td>6.0</td>\n",
       "\t\t<td>3.0</td>\n",
       "\t\t<td>4.8</td>\n",
       "\t\t<td>1.8</td>\n",
       "\t\t<td>3</td>\n",
       "\t</tr>\n",
       "\t<tr>\n",
       "\t\t<td>5.6</td>\n",
       "\t\t<td>2.7</td>\n",
       "\t\t<td>4.2</td>\n",
       "\t\t<td>1.3</td>\n",
       "\t\t<td>2</td>\n",
       "\t</tr>\n",
       "\t<tr>\n",
       "\t\t<td>6.3</td>\n",
       "\t\t<td>3.3</td>\n",
       "\t\t<td>4.7</td>\n",
       "\t\t<td>1.6</td>\n",
       "\t\t<td>2</td>\n",
       "\t</tr>\n",
       "\t<tr>\n",
       "\t\t<td>7.2</td>\n",
       "\t\t<td>3.6</td>\n",
       "\t\t<td>6.1</td>\n",
       "\t\t<td>2.5</td>\n",
       "\t\t<td>3</td>\n",
       "\t</tr>\n",
       "\t<tr>\n",
       "\t\t<td>4.9</td>\n",
       "\t\t<td>3.6</td>\n",
       "\t\t<td>1.4</td>\n",
       "\t\t<td>0.1</td>\n",
       "\t\t<td>1</td>\n",
       "\t</tr>\n",
       "\t<tr>\n",
       "\t\t<td>6.7</td>\n",
       "\t\t<td>3.1</td>\n",
       "\t\t<td>4.4</td>\n",
       "\t\t<td>1.4</td>\n",
       "\t\t<td>2</td>\n",
       "\t</tr>\n",
       "\t<tr>\n",
       "\t\t<td>4.7</td>\n",
       "\t\t<td>3.2</td>\n",
       "\t\t<td>1.3</td>\n",
       "\t\t<td>0.2</td>\n",
       "\t\t<td>1</td>\n",
       "\t</tr>\n",
       "\t<tr>\n",
       "\t\t<td>5.5</td>\n",
       "\t\t<td>2.3</td>\n",
       "\t\t<td>4.0</td>\n",
       "\t\t<td>1.3</td>\n",
       "\t\t<td>2</td>\n",
       "\t</tr>\n",
       "</table></html>"
      ],
      "text/plain": [
       "   sepal_length  sepal_width  petal_length  petal_width  species\n",
       "0           5.6          3.0           4.1          1.3        2\n",
       "1           6.7          3.0           5.0          1.7        2\n",
       "2           6.0          3.0           4.8          1.8        3\n",
       "3           5.6          2.7           4.2          1.3        2\n",
       "4           6.3          3.3           4.7          1.6        2\n",
       "5           7.2          3.6           6.1          2.5        3\n",
       "6           4.9          3.6           1.4          0.1        1\n",
       "7           6.7          3.1           4.4          1.4        2\n",
       "8           4.7          3.2           1.3          0.2        1\n",
       "9           5.5          2.3           4.0          1.3        2"
      ]
     },
     "metadata": {},
     "output_type": "display_data"
    },
    {
     "name": "stdout",
     "output_type": "stream",
     "text": [
      "\n",
      "Updated dataset after performing target column transformation :\n"
     ]
    },
    {
     "data": {
      "text/html": [
       "<style type=\"text/css\">\n",
       "\ttable {border:ridge 5px;}\n",
       "\ttable td {border:inset 1px;}\n",
       "\ttable tr#HeaderRow {background-color:grey; color:white;}</style>\n",
       "<html><table>\n",
       "\t<tr id=\"HeaderRow\">\n",
       "\t\t<th>sepal_length</th>\n",
       "\t\t<th>sepal_width</th>\n",
       "\t\t<th>id</th>\n",
       "\t\t<th>petal_length</th>\n",
       "\t\t<th>petal_width</th>\n",
       "\t\t<th>species</th>\n",
       "\t</tr>\n",
       "\t<tr>\n",
       "\t\t<td>5.6</td>\n",
       "\t\t<td>3.0</td>\n",
       "\t\t<td>9</td>\n",
       "\t\t<td>4.1</td>\n",
       "\t\t<td>1.3</td>\n",
       "\t\t<td>2</td>\n",
       "\t</tr>\n",
       "\t<tr>\n",
       "\t\t<td>5.7</td>\n",
       "\t\t<td>3.8</td>\n",
       "\t\t<td>11</td>\n",
       "\t\t<td>1.7</td>\n",
       "\t\t<td>0.3</td>\n",
       "\t\t<td>1</td>\n",
       "\t</tr>\n",
       "\t<tr>\n",
       "\t\t<td>5.6</td>\n",
       "\t\t<td>2.5</td>\n",
       "\t\t<td>19</td>\n",
       "\t\t<td>3.9</td>\n",
       "\t\t<td>1.1</td>\n",
       "\t\t<td>2</td>\n",
       "\t</tr>\n",
       "\t<tr>\n",
       "\t\t<td>4.7</td>\n",
       "\t\t<td>3.2</td>\n",
       "\t\t<td>14</td>\n",
       "\t\t<td>1.3</td>\n",
       "\t\t<td>0.2</td>\n",
       "\t\t<td>1</td>\n",
       "\t</tr>\n",
       "\t<tr>\n",
       "\t\t<td>4.9</td>\n",
       "\t\t<td>3.6</td>\n",
       "\t\t<td>12</td>\n",
       "\t\t<td>1.4</td>\n",
       "\t\t<td>0.1</td>\n",
       "\t\t<td>1</td>\n",
       "\t</tr>\n",
       "\t<tr>\n",
       "\t\t<td>6.7</td>\n",
       "\t\t<td>3.1</td>\n",
       "\t\t<td>20</td>\n",
       "\t\t<td>4.4</td>\n",
       "\t\t<td>1.4</td>\n",
       "\t\t<td>2</td>\n",
       "\t</tr>\n",
       "\t<tr>\n",
       "\t\t<td>6.7</td>\n",
       "\t\t<td>3.0</td>\n",
       "\t\t<td>15</td>\n",
       "\t\t<td>5.0</td>\n",
       "\t\t<td>1.7</td>\n",
       "\t\t<td>2</td>\n",
       "\t</tr>\n",
       "\t<tr>\n",
       "\t\t<td>6.0</td>\n",
       "\t\t<td>3.0</td>\n",
       "\t\t<td>23</td>\n",
       "\t\t<td>4.8</td>\n",
       "\t\t<td>1.8</td>\n",
       "\t\t<td>3</td>\n",
       "\t</tr>\n",
       "\t<tr>\n",
       "\t\t<td>6.3</td>\n",
       "\t\t<td>3.3</td>\n",
       "\t\t<td>10</td>\n",
       "\t\t<td>4.7</td>\n",
       "\t\t<td>1.6</td>\n",
       "\t\t<td>2</td>\n",
       "\t</tr>\n",
       "\t<tr>\n",
       "\t\t<td>7.2</td>\n",
       "\t\t<td>3.6</td>\n",
       "\t\t<td>18</td>\n",
       "\t\t<td>6.1</td>\n",
       "\t\t<td>2.5</td>\n",
       "\t\t<td>3</td>\n",
       "\t</tr>\n",
       "</table></html>"
      ],
      "text/plain": [
       "   sepal_length  sepal_width  id  petal_length  petal_width  species\n",
       "0           5.6          3.0   9           4.1          1.3        2\n",
       "1           5.7          3.8  11           1.7          0.3        1\n",
       "2           5.6          2.5  19           3.9          1.1        2\n",
       "3           4.7          3.2  14           1.3          0.2        1\n",
       "4           4.9          3.6  12           1.4          0.1        1\n",
       "5           6.7          3.1  20           4.4          1.4        2\n",
       "6           6.7          3.0  15           5.0          1.7        2\n",
       "7           6.0          3.0  23           4.8          1.8        3\n",
       "8           6.3          3.3  10           4.7          1.6        2\n",
       "9           7.2          3.6  18           6.1          2.5        3"
      ]
     },
     "metadata": {},
     "output_type": "display_data"
    },
    {
     "name": "stdout",
     "output_type": "stream",
     "text": [
      "Performing transformation carried out in data preparation phase ...\n",
      "result data stored in table '\"AUTOML_USR\".\"ml__td_sqlmr_persist_out__1711274146776091\"'\n",
      "\n",
      "Updated dataset after performing Lasso feature selection:\n"
     ]
    },
    {
     "data": {
      "text/html": [
       "<style type=\"text/css\">\n",
       "\ttable {border:ridge 5px;}\n",
       "\ttable td {border:inset 1px;}\n",
       "\ttable tr#HeaderRow {background-color:grey; color:white;}</style>\n",
       "<html><table>\n",
       "\t<tr id=\"HeaderRow\">\n",
       "\t\t<th>id</th>\n",
       "\t\t<th>sepal_width</th>\n",
       "\t\t<th>petal_length</th>\n",
       "\t\t<th>sepal_length</th>\n",
       "\t\t<th>petal_width</th>\n",
       "\t\t<th>species</th>\n",
       "\t</tr>\n",
       "\t<tr>\n",
       "\t\t<td>39</td>\n",
       "\t\t<td>3.1</td>\n",
       "\t\t<td>1.5</td>\n",
       "\t\t<td>4.9</td>\n",
       "\t\t<td>0.1</td>\n",
       "\t\t<td>1</td>\n",
       "\t</tr>\n",
       "\t<tr>\n",
       "\t\t<td>30</td>\n",
       "\t\t<td>3.5</td>\n",
       "\t\t<td>1.6</td>\n",
       "\t\t<td>5.0</td>\n",
       "\t\t<td>0.6</td>\n",
       "\t\t<td>1</td>\n",
       "\t</tr>\n",
       "\t<tr>\n",
       "\t\t<td>16</td>\n",
       "\t\t<td>3.4</td>\n",
       "\t\t<td>1.5</td>\n",
       "\t\t<td>5.0</td>\n",
       "\t\t<td>0.2</td>\n",
       "\t\t<td>1</td>\n",
       "\t</tr>\n",
       "\t<tr>\n",
       "\t\t<td>11</td>\n",
       "\t\t<td>3.8</td>\n",
       "\t\t<td>1.7</td>\n",
       "\t\t<td>5.7</td>\n",
       "\t\t<td>0.3</td>\n",
       "\t\t<td>1</td>\n",
       "\t</tr>\n",
       "\t<tr>\n",
       "\t\t<td>35</td>\n",
       "\t\t<td>3.4</td>\n",
       "\t\t<td>1.7</td>\n",
       "\t\t<td>5.4</td>\n",
       "\t\t<td>0.2</td>\n",
       "\t\t<td>1</td>\n",
       "\t</tr>\n",
       "\t<tr>\n",
       "\t\t<td>24</td>\n",
       "\t\t<td>3.4</td>\n",
       "\t\t<td>1.9</td>\n",
       "\t\t<td>4.8</td>\n",
       "\t\t<td>0.2</td>\n",
       "\t\t<td>1</td>\n",
       "\t</tr>\n",
       "\t<tr>\n",
       "\t\t<td>32</td>\n",
       "\t\t<td>3.2</td>\n",
       "\t\t<td>6.0</td>\n",
       "\t\t<td>7.2</td>\n",
       "\t\t<td>1.8</td>\n",
       "\t\t<td>3</td>\n",
       "\t</tr>\n",
       "\t<tr>\n",
       "\t\t<td>38</td>\n",
       "\t\t<td>2.7</td>\n",
       "\t\t<td>4.9</td>\n",
       "\t\t<td>6.3</td>\n",
       "\t\t<td>1.8</td>\n",
       "\t\t<td>3</td>\n",
       "\t</tr>\n",
       "\t<tr>\n",
       "\t\t<td>25</td>\n",
       "\t\t<td>2.7</td>\n",
       "\t\t<td>5.1</td>\n",
       "\t\t<td>5.8</td>\n",
       "\t\t<td>1.9</td>\n",
       "\t\t<td>3</td>\n",
       "\t</tr>\n",
       "\t<tr>\n",
       "\t\t<td>23</td>\n",
       "\t\t<td>3.0</td>\n",
       "\t\t<td>4.8</td>\n",
       "\t\t<td>6.0</td>\n",
       "\t\t<td>1.8</td>\n",
       "\t\t<td>3</td>\n",
       "\t</tr>\n",
       "</table></html>"
      ],
      "text/plain": [
       "         id  sepal_width  petal_length  sepal_length  petal_width\n",
       "species                                                          \n",
       "1        39          3.1           1.5           4.9          0.1\n",
       "1        30          3.5           1.6           5.0          0.6\n",
       "1        16          3.4           1.5           5.0          0.2\n",
       "1        11          3.8           1.7           5.7          0.3\n",
       "1        35          3.4           1.7           5.4          0.2\n",
       "1        24          3.4           1.9           4.8          0.2\n",
       "3        32          3.2           6.0           7.2          1.8\n",
       "3        38          2.7           4.9           6.3          1.8\n",
       "3        25          2.7           5.1           5.8          1.9\n",
       "3        23          3.0           4.8           6.0          1.8"
      ]
     },
     "metadata": {},
     "output_type": "display_data"
    },
    {
     "name": "stdout",
     "output_type": "stream",
     "text": [
      "\n",
      "Updated dataset after performing scaling on Lasso selected features :\n"
     ]
    },
    {
     "data": {
      "text/html": [
       "<style type=\"text/css\">\n",
       "\ttable {border:ridge 5px;}\n",
       "\ttable td {border:inset 1px;}\n",
       "\ttable tr#HeaderRow {background-color:grey; color:white;}</style>\n",
       "<html><table>\n",
       "\t<tr id=\"HeaderRow\">\n",
       "\t\t<th>species</th>\n",
       "\t\t<th>id</th>\n",
       "\t\t<th>sepal_width</th>\n",
       "\t\t<th>petal_length</th>\n",
       "\t\t<th>sepal_length</th>\n",
       "\t\t<th>petal_width</th>\n",
       "\t</tr>\n",
       "\t<tr>\n",
       "\t\t<td>3</td>\n",
       "\t\t<td>25</td>\n",
       "\t\t<td>0.2777777777777778</td>\n",
       "\t\t<td>0.6842105263157894</td>\n",
       "\t\t<td>0.39999999999999986</td>\n",
       "\t\t<td>0.75</td>\n",
       "\t</tr>\n",
       "\t<tr>\n",
       "\t\t<td>3</td>\n",
       "\t\t<td>34</td>\n",
       "\t\t<td>0.44444444444444436</td>\n",
       "\t\t<td>0.8070175438596491</td>\n",
       "\t\t<td>0.5999999999999999</td>\n",
       "\t\t<td>0.8750000000000001</td>\n",
       "\t</tr>\n",
       "\t<tr>\n",
       "\t\t<td>3</td>\n",
       "\t\t<td>18</td>\n",
       "\t\t<td>0.7777777777777778</td>\n",
       "\t\t<td>0.8596491228070174</td>\n",
       "\t\t<td>0.7999999999999999</td>\n",
       "\t\t<td>1.0</td>\n",
       "\t</tr>\n",
       "\t<tr>\n",
       "\t\t<td>1</td>\n",
       "\t\t<td>12</td>\n",
       "\t\t<td>0.7777777777777778</td>\n",
       "\t\t<td>0.035087719298245605</td>\n",
       "\t\t<td>0.14285714285714285</td>\n",
       "\t\t<td>0.0</td>\n",
       "\t</tr>\n",
       "\t<tr>\n",
       "\t\t<td>1</td>\n",
       "\t\t<td>39</td>\n",
       "\t\t<td>0.5</td>\n",
       "\t\t<td>0.052631578947368425</td>\n",
       "\t\t<td>0.14285714285714285</td>\n",
       "\t\t<td>0.0</td>\n",
       "\t</tr>\n",
       "\t<tr>\n",
       "\t\t<td>1</td>\n",
       "\t\t<td>31</td>\n",
       "\t\t<td>0.6666666666666666</td>\n",
       "\t\t<td>0.052631578947368425</td>\n",
       "\t\t<td>0.2857142857142857</td>\n",
       "\t\t<td>0.12500000000000003</td>\n",
       "\t</tr>\n",
       "\t<tr>\n",
       "\t\t<td>1</td>\n",
       "\t\t<td>30</td>\n",
       "\t\t<td>0.7222222222222222</td>\n",
       "\t\t<td>0.07017543859649125</td>\n",
       "\t\t<td>0.17142857142857132</td>\n",
       "\t\t<td>0.20833333333333334</td>\n",
       "\t</tr>\n",
       "\t<tr>\n",
       "\t\t<td>1</td>\n",
       "\t\t<td>16</td>\n",
       "\t\t<td>0.6666666666666666</td>\n",
       "\t\t<td>0.052631578947368425</td>\n",
       "\t\t<td>0.17142857142857132</td>\n",
       "\t\t<td>0.04166666666666667</td>\n",
       "\t</tr>\n",
       "\t<tr>\n",
       "\t\t<td>1</td>\n",
       "\t\t<td>11</td>\n",
       "\t\t<td>0.8888888888888887</td>\n",
       "\t\t<td>0.08771929824561403</td>\n",
       "\t\t<td>0.3714285714285714</td>\n",
       "\t\t<td>0.08333333333333333</td>\n",
       "\t</tr>\n",
       "\t<tr>\n",
       "\t\t<td>1</td>\n",
       "\t\t<td>21</td>\n",
       "\t\t<td>0.7222222222222222</td>\n",
       "\t\t<td>0.017543859649122823</td>\n",
       "\t\t<td>0.17142857142857132</td>\n",
       "\t\t<td>0.08333333333333333</td>\n",
       "\t</tr>\n",
       "</table></html>"
      ],
      "text/plain": [
       "   species  id  sepal_width  petal_length  sepal_length  petal_width\n",
       "0        3  25     0.277778      0.684211      0.400000     0.750000\n",
       "1        3  34     0.444444      0.807018      0.600000     0.875000\n",
       "2        3  18     0.777778      0.859649      0.800000     1.000000\n",
       "3        1  12     0.777778      0.035088      0.142857     0.000000\n",
       "4        1  39     0.500000      0.052632      0.142857     0.000000\n",
       "5        1  31     0.666667      0.052632      0.285714     0.125000\n",
       "6        1  30     0.722222      0.070175      0.171429     0.208333\n",
       "7        1  16     0.666667      0.052632      0.171429     0.041667\n",
       "8        1  11     0.888889      0.087719      0.371429     0.083333\n",
       "9        1  21     0.722222      0.017544      0.171429     0.083333"
      ]
     },
     "metadata": {},
     "output_type": "display_data"
    },
    {
     "name": "stdout",
     "output_type": "stream",
     "text": [
      "\n",
      "Updated dataset after performing RFE feature selection:\n"
     ]
    },
    {
     "data": {
      "text/html": [
       "<style type=\"text/css\">\n",
       "\ttable {border:ridge 5px;}\n",
       "\ttable td {border:inset 1px;}\n",
       "\ttable tr#HeaderRow {background-color:grey; color:white;}</style>\n",
       "<html><table>\n",
       "\t<tr id=\"HeaderRow\">\n",
       "\t\t<th>id</th>\n",
       "\t\t<th>petal_length</th>\n",
       "\t\t<th>petal_width</th>\n",
       "\t\t<th>species</th>\n",
       "\t</tr>\n",
       "\t<tr>\n",
       "\t\t<td>39</td>\n",
       "\t\t<td>1.5</td>\n",
       "\t\t<td>0.1</td>\n",
       "\t\t<td>1</td>\n",
       "\t</tr>\n",
       "\t<tr>\n",
       "\t\t<td>30</td>\n",
       "\t\t<td>1.6</td>\n",
       "\t\t<td>0.6</td>\n",
       "\t\t<td>1</td>\n",
       "\t</tr>\n",
       "\t<tr>\n",
       "\t\t<td>16</td>\n",
       "\t\t<td>1.5</td>\n",
       "\t\t<td>0.2</td>\n",
       "\t\t<td>1</td>\n",
       "\t</tr>\n",
       "\t<tr>\n",
       "\t\t<td>11</td>\n",
       "\t\t<td>1.7</td>\n",
       "\t\t<td>0.3</td>\n",
       "\t\t<td>1</td>\n",
       "\t</tr>\n",
       "\t<tr>\n",
       "\t\t<td>35</td>\n",
       "\t\t<td>1.7</td>\n",
       "\t\t<td>0.2</td>\n",
       "\t\t<td>1</td>\n",
       "\t</tr>\n",
       "\t<tr>\n",
       "\t\t<td>24</td>\n",
       "\t\t<td>1.9</td>\n",
       "\t\t<td>0.2</td>\n",
       "\t\t<td>1</td>\n",
       "\t</tr>\n",
       "\t<tr>\n",
       "\t\t<td>32</td>\n",
       "\t\t<td>6.0</td>\n",
       "\t\t<td>1.8</td>\n",
       "\t\t<td>3</td>\n",
       "\t</tr>\n",
       "\t<tr>\n",
       "\t\t<td>38</td>\n",
       "\t\t<td>4.9</td>\n",
       "\t\t<td>1.8</td>\n",
       "\t\t<td>3</td>\n",
       "\t</tr>\n",
       "\t<tr>\n",
       "\t\t<td>25</td>\n",
       "\t\t<td>5.1</td>\n",
       "\t\t<td>1.9</td>\n",
       "\t\t<td>3</td>\n",
       "\t</tr>\n",
       "\t<tr>\n",
       "\t\t<td>23</td>\n",
       "\t\t<td>4.8</td>\n",
       "\t\t<td>1.8</td>\n",
       "\t\t<td>3</td>\n",
       "\t</tr>\n",
       "</table></html>"
      ],
      "text/plain": [
       "         id  petal_length  petal_width\n",
       "species                               \n",
       "1        39           1.5          0.1\n",
       "1        30           1.6          0.6\n",
       "1        16           1.5          0.2\n",
       "1        11           1.7          0.3\n",
       "1        35           1.7          0.2\n",
       "1        24           1.9          0.2\n",
       "3        32           6.0          1.8\n",
       "3        38           4.9          1.8\n",
       "3        25           5.1          1.9\n",
       "3        23           4.8          1.8"
      ]
     },
     "metadata": {},
     "output_type": "display_data"
    },
    {
     "name": "stdout",
     "output_type": "stream",
     "text": [
      "\n",
      "Updated dataset after performing scaling on RFE selected features :\n"
     ]
    },
    {
     "data": {
      "text/html": [
       "<style type=\"text/css\">\n",
       "\ttable {border:ridge 5px;}\n",
       "\ttable td {border:inset 1px;}\n",
       "\ttable tr#HeaderRow {background-color:grey; color:white;}</style>\n",
       "<html><table>\n",
       "\t<tr id=\"HeaderRow\">\n",
       "\t\t<th>species</th>\n",
       "\t\t<th>id</th>\n",
       "\t\t<th>r_petal_length</th>\n",
       "\t\t<th>r_petal_width</th>\n",
       "\t</tr>\n",
       "\t<tr>\n",
       "\t\t<td>3</td>\n",
       "\t\t<td>25</td>\n",
       "\t\t<td>0.6842105263157894</td>\n",
       "\t\t<td>0.75</td>\n",
       "\t</tr>\n",
       "\t<tr>\n",
       "\t\t<td>3</td>\n",
       "\t\t<td>34</td>\n",
       "\t\t<td>0.8070175438596491</td>\n",
       "\t\t<td>0.8750000000000001</td>\n",
       "\t</tr>\n",
       "\t<tr>\n",
       "\t\t<td>3</td>\n",
       "\t\t<td>18</td>\n",
       "\t\t<td>0.8596491228070174</td>\n",
       "\t\t<td>1.0</td>\n",
       "\t</tr>\n",
       "\t<tr>\n",
       "\t\t<td>1</td>\n",
       "\t\t<td>12</td>\n",
       "\t\t<td>0.035087719298245605</td>\n",
       "\t\t<td>0.0</td>\n",
       "\t</tr>\n",
       "\t<tr>\n",
       "\t\t<td>1</td>\n",
       "\t\t<td>39</td>\n",
       "\t\t<td>0.052631578947368425</td>\n",
       "\t\t<td>0.0</td>\n",
       "\t</tr>\n",
       "\t<tr>\n",
       "\t\t<td>1</td>\n",
       "\t\t<td>31</td>\n",
       "\t\t<td>0.052631578947368425</td>\n",
       "\t\t<td>0.12500000000000003</td>\n",
       "\t</tr>\n",
       "\t<tr>\n",
       "\t\t<td>1</td>\n",
       "\t\t<td>30</td>\n",
       "\t\t<td>0.07017543859649125</td>\n",
       "\t\t<td>0.20833333333333334</td>\n",
       "\t</tr>\n",
       "\t<tr>\n",
       "\t\t<td>1</td>\n",
       "\t\t<td>16</td>\n",
       "\t\t<td>0.052631578947368425</td>\n",
       "\t\t<td>0.04166666666666667</td>\n",
       "\t</tr>\n",
       "\t<tr>\n",
       "\t\t<td>1</td>\n",
       "\t\t<td>11</td>\n",
       "\t\t<td>0.08771929824561403</td>\n",
       "\t\t<td>0.08333333333333333</td>\n",
       "\t</tr>\n",
       "\t<tr>\n",
       "\t\t<td>1</td>\n",
       "\t\t<td>21</td>\n",
       "\t\t<td>0.017543859649122823</td>\n",
       "\t\t<td>0.08333333333333333</td>\n",
       "\t</tr>\n",
       "</table></html>"
      ],
      "text/plain": [
       "   species  id  r_petal_length  r_petal_width\n",
       "0        3  25        0.684211       0.750000\n",
       "1        3  34        0.807018       0.875000\n",
       "2        3  18        0.859649       1.000000\n",
       "3        1  12        0.035088       0.000000\n",
       "4        1  39        0.052632       0.000000\n",
       "5        1  31        0.052632       0.125000\n",
       "6        1  30        0.070175       0.208333\n",
       "7        1  16        0.052632       0.041667\n",
       "8        1  11        0.087719       0.083333\n",
       "9        1  21        0.017544       0.083333"
      ]
     },
     "metadata": {},
     "output_type": "display_data"
    },
    {
     "name": "stdout",
     "output_type": "stream",
     "text": [
      "\n",
      "Updated dataset after performing scaling for PCA feature selection :\n"
     ]
    },
    {
     "data": {
      "text/html": [
       "<style type=\"text/css\">\n",
       "\ttable {border:ridge 5px;}\n",
       "\ttable td {border:inset 1px;}\n",
       "\ttable tr#HeaderRow {background-color:grey; color:white;}</style>\n",
       "<html><table>\n",
       "\t<tr id=\"HeaderRow\">\n",
       "\t\t<th>species</th>\n",
       "\t\t<th>id</th>\n",
       "\t\t<th>sepal_length</th>\n",
       "\t\t<th>sepal_width</th>\n",
       "\t\t<th>petal_length</th>\n",
       "\t\t<th>petal_width</th>\n",
       "\t</tr>\n",
       "\t<tr>\n",
       "\t\t<td>1</td>\n",
       "\t\t<td>39</td>\n",
       "\t\t<td>0.14285714285714285</td>\n",
       "\t\t<td>0.5</td>\n",
       "\t\t<td>0.052631578947368425</td>\n",
       "\t\t<td>0.0</td>\n",
       "\t</tr>\n",
       "\t<tr>\n",
       "\t\t<td>1</td>\n",
       "\t\t<td>30</td>\n",
       "\t\t<td>0.17142857142857132</td>\n",
       "\t\t<td>0.7222222222222222</td>\n",
       "\t\t<td>0.07017543859649125</td>\n",
       "\t\t<td>0.20833333333333334</td>\n",
       "\t</tr>\n",
       "\t<tr>\n",
       "\t\t<td>1</td>\n",
       "\t\t<td>16</td>\n",
       "\t\t<td>0.17142857142857132</td>\n",
       "\t\t<td>0.6666666666666666</td>\n",
       "\t\t<td>0.052631578947368425</td>\n",
       "\t\t<td>0.04166666666666667</td>\n",
       "\t</tr>\n",
       "\t<tr>\n",
       "\t\t<td>1</td>\n",
       "\t\t<td>11</td>\n",
       "\t\t<td>0.3714285714285714</td>\n",
       "\t\t<td>0.8888888888888887</td>\n",
       "\t\t<td>0.08771929824561403</td>\n",
       "\t\t<td>0.08333333333333333</td>\n",
       "\t</tr>\n",
       "\t<tr>\n",
       "\t\t<td>1</td>\n",
       "\t\t<td>35</td>\n",
       "\t\t<td>0.2857142857142857</td>\n",
       "\t\t<td>0.6666666666666666</td>\n",
       "\t\t<td>0.08771929824561403</td>\n",
       "\t\t<td>0.04166666666666667</td>\n",
       "\t</tr>\n",
       "\t<tr>\n",
       "\t\t<td>1</td>\n",
       "\t\t<td>24</td>\n",
       "\t\t<td>0.11428571428571413</td>\n",
       "\t\t<td>0.6666666666666666</td>\n",
       "\t\t<td>0.12280701754385964</td>\n",
       "\t\t<td>0.04166666666666667</td>\n",
       "\t</tr>\n",
       "\t<tr>\n",
       "\t\t<td>3</td>\n",
       "\t\t<td>32</td>\n",
       "\t\t<td>0.7999999999999999</td>\n",
       "\t\t<td>0.5555555555555556</td>\n",
       "\t\t<td>0.8421052631578947</td>\n",
       "\t\t<td>0.7083333333333334</td>\n",
       "\t</tr>\n",
       "\t<tr>\n",
       "\t\t<td>3</td>\n",
       "\t\t<td>38</td>\n",
       "\t\t<td>0.5428571428571427</td>\n",
       "\t\t<td>0.2777777777777778</td>\n",
       "\t\t<td>0.6491228070175439</td>\n",
       "\t\t<td>0.7083333333333334</td>\n",
       "\t</tr>\n",
       "\t<tr>\n",
       "\t\t<td>3</td>\n",
       "\t\t<td>25</td>\n",
       "\t\t<td>0.39999999999999986</td>\n",
       "\t\t<td>0.2777777777777778</td>\n",
       "\t\t<td>0.6842105263157894</td>\n",
       "\t\t<td>0.75</td>\n",
       "\t</tr>\n",
       "\t<tr>\n",
       "\t\t<td>3</td>\n",
       "\t\t<td>23</td>\n",
       "\t\t<td>0.457142857142857</td>\n",
       "\t\t<td>0.44444444444444436</td>\n",
       "\t\t<td>0.631578947368421</td>\n",
       "\t\t<td>0.7083333333333334</td>\n",
       "\t</tr>\n",
       "</table></html>"
      ],
      "text/plain": [
       "   species  id  sepal_length  sepal_width  petal_length  petal_width\n",
       "0        1  39      0.142857     0.500000      0.052632     0.000000\n",
       "1        1  30      0.171429     0.722222      0.070175     0.208333\n",
       "2        1  16      0.171429     0.666667      0.052632     0.041667\n",
       "3        1  11      0.371429     0.888889      0.087719     0.083333\n",
       "4        1  35      0.285714     0.666667      0.087719     0.041667\n",
       "5        1  24      0.114286     0.666667      0.122807     0.041667\n",
       "6        3  32      0.800000     0.555556      0.842105     0.708333\n",
       "7        3  38      0.542857     0.277778      0.649123     0.708333\n",
       "8        3  25      0.400000     0.277778      0.684211     0.750000\n",
       "9        3  23      0.457143     0.444444      0.631579     0.708333"
      ]
     },
     "metadata": {},
     "output_type": "display_data"
    },
    {
     "name": "stdout",
     "output_type": "stream",
     "text": [
      "\n",
      "Updated dataset after performing PCA feature selection :\n"
     ]
    },
    {
     "data": {
      "text/html": [
       "<div>\n",
       "<style scoped>\n",
       "    .dataframe tbody tr th:only-of-type {\n",
       "        vertical-align: middle;\n",
       "    }\n",
       "\n",
       "    .dataframe tbody tr th {\n",
       "        vertical-align: top;\n",
       "    }\n",
       "\n",
       "    .dataframe thead th {\n",
       "        text-align: right;\n",
       "    }\n",
       "</style>\n",
       "<table border=\"1\" class=\"dataframe\">\n",
       "  <thead>\n",
       "    <tr style=\"text-align: right;\">\n",
       "      <th></th>\n",
       "      <th>id</th>\n",
       "      <th>col_0</th>\n",
       "      <th>col_1</th>\n",
       "      <th>species</th>\n",
       "    </tr>\n",
       "  </thead>\n",
       "  <tbody>\n",
       "    <tr>\n",
       "      <th>0</th>\n",
       "      <td>12</td>\n",
       "      <td>-0.747502</td>\n",
       "      <td>0.197211</td>\n",
       "      <td>1</td>\n",
       "    </tr>\n",
       "    <tr>\n",
       "      <th>1</th>\n",
       "      <td>32</td>\n",
       "      <td>0.524742</td>\n",
       "      <td>0.210324</td>\n",
       "      <td>3</td>\n",
       "    </tr>\n",
       "    <tr>\n",
       "      <th>2</th>\n",
       "      <td>27</td>\n",
       "      <td>-0.691940</td>\n",
       "      <td>0.320662</td>\n",
       "      <td>1</td>\n",
       "    </tr>\n",
       "    <tr>\n",
       "      <th>3</th>\n",
       "      <td>38</td>\n",
       "      <td>0.334287</td>\n",
       "      <td>-0.134925</td>\n",
       "      <td>3</td>\n",
       "    </tr>\n",
       "    <tr>\n",
       "      <th>4</th>\n",
       "      <td>39</td>\n",
       "      <td>-0.692206</td>\n",
       "      <td>-0.061674</td>\n",
       "      <td>1</td>\n",
       "    </tr>\n",
       "    <tr>\n",
       "      <th>5</th>\n",
       "      <td>25</td>\n",
       "      <td>0.318190</td>\n",
       "      <td>-0.188041</td>\n",
       "      <td>3</td>\n",
       "    </tr>\n",
       "    <tr>\n",
       "      <th>6</th>\n",
       "      <td>31</td>\n",
       "      <td>-0.577049</td>\n",
       "      <td>0.147195</td>\n",
       "      <td>1</td>\n",
       "    </tr>\n",
       "    <tr>\n",
       "      <th>7</th>\n",
       "      <td>23</td>\n",
       "      <td>0.258428</td>\n",
       "      <td>-0.010735</td>\n",
       "      <td>3</td>\n",
       "    </tr>\n",
       "    <tr>\n",
       "      <th>8</th>\n",
       "      <td>30</td>\n",
       "      <td>-0.574174</td>\n",
       "      <td>0.157378</td>\n",
       "      <td>1</td>\n",
       "    </tr>\n",
       "    <tr>\n",
       "      <th>9</th>\n",
       "      <td>34</td>\n",
       "      <td>0.535187</td>\n",
       "      <td>0.037187</td>\n",
       "      <td>3</td>\n",
       "    </tr>\n",
       "    <tr>\n",
       "      <th>10</th>\n",
       "      <td>16</td>\n",
       "      <td>-0.680095</td>\n",
       "      <td>0.104263</td>\n",
       "      <td>1</td>\n",
       "    </tr>\n",
       "    <tr>\n",
       "      <th>11</th>\n",
       "      <td>18</td>\n",
       "      <td>0.681951</td>\n",
       "      <td>0.419969</td>\n",
       "      <td>3</td>\n",
       "    </tr>\n",
       "    <tr>\n",
       "      <th>12</th>\n",
       "      <td>11</td>\n",
       "      <td>-0.578423</td>\n",
       "      <td>0.383345</td>\n",
       "      <td>1</td>\n",
       "    </tr>\n",
       "    <tr>\n",
       "      <th>13</th>\n",
       "      <td>21</td>\n",
       "      <td>-0.684797</td>\n",
       "      <td>0.157748</td>\n",
       "      <td>1</td>\n",
       "    </tr>\n",
       "    <tr>\n",
       "      <th>14</th>\n",
       "      <td>35</td>\n",
       "      <td>-0.607202</td>\n",
       "      <td>0.144826</td>\n",
       "      <td>1</td>\n",
       "    </tr>\n",
       "    <tr>\n",
       "      <th>15</th>\n",
       "      <td>24</td>\n",
       "      <td>-0.662048</td>\n",
       "      <td>0.080712</td>\n",
       "      <td>1</td>\n",
       "    </tr>\n",
       "    <tr>\n",
       "      <th>16</th>\n",
       "      <td>14</td>\n",
       "      <td>-0.722456</td>\n",
       "      <td>-0.029125</td>\n",
       "      <td>1</td>\n",
       "    </tr>\n",
       "    <tr>\n",
       "      <th>17</th>\n",
       "      <td>20</td>\n",
       "      <td>0.191469</td>\n",
       "      <td>0.114679</td>\n",
       "      <td>2</td>\n",
       "    </tr>\n",
       "    <tr>\n",
       "      <th>18</th>\n",
       "      <td>15</td>\n",
       "      <td>0.343668</td>\n",
       "      <td>0.060701</td>\n",
       "      <td>2</td>\n",
       "    </tr>\n",
       "    <tr>\n",
       "      <th>19</th>\n",
       "      <td>17</td>\n",
       "      <td>0.165281</td>\n",
       "      <td>-0.053382</td>\n",
       "      <td>2</td>\n",
       "    </tr>\n",
       "    <tr>\n",
       "      <th>20</th>\n",
       "      <td>13</td>\n",
       "      <td>0.038701</td>\n",
       "      <td>-0.206274</td>\n",
       "      <td>2</td>\n",
       "    </tr>\n",
       "    <tr>\n",
       "      <th>21</th>\n",
       "      <td>9</td>\n",
       "      <td>0.001164</td>\n",
       "      <td>-0.050681</td>\n",
       "      <td>2</td>\n",
       "    </tr>\n",
       "    <tr>\n",
       "      <th>22</th>\n",
       "      <td>19</td>\n",
       "      <td>-0.028187</td>\n",
       "      <td>-0.308667</td>\n",
       "      <td>2</td>\n",
       "    </tr>\n",
       "    <tr>\n",
       "      <th>23</th>\n",
       "      <td>8</td>\n",
       "      <td>0.025355</td>\n",
       "      <td>-0.236208</td>\n",
       "      <td>2</td>\n",
       "    </tr>\n",
       "    <tr>\n",
       "      <th>24</th>\n",
       "      <td>29</td>\n",
       "      <td>0.227895</td>\n",
       "      <td>0.082090</td>\n",
       "      <td>2</td>\n",
       "    </tr>\n",
       "    <tr>\n",
       "      <th>25</th>\n",
       "      <td>36</td>\n",
       "      <td>0.145503</td>\n",
       "      <td>-0.001081</td>\n",
       "      <td>2</td>\n",
       "    </tr>\n",
       "    <tr>\n",
       "      <th>26</th>\n",
       "      <td>22</td>\n",
       "      <td>0.039647</td>\n",
       "      <td>-0.422020</td>\n",
       "      <td>2</td>\n",
       "    </tr>\n",
       "    <tr>\n",
       "      <th>27</th>\n",
       "      <td>28</td>\n",
       "      <td>0.134032</td>\n",
       "      <td>-0.019894</td>\n",
       "      <td>2</td>\n",
       "    </tr>\n",
       "    <tr>\n",
       "      <th>28</th>\n",
       "      <td>26</td>\n",
       "      <td>-0.178440</td>\n",
       "      <td>-0.471373</td>\n",
       "      <td>2</td>\n",
       "    </tr>\n",
       "    <tr>\n",
       "      <th>29</th>\n",
       "      <td>10</td>\n",
       "      <td>0.207262</td>\n",
       "      <td>0.175200</td>\n",
       "      <td>2</td>\n",
       "    </tr>\n",
       "  </tbody>\n",
       "</table>\n",
       "</div>"
      ],
      "text/plain": [
       "    id     col_0     col_1  species\n",
       "0   12 -0.747502  0.197211        1\n",
       "1   32  0.524742  0.210324        3\n",
       "2   27 -0.691940  0.320662        1\n",
       "3   38  0.334287 -0.134925        3\n",
       "4   39 -0.692206 -0.061674        1\n",
       "5   25  0.318190 -0.188041        3\n",
       "6   31 -0.577049  0.147195        1\n",
       "7   23  0.258428 -0.010735        3\n",
       "8   30 -0.574174  0.157378        1\n",
       "9   34  0.535187  0.037187        3\n",
       "10  16 -0.680095  0.104263        1\n",
       "11  18  0.681951  0.419969        3\n",
       "12  11 -0.578423  0.383345        1\n",
       "13  21 -0.684797  0.157748        1\n",
       "14  35 -0.607202  0.144826        1\n",
       "15  24 -0.662048  0.080712        1\n",
       "16  14 -0.722456 -0.029125        1\n",
       "17  20  0.191469  0.114679        2\n",
       "18  15  0.343668  0.060701        2\n",
       "19  17  0.165281 -0.053382        2\n",
       "20  13  0.038701 -0.206274        2\n",
       "21   9  0.001164 -0.050681        2\n",
       "22  19 -0.028187 -0.308667        2\n",
       "23   8  0.025355 -0.236208        2\n",
       "24  29  0.227895  0.082090        2\n",
       "25  36  0.145503 -0.001081        2\n",
       "26  22  0.039647 -0.422020        2\n",
       "27  28  0.134032 -0.019894        2\n",
       "28  26 -0.178440 -0.471373        2\n",
       "29  10  0.207262  0.175200        2"
      ]
     },
     "metadata": {},
     "output_type": "display_data"
    },
    {
     "name": "stdout",
     "output_type": "stream",
     "text": [
      "Data Transformation completed.\n",
      "xgboost lasso\n",
      "\n",
      " Prediction : \n",
      "   species  id  Prediction  Confidence_Lower  Confidence_upper\n",
      "0        3  25           1               0.5               0.5\n",
      "1        3  34           1               0.5               0.5\n",
      "2        3  18           1               0.5               0.5\n",
      "3        1  12           1               1.0               1.0\n",
      "4        1  39           1               1.0               1.0\n",
      "5        1  31           1               1.0               1.0\n",
      "6        1  30           1               1.0               1.0\n",
      "7        1  16           1               1.0               1.0\n",
      "8        1  11           1               1.0               1.0\n",
      "9        1  21           1               1.0               1.0\n",
      "\n",
      " Performance Metrics : \n",
      "       Prediction  Mapping  CLASS_1  CLASS_2  CLASS_3  Precision  Recall        F1  Support\n",
      "SeqNum                                                                                     \n",
      "0               1  CLASS_1       11       13        6   0.366667     1.0  0.536585       11\n",
      "2               3  CLASS_3        0        0        0   0.000000     0.0  0.000000        6\n",
      "1               2  CLASS_2        0        0        0   0.000000     0.0  0.000000       13\n",
      "\n",
      " Confusion Matrix : \n"
     ]
    },
    {
     "data": {
      "text/plain": [
       "array([[11,  0,  0],\n",
       "       [13,  0,  0],\n",
       "       [ 6,  0,  0]], dtype=int64)"
      ]
     },
     "metadata": {},
     "output_type": "display_data"
    }
   ],
   "source": [
    "# Generating prediction and metrics on test data\n",
    "prediction = aml.predict(iris_test,2)"
   ]
  },
  {
   "cell_type": "code",
   "execution_count": 26,
   "id": "e287adcb-1ed3-431d-9edd-0b70d1feeaf0",
   "metadata": {},
   "outputs": [
    {
     "data": {
      "text/html": [
       "<style type=\"text/css\">\n",
       "\ttable {border:ridge 5px;}\n",
       "\ttable td {border:inset 1px;}\n",
       "\ttable tr#HeaderRow {background-color:grey; color:white;}</style>\n",
       "<html><table>\n",
       "\t<tr id=\"HeaderRow\">\n",
       "\t\t<th>species</th>\n",
       "\t\t<th>id</th>\n",
       "\t\t<th>Prediction</th>\n",
       "\t\t<th>Confidence_Lower</th>\n",
       "\t\t<th>Confidence_upper</th>\n",
       "\t</tr>\n",
       "\t<tr>\n",
       "\t\t<td>1</td>\n",
       "\t\t<td>11</td>\n",
       "\t\t<td>1</td>\n",
       "\t\t<td>1.0</td>\n",
       "\t\t<td>1.0</td>\n",
       "\t</tr>\n",
       "\t<tr>\n",
       "\t\t<td>1</td>\n",
       "\t\t<td>35</td>\n",
       "\t\t<td>1</td>\n",
       "\t\t<td>1.0</td>\n",
       "\t\t<td>1.0</td>\n",
       "\t</tr>\n",
       "\t<tr>\n",
       "\t\t<td>1</td>\n",
       "\t\t<td>12</td>\n",
       "\t\t<td>1</td>\n",
       "\t\t<td>1.0</td>\n",
       "\t\t<td>1.0</td>\n",
       "\t</tr>\n",
       "\t<tr>\n",
       "\t\t<td>1</td>\n",
       "\t\t<td>30</td>\n",
       "\t\t<td>1</td>\n",
       "\t\t<td>1.0</td>\n",
       "\t\t<td>1.0</td>\n",
       "\t</tr>\n",
       "\t<tr>\n",
       "\t\t<td>1</td>\n",
       "\t\t<td>14</td>\n",
       "\t\t<td>1</td>\n",
       "\t\t<td>1.0</td>\n",
       "\t\t<td>1.0</td>\n",
       "\t</tr>\n",
       "\t<tr>\n",
       "\t\t<td>1</td>\n",
       "\t\t<td>21</td>\n",
       "\t\t<td>1</td>\n",
       "\t\t<td>1.0</td>\n",
       "\t\t<td>1.0</td>\n",
       "\t</tr>\n",
       "\t<tr>\n",
       "\t\t<td>1</td>\n",
       "\t\t<td>16</td>\n",
       "\t\t<td>1</td>\n",
       "\t\t<td>1.0</td>\n",
       "\t\t<td>1.0</td>\n",
       "\t</tr>\n",
       "\t<tr>\n",
       "\t\t<td>1</td>\n",
       "\t\t<td>39</td>\n",
       "\t\t<td>1</td>\n",
       "\t\t<td>1.0</td>\n",
       "\t\t<td>1.0</td>\n",
       "\t</tr>\n",
       "\t<tr>\n",
       "\t\t<td>1</td>\n",
       "\t\t<td>24</td>\n",
       "\t\t<td>1</td>\n",
       "\t\t<td>1.0</td>\n",
       "\t\t<td>1.0</td>\n",
       "\t</tr>\n",
       "\t<tr>\n",
       "\t\t<td>1</td>\n",
       "\t\t<td>31</td>\n",
       "\t\t<td>1</td>\n",
       "\t\t<td>1.0</td>\n",
       "\t\t<td>1.0</td>\n",
       "\t</tr>\n",
       "</table></html>"
      ],
      "text/plain": [
       "   species  id  Prediction  Confidence_Lower  Confidence_upper\n",
       "0        1  11           1               1.0               1.0\n",
       "1        1  35           1               1.0               1.0\n",
       "2        1  12           1               1.0               1.0\n",
       "3        1  30           1               1.0               1.0\n",
       "4        1  14           1               1.0               1.0\n",
       "5        1  21           1               1.0               1.0\n",
       "6        1  16           1               1.0               1.0\n",
       "7        1  39           1               1.0               1.0\n",
       "8        1  24           1               1.0               1.0\n",
       "9        1  31           1               1.0               1.0"
      ]
     },
     "execution_count": 26,
     "metadata": {},
     "output_type": "execute_result"
    }
   ],
   "source": [
    "# Printing prediction\n",
    "prediction.head()"
   ]
  },
  {
   "cell_type": "code",
   "execution_count": 27,
   "id": "b2cba357-75ac-4089-a234-64a57067b117",
   "metadata": {},
   "outputs": [
    {
     "data": {
      "text/plain": [
       "True"
      ]
     },
     "execution_count": 27,
     "metadata": {},
     "output_type": "execute_result"
    }
   ],
   "source": [
    "remove_context()"
   ]
  },
  {
   "cell_type": "code",
   "execution_count": null,
   "id": "b672112c-d042-4842-846b-163f495d7664",
   "metadata": {},
   "outputs": [],
   "source": []
  }
 ],
 "metadata": {
  "kernelspec": {
   "display_name": "Python 3 (ipykernel)",
   "language": "python",
   "name": "python3"
  },
  "language_info": {
   "codemirror_mode": {
    "name": "ipython",
    "version": 3
   },
   "file_extension": ".py",
   "mimetype": "text/x-python",
   "name": "python",
   "nbconvert_exporter": "python",
   "pygments_lexer": "ipython3",
   "version": "3.10.9"
  }
 },
 "nbformat": 4,
 "nbformat_minor": 5
}
