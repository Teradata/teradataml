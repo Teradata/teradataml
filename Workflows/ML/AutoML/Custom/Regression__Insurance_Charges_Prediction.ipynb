{
 "cells": [
  {
   "cell_type": "markdown",
   "id": "2762f1d8-5a66-411f-a625-34cf16ac6dd3",
   "metadata": {},
   "source": [
    "# <b><span style='color:#F1A424'>AutoML - Regression - Medical Insurance Charges Prediction </span> </b>"
   ]
  },
  {
   "cell_type": "markdown",
   "id": "0bae5dff-37ed-4417-94b3-6aa76daecb72",
   "metadata": {},
   "source": [
    "### Disclaimer\n",
    "Please note, the Vantage Functions via SQLAlchemy feature is a preview/beta code release with limited functionality (the “Code”). As such, you acknowledge that the Code is experimental in nature and that the Code is provided “AS IS” and may not be functional on any machine or in any environment. TERADATA DISCLAIMS ALL WARRANTIES RELATING TO THE CODE, EXPRESS OR IMPLIED, INCLUDING, BUT NOT LIMITED TO, ANY WARRANTIES AGAINST INFRINGEMENT OF THIRD-PARTY RIGHTS, MERCHANTABILITY AND FITNESS FOR A PARTICULAR PURPOSE.\n",
    "\n",
    "TERADATA SHALL NOT BE RESPONSIBLE OR LIABLE WITH RESPECT TO ANY SUBJECT MATTER OF THE CODE UNDER ANY CONTRACT, NEGLIGENCE, STRICT LIABILITY OR OTHER THEORY \n",
    "    (A) FOR LOSS OR INACCURACY OF DATA OR COST OF PROCUREMENT OF SUBSTITUTE GOODS, SERVICES OR TECHNOLOGY, OR \n",
    "    (B) FOR ANY INDIRECT, INCIDENTAL OR CONSEQUENTIAL DAMAGES INCLUDING, BUT NOT LIMITED TO LOSS OF REVENUES AND LOSS OF PROFITS. TERADATA SHALL NOT BE RESPONSIBLE FOR ANY MATTER BEYOND ITS REASONABLE CONTROL.\n",
    "\n",
    "Notwithstanding anything to the contrary: \n",
    "    (a) Teradata will have no obligation of any kind with respect to any Code-related comments, suggestions, design changes or improvements that you elect to provide to Teradata in either verbal or written form (collectively, “Feedback”), and \n",
    "    (b) Teradata and its affiliates are hereby free to use any ideas, concepts, know-how or techniques, in whole or in part, contained in Feedback: \n",
    "        (i) for any purpose whatsoever, including developing, manufacturing, and/or marketing products and/or services incorporating Feedback in whole or in part, and \n",
    "        (ii) without any restrictions or limitations, including requiring the payment of any license fees, royalties, or other consideration. "
   ]
  },
  {
   "cell_type": "markdown",
   "id": "f225fb94-b2c8-4c92-af38-733d08e0e2a1",
   "metadata": {},
   "source": [
    "## <b> Problem overview:</b>\n",
    "    "
   ]
  },
  {
   "cell_type": "markdown",
   "id": "af9813eb-9c44-4968-a5fe-d1c74415c894",
   "metadata": {},
   "source": [
    "**Dataset Used : Medical insurance Dataset**\n",
    "\n",
    "**Features**:\n",
    "\n",
    "- `Age`: The insured person's age.\n",
    "- `Sex`: Gender (male or female) of the insured.\n",
    "- `BMI (Body Mass Index)`: A measure of body fat based on height and weight.\n",
    "- `Children`: The number of dependents covered.\n",
    "- `Smoker`: Whether the insured is a smoker (yes or no).\n",
    "- `Region`: The geographic area of coverage.\n",
    "\n",
    "**Target Variable**:\n",
    "\n",
    "- `Charges`: The medical insurance costs incurred by the insured person.\n",
    "    \n",
    "**Objective**:\n",
    "\n",
    "The primary objective is typically to build a model that can accurately predict medical insurance costs incurred by the insured person.\n",
    "\n",
    "**Usecase**:\n",
    "\n",
    "Here, we will use AutoML(Automated Machine Learning) functionality to automate the entire process of developing a predictive model. It will perform feature exploration, feature engineering, data preparation, model training and evaluation on dataset in custom run and at end we will get leaderboard containined different models along with their performance. Model will also have rank associated with them which indicates which is best performing model for given data followed by other models.\n",
    "\n",
    "As part of custom AutoML run, we will customize below functionalities:\n",
    "- Binning on 'age' feature to get 3 different levels.\n",
    "- Customized target encoding on 'region' feature.\n",
    "- Train test split with training size 0.9.\n",
    "- Feature scaling with 'midrange' method."
   ]
  },
  {
   "cell_type": "code",
   "execution_count": 1,
   "id": "66568348-4d00-477c-a071-17995f797c95",
   "metadata": {},
   "outputs": [],
   "source": [
    "# Importing AutoML from teradataml\n",
    "from teradataml import AutoML, AutoRegressor"
   ]
  },
  {
   "cell_type": "code",
   "execution_count": 2,
   "id": "17dfae70-0401-4cc4-ba1c-400a5cf62451",
   "metadata": {},
   "outputs": [],
   "source": [
    "# Importing other important libraries\n",
    "import getpass\n",
    "from teradataml import create_context, remove_context\n",
    "from teradataml import DataFrame\n",
    "from teradataml import load_example_data\n",
    "from teradataml import TrainTestSplit"
   ]
  },
  {
   "cell_type": "code",
   "execution_count": 3,
   "id": "cadd9ed2-42d6-4899-b23e-4e2cf601162f",
   "metadata": {},
   "outputs": [
    {
     "name": "stdin",
     "output_type": "stream",
     "text": [
      "Host:  ········\n",
      "Username:  ········\n",
      "Password:  ········\n"
     ]
    }
   ],
   "source": [
    "# Create the connection.\n",
    "host = getpass.getpass(\"Host: \")\n",
    "username = getpass.getpass(\"Username: \")\n",
    "password = getpass.getpass(\"Password: \")\n",
    "\n",
    "con = create_context(host=host, username=username, password=password)"
   ]
  },
  {
   "cell_type": "markdown",
   "id": "be767a89-d5b8-4876-91cb-36980754586e",
   "metadata": {},
   "source": [
    "## <b><span style='color:#F1A424'>| 1.</span> Loading Dataset </b>"
   ]
  },
  {
   "cell_type": "code",
   "execution_count": 4,
   "id": "f1592c52-b247-4792-be2a-30b49bbeb9b6",
   "metadata": {},
   "outputs": [
    {
     "name": "stdout",
     "output_type": "stream",
     "text": [
      "WARNING: Skipped loading table insurance since it already exists in the database.\n"
     ]
    }
   ],
   "source": [
    "# Loading dataset from example data collection\n",
    "load_example_data('teradataml','insurance')"
   ]
  },
  {
   "cell_type": "code",
   "execution_count": 5,
   "id": "3846ae0f-004b-4b8e-9fea-06fac4294065",
   "metadata": {},
   "outputs": [],
   "source": [
    "# Fetching in teradata dataframe\n",
    "insurance_df = DataFrame(\"insurance\")"
   ]
  },
  {
   "cell_type": "code",
   "execution_count": 6,
   "id": "442ccd80-b444-413e-970d-d855ec3d6cae",
   "metadata": {},
   "outputs": [
    {
     "data": {
      "text/html": [
       "<style type=\"text/css\">\n",
       "\ttable {border:ridge 5px;}\n",
       "\ttable td {border:inset 1px;}\n",
       "\ttable tr#HeaderRow {background-color:grey; color:white;}</style>\n",
       "<html><table>\n",
       "\t<tr id=\"HeaderRow\">\n",
       "\t\t<th>age</th>\n",
       "\t\t<th>sex</th>\n",
       "\t\t<th>bmi</th>\n",
       "\t\t<th>children</th>\n",
       "\t\t<th>smoker</th>\n",
       "\t\t<th>region</th>\n",
       "\t\t<th>charges</th>\n",
       "\t</tr>\n",
       "\t<tr>\n",
       "\t\t<td>18</td>\n",
       "\t\t<td>female</td>\n",
       "\t\t<td>38.28</td>\n",
       "\t\t<td>0</td>\n",
       "\t\t<td>no</td>\n",
       "\t\t<td>southeast</td>\n",
       "\t\t<td>14133.03775</td>\n",
       "\t</tr>\n",
       "\t<tr>\n",
       "\t\t<td>18</td>\n",
       "\t\t<td>male</td>\n",
       "\t\t<td>23.32</td>\n",
       "\t\t<td>1</td>\n",
       "\t\t<td>no</td>\n",
       "\t\t<td>southeast</td>\n",
       "\t\t<td>1711.0268</td>\n",
       "\t</tr>\n",
       "\t<tr>\n",
       "\t\t<td>18</td>\n",
       "\t\t<td>female</td>\n",
       "\t\t<td>26.315</td>\n",
       "\t\t<td>0</td>\n",
       "\t\t<td>no</td>\n",
       "\t\t<td>northeast</td>\n",
       "\t\t<td>2198.18985</td>\n",
       "\t</tr>\n",
       "\t<tr>\n",
       "\t\t<td>18</td>\n",
       "\t\t<td>male</td>\n",
       "\t\t<td>34.43</td>\n",
       "\t\t<td>0</td>\n",
       "\t\t<td>no</td>\n",
       "\t\t<td>southeast</td>\n",
       "\t\t<td>1137.4697</td>\n",
       "\t</tr>\n",
       "\t<tr>\n",
       "\t\t<td>18</td>\n",
       "\t\t<td>male</td>\n",
       "\t\t<td>25.46</td>\n",
       "\t\t<td>0</td>\n",
       "\t\t<td>no</td>\n",
       "\t\t<td>northeast</td>\n",
       "\t\t<td>1708.0014</td>\n",
       "\t</tr>\n",
       "\t<tr>\n",
       "\t\t<td>18</td>\n",
       "\t\t<td>male</td>\n",
       "\t\t<td>33.535</td>\n",
       "\t\t<td>0</td>\n",
       "\t\t<td>yes</td>\n",
       "\t\t<td>northeast</td>\n",
       "\t\t<td>34617.84065</td>\n",
       "\t</tr>\n",
       "\t<tr>\n",
       "\t\t<td>18</td>\n",
       "\t\t<td>female</td>\n",
       "\t\t<td>25.08</td>\n",
       "\t\t<td>0</td>\n",
       "\t\t<td>no</td>\n",
       "\t\t<td>northeast</td>\n",
       "\t\t<td>2196.4732</td>\n",
       "\t</tr>\n",
       "\t<tr>\n",
       "\t\t<td>18</td>\n",
       "\t\t<td>male</td>\n",
       "\t\t<td>35.2</td>\n",
       "\t\t<td>1</td>\n",
       "\t\t<td>no</td>\n",
       "\t\t<td>southeast</td>\n",
       "\t\t<td>1727.54</td>\n",
       "\t</tr>\n",
       "\t<tr>\n",
       "\t\t<td>18</td>\n",
       "\t\t<td>female</td>\n",
       "\t\t<td>35.625</td>\n",
       "\t\t<td>0</td>\n",
       "\t\t<td>no</td>\n",
       "\t\t<td>northeast</td>\n",
       "\t\t<td>2211.13075</td>\n",
       "\t</tr>\n",
       "\t<tr>\n",
       "\t\t<td>18</td>\n",
       "\t\t<td>female</td>\n",
       "\t\t<td>38.17</td>\n",
       "\t\t<td>0</td>\n",
       "\t\t<td>no</td>\n",
       "\t\t<td>southeast</td>\n",
       "\t\t<td>1631.6683</td>\n",
       "\t</tr>\n",
       "</table></html>"
      ],
      "text/plain": [
       "        sex     bmi  children smoker     region      charges\n",
       "age                                                         \n",
       "18   female  38.280         0     no  southeast  14133.03775\n",
       "18     male  23.320         1     no  southeast   1711.02680\n",
       "18   female  26.315         0     no  northeast   2198.18985\n",
       "18     male  34.430         0     no  southeast   1137.46970\n",
       "18     male  25.460         0     no  northeast   1708.00140\n",
       "18     male  33.535         0    yes  northeast  34617.84065\n",
       "18   female  25.080         0     no  northeast   2196.47320\n",
       "18     male  35.200         1     no  southeast   1727.54000\n",
       "18   female  35.625         0     no  northeast   2211.13075\n",
       "18   female  38.170         0     no  southeast   1631.66830"
      ]
     },
     "execution_count": 6,
     "metadata": {},
     "output_type": "execute_result"
    }
   ],
   "source": [
    "# first 5 rows\n",
    "insurance_df.head()"
   ]
  },
  {
   "cell_type": "code",
   "execution_count": 7,
   "id": "636c220d-d12f-4ea5-ab2b-c9203ef00d49",
   "metadata": {},
   "outputs": [
    {
     "data": {
      "text/plain": [
       "(1338, 7)"
      ]
     },
     "execution_count": 7,
     "metadata": {},
     "output_type": "execute_result"
    }
   ],
   "source": [
    "# insurance_df dataset\n",
    "insurance_df.shape"
   ]
  },
  {
   "cell_type": "code",
   "execution_count": 8,
   "id": "e5d1fad7-8784-4d7a-be1f-7be1d3991d8f",
   "metadata": {},
   "outputs": [],
   "source": [
    "# Performing sampling to get 80% for trainning and 20% for testing\n",
    "insurance_df_sample = insurance_df.sample(frac = [0.8, 0.2])"
   ]
  },
  {
   "cell_type": "code",
   "execution_count": 9,
   "id": "a0e6891a-1b7e-4bac-97c8-350ba5f5bde4",
   "metadata": {},
   "outputs": [
    {
     "data": {
      "text/html": [
       "<style type=\"text/css\">\n",
       "\ttable {border:ridge 5px;}\n",
       "\ttable td {border:inset 1px;}\n",
       "\ttable tr#HeaderRow {background-color:grey; color:white;}</style>\n",
       "<html><table>\n",
       "\t<tr id=\"HeaderRow\">\n",
       "\t\t<th>age</th>\n",
       "\t\t<th>sex</th>\n",
       "\t\t<th>bmi</th>\n",
       "\t\t<th>children</th>\n",
       "\t\t<th>smoker</th>\n",
       "\t\t<th>region</th>\n",
       "\t\t<th>charges</th>\n",
       "\t\t<th>sampleid</th>\n",
       "\t</tr>\n",
       "\t<tr>\n",
       "\t\t<td>18</td>\n",
       "\t\t<td>male</td>\n",
       "\t\t<td>17.29</td>\n",
       "\t\t<td>2</td>\n",
       "\t\t<td>yes</td>\n",
       "\t\t<td>northeast</td>\n",
       "\t\t<td>12829.4551</td>\n",
       "\t\t<td>2</td>\n",
       "\t</tr>\n",
       "\t<tr>\n",
       "\t\t<td>18</td>\n",
       "\t\t<td>male</td>\n",
       "\t\t<td>41.14</td>\n",
       "\t\t<td>0</td>\n",
       "\t\t<td>no</td>\n",
       "\t\t<td>southeast</td>\n",
       "\t\t<td>1146.7966</td>\n",
       "\t\t<td>1</td>\n",
       "\t</tr>\n",
       "\t<tr>\n",
       "\t\t<td>18</td>\n",
       "\t\t<td>female</td>\n",
       "\t\t<td>42.24</td>\n",
       "\t\t<td>0</td>\n",
       "\t\t<td>yes</td>\n",
       "\t\t<td>southeast</td>\n",
       "\t\t<td>38792.6856</td>\n",
       "\t\t<td>1</td>\n",
       "\t</tr>\n",
       "\t<tr>\n",
       "\t\t<td>18</td>\n",
       "\t\t<td>female</td>\n",
       "\t\t<td>29.165</td>\n",
       "\t\t<td>0</td>\n",
       "\t\t<td>no</td>\n",
       "\t\t<td>northeast</td>\n",
       "\t\t<td>7323.734819</td>\n",
       "\t\t<td>1</td>\n",
       "\t</tr>\n",
       "\t<tr>\n",
       "\t\t<td>18</td>\n",
       "\t\t<td>female</td>\n",
       "\t\t<td>36.85</td>\n",
       "\t\t<td>0</td>\n",
       "\t\t<td>yes</td>\n",
       "\t\t<td>southeast</td>\n",
       "\t\t<td>36149.4835</td>\n",
       "\t\t<td>1</td>\n",
       "\t</tr>\n",
       "\t<tr>\n",
       "\t\t<td>18</td>\n",
       "\t\t<td>male</td>\n",
       "\t\t<td>34.1</td>\n",
       "\t\t<td>0</td>\n",
       "\t\t<td>no</td>\n",
       "\t\t<td>southeast</td>\n",
       "\t\t<td>1137.011</td>\n",
       "\t\t<td>1</td>\n",
       "\t</tr>\n",
       "\t<tr>\n",
       "\t\t<td>18</td>\n",
       "\t\t<td>female</td>\n",
       "\t\t<td>33.88</td>\n",
       "\t\t<td>0</td>\n",
       "\t\t<td>no</td>\n",
       "\t\t<td>southeast</td>\n",
       "\t\t<td>11482.63485</td>\n",
       "\t\t<td>1</td>\n",
       "\t</tr>\n",
       "\t<tr>\n",
       "\t\t<td>18</td>\n",
       "\t\t<td>female</td>\n",
       "\t\t<td>26.315</td>\n",
       "\t\t<td>0</td>\n",
       "\t\t<td>no</td>\n",
       "\t\t<td>northeast</td>\n",
       "\t\t<td>2198.18985</td>\n",
       "\t\t<td>2</td>\n",
       "\t</tr>\n",
       "\t<tr>\n",
       "\t\t<td>18</td>\n",
       "\t\t<td>female</td>\n",
       "\t\t<td>31.35</td>\n",
       "\t\t<td>0</td>\n",
       "\t\t<td>no</td>\n",
       "\t\t<td>southeast</td>\n",
       "\t\t<td>1622.1885</td>\n",
       "\t\t<td>1</td>\n",
       "\t</tr>\n",
       "\t<tr>\n",
       "\t\t<td>18</td>\n",
       "\t\t<td>female</td>\n",
       "\t\t<td>31.13</td>\n",
       "\t\t<td>0</td>\n",
       "\t\t<td>no</td>\n",
       "\t\t<td>southeast</td>\n",
       "\t\t<td>1621.8827</td>\n",
       "\t\t<td>1</td>\n",
       "\t</tr>\n",
       "</table></html>"
      ],
      "text/plain": [
       "        sex     bmi  children smoker     region       charges  sampleid\n",
       "age                                                                    \n",
       "18     male  17.290         2    yes  northeast  12829.455100         2\n",
       "18     male  41.140         0     no  southeast   1146.796600         1\n",
       "18   female  42.240         0    yes  southeast  38792.685600         1\n",
       "18   female  29.165         0     no  northeast   7323.734819         1\n",
       "18   female  36.850         0    yes  southeast  36149.483500         1\n",
       "18     male  34.100         0     no  southeast   1137.011000         1\n",
       "18   female  33.880         0     no  southeast  11482.634850         1\n",
       "18   female  26.315         0     no  northeast   2198.189850         2\n",
       "18   female  31.350         0     no  southeast   1622.188500         1\n",
       "18   female  31.130         0     no  southeast   1621.882700         1"
      ]
     },
     "execution_count": 9,
     "metadata": {},
     "output_type": "execute_result"
    }
   ],
   "source": [
    "insurance_df_sample.head()"
   ]
  },
  {
   "cell_type": "code",
   "execution_count": 10,
   "id": "5e3e5923-18ad-4cf6-b4e5-e87f8854700b",
   "metadata": {},
   "outputs": [],
   "source": [
    "# Fetching train and test data\n",
    "insurance_df_train= insurance_df_sample[insurance_df_sample['sampleid'] == 1].drop('sampleid', axis=1)\n",
    "insurance_df_test = insurance_df_sample[insurance_df_sample['sampleid'] == 2].drop('sampleid', axis=1)"
   ]
  },
  {
   "cell_type": "code",
   "execution_count": 11,
   "id": "83d72a72-3fac-4862-b374-d21ab59be1a6",
   "metadata": {},
   "outputs": [
    {
     "data": {
      "text/plain": [
       "(1070, 7)"
      ]
     },
     "execution_count": 11,
     "metadata": {},
     "output_type": "execute_result"
    }
   ],
   "source": [
    "# train data shape\n",
    "insurance_df_train.shape"
   ]
  },
  {
   "cell_type": "code",
   "execution_count": 12,
   "id": "b22be730-8a7a-40f3-8e2a-cabd8d1f427f",
   "metadata": {},
   "outputs": [
    {
     "data": {
      "text/plain": [
       "(268, 7)"
      ]
     },
     "execution_count": 12,
     "metadata": {},
     "output_type": "execute_result"
    }
   ],
   "source": [
    "# test data shape\n",
    "insurance_df_test.shape"
   ]
  },
  {
   "cell_type": "code",
   "execution_count": 13,
   "id": "18473df2-be15-4e1e-bc5e-739abacf8b89",
   "metadata": {},
   "outputs": [
    {
     "data": {
      "text/html": [
       "<style type=\"text/css\">\n",
       "\ttable {border:ridge 5px;}\n",
       "\ttable td {border:inset 1px;}\n",
       "\ttable tr#HeaderRow {background-color:grey; color:white;}</style>\n",
       "<html><table>\n",
       "\t<tr id=\"HeaderRow\">\n",
       "\t\t<th>age</th>\n",
       "\t\t<th>sex</th>\n",
       "\t\t<th>bmi</th>\n",
       "\t\t<th>children</th>\n",
       "\t\t<th>smoker</th>\n",
       "\t\t<th>region</th>\n",
       "\t\t<th>charges</th>\n",
       "\t</tr>\n",
       "\t<tr>\n",
       "\t\t<td>18</td>\n",
       "\t\t<td>male</td>\n",
       "\t\t<td>26.18</td>\n",
       "\t\t<td>2</td>\n",
       "\t\t<td>no</td>\n",
       "\t\t<td>southeast</td>\n",
       "\t\t<td>2304.0022</td>\n",
       "\t</tr>\n",
       "\t<tr>\n",
       "\t\t<td>18</td>\n",
       "\t\t<td>male</td>\n",
       "\t\t<td>34.43</td>\n",
       "\t\t<td>0</td>\n",
       "\t\t<td>no</td>\n",
       "\t\t<td>southeast</td>\n",
       "\t\t<td>1137.4697</td>\n",
       "\t</tr>\n",
       "\t<tr>\n",
       "\t\t<td>18</td>\n",
       "\t\t<td>male</td>\n",
       "\t\t<td>21.47</td>\n",
       "\t\t<td>0</td>\n",
       "\t\t<td>no</td>\n",
       "\t\t<td>northeast</td>\n",
       "\t\t<td>1702.4553</td>\n",
       "\t</tr>\n",
       "\t<tr>\n",
       "\t\t<td>18</td>\n",
       "\t\t<td>female</td>\n",
       "\t\t<td>30.115</td>\n",
       "\t\t<td>0</td>\n",
       "\t\t<td>no</td>\n",
       "\t\t<td>northeast</td>\n",
       "\t\t<td>21344.8467</td>\n",
       "\t</tr>\n",
       "\t<tr>\n",
       "\t\t<td>18</td>\n",
       "\t\t<td>male</td>\n",
       "\t\t<td>23.085</td>\n",
       "\t\t<td>0</td>\n",
       "\t\t<td>no</td>\n",
       "\t\t<td>northeast</td>\n",
       "\t\t<td>1704.70015</td>\n",
       "\t</tr>\n",
       "\t<tr>\n",
       "\t\t<td>18</td>\n",
       "\t\t<td>male</td>\n",
       "\t\t<td>25.175</td>\n",
       "\t\t<td>0</td>\n",
       "\t\t<td>yes</td>\n",
       "\t\t<td>northeast</td>\n",
       "\t\t<td>15518.18025</td>\n",
       "\t</tr>\n",
       "\t<tr>\n",
       "\t\t<td>18</td>\n",
       "\t\t<td>male</td>\n",
       "\t\t<td>37.29</td>\n",
       "\t\t<td>0</td>\n",
       "\t\t<td>no</td>\n",
       "\t\t<td>southeast</td>\n",
       "\t\t<td>1141.4451</td>\n",
       "\t</tr>\n",
       "\t<tr>\n",
       "\t\t<td>18</td>\n",
       "\t\t<td>female</td>\n",
       "\t\t<td>33.155</td>\n",
       "\t\t<td>0</td>\n",
       "\t\t<td>no</td>\n",
       "\t\t<td>northeast</td>\n",
       "\t\t<td>2207.69745</td>\n",
       "\t</tr>\n",
       "\t<tr>\n",
       "\t\t<td>18</td>\n",
       "\t\t<td>male</td>\n",
       "\t\t<td>34.1</td>\n",
       "\t\t<td>0</td>\n",
       "\t\t<td>no</td>\n",
       "\t\t<td>southeast</td>\n",
       "\t\t<td>1137.011</td>\n",
       "\t</tr>\n",
       "\t<tr>\n",
       "\t\t<td>18</td>\n",
       "\t\t<td>female</td>\n",
       "\t\t<td>40.185</td>\n",
       "\t\t<td>0</td>\n",
       "\t\t<td>no</td>\n",
       "\t\t<td>northeast</td>\n",
       "\t\t<td>2217.46915</td>\n",
       "\t</tr>\n",
       "</table></html>"
      ],
      "text/plain": [
       "        sex     bmi  children smoker     region      charges\n",
       "age                                                         \n",
       "18     male  26.180         2     no  southeast   2304.00220\n",
       "18     male  34.430         0     no  southeast   1137.46970\n",
       "18     male  21.470         0     no  northeast   1702.45530\n",
       "18   female  30.115         0     no  northeast  21344.84670\n",
       "18     male  23.085         0     no  northeast   1704.70015\n",
       "18     male  25.175         0    yes  northeast  15518.18025\n",
       "18     male  37.290         0     no  southeast   1141.44510\n",
       "18   female  33.155         0     no  northeast   2207.69745\n",
       "18     male  34.100         0     no  southeast   1137.01100\n",
       "18   female  40.185         0     no  northeast   2217.46915"
      ]
     },
     "execution_count": 13,
     "metadata": {},
     "output_type": "execute_result"
    }
   ],
   "source": [
    "#train dataset\n",
    "insurance_df_train.head()"
   ]
  },
  {
   "cell_type": "code",
   "execution_count": 14,
   "id": "58c9d763-4f19-449e-a35b-676d4d026acc",
   "metadata": {},
   "outputs": [
    {
     "data": {
      "text/html": [
       "<style type=\"text/css\">\n",
       "\ttable {border:ridge 5px;}\n",
       "\ttable td {border:inset 1px;}\n",
       "\ttable tr#HeaderRow {background-color:grey; color:white;}</style>\n",
       "<html><table>\n",
       "\t<tr id=\"HeaderRow\">\n",
       "\t\t<th>age</th>\n",
       "\t\t<th>sex</th>\n",
       "\t\t<th>bmi</th>\n",
       "\t\t<th>children</th>\n",
       "\t\t<th>smoker</th>\n",
       "\t\t<th>region</th>\n",
       "\t\t<th>charges</th>\n",
       "\t</tr>\n",
       "\t<tr>\n",
       "\t\t<td>18</td>\n",
       "\t\t<td>female</td>\n",
       "\t\t<td>38.28</td>\n",
       "\t\t<td>0</td>\n",
       "\t\t<td>no</td>\n",
       "\t\t<td>southeast</td>\n",
       "\t\t<td>1631.8212</td>\n",
       "\t</tr>\n",
       "\t<tr>\n",
       "\t\t<td>18</td>\n",
       "\t\t<td>female</td>\n",
       "\t\t<td>39.16</td>\n",
       "\t\t<td>0</td>\n",
       "\t\t<td>no</td>\n",
       "\t\t<td>southeast</td>\n",
       "\t\t<td>1633.0444</td>\n",
       "\t</tr>\n",
       "\t<tr>\n",
       "\t\t<td>18</td>\n",
       "\t\t<td>male</td>\n",
       "\t\t<td>30.14</td>\n",
       "\t\t<td>0</td>\n",
       "\t\t<td>no</td>\n",
       "\t\t<td>southeast</td>\n",
       "\t\t<td>1131.5066</td>\n",
       "\t</tr>\n",
       "\t<tr>\n",
       "\t\t<td>18</td>\n",
       "\t\t<td>female</td>\n",
       "\t\t<td>28.215</td>\n",
       "\t\t<td>0</td>\n",
       "\t\t<td>no</td>\n",
       "\t\t<td>northeast</td>\n",
       "\t\t<td>2200.83085</td>\n",
       "\t</tr>\n",
       "\t<tr>\n",
       "\t\t<td>18</td>\n",
       "\t\t<td>female</td>\n",
       "\t\t<td>31.92</td>\n",
       "\t\t<td>0</td>\n",
       "\t\t<td>no</td>\n",
       "\t\t<td>northeast</td>\n",
       "\t\t<td>2205.9808</td>\n",
       "\t</tr>\n",
       "\t<tr>\n",
       "\t\t<td>18</td>\n",
       "\t\t<td>male</td>\n",
       "\t\t<td>28.31</td>\n",
       "\t\t<td>1</td>\n",
       "\t\t<td>no</td>\n",
       "\t\t<td>northeast</td>\n",
       "\t\t<td>11272.33139</td>\n",
       "\t</tr>\n",
       "\t<tr>\n",
       "\t\t<td>18</td>\n",
       "\t\t<td>female</td>\n",
       "\t\t<td>21.66</td>\n",
       "\t\t<td>0</td>\n",
       "\t\t<td>yes</td>\n",
       "\t\t<td>northeast</td>\n",
       "\t\t<td>14283.4594</td>\n",
       "\t</tr>\n",
       "\t<tr>\n",
       "\t\t<td>18</td>\n",
       "\t\t<td>female</td>\n",
       "\t\t<td>26.315</td>\n",
       "\t\t<td>0</td>\n",
       "\t\t<td>no</td>\n",
       "\t\t<td>northeast</td>\n",
       "\t\t<td>2198.18985</td>\n",
       "\t</tr>\n",
       "\t<tr>\n",
       "\t\t<td>18</td>\n",
       "\t\t<td>male</td>\n",
       "\t\t<td>23.32</td>\n",
       "\t\t<td>1</td>\n",
       "\t\t<td>no</td>\n",
       "\t\t<td>southeast</td>\n",
       "\t\t<td>1711.0268</td>\n",
       "\t</tr>\n",
       "\t<tr>\n",
       "\t\t<td>18</td>\n",
       "\t\t<td>male</td>\n",
       "\t\t<td>22.99</td>\n",
       "\t\t<td>0</td>\n",
       "\t\t<td>no</td>\n",
       "\t\t<td>northeast</td>\n",
       "\t\t<td>1704.5681</td>\n",
       "\t</tr>\n",
       "</table></html>"
      ],
      "text/plain": [
       "        sex     bmi  children smoker     region      charges\n",
       "age                                                         \n",
       "18   female  38.280         0     no  southeast   1631.82120\n",
       "18   female  39.160         0     no  southeast   1633.04440\n",
       "18     male  30.140         0     no  southeast   1131.50660\n",
       "18   female  28.215         0     no  northeast   2200.83085\n",
       "18   female  31.920         0     no  northeast   2205.98080\n",
       "18     male  28.310         1     no  northeast  11272.33139\n",
       "18   female  21.660         0    yes  northeast  14283.45940\n",
       "18   female  26.315         0     no  northeast   2198.18985\n",
       "18     male  23.320         1     no  southeast   1711.02680\n",
       "18     male  22.990         0     no  northeast   1704.56810"
      ]
     },
     "execution_count": 14,
     "metadata": {},
     "output_type": "execute_result"
    }
   ],
   "source": [
    "# test dataset\n",
    "insurance_df_test.head()"
   ]
  },
  {
   "cell_type": "code",
   "execution_count": 15,
   "id": "db41b651-0325-4673-94e1-c54769761979",
   "metadata": {},
   "outputs": [
    {
     "name": "stdout",
     "output_type": "stream",
     "text": [
      "\n",
      "Generating custom config JSON for AutoML ...\n",
      "\n",
      "Available main options for customization with corresponding indices: \n",
      "--------------------------------------------------------------------------------\n",
      "\n",
      "Index 1: Customize Feature Engineering Phase\n",
      "\n",
      "Index 2: Customize Data Preparation Phase\n",
      "\n",
      "Index 3: Customize Model Training Phase\n",
      "\n",
      "Index 4: Generate custom json and exit\n",
      "--------------------------------------------------------------------------------\n"
     ]
    },
    {
     "name": "stdin",
     "output_type": "stream",
     "text": [
      "\n",
      "Enter the index you want to customize:  1\n"
     ]
    },
    {
     "name": "stdout",
     "output_type": "stream",
     "text": [
      "\n",
      "Customizing Feature Engineering Phase ...\n",
      "\n",
      "Available options for customization of feature engineering phase with corresponding indices: \n",
      "--------------------------------------------------------------------------------\n",
      "\n",
      "Index 1: Customize Missing Value Handling\n",
      "\n",
      "Index 2: Customize Bincode Encoding\n",
      "\n",
      "Index 3: Customize String Manipulation\n",
      "\n",
      "Index 4: Customize Categorical Encoding\n",
      "\n",
      "Index 5: Customize Mathematical Transformation\n",
      "\n",
      "Index 6: Customize Nonlinear Transformation\n",
      "\n",
      "Index 7: Customize Antiselect Features\n",
      "\n",
      "Index 8: Back to main menu\n",
      "\n",
      "Index 9: Generate custom json and exit\n",
      "--------------------------------------------------------------------------------\n"
     ]
    },
    {
     "name": "stdin",
     "output_type": "stream",
     "text": [
      "\n",
      "Enter the list of indices you want to customize in feature engineering phase:  2,4,8\n"
     ]
    },
    {
     "name": "stdout",
     "output_type": "stream",
     "text": [
      "\n",
      "Customizing Bincode Encoding ...\n",
      "\n",
      "Provide the following details to customize binning and coding encoding:\n",
      "\n",
      "Available binning methods with corresponding indices:\n",
      "Index 1: Equal-Width\n",
      "Index 2: Variable-Width\n"
     ]
    },
    {
     "name": "stdin",
     "output_type": "stream",
     "text": [
      "\n",
      "Enter the feature or list of features for binning:  age\n",
      "\n",
      "Enter the index of corresponding binning method for feature age:  1\n",
      "\n",
      "Enter the number of bins for feature age:  3\n"
     ]
    },
    {
     "name": "stdout",
     "output_type": "stream",
     "text": [
      "\n",
      "Available options for generic arguments: \n",
      "Index 0: Default\n",
      "Index 1: volatile\n",
      "Index 2: persist\n"
     ]
    },
    {
     "name": "stdin",
     "output_type": "stream",
     "text": [
      "\n",
      "Enter the indices for generic arguments :  0\n"
     ]
    },
    {
     "name": "stdout",
     "output_type": "stream",
     "text": [
      "\n",
      "Customization of bincode encoding has been completed successfully.\n",
      "\n",
      "Customizing Categorical Encoding ...\n",
      "\n",
      "Provide the following details to customize categorical encoding:\n",
      "\n",
      "Available categorical encoding methods with corresponding indices:\n",
      "Index 1: OneHotEncoding\n",
      "Index 2: OrdinalEncoding\n",
      "Index 3: TargetEncoding\n"
     ]
    },
    {
     "name": "stdin",
     "output_type": "stream",
     "text": [
      "\n",
      "Enter the list of corresponding index categorical encoding methods you want to use:  3\n",
      "\n",
      "Enter the feature or list of features for TargetEncoding:  region\n"
     ]
    },
    {
     "name": "stdout",
     "output_type": "stream",
     "text": [
      "\n",
      "Available target encoding methods with corresponding indices:\n",
      "Index 1: CBM_BETA\n",
      "Index 2: CBM_DIRICHLET\n",
      "Index 3: CBM_GAUSSIAN_INVERSE_GAMMA\n"
     ]
    },
    {
     "name": "stdin",
     "output_type": "stream",
     "text": [
      "\n",
      "Enter the index of target encoding method for feature region:  3\n",
      "\n",
      "Enter the response column for target encoding method for feature region:  charges\n"
     ]
    },
    {
     "name": "stdout",
     "output_type": "stream",
     "text": [
      "\n",
      "Available options for generic arguments: \n",
      "Index 0: Default\n",
      "Index 1: volatile\n",
      "Index 2: persist\n"
     ]
    },
    {
     "name": "stdin",
     "output_type": "stream",
     "text": [
      "\n",
      "Enter the indices for generic arguments :  0\n"
     ]
    },
    {
     "name": "stdout",
     "output_type": "stream",
     "text": [
      "\n",
      "Customization of categorical encoding has been completed successfully.\n",
      "\n",
      "Customization of feature engineering phase has been completed successfully.\n",
      "\n",
      "Available main options for customization with corresponding indices: \n",
      "--------------------------------------------------------------------------------\n",
      "\n",
      "Index 1: Customize Feature Engineering Phase\n",
      "\n",
      "Index 2: Customize Data Preparation Phase\n",
      "\n",
      "Index 3: Customize Model Training Phase\n",
      "\n",
      "Index 4: Generate custom json and exit\n",
      "--------------------------------------------------------------------------------\n"
     ]
    },
    {
     "name": "stdin",
     "output_type": "stream",
     "text": [
      "\n",
      "Enter the index you want to customize:  2\n"
     ]
    },
    {
     "name": "stdout",
     "output_type": "stream",
     "text": [
      "\n",
      "Customizing Data Preparation Phase ...\n",
      "\n",
      "Available options for customization of data preparation phase with corresponding indices: \n",
      "--------------------------------------------------------------------------------\n",
      "\n",
      "Index 1: Customize Data Imbalance Handling\n",
      "\n",
      "Index 2: Customize Outlier Handling\n",
      "\n",
      "Index 3: Customize Feature Scaling\n",
      "\n",
      "Index 4: Back to main menu\n",
      "\n",
      "Index 5: Generate custom json and exit\n",
      "--------------------------------------------------------------------------------\n"
     ]
    },
    {
     "name": "stdin",
     "output_type": "stream",
     "text": [
      "\n",
      "Enter the list of indices you want to customize in data preparation phase:  3\n"
     ]
    },
    {
     "name": "stdout",
     "output_type": "stream",
     "text": [
      "\n",
      "Available feature scaling methods with corresponding indices:\n",
      "Index 1: maxabs\n",
      "Index 2: mean\n",
      "Index 3: midrange\n",
      "Index 4: range\n",
      "Index 5: rescale\n",
      "Index 6: std\n",
      "Index 7: sum\n",
      "Index 8: ustd\n"
     ]
    },
    {
     "name": "stdin",
     "output_type": "stream",
     "text": [
      "\n",
      "Enter the corresponding index feature scaling method:  6\n"
     ]
    },
    {
     "name": "stdout",
     "output_type": "stream",
     "text": [
      "\n",
      "Available options for generic arguments: \n",
      "Index 0: Default\n",
      "Index 1: volatile\n",
      "Index 2: persist\n"
     ]
    },
    {
     "name": "stdin",
     "output_type": "stream",
     "text": [
      "\n",
      "Enter the indices for generic arguments :  0\n"
     ]
    },
    {
     "name": "stdout",
     "output_type": "stream",
     "text": [
      "\n",
      "Customization of feature scaling has been completed successfully.\n",
      "\n",
      "Available options for customization of data preparation phase with corresponding indices: \n",
      "--------------------------------------------------------------------------------\n",
      "\n",
      "Index 1: Customize Data Imbalance Handling\n",
      "\n",
      "Index 2: Customize Outlier Handling\n",
      "\n",
      "Index 3: Customize Feature Scaling\n",
      "\n",
      "Index 4: Back to main menu\n",
      "\n",
      "Index 5: Generate custom json and exit\n",
      "--------------------------------------------------------------------------------\n"
     ]
    },
    {
     "name": "stdin",
     "output_type": "stream",
     "text": [
      "\n",
      "Enter the list of indices you want to customize in data preparation phase:  4\n"
     ]
    },
    {
     "name": "stdout",
     "output_type": "stream",
     "text": [
      "\n",
      "Customization of data preparation phase has been completed successfully.\n",
      "\n",
      "Available main options for customization with corresponding indices: \n",
      "--------------------------------------------------------------------------------\n",
      "\n",
      "Index 1: Customize Feature Engineering Phase\n",
      "\n",
      "Index 2: Customize Data Preparation Phase\n",
      "\n",
      "Index 3: Customize Model Training Phase\n",
      "\n",
      "Index 4: Generate custom json and exit\n",
      "--------------------------------------------------------------------------------\n"
     ]
    },
    {
     "name": "stdin",
     "output_type": "stream",
     "text": [
      "\n",
      "Enter the index you want to customize:  3\n"
     ]
    },
    {
     "name": "stdout",
     "output_type": "stream",
     "text": [
      "\n",
      "Customizing Model Training Phase ...\n",
      "\n",
      "Available options for customization of model training phase with corresponding indices: \n",
      "--------------------------------------------------------------------------------\n",
      "\n",
      "Index 1: Customize Model Hyperparameter\n",
      "\n",
      "Index 2: Back to main menu\n",
      "\n",
      "Index 3: Generate custom json and exit\n",
      "--------------------------------------------------------------------------------\n"
     ]
    },
    {
     "name": "stdin",
     "output_type": "stream",
     "text": [
      "\n",
      "Enter the list of indices you want to customize in model training phase:  1\n"
     ]
    },
    {
     "name": "stdout",
     "output_type": "stream",
     "text": [
      "\n",
      "Customizing Model Hyperparameter ...\n",
      "\n",
      "Available models for hyperparameter tuning with corresponding indices:\n",
      "Index 1: decision_forest\n",
      "Index 2: xgboost\n",
      "Index 3: knn\n",
      "Index 4: glm\n",
      "Index 5: svm\n",
      "\n",
      "Available hyperparamters update methods with corresponding indices:\n",
      "Index 1: ADD\n",
      "Index 2: REPLACE\n"
     ]
    },
    {
     "name": "stdin",
     "output_type": "stream",
     "text": [
      "\n",
      "Enter the list of model indices for performing hyperparameter tuning:  2\n"
     ]
    },
    {
     "name": "stdout",
     "output_type": "stream",
     "text": [
      "\n",
      "Available hyperparameters for model 'xgboost' with corresponding indices:\n",
      "Index 1: min_impurity\n",
      "Index 2: max_depth\n",
      "Index 3: min_node_size\n",
      "Index 4: shrinkage_factor\n",
      "Index 5: iter_num\n"
     ]
    },
    {
     "name": "stdin",
     "output_type": "stream",
     "text": [
      "\n",
      "Enter the list of hyperparameter indices for model 'xgboost':  2\n",
      "\n",
      "Enter the index of corresponding update method for hyperparameters 'max_depth' for model 'xgboost':  2\n",
      "\n",
      "Enter the list of value for hyperparameter 'max_depth' for model 'xgboost':  4,5,6\n"
     ]
    },
    {
     "name": "stdout",
     "output_type": "stream",
     "text": [
      "\n",
      "Customization of model hyperparameter has been completed successfully.\n",
      "\n",
      "Available options for customization of model training phase with corresponding indices: \n",
      "--------------------------------------------------------------------------------\n",
      "\n",
      "Index 1: Customize Model Hyperparameter\n",
      "\n",
      "Index 2: Back to main menu\n",
      "\n",
      "Index 3: Generate custom json and exit\n",
      "--------------------------------------------------------------------------------\n"
     ]
    },
    {
     "name": "stdin",
     "output_type": "stream",
     "text": [
      "\n",
      "Enter the list of indices you want to customize in model training phase:  3\n"
     ]
    },
    {
     "name": "stdout",
     "output_type": "stream",
     "text": [
      "\n",
      "Customization of model training phase has been completed successfully.\n",
      "\n",
      "Process of generating custom config file for AutoML has been completed successfully.\n",
      "\n",
      "'custom_insurance.json' file is generated successfully under the current working directory.\n"
     ]
    }
   ],
   "source": [
    "AutoRegressor.generate_custom_config(\"custom_insurance\")"
   ]
  },
  {
   "cell_type": "markdown",
   "id": "856ea871-93d8-4ea2-b524-1acb23bd7eb5",
   "metadata": {},
   "source": [
    "## <b><span style='color:#F1A424'>| 2.</span> Fitting AutoML </b>"
   ]
  },
  {
   "cell_type": "code",
   "execution_count": 16,
   "id": "f3650aa5-a408-4227-a88d-79c0f3d36d3c",
   "metadata": {},
   "outputs": [],
   "source": [
    "# Creating AutoRegressor instance\n",
    "# Using xgboost model for model training.\n",
    "# Keeping early stopping timer threshold to 100 sec and max_models to 6\n",
    "# and verbose level 2 for detailed loggging\n",
    "# Using custom json file for custom run\n",
    "\n",
    "aml = AutoRegressor(include=['xgboost'],\n",
    "                    max_runtime_secs=100,\n",
    "                    max_models=6,\n",
    "                    verbose=2,\n",
    "                    custom_config_file=\"custom_insurance.json\")"
   ]
  },
  {
   "cell_type": "code",
   "execution_count": 17,
   "id": "a1b7a771-1bfa-40c9-8ad0-c377d320c137",
   "metadata": {
    "tags": []
   },
   "outputs": [
    {
     "name": "stdout",
     "output_type": "stream",
     "text": [
      "\n",
      "Received below input for customization : \n",
      "{\n",
      "    \"BincodeIndicator\": true,\n",
      "    \"BincodeParam\": {\n",
      "        \"age\": {\n",
      "            \"Type\": \"Equal-Width\",\n",
      "            \"NumOfBins\": 3\n",
      "        }\n",
      "    },\n",
      "    \"CategoricalEncodingIndicator\": true,\n",
      "    \"CategoricalEncodingParam\": {\n",
      "        \"TargetEncodingIndicator\": true,\n",
      "        \"TargetEncodingList\": {\n",
      "            \"region\": {\n",
      "                \"encoder_method\": \"CBM_GAUSSIAN_INVERSE_GAMMA\",\n",
      "                \"response_column\": \"charges\"\n",
      "            }\n",
      "        }\n",
      "    },\n",
      "    \"FeatureScalingIndicator\": true,\n",
      "    \"FeatureScalingParam\": {\n",
      "        \"FeatureScalingMethod\": \"std\"\n",
      "    },\n",
      "    \"HyperparameterTuningIndicator\": true,\n",
      "    \"HyperparameterTuningParam\": {\n",
      "        \"xgboost\": {\n",
      "            \"max_depth\": {\n",
      "                \"Method\": \"REPLACE\",\n",
      "                \"Value\": [\n",
      "                    4,\n",
      "                    5,\n",
      "                    6\n",
      "                ]\n",
      "            }\n",
      "        }\n",
      "    }\n",
      "}\n"
     ]
    },
    {
     "data": {
      "text/html": [
       "\n",
       "            <style>\n",
       "                .custom-div {\n",
       "                    background-color: lightgray;\n",
       "                    color: #000000;\n",
       "                    padding: 10px;\n",
       "                    border-radius: 8px;\n",
       "                    box-shadow: 0 3px 4px rgba(0, 0, 0, 0.2);\n",
       "                    margin-bottom: 10px;\n",
       "                    text-align: center;\n",
       "                }\n",
       "            </style>\n",
       "        <br><div class=\"custom-div\"><h3><span style=\"color: green;\"></span>1. Feature Exploration -> 2. Feature Engineering -> 3. Data Preparation -> 4. Model Training & Evaluation<center></h3></center></div>"
      ],
      "text/plain": [
       "<IPython.core.display.HTML object>"
      ]
     },
     "metadata": {},
     "output_type": "display_data"
    },
    {
     "name": "stdout",
     "output_type": "stream",
     "text": [
      "Feature Exploration started ...\n",
      "\n",
      "Data Overview:\n",
      "Total Rows in the data: 1070\n",
      "Total Columns in the data: 7\n",
      "\n",
      "Column Summary:\n"
     ]
    },
    {
     "data": {
      "text/html": [
       "<style type=\"text/css\">\n",
       "\ttable {border:ridge 5px;}\n",
       "\ttable td {border:inset 1px;}\n",
       "\ttable tr#HeaderRow {background-color:grey; color:white;}</style>\n",
       "<html><table>\n",
       "\t<tr id=\"HeaderRow\">\n",
       "\t\t<th>ColumnName</th>\n",
       "\t\t<th>Datatype</th>\n",
       "\t\t<th>NonNullCount</th>\n",
       "\t\t<th>NullCount</th>\n",
       "\t\t<th>BlankCount</th>\n",
       "\t\t<th>ZeroCount</th>\n",
       "\t\t<th>PositiveCount</th>\n",
       "\t\t<th>NegativeCount</th>\n",
       "\t\t<th>NullPercentage</th>\n",
       "\t\t<th>NonNullPercentage</th>\n",
       "\t</tr>\n",
       "\t<tr>\n",
       "\t\t<td>children</td>\n",
       "\t\t<td>INTEGER</td>\n",
       "\t\t<td>1070</td>\n",
       "\t\t<td>0</td>\n",
       "\t\t<td>None</td>\n",
       "\t\t<td>460</td>\n",
       "\t\t<td>610</td>\n",
       "\t\t<td>0</td>\n",
       "\t\t<td>0.0</td>\n",
       "\t\t<td>100.0</td>\n",
       "\t</tr>\n",
       "\t<tr>\n",
       "\t\t<td>sex</td>\n",
       "\t\t<td>VARCHAR(20) CHARACTER SET LATIN</td>\n",
       "\t\t<td>1070</td>\n",
       "\t\t<td>0</td>\n",
       "\t\t<td>0</td>\n",
       "\t\t<td>None</td>\n",
       "\t\t<td>None</td>\n",
       "\t\t<td>None</td>\n",
       "\t\t<td>0.0</td>\n",
       "\t\t<td>100.0</td>\n",
       "\t</tr>\n",
       "\t<tr>\n",
       "\t\t<td>bmi</td>\n",
       "\t\t<td>FLOAT</td>\n",
       "\t\t<td>1070</td>\n",
       "\t\t<td>0</td>\n",
       "\t\t<td>None</td>\n",
       "\t\t<td>0</td>\n",
       "\t\t<td>1070</td>\n",
       "\t\t<td>0</td>\n",
       "\t\t<td>0.0</td>\n",
       "\t\t<td>100.0</td>\n",
       "\t</tr>\n",
       "\t<tr>\n",
       "\t\t<td>region</td>\n",
       "\t\t<td>VARCHAR(20) CHARACTER SET LATIN</td>\n",
       "\t\t<td>1070</td>\n",
       "\t\t<td>0</td>\n",
       "\t\t<td>0</td>\n",
       "\t\t<td>None</td>\n",
       "\t\t<td>None</td>\n",
       "\t\t<td>None</td>\n",
       "\t\t<td>0.0</td>\n",
       "\t\t<td>100.0</td>\n",
       "\t</tr>\n",
       "\t<tr>\n",
       "\t\t<td>charges</td>\n",
       "\t\t<td>FLOAT</td>\n",
       "\t\t<td>1070</td>\n",
       "\t\t<td>0</td>\n",
       "\t\t<td>None</td>\n",
       "\t\t<td>0</td>\n",
       "\t\t<td>1070</td>\n",
       "\t\t<td>0</td>\n",
       "\t\t<td>0.0</td>\n",
       "\t\t<td>100.0</td>\n",
       "\t</tr>\n",
       "\t<tr>\n",
       "\t\t<td>age</td>\n",
       "\t\t<td>INTEGER</td>\n",
       "\t\t<td>1070</td>\n",
       "\t\t<td>0</td>\n",
       "\t\t<td>None</td>\n",
       "\t\t<td>0</td>\n",
       "\t\t<td>1070</td>\n",
       "\t\t<td>0</td>\n",
       "\t\t<td>0.0</td>\n",
       "\t\t<td>100.0</td>\n",
       "\t</tr>\n",
       "\t<tr>\n",
       "\t\t<td>smoker</td>\n",
       "\t\t<td>VARCHAR(20) CHARACTER SET LATIN</td>\n",
       "\t\t<td>1070</td>\n",
       "\t\t<td>0</td>\n",
       "\t\t<td>0</td>\n",
       "\t\t<td>None</td>\n",
       "\t\t<td>None</td>\n",
       "\t\t<td>None</td>\n",
       "\t\t<td>0.0</td>\n",
       "\t\t<td>100.0</td>\n",
       "\t</tr>\n",
       "</table></html>"
      ],
      "text/plain": [
       "  ColumnName                         Datatype  NonNullCount  NullCount  BlankCount  ZeroCount  PositiveCount  NegativeCount  NullPercentage  NonNullPercentage\n",
       "0   children                          INTEGER          1070          0         NaN      460.0          610.0            0.0             0.0              100.0\n",
       "1        sex  VARCHAR(20) CHARACTER SET LATIN          1070          0         0.0        NaN            NaN            NaN             0.0              100.0\n",
       "2        bmi                            FLOAT          1070          0         NaN        0.0         1070.0            0.0             0.0              100.0\n",
       "3     region  VARCHAR(20) CHARACTER SET LATIN          1070          0         0.0        NaN            NaN            NaN             0.0              100.0\n",
       "4    charges                            FLOAT          1070          0         NaN        0.0         1070.0            0.0             0.0              100.0\n",
       "5        age                          INTEGER          1070          0         NaN        0.0         1070.0            0.0             0.0              100.0\n",
       "6     smoker  VARCHAR(20) CHARACTER SET LATIN          1070          0         0.0        NaN            NaN            NaN             0.0              100.0"
      ]
     },
     "metadata": {},
     "output_type": "display_data"
    },
    {
     "name": "stdout",
     "output_type": "stream",
     "text": [
      "            age       bmi  children    charges\n",
      "func                                          \n",
      "std      14.106     6.108     1.194  12185.743\n",
      "25%      26.000    26.296     0.000   4695.399\n",
      "50%      39.500    30.448     1.000   9398.583\n",
      "75%      51.750    34.560     2.000  17003.737\n",
      "max      64.000    53.130     5.000  63770.428\n",
      "min      18.000    15.960     0.000   1121.874\n",
      "mean     39.249    30.712     1.085  13337.099\n",
      "count  1070.000  1070.000  1070.000   1070.000\n",
      "\n",
      "Statistics of Data:\n"
     ]
    },
    {
     "data": {
      "text/html": [
       "<style type=\"text/css\">\n",
       "\ttable {border:ridge 5px;}\n",
       "\ttable td {border:inset 1px;}\n",
       "\ttable tr#HeaderRow {background-color:grey; color:white;}</style>\n",
       "<html><table>\n",
       "\t<tr id=\"HeaderRow\">\n",
       "\t\t<th>func</th>\n",
       "\t\t<th>age</th>\n",
       "\t\t<th>bmi</th>\n",
       "\t\t<th>children</th>\n",
       "\t\t<th>charges</th>\n",
       "\t</tr>\n",
       "\t<tr>\n",
       "\t\t<td>min</td>\n",
       "\t\t<td>18</td>\n",
       "\t\t<td>15.96</td>\n",
       "\t\t<td>0</td>\n",
       "\t\t<td>1121.874</td>\n",
       "\t</tr>\n",
       "\t<tr>\n",
       "\t\t<td>std</td>\n",
       "\t\t<td>14.106</td>\n",
       "\t\t<td>6.108</td>\n",
       "\t\t<td>1.194</td>\n",
       "\t\t<td>12185.743</td>\n",
       "\t</tr>\n",
       "\t<tr>\n",
       "\t\t<td>25%</td>\n",
       "\t\t<td>26</td>\n",
       "\t\t<td>26.296</td>\n",
       "\t\t<td>0</td>\n",
       "\t\t<td>4695.399</td>\n",
       "\t</tr>\n",
       "\t<tr>\n",
       "\t\t<td>50%</td>\n",
       "\t\t<td>39.5</td>\n",
       "\t\t<td>30.448</td>\n",
       "\t\t<td>1</td>\n",
       "\t\t<td>9398.583</td>\n",
       "\t</tr>\n",
       "\t<tr>\n",
       "\t\t<td>75%</td>\n",
       "\t\t<td>51.75</td>\n",
       "\t\t<td>34.56</td>\n",
       "\t\t<td>2</td>\n",
       "\t\t<td>17003.737</td>\n",
       "\t</tr>\n",
       "\t<tr>\n",
       "\t\t<td>max</td>\n",
       "\t\t<td>64</td>\n",
       "\t\t<td>53.13</td>\n",
       "\t\t<td>5</td>\n",
       "\t\t<td>63770.428</td>\n",
       "\t</tr>\n",
       "\t<tr>\n",
       "\t\t<td>mean</td>\n",
       "\t\t<td>39.249</td>\n",
       "\t\t<td>30.712</td>\n",
       "\t\t<td>1.085</td>\n",
       "\t\t<td>13337.099</td>\n",
       "\t</tr>\n",
       "\t<tr>\n",
       "\t\t<td>count</td>\n",
       "\t\t<td>1070</td>\n",
       "\t\t<td>1070</td>\n",
       "\t\t<td>1070</td>\n",
       "\t\t<td>1070</td>\n",
       "\t</tr>\n",
       "</table></html>"
      ],
      "text/plain": [
       "            age       bmi  children    charges\n",
       "func                                          \n",
       "min      18.000    15.960     0.000   1121.874\n",
       "std      14.106     6.108     1.194  12185.743\n",
       "25%      26.000    26.296     0.000   4695.399\n",
       "50%      39.500    30.448     1.000   9398.583\n",
       "75%      51.750    34.560     2.000  17003.737\n",
       "max      64.000    53.130     5.000  63770.428\n",
       "mean     39.249    30.712     1.085  13337.099\n",
       "count  1070.000  1070.000  1070.000   1070.000"
      ]
     },
     "metadata": {},
     "output_type": "display_data"
    },
    {
     "name": "stdout",
     "output_type": "stream",
     "text": [
      "\n",
      "Categorical Columns with their Distinct values:\n",
      "ColumnName                DistinctValueCount\n",
      "sex                       2         \n",
      "smoker                    2         \n",
      "region                    4         \n",
      "\n",
      "No Futile columns found.\n",
      "\n",
      "Target Column Distribution:\n"
     ]
    },
    {
     "data": {
      "image/png": "[encoded data removed]",
      "text/plain": [
       "<Figure size 800x600 with 1 Axes>"
      ]
     },
     "metadata": {},
     "output_type": "display_data"
    },
    {
     "name": "stdout",
     "output_type": "stream",
     "text": [
      "Columns with outlier percentage :-                                                                                                                                                                                                                                                                                                                                                                                                                                                                                  \n",
      "  ColumnName  OutlierPercentage\n",
      "0        bmi           0.654206\n",
      "1    charges           9.719626\n",
      "                                                                                        \r"
     ]
    },
    {
     "data": {
      "text/html": [
       "\n",
       "            <style>\n",
       "                .custom-div {\n",
       "                    background-color: lightgray;\n",
       "                    color: #000000;\n",
       "                    padding: 10px;\n",
       "                    border-radius: 8px;\n",
       "                    box-shadow: 0 3px 4px rgba(0 -  0 -  0 -  0.2);\n",
       "                    margin-bottom: 10px;\n",
       "                    text-align: center;\n",
       "                }\n",
       "            </style>\n",
       "        <br><div class=\"custom-div\"><h3><span style=\"color: green;\">1. Feature Exploration -></span> 2. Feature Engineering -> 3. Data Preparation -> 4. Model Training & Evaluation<center></h3></center></div>"
      ],
      "text/plain": [
       "<IPython.core.display.HTML object>"
      ]
     },
     "metadata": {},
     "output_type": "display_data"
    },
    {
     "name": "stdout",
     "output_type": "stream",
     "text": [
      "                                                                                        \r"
     ]
    },
    {
     "data": {
      "text/html": [
       "Feature Engineering started ..."
      ],
      "text/plain": [
       "<IPython.core.display.HTML object>"
      ]
     },
     "metadata": {},
     "output_type": "display_data"
    },
    {
     "name": "stdout",
     "output_type": "stream",
     "text": [
      "                                                                                        \r"
     ]
    },
    {
     "data": {
      "text/html": [
       "\n",
       "Handling duplicate records present in dataset ..."
      ],
      "text/plain": [
       "<IPython.core.display.HTML object>"
      ]
     },
     "metadata": {},
     "output_type": "display_data"
    },
    {
     "name": "stdout",
     "output_type": "stream",
     "text": [
      "                                                                                        \r"
     ]
    },
    {
     "data": {
      "text/html": [
       "Updated dataset sample after removing 1 duplicate records:"
      ],
      "text/plain": [
       "<IPython.core.display.HTML object>"
      ]
     },
     "metadata": {},
     "output_type": "display_data"
    },
    {
     "data": {
      "text/html": [
       "<style type=\"text/css\">\n",
       "\ttable {border:ridge 5px;}\n",
       "\ttable td {border:inset 1px;}\n",
       "\ttable tr#HeaderRow {background-color:grey; color:white;}</style>\n",
       "<html><table>\n",
       "\t<tr id=\"HeaderRow\">\n",
       "\t\t<th>age</th>\n",
       "\t\t<th>sex</th>\n",
       "\t\t<th>bmi</th>\n",
       "\t\t<th>children</th>\n",
       "\t\t<th>smoker</th>\n",
       "\t\t<th>region</th>\n",
       "\t\t<th>charges</th>\n",
       "\t</tr>\n",
       "\t<tr>\n",
       "\t\t<td>49</td>\n",
       "\t\t<td>female</td>\n",
       "\t\t<td>31.9</td>\n",
       "\t\t<td>5</td>\n",
       "\t\t<td>no</td>\n",
       "\t\t<td>southwest</td>\n",
       "\t\t<td>11552.904</td>\n",
       "\t</tr>\n",
       "\t<tr>\n",
       "\t\t<td>32</td>\n",
       "\t\t<td>female</td>\n",
       "\t\t<td>17.765</td>\n",
       "\t\t<td>2</td>\n",
       "\t\t<td>yes</td>\n",
       "\t\t<td>northwest</td>\n",
       "\t\t<td>32734.1863</td>\n",
       "\t</tr>\n",
       "\t<tr>\n",
       "\t\t<td>32</td>\n",
       "\t\t<td>female</td>\n",
       "\t\t<td>29.8</td>\n",
       "\t\t<td>2</td>\n",
       "\t\t<td>no</td>\n",
       "\t\t<td>southwest</td>\n",
       "\t\t<td>5152.134</td>\n",
       "\t</tr>\n",
       "\t<tr>\n",
       "\t\t<td>34</td>\n",
       "\t\t<td>male</td>\n",
       "\t\t<td>34.21</td>\n",
       "\t\t<td>0</td>\n",
       "\t\t<td>no</td>\n",
       "\t\t<td>southeast</td>\n",
       "\t\t<td>3935.1799</td>\n",
       "\t</tr>\n",
       "\t<tr>\n",
       "\t\t<td>61</td>\n",
       "\t\t<td>female</td>\n",
       "\t\t<td>28.2</td>\n",
       "\t\t<td>0</td>\n",
       "\t\t<td>no</td>\n",
       "\t\t<td>southwest</td>\n",
       "\t\t<td>13041.921</td>\n",
       "\t</tr>\n",
       "\t<tr>\n",
       "\t\t<td>61</td>\n",
       "\t\t<td>male</td>\n",
       "\t\t<td>32.3</td>\n",
       "\t\t<td>2</td>\n",
       "\t\t<td>no</td>\n",
       "\t\t<td>northwest</td>\n",
       "\t\t<td>14119.62</td>\n",
       "\t</tr>\n",
       "\t<tr>\n",
       "\t\t<td>26</td>\n",
       "\t\t<td>male</td>\n",
       "\t\t<td>29.45</td>\n",
       "\t\t<td>0</td>\n",
       "\t\t<td>no</td>\n",
       "\t\t<td>northeast</td>\n",
       "\t\t<td>2897.3235</td>\n",
       "\t</tr>\n",
       "\t<tr>\n",
       "\t\t<td>26</td>\n",
       "\t\t<td>male</td>\n",
       "\t\t<td>23.7</td>\n",
       "\t\t<td>2</td>\n",
       "\t\t<td>no</td>\n",
       "\t\t<td>southwest</td>\n",
       "\t\t<td>3484.331</td>\n",
       "\t</tr>\n",
       "\t<tr>\n",
       "\t\t<td>38</td>\n",
       "\t\t<td>male</td>\n",
       "\t\t<td>29.26</td>\n",
       "\t\t<td>2</td>\n",
       "\t\t<td>no</td>\n",
       "\t\t<td>northwest</td>\n",
       "\t\t<td>6457.8434</td>\n",
       "\t</tr>\n",
       "\t<tr>\n",
       "\t\t<td>38</td>\n",
       "\t\t<td>male</td>\n",
       "\t\t<td>28.025</td>\n",
       "\t\t<td>1</td>\n",
       "\t\t<td>no</td>\n",
       "\t\t<td>northeast</td>\n",
       "\t\t<td>6067.12675</td>\n",
       "\t</tr>\n",
       "</table></html>"
      ],
      "text/plain": [
       "        sex     bmi  children smoker     region      charges\n",
       "age                                                         \n",
       "49   female  31.900         5     no  southwest  11552.90400\n",
       "32   female  17.765         2    yes  northwest  32734.18630\n",
       "32   female  29.800         2     no  southwest   5152.13400\n",
       "34     male  34.210         0     no  southeast   3935.17990\n",
       "61   female  28.200         0     no  southwest  13041.92100\n",
       "61     male  32.300         2     no  northwest  14119.62000\n",
       "26     male  29.450         0     no  northeast   2897.32350\n",
       "26     male  23.700         2     no  southwest   3484.33100\n",
       "38     male  29.260         2     no  northwest   6457.84340\n",
       "38     male  28.025         1     no  northeast   6067.12675"
      ]
     },
     "metadata": {},
     "output_type": "display_data"
    },
    {
     "name": "stdout",
     "output_type": "stream",
     "text": [
      "                                                                                        \r"
     ]
    },
    {
     "data": {
      "text/html": [
       "1069 rows X 7 columns"
      ],
      "text/plain": [
       "<IPython.core.display.HTML object>"
      ]
     },
     "metadata": {},
     "output_type": "display_data"
    },
    {
     "name": "stdout",
     "output_type": "stream",
     "text": [
      "Remaining Rows in the data: 1069                                                        \n",
      "Remaining Columns in the data: 7\n",
      "                                                                                        \r"
     ]
    },
    {
     "data": {
      "text/html": [
       "Total time to handle duplicate records: 4.19 sec  "
      ],
      "text/plain": [
       "<IPython.core.display.HTML object>"
      ]
     },
     "metadata": {},
     "output_type": "display_data"
    },
    {
     "name": "stdout",
     "output_type": "stream",
     "text": [
      "                                                                                        \r"
     ]
    },
    {
     "data": {
      "text/html": [
       "\n",
       "Starting customized anti-select columns ..."
      ],
      "text/plain": [
       "<IPython.core.display.HTML object>"
      ]
     },
     "metadata": {},
     "output_type": "display_data"
    },
    {
     "name": "stdout",
     "output_type": "stream",
     "text": [
      "Skipping customized anti-select columns.                                                \n",
      "                                                                                         \r"
     ]
    },
    {
     "data": {
      "text/html": [
       "\n",
       "Handling less significant features from data ..."
      ],
      "text/plain": [
       "<IPython.core.display.HTML object>"
      ]
     },
     "metadata": {},
     "output_type": "display_data"
    },
    {
     "name": "stdout",
     "output_type": "stream",
     "text": [
      "Analysis indicates all categorical columns are significant. No action Needed.            \n",
      "                                                                                         \r"
     ]
    },
    {
     "data": {
      "text/html": [
       "Total time to handle less significant features: 16.16 sec  "
      ],
      "text/plain": [
       "<IPython.core.display.HTML object>"
      ]
     },
     "metadata": {},
     "output_type": "display_data"
    },
    {
     "name": "stdout",
     "output_type": "stream",
     "text": [
      "                                                                                         \r"
     ]
    },
    {
     "data": {
      "text/html": [
       "\n",
       "Handling Date Features ..."
      ],
      "text/plain": [
       "<IPython.core.display.HTML object>"
      ]
     },
     "metadata": {},
     "output_type": "display_data"
    },
    {
     "name": "stdout",
     "output_type": "stream",
     "text": [
      "Analysis Completed. Dataset does not contain any feature related to dates. No action needed.\n",
      "                                                                                         \r"
     ]
    },
    {
     "data": {
      "text/html": [
       "Total time to handle date features: 0.00 sec\n"
      ],
      "text/plain": [
       "<IPython.core.display.HTML object>"
      ]
     },
     "metadata": {},
     "output_type": "display_data"
    },
    {
     "name": "stdout",
     "output_type": "stream",
     "text": [
      "Proceeding with default option for missing value imputation.                             \n",
      "Proceeding with default option for handling remaining missing values.                    \n",
      "                                                                                         \r"
     ]
    },
    {
     "data": {
      "text/html": [
       "\n",
       "Checking Missing values in dataset ..."
      ],
      "text/plain": [
       "<IPython.core.display.HTML object>"
      ]
     },
     "metadata": {},
     "output_type": "display_data"
    },
    {
     "name": "stdout",
     "output_type": "stream",
     "text": [
      "Analysis Completed. No Missing Values Detected.                                          \n",
      "                                                                                         \r"
     ]
    },
    {
     "data": {
      "text/html": [
       "Total time to find missing values in data: 7.90 sec  "
      ],
      "text/plain": [
       "<IPython.core.display.HTML object>"
      ]
     },
     "metadata": {},
     "output_type": "display_data"
    },
    {
     "name": "stdout",
     "output_type": "stream",
     "text": [
      "                                                                                         \r"
     ]
    },
    {
     "data": {
      "text/html": [
       "\n",
       "Imputing Missing Values ..."
      ],
      "text/plain": [
       "<IPython.core.display.HTML object>"
      ]
     },
     "metadata": {},
     "output_type": "display_data"
    },
    {
     "name": "stdout",
     "output_type": "stream",
     "text": [
      "Analysis completed. No imputation required.                                              \n",
      "                                                                                         \r"
     ]
    },
    {
     "data": {
      "text/html": [
       "Time taken to perform imputation: 0.01 sec  "
      ],
      "text/plain": [
       "<IPython.core.display.HTML object>"
      ]
     },
     "metadata": {},
     "output_type": "display_data"
    },
    {
     "name": "stdout",
     "output_type": "stream",
     "text": [
      "                                                                                         \r"
     ]
    },
    {
     "data": {
      "text/html": [
       "\n",
       "Updated dataset sample after performing Equal-Width binning :-"
      ],
      "text/plain": [
       "<IPython.core.display.HTML object>"
      ]
     },
     "metadata": {},
     "output_type": "display_data"
    },
    {
     "data": {
      "text/html": [
       "<style type=\"text/css\">\n",
       "\ttable {border:ridge 5px;}\n",
       "\ttable td {border:inset 1px;}\n",
       "\ttable tr#HeaderRow {background-color:grey; color:white;}</style>\n",
       "<html><table>\n",
       "\t<tr id=\"HeaderRow\">\n",
       "\t\t<th>children</th>\n",
       "\t\t<th>region</th>\n",
       "\t\t<th>smoker</th>\n",
       "\t\t<th>id</th>\n",
       "\t\t<th>bmi</th>\n",
       "\t\t<th>sex</th>\n",
       "\t\t<th>charges</th>\n",
       "\t\t<th>age</th>\n",
       "\t</tr>\n",
       "\t<tr>\n",
       "\t\t<td>4</td>\n",
       "\t\t<td>southeast</td>\n",
       "\t\t<td>no</td>\n",
       "\t\t<td>230</td>\n",
       "\t\t<td>29.04</td>\n",
       "\t\t<td>female</td>\n",
       "\t\t<td>7243.8136</td>\n",
       "\t\t<td>age_2</td>\n",
       "\t</tr>\n",
       "\t<tr>\n",
       "\t\t<td>4</td>\n",
       "\t\t<td>northeast</td>\n",
       "\t\t<td>no</td>\n",
       "\t\t<td>511</td>\n",
       "\t\t<td>33.63</td>\n",
       "\t\t<td>male</td>\n",
       "\t\t<td>17128.42608</td>\n",
       "\t\t<td>age_1</td>\n",
       "\t</tr>\n",
       "\t<tr>\n",
       "\t\t<td>4</td>\n",
       "\t\t<td>southwest</td>\n",
       "\t\t<td>no</td>\n",
       "\t\t<td>695</td>\n",
       "\t\t<td>29.6</td>\n",
       "\t\t<td>male</td>\n",
       "\t\t<td>7512.267</td>\n",
       "\t\t<td>age_2</td>\n",
       "\t</tr>\n",
       "\t<tr>\n",
       "\t\t<td>4</td>\n",
       "\t\t<td>northeast</td>\n",
       "\t\t<td>no</td>\n",
       "\t\t<td>1123</td>\n",
       "\t\t<td>28.215</td>\n",
       "\t\t<td>male</td>\n",
       "\t\t<td>10407.08585</td>\n",
       "\t\t<td>age_2</td>\n",
       "\t</tr>\n",
       "\t<tr>\n",
       "\t\t<td>4</td>\n",
       "\t\t<td>northeast</td>\n",
       "\t\t<td>no</td>\n",
       "\t\t<td>872</td>\n",
       "\t\t<td>31.35</td>\n",
       "\t\t<td>female</td>\n",
       "\t\t<td>4561.1885</td>\n",
       "\t\t<td>age_1</td>\n",
       "\t</tr>\n",
       "\t<tr>\n",
       "\t\t<td>4</td>\n",
       "\t\t<td>southeast</td>\n",
       "\t\t<td>no</td>\n",
       "\t\t<td>1168</td>\n",
       "\t\t<td>33.66</td>\n",
       "\t\t<td>male</td>\n",
       "\t\t<td>12949.1554</td>\n",
       "\t\t<td>age_3</td>\n",
       "\t</tr>\n",
       "\t<tr>\n",
       "\t\t<td>5</td>\n",
       "\t\t<td>northeast</td>\n",
       "\t\t<td>no</td>\n",
       "\t\t<td>1006</td>\n",
       "\t\t<td>28.5</td>\n",
       "\t\t<td>male</td>\n",
       "\t\t<td>6799.458</td>\n",
       "\t\t<td>age_1</td>\n",
       "\t</tr>\n",
       "\t<tr>\n",
       "\t\t<td>5</td>\n",
       "\t\t<td>northeast</td>\n",
       "\t\t<td>no</td>\n",
       "\t\t<td>253</td>\n",
       "\t\t<td>29.64</td>\n",
       "\t\t<td>male</td>\n",
       "\t\t<td>9222.4026</td>\n",
       "\t\t<td>age_2</td>\n",
       "\t</tr>\n",
       "\t<tr>\n",
       "\t\t<td>5</td>\n",
       "\t\t<td>southwest</td>\n",
       "\t\t<td>no</td>\n",
       "\t\t<td>612</td>\n",
       "\t\t<td>25.8</td>\n",
       "\t\t<td>male</td>\n",
       "\t\t<td>10096.97</td>\n",
       "\t\t<td>age_2</td>\n",
       "\t</tr>\n",
       "\t<tr>\n",
       "\t\t<td>5</td>\n",
       "\t\t<td>southeast</td>\n",
       "\t\t<td>no</td>\n",
       "\t\t<td>449</td>\n",
       "\t\t<td>33.44</td>\n",
       "\t\t<td>male</td>\n",
       "\t\t<td>6653.7886</td>\n",
       "\t\t<td>age_1</td>\n",
       "\t</tr>\n",
       "</table></html>"
      ],
      "text/plain": [
       "             region smoker    id     bmi     sex      charges    age\n",
       "children                                                            \n",
       "4         southeast     no   230  29.040  female   7243.81360  age_2\n",
       "4         northeast     no   511  33.630    male  17128.42608  age_1\n",
       "4         southwest     no   695  29.600    male   7512.26700  age_2\n",
       "4         northeast     no  1123  28.215    male  10407.08585  age_2\n",
       "4         northeast     no   872  31.350  female   4561.18850  age_1\n",
       "4         southeast     no  1168  33.660    male  12949.15540  age_3\n",
       "5         northeast     no  1006  28.500    male   6799.45800  age_1\n",
       "5         northeast     no   253  29.640    male   9222.40260  age_2\n",
       "5         southwest     no   612  25.800    male  10096.97000  age_2\n",
       "5         southeast     no   449  33.440    male   6653.78860  age_1"
      ]
     },
     "metadata": {},
     "output_type": "display_data"
    },
    {
     "name": "stdout",
     "output_type": "stream",
     "text": [
      "                                                                                         \r"
     ]
    },
    {
     "data": {
      "text/html": [
       "1069 rows X 8 columns"
      ],
      "text/plain": [
       "<IPython.core.display.HTML object>"
      ]
     },
     "metadata": {},
     "output_type": "display_data"
    },
    {
     "name": "stdout",
     "output_type": "stream",
     "text": [
      "No information provided for Variable-Width Transformation.                               \n",
      "Skipping customized string manipulation.                                                 \n",
      "                                                                                         \r"
     ]
    },
    {
     "data": {
      "text/html": [
       "\n",
       "Starting Customized Categorical Feature Encoding ..."
      ],
      "text/plain": [
       "<IPython.core.display.HTML object>"
      ]
     },
     "metadata": {},
     "output_type": "display_data"
    },
    {
     "name": "stdout",
     "output_type": "stream",
     "text": [
      "                                                                                         \r"
     ]
    },
    {
     "data": {
      "text/html": [
       "Updated dataset sample after performing target encoding:"
      ],
      "text/plain": [
       "<IPython.core.display.HTML object>"
      ]
     },
     "metadata": {},
     "output_type": "display_data"
    },
    {
     "data": {
      "text/html": [
       "<style type=\"text/css\">\n",
       "\ttable {border:ridge 5px;}\n",
       "\ttable td {border:inset 1px;}\n",
       "\ttable tr#HeaderRow {background-color:grey; color:white;}</style>\n",
       "<html><table>\n",
       "\t<tr id=\"HeaderRow\">\n",
       "\t\t<th>region</th>\n",
       "\t\t<th>age</th>\n",
       "\t\t<th>children</th>\n",
       "\t\t<th>smoker</th>\n",
       "\t\t<th>id</th>\n",
       "\t\t<th>bmi</th>\n",
       "\t\t<th>sex</th>\n",
       "\t\t<th>charges</th>\n",
       "\t</tr>\n",
       "\t<tr>\n",
       "\t\t<td>12775.700023636367</td>\n",
       "\t\t<td>age_2</td>\n",
       "\t\t<td>1</td>\n",
       "\t\t<td>no</td>\n",
       "\t\t<td>10</td>\n",
       "\t\t<td>27.4</td>\n",
       "\t\t<td>female</td>\n",
       "\t\t<td>6496.886</td>\n",
       "\t</tr>\n",
       "\t<tr>\n",
       "\t\t<td>12775.700023636367</td>\n",
       "\t\t<td>age_2</td>\n",
       "\t\t<td>1</td>\n",
       "\t\t<td>no</td>\n",
       "\t\t<td>954</td>\n",
       "\t\t<td>34.8</td>\n",
       "\t\t<td>female</td>\n",
       "\t\t<td>5246.047</td>\n",
       "\t</tr>\n",
       "\t<tr>\n",
       "\t\t<td>12775.700023636367</td>\n",
       "\t\t<td>age_3</td>\n",
       "\t\t<td>0</td>\n",
       "\t\t<td>no</td>\n",
       "\t\t<td>509</td>\n",
       "\t\t<td>36.2</td>\n",
       "\t\t<td>male</td>\n",
       "\t\t<td>8457.818</td>\n",
       "\t</tr>\n",
       "\t<tr>\n",
       "\t\t<td>12775.700023636367</td>\n",
       "\t\t<td>age_2</td>\n",
       "\t\t<td>1</td>\n",
       "\t\t<td>no</td>\n",
       "\t\t<td>946</td>\n",
       "\t\t<td>30.5</td>\n",
       "\t\t<td>male</td>\n",
       "\t\t<td>4751.07</td>\n",
       "\t</tr>\n",
       "\t<tr>\n",
       "\t\t<td>12775.700023636367</td>\n",
       "\t\t<td>age_3</td>\n",
       "\t\t<td>1</td>\n",
       "\t\t<td>no</td>\n",
       "\t\t<td>69</td>\n",
       "\t\t<td>27.1</td>\n",
       "\t\t<td>female</td>\n",
       "\t\t<td>26140.3603</td>\n",
       "\t</tr>\n",
       "\t<tr>\n",
       "\t\t<td>12775.700023636367</td>\n",
       "\t\t<td>age_3</td>\n",
       "\t\t<td>0</td>\n",
       "\t\t<td>no</td>\n",
       "\t\t<td>877</td>\n",
       "\t\t<td>33.1</td>\n",
       "\t\t<td>male</td>\n",
       "\t\t<td>13393.756</td>\n",
       "\t</tr>\n",
       "\t<tr>\n",
       "\t\t<td>12495.154729885056</td>\n",
       "\t\t<td>age_2</td>\n",
       "\t\t<td>1</td>\n",
       "\t\t<td>no</td>\n",
       "\t\t<td>605</td>\n",
       "\t\t<td>36.67</td>\n",
       "\t\t<td>male</td>\n",
       "\t\t<td>28468.91901</td>\n",
       "\t</tr>\n",
       "\t<tr>\n",
       "\t\t<td>12495.154729885056</td>\n",
       "\t\t<td>age_2</td>\n",
       "\t\t<td>1</td>\n",
       "\t\t<td>no</td>\n",
       "\t\t<td>623</td>\n",
       "\t\t<td>21.85</td>\n",
       "\t\t<td>male</td>\n",
       "\t\t<td>6117.4945</td>\n",
       "\t</tr>\n",
       "\t<tr>\n",
       "\t\t<td>12495.154729885056</td>\n",
       "\t\t<td>age_3</td>\n",
       "\t\t<td>1</td>\n",
       "\t\t<td>no</td>\n",
       "\t\t<td>193</td>\n",
       "\t\t<td>24.7</td>\n",
       "\t\t<td>male</td>\n",
       "\t\t<td>30166.61817</td>\n",
       "\t</tr>\n",
       "\t<tr>\n",
       "\t\t<td>12495.154729885056</td>\n",
       "\t\t<td>age_1</td>\n",
       "\t\t<td>1</td>\n",
       "\t\t<td>no</td>\n",
       "\t\t<td>339</td>\n",
       "\t\t<td>24.605</td>\n",
       "\t\t<td>female</td>\n",
       "\t\t<td>2709.24395</td>\n",
       "\t</tr>\n",
       "</table></html>"
      ],
      "text/plain": [
       "                age  children smoker   id     bmi     sex      charges\n",
       "region                                                                \n",
       "12775.700024  age_2         1     no   10  27.400  female   6496.88600\n",
       "12775.700024  age_2         1     no  954  34.800  female   5246.04700\n",
       "12775.700024  age_3         0     no  509  36.200    male   8457.81800\n",
       "12775.700024  age_2         1     no  946  30.500    male   4751.07000\n",
       "12775.700024  age_3         1     no   69  27.100  female  26140.36030\n",
       "12775.700024  age_3         0     no  877  33.100    male  13393.75600\n",
       "12495.154730  age_2         1     no  605  36.670    male  28468.91901\n",
       "12495.154730  age_2         1     no  623  21.850    male   6117.49450\n",
       "12495.154730  age_3         1     no  193  24.700    male  30166.61817\n",
       "12495.154730  age_1         1     no  339  24.605  female   2709.24395"
      ]
     },
     "metadata": {},
     "output_type": "display_data"
    },
    {
     "name": "stdout",
     "output_type": "stream",
     "text": [
      "                                                                                         \r"
     ]
    },
    {
     "data": {
      "text/html": [
       "1069 rows X 8 columns"
      ],
      "text/plain": [
       "<IPython.core.display.HTML object>"
      ]
     },
     "metadata": {},
     "output_type": "display_data"
    },
    {
     "name": "stdout",
     "output_type": "stream",
     "text": [
      "                                                                                         \r"
     ]
    },
    {
     "data": {
      "text/html": [
       "\n",
       "Performing encoding for categorical columns ..."
      ],
      "text/plain": [
       "<IPython.core.display.HTML object>"
      ]
     },
     "metadata": {},
     "output_type": "display_data"
    },
    {
     "name": "stdout",
     "output_type": "stream",
     "text": [
      "                                                                                         \r"
     ]
    },
    {
     "data": {
      "text/html": [
       "ONE HOT Encoding these Columns:"
      ],
      "text/plain": [
       "<IPython.core.display.HTML object>"
      ]
     },
     "metadata": {},
     "output_type": "display_data"
    },
    {
     "name": "stdout",
     "output_type": "stream",
     "text": [
      "['age', 'smoker', 'sex']\n",
      "                                                                                         \r"
     ]
    },
    {
     "data": {
      "text/html": [
       "Sample of dataset after performing one hot encoding:"
      ],
      "text/plain": [
       "<IPython.core.display.HTML object>"
      ]
     },
     "metadata": {},
     "output_type": "display_data"
    },
    {
     "data": {
      "text/html": [
       "<style type=\"text/css\">\n",
       "\ttable {border:ridge 5px;}\n",
       "\ttable td {border:inset 1px;}\n",
       "\ttable tr#HeaderRow {background-color:grey; color:white;}</style>\n",
       "<html><table>\n",
       "\t<tr id=\"HeaderRow\">\n",
       "\t\t<th>region</th>\n",
       "\t\t<th>age_0</th>\n",
       "\t\t<th>age_1</th>\n",
       "\t\t<th>age_2</th>\n",
       "\t\t<th>children</th>\n",
       "\t\t<th>smoker_0</th>\n",
       "\t\t<th>smoker_1</th>\n",
       "\t\t<th>id</th>\n",
       "\t\t<th>bmi</th>\n",
       "\t\t<th>sex_0</th>\n",
       "\t\t<th>sex_1</th>\n",
       "\t\t<th>charges</th>\n",
       "\t</tr>\n",
       "\t<tr>\n",
       "\t\t<td>12955.697910321136</td>\n",
       "\t\t<td>1</td>\n",
       "\t\t<td>0</td>\n",
       "\t\t<td>0</td>\n",
       "\t\t<td>1</td>\n",
       "\t\t<td>0</td>\n",
       "\t\t<td>1</td>\n",
       "\t\t<td>856</td>\n",
       "\t\t<td>27.36</td>\n",
       "\t\t<td>0</td>\n",
       "\t\t<td>1</td>\n",
       "\t\t<td>17178.6824</td>\n",
       "\t</tr>\n",
       "\t<tr>\n",
       "\t\t<td>12955.697910321136</td>\n",
       "\t\t<td>1</td>\n",
       "\t\t<td>0</td>\n",
       "\t\t<td>0</td>\n",
       "\t\t<td>1</td>\n",
       "\t\t<td>1</td>\n",
       "\t\t<td>0</td>\n",
       "\t\t<td>396</td>\n",
       "\t\t<td>28.975</td>\n",
       "\t\t<td>0</td>\n",
       "\t\t<td>1</td>\n",
       "\t\t<td>4040.55825</td>\n",
       "\t</tr>\n",
       "\t<tr>\n",
       "\t\t<td>12955.697910321136</td>\n",
       "\t\t<td>0</td>\n",
       "\t\t<td>1</td>\n",
       "\t\t<td>0</td>\n",
       "\t\t<td>1</td>\n",
       "\t\t<td>1</td>\n",
       "\t\t<td>0</td>\n",
       "\t\t<td>52</td>\n",
       "\t\t<td>27.265</td>\n",
       "\t\t<td>1</td>\n",
       "\t\t<td>0</td>\n",
       "\t\t<td>6555.07035</td>\n",
       "\t</tr>\n",
       "\t<tr>\n",
       "\t\t<td>12955.697910321136</td>\n",
       "\t\t<td>0</td>\n",
       "\t\t<td>0</td>\n",
       "\t\t<td>1</td>\n",
       "\t\t<td>1</td>\n",
       "\t\t<td>1</td>\n",
       "\t\t<td>0</td>\n",
       "\t\t<td>260</td>\n",
       "\t\t<td>35.245</td>\n",
       "\t\t<td>0</td>\n",
       "\t\t<td>1</td>\n",
       "\t\t<td>11394.06555</td>\n",
       "\t</tr>\n",
       "\t<tr>\n",
       "\t\t<td>12955.697910321136</td>\n",
       "\t\t<td>1</td>\n",
       "\t\t<td>0</td>\n",
       "\t\t<td>0</td>\n",
       "\t\t<td>1</td>\n",
       "\t\t<td>1</td>\n",
       "\t\t<td>0</td>\n",
       "\t\t<td>998</td>\n",
       "\t\t<td>26.885</td>\n",
       "\t\t<td>0</td>\n",
       "\t\t<td>1</td>\n",
       "\t\t<td>4441.21315</td>\n",
       "\t</tr>\n",
       "\t<tr>\n",
       "\t\t<td>12955.697910321136</td>\n",
       "\t\t<td>0</td>\n",
       "\t\t<td>0</td>\n",
       "\t\t<td>1</td>\n",
       "\t\t<td>1</td>\n",
       "\t\t<td>1</td>\n",
       "\t\t<td>0</td>\n",
       "\t\t<td>541</td>\n",
       "\t\t<td>27.075</td>\n",
       "\t\t<td>1</td>\n",
       "\t\t<td>0</td>\n",
       "\t\t<td>10106.13425</td>\n",
       "\t</tr>\n",
       "\t<tr>\n",
       "\t\t<td>12955.697910321136</td>\n",
       "\t\t<td>1</td>\n",
       "\t\t<td>0</td>\n",
       "\t\t<td>0</td>\n",
       "\t\t<td>1</td>\n",
       "\t\t<td>0</td>\n",
       "\t\t<td>1</td>\n",
       "\t\t<td>1491</td>\n",
       "\t\t<td>21.85</td>\n",
       "\t\t<td>1</td>\n",
       "\t\t<td>0</td>\n",
       "\t\t<td>15359.1045</td>\n",
       "\t</tr>\n",
       "\t<tr>\n",
       "\t\t<td>12955.697910321136</td>\n",
       "\t\t<td>0</td>\n",
       "\t\t<td>0</td>\n",
       "\t\t<td>1</td>\n",
       "\t\t<td>1</td>\n",
       "\t\t<td>1</td>\n",
       "\t\t<td>0</td>\n",
       "\t\t<td>149</td>\n",
       "\t\t<td>30.78</td>\n",
       "\t\t<td>1</td>\n",
       "\t\t<td>0</td>\n",
       "\t\t<td>9778.3472</td>\n",
       "\t</tr>\n",
       "\t<tr>\n",
       "\t\t<td>12955.697910321136</td>\n",
       "\t\t<td>0</td>\n",
       "\t\t<td>1</td>\n",
       "\t\t<td>0</td>\n",
       "\t\t<td>1</td>\n",
       "\t\t<td>1</td>\n",
       "\t\t<td>0</td>\n",
       "\t\t<td>621</td>\n",
       "\t\t<td>27.265</td>\n",
       "\t\t<td>1</td>\n",
       "\t\t<td>0</td>\n",
       "\t\t<td>9447.25035</td>\n",
       "\t</tr>\n",
       "\t<tr>\n",
       "\t\t<td>12955.697910321136</td>\n",
       "\t\t<td>0</td>\n",
       "\t\t<td>1</td>\n",
       "\t\t<td>0</td>\n",
       "\t\t<td>1</td>\n",
       "\t\t<td>1</td>\n",
       "\t\t<td>0</td>\n",
       "\t\t<td>357</td>\n",
       "\t\t<td>31.635</td>\n",
       "\t\t<td>1</td>\n",
       "\t\t<td>0</td>\n",
       "\t\t<td>7358.17565</td>\n",
       "\t</tr>\n",
       "</table></html>"
      ],
      "text/plain": [
       "             age_0  age_1  age_2  children  smoker_0  smoker_1    id     bmi  sex_0  sex_1      charges\n",
       "region                                                                                                 \n",
       "12955.69791      1      0      0         1         0         1   856  27.360      0      1  17178.68240\n",
       "12955.69791      1      0      0         1         1         0   396  28.975      0      1   4040.55825\n",
       "12955.69791      0      1      0         1         1         0    52  27.265      1      0   6555.07035\n",
       "12955.69791      0      0      1         1         1         0   260  35.245      0      1  11394.06555\n",
       "12955.69791      1      0      0         1         1         0   998  26.885      0      1   4441.21315\n",
       "12955.69791      0      0      1         1         1         0   541  27.075      1      0  10106.13425\n",
       "12955.69791      1      0      0         1         0         1  1491  21.850      1      0  15359.10450\n",
       "12955.69791      0      0      1         1         1         0   149  30.780      1      0   9778.34720\n",
       "12955.69791      0      1      0         1         1         0   621  27.265      1      0   9447.25035\n",
       "12955.69791      0      1      0         1         1         0   357  31.635      1      0   7358.17565"
      ]
     },
     "metadata": {},
     "output_type": "display_data"
    },
    {
     "name": "stdout",
     "output_type": "stream",
     "text": [
      "                                                                                         \r"
     ]
    },
    {
     "data": {
      "text/html": [
       "1069 rows X 12 columns"
      ],
      "text/plain": [
       "<IPython.core.display.HTML object>"
      ]
     },
     "metadata": {},
     "output_type": "display_data"
    },
    {
     "name": "stdout",
     "output_type": "stream",
     "text": [
      "                                                                                         \r"
     ]
    },
    {
     "data": {
      "text/html": [
       "Time taken to encode the columns: 14.48 sec"
      ],
      "text/plain": [
       "<IPython.core.display.HTML object>"
      ]
     },
     "metadata": {},
     "output_type": "display_data"
    },
    {
     "name": "stdout",
     "output_type": "stream",
     "text": [
      "                                                                                         \r"
     ]
    },
    {
     "data": {
      "text/html": [
       "\n",
       "Starting customized mathematical transformation ..."
      ],
      "text/plain": [
       "<IPython.core.display.HTML object>"
      ]
     },
     "metadata": {},
     "output_type": "display_data"
    },
    {
     "name": "stdout",
     "output_type": "stream",
     "text": [
      "Skipping customized mathematical transformation.                                         \n",
      "                                                                                         \r"
     ]
    },
    {
     "data": {
      "text/html": [
       "\n",
       "Starting customized non-linear transformation ..."
      ],
      "text/plain": [
       "<IPython.core.display.HTML object>"
      ]
     },
     "metadata": {},
     "output_type": "display_data"
    },
    {
     "name": "stdout",
     "output_type": "stream",
     "text": [
      "Skipping customized non-linear transformation.                                           \n",
      "                                                                                          \r"
     ]
    },
    {
     "data": {
      "text/html": [
       "\n",
       "            <style>\n",
       "                .custom-div {\n",
       "                    background-color: lightgray;\n",
       "                    color: #000000;\n",
       "                    padding: 10px;\n",
       "                    border-radius: 8px;\n",
       "                    box-shadow: 0 3px 4px rgba(0 -  0 -  0 -  0.2);\n",
       "                    margin-bottom: 10px;\n",
       "                    text-align: center;\n",
       "                }\n",
       "            </style>\n",
       "        <br><div class=\"custom-div\"><h3><span style=\"color: green;\">1. Feature Exploration -> 2. Feature Engineering -></span> 3. Data Preparation -> 4. Model Training & Evaluation<center></h3></center></div>"
      ],
      "text/plain": [
       "<IPython.core.display.HTML object>"
      ]
     },
     "metadata": {},
     "output_type": "display_data"
    },
    {
     "name": "stdout",
     "output_type": "stream",
     "text": [
      "                                                                                          \r"
     ]
    },
    {
     "data": {
      "text/html": [
       "Data preparation started ..."
      ],
      "text/plain": [
       "<IPython.core.display.HTML object>"
      ]
     },
     "metadata": {},
     "output_type": "display_data"
    },
    {
     "name": "stdout",
     "output_type": "stream",
     "text": [
      "                                                                                          \r"
     ]
    },
    {
     "data": {
      "text/html": [
       "\n",
       "Starting customized outlier processing ..."
      ],
      "text/plain": [
       "<IPython.core.display.HTML object>"
      ]
     },
     "metadata": {},
     "output_type": "display_data"
    },
    {
     "name": "stdout",
     "output_type": "stream",
     "text": [
      "No information provided for customized outlier processing. AutoML will proceed with default settings.\n",
      "                                                                                          \r"
     ]
    },
    {
     "data": {
      "text/html": [
       "\n",
       "Outlier preprocessing ..."
      ],
      "text/plain": [
       "<IPython.core.display.HTML object>"
      ]
     },
     "metadata": {},
     "output_type": "display_data"
    },
    {
     "name": "stdout",
     "output_type": "stream",
     "text": [
      "Columns with outlier percentage :-                                                                                                                                                                                                                                                                                                                                                                                                                                                                                  \n",
      "  ColumnName  OutlierPercentage\n",
      "0        bmi           0.654818\n",
      "1    charges           9.728718\n",
      "                                                                                          \r"
     ]
    },
    {
     "data": {
      "text/html": [
       "Deleting rows of these columns:"
      ],
      "text/plain": [
       "<IPython.core.display.HTML object>"
      ]
     },
     "metadata": {},
     "output_type": "display_data"
    },
    {
     "name": "stdout",
     "output_type": "stream",
     "text": [
      "['bmi']\n",
      "                                                                                          \r"
     ]
    },
    {
     "data": {
      "text/html": [
       "Sample of dataset after removing outlier rows:"
      ],
      "text/plain": [
       "<IPython.core.display.HTML object>"
      ]
     },
     "metadata": {},
     "output_type": "display_data"
    },
    {
     "data": {
      "text/html": [
       "<style type=\"text/css\">\n",
       "\ttable {border:ridge 5px;}\n",
       "\ttable td {border:inset 1px;}\n",
       "\ttable tr#HeaderRow {background-color:grey; color:white;}</style>\n",
       "<html><table>\n",
       "\t<tr id=\"HeaderRow\">\n",
       "\t\t<th>region</th>\n",
       "\t\t<th>age_0</th>\n",
       "\t\t<th>age_1</th>\n",
       "\t\t<th>age_2</th>\n",
       "\t\t<th>children</th>\n",
       "\t\t<th>smoker_0</th>\n",
       "\t\t<th>smoker_1</th>\n",
       "\t\t<th>id</th>\n",
       "\t\t<th>bmi</th>\n",
       "\t\t<th>sex_0</th>\n",
       "\t\t<th>sex_1</th>\n",
       "\t\t<th>charges</th>\n",
       "\t</tr>\n",
       "\t<tr>\n",
       "\t\t<td>12775.700023636367</td>\n",
       "\t\t<td>0</td>\n",
       "\t\t<td>1</td>\n",
       "\t\t<td>0</td>\n",
       "\t\t<td>0</td>\n",
       "\t\t<td>0</td>\n",
       "\t\t<td>1</td>\n",
       "\t\t<td>92</td>\n",
       "\t\t<td>19.3</td>\n",
       "\t\t<td>0</td>\n",
       "\t\t<td>1</td>\n",
       "\t\t<td>15820.699</td>\n",
       "\t</tr>\n",
       "\t<tr>\n",
       "\t\t<td>12775.700023636367</td>\n",
       "\t\t<td>0</td>\n",
       "\t\t<td>1</td>\n",
       "\t\t<td>0</td>\n",
       "\t\t<td>1</td>\n",
       "\t\t<td>1</td>\n",
       "\t\t<td>0</td>\n",
       "\t\t<td>1294</td>\n",
       "\t\t<td>29.0</td>\n",
       "\t\t<td>1</td>\n",
       "\t\t<td>0</td>\n",
       "\t\t<td>7050.642</td>\n",
       "\t</tr>\n",
       "\t<tr>\n",
       "\t\t<td>12775.700023636367</td>\n",
       "\t\t<td>1</td>\n",
       "\t\t<td>0</td>\n",
       "\t\t<td>0</td>\n",
       "\t\t<td>0</td>\n",
       "\t\t<td>1</td>\n",
       "\t\t<td>0</td>\n",
       "\t\t<td>1475</td>\n",
       "\t\t<td>25.8</td>\n",
       "\t\t<td>1</td>\n",
       "\t\t<td>0</td>\n",
       "\t\t<td>2007.945</td>\n",
       "\t</tr>\n",
       "\t<tr>\n",
       "\t\t<td>12775.700023636367</td>\n",
       "\t\t<td>0</td>\n",
       "\t\t<td>1</td>\n",
       "\t\t<td>0</td>\n",
       "\t\t<td>0</td>\n",
       "\t\t<td>1</td>\n",
       "\t\t<td>0</td>\n",
       "\t\t<td>597</td>\n",
       "\t\t<td>29.6</td>\n",
       "\t\t<td>0</td>\n",
       "\t\t<td>1</td>\n",
       "\t\t<td>21232.18226</td>\n",
       "\t</tr>\n",
       "\t<tr>\n",
       "\t\t<td>12775.700023636367</td>\n",
       "\t\t<td>0</td>\n",
       "\t\t<td>0</td>\n",
       "\t\t<td>1</td>\n",
       "\t\t<td>1</td>\n",
       "\t\t<td>1</td>\n",
       "\t\t<td>0</td>\n",
       "\t\t<td>798</td>\n",
       "\t\t<td>39.6</td>\n",
       "\t\t<td>0</td>\n",
       "\t\t<td>1</td>\n",
       "\t\t<td>10450.552</td>\n",
       "\t</tr>\n",
       "\t<tr>\n",
       "\t\t<td>12775.700023636367</td>\n",
       "\t\t<td>0</td>\n",
       "\t\t<td>0</td>\n",
       "\t\t<td>1</td>\n",
       "\t\t<td>0</td>\n",
       "\t\t<td>1</td>\n",
       "\t\t<td>0</td>\n",
       "\t\t<td>1114</td>\n",
       "\t\t<td>36.7</td>\n",
       "\t\t<td>0</td>\n",
       "\t\t<td>1</td>\n",
       "\t\t<td>9144.565</td>\n",
       "\t</tr>\n",
       "\t<tr>\n",
       "\t\t<td>12775.700023636367</td>\n",
       "\t\t<td>0</td>\n",
       "\t\t<td>1</td>\n",
       "\t\t<td>0</td>\n",
       "\t\t<td>1</td>\n",
       "\t\t<td>0</td>\n",
       "\t\t<td>1</td>\n",
       "\t\t<td>687</td>\n",
       "\t\t<td>28.3</td>\n",
       "\t\t<td>0</td>\n",
       "\t\t<td>1</td>\n",
       "\t\t<td>21082.16</td>\n",
       "\t</tr>\n",
       "\t<tr>\n",
       "\t\t<td>12775.700023636367</td>\n",
       "\t\t<td>0</td>\n",
       "\t\t<td>1</td>\n",
       "\t\t<td>0</td>\n",
       "\t\t<td>1</td>\n",
       "\t\t<td>1</td>\n",
       "\t\t<td>0</td>\n",
       "\t\t<td>108</td>\n",
       "\t\t<td>31.0</td>\n",
       "\t\t<td>0</td>\n",
       "\t\t<td>1</td>\n",
       "\t\t<td>5488.262</td>\n",
       "\t</tr>\n",
       "\t<tr>\n",
       "\t\t<td>12775.700023636367</td>\n",
       "\t\t<td>0</td>\n",
       "\t\t<td>0</td>\n",
       "\t\t<td>1</td>\n",
       "\t\t<td>0</td>\n",
       "\t\t<td>1</td>\n",
       "\t\t<td>0</td>\n",
       "\t\t<td>562</td>\n",
       "\t\t<td>25.0</td>\n",
       "\t\t<td>1</td>\n",
       "\t\t<td>0</td>\n",
       "\t\t<td>13451.122</td>\n",
       "\t</tr>\n",
       "\t<tr>\n",
       "\t\t<td>12775.700023636367</td>\n",
       "\t\t<td>0</td>\n",
       "\t\t<td>1</td>\n",
       "\t\t<td>0</td>\n",
       "\t\t<td>1</td>\n",
       "\t\t<td>0</td>\n",
       "\t\t<td>1</td>\n",
       "\t\t<td>741</td>\n",
       "\t\t<td>28.0</td>\n",
       "\t\t<td>0</td>\n",
       "\t\t<td>1</td>\n",
       "\t\t<td>23568.272</td>\n",
       "\t</tr>\n",
       "</table></html>"
      ],
      "text/plain": [
       "              age_0  age_1  age_2  children  smoker_0  smoker_1    id   bmi  sex_0  sex_1      charges\n",
       "region                                                                                                \n",
       "12775.700024      0      1      0         0         0         1    92  19.3      0      1  15820.69900\n",
       "12775.700024      0      1      0         1         1         0  1294  29.0      1      0   7050.64200\n",
       "12775.700024      1      0      0         0         1         0  1475  25.8      1      0   2007.94500\n",
       "12775.700024      0      1      0         0         1         0   597  29.6      0      1  21232.18226\n",
       "12775.700024      0      0      1         1         1         0   798  39.6      0      1  10450.55200\n",
       "12775.700024      0      0      1         0         1         0  1114  36.7      0      1   9144.56500\n",
       "12775.700024      0      1      0         1         0         1   687  28.3      0      1  21082.16000\n",
       "12775.700024      0      1      0         1         1         0   108  31.0      0      1   5488.26200\n",
       "12775.700024      0      0      1         0         1         0   562  25.0      1      0  13451.12200\n",
       "12775.700024      0      1      0         1         0         1   741  28.0      0      1  23568.27200"
      ]
     },
     "metadata": {},
     "output_type": "display_data"
    },
    {
     "name": "stdout",
     "output_type": "stream",
     "text": [
      "                                                                                          \r"
     ]
    },
    {
     "data": {
      "text/html": [
       "1062 rows X 12 columns"
      ],
      "text/plain": [
       "<IPython.core.display.HTML object>"
      ]
     },
     "metadata": {},
     "output_type": "display_data"
    },
    {
     "name": "stdout",
     "output_type": "stream",
     "text": [
      "                                                                                          \r"
     ]
    },
    {
     "data": {
      "text/html": [
       "Time Taken by Outlier processing: 35.39 sec "
      ],
      "text/plain": [
       "<IPython.core.display.HTML object>"
      ]
     },
     "metadata": {},
     "output_type": "display_data"
    },
    {
     "name": "stdout",
     "output_type": "stream",
     "text": [
      "                                                                                          \r"
     ]
    },
    {
     "data": {
      "text/html": [
       "\n",
       "Feature selection using lasso ..."
      ],
      "text/plain": [
       "<IPython.core.display.HTML object>"
      ]
     },
     "metadata": {},
     "output_type": "display_data"
    },
    {
     "name": "stdout",
     "output_type": "stream",
     "text": [
      "                                                                                          \r"
     ]
    },
    {
     "data": {
      "text/html": [
       "feature selected by lasso:"
      ],
      "text/plain": [
       "<IPython.core.display.HTML object>"
      ]
     },
     "metadata": {},
     "output_type": "display_data"
    },
    {
     "name": "stdout",
     "output_type": "stream",
     "text": [
      "['children', 'age_0', 'age_2', 'smoker_1', 'smoker_0', 'region', 'bmi']\n",
      "                                                                                          \r"
     ]
    },
    {
     "data": {
      "text/html": [
       "Total time taken by feature selection: 0.36 sec  "
      ],
      "text/plain": [
       "<IPython.core.display.HTML object>"
      ]
     },
     "metadata": {},
     "output_type": "display_data"
    },
    {
     "name": "stdout",
     "output_type": "stream",
     "text": [
      "                                                                                          \r"
     ]
    },
    {
     "data": {
      "text/html": [
       "\n",
       "scaling Features of lasso data ..."
      ],
      "text/plain": [
       "<IPython.core.display.HTML object>"
      ]
     },
     "metadata": {},
     "output_type": "display_data"
    },
    {
     "name": "stdout",
     "output_type": "stream",
     "text": [
      "                                                                                          \r"
     ]
    },
    {
     "data": {
      "text/html": [
       "columns that will be scaled: "
      ],
      "text/plain": [
       "<IPython.core.display.HTML object>"
      ]
     },
     "metadata": {},
     "output_type": "display_data"
    },
    {
     "name": "stdout",
     "output_type": "stream",
     "text": [
      "['children', 'region', 'bmi']\n",
      "                                                                                          \r"
     ]
    },
    {
     "data": {
      "text/html": [
       "Dataset sample after scaling:"
      ],
      "text/plain": [
       "<IPython.core.display.HTML object>"
      ]
     },
     "metadata": {},
     "output_type": "display_data"
    },
    {
     "data": {
      "text/html": [
       "<style type=\"text/css\">\n",
       "\ttable {border:ridge 5px;}\n",
       "\ttable td {border:inset 1px;}\n",
       "\ttable tr#HeaderRow {background-color:grey; color:white;}</style>\n",
       "<html><table>\n",
       "\t<tr id=\"HeaderRow\">\n",
       "\t\t<th>age_0</th>\n",
       "\t\t<th>age_2</th>\n",
       "\t\t<th>smoker_1</th>\n",
       "\t\t<th>id</th>\n",
       "\t\t<th>smoker_0</th>\n",
       "\t\t<th>charges</th>\n",
       "\t\t<th>children</th>\n",
       "\t\t<th>region</th>\n",
       "\t\t<th>bmi</th>\n",
       "\t</tr>\n",
       "\t<tr>\n",
       "\t\t<td>0</td>\n",
       "\t\t<td>0</td>\n",
       "\t\t<td>0</td>\n",
       "\t\t<td>10</td>\n",
       "\t\t<td>1</td>\n",
       "\t\t<td>6496.886</td>\n",
       "\t\t<td>-0.07404155161763351</td>\n",
       "\t\t<td>-0.5686174093420177</td>\n",
       "\t\t<td>-0.5378217472704564</td>\n",
       "\t</tr>\n",
       "\t<tr>\n",
       "\t\t<td>0</td>\n",
       "\t\t<td>0</td>\n",
       "\t\t<td>0</td>\n",
       "\t\t<td>12</td>\n",
       "\t\t<td>1</td>\n",
       "\t\t<td>6457.8434</td>\n",
       "\t\t<td>0.7624704464454171</td>\n",
       "\t\t<td>-0.8783405480276613</td>\n",
       "\t\t<td>-0.2239568058209512</td>\n",
       "\t</tr>\n",
       "\t<tr>\n",
       "\t\t<td>0</td>\n",
       "\t\t<td>1</td>\n",
       "\t\t<td>0</td>\n",
       "\t\t<td>13</td>\n",
       "\t\t<td>1</td>\n",
       "\t\t<td>11552.904</td>\n",
       "\t\t<td>3.2720064406345686</td>\n",
       "\t\t<td>-0.5686174093420177</td>\n",
       "\t\t<td>0.2215289175267324</td>\n",
       "\t</tr>\n",
       "\t<tr>\n",
       "\t\t<td>0</td>\n",
       "\t\t<td>1</td>\n",
       "\t\t<td>0</td>\n",
       "\t\t<td>14</td>\n",
       "\t\t<td>1</td>\n",
       "\t\t<td>13041.921</td>\n",
       "\t\t<td>-0.910553549680684</td>\n",
       "\t\t<td>-0.5686174093420177</td>\n",
       "\t\t<td>-0.40282607352873384</td>\n",
       "\t</tr>\n",
       "\t<tr>\n",
       "\t\t<td>1</td>\n",
       "\t\t<td>0</td>\n",
       "\t\t<td>0</td>\n",
       "\t\t<td>16</td>\n",
       "\t\t<td>1</td>\n",
       "\t\t<td>3484.331</td>\n",
       "\t\t<td>0.7624704464454171</td>\n",
       "\t\t<td>-0.5686174093420177</td>\n",
       "\t\t<td>-1.1621767383259227</td>\n",
       "\t</tr>\n",
       "\t<tr>\n",
       "\t\t<td>0</td>\n",
       "\t\t<td>0</td>\n",
       "\t\t<td>1</td>\n",
       "\t\t<td>17</td>\n",
       "\t\t<td>0</td>\n",
       "\t\t<td>18972.495</td>\n",
       "\t\t<td>0.7624704464454171</td>\n",
       "\t\t<td>1.5870178922206502</td>\n",
       "\t\t<td>-0.8921853908424775</td>\n",
       "\t</tr>\n",
       "\t<tr>\n",
       "\t\t<td>1</td>\n",
       "\t\t<td>0</td>\n",
       "\t\t<td>1</td>\n",
       "\t\t<td>15</td>\n",
       "\t\t<td>0</td>\n",
       "\t\t<td>32734.1863</td>\n",
       "\t\t<td>0.7624704464454171</td>\n",
       "\t\t<td>-0.8783405480276613</td>\n",
       "\t\t<td>-2.163675892897326</td>\n",
       "\t</tr>\n",
       "\t<tr>\n",
       "\t\t<td>1</td>\n",
       "\t\t<td>0</td>\n",
       "\t\t<td>1</td>\n",
       "\t\t<td>11</td>\n",
       "\t\t<td>0</td>\n",
       "\t\t<td>13844.506</td>\n",
       "\t\t<td>-0.910553549680684</td>\n",
       "\t\t<td>-0.5686174093420177</td>\n",
       "\t\t<td>-1.499665922680229</td>\n",
       "\t</tr>\n",
       "\t<tr>\n",
       "\t\t<td>0</td>\n",
       "\t\t<td>0</td>\n",
       "\t\t<td>0</td>\n",
       "\t\t<td>9</td>\n",
       "\t\t<td>1</td>\n",
       "\t\t<td>3935.1799</td>\n",
       "\t\t<td>-0.910553549680684</td>\n",
       "\t\t<td>1.5870178922206502</td>\n",
       "\t\t<td>0.6113289254559564</td>\n",
       "\t</tr>\n",
       "\t<tr>\n",
       "\t\t<td>1</td>\n",
       "\t\t<td>0</td>\n",
       "\t\t<td>0</td>\n",
       "\t\t<td>8</td>\n",
       "\t\t<td>1</td>\n",
       "\t\t<td>2897.3235</td>\n",
       "\t\t<td>-0.910553549680684</td>\n",
       "\t\t<td>-0.3698990043470887</td>\n",
       "\t\t<td>-0.1918953333072925</td>\n",
       "\t</tr>\n",
       "</table></html>"
      ],
      "text/plain": [
       "   age_0  age_2  smoker_1  id  smoker_0     charges  children    region       bmi\n",
       "0      0      0         0  10         1   6496.8860 -0.074042 -0.568617 -0.537822\n",
       "1      0      0         0  12         1   6457.8434  0.762470 -0.878341 -0.223957\n",
       "2      0      1         0  13         1  11552.9040  3.272006 -0.568617  0.221529\n",
       "3      0      1         0  14         1  13041.9210 -0.910554 -0.568617 -0.402826\n",
       "4      1      0         0  16         1   3484.3310  0.762470 -0.568617 -1.162177\n",
       "5      0      0         1  17         0  18972.4950  0.762470  1.587018 -0.892185\n",
       "6      1      0         1  15         0  32734.1863  0.762470 -0.878341 -2.163676\n",
       "7      1      0         1  11         0  13844.5060 -0.910554 -0.568617 -1.499666\n",
       "8      0      0         0   9         1   3935.1799 -0.910554  1.587018  0.611329\n",
       "9      1      0         0   8         1   2897.3235 -0.910554 -0.369899 -0.191895"
      ]
     },
     "metadata": {},
     "output_type": "display_data"
    },
    {
     "name": "stdout",
     "output_type": "stream",
     "text": [
      "                                                                                          \r"
     ]
    },
    {
     "data": {
      "text/html": [
       "1062 rows X 9 columns"
      ],
      "text/plain": [
       "<IPython.core.display.HTML object>"
      ]
     },
     "metadata": {},
     "output_type": "display_data"
    },
    {
     "name": "stdout",
     "output_type": "stream",
     "text": [
      "                                                                                          \r"
     ]
    },
    {
     "data": {
      "text/html": [
       "Total time taken by feature scaling: 29.21 sec"
      ],
      "text/plain": [
       "<IPython.core.display.HTML object>"
      ]
     },
     "metadata": {},
     "output_type": "display_data"
    },
    {
     "name": "stdout",
     "output_type": "stream",
     "text": [
      "                                                                                          \r"
     ]
    },
    {
     "data": {
      "text/html": [
       "\n",
       "Feature selection using rfe ..."
      ],
      "text/plain": [
       "<IPython.core.display.HTML object>"
      ]
     },
     "metadata": {},
     "output_type": "display_data"
    },
    {
     "name": "stdout",
     "output_type": "stream",
     "text": [
      "                                                                                          \r"
     ]
    },
    {
     "data": {
      "text/html": [
       "feature selected by RFE:"
      ],
      "text/plain": [
       "<IPython.core.display.HTML object>"
      ]
     },
     "metadata": {},
     "output_type": "display_data"
    },
    {
     "name": "stdout",
     "output_type": "stream",
     "text": [
      "['sex_0', 'children', 'age_0', 'age_2', 'smoker_1', 'smoker_0', 'age_1', 'region', 'bmi']\n",
      "                                                                                          \r"
     ]
    },
    {
     "data": {
      "text/html": [
       "Total time taken by feature selection: 10.17 sec  "
      ],
      "text/plain": [
       "<IPython.core.display.HTML object>"
      ]
     },
     "metadata": {},
     "output_type": "display_data"
    },
    {
     "name": "stdout",
     "output_type": "stream",
     "text": [
      "                                                                                          \r"
     ]
    },
    {
     "data": {
      "text/html": [
       "\n",
       "scaling Features of rfe data ..."
      ],
      "text/plain": [
       "<IPython.core.display.HTML object>"
      ]
     },
     "metadata": {},
     "output_type": "display_data"
    },
    {
     "name": "stdout",
     "output_type": "stream",
     "text": [
      "                                                                                          \r"
     ]
    },
    {
     "data": {
      "text/html": [
       "columns that will be scaled: "
      ],
      "text/plain": [
       "<IPython.core.display.HTML object>"
      ]
     },
     "metadata": {},
     "output_type": "display_data"
    },
    {
     "name": "stdout",
     "output_type": "stream",
     "text": [
      "['r_children', 'r_region', 'r_bmi']\n",
      "                                                                                          \r"
     ]
    },
    {
     "data": {
      "text/html": [
       "Dataset sample after scaling:"
      ],
      "text/plain": [
       "<IPython.core.display.HTML object>"
      ]
     },
     "metadata": {},
     "output_type": "display_data"
    },
    {
     "data": {
      "text/html": [
       "<style type=\"text/css\">\n",
       "\ttable {border:ridge 5px;}\n",
       "\ttable td {border:inset 1px;}\n",
       "\ttable tr#HeaderRow {background-color:grey; color:white;}</style>\n",
       "<html><table>\n",
       "\t<tr id=\"HeaderRow\">\n",
       "\t\t<th>r_age_0</th>\n",
       "\t\t<th>r_smoker_1</th>\n",
       "\t\t<th>r_sex_0</th>\n",
       "\t\t<th>id</th>\n",
       "\t\t<th>r_age_2</th>\n",
       "\t\t<th>r_age_1</th>\n",
       "\t\t<th>r_smoker_0</th>\n",
       "\t\t<th>charges</th>\n",
       "\t\t<th>r_children</th>\n",
       "\t\t<th>r_region</th>\n",
       "\t\t<th>r_bmi</th>\n",
       "\t</tr>\n",
       "\t<tr>\n",
       "\t\t<td>0</td>\n",
       "\t\t<td>0</td>\n",
       "\t\t<td>1</td>\n",
       "\t\t<td>10</td>\n",
       "\t\t<td>0</td>\n",
       "\t\t<td>1</td>\n",
       "\t\t<td>1</td>\n",
       "\t\t<td>6496.886</td>\n",
       "\t\t<td>-0.07404155161763351</td>\n",
       "\t\t<td>-0.5686174093420177</td>\n",
       "\t\t<td>-0.5378217472704564</td>\n",
       "\t</tr>\n",
       "\t<tr>\n",
       "\t\t<td>0</td>\n",
       "\t\t<td>0</td>\n",
       "\t\t<td>0</td>\n",
       "\t\t<td>12</td>\n",
       "\t\t<td>0</td>\n",
       "\t\t<td>1</td>\n",
       "\t\t<td>1</td>\n",
       "\t\t<td>6457.8434</td>\n",
       "\t\t<td>0.7624704464454171</td>\n",
       "\t\t<td>-0.8783405480276613</td>\n",
       "\t\t<td>-0.2239568058209512</td>\n",
       "\t</tr>\n",
       "\t<tr>\n",
       "\t\t<td>0</td>\n",
       "\t\t<td>0</td>\n",
       "\t\t<td>1</td>\n",
       "\t\t<td>13</td>\n",
       "\t\t<td>1</td>\n",
       "\t\t<td>0</td>\n",
       "\t\t<td>1</td>\n",
       "\t\t<td>11552.904</td>\n",
       "\t\t<td>3.2720064406345686</td>\n",
       "\t\t<td>-0.5686174093420177</td>\n",
       "\t\t<td>0.2215289175267324</td>\n",
       "\t</tr>\n",
       "\t<tr>\n",
       "\t\t<td>0</td>\n",
       "\t\t<td>0</td>\n",
       "\t\t<td>1</td>\n",
       "\t\t<td>14</td>\n",
       "\t\t<td>1</td>\n",
       "\t\t<td>0</td>\n",
       "\t\t<td>1</td>\n",
       "\t\t<td>13041.921</td>\n",
       "\t\t<td>-0.910553549680684</td>\n",
       "\t\t<td>-0.5686174093420177</td>\n",
       "\t\t<td>-0.40282607352873384</td>\n",
       "\t</tr>\n",
       "\t<tr>\n",
       "\t\t<td>1</td>\n",
       "\t\t<td>0</td>\n",
       "\t\t<td>0</td>\n",
       "\t\t<td>16</td>\n",
       "\t\t<td>0</td>\n",
       "\t\t<td>0</td>\n",
       "\t\t<td>1</td>\n",
       "\t\t<td>3484.331</td>\n",
       "\t\t<td>0.7624704464454171</td>\n",
       "\t\t<td>-0.5686174093420177</td>\n",
       "\t\t<td>-1.1621767383259227</td>\n",
       "\t</tr>\n",
       "\t<tr>\n",
       "\t\t<td>0</td>\n",
       "\t\t<td>1</td>\n",
       "\t\t<td>0</td>\n",
       "\t\t<td>17</td>\n",
       "\t\t<td>0</td>\n",
       "\t\t<td>1</td>\n",
       "\t\t<td>0</td>\n",
       "\t\t<td>18972.495</td>\n",
       "\t\t<td>0.7624704464454171</td>\n",
       "\t\t<td>1.5870178922206502</td>\n",
       "\t\t<td>-0.8921853908424775</td>\n",
       "\t</tr>\n",
       "\t<tr>\n",
       "\t\t<td>1</td>\n",
       "\t\t<td>1</td>\n",
       "\t\t<td>1</td>\n",
       "\t\t<td>15</td>\n",
       "\t\t<td>0</td>\n",
       "\t\t<td>0</td>\n",
       "\t\t<td>0</td>\n",
       "\t\t<td>32734.1863</td>\n",
       "\t\t<td>0.7624704464454171</td>\n",
       "\t\t<td>-0.8783405480276613</td>\n",
       "\t\t<td>-2.163675892897326</td>\n",
       "\t</tr>\n",
       "\t<tr>\n",
       "\t\t<td>1</td>\n",
       "\t\t<td>1</td>\n",
       "\t\t<td>1</td>\n",
       "\t\t<td>11</td>\n",
       "\t\t<td>0</td>\n",
       "\t\t<td>0</td>\n",
       "\t\t<td>0</td>\n",
       "\t\t<td>13844.506</td>\n",
       "\t\t<td>-0.910553549680684</td>\n",
       "\t\t<td>-0.5686174093420177</td>\n",
       "\t\t<td>-1.499665922680229</td>\n",
       "\t</tr>\n",
       "\t<tr>\n",
       "\t\t<td>0</td>\n",
       "\t\t<td>0</td>\n",
       "\t\t<td>0</td>\n",
       "\t\t<td>9</td>\n",
       "\t\t<td>0</td>\n",
       "\t\t<td>1</td>\n",
       "\t\t<td>1</td>\n",
       "\t\t<td>3935.1799</td>\n",
       "\t\t<td>-0.910553549680684</td>\n",
       "\t\t<td>1.5870178922206502</td>\n",
       "\t\t<td>0.6113289254559564</td>\n",
       "\t</tr>\n",
       "\t<tr>\n",
       "\t\t<td>1</td>\n",
       "\t\t<td>0</td>\n",
       "\t\t<td>0</td>\n",
       "\t\t<td>8</td>\n",
       "\t\t<td>0</td>\n",
       "\t\t<td>0</td>\n",
       "\t\t<td>1</td>\n",
       "\t\t<td>2897.3235</td>\n",
       "\t\t<td>-0.910553549680684</td>\n",
       "\t\t<td>-0.3698990043470887</td>\n",
       "\t\t<td>-0.1918953333072925</td>\n",
       "\t</tr>\n",
       "</table></html>"
      ],
      "text/plain": [
       "   r_age_0  r_smoker_1  r_sex_0  id  r_age_2  r_age_1  r_smoker_0     charges  r_children  r_region     r_bmi\n",
       "0        0           0        1  10        0        1           1   6496.8860   -0.074042 -0.568617 -0.537822\n",
       "1        0           0        0  12        0        1           1   6457.8434    0.762470 -0.878341 -0.223957\n",
       "2        0           0        1  13        1        0           1  11552.9040    3.272006 -0.568617  0.221529\n",
       "3        0           0        1  14        1        0           1  13041.9210   -0.910554 -0.568617 -0.402826\n",
       "4        1           0        0  16        0        0           1   3484.3310    0.762470 -0.568617 -1.162177\n",
       "5        0           1        0  17        0        1           0  18972.4950    0.762470  1.587018 -0.892185\n",
       "6        1           1        1  15        0        0           0  32734.1863    0.762470 -0.878341 -2.163676\n",
       "7        1           1        1  11        0        0           0  13844.5060   -0.910554 -0.568617 -1.499666\n",
       "8        0           0        0   9        0        1           1   3935.1799   -0.910554  1.587018  0.611329\n",
       "9        1           0        0   8        0        0           1   2897.3235   -0.910554 -0.369899 -0.191895"
      ]
     },
     "metadata": {},
     "output_type": "display_data"
    },
    {
     "name": "stdout",
     "output_type": "stream",
     "text": [
      "                                                                                          \r"
     ]
    },
    {
     "data": {
      "text/html": [
       "1062 rows X 11 columns"
      ],
      "text/plain": [
       "<IPython.core.display.HTML object>"
      ]
     },
     "metadata": {},
     "output_type": "display_data"
    },
    {
     "name": "stdout",
     "output_type": "stream",
     "text": [
      "                                                                                          \r"
     ]
    },
    {
     "data": {
      "text/html": [
       "Total time taken by feature scaling: 34.43 sec"
      ],
      "text/plain": [
       "<IPython.core.display.HTML object>"
      ]
     },
     "metadata": {},
     "output_type": "display_data"
    },
    {
     "name": "stdout",
     "output_type": "stream",
     "text": [
      "                                                                                          \r"
     ]
    },
    {
     "data": {
      "text/html": [
       "\n",
       "scaling Features of pca data ..."
      ],
      "text/plain": [
       "<IPython.core.display.HTML object>"
      ]
     },
     "metadata": {},
     "output_type": "display_data"
    },
    {
     "name": "stdout",
     "output_type": "stream",
     "text": [
      "                                                                                          \r"
     ]
    },
    {
     "data": {
      "text/html": [
       "columns that will be scaled: "
      ],
      "text/plain": [
       "<IPython.core.display.HTML object>"
      ]
     },
     "metadata": {},
     "output_type": "display_data"
    },
    {
     "name": "stdout",
     "output_type": "stream",
     "text": [
      "['region', 'children', 'bmi']\n",
      "                                                                                          \r"
     ]
    },
    {
     "data": {
      "text/html": [
       "Dataset sample after scaling:"
      ],
      "text/plain": [
       "<IPython.core.display.HTML object>"
      ]
     },
     "metadata": {},
     "output_type": "display_data"
    },
    {
     "data": {
      "text/html": [
       "<style type=\"text/css\">\n",
       "\ttable {border:ridge 5px;}\n",
       "\ttable td {border:inset 1px;}\n",
       "\ttable tr#HeaderRow {background-color:grey; color:white;}</style>\n",
       "<html><table>\n",
       "\t<tr id=\"HeaderRow\">\n",
       "\t\t<th>sex_0</th>\n",
       "\t\t<th>age_0</th>\n",
       "\t\t<th>age_2</th>\n",
       "\t\t<th>smoker_1</th>\n",
       "\t\t<th>id</th>\n",
       "\t\t<th>smoker_0</th>\n",
       "\t\t<th>age_1</th>\n",
       "\t\t<th>charges</th>\n",
       "\t\t<th>sex_1</th>\n",
       "\t\t<th>region</th>\n",
       "\t\t<th>children</th>\n",
       "\t\t<th>bmi</th>\n",
       "\t</tr>\n",
       "\t<tr>\n",
       "\t\t<td>1</td>\n",
       "\t\t<td>0</td>\n",
       "\t\t<td>0</td>\n",
       "\t\t<td>0</td>\n",
       "\t\t<td>52</td>\n",
       "\t\t<td>1</td>\n",
       "\t\t<td>1</td>\n",
       "\t\t<td>6555.07035</td>\n",
       "\t\t<td>0</td>\n",
       "\t\t<td>-0.3698990175427499</td>\n",
       "\t\t<td>-0.07404155161763323</td>\n",
       "\t\t<td>-0.560602267214374</td>\n",
       "\t</tr>\n",
       "\t<tr>\n",
       "\t\t<td>0</td>\n",
       "\t\t<td>1</td>\n",
       "\t\t<td>0</td>\n",
       "\t\t<td>0</td>\n",
       "\t\t<td>998</td>\n",
       "\t\t<td>1</td>\n",
       "\t\t<td>0</td>\n",
       "\t\t<td>4441.21315</td>\n",
       "\t\t<td>1</td>\n",
       "\t\t<td>-0.3698990175427499</td>\n",
       "\t\t<td>-0.07404155161763323</td>\n",
       "\t\t<td>-0.624725212241692</td>\n",
       "\t</tr>\n",
       "\t<tr>\n",
       "\t\t<td>1</td>\n",
       "\t\t<td>0</td>\n",
       "\t\t<td>1</td>\n",
       "\t\t<td>0</td>\n",
       "\t\t<td>541</td>\n",
       "\t\t<td>1</td>\n",
       "\t\t<td>0</td>\n",
       "\t\t<td>10106.13425</td>\n",
       "\t\t<td>0</td>\n",
       "\t\t<td>-0.3698990175427499</td>\n",
       "\t\t<td>-0.07404155161763323</td>\n",
       "\t\t<td>-0.5926637397280332</td>\n",
       "\t</tr>\n",
       "\t<tr>\n",
       "\t\t<td>1</td>\n",
       "\t\t<td>1</td>\n",
       "\t\t<td>0</td>\n",
       "\t\t<td>1</td>\n",
       "\t\t<td>918</td>\n",
       "\t\t<td>0</td>\n",
       "\t\t<td>0</td>\n",
       "\t\t<td>58571.07448</td>\n",
       "\t\t<td>0</td>\n",
       "\t\t<td>-0.3698990175427499</td>\n",
       "\t\t<td>-0.07404155161763323</td>\n",
       "\t\t<td>1.266901666064191</td>\n",
       "\t</tr>\n",
       "\t<tr>\n",
       "\t\t<td>0</td>\n",
       "\t\t<td>0</td>\n",
       "\t\t<td>0</td>\n",
       "\t\t<td>0</td>\n",
       "\t\t<td>20</td>\n",
       "\t\t<td>1</td>\n",
       "\t\t<td>1</td>\n",
       "\t\t<td>6067.12675</td>\n",
       "\t\t<td>1</td>\n",
       "\t\t<td>-0.3698990175427499</td>\n",
       "\t\t<td>-0.07404155161763323</td>\n",
       "\t\t<td>-0.4323563771597382</td>\n",
       "\t</tr>\n",
       "\t<tr>\n",
       "\t\t<td>1</td>\n",
       "\t\t<td>0</td>\n",
       "\t\t<td>1</td>\n",
       "\t\t<td>0</td>\n",
       "\t\t<td>340</td>\n",
       "\t\t<td>1</td>\n",
       "\t\t<td>0</td>\n",
       "\t\t<td>11879.10405</td>\n",
       "\t\t<td>0</td>\n",
       "\t\t<td>-0.3698990175427499</td>\n",
       "\t\t<td>-0.07404155161763323</td>\n",
       "\t\t<td>0.30505749065442056</td>\n",
       "\t</tr>\n",
       "\t<tr>\n",
       "\t\t<td>0</td>\n",
       "\t\t<td>0</td>\n",
       "\t\t<td>0</td>\n",
       "\t\t<td>1</td>\n",
       "\t\t<td>741</td>\n",
       "\t\t<td>0</td>\n",
       "\t\t<td>1</td>\n",
       "\t\t<td>23568.272</td>\n",
       "\t\t<td>1</td>\n",
       "\t\t<td>-0.5686174078099003</td>\n",
       "\t\t<td>-0.07404155161763323</td>\n",
       "\t\t<td>-0.43657499196416677</td>\n",
       "\t</tr>\n",
       "\t<tr>\n",
       "\t\t<td>1</td>\n",
       "\t\t<td>0</td>\n",
       "\t\t<td>1</td>\n",
       "\t\t<td>0</td>\n",
       "\t\t<td>562</td>\n",
       "\t\t<td>1</td>\n",
       "\t\t<td>0</td>\n",
       "\t\t<td>13451.122</td>\n",
       "\t\t<td>0</td>\n",
       "\t\t<td>-0.5686174078099003</td>\n",
       "\t\t<td>-0.9105535496806807</td>\n",
       "\t\t<td>-0.9428087684956253</td>\n",
       "\t</tr>\n",
       "\t<tr>\n",
       "\t\t<td>0</td>\n",
       "\t\t<td>0</td>\n",
       "\t\t<td>0</td>\n",
       "\t\t<td>1</td>\n",
       "\t\t<td>92</td>\n",
       "\t\t<td>0</td>\n",
       "\t\t<td>1</td>\n",
       "\t\t<td>15820.699</td>\n",
       "\t\t<td>1</td>\n",
       "\t\t<td>-0.5686174078099003</td>\n",
       "\t\t<td>-0.9105535496806807</td>\n",
       "\t\t<td>-1.9046529439053965</td>\n",
       "\t</tr>\n",
       "\t<tr>\n",
       "\t\t<td>0</td>\n",
       "\t\t<td>0</td>\n",
       "\t\t<td>0</td>\n",
       "\t\t<td>0</td>\n",
       "\t\t<td>108</td>\n",
       "\t\t<td>1</td>\n",
       "\t\t<td>1</td>\n",
       "\t\t<td>5488.262</td>\n",
       "\t\t<td>1</td>\n",
       "\t\t<td>-0.5686174078099003</td>\n",
       "\t\t<td>-0.07404155161763323</td>\n",
       "\t\t<td>0.06965878456729178</td>\n",
       "\t</tr>\n",
       "</table></html>"
      ],
      "text/plain": [
       "   sex_0  age_0  age_2  smoker_1   id  smoker_0  age_1      charges  sex_1    region  children       bmi\n",
       "0      1      0      0         0   52         1      1   6555.07035      0 -0.369899 -0.074042 -0.560602\n",
       "1      0      1      0         0  998         1      0   4441.21315      1 -0.369899 -0.074042 -0.624725\n",
       "2      1      0      1         0  541         1      0  10106.13425      0 -0.369899 -0.074042 -0.592664\n",
       "3      1      1      0         1  918         0      0  58571.07448      0 -0.369899 -0.074042  1.266902\n",
       "4      0      0      0         0   20         1      1   6067.12675      1 -0.369899 -0.074042 -0.432356\n",
       "5      1      0      1         0  340         1      0  11879.10405      0 -0.369899 -0.074042  0.305057\n",
       "6      0      0      0         1  741         0      1  23568.27200      1 -0.568617 -0.074042 -0.436575\n",
       "7      1      0      1         0  562         1      0  13451.12200      0 -0.568617 -0.910554 -0.942809\n",
       "8      0      0      0         1   92         0      1  15820.69900      1 -0.568617 -0.910554 -1.904653\n",
       "9      0      0      0         0  108         1      1   5488.26200      1 -0.568617 -0.074042  0.069659"
      ]
     },
     "metadata": {},
     "output_type": "display_data"
    },
    {
     "name": "stdout",
     "output_type": "stream",
     "text": [
      "                                                                                          \r"
     ]
    },
    {
     "data": {
      "text/html": [
       "1062 rows X 12 columns"
      ],
      "text/plain": [
       "<IPython.core.display.HTML object>"
      ]
     },
     "metadata": {},
     "output_type": "display_data"
    },
    {
     "name": "stdout",
     "output_type": "stream",
     "text": [
      "                                                                                          \r"
     ]
    },
    {
     "data": {
      "text/html": [
       "Total time taken by feature scaling: 32.53 sec"
      ],
      "text/plain": [
       "<IPython.core.display.HTML object>"
      ]
     },
     "metadata": {},
     "output_type": "display_data"
    },
    {
     "name": "stdout",
     "output_type": "stream",
     "text": [
      "                                                                                          \r"
     ]
    },
    {
     "data": {
      "text/html": [
       "\n",
       "Dimension Reduction using pca ..."
      ],
      "text/plain": [
       "<IPython.core.display.HTML object>"
      ]
     },
     "metadata": {},
     "output_type": "display_data"
    },
    {
     "name": "stdout",
     "output_type": "stream",
     "text": [
      "                                                                                          \r"
     ]
    },
    {
     "data": {
      "text/html": [
       "PCA columns:"
      ],
      "text/plain": [
       "<IPython.core.display.HTML object>"
      ]
     },
     "metadata": {},
     "output_type": "display_data"
    },
    {
     "name": "stdout",
     "output_type": "stream",
     "text": [
      "['col_0', 'col_1', 'col_2', 'col_3', 'col_4', 'col_5', 'col_6']\n",
      "                                                                                          \r"
     ]
    },
    {
     "data": {
      "text/html": [
       "Total time taken by PCA: 5.83 sec  "
      ],
      "text/plain": [
       "<IPython.core.display.HTML object>"
      ]
     },
     "metadata": {},
     "output_type": "display_data"
    },
    {
     "name": "stdout",
     "output_type": "stream",
     "text": [
      "                                                                                          \r"
     ]
    },
    {
     "data": {
      "text/html": [
       "\n",
       "            <style>\n",
       "                .custom-div {\n",
       "                    background-color: lightgray;\n",
       "                    color: #000000;\n",
       "                    padding: 10px;\n",
       "                    border-radius: 8px;\n",
       "                    box-shadow: 0 3px 4px rgba(0 -  0 -  0 -  0.2);\n",
       "                    margin-bottom: 10px;\n",
       "                    text-align: center;\n",
       "                }\n",
       "            </style>\n",
       "        <br><div class=\"custom-div\"><h3><span style=\"color: green;\">1. Feature Exploration -> 2. Feature Engineering -> 3. Data Preparation -></span> 4. Model Training & Evaluation<center></h3></center></div>"
      ],
      "text/plain": [
       "<IPython.core.display.HTML object>"
      ]
     },
     "metadata": {},
     "output_type": "display_data"
    },
    {
     "name": "stdout",
     "output_type": "stream",
     "text": [
      "                                                                                          \r"
     ]
    },
    {
     "data": {
      "text/html": [
       "Model Training started ..."
      ],
      "text/plain": [
       "<IPython.core.display.HTML object>"
      ]
     },
     "metadata": {},
     "output_type": "display_data"
    },
    {
     "name": "stdout",
     "output_type": "stream",
     "text": [
      "                                                                                          \r"
     ]
    },
    {
     "data": {
      "text/html": [
       "\n",
       "Starting customized hyperparameter update ..."
      ],
      "text/plain": [
       "<IPython.core.display.HTML object>"
      ]
     },
     "metadata": {},
     "output_type": "display_data"
    },
    {
     "name": "stdout",
     "output_type": "stream",
     "text": [
      "                                                                                          \n",
      "Completed customized hyperparameter update.\n",
      "                                                                                          \r"
     ]
    },
    {
     "data": {
      "text/html": [
       "\n",
       "Hyperparameters used for model training: "
      ],
      "text/plain": [
       "<IPython.core.display.HTML object>"
      ]
     },
     "metadata": {},
     "output_type": "display_data"
    },
    {
     "name": "stdout",
     "output_type": "stream",
     "text": [
      "response_column : charges                                                                                                                             \n",
      "name : xgboost\n",
      "model_type : Regression\n",
      "column_sampling : (1, 0.6)\n",
      "min_impurity : (0.0, 0.1, 0.2)\n",
      "lambda1 : (0.01, 0.1, 1, 10)\n",
      "shrinkage_factor : (0.5, 0.1, 0.3)\n",
      "max_depth : (4, 5, 6)\n",
      "min_node_size : (1, 2, 3)\n",
      "iter_num : (10, 20, 30)\n",
      "seed : 42\n",
      "Total number of models for xgboost : 1944\n",
      "--------------------------------------------------------------------------------------------------------------------------------------------------------------------------------------------------------\n",
      "\n",
      "                                                                                          \r"
     ]
    },
    {
     "data": {
      "text/html": [
       "\n",
       "Performing hyperparameter tuning ..."
      ],
      "text/plain": [
       "<IPython.core.display.HTML object>"
      ]
     },
     "metadata": {},
     "output_type": "display_data"
    },
    {
     "name": "stdout",
     "output_type": "stream",
     "text": [
      "                                                                                          \r"
     ]
    },
    {
     "data": {
      "text/html": [
       "xgboost"
      ],
      "text/plain": [
       "<IPython.core.display.HTML object>"
      ]
     },
     "metadata": {},
     "output_type": "display_data"
    },
    {
     "name": "stdout",
     "output_type": "stream",
     "text": [
      "                                                                                                                                                                                                        \r"
     ]
    },
    {
     "data": {
      "text/html": [
       "----------------------------------------------------------------------------------------------------"
      ],
      "text/plain": [
       "<IPython.core.display.HTML object>"
      ]
     },
     "metadata": {},
     "output_type": "display_data"
    },
    {
     "name": "stdout",
     "output_type": "stream",
     "text": [
      "                                                                                          \r"
     ]
    },
    {
     "data": {
      "text/html": [
       "Leaderboard"
      ],
      "text/plain": [
       "<IPython.core.display.HTML object>"
      ]
     },
     "metadata": {},
     "output_type": "display_data"
    },
    {
     "data": {
      "text/html": [
       "<div>\n",
       "<style scoped>\n",
       "    .dataframe tbody tr th:only-of-type {\n",
       "        vertical-align: middle;\n",
       "    }\n",
       "\n",
       "    .dataframe tbody tr th {\n",
       "        vertical-align: top;\n",
       "    }\n",
       "\n",
       "    .dataframe thead th {\n",
       "        text-align: right;\n",
       "    }\n",
       "</style>\n",
       "<table border=\"1\" class=\"dataframe\">\n",
       "  <thead>\n",
       "    <tr style=\"text-align: right;\">\n",
       "      <th></th>\n",
       "      <th>RANK</th>\n",
       "      <th>MODEL_ID</th>\n",
       "      <th>FEATURE_SELECTION</th>\n",
       "      <th>MAE</th>\n",
       "      <th>MSE</th>\n",
       "      <th>MSLE</th>\n",
       "      <th>MAPE</th>\n",
       "      <th>MPE</th>\n",
       "      <th>RMSE</th>\n",
       "      <th>RMSLE</th>\n",
       "      <th>ME</th>\n",
       "      <th>R2</th>\n",
       "      <th>EV</th>\n",
       "      <th>MPD</th>\n",
       "      <th>MGD</th>\n",
       "      <th>ADJUSTED_R2</th>\n",
       "    </tr>\n",
       "  </thead>\n",
       "  <tbody>\n",
       "    <tr>\n",
       "      <th>0</th>\n",
       "      <td>1</td>\n",
       "      <td>XGBOOST_1</td>\n",
       "      <td>lasso</td>\n",
       "      <td>2738.516900</td>\n",
       "      <td>2.211772e+07</td>\n",
       "      <td>0.202092</td>\n",
       "      <td>33.780201</td>\n",
       "      <td>-18.112550</td>\n",
       "      <td>4702.948146</td>\n",
       "      <td>0.449546</td>\n",
       "      <td>24073.576458</td>\n",
       "      <td>0.834806</td>\n",
       "      <td>0.836500</td>\n",
       "      <td>1906.167035</td>\n",
       "      <td>0.225732</td>\n",
       "      <td>0.833709</td>\n",
       "    </tr>\n",
       "    <tr>\n",
       "      <th>1</th>\n",
       "      <td>2</td>\n",
       "      <td>XGBOOST_5</td>\n",
       "      <td>pca</td>\n",
       "      <td>2910.049866</td>\n",
       "      <td>2.382198e+07</td>\n",
       "      <td>0.193389</td>\n",
       "      <td>33.244328</td>\n",
       "      <td>-17.786278</td>\n",
       "      <td>4880.776695</td>\n",
       "      <td>0.439760</td>\n",
       "      <td>22315.454992</td>\n",
       "      <td>0.822077</td>\n",
       "      <td>0.822077</td>\n",
       "      <td>1974.542738</td>\n",
       "      <td>0.216695</td>\n",
       "      <td>0.820896</td>\n",
       "    </tr>\n",
       "    <tr>\n",
       "      <th>2</th>\n",
       "      <td>3</td>\n",
       "      <td>XGBOOST_4</td>\n",
       "      <td>pca</td>\n",
       "      <td>2873.485501</td>\n",
       "      <td>2.414535e+07</td>\n",
       "      <td>0.177146</td>\n",
       "      <td>30.520904</td>\n",
       "      <td>-13.627100</td>\n",
       "      <td>4913.792283</td>\n",
       "      <td>0.420887</td>\n",
       "      <td>24289.172880</td>\n",
       "      <td>0.819662</td>\n",
       "      <td>0.821918</td>\n",
       "      <td>1926.644504</td>\n",
       "      <td>0.206122</td>\n",
       "      <td>0.818464</td>\n",
       "    </tr>\n",
       "    <tr>\n",
       "      <th>3</th>\n",
       "      <td>4</td>\n",
       "      <td>XGBOOST_3</td>\n",
       "      <td>rfe</td>\n",
       "      <td>4577.811894</td>\n",
       "      <td>4.826346e+07</td>\n",
       "      <td>0.213055</td>\n",
       "      <td>39.170780</td>\n",
       "      <td>-22.364039</td>\n",
       "      <td>6947.191103</td>\n",
       "      <td>0.461579</td>\n",
       "      <td>24489.853647</td>\n",
       "      <td>0.639528</td>\n",
       "      <td>0.640922</td>\n",
       "      <td>2678.831841</td>\n",
       "      <td>0.241263</td>\n",
       "      <td>0.636444</td>\n",
       "    </tr>\n",
       "    <tr>\n",
       "      <th>4</th>\n",
       "      <td>5</td>\n",
       "      <td>XGBOOST_0</td>\n",
       "      <td>lasso</td>\n",
       "      <td>4779.185609</td>\n",
       "      <td>5.102572e+07</td>\n",
       "      <td>0.244442</td>\n",
       "      <td>42.376184</td>\n",
       "      <td>-25.453433</td>\n",
       "      <td>7143.229133</td>\n",
       "      <td>0.494411</td>\n",
       "      <td>23590.063736</td>\n",
       "      <td>0.618897</td>\n",
       "      <td>0.624086</td>\n",
       "      <td>2859.229320</td>\n",
       "      <td>0.278871</td>\n",
       "      <td>0.616366</td>\n",
       "    </tr>\n",
       "    <tr>\n",
       "      <th>5</th>\n",
       "      <td>6</td>\n",
       "      <td>XGBOOST_2</td>\n",
       "      <td>rfe</td>\n",
       "      <td>5278.874244</td>\n",
       "      <td>5.954775e+07</td>\n",
       "      <td>0.312217</td>\n",
       "      <td>34.879385</td>\n",
       "      <td>22.060317</td>\n",
       "      <td>7716.718898</td>\n",
       "      <td>0.558764</td>\n",
       "      <td>26855.353839</td>\n",
       "      <td>0.555247</td>\n",
       "      <td>0.736471</td>\n",
       "      <td>4271.871136</td>\n",
       "      <td>0.466739</td>\n",
       "      <td>0.551442</td>\n",
       "    </tr>\n",
       "  </tbody>\n",
       "</table>\n",
       "</div>"
      ],
      "text/plain": [
       "   RANK   MODEL_ID FEATURE_SELECTION          MAE           MSE      MSLE  \\\n",
       "0     1  XGBOOST_1             lasso  2738.516900  2.211772e+07  0.202092   \n",
       "1     2  XGBOOST_5               pca  2910.049866  2.382198e+07  0.193389   \n",
       "2     3  XGBOOST_4               pca  2873.485501  2.414535e+07  0.177146   \n",
       "3     4  XGBOOST_3               rfe  4577.811894  4.826346e+07  0.213055   \n",
       "4     5  XGBOOST_0             lasso  4779.185609  5.102572e+07  0.244442   \n",
       "5     6  XGBOOST_2               rfe  5278.874244  5.954775e+07  0.312217   \n",
       "\n",
       "        MAPE        MPE         RMSE     RMSLE            ME        R2  \\\n",
       "0  33.780201 -18.112550  4702.948146  0.449546  24073.576458  0.834806   \n",
       "1  33.244328 -17.786278  4880.776695  0.439760  22315.454992  0.822077   \n",
       "2  30.520904 -13.627100  4913.792283  0.420887  24289.172880  0.819662   \n",
       "3  39.170780 -22.364039  6947.191103  0.461579  24489.853647  0.639528   \n",
       "4  42.376184 -25.453433  7143.229133  0.494411  23590.063736  0.618897   \n",
       "5  34.879385  22.060317  7716.718898  0.558764  26855.353839  0.555247   \n",
       "\n",
       "         EV          MPD       MGD  ADJUSTED_R2  \n",
       "0  0.836500  1906.167035  0.225732     0.833709  \n",
       "1  0.822077  1974.542738  0.216695     0.820896  \n",
       "2  0.821918  1926.644504  0.206122     0.818464  \n",
       "3  0.640922  2678.831841  0.241263     0.636444  \n",
       "4  0.624086  2859.229320  0.278871     0.616366  \n",
       "5  0.736471  4271.871136  0.466739     0.551442  "
      ]
     },
     "metadata": {},
     "output_type": "display_data"
    },
    {
     "name": "stdout",
     "output_type": "stream",
     "text": [
      "                                                                                          \r"
     ]
    },
    {
     "data": {
      "text/html": [
       "6 rows X 16 columns"
      ],
      "text/plain": [
       "<IPython.core.display.HTML object>"
      ]
     },
     "metadata": {},
     "output_type": "display_data"
    },
    {
     "name": "stdout",
     "output_type": "stream",
     "text": [
      "                                                                                          \r"
     ]
    },
    {
     "data": {
      "text/html": [
       "\n",
       "            <style>\n",
       "                .custom-div {\n",
       "                    background-color: lightgray;\n",
       "                    color: #000000;\n",
       "                    padding: 10px;\n",
       "                    border-radius: 8px;\n",
       "                    box-shadow: 0 3px 4px rgba(0 -  0 -  0 -  0.2);\n",
       "                    margin-bottom: 10px;\n",
       "                    text-align: center;\n",
       "                }\n",
       "            </style>\n",
       "        <br><div class=\"custom-div\"><h3><span style=\"color: green;\">1. Feature Exploration -> 2. Feature Engineering -> 3. Data Preparation -> 4. Model Training & Evaluation</span><center></h3></center></div>"
      ],
      "text/plain": [
       "<IPython.core.display.HTML object>"
      ]
     },
     "metadata": {},
     "output_type": "display_data"
    },
    {
     "name": "stdout",
     "output_type": "stream",
     "text": [
      "Completed: ｜⫿⫿⫿⫿⫿⫿⫿⫿⫿⫿⫿⫿⫿⫿⫿⫿⫿⫿⫿⫿⫿⫿⫿⫿⫿⫿⫿⫿⫿⫿⫿⫿⫿⫿⫿⫿⫿⫿⫿⫿⫿⫿⫿⫿⫿⫿⫿⫿⫿⫿⫿⫿⫿⫿⫿⫿⫿⫿⫿⫿｜ 100% - 18/18    \r"
     ]
    }
   ],
   "source": [
    "# Fitting train data\n",
    "aml.fit(insurance_df_train, insurance_df_train.charges)"
   ]
  },
  {
   "cell_type": "markdown",
   "id": "23a04eb1-68e6-48b7-95aa-442f434809da",
   "metadata": {},
   "source": [
    "## <b><span style='color:#F1A424'>| 3.</span> Leaderboard : </b>"
   ]
  },
  {
   "cell_type": "code",
   "execution_count": 18,
   "id": "77de1099-6122-4f8a-8e7f-dd67e5b4ced4",
   "metadata": {},
   "outputs": [
    {
     "data": {
      "text/html": [
       "<div>\n",
       "<style scoped>\n",
       "    .dataframe tbody tr th:only-of-type {\n",
       "        vertical-align: middle;\n",
       "    }\n",
       "\n",
       "    .dataframe tbody tr th {\n",
       "        vertical-align: top;\n",
       "    }\n",
       "\n",
       "    .dataframe thead th {\n",
       "        text-align: right;\n",
       "    }\n",
       "</style>\n",
       "<table border=\"1\" class=\"dataframe\">\n",
       "  <thead>\n",
       "    <tr style=\"text-align: right;\">\n",
       "      <th></th>\n",
       "      <th>RANK</th>\n",
       "      <th>MODEL_ID</th>\n",
       "      <th>FEATURE_SELECTION</th>\n",
       "      <th>MAE</th>\n",
       "      <th>MSE</th>\n",
       "      <th>MSLE</th>\n",
       "      <th>MAPE</th>\n",
       "      <th>MPE</th>\n",
       "      <th>RMSE</th>\n",
       "      <th>RMSLE</th>\n",
       "      <th>ME</th>\n",
       "      <th>R2</th>\n",
       "      <th>EV</th>\n",
       "      <th>MPD</th>\n",
       "      <th>MGD</th>\n",
       "      <th>ADJUSTED_R2</th>\n",
       "    </tr>\n",
       "  </thead>\n",
       "  <tbody>\n",
       "    <tr>\n",
       "      <th>0</th>\n",
       "      <td>1</td>\n",
       "      <td>XGBOOST_1</td>\n",
       "      <td>lasso</td>\n",
       "      <td>2738.516900</td>\n",
       "      <td>2.211772e+07</td>\n",
       "      <td>0.202092</td>\n",
       "      <td>33.780201</td>\n",
       "      <td>-18.112550</td>\n",
       "      <td>4702.948146</td>\n",
       "      <td>0.449546</td>\n",
       "      <td>24073.576458</td>\n",
       "      <td>0.834806</td>\n",
       "      <td>0.836500</td>\n",
       "      <td>1906.167035</td>\n",
       "      <td>0.225732</td>\n",
       "      <td>0.833709</td>\n",
       "    </tr>\n",
       "    <tr>\n",
       "      <th>1</th>\n",
       "      <td>2</td>\n",
       "      <td>XGBOOST_5</td>\n",
       "      <td>pca</td>\n",
       "      <td>2910.049866</td>\n",
       "      <td>2.382198e+07</td>\n",
       "      <td>0.193389</td>\n",
       "      <td>33.244328</td>\n",
       "      <td>-17.786278</td>\n",
       "      <td>4880.776695</td>\n",
       "      <td>0.439760</td>\n",
       "      <td>22315.454992</td>\n",
       "      <td>0.822077</td>\n",
       "      <td>0.822077</td>\n",
       "      <td>1974.542738</td>\n",
       "      <td>0.216695</td>\n",
       "      <td>0.820896</td>\n",
       "    </tr>\n",
       "    <tr>\n",
       "      <th>2</th>\n",
       "      <td>3</td>\n",
       "      <td>XGBOOST_4</td>\n",
       "      <td>pca</td>\n",
       "      <td>2873.485501</td>\n",
       "      <td>2.414535e+07</td>\n",
       "      <td>0.177146</td>\n",
       "      <td>30.520904</td>\n",
       "      <td>-13.627100</td>\n",
       "      <td>4913.792283</td>\n",
       "      <td>0.420887</td>\n",
       "      <td>24289.172880</td>\n",
       "      <td>0.819662</td>\n",
       "      <td>0.821918</td>\n",
       "      <td>1926.644504</td>\n",
       "      <td>0.206122</td>\n",
       "      <td>0.818464</td>\n",
       "    </tr>\n",
       "    <tr>\n",
       "      <th>3</th>\n",
       "      <td>4</td>\n",
       "      <td>XGBOOST_3</td>\n",
       "      <td>rfe</td>\n",
       "      <td>4577.811894</td>\n",
       "      <td>4.826346e+07</td>\n",
       "      <td>0.213055</td>\n",
       "      <td>39.170780</td>\n",
       "      <td>-22.364039</td>\n",
       "      <td>6947.191103</td>\n",
       "      <td>0.461579</td>\n",
       "      <td>24489.853647</td>\n",
       "      <td>0.639528</td>\n",
       "      <td>0.640922</td>\n",
       "      <td>2678.831841</td>\n",
       "      <td>0.241263</td>\n",
       "      <td>0.636444</td>\n",
       "    </tr>\n",
       "    <tr>\n",
       "      <th>4</th>\n",
       "      <td>5</td>\n",
       "      <td>XGBOOST_0</td>\n",
       "      <td>lasso</td>\n",
       "      <td>4779.185609</td>\n",
       "      <td>5.102572e+07</td>\n",
       "      <td>0.244442</td>\n",
       "      <td>42.376184</td>\n",
       "      <td>-25.453433</td>\n",
       "      <td>7143.229133</td>\n",
       "      <td>0.494411</td>\n",
       "      <td>23590.063736</td>\n",
       "      <td>0.618897</td>\n",
       "      <td>0.624086</td>\n",
       "      <td>2859.229320</td>\n",
       "      <td>0.278871</td>\n",
       "      <td>0.616366</td>\n",
       "    </tr>\n",
       "    <tr>\n",
       "      <th>5</th>\n",
       "      <td>6</td>\n",
       "      <td>XGBOOST_2</td>\n",
       "      <td>rfe</td>\n",
       "      <td>5278.874244</td>\n",
       "      <td>5.954775e+07</td>\n",
       "      <td>0.312217</td>\n",
       "      <td>34.879385</td>\n",
       "      <td>22.060317</td>\n",
       "      <td>7716.718898</td>\n",
       "      <td>0.558764</td>\n",
       "      <td>26855.353839</td>\n",
       "      <td>0.555247</td>\n",
       "      <td>0.736471</td>\n",
       "      <td>4271.871136</td>\n",
       "      <td>0.466739</td>\n",
       "      <td>0.551442</td>\n",
       "    </tr>\n",
       "  </tbody>\n",
       "</table>\n",
       "</div>"
      ],
      "text/plain": [
       "   RANK   MODEL_ID FEATURE_SELECTION          MAE           MSE      MSLE  \\\n",
       "0     1  XGBOOST_1             lasso  2738.516900  2.211772e+07  0.202092   \n",
       "1     2  XGBOOST_5               pca  2910.049866  2.382198e+07  0.193389   \n",
       "2     3  XGBOOST_4               pca  2873.485501  2.414535e+07  0.177146   \n",
       "3     4  XGBOOST_3               rfe  4577.811894  4.826346e+07  0.213055   \n",
       "4     5  XGBOOST_0             lasso  4779.185609  5.102572e+07  0.244442   \n",
       "5     6  XGBOOST_2               rfe  5278.874244  5.954775e+07  0.312217   \n",
       "\n",
       "        MAPE        MPE         RMSE     RMSLE            ME        R2  \\\n",
       "0  33.780201 -18.112550  4702.948146  0.449546  24073.576458  0.834806   \n",
       "1  33.244328 -17.786278  4880.776695  0.439760  22315.454992  0.822077   \n",
       "2  30.520904 -13.627100  4913.792283  0.420887  24289.172880  0.819662   \n",
       "3  39.170780 -22.364039  6947.191103  0.461579  24489.853647  0.639528   \n",
       "4  42.376184 -25.453433  7143.229133  0.494411  23590.063736  0.618897   \n",
       "5  34.879385  22.060317  7716.718898  0.558764  26855.353839  0.555247   \n",
       "\n",
       "         EV          MPD       MGD  ADJUSTED_R2  \n",
       "0  0.836500  1906.167035  0.225732     0.833709  \n",
       "1  0.822077  1974.542738  0.216695     0.820896  \n",
       "2  0.821918  1926.644504  0.206122     0.818464  \n",
       "3  0.640922  2678.831841  0.241263     0.636444  \n",
       "4  0.624086  2859.229320  0.278871     0.616366  \n",
       "5  0.736471  4271.871136  0.466739     0.551442  "
      ]
     },
     "execution_count": 18,
     "metadata": {},
     "output_type": "execute_result"
    }
   ],
   "source": [
    "# Fetching Leaderboard\n",
    "aml.leaderboard()"
   ]
  },
  {
   "cell_type": "markdown",
   "id": "a7a3aa08-e349-4a61-9217-2c17d50411d8",
   "metadata": {},
   "source": [
    "## <b><span style='color:#F1A424'>| 4.</span> Best Performing Model : </b>"
   ]
  },
  {
   "cell_type": "code",
   "execution_count": 19,
   "id": "c4c32832-a76b-4f42-826a-cefc38a6301b",
   "metadata": {},
   "outputs": [
    {
     "data": {
      "text/html": [
       "<div>\n",
       "<style scoped>\n",
       "    .dataframe tbody tr th:only-of-type {\n",
       "        vertical-align: middle;\n",
       "    }\n",
       "\n",
       "    .dataframe tbody tr th {\n",
       "        vertical-align: top;\n",
       "    }\n",
       "\n",
       "    .dataframe thead th {\n",
       "        text-align: right;\n",
       "    }\n",
       "</style>\n",
       "<table border=\"1\" class=\"dataframe\">\n",
       "  <thead>\n",
       "    <tr style=\"text-align: right;\">\n",
       "      <th></th>\n",
       "      <th>RANK</th>\n",
       "      <th>MODEL_ID</th>\n",
       "      <th>FEATURE_SELECTION</th>\n",
       "      <th>MAE</th>\n",
       "      <th>MSE</th>\n",
       "      <th>MSLE</th>\n",
       "      <th>MAPE</th>\n",
       "      <th>MPE</th>\n",
       "      <th>RMSE</th>\n",
       "      <th>RMSLE</th>\n",
       "      <th>ME</th>\n",
       "      <th>R2</th>\n",
       "      <th>EV</th>\n",
       "      <th>MPD</th>\n",
       "      <th>MGD</th>\n",
       "      <th>ADJUSTED_R2</th>\n",
       "    </tr>\n",
       "  </thead>\n",
       "  <tbody>\n",
       "    <tr>\n",
       "      <th>0</th>\n",
       "      <td>1</td>\n",
       "      <td>XGBOOST_1</td>\n",
       "      <td>lasso</td>\n",
       "      <td>2738.5169</td>\n",
       "      <td>2.211772e+07</td>\n",
       "      <td>0.202092</td>\n",
       "      <td>33.780201</td>\n",
       "      <td>-18.11255</td>\n",
       "      <td>4702.948146</td>\n",
       "      <td>0.449546</td>\n",
       "      <td>24073.576458</td>\n",
       "      <td>0.834806</td>\n",
       "      <td>0.8365</td>\n",
       "      <td>1906.167035</td>\n",
       "      <td>0.225732</td>\n",
       "      <td>0.833709</td>\n",
       "    </tr>\n",
       "  </tbody>\n",
       "</table>\n",
       "</div>"
      ],
      "text/plain": [
       "   RANK   MODEL_ID FEATURE_SELECTION        MAE           MSE      MSLE  \\\n",
       "0     1  XGBOOST_1             lasso  2738.5169  2.211772e+07  0.202092   \n",
       "\n",
       "        MAPE       MPE         RMSE     RMSLE            ME        R2      EV  \\\n",
       "0  33.780201 -18.11255  4702.948146  0.449546  24073.576458  0.834806  0.8365   \n",
       "\n",
       "           MPD       MGD  ADJUSTED_R2  \n",
       "0  1906.167035  0.225732     0.833709  "
      ]
     },
     "metadata": {},
     "output_type": "display_data"
    }
   ],
   "source": [
    "# Fetching best performing model for dataset\n",
    "aml.leader()"
   ]
  },
  {
   "cell_type": "markdown",
   "id": "9761ac88-e18c-44ff-b33f-5fa27025a770",
   "metadata": {},
   "source": [
    "## <b><span style='color:#F1A424'>| 5.</span> Get Hyperparameter for Trained Model : </b>"
   ]
  },
  {
   "cell_type": "code",
   "execution_count": 20,
   "id": "a5348edb-698b-4c98-8c5a-f745b20d2ea2",
   "metadata": {},
   "outputs": [
    {
     "data": {
      "text/plain": [
       "{'response_column': 'charges',\n",
       " 'name': 'xgboost',\n",
       " 'model_type': 'Regression',\n",
       " 'column_sampling': 1,\n",
       " 'min_impurity': 0.0,\n",
       " 'lambda1': 1,\n",
       " 'shrinkage_factor': 0.3,\n",
       " 'max_depth': 5,\n",
       " 'min_node_size': 2,\n",
       " 'iter_num': 10,\n",
       " 'seed': 42,\n",
       " 'persist': False,\n",
       " 'max_models': 2}"
      ]
     },
     "execution_count": 20,
     "metadata": {},
     "output_type": "execute_result"
    }
   ],
   "source": [
    "aml.model_hyperparameters(rank=1)"
   ]
  },
  {
   "cell_type": "code",
   "execution_count": 21,
   "id": "e7c1e2a5-9d16-4e00-9aa0-9f4bd717699d",
   "metadata": {
    "tags": []
   },
   "outputs": [
    {
     "data": {
      "text/plain": [
       "{'response_column': 'charges',\n",
       " 'name': 'xgboost',\n",
       " 'model_type': 'Regression',\n",
       " 'column_sampling': 0.6,\n",
       " 'min_impurity': 0.1,\n",
       " 'lambda1': 1,\n",
       " 'shrinkage_factor': 0.3,\n",
       " 'max_depth': 4,\n",
       " 'min_node_size': 3,\n",
       " 'iter_num': 10,\n",
       " 'seed': 42,\n",
       " 'persist': False,\n",
       " 'max_models': 2}"
      ]
     },
     "execution_count": 21,
     "metadata": {},
     "output_type": "execute_result"
    }
   ],
   "source": [
    "aml.model_hyperparameters(rank=4)"
   ]
  },
  {
   "cell_type": "markdown",
   "id": "7e5a5e27-4a18-4a0a-b624-55ffe50caa3a",
   "metadata": {},
   "source": [
    "## <b><span style='color:#F1A424'>| 6.</span> Generate Prediction and Performance Metrics : </b>"
   ]
  },
  {
   "cell_type": "code",
   "execution_count": 22,
   "id": "5b6edfe3-bd5a-46bd-ad80-b20fadfed7a0",
   "metadata": {},
   "outputs": [
    {
     "name": "stdout",
     "output_type": "stream",
     "text": [
      "Data Transformation started ...\n",
      "                                                                                                \r"
     ]
    },
    {
     "data": {
      "text/html": [
       "Performing transformation carried out in feature engineering phase ..."
      ],
      "text/plain": [
       "<IPython.core.display.HTML object>"
      ]
     },
     "metadata": {},
     "output_type": "display_data"
    },
    {
     "name": "stdout",
     "output_type": "stream",
     "text": [
      "                                                                                                 \r"
     ]
    },
    {
     "data": {
      "text/html": [
       "\n",
       "Updated dataset after performing customized equal width bin-code transformation :"
      ],
      "text/plain": [
       "<IPython.core.display.HTML object>"
      ]
     },
     "metadata": {},
     "output_type": "display_data"
    },
    {
     "data": {
      "text/html": [
       "<style type=\"text/css\">\n",
       "\ttable {border:ridge 5px;}\n",
       "\ttable td {border:inset 1px;}\n",
       "\ttable tr#HeaderRow {background-color:grey; color:white;}</style>\n",
       "<html><table>\n",
       "\t<tr id=\"HeaderRow\">\n",
       "\t\t<th>children</th>\n",
       "\t\t<th>region</th>\n",
       "\t\t<th>smoker</th>\n",
       "\t\t<th>id</th>\n",
       "\t\t<th>bmi</th>\n",
       "\t\t<th>sex</th>\n",
       "\t\t<th>charges</th>\n",
       "\t\t<th>age</th>\n",
       "\t</tr>\n",
       "\t<tr>\n",
       "\t\t<td>0</td>\n",
       "\t\t<td>northwest</td>\n",
       "\t\t<td>no</td>\n",
       "\t\t<td>119</td>\n",
       "\t\t<td>23.655</td>\n",
       "\t\t<td>male</td>\n",
       "\t\t<td>2352.96845</td>\n",
       "\t\t<td>age_1</td>\n",
       "\t</tr>\n",
       "\t<tr>\n",
       "\t\t<td>0</td>\n",
       "\t\t<td>northeast</td>\n",
       "\t\t<td>no</td>\n",
       "\t\t<td>72</td>\n",
       "\t\t<td>25.08</td>\n",
       "\t\t<td>female</td>\n",
       "\t\t<td>7325.0482</td>\n",
       "\t\t<td>age_2</td>\n",
       "\t</tr>\n",
       "\t<tr>\n",
       "\t\t<td>0</td>\n",
       "\t\t<td>northwest</td>\n",
       "\t\t<td>yes</td>\n",
       "\t\t<td>96</td>\n",
       "\t\t<td>26.885</td>\n",
       "\t\t<td>female</td>\n",
       "\t\t<td>21774.32215</td>\n",
       "\t\t<td>age_2</td>\n",
       "\t</tr>\n",
       "\t<tr>\n",
       "\t\t<td>0</td>\n",
       "\t\t<td>northeast</td>\n",
       "\t\t<td>no</td>\n",
       "\t\t<td>104</td>\n",
       "\t\t<td>26.03</td>\n",
       "\t\t<td>male</td>\n",
       "\t\t<td>6837.3687</td>\n",
       "\t\t<td>age_2</td>\n",
       "\t</tr>\n",
       "\t<tr>\n",
       "\t\t<td>0</td>\n",
       "\t\t<td>southwest</td>\n",
       "\t\t<td>no</td>\n",
       "\t\t<td>152</td>\n",
       "\t\t<td>35.1</td>\n",
       "\t\t<td>female</td>\n",
       "\t\t<td>12644.589</td>\n",
       "\t\t<td>age_3</td>\n",
       "\t</tr>\n",
       "\t<tr>\n",
       "\t\t<td>0</td>\n",
       "\t\t<td>northeast</td>\n",
       "\t\t<td>no</td>\n",
       "\t\t<td>160</td>\n",
       "\t\t<td>29.64</td>\n",
       "\t\t<td>male</td>\n",
       "\t\t<td>12730.9996</td>\n",
       "\t\t<td>age_3</td>\n",
       "\t</tr>\n",
       "\t<tr>\n",
       "\t\t<td>3</td>\n",
       "\t\t<td>southwest</td>\n",
       "\t\t<td>no</td>\n",
       "\t\t<td>304</td>\n",
       "\t\t<td>36.1</td>\n",
       "\t\t<td>male</td>\n",
       "\t\t<td>12363.547</td>\n",
       "\t\t<td>age_3</td>\n",
       "\t</tr>\n",
       "\t<tr>\n",
       "\t\t<td>3</td>\n",
       "\t\t<td>northeast</td>\n",
       "\t\t<td>no</td>\n",
       "\t\t<td>9</td>\n",
       "\t\t<td>19.0</td>\n",
       "\t\t<td>female</td>\n",
       "\t\t<td>6753.038</td>\n",
       "\t\t<td>age_2</td>\n",
       "\t</tr>\n",
       "\t<tr>\n",
       "\t\t<td>3</td>\n",
       "\t\t<td>northeast</td>\n",
       "\t\t<td>no</td>\n",
       "\t\t<td>15</td>\n",
       "\t\t<td>37.145</td>\n",
       "\t\t<td>female</td>\n",
       "\t\t<td>6334.34355</td>\n",
       "\t\t<td>age_1</td>\n",
       "\t</tr>\n",
       "\t<tr>\n",
       "\t\t<td>3</td>\n",
       "\t\t<td>northwest</td>\n",
       "\t\t<td>no</td>\n",
       "\t\t<td>31</td>\n",
       "\t\t<td>33.155</td>\n",
       "\t\t<td>female</td>\n",
       "\t\t<td>6128.79745</td>\n",
       "\t\t<td>age_1</td>\n",
       "\t</tr>\n",
       "</table></html>"
      ],
      "text/plain": [
       "             region smoker   id     bmi     sex      charges    age\n",
       "children                                                           \n",
       "0         northwest     no  119  23.655    male   2352.96845  age_1\n",
       "0         northeast     no   72  25.080  female   7325.04820  age_2\n",
       "0         northwest    yes   96  26.885  female  21774.32215  age_2\n",
       "0         northeast     no  104  26.030    male   6837.36870  age_2\n",
       "0         southwest     no  152  35.100  female  12644.58900  age_3\n",
       "0         northeast     no  160  29.640    male  12730.99960  age_3\n",
       "3         southwest     no  304  36.100    male  12363.54700  age_3\n",
       "3         northeast     no    9  19.000  female   6753.03800  age_2\n",
       "3         northeast     no   15  37.145  female   6334.34355  age_1\n",
       "3         northwest     no   31  33.155  female   6128.79745  age_1"
      ]
     },
     "metadata": {},
     "output_type": "display_data"
    },
    {
     "name": "stdout",
     "output_type": "stream",
     "text": [
      "                                                                                                 \r"
     ]
    },
    {
     "data": {
      "text/html": [
       "268 rows X 8 columns"
      ],
      "text/plain": [
       "<IPython.core.display.HTML object>"
      ]
     },
     "metadata": {},
     "output_type": "display_data"
    },
    {
     "name": "stdout",
     "output_type": "stream",
     "text": [
      "                                                                                                 \r"
     ]
    },
    {
     "data": {
      "text/html": [
       "\n",
       "Updated dataset after performing customized categorical encoding :"
      ],
      "text/plain": [
       "<IPython.core.display.HTML object>"
      ]
     },
     "metadata": {},
     "output_type": "display_data"
    },
    {
     "data": {
      "text/html": [
       "<style type=\"text/css\">\n",
       "\ttable {border:ridge 5px;}\n",
       "\ttable td {border:inset 1px;}\n",
       "\ttable tr#HeaderRow {background-color:grey; color:white;}</style>\n",
       "<html><table>\n",
       "\t<tr id=\"HeaderRow\">\n",
       "\t\t<th>region</th>\n",
       "\t\t<th>age</th>\n",
       "\t\t<th>children</th>\n",
       "\t\t<th>smoker</th>\n",
       "\t\t<th>id</th>\n",
       "\t\t<th>bmi</th>\n",
       "\t\t<th>sex</th>\n",
       "\t\t<th>charges</th>\n",
       "\t</tr>\n",
       "\t<tr>\n",
       "\t\t<td>12955.697910321136</td>\n",
       "\t\t<td>age_2</td>\n",
       "\t\t<td>1</td>\n",
       "\t\t<td>yes</td>\n",
       "\t\t<td>70</td>\n",
       "\t\t<td>28.025</td>\n",
       "\t\t<td>male</td>\n",
       "\t\t<td>20773.62775</td>\n",
       "\t</tr>\n",
       "\t<tr>\n",
       "\t\t<td>12955.697910321136</td>\n",
       "\t\t<td>age_2</td>\n",
       "\t\t<td>1</td>\n",
       "\t\t<td>no</td>\n",
       "\t\t<td>148</td>\n",
       "\t\t<td>33.725</td>\n",
       "\t\t<td>female</td>\n",
       "\t\t<td>8823.98575</td>\n",
       "\t</tr>\n",
       "\t<tr>\n",
       "\t\t<td>12955.697910321136</td>\n",
       "\t\t<td>age_2</td>\n",
       "\t\t<td>1</td>\n",
       "\t\t<td>no</td>\n",
       "\t\t<td>157</td>\n",
       "\t\t<td>35.91</td>\n",
       "\t\t<td>female</td>\n",
       "\t\t<td>26392.26029</td>\n",
       "\t</tr>\n",
       "\t<tr>\n",
       "\t\t<td>12955.697910321136</td>\n",
       "\t\t<td>age_2</td>\n",
       "\t\t<td>1</td>\n",
       "\t\t<td>yes</td>\n",
       "\t\t<td>50</td>\n",
       "\t\t<td>28.12</td>\n",
       "\t\t<td>female</td>\n",
       "\t\t<td>22331.5668</td>\n",
       "\t</tr>\n",
       "\t<tr>\n",
       "\t\t<td>12955.697910321136</td>\n",
       "\t\t<td>age_3</td>\n",
       "\t\t<td>1</td>\n",
       "\t\t<td>no</td>\n",
       "\t\t<td>123</td>\n",
       "\t\t<td>25.46</td>\n",
       "\t\t<td>male</td>\n",
       "\t\t<td>12913.9924</td>\n",
       "\t</tr>\n",
       "\t<tr>\n",
       "\t\t<td>12955.697910321136</td>\n",
       "\t\t<td>age_2</td>\n",
       "\t\t<td>1</td>\n",
       "\t\t<td>no</td>\n",
       "\t\t<td>342</td>\n",
       "\t\t<td>33.155</td>\n",
       "\t\t<td>female</td>\n",
       "\t\t<td>7639.41745</td>\n",
       "\t</tr>\n",
       "\t<tr>\n",
       "\t\t<td>12775.700023636367</td>\n",
       "\t\t<td>age_2</td>\n",
       "\t\t<td>0</td>\n",
       "\t\t<td>no</td>\n",
       "\t\t<td>78</td>\n",
       "\t\t<td>31.5</td>\n",
       "\t\t<td>male</td>\n",
       "\t\t<td>4402.233</td>\n",
       "\t</tr>\n",
       "\t<tr>\n",
       "\t\t<td>12775.700023636367</td>\n",
       "\t\t<td>age_1</td>\n",
       "\t\t<td>3</td>\n",
       "\t\t<td>no</td>\n",
       "\t\t<td>199</td>\n",
       "\t\t<td>32.7</td>\n",
       "\t\t<td>male</td>\n",
       "\t\t<td>3591.48</td>\n",
       "\t</tr>\n",
       "\t<tr>\n",
       "\t\t<td>12775.700023636367</td>\n",
       "\t\t<td>age_2</td>\n",
       "\t\t<td>0</td>\n",
       "\t\t<td>no</td>\n",
       "\t\t<td>302</td>\n",
       "\t\t<td>37.9</td>\n",
       "\t\t<td>female</td>\n",
       "\t\t<td>6474.013</td>\n",
       "\t</tr>\n",
       "\t<tr>\n",
       "\t\t<td>12775.700023636367</td>\n",
       "\t\t<td>age_1</td>\n",
       "\t\t<td>0</td>\n",
       "\t\t<td>no</td>\n",
       "\t\t<td>99</td>\n",
       "\t\t<td>19.8</td>\n",
       "\t\t<td>male</td>\n",
       "\t\t<td>1241.565</td>\n",
       "\t</tr>\n",
       "</table></html>"
      ],
      "text/plain": [
       "                age  children smoker   id     bmi     sex      charges\n",
       "region                                                                \n",
       "12955.697910  age_2         1    yes   70  28.025    male  20773.62775\n",
       "12955.697910  age_2         1     no  148  33.725  female   8823.98575\n",
       "12955.697910  age_2         1     no  157  35.910  female  26392.26029\n",
       "12955.697910  age_2         1    yes   50  28.120  female  22331.56680\n",
       "12955.697910  age_3         1     no  123  25.460    male  12913.99240\n",
       "12955.697910  age_2         1     no  342  33.155  female   7639.41745\n",
       "12775.700024  age_2         0     no   78  31.500    male   4402.23300\n",
       "12775.700024  age_1         3     no  199  32.700    male   3591.48000\n",
       "12775.700024  age_2         0     no  302  37.900  female   6474.01300\n",
       "12775.700024  age_1         0     no   99  19.800    male   1241.56500"
      ]
     },
     "metadata": {},
     "output_type": "display_data"
    },
    {
     "name": "stdout",
     "output_type": "stream",
     "text": [
      "                                                                                                 \r"
     ]
    },
    {
     "data": {
      "text/html": [
       "268 rows X 8 columns"
      ],
      "text/plain": [
       "<IPython.core.display.HTML object>"
      ]
     },
     "metadata": {},
     "output_type": "display_data"
    },
    {
     "name": "stdout",
     "output_type": "stream",
     "text": [
      "                                                                                                 \r"
     ]
    },
    {
     "data": {
      "text/html": [
       "\n",
       "Updated dataset after performing categorical encoding :"
      ],
      "text/plain": [
       "<IPython.core.display.HTML object>"
      ]
     },
     "metadata": {},
     "output_type": "display_data"
    },
    {
     "data": {
      "text/html": [
       "<style type=\"text/css\">\n",
       "\ttable {border:ridge 5px;}\n",
       "\ttable td {border:inset 1px;}\n",
       "\ttable tr#HeaderRow {background-color:grey; color:white;}</style>\n",
       "<html><table>\n",
       "\t<tr id=\"HeaderRow\">\n",
       "\t\t<th>region</th>\n",
       "\t\t<th>age_0</th>\n",
       "\t\t<th>age_1</th>\n",
       "\t\t<th>age_2</th>\n",
       "\t\t<th>children</th>\n",
       "\t\t<th>smoker_0</th>\n",
       "\t\t<th>smoker_1</th>\n",
       "\t\t<th>id</th>\n",
       "\t\t<th>bmi</th>\n",
       "\t\t<th>sex_0</th>\n",
       "\t\t<th>sex_1</th>\n",
       "\t\t<th>charges</th>\n",
       "\t</tr>\n",
       "\t<tr>\n",
       "\t\t<td>12495.154729885056</td>\n",
       "\t\t<td>1</td>\n",
       "\t\t<td>0</td>\n",
       "\t\t<td>0</td>\n",
       "\t\t<td>1</td>\n",
       "\t\t<td>1</td>\n",
       "\t\t<td>0</td>\n",
       "\t\t<td>235</td>\n",
       "\t\t<td>24.13</td>\n",
       "\t\t<td>0</td>\n",
       "\t\t<td>1</td>\n",
       "\t\t<td>4032.2407</td>\n",
       "\t</tr>\n",
       "\t<tr>\n",
       "\t\t<td>12495.154729885056</td>\n",
       "\t\t<td>0</td>\n",
       "\t\t<td>0</td>\n",
       "\t\t<td>1</td>\n",
       "\t\t<td>1</td>\n",
       "\t\t<td>1</td>\n",
       "\t\t<td>0</td>\n",
       "\t\t<td>162</td>\n",
       "\t\t<td>27.55</td>\n",
       "\t\t<td>0</td>\n",
       "\t\t<td>1</td>\n",
       "\t\t<td>13937.6665</td>\n",
       "\t</tr>\n",
       "\t<tr>\n",
       "\t\t<td>12495.154729885056</td>\n",
       "\t\t<td>0</td>\n",
       "\t\t<td>1</td>\n",
       "\t\t<td>0</td>\n",
       "\t\t<td>1</td>\n",
       "\t\t<td>0</td>\n",
       "\t\t<td>1</td>\n",
       "\t\t<td>25</td>\n",
       "\t\t<td>27.835</td>\n",
       "\t\t<td>0</td>\n",
       "\t\t<td>1</td>\n",
       "\t\t<td>20009.63365</td>\n",
       "\t</tr>\n",
       "\t<tr>\n",
       "\t\t<td>12495.154729885056</td>\n",
       "\t\t<td>1</td>\n",
       "\t\t<td>0</td>\n",
       "\t\t<td>0</td>\n",
       "\t\t<td>1</td>\n",
       "\t\t<td>1</td>\n",
       "\t\t<td>0</td>\n",
       "\t\t<td>298</td>\n",
       "\t\t<td>31.255</td>\n",
       "\t\t<td>1</td>\n",
       "\t\t<td>0</td>\n",
       "\t\t<td>3956.07145</td>\n",
       "\t</tr>\n",
       "\t<tr>\n",
       "\t\t<td>12495.154729885056</td>\n",
       "\t\t<td>1</td>\n",
       "\t\t<td>0</td>\n",
       "\t\t<td>0</td>\n",
       "\t\t<td>2</td>\n",
       "\t\t<td>1</td>\n",
       "\t\t<td>0</td>\n",
       "\t\t<td>68</td>\n",
       "\t\t<td>32.11</td>\n",
       "\t\t<td>1</td>\n",
       "\t\t<td>0</td>\n",
       "\t\t<td>4922.9159</td>\n",
       "\t</tr>\n",
       "\t<tr>\n",
       "\t\t<td>12495.154729885056</td>\n",
       "\t\t<td>0</td>\n",
       "\t\t<td>1</td>\n",
       "\t\t<td>0</td>\n",
       "\t\t<td>2</td>\n",
       "\t\t<td>1</td>\n",
       "\t\t<td>0</td>\n",
       "\t\t<td>61</td>\n",
       "\t\t<td>30.59</td>\n",
       "\t\t<td>0</td>\n",
       "\t\t<td>1</td>\n",
       "\t\t<td>7256.7231</td>\n",
       "\t</tr>\n",
       "\t<tr>\n",
       "\t\t<td>12775.700023636367</td>\n",
       "\t\t<td>0</td>\n",
       "\t\t<td>0</td>\n",
       "\t\t<td>1</td>\n",
       "\t\t<td>0</td>\n",
       "\t\t<td>1</td>\n",
       "\t\t<td>0</td>\n",
       "\t\t<td>189</td>\n",
       "\t\t<td>30.8</td>\n",
       "\t\t<td>0</td>\n",
       "\t\t<td>1</td>\n",
       "\t\t<td>13390.559</td>\n",
       "\t</tr>\n",
       "\t<tr>\n",
       "\t\t<td>12775.700023636367</td>\n",
       "\t\t<td>1</td>\n",
       "\t\t<td>0</td>\n",
       "\t\t<td>0</td>\n",
       "\t\t<td>0</td>\n",
       "\t\t<td>1</td>\n",
       "\t\t<td>0</td>\n",
       "\t\t<td>67</td>\n",
       "\t\t<td>17.8</td>\n",
       "\t\t<td>1</td>\n",
       "\t\t<td>0</td>\n",
       "\t\t<td>1727.785</td>\n",
       "\t</tr>\n",
       "\t<tr>\n",
       "\t\t<td>12775.700023636367</td>\n",
       "\t\t<td>1</td>\n",
       "\t\t<td>0</td>\n",
       "\t\t<td>0</td>\n",
       "\t\t<td>4</td>\n",
       "\t\t<td>1</td>\n",
       "\t\t<td>0</td>\n",
       "\t\t<td>89</td>\n",
       "\t\t<td>29.4</td>\n",
       "\t\t<td>0</td>\n",
       "\t\t<td>1</td>\n",
       "\t\t<td>6059.173</td>\n",
       "\t</tr>\n",
       "\t<tr>\n",
       "\t\t<td>12775.700023636367</td>\n",
       "\t\t<td>0</td>\n",
       "\t\t<td>1</td>\n",
       "\t\t<td>0</td>\n",
       "\t\t<td>2</td>\n",
       "\t\t<td>1</td>\n",
       "\t\t<td>0</td>\n",
       "\t\t<td>294</td>\n",
       "\t\t<td>27.4</td>\n",
       "\t\t<td>0</td>\n",
       "\t\t<td>1</td>\n",
       "\t\t<td>7726.854</td>\n",
       "\t</tr>\n",
       "</table></html>"
      ],
      "text/plain": [
       "              age_0  age_1  age_2  children  smoker_0  smoker_1   id     bmi  sex_0  sex_1      charges\n",
       "region                                                                                                 \n",
       "12495.154730      1      0      0         1         1         0  235  24.130      0      1   4032.24070\n",
       "12495.154730      0      0      1         1         1         0  162  27.550      0      1  13937.66650\n",
       "12495.154730      0      1      0         1         0         1   25  27.835      0      1  20009.63365\n",
       "12495.154730      1      0      0         1         1         0  298  31.255      1      0   3956.07145\n",
       "12495.154730      1      0      0         2         1         0   68  32.110      1      0   4922.91590\n",
       "12495.154730      0      1      0         2         1         0   61  30.590      0      1   7256.72310\n",
       "12775.700024      0      0      1         0         1         0  189  30.800      0      1  13390.55900\n",
       "12775.700024      1      0      0         0         1         0   67  17.800      1      0   1727.78500\n",
       "12775.700024      1      0      0         4         1         0   89  29.400      0      1   6059.17300\n",
       "12775.700024      0      1      0         2         1         0  294  27.400      0      1   7726.85400"
      ]
     },
     "metadata": {},
     "output_type": "display_data"
    },
    {
     "name": "stdout",
     "output_type": "stream",
     "text": [
      "                                                                                                 \r"
     ]
    },
    {
     "data": {
      "text/html": [
       "268 rows X 12 columns"
      ],
      "text/plain": [
       "<IPython.core.display.HTML object>"
      ]
     },
     "metadata": {},
     "output_type": "display_data"
    },
    {
     "name": "stdout",
     "output_type": "stream",
     "text": [
      "                                                                                                  \r"
     ]
    },
    {
     "data": {
      "text/html": [
       "Performing transformation carried out in data preparation phase ..."
      ],
      "text/plain": [
       "<IPython.core.display.HTML object>"
      ]
     },
     "metadata": {},
     "output_type": "display_data"
    },
    {
     "name": "stdout",
     "output_type": "stream",
     "text": [
      "                                                                                                  \r"
     ]
    },
    {
     "data": {
      "text/html": [
       "\n",
       "Updated dataset after performing Lasso feature selection:"
      ],
      "text/plain": [
       "<IPython.core.display.HTML object>"
      ]
     },
     "metadata": {},
     "output_type": "display_data"
    },
    {
     "data": {
      "text/html": [
       "<style type=\"text/css\">\n",
       "\ttable {border:ridge 5px;}\n",
       "\ttable td {border:inset 1px;}\n",
       "\ttable tr#HeaderRow {background-color:grey; color:white;}</style>\n",
       "<html><table>\n",
       "\t<tr id=\"HeaderRow\">\n",
       "\t\t<th>id</th>\n",
       "\t\t<th>children</th>\n",
       "\t\t<th>age_0</th>\n",
       "\t\t<th>age_2</th>\n",
       "\t\t<th>smoker_1</th>\n",
       "\t\t<th>smoker_0</th>\n",
       "\t\t<th>region</th>\n",
       "\t\t<th>bmi</th>\n",
       "\t\t<th>charges</th>\n",
       "\t</tr>\n",
       "\t<tr>\n",
       "\t\t<td>38</td>\n",
       "\t\t<td>0</td>\n",
       "\t\t<td>0</td>\n",
       "\t\t<td>1</td>\n",
       "\t\t<td>0</td>\n",
       "\t\t<td>1</td>\n",
       "\t\t<td>12775.7</td>\n",
       "\t\t<td>44.0</td>\n",
       "\t\t<td>13063.883</td>\n",
       "\t</tr>\n",
       "\t<tr>\n",
       "\t\t<td>222</td>\n",
       "\t\t<td>0</td>\n",
       "\t\t<td>1</td>\n",
       "\t\t<td>0</td>\n",
       "\t\t<td>0</td>\n",
       "\t\t<td>1</td>\n",
       "\t\t<td>12775.7</td>\n",
       "\t\t<td>29.1</td>\n",
       "\t\t<td>3761.292</td>\n",
       "\t</tr>\n",
       "\t<tr>\n",
       "\t\t<td>331</td>\n",
       "\t\t<td>0</td>\n",
       "\t\t<td>0</td>\n",
       "\t\t<td>0</td>\n",
       "\t\t<td>0</td>\n",
       "\t\t<td>1</td>\n",
       "\t\t<td>12775.7</td>\n",
       "\t\t<td>33.1</td>\n",
       "\t\t<td>7345.084</td>\n",
       "\t</tr>\n",
       "\t<tr>\n",
       "\t\t<td>187</td>\n",
       "\t\t<td>2</td>\n",
       "\t\t<td>0</td>\n",
       "\t\t<td>1</td>\n",
       "\t\t<td>0</td>\n",
       "\t\t<td>1</td>\n",
       "\t\t<td>12775.7</td>\n",
       "\t\t<td>35.9</td>\n",
       "\t\t<td>11163.568</td>\n",
       "\t</tr>\n",
       "\t<tr>\n",
       "\t\t<td>49</td>\n",
       "\t\t<td>0</td>\n",
       "\t\t<td>0</td>\n",
       "\t\t<td>1</td>\n",
       "\t\t<td>0</td>\n",
       "\t\t<td>1</td>\n",
       "\t\t<td>12775.7</td>\n",
       "\t\t<td>39.7</td>\n",
       "\t\t<td>14319.031</td>\n",
       "\t</tr>\n",
       "\t<tr>\n",
       "\t\t<td>35</td>\n",
       "\t\t<td>0</td>\n",
       "\t\t<td>1</td>\n",
       "\t\t<td>0</td>\n",
       "\t\t<td>0</td>\n",
       "\t\t<td>1</td>\n",
       "\t\t<td>12775.7</td>\n",
       "\t\t<td>28.9</td>\n",
       "\t\t<td>1743.214</td>\n",
       "\t</tr>\n",
       "\t<tr>\n",
       "\t\t<td>294</td>\n",
       "\t\t<td>2</td>\n",
       "\t\t<td>0</td>\n",
       "\t\t<td>0</td>\n",
       "\t\t<td>0</td>\n",
       "\t\t<td>1</td>\n",
       "\t\t<td>12775.7</td>\n",
       "\t\t<td>27.4</td>\n",
       "\t\t<td>7726.854</td>\n",
       "\t</tr>\n",
       "\t<tr>\n",
       "\t\t<td>165</td>\n",
       "\t\t<td>3</td>\n",
       "\t\t<td>0</td>\n",
       "\t\t<td>0</td>\n",
       "\t\t<td>0</td>\n",
       "\t\t<td>1</td>\n",
       "\t\t<td>12775.7</td>\n",
       "\t\t<td>34.3</td>\n",
       "\t\t<td>9563.029</td>\n",
       "\t</tr>\n",
       "\t<tr>\n",
       "\t\t<td>11</td>\n",
       "\t\t<td>0</td>\n",
       "\t\t<td>1</td>\n",
       "\t\t<td>0</td>\n",
       "\t\t<td>0</td>\n",
       "\t\t<td>1</td>\n",
       "\t\t<td>12775.7</td>\n",
       "\t\t<td>35.4</td>\n",
       "\t\t<td>1263.249</td>\n",
       "\t</tr>\n",
       "\t<tr>\n",
       "\t\t<td>363</td>\n",
       "\t\t<td>4</td>\n",
       "\t\t<td>1</td>\n",
       "\t\t<td>0</td>\n",
       "\t\t<td>1</td>\n",
       "\t\t<td>0</td>\n",
       "\t\t<td>12775.7</td>\n",
       "\t\t<td>25.7</td>\n",
       "\t\t<td>17942.106</td>\n",
       "\t</tr>\n",
       "</table></html>"
      ],
      "text/plain": [
       "    id  children  age_0  age_2  smoker_1  smoker_0   region   bmi    charges\n",
       "0   38         0      0      1         0         1  12775.7  44.0  13063.883\n",
       "1  222         0      1      0         0         1  12775.7  29.1   3761.292\n",
       "2  331         0      0      0         0         1  12775.7  33.1   7345.084\n",
       "3  187         2      0      1         0         1  12775.7  35.9  11163.568\n",
       "4   49         0      0      1         0         1  12775.7  39.7  14319.031\n",
       "5   35         0      1      0         0         1  12775.7  28.9   1743.214\n",
       "6  294         2      0      0         0         1  12775.7  27.4   7726.854\n",
       "7  165         3      0      0         0         1  12775.7  34.3   9563.029\n",
       "8   11         0      1      0         0         1  12775.7  35.4   1263.249\n",
       "9  363         4      1      0         1         0  12775.7  25.7  17942.106"
      ]
     },
     "metadata": {},
     "output_type": "display_data"
    },
    {
     "name": "stdout",
     "output_type": "stream",
     "text": [
      "                                                                                                  \r"
     ]
    },
    {
     "data": {
      "text/html": [
       "268 rows X 9 columns"
      ],
      "text/plain": [
       "<IPython.core.display.HTML object>"
      ]
     },
     "metadata": {},
     "output_type": "display_data"
    },
    {
     "name": "stdout",
     "output_type": "stream",
     "text": [
      "                                                                                                  \r"
     ]
    },
    {
     "data": {
      "text/html": [
       "\n",
       "Updated dataset after performing scaling on Lasso selected features :"
      ],
      "text/plain": [
       "<IPython.core.display.HTML object>"
      ]
     },
     "metadata": {},
     "output_type": "display_data"
    },
    {
     "data": {
      "text/html": [
       "<style type=\"text/css\">\n",
       "\ttable {border:ridge 5px;}\n",
       "\ttable td {border:inset 1px;}\n",
       "\ttable tr#HeaderRow {background-color:grey; color:white;}</style>\n",
       "<html><table>\n",
       "\t<tr id=\"HeaderRow\">\n",
       "\t\t<th>age_0</th>\n",
       "\t\t<th>age_2</th>\n",
       "\t\t<th>smoker_1</th>\n",
       "\t\t<th>id</th>\n",
       "\t\t<th>smoker_0</th>\n",
       "\t\t<th>charges</th>\n",
       "\t\t<th>children</th>\n",
       "\t\t<th>region</th>\n",
       "\t\t<th>bmi</th>\n",
       "\t</tr>\n",
       "\t<tr>\n",
       "\t\t<td>0</td>\n",
       "\t\t<td>1</td>\n",
       "\t\t<td>0</td>\n",
       "\t\t<td>38</td>\n",
       "\t\t<td>1</td>\n",
       "\t\t<td>13063.883</td>\n",
       "\t\t<td>-0.910553549680684</td>\n",
       "\t\t<td>-0.5686174093420177</td>\n",
       "\t\t<td>2.2633384828702847</td>\n",
       "\t</tr>\n",
       "\t<tr>\n",
       "\t\t<td>1</td>\n",
       "\t\t<td>0</td>\n",
       "\t\t<td>0</td>\n",
       "\t\t<td>222</td>\n",
       "\t\t<td>1</td>\n",
       "\t\t<td>3761.292</td>\n",
       "\t\t<td>-0.910553549680684</td>\n",
       "\t\t<td>-0.5686174093420177</td>\n",
       "\t\t<td>-0.2509559405692957</td>\n",
       "\t</tr>\n",
       "\t<tr>\n",
       "\t\t<td>0</td>\n",
       "\t\t<td>0</td>\n",
       "\t\t<td>0</td>\n",
       "\t\t<td>331</td>\n",
       "\t\t<td>1</td>\n",
       "\t\t<td>7345.084</td>\n",
       "\t\t<td>-0.910553549680684</td>\n",
       "\t\t<td>-0.5686174093420177</td>\n",
       "\t\t<td>0.42402242813931657</td>\n",
       "\t</tr>\n",
       "\t<tr>\n",
       "\t\t<td>0</td>\n",
       "\t\t<td>1</td>\n",
       "\t\t<td>0</td>\n",
       "\t\t<td>187</td>\n",
       "\t\t<td>1</td>\n",
       "\t\t<td>11163.568</td>\n",
       "\t\t<td>0.7624704464454171</td>\n",
       "\t\t<td>-0.5686174093420177</td>\n",
       "\t\t<td>0.8965072862353447</td>\n",
       "\t</tr>\n",
       "\t<tr>\n",
       "\t\t<td>0</td>\n",
       "\t\t<td>1</td>\n",
       "\t\t<td>0</td>\n",
       "\t\t<td>49</td>\n",
       "\t\t<td>1</td>\n",
       "\t\t<td>14319.031</td>\n",
       "\t\t<td>-0.910553549680684</td>\n",
       "\t\t<td>-0.5686174093420177</td>\n",
       "\t\t<td>1.537736736508527</td>\n",
       "\t</tr>\n",
       "\t<tr>\n",
       "\t\t<td>1</td>\n",
       "\t\t<td>0</td>\n",
       "\t\t<td>0</td>\n",
       "\t\t<td>35</td>\n",
       "\t\t<td>1</td>\n",
       "\t\t<td>1743.214</td>\n",
       "\t\t<td>-0.910553549680684</td>\n",
       "\t\t<td>-0.5686174093420177</td>\n",
       "\t\t<td>-0.2847048590047268</td>\n",
       "\t</tr>\n",
       "\t<tr>\n",
       "\t\t<td>0</td>\n",
       "\t\t<td>0</td>\n",
       "\t\t<td>0</td>\n",
       "\t\t<td>294</td>\n",
       "\t\t<td>1</td>\n",
       "\t\t<td>7726.854</td>\n",
       "\t\t<td>0.7624704464454171</td>\n",
       "\t\t<td>-0.5686174093420177</td>\n",
       "\t\t<td>-0.5378217472704564</td>\n",
       "\t</tr>\n",
       "\t<tr>\n",
       "\t\t<td>0</td>\n",
       "\t\t<td>0</td>\n",
       "\t\t<td>0</td>\n",
       "\t\t<td>165</td>\n",
       "\t\t<td>1</td>\n",
       "\t\t<td>9563.029</td>\n",
       "\t\t<td>1.5989824445084677</td>\n",
       "\t\t<td>-0.5686174093420177</td>\n",
       "\t\t<td>0.6265159387518996</td>\n",
       "\t</tr>\n",
       "\t<tr>\n",
       "\t\t<td>1</td>\n",
       "\t\t<td>0</td>\n",
       "\t\t<td>0</td>\n",
       "\t\t<td>11</td>\n",
       "\t\t<td>1</td>\n",
       "\t\t<td>1263.249</td>\n",
       "\t\t<td>-0.910553549680684</td>\n",
       "\t\t<td>-0.5686174093420177</td>\n",
       "\t\t<td>0.8121349901467682</td>\n",
       "\t</tr>\n",
       "\t<tr>\n",
       "\t\t<td>1</td>\n",
       "\t\t<td>0</td>\n",
       "\t\t<td>1</td>\n",
       "\t\t<td>363</td>\n",
       "\t\t<td>0</td>\n",
       "\t\t<td>17942.106</td>\n",
       "\t\t<td>2.435494442571518</td>\n",
       "\t\t<td>-0.5686174093420177</td>\n",
       "\t\t<td>-0.8246875539716165</td>\n",
       "\t</tr>\n",
       "</table></html>"
      ],
      "text/plain": [
       "   age_0  age_2  smoker_1   id  smoker_0    charges  children    region       bmi\n",
       "0      0      1         0   38         1  13063.883 -0.910554 -0.568617  2.263338\n",
       "1      1      0         0  222         1   3761.292 -0.910554 -0.568617 -0.250956\n",
       "2      0      0         0  331         1   7345.084 -0.910554 -0.568617  0.424022\n",
       "3      0      1         0  187         1  11163.568  0.762470 -0.568617  0.896507\n",
       "4      0      1         0   49         1  14319.031 -0.910554 -0.568617  1.537737\n",
       "5      1      0         0   35         1   1743.214 -0.910554 -0.568617 -0.284705\n",
       "6      0      0         0  294         1   7726.854  0.762470 -0.568617 -0.537822\n",
       "7      0      0         0  165         1   9563.029  1.598982 -0.568617  0.626516\n",
       "8      1      0         0   11         1   1263.249 -0.910554 -0.568617  0.812135\n",
       "9      1      0         1  363         0  17942.106  2.435494 -0.568617 -0.824688"
      ]
     },
     "metadata": {},
     "output_type": "display_data"
    },
    {
     "name": "stdout",
     "output_type": "stream",
     "text": [
      "                                                                                                  \r"
     ]
    },
    {
     "data": {
      "text/html": [
       "268 rows X 9 columns"
      ],
      "text/plain": [
       "<IPython.core.display.HTML object>"
      ]
     },
     "metadata": {},
     "output_type": "display_data"
    },
    {
     "name": "stdout",
     "output_type": "stream",
     "text": [
      "                                                                                                  \r"
     ]
    },
    {
     "data": {
      "text/html": [
       "\n",
       "Updated dataset after performing RFE feature selection:"
      ],
      "text/plain": [
       "<IPython.core.display.HTML object>"
      ]
     },
     "metadata": {},
     "output_type": "display_data"
    },
    {
     "data": {
      "text/html": [
       "<style type=\"text/css\">\n",
       "\ttable {border:ridge 5px;}\n",
       "\ttable td {border:inset 1px;}\n",
       "\ttable tr#HeaderRow {background-color:grey; color:white;}</style>\n",
       "<html><table>\n",
       "\t<tr id=\"HeaderRow\">\n",
       "\t\t<th>id</th>\n",
       "\t\t<th>sex_0</th>\n",
       "\t\t<th>children</th>\n",
       "\t\t<th>age_0</th>\n",
       "\t\t<th>age_2</th>\n",
       "\t\t<th>smoker_1</th>\n",
       "\t\t<th>smoker_0</th>\n",
       "\t\t<th>age_1</th>\n",
       "\t\t<th>region</th>\n",
       "\t\t<th>bmi</th>\n",
       "\t\t<th>charges</th>\n",
       "\t</tr>\n",
       "\t<tr>\n",
       "\t\t<td>38</td>\n",
       "\t\t<td>1</td>\n",
       "\t\t<td>0</td>\n",
       "\t\t<td>0</td>\n",
       "\t\t<td>1</td>\n",
       "\t\t<td>0</td>\n",
       "\t\t<td>1</td>\n",
       "\t\t<td>0</td>\n",
       "\t\t<td>12775.7</td>\n",
       "\t\t<td>44.0</td>\n",
       "\t\t<td>13063.883</td>\n",
       "\t</tr>\n",
       "\t<tr>\n",
       "\t\t<td>222</td>\n",
       "\t\t<td>1</td>\n",
       "\t\t<td>0</td>\n",
       "\t\t<td>1</td>\n",
       "\t\t<td>0</td>\n",
       "\t\t<td>0</td>\n",
       "\t\t<td>1</td>\n",
       "\t\t<td>0</td>\n",
       "\t\t<td>12775.7</td>\n",
       "\t\t<td>29.1</td>\n",
       "\t\t<td>3761.292</td>\n",
       "\t</tr>\n",
       "\t<tr>\n",
       "\t\t<td>331</td>\n",
       "\t\t<td>1</td>\n",
       "\t\t<td>0</td>\n",
       "\t\t<td>0</td>\n",
       "\t\t<td>0</td>\n",
       "\t\t<td>0</td>\n",
       "\t\t<td>1</td>\n",
       "\t\t<td>1</td>\n",
       "\t\t<td>12775.7</td>\n",
       "\t\t<td>33.1</td>\n",
       "\t\t<td>7345.084</td>\n",
       "\t</tr>\n",
       "\t<tr>\n",
       "\t\t<td>187</td>\n",
       "\t\t<td>1</td>\n",
       "\t\t<td>2</td>\n",
       "\t\t<td>0</td>\n",
       "\t\t<td>1</td>\n",
       "\t\t<td>0</td>\n",
       "\t\t<td>1</td>\n",
       "\t\t<td>0</td>\n",
       "\t\t<td>12775.7</td>\n",
       "\t\t<td>35.9</td>\n",
       "\t\t<td>11163.568</td>\n",
       "\t</tr>\n",
       "\t<tr>\n",
       "\t\t<td>49</td>\n",
       "\t\t<td>1</td>\n",
       "\t\t<td>0</td>\n",
       "\t\t<td>0</td>\n",
       "\t\t<td>1</td>\n",
       "\t\t<td>0</td>\n",
       "\t\t<td>1</td>\n",
       "\t\t<td>0</td>\n",
       "\t\t<td>12775.7</td>\n",
       "\t\t<td>39.7</td>\n",
       "\t\t<td>14319.031</td>\n",
       "\t</tr>\n",
       "\t<tr>\n",
       "\t\t<td>35</td>\n",
       "\t\t<td>1</td>\n",
       "\t\t<td>0</td>\n",
       "\t\t<td>1</td>\n",
       "\t\t<td>0</td>\n",
       "\t\t<td>0</td>\n",
       "\t\t<td>1</td>\n",
       "\t\t<td>0</td>\n",
       "\t\t<td>12775.7</td>\n",
       "\t\t<td>28.9</td>\n",
       "\t\t<td>1743.214</td>\n",
       "\t</tr>\n",
       "\t<tr>\n",
       "\t\t<td>294</td>\n",
       "\t\t<td>0</td>\n",
       "\t\t<td>2</td>\n",
       "\t\t<td>0</td>\n",
       "\t\t<td>0</td>\n",
       "\t\t<td>0</td>\n",
       "\t\t<td>1</td>\n",
       "\t\t<td>1</td>\n",
       "\t\t<td>12775.7</td>\n",
       "\t\t<td>27.4</td>\n",
       "\t\t<td>7726.854</td>\n",
       "\t</tr>\n",
       "\t<tr>\n",
       "\t\t<td>165</td>\n",
       "\t\t<td>0</td>\n",
       "\t\t<td>3</td>\n",
       "\t\t<td>0</td>\n",
       "\t\t<td>0</td>\n",
       "\t\t<td>0</td>\n",
       "\t\t<td>1</td>\n",
       "\t\t<td>1</td>\n",
       "\t\t<td>12775.7</td>\n",
       "\t\t<td>34.3</td>\n",
       "\t\t<td>9563.029</td>\n",
       "\t</tr>\n",
       "\t<tr>\n",
       "\t\t<td>11</td>\n",
       "\t\t<td>0</td>\n",
       "\t\t<td>0</td>\n",
       "\t\t<td>1</td>\n",
       "\t\t<td>0</td>\n",
       "\t\t<td>0</td>\n",
       "\t\t<td>1</td>\n",
       "\t\t<td>0</td>\n",
       "\t\t<td>12775.7</td>\n",
       "\t\t<td>35.4</td>\n",
       "\t\t<td>1263.249</td>\n",
       "\t</tr>\n",
       "\t<tr>\n",
       "\t\t<td>363</td>\n",
       "\t\t<td>0</td>\n",
       "\t\t<td>4</td>\n",
       "\t\t<td>1</td>\n",
       "\t\t<td>0</td>\n",
       "\t\t<td>1</td>\n",
       "\t\t<td>0</td>\n",
       "\t\t<td>0</td>\n",
       "\t\t<td>12775.7</td>\n",
       "\t\t<td>25.7</td>\n",
       "\t\t<td>17942.106</td>\n",
       "\t</tr>\n",
       "</table></html>"
      ],
      "text/plain": [
       "        id  children  age_0  age_2  smoker_1  smoker_0  age_1   region   bmi    charges\n",
       "sex_0                                                                                  \n",
       "1       38         0      0      1         0         1      0  12775.7  44.0  13063.883\n",
       "1      222         0      1      0         0         1      0  12775.7  29.1   3761.292\n",
       "1      331         0      0      0         0         1      1  12775.7  33.1   7345.084\n",
       "1      187         2      0      1         0         1      0  12775.7  35.9  11163.568\n",
       "1       49         0      0      1         0         1      0  12775.7  39.7  14319.031\n",
       "1       35         0      1      0         0         1      0  12775.7  28.9   1743.214\n",
       "0      294         2      0      0         0         1      1  12775.7  27.4   7726.854\n",
       "0      165         3      0      0         0         1      1  12775.7  34.3   9563.029\n",
       "0       11         0      1      0         0         1      0  12775.7  35.4   1263.249\n",
       "0      363         4      1      0         1         0      0  12775.7  25.7  17942.106"
      ]
     },
     "metadata": {},
     "output_type": "display_data"
    },
    {
     "name": "stdout",
     "output_type": "stream",
     "text": [
      "                                                                                                  \r"
     ]
    },
    {
     "data": {
      "text/html": [
       "268 rows X 11 columns"
      ],
      "text/plain": [
       "<IPython.core.display.HTML object>"
      ]
     },
     "metadata": {},
     "output_type": "display_data"
    },
    {
     "name": "stdout",
     "output_type": "stream",
     "text": [
      "                                                                                                  \r"
     ]
    },
    {
     "data": {
      "text/html": [
       "\n",
       "Updated dataset after performing scaling on RFE selected features :"
      ],
      "text/plain": [
       "<IPython.core.display.HTML object>"
      ]
     },
     "metadata": {},
     "output_type": "display_data"
    },
    {
     "data": {
      "text/html": [
       "<style type=\"text/css\">\n",
       "\ttable {border:ridge 5px;}\n",
       "\ttable td {border:inset 1px;}\n",
       "\ttable tr#HeaderRow {background-color:grey; color:white;}</style>\n",
       "<html><table>\n",
       "\t<tr id=\"HeaderRow\">\n",
       "\t\t<th>r_age_0</th>\n",
       "\t\t<th>r_smoker_1</th>\n",
       "\t\t<th>r_sex_0</th>\n",
       "\t\t<th>id</th>\n",
       "\t\t<th>r_age_2</th>\n",
       "\t\t<th>r_age_1</th>\n",
       "\t\t<th>r_smoker_0</th>\n",
       "\t\t<th>charges</th>\n",
       "\t\t<th>r_children</th>\n",
       "\t\t<th>r_region</th>\n",
       "\t\t<th>r_bmi</th>\n",
       "\t</tr>\n",
       "\t<tr>\n",
       "\t\t<td>1</td>\n",
       "\t\t<td>0</td>\n",
       "\t\t<td>0</td>\n",
       "\t\t<td>11</td>\n",
       "\t\t<td>0</td>\n",
       "\t\t<td>0</td>\n",
       "\t\t<td>1</td>\n",
       "\t\t<td>1263.249</td>\n",
       "\t\t<td>-0.910553549680684</td>\n",
       "\t\t<td>-0.5686174093420177</td>\n",
       "\t\t<td>0.8121349901467682</td>\n",
       "\t</tr>\n",
       "\t<tr>\n",
       "\t\t<td>1</td>\n",
       "\t\t<td>1</td>\n",
       "\t\t<td>0</td>\n",
       "\t\t<td>214</td>\n",
       "\t\t<td>0</td>\n",
       "\t\t<td>0</td>\n",
       "\t\t<td>0</td>\n",
       "\t\t<td>19199.944</td>\n",
       "\t\t<td>1.5989824445084677</td>\n",
       "\t\t<td>-0.5686174093420177</td>\n",
       "\t\t<td>-0.790938635536186</td>\n",
       "\t</tr>\n",
       "\t<tr>\n",
       "\t\t<td>1</td>\n",
       "\t\t<td>1</td>\n",
       "\t\t<td>0</td>\n",
       "\t\t<td>19</td>\n",
       "\t\t<td>0</td>\n",
       "\t\t<td>0</td>\n",
       "\t\t<td>0</td>\n",
       "\t\t<td>16297.846</td>\n",
       "\t\t<td>-0.910553549680684</td>\n",
       "\t\t<td>-0.5686174093420177</td>\n",
       "\t\t<td>-0.4871983696173104</td>\n",
       "\t</tr>\n",
       "\t<tr>\n",
       "\t\t<td>1</td>\n",
       "\t\t<td>0</td>\n",
       "\t\t<td>0</td>\n",
       "\t\t<td>126</td>\n",
       "\t\t<td>0</td>\n",
       "\t\t<td>0</td>\n",
       "\t\t<td>1</td>\n",
       "\t\t<td>3277.161</td>\n",
       "\t\t<td>-0.07404155161763351</td>\n",
       "\t\t<td>-0.5686174093420177</td>\n",
       "\t\t<td>1.099000796847929</td>\n",
       "\t</tr>\n",
       "\t<tr>\n",
       "\t\t<td>0</td>\n",
       "\t\t<td>0</td>\n",
       "\t\t<td>0</td>\n",
       "\t\t<td>150</td>\n",
       "\t\t<td>1</td>\n",
       "\t\t<td>0</td>\n",
       "\t\t<td>1</td>\n",
       "\t\t<td>11365.952</td>\n",
       "\t\t<td>-0.910553549680684</td>\n",
       "\t\t<td>-0.5686174093420177</td>\n",
       "\t\t<td>1.2508709298073664</td>\n",
       "\t</tr>\n",
       "\t<tr>\n",
       "\t\t<td>1</td>\n",
       "\t\t<td>0</td>\n",
       "\t\t<td>0</td>\n",
       "\t\t<td>199</td>\n",
       "\t\t<td>0</td>\n",
       "\t\t<td>0</td>\n",
       "\t\t<td>1</td>\n",
       "\t\t<td>3591.48</td>\n",
       "\t\t<td>1.5989824445084677</td>\n",
       "\t\t<td>-0.5686174093420177</td>\n",
       "\t\t<td>0.3565245912684556</td>\n",
       "\t</tr>\n",
       "\t<tr>\n",
       "\t\t<td>1</td>\n",
       "\t\t<td>0</td>\n",
       "\t\t<td>1</td>\n",
       "\t\t<td>100</td>\n",
       "\t\t<td>0</td>\n",
       "\t\t<td>0</td>\n",
       "\t\t<td>1</td>\n",
       "\t\t<td>5708.867</td>\n",
       "\t\t<td>2.435494442571518</td>\n",
       "\t\t<td>-0.5686174093420177</td>\n",
       "\t\t<td>-0.8415620131893315</td>\n",
       "\t</tr>\n",
       "\t<tr>\n",
       "\t\t<td>0</td>\n",
       "\t\t<td>1</td>\n",
       "\t\t<td>1</td>\n",
       "\t\t<td>194</td>\n",
       "\t\t<td>0</td>\n",
       "\t\t<td>1</td>\n",
       "\t\t<td>0</td>\n",
       "\t\t<td>46113.511</td>\n",
       "\t\t<td>0.7624704464454171</td>\n",
       "\t\t<td>-0.5686174093420177</td>\n",
       "\t\t<td>2.870819014708036</td>\n",
       "\t</tr>\n",
       "\t<tr>\n",
       "\t\t<td>0</td>\n",
       "\t\t<td>0</td>\n",
       "\t\t<td>1</td>\n",
       "\t\t<td>38</td>\n",
       "\t\t<td>1</td>\n",
       "\t\t<td>0</td>\n",
       "\t\t<td>1</td>\n",
       "\t\t<td>13063.883</td>\n",
       "\t\t<td>-0.910553549680684</td>\n",
       "\t\t<td>-0.5686174093420177</td>\n",
       "\t\t<td>2.2633384828702847</td>\n",
       "\t</tr>\n",
       "\t<tr>\n",
       "\t\t<td>1</td>\n",
       "\t\t<td>0</td>\n",
       "\t\t<td>1</td>\n",
       "\t\t<td>43</td>\n",
       "\t\t<td>0</td>\n",
       "\t\t<td>0</td>\n",
       "\t\t<td>1</td>\n",
       "\t\t<td>1728.897</td>\n",
       "\t\t<td>-0.910553549680684</td>\n",
       "\t\t<td>-0.5686174093420177</td>\n",
       "\t\t<td>-2.022774158429403</td>\n",
       "\t</tr>\n",
       "</table></html>"
      ],
      "text/plain": [
       "   r_age_0  r_smoker_1  r_sex_0   id  r_age_2  r_age_1  r_smoker_0    charges  r_children  r_region     r_bmi\n",
       "0        1           0        0   11        0        0           1   1263.249   -0.910554 -0.568617  0.812135\n",
       "1        1           1        0  214        0        0           0  19199.944    1.598982 -0.568617 -0.790939\n",
       "2        1           1        0   19        0        0           0  16297.846   -0.910554 -0.568617 -0.487198\n",
       "3        1           0        0  126        0        0           1   3277.161   -0.074042 -0.568617  1.099001\n",
       "4        0           0        0  150        1        0           1  11365.952   -0.910554 -0.568617  1.250871\n",
       "5        1           0        0  199        0        0           1   3591.480    1.598982 -0.568617  0.356525\n",
       "6        1           0        1  100        0        0           1   5708.867    2.435494 -0.568617 -0.841562\n",
       "7        0           1        1  194        0        1           0  46113.511    0.762470 -0.568617  2.870819\n",
       "8        0           0        1   38        1        0           1  13063.883   -0.910554 -0.568617  2.263338\n",
       "9        1           0        1   43        0        0           1   1728.897   -0.910554 -0.568617 -2.022774"
      ]
     },
     "metadata": {},
     "output_type": "display_data"
    },
    {
     "name": "stdout",
     "output_type": "stream",
     "text": [
      "                                                                                                  \r"
     ]
    },
    {
     "data": {
      "text/html": [
       "268 rows X 11 columns"
      ],
      "text/plain": [
       "<IPython.core.display.HTML object>"
      ]
     },
     "metadata": {},
     "output_type": "display_data"
    },
    {
     "name": "stdout",
     "output_type": "stream",
     "text": [
      "                                                                                                  \r"
     ]
    },
    {
     "data": {
      "text/html": [
       "\n",
       "Updated dataset after performing scaling for PCA feature selection :"
      ],
      "text/plain": [
       "<IPython.core.display.HTML object>"
      ]
     },
     "metadata": {},
     "output_type": "display_data"
    },
    {
     "data": {
      "text/html": [
       "<style type=\"text/css\">\n",
       "\ttable {border:ridge 5px;}\n",
       "\ttable td {border:inset 1px;}\n",
       "\ttable tr#HeaderRow {background-color:grey; color:white;}</style>\n",
       "<html><table>\n",
       "\t<tr id=\"HeaderRow\">\n",
       "\t\t<th>sex_0</th>\n",
       "\t\t<th>age_0</th>\n",
       "\t\t<th>age_2</th>\n",
       "\t\t<th>smoker_1</th>\n",
       "\t\t<th>id</th>\n",
       "\t\t<th>smoker_0</th>\n",
       "\t\t<th>age_1</th>\n",
       "\t\t<th>charges</th>\n",
       "\t\t<th>sex_1</th>\n",
       "\t\t<th>region</th>\n",
       "\t\t<th>children</th>\n",
       "\t\t<th>bmi</th>\n",
       "\t</tr>\n",
       "\t<tr>\n",
       "\t\t<td>1</td>\n",
       "\t\t<td>0</td>\n",
       "\t\t<td>1</td>\n",
       "\t\t<td>0</td>\n",
       "\t\t<td>38</td>\n",
       "\t\t<td>1</td>\n",
       "\t\t<td>0</td>\n",
       "\t\t<td>13063.883</td>\n",
       "\t\t<td>0</td>\n",
       "\t\t<td>-0.5686174339045442</td>\n",
       "\t\t<td>-0.9105535496806807</td>\n",
       "\t\t<td>2.263338482870279</td>\n",
       "\t</tr>\n",
       "\t<tr>\n",
       "\t\t<td>1</td>\n",
       "\t\t<td>1</td>\n",
       "\t\t<td>0</td>\n",
       "\t\t<td>0</td>\n",
       "\t\t<td>222</td>\n",
       "\t\t<td>1</td>\n",
       "\t\t<td>0</td>\n",
       "\t\t<td>3761.292</td>\n",
       "\t\t<td>0</td>\n",
       "\t\t<td>-0.5686174339045442</td>\n",
       "\t\t<td>-0.9105535496806807</td>\n",
       "\t\t<td>-0.2509559405692984</td>\n",
       "\t</tr>\n",
       "\t<tr>\n",
       "\t\t<td>1</td>\n",
       "\t\t<td>0</td>\n",
       "\t\t<td>0</td>\n",
       "\t\t<td>0</td>\n",
       "\t\t<td>331</td>\n",
       "\t\t<td>1</td>\n",
       "\t\t<td>1</td>\n",
       "\t\t<td>7345.084</td>\n",
       "\t\t<td>0</td>\n",
       "\t\t<td>-0.5686174339045442</td>\n",
       "\t\t<td>-0.9105535496806807</td>\n",
       "\t\t<td>0.424022428139313</td>\n",
       "\t</tr>\n",
       "\t<tr>\n",
       "\t\t<td>1</td>\n",
       "\t\t<td>0</td>\n",
       "\t\t<td>1</td>\n",
       "\t\t<td>0</td>\n",
       "\t\t<td>187</td>\n",
       "\t\t<td>1</td>\n",
       "\t\t<td>0</td>\n",
       "\t\t<td>11163.568</td>\n",
       "\t\t<td>0</td>\n",
       "\t\t<td>-0.5686174339045442</td>\n",
       "\t\t<td>0.7624704464454142</td>\n",
       "\t\t<td>0.8965072862353405</td>\n",
       "\t</tr>\n",
       "\t<tr>\n",
       "\t\t<td>1</td>\n",
       "\t\t<td>0</td>\n",
       "\t\t<td>1</td>\n",
       "\t\t<td>0</td>\n",
       "\t\t<td>49</td>\n",
       "\t\t<td>1</td>\n",
       "\t\t<td>0</td>\n",
       "\t\t<td>14319.031</td>\n",
       "\t\t<td>0</td>\n",
       "\t\t<td>-0.5686174339045442</td>\n",
       "\t\t<td>-0.9105535496806807</td>\n",
       "\t\t<td>1.5377367365085222</td>\n",
       "\t</tr>\n",
       "\t<tr>\n",
       "\t\t<td>1</td>\n",
       "\t\t<td>1</td>\n",
       "\t\t<td>0</td>\n",
       "\t\t<td>0</td>\n",
       "\t\t<td>35</td>\n",
       "\t\t<td>1</td>\n",
       "\t\t<td>0</td>\n",
       "\t\t<td>1743.214</td>\n",
       "\t\t<td>0</td>\n",
       "\t\t<td>-0.5686174339045442</td>\n",
       "\t\t<td>-0.9105535496806807</td>\n",
       "\t\t<td>-0.2847048590047294</td>\n",
       "\t</tr>\n",
       "\t<tr>\n",
       "\t\t<td>0</td>\n",
       "\t\t<td>0</td>\n",
       "\t\t<td>0</td>\n",
       "\t\t<td>0</td>\n",
       "\t\t<td>294</td>\n",
       "\t\t<td>1</td>\n",
       "\t\t<td>1</td>\n",
       "\t\t<td>7726.854</td>\n",
       "\t\t<td>1</td>\n",
       "\t\t<td>-0.5686174339045442</td>\n",
       "\t\t<td>0.7624704464454142</td>\n",
       "\t\t<td>-0.5378217472704587</td>\n",
       "\t</tr>\n",
       "\t<tr>\n",
       "\t\t<td>0</td>\n",
       "\t\t<td>0</td>\n",
       "\t\t<td>0</td>\n",
       "\t\t<td>0</td>\n",
       "\t\t<td>165</td>\n",
       "\t\t<td>1</td>\n",
       "\t\t<td>1</td>\n",
       "\t\t<td>9563.029</td>\n",
       "\t\t<td>1</td>\n",
       "\t\t<td>-0.5686174339045442</td>\n",
       "\t\t<td>1.5989824445084617</td>\n",
       "\t\t<td>0.6265159387518957</td>\n",
       "\t</tr>\n",
       "\t<tr>\n",
       "\t\t<td>0</td>\n",
       "\t\t<td>1</td>\n",
       "\t\t<td>0</td>\n",
       "\t\t<td>0</td>\n",
       "\t\t<td>11</td>\n",
       "\t\t<td>1</td>\n",
       "\t\t<td>0</td>\n",
       "\t\t<td>1263.249</td>\n",
       "\t\t<td>1</td>\n",
       "\t\t<td>-0.5686174339045442</td>\n",
       "\t\t<td>-0.9105535496806807</td>\n",
       "\t\t<td>0.812134990146764</td>\n",
       "\t</tr>\n",
       "\t<tr>\n",
       "\t\t<td>0</td>\n",
       "\t\t<td>1</td>\n",
       "\t\t<td>0</td>\n",
       "\t\t<td>1</td>\n",
       "\t\t<td>363</td>\n",
       "\t\t<td>0</td>\n",
       "\t\t<td>0</td>\n",
       "\t\t<td>17942.106</td>\n",
       "\t\t<td>1</td>\n",
       "\t\t<td>-0.5686174339045442</td>\n",
       "\t\t<td>2.435494442571509</td>\n",
       "\t\t<td>-0.8246875539716184</td>\n",
       "\t</tr>\n",
       "</table></html>"
      ],
      "text/plain": [
       "   sex_0  age_0  age_2  smoker_1   id  smoker_0  age_1    charges  sex_1    region  children       bmi\n",
       "0      1      0      1         0   38         1      0  13063.883      0 -0.568617 -0.910554  2.263338\n",
       "1      1      1      0         0  222         1      0   3761.292      0 -0.568617 -0.910554 -0.250956\n",
       "2      1      0      0         0  331         1      1   7345.084      0 -0.568617 -0.910554  0.424022\n",
       "3      1      0      1         0  187         1      0  11163.568      0 -0.568617  0.762470  0.896507\n",
       "4      1      0      1         0   49         1      0  14319.031      0 -0.568617 -0.910554  1.537737\n",
       "5      1      1      0         0   35         1      0   1743.214      0 -0.568617 -0.910554 -0.284705\n",
       "6      0      0      0         0  294         1      1   7726.854      1 -0.568617  0.762470 -0.537822\n",
       "7      0      0      0         0  165         1      1   9563.029      1 -0.568617  1.598982  0.626516\n",
       "8      0      1      0         0   11         1      0   1263.249      1 -0.568617 -0.910554  0.812135\n",
       "9      0      1      0         1  363         0      0  17942.106      1 -0.568617  2.435494 -0.824688"
      ]
     },
     "metadata": {},
     "output_type": "display_data"
    },
    {
     "name": "stdout",
     "output_type": "stream",
     "text": [
      "                                                                                                  \r"
     ]
    },
    {
     "data": {
      "text/html": [
       "268 rows X 12 columns"
      ],
      "text/plain": [
       "<IPython.core.display.HTML object>"
      ]
     },
     "metadata": {},
     "output_type": "display_data"
    },
    {
     "name": "stdout",
     "output_type": "stream",
     "text": [
      "                                                                                                  \r"
     ]
    },
    {
     "name": "stderr",
     "output_type": "stream",
     "text": [
      "C:\\ProgramData\\anaconda3\\lib\\site-packages\\sklearn\\base.py:450: UserWarning: X does not have valid feature names, but PCA was fitted with feature names\n",
      "  warnings.warn(\n"
     ]
    },
    {
     "data": {
      "text/html": [
       "\n",
       "Updated dataset after performing PCA feature selection :"
      ],
      "text/plain": [
       "<IPython.core.display.HTML object>"
      ]
     },
     "metadata": {},
     "output_type": "display_data"
    },
    {
     "data": {
      "text/html": [
       "<div>\n",
       "<style scoped>\n",
       "    .dataframe tbody tr th:only-of-type {\n",
       "        vertical-align: middle;\n",
       "    }\n",
       "\n",
       "    .dataframe tbody tr th {\n",
       "        vertical-align: top;\n",
       "    }\n",
       "\n",
       "    .dataframe thead th {\n",
       "        text-align: right;\n",
       "    }\n",
       "</style>\n",
       "<table border=\"1\" class=\"dataframe\">\n",
       "  <thead>\n",
       "    <tr style=\"text-align: right;\">\n",
       "      <th></th>\n",
       "      <th>id</th>\n",
       "      <th>col_0</th>\n",
       "      <th>col_1</th>\n",
       "      <th>col_2</th>\n",
       "      <th>col_3</th>\n",
       "      <th>col_4</th>\n",
       "      <th>col_5</th>\n",
       "      <th>col_6</th>\n",
       "      <th>charges</th>\n",
       "    </tr>\n",
       "  </thead>\n",
       "  <tbody>\n",
       "    <tr>\n",
       "      <th>0</th>\n",
       "      <td>100</td>\n",
       "      <td>-0.999226</td>\n",
       "      <td>2.225056</td>\n",
       "      <td>0.643837</td>\n",
       "      <td>0.761005</td>\n",
       "      <td>0.826904</td>\n",
       "      <td>-0.598747</td>\n",
       "      <td>0.376680</td>\n",
       "      <td>5708.867</td>\n",
       "    </tr>\n",
       "    <tr>\n",
       "      <th>1</th>\n",
       "      <td>294</td>\n",
       "      <td>-0.749257</td>\n",
       "      <td>0.919178</td>\n",
       "      <td>0.126780</td>\n",
       "      <td>-0.647838</td>\n",
       "      <td>-0.295801</td>\n",
       "      <td>-0.025249</td>\n",
       "      <td>-0.755538</td>\n",
       "      <td>7726.854</td>\n",
       "    </tr>\n",
       "    <tr>\n",
       "      <th>2</th>\n",
       "      <td>194</td>\n",
       "      <td>1.659766</td>\n",
       "      <td>1.236695</td>\n",
       "      <td>-2.123714</td>\n",
       "      <td>0.656618</td>\n",
       "      <td>0.487190</td>\n",
       "      <td>1.451298</td>\n",
       "      <td>-0.361805</td>\n",
       "      <td>46113.511</td>\n",
       "    </tr>\n",
       "    <tr>\n",
       "      <th>3</th>\n",
       "      <td>165</td>\n",
       "      <td>0.091337</td>\n",
       "      <td>1.853372</td>\n",
       "      <td>-0.534573</td>\n",
       "      <td>-0.578970</td>\n",
       "      <td>-0.128759</td>\n",
       "      <td>-0.081522</td>\n",
       "      <td>-0.701527</td>\n",
       "      <td>9563.029</td>\n",
       "    </tr>\n",
       "    <tr>\n",
       "      <th>4</th>\n",
       "      <td>38</td>\n",
       "      <td>1.151920</td>\n",
       "      <td>-0.597376</td>\n",
       "      <td>-2.222808</td>\n",
       "      <td>0.818516</td>\n",
       "      <td>-0.472462</td>\n",
       "      <td>-0.033322</td>\n",
       "      <td>0.258888</td>\n",
       "      <td>13063.883</td>\n",
       "    </tr>\n",
       "    <tr>\n",
       "      <th>5</th>\n",
       "      <td>11</td>\n",
       "      <td>0.162542</td>\n",
       "      <td>-0.794694</td>\n",
       "      <td>-1.087083</td>\n",
       "      <td>-0.698603</td>\n",
       "      <td>0.597942</td>\n",
       "      <td>-0.471272</td>\n",
       "      <td>-0.139988</td>\n",
       "      <td>1263.249</td>\n",
       "    </tr>\n",
       "    <tr>\n",
       "      <th>6</th>\n",
       "      <td>43</td>\n",
       "      <td>-1.904066</td>\n",
       "      <td>-1.145146</td>\n",
       "      <td>0.885106</td>\n",
       "      <td>0.601600</td>\n",
       "      <td>0.465870</td>\n",
       "      <td>-0.329291</td>\n",
       "      <td>0.019279</td>\n",
       "      <td>1728.897</td>\n",
       "    </tr>\n",
       "    <tr>\n",
       "      <th>7</th>\n",
       "      <td>363</td>\n",
       "      <td>-0.863292</td>\n",
       "      <td>2.287898</td>\n",
       "      <td>0.716080</td>\n",
       "      <td>-0.837500</td>\n",
       "      <td>1.073405</td>\n",
       "      <td>0.478193</td>\n",
       "      <td>0.820369</td>\n",
       "      <td>17942.106</td>\n",
       "    </tr>\n",
       "    <tr>\n",
       "      <th>8</th>\n",
       "      <td>222</td>\n",
       "      <td>-0.651436</td>\n",
       "      <td>-0.958301</td>\n",
       "      <td>-0.340308</td>\n",
       "      <td>0.660759</td>\n",
       "      <td>0.622418</td>\n",
       "      <td>-0.306679</td>\n",
       "      <td>-0.052772</td>\n",
       "      <td>3761.292</td>\n",
       "    </tr>\n",
       "    <tr>\n",
       "      <th>9</th>\n",
       "      <td>214</td>\n",
       "      <td>-0.856870</td>\n",
       "      <td>1.480047</td>\n",
       "      <td>0.548820</td>\n",
       "      <td>-0.866364</td>\n",
       "      <td>1.012220</td>\n",
       "      <td>0.549756</td>\n",
       "      <td>0.717638</td>\n",
       "      <td>19199.944</td>\n",
       "    </tr>\n",
       "  </tbody>\n",
       "</table>\n",
       "</div>"
      ],
      "text/plain": [
       "    id     col_0     col_1     col_2     col_3     col_4     col_5     col_6  \\\n",
       "0  100 -0.999226  2.225056  0.643837  0.761005  0.826904 -0.598747  0.376680   \n",
       "1  294 -0.749257  0.919178  0.126780 -0.647838 -0.295801 -0.025249 -0.755538   \n",
       "2  194  1.659766  1.236695 -2.123714  0.656618  0.487190  1.451298 -0.361805   \n",
       "3  165  0.091337  1.853372 -0.534573 -0.578970 -0.128759 -0.081522 -0.701527   \n",
       "4   38  1.151920 -0.597376 -2.222808  0.818516 -0.472462 -0.033322  0.258888   \n",
       "5   11  0.162542 -0.794694 -1.087083 -0.698603  0.597942 -0.471272 -0.139988   \n",
       "6   43 -1.904066 -1.145146  0.885106  0.601600  0.465870 -0.329291  0.019279   \n",
       "7  363 -0.863292  2.287898  0.716080 -0.837500  1.073405  0.478193  0.820369   \n",
       "8  222 -0.651436 -0.958301 -0.340308  0.660759  0.622418 -0.306679 -0.052772   \n",
       "9  214 -0.856870  1.480047  0.548820 -0.866364  1.012220  0.549756  0.717638   \n",
       "\n",
       "     charges  \n",
       "0   5708.867  \n",
       "1   7726.854  \n",
       "2  46113.511  \n",
       "3   9563.029  \n",
       "4  13063.883  \n",
       "5   1263.249  \n",
       "6   1728.897  \n",
       "7  17942.106  \n",
       "8   3761.292  \n",
       "9  19199.944  "
      ]
     },
     "metadata": {},
     "output_type": "display_data"
    },
    {
     "name": "stdout",
     "output_type": "stream",
     "text": [
      "                                                                                                  \r"
     ]
    },
    {
     "data": {
      "text/html": [
       "10 rows X 9 columns"
      ],
      "text/plain": [
       "<IPython.core.display.HTML object>"
      ]
     },
     "metadata": {},
     "output_type": "display_data"
    },
    {
     "name": "stdout",
     "output_type": "stream",
     "text": [
      "Data Transformation completed.⫿⫿⫿⫿⫿⫿⫿⫿⫿⫿⫿⫿⫿⫿⫿⫿⫿⫿⫿⫿⫿⫿⫿⫿⫿⫿⫿⫿⫿⫿⫿⫿⫿⫿⫿⫿⫿⫿⫿⫿⫿⫿｜ 100% - 15/15            \n",
      "\n",
      "Following model is being picked for evaluation:\n",
      "Model ID : XGBOOST_1 \n",
      "Feature Selection Method : lasso\n",
      "\n",
      "Prediction : \n",
      "    id    Prediction  Confidence_Lower  Confidence_upper    charges\n",
      "0   38  12403.583361      12403.583361      12403.583361  13063.883\n",
      "1  222   3093.329397       3093.329397       3093.329397   3761.292\n",
      "2  331   6980.130754       6980.130754       6980.130754   7345.084\n",
      "3  187  19129.914818      19129.914818      19129.914818  11163.568\n",
      "4   49  11860.180683      11860.180683      11860.180683  14319.031\n",
      "5   35   3093.329397       3093.329397       3093.329397   1743.214\n",
      "6  294   7783.872536       7783.872536       7783.872536   7726.854\n",
      "7  165   7436.337930       7436.337930       7436.337930   9563.029\n",
      "8   11   3110.732509       3110.732509       3110.732509   1263.249\n",
      "9  363  17484.785015      17484.785015      17484.785015  17942.106\n"
     ]
    }
   ],
   "source": [
    "# Generating prediction on test data\n",
    "prediction = aml.predict(insurance_df_test)"
   ]
  },
  {
   "cell_type": "code",
   "execution_count": 23,
   "id": "cc4f6a78-1cdf-4938-a9f1-22035d8404ca",
   "metadata": {},
   "outputs": [
    {
     "data": {
      "text/html": [
       "<style type=\"text/css\">\n",
       "\ttable {border:ridge 5px;}\n",
       "\ttable td {border:inset 1px;}\n",
       "\ttable tr#HeaderRow {background-color:grey; color:white;}</style>\n",
       "<html><table>\n",
       "\t<tr id=\"HeaderRow\">\n",
       "\t\t<th>id</th>\n",
       "\t\t<th>Prediction</th>\n",
       "\t\t<th>Confidence_Lower</th>\n",
       "\t\t<th>Confidence_upper</th>\n",
       "\t\t<th>charges</th>\n",
       "\t</tr>\n",
       "\t<tr>\n",
       "\t\t<td>10</td>\n",
       "\t\t<td>9045.085250999999</td>\n",
       "\t\t<td>9045.085250999999</td>\n",
       "\t\t<td>9045.085250999999</td>\n",
       "\t\t<td>6610.1097</td>\n",
       "\t</tr>\n",
       "\t<tr>\n",
       "\t\t<td>12</td>\n",
       "\t\t<td>6525.129201</td>\n",
       "\t\t<td>6525.129201</td>\n",
       "\t\t<td>6525.129201</td>\n",
       "\t\t<td>6652.5288</td>\n",
       "\t</tr>\n",
       "\t<tr>\n",
       "\t\t<td>13</td>\n",
       "\t\t<td>25567.088710999997</td>\n",
       "\t\t<td>25567.088710999997</td>\n",
       "\t\t<td>25567.088710999997</td>\n",
       "\t\t<td>23807.2406</td>\n",
       "\t</tr>\n",
       "\t<tr>\n",
       "\t\t<td>14</td>\n",
       "\t\t<td>44902.298511</td>\n",
       "\t\t<td>44902.298511</td>\n",
       "\t\t<td>44902.298511</td>\n",
       "\t\t<td>46599.1084</td>\n",
       "\t</tr>\n",
       "\t<tr>\n",
       "\t\t<td>16</td>\n",
       "\t\t<td>6042.579876999999</td>\n",
       "\t\t<td>6042.579876999999</td>\n",
       "\t\t<td>6042.579876999999</td>\n",
       "\t\t<td>3490.5491</td>\n",
       "\t</tr>\n",
       "\t<tr>\n",
       "\t\t<td>17</td>\n",
       "\t\t<td>7935.024958</td>\n",
       "\t\t<td>7935.024958</td>\n",
       "\t\t<td>7935.024958</td>\n",
       "\t\t<td>4320.4109</td>\n",
       "\t</tr>\n",
       "\t<tr>\n",
       "\t\t<td>15</td>\n",
       "\t\t<td>5744.040707</td>\n",
       "\t\t<td>5744.040707</td>\n",
       "\t\t<td>5744.040707</td>\n",
       "\t\t<td>6334.3435</td>\n",
       "\t</tr>\n",
       "\t<tr>\n",
       "\t\t<td>11</td>\n",
       "\t\t<td>3110.7325089999995</td>\n",
       "\t\t<td>3110.7325089999995</td>\n",
       "\t\t<td>3110.7325089999995</td>\n",
       "\t\t<td>1263.249</td>\n",
       "\t</tr>\n",
       "\t<tr>\n",
       "\t\t<td>9</td>\n",
       "\t\t<td>6968.380683</td>\n",
       "\t\t<td>6968.380683</td>\n",
       "\t\t<td>6968.380683</td>\n",
       "\t\t<td>6753.038</td>\n",
       "\t</tr>\n",
       "\t<tr>\n",
       "\t\t<td>8</td>\n",
       "\t\t<td>5404.132866</td>\n",
       "\t\t<td>5404.132866</td>\n",
       "\t\t<td>5404.132866</td>\n",
       "\t\t<td>2904.088</td>\n",
       "\t</tr>\n",
       "</table></html>"
      ],
      "text/plain": [
       "   id    Prediction  Confidence_Lower  Confidence_upper     charges\n",
       "0  10   9045.085251       9045.085251       9045.085251   6610.1097\n",
       "1  12   6525.129201       6525.129201       6525.129201   6652.5288\n",
       "2  13  25567.088711      25567.088711      25567.088711  23807.2406\n",
       "3  14  44902.298511      44902.298511      44902.298511  46599.1084\n",
       "4  16   6042.579877       6042.579877       6042.579877   3490.5491\n",
       "5  17   7935.024958       7935.024958       7935.024958   4320.4109\n",
       "6  15   5744.040707       5744.040707       5744.040707   6334.3435\n",
       "7  11   3110.732509       3110.732509       3110.732509   1263.2490\n",
       "8   9   6968.380683       6968.380683       6968.380683   6753.0380\n",
       "9   8   5404.132866       5404.132866       5404.132866   2904.0880"
      ]
     },
     "execution_count": 23,
     "metadata": {},
     "output_type": "execute_result"
    }
   ],
   "source": [
    "# Printing prediction\n",
    "prediction.head()"
   ]
  },
  {
   "cell_type": "code",
   "execution_count": 25,
   "id": "a11a9500-f10b-4842-95bb-630c46a4ae99",
   "metadata": {},
   "outputs": [
    {
     "name": "stdout",
     "output_type": "stream",
     "text": [
      "\n",
      "Skipping data transformation as data is already transformed.\n",
      "\n",
      "Following model is being picked for evaluation:\n",
      "Model ID : XGBOOST_1 \n",
      "Feature Selection Method : lasso\n",
      "\n",
      "Performance Metrics : \n",
      "           MAE           MSE      MSLE       MAPE        MPE        RMSE     RMSLE            ME        R2        EV          MPD       MGD\n",
      "0  2521.269434  1.809883e+07  0.195194  34.717945 -21.338999  4254.27215  0.441808  22857.496031  0.870003  0.870127  1597.297564  0.214234\n"
     ]
    }
   ],
   "source": [
    "# Fetching performance metrics on test data\n",
    "performance_metrics = aml.evaluate(insurance_df_test)"
   ]
  },
  {
   "cell_type": "code",
   "execution_count": 26,
   "id": "00012fc4-4f1e-43ac-b50e-3fb9fa07de5a",
   "metadata": {},
   "outputs": [
    {
     "data": {
      "text/html": [
       "<style type=\"text/css\">\n",
       "\ttable {border:ridge 5px;}\n",
       "\ttable td {border:inset 1px;}\n",
       "\ttable tr#HeaderRow {background-color:grey; color:white;}</style>\n",
       "<html><table>\n",
       "\t<tr id=\"HeaderRow\">\n",
       "\t\t<th>MAE</th>\n",
       "\t\t<th>MSE</th>\n",
       "\t\t<th>MSLE</th>\n",
       "\t\t<th>MAPE</th>\n",
       "\t\t<th>MPE</th>\n",
       "\t\t<th>RMSE</th>\n",
       "\t\t<th>RMSLE</th>\n",
       "\t\t<th>ME</th>\n",
       "\t\t<th>R2</th>\n",
       "\t\t<th>EV</th>\n",
       "\t\t<th>MPD</th>\n",
       "\t\t<th>MGD</th>\n",
       "\t</tr>\n",
       "\t<tr>\n",
       "\t\t<td>2521.269433738806</td>\n",
       "\t\t<td>18098831.527021717</td>\n",
       "\t\t<td>0.1951940020800692</td>\n",
       "\t\t<td>34.71794474934881</td>\n",
       "\t\t<td>-21.33899946349383</td>\n",
       "\t\t<td>4254.272150088863</td>\n",
       "\t\t<td>0.4418076528084017</td>\n",
       "\t\t<td>22857.496031000002</td>\n",
       "\t\t<td>0.8700025052417479</td>\n",
       "\t\t<td>0.8701267600152334</td>\n",
       "\t\t<td>1597.2975644434266</td>\n",
       "\t\t<td>0.2142339972580636</td>\n",
       "\t</tr>\n",
       "</table></html>"
      ],
      "text/plain": [
       "           MAE           MSE      MSLE       MAPE        MPE        RMSE     RMSLE            ME        R2        EV          MPD       MGD\n",
       "0  2521.269434  1.809883e+07  0.195194  34.717945 -21.338999  4254.27215  0.441808  22857.496031  0.870003  0.870127  1597.297564  0.214234"
      ]
     },
     "execution_count": 26,
     "metadata": {},
     "output_type": "execute_result"
    }
   ],
   "source": [
    "performance_metrics"
   ]
  },
  {
   "cell_type": "code",
   "execution_count": 27,
   "id": "b2cba357-75ac-4089-a234-64a57067b117",
   "metadata": {},
   "outputs": [
    {
     "data": {
      "text/plain": [
       "True"
      ]
     },
     "execution_count": 27,
     "metadata": {},
     "output_type": "execute_result"
    }
   ],
   "source": [
    "remove_context()"
   ]
  }
 ],
 "metadata": {
  "kernelspec": {
   "display_name": "Python 3 (ipykernel)",
   "language": "python",
   "name": "python3"
  },
  "language_info": {
   "codemirror_mode": {
    "name": "ipython",
    "version": 3
   },
   "file_extension": ".py",
   "mimetype": "text/x-python",
   "name": "python",
   "nbconvert_exporter": "python",
   "pygments_lexer": "ipython3",
   "version": "3.10.9"
  }
 },
 "nbformat": 4,
 "nbformat_minor": 5
}
