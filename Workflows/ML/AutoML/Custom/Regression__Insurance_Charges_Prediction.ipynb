{
 "cells": [
  {
   "cell_type": "markdown",
   "id": "2762f1d8-5a66-411f-a625-34cf16ac6dd3",
   "metadata": {},
   "source": [
    "# <b><span style='color:#F1A424'>AutoML - Regression - Medical Insurance Charges Prediction </span> </b>"
   ]
  },
  {
   "cell_type": "markdown",
   "id": "0bae5dff-37ed-4417-94b3-6aa76daecb72",
   "metadata": {},
   "source": [
    "### Disclaimer\n",
    "Please note, the Vantage Functions via SQLAlchemy feature is a preview/beta code release with limited functionality (the “Code”). As such, you acknowledge that the Code is experimental in nature and that the Code is provided “AS IS” and may not be functional on any machine or in any environment. TERADATA DISCLAIMS ALL WARRANTIES RELATING TO THE CODE, EXPRESS OR IMPLIED, INCLUDING, BUT NOT LIMITED TO, ANY WARRANTIES AGAINST INFRINGEMENT OF THIRD-PARTY RIGHTS, MERCHANTABILITY AND FITNESS FOR A PARTICULAR PURPOSE.\n",
    "\n",
    "TERADATA SHALL NOT BE RESPONSIBLE OR LIABLE WITH RESPECT TO ANY SUBJECT MATTER OF THE CODE UNDER ANY CONTRACT, NEGLIGENCE, STRICT LIABILITY OR OTHER THEORY \n",
    "    (A) FOR LOSS OR INACCURACY OF DATA OR COST OF PROCUREMENT OF SUBSTITUTE GOODS, SERVICES OR TECHNOLOGY, OR \n",
    "    (B) FOR ANY INDIRECT, INCIDENTAL OR CONSEQUENTIAL DAMAGES INCLUDING, BUT NOT LIMITED TO LOSS OF REVENUES AND LOSS OF PROFITS. TERADATA SHALL NOT BE RESPONSIBLE FOR ANY MATTER BEYOND ITS REASONABLE CONTROL.\n",
    "\n",
    "Notwithstanding anything to the contrary: \n",
    "    (a) Teradata will have no obligation of any kind with respect to any Code-related comments, suggestions, design changes or improvements that you elect to provide to Teradata in either verbal or written form (collectively, “Feedback”), and \n",
    "    (b) Teradata and its affiliates are hereby free to use any ideas, concepts, know-how or techniques, in whole or in part, contained in Feedback: \n",
    "        (i) for any purpose whatsoever, including developing, manufacturing, and/or marketing products and/or services incorporating Feedback in whole or in part, and \n",
    "        (ii) without any restrictions or limitations, including requiring the payment of any license fees, royalties, or other consideration. "
   ]
  },
  {
   "cell_type": "markdown",
   "id": "f225fb94-b2c8-4c92-af38-733d08e0e2a1",
   "metadata": {},
   "source": [
    "## <b> Problem overview:</b>\n",
    "    "
   ]
  },
  {
   "cell_type": "markdown",
   "id": "af9813eb-9c44-4968-a5fe-d1c74415c894",
   "metadata": {},
   "source": [
    "**Dataset Used : Medical insurance Dataset**\n",
    "\n",
    "**Features**:\n",
    "\n",
    "- `Age`: The insured person's age.\n",
    "- `Sex`: Gender (male or female) of the insured.\n",
    "- `BMI (Body Mass Index)`: A measure of body fat based on height and weight.\n",
    "- `Children`: The number of dependents covered.\n",
    "- `Smoker`: Whether the insured is a smoker (yes or no).\n",
    "- `Region`: The geographic area of coverage.\n",
    "\n",
    "**Target Variable**:\n",
    "\n",
    "- `Charges`: The medical insurance costs incurred by the insured person.\n",
    "    \n",
    "**Objective**:\n",
    "\n",
    "The primary objective is typically to build a model that can accurately predict medical insurance costs incurred by the insured person.\n",
    "\n",
    "**Usecase**:\n",
    "\n",
    "Here, we will use AutoML(Automated Machine Learning) functionality to automate the entire process of developing a predictive model. It will perform feature exploration, feature engineering, data preparation, model training and evaluation on dataset in custom run and at end we will get leaderboard containined different models along with their performance. Model will also have rank associated with them which indicates which is best performing model for given data followed by other models.\n",
    "\n",
    "As part of custom AutoML run, we will customize below functionalities:\n",
    "- Binning on 'age' feature to get 3 different levels.\n",
    "- Customized target encoding on 'region' feature.\n",
    "- Train test split with training size 0.9.\n",
    "- Feature scaling with 'midrange' method."
   ]
  },
  {
   "cell_type": "code",
   "execution_count": 1,
   "id": "66568348-4d00-477c-a071-17995f797c95",
   "metadata": {},
   "outputs": [],
   "source": [
    "# Importing AutoML from teradataml\n",
    "from teradataml import AutoML, AutoRegressor"
   ]
  },
  {
   "cell_type": "code",
   "execution_count": 2,
   "id": "17dfae70-0401-4cc4-ba1c-400a5cf62451",
   "metadata": {},
   "outputs": [],
   "source": [
    "# Importing other important libraries\n",
    "import getpass\n",
    "from teradataml import create_context, remove_context\n",
    "from teradataml import DataFrame\n",
    "from teradataml import load_example_data\n",
    "from teradataml import TrainTestSplit"
   ]
  },
  {
   "cell_type": "code",
   "execution_count": 3,
   "id": "cadd9ed2-42d6-4899-b23e-4e2cf601162f",
   "metadata": {},
   "outputs": [
    {
     "name": "stdin",
     "output_type": "stream",
     "text": [
      "Host:  ········\n",
      "Username:  ········\n",
      "Password:  ········\n"
     ]
    }
   ],
   "source": [
    "# Create the connection.\n",
    "host = getpass.getpass(\"Host: \")\n",
    "username = getpass.getpass(\"Username: \")\n",
    "password = getpass.getpass(\"Password: \")\n",
    "\n",
    "con = create_context(host=host, username=username, password=password)"
   ]
  },
  {
   "cell_type": "markdown",
   "id": "be767a89-d5b8-4876-91cb-36980754586e",
   "metadata": {},
   "source": [
    "## <b><span style='color:#F1A424'>| 1.</span> Loading Dataset </b>"
   ]
  },
  {
   "cell_type": "code",
   "execution_count": 4,
   "id": "f1592c52-b247-4792-be2a-30b49bbeb9b6",
   "metadata": {},
   "outputs": [],
   "source": [
    "# Loading dataset from example data collection\n",
    "load_example_data('teradataml','insurance')"
   ]
  },
  {
   "cell_type": "code",
   "execution_count": 5,
   "id": "3846ae0f-004b-4b8e-9fea-06fac4294065",
   "metadata": {},
   "outputs": [],
   "source": [
    "# Fetching in teradata dataframe\n",
    "insurance_df = DataFrame(\"insurance\")"
   ]
  },
  {
   "cell_type": "code",
   "execution_count": 6,
   "id": "442ccd80-b444-413e-970d-d855ec3d6cae",
   "metadata": {},
   "outputs": [
    {
     "data": {
      "text/html": [
       "<style type=\"text/css\">\n",
       "\ttable {border:ridge 5px;}\n",
       "\ttable td {border:inset 1px;}\n",
       "\ttable tr#HeaderRow {background-color:grey; color:white;}</style>\n",
       "<html><table>\n",
       "\t<tr id=\"HeaderRow\">\n",
       "\t\t<th>age</th>\n",
       "\t\t<th>sex</th>\n",
       "\t\t<th>bmi</th>\n",
       "\t\t<th>children</th>\n",
       "\t\t<th>smoker</th>\n",
       "\t\t<th>region</th>\n",
       "\t\t<th>charges</th>\n",
       "\t</tr>\n",
       "\t<tr>\n",
       "\t\t<td>18</td>\n",
       "\t\t<td>female</td>\n",
       "\t\t<td>20.79</td>\n",
       "\t\t<td>0</td>\n",
       "\t\t<td>no</td>\n",
       "\t\t<td>southeast</td>\n",
       "\t\t<td>1607.5101</td>\n",
       "\t</tr>\n",
       "\t<tr>\n",
       "\t\t<td>18</td>\n",
       "\t\t<td>female</td>\n",
       "\t\t<td>42.24</td>\n",
       "\t\t<td>0</td>\n",
       "\t\t<td>yes</td>\n",
       "\t\t<td>southeast</td>\n",
       "\t\t<td>38792.6856</td>\n",
       "\t</tr>\n",
       "\t<tr>\n",
       "\t\t<td>18</td>\n",
       "\t\t<td>female</td>\n",
       "\t\t<td>31.92</td>\n",
       "\t\t<td>0</td>\n",
       "\t\t<td>no</td>\n",
       "\t\t<td>northeast</td>\n",
       "\t\t<td>2205.9808</td>\n",
       "\t</tr>\n",
       "\t<tr>\n",
       "\t\t<td>18</td>\n",
       "\t\t<td>male</td>\n",
       "\t\t<td>34.43</td>\n",
       "\t\t<td>0</td>\n",
       "\t\t<td>no</td>\n",
       "\t\t<td>southeast</td>\n",
       "\t\t<td>1137.4697</td>\n",
       "\t</tr>\n",
       "\t<tr>\n",
       "\t\t<td>18</td>\n",
       "\t\t<td>male</td>\n",
       "\t\t<td>21.565</td>\n",
       "\t\t<td>0</td>\n",
       "\t\t<td>yes</td>\n",
       "\t\t<td>northeast</td>\n",
       "\t\t<td>13747.87235</td>\n",
       "\t</tr>\n",
       "\t<tr>\n",
       "\t\t<td>18</td>\n",
       "\t\t<td>male</td>\n",
       "\t\t<td>35.2</td>\n",
       "\t\t<td>1</td>\n",
       "\t\t<td>no</td>\n",
       "\t\t<td>southeast</td>\n",
       "\t\t<td>1727.54</td>\n",
       "\t</tr>\n",
       "\t<tr>\n",
       "\t\t<td>18</td>\n",
       "\t\t<td>female</td>\n",
       "\t\t<td>31.35</td>\n",
       "\t\t<td>4</td>\n",
       "\t\t<td>no</td>\n",
       "\t\t<td>northeast</td>\n",
       "\t\t<td>4561.1885</td>\n",
       "\t</tr>\n",
       "\t<tr>\n",
       "\t\t<td>18</td>\n",
       "\t\t<td>male</td>\n",
       "\t\t<td>30.4</td>\n",
       "\t\t<td>3</td>\n",
       "\t\t<td>no</td>\n",
       "\t\t<td>northeast</td>\n",
       "\t\t<td>3481.868</td>\n",
       "\t</tr>\n",
       "\t<tr>\n",
       "\t\t<td>18</td>\n",
       "\t\t<td>female</td>\n",
       "\t\t<td>38.28</td>\n",
       "\t\t<td>0</td>\n",
       "\t\t<td>no</td>\n",
       "\t\t<td>southeast</td>\n",
       "\t\t<td>14133.03775</td>\n",
       "\t</tr>\n",
       "\t<tr>\n",
       "\t\t<td>18</td>\n",
       "\t\t<td>female</td>\n",
       "\t\t<td>33.88</td>\n",
       "\t\t<td>0</td>\n",
       "\t\t<td>no</td>\n",
       "\t\t<td>southeast</td>\n",
       "\t\t<td>11482.63485</td>\n",
       "\t</tr>\n",
       "</table></html>"
      ],
      "text/plain": [
       "        sex     bmi  children smoker     region      charges\n",
       "age                                                         \n",
       "18   female  20.790         0     no  southeast   1607.51010\n",
       "18   female  42.240         0    yes  southeast  38792.68560\n",
       "18   female  31.920         0     no  northeast   2205.98080\n",
       "18     male  34.430         0     no  southeast   1137.46970\n",
       "18     male  21.565         0    yes  northeast  13747.87235\n",
       "18     male  35.200         1     no  southeast   1727.54000\n",
       "18   female  31.350         4     no  northeast   4561.18850\n",
       "18     male  30.400         3     no  northeast   3481.86800\n",
       "18   female  38.280         0     no  southeast  14133.03775\n",
       "18   female  33.880         0     no  southeast  11482.63485"
      ]
     },
     "execution_count": 6,
     "metadata": {},
     "output_type": "execute_result"
    }
   ],
   "source": [
    "# first 5 rows\n",
    "insurance_df.head()"
   ]
  },
  {
   "cell_type": "code",
   "execution_count": 7,
   "id": "636c220d-d12f-4ea5-ab2b-c9203ef00d49",
   "metadata": {},
   "outputs": [
    {
     "data": {
      "text/plain": [
       "(1338, 7)"
      ]
     },
     "execution_count": 7,
     "metadata": {},
     "output_type": "execute_result"
    }
   ],
   "source": [
    "# insurance_df dataset\n",
    "insurance_df.shape"
   ]
  },
  {
   "cell_type": "code",
   "execution_count": 8,
   "id": "e5d1fad7-8784-4d7a-be1f-7be1d3991d8f",
   "metadata": {},
   "outputs": [],
   "source": [
    "# Performing sampling to get 80% for trainning and 20% for testing\n",
    "insurance_df_sample = insurance_df.sample(frac = [0.8, 0.2])"
   ]
  },
  {
   "cell_type": "code",
   "execution_count": 9,
   "id": "a0e6891a-1b7e-4bac-97c8-350ba5f5bde4",
   "metadata": {},
   "outputs": [
    {
     "data": {
      "text/html": [
       "<style type=\"text/css\">\n",
       "\ttable {border:ridge 5px;}\n",
       "\ttable td {border:inset 1px;}\n",
       "\ttable tr#HeaderRow {background-color:grey; color:white;}</style>\n",
       "<html><table>\n",
       "\t<tr id=\"HeaderRow\">\n",
       "\t\t<th>age</th>\n",
       "\t\t<th>sex</th>\n",
       "\t\t<th>bmi</th>\n",
       "\t\t<th>children</th>\n",
       "\t\t<th>smoker</th>\n",
       "\t\t<th>region</th>\n",
       "\t\t<th>charges</th>\n",
       "\t\t<th>sampleid</th>\n",
       "\t</tr>\n",
       "\t<tr>\n",
       "\t\t<td>18</td>\n",
       "\t\t<td>male</td>\n",
       "\t\t<td>17.29</td>\n",
       "\t\t<td>2</td>\n",
       "\t\t<td>yes</td>\n",
       "\t\t<td>northeast</td>\n",
       "\t\t<td>12829.4551</td>\n",
       "\t\t<td>1</td>\n",
       "\t</tr>\n",
       "\t<tr>\n",
       "\t\t<td>18</td>\n",
       "\t\t<td>male</td>\n",
       "\t\t<td>41.14</td>\n",
       "\t\t<td>0</td>\n",
       "\t\t<td>no</td>\n",
       "\t\t<td>southeast</td>\n",
       "\t\t<td>1146.7966</td>\n",
       "\t\t<td>1</td>\n",
       "\t</tr>\n",
       "\t<tr>\n",
       "\t\t<td>18</td>\n",
       "\t\t<td>female</td>\n",
       "\t\t<td>42.24</td>\n",
       "\t\t<td>0</td>\n",
       "\t\t<td>yes</td>\n",
       "\t\t<td>southeast</td>\n",
       "\t\t<td>38792.6856</td>\n",
       "\t\t<td>1</td>\n",
       "\t</tr>\n",
       "\t<tr>\n",
       "\t\t<td>18</td>\n",
       "\t\t<td>female</td>\n",
       "\t\t<td>29.165</td>\n",
       "\t\t<td>0</td>\n",
       "\t\t<td>no</td>\n",
       "\t\t<td>northeast</td>\n",
       "\t\t<td>7323.734819</td>\n",
       "\t\t<td>2</td>\n",
       "\t</tr>\n",
       "\t<tr>\n",
       "\t\t<td>18</td>\n",
       "\t\t<td>female</td>\n",
       "\t\t<td>36.85</td>\n",
       "\t\t<td>0</td>\n",
       "\t\t<td>yes</td>\n",
       "\t\t<td>southeast</td>\n",
       "\t\t<td>36149.4835</td>\n",
       "\t\t<td>2</td>\n",
       "\t</tr>\n",
       "\t<tr>\n",
       "\t\t<td>18</td>\n",
       "\t\t<td>male</td>\n",
       "\t\t<td>34.1</td>\n",
       "\t\t<td>0</td>\n",
       "\t\t<td>no</td>\n",
       "\t\t<td>southeast</td>\n",
       "\t\t<td>1137.011</td>\n",
       "\t\t<td>1</td>\n",
       "\t</tr>\n",
       "\t<tr>\n",
       "\t\t<td>18</td>\n",
       "\t\t<td>female</td>\n",
       "\t\t<td>33.88</td>\n",
       "\t\t<td>0</td>\n",
       "\t\t<td>no</td>\n",
       "\t\t<td>southeast</td>\n",
       "\t\t<td>11482.63485</td>\n",
       "\t\t<td>1</td>\n",
       "\t</tr>\n",
       "\t<tr>\n",
       "\t\t<td>18</td>\n",
       "\t\t<td>female</td>\n",
       "\t\t<td>26.315</td>\n",
       "\t\t<td>0</td>\n",
       "\t\t<td>no</td>\n",
       "\t\t<td>northeast</td>\n",
       "\t\t<td>2198.18985</td>\n",
       "\t\t<td>2</td>\n",
       "\t</tr>\n",
       "\t<tr>\n",
       "\t\t<td>18</td>\n",
       "\t\t<td>female</td>\n",
       "\t\t<td>31.35</td>\n",
       "\t\t<td>0</td>\n",
       "\t\t<td>no</td>\n",
       "\t\t<td>southeast</td>\n",
       "\t\t<td>1622.1885</td>\n",
       "\t\t<td>1</td>\n",
       "\t</tr>\n",
       "\t<tr>\n",
       "\t\t<td>18</td>\n",
       "\t\t<td>female</td>\n",
       "\t\t<td>31.13</td>\n",
       "\t\t<td>0</td>\n",
       "\t\t<td>no</td>\n",
       "\t\t<td>southeast</td>\n",
       "\t\t<td>1621.8827</td>\n",
       "\t\t<td>1</td>\n",
       "\t</tr>\n",
       "</table></html>"
      ],
      "text/plain": [
       "        sex     bmi  children smoker     region       charges  sampleid\n",
       "age                                                                    \n",
       "18     male  17.290         2    yes  northeast  12829.455100         1\n",
       "18     male  41.140         0     no  southeast   1146.796600         1\n",
       "18   female  42.240         0    yes  southeast  38792.685600         1\n",
       "18   female  29.165         0     no  northeast   7323.734819         2\n",
       "18   female  36.850         0    yes  southeast  36149.483500         2\n",
       "18     male  34.100         0     no  southeast   1137.011000         1\n",
       "18   female  33.880         0     no  southeast  11482.634850         1\n",
       "18   female  26.315         0     no  northeast   2198.189850         2\n",
       "18   female  31.350         0     no  southeast   1622.188500         1\n",
       "18   female  31.130         0     no  southeast   1621.882700         1"
      ]
     },
     "execution_count": 9,
     "metadata": {},
     "output_type": "execute_result"
    }
   ],
   "source": [
    "insurance_df_sample.head()"
   ]
  },
  {
   "cell_type": "code",
   "execution_count": 10,
   "id": "5e3e5923-18ad-4cf6-b4e5-e87f8854700b",
   "metadata": {},
   "outputs": [],
   "source": [
    "# Fetching train and test data\n",
    "insurance_df_train= insurance_df_sample[insurance_df_sample['sampleid'] == 1].drop('sampleid', axis=1)\n",
    "insurance_df_test = insurance_df_sample[insurance_df_sample['sampleid'] == 2].drop('sampleid', axis=1)"
   ]
  },
  {
   "cell_type": "code",
   "execution_count": 11,
   "id": "83d72a72-3fac-4862-b374-d21ab59be1a6",
   "metadata": {},
   "outputs": [
    {
     "data": {
      "text/plain": [
       "(1070, 7)"
      ]
     },
     "execution_count": 11,
     "metadata": {},
     "output_type": "execute_result"
    }
   ],
   "source": [
    "# train data shape\n",
    "insurance_df_train.shape"
   ]
  },
  {
   "cell_type": "code",
   "execution_count": 12,
   "id": "b22be730-8a7a-40f3-8e2a-cabd8d1f427f",
   "metadata": {},
   "outputs": [
    {
     "data": {
      "text/plain": [
       "(268, 7)"
      ]
     },
     "execution_count": 12,
     "metadata": {},
     "output_type": "execute_result"
    }
   ],
   "source": [
    "# test data shape\n",
    "insurance_df_test.shape"
   ]
  },
  {
   "cell_type": "code",
   "execution_count": 13,
   "id": "18473df2-be15-4e1e-bc5e-739abacf8b89",
   "metadata": {},
   "outputs": [
    {
     "data": {
      "text/html": [
       "<style type=\"text/css\">\n",
       "\ttable {border:ridge 5px;}\n",
       "\ttable td {border:inset 1px;}\n",
       "\ttable tr#HeaderRow {background-color:grey; color:white;}</style>\n",
       "<html><table>\n",
       "\t<tr id=\"HeaderRow\">\n",
       "\t\t<th>age</th>\n",
       "\t\t<th>sex</th>\n",
       "\t\t<th>bmi</th>\n",
       "\t\t<th>children</th>\n",
       "\t\t<th>smoker</th>\n",
       "\t\t<th>region</th>\n",
       "\t\t<th>charges</th>\n",
       "\t</tr>\n",
       "\t<tr>\n",
       "\t\t<td>18</td>\n",
       "\t\t<td>female</td>\n",
       "\t\t<td>28.215</td>\n",
       "\t\t<td>0</td>\n",
       "\t\t<td>no</td>\n",
       "\t\t<td>northeast</td>\n",
       "\t\t<td>2200.83085</td>\n",
       "\t</tr>\n",
       "\t<tr>\n",
       "\t\t<td>18</td>\n",
       "\t\t<td>female</td>\n",
       "\t\t<td>35.625</td>\n",
       "\t\t<td>0</td>\n",
       "\t\t<td>no</td>\n",
       "\t\t<td>northeast</td>\n",
       "\t\t<td>2211.13075</td>\n",
       "\t</tr>\n",
       "\t<tr>\n",
       "\t\t<td>18</td>\n",
       "\t\t<td>female</td>\n",
       "\t\t<td>30.115</td>\n",
       "\t\t<td>0</td>\n",
       "\t\t<td>no</td>\n",
       "\t\t<td>northeast</td>\n",
       "\t\t<td>2203.47185</td>\n",
       "\t</tr>\n",
       "\t<tr>\n",
       "\t\t<td>18</td>\n",
       "\t\t<td>male</td>\n",
       "\t\t<td>28.31</td>\n",
       "\t\t<td>1</td>\n",
       "\t\t<td>no</td>\n",
       "\t\t<td>northeast</td>\n",
       "\t\t<td>11272.33139</td>\n",
       "\t</tr>\n",
       "\t<tr>\n",
       "\t\t<td>18</td>\n",
       "\t\t<td>male</td>\n",
       "\t\t<td>17.29</td>\n",
       "\t\t<td>2</td>\n",
       "\t\t<td>yes</td>\n",
       "\t\t<td>northeast</td>\n",
       "\t\t<td>12829.4551</td>\n",
       "\t</tr>\n",
       "\t<tr>\n",
       "\t\t<td>18</td>\n",
       "\t\t<td>female</td>\n",
       "\t\t<td>40.28</td>\n",
       "\t\t<td>0</td>\n",
       "\t\t<td>no</td>\n",
       "\t\t<td>northeast</td>\n",
       "\t\t<td>2217.6012</td>\n",
       "\t</tr>\n",
       "\t<tr>\n",
       "\t\t<td>18</td>\n",
       "\t\t<td>male</td>\n",
       "\t\t<td>23.32</td>\n",
       "\t\t<td>1</td>\n",
       "\t\t<td>no</td>\n",
       "\t\t<td>southeast</td>\n",
       "\t\t<td>1711.0268</td>\n",
       "\t</tr>\n",
       "\t<tr>\n",
       "\t\t<td>18</td>\n",
       "\t\t<td>male</td>\n",
       "\t\t<td>34.43</td>\n",
       "\t\t<td>0</td>\n",
       "\t\t<td>no</td>\n",
       "\t\t<td>southeast</td>\n",
       "\t\t<td>1137.4697</td>\n",
       "\t</tr>\n",
       "\t<tr>\n",
       "\t\t<td>18</td>\n",
       "\t\t<td>male</td>\n",
       "\t\t<td>34.1</td>\n",
       "\t\t<td>0</td>\n",
       "\t\t<td>no</td>\n",
       "\t\t<td>southeast</td>\n",
       "\t\t<td>1137.011</td>\n",
       "\t</tr>\n",
       "\t<tr>\n",
       "\t\t<td>18</td>\n",
       "\t\t<td>female</td>\n",
       "\t\t<td>38.28</td>\n",
       "\t\t<td>0</td>\n",
       "\t\t<td>no</td>\n",
       "\t\t<td>southeast</td>\n",
       "\t\t<td>14133.03775</td>\n",
       "\t</tr>\n",
       "</table></html>"
      ],
      "text/plain": [
       "        sex     bmi  children smoker     region      charges\n",
       "age                                                         \n",
       "18   female  28.215         0     no  northeast   2200.83085\n",
       "18   female  35.625         0     no  northeast   2211.13075\n",
       "18   female  30.115         0     no  northeast   2203.47185\n",
       "18     male  28.310         1     no  northeast  11272.33139\n",
       "18     male  17.290         2    yes  northeast  12829.45510\n",
       "18   female  40.280         0     no  northeast   2217.60120\n",
       "18     male  23.320         1     no  southeast   1711.02680\n",
       "18     male  34.430         0     no  southeast   1137.46970\n",
       "18     male  34.100         0     no  southeast   1137.01100\n",
       "18   female  38.280         0     no  southeast  14133.03775"
      ]
     },
     "execution_count": 13,
     "metadata": {},
     "output_type": "execute_result"
    }
   ],
   "source": [
    "#train dataset\n",
    "insurance_df_train.head()"
   ]
  },
  {
   "cell_type": "code",
   "execution_count": 14,
   "id": "58c9d763-4f19-449e-a35b-676d4d026acc",
   "metadata": {},
   "outputs": [
    {
     "data": {
      "text/html": [
       "<style type=\"text/css\">\n",
       "\ttable {border:ridge 5px;}\n",
       "\ttable td {border:inset 1px;}\n",
       "\ttable tr#HeaderRow {background-color:grey; color:white;}</style>\n",
       "<html><table>\n",
       "\t<tr id=\"HeaderRow\">\n",
       "\t\t<th>age</th>\n",
       "\t\t<th>sex</th>\n",
       "\t\t<th>bmi</th>\n",
       "\t\t<th>children</th>\n",
       "\t\t<th>smoker</th>\n",
       "\t\t<th>region</th>\n",
       "\t\t<th>charges</th>\n",
       "\t</tr>\n",
       "\t<tr>\n",
       "\t\t<td>18</td>\n",
       "\t\t<td>female</td>\n",
       "\t\t<td>36.85</td>\n",
       "\t\t<td>0</td>\n",
       "\t\t<td>yes</td>\n",
       "\t\t<td>southeast</td>\n",
       "\t\t<td>36149.4835</td>\n",
       "\t</tr>\n",
       "\t<tr>\n",
       "\t\t<td>18</td>\n",
       "\t\t<td>female</td>\n",
       "\t\t<td>24.09</td>\n",
       "\t\t<td>1</td>\n",
       "\t\t<td>no</td>\n",
       "\t\t<td>southeast</td>\n",
       "\t\t<td>2201.0971</td>\n",
       "\t</tr>\n",
       "\t<tr>\n",
       "\t\t<td>18</td>\n",
       "\t\t<td>female</td>\n",
       "\t\t<td>26.315</td>\n",
       "\t\t<td>0</td>\n",
       "\t\t<td>no</td>\n",
       "\t\t<td>northeast</td>\n",
       "\t\t<td>2198.18985</td>\n",
       "\t</tr>\n",
       "\t<tr>\n",
       "\t\t<td>18</td>\n",
       "\t\t<td>female</td>\n",
       "\t\t<td>31.35</td>\n",
       "\t\t<td>4</td>\n",
       "\t\t<td>no</td>\n",
       "\t\t<td>northeast</td>\n",
       "\t\t<td>4561.1885</td>\n",
       "\t</tr>\n",
       "\t<tr>\n",
       "\t\t<td>18</td>\n",
       "\t\t<td>female</td>\n",
       "\t\t<td>31.92</td>\n",
       "\t\t<td>0</td>\n",
       "\t\t<td>no</td>\n",
       "\t\t<td>northeast</td>\n",
       "\t\t<td>2205.9808</td>\n",
       "\t</tr>\n",
       "\t<tr>\n",
       "\t\t<td>18</td>\n",
       "\t\t<td>female</td>\n",
       "\t\t<td>29.165</td>\n",
       "\t\t<td>0</td>\n",
       "\t\t<td>no</td>\n",
       "\t\t<td>northeast</td>\n",
       "\t\t<td>7323.734819</td>\n",
       "\t</tr>\n",
       "\t<tr>\n",
       "\t\t<td>18</td>\n",
       "\t\t<td>male</td>\n",
       "\t\t<td>30.03</td>\n",
       "\t\t<td>1</td>\n",
       "\t\t<td>no</td>\n",
       "\t\t<td>southeast</td>\n",
       "\t\t<td>1720.3537</td>\n",
       "\t</tr>\n",
       "\t<tr>\n",
       "\t\t<td>18</td>\n",
       "\t\t<td>female</td>\n",
       "\t\t<td>20.79</td>\n",
       "\t\t<td>0</td>\n",
       "\t\t<td>no</td>\n",
       "\t\t<td>southeast</td>\n",
       "\t\t<td>1607.5101</td>\n",
       "\t</tr>\n",
       "\t<tr>\n",
       "\t\t<td>18</td>\n",
       "\t\t<td>male</td>\n",
       "\t\t<td>26.125</td>\n",
       "\t\t<td>0</td>\n",
       "\t\t<td>no</td>\n",
       "\t\t<td>northeast</td>\n",
       "\t\t<td>1708.92575</td>\n",
       "\t</tr>\n",
       "\t<tr>\n",
       "\t\t<td>18</td>\n",
       "\t\t<td>male</td>\n",
       "\t\t<td>38.17</td>\n",
       "\t\t<td>0</td>\n",
       "\t\t<td>yes</td>\n",
       "\t\t<td>southeast</td>\n",
       "\t\t<td>36307.7983</td>\n",
       "\t</tr>\n",
       "</table></html>"
      ],
      "text/plain": [
       "        sex     bmi  children smoker     region       charges\n",
       "age                                                          \n",
       "18   female  36.850         0    yes  southeast  36149.483500\n",
       "18   female  24.090         1     no  southeast   2201.097100\n",
       "18   female  26.315         0     no  northeast   2198.189850\n",
       "18   female  31.350         4     no  northeast   4561.188500\n",
       "18   female  31.920         0     no  northeast   2205.980800\n",
       "18   female  29.165         0     no  northeast   7323.734819\n",
       "18     male  30.030         1     no  southeast   1720.353700\n",
       "18   female  20.790         0     no  southeast   1607.510100\n",
       "18     male  26.125         0     no  northeast   1708.925750\n",
       "18     male  38.170         0    yes  southeast  36307.798300"
      ]
     },
     "execution_count": 14,
     "metadata": {},
     "output_type": "execute_result"
    }
   ],
   "source": [
    "# test dataset\n",
    "insurance_df_test.head()"
   ]
  },
  {
   "cell_type": "code",
   "execution_count": 15,
   "id": "dc05635b-e785-4bcd-a851-39c6cc734990",
   "metadata": {
    "collapsed": true,
    "jupyter": {
     "outputs_hidden": true
    },
    "tags": []
   },
   "outputs": [
    {
     "name": "stdout",
     "output_type": "stream",
     "text": [
      "\n",
      "Generating custom config JSON for AutoML ...\n",
      "\n",
      "Available main options for customization with corresponding indices: \n",
      "--------------------------------------------------------------------------------\n",
      "\n",
      "Index 1: Customize Feature Engineering Phase\n",
      "\n",
      "Index 2: Customize Data Preparation Phase\n",
      "\n",
      "Index 3: Customize Model Training Phase\n",
      "\n",
      "Index 4: Generate custom json and exit\n",
      "--------------------------------------------------------------------------------\n",
      "\n",
      "Enter the index you want to customize:  1\n",
      "\n",
      "Customizing Feature Engineering Phase ...\n",
      "\n",
      "Available options for customization of feature engineering phase with corresponding indices: \n",
      "--------------------------------------------------------------------------------\n",
      "\n",
      "Index 1: Customize Missing Value Handling\n",
      "\n",
      "Index 2: Customize Bincode Encoding\n",
      "\n",
      "Index 3: Customize String Manipulation\n",
      "\n",
      "Index 4: Customize Categorical Encoding\n",
      "\n",
      "Index 5: Customize Mathematical Transformation\n",
      "\n",
      "Index 6: Customize Nonlinear Transformation\n",
      "\n",
      "Index 7: Customize Antiselect Features\n",
      "\n",
      "Index 8: Back to main menu\n",
      "\n",
      "Index 9: Generate custom json and exit\n",
      "--------------------------------------------------------------------------------\n",
      "\n",
      "Enter the list of indices you want to customize in feature engineering phase:  2, 4, 8\n",
      "\n",
      "Customizing Bincode Encoding ...\n",
      "\n",
      "Provide the following details to customize binning and coding encoding:\n",
      "\n",
      "Available binning methods with corresponding indices:\n",
      "Index 1: Equal-Width\n",
      "Index 2: Variable-Width\n",
      "\n",
      "Enter the feature or list of features for binning:  age\n",
      "\n",
      "Enter the index of corresponding binning method for feature age:  1\n",
      "\n",
      "Enter the number of bins for feature age:  3\n",
      "\n",
      "Customization of bincode encoding has been completed successfully.\n",
      "\n",
      "Customizing Categorical Encoding ...\n",
      "\n",
      "Provide the following details to customize categorical encoding:\n",
      "\n",
      "Available categorical encoding methods with corresponding indices:\n",
      "Index 1: OneHotEncoding\n",
      "Index 2: OrdinalEncoding\n",
      "Index 3: TargetEncoding\n",
      "\n",
      "Enter the list of corresponding index categorical encoding methods you want to use:  3\n",
      "\n",
      "Enter the feature or list of features for TargetEncoding:  region\n",
      "\n",
      "Available target encoding methods with corresponding indices:\n",
      "Index 1: CBM_BETA\n",
      "Index 2: CBM_DIRICHLET\n",
      "Index 3: CBM_GAUSSIAN_INVERSE_GAMMA\n",
      "\n",
      "Enter the index of target encoding method for feature region:  3\n",
      "\n",
      "Enter the response column for target encoding method for feature region:  charges\n",
      "\n",
      "Customization of categorical encoding has been completed successfully.\n",
      "\n",
      "Customization of feature engineering phase has been completed successfully.\n",
      "\n",
      "Available main options for customization with corresponding indices: \n",
      "--------------------------------------------------------------------------------\n",
      "\n",
      "Index 1: Customize Feature Engineering Phase\n",
      "\n",
      "Index 2: Customize Data Preparation Phase\n",
      "\n",
      "Index 3: Customize Model Training Phase\n",
      "\n",
      "Index 4: Generate custom json and exit\n",
      "--------------------------------------------------------------------------------\n",
      "\n",
      "Enter the index you want to customize:  2\n",
      "\n",
      "Customizing Data Preparation Phase ...\n",
      "\n",
      "Available options for customization of data preparation phase with corresponding indices: \n",
      "--------------------------------------------------------------------------------\n",
      "\n",
      "Index 1: Customize Train Test Split\n",
      "\n",
      "Index 2: Customize Data Imbalance Handling\n",
      "\n",
      "Index 3: Customize Outlier Handling\n",
      "\n",
      "Index 4: Customize Feature Scaling\n",
      "\n",
      "Index 5: Back to main menu\n",
      "\n",
      "Index 6: Generate custom json and exit\n",
      "--------------------------------------------------------------------------------\n",
      "\n",
      "Enter the list of indices you want to customize in data preparation phase:  1,4\n",
      "\n",
      "Customizing Train Test Split ...\n",
      "\n",
      "Enter the train size for train test split:  0.9\n",
      "\n",
      "Customization of train test split has been completed successfully.\n",
      "\n",
      "Available feature scaling methods with corresponding indices:\n",
      "Index 1: maxabs\n",
      "Index 2: mean\n",
      "Index 3: midrange\n",
      "Index 4: range\n",
      "Index 5: rescale\n",
      "Index 6: std\n",
      "Index 7: sum\n",
      "Index 8: ustd\n",
      "\n",
      "Enter the corresponding index feature scaling method:  3\n",
      "\n",
      "Customization of feature scaling has been completed successfully.\n",
      "\n",
      "Available options for customization of data preparation phase with corresponding indices: \n",
      "--------------------------------------------------------------------------------\n",
      "\n",
      "Index 1: Customize Train Test Split\n",
      "\n",
      "Index 2: Customize Data Imbalance Handling\n",
      "\n",
      "Index 3: Customize Outlier Handling\n",
      "\n",
      "Index 4: Customize Feature Scaling\n",
      "\n",
      "Index 5: Back to main menu\n",
      "\n",
      "Index 6: Generate custom json and exit\n",
      "--------------------------------------------------------------------------------\n",
      "\n",
      "Enter the list of indices you want to customize in data preparation phase:  6\n",
      "\n",
      "Customization of data preparation phase has been completed successfully.\n",
      "\n",
      "Process of generating custom config file for AutoML has been completed successfully.\n",
      "\n",
      "'custom_insurance.json' file is generated successfully under the current working directory.\n"
     ]
    }
   ],
   "source": [
    "AutoRegressor.generate_custom_config(\"custom_insurance\")"
   ]
  },
  {
   "cell_type": "markdown",
   "id": "856ea871-93d8-4ea2-b524-1acb23bd7eb5",
   "metadata": {},
   "source": [
    "## <b><span style='color:#F1A424'>| 2.</span> Fitting AutoML </b>"
   ]
  },
  {
   "cell_type": "code",
   "execution_count": 15,
   "id": "f3650aa5-a408-4227-a88d-79c0f3d36d3c",
   "metadata": {},
   "outputs": [],
   "source": [
    "# Creating AutoRegressor instance\n",
    "# Using xgboost and knn models from model training.\n",
    "# Keeping early stopping timer threshold to 500 sec and max_models to 4\n",
    "# and verbose level 2 for detailed loggging\n",
    "# Using custom json file for custom run\n",
    "\n",
    "aml = AutoRegressor(include=['xgboost','knn'],\n",
    "                    max_runtime_secs=500,\n",
    "                    max_models=4,\n",
    "                    verbose=2,\n",
    "                    custom_config_file=\"custom_insurance.json\")"
   ]
  },
  {
   "cell_type": "code",
   "execution_count": 16,
   "id": "a1b7a771-1bfa-40c9-8ad0-c377d320c137",
   "metadata": {
    "tags": []
   },
   "outputs": [
    {
     "name": "stdout",
     "output_type": "stream",
     "text": [
      "\n",
      "Received below input for customization : \n",
      "{\n",
      "    \"BincodeIndicator\": true,\n",
      "    \"BincodeParam\": {\n",
      "        \"age\": {\n",
      "            \"Type\": \"Equal-Width\",\n",
      "            \"NumOfBins\": 3\n",
      "        }\n",
      "    },\n",
      "    \"CategoricalEncodingIndicator\": true,\n",
      "    \"CategoricalEncodingParam\": {\n",
      "        \"TargetEncodingIndicator\": true,\n",
      "        \"TargetEncodingList\": {\n",
      "            \"region\": {\n",
      "                \"encoder_method\": \"CBM_GAUSSIAN_INVERSE_GAMMA\",\n",
      "                \"response_column\": \"charges\"\n",
      "            }\n",
      "        }\n",
      "    },\n",
      "    \"TrainTestSplitIndicator\": true,\n",
      "    \"TrainingSize\": 0.9,\n",
      "    \"FeatureScalingIndicator\": true,\n",
      "    \"FeatureScalingMethod\": \"midrange\"\n",
      "}\n"
     ]
    },
    {
     "data": {
      "text/html": [
       "\n",
       "            <style>\n",
       "                .custom-div {\n",
       "                    background-color: lightgray;\n",
       "                    color: #000000;\n",
       "                    padding: 10px;\n",
       "                    border-radius: 8px;\n",
       "                    box-shadow: 0 3px 4px rgba(0, 0, 0, 0.2);\n",
       "                    margin-bottom: 10px;\n",
       "                    text-align: center;\n",
       "                }\n",
       "            </style>\n",
       "        <br><div class=\"custom-div\"><h3><span style=\"color: green;\"></span>1. Feature Exploration -> 2. Feature Engineering -> 3. Data Preparation -> 4. Model Training & Evaluation<center></h3></center></div>"
      ],
      "text/plain": [
       "<IPython.core.display.HTML object>"
      ]
     },
     "metadata": {},
     "output_type": "display_data"
    },
    {
     "name": "stdout",
     "output_type": "stream",
     "text": [
      "Feature Exploration started ...\n",
      "\n",
      "Data Overview:\n",
      "Total Rows in the data: 1070\n",
      "Total Columns in the data: 7\n",
      "\n",
      "Column Summary:\n"
     ]
    },
    {
     "data": {
      "text/html": [
       "<style type=\"text/css\">\n",
       "\ttable {border:ridge 5px;}\n",
       "\ttable td {border:inset 1px;}\n",
       "\ttable tr#HeaderRow {background-color:grey; color:white;}</style>\n",
       "<html><table>\n",
       "\t<tr id=\"HeaderRow\">\n",
       "\t\t<th>ColumnName</th>\n",
       "\t\t<th>Datatype</th>\n",
       "\t\t<th>NonNullCount</th>\n",
       "\t\t<th>NullCount</th>\n",
       "\t\t<th>BlankCount</th>\n",
       "\t\t<th>ZeroCount</th>\n",
       "\t\t<th>PositiveCount</th>\n",
       "\t\t<th>NegativeCount</th>\n",
       "\t\t<th>NullPercentage</th>\n",
       "\t\t<th>NonNullPercentage</th>\n",
       "\t</tr>\n",
       "\t<tr>\n",
       "\t\t<td>region</td>\n",
       "\t\t<td>VARCHAR(20) CHARACTER SET LATIN</td>\n",
       "\t\t<td>1070</td>\n",
       "\t\t<td>0</td>\n",
       "\t\t<td>0</td>\n",
       "\t\t<td>None</td>\n",
       "\t\t<td>None</td>\n",
       "\t\t<td>None</td>\n",
       "\t\t<td>0.0</td>\n",
       "\t\t<td>100.0</td>\n",
       "\t</tr>\n",
       "\t<tr>\n",
       "\t\t<td>charges</td>\n",
       "\t\t<td>FLOAT</td>\n",
       "\t\t<td>1070</td>\n",
       "\t\t<td>0</td>\n",
       "\t\t<td>None</td>\n",
       "\t\t<td>0</td>\n",
       "\t\t<td>1070</td>\n",
       "\t\t<td>0</td>\n",
       "\t\t<td>0.0</td>\n",
       "\t\t<td>100.0</td>\n",
       "\t</tr>\n",
       "\t<tr>\n",
       "\t\t<td>smoker</td>\n",
       "\t\t<td>VARCHAR(20) CHARACTER SET LATIN</td>\n",
       "\t\t<td>1070</td>\n",
       "\t\t<td>0</td>\n",
       "\t\t<td>0</td>\n",
       "\t\t<td>None</td>\n",
       "\t\t<td>None</td>\n",
       "\t\t<td>None</td>\n",
       "\t\t<td>0.0</td>\n",
       "\t\t<td>100.0</td>\n",
       "\t</tr>\n",
       "\t<tr>\n",
       "\t\t<td>age</td>\n",
       "\t\t<td>INTEGER</td>\n",
       "\t\t<td>1070</td>\n",
       "\t\t<td>0</td>\n",
       "\t\t<td>None</td>\n",
       "\t\t<td>0</td>\n",
       "\t\t<td>1070</td>\n",
       "\t\t<td>0</td>\n",
       "\t\t<td>0.0</td>\n",
       "\t\t<td>100.0</td>\n",
       "\t</tr>\n",
       "\t<tr>\n",
       "\t\t<td>children</td>\n",
       "\t\t<td>INTEGER</td>\n",
       "\t\t<td>1070</td>\n",
       "\t\t<td>0</td>\n",
       "\t\t<td>None</td>\n",
       "\t\t<td>454</td>\n",
       "\t\t<td>616</td>\n",
       "\t\t<td>0</td>\n",
       "\t\t<td>0.0</td>\n",
       "\t\t<td>100.0</td>\n",
       "\t</tr>\n",
       "\t<tr>\n",
       "\t\t<td>bmi</td>\n",
       "\t\t<td>FLOAT</td>\n",
       "\t\t<td>1070</td>\n",
       "\t\t<td>0</td>\n",
       "\t\t<td>None</td>\n",
       "\t\t<td>0</td>\n",
       "\t\t<td>1070</td>\n",
       "\t\t<td>0</td>\n",
       "\t\t<td>0.0</td>\n",
       "\t\t<td>100.0</td>\n",
       "\t</tr>\n",
       "\t<tr>\n",
       "\t\t<td>sex</td>\n",
       "\t\t<td>VARCHAR(20) CHARACTER SET LATIN</td>\n",
       "\t\t<td>1070</td>\n",
       "\t\t<td>0</td>\n",
       "\t\t<td>0</td>\n",
       "\t\t<td>None</td>\n",
       "\t\t<td>None</td>\n",
       "\t\t<td>None</td>\n",
       "\t\t<td>0.0</td>\n",
       "\t\t<td>100.0</td>\n",
       "\t</tr>\n",
       "</table></html>"
      ],
      "text/plain": [
       "  ColumnName                         Datatype  NonNullCount  NullCount  BlankCount  ZeroCount  PositiveCount  NegativeCount  NullPercentage  NonNullPercentage\n",
       "0     region  VARCHAR(20) CHARACTER SET LATIN          1070          0         0.0        NaN            NaN            NaN             0.0              100.0\n",
       "1    charges                            FLOAT          1070          0         NaN        0.0         1070.0            0.0             0.0              100.0\n",
       "2     smoker  VARCHAR(20) CHARACTER SET LATIN          1070          0         0.0        NaN            NaN            NaN             0.0              100.0\n",
       "3        age                          INTEGER          1070          0         NaN        0.0         1070.0            0.0             0.0              100.0\n",
       "4   children                          INTEGER          1070          0         NaN      454.0          616.0            0.0             0.0              100.0\n",
       "5        bmi                            FLOAT          1070          0         NaN        0.0         1070.0            0.0             0.0              100.0\n",
       "6        sex  VARCHAR(20) CHARACTER SET LATIN          1070          0         0.0        NaN            NaN            NaN             0.0              100.0"
      ]
     },
     "metadata": {},
     "output_type": "display_data"
    },
    {
     "name": "stdout",
     "output_type": "stream",
     "text": [
      "\n",
      "Statistics of Data:\n"
     ]
    },
    {
     "data": {
      "text/html": [
       "<style type=\"text/css\">\n",
       "\ttable {border:ridge 5px;}\n",
       "\ttable td {border:inset 1px;}\n",
       "\ttable tr#HeaderRow {background-color:grey; color:white;}</style>\n",
       "<html><table>\n",
       "\t<tr id=\"HeaderRow\">\n",
       "\t\t<th>func</th>\n",
       "\t\t<th>age</th>\n",
       "\t\t<th>bmi</th>\n",
       "\t\t<th>children</th>\n",
       "\t\t<th>charges</th>\n",
       "\t</tr>\n",
       "\t<tr>\n",
       "\t\t<td>50%</td>\n",
       "\t\t<td>39</td>\n",
       "\t\t<td>30.21</td>\n",
       "\t\t<td>1</td>\n",
       "\t\t<td>9303.298</td>\n",
       "\t</tr>\n",
       "\t<tr>\n",
       "\t\t<td>count</td>\n",
       "\t\t<td>1070</td>\n",
       "\t\t<td>1070</td>\n",
       "\t\t<td>1070</td>\n",
       "\t\t<td>1070</td>\n",
       "\t</tr>\n",
       "\t<tr>\n",
       "\t\t<td>mean</td>\n",
       "\t\t<td>39.123</td>\n",
       "\t\t<td>30.589</td>\n",
       "\t\t<td>1.087</td>\n",
       "\t\t<td>13288.461</td>\n",
       "\t</tr>\n",
       "\t<tr>\n",
       "\t\t<td>min</td>\n",
       "\t\t<td>18</td>\n",
       "\t\t<td>15.96</td>\n",
       "\t\t<td>0</td>\n",
       "\t\t<td>1121.874</td>\n",
       "\t</tr>\n",
       "\t<tr>\n",
       "\t\t<td>max</td>\n",
       "\t\t<td>64</td>\n",
       "\t\t<td>53.13</td>\n",
       "\t\t<td>5</td>\n",
       "\t\t<td>63770.428</td>\n",
       "\t</tr>\n",
       "\t<tr>\n",
       "\t\t<td>75%</td>\n",
       "\t\t<td>51</td>\n",
       "\t\t<td>34.656</td>\n",
       "\t\t<td>2</td>\n",
       "\t\t<td>17309.391</td>\n",
       "\t</tr>\n",
       "\t<tr>\n",
       "\t\t<td>25%</td>\n",
       "\t\t<td>26</td>\n",
       "\t\t<td>26.22</td>\n",
       "\t\t<td>0</td>\n",
       "\t\t<td>4695.399</td>\n",
       "\t</tr>\n",
       "\t<tr>\n",
       "\t\t<td>std</td>\n",
       "\t\t<td>14.097</td>\n",
       "\t\t<td>6.07</td>\n",
       "\t\t<td>1.188</td>\n",
       "\t\t<td>12144.17</td>\n",
       "\t</tr>\n",
       "</table></html>"
      ],
      "text/plain": [
       "            age       bmi  children    charges\n",
       "func                                          \n",
       "50%      39.000    30.210     1.000   9303.298\n",
       "count  1070.000  1070.000  1070.000   1070.000\n",
       "mean     39.123    30.589     1.087  13288.461\n",
       "min      18.000    15.960     0.000   1121.874\n",
       "max      64.000    53.130     5.000  63770.428\n",
       "75%      51.000    34.656     2.000  17309.391\n",
       "25%      26.000    26.220     0.000   4695.399\n",
       "std      14.097     6.070     1.188  12144.170"
      ]
     },
     "metadata": {},
     "output_type": "display_data"
    },
    {
     "name": "stdout",
     "output_type": "stream",
     "text": [
      "\n",
      "Categorical Columns with their Distinct values:\n",
      "ColumnName                DistinctValueCount\n",
      "sex                       2         \n",
      "smoker                    2         \n",
      "region                    4         \n",
      "\n",
      "No Futile columns found.\n",
      "\n",
      "Target Column Distribution:\n"
     ]
    },
    {
     "data": {
      "image/png": "[encoded data removed]",
      "text/plain": [
       "<Figure size 800x600 with 1 Axes>"
      ]
     },
     "metadata": {},
     "output_type": "display_data"
    },
    {
     "name": "stdout",
     "output_type": "stream",
     "text": [
      "Columns with outlier percentage :-                                                                                                                                                                                                                                                                                                                                                                                                                                                                                  \n",
      "  ColumnName  OutlierPercentage\n",
      "0    charges           8.878505\n",
      "1        bmi           0.467290\n",
      "                                                                                        \r"
     ]
    },
    {
     "data": {
      "text/html": [
       "\n",
       "            <style>\n",
       "                .custom-div {\n",
       "                    background-color: lightgray;\n",
       "                    color: #000000;\n",
       "                    padding: 10px;\n",
       "                    border-radius: 8px;\n",
       "                    box-shadow: 0 3px 4px rgba(0 -  0 -  0 -  0.2);\n",
       "                    margin-bottom: 10px;\n",
       "                    text-align: center;\n",
       "                }\n",
       "            </style>\n",
       "        <br><div class=\"custom-div\"><h3><span style=\"color: green;\">1. Feature Exploration -></span> 2. Feature Engineering -> 3. Data Preparation -> 4. Model Training & Evaluation<center></h3></center></div>"
      ],
      "text/plain": [
       "<IPython.core.display.HTML object>"
      ]
     },
     "metadata": {},
     "output_type": "display_data"
    },
    {
     "name": "stdout",
     "output_type": "stream",
     "text": [
      "                                                                                        \r"
     ]
    },
    {
     "data": {
      "text/html": [
       "Feature Engineering started ..."
      ],
      "text/plain": [
       "<IPython.core.display.HTML object>"
      ]
     },
     "metadata": {},
     "output_type": "display_data"
    },
    {
     "name": "stdout",
     "output_type": "stream",
     "text": [
      "                                                                                        \r"
     ]
    },
    {
     "data": {
      "text/html": [
       "\n",
       "Handling duplicate records present in dataset ..."
      ],
      "text/plain": [
       "<IPython.core.display.HTML object>"
      ]
     },
     "metadata": {},
     "output_type": "display_data"
    },
    {
     "name": "stdout",
     "output_type": "stream",
     "text": [
      "                                                                                        \r"
     ]
    },
    {
     "data": {
      "text/html": [
       "Updated dataset sample after removing 1 duplicate records:"
      ],
      "text/plain": [
       "<IPython.core.display.HTML object>"
      ]
     },
     "metadata": {},
     "output_type": "display_data"
    },
    {
     "data": {
      "text/html": [
       "<style type=\"text/css\">\n",
       "\ttable {border:ridge 5px;}\n",
       "\ttable td {border:inset 1px;}\n",
       "\ttable tr#HeaderRow {background-color:grey; color:white;}</style>\n",
       "<html><table>\n",
       "\t<tr id=\"HeaderRow\">\n",
       "\t\t<th>age</th>\n",
       "\t\t<th>sex</th>\n",
       "\t\t<th>bmi</th>\n",
       "\t\t<th>children</th>\n",
       "\t\t<th>smoker</th>\n",
       "\t\t<th>region</th>\n",
       "\t\t<th>charges</th>\n",
       "\t</tr>\n",
       "\t<tr>\n",
       "\t\t<td>38</td>\n",
       "\t\t<td>male</td>\n",
       "\t\t<td>29.26</td>\n",
       "\t\t<td>2</td>\n",
       "\t\t<td>no</td>\n",
       "\t\t<td>northwest</td>\n",
       "\t\t<td>6457.8434</td>\n",
       "\t</tr>\n",
       "\t<tr>\n",
       "\t\t<td>26</td>\n",
       "\t\t<td>male</td>\n",
       "\t\t<td>29.45</td>\n",
       "\t\t<td>0</td>\n",
       "\t\t<td>no</td>\n",
       "\t\t<td>northeast</td>\n",
       "\t\t<td>2897.3235</td>\n",
       "\t</tr>\n",
       "\t<tr>\n",
       "\t\t<td>26</td>\n",
       "\t\t<td>male</td>\n",
       "\t\t<td>30.0</td>\n",
       "\t\t<td>1</td>\n",
       "\t\t<td>no</td>\n",
       "\t\t<td>southwest</td>\n",
       "\t\t<td>2904.088</td>\n",
       "\t</tr>\n",
       "\t<tr>\n",
       "\t\t<td>19</td>\n",
       "\t\t<td>female</td>\n",
       "\t\t<td>21.7</td>\n",
       "\t\t<td>0</td>\n",
       "\t\t<td>yes</td>\n",
       "\t\t<td>southwest</td>\n",
       "\t\t<td>13844.506</td>\n",
       "\t</tr>\n",
       "\t<tr>\n",
       "\t\t<td>32</td>\n",
       "\t\t<td>female</td>\n",
       "\t\t<td>17.765</td>\n",
       "\t\t<td>2</td>\n",
       "\t\t<td>yes</td>\n",
       "\t\t<td>northwest</td>\n",
       "\t\t<td>32734.1863</td>\n",
       "\t</tr>\n",
       "\t<tr>\n",
       "\t\t<td>32</td>\n",
       "\t\t<td>female</td>\n",
       "\t\t<td>37.145</td>\n",
       "\t\t<td>3</td>\n",
       "\t\t<td>no</td>\n",
       "\t\t<td>northeast</td>\n",
       "\t\t<td>6334.34355</td>\n",
       "\t</tr>\n",
       "\t<tr>\n",
       "\t\t<td>49</td>\n",
       "\t\t<td>female</td>\n",
       "\t\t<td>27.17</td>\n",
       "\t\t<td>0</td>\n",
       "\t\t<td>no</td>\n",
       "\t\t<td>southeast</td>\n",
       "\t\t<td>8601.3293</td>\n",
       "\t</tr>\n",
       "\t<tr>\n",
       "\t\t<td>49</td>\n",
       "\t\t<td>male</td>\n",
       "\t\t<td>25.84</td>\n",
       "\t\t<td>1</td>\n",
       "\t\t<td>no</td>\n",
       "\t\t<td>northeast</td>\n",
       "\t\t<td>9282.4806</td>\n",
       "\t</tr>\n",
       "\t<tr>\n",
       "\t\t<td>61</td>\n",
       "\t\t<td>female</td>\n",
       "\t\t<td>28.2</td>\n",
       "\t\t<td>0</td>\n",
       "\t\t<td>no</td>\n",
       "\t\t<td>southwest</td>\n",
       "\t\t<td>13041.921</td>\n",
       "\t</tr>\n",
       "\t<tr>\n",
       "\t\t<td>61</td>\n",
       "\t\t<td>male</td>\n",
       "\t\t<td>35.86</td>\n",
       "\t\t<td>0</td>\n",
       "\t\t<td>yes</td>\n",
       "\t\t<td>southeast</td>\n",
       "\t\t<td>46599.1084</td>\n",
       "\t</tr>\n",
       "</table></html>"
      ],
      "text/plain": [
       "        sex     bmi  children smoker     region      charges\n",
       "age                                                         \n",
       "38     male  29.260         2     no  northwest   6457.84340\n",
       "26     male  29.450         0     no  northeast   2897.32350\n",
       "26     male  30.000         1     no  southwest   2904.08800\n",
       "19   female  21.700         0    yes  southwest  13844.50600\n",
       "32   female  17.765         2    yes  northwest  32734.18630\n",
       "32   female  37.145         3     no  northeast   6334.34355\n",
       "49   female  27.170         0     no  southeast   8601.32930\n",
       "49     male  25.840         1     no  northeast   9282.48060\n",
       "61   female  28.200         0     no  southwest  13041.92100\n",
       "61     male  35.860         0    yes  southeast  46599.10840"
      ]
     },
     "metadata": {},
     "output_type": "display_data"
    },
    {
     "name": "stdout",
     "output_type": "stream",
     "text": [
      "                                                                                        \r"
     ]
    },
    {
     "data": {
      "text/html": [
       "1069 rows X 7 columns"
      ],
      "text/plain": [
       "<IPython.core.display.HTML object>"
      ]
     },
     "metadata": {},
     "output_type": "display_data"
    },
    {
     "name": "stdout",
     "output_type": "stream",
     "text": [
      "Remaining Rows in the data: 1069                                                        \n",
      "Remaining Columns in the data: 7\n",
      "                                                                                        \r"
     ]
    },
    {
     "data": {
      "text/html": [
       "Total time to handle duplicate records: 4.25 sec  "
      ],
      "text/plain": [
       "<IPython.core.display.HTML object>"
      ]
     },
     "metadata": {},
     "output_type": "display_data"
    },
    {
     "name": "stdout",
     "output_type": "stream",
     "text": [
      "                                                                                        \r"
     ]
    },
    {
     "data": {
      "text/html": [
       "\n",
       "Handling less significant features from data ..."
      ],
      "text/plain": [
       "<IPython.core.display.HTML object>"
      ]
     },
     "metadata": {},
     "output_type": "display_data"
    },
    {
     "name": "stdout",
     "output_type": "stream",
     "text": [
      "Analysis indicates all categorical columns are significant. No action Needed.           \n",
      "                                                                                        \r"
     ]
    },
    {
     "data": {
      "text/html": [
       "Total time to handle less significant features: 15.07 sec  "
      ],
      "text/plain": [
       "<IPython.core.display.HTML object>"
      ]
     },
     "metadata": {},
     "output_type": "display_data"
    },
    {
     "name": "stdout",
     "output_type": "stream",
     "text": [
      "                                                                                         \r"
     ]
    },
    {
     "data": {
      "text/html": [
       "\n",
       "Handling Date Features ..."
      ],
      "text/plain": [
       "<IPython.core.display.HTML object>"
      ]
     },
     "metadata": {},
     "output_type": "display_data"
    },
    {
     "name": "stdout",
     "output_type": "stream",
     "text": [
      "Analysis Completed. Dataset does not contain any feature related to dates. No action needed.\n",
      "                                                                                         \r"
     ]
    },
    {
     "data": {
      "text/html": [
       "Total time to handle date features: 0.00 sec\n"
      ],
      "text/plain": [
       "<IPython.core.display.HTML object>"
      ]
     },
     "metadata": {},
     "output_type": "display_data"
    },
    {
     "name": "stdout",
     "output_type": "stream",
     "text": [
      "Proceeding with default option for missing value imputation.                             \n",
      "Proceeding with default option for handling remaining missing values.                    \n",
      "                                                                                         \r"
     ]
    },
    {
     "data": {
      "text/html": [
       "\n",
       "Checking Missing values in dataset ..."
      ],
      "text/plain": [
       "<IPython.core.display.HTML object>"
      ]
     },
     "metadata": {},
     "output_type": "display_data"
    },
    {
     "name": "stdout",
     "output_type": "stream",
     "text": [
      "Analysis Completed. No Missing Values Detected.                                          \n",
      "                                                                                         \r"
     ]
    },
    {
     "data": {
      "text/html": [
       "Total time to find missing values in data: 7.59 sec  "
      ],
      "text/plain": [
       "<IPython.core.display.HTML object>"
      ]
     },
     "metadata": {},
     "output_type": "display_data"
    },
    {
     "name": "stdout",
     "output_type": "stream",
     "text": [
      "                                                                                         \r"
     ]
    },
    {
     "data": {
      "text/html": [
       "\n",
       "Imputing Missing Values ..."
      ],
      "text/plain": [
       "<IPython.core.display.HTML object>"
      ]
     },
     "metadata": {},
     "output_type": "display_data"
    },
    {
     "name": "stdout",
     "output_type": "stream",
     "text": [
      "Analysis completed. No imputation required.                                              \n",
      "                                                                                         \r"
     ]
    },
    {
     "data": {
      "text/html": [
       "Time taken to perform imputation: 0.00 sec  "
      ],
      "text/plain": [
       "<IPython.core.display.HTML object>"
      ]
     },
     "metadata": {},
     "output_type": "display_data"
    },
    {
     "name": "stdout",
     "output_type": "stream",
     "text": [
      "result data stored in table '\"ALICE\".\"ml__td_sqlmr_persist_out__1719267733741654\"' - 4/20\n",
      "                                                                                         \r"
     ]
    },
    {
     "data": {
      "text/html": [
       "\n",
       "Updated dataset sample after performing Equal-Width binning :-"
      ],
      "text/plain": [
       "<IPython.core.display.HTML object>"
      ]
     },
     "metadata": {},
     "output_type": "display_data"
    },
    {
     "data": {
      "text/html": [
       "<style type=\"text/css\">\n",
       "\ttable {border:ridge 5px;}\n",
       "\ttable td {border:inset 1px;}\n",
       "\ttable tr#HeaderRow {background-color:grey; color:white;}</style>\n",
       "<html><table>\n",
       "\t<tr id=\"HeaderRow\">\n",
       "\t\t<th>region</th>\n",
       "\t\t<th>sex</th>\n",
       "\t\t<th>charges</th>\n",
       "\t\t<th>smoker</th>\n",
       "\t\t<th>children</th>\n",
       "\t\t<th>bmi</th>\n",
       "\t\t<th>id</th>\n",
       "\t\t<th>age</th>\n",
       "\t</tr>\n",
       "\t<tr>\n",
       "\t\t<td>southeast</td>\n",
       "\t\t<td>male</td>\n",
       "\t\t<td>18767.7377</td>\n",
       "\t\t<td>yes</td>\n",
       "\t\t<td>2</td>\n",
       "\t\t<td>20.13</td>\n",
       "\t\t<td>224</td>\n",
       "\t\t<td>age_2</td>\n",
       "\t</tr>\n",
       "\t<tr>\n",
       "\t\t<td>southeast</td>\n",
       "\t\t<td>female</td>\n",
       "\t\t<td>7345.7266</td>\n",
       "\t\t<td>no</td>\n",
       "\t\t<td>1</td>\n",
       "\t\t<td>35.64</td>\n",
       "\t\t<td>328</td>\n",
       "\t\t<td>age_2</td>\n",
       "\t</tr>\n",
       "\t<tr>\n",
       "\t\t<td>southeast</td>\n",
       "\t\t<td>male</td>\n",
       "\t\t<td>1391.5287</td>\n",
       "\t\t<td>no</td>\n",
       "\t\t<td>0</td>\n",
       "\t\t<td>33.33</td>\n",
       "\t\t<td>360</td>\n",
       "\t\t<td>age_1</td>\n",
       "\t</tr>\n",
       "\t<tr>\n",
       "\t\t<td>southeast</td>\n",
       "\t\t<td>female</td>\n",
       "\t\t<td>17085.2676</td>\n",
       "\t\t<td>yes</td>\n",
       "\t\t<td>1</td>\n",
       "\t\t<td>26.84</td>\n",
       "\t\t<td>368</td>\n",
       "\t\t<td>age_1</td>\n",
       "\t</tr>\n",
       "\t<tr>\n",
       "\t\t<td>southeast</td>\n",
       "\t\t<td>male</td>\n",
       "\t\t<td>2566.4707</td>\n",
       "\t\t<td>no</td>\n",
       "\t\t<td>2</td>\n",
       "\t\t<td>31.13</td>\n",
       "\t\t<td>488</td>\n",
       "\t\t<td>age_1</td>\n",
       "\t</tr>\n",
       "\t<tr>\n",
       "\t\t<td>southeast</td>\n",
       "\t\t<td>female</td>\n",
       "\t\t<td>3056.3881</td>\n",
       "\t\t<td>no</td>\n",
       "\t\t<td>2</td>\n",
       "\t\t<td>31.79</td>\n",
       "\t\t<td>496</td>\n",
       "\t\t<td>age_1</td>\n",
       "\t</tr>\n",
       "\t<tr>\n",
       "\t\t<td>southeast</td>\n",
       "\t\t<td>female</td>\n",
       "\t\t<td>1880.07</td>\n",
       "\t\t<td>no</td>\n",
       "\t\t<td>0</td>\n",
       "\t\t<td>33.0</td>\n",
       "\t\t<td>480</td>\n",
       "\t\t<td>age_1</td>\n",
       "\t</tr>\n",
       "\t<tr>\n",
       "\t\t<td>southeast</td>\n",
       "\t\t<td>male</td>\n",
       "\t\t<td>42560.4304</td>\n",
       "\t\t<td>yes</td>\n",
       "\t\t<td>2</td>\n",
       "\t\t<td>38.06</td>\n",
       "\t\t<td>240</td>\n",
       "\t\t<td>age_2</td>\n",
       "\t</tr>\n",
       "\t<tr>\n",
       "\t\t<td>southeast</td>\n",
       "\t\t<td>male</td>\n",
       "\t\t<td>42124.5153</td>\n",
       "\t\t<td>yes</td>\n",
       "\t\t<td>3</td>\n",
       "\t\t<td>35.97</td>\n",
       "\t\t<td>184</td>\n",
       "\t\t<td>age_2</td>\n",
       "\t</tr>\n",
       "\t<tr>\n",
       "\t\t<td>southeast</td>\n",
       "\t\t<td>female</td>\n",
       "\t\t<td>3392.3652</td>\n",
       "\t\t<td>no</td>\n",
       "\t\t<td>1</td>\n",
       "\t\t<td>29.48</td>\n",
       "\t\t<td>104</td>\n",
       "\t\t<td>age_1</td>\n",
       "\t</tr>\n",
       "</table></html>"
      ],
      "text/plain": [
       "              sex     charges smoker  children    bmi   id    age\n",
       "region                                                           \n",
       "southeast    male  18767.7377    yes         2  20.13  224  age_2\n",
       "southeast  female   7345.7266     no         1  35.64  328  age_2\n",
       "southeast    male   1391.5287     no         0  33.33  360  age_1\n",
       "southeast  female  17085.2676    yes         1  26.84  368  age_1\n",
       "southeast    male   2566.4707     no         2  31.13  488  age_1\n",
       "southeast  female   3056.3881     no         2  31.79  496  age_1\n",
       "southeast  female   1880.0700     no         0  33.00  480  age_1\n",
       "southeast    male  42560.4304    yes         2  38.06  240  age_2\n",
       "southeast    male  42124.5153    yes         3  35.97  184  age_2\n",
       "southeast  female   3392.3652     no         1  29.48  104  age_1"
      ]
     },
     "metadata": {},
     "output_type": "display_data"
    },
    {
     "name": "stdout",
     "output_type": "stream",
     "text": [
      "                                                                                         \r"
     ]
    },
    {
     "data": {
      "text/html": [
       "1069 rows X 8 columns"
      ],
      "text/plain": [
       "<IPython.core.display.HTML object>"
      ]
     },
     "metadata": {},
     "output_type": "display_data"
    },
    {
     "name": "stdout",
     "output_type": "stream",
     "text": [
      "No information provided for Variable-Width Transformation.                               \n",
      "Skipping customized string manipulation.⫾⫾⫾⫾⫾⫾⫾⫾⫾⫾⫾⫾⫾⫾⫾⫾⫾⫾⫾⫾⫾⫾⫾⫾⫾⫾⫾⫾⫾⫾⫾⫾⫾⫾⫾⫾⫾｜ 25% - 5/20\n",
      "                                                                                         \r"
     ]
    },
    {
     "data": {
      "text/html": [
       "\n",
       "Starting Customized Categorical Feature Encoding ..."
      ],
      "text/plain": [
       "<IPython.core.display.HTML object>"
      ]
     },
     "metadata": {},
     "output_type": "display_data"
    },
    {
     "name": "stdout",
     "output_type": "stream",
     "text": [
      "result data stored in table '\"ALICE\".\"ml__td_sqlmr_persist_out__1719274059886823\"' - 6/20\n",
      "                                                                                         \r"
     ]
    },
    {
     "data": {
      "text/html": [
       "Updated dataset sample after performing target encoding:"
      ],
      "text/plain": [
       "<IPython.core.display.HTML object>"
      ]
     },
     "metadata": {},
     "output_type": "display_data"
    },
    {
     "data": {
      "text/html": [
       "<style type=\"text/css\">\n",
       "\ttable {border:ridge 5px;}\n",
       "\ttable td {border:inset 1px;}\n",
       "\ttable tr#HeaderRow {background-color:grey; color:white;}</style>\n",
       "<html><table>\n",
       "\t<tr id=\"HeaderRow\">\n",
       "\t\t<th>region</th>\n",
       "\t\t<th>sex</th>\n",
       "\t\t<th>bmi</th>\n",
       "\t\t<th>charges</th>\n",
       "\t\t<th>smoker</th>\n",
       "\t\t<th>age</th>\n",
       "\t\t<th>children</th>\n",
       "\t\t<th>id</th>\n",
       "\t</tr>\n",
       "\t<tr>\n",
       "\t\t<td>12533.008527680613</td>\n",
       "\t\t<td>female</td>\n",
       "\t\t<td>36.575</td>\n",
       "\t\t<td>2136.88225</td>\n",
       "\t\t<td>no</td>\n",
       "\t\t<td>age_1</td>\n",
       "\t\t<td>0</td>\n",
       "\t\t<td>147</td>\n",
       "\t</tr>\n",
       "\t<tr>\n",
       "\t\t<td>12533.008527680613</td>\n",
       "\t\t<td>female</td>\n",
       "\t\t<td>32.11</td>\n",
       "\t\t<td>2130.6759</td>\n",
       "\t\t<td>no</td>\n",
       "\t\t<td>age_1</td>\n",
       "\t\t<td>0</td>\n",
       "\t\t<td>179</td>\n",
       "\t</tr>\n",
       "\t<tr>\n",
       "\t\t<td>12533.008527680613</td>\n",
       "\t\t<td>male</td>\n",
       "\t\t<td>30.59</td>\n",
       "\t\t<td>1639.5631</td>\n",
       "\t\t<td>no</td>\n",
       "\t\t<td>age_1</td>\n",
       "\t\t<td>0</td>\n",
       "\t\t<td>211</td>\n",
       "\t</tr>\n",
       "\t<tr>\n",
       "\t\t<td>12533.008527680613</td>\n",
       "\t\t<td>female</td>\n",
       "\t\t<td>28.31</td>\n",
       "\t\t<td>17468.9839</td>\n",
       "\t\t<td>yes</td>\n",
       "\t\t<td>age_1</td>\n",
       "\t\t<td>0</td>\n",
       "\t\t<td>235</td>\n",
       "\t</tr>\n",
       "\t<tr>\n",
       "\t\t<td>12533.008527680613</td>\n",
       "\t\t<td>female</td>\n",
       "\t\t<td>28.88</td>\n",
       "\t\t<td>17748.5062</td>\n",
       "\t\t<td>yes</td>\n",
       "\t\t<td>age_1</td>\n",
       "\t\t<td>0</td>\n",
       "\t\t<td>275</td>\n",
       "\t</tr>\n",
       "\t<tr>\n",
       "\t\t<td>12533.008527680613</td>\n",
       "\t\t<td>male</td>\n",
       "\t\t<td>21.755</td>\n",
       "\t\t<td>1627.28245</td>\n",
       "\t\t<td>no</td>\n",
       "\t\t<td>age_1</td>\n",
       "\t\t<td>0</td>\n",
       "\t\t<td>283</td>\n",
       "\t</tr>\n",
       "\t<tr>\n",
       "\t\t<td>12533.008527680613</td>\n",
       "\t\t<td>male</td>\n",
       "\t\t<td>35.53</td>\n",
       "\t\t<td>1646.4297</td>\n",
       "\t\t<td>no</td>\n",
       "\t\t<td>age_1</td>\n",
       "\t\t<td>0</td>\n",
       "\t\t<td>259</td>\n",
       "\t</tr>\n",
       "\t<tr>\n",
       "\t\t<td>12533.008527680613</td>\n",
       "\t\t<td>female</td>\n",
       "\t\t<td>27.93</td>\n",
       "\t\t<td>18838.70366</td>\n",
       "\t\t<td>no</td>\n",
       "\t\t<td>age_1</td>\n",
       "\t\t<td>3</td>\n",
       "\t\t<td>163</td>\n",
       "\t</tr>\n",
       "\t<tr>\n",
       "\t\t<td>12533.008527680613</td>\n",
       "\t\t<td>female</td>\n",
       "\t\t<td>37.43</td>\n",
       "\t\t<td>2138.0707</td>\n",
       "\t\t<td>no</td>\n",
       "\t\t<td>age_1</td>\n",
       "\t\t<td>0</td>\n",
       "\t\t<td>131</td>\n",
       "\t</tr>\n",
       "\t<tr>\n",
       "\t\t<td>12533.008527680613</td>\n",
       "\t\t<td>female</td>\n",
       "\t\t<td>31.825</td>\n",
       "\t\t<td>2719.27975</td>\n",
       "\t\t<td>no</td>\n",
       "\t\t<td>age_1</td>\n",
       "\t\t<td>1</td>\n",
       "\t\t<td>99</td>\n",
       "\t</tr>\n",
       "</table></html>"
      ],
      "text/plain": [
       "                 sex     bmi      charges smoker    age  children   id\n",
       "region                                                                \n",
       "12533.008528  female  36.575   2136.88225     no  age_1         0  147\n",
       "12533.008528  female  32.110   2130.67590     no  age_1         0  179\n",
       "12533.008528    male  30.590   1639.56310     no  age_1         0  211\n",
       "12533.008528  female  28.310  17468.98390    yes  age_1         0  235\n",
       "12533.008528  female  28.880  17748.50620    yes  age_1         0  275\n",
       "12533.008528    male  21.755   1627.28245     no  age_1         0  283\n",
       "12533.008528    male  35.530   1646.42970     no  age_1         0  259\n",
       "12533.008528  female  27.930  18838.70366     no  age_1         3  163\n",
       "12533.008528  female  37.430   2138.07070     no  age_1         0  131\n",
       "12533.008528  female  31.825   2719.27975     no  age_1         1   99"
      ]
     },
     "metadata": {},
     "output_type": "display_data"
    },
    {
     "name": "stdout",
     "output_type": "stream",
     "text": [
      "                                                                                         \r"
     ]
    },
    {
     "data": {
      "text/html": [
       "1069 rows X 8 columns"
      ],
      "text/plain": [
       "<IPython.core.display.HTML object>"
      ]
     },
     "metadata": {},
     "output_type": "display_data"
    },
    {
     "name": "stdout",
     "output_type": "stream",
     "text": [
      "                                                                                         \r"
     ]
    },
    {
     "data": {
      "text/html": [
       "\n",
       "Performing encoding for categorical columns ..."
      ],
      "text/plain": [
       "<IPython.core.display.HTML object>"
      ]
     },
     "metadata": {},
     "output_type": "display_data"
    },
    {
     "name": "stdout",
     "output_type": "stream",
     "text": [
      "result data stored in table '\"ALICE\".\"ml__td_sqlmr_persist_out__1719265545752173\"' - 6/20\n",
      "                                                                                         \r"
     ]
    },
    {
     "data": {
      "text/html": [
       "ONE HOT Encoding these Columns:"
      ],
      "text/plain": [
       "<IPython.core.display.HTML object>"
      ]
     },
     "metadata": {},
     "output_type": "display_data"
    },
    {
     "name": "stdout",
     "output_type": "stream",
     "text": [
      "['sex', 'smoker', 'age']\n",
      "                                                                                         \r"
     ]
    },
    {
     "data": {
      "text/html": [
       "Sample of dataset after performing one hot encoding:"
      ],
      "text/plain": [
       "<IPython.core.display.HTML object>"
      ]
     },
     "metadata": {},
     "output_type": "display_data"
    },
    {
     "data": {
      "text/html": [
       "<style type=\"text/css\">\n",
       "\ttable {border:ridge 5px;}\n",
       "\ttable td {border:inset 1px;}\n",
       "\ttable tr#HeaderRow {background-color:grey; color:white;}</style>\n",
       "<html><table>\n",
       "\t<tr id=\"HeaderRow\">\n",
       "\t\t<th>region</th>\n",
       "\t\t<th>sex_0</th>\n",
       "\t\t<th>sex_1</th>\n",
       "\t\t<th>bmi</th>\n",
       "\t\t<th>charges</th>\n",
       "\t\t<th>smoker_0</th>\n",
       "\t\t<th>smoker_1</th>\n",
       "\t\t<th>age_0</th>\n",
       "\t\t<th>age_1</th>\n",
       "\t\t<th>age_2</th>\n",
       "\t\t<th>children</th>\n",
       "\t\t<th>id</th>\n",
       "\t</tr>\n",
       "\t<tr>\n",
       "\t\t<td>14521.543532372873</td>\n",
       "\t\t<td>1</td>\n",
       "\t\t<td>0</td>\n",
       "\t\t<td>31.79</td>\n",
       "\t\t<td>3056.3881</td>\n",
       "\t\t<td>1</td>\n",
       "\t\t<td>0</td>\n",
       "\t\t<td>1</td>\n",
       "\t\t<td>0</td>\n",
       "\t\t<td>0</td>\n",
       "\t\t<td>2</td>\n",
       "\t\t<td>496</td>\n",
       "\t</tr>\n",
       "\t<tr>\n",
       "\t\t<td>14521.543532372873</td>\n",
       "\t\t<td>1</td>\n",
       "\t\t<td>0</td>\n",
       "\t\t<td>32.45</td>\n",
       "\t\t<td>45008.9555</td>\n",
       "\t\t<td>0</td>\n",
       "\t\t<td>1</td>\n",
       "\t\t<td>0</td>\n",
       "\t\t<td>0</td>\n",
       "\t\t<td>1</td>\n",
       "\t\t<td>0</td>\n",
       "\t\t<td>616</td>\n",
       "\t</tr>\n",
       "\t<tr>\n",
       "\t\t<td>14521.543532372873</td>\n",
       "\t\t<td>1</td>\n",
       "\t\t<td>0</td>\n",
       "\t\t<td>38.06</td>\n",
       "\t\t<td>12648.7034</td>\n",
       "\t\t<td>1</td>\n",
       "\t\t<td>0</td>\n",
       "\t\t<td>0</td>\n",
       "\t\t<td>0</td>\n",
       "\t\t<td>1</td>\n",
       "\t\t<td>0</td>\n",
       "\t\t<td>624</td>\n",
       "\t</tr>\n",
       "\t<tr>\n",
       "\t\t<td>14521.543532372873</td>\n",
       "\t\t<td>1</td>\n",
       "\t\t<td>0</td>\n",
       "\t\t<td>24.53</td>\n",
       "\t\t<td>12629.8967</td>\n",
       "\t\t<td>1</td>\n",
       "\t\t<td>0</td>\n",
       "\t\t<td>0</td>\n",
       "\t\t<td>0</td>\n",
       "\t\t<td>1</td>\n",
       "\t\t<td>0</td>\n",
       "\t\t<td>648</td>\n",
       "\t</tr>\n",
       "\t<tr>\n",
       "\t\t<td>14521.543532372873</td>\n",
       "\t\t<td>0</td>\n",
       "\t\t<td>1</td>\n",
       "\t\t<td>34.43</td>\n",
       "\t\t<td>1137.4697</td>\n",
       "\t\t<td>1</td>\n",
       "\t\t<td>0</td>\n",
       "\t\t<td>1</td>\n",
       "\t\t<td>0</td>\n",
       "\t\t<td>0</td>\n",
       "\t\t<td>0</td>\n",
       "\t\t<td>720</td>\n",
       "\t</tr>\n",
       "\t<tr>\n",
       "\t\t<td>14521.543532372873</td>\n",
       "\t\t<td>1</td>\n",
       "\t\t<td>0</td>\n",
       "\t\t<td>38.28</td>\n",
       "\t\t<td>1631.8212</td>\n",
       "\t\t<td>1</td>\n",
       "\t\t<td>0</td>\n",
       "\t\t<td>1</td>\n",
       "\t\t<td>0</td>\n",
       "\t\t<td>0</td>\n",
       "\t\t<td>0</td>\n",
       "\t\t<td>728</td>\n",
       "\t</tr>\n",
       "\t<tr>\n",
       "\t\t<td>14521.543532372873</td>\n",
       "\t\t<td>1</td>\n",
       "\t\t<td>0</td>\n",
       "\t\t<td>26.73</td>\n",
       "\t\t<td>1615.7667</td>\n",
       "\t\t<td>1</td>\n",
       "\t\t<td>0</td>\n",
       "\t\t<td>1</td>\n",
       "\t\t<td>0</td>\n",
       "\t\t<td>0</td>\n",
       "\t\t<td>0</td>\n",
       "\t\t<td>712</td>\n",
       "\t</tr>\n",
       "\t<tr>\n",
       "\t\t<td>14521.543532372873</td>\n",
       "\t\t<td>0</td>\n",
       "\t\t<td>1</td>\n",
       "\t\t<td>40.92</td>\n",
       "\t\t<td>48673.5588</td>\n",
       "\t\t<td>0</td>\n",
       "\t\t<td>1</td>\n",
       "\t\t<td>0</td>\n",
       "\t\t<td>0</td>\n",
       "\t\t<td>1</td>\n",
       "\t\t<td>0</td>\n",
       "\t\t<td>536</td>\n",
       "\t</tr>\n",
       "\t<tr>\n",
       "\t\t<td>14521.543532372873</td>\n",
       "\t\t<td>0</td>\n",
       "\t\t<td>1</td>\n",
       "\t\t<td>31.13</td>\n",
       "\t\t<td>2566.4707</td>\n",
       "\t\t<td>1</td>\n",
       "\t\t<td>0</td>\n",
       "\t\t<td>1</td>\n",
       "\t\t<td>0</td>\n",
       "\t\t<td>0</td>\n",
       "\t\t<td>2</td>\n",
       "\t\t<td>488</td>\n",
       "\t</tr>\n",
       "\t<tr>\n",
       "\t\t<td>14521.543532372873</td>\n",
       "\t\t<td>0</td>\n",
       "\t\t<td>1</td>\n",
       "\t\t<td>33.33</td>\n",
       "\t\t<td>1391.5287</td>\n",
       "\t\t<td>1</td>\n",
       "\t\t<td>0</td>\n",
       "\t\t<td>1</td>\n",
       "\t\t<td>0</td>\n",
       "\t\t<td>0</td>\n",
       "\t\t<td>0</td>\n",
       "\t\t<td>360</td>\n",
       "\t</tr>\n",
       "</table></html>"
      ],
      "text/plain": [
       "              sex_0  sex_1    bmi     charges  smoker_0  smoker_1  age_0  age_1  age_2  children   id\n",
       "region                                                                                               \n",
       "14521.543532      1      0  31.79   3056.3881         1         0      1      0      0         2  496\n",
       "14521.543532      1      0  32.45  45008.9555         0         1      0      0      1         0  616\n",
       "14521.543532      1      0  38.06  12648.7034         1         0      0      0      1         0  624\n",
       "14521.543532      1      0  24.53  12629.8967         1         0      0      0      1         0  648\n",
       "14521.543532      0      1  34.43   1137.4697         1         0      1      0      0         0  720\n",
       "14521.543532      1      0  38.28   1631.8212         1         0      1      0      0         0  728\n",
       "14521.543532      1      0  26.73   1615.7667         1         0      1      0      0         0  712\n",
       "14521.543532      0      1  40.92  48673.5588         0         1      0      0      1         0  536\n",
       "14521.543532      0      1  31.13   2566.4707         1         0      1      0      0         2  488\n",
       "14521.543532      0      1  33.33   1391.5287         1         0      1      0      0         0  360"
      ]
     },
     "metadata": {},
     "output_type": "display_data"
    },
    {
     "name": "stdout",
     "output_type": "stream",
     "text": [
      "                                                                                         \r"
     ]
    },
    {
     "data": {
      "text/html": [
       "1069 rows X 12 columns"
      ],
      "text/plain": [
       "<IPython.core.display.HTML object>"
      ]
     },
     "metadata": {},
     "output_type": "display_data"
    },
    {
     "name": "stdout",
     "output_type": "stream",
     "text": [
      "                                                                                         \r"
     ]
    },
    {
     "data": {
      "text/html": [
       "Time taken to encode the columns: 13.36 sec"
      ],
      "text/plain": [
       "<IPython.core.display.HTML object>"
      ]
     },
     "metadata": {},
     "output_type": "display_data"
    },
    {
     "name": "stdout",
     "output_type": "stream",
     "text": [
      "                                                                                         \r"
     ]
    },
    {
     "data": {
      "text/html": [
       "\n",
       "Starting customized mathematical transformation ..."
      ],
      "text/plain": [
       "<IPython.core.display.HTML object>"
      ]
     },
     "metadata": {},
     "output_type": "display_data"
    },
    {
     "name": "stdout",
     "output_type": "stream",
     "text": [
      "Skipping customized mathematical transformation.                                         \n",
      "                                                                                         \r"
     ]
    },
    {
     "data": {
      "text/html": [
       "\n",
       "Starting customized non-linear transformation ..."
      ],
      "text/plain": [
       "<IPython.core.display.HTML object>"
      ]
     },
     "metadata": {},
     "output_type": "display_data"
    },
    {
     "name": "stdout",
     "output_type": "stream",
     "text": [
      "Skipping customized non-linear transformation.                                           \n",
      "                                                                                         \r"
     ]
    },
    {
     "data": {
      "text/html": [
       "\n",
       "Starting customized anti-select columns ..."
      ],
      "text/plain": [
       "<IPython.core.display.HTML object>"
      ]
     },
     "metadata": {},
     "output_type": "display_data"
    },
    {
     "name": "stdout",
     "output_type": "stream",
     "text": [
      "Skipping customized anti-select columns.                                                 \n",
      "                                                                                          \r"
     ]
    },
    {
     "data": {
      "text/html": [
       "\n",
       "            <style>\n",
       "                .custom-div {\n",
       "                    background-color: lightgray;\n",
       "                    color: #000000;\n",
       "                    padding: 10px;\n",
       "                    border-radius: 8px;\n",
       "                    box-shadow: 0 3px 4px rgba(0 -  0 -  0 -  0.2);\n",
       "                    margin-bottom: 10px;\n",
       "                    text-align: center;\n",
       "                }\n",
       "            </style>\n",
       "        <br><div class=\"custom-div\"><h3><span style=\"color: green;\">1. Feature Exploration -> 2. Feature Engineering -></span> 3. Data Preparation -> 4. Model Training & Evaluation<center></h3></center></div>"
      ],
      "text/plain": [
       "<IPython.core.display.HTML object>"
      ]
     },
     "metadata": {},
     "output_type": "display_data"
    },
    {
     "name": "stdout",
     "output_type": "stream",
     "text": [
      "                                                                                          \r"
     ]
    },
    {
     "data": {
      "text/html": [
       "Data preparation started ..."
      ],
      "text/plain": [
       "<IPython.core.display.HTML object>"
      ]
     },
     "metadata": {},
     "output_type": "display_data"
    },
    {
     "name": "stdout",
     "output_type": "stream",
     "text": [
      "                                                                                          \r"
     ]
    },
    {
     "data": {
      "text/html": [
       "\n",
       "Spliting of dataset into training and testing ..."
      ],
      "text/plain": [
       "<IPython.core.display.HTML object>"
      ]
     },
     "metadata": {},
     "output_type": "display_data"
    },
    {
     "name": "stdout",
     "output_type": "stream",
     "text": [
      "Training size : 0.9                                                                       \n",
      "Testing size  : 0.1                                                                       \n",
      "                                                                                          \r"
     ]
    },
    {
     "data": {
      "text/html": [
       "Training data sample"
      ],
      "text/plain": [
       "<IPython.core.display.HTML object>"
      ]
     },
     "metadata": {},
     "output_type": "display_data"
    },
    {
     "data": {
      "text/html": [
       "<style type=\"text/css\">\n",
       "\ttable {border:ridge 5px;}\n",
       "\ttable td {border:inset 1px;}\n",
       "\ttable tr#HeaderRow {background-color:grey; color:white;}</style>\n",
       "<html><table>\n",
       "\t<tr id=\"HeaderRow\">\n",
       "\t\t<th>region</th>\n",
       "\t\t<th>sex_0</th>\n",
       "\t\t<th>sex_1</th>\n",
       "\t\t<th>bmi</th>\n",
       "\t\t<th>charges</th>\n",
       "\t\t<th>smoker_0</th>\n",
       "\t\t<th>smoker_1</th>\n",
       "\t\t<th>age_0</th>\n",
       "\t\t<th>age_1</th>\n",
       "\t\t<th>age_2</th>\n",
       "\t\t<th>children</th>\n",
       "\t\t<th>id</th>\n",
       "\t</tr>\n",
       "\t<tr>\n",
       "\t\t<td>14521.543532372873</td>\n",
       "\t\t<td>0</td>\n",
       "\t\t<td>1</td>\n",
       "\t\t<td>35.86</td>\n",
       "\t\t<td>46599.1084</td>\n",
       "\t\t<td>0</td>\n",
       "\t\t<td>1</td>\n",
       "\t\t<td>0</td>\n",
       "\t\t<td>0</td>\n",
       "\t\t<td>1</td>\n",
       "\t\t<td>0</td>\n",
       "\t\t<td>22</td>\n",
       "\t</tr>\n",
       "\t<tr>\n",
       "\t\t<td>14521.543532372873</td>\n",
       "\t\t<td>1</td>\n",
       "\t\t<td>0</td>\n",
       "\t\t<td>36.63</td>\n",
       "\t\t<td>10381.4787</td>\n",
       "\t\t<td>1</td>\n",
       "\t\t<td>0</td>\n",
       "\t\t<td>0</td>\n",
       "\t\t<td>0</td>\n",
       "\t\t<td>1</td>\n",
       "\t\t<td>3</td>\n",
       "\t\t<td>37</td>\n",
       "\t</tr>\n",
       "\t<tr>\n",
       "\t\t<td>14521.543532372873</td>\n",
       "\t\t<td>0</td>\n",
       "\t\t<td>1</td>\n",
       "\t\t<td>46.53</td>\n",
       "\t\t<td>4686.3887</td>\n",
       "\t\t<td>1</td>\n",
       "\t\t<td>0</td>\n",
       "\t\t<td>1</td>\n",
       "\t\t<td>0</td>\n",
       "\t\t<td>0</td>\n",
       "\t\t<td>2</td>\n",
       "\t\t<td>39</td>\n",
       "\t</tr>\n",
       "\t<tr>\n",
       "\t\t<td>14521.543532372873</td>\n",
       "\t\t<td>1</td>\n",
       "\t\t<td>0</td>\n",
       "\t\t<td>33.11</td>\n",
       "\t\t<td>34439.8559</td>\n",
       "\t\t<td>0</td>\n",
       "\t\t<td>1</td>\n",
       "\t\t<td>1</td>\n",
       "\t\t<td>0</td>\n",
       "\t\t<td>0</td>\n",
       "\t\t<td>0</td>\n",
       "\t\t<td>43</td>\n",
       "\t</tr>\n",
       "\t<tr>\n",
       "\t\t<td>14521.543532372873</td>\n",
       "\t\t<td>1</td>\n",
       "\t\t<td>0</td>\n",
       "\t\t<td>22.22</td>\n",
       "\t\t<td>19444.2658</td>\n",
       "\t\t<td>0</td>\n",
       "\t\t<td>1</td>\n",
       "\t\t<td>0</td>\n",
       "\t\t<td>1</td>\n",
       "\t\t<td>0</td>\n",
       "\t\t<td>2</td>\n",
       "\t\t<td>50</td>\n",
       "\t</tr>\n",
       "\t<tr>\n",
       "\t\t<td>14521.543532372873</td>\n",
       "\t\t<td>1</td>\n",
       "\t\t<td>0</td>\n",
       "\t\t<td>26.73</td>\n",
       "\t\t<td>5002.7827</td>\n",
       "\t\t<td>1</td>\n",
       "\t\t<td>0</td>\n",
       "\t\t<td>0</td>\n",
       "\t\t<td>1</td>\n",
       "\t\t<td>0</td>\n",
       "\t\t<td>1</td>\n",
       "\t\t<td>57</td>\n",
       "\t</tr>\n",
       "\t<tr>\n",
       "\t\t<td>12533.008527680613</td>\n",
       "\t\t<td>0</td>\n",
       "\t\t<td>1</td>\n",
       "\t\t<td>29.26</td>\n",
       "\t\t<td>6457.8434</td>\n",
       "\t\t<td>1</td>\n",
       "\t\t<td>0</td>\n",
       "\t\t<td>0</td>\n",
       "\t\t<td>1</td>\n",
       "\t\t<td>0</td>\n",
       "\t\t<td>2</td>\n",
       "\t\t<td>12</td>\n",
       "\t</tr>\n",
       "\t<tr>\n",
       "\t\t<td>12533.008527680613</td>\n",
       "\t\t<td>1</td>\n",
       "\t\t<td>0</td>\n",
       "\t\t<td>17.765</td>\n",
       "\t\t<td>32734.1863</td>\n",
       "\t\t<td>0</td>\n",
       "\t\t<td>1</td>\n",
       "\t\t<td>1</td>\n",
       "\t\t<td>0</td>\n",
       "\t\t<td>0</td>\n",
       "\t\t<td>2</td>\n",
       "\t\t<td>15</td>\n",
       "\t</tr>\n",
       "\t<tr>\n",
       "\t\t<td>12533.008527680613</td>\n",
       "\t\t<td>0</td>\n",
       "\t\t<td>1</td>\n",
       "\t\t<td>35.815</td>\n",
       "\t\t<td>4320.41085</td>\n",
       "\t\t<td>1</td>\n",
       "\t\t<td>0</td>\n",
       "\t\t<td>0</td>\n",
       "\t\t<td>1</td>\n",
       "\t\t<td>0</td>\n",
       "\t\t<td>0</td>\n",
       "\t\t<td>25</td>\n",
       "\t</tr>\n",
       "\t<tr>\n",
       "\t\t<td>12533.008527680613</td>\n",
       "\t\t<td>0</td>\n",
       "\t\t<td>1</td>\n",
       "\t\t<td>32.3</td>\n",
       "\t\t<td>14119.62</td>\n",
       "\t\t<td>1</td>\n",
       "\t\t<td>0</td>\n",
       "\t\t<td>0</td>\n",
       "\t\t<td>0</td>\n",
       "\t\t<td>1</td>\n",
       "\t\t<td>2</td>\n",
       "\t\t<td>30</td>\n",
       "\t</tr>\n",
       "</table></html>"
      ],
      "text/plain": [
       "         region  sex_0  sex_1     bmi      charges  smoker_0  smoker_1  age_0  age_1  age_2  children  id\n",
       "0  14521.543532      0      1  35.860  46599.10840         0         1      0      0      1         0  22\n",
       "1  14521.543532      1      0  36.630  10381.47870         1         0      0      0      1         3  37\n",
       "2  14521.543532      0      1  46.530   4686.38870         1         0      1      0      0         2  39\n",
       "3  14521.543532      1      0  33.110  34439.85590         0         1      1      0      0         0  43\n",
       "4  14521.543532      1      0  22.220  19444.26580         0         1      0      1      0         2  50\n",
       "5  14521.543532      1      0  26.730   5002.78270         1         0      0      1      0         1  57\n",
       "6  12533.008528      0      1  29.260   6457.84340         1         0      0      1      0         2  12\n",
       "7  12533.008528      1      0  17.765  32734.18630         0         1      1      0      0         2  15\n",
       "8  12533.008528      0      1  35.815   4320.41085         1         0      0      1      0         0  25\n",
       "9  12533.008528      0      1  32.300  14119.62000         1         0      0      0      1         2  30"
      ]
     },
     "metadata": {},
     "output_type": "display_data"
    },
    {
     "name": "stdout",
     "output_type": "stream",
     "text": [
      "                                                                                          \r"
     ]
    },
    {
     "data": {
      "text/html": [
       "962 rows X 12 columns"
      ],
      "text/plain": [
       "<IPython.core.display.HTML object>"
      ]
     },
     "metadata": {},
     "output_type": "display_data"
    },
    {
     "name": "stdout",
     "output_type": "stream",
     "text": [
      "                                                                                          \r"
     ]
    },
    {
     "data": {
      "text/html": [
       "Testing data sample"
      ],
      "text/plain": [
       "<IPython.core.display.HTML object>"
      ]
     },
     "metadata": {},
     "output_type": "display_data"
    },
    {
     "data": {
      "text/html": [
       "<style type=\"text/css\">\n",
       "\ttable {border:ridge 5px;}\n",
       "\ttable td {border:inset 1px;}\n",
       "\ttable tr#HeaderRow {background-color:grey; color:white;}</style>\n",
       "<html><table>\n",
       "\t<tr id=\"HeaderRow\">\n",
       "\t\t<th>region</th>\n",
       "\t\t<th>sex_0</th>\n",
       "\t\t<th>sex_1</th>\n",
       "\t\t<th>bmi</th>\n",
       "\t\t<th>charges</th>\n",
       "\t\t<th>smoker_0</th>\n",
       "\t\t<th>smoker_1</th>\n",
       "\t\t<th>age_0</th>\n",
       "\t\t<th>age_1</th>\n",
       "\t\t<th>age_2</th>\n",
       "\t\t<th>children</th>\n",
       "\t\t<th>id</th>\n",
       "\t</tr>\n",
       "\t<tr>\n",
       "\t\t<td>14521.543532372873</td>\n",
       "\t\t<td>1</td>\n",
       "\t\t<td>0</td>\n",
       "\t\t<td>29.92</td>\n",
       "\t\t<td>30942.1918</td>\n",
       "\t\t<td>0</td>\n",
       "\t\t<td>1</td>\n",
       "\t\t<td>0</td>\n",
       "\t\t<td>0</td>\n",
       "\t\t<td>1</td>\n",
       "\t\t<td>3</td>\n",
       "\t\t<td>126</td>\n",
       "\t</tr>\n",
       "\t<tr>\n",
       "\t\t<td>14521.543532372873</td>\n",
       "\t\t<td>0</td>\n",
       "\t\t<td>1</td>\n",
       "\t\t<td>34.43</td>\n",
       "\t\t<td>37742.5757</td>\n",
       "\t\t<td>0</td>\n",
       "\t\t<td>1</td>\n",
       "\t\t<td>0</td>\n",
       "\t\t<td>1</td>\n",
       "\t\t<td>0</td>\n",
       "\t\t<td>0</td>\n",
       "\t\t<td>214</td>\n",
       "\t</tr>\n",
       "\t<tr>\n",
       "\t\t<td>14521.543532372873</td>\n",
       "\t\t<td>0</td>\n",
       "\t\t<td>1</td>\n",
       "\t\t<td>35.97</td>\n",
       "\t\t<td>9386.1613</td>\n",
       "\t\t<td>1</td>\n",
       "\t\t<td>0</td>\n",
       "\t\t<td>0</td>\n",
       "\t\t<td>0</td>\n",
       "\t\t<td>1</td>\n",
       "\t\t<td>1</td>\n",
       "\t\t<td>247</td>\n",
       "\t</tr>\n",
       "\t<tr>\n",
       "\t\t<td>14521.543532372873</td>\n",
       "\t\t<td>0</td>\n",
       "\t\t<td>1</td>\n",
       "\t\t<td>35.31</td>\n",
       "\t\t<td>18806.14547</td>\n",
       "\t\t<td>1</td>\n",
       "\t\t<td>0</td>\n",
       "\t\t<td>0</td>\n",
       "\t\t<td>1</td>\n",
       "\t\t<td>0</td>\n",
       "\t\t<td>2</td>\n",
       "\t\t<td>280</td>\n",
       "\t</tr>\n",
       "\t<tr>\n",
       "\t\t<td>14521.543532372873</td>\n",
       "\t\t<td>0</td>\n",
       "\t\t<td>1</td>\n",
       "\t\t<td>40.48</td>\n",
       "\t\t<td>13831.1152</td>\n",
       "\t\t<td>1</td>\n",
       "\t\t<td>0</td>\n",
       "\t\t<td>0</td>\n",
       "\t\t<td>0</td>\n",
       "\t\t<td>1</td>\n",
       "\t\t<td>0</td>\n",
       "\t\t<td>289</td>\n",
       "\t</tr>\n",
       "\t<tr>\n",
       "\t\t<td>14521.543532372873</td>\n",
       "\t\t<td>1</td>\n",
       "\t\t<td>0</td>\n",
       "\t\t<td>38.83</td>\n",
       "\t\t<td>5138.2567</td>\n",
       "\t\t<td>1</td>\n",
       "\t\t<td>0</td>\n",
       "\t\t<td>1</td>\n",
       "\t\t<td>0</td>\n",
       "\t\t<td>0</td>\n",
       "\t\t<td>3</td>\n",
       "\t\t<td>364</td>\n",
       "\t</tr>\n",
       "\t<tr>\n",
       "\t\t<td>12533.008527680613</td>\n",
       "\t\t<td>0</td>\n",
       "\t\t<td>1</td>\n",
       "\t\t<td>20.615</td>\n",
       "\t\t<td>2803.69785</td>\n",
       "\t\t<td>1</td>\n",
       "\t\t<td>0</td>\n",
       "\t\t<td>1</td>\n",
       "\t\t<td>0</td>\n",
       "\t\t<td>0</td>\n",
       "\t\t<td>2</td>\n",
       "\t\t<td>19</td>\n",
       "\t</tr>\n",
       "\t<tr>\n",
       "\t\t<td>12533.008527680613</td>\n",
       "\t\t<td>0</td>\n",
       "\t\t<td>1</td>\n",
       "\t\t<td>36.955</td>\n",
       "\t\t<td>36219.40545</td>\n",
       "\t\t<td>0</td>\n",
       "\t\t<td>1</td>\n",
       "\t\t<td>1</td>\n",
       "\t\t<td>0</td>\n",
       "\t\t<td>0</td>\n",
       "\t\t<td>0</td>\n",
       "\t\t<td>91</td>\n",
       "\t</tr>\n",
       "\t<tr>\n",
       "\t\t<td>12533.008527680613</td>\n",
       "\t\t<td>0</td>\n",
       "\t\t<td>1</td>\n",
       "\t\t<td>28.69</td>\n",
       "\t\t<td>10264.4421</td>\n",
       "\t\t<td>1</td>\n",
       "\t\t<td>0</td>\n",
       "\t\t<td>0</td>\n",
       "\t\t<td>0</td>\n",
       "\t\t<td>1</td>\n",
       "\t\t<td>3</td>\n",
       "\t\t<td>101</td>\n",
       "\t</tr>\n",
       "\t<tr>\n",
       "\t\t<td>12533.008527680613</td>\n",
       "\t\t<td>0</td>\n",
       "\t\t<td>1</td>\n",
       "\t\t<td>27.835</td>\n",
       "\t\t<td>6455.86265</td>\n",
       "\t\t<td>1</td>\n",
       "\t\t<td>0</td>\n",
       "\t\t<td>0</td>\n",
       "\t\t<td>1</td>\n",
       "\t\t<td>0</td>\n",
       "\t\t<td>2</td>\n",
       "\t\t<td>108</td>\n",
       "\t</tr>\n",
       "</table></html>"
      ],
      "text/plain": [
       "         region  sex_0  sex_1     bmi      charges  smoker_0  smoker_1  age_0  age_1  age_2  children   id\n",
       "0  14521.543532      1      0  29.920  30942.19180         0         1      0      0      1         3  126\n",
       "1  14521.543532      0      1  34.430  37742.57570         0         1      0      1      0         0  214\n",
       "2  14521.543532      0      1  35.970   9386.16130         1         0      0      0      1         1  247\n",
       "3  14521.543532      0      1  35.310  18806.14547         1         0      0      1      0         2  280\n",
       "4  14521.543532      0      1  40.480  13831.11520         1         0      0      0      1         0  289\n",
       "5  14521.543532      1      0  38.830   5138.25670         1         0      1      0      0         3  364\n",
       "6  12533.008528      0      1  20.615   2803.69785         1         0      1      0      0         2   19\n",
       "7  12533.008528      0      1  36.955  36219.40545         0         1      1      0      0         0   91\n",
       "8  12533.008528      0      1  28.690  10264.44210         1         0      0      0      1         3  101\n",
       "9  12533.008528      0      1  27.835   6455.86265         1         0      0      1      0         2  108"
      ]
     },
     "metadata": {},
     "output_type": "display_data"
    },
    {
     "name": "stdout",
     "output_type": "stream",
     "text": [
      "                                                                                          \r"
     ]
    },
    {
     "data": {
      "text/html": [
       "107 rows X 12 columns"
      ],
      "text/plain": [
       "<IPython.core.display.HTML object>"
      ]
     },
     "metadata": {},
     "output_type": "display_data"
    },
    {
     "name": "stdout",
     "output_type": "stream",
     "text": [
      "                                                                                          \r"
     ]
    },
    {
     "data": {
      "text/html": [
       "Time taken for spliting of data: 10.64 sec  "
      ],
      "text/plain": [
       "<IPython.core.display.HTML object>"
      ]
     },
     "metadata": {},
     "output_type": "display_data"
    },
    {
     "name": "stdout",
     "output_type": "stream",
     "text": [
      "                                                                                          \r"
     ]
    },
    {
     "data": {
      "text/html": [
       "\n",
       "Starting customized outlier processing ..."
      ],
      "text/plain": [
       "<IPython.core.display.HTML object>"
      ]
     },
     "metadata": {},
     "output_type": "display_data"
    },
    {
     "name": "stdout",
     "output_type": "stream",
     "text": [
      "No information provided for customized outlier processing. AutoML will proceed with default settings.\n",
      "                                                                                          \r"
     ]
    },
    {
     "data": {
      "text/html": [
       "\n",
       "Outlier preprocessing ..."
      ],
      "text/plain": [
       "<IPython.core.display.HTML object>"
      ]
     },
     "metadata": {},
     "output_type": "display_data"
    },
    {
     "name": "stdout",
     "output_type": "stream",
     "text": [
      "Columns with outlier percentage :-                                                                                                                                                                                                                                                                                                                                                                                                                                                                                  \n",
      "  ColumnName  OutlierPercentage\n",
      "0    charges           8.886810\n",
      "1        bmi           0.467727\n",
      "                                                                                          \r"
     ]
    },
    {
     "data": {
      "text/html": [
       "Deleting rows of these columns:"
      ],
      "text/plain": [
       "<IPython.core.display.HTML object>"
      ]
     },
     "metadata": {},
     "output_type": "display_data"
    },
    {
     "name": "stdout",
     "output_type": "stream",
     "text": [
      "['bmi']\n",
      "result data stored in table '\"ALICE\".\"ml__td_sqlmr_persist_out__1719268547214180\"' - 11/20\n",
      "                                                                                          \r"
     ]
    },
    {
     "data": {
      "text/html": [
       "Sample of training dataset after removing outlier rows:"
      ],
      "text/plain": [
       "<IPython.core.display.HTML object>"
      ]
     },
     "metadata": {},
     "output_type": "display_data"
    },
    {
     "data": {
      "text/html": [
       "<style type=\"text/css\">\n",
       "\ttable {border:ridge 5px;}\n",
       "\ttable td {border:inset 1px;}\n",
       "\ttable tr#HeaderRow {background-color:grey; color:white;}</style>\n",
       "<html><table>\n",
       "\t<tr id=\"HeaderRow\">\n",
       "\t\t<th>region</th>\n",
       "\t\t<th>sex_0</th>\n",
       "\t\t<th>sex_1</th>\n",
       "\t\t<th>bmi</th>\n",
       "\t\t<th>charges</th>\n",
       "\t\t<th>smoker_0</th>\n",
       "\t\t<th>smoker_1</th>\n",
       "\t\t<th>age_0</th>\n",
       "\t\t<th>age_1</th>\n",
       "\t\t<th>age_2</th>\n",
       "\t\t<th>children</th>\n",
       "\t\t<th>id</th>\n",
       "\t</tr>\n",
       "\t<tr>\n",
       "\t\t<td>13289.583221840003</td>\n",
       "\t\t<td>0</td>\n",
       "\t\t<td>1</td>\n",
       "\t\t<td>34.675</td>\n",
       "\t\t<td>4518.82625</td>\n",
       "\t\t<td>1</td>\n",
       "\t\t<td>0</td>\n",
       "\t\t<td>0</td>\n",
       "\t\t<td>1</td>\n",
       "\t\t<td>0</td>\n",
       "\t\t<td>0</td>\n",
       "\t\t<td>41</td>\n",
       "\t</tr>\n",
       "\t<tr>\n",
       "\t\t<td>13289.583221840003</td>\n",
       "\t\t<td>1</td>\n",
       "\t\t<td>0</td>\n",
       "\t\t<td>22.04</td>\n",
       "\t\t<td>13616.3586</td>\n",
       "\t\t<td>1</td>\n",
       "\t\t<td>0</td>\n",
       "\t\t<td>0</td>\n",
       "\t\t<td>0</td>\n",
       "\t\t<td>1</td>\n",
       "\t\t<td>0</td>\n",
       "\t\t<td>54</td>\n",
       "\t</tr>\n",
       "\t<tr>\n",
       "\t\t<td>13289.583221840003</td>\n",
       "\t\t<td>1</td>\n",
       "\t\t<td>0</td>\n",
       "\t\t<td>29.64</td>\n",
       "\t\t<td>24671.66334</td>\n",
       "\t\t<td>1</td>\n",
       "\t\t<td>0</td>\n",
       "\t\t<td>1</td>\n",
       "\t\t<td>0</td>\n",
       "\t\t<td>0</td>\n",
       "\t\t<td>4</td>\n",
       "\t\t<td>56</td>\n",
       "\t</tr>\n",
       "\t<tr>\n",
       "\t\t<td>13289.583221840003</td>\n",
       "\t\t<td>1</td>\n",
       "\t\t<td>0</td>\n",
       "\t\t<td>27.265</td>\n",
       "\t\t<td>6555.07035</td>\n",
       "\t\t<td>1</td>\n",
       "\t\t<td>0</td>\n",
       "\t\t<td>0</td>\n",
       "\t\t<td>1</td>\n",
       "\t\t<td>0</td>\n",
       "\t\t<td>1</td>\n",
       "\t\t<td>60</td>\n",
       "\t</tr>\n",
       "\t<tr>\n",
       "\t\t<td>13289.583221840003</td>\n",
       "\t\t<td>1</td>\n",
       "\t\t<td>0</td>\n",
       "\t\t<td>36.385</td>\n",
       "\t\t<td>48517.56315</td>\n",
       "\t\t<td>0</td>\n",
       "\t\t<td>1</td>\n",
       "\t\t<td>0</td>\n",
       "\t\t<td>0</td>\n",
       "\t\t<td>1</td>\n",
       "\t\t<td>1</td>\n",
       "\t\t<td>62</td>\n",
       "\t</tr>\n",
       "\t<tr>\n",
       "\t\t<td>13289.583221840003</td>\n",
       "\t\t<td>0</td>\n",
       "\t\t<td>1</td>\n",
       "\t\t<td>37.335</td>\n",
       "\t\t<td>4667.60765</td>\n",
       "\t\t<td>1</td>\n",
       "\t\t<td>0</td>\n",
       "\t\t<td>1</td>\n",
       "\t\t<td>0</td>\n",
       "\t\t<td>0</td>\n",
       "\t\t<td>1</td>\n",
       "\t\t<td>79</td>\n",
       "\t</tr>\n",
       "\t<tr>\n",
       "\t\t<td>14521.543532372873</td>\n",
       "\t\t<td>0</td>\n",
       "\t\t<td>1</td>\n",
       "\t\t<td>35.86</td>\n",
       "\t\t<td>46599.1084</td>\n",
       "\t\t<td>0</td>\n",
       "\t\t<td>1</td>\n",
       "\t\t<td>0</td>\n",
       "\t\t<td>0</td>\n",
       "\t\t<td>1</td>\n",
       "\t\t<td>0</td>\n",
       "\t\t<td>22</td>\n",
       "\t</tr>\n",
       "\t<tr>\n",
       "\t\t<td>14521.543532372873</td>\n",
       "\t\t<td>1</td>\n",
       "\t\t<td>0</td>\n",
       "\t\t<td>36.63</td>\n",
       "\t\t<td>10381.4787</td>\n",
       "\t\t<td>1</td>\n",
       "\t\t<td>0</td>\n",
       "\t\t<td>0</td>\n",
       "\t\t<td>0</td>\n",
       "\t\t<td>1</td>\n",
       "\t\t<td>3</td>\n",
       "\t\t<td>37</td>\n",
       "\t</tr>\n",
       "\t<tr>\n",
       "\t\t<td>14521.543532372873</td>\n",
       "\t\t<td>0</td>\n",
       "\t\t<td>1</td>\n",
       "\t\t<td>46.53</td>\n",
       "\t\t<td>4686.3887</td>\n",
       "\t\t<td>1</td>\n",
       "\t\t<td>0</td>\n",
       "\t\t<td>1</td>\n",
       "\t\t<td>0</td>\n",
       "\t\t<td>0</td>\n",
       "\t\t<td>2</td>\n",
       "\t\t<td>39</td>\n",
       "\t</tr>\n",
       "\t<tr>\n",
       "\t\t<td>14521.543532372873</td>\n",
       "\t\t<td>1</td>\n",
       "\t\t<td>0</td>\n",
       "\t\t<td>33.11</td>\n",
       "\t\t<td>34439.8559</td>\n",
       "\t\t<td>0</td>\n",
       "\t\t<td>1</td>\n",
       "\t\t<td>1</td>\n",
       "\t\t<td>0</td>\n",
       "\t\t<td>0</td>\n",
       "\t\t<td>0</td>\n",
       "\t\t<td>43</td>\n",
       "\t</tr>\n",
       "</table></html>"
      ],
      "text/plain": [
       "              sex_0  sex_1     bmi      charges  smoker_0  smoker_1  age_0  age_1  age_2  children  id\n",
       "region                                                                                                \n",
       "13289.583222      0      1  34.675   4518.82625         1         0      0      1      0         0  41\n",
       "13289.583222      1      0  22.040  13616.35860         1         0      0      0      1         0  54\n",
       "13289.583222      1      0  29.640  24671.66334         1         0      1      0      0         4  56\n",
       "13289.583222      1      0  27.265   6555.07035         1         0      0      1      0         1  60\n",
       "13289.583222      1      0  36.385  48517.56315         0         1      0      0      1         1  62\n",
       "13289.583222      0      1  37.335   4667.60765         1         0      1      0      0         1  79\n",
       "14521.543532      0      1  35.860  46599.10840         0         1      0      0      1         0  22\n",
       "14521.543532      1      0  36.630  10381.47870         1         0      0      0      1         3  37\n",
       "14521.543532      0      1  46.530   4686.38870         1         0      1      0      0         2  39\n",
       "14521.543532      1      0  33.110  34439.85590         0         1      1      0      0         0  43"
      ]
     },
     "metadata": {},
     "output_type": "display_data"
    },
    {
     "name": "stdout",
     "output_type": "stream",
     "text": [
      "                                                                                          \r"
     ]
    },
    {
     "data": {
      "text/html": [
       "957 rows X 12 columns"
      ],
      "text/plain": [
       "<IPython.core.display.HTML object>"
      ]
     },
     "metadata": {},
     "output_type": "display_data"
    },
    {
     "name": "stdout",
     "output_type": "stream",
     "text": [
      "                                                                                          \r"
     ]
    },
    {
     "data": {
      "text/html": [
       "Time Taken by Outlier processing: 33.32 sec "
      ],
      "text/plain": [
       "<IPython.core.display.HTML object>"
      ]
     },
     "metadata": {},
     "output_type": "display_data"
    },
    {
     "name": "stdout",
     "output_type": "stream",
     "text": [
      "result data stored in table '\"ALICE\".\"ml__td_sqlmr_persist_out__1719265539332623\"' - 12/20\n",
      "result data stored in table '\"ALICE\".\"ml__td_sqlmr_persist_out__1719265523863927\"'\n",
      "                                                                                          \r"
     ]
    },
    {
     "data": {
      "text/html": [
       "\n",
       "Feature selection using lasso ..."
      ],
      "text/plain": [
       "<IPython.core.display.HTML object>"
      ]
     },
     "metadata": {},
     "output_type": "display_data"
    },
    {
     "name": "stdout",
     "output_type": "stream",
     "text": [
      "                                                                                          \r"
     ]
    },
    {
     "data": {
      "text/html": [
       "feature selected by lasso:"
      ],
      "text/plain": [
       "<IPython.core.display.HTML object>"
      ]
     },
     "metadata": {},
     "output_type": "display_data"
    },
    {
     "name": "stdout",
     "output_type": "stream",
     "text": [
      "['age_0', 'children', 'smoker_0', 'smoker_1', 'sex_1', 'age_2', 'region', 'bmi']\n",
      "                                                                                          \r"
     ]
    },
    {
     "data": {
      "text/html": [
       "Total time taken by feature selection: 0.83 sec  "
      ],
      "text/plain": [
       "<IPython.core.display.HTML object>"
      ]
     },
     "metadata": {},
     "output_type": "display_data"
    },
    {
     "name": "stdout",
     "output_type": "stream",
     "text": [
      "                                                                                          \r"
     ]
    },
    {
     "data": {
      "text/html": [
       "\n",
       "scaling Features of lasso data ..."
      ],
      "text/plain": [
       "<IPython.core.display.HTML object>"
      ]
     },
     "metadata": {},
     "output_type": "display_data"
    },
    {
     "name": "stdout",
     "output_type": "stream",
     "text": [
      "                                                                                          \r"
     ]
    },
    {
     "data": {
      "text/html": [
       "columns that will be scaled: "
      ],
      "text/plain": [
       "<IPython.core.display.HTML object>"
      ]
     },
     "metadata": {},
     "output_type": "display_data"
    },
    {
     "name": "stdout",
     "output_type": "stream",
     "text": [
      "['children', 'region', 'bmi']\n",
      "                                                                                          \r"
     ]
    },
    {
     "data": {
      "text/html": [
       "Training dataset sample after scaling:"
      ],
      "text/plain": [
       "<IPython.core.display.HTML object>"
      ]
     },
     "metadata": {},
     "output_type": "display_data"
    },
    {
     "data": {
      "text/html": [
       "<style type=\"text/css\">\n",
       "\ttable {border:ridge 5px;}\n",
       "\ttable td {border:inset 1px;}\n",
       "\ttable tr#HeaderRow {background-color:grey; color:white;}</style>\n",
       "<html><table>\n",
       "\t<tr id=\"HeaderRow\">\n",
       "\t\t<th>age_0</th>\n",
       "\t\t<th>charges</th>\n",
       "\t\t<th>smoker_0</th>\n",
       "\t\t<th>smoker_1</th>\n",
       "\t\t<th>sex_1</th>\n",
       "\t\t<th>age_2</th>\n",
       "\t\t<th>id</th>\n",
       "\t\t<th>children</th>\n",
       "\t\t<th>region</th>\n",
       "\t\t<th>bmi</th>\n",
       "\t</tr>\n",
       "\t<tr>\n",
       "\t\t<td>0</td>\n",
       "\t\t<td>6496.886</td>\n",
       "\t\t<td>1</td>\n",
       "\t\t<td>0</td>\n",
       "\t\t<td>0</td>\n",
       "\t\t<td>0</td>\n",
       "\t\t<td>10</td>\n",
       "\t\t<td>-0.6</td>\n",
       "\t\t<td>-0.9999999999999991</td>\n",
       "\t\t<td>-0.29280106898279606</td>\n",
       "\t</tr>\n",
       "\t<tr>\n",
       "\t\t<td>0</td>\n",
       "\t\t<td>6457.8434</td>\n",
       "\t\t<td>1</td>\n",
       "\t\t<td>0</td>\n",
       "\t\t<td>1</td>\n",
       "\t\t<td>0</td>\n",
       "\t\t<td>12</td>\n",
       "\t\t<td>-0.2</td>\n",
       "\t\t<td>-0.9750154268982524</td>\n",
       "\t\t<td>-0.16853181894103875</td>\n",
       "\t</tr>\n",
       "\t<tr>\n",
       "\t\t<td>0</td>\n",
       "\t\t<td>8601.3293</td>\n",
       "\t\t<td>1</td>\n",
       "\t\t<td>0</td>\n",
       "\t\t<td>0</td>\n",
       "\t\t<td>1</td>\n",
       "\t\t<td>13</td>\n",
       "\t\t<td>-1.0</td>\n",
       "\t\t<td>1.0000000000000009</td>\n",
       "\t\t<td>-0.3081676966761314</td>\n",
       "\t</tr>\n",
       "\t<tr>\n",
       "\t\t<td>1</td>\n",
       "\t\t<td>32734.1863</td>\n",
       "\t\t<td>0</td>\n",
       "\t\t<td>1</td>\n",
       "\t\t<td>0</td>\n",
       "\t\t<td>0</td>\n",
       "\t\t<td>15</td>\n",
       "\t\t<td>-0.2</td>\n",
       "\t\t<td>-0.9750154268982524</td>\n",
       "\t\t<td>-0.9365291464840487</td>\n",
       "\t</tr>\n",
       "\t<tr>\n",
       "\t\t<td>0</td>\n",
       "\t\t<td>35491.64</td>\n",
       "\t\t<td>0</td>\n",
       "\t\t<td>1</td>\n",
       "\t\t<td>1</td>\n",
       "\t\t<td>0</td>\n",
       "\t\t<td>17</td>\n",
       "\t\t<td>-1.0</td>\n",
       "\t\t<td>-0.9999999999999991</td>\n",
       "\t\t<td>-0.06564222482044417</td>\n",
       "\t</tr>\n",
       "\t<tr>\n",
       "\t\t<td>0</td>\n",
       "\t\t<td>6067.1268</td>\n",
       "\t\t<td>1</td>\n",
       "\t\t<td>0</td>\n",
       "\t\t<td>1</td>\n",
       "\t\t<td>0</td>\n",
       "\t\t<td>20</td>\n",
       "\t\t<td>-0.6</td>\n",
       "\t\t<td>-0.22358449704239547</td>\n",
       "\t\t<td>-0.25104392851177554</td>\n",
       "\t</tr>\n",
       "\t<tr>\n",
       "\t\t<td>1</td>\n",
       "\t\t<td>2904.088</td>\n",
       "\t\t<td>1</td>\n",
       "\t\t<td>0</td>\n",
       "\t\t<td>1</td>\n",
       "\t\t<td>0</td>\n",
       "\t\t<td>16</td>\n",
       "\t\t<td>-0.6</td>\n",
       "\t\t<td>-0.9999999999999991</td>\n",
       "\t\t<td>-0.11909136462335052</td>\n",
       "\t</tr>\n",
       "\t<tr>\n",
       "\t\t<td>1</td>\n",
       "\t\t<td>13844.506</td>\n",
       "\t\t<td>0</td>\n",
       "\t\t<td>1</td>\n",
       "\t\t<td>0</td>\n",
       "\t\t<td>0</td>\n",
       "\t\t<td>11</td>\n",
       "\t\t<td>-1.0</td>\n",
       "\t\t<td>-0.9999999999999991</td>\n",
       "\t\t<td>-0.6736261900785034</td>\n",
       "\t</tr>\n",
       "\t<tr>\n",
       "\t\t<td>0</td>\n",
       "\t\t<td>18972.495</td>\n",
       "\t\t<td>0</td>\n",
       "\t\t<td>1</td>\n",
       "\t\t<td>1</td>\n",
       "\t\t<td>0</td>\n",
       "\t\t<td>9</td>\n",
       "\t\t<td>-0.2</td>\n",
       "\t\t<td>1.0000000000000009</td>\n",
       "\t\t<td>-0.433105060965425</td>\n",
       "\t</tr>\n",
       "\t<tr>\n",
       "\t\t<td>1</td>\n",
       "\t\t<td>2897.3235</td>\n",
       "\t\t<td>1</td>\n",
       "\t\t<td>0</td>\n",
       "\t\t<td>1</td>\n",
       "\t\t<td>0</td>\n",
       "\t\t<td>8</td>\n",
       "\t\t<td>-1.0</td>\n",
       "\t\t<td>-0.22358449704239547</td>\n",
       "\t\t<td>-0.15583764823784865</td>\n",
       "\t</tr>\n",
       "</table></html>"
      ],
      "text/plain": [
       "   age_0     charges  smoker_0  smoker_1  sex_1  age_2  id  children    region       bmi\n",
       "0      0   6496.8860         1         0      0      0  10      -0.6 -1.000000 -0.292801\n",
       "1      0   6457.8434         1         0      1      0  12      -0.2 -0.975015 -0.168532\n",
       "2      0   8601.3293         1         0      0      1  13      -1.0  1.000000 -0.308168\n",
       "3      1  32734.1863         0         1      0      0  15      -0.2 -0.975015 -0.936529\n",
       "4      0  35491.6400         0         1      1      0  17      -1.0 -1.000000 -0.065642\n",
       "5      0   6067.1268         1         0      1      0  20      -0.6 -0.223584 -0.251044\n",
       "6      1   2904.0880         1         0      1      0  16      -0.6 -1.000000 -0.119091\n",
       "7      1  13844.5060         0         1      0      0  11      -1.0 -1.000000 -0.673626\n",
       "8      0  18972.4950         0         1      1      0   9      -0.2  1.000000 -0.433105\n",
       "9      1   2897.3235         1         0      1      0   8      -1.0 -0.223584 -0.155838"
      ]
     },
     "metadata": {},
     "output_type": "display_data"
    },
    {
     "name": "stdout",
     "output_type": "stream",
     "text": [
      "                                                                                          \r"
     ]
    },
    {
     "data": {
      "text/html": [
       "957 rows X 10 columns"
      ],
      "text/plain": [
       "<IPython.core.display.HTML object>"
      ]
     },
     "metadata": {},
     "output_type": "display_data"
    },
    {
     "name": "stdout",
     "output_type": "stream",
     "text": [
      "                                                                                          \r"
     ]
    },
    {
     "data": {
      "text/html": [
       "Testing dataset sample after scaling:"
      ],
      "text/plain": [
       "<IPython.core.display.HTML object>"
      ]
     },
     "metadata": {},
     "output_type": "display_data"
    },
    {
     "data": {
      "text/html": [
       "<style type=\"text/css\">\n",
       "\ttable {border:ridge 5px;}\n",
       "\ttable td {border:inset 1px;}\n",
       "\ttable tr#HeaderRow {background-color:grey; color:white;}</style>\n",
       "<html><table>\n",
       "\t<tr id=\"HeaderRow\">\n",
       "\t\t<th>age_0</th>\n",
       "\t\t<th>charges</th>\n",
       "\t\t<th>smoker_0</th>\n",
       "\t\t<th>smoker_1</th>\n",
       "\t\t<th>sex_1</th>\n",
       "\t\t<th>age_2</th>\n",
       "\t\t<th>id</th>\n",
       "\t\t<th>children</th>\n",
       "\t\t<th>region</th>\n",
       "\t\t<th>bmi</th>\n",
       "\t</tr>\n",
       "\t<tr>\n",
       "\t\t<td>0</td>\n",
       "\t\t<td>19214.7055</td>\n",
       "\t\t<td>1</td>\n",
       "\t\t<td>0</td>\n",
       "\t\t<td>1</td>\n",
       "\t\t<td>0</td>\n",
       "\t\t<td>754</td>\n",
       "\t\t<td>-1.0</td>\n",
       "\t\t<td>1.0000000000000009</td>\n",
       "\t\t<td>0.2944713546016368</td>\n",
       "\t</tr>\n",
       "\t<tr>\n",
       "\t\t<td>0</td>\n",
       "\t\t<td>7046.7222</td>\n",
       "\t\t<td>1</td>\n",
       "\t\t<td>0</td>\n",
       "\t\t<td>0</td>\n",
       "\t\t<td>0</td>\n",
       "\t\t<td>1230</td>\n",
       "\t\t<td>-0.6</td>\n",
       "\t\t<td>1.0000000000000009</td>\n",
       "\t\t<td>-0.3743110071822281</td>\n",
       "\t</tr>\n",
       "\t<tr>\n",
       "\t\t<td>1</td>\n",
       "\t\t<td>5138.2567</td>\n",
       "\t\t<td>1</td>\n",
       "\t\t<td>0</td>\n",
       "\t\t<td>0</td>\n",
       "\t\t<td>0</td>\n",
       "\t\t<td>364</td>\n",
       "\t\t<td>0.2</td>\n",
       "\t\t<td>1.0000000000000009</td>\n",
       "\t\t<td>0.47085351595122765</td>\n",
       "\t</tr>\n",
       "\t<tr>\n",
       "\t\t<td>0</td>\n",
       "\t\t<td>15820.699</td>\n",
       "\t\t<td>0</td>\n",
       "\t\t<td>1</td>\n",
       "\t\t<td>1</td>\n",
       "\t\t<td>0</td>\n",
       "\t\t<td>84</td>\n",
       "\t\t<td>-1.0</td>\n",
       "\t\t<td>-0.9999999999999991</td>\n",
       "\t\t<td>-0.8339736094872222</td>\n",
       "\t</tr>\n",
       "\t<tr>\n",
       "\t\t<td>0</td>\n",
       "\t\t<td>5472.449</td>\n",
       "\t\t<td>1</td>\n",
       "\t\t<td>0</td>\n",
       "\t\t<td>0</td>\n",
       "\t\t<td>0</td>\n",
       "\t\t<td>206</td>\n",
       "\t\t<td>-0.6</td>\n",
       "\t\t<td>-0.9999999999999991</td>\n",
       "\t\t<td>-0.3930182061132454</td>\n",
       "\t</tr>\n",
       "\t<tr>\n",
       "\t\t<td>1</td>\n",
       "\t\t<td>37484.4493</td>\n",
       "\t\t<td>0</td>\n",
       "\t\t<td>1</td>\n",
       "\t\t<td>1</td>\n",
       "\t\t<td>0</td>\n",
       "\t\t<td>442</td>\n",
       "\t\t<td>-0.2</td>\n",
       "\t\t<td>1.0000000000000009</td>\n",
       "\t\t<td>0.3532654083848339</td>\n",
       "\t</tr>\n",
       "\t<tr>\n",
       "\t\t<td>1</td>\n",
       "\t\t<td>4779.6023</td>\n",
       "\t\t<td>1</td>\n",
       "\t\t<td>0</td>\n",
       "\t\t<td>0</td>\n",
       "\t\t<td>0</td>\n",
       "\t\t<td>417</td>\n",
       "\t\t<td>-0.6</td>\n",
       "\t\t<td>1.0000000000000009</td>\n",
       "\t\t<td>-0.23467512944713542</td>\n",
       "\t</tr>\n",
       "\t<tr>\n",
       "\t\t<td>0</td>\n",
       "\t\t<td>13831.1152</td>\n",
       "\t\t<td>1</td>\n",
       "\t\t<td>0</td>\n",
       "\t\t<td>1</td>\n",
       "\t\t<td>1</td>\n",
       "\t\t<td>289</td>\n",
       "\t\t<td>-1.0</td>\n",
       "\t\t<td>1.0000000000000009</td>\n",
       "\t\t<td>0.5810923667947218</td>\n",
       "\t</tr>\n",
       "\t<tr>\n",
       "\t\t<td>0</td>\n",
       "\t\t<td>9386.1613</td>\n",
       "\t\t<td>1</td>\n",
       "\t\t<td>0</td>\n",
       "\t\t<td>1</td>\n",
       "\t\t<td>1</td>\n",
       "\t\t<td>247</td>\n",
       "\t\t<td>-0.6</td>\n",
       "\t\t<td>1.0000000000000009</td>\n",
       "\t\t<td>0.27977284115583767</td>\n",
       "\t</tr>\n",
       "\t<tr>\n",
       "\t\t<td>0</td>\n",
       "\t\t<td>37742.5757</td>\n",
       "\t\t<td>0</td>\n",
       "\t\t<td>1</td>\n",
       "\t\t<td>1</td>\n",
       "\t\t<td>0</td>\n",
       "\t\t<td>214</td>\n",
       "\t\t<td>-1.0</td>\n",
       "\t\t<td>1.0000000000000009</td>\n",
       "\t\t<td>0.17688324703524308</td>\n",
       "\t</tr>\n",
       "</table></html>"
      ],
      "text/plain": [
       "   age_0     charges  smoker_0  smoker_1  sex_1  age_2    id  children  region       bmi\n",
       "0      0  19214.7055         1         0      1      0   754      -1.0     1.0  0.294471\n",
       "1      0   7046.7222         1         0      0      0  1230      -0.6     1.0 -0.374311\n",
       "2      1   5138.2567         1         0      0      0   364       0.2     1.0  0.470854\n",
       "3      0  15820.6990         0         1      1      0    84      -1.0    -1.0 -0.833974\n",
       "4      0   5472.4490         1         0      0      0   206      -0.6    -1.0 -0.393018\n",
       "5      1  37484.4493         0         1      1      0   442      -0.2     1.0  0.353265\n",
       "6      1   4779.6023         1         0      0      0   417      -0.6     1.0 -0.234675\n",
       "7      0  13831.1152         1         0      1      1   289      -1.0     1.0  0.581092\n",
       "8      0   9386.1613         1         0      1      1   247      -0.6     1.0  0.279773\n",
       "9      0  37742.5757         0         1      1      0   214      -1.0     1.0  0.176883"
      ]
     },
     "metadata": {},
     "output_type": "display_data"
    },
    {
     "name": "stdout",
     "output_type": "stream",
     "text": [
      "                                                                                          \r"
     ]
    },
    {
     "data": {
      "text/html": [
       "107 rows X 10 columns"
      ],
      "text/plain": [
       "<IPython.core.display.HTML object>"
      ]
     },
     "metadata": {},
     "output_type": "display_data"
    },
    {
     "name": "stdout",
     "output_type": "stream",
     "text": [
      "                                                                                          \r"
     ]
    },
    {
     "data": {
      "text/html": [
       "Total time taken by feature scaling: 42.55 sec"
      ],
      "text/plain": [
       "<IPython.core.display.HTML object>"
      ]
     },
     "metadata": {},
     "output_type": "display_data"
    },
    {
     "name": "stdout",
     "output_type": "stream",
     "text": [
      "                                                                                          \r"
     ]
    },
    {
     "data": {
      "text/html": [
       "\n",
       "Feature selection using rfe ..."
      ],
      "text/plain": [
       "<IPython.core.display.HTML object>"
      ]
     },
     "metadata": {},
     "output_type": "display_data"
    },
    {
     "name": "stdout",
     "output_type": "stream",
     "text": [
      "                                                                                          \r"
     ]
    },
    {
     "data": {
      "text/html": [
       "feature selected by RFE:"
      ],
      "text/plain": [
       "<IPython.core.display.HTML object>"
      ]
     },
     "metadata": {},
     "output_type": "display_data"
    },
    {
     "name": "stdout",
     "output_type": "stream",
     "text": [
      "['age_1', 'age_0', 'children', 'smoker_0', 'smoker_1', 'age_2', 'sex_0', 'region', 'bmi']\n",
      "                                                                                          \r"
     ]
    },
    {
     "data": {
      "text/html": [
       "Total time taken by feature selection: 17.40 sec  "
      ],
      "text/plain": [
       "<IPython.core.display.HTML object>"
      ]
     },
     "metadata": {},
     "output_type": "display_data"
    },
    {
     "name": "stdout",
     "output_type": "stream",
     "text": [
      "                                                                                          \r"
     ]
    },
    {
     "data": {
      "text/html": [
       "\n",
       "scaling Features of rfe data ..."
      ],
      "text/plain": [
       "<IPython.core.display.HTML object>"
      ]
     },
     "metadata": {},
     "output_type": "display_data"
    },
    {
     "name": "stdout",
     "output_type": "stream",
     "text": [
      "                                                                                          \r"
     ]
    },
    {
     "data": {
      "text/html": [
       "columns that will be scaled: "
      ],
      "text/plain": [
       "<IPython.core.display.HTML object>"
      ]
     },
     "metadata": {},
     "output_type": "display_data"
    },
    {
     "name": "stdout",
     "output_type": "stream",
     "text": [
      "['r_children', 'r_region', 'r_bmi']\n",
      "                                                                                          \r"
     ]
    },
    {
     "data": {
      "text/html": [
       "Training dataset sample after scaling:"
      ],
      "text/plain": [
       "<IPython.core.display.HTML object>"
      ]
     },
     "metadata": {},
     "output_type": "display_data"
    },
    {
     "data": {
      "text/html": [
       "<style type=\"text/css\">\n",
       "\ttable {border:ridge 5px;}\n",
       "\ttable td {border:inset 1px;}\n",
       "\ttable tr#HeaderRow {background-color:grey; color:white;}</style>\n",
       "<html><table>\n",
       "\t<tr id=\"HeaderRow\">\n",
       "\t\t<th>r_age_0</th>\n",
       "\t\t<th>r_smoker_0</th>\n",
       "\t\t<th>r_smoker_1</th>\n",
       "\t\t<th>r_age_2</th>\n",
       "\t\t<th>charges</th>\n",
       "\t\t<th>r_sex_0</th>\n",
       "\t\t<th>r_age_1</th>\n",
       "\t\t<th>id</th>\n",
       "\t\t<th>r_children</th>\n",
       "\t\t<th>r_region</th>\n",
       "\t\t<th>r_bmi</th>\n",
       "\t</tr>\n",
       "\t<tr>\n",
       "\t\t<td>0</td>\n",
       "\t\t<td>1</td>\n",
       "\t\t<td>0</td>\n",
       "\t\t<td>0</td>\n",
       "\t\t<td>6496.886</td>\n",
       "\t\t<td>1</td>\n",
       "\t\t<td>1</td>\n",
       "\t\t<td>10</td>\n",
       "\t\t<td>-0.6</td>\n",
       "\t\t<td>-0.9999999999999991</td>\n",
       "\t\t<td>-0.29280106898279606</td>\n",
       "\t</tr>\n",
       "\t<tr>\n",
       "\t\t<td>0</td>\n",
       "\t\t<td>1</td>\n",
       "\t\t<td>0</td>\n",
       "\t\t<td>0</td>\n",
       "\t\t<td>6457.8434</td>\n",
       "\t\t<td>0</td>\n",
       "\t\t<td>1</td>\n",
       "\t\t<td>12</td>\n",
       "\t\t<td>-0.2</td>\n",
       "\t\t<td>-0.9750154268982524</td>\n",
       "\t\t<td>-0.16853181894103875</td>\n",
       "\t</tr>\n",
       "\t<tr>\n",
       "\t\t<td>0</td>\n",
       "\t\t<td>1</td>\n",
       "\t\t<td>0</td>\n",
       "\t\t<td>1</td>\n",
       "\t\t<td>8601.3293</td>\n",
       "\t\t<td>1</td>\n",
       "\t\t<td>0</td>\n",
       "\t\t<td>13</td>\n",
       "\t\t<td>-1.0</td>\n",
       "\t\t<td>1.0000000000000009</td>\n",
       "\t\t<td>-0.3081676966761314</td>\n",
       "\t</tr>\n",
       "\t<tr>\n",
       "\t\t<td>1</td>\n",
       "\t\t<td>0</td>\n",
       "\t\t<td>1</td>\n",
       "\t\t<td>0</td>\n",
       "\t\t<td>32734.1863</td>\n",
       "\t\t<td>1</td>\n",
       "\t\t<td>0</td>\n",
       "\t\t<td>15</td>\n",
       "\t\t<td>-0.2</td>\n",
       "\t\t<td>-0.9750154268982524</td>\n",
       "\t\t<td>-0.9365291464840487</td>\n",
       "\t</tr>\n",
       "\t<tr>\n",
       "\t\t<td>0</td>\n",
       "\t\t<td>0</td>\n",
       "\t\t<td>1</td>\n",
       "\t\t<td>0</td>\n",
       "\t\t<td>35491.64</td>\n",
       "\t\t<td>0</td>\n",
       "\t\t<td>1</td>\n",
       "\t\t<td>17</td>\n",
       "\t\t<td>-1.0</td>\n",
       "\t\t<td>-0.9999999999999991</td>\n",
       "\t\t<td>-0.06564222482044417</td>\n",
       "\t</tr>\n",
       "\t<tr>\n",
       "\t\t<td>0</td>\n",
       "\t\t<td>1</td>\n",
       "\t\t<td>0</td>\n",
       "\t\t<td>0</td>\n",
       "\t\t<td>6067.1268</td>\n",
       "\t\t<td>0</td>\n",
       "\t\t<td>1</td>\n",
       "\t\t<td>20</td>\n",
       "\t\t<td>-0.6</td>\n",
       "\t\t<td>-0.22358449704239547</td>\n",
       "\t\t<td>-0.25104392851177554</td>\n",
       "\t</tr>\n",
       "\t<tr>\n",
       "\t\t<td>1</td>\n",
       "\t\t<td>1</td>\n",
       "\t\t<td>0</td>\n",
       "\t\t<td>0</td>\n",
       "\t\t<td>2904.088</td>\n",
       "\t\t<td>0</td>\n",
       "\t\t<td>0</td>\n",
       "\t\t<td>16</td>\n",
       "\t\t<td>-0.6</td>\n",
       "\t\t<td>-0.9999999999999991</td>\n",
       "\t\t<td>-0.11909136462335052</td>\n",
       "\t</tr>\n",
       "\t<tr>\n",
       "\t\t<td>1</td>\n",
       "\t\t<td>0</td>\n",
       "\t\t<td>1</td>\n",
       "\t\t<td>0</td>\n",
       "\t\t<td>13844.506</td>\n",
       "\t\t<td>1</td>\n",
       "\t\t<td>0</td>\n",
       "\t\t<td>11</td>\n",
       "\t\t<td>-1.0</td>\n",
       "\t\t<td>-0.9999999999999991</td>\n",
       "\t\t<td>-0.6736261900785034</td>\n",
       "\t</tr>\n",
       "\t<tr>\n",
       "\t\t<td>0</td>\n",
       "\t\t<td>0</td>\n",
       "\t\t<td>1</td>\n",
       "\t\t<td>0</td>\n",
       "\t\t<td>18972.495</td>\n",
       "\t\t<td>0</td>\n",
       "\t\t<td>1</td>\n",
       "\t\t<td>9</td>\n",
       "\t\t<td>-0.2</td>\n",
       "\t\t<td>1.0000000000000009</td>\n",
       "\t\t<td>-0.433105060965425</td>\n",
       "\t</tr>\n",
       "\t<tr>\n",
       "\t\t<td>1</td>\n",
       "\t\t<td>1</td>\n",
       "\t\t<td>0</td>\n",
       "\t\t<td>0</td>\n",
       "\t\t<td>2897.3235</td>\n",
       "\t\t<td>0</td>\n",
       "\t\t<td>0</td>\n",
       "\t\t<td>8</td>\n",
       "\t\t<td>-1.0</td>\n",
       "\t\t<td>-0.22358449704239547</td>\n",
       "\t\t<td>-0.15583764823784865</td>\n",
       "\t</tr>\n",
       "</table></html>"
      ],
      "text/plain": [
       "   r_age_0  r_smoker_0  r_smoker_1  r_age_2     charges  r_sex_0  r_age_1  id  r_children  r_region     r_bmi\n",
       "0        0           1           0        0   6496.8860        1        1  10        -0.6 -1.000000 -0.292801\n",
       "1        0           1           0        0   6457.8434        0        1  12        -0.2 -0.975015 -0.168532\n",
       "2        0           1           0        1   8601.3293        1        0  13        -1.0  1.000000 -0.308168\n",
       "3        1           0           1        0  32734.1863        1        0  15        -0.2 -0.975015 -0.936529\n",
       "4        0           0           1        0  35491.6400        0        1  17        -1.0 -1.000000 -0.065642\n",
       "5        0           1           0        0   6067.1268        0        1  20        -0.6 -0.223584 -0.251044\n",
       "6        1           1           0        0   2904.0880        0        0  16        -0.6 -1.000000 -0.119091\n",
       "7        1           0           1        0  13844.5060        1        0  11        -1.0 -1.000000 -0.673626\n",
       "8        0           0           1        0  18972.4950        0        1   9        -0.2  1.000000 -0.433105\n",
       "9        1           1           0        0   2897.3235        0        0   8        -1.0 -0.223584 -0.155838"
      ]
     },
     "metadata": {},
     "output_type": "display_data"
    },
    {
     "name": "stdout",
     "output_type": "stream",
     "text": [
      "                                                                                          \r"
     ]
    },
    {
     "data": {
      "text/html": [
       "957 rows X 11 columns"
      ],
      "text/plain": [
       "<IPython.core.display.HTML object>"
      ]
     },
     "metadata": {},
     "output_type": "display_data"
    },
    {
     "name": "stdout",
     "output_type": "stream",
     "text": [
      "                                                                                          \r"
     ]
    },
    {
     "data": {
      "text/html": [
       "Testing dataset sample after scaling:"
      ],
      "text/plain": [
       "<IPython.core.display.HTML object>"
      ]
     },
     "metadata": {},
     "output_type": "display_data"
    },
    {
     "data": {
      "text/html": [
       "<style type=\"text/css\">\n",
       "\ttable {border:ridge 5px;}\n",
       "\ttable td {border:inset 1px;}\n",
       "\ttable tr#HeaderRow {background-color:grey; color:white;}</style>\n",
       "<html><table>\n",
       "\t<tr id=\"HeaderRow\">\n",
       "\t\t<th>r_age_0</th>\n",
       "\t\t<th>r_smoker_0</th>\n",
       "\t\t<th>r_smoker_1</th>\n",
       "\t\t<th>r_age_2</th>\n",
       "\t\t<th>charges</th>\n",
       "\t\t<th>r_sex_0</th>\n",
       "\t\t<th>r_age_1</th>\n",
       "\t\t<th>id</th>\n",
       "\t\t<th>r_children</th>\n",
       "\t\t<th>r_region</th>\n",
       "\t\t<th>r_bmi</th>\n",
       "\t</tr>\n",
       "\t<tr>\n",
       "\t\t<td>0</td>\n",
       "\t\t<td>1</td>\n",
       "\t\t<td>0</td>\n",
       "\t\t<td>0</td>\n",
       "\t\t<td>19214.7055</td>\n",
       "\t\t<td>0</td>\n",
       "\t\t<td>1</td>\n",
       "\t\t<td>754</td>\n",
       "\t\t<td>-1.0</td>\n",
       "\t\t<td>1.0000000000000009</td>\n",
       "\t\t<td>0.2944713546016368</td>\n",
       "\t</tr>\n",
       "\t<tr>\n",
       "\t\t<td>0</td>\n",
       "\t\t<td>1</td>\n",
       "\t\t<td>0</td>\n",
       "\t\t<td>0</td>\n",
       "\t\t<td>7046.7222</td>\n",
       "\t\t<td>1</td>\n",
       "\t\t<td>1</td>\n",
       "\t\t<td>1230</td>\n",
       "\t\t<td>-0.6</td>\n",
       "\t\t<td>1.0000000000000009</td>\n",
       "\t\t<td>-0.3743110071822281</td>\n",
       "\t</tr>\n",
       "\t<tr>\n",
       "\t\t<td>1</td>\n",
       "\t\t<td>1</td>\n",
       "\t\t<td>0</td>\n",
       "\t\t<td>0</td>\n",
       "\t\t<td>5138.2567</td>\n",
       "\t\t<td>1</td>\n",
       "\t\t<td>0</td>\n",
       "\t\t<td>364</td>\n",
       "\t\t<td>0.2</td>\n",
       "\t\t<td>1.0000000000000009</td>\n",
       "\t\t<td>0.47085351595122765</td>\n",
       "\t</tr>\n",
       "\t<tr>\n",
       "\t\t<td>0</td>\n",
       "\t\t<td>0</td>\n",
       "\t\t<td>1</td>\n",
       "\t\t<td>0</td>\n",
       "\t\t<td>15820.699</td>\n",
       "\t\t<td>0</td>\n",
       "\t\t<td>1</td>\n",
       "\t\t<td>84</td>\n",
       "\t\t<td>-1.0</td>\n",
       "\t\t<td>-0.9999999999999991</td>\n",
       "\t\t<td>-0.8339736094872222</td>\n",
       "\t</tr>\n",
       "\t<tr>\n",
       "\t\t<td>0</td>\n",
       "\t\t<td>1</td>\n",
       "\t\t<td>0</td>\n",
       "\t\t<td>0</td>\n",
       "\t\t<td>5472.449</td>\n",
       "\t\t<td>1</td>\n",
       "\t\t<td>1</td>\n",
       "\t\t<td>206</td>\n",
       "\t\t<td>-0.6</td>\n",
       "\t\t<td>-0.9999999999999991</td>\n",
       "\t\t<td>-0.3930182061132454</td>\n",
       "\t</tr>\n",
       "\t<tr>\n",
       "\t\t<td>1</td>\n",
       "\t\t<td>0</td>\n",
       "\t\t<td>1</td>\n",
       "\t\t<td>0</td>\n",
       "\t\t<td>37484.4493</td>\n",
       "\t\t<td>0</td>\n",
       "\t\t<td>0</td>\n",
       "\t\t<td>442</td>\n",
       "\t\t<td>-0.2</td>\n",
       "\t\t<td>1.0000000000000009</td>\n",
       "\t\t<td>0.3532654083848339</td>\n",
       "\t</tr>\n",
       "\t<tr>\n",
       "\t\t<td>1</td>\n",
       "\t\t<td>1</td>\n",
       "\t\t<td>0</td>\n",
       "\t\t<td>0</td>\n",
       "\t\t<td>4779.6023</td>\n",
       "\t\t<td>1</td>\n",
       "\t\t<td>0</td>\n",
       "\t\t<td>417</td>\n",
       "\t\t<td>-0.6</td>\n",
       "\t\t<td>1.0000000000000009</td>\n",
       "\t\t<td>-0.23467512944713542</td>\n",
       "\t</tr>\n",
       "\t<tr>\n",
       "\t\t<td>0</td>\n",
       "\t\t<td>1</td>\n",
       "\t\t<td>0</td>\n",
       "\t\t<td>1</td>\n",
       "\t\t<td>13831.1152</td>\n",
       "\t\t<td>0</td>\n",
       "\t\t<td>0</td>\n",
       "\t\t<td>289</td>\n",
       "\t\t<td>-1.0</td>\n",
       "\t\t<td>1.0000000000000009</td>\n",
       "\t\t<td>0.5810923667947218</td>\n",
       "\t</tr>\n",
       "\t<tr>\n",
       "\t\t<td>0</td>\n",
       "\t\t<td>1</td>\n",
       "\t\t<td>0</td>\n",
       "\t\t<td>1</td>\n",
       "\t\t<td>9386.1613</td>\n",
       "\t\t<td>0</td>\n",
       "\t\t<td>0</td>\n",
       "\t\t<td>247</td>\n",
       "\t\t<td>-0.6</td>\n",
       "\t\t<td>1.0000000000000009</td>\n",
       "\t\t<td>0.27977284115583767</td>\n",
       "\t</tr>\n",
       "\t<tr>\n",
       "\t\t<td>0</td>\n",
       "\t\t<td>0</td>\n",
       "\t\t<td>1</td>\n",
       "\t\t<td>0</td>\n",
       "\t\t<td>37742.5757</td>\n",
       "\t\t<td>0</td>\n",
       "\t\t<td>1</td>\n",
       "\t\t<td>214</td>\n",
       "\t\t<td>-1.0</td>\n",
       "\t\t<td>1.0000000000000009</td>\n",
       "\t\t<td>0.17688324703524308</td>\n",
       "\t</tr>\n",
       "</table></html>"
      ],
      "text/plain": [
       "   r_age_0  r_smoker_0  r_smoker_1  r_age_2     charges  r_sex_0  r_age_1    id  r_children  r_region     r_bmi\n",
       "0        0           1           0        0  19214.7055        0        1   754        -1.0       1.0  0.294471\n",
       "1        0           1           0        0   7046.7222        1        1  1230        -0.6       1.0 -0.374311\n",
       "2        1           1           0        0   5138.2567        1        0   364         0.2       1.0  0.470854\n",
       "3        0           0           1        0  15820.6990        0        1    84        -1.0      -1.0 -0.833974\n",
       "4        0           1           0        0   5472.4490        1        1   206        -0.6      -1.0 -0.393018\n",
       "5        1           0           1        0  37484.4493        0        0   442        -0.2       1.0  0.353265\n",
       "6        1           1           0        0   4779.6023        1        0   417        -0.6       1.0 -0.234675\n",
       "7        0           1           0        1  13831.1152        0        0   289        -1.0       1.0  0.581092\n",
       "8        0           1           0        1   9386.1613        0        0   247        -0.6       1.0  0.279773\n",
       "9        0           0           1        0  37742.5757        0        1   214        -1.0       1.0  0.176883"
      ]
     },
     "metadata": {},
     "output_type": "display_data"
    },
    {
     "name": "stdout",
     "output_type": "stream",
     "text": [
      "                                                                                          \r"
     ]
    },
    {
     "data": {
      "text/html": [
       "107 rows X 11 columns"
      ],
      "text/plain": [
       "<IPython.core.display.HTML object>"
      ]
     },
     "metadata": {},
     "output_type": "display_data"
    },
    {
     "name": "stdout",
     "output_type": "stream",
     "text": [
      "                                                                                          \r"
     ]
    },
    {
     "data": {
      "text/html": [
       "Total time taken by feature scaling: 45.07 sec"
      ],
      "text/plain": [
       "<IPython.core.display.HTML object>"
      ]
     },
     "metadata": {},
     "output_type": "display_data"
    },
    {
     "name": "stdout",
     "output_type": "stream",
     "text": [
      "                                                                                          \r"
     ]
    },
    {
     "data": {
      "text/html": [
       "\n",
       "scaling Features of pca data ..."
      ],
      "text/plain": [
       "<IPython.core.display.HTML object>"
      ]
     },
     "metadata": {},
     "output_type": "display_data"
    },
    {
     "name": "stdout",
     "output_type": "stream",
     "text": [
      "                                                                                          \r"
     ]
    },
    {
     "data": {
      "text/html": [
       "columns that will be scaled: "
      ],
      "text/plain": [
       "<IPython.core.display.HTML object>"
      ]
     },
     "metadata": {},
     "output_type": "display_data"
    },
    {
     "name": "stdout",
     "output_type": "stream",
     "text": [
      "['region', 'bmi', 'children']\n",
      "                                                                                          \r"
     ]
    },
    {
     "data": {
      "text/html": [
       "Training dataset sample after scaling:"
      ],
      "text/plain": [
       "<IPython.core.display.HTML object>"
      ]
     },
     "metadata": {},
     "output_type": "display_data"
    },
    {
     "data": {
      "text/html": [
       "<style type=\"text/css\">\n",
       "\ttable {border:ridge 5px;}\n",
       "\ttable td {border:inset 1px;}\n",
       "\ttable tr#HeaderRow {background-color:grey; color:white;}</style>\n",
       "<html><table>\n",
       "\t<tr id=\"HeaderRow\">\n",
       "\t\t<th>age_1</th>\n",
       "\t\t<th>age_0</th>\n",
       "\t\t<th>smoker_0</th>\n",
       "\t\t<th>charges</th>\n",
       "\t\t<th>smoker_1</th>\n",
       "\t\t<th>sex_1</th>\n",
       "\t\t<th>age_2</th>\n",
       "\t\t<th>sex_0</th>\n",
       "\t\t<th>id</th>\n",
       "\t\t<th>region</th>\n",
       "\t\t<th>bmi</th>\n",
       "\t\t<th>children</th>\n",
       "\t</tr>\n",
       "\t<tr>\n",
       "\t\t<td>0</td>\n",
       "\t\t<td>1</td>\n",
       "\t\t<td>1</td>\n",
       "\t\t<td>4686.3887</td>\n",
       "\t\t<td>0</td>\n",
       "\t\t<td>1</td>\n",
       "\t\t<td>0</td>\n",
       "\t\t<td>0</td>\n",
       "\t\t<td>39</td>\n",
       "\t\t<td>1.0000000000000009</td>\n",
       "\t\t<td>0.9853014865542009</td>\n",
       "\t\t<td>-0.2</td>\n",
       "\t</tr>\n",
       "\t<tr>\n",
       "\t\t<td>1</td>\n",
       "\t\t<td>0</td>\n",
       "\t\t<td>0</td>\n",
       "\t\t<td>19444.2658</td>\n",
       "\t\t<td>1</td>\n",
       "\t\t<td>0</td>\n",
       "\t\t<td>0</td>\n",
       "\t\t<td>1</td>\n",
       "\t\t<td>50</td>\n",
       "\t\t<td>1.0000000000000009</td>\n",
       "\t\t<td>-0.6388842492066144</td>\n",
       "\t\t<td>-0.2</td>\n",
       "\t</tr>\n",
       "\t<tr>\n",
       "\t\t<td>1</td>\n",
       "\t\t<td>0</td>\n",
       "\t\t<td>1</td>\n",
       "\t\t<td>5002.7827</td>\n",
       "\t\t<td>0</td>\n",
       "\t\t<td>0</td>\n",
       "\t\t<td>0</td>\n",
       "\t\t<td>1</td>\n",
       "\t\t<td>57</td>\n",
       "\t\t<td>1.0000000000000009</td>\n",
       "\t\t<td>-0.33756472356773</td>\n",
       "\t\t<td>-0.6</td>\n",
       "\t</tr>\n",
       "\t<tr>\n",
       "\t\t<td>1</td>\n",
       "\t\t<td>0</td>\n",
       "\t\t<td>1</td>\n",
       "\t\t<td>7682.67</td>\n",
       "\t\t<td>0</td>\n",
       "\t\t<td>0</td>\n",
       "\t\t<td>0</td>\n",
       "\t\t<td>1</td>\n",
       "\t\t<td>58</td>\n",
       "\t\t<td>1.0000000000000009</td>\n",
       "\t\t<td>0.0813429096375481</td>\n",
       "\t\t<td>0.2</td>\n",
       "\t</tr>\n",
       "\t<tr>\n",
       "\t\t<td>0</td>\n",
       "\t\t<td>1</td>\n",
       "\t\t<td>1</td>\n",
       "\t\t<td>2902.9065</td>\n",
       "\t\t<td>0</td>\n",
       "\t\t<td>1</td>\n",
       "\t\t<td>0</td>\n",
       "\t\t<td>0</td>\n",
       "\t\t<td>72</td>\n",
       "\t\t<td>1.0000000000000009</td>\n",
       "\t\t<td>-0.17588107566393857</td>\n",
       "\t\t<td>-0.6</td>\n",
       "\t</tr>\n",
       "\t<tr>\n",
       "\t\t<td>0</td>\n",
       "\t\t<td>0</td>\n",
       "\t\t<td>1</td>\n",
       "\t\t<td>8124.4084</td>\n",
       "\t\t<td>0</td>\n",
       "\t\t<td>1</td>\n",
       "\t\t<td>1</td>\n",
       "\t\t<td>0</td>\n",
       "\t\t<td>77</td>\n",
       "\t\t<td>1.0000000000000009</td>\n",
       "\t\t<td>0.27242358443293807</td>\n",
       "\t\t<td>-1.0</td>\n",
       "\t</tr>\n",
       "\t<tr>\n",
       "\t\t<td>0</td>\n",
       "\t\t<td>1</td>\n",
       "\t\t<td>1</td>\n",
       "\t\t<td>6334.34355</td>\n",
       "\t\t<td>0</td>\n",
       "\t\t<td>0</td>\n",
       "\t\t<td>0</td>\n",
       "\t\t<td>1</td>\n",
       "\t\t<td>23</td>\n",
       "\t\t<td>-0.2235844765744289</td>\n",
       "\t\t<td>0.3582762652413566</td>\n",
       "\t\t<td>0.2</td>\n",
       "\t</tr>\n",
       "\t<tr>\n",
       "\t\t<td>1</td>\n",
       "\t\t<td>0</td>\n",
       "\t\t<td>1</td>\n",
       "\t\t<td>7133.9025</td>\n",
       "\t\t<td>0</td>\n",
       "\t\t<td>0</td>\n",
       "\t\t<td>0</td>\n",
       "\t\t<td>1</td>\n",
       "\t\t<td>28</td>\n",
       "\t\t<td>-0.2235844765744289</td>\n",
       "\t\t<td>-0.7905461833973609</td>\n",
       "\t\t<td>-0.2</td>\n",
       "\t</tr>\n",
       "\t<tr>\n",
       "\t\t<td>1</td>\n",
       "\t\t<td>0</td>\n",
       "\t\t<td>1</td>\n",
       "\t\t<td>4518.82625</td>\n",
       "\t\t<td>0</td>\n",
       "\t\t<td>1</td>\n",
       "\t\t<td>0</td>\n",
       "\t\t<td>0</td>\n",
       "\t\t<td>41</td>\n",
       "\t\t<td>-0.2235844765744289</td>\n",
       "\t\t<td>0.19325204609988297</td>\n",
       "\t\t<td>-1.0</td>\n",
       "\t</tr>\n",
       "\t<tr>\n",
       "\t\t<td>0</td>\n",
       "\t\t<td>1</td>\n",
       "\t\t<td>1</td>\n",
       "\t\t<td>3490.5491</td>\n",
       "\t\t<td>0</td>\n",
       "\t\t<td>1</td>\n",
       "\t\t<td>0</td>\n",
       "\t\t<td>0</td>\n",
       "\t\t<td>48</td>\n",
       "\t\t<td>-0.2235844765744289</td>\n",
       "\t\t<td>0.04726908301319547</td>\n",
       "\t\t<td>-0.6</td>\n",
       "\t</tr>\n",
       "</table></html>"
      ],
      "text/plain": [
       "   age_1  age_0  smoker_0      charges  smoker_1  sex_1  age_2  sex_0  id    region       bmi  children\n",
       "0      0      1         1   4686.38870         0      1      0      0  39  1.000000  0.985301      -0.2\n",
       "1      1      0         0  19444.26580         1      0      0      1  50  1.000000 -0.638884      -0.2\n",
       "2      1      0         1   5002.78270         0      0      0      1  57  1.000000 -0.337565      -0.6\n",
       "3      1      0         1   7682.67000         0      0      0      1  58  1.000000  0.081343       0.2\n",
       "4      0      1         1   2902.90650         0      1      0      0  72  1.000000 -0.175881      -0.6\n",
       "5      0      0         1   8124.40840         0      1      1      0  77  1.000000  0.272424      -1.0\n",
       "6      0      1         1   6334.34355         0      0      0      1  23 -0.223584  0.358276       0.2\n",
       "7      1      0         1   7133.90250         0      0      0      1  28 -0.223584 -0.790546      -0.2\n",
       "8      1      0         1   4518.82625         0      1      0      0  41 -0.223584  0.193252      -1.0\n",
       "9      0      1         1   3490.54910         0      1      0      0  48 -0.223584  0.047269      -0.6"
      ]
     },
     "metadata": {},
     "output_type": "display_data"
    },
    {
     "name": "stdout",
     "output_type": "stream",
     "text": [
      "                                                                                          \r"
     ]
    },
    {
     "data": {
      "text/html": [
       "957 rows X 12 columns"
      ],
      "text/plain": [
       "<IPython.core.display.HTML object>"
      ]
     },
     "metadata": {},
     "output_type": "display_data"
    },
    {
     "name": "stdout",
     "output_type": "stream",
     "text": [
      "                                                                                          \r"
     ]
    },
    {
     "data": {
      "text/html": [
       "Testing dataset sample after scaling:"
      ],
      "text/plain": [
       "<IPython.core.display.HTML object>"
      ]
     },
     "metadata": {},
     "output_type": "display_data"
    },
    {
     "data": {
      "text/html": [
       "<style type=\"text/css\">\n",
       "\ttable {border:ridge 5px;}\n",
       "\ttable td {border:inset 1px;}\n",
       "\ttable tr#HeaderRow {background-color:grey; color:white;}</style>\n",
       "<html><table>\n",
       "\t<tr id=\"HeaderRow\">\n",
       "\t\t<th>age_1</th>\n",
       "\t\t<th>age_0</th>\n",
       "\t\t<th>smoker_0</th>\n",
       "\t\t<th>charges</th>\n",
       "\t\t<th>smoker_1</th>\n",
       "\t\t<th>sex_1</th>\n",
       "\t\t<th>age_2</th>\n",
       "\t\t<th>sex_0</th>\n",
       "\t\t<th>id</th>\n",
       "\t\t<th>region</th>\n",
       "\t\t<th>bmi</th>\n",
       "\t\t<th>children</th>\n",
       "\t</tr>\n",
       "\t<tr>\n",
       "\t\t<td>0</td>\n",
       "\t\t<td>0</td>\n",
       "\t\t<td>1</td>\n",
       "\t\t<td>14235.072</td>\n",
       "\t\t<td>0</td>\n",
       "\t\t<td>0</td>\n",
       "\t\t<td>1</td>\n",
       "\t\t<td>1</td>\n",
       "\t\t<td>94</td>\n",
       "\t\t<td>-0.9999999999999991</td>\n",
       "\t\t<td>0.48889260063470874</td>\n",
       "\t\t<td>-0.2</td>\n",
       "\t</tr>\n",
       "\t<tr>\n",
       "\t\t<td>0</td>\n",
       "\t\t<td>0</td>\n",
       "\t\t<td>1</td>\n",
       "\t\t<td>10959.33</td>\n",
       "\t\t<td>0</td>\n",
       "\t\t<td>1</td>\n",
       "\t\t<td>1</td>\n",
       "\t\t<td>0</td>\n",
       "\t\t<td>186</td>\n",
       "\t\t<td>-0.9999999999999991</td>\n",
       "\t\t<td>-0.5400033405712377</td>\n",
       "\t\t<td>-1.0</td>\n",
       "\t</tr>\n",
       "\t<tr>\n",
       "\t\t<td>1</td>\n",
       "\t\t<td>0</td>\n",
       "\t\t<td>1</td>\n",
       "\t\t<td>5472.449</td>\n",
       "\t\t<td>0</td>\n",
       "\t\t<td>0</td>\n",
       "\t\t<td>0</td>\n",
       "\t\t<td>1</td>\n",
       "\t\t<td>206</td>\n",
       "\t\t<td>-0.9999999999999991</td>\n",
       "\t\t<td>-0.3930182061132454</td>\n",
       "\t\t<td>-0.6</td>\n",
       "\t</tr>\n",
       "\t<tr>\n",
       "\t\t<td>1</td>\n",
       "\t\t<td>0</td>\n",
       "\t\t<td>1</td>\n",
       "\t\t<td>6250.435</td>\n",
       "\t\t<td>0</td>\n",
       "\t\t<td>1</td>\n",
       "\t\t<td>0</td>\n",
       "\t\t<td>0</td>\n",
       "\t\t<td>256</td>\n",
       "\t\t<td>-0.9999999999999991</td>\n",
       "\t\t<td>-0.5734090529480541</td>\n",
       "\t\t<td>-1.0</td>\n",
       "\t</tr>\n",
       "\t<tr>\n",
       "\t\t<td>1</td>\n",
       "\t\t<td>0</td>\n",
       "\t\t<td>1</td>\n",
       "\t\t<td>6282.235</td>\n",
       "\t\t<td>0</td>\n",
       "\t\t<td>1</td>\n",
       "\t\t<td>0</td>\n",
       "\t\t<td>0</td>\n",
       "\t\t<td>261</td>\n",
       "\t\t<td>-0.9999999999999991</td>\n",
       "\t\t<td>-0.19926507432770993</td>\n",
       "\t\t<td>-0.6</td>\n",
       "\t</tr>\n",
       "\t<tr>\n",
       "\t\t<td>0</td>\n",
       "\t\t<td>1</td>\n",
       "\t\t<td>1</td>\n",
       "\t\t<td>4830.63</td>\n",
       "\t\t<td>0</td>\n",
       "\t\t<td>0</td>\n",
       "\t\t<td>0</td>\n",
       "\t\t<td>1</td>\n",
       "\t\t<td>336</td>\n",
       "\t\t<td>-0.9999999999999991</td>\n",
       "\t\t<td>0.3485886086520796</td>\n",
       "\t\t<td>1.0</td>\n",
       "\t</tr>\n",
       "\t<tr>\n",
       "\t\t<td>0</td>\n",
       "\t\t<td>1</td>\n",
       "\t\t<td>1</td>\n",
       "\t\t<td>2803.69785</td>\n",
       "\t\t<td>0</td>\n",
       "\t\t<td>1</td>\n",
       "\t\t<td>0</td>\n",
       "\t\t<td>0</td>\n",
       "\t\t<td>19</td>\n",
       "\t\t<td>-0.9750153816350485</td>\n",
       "\t\t<td>-0.7461165859361951</td>\n",
       "\t\t<td>-0.2</td>\n",
       "\t</tr>\n",
       "\t<tr>\n",
       "\t\t<td>0</td>\n",
       "\t\t<td>1</td>\n",
       "\t\t<td>0</td>\n",
       "\t\t<td>36219.40545</td>\n",
       "\t\t<td>1</td>\n",
       "\t\t<td>1</td>\n",
       "\t\t<td>0</td>\n",
       "\t\t<td>0</td>\n",
       "\t\t<td>91</td>\n",
       "\t\t<td>-0.9750153816350485</td>\n",
       "\t\t<td>0.345582094538166</td>\n",
       "\t\t<td>-1.0</td>\n",
       "\t</tr>\n",
       "\t<tr>\n",
       "\t\t<td>0</td>\n",
       "\t\t<td>0</td>\n",
       "\t\t<td>1</td>\n",
       "\t\t<td>10264.4421</td>\n",
       "\t\t<td>0</td>\n",
       "\t\t<td>1</td>\n",
       "\t\t<td>1</td>\n",
       "\t\t<td>0</td>\n",
       "\t\t<td>101</td>\n",
       "\t\t<td>-0.9750153816350485</td>\n",
       "\t\t<td>-0.2066143310506095</td>\n",
       "\t\t<td>0.2</td>\n",
       "\t</tr>\n",
       "\t<tr>\n",
       "\t\t<td>1</td>\n",
       "\t\t<td>0</td>\n",
       "\t\t<td>1</td>\n",
       "\t\t<td>6455.86265</td>\n",
       "\t\t<td>0</td>\n",
       "\t\t<td>1</td>\n",
       "\t\t<td>0</td>\n",
       "\t\t<td>0</td>\n",
       "\t\t<td>108</td>\n",
       "\t\t<td>-0.9750153816350485</td>\n",
       "\t\t<td>-0.26373809921496566</td>\n",
       "\t\t<td>-0.2</td>\n",
       "\t</tr>\n",
       "</table></html>"
      ],
      "text/plain": [
       "   age_1  age_0  smoker_0      charges  smoker_1  sex_1  age_2  sex_0   id    region       bmi  children\n",
       "0      0      0         1  14235.07200         0      0      1      1   94 -1.000000  0.488893      -0.2\n",
       "1      0      0         1  10959.33000         0      1      1      0  186 -1.000000 -0.540003      -1.0\n",
       "2      1      0         1   5472.44900         0      0      0      1  206 -1.000000 -0.393018      -0.6\n",
       "3      1      0         1   6250.43500         0      1      0      0  256 -1.000000 -0.573409      -1.0\n",
       "4      1      0         1   6282.23500         0      1      0      0  261 -1.000000 -0.199265      -0.6\n",
       "5      0      1         1   4830.63000         0      0      0      1  336 -1.000000  0.348589       1.0\n",
       "6      0      1         1   2803.69785         0      1      0      0   19 -0.975015 -0.746117      -0.2\n",
       "7      0      1         0  36219.40545         1      1      0      0   91 -0.975015  0.345582      -1.0\n",
       "8      0      0         1  10264.44210         0      1      1      0  101 -0.975015 -0.206614       0.2\n",
       "9      1      0         1   6455.86265         0      1      0      0  108 -0.975015 -0.263738      -0.2"
      ]
     },
     "metadata": {},
     "output_type": "display_data"
    },
    {
     "name": "stdout",
     "output_type": "stream",
     "text": [
      "                                                                                          \r"
     ]
    },
    {
     "data": {
      "text/html": [
       "107 rows X 12 columns"
      ],
      "text/plain": [
       "<IPython.core.display.HTML object>"
      ]
     },
     "metadata": {},
     "output_type": "display_data"
    },
    {
     "name": "stdout",
     "output_type": "stream",
     "text": [
      "                                                                                          \r"
     ]
    },
    {
     "data": {
      "text/html": [
       "Total time taken by feature scaling: 40.59 sec"
      ],
      "text/plain": [
       "<IPython.core.display.HTML object>"
      ]
     },
     "metadata": {},
     "output_type": "display_data"
    },
    {
     "name": "stdout",
     "output_type": "stream",
     "text": [
      "                                                                                          \r"
     ]
    },
    {
     "data": {
      "text/html": [
       "\n",
       "Dimension Reduction using pca ..."
      ],
      "text/plain": [
       "<IPython.core.display.HTML object>"
      ]
     },
     "metadata": {},
     "output_type": "display_data"
    },
    {
     "name": "stdout",
     "output_type": "stream",
     "text": [
      "                                                                                          \r"
     ]
    },
    {
     "data": {
      "text/html": [
       "PCA columns:"
      ],
      "text/plain": [
       "<IPython.core.display.HTML object>"
      ]
     },
     "metadata": {},
     "output_type": "display_data"
    },
    {
     "name": "stdout",
     "output_type": "stream",
     "text": [
      "['col_0', 'col_1', 'col_2', 'col_3', 'col_4', 'col_5', 'col_6']\n",
      "                                                                                          \r"
     ]
    },
    {
     "data": {
      "text/html": [
       "Total time taken by PCA: 10.78 sec  "
      ],
      "text/plain": [
       "<IPython.core.display.HTML object>"
      ]
     },
     "metadata": {},
     "output_type": "display_data"
    },
    {
     "name": "stdout",
     "output_type": "stream",
     "text": [
      "                                                                                          \r"
     ]
    },
    {
     "data": {
      "text/html": [
       "\n",
       "            <style>\n",
       "                .custom-div {\n",
       "                    background-color: lightgray;\n",
       "                    color: #000000;\n",
       "                    padding: 10px;\n",
       "                    border-radius: 8px;\n",
       "                    box-shadow: 0 3px 4px rgba(0 -  0 -  0 -  0.2);\n",
       "                    margin-bottom: 10px;\n",
       "                    text-align: center;\n",
       "                }\n",
       "            </style>\n",
       "        <br><div class=\"custom-div\"><h3><span style=\"color: green;\">1. Feature Exploration -> 2. Feature Engineering -> 3. Data Preparation -></span> 4. Model Training & Evaluation<center></h3></center></div>"
      ],
      "text/plain": [
       "<IPython.core.display.HTML object>"
      ]
     },
     "metadata": {},
     "output_type": "display_data"
    },
    {
     "name": "stdout",
     "output_type": "stream",
     "text": [
      "                                                                                          \r"
     ]
    },
    {
     "data": {
      "text/html": [
       "Model Training started ..."
      ],
      "text/plain": [
       "<IPython.core.display.HTML object>"
      ]
     },
     "metadata": {},
     "output_type": "display_data"
    },
    {
     "name": "stdout",
     "output_type": "stream",
     "text": [
      "                                                                                          \r"
     ]
    },
    {
     "data": {
      "text/html": [
       "\n",
       "Starting customized hyperparameter update ..."
      ],
      "text/plain": [
       "<IPython.core.display.HTML object>"
      ]
     },
     "metadata": {},
     "output_type": "display_data"
    },
    {
     "name": "stdout",
     "output_type": "stream",
     "text": [
      "                                                                                          \n",
      "Skipping customized hyperparameter tuning\n",
      "                                                                                          \r"
     ]
    },
    {
     "data": {
      "text/html": [
       "\n",
       "Hyperparameters used for model training: "
      ],
      "text/plain": [
       "<IPython.core.display.HTML object>"
      ]
     },
     "metadata": {},
     "output_type": "display_data"
    },
    {
     "name": "stdout",
     "output_type": "stream",
     "text": [
      "response_column : charges                                                                                                                             \n",
      "name : xgboost\n",
      "model_type : Regression\n",
      "column_sampling : (1, 0.6)\n",
      "min_impurity : (0.0, 0.1, 0.2)\n",
      "lambda1 : (0.01, 0.1, 1, 10)\n",
      "shrinkage_factor : (0.5, 0.1, 0.3)\n",
      "max_depth : (5, 6, 8, 10)\n",
      "min_node_size : (1, 2, 3)\n",
      "iter_num : (10, 20, 30)\n",
      "seed : 42\n",
      "Total number of models for xgboost : 2592\n",
      "--------------------------------------------------------------------------------------------------------------------------------------------------------------------------------------------------------\n",
      "\n",
      "response_column : charges\n",
      "name : knn\n",
      "model_type : Regression\n",
      "k : (3, 5, 6, 8, 10, 12)\n",
      "id_column : id\n",
      "voting_weight : 1.0\n",
      "Total number of models for knn : 6\n",
      "--------------------------------------------------------------------------------------------------------------------------------------------------------------------------------------------------------\n",
      "\n",
      "                                                                                          \r"
     ]
    },
    {
     "data": {
      "text/html": [
       "\n",
       "Performing hyperParameter tuning ..."
      ],
      "text/plain": [
       "<IPython.core.display.HTML object>"
      ]
     },
     "metadata": {},
     "output_type": "display_data"
    },
    {
     "name": "stdout",
     "output_type": "stream",
     "text": [
      "                                                                                          \r"
     ]
    },
    {
     "data": {
      "text/html": [
       "xgboost"
      ],
      "text/plain": [
       "<IPython.core.display.HTML object>"
      ]
     },
     "metadata": {},
     "output_type": "display_data"
    },
    {
     "name": "stdout",
     "output_type": "stream",
     "text": [
      "result data stored in table '\"ALICE\".\"ml__td_sqlmr_persist_out__1719267340111396\"'                                                                                                                      \n",
      "result data stored in table '\"ALICE\".\"ml__td_sqlmr_persist_out__1719269073743729\"'\n",
      "result data stored in table '\"ALICE\".\"ml__td_sqlmr_persist_out__1719267095194951\"'\n",
      "                                                                                          \r"
     ]
    },
    {
     "data": {
      "text/html": [
       "----------------------------------------------------------------------------------------------------"
      ],
      "text/plain": [
       "<IPython.core.display.HTML object>"
      ]
     },
     "metadata": {},
     "output_type": "display_data"
    },
    {
     "name": "stdout",
     "output_type": "stream",
     "text": [
      "                                                                                          \r"
     ]
    },
    {
     "data": {
      "text/html": [
       "knn"
      ],
      "text/plain": [
       "<IPython.core.display.HTML object>"
      ]
     },
     "metadata": {},
     "output_type": "display_data"
    },
    {
     "name": "stdout",
     "output_type": "stream",
     "text": [
      "result data stored in table '\"ALICE\".\"ml__td_sqlmr_persist_out__1719271187334060\"'                                                                                                                      \n",
      "result data stored in table '\"ALICE\".\"ml__td_sqlmr_persist_out__1719267140457241\"'\n",
      "result data stored in table '\"ALICE\".\"ml__td_sqlmr_persist_out__1719270361703130\"'\n",
      "                                                                                          \r"
     ]
    },
    {
     "data": {
      "text/html": [
       "----------------------------------------------------------------------------------------------------"
      ],
      "text/plain": [
       "<IPython.core.display.HTML object>"
      ]
     },
     "metadata": {},
     "output_type": "display_data"
    },
    {
     "name": "stdout",
     "output_type": "stream",
     "text": [
      "                                                                                          \r"
     ]
    },
    {
     "data": {
      "text/html": [
       "Evaluating models performance ..."
      ],
      "text/plain": [
       "<IPython.core.display.HTML object>"
      ]
     },
     "metadata": {},
     "output_type": "display_data"
    },
    {
     "name": "stdout",
     "output_type": "stream",
     "text": [
      "                                                                                          \r"
     ]
    },
    {
     "data": {
      "text/html": [
       "Evaluation completed."
      ],
      "text/plain": [
       "<IPython.core.display.HTML object>"
      ]
     },
     "metadata": {},
     "output_type": "display_data"
    },
    {
     "name": "stdout",
     "output_type": "stream",
     "text": [
      "                                                                                          \r"
     ]
    },
    {
     "data": {
      "text/html": [
       "Leaderboard"
      ],
      "text/plain": [
       "<IPython.core.display.HTML object>"
      ]
     },
     "metadata": {},
     "output_type": "display_data"
    },
    {
     "data": {
      "text/html": [
       "<div>\n",
       "<style scoped>\n",
       "    .dataframe tbody tr th:only-of-type {\n",
       "        vertical-align: middle;\n",
       "    }\n",
       "\n",
       "    .dataframe tbody tr th {\n",
       "        vertical-align: top;\n",
       "    }\n",
       "\n",
       "    .dataframe thead th {\n",
       "        text-align: right;\n",
       "    }\n",
       "</style>\n",
       "<table border=\"1\" class=\"dataframe\">\n",
       "  <thead>\n",
       "    <tr style=\"text-align: right;\">\n",
       "      <th></th>\n",
       "      <th>Rank</th>\n",
       "      <th>Model-ID</th>\n",
       "      <th>Feature-Selection</th>\n",
       "      <th>MAE</th>\n",
       "      <th>MSE</th>\n",
       "      <th>MSLE</th>\n",
       "      <th>RMSE</th>\n",
       "      <th>RMSLE</th>\n",
       "      <th>R2-score</th>\n",
       "      <th>Adjusted R2-score</th>\n",
       "    </tr>\n",
       "  </thead>\n",
       "  <tbody>\n",
       "    <tr>\n",
       "      <th>0</th>\n",
       "      <td>1</td>\n",
       "      <td>KNN_1</td>\n",
       "      <td>rfe</td>\n",
       "      <td>3552.115821</td>\n",
       "      <td>3.038980e+07</td>\n",
       "      <td>0.258922</td>\n",
       "      <td>5512.694527</td>\n",
       "      <td>0.508844</td>\n",
       "      <td>0.695150</td>\n",
       "      <td>0.666865</td>\n",
       "    </tr>\n",
       "    <tr>\n",
       "      <th>1</th>\n",
       "      <td>2</td>\n",
       "      <td>XGBOOST_1</td>\n",
       "      <td>rfe</td>\n",
       "      <td>3316.668464</td>\n",
       "      <td>3.143920e+07</td>\n",
       "      <td>0.284397</td>\n",
       "      <td>5607.066653</td>\n",
       "      <td>0.533288</td>\n",
       "      <td>0.684623</td>\n",
       "      <td>0.655361</td>\n",
       "    </tr>\n",
       "    <tr>\n",
       "      <th>2</th>\n",
       "      <td>3</td>\n",
       "      <td>XGBOOST_0</td>\n",
       "      <td>lasso</td>\n",
       "      <td>3587.948716</td>\n",
       "      <td>3.305547e+07</td>\n",
       "      <td>0.320372</td>\n",
       "      <td>5749.388936</td>\n",
       "      <td>0.566015</td>\n",
       "      <td>0.668410</td>\n",
       "      <td>0.641341</td>\n",
       "    </tr>\n",
       "    <tr>\n",
       "      <th>3</th>\n",
       "      <td>4</td>\n",
       "      <td>XGBOOST_2</td>\n",
       "      <td>pca</td>\n",
       "      <td>4676.902757</td>\n",
       "      <td>6.131188e+07</td>\n",
       "      <td>0.301497</td>\n",
       "      <td>7830.190155</td>\n",
       "      <td>0.549087</td>\n",
       "      <td>0.384961</td>\n",
       "      <td>0.341473</td>\n",
       "    </tr>\n",
       "  </tbody>\n",
       "</table>\n",
       "</div>"
      ],
      "text/plain": [
       "   Rank   Model-ID Feature-Selection          MAE           MSE      MSLE  \\\n",
       "0     1      KNN_1               rfe  3552.115821  3.038980e+07  0.258922   \n",
       "1     2  XGBOOST_1               rfe  3316.668464  3.143920e+07  0.284397   \n",
       "2     3  XGBOOST_0             lasso  3587.948716  3.305547e+07  0.320372   \n",
       "3     4  XGBOOST_2               pca  4676.902757  6.131188e+07  0.301497   \n",
       "\n",
       "          RMSE     RMSLE  R2-score  Adjusted R2-score  \n",
       "0  5512.694527  0.508844  0.695150           0.666865  \n",
       "1  5607.066653  0.533288  0.684623           0.655361  \n",
       "2  5749.388936  0.566015  0.668410           0.641341  \n",
       "3  7830.190155  0.549087  0.384961           0.341473  "
      ]
     },
     "metadata": {},
     "output_type": "display_data"
    },
    {
     "name": "stdout",
     "output_type": "stream",
     "text": [
      "                                                                                          \r"
     ]
    },
    {
     "data": {
      "text/html": [
       "4 rows X 10 columns"
      ],
      "text/plain": [
       "<IPython.core.display.HTML object>"
      ]
     },
     "metadata": {},
     "output_type": "display_data"
    },
    {
     "name": "stdout",
     "output_type": "stream",
     "text": [
      "                                                                                          \r"
     ]
    },
    {
     "data": {
      "text/html": [
       "\n",
       "            <style>\n",
       "                .custom-div {\n",
       "                    background-color: lightgray;\n",
       "                    color: #000000;\n",
       "                    padding: 10px;\n",
       "                    border-radius: 8px;\n",
       "                    box-shadow: 0 3px 4px rgba(0 -  0 -  0 -  0.2);\n",
       "                    margin-bottom: 10px;\n",
       "                    text-align: center;\n",
       "                }\n",
       "            </style>\n",
       "        <br><div class=\"custom-div\"><h3><span style=\"color: green;\">1. Feature Exploration -> 2. Feature Engineering -> 3. Data Preparation -> 4. Model Training & Evaluation</span><center></h3></center></div>"
      ],
      "text/plain": [
       "<IPython.core.display.HTML object>"
      ]
     },
     "metadata": {},
     "output_type": "display_data"
    },
    {
     "name": "stdout",
     "output_type": "stream",
     "text": [
      "Completed: ｜⫿⫿⫿⫿⫿⫿⫿⫿⫿⫿⫿⫿⫿⫿⫿⫿⫿⫿⫿⫿⫿⫿⫿⫿⫿⫿⫿⫿⫿⫿⫿⫿⫿⫿⫿⫿⫿⫿⫿⫿⫿⫿⫿⫿⫿⫿⫿⫿⫿⫿⫿⫿⫿⫿⫿⫿⫿⫿⫿⫿｜ 100% - 20/20    \r"
     ]
    }
   ],
   "source": [
    "# Fitting train data\n",
    "aml.fit(insurance_df_train, insurance_df_train.charges)"
   ]
  },
  {
   "cell_type": "markdown",
   "id": "23a04eb1-68e6-48b7-95aa-442f434809da",
   "metadata": {},
   "source": [
    "## <b><span style='color:#F1A424'>| 3.</span> Leaderboard : </b>"
   ]
  },
  {
   "cell_type": "code",
   "execution_count": 17,
   "id": "77de1099-6122-4f8a-8e7f-dd67e5b4ced4",
   "metadata": {},
   "outputs": [
    {
     "data": {
      "text/html": [
       "<div>\n",
       "<style scoped>\n",
       "    .dataframe tbody tr th:only-of-type {\n",
       "        vertical-align: middle;\n",
       "    }\n",
       "\n",
       "    .dataframe tbody tr th {\n",
       "        vertical-align: top;\n",
       "    }\n",
       "\n",
       "    .dataframe thead th {\n",
       "        text-align: right;\n",
       "    }\n",
       "</style>\n",
       "<table border=\"1\" class=\"dataframe\">\n",
       "  <thead>\n",
       "    <tr style=\"text-align: right;\">\n",
       "      <th></th>\n",
       "      <th>Rank</th>\n",
       "      <th>Model-ID</th>\n",
       "      <th>Feature-Selection</th>\n",
       "      <th>MAE</th>\n",
       "      <th>MSE</th>\n",
       "      <th>MSLE</th>\n",
       "      <th>RMSE</th>\n",
       "      <th>RMSLE</th>\n",
       "      <th>R2-score</th>\n",
       "      <th>Adjusted R2-score</th>\n",
       "    </tr>\n",
       "  </thead>\n",
       "  <tbody>\n",
       "    <tr>\n",
       "      <th>0</th>\n",
       "      <td>1</td>\n",
       "      <td>KNN_1</td>\n",
       "      <td>rfe</td>\n",
       "      <td>3552.115821</td>\n",
       "      <td>3.038980e+07</td>\n",
       "      <td>0.258922</td>\n",
       "      <td>5512.694527</td>\n",
       "      <td>0.508844</td>\n",
       "      <td>0.695150</td>\n",
       "      <td>0.666865</td>\n",
       "    </tr>\n",
       "    <tr>\n",
       "      <th>1</th>\n",
       "      <td>2</td>\n",
       "      <td>XGBOOST_1</td>\n",
       "      <td>rfe</td>\n",
       "      <td>3316.668464</td>\n",
       "      <td>3.143920e+07</td>\n",
       "      <td>0.284397</td>\n",
       "      <td>5607.066653</td>\n",
       "      <td>0.533288</td>\n",
       "      <td>0.684623</td>\n",
       "      <td>0.655361</td>\n",
       "    </tr>\n",
       "    <tr>\n",
       "      <th>2</th>\n",
       "      <td>3</td>\n",
       "      <td>XGBOOST_0</td>\n",
       "      <td>lasso</td>\n",
       "      <td>3587.948716</td>\n",
       "      <td>3.305547e+07</td>\n",
       "      <td>0.320372</td>\n",
       "      <td>5749.388936</td>\n",
       "      <td>0.566015</td>\n",
       "      <td>0.668410</td>\n",
       "      <td>0.641341</td>\n",
       "    </tr>\n",
       "    <tr>\n",
       "      <th>3</th>\n",
       "      <td>4</td>\n",
       "      <td>XGBOOST_2</td>\n",
       "      <td>pca</td>\n",
       "      <td>4676.902757</td>\n",
       "      <td>6.131188e+07</td>\n",
       "      <td>0.301497</td>\n",
       "      <td>7830.190155</td>\n",
       "      <td>0.549087</td>\n",
       "      <td>0.384961</td>\n",
       "      <td>0.341473</td>\n",
       "    </tr>\n",
       "  </tbody>\n",
       "</table>\n",
       "</div>"
      ],
      "text/plain": [
       "   Rank   Model-ID Feature-Selection          MAE           MSE      MSLE  \\\n",
       "0     1      KNN_1               rfe  3552.115821  3.038980e+07  0.258922   \n",
       "1     2  XGBOOST_1               rfe  3316.668464  3.143920e+07  0.284397   \n",
       "2     3  XGBOOST_0             lasso  3587.948716  3.305547e+07  0.320372   \n",
       "3     4  XGBOOST_2               pca  4676.902757  6.131188e+07  0.301497   \n",
       "\n",
       "          RMSE     RMSLE  R2-score  Adjusted R2-score  \n",
       "0  5512.694527  0.508844  0.695150           0.666865  \n",
       "1  5607.066653  0.533288  0.684623           0.655361  \n",
       "2  5749.388936  0.566015  0.668410           0.641341  \n",
       "3  7830.190155  0.549087  0.384961           0.341473  "
      ]
     },
     "execution_count": 17,
     "metadata": {},
     "output_type": "execute_result"
    }
   ],
   "source": [
    "# Fetching Leaderboard\n",
    "aml.leaderboard()"
   ]
  },
  {
   "cell_type": "markdown",
   "id": "a7a3aa08-e349-4a61-9217-2c17d50411d8",
   "metadata": {},
   "source": [
    "## <b><span style='color:#F1A424'>| 4.</span> Best Performing Model : </b>"
   ]
  },
  {
   "cell_type": "code",
   "execution_count": 18,
   "id": "c4c32832-a76b-4f42-826a-cefc38a6301b",
   "metadata": {},
   "outputs": [
    {
     "data": {
      "text/html": [
       "<div>\n",
       "<style scoped>\n",
       "    .dataframe tbody tr th:only-of-type {\n",
       "        vertical-align: middle;\n",
       "    }\n",
       "\n",
       "    .dataframe tbody tr th {\n",
       "        vertical-align: top;\n",
       "    }\n",
       "\n",
       "    .dataframe thead th {\n",
       "        text-align: right;\n",
       "    }\n",
       "</style>\n",
       "<table border=\"1\" class=\"dataframe\">\n",
       "  <thead>\n",
       "    <tr style=\"text-align: right;\">\n",
       "      <th></th>\n",
       "      <th>Rank</th>\n",
       "      <th>Model-ID</th>\n",
       "      <th>Feature-Selection</th>\n",
       "      <th>MAE</th>\n",
       "      <th>MSE</th>\n",
       "      <th>MSLE</th>\n",
       "      <th>RMSE</th>\n",
       "      <th>RMSLE</th>\n",
       "      <th>R2-score</th>\n",
       "      <th>Adjusted R2-score</th>\n",
       "    </tr>\n",
       "  </thead>\n",
       "  <tbody>\n",
       "    <tr>\n",
       "      <th>0</th>\n",
       "      <td>1</td>\n",
       "      <td>KNN_1</td>\n",
       "      <td>rfe</td>\n",
       "      <td>3552.115821</td>\n",
       "      <td>3.038980e+07</td>\n",
       "      <td>0.258922</td>\n",
       "      <td>5512.694527</td>\n",
       "      <td>0.508844</td>\n",
       "      <td>0.69515</td>\n",
       "      <td>0.666865</td>\n",
       "    </tr>\n",
       "  </tbody>\n",
       "</table>\n",
       "</div>"
      ],
      "text/plain": [
       "   Rank Model-ID Feature-Selection          MAE           MSE      MSLE  \\\n",
       "0     1    KNN_1               rfe  3552.115821  3.038980e+07  0.258922   \n",
       "\n",
       "          RMSE     RMSLE  R2-score  Adjusted R2-score  \n",
       "0  5512.694527  0.508844   0.69515           0.666865  "
      ]
     },
     "metadata": {},
     "output_type": "display_data"
    }
   ],
   "source": [
    "# Fetching best performing model for dataset\n",
    "aml.leader()"
   ]
  },
  {
   "cell_type": "markdown",
   "id": "e43181a9-3847-4e8b-b510-6da81f1c550f",
   "metadata": {},
   "source": [
    "## <b><span style='color:#F1A424'>| 5.</span> Generating Prediction : </b>"
   ]
  },
  {
   "cell_type": "code",
   "execution_count": 21,
   "id": "5b6edfe3-bd5a-46bd-ad80-b20fadfed7a0",
   "metadata": {},
   "outputs": [
    {
     "name": "stdout",
     "output_type": "stream",
     "text": [
      "Data Transformation started ...\n",
      "                                                                                                \r"
     ]
    },
    {
     "data": {
      "text/html": [
       "Performing transformation carried out in feature engineering phase ..."
      ],
      "text/plain": [
       "<IPython.core.display.HTML object>"
      ]
     },
     "metadata": {},
     "output_type": "display_data"
    },
    {
     "name": "stdout",
     "output_type": "stream",
     "text": [
      "result data stored in table '\"ALICE\".\"ml__td_sqlmr_persist_out__1719266163038291\"'⫾⫾⫾｜ 33% - 5/15\n",
      "                                                                                                 \r"
     ]
    },
    {
     "data": {
      "text/html": [
       "\n",
       "Updated dataset after performing customized equal width bin-code transformation :"
      ],
      "text/plain": [
       "<IPython.core.display.HTML object>"
      ]
     },
     "metadata": {},
     "output_type": "display_data"
    },
    {
     "data": {
      "text/html": [
       "<style type=\"text/css\">\n",
       "\ttable {border:ridge 5px;}\n",
       "\ttable td {border:inset 1px;}\n",
       "\ttable tr#HeaderRow {background-color:grey; color:white;}</style>\n",
       "<html><table>\n",
       "\t<tr id=\"HeaderRow\">\n",
       "\t\t<th>region</th>\n",
       "\t\t<th>sex</th>\n",
       "\t\t<th>charges</th>\n",
       "\t\t<th>smoker</th>\n",
       "\t\t<th>children</th>\n",
       "\t\t<th>bmi</th>\n",
       "\t\t<th>id</th>\n",
       "\t\t<th>age</th>\n",
       "\t</tr>\n",
       "\t<tr>\n",
       "\t\t<td>northeast</td>\n",
       "\t\t<td>female</td>\n",
       "\t\t<td>4561.1885</td>\n",
       "\t\t<td>no</td>\n",
       "\t\t<td>4</td>\n",
       "\t\t<td>31.35</td>\n",
       "\t\t<td>216</td>\n",
       "\t\t<td>age_1</td>\n",
       "\t</tr>\n",
       "\t<tr>\n",
       "\t\t<td>northeast</td>\n",
       "\t\t<td>female</td>\n",
       "\t\t<td>11657.7189</td>\n",
       "\t\t<td>no</td>\n",
       "\t\t<td>0</td>\n",
       "\t\t<td>28.31</td>\n",
       "\t\t<td>272</td>\n",
       "\t\t<td>age_3</td>\n",
       "\t</tr>\n",
       "\t<tr>\n",
       "\t\t<td>northeast</td>\n",
       "\t\t<td>female</td>\n",
       "\t\t<td>11658.11505</td>\n",
       "\t\t<td>no</td>\n",
       "\t\t<td>0</td>\n",
       "\t\t<td>28.595</td>\n",
       "\t\t<td>280</td>\n",
       "\t\t<td>age_3</td>\n",
       "\t</tr>\n",
       "\t<tr>\n",
       "\t\t<td>northeast</td>\n",
       "\t\t<td>male</td>\n",
       "\t\t<td>11763.0009</td>\n",
       "\t\t<td>no</td>\n",
       "\t\t<td>1</td>\n",
       "\t\t<td>32.11</td>\n",
       "\t\t<td>288</td>\n",
       "\t\t<td>age_3</td>\n",
       "\t</tr>\n",
       "\t<tr>\n",
       "\t\t<td>northeast</td>\n",
       "\t\t<td>female</td>\n",
       "\t\t<td>13430.265</td>\n",
       "\t\t<td>no</td>\n",
       "\t\t<td>3</td>\n",
       "\t\t<td>32.3</td>\n",
       "\t\t<td>320</td>\n",
       "\t\t<td>age_3</td>\n",
       "\t</tr>\n",
       "\t<tr>\n",
       "\t\t<td>northeast</td>\n",
       "\t\t<td>female</td>\n",
       "\t\t<td>11658.37915</td>\n",
       "\t\t<td>no</td>\n",
       "\t\t<td>0</td>\n",
       "\t\t<td>28.785</td>\n",
       "\t\t<td>328</td>\n",
       "\t\t<td>age_3</td>\n",
       "\t</tr>\n",
       "\t<tr>\n",
       "\t\t<td>northwest</td>\n",
       "\t\t<td>female</td>\n",
       "\t\t<td>14711.7438</td>\n",
       "\t\t<td>yes</td>\n",
       "\t\t<td>0</td>\n",
       "\t\t<td>22.42</td>\n",
       "\t\t<td>120</td>\n",
       "\t\t<td>age_1</td>\n",
       "\t</tr>\n",
       "\t<tr>\n",
       "\t\t<td>northwest</td>\n",
       "\t\t<td>female</td>\n",
       "\t\t<td>11454.0215</td>\n",
       "\t\t<td>no</td>\n",
       "\t\t<td>0</td>\n",
       "\t\t<td>25.65</td>\n",
       "\t\t<td>312</td>\n",
       "\t\t<td>age_3</td>\n",
       "\t</tr>\n",
       "\t<tr>\n",
       "\t\t<td>northwest</td>\n",
       "\t\t<td>male</td>\n",
       "\t\t<td>43921.1837</td>\n",
       "\t\t<td>yes</td>\n",
       "\t\t<td>0</td>\n",
       "\t\t<td>33.63</td>\n",
       "\t\t<td>336</td>\n",
       "\t\t<td>age_3</td>\n",
       "\t</tr>\n",
       "\t<tr>\n",
       "\t\t<td>northwest</td>\n",
       "\t\t<td>female</td>\n",
       "\t\t<td>3594.17085</td>\n",
       "\t\t<td>no</td>\n",
       "\t\t<td>1</td>\n",
       "\t\t<td>22.515</td>\n",
       "\t\t<td>352</td>\n",
       "\t\t<td>age_1</td>\n",
       "\t</tr>\n",
       "</table></html>"
      ],
      "text/plain": [
       "              sex      charges smoker  children     bmi   id    age\n",
       "region                                                             \n",
       "northeast  female   4561.18850     no         4  31.350  216  age_1\n",
       "northeast  female  11657.71890     no         0  28.310  272  age_3\n",
       "northeast  female  11658.11505     no         0  28.595  280  age_3\n",
       "northeast    male  11763.00090     no         1  32.110  288  age_3\n",
       "northeast  female  13430.26500     no         3  32.300  320  age_3\n",
       "northeast  female  11658.37915     no         0  28.785  328  age_3\n",
       "northwest  female  14711.74380    yes         0  22.420  120  age_1\n",
       "northwest  female  11454.02150     no         0  25.650  312  age_3\n",
       "northwest    male  43921.18370    yes         0  33.630  336  age_3\n",
       "northwest  female   3594.17085     no         1  22.515  352  age_1"
      ]
     },
     "metadata": {},
     "output_type": "display_data"
    },
    {
     "name": "stdout",
     "output_type": "stream",
     "text": [
      "                                                                                                 \r"
     ]
    },
    {
     "data": {
      "text/html": [
       "268 rows X 8 columns"
      ],
      "text/plain": [
       "<IPython.core.display.HTML object>"
      ]
     },
     "metadata": {},
     "output_type": "display_data"
    },
    {
     "name": "stdout",
     "output_type": "stream",
     "text": [
      "result data stored in table '\"ALICE\".\"ml__td_sqlmr_persist_out__1719266907215352\"'⫾⫾⫾｜ 46% - 7/15\n",
      "                                                                                                 \r"
     ]
    },
    {
     "data": {
      "text/html": [
       "\n",
       "Updated dataset after performing customized categorical encoding :"
      ],
      "text/plain": [
       "<IPython.core.display.HTML object>"
      ]
     },
     "metadata": {},
     "output_type": "display_data"
    },
    {
     "data": {
      "text/html": [
       "<style type=\"text/css\">\n",
       "\ttable {border:ridge 5px;}\n",
       "\ttable td {border:inset 1px;}\n",
       "\ttable tr#HeaderRow {background-color:grey; color:white;}</style>\n",
       "<html><table>\n",
       "\t<tr id=\"HeaderRow\">\n",
       "\t\t<th>region</th>\n",
       "\t\t<th>sex</th>\n",
       "\t\t<th>bmi</th>\n",
       "\t\t<th>charges</th>\n",
       "\t\t<th>smoker</th>\n",
       "\t\t<th>age</th>\n",
       "\t\t<th>children</th>\n",
       "\t\t<th>id</th>\n",
       "\t</tr>\n",
       "\t<tr>\n",
       "\t\t<td>12507.852881471696</td>\n",
       "\t\t<td>male</td>\n",
       "\t\t<td>27.1</td>\n",
       "\t\t<td>19040.876</td>\n",
       "\t\t<td>yes</td>\n",
       "\t\t<td>age_1</td>\n",
       "\t\t<td>1</td>\n",
       "\t\t<td>89</td>\n",
       "\t</tr>\n",
       "\t<tr>\n",
       "\t\t<td>12507.852881471696</td>\n",
       "\t\t<td>male</td>\n",
       "\t\t<td>34.7</td>\n",
       "\t\t<td>6082.405</td>\n",
       "\t\t<td>no</td>\n",
       "\t\t<td>age_2</td>\n",
       "\t\t<td>2</td>\n",
       "\t\t<td>52</td>\n",
       "\t</tr>\n",
       "\t<tr>\n",
       "\t\t<td>12507.852881471696</td>\n",
       "\t\t<td>female</td>\n",
       "\t\t<td>30.5</td>\n",
       "\t\t<td>10704.47</td>\n",
       "\t\t<td>no</td>\n",
       "\t\t<td>age_3</td>\n",
       "\t\t<td>0</td>\n",
       "\t\t<td>76</td>\n",
       "\t</tr>\n",
       "\t<tr>\n",
       "\t\t<td>12507.852881471696</td>\n",
       "\t\t<td>male</td>\n",
       "\t\t<td>34.4</td>\n",
       "\t\t<td>36197.699</td>\n",
       "\t\t<td>yes</td>\n",
       "\t\t<td>age_1</td>\n",
       "\t\t<td>0</td>\n",
       "\t\t<td>116</td>\n",
       "\t</tr>\n",
       "\t<tr>\n",
       "\t\t<td>12507.852881471696</td>\n",
       "\t\t<td>female</td>\n",
       "\t\t<td>22.6</td>\n",
       "\t\t<td>18608.262</td>\n",
       "\t\t<td>yes</td>\n",
       "\t\t<td>age_2</td>\n",
       "\t\t<td>2</td>\n",
       "\t\t<td>30</td>\n",
       "\t</tr>\n",
       "\t<tr>\n",
       "\t\t<td>12507.852881471696</td>\n",
       "\t\t<td>male</td>\n",
       "\t\t<td>33.4</td>\n",
       "\t\t<td>38415.474</td>\n",
       "\t\t<td>yes</td>\n",
       "\t\t<td>age_2</td>\n",
       "\t\t<td>2</td>\n",
       "\t\t<td>46</td>\n",
       "\t</tr>\n",
       "\t<tr>\n",
       "\t\t<td>12533.008527680613</td>\n",
       "\t\t<td>male</td>\n",
       "\t\t<td>33.63</td>\n",
       "\t\t<td>43921.1837</td>\n",
       "\t\t<td>yes</td>\n",
       "\t\t<td>age_3</td>\n",
       "\t\t<td>0</td>\n",
       "\t\t<td>336</td>\n",
       "\t</tr>\n",
       "\t<tr>\n",
       "\t\t<td>12533.008527680613</td>\n",
       "\t\t<td>female</td>\n",
       "\t\t<td>30.115</td>\n",
       "\t\t<td>16455.70785</td>\n",
       "\t\t<td>no</td>\n",
       "\t\t<td>age_3</td>\n",
       "\t\t<td>3</td>\n",
       "\t\t<td>81</td>\n",
       "\t</tr>\n",
       "\t<tr>\n",
       "\t\t<td>12533.008527680613</td>\n",
       "\t\t<td>female</td>\n",
       "\t\t<td>26.695</td>\n",
       "\t\t<td>4571.41305</td>\n",
       "\t\t<td>no</td>\n",
       "\t\t<td>age_1</td>\n",
       "\t\t<td>0</td>\n",
       "\t\t<td>97</td>\n",
       "\t</tr>\n",
       "\t<tr>\n",
       "\t\t<td>12533.008527680613</td>\n",
       "\t\t<td>male</td>\n",
       "\t\t<td>24.605</td>\n",
       "\t\t<td>5257.50795</td>\n",
       "\t\t<td>no</td>\n",
       "\t\t<td>age_1</td>\n",
       "\t\t<td>2</td>\n",
       "\t\t<td>113</td>\n",
       "\t</tr>\n",
       "</table></html>"
      ],
      "text/plain": [
       "                 sex     bmi      charges smoker    age  children   id\n",
       "region                                                                \n",
       "12507.852881    male  27.100  19040.87600    yes  age_1         1   89\n",
       "12507.852881    male  34.700   6082.40500     no  age_2         2   52\n",
       "12507.852881  female  30.500  10704.47000     no  age_3         0   76\n",
       "12507.852881    male  34.400  36197.69900    yes  age_1         0  116\n",
       "12507.852881  female  22.600  18608.26200    yes  age_2         2   30\n",
       "12507.852881    male  33.400  38415.47400    yes  age_2         2   46\n",
       "12533.008528    male  33.630  43921.18370    yes  age_3         0  336\n",
       "12533.008528  female  30.115  16455.70785     no  age_3         3   81\n",
       "12533.008528  female  26.695   4571.41305     no  age_1         0   97\n",
       "12533.008528    male  24.605   5257.50795     no  age_1         2  113"
      ]
     },
     "metadata": {},
     "output_type": "display_data"
    },
    {
     "name": "stdout",
     "output_type": "stream",
     "text": [
      "                                                                                                 \r"
     ]
    },
    {
     "data": {
      "text/html": [
       "268 rows X 8 columns"
      ],
      "text/plain": [
       "<IPython.core.display.HTML object>"
      ]
     },
     "metadata": {},
     "output_type": "display_data"
    },
    {
     "name": "stdout",
     "output_type": "stream",
     "text": [
      "result data stored in table '\"ALICE\".\"ml__td_sqlmr_persist_out__1719268136685677\"'⫾⫾⫾｜ 46% - 7/15\n",
      "                                                                                                 \r"
     ]
    },
    {
     "data": {
      "text/html": [
       "\n",
       "Updated dataset after performing categorical encoding :"
      ],
      "text/plain": [
       "<IPython.core.display.HTML object>"
      ]
     },
     "metadata": {},
     "output_type": "display_data"
    },
    {
     "data": {
      "text/html": [
       "<style type=\"text/css\">\n",
       "\ttable {border:ridge 5px;}\n",
       "\ttable td {border:inset 1px;}\n",
       "\ttable tr#HeaderRow {background-color:grey; color:white;}</style>\n",
       "<html><table>\n",
       "\t<tr id=\"HeaderRow\">\n",
       "\t\t<th>region</th>\n",
       "\t\t<th>sex_0</th>\n",
       "\t\t<th>sex_1</th>\n",
       "\t\t<th>bmi</th>\n",
       "\t\t<th>charges</th>\n",
       "\t\t<th>smoker_0</th>\n",
       "\t\t<th>smoker_1</th>\n",
       "\t\t<th>age_0</th>\n",
       "\t\t<th>age_1</th>\n",
       "\t\t<th>age_2</th>\n",
       "\t\t<th>children</th>\n",
       "\t\t<th>id</th>\n",
       "\t</tr>\n",
       "\t<tr>\n",
       "\t\t<td>12533.008527680613</td>\n",
       "\t\t<td>1</td>\n",
       "\t\t<td>0</td>\n",
       "\t\t<td>33.535</td>\n",
       "\t\t<td>12269.68865</td>\n",
       "\t\t<td>1</td>\n",
       "\t\t<td>0</td>\n",
       "\t\t<td>0</td>\n",
       "\t\t<td>0</td>\n",
       "\t\t<td>1</td>\n",
       "\t\t<td>2</td>\n",
       "\t\t<td>92</td>\n",
       "\t</tr>\n",
       "\t<tr>\n",
       "\t\t<td>12533.008527680613</td>\n",
       "\t\t<td>1</td>\n",
       "\t\t<td>0</td>\n",
       "\t\t<td>25.935</td>\n",
       "\t\t<td>4133.64165</td>\n",
       "\t\t<td>1</td>\n",
       "\t\t<td>0</td>\n",
       "\t\t<td>1</td>\n",
       "\t\t<td>0</td>\n",
       "\t\t<td>0</td>\n",
       "\t\t<td>1</td>\n",
       "\t\t<td>70</td>\n",
       "\t</tr>\n",
       "\t<tr>\n",
       "\t\t<td>12533.008527680613</td>\n",
       "\t\t<td>0</td>\n",
       "\t\t<td>1</td>\n",
       "\t\t<td>33.82</td>\n",
       "\t\t<td>19673.33573</td>\n",
       "\t\t<td>1</td>\n",
       "\t\t<td>0</td>\n",
       "\t\t<td>1</td>\n",
       "\t\t<td>0</td>\n",
       "\t\t<td>0</td>\n",
       "\t\t<td>0</td>\n",
       "\t\t<td>78</td>\n",
       "\t</tr>\n",
       "\t<tr>\n",
       "\t\t<td>12533.008527680613</td>\n",
       "\t\t<td>1</td>\n",
       "\t\t<td>0</td>\n",
       "\t\t<td>26.315</td>\n",
       "\t\t<td>5312.16985</td>\n",
       "\t\t<td>1</td>\n",
       "\t\t<td>0</td>\n",
       "\t\t<td>1</td>\n",
       "\t\t<td>0</td>\n",
       "\t\t<td>0</td>\n",
       "\t\t<td>3</td>\n",
       "\t\t<td>86</td>\n",
       "\t</tr>\n",
       "\t<tr>\n",
       "\t\t<td>12533.008527680613</td>\n",
       "\t\t<td>0</td>\n",
       "\t\t<td>1</td>\n",
       "\t\t<td>25.935</td>\n",
       "\t\t<td>4239.89265</td>\n",
       "\t\t<td>1</td>\n",
       "\t\t<td>0</td>\n",
       "\t\t<td>1</td>\n",
       "\t\t<td>0</td>\n",
       "\t\t<td>0</td>\n",
       "\t\t<td>1</td>\n",
       "\t\t<td>214</td>\n",
       "\t</tr>\n",
       "\t<tr>\n",
       "\t\t<td>12533.008527680613</td>\n",
       "\t\t<td>0</td>\n",
       "\t\t<td>1</td>\n",
       "\t\t<td>28.595</td>\n",
       "\t\t<td>4243.59005</td>\n",
       "\t\t<td>1</td>\n",
       "\t\t<td>0</td>\n",
       "\t\t<td>1</td>\n",
       "\t\t<td>0</td>\n",
       "\t\t<td>0</td>\n",
       "\t\t<td>1</td>\n",
       "\t\t<td>246</td>\n",
       "\t</tr>\n",
       "\t<tr>\n",
       "\t\t<td>12533.008527680613</td>\n",
       "\t\t<td>1</td>\n",
       "\t\t<td>0</td>\n",
       "\t\t<td>27.645</td>\n",
       "\t\t<td>11305.93455</td>\n",
       "\t\t<td>1</td>\n",
       "\t\t<td>0</td>\n",
       "\t\t<td>0</td>\n",
       "\t\t<td>0</td>\n",
       "\t\t<td>1</td>\n",
       "\t\t<td>1</td>\n",
       "\t\t<td>206</td>\n",
       "\t</tr>\n",
       "\t<tr>\n",
       "\t\t<td>12533.008527680613</td>\n",
       "\t\t<td>1</td>\n",
       "\t\t<td>0</td>\n",
       "\t\t<td>26.03</td>\n",
       "\t\t<td>3736.4647</td>\n",
       "\t\t<td>1</td>\n",
       "\t\t<td>0</td>\n",
       "\t\t<td>1</td>\n",
       "\t\t<td>0</td>\n",
       "\t\t<td>0</td>\n",
       "\t\t<td>0</td>\n",
       "\t\t<td>132</td>\n",
       "\t</tr>\n",
       "\t<tr>\n",
       "\t\t<td>12533.008527680613</td>\n",
       "\t\t<td>1</td>\n",
       "\t\t<td>0</td>\n",
       "\t\t<td>40.565</td>\n",
       "\t\t<td>6373.55735</td>\n",
       "\t\t<td>1</td>\n",
       "\t\t<td>0</td>\n",
       "\t\t<td>0</td>\n",
       "\t\t<td>1</td>\n",
       "\t\t<td>0</td>\n",
       "\t\t<td>1</td>\n",
       "\t\t<td>12</td>\n",
       "\t</tr>\n",
       "\t<tr>\n",
       "\t\t<td>12533.008527680613</td>\n",
       "\t\t<td>1</td>\n",
       "\t\t<td>0</td>\n",
       "\t\t<td>26.695</td>\n",
       "\t\t<td>4571.41305</td>\n",
       "\t\t<td>1</td>\n",
       "\t\t<td>0</td>\n",
       "\t\t<td>1</td>\n",
       "\t\t<td>0</td>\n",
       "\t\t<td>0</td>\n",
       "\t\t<td>0</td>\n",
       "\t\t<td>97</td>\n",
       "\t</tr>\n",
       "</table></html>"
      ],
      "text/plain": [
       "              sex_0  sex_1     bmi      charges  smoker_0  smoker_1  age_0  age_1  age_2  children   id\n",
       "region                                                                                                 \n",
       "12533.008528      1      0  33.535  12269.68865         1         0      0      0      1         2   92\n",
       "12533.008528      1      0  25.935   4133.64165         1         0      1      0      0         1   70\n",
       "12533.008528      0      1  33.820  19673.33573         1         0      1      0      0         0   78\n",
       "12533.008528      1      0  26.315   5312.16985         1         0      1      0      0         3   86\n",
       "12533.008528      0      1  25.935   4239.89265         1         0      1      0      0         1  214\n",
       "12533.008528      0      1  28.595   4243.59005         1         0      1      0      0         1  246\n",
       "12533.008528      1      0  27.645  11305.93455         1         0      0      0      1         1  206\n",
       "12533.008528      1      0  26.030   3736.46470         1         0      1      0      0         0  132\n",
       "12533.008528      1      0  40.565   6373.55735         1         0      0      1      0         1   12\n",
       "12533.008528      1      0  26.695   4571.41305         1         0      1      0      0         0   97"
      ]
     },
     "metadata": {},
     "output_type": "display_data"
    },
    {
     "name": "stdout",
     "output_type": "stream",
     "text": [
      "                                                                                                 \r"
     ]
    },
    {
     "data": {
      "text/html": [
       "268 rows X 12 columns"
      ],
      "text/plain": [
       "<IPython.core.display.HTML object>"
      ]
     },
     "metadata": {},
     "output_type": "display_data"
    },
    {
     "name": "stdout",
     "output_type": "stream",
     "text": [
      "                                                                                                  \r"
     ]
    },
    {
     "data": {
      "text/html": [
       "Performing transformation carried out in data preparation phase ..."
      ],
      "text/plain": [
       "<IPython.core.display.HTML object>"
      ]
     },
     "metadata": {},
     "output_type": "display_data"
    },
    {
     "name": "stdout",
     "output_type": "stream",
     "text": [
      "result data stored in table '\"ALICE\".\"ml__td_sqlmr_persist_out__1719269938154080\"'⫾⫾⫾｜ 73% - 11/15\n",
      "                                                                                                  \r"
     ]
    },
    {
     "data": {
      "text/html": [
       "\n",
       "Updated dataset after performing Lasso feature selection:"
      ],
      "text/plain": [
       "<IPython.core.display.HTML object>"
      ]
     },
     "metadata": {},
     "output_type": "display_data"
    },
    {
     "data": {
      "text/html": [
       "<style type=\"text/css\">\n",
       "\ttable {border:ridge 5px;}\n",
       "\ttable td {border:inset 1px;}\n",
       "\ttable tr#HeaderRow {background-color:grey; color:white;}</style>\n",
       "<html><table>\n",
       "\t<tr id=\"HeaderRow\">\n",
       "\t\t<th>id</th>\n",
       "\t\t<th>age_0</th>\n",
       "\t\t<th>children</th>\n",
       "\t\t<th>smoker_0</th>\n",
       "\t\t<th>smoker_1</th>\n",
       "\t\t<th>sex_1</th>\n",
       "\t\t<th>age_2</th>\n",
       "\t\t<th>region</th>\n",
       "\t\t<th>bmi</th>\n",
       "\t\t<th>charges</th>\n",
       "\t</tr>\n",
       "\t<tr>\n",
       "\t\t<td>26</td>\n",
       "\t\t<td>0</td>\n",
       "\t\t<td>2</td>\n",
       "\t\t<td>1</td>\n",
       "\t\t<td>0</td>\n",
       "\t\t<td>1</td>\n",
       "\t\t<td>0</td>\n",
       "\t\t<td>12533.0085</td>\n",
       "\t\t<td>32.3</td>\n",
       "\t\t<td>6986.697</td>\n",
       "\t</tr>\n",
       "\t<tr>\n",
       "\t\t<td>186</td>\n",
       "\t\t<td>0</td>\n",
       "\t\t<td>3</td>\n",
       "\t\t<td>1</td>\n",
       "\t\t<td>0</td>\n",
       "\t\t<td>1</td>\n",
       "\t\t<td>0</td>\n",
       "\t\t<td>12533.0085</td>\n",
       "\t\t<td>30.875</td>\n",
       "\t\t<td>6796.8633</td>\n",
       "\t</tr>\n",
       "\t<tr>\n",
       "\t\t<td>202</td>\n",
       "\t\t<td>0</td>\n",
       "\t\t<td>3</td>\n",
       "\t\t<td>1</td>\n",
       "\t\t<td>0</td>\n",
       "\t\t<td>0</td>\n",
       "\t\t<td>0</td>\n",
       "\t\t<td>12533.0085</td>\n",
       "\t\t<td>27.74</td>\n",
       "\t\t<td>7281.5056</td>\n",
       "\t</tr>\n",
       "\t<tr>\n",
       "\t\t<td>37</td>\n",
       "\t\t<td>0</td>\n",
       "\t\t<td>1</td>\n",
       "\t\t<td>1</td>\n",
       "\t\t<td>0</td>\n",
       "\t\t<td>0</td>\n",
       "\t\t<td>0</td>\n",
       "\t\t<td>12533.0085</td>\n",
       "\t\t<td>28.31</td>\n",
       "\t\t<td>7153.5539</td>\n",
       "\t</tr>\n",
       "\t<tr>\n",
       "\t\t<td>85</td>\n",
       "\t\t<td>0</td>\n",
       "\t\t<td>2</td>\n",
       "\t\t<td>1</td>\n",
       "\t\t<td>0</td>\n",
       "\t\t<td>1</td>\n",
       "\t\t<td>0</td>\n",
       "\t\t<td>12533.0085</td>\n",
       "\t\t<td>37.05</td>\n",
       "\t\t<td>7265.7025</td>\n",
       "\t</tr>\n",
       "\t<tr>\n",
       "\t\t<td>149</td>\n",
       "\t\t<td>0</td>\n",
       "\t\t<td>0</td>\n",
       "\t\t<td>1</td>\n",
       "\t\t<td>0</td>\n",
       "\t\t<td>0</td>\n",
       "\t\t<td>0</td>\n",
       "\t\t<td>12533.0085</td>\n",
       "\t\t<td>36.575</td>\n",
       "\t\t<td>8671.1912</td>\n",
       "\t</tr>\n",
       "\t<tr>\n",
       "\t\t<td>132</td>\n",
       "\t\t<td>1</td>\n",
       "\t\t<td>0</td>\n",
       "\t\t<td>1</td>\n",
       "\t\t<td>0</td>\n",
       "\t\t<td>0</td>\n",
       "\t\t<td>0</td>\n",
       "\t\t<td>12533.0085</td>\n",
       "\t\t<td>26.03</td>\n",
       "\t\t<td>3736.4647</td>\n",
       "\t</tr>\n",
       "\t<tr>\n",
       "\t\t<td>78</td>\n",
       "\t\t<td>1</td>\n",
       "\t\t<td>0</td>\n",
       "\t\t<td>1</td>\n",
       "\t\t<td>0</td>\n",
       "\t\t<td>1</td>\n",
       "\t\t<td>0</td>\n",
       "\t\t<td>12533.0085</td>\n",
       "\t\t<td>33.82</td>\n",
       "\t\t<td>19673.3357</td>\n",
       "\t</tr>\n",
       "\t<tr>\n",
       "\t\t<td>86</td>\n",
       "\t\t<td>1</td>\n",
       "\t\t<td>3</td>\n",
       "\t\t<td>1</td>\n",
       "\t\t<td>0</td>\n",
       "\t\t<td>0</td>\n",
       "\t\t<td>0</td>\n",
       "\t\t<td>12533.0085</td>\n",
       "\t\t<td>26.315</td>\n",
       "\t\t<td>5312.1699</td>\n",
       "\t</tr>\n",
       "\t<tr>\n",
       "\t\t<td>206</td>\n",
       "\t\t<td>0</td>\n",
       "\t\t<td>1</td>\n",
       "\t\t<td>1</td>\n",
       "\t\t<td>0</td>\n",
       "\t\t<td>0</td>\n",
       "\t\t<td>1</td>\n",
       "\t\t<td>12533.0085</td>\n",
       "\t\t<td>27.645</td>\n",
       "\t\t<td>11305.9345</td>\n",
       "\t</tr>\n",
       "</table></html>"
      ],
      "text/plain": [
       "    id  age_0  children  smoker_0  smoker_1  sex_1  age_2      region     bmi     charges\n",
       "0   26      0         2         1         0      1      0  12533.0085  32.300   6986.6970\n",
       "1  186      0         3         1         0      1      0  12533.0085  30.875   6796.8633\n",
       "2  202      0         3         1         0      0      0  12533.0085  27.740   7281.5056\n",
       "3   37      0         1         1         0      0      0  12533.0085  28.310   7153.5539\n",
       "4   85      0         2         1         0      1      0  12533.0085  37.050   7265.7025\n",
       "5  149      0         0         1         0      0      0  12533.0085  36.575   8671.1912\n",
       "6  132      1         0         1         0      0      0  12533.0085  26.030   3736.4647\n",
       "7   78      1         0         1         0      1      0  12533.0085  33.820  19673.3357\n",
       "8   86      1         3         1         0      0      0  12533.0085  26.315   5312.1699\n",
       "9  206      0         1         1         0      0      1  12533.0085  27.645  11305.9345"
      ]
     },
     "metadata": {},
     "output_type": "display_data"
    },
    {
     "name": "stdout",
     "output_type": "stream",
     "text": [
      "                                                                                                  \r"
     ]
    },
    {
     "data": {
      "text/html": [
       "268 rows X 10 columns"
      ],
      "text/plain": [
       "<IPython.core.display.HTML object>"
      ]
     },
     "metadata": {},
     "output_type": "display_data"
    },
    {
     "name": "stdout",
     "output_type": "stream",
     "text": [
      "                                                                                                  \r"
     ]
    },
    {
     "data": {
      "text/html": [
       "\n",
       "Updated dataset after performing scaling on Lasso selected features :"
      ],
      "text/plain": [
       "<IPython.core.display.HTML object>"
      ]
     },
     "metadata": {},
     "output_type": "display_data"
    },
    {
     "data": {
      "text/html": [
       "<style type=\"text/css\">\n",
       "\ttable {border:ridge 5px;}\n",
       "\ttable td {border:inset 1px;}\n",
       "\ttable tr#HeaderRow {background-color:grey; color:white;}</style>\n",
       "<html><table>\n",
       "\t<tr id=\"HeaderRow\">\n",
       "\t\t<th>age_0</th>\n",
       "\t\t<th>charges</th>\n",
       "\t\t<th>smoker_0</th>\n",
       "\t\t<th>smoker_1</th>\n",
       "\t\t<th>sex_1</th>\n",
       "\t\t<th>age_2</th>\n",
       "\t\t<th>id</th>\n",
       "\t\t<th>children</th>\n",
       "\t\t<th>region</th>\n",
       "\t\t<th>bmi</th>\n",
       "\t</tr>\n",
       "\t<tr>\n",
       "\t\t<td>0</td>\n",
       "\t\t<td>6986.697</td>\n",
       "\t\t<td>1</td>\n",
       "\t\t<td>0</td>\n",
       "\t\t<td>1</td>\n",
       "\t\t<td>0</td>\n",
       "\t\t<td>26</td>\n",
       "\t\t<td>-0.2</td>\n",
       "\t\t<td>-0.9750154268982524</td>\n",
       "\t\t<td>0.034574912310004896</td>\n",
       "\t</tr>\n",
       "\t<tr>\n",
       "\t\t<td>0</td>\n",
       "\t\t<td>6796.8633</td>\n",
       "\t\t<td>1</td>\n",
       "\t\t<td>0</td>\n",
       "\t\t<td>1</td>\n",
       "\t\t<td>0</td>\n",
       "\t\t<td>186</td>\n",
       "\t\t<td>0.2</td>\n",
       "\t\t<td>-0.9750154268982524</td>\n",
       "\t\t<td>-0.06063136796392176</td>\n",
       "\t</tr>\n",
       "\t<tr>\n",
       "\t\t<td>0</td>\n",
       "\t\t<td>7281.5056</td>\n",
       "\t\t<td>1</td>\n",
       "\t\t<td>0</td>\n",
       "\t\t<td>0</td>\n",
       "\t\t<td>0</td>\n",
       "\t\t<td>202</td>\n",
       "\t\t<td>0.2</td>\n",
       "\t\t<td>-0.9750154268982524</td>\n",
       "\t\t<td>-0.27008518456656094</td>\n",
       "\t</tr>\n",
       "\t<tr>\n",
       "\t\t<td>0</td>\n",
       "\t\t<td>7153.5539</td>\n",
       "\t\t<td>1</td>\n",
       "\t\t<td>0</td>\n",
       "\t\t<td>0</td>\n",
       "\t\t<td>0</td>\n",
       "\t\t<td>37</td>\n",
       "\t\t<td>-0.6</td>\n",
       "\t\t<td>-0.9750154268982524</td>\n",
       "\t\t<td>-0.23200267245699016</td>\n",
       "\t</tr>\n",
       "\t<tr>\n",
       "\t\t<td>0</td>\n",
       "\t\t<td>7265.7025</td>\n",
       "\t\t<td>1</td>\n",
       "\t\t<td>0</td>\n",
       "\t\t<td>1</td>\n",
       "\t\t<td>0</td>\n",
       "\t\t<td>85</td>\n",
       "\t\t<td>-0.2</td>\n",
       "\t\t<td>-0.9750154268982524</td>\n",
       "\t\t<td>0.351929179889761</td>\n",
       "\t</tr>\n",
       "\t<tr>\n",
       "\t\t<td>0</td>\n",
       "\t\t<td>8671.1912</td>\n",
       "\t\t<td>1</td>\n",
       "\t\t<td>0</td>\n",
       "\t\t<td>0</td>\n",
       "\t\t<td>0</td>\n",
       "\t\t<td>149</td>\n",
       "\t\t<td>-1.0</td>\n",
       "\t\t<td>-0.9750154268982524</td>\n",
       "\t\t<td>0.32019375313178583</td>\n",
       "\t</tr>\n",
       "\t<tr>\n",
       "\t\t<td>1</td>\n",
       "\t\t<td>3736.4647</td>\n",
       "\t\t<td>1</td>\n",
       "\t\t<td>0</td>\n",
       "\t\t<td>0</td>\n",
       "\t\t<td>0</td>\n",
       "\t\t<td>132</td>\n",
       "\t\t<td>-1.0</td>\n",
       "\t\t<td>-0.9750154268982524</td>\n",
       "\t\t<td>-0.384332720895273</td>\n",
       "\t</tr>\n",
       "\t<tr>\n",
       "\t\t<td>1</td>\n",
       "\t\t<td>19673.3357</td>\n",
       "\t\t<td>1</td>\n",
       "\t\t<td>0</td>\n",
       "\t\t<td>1</td>\n",
       "\t\t<td>0</td>\n",
       "\t\t<td>78</td>\n",
       "\t\t<td>-1.0</td>\n",
       "\t\t<td>-0.9750154268982524</td>\n",
       "\t\t<td>0.13612827793552706</td>\n",
       "\t</tr>\n",
       "\t<tr>\n",
       "\t\t<td>1</td>\n",
       "\t\t<td>5312.1699</td>\n",
       "\t\t<td>1</td>\n",
       "\t\t<td>0</td>\n",
       "\t\t<td>0</td>\n",
       "\t\t<td>0</td>\n",
       "\t\t<td>86</td>\n",
       "\t\t<td>0.2</td>\n",
       "\t\t<td>-0.9750154268982524</td>\n",
       "\t\t<td>-0.3652914648404876</td>\n",
       "\t</tr>\n",
       "\t<tr>\n",
       "\t\t<td>0</td>\n",
       "\t\t<td>11305.9345</td>\n",
       "\t\t<td>1</td>\n",
       "\t\t<td>0</td>\n",
       "\t\t<td>0</td>\n",
       "\t\t<td>1</td>\n",
       "\t\t<td>206</td>\n",
       "\t\t<td>-0.6</td>\n",
       "\t\t<td>-0.9750154268982524</td>\n",
       "\t\t<td>-0.27643226991815595</td>\n",
       "\t</tr>\n",
       "</table></html>"
      ],
      "text/plain": [
       "   age_0     charges  smoker_0  smoker_1  sex_1  age_2   id  children    region       bmi\n",
       "0      0   6986.6970         1         0      1      0   26      -0.2 -0.975015  0.034575\n",
       "1      0   6796.8633         1         0      1      0  186       0.2 -0.975015 -0.060631\n",
       "2      0   7281.5056         1         0      0      0  202       0.2 -0.975015 -0.270085\n",
       "3      0   7153.5539         1         0      0      0   37      -0.6 -0.975015 -0.232003\n",
       "4      0   7265.7025         1         0      1      0   85      -0.2 -0.975015  0.351929\n",
       "5      0   8671.1912         1         0      0      0  149      -1.0 -0.975015  0.320194\n",
       "6      1   3736.4647         1         0      0      0  132      -1.0 -0.975015 -0.384333\n",
       "7      1  19673.3357         1         0      1      0   78      -1.0 -0.975015  0.136128\n",
       "8      1   5312.1699         1         0      0      0   86       0.2 -0.975015 -0.365291\n",
       "9      0  11305.9345         1         0      0      1  206      -0.6 -0.975015 -0.276432"
      ]
     },
     "metadata": {},
     "output_type": "display_data"
    },
    {
     "name": "stdout",
     "output_type": "stream",
     "text": [
      "                                                                                                  \r"
     ]
    },
    {
     "data": {
      "text/html": [
       "268 rows X 10 columns"
      ],
      "text/plain": [
       "<IPython.core.display.HTML object>"
      ]
     },
     "metadata": {},
     "output_type": "display_data"
    },
    {
     "name": "stdout",
     "output_type": "stream",
     "text": [
      "                                                                                                  \r"
     ]
    },
    {
     "data": {
      "text/html": [
       "\n",
       "Updated dataset after performing RFE feature selection:"
      ],
      "text/plain": [
       "<IPython.core.display.HTML object>"
      ]
     },
     "metadata": {},
     "output_type": "display_data"
    },
    {
     "data": {
      "text/html": [
       "<style type=\"text/css\">\n",
       "\ttable {border:ridge 5px;}\n",
       "\ttable td {border:inset 1px;}\n",
       "\ttable tr#HeaderRow {background-color:grey; color:white;}</style>\n",
       "<html><table>\n",
       "\t<tr id=\"HeaderRow\">\n",
       "\t\t<th>id</th>\n",
       "\t\t<th>age_1</th>\n",
       "\t\t<th>age_0</th>\n",
       "\t\t<th>children</th>\n",
       "\t\t<th>smoker_0</th>\n",
       "\t\t<th>smoker_1</th>\n",
       "\t\t<th>age_2</th>\n",
       "\t\t<th>sex_0</th>\n",
       "\t\t<th>region</th>\n",
       "\t\t<th>bmi</th>\n",
       "\t\t<th>charges</th>\n",
       "\t</tr>\n",
       "\t<tr>\n",
       "\t\t<td>26</td>\n",
       "\t\t<td>1</td>\n",
       "\t\t<td>0</td>\n",
       "\t\t<td>2</td>\n",
       "\t\t<td>1</td>\n",
       "\t\t<td>0</td>\n",
       "\t\t<td>0</td>\n",
       "\t\t<td>0</td>\n",
       "\t\t<td>12533.0085</td>\n",
       "\t\t<td>32.3</td>\n",
       "\t\t<td>6986.697</td>\n",
       "\t</tr>\n",
       "\t<tr>\n",
       "\t\t<td>186</td>\n",
       "\t\t<td>1</td>\n",
       "\t\t<td>0</td>\n",
       "\t\t<td>3</td>\n",
       "\t\t<td>1</td>\n",
       "\t\t<td>0</td>\n",
       "\t\t<td>0</td>\n",
       "\t\t<td>0</td>\n",
       "\t\t<td>12533.0085</td>\n",
       "\t\t<td>30.875</td>\n",
       "\t\t<td>6796.8633</td>\n",
       "\t</tr>\n",
       "\t<tr>\n",
       "\t\t<td>202</td>\n",
       "\t\t<td>1</td>\n",
       "\t\t<td>0</td>\n",
       "\t\t<td>3</td>\n",
       "\t\t<td>1</td>\n",
       "\t\t<td>0</td>\n",
       "\t\t<td>0</td>\n",
       "\t\t<td>1</td>\n",
       "\t\t<td>12533.0085</td>\n",
       "\t\t<td>27.74</td>\n",
       "\t\t<td>7281.5056</td>\n",
       "\t</tr>\n",
       "\t<tr>\n",
       "\t\t<td>37</td>\n",
       "\t\t<td>1</td>\n",
       "\t\t<td>0</td>\n",
       "\t\t<td>1</td>\n",
       "\t\t<td>1</td>\n",
       "\t\t<td>0</td>\n",
       "\t\t<td>0</td>\n",
       "\t\t<td>1</td>\n",
       "\t\t<td>12533.0085</td>\n",
       "\t\t<td>28.31</td>\n",
       "\t\t<td>7153.5539</td>\n",
       "\t</tr>\n",
       "\t<tr>\n",
       "\t\t<td>85</td>\n",
       "\t\t<td>1</td>\n",
       "\t\t<td>0</td>\n",
       "\t\t<td>2</td>\n",
       "\t\t<td>1</td>\n",
       "\t\t<td>0</td>\n",
       "\t\t<td>0</td>\n",
       "\t\t<td>0</td>\n",
       "\t\t<td>12533.0085</td>\n",
       "\t\t<td>37.05</td>\n",
       "\t\t<td>7265.7025</td>\n",
       "\t</tr>\n",
       "\t<tr>\n",
       "\t\t<td>149</td>\n",
       "\t\t<td>1</td>\n",
       "\t\t<td>0</td>\n",
       "\t\t<td>0</td>\n",
       "\t\t<td>1</td>\n",
       "\t\t<td>0</td>\n",
       "\t\t<td>0</td>\n",
       "\t\t<td>1</td>\n",
       "\t\t<td>12533.0085</td>\n",
       "\t\t<td>36.575</td>\n",
       "\t\t<td>8671.1912</td>\n",
       "\t</tr>\n",
       "\t<tr>\n",
       "\t\t<td>132</td>\n",
       "\t\t<td>0</td>\n",
       "\t\t<td>1</td>\n",
       "\t\t<td>0</td>\n",
       "\t\t<td>1</td>\n",
       "\t\t<td>0</td>\n",
       "\t\t<td>0</td>\n",
       "\t\t<td>1</td>\n",
       "\t\t<td>12533.0085</td>\n",
       "\t\t<td>26.03</td>\n",
       "\t\t<td>3736.4647</td>\n",
       "\t</tr>\n",
       "\t<tr>\n",
       "\t\t<td>78</td>\n",
       "\t\t<td>0</td>\n",
       "\t\t<td>1</td>\n",
       "\t\t<td>0</td>\n",
       "\t\t<td>1</td>\n",
       "\t\t<td>0</td>\n",
       "\t\t<td>0</td>\n",
       "\t\t<td>0</td>\n",
       "\t\t<td>12533.0085</td>\n",
       "\t\t<td>33.82</td>\n",
       "\t\t<td>19673.3357</td>\n",
       "\t</tr>\n",
       "\t<tr>\n",
       "\t\t<td>86</td>\n",
       "\t\t<td>0</td>\n",
       "\t\t<td>1</td>\n",
       "\t\t<td>3</td>\n",
       "\t\t<td>1</td>\n",
       "\t\t<td>0</td>\n",
       "\t\t<td>0</td>\n",
       "\t\t<td>1</td>\n",
       "\t\t<td>12533.0085</td>\n",
       "\t\t<td>26.315</td>\n",
       "\t\t<td>5312.1699</td>\n",
       "\t</tr>\n",
       "\t<tr>\n",
       "\t\t<td>206</td>\n",
       "\t\t<td>0</td>\n",
       "\t\t<td>0</td>\n",
       "\t\t<td>1</td>\n",
       "\t\t<td>1</td>\n",
       "\t\t<td>0</td>\n",
       "\t\t<td>1</td>\n",
       "\t\t<td>1</td>\n",
       "\t\t<td>12533.0085</td>\n",
       "\t\t<td>27.645</td>\n",
       "\t\t<td>11305.9345</td>\n",
       "\t</tr>\n",
       "</table></html>"
      ],
      "text/plain": [
       "        id  age_0  children  smoker_0  smoker_1  age_2  sex_0      region     bmi     charges\n",
       "age_1                                                                                        \n",
       "1       26      0         2         1         0      0      0  12533.0085  32.300   6986.6970\n",
       "1      186      0         3         1         0      0      0  12533.0085  30.875   6796.8633\n",
       "1      202      0         3         1         0      0      1  12533.0085  27.740   7281.5056\n",
       "1       37      0         1         1         0      0      1  12533.0085  28.310   7153.5539\n",
       "1       85      0         2         1         0      0      0  12533.0085  37.050   7265.7025\n",
       "1      149      0         0         1         0      0      1  12533.0085  36.575   8671.1912\n",
       "0      132      1         0         1         0      0      1  12533.0085  26.030   3736.4647\n",
       "0       78      1         0         1         0      0      0  12533.0085  33.820  19673.3357\n",
       "0       86      1         3         1         0      0      1  12533.0085  26.315   5312.1699\n",
       "0      206      0         1         1         0      1      1  12533.0085  27.645  11305.9345"
      ]
     },
     "metadata": {},
     "output_type": "display_data"
    },
    {
     "name": "stdout",
     "output_type": "stream",
     "text": [
      "                                                                                                  \r"
     ]
    },
    {
     "data": {
      "text/html": [
       "268 rows X 11 columns"
      ],
      "text/plain": [
       "<IPython.core.display.HTML object>"
      ]
     },
     "metadata": {},
     "output_type": "display_data"
    },
    {
     "name": "stdout",
     "output_type": "stream",
     "text": [
      "                                                                                                  \r"
     ]
    },
    {
     "data": {
      "text/html": [
       "\n",
       "Updated dataset after performing scaling on RFE selected features :"
      ],
      "text/plain": [
       "<IPython.core.display.HTML object>"
      ]
     },
     "metadata": {},
     "output_type": "display_data"
    },
    {
     "data": {
      "text/html": [
       "<style type=\"text/css\">\n",
       "\ttable {border:ridge 5px;}\n",
       "\ttable td {border:inset 1px;}\n",
       "\ttable tr#HeaderRow {background-color:grey; color:white;}</style>\n",
       "<html><table>\n",
       "\t<tr id=\"HeaderRow\">\n",
       "\t\t<th>r_age_0</th>\n",
       "\t\t<th>r_smoker_0</th>\n",
       "\t\t<th>r_age_2</th>\n",
       "\t\t<th>r_smoker_1</th>\n",
       "\t\t<th>charges</th>\n",
       "\t\t<th>r_sex_0</th>\n",
       "\t\t<th>r_age_1</th>\n",
       "\t\t<th>id</th>\n",
       "\t\t<th>r_children</th>\n",
       "\t\t<th>r_region</th>\n",
       "\t\t<th>r_bmi</th>\n",
       "\t</tr>\n",
       "\t<tr>\n",
       "\t\t<td>0</td>\n",
       "\t\t<td>1</td>\n",
       "\t\t<td>0</td>\n",
       "\t\t<td>0</td>\n",
       "\t\t<td>6986.697</td>\n",
       "\t\t<td>0</td>\n",
       "\t\t<td>1</td>\n",
       "\t\t<td>26</td>\n",
       "\t\t<td>-0.2</td>\n",
       "\t\t<td>-0.9750154268982524</td>\n",
       "\t\t<td>0.034574912310004896</td>\n",
       "\t</tr>\n",
       "\t<tr>\n",
       "\t\t<td>0</td>\n",
       "\t\t<td>1</td>\n",
       "\t\t<td>0</td>\n",
       "\t\t<td>0</td>\n",
       "\t\t<td>6796.8633</td>\n",
       "\t\t<td>0</td>\n",
       "\t\t<td>1</td>\n",
       "\t\t<td>186</td>\n",
       "\t\t<td>0.2</td>\n",
       "\t\t<td>-0.9750154268982524</td>\n",
       "\t\t<td>-0.06063136796392176</td>\n",
       "\t</tr>\n",
       "\t<tr>\n",
       "\t\t<td>0</td>\n",
       "\t\t<td>1</td>\n",
       "\t\t<td>0</td>\n",
       "\t\t<td>0</td>\n",
       "\t\t<td>7281.5056</td>\n",
       "\t\t<td>1</td>\n",
       "\t\t<td>1</td>\n",
       "\t\t<td>202</td>\n",
       "\t\t<td>0.2</td>\n",
       "\t\t<td>-0.9750154268982524</td>\n",
       "\t\t<td>-0.27008518456656094</td>\n",
       "\t</tr>\n",
       "\t<tr>\n",
       "\t\t<td>0</td>\n",
       "\t\t<td>1</td>\n",
       "\t\t<td>0</td>\n",
       "\t\t<td>0</td>\n",
       "\t\t<td>7153.5539</td>\n",
       "\t\t<td>1</td>\n",
       "\t\t<td>1</td>\n",
       "\t\t<td>37</td>\n",
       "\t\t<td>-0.6</td>\n",
       "\t\t<td>-0.9750154268982524</td>\n",
       "\t\t<td>-0.23200267245699016</td>\n",
       "\t</tr>\n",
       "\t<tr>\n",
       "\t\t<td>0</td>\n",
       "\t\t<td>1</td>\n",
       "\t\t<td>0</td>\n",
       "\t\t<td>0</td>\n",
       "\t\t<td>7265.7025</td>\n",
       "\t\t<td>0</td>\n",
       "\t\t<td>1</td>\n",
       "\t\t<td>85</td>\n",
       "\t\t<td>-0.2</td>\n",
       "\t\t<td>-0.9750154268982524</td>\n",
       "\t\t<td>0.351929179889761</td>\n",
       "\t</tr>\n",
       "\t<tr>\n",
       "\t\t<td>0</td>\n",
       "\t\t<td>1</td>\n",
       "\t\t<td>0</td>\n",
       "\t\t<td>0</td>\n",
       "\t\t<td>8671.1912</td>\n",
       "\t\t<td>1</td>\n",
       "\t\t<td>1</td>\n",
       "\t\t<td>149</td>\n",
       "\t\t<td>-1.0</td>\n",
       "\t\t<td>-0.9750154268982524</td>\n",
       "\t\t<td>0.32019375313178583</td>\n",
       "\t</tr>\n",
       "\t<tr>\n",
       "\t\t<td>1</td>\n",
       "\t\t<td>1</td>\n",
       "\t\t<td>0</td>\n",
       "\t\t<td>0</td>\n",
       "\t\t<td>3736.4647</td>\n",
       "\t\t<td>1</td>\n",
       "\t\t<td>0</td>\n",
       "\t\t<td>132</td>\n",
       "\t\t<td>-1.0</td>\n",
       "\t\t<td>-0.9750154268982524</td>\n",
       "\t\t<td>-0.384332720895273</td>\n",
       "\t</tr>\n",
       "\t<tr>\n",
       "\t\t<td>1</td>\n",
       "\t\t<td>1</td>\n",
       "\t\t<td>0</td>\n",
       "\t\t<td>0</td>\n",
       "\t\t<td>19673.3357</td>\n",
       "\t\t<td>0</td>\n",
       "\t\t<td>0</td>\n",
       "\t\t<td>78</td>\n",
       "\t\t<td>-1.0</td>\n",
       "\t\t<td>-0.9750154268982524</td>\n",
       "\t\t<td>0.13612827793552706</td>\n",
       "\t</tr>\n",
       "\t<tr>\n",
       "\t\t<td>1</td>\n",
       "\t\t<td>1</td>\n",
       "\t\t<td>0</td>\n",
       "\t\t<td>0</td>\n",
       "\t\t<td>5312.1699</td>\n",
       "\t\t<td>1</td>\n",
       "\t\t<td>0</td>\n",
       "\t\t<td>86</td>\n",
       "\t\t<td>0.2</td>\n",
       "\t\t<td>-0.9750154268982524</td>\n",
       "\t\t<td>-0.3652914648404876</td>\n",
       "\t</tr>\n",
       "\t<tr>\n",
       "\t\t<td>0</td>\n",
       "\t\t<td>1</td>\n",
       "\t\t<td>1</td>\n",
       "\t\t<td>0</td>\n",
       "\t\t<td>11305.9345</td>\n",
       "\t\t<td>1</td>\n",
       "\t\t<td>0</td>\n",
       "\t\t<td>206</td>\n",
       "\t\t<td>-0.6</td>\n",
       "\t\t<td>-0.9750154268982524</td>\n",
       "\t\t<td>-0.27643226991815595</td>\n",
       "\t</tr>\n",
       "</table></html>"
      ],
      "text/plain": [
       "   r_age_0  r_smoker_0  r_age_2  r_smoker_1     charges  r_sex_0  r_age_1   id  r_children  r_region     r_bmi\n",
       "0        0           1        0           0   6986.6970        0        1   26        -0.2 -0.975015  0.034575\n",
       "1        0           1        0           0   6796.8633        0        1  186         0.2 -0.975015 -0.060631\n",
       "2        0           1        0           0   7281.5056        1        1  202         0.2 -0.975015 -0.270085\n",
       "3        0           1        0           0   7153.5539        1        1   37        -0.6 -0.975015 -0.232003\n",
       "4        0           1        0           0   7265.7025        0        1   85        -0.2 -0.975015  0.351929\n",
       "5        0           1        0           0   8671.1912        1        1  149        -1.0 -0.975015  0.320194\n",
       "6        1           1        0           0   3736.4647        1        0  132        -1.0 -0.975015 -0.384333\n",
       "7        1           1        0           0  19673.3357        0        0   78        -1.0 -0.975015  0.136128\n",
       "8        1           1        0           0   5312.1699        1        0   86         0.2 -0.975015 -0.365291\n",
       "9        0           1        1           0  11305.9345        1        0  206        -0.6 -0.975015 -0.276432"
      ]
     },
     "metadata": {},
     "output_type": "display_data"
    },
    {
     "name": "stdout",
     "output_type": "stream",
     "text": [
      "                                                                                                  \r"
     ]
    },
    {
     "data": {
      "text/html": [
       "268 rows X 11 columns"
      ],
      "text/plain": [
       "<IPython.core.display.HTML object>"
      ]
     },
     "metadata": {},
     "output_type": "display_data"
    },
    {
     "name": "stdout",
     "output_type": "stream",
     "text": [
      "                                                                                                  \r"
     ]
    },
    {
     "data": {
      "text/html": [
       "\n",
       "Updated dataset after performing scaling for PCA feature selection :"
      ],
      "text/plain": [
       "<IPython.core.display.HTML object>"
      ]
     },
     "metadata": {},
     "output_type": "display_data"
    },
    {
     "data": {
      "text/html": [
       "<style type=\"text/css\">\n",
       "\ttable {border:ridge 5px;}\n",
       "\ttable td {border:inset 1px;}\n",
       "\ttable tr#HeaderRow {background-color:grey; color:white;}</style>\n",
       "<html><table>\n",
       "\t<tr id=\"HeaderRow\">\n",
       "\t\t<th>age_1</th>\n",
       "\t\t<th>age_0</th>\n",
       "\t\t<th>charges</th>\n",
       "\t\t<th>smoker_0</th>\n",
       "\t\t<th>smoker_1</th>\n",
       "\t\t<th>sex_1</th>\n",
       "\t\t<th>age_2</th>\n",
       "\t\t<th>sex_0</th>\n",
       "\t\t<th>id</th>\n",
       "\t\t<th>region</th>\n",
       "\t\t<th>bmi</th>\n",
       "\t\t<th>children</th>\n",
       "\t</tr>\n",
       "\t<tr>\n",
       "\t\t<td>1</td>\n",
       "\t\t<td>0</td>\n",
       "\t\t<td>6986.697</td>\n",
       "\t\t<td>1</td>\n",
       "\t\t<td>0</td>\n",
       "\t\t<td>1</td>\n",
       "\t\t<td>0</td>\n",
       "\t\t<td>0</td>\n",
       "\t\t<td>26</td>\n",
       "\t\t<td>-0.9750154091274671</td>\n",
       "\t\t<td>0.034574912310004896</td>\n",
       "\t\t<td>-0.2</td>\n",
       "\t</tr>\n",
       "\t<tr>\n",
       "\t\t<td>1</td>\n",
       "\t\t<td>0</td>\n",
       "\t\t<td>6796.8633</td>\n",
       "\t\t<td>1</td>\n",
       "\t\t<td>0</td>\n",
       "\t\t<td>1</td>\n",
       "\t\t<td>0</td>\n",
       "\t\t<td>0</td>\n",
       "\t\t<td>186</td>\n",
       "\t\t<td>-0.9750154091274671</td>\n",
       "\t\t<td>-0.06063136796392176</td>\n",
       "\t\t<td>0.2</td>\n",
       "\t</tr>\n",
       "\t<tr>\n",
       "\t\t<td>1</td>\n",
       "\t\t<td>0</td>\n",
       "\t\t<td>7281.5056</td>\n",
       "\t\t<td>1</td>\n",
       "\t\t<td>0</td>\n",
       "\t\t<td>0</td>\n",
       "\t\t<td>0</td>\n",
       "\t\t<td>1</td>\n",
       "\t\t<td>202</td>\n",
       "\t\t<td>-0.9750154091274671</td>\n",
       "\t\t<td>-0.27008518456656094</td>\n",
       "\t\t<td>0.2</td>\n",
       "\t</tr>\n",
       "\t<tr>\n",
       "\t\t<td>1</td>\n",
       "\t\t<td>0</td>\n",
       "\t\t<td>7153.5539</td>\n",
       "\t\t<td>1</td>\n",
       "\t\t<td>0</td>\n",
       "\t\t<td>0</td>\n",
       "\t\t<td>0</td>\n",
       "\t\t<td>1</td>\n",
       "\t\t<td>37</td>\n",
       "\t\t<td>-0.9750154091274671</td>\n",
       "\t\t<td>-0.23200267245699016</td>\n",
       "\t\t<td>-0.6</td>\n",
       "\t</tr>\n",
       "\t<tr>\n",
       "\t\t<td>1</td>\n",
       "\t\t<td>0</td>\n",
       "\t\t<td>7265.7025</td>\n",
       "\t\t<td>1</td>\n",
       "\t\t<td>0</td>\n",
       "\t\t<td>1</td>\n",
       "\t\t<td>0</td>\n",
       "\t\t<td>0</td>\n",
       "\t\t<td>85</td>\n",
       "\t\t<td>-0.9750154091274671</td>\n",
       "\t\t<td>0.351929179889761</td>\n",
       "\t\t<td>-0.2</td>\n",
       "\t</tr>\n",
       "\t<tr>\n",
       "\t\t<td>1</td>\n",
       "\t\t<td>0</td>\n",
       "\t\t<td>8671.1912</td>\n",
       "\t\t<td>1</td>\n",
       "\t\t<td>0</td>\n",
       "\t\t<td>0</td>\n",
       "\t\t<td>0</td>\n",
       "\t\t<td>1</td>\n",
       "\t\t<td>149</td>\n",
       "\t\t<td>-0.9750154091274671</td>\n",
       "\t\t<td>0.32019375313178583</td>\n",
       "\t\t<td>-1.0</td>\n",
       "\t</tr>\n",
       "\t<tr>\n",
       "\t\t<td>0</td>\n",
       "\t\t<td>1</td>\n",
       "\t\t<td>3736.4647</td>\n",
       "\t\t<td>1</td>\n",
       "\t\t<td>0</td>\n",
       "\t\t<td>0</td>\n",
       "\t\t<td>0</td>\n",
       "\t\t<td>1</td>\n",
       "\t\t<td>132</td>\n",
       "\t\t<td>-0.9750154091274671</td>\n",
       "\t\t<td>-0.384332720895273</td>\n",
       "\t\t<td>-1.0</td>\n",
       "\t</tr>\n",
       "\t<tr>\n",
       "\t\t<td>0</td>\n",
       "\t\t<td>1</td>\n",
       "\t\t<td>19673.3357</td>\n",
       "\t\t<td>1</td>\n",
       "\t\t<td>0</td>\n",
       "\t\t<td>1</td>\n",
       "\t\t<td>0</td>\n",
       "\t\t<td>0</td>\n",
       "\t\t<td>78</td>\n",
       "\t\t<td>-0.9750154091274671</td>\n",
       "\t\t<td>0.13612827793552706</td>\n",
       "\t\t<td>-1.0</td>\n",
       "\t</tr>\n",
       "\t<tr>\n",
       "\t\t<td>0</td>\n",
       "\t\t<td>1</td>\n",
       "\t\t<td>5312.1699</td>\n",
       "\t\t<td>1</td>\n",
       "\t\t<td>0</td>\n",
       "\t\t<td>0</td>\n",
       "\t\t<td>0</td>\n",
       "\t\t<td>1</td>\n",
       "\t\t<td>86</td>\n",
       "\t\t<td>-0.9750154091274671</td>\n",
       "\t\t<td>-0.3652914648404876</td>\n",
       "\t\t<td>0.2</td>\n",
       "\t</tr>\n",
       "\t<tr>\n",
       "\t\t<td>0</td>\n",
       "\t\t<td>0</td>\n",
       "\t\t<td>11305.9345</td>\n",
       "\t\t<td>1</td>\n",
       "\t\t<td>0</td>\n",
       "\t\t<td>0</td>\n",
       "\t\t<td>1</td>\n",
       "\t\t<td>1</td>\n",
       "\t\t<td>206</td>\n",
       "\t\t<td>-0.9750154091274671</td>\n",
       "\t\t<td>-0.27643226991815595</td>\n",
       "\t\t<td>-0.6</td>\n",
       "\t</tr>\n",
       "</table></html>"
      ],
      "text/plain": [
       "   age_1  age_0     charges  smoker_0  smoker_1  sex_1  age_2  sex_0   id    region       bmi  children\n",
       "0      1      0   6986.6970         1         0      1      0      0   26 -0.975015  0.034575      -0.2\n",
       "1      1      0   6796.8633         1         0      1      0      0  186 -0.975015 -0.060631       0.2\n",
       "2      1      0   7281.5056         1         0      0      0      1  202 -0.975015 -0.270085       0.2\n",
       "3      1      0   7153.5539         1         0      0      0      1   37 -0.975015 -0.232003      -0.6\n",
       "4      1      0   7265.7025         1         0      1      0      0   85 -0.975015  0.351929      -0.2\n",
       "5      1      0   8671.1912         1         0      0      0      1  149 -0.975015  0.320194      -1.0\n",
       "6      0      1   3736.4647         1         0      0      0      1  132 -0.975015 -0.384333      -1.0\n",
       "7      0      1  19673.3357         1         0      1      0      0   78 -0.975015  0.136128      -1.0\n",
       "8      0      1   5312.1699         1         0      0      0      1   86 -0.975015 -0.365291       0.2\n",
       "9      0      0  11305.9345         1         0      0      1      1  206 -0.975015 -0.276432      -0.6"
      ]
     },
     "metadata": {},
     "output_type": "display_data"
    },
    {
     "name": "stdout",
     "output_type": "stream",
     "text": [
      "                                                                                                  \r"
     ]
    },
    {
     "data": {
      "text/html": [
       "268 rows X 12 columns"
      ],
      "text/plain": [
       "<IPython.core.display.HTML object>"
      ]
     },
     "metadata": {},
     "output_type": "display_data"
    },
    {
     "name": "stdout",
     "output_type": "stream",
     "text": [
      "                                                                                                  \r"
     ]
    },
    {
     "data": {
      "text/html": [
       "\n",
       "Updated dataset after performing PCA feature selection :"
      ],
      "text/plain": [
       "<IPython.core.display.HTML object>"
      ]
     },
     "metadata": {},
     "output_type": "display_data"
    },
    {
     "data": {
      "text/html": [
       "<div>\n",
       "<style scoped>\n",
       "    .dataframe tbody tr th:only-of-type {\n",
       "        vertical-align: middle;\n",
       "    }\n",
       "\n",
       "    .dataframe tbody tr th {\n",
       "        vertical-align: top;\n",
       "    }\n",
       "\n",
       "    .dataframe thead th {\n",
       "        text-align: right;\n",
       "    }\n",
       "</style>\n",
       "<table border=\"1\" class=\"dataframe\">\n",
       "  <thead>\n",
       "    <tr style=\"text-align: right;\">\n",
       "      <th></th>\n",
       "      <th>id</th>\n",
       "      <th>col_0</th>\n",
       "      <th>col_1</th>\n",
       "      <th>col_2</th>\n",
       "      <th>col_3</th>\n",
       "      <th>col_4</th>\n",
       "      <th>col_5</th>\n",
       "      <th>col_6</th>\n",
       "      <th>charges</th>\n",
       "    </tr>\n",
       "  </thead>\n",
       "  <tbody>\n",
       "    <tr>\n",
       "      <th>0</th>\n",
       "      <td>175</td>\n",
       "      <td>-0.770142</td>\n",
       "      <td>0.671868</td>\n",
       "      <td>0.521479</td>\n",
       "      <td>0.048138</td>\n",
       "      <td>-0.816196</td>\n",
       "      <td>-0.060349</td>\n",
       "      <td>-0.346000</td>\n",
       "      <td>6710.1919</td>\n",
       "    </tr>\n",
       "    <tr>\n",
       "      <th>1</th>\n",
       "      <td>132</td>\n",
       "      <td>-0.763231</td>\n",
       "      <td>-0.598706</td>\n",
       "      <td>-0.928177</td>\n",
       "      <td>0.242607</td>\n",
       "      <td>0.052345</td>\n",
       "      <td>-0.305015</td>\n",
       "      <td>-0.059014</td>\n",
       "      <td>3736.4647</td>\n",
       "    </tr>\n",
       "    <tr>\n",
       "      <th>2</th>\n",
       "      <td>283</td>\n",
       "      <td>-0.653826</td>\n",
       "      <td>-0.452615</td>\n",
       "      <td>0.869602</td>\n",
       "      <td>1.145313</td>\n",
       "      <td>0.311292</td>\n",
       "      <td>-0.346274</td>\n",
       "      <td>0.257270</td>\n",
       "      <td>39725.5180</td>\n",
       "    </tr>\n",
       "    <tr>\n",
       "      <th>3</th>\n",
       "      <td>78</td>\n",
       "      <td>-0.588051</td>\n",
       "      <td>0.789345</td>\n",
       "      <td>-0.843726</td>\n",
       "      <td>-0.107676</td>\n",
       "      <td>-0.064668</td>\n",
       "      <td>-0.263046</td>\n",
       "      <td>0.351137</td>\n",
       "      <td>19673.3357</td>\n",
       "    </tr>\n",
       "    <tr>\n",
       "      <th>4</th>\n",
       "      <td>26</td>\n",
       "      <td>-0.705129</td>\n",
       "      <td>0.687312</td>\n",
       "      <td>0.552833</td>\n",
       "      <td>-0.027791</td>\n",
       "      <td>-0.808021</td>\n",
       "      <td>0.018577</td>\n",
       "      <td>0.157359</td>\n",
       "      <td>6986.6970</td>\n",
       "    </tr>\n",
       "    <tr>\n",
       "      <th>5</th>\n",
       "      <td>86</td>\n",
       "      <td>-0.822276</td>\n",
       "      <td>-0.577105</td>\n",
       "      <td>-0.648558</td>\n",
       "      <td>0.406975</td>\n",
       "      <td>-0.231283</td>\n",
       "      <td>0.805128</td>\n",
       "      <td>-0.194449</td>\n",
       "      <td>5312.1699</td>\n",
       "    </tr>\n",
       "    <tr>\n",
       "      <th>6</th>\n",
       "      <td>50</td>\n",
       "      <td>-0.718710</td>\n",
       "      <td>-0.674225</td>\n",
       "      <td>0.443620</td>\n",
       "      <td>0.101957</td>\n",
       "      <td>-0.578619</td>\n",
       "      <td>-0.221149</td>\n",
       "      <td>0.891148</td>\n",
       "      <td>28476.7350</td>\n",
       "    </tr>\n",
       "    <tr>\n",
       "      <th>7</th>\n",
       "      <td>206</td>\n",
       "      <td>-0.830598</td>\n",
       "      <td>-0.765678</td>\n",
       "      <td>0.147061</td>\n",
       "      <td>-0.588339</td>\n",
       "      <td>0.428434</td>\n",
       "      <td>0.061251</td>\n",
       "      <td>-0.189481</td>\n",
       "      <td>11305.9345</td>\n",
       "    </tr>\n",
       "    <tr>\n",
       "      <th>8</th>\n",
       "      <td>186</td>\n",
       "      <td>-0.737496</td>\n",
       "      <td>0.691499</td>\n",
       "      <td>0.639922</td>\n",
       "      <td>0.041814</td>\n",
       "      <td>-0.904159</td>\n",
       "      <td>0.373225</td>\n",
       "      <td>0.013997</td>\n",
       "      <td>6796.8633</td>\n",
       "    </tr>\n",
       "    <tr>\n",
       "      <th>9</th>\n",
       "      <td>246</td>\n",
       "      <td>-0.652131</td>\n",
       "      <td>0.785998</td>\n",
       "      <td>-0.771932</td>\n",
       "      <td>-0.001033</td>\n",
       "      <td>-0.164794</td>\n",
       "      <td>0.053101</td>\n",
       "      <td>-0.037766</td>\n",
       "      <td>4243.5900</td>\n",
       "    </tr>\n",
       "  </tbody>\n",
       "</table>\n",
       "</div>"
      ],
      "text/plain": [
       "    id     col_0     col_1     col_2     col_3     col_4     col_5     col_6  \\\n",
       "0  175 -0.770142  0.671868  0.521479  0.048138 -0.816196 -0.060349 -0.346000   \n",
       "1  132 -0.763231 -0.598706 -0.928177  0.242607  0.052345 -0.305015 -0.059014   \n",
       "2  283 -0.653826 -0.452615  0.869602  1.145313  0.311292 -0.346274  0.257270   \n",
       "3   78 -0.588051  0.789345 -0.843726 -0.107676 -0.064668 -0.263046  0.351137   \n",
       "4   26 -0.705129  0.687312  0.552833 -0.027791 -0.808021  0.018577  0.157359   \n",
       "5   86 -0.822276 -0.577105 -0.648558  0.406975 -0.231283  0.805128 -0.194449   \n",
       "6   50 -0.718710 -0.674225  0.443620  0.101957 -0.578619 -0.221149  0.891148   \n",
       "7  206 -0.830598 -0.765678  0.147061 -0.588339  0.428434  0.061251 -0.189481   \n",
       "8  186 -0.737496  0.691499  0.639922  0.041814 -0.904159  0.373225  0.013997   \n",
       "9  246 -0.652131  0.785998 -0.771932 -0.001033 -0.164794  0.053101 -0.037766   \n",
       "\n",
       "      charges  \n",
       "0   6710.1919  \n",
       "1   3736.4647  \n",
       "2  39725.5180  \n",
       "3  19673.3357  \n",
       "4   6986.6970  \n",
       "5   5312.1699  \n",
       "6  28476.7350  \n",
       "7  11305.9345  \n",
       "8   6796.8633  \n",
       "9   4243.5900  "
      ]
     },
     "metadata": {},
     "output_type": "display_data"
    },
    {
     "name": "stdout",
     "output_type": "stream",
     "text": [
      "                                                                                                  \r"
     ]
    },
    {
     "data": {
      "text/html": [
       "10 rows X 9 columns"
      ],
      "text/plain": [
       "<IPython.core.display.HTML object>"
      ]
     },
     "metadata": {},
     "output_type": "display_data"
    },
    {
     "name": "stdout",
     "output_type": "stream",
     "text": [
      "Data Transformation completed.⫿⫿⫿⫿⫿⫿⫿⫿⫿⫿⫿⫿⫿⫿⫿⫿⫿⫿⫿⫿⫿⫿⫿⫿⫿⫿⫿⫿⫿⫿⫿⫿⫿⫿⫿⫿⫿⫿⫿⫿⫿⫿｜ 100% - 15/15            \n",
      "\n",
      "Following model is being used for generating prediction :\n",
      "Model ID : KNN_1 \n",
      "Feature Selection Method : rfe\n",
      "\n",
      "Prediction : \n",
      "   id    prediction    charges\n",
      "0  22   6363.857843  4883.8660\n",
      "1   8   4966.361457  3392.9768\n",
      "2  18   7563.874503  6610.1097\n",
      "3  12   6816.002338  6373.5574\n",
      "4  41  13971.642533  5594.8455\n",
      "5  48   3323.587298  3410.3240\n",
      "6   9   6053.211447  3935.1799\n",
      "7  11   4722.283056  1263.2490\n",
      "8  28   7651.104969  6079.6715\n",
      "9  31   3247.089393  4544.2348\n",
      "\n",
      "Performance Metrics : \n",
      "           MAE           MSE      MSLE       MAPE        MPE         RMSE     RMSLE            ME        R2        EV          MPD       MGD\n",
      "0  3862.601327  3.645630e+07  0.260947  40.659354 -23.639828  6037.904959  0.510829  25608.380122  0.745668  0.745868  2791.913497  0.346978\n"
     ]
    }
   ],
   "source": [
    "# Generating prediction and metrics on test data\n",
    "prediction = aml.predict(insurance_df_test)"
   ]
  },
  {
   "cell_type": "code",
   "execution_count": 22,
   "id": "cc4f6a78-1cdf-4938-a9f1-22035d8404ca",
   "metadata": {},
   "outputs": [
    {
     "data": {
      "text/html": [
       "<style type=\"text/css\">\n",
       "\ttable {border:ridge 5px;}\n",
       "\ttable td {border:inset 1px;}\n",
       "\ttable tr#HeaderRow {background-color:grey; color:white;}</style>\n",
       "<html><table>\n",
       "\t<tr id=\"HeaderRow\">\n",
       "\t\t<th>id</th>\n",
       "\t\t<th>prediction</th>\n",
       "\t\t<th>charges</th>\n",
       "\t</tr>\n",
       "\t<tr>\n",
       "\t\t<td>10</td>\n",
       "\t\t<td>22643.909454739543</td>\n",
       "\t\t<td>7173.36</td>\n",
       "\t</tr>\n",
       "\t<tr>\n",
       "\t\t<td>12</td>\n",
       "\t\t<td>6816.002337846883</td>\n",
       "\t\t<td>6373.5574</td>\n",
       "\t</tr>\n",
       "\t<tr>\n",
       "\t\t<td>13</td>\n",
       "\t\t<td>13668.268482707004</td>\n",
       "\t\t<td>11552.904</td>\n",
       "\t</tr>\n",
       "\t<tr>\n",
       "\t\t<td>14</td>\n",
       "\t\t<td>14165.984896260547</td>\n",
       "\t\t<td>12950.0712</td>\n",
       "\t</tr>\n",
       "\t<tr>\n",
       "\t\t<td>16</td>\n",
       "\t\t<td>4132.596643533877</td>\n",
       "\t\t<td>2699.5684</td>\n",
       "\t</tr>\n",
       "\t<tr>\n",
       "\t\t<td>17</td>\n",
       "\t\t<td>7841.340417374437</td>\n",
       "\t\t<td>6753.038</td>\n",
       "\t</tr>\n",
       "\t<tr>\n",
       "\t\t<td>15</td>\n",
       "\t\t<td>2907.061703933909</td>\n",
       "\t\t<td>4357.0436</td>\n",
       "\t</tr>\n",
       "\t<tr>\n",
       "\t\t<td>11</td>\n",
       "\t\t<td>4722.283055803806</td>\n",
       "\t\t<td>1263.249</td>\n",
       "\t</tr>\n",
       "\t<tr>\n",
       "\t\t<td>9</td>\n",
       "\t\t<td>6053.211447159419</td>\n",
       "\t\t<td>3935.1799</td>\n",
       "\t</tr>\n",
       "\t<tr>\n",
       "\t\t<td>8</td>\n",
       "\t\t<td>4966.361456785501</td>\n",
       "\t\t<td>3392.9768</td>\n",
       "\t</tr>\n",
       "</table></html>"
      ],
      "text/plain": [
       "   id    prediction     charges\n",
       "0  10  22643.909455   7173.3600\n",
       "1  12   6816.002338   6373.5574\n",
       "2  13  13668.268483  11552.9040\n",
       "3  14  14165.984896  12950.0712\n",
       "4  16   4132.596644   2699.5684\n",
       "5  17   7841.340417   6753.0380\n",
       "6  15   2907.061704   4357.0436\n",
       "7  11   4722.283056   1263.2490\n",
       "8   9   6053.211447   3935.1799\n",
       "9   8   4966.361457   3392.9768"
      ]
     },
     "execution_count": 22,
     "metadata": {},
     "output_type": "execute_result"
    }
   ],
   "source": [
    "# Printing prediction\n",
    "prediction.head()"
   ]
  },
  {
   "cell_type": "code",
   "execution_count": 23,
   "id": "b2cba357-75ac-4089-a234-64a57067b117",
   "metadata": {},
   "outputs": [
    {
     "data": {
      "text/plain": [
       "True"
      ]
     },
     "execution_count": 23,
     "metadata": {},
     "output_type": "execute_result"
    }
   ],
   "source": [
    "remove_context()"
   ]
  }
 ],
 "metadata": {
  "kernelspec": {
   "display_name": "Python 3 (ipykernel)",
   "language": "python",
   "name": "python3"
  },
  "language_info": {
   "codemirror_mode": {
    "name": "ipython",
    "version": 3
   },
   "file_extension": ".py",
   "mimetype": "text/x-python",
   "name": "python",
   "nbconvert_exporter": "python",
   "pygments_lexer": "ipython3",
   "version": "3.10.9"
  }
 },
 "nbformat": 4,
 "nbformat_minor": 5
}
