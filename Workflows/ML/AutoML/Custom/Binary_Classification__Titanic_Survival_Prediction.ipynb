{
 "cells": [
  {
   "cell_type": "markdown",
   "id": "5ce569be-92c9-4f6c-a9e9-dcd791a2fff2",
   "metadata": {},
   "source": [
    "# <b><span style='color:#F1A424'>AutoML - Binary Classification - Titanic Survival Prediction </span> </b>"
   ]
  },
  {
   "cell_type": "markdown",
   "id": "33b119cb-e66d-484a-9af5-6425743ae27f",
   "metadata": {},
   "source": [
    "### Disclaimer\n",
    "Please note, the Vantage Functions via SQLAlchemy feature is a preview/beta code release with limited functionality (the “Code”). As such, you acknowledge that the Code is experimental in nature and that the Code is provided “AS IS” and may not be functional on any machine or in any environment. TERADATA DISCLAIMS ALL WARRANTIES RELATING TO THE CODE, EXPRESS OR IMPLIED, INCLUDING, BUT NOT LIMITED TO, ANY WARRANTIES AGAINST INFRINGEMENT OF THIRD-PARTY RIGHTS, MERCHANTABILITY AND FITNESS FOR A PARTICULAR PURPOSE.\n",
    "\n",
    "TERADATA SHALL NOT BE RESPONSIBLE OR LIABLE WITH RESPECT TO ANY SUBJECT MATTER OF THE CODE UNDER ANY CONTRACT, NEGLIGENCE, STRICT LIABILITY OR OTHER THEORY \n",
    "    (A) FOR LOSS OR INACCURACY OF DATA OR COST OF PROCUREMENT OF SUBSTITUTE GOODS, SERVICES OR TECHNOLOGY, OR \n",
    "    (B) FOR ANY INDIRECT, INCIDENTAL OR CONSEQUENTIAL DAMAGES INCLUDING, BUT NOT LIMITED TO LOSS OF REVENUES AND LOSS OF PROFITS. TERADATA SHALL NOT BE RESPONSIBLE FOR ANY MATTER BEYOND ITS REASONABLE CONTROL.\n",
    "\n",
    "Notwithstanding anything to the contrary: \n",
    "    (a) Teradata will have no obligation of any kind with respect to any Code-related comments, suggestions, design changes or improvements that you elect to provide to Teradata in either verbal or written form (collectively, “Feedback”), and \n",
    "    (b) Teradata and its affiliates are hereby free to use any ideas, concepts, know-how or techniques, in whole or in part, contained in Feedback: \n",
    "        (i) for any purpose whatsoever, including developing, manufacturing, and/or marketing products and/or services incorporating Feedback in whole or in part, and \n",
    "        (ii) without any restrictions or limitations, including requiring the payment of any license fees, royalties, or other consideration. "
   ]
  },
  {
   "cell_type": "markdown",
   "id": "7400309d-ab11-4fae-819a-f18c39ca107a",
   "metadata": {},
   "source": [
    "## <b> Problem overview:</b>\n",
    "    "
   ]
  },
  {
   "cell_type": "markdown",
   "id": "68e2d603-21ec-4384-ac30-f6bd0e0bfda6",
   "metadata": {},
   "source": [
    "\n",
    "The Titanic dataset is a well-known dataset in the field of machine learning and data science. It contains information about passengers aboard the RMS Titanic, including whether they survived or not. The dataset is often used for predictive modeling and classification tasks. Here are some key details about the Titanic dataset:\n",
    "\n",
    "**Features**:\n",
    "\n",
    "- `PassengerId`: Unique identifier for each passenger.\n",
    "- `Pclass`: Ticket class (1st, 2nd, or 3rd).\n",
    "- `Name`: Passenger's name.\n",
    "- `Sex`: Passenger's gender (male or female).\n",
    "- `Age`: Passenger's age.\n",
    "- `SibSp`: Number of siblings or spouses aboard.\n",
    "- `Parch`: Number of parents or children aboard.\n",
    "- `Ticket`: Ticket number.\n",
    "- `Fare`: Fare paid for the ticket.\n",
    "- `Cabin`: Cabin number.\n",
    "- `Embarked`: Port of embarkation (C = Cherbourg, Q = Queenstown, S = Southampton).\n",
    "\n",
    "**Target Variable**:\n",
    "\n",
    "- `Survived`: Binary variable indicating whether the passenger survived (1) or not (0).\n",
    "        \n",
    "**Objective**:\n",
    "\n",
    "The main objective is typically to build a predictive model that can accurately predict whether a passenger survived based on the available features.\n",
    "\n",
    "**Challenges**:\n",
    "\n",
    "- Missing data in the columns such as `Age`, `Cabin`, and `Embarked`.\n",
    "- Understanding passenger demographics and characteristics that influenced survival.(Model training)\n",
    "- Exploring feature engineering techniques to improve model performance.(Feature engineering)\n",
    "\n",
    "**Usecase**:\n",
    "\n",
    "Here, we will use AutoML(Automated Machine Learning) functionality to automate the entire process of developing a predictive model. It will perform feature exploration, feature engineering, data preparation, model training and evaluation on dataset in custom run and at end we will get leaderboard containined different models along with their performance. Model will also have rank associated with them which indicates which is best performing model for given data followed by other models.\n",
    "\n",
    "As part of custom AutoML run, we will customize below functionalities:\n",
    "- Missing value handling for 'cabin', 'age' and 'embraked' with customized options i.e., 'delete', 'impute with median' and 'impute with mode' correspondingly.\n",
    "- Binning on 'pclass' feature to get 2 different levels i.e., 'low' and 'high' based on values.\n",
    "- Customized ordinal encoding on 'pclass' and target encoding on 'embracked'.\n",
    "- Addition of 'parch' and 'sibsp' to get new feature 'Family_count'.\n",
    "- Deletion of id column 'passanger' using antiselect.\n",
    "- Train test split with training size 0.75.\n",
    "- Data imbalance handling with 'SMOTE' method.\n",
    "- Outlier filteration with 'percentile' method and customized lower-upper bound.\n",
    "- Feature scaling with 'std' method.\n",
    "- Addition of customized value in hyperparameter 'min_node_size' for 'xgboost' model."
   ]
  },
  {
   "cell_type": "code",
   "execution_count": 1,
   "id": "7e0c7a13-3587-456e-ac77-1e46af557a5c",
   "metadata": {},
   "outputs": [],
   "source": [
    "# Importing AutoML from teradataml\n",
    "from teradataml import AutoML, AutoClassifier"
   ]
  },
  {
   "cell_type": "code",
   "execution_count": 2,
   "id": "bca0e4be-1148-4a74-88af-9e2275090e04",
   "metadata": {},
   "outputs": [],
   "source": [
    "# Importing other important libraries\n",
    "\n",
    "import getpass\n",
    "from teradataml import create_context, remove_context\n",
    "from teradataml import DataFrame\n",
    "from teradataml import load_example_data\n",
    "from teradataml import TrainTestSplit"
   ]
  },
  {
   "cell_type": "code",
   "execution_count": 3,
   "id": "f0684174-378c-47f1-a926-bf6389704f02",
   "metadata": {},
   "outputs": [
    {
     "name": "stdin",
     "output_type": "stream",
     "text": [
      "Host:  ········\n",
      "Username:  ········\n",
      "Password:  ········\n"
     ]
    }
   ],
   "source": [
    "# Create the connection.\n",
    "\n",
    "host = getpass.getpass(\"Host: \")\n",
    "username = getpass.getpass(\"Username: \")\n",
    "password = getpass.getpass(\"Password: \")\n",
    "\n",
    "con = create_context(host=host, username=username, password=password)"
   ]
  },
  {
   "cell_type": "markdown",
   "id": "e8787873-7661-4dbf-8c3e-05efcbd5d9fa",
   "metadata": {},
   "source": [
    "## <b><span style='color:#F1A424'>| 1.</span> Loading Dataset </b>"
   ]
  },
  {
   "cell_type": "code",
   "execution_count": 4,
   "id": "d4baab86-9983-408b-921d-1c6d9839af25",
   "metadata": {},
   "outputs": [
    {
     "name": "stdout",
     "output_type": "stream",
     "text": [
      "WARNING: Skipped loading table titanic since it already exists in the database.\n"
     ]
    }
   ],
   "source": [
    "# Loading titanic dataset from example data collection\n",
    "load_example_data(\"teradataml\", \"titanic\")"
   ]
  },
  {
   "cell_type": "code",
   "execution_count": 5,
   "id": "fe485f1b-2802-4578-9f50-2f6d935fc881",
   "metadata": {},
   "outputs": [],
   "source": [
    "# Fetching in teradata dataframe\n",
    "titanic = DataFrame.from_table(\"titanic\")"
   ]
  },
  {
   "cell_type": "code",
   "execution_count": 6,
   "id": "bf8b7b60-f848-429c-9f69-4f26a8f3fef6",
   "metadata": {},
   "outputs": [
    {
     "data": {
      "text/plain": [
       "['passenger',\n",
       " 'survived',\n",
       " 'pclass',\n",
       " 'name',\n",
       " 'sex',\n",
       " 'age',\n",
       " 'sibsp',\n",
       " 'parch',\n",
       " 'ticket',\n",
       " 'fare',\n",
       " 'cabin',\n",
       " 'embarked']"
      ]
     },
     "execution_count": 6,
     "metadata": {},
     "output_type": "execute_result"
    }
   ],
   "source": [
    "titanic.columns"
   ]
  },
  {
   "cell_type": "code",
   "execution_count": 7,
   "id": "c31abd72-9ec0-4c65-a7e7-0522ec8ff113",
   "metadata": {},
   "outputs": [
    {
     "data": {
      "text/html": [
       "<style type=\"text/css\">\n",
       "\ttable {border:ridge 5px;}\n",
       "\ttable td {border:inset 1px;}\n",
       "\ttable tr#HeaderRow {background-color:grey; color:white;}</style>\n",
       "<html><table>\n",
       "\t<tr id=\"HeaderRow\">\n",
       "\t\t<th>passenger</th>\n",
       "\t\t<th>survived</th>\n",
       "\t\t<th>pclass</th>\n",
       "\t\t<th>name</th>\n",
       "\t\t<th>sex</th>\n",
       "\t\t<th>age</th>\n",
       "\t\t<th>sibsp</th>\n",
       "\t\t<th>parch</th>\n",
       "\t\t<th>ticket</th>\n",
       "\t\t<th>fare</th>\n",
       "\t\t<th>cabin</th>\n",
       "\t\t<th>embarked</th>\n",
       "\t</tr>\n",
       "\t<tr>\n",
       "\t\t<td>3</td>\n",
       "\t\t<td>1</td>\n",
       "\t\t<td>3</td>\n",
       "\t\t<td>Heikkinen, Miss. Laina</td>\n",
       "\t\t<td>female</td>\n",
       "\t\t<td>26</td>\n",
       "\t\t<td>0</td>\n",
       "\t\t<td>0</td>\n",
       "\t\t<td>STON/O2. 3101282</td>\n",
       "\t\t<td>7.925</td>\n",
       "\t\t<td>None</td>\n",
       "\t\t<td>S</td>\n",
       "\t</tr>\n",
       "\t<tr>\n",
       "\t\t<td>5</td>\n",
       "\t\t<td>0</td>\n",
       "\t\t<td>3</td>\n",
       "\t\t<td>Allen, Mr. William Henry</td>\n",
       "\t\t<td>male</td>\n",
       "\t\t<td>35</td>\n",
       "\t\t<td>0</td>\n",
       "\t\t<td>0</td>\n",
       "\t\t<td>373450</td>\n",
       "\t\t<td>8.05</td>\n",
       "\t\t<td>None</td>\n",
       "\t\t<td>S</td>\n",
       "\t</tr>\n",
       "\t<tr>\n",
       "\t\t<td>6</td>\n",
       "\t\t<td>0</td>\n",
       "\t\t<td>3</td>\n",
       "\t\t<td>Moran, Mr. James</td>\n",
       "\t\t<td>male</td>\n",
       "\t\t<td>None</td>\n",
       "\t\t<td>0</td>\n",
       "\t\t<td>0</td>\n",
       "\t\t<td>330877</td>\n",
       "\t\t<td>8.4583</td>\n",
       "\t\t<td>None</td>\n",
       "\t\t<td>Q</td>\n",
       "\t</tr>\n",
       "\t<tr>\n",
       "\t\t<td>7</td>\n",
       "\t\t<td>0</td>\n",
       "\t\t<td>1</td>\n",
       "\t\t<td>McCarthy, Mr. Timothy J</td>\n",
       "\t\t<td>male</td>\n",
       "\t\t<td>54</td>\n",
       "\t\t<td>0</td>\n",
       "\t\t<td>0</td>\n",
       "\t\t<td>17463</td>\n",
       "\t\t<td>51.8625</td>\n",
       "\t\t<td>E46</td>\n",
       "\t\t<td>S</td>\n",
       "\t</tr>\n",
       "\t<tr>\n",
       "\t\t<td>9</td>\n",
       "\t\t<td>1</td>\n",
       "\t\t<td>3</td>\n",
       "\t\t<td>Johnson, Mrs. Oscar W (Elisabeth Vilhelmina Berg)</td>\n",
       "\t\t<td>female</td>\n",
       "\t\t<td>27</td>\n",
       "\t\t<td>0</td>\n",
       "\t\t<td>2</td>\n",
       "\t\t<td>347742</td>\n",
       "\t\t<td>11.1333</td>\n",
       "\t\t<td>None</td>\n",
       "\t\t<td>S</td>\n",
       "\t</tr>\n",
       "\t<tr>\n",
       "\t\t<td>10</td>\n",
       "\t\t<td>1</td>\n",
       "\t\t<td>2</td>\n",
       "\t\t<td>Nasser, Mrs. Nicholas (Adele Achem)</td>\n",
       "\t\t<td>female</td>\n",
       "\t\t<td>14</td>\n",
       "\t\t<td>1</td>\n",
       "\t\t<td>0</td>\n",
       "\t\t<td>237736</td>\n",
       "\t\t<td>30.0708</td>\n",
       "\t\t<td>None</td>\n",
       "\t\t<td>C</td>\n",
       "\t</tr>\n",
       "\t<tr>\n",
       "\t\t<td>8</td>\n",
       "\t\t<td>0</td>\n",
       "\t\t<td>3</td>\n",
       "\t\t<td>Palsson, Master. Gosta Leonard</td>\n",
       "\t\t<td>male</td>\n",
       "\t\t<td>2</td>\n",
       "\t\t<td>3</td>\n",
       "\t\t<td>1</td>\n",
       "\t\t<td>349909</td>\n",
       "\t\t<td>21.075</td>\n",
       "\t\t<td>None</td>\n",
       "\t\t<td>S</td>\n",
       "\t</tr>\n",
       "\t<tr>\n",
       "\t\t<td>4</td>\n",
       "\t\t<td>1</td>\n",
       "\t\t<td>1</td>\n",
       "\t\t<td>Futrelle, Mrs. Jacques Heath (Lily May Peel)</td>\n",
       "\t\t<td>female</td>\n",
       "\t\t<td>35</td>\n",
       "\t\t<td>1</td>\n",
       "\t\t<td>0</td>\n",
       "\t\t<td>113803</td>\n",
       "\t\t<td>53.1</td>\n",
       "\t\t<td>C123</td>\n",
       "\t\t<td>S</td>\n",
       "\t</tr>\n",
       "\t<tr>\n",
       "\t\t<td>2</td>\n",
       "\t\t<td>1</td>\n",
       "\t\t<td>1</td>\n",
       "\t\t<td>Cumings, Mrs. John Bradley (Florence Briggs Thayer)</td>\n",
       "\t\t<td>female</td>\n",
       "\t\t<td>38</td>\n",
       "\t\t<td>1</td>\n",
       "\t\t<td>0</td>\n",
       "\t\t<td>PC 17599</td>\n",
       "\t\t<td>71.2833</td>\n",
       "\t\t<td>C85</td>\n",
       "\t\t<td>C</td>\n",
       "\t</tr>\n",
       "\t<tr>\n",
       "\t\t<td>1</td>\n",
       "\t\t<td>0</td>\n",
       "\t\t<td>3</td>\n",
       "\t\t<td>Braund, Mr. Owen Harris</td>\n",
       "\t\t<td>male</td>\n",
       "\t\t<td>22</td>\n",
       "\t\t<td>1</td>\n",
       "\t\t<td>0</td>\n",
       "\t\t<td>A/5 21171</td>\n",
       "\t\t<td>7.25</td>\n",
       "\t\t<td>None</td>\n",
       "\t\t<td>S</td>\n",
       "\t</tr>\n",
       "</table></html>"
      ],
      "text/plain": [
       "           survived  pclass                                                 name     sex   age  sibsp  parch            ticket     fare cabin embarked\n",
       "passenger                                                                                                                                             \n",
       "3                 1       3                               Heikkinen, Miss. Laina  female  26.0      0      0  STON/O2. 3101282   7.9250  None        S\n",
       "5                 0       3                             Allen, Mr. William Henry    male  35.0      0      0            373450   8.0500  None        S\n",
       "6                 0       3                                     Moran, Mr. James    male   NaN      0      0            330877   8.4583  None        Q\n",
       "7                 0       1                              McCarthy, Mr. Timothy J    male  54.0      0      0             17463  51.8625   E46        S\n",
       "9                 1       3    Johnson, Mrs. Oscar W (Elisabeth Vilhelmina Berg)  female  27.0      0      2            347742  11.1333  None        S\n",
       "10                1       2                  Nasser, Mrs. Nicholas (Adele Achem)  female  14.0      1      0            237736  30.0708  None        C\n",
       "8                 0       3                       Palsson, Master. Gosta Leonard    male   2.0      3      1            349909  21.0750  None        S\n",
       "4                 1       1         Futrelle, Mrs. Jacques Heath (Lily May Peel)  female  35.0      1      0            113803  53.1000  C123        S\n",
       "2                 1       1  Cumings, Mrs. John Bradley (Florence Briggs Thayer)  female  38.0      1      0          PC 17599  71.2833   C85        C\n",
       "1                 0       3                              Braund, Mr. Owen Harris    male  22.0      1      0         A/5 21171   7.2500  None        S"
      ]
     },
     "execution_count": 7,
     "metadata": {},
     "output_type": "execute_result"
    }
   ],
   "source": [
    "# titanic dataset\n",
    "titanic.head()"
   ]
  },
  {
   "cell_type": "code",
   "execution_count": 8,
   "id": "12bbd7c6-c50f-4d67-98e6-3ec2b5ee9863",
   "metadata": {},
   "outputs": [
    {
     "data": {
      "text/plain": [
       "(891, 12)"
      ]
     },
     "execution_count": 8,
     "metadata": {},
     "output_type": "execute_result"
    }
   ],
   "source": [
    "# titanic dataset\n",
    "titanic.shape"
   ]
  },
  {
   "cell_type": "code",
   "execution_count": 9,
   "id": "23ce533a-73db-4b33-9a68-3137e367d052",
   "metadata": {},
   "outputs": [],
   "source": [
    "# Performing sampling to get 80% for trainning and 20% for testing\n",
    "titanic_sample = titanic.sample(frac = [0.8, 0.2])"
   ]
  },
  {
   "cell_type": "code",
   "execution_count": 10,
   "id": "48c3c224-fe95-49e4-a72e-e86407ed7e4c",
   "metadata": {},
   "outputs": [
    {
     "data": {
      "text/html": [
       "<style type=\"text/css\">\n",
       "\ttable {border:ridge 5px;}\n",
       "\ttable td {border:inset 1px;}\n",
       "\ttable tr#HeaderRow {background-color:grey; color:white;}</style>\n",
       "<html><table>\n",
       "\t<tr id=\"HeaderRow\">\n",
       "\t\t<th>passenger</th>\n",
       "\t\t<th>survived</th>\n",
       "\t\t<th>pclass</th>\n",
       "\t\t<th>name</th>\n",
       "\t\t<th>sex</th>\n",
       "\t\t<th>age</th>\n",
       "\t\t<th>sibsp</th>\n",
       "\t\t<th>parch</th>\n",
       "\t\t<th>ticket</th>\n",
       "\t\t<th>fare</th>\n",
       "\t\t<th>cabin</th>\n",
       "\t\t<th>embarked</th>\n",
       "\t\t<th>sampleid</th>\n",
       "\t</tr>\n",
       "\t<tr>\n",
       "\t\t<td>3</td>\n",
       "\t\t<td>1</td>\n",
       "\t\t<td>3</td>\n",
       "\t\t<td>Heikkinen, Miss. Laina</td>\n",
       "\t\t<td>female</td>\n",
       "\t\t<td>26</td>\n",
       "\t\t<td>0</td>\n",
       "\t\t<td>0</td>\n",
       "\t\t<td>STON/O2. 3101282</td>\n",
       "\t\t<td>7.925</td>\n",
       "\t\t<td>None</td>\n",
       "\t\t<td>S</td>\n",
       "\t\t<td>2</td>\n",
       "\t</tr>\n",
       "\t<tr>\n",
       "\t\t<td>5</td>\n",
       "\t\t<td>0</td>\n",
       "\t\t<td>3</td>\n",
       "\t\t<td>Allen, Mr. William Henry</td>\n",
       "\t\t<td>male</td>\n",
       "\t\t<td>35</td>\n",
       "\t\t<td>0</td>\n",
       "\t\t<td>0</td>\n",
       "\t\t<td>373450</td>\n",
       "\t\t<td>8.05</td>\n",
       "\t\t<td>None</td>\n",
       "\t\t<td>S</td>\n",
       "\t\t<td>2</td>\n",
       "\t</tr>\n",
       "\t<tr>\n",
       "\t\t<td>6</td>\n",
       "\t\t<td>0</td>\n",
       "\t\t<td>3</td>\n",
       "\t\t<td>Moran, Mr. James</td>\n",
       "\t\t<td>male</td>\n",
       "\t\t<td>None</td>\n",
       "\t\t<td>0</td>\n",
       "\t\t<td>0</td>\n",
       "\t\t<td>330877</td>\n",
       "\t\t<td>8.4583</td>\n",
       "\t\t<td>None</td>\n",
       "\t\t<td>Q</td>\n",
       "\t\t<td>1</td>\n",
       "\t</tr>\n",
       "\t<tr>\n",
       "\t\t<td>7</td>\n",
       "\t\t<td>0</td>\n",
       "\t\t<td>1</td>\n",
       "\t\t<td>McCarthy, Mr. Timothy J</td>\n",
       "\t\t<td>male</td>\n",
       "\t\t<td>54</td>\n",
       "\t\t<td>0</td>\n",
       "\t\t<td>0</td>\n",
       "\t\t<td>17463</td>\n",
       "\t\t<td>51.8625</td>\n",
       "\t\t<td>E46</td>\n",
       "\t\t<td>S</td>\n",
       "\t\t<td>1</td>\n",
       "\t</tr>\n",
       "\t<tr>\n",
       "\t\t<td>9</td>\n",
       "\t\t<td>1</td>\n",
       "\t\t<td>3</td>\n",
       "\t\t<td>Johnson, Mrs. Oscar W (Elisabeth Vilhelmina Berg)</td>\n",
       "\t\t<td>female</td>\n",
       "\t\t<td>27</td>\n",
       "\t\t<td>0</td>\n",
       "\t\t<td>2</td>\n",
       "\t\t<td>347742</td>\n",
       "\t\t<td>11.1333</td>\n",
       "\t\t<td>None</td>\n",
       "\t\t<td>S</td>\n",
       "\t\t<td>1</td>\n",
       "\t</tr>\n",
       "\t<tr>\n",
       "\t\t<td>10</td>\n",
       "\t\t<td>1</td>\n",
       "\t\t<td>2</td>\n",
       "\t\t<td>Nasser, Mrs. Nicholas (Adele Achem)</td>\n",
       "\t\t<td>female</td>\n",
       "\t\t<td>14</td>\n",
       "\t\t<td>1</td>\n",
       "\t\t<td>0</td>\n",
       "\t\t<td>237736</td>\n",
       "\t\t<td>30.0708</td>\n",
       "\t\t<td>None</td>\n",
       "\t\t<td>C</td>\n",
       "\t\t<td>2</td>\n",
       "\t</tr>\n",
       "\t<tr>\n",
       "\t\t<td>8</td>\n",
       "\t\t<td>0</td>\n",
       "\t\t<td>3</td>\n",
       "\t\t<td>Palsson, Master. Gosta Leonard</td>\n",
       "\t\t<td>male</td>\n",
       "\t\t<td>2</td>\n",
       "\t\t<td>3</td>\n",
       "\t\t<td>1</td>\n",
       "\t\t<td>349909</td>\n",
       "\t\t<td>21.075</td>\n",
       "\t\t<td>None</td>\n",
       "\t\t<td>S</td>\n",
       "\t\t<td>2</td>\n",
       "\t</tr>\n",
       "\t<tr>\n",
       "\t\t<td>4</td>\n",
       "\t\t<td>1</td>\n",
       "\t\t<td>1</td>\n",
       "\t\t<td>Futrelle, Mrs. Jacques Heath (Lily May Peel)</td>\n",
       "\t\t<td>female</td>\n",
       "\t\t<td>35</td>\n",
       "\t\t<td>1</td>\n",
       "\t\t<td>0</td>\n",
       "\t\t<td>113803</td>\n",
       "\t\t<td>53.1</td>\n",
       "\t\t<td>C123</td>\n",
       "\t\t<td>S</td>\n",
       "\t\t<td>1</td>\n",
       "\t</tr>\n",
       "\t<tr>\n",
       "\t\t<td>2</td>\n",
       "\t\t<td>1</td>\n",
       "\t\t<td>1</td>\n",
       "\t\t<td>Cumings, Mrs. John Bradley (Florence Briggs Thayer)</td>\n",
       "\t\t<td>female</td>\n",
       "\t\t<td>38</td>\n",
       "\t\t<td>1</td>\n",
       "\t\t<td>0</td>\n",
       "\t\t<td>PC 17599</td>\n",
       "\t\t<td>71.2833</td>\n",
       "\t\t<td>C85</td>\n",
       "\t\t<td>C</td>\n",
       "\t\t<td>1</td>\n",
       "\t</tr>\n",
       "\t<tr>\n",
       "\t\t<td>1</td>\n",
       "\t\t<td>0</td>\n",
       "\t\t<td>3</td>\n",
       "\t\t<td>Braund, Mr. Owen Harris</td>\n",
       "\t\t<td>male</td>\n",
       "\t\t<td>22</td>\n",
       "\t\t<td>1</td>\n",
       "\t\t<td>0</td>\n",
       "\t\t<td>A/5 21171</td>\n",
       "\t\t<td>7.25</td>\n",
       "\t\t<td>None</td>\n",
       "\t\t<td>S</td>\n",
       "\t\t<td>1</td>\n",
       "\t</tr>\n",
       "</table></html>"
      ],
      "text/plain": [
       "           survived  pclass                                                 name     sex   age  sibsp  parch            ticket     fare cabin embarked  sampleid\n",
       "passenger                                                                                                                                                       \n",
       "3                 1       3                               Heikkinen, Miss. Laina  female  26.0      0      0  STON/O2. 3101282   7.9250  None        S         2\n",
       "5                 0       3                             Allen, Mr. William Henry    male  35.0      0      0            373450   8.0500  None        S         2\n",
       "6                 0       3                                     Moran, Mr. James    male   NaN      0      0            330877   8.4583  None        Q         1\n",
       "7                 0       1                              McCarthy, Mr. Timothy J    male  54.0      0      0             17463  51.8625   E46        S         1\n",
       "9                 1       3    Johnson, Mrs. Oscar W (Elisabeth Vilhelmina Berg)  female  27.0      0      2            347742  11.1333  None        S         1\n",
       "10                1       2                  Nasser, Mrs. Nicholas (Adele Achem)  female  14.0      1      0            237736  30.0708  None        C         2\n",
       "8                 0       3                       Palsson, Master. Gosta Leonard    male   2.0      3      1            349909  21.0750  None        S         2\n",
       "4                 1       1         Futrelle, Mrs. Jacques Heath (Lily May Peel)  female  35.0      1      0            113803  53.1000  C123        S         1\n",
       "2                 1       1  Cumings, Mrs. John Bradley (Florence Briggs Thayer)  female  38.0      1      0          PC 17599  71.2833   C85        C         1\n",
       "1                 0       3                              Braund, Mr. Owen Harris    male  22.0      1      0         A/5 21171   7.2500  None        S         1"
      ]
     },
     "execution_count": 10,
     "metadata": {},
     "output_type": "execute_result"
    }
   ],
   "source": [
    "titanic_sample.head()"
   ]
  },
  {
   "cell_type": "code",
   "execution_count": 11,
   "id": "8604f42e-ca4f-43eb-9577-4db68c8c025a",
   "metadata": {},
   "outputs": [],
   "source": [
    "# Fetching train and test data\n",
    "titanic_train= titanic_sample[titanic_sample['sampleid'] == 1].drop('sampleid', axis=1)\n",
    "titanic_test = titanic_sample[titanic_sample['sampleid'] == 2].drop('sampleid', axis=1)"
   ]
  },
  {
   "cell_type": "code",
   "execution_count": 12,
   "id": "80f5963e-be47-40e7-9fca-58210d2bb102",
   "metadata": {},
   "outputs": [
    {
     "data": {
      "text/plain": [
       "(713, 12)"
      ]
     },
     "execution_count": 12,
     "metadata": {},
     "output_type": "execute_result"
    }
   ],
   "source": [
    "# train data shape\n",
    "titanic_train.shape"
   ]
  },
  {
   "cell_type": "code",
   "execution_count": 13,
   "id": "cafae62d-f9bd-4911-a2ce-737ff8ff4568",
   "metadata": {},
   "outputs": [
    {
     "data": {
      "text/plain": [
       "(178, 12)"
      ]
     },
     "execution_count": 13,
     "metadata": {},
     "output_type": "execute_result"
    }
   ],
   "source": [
    "# test data shape\n",
    "titanic_test.shape"
   ]
  },
  {
   "cell_type": "code",
   "execution_count": 14,
   "id": "d56bca70-65ee-4a0c-93c9-f3c944fd7679",
   "metadata": {},
   "outputs": [
    {
     "data": {
      "text/html": [
       "<style type=\"text/css\">\n",
       "\ttable {border:ridge 5px;}\n",
       "\ttable td {border:inset 1px;}\n",
       "\ttable tr#HeaderRow {background-color:grey; color:white;}</style>\n",
       "<html><table>\n",
       "\t<tr id=\"HeaderRow\">\n",
       "\t\t<th>passenger</th>\n",
       "\t\t<th>survived</th>\n",
       "\t\t<th>pclass</th>\n",
       "\t\t<th>name</th>\n",
       "\t\t<th>sex</th>\n",
       "\t\t<th>age</th>\n",
       "\t\t<th>sibsp</th>\n",
       "\t\t<th>parch</th>\n",
       "\t\t<th>ticket</th>\n",
       "\t\t<th>fare</th>\n",
       "\t\t<th>cabin</th>\n",
       "\t\t<th>embarked</th>\n",
       "\t</tr>\n",
       "\t<tr>\n",
       "\t\t<td>4</td>\n",
       "\t\t<td>1</td>\n",
       "\t\t<td>1</td>\n",
       "\t\t<td>Futrelle, Mrs. Jacques Heath (Lily May Peel)</td>\n",
       "\t\t<td>female</td>\n",
       "\t\t<td>35</td>\n",
       "\t\t<td>1</td>\n",
       "\t\t<td>0</td>\n",
       "\t\t<td>113803</td>\n",
       "\t\t<td>53.1</td>\n",
       "\t\t<td>C123</td>\n",
       "\t\t<td>S</td>\n",
       "\t</tr>\n",
       "\t<tr>\n",
       "\t\t<td>7</td>\n",
       "\t\t<td>0</td>\n",
       "\t\t<td>1</td>\n",
       "\t\t<td>McCarthy, Mr. Timothy J</td>\n",
       "\t\t<td>male</td>\n",
       "\t\t<td>54</td>\n",
       "\t\t<td>0</td>\n",
       "\t\t<td>0</td>\n",
       "\t\t<td>17463</td>\n",
       "\t\t<td>51.8625</td>\n",
       "\t\t<td>E46</td>\n",
       "\t\t<td>S</td>\n",
       "\t</tr>\n",
       "\t<tr>\n",
       "\t\t<td>9</td>\n",
       "\t\t<td>1</td>\n",
       "\t\t<td>3</td>\n",
       "\t\t<td>Johnson, Mrs. Oscar W (Elisabeth Vilhelmina Berg)</td>\n",
       "\t\t<td>female</td>\n",
       "\t\t<td>27</td>\n",
       "\t\t<td>0</td>\n",
       "\t\t<td>2</td>\n",
       "\t\t<td>347742</td>\n",
       "\t\t<td>11.1333</td>\n",
       "\t\t<td>None</td>\n",
       "\t\t<td>S</td>\n",
       "\t</tr>\n",
       "\t<tr>\n",
       "\t\t<td>11</td>\n",
       "\t\t<td>1</td>\n",
       "\t\t<td>3</td>\n",
       "\t\t<td>Sandstrom, Miss. Marguerite Rut</td>\n",
       "\t\t<td>female</td>\n",
       "\t\t<td>4</td>\n",
       "\t\t<td>1</td>\n",
       "\t\t<td>1</td>\n",
       "\t\t<td>PP 9549</td>\n",
       "\t\t<td>16.7</td>\n",
       "\t\t<td>G6</td>\n",
       "\t\t<td>S</td>\n",
       "\t</tr>\n",
       "\t<tr>\n",
       "\t\t<td>13</td>\n",
       "\t\t<td>0</td>\n",
       "\t\t<td>3</td>\n",
       "\t\t<td>Saundercock, Mr. William Henry</td>\n",
       "\t\t<td>male</td>\n",
       "\t\t<td>20</td>\n",
       "\t\t<td>0</td>\n",
       "\t\t<td>0</td>\n",
       "\t\t<td>A/5. 2151</td>\n",
       "\t\t<td>8.05</td>\n",
       "\t\t<td>None</td>\n",
       "\t\t<td>S</td>\n",
       "\t</tr>\n",
       "\t<tr>\n",
       "\t\t<td>14</td>\n",
       "\t\t<td>0</td>\n",
       "\t\t<td>3</td>\n",
       "\t\t<td>Andersson, Mr. Anders Johan</td>\n",
       "\t\t<td>male</td>\n",
       "\t\t<td>39</td>\n",
       "\t\t<td>1</td>\n",
       "\t\t<td>5</td>\n",
       "\t\t<td>347082</td>\n",
       "\t\t<td>31.275</td>\n",
       "\t\t<td>None</td>\n",
       "\t\t<td>S</td>\n",
       "\t</tr>\n",
       "\t<tr>\n",
       "\t\t<td>12</td>\n",
       "\t\t<td>1</td>\n",
       "\t\t<td>1</td>\n",
       "\t\t<td>Bonnell, Miss. Elizabeth</td>\n",
       "\t\t<td>female</td>\n",
       "\t\t<td>58</td>\n",
       "\t\t<td>0</td>\n",
       "\t\t<td>0</td>\n",
       "\t\t<td>113783</td>\n",
       "\t\t<td>26.55</td>\n",
       "\t\t<td>C103</td>\n",
       "\t\t<td>S</td>\n",
       "\t</tr>\n",
       "\t<tr>\n",
       "\t\t<td>6</td>\n",
       "\t\t<td>0</td>\n",
       "\t\t<td>3</td>\n",
       "\t\t<td>Moran, Mr. James</td>\n",
       "\t\t<td>male</td>\n",
       "\t\t<td>None</td>\n",
       "\t\t<td>0</td>\n",
       "\t\t<td>0</td>\n",
       "\t\t<td>330877</td>\n",
       "\t\t<td>8.4583</td>\n",
       "\t\t<td>None</td>\n",
       "\t\t<td>Q</td>\n",
       "\t</tr>\n",
       "\t<tr>\n",
       "\t\t<td>2</td>\n",
       "\t\t<td>1</td>\n",
       "\t\t<td>1</td>\n",
       "\t\t<td>Cumings, Mrs. John Bradley (Florence Briggs Thayer)</td>\n",
       "\t\t<td>female</td>\n",
       "\t\t<td>38</td>\n",
       "\t\t<td>1</td>\n",
       "\t\t<td>0</td>\n",
       "\t\t<td>PC 17599</td>\n",
       "\t\t<td>71.2833</td>\n",
       "\t\t<td>C85</td>\n",
       "\t\t<td>C</td>\n",
       "\t</tr>\n",
       "\t<tr>\n",
       "\t\t<td>1</td>\n",
       "\t\t<td>0</td>\n",
       "\t\t<td>3</td>\n",
       "\t\t<td>Braund, Mr. Owen Harris</td>\n",
       "\t\t<td>male</td>\n",
       "\t\t<td>22</td>\n",
       "\t\t<td>1</td>\n",
       "\t\t<td>0</td>\n",
       "\t\t<td>A/5 21171</td>\n",
       "\t\t<td>7.25</td>\n",
       "\t\t<td>None</td>\n",
       "\t\t<td>S</td>\n",
       "\t</tr>\n",
       "</table></html>"
      ],
      "text/plain": [
       "           survived  pclass                                                 name     sex   age  sibsp  parch     ticket     fare cabin embarked\n",
       "passenger                                                                                                                                      \n",
       "4                 1       1         Futrelle, Mrs. Jacques Heath (Lily May Peel)  female  35.0      1      0     113803  53.1000  C123        S\n",
       "7                 0       1                              McCarthy, Mr. Timothy J    male  54.0      0      0      17463  51.8625   E46        S\n",
       "9                 1       3    Johnson, Mrs. Oscar W (Elisabeth Vilhelmina Berg)  female  27.0      0      2     347742  11.1333  None        S\n",
       "11                1       3                      Sandstrom, Miss. Marguerite Rut  female   4.0      1      1    PP 9549  16.7000    G6        S\n",
       "13                0       3                       Saundercock, Mr. William Henry    male  20.0      0      0  A/5. 2151   8.0500  None        S\n",
       "14                0       3                          Andersson, Mr. Anders Johan    male  39.0      1      5     347082  31.2750  None        S\n",
       "12                1       1                             Bonnell, Miss. Elizabeth  female  58.0      0      0     113783  26.5500  C103        S\n",
       "6                 0       3                                     Moran, Mr. James    male   NaN      0      0     330877   8.4583  None        Q\n",
       "2                 1       1  Cumings, Mrs. John Bradley (Florence Briggs Thayer)  female  38.0      1      0   PC 17599  71.2833   C85        C\n",
       "1                 0       3                              Braund, Mr. Owen Harris    male  22.0      1      0  A/5 21171   7.2500  None        S"
      ]
     },
     "execution_count": 14,
     "metadata": {},
     "output_type": "execute_result"
    }
   ],
   "source": [
    "# train dataset\n",
    "titanic_train.head()"
   ]
  },
  {
   "cell_type": "code",
   "execution_count": 15,
   "id": "edd90ecd-5ef4-4997-ba38-76338cd83a74",
   "metadata": {},
   "outputs": [
    {
     "data": {
      "text/html": [
       "<style type=\"text/css\">\n",
       "\ttable {border:ridge 5px;}\n",
       "\ttable td {border:inset 1px;}\n",
       "\ttable tr#HeaderRow {background-color:grey; color:white;}</style>\n",
       "<html><table>\n",
       "\t<tr id=\"HeaderRow\">\n",
       "\t\t<th>passenger</th>\n",
       "\t\t<th>survived</th>\n",
       "\t\t<th>pclass</th>\n",
       "\t\t<th>name</th>\n",
       "\t\t<th>sex</th>\n",
       "\t\t<th>age</th>\n",
       "\t\t<th>sibsp</th>\n",
       "\t\t<th>parch</th>\n",
       "\t\t<th>ticket</th>\n",
       "\t\t<th>fare</th>\n",
       "\t\t<th>cabin</th>\n",
       "\t\t<th>embarked</th>\n",
       "\t</tr>\n",
       "\t<tr>\n",
       "\t\t<td>8</td>\n",
       "\t\t<td>0</td>\n",
       "\t\t<td>3</td>\n",
       "\t\t<td>Palsson, Master. Gosta Leonard</td>\n",
       "\t\t<td>male</td>\n",
       "\t\t<td>2</td>\n",
       "\t\t<td>3</td>\n",
       "\t\t<td>1</td>\n",
       "\t\t<td>349909</td>\n",
       "\t\t<td>21.075</td>\n",
       "\t\t<td>None</td>\n",
       "\t\t<td>S</td>\n",
       "\t</tr>\n",
       "\t<tr>\n",
       "\t\t<td>15</td>\n",
       "\t\t<td>0</td>\n",
       "\t\t<td>3</td>\n",
       "\t\t<td>Vestrom, Miss. Hulda Amanda Adolfina</td>\n",
       "\t\t<td>female</td>\n",
       "\t\t<td>14</td>\n",
       "\t\t<td>0</td>\n",
       "\t\t<td>0</td>\n",
       "\t\t<td>350406</td>\n",
       "\t\t<td>7.8542</td>\n",
       "\t\t<td>None</td>\n",
       "\t\t<td>S</td>\n",
       "\t</tr>\n",
       "\t<tr>\n",
       "\t\t<td>19</td>\n",
       "\t\t<td>0</td>\n",
       "\t\t<td>3</td>\n",
       "\t\t<td>Vander Planke, Mrs. Julius (Emelia Maria Vandemoortele)</td>\n",
       "\t\t<td>female</td>\n",
       "\t\t<td>31</td>\n",
       "\t\t<td>1</td>\n",
       "\t\t<td>0</td>\n",
       "\t\t<td>345763</td>\n",
       "\t\t<td>18.0</td>\n",
       "\t\t<td>None</td>\n",
       "\t\t<td>S</td>\n",
       "\t</tr>\n",
       "\t<tr>\n",
       "\t\t<td>23</td>\n",
       "\t\t<td>1</td>\n",
       "\t\t<td>3</td>\n",
       "\t\t<td>McGowan, Miss. Anna \"Annie\"</td>\n",
       "\t\t<td>female</td>\n",
       "\t\t<td>15</td>\n",
       "\t\t<td>0</td>\n",
       "\t\t<td>0</td>\n",
       "\t\t<td>330923</td>\n",
       "\t\t<td>8.0292</td>\n",
       "\t\t<td>None</td>\n",
       "\t\t<td>Q</td>\n",
       "\t</tr>\n",
       "\t<tr>\n",
       "\t\t<td>27</td>\n",
       "\t\t<td>0</td>\n",
       "\t\t<td>3</td>\n",
       "\t\t<td>Emir, Mr. Farred Chehab</td>\n",
       "\t\t<td>male</td>\n",
       "\t\t<td>None</td>\n",
       "\t\t<td>0</td>\n",
       "\t\t<td>0</td>\n",
       "\t\t<td>2631</td>\n",
       "\t\t<td>7.225</td>\n",
       "\t\t<td>None</td>\n",
       "\t\t<td>C</td>\n",
       "\t</tr>\n",
       "\t<tr>\n",
       "\t\t<td>28</td>\n",
       "\t\t<td>0</td>\n",
       "\t\t<td>1</td>\n",
       "\t\t<td>Fortune, Mr. Charles Alexander</td>\n",
       "\t\t<td>male</td>\n",
       "\t\t<td>19</td>\n",
       "\t\t<td>3</td>\n",
       "\t\t<td>2</td>\n",
       "\t\t<td>19950</td>\n",
       "\t\t<td>263.0</td>\n",
       "\t\t<td>C23 C25 C27</td>\n",
       "\t\t<td>S</td>\n",
       "\t</tr>\n",
       "\t<tr>\n",
       "\t\t<td>25</td>\n",
       "\t\t<td>0</td>\n",
       "\t\t<td>3</td>\n",
       "\t\t<td>Palsson, Miss. Torborg Danira</td>\n",
       "\t\t<td>female</td>\n",
       "\t\t<td>8</td>\n",
       "\t\t<td>3</td>\n",
       "\t\t<td>1</td>\n",
       "\t\t<td>349909</td>\n",
       "\t\t<td>21.075</td>\n",
       "\t\t<td>None</td>\n",
       "\t\t<td>S</td>\n",
       "\t</tr>\n",
       "\t<tr>\n",
       "\t\t<td>10</td>\n",
       "\t\t<td>1</td>\n",
       "\t\t<td>2</td>\n",
       "\t\t<td>Nasser, Mrs. Nicholas (Adele Achem)</td>\n",
       "\t\t<td>female</td>\n",
       "\t\t<td>14</td>\n",
       "\t\t<td>1</td>\n",
       "\t\t<td>0</td>\n",
       "\t\t<td>237736</td>\n",
       "\t\t<td>30.0708</td>\n",
       "\t\t<td>None</td>\n",
       "\t\t<td>C</td>\n",
       "\t</tr>\n",
       "\t<tr>\n",
       "\t\t<td>5</td>\n",
       "\t\t<td>0</td>\n",
       "\t\t<td>3</td>\n",
       "\t\t<td>Allen, Mr. William Henry</td>\n",
       "\t\t<td>male</td>\n",
       "\t\t<td>35</td>\n",
       "\t\t<td>0</td>\n",
       "\t\t<td>0</td>\n",
       "\t\t<td>373450</td>\n",
       "\t\t<td>8.05</td>\n",
       "\t\t<td>None</td>\n",
       "\t\t<td>S</td>\n",
       "\t</tr>\n",
       "\t<tr>\n",
       "\t\t<td>3</td>\n",
       "\t\t<td>1</td>\n",
       "\t\t<td>3</td>\n",
       "\t\t<td>Heikkinen, Miss. Laina</td>\n",
       "\t\t<td>female</td>\n",
       "\t\t<td>26</td>\n",
       "\t\t<td>0</td>\n",
       "\t\t<td>0</td>\n",
       "\t\t<td>STON/O2. 3101282</td>\n",
       "\t\t<td>7.925</td>\n",
       "\t\t<td>None</td>\n",
       "\t\t<td>S</td>\n",
       "\t</tr>\n",
       "</table></html>"
      ],
      "text/plain": [
       "           survived  pclass                                                     name     sex   age  sibsp  parch            ticket      fare        cabin embarked\n",
       "passenger                                                                                                                                                         \n",
       "8                 0       3                           Palsson, Master. Gosta Leonard    male   2.0      3      1            349909   21.0750         None        S\n",
       "15                0       3                     Vestrom, Miss. Hulda Amanda Adolfina  female  14.0      0      0            350406    7.8542         None        S\n",
       "19                0       3  Vander Planke, Mrs. Julius (Emelia Maria Vandemoortele)  female  31.0      1      0            345763   18.0000         None        S\n",
       "23                1       3                              McGowan, Miss. Anna \"Annie\"  female  15.0      0      0            330923    8.0292         None        Q\n",
       "27                0       3                                  Emir, Mr. Farred Chehab    male   NaN      0      0              2631    7.2250         None        C\n",
       "28                0       1                           Fortune, Mr. Charles Alexander    male  19.0      3      2             19950  263.0000  C23 C25 C27        S\n",
       "25                0       3                            Palsson, Miss. Torborg Danira  female   8.0      3      1            349909   21.0750         None        S\n",
       "10                1       2                      Nasser, Mrs. Nicholas (Adele Achem)  female  14.0      1      0            237736   30.0708         None        C\n",
       "5                 0       3                                 Allen, Mr. William Henry    male  35.0      0      0            373450    8.0500         None        S\n",
       "3                 1       3                                   Heikkinen, Miss. Laina  female  26.0      0      0  STON/O2. 3101282    7.9250         None        S"
      ]
     },
     "execution_count": 15,
     "metadata": {},
     "output_type": "execute_result"
    }
   ],
   "source": [
    "# test dataset\n",
    "titanic_test.head()"
   ]
  },
  {
   "cell_type": "code",
   "execution_count": 16,
   "id": "1605a129-8e59-4647-966a-dfcbaec03ce1",
   "metadata": {},
   "outputs": [
    {
     "name": "stdout",
     "output_type": "stream",
     "text": [
      "\n",
      "Generating custom config JSON for AutoML ...\n",
      "\n",
      "Available main options for customization with corresponding indices: \n",
      "--------------------------------------------------------------------------------\n",
      "\n",
      "Index 1: Customize Feature Engineering Phase\n",
      "\n",
      "Index 2: Customize Data Preparation Phase\n",
      "\n",
      "Index 3: Customize Model Training Phase\n",
      "\n",
      "Index 4: Generate custom json and exit\n",
      "--------------------------------------------------------------------------------\n"
     ]
    },
    {
     "name": "stdin",
     "output_type": "stream",
     "text": [
      "\n",
      "Enter the index you want to customize:  1\n"
     ]
    },
    {
     "name": "stdout",
     "output_type": "stream",
     "text": [
      "\n",
      "Customizing Feature Engineering Phase ...\n",
      "\n",
      "Available options for customization of feature engineering phase with corresponding indices: \n",
      "--------------------------------------------------------------------------------\n",
      "\n",
      "Index 1: Customize Missing Value Handling\n",
      "\n",
      "Index 2: Customize Bincode Encoding\n",
      "\n",
      "Index 3: Customize String Manipulation\n",
      "\n",
      "Index 4: Customize Categorical Encoding\n",
      "\n",
      "Index 5: Customize Mathematical Transformation\n",
      "\n",
      "Index 6: Customize Nonlinear Transformation\n",
      "\n",
      "Index 7: Customize Antiselect Features\n",
      "\n",
      "Index 8: Back to main menu\n",
      "\n",
      "Index 9: Generate custom json and exit\n",
      "--------------------------------------------------------------------------------\n"
     ]
    },
    {
     "name": "stdin",
     "output_type": "stream",
     "text": [
      "\n",
      "Enter the list of indices you want to customize in feature engineering phase:  1,2,4,6,7,8\n"
     ]
    },
    {
     "name": "stdout",
     "output_type": "stream",
     "text": [
      "\n",
      "Customizing Missing Value Handling ...\n",
      "\n",
      "Provide the following details to customize missing value handling:\n",
      "\n",
      "Available missing value handling methods with corresponding indices: \n",
      "Index 1: Drop Columns\n",
      "Index 2: Drop Rows\n",
      "Index 3: Impute Missing values\n"
     ]
    },
    {
     "name": "stdin",
     "output_type": "stream",
     "text": [
      "\n",
      "Enter the list of indices for missing value handling methods :  1,3\n",
      "\n",
      "Enter the feature or list of features for dropping columns with missing values:  cabin\n"
     ]
    },
    {
     "name": "stdout",
     "output_type": "stream",
     "text": [
      "\n",
      "Available missing value imputation methods with corresponding indices: \n",
      "Index 1: Statistical Imputation\n",
      "Index 2: Literal Imputation\n"
     ]
    },
    {
     "name": "stdin",
     "output_type": "stream",
     "text": [
      "\n",
      "Enter the list of corresponding index missing value imputation methods you want to use:  1\n",
      "\n",
      "Enter the feature or list of features for imputing missing values using statistic values:  age\n"
     ]
    },
    {
     "name": "stdout",
     "output_type": "stream",
     "text": [
      "\n",
      "Available statistical methods with corresponding indices:\n",
      "Index 1: min\n",
      "Index 2: max\n",
      "Index 3: mean\n",
      "Index 4: median\n",
      "Index 5: mode\n"
     ]
    },
    {
     "name": "stdin",
     "output_type": "stream",
     "text": [
      "\n",
      "Enter the index of corresponding statistic imputation method for feature age:  4\n"
     ]
    },
    {
     "name": "stdout",
     "output_type": "stream",
     "text": [
      "\n",
      "Available options for generic arguments: \n",
      "Index 0: Default\n",
      "Index 1: volatile\n",
      "Index 2: persist\n"
     ]
    },
    {
     "name": "stdin",
     "output_type": "stream",
     "text": [
      "\n",
      "Enter the indices for generic arguments :  0\n"
     ]
    },
    {
     "name": "stdout",
     "output_type": "stream",
     "text": [
      "\n",
      "Customization of missing value handling has been completed successfully.\n",
      "\n",
      "Customizing Bincode Encoding ...\n",
      "\n",
      "Provide the following details to customize binning and coding encoding:\n",
      "\n",
      "Available binning methods with corresponding indices:\n",
      "Index 1: Equal-Width\n",
      "Index 2: Variable-Width\n"
     ]
    },
    {
     "name": "stdin",
     "output_type": "stream",
     "text": [
      "\n",
      "Enter the feature or list of features for binning:  pclass\n",
      "\n",
      "Enter the index of corresponding binning method for feature pclass:  1\n",
      "\n",
      "Enter the number of bins for feature pclass:  3\n"
     ]
    },
    {
     "name": "stdout",
     "output_type": "stream",
     "text": [
      "\n",
      "Available options for generic arguments: \n",
      "Index 0: Default\n",
      "Index 1: volatile\n",
      "Index 2: persist\n"
     ]
    },
    {
     "name": "stdin",
     "output_type": "stream",
     "text": [
      "\n",
      "Enter the indices for generic arguments :  0\n"
     ]
    },
    {
     "name": "stdout",
     "output_type": "stream",
     "text": [
      "\n",
      "Customization of bincode encoding has been completed successfully.\n",
      "\n",
      "Customizing Categorical Encoding ...\n",
      "\n",
      "Provide the following details to customize categorical encoding:\n",
      "\n",
      "Available categorical encoding methods with corresponding indices:\n",
      "Index 1: OneHotEncoding\n",
      "Index 2: OrdinalEncoding\n",
      "Index 3: TargetEncoding\n"
     ]
    },
    {
     "name": "stdin",
     "output_type": "stream",
     "text": [
      "\n",
      "Enter the list of corresponding index categorical encoding methods you want to use:  2,3\n",
      "\n",
      "Enter the feature or list of features for OrdinalEncoding:  pclass\n",
      "\n",
      "Enter the feature or list of features for TargetEncoding:  embarked\n"
     ]
    },
    {
     "name": "stdout",
     "output_type": "stream",
     "text": [
      "\n",
      "Available target encoding methods with corresponding indices:\n",
      "Index 1: CBM_BETA\n",
      "Index 2: CBM_DIRICHLET\n",
      "Index 3: CBM_GAUSSIAN_INVERSE_GAMMA\n"
     ]
    },
    {
     "name": "stdin",
     "output_type": "stream",
     "text": [
      "\n",
      "Enter the index of target encoding method for feature embarked:  3\n",
      "\n",
      "Enter the response column for target encoding method for feature embarked:  survived\n"
     ]
    },
    {
     "name": "stdout",
     "output_type": "stream",
     "text": [
      "\n",
      "Available options for generic arguments: \n",
      "Index 0: Default\n",
      "Index 1: volatile\n",
      "Index 2: persist\n"
     ]
    },
    {
     "name": "stdin",
     "output_type": "stream",
     "text": [
      "\n",
      "Enter the indices for generic arguments :  0\n"
     ]
    },
    {
     "name": "stdout",
     "output_type": "stream",
     "text": [
      "\n",
      "Customization of categorical encoding has been completed successfully.\n",
      "\n",
      "Customizing Nonlinear Transformation ...\n",
      "\n",
      "Provide the following details to customize nonlinear transformation:\n"
     ]
    },
    {
     "name": "stdin",
     "output_type": "stream",
     "text": [
      "\n",
      "Enter number of non-linear combination you want to make:  1\n"
     ]
    },
    {
     "name": "stdout",
     "output_type": "stream",
     "text": [
      "\n",
      "Provide the details for non-linear combination 1:\n"
     ]
    },
    {
     "name": "stdin",
     "output_type": "stream",
     "text": [
      "\n",
      "Enter the list of target feature/s for non-linear combination 1:  parch,sibsp\n",
      "\n",
      "Enter the formula for non-linear combination 1:  Y=(X0+X1+1)\n",
      "\n",
      "Enter the resultant feature for non-linear combination 1:  family_count\n"
     ]
    },
    {
     "name": "stdout",
     "output_type": "stream",
     "text": [
      "\n",
      "Available options for generic arguments: \n",
      "Index 0: Default\n",
      "Index 1: volatile\n",
      "Index 2: persist\n"
     ]
    },
    {
     "name": "stdin",
     "output_type": "stream",
     "text": [
      "\n",
      "Enter the indices for generic arguments :  0\n"
     ]
    },
    {
     "name": "stdout",
     "output_type": "stream",
     "text": [
      "\n",
      "Customization of nonlinear transformation has been completed successfully.\n",
      "\n",
      "Customizing Antiselect Features ...\n"
     ]
    },
    {
     "name": "stdin",
     "output_type": "stream",
     "text": [
      "\n",
      "Enter the feature or list of features for antiselect:  passenger\n"
     ]
    },
    {
     "name": "stdout",
     "output_type": "stream",
     "text": [
      "\n",
      "Available options for generic arguments: \n",
      "Index 0: Default\n",
      "Index 1: volatile\n",
      "Index 2: persist\n"
     ]
    },
    {
     "name": "stdin",
     "output_type": "stream",
     "text": [
      "\n",
      "Enter the indices for generic arguments :  0\n"
     ]
    },
    {
     "name": "stdout",
     "output_type": "stream",
     "text": [
      "\n",
      "Customization of antiselect features has been completed successfully.\n",
      "\n",
      "Customization of feature engineering phase has been completed successfully.\n",
      "\n",
      "Available main options for customization with corresponding indices: \n",
      "--------------------------------------------------------------------------------\n",
      "\n",
      "Index 1: Customize Feature Engineering Phase\n",
      "\n",
      "Index 2: Customize Data Preparation Phase\n",
      "\n",
      "Index 3: Customize Model Training Phase\n",
      "\n",
      "Index 4: Generate custom json and exit\n",
      "--------------------------------------------------------------------------------\n"
     ]
    },
    {
     "name": "stdin",
     "output_type": "stream",
     "text": [
      "\n",
      "Enter the index you want to customize:  4\n"
     ]
    },
    {
     "name": "stdout",
     "output_type": "stream",
     "text": [
      "\n",
      "Generating custom json and exiting ...\n",
      "\n",
      "Process of generating custom config file for AutoML has been completed successfully.\n",
      "\n",
      "'custom_titanic.json' file is generated successfully under the current working directory.\n"
     ]
    }
   ],
   "source": [
    "AutoML.generate_custom_config(\"custom_titanic\")"
   ]
  },
  {
   "cell_type": "markdown",
   "id": "856ea871-93d8-4ea2-b524-1acb23bd7eb5",
   "metadata": {},
   "source": [
    "## <b><span style='color:#F1A424'>| 2.</span> Fitting AutoML </b>"
   ]
  },
  {
   "cell_type": "code",
   "execution_count": 17,
   "id": "f3650aa5-a408-4227-a88d-79c0f3d36d3c",
   "metadata": {},
   "outputs": [],
   "source": [
    "# Creating AutoML Instance with task type 'Classification'\n",
    "# Including only decision forest and xgboost model from default model list for training.\n",
    "# Using early stopping timer criteria with value 100 sec and max_models as 5\n",
    "# Passing custom json file to provide customized value for AutoML.\n",
    "\n",
    "aml = AutoML(task_type=\"Classification\",\n",
    "             include=['decision_forest','xgboost'],\n",
    "             verbose=2,\n",
    "             max_runtime_secs=100,\n",
    "             max_models=5,\n",
    "             custom_config_file='custom_titanic.json')"
   ]
  },
  {
   "cell_type": "code",
   "execution_count": 18,
   "id": "a1b7a771-1bfa-40c9-8ad0-c377d320c137",
   "metadata": {
    "tags": []
   },
   "outputs": [
    {
     "name": "stdout",
     "output_type": "stream",
     "text": [
      "\n",
      "Received below input for customization : \n",
      "{\n",
      "    \"MissingValueHandlingIndicator\": true,\n",
      "    \"MissingValueHandlingParam\": {\n",
      "        \"DroppingColumnIndicator\": true,\n",
      "        \"DroppingColumnList\": [\n",
      "            \"cabin\"\n",
      "        ],\n",
      "        \"ImputeMissingIndicator\": true,\n",
      "        \"StatImputeList\": [\n",
      "            \"age\"\n",
      "        ],\n",
      "        \"StatImputeMethod\": [\n",
      "            \"median\"\n",
      "        ]\n",
      "    },\n",
      "    \"BincodeIndicator\": true,\n",
      "    \"BincodeParam\": {\n",
      "        \"pclass\": {\n",
      "            \"Type\": \"Equal-Width\",\n",
      "            \"NumOfBins\": 3\n",
      "        }\n",
      "    },\n",
      "    \"CategoricalEncodingIndicator\": true,\n",
      "    \"CategoricalEncodingParam\": {\n",
      "        \"OrdinalEncodingIndicator\": true,\n",
      "        \"OrdinalEncodingList\": [\n",
      "            \"pclass\"\n",
      "        ],\n",
      "        \"TargetEncodingIndicator\": true,\n",
      "        \"TargetEncodingList\": {\n",
      "            \"embarked\": {\n",
      "                \"encoder_method\": \"CBM_GAUSSIAN_INVERSE_GAMMA\",\n",
      "                \"response_column\": \"survived\"\n",
      "            }\n",
      "        }\n",
      "    },\n",
      "    \"NonLinearTransformationIndicator\": true,\n",
      "    \"NonLinearTransformationParam\": {\n",
      "        \"Combination_1\": {\n",
      "            \"target_columns\": [\n",
      "                \"parch\",\n",
      "                \"sibsp\"\n",
      "            ],\n",
      "            \"formula\": \"Y=(X0+X1+1)\",\n",
      "            \"result_column\": \"family_count\"\n",
      "        }\n",
      "    },\n",
      "    \"AntiselectIndicator\": true,\n",
      "    \"AntiselectParam\": {\n",
      "        \"excluded_columns\": [\n",
      "            \"passenger\"\n",
      "        ]\n",
      "    }\n",
      "}\n"
     ]
    },
    {
     "data": {
      "text/html": [
       "\n",
       "            <style>\n",
       "                .custom-div {\n",
       "                    background-color: lightgray;\n",
       "                    color: #000000;\n",
       "                    padding: 10px;\n",
       "                    border-radius: 8px;\n",
       "                    box-shadow: 0 3px 4px rgba(0, 0, 0, 0.2);\n",
       "                    margin-bottom: 10px;\n",
       "                    text-align: center;\n",
       "                }\n",
       "            </style>\n",
       "        <br><div class=\"custom-div\"><h3><span style=\"color: green;\"></span>1. Feature Exploration -> 2. Feature Engineering -> 3. Data Preparation -> 4. Model Training & Evaluation<center></h3></center></div>"
      ],
      "text/plain": [
       "<IPython.core.display.HTML object>"
      ]
     },
     "metadata": {},
     "output_type": "display_data"
    },
    {
     "name": "stdout",
     "output_type": "stream",
     "text": [
      "Feature Exploration started ...\n",
      "\n",
      "Data Overview:\n",
      "Total Rows in the data: 713\n",
      "Total Columns in the data: 12\n",
      "\n",
      "Column Summary:\n"
     ]
    },
    {
     "data": {
      "text/html": [
       "<style type=\"text/css\">\n",
       "\ttable {border:ridge 5px;}\n",
       "\ttable td {border:inset 1px;}\n",
       "\ttable tr#HeaderRow {background-color:grey; color:white;}</style>\n",
       "<html><table>\n",
       "\t<tr id=\"HeaderRow\">\n",
       "\t\t<th>ColumnName</th>\n",
       "\t\t<th>Datatype</th>\n",
       "\t\t<th>NonNullCount</th>\n",
       "\t\t<th>NullCount</th>\n",
       "\t\t<th>BlankCount</th>\n",
       "\t\t<th>ZeroCount</th>\n",
       "\t\t<th>PositiveCount</th>\n",
       "\t\t<th>NegativeCount</th>\n",
       "\t\t<th>NullPercentage</th>\n",
       "\t\t<th>NonNullPercentage</th>\n",
       "\t</tr>\n",
       "\t<tr>\n",
       "\t\t<td>survived</td>\n",
       "\t\t<td>INTEGER</td>\n",
       "\t\t<td>713</td>\n",
       "\t\t<td>0</td>\n",
       "\t\t<td>None</td>\n",
       "\t\t<td>440</td>\n",
       "\t\t<td>273</td>\n",
       "\t\t<td>0</td>\n",
       "\t\t<td>0.0</td>\n",
       "\t\t<td>100.0</td>\n",
       "\t</tr>\n",
       "\t<tr>\n",
       "\t\t<td>age</td>\n",
       "\t\t<td>INTEGER</td>\n",
       "\t\t<td>570</td>\n",
       "\t\t<td>143</td>\n",
       "\t\t<td>None</td>\n",
       "\t\t<td>5</td>\n",
       "\t\t<td>565</td>\n",
       "\t\t<td>0</td>\n",
       "\t\t<td>20.05610098176718</td>\n",
       "\t\t<td>79.94389901823281</td>\n",
       "\t</tr>\n",
       "\t<tr>\n",
       "\t\t<td>ticket</td>\n",
       "\t\t<td>VARCHAR(20) CHARACTER SET LATIN</td>\n",
       "\t\t<td>713</td>\n",
       "\t\t<td>0</td>\n",
       "\t\t<td>0</td>\n",
       "\t\t<td>None</td>\n",
       "\t\t<td>None</td>\n",
       "\t\t<td>None</td>\n",
       "\t\t<td>0.0</td>\n",
       "\t\t<td>100.0</td>\n",
       "\t</tr>\n",
       "\t<tr>\n",
       "\t\t<td>name</td>\n",
       "\t\t<td>VARCHAR(1000) CHARACTER SET LATIN</td>\n",
       "\t\t<td>713</td>\n",
       "\t\t<td>0</td>\n",
       "\t\t<td>0</td>\n",
       "\t\t<td>None</td>\n",
       "\t\t<td>None</td>\n",
       "\t\t<td>None</td>\n",
       "\t\t<td>0.0</td>\n",
       "\t\t<td>100.0</td>\n",
       "\t</tr>\n",
       "\t<tr>\n",
       "\t\t<td>passenger</td>\n",
       "\t\t<td>INTEGER</td>\n",
       "\t\t<td>713</td>\n",
       "\t\t<td>0</td>\n",
       "\t\t<td>None</td>\n",
       "\t\t<td>0</td>\n",
       "\t\t<td>713</td>\n",
       "\t\t<td>0</td>\n",
       "\t\t<td>0.0</td>\n",
       "\t\t<td>100.0</td>\n",
       "\t</tr>\n",
       "\t<tr>\n",
       "\t\t<td>cabin</td>\n",
       "\t\t<td>VARCHAR(20) CHARACTER SET LATIN</td>\n",
       "\t\t<td>171</td>\n",
       "\t\t<td>542</td>\n",
       "\t\t<td>0</td>\n",
       "\t\t<td>None</td>\n",
       "\t\t<td>None</td>\n",
       "\t\t<td>None</td>\n",
       "\t\t<td>76.01683029453015</td>\n",
       "\t\t<td>23.983169705469845</td>\n",
       "\t</tr>\n",
       "\t<tr>\n",
       "\t\t<td>sex</td>\n",
       "\t\t<td>VARCHAR(20) CHARACTER SET LATIN</td>\n",
       "\t\t<td>713</td>\n",
       "\t\t<td>0</td>\n",
       "\t\t<td>0</td>\n",
       "\t\t<td>None</td>\n",
       "\t\t<td>None</td>\n",
       "\t\t<td>None</td>\n",
       "\t\t<td>0.0</td>\n",
       "\t\t<td>100.0</td>\n",
       "\t</tr>\n",
       "\t<tr>\n",
       "\t\t<td>parch</td>\n",
       "\t\t<td>INTEGER</td>\n",
       "\t\t<td>713</td>\n",
       "\t\t<td>0</td>\n",
       "\t\t<td>None</td>\n",
       "\t\t<td>535</td>\n",
       "\t\t<td>178</td>\n",
       "\t\t<td>0</td>\n",
       "\t\t<td>0.0</td>\n",
       "\t\t<td>100.0</td>\n",
       "\t</tr>\n",
       "\t<tr>\n",
       "\t\t<td>sibsp</td>\n",
       "\t\t<td>INTEGER</td>\n",
       "\t\t<td>713</td>\n",
       "\t\t<td>0</td>\n",
       "\t\t<td>None</td>\n",
       "\t\t<td>479</td>\n",
       "\t\t<td>234</td>\n",
       "\t\t<td>0</td>\n",
       "\t\t<td>0.0</td>\n",
       "\t\t<td>100.0</td>\n",
       "\t</tr>\n",
       "\t<tr>\n",
       "\t\t<td>pclass</td>\n",
       "\t\t<td>INTEGER</td>\n",
       "\t\t<td>713</td>\n",
       "\t\t<td>0</td>\n",
       "\t\t<td>None</td>\n",
       "\t\t<td>0</td>\n",
       "\t\t<td>713</td>\n",
       "\t\t<td>0</td>\n",
       "\t\t<td>0.0</td>\n",
       "\t\t<td>100.0</td>\n",
       "\t</tr>\n",
       "\t<tr>\n",
       "\t\t<td>embarked</td>\n",
       "\t\t<td>VARCHAR(20) CHARACTER SET LATIN</td>\n",
       "\t\t<td>712</td>\n",
       "\t\t<td>1</td>\n",
       "\t\t<td>0</td>\n",
       "\t\t<td>None</td>\n",
       "\t\t<td>None</td>\n",
       "\t\t<td>None</td>\n",
       "\t\t<td>0.1402524544179523</td>\n",
       "\t\t<td>99.85974754558205</td>\n",
       "\t</tr>\n",
       "\t<tr>\n",
       "\t\t<td>fare</td>\n",
       "\t\t<td>FLOAT</td>\n",
       "\t\t<td>713</td>\n",
       "\t\t<td>0</td>\n",
       "\t\t<td>None</td>\n",
       "\t\t<td>11</td>\n",
       "\t\t<td>702</td>\n",
       "\t\t<td>0</td>\n",
       "\t\t<td>0.0</td>\n",
       "\t\t<td>100.0</td>\n",
       "\t</tr>\n",
       "</table></html>"
      ],
      "text/plain": [
       "   ColumnName                           Datatype  NonNullCount  NullCount  BlankCount  ZeroCount  PositiveCount  NegativeCount  NullPercentage  NonNullPercentage\n",
       "0    survived                            INTEGER           713          0         NaN      440.0          273.0            0.0        0.000000         100.000000\n",
       "1         age                            INTEGER           570        143         NaN        5.0          565.0            0.0       20.056101          79.943899\n",
       "2      ticket    VARCHAR(20) CHARACTER SET LATIN           713          0         0.0        NaN            NaN            NaN        0.000000         100.000000\n",
       "3        name  VARCHAR(1000) CHARACTER SET LATIN           713          0         0.0        NaN            NaN            NaN        0.000000         100.000000\n",
       "4   passenger                            INTEGER           713          0         NaN        0.0          713.0            0.0        0.000000         100.000000\n",
       "5       cabin    VARCHAR(20) CHARACTER SET LATIN           171        542         0.0        NaN            NaN            NaN       76.016830          23.983170\n",
       "6         sex    VARCHAR(20) CHARACTER SET LATIN           713          0         0.0        NaN            NaN            NaN        0.000000         100.000000\n",
       "7       parch                            INTEGER           713          0         NaN      535.0          178.0            0.0        0.000000         100.000000\n",
       "8       sibsp                            INTEGER           713          0         NaN      479.0          234.0            0.0        0.000000         100.000000\n",
       "9      pclass                            INTEGER           713          0         NaN        0.0          713.0            0.0        0.000000         100.000000\n",
       "10   embarked    VARCHAR(20) CHARACTER SET LATIN           712          1         0.0        NaN            NaN            NaN        0.140252          99.859748\n",
       "11       fare                              FLOAT           713          0         NaN       11.0          702.0            0.0        0.000000         100.000000"
      ]
     },
     "metadata": {},
     "output_type": "display_data"
    },
    {
     "name": "stdout",
     "output_type": "stream",
     "text": [
      "       passenger  survived   pclass      age    sibsp    parch     fare\n",
      "func                                                                   \n",
      "50%      446.000     0.000    3.000   28.000    0.000    0.000   14.500\n",
      "count    713.000   713.000  713.000  570.000  713.000  713.000  713.000\n",
      "mean     450.778     0.383    2.289   29.937    0.536    0.405   32.552\n",
      "min        1.000     0.000    1.000    0.000    0.000    0.000    0.000\n",
      "max      890.000     1.000    3.000   80.000    8.000    6.000  512.329\n",
      "75%      666.000     1.000    3.000   39.000    1.000    0.000   31.388\n",
      "25%      237.000     0.000    1.000   21.000    0.000    0.000    7.896\n",
      "std      254.742     0.486    0.845   14.717    1.120    0.838   48.654\n",
      "\n",
      "Statistics of Data:\n"
     ]
    },
    {
     "data": {
      "text/html": [
       "<style type=\"text/css\">\n",
       "\ttable {border:ridge 5px;}\n",
       "\ttable td {border:inset 1px;}\n",
       "\ttable tr#HeaderRow {background-color:grey; color:white;}</style>\n",
       "<html><table>\n",
       "\t<tr id=\"HeaderRow\">\n",
       "\t\t<th>func</th>\n",
       "\t\t<th>passenger</th>\n",
       "\t\t<th>survived</th>\n",
       "\t\t<th>pclass</th>\n",
       "\t\t<th>age</th>\n",
       "\t\t<th>sibsp</th>\n",
       "\t\t<th>parch</th>\n",
       "\t\t<th>fare</th>\n",
       "\t</tr>\n",
       "\t<tr>\n",
       "\t\t<td>std</td>\n",
       "\t\t<td>254.742</td>\n",
       "\t\t<td>0.486</td>\n",
       "\t\t<td>0.845</td>\n",
       "\t\t<td>14.717</td>\n",
       "\t\t<td>1.12</td>\n",
       "\t\t<td>0.838</td>\n",
       "\t\t<td>48.654</td>\n",
       "\t</tr>\n",
       "\t<tr>\n",
       "\t\t<td>25%</td>\n",
       "\t\t<td>237</td>\n",
       "\t\t<td>0</td>\n",
       "\t\t<td>1</td>\n",
       "\t\t<td>21</td>\n",
       "\t\t<td>0</td>\n",
       "\t\t<td>0</td>\n",
       "\t\t<td>7.896</td>\n",
       "\t</tr>\n",
       "\t<tr>\n",
       "\t\t<td>50%</td>\n",
       "\t\t<td>446</td>\n",
       "\t\t<td>0</td>\n",
       "\t\t<td>3</td>\n",
       "\t\t<td>28</td>\n",
       "\t\t<td>0</td>\n",
       "\t\t<td>0</td>\n",
       "\t\t<td>14.5</td>\n",
       "\t</tr>\n",
       "\t<tr>\n",
       "\t\t<td>75%</td>\n",
       "\t\t<td>666</td>\n",
       "\t\t<td>1</td>\n",
       "\t\t<td>3</td>\n",
       "\t\t<td>39</td>\n",
       "\t\t<td>1</td>\n",
       "\t\t<td>0</td>\n",
       "\t\t<td>31.388</td>\n",
       "\t</tr>\n",
       "\t<tr>\n",
       "\t\t<td>max</td>\n",
       "\t\t<td>890</td>\n",
       "\t\t<td>1</td>\n",
       "\t\t<td>3</td>\n",
       "\t\t<td>80</td>\n",
       "\t\t<td>8</td>\n",
       "\t\t<td>6</td>\n",
       "\t\t<td>512.329</td>\n",
       "\t</tr>\n",
       "\t<tr>\n",
       "\t\t<td>min</td>\n",
       "\t\t<td>1</td>\n",
       "\t\t<td>0</td>\n",
       "\t\t<td>1</td>\n",
       "\t\t<td>0</td>\n",
       "\t\t<td>0</td>\n",
       "\t\t<td>0</td>\n",
       "\t\t<td>0</td>\n",
       "\t</tr>\n",
       "\t<tr>\n",
       "\t\t<td>mean</td>\n",
       "\t\t<td>450.778</td>\n",
       "\t\t<td>0.383</td>\n",
       "\t\t<td>2.289</td>\n",
       "\t\t<td>29.937</td>\n",
       "\t\t<td>0.536</td>\n",
       "\t\t<td>0.405</td>\n",
       "\t\t<td>32.552</td>\n",
       "\t</tr>\n",
       "\t<tr>\n",
       "\t\t<td>count</td>\n",
       "\t\t<td>713</td>\n",
       "\t\t<td>713</td>\n",
       "\t\t<td>713</td>\n",
       "\t\t<td>570</td>\n",
       "\t\t<td>713</td>\n",
       "\t\t<td>713</td>\n",
       "\t\t<td>713</td>\n",
       "\t</tr>\n",
       "</table></html>"
      ],
      "text/plain": [
       "       passenger  survived   pclass      age    sibsp    parch     fare\n",
       "func                                                                   \n",
       "std      254.742     0.486    0.845   14.717    1.120    0.838   48.654\n",
       "25%      237.000     0.000    1.000   21.000    0.000    0.000    7.896\n",
       "50%      446.000     0.000    3.000   28.000    0.000    0.000   14.500\n",
       "75%      666.000     1.000    3.000   39.000    1.000    0.000   31.388\n",
       "max      890.000     1.000    3.000   80.000    8.000    6.000  512.329\n",
       "min        1.000     0.000    1.000    0.000    0.000    0.000    0.000\n",
       "mean     450.778     0.383    2.289   29.937    0.536    0.405   32.552\n",
       "count    713.000   713.000  713.000  570.000  713.000  713.000  713.000"
      ]
     },
     "metadata": {},
     "output_type": "display_data"
    },
    {
     "name": "stdout",
     "output_type": "stream",
     "text": [
      "\n",
      "Categorical Columns with their Distinct values:\n",
      "ColumnName                DistinctValueCount\n",
      "name                      713       \n",
      "sex                       2         \n",
      "ticket                    566       \n",
      "cabin                     131       \n",
      "embarked                  3         \n",
      "\n",
      "Futile columns in dataset:\n"
     ]
    },
    {
     "data": {
      "text/html": [
       "<style type=\"text/css\">\n",
       "\ttable {border:ridge 5px;}\n",
       "\ttable td {border:inset 1px;}\n",
       "\ttable tr#HeaderRow {background-color:grey; color:white;}</style>\n",
       "<html><table>\n",
       "\t<tr id=\"HeaderRow\">\n",
       "\t\t<th>ColumnName</th>\n",
       "\t</tr>\n",
       "\t<tr>\n",
       "\t\t<td>name</td>\n",
       "\t</tr>\n",
       "\t<tr>\n",
       "\t\t<td>ticket</td>\n",
       "\t</tr>\n",
       "</table></html>"
      ],
      "text/plain": [
       "  ColumnName\n",
       "0       name\n",
       "1     ticket"
      ]
     },
     "metadata": {},
     "output_type": "display_data"
    },
    {
     "name": "stdout",
     "output_type": "stream",
     "text": [
      "\n",
      "Target Column Distribution:\n"
     ]
    },
    {
     "data": {
      "image/png": "[encoded data removed]",
      "text/plain": [
       "<Figure size 600x600 with 1 Axes>"
      ]
     },
     "metadata": {},
     "output_type": "display_data"
    },
    {
     "name": "stdout",
     "output_type": "stream",
     "text": [
      "Columns with outlier percentage :-                                                                                                                                                                                                                                                                                                                                                                                                                                                                                  \n",
      "  ColumnName  OutlierPercentage\n",
      "0        age          21.037868\n",
      "1      sibsp           4.908836\n",
      "2       fare          13.183731\n",
      "3      parch          24.964937\n",
      "                                                                                        \r"
     ]
    },
    {
     "data": {
      "text/html": [
       "\n",
       "            <style>\n",
       "                .custom-div {\n",
       "                    background-color: lightgray;\n",
       "                    color: #000000;\n",
       "                    padding: 10px;\n",
       "                    border-radius: 8px;\n",
       "                    box-shadow: 0 3px 4px rgba(0 -  0 -  0 -  0.2);\n",
       "                    margin-bottom: 10px;\n",
       "                    text-align: center;\n",
       "                }\n",
       "            </style>\n",
       "        <br><div class=\"custom-div\"><h3><span style=\"color: green;\">1. Feature Exploration -></span> 2. Feature Engineering -> 3. Data Preparation -> 4. Model Training & Evaluation<center></h3></center></div>"
      ],
      "text/plain": [
       "<IPython.core.display.HTML object>"
      ]
     },
     "metadata": {},
     "output_type": "display_data"
    },
    {
     "name": "stdout",
     "output_type": "stream",
     "text": [
      "                                                                                        \r"
     ]
    },
    {
     "data": {
      "text/html": [
       "Feature Engineering started ..."
      ],
      "text/plain": [
       "<IPython.core.display.HTML object>"
      ]
     },
     "metadata": {},
     "output_type": "display_data"
    },
    {
     "name": "stdout",
     "output_type": "stream",
     "text": [
      "                                                                                        \r"
     ]
    },
    {
     "data": {
      "text/html": [
       "\n",
       "Handling duplicate records present in dataset ..."
      ],
      "text/plain": [
       "<IPython.core.display.HTML object>"
      ]
     },
     "metadata": {},
     "output_type": "display_data"
    },
    {
     "name": "stdout",
     "output_type": "stream",
     "text": [
      "Analysis completed. No action taken.                                                    \n",
      "                                                                                        \r"
     ]
    },
    {
     "data": {
      "text/html": [
       "Total time to handle duplicate records: 1.73 sec  "
      ],
      "text/plain": [
       "<IPython.core.display.HTML object>"
      ]
     },
     "metadata": {},
     "output_type": "display_data"
    },
    {
     "name": "stdout",
     "output_type": "stream",
     "text": [
      "                                                                                        \r"
     ]
    },
    {
     "data": {
      "text/html": [
       "\n",
       "Starting customized anti-select columns ..."
      ],
      "text/plain": [
       "<IPython.core.display.HTML object>"
      ]
     },
     "metadata": {},
     "output_type": "display_data"
    },
    {
     "name": "stdout",
     "output_type": "stream",
     "text": [
      "                                                                                        \r"
     ]
    },
    {
     "data": {
      "text/html": [
       "Updated dataset sample after performing anti-select columns:"
      ],
      "text/plain": [
       "<IPython.core.display.HTML object>"
      ]
     },
     "metadata": {},
     "output_type": "display_data"
    },
    {
     "data": {
      "text/html": [
       "<style type=\"text/css\">\n",
       "\ttable {border:ridge 5px;}\n",
       "\ttable td {border:inset 1px;}\n",
       "\ttable tr#HeaderRow {background-color:grey; color:white;}</style>\n",
       "<html><table>\n",
       "\t<tr id=\"HeaderRow\">\n",
       "\t\t<th>survived</th>\n",
       "\t\t<th>pclass</th>\n",
       "\t\t<th>name</th>\n",
       "\t\t<th>sex</th>\n",
       "\t\t<th>age</th>\n",
       "\t\t<th>sibsp</th>\n",
       "\t\t<th>parch</th>\n",
       "\t\t<th>ticket</th>\n",
       "\t\t<th>fare</th>\n",
       "\t\t<th>cabin</th>\n",
       "\t\t<th>embarked</th>\n",
       "\t</tr>\n",
       "\t<tr>\n",
       "\t\t<td>0</td>\n",
       "\t\t<td>3</td>\n",
       "\t\t<td>Moore, Mr. Leonard Charles</td>\n",
       "\t\t<td>male</td>\n",
       "\t\t<td>None</td>\n",
       "\t\t<td>0</td>\n",
       "\t\t<td>0</td>\n",
       "\t\t<td>A4. 54510</td>\n",
       "\t\t<td>8.05</td>\n",
       "\t\t<td>None</td>\n",
       "\t\t<td>S</td>\n",
       "\t</tr>\n",
       "\t<tr>\n",
       "\t\t<td>1</td>\n",
       "\t\t<td>1</td>\n",
       "\t\t<td>Young, Miss. Marie Grice</td>\n",
       "\t\t<td>female</td>\n",
       "\t\t<td>36</td>\n",
       "\t\t<td>0</td>\n",
       "\t\t<td>0</td>\n",
       "\t\t<td>PC 17760</td>\n",
       "\t\t<td>135.6333</td>\n",
       "\t\t<td>C32</td>\n",
       "\t\t<td>C</td>\n",
       "\t</tr>\n",
       "\t<tr>\n",
       "\t\t<td>0</td>\n",
       "\t\t<td>3</td>\n",
       "\t\t<td>Williams, Mr. Howard Hugh \"Harry\"</td>\n",
       "\t\t<td>male</td>\n",
       "\t\t<td>None</td>\n",
       "\t\t<td>0</td>\n",
       "\t\t<td>0</td>\n",
       "\t\t<td>A/5 2466</td>\n",
       "\t\t<td>8.05</td>\n",
       "\t\t<td>None</td>\n",
       "\t\t<td>S</td>\n",
       "\t</tr>\n",
       "\t<tr>\n",
       "\t\t<td>0</td>\n",
       "\t\t<td>2</td>\n",
       "\t\t<td>Berriman, Mr. William John</td>\n",
       "\t\t<td>male</td>\n",
       "\t\t<td>23</td>\n",
       "\t\t<td>0</td>\n",
       "\t\t<td>0</td>\n",
       "\t\t<td>28425</td>\n",
       "\t\t<td>13.0</td>\n",
       "\t\t<td>None</td>\n",
       "\t\t<td>S</td>\n",
       "\t</tr>\n",
       "\t<tr>\n",
       "\t\t<td>0</td>\n",
       "\t\t<td>2</td>\n",
       "\t\t<td>Fox, Mr. Stanley Hubert</td>\n",
       "\t\t<td>male</td>\n",
       "\t\t<td>36</td>\n",
       "\t\t<td>0</td>\n",
       "\t\t<td>0</td>\n",
       "\t\t<td>229236</td>\n",
       "\t\t<td>13.0</td>\n",
       "\t\t<td>None</td>\n",
       "\t\t<td>S</td>\n",
       "\t</tr>\n",
       "\t<tr>\n",
       "\t\t<td>1</td>\n",
       "\t\t<td>3</td>\n",
       "\t\t<td>Murphy, Miss. Katherine \"Kate\"</td>\n",
       "\t\t<td>female</td>\n",
       "\t\t<td>None</td>\n",
       "\t\t<td>1</td>\n",
       "\t\t<td>0</td>\n",
       "\t\t<td>367230</td>\n",
       "\t\t<td>15.5</td>\n",
       "\t\t<td>None</td>\n",
       "\t\t<td>Q</td>\n",
       "\t</tr>\n",
       "\t<tr>\n",
       "\t\t<td>0</td>\n",
       "\t\t<td>3</td>\n",
       "\t\t<td>Allum, Mr. Owen George</td>\n",
       "\t\t<td>male</td>\n",
       "\t\t<td>18</td>\n",
       "\t\t<td>0</td>\n",
       "\t\t<td>0</td>\n",
       "\t\t<td>2223</td>\n",
       "\t\t<td>8.3</td>\n",
       "\t\t<td>None</td>\n",
       "\t\t<td>S</td>\n",
       "\t</tr>\n",
       "\t<tr>\n",
       "\t\t<td>1</td>\n",
       "\t\t<td>2</td>\n",
       "\t\t<td>Clarke, Mrs. Charles V (Ada Maria Winfield)</td>\n",
       "\t\t<td>female</td>\n",
       "\t\t<td>28</td>\n",
       "\t\t<td>1</td>\n",
       "\t\t<td>0</td>\n",
       "\t\t<td>2003</td>\n",
       "\t\t<td>26.0</td>\n",
       "\t\t<td>None</td>\n",
       "\t\t<td>S</td>\n",
       "\t</tr>\n",
       "\t<tr>\n",
       "\t\t<td>0</td>\n",
       "\t\t<td>3</td>\n",
       "\t\t<td>Henry, Miss. Delia</td>\n",
       "\t\t<td>female</td>\n",
       "\t\t<td>None</td>\n",
       "\t\t<td>0</td>\n",
       "\t\t<td>0</td>\n",
       "\t\t<td>382649</td>\n",
       "\t\t<td>7.75</td>\n",
       "\t\t<td>None</td>\n",
       "\t\t<td>Q</td>\n",
       "\t</tr>\n",
       "\t<tr>\n",
       "\t\t<td>0</td>\n",
       "\t\t<td>2</td>\n",
       "\t\t<td>Hocking, Mr. Richard George</td>\n",
       "\t\t<td>male</td>\n",
       "\t\t<td>23</td>\n",
       "\t\t<td>2</td>\n",
       "\t\t<td>1</td>\n",
       "\t\t<td>29104</td>\n",
       "\t\t<td>11.5</td>\n",
       "\t\t<td>None</td>\n",
       "\t\t<td>S</td>\n",
       "\t</tr>\n",
       "</table></html>"
      ],
      "text/plain": [
       "   survived  pclass                                         name     sex   age  sibsp  parch     ticket      fare cabin embarked\n",
       "0         0       3                   Moore, Mr. Leonard Charles    male   NaN      0      0  A4. 54510    8.0500  None        S\n",
       "1         1       1                     Young, Miss. Marie Grice  female  36.0      0      0   PC 17760  135.6333   C32        C\n",
       "2         0       3            Williams, Mr. Howard Hugh \"Harry\"    male   NaN      0      0   A/5 2466    8.0500  None        S\n",
       "3         0       2                   Berriman, Mr. William John    male  23.0      0      0      28425   13.0000  None        S\n",
       "4         0       2                      Fox, Mr. Stanley Hubert    male  36.0      0      0     229236   13.0000  None        S\n",
       "5         1       3               Murphy, Miss. Katherine \"Kate\"  female   NaN      1      0     367230   15.5000  None        Q\n",
       "6         0       3                       Allum, Mr. Owen George    male  18.0      0      0       2223    8.3000  None        S\n",
       "7         1       2  Clarke, Mrs. Charles V (Ada Maria Winfield)  female  28.0      1      0       2003   26.0000  None        S\n",
       "8         0       3                           Henry, Miss. Delia  female   NaN      0      0     382649    7.7500  None        Q\n",
       "9         0       2                  Hocking, Mr. Richard George    male  23.0      2      1      29104   11.5000  None        S"
      ]
     },
     "metadata": {},
     "output_type": "display_data"
    },
    {
     "name": "stdout",
     "output_type": "stream",
     "text": [
      "                                                                                        \r"
     ]
    },
    {
     "data": {
      "text/html": [
       "713 rows X 11 columns"
      ],
      "text/plain": [
       "<IPython.core.display.HTML object>"
      ]
     },
     "metadata": {},
     "output_type": "display_data"
    },
    {
     "name": "stdout",
     "output_type": "stream",
     "text": [
      "                                                                                         \r"
     ]
    },
    {
     "data": {
      "text/html": [
       "\n",
       "Handling less significant features from data ..."
      ],
      "text/plain": [
       "<IPython.core.display.HTML object>"
      ]
     },
     "metadata": {},
     "output_type": "display_data"
    },
    {
     "name": "stdout",
     "output_type": "stream",
     "text": [
      "                                                                                         \r"
     ]
    },
    {
     "data": {
      "text/html": [
       "Removing Futile columns:"
      ],
      "text/plain": [
       "<IPython.core.display.HTML object>"
      ]
     },
     "metadata": {},
     "output_type": "display_data"
    },
    {
     "name": "stdout",
     "output_type": "stream",
     "text": [
      "['ticket', 'name']\n",
      "                                                                                         \r"
     ]
    },
    {
     "data": {
      "text/html": [
       "Sample of Data after removing Futile columns:"
      ],
      "text/plain": [
       "<IPython.core.display.HTML object>"
      ]
     },
     "metadata": {},
     "output_type": "display_data"
    },
    {
     "data": {
      "text/html": [
       "<style type=\"text/css\">\n",
       "\ttable {border:ridge 5px;}\n",
       "\ttable td {border:inset 1px;}\n",
       "\ttable tr#HeaderRow {background-color:grey; color:white;}</style>\n",
       "<html><table>\n",
       "\t<tr id=\"HeaderRow\">\n",
       "\t\t<th>survived</th>\n",
       "\t\t<th>pclass</th>\n",
       "\t\t<th>sex</th>\n",
       "\t\t<th>age</th>\n",
       "\t\t<th>sibsp</th>\n",
       "\t\t<th>parch</th>\n",
       "\t\t<th>fare</th>\n",
       "\t\t<th>cabin</th>\n",
       "\t\t<th>embarked</th>\n",
       "\t\t<th>id</th>\n",
       "\t</tr>\n",
       "\t<tr>\n",
       "\t\t<td>0</td>\n",
       "\t\t<td>2</td>\n",
       "\t\t<td>male</td>\n",
       "\t\t<td>36</td>\n",
       "\t\t<td>0</td>\n",
       "\t\t<td>0</td>\n",
       "\t\t<td>13.0</td>\n",
       "\t\t<td>None</td>\n",
       "\t\t<td>S</td>\n",
       "\t\t<td>12</td>\n",
       "\t</tr>\n",
       "\t<tr>\n",
       "\t\t<td>0</td>\n",
       "\t\t<td>3</td>\n",
       "\t\t<td>female</td>\n",
       "\t\t<td>None</td>\n",
       "\t\t<td>0</td>\n",
       "\t\t<td>0</td>\n",
       "\t\t<td>7.75</td>\n",
       "\t\t<td>None</td>\n",
       "\t\t<td>Q</td>\n",
       "\t\t<td>9</td>\n",
       "\t</tr>\n",
       "\t<tr>\n",
       "\t\t<td>0</td>\n",
       "\t\t<td>2</td>\n",
       "\t\t<td>male</td>\n",
       "\t\t<td>23</td>\n",
       "\t\t<td>2</td>\n",
       "\t\t<td>1</td>\n",
       "\t\t<td>11.5</td>\n",
       "\t\t<td>None</td>\n",
       "\t\t<td>S</td>\n",
       "\t\t<td>17</td>\n",
       "\t</tr>\n",
       "\t<tr>\n",
       "\t\t<td>0</td>\n",
       "\t\t<td>3</td>\n",
       "\t\t<td>male</td>\n",
       "\t\t<td>18</td>\n",
       "\t\t<td>0</td>\n",
       "\t\t<td>0</td>\n",
       "\t\t<td>8.3</td>\n",
       "\t\t<td>None</td>\n",
       "\t\t<td>S</td>\n",
       "\t\t<td>15</td>\n",
       "\t</tr>\n",
       "\t<tr>\n",
       "\t\t<td>1</td>\n",
       "\t\t<td>1</td>\n",
       "\t\t<td>female</td>\n",
       "\t\t<td>36</td>\n",
       "\t\t<td>0</td>\n",
       "\t\t<td>0</td>\n",
       "\t\t<td>135.6333</td>\n",
       "\t\t<td>C32</td>\n",
       "\t\t<td>C</td>\n",
       "\t\t<td>13</td>\n",
       "\t</tr>\n",
       "\t<tr>\n",
       "\t\t<td>0</td>\n",
       "\t\t<td>3</td>\n",
       "\t\t<td>male</td>\n",
       "\t\t<td>None</td>\n",
       "\t\t<td>0</td>\n",
       "\t\t<td>0</td>\n",
       "\t\t<td>8.05</td>\n",
       "\t\t<td>None</td>\n",
       "\t\t<td>S</td>\n",
       "\t\t<td>21</td>\n",
       "\t</tr>\n",
       "\t<tr>\n",
       "\t\t<td>0</td>\n",
       "\t\t<td>2</td>\n",
       "\t\t<td>male</td>\n",
       "\t\t<td>23</td>\n",
       "\t\t<td>0</td>\n",
       "\t\t<td>0</td>\n",
       "\t\t<td>13.0</td>\n",
       "\t\t<td>None</td>\n",
       "\t\t<td>S</td>\n",
       "\t\t<td>14</td>\n",
       "\t</tr>\n",
       "\t<tr>\n",
       "\t\t<td>0</td>\n",
       "\t\t<td>3</td>\n",
       "\t\t<td>male</td>\n",
       "\t\t<td>22</td>\n",
       "\t\t<td>0</td>\n",
       "\t\t<td>0</td>\n",
       "\t\t<td>7.2292</td>\n",
       "\t\t<td>None</td>\n",
       "\t\t<td>C</td>\n",
       "\t\t<td>22</td>\n",
       "\t</tr>\n",
       "\t<tr>\n",
       "\t\t<td>1</td>\n",
       "\t\t<td>3</td>\n",
       "\t\t<td>female</td>\n",
       "\t\t<td>14</td>\n",
       "\t\t<td>1</td>\n",
       "\t\t<td>0</td>\n",
       "\t\t<td>11.2417</td>\n",
       "\t\t<td>None</td>\n",
       "\t\t<td>C</td>\n",
       "\t\t<td>10</td>\n",
       "\t</tr>\n",
       "\t<tr>\n",
       "\t\t<td>1</td>\n",
       "\t\t<td>1</td>\n",
       "\t\t<td>male</td>\n",
       "\t\t<td>80</td>\n",
       "\t\t<td>0</td>\n",
       "\t\t<td>0</td>\n",
       "\t\t<td>30.0</td>\n",
       "\t\t<td>A23</td>\n",
       "\t\t<td>S</td>\n",
       "\t\t<td>18</td>\n",
       "\t</tr>\n",
       "</table></html>"
      ],
      "text/plain": [
       "   survived  pclass     sex   age  sibsp  parch      fare cabin embarked  id\n",
       "0         0       2    male  36.0      0      0   13.0000  None        S  12\n",
       "1         0       3  female   NaN      0      0    7.7500  None        Q   9\n",
       "2         0       2    male  23.0      2      1   11.5000  None        S  17\n",
       "3         0       3    male  18.0      0      0    8.3000  None        S  15\n",
       "4         1       1  female  36.0      0      0  135.6333   C32        C  13\n",
       "5         0       3    male   NaN      0      0    8.0500  None        S  21\n",
       "6         0       2    male  23.0      0      0   13.0000  None        S  14\n",
       "7         0       3    male  22.0      0      0    7.2292  None        C  22\n",
       "8         1       3  female  14.0      1      0   11.2417  None        C  10\n",
       "9         1       1    male  80.0      0      0   30.0000   A23        S  18"
      ]
     },
     "metadata": {},
     "output_type": "display_data"
    },
    {
     "name": "stdout",
     "output_type": "stream",
     "text": [
      "                                                                                         \r"
     ]
    },
    {
     "data": {
      "text/html": [
       "713 rows X 10 columns"
      ],
      "text/plain": [
       "<IPython.core.display.HTML object>"
      ]
     },
     "metadata": {},
     "output_type": "display_data"
    },
    {
     "name": "stdout",
     "output_type": "stream",
     "text": [
      "                                                                                         \r"
     ]
    },
    {
     "data": {
      "text/html": [
       "Total time to handle less significant features: 25.51 sec  "
      ],
      "text/plain": [
       "<IPython.core.display.HTML object>"
      ]
     },
     "metadata": {},
     "output_type": "display_data"
    },
    {
     "name": "stdout",
     "output_type": "stream",
     "text": [
      "                                                                                         \r"
     ]
    },
    {
     "data": {
      "text/html": [
       "\n",
       "Handling Date Features ..."
      ],
      "text/plain": [
       "<IPython.core.display.HTML object>"
      ]
     },
     "metadata": {},
     "output_type": "display_data"
    },
    {
     "name": "stdout",
     "output_type": "stream",
     "text": [
      "Analysis Completed. Dataset does not contain any feature related to dates. No action needed.\n",
      "                                                                                         \r"
     ]
    },
    {
     "data": {
      "text/html": [
       "Total time to handle date features: 0.00 sec\n"
      ],
      "text/plain": [
       "<IPython.core.display.HTML object>"
      ]
     },
     "metadata": {},
     "output_type": "display_data"
    },
    {
     "name": "stdout",
     "output_type": "stream",
     "text": [
      "                                                                                         \r"
     ]
    },
    {
     "data": {
      "text/html": [
       "\n",
       "Dropping these columns for handling customized missing value:"
      ],
      "text/plain": [
       "<IPython.core.display.HTML object>"
      ]
     },
     "metadata": {},
     "output_type": "display_data"
    },
    {
     "name": "stdout",
     "output_type": "stream",
     "text": [
      "['cabin']\n",
      "                                                                                         \r"
     ]
    },
    {
     "data": {
      "text/html": [
       "Updated dataset sample after performing customized missing value imputation:"
      ],
      "text/plain": [
       "<IPython.core.display.HTML object>"
      ]
     },
     "metadata": {},
     "output_type": "display_data"
    },
    {
     "data": {
      "text/html": [
       "<style type=\"text/css\">\n",
       "\ttable {border:ridge 5px;}\n",
       "\ttable td {border:inset 1px;}\n",
       "\ttable tr#HeaderRow {background-color:grey; color:white;}</style>\n",
       "<html><table>\n",
       "\t<tr id=\"HeaderRow\">\n",
       "\t\t<th>survived</th>\n",
       "\t\t<th>pclass</th>\n",
       "\t\t<th>sex</th>\n",
       "\t\t<th>age</th>\n",
       "\t\t<th>sibsp</th>\n",
       "\t\t<th>parch</th>\n",
       "\t\t<th>fare</th>\n",
       "\t\t<th>embarked</th>\n",
       "\t\t<th>id</th>\n",
       "\t</tr>\n",
       "\t<tr>\n",
       "\t\t<td>1</td>\n",
       "\t\t<td>1</td>\n",
       "\t\t<td>female</td>\n",
       "\t\t<td>28</td>\n",
       "\t\t<td>1</td>\n",
       "\t\t<td>0</td>\n",
       "\t\t<td>89.1042</td>\n",
       "\t\t<td>C</td>\n",
       "\t\t<td>136</td>\n",
       "\t</tr>\n",
       "\t<tr>\n",
       "\t\t<td>1</td>\n",
       "\t\t<td>1</td>\n",
       "\t\t<td>male</td>\n",
       "\t\t<td>49</td>\n",
       "\t\t<td>1</td>\n",
       "\t\t<td>0</td>\n",
       "\t\t<td>56.9292</td>\n",
       "\t\t<td>C</td>\n",
       "\t\t<td>208</td>\n",
       "\t</tr>\n",
       "\t<tr>\n",
       "\t\t<td>1</td>\n",
       "\t\t<td>2</td>\n",
       "\t\t<td>female</td>\n",
       "\t\t<td>4</td>\n",
       "\t\t<td>2</td>\n",
       "\t\t<td>1</td>\n",
       "\t\t<td>39.0</td>\n",
       "\t\t<td>S</td>\n",
       "\t\t<td>240</td>\n",
       "\t</tr>\n",
       "\t<tr>\n",
       "\t\t<td>1</td>\n",
       "\t\t<td>1</td>\n",
       "\t\t<td>female</td>\n",
       "\t\t<td>18</td>\n",
       "\t\t<td>2</td>\n",
       "\t\t<td>2</td>\n",
       "\t\t<td>262.375</td>\n",
       "\t\t<td>C</td>\n",
       "\t\t<td>256</td>\n",
       "\t</tr>\n",
       "\t<tr>\n",
       "\t\t<td>1</td>\n",
       "\t\t<td>3</td>\n",
       "\t\t<td>female</td>\n",
       "\t\t<td>38</td>\n",
       "\t\t<td>1</td>\n",
       "\t\t<td>5</td>\n",
       "\t\t<td>31.3875</td>\n",
       "\t\t<td>S</td>\n",
       "\t\t<td>272</td>\n",
       "\t</tr>\n",
       "\t<tr>\n",
       "\t\t<td>1</td>\n",
       "\t\t<td>1</td>\n",
       "\t\t<td>female</td>\n",
       "\t\t<td>33</td>\n",
       "\t\t<td>1</td>\n",
       "\t\t<td>0</td>\n",
       "\t\t<td>90.0</td>\n",
       "\t\t<td>Q</td>\n",
       "\t\t<td>288</td>\n",
       "\t</tr>\n",
       "\t<tr>\n",
       "\t\t<td>0</td>\n",
       "\t\t<td>3</td>\n",
       "\t\t<td>male</td>\n",
       "\t\t<td>28</td>\n",
       "\t\t<td>0</td>\n",
       "\t\t<td>0</td>\n",
       "\t\t<td>7.75</td>\n",
       "\t\t<td>Q</td>\n",
       "\t\t<td>50</td>\n",
       "\t</tr>\n",
       "\t<tr>\n",
       "\t\t<td>0</td>\n",
       "\t\t<td>3</td>\n",
       "\t\t<td>male</td>\n",
       "\t\t<td>30</td>\n",
       "\t\t<td>0</td>\n",
       "\t\t<td>0</td>\n",
       "\t\t<td>8.05</td>\n",
       "\t\t<td>S</td>\n",
       "\t\t<td>82</td>\n",
       "\t</tr>\n",
       "\t<tr>\n",
       "\t\t<td>0</td>\n",
       "\t\t<td>3</td>\n",
       "\t\t<td>male</td>\n",
       "\t\t<td>29</td>\n",
       "\t\t<td>0</td>\n",
       "\t\t<td>0</td>\n",
       "\t\t<td>7.875</td>\n",
       "\t\t<td>S</td>\n",
       "\t\t<td>90</td>\n",
       "\t</tr>\n",
       "\t<tr>\n",
       "\t\t<td>0</td>\n",
       "\t\t<td>3</td>\n",
       "\t\t<td>male</td>\n",
       "\t\t<td>19</td>\n",
       "\t\t<td>0</td>\n",
       "\t\t<td>0</td>\n",
       "\t\t<td>10.1708</td>\n",
       "\t\t<td>S</td>\n",
       "\t\t<td>98</td>\n",
       "\t</tr>\n",
       "</table></html>"
      ],
      "text/plain": [
       "          pclass     sex  age  sibsp  parch      fare embarked   id\n",
       "survived                                                           \n",
       "1              1  female   28      1      0   89.1042        C  136\n",
       "1              1    male   49      1      0   56.9292        C  208\n",
       "1              2  female    4      2      1   39.0000        S  240\n",
       "1              1  female   18      2      2  262.3750        C  256\n",
       "1              3  female   38      1      5   31.3875        S  272\n",
       "1              1  female   33      1      0   90.0000        Q  288\n",
       "0              3    male   28      0      0    7.7500        Q   50\n",
       "0              3    male   30      0      0    8.0500        S   82\n",
       "0              3    male   29      0      0    7.8750        S   90\n",
       "0              3    male   19      0      0   10.1708        S   98"
      ]
     },
     "metadata": {},
     "output_type": "display_data"
    },
    {
     "name": "stdout",
     "output_type": "stream",
     "text": [
      "                                                                                         \r"
     ]
    },
    {
     "data": {
      "text/html": [
       "713 rows X 9 columns"
      ],
      "text/plain": [
       "<IPython.core.display.HTML object>"
      ]
     },
     "metadata": {},
     "output_type": "display_data"
    },
    {
     "name": "stdout",
     "output_type": "stream",
     "text": [
      "Proceeding with default option for handling remaining missing values.                    \n",
      "                                                                                         \r"
     ]
    },
    {
     "data": {
      "text/html": [
       "\n",
       "Checking Missing values in dataset ..."
      ],
      "text/plain": [
       "<IPython.core.display.HTML object>"
      ]
     },
     "metadata": {},
     "output_type": "display_data"
    },
    {
     "name": "stdout",
     "output_type": "stream",
     "text": [
      "                                                                                         \r"
     ]
    },
    {
     "data": {
      "text/html": [
       "Columns with their missing values:"
      ],
      "text/plain": [
       "<IPython.core.display.HTML object>"
      ]
     },
     "metadata": {},
     "output_type": "display_data"
    },
    {
     "name": "stdout",
     "output_type": "stream",
     "text": [
      "embarked: 1\n",
      "                                                                                         \r"
     ]
    },
    {
     "data": {
      "text/html": [
       "Deleting rows of these columns for handling missing values:"
      ],
      "text/plain": [
       "<IPython.core.display.HTML object>"
      ]
     },
     "metadata": {},
     "output_type": "display_data"
    },
    {
     "name": "stdout",
     "output_type": "stream",
     "text": [
      "['embarked']\n",
      "                                                                                         \r"
     ]
    },
    {
     "data": {
      "text/html": [
       "Sample of dataset after removing 1 rows:"
      ],
      "text/plain": [
       "<IPython.core.display.HTML object>"
      ]
     },
     "metadata": {},
     "output_type": "display_data"
    },
    {
     "data": {
      "text/html": [
       "<style type=\"text/css\">\n",
       "\ttable {border:ridge 5px;}\n",
       "\ttable td {border:inset 1px;}\n",
       "\ttable tr#HeaderRow {background-color:grey; color:white;}</style>\n",
       "<html><table>\n",
       "\t<tr id=\"HeaderRow\">\n",
       "\t\t<th>survived</th>\n",
       "\t\t<th>pclass</th>\n",
       "\t\t<th>sex</th>\n",
       "\t\t<th>age</th>\n",
       "\t\t<th>sibsp</th>\n",
       "\t\t<th>parch</th>\n",
       "\t\t<th>fare</th>\n",
       "\t\t<th>embarked</th>\n",
       "\t\t<th>id</th>\n",
       "\t</tr>\n",
       "\t<tr>\n",
       "\t\t<td>0</td>\n",
       "\t\t<td>3</td>\n",
       "\t\t<td>male</td>\n",
       "\t\t<td>29</td>\n",
       "\t\t<td>0</td>\n",
       "\t\t<td>0</td>\n",
       "\t\t<td>7.875</td>\n",
       "\t\t<td>S</td>\n",
       "\t\t<td>90</td>\n",
       "\t</tr>\n",
       "\t<tr>\n",
       "\t\t<td>0</td>\n",
       "\t\t<td>2</td>\n",
       "\t\t<td>male</td>\n",
       "\t\t<td>25</td>\n",
       "\t\t<td>1</td>\n",
       "\t\t<td>2</td>\n",
       "\t\t<td>41.5792</td>\n",
       "\t\t<td>C</td>\n",
       "\t\t<td>122</td>\n",
       "\t</tr>\n",
       "\t<tr>\n",
       "\t\t<td>0</td>\n",
       "\t\t<td>2</td>\n",
       "\t\t<td>male</td>\n",
       "\t\t<td>28</td>\n",
       "\t\t<td>0</td>\n",
       "\t\t<td>0</td>\n",
       "\t\t<td>0.0</td>\n",
       "\t\t<td>S</td>\n",
       "\t\t<td>130</td>\n",
       "\t</tr>\n",
       "\t<tr>\n",
       "\t\t<td>0</td>\n",
       "\t\t<td>2</td>\n",
       "\t\t<td>male</td>\n",
       "\t\t<td>54</td>\n",
       "\t\t<td>0</td>\n",
       "\t\t<td>0</td>\n",
       "\t\t<td>26.0</td>\n",
       "\t\t<td>S</td>\n",
       "\t\t<td>138</td>\n",
       "\t</tr>\n",
       "\t<tr>\n",
       "\t\t<td>0</td>\n",
       "\t\t<td>3</td>\n",
       "\t\t<td>male</td>\n",
       "\t\t<td>17</td>\n",
       "\t\t<td>0</td>\n",
       "\t\t<td>0</td>\n",
       "\t\t<td>8.6625</td>\n",
       "\t\t<td>S</td>\n",
       "\t\t<td>154</td>\n",
       "\t</tr>\n",
       "\t<tr>\n",
       "\t\t<td>0</td>\n",
       "\t\t<td>2</td>\n",
       "\t\t<td>male</td>\n",
       "\t\t<td>46</td>\n",
       "\t\t<td>0</td>\n",
       "\t\t<td>0</td>\n",
       "\t\t<td>26.0</td>\n",
       "\t\t<td>S</td>\n",
       "\t\t<td>170</td>\n",
       "\t</tr>\n",
       "\t<tr>\n",
       "\t\t<td>1</td>\n",
       "\t\t<td>1</td>\n",
       "\t\t<td>female</td>\n",
       "\t\t<td>32</td>\n",
       "\t\t<td>0</td>\n",
       "\t\t<td>0</td>\n",
       "\t\t<td>76.2917</td>\n",
       "\t\t<td>C</td>\n",
       "\t\t<td>104</td>\n",
       "\t</tr>\n",
       "\t<tr>\n",
       "\t\t<td>1</td>\n",
       "\t\t<td>1</td>\n",
       "\t\t<td>female</td>\n",
       "\t\t<td>44</td>\n",
       "\t\t<td>0</td>\n",
       "\t\t<td>1</td>\n",
       "\t\t<td>57.9792</td>\n",
       "\t\t<td>C</td>\n",
       "\t\t<td>128</td>\n",
       "\t</tr>\n",
       "\t<tr>\n",
       "\t\t<td>1</td>\n",
       "\t\t<td>1</td>\n",
       "\t\t<td>female</td>\n",
       "\t\t<td>28</td>\n",
       "\t\t<td>1</td>\n",
       "\t\t<td>0</td>\n",
       "\t\t<td>89.1042</td>\n",
       "\t\t<td>C</td>\n",
       "\t\t<td>136</td>\n",
       "\t</tr>\n",
       "\t<tr>\n",
       "\t\t<td>1</td>\n",
       "\t\t<td>1</td>\n",
       "\t\t<td>female</td>\n",
       "\t\t<td>63</td>\n",
       "\t\t<td>1</td>\n",
       "\t\t<td>0</td>\n",
       "\t\t<td>77.9583</td>\n",
       "\t\t<td>S</td>\n",
       "\t\t<td>176</td>\n",
       "\t</tr>\n",
       "</table></html>"
      ],
      "text/plain": [
       "          pclass     sex  age  sibsp  parch     fare embarked   id\n",
       "survived                                                          \n",
       "0              3    male   29      0      0   7.8750        S   90\n",
       "0              2    male   25      1      2  41.5792        C  122\n",
       "0              2    male   28      0      0   0.0000        S  130\n",
       "0              2    male   54      0      0  26.0000        S  138\n",
       "0              3    male   17      0      0   8.6625        S  154\n",
       "0              2    male   46      0      0  26.0000        S  170\n",
       "1              1  female   32      0      0  76.2917        C  104\n",
       "1              1  female   44      0      1  57.9792        C  128\n",
       "1              1  female   28      1      0  89.1042        C  136\n",
       "1              1  female   63      1      0  77.9583        S  176"
      ]
     },
     "metadata": {},
     "output_type": "display_data"
    },
    {
     "name": "stdout",
     "output_type": "stream",
     "text": [
      "                                                                                         \r"
     ]
    },
    {
     "data": {
      "text/html": [
       "712 rows X 9 columns"
      ],
      "text/plain": [
       "<IPython.core.display.HTML object>"
      ]
     },
     "metadata": {},
     "output_type": "display_data"
    },
    {
     "name": "stdout",
     "output_type": "stream",
     "text": [
      "                                                                                         \r"
     ]
    },
    {
     "data": {
      "text/html": [
       "Total time to find missing values in data: 11.60 sec  "
      ],
      "text/plain": [
       "<IPython.core.display.HTML object>"
      ]
     },
     "metadata": {},
     "output_type": "display_data"
    },
    {
     "name": "stdout",
     "output_type": "stream",
     "text": [
      "                                                                                         \r"
     ]
    },
    {
     "data": {
      "text/html": [
       "\n",
       "Imputing Missing Values ..."
      ],
      "text/plain": [
       "<IPython.core.display.HTML object>"
      ]
     },
     "metadata": {},
     "output_type": "display_data"
    },
    {
     "name": "stdout",
     "output_type": "stream",
     "text": [
      "Analysis completed. No imputation required.                                              \n",
      "                                                                                         \r"
     ]
    },
    {
     "data": {
      "text/html": [
       "Time taken to perform imputation: 0.01 sec  "
      ],
      "text/plain": [
       "<IPython.core.display.HTML object>"
      ]
     },
     "metadata": {},
     "output_type": "display_data"
    },
    {
     "name": "stdout",
     "output_type": "stream",
     "text": [
      "                                                                                         \r"
     ]
    },
    {
     "data": {
      "text/html": [
       "\n",
       "Updated dataset sample after performing Equal-Width binning :-"
      ],
      "text/plain": [
       "<IPython.core.display.HTML object>"
      ]
     },
     "metadata": {},
     "output_type": "display_data"
    },
    {
     "data": {
      "text/html": [
       "<style type=\"text/css\">\n",
       "\ttable {border:ridge 5px;}\n",
       "\ttable td {border:inset 1px;}\n",
       "\ttable tr#HeaderRow {background-color:grey; color:white;}</style>\n",
       "<html><table>\n",
       "\t<tr id=\"HeaderRow\">\n",
       "\t\t<th>embarked</th>\n",
       "\t\t<th>survived</th>\n",
       "\t\t<th>parch</th>\n",
       "\t\t<th>age</th>\n",
       "\t\t<th>sex</th>\n",
       "\t\t<th>sibsp</th>\n",
       "\t\t<th>fare</th>\n",
       "\t\t<th>id</th>\n",
       "\t\t<th>pclass</th>\n",
       "\t</tr>\n",
       "\t<tr>\n",
       "\t\t<td>Q</td>\n",
       "\t\t<td>1</td>\n",
       "\t\t<td>0</td>\n",
       "\t\t<td>28</td>\n",
       "\t\t<td>female</td>\n",
       "\t\t<td>0</td>\n",
       "\t\t<td>7.75</td>\n",
       "\t\t<td>449</td>\n",
       "\t\t<td>pclass_3</td>\n",
       "\t</tr>\n",
       "\t<tr>\n",
       "\t\t<td>Q</td>\n",
       "\t\t<td>1</td>\n",
       "\t\t<td>0</td>\n",
       "\t\t<td>28</td>\n",
       "\t\t<td>female</td>\n",
       "\t\t<td>0</td>\n",
       "\t\t<td>7.75</td>\n",
       "\t\t<td>342</td>\n",
       "\t\t<td>pclass_3</td>\n",
       "\t</tr>\n",
       "\t<tr>\n",
       "\t\t<td>Q</td>\n",
       "\t\t<td>1</td>\n",
       "\t\t<td>0</td>\n",
       "\t\t<td>28</td>\n",
       "\t\t<td>female</td>\n",
       "\t\t<td>0</td>\n",
       "\t\t<td>7.7333</td>\n",
       "\t\t<td>654</td>\n",
       "\t\t<td>pclass_3</td>\n",
       "\t</tr>\n",
       "\t<tr>\n",
       "\t\t<td>Q</td>\n",
       "\t\t<td>1</td>\n",
       "\t\t<td>0</td>\n",
       "\t\t<td>29</td>\n",
       "\t\t<td>male</td>\n",
       "\t\t<td>0</td>\n",
       "\t\t<td>7.75</td>\n",
       "\t\t<td>750</td>\n",
       "\t\t<td>pclass_3</td>\n",
       "\t</tr>\n",
       "\t<tr>\n",
       "\t\t<td>Q</td>\n",
       "\t\t<td>1</td>\n",
       "\t\t<td>0</td>\n",
       "\t\t<td>28</td>\n",
       "\t\t<td>female</td>\n",
       "\t\t<td>2</td>\n",
       "\t\t<td>23.25</td>\n",
       "\t\t<td>276</td>\n",
       "\t\t<td>pclass_3</td>\n",
       "\t</tr>\n",
       "\t<tr>\n",
       "\t\t<td>Q</td>\n",
       "\t\t<td>1</td>\n",
       "\t\t<td>0</td>\n",
       "\t\t<td>28</td>\n",
       "\t\t<td>female</td>\n",
       "\t\t<td>0</td>\n",
       "\t\t<td>7.7875</td>\n",
       "\t\t<td>332</td>\n",
       "\t\t<td>pclass_3</td>\n",
       "\t</tr>\n",
       "\t<tr>\n",
       "\t\t<td>C</td>\n",
       "\t\t<td>1</td>\n",
       "\t\t<td>0</td>\n",
       "\t\t<td>28</td>\n",
       "\t\t<td>female</td>\n",
       "\t\t<td>1</td>\n",
       "\t\t<td>89.1042</td>\n",
       "\t\t<td>136</td>\n",
       "\t\t<td>pclass_1</td>\n",
       "\t</tr>\n",
       "\t<tr>\n",
       "\t\t<td>C</td>\n",
       "\t\t<td>1</td>\n",
       "\t\t<td>2</td>\n",
       "\t\t<td>18</td>\n",
       "\t\t<td>female</td>\n",
       "\t\t<td>2</td>\n",
       "\t\t<td>262.375</td>\n",
       "\t\t<td>256</td>\n",
       "\t\t<td>pclass_1</td>\n",
       "\t</tr>\n",
       "\t<tr>\n",
       "\t\t<td>C</td>\n",
       "\t\t<td>1</td>\n",
       "\t\t<td>0</td>\n",
       "\t\t<td>28</td>\n",
       "\t\t<td>female</td>\n",
       "\t\t<td>0</td>\n",
       "\t\t<td>7.225</td>\n",
       "\t\t<td>360</td>\n",
       "\t\t<td>pclass_3</td>\n",
       "\t</tr>\n",
       "\t<tr>\n",
       "\t\t<td>C</td>\n",
       "\t\t<td>1</td>\n",
       "\t\t<td>1</td>\n",
       "\t\t<td>23</td>\n",
       "\t\t<td>male</td>\n",
       "\t\t<td>0</td>\n",
       "\t\t<td>63.3583</td>\n",
       "\t\t<td>424</td>\n",
       "\t\t<td>pclass_1</td>\n",
       "\t</tr>\n",
       "</table></html>"
      ],
      "text/plain": [
       "          survived  parch  age     sex  sibsp      fare   id    pclass\n",
       "embarked                                                              \n",
       "Q                1      0   28  female      0    7.7500  449  pclass_3\n",
       "Q                1      0   28  female      0    7.7500  342  pclass_3\n",
       "Q                1      0   28  female      0    7.7333  654  pclass_3\n",
       "Q                1      0   29    male      0    7.7500  750  pclass_3\n",
       "Q                1      0   28  female      2   23.2500  276  pclass_3\n",
       "Q                1      0   28  female      0    7.7875  332  pclass_3\n",
       "C                1      0   28  female      1   89.1042  136  pclass_1\n",
       "C                1      2   18  female      2  262.3750  256  pclass_1\n",
       "C                1      0   28  female      0    7.2250  360  pclass_3\n",
       "C                1      1   23    male      0   63.3583  424  pclass_1"
      ]
     },
     "metadata": {},
     "output_type": "display_data"
    },
    {
     "name": "stdout",
     "output_type": "stream",
     "text": [
      "                                                                                         \r"
     ]
    },
    {
     "data": {
      "text/html": [
       "712 rows X 9 columns"
      ],
      "text/plain": [
       "<IPython.core.display.HTML object>"
      ]
     },
     "metadata": {},
     "output_type": "display_data"
    },
    {
     "name": "stdout",
     "output_type": "stream",
     "text": [
      "No information provided for Variable-Width Transformation.                               \n",
      "Skipping customized string manipulation.                                                 \n",
      "                                                                                         \r"
     ]
    },
    {
     "data": {
      "text/html": [
       "\n",
       "Starting Customized Categorical Feature Encoding ..."
      ],
      "text/plain": [
       "<IPython.core.display.HTML object>"
      ]
     },
     "metadata": {},
     "output_type": "display_data"
    },
    {
     "name": "stdout",
     "output_type": "stream",
     "text": [
      "                                                                                         \r"
     ]
    },
    {
     "data": {
      "text/html": [
       "Updated dataset sample after performing ordinal encoding:"
      ],
      "text/plain": [
       "<IPython.core.display.HTML object>"
      ]
     },
     "metadata": {},
     "output_type": "display_data"
    },
    {
     "data": {
      "text/html": [
       "<style type=\"text/css\">\n",
       "\ttable {border:ridge 5px;}\n",
       "\ttable td {border:inset 1px;}\n",
       "\ttable tr#HeaderRow {background-color:grey; color:white;}</style>\n",
       "<html><table>\n",
       "\t<tr id=\"HeaderRow\">\n",
       "\t\t<th>sibsp</th>\n",
       "\t\t<th>survived</th>\n",
       "\t\t<th>parch</th>\n",
       "\t\t<th>age</th>\n",
       "\t\t<th>sex</th>\n",
       "\t\t<th>embarked</th>\n",
       "\t\t<th>fare</th>\n",
       "\t\t<th>id</th>\n",
       "\t\t<th>pclass</th>\n",
       "\t</tr>\n",
       "\t<tr>\n",
       "\t\t<td>4</td>\n",
       "\t\t<td>0</td>\n",
       "\t\t<td>2</td>\n",
       "\t\t<td>9</td>\n",
       "\t\t<td>female</td>\n",
       "\t\t<td>S</td>\n",
       "\t\t<td>31.275</td>\n",
       "\t\t<td>571</td>\n",
       "\t\t<td>2</td>\n",
       "\t</tr>\n",
       "\t<tr>\n",
       "\t\t<td>4</td>\n",
       "\t\t<td>0</td>\n",
       "\t\t<td>1</td>\n",
       "\t\t<td>7</td>\n",
       "\t\t<td>male</td>\n",
       "\t\t<td>S</td>\n",
       "\t\t<td>39.6875</td>\n",
       "\t\t<td>255</td>\n",
       "\t\t<td>2</td>\n",
       "\t</tr>\n",
       "\t<tr>\n",
       "\t\t<td>4</td>\n",
       "\t\t<td>0</td>\n",
       "\t\t<td>1</td>\n",
       "\t\t<td>16</td>\n",
       "\t\t<td>male</td>\n",
       "\t\t<td>S</td>\n",
       "\t\t<td>39.6875</td>\n",
       "\t\t<td>735</td>\n",
       "\t\t<td>2</td>\n",
       "\t</tr>\n",
       "\t<tr>\n",
       "\t\t<td>4</td>\n",
       "\t\t<td>0</td>\n",
       "\t\t<td>2</td>\n",
       "\t\t<td>2</td>\n",
       "\t\t<td>female</td>\n",
       "\t\t<td>S</td>\n",
       "\t\t<td>31.275</td>\n",
       "\t\t<td>26</td>\n",
       "\t\t<td>2</td>\n",
       "\t</tr>\n",
       "\t<tr>\n",
       "\t\t<td>4</td>\n",
       "\t\t<td>0</td>\n",
       "\t\t<td>1</td>\n",
       "\t\t<td>2</td>\n",
       "\t\t<td>male</td>\n",
       "\t\t<td>Q</td>\n",
       "\t\t<td>29.125</td>\n",
       "\t\t<td>49</td>\n",
       "\t\t<td>2</td>\n",
       "\t</tr>\n",
       "\t<tr>\n",
       "\t\t<td>4</td>\n",
       "\t\t<td>0</td>\n",
       "\t\t<td>1</td>\n",
       "\t\t<td>4</td>\n",
       "\t\t<td>male</td>\n",
       "\t\t<td>Q</td>\n",
       "\t\t<td>29.125</td>\n",
       "\t\t<td>590</td>\n",
       "\t\t<td>2</td>\n",
       "\t</tr>\n",
       "\t<tr>\n",
       "\t\t<td>5</td>\n",
       "\t\t<td>0</td>\n",
       "\t\t<td>2</td>\n",
       "\t\t<td>16</td>\n",
       "\t\t<td>female</td>\n",
       "\t\t<td>S</td>\n",
       "\t\t<td>46.9</td>\n",
       "\t\t<td>172</td>\n",
       "\t\t<td>2</td>\n",
       "\t</tr>\n",
       "\t<tr>\n",
       "\t\t<td>5</td>\n",
       "\t\t<td>0</td>\n",
       "\t\t<td>2</td>\n",
       "\t\t<td>1</td>\n",
       "\t\t<td>male</td>\n",
       "\t\t<td>S</td>\n",
       "\t\t<td>46.9</td>\n",
       "\t\t<td>19</td>\n",
       "\t\t<td>2</td>\n",
       "\t</tr>\n",
       "\t<tr>\n",
       "\t\t<td>5</td>\n",
       "\t\t<td>0</td>\n",
       "\t\t<td>2</td>\n",
       "\t\t<td>14</td>\n",
       "\t\t<td>male</td>\n",
       "\t\t<td>S</td>\n",
       "\t\t<td>46.9</td>\n",
       "\t\t<td>164</td>\n",
       "\t\t<td>2</td>\n",
       "\t</tr>\n",
       "\t<tr>\n",
       "\t\t<td>5</td>\n",
       "\t\t<td>0</td>\n",
       "\t\t<td>2</td>\n",
       "\t\t<td>9</td>\n",
       "\t\t<td>male</td>\n",
       "\t\t<td>S</td>\n",
       "\t\t<td>46.9</td>\n",
       "\t\t<td>492</td>\n",
       "\t\t<td>2</td>\n",
       "\t</tr>\n",
       "</table></html>"
      ],
      "text/plain": [
       "       survived  parch  age     sex embarked     fare   id  pclass\n",
       "sibsp                                                             \n",
       "4             0      2    9  female        S  31.2750  571       2\n",
       "4             0      1    7    male        S  39.6875  255       2\n",
       "4             0      1   16    male        S  39.6875  735       2\n",
       "4             0      2    2  female        S  31.2750   26       2\n",
       "4             0      1    2    male        Q  29.1250   49       2\n",
       "4             0      1    4    male        Q  29.1250  590       2\n",
       "5             0      2   16  female        S  46.9000  172       2\n",
       "5             0      2    1    male        S  46.9000   19       2\n",
       "5             0      2   14    male        S  46.9000  164       2\n",
       "5             0      2    9    male        S  46.9000  492       2"
      ]
     },
     "metadata": {},
     "output_type": "display_data"
    },
    {
     "name": "stdout",
     "output_type": "stream",
     "text": [
      "                                                                                         \r"
     ]
    },
    {
     "data": {
      "text/html": [
       "712 rows X 9 columns"
      ],
      "text/plain": [
       "<IPython.core.display.HTML object>"
      ]
     },
     "metadata": {},
     "output_type": "display_data"
    },
    {
     "name": "stdout",
     "output_type": "stream",
     "text": [
      "                                                                                         \r"
     ]
    },
    {
     "data": {
      "text/html": [
       "Updated dataset sample after performing target encoding:"
      ],
      "text/plain": [
       "<IPython.core.display.HTML object>"
      ]
     },
     "metadata": {},
     "output_type": "display_data"
    },
    {
     "data": {
      "text/html": [
       "<style type=\"text/css\">\n",
       "\ttable {border:ridge 5px;}\n",
       "\ttable td {border:inset 1px;}\n",
       "\ttable tr#HeaderRow {background-color:grey; color:white;}</style>\n",
       "<html><table>\n",
       "\t<tr id=\"HeaderRow\">\n",
       "\t\t<th>embarked</th>\n",
       "\t\t<th>survived</th>\n",
       "\t\t<th>parch</th>\n",
       "\t\t<th>age</th>\n",
       "\t\t<th>pclass</th>\n",
       "\t\t<th>sex</th>\n",
       "\t\t<th>sibsp</th>\n",
       "\t\t<th>fare</th>\n",
       "\t\t<th>id</th>\n",
       "\t</tr>\n",
       "\t<tr>\n",
       "\t\t<td>0.36363636363636365</td>\n",
       "\t\t<td>0</td>\n",
       "\t\t<td>1</td>\n",
       "\t\t<td>32</td>\n",
       "\t\t<td>2</td>\n",
       "\t\t<td>female</td>\n",
       "\t\t<td>1</td>\n",
       "\t\t<td>15.5</td>\n",
       "\t\t<td>620</td>\n",
       "\t</tr>\n",
       "\t<tr>\n",
       "\t\t<td>0.36363636363636365</td>\n",
       "\t\t<td>1</td>\n",
       "\t\t<td>0</td>\n",
       "\t\t<td>28</td>\n",
       "\t\t<td>2</td>\n",
       "\t\t<td>female</td>\n",
       "\t\t<td>1</td>\n",
       "\t\t<td>15.5</td>\n",
       "\t\t<td>634</td>\n",
       "\t</tr>\n",
       "\t<tr>\n",
       "\t\t<td>0.36363636363636365</td>\n",
       "\t\t<td>1</td>\n",
       "\t\t<td>0</td>\n",
       "\t\t<td>28</td>\n",
       "\t\t<td>2</td>\n",
       "\t\t<td>female</td>\n",
       "\t\t<td>1</td>\n",
       "\t\t<td>15.5</td>\n",
       "\t\t<td>399</td>\n",
       "\t</tr>\n",
       "\t<tr>\n",
       "\t\t<td>0.36363636363636365</td>\n",
       "\t\t<td>1</td>\n",
       "\t\t<td>0</td>\n",
       "\t\t<td>28</td>\n",
       "\t\t<td>2</td>\n",
       "\t\t<td>female</td>\n",
       "\t\t<td>2</td>\n",
       "\t\t<td>23.25</td>\n",
       "\t\t<td>276</td>\n",
       "\t</tr>\n",
       "\t<tr>\n",
       "\t\t<td>0.36363636363636365</td>\n",
       "\t\t<td>0</td>\n",
       "\t\t<td>0</td>\n",
       "\t\t<td>44</td>\n",
       "\t\t<td>0</td>\n",
       "\t\t<td>male</td>\n",
       "\t\t<td>2</td>\n",
       "\t\t<td>90.0</td>\n",
       "\t\t<td>734</td>\n",
       "\t</tr>\n",
       "\t<tr>\n",
       "\t\t<td>0.36363636363636365</td>\n",
       "\t\t<td>0</td>\n",
       "\t\t<td>1</td>\n",
       "\t\t<td>8</td>\n",
       "\t\t<td>2</td>\n",
       "\t\t<td>male</td>\n",
       "\t\t<td>4</td>\n",
       "\t\t<td>29.125</td>\n",
       "\t\t<td>421</td>\n",
       "\t</tr>\n",
       "\t<tr>\n",
       "\t\t<td>0.33463796477495106</td>\n",
       "\t\t<td>0</td>\n",
       "\t\t<td>2</td>\n",
       "\t\t<td>14</td>\n",
       "\t\t<td>2</td>\n",
       "\t\t<td>male</td>\n",
       "\t\t<td>5</td>\n",
       "\t\t<td>46.9</td>\n",
       "\t\t<td>164</td>\n",
       "\t</tr>\n",
       "\t<tr>\n",
       "\t\t<td>0.33463796477495106</td>\n",
       "\t\t<td>0</td>\n",
       "\t\t<td>2</td>\n",
       "\t\t<td>11</td>\n",
       "\t\t<td>2</td>\n",
       "\t\t<td>male</td>\n",
       "\t\t<td>5</td>\n",
       "\t\t<td>46.9</td>\n",
       "\t\t<td>384</td>\n",
       "\t</tr>\n",
       "\t<tr>\n",
       "\t\t<td>0.33463796477495106</td>\n",
       "\t\t<td>1</td>\n",
       "\t\t<td>0</td>\n",
       "\t\t<td>27</td>\n",
       "\t\t<td>0</td>\n",
       "\t\t<td>male</td>\n",
       "\t\t<td>1</td>\n",
       "\t\t<td>53.1</td>\n",
       "\t\t<td>522</td>\n",
       "\t</tr>\n",
       "\t<tr>\n",
       "\t\t<td>0.33463796477495106</td>\n",
       "\t\t<td>1</td>\n",
       "\t\t<td>0</td>\n",
       "\t\t<td>22</td>\n",
       "\t\t<td>0</td>\n",
       "\t\t<td>female</td>\n",
       "\t\t<td>1</td>\n",
       "\t\t<td>66.6</td>\n",
       "\t\t<td>227</td>\n",
       "\t</tr>\n",
       "</table></html>"
      ],
      "text/plain": [
       "          survived  parch  age  pclass     sex  sibsp    fare   id\n",
       "embarked                                                          \n",
       "0.363636         0      1   32       2  female      1  15.500  620\n",
       "0.363636         1      0   28       2  female      1  15.500  634\n",
       "0.363636         1      0   28       2  female      1  15.500  399\n",
       "0.363636         1      0   28       2  female      2  23.250  276\n",
       "0.363636         0      0   44       0    male      2  90.000  734\n",
       "0.363636         0      1    8       2    male      4  29.125  421\n",
       "0.334638         0      2   14       2    male      5  46.900  164\n",
       "0.334638         0      2   11       2    male      5  46.900  384\n",
       "0.334638         1      0   27       0    male      1  53.100  522\n",
       "0.334638         1      0   22       0  female      1  66.600  227"
      ]
     },
     "metadata": {},
     "output_type": "display_data"
    },
    {
     "name": "stdout",
     "output_type": "stream",
     "text": [
      "                                                                                         \r"
     ]
    },
    {
     "data": {
      "text/html": [
       "712 rows X 9 columns"
      ],
      "text/plain": [
       "<IPython.core.display.HTML object>"
      ]
     },
     "metadata": {},
     "output_type": "display_data"
    },
    {
     "name": "stdout",
     "output_type": "stream",
     "text": [
      "                                                                                         \r"
     ]
    },
    {
     "data": {
      "text/html": [
       "\n",
       "Performing encoding for categorical columns ..."
      ],
      "text/plain": [
       "<IPython.core.display.HTML object>"
      ]
     },
     "metadata": {},
     "output_type": "display_data"
    },
    {
     "name": "stdout",
     "output_type": "stream",
     "text": [
      "                                                                                         \r"
     ]
    },
    {
     "data": {
      "text/html": [
       "ONE HOT Encoding these Columns:"
      ],
      "text/plain": [
       "<IPython.core.display.HTML object>"
      ]
     },
     "metadata": {},
     "output_type": "display_data"
    },
    {
     "name": "stdout",
     "output_type": "stream",
     "text": [
      "['sex']\n",
      "                                                                                         \r"
     ]
    },
    {
     "data": {
      "text/html": [
       "Sample of dataset after performing one hot encoding:"
      ],
      "text/plain": [
       "<IPython.core.display.HTML object>"
      ]
     },
     "metadata": {},
     "output_type": "display_data"
    },
    {
     "data": {
      "text/html": [
       "<style type=\"text/css\">\n",
       "\ttable {border:ridge 5px;}\n",
       "\ttable td {border:inset 1px;}\n",
       "\ttable tr#HeaderRow {background-color:grey; color:white;}</style>\n",
       "<html><table>\n",
       "\t<tr id=\"HeaderRow\">\n",
       "\t\t<th>embarked</th>\n",
       "\t\t<th>survived</th>\n",
       "\t\t<th>parch</th>\n",
       "\t\t<th>age</th>\n",
       "\t\t<th>pclass</th>\n",
       "\t\t<th>sex_0</th>\n",
       "\t\t<th>sex_1</th>\n",
       "\t\t<th>sibsp</th>\n",
       "\t\t<th>fare</th>\n",
       "\t\t<th>id</th>\n",
       "\t</tr>\n",
       "\t<tr>\n",
       "\t\t<td>0.33463796477495106</td>\n",
       "\t\t<td>1</td>\n",
       "\t\t<td>0</td>\n",
       "\t\t<td>36</td>\n",
       "\t\t<td>2</td>\n",
       "\t\t<td>1</td>\n",
       "\t\t<td>0</td>\n",
       "\t\t<td>1</td>\n",
       "\t\t<td>17.4</td>\n",
       "\t\t<td>186</td>\n",
       "\t</tr>\n",
       "\t<tr>\n",
       "\t\t<td>0.33463796477495106</td>\n",
       "\t\t<td>1</td>\n",
       "\t\t<td>1</td>\n",
       "\t\t<td>0</td>\n",
       "\t\t<td>1</td>\n",
       "\t\t<td>0</td>\n",
       "\t\t<td>1</td>\n",
       "\t\t<td>1</td>\n",
       "\t\t<td>14.5</td>\n",
       "\t\t<td>344</td>\n",
       "\t</tr>\n",
       "\t<tr>\n",
       "\t\t<td>0.33463796477495106</td>\n",
       "\t\t<td>1</td>\n",
       "\t\t<td>1</td>\n",
       "\t\t<td>37</td>\n",
       "\t\t<td>0</td>\n",
       "\t\t<td>0</td>\n",
       "\t\t<td>1</td>\n",
       "\t\t<td>1</td>\n",
       "\t\t<td>52.5542</td>\n",
       "\t\t<td>249</td>\n",
       "\t</tr>\n",
       "\t<tr>\n",
       "\t\t<td>0.33463796477495106</td>\n",
       "\t\t<td>1</td>\n",
       "\t\t<td>5</td>\n",
       "\t\t<td>38</td>\n",
       "\t\t<td>2</td>\n",
       "\t\t<td>1</td>\n",
       "\t\t<td>0</td>\n",
       "\t\t<td>1</td>\n",
       "\t\t<td>31.3875</td>\n",
       "\t\t<td>272</td>\n",
       "\t</tr>\n",
       "\t<tr>\n",
       "\t\t<td>0.33463796477495106</td>\n",
       "\t\t<td>0</td>\n",
       "\t\t<td>0</td>\n",
       "\t\t<td>44</td>\n",
       "\t\t<td>1</td>\n",
       "\t\t<td>0</td>\n",
       "\t\t<td>1</td>\n",
       "\t\t<td>1</td>\n",
       "\t\t<td>26.0</td>\n",
       "\t\t<td>437</td>\n",
       "\t</tr>\n",
       "\t<tr>\n",
       "\t\t<td>0.33463796477495106</td>\n",
       "\t\t<td>1</td>\n",
       "\t\t<td>1</td>\n",
       "\t\t<td>22</td>\n",
       "\t\t<td>1</td>\n",
       "\t\t<td>1</td>\n",
       "\t\t<td>0</td>\n",
       "\t\t<td>1</td>\n",
       "\t\t<td>29.0</td>\n",
       "\t\t<td>67</td>\n",
       "\t</tr>\n",
       "\t<tr>\n",
       "\t\t<td>0.5579710144927537</td>\n",
       "\t\t<td>1</td>\n",
       "\t\t<td>0</td>\n",
       "\t\t<td>15</td>\n",
       "\t\t<td>2</td>\n",
       "\t\t<td>1</td>\n",
       "\t\t<td>0</td>\n",
       "\t\t<td>0</td>\n",
       "\t\t<td>7.225</td>\n",
       "\t\t<td>362</td>\n",
       "\t</tr>\n",
       "\t<tr>\n",
       "\t\t<td>0.5579710144927537</td>\n",
       "\t\t<td>1</td>\n",
       "\t\t<td>1</td>\n",
       "\t\t<td>50</td>\n",
       "\t\t<td>0</td>\n",
       "\t\t<td>1</td>\n",
       "\t\t<td>0</td>\n",
       "\t\t<td>0</td>\n",
       "\t\t<td>247.5208</td>\n",
       "\t\t<td>466</td>\n",
       "\t</tr>\n",
       "\t<tr>\n",
       "\t\t<td>0.5579710144927537</td>\n",
       "\t\t<td>1</td>\n",
       "\t\t<td>2</td>\n",
       "\t\t<td>22</td>\n",
       "\t\t<td>0</td>\n",
       "\t\t<td>1</td>\n",
       "\t\t<td>0</td>\n",
       "\t\t<td>0</td>\n",
       "\t\t<td>49.5</td>\n",
       "\t\t<td>546</td>\n",
       "\t</tr>\n",
       "\t<tr>\n",
       "\t\t<td>0.5579710144927537</td>\n",
       "\t\t<td>1</td>\n",
       "\t\t<td>0</td>\n",
       "\t\t<td>28</td>\n",
       "\t\t<td>0</td>\n",
       "\t\t<td>1</td>\n",
       "\t\t<td>0</td>\n",
       "\t\t<td>0</td>\n",
       "\t\t<td>110.8833</td>\n",
       "\t\t<td>650</td>\n",
       "\t</tr>\n",
       "</table></html>"
      ],
      "text/plain": [
       "          survived  parch  age  pclass  sex_0  sex_1  sibsp      fare   id\n",
       "embarked                                                                  \n",
       "0.334638         1      0   36       2      1      0      1   17.4000  186\n",
       "0.334638         1      1    0       1      0      1      1   14.5000  344\n",
       "0.334638         1      1   37       0      0      1      1   52.5542  249\n",
       "0.334638         1      5   38       2      1      0      1   31.3875  272\n",
       "0.334638         0      0   44       1      0      1      1   26.0000  437\n",
       "0.334638         1      1   22       1      1      0      1   29.0000   67\n",
       "0.557971         1      0   15       2      1      0      0    7.2250  362\n",
       "0.557971         1      1   50       0      1      0      0  247.5208  466\n",
       "0.557971         1      2   22       0      1      0      0   49.5000  546\n",
       "0.557971         1      0   28       0      1      0      0  110.8833  650"
      ]
     },
     "metadata": {},
     "output_type": "display_data"
    },
    {
     "name": "stdout",
     "output_type": "stream",
     "text": [
      "                                                                                         \r"
     ]
    },
    {
     "data": {
      "text/html": [
       "712 rows X 10 columns"
      ],
      "text/plain": [
       "<IPython.core.display.HTML object>"
      ]
     },
     "metadata": {},
     "output_type": "display_data"
    },
    {
     "name": "stdout",
     "output_type": "stream",
     "text": [
      "                                                                                         \r"
     ]
    },
    {
     "data": {
      "text/html": [
       "Time taken to encode the columns: 16.28 sec"
      ],
      "text/plain": [
       "<IPython.core.display.HTML object>"
      ]
     },
     "metadata": {},
     "output_type": "display_data"
    },
    {
     "name": "stdout",
     "output_type": "stream",
     "text": [
      "                                                                                         \r"
     ]
    },
    {
     "data": {
      "text/html": [
       "\n",
       "Starting customized mathematical transformation ..."
      ],
      "text/plain": [
       "<IPython.core.display.HTML object>"
      ]
     },
     "metadata": {},
     "output_type": "display_data"
    },
    {
     "name": "stdout",
     "output_type": "stream",
     "text": [
      "Skipping customized mathematical transformation.                                         \n",
      "                                                                                         \r"
     ]
    },
    {
     "data": {
      "text/html": [
       "\n",
       "Starting customized non-linear transformation ..."
      ],
      "text/plain": [
       "<IPython.core.display.HTML object>"
      ]
     },
     "metadata": {},
     "output_type": "display_data"
    },
    {
     "name": "stdout",
     "output_type": "stream",
     "text": [
      "                                                                                         \r"
     ]
    },
    {
     "data": {
      "text/html": [
       "Possible combination :"
      ],
      "text/plain": [
       "<IPython.core.display.HTML object>"
      ]
     },
     "metadata": {},
     "output_type": "display_data"
    },
    {
     "name": "stdout",
     "output_type": "stream",
     "text": [
      "['Combination_1']\n",
      "                                                                                         \r"
     ]
    },
    {
     "data": {
      "text/html": [
       "Updated dataset sample after performing non-liner transformation:"
      ],
      "text/plain": [
       "<IPython.core.display.HTML object>"
      ]
     },
     "metadata": {},
     "output_type": "display_data"
    },
    {
     "data": {
      "text/html": [
       "<style type=\"text/css\">\n",
       "\ttable {border:ridge 5px;}\n",
       "\ttable td {border:inset 1px;}\n",
       "\ttable tr#HeaderRow {background-color:grey; color:white;}</style>\n",
       "<html><table>\n",
       "\t<tr id=\"HeaderRow\">\n",
       "\t\t<th>embarked</th>\n",
       "\t\t<th>survived</th>\n",
       "\t\t<th>parch</th>\n",
       "\t\t<th>age</th>\n",
       "\t\t<th>pclass</th>\n",
       "\t\t<th>sex_0</th>\n",
       "\t\t<th>sex_1</th>\n",
       "\t\t<th>sibsp</th>\n",
       "\t\t<th>fare</th>\n",
       "\t\t<th>id</th>\n",
       "\t\t<th>family_count</th>\n",
       "\t</tr>\n",
       "\t<tr>\n",
       "\t\t<td>0.33463796477495106</td>\n",
       "\t\t<td>1</td>\n",
       "\t\t<td>1.0</td>\n",
       "\t\t<td>37</td>\n",
       "\t\t<td>0</td>\n",
       "\t\t<td>0</td>\n",
       "\t\t<td>1</td>\n",
       "\t\t<td>1.0</td>\n",
       "\t\t<td>52.5542</td>\n",
       "\t\t<td>249</td>\n",
       "\t\t<td>3.0</td>\n",
       "\t</tr>\n",
       "\t<tr>\n",
       "\t\t<td>0.33463796477495106</td>\n",
       "\t\t<td>0</td>\n",
       "\t\t<td>0.0</td>\n",
       "\t\t<td>44</td>\n",
       "\t\t<td>1</td>\n",
       "\t\t<td>0</td>\n",
       "\t\t<td>1</td>\n",
       "\t\t<td>1.0</td>\n",
       "\t\t<td>26.0</td>\n",
       "\t\t<td>437</td>\n",
       "\t\t<td>2.0</td>\n",
       "\t</tr>\n",
       "\t<tr>\n",
       "\t\t<td>0.33463796477495106</td>\n",
       "\t\t<td>1</td>\n",
       "\t\t<td>1.0</td>\n",
       "\t\t<td>22</td>\n",
       "\t\t<td>1</td>\n",
       "\t\t<td>1</td>\n",
       "\t\t<td>0</td>\n",
       "\t\t<td>1.0</td>\n",
       "\t\t<td>29.0</td>\n",
       "\t\t<td>67</td>\n",
       "\t\t<td>3.0</td>\n",
       "\t</tr>\n",
       "\t<tr>\n",
       "\t\t<td>0.33463796477495106</td>\n",
       "\t\t<td>0</td>\n",
       "\t\t<td>2.0</td>\n",
       "\t\t<td>26</td>\n",
       "\t\t<td>2</td>\n",
       "\t\t<td>0</td>\n",
       "\t\t<td>1</td>\n",
       "\t\t<td>1.0</td>\n",
       "\t\t<td>20.575</td>\n",
       "\t\t<td>490</td>\n",
       "\t\t<td>4.0</td>\n",
       "\t</tr>\n",
       "\t<tr>\n",
       "\t\t<td>0.33463796477495106</td>\n",
       "\t\t<td>0</td>\n",
       "\t\t<td>0.0</td>\n",
       "\t\t<td>27</td>\n",
       "\t\t<td>1</td>\n",
       "\t\t<td>1</td>\n",
       "\t\t<td>0</td>\n",
       "\t\t<td>1.0</td>\n",
       "\t\t<td>21.0</td>\n",
       "\t\t<td>742</td>\n",
       "\t\t<td>2.0</td>\n",
       "\t</tr>\n",
       "\t<tr>\n",
       "\t\t<td>0.33463796477495106</td>\n",
       "\t\t<td>0</td>\n",
       "\t\t<td>0.0</td>\n",
       "\t\t<td>40</td>\n",
       "\t\t<td>2</td>\n",
       "\t\t<td>1</td>\n",
       "\t\t<td>0</td>\n",
       "\t\t<td>1.0</td>\n",
       "\t\t<td>9.475</td>\n",
       "\t\t<td>301</td>\n",
       "\t\t<td>2.0</td>\n",
       "\t</tr>\n",
       "\t<tr>\n",
       "\t\t<td>0.36363636363636365</td>\n",
       "\t\t<td>1</td>\n",
       "\t\t<td>0.0</td>\n",
       "\t\t<td>28</td>\n",
       "\t\t<td>2</td>\n",
       "\t\t<td>1</td>\n",
       "\t\t<td>0</td>\n",
       "\t\t<td>1.0</td>\n",
       "\t\t<td>15.5</td>\n",
       "\t\t<td>399</td>\n",
       "\t\t<td>2.0</td>\n",
       "\t</tr>\n",
       "\t<tr>\n",
       "\t\t<td>0.36363636363636365</td>\n",
       "\t\t<td>0</td>\n",
       "\t\t<td>0.0</td>\n",
       "\t\t<td>44</td>\n",
       "\t\t<td>0</td>\n",
       "\t\t<td>0</td>\n",
       "\t\t<td>1</td>\n",
       "\t\t<td>2.0</td>\n",
       "\t\t<td>90.0</td>\n",
       "\t\t<td>734</td>\n",
       "\t\t<td>3.0</td>\n",
       "\t</tr>\n",
       "\t<tr>\n",
       "\t\t<td>0.36363636363636365</td>\n",
       "\t\t<td>0</td>\n",
       "\t\t<td>1.0</td>\n",
       "\t\t<td>8</td>\n",
       "\t\t<td>2</td>\n",
       "\t\t<td>0</td>\n",
       "\t\t<td>1</td>\n",
       "\t\t<td>4.0</td>\n",
       "\t\t<td>29.125</td>\n",
       "\t\t<td>421</td>\n",
       "\t\t<td>6.0</td>\n",
       "\t</tr>\n",
       "\t<tr>\n",
       "\t\t<td>0.36363636363636365</td>\n",
       "\t\t<td>0</td>\n",
       "\t\t<td>1.0</td>\n",
       "\t\t<td>2</td>\n",
       "\t\t<td>2</td>\n",
       "\t\t<td>0</td>\n",
       "\t\t<td>1</td>\n",
       "\t\t<td>4.0</td>\n",
       "\t\t<td>29.125</td>\n",
       "\t\t<td>49</td>\n",
       "\t\t<td>6.0</td>\n",
       "\t</tr>\n",
       "</table></html>"
      ],
      "text/plain": [
       "          survived  parch  age  pclass  sex_0  sex_1  sibsp     fare   id  family_count\n",
       "embarked                                                                               \n",
       "0.334638         1    1.0   37       0      0      1    1.0  52.5542  249           3.0\n",
       "0.334638         0    0.0   44       1      0      1    1.0  26.0000  437           2.0\n",
       "0.334638         1    1.0   22       1      1      0    1.0  29.0000   67           3.0\n",
       "0.334638         0    2.0   26       2      0      1    1.0  20.5750  490           4.0\n",
       "0.334638         0    0.0   27       1      1      0    1.0  21.0000  742           2.0\n",
       "0.334638         0    0.0   40       2      1      0    1.0   9.4750  301           2.0\n",
       "0.363636         1    0.0   28       2      1      0    1.0  15.5000  399           2.0\n",
       "0.363636         0    0.0   44       0      0      1    2.0  90.0000  734           3.0\n",
       "0.363636         0    1.0    8       2      0      1    4.0  29.1250  421           6.0\n",
       "0.363636         0    1.0    2       2      0      1    4.0  29.1250   49           6.0"
      ]
     },
     "metadata": {},
     "output_type": "display_data"
    },
    {
     "name": "stdout",
     "output_type": "stream",
     "text": [
      "                                                                                         \r"
     ]
    },
    {
     "data": {
      "text/html": [
       "712 rows X 11 columns"
      ],
      "text/plain": [
       "<IPython.core.display.HTML object>"
      ]
     },
     "metadata": {},
     "output_type": "display_data"
    },
    {
     "name": "stdout",
     "output_type": "stream",
     "text": [
      "                                                                                          \r"
     ]
    },
    {
     "data": {
      "text/html": [
       "\n",
       "            <style>\n",
       "                .custom-div {\n",
       "                    background-color: lightgray;\n",
       "                    color: #000000;\n",
       "                    padding: 10px;\n",
       "                    border-radius: 8px;\n",
       "                    box-shadow: 0 3px 4px rgba(0 -  0 -  0 -  0.2);\n",
       "                    margin-bottom: 10px;\n",
       "                    text-align: center;\n",
       "                }\n",
       "            </style>\n",
       "        <br><div class=\"custom-div\"><h3><span style=\"color: green;\">1. Feature Exploration -> 2. Feature Engineering -></span> 3. Data Preparation -> 4. Model Training & Evaluation<center></h3></center></div>"
      ],
      "text/plain": [
       "<IPython.core.display.HTML object>"
      ]
     },
     "metadata": {},
     "output_type": "display_data"
    },
    {
     "name": "stdout",
     "output_type": "stream",
     "text": [
      "                                                                                          \r"
     ]
    },
    {
     "data": {
      "text/html": [
       "Data preparation started ..."
      ],
      "text/plain": [
       "<IPython.core.display.HTML object>"
      ]
     },
     "metadata": {},
     "output_type": "display_data"
    },
    {
     "name": "stdout",
     "output_type": "stream",
     "text": [
      "No information provided for performing customized feature scaling. Proceeding with default option.\n",
      "No information provided for performing customized imbalanced dataset sampling. AutoML will Proceed with default option.\n",
      "                                                                                          \r"
     ]
    },
    {
     "data": {
      "text/html": [
       "\n",
       "Starting customized outlier processing ..."
      ],
      "text/plain": [
       "<IPython.core.display.HTML object>"
      ]
     },
     "metadata": {},
     "output_type": "display_data"
    },
    {
     "name": "stdout",
     "output_type": "stream",
     "text": [
      "No information provided for customized outlier processing. AutoML will proceed with default settings.\n",
      "                                                                                          \r"
     ]
    },
    {
     "data": {
      "text/html": [
       "\n",
       "Outlier preprocessing ..."
      ],
      "text/plain": [
       "<IPython.core.display.HTML object>"
      ]
     },
     "metadata": {},
     "output_type": "display_data"
    },
    {
     "name": "stdout",
     "output_type": "stream",
     "text": [
      "Columns with outlier percentage :-                                                                                                                                                                                                                                                                                                                                                                                                                                                                                  \n",
      "     ColumnName  OutlierPercentage\n",
      "0         parch          25.000000\n",
      "1  family_count          10.393258\n",
      "2      embarked          19.241573\n",
      "3         sibsp           4.915730\n",
      "4           age           7.724719\n",
      "5          fare          13.061798\n",
      "                                                                                          \r"
     ]
    },
    {
     "data": {
      "text/html": [
       "Deleting rows of these columns:"
      ],
      "text/plain": [
       "<IPython.core.display.HTML object>"
      ]
     },
     "metadata": {},
     "output_type": "display_data"
    },
    {
     "name": "stdout",
     "output_type": "stream",
     "text": [
      "['age', 'sibsp']\n",
      "                                                                                          \r"
     ]
    },
    {
     "data": {
      "text/html": [
       "Sample of dataset after removing outlier rows:"
      ],
      "text/plain": [
       "<IPython.core.display.HTML object>"
      ]
     },
     "metadata": {},
     "output_type": "display_data"
    },
    {
     "data": {
      "text/html": [
       "<style type=\"text/css\">\n",
       "\ttable {border:ridge 5px;}\n",
       "\ttable td {border:inset 1px;}\n",
       "\ttable tr#HeaderRow {background-color:grey; color:white;}</style>\n",
       "<html><table>\n",
       "\t<tr id=\"HeaderRow\">\n",
       "\t\t<th>embarked</th>\n",
       "\t\t<th>survived</th>\n",
       "\t\t<th>parch</th>\n",
       "\t\t<th>age</th>\n",
       "\t\t<th>pclass</th>\n",
       "\t\t<th>sex_0</th>\n",
       "\t\t<th>sex_1</th>\n",
       "\t\t<th>sibsp</th>\n",
       "\t\t<th>fare</th>\n",
       "\t\t<th>id</th>\n",
       "\t\t<th>family_count</th>\n",
       "\t</tr>\n",
       "\t<tr>\n",
       "\t\t<td>0.33463796477495106</td>\n",
       "\t\t<td>0</td>\n",
       "\t\t<td>2.0</td>\n",
       "\t\t<td>26</td>\n",
       "\t\t<td>2</td>\n",
       "\t\t<td>0</td>\n",
       "\t\t<td>1</td>\n",
       "\t\t<td>1.0</td>\n",
       "\t\t<td>20.575</td>\n",
       "\t\t<td>490</td>\n",
       "\t\t<td>4.0</td>\n",
       "\t</tr>\n",
       "\t<tr>\n",
       "\t\t<td>0.33463796477495106</td>\n",
       "\t\t<td>0</td>\n",
       "\t\t<td>0.0</td>\n",
       "\t\t<td>40</td>\n",
       "\t\t<td>2</td>\n",
       "\t\t<td>1</td>\n",
       "\t\t<td>0</td>\n",
       "\t\t<td>1.0</td>\n",
       "\t\t<td>9.475</td>\n",
       "\t\t<td>301</td>\n",
       "\t\t<td>2.0</td>\n",
       "\t</tr>\n",
       "\t<tr>\n",
       "\t\t<td>0.33463796477495106</td>\n",
       "\t\t<td>0</td>\n",
       "\t\t<td>0.0</td>\n",
       "\t\t<td>28</td>\n",
       "\t\t<td>2</td>\n",
       "\t\t<td>0</td>\n",
       "\t\t<td>1</td>\n",
       "\t\t<td>1.0</td>\n",
       "\t\t<td>15.85</td>\n",
       "\t\t<td>65</td>\n",
       "\t\t<td>2.0</td>\n",
       "\t</tr>\n",
       "\t<tr>\n",
       "\t\t<td>0.33463796477495106</td>\n",
       "\t\t<td>1</td>\n",
       "\t\t<td>1.0</td>\n",
       "\t\t<td>45</td>\n",
       "\t\t<td>0</td>\n",
       "\t\t<td>1</td>\n",
       "\t\t<td>0</td>\n",
       "\t\t<td>1.0</td>\n",
       "\t\t<td>164.8667</td>\n",
       "\t\t<td>293</td>\n",
       "\t\t<td>3.0</td>\n",
       "\t</tr>\n",
       "\t<tr>\n",
       "\t\t<td>0.33463796477495106</td>\n",
       "\t\t<td>1</td>\n",
       "\t\t<td>0.0</td>\n",
       "\t\t<td>42</td>\n",
       "\t\t<td>0</td>\n",
       "\t\t<td>0</td>\n",
       "\t\t<td>1</td>\n",
       "\t\t<td>1.0</td>\n",
       "\t\t<td>52.5542</td>\n",
       "\t\t<td>453</td>\n",
       "\t\t<td>2.0</td>\n",
       "\t</tr>\n",
       "\t<tr>\n",
       "\t\t<td>0.33463796477495106</td>\n",
       "\t\t<td>1</td>\n",
       "\t\t<td>0.0</td>\n",
       "\t\t<td>28</td>\n",
       "\t\t<td>0</td>\n",
       "\t\t<td>1</td>\n",
       "\t\t<td>0</td>\n",
       "\t\t<td>1.0</td>\n",
       "\t\t<td>52.0</td>\n",
       "\t\t<td>487</td>\n",
       "\t\t<td>2.0</td>\n",
       "\t</tr>\n",
       "\t<tr>\n",
       "\t\t<td>0.36363636363636365</td>\n",
       "\t\t<td>1</td>\n",
       "\t\t<td>0.0</td>\n",
       "\t\t<td>28</td>\n",
       "\t\t<td>2</td>\n",
       "\t\t<td>1</td>\n",
       "\t\t<td>0</td>\n",
       "\t\t<td>0.0</td>\n",
       "\t\t<td>7.75</td>\n",
       "\t\t<td>517</td>\n",
       "\t\t<td>1.0</td>\n",
       "\t</tr>\n",
       "\t<tr>\n",
       "\t\t<td>0.36363636363636365</td>\n",
       "\t\t<td>1</td>\n",
       "\t\t<td>0.0</td>\n",
       "\t\t<td>19</td>\n",
       "\t\t<td>2</td>\n",
       "\t\t<td>1</td>\n",
       "\t\t<td>0</td>\n",
       "\t\t<td>0.0</td>\n",
       "\t\t<td>7.8792</td>\n",
       "\t\t<td>331</td>\n",
       "\t\t<td>1.0</td>\n",
       "\t</tr>\n",
       "\t<tr>\n",
       "\t\t<td>0.36363636363636365</td>\n",
       "\t\t<td>1</td>\n",
       "\t\t<td>0.0</td>\n",
       "\t\t<td>28</td>\n",
       "\t\t<td>2</td>\n",
       "\t\t<td>1</td>\n",
       "\t\t<td>0</td>\n",
       "\t\t<td>0.0</td>\n",
       "\t\t<td>7.7333</td>\n",
       "\t\t<td>654</td>\n",
       "\t\t<td>1.0</td>\n",
       "\t</tr>\n",
       "\t<tr>\n",
       "\t\t<td>0.36363636363636365</td>\n",
       "\t\t<td>1</td>\n",
       "\t\t<td>0.0</td>\n",
       "\t\t<td>29</td>\n",
       "\t\t<td>2</td>\n",
       "\t\t<td>0</td>\n",
       "\t\t<td>1</td>\n",
       "\t\t<td>0.0</td>\n",
       "\t\t<td>7.75</td>\n",
       "\t\t<td>750</td>\n",
       "\t\t<td>1.0</td>\n",
       "\t</tr>\n",
       "</table></html>"
      ],
      "text/plain": [
       "          survived  parch  age  pclass  sex_0  sex_1  sibsp      fare   id  family_count\n",
       "embarked                                                                                \n",
       "0.334638         0    2.0   26       2      0      1    1.0   20.5750  490           4.0\n",
       "0.334638         0    0.0   40       2      1      0    1.0    9.4750  301           2.0\n",
       "0.334638         0    0.0   28       2      0      1    1.0   15.8500   65           2.0\n",
       "0.334638         1    1.0   45       0      1      0    1.0  164.8667  293           3.0\n",
       "0.334638         1    0.0   42       0      0      1    1.0   52.5542  453           2.0\n",
       "0.334638         1    0.0   28       0      1      0    1.0   52.0000  487           2.0\n",
       "0.363636         1    0.0   28       2      1      0    0.0    7.7500  517           1.0\n",
       "0.363636         1    0.0   19       2      1      0    0.0    7.8792  331           1.0\n",
       "0.363636         1    0.0   28       2      1      0    0.0    7.7333  654           1.0\n",
       "0.363636         1    0.0   29       2      0      1    0.0    7.7500  750           1.0"
      ]
     },
     "metadata": {},
     "output_type": "display_data"
    },
    {
     "name": "stdout",
     "output_type": "stream",
     "text": [
      "                                                                                          \r"
     ]
    },
    {
     "data": {
      "text/html": [
       "627 rows X 11 columns"
      ],
      "text/plain": [
       "<IPython.core.display.HTML object>"
      ]
     },
     "metadata": {},
     "output_type": "display_data"
    },
    {
     "name": "stdout",
     "output_type": "stream",
     "text": [
      "                                                                                          \r"
     ]
    },
    {
     "data": {
      "text/html": [
       "median inplace of outliers:"
      ],
      "text/plain": [
       "<IPython.core.display.HTML object>"
      ]
     },
     "metadata": {},
     "output_type": "display_data"
    },
    {
     "name": "stdout",
     "output_type": "stream",
     "text": [
      "['fare', 'embarked', 'parch', 'family_count']\n",
      "                                                                                          \r"
     ]
    },
    {
     "data": {
      "text/html": [
       "Sample of dataset after performing MEDIAN inplace:"
      ],
      "text/plain": [
       "<IPython.core.display.HTML object>"
      ]
     },
     "metadata": {},
     "output_type": "display_data"
    },
    {
     "data": {
      "text/html": [
       "<style type=\"text/css\">\n",
       "\ttable {border:ridge 5px;}\n",
       "\ttable td {border:inset 1px;}\n",
       "\ttable tr#HeaderRow {background-color:grey; color:white;}</style>\n",
       "<html><table>\n",
       "\t<tr id=\"HeaderRow\">\n",
       "\t\t<th>embarked</th>\n",
       "\t\t<th>survived</th>\n",
       "\t\t<th>parch</th>\n",
       "\t\t<th>age</th>\n",
       "\t\t<th>pclass</th>\n",
       "\t\t<th>sex_0</th>\n",
       "\t\t<th>sex_1</th>\n",
       "\t\t<th>sibsp</th>\n",
       "\t\t<th>fare</th>\n",
       "\t\t<th>id</th>\n",
       "\t\t<th>family_count</th>\n",
       "\t</tr>\n",
       "\t<tr>\n",
       "\t\t<td>0.33463796477495106</td>\n",
       "\t\t<td>0</td>\n",
       "\t\t<td>0.0</td>\n",
       "\t\t<td>28</td>\n",
       "\t\t<td>1</td>\n",
       "\t\t<td>0</td>\n",
       "\t\t<td>1</td>\n",
       "\t\t<td>0.0</td>\n",
       "\t\t<td>15.05</td>\n",
       "\t\t<td>378</td>\n",
       "\t\t<td>1.0</td>\n",
       "\t</tr>\n",
       "\t<tr>\n",
       "\t\t<td>0.33463796477495106</td>\n",
       "\t\t<td>0</td>\n",
       "\t\t<td>0.0</td>\n",
       "\t\t<td>28</td>\n",
       "\t\t<td>2</td>\n",
       "\t\t<td>0</td>\n",
       "\t\t<td>1</td>\n",
       "\t\t<td>0.0</td>\n",
       "\t\t<td>7.8958</td>\n",
       "\t\t<td>144</td>\n",
       "\t\t<td>1.0</td>\n",
       "\t</tr>\n",
       "\t<tr>\n",
       "\t\t<td>0.33463796477495106</td>\n",
       "\t\t<td>0</td>\n",
       "\t\t<td>0.0</td>\n",
       "\t\t<td>37</td>\n",
       "\t\t<td>0</td>\n",
       "\t\t<td>0</td>\n",
       "\t\t<td>1</td>\n",
       "\t\t<td>0.0</td>\n",
       "\t\t<td>29.7</td>\n",
       "\t\t<td>192</td>\n",
       "\t\t<td>2.0</td>\n",
       "\t</tr>\n",
       "\t<tr>\n",
       "\t\t<td>0.33463796477495106</td>\n",
       "\t\t<td>0</td>\n",
       "\t\t<td>0.0</td>\n",
       "\t\t<td>33</td>\n",
       "\t\t<td>2</td>\n",
       "\t\t<td>0</td>\n",
       "\t\t<td>1</td>\n",
       "\t\t<td>0.0</td>\n",
       "\t\t<td>7.8958</td>\n",
       "\t\t<td>200</td>\n",
       "\t\t<td>1.0</td>\n",
       "\t</tr>\n",
       "\t<tr>\n",
       "\t\t<td>0.33463796477495106</td>\n",
       "\t\t<td>0</td>\n",
       "\t\t<td>0.0</td>\n",
       "\t\t<td>45</td>\n",
       "\t\t<td>2</td>\n",
       "\t\t<td>1</td>\n",
       "\t\t<td>0</td>\n",
       "\t\t<td>0.0</td>\n",
       "\t\t<td>14.4542</td>\n",
       "\t\t<td>432</td>\n",
       "\t\t<td>2.0</td>\n",
       "\t</tr>\n",
       "\t<tr>\n",
       "\t\t<td>0.33463796477495106</td>\n",
       "\t\t<td>0</td>\n",
       "\t\t<td>0.0</td>\n",
       "\t\t<td>27</td>\n",
       "\t\t<td>0</td>\n",
       "\t\t<td>0</td>\n",
       "\t\t<td>1</td>\n",
       "\t\t<td>0.0</td>\n",
       "\t\t<td>13.0</td>\n",
       "\t\t<td>536</td>\n",
       "\t\t<td>3.0</td>\n",
       "\t</tr>\n",
       "\t<tr>\n",
       "\t\t<td>0.36363636363636365</td>\n",
       "\t\t<td>1</td>\n",
       "\t\t<td>0.0</td>\n",
       "\t\t<td>28</td>\n",
       "\t\t<td>2</td>\n",
       "\t\t<td>1</td>\n",
       "\t\t<td>0</td>\n",
       "\t\t<td>0.0</td>\n",
       "\t\t<td>7.7333</td>\n",
       "\t\t<td>654</td>\n",
       "\t\t<td>1.0</td>\n",
       "\t</tr>\n",
       "\t<tr>\n",
       "\t\t<td>0.36363636363636365</td>\n",
       "\t\t<td>1</td>\n",
       "\t\t<td>0.0</td>\n",
       "\t\t<td>30</td>\n",
       "\t\t<td>1</td>\n",
       "\t\t<td>1</td>\n",
       "\t\t<td>0</td>\n",
       "\t\t<td>0.0</td>\n",
       "\t\t<td>12.35</td>\n",
       "\t\t<td>380</td>\n",
       "\t\t<td>1.0</td>\n",
       "\t</tr>\n",
       "\t<tr>\n",
       "\t\t<td>0.36363636363636365</td>\n",
       "\t\t<td>1</td>\n",
       "\t\t<td>0.0</td>\n",
       "\t\t<td>28</td>\n",
       "\t\t<td>2</td>\n",
       "\t\t<td>1</td>\n",
       "\t\t<td>0</td>\n",
       "\t\t<td>0.0</td>\n",
       "\t\t<td>7.8792</td>\n",
       "\t\t<td>548</td>\n",
       "\t\t<td>1.0</td>\n",
       "\t</tr>\n",
       "\t<tr>\n",
       "\t\t<td>0.36363636363636365</td>\n",
       "\t\t<td>1</td>\n",
       "\t\t<td>0.0</td>\n",
       "\t\t<td>28</td>\n",
       "\t\t<td>2</td>\n",
       "\t\t<td>1</td>\n",
       "\t\t<td>0</td>\n",
       "\t\t<td>0.0</td>\n",
       "\t\t<td>7.8292</td>\n",
       "\t\t<td>700</td>\n",
       "\t\t<td>1.0</td>\n",
       "\t</tr>\n",
       "</table></html>"
      ],
      "text/plain": [
       "          survived  parch  age  pclass  sex_0  sex_1  sibsp     fare   id  family_count\n",
       "embarked                                                                               \n",
       "0.334638         0    0.0   28       1      0      1    0.0  15.0500  378           1.0\n",
       "0.334638         0    0.0   28       2      0      1    0.0   7.8958  144           1.0\n",
       "0.334638         0    0.0   37       0      0      1    0.0  29.7000  192           2.0\n",
       "0.334638         0    0.0   33       2      0      1    0.0   7.8958  200           1.0\n",
       "0.334638         0    0.0   45       2      1      0    0.0  14.4542  432           2.0\n",
       "0.334638         0    0.0   27       0      0      1    0.0  13.0000  536           3.0\n",
       "0.363636         1    0.0   28       2      1      0    0.0   7.7333  654           1.0\n",
       "0.363636         1    0.0   30       1      1      0    0.0  12.3500  380           1.0\n",
       "0.363636         1    0.0   28       2      1      0    0.0   7.8792  548           1.0\n",
       "0.363636         1    0.0   28       2      1      0    0.0   7.8292  700           1.0"
      ]
     },
     "metadata": {},
     "output_type": "display_data"
    },
    {
     "name": "stdout",
     "output_type": "stream",
     "text": [
      "                                                                                          \r"
     ]
    },
    {
     "data": {
      "text/html": [
       "627 rows X 11 columns"
      ],
      "text/plain": [
       "<IPython.core.display.HTML object>"
      ]
     },
     "metadata": {},
     "output_type": "display_data"
    },
    {
     "name": "stdout",
     "output_type": "stream",
     "text": [
      "                                                                                          \r"
     ]
    },
    {
     "data": {
      "text/html": [
       "Time Taken by Outlier processing: 57.51 sec "
      ],
      "text/plain": [
       "<IPython.core.display.HTML object>"
      ]
     },
     "metadata": {},
     "output_type": "display_data"
    },
    {
     "name": "stdout",
     "output_type": "stream",
     "text": [
      "                                                                                          \r"
     ]
    },
    {
     "data": {
      "text/html": [
       "\n",
       "Checking imbalance data ..."
      ],
      "text/plain": [
       "<IPython.core.display.HTML object>"
      ]
     },
     "metadata": {},
     "output_type": "display_data"
    },
    {
     "name": "stdout",
     "output_type": "stream",
     "text": [
      "                                                                                          \r"
     ]
    },
    {
     "data": {
      "text/html": [
       "Imbalance Not Found."
      ],
      "text/plain": [
       "<IPython.core.display.HTML object>"
      ]
     },
     "metadata": {},
     "output_type": "display_data"
    },
    {
     "name": "stdout",
     "output_type": "stream",
     "text": [
      "                                                                                          \r"
     ]
    },
    {
     "data": {
      "text/html": [
       "\n",
       "Feature selection using lasso ..."
      ],
      "text/plain": [
       "<IPython.core.display.HTML object>"
      ]
     },
     "metadata": {},
     "output_type": "display_data"
    },
    {
     "name": "stdout",
     "output_type": "stream",
     "text": [
      "                                                                                          \r"
     ]
    },
    {
     "data": {
      "text/html": [
       "feature selected by lasso:"
      ],
      "text/plain": [
       "<IPython.core.display.HTML object>"
      ]
     },
     "metadata": {},
     "output_type": "display_data"
    },
    {
     "name": "stdout",
     "output_type": "stream",
     "text": [
      "['sibsp', 'sex_1', 'family_count', 'age', 'pclass', 'sex_0', 'embarked', 'fare']\n",
      "                                                                                          \r"
     ]
    },
    {
     "data": {
      "text/html": [
       "Total time taken by feature selection: 4.60 sec  "
      ],
      "text/plain": [
       "<IPython.core.display.HTML object>"
      ]
     },
     "metadata": {},
     "output_type": "display_data"
    },
    {
     "name": "stdout",
     "output_type": "stream",
     "text": [
      "                                                                                          \r"
     ]
    },
    {
     "data": {
      "text/html": [
       "\n",
       "scaling Features of lasso data ..."
      ],
      "text/plain": [
       "<IPython.core.display.HTML object>"
      ]
     },
     "metadata": {},
     "output_type": "display_data"
    },
    {
     "name": "stdout",
     "output_type": "stream",
     "text": [
      "                                                                                          \r"
     ]
    },
    {
     "data": {
      "text/html": [
       "columns that will be scaled: "
      ],
      "text/plain": [
       "<IPython.core.display.HTML object>"
      ]
     },
     "metadata": {},
     "output_type": "display_data"
    },
    {
     "name": "stdout",
     "output_type": "stream",
     "text": [
      "['sibsp', 'family_count', 'age', 'pclass', 'embarked', 'fare']\n",
      "                                                                                          \r"
     ]
    },
    {
     "data": {
      "text/html": [
       "Dataset sample after scaling:"
      ],
      "text/plain": [
       "<IPython.core.display.HTML object>"
      ]
     },
     "metadata": {},
     "output_type": "display_data"
    },
    {
     "data": {
      "text/html": [
       "<style type=\"text/css\">\n",
       "\ttable {border:ridge 5px;}\n",
       "\ttable td {border:inset 1px;}\n",
       "\ttable tr#HeaderRow {background-color:grey; color:white;}</style>\n",
       "<html><table>\n",
       "\t<tr id=\"HeaderRow\">\n",
       "\t\t<th>survived</th>\n",
       "\t\t<th>sex_0</th>\n",
       "\t\t<th>sex_1</th>\n",
       "\t\t<th>id</th>\n",
       "\t\t<th>sibsp</th>\n",
       "\t\t<th>family_count</th>\n",
       "\t\t<th>age</th>\n",
       "\t\t<th>pclass</th>\n",
       "\t\t<th>embarked</th>\n",
       "\t\t<th>fare</th>\n",
       "\t</tr>\n",
       "\t<tr>\n",
       "\t\t<td>1</td>\n",
       "\t\t<td>1</td>\n",
       "\t\t<td>0</td>\n",
       "\t\t<td>10</td>\n",
       "\t\t<td>0.5</td>\n",
       "\t\t<td>0.5</td>\n",
       "\t\t<td>0.21568627450980393</td>\n",
       "\t\t<td>1.0</td>\n",
       "\t\t<td>0.0</td>\n",
       "\t\t<td>0.1831516213961733</td>\n",
       "\t</tr>\n",
       "\t<tr>\n",
       "\t\t<td>0</td>\n",
       "\t\t<td>0</td>\n",
       "\t\t<td>1</td>\n",
       "\t\t<td>12</td>\n",
       "\t\t<td>0.0</td>\n",
       "\t\t<td>0.0</td>\n",
       "\t\t<td>0.6470588235294118</td>\n",
       "\t\t<td>0.5</td>\n",
       "\t\t<td>0.0</td>\n",
       "\t\t<td>0.21179813356967833</td>\n",
       "\t</tr>\n",
       "\t<tr>\n",
       "\t\t<td>1</td>\n",
       "\t\t<td>1</td>\n",
       "\t\t<td>0</td>\n",
       "\t\t<td>13</td>\n",
       "\t\t<td>0.0</td>\n",
       "\t\t<td>0.0</td>\n",
       "\t\t<td>0.6470588235294118</td>\n",
       "\t\t<td>0.0</td>\n",
       "\t\t<td>0.0</td>\n",
       "\t\t<td>0.21179813356967833</td>\n",
       "\t</tr>\n",
       "\t<tr>\n",
       "\t\t<td>0</td>\n",
       "\t\t<td>0</td>\n",
       "\t\t<td>1</td>\n",
       "\t\t<td>14</td>\n",
       "\t\t<td>0.0</td>\n",
       "\t\t<td>0.0</td>\n",
       "\t\t<td>0.39215686274509803</td>\n",
       "\t\t<td>0.5</td>\n",
       "\t\t<td>0.0</td>\n",
       "\t\t<td>0.21179813356967833</td>\n",
       "\t</tr>\n",
       "\t<tr>\n",
       "\t\t<td>0</td>\n",
       "\t\t<td>0</td>\n",
       "\t\t<td>1</td>\n",
       "\t\t<td>17</td>\n",
       "\t\t<td>1.0</td>\n",
       "\t\t<td>0.0</td>\n",
       "\t\t<td>0.39215686274509803</td>\n",
       "\t\t<td>0.5</td>\n",
       "\t\t<td>0.0</td>\n",
       "\t\t<td>0.1873598873885616</td>\n",
       "\t</tr>\n",
       "\t<tr>\n",
       "\t\t<td>1</td>\n",
       "\t\t<td>1</td>\n",
       "\t\t<td>0</td>\n",
       "\t\t<td>20</td>\n",
       "\t\t<td>0.5</td>\n",
       "\t\t<td>0.5</td>\n",
       "\t\t<td>0.49019607843137253</td>\n",
       "\t\t<td>1.0</td>\n",
       "\t\t<td>1.0</td>\n",
       "\t\t<td>0.25252854387153956</td>\n",
       "\t</tr>\n",
       "\t<tr>\n",
       "\t\t<td>0</td>\n",
       "\t\t<td>0</td>\n",
       "\t\t<td>1</td>\n",
       "\t\t<td>15</td>\n",
       "\t\t<td>0.0</td>\n",
       "\t\t<td>0.0</td>\n",
       "\t\t<td>0.29411764705882354</td>\n",
       "\t\t<td>1.0</td>\n",
       "\t\t<td>0.0</td>\n",
       "\t\t<td>0.13522496220217925</td>\n",
       "\t</tr>\n",
       "\t<tr>\n",
       "\t\t<td>0</td>\n",
       "\t\t<td>0</td>\n",
       "\t\t<td>1</td>\n",
       "\t\t<td>11</td>\n",
       "\t\t<td>0.0</td>\n",
       "\t\t<td>0.0</td>\n",
       "\t\t<td>0.49019607843137253</td>\n",
       "\t\t<td>1.0</td>\n",
       "\t\t<td>0.0</td>\n",
       "\t\t<td>0.13115192117199315</td>\n",
       "\t</tr>\n",
       "\t<tr>\n",
       "\t\t<td>0</td>\n",
       "\t\t<td>1</td>\n",
       "\t\t<td>0</td>\n",
       "\t\t<td>9</td>\n",
       "\t\t<td>0.0</td>\n",
       "\t\t<td>0.0</td>\n",
       "\t\t<td>0.49019607843137253</td>\n",
       "\t\t<td>1.0</td>\n",
       "\t\t<td>1.0</td>\n",
       "\t\t<td>0.12626427193576978</td>\n",
       "\t</tr>\n",
       "\t<tr>\n",
       "\t\t<td>0</td>\n",
       "\t\t<td>0</td>\n",
       "\t\t<td>1</td>\n",
       "\t\t<td>8</td>\n",
       "\t\t<td>0.0</td>\n",
       "\t\t<td>0.0</td>\n",
       "\t\t<td>0.49019607843137253</td>\n",
       "\t\t<td>1.0</td>\n",
       "\t\t<td>1.0</td>\n",
       "\t\t<td>0.12585696783275116</td>\n",
       "\t</tr>\n",
       "</table></html>"
      ],
      "text/plain": [
       "   survived  sex_0  sex_1  id  sibsp  family_count       age  pclass  embarked      fare\n",
       "0         1      1      0  10    0.5           0.5  0.215686     1.0       0.0  0.183152\n",
       "1         0      0      1  12    0.0           0.0  0.647059     0.5       0.0  0.211798\n",
       "2         1      1      0  13    0.0           0.0  0.647059     0.0       0.0  0.211798\n",
       "3         0      0      1  14    0.0           0.0  0.392157     0.5       0.0  0.211798\n",
       "4         0      0      1  17    1.0           0.0  0.392157     0.5       0.0  0.187360\n",
       "5         1      1      0  20    0.5           0.5  0.490196     1.0       1.0  0.252529\n",
       "6         0      0      1  15    0.0           0.0  0.294118     1.0       0.0  0.135225\n",
       "7         0      0      1  11    0.0           0.0  0.490196     1.0       0.0  0.131152\n",
       "8         0      1      0   9    0.0           0.0  0.490196     1.0       1.0  0.126264\n",
       "9         0      0      1   8    0.0           0.0  0.490196     1.0       1.0  0.125857"
      ]
     },
     "metadata": {},
     "output_type": "display_data"
    },
    {
     "name": "stdout",
     "output_type": "stream",
     "text": [
      "                                                                                          \r"
     ]
    },
    {
     "data": {
      "text/html": [
       "627 rows X 10 columns"
      ],
      "text/plain": [
       "<IPython.core.display.HTML object>"
      ]
     },
     "metadata": {},
     "output_type": "display_data"
    },
    {
     "name": "stdout",
     "output_type": "stream",
     "text": [
      "                                                                                          \r"
     ]
    },
    {
     "data": {
      "text/html": [
       "Total time taken by feature scaling: 38.58 sec"
      ],
      "text/plain": [
       "<IPython.core.display.HTML object>"
      ]
     },
     "metadata": {},
     "output_type": "display_data"
    },
    {
     "name": "stdout",
     "output_type": "stream",
     "text": [
      "                                                                                          \r"
     ]
    },
    {
     "data": {
      "text/html": [
       "\n",
       "Feature selection using rfe ..."
      ],
      "text/plain": [
       "<IPython.core.display.HTML object>"
      ]
     },
     "metadata": {},
     "output_type": "display_data"
    },
    {
     "name": "stdout",
     "output_type": "stream",
     "text": [
      "                                                                                          \r"
     ]
    },
    {
     "data": {
      "text/html": [
       "feature selected by RFE:"
      ],
      "text/plain": [
       "<IPython.core.display.HTML object>"
      ]
     },
     "metadata": {},
     "output_type": "display_data"
    },
    {
     "name": "stdout",
     "output_type": "stream",
     "text": [
      "['sex_1', 'age', 'pclass', 'sex_0', 'embarked', 'sibsp', 'fare', 'family_count']\n",
      "                                                                                          \r"
     ]
    },
    {
     "data": {
      "text/html": [
       "Total time taken by feature selection: 17.63 sec  "
      ],
      "text/plain": [
       "<IPython.core.display.HTML object>"
      ]
     },
     "metadata": {},
     "output_type": "display_data"
    },
    {
     "name": "stdout",
     "output_type": "stream",
     "text": [
      "                                                                                          \r"
     ]
    },
    {
     "data": {
      "text/html": [
       "\n",
       "scaling Features of rfe data ..."
      ],
      "text/plain": [
       "<IPython.core.display.HTML object>"
      ]
     },
     "metadata": {},
     "output_type": "display_data"
    },
    {
     "name": "stdout",
     "output_type": "stream",
     "text": [
      "                                                                                          \r"
     ]
    },
    {
     "data": {
      "text/html": [
       "columns that will be scaled: "
      ],
      "text/plain": [
       "<IPython.core.display.HTML object>"
      ]
     },
     "metadata": {},
     "output_type": "display_data"
    },
    {
     "name": "stdout",
     "output_type": "stream",
     "text": [
      "['r_age', 'r_pclass', 'r_embarked', 'r_sibsp', 'r_fare', 'r_family_count']\n",
      "                                                                                          \r"
     ]
    },
    {
     "data": {
      "text/html": [
       "Dataset sample after scaling:"
      ],
      "text/plain": [
       "<IPython.core.display.HTML object>"
      ]
     },
     "metadata": {},
     "output_type": "display_data"
    },
    {
     "data": {
      "text/html": [
       "<style type=\"text/css\">\n",
       "\ttable {border:ridge 5px;}\n",
       "\ttable td {border:inset 1px;}\n",
       "\ttable tr#HeaderRow {background-color:grey; color:white;}</style>\n",
       "<html><table>\n",
       "\t<tr id=\"HeaderRow\">\n",
       "\t\t<th>survived</th>\n",
       "\t\t<th>r_sex_0</th>\n",
       "\t\t<th>r_sex_1</th>\n",
       "\t\t<th>id</th>\n",
       "\t\t<th>r_age</th>\n",
       "\t\t<th>r_pclass</th>\n",
       "\t\t<th>r_embarked</th>\n",
       "\t\t<th>r_sibsp</th>\n",
       "\t\t<th>r_fare</th>\n",
       "\t\t<th>r_family_count</th>\n",
       "\t</tr>\n",
       "\t<tr>\n",
       "\t\t<td>1</td>\n",
       "\t\t<td>1</td>\n",
       "\t\t<td>0</td>\n",
       "\t\t<td>10</td>\n",
       "\t\t<td>0.21568627450980393</td>\n",
       "\t\t<td>1.0</td>\n",
       "\t\t<td>0.0</td>\n",
       "\t\t<td>0.5</td>\n",
       "\t\t<td>0.1831516213961733</td>\n",
       "\t\t<td>0.5</td>\n",
       "\t</tr>\n",
       "\t<tr>\n",
       "\t\t<td>0</td>\n",
       "\t\t<td>0</td>\n",
       "\t\t<td>1</td>\n",
       "\t\t<td>12</td>\n",
       "\t\t<td>0.6470588235294118</td>\n",
       "\t\t<td>0.5</td>\n",
       "\t\t<td>0.0</td>\n",
       "\t\t<td>0.0</td>\n",
       "\t\t<td>0.21179813356967833</td>\n",
       "\t\t<td>0.0</td>\n",
       "\t</tr>\n",
       "\t<tr>\n",
       "\t\t<td>1</td>\n",
       "\t\t<td>1</td>\n",
       "\t\t<td>0</td>\n",
       "\t\t<td>13</td>\n",
       "\t\t<td>0.6470588235294118</td>\n",
       "\t\t<td>0.0</td>\n",
       "\t\t<td>0.0</td>\n",
       "\t\t<td>0.0</td>\n",
       "\t\t<td>0.21179813356967833</td>\n",
       "\t\t<td>0.0</td>\n",
       "\t</tr>\n",
       "\t<tr>\n",
       "\t\t<td>0</td>\n",
       "\t\t<td>0</td>\n",
       "\t\t<td>1</td>\n",
       "\t\t<td>14</td>\n",
       "\t\t<td>0.39215686274509803</td>\n",
       "\t\t<td>0.5</td>\n",
       "\t\t<td>0.0</td>\n",
       "\t\t<td>0.0</td>\n",
       "\t\t<td>0.21179813356967833</td>\n",
       "\t\t<td>0.0</td>\n",
       "\t</tr>\n",
       "\t<tr>\n",
       "\t\t<td>0</td>\n",
       "\t\t<td>0</td>\n",
       "\t\t<td>1</td>\n",
       "\t\t<td>17</td>\n",
       "\t\t<td>0.39215686274509803</td>\n",
       "\t\t<td>0.5</td>\n",
       "\t\t<td>0.0</td>\n",
       "\t\t<td>1.0</td>\n",
       "\t\t<td>0.1873598873885616</td>\n",
       "\t\t<td>0.0</td>\n",
       "\t</tr>\n",
       "\t<tr>\n",
       "\t\t<td>1</td>\n",
       "\t\t<td>1</td>\n",
       "\t\t<td>0</td>\n",
       "\t\t<td>20</td>\n",
       "\t\t<td>0.49019607843137253</td>\n",
       "\t\t<td>1.0</td>\n",
       "\t\t<td>1.0</td>\n",
       "\t\t<td>0.5</td>\n",
       "\t\t<td>0.25252854387153956</td>\n",
       "\t\t<td>0.5</td>\n",
       "\t</tr>\n",
       "\t<tr>\n",
       "\t\t<td>0</td>\n",
       "\t\t<td>0</td>\n",
       "\t\t<td>1</td>\n",
       "\t\t<td>15</td>\n",
       "\t\t<td>0.29411764705882354</td>\n",
       "\t\t<td>1.0</td>\n",
       "\t\t<td>0.0</td>\n",
       "\t\t<td>0.0</td>\n",
       "\t\t<td>0.13522496220217925</td>\n",
       "\t\t<td>0.0</td>\n",
       "\t</tr>\n",
       "\t<tr>\n",
       "\t\t<td>0</td>\n",
       "\t\t<td>0</td>\n",
       "\t\t<td>1</td>\n",
       "\t\t<td>11</td>\n",
       "\t\t<td>0.49019607843137253</td>\n",
       "\t\t<td>1.0</td>\n",
       "\t\t<td>0.0</td>\n",
       "\t\t<td>0.0</td>\n",
       "\t\t<td>0.13115192117199315</td>\n",
       "\t\t<td>0.0</td>\n",
       "\t</tr>\n",
       "\t<tr>\n",
       "\t\t<td>0</td>\n",
       "\t\t<td>1</td>\n",
       "\t\t<td>0</td>\n",
       "\t\t<td>9</td>\n",
       "\t\t<td>0.49019607843137253</td>\n",
       "\t\t<td>1.0</td>\n",
       "\t\t<td>1.0</td>\n",
       "\t\t<td>0.0</td>\n",
       "\t\t<td>0.12626427193576978</td>\n",
       "\t\t<td>0.0</td>\n",
       "\t</tr>\n",
       "\t<tr>\n",
       "\t\t<td>0</td>\n",
       "\t\t<td>0</td>\n",
       "\t\t<td>1</td>\n",
       "\t\t<td>8</td>\n",
       "\t\t<td>0.49019607843137253</td>\n",
       "\t\t<td>1.0</td>\n",
       "\t\t<td>1.0</td>\n",
       "\t\t<td>0.0</td>\n",
       "\t\t<td>0.12585696783275116</td>\n",
       "\t\t<td>0.0</td>\n",
       "\t</tr>\n",
       "</table></html>"
      ],
      "text/plain": [
       "   survived  r_sex_0  r_sex_1  id     r_age  r_pclass  r_embarked  r_sibsp    r_fare  r_family_count\n",
       "0         1        1        0  10  0.215686       1.0         0.0      0.5  0.183152             0.5\n",
       "1         0        0        1  12  0.647059       0.5         0.0      0.0  0.211798             0.0\n",
       "2         1        1        0  13  0.647059       0.0         0.0      0.0  0.211798             0.0\n",
       "3         0        0        1  14  0.392157       0.5         0.0      0.0  0.211798             0.0\n",
       "4         0        0        1  17  0.392157       0.5         0.0      1.0  0.187360             0.0\n",
       "5         1        1        0  20  0.490196       1.0         1.0      0.5  0.252529             0.5\n",
       "6         0        0        1  15  0.294118       1.0         0.0      0.0  0.135225             0.0\n",
       "7         0        0        1  11  0.490196       1.0         0.0      0.0  0.131152             0.0\n",
       "8         0        1        0   9  0.490196       1.0         1.0      0.0  0.126264             0.0\n",
       "9         0        0        1   8  0.490196       1.0         1.0      0.0  0.125857             0.0"
      ]
     },
     "metadata": {},
     "output_type": "display_data"
    },
    {
     "name": "stdout",
     "output_type": "stream",
     "text": [
      "                                                                                          \r"
     ]
    },
    {
     "data": {
      "text/html": [
       "627 rows X 10 columns"
      ],
      "text/plain": [
       "<IPython.core.display.HTML object>"
      ]
     },
     "metadata": {},
     "output_type": "display_data"
    },
    {
     "name": "stdout",
     "output_type": "stream",
     "text": [
      "                                                                                          \r"
     ]
    },
    {
     "data": {
      "text/html": [
       "Total time taken by feature scaling: 33.75 sec"
      ],
      "text/plain": [
       "<IPython.core.display.HTML object>"
      ]
     },
     "metadata": {},
     "output_type": "display_data"
    },
    {
     "name": "stdout",
     "output_type": "stream",
     "text": [
      "                                                                                          \r"
     ]
    },
    {
     "data": {
      "text/html": [
       "\n",
       "scaling Features of pca data ..."
      ],
      "text/plain": [
       "<IPython.core.display.HTML object>"
      ]
     },
     "metadata": {},
     "output_type": "display_data"
    },
    {
     "name": "stdout",
     "output_type": "stream",
     "text": [
      "                                                                                          \r"
     ]
    },
    {
     "data": {
      "text/html": [
       "columns that will be scaled: "
      ],
      "text/plain": [
       "<IPython.core.display.HTML object>"
      ]
     },
     "metadata": {},
     "output_type": "display_data"
    },
    {
     "name": "stdout",
     "output_type": "stream",
     "text": [
      "['embarked', 'age', 'pclass', 'sibsp', 'fare', 'family_count']\n",
      "                                                                                          \r"
     ]
    },
    {
     "data": {
      "text/html": [
       "Dataset sample after scaling:"
      ],
      "text/plain": [
       "<IPython.core.display.HTML object>"
      ]
     },
     "metadata": {},
     "output_type": "display_data"
    },
    {
     "data": {
      "text/html": [
       "<style type=\"text/css\">\n",
       "\ttable {border:ridge 5px;}\n",
       "\ttable td {border:inset 1px;}\n",
       "\ttable tr#HeaderRow {background-color:grey; color:white;}</style>\n",
       "<html><table>\n",
       "\t<tr id=\"HeaderRow\">\n",
       "\t\t<th>sex_1</th>\n",
       "\t\t<th>survived</th>\n",
       "\t\t<th>parch</th>\n",
       "\t\t<th>sex_0</th>\n",
       "\t\t<th>id</th>\n",
       "\t\t<th>embarked</th>\n",
       "\t\t<th>age</th>\n",
       "\t\t<th>pclass</th>\n",
       "\t\t<th>sibsp</th>\n",
       "\t\t<th>fare</th>\n",
       "\t\t<th>family_count</th>\n",
       "\t</tr>\n",
       "\t<tr>\n",
       "\t\t<td>1</td>\n",
       "\t\t<td>0</td>\n",
       "\t\t<td>0.0</td>\n",
       "\t\t<td>0</td>\n",
       "\t\t<td>378</td>\n",
       "\t\t<td>0.0</td>\n",
       "\t\t<td>0.49019607843137253</td>\n",
       "\t\t<td>0.5</td>\n",
       "\t\t<td>0.0</td>\n",
       "\t\t<td>0.24519707001720456</td>\n",
       "\t\t<td>0.0</td>\n",
       "\t</tr>\n",
       "\t<tr>\n",
       "\t\t<td>1</td>\n",
       "\t\t<td>0</td>\n",
       "\t\t<td>0.0</td>\n",
       "\t\t<td>0</td>\n",
       "\t\t<td>144</td>\n",
       "\t\t<td>0.0</td>\n",
       "\t\t<td>0.49019607843137253</td>\n",
       "\t\t<td>1.0</td>\n",
       "\t\t<td>0.0</td>\n",
       "\t\t<td>0.12863966946457434</td>\n",
       "\t\t<td>0.0</td>\n",
       "\t</tr>\n",
       "\t<tr>\n",
       "\t\t<td>1</td>\n",
       "\t\t<td>0</td>\n",
       "\t\t<td>0.0</td>\n",
       "\t\t<td>0</td>\n",
       "\t\t<td>192</td>\n",
       "\t\t<td>0.0</td>\n",
       "\t\t<td>0.6666666666666666</td>\n",
       "\t\t<td>0.0</td>\n",
       "\t\t<td>0.0</td>\n",
       "\t\t<td>0.4838772743861113</td>\n",
       "\t\t<td>0.5</td>\n",
       "\t</tr>\n",
       "\t<tr>\n",
       "\t\t<td>1</td>\n",
       "\t\t<td>0</td>\n",
       "\t\t<td>0.0</td>\n",
       "\t\t<td>0</td>\n",
       "\t\t<td>200</td>\n",
       "\t\t<td>0.0</td>\n",
       "\t\t<td>0.5882352941176471</td>\n",
       "\t\t<td>1.0</td>\n",
       "\t\t<td>0.0</td>\n",
       "\t\t<td>0.12863966946457434</td>\n",
       "\t\t<td>0.0</td>\n",
       "\t</tr>\n",
       "\t<tr>\n",
       "\t\t<td>0</td>\n",
       "\t\t<td>0</td>\n",
       "\t\t<td>0.0</td>\n",
       "\t\t<td>1</td>\n",
       "\t\t<td>432</td>\n",
       "\t\t<td>0.0</td>\n",
       "\t\t<td>0.8235294117647058</td>\n",
       "\t\t<td>1.0</td>\n",
       "\t\t<td>0.0</td>\n",
       "\t\t<td>0.23549019863406498</td>\n",
       "\t\t<td>0.5</td>\n",
       "\t</tr>\n",
       "\t<tr>\n",
       "\t\t<td>1</td>\n",
       "\t\t<td>0</td>\n",
       "\t\t<td>0.0</td>\n",
       "\t\t<td>0</td>\n",
       "\t\t<td>536</td>\n",
       "\t\t<td>0.0</td>\n",
       "\t\t<td>0.47058823529411764</td>\n",
       "\t\t<td>0.0</td>\n",
       "\t\t<td>0.0</td>\n",
       "\t\t<td>0.21179813356967833</td>\n",
       "\t\t<td>1.0</td>\n",
       "\t</tr>\n",
       "\t<tr>\n",
       "\t\t<td>0</td>\n",
       "\t\t<td>1</td>\n",
       "\t\t<td>0.0</td>\n",
       "\t\t<td>1</td>\n",
       "\t\t<td>654</td>\n",
       "\t\t<td>1.0</td>\n",
       "\t\t<td>0.49019607843137253</td>\n",
       "\t\t<td>1.0</td>\n",
       "\t\t<td>0.0</td>\n",
       "\t\t<td>0.12599219279495336</td>\n",
       "\t\t<td>0.0</td>\n",
       "\t</tr>\n",
       "\t<tr>\n",
       "\t\t<td>0</td>\n",
       "\t\t<td>1</td>\n",
       "\t\t<td>0.0</td>\n",
       "\t\t<td>1</td>\n",
       "\t\t<td>380</td>\n",
       "\t\t<td>1.0</td>\n",
       "\t\t<td>0.5294117647058824</td>\n",
       "\t\t<td>0.5</td>\n",
       "\t\t<td>0.0</td>\n",
       "\t\t<td>0.2012082268911944</td>\n",
       "\t\t<td>0.0</td>\n",
       "\t</tr>\n",
       "\t<tr>\n",
       "\t\t<td>0</td>\n",
       "\t\t<td>1</td>\n",
       "\t\t<td>0.0</td>\n",
       "\t\t<td>1</td>\n",
       "\t\t<td>548</td>\n",
       "\t\t<td>1.0</td>\n",
       "\t\t<td>0.49019607843137253</td>\n",
       "\t\t<td>1.0</td>\n",
       "\t\t<td>0.0</td>\n",
       "\t\t<td>0.12836921954016997</td>\n",
       "\t\t<td>0.0</td>\n",
       "\t</tr>\n",
       "\t<tr>\n",
       "\t\t<td>0</td>\n",
       "\t\t<td>1</td>\n",
       "\t\t<td>0.0</td>\n",
       "\t\t<td>1</td>\n",
       "\t\t<td>700</td>\n",
       "\t\t<td>1.0</td>\n",
       "\t\t<td>0.49019607843137253</td>\n",
       "\t\t<td>1.0</td>\n",
       "\t\t<td>0.0</td>\n",
       "\t\t<td>0.12755461133413273</td>\n",
       "\t\t<td>0.0</td>\n",
       "\t</tr>\n",
       "</table></html>"
      ],
      "text/plain": [
       "   sex_1  survived  parch  sex_0   id  embarked       age  pclass  sibsp      fare  family_count\n",
       "0      1         0    0.0      0  378       0.0  0.490196     0.5    0.0  0.245197           0.0\n",
       "1      1         0    0.0      0  144       0.0  0.490196     1.0    0.0  0.128640           0.0\n",
       "2      1         0    0.0      0  192       0.0  0.666667     0.0    0.0  0.483877           0.5\n",
       "3      1         0    0.0      0  200       0.0  0.588235     1.0    0.0  0.128640           0.0\n",
       "4      0         0    0.0      1  432       0.0  0.823529     1.0    0.0  0.235490           0.5\n",
       "5      1         0    0.0      0  536       0.0  0.470588     0.0    0.0  0.211798           1.0\n",
       "6      0         1    0.0      1  654       1.0  0.490196     1.0    0.0  0.125992           0.0\n",
       "7      0         1    0.0      1  380       1.0  0.529412     0.5    0.0  0.201208           0.0\n",
       "8      0         1    0.0      1  548       1.0  0.490196     1.0    0.0  0.128369           0.0\n",
       "9      0         1    0.0      1  700       1.0  0.490196     1.0    0.0  0.127555           0.0"
      ]
     },
     "metadata": {},
     "output_type": "display_data"
    },
    {
     "name": "stdout",
     "output_type": "stream",
     "text": [
      "                                                                                          \r"
     ]
    },
    {
     "data": {
      "text/html": [
       "627 rows X 11 columns"
      ],
      "text/plain": [
       "<IPython.core.display.HTML object>"
      ]
     },
     "metadata": {},
     "output_type": "display_data"
    },
    {
     "name": "stdout",
     "output_type": "stream",
     "text": [
      "                                                                                          \r"
     ]
    },
    {
     "data": {
      "text/html": [
       "Total time taken by feature scaling: 29.22 sec"
      ],
      "text/plain": [
       "<IPython.core.display.HTML object>"
      ]
     },
     "metadata": {},
     "output_type": "display_data"
    },
    {
     "name": "stdout",
     "output_type": "stream",
     "text": [
      "                                                                                          \r"
     ]
    },
    {
     "data": {
      "text/html": [
       "\n",
       "Dimension Reduction using pca ..."
      ],
      "text/plain": [
       "<IPython.core.display.HTML object>"
      ]
     },
     "metadata": {},
     "output_type": "display_data"
    },
    {
     "name": "stdout",
     "output_type": "stream",
     "text": [
      "                                                                                          \r"
     ]
    },
    {
     "data": {
      "text/html": [
       "PCA columns:"
      ],
      "text/plain": [
       "<IPython.core.display.HTML object>"
      ]
     },
     "metadata": {},
     "output_type": "display_data"
    },
    {
     "name": "stdout",
     "output_type": "stream",
     "text": [
      "['col_0', 'col_1', 'col_2', 'col_3', 'col_4', 'col_5']\n",
      "                                                                                          \r"
     ]
    },
    {
     "data": {
      "text/html": [
       "Total time taken by PCA: 6.39 sec  "
      ],
      "text/plain": [
       "<IPython.core.display.HTML object>"
      ]
     },
     "metadata": {},
     "output_type": "display_data"
    },
    {
     "name": "stdout",
     "output_type": "stream",
     "text": [
      "                                                                                          \r"
     ]
    },
    {
     "data": {
      "text/html": [
       "\n",
       "            <style>\n",
       "                .custom-div {\n",
       "                    background-color: lightgray;\n",
       "                    color: #000000;\n",
       "                    padding: 10px;\n",
       "                    border-radius: 8px;\n",
       "                    box-shadow: 0 3px 4px rgba(0 -  0 -  0 -  0.2);\n",
       "                    margin-bottom: 10px;\n",
       "                    text-align: center;\n",
       "                }\n",
       "            </style>\n",
       "        <br><div class=\"custom-div\"><h3><span style=\"color: green;\">1. Feature Exploration -> 2. Feature Engineering -> 3. Data Preparation -></span> 4. Model Training & Evaluation<center></h3></center></div>"
      ],
      "text/plain": [
       "<IPython.core.display.HTML object>"
      ]
     },
     "metadata": {},
     "output_type": "display_data"
    },
    {
     "name": "stdout",
     "output_type": "stream",
     "text": [
      "                                                                                          \r"
     ]
    },
    {
     "data": {
      "text/html": [
       "Model Training started ..."
      ],
      "text/plain": [
       "<IPython.core.display.HTML object>"
      ]
     },
     "metadata": {},
     "output_type": "display_data"
    },
    {
     "name": "stdout",
     "output_type": "stream",
     "text": [
      "                                                                                          \r"
     ]
    },
    {
     "data": {
      "text/html": [
       "\n",
       "Starting customized hyperparameter update ..."
      ],
      "text/plain": [
       "<IPython.core.display.HTML object>"
      ]
     },
     "metadata": {},
     "output_type": "display_data"
    },
    {
     "name": "stdout",
     "output_type": "stream",
     "text": [
      "                                                                                          \n",
      "Skipping customized hyperparameter tuning\n",
      "                                                                                          \r"
     ]
    },
    {
     "data": {
      "text/html": [
       "\n",
       "Hyperparameters used for model training: "
      ],
      "text/plain": [
       "<IPython.core.display.HTML object>"
      ]
     },
     "metadata": {},
     "output_type": "display_data"
    },
    {
     "name": "stdout",
     "output_type": "stream",
     "text": [
      "response_column : survived                                                                                                                            \n",
      "name : xgboost\n",
      "model_type : Classification\n",
      "column_sampling : (1, 0.6)\n",
      "min_impurity : (0.0, 0.1, 0.2)\n",
      "lambda1 : (0.01, 0.1, 1, 10)\n",
      "shrinkage_factor : (0.5, 0.1, 0.3)\n",
      "max_depth : (5, 6, 8, 10)\n",
      "min_node_size : (1, 2, 3)\n",
      "iter_num : (10, 20, 30)\n",
      "seed : 42\n",
      "Total number of models for xgboost : 2592\n",
      "--------------------------------------------------------------------------------------------------------------------------------------------------------------------------------------------------------\n",
      "\n",
      "response_column : survived\n",
      "name : decision_forest\n",
      "tree_type : Classification\n",
      "min_impurity : (0.0, 0.1, 0.2)\n",
      "max_depth : (5, 6, 8, 10)\n",
      "min_node_size : (1, 2, 3)\n",
      "num_trees : (-1, 20, 30)\n",
      "seed : 42\n",
      "Total number of models for decision_forest : 108\n",
      "--------------------------------------------------------------------------------------------------------------------------------------------------------------------------------------------------------\n",
      "\n",
      "                                                                                          \r"
     ]
    },
    {
     "data": {
      "text/html": [
       "\n",
       "Performing hyperparameter tuning ..."
      ],
      "text/plain": [
       "<IPython.core.display.HTML object>"
      ]
     },
     "metadata": {},
     "output_type": "display_data"
    },
    {
     "name": "stdout",
     "output_type": "stream",
     "text": [
      "                                                                                          \r"
     ]
    },
    {
     "data": {
      "text/html": [
       "xgboost"
      ],
      "text/plain": [
       "<IPython.core.display.HTML object>"
      ]
     },
     "metadata": {},
     "output_type": "display_data"
    },
    {
     "name": "stdout",
     "output_type": "stream",
     "text": [
      "                                                                                                                                                                                                        \r"
     ]
    },
    {
     "data": {
      "text/html": [
       "----------------------------------------------------------------------------------------------------"
      ],
      "text/plain": [
       "<IPython.core.display.HTML object>"
      ]
     },
     "metadata": {},
     "output_type": "display_data"
    },
    {
     "name": "stdout",
     "output_type": "stream",
     "text": [
      "                                                                                          \r"
     ]
    },
    {
     "data": {
      "text/html": [
       "decision_forest"
      ],
      "text/plain": [
       "<IPython.core.display.HTML object>"
      ]
     },
     "metadata": {},
     "output_type": "display_data"
    },
    {
     "name": "stdout",
     "output_type": "stream",
     "text": [
      "                                                                                                                                                                                                        \r"
     ]
    },
    {
     "data": {
      "text/html": [
       "----------------------------------------------------------------------------------------------------"
      ],
      "text/plain": [
       "<IPython.core.display.HTML object>"
      ]
     },
     "metadata": {},
     "output_type": "display_data"
    },
    {
     "name": "stdout",
     "output_type": "stream",
     "text": [
      "                                                                                          \r"
     ]
    },
    {
     "data": {
      "text/html": [
       "Leaderboard"
      ],
      "text/plain": [
       "<IPython.core.display.HTML object>"
      ]
     },
     "metadata": {},
     "output_type": "display_data"
    },
    {
     "data": {
      "text/html": [
       "<div>\n",
       "<style scoped>\n",
       "    .dataframe tbody tr th:only-of-type {\n",
       "        vertical-align: middle;\n",
       "    }\n",
       "\n",
       "    .dataframe tbody tr th {\n",
       "        vertical-align: top;\n",
       "    }\n",
       "\n",
       "    .dataframe thead th {\n",
       "        text-align: right;\n",
       "    }\n",
       "</style>\n",
       "<table border=\"1\" class=\"dataframe\">\n",
       "  <thead>\n",
       "    <tr style=\"text-align: right;\">\n",
       "      <th></th>\n",
       "      <th>RANK</th>\n",
       "      <th>MODEL_ID</th>\n",
       "      <th>FEATURE_SELECTION</th>\n",
       "      <th>ACCURACY</th>\n",
       "      <th>MICRO-PRECISION</th>\n",
       "      <th>MICRO-RECALL</th>\n",
       "      <th>MICRO-F1</th>\n",
       "      <th>MACRO-PRECISION</th>\n",
       "      <th>MACRO-RECALL</th>\n",
       "      <th>MACRO-F1</th>\n",
       "      <th>WEIGHTED-PRECISION</th>\n",
       "      <th>WEIGHTED-RECALL</th>\n",
       "      <th>WEIGHTED-F1</th>\n",
       "    </tr>\n",
       "  </thead>\n",
       "  <tbody>\n",
       "    <tr>\n",
       "      <th>0</th>\n",
       "      <td>1</td>\n",
       "      <td>XGBOOST_0</td>\n",
       "      <td>lasso</td>\n",
       "      <td>0.769841</td>\n",
       "      <td>0.769841</td>\n",
       "      <td>0.769841</td>\n",
       "      <td>0.769841</td>\n",
       "      <td>0.760714</td>\n",
       "      <td>0.770872</td>\n",
       "      <td>0.763265</td>\n",
       "      <td>0.778968</td>\n",
       "      <td>0.769841</td>\n",
       "      <td>0.772033</td>\n",
       "    </tr>\n",
       "    <tr>\n",
       "      <th>1</th>\n",
       "      <td>2</td>\n",
       "      <td>XGBOOST_1</td>\n",
       "      <td>rfe</td>\n",
       "      <td>0.769841</td>\n",
       "      <td>0.769841</td>\n",
       "      <td>0.769841</td>\n",
       "      <td>0.769841</td>\n",
       "      <td>0.759259</td>\n",
       "      <td>0.767161</td>\n",
       "      <td>0.761908</td>\n",
       "      <td>0.775720</td>\n",
       "      <td>0.769841</td>\n",
       "      <td>0.771566</td>\n",
       "    </tr>\n",
       "    <tr>\n",
       "      <th>2</th>\n",
       "      <td>3</td>\n",
       "      <td>DECISIONFOREST_2</td>\n",
       "      <td>pca</td>\n",
       "      <td>0.753968</td>\n",
       "      <td>0.753968</td>\n",
       "      <td>0.753968</td>\n",
       "      <td>0.753968</td>\n",
       "      <td>0.746221</td>\n",
       "      <td>0.724490</td>\n",
       "      <td>0.730751</td>\n",
       "      <td>0.750937</td>\n",
       "      <td>0.753968</td>\n",
       "      <td>0.748321</td>\n",
       "    </tr>\n",
       "    <tr>\n",
       "      <th>3</th>\n",
       "      <td>4</td>\n",
       "      <td>DECISIONFOREST_0</td>\n",
       "      <td>lasso</td>\n",
       "      <td>0.746032</td>\n",
       "      <td>0.746032</td>\n",
       "      <td>0.746032</td>\n",
       "      <td>0.746032</td>\n",
       "      <td>0.733333</td>\n",
       "      <td>0.725417</td>\n",
       "      <td>0.728521</td>\n",
       "      <td>0.743210</td>\n",
       "      <td>0.746032</td>\n",
       "      <td>0.743843</td>\n",
       "    </tr>\n",
       "    <tr>\n",
       "      <th>4</th>\n",
       "      <td>5</td>\n",
       "      <td>DECISIONFOREST_1</td>\n",
       "      <td>rfe</td>\n",
       "      <td>0.746032</td>\n",
       "      <td>0.746032</td>\n",
       "      <td>0.746032</td>\n",
       "      <td>0.746032</td>\n",
       "      <td>0.733333</td>\n",
       "      <td>0.725417</td>\n",
       "      <td>0.728521</td>\n",
       "      <td>0.743210</td>\n",
       "      <td>0.746032</td>\n",
       "      <td>0.743843</td>\n",
       "    </tr>\n",
       "  </tbody>\n",
       "</table>\n",
       "</div>"
      ],
      "text/plain": [
       "   RANK          MODEL_ID FEATURE_SELECTION  ACCURACY  MICRO-PRECISION  \\\n",
       "0     1         XGBOOST_0             lasso  0.769841         0.769841   \n",
       "1     2         XGBOOST_1               rfe  0.769841         0.769841   \n",
       "2     3  DECISIONFOREST_2               pca  0.753968         0.753968   \n",
       "3     4  DECISIONFOREST_0             lasso  0.746032         0.746032   \n",
       "4     5  DECISIONFOREST_1               rfe  0.746032         0.746032   \n",
       "\n",
       "   MICRO-RECALL  MICRO-F1  MACRO-PRECISION  MACRO-RECALL  MACRO-F1  \\\n",
       "0      0.769841  0.769841         0.760714      0.770872  0.763265   \n",
       "1      0.769841  0.769841         0.759259      0.767161  0.761908   \n",
       "2      0.753968  0.753968         0.746221      0.724490  0.730751   \n",
       "3      0.746032  0.746032         0.733333      0.725417  0.728521   \n",
       "4      0.746032  0.746032         0.733333      0.725417  0.728521   \n",
       "\n",
       "   WEIGHTED-PRECISION  WEIGHTED-RECALL  WEIGHTED-F1  \n",
       "0            0.778968         0.769841     0.772033  \n",
       "1            0.775720         0.769841     0.771566  \n",
       "2            0.750937         0.753968     0.748321  \n",
       "3            0.743210         0.746032     0.743843  \n",
       "4            0.743210         0.746032     0.743843  "
      ]
     },
     "metadata": {},
     "output_type": "display_data"
    },
    {
     "name": "stdout",
     "output_type": "stream",
     "text": [
      "                                                                                          \r"
     ]
    },
    {
     "data": {
      "text/html": [
       "5 rows X 13 columns"
      ],
      "text/plain": [
       "<IPython.core.display.HTML object>"
      ]
     },
     "metadata": {},
     "output_type": "display_data"
    },
    {
     "name": "stdout",
     "output_type": "stream",
     "text": [
      "                                                                                          \r"
     ]
    },
    {
     "data": {
      "text/html": [
       "\n",
       "            <style>\n",
       "                .custom-div {\n",
       "                    background-color: lightgray;\n",
       "                    color: #000000;\n",
       "                    padding: 10px;\n",
       "                    border-radius: 8px;\n",
       "                    box-shadow: 0 3px 4px rgba(0 -  0 -  0 -  0.2);\n",
       "                    margin-bottom: 10px;\n",
       "                    text-align: center;\n",
       "                }\n",
       "            </style>\n",
       "        <br><div class=\"custom-div\"><h3><span style=\"color: green;\">1. Feature Exploration -> 2. Feature Engineering -> 3. Data Preparation -> 4. Model Training & Evaluation</span><center></h3></center></div>"
      ],
      "text/plain": [
       "<IPython.core.display.HTML object>"
      ]
     },
     "metadata": {},
     "output_type": "display_data"
    },
    {
     "name": "stdout",
     "output_type": "stream",
     "text": [
      "Completed: ｜⫿⫿⫿⫿⫿⫿⫿⫿⫿⫿⫿⫿⫿⫿⫿⫿⫿⫿⫿⫿⫿⫿⫿⫿⫿⫿⫿⫿⫿⫿⫿⫿⫿⫿⫿⫿⫿⫿⫿⫿⫿⫿⫿⫿⫿⫿⫿⫿⫿⫿⫿⫿⫿⫿⫿⫿⫿⫿⫿⫿｜ 100% - 19/19    \r"
     ]
    }
   ],
   "source": [
    "# Fitting train data\n",
    "aml.fit(titanic_train, titanic_train.survived)"
   ]
  },
  {
   "cell_type": "markdown",
   "id": "23a04eb1-68e6-48b7-95aa-442f434809da",
   "metadata": {},
   "source": [
    "## <b><span style='color:#F1A424'>| 3.</span> Leaderboard : </b>"
   ]
  },
  {
   "cell_type": "code",
   "execution_count": 19,
   "id": "77de1099-6122-4f8a-8e7f-dd67e5b4ced4",
   "metadata": {},
   "outputs": [
    {
     "data": {
      "text/html": [
       "<div>\n",
       "<style scoped>\n",
       "    .dataframe tbody tr th:only-of-type {\n",
       "        vertical-align: middle;\n",
       "    }\n",
       "\n",
       "    .dataframe tbody tr th {\n",
       "        vertical-align: top;\n",
       "    }\n",
       "\n",
       "    .dataframe thead th {\n",
       "        text-align: right;\n",
       "    }\n",
       "</style>\n",
       "<table border=\"1\" class=\"dataframe\">\n",
       "  <thead>\n",
       "    <tr style=\"text-align: right;\">\n",
       "      <th></th>\n",
       "      <th>RANK</th>\n",
       "      <th>MODEL_ID</th>\n",
       "      <th>FEATURE_SELECTION</th>\n",
       "      <th>ACCURACY</th>\n",
       "      <th>MICRO-PRECISION</th>\n",
       "      <th>MICRO-RECALL</th>\n",
       "      <th>MICRO-F1</th>\n",
       "      <th>MACRO-PRECISION</th>\n",
       "      <th>MACRO-RECALL</th>\n",
       "      <th>MACRO-F1</th>\n",
       "      <th>WEIGHTED-PRECISION</th>\n",
       "      <th>WEIGHTED-RECALL</th>\n",
       "      <th>WEIGHTED-F1</th>\n",
       "    </tr>\n",
       "  </thead>\n",
       "  <tbody>\n",
       "    <tr>\n",
       "      <th>0</th>\n",
       "      <td>1</td>\n",
       "      <td>XGBOOST_0</td>\n",
       "      <td>lasso</td>\n",
       "      <td>0.769841</td>\n",
       "      <td>0.769841</td>\n",
       "      <td>0.769841</td>\n",
       "      <td>0.769841</td>\n",
       "      <td>0.760714</td>\n",
       "      <td>0.770872</td>\n",
       "      <td>0.763265</td>\n",
       "      <td>0.778968</td>\n",
       "      <td>0.769841</td>\n",
       "      <td>0.772033</td>\n",
       "    </tr>\n",
       "    <tr>\n",
       "      <th>1</th>\n",
       "      <td>2</td>\n",
       "      <td>XGBOOST_1</td>\n",
       "      <td>rfe</td>\n",
       "      <td>0.769841</td>\n",
       "      <td>0.769841</td>\n",
       "      <td>0.769841</td>\n",
       "      <td>0.769841</td>\n",
       "      <td>0.759259</td>\n",
       "      <td>0.767161</td>\n",
       "      <td>0.761908</td>\n",
       "      <td>0.775720</td>\n",
       "      <td>0.769841</td>\n",
       "      <td>0.771566</td>\n",
       "    </tr>\n",
       "    <tr>\n",
       "      <th>2</th>\n",
       "      <td>3</td>\n",
       "      <td>DECISIONFOREST_2</td>\n",
       "      <td>pca</td>\n",
       "      <td>0.753968</td>\n",
       "      <td>0.753968</td>\n",
       "      <td>0.753968</td>\n",
       "      <td>0.753968</td>\n",
       "      <td>0.746221</td>\n",
       "      <td>0.724490</td>\n",
       "      <td>0.730751</td>\n",
       "      <td>0.750937</td>\n",
       "      <td>0.753968</td>\n",
       "      <td>0.748321</td>\n",
       "    </tr>\n",
       "    <tr>\n",
       "      <th>3</th>\n",
       "      <td>4</td>\n",
       "      <td>DECISIONFOREST_0</td>\n",
       "      <td>lasso</td>\n",
       "      <td>0.746032</td>\n",
       "      <td>0.746032</td>\n",
       "      <td>0.746032</td>\n",
       "      <td>0.746032</td>\n",
       "      <td>0.733333</td>\n",
       "      <td>0.725417</td>\n",
       "      <td>0.728521</td>\n",
       "      <td>0.743210</td>\n",
       "      <td>0.746032</td>\n",
       "      <td>0.743843</td>\n",
       "    </tr>\n",
       "    <tr>\n",
       "      <th>4</th>\n",
       "      <td>5</td>\n",
       "      <td>DECISIONFOREST_1</td>\n",
       "      <td>rfe</td>\n",
       "      <td>0.746032</td>\n",
       "      <td>0.746032</td>\n",
       "      <td>0.746032</td>\n",
       "      <td>0.746032</td>\n",
       "      <td>0.733333</td>\n",
       "      <td>0.725417</td>\n",
       "      <td>0.728521</td>\n",
       "      <td>0.743210</td>\n",
       "      <td>0.746032</td>\n",
       "      <td>0.743843</td>\n",
       "    </tr>\n",
       "  </tbody>\n",
       "</table>\n",
       "</div>"
      ],
      "text/plain": [
       "   RANK          MODEL_ID FEATURE_SELECTION  ACCURACY  MICRO-PRECISION  \\\n",
       "0     1         XGBOOST_0             lasso  0.769841         0.769841   \n",
       "1     2         XGBOOST_1               rfe  0.769841         0.769841   \n",
       "2     3  DECISIONFOREST_2               pca  0.753968         0.753968   \n",
       "3     4  DECISIONFOREST_0             lasso  0.746032         0.746032   \n",
       "4     5  DECISIONFOREST_1               rfe  0.746032         0.746032   \n",
       "\n",
       "   MICRO-RECALL  MICRO-F1  MACRO-PRECISION  MACRO-RECALL  MACRO-F1  \\\n",
       "0      0.769841  0.769841         0.760714      0.770872  0.763265   \n",
       "1      0.769841  0.769841         0.759259      0.767161  0.761908   \n",
       "2      0.753968  0.753968         0.746221      0.724490  0.730751   \n",
       "3      0.746032  0.746032         0.733333      0.725417  0.728521   \n",
       "4      0.746032  0.746032         0.733333      0.725417  0.728521   \n",
       "\n",
       "   WEIGHTED-PRECISION  WEIGHTED-RECALL  WEIGHTED-F1  \n",
       "0            0.778968         0.769841     0.772033  \n",
       "1            0.775720         0.769841     0.771566  \n",
       "2            0.750937         0.753968     0.748321  \n",
       "3            0.743210         0.746032     0.743843  \n",
       "4            0.743210         0.746032     0.743843  "
      ]
     },
     "execution_count": 19,
     "metadata": {},
     "output_type": "execute_result"
    }
   ],
   "source": [
    "# Fetching Leaderboard\n",
    "aml.leaderboard()"
   ]
  },
  {
   "cell_type": "markdown",
   "id": "a7a3aa08-e349-4a61-9217-2c17d50411d8",
   "metadata": {},
   "source": [
    "## <b><span style='color:#F1A424'>| 4.</span> Best Performing Model : </b>"
   ]
  },
  {
   "cell_type": "code",
   "execution_count": 20,
   "id": "c4c32832-a76b-4f42-826a-cefc38a6301b",
   "metadata": {},
   "outputs": [
    {
     "data": {
      "text/html": [
       "<div>\n",
       "<style scoped>\n",
       "    .dataframe tbody tr th:only-of-type {\n",
       "        vertical-align: middle;\n",
       "    }\n",
       "\n",
       "    .dataframe tbody tr th {\n",
       "        vertical-align: top;\n",
       "    }\n",
       "\n",
       "    .dataframe thead th {\n",
       "        text-align: right;\n",
       "    }\n",
       "</style>\n",
       "<table border=\"1\" class=\"dataframe\">\n",
       "  <thead>\n",
       "    <tr style=\"text-align: right;\">\n",
       "      <th></th>\n",
       "      <th>RANK</th>\n",
       "      <th>MODEL_ID</th>\n",
       "      <th>FEATURE_SELECTION</th>\n",
       "      <th>ACCURACY</th>\n",
       "      <th>MICRO-PRECISION</th>\n",
       "      <th>MICRO-RECALL</th>\n",
       "      <th>MICRO-F1</th>\n",
       "      <th>MACRO-PRECISION</th>\n",
       "      <th>MACRO-RECALL</th>\n",
       "      <th>MACRO-F1</th>\n",
       "      <th>WEIGHTED-PRECISION</th>\n",
       "      <th>WEIGHTED-RECALL</th>\n",
       "      <th>WEIGHTED-F1</th>\n",
       "    </tr>\n",
       "  </thead>\n",
       "  <tbody>\n",
       "    <tr>\n",
       "      <th>0</th>\n",
       "      <td>1</td>\n",
       "      <td>XGBOOST_0</td>\n",
       "      <td>lasso</td>\n",
       "      <td>0.769841</td>\n",
       "      <td>0.769841</td>\n",
       "      <td>0.769841</td>\n",
       "      <td>0.769841</td>\n",
       "      <td>0.760714</td>\n",
       "      <td>0.770872</td>\n",
       "      <td>0.763265</td>\n",
       "      <td>0.778968</td>\n",
       "      <td>0.769841</td>\n",
       "      <td>0.772033</td>\n",
       "    </tr>\n",
       "  </tbody>\n",
       "</table>\n",
       "</div>"
      ],
      "text/plain": [
       "   RANK   MODEL_ID FEATURE_SELECTION  ACCURACY  MICRO-PRECISION  MICRO-RECALL  \\\n",
       "0     1  XGBOOST_0             lasso  0.769841         0.769841      0.769841   \n",
       "\n",
       "   MICRO-F1  MACRO-PRECISION  MACRO-RECALL  MACRO-F1  WEIGHTED-PRECISION  \\\n",
       "0  0.769841         0.760714      0.770872  0.763265            0.778968   \n",
       "\n",
       "   WEIGHTED-RECALL  WEIGHTED-F1  \n",
       "0         0.769841     0.772033  "
      ]
     },
     "metadata": {},
     "output_type": "display_data"
    }
   ],
   "source": [
    "# Fetching best performing model for dataset\n",
    "aml.leader()"
   ]
  },
  {
   "cell_type": "markdown",
   "id": "ca0f2123-17b3-4010-9f53-00780382299e",
   "metadata": {},
   "source": [
    "## <b><span style='color:#F1A424'>| 5.</span> Get Hyperparameter for Trained Model : </b>"
   ]
  },
  {
   "cell_type": "code",
   "execution_count": 21,
   "id": "a5348edb-698b-4c98-8c5a-f745b20d2ea2",
   "metadata": {},
   "outputs": [
    {
     "data": {
      "text/plain": [
       "{'response_column': 'survived',\n",
       " 'name': 'xgboost',\n",
       " 'model_type': 'Classification',\n",
       " 'column_sampling': 1,\n",
       " 'min_impurity': 0.1,\n",
       " 'lambda1': 0.01,\n",
       " 'shrinkage_factor': 0.5,\n",
       " 'max_depth': 8,\n",
       " 'min_node_size': 3,\n",
       " 'iter_num': 10,\n",
       " 'seed': 42,\n",
       " 'persist': False,\n",
       " 'output_prob': True,\n",
       " 'output_responses': ['1', '0'],\n",
       " 'max_models': 1}"
      ]
     },
     "execution_count": 21,
     "metadata": {},
     "output_type": "execute_result"
    }
   ],
   "source": [
    "aml.model_hyperparameters(rank=1)"
   ]
  },
  {
   "cell_type": "code",
   "execution_count": 22,
   "id": "e7c1e2a5-9d16-4e00-9aa0-9f4bd717699d",
   "metadata": {
    "tags": []
   },
   "outputs": [
    {
     "data": {
      "text/plain": [
       "{'response_column': 'survived',\n",
       " 'name': 'decision_forest',\n",
       " 'tree_type': 'Classification',\n",
       " 'min_impurity': 0.0,\n",
       " 'max_depth': 10,\n",
       " 'min_node_size': 2,\n",
       " 'num_trees': 20,\n",
       " 'seed': 42,\n",
       " 'persist': False,\n",
       " 'output_prob': True,\n",
       " 'output_responses': ['1', '0'],\n",
       " 'max_models': 1}"
      ]
     },
     "execution_count": 22,
     "metadata": {},
     "output_type": "execute_result"
    }
   ],
   "source": [
    "aml.model_hyperparameters(rank=4)"
   ]
  },
  {
   "cell_type": "markdown",
   "id": "ffd009b5-43a1-4eff-a266-b5485967ec5d",
   "metadata": {},
   "source": [
    "## <b><span style='color:#F1A424'>| 6.</span> Generate Prediction and Performance Metrics : </b>"
   ]
  },
  {
   "cell_type": "code",
   "execution_count": 23,
   "id": "9b020546-8ecf-4539-b8fa-e61d9697c62a",
   "metadata": {},
   "outputs": [
    {
     "name": "stdout",
     "output_type": "stream",
     "text": [
      "Data Transformation started ...\n",
      "                                                                                                \r"
     ]
    },
    {
     "data": {
      "text/html": [
       "Performing transformation carried out in feature engineering phase ..."
      ],
      "text/plain": [
       "<IPython.core.display.HTML object>"
      ]
     },
     "metadata": {},
     "output_type": "display_data"
    },
    {
     "name": "stdout",
     "output_type": "stream",
     "text": [
      "                                                                                                \r"
     ]
    },
    {
     "data": {
      "text/html": [
       "\n",
       "Updated dataset after dropping futile columns :"
      ],
      "text/plain": [
       "<IPython.core.display.HTML object>"
      ]
     },
     "metadata": {},
     "output_type": "display_data"
    },
    {
     "data": {
      "text/html": [
       "<style type=\"text/css\">\n",
       "\ttable {border:ridge 5px;}\n",
       "\ttable td {border:inset 1px;}\n",
       "\ttable tr#HeaderRow {background-color:grey; color:white;}</style>\n",
       "<html><table>\n",
       "\t<tr id=\"HeaderRow\">\n",
       "\t\t<th>passenger</th>\n",
       "\t\t<th>survived</th>\n",
       "\t\t<th>pclass</th>\n",
       "\t\t<th>sex</th>\n",
       "\t\t<th>age</th>\n",
       "\t\t<th>sibsp</th>\n",
       "\t\t<th>parch</th>\n",
       "\t\t<th>fare</th>\n",
       "\t\t<th>cabin</th>\n",
       "\t\t<th>embarked</th>\n",
       "\t\t<th>id</th>\n",
       "\t</tr>\n",
       "\t<tr>\n",
       "\t\t<td>591</td>\n",
       "\t\t<td>0</td>\n",
       "\t\t<td>3</td>\n",
       "\t\t<td>male</td>\n",
       "\t\t<td>35</td>\n",
       "\t\t<td>0</td>\n",
       "\t\t<td>0</td>\n",
       "\t\t<td>7.125</td>\n",
       "\t\t<td>None</td>\n",
       "\t\t<td>S</td>\n",
       "\t\t<td>11</td>\n",
       "\t</tr>\n",
       "\t<tr>\n",
       "\t\t<td>486</td>\n",
       "\t\t<td>0</td>\n",
       "\t\t<td>3</td>\n",
       "\t\t<td>female</td>\n",
       "\t\t<td>None</td>\n",
       "\t\t<td>3</td>\n",
       "\t\t<td>1</td>\n",
       "\t\t<td>25.4667</td>\n",
       "\t\t<td>None</td>\n",
       "\t\t<td>S</td>\n",
       "\t\t<td>8</td>\n",
       "\t</tr>\n",
       "\t<tr>\n",
       "\t\t<td>381</td>\n",
       "\t\t<td>1</td>\n",
       "\t\t<td>1</td>\n",
       "\t\t<td>female</td>\n",
       "\t\t<td>42</td>\n",
       "\t\t<td>0</td>\n",
       "\t\t<td>0</td>\n",
       "\t\t<td>227.525</td>\n",
       "\t\t<td>None</td>\n",
       "\t\t<td>C</td>\n",
       "\t\t<td>16</td>\n",
       "\t</tr>\n",
       "\t<tr>\n",
       "\t\t<td>80</td>\n",
       "\t\t<td>1</td>\n",
       "\t\t<td>3</td>\n",
       "\t\t<td>female</td>\n",
       "\t\t<td>30</td>\n",
       "\t\t<td>0</td>\n",
       "\t\t<td>0</td>\n",
       "\t\t<td>12.475</td>\n",
       "\t\t<td>None</td>\n",
       "\t\t<td>S</td>\n",
       "\t\t<td>12</td>\n",
       "\t</tr>\n",
       "\t<tr>\n",
       "\t\t<td>570</td>\n",
       "\t\t<td>1</td>\n",
       "\t\t<td>3</td>\n",
       "\t\t<td>male</td>\n",
       "\t\t<td>32</td>\n",
       "\t\t<td>0</td>\n",
       "\t\t<td>0</td>\n",
       "\t\t<td>7.8542</td>\n",
       "\t\t<td>None</td>\n",
       "\t\t<td>S</td>\n",
       "\t\t<td>15</td>\n",
       "\t</tr>\n",
       "\t<tr>\n",
       "\t\t<td>162</td>\n",
       "\t\t<td>1</td>\n",
       "\t\t<td>2</td>\n",
       "\t\t<td>female</td>\n",
       "\t\t<td>40</td>\n",
       "\t\t<td>0</td>\n",
       "\t\t<td>0</td>\n",
       "\t\t<td>15.75</td>\n",
       "\t\t<td>None</td>\n",
       "\t\t<td>S</td>\n",
       "\t\t<td>23</td>\n",
       "\t</tr>\n",
       "\t<tr>\n",
       "\t\t<td>873</td>\n",
       "\t\t<td>0</td>\n",
       "\t\t<td>1</td>\n",
       "\t\t<td>male</td>\n",
       "\t\t<td>33</td>\n",
       "\t\t<td>0</td>\n",
       "\t\t<td>0</td>\n",
       "\t\t<td>5.0</td>\n",
       "\t\t<td>B51 B53 B55</td>\n",
       "\t\t<td>S</td>\n",
       "\t\t<td>9</td>\n",
       "\t</tr>\n",
       "\t<tr>\n",
       "\t\t<td>301</td>\n",
       "\t\t<td>1</td>\n",
       "\t\t<td>3</td>\n",
       "\t\t<td>female</td>\n",
       "\t\t<td>None</td>\n",
       "\t\t<td>0</td>\n",
       "\t\t<td>0</td>\n",
       "\t\t<td>7.75</td>\n",
       "\t\t<td>None</td>\n",
       "\t\t<td>Q</td>\n",
       "\t\t<td>17</td>\n",
       "\t</tr>\n",
       "\t<tr>\n",
       "\t\t<td>751</td>\n",
       "\t\t<td>1</td>\n",
       "\t\t<td>2</td>\n",
       "\t\t<td>female</td>\n",
       "\t\t<td>4</td>\n",
       "\t\t<td>1</td>\n",
       "\t\t<td>1</td>\n",
       "\t\t<td>23.0</td>\n",
       "\t\t<td>None</td>\n",
       "\t\t<td>S</td>\n",
       "\t\t<td>10</td>\n",
       "\t</tr>\n",
       "\t<tr>\n",
       "\t\t<td>543</td>\n",
       "\t\t<td>0</td>\n",
       "\t\t<td>3</td>\n",
       "\t\t<td>female</td>\n",
       "\t\t<td>11</td>\n",
       "\t\t<td>4</td>\n",
       "\t\t<td>2</td>\n",
       "\t\t<td>31.275</td>\n",
       "\t\t<td>None</td>\n",
       "\t\t<td>S</td>\n",
       "\t\t<td>18</td>\n",
       "\t</tr>\n",
       "</table></html>"
      ],
      "text/plain": [
       "   passenger  survived  pclass     sex   age  sibsp  parch      fare        cabin embarked  id\n",
       "0        591         0       3    male  35.0      0      0    7.1250         None        S  11\n",
       "1        486         0       3  female   NaN      3      1   25.4667         None        S   8\n",
       "2        381         1       1  female  42.0      0      0  227.5250         None        C  16\n",
       "3         80         1       3  female  30.0      0      0   12.4750         None        S  12\n",
       "4        570         1       3    male  32.0      0      0    7.8542         None        S  15\n",
       "5        162         1       2  female  40.0      0      0   15.7500         None        S  23\n",
       "6        873         0       1    male  33.0      0      0    5.0000  B51 B53 B55        S   9\n",
       "7        301         1       3  female   NaN      0      0    7.7500         None        Q  17\n",
       "8        751         1       2  female   4.0      1      1   23.0000         None        S  10\n",
       "9        543         0       3  female  11.0      4      2   31.2750         None        S  18"
      ]
     },
     "metadata": {},
     "output_type": "display_data"
    },
    {
     "name": "stdout",
     "output_type": "stream",
     "text": [
      "                                                                                                \r"
     ]
    },
    {
     "data": {
      "text/html": [
       "178 rows X 11 columns"
      ],
      "text/plain": [
       "<IPython.core.display.HTML object>"
      ]
     },
     "metadata": {},
     "output_type": "display_data"
    },
    {
     "name": "stdout",
     "output_type": "stream",
     "text": [
      "                                                                                                 \r"
     ]
    },
    {
     "data": {
      "text/html": [
       "\n",
       "Updated dataset after performing target column transformation :"
      ],
      "text/plain": [
       "<IPython.core.display.HTML object>"
      ]
     },
     "metadata": {},
     "output_type": "display_data"
    },
    {
     "data": {
      "text/html": [
       "<style type=\"text/css\">\n",
       "\ttable {border:ridge 5px;}\n",
       "\ttable td {border:inset 1px;}\n",
       "\ttable tr#HeaderRow {background-color:grey; color:white;}</style>\n",
       "<html><table>\n",
       "\t<tr id=\"HeaderRow\">\n",
       "\t\t<th>embarked</th>\n",
       "\t\t<th>cabin</th>\n",
       "\t\t<th>parch</th>\n",
       "\t\t<th>age</th>\n",
       "\t\t<th>passenger</th>\n",
       "\t\t<th>sex</th>\n",
       "\t\t<th>pclass</th>\n",
       "\t\t<th>sibsp</th>\n",
       "\t\t<th>fare</th>\n",
       "\t\t<th>id</th>\n",
       "\t\t<th>survived</th>\n",
       "\t</tr>\n",
       "\t<tr>\n",
       "\t\t<td>S</td>\n",
       "\t\t<td>B51 B53 B55</td>\n",
       "\t\t<td>0</td>\n",
       "\t\t<td>33</td>\n",
       "\t\t<td>873</td>\n",
       "\t\t<td>male</td>\n",
       "\t\t<td>1</td>\n",
       "\t\t<td>0</td>\n",
       "\t\t<td>5.0</td>\n",
       "\t\t<td>9</td>\n",
       "\t\t<td>0</td>\n",
       "\t</tr>\n",
       "\t<tr>\n",
       "\t\t<td>C</td>\n",
       "\t\t<td>None</td>\n",
       "\t\t<td>0</td>\n",
       "\t\t<td>11</td>\n",
       "\t\t<td>732</td>\n",
       "\t\t<td>male</td>\n",
       "\t\t<td>3</td>\n",
       "\t\t<td>0</td>\n",
       "\t\t<td>18.7875</td>\n",
       "\t\t<td>13</td>\n",
       "\t\t<td>0</td>\n",
       "\t</tr>\n",
       "\t<tr>\n",
       "\t\t<td>S</td>\n",
       "\t\t<td>None</td>\n",
       "\t\t<td>0</td>\n",
       "\t\t<td>25</td>\n",
       "\t\t<td>667</td>\n",
       "\t\t<td>male</td>\n",
       "\t\t<td>2</td>\n",
       "\t\t<td>0</td>\n",
       "\t\t<td>13.0</td>\n",
       "\t\t<td>21</td>\n",
       "\t\t<td>0</td>\n",
       "\t</tr>\n",
       "\t<tr>\n",
       "\t\t<td>S</td>\n",
       "\t\t<td>None</td>\n",
       "\t\t<td>0</td>\n",
       "\t\t<td>32</td>\n",
       "\t\t<td>570</td>\n",
       "\t\t<td>male</td>\n",
       "\t\t<td>3</td>\n",
       "\t\t<td>0</td>\n",
       "\t\t<td>7.8542</td>\n",
       "\t\t<td>15</td>\n",
       "\t\t<td>1</td>\n",
       "\t</tr>\n",
       "\t<tr>\n",
       "\t\t<td>S</td>\n",
       "\t\t<td>None</td>\n",
       "\t\t<td>0</td>\n",
       "\t\t<td>30</td>\n",
       "\t\t<td>80</td>\n",
       "\t\t<td>female</td>\n",
       "\t\t<td>3</td>\n",
       "\t\t<td>0</td>\n",
       "\t\t<td>12.475</td>\n",
       "\t\t<td>12</td>\n",
       "\t\t<td>1</td>\n",
       "\t</tr>\n",
       "\t<tr>\n",
       "\t\t<td>S</td>\n",
       "\t\t<td>None</td>\n",
       "\t\t<td>0</td>\n",
       "\t\t<td>21</td>\n",
       "\t\t<td>38</td>\n",
       "\t\t<td>male</td>\n",
       "\t\t<td>3</td>\n",
       "\t\t<td>0</td>\n",
       "\t\t<td>8.05</td>\n",
       "\t\t<td>20</td>\n",
       "\t\t<td>0</td>\n",
       "\t</tr>\n",
       "\t<tr>\n",
       "\t\t<td>S</td>\n",
       "\t\t<td>None</td>\n",
       "\t\t<td>0</td>\n",
       "\t\t<td>35</td>\n",
       "\t\t<td>591</td>\n",
       "\t\t<td>male</td>\n",
       "\t\t<td>3</td>\n",
       "\t\t<td>0</td>\n",
       "\t\t<td>7.125</td>\n",
       "\t\t<td>11</td>\n",
       "\t\t<td>0</td>\n",
       "\t</tr>\n",
       "\t<tr>\n",
       "\t\t<td>S</td>\n",
       "\t\t<td>None</td>\n",
       "\t\t<td>0</td>\n",
       "\t\t<td>31</td>\n",
       "\t\t<td>19</td>\n",
       "\t\t<td>female</td>\n",
       "\t\t<td>3</td>\n",
       "\t\t<td>1</td>\n",
       "\t\t<td>18.0</td>\n",
       "\t\t<td>19</td>\n",
       "\t\t<td>0</td>\n",
       "\t</tr>\n",
       "\t<tr>\n",
       "\t\t<td>S</td>\n",
       "\t\t<td>None</td>\n",
       "\t\t<td>1</td>\n",
       "\t\t<td>4</td>\n",
       "\t\t<td>751</td>\n",
       "\t\t<td>female</td>\n",
       "\t\t<td>2</td>\n",
       "\t\t<td>1</td>\n",
       "\t\t<td>23.0</td>\n",
       "\t\t<td>10</td>\n",
       "\t\t<td>1</td>\n",
       "\t</tr>\n",
       "\t<tr>\n",
       "\t\t<td>S</td>\n",
       "\t\t<td>None</td>\n",
       "\t\t<td>2</td>\n",
       "\t\t<td>11</td>\n",
       "\t\t<td>543</td>\n",
       "\t\t<td>female</td>\n",
       "\t\t<td>3</td>\n",
       "\t\t<td>4</td>\n",
       "\t\t<td>31.275</td>\n",
       "\t\t<td>18</td>\n",
       "\t\t<td>0</td>\n",
       "\t</tr>\n",
       "</table></html>"
      ],
      "text/plain": [
       "  embarked        cabin  parch  age  passenger     sex  pclass  sibsp     fare  id  survived\n",
       "0        S  B51 B53 B55      0   33        873    male       1      0   5.0000   9         0\n",
       "1        C         None      0   11        732    male       3      0  18.7875  13         0\n",
       "2        S         None      0   25        667    male       2      0  13.0000  21         0\n",
       "3        S         None      0   32        570    male       3      0   7.8542  15         1\n",
       "4        S         None      0   30         80  female       3      0  12.4750  12         1\n",
       "5        S         None      0   21         38    male       3      0   8.0500  20         0\n",
       "6        S         None      0   35        591    male       3      0   7.1250  11         0\n",
       "7        S         None      0   31         19  female       3      1  18.0000  19         0\n",
       "8        S         None      1    4        751  female       2      1  23.0000  10         1\n",
       "9        S         None      2   11        543  female       3      4  31.2750  18         0"
      ]
     },
     "metadata": {},
     "output_type": "display_data"
    },
    {
     "name": "stdout",
     "output_type": "stream",
     "text": [
      "                                                                                                 \r"
     ]
    },
    {
     "data": {
      "text/html": [
       "178 rows X 11 columns"
      ],
      "text/plain": [
       "<IPython.core.display.HTML object>"
      ]
     },
     "metadata": {},
     "output_type": "display_data"
    },
    {
     "name": "stdout",
     "output_type": "stream",
     "text": [
      "                                                                                                 \r"
     ]
    },
    {
     "data": {
      "text/html": [
       "\n",
       "Updated dataset after dropping customized missing value containing columns :"
      ],
      "text/plain": [
       "<IPython.core.display.HTML object>"
      ]
     },
     "metadata": {},
     "output_type": "display_data"
    },
    {
     "data": {
      "text/html": [
       "<style type=\"text/css\">\n",
       "\ttable {border:ridge 5px;}\n",
       "\ttable td {border:inset 1px;}\n",
       "\ttable tr#HeaderRow {background-color:grey; color:white;}</style>\n",
       "<html><table>\n",
       "\t<tr id=\"HeaderRow\">\n",
       "\t\t<th>embarked</th>\n",
       "\t\t<th>parch</th>\n",
       "\t\t<th>age</th>\n",
       "\t\t<th>passenger</th>\n",
       "\t\t<th>sex</th>\n",
       "\t\t<th>pclass</th>\n",
       "\t\t<th>sibsp</th>\n",
       "\t\t<th>fare</th>\n",
       "\t\t<th>id</th>\n",
       "\t\t<th>survived</th>\n",
       "\t</tr>\n",
       "\t<tr>\n",
       "\t\t<td>S</td>\n",
       "\t\t<td>0</td>\n",
       "\t\t<td>33</td>\n",
       "\t\t<td>873</td>\n",
       "\t\t<td>male</td>\n",
       "\t\t<td>1</td>\n",
       "\t\t<td>0</td>\n",
       "\t\t<td>5.0</td>\n",
       "\t\t<td>9</td>\n",
       "\t\t<td>0</td>\n",
       "\t</tr>\n",
       "\t<tr>\n",
       "\t\t<td>S</td>\n",
       "\t\t<td>0</td>\n",
       "\t\t<td>30</td>\n",
       "\t\t<td>80</td>\n",
       "\t\t<td>female</td>\n",
       "\t\t<td>3</td>\n",
       "\t\t<td>0</td>\n",
       "\t\t<td>12.475</td>\n",
       "\t\t<td>12</td>\n",
       "\t\t<td>1</td>\n",
       "\t</tr>\n",
       "\t<tr>\n",
       "\t\t<td>S</td>\n",
       "\t\t<td>0</td>\n",
       "\t\t<td>21</td>\n",
       "\t\t<td>38</td>\n",
       "\t\t<td>male</td>\n",
       "\t\t<td>3</td>\n",
       "\t\t<td>0</td>\n",
       "\t\t<td>8.05</td>\n",
       "\t\t<td>20</td>\n",
       "\t\t<td>0</td>\n",
       "\t</tr>\n",
       "\t<tr>\n",
       "\t\t<td>S</td>\n",
       "\t\t<td>0</td>\n",
       "\t\t<td>35</td>\n",
       "\t\t<td>591</td>\n",
       "\t\t<td>male</td>\n",
       "\t\t<td>3</td>\n",
       "\t\t<td>0</td>\n",
       "\t\t<td>7.125</td>\n",
       "\t\t<td>11</td>\n",
       "\t\t<td>0</td>\n",
       "\t</tr>\n",
       "\t<tr>\n",
       "\t\t<td>C</td>\n",
       "\t\t<td>0</td>\n",
       "\t\t<td>11</td>\n",
       "\t\t<td>732</td>\n",
       "\t\t<td>male</td>\n",
       "\t\t<td>3</td>\n",
       "\t\t<td>0</td>\n",
       "\t\t<td>18.7875</td>\n",
       "\t\t<td>13</td>\n",
       "\t\t<td>0</td>\n",
       "\t</tr>\n",
       "\t<tr>\n",
       "\t\t<td>S</td>\n",
       "\t\t<td>0</td>\n",
       "\t\t<td>25</td>\n",
       "\t\t<td>667</td>\n",
       "\t\t<td>male</td>\n",
       "\t\t<td>2</td>\n",
       "\t\t<td>0</td>\n",
       "\t\t<td>13.0</td>\n",
       "\t\t<td>21</td>\n",
       "\t\t<td>0</td>\n",
       "\t</tr>\n",
       "\t<tr>\n",
       "\t\t<td>S</td>\n",
       "\t\t<td>0</td>\n",
       "\t\t<td>32</td>\n",
       "\t\t<td>570</td>\n",
       "\t\t<td>male</td>\n",
       "\t\t<td>3</td>\n",
       "\t\t<td>0</td>\n",
       "\t\t<td>7.8542</td>\n",
       "\t\t<td>15</td>\n",
       "\t\t<td>1</td>\n",
       "\t</tr>\n",
       "\t<tr>\n",
       "\t\t<td>S</td>\n",
       "\t\t<td>0</td>\n",
       "\t\t<td>40</td>\n",
       "\t\t<td>162</td>\n",
       "\t\t<td>female</td>\n",
       "\t\t<td>2</td>\n",
       "\t\t<td>0</td>\n",
       "\t\t<td>15.75</td>\n",
       "\t\t<td>23</td>\n",
       "\t\t<td>1</td>\n",
       "\t</tr>\n",
       "\t<tr>\n",
       "\t\t<td>S</td>\n",
       "\t\t<td>2</td>\n",
       "\t\t<td>None</td>\n",
       "\t\t<td>181</td>\n",
       "\t\t<td>female</td>\n",
       "\t\t<td>3</td>\n",
       "\t\t<td>8</td>\n",
       "\t\t<td>69.55</td>\n",
       "\t\t<td>14</td>\n",
       "\t\t<td>0</td>\n",
       "\t</tr>\n",
       "\t<tr>\n",
       "\t\t<td>C</td>\n",
       "\t\t<td>0</td>\n",
       "\t\t<td>None</td>\n",
       "\t\t<td>257</td>\n",
       "\t\t<td>female</td>\n",
       "\t\t<td>1</td>\n",
       "\t\t<td>0</td>\n",
       "\t\t<td>79.2</td>\n",
       "\t\t<td>22</td>\n",
       "\t\t<td>1</td>\n",
       "\t</tr>\n",
       "</table></html>"
      ],
      "text/plain": [
       "  embarked  parch   age  passenger     sex  pclass  sibsp     fare  id  survived\n",
       "0        S      0  33.0        873    male       1      0   5.0000   9         0\n",
       "1        S      0  30.0         80  female       3      0  12.4750  12         1\n",
       "2        S      0  21.0         38    male       3      0   8.0500  20         0\n",
       "3        S      0  35.0        591    male       3      0   7.1250  11         0\n",
       "4        C      0  11.0        732    male       3      0  18.7875  13         0\n",
       "5        S      0  25.0        667    male       2      0  13.0000  21         0\n",
       "6        S      0  32.0        570    male       3      0   7.8542  15         1\n",
       "7        S      0  40.0        162  female       2      0  15.7500  23         1\n",
       "8        S      2   NaN        181  female       3      8  69.5500  14         0\n",
       "9        C      0   NaN        257  female       1      0  79.2000  22         1"
      ]
     },
     "metadata": {},
     "output_type": "display_data"
    },
    {
     "name": "stdout",
     "output_type": "stream",
     "text": [
      "                                                                                                 \r"
     ]
    },
    {
     "data": {
      "text/html": [
       "178 rows X 10 columns"
      ],
      "text/plain": [
       "<IPython.core.display.HTML object>"
      ]
     },
     "metadata": {},
     "output_type": "display_data"
    },
    {
     "name": "stdout",
     "output_type": "stream",
     "text": [
      "                                                                                                 \r"
     ]
    },
    {
     "data": {
      "text/html": [
       "\n",
       "Updated dataset after imputing customized missing value containing columns :"
      ],
      "text/plain": [
       "<IPython.core.display.HTML object>"
      ]
     },
     "metadata": {},
     "output_type": "display_data"
    },
    {
     "data": {
      "text/html": [
       "<style type=\"text/css\">\n",
       "\ttable {border:ridge 5px;}\n",
       "\ttable td {border:inset 1px;}\n",
       "\ttable tr#HeaderRow {background-color:grey; color:white;}</style>\n",
       "<html><table>\n",
       "\t<tr id=\"HeaderRow\">\n",
       "\t\t<th>embarked</th>\n",
       "\t\t<th>parch</th>\n",
       "\t\t<th>age</th>\n",
       "\t\t<th>passenger</th>\n",
       "\t\t<th>sex</th>\n",
       "\t\t<th>pclass</th>\n",
       "\t\t<th>sibsp</th>\n",
       "\t\t<th>fare</th>\n",
       "\t\t<th>id</th>\n",
       "\t\t<th>survived</th>\n",
       "\t</tr>\n",
       "\t<tr>\n",
       "\t\t<td>S</td>\n",
       "\t\t<td>0</td>\n",
       "\t\t<td>35</td>\n",
       "\t\t<td>591</td>\n",
       "\t\t<td>male</td>\n",
       "\t\t<td>3</td>\n",
       "\t\t<td>0</td>\n",
       "\t\t<td>7.125</td>\n",
       "\t\t<td>11</td>\n",
       "\t\t<td>0</td>\n",
       "\t</tr>\n",
       "\t<tr>\n",
       "\t\t<td>S</td>\n",
       "\t\t<td>2</td>\n",
       "\t\t<td>28</td>\n",
       "\t\t<td>181</td>\n",
       "\t\t<td>female</td>\n",
       "\t\t<td>3</td>\n",
       "\t\t<td>8</td>\n",
       "\t\t<td>69.55</td>\n",
       "\t\t<td>14</td>\n",
       "\t\t<td>0</td>\n",
       "\t</tr>\n",
       "\t<tr>\n",
       "\t\t<td>C</td>\n",
       "\t\t<td>0</td>\n",
       "\t\t<td>28</td>\n",
       "\t\t<td>257</td>\n",
       "\t\t<td>female</td>\n",
       "\t\t<td>1</td>\n",
       "\t\t<td>0</td>\n",
       "\t\t<td>79.2</td>\n",
       "\t\t<td>22</td>\n",
       "\t\t<td>1</td>\n",
       "\t</tr>\n",
       "\t<tr>\n",
       "\t\t<td>S</td>\n",
       "\t\t<td>0</td>\n",
       "\t\t<td>32</td>\n",
       "\t\t<td>570</td>\n",
       "\t\t<td>male</td>\n",
       "\t\t<td>3</td>\n",
       "\t\t<td>0</td>\n",
       "\t\t<td>7.8542</td>\n",
       "\t\t<td>15</td>\n",
       "\t\t<td>1</td>\n",
       "\t</tr>\n",
       "\t<tr>\n",
       "\t\t<td>S</td>\n",
       "\t\t<td>0</td>\n",
       "\t\t<td>33</td>\n",
       "\t\t<td>873</td>\n",
       "\t\t<td>male</td>\n",
       "\t\t<td>1</td>\n",
       "\t\t<td>0</td>\n",
       "\t\t<td>5.0</td>\n",
       "\t\t<td>9</td>\n",
       "\t\t<td>0</td>\n",
       "\t</tr>\n",
       "\t<tr>\n",
       "\t\t<td>Q</td>\n",
       "\t\t<td>0</td>\n",
       "\t\t<td>28</td>\n",
       "\t\t<td>301</td>\n",
       "\t\t<td>female</td>\n",
       "\t\t<td>3</td>\n",
       "\t\t<td>0</td>\n",
       "\t\t<td>7.75</td>\n",
       "\t\t<td>17</td>\n",
       "\t\t<td>1</td>\n",
       "\t</tr>\n",
       "\t<tr>\n",
       "\t\t<td>C</td>\n",
       "\t\t<td>0</td>\n",
       "\t\t<td>11</td>\n",
       "\t\t<td>732</td>\n",
       "\t\t<td>male</td>\n",
       "\t\t<td>3</td>\n",
       "\t\t<td>0</td>\n",
       "\t\t<td>18.7875</td>\n",
       "\t\t<td>13</td>\n",
       "\t\t<td>0</td>\n",
       "\t</tr>\n",
       "\t<tr>\n",
       "\t\t<td>S</td>\n",
       "\t\t<td>0</td>\n",
       "\t\t<td>25</td>\n",
       "\t\t<td>667</td>\n",
       "\t\t<td>male</td>\n",
       "\t\t<td>2</td>\n",
       "\t\t<td>0</td>\n",
       "\t\t<td>13.0</td>\n",
       "\t\t<td>21</td>\n",
       "\t\t<td>0</td>\n",
       "\t</tr>\n",
       "\t<tr>\n",
       "\t\t<td>S</td>\n",
       "\t\t<td>0</td>\n",
       "\t\t<td>30</td>\n",
       "\t\t<td>80</td>\n",
       "\t\t<td>female</td>\n",
       "\t\t<td>3</td>\n",
       "\t\t<td>0</td>\n",
       "\t\t<td>12.475</td>\n",
       "\t\t<td>12</td>\n",
       "\t\t<td>1</td>\n",
       "\t</tr>\n",
       "\t<tr>\n",
       "\t\t<td>S</td>\n",
       "\t\t<td>0</td>\n",
       "\t\t<td>21</td>\n",
       "\t\t<td>38</td>\n",
       "\t\t<td>male</td>\n",
       "\t\t<td>3</td>\n",
       "\t\t<td>0</td>\n",
       "\t\t<td>8.05</td>\n",
       "\t\t<td>20</td>\n",
       "\t\t<td>0</td>\n",
       "\t</tr>\n",
       "</table></html>"
      ],
      "text/plain": [
       "  embarked  parch  age  passenger     sex  pclass  sibsp     fare  id  survived\n",
       "0        S      0   35        591    male       3      0   7.1250  11         0\n",
       "1        S      2   28        181  female       3      8  69.5500  14         0\n",
       "2        C      0   28        257  female       1      0  79.2000  22         1\n",
       "3        S      0   32        570    male       3      0   7.8542  15         1\n",
       "4        S      0   33        873    male       1      0   5.0000   9         0\n",
       "5        Q      0   28        301  female       3      0   7.7500  17         1\n",
       "6        C      0   11        732    male       3      0  18.7875  13         0\n",
       "7        S      0   25        667    male       2      0  13.0000  21         0\n",
       "8        S      0   30         80  female       3      0  12.4750  12         1\n",
       "9        S      0   21         38    male       3      0   8.0500  20         0"
      ]
     },
     "metadata": {},
     "output_type": "display_data"
    },
    {
     "name": "stdout",
     "output_type": "stream",
     "text": [
      "                                                                                                 \r"
     ]
    },
    {
     "data": {
      "text/html": [
       "178 rows X 10 columns"
      ],
      "text/plain": [
       "<IPython.core.display.HTML object>"
      ]
     },
     "metadata": {},
     "output_type": "display_data"
    },
    {
     "name": "stdout",
     "output_type": "stream",
     "text": [
      "                                                                                                 \r"
     ]
    },
    {
     "data": {
      "text/html": [
       "\n",
       "Found additional 1 rows that contain missing values :"
      ],
      "text/plain": [
       "<IPython.core.display.HTML object>"
      ]
     },
     "metadata": {},
     "output_type": "display_data"
    },
    {
     "data": {
      "text/html": [
       "<style type=\"text/css\">\n",
       "\ttable {border:ridge 5px;}\n",
       "\ttable td {border:inset 1px;}\n",
       "\ttable tr#HeaderRow {background-color:grey; color:white;}</style>\n",
       "<html><table>\n",
       "\t<tr id=\"HeaderRow\">\n",
       "\t\t<th>embarked</th>\n",
       "\t\t<th>parch</th>\n",
       "\t\t<th>age</th>\n",
       "\t\t<th>passenger</th>\n",
       "\t\t<th>sex</th>\n",
       "\t\t<th>pclass</th>\n",
       "\t\t<th>sibsp</th>\n",
       "\t\t<th>fare</th>\n",
       "\t\t<th>id</th>\n",
       "\t\t<th>survived</th>\n",
       "\t</tr>\n",
       "\t<tr>\n",
       "\t\t<td>S</td>\n",
       "\t\t<td>0</td>\n",
       "\t\t<td>35</td>\n",
       "\t\t<td>591</td>\n",
       "\t\t<td>male</td>\n",
       "\t\t<td>3</td>\n",
       "\t\t<td>0</td>\n",
       "\t\t<td>7.125</td>\n",
       "\t\t<td>11</td>\n",
       "\t\t<td>0</td>\n",
       "\t</tr>\n",
       "\t<tr>\n",
       "\t\t<td>S</td>\n",
       "\t\t<td>0</td>\n",
       "\t\t<td>33</td>\n",
       "\t\t<td>873</td>\n",
       "\t\t<td>male</td>\n",
       "\t\t<td>1</td>\n",
       "\t\t<td>0</td>\n",
       "\t\t<td>5.0</td>\n",
       "\t\t<td>9</td>\n",
       "\t\t<td>0</td>\n",
       "\t</tr>\n",
       "\t<tr>\n",
       "\t\t<td>Q</td>\n",
       "\t\t<td>0</td>\n",
       "\t\t<td>28</td>\n",
       "\t\t<td>301</td>\n",
       "\t\t<td>female</td>\n",
       "\t\t<td>3</td>\n",
       "\t\t<td>0</td>\n",
       "\t\t<td>7.75</td>\n",
       "\t\t<td>17</td>\n",
       "\t\t<td>1</td>\n",
       "\t</tr>\n",
       "\t<tr>\n",
       "\t\t<td>C</td>\n",
       "\t\t<td>0</td>\n",
       "\t\t<td>11</td>\n",
       "\t\t<td>732</td>\n",
       "\t\t<td>male</td>\n",
       "\t\t<td>3</td>\n",
       "\t\t<td>0</td>\n",
       "\t\t<td>18.7875</td>\n",
       "\t\t<td>13</td>\n",
       "\t\t<td>0</td>\n",
       "\t</tr>\n",
       "\t<tr>\n",
       "\t\t<td>S</td>\n",
       "\t\t<td>2</td>\n",
       "\t\t<td>28</td>\n",
       "\t\t<td>181</td>\n",
       "\t\t<td>female</td>\n",
       "\t\t<td>3</td>\n",
       "\t\t<td>8</td>\n",
       "\t\t<td>69.55</td>\n",
       "\t\t<td>14</td>\n",
       "\t\t<td>0</td>\n",
       "\t</tr>\n",
       "\t<tr>\n",
       "\t\t<td>C</td>\n",
       "\t\t<td>0</td>\n",
       "\t\t<td>28</td>\n",
       "\t\t<td>257</td>\n",
       "\t\t<td>female</td>\n",
       "\t\t<td>1</td>\n",
       "\t\t<td>0</td>\n",
       "\t\t<td>79.2</td>\n",
       "\t\t<td>22</td>\n",
       "\t\t<td>1</td>\n",
       "\t</tr>\n",
       "\t<tr>\n",
       "\t\t<td>S</td>\n",
       "\t\t<td>0</td>\n",
       "\t\t<td>30</td>\n",
       "\t\t<td>80</td>\n",
       "\t\t<td>female</td>\n",
       "\t\t<td>3</td>\n",
       "\t\t<td>0</td>\n",
       "\t\t<td>12.475</td>\n",
       "\t\t<td>12</td>\n",
       "\t\t<td>1</td>\n",
       "\t</tr>\n",
       "\t<tr>\n",
       "\t\t<td>S</td>\n",
       "\t\t<td>0</td>\n",
       "\t\t<td>21</td>\n",
       "\t\t<td>38</td>\n",
       "\t\t<td>male</td>\n",
       "\t\t<td>3</td>\n",
       "\t\t<td>0</td>\n",
       "\t\t<td>8.05</td>\n",
       "\t\t<td>20</td>\n",
       "\t\t<td>0</td>\n",
       "\t</tr>\n",
       "\t<tr>\n",
       "\t\t<td>S</td>\n",
       "\t\t<td>1</td>\n",
       "\t\t<td>4</td>\n",
       "\t\t<td>751</td>\n",
       "\t\t<td>female</td>\n",
       "\t\t<td>2</td>\n",
       "\t\t<td>1</td>\n",
       "\t\t<td>23.0</td>\n",
       "\t\t<td>10</td>\n",
       "\t\t<td>1</td>\n",
       "\t</tr>\n",
       "\t<tr>\n",
       "\t\t<td>S</td>\n",
       "\t\t<td>2</td>\n",
       "\t\t<td>11</td>\n",
       "\t\t<td>543</td>\n",
       "\t\t<td>female</td>\n",
       "\t\t<td>3</td>\n",
       "\t\t<td>4</td>\n",
       "\t\t<td>31.275</td>\n",
       "\t\t<td>18</td>\n",
       "\t\t<td>0</td>\n",
       "\t</tr>\n",
       "</table></html>"
      ],
      "text/plain": [
       "  embarked  parch  age  passenger     sex  pclass  sibsp     fare  id  survived\n",
       "0        S      0   35        591    male       3      0   7.1250  11         0\n",
       "1        S      0   33        873    male       1      0   5.0000   9         0\n",
       "2        Q      0   28        301  female       3      0   7.7500  17         1\n",
       "3        C      0   11        732    male       3      0  18.7875  13         0\n",
       "4        S      2   28        181  female       3      8  69.5500  14         0\n",
       "5        C      0   28        257  female       1      0  79.2000  22         1\n",
       "6        S      0   30         80  female       3      0  12.4750  12         1\n",
       "7        S      0   21         38    male       3      0   8.0500  20         0\n",
       "8        S      1    4        751  female       2      1  23.0000  10         1\n",
       "9        S      2   11        543  female       3      4  31.2750  18         0"
      ]
     },
     "metadata": {},
     "output_type": "display_data"
    },
    {
     "name": "stdout",
     "output_type": "stream",
     "text": [
      "                                                                                                 \r"
     ]
    },
    {
     "data": {
      "text/html": [
       "178 rows X 10 columns"
      ],
      "text/plain": [
       "<IPython.core.display.HTML object>"
      ]
     },
     "metadata": {},
     "output_type": "display_data"
    },
    {
     "name": "stdout",
     "output_type": "stream",
     "text": [
      "                                                                                                 \r"
     ]
    },
    {
     "data": {
      "text/html": [
       "\n",
       "Updated dataset after dropping additional missing value containing rows :"
      ],
      "text/plain": [
       "<IPython.core.display.HTML object>"
      ]
     },
     "metadata": {},
     "output_type": "display_data"
    },
    {
     "data": {
      "text/html": [
       "<style type=\"text/css\">\n",
       "\ttable {border:ridge 5px;}\n",
       "\ttable td {border:inset 1px;}\n",
       "\ttable tr#HeaderRow {background-color:grey; color:white;}</style>\n",
       "<html><table>\n",
       "\t<tr id=\"HeaderRow\">\n",
       "\t\t<th>embarked</th>\n",
       "\t\t<th>parch</th>\n",
       "\t\t<th>age</th>\n",
       "\t\t<th>passenger</th>\n",
       "\t\t<th>sex</th>\n",
       "\t\t<th>pclass</th>\n",
       "\t\t<th>sibsp</th>\n",
       "\t\t<th>fare</th>\n",
       "\t\t<th>id</th>\n",
       "\t\t<th>survived</th>\n",
       "\t</tr>\n",
       "\t<tr>\n",
       "\t\t<td>S</td>\n",
       "\t\t<td>0</td>\n",
       "\t\t<td>33</td>\n",
       "\t\t<td>873</td>\n",
       "\t\t<td>male</td>\n",
       "\t\t<td>1</td>\n",
       "\t\t<td>0</td>\n",
       "\t\t<td>5.0</td>\n",
       "\t\t<td>9</td>\n",
       "\t\t<td>0</td>\n",
       "\t</tr>\n",
       "\t<tr>\n",
       "\t\t<td>S</td>\n",
       "\t\t<td>1</td>\n",
       "\t\t<td>28</td>\n",
       "\t\t<td>486</td>\n",
       "\t\t<td>female</td>\n",
       "\t\t<td>3</td>\n",
       "\t\t<td>3</td>\n",
       "\t\t<td>25.4667</td>\n",
       "\t\t<td>8</td>\n",
       "\t\t<td>0</td>\n",
       "\t</tr>\n",
       "\t<tr>\n",
       "\t\t<td>C</td>\n",
       "\t\t<td>0</td>\n",
       "\t\t<td>42</td>\n",
       "\t\t<td>381</td>\n",
       "\t\t<td>female</td>\n",
       "\t\t<td>1</td>\n",
       "\t\t<td>0</td>\n",
       "\t\t<td>227.525</td>\n",
       "\t\t<td>16</td>\n",
       "\t\t<td>1</td>\n",
       "\t</tr>\n",
       "\t<tr>\n",
       "\t\t<td>S</td>\n",
       "\t\t<td>0</td>\n",
       "\t\t<td>32</td>\n",
       "\t\t<td>570</td>\n",
       "\t\t<td>male</td>\n",
       "\t\t<td>3</td>\n",
       "\t\t<td>0</td>\n",
       "\t\t<td>7.8542</td>\n",
       "\t\t<td>15</td>\n",
       "\t\t<td>1</td>\n",
       "\t</tr>\n",
       "\t<tr>\n",
       "\t\t<td>S</td>\n",
       "\t\t<td>0</td>\n",
       "\t\t<td>30</td>\n",
       "\t\t<td>80</td>\n",
       "\t\t<td>female</td>\n",
       "\t\t<td>3</td>\n",
       "\t\t<td>0</td>\n",
       "\t\t<td>12.475</td>\n",
       "\t\t<td>12</td>\n",
       "\t\t<td>1</td>\n",
       "\t</tr>\n",
       "\t<tr>\n",
       "\t\t<td>S</td>\n",
       "\t\t<td>0</td>\n",
       "\t\t<td>21</td>\n",
       "\t\t<td>38</td>\n",
       "\t\t<td>male</td>\n",
       "\t\t<td>3</td>\n",
       "\t\t<td>0</td>\n",
       "\t\t<td>8.05</td>\n",
       "\t\t<td>20</td>\n",
       "\t\t<td>0</td>\n",
       "\t</tr>\n",
       "\t<tr>\n",
       "\t\t<td>S</td>\n",
       "\t\t<td>0</td>\n",
       "\t\t<td>35</td>\n",
       "\t\t<td>591</td>\n",
       "\t\t<td>male</td>\n",
       "\t\t<td>3</td>\n",
       "\t\t<td>0</td>\n",
       "\t\t<td>7.125</td>\n",
       "\t\t<td>11</td>\n",
       "\t\t<td>0</td>\n",
       "\t</tr>\n",
       "\t<tr>\n",
       "\t\t<td>S</td>\n",
       "\t\t<td>0</td>\n",
       "\t\t<td>31</td>\n",
       "\t\t<td>19</td>\n",
       "\t\t<td>female</td>\n",
       "\t\t<td>3</td>\n",
       "\t\t<td>1</td>\n",
       "\t\t<td>18.0</td>\n",
       "\t\t<td>19</td>\n",
       "\t\t<td>0</td>\n",
       "\t</tr>\n",
       "\t<tr>\n",
       "\t\t<td>C</td>\n",
       "\t\t<td>0</td>\n",
       "\t\t<td>11</td>\n",
       "\t\t<td>732</td>\n",
       "\t\t<td>male</td>\n",
       "\t\t<td>3</td>\n",
       "\t\t<td>0</td>\n",
       "\t\t<td>18.7875</td>\n",
       "\t\t<td>13</td>\n",
       "\t\t<td>0</td>\n",
       "\t</tr>\n",
       "\t<tr>\n",
       "\t\t<td>S</td>\n",
       "\t\t<td>0</td>\n",
       "\t\t<td>25</td>\n",
       "\t\t<td>667</td>\n",
       "\t\t<td>male</td>\n",
       "\t\t<td>2</td>\n",
       "\t\t<td>0</td>\n",
       "\t\t<td>13.0</td>\n",
       "\t\t<td>21</td>\n",
       "\t\t<td>0</td>\n",
       "\t</tr>\n",
       "</table></html>"
      ],
      "text/plain": [
       "  embarked  parch  age  passenger     sex  pclass  sibsp      fare  id  survived\n",
       "0        S      0   33        873    male       1      0    5.0000   9         0\n",
       "1        S      1   28        486  female       3      3   25.4667   8         0\n",
       "2        C      0   42        381  female       1      0  227.5250  16         1\n",
       "3        S      0   32        570    male       3      0    7.8542  15         1\n",
       "4        S      0   30         80  female       3      0   12.4750  12         1\n",
       "5        S      0   21         38    male       3      0    8.0500  20         0\n",
       "6        S      0   35        591    male       3      0    7.1250  11         0\n",
       "7        S      0   31         19  female       3      1   18.0000  19         0\n",
       "8        C      0   11        732    male       3      0   18.7875  13         0\n",
       "9        S      0   25        667    male       2      0   13.0000  21         0"
      ]
     },
     "metadata": {},
     "output_type": "display_data"
    },
    {
     "name": "stdout",
     "output_type": "stream",
     "text": [
      "                                                                                                 \r"
     ]
    },
    {
     "data": {
      "text/html": [
       "177 rows X 10 columns"
      ],
      "text/plain": [
       "<IPython.core.display.HTML object>"
      ]
     },
     "metadata": {},
     "output_type": "display_data"
    },
    {
     "name": "stdout",
     "output_type": "stream",
     "text": [
      "                                                                                                 \r"
     ]
    },
    {
     "data": {
      "text/html": [
       "\n",
       "Updated dataset after performing customized equal width bin-code transformation :"
      ],
      "text/plain": [
       "<IPython.core.display.HTML object>"
      ]
     },
     "metadata": {},
     "output_type": "display_data"
    },
    {
     "data": {
      "text/html": [
       "<style type=\"text/css\">\n",
       "\ttable {border:ridge 5px;}\n",
       "\ttable td {border:inset 1px;}\n",
       "\ttable tr#HeaderRow {background-color:grey; color:white;}</style>\n",
       "<html><table>\n",
       "\t<tr id=\"HeaderRow\">\n",
       "\t\t<th>sibsp</th>\n",
       "\t\t<th>survived</th>\n",
       "\t\t<th>parch</th>\n",
       "\t\t<th>age</th>\n",
       "\t\t<th>passenger</th>\n",
       "\t\t<th>sex</th>\n",
       "\t\t<th>embarked</th>\n",
       "\t\t<th>fare</th>\n",
       "\t\t<th>id</th>\n",
       "\t\t<th>pclass</th>\n",
       "\t</tr>\n",
       "\t<tr>\n",
       "\t\t<td>3</td>\n",
       "\t\t<td>0</td>\n",
       "\t\t<td>2</td>\n",
       "\t\t<td>19</td>\n",
       "\t\t<td>28</td>\n",
       "\t\t<td>male</td>\n",
       "\t\t<td>S</td>\n",
       "\t\t<td>263.0</td>\n",
       "\t\t<td>46</td>\n",
       "\t\t<td>pclass_1</td>\n",
       "\t</tr>\n",
       "\t<tr>\n",
       "\t\t<td>3</td>\n",
       "\t\t<td>0</td>\n",
       "\t\t<td>1</td>\n",
       "\t\t<td>28</td>\n",
       "\t\t<td>230</td>\n",
       "\t\t<td>female</td>\n",
       "\t\t<td>S</td>\n",
       "\t\t<td>25.4667</td>\n",
       "\t\t<td>50</td>\n",
       "\t\t<td>pclass_3</td>\n",
       "\t</tr>\n",
       "\t<tr>\n",
       "\t\t<td>3</td>\n",
       "\t\t<td>0</td>\n",
       "\t\t<td>1</td>\n",
       "\t\t<td>2</td>\n",
       "\t\t<td>8</td>\n",
       "\t\t<td>male</td>\n",
       "\t\t<td>S</td>\n",
       "\t\t<td>21.075</td>\n",
       "\t\t<td>136</td>\n",
       "\t\t<td>pclass_3</td>\n",
       "\t</tr>\n",
       "\t<tr>\n",
       "\t\t<td>3</td>\n",
       "\t\t<td>0</td>\n",
       "\t\t<td>1</td>\n",
       "\t\t<td>28</td>\n",
       "\t\t<td>486</td>\n",
       "\t\t<td>female</td>\n",
       "\t\t<td>S</td>\n",
       "\t\t<td>25.4667</td>\n",
       "\t\t<td>8</td>\n",
       "\t\t<td>pclass_3</td>\n",
       "\t</tr>\n",
       "\t<tr>\n",
       "\t\t<td>1</td>\n",
       "\t\t<td>1</td>\n",
       "\t\t<td>0</td>\n",
       "\t\t<td>17</td>\n",
       "\t\t<td>308</td>\n",
       "\t\t<td>female</td>\n",
       "\t\t<td>C</td>\n",
       "\t\t<td>108.9</td>\n",
       "\t\t<td>64</td>\n",
       "\t\t<td>pclass_1</td>\n",
       "\t</tr>\n",
       "\t<tr>\n",
       "\t\t<td>1</td>\n",
       "\t\t<td>1</td>\n",
       "\t\t<td>0</td>\n",
       "\t\t<td>24</td>\n",
       "\t\t<td>317</td>\n",
       "\t\t<td>female</td>\n",
       "\t\t<td>S</td>\n",
       "\t\t<td>26.0</td>\n",
       "\t\t<td>155</td>\n",
       "\t\t<td>pclass_2</td>\n",
       "\t</tr>\n",
       "\t<tr>\n",
       "\t\t<td>1</td>\n",
       "\t\t<td>1</td>\n",
       "\t\t<td>1</td>\n",
       "\t\t<td>4</td>\n",
       "\t\t<td>751</td>\n",
       "\t\t<td>female</td>\n",
       "\t\t<td>S</td>\n",
       "\t\t<td>23.0</td>\n",
       "\t\t<td>10</td>\n",
       "\t\t<td>pclass_2</td>\n",
       "\t</tr>\n",
       "\t<tr>\n",
       "\t\t<td>1</td>\n",
       "\t\t<td>1</td>\n",
       "\t\t<td>0</td>\n",
       "\t\t<td>28</td>\n",
       "\t\t<td>432</td>\n",
       "\t\t<td>female</td>\n",
       "\t\t<td>S</td>\n",
       "\t\t<td>16.1</td>\n",
       "\t\t<td>83</td>\n",
       "\t\t<td>pclass_3</td>\n",
       "\t</tr>\n",
       "\t<tr>\n",
       "\t\t<td>1</td>\n",
       "\t\t<td>0</td>\n",
       "\t\t<td>0</td>\n",
       "\t\t<td>31</td>\n",
       "\t\t<td>19</td>\n",
       "\t\t<td>female</td>\n",
       "\t\t<td>S</td>\n",
       "\t\t<td>18.0</td>\n",
       "\t\t<td>19</td>\n",
       "\t\t<td>pclass_3</td>\n",
       "\t</tr>\n",
       "\t<tr>\n",
       "\t\t<td>1</td>\n",
       "\t\t<td>1</td>\n",
       "\t\t<td>1</td>\n",
       "\t\t<td>0</td>\n",
       "\t\t<td>832</td>\n",
       "\t\t<td>male</td>\n",
       "\t\t<td>S</td>\n",
       "\t\t<td>18.75</td>\n",
       "\t\t<td>131</td>\n",
       "\t\t<td>pclass_2</td>\n",
       "\t</tr>\n",
       "</table></html>"
      ],
      "text/plain": [
       "       survived  parch  age  passenger     sex embarked      fare   id    pclass\n",
       "sibsp                                                                           \n",
       "3             0      2   19         28    male        S  263.0000   46  pclass_1\n",
       "3             0      1   28        230  female        S   25.4667   50  pclass_3\n",
       "3             0      1    2          8    male        S   21.0750  136  pclass_3\n",
       "3             0      1   28        486  female        S   25.4667    8  pclass_3\n",
       "1             1      0   17        308  female        C  108.9000   64  pclass_1\n",
       "1             1      0   24        317  female        S   26.0000  155  pclass_2\n",
       "1             1      1    4        751  female        S   23.0000   10  pclass_2\n",
       "1             1      0   28        432  female        S   16.1000   83  pclass_3\n",
       "1             0      0   31         19  female        S   18.0000   19  pclass_3\n",
       "1             1      1    0        832    male        S   18.7500  131  pclass_2"
      ]
     },
     "metadata": {},
     "output_type": "display_data"
    },
    {
     "name": "stdout",
     "output_type": "stream",
     "text": [
      "                                                                                                 \r"
     ]
    },
    {
     "data": {
      "text/html": [
       "177 rows X 10 columns"
      ],
      "text/plain": [
       "<IPython.core.display.HTML object>"
      ]
     },
     "metadata": {},
     "output_type": "display_data"
    },
    {
     "name": "stdout",
     "output_type": "stream",
     "text": [
      "                                                                                                 \r"
     ]
    },
    {
     "data": {
      "text/html": [
       "\n",
       "Updated dataset after performing customized categorical encoding :"
      ],
      "text/plain": [
       "<IPython.core.display.HTML object>"
      ]
     },
     "metadata": {},
     "output_type": "display_data"
    },
    {
     "data": {
      "text/html": [
       "<style type=\"text/css\">\n",
       "\ttable {border:ridge 5px;}\n",
       "\ttable td {border:inset 1px;}\n",
       "\ttable tr#HeaderRow {background-color:grey; color:white;}</style>\n",
       "<html><table>\n",
       "\t<tr id=\"HeaderRow\">\n",
       "\t\t<th>embarked</th>\n",
       "\t\t<th>sibsp</th>\n",
       "\t\t<th>survived</th>\n",
       "\t\t<th>parch</th>\n",
       "\t\t<th>age</th>\n",
       "\t\t<th>passenger</th>\n",
       "\t\t<th>sex</th>\n",
       "\t\t<th>pclass</th>\n",
       "\t\t<th>fare</th>\n",
       "\t\t<th>id</th>\n",
       "\t</tr>\n",
       "\t<tr>\n",
       "\t\t<td>0.36363636363636365</td>\n",
       "\t\t<td>0</td>\n",
       "\t\t<td>1</td>\n",
       "\t\t<td>0</td>\n",
       "\t\t<td>15</td>\n",
       "\t\t<td>23</td>\n",
       "\t\t<td>female</td>\n",
       "\t\t<td>2</td>\n",
       "\t\t<td>8.0292</td>\n",
       "\t\t<td>191</td>\n",
       "\t</tr>\n",
       "\t<tr>\n",
       "\t\t<td>0.36363636363636365</td>\n",
       "\t\t<td>0</td>\n",
       "\t\t<td>1</td>\n",
       "\t\t<td>0</td>\n",
       "\t\t<td>28</td>\n",
       "\t\t<td>574</td>\n",
       "\t\t<td>female</td>\n",
       "\t\t<td>2</td>\n",
       "\t\t<td>7.75</td>\n",
       "\t\t<td>153</td>\n",
       "\t</tr>\n",
       "\t<tr>\n",
       "\t\t<td>0.36363636363636365</td>\n",
       "\t\t<td>0</td>\n",
       "\t\t<td>0</td>\n",
       "\t\t<td>0</td>\n",
       "\t\t<td>32</td>\n",
       "\t\t<td>891</td>\n",
       "\t\t<td>male</td>\n",
       "\t\t<td>2</td>\n",
       "\t\t<td>7.75</td>\n",
       "\t\t<td>98</td>\n",
       "\t</tr>\n",
       "\t<tr>\n",
       "\t\t<td>0.36363636363636365</td>\n",
       "\t\t<td>0</td>\n",
       "\t\t<td>1</td>\n",
       "\t\t<td>0</td>\n",
       "\t\t<td>16</td>\n",
       "\t\t<td>209</td>\n",
       "\t\t<td>female</td>\n",
       "\t\t<td>2</td>\n",
       "\t\t<td>7.75</td>\n",
       "\t\t<td>59</td>\n",
       "\t</tr>\n",
       "\t<tr>\n",
       "\t\t<td>0.36363636363636365</td>\n",
       "\t\t<td>0</td>\n",
       "\t\t<td>0</td>\n",
       "\t\t<td>0</td>\n",
       "\t\t<td>28</td>\n",
       "\t\t<td>826</td>\n",
       "\t\t<td>male</td>\n",
       "\t\t<td>2</td>\n",
       "\t\t<td>6.95</td>\n",
       "\t\t<td>164</td>\n",
       "\t</tr>\n",
       "\t<tr>\n",
       "\t\t<td>0.36363636363636365</td>\n",
       "\t\t<td>0</td>\n",
       "\t\t<td>0</td>\n",
       "\t\t<td>0</td>\n",
       "\t\t<td>18</td>\n",
       "\t\t<td>655</td>\n",
       "\t\t<td>female</td>\n",
       "\t\t<td>2</td>\n",
       "\t\t<td>6.75</td>\n",
       "\t\t<td>89</td>\n",
       "\t</tr>\n",
       "\t<tr>\n",
       "\t\t<td>0.33463796477495106</td>\n",
       "\t\t<td>0</td>\n",
       "\t\t<td>0</td>\n",
       "\t\t<td>0</td>\n",
       "\t\t<td>20</td>\n",
       "\t\t<td>841</td>\n",
       "\t\t<td>male</td>\n",
       "\t\t<td>2</td>\n",
       "\t\t<td>7.925</td>\n",
       "\t\t<td>171</td>\n",
       "\t</tr>\n",
       "\t<tr>\n",
       "\t\t<td>0.33463796477495106</td>\n",
       "\t\t<td>0</td>\n",
       "\t\t<td>1</td>\n",
       "\t\t<td>0</td>\n",
       "\t\t<td>44</td>\n",
       "\t\t<td>415</td>\n",
       "\t\t<td>male</td>\n",
       "\t\t<td>2</td>\n",
       "\t\t<td>7.925</td>\n",
       "\t\t<td>42</td>\n",
       "\t</tr>\n",
       "\t<tr>\n",
       "\t\t<td>0.33463796477495106</td>\n",
       "\t\t<td>0</td>\n",
       "\t\t<td>0</td>\n",
       "\t\t<td>0</td>\n",
       "\t\t<td>16</td>\n",
       "\t\t<td>575</td>\n",
       "\t\t<td>male</td>\n",
       "\t\t<td>2</td>\n",
       "\t\t<td>8.05</td>\n",
       "\t\t<td>58</td>\n",
       "\t</tr>\n",
       "\t<tr>\n",
       "\t\t<td>0.33463796477495106</td>\n",
       "\t\t<td>0</td>\n",
       "\t\t<td>1</td>\n",
       "\t\t<td>0</td>\n",
       "\t\t<td>28</td>\n",
       "\t\t<td>508</td>\n",
       "\t\t<td>male</td>\n",
       "\t\t<td>0</td>\n",
       "\t\t<td>26.55</td>\n",
       "\t\t<td>74</td>\n",
       "\t</tr>\n",
       "</table></html>"
      ],
      "text/plain": [
       "          sibsp  survived  parch  age  passenger     sex  pclass     fare   id\n",
       "embarked                                                                      \n",
       "0.363636      0         1      0   15         23  female       2   8.0292  191\n",
       "0.363636      0         1      0   28        574  female       2   7.7500  153\n",
       "0.363636      0         0      0   32        891    male       2   7.7500   98\n",
       "0.363636      0         1      0   16        209  female       2   7.7500   59\n",
       "0.363636      0         0      0   28        826    male       2   6.9500  164\n",
       "0.363636      0         0      0   18        655  female       2   6.7500   89\n",
       "0.334638      0         0      0   20        841    male       2   7.9250  171\n",
       "0.334638      0         1      0   44        415    male       2   7.9250   42\n",
       "0.334638      0         0      0   16        575    male       2   8.0500   58\n",
       "0.334638      0         1      0   28        508    male       0  26.5500   74"
      ]
     },
     "metadata": {},
     "output_type": "display_data"
    },
    {
     "name": "stdout",
     "output_type": "stream",
     "text": [
      "                                                                                                 \r"
     ]
    },
    {
     "data": {
      "text/html": [
       "177 rows X 10 columns"
      ],
      "text/plain": [
       "<IPython.core.display.HTML object>"
      ]
     },
     "metadata": {},
     "output_type": "display_data"
    },
    {
     "name": "stdout",
     "output_type": "stream",
     "text": [
      "                                                                                                 \r"
     ]
    },
    {
     "data": {
      "text/html": [
       "\n",
       "Updated dataset after performing categorical encoding :"
      ],
      "text/plain": [
       "<IPython.core.display.HTML object>"
      ]
     },
     "metadata": {},
     "output_type": "display_data"
    },
    {
     "data": {
      "text/html": [
       "<style type=\"text/css\">\n",
       "\ttable {border:ridge 5px;}\n",
       "\ttable td {border:inset 1px;}\n",
       "\ttable tr#HeaderRow {background-color:grey; color:white;}</style>\n",
       "<html><table>\n",
       "\t<tr id=\"HeaderRow\">\n",
       "\t\t<th>embarked</th>\n",
       "\t\t<th>sibsp</th>\n",
       "\t\t<th>survived</th>\n",
       "\t\t<th>parch</th>\n",
       "\t\t<th>age</th>\n",
       "\t\t<th>passenger</th>\n",
       "\t\t<th>sex_0</th>\n",
       "\t\t<th>sex_1</th>\n",
       "\t\t<th>pclass</th>\n",
       "\t\t<th>fare</th>\n",
       "\t\t<th>id</th>\n",
       "\t</tr>\n",
       "\t<tr>\n",
       "\t\t<td>0.33463796477495106</td>\n",
       "\t\t<td>0</td>\n",
       "\t\t<td>0</td>\n",
       "\t\t<td>0</td>\n",
       "\t\t<td>26</td>\n",
       "\t\t<td>620</td>\n",
       "\t\t<td>0</td>\n",
       "\t\t<td>1</td>\n",
       "\t\t<td>1</td>\n",
       "\t\t<td>10.5</td>\n",
       "\t\t<td>130</td>\n",
       "\t</tr>\n",
       "\t<tr>\n",
       "\t\t<td>0.33463796477495106</td>\n",
       "\t\t<td>0</td>\n",
       "\t\t<td>0</td>\n",
       "\t\t<td>0</td>\n",
       "\t\t<td>24</td>\n",
       "\t\t<td>865</td>\n",
       "\t\t<td>0</td>\n",
       "\t\t<td>1</td>\n",
       "\t\t<td>1</td>\n",
       "\t\t<td>13.0</td>\n",
       "\t\t<td>40</td>\n",
       "\t</tr>\n",
       "\t<tr>\n",
       "\t\t<td>0.33463796477495106</td>\n",
       "\t\t<td>0</td>\n",
       "\t\t<td>0</td>\n",
       "\t\t<td>0</td>\n",
       "\t\t<td>41</td>\n",
       "\t\t<td>762</td>\n",
       "\t\t<td>0</td>\n",
       "\t\t<td>1</td>\n",
       "\t\t<td>2</td>\n",
       "\t\t<td>7.125</td>\n",
       "\t\t<td>48</td>\n",
       "\t</tr>\n",
       "\t<tr>\n",
       "\t\t<td>0.33463796477495106</td>\n",
       "\t\t<td>0</td>\n",
       "\t\t<td>0</td>\n",
       "\t\t<td>0</td>\n",
       "\t\t<td>35</td>\n",
       "\t\t<td>5</td>\n",
       "\t\t<td>0</td>\n",
       "\t\t<td>1</td>\n",
       "\t\t<td>2</td>\n",
       "\t\t<td>8.05</td>\n",
       "\t\t<td>56</td>\n",
       "\t</tr>\n",
       "\t<tr>\n",
       "\t\t<td>0.33463796477495106</td>\n",
       "\t\t<td>0</td>\n",
       "\t\t<td>0</td>\n",
       "\t\t<td>0</td>\n",
       "\t\t<td>21</td>\n",
       "\t\t<td>73</td>\n",
       "\t\t<td>0</td>\n",
       "\t\t<td>1</td>\n",
       "\t\t<td>1</td>\n",
       "\t\t<td>73.5</td>\n",
       "\t\t<td>96</td>\n",
       "\t</tr>\n",
       "\t<tr>\n",
       "\t\t<td>0.33463796477495106</td>\n",
       "\t\t<td>0</td>\n",
       "\t\t<td>1</td>\n",
       "\t\t<td>0</td>\n",
       "\t\t<td>30</td>\n",
       "\t\t<td>521</td>\n",
       "\t\t<td>1</td>\n",
       "\t\t<td>0</td>\n",
       "\t\t<td>0</td>\n",
       "\t\t<td>93.5</td>\n",
       "\t\t<td>104</td>\n",
       "\t</tr>\n",
       "\t<tr>\n",
       "\t\t<td>0.36363636363636365</td>\n",
       "\t\t<td>0</td>\n",
       "\t\t<td>1</td>\n",
       "\t\t<td>0</td>\n",
       "\t\t<td>15</td>\n",
       "\t\t<td>23</td>\n",
       "\t\t<td>1</td>\n",
       "\t\t<td>0</td>\n",
       "\t\t<td>2</td>\n",
       "\t\t<td>8.0292</td>\n",
       "\t\t<td>191</td>\n",
       "\t</tr>\n",
       "\t<tr>\n",
       "\t\t<td>0.36363636363636365</td>\n",
       "\t\t<td>0</td>\n",
       "\t\t<td>1</td>\n",
       "\t\t<td>0</td>\n",
       "\t\t<td>28</td>\n",
       "\t\t<td>574</td>\n",
       "\t\t<td>1</td>\n",
       "\t\t<td>0</td>\n",
       "\t\t<td>2</td>\n",
       "\t\t<td>7.75</td>\n",
       "\t\t<td>153</td>\n",
       "\t</tr>\n",
       "\t<tr>\n",
       "\t\t<td>0.36363636363636365</td>\n",
       "\t\t<td>0</td>\n",
       "\t\t<td>0</td>\n",
       "\t\t<td>0</td>\n",
       "\t\t<td>32</td>\n",
       "\t\t<td>891</td>\n",
       "\t\t<td>0</td>\n",
       "\t\t<td>1</td>\n",
       "\t\t<td>2</td>\n",
       "\t\t<td>7.75</td>\n",
       "\t\t<td>98</td>\n",
       "\t</tr>\n",
       "\t<tr>\n",
       "\t\t<td>0.36363636363636365</td>\n",
       "\t\t<td>0</td>\n",
       "\t\t<td>1</td>\n",
       "\t\t<td>0</td>\n",
       "\t\t<td>16</td>\n",
       "\t\t<td>209</td>\n",
       "\t\t<td>1</td>\n",
       "\t\t<td>0</td>\n",
       "\t\t<td>2</td>\n",
       "\t\t<td>7.75</td>\n",
       "\t\t<td>59</td>\n",
       "\t</tr>\n",
       "</table></html>"
      ],
      "text/plain": [
       "          sibsp  survived  parch  age  passenger  sex_0  sex_1  pclass     fare   id\n",
       "embarked                                                                            \n",
       "0.334638      0         0      0   26        620      0      1       1  10.5000  130\n",
       "0.334638      0         0      0   24        865      0      1       1  13.0000   40\n",
       "0.334638      0         0      0   41        762      0      1       2   7.1250   48\n",
       "0.334638      0         0      0   35          5      0      1       2   8.0500   56\n",
       "0.334638      0         0      0   21         73      0      1       1  73.5000   96\n",
       "0.334638      0         1      0   30        521      1      0       0  93.5000  104\n",
       "0.363636      0         1      0   15         23      1      0       2   8.0292  191\n",
       "0.363636      0         1      0   28        574      1      0       2   7.7500  153\n",
       "0.363636      0         0      0   32        891      0      1       2   7.7500   98\n",
       "0.363636      0         1      0   16        209      1      0       2   7.7500   59"
      ]
     },
     "metadata": {},
     "output_type": "display_data"
    },
    {
     "name": "stdout",
     "output_type": "stream",
     "text": [
      "                                                                                                 \r"
     ]
    },
    {
     "data": {
      "text/html": [
       "177 rows X 11 columns"
      ],
      "text/plain": [
       "<IPython.core.display.HTML object>"
      ]
     },
     "metadata": {},
     "output_type": "display_data"
    },
    {
     "name": "stdout",
     "output_type": "stream",
     "text": [
      "                                                                                                 \r"
     ]
    },
    {
     "data": {
      "text/html": [
       "\n",
       "Updated dataset after performing customized non-linear transformation :"
      ],
      "text/plain": [
       "<IPython.core.display.HTML object>"
      ]
     },
     "metadata": {},
     "output_type": "display_data"
    },
    {
     "data": {
      "text/html": [
       "<style type=\"text/css\">\n",
       "\ttable {border:ridge 5px;}\n",
       "\ttable td {border:inset 1px;}\n",
       "\ttable tr#HeaderRow {background-color:grey; color:white;}</style>\n",
       "<html><table>\n",
       "\t<tr id=\"HeaderRow\">\n",
       "\t\t<th>embarked</th>\n",
       "\t\t<th>sibsp</th>\n",
       "\t\t<th>survived</th>\n",
       "\t\t<th>parch</th>\n",
       "\t\t<th>age</th>\n",
       "\t\t<th>passenger</th>\n",
       "\t\t<th>sex_0</th>\n",
       "\t\t<th>sex_1</th>\n",
       "\t\t<th>pclass</th>\n",
       "\t\t<th>fare</th>\n",
       "\t\t<th>id</th>\n",
       "\t\t<th>family_count</th>\n",
       "\t</tr>\n",
       "\t<tr>\n",
       "\t\t<td>0.33463796477495106</td>\n",
       "\t\t<td>0.0</td>\n",
       "\t\t<td>0</td>\n",
       "\t\t<td>0.0</td>\n",
       "\t\t<td>41</td>\n",
       "\t\t<td>762</td>\n",
       "\t\t<td>0</td>\n",
       "\t\t<td>1</td>\n",
       "\t\t<td>2</td>\n",
       "\t\t<td>7.125</td>\n",
       "\t\t<td>48</td>\n",
       "\t\t<td>1.0</td>\n",
       "\t</tr>\n",
       "\t<tr>\n",
       "\t\t<td>0.33463796477495106</td>\n",
       "\t\t<td>0.0</td>\n",
       "\t\t<td>0</td>\n",
       "\t\t<td>0.0</td>\n",
       "\t\t<td>21</td>\n",
       "\t\t<td>73</td>\n",
       "\t\t<td>0</td>\n",
       "\t\t<td>1</td>\n",
       "\t\t<td>1</td>\n",
       "\t\t<td>73.5</td>\n",
       "\t\t<td>96</td>\n",
       "\t\t<td>1.0</td>\n",
       "\t</tr>\n",
       "\t<tr>\n",
       "\t\t<td>0.33463796477495106</td>\n",
       "\t\t<td>0.0</td>\n",
       "\t\t<td>1</td>\n",
       "\t\t<td>0.0</td>\n",
       "\t\t<td>30</td>\n",
       "\t\t<td>521</td>\n",
       "\t\t<td>1</td>\n",
       "\t\t<td>0</td>\n",
       "\t\t<td>0</td>\n",
       "\t\t<td>93.5</td>\n",
       "\t\t<td>104</td>\n",
       "\t\t<td>1.0</td>\n",
       "\t</tr>\n",
       "\t<tr>\n",
       "\t\t<td>0.33463796477495106</td>\n",
       "\t\t<td>0.0</td>\n",
       "\t\t<td>0</td>\n",
       "\t\t<td>0.0</td>\n",
       "\t\t<td>24</td>\n",
       "\t\t<td>235</td>\n",
       "\t\t<td>0</td>\n",
       "\t\t<td>1</td>\n",
       "\t\t<td>1</td>\n",
       "\t\t<td>10.5</td>\n",
       "\t\t<td>112</td>\n",
       "\t\t<td>1.0</td>\n",
       "\t</tr>\n",
       "\t<tr>\n",
       "\t\t<td>0.33463796477495106</td>\n",
       "\t\t<td>0.0</td>\n",
       "\t\t<td>0</td>\n",
       "\t\t<td>0.0</td>\n",
       "\t\t<td>45</td>\n",
       "\t\t<td>130</td>\n",
       "\t\t<td>0</td>\n",
       "\t\t<td>1</td>\n",
       "\t\t<td>2</td>\n",
       "\t\t<td>6.975</td>\n",
       "\t\t<td>144</td>\n",
       "\t\t<td>1.0</td>\n",
       "\t</tr>\n",
       "\t<tr>\n",
       "\t\t<td>0.33463796477495106</td>\n",
       "\t\t<td>0.0</td>\n",
       "\t\t<td>0</td>\n",
       "\t\t<td>0.0</td>\n",
       "\t\t<td>28</td>\n",
       "\t\t<td>170</td>\n",
       "\t\t<td>0</td>\n",
       "\t\t<td>1</td>\n",
       "\t\t<td>2</td>\n",
       "\t\t<td>56.4958</td>\n",
       "\t\t<td>152</td>\n",
       "\t\t<td>1.0</td>\n",
       "\t</tr>\n",
       "\t<tr>\n",
       "\t\t<td>0.5579710144927537</td>\n",
       "\t\t<td>0.0</td>\n",
       "\t\t<td>1</td>\n",
       "\t\t<td>0.0</td>\n",
       "\t\t<td>30</td>\n",
       "\t\t<td>843</td>\n",
       "\t\t<td>1</td>\n",
       "\t\t<td>0</td>\n",
       "\t\t<td>0</td>\n",
       "\t\t<td>31.0</td>\n",
       "\t\t<td>163</td>\n",
       "\t\t<td>1.0</td>\n",
       "\t</tr>\n",
       "\t<tr>\n",
       "\t\t<td>0.5579710144927537</td>\n",
       "\t\t<td>0.0</td>\n",
       "\t\t<td>0</td>\n",
       "\t\t<td>0.0</td>\n",
       "\t\t<td>28</td>\n",
       "\t\t<td>27</td>\n",
       "\t\t<td>0</td>\n",
       "\t\t<td>1</td>\n",
       "\t\t<td>2</td>\n",
       "\t\t<td>7.225</td>\n",
       "\t\t<td>138</td>\n",
       "\t\t<td>1.0</td>\n",
       "\t</tr>\n",
       "\t<tr>\n",
       "\t\t<td>0.5579710144927537</td>\n",
       "\t\t<td>0.0</td>\n",
       "\t\t<td>1</td>\n",
       "\t\t<td>0.0</td>\n",
       "\t\t<td>42</td>\n",
       "\t\t<td>381</td>\n",
       "\t\t<td>1</td>\n",
       "\t\t<td>0</td>\n",
       "\t\t<td>0</td>\n",
       "\t\t<td>227.525</td>\n",
       "\t\t<td>16</td>\n",
       "\t\t<td>1.0</td>\n",
       "\t</tr>\n",
       "\t<tr>\n",
       "\t\t<td>0.5579710144927537</td>\n",
       "\t\t<td>0.0</td>\n",
       "\t\t<td>1</td>\n",
       "\t\t<td>1.0</td>\n",
       "\t\t<td>36</td>\n",
       "\t\t<td>680</td>\n",
       "\t\t<td>0</td>\n",
       "\t\t<td>1</td>\n",
       "\t\t<td>0</td>\n",
       "\t\t<td>512.3292</td>\n",
       "\t\t<td>41</td>\n",
       "\t\t<td>2.0</td>\n",
       "\t</tr>\n",
       "</table></html>"
      ],
      "text/plain": [
       "          sibsp  survived  parch  age  passenger  sex_0  sex_1  pclass      fare   id  family_count\n",
       "embarked                                                                                           \n",
       "0.334638    0.0         0    0.0   41        762      0      1       2    7.1250   48           1.0\n",
       "0.334638    0.0         0    0.0   21         73      0      1       1   73.5000   96           1.0\n",
       "0.334638    0.0         1    0.0   30        521      1      0       0   93.5000  104           1.0\n",
       "0.334638    0.0         0    0.0   24        235      0      1       1   10.5000  112           1.0\n",
       "0.334638    0.0         0    0.0   45        130      0      1       2    6.9750  144           1.0\n",
       "0.334638    0.0         0    0.0   28        170      0      1       2   56.4958  152           1.0\n",
       "0.557971    0.0         1    0.0   30        843      1      0       0   31.0000  163           1.0\n",
       "0.557971    0.0         0    0.0   28         27      0      1       2    7.2250  138           1.0\n",
       "0.557971    0.0         1    0.0   42        381      1      0       0  227.5250   16           1.0\n",
       "0.557971    0.0         1    1.0   36        680      0      1       0  512.3292   41           2.0"
      ]
     },
     "metadata": {},
     "output_type": "display_data"
    },
    {
     "name": "stdout",
     "output_type": "stream",
     "text": [
      "                                                                                                 \r"
     ]
    },
    {
     "data": {
      "text/html": [
       "177 rows X 12 columns"
      ],
      "text/plain": [
       "<IPython.core.display.HTML object>"
      ]
     },
     "metadata": {},
     "output_type": "display_data"
    },
    {
     "name": "stdout",
     "output_type": "stream",
     "text": [
      "                                                                                                  \r"
     ]
    },
    {
     "data": {
      "text/html": [
       "\n",
       "Updated dataset after performing customized anti-selection :"
      ],
      "text/plain": [
       "<IPython.core.display.HTML object>"
      ]
     },
     "metadata": {},
     "output_type": "display_data"
    },
    {
     "data": {
      "text/html": [
       "<style type=\"text/css\">\n",
       "\ttable {border:ridge 5px;}\n",
       "\ttable td {border:inset 1px;}\n",
       "\ttable tr#HeaderRow {background-color:grey; color:white;}</style>\n",
       "<html><table>\n",
       "\t<tr id=\"HeaderRow\">\n",
       "\t\t<th>embarked</th>\n",
       "\t\t<th>sibsp</th>\n",
       "\t\t<th>survived</th>\n",
       "\t\t<th>parch</th>\n",
       "\t\t<th>age</th>\n",
       "\t\t<th>sex_0</th>\n",
       "\t\t<th>sex_1</th>\n",
       "\t\t<th>pclass</th>\n",
       "\t\t<th>fare</th>\n",
       "\t\t<th>id</th>\n",
       "\t\t<th>family_count</th>\n",
       "\t</tr>\n",
       "\t<tr>\n",
       "\t\t<td>0.33463796477495106</td>\n",
       "\t\t<td>0.0</td>\n",
       "\t\t<td>0</td>\n",
       "\t\t<td>0.0</td>\n",
       "\t\t<td>41</td>\n",
       "\t\t<td>0</td>\n",
       "\t\t<td>1</td>\n",
       "\t\t<td>2</td>\n",
       "\t\t<td>7.125</td>\n",
       "\t\t<td>48</td>\n",
       "\t\t<td>1.0</td>\n",
       "\t</tr>\n",
       "\t<tr>\n",
       "\t\t<td>0.33463796477495106</td>\n",
       "\t\t<td>0.0</td>\n",
       "\t\t<td>0</td>\n",
       "\t\t<td>0.0</td>\n",
       "\t\t<td>21</td>\n",
       "\t\t<td>0</td>\n",
       "\t\t<td>1</td>\n",
       "\t\t<td>1</td>\n",
       "\t\t<td>73.5</td>\n",
       "\t\t<td>96</td>\n",
       "\t\t<td>1.0</td>\n",
       "\t</tr>\n",
       "\t<tr>\n",
       "\t\t<td>0.33463796477495106</td>\n",
       "\t\t<td>0.0</td>\n",
       "\t\t<td>1</td>\n",
       "\t\t<td>0.0</td>\n",
       "\t\t<td>30</td>\n",
       "\t\t<td>1</td>\n",
       "\t\t<td>0</td>\n",
       "\t\t<td>0</td>\n",
       "\t\t<td>93.5</td>\n",
       "\t\t<td>104</td>\n",
       "\t\t<td>1.0</td>\n",
       "\t</tr>\n",
       "\t<tr>\n",
       "\t\t<td>0.33463796477495106</td>\n",
       "\t\t<td>0.0</td>\n",
       "\t\t<td>0</td>\n",
       "\t\t<td>0.0</td>\n",
       "\t\t<td>24</td>\n",
       "\t\t<td>0</td>\n",
       "\t\t<td>1</td>\n",
       "\t\t<td>1</td>\n",
       "\t\t<td>10.5</td>\n",
       "\t\t<td>112</td>\n",
       "\t\t<td>1.0</td>\n",
       "\t</tr>\n",
       "\t<tr>\n",
       "\t\t<td>0.33463796477495106</td>\n",
       "\t\t<td>0.0</td>\n",
       "\t\t<td>0</td>\n",
       "\t\t<td>0.0</td>\n",
       "\t\t<td>45</td>\n",
       "\t\t<td>0</td>\n",
       "\t\t<td>1</td>\n",
       "\t\t<td>2</td>\n",
       "\t\t<td>6.975</td>\n",
       "\t\t<td>144</td>\n",
       "\t\t<td>1.0</td>\n",
       "\t</tr>\n",
       "\t<tr>\n",
       "\t\t<td>0.33463796477495106</td>\n",
       "\t\t<td>0.0</td>\n",
       "\t\t<td>0</td>\n",
       "\t\t<td>0.0</td>\n",
       "\t\t<td>28</td>\n",
       "\t\t<td>0</td>\n",
       "\t\t<td>1</td>\n",
       "\t\t<td>2</td>\n",
       "\t\t<td>56.4958</td>\n",
       "\t\t<td>152</td>\n",
       "\t\t<td>1.0</td>\n",
       "\t</tr>\n",
       "\t<tr>\n",
       "\t\t<td>0.36363636363636365</td>\n",
       "\t\t<td>0.0</td>\n",
       "\t\t<td>0</td>\n",
       "\t\t<td>0.0</td>\n",
       "\t\t<td>32</td>\n",
       "\t\t<td>0</td>\n",
       "\t\t<td>1</td>\n",
       "\t\t<td>2</td>\n",
       "\t\t<td>7.75</td>\n",
       "\t\t<td>98</td>\n",
       "\t\t<td>1.0</td>\n",
       "\t</tr>\n",
       "\t<tr>\n",
       "\t\t<td>0.36363636363636365</td>\n",
       "\t\t<td>0.0</td>\n",
       "\t\t<td>0</td>\n",
       "\t\t<td>0.0</td>\n",
       "\t\t<td>28</td>\n",
       "\t\t<td>0</td>\n",
       "\t\t<td>1</td>\n",
       "\t\t<td>2</td>\n",
       "\t\t<td>6.95</td>\n",
       "\t\t<td>164</td>\n",
       "\t\t<td>1.0</td>\n",
       "\t</tr>\n",
       "\t<tr>\n",
       "\t\t<td>0.36363636363636365</td>\n",
       "\t\t<td>0.0</td>\n",
       "\t\t<td>0</td>\n",
       "\t\t<td>0.0</td>\n",
       "\t\t<td>18</td>\n",
       "\t\t<td>1</td>\n",
       "\t\t<td>0</td>\n",
       "\t\t<td>2</td>\n",
       "\t\t<td>6.75</td>\n",
       "\t\t<td>89</td>\n",
       "\t\t<td>1.0</td>\n",
       "\t</tr>\n",
       "\t<tr>\n",
       "\t\t<td>0.36363636363636365</td>\n",
       "\t\t<td>0.0</td>\n",
       "\t\t<td>1</td>\n",
       "\t\t<td>0.0</td>\n",
       "\t\t<td>28</td>\n",
       "\t\t<td>1</td>\n",
       "\t\t<td>0</td>\n",
       "\t\t<td>2</td>\n",
       "\t\t<td>7.75</td>\n",
       "\t\t<td>114</td>\n",
       "\t\t<td>1.0</td>\n",
       "\t</tr>\n",
       "</table></html>"
      ],
      "text/plain": [
       "   embarked  sibsp  survived  parch  age  sex_0  sex_1  pclass     fare   id  family_count\n",
       "0  0.334638    0.0         0    0.0   41      0      1       2   7.1250   48           1.0\n",
       "1  0.334638    0.0         0    0.0   21      0      1       1  73.5000   96           1.0\n",
       "2  0.334638    0.0         1    0.0   30      1      0       0  93.5000  104           1.0\n",
       "3  0.334638    0.0         0    0.0   24      0      1       1  10.5000  112           1.0\n",
       "4  0.334638    0.0         0    0.0   45      0      1       2   6.9750  144           1.0\n",
       "5  0.334638    0.0         0    0.0   28      0      1       2  56.4958  152           1.0\n",
       "6  0.363636    0.0         0    0.0   32      0      1       2   7.7500   98           1.0\n",
       "7  0.363636    0.0         0    0.0   28      0      1       2   6.9500  164           1.0\n",
       "8  0.363636    0.0         0    0.0   18      1      0       2   6.7500   89           1.0\n",
       "9  0.363636    0.0         1    0.0   28      1      0       2   7.7500  114           1.0"
      ]
     },
     "metadata": {},
     "output_type": "display_data"
    },
    {
     "name": "stdout",
     "output_type": "stream",
     "text": [
      "                                                                                                  \r"
     ]
    },
    {
     "data": {
      "text/html": [
       "177 rows X 11 columns"
      ],
      "text/plain": [
       "<IPython.core.display.HTML object>"
      ]
     },
     "metadata": {},
     "output_type": "display_data"
    },
    {
     "name": "stdout",
     "output_type": "stream",
     "text": [
      "                                                                                                  \r"
     ]
    },
    {
     "data": {
      "text/html": [
       "Performing transformation carried out in data preparation phase ..."
      ],
      "text/plain": [
       "<IPython.core.display.HTML object>"
      ]
     },
     "metadata": {},
     "output_type": "display_data"
    },
    {
     "name": "stdout",
     "output_type": "stream",
     "text": [
      "                                                                                                  \r"
     ]
    },
    {
     "data": {
      "text/html": [
       "\n",
       "Updated dataset after performing Lasso feature selection:"
      ],
      "text/plain": [
       "<IPython.core.display.HTML object>"
      ]
     },
     "metadata": {},
     "output_type": "display_data"
    },
    {
     "data": {
      "text/html": [
       "<style type=\"text/css\">\n",
       "\ttable {border:ridge 5px;}\n",
       "\ttable td {border:inset 1px;}\n",
       "\ttable tr#HeaderRow {background-color:grey; color:white;}</style>\n",
       "<html><table>\n",
       "\t<tr id=\"HeaderRow\">\n",
       "\t\t<th>id</th>\n",
       "\t\t<th>sibsp</th>\n",
       "\t\t<th>sex_1</th>\n",
       "\t\t<th>family_count</th>\n",
       "\t\t<th>age</th>\n",
       "\t\t<th>pclass</th>\n",
       "\t\t<th>sex_0</th>\n",
       "\t\t<th>embarked</th>\n",
       "\t\t<th>fare</th>\n",
       "\t\t<th>survived</th>\n",
       "\t</tr>\n",
       "\t<tr>\n",
       "\t\t<td>69</td>\n",
       "\t\t<td>1.0</td>\n",
       "\t\t<td>0</td>\n",
       "\t\t<td>3.0</td>\n",
       "\t\t<td>28</td>\n",
       "\t\t<td>2</td>\n",
       "\t\t<td>1</td>\n",
       "\t\t<td>0.558</td>\n",
       "\t\t<td>22.3583</td>\n",
       "\t\t<td>1</td>\n",
       "\t</tr>\n",
       "\t<tr>\n",
       "\t\t<td>76</td>\n",
       "\t\t<td>1.0</td>\n",
       "\t\t<td>0</td>\n",
       "\t\t<td>2.0</td>\n",
       "\t\t<td>28</td>\n",
       "\t\t<td>2</td>\n",
       "\t\t<td>1</td>\n",
       "\t\t<td>0.558</td>\n",
       "\t\t<td>14.4583</td>\n",
       "\t\t<td>0</td>\n",
       "\t</tr>\n",
       "\t<tr>\n",
       "\t\t<td>53</td>\n",
       "\t\t<td>1.0</td>\n",
       "\t\t<td>0</td>\n",
       "\t\t<td>2.0</td>\n",
       "\t\t<td>54</td>\n",
       "\t\t<td>0</td>\n",
       "\t\t<td>1</td>\n",
       "\t\t<td>0.558</td>\n",
       "\t\t<td>78.2667</td>\n",
       "\t\t<td>1</td>\n",
       "\t</tr>\n",
       "\t<tr>\n",
       "\t\t<td>22</td>\n",
       "\t\t<td>0.0</td>\n",
       "\t\t<td>0</td>\n",
       "\t\t<td>1.0</td>\n",
       "\t\t<td>28</td>\n",
       "\t\t<td>0</td>\n",
       "\t\t<td>1</td>\n",
       "\t\t<td>0.558</td>\n",
       "\t\t<td>79.2</td>\n",
       "\t\t<td>1</td>\n",
       "\t</tr>\n",
       "\t<tr>\n",
       "\t\t<td>101</td>\n",
       "\t\t<td>1.0</td>\n",
       "\t\t<td>0</td>\n",
       "\t\t<td>3.0</td>\n",
       "\t\t<td>9</td>\n",
       "\t\t<td>2</td>\n",
       "\t\t<td>1</td>\n",
       "\t\t<td>0.558</td>\n",
       "\t\t<td>15.2458</td>\n",
       "\t\t<td>0</td>\n",
       "\t</tr>\n",
       "\t<tr>\n",
       "\t\t<td>147</td>\n",
       "\t\t<td>0.0</td>\n",
       "\t\t<td>0</td>\n",
       "\t\t<td>1.0</td>\n",
       "\t\t<td>44</td>\n",
       "\t\t<td>0</td>\n",
       "\t\t<td>1</td>\n",
       "\t\t<td>0.558</td>\n",
       "\t\t<td>27.7208</td>\n",
       "\t\t<td>1</td>\n",
       "\t</tr>\n",
       "\t<tr>\n",
       "\t\t<td>48</td>\n",
       "\t\t<td>0.0</td>\n",
       "\t\t<td>1</td>\n",
       "\t\t<td>1.0</td>\n",
       "\t\t<td>41</td>\n",
       "\t\t<td>2</td>\n",
       "\t\t<td>0</td>\n",
       "\t\t<td>0.3346</td>\n",
       "\t\t<td>7.125</td>\n",
       "\t\t<td>0</td>\n",
       "\t</tr>\n",
       "\t<tr>\n",
       "\t\t<td>96</td>\n",
       "\t\t<td>0.0</td>\n",
       "\t\t<td>1</td>\n",
       "\t\t<td>1.0</td>\n",
       "\t\t<td>21</td>\n",
       "\t\t<td>1</td>\n",
       "\t\t<td>0</td>\n",
       "\t\t<td>0.3346</td>\n",
       "\t\t<td>73.5</td>\n",
       "\t\t<td>0</td>\n",
       "\t</tr>\n",
       "\t<tr>\n",
       "\t\t<td>112</td>\n",
       "\t\t<td>0.0</td>\n",
       "\t\t<td>1</td>\n",
       "\t\t<td>1.0</td>\n",
       "\t\t<td>24</td>\n",
       "\t\t<td>1</td>\n",
       "\t\t<td>0</td>\n",
       "\t\t<td>0.3346</td>\n",
       "\t\t<td>10.5</td>\n",
       "\t\t<td>0</td>\n",
       "\t</tr>\n",
       "\t<tr>\n",
       "\t\t<td>128</td>\n",
       "\t\t<td>0.0</td>\n",
       "\t\t<td>1</td>\n",
       "\t\t<td>1.0</td>\n",
       "\t\t<td>51</td>\n",
       "\t\t<td>1</td>\n",
       "\t\t<td>0</td>\n",
       "\t\t<td>0.3346</td>\n",
       "\t\t<td>12.525</td>\n",
       "\t\t<td>0</td>\n",
       "\t</tr>\n",
       "</table></html>"
      ],
      "text/plain": [
       "        id  sibsp  family_count  age  pclass  sex_0  embarked     fare  survived\n",
       "sex_1                                                                           \n",
       "0       69    1.0           3.0   28       2      1    0.5580  22.3583         1\n",
       "0       76    1.0           2.0   28       2      1    0.5580  14.4583         0\n",
       "0       53    1.0           2.0   54       0      1    0.5580  78.2667         1\n",
       "0       22    0.0           1.0   28       0      1    0.5580  79.2000         1\n",
       "0      101    1.0           3.0    9       2      1    0.5580  15.2458         0\n",
       "0      147    0.0           1.0   44       0      1    0.5580  27.7208         1\n",
       "1       48    0.0           1.0   41       2      0    0.3346   7.1250         0\n",
       "1       96    0.0           1.0   21       1      0    0.3346  73.5000         0\n",
       "1      112    0.0           1.0   24       1      0    0.3346  10.5000         0\n",
       "1      128    0.0           1.0   51       1      0    0.3346  12.5250         0"
      ]
     },
     "metadata": {},
     "output_type": "display_data"
    },
    {
     "name": "stdout",
     "output_type": "stream",
     "text": [
      "                                                                                                  \r"
     ]
    },
    {
     "data": {
      "text/html": [
       "177 rows X 10 columns"
      ],
      "text/plain": [
       "<IPython.core.display.HTML object>"
      ]
     },
     "metadata": {},
     "output_type": "display_data"
    },
    {
     "name": "stdout",
     "output_type": "stream",
     "text": [
      "                                                                                                  \r"
     ]
    },
    {
     "data": {
      "text/html": [
       "\n",
       "Updated dataset after performing scaling on Lasso selected features :"
      ],
      "text/plain": [
       "<IPython.core.display.HTML object>"
      ]
     },
     "metadata": {},
     "output_type": "display_data"
    },
    {
     "data": {
      "text/html": [
       "<style type=\"text/css\">\n",
       "\ttable {border:ridge 5px;}\n",
       "\ttable td {border:inset 1px;}\n",
       "\ttable tr#HeaderRow {background-color:grey; color:white;}</style>\n",
       "<html><table>\n",
       "\t<tr id=\"HeaderRow\">\n",
       "\t\t<th>survived</th>\n",
       "\t\t<th>sex_0</th>\n",
       "\t\t<th>sex_1</th>\n",
       "\t\t<th>id</th>\n",
       "\t\t<th>sibsp</th>\n",
       "\t\t<th>family_count</th>\n",
       "\t\t<th>age</th>\n",
       "\t\t<th>pclass</th>\n",
       "\t\t<th>embarked</th>\n",
       "\t\t<th>fare</th>\n",
       "\t</tr>\n",
       "\t<tr>\n",
       "\t\t<td>0</td>\n",
       "\t\t<td>0</td>\n",
       "\t\t<td>1</td>\n",
       "\t\t<td>112</td>\n",
       "\t\t<td>0.0</td>\n",
       "\t\t<td>0.0</td>\n",
       "\t\t<td>0.4117647058823529</td>\n",
       "\t\t<td>0.5</td>\n",
       "\t\t<td>0.0</td>\n",
       "\t\t<td>0.1710677232678171</td>\n",
       "\t</tr>\n",
       "\t<tr>\n",
       "\t\t<td>0</td>\n",
       "\t\t<td>0</td>\n",
       "\t\t<td>1</td>\n",
       "\t\t<td>152</td>\n",
       "\t\t<td>0.0</td>\n",
       "\t\t<td>0.0</td>\n",
       "\t\t<td>0.49019607843137253</td>\n",
       "\t\t<td>1.0</td>\n",
       "\t\t<td>0.0</td>\n",
       "\t\t<td>0.9204388457327565</td>\n",
       "\t</tr>\n",
       "\t<tr>\n",
       "\t\t<td>0</td>\n",
       "\t\t<td>0</td>\n",
       "\t\t<td>1</td>\n",
       "\t\t<td>176</td>\n",
       "\t\t<td>0.0</td>\n",
       "\t\t<td>0.0</td>\n",
       "\t\t<td>0.29411764705882354</td>\n",
       "\t\t<td>0.5</td>\n",
       "\t\t<td>0.0</td>\n",
       "\t\t<td>0.1873598873885616</td>\n",
       "\t</tr>\n",
       "\t<tr>\n",
       "\t\t<td>1</td>\n",
       "\t\t<td>0</td>\n",
       "\t\t<td>1</td>\n",
       "\t\t<td>33</td>\n",
       "\t\t<td>0.0</td>\n",
       "\t\t<td>0.0</td>\n",
       "\t\t<td>0.49019607843137253</td>\n",
       "\t\t<td>1.0</td>\n",
       "\t\t<td>0.0</td>\n",
       "\t\t<td>0.9204388457327565</td>\n",
       "\t</tr>\n",
       "\t<tr>\n",
       "\t\t<td>0</td>\n",
       "\t\t<td>0</td>\n",
       "\t\t<td>1</td>\n",
       "\t\t<td>81</td>\n",
       "\t\t<td>0.0</td>\n",
       "\t\t<td>0.0</td>\n",
       "\t\t<td>0.803921568627451</td>\n",
       "\t\t<td>1.0</td>\n",
       "\t\t<td>0.0</td>\n",
       "\t\t<td>0.13115192117199315</td>\n",
       "\t</tr>\n",
       "\t<tr>\n",
       "\t\t<td>0</td>\n",
       "\t\t<td>0</td>\n",
       "\t\t<td>1</td>\n",
       "\t\t<td>97</td>\n",
       "\t\t<td>0.0</td>\n",
       "\t\t<td>0.0</td>\n",
       "\t\t<td>0.9411764705882353</td>\n",
       "\t\t<td>1.0</td>\n",
       "\t\t<td>0.0</td>\n",
       "\t\t<td>0.12626427193576978</td>\n",
       "\t</tr>\n",
       "\t<tr>\n",
       "\t\t<td>0</td>\n",
       "\t\t<td>1</td>\n",
       "\t\t<td>0</td>\n",
       "\t\t<td>30</td>\n",
       "\t\t<td>0.0</td>\n",
       "\t\t<td>0.5</td>\n",
       "\t\t<td>0.29411764705882354</td>\n",
       "\t\t<td>1.0</td>\n",
       "\t\t<td>7.703448275862078</td>\n",
       "\t\t<td>0.23549019863406498</td>\n",
       "\t</tr>\n",
       "\t<tr>\n",
       "\t\t<td>1</td>\n",
       "\t\t<td>1</td>\n",
       "\t\t<td>0</td>\n",
       "\t\t<td>100</td>\n",
       "\t\t<td>0.5</td>\n",
       "\t\t<td>0.5</td>\n",
       "\t\t<td>1.1176470588235294</td>\n",
       "\t\t<td>0.0</td>\n",
       "\t\t<td>7.703448275862078</td>\n",
       "\t\t<td>1.2259853500860227</td>\n",
       "\t</tr>\n",
       "\t<tr>\n",
       "\t\t<td>1</td>\n",
       "\t\t<td>1</td>\n",
       "\t\t<td>0</td>\n",
       "\t\t<td>69</td>\n",
       "\t\t<td>0.5</td>\n",
       "\t\t<td>1.0</td>\n",
       "\t\t<td>0.49019607843137253</td>\n",
       "\t\t<td>1.0</td>\n",
       "\t\t<td>7.703448275862078</td>\n",
       "\t\t<td>0.3642650930608415</td>\n",
       "\t</tr>\n",
       "\t<tr>\n",
       "\t\t<td>1</td>\n",
       "\t\t<td>1</td>\n",
       "\t\t<td>0</td>\n",
       "\t\t<td>64</td>\n",
       "\t\t<td>0.5</td>\n",
       "\t\t<td>0.5</td>\n",
       "\t\t<td>0.27450980392156865</td>\n",
       "\t\t<td>0.0</td>\n",
       "\t\t<td>7.703448275862078</td>\n",
       "\t\t<td>1.7742166727490747</td>\n",
       "\t</tr>\n",
       "</table></html>"
      ],
      "text/plain": [
       "   survived  sex_0  sex_1   id  sibsp  family_count       age  pclass  embarked      fare\n",
       "0         0      0      1  112    0.0           0.0  0.411765     0.5  0.000000  0.171068\n",
       "1         0      0      1  152    0.0           0.0  0.490196     1.0  0.000000  0.920439\n",
       "2         0      0      1  176    0.0           0.0  0.294118     0.5  0.000000  0.187360\n",
       "3         1      0      1   33    0.0           0.0  0.490196     1.0  0.000000  0.920439\n",
       "4         0      0      1   81    0.0           0.0  0.803922     1.0  0.000000  0.131152\n",
       "5         0      0      1   97    0.0           0.0  0.941176     1.0  0.000000  0.126264\n",
       "6         0      1      0   30    0.0           0.5  0.294118     1.0  7.703448  0.235490\n",
       "7         1      1      0  100    0.5           0.5  1.117647     0.0  7.703448  1.225985\n",
       "8         1      1      0   69    0.5           1.0  0.490196     1.0  7.703448  0.364265\n",
       "9         1      1      0   64    0.5           0.5  0.274510     0.0  7.703448  1.774217"
      ]
     },
     "metadata": {},
     "output_type": "display_data"
    },
    {
     "name": "stdout",
     "output_type": "stream",
     "text": [
      "                                                                                                  \r"
     ]
    },
    {
     "data": {
      "text/html": [
       "177 rows X 10 columns"
      ],
      "text/plain": [
       "<IPython.core.display.HTML object>"
      ]
     },
     "metadata": {},
     "output_type": "display_data"
    },
    {
     "name": "stdout",
     "output_type": "stream",
     "text": [
      "                                                                                                  \r"
     ]
    },
    {
     "data": {
      "text/html": [
       "\n",
       "Updated dataset after performing RFE feature selection:"
      ],
      "text/plain": [
       "<IPython.core.display.HTML object>"
      ]
     },
     "metadata": {},
     "output_type": "display_data"
    },
    {
     "data": {
      "text/html": [
       "<style type=\"text/css\">\n",
       "\ttable {border:ridge 5px;}\n",
       "\ttable td {border:inset 1px;}\n",
       "\ttable tr#HeaderRow {background-color:grey; color:white;}</style>\n",
       "<html><table>\n",
       "\t<tr id=\"HeaderRow\">\n",
       "\t\t<th>id</th>\n",
       "\t\t<th>sex_1</th>\n",
       "\t\t<th>age</th>\n",
       "\t\t<th>pclass</th>\n",
       "\t\t<th>sex_0</th>\n",
       "\t\t<th>embarked</th>\n",
       "\t\t<th>sibsp</th>\n",
       "\t\t<th>fare</th>\n",
       "\t\t<th>family_count</th>\n",
       "\t\t<th>survived</th>\n",
       "\t</tr>\n",
       "\t<tr>\n",
       "\t\t<td>112</td>\n",
       "\t\t<td>1</td>\n",
       "\t\t<td>24</td>\n",
       "\t\t<td>1</td>\n",
       "\t\t<td>0</td>\n",
       "\t\t<td>0.3346</td>\n",
       "\t\t<td>0.0</td>\n",
       "\t\t<td>10.5</td>\n",
       "\t\t<td>1.0</td>\n",
       "\t\t<td>0</td>\n",
       "\t</tr>\n",
       "\t<tr>\n",
       "\t\t<td>152</td>\n",
       "\t\t<td>1</td>\n",
       "\t\t<td>28</td>\n",
       "\t\t<td>2</td>\n",
       "\t\t<td>0</td>\n",
       "\t\t<td>0.3346</td>\n",
       "\t\t<td>0.0</td>\n",
       "\t\t<td>56.4958</td>\n",
       "\t\t<td>1.0</td>\n",
       "\t\t<td>0</td>\n",
       "\t</tr>\n",
       "\t<tr>\n",
       "\t\t<td>176</td>\n",
       "\t\t<td>1</td>\n",
       "\t\t<td>18</td>\n",
       "\t\t<td>1</td>\n",
       "\t\t<td>0</td>\n",
       "\t\t<td>0.3346</td>\n",
       "\t\t<td>0.0</td>\n",
       "\t\t<td>11.5</td>\n",
       "\t\t<td>1.0</td>\n",
       "\t\t<td>0</td>\n",
       "\t</tr>\n",
       "\t<tr>\n",
       "\t\t<td>33</td>\n",
       "\t\t<td>1</td>\n",
       "\t\t<td>28</td>\n",
       "\t\t<td>2</td>\n",
       "\t\t<td>0</td>\n",
       "\t\t<td>0.3346</td>\n",
       "\t\t<td>0.0</td>\n",
       "\t\t<td>56.4958</td>\n",
       "\t\t<td>1.0</td>\n",
       "\t\t<td>1</td>\n",
       "\t</tr>\n",
       "\t<tr>\n",
       "\t\t<td>81</td>\n",
       "\t\t<td>1</td>\n",
       "\t\t<td>44</td>\n",
       "\t\t<td>2</td>\n",
       "\t\t<td>0</td>\n",
       "\t\t<td>0.3346</td>\n",
       "\t\t<td>0.0</td>\n",
       "\t\t<td>8.05</td>\n",
       "\t\t<td>1.0</td>\n",
       "\t\t<td>0</td>\n",
       "\t</tr>\n",
       "\t<tr>\n",
       "\t\t<td>97</td>\n",
       "\t\t<td>1</td>\n",
       "\t\t<td>51</td>\n",
       "\t\t<td>2</td>\n",
       "\t\t<td>0</td>\n",
       "\t\t<td>0.3346</td>\n",
       "\t\t<td>0.0</td>\n",
       "\t\t<td>7.75</td>\n",
       "\t\t<td>1.0</td>\n",
       "\t\t<td>0</td>\n",
       "\t</tr>\n",
       "\t<tr>\n",
       "\t\t<td>30</td>\n",
       "\t\t<td>0</td>\n",
       "\t\t<td>18</td>\n",
       "\t\t<td>2</td>\n",
       "\t\t<td>1</td>\n",
       "\t\t<td>0.558</td>\n",
       "\t\t<td>0.0</td>\n",
       "\t\t<td>14.4542</td>\n",
       "\t\t<td>2.0</td>\n",
       "\t\t<td>0</td>\n",
       "\t</tr>\n",
       "\t<tr>\n",
       "\t\t<td>100</td>\n",
       "\t\t<td>0</td>\n",
       "\t\t<td>60</td>\n",
       "\t\t<td>0</td>\n",
       "\t\t<td>1</td>\n",
       "\t\t<td>0.558</td>\n",
       "\t\t<td>1.0</td>\n",
       "\t\t<td>75.25</td>\n",
       "\t\t<td>2.0</td>\n",
       "\t\t<td>1</td>\n",
       "\t</tr>\n",
       "\t<tr>\n",
       "\t\t<td>69</td>\n",
       "\t\t<td>0</td>\n",
       "\t\t<td>28</td>\n",
       "\t\t<td>2</td>\n",
       "\t\t<td>1</td>\n",
       "\t\t<td>0.558</td>\n",
       "\t\t<td>1.0</td>\n",
       "\t\t<td>22.3583</td>\n",
       "\t\t<td>3.0</td>\n",
       "\t\t<td>1</td>\n",
       "\t</tr>\n",
       "\t<tr>\n",
       "\t\t<td>64</td>\n",
       "\t\t<td>0</td>\n",
       "\t\t<td>17</td>\n",
       "\t\t<td>0</td>\n",
       "\t\t<td>1</td>\n",
       "\t\t<td>0.558</td>\n",
       "\t\t<td>1.0</td>\n",
       "\t\t<td>108.9</td>\n",
       "\t\t<td>2.0</td>\n",
       "\t\t<td>1</td>\n",
       "\t</tr>\n",
       "</table></html>"
      ],
      "text/plain": [
       "        id  age  pclass  sex_0  embarked  sibsp      fare  family_count  survived\n",
       "sex_1                                                                            \n",
       "1      112   24       1      0    0.3346    0.0   10.5000           1.0         0\n",
       "1      152   28       2      0    0.3346    0.0   56.4958           1.0         0\n",
       "1      176   18       1      0    0.3346    0.0   11.5000           1.0         0\n",
       "1       33   28       2      0    0.3346    0.0   56.4958           1.0         1\n",
       "1       81   44       2      0    0.3346    0.0    8.0500           1.0         0\n",
       "1       97   51       2      0    0.3346    0.0    7.7500           1.0         0\n",
       "0       30   18       2      1    0.5580    0.0   14.4542           2.0         0\n",
       "0      100   60       0      1    0.5580    1.0   75.2500           2.0         1\n",
       "0       69   28       2      1    0.5580    1.0   22.3583           3.0         1\n",
       "0       64   17       0      1    0.5580    1.0  108.9000           2.0         1"
      ]
     },
     "metadata": {},
     "output_type": "display_data"
    },
    {
     "name": "stdout",
     "output_type": "stream",
     "text": [
      "                                                                                                  \r"
     ]
    },
    {
     "data": {
      "text/html": [
       "177 rows X 10 columns"
      ],
      "text/plain": [
       "<IPython.core.display.HTML object>"
      ]
     },
     "metadata": {},
     "output_type": "display_data"
    },
    {
     "name": "stdout",
     "output_type": "stream",
     "text": [
      "                                                                                                  \r"
     ]
    },
    {
     "data": {
      "text/html": [
       "\n",
       "Updated dataset after performing scaling on RFE selected features :"
      ],
      "text/plain": [
       "<IPython.core.display.HTML object>"
      ]
     },
     "metadata": {},
     "output_type": "display_data"
    },
    {
     "data": {
      "text/html": [
       "<style type=\"text/css\">\n",
       "\ttable {border:ridge 5px;}\n",
       "\ttable td {border:inset 1px;}\n",
       "\ttable tr#HeaderRow {background-color:grey; color:white;}</style>\n",
       "<html><table>\n",
       "\t<tr id=\"HeaderRow\">\n",
       "\t\t<th>survived</th>\n",
       "\t\t<th>r_sex_0</th>\n",
       "\t\t<th>r_sex_1</th>\n",
       "\t\t<th>id</th>\n",
       "\t\t<th>r_age</th>\n",
       "\t\t<th>r_pclass</th>\n",
       "\t\t<th>r_embarked</th>\n",
       "\t\t<th>r_sibsp</th>\n",
       "\t\t<th>r_fare</th>\n",
       "\t\t<th>r_family_count</th>\n",
       "\t</tr>\n",
       "\t<tr>\n",
       "\t\t<td>0</td>\n",
       "\t\t<td>0</td>\n",
       "\t\t<td>1</td>\n",
       "\t\t<td>112</td>\n",
       "\t\t<td>0.4117647058823529</td>\n",
       "\t\t<td>0.5</td>\n",
       "\t\t<td>0.0</td>\n",
       "\t\t<td>0.0</td>\n",
       "\t\t<td>0.1710677232678171</td>\n",
       "\t\t<td>0.0</td>\n",
       "\t</tr>\n",
       "\t<tr>\n",
       "\t\t<td>0</td>\n",
       "\t\t<td>0</td>\n",
       "\t\t<td>1</td>\n",
       "\t\t<td>152</td>\n",
       "\t\t<td>0.49019607843137253</td>\n",
       "\t\t<td>1.0</td>\n",
       "\t\t<td>0.0</td>\n",
       "\t\t<td>0.0</td>\n",
       "\t\t<td>0.9204388457327565</td>\n",
       "\t\t<td>0.0</td>\n",
       "\t</tr>\n",
       "\t<tr>\n",
       "\t\t<td>0</td>\n",
       "\t\t<td>0</td>\n",
       "\t\t<td>1</td>\n",
       "\t\t<td>176</td>\n",
       "\t\t<td>0.29411764705882354</td>\n",
       "\t\t<td>0.5</td>\n",
       "\t\t<td>0.0</td>\n",
       "\t\t<td>0.0</td>\n",
       "\t\t<td>0.1873598873885616</td>\n",
       "\t\t<td>0.0</td>\n",
       "\t</tr>\n",
       "\t<tr>\n",
       "\t\t<td>1</td>\n",
       "\t\t<td>0</td>\n",
       "\t\t<td>1</td>\n",
       "\t\t<td>33</td>\n",
       "\t\t<td>0.49019607843137253</td>\n",
       "\t\t<td>1.0</td>\n",
       "\t\t<td>0.0</td>\n",
       "\t\t<td>0.0</td>\n",
       "\t\t<td>0.9204388457327565</td>\n",
       "\t\t<td>0.0</td>\n",
       "\t</tr>\n",
       "\t<tr>\n",
       "\t\t<td>0</td>\n",
       "\t\t<td>0</td>\n",
       "\t\t<td>1</td>\n",
       "\t\t<td>81</td>\n",
       "\t\t<td>0.803921568627451</td>\n",
       "\t\t<td>1.0</td>\n",
       "\t\t<td>0.0</td>\n",
       "\t\t<td>0.0</td>\n",
       "\t\t<td>0.13115192117199315</td>\n",
       "\t\t<td>0.0</td>\n",
       "\t</tr>\n",
       "\t<tr>\n",
       "\t\t<td>0</td>\n",
       "\t\t<td>0</td>\n",
       "\t\t<td>1</td>\n",
       "\t\t<td>97</td>\n",
       "\t\t<td>0.9411764705882353</td>\n",
       "\t\t<td>1.0</td>\n",
       "\t\t<td>0.0</td>\n",
       "\t\t<td>0.0</td>\n",
       "\t\t<td>0.12626427193576978</td>\n",
       "\t\t<td>0.0</td>\n",
       "\t</tr>\n",
       "\t<tr>\n",
       "\t\t<td>0</td>\n",
       "\t\t<td>1</td>\n",
       "\t\t<td>0</td>\n",
       "\t\t<td>30</td>\n",
       "\t\t<td>0.29411764705882354</td>\n",
       "\t\t<td>1.0</td>\n",
       "\t\t<td>7.703448275862078</td>\n",
       "\t\t<td>0.0</td>\n",
       "\t\t<td>0.23549019863406498</td>\n",
       "\t\t<td>0.5</td>\n",
       "\t</tr>\n",
       "\t<tr>\n",
       "\t\t<td>1</td>\n",
       "\t\t<td>1</td>\n",
       "\t\t<td>0</td>\n",
       "\t\t<td>100</td>\n",
       "\t\t<td>1.1176470588235294</td>\n",
       "\t\t<td>0.0</td>\n",
       "\t\t<td>7.703448275862078</td>\n",
       "\t\t<td>0.5</td>\n",
       "\t\t<td>1.2259853500860227</td>\n",
       "\t\t<td>0.5</td>\n",
       "\t</tr>\n",
       "\t<tr>\n",
       "\t\t<td>1</td>\n",
       "\t\t<td>1</td>\n",
       "\t\t<td>0</td>\n",
       "\t\t<td>69</td>\n",
       "\t\t<td>0.49019607843137253</td>\n",
       "\t\t<td>1.0</td>\n",
       "\t\t<td>7.703448275862078</td>\n",
       "\t\t<td>0.5</td>\n",
       "\t\t<td>0.3642650930608415</td>\n",
       "\t\t<td>1.0</td>\n",
       "\t</tr>\n",
       "\t<tr>\n",
       "\t\t<td>1</td>\n",
       "\t\t<td>1</td>\n",
       "\t\t<td>0</td>\n",
       "\t\t<td>64</td>\n",
       "\t\t<td>0.27450980392156865</td>\n",
       "\t\t<td>0.0</td>\n",
       "\t\t<td>7.703448275862078</td>\n",
       "\t\t<td>0.5</td>\n",
       "\t\t<td>1.7742166727490747</td>\n",
       "\t\t<td>0.5</td>\n",
       "\t</tr>\n",
       "</table></html>"
      ],
      "text/plain": [
       "   survived  r_sex_0  r_sex_1   id     r_age  r_pclass  r_embarked  r_sibsp    r_fare  r_family_count\n",
       "0         0        0        1  112  0.411765       0.5    0.000000      0.0  0.171068             0.0\n",
       "1         0        0        1  152  0.490196       1.0    0.000000      0.0  0.920439             0.0\n",
       "2         0        0        1  176  0.294118       0.5    0.000000      0.0  0.187360             0.0\n",
       "3         1        0        1   33  0.490196       1.0    0.000000      0.0  0.920439             0.0\n",
       "4         0        0        1   81  0.803922       1.0    0.000000      0.0  0.131152             0.0\n",
       "5         0        0        1   97  0.941176       1.0    0.000000      0.0  0.126264             0.0\n",
       "6         0        1        0   30  0.294118       1.0    7.703448      0.0  0.235490             0.5\n",
       "7         1        1        0  100  1.117647       0.0    7.703448      0.5  1.225985             0.5\n",
       "8         1        1        0   69  0.490196       1.0    7.703448      0.5  0.364265             1.0\n",
       "9         1        1        0   64  0.274510       0.0    7.703448      0.5  1.774217             0.5"
      ]
     },
     "metadata": {},
     "output_type": "display_data"
    },
    {
     "name": "stdout",
     "output_type": "stream",
     "text": [
      "                                                                                                  \r"
     ]
    },
    {
     "data": {
      "text/html": [
       "177 rows X 10 columns"
      ],
      "text/plain": [
       "<IPython.core.display.HTML object>"
      ]
     },
     "metadata": {},
     "output_type": "display_data"
    },
    {
     "name": "stdout",
     "output_type": "stream",
     "text": [
      "                                                                                                  \r"
     ]
    },
    {
     "data": {
      "text/html": [
       "\n",
       "Updated dataset after performing scaling for PCA feature selection :"
      ],
      "text/plain": [
       "<IPython.core.display.HTML object>"
      ]
     },
     "metadata": {},
     "output_type": "display_data"
    },
    {
     "data": {
      "text/html": [
       "<style type=\"text/css\">\n",
       "\ttable {border:ridge 5px;}\n",
       "\ttable td {border:inset 1px;}\n",
       "\ttable tr#HeaderRow {background-color:grey; color:white;}</style>\n",
       "<html><table>\n",
       "\t<tr id=\"HeaderRow\">\n",
       "\t\t<th>sex_1</th>\n",
       "\t\t<th>survived</th>\n",
       "\t\t<th>parch</th>\n",
       "\t\t<th>sex_0</th>\n",
       "\t\t<th>id</th>\n",
       "\t\t<th>embarked</th>\n",
       "\t\t<th>age</th>\n",
       "\t\t<th>pclass</th>\n",
       "\t\t<th>sibsp</th>\n",
       "\t\t<th>fare</th>\n",
       "\t\t<th>family_count</th>\n",
       "\t</tr>\n",
       "\t<tr>\n",
       "\t\t<td>1</td>\n",
       "\t\t<td>0</td>\n",
       "\t\t<td>0.0</td>\n",
       "\t\t<td>0</td>\n",
       "\t\t<td>112</td>\n",
       "\t\t<td>-0.001309202453986794</td>\n",
       "\t\t<td>0.4117647058823529</td>\n",
       "\t\t<td>0.5</td>\n",
       "\t\t<td>0.0</td>\n",
       "\t\t<td>0.1710677232678171</td>\n",
       "\t\t<td>0.0</td>\n",
       "\t</tr>\n",
       "\t<tr>\n",
       "\t\t<td>1</td>\n",
       "\t\t<td>0</td>\n",
       "\t\t<td>0.0</td>\n",
       "\t\t<td>0</td>\n",
       "\t\t<td>152</td>\n",
       "\t\t<td>-0.001309202453986794</td>\n",
       "\t\t<td>0.49019607843137253</td>\n",
       "\t\t<td>1.0</td>\n",
       "\t\t<td>0.0</td>\n",
       "\t\t<td>0.9204388457327565</td>\n",
       "\t\t<td>0.0</td>\n",
       "\t</tr>\n",
       "\t<tr>\n",
       "\t\t<td>1</td>\n",
       "\t\t<td>0</td>\n",
       "\t\t<td>0.0</td>\n",
       "\t\t<td>0</td>\n",
       "\t\t<td>176</td>\n",
       "\t\t<td>-0.001309202453986794</td>\n",
       "\t\t<td>0.29411764705882354</td>\n",
       "\t\t<td>0.5</td>\n",
       "\t\t<td>0.0</td>\n",
       "\t\t<td>0.1873598873885616</td>\n",
       "\t\t<td>0.0</td>\n",
       "\t</tr>\n",
       "\t<tr>\n",
       "\t\t<td>1</td>\n",
       "\t\t<td>1</td>\n",
       "\t\t<td>0.0</td>\n",
       "\t\t<td>0</td>\n",
       "\t\t<td>33</td>\n",
       "\t\t<td>-0.001309202453986794</td>\n",
       "\t\t<td>0.49019607843137253</td>\n",
       "\t\t<td>1.0</td>\n",
       "\t\t<td>0.0</td>\n",
       "\t\t<td>0.9204388457327565</td>\n",
       "\t\t<td>0.0</td>\n",
       "\t</tr>\n",
       "\t<tr>\n",
       "\t\t<td>1</td>\n",
       "\t\t<td>0</td>\n",
       "\t\t<td>0.0</td>\n",
       "\t\t<td>0</td>\n",
       "\t\t<td>81</td>\n",
       "\t\t<td>-0.001309202453986794</td>\n",
       "\t\t<td>0.803921568627451</td>\n",
       "\t\t<td>1.0</td>\n",
       "\t\t<td>0.0</td>\n",
       "\t\t<td>0.13115192117199315</td>\n",
       "\t\t<td>0.0</td>\n",
       "\t</tr>\n",
       "\t<tr>\n",
       "\t\t<td>1</td>\n",
       "\t\t<td>0</td>\n",
       "\t\t<td>0.0</td>\n",
       "\t\t<td>0</td>\n",
       "\t\t<td>97</td>\n",
       "\t\t<td>-0.001309202453986794</td>\n",
       "\t\t<td>0.9411764705882353</td>\n",
       "\t\t<td>1.0</td>\n",
       "\t\t<td>0.0</td>\n",
       "\t\t<td>0.12626427193576978</td>\n",
       "\t\t<td>0.0</td>\n",
       "\t</tr>\n",
       "\t<tr>\n",
       "\t\t<td>0</td>\n",
       "\t\t<td>0</td>\n",
       "\t\t<td>1.0</td>\n",
       "\t\t<td>1</td>\n",
       "\t\t<td>30</td>\n",
       "\t\t<td>7.702564417177909</td>\n",
       "\t\t<td>0.29411764705882354</td>\n",
       "\t\t<td>1.0</td>\n",
       "\t\t<td>0.0</td>\n",
       "\t\t<td>0.23549019863406498</td>\n",
       "\t\t<td>0.5</td>\n",
       "\t</tr>\n",
       "\t<tr>\n",
       "\t\t<td>0</td>\n",
       "\t\t<td>1</td>\n",
       "\t\t<td>0.0</td>\n",
       "\t\t<td>1</td>\n",
       "\t\t<td>100</td>\n",
       "\t\t<td>7.702564417177909</td>\n",
       "\t\t<td>1.1176470588235294</td>\n",
       "\t\t<td>0.0</td>\n",
       "\t\t<td>0.5</td>\n",
       "\t\t<td>1.2259853500860227</td>\n",
       "\t\t<td>0.5</td>\n",
       "\t</tr>\n",
       "\t<tr>\n",
       "\t\t<td>0</td>\n",
       "\t\t<td>1</td>\n",
       "\t\t<td>1.0</td>\n",
       "\t\t<td>1</td>\n",
       "\t\t<td>69</td>\n",
       "\t\t<td>7.702564417177909</td>\n",
       "\t\t<td>0.49019607843137253</td>\n",
       "\t\t<td>1.0</td>\n",
       "\t\t<td>0.5</td>\n",
       "\t\t<td>0.3642650930608415</td>\n",
       "\t\t<td>1.0</td>\n",
       "\t</tr>\n",
       "\t<tr>\n",
       "\t\t<td>0</td>\n",
       "\t\t<td>1</td>\n",
       "\t\t<td>0.0</td>\n",
       "\t\t<td>1</td>\n",
       "\t\t<td>64</td>\n",
       "\t\t<td>7.702564417177909</td>\n",
       "\t\t<td>0.27450980392156865</td>\n",
       "\t\t<td>0.0</td>\n",
       "\t\t<td>0.5</td>\n",
       "\t\t<td>1.7742166727490747</td>\n",
       "\t\t<td>0.5</td>\n",
       "\t</tr>\n",
       "</table></html>"
      ],
      "text/plain": [
       "   sex_1  survived  parch  sex_0   id  embarked       age  pclass  sibsp      fare  family_count\n",
       "0      1         0    0.0      0  112 -0.001309  0.411765     0.5    0.0  0.171068           0.0\n",
       "1      1         0    0.0      0  152 -0.001309  0.490196     1.0    0.0  0.920439           0.0\n",
       "2      1         0    0.0      0  176 -0.001309  0.294118     0.5    0.0  0.187360           0.0\n",
       "3      1         1    0.0      0   33 -0.001309  0.490196     1.0    0.0  0.920439           0.0\n",
       "4      1         0    0.0      0   81 -0.001309  0.803922     1.0    0.0  0.131152           0.0\n",
       "5      1         0    0.0      0   97 -0.001309  0.941176     1.0    0.0  0.126264           0.0\n",
       "6      0         0    1.0      1   30  7.702564  0.294118     1.0    0.0  0.235490           0.5\n",
       "7      0         1    0.0      1  100  7.702564  1.117647     0.0    0.5  1.225985           0.5\n",
       "8      0         1    1.0      1   69  7.702564  0.490196     1.0    0.5  0.364265           1.0\n",
       "9      0         1    0.0      1   64  7.702564  0.274510     0.0    0.5  1.774217           0.5"
      ]
     },
     "metadata": {},
     "output_type": "display_data"
    },
    {
     "name": "stdout",
     "output_type": "stream",
     "text": [
      "                                                                                                  \r"
     ]
    },
    {
     "data": {
      "text/html": [
       "177 rows X 11 columns"
      ],
      "text/plain": [
       "<IPython.core.display.HTML object>"
      ]
     },
     "metadata": {},
     "output_type": "display_data"
    },
    {
     "name": "stdout",
     "output_type": "stream",
     "text": [
      "                                                                                                  \r"
     ]
    },
    {
     "name": "stderr",
     "output_type": "stream",
     "text": [
      "C:\\ProgramData\\anaconda3\\lib\\site-packages\\sklearn\\base.py:450: UserWarning: X does not have valid feature names, but PCA was fitted with feature names\n",
      "  warnings.warn(\n"
     ]
    },
    {
     "data": {
      "text/html": [
       "\n",
       "Updated dataset after performing PCA feature selection :"
      ],
      "text/plain": [
       "<IPython.core.display.HTML object>"
      ]
     },
     "metadata": {},
     "output_type": "display_data"
    },
    {
     "data": {
      "text/html": [
       "<div>\n",
       "<style scoped>\n",
       "    .dataframe tbody tr th:only-of-type {\n",
       "        vertical-align: middle;\n",
       "    }\n",
       "\n",
       "    .dataframe tbody tr th {\n",
       "        vertical-align: top;\n",
       "    }\n",
       "\n",
       "    .dataframe thead th {\n",
       "        text-align: right;\n",
       "    }\n",
       "</style>\n",
       "<table border=\"1\" class=\"dataframe\">\n",
       "  <thead>\n",
       "    <tr style=\"text-align: right;\">\n",
       "      <th></th>\n",
       "      <th>id</th>\n",
       "      <th>col_0</th>\n",
       "      <th>col_1</th>\n",
       "      <th>col_2</th>\n",
       "      <th>col_3</th>\n",
       "      <th>col_4</th>\n",
       "      <th>col_5</th>\n",
       "      <th>survived</th>\n",
       "    </tr>\n",
       "  </thead>\n",
       "  <tbody>\n",
       "    <tr>\n",
       "      <th>0</th>\n",
       "      <td>48</td>\n",
       "      <td>-0.604079</td>\n",
       "      <td>-0.251408</td>\n",
       "      <td>-0.082146</td>\n",
       "      <td>-0.116307</td>\n",
       "      <td>-0.141388</td>\n",
       "      <td>-0.241917</td>\n",
       "      <td>0</td>\n",
       "    </tr>\n",
       "    <tr>\n",
       "      <th>1</th>\n",
       "      <td>30</td>\n",
       "      <td>1.083819</td>\n",
       "      <td>-2.515037</td>\n",
       "      <td>0.920687</td>\n",
       "      <td>7.062517</td>\n",
       "      <td>0.789084</td>\n",
       "      <td>0.377344</td>\n",
       "      <td>0</td>\n",
       "    </tr>\n",
       "    <tr>\n",
       "      <th>2</th>\n",
       "      <td>96</td>\n",
       "      <td>-0.439311</td>\n",
       "      <td>0.376303</td>\n",
       "      <td>-0.260180</td>\n",
       "      <td>0.024478</td>\n",
       "      <td>-0.076691</td>\n",
       "      <td>0.327340</td>\n",
       "      <td>0</td>\n",
       "    </tr>\n",
       "    <tr>\n",
       "      <th>3</th>\n",
       "      <td>100</td>\n",
       "      <td>1.388431</td>\n",
       "      <td>-1.238005</td>\n",
       "      <td>0.658307</td>\n",
       "      <td>7.497925</td>\n",
       "      <td>-0.008191</td>\n",
       "      <td>0.191678</td>\n",
       "      <td>1</td>\n",
       "    </tr>\n",
       "    <tr>\n",
       "      <th>4</th>\n",
       "      <td>112</td>\n",
       "      <td>-0.508756</td>\n",
       "      <td>0.115662</td>\n",
       "      <td>-0.259576</td>\n",
       "      <td>-0.036426</td>\n",
       "      <td>0.114863</td>\n",
       "      <td>0.093730</td>\n",
       "      <td>0</td>\n",
       "    </tr>\n",
       "    <tr>\n",
       "      <th>5</th>\n",
       "      <td>69</td>\n",
       "      <td>1.222904</td>\n",
       "      <td>-2.182757</td>\n",
       "      <td>1.518028</td>\n",
       "      <td>7.114807</td>\n",
       "      <td>0.549365</td>\n",
       "      <td>0.286522</td>\n",
       "      <td>1</td>\n",
       "    </tr>\n",
       "    <tr>\n",
       "      <th>6</th>\n",
       "      <td>128</td>\n",
       "      <td>-0.505860</td>\n",
       "      <td>0.195651</td>\n",
       "      <td>-0.310560</td>\n",
       "      <td>0.035997</td>\n",
       "      <td>-0.172383</td>\n",
       "      <td>-0.335267</td>\n",
       "      <td>0</td>\n",
       "    </tr>\n",
       "    <tr>\n",
       "      <th>7</th>\n",
       "      <td>64</td>\n",
       "      <td>1.424510</td>\n",
       "      <td>-1.208196</td>\n",
       "      <td>0.735848</td>\n",
       "      <td>7.422800</td>\n",
       "      <td>0.318941</td>\n",
       "      <td>0.983343</td>\n",
       "      <td>1</td>\n",
       "    </tr>\n",
       "    <tr>\n",
       "      <th>8</th>\n",
       "      <td>152</td>\n",
       "      <td>-0.549918</td>\n",
       "      <td>-0.075297</td>\n",
       "      <td>-0.062591</td>\n",
       "      <td>-0.096272</td>\n",
       "      <td>-0.181032</td>\n",
       "      <td>0.112703</td>\n",
       "      <td>0</td>\n",
       "    </tr>\n",
       "    <tr>\n",
       "      <th>9</th>\n",
       "      <td>76</td>\n",
       "      <td>1.136537</td>\n",
       "      <td>-2.376952</td>\n",
       "      <td>1.142662</td>\n",
       "      <td>7.107592</td>\n",
       "      <td>0.354982</td>\n",
       "      <td>0.424665</td>\n",
       "      <td>0</td>\n",
       "    </tr>\n",
       "  </tbody>\n",
       "</table>\n",
       "</div>"
      ],
      "text/plain": [
       "    id     col_0     col_1     col_2     col_3     col_4     col_5  survived\n",
       "0   48 -0.604079 -0.251408 -0.082146 -0.116307 -0.141388 -0.241917         0\n",
       "1   30  1.083819 -2.515037  0.920687  7.062517  0.789084  0.377344         0\n",
       "2   96 -0.439311  0.376303 -0.260180  0.024478 -0.076691  0.327340         0\n",
       "3  100  1.388431 -1.238005  0.658307  7.497925 -0.008191  0.191678         1\n",
       "4  112 -0.508756  0.115662 -0.259576 -0.036426  0.114863  0.093730         0\n",
       "5   69  1.222904 -2.182757  1.518028  7.114807  0.549365  0.286522         1\n",
       "6  128 -0.505860  0.195651 -0.310560  0.035997 -0.172383 -0.335267         0\n",
       "7   64  1.424510 -1.208196  0.735848  7.422800  0.318941  0.983343         1\n",
       "8  152 -0.549918 -0.075297 -0.062591 -0.096272 -0.181032  0.112703         0\n",
       "9   76  1.136537 -2.376952  1.142662  7.107592  0.354982  0.424665         0"
      ]
     },
     "metadata": {},
     "output_type": "display_data"
    },
    {
     "name": "stdout",
     "output_type": "stream",
     "text": [
      "                                                                                                  \r"
     ]
    },
    {
     "data": {
      "text/html": [
       "10 rows X 8 columns"
      ],
      "text/plain": [
       "<IPython.core.display.HTML object>"
      ]
     },
     "metadata": {},
     "output_type": "display_data"
    },
    {
     "name": "stdout",
     "output_type": "stream",
     "text": [
      "Data Transformation completed.⫿⫿⫿⫿⫿⫿⫿⫿⫿⫿⫿⫿⫿⫿⫿⫿⫿⫿⫿⫿⫿⫿⫿⫿⫿⫿⫿⫿⫿⫿⫿⫿⫿⫿⫿⫿⫿⫿⫿⫿⫿⫿｜ 100% - 15/15            \n",
      "\n",
      "Following model is being picked for evaluation:\n",
      "Model ID : XGBOOST_0 \n",
      "Feature Selection Method : lasso\n",
      "\n",
      "Prediction : \n",
      "    id  Prediction  survived    prob_0    prob_1\n",
      "0   69           1         1  0.212129  0.787871\n",
      "1   76           1         0  0.212129  0.787871\n",
      "2   53           1         1  0.014311  0.985689\n",
      "3   22           1         1  0.014311  0.985689\n",
      "4  101           1         0  0.212129  0.787871\n",
      "5  147           1         1  0.124797  0.875203\n",
      "6   48           0         0  0.913048  0.086952\n",
      "7   96           1         0  0.308215  0.691785\n",
      "8  112           0         0  0.764506  0.235494\n",
      "9  128           0         0  0.813978  0.186022\n",
      "\n",
      "ROC-AUC : \n"
     ]
    },
    {
     "data": {
      "text/html": [
       "<style type=\"text/css\">\n",
       "\ttable {border:ridge 5px;}\n",
       "\ttable td {border:inset 1px;}\n",
       "\ttable tr#HeaderRow {background-color:grey; color:white;}</style>\n",
       "<html><table>\n",
       "\t<tr id=\"HeaderRow\">\n",
       "\t\t<th>AUC</th>\n",
       "\t\t<th>GINI</th>\n",
       "\t</tr>\n",
       "\t<tr>\n",
       "\t\t<td>0.8124662709120346</td>\n",
       "\t\t<td>0.6249325418240692</td>\n",
       "\t</tr>\n",
       "</table></html>"
      ],
      "text/plain": [
       "              GINI\n",
       "AUC               \n",
       "0.812466  0.624933"
      ]
     },
     "metadata": {},
     "output_type": "display_data"
    },
    {
     "data": {
      "text/html": [
       "<style type=\"text/css\">\n",
       "\ttable {border:ridge 5px;}\n",
       "\ttable td {border:inset 1px;}\n",
       "\ttable tr#HeaderRow {background-color:grey; color:white;}</style>\n",
       "<html><table>\n",
       "\t<tr id=\"HeaderRow\">\n",
       "\t\t<th>threshold_value</th>\n",
       "\t\t<th>tpr</th>\n",
       "\t\t<th>fpr</th>\n",
       "\t</tr>\n",
       "\t<tr>\n",
       "\t\t<td>0.04081632653061224</td>\n",
       "\t\t<td>1.0</td>\n",
       "\t\t<td>1.0</td>\n",
       "\t</tr>\n",
       "\t<tr>\n",
       "\t\t<td>0.08163265306122448</td>\n",
       "\t\t<td>1.0</td>\n",
       "\t\t<td>1.0</td>\n",
       "\t</tr>\n",
       "\t<tr>\n",
       "\t\t<td>0.1020408163265306</td>\n",
       "\t\t<td>0.9852941176470589</td>\n",
       "\t\t<td>0.9174311926605505</td>\n",
       "\t</tr>\n",
       "\t<tr>\n",
       "\t\t<td>0.12244897959183673</td>\n",
       "\t\t<td>0.9852941176470589</td>\n",
       "\t\t<td>0.908256880733945</td>\n",
       "\t</tr>\n",
       "\t<tr>\n",
       "\t\t<td>0.16326530612244897</td>\n",
       "\t\t<td>0.8823529411764706</td>\n",
       "\t\t<td>0.5688073394495413</td>\n",
       "\t</tr>\n",
       "\t<tr>\n",
       "\t\t<td>0.18367346938775508</td>\n",
       "\t\t<td>0.8823529411764706</td>\n",
       "\t\t<td>0.5688073394495413</td>\n",
       "\t</tr>\n",
       "\t<tr>\n",
       "\t\t<td>0.14285714285714285</td>\n",
       "\t\t<td>0.9852941176470589</td>\n",
       "\t\t<td>0.908256880733945</td>\n",
       "\t</tr>\n",
       "\t<tr>\n",
       "\t\t<td>0.061224489795918366</td>\n",
       "\t\t<td>1.0</td>\n",
       "\t\t<td>1.0</td>\n",
       "\t</tr>\n",
       "\t<tr>\n",
       "\t\t<td>0.02040816326530612</td>\n",
       "\t\t<td>1.0</td>\n",
       "\t\t<td>1.0</td>\n",
       "\t</tr>\n",
       "\t<tr>\n",
       "\t\t<td>0.0</td>\n",
       "\t\t<td>1.0</td>\n",
       "\t\t<td>1.0</td>\n",
       "\t</tr>\n",
       "</table></html>"
      ],
      "text/plain": [
       "   threshold_value       tpr       fpr\n",
       "0         0.040816  1.000000  1.000000\n",
       "1         0.081633  1.000000  1.000000\n",
       "2         0.102041  0.985294  0.917431\n",
       "3         0.122449  0.985294  0.908257\n",
       "4         0.163265  0.882353  0.568807\n",
       "5         0.183673  0.882353  0.568807\n",
       "6         0.142857  0.985294  0.908257\n",
       "7         0.061224  1.000000  1.000000\n",
       "8         0.020408  1.000000  1.000000\n",
       "9         0.000000  1.000000  1.000000"
      ]
     },
     "metadata": {},
     "output_type": "display_data"
    },
    {
     "name": "stdout",
     "output_type": "stream",
     "text": [
      "\n",
      "Confusion Matrix : \n"
     ]
    },
    {
     "data": {
      "text/plain": [
       "array([[76, 33],\n",
       "       [11, 57]], dtype=int64)"
      ]
     },
     "metadata": {},
     "output_type": "display_data"
    }
   ],
   "source": [
    "# Generating prediction on test data\n",
    "prediction = aml.predict(titanic_test)"
   ]
  },
  {
   "cell_type": "code",
   "execution_count": 24,
   "id": "f27ed879-0e82-4fbe-9322-7a036677c0a4",
   "metadata": {},
   "outputs": [
    {
     "data": {
      "text/html": [
       "<style type=\"text/css\">\n",
       "\ttable {border:ridge 5px;}\n",
       "\ttable td {border:inset 1px;}\n",
       "\ttable tr#HeaderRow {background-color:grey; color:white;}</style>\n",
       "<html><table>\n",
       "\t<tr id=\"HeaderRow\">\n",
       "\t\t<th>id</th>\n",
       "\t\t<th>Prediction</th>\n",
       "\t\t<th>survived</th>\n",
       "\t\t<th>prob_0</th>\n",
       "\t\t<th>prob_1</th>\n",
       "\t</tr>\n",
       "\t<tr>\n",
       "\t\t<td>10</td>\n",
       "\t\t<td>1</td>\n",
       "\t\t<td>1</td>\n",
       "\t\t<td>0.06468306615212427</td>\n",
       "\t\t<td>0.9353169338478757</td>\n",
       "\t</tr>\n",
       "\t<tr>\n",
       "\t\t<td>12</td>\n",
       "\t\t<td>1</td>\n",
       "\t\t<td>1</td>\n",
       "\t\t<td>0.21212896501799006</td>\n",
       "\t\t<td>0.7878710349820099</td>\n",
       "\t</tr>\n",
       "\t<tr>\n",
       "\t\t<td>13</td>\n",
       "\t\t<td>1</td>\n",
       "\t\t<td>0</td>\n",
       "\t\t<td>0.41290357079993467</td>\n",
       "\t\t<td>0.5870964292000653</td>\n",
       "\t</tr>\n",
       "\t<tr>\n",
       "\t\t<td>14</td>\n",
       "\t\t<td>1</td>\n",
       "\t\t<td>0</td>\n",
       "\t\t<td>0.04773688538151222</td>\n",
       "\t\t<td>0.9522631146184878</td>\n",
       "\t</tr>\n",
       "\t<tr>\n",
       "\t\t<td>16</td>\n",
       "\t\t<td>1</td>\n",
       "\t\t<td>1</td>\n",
       "\t\t<td>0.014311090515482183</td>\n",
       "\t\t<td>0.9856889094845178</td>\n",
       "\t</tr>\n",
       "\t<tr>\n",
       "\t\t<td>17</td>\n",
       "\t\t<td>1</td>\n",
       "\t\t<td>1</td>\n",
       "\t\t<td>0.26754463336397494</td>\n",
       "\t\t<td>0.7324553666360251</td>\n",
       "\t</tr>\n",
       "\t<tr>\n",
       "\t\t<td>15</td>\n",
       "\t\t<td>0</td>\n",
       "\t\t<td>1</td>\n",
       "\t\t<td>0.8516859663524107</td>\n",
       "\t\t<td>0.14831403364758936</td>\n",
       "\t</tr>\n",
       "\t<tr>\n",
       "\t\t<td>11</td>\n",
       "\t\t<td>0</td>\n",
       "\t\t<td>0</td>\n",
       "\t\t<td>0.8516859663524107</td>\n",
       "\t\t<td>0.14831403364758936</td>\n",
       "\t</tr>\n",
       "\t<tr>\n",
       "\t\t<td>9</td>\n",
       "\t\t<td>1</td>\n",
       "\t\t<td>0</td>\n",
       "\t\t<td>0.4883748454429272</td>\n",
       "\t\t<td>0.5116251545570728</td>\n",
       "\t</tr>\n",
       "\t<tr>\n",
       "\t\t<td>8</td>\n",
       "\t\t<td>1</td>\n",
       "\t\t<td>0</td>\n",
       "\t\t<td>0.21212896501799006</td>\n",
       "\t\t<td>0.7878710349820099</td>\n",
       "\t</tr>\n",
       "</table></html>"
      ],
      "text/plain": [
       "   id  Prediction  survived    prob_0    prob_1\n",
       "0  10           1         1  0.064683  0.935317\n",
       "1  12           1         1  0.212129  0.787871\n",
       "2  13           1         0  0.412904  0.587096\n",
       "3  14           1         0  0.047737  0.952263\n",
       "4  16           1         1  0.014311  0.985689\n",
       "5  17           1         1  0.267545  0.732455\n",
       "6  15           0         1  0.851686  0.148314\n",
       "7  11           0         0  0.851686  0.148314\n",
       "8   9           1         0  0.488375  0.511625\n",
       "9   8           1         0  0.212129  0.787871"
      ]
     },
     "execution_count": 24,
     "metadata": {},
     "output_type": "execute_result"
    }
   ],
   "source": [
    "# Printing prediction\n",
    "prediction.head()"
   ]
  },
  {
   "cell_type": "code",
   "execution_count": 25,
   "id": "e34f3d26-3800-4a7c-935a-655d6e8e60e0",
   "metadata": {},
   "outputs": [
    {
     "name": "stdout",
     "output_type": "stream",
     "text": [
      "\n",
      "Skipping data transformation as data is already transformed.\n",
      "\n",
      "Following model is being picked for evaluation:\n",
      "Model ID : XGBOOST_0 \n",
      "Feature Selection Method : lasso\n",
      "\n",
      "Performance Metrics : \n",
      "       Prediction  Mapping  CLASS_1  CLASS_2  Precision    Recall        F1  Support\n",
      "SeqNum                                                                              \n",
      "0               0  CLASS_1       76       11   0.873563  0.697248  0.775510      109\n",
      "1               1  CLASS_2       33       57   0.633333  0.838235  0.721519       68\n",
      "--------------------------------------------------------------------------------\n",
      "   SeqNum              Metric  MetricValue\n",
      "0       3        Micro-Recall     0.751412\n",
      "1       5     Macro-Precision     0.753448\n",
      "2       6        Macro-Recall     0.767742\n",
      "3       7            Macro-F1     0.748515\n",
      "4       9     Weighted-Recall     0.751412\n",
      "5      10         Weighted-F1     0.754768\n",
      "6       8  Weighted-Precision     0.781272\n",
      "7       4            Micro-F1     0.751412\n",
      "8       2     Micro-Precision     0.751412\n",
      "9       1            Accuracy     0.751412\n"
     ]
    }
   ],
   "source": [
    "# Fetching performance metrics on test data\n",
    "performance_metrics = aml.evaluate(titanic_test)"
   ]
  },
  {
   "cell_type": "code",
   "execution_count": 26,
   "id": "a91f2290-91be-4732-8089-a4bd1068b5e5",
   "metadata": {},
   "outputs": [
    {
     "data": {
      "text/html": [
       "<style type=\"text/css\">\n",
       "\ttable {border:ridge 5px;}\n",
       "\ttable td {border:inset 1px;}\n",
       "\ttable tr#HeaderRow {background-color:grey; color:white;}</style>\n",
       "<html><table>\n",
       "\t<tr id=\"HeaderRow\">\n",
       "\t\t<th>SeqNum</th>\n",
       "\t\t<th>Prediction</th>\n",
       "\t\t<th>Mapping</th>\n",
       "\t\t<th>CLASS_1</th>\n",
       "\t\t<th>CLASS_2</th>\n",
       "\t\t<th>Precision</th>\n",
       "\t\t<th>Recall</th>\n",
       "\t\t<th>F1</th>\n",
       "\t\t<th>Support</th>\n",
       "\t</tr>\n",
       "\t<tr>\n",
       "\t\t<td>0</td>\n",
       "\t\t<td>0</td>\n",
       "\t\t<td>CLASS_1</td>\n",
       "\t\t<td>76</td>\n",
       "\t\t<td>11</td>\n",
       "\t\t<td>0.8735632183908046</td>\n",
       "\t\t<td>0.6972477064220184</td>\n",
       "\t\t<td>0.7755102040816326</td>\n",
       "\t\t<td>109</td>\n",
       "\t</tr>\n",
       "\t<tr>\n",
       "\t\t<td>1</td>\n",
       "\t\t<td>1</td>\n",
       "\t\t<td>CLASS_2</td>\n",
       "\t\t<td>33</td>\n",
       "\t\t<td>57</td>\n",
       "\t\t<td>0.6333333333333333</td>\n",
       "\t\t<td>0.8382352941176471</td>\n",
       "\t\t<td>0.7215189873417721</td>\n",
       "\t\t<td>68</td>\n",
       "\t</tr>\n",
       "</table></html>"
      ],
      "text/plain": [
       "       Prediction  Mapping  CLASS_1  CLASS_2  Precision    Recall        F1  Support\n",
       "SeqNum                                                                              \n",
       "0               0  CLASS_1       76       11   0.873563  0.697248  0.775510      109\n",
       "1               1  CLASS_2       33       57   0.633333  0.838235  0.721519       68"
      ]
     },
     "execution_count": 26,
     "metadata": {},
     "output_type": "execute_result"
    }
   ],
   "source": [
    "performance_metrics"
   ]
  },
  {
   "cell_type": "code",
   "execution_count": 27,
   "id": "b9abf6af-1a6f-4bff-87e1-4d0fe8b80bbf",
   "metadata": {},
   "outputs": [
    {
     "data": {
      "text/plain": [
       "True"
      ]
     },
     "execution_count": 27,
     "metadata": {},
     "output_type": "execute_result"
    }
   ],
   "source": [
    "remove_context()"
   ]
  },
  {
   "cell_type": "code",
   "execution_count": null,
   "id": "52a35402-77fc-40c9-9ba9-45096acd8d90",
   "metadata": {},
   "outputs": [],
   "source": []
  }
 ],
 "metadata": {
  "kernelspec": {
   "display_name": "Python 3 (ipykernel)",
   "language": "python",
   "name": "python3"
  },
  "language_info": {
   "codemirror_mode": {
    "name": "ipython",
    "version": 3
   },
   "file_extension": ".py",
   "mimetype": "text/x-python",
   "name": "python",
   "nbconvert_exporter": "python",
   "pygments_lexer": "ipython3",
   "version": "3.10.9"
  }
 },
 "nbformat": 4,
 "nbformat_minor": 5
}
