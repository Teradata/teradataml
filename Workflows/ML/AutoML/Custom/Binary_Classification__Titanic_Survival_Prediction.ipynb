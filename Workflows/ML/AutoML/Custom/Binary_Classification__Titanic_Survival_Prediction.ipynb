{
 "cells": [
  {
   "cell_type": "markdown",
   "id": "5ce569be-92c9-4f6c-a9e9-dcd791a2fff2",
   "metadata": {},
   "source": [
    "# <b><span style='color:#F1A424'>AutoML - Binary Classification - Titanic Survival Prediction </span> </b>"
   ]
  },
  {
   "cell_type": "markdown",
   "id": "33b119cb-e66d-484a-9af5-6425743ae27f",
   "metadata": {},
   "source": [
    "### Disclaimer\n",
    "Please note, the Vantage Functions via SQLAlchemy feature is a preview/beta code release with limited functionality (the “Code”). As such, you acknowledge that the Code is experimental in nature and that the Code is provided “AS IS” and may not be functional on any machine or in any environment. TERADATA DISCLAIMS ALL WARRANTIES RELATING TO THE CODE, EXPRESS OR IMPLIED, INCLUDING, BUT NOT LIMITED TO, ANY WARRANTIES AGAINST INFRINGEMENT OF THIRD-PARTY RIGHTS, MERCHANTABILITY AND FITNESS FOR A PARTICULAR PURPOSE.\n",
    "\n",
    "TERADATA SHALL NOT BE RESPONSIBLE OR LIABLE WITH RESPECT TO ANY SUBJECT MATTER OF THE CODE UNDER ANY CONTRACT, NEGLIGENCE, STRICT LIABILITY OR OTHER THEORY \n",
    "    (A) FOR LOSS OR INACCURACY OF DATA OR COST OF PROCUREMENT OF SUBSTITUTE GOODS, SERVICES OR TECHNOLOGY, OR \n",
    "    (B) FOR ANY INDIRECT, INCIDENTAL OR CONSEQUENTIAL DAMAGES INCLUDING, BUT NOT LIMITED TO LOSS OF REVENUES AND LOSS OF PROFITS. TERADATA SHALL NOT BE RESPONSIBLE FOR ANY MATTER BEYOND ITS REASONABLE CONTROL.\n",
    "\n",
    "Notwithstanding anything to the contrary: \n",
    "    (a) Teradata will have no obligation of any kind with respect to any Code-related comments, suggestions, design changes or improvements that you elect to provide to Teradata in either verbal or written form (collectively, “Feedback”), and \n",
    "    (b) Teradata and its affiliates are hereby free to use any ideas, concepts, know-how or techniques, in whole or in part, contained in Feedback: \n",
    "        (i) for any purpose whatsoever, including developing, manufacturing, and/or marketing products and/or services incorporating Feedback in whole or in part, and \n",
    "        (ii) without any restrictions or limitations, including requiring the payment of any license fees, royalties, or other consideration. "
   ]
  },
  {
   "cell_type": "markdown",
   "id": "7400309d-ab11-4fae-819a-f18c39ca107a",
   "metadata": {},
   "source": [
    "## <b> Problem overview:</b>\n",
    "    "
   ]
  },
  {
   "cell_type": "markdown",
   "id": "68e2d603-21ec-4384-ac30-f6bd0e0bfda6",
   "metadata": {},
   "source": [
    "\n",
    "The Titanic dataset is a well-known dataset in the field of machine learning and data science. It contains information about passengers aboard the RMS Titanic, including whether they survived or not. The dataset is often used for predictive modeling and classification tasks. Here are some key details about the Titanic dataset:\n",
    "\n",
    "**Features**:\n",
    "\n",
    "- `PassengerId`: Unique identifier for each passenger.\n",
    "- `Pclass`: Ticket class (1st, 2nd, or 3rd).\n",
    "- `Name`: Passenger's name.\n",
    "- `Sex`: Passenger's gender (male or female).\n",
    "- `Age`: Passenger's age.\n",
    "- `SibSp`: Number of siblings or spouses aboard.\n",
    "- `Parch`: Number of parents or children aboard.\n",
    "- `Ticket`: Ticket number.\n",
    "- `Fare`: Fare paid for the ticket.\n",
    "- `Cabin`: Cabin number.\n",
    "- `Embarked`: Port of embarkation (C = Cherbourg, Q = Queenstown, S = Southampton).\n",
    "\n",
    "**Target Variable**:\n",
    "\n",
    "- `Survived`: Binary variable indicating whether the passenger survived (1) or not (0).\n",
    "        \n",
    "**Objective**:\n",
    "\n",
    "The main objective is typically to build a predictive model that can accurately predict whether a passenger survived based on the available features.\n",
    "\n",
    "**Challenges**:\n",
    "\n",
    "- Missing data in the columns such as `Age`, `Cabin`, and `Embarked`.\n",
    "- Understanding passenger demographics and characteristics that influenced survival.(Model training)\n",
    "- Exploring feature engineering techniques to improve model performance.(Feature engineering)\n",
    "\n",
    "**Usecase**:\n",
    "\n",
    "Here, we will use AutoML(Automated Machine Learning) functionality to automate the entire process of developing a predictive model. It will perform feature exploration, feature engineering, data preparation, model training and evaluation on dataset in custom run and at end we will get leaderboard containined different models along with their performance. Model will also have rank associated with them which indicates which is best performing model for given data followed by other models.\n",
    "\n",
    "As part of custom AutoML run, we will customize below functionalities:\n",
    "- Missing value handling for 'cabin', 'age' and 'embraked' with customized options i.e., 'delete', 'impute with median' and 'impute with mode' correspondingly.\n",
    "- Binning on 'pclass' feature to get 2 different levels i.e., 'low' and 'high' based on values.\n",
    "- Customized ordinal encoding on 'pclass' and target encoding on 'embracked'.\n",
    "- Addition of 'parch' and 'sibsp' to get new feature 'Family_count'.\n",
    "- Deletion of id column 'passanger' using antiselect.\n",
    "- Train test split with training size 0.75.\n",
    "- Data imbalance handling with 'SMOTE' method.\n",
    "- Outlier filteration with 'percentile' method and customized lower-upper bound.\n",
    "- Feature scaling with 'std' method.\n",
    "- Addition of customized value in hyperparameter 'min_node_size' for 'xgboost' model."
   ]
  },
  {
   "cell_type": "code",
   "execution_count": 1,
   "id": "7e0c7a13-3587-456e-ac77-1e46af557a5c",
   "metadata": {},
   "outputs": [],
   "source": [
    "# Importing AutoML from teradataml\n",
    "from teradataml import AutoML, AutoClassifier"
   ]
  },
  {
   "cell_type": "code",
   "execution_count": 2,
   "id": "bca0e4be-1148-4a74-88af-9e2275090e04",
   "metadata": {},
   "outputs": [],
   "source": [
    "# Importing other important libraries\n",
    "\n",
    "import getpass\n",
    "from teradataml import create_context, remove_context\n",
    "from teradataml import DataFrame\n",
    "from teradataml import load_example_data\n",
    "from teradataml import TrainTestSplit"
   ]
  },
  {
   "cell_type": "code",
   "execution_count": 3,
   "id": "f0684174-378c-47f1-a926-bf6389704f02",
   "metadata": {},
   "outputs": [
    {
     "name": "stdin",
     "output_type": "stream",
     "text": [
      "Host:  ········\n",
      "Username:  ········\n",
      "Password:  ········\n"
     ]
    }
   ],
   "source": [
    "# Create the connection.\n",
    "\n",
    "host = getpass.getpass(\"Host: \")\n",
    "username = getpass.getpass(\"Username: \")\n",
    "password = getpass.getpass(\"Password: \")\n",
    "\n",
    "con = create_context(host=host, username=username, password=password)"
   ]
  },
  {
   "cell_type": "markdown",
   "id": "e8787873-7661-4dbf-8c3e-05efcbd5d9fa",
   "metadata": {},
   "source": [
    "## <b><span style='color:#F1A424'>| 1.</span> Loading Dataset </b>"
   ]
  },
  {
   "cell_type": "code",
   "execution_count": 4,
   "id": "d4baab86-9983-408b-921d-1c6d9839af25",
   "metadata": {},
   "outputs": [],
   "source": [
    "# Loading titanic dataset from example data collection\n",
    "load_example_data(\"teradataml\", \"titanic\")"
   ]
  },
  {
   "cell_type": "code",
   "execution_count": 5,
   "id": "fe485f1b-2802-4578-9f50-2f6d935fc881",
   "metadata": {},
   "outputs": [],
   "source": [
    "# Fetching in teradata dataframe\n",
    "titanic = DataFrame.from_table(\"titanic\")"
   ]
  },
  {
   "cell_type": "code",
   "execution_count": 6,
   "id": "bf8b7b60-f848-429c-9f69-4f26a8f3fef6",
   "metadata": {},
   "outputs": [
    {
     "data": {
      "text/plain": [
       "['passenger',\n",
       " 'survived',\n",
       " 'pclass',\n",
       " 'name',\n",
       " 'sex',\n",
       " 'age',\n",
       " 'sibsp',\n",
       " 'parch',\n",
       " 'ticket',\n",
       " 'fare',\n",
       " 'cabin',\n",
       " 'embarked']"
      ]
     },
     "execution_count": 6,
     "metadata": {},
     "output_type": "execute_result"
    }
   ],
   "source": [
    "titanic.columns"
   ]
  },
  {
   "cell_type": "code",
   "execution_count": 7,
   "id": "c31abd72-9ec0-4c65-a7e7-0522ec8ff113",
   "metadata": {},
   "outputs": [
    {
     "data": {
      "text/html": [
       "<style type=\"text/css\">\n",
       "\ttable {border:ridge 5px;}\n",
       "\ttable td {border:inset 1px;}\n",
       "\ttable tr#HeaderRow {background-color:grey; color:white;}</style>\n",
       "<html><table>\n",
       "\t<tr id=\"HeaderRow\">\n",
       "\t\t<th>passenger</th>\n",
       "\t\t<th>survived</th>\n",
       "\t\t<th>pclass</th>\n",
       "\t\t<th>name</th>\n",
       "\t\t<th>sex</th>\n",
       "\t\t<th>age</th>\n",
       "\t\t<th>sibsp</th>\n",
       "\t\t<th>parch</th>\n",
       "\t\t<th>ticket</th>\n",
       "\t\t<th>fare</th>\n",
       "\t\t<th>cabin</th>\n",
       "\t\t<th>embarked</th>\n",
       "\t</tr>\n",
       "\t<tr>\n",
       "\t\t<td>3</td>\n",
       "\t\t<td>1</td>\n",
       "\t\t<td>3</td>\n",
       "\t\t<td>Heikkinen, Miss. Laina</td>\n",
       "\t\t<td>female</td>\n",
       "\t\t<td>26</td>\n",
       "\t\t<td>0</td>\n",
       "\t\t<td>0</td>\n",
       "\t\t<td>STON/O2. 3101282</td>\n",
       "\t\t<td>7.925</td>\n",
       "\t\t<td>None</td>\n",
       "\t\t<td>S</td>\n",
       "\t</tr>\n",
       "\t<tr>\n",
       "\t\t<td>5</td>\n",
       "\t\t<td>0</td>\n",
       "\t\t<td>3</td>\n",
       "\t\t<td>Allen, Mr. William Henry</td>\n",
       "\t\t<td>male</td>\n",
       "\t\t<td>35</td>\n",
       "\t\t<td>0</td>\n",
       "\t\t<td>0</td>\n",
       "\t\t<td>373450</td>\n",
       "\t\t<td>8.05</td>\n",
       "\t\t<td>None</td>\n",
       "\t\t<td>S</td>\n",
       "\t</tr>\n",
       "\t<tr>\n",
       "\t\t<td>6</td>\n",
       "\t\t<td>0</td>\n",
       "\t\t<td>3</td>\n",
       "\t\t<td>Moran, Mr. James</td>\n",
       "\t\t<td>male</td>\n",
       "\t\t<td>None</td>\n",
       "\t\t<td>0</td>\n",
       "\t\t<td>0</td>\n",
       "\t\t<td>330877</td>\n",
       "\t\t<td>8.4583</td>\n",
       "\t\t<td>None</td>\n",
       "\t\t<td>Q</td>\n",
       "\t</tr>\n",
       "\t<tr>\n",
       "\t\t<td>7</td>\n",
       "\t\t<td>0</td>\n",
       "\t\t<td>1</td>\n",
       "\t\t<td>McCarthy, Mr. Timothy J</td>\n",
       "\t\t<td>male</td>\n",
       "\t\t<td>54</td>\n",
       "\t\t<td>0</td>\n",
       "\t\t<td>0</td>\n",
       "\t\t<td>17463</td>\n",
       "\t\t<td>51.8625</td>\n",
       "\t\t<td>E46</td>\n",
       "\t\t<td>S</td>\n",
       "\t</tr>\n",
       "\t<tr>\n",
       "\t\t<td>9</td>\n",
       "\t\t<td>1</td>\n",
       "\t\t<td>3</td>\n",
       "\t\t<td>Johnson, Mrs. Oscar W (Elisabeth Vilhelmina Berg)</td>\n",
       "\t\t<td>female</td>\n",
       "\t\t<td>27</td>\n",
       "\t\t<td>0</td>\n",
       "\t\t<td>2</td>\n",
       "\t\t<td>347742</td>\n",
       "\t\t<td>11.1333</td>\n",
       "\t\t<td>None</td>\n",
       "\t\t<td>S</td>\n",
       "\t</tr>\n",
       "\t<tr>\n",
       "\t\t<td>10</td>\n",
       "\t\t<td>1</td>\n",
       "\t\t<td>2</td>\n",
       "\t\t<td>Nasser, Mrs. Nicholas (Adele Achem)</td>\n",
       "\t\t<td>female</td>\n",
       "\t\t<td>14</td>\n",
       "\t\t<td>1</td>\n",
       "\t\t<td>0</td>\n",
       "\t\t<td>237736</td>\n",
       "\t\t<td>30.0708</td>\n",
       "\t\t<td>None</td>\n",
       "\t\t<td>C</td>\n",
       "\t</tr>\n",
       "\t<tr>\n",
       "\t\t<td>8</td>\n",
       "\t\t<td>0</td>\n",
       "\t\t<td>3</td>\n",
       "\t\t<td>Palsson, Master. Gosta Leonard</td>\n",
       "\t\t<td>male</td>\n",
       "\t\t<td>2</td>\n",
       "\t\t<td>3</td>\n",
       "\t\t<td>1</td>\n",
       "\t\t<td>349909</td>\n",
       "\t\t<td>21.075</td>\n",
       "\t\t<td>None</td>\n",
       "\t\t<td>S</td>\n",
       "\t</tr>\n",
       "\t<tr>\n",
       "\t\t<td>4</td>\n",
       "\t\t<td>1</td>\n",
       "\t\t<td>1</td>\n",
       "\t\t<td>Futrelle, Mrs. Jacques Heath (Lily May Peel)</td>\n",
       "\t\t<td>female</td>\n",
       "\t\t<td>35</td>\n",
       "\t\t<td>1</td>\n",
       "\t\t<td>0</td>\n",
       "\t\t<td>113803</td>\n",
       "\t\t<td>53.1</td>\n",
       "\t\t<td>C123</td>\n",
       "\t\t<td>S</td>\n",
       "\t</tr>\n",
       "\t<tr>\n",
       "\t\t<td>2</td>\n",
       "\t\t<td>1</td>\n",
       "\t\t<td>1</td>\n",
       "\t\t<td>Cumings, Mrs. John Bradley (Florence Briggs Thayer)</td>\n",
       "\t\t<td>female</td>\n",
       "\t\t<td>38</td>\n",
       "\t\t<td>1</td>\n",
       "\t\t<td>0</td>\n",
       "\t\t<td>PC 17599</td>\n",
       "\t\t<td>71.2833</td>\n",
       "\t\t<td>C85</td>\n",
       "\t\t<td>C</td>\n",
       "\t</tr>\n",
       "\t<tr>\n",
       "\t\t<td>1</td>\n",
       "\t\t<td>0</td>\n",
       "\t\t<td>3</td>\n",
       "\t\t<td>Braund, Mr. Owen Harris</td>\n",
       "\t\t<td>male</td>\n",
       "\t\t<td>22</td>\n",
       "\t\t<td>1</td>\n",
       "\t\t<td>0</td>\n",
       "\t\t<td>A/5 21171</td>\n",
       "\t\t<td>7.25</td>\n",
       "\t\t<td>None</td>\n",
       "\t\t<td>S</td>\n",
       "\t</tr>\n",
       "</table></html>"
      ],
      "text/plain": [
       "           survived  pclass                                                 name     sex   age  sibsp  parch            ticket     fare cabin embarked\n",
       "passenger                                                                                                                                             \n",
       "3                 1       3                               Heikkinen, Miss. Laina  female  26.0      0      0  STON/O2. 3101282   7.9250  None        S\n",
       "5                 0       3                             Allen, Mr. William Henry    male  35.0      0      0            373450   8.0500  None        S\n",
       "6                 0       3                                     Moran, Mr. James    male   NaN      0      0            330877   8.4583  None        Q\n",
       "7                 0       1                              McCarthy, Mr. Timothy J    male  54.0      0      0             17463  51.8625   E46        S\n",
       "9                 1       3    Johnson, Mrs. Oscar W (Elisabeth Vilhelmina Berg)  female  27.0      0      2            347742  11.1333  None        S\n",
       "10                1       2                  Nasser, Mrs. Nicholas (Adele Achem)  female  14.0      1      0            237736  30.0708  None        C\n",
       "8                 0       3                       Palsson, Master. Gosta Leonard    male   2.0      3      1            349909  21.0750  None        S\n",
       "4                 1       1         Futrelle, Mrs. Jacques Heath (Lily May Peel)  female  35.0      1      0            113803  53.1000  C123        S\n",
       "2                 1       1  Cumings, Mrs. John Bradley (Florence Briggs Thayer)  female  38.0      1      0          PC 17599  71.2833   C85        C\n",
       "1                 0       3                              Braund, Mr. Owen Harris    male  22.0      1      0         A/5 21171   7.2500  None        S"
      ]
     },
     "execution_count": 7,
     "metadata": {},
     "output_type": "execute_result"
    }
   ],
   "source": [
    "# titanic dataset\n",
    "titanic.head()"
   ]
  },
  {
   "cell_type": "code",
   "execution_count": 8,
   "id": "12bbd7c6-c50f-4d67-98e6-3ec2b5ee9863",
   "metadata": {},
   "outputs": [
    {
     "data": {
      "text/plain": [
       "(891, 12)"
      ]
     },
     "execution_count": 8,
     "metadata": {},
     "output_type": "execute_result"
    }
   ],
   "source": [
    "# titanic dataset\n",
    "titanic.shape"
   ]
  },
  {
   "cell_type": "code",
   "execution_count": 9,
   "id": "23ce533a-73db-4b33-9a68-3137e367d052",
   "metadata": {},
   "outputs": [],
   "source": [
    "# Performing sampling to get 80% for trainning and 20% for testing\n",
    "titanic_sample = titanic.sample(frac = [0.8, 0.2])"
   ]
  },
  {
   "cell_type": "code",
   "execution_count": 10,
   "id": "48c3c224-fe95-49e4-a72e-e86407ed7e4c",
   "metadata": {},
   "outputs": [
    {
     "data": {
      "text/html": [
       "<style type=\"text/css\">\n",
       "\ttable {border:ridge 5px;}\n",
       "\ttable td {border:inset 1px;}\n",
       "\ttable tr#HeaderRow {background-color:grey; color:white;}</style>\n",
       "<html><table>\n",
       "\t<tr id=\"HeaderRow\">\n",
       "\t\t<th>passenger</th>\n",
       "\t\t<th>survived</th>\n",
       "\t\t<th>pclass</th>\n",
       "\t\t<th>name</th>\n",
       "\t\t<th>sex</th>\n",
       "\t\t<th>age</th>\n",
       "\t\t<th>sibsp</th>\n",
       "\t\t<th>parch</th>\n",
       "\t\t<th>ticket</th>\n",
       "\t\t<th>fare</th>\n",
       "\t\t<th>cabin</th>\n",
       "\t\t<th>embarked</th>\n",
       "\t\t<th>sampleid</th>\n",
       "\t</tr>\n",
       "\t<tr>\n",
       "\t\t<td>3</td>\n",
       "\t\t<td>1</td>\n",
       "\t\t<td>3</td>\n",
       "\t\t<td>Heikkinen, Miss. Laina</td>\n",
       "\t\t<td>female</td>\n",
       "\t\t<td>26</td>\n",
       "\t\t<td>0</td>\n",
       "\t\t<td>0</td>\n",
       "\t\t<td>STON/O2. 3101282</td>\n",
       "\t\t<td>7.925</td>\n",
       "\t\t<td>None</td>\n",
       "\t\t<td>S</td>\n",
       "\t\t<td>1</td>\n",
       "\t</tr>\n",
       "\t<tr>\n",
       "\t\t<td>5</td>\n",
       "\t\t<td>0</td>\n",
       "\t\t<td>3</td>\n",
       "\t\t<td>Allen, Mr. William Henry</td>\n",
       "\t\t<td>male</td>\n",
       "\t\t<td>35</td>\n",
       "\t\t<td>0</td>\n",
       "\t\t<td>0</td>\n",
       "\t\t<td>373450</td>\n",
       "\t\t<td>8.05</td>\n",
       "\t\t<td>None</td>\n",
       "\t\t<td>S</td>\n",
       "\t\t<td>1</td>\n",
       "\t</tr>\n",
       "\t<tr>\n",
       "\t\t<td>6</td>\n",
       "\t\t<td>0</td>\n",
       "\t\t<td>3</td>\n",
       "\t\t<td>Moran, Mr. James</td>\n",
       "\t\t<td>male</td>\n",
       "\t\t<td>None</td>\n",
       "\t\t<td>0</td>\n",
       "\t\t<td>0</td>\n",
       "\t\t<td>330877</td>\n",
       "\t\t<td>8.4583</td>\n",
       "\t\t<td>None</td>\n",
       "\t\t<td>Q</td>\n",
       "\t\t<td>1</td>\n",
       "\t</tr>\n",
       "\t<tr>\n",
       "\t\t<td>7</td>\n",
       "\t\t<td>0</td>\n",
       "\t\t<td>1</td>\n",
       "\t\t<td>McCarthy, Mr. Timothy J</td>\n",
       "\t\t<td>male</td>\n",
       "\t\t<td>54</td>\n",
       "\t\t<td>0</td>\n",
       "\t\t<td>0</td>\n",
       "\t\t<td>17463</td>\n",
       "\t\t<td>51.8625</td>\n",
       "\t\t<td>E46</td>\n",
       "\t\t<td>S</td>\n",
       "\t\t<td>1</td>\n",
       "\t</tr>\n",
       "\t<tr>\n",
       "\t\t<td>9</td>\n",
       "\t\t<td>1</td>\n",
       "\t\t<td>3</td>\n",
       "\t\t<td>Johnson, Mrs. Oscar W (Elisabeth Vilhelmina Berg)</td>\n",
       "\t\t<td>female</td>\n",
       "\t\t<td>27</td>\n",
       "\t\t<td>0</td>\n",
       "\t\t<td>2</td>\n",
       "\t\t<td>347742</td>\n",
       "\t\t<td>11.1333</td>\n",
       "\t\t<td>None</td>\n",
       "\t\t<td>S</td>\n",
       "\t\t<td>2</td>\n",
       "\t</tr>\n",
       "\t<tr>\n",
       "\t\t<td>10</td>\n",
       "\t\t<td>1</td>\n",
       "\t\t<td>2</td>\n",
       "\t\t<td>Nasser, Mrs. Nicholas (Adele Achem)</td>\n",
       "\t\t<td>female</td>\n",
       "\t\t<td>14</td>\n",
       "\t\t<td>1</td>\n",
       "\t\t<td>0</td>\n",
       "\t\t<td>237736</td>\n",
       "\t\t<td>30.0708</td>\n",
       "\t\t<td>None</td>\n",
       "\t\t<td>C</td>\n",
       "\t\t<td>1</td>\n",
       "\t</tr>\n",
       "\t<tr>\n",
       "\t\t<td>8</td>\n",
       "\t\t<td>0</td>\n",
       "\t\t<td>3</td>\n",
       "\t\t<td>Palsson, Master. Gosta Leonard</td>\n",
       "\t\t<td>male</td>\n",
       "\t\t<td>2</td>\n",
       "\t\t<td>3</td>\n",
       "\t\t<td>1</td>\n",
       "\t\t<td>349909</td>\n",
       "\t\t<td>21.075</td>\n",
       "\t\t<td>None</td>\n",
       "\t\t<td>S</td>\n",
       "\t\t<td>2</td>\n",
       "\t</tr>\n",
       "\t<tr>\n",
       "\t\t<td>4</td>\n",
       "\t\t<td>1</td>\n",
       "\t\t<td>1</td>\n",
       "\t\t<td>Futrelle, Mrs. Jacques Heath (Lily May Peel)</td>\n",
       "\t\t<td>female</td>\n",
       "\t\t<td>35</td>\n",
       "\t\t<td>1</td>\n",
       "\t\t<td>0</td>\n",
       "\t\t<td>113803</td>\n",
       "\t\t<td>53.1</td>\n",
       "\t\t<td>C123</td>\n",
       "\t\t<td>S</td>\n",
       "\t\t<td>2</td>\n",
       "\t</tr>\n",
       "\t<tr>\n",
       "\t\t<td>2</td>\n",
       "\t\t<td>1</td>\n",
       "\t\t<td>1</td>\n",
       "\t\t<td>Cumings, Mrs. John Bradley (Florence Briggs Thayer)</td>\n",
       "\t\t<td>female</td>\n",
       "\t\t<td>38</td>\n",
       "\t\t<td>1</td>\n",
       "\t\t<td>0</td>\n",
       "\t\t<td>PC 17599</td>\n",
       "\t\t<td>71.2833</td>\n",
       "\t\t<td>C85</td>\n",
       "\t\t<td>C</td>\n",
       "\t\t<td>1</td>\n",
       "\t</tr>\n",
       "\t<tr>\n",
       "\t\t<td>1</td>\n",
       "\t\t<td>0</td>\n",
       "\t\t<td>3</td>\n",
       "\t\t<td>Braund, Mr. Owen Harris</td>\n",
       "\t\t<td>male</td>\n",
       "\t\t<td>22</td>\n",
       "\t\t<td>1</td>\n",
       "\t\t<td>0</td>\n",
       "\t\t<td>A/5 21171</td>\n",
       "\t\t<td>7.25</td>\n",
       "\t\t<td>None</td>\n",
       "\t\t<td>S</td>\n",
       "\t\t<td>1</td>\n",
       "\t</tr>\n",
       "</table></html>"
      ],
      "text/plain": [
       "           survived  pclass                                                 name     sex   age  sibsp  parch            ticket     fare cabin embarked  sampleid\n",
       "passenger                                                                                                                                                       \n",
       "3                 1       3                               Heikkinen, Miss. Laina  female  26.0      0      0  STON/O2. 3101282   7.9250  None        S         1\n",
       "5                 0       3                             Allen, Mr. William Henry    male  35.0      0      0            373450   8.0500  None        S         1\n",
       "6                 0       3                                     Moran, Mr. James    male   NaN      0      0            330877   8.4583  None        Q         1\n",
       "7                 0       1                              McCarthy, Mr. Timothy J    male  54.0      0      0             17463  51.8625   E46        S         1\n",
       "9                 1       3    Johnson, Mrs. Oscar W (Elisabeth Vilhelmina Berg)  female  27.0      0      2            347742  11.1333  None        S         2\n",
       "10                1       2                  Nasser, Mrs. Nicholas (Adele Achem)  female  14.0      1      0            237736  30.0708  None        C         1\n",
       "8                 0       3                       Palsson, Master. Gosta Leonard    male   2.0      3      1            349909  21.0750  None        S         2\n",
       "4                 1       1         Futrelle, Mrs. Jacques Heath (Lily May Peel)  female  35.0      1      0            113803  53.1000  C123        S         2\n",
       "2                 1       1  Cumings, Mrs. John Bradley (Florence Briggs Thayer)  female  38.0      1      0          PC 17599  71.2833   C85        C         1\n",
       "1                 0       3                              Braund, Mr. Owen Harris    male  22.0      1      0         A/5 21171   7.2500  None        S         1"
      ]
     },
     "execution_count": 10,
     "metadata": {},
     "output_type": "execute_result"
    }
   ],
   "source": [
    "titanic_sample.head()"
   ]
  },
  {
   "cell_type": "code",
   "execution_count": 11,
   "id": "8604f42e-ca4f-43eb-9577-4db68c8c025a",
   "metadata": {},
   "outputs": [],
   "source": [
    "# Fetching train and test data\n",
    "titanic_train= titanic_sample[titanic_sample['sampleid'] == 1].drop('sampleid', axis=1)\n",
    "titanic_test = titanic_sample[titanic_sample['sampleid'] == 2].drop('sampleid', axis=1)"
   ]
  },
  {
   "cell_type": "code",
   "execution_count": 12,
   "id": "80f5963e-be47-40e7-9fca-58210d2bb102",
   "metadata": {},
   "outputs": [
    {
     "data": {
      "text/plain": [
       "(713, 12)"
      ]
     },
     "execution_count": 12,
     "metadata": {},
     "output_type": "execute_result"
    }
   ],
   "source": [
    "# train data shape\n",
    "titanic_train.shape"
   ]
  },
  {
   "cell_type": "code",
   "execution_count": 13,
   "id": "cafae62d-f9bd-4911-a2ce-737ff8ff4568",
   "metadata": {},
   "outputs": [
    {
     "data": {
      "text/plain": [
       "(178, 12)"
      ]
     },
     "execution_count": 13,
     "metadata": {},
     "output_type": "execute_result"
    }
   ],
   "source": [
    "# test data shape\n",
    "titanic_test.shape"
   ]
  },
  {
   "cell_type": "code",
   "execution_count": 14,
   "id": "d56bca70-65ee-4a0c-93c9-f3c944fd7679",
   "metadata": {},
   "outputs": [
    {
     "data": {
      "text/html": [
       "<style type=\"text/css\">\n",
       "\ttable {border:ridge 5px;}\n",
       "\ttable td {border:inset 1px;}\n",
       "\ttable tr#HeaderRow {background-color:grey; color:white;}</style>\n",
       "<html><table>\n",
       "\t<tr id=\"HeaderRow\">\n",
       "\t\t<th>passenger</th>\n",
       "\t\t<th>survived</th>\n",
       "\t\t<th>pclass</th>\n",
       "\t\t<th>name</th>\n",
       "\t\t<th>sex</th>\n",
       "\t\t<th>age</th>\n",
       "\t\t<th>sibsp</th>\n",
       "\t\t<th>parch</th>\n",
       "\t\t<th>ticket</th>\n",
       "\t\t<th>fare</th>\n",
       "\t\t<th>cabin</th>\n",
       "\t\t<th>embarked</th>\n",
       "\t</tr>\n",
       "\t<tr>\n",
       "\t\t<td>3</td>\n",
       "\t\t<td>1</td>\n",
       "\t\t<td>3</td>\n",
       "\t\t<td>Heikkinen, Miss. Laina</td>\n",
       "\t\t<td>female</td>\n",
       "\t\t<td>26</td>\n",
       "\t\t<td>0</td>\n",
       "\t\t<td>0</td>\n",
       "\t\t<td>STON/O2. 3101282</td>\n",
       "\t\t<td>7.925</td>\n",
       "\t\t<td>None</td>\n",
       "\t\t<td>S</td>\n",
       "\t</tr>\n",
       "\t<tr>\n",
       "\t\t<td>6</td>\n",
       "\t\t<td>0</td>\n",
       "\t\t<td>3</td>\n",
       "\t\t<td>Moran, Mr. James</td>\n",
       "\t\t<td>male</td>\n",
       "\t\t<td>None</td>\n",
       "\t\t<td>0</td>\n",
       "\t\t<td>0</td>\n",
       "\t\t<td>330877</td>\n",
       "\t\t<td>8.4583</td>\n",
       "\t\t<td>None</td>\n",
       "\t\t<td>Q</td>\n",
       "\t</tr>\n",
       "\t<tr>\n",
       "\t\t<td>7</td>\n",
       "\t\t<td>0</td>\n",
       "\t\t<td>1</td>\n",
       "\t\t<td>McCarthy, Mr. Timothy J</td>\n",
       "\t\t<td>male</td>\n",
       "\t\t<td>54</td>\n",
       "\t\t<td>0</td>\n",
       "\t\t<td>0</td>\n",
       "\t\t<td>17463</td>\n",
       "\t\t<td>51.8625</td>\n",
       "\t\t<td>E46</td>\n",
       "\t\t<td>S</td>\n",
       "\t</tr>\n",
       "\t<tr>\n",
       "\t\t<td>10</td>\n",
       "\t\t<td>1</td>\n",
       "\t\t<td>2</td>\n",
       "\t\t<td>Nasser, Mrs. Nicholas (Adele Achem)</td>\n",
       "\t\t<td>female</td>\n",
       "\t\t<td>14</td>\n",
       "\t\t<td>1</td>\n",
       "\t\t<td>0</td>\n",
       "\t\t<td>237736</td>\n",
       "\t\t<td>30.0708</td>\n",
       "\t\t<td>None</td>\n",
       "\t\t<td>C</td>\n",
       "\t</tr>\n",
       "\t<tr>\n",
       "\t\t<td>12</td>\n",
       "\t\t<td>1</td>\n",
       "\t\t<td>1</td>\n",
       "\t\t<td>Bonnell, Miss. Elizabeth</td>\n",
       "\t\t<td>female</td>\n",
       "\t\t<td>58</td>\n",
       "\t\t<td>0</td>\n",
       "\t\t<td>0</td>\n",
       "\t\t<td>113783</td>\n",
       "\t\t<td>26.55</td>\n",
       "\t\t<td>C103</td>\n",
       "\t\t<td>S</td>\n",
       "\t</tr>\n",
       "\t<tr>\n",
       "\t\t<td>13</td>\n",
       "\t\t<td>0</td>\n",
       "\t\t<td>3</td>\n",
       "\t\t<td>Saundercock, Mr. William Henry</td>\n",
       "\t\t<td>male</td>\n",
       "\t\t<td>20</td>\n",
       "\t\t<td>0</td>\n",
       "\t\t<td>0</td>\n",
       "\t\t<td>A/5. 2151</td>\n",
       "\t\t<td>8.05</td>\n",
       "\t\t<td>None</td>\n",
       "\t\t<td>S</td>\n",
       "\t</tr>\n",
       "\t<tr>\n",
       "\t\t<td>11</td>\n",
       "\t\t<td>1</td>\n",
       "\t\t<td>3</td>\n",
       "\t\t<td>Sandstrom, Miss. Marguerite Rut</td>\n",
       "\t\t<td>female</td>\n",
       "\t\t<td>4</td>\n",
       "\t\t<td>1</td>\n",
       "\t\t<td>1</td>\n",
       "\t\t<td>PP 9549</td>\n",
       "\t\t<td>16.7</td>\n",
       "\t\t<td>G6</td>\n",
       "\t\t<td>S</td>\n",
       "\t</tr>\n",
       "\t<tr>\n",
       "\t\t<td>5</td>\n",
       "\t\t<td>0</td>\n",
       "\t\t<td>3</td>\n",
       "\t\t<td>Allen, Mr. William Henry</td>\n",
       "\t\t<td>male</td>\n",
       "\t\t<td>35</td>\n",
       "\t\t<td>0</td>\n",
       "\t\t<td>0</td>\n",
       "\t\t<td>373450</td>\n",
       "\t\t<td>8.05</td>\n",
       "\t\t<td>None</td>\n",
       "\t\t<td>S</td>\n",
       "\t</tr>\n",
       "\t<tr>\n",
       "\t\t<td>2</td>\n",
       "\t\t<td>1</td>\n",
       "\t\t<td>1</td>\n",
       "\t\t<td>Cumings, Mrs. John Bradley (Florence Briggs Thayer)</td>\n",
       "\t\t<td>female</td>\n",
       "\t\t<td>38</td>\n",
       "\t\t<td>1</td>\n",
       "\t\t<td>0</td>\n",
       "\t\t<td>PC 17599</td>\n",
       "\t\t<td>71.2833</td>\n",
       "\t\t<td>C85</td>\n",
       "\t\t<td>C</td>\n",
       "\t</tr>\n",
       "\t<tr>\n",
       "\t\t<td>1</td>\n",
       "\t\t<td>0</td>\n",
       "\t\t<td>3</td>\n",
       "\t\t<td>Braund, Mr. Owen Harris</td>\n",
       "\t\t<td>male</td>\n",
       "\t\t<td>22</td>\n",
       "\t\t<td>1</td>\n",
       "\t\t<td>0</td>\n",
       "\t\t<td>A/5 21171</td>\n",
       "\t\t<td>7.25</td>\n",
       "\t\t<td>None</td>\n",
       "\t\t<td>S</td>\n",
       "\t</tr>\n",
       "</table></html>"
      ],
      "text/plain": [
       "           survived  pclass                                                 name     sex   age  sibsp  parch            ticket     fare cabin embarked\n",
       "passenger                                                                                                                                             \n",
       "3                 1       3                               Heikkinen, Miss. Laina  female  26.0      0      0  STON/O2. 3101282   7.9250  None        S\n",
       "6                 0       3                                     Moran, Mr. James    male   NaN      0      0            330877   8.4583  None        Q\n",
       "7                 0       1                              McCarthy, Mr. Timothy J    male  54.0      0      0             17463  51.8625   E46        S\n",
       "10                1       2                  Nasser, Mrs. Nicholas (Adele Achem)  female  14.0      1      0            237736  30.0708  None        C\n",
       "12                1       1                             Bonnell, Miss. Elizabeth  female  58.0      0      0            113783  26.5500  C103        S\n",
       "13                0       3                       Saundercock, Mr. William Henry    male  20.0      0      0         A/5. 2151   8.0500  None        S\n",
       "11                1       3                      Sandstrom, Miss. Marguerite Rut  female   4.0      1      1           PP 9549  16.7000    G6        S\n",
       "5                 0       3                             Allen, Mr. William Henry    male  35.0      0      0            373450   8.0500  None        S\n",
       "2                 1       1  Cumings, Mrs. John Bradley (Florence Briggs Thayer)  female  38.0      1      0          PC 17599  71.2833   C85        C\n",
       "1                 0       3                              Braund, Mr. Owen Harris    male  22.0      1      0         A/5 21171   7.2500  None        S"
      ]
     },
     "execution_count": 14,
     "metadata": {},
     "output_type": "execute_result"
    }
   ],
   "source": [
    "# train dataset\n",
    "titanic_train.head()"
   ]
  },
  {
   "cell_type": "code",
   "execution_count": 15,
   "id": "edd90ecd-5ef4-4997-ba38-76338cd83a74",
   "metadata": {},
   "outputs": [
    {
     "data": {
      "text/html": [
       "<style type=\"text/css\">\n",
       "\ttable {border:ridge 5px;}\n",
       "\ttable td {border:inset 1px;}\n",
       "\ttable tr#HeaderRow {background-color:grey; color:white;}</style>\n",
       "<html><table>\n",
       "\t<tr id=\"HeaderRow\">\n",
       "\t\t<th>passenger</th>\n",
       "\t\t<th>survived</th>\n",
       "\t\t<th>pclass</th>\n",
       "\t\t<th>name</th>\n",
       "\t\t<th>sex</th>\n",
       "\t\t<th>age</th>\n",
       "\t\t<th>sibsp</th>\n",
       "\t\t<th>parch</th>\n",
       "\t\t<th>ticket</th>\n",
       "\t\t<th>fare</th>\n",
       "\t\t<th>cabin</th>\n",
       "\t\t<th>embarked</th>\n",
       "\t</tr>\n",
       "\t<tr>\n",
       "\t\t<td>9</td>\n",
       "\t\t<td>1</td>\n",
       "\t\t<td>3</td>\n",
       "\t\t<td>Johnson, Mrs. Oscar W (Elisabeth Vilhelmina Berg)</td>\n",
       "\t\t<td>female</td>\n",
       "\t\t<td>27</td>\n",
       "\t\t<td>0</td>\n",
       "\t\t<td>2</td>\n",
       "\t\t<td>347742</td>\n",
       "\t\t<td>11.1333</td>\n",
       "\t\t<td>None</td>\n",
       "\t\t<td>S</td>\n",
       "\t</tr>\n",
       "\t<tr>\n",
       "\t\t<td>19</td>\n",
       "\t\t<td>0</td>\n",
       "\t\t<td>3</td>\n",
       "\t\t<td>Vander Planke, Mrs. Julius (Emelia Maria Vandemoortele)</td>\n",
       "\t\t<td>female</td>\n",
       "\t\t<td>31</td>\n",
       "\t\t<td>1</td>\n",
       "\t\t<td>0</td>\n",
       "\t\t<td>345763</td>\n",
       "\t\t<td>18.0</td>\n",
       "\t\t<td>None</td>\n",
       "\t\t<td>S</td>\n",
       "\t</tr>\n",
       "\t<tr>\n",
       "\t\t<td>30</td>\n",
       "\t\t<td>0</td>\n",
       "\t\t<td>3</td>\n",
       "\t\t<td>Todoroff, Mr. Lalio</td>\n",
       "\t\t<td>male</td>\n",
       "\t\t<td>None</td>\n",
       "\t\t<td>0</td>\n",
       "\t\t<td>0</td>\n",
       "\t\t<td>349216</td>\n",
       "\t\t<td>7.8958</td>\n",
       "\t\t<td>None</td>\n",
       "\t\t<td>S</td>\n",
       "\t</tr>\n",
       "\t<tr>\n",
       "\t\t<td>33</td>\n",
       "\t\t<td>1</td>\n",
       "\t\t<td>3</td>\n",
       "\t\t<td>Glynn, Miss. Mary Agatha</td>\n",
       "\t\t<td>female</td>\n",
       "\t\t<td>None</td>\n",
       "\t\t<td>0</td>\n",
       "\t\t<td>0</td>\n",
       "\t\t<td>335677</td>\n",
       "\t\t<td>7.75</td>\n",
       "\t\t<td>None</td>\n",
       "\t\t<td>Q</td>\n",
       "\t</tr>\n",
       "\t<tr>\n",
       "\t\t<td>36</td>\n",
       "\t\t<td>0</td>\n",
       "\t\t<td>1</td>\n",
       "\t\t<td>Holverson, Mr. Alexander Oskar</td>\n",
       "\t\t<td>male</td>\n",
       "\t\t<td>42</td>\n",
       "\t\t<td>1</td>\n",
       "\t\t<td>0</td>\n",
       "\t\t<td>113789</td>\n",
       "\t\t<td>52.0</td>\n",
       "\t\t<td>None</td>\n",
       "\t\t<td>S</td>\n",
       "\t</tr>\n",
       "\t<tr>\n",
       "\t\t<td>41</td>\n",
       "\t\t<td>0</td>\n",
       "\t\t<td>3</td>\n",
       "\t\t<td>Ahlin, Mrs. Johan (Johanna Persdotter Larsson)</td>\n",
       "\t\t<td>female</td>\n",
       "\t\t<td>40</td>\n",
       "\t\t<td>1</td>\n",
       "\t\t<td>0</td>\n",
       "\t\t<td>7546</td>\n",
       "\t\t<td>9.475</td>\n",
       "\t\t<td>None</td>\n",
       "\t\t<td>S</td>\n",
       "\t</tr>\n",
       "\t<tr>\n",
       "\t\t<td>35</td>\n",
       "\t\t<td>0</td>\n",
       "\t\t<td>1</td>\n",
       "\t\t<td>Meyer, Mr. Edgar Joseph</td>\n",
       "\t\t<td>male</td>\n",
       "\t\t<td>28</td>\n",
       "\t\t<td>1</td>\n",
       "\t\t<td>0</td>\n",
       "\t\t<td>PC 17604</td>\n",
       "\t\t<td>82.1708</td>\n",
       "\t\t<td>None</td>\n",
       "\t\t<td>C</td>\n",
       "\t</tr>\n",
       "\t<tr>\n",
       "\t\t<td>18</td>\n",
       "\t\t<td>1</td>\n",
       "\t\t<td>2</td>\n",
       "\t\t<td>Williams, Mr. Charles Eugene</td>\n",
       "\t\t<td>male</td>\n",
       "\t\t<td>None</td>\n",
       "\t\t<td>0</td>\n",
       "\t\t<td>0</td>\n",
       "\t\t<td>244373</td>\n",
       "\t\t<td>13.0</td>\n",
       "\t\t<td>None</td>\n",
       "\t\t<td>S</td>\n",
       "\t</tr>\n",
       "\t<tr>\n",
       "\t\t<td>8</td>\n",
       "\t\t<td>0</td>\n",
       "\t\t<td>3</td>\n",
       "\t\t<td>Palsson, Master. Gosta Leonard</td>\n",
       "\t\t<td>male</td>\n",
       "\t\t<td>2</td>\n",
       "\t\t<td>3</td>\n",
       "\t\t<td>1</td>\n",
       "\t\t<td>349909</td>\n",
       "\t\t<td>21.075</td>\n",
       "\t\t<td>None</td>\n",
       "\t\t<td>S</td>\n",
       "\t</tr>\n",
       "\t<tr>\n",
       "\t\t<td>4</td>\n",
       "\t\t<td>1</td>\n",
       "\t\t<td>1</td>\n",
       "\t\t<td>Futrelle, Mrs. Jacques Heath (Lily May Peel)</td>\n",
       "\t\t<td>female</td>\n",
       "\t\t<td>35</td>\n",
       "\t\t<td>1</td>\n",
       "\t\t<td>0</td>\n",
       "\t\t<td>113803</td>\n",
       "\t\t<td>53.1</td>\n",
       "\t\t<td>C123</td>\n",
       "\t\t<td>S</td>\n",
       "\t</tr>\n",
       "</table></html>"
      ],
      "text/plain": [
       "           survived  pclass                                                     name     sex   age  sibsp  parch    ticket     fare cabin embarked\n",
       "passenger                                                                                                                                         \n",
       "9                 1       3        Johnson, Mrs. Oscar W (Elisabeth Vilhelmina Berg)  female  27.0      0      2    347742  11.1333  None        S\n",
       "19                0       3  Vander Planke, Mrs. Julius (Emelia Maria Vandemoortele)  female  31.0      1      0    345763  18.0000  None        S\n",
       "30                0       3                                      Todoroff, Mr. Lalio    male   NaN      0      0    349216   7.8958  None        S\n",
       "33                1       3                                 Glynn, Miss. Mary Agatha  female   NaN      0      0    335677   7.7500  None        Q\n",
       "36                0       1                           Holverson, Mr. Alexander Oskar    male  42.0      1      0    113789  52.0000  None        S\n",
       "41                0       3           Ahlin, Mrs. Johan (Johanna Persdotter Larsson)  female  40.0      1      0      7546   9.4750  None        S\n",
       "35                0       1                                  Meyer, Mr. Edgar Joseph    male  28.0      1      0  PC 17604  82.1708  None        C\n",
       "18                1       2                             Williams, Mr. Charles Eugene    male   NaN      0      0    244373  13.0000  None        S\n",
       "8                 0       3                           Palsson, Master. Gosta Leonard    male   2.0      3      1    349909  21.0750  None        S\n",
       "4                 1       1             Futrelle, Mrs. Jacques Heath (Lily May Peel)  female  35.0      1      0    113803  53.1000  C123        S"
      ]
     },
     "execution_count": 15,
     "metadata": {},
     "output_type": "execute_result"
    }
   ],
   "source": [
    "# test dataset\n",
    "titanic_test.head()"
   ]
  },
  {
   "cell_type": "code",
   "execution_count": 17,
   "id": "2bd5e188-15c3-43a4-997c-bb00b48680c9",
   "metadata": {
    "collapsed": true,
    "jupyter": {
     "outputs_hidden": true
    },
    "tags": []
   },
   "outputs": [
    {
     "name": "stdout",
     "output_type": "stream",
     "text": [
      "\n",
      "Generating custom config JSON for AutoML ...\n",
      "\n",
      "Available main options for customization with corresponding indices: \n",
      "--------------------------------------------------------------------------------\n",
      "\n",
      "Index 1: Customize Feature Engineering Phase\n",
      "\n",
      "Index 2: Customize Data Preparation Phase\n",
      "\n",
      "Index 3: Customize Model Training Phase\n",
      "\n",
      "Index 4: Generate custom json and exit\n",
      "--------------------------------------------------------------------------------\n",
      "\n",
      "Enter the index you want to customize:  1\n",
      "\n",
      "Customizing Feature Engineering Phase ...\n",
      "\n",
      "Available options for customization of feature engineering phase with corresponding indices: \n",
      "--------------------------------------------------------------------------------\n",
      "\n",
      "Index 1: Customize Missing Value Handling\n",
      "\n",
      "Index 2: Customize Bincode Encoding\n",
      "\n",
      "Index 3: Customize String Manipulation\n",
      "\n",
      "Index 4: Customize Categorical Encoding\n",
      "\n",
      "Index 5: Customize Mathematical Transformation\n",
      "\n",
      "Index 6: Customize Nonlinear Transformation\n",
      "\n",
      "Index 7: Customize Antiselect Features\n",
      "\n",
      "Index 8: Back to main menu\n",
      "\n",
      "Index 9: Generate custom json and exit\n",
      "--------------------------------------------------------------------------------\n",
      "\n",
      "Enter the list of indices you want to customize in feature engineering phase:  1,2,4,6,7,8\n",
      "\n",
      "Customizing Missing Value Handling ...\n",
      "\n",
      "Provide the following details to customize missing value handling:\n",
      "\n",
      "Available missing value handling methods with corresponding indices: \n",
      "Index 1: Drop Columns\n",
      "Index 2: Drop Rows\n",
      "Index 3: Impute Missing values\n",
      "\n",
      "Enter the list of indices for missing value handling methods :  1,3\n",
      "\n",
      "Enter the feature or list of features for dropping columns with missing values:  cabin\n",
      "\n",
      "Available missing value imputation methods with corresponding indices: \n",
      "Index 1: Statistical Imputation\n",
      "Index 2: Literal Imputation\n",
      "\n",
      "Enter the list of corresponding index missing value imputation methods you want to use:  1\n",
      "\n",
      "Enter the feature or list of features for imputing missing values using statistic values:  age, embarked\n",
      "\n",
      "Available statistical methods with corresponding indices:\n",
      "Index 1: min\n",
      "Index 2: max\n",
      "Index 3: mean\n",
      "Index 4: median\n",
      "Index 5: mode\n",
      "\n",
      "Enter the index of corresponding statistic imputation method for feature age:  4\n",
      "\n",
      "Enter the index of corresponding statistic imputation method for feature embarked:  5\n",
      "\n",
      "Customization of missing value handling has been completed successfully.\n",
      "\n",
      "Customizing Bincode Encoding ...\n",
      "\n",
      "Provide the following details to customize binning and coding encoding:\n",
      "\n",
      "Available binning methods with corresponding indices:\n",
      "Index 1: Equal-Width\n",
      "Index 2: Variable-Width\n",
      "\n",
      "Enter the feature or list of features for binning:  pclass\n",
      "\n",
      "Enter the index of corresponding binning method for feature pclass:  2\n",
      "\n",
      "Enter the number of bins for feature pclass:  2\n",
      "\n",
      "Available value type of feature for variable binning with corresponding indices:\n",
      "Index 1: int\n",
      "Index 2: float\n",
      "\n",
      "Provide the range for bin 1 of feature pclass: \n",
      "\n",
      "Enter the index of corresponding value type of feature pclass:  1\n",
      "\n",
      "Enter the minimum value for bin 1 of feature pclass:  0\n",
      "\n",
      "Enter the maximum value for bin 1 of feature pclass:  1\n",
      "\n",
      "Enter the label for bin 1 of feature pclass:  low\n",
      "\n",
      "Provide the range for bin 2 of feature pclass: \n",
      "\n",
      "Enter the index of corresponding value type of feature pclass:  1\n",
      "\n",
      "Enter the minimum value for bin 2 of feature pclass:  2\n",
      "\n",
      "Enter the maximum value for bin 2 of feature pclass:  3\n",
      "\n",
      "Enter the label for bin 2 of feature pclass:  high\n",
      "\n",
      "Customization of bincode encoding has been completed successfully.\n",
      "\n",
      "Customizing Categorical Encoding ...\n",
      "\n",
      "Provide the following details to customize categorical encoding:\n",
      "\n",
      "Available categorical encoding methods with corresponding indices:\n",
      "Index 1: OneHotEncoding\n",
      "Index 2: OrdinalEncoding\n",
      "Index 3: TargetEncoding\n",
      "\n",
      "Enter the list of corresponding index categorical encoding methods you want to use:  2,3\n",
      "\n",
      "Enter the feature or list of features for OrdinalEncoding:  pclass\n",
      "\n",
      "Enter the feature or list of features for TargetEncoding:  embarked\n",
      "\n",
      "Available target encoding methods with corresponding indices:\n",
      "Index 1: CBM_BETA\n",
      "Index 2: CBM_DIRICHLET\n",
      "Index 3: CBM_GAUSSIAN_INVERSE_GAMMA\n",
      "\n",
      "Enter the index of target encoding method for feature embarked:  3\n",
      "\n",
      "Enter the response column for target encoding method for feature embarked:  survived\n",
      "\n",
      "Customization of categorical encoding has been completed successfully.\n",
      "\n",
      "Customizing Nonlinear Transformation ...\n",
      "\n",
      "Provide the following details to customize nonlinear transformation:\n",
      "\n",
      "Enter number of non-linear combination you want to make:  1\n",
      "\n",
      "Provide the details for non-linear combination 1:\n",
      "\n",
      "Enter the list of target feature/s for non-linear combination 1:  parch, sibsp\n",
      "\n",
      "Enter the formula for non-linear combination 1:  Y=(X0+X1+1)\n",
      "\n",
      "Enter the resultant feature for non-linear combination 1:  Family_count\n",
      "\n",
      "Customization of nonlinear transformation has been completed successfully.\n",
      "\n",
      "Customizing Antiselect Features ...\n",
      "\n",
      "Enter the feature or list of features for antiselect:  passenger\n",
      "\n",
      "Customization of antiselect features has been completed successfully.\n",
      "\n",
      "Customization of feature engineering phase has been completed successfully.\n",
      "\n",
      "Available main options for customization with corresponding indices: \n",
      "--------------------------------------------------------------------------------\n",
      "\n",
      "Index 1: Customize Feature Engineering Phase\n",
      "\n",
      "Index 2: Customize Data Preparation Phase\n",
      "\n",
      "Index 3: Customize Model Training Phase\n",
      "\n",
      "Index 4: Generate custom json and exit\n",
      "--------------------------------------------------------------------------------\n",
      "\n",
      "Enter the index you want to customize:  2\n",
      "\n",
      "Customizing Data Preparation Phase ...\n",
      "\n",
      "Available options for customization of data preparation phase with corresponding indices: \n",
      "--------------------------------------------------------------------------------\n",
      "\n",
      "Index 1: Customize Train Test Split\n",
      "\n",
      "Index 2: Customize Data Imbalance Handling\n",
      "\n",
      "Index 3: Customize Outlier Handling\n",
      "\n",
      "Index 4: Customize Feature Scaling\n",
      "\n",
      "Index 5: Back to main menu\n",
      "\n",
      "Index 6: Generate custom json and exit\n",
      "--------------------------------------------------------------------------------\n",
      "\n",
      "Enter the list of indices you want to customize in data preparation phase:  1,2,3,4,5\n",
      "\n",
      "Customizing Train Test Split ...\n",
      "\n",
      "Enter the train size for train test split:  0.75\n",
      "\n",
      "Customization of train test split has been completed successfully.\n",
      "\n",
      "Customizing Data Imbalance Handling ...\n",
      "\n",
      "Available data sampling methods with corresponding indices:\n",
      "Index 1: SMOTE\n",
      "Index 2: NearMiss\n",
      "\n",
      "Enter the corresponding index data imbalance handling method:  1\n",
      "\n",
      "Customization of data imbalance handling has been completed successfully.\n",
      "\n",
      "Customizing Outlier Handling ...\n",
      "\n",
      "Available outlier detection methods with corresponding indices:\n",
      "Index 1: percentile\n",
      "Index 2: tukey\n",
      "Index 3: carling\n",
      "\n",
      "Enter the corresponding index oulier handling method:  1\n",
      "\n",
      "Enter the lower percentile value for outlier handling:  0.1\n",
      "\n",
      "Enter the upper percentile value for outlier handling:  0.9\n",
      "\n",
      "Enter the feature or list of features for outlier handling:  fare\n",
      "\n",
      "Available outlier replacement methods with corresponding indices:\n",
      "Index 1: delete\n",
      "Index 2: median\n",
      "Index 3: Any Numeric Value\n",
      "\n",
      "Enter the index of corresponding replacement method for feature fare:  2\n",
      "\n",
      "Customization of outlier handling has been completed successfully.\n",
      "\n",
      "Available feature scaling methods with corresponding indices:\n",
      "Index 1: maxabs\n",
      "Index 2: mean\n",
      "Index 3: midrange\n",
      "Index 4: range\n",
      "Index 5: rescale\n",
      "Index 6: std\n",
      "Index 7: sum\n",
      "Index 8: ustd\n",
      "\n",
      "Enter the corresponding index feature scaling method:  6\n",
      "\n",
      "Customization of feature scaling has been completed successfully.\n",
      "\n",
      "Customization of data preparation phase has been completed successfully.\n",
      "\n",
      "Available main options for customization with corresponding indices: \n",
      "--------------------------------------------------------------------------------\n",
      "\n",
      "Index 1: Customize Feature Engineering Phase\n",
      "\n",
      "Index 2: Customize Data Preparation Phase\n",
      "\n",
      "Index 3: Customize Model Training Phase\n",
      "\n",
      "Index 4: Generate custom json and exit\n",
      "--------------------------------------------------------------------------------\n",
      "\n",
      "Enter the index you want to customize:  3\n",
      "\n",
      "Customizing Model Training Phase ...\n",
      "\n",
      "Available options for customization of model training phase with corresponding indices: \n",
      "--------------------------------------------------------------------------------\n",
      "\n",
      "Index 1: Customize Model Hyperparameter\n",
      "\n",
      "Index 2: Back to main menu\n",
      "\n",
      "Index 3: Generate custom json and exit\n",
      "--------------------------------------------------------------------------------\n",
      "\n",
      "Enter the list of indices you want to customize in model training phase:  1,2\n",
      "\n",
      "Customizing Model Hyperparameter ...\n",
      "\n",
      "Available models for hyperparameter tuning with corresponding indices:\n",
      "Index 1: decision_forest\n",
      "Index 2: xgboost\n",
      "Index 3: knn\n",
      "Index 4: glm\n",
      "Index 5: svm\n",
      "\n",
      "Available hyperparamters update methods with corresponding indices:\n",
      "Index 1: ADD\n",
      "Index 2: REPLACE\n",
      "\n",
      "Enter the list of model indices for performing hyperparameter tuning:  2\n",
      "\n",
      "Available hyperparameters for model 'xgboost' with corresponding indices:\n",
      "Index 1: min_impurity\n",
      "Index 2: max_depth\n",
      "Index 3: min_node_size\n",
      "Index 4: shrinkage_factor\n",
      "Index 5: iter_num\n",
      "\n",
      "Enter the list of hyperparameter indices for model 'xgboost':  3\n",
      "\n",
      "Enter the index of corresponding update method for hyperparameters 'min_node_size' for model 'xgboost':  1\n",
      "\n",
      "Enter the list of value for hyperparameter 'min_node_size' for model 'xgboost':  1,5\n",
      "\n",
      "Customization of model hyperparameter has been completed successfully.\n",
      "\n",
      "Customization of model training phase has been completed successfully.\n",
      "\n",
      "Available main options for customization with corresponding indices: \n",
      "--------------------------------------------------------------------------------\n",
      "\n",
      "Index 1: Customize Feature Engineering Phase\n",
      "\n",
      "Index 2: Customize Data Preparation Phase\n",
      "\n",
      "Index 3: Customize Model Training Phase\n",
      "\n",
      "Index 4: Generate custom json and exit\n",
      "--------------------------------------------------------------------------------\n",
      "\n",
      "Enter the index you want to customize:  4\n",
      "\n",
      "Generating custom json and exiting ...\n",
      "\n",
      "Process of generating custom config file for AutoML has been completed successfully.\n",
      "\n",
      "'custom_titanic.json' file is generated successfully under the current working directory.\n"
     ]
    }
   ],
   "source": [
    "AutoML.generate_custom_config(\"custom_titanic\")"
   ]
  },
  {
   "cell_type": "markdown",
   "id": "856ea871-93d8-4ea2-b524-1acb23bd7eb5",
   "metadata": {},
   "source": [
    "## <b><span style='color:#F1A424'>| 2.</span> Fitting AutoML </b>"
   ]
  },
  {
   "cell_type": "code",
   "execution_count": 18,
   "id": "f3650aa5-a408-4227-a88d-79c0f3d36d3c",
   "metadata": {},
   "outputs": [],
   "source": [
    "# Creating AutoML Instance with task type 'Classification'\n",
    "# Including only decision forest and xgboost model from default model list for training.\n",
    "# Using early stopping timer criteria with value 300 sec and max_models as 5\n",
    "# Passing custom json file to provide customized value for AutoML.\n",
    "\n",
    "aml = AutoML(task_type=\"Classification\",\n",
    "             include=['decision_forest','xgboost'],\n",
    "             verbose=2,\n",
    "             max_runtime_secs=300,\n",
    "             max_models=5,\n",
    "             custom_config_file='custom_titanic.json')"
   ]
  },
  {
   "cell_type": "code",
   "execution_count": 19,
   "id": "a1b7a771-1bfa-40c9-8ad0-c377d320c137",
   "metadata": {
    "tags": []
   },
   "outputs": [
    {
     "name": "stdout",
     "output_type": "stream",
     "text": [
      "\n",
      "Received below input for customization : \n",
      "{\n",
      "    \"MissingValueHandlingIndicator\": true,\n",
      "    \"MissingValueHandlingParam\": {\n",
      "        \"DroppingColumnIndicator\": true,\n",
      "        \"DroppingColumnList\": [\n",
      "            \"cabin\"\n",
      "        ],\n",
      "        \"ImputeMissingIndicator\": true,\n",
      "        \"StatImputeList\": [\n",
      "            \"age\",\n",
      "            \"embarked\"\n",
      "        ],\n",
      "        \"StatImputeMethod\": [\n",
      "            \"median\",\n",
      "            \"mode\"\n",
      "        ]\n",
      "    },\n",
      "    \"BincodeIndicator\": true,\n",
      "    \"BincodeParam\": {\n",
      "        \"pclass\": {\n",
      "            \"Type\": \"Variable-Width\",\n",
      "            \"NumOfBins\": 2,\n",
      "            \"Bin_1\": {\n",
      "                \"min_value\": 0,\n",
      "                \"max_value\": 1,\n",
      "                \"label\": \"low\"\n",
      "            },\n",
      "            \"Bin_2\": {\n",
      "                \"min_value\": 2,\n",
      "                \"max_value\": 3,\n",
      "                \"label\": \"high\"\n",
      "            }\n",
      "        }\n",
      "    },\n",
      "    \"CategoricalEncodingIndicator\": true,\n",
      "    \"CategoricalEncodingParam\": {\n",
      "        \"OrdinalEncodingIndicator\": true,\n",
      "        \"OrdinalEncodingList\": [\n",
      "            \"pclass\"\n",
      "        ],\n",
      "        \"TargetEncodingIndicator\": true,\n",
      "        \"TargetEncodingList\": {\n",
      "            \"embarked\": {\n",
      "                \"encoder_method\": \"CBM_GAUSSIAN_INVERSE_GAMMA\",\n",
      "                \"response_column\": \"survived\"\n",
      "            }\n",
      "        }\n",
      "    },\n",
      "    \"NonLinearTransformationIndicator\": true,\n",
      "    \"NonLinearTransformationParam\": {\n",
      "        \"Combination_1\": {\n",
      "            \"target_columns\": [\n",
      "                \"parch\",\n",
      "                \"sibsp\"\n",
      "            ],\n",
      "            \"formula\": \"Y=(X0+X1+1)\",\n",
      "            \"result_column\": \"Family_count\"\n",
      "        }\n",
      "    },\n",
      "    \"AntiselectIndicator\": true,\n",
      "    \"AntiselectParam\": [\n",
      "        \"passenger\"\n",
      "    ],\n",
      "    \"TrainTestSplitIndicator\": true,\n",
      "    \"TrainingSize\": 0.75,\n",
      "    \"DataImbalanceIndicator\": true,\n",
      "    \"DataImbalanceMethod\": \"SMOTE\",\n",
      "    \"OutlierFilterIndicator\": true,\n",
      "    \"OutlierFilterMethod\": \"percentile\",\n",
      "    \"OutlierLowerPercentile\": 0.1,\n",
      "    \"OutlierUpperPercentile\": 0.9,\n",
      "    \"OutlierFilterParam\": {\n",
      "        \"fare\": {\n",
      "            \"replacement_value\": \"median\"\n",
      "        }\n",
      "    },\n",
      "    \"FeatureScalingIndicator\": true,\n",
      "    \"FeatureScalingMethod\": \"std\",\n",
      "    \"HyperparameterTuningIndicator\": true,\n",
      "    \"HyperparameterTuningParam\": {\n",
      "        \"xgboost\": {\n",
      "            \"min_node_size\": {\n",
      "                \"Method\": \"ADD\",\n",
      "                \"Value\": [\n",
      "                    1,\n",
      "                    5\n",
      "                ]\n",
      "            }\n",
      "        }\n",
      "    }\n",
      "}\n"
     ]
    },
    {
     "data": {
      "text/html": [
       "\n",
       "            <style>\n",
       "                .custom-div {\n",
       "                    background-color: lightgray;\n",
       "                    color: #000000;\n",
       "                    padding: 10px;\n",
       "                    border-radius: 8px;\n",
       "                    box-shadow: 0 3px 4px rgba(0, 0, 0, 0.2);\n",
       "                    margin-bottom: 10px;\n",
       "                    text-align: center;\n",
       "                }\n",
       "            </style>\n",
       "        <br><div class=\"custom-div\"><h3><span style=\"color: green;\"></span>1. Feature Exploration -> 2. Feature Engineering -> 3. Data Preparation -> 4. Model Training & Evaluation<center></h3></center></div>"
      ],
      "text/plain": [
       "<IPython.core.display.HTML object>"
      ]
     },
     "metadata": {},
     "output_type": "display_data"
    },
    {
     "name": "stdout",
     "output_type": "stream",
     "text": [
      "Feature Exploration started ...\n",
      "\n",
      "Data Overview:\n",
      "Total Rows in the data: 713\n",
      "Total Columns in the data: 12\n",
      "\n",
      "Column Summary:\n"
     ]
    },
    {
     "data": {
      "text/html": [
       "<style type=\"text/css\">\n",
       "\ttable {border:ridge 5px;}\n",
       "\ttable td {border:inset 1px;}\n",
       "\ttable tr#HeaderRow {background-color:grey; color:white;}</style>\n",
       "<html><table>\n",
       "\t<tr id=\"HeaderRow\">\n",
       "\t\t<th>ColumnName</th>\n",
       "\t\t<th>Datatype</th>\n",
       "\t\t<th>NonNullCount</th>\n",
       "\t\t<th>NullCount</th>\n",
       "\t\t<th>BlankCount</th>\n",
       "\t\t<th>ZeroCount</th>\n",
       "\t\t<th>PositiveCount</th>\n",
       "\t\t<th>NegativeCount</th>\n",
       "\t\t<th>NullPercentage</th>\n",
       "\t\t<th>NonNullPercentage</th>\n",
       "\t</tr>\n",
       "\t<tr>\n",
       "\t\t<td>age</td>\n",
       "\t\t<td>INTEGER</td>\n",
       "\t\t<td>567</td>\n",
       "\t\t<td>146</td>\n",
       "\t\t<td>None</td>\n",
       "\t\t<td>4</td>\n",
       "\t\t<td>563</td>\n",
       "\t\t<td>0</td>\n",
       "\t\t<td>20.47685834502104</td>\n",
       "\t\t<td>79.52314165497896</td>\n",
       "\t</tr>\n",
       "\t<tr>\n",
       "\t\t<td>fare</td>\n",
       "\t\t<td>FLOAT</td>\n",
       "\t\t<td>713</td>\n",
       "\t\t<td>0</td>\n",
       "\t\t<td>None</td>\n",
       "\t\t<td>14</td>\n",
       "\t\t<td>699</td>\n",
       "\t\t<td>0</td>\n",
       "\t\t<td>0.0</td>\n",
       "\t\t<td>100.0</td>\n",
       "\t</tr>\n",
       "\t<tr>\n",
       "\t\t<td>embarked</td>\n",
       "\t\t<td>VARCHAR(20) CHARACTER SET LATIN</td>\n",
       "\t\t<td>712</td>\n",
       "\t\t<td>1</td>\n",
       "\t\t<td>0</td>\n",
       "\t\t<td>None</td>\n",
       "\t\t<td>None</td>\n",
       "\t\t<td>None</td>\n",
       "\t\t<td>0.1402524544179523</td>\n",
       "\t\t<td>99.85974754558205</td>\n",
       "\t</tr>\n",
       "\t<tr>\n",
       "\t\t<td>sex</td>\n",
       "\t\t<td>VARCHAR(20) CHARACTER SET LATIN</td>\n",
       "\t\t<td>713</td>\n",
       "\t\t<td>0</td>\n",
       "\t\t<td>0</td>\n",
       "\t\t<td>None</td>\n",
       "\t\t<td>None</td>\n",
       "\t\t<td>None</td>\n",
       "\t\t<td>0.0</td>\n",
       "\t\t<td>100.0</td>\n",
       "\t</tr>\n",
       "\t<tr>\n",
       "\t\t<td>name</td>\n",
       "\t\t<td>VARCHAR(1000) CHARACTER SET LATIN</td>\n",
       "\t\t<td>713</td>\n",
       "\t\t<td>0</td>\n",
       "\t\t<td>0</td>\n",
       "\t\t<td>None</td>\n",
       "\t\t<td>None</td>\n",
       "\t\t<td>None</td>\n",
       "\t\t<td>0.0</td>\n",
       "\t\t<td>100.0</td>\n",
       "\t</tr>\n",
       "\t<tr>\n",
       "\t\t<td>passenger</td>\n",
       "\t\t<td>INTEGER</td>\n",
       "\t\t<td>713</td>\n",
       "\t\t<td>0</td>\n",
       "\t\t<td>None</td>\n",
       "\t\t<td>0</td>\n",
       "\t\t<td>713</td>\n",
       "\t\t<td>0</td>\n",
       "\t\t<td>0.0</td>\n",
       "\t\t<td>100.0</td>\n",
       "\t</tr>\n",
       "\t<tr>\n",
       "\t\t<td>cabin</td>\n",
       "\t\t<td>VARCHAR(20) CHARACTER SET LATIN</td>\n",
       "\t\t<td>170</td>\n",
       "\t\t<td>543</td>\n",
       "\t\t<td>0</td>\n",
       "\t\t<td>None</td>\n",
       "\t\t<td>None</td>\n",
       "\t\t<td>None</td>\n",
       "\t\t<td>76.15708274894811</td>\n",
       "\t\t<td>23.842917251051894</td>\n",
       "\t</tr>\n",
       "\t<tr>\n",
       "\t\t<td>sibsp</td>\n",
       "\t\t<td>INTEGER</td>\n",
       "\t\t<td>713</td>\n",
       "\t\t<td>0</td>\n",
       "\t\t<td>None</td>\n",
       "\t\t<td>491</td>\n",
       "\t\t<td>222</td>\n",
       "\t\t<td>0</td>\n",
       "\t\t<td>0.0</td>\n",
       "\t\t<td>100.0</td>\n",
       "\t</tr>\n",
       "\t<tr>\n",
       "\t\t<td>parch</td>\n",
       "\t\t<td>INTEGER</td>\n",
       "\t\t<td>713</td>\n",
       "\t\t<td>0</td>\n",
       "\t\t<td>None</td>\n",
       "\t\t<td>548</td>\n",
       "\t\t<td>165</td>\n",
       "\t\t<td>0</td>\n",
       "\t\t<td>0.0</td>\n",
       "\t\t<td>100.0</td>\n",
       "\t</tr>\n",
       "\t<tr>\n",
       "\t\t<td>ticket</td>\n",
       "\t\t<td>VARCHAR(20) CHARACTER SET LATIN</td>\n",
       "\t\t<td>713</td>\n",
       "\t\t<td>0</td>\n",
       "\t\t<td>0</td>\n",
       "\t\t<td>None</td>\n",
       "\t\t<td>None</td>\n",
       "\t\t<td>None</td>\n",
       "\t\t<td>0.0</td>\n",
       "\t\t<td>100.0</td>\n",
       "\t</tr>\n",
       "\t<tr>\n",
       "\t\t<td>pclass</td>\n",
       "\t\t<td>INTEGER</td>\n",
       "\t\t<td>713</td>\n",
       "\t\t<td>0</td>\n",
       "\t\t<td>None</td>\n",
       "\t\t<td>0</td>\n",
       "\t\t<td>713</td>\n",
       "\t\t<td>0</td>\n",
       "\t\t<td>0.0</td>\n",
       "\t\t<td>100.0</td>\n",
       "\t</tr>\n",
       "\t<tr>\n",
       "\t\t<td>survived</td>\n",
       "\t\t<td>INTEGER</td>\n",
       "\t\t<td>713</td>\n",
       "\t\t<td>0</td>\n",
       "\t\t<td>None</td>\n",
       "\t\t<td>442</td>\n",
       "\t\t<td>271</td>\n",
       "\t\t<td>0</td>\n",
       "\t\t<td>0.0</td>\n",
       "\t\t<td>100.0</td>\n",
       "\t</tr>\n",
       "</table></html>"
      ],
      "text/plain": [
       "   ColumnName                           Datatype  NonNullCount  NullCount  BlankCount  ZeroCount  PositiveCount  NegativeCount  NullPercentage  NonNullPercentage\n",
       "0         age                            INTEGER           567        146         NaN        4.0          563.0            0.0       20.476858          79.523142\n",
       "1        fare                              FLOAT           713          0         NaN       14.0          699.0            0.0        0.000000         100.000000\n",
       "2    embarked    VARCHAR(20) CHARACTER SET LATIN           712          1         0.0        NaN            NaN            NaN        0.140252          99.859748\n",
       "3         sex    VARCHAR(20) CHARACTER SET LATIN           713          0         0.0        NaN            NaN            NaN        0.000000         100.000000\n",
       "4        name  VARCHAR(1000) CHARACTER SET LATIN           713          0         0.0        NaN            NaN            NaN        0.000000         100.000000\n",
       "5   passenger                            INTEGER           713          0         NaN        0.0          713.0            0.0        0.000000         100.000000\n",
       "6       cabin    VARCHAR(20) CHARACTER SET LATIN           170        543         0.0        NaN            NaN            NaN       76.157083          23.842917\n",
       "7       sibsp                            INTEGER           713          0         NaN      491.0          222.0            0.0        0.000000         100.000000\n",
       "8       parch                            INTEGER           713          0         NaN      548.0          165.0            0.0        0.000000         100.000000\n",
       "9      ticket    VARCHAR(20) CHARACTER SET LATIN           713          0         0.0        NaN            NaN            NaN        0.000000         100.000000\n",
       "10     pclass                            INTEGER           713          0         NaN        0.0          713.0            0.0        0.000000         100.000000\n",
       "11   survived                            INTEGER           713          0         NaN      442.0          271.0            0.0        0.000000         100.000000"
      ]
     },
     "metadata": {},
     "output_type": "display_data"
    },
    {
     "name": "stdout",
     "output_type": "stream",
     "text": [
      "\n",
      "Statistics of Data:\n"
     ]
    },
    {
     "data": {
      "text/html": [
       "<style type=\"text/css\">\n",
       "\ttable {border:ridge 5px;}\n",
       "\ttable td {border:inset 1px;}\n",
       "\ttable tr#HeaderRow {background-color:grey; color:white;}</style>\n",
       "<html><table>\n",
       "\t<tr id=\"HeaderRow\">\n",
       "\t\t<th>func</th>\n",
       "\t\t<th>passenger</th>\n",
       "\t\t<th>survived</th>\n",
       "\t\t<th>pclass</th>\n",
       "\t\t<th>age</th>\n",
       "\t\t<th>sibsp</th>\n",
       "\t\t<th>parch</th>\n",
       "\t\t<th>fare</th>\n",
       "\t</tr>\n",
       "\t<tr>\n",
       "\t\t<td>min</td>\n",
       "\t\t<td>1</td>\n",
       "\t\t<td>0</td>\n",
       "\t\t<td>1</td>\n",
       "\t\t<td>0</td>\n",
       "\t\t<td>0</td>\n",
       "\t\t<td>0</td>\n",
       "\t\t<td>0</td>\n",
       "\t</tr>\n",
       "\t<tr>\n",
       "\t\t<td>std</td>\n",
       "\t\t<td>258.893</td>\n",
       "\t\t<td>0.486</td>\n",
       "\t\t<td>0.842</td>\n",
       "\t\t<td>14.33</td>\n",
       "\t\t<td>1.142</td>\n",
       "\t\t<td>0.804</td>\n",
       "\t\t<td>47.519</td>\n",
       "\t</tr>\n",
       "\t<tr>\n",
       "\t\t<td>25%</td>\n",
       "\t\t<td>219</td>\n",
       "\t\t<td>0</td>\n",
       "\t\t<td>2</td>\n",
       "\t\t<td>20.5</td>\n",
       "\t\t<td>0</td>\n",
       "\t\t<td>0</td>\n",
       "\t\t<td>7.896</td>\n",
       "\t</tr>\n",
       "\t<tr>\n",
       "\t\t<td>50%</td>\n",
       "\t\t<td>443</td>\n",
       "\t\t<td>0</td>\n",
       "\t\t<td>3</td>\n",
       "\t\t<td>28</td>\n",
       "\t\t<td>0</td>\n",
       "\t\t<td>0</td>\n",
       "\t\t<td>14.454</td>\n",
       "\t</tr>\n",
       "\t<tr>\n",
       "\t\t<td>75%</td>\n",
       "\t\t<td>670</td>\n",
       "\t\t<td>1</td>\n",
       "\t\t<td>3</td>\n",
       "\t\t<td>38</td>\n",
       "\t\t<td>1</td>\n",
       "\t\t<td>0</td>\n",
       "\t\t<td>31.275</td>\n",
       "\t</tr>\n",
       "\t<tr>\n",
       "\t\t<td>max</td>\n",
       "\t\t<td>891</td>\n",
       "\t\t<td>1</td>\n",
       "\t\t<td>3</td>\n",
       "\t\t<td>80</td>\n",
       "\t\t<td>8</td>\n",
       "\t\t<td>5</td>\n",
       "\t\t<td>512.329</td>\n",
       "\t</tr>\n",
       "\t<tr>\n",
       "\t\t<td>mean</td>\n",
       "\t\t<td>446.292</td>\n",
       "\t\t<td>0.38</td>\n",
       "\t\t<td>2.311</td>\n",
       "\t\t<td>29.743</td>\n",
       "\t\t<td>0.52</td>\n",
       "\t\t<td>0.373</td>\n",
       "\t\t<td>31.879</td>\n",
       "\t</tr>\n",
       "\t<tr>\n",
       "\t\t<td>count</td>\n",
       "\t\t<td>713</td>\n",
       "\t\t<td>713</td>\n",
       "\t\t<td>713</td>\n",
       "\t\t<td>567</td>\n",
       "\t\t<td>713</td>\n",
       "\t\t<td>713</td>\n",
       "\t\t<td>713</td>\n",
       "\t</tr>\n",
       "</table></html>"
      ],
      "text/plain": [
       "       passenger  survived   pclass      age    sibsp    parch     fare\n",
       "func                                                                   \n",
       "min        1.000     0.000    1.000    0.000    0.000    0.000    0.000\n",
       "std      258.893     0.486    0.842   14.330    1.142    0.804   47.519\n",
       "25%      219.000     0.000    2.000   20.500    0.000    0.000    7.896\n",
       "50%      443.000     0.000    3.000   28.000    0.000    0.000   14.454\n",
       "75%      670.000     1.000    3.000   38.000    1.000    0.000   31.275\n",
       "max      891.000     1.000    3.000   80.000    8.000    5.000  512.329\n",
       "mean     446.292     0.380    2.311   29.743    0.520    0.373   31.879\n",
       "count    713.000   713.000  713.000  567.000  713.000  713.000  713.000"
      ]
     },
     "metadata": {},
     "output_type": "display_data"
    },
    {
     "name": "stdout",
     "output_type": "stream",
     "text": [
      "\n",
      "Categorical Columns with their Distinct values:\n",
      "ColumnName                DistinctValueCount\n",
      "name                      713       \n",
      "sex                       2         \n",
      "ticket                    568       \n",
      "cabin                     135       \n",
      "embarked                  3         \n",
      "\n",
      "Futile columns in dataset:\n"
     ]
    },
    {
     "data": {
      "text/html": [
       "<style type=\"text/css\">\n",
       "\ttable {border:ridge 5px;}\n",
       "\ttable td {border:inset 1px;}\n",
       "\ttable tr#HeaderRow {background-color:grey; color:white;}</style>\n",
       "<html><table>\n",
       "\t<tr id=\"HeaderRow\">\n",
       "\t\t<th>ColumnName</th>\n",
       "\t</tr>\n",
       "\t<tr>\n",
       "\t\t<td>name</td>\n",
       "\t</tr>\n",
       "\t<tr>\n",
       "\t\t<td>ticket</td>\n",
       "\t</tr>\n",
       "</table></html>"
      ],
      "text/plain": [
       "  ColumnName\n",
       "0       name\n",
       "1     ticket"
      ]
     },
     "metadata": {},
     "output_type": "display_data"
    },
    {
     "name": "stdout",
     "output_type": "stream",
     "text": [
      "\n",
      "Target Column Distribution:\n"
     ]
    },
    {
     "data": {
      "image/png": "[encoded data removed]",
      "text/plain": [
       "<Figure size 600x600 with 1 Axes>"
      ]
     },
     "metadata": {},
     "output_type": "display_data"
    },
    {
     "name": "stdout",
     "output_type": "stream",
     "text": [
      "Columns with outlier percentage :-                                                                                                                                                                                                                                                                                                                                                                                                                                                                                  \n",
      "  ColumnName  OutlierPercentage\n",
      "0        age          21.458626\n",
      "1      parch          23.141655\n",
      "2       fare          13.323983\n",
      "3      sibsp           5.049088\n",
      "                                                                                        \r"
     ]
    },
    {
     "data": {
      "text/html": [
       "\n",
       "            <style>\n",
       "                .custom-div {\n",
       "                    background-color: lightgray;\n",
       "                    color: #000000;\n",
       "                    padding: 10px;\n",
       "                    border-radius: 8px;\n",
       "                    box-shadow: 0 3px 4px rgba(0 -  0 -  0 -  0.2);\n",
       "                    margin-bottom: 10px;\n",
       "                    text-align: center;\n",
       "                }\n",
       "            </style>\n",
       "        <br><div class=\"custom-div\"><h3><span style=\"color: green;\">1. Feature Exploration -></span> 2. Feature Engineering -> 3. Data Preparation -> 4. Model Training & Evaluation<center></h3></center></div>"
      ],
      "text/plain": [
       "<IPython.core.display.HTML object>"
      ]
     },
     "metadata": {},
     "output_type": "display_data"
    },
    {
     "name": "stdout",
     "output_type": "stream",
     "text": [
      "                                                                                        \r"
     ]
    },
    {
     "data": {
      "text/html": [
       "Feature Engineering started ..."
      ],
      "text/plain": [
       "<IPython.core.display.HTML object>"
      ]
     },
     "metadata": {},
     "output_type": "display_data"
    },
    {
     "name": "stdout",
     "output_type": "stream",
     "text": [
      "                                                                                        \r"
     ]
    },
    {
     "data": {
      "text/html": [
       "\n",
       "Handling duplicate records present in dataset ..."
      ],
      "text/plain": [
       "<IPython.core.display.HTML object>"
      ]
     },
     "metadata": {},
     "output_type": "display_data"
    },
    {
     "name": "stdout",
     "output_type": "stream",
     "text": [
      "Analysis completed. No action taken.                                                    \n",
      "                                                                                        \r"
     ]
    },
    {
     "data": {
      "text/html": [
       "Total time to handle duplicate records: 1.51 sec  "
      ],
      "text/plain": [
       "<IPython.core.display.HTML object>"
      ]
     },
     "metadata": {},
     "output_type": "display_data"
    },
    {
     "name": "stdout",
     "output_type": "stream",
     "text": [
      "                                                                                        \r"
     ]
    },
    {
     "data": {
      "text/html": [
       "\n",
       "Handling less significant features from data ..."
      ],
      "text/plain": [
       "<IPython.core.display.HTML object>"
      ]
     },
     "metadata": {},
     "output_type": "display_data"
    },
    {
     "name": "stdout",
     "output_type": "stream",
     "text": [
      "                                                                                        \r"
     ]
    },
    {
     "data": {
      "text/html": [
       "Removing Futile columns:"
      ],
      "text/plain": [
       "<IPython.core.display.HTML object>"
      ]
     },
     "metadata": {},
     "output_type": "display_data"
    },
    {
     "name": "stdout",
     "output_type": "stream",
     "text": [
      "['ticket', 'name']\n",
      "                                                                                        \r"
     ]
    },
    {
     "data": {
      "text/html": [
       "Sample of Data after removing Futile columns:"
      ],
      "text/plain": [
       "<IPython.core.display.HTML object>"
      ]
     },
     "metadata": {},
     "output_type": "display_data"
    },
    {
     "data": {
      "text/html": [
       "<style type=\"text/css\">\n",
       "\ttable {border:ridge 5px;}\n",
       "\ttable td {border:inset 1px;}\n",
       "\ttable tr#HeaderRow {background-color:grey; color:white;}</style>\n",
       "<html><table>\n",
       "\t<tr id=\"HeaderRow\">\n",
       "\t\t<th>passenger</th>\n",
       "\t\t<th>survived</th>\n",
       "\t\t<th>pclass</th>\n",
       "\t\t<th>sex</th>\n",
       "\t\t<th>age</th>\n",
       "\t\t<th>sibsp</th>\n",
       "\t\t<th>parch</th>\n",
       "\t\t<th>fare</th>\n",
       "\t\t<th>cabin</th>\n",
       "\t\t<th>embarked</th>\n",
       "\t\t<th>id</th>\n",
       "\t</tr>\n",
       "\t<tr>\n",
       "\t\t<td>40</td>\n",
       "\t\t<td>1</td>\n",
       "\t\t<td>3</td>\n",
       "\t\t<td>female</td>\n",
       "\t\t<td>14</td>\n",
       "\t\t<td>1</td>\n",
       "\t\t<td>0</td>\n",
       "\t\t<td>11.2417</td>\n",
       "\t\t<td>None</td>\n",
       "\t\t<td>C</td>\n",
       "\t\t<td>10</td>\n",
       "\t</tr>\n",
       "\t<tr>\n",
       "\t\t<td>122</td>\n",
       "\t\t<td>0</td>\n",
       "\t\t<td>3</td>\n",
       "\t\t<td>male</td>\n",
       "\t\t<td>None</td>\n",
       "\t\t<td>0</td>\n",
       "\t\t<td>0</td>\n",
       "\t\t<td>8.05</td>\n",
       "\t\t<td>None</td>\n",
       "\t\t<td>S</td>\n",
       "\t\t<td>11</td>\n",
       "\t</tr>\n",
       "\t<tr>\n",
       "\t\t<td>591</td>\n",
       "\t\t<td>0</td>\n",
       "\t\t<td>3</td>\n",
       "\t\t<td>male</td>\n",
       "\t\t<td>35</td>\n",
       "\t\t<td>0</td>\n",
       "\t\t<td>0</td>\n",
       "\t\t<td>7.125</td>\n",
       "\t\t<td>None</td>\n",
       "\t\t<td>S</td>\n",
       "\t\t<td>19</td>\n",
       "\t</tr>\n",
       "\t<tr>\n",
       "\t\t<td>80</td>\n",
       "\t\t<td>1</td>\n",
       "\t\t<td>3</td>\n",
       "\t\t<td>female</td>\n",
       "\t\t<td>30</td>\n",
       "\t\t<td>0</td>\n",
       "\t\t<td>0</td>\n",
       "\t\t<td>12.475</td>\n",
       "\t\t<td>None</td>\n",
       "\t\t<td>S</td>\n",
       "\t\t<td>12</td>\n",
       "\t</tr>\n",
       "\t<tr>\n",
       "\t\t<td>570</td>\n",
       "\t\t<td>1</td>\n",
       "\t\t<td>3</td>\n",
       "\t\t<td>male</td>\n",
       "\t\t<td>32</td>\n",
       "\t\t<td>0</td>\n",
       "\t\t<td>0</td>\n",
       "\t\t<td>7.8542</td>\n",
       "\t\t<td>None</td>\n",
       "\t\t<td>S</td>\n",
       "\t\t<td>15</td>\n",
       "\t</tr>\n",
       "\t<tr>\n",
       "\t\t<td>835</td>\n",
       "\t\t<td>0</td>\n",
       "\t\t<td>3</td>\n",
       "\t\t<td>male</td>\n",
       "\t\t<td>18</td>\n",
       "\t\t<td>0</td>\n",
       "\t\t<td>0</td>\n",
       "\t\t<td>8.3</td>\n",
       "\t\t<td>None</td>\n",
       "\t\t<td>S</td>\n",
       "\t\t<td>23</td>\n",
       "\t</tr>\n",
       "\t<tr>\n",
       "\t\t<td>265</td>\n",
       "\t\t<td>0</td>\n",
       "\t\t<td>3</td>\n",
       "\t\t<td>female</td>\n",
       "\t\t<td>None</td>\n",
       "\t\t<td>0</td>\n",
       "\t\t<td>0</td>\n",
       "\t\t<td>7.75</td>\n",
       "\t\t<td>None</td>\n",
       "\t\t<td>Q</td>\n",
       "\t\t<td>9</td>\n",
       "\t</tr>\n",
       "\t<tr>\n",
       "\t\t<td>101</td>\n",
       "\t\t<td>0</td>\n",
       "\t\t<td>3</td>\n",
       "\t\t<td>female</td>\n",
       "\t\t<td>28</td>\n",
       "\t\t<td>0</td>\n",
       "\t\t<td>0</td>\n",
       "\t\t<td>7.8958</td>\n",
       "\t\t<td>None</td>\n",
       "\t\t<td>S</td>\n",
       "\t\t<td>17</td>\n",
       "\t</tr>\n",
       "\t<tr>\n",
       "\t\t<td>326</td>\n",
       "\t\t<td>1</td>\n",
       "\t\t<td>1</td>\n",
       "\t\t<td>female</td>\n",
       "\t\t<td>36</td>\n",
       "\t\t<td>0</td>\n",
       "\t\t<td>0</td>\n",
       "\t\t<td>135.6333</td>\n",
       "\t\t<td>C32</td>\n",
       "\t\t<td>C</td>\n",
       "\t\t<td>13</td>\n",
       "\t</tr>\n",
       "\t<tr>\n",
       "\t\t<td>305</td>\n",
       "\t\t<td>0</td>\n",
       "\t\t<td>3</td>\n",
       "\t\t<td>male</td>\n",
       "\t\t<td>None</td>\n",
       "\t\t<td>0</td>\n",
       "\t\t<td>0</td>\n",
       "\t\t<td>8.05</td>\n",
       "\t\t<td>None</td>\n",
       "\t\t<td>S</td>\n",
       "\t\t<td>21</td>\n",
       "\t</tr>\n",
       "</table></html>"
      ],
      "text/plain": [
       "   passenger  survived  pclass     sex   age  sibsp  parch      fare cabin embarked  id\n",
       "0         40         1       3  female  14.0      1      0   11.2417  None        C  10\n",
       "1        122         0       3    male   NaN      0      0    8.0500  None        S  11\n",
       "2        591         0       3    male  35.0      0      0    7.1250  None        S  19\n",
       "3         80         1       3  female  30.0      0      0   12.4750  None        S  12\n",
       "4        570         1       3    male  32.0      0      0    7.8542  None        S  15\n",
       "5        835         0       3    male  18.0      0      0    8.3000  None        S  23\n",
       "6        265         0       3  female   NaN      0      0    7.7500  None        Q   9\n",
       "7        101         0       3  female  28.0      0      0    7.8958  None        S  17\n",
       "8        326         1       1  female  36.0      0      0  135.6333   C32        C  13\n",
       "9        305         0       3    male   NaN      0      0    8.0500  None        S  21"
      ]
     },
     "metadata": {},
     "output_type": "display_data"
    },
    {
     "name": "stdout",
     "output_type": "stream",
     "text": [
      "                                                                                        \r"
     ]
    },
    {
     "data": {
      "text/html": [
       "713 rows X 11 columns"
      ],
      "text/plain": [
       "<IPython.core.display.HTML object>"
      ]
     },
     "metadata": {},
     "output_type": "display_data"
    },
    {
     "name": "stdout",
     "output_type": "stream",
     "text": [
      "                                                                                        \r"
     ]
    },
    {
     "data": {
      "text/html": [
       "Total time to handle less significant features: 19.19 sec  "
      ],
      "text/plain": [
       "<IPython.core.display.HTML object>"
      ]
     },
     "metadata": {},
     "output_type": "display_data"
    },
    {
     "name": "stdout",
     "output_type": "stream",
     "text": [
      "                                                                                         \r"
     ]
    },
    {
     "data": {
      "text/html": [
       "\n",
       "Handling Date Features ..."
      ],
      "text/plain": [
       "<IPython.core.display.HTML object>"
      ]
     },
     "metadata": {},
     "output_type": "display_data"
    },
    {
     "name": "stdout",
     "output_type": "stream",
     "text": [
      "Analysis Completed. Dataset does not contain any feature related to dates. No action needed.\n",
      "                                                                                         \r"
     ]
    },
    {
     "data": {
      "text/html": [
       "Total time to handle date features: 0.00 sec\n"
      ],
      "text/plain": [
       "<IPython.core.display.HTML object>"
      ]
     },
     "metadata": {},
     "output_type": "display_data"
    },
    {
     "name": "stdout",
     "output_type": "stream",
     "text": [
      "                                                                                         \r"
     ]
    },
    {
     "data": {
      "text/html": [
       "\n",
       "Dropping these columns for handling customized missing value:"
      ],
      "text/plain": [
       "<IPython.core.display.HTML object>"
      ]
     },
     "metadata": {},
     "output_type": "display_data"
    },
    {
     "name": "stdout",
     "output_type": "stream",
     "text": [
      "['cabin']\n",
      "result data stored in table '\"ALICE\".\"ml__td_sqlmr_persist_out__1719264080855142\"' - 3/20\n",
      "                                                                                         \r"
     ]
    },
    {
     "data": {
      "text/html": [
       "Updated dataset sample after performing customized missing value imputation:"
      ],
      "text/plain": [
       "<IPython.core.display.HTML object>"
      ]
     },
     "metadata": {},
     "output_type": "display_data"
    },
    {
     "data": {
      "text/html": [
       "<style type=\"text/css\">\n",
       "\ttable {border:ridge 5px;}\n",
       "\ttable td {border:inset 1px;}\n",
       "\ttable tr#HeaderRow {background-color:grey; color:white;}</style>\n",
       "<html><table>\n",
       "\t<tr id=\"HeaderRow\">\n",
       "\t\t<th>passenger</th>\n",
       "\t\t<th>survived</th>\n",
       "\t\t<th>pclass</th>\n",
       "\t\t<th>sex</th>\n",
       "\t\t<th>age</th>\n",
       "\t\t<th>sibsp</th>\n",
       "\t\t<th>parch</th>\n",
       "\t\t<th>fare</th>\n",
       "\t\t<th>embarked</th>\n",
       "\t\t<th>id</th>\n",
       "\t</tr>\n",
       "\t<tr>\n",
       "\t\t<td>120</td>\n",
       "\t\t<td>0</td>\n",
       "\t\t<td>3</td>\n",
       "\t\t<td>female</td>\n",
       "\t\t<td>2</td>\n",
       "\t\t<td>4</td>\n",
       "\t\t<td>2</td>\n",
       "\t\t<td>31.275</td>\n",
       "\t\t<td>S</td>\n",
       "\t\t<td>26</td>\n",
       "\t</tr>\n",
       "\t<tr>\n",
       "\t\t<td>200</td>\n",
       "\t\t<td>0</td>\n",
       "\t\t<td>2</td>\n",
       "\t\t<td>female</td>\n",
       "\t\t<td>24</td>\n",
       "\t\t<td>0</td>\n",
       "\t\t<td>0</td>\n",
       "\t\t<td>13.0</td>\n",
       "\t\t<td>S</td>\n",
       "\t\t<td>42</td>\n",
       "\t</tr>\n",
       "\t<tr>\n",
       "\t\t<td>57</td>\n",
       "\t\t<td>1</td>\n",
       "\t\t<td>2</td>\n",
       "\t\t<td>female</td>\n",
       "\t\t<td>21</td>\n",
       "\t\t<td>0</td>\n",
       "\t\t<td>0</td>\n",
       "\t\t<td>10.5</td>\n",
       "\t\t<td>S</td>\n",
       "\t\t<td>50</td>\n",
       "\t</tr>\n",
       "\t<tr>\n",
       "\t\t<td>791</td>\n",
       "\t\t<td>0</td>\n",
       "\t\t<td>3</td>\n",
       "\t\t<td>male</td>\n",
       "\t\t<td>28</td>\n",
       "\t\t<td>0</td>\n",
       "\t\t<td>0</td>\n",
       "\t\t<td>7.75</td>\n",
       "\t\t<td>Q</td>\n",
       "\t\t<td>58</td>\n",
       "\t</tr>\n",
       "\t<tr>\n",
       "\t\t<td>158</td>\n",
       "\t\t<td>0</td>\n",
       "\t\t<td>3</td>\n",
       "\t\t<td>male</td>\n",
       "\t\t<td>30</td>\n",
       "\t\t<td>0</td>\n",
       "\t\t<td>0</td>\n",
       "\t\t<td>8.05</td>\n",
       "\t\t<td>S</td>\n",
       "\t\t<td>74</td>\n",
       "\t</tr>\n",
       "\t<tr>\n",
       "\t\t<td>688</td>\n",
       "\t\t<td>0</td>\n",
       "\t\t<td>3</td>\n",
       "\t\t<td>male</td>\n",
       "\t\t<td>19</td>\n",
       "\t\t<td>0</td>\n",
       "\t\t<td>0</td>\n",
       "\t\t<td>10.1708</td>\n",
       "\t\t<td>S</td>\n",
       "\t\t<td>82</td>\n",
       "\t</tr>\n",
       "\t<tr>\n",
       "\t\t<td>648</td>\n",
       "\t\t<td>1</td>\n",
       "\t\t<td>1</td>\n",
       "\t\t<td>male</td>\n",
       "\t\t<td>56</td>\n",
       "\t\t<td>0</td>\n",
       "\t\t<td>0</td>\n",
       "\t\t<td>35.5</td>\n",
       "\t\t<td>C</td>\n",
       "\t\t<td>66</td>\n",
       "\t</tr>\n",
       "\t<tr>\n",
       "\t\t<td>751</td>\n",
       "\t\t<td>1</td>\n",
       "\t\t<td>2</td>\n",
       "\t\t<td>female</td>\n",
       "\t\t<td>4</td>\n",
       "\t\t<td>1</td>\n",
       "\t\t<td>1</td>\n",
       "\t\t<td>23.0</td>\n",
       "\t\t<td>S</td>\n",
       "\t\t<td>34</td>\n",
       "\t</tr>\n",
       "\t<tr>\n",
       "\t\t<td>631</td>\n",
       "\t\t<td>1</td>\n",
       "\t\t<td>1</td>\n",
       "\t\t<td>male</td>\n",
       "\t\t<td>80</td>\n",
       "\t\t<td>0</td>\n",
       "\t\t<td>0</td>\n",
       "\t\t<td>30.0</td>\n",
       "\t\t<td>S</td>\n",
       "\t\t<td>18</td>\n",
       "\t</tr>\n",
       "\t<tr>\n",
       "\t\t<td>40</td>\n",
       "\t\t<td>1</td>\n",
       "\t\t<td>3</td>\n",
       "\t\t<td>female</td>\n",
       "\t\t<td>14</td>\n",
       "\t\t<td>1</td>\n",
       "\t\t<td>0</td>\n",
       "\t\t<td>11.2417</td>\n",
       "\t\t<td>C</td>\n",
       "\t\t<td>10</td>\n",
       "\t</tr>\n",
       "</table></html>"
      ],
      "text/plain": [
       "           survived  pclass     sex  age  sibsp  parch     fare embarked  id\n",
       "passenger                                                                   \n",
       "120               0       3  female    2      4      2  31.2750        S  26\n",
       "200               0       2  female   24      0      0  13.0000        S  42\n",
       "57                1       2  female   21      0      0  10.5000        S  50\n",
       "791               0       3    male   28      0      0   7.7500        Q  58\n",
       "158               0       3    male   30      0      0   8.0500        S  74\n",
       "688               0       3    male   19      0      0  10.1708        S  82\n",
       "648               1       1    male   56      0      0  35.5000        C  66\n",
       "751               1       2  female    4      1      1  23.0000        S  34\n",
       "631               1       1    male   80      0      0  30.0000        S  18\n",
       "40                1       3  female   14      1      0  11.2417        C  10"
      ]
     },
     "metadata": {},
     "output_type": "display_data"
    },
    {
     "name": "stdout",
     "output_type": "stream",
     "text": [
      "                                                                                         \r"
     ]
    },
    {
     "data": {
      "text/html": [
       "713 rows X 10 columns"
      ],
      "text/plain": [
       "<IPython.core.display.HTML object>"
      ]
     },
     "metadata": {},
     "output_type": "display_data"
    },
    {
     "name": "stdout",
     "output_type": "stream",
     "text": [
      "Proceeding with default option for handling remaining missing values.                    \n",
      "                                                                                         \r"
     ]
    },
    {
     "data": {
      "text/html": [
       "\n",
       "Checking Missing values in dataset ..."
      ],
      "text/plain": [
       "<IPython.core.display.HTML object>"
      ]
     },
     "metadata": {},
     "output_type": "display_data"
    },
    {
     "name": "stdout",
     "output_type": "stream",
     "text": [
      "Analysis Completed. No Missing Values Detected.                                          \n",
      "                                                                                         \r"
     ]
    },
    {
     "data": {
      "text/html": [
       "Total time to find missing values in data: 6.50 sec  "
      ],
      "text/plain": [
       "<IPython.core.display.HTML object>"
      ]
     },
     "metadata": {},
     "output_type": "display_data"
    },
    {
     "name": "stdout",
     "output_type": "stream",
     "text": [
      "                                                                                         \r"
     ]
    },
    {
     "data": {
      "text/html": [
       "\n",
       "Imputing Missing Values ..."
      ],
      "text/plain": [
       "<IPython.core.display.HTML object>"
      ]
     },
     "metadata": {},
     "output_type": "display_data"
    },
    {
     "name": "stdout",
     "output_type": "stream",
     "text": [
      "Analysis completed. No imputation required.                                              \n",
      "                                                                                         \r"
     ]
    },
    {
     "data": {
      "text/html": [
       "Time taken to perform imputation: 0.00 sec  "
      ],
      "text/plain": [
       "<IPython.core.display.HTML object>"
      ]
     },
     "metadata": {},
     "output_type": "display_data"
    },
    {
     "name": "stdout",
     "output_type": "stream",
     "text": [
      "No information provided for Equal-Width Transformation.                                  \n",
      "                                                                                         \r"
     ]
    },
    {
     "data": {
      "text/html": [
       "Variable-Width binning information:-"
      ],
      "text/plain": [
       "<IPython.core.display.HTML object>"
      ]
     },
     "metadata": {},
     "output_type": "display_data"
    },
    {
     "data": {
      "text/html": [
       "<div>\n",
       "<style scoped>\n",
       "    .dataframe tbody tr th:only-of-type {\n",
       "        vertical-align: middle;\n",
       "    }\n",
       "\n",
       "    .dataframe tbody tr th {\n",
       "        vertical-align: top;\n",
       "    }\n",
       "\n",
       "    .dataframe thead th {\n",
       "        text-align: right;\n",
       "    }\n",
       "</style>\n",
       "<table border=\"1\" class=\"dataframe\">\n",
       "  <thead>\n",
       "    <tr style=\"text-align: right;\">\n",
       "      <th></th>\n",
       "      <th>ColumnName</th>\n",
       "      <th>MinValue</th>\n",
       "      <th>MaxValue</th>\n",
       "      <th>Label</th>\n",
       "    </tr>\n",
       "  </thead>\n",
       "  <tbody>\n",
       "    <tr>\n",
       "      <th>0</th>\n",
       "      <td>pclass</td>\n",
       "      <td>0</td>\n",
       "      <td>1</td>\n",
       "      <td>low</td>\n",
       "    </tr>\n",
       "    <tr>\n",
       "      <th>1</th>\n",
       "      <td>pclass</td>\n",
       "      <td>2</td>\n",
       "      <td>3</td>\n",
       "      <td>high</td>\n",
       "    </tr>\n",
       "  </tbody>\n",
       "</table>\n",
       "</div>"
      ],
      "text/plain": [
       "  ColumnName  MinValue  MaxValue Label\n",
       "0     pclass         0         1   low\n",
       "1     pclass         2         3  high"
      ]
     },
     "metadata": {},
     "output_type": "display_data"
    },
    {
     "name": "stdout",
     "output_type": "stream",
     "text": [
      "                                                                                         \r"
     ]
    },
    {
     "data": {
      "text/html": [
       "2 rows X 4 columns"
      ],
      "text/plain": [
       "<IPython.core.display.HTML object>"
      ]
     },
     "metadata": {},
     "output_type": "display_data"
    },
    {
     "name": "stdout",
     "output_type": "stream",
     "text": [
      "result data stored in table '\"ALICE\".\"ml__td_sqlmr_persist_out__1719262539583496\"' - 4/20\n",
      "                                                                                         \r"
     ]
    },
    {
     "data": {
      "text/html": [
       "Updated dataset sample after performing Variable-Width binning:"
      ],
      "text/plain": [
       "<IPython.core.display.HTML object>"
      ]
     },
     "metadata": {},
     "output_type": "display_data"
    },
    {
     "data": {
      "text/html": [
       "<style type=\"text/css\">\n",
       "\ttable {border:ridge 5px;}\n",
       "\ttable td {border:inset 1px;}\n",
       "\ttable tr#HeaderRow {background-color:grey; color:white;}</style>\n",
       "<html><table>\n",
       "\t<tr id=\"HeaderRow\">\n",
       "\t\t<th>fare</th>\n",
       "\t\t<th>sex</th>\n",
       "\t\t<th>passenger</th>\n",
       "\t\t<th>survived</th>\n",
       "\t\t<th>parch</th>\n",
       "\t\t<th>embarked</th>\n",
       "\t\t<th>id</th>\n",
       "\t\t<th>age</th>\n",
       "\t\t<th>sibsp</th>\n",
       "\t\t<th>pclass</th>\n",
       "\t</tr>\n",
       "\t<tr>\n",
       "\t\t<td>31.3875</td>\n",
       "\t\t<td>male</td>\n",
       "\t\t<td>183</td>\n",
       "\t\t<td>0</td>\n",
       "\t\t<td>2</td>\n",
       "\t\t<td>S</td>\n",
       "\t\t<td>16</td>\n",
       "\t\t<td>9</td>\n",
       "\t\t<td>4</td>\n",
       "\t\t<td>high</td>\n",
       "\t</tr>\n",
       "\t<tr>\n",
       "\t\t<td>10.5</td>\n",
       "\t\t<td>male</td>\n",
       "\t\t<td>71</td>\n",
       "\t\t<td>0</td>\n",
       "\t\t<td>0</td>\n",
       "\t\t<td>S</td>\n",
       "\t\t<td>445</td>\n",
       "\t\t<td>32</td>\n",
       "\t\t<td>0</td>\n",
       "\t\t<td>high</td>\n",
       "\t</tr>\n",
       "\t<tr>\n",
       "\t\t<td>10.5</td>\n",
       "\t\t<td>male</td>\n",
       "\t\t<td>884</td>\n",
       "\t\t<td>0</td>\n",
       "\t\t<td>0</td>\n",
       "\t\t<td>S</td>\n",
       "\t\t<td>232</td>\n",
       "\t\t<td>28</td>\n",
       "\t\t<td>0</td>\n",
       "\t\t<td>high</td>\n",
       "\t</tr>\n",
       "\t<tr>\n",
       "\t\t<td>10.5</td>\n",
       "\t\t<td>male</td>\n",
       "\t\t<td>34</td>\n",
       "\t\t<td>0</td>\n",
       "\t\t<td>0</td>\n",
       "\t\t<td>S</td>\n",
       "\t\t<td>81</td>\n",
       "\t\t<td>66</td>\n",
       "\t\t<td>0</td>\n",
       "\t\t<td>high</td>\n",
       "\t</tr>\n",
       "\t<tr>\n",
       "\t\t<td>10.5</td>\n",
       "\t\t<td>male</td>\n",
       "\t\t<td>571</td>\n",
       "\t\t<td>1</td>\n",
       "\t\t<td>0</td>\n",
       "\t\t<td>S</td>\n",
       "\t\t<td>390</td>\n",
       "\t\t<td>62</td>\n",
       "\t\t<td>0</td>\n",
       "\t\t<td>high</td>\n",
       "\t</tr>\n",
       "\t<tr>\n",
       "\t\t<td>10.5</td>\n",
       "\t\t<td>female</td>\n",
       "\t\t<td>85</td>\n",
       "\t\t<td>1</td>\n",
       "\t\t<td>0</td>\n",
       "\t\t<td>S</td>\n",
       "\t\t<td>343</td>\n",
       "\t\t<td>17</td>\n",
       "\t\t<td>0</td>\n",
       "\t\t<td>high</td>\n",
       "\t</tr>\n",
       "\t<tr>\n",
       "\t\t<td>10.5</td>\n",
       "\t\t<td>male</td>\n",
       "\t\t<td>243</td>\n",
       "\t\t<td>0</td>\n",
       "\t\t<td>0</td>\n",
       "\t\t<td>S</td>\n",
       "\t\t<td>377</td>\n",
       "\t\t<td>29</td>\n",
       "\t\t<td>0</td>\n",
       "\t\t<td>high</td>\n",
       "\t</tr>\n",
       "\t<tr>\n",
       "\t\t<td>4.0125</td>\n",
       "\t\t<td>male</td>\n",
       "\t\t<td>379</td>\n",
       "\t\t<td>0</td>\n",
       "\t\t<td>0</td>\n",
       "\t\t<td>C</td>\n",
       "\t\t<td>164</td>\n",
       "\t\t<td>20</td>\n",
       "\t\t<td>0</td>\n",
       "\t\t<td>high</td>\n",
       "\t</tr>\n",
       "\t<tr>\n",
       "\t\t<td>31.3875</td>\n",
       "\t\t<td>female</td>\n",
       "\t\t<td>26</td>\n",
       "\t\t<td>1</td>\n",
       "\t\t<td>5</td>\n",
       "\t\t<td>S</td>\n",
       "\t\t<td>256</td>\n",
       "\t\t<td>38</td>\n",
       "\t\t<td>1</td>\n",
       "\t\t<td>high</td>\n",
       "\t</tr>\n",
       "\t<tr>\n",
       "\t\t<td>31.3875</td>\n",
       "\t\t<td>male</td>\n",
       "\t\t<td>262</td>\n",
       "\t\t<td>1</td>\n",
       "\t\t<td>2</td>\n",
       "\t\t<td>S</td>\n",
       "\t\t<td>499</td>\n",
       "\t\t<td>3</td>\n",
       "\t\t<td>4</td>\n",
       "\t\t<td>high</td>\n",
       "\t</tr>\n",
       "</table></html>"
      ],
      "text/plain": [
       "            sex  passenger  survived  parch embarked   id  age  sibsp pclass\n",
       "fare                                                                        \n",
       "31.3875    male        183         0      2        S   16    9      4   high\n",
       "10.5000    male         71         0      0        S  445   32      0   high\n",
       "10.5000    male        884         0      0        S  232   28      0   high\n",
       "10.5000    male         34         0      0        S   81   66      0   high\n",
       "10.5000    male        571         1      0        S  390   62      0   high\n",
       "10.5000  female         85         1      0        S  343   17      0   high\n",
       "10.5000    male        243         0      0        S  377   29      0   high\n",
       "4.0125     male        379         0      0        C  164   20      0   high\n",
       "31.3875  female         26         1      5        S  256   38      1   high\n",
       "31.3875    male        262         1      2        S  499    3      4   high"
      ]
     },
     "metadata": {},
     "output_type": "display_data"
    },
    {
     "name": "stdout",
     "output_type": "stream",
     "text": [
      "                                                                                         \r"
     ]
    },
    {
     "data": {
      "text/html": [
       "713 rows X 10 columns"
      ],
      "text/plain": [
       "<IPython.core.display.HTML object>"
      ]
     },
     "metadata": {},
     "output_type": "display_data"
    },
    {
     "name": "stdout",
     "output_type": "stream",
     "text": [
      "Skipping customized string manipulation.⫾⫾⫾⫾⫾⫾⫾⫾⫾⫾⫾⫾⫾⫾⫾⫾⫾⫾⫾⫾⫾⫾⫾⫾⫾⫾⫾⫾⫾⫾⫾⫾⫾⫾⫾⫾⫾｜ 25% - 5/20\n",
      "                                                                                         \r"
     ]
    },
    {
     "data": {
      "text/html": [
       "\n",
       "Starting Customized Categorical Feature Encoding ..."
      ],
      "text/plain": [
       "<IPython.core.display.HTML object>"
      ]
     },
     "metadata": {},
     "output_type": "display_data"
    },
    {
     "name": "stdout",
     "output_type": "stream",
     "text": [
      "result data stored in table '\"ALICE\".\"ml__td_sqlmr_persist_out__1719264118745407\"' - 6/20\n",
      "                                                                                         \r"
     ]
    },
    {
     "data": {
      "text/html": [
       "Updated dataset sample after performing ordinal encoding:"
      ],
      "text/plain": [
       "<IPython.core.display.HTML object>"
      ]
     },
     "metadata": {},
     "output_type": "display_data"
    },
    {
     "data": {
      "text/html": [
       "<style type=\"text/css\">\n",
       "\ttable {border:ridge 5px;}\n",
       "\ttable td {border:inset 1px;}\n",
       "\ttable tr#HeaderRow {background-color:grey; color:white;}</style>\n",
       "<html><table>\n",
       "\t<tr id=\"HeaderRow\">\n",
       "\t\t<th>fare</th>\n",
       "\t\t<th>sex</th>\n",
       "\t\t<th>passenger</th>\n",
       "\t\t<th>survived</th>\n",
       "\t\t<th>parch</th>\n",
       "\t\t<th>embarked</th>\n",
       "\t\t<th>id</th>\n",
       "\t\t<th>age</th>\n",
       "\t\t<th>sibsp</th>\n",
       "\t\t<th>pclass</th>\n",
       "\t</tr>\n",
       "\t<tr>\n",
       "\t\t<td>11.2417</td>\n",
       "\t\t<td>male</td>\n",
       "\t\t<td>126</td>\n",
       "\t\t<td>1</td>\n",
       "\t\t<td>0</td>\n",
       "\t\t<td>C</td>\n",
       "\t\t<td>632</td>\n",
       "\t\t<td>12</td>\n",
       "\t\t<td>1</td>\n",
       "\t\t<td>0</td>\n",
       "\t</tr>\n",
       "\t<tr>\n",
       "\t\t<td>69.55</td>\n",
       "\t\t<td>male</td>\n",
       "\t\t<td>160</td>\n",
       "\t\t<td>0</td>\n",
       "\t\t<td>2</td>\n",
       "\t\t<td>S</td>\n",
       "\t\t<td>86</td>\n",
       "\t\t<td>28</td>\n",
       "\t\t<td>8</td>\n",
       "\t\t<td>0</td>\n",
       "\t</tr>\n",
       "\t<tr>\n",
       "\t\t<td>69.55</td>\n",
       "\t\t<td>male</td>\n",
       "\t\t<td>325</td>\n",
       "\t\t<td>0</td>\n",
       "\t\t<td>2</td>\n",
       "\t\t<td>S</td>\n",
       "\t\t<td>370</td>\n",
       "\t\t<td>28</td>\n",
       "\t\t<td>8</td>\n",
       "\t\t<td>0</td>\n",
       "\t</tr>\n",
       "\t<tr>\n",
       "\t\t<td>69.55</td>\n",
       "\t\t<td>female</td>\n",
       "\t\t<td>864</td>\n",
       "\t\t<td>0</td>\n",
       "\t\t<td>2</td>\n",
       "\t\t<td>S</td>\n",
       "\t\t<td>639</td>\n",
       "\t\t<td>28</td>\n",
       "\t\t<td>8</td>\n",
       "\t\t<td>0</td>\n",
       "\t</tr>\n",
       "\t<tr>\n",
       "\t\t<td>69.55</td>\n",
       "\t\t<td>female</td>\n",
       "\t\t<td>181</td>\n",
       "\t\t<td>0</td>\n",
       "\t\t<td>2</td>\n",
       "\t\t<td>S</td>\n",
       "\t\t<td>78</td>\n",
       "\t\t<td>28</td>\n",
       "\t\t<td>8</td>\n",
       "\t\t<td>0</td>\n",
       "\t</tr>\n",
       "\t<tr>\n",
       "\t\t<td>69.55</td>\n",
       "\t\t<td>female</td>\n",
       "\t\t<td>793</td>\n",
       "\t\t<td>0</td>\n",
       "\t\t<td>2</td>\n",
       "\t\t<td>S</td>\n",
       "\t\t<td>79</td>\n",
       "\t\t<td>28</td>\n",
       "\t\t<td>8</td>\n",
       "\t\t<td>0</td>\n",
       "\t</tr>\n",
       "\t<tr>\n",
       "\t\t<td>69.55</td>\n",
       "\t\t<td>male</td>\n",
       "\t\t<td>847</td>\n",
       "\t\t<td>0</td>\n",
       "\t\t<td>2</td>\n",
       "\t\t<td>S</td>\n",
       "\t\t<td>595</td>\n",
       "\t\t<td>28</td>\n",
       "\t\t<td>8</td>\n",
       "\t\t<td>0</td>\n",
       "\t</tr>\n",
       "\t<tr>\n",
       "\t\t<td>11.2417</td>\n",
       "\t\t<td>female</td>\n",
       "\t\t<td>40</td>\n",
       "\t\t<td>1</td>\n",
       "\t\t<td>0</td>\n",
       "\t\t<td>C</td>\n",
       "\t\t<td>10</td>\n",
       "\t\t<td>14</td>\n",
       "\t\t<td>1</td>\n",
       "\t\t<td>0</td>\n",
       "\t</tr>\n",
       "\t<tr>\n",
       "\t\t<td>76.2917</td>\n",
       "\t\t<td>female</td>\n",
       "\t\t<td>219</td>\n",
       "\t\t<td>1</td>\n",
       "\t\t<td>0</td>\n",
       "\t\t<td>C</td>\n",
       "\t\t<td>80</td>\n",
       "\t\t<td>32</td>\n",
       "\t\t<td>0</td>\n",
       "\t\t<td>1</td>\n",
       "\t</tr>\n",
       "\t<tr>\n",
       "\t\t<td>40.125</td>\n",
       "\t\t<td>male</td>\n",
       "\t\t<td>584</td>\n",
       "\t\t<td>0</td>\n",
       "\t\t<td>0</td>\n",
       "\t\t<td>C</td>\n",
       "\t\t<td>413</td>\n",
       "\t\t<td>36</td>\n",
       "\t\t<td>0</td>\n",
       "\t\t<td>1</td>\n",
       "\t</tr>\n",
       "</table></html>"
      ],
      "text/plain": [
       "            sex  passenger  survived  parch embarked   id  age  sibsp  pclass\n",
       "fare                                                                         \n",
       "11.2417    male        126         1      0        C  632   12      1       0\n",
       "69.5500    male        160         0      2        S   86   28      8       0\n",
       "69.5500    male        325         0      2        S  370   28      8       0\n",
       "69.5500  female        864         0      2        S  639   28      8       0\n",
       "69.5500  female        181         0      2        S   78   28      8       0\n",
       "69.5500  female        793         0      2        S   79   28      8       0\n",
       "69.5500    male        847         0      2        S  595   28      8       0\n",
       "11.2417  female         40         1      0        C   10   14      1       0\n",
       "76.2917  female        219         1      0        C   80   32      0       1\n",
       "40.1250    male        584         0      0        C  413   36      0       1"
      ]
     },
     "metadata": {},
     "output_type": "display_data"
    },
    {
     "name": "stdout",
     "output_type": "stream",
     "text": [
      "                                                                                         \r"
     ]
    },
    {
     "data": {
      "text/html": [
       "713 rows X 10 columns"
      ],
      "text/plain": [
       "<IPython.core.display.HTML object>"
      ]
     },
     "metadata": {},
     "output_type": "display_data"
    },
    {
     "name": "stdout",
     "output_type": "stream",
     "text": [
      "result data stored in table '\"ALICE\".\"ml__td_sqlmr_persist_out__1719265448540624\"' - 6/20\n",
      "                                                                                         \r"
     ]
    },
    {
     "data": {
      "text/html": [
       "Updated dataset sample after performing target encoding:"
      ],
      "text/plain": [
       "<IPython.core.display.HTML object>"
      ]
     },
     "metadata": {},
     "output_type": "display_data"
    },
    {
     "data": {
      "text/html": [
       "<style type=\"text/css\">\n",
       "\ttable {border:ridge 5px;}\n",
       "\ttable td {border:inset 1px;}\n",
       "\ttable tr#HeaderRow {background-color:grey; color:white;}</style>\n",
       "<html><table>\n",
       "\t<tr id=\"HeaderRow\">\n",
       "\t\t<th>embarked</th>\n",
       "\t\t<th>fare</th>\n",
       "\t\t<th>sex</th>\n",
       "\t\t<th>passenger</th>\n",
       "\t\t<th>survived</th>\n",
       "\t\t<th>parch</th>\n",
       "\t\t<th>id</th>\n",
       "\t\t<th>age</th>\n",
       "\t\t<th>sibsp</th>\n",
       "\t\t<th>pclass</th>\n",
       "\t</tr>\n",
       "\t<tr>\n",
       "\t\t<td>0.5428571428571428</td>\n",
       "\t\t<td>78.2667</td>\n",
       "\t\t<td>female</td>\n",
       "\t\t<td>592</td>\n",
       "\t\t<td>1</td>\n",
       "\t\t<td>0</td>\n",
       "\t\t<td>374</td>\n",
       "\t\t<td>52</td>\n",
       "\t\t<td>1</td>\n",
       "\t\t<td>1</td>\n",
       "\t</tr>\n",
       "\t<tr>\n",
       "\t\t<td>0.5428571428571428</td>\n",
       "\t\t<td>27.7208</td>\n",
       "\t\t<td>male</td>\n",
       "\t\t<td>31</td>\n",
       "\t\t<td>0</td>\n",
       "\t\t<td>0</td>\n",
       "\t\t<td>558</td>\n",
       "\t\t<td>40</td>\n",
       "\t\t<td>0</td>\n",
       "\t\t<td>1</td>\n",
       "\t</tr>\n",
       "\t<tr>\n",
       "\t\t<td>0.5428571428571428</td>\n",
       "\t\t<td>27.7208</td>\n",
       "\t\t<td>female</td>\n",
       "\t\t<td>195</td>\n",
       "\t\t<td>1</td>\n",
       "\t\t<td>0</td>\n",
       "\t\t<td>563</td>\n",
       "\t\t<td>44</td>\n",
       "\t\t<td>0</td>\n",
       "\t\t<td>1</td>\n",
       "\t</tr>\n",
       "\t<tr>\n",
       "\t\t<td>0.5428571428571428</td>\n",
       "\t\t<td>27.7208</td>\n",
       "\t\t<td>male</td>\n",
       "\t\t<td>65</td>\n",
       "\t\t<td>0</td>\n",
       "\t\t<td>0</td>\n",
       "\t\t<td>686</td>\n",
       "\t\t<td>28</td>\n",
       "\t\t<td>0</td>\n",
       "\t\t<td>1</td>\n",
       "\t</tr>\n",
       "\t<tr>\n",
       "\t\t<td>0.5428571428571428</td>\n",
       "\t\t<td>18.7875</td>\n",
       "\t\t<td>male</td>\n",
       "\t\t<td>208</td>\n",
       "\t\t<td>1</td>\n",
       "\t\t<td>0</td>\n",
       "\t\t<td>636</td>\n",
       "\t\t<td>26</td>\n",
       "\t\t<td>0</td>\n",
       "\t\t<td>0</td>\n",
       "\t</tr>\n",
       "\t<tr>\n",
       "\t\t<td>0.5428571428571428</td>\n",
       "\t\t<td>18.7875</td>\n",
       "\t\t<td>male</td>\n",
       "\t\t<td>732</td>\n",
       "\t\t<td>0</td>\n",
       "\t\t<td>0</td>\n",
       "\t\t<td>29</td>\n",
       "\t\t<td>11</td>\n",
       "\t\t<td>0</td>\n",
       "\t\t<td>0</td>\n",
       "\t</tr>\n",
       "\t<tr>\n",
       "\t\t<td>0.33267716535433073</td>\n",
       "\t\t<td>69.55</td>\n",
       "\t\t<td>female</td>\n",
       "\t\t<td>864</td>\n",
       "\t\t<td>0</td>\n",
       "\t\t<td>2</td>\n",
       "\t\t<td>639</td>\n",
       "\t\t<td>28</td>\n",
       "\t\t<td>8</td>\n",
       "\t\t<td>0</td>\n",
       "\t</tr>\n",
       "\t<tr>\n",
       "\t\t<td>0.33267716535433073</td>\n",
       "\t\t<td>69.55</td>\n",
       "\t\t<td>female</td>\n",
       "\t\t<td>181</td>\n",
       "\t\t<td>0</td>\n",
       "\t\t<td>2</td>\n",
       "\t\t<td>78</td>\n",
       "\t\t<td>28</td>\n",
       "\t\t<td>8</td>\n",
       "\t\t<td>0</td>\n",
       "\t</tr>\n",
       "\t<tr>\n",
       "\t\t<td>0.33267716535433073</td>\n",
       "\t\t<td>69.55</td>\n",
       "\t\t<td>female</td>\n",
       "\t\t<td>793</td>\n",
       "\t\t<td>0</td>\n",
       "\t\t<td>2</td>\n",
       "\t\t<td>79</td>\n",
       "\t\t<td>28</td>\n",
       "\t\t<td>8</td>\n",
       "\t\t<td>0</td>\n",
       "\t</tr>\n",
       "\t<tr>\n",
       "\t\t<td>0.33267716535433073</td>\n",
       "\t\t<td>69.55</td>\n",
       "\t\t<td>male</td>\n",
       "\t\t<td>202</td>\n",
       "\t\t<td>0</td>\n",
       "\t\t<td>2</td>\n",
       "\t\t<td>63</td>\n",
       "\t\t<td>28</td>\n",
       "\t\t<td>8</td>\n",
       "\t\t<td>0</td>\n",
       "\t</tr>\n",
       "</table></html>"
      ],
      "text/plain": [
       "             fare     sex  passenger  survived  parch   id  age  sibsp  pclass\n",
       "embarked                                                                      \n",
       "0.542857  78.2667  female        592         1      0  374   52      1       1\n",
       "0.542857  27.7208    male         31         0      0  558   40      0       1\n",
       "0.542857  27.7208  female        195         1      0  563   44      0       1\n",
       "0.542857  27.7208    male         65         0      0  686   28      0       1\n",
       "0.542857  18.7875    male        208         1      0  636   26      0       0\n",
       "0.542857  18.7875    male        732         0      0   29   11      0       0\n",
       "0.332677  69.5500  female        864         0      2  639   28      8       0\n",
       "0.332677  69.5500  female        181         0      2   78   28      8       0\n",
       "0.332677  69.5500  female        793         0      2   79   28      8       0\n",
       "0.332677  69.5500    male        202         0      2   63   28      8       0"
      ]
     },
     "metadata": {},
     "output_type": "display_data"
    },
    {
     "name": "stdout",
     "output_type": "stream",
     "text": [
      "                                                                                         \r"
     ]
    },
    {
     "data": {
      "text/html": [
       "713 rows X 10 columns"
      ],
      "text/plain": [
       "<IPython.core.display.HTML object>"
      ]
     },
     "metadata": {},
     "output_type": "display_data"
    },
    {
     "name": "stdout",
     "output_type": "stream",
     "text": [
      "                                                                                         \r"
     ]
    },
    {
     "data": {
      "text/html": [
       "\n",
       "Performing encoding for categorical columns ..."
      ],
      "text/plain": [
       "<IPython.core.display.HTML object>"
      ]
     },
     "metadata": {},
     "output_type": "display_data"
    },
    {
     "name": "stdout",
     "output_type": "stream",
     "text": [
      "result data stored in table '\"ALICE\".\"ml__td_sqlmr_persist_out__1719262683749148\"' - 6/20\n",
      "                                                                                         \r"
     ]
    },
    {
     "data": {
      "text/html": [
       "ONE HOT Encoding these Columns:"
      ],
      "text/plain": [
       "<IPython.core.display.HTML object>"
      ]
     },
     "metadata": {},
     "output_type": "display_data"
    },
    {
     "name": "stdout",
     "output_type": "stream",
     "text": [
      "['sex']\n",
      "                                                                                         \r"
     ]
    },
    {
     "data": {
      "text/html": [
       "Sample of dataset after performing one hot encoding:"
      ],
      "text/plain": [
       "<IPython.core.display.HTML object>"
      ]
     },
     "metadata": {},
     "output_type": "display_data"
    },
    {
     "data": {
      "text/html": [
       "<style type=\"text/css\">\n",
       "\ttable {border:ridge 5px;}\n",
       "\ttable td {border:inset 1px;}\n",
       "\ttable tr#HeaderRow {background-color:grey; color:white;}</style>\n",
       "<html><table>\n",
       "\t<tr id=\"HeaderRow\">\n",
       "\t\t<th>embarked</th>\n",
       "\t\t<th>fare</th>\n",
       "\t\t<th>sex_0</th>\n",
       "\t\t<th>sex_1</th>\n",
       "\t\t<th>passenger</th>\n",
       "\t\t<th>survived</th>\n",
       "\t\t<th>parch</th>\n",
       "\t\t<th>id</th>\n",
       "\t\t<th>age</th>\n",
       "\t\t<th>sibsp</th>\n",
       "\t\t<th>pclass</th>\n",
       "\t</tr>\n",
       "\t<tr>\n",
       "\t\t<td>0.5428571428571428</td>\n",
       "\t\t<td>27.7208</td>\n",
       "\t\t<td>1</td>\n",
       "\t\t<td>0</td>\n",
       "\t\t<td>195</td>\n",
       "\t\t<td>1</td>\n",
       "\t\t<td>0</td>\n",
       "\t\t<td>563</td>\n",
       "\t\t<td>44</td>\n",
       "\t\t<td>0</td>\n",
       "\t\t<td>1</td>\n",
       "\t</tr>\n",
       "\t<tr>\n",
       "\t\t<td>0.5428571428571428</td>\n",
       "\t\t<td>18.7875</td>\n",
       "\t\t<td>0</td>\n",
       "\t\t<td>1</td>\n",
       "\t\t<td>208</td>\n",
       "\t\t<td>1</td>\n",
       "\t\t<td>0</td>\n",
       "\t\t<td>636</td>\n",
       "\t\t<td>26</td>\n",
       "\t\t<td>0</td>\n",
       "\t\t<td>0</td>\n",
       "\t</tr>\n",
       "\t<tr>\n",
       "\t\t<td>0.5428571428571428</td>\n",
       "\t\t<td>18.7875</td>\n",
       "\t\t<td>0</td>\n",
       "\t\t<td>1</td>\n",
       "\t\t<td>732</td>\n",
       "\t\t<td>0</td>\n",
       "\t\t<td>0</td>\n",
       "\t\t<td>29</td>\n",
       "\t\t<td>11</td>\n",
       "\t\t<td>0</td>\n",
       "\t\t<td>0</td>\n",
       "\t</tr>\n",
       "\t<tr>\n",
       "\t\t<td>0.5428571428571428</td>\n",
       "\t\t<td>106.425</td>\n",
       "\t\t<td>1</td>\n",
       "\t\t<td>0</td>\n",
       "\t\t<td>538</td>\n",
       "\t\t<td>1</td>\n",
       "\t\t<td>0</td>\n",
       "\t\t<td>643</td>\n",
       "\t\t<td>30</td>\n",
       "\t\t<td>0</td>\n",
       "\t\t<td>1</td>\n",
       "\t</tr>\n",
       "\t<tr>\n",
       "\t\t<td>0.5428571428571428</td>\n",
       "\t\t<td>146.5208</td>\n",
       "\t\t<td>1</td>\n",
       "\t\t<td>0</td>\n",
       "\t\t<td>32</td>\n",
       "\t\t<td>1</td>\n",
       "\t\t<td>0</td>\n",
       "\t\t<td>191</td>\n",
       "\t\t<td>28</td>\n",
       "\t\t<td>1</td>\n",
       "\t\t<td>1</td>\n",
       "\t</tr>\n",
       "\t<tr>\n",
       "\t\t<td>0.5428571428571428</td>\n",
       "\t\t<td>146.5208</td>\n",
       "\t\t<td>1</td>\n",
       "\t\t<td>0</td>\n",
       "\t\t<td>196</td>\n",
       "\t\t<td>1</td>\n",
       "\t\t<td>0</td>\n",
       "\t\t<td>133</td>\n",
       "\t\t<td>58</td>\n",
       "\t\t<td>0</td>\n",
       "\t\t<td>1</td>\n",
       "\t</tr>\n",
       "\t<tr>\n",
       "\t\t<td>0.33267716535433073</td>\n",
       "\t\t<td>69.55</td>\n",
       "\t\t<td>1</td>\n",
       "\t\t<td>0</td>\n",
       "\t\t<td>793</td>\n",
       "\t\t<td>0</td>\n",
       "\t\t<td>2</td>\n",
       "\t\t<td>79</td>\n",
       "\t\t<td>28</td>\n",
       "\t\t<td>8</td>\n",
       "\t\t<td>0</td>\n",
       "\t</tr>\n",
       "\t<tr>\n",
       "\t\t<td>0.33267716535433073</td>\n",
       "\t\t<td>26.25</td>\n",
       "\t\t<td>1</td>\n",
       "\t\t<td>0</td>\n",
       "\t\t<td>441</td>\n",
       "\t\t<td>1</td>\n",
       "\t\t<td>1</td>\n",
       "\t\t<td>559</td>\n",
       "\t\t<td>45</td>\n",
       "\t\t<td>1</td>\n",
       "\t\t<td>0</td>\n",
       "\t</tr>\n",
       "\t<tr>\n",
       "\t\t<td>0.33267716535433073</td>\n",
       "\t\t<td>26.25</td>\n",
       "\t\t<td>1</td>\n",
       "\t\t<td>0</td>\n",
       "\t\t<td>238</td>\n",
       "\t\t<td>1</td>\n",
       "\t\t<td>2</td>\n",
       "\t\t<td>118</td>\n",
       "\t\t<td>8</td>\n",
       "\t\t<td>0</td>\n",
       "\t\t<td>0</td>\n",
       "\t</tr>\n",
       "\t<tr>\n",
       "\t\t<td>0.33267716535433073</td>\n",
       "\t\t<td>26.25</td>\n",
       "\t\t<td>0</td>\n",
       "\t\t<td>1</td>\n",
       "\t\t<td>315</td>\n",
       "\t\t<td>0</td>\n",
       "\t\t<td>1</td>\n",
       "\t\t<td>485</td>\n",
       "\t\t<td>43</td>\n",
       "\t\t<td>1</td>\n",
       "\t\t<td>0</td>\n",
       "\t</tr>\n",
       "</table></html>"
      ],
      "text/plain": [
       "              fare  sex_0  sex_1  passenger  survived  parch   id  age  sibsp  pclass\n",
       "embarked                                                                             \n",
       "0.542857   27.7208      1      0        195         1      0  563   44      0       1\n",
       "0.542857   18.7875      0      1        208         1      0  636   26      0       0\n",
       "0.542857   18.7875      0      1        732         0      0   29   11      0       0\n",
       "0.542857  106.4250      1      0        538         1      0  643   30      0       1\n",
       "0.542857  146.5208      1      0         32         1      0  191   28      1       1\n",
       "0.542857  146.5208      1      0        196         1      0  133   58      0       1\n",
       "0.332677   69.5500      1      0        793         0      2   79   28      8       0\n",
       "0.332677   26.2500      1      0        441         1      1  559   45      1       0\n",
       "0.332677   26.2500      1      0        238         1      2  118    8      0       0\n",
       "0.332677   26.2500      0      1        315         0      1  485   43      1       0"
      ]
     },
     "metadata": {},
     "output_type": "display_data"
    },
    {
     "name": "stdout",
     "output_type": "stream",
     "text": [
      "                                                                                         \r"
     ]
    },
    {
     "data": {
      "text/html": [
       "713 rows X 11 columns"
      ],
      "text/plain": [
       "<IPython.core.display.HTML object>"
      ]
     },
     "metadata": {},
     "output_type": "display_data"
    },
    {
     "name": "stdout",
     "output_type": "stream",
     "text": [
      "                                                                                         \r"
     ]
    },
    {
     "data": {
      "text/html": [
       "Time taken to encode the columns: 13.46 sec"
      ],
      "text/plain": [
       "<IPython.core.display.HTML object>"
      ]
     },
     "metadata": {},
     "output_type": "display_data"
    },
    {
     "name": "stdout",
     "output_type": "stream",
     "text": [
      "                                                                                         \r"
     ]
    },
    {
     "data": {
      "text/html": [
       "\n",
       "Starting customized mathematical transformation ..."
      ],
      "text/plain": [
       "<IPython.core.display.HTML object>"
      ]
     },
     "metadata": {},
     "output_type": "display_data"
    },
    {
     "name": "stdout",
     "output_type": "stream",
     "text": [
      "Skipping customized mathematical transformation.                                         \n",
      "                                                                                         \r"
     ]
    },
    {
     "data": {
      "text/html": [
       "\n",
       "Starting customized non-linear transformation ..."
      ],
      "text/plain": [
       "<IPython.core.display.HTML object>"
      ]
     },
     "metadata": {},
     "output_type": "display_data"
    },
    {
     "name": "stdout",
     "output_type": "stream",
     "text": [
      "                                                                                         \r"
     ]
    },
    {
     "data": {
      "text/html": [
       "Possible combination :"
      ],
      "text/plain": [
       "<IPython.core.display.HTML object>"
      ]
     },
     "metadata": {},
     "output_type": "display_data"
    },
    {
     "name": "stdout",
     "output_type": "stream",
     "text": [
      "['Combination_1']\n",
      "result data stored in table '\"ALICE\".\"ml__td_sqlmr_persist_out__1719263762229876\"' - 8/20\n",
      "                                                                                         \r"
     ]
    },
    {
     "data": {
      "text/html": [
       "Updated dataset sample after performing non-liner transformation:"
      ],
      "text/plain": [
       "<IPython.core.display.HTML object>"
      ]
     },
     "metadata": {},
     "output_type": "display_data"
    },
    {
     "data": {
      "text/html": [
       "<style type=\"text/css\">\n",
       "\ttable {border:ridge 5px;}\n",
       "\ttable td {border:inset 1px;}\n",
       "\ttable tr#HeaderRow {background-color:grey; color:white;}</style>\n",
       "<html><table>\n",
       "\t<tr id=\"HeaderRow\">\n",
       "\t\t<th>embarked</th>\n",
       "\t\t<th>fare</th>\n",
       "\t\t<th>sex_0</th>\n",
       "\t\t<th>sex_1</th>\n",
       "\t\t<th>passenger</th>\n",
       "\t\t<th>survived</th>\n",
       "\t\t<th>parch</th>\n",
       "\t\t<th>id</th>\n",
       "\t\t<th>age</th>\n",
       "\t\t<th>sibsp</th>\n",
       "\t\t<th>pclass</th>\n",
       "\t\t<th>Family_count</th>\n",
       "\t</tr>\n",
       "\t<tr>\n",
       "\t\t<td>0.5428571428571428</td>\n",
       "\t\t<td>18.7875</td>\n",
       "\t\t<td>0</td>\n",
       "\t\t<td>1</td>\n",
       "\t\t<td>732</td>\n",
       "\t\t<td>0</td>\n",
       "\t\t<td>0.0</td>\n",
       "\t\t<td>29</td>\n",
       "\t\t<td>11</td>\n",
       "\t\t<td>0.0</td>\n",
       "\t\t<td>0</td>\n",
       "\t\t<td>1.0</td>\n",
       "\t</tr>\n",
       "\t<tr>\n",
       "\t\t<td>0.5428571428571428</td>\n",
       "\t\t<td>146.5208</td>\n",
       "\t\t<td>1</td>\n",
       "\t\t<td>0</td>\n",
       "\t\t<td>32</td>\n",
       "\t\t<td>1</td>\n",
       "\t\t<td>0.0</td>\n",
       "\t\t<td>191</td>\n",
       "\t\t<td>28</td>\n",
       "\t\t<td>1.0</td>\n",
       "\t\t<td>1</td>\n",
       "\t\t<td>2.0</td>\n",
       "\t</tr>\n",
       "\t<tr>\n",
       "\t\t<td>0.5428571428571428</td>\n",
       "\t\t<td>146.5208</td>\n",
       "\t\t<td>1</td>\n",
       "\t\t<td>0</td>\n",
       "\t\t<td>196</td>\n",
       "\t\t<td>1</td>\n",
       "\t\t<td>0.0</td>\n",
       "\t\t<td>133</td>\n",
       "\t\t<td>58</td>\n",
       "\t\t<td>0.0</td>\n",
       "\t\t<td>1</td>\n",
       "\t\t<td>1.0</td>\n",
       "\t</tr>\n",
       "\t<tr>\n",
       "\t\t<td>0.5428571428571428</td>\n",
       "\t\t<td>57.9792</td>\n",
       "\t\t<td>1</td>\n",
       "\t\t<td>0</td>\n",
       "\t\t<td>330</td>\n",
       "\t\t<td>1</td>\n",
       "\t\t<td>1.0</td>\n",
       "\t\t<td>702</td>\n",
       "\t\t<td>16</td>\n",
       "\t\t<td>0.0</td>\n",
       "\t\t<td>1</td>\n",
       "\t\t<td>2.0</td>\n",
       "\t</tr>\n",
       "\t<tr>\n",
       "\t\t<td>0.5428571428571428</td>\n",
       "\t\t<td>76.2917</td>\n",
       "\t\t<td>1</td>\n",
       "\t\t<td>0</td>\n",
       "\t\t<td>219</td>\n",
       "\t\t<td>1</td>\n",
       "\t\t<td>0.0</td>\n",
       "\t\t<td>80</td>\n",
       "\t\t<td>32</td>\n",
       "\t\t<td>0.0</td>\n",
       "\t\t<td>1</td>\n",
       "\t\t<td>1.0</td>\n",
       "\t</tr>\n",
       "\t<tr>\n",
       "\t\t<td>0.5428571428571428</td>\n",
       "\t\t<td>11.2417</td>\n",
       "\t\t<td>0</td>\n",
       "\t\t<td>1</td>\n",
       "\t\t<td>126</td>\n",
       "\t\t<td>1</td>\n",
       "\t\t<td>0.0</td>\n",
       "\t\t<td>632</td>\n",
       "\t\t<td>12</td>\n",
       "\t\t<td>1.0</td>\n",
       "\t\t<td>0</td>\n",
       "\t\t<td>2.0</td>\n",
       "\t</tr>\n",
       "\t<tr>\n",
       "\t\t<td>0.38235294117647056</td>\n",
       "\t\t<td>7.75</td>\n",
       "\t\t<td>1</td>\n",
       "\t\t<td>0</td>\n",
       "\t\t<td>265</td>\n",
       "\t\t<td>0</td>\n",
       "\t\t<td>0.0</td>\n",
       "\t\t<td>9</td>\n",
       "\t\t<td>28</td>\n",
       "\t\t<td>0.0</td>\n",
       "\t\t<td>0</td>\n",
       "\t\t<td>1.0</td>\n",
       "\t</tr>\n",
       "\t<tr>\n",
       "\t\t<td>0.38235294117647056</td>\n",
       "\t\t<td>7.75</td>\n",
       "\t\t<td>1</td>\n",
       "\t\t<td>0</td>\n",
       "\t\t<td>768</td>\n",
       "\t\t<td>0</td>\n",
       "\t\t<td>0.0</td>\n",
       "\t\t<td>155</td>\n",
       "\t\t<td>30</td>\n",
       "\t\t<td>0.0</td>\n",
       "\t\t<td>0</td>\n",
       "\t\t<td>1.0</td>\n",
       "\t</tr>\n",
       "\t<tr>\n",
       "\t\t<td>0.38235294117647056</td>\n",
       "\t\t<td>7.75</td>\n",
       "\t\t<td>1</td>\n",
       "\t\t<td>0</td>\n",
       "\t\t<td>209</td>\n",
       "\t\t<td>1</td>\n",
       "\t\t<td>0.0</td>\n",
       "\t\t<td>299</td>\n",
       "\t\t<td>16</td>\n",
       "\t\t<td>0.0</td>\n",
       "\t\t<td>0</td>\n",
       "\t\t<td>1.0</td>\n",
       "\t</tr>\n",
       "\t<tr>\n",
       "\t\t<td>0.38235294117647056</td>\n",
       "\t\t<td>7.75</td>\n",
       "\t\t<td>0</td>\n",
       "\t\t<td>1</td>\n",
       "\t\t<td>777</td>\n",
       "\t\t<td>0</td>\n",
       "\t\t<td>0.0</td>\n",
       "\t\t<td>340</td>\n",
       "\t\t<td>28</td>\n",
       "\t\t<td>0.0</td>\n",
       "\t\t<td>0</td>\n",
       "\t\t<td>1.0</td>\n",
       "\t</tr>\n",
       "</table></html>"
      ],
      "text/plain": [
       "              fare  sex_0  sex_1  passenger  survived  parch   id  age  sibsp  pclass  Family_count\n",
       "embarked                                                                                           \n",
       "0.542857   18.7875      0      1        732         0    0.0   29   11    0.0       0           1.0\n",
       "0.542857  146.5208      1      0         32         1    0.0  191   28    1.0       1           2.0\n",
       "0.542857  146.5208      1      0        196         1    0.0  133   58    0.0       1           1.0\n",
       "0.542857   57.9792      1      0        330         1    1.0  702   16    0.0       1           2.0\n",
       "0.542857   76.2917      1      0        219         1    0.0   80   32    0.0       1           1.0\n",
       "0.542857   11.2417      0      1        126         1    0.0  632   12    1.0       0           2.0\n",
       "0.382353    7.7500      1      0        265         0    0.0    9   28    0.0       0           1.0\n",
       "0.382353    7.7500      1      0        768         0    0.0  155   30    0.0       0           1.0\n",
       "0.382353    7.7500      1      0        209         1    0.0  299   16    0.0       0           1.0\n",
       "0.382353    7.7500      0      1        777         0    0.0  340   28    0.0       0           1.0"
      ]
     },
     "metadata": {},
     "output_type": "display_data"
    },
    {
     "name": "stdout",
     "output_type": "stream",
     "text": [
      "                                                                                         \r"
     ]
    },
    {
     "data": {
      "text/html": [
       "713 rows X 12 columns"
      ],
      "text/plain": [
       "<IPython.core.display.HTML object>"
      ]
     },
     "metadata": {},
     "output_type": "display_data"
    },
    {
     "name": "stdout",
     "output_type": "stream",
     "text": [
      "                                                                                         \r"
     ]
    },
    {
     "data": {
      "text/html": [
       "\n",
       "Starting customized anti-select columns ..."
      ],
      "text/plain": [
       "<IPython.core.display.HTML object>"
      ]
     },
     "metadata": {},
     "output_type": "display_data"
    },
    {
     "name": "stdout",
     "output_type": "stream",
     "text": [
      "                                                                                         \r"
     ]
    },
    {
     "data": {
      "text/html": [
       "Updated dataset sample after performing anti-select columns:"
      ],
      "text/plain": [
       "<IPython.core.display.HTML object>"
      ]
     },
     "metadata": {},
     "output_type": "display_data"
    },
    {
     "data": {
      "text/html": [
       "<style type=\"text/css\">\n",
       "\ttable {border:ridge 5px;}\n",
       "\ttable td {border:inset 1px;}\n",
       "\ttable tr#HeaderRow {background-color:grey; color:white;}</style>\n",
       "<html><table>\n",
       "\t<tr id=\"HeaderRow\">\n",
       "\t\t<th>embarked</th>\n",
       "\t\t<th>fare</th>\n",
       "\t\t<th>sex_0</th>\n",
       "\t\t<th>sex_1</th>\n",
       "\t\t<th>survived</th>\n",
       "\t\t<th>parch</th>\n",
       "\t\t<th>id</th>\n",
       "\t\t<th>age</th>\n",
       "\t\t<th>sibsp</th>\n",
       "\t\t<th>pclass</th>\n",
       "\t\t<th>Family_count</th>\n",
       "\t</tr>\n",
       "\t<tr>\n",
       "\t\t<td>0.5428571428571428</td>\n",
       "\t\t<td>18.7875</td>\n",
       "\t\t<td>0</td>\n",
       "\t\t<td>1</td>\n",
       "\t\t<td>0</td>\n",
       "\t\t<td>0.0</td>\n",
       "\t\t<td>29</td>\n",
       "\t\t<td>11</td>\n",
       "\t\t<td>0.0</td>\n",
       "\t\t<td>0</td>\n",
       "\t\t<td>1.0</td>\n",
       "\t</tr>\n",
       "\t<tr>\n",
       "\t\t<td>0.5428571428571428</td>\n",
       "\t\t<td>146.5208</td>\n",
       "\t\t<td>1</td>\n",
       "\t\t<td>0</td>\n",
       "\t\t<td>1</td>\n",
       "\t\t<td>0.0</td>\n",
       "\t\t<td>191</td>\n",
       "\t\t<td>28</td>\n",
       "\t\t<td>1.0</td>\n",
       "\t\t<td>1</td>\n",
       "\t\t<td>2.0</td>\n",
       "\t</tr>\n",
       "\t<tr>\n",
       "\t\t<td>0.5428571428571428</td>\n",
       "\t\t<td>146.5208</td>\n",
       "\t\t<td>1</td>\n",
       "\t\t<td>0</td>\n",
       "\t\t<td>1</td>\n",
       "\t\t<td>0.0</td>\n",
       "\t\t<td>133</td>\n",
       "\t\t<td>58</td>\n",
       "\t\t<td>0.0</td>\n",
       "\t\t<td>1</td>\n",
       "\t\t<td>1.0</td>\n",
       "\t</tr>\n",
       "\t<tr>\n",
       "\t\t<td>0.5428571428571428</td>\n",
       "\t\t<td>57.9792</td>\n",
       "\t\t<td>1</td>\n",
       "\t\t<td>0</td>\n",
       "\t\t<td>1</td>\n",
       "\t\t<td>1.0</td>\n",
       "\t\t<td>702</td>\n",
       "\t\t<td>16</td>\n",
       "\t\t<td>0.0</td>\n",
       "\t\t<td>1</td>\n",
       "\t\t<td>2.0</td>\n",
       "\t</tr>\n",
       "\t<tr>\n",
       "\t\t<td>0.5428571428571428</td>\n",
       "\t\t<td>76.2917</td>\n",
       "\t\t<td>1</td>\n",
       "\t\t<td>0</td>\n",
       "\t\t<td>1</td>\n",
       "\t\t<td>0.0</td>\n",
       "\t\t<td>80</td>\n",
       "\t\t<td>32</td>\n",
       "\t\t<td>0.0</td>\n",
       "\t\t<td>1</td>\n",
       "\t\t<td>1.0</td>\n",
       "\t</tr>\n",
       "\t<tr>\n",
       "\t\t<td>0.5428571428571428</td>\n",
       "\t\t<td>11.2417</td>\n",
       "\t\t<td>0</td>\n",
       "\t\t<td>1</td>\n",
       "\t\t<td>1</td>\n",
       "\t\t<td>0.0</td>\n",
       "\t\t<td>632</td>\n",
       "\t\t<td>12</td>\n",
       "\t\t<td>1.0</td>\n",
       "\t\t<td>0</td>\n",
       "\t\t<td>2.0</td>\n",
       "\t</tr>\n",
       "\t<tr>\n",
       "\t\t<td>0.38235294117647056</td>\n",
       "\t\t<td>7.75</td>\n",
       "\t\t<td>1</td>\n",
       "\t\t<td>0</td>\n",
       "\t\t<td>0</td>\n",
       "\t\t<td>0.0</td>\n",
       "\t\t<td>9</td>\n",
       "\t\t<td>28</td>\n",
       "\t\t<td>0.0</td>\n",
       "\t\t<td>0</td>\n",
       "\t\t<td>1.0</td>\n",
       "\t</tr>\n",
       "\t<tr>\n",
       "\t\t<td>0.38235294117647056</td>\n",
       "\t\t<td>7.75</td>\n",
       "\t\t<td>1</td>\n",
       "\t\t<td>0</td>\n",
       "\t\t<td>0</td>\n",
       "\t\t<td>0.0</td>\n",
       "\t\t<td>155</td>\n",
       "\t\t<td>30</td>\n",
       "\t\t<td>0.0</td>\n",
       "\t\t<td>0</td>\n",
       "\t\t<td>1.0</td>\n",
       "\t</tr>\n",
       "\t<tr>\n",
       "\t\t<td>0.38235294117647056</td>\n",
       "\t\t<td>7.75</td>\n",
       "\t\t<td>1</td>\n",
       "\t\t<td>0</td>\n",
       "\t\t<td>1</td>\n",
       "\t\t<td>0.0</td>\n",
       "\t\t<td>299</td>\n",
       "\t\t<td>16</td>\n",
       "\t\t<td>0.0</td>\n",
       "\t\t<td>0</td>\n",
       "\t\t<td>1.0</td>\n",
       "\t</tr>\n",
       "\t<tr>\n",
       "\t\t<td>0.38235294117647056</td>\n",
       "\t\t<td>7.75</td>\n",
       "\t\t<td>0</td>\n",
       "\t\t<td>1</td>\n",
       "\t\t<td>0</td>\n",
       "\t\t<td>0.0</td>\n",
       "\t\t<td>340</td>\n",
       "\t\t<td>28</td>\n",
       "\t\t<td>0.0</td>\n",
       "\t\t<td>0</td>\n",
       "\t\t<td>1.0</td>\n",
       "\t</tr>\n",
       "</table></html>"
      ],
      "text/plain": [
       "   embarked      fare  sex_0  sex_1  survived  parch   id  age  sibsp  pclass  Family_count\n",
       "0  0.542857   18.7875      0      1         0    0.0   29   11    0.0       0           1.0\n",
       "1  0.542857  146.5208      1      0         1    0.0  191   28    1.0       1           2.0\n",
       "2  0.542857  146.5208      1      0         1    0.0  133   58    0.0       1           1.0\n",
       "3  0.542857   57.9792      1      0         1    1.0  702   16    0.0       1           2.0\n",
       "4  0.542857   76.2917      1      0         1    0.0   80   32    0.0       1           1.0\n",
       "5  0.542857   11.2417      0      1         1    0.0  632   12    1.0       0           2.0\n",
       "6  0.382353    7.7500      1      0         0    0.0    9   28    0.0       0           1.0\n",
       "7  0.382353    7.7500      1      0         0    0.0  155   30    0.0       0           1.0\n",
       "8  0.382353    7.7500      1      0         1    0.0  299   16    0.0       0           1.0\n",
       "9  0.382353    7.7500      0      1         0    0.0  340   28    0.0       0           1.0"
      ]
     },
     "metadata": {},
     "output_type": "display_data"
    },
    {
     "name": "stdout",
     "output_type": "stream",
     "text": [
      "                                                                                         \r"
     ]
    },
    {
     "data": {
      "text/html": [
       "713 rows X 11 columns"
      ],
      "text/plain": [
       "<IPython.core.display.HTML object>"
      ]
     },
     "metadata": {},
     "output_type": "display_data"
    },
    {
     "name": "stdout",
     "output_type": "stream",
     "text": [
      "                                                                                          \r"
     ]
    },
    {
     "data": {
      "text/html": [
       "\n",
       "            <style>\n",
       "                .custom-div {\n",
       "                    background-color: lightgray;\n",
       "                    color: #000000;\n",
       "                    padding: 10px;\n",
       "                    border-radius: 8px;\n",
       "                    box-shadow: 0 3px 4px rgba(0 -  0 -  0 -  0.2);\n",
       "                    margin-bottom: 10px;\n",
       "                    text-align: center;\n",
       "                }\n",
       "            </style>\n",
       "        <br><div class=\"custom-div\"><h3><span style=\"color: green;\">1. Feature Exploration -> 2. Feature Engineering -></span> 3. Data Preparation -> 4. Model Training & Evaluation<center></h3></center></div>"
      ],
      "text/plain": [
       "<IPython.core.display.HTML object>"
      ]
     },
     "metadata": {},
     "output_type": "display_data"
    },
    {
     "name": "stdout",
     "output_type": "stream",
     "text": [
      "                                                                                          \r"
     ]
    },
    {
     "data": {
      "text/html": [
       "Data preparation started ..."
      ],
      "text/plain": [
       "<IPython.core.display.HTML object>"
      ]
     },
     "metadata": {},
     "output_type": "display_data"
    },
    {
     "name": "stdout",
     "output_type": "stream",
     "text": [
      "                                                                                          \r"
     ]
    },
    {
     "data": {
      "text/html": [
       "\n",
       "Spliting of dataset into training and testing ..."
      ],
      "text/plain": [
       "<IPython.core.display.HTML object>"
      ]
     },
     "metadata": {},
     "output_type": "display_data"
    },
    {
     "name": "stdout",
     "output_type": "stream",
     "text": [
      "Training size : 0.75                                                                      \n",
      "Testing size  : 0.25                                                                      \n",
      "                                                                                          \r"
     ]
    },
    {
     "data": {
      "text/html": [
       "Training data sample"
      ],
      "text/plain": [
       "<IPython.core.display.HTML object>"
      ]
     },
     "metadata": {},
     "output_type": "display_data"
    },
    {
     "data": {
      "text/html": [
       "<style type=\"text/css\">\n",
       "\ttable {border:ridge 5px;}\n",
       "\ttable td {border:inset 1px;}\n",
       "\ttable tr#HeaderRow {background-color:grey; color:white;}</style>\n",
       "<html><table>\n",
       "\t<tr id=\"HeaderRow\">\n",
       "\t\t<th>embarked</th>\n",
       "\t\t<th>fare</th>\n",
       "\t\t<th>sex_0</th>\n",
       "\t\t<th>sex_1</th>\n",
       "\t\t<th>survived</th>\n",
       "\t\t<th>parch</th>\n",
       "\t\t<th>id</th>\n",
       "\t\t<th>age</th>\n",
       "\t\t<th>sibsp</th>\n",
       "\t\t<th>pclass</th>\n",
       "\t\t<th>Family_count</th>\n",
       "\t</tr>\n",
       "\t<tr>\n",
       "\t\t<td>0.5428571428571428</td>\n",
       "\t\t<td>29.7</td>\n",
       "\t\t<td>0</td>\n",
       "\t\t<td>1</td>\n",
       "\t\t<td>0</td>\n",
       "\t\t<td>0.0</td>\n",
       "\t\t<td>46</td>\n",
       "\t\t<td>58</td>\n",
       "\t\t<td>0.0</td>\n",
       "\t\t<td>1</td>\n",
       "\t\t<td>1.0</td>\n",
       "\t</tr>\n",
       "\t<tr>\n",
       "\t\t<td>0.5428571428571428</td>\n",
       "\t\t<td>49.5042</td>\n",
       "\t\t<td>1</td>\n",
       "\t\t<td>0</td>\n",
       "\t\t<td>1</td>\n",
       "\t\t<td>0.0</td>\n",
       "\t\t<td>61</td>\n",
       "\t\t<td>24</td>\n",
       "\t\t<td>0.0</td>\n",
       "\t\t<td>1</td>\n",
       "\t\t<td>1.0</td>\n",
       "\t</tr>\n",
       "\t<tr>\n",
       "\t\t<td>0.5428571428571428</td>\n",
       "\t\t<td>35.5</td>\n",
       "\t\t<td>0</td>\n",
       "\t\t<td>1</td>\n",
       "\t\t<td>1</td>\n",
       "\t\t<td>0.0</td>\n",
       "\t\t<td>66</td>\n",
       "\t\t<td>56</td>\n",
       "\t\t<td>0.0</td>\n",
       "\t\t<td>1</td>\n",
       "\t\t<td>1.0</td>\n",
       "\t</tr>\n",
       "\t<tr>\n",
       "\t\t<td>0.5428571428571428</td>\n",
       "\t\t<td>76.2917</td>\n",
       "\t\t<td>1</td>\n",
       "\t\t<td>0</td>\n",
       "\t\t<td>1</td>\n",
       "\t\t<td>0.0</td>\n",
       "\t\t<td>80</td>\n",
       "\t\t<td>32</td>\n",
       "\t\t<td>0.0</td>\n",
       "\t\t<td>1</td>\n",
       "\t\t<td>1.0</td>\n",
       "\t</tr>\n",
       "\t<tr>\n",
       "\t\t<td>0.5428571428571428</td>\n",
       "\t\t<td>7.2292</td>\n",
       "\t\t<td>0</td>\n",
       "\t\t<td>1</td>\n",
       "\t\t<td>0</td>\n",
       "\t\t<td>0.0</td>\n",
       "\t\t<td>95</td>\n",
       "\t\t<td>28</td>\n",
       "\t\t<td>0.0</td>\n",
       "\t\t<td>0</td>\n",
       "\t\t<td>1.0</td>\n",
       "\t</tr>\n",
       "\t<tr>\n",
       "\t\t<td>0.5428571428571428</td>\n",
       "\t\t<td>57.9792</td>\n",
       "\t\t<td>1</td>\n",
       "\t\t<td>0</td>\n",
       "\t\t<td>1</td>\n",
       "\t\t<td>1.0</td>\n",
       "\t\t<td>96</td>\n",
       "\t\t<td>44</td>\n",
       "\t\t<td>0.0</td>\n",
       "\t\t<td>1</td>\n",
       "\t\t<td>2.0</td>\n",
       "\t</tr>\n",
       "\t<tr>\n",
       "\t\t<td>0.38235294117647056</td>\n",
       "\t\t<td>7.725</td>\n",
       "\t\t<td>0</td>\n",
       "\t\t<td>1</td>\n",
       "\t\t<td>0</td>\n",
       "\t\t<td>0.0</td>\n",
       "\t\t<td>8</td>\n",
       "\t\t<td>28</td>\n",
       "\t\t<td>0.0</td>\n",
       "\t\t<td>0</td>\n",
       "\t\t<td>1.0</td>\n",
       "\t</tr>\n",
       "\t<tr>\n",
       "\t\t<td>0.38235294117647056</td>\n",
       "\t\t<td>29.125</td>\n",
       "\t\t<td>0</td>\n",
       "\t\t<td>1</td>\n",
       "\t\t<td>0</td>\n",
       "\t\t<td>1.0</td>\n",
       "\t\t<td>33</td>\n",
       "\t\t<td>2</td>\n",
       "\t\t<td>4.0</td>\n",
       "\t\t<td>0</td>\n",
       "\t\t<td>6.0</td>\n",
       "\t</tr>\n",
       "\t<tr>\n",
       "\t\t<td>0.38235294117647056</td>\n",
       "\t\t<td>7.75</td>\n",
       "\t\t<td>0</td>\n",
       "\t\t<td>1</td>\n",
       "\t\t<td>0</td>\n",
       "\t\t<td>0.0</td>\n",
       "\t\t<td>57</td>\n",
       "\t\t<td>28</td>\n",
       "\t\t<td>0.0</td>\n",
       "\t\t<td>0</td>\n",
       "\t\t<td>1.0</td>\n",
       "\t</tr>\n",
       "\t<tr>\n",
       "\t\t<td>0.38235294117647056</td>\n",
       "\t\t<td>7.75</td>\n",
       "\t\t<td>1</td>\n",
       "\t\t<td>0</td>\n",
       "\t\t<td>1</td>\n",
       "\t\t<td>0.0</td>\n",
       "\t\t<td>65</td>\n",
       "\t\t<td>28</td>\n",
       "\t\t<td>0.0</td>\n",
       "\t\t<td>0</td>\n",
       "\t\t<td>1.0</td>\n",
       "\t</tr>\n",
       "</table></html>"
      ],
      "text/plain": [
       "   embarked     fare  sex_0  sex_1  survived  parch  id  age  sibsp  pclass  Family_count\n",
       "0  0.542857  29.7000      0      1         0    0.0  46   58    0.0       1           1.0\n",
       "1  0.542857  49.5042      1      0         1    0.0  61   24    0.0       1           1.0\n",
       "2  0.542857  35.5000      0      1         1    0.0  66   56    0.0       1           1.0\n",
       "3  0.542857  76.2917      1      0         1    0.0  80   32    0.0       1           1.0\n",
       "4  0.542857   7.2292      0      1         0    0.0  95   28    0.0       0           1.0\n",
       "5  0.542857  57.9792      1      0         1    1.0  96   44    0.0       1           2.0\n",
       "6  0.382353   7.7250      0      1         0    0.0   8   28    0.0       0           1.0\n",
       "7  0.382353  29.1250      0      1         0    1.0  33    2    4.0       0           6.0\n",
       "8  0.382353   7.7500      0      1         0    0.0  57   28    0.0       0           1.0\n",
       "9  0.382353   7.7500      1      0         1    0.0  65   28    0.0       0           1.0"
      ]
     },
     "metadata": {},
     "output_type": "display_data"
    },
    {
     "name": "stdout",
     "output_type": "stream",
     "text": [
      "                                                                                          \r"
     ]
    },
    {
     "data": {
      "text/html": [
       "534 rows X 11 columns"
      ],
      "text/plain": [
       "<IPython.core.display.HTML object>"
      ]
     },
     "metadata": {},
     "output_type": "display_data"
    },
    {
     "name": "stdout",
     "output_type": "stream",
     "text": [
      "                                                                                          \r"
     ]
    },
    {
     "data": {
      "text/html": [
       "Testing data sample"
      ],
      "text/plain": [
       "<IPython.core.display.HTML object>"
      ]
     },
     "metadata": {},
     "output_type": "display_data"
    },
    {
     "data": {
      "text/html": [
       "<style type=\"text/css\">\n",
       "\ttable {border:ridge 5px;}\n",
       "\ttable td {border:inset 1px;}\n",
       "\ttable tr#HeaderRow {background-color:grey; color:white;}</style>\n",
       "<html><table>\n",
       "\t<tr id=\"HeaderRow\">\n",
       "\t\t<th>embarked</th>\n",
       "\t\t<th>fare</th>\n",
       "\t\t<th>sex_0</th>\n",
       "\t\t<th>sex_1</th>\n",
       "\t\t<th>survived</th>\n",
       "\t\t<th>parch</th>\n",
       "\t\t<th>id</th>\n",
       "\t\t<th>age</th>\n",
       "\t\t<th>sibsp</th>\n",
       "\t\t<th>pclass</th>\n",
       "\t\t<th>Family_count</th>\n",
       "\t</tr>\n",
       "\t<tr>\n",
       "\t\t<td>0.33267716535433073</td>\n",
       "\t\t<td>7.8958</td>\n",
       "\t\t<td>1</td>\n",
       "\t\t<td>0</td>\n",
       "\t\t<td>0</td>\n",
       "\t\t<td>0.0</td>\n",
       "\t\t<td>17</td>\n",
       "\t\t<td>28</td>\n",
       "\t\t<td>0.0</td>\n",
       "\t\t<td>0</td>\n",
       "\t\t<td>1.0</td>\n",
       "\t</tr>\n",
       "\t<tr>\n",
       "\t\t<td>0.33267716535433073</td>\n",
       "\t\t<td>23.0</td>\n",
       "\t\t<td>1</td>\n",
       "\t\t<td>0</td>\n",
       "\t\t<td>1</td>\n",
       "\t\t<td>1.0</td>\n",
       "\t\t<td>38</td>\n",
       "\t\t<td>18</td>\n",
       "\t\t<td>0.0</td>\n",
       "\t\t<td>0</td>\n",
       "\t\t<td>2.0</td>\n",
       "\t</tr>\n",
       "\t<tr>\n",
       "\t\t<td>0.33267716535433073</td>\n",
       "\t\t<td>7.05</td>\n",
       "\t\t<td>0</td>\n",
       "\t\t<td>1</td>\n",
       "\t\t<td>0</td>\n",
       "\t\t<td>0.0</td>\n",
       "\t\t<td>40</td>\n",
       "\t\t<td>35</td>\n",
       "\t\t<td>0.0</td>\n",
       "\t\t<td>0</td>\n",
       "\t\t<td>1.0</td>\n",
       "\t</tr>\n",
       "\t<tr>\n",
       "\t\t<td>0.33267716535433073</td>\n",
       "\t\t<td>30.5</td>\n",
       "\t\t<td>0</td>\n",
       "\t\t<td>1</td>\n",
       "\t\t<td>1</td>\n",
       "\t\t<td>0.0</td>\n",
       "\t\t<td>41</td>\n",
       "\t\t<td>27</td>\n",
       "\t\t<td>0.0</td>\n",
       "\t\t<td>1</td>\n",
       "\t\t<td>1.0</td>\n",
       "\t</tr>\n",
       "\t<tr>\n",
       "\t\t<td>0.33267716535433073</td>\n",
       "\t\t<td>13.0</td>\n",
       "\t\t<td>1</td>\n",
       "\t\t<td>0</td>\n",
       "\t\t<td>1</td>\n",
       "\t\t<td>0.0</td>\n",
       "\t\t<td>69</td>\n",
       "\t\t<td>28</td>\n",
       "\t\t<td>0.0</td>\n",
       "\t\t<td>0</td>\n",
       "\t\t<td>1.0</td>\n",
       "\t</tr>\n",
       "\t<tr>\n",
       "\t\t<td>0.33267716535433073</td>\n",
       "\t\t<td>39.4</td>\n",
       "\t\t<td>1</td>\n",
       "\t\t<td>0</td>\n",
       "\t\t<td>1</td>\n",
       "\t\t<td>1.0</td>\n",
       "\t\t<td>75</td>\n",
       "\t\t<td>16</td>\n",
       "\t\t<td>0.0</td>\n",
       "\t\t<td>1</td>\n",
       "\t\t<td>2.0</td>\n",
       "\t</tr>\n",
       "\t<tr>\n",
       "\t\t<td>0.5428571428571428</td>\n",
       "\t\t<td>135.6333</td>\n",
       "\t\t<td>1</td>\n",
       "\t\t<td>0</td>\n",
       "\t\t<td>1</td>\n",
       "\t\t<td>0.0</td>\n",
       "\t\t<td>13</td>\n",
       "\t\t<td>36</td>\n",
       "\t\t<td>0.0</td>\n",
       "\t\t<td>1</td>\n",
       "\t\t<td>1.0</td>\n",
       "\t</tr>\n",
       "\t<tr>\n",
       "\t\t<td>0.5428571428571428</td>\n",
       "\t\t<td>7.2292</td>\n",
       "\t\t<td>0</td>\n",
       "\t\t<td>1</td>\n",
       "\t\t<td>0</td>\n",
       "\t\t<td>0.0</td>\n",
       "\t\t<td>22</td>\n",
       "\t\t<td>22</td>\n",
       "\t\t<td>0.0</td>\n",
       "\t\t<td>0</td>\n",
       "\t\t<td>1.0</td>\n",
       "\t</tr>\n",
       "\t<tr>\n",
       "\t\t<td>0.5428571428571428</td>\n",
       "\t\t<td>15.2458</td>\n",
       "\t\t<td>1</td>\n",
       "\t\t<td>0</td>\n",
       "\t\t<td>0</td>\n",
       "\t\t<td>2.0</td>\n",
       "\t\t<td>54</td>\n",
       "\t\t<td>28</td>\n",
       "\t\t<td>0.0</td>\n",
       "\t\t<td>0</td>\n",
       "\t\t<td>3.0</td>\n",
       "\t</tr>\n",
       "\t<tr>\n",
       "\t\t<td>0.5428571428571428</td>\n",
       "\t\t<td>227.525</td>\n",
       "\t\t<td>1</td>\n",
       "\t\t<td>0</td>\n",
       "\t\t<td>1</td>\n",
       "\t\t<td>0.0</td>\n",
       "\t\t<td>104</td>\n",
       "\t\t<td>42</td>\n",
       "\t\t<td>0.0</td>\n",
       "\t\t<td>1</td>\n",
       "\t\t<td>1.0</td>\n",
       "\t</tr>\n",
       "</table></html>"
      ],
      "text/plain": [
       "   embarked      fare  sex_0  sex_1  survived  parch   id  age  sibsp  pclass  Family_count\n",
       "0  0.332677    7.8958      1      0         0    0.0   17   28    0.0       0           1.0\n",
       "1  0.332677   23.0000      1      0         1    1.0   38   18    0.0       0           2.0\n",
       "2  0.332677    7.0500      0      1         0    0.0   40   35    0.0       0           1.0\n",
       "3  0.332677   30.5000      0      1         1    0.0   41   27    0.0       1           1.0\n",
       "4  0.332677   13.0000      1      0         1    0.0   69   28    0.0       0           1.0\n",
       "5  0.332677   39.4000      1      0         1    1.0   75   16    0.0       1           2.0\n",
       "6  0.542857  135.6333      1      0         1    0.0   13   36    0.0       1           1.0\n",
       "7  0.542857    7.2292      0      1         0    0.0   22   22    0.0       0           1.0\n",
       "8  0.542857   15.2458      1      0         0    2.0   54   28    0.0       0           3.0\n",
       "9  0.542857  227.5250      1      0         1    0.0  104   42    0.0       1           1.0"
      ]
     },
     "metadata": {},
     "output_type": "display_data"
    },
    {
     "name": "stdout",
     "output_type": "stream",
     "text": [
      "                                                                                          \r"
     ]
    },
    {
     "data": {
      "text/html": [
       "179 rows X 11 columns"
      ],
      "text/plain": [
       "<IPython.core.display.HTML object>"
      ]
     },
     "metadata": {},
     "output_type": "display_data"
    },
    {
     "name": "stdout",
     "output_type": "stream",
     "text": [
      "                                                                                          \r"
     ]
    },
    {
     "data": {
      "text/html": [
       "Time taken for spliting of data: 11.89 sec  "
      ],
      "text/plain": [
       "<IPython.core.display.HTML object>"
      ]
     },
     "metadata": {},
     "output_type": "display_data"
    },
    {
     "name": "stdout",
     "output_type": "stream",
     "text": [
      "                                                                                          \r"
     ]
    },
    {
     "data": {
      "text/html": [
       "\n",
       "Starting customized outlier processing ..."
      ],
      "text/plain": [
       "<IPython.core.display.HTML object>"
      ]
     },
     "metadata": {},
     "output_type": "display_data"
    },
    {
     "name": "stdout",
     "output_type": "stream",
     "text": [
      "Columns with outlier percentage :-                                                                                                                                                                                                                                                                                                                                                                                                                                                                                  \n",
      "     ColumnName  OutlierPercentage\n",
      "0  Family_count           3.085554\n",
      "1         parch           1.823282\n",
      "2         sibsp           3.646564\n",
      "3            id           9.817672\n",
      "4           age           9.396914\n",
      "5          fare           9.817672\n",
      "result data stored in table '\"ALICE\".\"ml__td_sqlmr_persist_out__1719263471570825\"'\n",
      "result data stored in table '\"ALICE\".\"ml__td_sqlmr_persist_out__1719262762668453\"' - 12/20\n",
      "result data stored in table '\"ALICE\".\"ml__td_sqlmr_persist_out__1719268428917289\"'\n",
      "                                                                                          \r"
     ]
    },
    {
     "data": {
      "text/html": [
       "\n",
       "Checking imbalance data ..."
      ],
      "text/plain": [
       "<IPython.core.display.HTML object>"
      ]
     },
     "metadata": {},
     "output_type": "display_data"
    },
    {
     "name": "stdout",
     "output_type": "stream",
     "text": [
      "                                                                                          \r"
     ]
    },
    {
     "data": {
      "text/html": [
       "Imbalance Not Found."
      ],
      "text/plain": [
       "<IPython.core.display.HTML object>"
      ]
     },
     "metadata": {},
     "output_type": "display_data"
    },
    {
     "name": "stdout",
     "output_type": "stream",
     "text": [
      "                                                                                          \r"
     ]
    },
    {
     "data": {
      "text/html": [
       "\n",
       "Feature selection using lasso ..."
      ],
      "text/plain": [
       "<IPython.core.display.HTML object>"
      ]
     },
     "metadata": {},
     "output_type": "display_data"
    },
    {
     "name": "stdout",
     "output_type": "stream",
     "text": [
      "                                                                                          \r"
     ]
    },
    {
     "data": {
      "text/html": [
       "feature selected by lasso:"
      ],
      "text/plain": [
       "<IPython.core.display.HTML object>"
      ]
     },
     "metadata": {},
     "output_type": "display_data"
    },
    {
     "name": "stdout",
     "output_type": "stream",
     "text": [
      "['fare', 'Family_count', 'parch', 'embarked', 'age', 'sibsp', 'sex_1', 'pclass', 'sex_0']\n",
      "                                                                                          \r"
     ]
    },
    {
     "data": {
      "text/html": [
       "Total time taken by feature selection: 3.62 sec  "
      ],
      "text/plain": [
       "<IPython.core.display.HTML object>"
      ]
     },
     "metadata": {},
     "output_type": "display_data"
    },
    {
     "name": "stdout",
     "output_type": "stream",
     "text": [
      "                                                                                          \r"
     ]
    },
    {
     "data": {
      "text/html": [
       "\n",
       "scaling Features of lasso data ..."
      ],
      "text/plain": [
       "<IPython.core.display.HTML object>"
      ]
     },
     "metadata": {},
     "output_type": "display_data"
    },
    {
     "name": "stdout",
     "output_type": "stream",
     "text": [
      "                                                                                          \r"
     ]
    },
    {
     "data": {
      "text/html": [
       "columns that will be scaled: "
      ],
      "text/plain": [
       "<IPython.core.display.HTML object>"
      ]
     },
     "metadata": {},
     "output_type": "display_data"
    },
    {
     "name": "stdout",
     "output_type": "stream",
     "text": [
      "['fare', 'Family_count', 'parch', 'embarked', 'age', 'sibsp', 'pclass']\n",
      "                                                                                          \r"
     ]
    },
    {
     "data": {
      "text/html": [
       "Training dataset sample after scaling:"
      ],
      "text/plain": [
       "<IPython.core.display.HTML object>"
      ]
     },
     "metadata": {},
     "output_type": "display_data"
    },
    {
     "data": {
      "text/html": [
       "<style type=\"text/css\">\n",
       "\ttable {border:ridge 5px;}\n",
       "\ttable td {border:inset 1px;}\n",
       "\ttable tr#HeaderRow {background-color:grey; color:white;}</style>\n",
       "<html><table>\n",
       "\t<tr id=\"HeaderRow\">\n",
       "\t\t<th>sex_1</th>\n",
       "\t\t<th>sex_0</th>\n",
       "\t\t<th>survived</th>\n",
       "\t\t<th>id</th>\n",
       "\t\t<th>fare</th>\n",
       "\t\t<th>Family_count</th>\n",
       "\t\t<th>parch</th>\n",
       "\t\t<th>embarked</th>\n",
       "\t\t<th>age</th>\n",
       "\t\t<th>sibsp</th>\n",
       "\t\t<th>pclass</th>\n",
       "\t</tr>\n",
       "\t<tr>\n",
       "\t\t<td>1</td>\n",
       "\t\t<td>0</td>\n",
       "\t\t<td>0</td>\n",
       "\t\t<td>11</td>\n",
       "\t\t<td>-0.6922923344706197</td>\n",
       "\t\t<td>-0.5328244106712579</td>\n",
       "\t\t<td>-0.4588933942023578</td>\n",
       "\t\t<td>-0.5590422730432916</td>\n",
       "\t\t<td>-0.12528818299862196</td>\n",
       "\t\t<td>-0.4478850877632824</td>\n",
       "\t\t<td>-0.5845584168528979</td>\n",
       "\t</tr>\n",
       "\t<tr>\n",
       "\t\t<td>1</td>\n",
       "\t\t<td>0</td>\n",
       "\t\t<td>0</td>\n",
       "\t\t<td>16</td>\n",
       "\t\t<td>0.2982075421458125</td>\n",
       "\t\t<td>3.178413441047677</td>\n",
       "\t\t<td>2.0804752327827103</td>\n",
       "\t\t<td>-0.5590422730432916</td>\n",
       "\t\t<td>-1.5747453149302288</td>\n",
       "\t\t<td>3.135195614342977</td>\n",
       "\t\t<td>-0.5845584168528979</td>\n",
       "\t</tr>\n",
       "\t<tr>\n",
       "\t\t<td>1</td>\n",
       "\t\t<td>0</td>\n",
       "\t\t<td>1</td>\n",
       "\t\t<td>18</td>\n",
       "\t\t<td>0.23931869034912054</td>\n",
       "\t\t<td>-0.5328244106712579</td>\n",
       "\t\t<td>-0.4588933942023578</td>\n",
       "\t\t<td>-0.5590422730432916</td>\n",
       "\t\t<td>3.841647125445776</td>\n",
       "\t\t<td>-0.4478850877632824</td>\n",
       "\t\t<td>1.7106930140253924</td>\n",
       "\t</tr>\n",
       "\t<tr>\n",
       "\t\t<td>1</td>\n",
       "\t\t<td>0</td>\n",
       "\t\t<td>0</td>\n",
       "\t\t<td>19</td>\n",
       "\t\t<td>-0.420482615784944</td>\n",
       "\t\t<td>-0.5328244106712579</td>\n",
       "\t\t<td>-0.4588933942023578</td>\n",
       "\t\t<td>-0.5590422730432916</td>\n",
       "\t\t<td>0.40872233929197005</td>\n",
       "\t\t<td>-0.4478850877632824</td>\n",
       "\t\t<td>-0.5845584168528979</td>\n",
       "\t</tr>\n",
       "\t<tr>\n",
       "\t\t<td>1</td>\n",
       "\t\t<td>0</td>\n",
       "\t\t<td>0</td>\n",
       "\t\t<td>21</td>\n",
       "\t\t<td>-0.6922923344706197</td>\n",
       "\t\t<td>-0.5328244106712579</td>\n",
       "\t\t<td>-0.4588933942023578</td>\n",
       "\t\t<td>-0.5590422730432916</td>\n",
       "\t\t<td>-0.12528818299862196</td>\n",
       "\t\t<td>-0.4478850877632824</td>\n",
       "\t\t<td>-0.5845584168528979</td>\n",
       "\t</tr>\n",
       "\t<tr>\n",
       "\t\t<td>1</td>\n",
       "\t\t<td>0</td>\n",
       "\t\t<td>0</td>\n",
       "\t\t<td>23</td>\n",
       "\t\t<td>-0.6816817305432877</td>\n",
       "\t\t<td>-0.5328244106712579</td>\n",
       "\t\t<td>-0.4588933942023578</td>\n",
       "\t\t<td>-0.5590422730432916</td>\n",
       "\t\t<td>-0.8881603576994678</td>\n",
       "\t\t<td>-0.4478850877632824</td>\n",
       "\t\t<td>-0.5845584168528979</td>\n",
       "\t</tr>\n",
       "\t<tr>\n",
       "\t\t<td>1</td>\n",
       "\t\t<td>0</td>\n",
       "\t\t<td>0</td>\n",
       "\t\t<td>20</td>\n",
       "\t\t<td>-0.48220237670944816</td>\n",
       "\t\t<td>-0.5328244106712579</td>\n",
       "\t\t<td>-0.4588933942023578</td>\n",
       "\t\t<td>-0.5590422730432916</td>\n",
       "\t\t<td>0.48500955676205465</td>\n",
       "\t\t<td>-0.4478850877632824</td>\n",
       "\t\t<td>-0.5845584168528979</td>\n",
       "\t</tr>\n",
       "\t<tr>\n",
       "\t\t<td>1</td>\n",
       "\t\t<td>0</td>\n",
       "\t\t<td>1</td>\n",
       "\t\t<td>15</td>\n",
       "\t\t<td>-0.7006025594665061</td>\n",
       "\t\t<td>-0.5328244106712579</td>\n",
       "\t\t<td>-0.4588933942023578</td>\n",
       "\t\t<td>-0.5590422730432916</td>\n",
       "\t\t<td>0.17986068688171633</td>\n",
       "\t\t<td>-0.4478850877632824</td>\n",
       "\t\t<td>-0.5845584168528979</td>\n",
       "\t</tr>\n",
       "\t<tr>\n",
       "\t\t<td>0</td>\n",
       "\t\t<td>1</td>\n",
       "\t\t<td>1</td>\n",
       "\t\t<td>10</td>\n",
       "\t\t<td>-0.5568288762511588</td>\n",
       "\t\t<td>0.08571523128189792</td>\n",
       "\t\t<td>-0.4588933942023578</td>\n",
       "\t\t<td>1.9797761767306754</td>\n",
       "\t\t<td>-1.193309227579806</td>\n",
       "\t\t<td>0.4478850877632824</td>\n",
       "\t\t<td>-0.5845584168528979</td>\n",
       "\t</tr>\n",
       "\t<tr>\n",
       "\t\t<td>1</td>\n",
       "\t\t<td>0</td>\n",
       "\t\t<td>0</td>\n",
       "\t\t<td>8</td>\n",
       "\t\t<td>-0.7060861195761512</td>\n",
       "\t\t<td>-0.5328244106712579</td>\n",
       "\t\t<td>-0.4588933942023578</td>\n",
       "\t\t<td>0.0412397295911812</td>\n",
       "\t\t<td>-0.12528818299862196</td>\n",
       "\t\t<td>-0.4478850877632824</td>\n",
       "\t\t<td>-0.5845584168528979</td>\n",
       "\t</tr>\n",
       "</table></html>"
      ],
      "text/plain": [
       "   sex_1  sex_0  survived  id      fare  Family_count     parch  embarked       age     sibsp    pclass\n",
       "0      1      0         0  11 -0.692292     -0.532824 -0.458893 -0.559042 -0.125288 -0.447885 -0.584558\n",
       "1      1      0         0  16  0.298208      3.178413  2.080475 -0.559042 -1.574745  3.135196 -0.584558\n",
       "2      1      0         1  18  0.239319     -0.532824 -0.458893 -0.559042  3.841647 -0.447885  1.710693\n",
       "3      1      0         0  19 -0.420483     -0.532824 -0.458893 -0.559042  0.408722 -0.447885 -0.584558\n",
       "4      1      0         0  21 -0.692292     -0.532824 -0.458893 -0.559042 -0.125288 -0.447885 -0.584558\n",
       "5      1      0         0  23 -0.681682     -0.532824 -0.458893 -0.559042 -0.888160 -0.447885 -0.584558\n",
       "6      1      0         0  20 -0.482202     -0.532824 -0.458893 -0.559042  0.485010 -0.447885 -0.584558\n",
       "7      1      0         1  15 -0.700603     -0.532824 -0.458893 -0.559042  0.179861 -0.447885 -0.584558\n",
       "8      0      1         1  10 -0.556829      0.085715 -0.458893  1.979776 -1.193309  0.447885 -0.584558\n",
       "9      1      0         0   8 -0.706086     -0.532824 -0.458893  0.041240 -0.125288 -0.447885 -0.584558"
      ]
     },
     "metadata": {},
     "output_type": "display_data"
    },
    {
     "name": "stdout",
     "output_type": "stream",
     "text": [
      "                                                                                          \r"
     ]
    },
    {
     "data": {
      "text/html": [
       "534 rows X 11 columns"
      ],
      "text/plain": [
       "<IPython.core.display.HTML object>"
      ]
     },
     "metadata": {},
     "output_type": "display_data"
    },
    {
     "name": "stdout",
     "output_type": "stream",
     "text": [
      "                                                                                          \r"
     ]
    },
    {
     "data": {
      "text/html": [
       "Testing dataset sample after scaling:"
      ],
      "text/plain": [
       "<IPython.core.display.HTML object>"
      ]
     },
     "metadata": {},
     "output_type": "display_data"
    },
    {
     "data": {
      "text/html": [
       "<style type=\"text/css\">\n",
       "\ttable {border:ridge 5px;}\n",
       "\ttable td {border:inset 1px;}\n",
       "\ttable tr#HeaderRow {background-color:grey; color:white;}</style>\n",
       "<html><table>\n",
       "\t<tr id=\"HeaderRow\">\n",
       "\t\t<th>sex_1</th>\n",
       "\t\t<th>sex_0</th>\n",
       "\t\t<th>survived</th>\n",
       "\t\t<th>id</th>\n",
       "\t\t<th>fare</th>\n",
       "\t\t<th>Family_count</th>\n",
       "\t\t<th>parch</th>\n",
       "\t\t<th>embarked</th>\n",
       "\t\t<th>age</th>\n",
       "\t\t<th>sibsp</th>\n",
       "\t\t<th>pclass</th>\n",
       "\t</tr>\n",
       "\t<tr>\n",
       "\t\t<td>1</td>\n",
       "\t\t<td>0</td>\n",
       "\t\t<td>1</td>\n",
       "\t\t<td>167</td>\n",
       "\t\t<td>2.2226188225134305</td>\n",
       "\t\t<td>0.08571523128189792</td>\n",
       "\t\t<td>-0.4588933942023578</td>\n",
       "\t\t<td>1.9797761767306754</td>\n",
       "\t\t<td>1.4004561664030695</td>\n",
       "\t\t<td>0.4478850877632824</td>\n",
       "\t\t<td>1.7106930140253924</td>\n",
       "\t</tr>\n",
       "\t<tr>\n",
       "\t\t<td>0</td>\n",
       "\t\t<td>1</td>\n",
       "\t\t<td>1</td>\n",
       "\t\t<td>225</td>\n",
       "\t\t<td>3.773710858543374</td>\n",
       "\t\t<td>0.08571523128189792</td>\n",
       "\t\t<td>-0.4588933942023578</td>\n",
       "\t\t<td>1.9797761767306754</td>\n",
       "\t\t<td>-0.5067242703490449</td>\n",
       "\t\t<td>0.4478850877632824</td>\n",
       "\t\t<td>1.7106930140253924</td>\n",
       "\t</tr>\n",
       "\t<tr>\n",
       "\t\t<td>1</td>\n",
       "\t\t<td>0</td>\n",
       "\t\t<td>0</td>\n",
       "\t\t<td>86</td>\n",
       "\t\t<td>1.9179162316530258</td>\n",
       "\t\t<td>5.652572008860299</td>\n",
       "\t\t<td>2.0804752327827103</td>\n",
       "\t\t<td>-0.5590422730432916</td>\n",
       "\t\t<td>-0.12528818299862196</td>\n",
       "\t\t<td>6.718276316449236</td>\n",
       "\t\t<td>-0.5845584168528979</td>\n",
       "\t</tr>\n",
       "\t<tr>\n",
       "\t\t<td>0</td>\n",
       "\t\t<td>1</td>\n",
       "\t\t<td>1</td>\n",
       "\t\t<td>265</td>\n",
       "\t\t<td>1.4871257122033512</td>\n",
       "\t\t<td>0.08571523128189792</td>\n",
       "\t\t<td>-0.4588933942023578</td>\n",
       "\t\t<td>1.9797761767306754</td>\n",
       "\t\t<td>1.858179471223577</td>\n",
       "\t\t<td>0.4478850877632824</td>\n",
       "\t\t<td>1.7106930140253924</td>\n",
       "\t</tr>\n",
       "\t<tr>\n",
       "\t\t<td>1</td>\n",
       "\t\t<td>0</td>\n",
       "\t\t<td>1</td>\n",
       "\t\t<td>357</td>\n",
       "\t\t<td>2.831667487942281</td>\n",
       "\t\t<td>0.08571523128189792</td>\n",
       "\t\t<td>-0.4588933942023578</td>\n",
       "\t\t<td>1.9797761767306754</td>\n",
       "\t\t<td>-0.3541498354088757</td>\n",
       "\t\t<td>0.4478850877632824</td>\n",
       "\t\t<td>1.7106930140253924</td>\n",
       "\t</tr>\n",
       "\t<tr>\n",
       "\t\t<td>0</td>\n",
       "\t\t<td>1</td>\n",
       "\t\t<td>0</td>\n",
       "\t\t<td>122</td>\n",
       "\t\t<td>0.2934327703785131</td>\n",
       "\t\t<td>3.178413441047677</td>\n",
       "\t\t<td>2.0804752327827103</td>\n",
       "\t\t<td>-0.5590422730432916</td>\n",
       "\t\t<td>-1.4221708799900599</td>\n",
       "\t\t<td>3.135195614342977</td>\n",
       "\t\t<td>-0.5845584168528979</td>\n",
       "\t</tr>\n",
       "\t<tr>\n",
       "\t\t<td>1</td>\n",
       "\t\t<td>0</td>\n",
       "\t\t<td>0</td>\n",
       "\t\t<td>94</td>\n",
       "\t\t<td>-0.6988369549729979</td>\n",
       "\t\t<td>-0.5328244106712579</td>\n",
       "\t\t<td>-0.4588933942023578</td>\n",
       "\t\t<td>-0.5590422730432916</td>\n",
       "\t\t<td>-0.27786261793879113</td>\n",
       "\t\t<td>-0.4478850877632824</td>\n",
       "\t\t<td>-0.5845584168528979</td>\n",
       "\t</tr>\n",
       "\t<tr>\n",
       "\t\t<td>1</td>\n",
       "\t\t<td>0</td>\n",
       "\t\t<td>0</td>\n",
       "\t\t<td>81</td>\n",
       "\t\t<td>-0.5883084159827671</td>\n",
       "\t\t<td>-0.5328244106712579</td>\n",
       "\t\t<td>-0.4588933942023578</td>\n",
       "\t\t<td>-0.5590422730432916</td>\n",
       "\t\t<td>2.773626080864592</td>\n",
       "\t\t<td>-0.4478850877632824</td>\n",
       "\t\t<td>-0.5845584168528979</td>\n",
       "\t</tr>\n",
       "\t<tr>\n",
       "\t\t<td>1</td>\n",
       "\t\t<td>0</td>\n",
       "\t\t<td>0</td>\n",
       "\t\t<td>27</td>\n",
       "\t\t<td>0.9565955158367565</td>\n",
       "\t\t<td>3.7969530830008327</td>\n",
       "\t\t<td>2.0804752327827103</td>\n",
       "\t\t<td>-0.5590422730432916</td>\n",
       "\t\t<td>-2.1850430546909054</td>\n",
       "\t\t<td>4.0309657898695415</td>\n",
       "\t\t<td>-0.5845584168528979</td>\n",
       "\t</tr>\n",
       "\t<tr>\n",
       "\t\t<td>0</td>\n",
       "\t\t<td>1</td>\n",
       "\t\t<td>1</td>\n",
       "\t\t<td>159</td>\n",
       "\t\t<td>4.6745511319738515</td>\n",
       "\t\t<td>0.7042548732350536</td>\n",
       "\t\t<td>0.8107909192901762</td>\n",
       "\t\t<td>1.9797761767306754</td>\n",
       "\t\t<td>0.790158426642393</td>\n",
       "\t\t<td>0.4478850877632824</td>\n",
       "\t\t<td>1.7106930140253924</td>\n",
       "\t</tr>\n",
       "</table></html>"
      ],
      "text/plain": [
       "   sex_1  sex_0  survived   id      fare  Family_count     parch  embarked       age     sibsp    pclass\n",
       "0      1      0         1  167  2.222619      0.085715 -0.458893  1.979776  1.400456  0.447885  1.710693\n",
       "1      0      1         1  225  3.773711      0.085715 -0.458893  1.979776 -0.506724  0.447885  1.710693\n",
       "2      1      0         0   86  1.917916      5.652572  2.080475 -0.559042 -0.125288  6.718276 -0.584558\n",
       "3      0      1         1  265  1.487126      0.085715 -0.458893  1.979776  1.858179  0.447885  1.710693\n",
       "4      1      0         1  357  2.831667      0.085715 -0.458893  1.979776 -0.354150  0.447885  1.710693\n",
       "5      0      1         0  122  0.293433      3.178413  2.080475 -0.559042 -1.422171  3.135196 -0.584558\n",
       "6      1      0         0   94 -0.698837     -0.532824 -0.458893 -0.559042 -0.277863 -0.447885 -0.584558\n",
       "7      1      0         0   81 -0.588308     -0.532824 -0.458893 -0.559042  2.773626 -0.447885 -0.584558\n",
       "8      1      0         0   27  0.956596      3.796953  2.080475 -0.559042 -2.185043  4.030966 -0.584558\n",
       "9      0      1         1  159  4.674551      0.704255  0.810791  1.979776  0.790158  0.447885  1.710693"
      ]
     },
     "metadata": {},
     "output_type": "display_data"
    },
    {
     "name": "stdout",
     "output_type": "stream",
     "text": [
      "                                                                                          \r"
     ]
    },
    {
     "data": {
      "text/html": [
       "179 rows X 11 columns"
      ],
      "text/plain": [
       "<IPython.core.display.HTML object>"
      ]
     },
     "metadata": {},
     "output_type": "display_data"
    },
    {
     "name": "stdout",
     "output_type": "stream",
     "text": [
      "                                                                                          \r"
     ]
    },
    {
     "data": {
      "text/html": [
       "Total time taken by feature scaling: 44.53 sec"
      ],
      "text/plain": [
       "<IPython.core.display.HTML object>"
      ]
     },
     "metadata": {},
     "output_type": "display_data"
    },
    {
     "name": "stdout",
     "output_type": "stream",
     "text": [
      "                                                                                          \r"
     ]
    },
    {
     "data": {
      "text/html": [
       "\n",
       "Feature selection using rfe ..."
      ],
      "text/plain": [
       "<IPython.core.display.HTML object>"
      ]
     },
     "metadata": {},
     "output_type": "display_data"
    },
    {
     "name": "stdout",
     "output_type": "stream",
     "text": [
      "                                                                                          \r"
     ]
    },
    {
     "data": {
      "text/html": [
       "feature selected by RFE:"
      ],
      "text/plain": [
       "<IPython.core.display.HTML object>"
      ]
     },
     "metadata": {},
     "output_type": "display_data"
    },
    {
     "name": "stdout",
     "output_type": "stream",
     "text": [
      "['age', 'sex_1', 'pclass', 'sex_0', 'fare', 'Family_count']\n",
      "                                                                                          \r"
     ]
    },
    {
     "data": {
      "text/html": [
       "Total time taken by feature selection: 16.36 sec  "
      ],
      "text/plain": [
       "<IPython.core.display.HTML object>"
      ]
     },
     "metadata": {},
     "output_type": "display_data"
    },
    {
     "name": "stdout",
     "output_type": "stream",
     "text": [
      "                                                                                          \r"
     ]
    },
    {
     "data": {
      "text/html": [
       "\n",
       "scaling Features of rfe data ..."
      ],
      "text/plain": [
       "<IPython.core.display.HTML object>"
      ]
     },
     "metadata": {},
     "output_type": "display_data"
    },
    {
     "name": "stdout",
     "output_type": "stream",
     "text": [
      "                                                                                          \r"
     ]
    },
    {
     "data": {
      "text/html": [
       "columns that will be scaled: "
      ],
      "text/plain": [
       "<IPython.core.display.HTML object>"
      ]
     },
     "metadata": {},
     "output_type": "display_data"
    },
    {
     "name": "stdout",
     "output_type": "stream",
     "text": [
      "['r_age', 'r_pclass', 'r_fare', 'r_Family_count']\n",
      "                                                                                          \r"
     ]
    },
    {
     "data": {
      "text/html": [
       "Training dataset sample after scaling:"
      ],
      "text/plain": [
       "<IPython.core.display.HTML object>"
      ]
     },
     "metadata": {},
     "output_type": "display_data"
    },
    {
     "data": {
      "text/html": [
       "<style type=\"text/css\">\n",
       "\ttable {border:ridge 5px;}\n",
       "\ttable td {border:inset 1px;}\n",
       "\ttable tr#HeaderRow {background-color:grey; color:white;}</style>\n",
       "<html><table>\n",
       "\t<tr id=\"HeaderRow\">\n",
       "\t\t<th>r_sex_1</th>\n",
       "\t\t<th>survived</th>\n",
       "\t\t<th>r_sex_0</th>\n",
       "\t\t<th>id</th>\n",
       "\t\t<th>r_age</th>\n",
       "\t\t<th>r_pclass</th>\n",
       "\t\t<th>r_fare</th>\n",
       "\t\t<th>r_Family_count</th>\n",
       "\t</tr>\n",
       "\t<tr>\n",
       "\t\t<td>1</td>\n",
       "\t\t<td>0</td>\n",
       "\t\t<td>0</td>\n",
       "\t\t<td>11</td>\n",
       "\t\t<td>-0.12528818299862196</td>\n",
       "\t\t<td>-0.5845584168528979</td>\n",
       "\t\t<td>-0.6922923344706197</td>\n",
       "\t\t<td>-0.5328244106712579</td>\n",
       "\t</tr>\n",
       "\t<tr>\n",
       "\t\t<td>1</td>\n",
       "\t\t<td>0</td>\n",
       "\t\t<td>0</td>\n",
       "\t\t<td>16</td>\n",
       "\t\t<td>-1.5747453149302288</td>\n",
       "\t\t<td>-0.5845584168528979</td>\n",
       "\t\t<td>0.2982075421458125</td>\n",
       "\t\t<td>3.178413441047677</td>\n",
       "\t</tr>\n",
       "\t<tr>\n",
       "\t\t<td>1</td>\n",
       "\t\t<td>1</td>\n",
       "\t\t<td>0</td>\n",
       "\t\t<td>18</td>\n",
       "\t\t<td>3.841647125445776</td>\n",
       "\t\t<td>1.7106930140253924</td>\n",
       "\t\t<td>0.23931869034912054</td>\n",
       "\t\t<td>-0.5328244106712579</td>\n",
       "\t</tr>\n",
       "\t<tr>\n",
       "\t\t<td>1</td>\n",
       "\t\t<td>0</td>\n",
       "\t\t<td>0</td>\n",
       "\t\t<td>19</td>\n",
       "\t\t<td>0.40872233929197005</td>\n",
       "\t\t<td>-0.5845584168528979</td>\n",
       "\t\t<td>-0.420482615784944</td>\n",
       "\t\t<td>-0.5328244106712579</td>\n",
       "\t</tr>\n",
       "\t<tr>\n",
       "\t\t<td>1</td>\n",
       "\t\t<td>0</td>\n",
       "\t\t<td>0</td>\n",
       "\t\t<td>21</td>\n",
       "\t\t<td>-0.12528818299862196</td>\n",
       "\t\t<td>-0.5845584168528979</td>\n",
       "\t\t<td>-0.6922923344706197</td>\n",
       "\t\t<td>-0.5328244106712579</td>\n",
       "\t</tr>\n",
       "\t<tr>\n",
       "\t\t<td>1</td>\n",
       "\t\t<td>0</td>\n",
       "\t\t<td>0</td>\n",
       "\t\t<td>23</td>\n",
       "\t\t<td>-0.8881603576994678</td>\n",
       "\t\t<td>-0.5845584168528979</td>\n",
       "\t\t<td>-0.6816817305432877</td>\n",
       "\t\t<td>-0.5328244106712579</td>\n",
       "\t</tr>\n",
       "\t<tr>\n",
       "\t\t<td>1</td>\n",
       "\t\t<td>0</td>\n",
       "\t\t<td>0</td>\n",
       "\t\t<td>20</td>\n",
       "\t\t<td>0.48500955676205465</td>\n",
       "\t\t<td>-0.5845584168528979</td>\n",
       "\t\t<td>-0.48220237670944816</td>\n",
       "\t\t<td>-0.5328244106712579</td>\n",
       "\t</tr>\n",
       "\t<tr>\n",
       "\t\t<td>1</td>\n",
       "\t\t<td>1</td>\n",
       "\t\t<td>0</td>\n",
       "\t\t<td>15</td>\n",
       "\t\t<td>0.17986068688171633</td>\n",
       "\t\t<td>-0.5845584168528979</td>\n",
       "\t\t<td>-0.7006025594665061</td>\n",
       "\t\t<td>-0.5328244106712579</td>\n",
       "\t</tr>\n",
       "\t<tr>\n",
       "\t\t<td>0</td>\n",
       "\t\t<td>1</td>\n",
       "\t\t<td>1</td>\n",
       "\t\t<td>10</td>\n",
       "\t\t<td>-1.193309227579806</td>\n",
       "\t\t<td>-0.5845584168528979</td>\n",
       "\t\t<td>-0.5568288762511588</td>\n",
       "\t\t<td>0.08571523128189792</td>\n",
       "\t</tr>\n",
       "\t<tr>\n",
       "\t\t<td>1</td>\n",
       "\t\t<td>0</td>\n",
       "\t\t<td>0</td>\n",
       "\t\t<td>8</td>\n",
       "\t\t<td>-0.12528818299862196</td>\n",
       "\t\t<td>-0.5845584168528979</td>\n",
       "\t\t<td>-0.7060861195761512</td>\n",
       "\t\t<td>-0.5328244106712579</td>\n",
       "\t</tr>\n",
       "</table></html>"
      ],
      "text/plain": [
       "   r_sex_1  survived  r_sex_0  id     r_age  r_pclass    r_fare  r_Family_count\n",
       "0        1         0        0  11 -0.125288 -0.584558 -0.692292       -0.532824\n",
       "1        1         0        0  16 -1.574745 -0.584558  0.298208        3.178413\n",
       "2        1         1        0  18  3.841647  1.710693  0.239319       -0.532824\n",
       "3        1         0        0  19  0.408722 -0.584558 -0.420483       -0.532824\n",
       "4        1         0        0  21 -0.125288 -0.584558 -0.692292       -0.532824\n",
       "5        1         0        0  23 -0.888160 -0.584558 -0.681682       -0.532824\n",
       "6        1         0        0  20  0.485010 -0.584558 -0.482202       -0.532824\n",
       "7        1         1        0  15  0.179861 -0.584558 -0.700603       -0.532824\n",
       "8        0         1        1  10 -1.193309 -0.584558 -0.556829        0.085715\n",
       "9        1         0        0   8 -0.125288 -0.584558 -0.706086       -0.532824"
      ]
     },
     "metadata": {},
     "output_type": "display_data"
    },
    {
     "name": "stdout",
     "output_type": "stream",
     "text": [
      "                                                                                          \r"
     ]
    },
    {
     "data": {
      "text/html": [
       "534 rows X 8 columns"
      ],
      "text/plain": [
       "<IPython.core.display.HTML object>"
      ]
     },
     "metadata": {},
     "output_type": "display_data"
    },
    {
     "name": "stdout",
     "output_type": "stream",
     "text": [
      "                                                                                          \r"
     ]
    },
    {
     "data": {
      "text/html": [
       "Testing dataset sample after scaling:"
      ],
      "text/plain": [
       "<IPython.core.display.HTML object>"
      ]
     },
     "metadata": {},
     "output_type": "display_data"
    },
    {
     "data": {
      "text/html": [
       "<style type=\"text/css\">\n",
       "\ttable {border:ridge 5px;}\n",
       "\ttable td {border:inset 1px;}\n",
       "\ttable tr#HeaderRow {background-color:grey; color:white;}</style>\n",
       "<html><table>\n",
       "\t<tr id=\"HeaderRow\">\n",
       "\t\t<th>r_sex_1</th>\n",
       "\t\t<th>survived</th>\n",
       "\t\t<th>r_sex_0</th>\n",
       "\t\t<th>id</th>\n",
       "\t\t<th>r_age</th>\n",
       "\t\t<th>r_pclass</th>\n",
       "\t\t<th>r_fare</th>\n",
       "\t\t<th>r_Family_count</th>\n",
       "\t</tr>\n",
       "\t<tr>\n",
       "\t\t<td>1</td>\n",
       "\t\t<td>1</td>\n",
       "\t\t<td>0</td>\n",
       "\t\t<td>167</td>\n",
       "\t\t<td>1.4004561664030695</td>\n",
       "\t\t<td>1.7106930140253924</td>\n",
       "\t\t<td>2.2226188225134305</td>\n",
       "\t\t<td>0.08571523128189792</td>\n",
       "\t</tr>\n",
       "\t<tr>\n",
       "\t\t<td>0</td>\n",
       "\t\t<td>1</td>\n",
       "\t\t<td>1</td>\n",
       "\t\t<td>225</td>\n",
       "\t\t<td>-0.5067242703490449</td>\n",
       "\t\t<td>1.7106930140253924</td>\n",
       "\t\t<td>3.773710858543374</td>\n",
       "\t\t<td>0.08571523128189792</td>\n",
       "\t</tr>\n",
       "\t<tr>\n",
       "\t\t<td>1</td>\n",
       "\t\t<td>0</td>\n",
       "\t\t<td>0</td>\n",
       "\t\t<td>86</td>\n",
       "\t\t<td>-0.12528818299862196</td>\n",
       "\t\t<td>-0.5845584168528979</td>\n",
       "\t\t<td>1.9179162316530258</td>\n",
       "\t\t<td>5.652572008860299</td>\n",
       "\t</tr>\n",
       "\t<tr>\n",
       "\t\t<td>0</td>\n",
       "\t\t<td>1</td>\n",
       "\t\t<td>1</td>\n",
       "\t\t<td>265</td>\n",
       "\t\t<td>1.858179471223577</td>\n",
       "\t\t<td>1.7106930140253924</td>\n",
       "\t\t<td>1.4871257122033512</td>\n",
       "\t\t<td>0.08571523128189792</td>\n",
       "\t</tr>\n",
       "\t<tr>\n",
       "\t\t<td>1</td>\n",
       "\t\t<td>1</td>\n",
       "\t\t<td>0</td>\n",
       "\t\t<td>357</td>\n",
       "\t\t<td>-0.3541498354088757</td>\n",
       "\t\t<td>1.7106930140253924</td>\n",
       "\t\t<td>2.831667487942281</td>\n",
       "\t\t<td>0.08571523128189792</td>\n",
       "\t</tr>\n",
       "\t<tr>\n",
       "\t\t<td>0</td>\n",
       "\t\t<td>0</td>\n",
       "\t\t<td>1</td>\n",
       "\t\t<td>122</td>\n",
       "\t\t<td>-1.4221708799900599</td>\n",
       "\t\t<td>-0.5845584168528979</td>\n",
       "\t\t<td>0.2934327703785131</td>\n",
       "\t\t<td>3.178413441047677</td>\n",
       "\t</tr>\n",
       "\t<tr>\n",
       "\t\t<td>1</td>\n",
       "\t\t<td>0</td>\n",
       "\t\t<td>0</td>\n",
       "\t\t<td>94</td>\n",
       "\t\t<td>-0.27786261793879113</td>\n",
       "\t\t<td>-0.5845584168528979</td>\n",
       "\t\t<td>-0.6988369549729979</td>\n",
       "\t\t<td>-0.5328244106712579</td>\n",
       "\t</tr>\n",
       "\t<tr>\n",
       "\t\t<td>1</td>\n",
       "\t\t<td>0</td>\n",
       "\t\t<td>0</td>\n",
       "\t\t<td>81</td>\n",
       "\t\t<td>2.773626080864592</td>\n",
       "\t\t<td>-0.5845584168528979</td>\n",
       "\t\t<td>-0.5883084159827671</td>\n",
       "\t\t<td>-0.5328244106712579</td>\n",
       "\t</tr>\n",
       "\t<tr>\n",
       "\t\t<td>1</td>\n",
       "\t\t<td>0</td>\n",
       "\t\t<td>0</td>\n",
       "\t\t<td>27</td>\n",
       "\t\t<td>-2.1850430546909054</td>\n",
       "\t\t<td>-0.5845584168528979</td>\n",
       "\t\t<td>0.9565955158367565</td>\n",
       "\t\t<td>3.7969530830008327</td>\n",
       "\t</tr>\n",
       "\t<tr>\n",
       "\t\t<td>0</td>\n",
       "\t\t<td>1</td>\n",
       "\t\t<td>1</td>\n",
       "\t\t<td>159</td>\n",
       "\t\t<td>0.790158426642393</td>\n",
       "\t\t<td>1.7106930140253924</td>\n",
       "\t\t<td>4.6745511319738515</td>\n",
       "\t\t<td>0.7042548732350536</td>\n",
       "\t</tr>\n",
       "</table></html>"
      ],
      "text/plain": [
       "   r_sex_1  survived  r_sex_0   id     r_age  r_pclass    r_fare  r_Family_count\n",
       "0        1         1        0  167  1.400456  1.710693  2.222619        0.085715\n",
       "1        0         1        1  225 -0.506724  1.710693  3.773711        0.085715\n",
       "2        1         0        0   86 -0.125288 -0.584558  1.917916        5.652572\n",
       "3        0         1        1  265  1.858179  1.710693  1.487126        0.085715\n",
       "4        1         1        0  357 -0.354150  1.710693  2.831667        0.085715\n",
       "5        0         0        1  122 -1.422171 -0.584558  0.293433        3.178413\n",
       "6        1         0        0   94 -0.277863 -0.584558 -0.698837       -0.532824\n",
       "7        1         0        0   81  2.773626 -0.584558 -0.588308       -0.532824\n",
       "8        1         0        0   27 -2.185043 -0.584558  0.956596        3.796953\n",
       "9        0         1        1  159  0.790158  1.710693  4.674551        0.704255"
      ]
     },
     "metadata": {},
     "output_type": "display_data"
    },
    {
     "name": "stdout",
     "output_type": "stream",
     "text": [
      "                                                                                          \r"
     ]
    },
    {
     "data": {
      "text/html": [
       "179 rows X 8 columns"
      ],
      "text/plain": [
       "<IPython.core.display.HTML object>"
      ]
     },
     "metadata": {},
     "output_type": "display_data"
    },
    {
     "name": "stdout",
     "output_type": "stream",
     "text": [
      "                                                                                          \r"
     ]
    },
    {
     "data": {
      "text/html": [
       "Total time taken by feature scaling: 40.89 sec"
      ],
      "text/plain": [
       "<IPython.core.display.HTML object>"
      ]
     },
     "metadata": {},
     "output_type": "display_data"
    },
    {
     "name": "stdout",
     "output_type": "stream",
     "text": [
      "                                                                                          \r"
     ]
    },
    {
     "data": {
      "text/html": [
       "\n",
       "scaling Features of pca data ..."
      ],
      "text/plain": [
       "<IPython.core.display.HTML object>"
      ]
     },
     "metadata": {},
     "output_type": "display_data"
    },
    {
     "name": "stdout",
     "output_type": "stream",
     "text": [
      "                                                                                          \r"
     ]
    },
    {
     "data": {
      "text/html": [
       "columns that will be scaled: "
      ],
      "text/plain": [
       "<IPython.core.display.HTML object>"
      ]
     },
     "metadata": {},
     "output_type": "display_data"
    },
    {
     "name": "stdout",
     "output_type": "stream",
     "text": [
      "['embarked', 'fare', 'parch', 'age', 'sibsp', 'pclass', 'Family_count']\n",
      "                                                                                          \r"
     ]
    },
    {
     "data": {
      "text/html": [
       "Training dataset sample after scaling:"
      ],
      "text/plain": [
       "<IPython.core.display.HTML object>"
      ]
     },
     "metadata": {},
     "output_type": "display_data"
    },
    {
     "data": {
      "text/html": [
       "<style type=\"text/css\">\n",
       "\ttable {border:ridge 5px;}\n",
       "\ttable td {border:inset 1px;}\n",
       "\ttable tr#HeaderRow {background-color:grey; color:white;}</style>\n",
       "<html><table>\n",
       "\t<tr id=\"HeaderRow\">\n",
       "\t\t<th>sex_1</th>\n",
       "\t\t<th>sex_0</th>\n",
       "\t\t<th>survived</th>\n",
       "\t\t<th>id</th>\n",
       "\t\t<th>embarked</th>\n",
       "\t\t<th>fare</th>\n",
       "\t\t<th>parch</th>\n",
       "\t\t<th>age</th>\n",
       "\t\t<th>sibsp</th>\n",
       "\t\t<th>pclass</th>\n",
       "\t\t<th>Family_count</th>\n",
       "\t</tr>\n",
       "\t<tr>\n",
       "\t\t<td>1</td>\n",
       "\t\t<td>0</td>\n",
       "\t\t<td>1</td>\n",
       "\t\t<td>66</td>\n",
       "\t\t<td>1.9797995386187863</td>\n",
       "\t\t<td>0.4727519767504224</td>\n",
       "\t\t<td>-0.45889339420235703</td>\n",
       "\t\t<td>2.0107539061637403</td>\n",
       "\t\t<td>-0.4478850877632818</td>\n",
       "\t\t<td>1.7106930140253955</td>\n",
       "\t\t<td>-0.5328244106712589</td>\n",
       "\t</tr>\n",
       "\t<tr>\n",
       "\t\t<td>1</td>\n",
       "\t\t<td>0</td>\n",
       "\t\t<td>0</td>\n",
       "\t\t<td>95</td>\n",
       "\t\t<td>1.9797995386187863</td>\n",
       "\t\t<td>-0.7271290692848361</td>\n",
       "\t\t<td>-0.45889339420235703</td>\n",
       "\t\t<td>-0.12528818299862163</td>\n",
       "\t\t<td>-0.4478850877632818</td>\n",
       "\t\t<td>-0.5845584168528989</td>\n",
       "\t\t<td>-0.5328244106712589</td>\n",
       "\t</tr>\n",
       "\t<tr>\n",
       "\t\t<td>0</td>\n",
       "\t\t<td>1</td>\n",
       "\t\t<td>1</td>\n",
       "\t\t<td>96</td>\n",
       "\t\t<td>1.9797995386187863</td>\n",
       "\t\t<td>1.4268235279635393</td>\n",
       "\t\t<td>0.8107909192901749</td>\n",
       "\t\t<td>1.0953072965227282</td>\n",
       "\t\t<td>-0.4478850877632818</td>\n",
       "\t\t<td>1.7106930140253955</td>\n",
       "\t\t<td>0.08571523128189808</td>\n",
       "\t</tr>\n",
       "\t<tr>\n",
       "\t\t<td>1</td>\n",
       "\t\t<td>0</td>\n",
       "\t\t<td>0</td>\n",
       "\t\t<td>100</td>\n",
       "\t\t<td>1.9797995386187863</td>\n",
       "\t\t<td>0.14258393646442125</td>\n",
       "\t\t<td>-0.45889339420235703</td>\n",
       "\t\t<td>-0.049000965528537256</td>\n",
       "\t\t<td>0.4478850877632818</td>\n",
       "\t\t<td>-0.5845584168528989</td>\n",
       "\t\t<td>0.08571523128189808</td>\n",
       "\t</tr>\n",
       "\t<tr>\n",
       "\t\t<td>1</td>\n",
       "\t\t<td>0</td>\n",
       "\t\t<td>0</td>\n",
       "\t\t<td>106</td>\n",
       "\t\t<td>1.9797995386187863</td>\n",
       "\t\t<td>0.7307679103305668</td>\n",
       "\t\t<td>2.0804752327827067</td>\n",
       "\t\t<td>-0.3541498354088747</td>\n",
       "\t\t<td>0.4478850877632818</td>\n",
       "\t\t<td>-0.5845584168528989</td>\n",
       "\t\t<td>1.322794515188212</td>\n",
       "\t</tr>\n",
       "\t<tr>\n",
       "\t\t<td>1</td>\n",
       "\t\t<td>0</td>\n",
       "\t\t<td>0</td>\n",
       "\t\t<td>110</td>\n",
       "\t\t<td>1.9797995386187863</td>\n",
       "\t\t<td>-0.6641742340631904</td>\n",
       "\t\t<td>-0.45889339420235703</td>\n",
       "\t\t<td>-0.12528818299862163</td>\n",
       "\t\t<td>-0.4478850877632818</td>\n",
       "\t\t<td>-0.5845584168528989</td>\n",
       "\t\t<td>-0.5328244106712589</td>\n",
       "\t</tr>\n",
       "\t<tr>\n",
       "\t\t<td>1</td>\n",
       "\t\t<td>0</td>\n",
       "\t\t<td>0</td>\n",
       "\t\t<td>16</td>\n",
       "\t\t<td>-0.5590211670991129</td>\n",
       "\t\t<td>0.2982075421458127</td>\n",
       "\t\t<td>2.0804752327827067</td>\n",
       "\t\t<td>-1.5747453149302244</td>\n",
       "\t\t<td>3.1351956143429724</td>\n",
       "\t\t<td>-0.5845584168528989</td>\n",
       "\t\t<td>3.1784134410476828</td>\n",
       "\t</tr>\n",
       "\t<tr>\n",
       "\t\t<td>1</td>\n",
       "\t\t<td>0</td>\n",
       "\t\t<td>0</td>\n",
       "\t\t<td>19</td>\n",
       "\t\t<td>-0.5590211670991129</td>\n",
       "\t\t<td>-0.4204826157849442</td>\n",
       "\t\t<td>-0.45889339420235703</td>\n",
       "\t\t<td>0.4087223392919689</td>\n",
       "\t\t<td>-0.4478850877632818</td>\n",
       "\t\t<td>-0.5845584168528989</td>\n",
       "\t\t<td>-0.5328244106712589</td>\n",
       "\t</tr>\n",
       "\t<tr>\n",
       "\t\t<td>1</td>\n",
       "\t\t<td>0</td>\n",
       "\t\t<td>0</td>\n",
       "\t\t<td>20</td>\n",
       "\t\t<td>-0.5590211670991129</td>\n",
       "\t\t<td>-0.4822023767094484</td>\n",
       "\t\t<td>-0.45889339420235703</td>\n",
       "\t\t<td>0.48500955676205326</td>\n",
       "\t\t<td>-0.4478850877632818</td>\n",
       "\t\t<td>-0.5845584168528989</td>\n",
       "\t\t<td>-0.5328244106712589</td>\n",
       "\t</tr>\n",
       "\t<tr>\n",
       "\t\t<td>1</td>\n",
       "\t\t<td>0</td>\n",
       "\t\t<td>0</td>\n",
       "\t\t<td>21</td>\n",
       "\t\t<td>-0.5590211670991129</td>\n",
       "\t\t<td>-0.69229233447062</td>\n",
       "\t\t<td>-0.45889339420235703</td>\n",
       "\t\t<td>-0.12528818299862163</td>\n",
       "\t\t<td>-0.4478850877632818</td>\n",
       "\t\t<td>-0.5845584168528989</td>\n",
       "\t\t<td>-0.5328244106712589</td>\n",
       "\t</tr>\n",
       "</table></html>"
      ],
      "text/plain": [
       "   sex_1  sex_0  survived   id  embarked      fare     parch       age     sibsp    pclass  Family_count\n",
       "0      1      0         1   66  1.979800  0.472752 -0.458893  2.010754 -0.447885  1.710693     -0.532824\n",
       "1      1      0         0   95  1.979800 -0.727129 -0.458893 -0.125288 -0.447885 -0.584558     -0.532824\n",
       "2      0      1         1   96  1.979800  1.426824  0.810791  1.095307 -0.447885  1.710693      0.085715\n",
       "3      1      0         0  100  1.979800  0.142584 -0.458893 -0.049001  0.447885 -0.584558      0.085715\n",
       "4      1      0         0  106  1.979800  0.730768  2.080475 -0.354150  0.447885 -0.584558      1.322795\n",
       "5      1      0         0  110  1.979800 -0.664174 -0.458893 -0.125288 -0.447885 -0.584558     -0.532824\n",
       "6      1      0         0   16 -0.559021  0.298208  2.080475 -1.574745  3.135196 -0.584558      3.178413\n",
       "7      1      0         0   19 -0.559021 -0.420483 -0.458893  0.408722 -0.447885 -0.584558     -0.532824\n",
       "8      1      0         0   20 -0.559021 -0.482202 -0.458893  0.485010 -0.447885 -0.584558     -0.532824\n",
       "9      1      0         0   21 -0.559021 -0.692292 -0.458893 -0.125288 -0.447885 -0.584558     -0.532824"
      ]
     },
     "metadata": {},
     "output_type": "display_data"
    },
    {
     "name": "stdout",
     "output_type": "stream",
     "text": [
      "                                                                                          \r"
     ]
    },
    {
     "data": {
      "text/html": [
       "534 rows X 11 columns"
      ],
      "text/plain": [
       "<IPython.core.display.HTML object>"
      ]
     },
     "metadata": {},
     "output_type": "display_data"
    },
    {
     "name": "stdout",
     "output_type": "stream",
     "text": [
      "                                                                                          \r"
     ]
    },
    {
     "data": {
      "text/html": [
       "Testing dataset sample after scaling:"
      ],
      "text/plain": [
       "<IPython.core.display.HTML object>"
      ]
     },
     "metadata": {},
     "output_type": "display_data"
    },
    {
     "data": {
      "text/html": [
       "<style type=\"text/css\">\n",
       "\ttable {border:ridge 5px;}\n",
       "\ttable td {border:inset 1px;}\n",
       "\ttable tr#HeaderRow {background-color:grey; color:white;}</style>\n",
       "<html><table>\n",
       "\t<tr id=\"HeaderRow\">\n",
       "\t\t<th>sex_1</th>\n",
       "\t\t<th>sex_0</th>\n",
       "\t\t<th>survived</th>\n",
       "\t\t<th>id</th>\n",
       "\t\t<th>embarked</th>\n",
       "\t\t<th>fare</th>\n",
       "\t\t<th>parch</th>\n",
       "\t\t<th>age</th>\n",
       "\t\t<th>sibsp</th>\n",
       "\t\t<th>pclass</th>\n",
       "\t\t<th>Family_count</th>\n",
       "\t</tr>\n",
       "\t<tr>\n",
       "\t\t<td>0</td>\n",
       "\t\t<td>1</td>\n",
       "\t\t<td>0</td>\n",
       "\t\t<td>54</td>\n",
       "\t\t<td>1.9797995386187863</td>\n",
       "\t\t<td>-0.3868851995094405</td>\n",
       "\t\t<td>2.0804752327827067</td>\n",
       "\t\t<td>-0.12528818299862163</td>\n",
       "\t\t<td>-0.4478850877632818</td>\n",
       "\t\t<td>-0.5845584168528989</td>\n",
       "\t\t<td>0.704254873235055</td>\n",
       "\t</tr>\n",
       "\t<tr>\n",
       "\t\t<td>1</td>\n",
       "\t\t<td>0</td>\n",
       "\t\t<td>0</td>\n",
       "\t\t<td>146</td>\n",
       "\t\t<td>1.9797995386187863</td>\n",
       "\t\t<td>0.2688501231996707</td>\n",
       "\t\t<td>-0.45889339420235703</td>\n",
       "\t\t<td>2.0107539061637403</td>\n",
       "\t\t<td>-0.4478850877632818</td>\n",
       "\t\t<td>1.7106930140253955</td>\n",
       "\t\t<td>-0.5328244106712589</td>\n",
       "\t</tr>\n",
       "\t<tr>\n",
       "\t\t<td>0</td>\n",
       "\t\t<td>1</td>\n",
       "\t\t<td>1</td>\n",
       "\t\t<td>159</td>\n",
       "\t\t<td>1.9797995386187863</td>\n",
       "\t\t<td>4.674551131973854</td>\n",
       "\t\t<td>0.8107909192901749</td>\n",
       "\t\t<td>0.7901584266423907</td>\n",
       "\t\t<td>0.4478850877632818</td>\n",
       "\t\t<td>1.7106930140253955</td>\n",
       "\t\t<td>0.704254873235055</td>\n",
       "\t</tr>\n",
       "\t<tr>\n",
       "\t\t<td>0</td>\n",
       "\t\t<td>1</td>\n",
       "\t\t<td>1</td>\n",
       "\t\t<td>160</td>\n",
       "\t\t<td>1.9797995386187863</td>\n",
       "\t\t<td>-0.4457740513061325</td>\n",
       "\t\t<td>-0.45889339420235703</td>\n",
       "\t\t<td>-0.20157540046870598</td>\n",
       "\t\t<td>0.4478850877632818</td>\n",
       "\t\t<td>-0.5845584168528989</td>\n",
       "\t\t<td>0.08571523128189808</td>\n",
       "\t</tr>\n",
       "\t<tr>\n",
       "\t\t<td>0</td>\n",
       "\t\t<td>1</td>\n",
       "\t\t<td>1</td>\n",
       "\t\t<td>225</td>\n",
       "\t\t<td>1.9797995386187863</td>\n",
       "\t\t<td>3.773710858543376</td>\n",
       "\t\t<td>-0.45889339420235703</td>\n",
       "\t\t<td>-0.5067242703490434</td>\n",
       "\t\t<td>0.4478850877632818</td>\n",
       "\t\t<td>1.7106930140253955</td>\n",
       "\t\t<td>0.08571523128189808</td>\n",
       "\t</tr>\n",
       "\t<tr>\n",
       "\t\t<td>0</td>\n",
       "\t\t<td>1</td>\n",
       "\t\t<td>1</td>\n",
       "\t\t<td>265</td>\n",
       "\t\t<td>1.9797995386187863</td>\n",
       "\t\t<td>1.4871257122033519</td>\n",
       "\t\t<td>-0.45889339420235703</td>\n",
       "\t\t<td>1.8581794712235717</td>\n",
       "\t\t<td>0.4478850877632818</td>\n",
       "\t\t<td>1.7106930140253955</td>\n",
       "\t\t<td>0.08571523128189808</td>\n",
       "\t</tr>\n",
       "\t<tr>\n",
       "\t\t<td>0</td>\n",
       "\t\t<td>1</td>\n",
       "\t\t<td>1</td>\n",
       "\t\t<td>12</td>\n",
       "\t\t<td>-0.5590211670991129</td>\n",
       "\t\t<td>-0.5044846449568454</td>\n",
       "\t\t<td>-0.45889339420235703</td>\n",
       "\t\t<td>0.0272862519415471</td>\n",
       "\t\t<td>-0.4478850877632818</td>\n",
       "\t\t<td>-0.5845584168528989</td>\n",
       "\t\t<td>-0.5328244106712589</td>\n",
       "\t</tr>\n",
       "\t<tr>\n",
       "\t\t<td>1</td>\n",
       "\t\t<td>0</td>\n",
       "\t\t<td>0</td>\n",
       "\t\t<td>14</td>\n",
       "\t\t<td>-0.5590211670991129</td>\n",
       "\t\t<td>-0.4822023767094484</td>\n",
       "\t\t<td>-0.45889339420235703</td>\n",
       "\t\t<td>-0.5067242703490434</td>\n",
       "\t\t<td>-0.4478850877632818</td>\n",
       "\t\t<td>-0.5845584168528989</td>\n",
       "\t\t<td>-0.5328244106712589</td>\n",
       "\t</tr>\n",
       "\t<tr>\n",
       "\t\t<td>0</td>\n",
       "\t\t<td>1</td>\n",
       "\t\t<td>0</td>\n",
       "\t\t<td>17</td>\n",
       "\t\t<td>-0.5590211670991129</td>\n",
       "\t\t<td>-0.6988369549729982</td>\n",
       "\t\t<td>-0.45889339420235703</td>\n",
       "\t\t<td>-0.12528818299862163</td>\n",
       "\t\t<td>-0.4478850877632818</td>\n",
       "\t\t<td>-0.5845584168528989</td>\n",
       "\t\t<td>-0.5328244106712589</td>\n",
       "\t</tr>\n",
       "\t<tr>\n",
       "\t\t<td>1</td>\n",
       "\t\t<td>0</td>\n",
       "\t\t<td>0</td>\n",
       "\t\t<td>27</td>\n",
       "\t\t<td>-0.5590211670991129</td>\n",
       "\t\t<td>0.956595515836757</td>\n",
       "\t\t<td>2.0804752327827067</td>\n",
       "\t\t<td>-2.185043054690899</td>\n",
       "\t\t<td>4.030965789869536</td>\n",
       "\t\t<td>-0.5845584168528989</td>\n",
       "\t\t<td>3.7969530830008393</td>\n",
       "\t</tr>\n",
       "</table></html>"
      ],
      "text/plain": [
       "   sex_1  sex_0  survived   id  embarked      fare     parch       age     sibsp    pclass  Family_count\n",
       "0      0      1         0   54  1.979800 -0.386885  2.080475 -0.125288 -0.447885 -0.584558      0.704255\n",
       "1      1      0         0  146  1.979800  0.268850 -0.458893  2.010754 -0.447885  1.710693     -0.532824\n",
       "2      0      1         1  159  1.979800  4.674551  0.810791  0.790158  0.447885  1.710693      0.704255\n",
       "3      0      1         1  160  1.979800 -0.445774 -0.458893 -0.201575  0.447885 -0.584558      0.085715\n",
       "4      0      1         1  225  1.979800  3.773711 -0.458893 -0.506724  0.447885  1.710693      0.085715\n",
       "5      0      1         1  265  1.979800  1.487126 -0.458893  1.858179  0.447885  1.710693      0.085715\n",
       "6      0      1         1   12 -0.559021 -0.504485 -0.458893  0.027286 -0.447885 -0.584558     -0.532824\n",
       "7      1      0         0   14 -0.559021 -0.482202 -0.458893 -0.506724 -0.447885 -0.584558     -0.532824\n",
       "8      0      1         0   17 -0.559021 -0.698837 -0.458893 -0.125288 -0.447885 -0.584558     -0.532824\n",
       "9      1      0         0   27 -0.559021  0.956596  2.080475 -2.185043  4.030966 -0.584558      3.796953"
      ]
     },
     "metadata": {},
     "output_type": "display_data"
    },
    {
     "name": "stdout",
     "output_type": "stream",
     "text": [
      "                                                                                          \r"
     ]
    },
    {
     "data": {
      "text/html": [
       "179 rows X 11 columns"
      ],
      "text/plain": [
       "<IPython.core.display.HTML object>"
      ]
     },
     "metadata": {},
     "output_type": "display_data"
    },
    {
     "name": "stdout",
     "output_type": "stream",
     "text": [
      "                                                                                          \r"
     ]
    },
    {
     "data": {
      "text/html": [
       "Total time taken by feature scaling: 39.74 sec"
      ],
      "text/plain": [
       "<IPython.core.display.HTML object>"
      ]
     },
     "metadata": {},
     "output_type": "display_data"
    },
    {
     "name": "stdout",
     "output_type": "stream",
     "text": [
      "                                                                                          \r"
     ]
    },
    {
     "data": {
      "text/html": [
       "\n",
       "Dimension Reduction using pca ..."
      ],
      "text/plain": [
       "<IPython.core.display.HTML object>"
      ]
     },
     "metadata": {},
     "output_type": "display_data"
    },
    {
     "name": "stdout",
     "output_type": "stream",
     "text": [
      "                                                                                          \r"
     ]
    },
    {
     "data": {
      "text/html": [
       "PCA columns:"
      ],
      "text/plain": [
       "<IPython.core.display.HTML object>"
      ]
     },
     "metadata": {},
     "output_type": "display_data"
    },
    {
     "name": "stdout",
     "output_type": "stream",
     "text": [
      "['col_0', 'col_1', 'col_2', 'col_3', 'col_4', 'col_5']\n",
      "                                                                                          \r"
     ]
    },
    {
     "data": {
      "text/html": [
       "Total time taken by PCA: 10.48 sec  "
      ],
      "text/plain": [
       "<IPython.core.display.HTML object>"
      ]
     },
     "metadata": {},
     "output_type": "display_data"
    },
    {
     "name": "stdout",
     "output_type": "stream",
     "text": [
      "                                                                                          \r"
     ]
    },
    {
     "data": {
      "text/html": [
       "\n",
       "            <style>\n",
       "                .custom-div {\n",
       "                    background-color: lightgray;\n",
       "                    color: #000000;\n",
       "                    padding: 10px;\n",
       "                    border-radius: 8px;\n",
       "                    box-shadow: 0 3px 4px rgba(0 -  0 -  0 -  0.2);\n",
       "                    margin-bottom: 10px;\n",
       "                    text-align: center;\n",
       "                }\n",
       "            </style>\n",
       "        <br><div class=\"custom-div\"><h3><span style=\"color: green;\">1. Feature Exploration -> 2. Feature Engineering -> 3. Data Preparation -></span> 4. Model Training & Evaluation<center></h3></center></div>"
      ],
      "text/plain": [
       "<IPython.core.display.HTML object>"
      ]
     },
     "metadata": {},
     "output_type": "display_data"
    },
    {
     "name": "stdout",
     "output_type": "stream",
     "text": [
      "                                                                                          \r"
     ]
    },
    {
     "data": {
      "text/html": [
       "Model Training started ..."
      ],
      "text/plain": [
       "<IPython.core.display.HTML object>"
      ]
     },
     "metadata": {},
     "output_type": "display_data"
    },
    {
     "name": "stdout",
     "output_type": "stream",
     "text": [
      "                                                                                          \r"
     ]
    },
    {
     "data": {
      "text/html": [
       "\n",
       "Starting customized hyperparameter update ..."
      ],
      "text/plain": [
       "<IPython.core.display.HTML object>"
      ]
     },
     "metadata": {},
     "output_type": "display_data"
    },
    {
     "name": "stdout",
     "output_type": "stream",
     "text": [
      "                                                                                          \n",
      "Completed customized hyperparameter update.\n",
      "                                                                                          \r"
     ]
    },
    {
     "data": {
      "text/html": [
       "\n",
       "Hyperparameters used for model training: "
      ],
      "text/plain": [
       "<IPython.core.display.HTML object>"
      ]
     },
     "metadata": {},
     "output_type": "display_data"
    },
    {
     "name": "stdout",
     "output_type": "stream",
     "text": [
      "response_column : survived                                                                                                                            \n",
      "name : decision_forest\n",
      "tree_type : Classification\n",
      "min_impurity : (0.0, 0.1, 0.2)\n",
      "max_depth : (5, 6, 8, 10)\n",
      "min_node_size : (1, 2, 3)\n",
      "num_trees : (-1, 20, 30)\n",
      "seed : 42\n",
      "Total number of models for decision_forest : 108\n",
      "--------------------------------------------------------------------------------------------------------------------------------------------------------------------------------------------------------\n",
      "\n",
      "response_column : survived\n",
      "name : xgboost\n",
      "model_type : Classification\n",
      "column_sampling : (1, 0.6)\n",
      "min_impurity : (0.0, 0.1, 0.2)\n",
      "lambda1 : (0.01, 0.1, 1, 10)\n",
      "shrinkage_factor : (0.5, 0.1, 0.3)\n",
      "max_depth : (5, 6, 8, 10)\n",
      "min_node_size : (1, 2, 3, 5)\n",
      "iter_num : (10, 20, 30)\n",
      "seed : 42\n",
      "Total number of models for xgboost : 3456\n",
      "--------------------------------------------------------------------------------------------------------------------------------------------------------------------------------------------------------\n",
      "\n",
      "                                                                                          \r"
     ]
    },
    {
     "data": {
      "text/html": [
       "\n",
       "Performing hyperParameter tuning ..."
      ],
      "text/plain": [
       "<IPython.core.display.HTML object>"
      ]
     },
     "metadata": {},
     "output_type": "display_data"
    },
    {
     "name": "stdout",
     "output_type": "stream",
     "text": [
      "                                                                                          \r"
     ]
    },
    {
     "data": {
      "text/html": [
       "decision_forest"
      ],
      "text/plain": [
       "<IPython.core.display.HTML object>"
      ]
     },
     "metadata": {},
     "output_type": "display_data"
    },
    {
     "name": "stdout",
     "output_type": "stream",
     "text": [
      "result data stored in table '\"ALICE\".\"ml__td_sqlmr_persist_out__1719264026547136\"'                                                                                                                      \n",
      "result data stored in table '\"ALICE\".\"ml__td_sqlmr_persist_out__1719262914959595\"'\n",
      "result data stored in table '\"ALICE\".\"ml__td_sqlmr_persist_out__1719264311636111\"'\n",
      "                                                                                          \r"
     ]
    },
    {
     "data": {
      "text/html": [
       "----------------------------------------------------------------------------------------------------"
      ],
      "text/plain": [
       "<IPython.core.display.HTML object>"
      ]
     },
     "metadata": {},
     "output_type": "display_data"
    },
    {
     "name": "stdout",
     "output_type": "stream",
     "text": [
      "                                                                                          \r"
     ]
    },
    {
     "data": {
      "text/html": [
       "xgboost"
      ],
      "text/plain": [
       "<IPython.core.display.HTML object>"
      ]
     },
     "metadata": {},
     "output_type": "display_data"
    },
    {
     "name": "stdout",
     "output_type": "stream",
     "text": [
      "result data stored in table '\"ALICE\".\"ml__td_sqlmr_persist_out__1719263046520320\"'                                                                                                                      \n",
      "result data stored in table '\"ALICE\".\"ml__td_sqlmr_persist_out__1719264356366180\"'\n",
      "result data stored in table '\"ALICE\".\"ml__td_sqlmr_persist_out__1719263957214003\"'\n",
      "                                                                                          \r"
     ]
    },
    {
     "data": {
      "text/html": [
       "----------------------------------------------------------------------------------------------------"
      ],
      "text/plain": [
       "<IPython.core.display.HTML object>"
      ]
     },
     "metadata": {},
     "output_type": "display_data"
    },
    {
     "name": "stdout",
     "output_type": "stream",
     "text": [
      "                                                                                          \r"
     ]
    },
    {
     "data": {
      "text/html": [
       "Evaluating models performance ..."
      ],
      "text/plain": [
       "<IPython.core.display.HTML object>"
      ]
     },
     "metadata": {},
     "output_type": "display_data"
    },
    {
     "name": "stdout",
     "output_type": "stream",
     "text": [
      "                                                                                          \r"
     ]
    },
    {
     "data": {
      "text/html": [
       "Evaluation completed."
      ],
      "text/plain": [
       "<IPython.core.display.HTML object>"
      ]
     },
     "metadata": {},
     "output_type": "display_data"
    },
    {
     "name": "stdout",
     "output_type": "stream",
     "text": [
      "                                                                                          \r"
     ]
    },
    {
     "data": {
      "text/html": [
       "Leaderboard"
      ],
      "text/plain": [
       "<IPython.core.display.HTML object>"
      ]
     },
     "metadata": {},
     "output_type": "display_data"
    },
    {
     "data": {
      "text/html": [
       "<div>\n",
       "<style scoped>\n",
       "    .dataframe tbody tr th:only-of-type {\n",
       "        vertical-align: middle;\n",
       "    }\n",
       "\n",
       "    .dataframe tbody tr th {\n",
       "        vertical-align: top;\n",
       "    }\n",
       "\n",
       "    .dataframe thead th {\n",
       "        text-align: right;\n",
       "    }\n",
       "</style>\n",
       "<table border=\"1\" class=\"dataframe\">\n",
       "  <thead>\n",
       "    <tr style=\"text-align: right;\">\n",
       "      <th></th>\n",
       "      <th>Rank</th>\n",
       "      <th>Model-ID</th>\n",
       "      <th>Feature-Selection</th>\n",
       "      <th>Accuracy</th>\n",
       "      <th>Micro-Precision</th>\n",
       "      <th>Micro-Recall</th>\n",
       "      <th>Micro-F1</th>\n",
       "      <th>Macro-Precision</th>\n",
       "      <th>Macro-Recall</th>\n",
       "      <th>Macro-F1</th>\n",
       "      <th>Weighted-Precision</th>\n",
       "      <th>Weighted-Recall</th>\n",
       "      <th>Weighted-F1</th>\n",
       "    </tr>\n",
       "  </thead>\n",
       "  <tbody>\n",
       "    <tr>\n",
       "      <th>0</th>\n",
       "      <td>1</td>\n",
       "      <td>DECISIONFOREST_2</td>\n",
       "      <td>pca</td>\n",
       "      <td>0.804469</td>\n",
       "      <td>0.804469</td>\n",
       "      <td>0.804469</td>\n",
       "      <td>0.804469</td>\n",
       "      <td>0.793590</td>\n",
       "      <td>0.788222</td>\n",
       "      <td>0.790643</td>\n",
       "      <td>0.803137</td>\n",
       "      <td>0.804469</td>\n",
       "      <td>0.803568</td>\n",
       "    </tr>\n",
       "    <tr>\n",
       "      <th>1</th>\n",
       "      <td>2</td>\n",
       "      <td>DECISIONFOREST_0</td>\n",
       "      <td>lasso</td>\n",
       "      <td>0.798883</td>\n",
       "      <td>0.798883</td>\n",
       "      <td>0.798883</td>\n",
       "      <td>0.798883</td>\n",
       "      <td>0.789289</td>\n",
       "      <td>0.778021</td>\n",
       "      <td>0.782591</td>\n",
       "      <td>0.796789</td>\n",
       "      <td>0.798883</td>\n",
       "      <td>0.796888</td>\n",
       "    </tr>\n",
       "    <tr>\n",
       "      <th>2</th>\n",
       "      <td>3</td>\n",
       "      <td>XGBOOST_2</td>\n",
       "      <td>pca</td>\n",
       "      <td>0.793296</td>\n",
       "      <td>0.793296</td>\n",
       "      <td>0.793296</td>\n",
       "      <td>0.793296</td>\n",
       "      <td>0.782499</td>\n",
       "      <td>0.773516</td>\n",
       "      <td>0.777281</td>\n",
       "      <td>0.791259</td>\n",
       "      <td>0.793296</td>\n",
       "      <td>0.791628</td>\n",
       "    </tr>\n",
       "    <tr>\n",
       "      <th>3</th>\n",
       "      <td>4</td>\n",
       "      <td>XGBOOST_0</td>\n",
       "      <td>lasso</td>\n",
       "      <td>0.748603</td>\n",
       "      <td>0.748603</td>\n",
       "      <td>0.748603</td>\n",
       "      <td>0.748603</td>\n",
       "      <td>0.771603</td>\n",
       "      <td>0.689057</td>\n",
       "      <td>0.696781</td>\n",
       "      <td>0.762184</td>\n",
       "      <td>0.748603</td>\n",
       "      <td>0.726894</td>\n",
       "    </tr>\n",
       "    <tr>\n",
       "      <th>4</th>\n",
       "      <td>5</td>\n",
       "      <td>DECISIONFOREST_1</td>\n",
       "      <td>rfe</td>\n",
       "      <td>0.715084</td>\n",
       "      <td>0.715084</td>\n",
       "      <td>0.715084</td>\n",
       "      <td>0.715084</td>\n",
       "      <td>0.716117</td>\n",
       "      <td>0.656333</td>\n",
       "      <td>0.660089</td>\n",
       "      <td>0.715677</td>\n",
       "      <td>0.715084</td>\n",
       "      <td>0.692933</td>\n",
       "    </tr>\n",
       "  </tbody>\n",
       "</table>\n",
       "</div>"
      ],
      "text/plain": [
       "   Rank          Model-ID Feature-Selection  Accuracy  Micro-Precision  \\\n",
       "0     1  DECISIONFOREST_2               pca  0.804469         0.804469   \n",
       "1     2  DECISIONFOREST_0             lasso  0.798883         0.798883   \n",
       "2     3         XGBOOST_2               pca  0.793296         0.793296   \n",
       "3     4         XGBOOST_0             lasso  0.748603         0.748603   \n",
       "4     5  DECISIONFOREST_1               rfe  0.715084         0.715084   \n",
       "\n",
       "   Micro-Recall  Micro-F1  Macro-Precision  Macro-Recall  Macro-F1  \\\n",
       "0      0.804469  0.804469         0.793590      0.788222  0.790643   \n",
       "1      0.798883  0.798883         0.789289      0.778021  0.782591   \n",
       "2      0.793296  0.793296         0.782499      0.773516  0.777281   \n",
       "3      0.748603  0.748603         0.771603      0.689057  0.696781   \n",
       "4      0.715084  0.715084         0.716117      0.656333  0.660089   \n",
       "\n",
       "   Weighted-Precision  Weighted-Recall  Weighted-F1  \n",
       "0            0.803137         0.804469     0.803568  \n",
       "1            0.796789         0.798883     0.796888  \n",
       "2            0.791259         0.793296     0.791628  \n",
       "3            0.762184         0.748603     0.726894  \n",
       "4            0.715677         0.715084     0.692933  "
      ]
     },
     "metadata": {},
     "output_type": "display_data"
    },
    {
     "name": "stdout",
     "output_type": "stream",
     "text": [
      "                                                                                          \r"
     ]
    },
    {
     "data": {
      "text/html": [
       "5 rows X 13 columns"
      ],
      "text/plain": [
       "<IPython.core.display.HTML object>"
      ]
     },
     "metadata": {},
     "output_type": "display_data"
    },
    {
     "name": "stdout",
     "output_type": "stream",
     "text": [
      "                                                                                          \r"
     ]
    },
    {
     "data": {
      "text/html": [
       "\n",
       "            <style>\n",
       "                .custom-div {\n",
       "                    background-color: lightgray;\n",
       "                    color: #000000;\n",
       "                    padding: 10px;\n",
       "                    border-radius: 8px;\n",
       "                    box-shadow: 0 3px 4px rgba(0 -  0 -  0 -  0.2);\n",
       "                    margin-bottom: 10px;\n",
       "                    text-align: center;\n",
       "                }\n",
       "            </style>\n",
       "        <br><div class=\"custom-div\"><h3><span style=\"color: green;\">1. Feature Exploration -> 2. Feature Engineering -> 3. Data Preparation -> 4. Model Training & Evaluation</span><center></h3></center></div>"
      ],
      "text/plain": [
       "<IPython.core.display.HTML object>"
      ]
     },
     "metadata": {},
     "output_type": "display_data"
    },
    {
     "name": "stdout",
     "output_type": "stream",
     "text": [
      "Completed: ｜⫿⫿⫿⫿⫿⫿⫿⫿⫿⫿⫿⫿⫿⫿⫿⫿⫿⫿⫿⫿⫿⫿⫿⫿⫿⫿⫿⫿⫿⫿⫿⫿⫿⫿⫿⫿⫿⫿⫿⫿⫿⫿⫿⫿⫿⫿⫿⫿⫿⫿⫿⫿⫿⫿⫿⫿⫿⫿⫿⫿｜ 100% - 20/20    \r"
     ]
    }
   ],
   "source": [
    "# Fitting train data\n",
    "aml.fit(titanic_train, titanic_train.survived)"
   ]
  },
  {
   "cell_type": "markdown",
   "id": "23a04eb1-68e6-48b7-95aa-442f434809da",
   "metadata": {},
   "source": [
    "## <b><span style='color:#F1A424'>| 3.</span> Leaderboard : </b>"
   ]
  },
  {
   "cell_type": "code",
   "execution_count": 20,
   "id": "77de1099-6122-4f8a-8e7f-dd67e5b4ced4",
   "metadata": {},
   "outputs": [
    {
     "data": {
      "text/html": [
       "<div>\n",
       "<style scoped>\n",
       "    .dataframe tbody tr th:only-of-type {\n",
       "        vertical-align: middle;\n",
       "    }\n",
       "\n",
       "    .dataframe tbody tr th {\n",
       "        vertical-align: top;\n",
       "    }\n",
       "\n",
       "    .dataframe thead th {\n",
       "        text-align: right;\n",
       "    }\n",
       "</style>\n",
       "<table border=\"1\" class=\"dataframe\">\n",
       "  <thead>\n",
       "    <tr style=\"text-align: right;\">\n",
       "      <th></th>\n",
       "      <th>Rank</th>\n",
       "      <th>Model-ID</th>\n",
       "      <th>Feature-Selection</th>\n",
       "      <th>Accuracy</th>\n",
       "      <th>Micro-Precision</th>\n",
       "      <th>Micro-Recall</th>\n",
       "      <th>Micro-F1</th>\n",
       "      <th>Macro-Precision</th>\n",
       "      <th>Macro-Recall</th>\n",
       "      <th>Macro-F1</th>\n",
       "      <th>Weighted-Precision</th>\n",
       "      <th>Weighted-Recall</th>\n",
       "      <th>Weighted-F1</th>\n",
       "    </tr>\n",
       "  </thead>\n",
       "  <tbody>\n",
       "    <tr>\n",
       "      <th>0</th>\n",
       "      <td>1</td>\n",
       "      <td>DECISIONFOREST_2</td>\n",
       "      <td>pca</td>\n",
       "      <td>0.804469</td>\n",
       "      <td>0.804469</td>\n",
       "      <td>0.804469</td>\n",
       "      <td>0.804469</td>\n",
       "      <td>0.793590</td>\n",
       "      <td>0.788222</td>\n",
       "      <td>0.790643</td>\n",
       "      <td>0.803137</td>\n",
       "      <td>0.804469</td>\n",
       "      <td>0.803568</td>\n",
       "    </tr>\n",
       "    <tr>\n",
       "      <th>1</th>\n",
       "      <td>2</td>\n",
       "      <td>DECISIONFOREST_0</td>\n",
       "      <td>lasso</td>\n",
       "      <td>0.798883</td>\n",
       "      <td>0.798883</td>\n",
       "      <td>0.798883</td>\n",
       "      <td>0.798883</td>\n",
       "      <td>0.789289</td>\n",
       "      <td>0.778021</td>\n",
       "      <td>0.782591</td>\n",
       "      <td>0.796789</td>\n",
       "      <td>0.798883</td>\n",
       "      <td>0.796888</td>\n",
       "    </tr>\n",
       "    <tr>\n",
       "      <th>2</th>\n",
       "      <td>3</td>\n",
       "      <td>XGBOOST_2</td>\n",
       "      <td>pca</td>\n",
       "      <td>0.793296</td>\n",
       "      <td>0.793296</td>\n",
       "      <td>0.793296</td>\n",
       "      <td>0.793296</td>\n",
       "      <td>0.782499</td>\n",
       "      <td>0.773516</td>\n",
       "      <td>0.777281</td>\n",
       "      <td>0.791259</td>\n",
       "      <td>0.793296</td>\n",
       "      <td>0.791628</td>\n",
       "    </tr>\n",
       "    <tr>\n",
       "      <th>3</th>\n",
       "      <td>4</td>\n",
       "      <td>XGBOOST_0</td>\n",
       "      <td>lasso</td>\n",
       "      <td>0.748603</td>\n",
       "      <td>0.748603</td>\n",
       "      <td>0.748603</td>\n",
       "      <td>0.748603</td>\n",
       "      <td>0.771603</td>\n",
       "      <td>0.689057</td>\n",
       "      <td>0.696781</td>\n",
       "      <td>0.762184</td>\n",
       "      <td>0.748603</td>\n",
       "      <td>0.726894</td>\n",
       "    </tr>\n",
       "    <tr>\n",
       "      <th>4</th>\n",
       "      <td>5</td>\n",
       "      <td>DECISIONFOREST_1</td>\n",
       "      <td>rfe</td>\n",
       "      <td>0.715084</td>\n",
       "      <td>0.715084</td>\n",
       "      <td>0.715084</td>\n",
       "      <td>0.715084</td>\n",
       "      <td>0.716117</td>\n",
       "      <td>0.656333</td>\n",
       "      <td>0.660089</td>\n",
       "      <td>0.715677</td>\n",
       "      <td>0.715084</td>\n",
       "      <td>0.692933</td>\n",
       "    </tr>\n",
       "  </tbody>\n",
       "</table>\n",
       "</div>"
      ],
      "text/plain": [
       "   Rank          Model-ID Feature-Selection  Accuracy  Micro-Precision  \\\n",
       "0     1  DECISIONFOREST_2               pca  0.804469         0.804469   \n",
       "1     2  DECISIONFOREST_0             lasso  0.798883         0.798883   \n",
       "2     3         XGBOOST_2               pca  0.793296         0.793296   \n",
       "3     4         XGBOOST_0             lasso  0.748603         0.748603   \n",
       "4     5  DECISIONFOREST_1               rfe  0.715084         0.715084   \n",
       "\n",
       "   Micro-Recall  Micro-F1  Macro-Precision  Macro-Recall  Macro-F1  \\\n",
       "0      0.804469  0.804469         0.793590      0.788222  0.790643   \n",
       "1      0.798883  0.798883         0.789289      0.778021  0.782591   \n",
       "2      0.793296  0.793296         0.782499      0.773516  0.777281   \n",
       "3      0.748603  0.748603         0.771603      0.689057  0.696781   \n",
       "4      0.715084  0.715084         0.716117      0.656333  0.660089   \n",
       "\n",
       "   Weighted-Precision  Weighted-Recall  Weighted-F1  \n",
       "0            0.803137         0.804469     0.803568  \n",
       "1            0.796789         0.798883     0.796888  \n",
       "2            0.791259         0.793296     0.791628  \n",
       "3            0.762184         0.748603     0.726894  \n",
       "4            0.715677         0.715084     0.692933  "
      ]
     },
     "execution_count": 20,
     "metadata": {},
     "output_type": "execute_result"
    }
   ],
   "source": [
    "# Fetching Leaderboard\n",
    "aml.leaderboard()"
   ]
  },
  {
   "cell_type": "markdown",
   "id": "a7a3aa08-e349-4a61-9217-2c17d50411d8",
   "metadata": {},
   "source": [
    "## <b><span style='color:#F1A424'>| 4.</span> Best Performing Model : </b>"
   ]
  },
  {
   "cell_type": "code",
   "execution_count": 21,
   "id": "c4c32832-a76b-4f42-826a-cefc38a6301b",
   "metadata": {},
   "outputs": [
    {
     "data": {
      "text/html": [
       "<div>\n",
       "<style scoped>\n",
       "    .dataframe tbody tr th:only-of-type {\n",
       "        vertical-align: middle;\n",
       "    }\n",
       "\n",
       "    .dataframe tbody tr th {\n",
       "        vertical-align: top;\n",
       "    }\n",
       "\n",
       "    .dataframe thead th {\n",
       "        text-align: right;\n",
       "    }\n",
       "</style>\n",
       "<table border=\"1\" class=\"dataframe\">\n",
       "  <thead>\n",
       "    <tr style=\"text-align: right;\">\n",
       "      <th></th>\n",
       "      <th>Rank</th>\n",
       "      <th>Model-ID</th>\n",
       "      <th>Feature-Selection</th>\n",
       "      <th>Accuracy</th>\n",
       "      <th>Micro-Precision</th>\n",
       "      <th>Micro-Recall</th>\n",
       "      <th>Micro-F1</th>\n",
       "      <th>Macro-Precision</th>\n",
       "      <th>Macro-Recall</th>\n",
       "      <th>Macro-F1</th>\n",
       "      <th>Weighted-Precision</th>\n",
       "      <th>Weighted-Recall</th>\n",
       "      <th>Weighted-F1</th>\n",
       "    </tr>\n",
       "  </thead>\n",
       "  <tbody>\n",
       "    <tr>\n",
       "      <th>0</th>\n",
       "      <td>1</td>\n",
       "      <td>DECISIONFOREST_2</td>\n",
       "      <td>pca</td>\n",
       "      <td>0.804469</td>\n",
       "      <td>0.804469</td>\n",
       "      <td>0.804469</td>\n",
       "      <td>0.804469</td>\n",
       "      <td>0.79359</td>\n",
       "      <td>0.788222</td>\n",
       "      <td>0.790643</td>\n",
       "      <td>0.803137</td>\n",
       "      <td>0.804469</td>\n",
       "      <td>0.803568</td>\n",
       "    </tr>\n",
       "  </tbody>\n",
       "</table>\n",
       "</div>"
      ],
      "text/plain": [
       "   Rank          Model-ID Feature-Selection  Accuracy  Micro-Precision  \\\n",
       "0     1  DECISIONFOREST_2               pca  0.804469         0.804469   \n",
       "\n",
       "   Micro-Recall  Micro-F1  Macro-Precision  Macro-Recall  Macro-F1  \\\n",
       "0      0.804469  0.804469          0.79359      0.788222  0.790643   \n",
       "\n",
       "   Weighted-Precision  Weighted-Recall  Weighted-F1  \n",
       "0            0.803137         0.804469     0.803568  "
      ]
     },
     "metadata": {},
     "output_type": "display_data"
    }
   ],
   "source": [
    "# Fetching best performing model for dataset\n",
    "aml.leader()"
   ]
  },
  {
   "cell_type": "markdown",
   "id": "e43181a9-3847-4e8b-b510-6da81f1c550f",
   "metadata": {},
   "source": [
    "## <b><span style='color:#F1A424'>| 5.</span> Generating Prediction : </b>"
   ]
  },
  {
   "cell_type": "code",
   "execution_count": 24,
   "id": "9b020546-8ecf-4539-b8fa-e61d9697c62a",
   "metadata": {},
   "outputs": [
    {
     "name": "stdout",
     "output_type": "stream",
     "text": [
      "Data Transformation started ...\n",
      "                                                                                                \r"
     ]
    },
    {
     "data": {
      "text/html": [
       "Performing transformation carried out in feature engineering phase ..."
      ],
      "text/plain": [
       "<IPython.core.display.HTML object>"
      ]
     },
     "metadata": {},
     "output_type": "display_data"
    },
    {
     "name": "stdout",
     "output_type": "stream",
     "text": [
      "                                                                                                \r"
     ]
    },
    {
     "data": {
      "text/html": [
       "\n",
       "Updated dataset after dropping futile columns :"
      ],
      "text/plain": [
       "<IPython.core.display.HTML object>"
      ]
     },
     "metadata": {},
     "output_type": "display_data"
    },
    {
     "data": {
      "text/html": [
       "<style type=\"text/css\">\n",
       "\ttable {border:ridge 5px;}\n",
       "\ttable td {border:inset 1px;}\n",
       "\ttable tr#HeaderRow {background-color:grey; color:white;}</style>\n",
       "<html><table>\n",
       "\t<tr id=\"HeaderRow\">\n",
       "\t\t<th>passenger</th>\n",
       "\t\t<th>survived</th>\n",
       "\t\t<th>pclass</th>\n",
       "\t\t<th>sex</th>\n",
       "\t\t<th>age</th>\n",
       "\t\t<th>sibsp</th>\n",
       "\t\t<th>parch</th>\n",
       "\t\t<th>fare</th>\n",
       "\t\t<th>cabin</th>\n",
       "\t\t<th>embarked</th>\n",
       "\t\t<th>id</th>\n",
       "\t</tr>\n",
       "\t<tr>\n",
       "\t\t<td>530</td>\n",
       "\t\t<td>0</td>\n",
       "\t\t<td>2</td>\n",
       "\t\t<td>male</td>\n",
       "\t\t<td>23</td>\n",
       "\t\t<td>2</td>\n",
       "\t\t<td>1</td>\n",
       "\t\t<td>11.5</td>\n",
       "\t\t<td>None</td>\n",
       "\t\t<td>S</td>\n",
       "\t\t<td>9</td>\n",
       "\t</tr>\n",
       "\t<tr>\n",
       "\t\t<td>448</td>\n",
       "\t\t<td>1</td>\n",
       "\t\t<td>1</td>\n",
       "\t\t<td>male</td>\n",
       "\t\t<td>34</td>\n",
       "\t\t<td>0</td>\n",
       "\t\t<td>0</td>\n",
       "\t\t<td>26.55</td>\n",
       "\t\t<td>None</td>\n",
       "\t\t<td>S</td>\n",
       "\t\t<td>11</td>\n",
       "\t</tr>\n",
       "\t<tr>\n",
       "\t\t<td>19</td>\n",
       "\t\t<td>0</td>\n",
       "\t\t<td>3</td>\n",
       "\t\t<td>female</td>\n",
       "\t\t<td>31</td>\n",
       "\t\t<td>1</td>\n",
       "\t\t<td>0</td>\n",
       "\t\t<td>18.0</td>\n",
       "\t\t<td>None</td>\n",
       "\t\t<td>S</td>\n",
       "\t\t<td>19</td>\n",
       "\t</tr>\n",
       "\t<tr>\n",
       "\t\t<td>505</td>\n",
       "\t\t<td>1</td>\n",
       "\t\t<td>1</td>\n",
       "\t\t<td>female</td>\n",
       "\t\t<td>16</td>\n",
       "\t\t<td>0</td>\n",
       "\t\t<td>0</td>\n",
       "\t\t<td>86.5</td>\n",
       "\t\t<td>B79</td>\n",
       "\t\t<td>S</td>\n",
       "\t\t<td>12</td>\n",
       "\t</tr>\n",
       "\t<tr>\n",
       "\t\t<td>753</td>\n",
       "\t\t<td>0</td>\n",
       "\t\t<td>3</td>\n",
       "\t\t<td>male</td>\n",
       "\t\t<td>33</td>\n",
       "\t\t<td>0</td>\n",
       "\t\t<td>0</td>\n",
       "\t\t<td>9.5</td>\n",
       "\t\t<td>None</td>\n",
       "\t\t<td>S</td>\n",
       "\t\t<td>15</td>\n",
       "\t</tr>\n",
       "\t<tr>\n",
       "\t\t<td>671</td>\n",
       "\t\t<td>1</td>\n",
       "\t\t<td>2</td>\n",
       "\t\t<td>female</td>\n",
       "\t\t<td>40</td>\n",
       "\t\t<td>1</td>\n",
       "\t\t<td>1</td>\n",
       "\t\t<td>39.0</td>\n",
       "\t\t<td>None</td>\n",
       "\t\t<td>S</td>\n",
       "\t\t<td>23</td>\n",
       "\t</tr>\n",
       "\t<tr>\n",
       "\t\t<td>383</td>\n",
       "\t\t<td>0</td>\n",
       "\t\t<td>3</td>\n",
       "\t\t<td>male</td>\n",
       "\t\t<td>32</td>\n",
       "\t\t<td>0</td>\n",
       "\t\t<td>0</td>\n",
       "\t\t<td>7.925</td>\n",
       "\t\t<td>None</td>\n",
       "\t\t<td>S</td>\n",
       "\t\t<td>10</td>\n",
       "\t</tr>\n",
       "\t<tr>\n",
       "\t\t<td>831</td>\n",
       "\t\t<td>1</td>\n",
       "\t\t<td>3</td>\n",
       "\t\t<td>female</td>\n",
       "\t\t<td>15</td>\n",
       "\t\t<td>1</td>\n",
       "\t\t<td>0</td>\n",
       "\t\t<td>14.4542</td>\n",
       "\t\t<td>None</td>\n",
       "\t\t<td>C</td>\n",
       "\t\t<td>18</td>\n",
       "\t</tr>\n",
       "\t<tr>\n",
       "\t\t<td>99</td>\n",
       "\t\t<td>1</td>\n",
       "\t\t<td>2</td>\n",
       "\t\t<td>female</td>\n",
       "\t\t<td>34</td>\n",
       "\t\t<td>0</td>\n",
       "\t\t<td>1</td>\n",
       "\t\t<td>23.0</td>\n",
       "\t\t<td>None</td>\n",
       "\t\t<td>S</td>\n",
       "\t\t<td>13</td>\n",
       "\t</tr>\n",
       "\t<tr>\n",
       "\t\t<td>709</td>\n",
       "\t\t<td>1</td>\n",
       "\t\t<td>1</td>\n",
       "\t\t<td>female</td>\n",
       "\t\t<td>22</td>\n",
       "\t\t<td>0</td>\n",
       "\t\t<td>0</td>\n",
       "\t\t<td>151.55</td>\n",
       "\t\t<td>None</td>\n",
       "\t\t<td>S</td>\n",
       "\t\t<td>21</td>\n",
       "\t</tr>\n",
       "</table></html>"
      ],
      "text/plain": [
       "   passenger  survived  pclass     sex  age  sibsp  parch      fare cabin embarked  id\n",
       "0        530         0       2    male   23      2      1   11.5000  None        S   9\n",
       "1        448         1       1    male   34      0      0   26.5500  None        S  11\n",
       "2         19         0       3  female   31      1      0   18.0000  None        S  19\n",
       "3        505         1       1  female   16      0      0   86.5000   B79        S  12\n",
       "4        753         0       3    male   33      0      0    9.5000  None        S  15\n",
       "5        671         1       2  female   40      1      1   39.0000  None        S  23\n",
       "6        383         0       3    male   32      0      0    7.9250  None        S  10\n",
       "7        831         1       3  female   15      1      0   14.4542  None        C  18\n",
       "8         99         1       2  female   34      0      1   23.0000  None        S  13\n",
       "9        709         1       1  female   22      0      0  151.5500  None        S  21"
      ]
     },
     "metadata": {},
     "output_type": "display_data"
    },
    {
     "name": "stdout",
     "output_type": "stream",
     "text": [
      "                                                                                                \r"
     ]
    },
    {
     "data": {
      "text/html": [
       "178 rows X 11 columns"
      ],
      "text/plain": [
       "<IPython.core.display.HTML object>"
      ]
     },
     "metadata": {},
     "output_type": "display_data"
    },
    {
     "name": "stdout",
     "output_type": "stream",
     "text": [
      "                                                                                                 \r"
     ]
    },
    {
     "data": {
      "text/html": [
       "\n",
       "Updated dataset after performing target column transformation :"
      ],
      "text/plain": [
       "<IPython.core.display.HTML object>"
      ]
     },
     "metadata": {},
     "output_type": "display_data"
    },
    {
     "data": {
      "text/html": [
       "<style type=\"text/css\">\n",
       "\ttable {border:ridge 5px;}\n",
       "\ttable td {border:inset 1px;}\n",
       "\ttable tr#HeaderRow {background-color:grey; color:white;}</style>\n",
       "<html><table>\n",
       "\t<tr id=\"HeaderRow\">\n",
       "\t\t<th>fare</th>\n",
       "\t\t<th>sex</th>\n",
       "\t\t<th>passenger</th>\n",
       "\t\t<th>parch</th>\n",
       "\t\t<th>embarked</th>\n",
       "\t\t<th>id</th>\n",
       "\t\t<th>age</th>\n",
       "\t\t<th>sibsp</th>\n",
       "\t\t<th>cabin</th>\n",
       "\t\t<th>pclass</th>\n",
       "\t\t<th>survived</th>\n",
       "\t</tr>\n",
       "\t<tr>\n",
       "\t\t<td>26.55</td>\n",
       "\t\t<td>male</td>\n",
       "\t\t<td>448</td>\n",
       "\t\t<td>0</td>\n",
       "\t\t<td>S</td>\n",
       "\t\t<td>11</td>\n",
       "\t\t<td>34</td>\n",
       "\t\t<td>0</td>\n",
       "\t\t<td>None</td>\n",
       "\t\t<td>1</td>\n",
       "\t\t<td>1</td>\n",
       "\t</tr>\n",
       "\t<tr>\n",
       "\t\t<td>7.225</td>\n",
       "\t\t<td>male</td>\n",
       "\t\t<td>774</td>\n",
       "\t\t<td>0</td>\n",
       "\t\t<td>C</td>\n",
       "\t\t<td>8</td>\n",
       "\t\t<td>None</td>\n",
       "\t\t<td>0</td>\n",
       "\t\t<td>None</td>\n",
       "\t\t<td>3</td>\n",
       "\t\t<td>0</td>\n",
       "\t</tr>\n",
       "\t<tr>\n",
       "\t\t<td>7.25</td>\n",
       "\t\t<td>male</td>\n",
       "\t\t<td>366</td>\n",
       "\t\t<td>0</td>\n",
       "\t\t<td>S</td>\n",
       "\t\t<td>16</td>\n",
       "\t\t<td>30</td>\n",
       "\t\t<td>0</td>\n",
       "\t\t<td>None</td>\n",
       "\t\t<td>3</td>\n",
       "\t\t<td>0</td>\n",
       "\t</tr>\n",
       "\t<tr>\n",
       "\t\t<td>23.0</td>\n",
       "\t\t<td>female</td>\n",
       "\t\t<td>99</td>\n",
       "\t\t<td>1</td>\n",
       "\t\t<td>S</td>\n",
       "\t\t<td>13</td>\n",
       "\t\t<td>34</td>\n",
       "\t\t<td>0</td>\n",
       "\t\t<td>None</td>\n",
       "\t\t<td>2</td>\n",
       "\t\t<td>1</td>\n",
       "\t</tr>\n",
       "\t<tr>\n",
       "\t\t<td>7.125</td>\n",
       "\t\t<td>male</td>\n",
       "\t\t<td>244</td>\n",
       "\t\t<td>0</td>\n",
       "\t\t<td>S</td>\n",
       "\t\t<td>14</td>\n",
       "\t\t<td>22</td>\n",
       "\t\t<td>0</td>\n",
       "\t\t<td>None</td>\n",
       "\t\t<td>3</td>\n",
       "\t\t<td>0</td>\n",
       "\t</tr>\n",
       "\t<tr>\n",
       "\t\t<td>24.0</td>\n",
       "\t\t<td>female</td>\n",
       "\t\t<td>875</td>\n",
       "\t\t<td>0</td>\n",
       "\t\t<td>C</td>\n",
       "\t\t<td>22</td>\n",
       "\t\t<td>28</td>\n",
       "\t\t<td>1</td>\n",
       "\t\t<td>None</td>\n",
       "\t\t<td>2</td>\n",
       "\t\t<td>1</td>\n",
       "\t</tr>\n",
       "\t<tr>\n",
       "\t\t<td>11.5</td>\n",
       "\t\t<td>male</td>\n",
       "\t\t<td>530</td>\n",
       "\t\t<td>1</td>\n",
       "\t\t<td>S</td>\n",
       "\t\t<td>9</td>\n",
       "\t\t<td>23</td>\n",
       "\t\t<td>2</td>\n",
       "\t\t<td>None</td>\n",
       "\t\t<td>2</td>\n",
       "\t\t<td>0</td>\n",
       "\t</tr>\n",
       "\t<tr>\n",
       "\t\t<td>8.05</td>\n",
       "\t\t<td>male</td>\n",
       "\t\t<td>284</td>\n",
       "\t\t<td>0</td>\n",
       "\t\t<td>S</td>\n",
       "\t\t<td>17</td>\n",
       "\t\t<td>19</td>\n",
       "\t\t<td>0</td>\n",
       "\t\t<td>None</td>\n",
       "\t\t<td>3</td>\n",
       "\t\t<td>1</td>\n",
       "\t</tr>\n",
       "\t<tr>\n",
       "\t\t<td>86.5</td>\n",
       "\t\t<td>female</td>\n",
       "\t\t<td>505</td>\n",
       "\t\t<td>0</td>\n",
       "\t\t<td>S</td>\n",
       "\t\t<td>12</td>\n",
       "\t\t<td>16</td>\n",
       "\t\t<td>0</td>\n",
       "\t\t<td>B79</td>\n",
       "\t\t<td>1</td>\n",
       "\t\t<td>1</td>\n",
       "\t</tr>\n",
       "\t<tr>\n",
       "\t\t<td>512.3292</td>\n",
       "\t\t<td>female</td>\n",
       "\t\t<td>259</td>\n",
       "\t\t<td>0</td>\n",
       "\t\t<td>C</td>\n",
       "\t\t<td>20</td>\n",
       "\t\t<td>35</td>\n",
       "\t\t<td>0</td>\n",
       "\t\t<td>None</td>\n",
       "\t\t<td>1</td>\n",
       "\t\t<td>1</td>\n",
       "\t</tr>\n",
       "</table></html>"
      ],
      "text/plain": [
       "       fare     sex  passenger  parch embarked  id   age  sibsp cabin  pclass  survived\n",
       "0   26.5500    male        448      0        S  11  34.0      0  None       1         1\n",
       "1    7.2250    male        774      0        C   8   NaN      0  None       3         0\n",
       "2    7.2500    male        366      0        S  16  30.0      0  None       3         0\n",
       "3   23.0000  female         99      1        S  13  34.0      0  None       2         1\n",
       "4    7.1250    male        244      0        S  14  22.0      0  None       3         0\n",
       "5   24.0000  female        875      0        C  22  28.0      1  None       2         1\n",
       "6   11.5000    male        530      1        S   9  23.0      2  None       2         0\n",
       "7    8.0500    male        284      0        S  17  19.0      0  None       3         1\n",
       "8   86.5000  female        505      0        S  12  16.0      0   B79       1         1\n",
       "9  512.3292  female        259      0        C  20  35.0      0  None       1         1"
      ]
     },
     "metadata": {},
     "output_type": "display_data"
    },
    {
     "name": "stdout",
     "output_type": "stream",
     "text": [
      "                                                                                                 \r"
     ]
    },
    {
     "data": {
      "text/html": [
       "178 rows X 11 columns"
      ],
      "text/plain": [
       "<IPython.core.display.HTML object>"
      ]
     },
     "metadata": {},
     "output_type": "display_data"
    },
    {
     "name": "stdout",
     "output_type": "stream",
     "text": [
      "                                                                                                 \r"
     ]
    },
    {
     "data": {
      "text/html": [
       "\n",
       "Updated dataset after dropping customized missing value containing columns :"
      ],
      "text/plain": [
       "<IPython.core.display.HTML object>"
      ]
     },
     "metadata": {},
     "output_type": "display_data"
    },
    {
     "data": {
      "text/html": [
       "<style type=\"text/css\">\n",
       "\ttable {border:ridge 5px;}\n",
       "\ttable td {border:inset 1px;}\n",
       "\ttable tr#HeaderRow {background-color:grey; color:white;}</style>\n",
       "<html><table>\n",
       "\t<tr id=\"HeaderRow\">\n",
       "\t\t<th>fare</th>\n",
       "\t\t<th>sex</th>\n",
       "\t\t<th>passenger</th>\n",
       "\t\t<th>parch</th>\n",
       "\t\t<th>embarked</th>\n",
       "\t\t<th>id</th>\n",
       "\t\t<th>age</th>\n",
       "\t\t<th>sibsp</th>\n",
       "\t\t<th>pclass</th>\n",
       "\t\t<th>survived</th>\n",
       "\t</tr>\n",
       "\t<tr>\n",
       "\t\t<td>86.5</td>\n",
       "\t\t<td>female</td>\n",
       "\t\t<td>505</td>\n",
       "\t\t<td>0</td>\n",
       "\t\t<td>S</td>\n",
       "\t\t<td>12</td>\n",
       "\t\t<td>16</td>\n",
       "\t\t<td>0</td>\n",
       "\t\t<td>1</td>\n",
       "\t\t<td>1</td>\n",
       "\t</tr>\n",
       "\t<tr>\n",
       "\t\t<td>23.0</td>\n",
       "\t\t<td>female</td>\n",
       "\t\t<td>99</td>\n",
       "\t\t<td>1</td>\n",
       "\t\t<td>S</td>\n",
       "\t\t<td>13</td>\n",
       "\t\t<td>34</td>\n",
       "\t\t<td>0</td>\n",
       "\t\t<td>2</td>\n",
       "\t\t<td>1</td>\n",
       "\t</tr>\n",
       "\t<tr>\n",
       "\t\t<td>151.55</td>\n",
       "\t\t<td>female</td>\n",
       "\t\t<td>709</td>\n",
       "\t\t<td>0</td>\n",
       "\t\t<td>S</td>\n",
       "\t\t<td>21</td>\n",
       "\t\t<td>22</td>\n",
       "\t\t<td>0</td>\n",
       "\t\t<td>1</td>\n",
       "\t\t<td>1</td>\n",
       "\t</tr>\n",
       "\t<tr>\n",
       "\t\t<td>7.225</td>\n",
       "\t\t<td>male</td>\n",
       "\t\t<td>774</td>\n",
       "\t\t<td>0</td>\n",
       "\t\t<td>C</td>\n",
       "\t\t<td>8</td>\n",
       "\t\t<td>None</td>\n",
       "\t\t<td>0</td>\n",
       "\t\t<td>3</td>\n",
       "\t\t<td>0</td>\n",
       "\t</tr>\n",
       "\t<tr>\n",
       "\t\t<td>11.5</td>\n",
       "\t\t<td>male</td>\n",
       "\t\t<td>530</td>\n",
       "\t\t<td>1</td>\n",
       "\t\t<td>S</td>\n",
       "\t\t<td>9</td>\n",
       "\t\t<td>23</td>\n",
       "\t\t<td>2</td>\n",
       "\t\t<td>2</td>\n",
       "\t\t<td>0</td>\n",
       "\t</tr>\n",
       "\t<tr>\n",
       "\t\t<td>8.05</td>\n",
       "\t\t<td>male</td>\n",
       "\t\t<td>284</td>\n",
       "\t\t<td>0</td>\n",
       "\t\t<td>S</td>\n",
       "\t\t<td>17</td>\n",
       "\t\t<td>19</td>\n",
       "\t\t<td>0</td>\n",
       "\t\t<td>3</td>\n",
       "\t\t<td>1</td>\n",
       "\t</tr>\n",
       "\t<tr>\n",
       "\t\t<td>7.125</td>\n",
       "\t\t<td>male</td>\n",
       "\t\t<td>244</td>\n",
       "\t\t<td>0</td>\n",
       "\t\t<td>S</td>\n",
       "\t\t<td>14</td>\n",
       "\t\t<td>22</td>\n",
       "\t\t<td>0</td>\n",
       "\t\t<td>3</td>\n",
       "\t\t<td>0</td>\n",
       "\t</tr>\n",
       "\t<tr>\n",
       "\t\t<td>24.0</td>\n",
       "\t\t<td>female</td>\n",
       "\t\t<td>875</td>\n",
       "\t\t<td>0</td>\n",
       "\t\t<td>C</td>\n",
       "\t\t<td>22</td>\n",
       "\t\t<td>28</td>\n",
       "\t\t<td>1</td>\n",
       "\t\t<td>2</td>\n",
       "\t\t<td>1</td>\n",
       "\t</tr>\n",
       "\t<tr>\n",
       "\t\t<td>7.925</td>\n",
       "\t\t<td>male</td>\n",
       "\t\t<td>383</td>\n",
       "\t\t<td>0</td>\n",
       "\t\t<td>S</td>\n",
       "\t\t<td>10</td>\n",
       "\t\t<td>32</td>\n",
       "\t\t<td>0</td>\n",
       "\t\t<td>3</td>\n",
       "\t\t<td>0</td>\n",
       "\t</tr>\n",
       "\t<tr>\n",
       "\t\t<td>14.4542</td>\n",
       "\t\t<td>female</td>\n",
       "\t\t<td>831</td>\n",
       "\t\t<td>0</td>\n",
       "\t\t<td>C</td>\n",
       "\t\t<td>18</td>\n",
       "\t\t<td>15</td>\n",
       "\t\t<td>1</td>\n",
       "\t\t<td>3</td>\n",
       "\t\t<td>1</td>\n",
       "\t</tr>\n",
       "</table></html>"
      ],
      "text/plain": [
       "       fare     sex  passenger  parch embarked  id   age  sibsp  pclass  survived\n",
       "0   86.5000  female        505      0        S  12  16.0      0       1         1\n",
       "1   23.0000  female         99      1        S  13  34.0      0       2         1\n",
       "2  151.5500  female        709      0        S  21  22.0      0       1         1\n",
       "3    7.2250    male        774      0        C   8   NaN      0       3         0\n",
       "4   11.5000    male        530      1        S   9  23.0      2       2         0\n",
       "5    8.0500    male        284      0        S  17  19.0      0       3         1\n",
       "6    7.1250    male        244      0        S  14  22.0      0       3         0\n",
       "7   24.0000  female        875      0        C  22  28.0      1       2         1\n",
       "8    7.9250    male        383      0        S  10  32.0      0       3         0\n",
       "9   14.4542  female        831      0        C  18  15.0      1       3         1"
      ]
     },
     "metadata": {},
     "output_type": "display_data"
    },
    {
     "name": "stdout",
     "output_type": "stream",
     "text": [
      "                                                                                                 \r"
     ]
    },
    {
     "data": {
      "text/html": [
       "178 rows X 10 columns"
      ],
      "text/plain": [
       "<IPython.core.display.HTML object>"
      ]
     },
     "metadata": {},
     "output_type": "display_data"
    },
    {
     "name": "stdout",
     "output_type": "stream",
     "text": [
      "                                                                                                 \r"
     ]
    },
    {
     "data": {
      "text/html": [
       "\n",
       "Updated dataset after imputing customized missing value containing columns :"
      ],
      "text/plain": [
       "<IPython.core.display.HTML object>"
      ]
     },
     "metadata": {},
     "output_type": "display_data"
    },
    {
     "data": {
      "text/html": [
       "<style type=\"text/css\">\n",
       "\ttable {border:ridge 5px;}\n",
       "\ttable td {border:inset 1px;}\n",
       "\ttable tr#HeaderRow {background-color:grey; color:white;}</style>\n",
       "<html><table>\n",
       "\t<tr id=\"HeaderRow\">\n",
       "\t\t<th>fare</th>\n",
       "\t\t<th>sex</th>\n",
       "\t\t<th>passenger</th>\n",
       "\t\t<th>parch</th>\n",
       "\t\t<th>embarked</th>\n",
       "\t\t<th>id</th>\n",
       "\t\t<th>age</th>\n",
       "\t\t<th>sibsp</th>\n",
       "\t\t<th>pclass</th>\n",
       "\t\t<th>survived</th>\n",
       "\t</tr>\n",
       "\t<tr>\n",
       "\t\t<td>26.55</td>\n",
       "\t\t<td>male</td>\n",
       "\t\t<td>448</td>\n",
       "\t\t<td>0</td>\n",
       "\t\t<td>S</td>\n",
       "\t\t<td>11</td>\n",
       "\t\t<td>34</td>\n",
       "\t\t<td>0</td>\n",
       "\t\t<td>1</td>\n",
       "\t\t<td>1</td>\n",
       "\t</tr>\n",
       "\t<tr>\n",
       "\t\t<td>9.5</td>\n",
       "\t\t<td>male</td>\n",
       "\t\t<td>753</td>\n",
       "\t\t<td>0</td>\n",
       "\t\t<td>S</td>\n",
       "\t\t<td>15</td>\n",
       "\t\t<td>33</td>\n",
       "\t\t<td>0</td>\n",
       "\t\t<td>3</td>\n",
       "\t\t<td>0</td>\n",
       "\t</tr>\n",
       "\t<tr>\n",
       "\t\t<td>39.0</td>\n",
       "\t\t<td>female</td>\n",
       "\t\t<td>671</td>\n",
       "\t\t<td>1</td>\n",
       "\t\t<td>S</td>\n",
       "\t\t<td>23</td>\n",
       "\t\t<td>40</td>\n",
       "\t\t<td>1</td>\n",
       "\t\t<td>2</td>\n",
       "\t\t<td>1</td>\n",
       "\t</tr>\n",
       "\t<tr>\n",
       "\t\t<td>23.0</td>\n",
       "\t\t<td>female</td>\n",
       "\t\t<td>99</td>\n",
       "\t\t<td>1</td>\n",
       "\t\t<td>S</td>\n",
       "\t\t<td>13</td>\n",
       "\t\t<td>34</td>\n",
       "\t\t<td>0</td>\n",
       "\t\t<td>2</td>\n",
       "\t\t<td>1</td>\n",
       "\t</tr>\n",
       "\t<tr>\n",
       "\t\t<td>7.925</td>\n",
       "\t\t<td>male</td>\n",
       "\t\t<td>383</td>\n",
       "\t\t<td>0</td>\n",
       "\t\t<td>S</td>\n",
       "\t\t<td>10</td>\n",
       "\t\t<td>32</td>\n",
       "\t\t<td>0</td>\n",
       "\t\t<td>3</td>\n",
       "\t\t<td>0</td>\n",
       "\t</tr>\n",
       "\t<tr>\n",
       "\t\t<td>14.4542</td>\n",
       "\t\t<td>female</td>\n",
       "\t\t<td>831</td>\n",
       "\t\t<td>0</td>\n",
       "\t\t<td>C</td>\n",
       "\t\t<td>18</td>\n",
       "\t\t<td>15</td>\n",
       "\t\t<td>1</td>\n",
       "\t\t<td>3</td>\n",
       "\t\t<td>1</td>\n",
       "\t</tr>\n",
       "\t<tr>\n",
       "\t\t<td>86.5</td>\n",
       "\t\t<td>female</td>\n",
       "\t\t<td>505</td>\n",
       "\t\t<td>0</td>\n",
       "\t\t<td>S</td>\n",
       "\t\t<td>12</td>\n",
       "\t\t<td>16</td>\n",
       "\t\t<td>0</td>\n",
       "\t\t<td>1</td>\n",
       "\t\t<td>1</td>\n",
       "\t</tr>\n",
       "\t<tr>\n",
       "\t\t<td>512.3292</td>\n",
       "\t\t<td>female</td>\n",
       "\t\t<td>259</td>\n",
       "\t\t<td>0</td>\n",
       "\t\t<td>C</td>\n",
       "\t\t<td>20</td>\n",
       "\t\t<td>35</td>\n",
       "\t\t<td>0</td>\n",
       "\t\t<td>1</td>\n",
       "\t\t<td>1</td>\n",
       "\t</tr>\n",
       "\t<tr>\n",
       "\t\t<td>7.125</td>\n",
       "\t\t<td>male</td>\n",
       "\t\t<td>244</td>\n",
       "\t\t<td>0</td>\n",
       "\t\t<td>S</td>\n",
       "\t\t<td>14</td>\n",
       "\t\t<td>22</td>\n",
       "\t\t<td>0</td>\n",
       "\t\t<td>3</td>\n",
       "\t\t<td>0</td>\n",
       "\t</tr>\n",
       "\t<tr>\n",
       "\t\t<td>24.0</td>\n",
       "\t\t<td>female</td>\n",
       "\t\t<td>875</td>\n",
       "\t\t<td>0</td>\n",
       "\t\t<td>C</td>\n",
       "\t\t<td>22</td>\n",
       "\t\t<td>28</td>\n",
       "\t\t<td>1</td>\n",
       "\t\t<td>2</td>\n",
       "\t\t<td>1</td>\n",
       "\t</tr>\n",
       "</table></html>"
      ],
      "text/plain": [
       "       fare     sex  passenger  parch embarked  id  age  sibsp  pclass  survived\n",
       "0   26.5500    male        448      0        S  11   34      0       1         1\n",
       "1    9.5000    male        753      0        S  15   33      0       3         0\n",
       "2   39.0000  female        671      1        S  23   40      1       2         1\n",
       "3   23.0000  female         99      1        S  13   34      0       2         1\n",
       "4    7.9250    male        383      0        S  10   32      0       3         0\n",
       "5   14.4542  female        831      0        C  18   15      1       3         1\n",
       "6   86.5000  female        505      0        S  12   16      0       1         1\n",
       "7  512.3292  female        259      0        C  20   35      0       1         1\n",
       "8    7.1250    male        244      0        S  14   22      0       3         0\n",
       "9   24.0000  female        875      0        C  22   28      1       2         1"
      ]
     },
     "metadata": {},
     "output_type": "display_data"
    },
    {
     "name": "stdout",
     "output_type": "stream",
     "text": [
      "                                                                                                 \r"
     ]
    },
    {
     "data": {
      "text/html": [
       "178 rows X 10 columns"
      ],
      "text/plain": [
       "<IPython.core.display.HTML object>"
      ]
     },
     "metadata": {},
     "output_type": "display_data"
    },
    {
     "name": "stdout",
     "output_type": "stream",
     "text": [
      "result data stored in table '\"ALICE\".\"ml__td_sqlmr_persist_out__1719263345787569\"'⫾⫾⫾｜ 33% - 5/15\n",
      "                                                                                                 \r"
     ]
    },
    {
     "data": {
      "text/html": [
       "\n",
       "Updated dataset after performing customized variable width bin-code transformation :"
      ],
      "text/plain": [
       "<IPython.core.display.HTML object>"
      ]
     },
     "metadata": {},
     "output_type": "display_data"
    },
    {
     "data": {
      "text/html": [
       "<style type=\"text/css\">\n",
       "\ttable {border:ridge 5px;}\n",
       "\ttable td {border:inset 1px;}\n",
       "\ttable tr#HeaderRow {background-color:grey; color:white;}</style>\n",
       "<html><table>\n",
       "\t<tr id=\"HeaderRow\">\n",
       "\t\t<th>fare</th>\n",
       "\t\t<th>sex</th>\n",
       "\t\t<th>passenger</th>\n",
       "\t\t<th>parch</th>\n",
       "\t\t<th>embarked</th>\n",
       "\t\t<th>id</th>\n",
       "\t\t<th>survived</th>\n",
       "\t\t<th>age</th>\n",
       "\t\t<th>sibsp</th>\n",
       "\t\t<th>pclass</th>\n",
       "\t</tr>\n",
       "\t<tr>\n",
       "\t\t<td>7.2292</td>\n",
       "\t\t<td>male</td>\n",
       "\t\t<td>525</td>\n",
       "\t\t<td>0</td>\n",
       "\t\t<td>C</td>\n",
       "\t\t<td>114</td>\n",
       "\t\t<td>0</td>\n",
       "\t\t<td>28</td>\n",
       "\t\t<td>0</td>\n",
       "\t\t<td>high</td>\n",
       "\t</tr>\n",
       "\t<tr>\n",
       "\t\t<td>7.925</td>\n",
       "\t\t<td>male</td>\n",
       "\t\t<td>393</td>\n",
       "\t\t<td>0</td>\n",
       "\t\t<td>S</td>\n",
       "\t\t<td>172</td>\n",
       "\t\t<td>0</td>\n",
       "\t\t<td>28</td>\n",
       "\t\t<td>2</td>\n",
       "\t\t<td>high</td>\n",
       "\t</tr>\n",
       "\t<tr>\n",
       "\t\t<td>7.925</td>\n",
       "\t\t<td>male</td>\n",
       "\t\t<td>745</td>\n",
       "\t\t<td>0</td>\n",
       "\t\t<td>S</td>\n",
       "\t\t<td>53</td>\n",
       "\t\t<td>1</td>\n",
       "\t\t<td>31</td>\n",
       "\t\t<td>0</td>\n",
       "\t\t<td>high</td>\n",
       "\t</tr>\n",
       "\t<tr>\n",
       "\t\t<td>7.925</td>\n",
       "\t\t<td>male</td>\n",
       "\t\t<td>383</td>\n",
       "\t\t<td>0</td>\n",
       "\t\t<td>S</td>\n",
       "\t\t<td>10</td>\n",
       "\t\t<td>0</td>\n",
       "\t\t<td>32</td>\n",
       "\t\t<td>0</td>\n",
       "\t\t<td>high</td>\n",
       "\t</tr>\n",
       "\t<tr>\n",
       "\t\t<td>7.925</td>\n",
       "\t\t<td>male</td>\n",
       "\t\t<td>580</td>\n",
       "\t\t<td>0</td>\n",
       "\t\t<td>S</td>\n",
       "\t\t<td>126</td>\n",
       "\t\t<td>1</td>\n",
       "\t\t<td>32</td>\n",
       "\t\t<td>0</td>\n",
       "\t\t<td>high</td>\n",
       "\t</tr>\n",
       "\t<tr>\n",
       "\t\t<td>7.925</td>\n",
       "\t\t<td>male</td>\n",
       "\t\t<td>841</td>\n",
       "\t\t<td>0</td>\n",
       "\t\t<td>S</td>\n",
       "\t\t<td>195</td>\n",
       "\t\t<td>0</td>\n",
       "\t\t<td>20</td>\n",
       "\t\t<td>0</td>\n",
       "\t\t<td>high</td>\n",
       "\t</tr>\n",
       "\t<tr>\n",
       "\t\t<td>7.925</td>\n",
       "\t\t<td>male</td>\n",
       "\t\t<td>174</td>\n",
       "\t\t<td>0</td>\n",
       "\t\t<td>S</td>\n",
       "\t\t<td>191</td>\n",
       "\t\t<td>0</td>\n",
       "\t\t<td>21</td>\n",
       "\t\t<td>0</td>\n",
       "\t\t<td>high</td>\n",
       "\t</tr>\n",
       "\t<tr>\n",
       "\t\t<td>13.8625</td>\n",
       "\t\t<td>male</td>\n",
       "\t\t<td>548</td>\n",
       "\t\t<td>0</td>\n",
       "\t\t<td>C</td>\n",
       "\t\t<td>74</td>\n",
       "\t\t<td>1</td>\n",
       "\t\t<td>28</td>\n",
       "\t\t<td>0</td>\n",
       "\t\t<td>high</td>\n",
       "\t</tr>\n",
       "\t<tr>\n",
       "\t\t<td>7.2292</td>\n",
       "\t\t<td>male</td>\n",
       "\t\t<td>297</td>\n",
       "\t\t<td>0</td>\n",
       "\t\t<td>C</td>\n",
       "\t\t<td>63</td>\n",
       "\t\t<td>0</td>\n",
       "\t\t<td>23</td>\n",
       "\t\t<td>0</td>\n",
       "\t\t<td>high</td>\n",
       "\t</tr>\n",
       "\t<tr>\n",
       "\t\t<td>7.2292</td>\n",
       "\t\t<td>male</td>\n",
       "\t\t<td>532</td>\n",
       "\t\t<td>0</td>\n",
       "\t\t<td>C</td>\n",
       "\t\t<td>153</td>\n",
       "\t\t<td>0</td>\n",
       "\t\t<td>28</td>\n",
       "\t\t<td>0</td>\n",
       "\t\t<td>high</td>\n",
       "\t</tr>\n",
       "</table></html>"
      ],
      "text/plain": [
       "          sex  passenger  parch embarked   id  survived  age  sibsp pclass\n",
       "fare                                                                      \n",
       "7.2292   male        525      0        C  114         0   28      0   high\n",
       "7.9250   male        393      0        S  172         0   28      2   high\n",
       "7.9250   male        745      0        S   53         1   31      0   high\n",
       "7.9250   male        383      0        S   10         0   32      0   high\n",
       "7.9250   male        580      0        S  126         1   32      0   high\n",
       "7.9250   male        841      0        S  195         0   20      0   high\n",
       "7.9250   male        174      0        S  191         0   21      0   high\n",
       "13.8625  male        548      0        C   74         1   28      0   high\n",
       "7.2292   male        297      0        C   63         0   23      0   high\n",
       "7.2292   male        532      0        C  153         0   28      0   high"
      ]
     },
     "metadata": {},
     "output_type": "display_data"
    },
    {
     "name": "stdout",
     "output_type": "stream",
     "text": [
      "                                                                                                 \r"
     ]
    },
    {
     "data": {
      "text/html": [
       "178 rows X 10 columns"
      ],
      "text/plain": [
       "<IPython.core.display.HTML object>"
      ]
     },
     "metadata": {},
     "output_type": "display_data"
    },
    {
     "name": "stdout",
     "output_type": "stream",
     "text": [
      "result data stored in table '\"ALICE\".\"ml__td_sqlmr_persist_out__1719263382743276\"'⫾⫾⫾｜ 46% - 7/15\n",
      "result data stored in table '\"ALICE\".\"ml__td_sqlmr_persist_out__1719264872092877\"'\n",
      "                                                                                                 \r"
     ]
    },
    {
     "data": {
      "text/html": [
       "\n",
       "Updated dataset after performing customized categorical encoding :"
      ],
      "text/plain": [
       "<IPython.core.display.HTML object>"
      ]
     },
     "metadata": {},
     "output_type": "display_data"
    },
    {
     "data": {
      "text/html": [
       "<style type=\"text/css\">\n",
       "\ttable {border:ridge 5px;}\n",
       "\ttable td {border:inset 1px;}\n",
       "\ttable tr#HeaderRow {background-color:grey; color:white;}</style>\n",
       "<html><table>\n",
       "\t<tr id=\"HeaderRow\">\n",
       "\t\t<th>embarked</th>\n",
       "\t\t<th>fare</th>\n",
       "\t\t<th>sex</th>\n",
       "\t\t<th>passenger</th>\n",
       "\t\t<th>parch</th>\n",
       "\t\t<th>id</th>\n",
       "\t\t<th>survived</th>\n",
       "\t\t<th>age</th>\n",
       "\t\t<th>sibsp</th>\n",
       "\t\t<th>pclass</th>\n",
       "\t</tr>\n",
       "\t<tr>\n",
       "\t\t<td>0.5428571428571428</td>\n",
       "\t\t<td>14.4542</td>\n",
       "\t\t<td>female</td>\n",
       "\t\t<td>831</td>\n",
       "\t\t<td>0</td>\n",
       "\t\t<td>18</td>\n",
       "\t\t<td>1</td>\n",
       "\t\t<td>15</td>\n",
       "\t\t<td>1</td>\n",
       "\t\t<td>0</td>\n",
       "\t</tr>\n",
       "\t<tr>\n",
       "\t\t<td>0.5428571428571428</td>\n",
       "\t\t<td>110.8833</td>\n",
       "\t\t<td>female</td>\n",
       "\t\t<td>307</td>\n",
       "\t\t<td>0</td>\n",
       "\t\t<td>170</td>\n",
       "\t\t<td>1</td>\n",
       "\t\t<td>28</td>\n",
       "\t\t<td>0</td>\n",
       "\t\t<td>1</td>\n",
       "\t</tr>\n",
       "\t<tr>\n",
       "\t\t<td>0.5428571428571428</td>\n",
       "\t\t<td>110.8833</td>\n",
       "\t\t<td>female</td>\n",
       "\t\t<td>582</td>\n",
       "\t\t<td>1</td>\n",
       "\t\t<td>163</td>\n",
       "\t\t<td>1</td>\n",
       "\t\t<td>39</td>\n",
       "\t\t<td>1</td>\n",
       "\t\t<td>1</td>\n",
       "\t</tr>\n",
       "\t<tr>\n",
       "\t\t<td>0.5428571428571428</td>\n",
       "\t\t<td>15.7417</td>\n",
       "\t\t<td>female</td>\n",
       "\t\t<td>382</td>\n",
       "\t\t<td>2</td>\n",
       "\t\t<td>116</td>\n",
       "\t\t<td>1</td>\n",
       "\t\t<td>1</td>\n",
       "\t\t<td>0</td>\n",
       "\t\t<td>0</td>\n",
       "\t</tr>\n",
       "\t<tr>\n",
       "\t\t<td>0.5428571428571428</td>\n",
       "\t\t<td>24.0</td>\n",
       "\t\t<td>female</td>\n",
       "\t\t<td>875</td>\n",
       "\t\t<td>0</td>\n",
       "\t\t<td>22</td>\n",
       "\t\t<td>1</td>\n",
       "\t\t<td>28</td>\n",
       "\t\t<td>1</td>\n",
       "\t\t<td>0</td>\n",
       "\t</tr>\n",
       "\t<tr>\n",
       "\t\t<td>0.5428571428571428</td>\n",
       "\t\t<td>19.2583</td>\n",
       "\t\t<td>female</td>\n",
       "\t\t<td>470</td>\n",
       "\t\t<td>1</td>\n",
       "\t\t<td>100</td>\n",
       "\t\t<td>1</td>\n",
       "\t\t<td>0</td>\n",
       "\t\t<td>2</td>\n",
       "\t\t<td>0</td>\n",
       "\t</tr>\n",
       "\t<tr>\n",
       "\t\t<td>0.38235294117647056</td>\n",
       "\t\t<td>8.1375</td>\n",
       "\t\t<td>female</td>\n",
       "\t\t<td>681</td>\n",
       "\t\t<td>0</td>\n",
       "\t\t<td>138</td>\n",
       "\t\t<td>0</td>\n",
       "\t\t<td>28</td>\n",
       "\t\t<td>0</td>\n",
       "\t\t<td>0</td>\n",
       "\t</tr>\n",
       "\t<tr>\n",
       "\t\t<td>0.38235294117647056</td>\n",
       "\t\t<td>6.75</td>\n",
       "\t\t<td>male</td>\n",
       "\t\t<td>144</td>\n",
       "\t\t<td>0</td>\n",
       "\t\t<td>91</td>\n",
       "\t\t<td>0</td>\n",
       "\t\t<td>19</td>\n",
       "\t\t<td>0</td>\n",
       "\t\t<td>0</td>\n",
       "\t</tr>\n",
       "\t<tr>\n",
       "\t\t<td>0.38235294117647056</td>\n",
       "\t\t<td>7.75</td>\n",
       "\t\t<td>female</td>\n",
       "\t\t<td>33</td>\n",
       "\t\t<td>0</td>\n",
       "\t\t<td>97</td>\n",
       "\t\t<td>1</td>\n",
       "\t\t<td>28</td>\n",
       "\t\t<td>0</td>\n",
       "\t\t<td>0</td>\n",
       "\t</tr>\n",
       "\t<tr>\n",
       "\t\t<td>0.38235294117647056</td>\n",
       "\t\t<td>7.75</td>\n",
       "\t\t<td>male</td>\n",
       "\t\t<td>561</td>\n",
       "\t\t<td>0</td>\n",
       "\t\t<td>148</td>\n",
       "\t\t<td>0</td>\n",
       "\t\t<td>28</td>\n",
       "\t\t<td>0</td>\n",
       "\t\t<td>0</td>\n",
       "\t</tr>\n",
       "</table></html>"
      ],
      "text/plain": [
       "              fare     sex  passenger  parch   id  survived  age  sibsp  pclass\n",
       "embarked                                                                       \n",
       "0.542857   14.4542  female        831      0   18         1   15      1       0\n",
       "0.542857  110.8833  female        307      0  170         1   28      0       1\n",
       "0.542857  110.8833  female        582      1  163         1   39      1       1\n",
       "0.542857   15.7417  female        382      2  116         1    1      0       0\n",
       "0.542857   24.0000  female        875      0   22         1   28      1       0\n",
       "0.542857   19.2583  female        470      1  100         1    0      2       0\n",
       "0.382353    8.1375  female        681      0  138         0   28      0       0\n",
       "0.382353    6.7500    male        144      0   91         0   19      0       0\n",
       "0.382353    7.7500  female         33      0   97         1   28      0       0\n",
       "0.382353    7.7500    male        561      0  148         0   28      0       0"
      ]
     },
     "metadata": {},
     "output_type": "display_data"
    },
    {
     "name": "stdout",
     "output_type": "stream",
     "text": [
      "                                                                                                 \r"
     ]
    },
    {
     "data": {
      "text/html": [
       "178 rows X 10 columns"
      ],
      "text/plain": [
       "<IPython.core.display.HTML object>"
      ]
     },
     "metadata": {},
     "output_type": "display_data"
    },
    {
     "name": "stdout",
     "output_type": "stream",
     "text": [
      "result data stored in table '\"ALICE\".\"ml__td_sqlmr_persist_out__1719264295526161\"'⫾⫾⫾｜ 46% - 7/15\n",
      "                                                                                                 \r"
     ]
    },
    {
     "data": {
      "text/html": [
       "\n",
       "Updated dataset after performing categorical encoding :"
      ],
      "text/plain": [
       "<IPython.core.display.HTML object>"
      ]
     },
     "metadata": {},
     "output_type": "display_data"
    },
    {
     "data": {
      "text/html": [
       "<style type=\"text/css\">\n",
       "\ttable {border:ridge 5px;}\n",
       "\ttable td {border:inset 1px;}\n",
       "\ttable tr#HeaderRow {background-color:grey; color:white;}</style>\n",
       "<html><table>\n",
       "\t<tr id=\"HeaderRow\">\n",
       "\t\t<th>embarked</th>\n",
       "\t\t<th>fare</th>\n",
       "\t\t<th>sex_0</th>\n",
       "\t\t<th>sex_1</th>\n",
       "\t\t<th>passenger</th>\n",
       "\t\t<th>parch</th>\n",
       "\t\t<th>id</th>\n",
       "\t\t<th>survived</th>\n",
       "\t\t<th>age</th>\n",
       "\t\t<th>sibsp</th>\n",
       "\t\t<th>pclass</th>\n",
       "\t</tr>\n",
       "\t<tr>\n",
       "\t\t<td>0.5428571428571428</td>\n",
       "\t\t<td>110.8833</td>\n",
       "\t\t<td>1</td>\n",
       "\t\t<td>0</td>\n",
       "\t\t<td>582</td>\n",
       "\t\t<td>1</td>\n",
       "\t\t<td>163</td>\n",
       "\t\t<td>1</td>\n",
       "\t\t<td>39</td>\n",
       "\t\t<td>1</td>\n",
       "\t\t<td>1</td>\n",
       "\t</tr>\n",
       "\t<tr>\n",
       "\t\t<td>0.5428571428571428</td>\n",
       "\t\t<td>24.0</td>\n",
       "\t\t<td>1</td>\n",
       "\t\t<td>0</td>\n",
       "\t\t<td>875</td>\n",
       "\t\t<td>0</td>\n",
       "\t\t<td>22</td>\n",
       "\t\t<td>1</td>\n",
       "\t\t<td>28</td>\n",
       "\t\t<td>1</td>\n",
       "\t\t<td>0</td>\n",
       "\t</tr>\n",
       "\t<tr>\n",
       "\t\t<td>0.5428571428571428</td>\n",
       "\t\t<td>19.2583</td>\n",
       "\t\t<td>1</td>\n",
       "\t\t<td>0</td>\n",
       "\t\t<td>470</td>\n",
       "\t\t<td>1</td>\n",
       "\t\t<td>100</td>\n",
       "\t\t<td>1</td>\n",
       "\t\t<td>0</td>\n",
       "\t\t<td>2</td>\n",
       "\t\t<td>0</td>\n",
       "\t</tr>\n",
       "\t<tr>\n",
       "\t\t<td>0.5428571428571428</td>\n",
       "\t\t<td>113.275</td>\n",
       "\t\t<td>0</td>\n",
       "\t\t<td>1</td>\n",
       "\t\t<td>660</td>\n",
       "\t\t<td>2</td>\n",
       "\t\t<td>171</td>\n",
       "\t\t<td>0</td>\n",
       "\t\t<td>58</td>\n",
       "\t\t<td>0</td>\n",
       "\t\t<td>1</td>\n",
       "\t</tr>\n",
       "\t<tr>\n",
       "\t\t<td>0.5428571428571428</td>\n",
       "\t\t<td>7.8958</td>\n",
       "\t\t<td>0</td>\n",
       "\t\t<td>1</td>\n",
       "\t\t<td>848</td>\n",
       "\t\t<td>0</td>\n",
       "\t\t<td>34</td>\n",
       "\t\t<td>0</td>\n",
       "\t\t<td>35</td>\n",
       "\t\t<td>0</td>\n",
       "\t\t<td>0</td>\n",
       "\t</tr>\n",
       "\t<tr>\n",
       "\t\t<td>0.5428571428571428</td>\n",
       "\t\t<td>13.7917</td>\n",
       "\t\t<td>1</td>\n",
       "\t\t<td>0</td>\n",
       "\t\t<td>474</td>\n",
       "\t\t<td>0</td>\n",
       "\t\t<td>103</td>\n",
       "\t\t<td>1</td>\n",
       "\t\t<td>23</td>\n",
       "\t\t<td>0</td>\n",
       "\t\t<td>0</td>\n",
       "\t</tr>\n",
       "\t<tr>\n",
       "\t\t<td>0.33267716535433073</td>\n",
       "\t\t<td>7.925</td>\n",
       "\t\t<td>0</td>\n",
       "\t\t<td>1</td>\n",
       "\t\t<td>393</td>\n",
       "\t\t<td>0</td>\n",
       "\t\t<td>172</td>\n",
       "\t\t<td>0</td>\n",
       "\t\t<td>28</td>\n",
       "\t\t<td>2</td>\n",
       "\t\t<td>0</td>\n",
       "\t</tr>\n",
       "\t<tr>\n",
       "\t\t<td>0.33267716535433073</td>\n",
       "\t\t<td>25.9292</td>\n",
       "\t\t<td>1</td>\n",
       "\t\t<td>0</td>\n",
       "\t\t<td>863</td>\n",
       "\t\t<td>0</td>\n",
       "\t\t<td>66</td>\n",
       "\t\t<td>1</td>\n",
       "\t\t<td>48</td>\n",
       "\t\t<td>0</td>\n",
       "\t\t<td>1</td>\n",
       "\t</tr>\n",
       "\t<tr>\n",
       "\t\t<td>0.33267716535433073</td>\n",
       "\t\t<td>25.9292</td>\n",
       "\t\t<td>1</td>\n",
       "\t\t<td>0</td>\n",
       "\t\t<td>797</td>\n",
       "\t\t<td>0</td>\n",
       "\t\t<td>176</td>\n",
       "\t\t<td>1</td>\n",
       "\t\t<td>49</td>\n",
       "\t\t<td>0</td>\n",
       "\t\t<td>1</td>\n",
       "\t</tr>\n",
       "\t<tr>\n",
       "\t\t<td>0.33267716535433073</td>\n",
       "\t\t<td>29.0</td>\n",
       "\t\t<td>0</td>\n",
       "\t\t<td>1</td>\n",
       "\t\t<td>79</td>\n",
       "\t\t<td>2</td>\n",
       "\t\t<td>151</td>\n",
       "\t\t<td>1</td>\n",
       "\t\t<td>0</td>\n",
       "\t\t<td>0</td>\n",
       "\t\t<td>0</td>\n",
       "\t</tr>\n",
       "</table></html>"
      ],
      "text/plain": [
       "              fare  sex_0  sex_1  passenger  parch   id  survived  age  sibsp  pclass\n",
       "embarked                                                                             \n",
       "0.542857  110.8833      1      0        582      1  163         1   39      1       1\n",
       "0.542857   24.0000      1      0        875      0   22         1   28      1       0\n",
       "0.542857   19.2583      1      0        470      1  100         1    0      2       0\n",
       "0.542857  113.2750      0      1        660      2  171         0   58      0       1\n",
       "0.542857    7.8958      0      1        848      0   34         0   35      0       0\n",
       "0.542857   13.7917      1      0        474      0  103         1   23      0       0\n",
       "0.332677    7.9250      0      1        393      0  172         0   28      2       0\n",
       "0.332677   25.9292      1      0        863      0   66         1   48      0       1\n",
       "0.332677   25.9292      1      0        797      0  176         1   49      0       1\n",
       "0.332677   29.0000      0      1         79      2  151         1    0      0       0"
      ]
     },
     "metadata": {},
     "output_type": "display_data"
    },
    {
     "name": "stdout",
     "output_type": "stream",
     "text": [
      "                                                                                                 \r"
     ]
    },
    {
     "data": {
      "text/html": [
       "178 rows X 11 columns"
      ],
      "text/plain": [
       "<IPython.core.display.HTML object>"
      ]
     },
     "metadata": {},
     "output_type": "display_data"
    },
    {
     "name": "stdout",
     "output_type": "stream",
     "text": [
      "result data stored in table '\"ALICE\".\"ml__td_sqlmr_persist_out__1719269624581290\"'⫾⫾⫾｜ 60% - 9/15\n",
      "                                                                                                 \r"
     ]
    },
    {
     "data": {
      "text/html": [
       "\n",
       "Updated dataset after performing customized non-linear transformation :"
      ],
      "text/plain": [
       "<IPython.core.display.HTML object>"
      ]
     },
     "metadata": {},
     "output_type": "display_data"
    },
    {
     "data": {
      "text/html": [
       "<style type=\"text/css\">\n",
       "\ttable {border:ridge 5px;}\n",
       "\ttable td {border:inset 1px;}\n",
       "\ttable tr#HeaderRow {background-color:grey; color:white;}</style>\n",
       "<html><table>\n",
       "\t<tr id=\"HeaderRow\">\n",
       "\t\t<th>embarked</th>\n",
       "\t\t<th>fare</th>\n",
       "\t\t<th>sex_0</th>\n",
       "\t\t<th>sex_1</th>\n",
       "\t\t<th>passenger</th>\n",
       "\t\t<th>parch</th>\n",
       "\t\t<th>id</th>\n",
       "\t\t<th>survived</th>\n",
       "\t\t<th>age</th>\n",
       "\t\t<th>sibsp</th>\n",
       "\t\t<th>pclass</th>\n",
       "\t\t<th>Family_count</th>\n",
       "\t</tr>\n",
       "\t<tr>\n",
       "\t\t<td>0.38235294117647056</td>\n",
       "\t\t<td>15.5</td>\n",
       "\t\t<td>1</td>\n",
       "\t\t<td>0</td>\n",
       "\t\t<td>658</td>\n",
       "\t\t<td>1.0</td>\n",
       "\t\t<td>180</td>\n",
       "\t\t<td>0</td>\n",
       "\t\t<td>32</td>\n",
       "\t\t<td>1.0</td>\n",
       "\t\t<td>0</td>\n",
       "\t\t<td>3.0</td>\n",
       "\t</tr>\n",
       "\t<tr>\n",
       "\t\t<td>0.38235294117647056</td>\n",
       "\t\t<td>6.75</td>\n",
       "\t\t<td>0</td>\n",
       "\t\t<td>1</td>\n",
       "\t\t<td>144</td>\n",
       "\t\t<td>0.0</td>\n",
       "\t\t<td>91</td>\n",
       "\t\t<td>0</td>\n",
       "\t\t<td>19</td>\n",
       "\t\t<td>0.0</td>\n",
       "\t\t<td>0</td>\n",
       "\t\t<td>1.0</td>\n",
       "\t</tr>\n",
       "\t<tr>\n",
       "\t\t<td>0.38235294117647056</td>\n",
       "\t\t<td>8.1375</td>\n",
       "\t\t<td>1</td>\n",
       "\t\t<td>0</td>\n",
       "\t\t<td>681</td>\n",
       "\t\t<td>0.0</td>\n",
       "\t\t<td>138</td>\n",
       "\t\t<td>0</td>\n",
       "\t\t<td>28</td>\n",
       "\t\t<td>0.0</td>\n",
       "\t\t<td>0</td>\n",
       "\t\t<td>1.0</td>\n",
       "\t</tr>\n",
       "\t<tr>\n",
       "\t\t<td>0.38235294117647056</td>\n",
       "\t\t<td>7.75</td>\n",
       "\t\t<td>0</td>\n",
       "\t\t<td>1</td>\n",
       "\t\t<td>561</td>\n",
       "\t\t<td>0.0</td>\n",
       "\t\t<td>148</td>\n",
       "\t\t<td>0</td>\n",
       "\t\t<td>28</td>\n",
       "\t\t<td>0.0</td>\n",
       "\t\t<td>0</td>\n",
       "\t\t<td>1.0</td>\n",
       "\t</tr>\n",
       "\t<tr>\n",
       "\t\t<td>0.38235294117647056</td>\n",
       "\t\t<td>12.35</td>\n",
       "\t\t<td>0</td>\n",
       "\t\t<td>1</td>\n",
       "\t\t<td>627</td>\n",
       "\t\t<td>0.0</td>\n",
       "\t\t<td>33</td>\n",
       "\t\t<td>0</td>\n",
       "\t\t<td>57</td>\n",
       "\t\t<td>0.0</td>\n",
       "\t\t<td>0</td>\n",
       "\t\t<td>1.0</td>\n",
       "\t</tr>\n",
       "\t<tr>\n",
       "\t\t<td>0.38235294117647056</td>\n",
       "\t\t<td>7.75</td>\n",
       "\t\t<td>1</td>\n",
       "\t\t<td>0</td>\n",
       "\t\t<td>33</td>\n",
       "\t\t<td>0.0</td>\n",
       "\t\t<td>97</td>\n",
       "\t\t<td>1</td>\n",
       "\t\t<td>28</td>\n",
       "\t\t<td>0.0</td>\n",
       "\t\t<td>0</td>\n",
       "\t\t<td>1.0</td>\n",
       "\t</tr>\n",
       "\t<tr>\n",
       "\t\t<td>0.5428571428571428</td>\n",
       "\t\t<td>110.8833</td>\n",
       "\t\t<td>1</td>\n",
       "\t\t<td>0</td>\n",
       "\t\t<td>582</td>\n",
       "\t\t<td>1.0</td>\n",
       "\t\t<td>163</td>\n",
       "\t\t<td>1</td>\n",
       "\t\t<td>39</td>\n",
       "\t\t<td>1.0</td>\n",
       "\t\t<td>1</td>\n",
       "\t\t<td>3.0</td>\n",
       "\t</tr>\n",
       "\t<tr>\n",
       "\t\t<td>0.5428571428571428</td>\n",
       "\t\t<td>24.0</td>\n",
       "\t\t<td>1</td>\n",
       "\t\t<td>0</td>\n",
       "\t\t<td>875</td>\n",
       "\t\t<td>0.0</td>\n",
       "\t\t<td>22</td>\n",
       "\t\t<td>1</td>\n",
       "\t\t<td>28</td>\n",
       "\t\t<td>1.0</td>\n",
       "\t\t<td>0</td>\n",
       "\t\t<td>2.0</td>\n",
       "\t</tr>\n",
       "\t<tr>\n",
       "\t\t<td>0.5428571428571428</td>\n",
       "\t\t<td>19.2583</td>\n",
       "\t\t<td>1</td>\n",
       "\t\t<td>0</td>\n",
       "\t\t<td>470</td>\n",
       "\t\t<td>1.0</td>\n",
       "\t\t<td>100</td>\n",
       "\t\t<td>1</td>\n",
       "\t\t<td>0</td>\n",
       "\t\t<td>2.0</td>\n",
       "\t\t<td>0</td>\n",
       "\t\t<td>4.0</td>\n",
       "\t</tr>\n",
       "\t<tr>\n",
       "\t\t<td>0.5428571428571428</td>\n",
       "\t\t<td>113.275</td>\n",
       "\t\t<td>0</td>\n",
       "\t\t<td>1</td>\n",
       "\t\t<td>660</td>\n",
       "\t\t<td>2.0</td>\n",
       "\t\t<td>171</td>\n",
       "\t\t<td>0</td>\n",
       "\t\t<td>58</td>\n",
       "\t\t<td>0.0</td>\n",
       "\t\t<td>1</td>\n",
       "\t\t<td>3.0</td>\n",
       "\t</tr>\n",
       "</table></html>"
      ],
      "text/plain": [
       "              fare  sex_0  sex_1  passenger  parch   id  survived  age  sibsp  pclass  Family_count\n",
       "embarked                                                                                           \n",
       "0.382353   15.5000      1      0        658    1.0  180         0   32    1.0       0           3.0\n",
       "0.382353    6.7500      0      1        144    0.0   91         0   19    0.0       0           1.0\n",
       "0.382353    8.1375      1      0        681    0.0  138         0   28    0.0       0           1.0\n",
       "0.382353    7.7500      0      1        561    0.0  148         0   28    0.0       0           1.0\n",
       "0.382353   12.3500      0      1        627    0.0   33         0   57    0.0       0           1.0\n",
       "0.382353    7.7500      1      0         33    0.0   97         1   28    0.0       0           1.0\n",
       "0.542857  110.8833      1      0        582    1.0  163         1   39    1.0       1           3.0\n",
       "0.542857   24.0000      1      0        875    0.0   22         1   28    1.0       0           2.0\n",
       "0.542857   19.2583      1      0        470    1.0  100         1    0    2.0       0           4.0\n",
       "0.542857  113.2750      0      1        660    2.0  171         0   58    0.0       1           3.0"
      ]
     },
     "metadata": {},
     "output_type": "display_data"
    },
    {
     "name": "stdout",
     "output_type": "stream",
     "text": [
      "                                                                                                 \r"
     ]
    },
    {
     "data": {
      "text/html": [
       "178 rows X 12 columns"
      ],
      "text/plain": [
       "<IPython.core.display.HTML object>"
      ]
     },
     "metadata": {},
     "output_type": "display_data"
    },
    {
     "name": "stdout",
     "output_type": "stream",
     "text": [
      "                                                                                                  \r"
     ]
    },
    {
     "data": {
      "text/html": [
       "\n",
       "Updated dataset after performing customized anti-selection :"
      ],
      "text/plain": [
       "<IPython.core.display.HTML object>"
      ]
     },
     "metadata": {},
     "output_type": "display_data"
    },
    {
     "data": {
      "text/html": [
       "<style type=\"text/css\">\n",
       "\ttable {border:ridge 5px;}\n",
       "\ttable td {border:inset 1px;}\n",
       "\ttable tr#HeaderRow {background-color:grey; color:white;}</style>\n",
       "<html><table>\n",
       "\t<tr id=\"HeaderRow\">\n",
       "\t\t<th>embarked</th>\n",
       "\t\t<th>fare</th>\n",
       "\t\t<th>sex_0</th>\n",
       "\t\t<th>sex_1</th>\n",
       "\t\t<th>parch</th>\n",
       "\t\t<th>id</th>\n",
       "\t\t<th>survived</th>\n",
       "\t\t<th>age</th>\n",
       "\t\t<th>sibsp</th>\n",
       "\t\t<th>pclass</th>\n",
       "\t\t<th>Family_count</th>\n",
       "\t</tr>\n",
       "\t<tr>\n",
       "\t\t<td>0.33267716535433073</td>\n",
       "\t\t<td>7.8542</td>\n",
       "\t\t<td>1</td>\n",
       "\t\t<td>0</td>\n",
       "\t\t<td>0.0</td>\n",
       "\t\t<td>199</td>\n",
       "\t\t<td>1</td>\n",
       "\t\t<td>19</td>\n",
       "\t\t<td>1.0</td>\n",
       "\t\t<td>0</td>\n",
       "\t\t<td>2.0</td>\n",
       "\t</tr>\n",
       "\t<tr>\n",
       "\t\t<td>0.33267716535433073</td>\n",
       "\t\t<td>65.0</td>\n",
       "\t\t<td>1</td>\n",
       "\t\t<td>0</td>\n",
       "\t\t<td>2.0</td>\n",
       "\t\t<td>158</td>\n",
       "\t\t<td>1</td>\n",
       "\t\t<td>24</td>\n",
       "\t\t<td>1.0</td>\n",
       "\t\t<td>0</td>\n",
       "\t\t<td>4.0</td>\n",
       "\t</tr>\n",
       "\t<tr>\n",
       "\t\t<td>0.33267716535433073</td>\n",
       "\t\t<td>7.125</td>\n",
       "\t\t<td>0</td>\n",
       "\t\t<td>1</td>\n",
       "\t\t<td>0.0</td>\n",
       "\t\t<td>14</td>\n",
       "\t\t<td>0</td>\n",
       "\t\t<td>22</td>\n",
       "\t\t<td>0.0</td>\n",
       "\t\t<td>0</td>\n",
       "\t\t<td>1.0</td>\n",
       "\t</tr>\n",
       "\t<tr>\n",
       "\t\t<td>0.33267716535433073</td>\n",
       "\t\t<td>7.875</td>\n",
       "\t\t<td>0</td>\n",
       "\t\t<td>1</td>\n",
       "\t\t<td>0.0</td>\n",
       "\t\t<td>26</td>\n",
       "\t\t<td>0</td>\n",
       "\t\t<td>29</td>\n",
       "\t\t<td>0.0</td>\n",
       "\t\t<td>0</td>\n",
       "\t\t<td>1.0</td>\n",
       "\t</tr>\n",
       "\t<tr>\n",
       "\t\t<td>0.33267716535433073</td>\n",
       "\t\t<td>8.1125</td>\n",
       "\t\t<td>0</td>\n",
       "\t\t<td>1</td>\n",
       "\t\t<td>0.0</td>\n",
       "\t\t<td>123</td>\n",
       "\t\t<td>1</td>\n",
       "\t\t<td>28</td>\n",
       "\t\t<td>0.0</td>\n",
       "\t\t<td>0</td>\n",
       "\t\t<td>1.0</td>\n",
       "\t</tr>\n",
       "\t<tr>\n",
       "\t\t<td>0.33267716535433073</td>\n",
       "\t\t<td>211.3375</td>\n",
       "\t\t<td>1</td>\n",
       "\t\t<td>0</td>\n",
       "\t\t<td>0.0</td>\n",
       "\t\t<td>115</td>\n",
       "\t\t<td>1</td>\n",
       "\t\t<td>29</td>\n",
       "\t\t<td>0.0</td>\n",
       "\t\t<td>1</td>\n",
       "\t\t<td>1.0</td>\n",
       "\t</tr>\n",
       "\t<tr>\n",
       "\t\t<td>0.5428571428571428</td>\n",
       "\t\t<td>110.8833</td>\n",
       "\t\t<td>1</td>\n",
       "\t\t<td>0</td>\n",
       "\t\t<td>1.0</td>\n",
       "\t\t<td>163</td>\n",
       "\t\t<td>1</td>\n",
       "\t\t<td>39</td>\n",
       "\t\t<td>1.0</td>\n",
       "\t\t<td>1</td>\n",
       "\t\t<td>3.0</td>\n",
       "\t</tr>\n",
       "\t<tr>\n",
       "\t\t<td>0.5428571428571428</td>\n",
       "\t\t<td>24.0</td>\n",
       "\t\t<td>1</td>\n",
       "\t\t<td>0</td>\n",
       "\t\t<td>0.0</td>\n",
       "\t\t<td>22</td>\n",
       "\t\t<td>1</td>\n",
       "\t\t<td>28</td>\n",
       "\t\t<td>1.0</td>\n",
       "\t\t<td>0</td>\n",
       "\t\t<td>2.0</td>\n",
       "\t</tr>\n",
       "\t<tr>\n",
       "\t\t<td>0.5428571428571428</td>\n",
       "\t\t<td>19.2583</td>\n",
       "\t\t<td>1</td>\n",
       "\t\t<td>0</td>\n",
       "\t\t<td>1.0</td>\n",
       "\t\t<td>100</td>\n",
       "\t\t<td>1</td>\n",
       "\t\t<td>0</td>\n",
       "\t\t<td>2.0</td>\n",
       "\t\t<td>0</td>\n",
       "\t\t<td>4.0</td>\n",
       "\t</tr>\n",
       "\t<tr>\n",
       "\t\t<td>0.5428571428571428</td>\n",
       "\t\t<td>113.275</td>\n",
       "\t\t<td>0</td>\n",
       "\t\t<td>1</td>\n",
       "\t\t<td>2.0</td>\n",
       "\t\t<td>171</td>\n",
       "\t\t<td>0</td>\n",
       "\t\t<td>58</td>\n",
       "\t\t<td>0.0</td>\n",
       "\t\t<td>1</td>\n",
       "\t\t<td>3.0</td>\n",
       "\t</tr>\n",
       "</table></html>"
      ],
      "text/plain": [
       "   embarked      fare  sex_0  sex_1  parch   id  survived  age  sibsp  pclass  Family_count\n",
       "0  0.332677    7.8542      1      0    0.0  199         1   19    1.0       0           2.0\n",
       "1  0.332677   65.0000      1      0    2.0  158         1   24    1.0       0           4.0\n",
       "2  0.332677    7.1250      0      1    0.0   14         0   22    0.0       0           1.0\n",
       "3  0.332677    7.8750      0      1    0.0   26         0   29    0.0       0           1.0\n",
       "4  0.332677    8.1125      0      1    0.0  123         1   28    0.0       0           1.0\n",
       "5  0.332677  211.3375      1      0    0.0  115         1   29    0.0       1           1.0\n",
       "6  0.542857  110.8833      1      0    1.0  163         1   39    1.0       1           3.0\n",
       "7  0.542857   24.0000      1      0    0.0   22         1   28    1.0       0           2.0\n",
       "8  0.542857   19.2583      1      0    1.0  100         1    0    2.0       0           4.0\n",
       "9  0.542857  113.2750      0      1    2.0  171         0   58    0.0       1           3.0"
      ]
     },
     "metadata": {},
     "output_type": "display_data"
    },
    {
     "name": "stdout",
     "output_type": "stream",
     "text": [
      "                                                                                                  \r"
     ]
    },
    {
     "data": {
      "text/html": [
       "178 rows X 11 columns"
      ],
      "text/plain": [
       "<IPython.core.display.HTML object>"
      ]
     },
     "metadata": {},
     "output_type": "display_data"
    },
    {
     "name": "stdout",
     "output_type": "stream",
     "text": [
      "                                                                                                  \r"
     ]
    },
    {
     "data": {
      "text/html": [
       "Performing transformation carried out in data preparation phase ..."
      ],
      "text/plain": [
       "<IPython.core.display.HTML object>"
      ]
     },
     "metadata": {},
     "output_type": "display_data"
    },
    {
     "name": "stdout",
     "output_type": "stream",
     "text": [
      "result data stored in table '\"ALICE\".\"ml__td_sqlmr_persist_out__1719263099898003\"'⫾⫾⫾｜ 73% - 11/15\n",
      "                                                                                                  \r"
     ]
    },
    {
     "data": {
      "text/html": [
       "\n",
       "Updated dataset after performing Lasso feature selection:"
      ],
      "text/plain": [
       "<IPython.core.display.HTML object>"
      ]
     },
     "metadata": {},
     "output_type": "display_data"
    },
    {
     "data": {
      "text/html": [
       "<style type=\"text/css\">\n",
       "\ttable {border:ridge 5px;}\n",
       "\ttable td {border:inset 1px;}\n",
       "\ttable tr#HeaderRow {background-color:grey; color:white;}</style>\n",
       "<html><table>\n",
       "\t<tr id=\"HeaderRow\">\n",
       "\t\t<th>id</th>\n",
       "\t\t<th>fare</th>\n",
       "\t\t<th>Family_count</th>\n",
       "\t\t<th>parch</th>\n",
       "\t\t<th>embarked</th>\n",
       "\t\t<th>age</th>\n",
       "\t\t<th>sibsp</th>\n",
       "\t\t<th>sex_1</th>\n",
       "\t\t<th>pclass</th>\n",
       "\t\t<th>sex_0</th>\n",
       "\t\t<th>survived</th>\n",
       "\t</tr>\n",
       "\t<tr>\n",
       "\t\t<td>128</td>\n",
       "\t\t<td>9.825</td>\n",
       "\t\t<td>2.0</td>\n",
       "\t\t<td>0.0</td>\n",
       "\t\t<td>0.3327</td>\n",
       "\t\t<td>21</td>\n",
       "\t\t<td>1.0</td>\n",
       "\t\t<td>0</td>\n",
       "\t\t<td>0</td>\n",
       "\t\t<td>1</td>\n",
       "\t\t<td>0</td>\n",
       "\t</tr>\n",
       "\t<tr>\n",
       "\t\t<td>140</td>\n",
       "\t\t<td>71.0</td>\n",
       "\t\t<td>3.0</td>\n",
       "\t\t<td>1.0</td>\n",
       "\t\t<td>0.3327</td>\n",
       "\t\t<td>70</td>\n",
       "\t\t<td>1.0</td>\n",
       "\t\t<td>1</td>\n",
       "\t\t<td>1</td>\n",
       "\t\t<td>0</td>\n",
       "\t\t<td>0</td>\n",
       "\t</tr>\n",
       "\t<tr>\n",
       "\t\t<td>62</td>\n",
       "\t\t<td>39.6875</td>\n",
       "\t\t<td>6.0</td>\n",
       "\t\t<td>1.0</td>\n",
       "\t\t<td>0.3327</td>\n",
       "\t\t<td>2</td>\n",
       "\t\t<td>4.0</td>\n",
       "\t\t<td>1</td>\n",
       "\t\t<td>0</td>\n",
       "\t\t<td>0</td>\n",
       "\t\t<td>0</td>\n",
       "\t</tr>\n",
       "\t<tr>\n",
       "\t\t<td>188</td>\n",
       "\t\t<td>7.7958</td>\n",
       "\t\t<td>1.0</td>\n",
       "\t\t<td>0.0</td>\n",
       "\t\t<td>0.3327</td>\n",
       "\t\t<td>28</td>\n",
       "\t\t<td>0.0</td>\n",
       "\t\t<td>1</td>\n",
       "\t\t<td>0</td>\n",
       "\t\t<td>0</td>\n",
       "\t\t<td>0</td>\n",
       "\t</tr>\n",
       "\t<tr>\n",
       "\t\t<td>83</td>\n",
       "\t\t<td>8.05</td>\n",
       "\t\t<td>1.0</td>\n",
       "\t\t<td>0.0</td>\n",
       "\t\t<td>0.3327</td>\n",
       "\t\t<td>28</td>\n",
       "\t\t<td>0.0</td>\n",
       "\t\t<td>1</td>\n",
       "\t\t<td>0</td>\n",
       "\t\t<td>0</td>\n",
       "\t\t<td>0</td>\n",
       "\t</tr>\n",
       "\t<tr>\n",
       "\t\t<td>93</td>\n",
       "\t\t<td>8.05</td>\n",
       "\t\t<td>1.0</td>\n",
       "\t\t<td>0.0</td>\n",
       "\t\t<td>0.3327</td>\n",
       "\t\t<td>19</td>\n",
       "\t\t<td>0.0</td>\n",
       "\t\t<td>1</td>\n",
       "\t\t<td>0</td>\n",
       "\t\t<td>0</td>\n",
       "\t\t<td>0</td>\n",
       "\t</tr>\n",
       "\t<tr>\n",
       "\t\t<td>158</td>\n",
       "\t\t<td>65.0</td>\n",
       "\t\t<td>4.0</td>\n",
       "\t\t<td>2.0</td>\n",
       "\t\t<td>0.3327</td>\n",
       "\t\t<td>24</td>\n",
       "\t\t<td>1.0</td>\n",
       "\t\t<td>0</td>\n",
       "\t\t<td>0</td>\n",
       "\t\t<td>1</td>\n",
       "\t\t<td>1</td>\n",
       "\t</tr>\n",
       "\t<tr>\n",
       "\t\t<td>123</td>\n",
       "\t\t<td>8.1125</td>\n",
       "\t\t<td>1.0</td>\n",
       "\t\t<td>0.0</td>\n",
       "\t\t<td>0.3327</td>\n",
       "\t\t<td>28</td>\n",
       "\t\t<td>0.0</td>\n",
       "\t\t<td>1</td>\n",
       "\t\t<td>0</td>\n",
       "\t\t<td>0</td>\n",
       "\t\t<td>1</td>\n",
       "\t</tr>\n",
       "\t<tr>\n",
       "\t\t<td>115</td>\n",
       "\t\t<td>211.3375</td>\n",
       "\t\t<td>1.0</td>\n",
       "\t\t<td>0.0</td>\n",
       "\t\t<td>0.3327</td>\n",
       "\t\t<td>29</td>\n",
       "\t\t<td>0.0</td>\n",
       "\t\t<td>0</td>\n",
       "\t\t<td>1</td>\n",
       "\t\t<td>1</td>\n",
       "\t\t<td>1</td>\n",
       "\t</tr>\n",
       "\t<tr>\n",
       "\t\t<td>127</td>\n",
       "\t\t<td>19.5</td>\n",
       "\t\t<td>2.0</td>\n",
       "\t\t<td>1.0</td>\n",
       "\t\t<td>0.3327</td>\n",
       "\t\t<td>13</td>\n",
       "\t\t<td>0.0</td>\n",
       "\t\t<td>0</td>\n",
       "\t\t<td>0</td>\n",
       "\t\t<td>1</td>\n",
       "\t\t<td>1</td>\n",
       "\t</tr>\n",
       "</table></html>"
      ],
      "text/plain": [
       "           id      fare  Family_count  parch  embarked  age  sibsp  sex_1  pclass  sex_0\n",
       "survived                                                                                \n",
       "0         128    9.8250           2.0    0.0    0.3327   21    1.0      0       0      1\n",
       "0         140   71.0000           3.0    1.0    0.3327   70    1.0      1       1      0\n",
       "0          62   39.6875           6.0    1.0    0.3327    2    4.0      1       0      0\n",
       "0         188    7.7958           1.0    0.0    0.3327   28    0.0      1       0      0\n",
       "0          83    8.0500           1.0    0.0    0.3327   28    0.0      1       0      0\n",
       "0          93    8.0500           1.0    0.0    0.3327   19    0.0      1       0      0\n",
       "1         158   65.0000           4.0    2.0    0.3327   24    1.0      0       0      1\n",
       "1         123    8.1125           1.0    0.0    0.3327   28    0.0      1       0      0\n",
       "1         115  211.3375           1.0    0.0    0.3327   29    0.0      0       1      1\n",
       "1         127   19.5000           2.0    1.0    0.3327   13    0.0      0       0      1"
      ]
     },
     "metadata": {},
     "output_type": "display_data"
    },
    {
     "name": "stdout",
     "output_type": "stream",
     "text": [
      "                                                                                                  \r"
     ]
    },
    {
     "data": {
      "text/html": [
       "178 rows X 11 columns"
      ],
      "text/plain": [
       "<IPython.core.display.HTML object>"
      ]
     },
     "metadata": {},
     "output_type": "display_data"
    },
    {
     "name": "stdout",
     "output_type": "stream",
     "text": [
      "                                                                                                  \r"
     ]
    },
    {
     "data": {
      "text/html": [
       "\n",
       "Updated dataset after performing scaling on Lasso selected features :"
      ],
      "text/plain": [
       "<IPython.core.display.HTML object>"
      ]
     },
     "metadata": {},
     "output_type": "display_data"
    },
    {
     "data": {
      "text/html": [
       "<style type=\"text/css\">\n",
       "\ttable {border:ridge 5px;}\n",
       "\ttable td {border:inset 1px;}\n",
       "\ttable tr#HeaderRow {background-color:grey; color:white;}</style>\n",
       "<html><table>\n",
       "\t<tr id=\"HeaderRow\">\n",
       "\t\t<th>sex_1</th>\n",
       "\t\t<th>sex_0</th>\n",
       "\t\t<th>survived</th>\n",
       "\t\t<th>id</th>\n",
       "\t\t<th>fare</th>\n",
       "\t\t<th>Family_count</th>\n",
       "\t\t<th>parch</th>\n",
       "\t\t<th>embarked</th>\n",
       "\t\t<th>age</th>\n",
       "\t\t<th>sibsp</th>\n",
       "\t\t<th>pclass</th>\n",
       "\t</tr>\n",
       "\t<tr>\n",
       "\t\t<td>0</td>\n",
       "\t\t<td>1</td>\n",
       "\t\t<td>0</td>\n",
       "\t\t<td>128</td>\n",
       "\t\t<td>-0.6169570465865633</td>\n",
       "\t\t<td>0.08571523128189792</td>\n",
       "\t\t<td>-0.4588933942023578</td>\n",
       "\t\t<td>-0.5590422730432916</td>\n",
       "\t\t<td>-0.659298705289214</td>\n",
       "\t\t<td>0.4478850877632824</td>\n",
       "\t\t<td>-0.5845584168528979</td>\n",
       "\t</tr>\n",
       "\t<tr>\n",
       "\t\t<td>1</td>\n",
       "\t\t<td>0</td>\n",
       "\t\t<td>0</td>\n",
       "\t\t<td>140</td>\n",
       "\t\t<td>1.979457734431551</td>\n",
       "\t\t<td>0.7042548732350536</td>\n",
       "\t\t<td>0.8107909192901762</td>\n",
       "\t\t<td>-0.5590422730432916</td>\n",
       "\t\t<td>3.0787749507449305</td>\n",
       "\t\t<td>0.4478850877632824</td>\n",
       "\t\t<td>1.7106930140253924</td>\n",
       "\t</tr>\n",
       "\t<tr>\n",
       "\t\t<td>1</td>\n",
       "\t\t<td>0</td>\n",
       "\t\t<td>0</td>\n",
       "\t\t<td>62</td>\n",
       "\t\t<td>0.6504795925332314</td>\n",
       "\t\t<td>2.5598737990945213</td>\n",
       "\t\t<td>0.8107909192901762</td>\n",
       "\t\t<td>-0.5590422730432916</td>\n",
       "\t\t<td>-2.108755837220821</td>\n",
       "\t\t<td>3.135195614342977</td>\n",
       "\t\t<td>-0.5845584168528979</td>\n",
       "\t</tr>\n",
       "\t<tr>\n",
       "\t\t<td>1</td>\n",
       "\t\t<td>0</td>\n",
       "\t\t<td>0</td>\n",
       "\t\t<td>188</td>\n",
       "\t\t<td>-0.7030811965439308</td>\n",
       "\t\t<td>-0.5328244106712579</td>\n",
       "\t\t<td>-0.4588933942023578</td>\n",
       "\t\t<td>-0.5590422730432916</td>\n",
       "\t\t<td>-0.12528818299862196</td>\n",
       "\t\t<td>-0.4478850877632824</td>\n",
       "\t\t<td>-0.5845584168528979</td>\n",
       "\t</tr>\n",
       "\t<tr>\n",
       "\t\t<td>1</td>\n",
       "\t\t<td>0</td>\n",
       "\t\t<td>0</td>\n",
       "\t\t<td>83</td>\n",
       "\t\t<td>-0.6922923344706197</td>\n",
       "\t\t<td>-0.5328244106712579</td>\n",
       "\t\t<td>-0.4588933942023578</td>\n",
       "\t\t<td>-0.5590422730432916</td>\n",
       "\t\t<td>-0.12528818299862196</td>\n",
       "\t\t<td>-0.4478850877632824</td>\n",
       "\t\t<td>-0.5845584168528979</td>\n",
       "\t</tr>\n",
       "\t<tr>\n",
       "\t\t<td>1</td>\n",
       "\t\t<td>0</td>\n",
       "\t\t<td>0</td>\n",
       "\t\t<td>93</td>\n",
       "\t\t<td>-0.6922923344706197</td>\n",
       "\t\t<td>-0.5328244106712579</td>\n",
       "\t\t<td>-0.4588933942023578</td>\n",
       "\t\t<td>-0.5590422730432916</td>\n",
       "\t\t<td>-0.8118731402293832</td>\n",
       "\t\t<td>-0.4478850877632824</td>\n",
       "\t\t<td>-0.5845584168528979</td>\n",
       "\t</tr>\n",
       "\t<tr>\n",
       "\t\t<td>0</td>\n",
       "\t\t<td>1</td>\n",
       "\t\t<td>1</td>\n",
       "\t\t<td>158</td>\n",
       "\t\t<td>1.7248032401755855</td>\n",
       "\t\t<td>1.3227945151882097</td>\n",
       "\t\t<td>2.0804752327827103</td>\n",
       "\t\t<td>-0.5590422730432916</td>\n",
       "\t\t<td>-0.4304370528789603</td>\n",
       "\t\t<td>0.4478850877632824</td>\n",
       "\t\t<td>-0.5845584168528979</td>\n",
       "\t</tr>\n",
       "\t<tr>\n",
       "\t\t<td>1</td>\n",
       "\t\t<td>0</td>\n",
       "\t\t<td>1</td>\n",
       "\t\t<td>123</td>\n",
       "\t\t<td>-0.6896396834887867</td>\n",
       "\t\t<td>-0.5328244106712579</td>\n",
       "\t\t<td>-0.4588933942023578</td>\n",
       "\t\t<td>-0.5590422730432916</td>\n",
       "\t\t<td>-0.12528818299862196</td>\n",
       "\t\t<td>-0.4478850877632824</td>\n",
       "\t\t<td>-0.5845584168528979</td>\n",
       "\t</tr>\n",
       "\t<tr>\n",
       "\t\t<td>0</td>\n",
       "\t\t<td>1</td>\n",
       "\t\t<td>1</td>\n",
       "\t\t<td>115</td>\n",
       "\t\t<td>7.935720249039309</td>\n",
       "\t\t<td>-0.5328244106712579</td>\n",
       "\t\t<td>-0.4588933942023578</td>\n",
       "\t\t<td>-0.5590422730432916</td>\n",
       "\t\t<td>-0.049000965528537395</td>\n",
       "\t\t<td>-0.4478850877632824</td>\n",
       "\t\t<td>1.7106930140253924</td>\n",
       "\t</tr>\n",
       "\t<tr>\n",
       "\t\t<td>0</td>\n",
       "\t\t<td>1</td>\n",
       "\t\t<td>1</td>\n",
       "\t\t<td>127</td>\n",
       "\t\t<td>-0.20632667459881895</td>\n",
       "\t\t<td>0.08571523128189792</td>\n",
       "\t\t<td>0.8107909192901762</td>\n",
       "\t\t<td>-0.5590422730432916</td>\n",
       "\t\t<td>-1.2695964450498907</td>\n",
       "\t\t<td>-0.4478850877632824</td>\n",
       "\t\t<td>-0.5845584168528979</td>\n",
       "\t</tr>\n",
       "</table></html>"
      ],
      "text/plain": [
       "   sex_1  sex_0  survived   id      fare  Family_count     parch  embarked       age     sibsp    pclass\n",
       "0      0      1         0  128 -0.616957      0.085715 -0.458893 -0.559042 -0.659299  0.447885 -0.584558\n",
       "1      1      0         0  140  1.979458      0.704255  0.810791 -0.559042  3.078775  0.447885  1.710693\n",
       "2      1      0         0   62  0.650480      2.559874  0.810791 -0.559042 -2.108756  3.135196 -0.584558\n",
       "3      1      0         0  188 -0.703081     -0.532824 -0.458893 -0.559042 -0.125288 -0.447885 -0.584558\n",
       "4      1      0         0   83 -0.692292     -0.532824 -0.458893 -0.559042 -0.125288 -0.447885 -0.584558\n",
       "5      1      0         0   93 -0.692292     -0.532824 -0.458893 -0.559042 -0.811873 -0.447885 -0.584558\n",
       "6      0      1         1  158  1.724803      1.322795  2.080475 -0.559042 -0.430437  0.447885 -0.584558\n",
       "7      1      0         1  123 -0.689640     -0.532824 -0.458893 -0.559042 -0.125288 -0.447885 -0.584558\n",
       "8      0      1         1  115  7.935720     -0.532824 -0.458893 -0.559042 -0.049001 -0.447885  1.710693\n",
       "9      0      1         1  127 -0.206327      0.085715  0.810791 -0.559042 -1.269596 -0.447885 -0.584558"
      ]
     },
     "metadata": {},
     "output_type": "display_data"
    },
    {
     "name": "stdout",
     "output_type": "stream",
     "text": [
      "                                                                                                  \r"
     ]
    },
    {
     "data": {
      "text/html": [
       "178 rows X 11 columns"
      ],
      "text/plain": [
       "<IPython.core.display.HTML object>"
      ]
     },
     "metadata": {},
     "output_type": "display_data"
    },
    {
     "name": "stdout",
     "output_type": "stream",
     "text": [
      "                                                                                                  \r"
     ]
    },
    {
     "data": {
      "text/html": [
       "\n",
       "Updated dataset after performing RFE feature selection:"
      ],
      "text/plain": [
       "<IPython.core.display.HTML object>"
      ]
     },
     "metadata": {},
     "output_type": "display_data"
    },
    {
     "data": {
      "text/html": [
       "<style type=\"text/css\">\n",
       "\ttable {border:ridge 5px;}\n",
       "\ttable td {border:inset 1px;}\n",
       "\ttable tr#HeaderRow {background-color:grey; color:white;}</style>\n",
       "<html><table>\n",
       "\t<tr id=\"HeaderRow\">\n",
       "\t\t<th>id</th>\n",
       "\t\t<th>age</th>\n",
       "\t\t<th>sex_1</th>\n",
       "\t\t<th>pclass</th>\n",
       "\t\t<th>sex_0</th>\n",
       "\t\t<th>fare</th>\n",
       "\t\t<th>Family_count</th>\n",
       "\t\t<th>survived</th>\n",
       "\t</tr>\n",
       "\t<tr>\n",
       "\t\t<td>115</td>\n",
       "\t\t<td>29</td>\n",
       "\t\t<td>0</td>\n",
       "\t\t<td>1</td>\n",
       "\t\t<td>1</td>\n",
       "\t\t<td>211.3375</td>\n",
       "\t\t<td>1.0</td>\n",
       "\t\t<td>1</td>\n",
       "\t</tr>\n",
       "\t<tr>\n",
       "\t\t<td>143</td>\n",
       "\t\t<td>35</td>\n",
       "\t\t<td>0</td>\n",
       "\t\t<td>1</td>\n",
       "\t\t<td>1</td>\n",
       "\t\t<td>90.0</td>\n",
       "\t\t<td>2.0</td>\n",
       "\t\t<td>1</td>\n",
       "\t</tr>\n",
       "\t<tr>\n",
       "\t\t<td>175</td>\n",
       "\t\t<td>62</td>\n",
       "\t\t<td>0</td>\n",
       "\t\t<td>1</td>\n",
       "\t\t<td>1</td>\n",
       "\t\t<td>80.0</td>\n",
       "\t\t<td>1.0</td>\n",
       "\t\t<td>1</td>\n",
       "\t</tr>\n",
       "\t<tr>\n",
       "\t\t<td>17</td>\n",
       "\t\t<td>19</td>\n",
       "\t\t<td>1</td>\n",
       "\t\t<td>0</td>\n",
       "\t\t<td>0</td>\n",
       "\t\t<td>8.05</td>\n",
       "\t\t<td>1.0</td>\n",
       "\t\t<td>1</td>\n",
       "\t</tr>\n",
       "\t<tr>\n",
       "\t\t<td>147</td>\n",
       "\t\t<td>30</td>\n",
       "\t\t<td>0</td>\n",
       "\t\t<td>0</td>\n",
       "\t\t<td>1</td>\n",
       "\t\t<td>13.0</td>\n",
       "\t\t<td>1.0</td>\n",
       "\t\t<td>1</td>\n",
       "\t</tr>\n",
       "\t<tr>\n",
       "\t\t<td>182</td>\n",
       "\t\t<td>36</td>\n",
       "\t\t<td>0</td>\n",
       "\t\t<td>0</td>\n",
       "\t\t<td>1</td>\n",
       "\t\t<td>13.0</td>\n",
       "\t\t<td>1.0</td>\n",
       "\t\t<td>1</td>\n",
       "\t</tr>\n",
       "\t<tr>\n",
       "\t\t<td>14</td>\n",
       "\t\t<td>22</td>\n",
       "\t\t<td>1</td>\n",
       "\t\t<td>0</td>\n",
       "\t\t<td>0</td>\n",
       "\t\t<td>7.125</td>\n",
       "\t\t<td>1.0</td>\n",
       "\t\t<td>0</td>\n",
       "\t</tr>\n",
       "\t<tr>\n",
       "\t\t<td>183</td>\n",
       "\t\t<td>28</td>\n",
       "\t\t<td>0</td>\n",
       "\t\t<td>0</td>\n",
       "\t\t<td>1</td>\n",
       "\t\t<td>23.45</td>\n",
       "\t\t<td>4.0</td>\n",
       "\t\t<td>0</td>\n",
       "\t</tr>\n",
       "\t<tr>\n",
       "\t\t<td>128</td>\n",
       "\t\t<td>21</td>\n",
       "\t\t<td>0</td>\n",
       "\t\t<td>0</td>\n",
       "\t\t<td>1</td>\n",
       "\t\t<td>9.825</td>\n",
       "\t\t<td>2.0</td>\n",
       "\t\t<td>0</td>\n",
       "\t</tr>\n",
       "\t<tr>\n",
       "\t\t<td>44</td>\n",
       "\t\t<td>20</td>\n",
       "\t\t<td>0</td>\n",
       "\t\t<td>0</td>\n",
       "\t\t<td>1</td>\n",
       "\t\t<td>9.825</td>\n",
       "\t\t<td>2.0</td>\n",
       "\t\t<td>0</td>\n",
       "\t</tr>\n",
       "</table></html>"
      ],
      "text/plain": [
       "           id  age  sex_1  pclass  sex_0      fare  Family_count\n",
       "survived                                                        \n",
       "1         115   29      0       1      1  211.3375           1.0\n",
       "1         143   35      0       1      1   90.0000           2.0\n",
       "1         175   62      0       1      1   80.0000           1.0\n",
       "1          17   19      1       0      0    8.0500           1.0\n",
       "1         147   30      0       0      1   13.0000           1.0\n",
       "1         182   36      0       0      1   13.0000           1.0\n",
       "0          14   22      1       0      0    7.1250           1.0\n",
       "0         183   28      0       0      1   23.4500           4.0\n",
       "0         128   21      0       0      1    9.8250           2.0\n",
       "0          44   20      0       0      1    9.8250           2.0"
      ]
     },
     "metadata": {},
     "output_type": "display_data"
    },
    {
     "name": "stdout",
     "output_type": "stream",
     "text": [
      "                                                                                                  \r"
     ]
    },
    {
     "data": {
      "text/html": [
       "178 rows X 8 columns"
      ],
      "text/plain": [
       "<IPython.core.display.HTML object>"
      ]
     },
     "metadata": {},
     "output_type": "display_data"
    },
    {
     "name": "stdout",
     "output_type": "stream",
     "text": [
      "                                                                                                  \r"
     ]
    },
    {
     "data": {
      "text/html": [
       "\n",
       "Updated dataset after performing scaling on RFE selected features :"
      ],
      "text/plain": [
       "<IPython.core.display.HTML object>"
      ]
     },
     "metadata": {},
     "output_type": "display_data"
    },
    {
     "data": {
      "text/html": [
       "<style type=\"text/css\">\n",
       "\ttable {border:ridge 5px;}\n",
       "\ttable td {border:inset 1px;}\n",
       "\ttable tr#HeaderRow {background-color:grey; color:white;}</style>\n",
       "<html><table>\n",
       "\t<tr id=\"HeaderRow\">\n",
       "\t\t<th>r_sex_1</th>\n",
       "\t\t<th>survived</th>\n",
       "\t\t<th>r_sex_0</th>\n",
       "\t\t<th>id</th>\n",
       "\t\t<th>r_age</th>\n",
       "\t\t<th>r_pclass</th>\n",
       "\t\t<th>r_fare</th>\n",
       "\t\t<th>r_Family_count</th>\n",
       "\t</tr>\n",
       "\t<tr>\n",
       "\t\t<td>0</td>\n",
       "\t\t<td>1</td>\n",
       "\t\t<td>1</td>\n",
       "\t\t<td>115</td>\n",
       "\t\t<td>-0.049000965528537395</td>\n",
       "\t\t<td>1.7106930140253924</td>\n",
       "\t\t<td>7.935720249039309</td>\n",
       "\t\t<td>-0.5328244106712579</td>\n",
       "\t</tr>\n",
       "\t<tr>\n",
       "\t\t<td>0</td>\n",
       "\t\t<td>1</td>\n",
       "\t\t<td>1</td>\n",
       "\t\t<td>143</td>\n",
       "\t\t<td>0.40872233929197005</td>\n",
       "\t\t<td>1.7106930140253924</td>\n",
       "\t\t<td>2.7858636329087747</td>\n",
       "\t\t<td>0.08571523128189792</td>\n",
       "\t</tr>\n",
       "\t<tr>\n",
       "\t\t<td>0</td>\n",
       "\t\t<td>1</td>\n",
       "\t\t<td>1</td>\n",
       "\t\t<td>175</td>\n",
       "\t\t<td>2.4684772109842537</td>\n",
       "\t\t<td>1.7106930140253924</td>\n",
       "\t\t<td>2.361439475815499</td>\n",
       "\t\t<td>-0.5328244106712579</td>\n",
       "\t</tr>\n",
       "\t<tr>\n",
       "\t\t<td>1</td>\n",
       "\t\t<td>1</td>\n",
       "\t\t<td>0</td>\n",
       "\t\t<td>17</td>\n",
       "\t\t<td>-0.8118731402293832</td>\n",
       "\t\t<td>-0.5845584168528979</td>\n",
       "\t\t<td>-0.6922923344706197</td>\n",
       "\t\t<td>-0.5328244106712579</td>\n",
       "\t</tr>\n",
       "\t<tr>\n",
       "\t\t<td>0</td>\n",
       "\t\t<td>1</td>\n",
       "\t\t<td>1</td>\n",
       "\t\t<td>147</td>\n",
       "\t\t<td>0.02728625194154718</td>\n",
       "\t\t<td>-0.5845584168528979</td>\n",
       "\t\t<td>-0.48220237670944816</td>\n",
       "\t\t<td>-0.5328244106712579</td>\n",
       "\t</tr>\n",
       "\t<tr>\n",
       "\t\t<td>0</td>\n",
       "\t\t<td>1</td>\n",
       "\t\t<td>1</td>\n",
       "\t\t<td>182</td>\n",
       "\t\t<td>0.48500955676205465</td>\n",
       "\t\t<td>-0.5845584168528979</td>\n",
       "\t\t<td>-0.48220237670944816</td>\n",
       "\t\t<td>-0.5328244106712579</td>\n",
       "\t</tr>\n",
       "\t<tr>\n",
       "\t\t<td>1</td>\n",
       "\t\t<td>0</td>\n",
       "\t\t<td>0</td>\n",
       "\t\t<td>14</td>\n",
       "\t\t<td>-0.5830114878191295</td>\n",
       "\t\t<td>-0.5845584168528979</td>\n",
       "\t\t<td>-0.7315515690017477</td>\n",
       "\t\t<td>-0.5328244106712579</td>\n",
       "\t</tr>\n",
       "\t<tr>\n",
       "\t\t<td>0</td>\n",
       "\t\t<td>0</td>\n",
       "\t\t<td>1</td>\n",
       "\t\t<td>183</td>\n",
       "\t\t<td>-0.12528818299862196</td>\n",
       "\t\t<td>-0.5845584168528979</td>\n",
       "\t\t<td>-0.038679132546975074</td>\n",
       "\t\t<td>1.3227945151882097</td>\n",
       "\t</tr>\n",
       "\t<tr>\n",
       "\t\t<td>0</td>\n",
       "\t\t<td>0</td>\n",
       "\t\t<td>1</td>\n",
       "\t\t<td>128</td>\n",
       "\t\t<td>-0.659298705289214</td>\n",
       "\t\t<td>-0.5845584168528979</td>\n",
       "\t\t<td>-0.6169570465865633</td>\n",
       "\t\t<td>0.08571523128189792</td>\n",
       "\t</tr>\n",
       "\t<tr>\n",
       "\t\t<td>0</td>\n",
       "\t\t<td>0</td>\n",
       "\t\t<td>1</td>\n",
       "\t\t<td>44</td>\n",
       "\t\t<td>-0.7355859227592986</td>\n",
       "\t\t<td>-0.5845584168528979</td>\n",
       "\t\t<td>-0.6169570465865633</td>\n",
       "\t\t<td>0.08571523128189792</td>\n",
       "\t</tr>\n",
       "</table></html>"
      ],
      "text/plain": [
       "   r_sex_1  survived  r_sex_0   id     r_age  r_pclass    r_fare  r_Family_count\n",
       "0        0         1        1  115 -0.049001  1.710693  7.935720       -0.532824\n",
       "1        0         1        1  143  0.408722  1.710693  2.785864        0.085715\n",
       "2        0         1        1  175  2.468477  1.710693  2.361439       -0.532824\n",
       "3        1         1        0   17 -0.811873 -0.584558 -0.692292       -0.532824\n",
       "4        0         1        1  147  0.027286 -0.584558 -0.482202       -0.532824\n",
       "5        0         1        1  182  0.485010 -0.584558 -0.482202       -0.532824\n",
       "6        1         0        0   14 -0.583011 -0.584558 -0.731552       -0.532824\n",
       "7        0         0        1  183 -0.125288 -0.584558 -0.038679        1.322795\n",
       "8        0         0        1  128 -0.659299 -0.584558 -0.616957        0.085715\n",
       "9        0         0        1   44 -0.735586 -0.584558 -0.616957        0.085715"
      ]
     },
     "metadata": {},
     "output_type": "display_data"
    },
    {
     "name": "stdout",
     "output_type": "stream",
     "text": [
      "                                                                                                  \r"
     ]
    },
    {
     "data": {
      "text/html": [
       "178 rows X 8 columns"
      ],
      "text/plain": [
       "<IPython.core.display.HTML object>"
      ]
     },
     "metadata": {},
     "output_type": "display_data"
    },
    {
     "name": "stdout",
     "output_type": "stream",
     "text": [
      "                                                                                                  \r"
     ]
    },
    {
     "data": {
      "text/html": [
       "\n",
       "Updated dataset after performing scaling for PCA feature selection :"
      ],
      "text/plain": [
       "<IPython.core.display.HTML object>"
      ]
     },
     "metadata": {},
     "output_type": "display_data"
    },
    {
     "data": {
      "text/html": [
       "<style type=\"text/css\">\n",
       "\ttable {border:ridge 5px;}\n",
       "\ttable td {border:inset 1px;}\n",
       "\ttable tr#HeaderRow {background-color:grey; color:white;}</style>\n",
       "<html><table>\n",
       "\t<tr id=\"HeaderRow\">\n",
       "\t\t<th>sex_1</th>\n",
       "\t\t<th>sex_0</th>\n",
       "\t\t<th>survived</th>\n",
       "\t\t<th>id</th>\n",
       "\t\t<th>embarked</th>\n",
       "\t\t<th>fare</th>\n",
       "\t\t<th>parch</th>\n",
       "\t\t<th>age</th>\n",
       "\t\t<th>sibsp</th>\n",
       "\t\t<th>pclass</th>\n",
       "\t\t<th>Family_count</th>\n",
       "\t</tr>\n",
       "\t<tr>\n",
       "\t\t<td>0</td>\n",
       "\t\t<td>1</td>\n",
       "\t\t<td>1</td>\n",
       "\t\t<td>115</td>\n",
       "\t\t<td>-0.5587453412477561</td>\n",
       "\t\t<td>7.935720249039313</td>\n",
       "\t\t<td>-0.45889339420235703</td>\n",
       "\t\t<td>-0.049000965528537256</td>\n",
       "\t\t<td>-0.4478850877632818</td>\n",
       "\t\t<td>1.7106930140253955</td>\n",
       "\t\t<td>-0.5328244106712589</td>\n",
       "\t</tr>\n",
       "\t<tr>\n",
       "\t\t<td>0</td>\n",
       "\t\t<td>1</td>\n",
       "\t\t<td>1</td>\n",
       "\t\t<td>143</td>\n",
       "\t\t<td>-0.5587453412477561</td>\n",
       "\t\t<td>2.785863632908776</td>\n",
       "\t\t<td>-0.45889339420235703</td>\n",
       "\t\t<td>0.4087223392919689</td>\n",
       "\t\t<td>0.4478850877632818</td>\n",
       "\t\t<td>1.7106930140253955</td>\n",
       "\t\t<td>0.08571523128189808</td>\n",
       "\t</tr>\n",
       "\t<tr>\n",
       "\t\t<td>0</td>\n",
       "\t\t<td>1</td>\n",
       "\t\t<td>1</td>\n",
       "\t\t<td>175</td>\n",
       "\t\t<td>-0.5587453412477561</td>\n",
       "\t\t<td>2.3614394758155</td>\n",
       "\t\t<td>-0.45889339420235703</td>\n",
       "\t\t<td>2.4684772109842466</td>\n",
       "\t\t<td>-0.4478850877632818</td>\n",
       "\t\t<td>1.7106930140253955</td>\n",
       "\t\t<td>-0.5328244106712589</td>\n",
       "\t</tr>\n",
       "\t<tr>\n",
       "\t\t<td>1</td>\n",
       "\t\t<td>0</td>\n",
       "\t\t<td>1</td>\n",
       "\t\t<td>17</td>\n",
       "\t\t<td>-0.5587453412477561</td>\n",
       "\t\t<td>-0.69229233447062</td>\n",
       "\t\t<td>-0.45889339420235703</td>\n",
       "\t\t<td>-0.8118731402293808</td>\n",
       "\t\t<td>-0.4478850877632818</td>\n",
       "\t\t<td>-0.5845584168528989</td>\n",
       "\t\t<td>-0.5328244106712589</td>\n",
       "\t</tr>\n",
       "\t<tr>\n",
       "\t\t<td>0</td>\n",
       "\t\t<td>1</td>\n",
       "\t\t<td>1</td>\n",
       "\t\t<td>147</td>\n",
       "\t\t<td>-0.5587453412477561</td>\n",
       "\t\t<td>-0.4822023767094484</td>\n",
       "\t\t<td>-0.45889339420235703</td>\n",
       "\t\t<td>0.0272862519415471</td>\n",
       "\t\t<td>-0.4478850877632818</td>\n",
       "\t\t<td>-0.5845584168528989</td>\n",
       "\t\t<td>-0.5328244106712589</td>\n",
       "\t</tr>\n",
       "\t<tr>\n",
       "\t\t<td>0</td>\n",
       "\t\t<td>1</td>\n",
       "\t\t<td>1</td>\n",
       "\t\t<td>182</td>\n",
       "\t\t<td>-0.5587453412477561</td>\n",
       "\t\t<td>-0.4822023767094484</td>\n",
       "\t\t<td>-0.45889339420235703</td>\n",
       "\t\t<td>0.48500955676205326</td>\n",
       "\t\t<td>-0.4478850877632818</td>\n",
       "\t\t<td>-0.5845584168528989</td>\n",
       "\t\t<td>-0.5328244106712589</td>\n",
       "\t</tr>\n",
       "\t<tr>\n",
       "\t\t<td>1</td>\n",
       "\t\t<td>0</td>\n",
       "\t\t<td>0</td>\n",
       "\t\t<td>14</td>\n",
       "\t\t<td>-0.5587453412477561</td>\n",
       "\t\t<td>-0.731551569001748</td>\n",
       "\t\t<td>-0.45889339420235703</td>\n",
       "\t\t<td>-0.5830114878191278</td>\n",
       "\t\t<td>-0.4478850877632818</td>\n",
       "\t\t<td>-0.5845584168528989</td>\n",
       "\t\t<td>-0.5328244106712589</td>\n",
       "\t</tr>\n",
       "\t<tr>\n",
       "\t\t<td>0</td>\n",
       "\t\t<td>1</td>\n",
       "\t\t<td>0</td>\n",
       "\t\t<td>183</td>\n",
       "\t\t<td>-0.5587453412477561</td>\n",
       "\t\t<td>-0.038679132546975095</td>\n",
       "\t\t<td>2.0804752327827067</td>\n",
       "\t\t<td>-0.12528818299862163</td>\n",
       "\t\t<td>0.4478850877632818</td>\n",
       "\t\t<td>-0.5845584168528989</td>\n",
       "\t\t<td>1.322794515188212</td>\n",
       "\t</tr>\n",
       "\t<tr>\n",
       "\t\t<td>0</td>\n",
       "\t\t<td>1</td>\n",
       "\t\t<td>0</td>\n",
       "\t\t<td>128</td>\n",
       "\t\t<td>-0.5587453412477561</td>\n",
       "\t\t<td>-0.6169570465865635</td>\n",
       "\t\t<td>-0.45889339420235703</td>\n",
       "\t\t<td>-0.6592987052892121</td>\n",
       "\t\t<td>0.4478850877632818</td>\n",
       "\t\t<td>-0.5845584168528989</td>\n",
       "\t\t<td>0.08571523128189808</td>\n",
       "\t</tr>\n",
       "\t<tr>\n",
       "\t\t<td>0</td>\n",
       "\t\t<td>1</td>\n",
       "\t\t<td>0</td>\n",
       "\t\t<td>44</td>\n",
       "\t\t<td>-0.5587453412477561</td>\n",
       "\t\t<td>-0.6169570465865635</td>\n",
       "\t\t<td>-0.45889339420235703</td>\n",
       "\t\t<td>-0.7355859227592965</td>\n",
       "\t\t<td>0.4478850877632818</td>\n",
       "\t\t<td>-0.5845584168528989</td>\n",
       "\t\t<td>0.08571523128189808</td>\n",
       "\t</tr>\n",
       "</table></html>"
      ],
      "text/plain": [
       "   sex_1  sex_0  survived   id  embarked      fare     parch       age     sibsp    pclass  Family_count\n",
       "0      0      1         1  115 -0.558745  7.935720 -0.458893 -0.049001 -0.447885  1.710693     -0.532824\n",
       "1      0      1         1  143 -0.558745  2.785864 -0.458893  0.408722  0.447885  1.710693      0.085715\n",
       "2      0      1         1  175 -0.558745  2.361439 -0.458893  2.468477 -0.447885  1.710693     -0.532824\n",
       "3      1      0         1   17 -0.558745 -0.692292 -0.458893 -0.811873 -0.447885 -0.584558     -0.532824\n",
       "4      0      1         1  147 -0.558745 -0.482202 -0.458893  0.027286 -0.447885 -0.584558     -0.532824\n",
       "5      0      1         1  182 -0.558745 -0.482202 -0.458893  0.485010 -0.447885 -0.584558     -0.532824\n",
       "6      1      0         0   14 -0.558745 -0.731552 -0.458893 -0.583011 -0.447885 -0.584558     -0.532824\n",
       "7      0      1         0  183 -0.558745 -0.038679  2.080475 -0.125288  0.447885 -0.584558      1.322795\n",
       "8      0      1         0  128 -0.558745 -0.616957 -0.458893 -0.659299  0.447885 -0.584558      0.085715\n",
       "9      0      1         0   44 -0.558745 -0.616957 -0.458893 -0.735586  0.447885 -0.584558      0.085715"
      ]
     },
     "metadata": {},
     "output_type": "display_data"
    },
    {
     "name": "stdout",
     "output_type": "stream",
     "text": [
      "                                                                                                  \r"
     ]
    },
    {
     "data": {
      "text/html": [
       "178 rows X 11 columns"
      ],
      "text/plain": [
       "<IPython.core.display.HTML object>"
      ]
     },
     "metadata": {},
     "output_type": "display_data"
    },
    {
     "name": "stdout",
     "output_type": "stream",
     "text": [
      "                                                                                                  \r"
     ]
    },
    {
     "data": {
      "text/html": [
       "\n",
       "Updated dataset after performing PCA feature selection :"
      ],
      "text/plain": [
       "<IPython.core.display.HTML object>"
      ]
     },
     "metadata": {},
     "output_type": "display_data"
    },
    {
     "data": {
      "text/html": [
       "<div>\n",
       "<style scoped>\n",
       "    .dataframe tbody tr th:only-of-type {\n",
       "        vertical-align: middle;\n",
       "    }\n",
       "\n",
       "    .dataframe tbody tr th {\n",
       "        vertical-align: top;\n",
       "    }\n",
       "\n",
       "    .dataframe thead th {\n",
       "        text-align: right;\n",
       "    }\n",
       "</style>\n",
       "<table border=\"1\" class=\"dataframe\">\n",
       "  <thead>\n",
       "    <tr style=\"text-align: right;\">\n",
       "      <th></th>\n",
       "      <th>id</th>\n",
       "      <th>col_0</th>\n",
       "      <th>col_1</th>\n",
       "      <th>col_2</th>\n",
       "      <th>col_3</th>\n",
       "      <th>col_4</th>\n",
       "      <th>col_5</th>\n",
       "      <th>survived</th>\n",
       "    </tr>\n",
       "  </thead>\n",
       "  <tbody>\n",
       "    <tr>\n",
       "      <th>0</th>\n",
       "      <td>158</td>\n",
       "      <td>2.677226</td>\n",
       "      <td>-0.060338</td>\n",
       "      <td>-0.254735</td>\n",
       "      <td>-0.118161</td>\n",
       "      <td>1.309002</td>\n",
       "      <td>-0.473388</td>\n",
       "      <td>1</td>\n",
       "    </tr>\n",
       "    <tr>\n",
       "      <th>1</th>\n",
       "      <td>14</td>\n",
       "      <td>-0.947702</td>\n",
       "      <td>-1.116770</td>\n",
       "      <td>-0.025885</td>\n",
       "      <td>-0.435016</td>\n",
       "      <td>-0.040591</td>\n",
       "      <td>0.321686</td>\n",
       "      <td>0</td>\n",
       "    </tr>\n",
       "    <tr>\n",
       "      <th>2</th>\n",
       "      <td>123</td>\n",
       "      <td>-1.018201</td>\n",
       "      <td>-0.915846</td>\n",
       "      <td>-0.286417</td>\n",
       "      <td>-0.140317</td>\n",
       "      <td>-0.097266</td>\n",
       "      <td>0.263621</td>\n",
       "      <td>1</td>\n",
       "    </tr>\n",
       "    <tr>\n",
       "      <th>3</th>\n",
       "      <td>183</td>\n",
       "      <td>2.109187</td>\n",
       "      <td>-0.881445</td>\n",
       "      <td>-0.297899</td>\n",
       "      <td>0.767697</td>\n",
       "      <td>1.307511</td>\n",
       "      <td>-0.460878</td>\n",
       "      <td>0</td>\n",
       "    </tr>\n",
       "    <tr>\n",
       "      <th>4</th>\n",
       "      <td>115</td>\n",
       "      <td>1.705025</td>\n",
       "      <td>5.282561</td>\n",
       "      <td>-0.894697</td>\n",
       "      <td>-3.997295</td>\n",
       "      <td>0.631098</td>\n",
       "      <td>-0.924255</td>\n",
       "      <td>1</td>\n",
       "    </tr>\n",
       "    <tr>\n",
       "      <th>5</th>\n",
       "      <td>128</td>\n",
       "      <td>0.067772</td>\n",
       "      <td>-1.104496</td>\n",
       "      <td>0.096949</td>\n",
       "      <td>-0.424900</td>\n",
       "      <td>-0.153829</td>\n",
       "      <td>-1.108418</td>\n",
       "      <td>0</td>\n",
       "    </tr>\n",
       "    <tr>\n",
       "      <th>6</th>\n",
       "      <td>127</td>\n",
       "      <td>0.437777</td>\n",
       "      <td>-1.168874</td>\n",
       "      <td>0.507865</td>\n",
       "      <td>-0.554403</td>\n",
       "      <td>1.272972</td>\n",
       "      <td>-0.544967</td>\n",
       "      <td>1</td>\n",
       "    </tr>\n",
       "    <tr>\n",
       "      <th>7</th>\n",
       "      <td>44</td>\n",
       "      <td>0.081553</td>\n",
       "      <td>-1.134259</td>\n",
       "      <td>0.139862</td>\n",
       "      <td>-0.476705</td>\n",
       "      <td>-0.144525</td>\n",
       "      <td>-1.098940</td>\n",
       "      <td>0</td>\n",
       "    </tr>\n",
       "    <tr>\n",
       "      <th>8</th>\n",
       "      <td>143</td>\n",
       "      <td>0.969011</td>\n",
       "      <td>2.614011</td>\n",
       "      <td>-0.900646</td>\n",
       "      <td>-1.621358</td>\n",
       "      <td>0.088011</td>\n",
       "      <td>-0.968041</td>\n",
       "      <td>1</td>\n",
       "    </tr>\n",
       "    <tr>\n",
       "      <th>9</th>\n",
       "      <td>140</td>\n",
       "      <td>1.113123</td>\n",
       "      <td>2.996467</td>\n",
       "      <td>-2.581972</td>\n",
       "      <td>1.005660</td>\n",
       "      <td>0.076419</td>\n",
       "      <td>0.390650</td>\n",
       "      <td>0</td>\n",
       "    </tr>\n",
       "  </tbody>\n",
       "</table>\n",
       "</div>"
      ],
      "text/plain": [
       "    id     col_0     col_1     col_2     col_3     col_4     col_5  survived\n",
       "0  158  2.677226 -0.060338 -0.254735 -0.118161  1.309002 -0.473388         1\n",
       "1   14 -0.947702 -1.116770 -0.025885 -0.435016 -0.040591  0.321686         0\n",
       "2  123 -1.018201 -0.915846 -0.286417 -0.140317 -0.097266  0.263621         1\n",
       "3  183  2.109187 -0.881445 -0.297899  0.767697  1.307511 -0.460878         0\n",
       "4  115  1.705025  5.282561 -0.894697 -3.997295  0.631098 -0.924255         1\n",
       "5  128  0.067772 -1.104496  0.096949 -0.424900 -0.153829 -1.108418         0\n",
       "6  127  0.437777 -1.168874  0.507865 -0.554403  1.272972 -0.544967         1\n",
       "7   44  0.081553 -1.134259  0.139862 -0.476705 -0.144525 -1.098940         0\n",
       "8  143  0.969011  2.614011 -0.900646 -1.621358  0.088011 -0.968041         1\n",
       "9  140  1.113123  2.996467 -2.581972  1.005660  0.076419  0.390650         0"
      ]
     },
     "metadata": {},
     "output_type": "display_data"
    },
    {
     "name": "stdout",
     "output_type": "stream",
     "text": [
      "                                                                                                  \r"
     ]
    },
    {
     "data": {
      "text/html": [
       "10 rows X 8 columns"
      ],
      "text/plain": [
       "<IPython.core.display.HTML object>"
      ]
     },
     "metadata": {},
     "output_type": "display_data"
    },
    {
     "name": "stdout",
     "output_type": "stream",
     "text": [
      "Data Transformation completed.⫿⫿⫿⫿⫿⫿⫿⫿⫿⫿⫿⫿⫿⫿⫿⫿⫿⫿⫿⫿⫿⫿⫿⫿⫿⫿⫿⫿⫿⫿⫿⫿⫿⫿⫿⫿⫿⫿⫿⫿⫿⫿｜ 100% - 15/15            \n",
      "\n",
      "Following model is being used for generating prediction :\n",
      "Model ID : DECISIONFOREST_2 \n",
      "Feature Selection Method : pca\n",
      "\n",
      "Prediction : \n",
      "    id  prediction  prob  survived\n",
      "0  123           0   1.0         1\n",
      "1  115           1   1.0         1\n",
      "2  128           0   1.0         0\n",
      "3  127           1   1.0         1\n",
      "4  143           1   1.0         1\n",
      "5  140           0   1.0         0\n",
      "6   44           0   1.0         0\n",
      "7  183           0   1.0         0\n",
      "8   14           0   1.0         0\n",
      "9  158           1   1.0         1\n",
      "\n",
      "Performance Metrics : \n",
      "       Prediction  Mapping  CLASS_1  CLASS_2  Precision   Recall        F1  Support\n",
      "SeqNum                                                                             \n",
      "0               0  CLASS_1       95       20   0.826087  0.88785  0.855856      107\n",
      "1               1  CLASS_2       12       51   0.809524  0.71831  0.761194       71\n",
      "\n",
      "ROC-AUC : \n"
     ]
    },
    {
     "data": {
      "text/html": [
       "<style type=\"text/css\">\n",
       "\ttable {border:ridge 5px;}\n",
       "\ttable td {border:inset 1px;}\n",
       "\ttable tr#HeaderRow {background-color:grey; color:white;}</style>\n",
       "<html><table>\n",
       "\t<tr id=\"HeaderRow\">\n",
       "\t\t<th>AUC</th>\n",
       "\t\t<th>GINI</th>\n",
       "\t</tr>\n",
       "\t<tr>\n",
       "\t\t<td>0.7628011056996182</td>\n",
       "\t\t<td>0.5256022113992365</td>\n",
       "\t</tr>\n",
       "</table></html>"
      ],
      "text/plain": [
       "              GINI\n",
       "AUC               \n",
       "0.762801  0.525602"
      ]
     },
     "metadata": {},
     "output_type": "display_data"
    },
    {
     "data": {
      "text/html": [
       "<style type=\"text/css\">\n",
       "\ttable {border:ridge 5px;}\n",
       "\ttable td {border:inset 1px;}\n",
       "\ttable tr#HeaderRow {background-color:grey; color:white;}</style>\n",
       "<html><table>\n",
       "\t<tr id=\"HeaderRow\">\n",
       "\t\t<th>threshold_value</th>\n",
       "\t\t<th>tpr</th>\n",
       "\t\t<th>fpr</th>\n",
       "\t</tr>\n",
       "\t<tr>\n",
       "\t\t<td>0.04081632653061224</td>\n",
       "\t\t<td>0.7183098591549296</td>\n",
       "\t\t<td>0.11214953271028037</td>\n",
       "\t</tr>\n",
       "\t<tr>\n",
       "\t\t<td>0.08163265306122448</td>\n",
       "\t\t<td>0.7183098591549296</td>\n",
       "\t\t<td>0.11214953271028037</td>\n",
       "\t</tr>\n",
       "\t<tr>\n",
       "\t\t<td>0.1020408163265306</td>\n",
       "\t\t<td>0.7183098591549296</td>\n",
       "\t\t<td>0.11214953271028037</td>\n",
       "\t</tr>\n",
       "\t<tr>\n",
       "\t\t<td>0.12244897959183673</td>\n",
       "\t\t<td>0.7183098591549296</td>\n",
       "\t\t<td>0.11214953271028037</td>\n",
       "\t</tr>\n",
       "\t<tr>\n",
       "\t\t<td>0.16326530612244897</td>\n",
       "\t\t<td>0.7183098591549296</td>\n",
       "\t\t<td>0.11214953271028037</td>\n",
       "\t</tr>\n",
       "\t<tr>\n",
       "\t\t<td>0.18367346938775508</td>\n",
       "\t\t<td>0.7183098591549296</td>\n",
       "\t\t<td>0.11214953271028037</td>\n",
       "\t</tr>\n",
       "\t<tr>\n",
       "\t\t<td>0.14285714285714285</td>\n",
       "\t\t<td>0.7183098591549296</td>\n",
       "\t\t<td>0.11214953271028037</td>\n",
       "\t</tr>\n",
       "\t<tr>\n",
       "\t\t<td>0.061224489795918366</td>\n",
       "\t\t<td>0.7183098591549296</td>\n",
       "\t\t<td>0.11214953271028037</td>\n",
       "\t</tr>\n",
       "\t<tr>\n",
       "\t\t<td>0.02040816326530612</td>\n",
       "\t\t<td>0.7183098591549296</td>\n",
       "\t\t<td>0.11214953271028037</td>\n",
       "\t</tr>\n",
       "\t<tr>\n",
       "\t\t<td>0.0</td>\n",
       "\t\t<td>1.0</td>\n",
       "\t\t<td>1.0</td>\n",
       "\t</tr>\n",
       "</table></html>"
      ],
      "text/plain": [
       "   threshold_value      tpr      fpr\n",
       "0         0.040816  0.71831  0.11215\n",
       "1         0.081633  0.71831  0.11215\n",
       "2         0.102041  0.71831  0.11215\n",
       "3         0.122449  0.71831  0.11215\n",
       "4         0.163265  0.71831  0.11215\n",
       "5         0.183673  0.71831  0.11215\n",
       "6         0.142857  0.71831  0.11215\n",
       "7         0.061224  0.71831  0.11215\n",
       "8         0.020408  0.71831  0.11215\n",
       "9         0.000000  1.00000  1.00000"
      ]
     },
     "metadata": {},
     "output_type": "display_data"
    },
    {
     "name": "stdout",
     "output_type": "stream",
     "text": [
      "\n",
      "Confusion Matrix : \n"
     ]
    },
    {
     "data": {
      "text/plain": [
       "array([[95, 12],\n",
       "       [20, 51]], dtype=int64)"
      ]
     },
     "metadata": {},
     "output_type": "display_data"
    }
   ],
   "source": [
    "# Generating prediction and metrics on test data\n",
    "prediction = aml.predict(titanic_test)"
   ]
  },
  {
   "cell_type": "code",
   "execution_count": 25,
   "id": "f27ed879-0e82-4fbe-9322-7a036677c0a4",
   "metadata": {},
   "outputs": [
    {
     "data": {
      "text/html": [
       "<style type=\"text/css\">\n",
       "\ttable {border:ridge 5px;}\n",
       "\ttable td {border:inset 1px;}\n",
       "\ttable tr#HeaderRow {background-color:grey; color:white;}</style>\n",
       "<html><table>\n",
       "\t<tr id=\"HeaderRow\">\n",
       "\t\t<th>id</th>\n",
       "\t\t<th>prediction</th>\n",
       "\t\t<th>prob</th>\n",
       "\t\t<th>survived</th>\n",
       "\t</tr>\n",
       "\t<tr>\n",
       "\t\t<td>10</td>\n",
       "\t\t<td>0</td>\n",
       "\t\t<td>1.0</td>\n",
       "\t\t<td>0</td>\n",
       "\t</tr>\n",
       "\t<tr>\n",
       "\t\t<td>12</td>\n",
       "\t\t<td>1</td>\n",
       "\t\t<td>1.0</td>\n",
       "\t\t<td>1</td>\n",
       "\t</tr>\n",
       "\t<tr>\n",
       "\t\t<td>13</td>\n",
       "\t\t<td>1</td>\n",
       "\t\t<td>1.0</td>\n",
       "\t\t<td>1</td>\n",
       "\t</tr>\n",
       "\t<tr>\n",
       "\t\t<td>14</td>\n",
       "\t\t<td>0</td>\n",
       "\t\t<td>1.0</td>\n",
       "\t\t<td>0</td>\n",
       "\t</tr>\n",
       "\t<tr>\n",
       "\t\t<td>16</td>\n",
       "\t\t<td>0</td>\n",
       "\t\t<td>1.0</td>\n",
       "\t\t<td>0</td>\n",
       "\t</tr>\n",
       "\t<tr>\n",
       "\t\t<td>17</td>\n",
       "\t\t<td>0</td>\n",
       "\t\t<td>1.0</td>\n",
       "\t\t<td>1</td>\n",
       "\t</tr>\n",
       "\t<tr>\n",
       "\t\t<td>15</td>\n",
       "\t\t<td>0</td>\n",
       "\t\t<td>1.0</td>\n",
       "\t\t<td>0</td>\n",
       "\t</tr>\n",
       "\t<tr>\n",
       "\t\t<td>11</td>\n",
       "\t\t<td>0</td>\n",
       "\t\t<td>1.0</td>\n",
       "\t\t<td>1</td>\n",
       "\t</tr>\n",
       "\t<tr>\n",
       "\t\t<td>9</td>\n",
       "\t\t<td>0</td>\n",
       "\t\t<td>1.0</td>\n",
       "\t\t<td>0</td>\n",
       "\t</tr>\n",
       "\t<tr>\n",
       "\t\t<td>8</td>\n",
       "\t\t<td>0</td>\n",
       "\t\t<td>1.0</td>\n",
       "\t\t<td>0</td>\n",
       "\t</tr>\n",
       "</table></html>"
      ],
      "text/plain": [
       "   id  prediction  prob  survived\n",
       "0  10           0   1.0         0\n",
       "1  12           1   1.0         1\n",
       "2  13           1   1.0         1\n",
       "3  14           0   1.0         0\n",
       "4  16           0   1.0         0\n",
       "5  17           0   1.0         1\n",
       "6  15           0   1.0         0\n",
       "7  11           0   1.0         1\n",
       "8   9           0   1.0         0\n",
       "9   8           0   1.0         0"
      ]
     },
     "execution_count": 25,
     "metadata": {},
     "output_type": "execute_result"
    }
   ],
   "source": [
    "# Printing prediction\n",
    "prediction.head()"
   ]
  },
  {
   "cell_type": "code",
   "execution_count": 26,
   "id": "b9abf6af-1a6f-4bff-87e1-4d0fe8b80bbf",
   "metadata": {},
   "outputs": [
    {
     "data": {
      "text/plain": [
       "True"
      ]
     },
     "execution_count": 26,
     "metadata": {},
     "output_type": "execute_result"
    }
   ],
   "source": [
    "remove_context()"
   ]
  },
  {
   "cell_type": "code",
   "execution_count": null,
   "id": "52a35402-77fc-40c9-9ba9-45096acd8d90",
   "metadata": {},
   "outputs": [],
   "source": []
  }
 ],
 "metadata": {
  "kernelspec": {
   "display_name": "Python 3 (ipykernel)",
   "language": "python",
   "name": "python3"
  },
  "language_info": {
   "codemirror_mode": {
    "name": "ipython",
    "version": 3
   },
   "file_extension": ".py",
   "mimetype": "text/x-python",
   "name": "python",
   "nbconvert_exporter": "python",
   "pygments_lexer": "ipython3",
   "version": "3.10.9"
  }
 },
 "nbformat": 4,
 "nbformat_minor": 5
}
