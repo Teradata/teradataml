{
 "cells": [
  {
   "cell_type": "markdown",
   "id": "f96cfd8d-6a97-4464-b14f-b977dc8bd081",
   "metadata": {},
   "source": [
    "# <b><span style='color:#F1A424'>AutoML - Regression - House Price Prediction </span> </b>"
   ]
  },
  {
   "cell_type": "markdown",
   "id": "25f822df-7160-48dd-a06d-881dc44e2ba9",
   "metadata": {},
   "source": [
    "### Disclaimer\n",
    "Please note, the Vantage Functions via SQLAlchemy feature is a preview/beta code release with limited functionality (the “Code”). As such, you acknowledge that the Code is experimental in nature and that the Code is provided “AS IS” and may not be functional on any machine or in any environment. TERADATA DISCLAIMS ALL WARRANTIES RELATING TO THE CODE, EXPRESS OR IMPLIED, INCLUDING, BUT NOT LIMITED TO, ANY WARRANTIES AGAINST INFRINGEMENT OF THIRD-PARTY RIGHTS, MERCHANTABILITY AND FITNESS FOR A PARTICULAR PURPOSE.\n",
    "\n",
    "TERADATA SHALL NOT BE RESPONSIBLE OR LIABLE WITH RESPECT TO ANY SUBJECT MATTER OF THE CODE UNDER ANY CONTRACT, NEGLIGENCE, STRICT LIABILITY OR OTHER THEORY \n",
    "    (A) FOR LOSS OR INACCURACY OF DATA OR COST OF PROCUREMENT OF SUBSTITUTE GOODS, SERVICES OR TECHNOLOGY, OR \n",
    "    (B) FOR ANY INDIRECT, INCIDENTAL OR CONSEQUENTIAL DAMAGES INCLUDING, BUT NOT LIMITED TO LOSS OF REVENUES AND LOSS OF PROFITS. TERADATA SHALL NOT BE RESPONSIBLE FOR ANY MATTER BEYOND ITS REASONABLE CONTROL.\n",
    "\n",
    "Notwithstanding anything to the contrary: \n",
    "    (a) Teradata will have no obligation of any kind with respect to any Code-related comments, suggestions, design changes or improvements that you elect to provide to Teradata in either verbal or written form (collectively, “Feedback”), and \n",
    "    (b) Teradata and its affiliates are hereby free to use any ideas, concepts, know-how or techniques, in whole or in part, contained in Feedback: \n",
    "        (i) for any purpose whatsoever, including developing, manufacturing, and/or marketing products and/or services incorporating Feedback in whole or in part, and \n",
    "        (ii) without any restrictions or limitations, including requiring the payment of any license fees, royalties, or other consideration. "
   ]
  },
  {
   "cell_type": "markdown",
   "id": "b14e4cd5-774d-46f1-b602-b6b73422a326",
   "metadata": {},
   "source": [
    "## <b> Problem overview:</b>\n",
    "    "
   ]
  },
  {
   "cell_type": "markdown",
   "id": "593fc904-e771-473b-8c4b-5b60a5a03691",
   "metadata": {},
   "source": [
    "\n",
    "The housing price dataset contains range of features associated with residential properties, including their physical attributes, amenities, and location-related characteristics. It is a common type of dataset used for regression or predictive modeling tasks in the field of real estate or housing market analysis. \n",
    "\n",
    "Here are some key details about the Housing dataset:\n",
    "\n",
    "**Features**:\n",
    "\n",
    "- `sn`: Serial number or identifier for each housing entry.\n",
    "- `lotsize`: The size of the lot or land associated with the property, typically measured in square feet.\n",
    "- `bedrooms`: The number of bedrooms in the house, indicating the sleeping spaces.\n",
    "- `bathrms`: The number of bathrooms in the house, reflecting the sanitary facilities available.\n",
    "- `stories`: The number of stories or levels in the house, indicating its vertical structure.\n",
    "- `driveway`: A binary variable indicating the presence or absence of a driveway for vehicular access.\n",
    "- `recroom`: A binary variable indicating whether the house has a recreation room.\n",
    "- `fullbase`: A binary variable indicating the presence or absence of a full basement in the house.\n",
    "- `gashw`: A binary variable indicating whether the house has a gas hot water heating system.\n",
    "- `airco`: A binary variable indicating the presence or absence of air conditioning in the house.\n",
    "- `garagepl`: The number of parking spaces available in the garage.\n",
    "- `prefarea`: A binary variable indicating whether the house is located in a preferred or desirable area.\n",
    "- `homestyle`: A categorical variable representing the style or type of the house.\n",
    "\n",
    "**Target Variable**:\n",
    "\n",
    "- `price`: The price of the house, representing the cost or value of the property.\n",
    "        \n",
    "**Objective**:\n",
    "\n",
    "The main objective is typically to build a predictive model that can accurately predict prices of residential property based on various features. \n",
    "\n",
    "**Challenges**:\n",
    "\n",
    "- Potential challenges in working with this dataset may include handling missing or skewed data.\n",
    "- Managing categorical variables like 'homestyle' and addressing the complexities associated with predicting housing prices.\n",
    "\n",
    "**Usecase**:\n",
    "\n",
    "Here, we will use AutoML(Automated Machine Learning) functionality to automate the entire process of developing a predictive model. It will perform feature exploration, feature engineering, data preparation, model training and evaluation on dataset in custom run and at end we will get leaderboard containined different models along with their performance. Model will also have rank associated with them which indicates which is best performing model for given data followed by other models.\n",
    "\n",
    "As part of custom AutoML run, we will customize below functionalities:\n",
    "- Binning on 'bedrooms' feature to get 2 different levels i.e., 'small_house' and 'big_house' based on values.\n",
    "- Customized ordinal encoding on 'homestyle' and target encoding on 'prefarea'.\n",
    "- Deletion of id column 'sn' using antiselect.\n",
    "- Train test split with training size 0.75.\n",
    "- Outlier filteration with 'percentile' method and customized lower-upper bound.\n",
    "- Feature scaling with 'std' method.\n",
    "- Addition of customized value in hyperparameter 'min_node_size' for 'xgboost' model."
   ]
  },
  {
   "cell_type": "code",
   "execution_count": 1,
   "id": "da6e7e03-8cf4-42cd-abbb-cf24f8cd8a2a",
   "metadata": {},
   "outputs": [],
   "source": [
    "# Importing AutoML from teradataml\n",
    "from teradataml import AutoML"
   ]
  },
  {
   "cell_type": "code",
   "execution_count": 2,
   "id": "9b1eb719-f865-4c5d-bef5-4f5bc59b1c55",
   "metadata": {},
   "outputs": [],
   "source": [
    "# Importing other important libraries\n",
    "import getpass\n",
    "from teradataml import create_context, remove_context\n",
    "from teradataml import DataFrame\n",
    "from teradataml import load_example_data\n",
    "from teradataml import TrainTestSplit"
   ]
  },
  {
   "cell_type": "code",
   "execution_count": 3,
   "id": "9eee25a4-8565-4dc5-b53f-5f701430217e",
   "metadata": {},
   "outputs": [
    {
     "name": "stdin",
     "output_type": "stream",
     "text": [
      "Host:  ········\n",
      "Username:  ········\n",
      "Password:  ········\n"
     ]
    }
   ],
   "source": [
    "# Create the connection.\n",
    "host = getpass.getpass(\"Host: \")\n",
    "username = getpass.getpass(\"Username: \")\n",
    "password = getpass.getpass(\"Password: \")\n",
    "\n",
    "con = create_context(host=host, username=username, password=password)"
   ]
  },
  {
   "cell_type": "markdown",
   "id": "91e6a8ab-6399-4d32-a52c-1273e5841eac",
   "metadata": {
    "tags": []
   },
   "source": [
    "## <b><span style='color:#F1A424'>| 1.</span> Loading Dataset </b>"
   ]
  },
  {
   "cell_type": "code",
   "execution_count": 4,
   "id": "eac5a16c-5d39-4460-b9aa-ff67b81f3475",
   "metadata": {},
   "outputs": [
    {
     "name": "stdout",
     "output_type": "stream",
     "text": [
      "WARNING: Skipped loading table housing_train since it already exists in the database.\n",
      "WARNING: Skipped loading table housing_test since it already exists in the database.\n"
     ]
    }
   ],
   "source": [
    "# Loading dataset from example data collection\n",
    "load_example_data(\"decisionforestpredict\", [\"housing_train\", \"housing_test\"])"
   ]
  },
  {
   "cell_type": "code",
   "execution_count": 5,
   "id": "d5588d39-c040-4754-a827-4526c9322deb",
   "metadata": {},
   "outputs": [],
   "source": [
    "# Fetching in teradata dataframe\n",
    "housing_train = DataFrame.from_table(\"housing_train\")\n",
    "housing_test = DataFrame.from_table(\"housing_test\")"
   ]
  },
  {
   "cell_type": "code",
   "execution_count": 6,
   "id": "aa245ba9-dc8a-4bb2-9415-6b4ef2b25fa4",
   "metadata": {},
   "outputs": [
    {
     "data": {
      "text/html": [
       "<style type=\"text/css\">\n",
       "\ttable {border:ridge 5px;}\n",
       "\ttable td {border:inset 1px;}\n",
       "\ttable tr#HeaderRow {background-color:grey; color:white;}</style>\n",
       "<html><table>\n",
       "\t<tr id=\"HeaderRow\">\n",
       "\t\t<th>sn</th>\n",
       "\t\t<th>price</th>\n",
       "\t\t<th>lotsize</th>\n",
       "\t\t<th>bedrooms</th>\n",
       "\t\t<th>bathrms</th>\n",
       "\t\t<th>stories</th>\n",
       "\t\t<th>driveway</th>\n",
       "\t\t<th>recroom</th>\n",
       "\t\t<th>fullbase</th>\n",
       "\t\t<th>gashw</th>\n",
       "\t\t<th>airco</th>\n",
       "\t\t<th>garagepl</th>\n",
       "\t\t<th>prefarea</th>\n",
       "\t\t<th>homestyle</th>\n",
       "\t</tr>\n",
       "\t<tr>\n",
       "\t\t<td>3</td>\n",
       "\t\t<td>49500.0</td>\n",
       "\t\t<td>3060.0</td>\n",
       "\t\t<td>3</td>\n",
       "\t\t<td>1</td>\n",
       "\t\t<td>1</td>\n",
       "\t\t<td>yes</td>\n",
       "\t\t<td>no</td>\n",
       "\t\t<td>no</td>\n",
       "\t\t<td>no</td>\n",
       "\t\t<td>no</td>\n",
       "\t\t<td>0</td>\n",
       "\t\t<td>no</td>\n",
       "\t\t<td>Classic</td>\n",
       "\t</tr>\n",
       "\t<tr>\n",
       "\t\t<td>5</td>\n",
       "\t\t<td>61000.0</td>\n",
       "\t\t<td>6360.0</td>\n",
       "\t\t<td>2</td>\n",
       "\t\t<td>1</td>\n",
       "\t\t<td>1</td>\n",
       "\t\t<td>yes</td>\n",
       "\t\t<td>no</td>\n",
       "\t\t<td>no</td>\n",
       "\t\t<td>no</td>\n",
       "\t\t<td>no</td>\n",
       "\t\t<td>0</td>\n",
       "\t\t<td>no</td>\n",
       "\t\t<td>Eclectic</td>\n",
       "\t</tr>\n",
       "\t<tr>\n",
       "\t\t<td>6</td>\n",
       "\t\t<td>66000.0</td>\n",
       "\t\t<td>4160.0</td>\n",
       "\t\t<td>3</td>\n",
       "\t\t<td>1</td>\n",
       "\t\t<td>1</td>\n",
       "\t\t<td>yes</td>\n",
       "\t\t<td>yes</td>\n",
       "\t\t<td>yes</td>\n",
       "\t\t<td>no</td>\n",
       "\t\t<td>yes</td>\n",
       "\t\t<td>0</td>\n",
       "\t\t<td>no</td>\n",
       "\t\t<td>Eclectic</td>\n",
       "\t</tr>\n",
       "\t<tr>\n",
       "\t\t<td>7</td>\n",
       "\t\t<td>66000.0</td>\n",
       "\t\t<td>3880.0</td>\n",
       "\t\t<td>3</td>\n",
       "\t\t<td>2</td>\n",
       "\t\t<td>2</td>\n",
       "\t\t<td>yes</td>\n",
       "\t\t<td>no</td>\n",
       "\t\t<td>yes</td>\n",
       "\t\t<td>no</td>\n",
       "\t\t<td>no</td>\n",
       "\t\t<td>2</td>\n",
       "\t\t<td>no</td>\n",
       "\t\t<td>Eclectic</td>\n",
       "\t</tr>\n",
       "\t<tr>\n",
       "\t\t<td>9</td>\n",
       "\t\t<td>83800.0</td>\n",
       "\t\t<td>4800.0</td>\n",
       "\t\t<td>3</td>\n",
       "\t\t<td>1</td>\n",
       "\t\t<td>1</td>\n",
       "\t\t<td>yes</td>\n",
       "\t\t<td>yes</td>\n",
       "\t\t<td>yes</td>\n",
       "\t\t<td>no</td>\n",
       "\t\t<td>no</td>\n",
       "\t\t<td>0</td>\n",
       "\t\t<td>no</td>\n",
       "\t\t<td>Eclectic</td>\n",
       "\t</tr>\n",
       "\t<tr>\n",
       "\t\t<td>10</td>\n",
       "\t\t<td>88500.0</td>\n",
       "\t\t<td>5500.0</td>\n",
       "\t\t<td>3</td>\n",
       "\t\t<td>2</td>\n",
       "\t\t<td>4</td>\n",
       "\t\t<td>yes</td>\n",
       "\t\t<td>yes</td>\n",
       "\t\t<td>no</td>\n",
       "\t\t<td>no</td>\n",
       "\t\t<td>yes</td>\n",
       "\t\t<td>1</td>\n",
       "\t\t<td>no</td>\n",
       "\t\t<td>Eclectic</td>\n",
       "\t</tr>\n",
       "\t<tr>\n",
       "\t\t<td>8</td>\n",
       "\t\t<td>69000.0</td>\n",
       "\t\t<td>4160.0</td>\n",
       "\t\t<td>3</td>\n",
       "\t\t<td>1</td>\n",
       "\t\t<td>3</td>\n",
       "\t\t<td>yes</td>\n",
       "\t\t<td>no</td>\n",
       "\t\t<td>no</td>\n",
       "\t\t<td>no</td>\n",
       "\t\t<td>no</td>\n",
       "\t\t<td>0</td>\n",
       "\t\t<td>no</td>\n",
       "\t\t<td>Eclectic</td>\n",
       "\t</tr>\n",
       "\t<tr>\n",
       "\t\t<td>4</td>\n",
       "\t\t<td>60500.0</td>\n",
       "\t\t<td>6650.0</td>\n",
       "\t\t<td>3</td>\n",
       "\t\t<td>1</td>\n",
       "\t\t<td>2</td>\n",
       "\t\t<td>yes</td>\n",
       "\t\t<td>yes</td>\n",
       "\t\t<td>no</td>\n",
       "\t\t<td>no</td>\n",
       "\t\t<td>no</td>\n",
       "\t\t<td>0</td>\n",
       "\t\t<td>no</td>\n",
       "\t\t<td>Eclectic</td>\n",
       "\t</tr>\n",
       "\t<tr>\n",
       "\t\t<td>2</td>\n",
       "\t\t<td>38500.0</td>\n",
       "\t\t<td>4000.0</td>\n",
       "\t\t<td>2</td>\n",
       "\t\t<td>1</td>\n",
       "\t\t<td>1</td>\n",
       "\t\t<td>yes</td>\n",
       "\t\t<td>no</td>\n",
       "\t\t<td>no</td>\n",
       "\t\t<td>no</td>\n",
       "\t\t<td>no</td>\n",
       "\t\t<td>0</td>\n",
       "\t\t<td>no</td>\n",
       "\t\t<td>Classic</td>\n",
       "\t</tr>\n",
       "\t<tr>\n",
       "\t\t<td>1</td>\n",
       "\t\t<td>42000.0</td>\n",
       "\t\t<td>5850.0</td>\n",
       "\t\t<td>3</td>\n",
       "\t\t<td>1</td>\n",
       "\t\t<td>2</td>\n",
       "\t\t<td>yes</td>\n",
       "\t\t<td>no</td>\n",
       "\t\t<td>yes</td>\n",
       "\t\t<td>no</td>\n",
       "\t\t<td>no</td>\n",
       "\t\t<td>1</td>\n",
       "\t\t<td>no</td>\n",
       "\t\t<td>Classic</td>\n",
       "\t</tr>\n",
       "</table></html>"
      ],
      "text/plain": [
       "      price  lotsize  bedrooms  bathrms  stories driveway recroom fullbase gashw airco  garagepl prefarea homestyle\n",
       "sn                                                                                                                 \n",
       "3   49500.0   3060.0         3        1        1      yes      no       no    no    no         0       no   Classic\n",
       "5   61000.0   6360.0         2        1        1      yes      no       no    no    no         0       no  Eclectic\n",
       "6   66000.0   4160.0         3        1        1      yes     yes      yes    no   yes         0       no  Eclectic\n",
       "7   66000.0   3880.0         3        2        2      yes      no      yes    no    no         2       no  Eclectic\n",
       "9   83800.0   4800.0         3        1        1      yes     yes      yes    no    no         0       no  Eclectic\n",
       "10  88500.0   5500.0         3        2        4      yes     yes       no    no   yes         1       no  Eclectic\n",
       "8   69000.0   4160.0         3        1        3      yes      no       no    no    no         0       no  Eclectic\n",
       "4   60500.0   6650.0         3        1        2      yes     yes       no    no    no         0       no  Eclectic\n",
       "2   38500.0   4000.0         2        1        1      yes      no       no    no    no         0       no   Classic\n",
       "1   42000.0   5850.0         3        1        2      yes      no      yes    no    no         1       no   Classic"
      ]
     },
     "execution_count": 6,
     "metadata": {},
     "output_type": "execute_result"
    }
   ],
   "source": [
    "# Housing train dataset\n",
    "housing_train.head()"
   ]
  },
  {
   "cell_type": "code",
   "execution_count": 7,
   "id": "408ccd1f-fc35-43df-9f77-abcbff8b9adc",
   "metadata": {},
   "outputs": [
    {
     "data": {
      "text/plain": [
       "(492, 14)"
      ]
     },
     "execution_count": 7,
     "metadata": {},
     "output_type": "execute_result"
    }
   ],
   "source": [
    "# Housing train dataset shape\n",
    "housing_train.shape"
   ]
  },
  {
   "cell_type": "code",
   "execution_count": 8,
   "id": "5bb0f8c9-e13d-4852-bc1e-39e26fbd1bb4",
   "metadata": {},
   "outputs": [
    {
     "data": {
      "text/html": [
       "<style type=\"text/css\">\n",
       "\ttable {border:ridge 5px;}\n",
       "\ttable td {border:inset 1px;}\n",
       "\ttable tr#HeaderRow {background-color:grey; color:white;}</style>\n",
       "<html><table>\n",
       "\t<tr id=\"HeaderRow\">\n",
       "\t\t<th>sn</th>\n",
       "\t\t<th>price</th>\n",
       "\t\t<th>lotsize</th>\n",
       "\t\t<th>bedrooms</th>\n",
       "\t\t<th>bathrms</th>\n",
       "\t\t<th>stories</th>\n",
       "\t\t<th>driveway</th>\n",
       "\t\t<th>recroom</th>\n",
       "\t\t<th>fullbase</th>\n",
       "\t\t<th>gashw</th>\n",
       "\t\t<th>airco</th>\n",
       "\t\t<th>garagepl</th>\n",
       "\t\t<th>prefarea</th>\n",
       "\t\t<th>homestyle</th>\n",
       "\t</tr>\n",
       "\t<tr>\n",
       "\t\t<td>25</td>\n",
       "\t\t<td>42000.0</td>\n",
       "\t\t<td>4960.0</td>\n",
       "\t\t<td>2</td>\n",
       "\t\t<td>1</td>\n",
       "\t\t<td>1</td>\n",
       "\t\t<td>yes</td>\n",
       "\t\t<td>no</td>\n",
       "\t\t<td>no</td>\n",
       "\t\t<td>no</td>\n",
       "\t\t<td>no</td>\n",
       "\t\t<td>0</td>\n",
       "\t\t<td>no</td>\n",
       "\t\t<td>Classic</td>\n",
       "\t</tr>\n",
       "\t<tr>\n",
       "\t\t<td>53</td>\n",
       "\t\t<td>68000.0</td>\n",
       "\t\t<td>9166.0</td>\n",
       "\t\t<td>2</td>\n",
       "\t\t<td>1</td>\n",
       "\t\t<td>1</td>\n",
       "\t\t<td>yes</td>\n",
       "\t\t<td>no</td>\n",
       "\t\t<td>yes</td>\n",
       "\t\t<td>no</td>\n",
       "\t\t<td>yes</td>\n",
       "\t\t<td>2</td>\n",
       "\t\t<td>no</td>\n",
       "\t\t<td>Eclectic</td>\n",
       "\t</tr>\n",
       "\t<tr>\n",
       "\t\t<td>111</td>\n",
       "\t\t<td>43000.0</td>\n",
       "\t\t<td>5076.0</td>\n",
       "\t\t<td>3</td>\n",
       "\t\t<td>1</td>\n",
       "\t\t<td>1</td>\n",
       "\t\t<td>no</td>\n",
       "\t\t<td>no</td>\n",
       "\t\t<td>no</td>\n",
       "\t\t<td>no</td>\n",
       "\t\t<td>no</td>\n",
       "\t\t<td>0</td>\n",
       "\t\t<td>no</td>\n",
       "\t\t<td>Classic</td>\n",
       "\t</tr>\n",
       "\t<tr>\n",
       "\t\t<td>117</td>\n",
       "\t\t<td>93000.0</td>\n",
       "\t\t<td>3760.0</td>\n",
       "\t\t<td>3</td>\n",
       "\t\t<td>1</td>\n",
       "\t\t<td>2</td>\n",
       "\t\t<td>yes</td>\n",
       "\t\t<td>no</td>\n",
       "\t\t<td>no</td>\n",
       "\t\t<td>yes</td>\n",
       "\t\t<td>no</td>\n",
       "\t\t<td>2</td>\n",
       "\t\t<td>no</td>\n",
       "\t\t<td>Eclectic</td>\n",
       "\t</tr>\n",
       "\t<tr>\n",
       "\t\t<td>140</td>\n",
       "\t\t<td>43000.0</td>\n",
       "\t\t<td>3750.0</td>\n",
       "\t\t<td>3</td>\n",
       "\t\t<td>1</td>\n",
       "\t\t<td>2</td>\n",
       "\t\t<td>yes</td>\n",
       "\t\t<td>no</td>\n",
       "\t\t<td>no</td>\n",
       "\t\t<td>no</td>\n",
       "\t\t<td>no</td>\n",
       "\t\t<td>0</td>\n",
       "\t\t<td>no</td>\n",
       "\t\t<td>Classic</td>\n",
       "\t</tr>\n",
       "\t<tr>\n",
       "\t\t<td>142</td>\n",
       "\t\t<td>40000.0</td>\n",
       "\t\t<td>2650.0</td>\n",
       "\t\t<td>3</td>\n",
       "\t\t<td>1</td>\n",
       "\t\t<td>2</td>\n",
       "\t\t<td>yes</td>\n",
       "\t\t<td>no</td>\n",
       "\t\t<td>yes</td>\n",
       "\t\t<td>no</td>\n",
       "\t\t<td>no</td>\n",
       "\t\t<td>1</td>\n",
       "\t\t<td>no</td>\n",
       "\t\t<td>Classic</td>\n",
       "\t</tr>\n",
       "\t<tr>\n",
       "\t\t<td>132</td>\n",
       "\t\t<td>44500.0</td>\n",
       "\t\t<td>3850.0</td>\n",
       "\t\t<td>3</td>\n",
       "\t\t<td>1</td>\n",
       "\t\t<td>2</td>\n",
       "\t\t<td>yes</td>\n",
       "\t\t<td>no</td>\n",
       "\t\t<td>no</td>\n",
       "\t\t<td>no</td>\n",
       "\t\t<td>no</td>\n",
       "\t\t<td>0</td>\n",
       "\t\t<td>no</td>\n",
       "\t\t<td>Classic</td>\n",
       "\t</tr>\n",
       "\t<tr>\n",
       "\t\t<td>38</td>\n",
       "\t\t<td>67000.0</td>\n",
       "\t\t<td>5170.0</td>\n",
       "\t\t<td>3</td>\n",
       "\t\t<td>1</td>\n",
       "\t\t<td>4</td>\n",
       "\t\t<td>yes</td>\n",
       "\t\t<td>no</td>\n",
       "\t\t<td>no</td>\n",
       "\t\t<td>no</td>\n",
       "\t\t<td>yes</td>\n",
       "\t\t<td>0</td>\n",
       "\t\t<td>no</td>\n",
       "\t\t<td>Eclectic</td>\n",
       "\t</tr>\n",
       "\t<tr>\n",
       "\t\t<td>16</td>\n",
       "\t\t<td>37900.0</td>\n",
       "\t\t<td>3185.0</td>\n",
       "\t\t<td>2</td>\n",
       "\t\t<td>1</td>\n",
       "\t\t<td>1</td>\n",
       "\t\t<td>yes</td>\n",
       "\t\t<td>no</td>\n",
       "\t\t<td>no</td>\n",
       "\t\t<td>no</td>\n",
       "\t\t<td>yes</td>\n",
       "\t\t<td>0</td>\n",
       "\t\t<td>no</td>\n",
       "\t\t<td>Classic</td>\n",
       "\t</tr>\n",
       "\t<tr>\n",
       "\t\t<td>13</td>\n",
       "\t\t<td>27000.0</td>\n",
       "\t\t<td>1700.0</td>\n",
       "\t\t<td>3</td>\n",
       "\t\t<td>1</td>\n",
       "\t\t<td>2</td>\n",
       "\t\t<td>yes</td>\n",
       "\t\t<td>no</td>\n",
       "\t\t<td>no</td>\n",
       "\t\t<td>no</td>\n",
       "\t\t<td>no</td>\n",
       "\t\t<td>0</td>\n",
       "\t\t<td>no</td>\n",
       "\t\t<td>Classic</td>\n",
       "\t</tr>\n",
       "</table></html>"
      ],
      "text/plain": [
       "       price  lotsize  bedrooms  bathrms  stories driveway recroom fullbase gashw airco  garagepl prefarea homestyle\n",
       "sn                                                                                                                  \n",
       "25   42000.0   4960.0         2        1        1      yes      no       no    no    no         0       no   Classic\n",
       "53   68000.0   9166.0         2        1        1      yes      no      yes    no   yes         2       no  Eclectic\n",
       "111  43000.0   5076.0         3        1        1       no      no       no    no    no         0       no   Classic\n",
       "117  93000.0   3760.0         3        1        2      yes      no       no   yes    no         2       no  Eclectic\n",
       "140  43000.0   3750.0         3        1        2      yes      no       no    no    no         0       no   Classic\n",
       "142  40000.0   2650.0         3        1        2      yes      no      yes    no    no         1       no   Classic\n",
       "132  44500.0   3850.0         3        1        2      yes      no       no    no    no         0       no   Classic\n",
       "38   67000.0   5170.0         3        1        4      yes      no       no    no   yes         0       no  Eclectic\n",
       "16   37900.0   3185.0         2        1        1      yes      no       no    no   yes         0       no   Classic\n",
       "13   27000.0   1700.0         3        1        2      yes      no       no    no    no         0       no   Classic"
      ]
     },
     "execution_count": 8,
     "metadata": {},
     "output_type": "execute_result"
    }
   ],
   "source": [
    "# Housing test dataset\n",
    "housing_test.head()"
   ]
  },
  {
   "cell_type": "code",
   "execution_count": 9,
   "id": "dc7373c4-95e0-4f2e-bbb0-1c58e34043de",
   "metadata": {},
   "outputs": [
    {
     "data": {
      "text/plain": [
       "(46, 14)"
      ]
     },
     "execution_count": 9,
     "metadata": {},
     "output_type": "execute_result"
    }
   ],
   "source": [
    "# Housing test dataset shape\n",
    "housing_test.shape"
   ]
  },
  {
   "cell_type": "code",
   "execution_count": 10,
   "id": "8ff915c6-b34a-42fa-85b9-d6ecc8b107e1",
   "metadata": {
    "tags": []
   },
   "outputs": [
    {
     "name": "stdout",
     "output_type": "stream",
     "text": [
      "\n",
      "Generating custom config JSON for AutoML ...\n",
      "\n",
      "Available main options for customization with corresponding indices: \n",
      "--------------------------------------------------------------------------------\n",
      "\n",
      "Index 1: Customize Feature Engineering Phase\n",
      "\n",
      "Index 2: Customize Data Preparation Phase\n",
      "\n",
      "Index 3: Customize Model Training Phase\n",
      "\n",
      "Index 4: Generate custom json and exit\n",
      "--------------------------------------------------------------------------------\n"
     ]
    },
    {
     "name": "stdin",
     "output_type": "stream",
     "text": [
      "\n",
      "Enter the index you want to customize:  1\n"
     ]
    },
    {
     "name": "stdout",
     "output_type": "stream",
     "text": [
      "\n",
      "Customizing Feature Engineering Phase ...\n",
      "\n",
      "Available options for customization of feature engineering phase with corresponding indices: \n",
      "--------------------------------------------------------------------------------\n",
      "\n",
      "Index 1: Customize Missing Value Handling\n",
      "\n",
      "Index 2: Customize Bincode Encoding\n",
      "\n",
      "Index 3: Customize String Manipulation\n",
      "\n",
      "Index 4: Customize Categorical Encoding\n",
      "\n",
      "Index 5: Customize Mathematical Transformation\n",
      "\n",
      "Index 6: Customize Nonlinear Transformation\n",
      "\n",
      "Index 7: Customize Antiselect Features\n",
      "\n",
      "Index 8: Back to main menu\n",
      "\n",
      "Index 9: Generate custom json and exit\n",
      "--------------------------------------------------------------------------------\n"
     ]
    },
    {
     "name": "stdin",
     "output_type": "stream",
     "text": [
      "\n",
      "Enter the list of indices you want to customize in feature engineering phase:  2,4,7,8\n"
     ]
    },
    {
     "name": "stdout",
     "output_type": "stream",
     "text": [
      "\n",
      "Customizing Bincode Encoding ...\n",
      "\n",
      "Provide the following details to customize binning and coding encoding:\n",
      "\n",
      "Available binning methods with corresponding indices:\n",
      "Index 1: Equal-Width\n",
      "Index 2: Variable-Width\n"
     ]
    },
    {
     "name": "stdin",
     "output_type": "stream",
     "text": [
      "\n",
      "Enter the feature or list of features for binning:  bedrooms\n",
      "\n",
      "Enter the index of corresponding binning method for feature bedrooms:  2\n",
      "\n",
      "Enter the number of bins for feature bedrooms:  2\n"
     ]
    },
    {
     "name": "stdout",
     "output_type": "stream",
     "text": [
      "\n",
      "Available value type of feature for variable binning with corresponding indices:\n",
      "Index 1: int\n",
      "Index 2: float\n",
      "\n",
      "Provide the range for bin 1 of feature bedrooms: \n"
     ]
    },
    {
     "name": "stdin",
     "output_type": "stream",
     "text": [
      "\n",
      "Enter the index of corresponding value type of feature bedrooms:  1\n",
      "\n",
      "Enter the minimum value for bin 1 of feature bedrooms:  0\n",
      "\n",
      "Enter the maximum value for bin 1 of feature bedrooms:  2\n",
      "\n",
      "Enter the label for bin 1 of feature bedrooms:  small_house\n"
     ]
    },
    {
     "name": "stdout",
     "output_type": "stream",
     "text": [
      "\n",
      "Provide the range for bin 2 of feature bedrooms: \n"
     ]
    },
    {
     "name": "stdin",
     "output_type": "stream",
     "text": [
      "\n",
      "Enter the index of corresponding value type of feature bedrooms:  1\n",
      "\n",
      "Enter the minimum value for bin 2 of feature bedrooms:  3\n",
      "\n",
      "Enter the maximum value for bin 2 of feature bedrooms:  6\n",
      "\n",
      "Enter the label for bin 2 of feature bedrooms:  big_house\n"
     ]
    },
    {
     "name": "stdout",
     "output_type": "stream",
     "text": [
      "\n",
      "Available options for generic arguments: \n",
      "Index 0: Default\n",
      "Index 1: volatile\n",
      "Index 2: persist\n"
     ]
    },
    {
     "name": "stdin",
     "output_type": "stream",
     "text": [
      "\n",
      "Enter the indices for generic arguments :  0\n"
     ]
    },
    {
     "name": "stdout",
     "output_type": "stream",
     "text": [
      "\n",
      "Customization of bincode encoding has been completed successfully.\n",
      "\n",
      "Customizing Categorical Encoding ...\n",
      "\n",
      "Provide the following details to customize categorical encoding:\n",
      "\n",
      "Available categorical encoding methods with corresponding indices:\n",
      "Index 1: OneHotEncoding\n",
      "Index 2: OrdinalEncoding\n",
      "Index 3: TargetEncoding\n"
     ]
    },
    {
     "name": "stdin",
     "output_type": "stream",
     "text": [
      "\n",
      "Enter the list of corresponding index categorical encoding methods you want to use:  2,3\n",
      "\n",
      "Enter the feature or list of features for OrdinalEncoding:  homestyle\n",
      "\n",
      "Enter the feature or list of features for TargetEncoding:  prefarea\n"
     ]
    },
    {
     "name": "stdout",
     "output_type": "stream",
     "text": [
      "\n",
      "Available target encoding methods with corresponding indices:\n",
      "Index 1: CBM_BETA\n",
      "Index 2: CBM_DIRICHLET\n",
      "Index 3: CBM_GAUSSIAN_INVERSE_GAMMA\n"
     ]
    },
    {
     "name": "stdin",
     "output_type": "stream",
     "text": [
      "\n",
      "Enter the index of target encoding method for feature prefarea:  3\n",
      "\n",
      "Enter the response column for target encoding method for feature prefarea:  price\n"
     ]
    },
    {
     "name": "stdout",
     "output_type": "stream",
     "text": [
      "\n",
      "Available options for generic arguments: \n",
      "Index 0: Default\n",
      "Index 1: volatile\n",
      "Index 2: persist\n"
     ]
    },
    {
     "name": "stdin",
     "output_type": "stream",
     "text": [
      "\n",
      "Enter the indices for generic arguments :  0\n"
     ]
    },
    {
     "name": "stdout",
     "output_type": "stream",
     "text": [
      "\n",
      "Customization of categorical encoding has been completed successfully.\n",
      "\n",
      "Customizing Antiselect Features ...\n"
     ]
    },
    {
     "name": "stdin",
     "output_type": "stream",
     "text": [
      "\n",
      "Enter the feature or list of features for antiselect:  sn\n"
     ]
    },
    {
     "name": "stdout",
     "output_type": "stream",
     "text": [
      "\n",
      "Available options for generic arguments: \n",
      "Index 0: Default\n",
      "Index 1: volatile\n",
      "Index 2: persist\n"
     ]
    },
    {
     "name": "stdin",
     "output_type": "stream",
     "text": [
      "\n",
      "Enter the indices for generic arguments :  0\n"
     ]
    },
    {
     "name": "stdout",
     "output_type": "stream",
     "text": [
      "\n",
      "Customization of antiselect features has been completed successfully.\n",
      "\n",
      "Customization of feature engineering phase has been completed successfully.\n",
      "\n",
      "Available main options for customization with corresponding indices: \n",
      "--------------------------------------------------------------------------------\n",
      "\n",
      "Index 1: Customize Feature Engineering Phase\n",
      "\n",
      "Index 2: Customize Data Preparation Phase\n",
      "\n",
      "Index 3: Customize Model Training Phase\n",
      "\n",
      "Index 4: Generate custom json and exit\n",
      "--------------------------------------------------------------------------------\n"
     ]
    },
    {
     "name": "stdin",
     "output_type": "stream",
     "text": [
      "\n",
      "Enter the index you want to customize:  2\n"
     ]
    },
    {
     "name": "stdout",
     "output_type": "stream",
     "text": [
      "\n",
      "Customizing Data Preparation Phase ...\n",
      "\n",
      "Available options for customization of data preparation phase with corresponding indices: \n",
      "--------------------------------------------------------------------------------\n",
      "\n",
      "Index 1: Customize Data Imbalance Handling\n",
      "\n",
      "Index 2: Customize Outlier Handling\n",
      "\n",
      "Index 3: Customize Feature Scaling\n",
      "\n",
      "Index 4: Back to main menu\n",
      "\n",
      "Index 5: Generate custom json and exit\n",
      "--------------------------------------------------------------------------------\n"
     ]
    },
    {
     "name": "stdin",
     "output_type": "stream",
     "text": [
      "\n",
      "Enter the list of indices you want to customize in data preparation phase:  1,2\n"
     ]
    },
    {
     "name": "stdout",
     "output_type": "stream",
     "text": [
      "\n",
      "Customizing Data Imbalance Handling ...\n",
      "\n",
      "Available data sampling methods with corresponding indices:\n",
      "Index 1: SMOTE\n",
      "Index 2: NearMiss\n"
     ]
    },
    {
     "name": "stdin",
     "output_type": "stream",
     "text": [
      "\n",
      "Enter the corresponding index data imbalance handling method:  1\n"
     ]
    },
    {
     "name": "stdout",
     "output_type": "stream",
     "text": [
      "\n",
      "Customization of data imbalance handling has been completed successfully.\n",
      "\n",
      "Customizing Outlier Handling ...\n",
      "\n",
      "Available outlier detection methods with corresponding indices:\n",
      "Index 1: percentile\n",
      "Index 2: tukey\n",
      "Index 3: carling\n"
     ]
    },
    {
     "name": "stdin",
     "output_type": "stream",
     "text": [
      "\n",
      "Enter the corresponding index oulier handling method:  1\n",
      "\n",
      "Enter the lower percentile value for outlier handling:  0.15\n",
      "\n",
      "Enter the upper percentile value for outlier handling:  0.85\n",
      "\n",
      "Enter the feature or list of features for outlier handling:  bathrms\n"
     ]
    },
    {
     "name": "stdout",
     "output_type": "stream",
     "text": [
      "\n",
      "Available outlier replacement methods with corresponding indices:\n",
      "Index 1: delete\n",
      "Index 2: median\n",
      "Index 3: Any Numeric Value\n"
     ]
    },
    {
     "name": "stdin",
     "output_type": "stream",
     "text": [
      "\n",
      "Enter the index of corresponding replacement method for feature bathrms:  1\n"
     ]
    },
    {
     "name": "stdout",
     "output_type": "stream",
     "text": [
      "\n",
      "Available options for generic arguments: \n",
      "Index 0: Default\n",
      "Index 1: volatile\n",
      "Index 2: persist\n"
     ]
    },
    {
     "name": "stdin",
     "output_type": "stream",
     "text": [
      "\n",
      "Enter the indices for generic arguments :  0\n"
     ]
    },
    {
     "name": "stdout",
     "output_type": "stream",
     "text": [
      "\n",
      "Customization of outlier handling has been completed successfully.\n",
      "\n",
      "Available options for customization of data preparation phase with corresponding indices: \n",
      "--------------------------------------------------------------------------------\n",
      "\n",
      "Index 1: Customize Data Imbalance Handling\n",
      "\n",
      "Index 2: Customize Outlier Handling\n",
      "\n",
      "Index 3: Customize Feature Scaling\n",
      "\n",
      "Index 4: Back to main menu\n",
      "\n",
      "Index 5: Generate custom json and exit\n",
      "--------------------------------------------------------------------------------\n"
     ]
    },
    {
     "name": "stdin",
     "output_type": "stream",
     "text": [
      "\n",
      "Enter the list of indices you want to customize in data preparation phase:  5\n"
     ]
    },
    {
     "name": "stdout",
     "output_type": "stream",
     "text": [
      "\n",
      "Customization of data preparation phase has been completed successfully.\n",
      "\n",
      "Process of generating custom config file for AutoML has been completed successfully.\n",
      "\n",
      "'custom_housing.json' file is generated successfully under the current working directory.\n"
     ]
    }
   ],
   "source": [
    "AutoML.generate_custom_config(\"custom_housing\")"
   ]
  },
  {
   "cell_type": "markdown",
   "id": "cdf31db2-eb56-45ca-86d3-cacd34052527",
   "metadata": {
    "tags": []
   },
   "source": [
    "## <b><span style='color:#F1A424'>| 2.</span> Fitting AutoML </b>"
   ]
  },
  {
   "cell_type": "code",
   "execution_count": 11,
   "id": "0e71837b-93dc-4c80-bf3a-765d147d633a",
   "metadata": {},
   "outputs": [],
   "source": [
    "# Creating AutoML instance with task type 'Regression'.\n",
    "# Excluding 'glm', 'svm', and 'knn' models from default model list for training.\n",
    "# Keeping early stopping metrics threshold to 0.6 for 'R2', early stopping timer threshold to 200 sec\n",
    "# Using verbose level 2 for detailed loggging\n",
    "# Passing custom json file to provide customized value for AutoML.\n",
    "\n",
    "aml = AutoML(task_type=\"Regression\",\n",
    "             exclude=['glm','svm','knn'],\n",
    "             verbose=2,\n",
    "             max_runtime_secs=200,\n",
    "             stopping_metric='R2',\n",
    "             stopping_tolerance=0.6,\n",
    "             custom_config_file='custom_housing.json')"
   ]
  },
  {
   "cell_type": "code",
   "execution_count": 12,
   "id": "da3c7457-0026-46a1-bda5-6246f0071dab",
   "metadata": {
    "tags": []
   },
   "outputs": [
    {
     "name": "stdout",
     "output_type": "stream",
     "text": [
      "\n",
      "Received below input for customization : \n",
      "{\n",
      "    \"BincodeIndicator\": true,\n",
      "    \"BincodeParam\": {\n",
      "        \"bedrooms\": {\n",
      "            \"Type\": \"Variable-Width\",\n",
      "            \"NumOfBins\": 2,\n",
      "            \"Bin_1\": {\n",
      "                \"min_value\": 0,\n",
      "                \"max_value\": 2,\n",
      "                \"label\": \"small_house\"\n",
      "            },\n",
      "            \"Bin_2\": {\n",
      "                \"min_value\": 3,\n",
      "                \"max_value\": 6,\n",
      "                \"label\": \"big_house\"\n",
      "            }\n",
      "        }\n",
      "    },\n",
      "    \"CategoricalEncodingIndicator\": true,\n",
      "    \"CategoricalEncodingParam\": {\n",
      "        \"OrdinalEncodingIndicator\": true,\n",
      "        \"OrdinalEncodingList\": [\n",
      "            \"homestyle\"\n",
      "        ],\n",
      "        \"TargetEncodingIndicator\": true,\n",
      "        \"TargetEncodingList\": {\n",
      "            \"prefarea\": {\n",
      "                \"encoder_method\": \"CBM_GAUSSIAN_INVERSE_GAMMA\",\n",
      "                \"response_column\": \"price\"\n",
      "            }\n",
      "        }\n",
      "    },\n",
      "    \"AntiselectIndicator\": true,\n",
      "    \"AntiselectParam\": {\n",
      "        \"excluded_columns\": [\n",
      "            \"sn\"\n",
      "        ]\n",
      "    },\n",
      "    \"DataImbalanceIndicator\": true,\n",
      "    \"DataImbalanceMethod\": \"SMOTE\",\n",
      "    \"OutlierFilterIndicator\": true,\n",
      "    \"OutlierFilterMethod\": \"percentile\",\n",
      "    \"OutlierLowerPercentile\": 0.15,\n",
      "    \"OutlierUpperPercentile\": 0.85,\n",
      "    \"OutlierFilterParam\": {\n",
      "        \"bathrms\": {\n",
      "            \"replacement_value\": \"delete\"\n",
      "        }\n",
      "    }\n",
      "}\n"
     ]
    },
    {
     "data": {
      "text/html": [
       "\n",
       "            <style>\n",
       "                .custom-div {\n",
       "                    background-color: lightgray;\n",
       "                    color: #000000;\n",
       "                    padding: 10px;\n",
       "                    border-radius: 8px;\n",
       "                    box-shadow: 0 3px 4px rgba(0, 0, 0, 0.2);\n",
       "                    margin-bottom: 10px;\n",
       "                    text-align: center;\n",
       "                }\n",
       "            </style>\n",
       "        <br><div class=\"custom-div\"><h3><span style=\"color: green;\"></span>1. Feature Exploration -> 2. Feature Engineering -> 3. Data Preparation -> 4. Model Training & Evaluation<center></h3></center></div>"
      ],
      "text/plain": [
       "<IPython.core.display.HTML object>"
      ]
     },
     "metadata": {},
     "output_type": "display_data"
    },
    {
     "name": "stdout",
     "output_type": "stream",
     "text": [
      "Feature Exploration started ...\n",
      "\n",
      "Data Overview:\n",
      "Total Rows in the data: 492\n",
      "Total Columns in the data: 14\n",
      "\n",
      "Column Summary:\n"
     ]
    },
    {
     "data": {
      "text/html": [
       "<style type=\"text/css\">\n",
       "\ttable {border:ridge 5px;}\n",
       "\ttable td {border:inset 1px;}\n",
       "\ttable tr#HeaderRow {background-color:grey; color:white;}</style>\n",
       "<html><table>\n",
       "\t<tr id=\"HeaderRow\">\n",
       "\t\t<th>ColumnName</th>\n",
       "\t\t<th>Datatype</th>\n",
       "\t\t<th>NonNullCount</th>\n",
       "\t\t<th>NullCount</th>\n",
       "\t\t<th>BlankCount</th>\n",
       "\t\t<th>ZeroCount</th>\n",
       "\t\t<th>PositiveCount</th>\n",
       "\t\t<th>NegativeCount</th>\n",
       "\t\t<th>NullPercentage</th>\n",
       "\t\t<th>NonNullPercentage</th>\n",
       "\t</tr>\n",
       "\t<tr>\n",
       "\t\t<td>homestyle</td>\n",
       "\t\t<td>VARCHAR(20) CHARACTER SET LATIN</td>\n",
       "\t\t<td>492</td>\n",
       "\t\t<td>0</td>\n",
       "\t\t<td>0</td>\n",
       "\t\t<td>None</td>\n",
       "\t\t<td>None</td>\n",
       "\t\t<td>None</td>\n",
       "\t\t<td>0.0</td>\n",
       "\t\t<td>100.0</td>\n",
       "\t</tr>\n",
       "\t<tr>\n",
       "\t\t<td>airco</td>\n",
       "\t\t<td>VARCHAR(10) CHARACTER SET LATIN</td>\n",
       "\t\t<td>492</td>\n",
       "\t\t<td>0</td>\n",
       "\t\t<td>0</td>\n",
       "\t\t<td>None</td>\n",
       "\t\t<td>None</td>\n",
       "\t\t<td>None</td>\n",
       "\t\t<td>0.0</td>\n",
       "\t\t<td>100.0</td>\n",
       "\t</tr>\n",
       "\t<tr>\n",
       "\t\t<td>price</td>\n",
       "\t\t<td>FLOAT</td>\n",
       "\t\t<td>492</td>\n",
       "\t\t<td>0</td>\n",
       "\t\t<td>None</td>\n",
       "\t\t<td>0</td>\n",
       "\t\t<td>492</td>\n",
       "\t\t<td>0</td>\n",
       "\t\t<td>0.0</td>\n",
       "\t\t<td>100.0</td>\n",
       "\t</tr>\n",
       "\t<tr>\n",
       "\t\t<td>lotsize</td>\n",
       "\t\t<td>FLOAT</td>\n",
       "\t\t<td>492</td>\n",
       "\t\t<td>0</td>\n",
       "\t\t<td>None</td>\n",
       "\t\t<td>0</td>\n",
       "\t\t<td>492</td>\n",
       "\t\t<td>0</td>\n",
       "\t\t<td>0.0</td>\n",
       "\t\t<td>100.0</td>\n",
       "\t</tr>\n",
       "\t<tr>\n",
       "\t\t<td>fullbase</td>\n",
       "\t\t<td>VARCHAR(10) CHARACTER SET LATIN</td>\n",
       "\t\t<td>492</td>\n",
       "\t\t<td>0</td>\n",
       "\t\t<td>0</td>\n",
       "\t\t<td>None</td>\n",
       "\t\t<td>None</td>\n",
       "\t\t<td>None</td>\n",
       "\t\t<td>0.0</td>\n",
       "\t\t<td>100.0</td>\n",
       "\t</tr>\n",
       "\t<tr>\n",
       "\t\t<td>bathrms</td>\n",
       "\t\t<td>INTEGER</td>\n",
       "\t\t<td>492</td>\n",
       "\t\t<td>0</td>\n",
       "\t\t<td>None</td>\n",
       "\t\t<td>0</td>\n",
       "\t\t<td>492</td>\n",
       "\t\t<td>0</td>\n",
       "\t\t<td>0.0</td>\n",
       "\t\t<td>100.0</td>\n",
       "\t</tr>\n",
       "\t<tr>\n",
       "\t\t<td>recroom</td>\n",
       "\t\t<td>VARCHAR(10) CHARACTER SET LATIN</td>\n",
       "\t\t<td>492</td>\n",
       "\t\t<td>0</td>\n",
       "\t\t<td>0</td>\n",
       "\t\t<td>None</td>\n",
       "\t\t<td>None</td>\n",
       "\t\t<td>None</td>\n",
       "\t\t<td>0.0</td>\n",
       "\t\t<td>100.0</td>\n",
       "\t</tr>\n",
       "\t<tr>\n",
       "\t\t<td>bedrooms</td>\n",
       "\t\t<td>INTEGER</td>\n",
       "\t\t<td>492</td>\n",
       "\t\t<td>0</td>\n",
       "\t\t<td>None</td>\n",
       "\t\t<td>0</td>\n",
       "\t\t<td>492</td>\n",
       "\t\t<td>0</td>\n",
       "\t\t<td>0.0</td>\n",
       "\t\t<td>100.0</td>\n",
       "\t</tr>\n",
       "\t<tr>\n",
       "\t\t<td>driveway</td>\n",
       "\t\t<td>VARCHAR(10) CHARACTER SET LATIN</td>\n",
       "\t\t<td>492</td>\n",
       "\t\t<td>0</td>\n",
       "\t\t<td>0</td>\n",
       "\t\t<td>None</td>\n",
       "\t\t<td>None</td>\n",
       "\t\t<td>None</td>\n",
       "\t\t<td>0.0</td>\n",
       "\t\t<td>100.0</td>\n",
       "\t</tr>\n",
       "\t<tr>\n",
       "\t\t<td>prefarea</td>\n",
       "\t\t<td>VARCHAR(10) CHARACTER SET LATIN</td>\n",
       "\t\t<td>492</td>\n",
       "\t\t<td>0</td>\n",
       "\t\t<td>0</td>\n",
       "\t\t<td>None</td>\n",
       "\t\t<td>None</td>\n",
       "\t\t<td>None</td>\n",
       "\t\t<td>0.0</td>\n",
       "\t\t<td>100.0</td>\n",
       "\t</tr>\n",
       "\t<tr>\n",
       "\t\t<td>stories</td>\n",
       "\t\t<td>INTEGER</td>\n",
       "\t\t<td>492</td>\n",
       "\t\t<td>0</td>\n",
       "\t\t<td>None</td>\n",
       "\t\t<td>0</td>\n",
       "\t\t<td>492</td>\n",
       "\t\t<td>0</td>\n",
       "\t\t<td>0.0</td>\n",
       "\t\t<td>100.0</td>\n",
       "\t</tr>\n",
       "\t<tr>\n",
       "\t\t<td>sn</td>\n",
       "\t\t<td>INTEGER</td>\n",
       "\t\t<td>492</td>\n",
       "\t\t<td>0</td>\n",
       "\t\t<td>None</td>\n",
       "\t\t<td>0</td>\n",
       "\t\t<td>492</td>\n",
       "\t\t<td>0</td>\n",
       "\t\t<td>0.0</td>\n",
       "\t\t<td>100.0</td>\n",
       "\t</tr>\n",
       "\t<tr>\n",
       "\t\t<td>garagepl</td>\n",
       "\t\t<td>INTEGER</td>\n",
       "\t\t<td>492</td>\n",
       "\t\t<td>0</td>\n",
       "\t\t<td>None</td>\n",
       "\t\t<td>270</td>\n",
       "\t\t<td>222</td>\n",
       "\t\t<td>0</td>\n",
       "\t\t<td>0.0</td>\n",
       "\t\t<td>100.0</td>\n",
       "\t</tr>\n",
       "\t<tr>\n",
       "\t\t<td>gashw</td>\n",
       "\t\t<td>VARCHAR(10) CHARACTER SET LATIN</td>\n",
       "\t\t<td>492</td>\n",
       "\t\t<td>0</td>\n",
       "\t\t<td>0</td>\n",
       "\t\t<td>None</td>\n",
       "\t\t<td>None</td>\n",
       "\t\t<td>None</td>\n",
       "\t\t<td>0.0</td>\n",
       "\t\t<td>100.0</td>\n",
       "\t</tr>\n",
       "</table></html>"
      ],
      "text/plain": [
       "   ColumnName                         Datatype  NonNullCount  NullCount  BlankCount  ZeroCount  PositiveCount  NegativeCount  NullPercentage  NonNullPercentage\n",
       "0   homestyle  VARCHAR(20) CHARACTER SET LATIN           492          0         0.0        NaN            NaN            NaN             0.0              100.0\n",
       "1       airco  VARCHAR(10) CHARACTER SET LATIN           492          0         0.0        NaN            NaN            NaN             0.0              100.0\n",
       "2       price                            FLOAT           492          0         NaN        0.0          492.0            0.0             0.0              100.0\n",
       "3     lotsize                            FLOAT           492          0         NaN        0.0          492.0            0.0             0.0              100.0\n",
       "4    fullbase  VARCHAR(10) CHARACTER SET LATIN           492          0         0.0        NaN            NaN            NaN             0.0              100.0\n",
       "5     bathrms                          INTEGER           492          0         NaN        0.0          492.0            0.0             0.0              100.0\n",
       "6     recroom  VARCHAR(10) CHARACTER SET LATIN           492          0         0.0        NaN            NaN            NaN             0.0              100.0\n",
       "7    bedrooms                          INTEGER           492          0         NaN        0.0          492.0            0.0             0.0              100.0\n",
       "8    driveway  VARCHAR(10) CHARACTER SET LATIN           492          0         0.0        NaN            NaN            NaN             0.0              100.0\n",
       "9    prefarea  VARCHAR(10) CHARACTER SET LATIN           492          0         0.0        NaN            NaN            NaN             0.0              100.0\n",
       "10    stories                          INTEGER           492          0         NaN        0.0          492.0            0.0             0.0              100.0\n",
       "11         sn                          INTEGER           492          0         NaN        0.0          492.0            0.0             0.0              100.0\n",
       "12   garagepl                          INTEGER           492          0         NaN      270.0          222.0            0.0             0.0              100.0\n",
       "13      gashw  VARCHAR(10) CHARACTER SET LATIN           492          0         0.0        NaN            NaN            NaN             0.0              100.0"
      ]
     },
     "metadata": {},
     "output_type": "display_data"
    },
    {
     "name": "stdout",
     "output_type": "stream",
     "text": [
      "            sn       price    lotsize  bedrooms  bathrms  stories  garagepl\n",
      "func                                                                       \n",
      "50%    274.000   62000.000   4616.000     3.000    1.000    2.000     0.000\n",
      "count  492.000     492.000    492.000   492.000  492.000  492.000   492.000\n",
      "mean   272.943   68100.396   5181.795     2.965    1.293    1.803     0.685\n",
      "min      1.000   25000.000   1650.000     1.000    1.000    1.000     0.000\n",
      "max    546.000  190000.000  16200.000     6.000    4.000    4.000     3.000\n",
      "75%    413.250   82000.000   6370.000     3.000    2.000    2.000     1.000\n",
      "25%    132.500   49975.000   3600.000     2.000    1.000    1.000     0.000\n",
      "std    159.501   26472.496   2182.443     0.731    0.510    0.861     0.854\n",
      "\n",
      "Statistics of Data:\n"
     ]
    },
    {
     "data": {
      "text/html": [
       "<style type=\"text/css\">\n",
       "\ttable {border:ridge 5px;}\n",
       "\ttable td {border:inset 1px;}\n",
       "\ttable tr#HeaderRow {background-color:grey; color:white;}</style>\n",
       "<html><table>\n",
       "\t<tr id=\"HeaderRow\">\n",
       "\t\t<th>func</th>\n",
       "\t\t<th>sn</th>\n",
       "\t\t<th>price</th>\n",
       "\t\t<th>lotsize</th>\n",
       "\t\t<th>bedrooms</th>\n",
       "\t\t<th>bathrms</th>\n",
       "\t\t<th>stories</th>\n",
       "\t\t<th>garagepl</th>\n",
       "\t</tr>\n",
       "\t<tr>\n",
       "\t\t<td>50%</td>\n",
       "\t\t<td>274</td>\n",
       "\t\t<td>62000</td>\n",
       "\t\t<td>4616</td>\n",
       "\t\t<td>3</td>\n",
       "\t\t<td>1</td>\n",
       "\t\t<td>2</td>\n",
       "\t\t<td>0</td>\n",
       "\t</tr>\n",
       "\t<tr>\n",
       "\t\t<td>count</td>\n",
       "\t\t<td>492</td>\n",
       "\t\t<td>492</td>\n",
       "\t\t<td>492</td>\n",
       "\t\t<td>492</td>\n",
       "\t\t<td>492</td>\n",
       "\t\t<td>492</td>\n",
       "\t\t<td>492</td>\n",
       "\t</tr>\n",
       "\t<tr>\n",
       "\t\t<td>mean</td>\n",
       "\t\t<td>272.943</td>\n",
       "\t\t<td>68100.396</td>\n",
       "\t\t<td>5181.795</td>\n",
       "\t\t<td>2.965</td>\n",
       "\t\t<td>1.293</td>\n",
       "\t\t<td>1.803</td>\n",
       "\t\t<td>0.685</td>\n",
       "\t</tr>\n",
       "\t<tr>\n",
       "\t\t<td>min</td>\n",
       "\t\t<td>1</td>\n",
       "\t\t<td>25000</td>\n",
       "\t\t<td>1650</td>\n",
       "\t\t<td>1</td>\n",
       "\t\t<td>1</td>\n",
       "\t\t<td>1</td>\n",
       "\t\t<td>0</td>\n",
       "\t</tr>\n",
       "\t<tr>\n",
       "\t\t<td>max</td>\n",
       "\t\t<td>546</td>\n",
       "\t\t<td>190000</td>\n",
       "\t\t<td>16200</td>\n",
       "\t\t<td>6</td>\n",
       "\t\t<td>4</td>\n",
       "\t\t<td>4</td>\n",
       "\t\t<td>3</td>\n",
       "\t</tr>\n",
       "\t<tr>\n",
       "\t\t<td>75%</td>\n",
       "\t\t<td>413.25</td>\n",
       "\t\t<td>82000</td>\n",
       "\t\t<td>6370</td>\n",
       "\t\t<td>3</td>\n",
       "\t\t<td>2</td>\n",
       "\t\t<td>2</td>\n",
       "\t\t<td>1</td>\n",
       "\t</tr>\n",
       "\t<tr>\n",
       "\t\t<td>25%</td>\n",
       "\t\t<td>132.5</td>\n",
       "\t\t<td>49975</td>\n",
       "\t\t<td>3600</td>\n",
       "\t\t<td>2</td>\n",
       "\t\t<td>1</td>\n",
       "\t\t<td>1</td>\n",
       "\t\t<td>0</td>\n",
       "\t</tr>\n",
       "\t<tr>\n",
       "\t\t<td>std</td>\n",
       "\t\t<td>159.501</td>\n",
       "\t\t<td>26472.496</td>\n",
       "\t\t<td>2182.443</td>\n",
       "\t\t<td>0.731</td>\n",
       "\t\t<td>0.51</td>\n",
       "\t\t<td>0.861</td>\n",
       "\t\t<td>0.854</td>\n",
       "\t</tr>\n",
       "</table></html>"
      ],
      "text/plain": [
       "            sn       price    lotsize  bedrooms  bathrms  stories  garagepl\n",
       "func                                                                       \n",
       "50%    274.000   62000.000   4616.000     3.000    1.000    2.000     0.000\n",
       "count  492.000     492.000    492.000   492.000  492.000  492.000   492.000\n",
       "mean   272.943   68100.396   5181.795     2.965    1.293    1.803     0.685\n",
       "min      1.000   25000.000   1650.000     1.000    1.000    1.000     0.000\n",
       "max    546.000  190000.000  16200.000     6.000    4.000    4.000     3.000\n",
       "75%    413.250   82000.000   6370.000     3.000    2.000    2.000     1.000\n",
       "25%    132.500   49975.000   3600.000     2.000    1.000    1.000     0.000\n",
       "std    159.501   26472.496   2182.443     0.731    0.510    0.861     0.854"
      ]
     },
     "metadata": {},
     "output_type": "display_data"
    },
    {
     "name": "stdout",
     "output_type": "stream",
     "text": [
      "\n",
      "Categorical Columns with their Distinct values:\n",
      "ColumnName                DistinctValueCount\n",
      "driveway                  2         \n",
      "recroom                   2         \n",
      "fullbase                  2         \n",
      "gashw                     2         \n",
      "airco                     2         \n",
      "prefarea                  2         \n",
      "homestyle                 3         \n",
      "\n",
      "No Futile columns found.\n",
      "\n",
      "Target Column Distribution:\n"
     ]
    },
    {
     "data": {
      "image/png": "[encoded data removed]",
      "text/plain": [
       "<Figure size 800x600 with 1 Axes>"
      ]
     },
     "metadata": {},
     "output_type": "display_data"
    },
    {
     "name": "stdout",
     "output_type": "stream",
     "text": [
      "Columns with outlier percentage :-                                                                                                                                                                                                                                                                                                                                                                                                                                                                                  \n",
      "  ColumnName  OutlierPercentage\n",
      "0    stories           7.113821\n",
      "1    bathrms           0.203252\n",
      "2   bedrooms           2.235772\n",
      "3   garagepl           2.235772\n",
      "4    lotsize           2.235772\n",
      "5      price           2.439024\n",
      "                                                                                        \r"
     ]
    },
    {
     "data": {
      "text/html": [
       "\n",
       "            <style>\n",
       "                .custom-div {\n",
       "                    background-color: lightgray;\n",
       "                    color: #000000;\n",
       "                    padding: 10px;\n",
       "                    border-radius: 8px;\n",
       "                    box-shadow: 0 3px 4px rgba(0 -  0 -  0 -  0.2);\n",
       "                    margin-bottom: 10px;\n",
       "                    text-align: center;\n",
       "                }\n",
       "            </style>\n",
       "        <br><div class=\"custom-div\"><h3><span style=\"color: green;\">1. Feature Exploration -></span> 2. Feature Engineering -> 3. Data Preparation -> 4. Model Training & Evaluation<center></h3></center></div>"
      ],
      "text/plain": [
       "<IPython.core.display.HTML object>"
      ]
     },
     "metadata": {},
     "output_type": "display_data"
    },
    {
     "name": "stdout",
     "output_type": "stream",
     "text": [
      "                                                                                        \r"
     ]
    },
    {
     "data": {
      "text/html": [
       "Feature Engineering started ..."
      ],
      "text/plain": [
       "<IPython.core.display.HTML object>"
      ]
     },
     "metadata": {},
     "output_type": "display_data"
    },
    {
     "name": "stdout",
     "output_type": "stream",
     "text": [
      "                                                                                        \r"
     ]
    },
    {
     "data": {
      "text/html": [
       "\n",
       "Handling duplicate records present in dataset ..."
      ],
      "text/plain": [
       "<IPython.core.display.HTML object>"
      ]
     },
     "metadata": {},
     "output_type": "display_data"
    },
    {
     "name": "stdout",
     "output_type": "stream",
     "text": [
      "Analysis completed. No action taken.                                                    \n",
      "                                                                                        \r"
     ]
    },
    {
     "data": {
      "text/html": [
       "Total time to handle duplicate records: 1.71 sec  "
      ],
      "text/plain": [
       "<IPython.core.display.HTML object>"
      ]
     },
     "metadata": {},
     "output_type": "display_data"
    },
    {
     "name": "stdout",
     "output_type": "stream",
     "text": [
      "                                                                                        \r"
     ]
    },
    {
     "data": {
      "text/html": [
       "\n",
       "Starting customized anti-select columns ..."
      ],
      "text/plain": [
       "<IPython.core.display.HTML object>"
      ]
     },
     "metadata": {},
     "output_type": "display_data"
    },
    {
     "name": "stdout",
     "output_type": "stream",
     "text": [
      "                                                                                        \r"
     ]
    },
    {
     "data": {
      "text/html": [
       "Updated dataset sample after performing anti-select columns:"
      ],
      "text/plain": [
       "<IPython.core.display.HTML object>"
      ]
     },
     "metadata": {},
     "output_type": "display_data"
    },
    {
     "data": {
      "text/html": [
       "<style type=\"text/css\">\n",
       "\ttable {border:ridge 5px;}\n",
       "\ttable td {border:inset 1px;}\n",
       "\ttable tr#HeaderRow {background-color:grey; color:white;}</style>\n",
       "<html><table>\n",
       "\t<tr id=\"HeaderRow\">\n",
       "\t\t<th>price</th>\n",
       "\t\t<th>lotsize</th>\n",
       "\t\t<th>bedrooms</th>\n",
       "\t\t<th>bathrms</th>\n",
       "\t\t<th>stories</th>\n",
       "\t\t<th>driveway</th>\n",
       "\t\t<th>recroom</th>\n",
       "\t\t<th>fullbase</th>\n",
       "\t\t<th>gashw</th>\n",
       "\t\t<th>airco</th>\n",
       "\t\t<th>garagepl</th>\n",
       "\t\t<th>prefarea</th>\n",
       "\t\t<th>homestyle</th>\n",
       "\t</tr>\n",
       "\t<tr>\n",
       "\t\t<td>99000.0</td>\n",
       "\t\t<td>8880.0</td>\n",
       "\t\t<td>3</td>\n",
       "\t\t<td>2</td>\n",
       "\t\t<td>2</td>\n",
       "\t\t<td>yes</td>\n",
       "\t\t<td>no</td>\n",
       "\t\t<td>yes</td>\n",
       "\t\t<td>no</td>\n",
       "\t\t<td>yes</td>\n",
       "\t\t<td>1</td>\n",
       "\t\t<td>no</td>\n",
       "\t\t<td>Eclectic</td>\n",
       "\t</tr>\n",
       "\t<tr>\n",
       "\t\t<td>63900.0</td>\n",
       "\t\t<td>6360.0</td>\n",
       "\t\t<td>2</td>\n",
       "\t\t<td>1</td>\n",
       "\t\t<td>1</td>\n",
       "\t\t<td>yes</td>\n",
       "\t\t<td>no</td>\n",
       "\t\t<td>yes</td>\n",
       "\t\t<td>no</td>\n",
       "\t\t<td>yes</td>\n",
       "\t\t<td>1</td>\n",
       "\t\t<td>no</td>\n",
       "\t\t<td>Eclectic</td>\n",
       "\t</tr>\n",
       "\t<tr>\n",
       "\t\t<td>88000.0</td>\n",
       "\t\t<td>4500.0</td>\n",
       "\t\t<td>3</td>\n",
       "\t\t<td>1</td>\n",
       "\t\t<td>4</td>\n",
       "\t\t<td>yes</td>\n",
       "\t\t<td>no</td>\n",
       "\t\t<td>no</td>\n",
       "\t\t<td>no</td>\n",
       "\t\t<td>yes</td>\n",
       "\t\t<td>0</td>\n",
       "\t\t<td>no</td>\n",
       "\t\t<td>Eclectic</td>\n",
       "\t</tr>\n",
       "\t<tr>\n",
       "\t\t<td>50000.0</td>\n",
       "\t\t<td>3640.0</td>\n",
       "\t\t<td>2</td>\n",
       "\t\t<td>1</td>\n",
       "\t\t<td>1</td>\n",
       "\t\t<td>yes</td>\n",
       "\t\t<td>no</td>\n",
       "\t\t<td>no</td>\n",
       "\t\t<td>no</td>\n",
       "\t\t<td>no</td>\n",
       "\t\t<td>1</td>\n",
       "\t\t<td>no</td>\n",
       "\t\t<td>Classic</td>\n",
       "\t</tr>\n",
       "\t<tr>\n",
       "\t\t<td>48000.0</td>\n",
       "\t\t<td>4120.0</td>\n",
       "\t\t<td>2</td>\n",
       "\t\t<td>1</td>\n",
       "\t\t<td>2</td>\n",
       "\t\t<td>yes</td>\n",
       "\t\t<td>no</td>\n",
       "\t\t<td>no</td>\n",
       "\t\t<td>no</td>\n",
       "\t\t<td>no</td>\n",
       "\t\t<td>0</td>\n",
       "\t\t<td>no</td>\n",
       "\t\t<td>Classic</td>\n",
       "\t</tr>\n",
       "\t<tr>\n",
       "\t\t<td>27000.0</td>\n",
       "\t\t<td>3649.0</td>\n",
       "\t\t<td>2</td>\n",
       "\t\t<td>1</td>\n",
       "\t\t<td>1</td>\n",
       "\t\t<td>yes</td>\n",
       "\t\t<td>no</td>\n",
       "\t\t<td>no</td>\n",
       "\t\t<td>no</td>\n",
       "\t\t<td>no</td>\n",
       "\t\t<td>0</td>\n",
       "\t\t<td>no</td>\n",
       "\t\t<td>Classic</td>\n",
       "\t</tr>\n",
       "\t<tr>\n",
       "\t\t<td>58000.0</td>\n",
       "\t\t<td>4340.0</td>\n",
       "\t\t<td>3</td>\n",
       "\t\t<td>1</td>\n",
       "\t\t<td>1</td>\n",
       "\t\t<td>yes</td>\n",
       "\t\t<td>no</td>\n",
       "\t\t<td>no</td>\n",
       "\t\t<td>no</td>\n",
       "\t\t<td>no</td>\n",
       "\t\t<td>0</td>\n",
       "\t\t<td>no</td>\n",
       "\t\t<td>Eclectic</td>\n",
       "\t</tr>\n",
       "\t<tr>\n",
       "\t\t<td>87000.0</td>\n",
       "\t\t<td>8372.0</td>\n",
       "\t\t<td>3</td>\n",
       "\t\t<td>1</td>\n",
       "\t\t<td>3</td>\n",
       "\t\t<td>yes</td>\n",
       "\t\t<td>no</td>\n",
       "\t\t<td>no</td>\n",
       "\t\t<td>no</td>\n",
       "\t\t<td>yes</td>\n",
       "\t\t<td>2</td>\n",
       "\t\t<td>no</td>\n",
       "\t\t<td>Eclectic</td>\n",
       "\t</tr>\n",
       "\t<tr>\n",
       "\t\t<td>49500.0</td>\n",
       "\t\t<td>5320.0</td>\n",
       "\t\t<td>2</td>\n",
       "\t\t<td>1</td>\n",
       "\t\t<td>1</td>\n",
       "\t\t<td>yes</td>\n",
       "\t\t<td>no</td>\n",
       "\t\t<td>no</td>\n",
       "\t\t<td>no</td>\n",
       "\t\t<td>no</td>\n",
       "\t\t<td>1</td>\n",
       "\t\t<td>yes</td>\n",
       "\t\t<td>Classic</td>\n",
       "\t</tr>\n",
       "\t<tr>\n",
       "\t\t<td>70100.0</td>\n",
       "\t\t<td>4200.0</td>\n",
       "\t\t<td>3</td>\n",
       "\t\t<td>1</td>\n",
       "\t\t<td>2</td>\n",
       "\t\t<td>yes</td>\n",
       "\t\t<td>no</td>\n",
       "\t\t<td>no</td>\n",
       "\t\t<td>no</td>\n",
       "\t\t<td>no</td>\n",
       "\t\t<td>1</td>\n",
       "\t\t<td>no</td>\n",
       "\t\t<td>Eclectic</td>\n",
       "\t</tr>\n",
       "</table></html>"
      ],
      "text/plain": [
       "     price  lotsize  bedrooms  bathrms  stories driveway recroom fullbase gashw airco  garagepl prefarea homestyle\n",
       "0  99000.0   8880.0         3        2        2      yes      no      yes    no   yes         1       no  Eclectic\n",
       "1  63900.0   6360.0         2        1        1      yes      no      yes    no   yes         1       no  Eclectic\n",
       "2  88000.0   4500.0         3        1        4      yes      no       no    no   yes         0       no  Eclectic\n",
       "3  50000.0   3640.0         2        1        1      yes      no       no    no    no         1       no   Classic\n",
       "4  48000.0   4120.0         2        1        2      yes      no       no    no    no         0       no   Classic\n",
       "5  27000.0   3649.0         2        1        1      yes      no       no    no    no         0       no   Classic\n",
       "6  58000.0   4340.0         3        1        1      yes      no       no    no    no         0       no  Eclectic\n",
       "7  87000.0   8372.0         3        1        3      yes      no       no    no   yes         2       no  Eclectic\n",
       "8  49500.0   5320.0         2        1        1      yes      no       no    no    no         1      yes   Classic\n",
       "9  70100.0   4200.0         3        1        2      yes      no       no    no    no         1       no  Eclectic"
      ]
     },
     "metadata": {},
     "output_type": "display_data"
    },
    {
     "name": "stdout",
     "output_type": "stream",
     "text": [
      "                                                                                        \r"
     ]
    },
    {
     "data": {
      "text/html": [
       "492 rows X 13 columns"
      ],
      "text/plain": [
       "<IPython.core.display.HTML object>"
      ]
     },
     "metadata": {},
     "output_type": "display_data"
    },
    {
     "name": "stdout",
     "output_type": "stream",
     "text": [
      "                                                                                         \r"
     ]
    },
    {
     "data": {
      "text/html": [
       "\n",
       "Handling less significant features from data ..."
      ],
      "text/plain": [
       "<IPython.core.display.HTML object>"
      ]
     },
     "metadata": {},
     "output_type": "display_data"
    },
    {
     "name": "stdout",
     "output_type": "stream",
     "text": [
      "Analysis indicates all categorical columns are significant. No action Needed.            \n",
      "                                                                                         \r"
     ]
    },
    {
     "data": {
      "text/html": [
       "Total time to handle less significant features: 18.82 sec  "
      ],
      "text/plain": [
       "<IPython.core.display.HTML object>"
      ]
     },
     "metadata": {},
     "output_type": "display_data"
    },
    {
     "name": "stdout",
     "output_type": "stream",
     "text": [
      "                                                                                         \r"
     ]
    },
    {
     "data": {
      "text/html": [
       "\n",
       "Handling Date Features ..."
      ],
      "text/plain": [
       "<IPython.core.display.HTML object>"
      ]
     },
     "metadata": {},
     "output_type": "display_data"
    },
    {
     "name": "stdout",
     "output_type": "stream",
     "text": [
      "Analysis Completed. Dataset does not contain any feature related to dates. No action needed.\n",
      "                                                                                         \r"
     ]
    },
    {
     "data": {
      "text/html": [
       "Total time to handle date features: 0.00 sec\n"
      ],
      "text/plain": [
       "<IPython.core.display.HTML object>"
      ]
     },
     "metadata": {},
     "output_type": "display_data"
    },
    {
     "name": "stdout",
     "output_type": "stream",
     "text": [
      "Proceeding with default option for missing value imputation.                             \n",
      "Proceeding with default option for handling remaining missing values.                    \n",
      "                                                                                         \r"
     ]
    },
    {
     "data": {
      "text/html": [
       "\n",
       "Checking Missing values in dataset ..."
      ],
      "text/plain": [
       "<IPython.core.display.HTML object>"
      ]
     },
     "metadata": {},
     "output_type": "display_data"
    },
    {
     "name": "stdout",
     "output_type": "stream",
     "text": [
      "Analysis Completed. No Missing Values Detected.                                          \n",
      "                                                                                         \r"
     ]
    },
    {
     "data": {
      "text/html": [
       "Total time to find missing values in data: 8.68 sec  "
      ],
      "text/plain": [
       "<IPython.core.display.HTML object>"
      ]
     },
     "metadata": {},
     "output_type": "display_data"
    },
    {
     "name": "stdout",
     "output_type": "stream",
     "text": [
      "                                                                                         \r"
     ]
    },
    {
     "data": {
      "text/html": [
       "\n",
       "Imputing Missing Values ..."
      ],
      "text/plain": [
       "<IPython.core.display.HTML object>"
      ]
     },
     "metadata": {},
     "output_type": "display_data"
    },
    {
     "name": "stdout",
     "output_type": "stream",
     "text": [
      "Analysis completed. No imputation required.                                              \n",
      "                                                                                         \r"
     ]
    },
    {
     "data": {
      "text/html": [
       "Time taken to perform imputation: 0.01 sec  "
      ],
      "text/plain": [
       "<IPython.core.display.HTML object>"
      ]
     },
     "metadata": {},
     "output_type": "display_data"
    },
    {
     "name": "stdout",
     "output_type": "stream",
     "text": [
      "No information provided for Equal-Width Transformation.                                  \n",
      "                                                                                         \r"
     ]
    },
    {
     "data": {
      "text/html": [
       "Variable-Width binning information:-"
      ],
      "text/plain": [
       "<IPython.core.display.HTML object>"
      ]
     },
     "metadata": {},
     "output_type": "display_data"
    },
    {
     "data": {
      "text/html": [
       "<div>\n",
       "<style scoped>\n",
       "    .dataframe tbody tr th:only-of-type {\n",
       "        vertical-align: middle;\n",
       "    }\n",
       "\n",
       "    .dataframe tbody tr th {\n",
       "        vertical-align: top;\n",
       "    }\n",
       "\n",
       "    .dataframe thead th {\n",
       "        text-align: right;\n",
       "    }\n",
       "</style>\n",
       "<table border=\"1\" class=\"dataframe\">\n",
       "  <thead>\n",
       "    <tr style=\"text-align: right;\">\n",
       "      <th></th>\n",
       "      <th>ColumnName</th>\n",
       "      <th>MinValue</th>\n",
       "      <th>MaxValue</th>\n",
       "      <th>Label</th>\n",
       "    </tr>\n",
       "  </thead>\n",
       "  <tbody>\n",
       "    <tr>\n",
       "      <th>0</th>\n",
       "      <td>bedrooms</td>\n",
       "      <td>0</td>\n",
       "      <td>2</td>\n",
       "      <td>small_house</td>\n",
       "    </tr>\n",
       "    <tr>\n",
       "      <th>1</th>\n",
       "      <td>bedrooms</td>\n",
       "      <td>3</td>\n",
       "      <td>6</td>\n",
       "      <td>big_house</td>\n",
       "    </tr>\n",
       "  </tbody>\n",
       "</table>\n",
       "</div>"
      ],
      "text/plain": [
       "  ColumnName  MinValue  MaxValue        Label\n",
       "0   bedrooms         0         2  small_house\n",
       "1   bedrooms         3         6    big_house"
      ]
     },
     "metadata": {},
     "output_type": "display_data"
    },
    {
     "name": "stdout",
     "output_type": "stream",
     "text": [
      "                                                                                         \r"
     ]
    },
    {
     "data": {
      "text/html": [
       "2 rows X 4 columns"
      ],
      "text/plain": [
       "<IPython.core.display.HTML object>"
      ]
     },
     "metadata": {},
     "output_type": "display_data"
    },
    {
     "name": "stdout",
     "output_type": "stream",
     "text": [
      "                                                                                         \r"
     ]
    },
    {
     "data": {
      "text/html": [
       "Updated dataset sample after performing Variable-Width binning:"
      ],
      "text/plain": [
       "<IPython.core.display.HTML object>"
      ]
     },
     "metadata": {},
     "output_type": "display_data"
    },
    {
     "data": {
      "text/html": [
       "<style type=\"text/css\">\n",
       "\ttable {border:ridge 5px;}\n",
       "\ttable td {border:inset 1px;}\n",
       "\ttable tr#HeaderRow {background-color:grey; color:white;}</style>\n",
       "<html><table>\n",
       "\t<tr id=\"HeaderRow\">\n",
       "\t\t<th>bathrms</th>\n",
       "\t\t<th>stories</th>\n",
       "\t\t<th>gashw</th>\n",
       "\t\t<th>airco</th>\n",
       "\t\t<th>fullbase</th>\n",
       "\t\t<th>id</th>\n",
       "\t\t<th>homestyle</th>\n",
       "\t\t<th>lotsize</th>\n",
       "\t\t<th>garagepl</th>\n",
       "\t\t<th>prefarea</th>\n",
       "\t\t<th>driveway</th>\n",
       "\t\t<th>recroom</th>\n",
       "\t\t<th>price</th>\n",
       "\t\t<th>bedrooms</th>\n",
       "\t</tr>\n",
       "\t<tr>\n",
       "\t\t<td>3</td>\n",
       "\t\t<td>2</td>\n",
       "\t\t<td>no</td>\n",
       "\t\t<td>no</td>\n",
       "\t\t<td>yes</td>\n",
       "\t\t<td>194</td>\n",
       "\t\t<td>bungalow</td>\n",
       "\t\t<td>5960.0</td>\n",
       "\t\t<td>1</td>\n",
       "\t\t<td>no</td>\n",
       "\t\t<td>yes</td>\n",
       "\t\t<td>yes</td>\n",
       "\t\t<td>117000.0</td>\n",
       "\t\t<td>big_house\u0000\u0000</td>\n",
       "\t</tr>\n",
       "\t<tr>\n",
       "\t\t<td>3</td>\n",
       "\t\t<td>2</td>\n",
       "\t\t<td>no</td>\n",
       "\t\t<td>no</td>\n",
       "\t\t<td>yes</td>\n",
       "\t\t<td>291</td>\n",
       "\t\t<td>Eclectic</td>\n",
       "\t\t<td>3300.0</td>\n",
       "\t\t<td>0</td>\n",
       "\t\t<td>no</td>\n",
       "\t\t<td>yes</td>\n",
       "\t\t<td>no</td>\n",
       "\t\t<td>79000.0</td>\n",
       "\t\t<td>big_house\u0000\u0000</td>\n",
       "\t</tr>\n",
       "\t<tr>\n",
       "\t\t<td>3</td>\n",
       "\t\t<td>4</td>\n",
       "\t\t<td>no</td>\n",
       "\t\t<td>yes</td>\n",
       "\t\t<td>no</td>\n",
       "\t\t<td>76</td>\n",
       "\t\t<td>bungalow</td>\n",
       "\t\t<td>8580.0</td>\n",
       "\t\t<td>2</td>\n",
       "\t\t<td>yes</td>\n",
       "\t\t<td>yes</td>\n",
       "\t\t<td>no</td>\n",
       "\t\t<td>145000.0</td>\n",
       "\t\t<td>big_house\u0000\u0000</td>\n",
       "\t</tr>\n",
       "\t<tr>\n",
       "\t\t<td>3</td>\n",
       "\t\t<td>2</td>\n",
       "\t\t<td>no</td>\n",
       "\t\t<td>no</td>\n",
       "\t\t<td>no</td>\n",
       "\t\t<td>92</td>\n",
       "\t\t<td>Classic</td>\n",
       "\t\t<td>3630.0</td>\n",
       "\t\t<td>0</td>\n",
       "\t\t<td>no</td>\n",
       "\t\t<td>no</td>\n",
       "\t\t<td>yes</td>\n",
       "\t\t<td>38000.0</td>\n",
       "\t\t<td>big_house\u0000\u0000</td>\n",
       "\t</tr>\n",
       "\t<tr>\n",
       "\t\t<td>3</td>\n",
       "\t\t<td>2</td>\n",
       "\t\t<td>yes</td>\n",
       "\t\t<td>no</td>\n",
       "\t\t<td>yes</td>\n",
       "\t\t<td>66</td>\n",
       "\t\t<td>bungalow</td>\n",
       "\t\t<td>6000.0</td>\n",
       "\t\t<td>2</td>\n",
       "\t\t<td>no</td>\n",
       "\t\t<td>yes</td>\n",
       "\t\t<td>yes</td>\n",
       "\t\t<td>138300.0</td>\n",
       "\t\t<td>big_house\u0000\u0000</td>\n",
       "\t</tr>\n",
       "\t<tr>\n",
       "\t\t<td>3</td>\n",
       "\t\t<td>2</td>\n",
       "\t\t<td>no</td>\n",
       "\t\t<td>no</td>\n",
       "\t\t<td>no</td>\n",
       "\t\t<td>222</td>\n",
       "\t\t<td>bungalow</td>\n",
       "\t\t<td>16200.0</td>\n",
       "\t\t<td>0</td>\n",
       "\t\t<td>no</td>\n",
       "\t\t<td>yes</td>\n",
       "\t\t<td>no</td>\n",
       "\t\t<td>145000.0</td>\n",
       "\t\t<td>big_house\u0000\u0000</td>\n",
       "\t</tr>\n",
       "\t<tr>\n",
       "\t\t<td>3</td>\n",
       "\t\t<td>2</td>\n",
       "\t\t<td>no</td>\n",
       "\t\t<td>no</td>\n",
       "\t\t<td>yes</td>\n",
       "\t\t<td>118</td>\n",
       "\t\t<td>Eclectic</td>\n",
       "\t\t<td>4410.0</td>\n",
       "\t\t<td>2</td>\n",
       "\t\t<td>no</td>\n",
       "\t\t<td>yes</td>\n",
       "\t\t<td>no</td>\n",
       "\t\t<td>71000.0</td>\n",
       "\t\t<td>big_house\u0000\u0000</td>\n",
       "\t</tr>\n",
       "\t<tr>\n",
       "\t\t<td>1</td>\n",
       "\t\t<td>1</td>\n",
       "\t\t<td>no</td>\n",
       "\t\t<td>yes</td>\n",
       "\t\t<td>no</td>\n",
       "\t\t<td>195</td>\n",
       "\t\t<td>Classic</td>\n",
       "\t\t<td>2684.0</td>\n",
       "\t\t<td>1</td>\n",
       "\t\t<td>no</td>\n",
       "\t\t<td>yes</td>\n",
       "\t\t<td>no</td>\n",
       "\t\t<td>46000.0</td>\n",
       "\t\t<td>small_house</td>\n",
       "\t</tr>\n",
       "\t<tr>\n",
       "\t\t<td>1</td>\n",
       "\t\t<td>2</td>\n",
       "\t\t<td>no</td>\n",
       "\t\t<td>no</td>\n",
       "\t\t<td>no</td>\n",
       "\t\t<td>83</td>\n",
       "\t\t<td>Classic</td>\n",
       "\t\t<td>4370.0</td>\n",
       "\t\t<td>0</td>\n",
       "\t\t<td>no</td>\n",
       "\t\t<td>yes</td>\n",
       "\t\t<td>no</td>\n",
       "\t\t<td>46000.0</td>\n",
       "\t\t<td>big_house\u0000\u0000</td>\n",
       "\t</tr>\n",
       "\t<tr>\n",
       "\t\t<td>1</td>\n",
       "\t\t<td>2</td>\n",
       "\t\t<td>no</td>\n",
       "\t\t<td>no</td>\n",
       "\t\t<td>yes</td>\n",
       "\t\t<td>242</td>\n",
       "\t\t<td>Classic</td>\n",
       "\t\t<td>3970.0</td>\n",
       "\t\t<td>0</td>\n",
       "\t\t<td>no</td>\n",
       "\t\t<td>yes</td>\n",
       "\t\t<td>no</td>\n",
       "\t\t<td>32500.0</td>\n",
       "\t\t<td>big_house\u0000\u0000</td>\n",
       "\t</tr>\n",
       "</table></html>"
      ],
      "text/plain": [
       "         stories gashw airco fullbase   id homestyle  lotsize  garagepl prefarea driveway recroom     price     bedrooms\n",
       "bathrms                                                                                                                 \n",
       "3              2    no    no      yes  194  bungalow   5960.0         1       no      yes     yes  117000.0  big_house\u0000\u0000\n",
       "3              2    no    no      yes  291  Eclectic   3300.0         0       no      yes      no   79000.0  big_house\u0000\u0000\n",
       "3              4    no   yes       no   76  bungalow   8580.0         2      yes      yes      no  145000.0  big_house\u0000\u0000\n",
       "3              2    no    no       no   92   Classic   3630.0         0       no       no     yes   38000.0  big_house\u0000\u0000\n",
       "3              2   yes    no      yes   66  bungalow   6000.0         2       no      yes     yes  138300.0  big_house\u0000\u0000\n",
       "3              2    no    no       no  222  bungalow  16200.0         0       no      yes      no  145000.0  big_house\u0000\u0000\n",
       "3              2    no    no      yes  118  Eclectic   4410.0         2       no      yes      no   71000.0  big_house\u0000\u0000\n",
       "1              1    no   yes       no  195   Classic   2684.0         1       no      yes      no   46000.0  small_house\n",
       "1              2    no    no       no   83   Classic   4370.0         0       no      yes      no   46000.0  big_house\u0000\u0000\n",
       "1              2    no    no      yes  242   Classic   3970.0         0       no      yes      no   32500.0  big_house\u0000\u0000"
      ]
     },
     "metadata": {},
     "output_type": "display_data"
    },
    {
     "name": "stdout",
     "output_type": "stream",
     "text": [
      "                                                                                         \r"
     ]
    },
    {
     "data": {
      "text/html": [
       "492 rows X 14 columns"
      ],
      "text/plain": [
       "<IPython.core.display.HTML object>"
      ]
     },
     "metadata": {},
     "output_type": "display_data"
    },
    {
     "name": "stdout",
     "output_type": "stream",
     "text": [
      "Skipping customized string manipulation.                                                 \n",
      "                                                                                         \r"
     ]
    },
    {
     "data": {
      "text/html": [
       "\n",
       "Starting Customized Categorical Feature Encoding ..."
      ],
      "text/plain": [
       "<IPython.core.display.HTML object>"
      ]
     },
     "metadata": {},
     "output_type": "display_data"
    },
    {
     "name": "stdout",
     "output_type": "stream",
     "text": [
      "                                                                                         \r"
     ]
    },
    {
     "data": {
      "text/html": [
       "Updated dataset sample after performing ordinal encoding:"
      ],
      "text/plain": [
       "<IPython.core.display.HTML object>"
      ]
     },
     "metadata": {},
     "output_type": "display_data"
    },
    {
     "data": {
      "text/html": [
       "<style type=\"text/css\">\n",
       "\ttable {border:ridge 5px;}\n",
       "\ttable td {border:inset 1px;}\n",
       "\ttable tr#HeaderRow {background-color:grey; color:white;}</style>\n",
       "<html><table>\n",
       "\t<tr id=\"HeaderRow\">\n",
       "\t\t<th>bathrms</th>\n",
       "\t\t<th>stories</th>\n",
       "\t\t<th>gashw</th>\n",
       "\t\t<th>airco</th>\n",
       "\t\t<th>fullbase</th>\n",
       "\t\t<th>id</th>\n",
       "\t\t<th>lotsize</th>\n",
       "\t\t<th>bedrooms</th>\n",
       "\t\t<th>garagepl</th>\n",
       "\t\t<th>prefarea</th>\n",
       "\t\t<th>driveway</th>\n",
       "\t\t<th>recroom</th>\n",
       "\t\t<th>price</th>\n",
       "\t\t<th>homestyle</th>\n",
       "\t</tr>\n",
       "\t<tr>\n",
       "\t\t<td>3</td>\n",
       "\t\t<td>4</td>\n",
       "\t\t<td>no</td>\n",
       "\t\t<td>yes</td>\n",
       "\t\t<td>no</td>\n",
       "\t\t<td>76</td>\n",
       "\t\t<td>8580.0</td>\n",
       "\t\t<td>big_house\u0000\u0000</td>\n",
       "\t\t<td>2</td>\n",
       "\t\t<td>yes</td>\n",
       "\t\t<td>yes</td>\n",
       "\t\t<td>no</td>\n",
       "\t\t<td>145000.0</td>\n",
       "\t\t<td>0</td>\n",
       "\t</tr>\n",
       "\t<tr>\n",
       "\t\t<td>3</td>\n",
       "\t\t<td>2</td>\n",
       "\t\t<td>no</td>\n",
       "\t\t<td>no</td>\n",
       "\t\t<td>no</td>\n",
       "\t\t<td>73</td>\n",
       "\t\t<td>2610.0</td>\n",
       "\t\t<td>big_house\u0000\u0000</td>\n",
       "\t\t<td>0</td>\n",
       "\t\t<td>no</td>\n",
       "\t\t<td>no</td>\n",
       "\t\t<td>no</td>\n",
       "\t\t<td>60000.0</td>\n",
       "\t\t<td>2</td>\n",
       "\t</tr>\n",
       "\t<tr>\n",
       "\t\t<td>3</td>\n",
       "\t\t<td>2</td>\n",
       "\t\t<td>no</td>\n",
       "\t\t<td>no</td>\n",
       "\t\t<td>no</td>\n",
       "\t\t<td>222</td>\n",
       "\t\t<td>16200.0</td>\n",
       "\t\t<td>big_house\u0000\u0000</td>\n",
       "\t\t<td>0</td>\n",
       "\t\t<td>no</td>\n",
       "\t\t<td>yes</td>\n",
       "\t\t<td>no</td>\n",
       "\t\t<td>145000.0</td>\n",
       "\t\t<td>0</td>\n",
       "\t</tr>\n",
       "\t<tr>\n",
       "\t\t<td>3</td>\n",
       "\t\t<td>2</td>\n",
       "\t\t<td>no</td>\n",
       "\t\t<td>no</td>\n",
       "\t\t<td>yes</td>\n",
       "\t\t<td>118</td>\n",
       "\t\t<td>4410.0</td>\n",
       "\t\t<td>big_house\u0000\u0000</td>\n",
       "\t\t<td>2</td>\n",
       "\t\t<td>no</td>\n",
       "\t\t<td>yes</td>\n",
       "\t\t<td>no</td>\n",
       "\t\t<td>71000.0</td>\n",
       "\t\t<td>2</td>\n",
       "\t</tr>\n",
       "\t<tr>\n",
       "\t\t<td>3</td>\n",
       "\t\t<td>2</td>\n",
       "\t\t<td>no</td>\n",
       "\t\t<td>no</td>\n",
       "\t\t<td>yes</td>\n",
       "\t\t<td>291</td>\n",
       "\t\t<td>3300.0</td>\n",
       "\t\t<td>big_house\u0000\u0000</td>\n",
       "\t\t<td>0</td>\n",
       "\t\t<td>no</td>\n",
       "\t\t<td>yes</td>\n",
       "\t\t<td>no</td>\n",
       "\t\t<td>79000.0</td>\n",
       "\t\t<td>2</td>\n",
       "\t</tr>\n",
       "\t<tr>\n",
       "\t\t<td>3</td>\n",
       "\t\t<td>2</td>\n",
       "\t\t<td>no</td>\n",
       "\t\t<td>no</td>\n",
       "\t\t<td>yes</td>\n",
       "\t\t<td>194</td>\n",
       "\t\t<td>5960.0</td>\n",
       "\t\t<td>big_house\u0000\u0000</td>\n",
       "\t\t<td>1</td>\n",
       "\t\t<td>no</td>\n",
       "\t\t<td>yes</td>\n",
       "\t\t<td>yes</td>\n",
       "\t\t<td>117000.0</td>\n",
       "\t\t<td>0</td>\n",
       "\t</tr>\n",
       "\t<tr>\n",
       "\t\t<td>3</td>\n",
       "\t\t<td>2</td>\n",
       "\t\t<td>no</td>\n",
       "\t\t<td>no</td>\n",
       "\t\t<td>no</td>\n",
       "\t\t<td>510</td>\n",
       "\t\t<td>8580.0</td>\n",
       "\t\t<td>big_house\u0000\u0000</td>\n",
       "\t\t<td>2</td>\n",
       "\t\t<td>no</td>\n",
       "\t\t<td>yes</td>\n",
       "\t\t<td>no</td>\n",
       "\t\t<td>92000.0</td>\n",
       "\t\t<td>2</td>\n",
       "\t</tr>\n",
       "\t<tr>\n",
       "\t\t<td>1</td>\n",
       "\t\t<td>1</td>\n",
       "\t\t<td>no</td>\n",
       "\t\t<td>no</td>\n",
       "\t\t<td>no</td>\n",
       "\t\t<td>206</td>\n",
       "\t\t<td>4320.0</td>\n",
       "\t\t<td>big_house\u0000\u0000</td>\n",
       "\t\t<td>0</td>\n",
       "\t\t<td>yes</td>\n",
       "\t\t<td>yes</td>\n",
       "\t\t<td>no</td>\n",
       "\t\t<td>67000.0</td>\n",
       "\t\t<td>2</td>\n",
       "\t</tr>\n",
       "\t<tr>\n",
       "\t\t<td>1</td>\n",
       "\t\t<td>2</td>\n",
       "\t\t<td>no</td>\n",
       "\t\t<td>no</td>\n",
       "\t\t<td>yes</td>\n",
       "\t\t<td>169</td>\n",
       "\t\t<td>5010.0</td>\n",
       "\t\t<td>big_house\u0000\u0000</td>\n",
       "\t\t<td>0</td>\n",
       "\t\t<td>no</td>\n",
       "\t\t<td>yes</td>\n",
       "\t\t<td>no</td>\n",
       "\t\t<td>66000.0</td>\n",
       "\t\t<td>2</td>\n",
       "\t</tr>\n",
       "\t<tr>\n",
       "\t\t<td>1</td>\n",
       "\t\t<td>2</td>\n",
       "\t\t<td>no</td>\n",
       "\t\t<td>yes</td>\n",
       "\t\t<td>no</td>\n",
       "\t\t<td>53</td>\n",
       "\t\t<td>4400.0</td>\n",
       "\t\t<td>big_house\u0000\u0000</td>\n",
       "\t\t<td>2</td>\n",
       "\t\t<td>yes</td>\n",
       "\t\t<td>yes</td>\n",
       "\t\t<td>no</td>\n",
       "\t\t<td>79500.0</td>\n",
       "\t\t<td>2</td>\n",
       "\t</tr>\n",
       "</table></html>"
      ],
      "text/plain": [
       "         stories gashw airco fullbase   id  lotsize     bedrooms  garagepl prefarea driveway recroom     price  homestyle\n",
       "bathrms                                                                                                                  \n",
       "3              4    no   yes       no   76   8580.0  big_house\u0000\u0000         2      yes      yes      no  145000.0          0\n",
       "3              2    no    no       no   73   2610.0  big_house\u0000\u0000         0       no       no      no   60000.0          2\n",
       "3              2    no    no       no  222  16200.0  big_house\u0000\u0000         0       no      yes      no  145000.0          0\n",
       "3              2    no    no      yes  118   4410.0  big_house\u0000\u0000         2       no      yes      no   71000.0          2\n",
       "3              2    no    no      yes  291   3300.0  big_house\u0000\u0000         0       no      yes      no   79000.0          2\n",
       "3              2    no    no      yes  194   5960.0  big_house\u0000\u0000         1       no      yes     yes  117000.0          0\n",
       "3              2    no    no       no  510   8580.0  big_house\u0000\u0000         2       no      yes      no   92000.0          2\n",
       "1              1    no    no       no  206   4320.0  big_house\u0000\u0000         0      yes      yes      no   67000.0          2\n",
       "1              2    no    no      yes  169   5010.0  big_house\u0000\u0000         0       no      yes      no   66000.0          2\n",
       "1              2    no   yes       no   53   4400.0  big_house\u0000\u0000         2      yes      yes      no   79500.0          2"
      ]
     },
     "metadata": {},
     "output_type": "display_data"
    },
    {
     "name": "stdout",
     "output_type": "stream",
     "text": [
      "                                                                                         \r"
     ]
    },
    {
     "data": {
      "text/html": [
       "492 rows X 14 columns"
      ],
      "text/plain": [
       "<IPython.core.display.HTML object>"
      ]
     },
     "metadata": {},
     "output_type": "display_data"
    },
    {
     "name": "stdout",
     "output_type": "stream",
     "text": [
      "                                                                                         \r"
     ]
    },
    {
     "data": {
      "text/html": [
       "Updated dataset sample after performing target encoding:"
      ],
      "text/plain": [
       "<IPython.core.display.HTML object>"
      ]
     },
     "metadata": {},
     "output_type": "display_data"
    },
    {
     "data": {
      "text/html": [
       "<style type=\"text/css\">\n",
       "\ttable {border:ridge 5px;}\n",
       "\ttable td {border:inset 1px;}\n",
       "\ttable tr#HeaderRow {background-color:grey; color:white;}</style>\n",
       "<html><table>\n",
       "\t<tr id=\"HeaderRow\">\n",
       "\t\t<th>prefarea</th>\n",
       "\t\t<th>bathrms</th>\n",
       "\t\t<th>stories</th>\n",
       "\t\t<th>gashw</th>\n",
       "\t\t<th>airco</th>\n",
       "\t\t<th>fullbase</th>\n",
       "\t\t<th>id</th>\n",
       "\t\t<th>homestyle</th>\n",
       "\t\t<th>lotsize</th>\n",
       "\t\t<th>bedrooms</th>\n",
       "\t\t<th>garagepl</th>\n",
       "\t\t<th>driveway</th>\n",
       "\t\t<th>recroom</th>\n",
       "\t\t<th>price</th>\n",
       "\t</tr>\n",
       "\t<tr>\n",
       "\t\t<td>83851.72413793103</td>\n",
       "\t\t<td>1</td>\n",
       "\t\t<td>1</td>\n",
       "\t\t<td>no</td>\n",
       "\t\t<td>yes</td>\n",
       "\t\t<td>no</td>\n",
       "\t\t<td>96</td>\n",
       "\t\t<td>2</td>\n",
       "\t\t<td>10240.0</td>\n",
       "\t\t<td>small_house</td>\n",
       "\t\t<td>2</td>\n",
       "\t\t<td>yes</td>\n",
       "\t\t<td>no</td>\n",
       "\t\t<td>68000.0</td>\n",
       "\t</tr>\n",
       "\t<tr>\n",
       "\t\t<td>83851.72413793103</td>\n",
       "\t\t<td>1</td>\n",
       "\t\t<td>1</td>\n",
       "\t\t<td>no</td>\n",
       "\t\t<td>no</td>\n",
       "\t\t<td>yes</td>\n",
       "\t\t<td>233</td>\n",
       "\t\t<td>2</td>\n",
       "\t\t<td>6900.0</td>\n",
       "\t\t<td>big_house\u0000\u0000</td>\n",
       "\t\t<td>0</td>\n",
       "\t\t<td>yes</td>\n",
       "\t\t<td>yes</td>\n",
       "\t\t<td>78900.0</td>\n",
       "\t</tr>\n",
       "\t<tr>\n",
       "\t\t<td>83851.72413793103</td>\n",
       "\t\t<td>1</td>\n",
       "\t\t<td>1</td>\n",
       "\t\t<td>no</td>\n",
       "\t\t<td>yes</td>\n",
       "\t\t<td>yes</td>\n",
       "\t\t<td>185</td>\n",
       "\t\t<td>2</td>\n",
       "\t\t<td>6360.0</td>\n",
       "\t\t<td>big_house\u0000\u0000</td>\n",
       "\t\t<td>2</td>\n",
       "\t\t<td>yes</td>\n",
       "\t\t<td>yes</td>\n",
       "\t\t<td>82000.0</td>\n",
       "\t</tr>\n",
       "\t<tr>\n",
       "\t\t<td>83851.72413793103</td>\n",
       "\t\t<td>1</td>\n",
       "\t\t<td>2</td>\n",
       "\t\t<td>no</td>\n",
       "\t\t<td>yes</td>\n",
       "\t\t<td>yes</td>\n",
       "\t\t<td>375</td>\n",
       "\t\t<td>2</td>\n",
       "\t\t<td>5136.0</td>\n",
       "\t\t<td>big_house\u0000\u0000</td>\n",
       "\t\t<td>0</td>\n",
       "\t\t<td>yes</td>\n",
       "\t\t<td>yes</td>\n",
       "\t\t<td>80000.0</td>\n",
       "\t</tr>\n",
       "\t<tr>\n",
       "\t\t<td>83851.72413793103</td>\n",
       "\t\t<td>1</td>\n",
       "\t\t<td>2</td>\n",
       "\t\t<td>no</td>\n",
       "\t\t<td>yes</td>\n",
       "\t\t<td>yes</td>\n",
       "\t\t<td>378</td>\n",
       "\t\t<td>2</td>\n",
       "\t\t<td>8400.0</td>\n",
       "\t\t<td>big_house\u0000\u0000</td>\n",
       "\t\t<td>2</td>\n",
       "\t\t<td>yes</td>\n",
       "\t\t<td>yes</td>\n",
       "\t\t<td>75000.0</td>\n",
       "\t</tr>\n",
       "\t<tr>\n",
       "\t\t<td>83851.72413793103</td>\n",
       "\t\t<td>1</td>\n",
       "\t\t<td>3</td>\n",
       "\t\t<td>no</td>\n",
       "\t\t<td>yes</td>\n",
       "\t\t<td>no</td>\n",
       "\t\t<td>285</td>\n",
       "\t\t<td>2</td>\n",
       "\t\t<td>6100.0</td>\n",
       "\t\t<td>big_house\u0000\u0000</td>\n",
       "\t\t<td>0</td>\n",
       "\t\t<td>yes</td>\n",
       "\t\t<td>yes</td>\n",
       "\t\t<td>78000.0</td>\n",
       "\t</tr>\n",
       "\t<tr>\n",
       "\t\t<td>62906.33597883598</td>\n",
       "\t\t<td>1</td>\n",
       "\t\t<td>1</td>\n",
       "\t\t<td>no</td>\n",
       "\t\t<td>no</td>\n",
       "\t\t<td>yes</td>\n",
       "\t\t<td>211</td>\n",
       "\t\t<td>2</td>\n",
       "\t\t<td>3540.0</td>\n",
       "\t\t<td>small_house</td>\n",
       "\t\t<td>0</td>\n",
       "\t\t<td>no</td>\n",
       "\t\t<td>yes</td>\n",
       "\t\t<td>72000.0</td>\n",
       "\t</tr>\n",
       "\t<tr>\n",
       "\t\t<td>62906.33597883598</td>\n",
       "\t\t<td>1</td>\n",
       "\t\t<td>1</td>\n",
       "\t\t<td>no</td>\n",
       "\t\t<td>no</td>\n",
       "\t\t<td>no</td>\n",
       "\t\t<td>247</td>\n",
       "\t\t<td>1</td>\n",
       "\t\t<td>3360.0</td>\n",
       "\t\t<td>small_house</td>\n",
       "\t\t<td>1</td>\n",
       "\t\t<td>yes</td>\n",
       "\t\t<td>no</td>\n",
       "\t\t<td>30000.0</td>\n",
       "\t</tr>\n",
       "\t<tr>\n",
       "\t\t<td>62906.33597883598</td>\n",
       "\t\t<td>1</td>\n",
       "\t\t<td>1</td>\n",
       "\t\t<td>no</td>\n",
       "\t\t<td>no</td>\n",
       "\t\t<td>no</td>\n",
       "\t\t<td>395</td>\n",
       "\t\t<td>1</td>\n",
       "\t\t<td>2700.0</td>\n",
       "\t\t<td>small_house</td>\n",
       "\t\t<td>0</td>\n",
       "\t\t<td>no</td>\n",
       "\t\t<td>no</td>\n",
       "\t\t<td>42000.0</td>\n",
       "\t</tr>\n",
       "\t<tr>\n",
       "\t\t<td>62906.33597883598</td>\n",
       "\t\t<td>1</td>\n",
       "\t\t<td>2</td>\n",
       "\t\t<td>no</td>\n",
       "\t\t<td>yes</td>\n",
       "\t\t<td>yes</td>\n",
       "\t\t<td>55</td>\n",
       "\t\t<td>1</td>\n",
       "\t\t<td>3180.0</td>\n",
       "\t\t<td>big_house\u0000\u0000</td>\n",
       "\t\t<td>0</td>\n",
       "\t\t<td>yes</td>\n",
       "\t\t<td>no</td>\n",
       "\t\t<td>47000.0</td>\n",
       "\t</tr>\n",
       "</table></html>"
      ],
      "text/plain": [
       "              bathrms  stories gashw airco fullbase   id  homestyle  lotsize     bedrooms  garagepl driveway recroom    price\n",
       "prefarea                                                                                                                     \n",
       "83851.724138        1        1    no   yes       no   96          2  10240.0  small_house         2      yes      no  68000.0\n",
       "83851.724138        1        1    no    no      yes  233          2   6900.0  big_house\u0000\u0000         0      yes     yes  78900.0\n",
       "83851.724138        1        1    no   yes      yes  185          2   6360.0  big_house\u0000\u0000         2      yes     yes  82000.0\n",
       "83851.724138        1        2    no   yes      yes  375          2   5136.0  big_house\u0000\u0000         0      yes     yes  80000.0\n",
       "83851.724138        1        2    no   yes      yes  378          2   8400.0  big_house\u0000\u0000         2      yes     yes  75000.0\n",
       "83851.724138        1        3    no   yes       no  285          2   6100.0  big_house\u0000\u0000         0      yes     yes  78000.0\n",
       "62906.335979        1        1    no    no      yes  211          2   3540.0  small_house         0       no     yes  72000.0\n",
       "62906.335979        1        1    no    no       no  247          1   3360.0  small_house         1      yes      no  30000.0\n",
       "62906.335979        1        1    no    no       no  395          1   2700.0  small_house         0       no      no  42000.0\n",
       "62906.335979        1        2    no   yes      yes   55          1   3180.0  big_house\u0000\u0000         0      yes      no  47000.0"
      ]
     },
     "metadata": {},
     "output_type": "display_data"
    },
    {
     "name": "stdout",
     "output_type": "stream",
     "text": [
      "                                                                                         \r"
     ]
    },
    {
     "data": {
      "text/html": [
       "492 rows X 14 columns"
      ],
      "text/plain": [
       "<IPython.core.display.HTML object>"
      ]
     },
     "metadata": {},
     "output_type": "display_data"
    },
    {
     "name": "stdout",
     "output_type": "stream",
     "text": [
      "                                                                                         \r"
     ]
    },
    {
     "data": {
      "text/html": [
       "\n",
       "Performing encoding for categorical columns ..."
      ],
      "text/plain": [
       "<IPython.core.display.HTML object>"
      ]
     },
     "metadata": {},
     "output_type": "display_data"
    },
    {
     "name": "stdout",
     "output_type": "stream",
     "text": [
      "                                                                                         \r"
     ]
    },
    {
     "data": {
      "text/html": [
       "ONE HOT Encoding these Columns:"
      ],
      "text/plain": [
       "<IPython.core.display.HTML object>"
      ]
     },
     "metadata": {},
     "output_type": "display_data"
    },
    {
     "name": "stdout",
     "output_type": "stream",
     "text": [
      "['gashw', 'airco', 'fullbase', 'bedrooms', 'driveway', 'recroom']\n",
      "                                                                                         \r"
     ]
    },
    {
     "data": {
      "text/html": [
       "Sample of dataset after performing one hot encoding:"
      ],
      "text/plain": [
       "<IPython.core.display.HTML object>"
      ]
     },
     "metadata": {},
     "output_type": "display_data"
    },
    {
     "data": {
      "text/html": [
       "<style type=\"text/css\">\n",
       "\ttable {border:ridge 5px;}\n",
       "\ttable td {border:inset 1px;}\n",
       "\ttable tr#HeaderRow {background-color:grey; color:white;}</style>\n",
       "<html><table>\n",
       "\t<tr id=\"HeaderRow\">\n",
       "\t\t<th>prefarea</th>\n",
       "\t\t<th>bathrms</th>\n",
       "\t\t<th>stories</th>\n",
       "\t\t<th>gashw_0</th>\n",
       "\t\t<th>gashw_1</th>\n",
       "\t\t<th>airco_0</th>\n",
       "\t\t<th>airco_1</th>\n",
       "\t\t<th>fullbase_0</th>\n",
       "\t\t<th>fullbase_1</th>\n",
       "\t\t<th>id</th>\n",
       "\t\t<th>homestyle</th>\n",
       "\t\t<th>lotsize</th>\n",
       "\t\t<th>bedrooms_0</th>\n",
       "\t\t<th>bedrooms_1</th>\n",
       "\t\t<th>garagepl</th>\n",
       "\t\t<th>driveway_0</th>\n",
       "\t\t<th>driveway_1</th>\n",
       "\t\t<th>recroom_0</th>\n",
       "\t\t<th>recroom_1</th>\n",
       "\t\t<th>price</th>\n",
       "\t</tr>\n",
       "\t<tr>\n",
       "\t\t<td>83851.72413793103</td>\n",
       "\t\t<td>1</td>\n",
       "\t\t<td>1</td>\n",
       "\t\t<td>1</td>\n",
       "\t\t<td>0</td>\n",
       "\t\t<td>0</td>\n",
       "\t\t<td>1</td>\n",
       "\t\t<td>0</td>\n",
       "\t\t<td>1</td>\n",
       "\t\t<td>185</td>\n",
       "\t\t<td>2</td>\n",
       "\t\t<td>6360.0</td>\n",
       "\t\t<td>1</td>\n",
       "\t\t<td>0</td>\n",
       "\t\t<td>2</td>\n",
       "\t\t<td>0</td>\n",
       "\t\t<td>1</td>\n",
       "\t\t<td>0</td>\n",
       "\t\t<td>1</td>\n",
       "\t\t<td>82000.0</td>\n",
       "\t</tr>\n",
       "\t<tr>\n",
       "\t\t<td>83851.72413793103</td>\n",
       "\t\t<td>1</td>\n",
       "\t\t<td>2</td>\n",
       "\t\t<td>1</td>\n",
       "\t\t<td>0</td>\n",
       "\t\t<td>0</td>\n",
       "\t\t<td>1</td>\n",
       "\t\t<td>0</td>\n",
       "\t\t<td>1</td>\n",
       "\t\t<td>378</td>\n",
       "\t\t<td>2</td>\n",
       "\t\t<td>8400.0</td>\n",
       "\t\t<td>1</td>\n",
       "\t\t<td>0</td>\n",
       "\t\t<td>2</td>\n",
       "\t\t<td>0</td>\n",
       "\t\t<td>1</td>\n",
       "\t\t<td>0</td>\n",
       "\t\t<td>1</td>\n",
       "\t\t<td>75000.0</td>\n",
       "\t</tr>\n",
       "\t<tr>\n",
       "\t\t<td>83851.72413793103</td>\n",
       "\t\t<td>1</td>\n",
       "\t\t<td>3</td>\n",
       "\t\t<td>1</td>\n",
       "\t\t<td>0</td>\n",
       "\t\t<td>0</td>\n",
       "\t\t<td>1</td>\n",
       "\t\t<td>1</td>\n",
       "\t\t<td>0</td>\n",
       "\t\t<td>285</td>\n",
       "\t\t<td>2</td>\n",
       "\t\t<td>6100.0</td>\n",
       "\t\t<td>1</td>\n",
       "\t\t<td>0</td>\n",
       "\t\t<td>0</td>\n",
       "\t\t<td>0</td>\n",
       "\t\t<td>1</td>\n",
       "\t\t<td>0</td>\n",
       "\t\t<td>1</td>\n",
       "\t\t<td>78000.0</td>\n",
       "\t</tr>\n",
       "\t<tr>\n",
       "\t\t<td>83851.72413793103</td>\n",
       "\t\t<td>1</td>\n",
       "\t\t<td>1</td>\n",
       "\t\t<td>1</td>\n",
       "\t\t<td>0</td>\n",
       "\t\t<td>0</td>\n",
       "\t\t<td>1</td>\n",
       "\t\t<td>0</td>\n",
       "\t\t<td>1</td>\n",
       "\t\t<td>139</td>\n",
       "\t\t<td>2</td>\n",
       "\t\t<td>11175.0</td>\n",
       "\t\t<td>1</td>\n",
       "\t\t<td>0</td>\n",
       "\t\t<td>1</td>\n",
       "\t\t<td>0</td>\n",
       "\t\t<td>1</td>\n",
       "\t\t<td>1</td>\n",
       "\t\t<td>0</td>\n",
       "\t\t<td>100000.0</td>\n",
       "\t</tr>\n",
       "\t<tr>\n",
       "\t\t<td>83851.72413793103</td>\n",
       "\t\t<td>1</td>\n",
       "\t\t<td>2</td>\n",
       "\t\t<td>1</td>\n",
       "\t\t<td>0</td>\n",
       "\t\t<td>1</td>\n",
       "\t\t<td>0</td>\n",
       "\t\t<td>0</td>\n",
       "\t\t<td>1</td>\n",
       "\t\t<td>58</td>\n",
       "\t\t<td>2</td>\n",
       "\t\t<td>3400.0</td>\n",
       "\t\t<td>1</td>\n",
       "\t\t<td>0</td>\n",
       "\t\t<td>2</td>\n",
       "\t\t<td>0</td>\n",
       "\t\t<td>1</td>\n",
       "\t\t<td>1</td>\n",
       "\t\t<td>0</td>\n",
       "\t\t<td>61100.0</td>\n",
       "\t</tr>\n",
       "\t<tr>\n",
       "\t\t<td>83851.72413793103</td>\n",
       "\t\t<td>1</td>\n",
       "\t\t<td>1</td>\n",
       "\t\t<td>1</td>\n",
       "\t\t<td>0</td>\n",
       "\t\t<td>1</td>\n",
       "\t\t<td>0</td>\n",
       "\t\t<td>1</td>\n",
       "\t\t<td>0</td>\n",
       "\t\t<td>464</td>\n",
       "\t\t<td>2</td>\n",
       "\t\t<td>6040.0</td>\n",
       "\t\t<td>1</td>\n",
       "\t\t<td>0</td>\n",
       "\t\t<td>2</td>\n",
       "\t\t<td>0</td>\n",
       "\t\t<td>1</td>\n",
       "\t\t<td>1</td>\n",
       "\t\t<td>0</td>\n",
       "\t\t<td>69000.0</td>\n",
       "\t</tr>\n",
       "\t<tr>\n",
       "\t\t<td>62906.33597883598</td>\n",
       "\t\t<td>1</td>\n",
       "\t\t<td>1</td>\n",
       "\t\t<td>1</td>\n",
       "\t\t<td>0</td>\n",
       "\t\t<td>1</td>\n",
       "\t\t<td>0</td>\n",
       "\t\t<td>1</td>\n",
       "\t\t<td>0</td>\n",
       "\t\t<td>395</td>\n",
       "\t\t<td>1</td>\n",
       "\t\t<td>2700.0</td>\n",
       "\t\t<td>0</td>\n",
       "\t\t<td>1</td>\n",
       "\t\t<td>0</td>\n",
       "\t\t<td>1</td>\n",
       "\t\t<td>0</td>\n",
       "\t\t<td>1</td>\n",
       "\t\t<td>0</td>\n",
       "\t\t<td>42000.0</td>\n",
       "\t</tr>\n",
       "\t<tr>\n",
       "\t\t<td>62906.33597883598</td>\n",
       "\t\t<td>1</td>\n",
       "\t\t<td>1</td>\n",
       "\t\t<td>1</td>\n",
       "\t\t<td>0</td>\n",
       "\t\t<td>1</td>\n",
       "\t\t<td>0</td>\n",
       "\t\t<td>1</td>\n",
       "\t\t<td>0</td>\n",
       "\t\t<td>119</td>\n",
       "\t\t<td>2</td>\n",
       "\t\t<td>6720.0</td>\n",
       "\t\t<td>1</td>\n",
       "\t\t<td>0</td>\n",
       "\t\t<td>0</td>\n",
       "\t\t<td>0</td>\n",
       "\t\t<td>1</td>\n",
       "\t\t<td>1</td>\n",
       "\t\t<td>0</td>\n",
       "\t\t<td>70000.0</td>\n",
       "\t</tr>\n",
       "\t<tr>\n",
       "\t\t<td>62906.33597883598</td>\n",
       "\t\t<td>1</td>\n",
       "\t\t<td>2</td>\n",
       "\t\t<td>1</td>\n",
       "\t\t<td>0</td>\n",
       "\t\t<td>1</td>\n",
       "\t\t<td>0</td>\n",
       "\t\t<td>1</td>\n",
       "\t\t<td>0</td>\n",
       "\t\t<td>144</td>\n",
       "\t\t<td>1</td>\n",
       "\t\t<td>4840.0</td>\n",
       "\t\t<td>0</td>\n",
       "\t\t<td>1</td>\n",
       "\t\t<td>0</td>\n",
       "\t\t<td>0</td>\n",
       "\t\t<td>1</td>\n",
       "\t\t<td>1</td>\n",
       "\t\t<td>0</td>\n",
       "\t\t<td>35000.0</td>\n",
       "\t</tr>\n",
       "\t<tr>\n",
       "\t\t<td>62906.33597883598</td>\n",
       "\t\t<td>1</td>\n",
       "\t\t<td>1</td>\n",
       "\t\t<td>1</td>\n",
       "\t\t<td>0</td>\n",
       "\t\t<td>0</td>\n",
       "\t\t<td>1</td>\n",
       "\t\t<td>1</td>\n",
       "\t\t<td>0</td>\n",
       "\t\t<td>234</td>\n",
       "\t\t<td>0</td>\n",
       "\t\t<td>8880.0</td>\n",
       "\t\t<td>0</td>\n",
       "\t\t<td>1</td>\n",
       "\t\t<td>1</td>\n",
       "\t\t<td>0</td>\n",
       "\t\t<td>1</td>\n",
       "\t\t<td>1</td>\n",
       "\t\t<td>0</td>\n",
       "\t\t<td>101000.0</td>\n",
       "\t</tr>\n",
       "</table></html>"
      ],
      "text/plain": [
       "              bathrms  stories  gashw_0  gashw_1  airco_0  airco_1  fullbase_0  fullbase_1   id  homestyle  lotsize  bedrooms_0  bedrooms_1  garagepl  driveway_0  driveway_1  recroom_0  recroom_1     price\n",
       "prefarea                                                                                                                                                                                                     \n",
       "83851.724138        1        1        1        0        0        1           0           1  185          2   6360.0           1           0         2           0           1          0          1   82000.0\n",
       "83851.724138        1        2        1        0        0        1           0           1  378          2   8400.0           1           0         2           0           1          0          1   75000.0\n",
       "83851.724138        1        3        1        0        0        1           1           0  285          2   6100.0           1           0         0           0           1          0          1   78000.0\n",
       "83851.724138        1        1        1        0        0        1           0           1  139          2  11175.0           1           0         1           0           1          1          0  100000.0\n",
       "83851.724138        1        2        1        0        1        0           0           1   58          2   3400.0           1           0         2           0           1          1          0   61100.0\n",
       "83851.724138        1        1        1        0        1        0           1           0  464          2   6040.0           1           0         2           0           1          1          0   69000.0\n",
       "62906.335979        1        1        1        0        1        0           1           0  395          1   2700.0           0           1         0           1           0          1          0   42000.0\n",
       "62906.335979        1        1        1        0        1        0           1           0  119          2   6720.0           1           0         0           0           1          1          0   70000.0\n",
       "62906.335979        1        2        1        0        1        0           1           0  144          1   4840.0           0           1         0           0           1          1          0   35000.0\n",
       "62906.335979        1        1        1        0        0        1           1           0  234          0   8880.0           0           1         1           0           1          1          0  101000.0"
      ]
     },
     "metadata": {},
     "output_type": "display_data"
    },
    {
     "name": "stdout",
     "output_type": "stream",
     "text": [
      "                                                                                         \r"
     ]
    },
    {
     "data": {
      "text/html": [
       "492 rows X 20 columns"
      ],
      "text/plain": [
       "<IPython.core.display.HTML object>"
      ]
     },
     "metadata": {},
     "output_type": "display_data"
    },
    {
     "name": "stdout",
     "output_type": "stream",
     "text": [
      "                                                                                         \r"
     ]
    },
    {
     "data": {
      "text/html": [
       "Time taken to encode the columns: 14.42 sec"
      ],
      "text/plain": [
       "<IPython.core.display.HTML object>"
      ]
     },
     "metadata": {},
     "output_type": "display_data"
    },
    {
     "name": "stdout",
     "output_type": "stream",
     "text": [
      "                                                                                         \r"
     ]
    },
    {
     "data": {
      "text/html": [
       "\n",
       "Starting customized mathematical transformation ..."
      ],
      "text/plain": [
       "<IPython.core.display.HTML object>"
      ]
     },
     "metadata": {},
     "output_type": "display_data"
    },
    {
     "name": "stdout",
     "output_type": "stream",
     "text": [
      "Skipping customized mathematical transformation.                                         \n",
      "                                                                                         \r"
     ]
    },
    {
     "data": {
      "text/html": [
       "\n",
       "Starting customized non-linear transformation ..."
      ],
      "text/plain": [
       "<IPython.core.display.HTML object>"
      ]
     },
     "metadata": {},
     "output_type": "display_data"
    },
    {
     "name": "stdout",
     "output_type": "stream",
     "text": [
      "Skipping customized non-linear transformation.                                           \n",
      "                                                                                          \r"
     ]
    },
    {
     "data": {
      "text/html": [
       "\n",
       "            <style>\n",
       "                .custom-div {\n",
       "                    background-color: lightgray;\n",
       "                    color: #000000;\n",
       "                    padding: 10px;\n",
       "                    border-radius: 8px;\n",
       "                    box-shadow: 0 3px 4px rgba(0 -  0 -  0 -  0.2);\n",
       "                    margin-bottom: 10px;\n",
       "                    text-align: center;\n",
       "                }\n",
       "            </style>\n",
       "        <br><div class=\"custom-div\"><h3><span style=\"color: green;\">1. Feature Exploration -> 2. Feature Engineering -></span> 3. Data Preparation -> 4. Model Training & Evaluation<center></h3></center></div>"
      ],
      "text/plain": [
       "<IPython.core.display.HTML object>"
      ]
     },
     "metadata": {},
     "output_type": "display_data"
    },
    {
     "name": "stdout",
     "output_type": "stream",
     "text": [
      "                                                                                          \r"
     ]
    },
    {
     "data": {
      "text/html": [
       "Data preparation started ..."
      ],
      "text/plain": [
       "<IPython.core.display.HTML object>"
      ]
     },
     "metadata": {},
     "output_type": "display_data"
    },
    {
     "name": "stdout",
     "output_type": "stream",
     "text": [
      "No information provided for performing customized feature scaling. Proceeding with default option.\n",
      "                                                                                          \r"
     ]
    },
    {
     "data": {
      "text/html": [
       "\n",
       "Starting customized outlier processing ..."
      ],
      "text/plain": [
       "<IPython.core.display.HTML object>"
      ]
     },
     "metadata": {},
     "output_type": "display_data"
    },
    {
     "name": "stdout",
     "output_type": "stream",
     "text": [
      "Columns with outlier percentage :-                                                                                                                                                                                                                                                                                                                                                                                                                                                                                  \n",
      "  ColumnName  OutlierPercentage\n",
      "0         id           9.756098\n",
      "1    lotsize           9.552846\n",
      "2    bathrms           2.235772\n",
      "3   garagepl           2.235772\n",
      "4      price           8.739837\n",
      "                                                                                          \r"
     ]
    },
    {
     "data": {
      "text/html": [
       "\n",
       "Feature selection using lasso ..."
      ],
      "text/plain": [
       "<IPython.core.display.HTML object>"
      ]
     },
     "metadata": {},
     "output_type": "display_data"
    },
    {
     "name": "stdout",
     "output_type": "stream",
     "text": [
      "                                                                                          \r"
     ]
    },
    {
     "data": {
      "text/html": [
       "feature selected by lasso:"
      ],
      "text/plain": [
       "<IPython.core.display.HTML object>"
      ]
     },
     "metadata": {},
     "output_type": "display_data"
    },
    {
     "name": "stdout",
     "output_type": "stream",
     "text": [
      "['recroom_1', 'stories', 'gashw_0', 'bedrooms_0', 'garagepl', 'fullbase_1', 'bathrms', 'airco_0', 'recroom_0', 'airco_1', 'driveway_1', 'gashw_1', 'bedrooms_1', 'homestyle', 'fullbase_0', 'driveway_0', 'prefarea', 'lotsize']\n",
      "                                                                                          \r"
     ]
    },
    {
     "data": {
      "text/html": [
       "Total time taken by feature selection: 0.96 sec  "
      ],
      "text/plain": [
       "<IPython.core.display.HTML object>"
      ]
     },
     "metadata": {},
     "output_type": "display_data"
    },
    {
     "name": "stdout",
     "output_type": "stream",
     "text": [
      "                                                                                          \r"
     ]
    },
    {
     "data": {
      "text/html": [
       "\n",
       "scaling Features of lasso data ..."
      ],
      "text/plain": [
       "<IPython.core.display.HTML object>"
      ]
     },
     "metadata": {},
     "output_type": "display_data"
    },
    {
     "name": "stdout",
     "output_type": "stream",
     "text": [
      "                                                                                          \r"
     ]
    },
    {
     "data": {
      "text/html": [
       "columns that will be scaled: "
      ],
      "text/plain": [
       "<IPython.core.display.HTML object>"
      ]
     },
     "metadata": {},
     "output_type": "display_data"
    },
    {
     "name": "stdout",
     "output_type": "stream",
     "text": [
      "['stories', 'garagepl', 'bathrms', 'homestyle', 'prefarea', 'lotsize']\n",
      "                                                                                          \r"
     ]
    },
    {
     "data": {
      "text/html": [
       "Dataset sample after scaling:"
      ],
      "text/plain": [
       "<IPython.core.display.HTML object>"
      ]
     },
     "metadata": {},
     "output_type": "display_data"
    },
    {
     "data": {
      "text/html": [
       "<style type=\"text/css\">\n",
       "\ttable {border:ridge 5px;}\n",
       "\ttable td {border:inset 1px;}\n",
       "\ttable tr#HeaderRow {background-color:grey; color:white;}</style>\n",
       "<html><table>\n",
       "\t<tr id=\"HeaderRow\">\n",
       "\t\t<th>recroom_1</th>\n",
       "\t\t<th>airco_0</th>\n",
       "\t\t<th>recroom_0</th>\n",
       "\t\t<th>gashw_0</th>\n",
       "\t\t<th>airco_1</th>\n",
       "\t\t<th>id</th>\n",
       "\t\t<th>driveway_1</th>\n",
       "\t\t<th>gashw_1</th>\n",
       "\t\t<th>bedrooms_1</th>\n",
       "\t\t<th>fullbase_0</th>\n",
       "\t\t<th>bedrooms_0</th>\n",
       "\t\t<th>fullbase_1</th>\n",
       "\t\t<th>price</th>\n",
       "\t\t<th>driveway_0</th>\n",
       "\t\t<th>stories</th>\n",
       "\t\t<th>garagepl</th>\n",
       "\t\t<th>bathrms</th>\n",
       "\t\t<th>homestyle</th>\n",
       "\t\t<th>prefarea</th>\n",
       "\t\t<th>lotsize</th>\n",
       "\t</tr>\n",
       "\t<tr>\n",
       "\t\t<td>0</td>\n",
       "\t\t<td>1</td>\n",
       "\t\t<td>1</td>\n",
       "\t\t<td>1</td>\n",
       "\t\t<td>0</td>\n",
       "\t\t<td>10</td>\n",
       "\t\t<td>0</td>\n",
       "\t\t<td>0</td>\n",
       "\t\t<td>1</td>\n",
       "\t\t<td>0</td>\n",
       "\t\t<td>0</td>\n",
       "\t\t<td>1</td>\n",
       "\t\t<td>54500.0</td>\n",
       "\t\t<td>1</td>\n",
       "\t\t<td>-0.9243489557048288</td>\n",
       "\t\t<td>-0.7962575788492099</td>\n",
       "\t\t<td>1.7248787237282124</td>\n",
       "\t\t<td>0.7342974433930187</td>\n",
       "\t\t<td>-0.5541346563708683</td>\n",
       "\t\t<td>-0.9405595540664473</td>\n",
       "\t</tr>\n",
       "\t<tr>\n",
       "\t\t<td>0</td>\n",
       "\t\t<td>0</td>\n",
       "\t\t<td>1</td>\n",
       "\t\t<td>1</td>\n",
       "\t\t<td>1</td>\n",
       "\t\t<td>12</td>\n",
       "\t\t<td>1</td>\n",
       "\t\t<td>0</td>\n",
       "\t\t<td>1</td>\n",
       "\t\t<td>0</td>\n",
       "\t\t<td>0</td>\n",
       "\t\t<td>1</td>\n",
       "\t\t<td>63900.0</td>\n",
       "\t\t<td>0</td>\n",
       "\t\t<td>-0.9243489557048288</td>\n",
       "\t\t<td>0.38950061132561975</td>\n",
       "\t\t<td>-0.5797509043642046</td>\n",
       "\t\t<td>0.7342974433930187</td>\n",
       "\t\t<td>-0.5541346563708683</td>\n",
       "\t\t<td>0.5744513081034206</td>\n",
       "\t</tr>\n",
       "\t<tr>\n",
       "\t\t<td>0</td>\n",
       "\t\t<td>0</td>\n",
       "\t\t<td>1</td>\n",
       "\t\t<td>1</td>\n",
       "\t\t<td>1</td>\n",
       "\t\t<td>13</td>\n",
       "\t\t<td>1</td>\n",
       "\t\t<td>0</td>\n",
       "\t\t<td>0</td>\n",
       "\t\t<td>0</td>\n",
       "\t\t<td>1</td>\n",
       "\t\t<td>1</td>\n",
       "\t\t<td>99000.0</td>\n",
       "\t\t<td>0</td>\n",
       "\t\t<td>0.24261127446320968</td>\n",
       "\t\t<td>0.38950061132561975</td>\n",
       "\t\t<td>1.7248787237282124</td>\n",
       "\t\t<td>0.7342974433930187</td>\n",
       "\t\t<td>-0.5541346563708683</td>\n",
       "\t\t<td>1.7638056298068683</td>\n",
       "\t</tr>\n",
       "\t<tr>\n",
       "\t\t<td>0</td>\n",
       "\t\t<td>1</td>\n",
       "\t\t<td>1</td>\n",
       "\t\t<td>1</td>\n",
       "\t\t<td>0</td>\n",
       "\t\t<td>14</td>\n",
       "\t\t<td>1</td>\n",
       "\t\t<td>0</td>\n",
       "\t\t<td>1</td>\n",
       "\t\t<td>1</td>\n",
       "\t\t<td>0</td>\n",
       "\t\t<td>0</td>\n",
       "\t\t<td>48000.0</td>\n",
       "\t\t<td>0</td>\n",
       "\t\t<td>0.24261127446320968</td>\n",
       "\t\t<td>-0.7962575788492099</td>\n",
       "\t\t<td>-0.5797509043642046</td>\n",
       "\t\t<td>-0.7435145661134329</td>\n",
       "\t\t<td>-0.5541346563708683</td>\n",
       "\t\t<td>-0.48275253341075514</td>\n",
       "\t</tr>\n",
       "\t<tr>\n",
       "\t\t<td>0</td>\n",
       "\t\t<td>0</td>\n",
       "\t\t<td>1</td>\n",
       "\t\t<td>1</td>\n",
       "\t\t<td>1</td>\n",
       "\t\t<td>16</td>\n",
       "\t\t<td>1</td>\n",
       "\t\t<td>0</td>\n",
       "\t\t<td>0</td>\n",
       "\t\t<td>1</td>\n",
       "\t\t<td>1</td>\n",
       "\t\t<td>0</td>\n",
       "\t\t<td>87000.0</td>\n",
       "\t\t<td>0</td>\n",
       "\t\t<td>1.4095715046312483</td>\n",
       "\t\t<td>1.5752588015004494</td>\n",
       "\t\t<td>-0.5797509043642046</td>\n",
       "\t\t<td>0.7342974433930187</td>\n",
       "\t\t<td>-0.5541346563708683</td>\n",
       "\t\t<td>1.5240469014634748</td>\n",
       "\t</tr>\n",
       "\t<tr>\n",
       "\t\t<td>0</td>\n",
       "\t\t<td>0</td>\n",
       "\t\t<td>1</td>\n",
       "\t\t<td>1</td>\n",
       "\t\t<td>1</td>\n",
       "\t\t<td>17</td>\n",
       "\t\t<td>0</td>\n",
       "\t\t<td>0</td>\n",
       "\t\t<td>0</td>\n",
       "\t\t<td>0</td>\n",
       "\t\t<td>1</td>\n",
       "\t\t<td>1</td>\n",
       "\t\t<td>57000.0</td>\n",
       "\t\t<td>1</td>\n",
       "\t\t<td>0.24261127446320968</td>\n",
       "\t\t<td>-0.7962575788492099</td>\n",
       "\t\t<td>1.7248787237282124</td>\n",
       "\t\t<td>0.7342974433930187</td>\n",
       "\t\t<td>-0.5541346563708683</td>\n",
       "\t\t<td>-0.303405453153886</td>\n",
       "\t</tr>\n",
       "\t<tr>\n",
       "\t\t<td>0</td>\n",
       "\t\t<td>1</td>\n",
       "\t\t<td>1</td>\n",
       "\t\t<td>1</td>\n",
       "\t\t<td>0</td>\n",
       "\t\t<td>15</td>\n",
       "\t\t<td>1</td>\n",
       "\t\t<td>0</td>\n",
       "\t\t<td>1</td>\n",
       "\t\t<td>1</td>\n",
       "\t\t<td>0</td>\n",
       "\t\t<td>0</td>\n",
       "\t\t<td>49500.0</td>\n",
       "\t\t<td>0</td>\n",
       "\t\t<td>-0.9243489557048288</td>\n",
       "\t\t<td>0.38950061132561975</td>\n",
       "\t\t<td>-0.5797509043642046</td>\n",
       "\t\t<td>-0.7435145661134329</td>\n",
       "\t\t<td>1.8046155180928998</td>\n",
       "\t\t<td>0.08360666740041044</td>\n",
       "\t</tr>\n",
       "\t<tr>\n",
       "\t\t<td>0</td>\n",
       "\t\t<td>1</td>\n",
       "\t\t<td>1</td>\n",
       "\t\t<td>1</td>\n",
       "\t\t<td>0</td>\n",
       "\t\t<td>11</td>\n",
       "\t\t<td>1</td>\n",
       "\t\t<td>0</td>\n",
       "\t\t<td>0</td>\n",
       "\t\t<td>1</td>\n",
       "\t\t<td>1</td>\n",
       "\t\t<td>0</td>\n",
       "\t\t<td>80000.0</td>\n",
       "\t\t<td>0</td>\n",
       "\t\t<td>0.24261127446320968</td>\n",
       "\t\t<td>0.38950061132561975</td>\n",
       "\t\t<td>1.7248787237282124</td>\n",
       "\t\t<td>0.7342974433930187</td>\n",
       "\t\t<td>-0.5541346563708683</td>\n",
       "\t\t<td>2.5283905509019418</td>\n",
       "\t</tr>\n",
       "\t<tr>\n",
       "\t\t<td>0</td>\n",
       "\t\t<td>1</td>\n",
       "\t\t<td>1</td>\n",
       "\t\t<td>1</td>\n",
       "\t\t<td>0</td>\n",
       "\t\t<td>9</td>\n",
       "\t\t<td>1</td>\n",
       "\t\t<td>0</td>\n",
       "\t\t<td>1</td>\n",
       "\t\t<td>1</td>\n",
       "\t\t<td>0</td>\n",
       "\t\t<td>0</td>\n",
       "\t\t<td>50000.0</td>\n",
       "\t\t<td>0</td>\n",
       "\t\t<td>-0.9243489557048288</td>\n",
       "\t\t<td>0.38950061132561975</td>\n",
       "\t\t<td>-0.5797509043642046</td>\n",
       "\t\t<td>-0.7435145661134329</td>\n",
       "\t\t<td>-0.5541346563708683</td>\n",
       "\t\t<td>-0.7092962137352213</td>\n",
       "\t</tr>\n",
       "\t<tr>\n",
       "\t\t<td>0</td>\n",
       "\t\t<td>1</td>\n",
       "\t\t<td>1</td>\n",
       "\t\t<td>1</td>\n",
       "\t\t<td>0</td>\n",
       "\t\t<td>8</td>\n",
       "\t\t<td>1</td>\n",
       "\t\t<td>0</td>\n",
       "\t\t<td>0</td>\n",
       "\t\t<td>1</td>\n",
       "\t\t<td>1</td>\n",
       "\t\t<td>0</td>\n",
       "\t\t<td>58000.0</td>\n",
       "\t\t<td>0</td>\n",
       "\t\t<td>-0.9243489557048288</td>\n",
       "\t\t<td>-0.7962575788492099</td>\n",
       "\t\t<td>-0.5797509043642046</td>\n",
       "\t\t<td>0.7342974433930187</td>\n",
       "\t\t<td>-0.5541346563708683</td>\n",
       "\t\t<td>-0.37892001326204144</td>\n",
       "\t</tr>\n",
       "</table></html>"
      ],
      "text/plain": [
       "   recroom_1  airco_0  recroom_0  gashw_0  airco_1  id  driveway_1  gashw_1  bedrooms_1  fullbase_0  bedrooms_0  fullbase_1    price  driveway_0   stories  garagepl   bathrms  homestyle  prefarea   lotsize\n",
       "0          0        1          1        1        0  10           0        0           1           0           0           1  54500.0           1 -0.924349 -0.796258  1.724879   0.734297 -0.554135 -0.940560\n",
       "1          0        0          1        1        1  12           1        0           1           0           0           1  63900.0           0 -0.924349  0.389501 -0.579751   0.734297 -0.554135  0.574451\n",
       "2          0        0          1        1        1  13           1        0           0           0           1           1  99000.0           0  0.242611  0.389501  1.724879   0.734297 -0.554135  1.763806\n",
       "3          0        1          1        1        0  14           1        0           1           1           0           0  48000.0           0  0.242611 -0.796258 -0.579751  -0.743515 -0.554135 -0.482753\n",
       "4          0        0          1        1        1  16           1        0           0           1           1           0  87000.0           0  1.409572  1.575259 -0.579751   0.734297 -0.554135  1.524047\n",
       "5          0        0          1        1        1  17           0        0           0           0           1           1  57000.0           1  0.242611 -0.796258  1.724879   0.734297 -0.554135 -0.303405\n",
       "6          0        1          1        1        0  15           1        0           1           1           0           0  49500.0           0 -0.924349  0.389501 -0.579751  -0.743515  1.804616  0.083607\n",
       "7          0        1          1        1        0  11           1        0           0           1           1           0  80000.0           0  0.242611  0.389501  1.724879   0.734297 -0.554135  2.528391\n",
       "8          0        1          1        1        0   9           1        0           1           1           0           0  50000.0           0 -0.924349  0.389501 -0.579751  -0.743515 -0.554135 -0.709296\n",
       "9          0        1          1        1        0   8           1        0           0           1           1           0  58000.0           0 -0.924349 -0.796258 -0.579751   0.734297 -0.554135 -0.378920"
      ]
     },
     "metadata": {},
     "output_type": "display_data"
    },
    {
     "name": "stdout",
     "output_type": "stream",
     "text": [
      "                                                                                          \r"
     ]
    },
    {
     "data": {
      "text/html": [
       "481 rows X 20 columns"
      ],
      "text/plain": [
       "<IPython.core.display.HTML object>"
      ]
     },
     "metadata": {},
     "output_type": "display_data"
    },
    {
     "name": "stdout",
     "output_type": "stream",
     "text": [
      "                                                                                          \r"
     ]
    },
    {
     "data": {
      "text/html": [
       "Total time taken by feature scaling: 44.45 sec"
      ],
      "text/plain": [
       "<IPython.core.display.HTML object>"
      ]
     },
     "metadata": {},
     "output_type": "display_data"
    },
    {
     "name": "stdout",
     "output_type": "stream",
     "text": [
      "                                                                                          \r"
     ]
    },
    {
     "data": {
      "text/html": [
       "\n",
       "Feature selection using rfe ..."
      ],
      "text/plain": [
       "<IPython.core.display.HTML object>"
      ]
     },
     "metadata": {},
     "output_type": "display_data"
    },
    {
     "name": "stdout",
     "output_type": "stream",
     "text": [
      "                                                                                          \r"
     ]
    },
    {
     "data": {
      "text/html": [
       "feature selected by RFE:"
      ],
      "text/plain": [
       "<IPython.core.display.HTML object>"
      ]
     },
     "metadata": {},
     "output_type": "display_data"
    },
    {
     "name": "stdout",
     "output_type": "stream",
     "text": [
      "['stories', 'garagepl', 'bathrms', 'airco_0', 'bedrooms_1', 'homestyle', 'fullbase_0', 'prefarea', 'lotsize']\n",
      "                                                                                          \r"
     ]
    },
    {
     "data": {
      "text/html": [
       "Total time taken by feature selection: 38.33 sec  "
      ],
      "text/plain": [
       "<IPython.core.display.HTML object>"
      ]
     },
     "metadata": {},
     "output_type": "display_data"
    },
    {
     "name": "stdout",
     "output_type": "stream",
     "text": [
      "                                                                                          \r"
     ]
    },
    {
     "data": {
      "text/html": [
       "\n",
       "scaling Features of rfe data ..."
      ],
      "text/plain": [
       "<IPython.core.display.HTML object>"
      ]
     },
     "metadata": {},
     "output_type": "display_data"
    },
    {
     "name": "stdout",
     "output_type": "stream",
     "text": [
      "                                                                                          \r"
     ]
    },
    {
     "data": {
      "text/html": [
       "columns that will be scaled: "
      ],
      "text/plain": [
       "<IPython.core.display.HTML object>"
      ]
     },
     "metadata": {},
     "output_type": "display_data"
    },
    {
     "name": "stdout",
     "output_type": "stream",
     "text": [
      "['r_stories', 'r_garagepl', 'r_bathrms', 'r_homestyle', 'r_prefarea', 'r_lotsize']\n",
      "                                                                                          \r"
     ]
    },
    {
     "data": {
      "text/html": [
       "Dataset sample after scaling:"
      ],
      "text/plain": [
       "<IPython.core.display.HTML object>"
      ]
     },
     "metadata": {},
     "output_type": "display_data"
    },
    {
     "data": {
      "text/html": [
       "<style type=\"text/css\">\n",
       "\ttable {border:ridge 5px;}\n",
       "\ttable td {border:inset 1px;}\n",
       "\ttable tr#HeaderRow {background-color:grey; color:white;}</style>\n",
       "<html><table>\n",
       "\t<tr id=\"HeaderRow\">\n",
       "\t\t<th>r_bedrooms_1</th>\n",
       "\t\t<th>r_fullbase_0</th>\n",
       "\t\t<th>id</th>\n",
       "\t\t<th>price</th>\n",
       "\t\t<th>r_airco_0</th>\n",
       "\t\t<th>r_stories</th>\n",
       "\t\t<th>r_garagepl</th>\n",
       "\t\t<th>r_bathrms</th>\n",
       "\t\t<th>r_homestyle</th>\n",
       "\t\t<th>r_prefarea</th>\n",
       "\t\t<th>r_lotsize</th>\n",
       "\t</tr>\n",
       "\t<tr>\n",
       "\t\t<td>1</td>\n",
       "\t\t<td>0</td>\n",
       "\t\t<td>10</td>\n",
       "\t\t<td>54500.0</td>\n",
       "\t\t<td>1</td>\n",
       "\t\t<td>-0.9243489557048288</td>\n",
       "\t\t<td>-0.7962575788492099</td>\n",
       "\t\t<td>1.7248787237282124</td>\n",
       "\t\t<td>0.7342974433930187</td>\n",
       "\t\t<td>-0.5541346563708683</td>\n",
       "\t\t<td>-0.9405595540664473</td>\n",
       "\t</tr>\n",
       "\t<tr>\n",
       "\t\t<td>1</td>\n",
       "\t\t<td>0</td>\n",
       "\t\t<td>12</td>\n",
       "\t\t<td>63900.0</td>\n",
       "\t\t<td>0</td>\n",
       "\t\t<td>-0.9243489557048288</td>\n",
       "\t\t<td>0.38950061132561975</td>\n",
       "\t\t<td>-0.5797509043642046</td>\n",
       "\t\t<td>0.7342974433930187</td>\n",
       "\t\t<td>-0.5541346563708683</td>\n",
       "\t\t<td>0.5744513081034206</td>\n",
       "\t</tr>\n",
       "\t<tr>\n",
       "\t\t<td>0</td>\n",
       "\t\t<td>0</td>\n",
       "\t\t<td>13</td>\n",
       "\t\t<td>99000.0</td>\n",
       "\t\t<td>0</td>\n",
       "\t\t<td>0.24261127446320968</td>\n",
       "\t\t<td>0.38950061132561975</td>\n",
       "\t\t<td>1.7248787237282124</td>\n",
       "\t\t<td>0.7342974433930187</td>\n",
       "\t\t<td>-0.5541346563708683</td>\n",
       "\t\t<td>1.7638056298068683</td>\n",
       "\t</tr>\n",
       "\t<tr>\n",
       "\t\t<td>1</td>\n",
       "\t\t<td>1</td>\n",
       "\t\t<td>14</td>\n",
       "\t\t<td>48000.0</td>\n",
       "\t\t<td>1</td>\n",
       "\t\t<td>0.24261127446320968</td>\n",
       "\t\t<td>-0.7962575788492099</td>\n",
       "\t\t<td>-0.5797509043642046</td>\n",
       "\t\t<td>-0.7435145661134329</td>\n",
       "\t\t<td>-0.5541346563708683</td>\n",
       "\t\t<td>-0.48275253341075514</td>\n",
       "\t</tr>\n",
       "\t<tr>\n",
       "\t\t<td>0</td>\n",
       "\t\t<td>1</td>\n",
       "\t\t<td>16</td>\n",
       "\t\t<td>87000.0</td>\n",
       "\t\t<td>0</td>\n",
       "\t\t<td>1.4095715046312483</td>\n",
       "\t\t<td>1.5752588015004494</td>\n",
       "\t\t<td>-0.5797509043642046</td>\n",
       "\t\t<td>0.7342974433930187</td>\n",
       "\t\t<td>-0.5541346563708683</td>\n",
       "\t\t<td>1.5240469014634748</td>\n",
       "\t</tr>\n",
       "\t<tr>\n",
       "\t\t<td>0</td>\n",
       "\t\t<td>0</td>\n",
       "\t\t<td>17</td>\n",
       "\t\t<td>57000.0</td>\n",
       "\t\t<td>0</td>\n",
       "\t\t<td>0.24261127446320968</td>\n",
       "\t\t<td>-0.7962575788492099</td>\n",
       "\t\t<td>1.7248787237282124</td>\n",
       "\t\t<td>0.7342974433930187</td>\n",
       "\t\t<td>-0.5541346563708683</td>\n",
       "\t\t<td>-0.303405453153886</td>\n",
       "\t</tr>\n",
       "\t<tr>\n",
       "\t\t<td>1</td>\n",
       "\t\t<td>1</td>\n",
       "\t\t<td>15</td>\n",
       "\t\t<td>49500.0</td>\n",
       "\t\t<td>1</td>\n",
       "\t\t<td>-0.9243489557048288</td>\n",
       "\t\t<td>0.38950061132561975</td>\n",
       "\t\t<td>-0.5797509043642046</td>\n",
       "\t\t<td>-0.7435145661134329</td>\n",
       "\t\t<td>1.8046155180928998</td>\n",
       "\t\t<td>0.08360666740041044</td>\n",
       "\t</tr>\n",
       "\t<tr>\n",
       "\t\t<td>0</td>\n",
       "\t\t<td>1</td>\n",
       "\t\t<td>11</td>\n",
       "\t\t<td>80000.0</td>\n",
       "\t\t<td>1</td>\n",
       "\t\t<td>0.24261127446320968</td>\n",
       "\t\t<td>0.38950061132561975</td>\n",
       "\t\t<td>1.7248787237282124</td>\n",
       "\t\t<td>0.7342974433930187</td>\n",
       "\t\t<td>-0.5541346563708683</td>\n",
       "\t\t<td>2.5283905509019418</td>\n",
       "\t</tr>\n",
       "\t<tr>\n",
       "\t\t<td>1</td>\n",
       "\t\t<td>1</td>\n",
       "\t\t<td>9</td>\n",
       "\t\t<td>50000.0</td>\n",
       "\t\t<td>1</td>\n",
       "\t\t<td>-0.9243489557048288</td>\n",
       "\t\t<td>0.38950061132561975</td>\n",
       "\t\t<td>-0.5797509043642046</td>\n",
       "\t\t<td>-0.7435145661134329</td>\n",
       "\t\t<td>-0.5541346563708683</td>\n",
       "\t\t<td>-0.7092962137352213</td>\n",
       "\t</tr>\n",
       "\t<tr>\n",
       "\t\t<td>0</td>\n",
       "\t\t<td>1</td>\n",
       "\t\t<td>8</td>\n",
       "\t\t<td>58000.0</td>\n",
       "\t\t<td>1</td>\n",
       "\t\t<td>-0.9243489557048288</td>\n",
       "\t\t<td>-0.7962575788492099</td>\n",
       "\t\t<td>-0.5797509043642046</td>\n",
       "\t\t<td>0.7342974433930187</td>\n",
       "\t\t<td>-0.5541346563708683</td>\n",
       "\t\t<td>-0.37892001326204144</td>\n",
       "\t</tr>\n",
       "</table></html>"
      ],
      "text/plain": [
       "   r_bedrooms_1  r_fullbase_0  id    price  r_airco_0  r_stories  r_garagepl  r_bathrms  r_homestyle  r_prefarea  r_lotsize\n",
       "0             1             0  10  54500.0          1  -0.924349   -0.796258   1.724879     0.734297   -0.554135  -0.940560\n",
       "1             1             0  12  63900.0          0  -0.924349    0.389501  -0.579751     0.734297   -0.554135   0.574451\n",
       "2             0             0  13  99000.0          0   0.242611    0.389501   1.724879     0.734297   -0.554135   1.763806\n",
       "3             1             1  14  48000.0          1   0.242611   -0.796258  -0.579751    -0.743515   -0.554135  -0.482753\n",
       "4             0             1  16  87000.0          0   1.409572    1.575259  -0.579751     0.734297   -0.554135   1.524047\n",
       "5             0             0  17  57000.0          0   0.242611   -0.796258   1.724879     0.734297   -0.554135  -0.303405\n",
       "6             1             1  15  49500.0          1  -0.924349    0.389501  -0.579751    -0.743515    1.804616   0.083607\n",
       "7             0             1  11  80000.0          1   0.242611    0.389501   1.724879     0.734297   -0.554135   2.528391\n",
       "8             1             1   9  50000.0          1  -0.924349    0.389501  -0.579751    -0.743515   -0.554135  -0.709296\n",
       "9             0             1   8  58000.0          1  -0.924349   -0.796258  -0.579751     0.734297   -0.554135  -0.378920"
      ]
     },
     "metadata": {},
     "output_type": "display_data"
    },
    {
     "name": "stdout",
     "output_type": "stream",
     "text": [
      "                                                                                          \r"
     ]
    },
    {
     "data": {
      "text/html": [
       "481 rows X 11 columns"
      ],
      "text/plain": [
       "<IPython.core.display.HTML object>"
      ]
     },
     "metadata": {},
     "output_type": "display_data"
    },
    {
     "name": "stdout",
     "output_type": "stream",
     "text": [
      "                                                                                          \r"
     ]
    },
    {
     "data": {
      "text/html": [
       "Total time taken by feature scaling: 36.07 sec"
      ],
      "text/plain": [
       "<IPython.core.display.HTML object>"
      ]
     },
     "metadata": {},
     "output_type": "display_data"
    },
    {
     "name": "stdout",
     "output_type": "stream",
     "text": [
      "                                                                                          \r"
     ]
    },
    {
     "data": {
      "text/html": [
       "\n",
       "scaling Features of pca data ..."
      ],
      "text/plain": [
       "<IPython.core.display.HTML object>"
      ]
     },
     "metadata": {},
     "output_type": "display_data"
    },
    {
     "name": "stdout",
     "output_type": "stream",
     "text": [
      "                                                                                          \r"
     ]
    },
    {
     "data": {
      "text/html": [
       "columns that will be scaled: "
      ],
      "text/plain": [
       "<IPython.core.display.HTML object>"
      ]
     },
     "metadata": {},
     "output_type": "display_data"
    },
    {
     "name": "stdout",
     "output_type": "stream",
     "text": [
      "['prefarea', 'bathrms', 'stories', 'homestyle', 'lotsize', 'garagepl']\n",
      "                                                                                          \r"
     ]
    },
    {
     "data": {
      "text/html": [
       "Dataset sample after scaling:"
      ],
      "text/plain": [
       "<IPython.core.display.HTML object>"
      ]
     },
     "metadata": {},
     "output_type": "display_data"
    },
    {
     "data": {
      "text/html": [
       "<style type=\"text/css\">\n",
       "\ttable {border:ridge 5px;}\n",
       "\ttable td {border:inset 1px;}\n",
       "\ttable tr#HeaderRow {background-color:grey; color:white;}</style>\n",
       "<html><table>\n",
       "\t<tr id=\"HeaderRow\">\n",
       "\t\t<th>recroom_1</th>\n",
       "\t\t<th>airco_0</th>\n",
       "\t\t<th>recroom_0</th>\n",
       "\t\t<th>gashw_0</th>\n",
       "\t\t<th>airco_1</th>\n",
       "\t\t<th>id</th>\n",
       "\t\t<th>driveway_1</th>\n",
       "\t\t<th>gashw_1</th>\n",
       "\t\t<th>bedrooms_1</th>\n",
       "\t\t<th>fullbase_0</th>\n",
       "\t\t<th>bedrooms_0</th>\n",
       "\t\t<th>fullbase_1</th>\n",
       "\t\t<th>price</th>\n",
       "\t\t<th>driveway_0</th>\n",
       "\t\t<th>prefarea</th>\n",
       "\t\t<th>bathrms</th>\n",
       "\t\t<th>stories</th>\n",
       "\t\t<th>homestyle</th>\n",
       "\t\t<th>lotsize</th>\n",
       "\t\t<th>garagepl</th>\n",
       "\t</tr>\n",
       "\t<tr>\n",
       "\t\t<td>1</td>\n",
       "\t\t<td>0</td>\n",
       "\t\t<td>0</td>\n",
       "\t\t<td>1</td>\n",
       "\t\t<td>1</td>\n",
       "\t\t<td>285</td>\n",
       "\t\t<td>1</td>\n",
       "\t\t<td>0</td>\n",
       "\t\t<td>0</td>\n",
       "\t\t<td>1</td>\n",
       "\t\t<td>1</td>\n",
       "\t\t<td>0</td>\n",
       "\t\t<td>78000.0</td>\n",
       "\t\t<td>0</td>\n",
       "\t\t<td>1.8046155180928782</td>\n",
       "\t\t<td>-0.5797509043642026</td>\n",
       "\t\t<td>1.409571504631246</td>\n",
       "\t\t<td>0.7342974433930172</td>\n",
       "\t\t<td>0.4517401479276683</td>\n",
       "\t\t<td>-0.7962575788492109</td>\n",
       "\t</tr>\n",
       "\t<tr>\n",
       "\t\t<td>0</td>\n",
       "\t\t<td>1</td>\n",
       "\t\t<td>1</td>\n",
       "\t\t<td>1</td>\n",
       "\t\t<td>0</td>\n",
       "\t\t<td>58</td>\n",
       "\t\t<td>1</td>\n",
       "\t\t<td>0</td>\n",
       "\t\t<td>0</td>\n",
       "\t\t<td>0</td>\n",
       "\t\t<td>1</td>\n",
       "\t\t<td>1</td>\n",
       "\t\t<td>61100.0</td>\n",
       "\t\t<td>0</td>\n",
       "\t\t<td>1.8046155180928782</td>\n",
       "\t\t<td>-0.5797509043642026</td>\n",
       "\t\t<td>0.24261127446320932</td>\n",
       "\t\t<td>0.7342974433930172</td>\n",
       "\t\t<td>-0.822568053897455</td>\n",
       "\t\t<td>1.5752588015004514</td>\n",
       "\t</tr>\n",
       "\t<tr>\n",
       "\t\t<td>0</td>\n",
       "\t\t<td>1</td>\n",
       "\t\t<td>1</td>\n",
       "\t\t<td>1</td>\n",
       "\t\t<td>0</td>\n",
       "\t\t<td>464</td>\n",
       "\t\t<td>1</td>\n",
       "\t\t<td>0</td>\n",
       "\t\t<td>0</td>\n",
       "\t\t<td>1</td>\n",
       "\t\t<td>1</td>\n",
       "\t\t<td>0</td>\n",
       "\t\t<td>69000.0</td>\n",
       "\t\t<td>0</td>\n",
       "\t\t<td>1.8046155180928782</td>\n",
       "\t\t<td>-0.5797509043642026</td>\n",
       "\t\t<td>-0.9243489557048274</td>\n",
       "\t\t<td>0.7342974433930172</td>\n",
       "\t\t<td>0.42342218788711006</td>\n",
       "\t\t<td>1.5752588015004514</td>\n",
       "\t</tr>\n",
       "\t<tr>\n",
       "\t\t<td>0</td>\n",
       "\t\t<td>1</td>\n",
       "\t\t<td>1</td>\n",
       "\t\t<td>1</td>\n",
       "\t\t<td>0</td>\n",
       "\t\t<td>393</td>\n",
       "\t\t<td>1</td>\n",
       "\t\t<td>0</td>\n",
       "\t\t<td>0</td>\n",
       "\t\t<td>0</td>\n",
       "\t\t<td>1</td>\n",
       "\t\t<td>1</td>\n",
       "\t\t<td>86900.0</td>\n",
       "\t\t<td>0</td>\n",
       "\t\t<td>1.8046155180928782</td>\n",
       "\t\t<td>-0.5797509043642026</td>\n",
       "\t\t<td>-0.9243489557048274</td>\n",
       "\t\t<td>0.7342974433930172</td>\n",
       "\t\t<td>2.1130604703070883</td>\n",
       "\t\t<td>1.5752588015004514</td>\n",
       "\t</tr>\n",
       "\t<tr>\n",
       "\t\t<td>0</td>\n",
       "\t\t<td>1</td>\n",
       "\t\t<td>1</td>\n",
       "\t\t<td>1</td>\n",
       "\t\t<td>0</td>\n",
       "\t\t<td>283</td>\n",
       "\t\t<td>1</td>\n",
       "\t\t<td>0</td>\n",
       "\t\t<td>0</td>\n",
       "\t\t<td>1</td>\n",
       "\t\t<td>1</td>\n",
       "\t\t<td>0</td>\n",
       "\t\t<td>58000.0</td>\n",
       "\t\t<td>0</td>\n",
       "\t\t<td>1.8046155180928782</td>\n",
       "\t\t<td>-0.5797509043642026</td>\n",
       "\t\t<td>0.24261127446320932</td>\n",
       "\t\t<td>0.7342974433930172</td>\n",
       "\t\t<td>-0.3883593332755611</td>\n",
       "\t\t<td>1.5752588015004514</td>\n",
       "\t</tr>\n",
       "\t<tr>\n",
       "\t\t<td>0</td>\n",
       "\t\t<td>1</td>\n",
       "\t\t<td>1</td>\n",
       "\t\t<td>1</td>\n",
       "\t\t<td>0</td>\n",
       "\t\t<td>387</td>\n",
       "\t\t<td>1</td>\n",
       "\t\t<td>0</td>\n",
       "\t\t<td>0</td>\n",
       "\t\t<td>0</td>\n",
       "\t\t<td>1</td>\n",
       "\t\t<td>1</td>\n",
       "\t\t<td>47000.0</td>\n",
       "\t\t<td>0</td>\n",
       "\t\t<td>1.8046155180928782</td>\n",
       "\t\t<td>-0.5797509043642026</td>\n",
       "\t\t<td>0.24261127446320932</td>\n",
       "\t\t<td>-0.7435145661134314</td>\n",
       "\t\t<td>-1.4148853847457994</td>\n",
       "\t\t<td>-0.7962575788492109</td>\n",
       "\t</tr>\n",
       "\t<tr>\n",
       "\t\t<td>0</td>\n",
       "\t\t<td>1</td>\n",
       "\t\t<td>1</td>\n",
       "\t\t<td>1</td>\n",
       "\t\t<td>0</td>\n",
       "\t\t<td>144</td>\n",
       "\t\t<td>1</td>\n",
       "\t\t<td>0</td>\n",
       "\t\t<td>1</td>\n",
       "\t\t<td>1</td>\n",
       "\t\t<td>0</td>\n",
       "\t\t<td>0</td>\n",
       "\t\t<td>35000.0</td>\n",
       "\t\t<td>0</td>\n",
       "\t\t<td>-0.5541346563708951</td>\n",
       "\t\t<td>-0.5797509043642026</td>\n",
       "\t\t<td>0.24261127446320932</td>\n",
       "\t\t<td>-0.7435145661134314</td>\n",
       "\t\t<td>-0.1429370129240559</td>\n",
       "\t\t<td>-0.7962575788492109</td>\n",
       "\t</tr>\n",
       "\t<tr>\n",
       "\t\t<td>0</td>\n",
       "\t\t<td>0</td>\n",
       "\t\t<td>1</td>\n",
       "\t\t<td>1</td>\n",
       "\t\t<td>1</td>\n",
       "\t\t<td>411</td>\n",
       "\t\t<td>1</td>\n",
       "\t\t<td>0</td>\n",
       "\t\t<td>0</td>\n",
       "\t\t<td>1</td>\n",
       "\t\t<td>1</td>\n",
       "\t\t<td>0</td>\n",
       "\t\t<td>83000.0</td>\n",
       "\t\t<td>0</td>\n",
       "\t\t<td>-0.5541346563708951</td>\n",
       "\t\t<td>-0.5797509043642026</td>\n",
       "\t\t<td>1.409571504631246</td>\n",
       "\t\t<td>0.7342974433930172</td>\n",
       "\t\t<td>-0.16181565295109474</td>\n",
       "\t\t<td>-0.7962575788492109</td>\n",
       "\t</tr>\n",
       "\t<tr>\n",
       "\t\t<td>0</td>\n",
       "\t\t<td>1</td>\n",
       "\t\t<td>1</td>\n",
       "\t\t<td>1</td>\n",
       "\t\t<td>0</td>\n",
       "\t\t<td>487</td>\n",
       "\t\t<td>1</td>\n",
       "\t\t<td>0</td>\n",
       "\t\t<td>0</td>\n",
       "\t\t<td>1</td>\n",
       "\t\t<td>1</td>\n",
       "\t\t<td>0</td>\n",
       "\t\t<td>38000.0</td>\n",
       "\t\t<td>0</td>\n",
       "\t\t<td>-0.5541346563708951</td>\n",
       "\t\t<td>-0.5797509043642026</td>\n",
       "\t\t<td>-0.9243489557048274</td>\n",
       "\t\t<td>-0.7435145661134314</td>\n",
       "\t\t<td>-1.105747654303038</td>\n",
       "\t\t<td>-0.7962575788492109</td>\n",
       "\t</tr>\n",
       "\t<tr>\n",
       "\t\t<td>0</td>\n",
       "\t\t<td>1</td>\n",
       "\t\t<td>1</td>\n",
       "\t\t<td>1</td>\n",
       "\t\t<td>0</td>\n",
       "\t\t<td>35</td>\n",
       "\t\t<td>1</td>\n",
       "\t\t<td>0</td>\n",
       "\t\t<td>1</td>\n",
       "\t\t<td>1</td>\n",
       "\t\t<td>0</td>\n",
       "\t\t<td>0</td>\n",
       "\t\t<td>45000.0</td>\n",
       "\t\t<td>0</td>\n",
       "\t\t<td>-0.5541346563708951</td>\n",
       "\t\t<td>-0.5797509043642026</td>\n",
       "\t\t<td>-0.9243489557048274</td>\n",
       "\t\t<td>-0.7435145661134314</td>\n",
       "\t\t<td>-0.7989697538636564</td>\n",
       "\t\t<td>-0.7962575788492109</td>\n",
       "\t</tr>\n",
       "</table></html>"
      ],
      "text/plain": [
       "   recroom_1  airco_0  recroom_0  gashw_0  airco_1   id  driveway_1  gashw_1  bedrooms_1  fullbase_0  bedrooms_0  fullbase_1    price  driveway_0  prefarea   bathrms   stories  homestyle   lotsize  garagepl\n",
       "0          1        0          0        1        1  285           1        0           0           1           1           0  78000.0           0  1.804616 -0.579751  1.409572   0.734297  0.451740 -0.796258\n",
       "1          0        1          1        1        0   58           1        0           0           0           1           1  61100.0           0  1.804616 -0.579751  0.242611   0.734297 -0.822568  1.575259\n",
       "2          0        1          1        1        0  464           1        0           0           1           1           0  69000.0           0  1.804616 -0.579751 -0.924349   0.734297  0.423422  1.575259\n",
       "3          0        1          1        1        0  393           1        0           0           0           1           1  86900.0           0  1.804616 -0.579751 -0.924349   0.734297  2.113060  1.575259\n",
       "4          0        1          1        1        0  283           1        0           0           1           1           0  58000.0           0  1.804616 -0.579751  0.242611   0.734297 -0.388359  1.575259\n",
       "5          0        1          1        1        0  387           1        0           0           0           1           1  47000.0           0  1.804616 -0.579751  0.242611  -0.743515 -1.414885 -0.796258\n",
       "6          0        1          1        1        0  144           1        0           1           1           0           0  35000.0           0 -0.554135 -0.579751  0.242611  -0.743515 -0.142937 -0.796258\n",
       "7          0        0          1        1        1  411           1        0           0           1           1           0  83000.0           0 -0.554135 -0.579751  1.409572   0.734297 -0.161816 -0.796258\n",
       "8          0        1          1        1        0  487           1        0           0           1           1           0  38000.0           0 -0.554135 -0.579751 -0.924349  -0.743515 -1.105748 -0.796258\n",
       "9          0        1          1        1        0   35           1        0           1           1           0           0  45000.0           0 -0.554135 -0.579751 -0.924349  -0.743515 -0.798970 -0.796258"
      ]
     },
     "metadata": {},
     "output_type": "display_data"
    },
    {
     "name": "stdout",
     "output_type": "stream",
     "text": [
      "                                                                                          \r"
     ]
    },
    {
     "data": {
      "text/html": [
       "481 rows X 20 columns"
      ],
      "text/plain": [
       "<IPython.core.display.HTML object>"
      ]
     },
     "metadata": {},
     "output_type": "display_data"
    },
    {
     "name": "stdout",
     "output_type": "stream",
     "text": [
      "                                                                                          \r"
     ]
    },
    {
     "data": {
      "text/html": [
       "Total time taken by feature scaling: 44.18 sec"
      ],
      "text/plain": [
       "<IPython.core.display.HTML object>"
      ]
     },
     "metadata": {},
     "output_type": "display_data"
    },
    {
     "name": "stdout",
     "output_type": "stream",
     "text": [
      "                                                                                          \r"
     ]
    },
    {
     "data": {
      "text/html": [
       "\n",
       "Dimension Reduction using pca ..."
      ],
      "text/plain": [
       "<IPython.core.display.HTML object>"
      ]
     },
     "metadata": {},
     "output_type": "display_data"
    },
    {
     "name": "stdout",
     "output_type": "stream",
     "text": [
      "                                                                                          \r"
     ]
    },
    {
     "data": {
      "text/html": [
       "PCA columns:"
      ],
      "text/plain": [
       "<IPython.core.display.HTML object>"
      ]
     },
     "metadata": {},
     "output_type": "display_data"
    },
    {
     "name": "stdout",
     "output_type": "stream",
     "text": [
      "['col_0', 'col_1', 'col_2', 'col_3', 'col_4', 'col_5', 'col_6', 'col_7', 'col_8', 'col_9']\n",
      "                                                                                          \r"
     ]
    },
    {
     "data": {
      "text/html": [
       "Total time taken by PCA: 6.88 sec  "
      ],
      "text/plain": [
       "<IPython.core.display.HTML object>"
      ]
     },
     "metadata": {},
     "output_type": "display_data"
    },
    {
     "name": "stdout",
     "output_type": "stream",
     "text": [
      "                                                                                          \r"
     ]
    },
    {
     "data": {
      "text/html": [
       "\n",
       "            <style>\n",
       "                .custom-div {\n",
       "                    background-color: lightgray;\n",
       "                    color: #000000;\n",
       "                    padding: 10px;\n",
       "                    border-radius: 8px;\n",
       "                    box-shadow: 0 3px 4px rgba(0 -  0 -  0 -  0.2);\n",
       "                    margin-bottom: 10px;\n",
       "                    text-align: center;\n",
       "                }\n",
       "            </style>\n",
       "        <br><div class=\"custom-div\"><h3><span style=\"color: green;\">1. Feature Exploration -> 2. Feature Engineering -> 3. Data Preparation -></span> 4. Model Training & Evaluation<center></h3></center></div>"
      ],
      "text/plain": [
       "<IPython.core.display.HTML object>"
      ]
     },
     "metadata": {},
     "output_type": "display_data"
    },
    {
     "name": "stdout",
     "output_type": "stream",
     "text": [
      "                                                                                          \r"
     ]
    },
    {
     "data": {
      "text/html": [
       "Model Training started ..."
      ],
      "text/plain": [
       "<IPython.core.display.HTML object>"
      ]
     },
     "metadata": {},
     "output_type": "display_data"
    },
    {
     "name": "stdout",
     "output_type": "stream",
     "text": [
      "                                                                                          \r"
     ]
    },
    {
     "data": {
      "text/html": [
       "\n",
       "Starting customized hyperparameter update ..."
      ],
      "text/plain": [
       "<IPython.core.display.HTML object>"
      ]
     },
     "metadata": {},
     "output_type": "display_data"
    },
    {
     "name": "stdout",
     "output_type": "stream",
     "text": [
      "                                                                                          \n",
      "Skipping customized hyperparameter tuning\n",
      "                                                                                          \r"
     ]
    },
    {
     "data": {
      "text/html": [
       "\n",
       "Hyperparameters used for model training: "
      ],
      "text/plain": [
       "<IPython.core.display.HTML object>"
      ]
     },
     "metadata": {},
     "output_type": "display_data"
    },
    {
     "name": "stdout",
     "output_type": "stream",
     "text": [
      "response_column : price                                                                                                                               \n",
      "name : xgboost\n",
      "model_type : Regression\n",
      "column_sampling : (1, 0.6)\n",
      "min_impurity : (0.0, 0.1, 0.2, 0.3)\n",
      "lambda1 : (0.01, 0.1, 1, 10)\n",
      "shrinkage_factor : (0.5, 0.01, 0.05, 0.1)\n",
      "max_depth : (5, 3, 4, 7, 8)\n",
      "min_node_size : (1, 2, 3, 4)\n",
      "iter_num : (10, 20, 30, 40)\n",
      "seed : 42\n",
      "Total number of models for xgboost : 10240\n",
      "--------------------------------------------------------------------------------------------------------------------------------------------------------------------------------------------------------\n",
      "\n",
      "response_column : price\n",
      "name : decision_forest\n",
      "tree_type : Regression\n",
      "min_impurity : (0.0, 0.1, 0.2, 0.3)\n",
      "max_depth : (5, 3, 4, 7, 8)\n",
      "min_node_size : (1, 2, 3, 4)\n",
      "num_trees : (-1, 20, 30, 40)\n",
      "seed : 42\n",
      "Total number of models for decision_forest : 320\n",
      "--------------------------------------------------------------------------------------------------------------------------------------------------------------------------------------------------------\n",
      "\n",
      "                                                                                          \r"
     ]
    },
    {
     "data": {
      "text/html": [
       "\n",
       "Performing hyperparameter tuning ..."
      ],
      "text/plain": [
       "<IPython.core.display.HTML object>"
      ]
     },
     "metadata": {},
     "output_type": "display_data"
    },
    {
     "name": "stdout",
     "output_type": "stream",
     "text": [
      "                                                                                          \r"
     ]
    },
    {
     "data": {
      "text/html": [
       "xgboost"
      ],
      "text/plain": [
       "<IPython.core.display.HTML object>"
      ]
     },
     "metadata": {},
     "output_type": "display_data"
    },
    {
     "name": "stdout",
     "output_type": "stream",
     "text": [
      "                                                                                                                                                                                                        \r"
     ]
    },
    {
     "data": {
      "text/html": [
       "----------------------------------------------------------------------------------------------------"
      ],
      "text/plain": [
       "<IPython.core.display.HTML object>"
      ]
     },
     "metadata": {},
     "output_type": "display_data"
    },
    {
     "name": "stdout",
     "output_type": "stream",
     "text": [
      "                                                                                          \r"
     ]
    },
    {
     "data": {
      "text/html": [
       "decision_forest"
      ],
      "text/plain": [
       "<IPython.core.display.HTML object>"
      ]
     },
     "metadata": {},
     "output_type": "display_data"
    },
    {
     "name": "stdout",
     "output_type": "stream",
     "text": [
      "                                                                                                                                                                                                        \r"
     ]
    },
    {
     "data": {
      "text/html": [
       "----------------------------------------------------------------------------------------------------"
      ],
      "text/plain": [
       "<IPython.core.display.HTML object>"
      ]
     },
     "metadata": {},
     "output_type": "display_data"
    },
    {
     "name": "stdout",
     "output_type": "stream",
     "text": [
      "                                                                                          \r"
     ]
    },
    {
     "data": {
      "text/html": [
       "Leaderboard"
      ],
      "text/plain": [
       "<IPython.core.display.HTML object>"
      ]
     },
     "metadata": {},
     "output_type": "display_data"
    },
    {
     "data": {
      "text/html": [
       "<div>\n",
       "<style scoped>\n",
       "    .dataframe tbody tr th:only-of-type {\n",
       "        vertical-align: middle;\n",
       "    }\n",
       "\n",
       "    .dataframe tbody tr th {\n",
       "        vertical-align: top;\n",
       "    }\n",
       "\n",
       "    .dataframe thead th {\n",
       "        text-align: right;\n",
       "    }\n",
       "</style>\n",
       "<table border=\"1\" class=\"dataframe\">\n",
       "  <thead>\n",
       "    <tr style=\"text-align: right;\">\n",
       "      <th></th>\n",
       "      <th>RANK</th>\n",
       "      <th>MODEL_ID</th>\n",
       "      <th>FEATURE_SELECTION</th>\n",
       "      <th>MAE</th>\n",
       "      <th>MSE</th>\n",
       "      <th>MSLE</th>\n",
       "      <th>MAPE</th>\n",
       "      <th>MPE</th>\n",
       "      <th>RMSE</th>\n",
       "      <th>RMSLE</th>\n",
       "      <th>ME</th>\n",
       "      <th>R2</th>\n",
       "      <th>EV</th>\n",
       "      <th>MPD</th>\n",
       "      <th>MGD</th>\n",
       "      <th>ADJUSTED_R2</th>\n",
       "    </tr>\n",
       "  </thead>\n",
       "  <tbody>\n",
       "    <tr>\n",
       "      <th>0</th>\n",
       "      <td>1</td>\n",
       "      <td>XGBOOST_1</td>\n",
       "      <td>rfe</td>\n",
       "      <td>8427.249621</td>\n",
       "      <td>1.394711e+08</td>\n",
       "      <td>0.024186</td>\n",
       "      <td>12.256896</td>\n",
       "      <td>-0.226853</td>\n",
       "      <td>11809.788825</td>\n",
       "      <td>0.155517</td>\n",
       "      <td>44860.075880</td>\n",
       "      <td>0.831416</td>\n",
       "      <td>0.835116</td>\n",
       "      <td>1668.854740</td>\n",
       "      <td>0.024415</td>\n",
       "      <td>0.828195</td>\n",
       "    </tr>\n",
       "    <tr>\n",
       "      <th>1</th>\n",
       "      <td>2</td>\n",
       "      <td>XGBOOST_0</td>\n",
       "      <td>lasso</td>\n",
       "      <td>8233.900404</td>\n",
       "      <td>1.412864e+08</td>\n",
       "      <td>0.024208</td>\n",
       "      <td>12.021986</td>\n",
       "      <td>0.890327</td>\n",
       "      <td>11886.393576</td>\n",
       "      <td>0.155589</td>\n",
       "      <td>49616.394501</td>\n",
       "      <td>0.829222</td>\n",
       "      <td>0.836897</td>\n",
       "      <td>1676.436224</td>\n",
       "      <td>0.024553</td>\n",
       "      <td>0.822569</td>\n",
       "    </tr>\n",
       "    <tr>\n",
       "      <th>2</th>\n",
       "      <td>3</td>\n",
       "      <td>XGBOOST_3</td>\n",
       "      <td>lasso</td>\n",
       "      <td>8233.900404</td>\n",
       "      <td>1.412864e+08</td>\n",
       "      <td>0.024208</td>\n",
       "      <td>12.021986</td>\n",
       "      <td>0.890327</td>\n",
       "      <td>11886.393576</td>\n",
       "      <td>0.155589</td>\n",
       "      <td>49616.394501</td>\n",
       "      <td>0.829222</td>\n",
       "      <td>0.836897</td>\n",
       "      <td>1676.436224</td>\n",
       "      <td>0.024553</td>\n",
       "      <td>0.822569</td>\n",
       "    </tr>\n",
       "    <tr>\n",
       "      <th>3</th>\n",
       "      <td>4</td>\n",
       "      <td>XGBOOST_2</td>\n",
       "      <td>pca</td>\n",
       "      <td>8762.454560</td>\n",
       "      <td>1.721874e+08</td>\n",
       "      <td>0.030721</td>\n",
       "      <td>13.421626</td>\n",
       "      <td>-2.003179</td>\n",
       "      <td>13122.018442</td>\n",
       "      <td>0.175275</td>\n",
       "      <td>60568.021287</td>\n",
       "      <td>0.791871</td>\n",
       "      <td>0.794088</td>\n",
       "      <td>2107.466538</td>\n",
       "      <td>0.030929</td>\n",
       "      <td>0.787443</td>\n",
       "    </tr>\n",
       "    <tr>\n",
       "      <th>4</th>\n",
       "      <td>5</td>\n",
       "      <td>DECISIONFOREST_1</td>\n",
       "      <td>rfe</td>\n",
       "      <td>9683.028747</td>\n",
       "      <td>2.273851e+08</td>\n",
       "      <td>0.032219</td>\n",
       "      <td>13.522362</td>\n",
       "      <td>0.032294</td>\n",
       "      <td>15079.293192</td>\n",
       "      <td>0.179496</td>\n",
       "      <td>71500.000000</td>\n",
       "      <td>0.725152</td>\n",
       "      <td>0.732519</td>\n",
       "      <td>2515.412163</td>\n",
       "      <td>0.032992</td>\n",
       "      <td>0.719900</td>\n",
       "    </tr>\n",
       "    <tr>\n",
       "      <th>5</th>\n",
       "      <td>6</td>\n",
       "      <td>DECISIONFOREST_0</td>\n",
       "      <td>lasso</td>\n",
       "      <td>9844.712596</td>\n",
       "      <td>2.469670e+08</td>\n",
       "      <td>0.033416</td>\n",
       "      <td>13.614288</td>\n",
       "      <td>0.124220</td>\n",
       "      <td>15715.184984</td>\n",
       "      <td>0.182801</td>\n",
       "      <td>71500.000000</td>\n",
       "      <td>0.701482</td>\n",
       "      <td>0.709846</td>\n",
       "      <td>2686.399136</td>\n",
       "      <td>0.034488</td>\n",
       "      <td>0.689852</td>\n",
       "    </tr>\n",
       "    <tr>\n",
       "      <th>6</th>\n",
       "      <td>7</td>\n",
       "      <td>DECISIONFOREST_3</td>\n",
       "      <td>lasso</td>\n",
       "      <td>10262.567624</td>\n",
       "      <td>2.878648e+08</td>\n",
       "      <td>0.036579</td>\n",
       "      <td>13.965556</td>\n",
       "      <td>-0.144662</td>\n",
       "      <td>16966.577888</td>\n",
       "      <td>0.191257</td>\n",
       "      <td>71945.000000</td>\n",
       "      <td>0.652048</td>\n",
       "      <td>0.668895</td>\n",
       "      <td>3111.956207</td>\n",
       "      <td>0.038856</td>\n",
       "      <td>0.638491</td>\n",
       "    </tr>\n",
       "    <tr>\n",
       "      <th>7</th>\n",
       "      <td>8</td>\n",
       "      <td>DECISIONFOREST_2</td>\n",
       "      <td>pca</td>\n",
       "      <td>11664.438993</td>\n",
       "      <td>3.793982e+08</td>\n",
       "      <td>0.056060</td>\n",
       "      <td>16.069311</td>\n",
       "      <td>1.031014</td>\n",
       "      <td>19478.147399</td>\n",
       "      <td>0.236771</td>\n",
       "      <td>84146.052632</td>\n",
       "      <td>0.541408</td>\n",
       "      <td>0.563668</td>\n",
       "      <td>4628.203132</td>\n",
       "      <td>0.064916</td>\n",
       "      <td>0.531651</td>\n",
       "    </tr>\n",
       "  </tbody>\n",
       "</table>\n",
       "</div>"
      ],
      "text/plain": [
       "   RANK          MODEL_ID FEATURE_SELECTION           MAE           MSE  \\\n",
       "0     1         XGBOOST_1               rfe   8427.249621  1.394711e+08   \n",
       "1     2         XGBOOST_0             lasso   8233.900404  1.412864e+08   \n",
       "2     3         XGBOOST_3             lasso   8233.900404  1.412864e+08   \n",
       "3     4         XGBOOST_2               pca   8762.454560  1.721874e+08   \n",
       "4     5  DECISIONFOREST_1               rfe   9683.028747  2.273851e+08   \n",
       "5     6  DECISIONFOREST_0             lasso   9844.712596  2.469670e+08   \n",
       "6     7  DECISIONFOREST_3             lasso  10262.567624  2.878648e+08   \n",
       "7     8  DECISIONFOREST_2               pca  11664.438993  3.793982e+08   \n",
       "\n",
       "       MSLE       MAPE       MPE          RMSE     RMSLE            ME  \\\n",
       "0  0.024186  12.256896 -0.226853  11809.788825  0.155517  44860.075880   \n",
       "1  0.024208  12.021986  0.890327  11886.393576  0.155589  49616.394501   \n",
       "2  0.024208  12.021986  0.890327  11886.393576  0.155589  49616.394501   \n",
       "3  0.030721  13.421626 -2.003179  13122.018442  0.175275  60568.021287   \n",
       "4  0.032219  13.522362  0.032294  15079.293192  0.179496  71500.000000   \n",
       "5  0.033416  13.614288  0.124220  15715.184984  0.182801  71500.000000   \n",
       "6  0.036579  13.965556 -0.144662  16966.577888  0.191257  71945.000000   \n",
       "7  0.056060  16.069311  1.031014  19478.147399  0.236771  84146.052632   \n",
       "\n",
       "         R2        EV          MPD       MGD  ADJUSTED_R2  \n",
       "0  0.831416  0.835116  1668.854740  0.024415     0.828195  \n",
       "1  0.829222  0.836897  1676.436224  0.024553     0.822569  \n",
       "2  0.829222  0.836897  1676.436224  0.024553     0.822569  \n",
       "3  0.791871  0.794088  2107.466538  0.030929     0.787443  \n",
       "4  0.725152  0.732519  2515.412163  0.032992     0.719900  \n",
       "5  0.701482  0.709846  2686.399136  0.034488     0.689852  \n",
       "6  0.652048  0.668895  3111.956207  0.038856     0.638491  \n",
       "7  0.541408  0.563668  4628.203132  0.064916     0.531651  "
      ]
     },
     "metadata": {},
     "output_type": "display_data"
    },
    {
     "name": "stdout",
     "output_type": "stream",
     "text": [
      "                                                                                          \r"
     ]
    },
    {
     "data": {
      "text/html": [
       "8 rows X 16 columns"
      ],
      "text/plain": [
       "<IPython.core.display.HTML object>"
      ]
     },
     "metadata": {},
     "output_type": "display_data"
    },
    {
     "name": "stdout",
     "output_type": "stream",
     "text": [
      "                                                                                          \r"
     ]
    },
    {
     "data": {
      "text/html": [
       "\n",
       "            <style>\n",
       "                .custom-div {\n",
       "                    background-color: lightgray;\n",
       "                    color: #000000;\n",
       "                    padding: 10px;\n",
       "                    border-radius: 8px;\n",
       "                    box-shadow: 0 3px 4px rgba(0 -  0 -  0 -  0.2);\n",
       "                    margin-bottom: 10px;\n",
       "                    text-align: center;\n",
       "                }\n",
       "            </style>\n",
       "        <br><div class=\"custom-div\"><h3><span style=\"color: green;\">1. Feature Exploration -> 2. Feature Engineering -> 3. Data Preparation -> 4. Model Training & Evaluation</span><center></h3></center></div>"
      ],
      "text/plain": [
       "<IPython.core.display.HTML object>"
      ]
     },
     "metadata": {},
     "output_type": "display_data"
    },
    {
     "name": "stdout",
     "output_type": "stream",
     "text": [
      "Completed: ｜⫿⫿⫿⫿⫿⫿⫿⫿⫿⫿⫿⫿⫿⫿⫿⫿⫿⫿⫿⫿⫿⫿⫿⫿⫿⫿⫿⫿⫿⫿⫿⫿⫿⫿⫿⫿⫿⫿⫿⫿⫿⫿⫿⫿⫿⫿⫿⫿⫿⫿⫿⫿⫿⫿⫿⫿⫿⫿⫿⫿｜ 100% - 19/19    \r"
     ]
    }
   ],
   "source": [
    "# Fitting train data\n",
    "aml.fit(housing_train,housing_train.price)"
   ]
  },
  {
   "cell_type": "markdown",
   "id": "a48e29b1-dee0-4764-ac4d-c7244d13715c",
   "metadata": {
    "tags": []
   },
   "source": [
    "## <b><span style='color:#F1A424'>| 3.</span> Leaderboard : </b>"
   ]
  },
  {
   "cell_type": "code",
   "execution_count": 13,
   "id": "3f8428f0-5d8c-4781-9b24-1562946c3dd0",
   "metadata": {},
   "outputs": [
    {
     "data": {
      "text/html": [
       "<div>\n",
       "<style scoped>\n",
       "    .dataframe tbody tr th:only-of-type {\n",
       "        vertical-align: middle;\n",
       "    }\n",
       "\n",
       "    .dataframe tbody tr th {\n",
       "        vertical-align: top;\n",
       "    }\n",
       "\n",
       "    .dataframe thead th {\n",
       "        text-align: right;\n",
       "    }\n",
       "</style>\n",
       "<table border=\"1\" class=\"dataframe\">\n",
       "  <thead>\n",
       "    <tr style=\"text-align: right;\">\n",
       "      <th></th>\n",
       "      <th>RANK</th>\n",
       "      <th>MODEL_ID</th>\n",
       "      <th>FEATURE_SELECTION</th>\n",
       "      <th>MAE</th>\n",
       "      <th>MSE</th>\n",
       "      <th>MSLE</th>\n",
       "      <th>MAPE</th>\n",
       "      <th>MPE</th>\n",
       "      <th>RMSE</th>\n",
       "      <th>RMSLE</th>\n",
       "      <th>ME</th>\n",
       "      <th>R2</th>\n",
       "      <th>EV</th>\n",
       "      <th>MPD</th>\n",
       "      <th>MGD</th>\n",
       "      <th>ADJUSTED_R2</th>\n",
       "    </tr>\n",
       "  </thead>\n",
       "  <tbody>\n",
       "    <tr>\n",
       "      <th>0</th>\n",
       "      <td>1</td>\n",
       "      <td>XGBOOST_1</td>\n",
       "      <td>rfe</td>\n",
       "      <td>8427.249621</td>\n",
       "      <td>1.394711e+08</td>\n",
       "      <td>0.024186</td>\n",
       "      <td>12.256896</td>\n",
       "      <td>-0.226853</td>\n",
       "      <td>11809.788825</td>\n",
       "      <td>0.155517</td>\n",
       "      <td>44860.075880</td>\n",
       "      <td>0.831416</td>\n",
       "      <td>0.835116</td>\n",
       "      <td>1668.854740</td>\n",
       "      <td>0.024415</td>\n",
       "      <td>0.828195</td>\n",
       "    </tr>\n",
       "    <tr>\n",
       "      <th>1</th>\n",
       "      <td>2</td>\n",
       "      <td>XGBOOST_0</td>\n",
       "      <td>lasso</td>\n",
       "      <td>8233.900404</td>\n",
       "      <td>1.412864e+08</td>\n",
       "      <td>0.024208</td>\n",
       "      <td>12.021986</td>\n",
       "      <td>0.890327</td>\n",
       "      <td>11886.393576</td>\n",
       "      <td>0.155589</td>\n",
       "      <td>49616.394501</td>\n",
       "      <td>0.829222</td>\n",
       "      <td>0.836897</td>\n",
       "      <td>1676.436224</td>\n",
       "      <td>0.024553</td>\n",
       "      <td>0.822569</td>\n",
       "    </tr>\n",
       "    <tr>\n",
       "      <th>2</th>\n",
       "      <td>3</td>\n",
       "      <td>XGBOOST_3</td>\n",
       "      <td>lasso</td>\n",
       "      <td>8233.900404</td>\n",
       "      <td>1.412864e+08</td>\n",
       "      <td>0.024208</td>\n",
       "      <td>12.021986</td>\n",
       "      <td>0.890327</td>\n",
       "      <td>11886.393576</td>\n",
       "      <td>0.155589</td>\n",
       "      <td>49616.394501</td>\n",
       "      <td>0.829222</td>\n",
       "      <td>0.836897</td>\n",
       "      <td>1676.436224</td>\n",
       "      <td>0.024553</td>\n",
       "      <td>0.822569</td>\n",
       "    </tr>\n",
       "    <tr>\n",
       "      <th>3</th>\n",
       "      <td>4</td>\n",
       "      <td>XGBOOST_2</td>\n",
       "      <td>pca</td>\n",
       "      <td>8762.454560</td>\n",
       "      <td>1.721874e+08</td>\n",
       "      <td>0.030721</td>\n",
       "      <td>13.421626</td>\n",
       "      <td>-2.003179</td>\n",
       "      <td>13122.018442</td>\n",
       "      <td>0.175275</td>\n",
       "      <td>60568.021287</td>\n",
       "      <td>0.791871</td>\n",
       "      <td>0.794088</td>\n",
       "      <td>2107.466538</td>\n",
       "      <td>0.030929</td>\n",
       "      <td>0.787443</td>\n",
       "    </tr>\n",
       "    <tr>\n",
       "      <th>4</th>\n",
       "      <td>5</td>\n",
       "      <td>DECISIONFOREST_1</td>\n",
       "      <td>rfe</td>\n",
       "      <td>9683.028747</td>\n",
       "      <td>2.273851e+08</td>\n",
       "      <td>0.032219</td>\n",
       "      <td>13.522362</td>\n",
       "      <td>0.032294</td>\n",
       "      <td>15079.293192</td>\n",
       "      <td>0.179496</td>\n",
       "      <td>71500.000000</td>\n",
       "      <td>0.725152</td>\n",
       "      <td>0.732519</td>\n",
       "      <td>2515.412163</td>\n",
       "      <td>0.032992</td>\n",
       "      <td>0.719900</td>\n",
       "    </tr>\n",
       "    <tr>\n",
       "      <th>5</th>\n",
       "      <td>6</td>\n",
       "      <td>DECISIONFOREST_0</td>\n",
       "      <td>lasso</td>\n",
       "      <td>9844.712596</td>\n",
       "      <td>2.469670e+08</td>\n",
       "      <td>0.033416</td>\n",
       "      <td>13.614288</td>\n",
       "      <td>0.124220</td>\n",
       "      <td>15715.184984</td>\n",
       "      <td>0.182801</td>\n",
       "      <td>71500.000000</td>\n",
       "      <td>0.701482</td>\n",
       "      <td>0.709846</td>\n",
       "      <td>2686.399136</td>\n",
       "      <td>0.034488</td>\n",
       "      <td>0.689852</td>\n",
       "    </tr>\n",
       "    <tr>\n",
       "      <th>6</th>\n",
       "      <td>7</td>\n",
       "      <td>DECISIONFOREST_3</td>\n",
       "      <td>lasso</td>\n",
       "      <td>10262.567624</td>\n",
       "      <td>2.878648e+08</td>\n",
       "      <td>0.036579</td>\n",
       "      <td>13.965556</td>\n",
       "      <td>-0.144662</td>\n",
       "      <td>16966.577888</td>\n",
       "      <td>0.191257</td>\n",
       "      <td>71945.000000</td>\n",
       "      <td>0.652048</td>\n",
       "      <td>0.668895</td>\n",
       "      <td>3111.956207</td>\n",
       "      <td>0.038856</td>\n",
       "      <td>0.638491</td>\n",
       "    </tr>\n",
       "    <tr>\n",
       "      <th>7</th>\n",
       "      <td>8</td>\n",
       "      <td>DECISIONFOREST_2</td>\n",
       "      <td>pca</td>\n",
       "      <td>11664.438993</td>\n",
       "      <td>3.793982e+08</td>\n",
       "      <td>0.056060</td>\n",
       "      <td>16.069311</td>\n",
       "      <td>1.031014</td>\n",
       "      <td>19478.147399</td>\n",
       "      <td>0.236771</td>\n",
       "      <td>84146.052632</td>\n",
       "      <td>0.541408</td>\n",
       "      <td>0.563668</td>\n",
       "      <td>4628.203132</td>\n",
       "      <td>0.064916</td>\n",
       "      <td>0.531651</td>\n",
       "    </tr>\n",
       "  </tbody>\n",
       "</table>\n",
       "</div>"
      ],
      "text/plain": [
       "   RANK          MODEL_ID FEATURE_SELECTION           MAE           MSE  \\\n",
       "0     1         XGBOOST_1               rfe   8427.249621  1.394711e+08   \n",
       "1     2         XGBOOST_0             lasso   8233.900404  1.412864e+08   \n",
       "2     3         XGBOOST_3             lasso   8233.900404  1.412864e+08   \n",
       "3     4         XGBOOST_2               pca   8762.454560  1.721874e+08   \n",
       "4     5  DECISIONFOREST_1               rfe   9683.028747  2.273851e+08   \n",
       "5     6  DECISIONFOREST_0             lasso   9844.712596  2.469670e+08   \n",
       "6     7  DECISIONFOREST_3             lasso  10262.567624  2.878648e+08   \n",
       "7     8  DECISIONFOREST_2               pca  11664.438993  3.793982e+08   \n",
       "\n",
       "       MSLE       MAPE       MPE          RMSE     RMSLE            ME  \\\n",
       "0  0.024186  12.256896 -0.226853  11809.788825  0.155517  44860.075880   \n",
       "1  0.024208  12.021986  0.890327  11886.393576  0.155589  49616.394501   \n",
       "2  0.024208  12.021986  0.890327  11886.393576  0.155589  49616.394501   \n",
       "3  0.030721  13.421626 -2.003179  13122.018442  0.175275  60568.021287   \n",
       "4  0.032219  13.522362  0.032294  15079.293192  0.179496  71500.000000   \n",
       "5  0.033416  13.614288  0.124220  15715.184984  0.182801  71500.000000   \n",
       "6  0.036579  13.965556 -0.144662  16966.577888  0.191257  71945.000000   \n",
       "7  0.056060  16.069311  1.031014  19478.147399  0.236771  84146.052632   \n",
       "\n",
       "         R2        EV          MPD       MGD  ADJUSTED_R2  \n",
       "0  0.831416  0.835116  1668.854740  0.024415     0.828195  \n",
       "1  0.829222  0.836897  1676.436224  0.024553     0.822569  \n",
       "2  0.829222  0.836897  1676.436224  0.024553     0.822569  \n",
       "3  0.791871  0.794088  2107.466538  0.030929     0.787443  \n",
       "4  0.725152  0.732519  2515.412163  0.032992     0.719900  \n",
       "5  0.701482  0.709846  2686.399136  0.034488     0.689852  \n",
       "6  0.652048  0.668895  3111.956207  0.038856     0.638491  \n",
       "7  0.541408  0.563668  4628.203132  0.064916     0.531651  "
      ]
     },
     "execution_count": 13,
     "metadata": {},
     "output_type": "execute_result"
    }
   ],
   "source": [
    "# Fetching Leaderboard\n",
    "aml.leaderboard()"
   ]
  },
  {
   "cell_type": "markdown",
   "id": "70447db1-03ef-480e-8a04-f15745fc7e1d",
   "metadata": {
    "tags": []
   },
   "source": [
    "## <b><span style='color:#F1A424'>| 4.</span> Best Performing Model : </b>"
   ]
  },
  {
   "cell_type": "code",
   "execution_count": 14,
   "id": "4295df4f-b808-4f26-8769-29f4a98fe2f9",
   "metadata": {},
   "outputs": [
    {
     "data": {
      "text/html": [
       "<div>\n",
       "<style scoped>\n",
       "    .dataframe tbody tr th:only-of-type {\n",
       "        vertical-align: middle;\n",
       "    }\n",
       "\n",
       "    .dataframe tbody tr th {\n",
       "        vertical-align: top;\n",
       "    }\n",
       "\n",
       "    .dataframe thead th {\n",
       "        text-align: right;\n",
       "    }\n",
       "</style>\n",
       "<table border=\"1\" class=\"dataframe\">\n",
       "  <thead>\n",
       "    <tr style=\"text-align: right;\">\n",
       "      <th></th>\n",
       "      <th>RANK</th>\n",
       "      <th>MODEL_ID</th>\n",
       "      <th>FEATURE_SELECTION</th>\n",
       "      <th>MAE</th>\n",
       "      <th>MSE</th>\n",
       "      <th>MSLE</th>\n",
       "      <th>MAPE</th>\n",
       "      <th>MPE</th>\n",
       "      <th>RMSE</th>\n",
       "      <th>RMSLE</th>\n",
       "      <th>ME</th>\n",
       "      <th>R2</th>\n",
       "      <th>EV</th>\n",
       "      <th>MPD</th>\n",
       "      <th>MGD</th>\n",
       "      <th>ADJUSTED_R2</th>\n",
       "    </tr>\n",
       "  </thead>\n",
       "  <tbody>\n",
       "    <tr>\n",
       "      <th>0</th>\n",
       "      <td>1</td>\n",
       "      <td>XGBOOST_1</td>\n",
       "      <td>rfe</td>\n",
       "      <td>8427.249621</td>\n",
       "      <td>1.394711e+08</td>\n",
       "      <td>0.024186</td>\n",
       "      <td>12.256896</td>\n",
       "      <td>-0.226853</td>\n",
       "      <td>11809.788825</td>\n",
       "      <td>0.155517</td>\n",
       "      <td>44860.07588</td>\n",
       "      <td>0.831416</td>\n",
       "      <td>0.835116</td>\n",
       "      <td>1668.85474</td>\n",
       "      <td>0.024415</td>\n",
       "      <td>0.828195</td>\n",
       "    </tr>\n",
       "  </tbody>\n",
       "</table>\n",
       "</div>"
      ],
      "text/plain": [
       "   RANK   MODEL_ID FEATURE_SELECTION          MAE           MSE      MSLE  \\\n",
       "0     1  XGBOOST_1               rfe  8427.249621  1.394711e+08  0.024186   \n",
       "\n",
       "        MAPE       MPE          RMSE     RMSLE           ME        R2  \\\n",
       "0  12.256896 -0.226853  11809.788825  0.155517  44860.07588  0.831416   \n",
       "\n",
       "         EV         MPD       MGD  ADJUSTED_R2  \n",
       "0  0.835116  1668.85474  0.024415     0.828195  "
      ]
     },
     "metadata": {},
     "output_type": "display_data"
    }
   ],
   "source": [
    "# Fetching best performing model for dataset\n",
    "aml.leader()"
   ]
  },
  {
   "cell_type": "markdown",
   "id": "4441b2d1-09ae-4a05-8dec-8743a9177363",
   "metadata": {},
   "source": [
    "## <b><span style='color:#F1A424'>| 5.</span> Get Hyperparameter for Trained Model : </b>"
   ]
  },
  {
   "cell_type": "code",
   "execution_count": 15,
   "id": "a5348edb-698b-4c98-8c5a-f745b20d2ea2",
   "metadata": {},
   "outputs": [
    {
     "data": {
      "text/plain": [
       "{'response_column': 'price',\n",
       " 'name': 'xgboost',\n",
       " 'model_type': 'Regression',\n",
       " 'column_sampling': 1,\n",
       " 'min_impurity': 0.0,\n",
       " 'lambda1': 0.01,\n",
       " 'shrinkage_factor': 0.5,\n",
       " 'max_depth': 5,\n",
       " 'min_node_size': 1,\n",
       " 'iter_num': 10,\n",
       " 'seed': 42,\n",
       " 'persist': False}"
      ]
     },
     "execution_count": 15,
     "metadata": {},
     "output_type": "execute_result"
    }
   ],
   "source": [
    "aml.model_hyperparameters(rank=2)"
   ]
  },
  {
   "cell_type": "code",
   "execution_count": 16,
   "id": "e7c1e2a5-9d16-4e00-9aa0-9f4bd717699d",
   "metadata": {
    "tags": []
   },
   "outputs": [
    {
     "data": {
      "text/plain": [
       "{'response_column': 'price',\n",
       " 'name': 'xgboost',\n",
       " 'model_type': 'Regression',\n",
       " 'column_sampling': 1,\n",
       " 'min_impurity': 0.0,\n",
       " 'lambda1': 0.01,\n",
       " 'shrinkage_factor': 0.5,\n",
       " 'max_depth': 5,\n",
       " 'min_node_size': 1,\n",
       " 'iter_num': 20,\n",
       " 'seed': 42,\n",
       " 'persist': False}"
      ]
     },
     "execution_count": 16,
     "metadata": {},
     "output_type": "execute_result"
    }
   ],
   "source": [
    "aml.model_hyperparameters(rank=3)"
   ]
  },
  {
   "cell_type": "markdown",
   "id": "868d58cf-d3c5-408a-a22d-c2d2b8b3b3de",
   "metadata": {},
   "source": [
    "## <b><span style='color:#F1A424'>| 6.</span> Generate Prediction and Performance Metrics : </b>"
   ]
  },
  {
   "cell_type": "code",
   "execution_count": 17,
   "id": "96ea0155-6c5b-4762-8ef7-d3b76377f6f4",
   "metadata": {
    "tags": []
   },
   "outputs": [
    {
     "name": "stdout",
     "output_type": "stream",
     "text": [
      "Data Transformation started ...\n",
      "                                                                                                \r"
     ]
    },
    {
     "data": {
      "text/html": [
       "Performing transformation carried out in feature engineering phase ..."
      ],
      "text/plain": [
       "<IPython.core.display.HTML object>"
      ]
     },
     "metadata": {},
     "output_type": "display_data"
    },
    {
     "name": "stdout",
     "output_type": "stream",
     "text": [
      "                                                                                                 \r"
     ]
    },
    {
     "data": {
      "text/html": [
       "\n",
       "Updated dataset after performing customized variable width bin-code transformation :"
      ],
      "text/plain": [
       "<IPython.core.display.HTML object>"
      ]
     },
     "metadata": {},
     "output_type": "display_data"
    },
    {
     "data": {
      "text/html": [
       "<style type=\"text/css\">\n",
       "\ttable {border:ridge 5px;}\n",
       "\ttable td {border:inset 1px;}\n",
       "\ttable tr#HeaderRow {background-color:grey; color:white;}</style>\n",
       "<html><table>\n",
       "\t<tr id=\"HeaderRow\">\n",
       "\t\t<th>bathrms</th>\n",
       "\t\t<th>stories</th>\n",
       "\t\t<th>gashw</th>\n",
       "\t\t<th>airco</th>\n",
       "\t\t<th>sn</th>\n",
       "\t\t<th>fullbase</th>\n",
       "\t\t<th>id</th>\n",
       "\t\t<th>homestyle</th>\n",
       "\t\t<th>lotsize</th>\n",
       "\t\t<th>garagepl</th>\n",
       "\t\t<th>prefarea</th>\n",
       "\t\t<th>driveway</th>\n",
       "\t\t<th>recroom</th>\n",
       "\t\t<th>price</th>\n",
       "\t\t<th>bedrooms</th>\n",
       "\t</tr>\n",
       "\t<tr>\n",
       "\t\t<td>1</td>\n",
       "\t\t<td>1</td>\n",
       "\t\t<td>no</td>\n",
       "\t\t<td>no</td>\n",
       "\t\t<td>443</td>\n",
       "\t\t<td>no</td>\n",
       "\t\t<td>51</td>\n",
       "\t\t<td>Eclectic</td>\n",
       "\t\t<td>3520.0</td>\n",
       "\t\t<td>0</td>\n",
       "\t\t<td>yes</td>\n",
       "\t\t<td>yes</td>\n",
       "\t\t<td>no</td>\n",
       "\t\t<td>65000.0</td>\n",
       "\t\t<td>big_house\u0000\u0000</td>\n",
       "\t</tr>\n",
       "\t<tr>\n",
       "\t\t<td>1</td>\n",
       "\t\t<td>2</td>\n",
       "\t\t<td>no</td>\n",
       "\t\t<td>no</td>\n",
       "\t\t<td>469</td>\n",
       "\t\t<td>no</td>\n",
       "\t\t<td>8</td>\n",
       "\t\t<td>Eclectic</td>\n",
       "\t\t<td>2176.0</td>\n",
       "\t\t<td>0</td>\n",
       "\t\t<td>yes</td>\n",
       "\t\t<td>yes</td>\n",
       "\t\t<td>yes</td>\n",
       "\t\t<td>55000.0</td>\n",
       "\t\t<td>small_house</td>\n",
       "\t</tr>\n",
       "\t<tr>\n",
       "\t\t<td>1</td>\n",
       "\t\t<td>2</td>\n",
       "\t\t<td>no</td>\n",
       "\t\t<td>yes</td>\n",
       "\t\t<td>440</td>\n",
       "\t\t<td>no</td>\n",
       "\t\t<td>19</td>\n",
       "\t\t<td>Eclectic</td>\n",
       "\t\t<td>6862.0</td>\n",
       "\t\t<td>2</td>\n",
       "\t\t<td>yes</td>\n",
       "\t\t<td>yes</td>\n",
       "\t\t<td>no</td>\n",
       "\t\t<td>69000.0</td>\n",
       "\t\t<td>big_house\u0000\u0000</td>\n",
       "\t</tr>\n",
       "\t<tr>\n",
       "\t\t<td>1</td>\n",
       "\t\t<td>1</td>\n",
       "\t\t<td>no</td>\n",
       "\t\t<td>yes</td>\n",
       "\t\t<td>401</td>\n",
       "\t\t<td>yes</td>\n",
       "\t\t<td>40</td>\n",
       "\t\t<td>Eclectic</td>\n",
       "\t\t<td>7410.0</td>\n",
       "\t\t<td>2</td>\n",
       "\t\t<td>yes</td>\n",
       "\t\t<td>yes</td>\n",
       "\t\t<td>yes</td>\n",
       "\t\t<td>92500.0</td>\n",
       "\t\t<td>big_house\u0000\u0000</td>\n",
       "\t</tr>\n",
       "\t<tr>\n",
       "\t\t<td>1</td>\n",
       "\t\t<td>1</td>\n",
       "\t\t<td>no</td>\n",
       "\t\t<td>no</td>\n",
       "\t\t<td>25</td>\n",
       "\t\t<td>no</td>\n",
       "\t\t<td>48</td>\n",
       "\t\t<td>Classic</td>\n",
       "\t\t<td>4960.0</td>\n",
       "\t\t<td>0</td>\n",
       "\t\t<td>no</td>\n",
       "\t\t<td>yes</td>\n",
       "\t\t<td>no</td>\n",
       "\t\t<td>42000.0</td>\n",
       "\t\t<td>small_house</td>\n",
       "\t</tr>\n",
       "\t<tr>\n",
       "\t\t<td>1</td>\n",
       "\t\t<td>1</td>\n",
       "\t\t<td>no</td>\n",
       "\t\t<td>no</td>\n",
       "\t\t<td>251</td>\n",
       "\t\t<td>yes</td>\n",
       "\t\t<td>14</td>\n",
       "\t\t<td>Classic</td>\n",
       "\t\t<td>3450.0</td>\n",
       "\t\t<td>2</td>\n",
       "\t\t<td>no</td>\n",
       "\t\t<td>yes</td>\n",
       "\t\t<td>no</td>\n",
       "\t\t<td>48500.0</td>\n",
       "\t\t<td>big_house\u0000\u0000</td>\n",
       "\t</tr>\n",
       "\t<tr>\n",
       "\t\t<td>1</td>\n",
       "\t\t<td>1</td>\n",
       "\t\t<td>no</td>\n",
       "\t\t<td>yes</td>\n",
       "\t\t<td>16</td>\n",
       "\t\t<td>no</td>\n",
       "\t\t<td>23</td>\n",
       "\t\t<td>Classic</td>\n",
       "\t\t<td>3185.0</td>\n",
       "\t\t<td>0</td>\n",
       "\t\t<td>no</td>\n",
       "\t\t<td>yes</td>\n",
       "\t\t<td>no</td>\n",
       "\t\t<td>37900.0</td>\n",
       "\t\t<td>small_house</td>\n",
       "\t</tr>\n",
       "\t<tr>\n",
       "\t\t<td>1</td>\n",
       "\t\t<td>1</td>\n",
       "\t\t<td>no</td>\n",
       "\t\t<td>no</td>\n",
       "\t\t<td>301</td>\n",
       "\t\t<td>no</td>\n",
       "\t\t<td>9</td>\n",
       "\t\t<td>Eclectic</td>\n",
       "\t\t<td>4080.0</td>\n",
       "\t\t<td>0</td>\n",
       "\t\t<td>no</td>\n",
       "\t\t<td>yes</td>\n",
       "\t\t<td>no</td>\n",
       "\t\t<td>55000.0</td>\n",
       "\t\t<td>small_house</td>\n",
       "\t</tr>\n",
       "\t<tr>\n",
       "\t\t<td>1</td>\n",
       "\t\t<td>1</td>\n",
       "\t\t<td>no</td>\n",
       "\t\t<td>no</td>\n",
       "\t\t<td>411</td>\n",
       "\t\t<td>yes</td>\n",
       "\t\t<td>33</td>\n",
       "\t\t<td>Eclectic</td>\n",
       "\t\t<td>9000.0</td>\n",
       "\t\t<td>1</td>\n",
       "\t\t<td>yes</td>\n",
       "\t\t<td>yes</td>\n",
       "\t\t<td>no</td>\n",
       "\t\t<td>90000.0</td>\n",
       "\t\t<td>big_house\u0000\u0000</td>\n",
       "\t</tr>\n",
       "\t<tr>\n",
       "\t\t<td>1</td>\n",
       "\t\t<td>2</td>\n",
       "\t\t<td>no</td>\n",
       "\t\t<td>yes</td>\n",
       "\t\t<td>161</td>\n",
       "\t\t<td>no</td>\n",
       "\t\t<td>49</td>\n",
       "\t\t<td>Eclectic</td>\n",
       "\t\t<td>3162.0</td>\n",
       "\t\t<td>1</td>\n",
       "\t\t<td>no</td>\n",
       "\t\t<td>yes</td>\n",
       "\t\t<td>no</td>\n",
       "\t\t<td>63900.0</td>\n",
       "\t\t<td>big_house\u0000\u0000</td>\n",
       "\t</tr>\n",
       "</table></html>"
      ],
      "text/plain": [
       "         stories gashw airco   sn fullbase  id homestyle  lotsize  garagepl prefarea driveway recroom    price     bedrooms\n",
       "bathrms                                                                                                                    \n",
       "1              1    no    no  443       no  51  Eclectic   3520.0         0      yes      yes      no  65000.0  big_house\u0000\u0000\n",
       "1              2    no    no  469       no   8  Eclectic   2176.0         0      yes      yes     yes  55000.0  small_house\n",
       "1              2    no   yes  440       no  19  Eclectic   6862.0         2      yes      yes      no  69000.0  big_house\u0000\u0000\n",
       "1              1    no   yes  401      yes  40  Eclectic   7410.0         2      yes      yes     yes  92500.0  big_house\u0000\u0000\n",
       "1              1    no    no   25       no  48   Classic   4960.0         0       no      yes      no  42000.0  small_house\n",
       "1              1    no    no  251      yes  14   Classic   3450.0         2       no      yes      no  48500.0  big_house\u0000\u0000\n",
       "1              1    no   yes   16       no  23   Classic   3185.0         0       no      yes      no  37900.0  small_house\n",
       "1              1    no    no  301       no   9  Eclectic   4080.0         0       no      yes      no  55000.0  small_house\n",
       "1              1    no    no  411      yes  33  Eclectic   9000.0         1      yes      yes      no  90000.0  big_house\u0000\u0000\n",
       "1              2    no   yes  161       no  49  Eclectic   3162.0         1       no      yes      no  63900.0  big_house\u0000\u0000"
      ]
     },
     "metadata": {},
     "output_type": "display_data"
    },
    {
     "name": "stdout",
     "output_type": "stream",
     "text": [
      "                                                                                                 \r"
     ]
    },
    {
     "data": {
      "text/html": [
       "46 rows X 15 columns"
      ],
      "text/plain": [
       "<IPython.core.display.HTML object>"
      ]
     },
     "metadata": {},
     "output_type": "display_data"
    },
    {
     "name": "stdout",
     "output_type": "stream",
     "text": [
      "                                                                                                 \r"
     ]
    },
    {
     "data": {
      "text/html": [
       "\n",
       "Updated dataset after performing customized categorical encoding :"
      ],
      "text/plain": [
       "<IPython.core.display.HTML object>"
      ]
     },
     "metadata": {},
     "output_type": "display_data"
    },
    {
     "data": {
      "text/html": [
       "<style type=\"text/css\">\n",
       "\ttable {border:ridge 5px;}\n",
       "\ttable td {border:inset 1px;}\n",
       "\ttable tr#HeaderRow {background-color:grey; color:white;}</style>\n",
       "<html><table>\n",
       "\t<tr id=\"HeaderRow\">\n",
       "\t\t<th>prefarea</th>\n",
       "\t\t<th>bathrms</th>\n",
       "\t\t<th>stories</th>\n",
       "\t\t<th>gashw</th>\n",
       "\t\t<th>airco</th>\n",
       "\t\t<th>sn</th>\n",
       "\t\t<th>fullbase</th>\n",
       "\t\t<th>id</th>\n",
       "\t\t<th>homestyle</th>\n",
       "\t\t<th>lotsize</th>\n",
       "\t\t<th>bedrooms</th>\n",
       "\t\t<th>garagepl</th>\n",
       "\t\t<th>driveway</th>\n",
       "\t\t<th>recroom</th>\n",
       "\t\t<th>price</th>\n",
       "\t</tr>\n",
       "\t<tr>\n",
       "\t\t<td>62906.33597883598</td>\n",
       "\t\t<td>1</td>\n",
       "\t\t<td>1</td>\n",
       "\t\t<td>no</td>\n",
       "\t\t<td>yes</td>\n",
       "\t\t<td>53</td>\n",
       "\t\t<td>yes</td>\n",
       "\t\t<td>11</td>\n",
       "\t\t<td>2</td>\n",
       "\t\t<td>9166.0</td>\n",
       "\t\t<td>small_house</td>\n",
       "\t\t<td>2</td>\n",
       "\t\t<td>yes</td>\n",
       "\t\t<td>no</td>\n",
       "\t\t<td>68000.0</td>\n",
       "\t</tr>\n",
       "\t<tr>\n",
       "\t\t<td>62906.33597883598</td>\n",
       "\t\t<td>1</td>\n",
       "\t\t<td>2</td>\n",
       "\t\t<td>no</td>\n",
       "\t\t<td>no</td>\n",
       "\t\t<td>140</td>\n",
       "\t\t<td>no</td>\n",
       "\t\t<td>43</td>\n",
       "\t\t<td>1</td>\n",
       "\t\t<td>3750.0</td>\n",
       "\t\t<td>big_house\u0000\u0000</td>\n",
       "\t\t<td>0</td>\n",
       "\t\t<td>yes</td>\n",
       "\t\t<td>no</td>\n",
       "\t\t<td>43000.0</td>\n",
       "\t</tr>\n",
       "\t<tr>\n",
       "\t\t<td>62906.33597883598</td>\n",
       "\t\t<td>1</td>\n",
       "\t\t<td>2</td>\n",
       "\t\t<td>no</td>\n",
       "\t\t<td>no</td>\n",
       "\t\t<td>255</td>\n",
       "\t\t<td>no</td>\n",
       "\t\t<td>15</td>\n",
       "\t\t<td>2</td>\n",
       "\t\t<td>4360.0</td>\n",
       "\t\t<td>big_house\u0000\u0000</td>\n",
       "\t\t<td>0</td>\n",
       "\t\t<td>yes</td>\n",
       "\t\t<td>no</td>\n",
       "\t\t<td>61000.0</td>\n",
       "\t</tr>\n",
       "\t<tr>\n",
       "\t\t<td>62906.33597883598</td>\n",
       "\t\t<td>1</td>\n",
       "\t\t<td>2</td>\n",
       "\t\t<td>no</td>\n",
       "\t\t<td>no</td>\n",
       "\t\t<td>364</td>\n",
       "\t\t<td>yes</td>\n",
       "\t\t<td>16</td>\n",
       "\t\t<td>2</td>\n",
       "\t\t<td>10700.0</td>\n",
       "\t\t<td>big_house\u0000\u0000</td>\n",
       "\t\t<td>0</td>\n",
       "\t\t<td>yes</td>\n",
       "\t\t<td>yes</td>\n",
       "\t\t<td>72000.0</td>\n",
       "\t</tr>\n",
       "\t<tr>\n",
       "\t\t<td>62906.33597883598</td>\n",
       "\t\t<td>1</td>\n",
       "\t\t<td>2</td>\n",
       "\t\t<td>yes</td>\n",
       "\t\t<td>no</td>\n",
       "\t\t<td>117</td>\n",
       "\t\t<td>no</td>\n",
       "\t\t<td>37</td>\n",
       "\t\t<td>2</td>\n",
       "\t\t<td>3760.0</td>\n",
       "\t\t<td>big_house\u0000\u0000</td>\n",
       "\t\t<td>2</td>\n",
       "\t\t<td>yes</td>\n",
       "\t\t<td>no</td>\n",
       "\t\t<td>93000.0</td>\n",
       "\t</tr>\n",
       "\t<tr>\n",
       "\t\t<td>62906.33597883598</td>\n",
       "\t\t<td>1</td>\n",
       "\t\t<td>2</td>\n",
       "\t\t<td>no</td>\n",
       "\t\t<td>no</td>\n",
       "\t\t<td>237</td>\n",
       "\t\t<td>no</td>\n",
       "\t\t<td>53</td>\n",
       "\t\t<td>1</td>\n",
       "\t\t<td>3630.0</td>\n",
       "\t\t<td>big_house\u0000\u0000</td>\n",
       "\t\t<td>3</td>\n",
       "\t\t<td>yes</td>\n",
       "\t\t<td>no</td>\n",
       "\t\t<td>43000.0</td>\n",
       "\t</tr>\n",
       "\t<tr>\n",
       "\t\t<td>83851.72413793103</td>\n",
       "\t\t<td>1</td>\n",
       "\t\t<td>1</td>\n",
       "\t\t<td>no</td>\n",
       "\t\t<td>yes</td>\n",
       "\t\t<td>401</td>\n",
       "\t\t<td>yes</td>\n",
       "\t\t<td>40</td>\n",
       "\t\t<td>2</td>\n",
       "\t\t<td>7410.0</td>\n",
       "\t\t<td>big_house\u0000\u0000</td>\n",
       "\t\t<td>2</td>\n",
       "\t\t<td>yes</td>\n",
       "\t\t<td>yes</td>\n",
       "\t\t<td>92500.0</td>\n",
       "\t</tr>\n",
       "\t<tr>\n",
       "\t\t<td>83851.72413793103</td>\n",
       "\t\t<td>1</td>\n",
       "\t\t<td>1</td>\n",
       "\t\t<td>no</td>\n",
       "\t\t<td>no</td>\n",
       "\t\t<td>411</td>\n",
       "\t\t<td>yes</td>\n",
       "\t\t<td>33</td>\n",
       "\t\t<td>2</td>\n",
       "\t\t<td>9000.0</td>\n",
       "\t\t<td>big_house\u0000\u0000</td>\n",
       "\t\t<td>1</td>\n",
       "\t\t<td>yes</td>\n",
       "\t\t<td>no</td>\n",
       "\t\t<td>90000.0</td>\n",
       "\t</tr>\n",
       "\t<tr>\n",
       "\t\t<td>83851.72413793103</td>\n",
       "\t\t<td>1</td>\n",
       "\t\t<td>2</td>\n",
       "\t\t<td>no</td>\n",
       "\t\t<td>no</td>\n",
       "\t\t<td>463</td>\n",
       "\t\t<td>yes</td>\n",
       "\t\t<td>13</td>\n",
       "\t\t<td>1</td>\n",
       "\t\t<td>2610.0</td>\n",
       "\t\t<td>big_house\u0000\u0000</td>\n",
       "\t\t<td>0</td>\n",
       "\t\t<td>yes</td>\n",
       "\t\t<td>no</td>\n",
       "\t\t<td>49000.0</td>\n",
       "\t</tr>\n",
       "\t<tr>\n",
       "\t\t<td>83851.72413793103</td>\n",
       "\t\t<td>1</td>\n",
       "\t\t<td>3</td>\n",
       "\t\t<td>no</td>\n",
       "\t\t<td>no</td>\n",
       "\t\t<td>408</td>\n",
       "\t\t<td>yes</td>\n",
       "\t\t<td>22</td>\n",
       "\t\t<td>2</td>\n",
       "\t\t<td>6420.0</td>\n",
       "\t\t<td>big_house\u0000\u0000</td>\n",
       "\t\t<td>0</td>\n",
       "\t\t<td>yes</td>\n",
       "\t\t<td>no</td>\n",
       "\t\t<td>87500.0</td>\n",
       "\t</tr>\n",
       "</table></html>"
      ],
      "text/plain": [
       "              bathrms  stories gashw airco   sn fullbase  id  homestyle  lotsize     bedrooms  garagepl driveway recroom    price\n",
       "prefarea                                                                                                                         \n",
       "62906.335979        1        1    no   yes   53      yes  11          2   9166.0  small_house         2      yes      no  68000.0\n",
       "62906.335979        1        2    no    no  140       no  43          1   3750.0  big_house\u0000\u0000         0      yes      no  43000.0\n",
       "62906.335979        1        2    no    no  255       no  15          2   4360.0  big_house\u0000\u0000         0      yes      no  61000.0\n",
       "62906.335979        1        2    no    no  364      yes  16          2  10700.0  big_house\u0000\u0000         0      yes     yes  72000.0\n",
       "62906.335979        1        2   yes    no  117       no  37          2   3760.0  big_house\u0000\u0000         2      yes      no  93000.0\n",
       "62906.335979        1        2    no    no  237       no  53          1   3630.0  big_house\u0000\u0000         3      yes      no  43000.0\n",
       "83851.724138        1        1    no   yes  401      yes  40          2   7410.0  big_house\u0000\u0000         2      yes     yes  92500.0\n",
       "83851.724138        1        1    no    no  411      yes  33          2   9000.0  big_house\u0000\u0000         1      yes      no  90000.0\n",
       "83851.724138        1        2    no    no  463      yes  13          1   2610.0  big_house\u0000\u0000         0      yes      no  49000.0\n",
       "83851.724138        1        3    no    no  408      yes  22          2   6420.0  big_house\u0000\u0000         0      yes      no  87500.0"
      ]
     },
     "metadata": {},
     "output_type": "display_data"
    },
    {
     "name": "stdout",
     "output_type": "stream",
     "text": [
      "                                                                                                 \r"
     ]
    },
    {
     "data": {
      "text/html": [
       "46 rows X 15 columns"
      ],
      "text/plain": [
       "<IPython.core.display.HTML object>"
      ]
     },
     "metadata": {},
     "output_type": "display_data"
    },
    {
     "name": "stdout",
     "output_type": "stream",
     "text": [
      "                                                                                                 \r"
     ]
    },
    {
     "data": {
      "text/html": [
       "\n",
       "Updated dataset after performing categorical encoding :"
      ],
      "text/plain": [
       "<IPython.core.display.HTML object>"
      ]
     },
     "metadata": {},
     "output_type": "display_data"
    },
    {
     "data": {
      "text/html": [
       "<style type=\"text/css\">\n",
       "\ttable {border:ridge 5px;}\n",
       "\ttable td {border:inset 1px;}\n",
       "\ttable tr#HeaderRow {background-color:grey; color:white;}</style>\n",
       "<html><table>\n",
       "\t<tr id=\"HeaderRow\">\n",
       "\t\t<th>prefarea</th>\n",
       "\t\t<th>bathrms</th>\n",
       "\t\t<th>stories</th>\n",
       "\t\t<th>gashw_0</th>\n",
       "\t\t<th>gashw_1</th>\n",
       "\t\t<th>airco_0</th>\n",
       "\t\t<th>airco_1</th>\n",
       "\t\t<th>sn</th>\n",
       "\t\t<th>fullbase_0</th>\n",
       "\t\t<th>fullbase_1</th>\n",
       "\t\t<th>id</th>\n",
       "\t\t<th>homestyle</th>\n",
       "\t\t<th>lotsize</th>\n",
       "\t\t<th>bedrooms_0</th>\n",
       "\t\t<th>bedrooms_1</th>\n",
       "\t\t<th>garagepl</th>\n",
       "\t\t<th>driveway_0</th>\n",
       "\t\t<th>driveway_1</th>\n",
       "\t\t<th>recroom_0</th>\n",
       "\t\t<th>recroom_1</th>\n",
       "\t\t<th>price</th>\n",
       "\t</tr>\n",
       "\t<tr>\n",
       "\t\t<td>62906.33597883598</td>\n",
       "\t\t<td>1</td>\n",
       "\t\t<td>2</td>\n",
       "\t\t<td>1</td>\n",
       "\t\t<td>0</td>\n",
       "\t\t<td>1</td>\n",
       "\t\t<td>0</td>\n",
       "\t\t<td>255</td>\n",
       "\t\t<td>1</td>\n",
       "\t\t<td>0</td>\n",
       "\t\t<td>15</td>\n",
       "\t\t<td>2</td>\n",
       "\t\t<td>4360.0</td>\n",
       "\t\t<td>1</td>\n",
       "\t\t<td>0</td>\n",
       "\t\t<td>0</td>\n",
       "\t\t<td>0</td>\n",
       "\t\t<td>1</td>\n",
       "\t\t<td>1</td>\n",
       "\t\t<td>0</td>\n",
       "\t\t<td>61000.0</td>\n",
       "\t</tr>\n",
       "\t<tr>\n",
       "\t\t<td>62906.33597883598</td>\n",
       "\t\t<td>1</td>\n",
       "\t\t<td>2</td>\n",
       "\t\t<td>0</td>\n",
       "\t\t<td>1</td>\n",
       "\t\t<td>1</td>\n",
       "\t\t<td>0</td>\n",
       "\t\t<td>117</td>\n",
       "\t\t<td>1</td>\n",
       "\t\t<td>0</td>\n",
       "\t\t<td>37</td>\n",
       "\t\t<td>2</td>\n",
       "\t\t<td>3760.0</td>\n",
       "\t\t<td>1</td>\n",
       "\t\t<td>0</td>\n",
       "\t\t<td>2</td>\n",
       "\t\t<td>0</td>\n",
       "\t\t<td>1</td>\n",
       "\t\t<td>1</td>\n",
       "\t\t<td>0</td>\n",
       "\t\t<td>93000.0</td>\n",
       "\t</tr>\n",
       "\t<tr>\n",
       "\t\t<td>62906.33597883598</td>\n",
       "\t\t<td>1</td>\n",
       "\t\t<td>2</td>\n",
       "\t\t<td>1</td>\n",
       "\t\t<td>0</td>\n",
       "\t\t<td>1</td>\n",
       "\t\t<td>0</td>\n",
       "\t\t<td>237</td>\n",
       "\t\t<td>1</td>\n",
       "\t\t<td>0</td>\n",
       "\t\t<td>53</td>\n",
       "\t\t<td>1</td>\n",
       "\t\t<td>3630.0</td>\n",
       "\t\t<td>1</td>\n",
       "\t\t<td>0</td>\n",
       "\t\t<td>3</td>\n",
       "\t\t<td>0</td>\n",
       "\t\t<td>1</td>\n",
       "\t\t<td>1</td>\n",
       "\t\t<td>0</td>\n",
       "\t\t<td>43000.0</td>\n",
       "\t</tr>\n",
       "\t<tr>\n",
       "\t\t<td>62906.33597883598</td>\n",
       "\t\t<td>1</td>\n",
       "\t\t<td>2</td>\n",
       "\t\t<td>1</td>\n",
       "\t\t<td>0</td>\n",
       "\t\t<td>1</td>\n",
       "\t\t<td>0</td>\n",
       "\t\t<td>13</td>\n",
       "\t\t<td>1</td>\n",
       "\t\t<td>0</td>\n",
       "\t\t<td>17</td>\n",
       "\t\t<td>1</td>\n",
       "\t\t<td>1700.0</td>\n",
       "\t\t<td>1</td>\n",
       "\t\t<td>0</td>\n",
       "\t\t<td>0</td>\n",
       "\t\t<td>0</td>\n",
       "\t\t<td>1</td>\n",
       "\t\t<td>1</td>\n",
       "\t\t<td>0</td>\n",
       "\t\t<td>27000.0</td>\n",
       "\t</tr>\n",
       "\t<tr>\n",
       "\t\t<td>62906.33597883598</td>\n",
       "\t\t<td>1</td>\n",
       "\t\t<td>2</td>\n",
       "\t\t<td>0</td>\n",
       "\t\t<td>1</td>\n",
       "\t\t<td>1</td>\n",
       "\t\t<td>0</td>\n",
       "\t\t<td>198</td>\n",
       "\t\t<td>1</td>\n",
       "\t\t<td>0</td>\n",
       "\t\t<td>20</td>\n",
       "\t\t<td>1</td>\n",
       "\t\t<td>4350.0</td>\n",
       "\t\t<td>1</td>\n",
       "\t\t<td>0</td>\n",
       "\t\t<td>1</td>\n",
       "\t\t<td>1</td>\n",
       "\t\t<td>0</td>\n",
       "\t\t<td>1</td>\n",
       "\t\t<td>0</td>\n",
       "\t\t<td>40500.0</td>\n",
       "\t</tr>\n",
       "\t<tr>\n",
       "\t\t<td>62906.33597883598</td>\n",
       "\t\t<td>1</td>\n",
       "\t\t<td>1</td>\n",
       "\t\t<td>1</td>\n",
       "\t\t<td>0</td>\n",
       "\t\t<td>1</td>\n",
       "\t\t<td>0</td>\n",
       "\t\t<td>234</td>\n",
       "\t\t<td>1</td>\n",
       "\t\t<td>0</td>\n",
       "\t\t<td>36</td>\n",
       "\t\t<td>1</td>\n",
       "\t\t<td>3970.0</td>\n",
       "\t\t<td>0</td>\n",
       "\t\t<td>1</td>\n",
       "\t\t<td>0</td>\n",
       "\t\t<td>1</td>\n",
       "\t\t<td>0</td>\n",
       "\t\t<td>1</td>\n",
       "\t\t<td>0</td>\n",
       "\t\t<td>32500.0</td>\n",
       "\t</tr>\n",
       "\t<tr>\n",
       "\t\t<td>83851.72413793103</td>\n",
       "\t\t<td>1</td>\n",
       "\t\t<td>2</td>\n",
       "\t\t<td>1</td>\n",
       "\t\t<td>0</td>\n",
       "\t\t<td>1</td>\n",
       "\t\t<td>0</td>\n",
       "\t\t<td>463</td>\n",
       "\t\t<td>0</td>\n",
       "\t\t<td>1</td>\n",
       "\t\t<td>13</td>\n",
       "\t\t<td>1</td>\n",
       "\t\t<td>2610.0</td>\n",
       "\t\t<td>1</td>\n",
       "\t\t<td>0</td>\n",
       "\t\t<td>0</td>\n",
       "\t\t<td>0</td>\n",
       "\t\t<td>1</td>\n",
       "\t\t<td>1</td>\n",
       "\t\t<td>0</td>\n",
       "\t\t<td>49000.0</td>\n",
       "\t</tr>\n",
       "\t<tr>\n",
       "\t\t<td>83851.72413793103</td>\n",
       "\t\t<td>1</td>\n",
       "\t\t<td>1</td>\n",
       "\t\t<td>1</td>\n",
       "\t\t<td>0</td>\n",
       "\t\t<td>1</td>\n",
       "\t\t<td>0</td>\n",
       "\t\t<td>441</td>\n",
       "\t\t<td>1</td>\n",
       "\t\t<td>0</td>\n",
       "\t\t<td>39</td>\n",
       "\t\t<td>2</td>\n",
       "\t\t<td>3520.0</td>\n",
       "\t\t<td>1</td>\n",
       "\t\t<td>0</td>\n",
       "\t\t<td>2</td>\n",
       "\t\t<td>0</td>\n",
       "\t\t<td>1</td>\n",
       "\t\t<td>1</td>\n",
       "\t\t<td>0</td>\n",
       "\t\t<td>51900.0</td>\n",
       "\t</tr>\n",
       "\t<tr>\n",
       "\t\t<td>83851.72413793103</td>\n",
       "\t\t<td>1</td>\n",
       "\t\t<td>2</td>\n",
       "\t\t<td>1</td>\n",
       "\t\t<td>0</td>\n",
       "\t\t<td>1</td>\n",
       "\t\t<td>0</td>\n",
       "\t\t<td>469</td>\n",
       "\t\t<td>1</td>\n",
       "\t\t<td>0</td>\n",
       "\t\t<td>8</td>\n",
       "\t\t<td>2</td>\n",
       "\t\t<td>2176.0</td>\n",
       "\t\t<td>0</td>\n",
       "\t\t<td>1</td>\n",
       "\t\t<td>0</td>\n",
       "\t\t<td>0</td>\n",
       "\t\t<td>1</td>\n",
       "\t\t<td>0</td>\n",
       "\t\t<td>1</td>\n",
       "\t\t<td>55000.0</td>\n",
       "\t</tr>\n",
       "\t<tr>\n",
       "\t\t<td>83851.72413793103</td>\n",
       "\t\t<td>1</td>\n",
       "\t\t<td>1</td>\n",
       "\t\t<td>1</td>\n",
       "\t\t<td>0</td>\n",
       "\t\t<td>1</td>\n",
       "\t\t<td>0</td>\n",
       "\t\t<td>472</td>\n",
       "\t\t<td>0</td>\n",
       "\t\t<td>1</td>\n",
       "\t\t<td>27</td>\n",
       "\t\t<td>2</td>\n",
       "\t\t<td>2787.0</td>\n",
       "\t\t<td>1</td>\n",
       "\t\t<td>0</td>\n",
       "\t\t<td>0</td>\n",
       "\t\t<td>0</td>\n",
       "\t\t<td>1</td>\n",
       "\t\t<td>1</td>\n",
       "\t\t<td>0</td>\n",
       "\t\t<td>60500.0</td>\n",
       "\t</tr>\n",
       "</table></html>"
      ],
      "text/plain": [
       "              bathrms  stories  gashw_0  gashw_1  airco_0  airco_1   sn  fullbase_0  fullbase_1  id  homestyle  lotsize  bedrooms_0  bedrooms_1  garagepl  driveway_0  driveway_1  recroom_0  recroom_1    price\n",
       "prefarea                                                                                                                                                                                                        \n",
       "62906.335979        1        2        1        0        1        0  255           1           0  15          2   4360.0           1           0         0           0           1          1          0  61000.0\n",
       "62906.335979        1        2        0        1        1        0  117           1           0  37          2   3760.0           1           0         2           0           1          1          0  93000.0\n",
       "62906.335979        1        2        1        0        1        0  237           1           0  53          1   3630.0           1           0         3           0           1          1          0  43000.0\n",
       "62906.335979        1        2        1        0        1        0   13           1           0  17          1   1700.0           1           0         0           0           1          1          0  27000.0\n",
       "62906.335979        1        2        0        1        1        0  198           1           0  20          1   4350.0           1           0         1           1           0          1          0  40500.0\n",
       "62906.335979        1        1        1        0        1        0  234           1           0  36          1   3970.0           0           1         0           1           0          1          0  32500.0\n",
       "83851.724138        1        2        1        0        1        0  463           0           1  13          1   2610.0           1           0         0           0           1          1          0  49000.0\n",
       "83851.724138        1        1        1        0        1        0  441           1           0  39          2   3520.0           1           0         2           0           1          1          0  51900.0\n",
       "83851.724138        1        2        1        0        1        0  469           1           0   8          2   2176.0           0           1         0           0           1          0          1  55000.0\n",
       "83851.724138        1        1        1        0        1        0  472           0           1  27          2   2787.0           1           0         0           0           1          1          0  60500.0"
      ]
     },
     "metadata": {},
     "output_type": "display_data"
    },
    {
     "name": "stdout",
     "output_type": "stream",
     "text": [
      "                                                                                                 \r"
     ]
    },
    {
     "data": {
      "text/html": [
       "46 rows X 21 columns"
      ],
      "text/plain": [
       "<IPython.core.display.HTML object>"
      ]
     },
     "metadata": {},
     "output_type": "display_data"
    },
    {
     "name": "stdout",
     "output_type": "stream",
     "text": [
      "                                                                                                  \r"
     ]
    },
    {
     "data": {
      "text/html": [
       "\n",
       "Updated dataset after performing customized anti-selection :"
      ],
      "text/plain": [
       "<IPython.core.display.HTML object>"
      ]
     },
     "metadata": {},
     "output_type": "display_data"
    },
    {
     "data": {
      "text/html": [
       "<style type=\"text/css\">\n",
       "\ttable {border:ridge 5px;}\n",
       "\ttable td {border:inset 1px;}\n",
       "\ttable tr#HeaderRow {background-color:grey; color:white;}</style>\n",
       "<html><table>\n",
       "\t<tr id=\"HeaderRow\">\n",
       "\t\t<th>prefarea</th>\n",
       "\t\t<th>bathrms</th>\n",
       "\t\t<th>stories</th>\n",
       "\t\t<th>gashw_0</th>\n",
       "\t\t<th>gashw_1</th>\n",
       "\t\t<th>airco_0</th>\n",
       "\t\t<th>airco_1</th>\n",
       "\t\t<th>fullbase_0</th>\n",
       "\t\t<th>fullbase_1</th>\n",
       "\t\t<th>id</th>\n",
       "\t\t<th>homestyle</th>\n",
       "\t\t<th>lotsize</th>\n",
       "\t\t<th>bedrooms_0</th>\n",
       "\t\t<th>bedrooms_1</th>\n",
       "\t\t<th>garagepl</th>\n",
       "\t\t<th>driveway_0</th>\n",
       "\t\t<th>driveway_1</th>\n",
       "\t\t<th>recroom_0</th>\n",
       "\t\t<th>recroom_1</th>\n",
       "\t\t<th>price</th>\n",
       "\t</tr>\n",
       "\t<tr>\n",
       "\t\t<td>62906.33597883598</td>\n",
       "\t\t<td>1</td>\n",
       "\t\t<td>2</td>\n",
       "\t\t<td>1</td>\n",
       "\t\t<td>0</td>\n",
       "\t\t<td>1</td>\n",
       "\t\t<td>0</td>\n",
       "\t\t<td>1</td>\n",
       "\t\t<td>0</td>\n",
       "\t\t<td>15</td>\n",
       "\t\t<td>2</td>\n",
       "\t\t<td>4360.0</td>\n",
       "\t\t<td>1</td>\n",
       "\t\t<td>0</td>\n",
       "\t\t<td>0</td>\n",
       "\t\t<td>0</td>\n",
       "\t\t<td>1</td>\n",
       "\t\t<td>1</td>\n",
       "\t\t<td>0</td>\n",
       "\t\t<td>61000.0</td>\n",
       "\t</tr>\n",
       "\t<tr>\n",
       "\t\t<td>62906.33597883598</td>\n",
       "\t\t<td>1</td>\n",
       "\t\t<td>2</td>\n",
       "\t\t<td>0</td>\n",
       "\t\t<td>1</td>\n",
       "\t\t<td>1</td>\n",
       "\t\t<td>0</td>\n",
       "\t\t<td>1</td>\n",
       "\t\t<td>0</td>\n",
       "\t\t<td>37</td>\n",
       "\t\t<td>2</td>\n",
       "\t\t<td>3760.0</td>\n",
       "\t\t<td>1</td>\n",
       "\t\t<td>0</td>\n",
       "\t\t<td>2</td>\n",
       "\t\t<td>0</td>\n",
       "\t\t<td>1</td>\n",
       "\t\t<td>1</td>\n",
       "\t\t<td>0</td>\n",
       "\t\t<td>93000.0</td>\n",
       "\t</tr>\n",
       "\t<tr>\n",
       "\t\t<td>62906.33597883598</td>\n",
       "\t\t<td>1</td>\n",
       "\t\t<td>2</td>\n",
       "\t\t<td>1</td>\n",
       "\t\t<td>0</td>\n",
       "\t\t<td>1</td>\n",
       "\t\t<td>0</td>\n",
       "\t\t<td>1</td>\n",
       "\t\t<td>0</td>\n",
       "\t\t<td>53</td>\n",
       "\t\t<td>1</td>\n",
       "\t\t<td>3630.0</td>\n",
       "\t\t<td>1</td>\n",
       "\t\t<td>0</td>\n",
       "\t\t<td>3</td>\n",
       "\t\t<td>0</td>\n",
       "\t\t<td>1</td>\n",
       "\t\t<td>1</td>\n",
       "\t\t<td>0</td>\n",
       "\t\t<td>43000.0</td>\n",
       "\t</tr>\n",
       "\t<tr>\n",
       "\t\t<td>62906.33597883598</td>\n",
       "\t\t<td>1</td>\n",
       "\t\t<td>2</td>\n",
       "\t\t<td>1</td>\n",
       "\t\t<td>0</td>\n",
       "\t\t<td>1</td>\n",
       "\t\t<td>0</td>\n",
       "\t\t<td>1</td>\n",
       "\t\t<td>0</td>\n",
       "\t\t<td>17</td>\n",
       "\t\t<td>1</td>\n",
       "\t\t<td>1700.0</td>\n",
       "\t\t<td>1</td>\n",
       "\t\t<td>0</td>\n",
       "\t\t<td>0</td>\n",
       "\t\t<td>0</td>\n",
       "\t\t<td>1</td>\n",
       "\t\t<td>1</td>\n",
       "\t\t<td>0</td>\n",
       "\t\t<td>27000.0</td>\n",
       "\t</tr>\n",
       "\t<tr>\n",
       "\t\t<td>62906.33597883598</td>\n",
       "\t\t<td>1</td>\n",
       "\t\t<td>2</td>\n",
       "\t\t<td>0</td>\n",
       "\t\t<td>1</td>\n",
       "\t\t<td>1</td>\n",
       "\t\t<td>0</td>\n",
       "\t\t<td>1</td>\n",
       "\t\t<td>0</td>\n",
       "\t\t<td>20</td>\n",
       "\t\t<td>1</td>\n",
       "\t\t<td>4350.0</td>\n",
       "\t\t<td>1</td>\n",
       "\t\t<td>0</td>\n",
       "\t\t<td>1</td>\n",
       "\t\t<td>1</td>\n",
       "\t\t<td>0</td>\n",
       "\t\t<td>1</td>\n",
       "\t\t<td>0</td>\n",
       "\t\t<td>40500.0</td>\n",
       "\t</tr>\n",
       "\t<tr>\n",
       "\t\t<td>62906.33597883598</td>\n",
       "\t\t<td>1</td>\n",
       "\t\t<td>1</td>\n",
       "\t\t<td>1</td>\n",
       "\t\t<td>0</td>\n",
       "\t\t<td>1</td>\n",
       "\t\t<td>0</td>\n",
       "\t\t<td>1</td>\n",
       "\t\t<td>0</td>\n",
       "\t\t<td>36</td>\n",
       "\t\t<td>1</td>\n",
       "\t\t<td>3970.0</td>\n",
       "\t\t<td>0</td>\n",
       "\t\t<td>1</td>\n",
       "\t\t<td>0</td>\n",
       "\t\t<td>1</td>\n",
       "\t\t<td>0</td>\n",
       "\t\t<td>1</td>\n",
       "\t\t<td>0</td>\n",
       "\t\t<td>32500.0</td>\n",
       "\t</tr>\n",
       "\t<tr>\n",
       "\t\t<td>83851.72413793103</td>\n",
       "\t\t<td>1</td>\n",
       "\t\t<td>2</td>\n",
       "\t\t<td>1</td>\n",
       "\t\t<td>0</td>\n",
       "\t\t<td>1</td>\n",
       "\t\t<td>0</td>\n",
       "\t\t<td>0</td>\n",
       "\t\t<td>1</td>\n",
       "\t\t<td>13</td>\n",
       "\t\t<td>1</td>\n",
       "\t\t<td>2610.0</td>\n",
       "\t\t<td>1</td>\n",
       "\t\t<td>0</td>\n",
       "\t\t<td>0</td>\n",
       "\t\t<td>0</td>\n",
       "\t\t<td>1</td>\n",
       "\t\t<td>1</td>\n",
       "\t\t<td>0</td>\n",
       "\t\t<td>49000.0</td>\n",
       "\t</tr>\n",
       "\t<tr>\n",
       "\t\t<td>83851.72413793103</td>\n",
       "\t\t<td>1</td>\n",
       "\t\t<td>1</td>\n",
       "\t\t<td>1</td>\n",
       "\t\t<td>0</td>\n",
       "\t\t<td>1</td>\n",
       "\t\t<td>0</td>\n",
       "\t\t<td>1</td>\n",
       "\t\t<td>0</td>\n",
       "\t\t<td>39</td>\n",
       "\t\t<td>2</td>\n",
       "\t\t<td>3520.0</td>\n",
       "\t\t<td>1</td>\n",
       "\t\t<td>0</td>\n",
       "\t\t<td>2</td>\n",
       "\t\t<td>0</td>\n",
       "\t\t<td>1</td>\n",
       "\t\t<td>1</td>\n",
       "\t\t<td>0</td>\n",
       "\t\t<td>51900.0</td>\n",
       "\t</tr>\n",
       "\t<tr>\n",
       "\t\t<td>83851.72413793103</td>\n",
       "\t\t<td>1</td>\n",
       "\t\t<td>2</td>\n",
       "\t\t<td>1</td>\n",
       "\t\t<td>0</td>\n",
       "\t\t<td>1</td>\n",
       "\t\t<td>0</td>\n",
       "\t\t<td>1</td>\n",
       "\t\t<td>0</td>\n",
       "\t\t<td>8</td>\n",
       "\t\t<td>2</td>\n",
       "\t\t<td>2176.0</td>\n",
       "\t\t<td>0</td>\n",
       "\t\t<td>1</td>\n",
       "\t\t<td>0</td>\n",
       "\t\t<td>0</td>\n",
       "\t\t<td>1</td>\n",
       "\t\t<td>0</td>\n",
       "\t\t<td>1</td>\n",
       "\t\t<td>55000.0</td>\n",
       "\t</tr>\n",
       "\t<tr>\n",
       "\t\t<td>83851.72413793103</td>\n",
       "\t\t<td>1</td>\n",
       "\t\t<td>1</td>\n",
       "\t\t<td>1</td>\n",
       "\t\t<td>0</td>\n",
       "\t\t<td>1</td>\n",
       "\t\t<td>0</td>\n",
       "\t\t<td>0</td>\n",
       "\t\t<td>1</td>\n",
       "\t\t<td>27</td>\n",
       "\t\t<td>2</td>\n",
       "\t\t<td>2787.0</td>\n",
       "\t\t<td>1</td>\n",
       "\t\t<td>0</td>\n",
       "\t\t<td>0</td>\n",
       "\t\t<td>0</td>\n",
       "\t\t<td>1</td>\n",
       "\t\t<td>1</td>\n",
       "\t\t<td>0</td>\n",
       "\t\t<td>60500.0</td>\n",
       "\t</tr>\n",
       "</table></html>"
      ],
      "text/plain": [
       "       prefarea  bathrms  stories  gashw_0  gashw_1  airco_0  airco_1  fullbase_0  fullbase_1  id  homestyle  lotsize  bedrooms_0  bedrooms_1  garagepl  driveway_0  driveway_1  recroom_0  recroom_1    price\n",
       "0  62906.335979        1        2        1        0        1        0           1           0  15          2   4360.0           1           0         0           0           1          1          0  61000.0\n",
       "1  62906.335979        1        2        0        1        1        0           1           0  37          2   3760.0           1           0         2           0           1          1          0  93000.0\n",
       "2  62906.335979        1        2        1        0        1        0           1           0  53          1   3630.0           1           0         3           0           1          1          0  43000.0\n",
       "3  62906.335979        1        2        1        0        1        0           1           0  17          1   1700.0           1           0         0           0           1          1          0  27000.0\n",
       "4  62906.335979        1        2        0        1        1        0           1           0  20          1   4350.0           1           0         1           1           0          1          0  40500.0\n",
       "5  62906.335979        1        1        1        0        1        0           1           0  36          1   3970.0           0           1         0           1           0          1          0  32500.0\n",
       "6  83851.724138        1        2        1        0        1        0           0           1  13          1   2610.0           1           0         0           0           1          1          0  49000.0\n",
       "7  83851.724138        1        1        1        0        1        0           1           0  39          2   3520.0           1           0         2           0           1          1          0  51900.0\n",
       "8  83851.724138        1        2        1        0        1        0           1           0   8          2   2176.0           0           1         0           0           1          0          1  55000.0\n",
       "9  83851.724138        1        1        1        0        1        0           0           1  27          2   2787.0           1           0         0           0           1          1          0  60500.0"
      ]
     },
     "metadata": {},
     "output_type": "display_data"
    },
    {
     "name": "stdout",
     "output_type": "stream",
     "text": [
      "                                                                                                  \r"
     ]
    },
    {
     "data": {
      "text/html": [
       "46 rows X 20 columns"
      ],
      "text/plain": [
       "<IPython.core.display.HTML object>"
      ]
     },
     "metadata": {},
     "output_type": "display_data"
    },
    {
     "name": "stdout",
     "output_type": "stream",
     "text": [
      "                                                                                                  \r"
     ]
    },
    {
     "data": {
      "text/html": [
       "Performing transformation carried out in data preparation phase ..."
      ],
      "text/plain": [
       "<IPython.core.display.HTML object>"
      ]
     },
     "metadata": {},
     "output_type": "display_data"
    },
    {
     "name": "stdout",
     "output_type": "stream",
     "text": [
      "                                                                                                  \r"
     ]
    },
    {
     "data": {
      "text/html": [
       "\n",
       "Updated dataset after performing Lasso feature selection:"
      ],
      "text/plain": [
       "<IPython.core.display.HTML object>"
      ]
     },
     "metadata": {},
     "output_type": "display_data"
    },
    {
     "data": {
      "text/html": [
       "<style type=\"text/css\">\n",
       "\ttable {border:ridge 5px;}\n",
       "\ttable td {border:inset 1px;}\n",
       "\ttable tr#HeaderRow {background-color:grey; color:white;}</style>\n",
       "<html><table>\n",
       "\t<tr id=\"HeaderRow\">\n",
       "\t\t<th>id</th>\n",
       "\t\t<th>recroom_1</th>\n",
       "\t\t<th>stories</th>\n",
       "\t\t<th>gashw_0</th>\n",
       "\t\t<th>bedrooms_0</th>\n",
       "\t\t<th>garagepl</th>\n",
       "\t\t<th>fullbase_1</th>\n",
       "\t\t<th>bathrms</th>\n",
       "\t\t<th>airco_0</th>\n",
       "\t\t<th>recroom_0</th>\n",
       "\t\t<th>airco_1</th>\n",
       "\t\t<th>driveway_1</th>\n",
       "\t\t<th>gashw_1</th>\n",
       "\t\t<th>bedrooms_1</th>\n",
       "\t\t<th>homestyle</th>\n",
       "\t\t<th>fullbase_0</th>\n",
       "\t\t<th>driveway_0</th>\n",
       "\t\t<th>prefarea</th>\n",
       "\t\t<th>lotsize</th>\n",
       "\t\t<th>price</th>\n",
       "\t</tr>\n",
       "\t<tr>\n",
       "\t\t<td>24</td>\n",
       "\t\t<td>1</td>\n",
       "\t\t<td>1</td>\n",
       "\t\t<td>1</td>\n",
       "\t\t<td>0</td>\n",
       "\t\t<td>0</td>\n",
       "\t\t<td>1</td>\n",
       "\t\t<td>2</td>\n",
       "\t\t<td>1</td>\n",
       "\t\t<td>0</td>\n",
       "\t\t<td>0</td>\n",
       "\t\t<td>1</td>\n",
       "\t\t<td>0</td>\n",
       "\t\t<td>1</td>\n",
       "\t\t<td>2</td>\n",
       "\t\t<td>0</td>\n",
       "\t\t<td>0</td>\n",
       "\t\t<td>62906.336</td>\n",
       "\t\t<td>4100.0</td>\n",
       "\t\t<td>64900.0</td>\n",
       "\t</tr>\n",
       "\t<tr>\n",
       "\t\t<td>32</td>\n",
       "\t\t<td>1</td>\n",
       "\t\t<td>1</td>\n",
       "\t\t<td>1</td>\n",
       "\t\t<td>1</td>\n",
       "\t\t<td>0</td>\n",
       "\t\t<td>1</td>\n",
       "\t\t<td>1</td>\n",
       "\t\t<td>0</td>\n",
       "\t\t<td>0</td>\n",
       "\t\t<td>1</td>\n",
       "\t\t<td>1</td>\n",
       "\t\t<td>0</td>\n",
       "\t\t<td>0</td>\n",
       "\t\t<td>2</td>\n",
       "\t\t<td>0</td>\n",
       "\t\t<td>0</td>\n",
       "\t\t<td>83851.7241</td>\n",
       "\t\t<td>6825.0</td>\n",
       "\t\t<td>77500.0</td>\n",
       "\t</tr>\n",
       "\t<tr>\n",
       "\t\t<td>8</td>\n",
       "\t\t<td>1</td>\n",
       "\t\t<td>2</td>\n",
       "\t\t<td>1</td>\n",
       "\t\t<td>0</td>\n",
       "\t\t<td>0</td>\n",
       "\t\t<td>0</td>\n",
       "\t\t<td>1</td>\n",
       "\t\t<td>1</td>\n",
       "\t\t<td>0</td>\n",
       "\t\t<td>0</td>\n",
       "\t\t<td>1</td>\n",
       "\t\t<td>0</td>\n",
       "\t\t<td>1</td>\n",
       "\t\t<td>2</td>\n",
       "\t\t<td>1</td>\n",
       "\t\t<td>0</td>\n",
       "\t\t<td>83851.7241</td>\n",
       "\t\t<td>2176.0</td>\n",
       "\t\t<td>55000.0</td>\n",
       "\t</tr>\n",
       "\t<tr>\n",
       "\t\t<td>27</td>\n",
       "\t\t<td>0</td>\n",
       "\t\t<td>1</td>\n",
       "\t\t<td>1</td>\n",
       "\t\t<td>1</td>\n",
       "\t\t<td>0</td>\n",
       "\t\t<td>1</td>\n",
       "\t\t<td>1</td>\n",
       "\t\t<td>1</td>\n",
       "\t\t<td>1</td>\n",
       "\t\t<td>0</td>\n",
       "\t\t<td>1</td>\n",
       "\t\t<td>0</td>\n",
       "\t\t<td>0</td>\n",
       "\t\t<td>2</td>\n",
       "\t\t<td>0</td>\n",
       "\t\t<td>0</td>\n",
       "\t\t<td>83851.7241</td>\n",
       "\t\t<td>2787.0</td>\n",
       "\t\t<td>60500.0</td>\n",
       "\t</tr>\n",
       "\t<tr>\n",
       "\t\t<td>21</td>\n",
       "\t\t<td>0</td>\n",
       "\t\t<td>1</td>\n",
       "\t\t<td>1</td>\n",
       "\t\t<td>1</td>\n",
       "\t\t<td>0</td>\n",
       "\t\t<td>0</td>\n",
       "\t\t<td>1</td>\n",
       "\t\t<td>1</td>\n",
       "\t\t<td>1</td>\n",
       "\t\t<td>0</td>\n",
       "\t\t<td>1</td>\n",
       "\t\t<td>0</td>\n",
       "\t\t<td>0</td>\n",
       "\t\t<td>1</td>\n",
       "\t\t<td>1</td>\n",
       "\t\t<td>0</td>\n",
       "\t\t<td>83851.7241</td>\n",
       "\t\t<td>2398.0</td>\n",
       "\t\t<td>44555.0</td>\n",
       "\t</tr>\n",
       "\t<tr>\n",
       "\t\t<td>22</td>\n",
       "\t\t<td>0</td>\n",
       "\t\t<td>3</td>\n",
       "\t\t<td>1</td>\n",
       "\t\t<td>1</td>\n",
       "\t\t<td>0</td>\n",
       "\t\t<td>1</td>\n",
       "\t\t<td>1</td>\n",
       "\t\t<td>1</td>\n",
       "\t\t<td>1</td>\n",
       "\t\t<td>0</td>\n",
       "\t\t<td>1</td>\n",
       "\t\t<td>0</td>\n",
       "\t\t<td>0</td>\n",
       "\t\t<td>2</td>\n",
       "\t\t<td>0</td>\n",
       "\t\t<td>0</td>\n",
       "\t\t<td>83851.7241</td>\n",
       "\t\t<td>6420.0</td>\n",
       "\t\t<td>87500.0</td>\n",
       "\t</tr>\n",
       "\t<tr>\n",
       "\t\t<td>11</td>\n",
       "\t\t<td>0</td>\n",
       "\t\t<td>1</td>\n",
       "\t\t<td>1</td>\n",
       "\t\t<td>0</td>\n",
       "\t\t<td>2</td>\n",
       "\t\t<td>1</td>\n",
       "\t\t<td>1</td>\n",
       "\t\t<td>0</td>\n",
       "\t\t<td>1</td>\n",
       "\t\t<td>1</td>\n",
       "\t\t<td>1</td>\n",
       "\t\t<td>0</td>\n",
       "\t\t<td>1</td>\n",
       "\t\t<td>2</td>\n",
       "\t\t<td>0</td>\n",
       "\t\t<td>0</td>\n",
       "\t\t<td>62906.336</td>\n",
       "\t\t<td>9166.0</td>\n",
       "\t\t<td>68000.0</td>\n",
       "\t</tr>\n",
       "\t<tr>\n",
       "\t\t<td>43</td>\n",
       "\t\t<td>0</td>\n",
       "\t\t<td>2</td>\n",
       "\t\t<td>1</td>\n",
       "\t\t<td>1</td>\n",
       "\t\t<td>0</td>\n",
       "\t\t<td>0</td>\n",
       "\t\t<td>1</td>\n",
       "\t\t<td>1</td>\n",
       "\t\t<td>1</td>\n",
       "\t\t<td>0</td>\n",
       "\t\t<td>1</td>\n",
       "\t\t<td>0</td>\n",
       "\t\t<td>0</td>\n",
       "\t\t<td>1</td>\n",
       "\t\t<td>1</td>\n",
       "\t\t<td>0</td>\n",
       "\t\t<td>62906.336</td>\n",
       "\t\t<td>3750.0</td>\n",
       "\t\t<td>43000.0</td>\n",
       "\t</tr>\n",
       "\t<tr>\n",
       "\t\t<td>15</td>\n",
       "\t\t<td>0</td>\n",
       "\t\t<td>2</td>\n",
       "\t\t<td>1</td>\n",
       "\t\t<td>1</td>\n",
       "\t\t<td>0</td>\n",
       "\t\t<td>0</td>\n",
       "\t\t<td>1</td>\n",
       "\t\t<td>1</td>\n",
       "\t\t<td>1</td>\n",
       "\t\t<td>0</td>\n",
       "\t\t<td>1</td>\n",
       "\t\t<td>0</td>\n",
       "\t\t<td>0</td>\n",
       "\t\t<td>2</td>\n",
       "\t\t<td>1</td>\n",
       "\t\t<td>0</td>\n",
       "\t\t<td>62906.336</td>\n",
       "\t\t<td>4360.0</td>\n",
       "\t\t<td>61000.0</td>\n",
       "\t</tr>\n",
       "\t<tr>\n",
       "\t\t<td>37</td>\n",
       "\t\t<td>0</td>\n",
       "\t\t<td>2</td>\n",
       "\t\t<td>0</td>\n",
       "\t\t<td>1</td>\n",
       "\t\t<td>2</td>\n",
       "\t\t<td>0</td>\n",
       "\t\t<td>1</td>\n",
       "\t\t<td>1</td>\n",
       "\t\t<td>1</td>\n",
       "\t\t<td>0</td>\n",
       "\t\t<td>1</td>\n",
       "\t\t<td>1</td>\n",
       "\t\t<td>0</td>\n",
       "\t\t<td>2</td>\n",
       "\t\t<td>1</td>\n",
       "\t\t<td>0</td>\n",
       "\t\t<td>62906.336</td>\n",
       "\t\t<td>3760.0</td>\n",
       "\t\t<td>93000.0</td>\n",
       "\t</tr>\n",
       "</table></html>"
      ],
      "text/plain": [
       "           id  stories  gashw_0  bedrooms_0  garagepl  fullbase_1  bathrms  airco_0  recroom_0  airco_1  driveway_1  gashw_1  bedrooms_1  homestyle  fullbase_0  driveway_0    prefarea  lotsize    price\n",
       "recroom_1                                                                                                                                                                                                \n",
       "1          24        1        1           0         0           1        2        1          0        0           1        0           1          2           0           0  62906.3360   4100.0  64900.0\n",
       "1          32        1        1           1         0           1        1        0          0        1           1        0           0          2           0           0  83851.7241   6825.0  77500.0\n",
       "1           8        2        1           0         0           0        1        1          0        0           1        0           1          2           1           0  83851.7241   2176.0  55000.0\n",
       "0          27        1        1           1         0           1        1        1          1        0           1        0           0          2           0           0  83851.7241   2787.0  60500.0\n",
       "0          21        1        1           1         0           0        1        1          1        0           1        0           0          1           1           0  83851.7241   2398.0  44555.0\n",
       "0          22        3        1           1         0           1        1        1          1        0           1        0           0          2           0           0  83851.7241   6420.0  87500.0\n",
       "0          11        1        1           0         2           1        1        0          1        1           1        0           1          2           0           0  62906.3360   9166.0  68000.0\n",
       "0          43        2        1           1         0           0        1        1          1        0           1        0           0          1           1           0  62906.3360   3750.0  43000.0\n",
       "0          15        2        1           1         0           0        1        1          1        0           1        0           0          2           1           0  62906.3360   4360.0  61000.0\n",
       "0          37        2        0           1         2           0        1        1          1        0           1        1           0          2           1           0  62906.3360   3760.0  93000.0"
      ]
     },
     "metadata": {},
     "output_type": "display_data"
    },
    {
     "name": "stdout",
     "output_type": "stream",
     "text": [
      "                                                                                                  \r"
     ]
    },
    {
     "data": {
      "text/html": [
       "46 rows X 20 columns"
      ],
      "text/plain": [
       "<IPython.core.display.HTML object>"
      ]
     },
     "metadata": {},
     "output_type": "display_data"
    },
    {
     "name": "stdout",
     "output_type": "stream",
     "text": [
      "                                                                                                  \r"
     ]
    },
    {
     "data": {
      "text/html": [
       "\n",
       "Updated dataset after performing scaling on Lasso selected features :"
      ],
      "text/plain": [
       "<IPython.core.display.HTML object>"
      ]
     },
     "metadata": {},
     "output_type": "display_data"
    },
    {
     "data": {
      "text/html": [
       "<style type=\"text/css\">\n",
       "\ttable {border:ridge 5px;}\n",
       "\ttable td {border:inset 1px;}\n",
       "\ttable tr#HeaderRow {background-color:grey; color:white;}</style>\n",
       "<html><table>\n",
       "\t<tr id=\"HeaderRow\">\n",
       "\t\t<th>recroom_1</th>\n",
       "\t\t<th>airco_0</th>\n",
       "\t\t<th>recroom_0</th>\n",
       "\t\t<th>gashw_0</th>\n",
       "\t\t<th>airco_1</th>\n",
       "\t\t<th>id</th>\n",
       "\t\t<th>driveway_1</th>\n",
       "\t\t<th>gashw_1</th>\n",
       "\t\t<th>bedrooms_1</th>\n",
       "\t\t<th>fullbase_0</th>\n",
       "\t\t<th>bedrooms_0</th>\n",
       "\t\t<th>fullbase_1</th>\n",
       "\t\t<th>price</th>\n",
       "\t\t<th>driveway_0</th>\n",
       "\t\t<th>stories</th>\n",
       "\t\t<th>garagepl</th>\n",
       "\t\t<th>bathrms</th>\n",
       "\t\t<th>homestyle</th>\n",
       "\t\t<th>prefarea</th>\n",
       "\t\t<th>lotsize</th>\n",
       "\t</tr>\n",
       "\t<tr>\n",
       "\t\t<td>0</td>\n",
       "\t\t<td>1</td>\n",
       "\t\t<td>1</td>\n",
       "\t\t<td>1</td>\n",
       "\t\t<td>0</td>\n",
       "\t\t<td>21</td>\n",
       "\t\t<td>1</td>\n",
       "\t\t<td>0</td>\n",
       "\t\t<td>0</td>\n",
       "\t\t<td>1</td>\n",
       "\t\t<td>1</td>\n",
       "\t\t<td>0</td>\n",
       "\t\t<td>44555.0</td>\n",
       "\t\t<td>0</td>\n",
       "\t\t<td>-0.9243489557048288</td>\n",
       "\t\t<td>-0.7962575788492099</td>\n",
       "\t\t<td>-0.5797509043642046</td>\n",
       "\t\t<td>-0.7435145661134329</td>\n",
       "\t\t<td>1.8046155180928998</td>\n",
       "\t\t<td>-1.2954779865747776</td>\n",
       "\t</tr>\n",
       "\t<tr>\n",
       "\t\t<td>0</td>\n",
       "\t\t<td>0</td>\n",
       "\t\t<td>1</td>\n",
       "\t\t<td>1</td>\n",
       "\t\t<td>1</td>\n",
       "\t\t<td>11</td>\n",
       "\t\t<td>1</td>\n",
       "\t\t<td>0</td>\n",
       "\t\t<td>1</td>\n",
       "\t\t<td>0</td>\n",
       "\t\t<td>0</td>\n",
       "\t\t<td>1</td>\n",
       "\t\t<td>68000.0</td>\n",
       "\t\t<td>0</td>\n",
       "\t\t<td>-0.9243489557048288</td>\n",
       "\t\t<td>1.5752588015004494</td>\n",
       "\t\t<td>-0.5797509043642046</td>\n",
       "\t\t<td>0.7342974433930187</td>\n",
       "\t\t<td>-0.5541346563708683</td>\n",
       "\t\t<td>1.898787906000196</td>\n",
       "\t</tr>\n",
       "\t<tr>\n",
       "\t\t<td>0</td>\n",
       "\t\t<td>1</td>\n",
       "\t\t<td>1</td>\n",
       "\t\t<td>1</td>\n",
       "\t\t<td>0</td>\n",
       "\t\t<td>43</td>\n",
       "\t\t<td>1</td>\n",
       "\t\t<td>0</td>\n",
       "\t\t<td>0</td>\n",
       "\t\t<td>1</td>\n",
       "\t\t<td>1</td>\n",
       "\t\t<td>0</td>\n",
       "\t\t<td>43000.0</td>\n",
       "\t\t<td>0</td>\n",
       "\t\t<td>0.24261127446320968</td>\n",
       "\t\t<td>-0.7962575788492099</td>\n",
       "\t\t<td>-0.5797509043642046</td>\n",
       "\t\t<td>-0.7435145661134329</td>\n",
       "\t\t<td>-0.5541346563708683</td>\n",
       "\t\t<td>-0.6573799536608644</td>\n",
       "\t</tr>\n",
       "\t<tr>\n",
       "\t\t<td>0</td>\n",
       "\t\t<td>1</td>\n",
       "\t\t<td>1</td>\n",
       "\t\t<td>1</td>\n",
       "\t\t<td>0</td>\n",
       "\t\t<td>15</td>\n",
       "\t\t<td>1</td>\n",
       "\t\t<td>0</td>\n",
       "\t\t<td>0</td>\n",
       "\t\t<td>1</td>\n",
       "\t\t<td>1</td>\n",
       "\t\t<td>0</td>\n",
       "\t\t<td>61000.0</td>\n",
       "\t\t<td>0</td>\n",
       "\t\t<td>0.24261127446320968</td>\n",
       "\t\t<td>-0.7962575788492099</td>\n",
       "\t\t<td>-0.5797509043642046</td>\n",
       "\t\t<td>0.7342974433930187</td>\n",
       "\t\t<td>-0.5541346563708683</td>\n",
       "\t\t<td>-0.369480693248522</td>\n",
       "\t</tr>\n",
       "\t<tr>\n",
       "\t\t<td>0</td>\n",
       "\t\t<td>1</td>\n",
       "\t\t<td>1</td>\n",
       "\t\t<td>1</td>\n",
       "\t\t<td>0</td>\n",
       "\t\t<td>53</td>\n",
       "\t\t<td>1</td>\n",
       "\t\t<td>0</td>\n",
       "\t\t<td>0</td>\n",
       "\t\t<td>1</td>\n",
       "\t\t<td>1</td>\n",
       "\t\t<td>0</td>\n",
       "\t\t<td>43000.0</td>\n",
       "\t\t<td>0</td>\n",
       "\t\t<td>0.24261127446320968</td>\n",
       "\t\t<td>2.761016991675279</td>\n",
       "\t\t<td>-0.5797509043642046</td>\n",
       "\t\t<td>-0.7435145661134329</td>\n",
       "\t\t<td>-0.5541346563708683</td>\n",
       "\t\t<td>-0.714015873741981</td>\n",
       "\t</tr>\n",
       "\t<tr>\n",
       "\t\t<td>0</td>\n",
       "\t\t<td>1</td>\n",
       "\t\t<td>1</td>\n",
       "\t\t<td>1</td>\n",
       "\t\t<td>0</td>\n",
       "\t\t<td>17</td>\n",
       "\t\t<td>1</td>\n",
       "\t\t<td>0</td>\n",
       "\t\t<td>0</td>\n",
       "\t\t<td>1</td>\n",
       "\t\t<td>1</td>\n",
       "\t\t<td>0</td>\n",
       "\t\t<td>27000.0</td>\n",
       "\t\t<td>0</td>\n",
       "\t\t<td>0.24261127446320968</td>\n",
       "\t\t<td>-0.7962575788492099</td>\n",
       "\t\t<td>-0.5797509043642046</td>\n",
       "\t\t<td>-0.7435145661134329</td>\n",
       "\t\t<td>-0.5541346563708683</td>\n",
       "\t\t<td>-1.6249102550466057</td>\n",
       "\t</tr>\n",
       "\t<tr>\n",
       "\t\t<td>1</td>\n",
       "\t\t<td>0</td>\n",
       "\t\t<td>0</td>\n",
       "\t\t<td>1</td>\n",
       "\t\t<td>1</td>\n",
       "\t\t<td>40</td>\n",
       "\t\t<td>1</td>\n",
       "\t\t<td>0</td>\n",
       "\t\t<td>0</td>\n",
       "\t\t<td>0</td>\n",
       "\t\t<td>1</td>\n",
       "\t\t<td>1</td>\n",
       "\t\t<td>92500.0</td>\n",
       "\t\t<td>0</td>\n",
       "\t\t<td>-0.9243489557048288</td>\n",
       "\t\t<td>1.5752588015004494</td>\n",
       "\t\t<td>-0.5797509043642046</td>\n",
       "\t\t<td>0.7342974433930187</td>\n",
       "\t\t<td>1.8046155180928998</td>\n",
       "\t\t<td>1.0700156088131905</td>\n",
       "\t</tr>\n",
       "\t<tr>\n",
       "\t\t<td>1</td>\n",
       "\t\t<td>1</td>\n",
       "\t\t<td>0</td>\n",
       "\t\t<td>1</td>\n",
       "\t\t<td>0</td>\n",
       "\t\t<td>35</td>\n",
       "\t\t<td>0</td>\n",
       "\t\t<td>0</td>\n",
       "\t\t<td>0</td>\n",
       "\t\t<td>0</td>\n",
       "\t\t<td>1</td>\n",
       "\t\t<td>1</td>\n",
       "\t\t<td>78500.0</td>\n",
       "\t\t<td>1</td>\n",
       "\t\t<td>0.24261127446320968</td>\n",
       "\t\t<td>0.38950061132561975</td>\n",
       "\t\t<td>1.7248787237282124</td>\n",
       "\t\t<td>0.7342974433930187</td>\n",
       "\t\t<td>-0.5541346563708683</td>\n",
       "\t\t<td>-1.0977242322915457</td>\n",
       "\t</tr>\n",
       "\t<tr>\n",
       "\t\t<td>1</td>\n",
       "\t\t<td>1</td>\n",
       "\t\t<td>0</td>\n",
       "\t\t<td>1</td>\n",
       "\t\t<td>0</td>\n",
       "\t\t<td>24</td>\n",
       "\t\t<td>1</td>\n",
       "\t\t<td>0</td>\n",
       "\t\t<td>1</td>\n",
       "\t\t<td>0</td>\n",
       "\t\t<td>0</td>\n",
       "\t\t<td>1</td>\n",
       "\t\t<td>64900.0</td>\n",
       "\t\t<td>0</td>\n",
       "\t\t<td>-0.9243489557048288</td>\n",
       "\t\t<td>-0.7962575788492099</td>\n",
       "\t\t<td>1.7248787237282124</td>\n",
       "\t\t<td>0.7342974433930187</td>\n",
       "\t\t<td>-0.5541346563708683</td>\n",
       "\t\t<td>-0.4921918534242745</td>\n",
       "\t</tr>\n",
       "\t<tr>\n",
       "\t\t<td>1</td>\n",
       "\t\t<td>1</td>\n",
       "\t\t<td>0</td>\n",
       "\t\t<td>1</td>\n",
       "\t\t<td>0</td>\n",
       "\t\t<td>16</td>\n",
       "\t\t<td>1</td>\n",
       "\t\t<td>0</td>\n",
       "\t\t<td>0</td>\n",
       "\t\t<td>0</td>\n",
       "\t\t<td>1</td>\n",
       "\t\t<td>1</td>\n",
       "\t\t<td>72000.0</td>\n",
       "\t\t<td>0</td>\n",
       "\t\t<td>0.24261127446320968</td>\n",
       "\t\t<td>-0.7962575788492099</td>\n",
       "\t\t<td>-0.5797509043642046</td>\n",
       "\t\t<td>0.7342974433930187</td>\n",
       "\t\t<td>-0.5541346563708683</td>\n",
       "\t\t<td>2.622783751037136</td>\n",
       "\t</tr>\n",
       "</table></html>"
      ],
      "text/plain": [
       "   recroom_1  airco_0  recroom_0  gashw_0  airco_1  id  driveway_1  gashw_1  bedrooms_1  fullbase_0  bedrooms_0  fullbase_1    price  driveway_0   stories  garagepl   bathrms  homestyle  prefarea   lotsize\n",
       "0          0        1          1        1        0  21           1        0           0           1           1           0  44555.0           0 -0.924349 -0.796258 -0.579751  -0.743515  1.804616 -1.295478\n",
       "1          0        0          1        1        1  11           1        0           1           0           0           1  68000.0           0 -0.924349  1.575259 -0.579751   0.734297 -0.554135  1.898788\n",
       "2          0        1          1        1        0  43           1        0           0           1           1           0  43000.0           0  0.242611 -0.796258 -0.579751  -0.743515 -0.554135 -0.657380\n",
       "3          0        1          1        1        0  15           1        0           0           1           1           0  61000.0           0  0.242611 -0.796258 -0.579751   0.734297 -0.554135 -0.369481\n",
       "4          0        1          1        1        0  53           1        0           0           1           1           0  43000.0           0  0.242611  2.761017 -0.579751  -0.743515 -0.554135 -0.714016\n",
       "5          0        1          1        1        0  17           1        0           0           1           1           0  27000.0           0  0.242611 -0.796258 -0.579751  -0.743515 -0.554135 -1.624910\n",
       "6          1        0          0        1        1  40           1        0           0           0           1           1  92500.0           0 -0.924349  1.575259 -0.579751   0.734297  1.804616  1.070016\n",
       "7          1        1          0        1        0  35           0        0           0           0           1           1  78500.0           1  0.242611  0.389501  1.724879   0.734297 -0.554135 -1.097724\n",
       "8          1        1          0        1        0  24           1        0           1           0           0           1  64900.0           0 -0.924349 -0.796258  1.724879   0.734297 -0.554135 -0.492192\n",
       "9          1        1          0        1        0  16           1        0           0           0           1           1  72000.0           0  0.242611 -0.796258 -0.579751   0.734297 -0.554135  2.622784"
      ]
     },
     "metadata": {},
     "output_type": "display_data"
    },
    {
     "name": "stdout",
     "output_type": "stream",
     "text": [
      "                                                                                                  \r"
     ]
    },
    {
     "data": {
      "text/html": [
       "46 rows X 20 columns"
      ],
      "text/plain": [
       "<IPython.core.display.HTML object>"
      ]
     },
     "metadata": {},
     "output_type": "display_data"
    },
    {
     "name": "stdout",
     "output_type": "stream",
     "text": [
      "                                                                                                  \r"
     ]
    },
    {
     "data": {
      "text/html": [
       "\n",
       "Updated dataset after performing RFE feature selection:"
      ],
      "text/plain": [
       "<IPython.core.display.HTML object>"
      ]
     },
     "metadata": {},
     "output_type": "display_data"
    },
    {
     "data": {
      "text/html": [
       "<style type=\"text/css\">\n",
       "\ttable {border:ridge 5px;}\n",
       "\ttable td {border:inset 1px;}\n",
       "\ttable tr#HeaderRow {background-color:grey; color:white;}</style>\n",
       "<html><table>\n",
       "\t<tr id=\"HeaderRow\">\n",
       "\t\t<th>id</th>\n",
       "\t\t<th>stories</th>\n",
       "\t\t<th>garagepl</th>\n",
       "\t\t<th>bathrms</th>\n",
       "\t\t<th>airco_0</th>\n",
       "\t\t<th>bedrooms_1</th>\n",
       "\t\t<th>homestyle</th>\n",
       "\t\t<th>fullbase_0</th>\n",
       "\t\t<th>prefarea</th>\n",
       "\t\t<th>lotsize</th>\n",
       "\t\t<th>price</th>\n",
       "\t</tr>\n",
       "\t<tr>\n",
       "\t\t<td>24</td>\n",
       "\t\t<td>1</td>\n",
       "\t\t<td>0</td>\n",
       "\t\t<td>2</td>\n",
       "\t\t<td>1</td>\n",
       "\t\t<td>1</td>\n",
       "\t\t<td>2</td>\n",
       "\t\t<td>0</td>\n",
       "\t\t<td>62906.336</td>\n",
       "\t\t<td>4100.0</td>\n",
       "\t\t<td>64900.0</td>\n",
       "\t</tr>\n",
       "\t<tr>\n",
       "\t\t<td>32</td>\n",
       "\t\t<td>1</td>\n",
       "\t\t<td>0</td>\n",
       "\t\t<td>1</td>\n",
       "\t\t<td>0</td>\n",
       "\t\t<td>0</td>\n",
       "\t\t<td>2</td>\n",
       "\t\t<td>0</td>\n",
       "\t\t<td>83851.7241</td>\n",
       "\t\t<td>6825.0</td>\n",
       "\t\t<td>77500.0</td>\n",
       "\t</tr>\n",
       "\t<tr>\n",
       "\t\t<td>8</td>\n",
       "\t\t<td>2</td>\n",
       "\t\t<td>0</td>\n",
       "\t\t<td>1</td>\n",
       "\t\t<td>1</td>\n",
       "\t\t<td>1</td>\n",
       "\t\t<td>2</td>\n",
       "\t\t<td>1</td>\n",
       "\t\t<td>83851.7241</td>\n",
       "\t\t<td>2176.0</td>\n",
       "\t\t<td>55000.0</td>\n",
       "\t</tr>\n",
       "\t<tr>\n",
       "\t\t<td>27</td>\n",
       "\t\t<td>1</td>\n",
       "\t\t<td>0</td>\n",
       "\t\t<td>1</td>\n",
       "\t\t<td>1</td>\n",
       "\t\t<td>0</td>\n",
       "\t\t<td>2</td>\n",
       "\t\t<td>0</td>\n",
       "\t\t<td>83851.7241</td>\n",
       "\t\t<td>2787.0</td>\n",
       "\t\t<td>60500.0</td>\n",
       "\t</tr>\n",
       "\t<tr>\n",
       "\t\t<td>21</td>\n",
       "\t\t<td>1</td>\n",
       "\t\t<td>0</td>\n",
       "\t\t<td>1</td>\n",
       "\t\t<td>1</td>\n",
       "\t\t<td>0</td>\n",
       "\t\t<td>1</td>\n",
       "\t\t<td>1</td>\n",
       "\t\t<td>83851.7241</td>\n",
       "\t\t<td>2398.0</td>\n",
       "\t\t<td>44555.0</td>\n",
       "\t</tr>\n",
       "\t<tr>\n",
       "\t\t<td>22</td>\n",
       "\t\t<td>3</td>\n",
       "\t\t<td>0</td>\n",
       "\t\t<td>1</td>\n",
       "\t\t<td>1</td>\n",
       "\t\t<td>0</td>\n",
       "\t\t<td>2</td>\n",
       "\t\t<td>0</td>\n",
       "\t\t<td>83851.7241</td>\n",
       "\t\t<td>6420.0</td>\n",
       "\t\t<td>87500.0</td>\n",
       "\t</tr>\n",
       "\t<tr>\n",
       "\t\t<td>11</td>\n",
       "\t\t<td>1</td>\n",
       "\t\t<td>2</td>\n",
       "\t\t<td>1</td>\n",
       "\t\t<td>0</td>\n",
       "\t\t<td>1</td>\n",
       "\t\t<td>2</td>\n",
       "\t\t<td>0</td>\n",
       "\t\t<td>62906.336</td>\n",
       "\t\t<td>9166.0</td>\n",
       "\t\t<td>68000.0</td>\n",
       "\t</tr>\n",
       "\t<tr>\n",
       "\t\t<td>43</td>\n",
       "\t\t<td>2</td>\n",
       "\t\t<td>0</td>\n",
       "\t\t<td>1</td>\n",
       "\t\t<td>1</td>\n",
       "\t\t<td>0</td>\n",
       "\t\t<td>1</td>\n",
       "\t\t<td>1</td>\n",
       "\t\t<td>62906.336</td>\n",
       "\t\t<td>3750.0</td>\n",
       "\t\t<td>43000.0</td>\n",
       "\t</tr>\n",
       "\t<tr>\n",
       "\t\t<td>15</td>\n",
       "\t\t<td>2</td>\n",
       "\t\t<td>0</td>\n",
       "\t\t<td>1</td>\n",
       "\t\t<td>1</td>\n",
       "\t\t<td>0</td>\n",
       "\t\t<td>2</td>\n",
       "\t\t<td>1</td>\n",
       "\t\t<td>62906.336</td>\n",
       "\t\t<td>4360.0</td>\n",
       "\t\t<td>61000.0</td>\n",
       "\t</tr>\n",
       "\t<tr>\n",
       "\t\t<td>37</td>\n",
       "\t\t<td>2</td>\n",
       "\t\t<td>2</td>\n",
       "\t\t<td>1</td>\n",
       "\t\t<td>1</td>\n",
       "\t\t<td>0</td>\n",
       "\t\t<td>2</td>\n",
       "\t\t<td>1</td>\n",
       "\t\t<td>62906.336</td>\n",
       "\t\t<td>3760.0</td>\n",
       "\t\t<td>93000.0</td>\n",
       "\t</tr>\n",
       "</table></html>"
      ],
      "text/plain": [
       "   id  stories  garagepl  bathrms  airco_0  bedrooms_1  homestyle  fullbase_0    prefarea  lotsize    price\n",
       "0  24        1         0        2        1           1          2           0  62906.3360   4100.0  64900.0\n",
       "1  32        1         0        1        0           0          2           0  83851.7241   6825.0  77500.0\n",
       "2   8        2         0        1        1           1          2           1  83851.7241   2176.0  55000.0\n",
       "3  27        1         0        1        1           0          2           0  83851.7241   2787.0  60500.0\n",
       "4  21        1         0        1        1           0          1           1  83851.7241   2398.0  44555.0\n",
       "5  22        3         0        1        1           0          2           0  83851.7241   6420.0  87500.0\n",
       "6  11        1         2        1        0           1          2           0  62906.3360   9166.0  68000.0\n",
       "7  43        2         0        1        1           0          1           1  62906.3360   3750.0  43000.0\n",
       "8  15        2         0        1        1           0          2           1  62906.3360   4360.0  61000.0\n",
       "9  37        2         2        1        1           0          2           1  62906.3360   3760.0  93000.0"
      ]
     },
     "metadata": {},
     "output_type": "display_data"
    },
    {
     "name": "stdout",
     "output_type": "stream",
     "text": [
      "                                                                                                  \r"
     ]
    },
    {
     "data": {
      "text/html": [
       "46 rows X 11 columns"
      ],
      "text/plain": [
       "<IPython.core.display.HTML object>"
      ]
     },
     "metadata": {},
     "output_type": "display_data"
    },
    {
     "name": "stdout",
     "output_type": "stream",
     "text": [
      "                                                                                                  \r"
     ]
    },
    {
     "data": {
      "text/html": [
       "\n",
       "Updated dataset after performing scaling on RFE selected features :"
      ],
      "text/plain": [
       "<IPython.core.display.HTML object>"
      ]
     },
     "metadata": {},
     "output_type": "display_data"
    },
    {
     "data": {
      "text/html": [
       "<style type=\"text/css\">\n",
       "\ttable {border:ridge 5px;}\n",
       "\ttable td {border:inset 1px;}\n",
       "\ttable tr#HeaderRow {background-color:grey; color:white;}</style>\n",
       "<html><table>\n",
       "\t<tr id=\"HeaderRow\">\n",
       "\t\t<th>r_bedrooms_1</th>\n",
       "\t\t<th>r_fullbase_0</th>\n",
       "\t\t<th>id</th>\n",
       "\t\t<th>price</th>\n",
       "\t\t<th>r_airco_0</th>\n",
       "\t\t<th>r_stories</th>\n",
       "\t\t<th>r_garagepl</th>\n",
       "\t\t<th>r_bathrms</th>\n",
       "\t\t<th>r_homestyle</th>\n",
       "\t\t<th>r_prefarea</th>\n",
       "\t\t<th>r_lotsize</th>\n",
       "\t</tr>\n",
       "\t<tr>\n",
       "\t\t<td>1</td>\n",
       "\t\t<td>0</td>\n",
       "\t\t<td>24</td>\n",
       "\t\t<td>64900.0</td>\n",
       "\t\t<td>1</td>\n",
       "\t\t<td>-0.9243489557048288</td>\n",
       "\t\t<td>-0.7962575788492099</td>\n",
       "\t\t<td>1.7248787237282124</td>\n",
       "\t\t<td>0.7342974433930187</td>\n",
       "\t\t<td>-0.5541346563708683</td>\n",
       "\t\t<td>-0.4921918534242745</td>\n",
       "\t</tr>\n",
       "\t<tr>\n",
       "\t\t<td>0</td>\n",
       "\t\t<td>0</td>\n",
       "\t\t<td>32</td>\n",
       "\t\t<td>77500.0</td>\n",
       "\t\t<td>0</td>\n",
       "\t\t<td>-0.9243489557048288</td>\n",
       "\t\t<td>-0.7962575788492099</td>\n",
       "\t\t<td>-0.5797509043642046</td>\n",
       "\t\t<td>0.7342974433930187</td>\n",
       "\t\t<td>1.8046155180928998</td>\n",
       "\t\t<td>0.7939154984177472</td>\n",
       "\t</tr>\n",
       "\t<tr>\n",
       "\t\t<td>1</td>\n",
       "\t\t<td>1</td>\n",
       "\t\t<td>8</td>\n",
       "\t\t<td>55000.0</td>\n",
       "\t\t<td>1</td>\n",
       "\t\t<td>0.24261127446320968</td>\n",
       "\t\t<td>-0.7962575788492099</td>\n",
       "\t\t<td>-0.5797509043642046</td>\n",
       "\t\t<td>0.7342974433930187</td>\n",
       "\t\t<td>1.8046155180928998</td>\n",
       "\t\t<td>-1.4002544387248432</td>\n",
       "\t</tr>\n",
       "\t<tr>\n",
       "\t\t<td>0</td>\n",
       "\t\t<td>0</td>\n",
       "\t\t<td>27</td>\n",
       "\t\t<td>60500.0</td>\n",
       "\t\t<td>1</td>\n",
       "\t\t<td>-0.9243489557048288</td>\n",
       "\t\t<td>-0.7962575788492099</td>\n",
       "\t\t<td>-0.5797509043642046</td>\n",
       "\t\t<td>0.7342974433930187</td>\n",
       "\t\t<td>1.8046155180928998</td>\n",
       "\t\t<td>-1.1118832123118247</td>\n",
       "\t</tr>\n",
       "\t<tr>\n",
       "\t\t<td>0</td>\n",
       "\t\t<td>1</td>\n",
       "\t\t<td>21</td>\n",
       "\t\t<td>44555.0</td>\n",
       "\t\t<td>1</td>\n",
       "\t\t<td>-0.9243489557048288</td>\n",
       "\t\t<td>-0.7962575788492099</td>\n",
       "\t\t<td>-0.5797509043642046</td>\n",
       "\t\t<td>-0.7435145661134329</td>\n",
       "\t\t<td>1.8046155180928998</td>\n",
       "\t\t<td>-1.2954779865747776</td>\n",
       "\t</tr>\n",
       "\t<tr>\n",
       "\t\t<td>0</td>\n",
       "\t\t<td>0</td>\n",
       "\t\t<td>22</td>\n",
       "\t\t<td>87500.0</td>\n",
       "\t\t<td>1</td>\n",
       "\t\t<td>1.4095715046312483</td>\n",
       "\t\t<td>-0.7962575788492099</td>\n",
       "\t\t<td>-0.5797509043642046</td>\n",
       "\t\t<td>0.7342974433930187</td>\n",
       "\t\t<td>1.8046155180928998</td>\n",
       "\t\t<td>0.6027692681439788</td>\n",
       "\t</tr>\n",
       "\t<tr>\n",
       "\t\t<td>1</td>\n",
       "\t\t<td>0</td>\n",
       "\t\t<td>11</td>\n",
       "\t\t<td>68000.0</td>\n",
       "\t\t<td>0</td>\n",
       "\t\t<td>-0.9243489557048288</td>\n",
       "\t\t<td>1.5752588015004494</td>\n",
       "\t\t<td>-0.5797509043642046</td>\n",
       "\t\t<td>0.7342974433930187</td>\n",
       "\t\t<td>-0.5541346563708683</td>\n",
       "\t\t<td>1.898787906000196</td>\n",
       "\t</tr>\n",
       "\t<tr>\n",
       "\t\t<td>0</td>\n",
       "\t\t<td>1</td>\n",
       "\t\t<td>43</td>\n",
       "\t\t<td>43000.0</td>\n",
       "\t\t<td>1</td>\n",
       "\t\t<td>0.24261127446320968</td>\n",
       "\t\t<td>-0.7962575788492099</td>\n",
       "\t\t<td>-0.5797509043642046</td>\n",
       "\t\t<td>-0.7435145661134329</td>\n",
       "\t\t<td>-0.5541346563708683</td>\n",
       "\t\t<td>-0.6573799536608644</td>\n",
       "\t</tr>\n",
       "\t<tr>\n",
       "\t\t<td>0</td>\n",
       "\t\t<td>1</td>\n",
       "\t\t<td>15</td>\n",
       "\t\t<td>61000.0</td>\n",
       "\t\t<td>1</td>\n",
       "\t\t<td>0.24261127446320968</td>\n",
       "\t\t<td>-0.7962575788492099</td>\n",
       "\t\t<td>-0.5797509043642046</td>\n",
       "\t\t<td>0.7342974433930187</td>\n",
       "\t\t<td>-0.5541346563708683</td>\n",
       "\t\t<td>-0.369480693248522</td>\n",
       "\t</tr>\n",
       "\t<tr>\n",
       "\t\t<td>0</td>\n",
       "\t\t<td>1</td>\n",
       "\t\t<td>37</td>\n",
       "\t\t<td>93000.0</td>\n",
       "\t\t<td>1</td>\n",
       "\t\t<td>0.24261127446320968</td>\n",
       "\t\t<td>1.5752588015004494</td>\n",
       "\t\t<td>-0.5797509043642046</td>\n",
       "\t\t<td>0.7342974433930187</td>\n",
       "\t\t<td>-0.5541346563708683</td>\n",
       "\t\t<td>-0.6526602936541048</td>\n",
       "\t</tr>\n",
       "</table></html>"
      ],
      "text/plain": [
       "   r_bedrooms_1  r_fullbase_0  id    price  r_airco_0  r_stories  r_garagepl  r_bathrms  r_homestyle  r_prefarea  r_lotsize\n",
       "0             1             0  24  64900.0          1  -0.924349   -0.796258   1.724879     0.734297   -0.554135  -0.492192\n",
       "1             0             0  32  77500.0          0  -0.924349   -0.796258  -0.579751     0.734297    1.804616   0.793915\n",
       "2             1             1   8  55000.0          1   0.242611   -0.796258  -0.579751     0.734297    1.804616  -1.400254\n",
       "3             0             0  27  60500.0          1  -0.924349   -0.796258  -0.579751     0.734297    1.804616  -1.111883\n",
       "4             0             1  21  44555.0          1  -0.924349   -0.796258  -0.579751    -0.743515    1.804616  -1.295478\n",
       "5             0             0  22  87500.0          1   1.409572   -0.796258  -0.579751     0.734297    1.804616   0.602769\n",
       "6             1             0  11  68000.0          0  -0.924349    1.575259  -0.579751     0.734297   -0.554135   1.898788\n",
       "7             0             1  43  43000.0          1   0.242611   -0.796258  -0.579751    -0.743515   -0.554135  -0.657380\n",
       "8             0             1  15  61000.0          1   0.242611   -0.796258  -0.579751     0.734297   -0.554135  -0.369481\n",
       "9             0             1  37  93000.0          1   0.242611    1.575259  -0.579751     0.734297   -0.554135  -0.652660"
      ]
     },
     "metadata": {},
     "output_type": "display_data"
    },
    {
     "name": "stdout",
     "output_type": "stream",
     "text": [
      "                                                                                                  \r"
     ]
    },
    {
     "data": {
      "text/html": [
       "46 rows X 11 columns"
      ],
      "text/plain": [
       "<IPython.core.display.HTML object>"
      ]
     },
     "metadata": {},
     "output_type": "display_data"
    },
    {
     "name": "stdout",
     "output_type": "stream",
     "text": [
      "                                                                                                  \r"
     ]
    },
    {
     "data": {
      "text/html": [
       "\n",
       "Updated dataset after performing scaling for PCA feature selection :"
      ],
      "text/plain": [
       "<IPython.core.display.HTML object>"
      ]
     },
     "metadata": {},
     "output_type": "display_data"
    },
    {
     "data": {
      "text/html": [
       "<style type=\"text/css\">\n",
       "\ttable {border:ridge 5px;}\n",
       "\ttable td {border:inset 1px;}\n",
       "\ttable tr#HeaderRow {background-color:grey; color:white;}</style>\n",
       "<html><table>\n",
       "\t<tr id=\"HeaderRow\">\n",
       "\t\t<th>recroom_1</th>\n",
       "\t\t<th>airco_0</th>\n",
       "\t\t<th>recroom_0</th>\n",
       "\t\t<th>gashw_0</th>\n",
       "\t\t<th>airco_1</th>\n",
       "\t\t<th>id</th>\n",
       "\t\t<th>driveway_1</th>\n",
       "\t\t<th>gashw_1</th>\n",
       "\t\t<th>bedrooms_1</th>\n",
       "\t\t<th>fullbase_0</th>\n",
       "\t\t<th>bedrooms_0</th>\n",
       "\t\t<th>fullbase_1</th>\n",
       "\t\t<th>price</th>\n",
       "\t\t<th>driveway_0</th>\n",
       "\t\t<th>prefarea</th>\n",
       "\t\t<th>bathrms</th>\n",
       "\t\t<th>stories</th>\n",
       "\t\t<th>homestyle</th>\n",
       "\t\t<th>lotsize</th>\n",
       "\t\t<th>garagepl</th>\n",
       "\t</tr>\n",
       "\t<tr>\n",
       "\t\t<td>1</td>\n",
       "\t\t<td>1</td>\n",
       "\t\t<td>0</td>\n",
       "\t\t<td>1</td>\n",
       "\t\t<td>0</td>\n",
       "\t\t<td>24</td>\n",
       "\t\t<td>1</td>\n",
       "\t\t<td>0</td>\n",
       "\t\t<td>1</td>\n",
       "\t\t<td>0</td>\n",
       "\t\t<td>0</td>\n",
       "\t\t<td>1</td>\n",
       "\t\t<td>64900.0</td>\n",
       "\t\t<td>0</td>\n",
       "\t\t<td>-0.5541346539875237</td>\n",
       "\t\t<td>1.7248787237282066</td>\n",
       "\t\t<td>-0.9243489557048274</td>\n",
       "\t\t<td>0.7342974433930172</td>\n",
       "\t\t<td>-0.49219185342427485</td>\n",
       "\t\t<td>-0.7962575788492109</td>\n",
       "\t</tr>\n",
       "\t<tr>\n",
       "\t\t<td>1</td>\n",
       "\t\t<td>0</td>\n",
       "\t\t<td>0</td>\n",
       "\t\t<td>1</td>\n",
       "\t\t<td>1</td>\n",
       "\t\t<td>32</td>\n",
       "\t\t<td>1</td>\n",
       "\t\t<td>0</td>\n",
       "\t\t<td>0</td>\n",
       "\t\t<td>0</td>\n",
       "\t\t<td>1</td>\n",
       "\t\t<td>1</td>\n",
       "\t\t<td>77500.0</td>\n",
       "\t\t<td>0</td>\n",
       "\t\t<td>1.804615513821303</td>\n",
       "\t\t<td>-0.5797509043642026</td>\n",
       "\t\t<td>-0.9243489557048274</td>\n",
       "\t\t<td>0.7342974433930172</td>\n",
       "\t\t<td>0.7939154984177478</td>\n",
       "\t\t<td>-0.7962575788492109</td>\n",
       "\t</tr>\n",
       "\t<tr>\n",
       "\t\t<td>1</td>\n",
       "\t\t<td>1</td>\n",
       "\t\t<td>0</td>\n",
       "\t\t<td>1</td>\n",
       "\t\t<td>0</td>\n",
       "\t\t<td>8</td>\n",
       "\t\t<td>1</td>\n",
       "\t\t<td>0</td>\n",
       "\t\t<td>1</td>\n",
       "\t\t<td>1</td>\n",
       "\t\t<td>0</td>\n",
       "\t\t<td>0</td>\n",
       "\t\t<td>55000.0</td>\n",
       "\t\t<td>0</td>\n",
       "\t\t<td>1.804615513821303</td>\n",
       "\t\t<td>-0.5797509043642026</td>\n",
       "\t\t<td>0.24261127446320932</td>\n",
       "\t\t<td>0.7342974433930172</td>\n",
       "\t\t<td>-1.4002544387248441</td>\n",
       "\t\t<td>-0.7962575788492109</td>\n",
       "\t</tr>\n",
       "\t<tr>\n",
       "\t\t<td>0</td>\n",
       "\t\t<td>1</td>\n",
       "\t\t<td>1</td>\n",
       "\t\t<td>1</td>\n",
       "\t\t<td>0</td>\n",
       "\t\t<td>27</td>\n",
       "\t\t<td>1</td>\n",
       "\t\t<td>0</td>\n",
       "\t\t<td>0</td>\n",
       "\t\t<td>0</td>\n",
       "\t\t<td>1</td>\n",
       "\t\t<td>1</td>\n",
       "\t\t<td>60500.0</td>\n",
       "\t\t<td>0</td>\n",
       "\t\t<td>1.804615513821303</td>\n",
       "\t\t<td>-0.5797509043642026</td>\n",
       "\t\t<td>-0.9243489557048274</td>\n",
       "\t\t<td>0.7342974433930172</td>\n",
       "\t\t<td>-1.1118832123118256</td>\n",
       "\t\t<td>-0.7962575788492109</td>\n",
       "\t</tr>\n",
       "\t<tr>\n",
       "\t\t<td>0</td>\n",
       "\t\t<td>1</td>\n",
       "\t\t<td>1</td>\n",
       "\t\t<td>1</td>\n",
       "\t\t<td>0</td>\n",
       "\t\t<td>21</td>\n",
       "\t\t<td>1</td>\n",
       "\t\t<td>0</td>\n",
       "\t\t<td>0</td>\n",
       "\t\t<td>1</td>\n",
       "\t\t<td>1</td>\n",
       "\t\t<td>0</td>\n",
       "\t\t<td>44555.0</td>\n",
       "\t\t<td>0</td>\n",
       "\t\t<td>1.804615513821303</td>\n",
       "\t\t<td>-0.5797509043642026</td>\n",
       "\t\t<td>-0.9243489557048274</td>\n",
       "\t\t<td>-0.7435145661134314</td>\n",
       "\t\t<td>-1.2954779865747785</td>\n",
       "\t\t<td>-0.7962575788492109</td>\n",
       "\t</tr>\n",
       "\t<tr>\n",
       "\t\t<td>0</td>\n",
       "\t\t<td>1</td>\n",
       "\t\t<td>1</td>\n",
       "\t\t<td>1</td>\n",
       "\t\t<td>0</td>\n",
       "\t\t<td>22</td>\n",
       "\t\t<td>1</td>\n",
       "\t\t<td>0</td>\n",
       "\t\t<td>0</td>\n",
       "\t\t<td>0</td>\n",
       "\t\t<td>1</td>\n",
       "\t\t<td>1</td>\n",
       "\t\t<td>87500.0</td>\n",
       "\t\t<td>0</td>\n",
       "\t\t<td>1.804615513821303</td>\n",
       "\t\t<td>-0.5797509043642026</td>\n",
       "\t\t<td>1.409571504631246</td>\n",
       "\t\t<td>0.7342974433930172</td>\n",
       "\t\t<td>0.6027692681439792</td>\n",
       "\t\t<td>-0.7962575788492109</td>\n",
       "\t</tr>\n",
       "\t<tr>\n",
       "\t\t<td>0</td>\n",
       "\t\t<td>0</td>\n",
       "\t\t<td>1</td>\n",
       "\t\t<td>1</td>\n",
       "\t\t<td>1</td>\n",
       "\t\t<td>11</td>\n",
       "\t\t<td>1</td>\n",
       "\t\t<td>0</td>\n",
       "\t\t<td>1</td>\n",
       "\t\t<td>0</td>\n",
       "\t\t<td>0</td>\n",
       "\t\t<td>1</td>\n",
       "\t\t<td>68000.0</td>\n",
       "\t\t<td>0</td>\n",
       "\t\t<td>-0.5541346539875237</td>\n",
       "\t\t<td>-0.5797509043642026</td>\n",
       "\t\t<td>-0.9243489557048274</td>\n",
       "\t\t<td>0.7342974433930172</td>\n",
       "\t\t<td>1.8987879060001973</td>\n",
       "\t\t<td>1.5752588015004514</td>\n",
       "\t</tr>\n",
       "\t<tr>\n",
       "\t\t<td>0</td>\n",
       "\t\t<td>1</td>\n",
       "\t\t<td>1</td>\n",
       "\t\t<td>1</td>\n",
       "\t\t<td>0</td>\n",
       "\t\t<td>43</td>\n",
       "\t\t<td>1</td>\n",
       "\t\t<td>0</td>\n",
       "\t\t<td>0</td>\n",
       "\t\t<td>1</td>\n",
       "\t\t<td>1</td>\n",
       "\t\t<td>0</td>\n",
       "\t\t<td>43000.0</td>\n",
       "\t\t<td>0</td>\n",
       "\t\t<td>-0.5541346539875237</td>\n",
       "\t\t<td>-0.5797509043642026</td>\n",
       "\t\t<td>0.24261127446320932</td>\n",
       "\t\t<td>-0.7435145661134314</td>\n",
       "\t\t<td>-0.6573799536608649</td>\n",
       "\t\t<td>-0.7962575788492109</td>\n",
       "\t</tr>\n",
       "\t<tr>\n",
       "\t\t<td>0</td>\n",
       "\t\t<td>1</td>\n",
       "\t\t<td>1</td>\n",
       "\t\t<td>1</td>\n",
       "\t\t<td>0</td>\n",
       "\t\t<td>15</td>\n",
       "\t\t<td>1</td>\n",
       "\t\t<td>0</td>\n",
       "\t\t<td>0</td>\n",
       "\t\t<td>1</td>\n",
       "\t\t<td>1</td>\n",
       "\t\t<td>0</td>\n",
       "\t\t<td>61000.0</td>\n",
       "\t\t<td>0</td>\n",
       "\t\t<td>-0.5541346539875237</td>\n",
       "\t\t<td>-0.5797509043642026</td>\n",
       "\t\t<td>0.24261127446320932</td>\n",
       "\t\t<td>0.7342974433930172</td>\n",
       "\t\t<td>-0.36948069324852223</td>\n",
       "\t\t<td>-0.7962575788492109</td>\n",
       "\t</tr>\n",
       "\t<tr>\n",
       "\t\t<td>0</td>\n",
       "\t\t<td>1</td>\n",
       "\t\t<td>1</td>\n",
       "\t\t<td>0</td>\n",
       "\t\t<td>0</td>\n",
       "\t\t<td>37</td>\n",
       "\t\t<td>1</td>\n",
       "\t\t<td>1</td>\n",
       "\t\t<td>0</td>\n",
       "\t\t<td>1</td>\n",
       "\t\t<td>1</td>\n",
       "\t\t<td>0</td>\n",
       "\t\t<td>93000.0</td>\n",
       "\t\t<td>0</td>\n",
       "\t\t<td>-0.5541346539875237</td>\n",
       "\t\t<td>-0.5797509043642026</td>\n",
       "\t\t<td>0.24261127446320932</td>\n",
       "\t\t<td>0.7342974433930172</td>\n",
       "\t\t<td>-0.6526602936541052</td>\n",
       "\t\t<td>1.5752588015004514</td>\n",
       "\t</tr>\n",
       "</table></html>"
      ],
      "text/plain": [
       "   recroom_1  airco_0  recroom_0  gashw_0  airco_1  id  driveway_1  gashw_1  bedrooms_1  fullbase_0  bedrooms_0  fullbase_1    price  driveway_0  prefarea   bathrms   stories  homestyle   lotsize  garagepl\n",
       "0          1        1          0        1        0  24           1        0           1           0           0           1  64900.0           0 -0.554135  1.724879 -0.924349   0.734297 -0.492192 -0.796258\n",
       "1          1        0          0        1        1  32           1        0           0           0           1           1  77500.0           0  1.804616 -0.579751 -0.924349   0.734297  0.793915 -0.796258\n",
       "2          1        1          0        1        0   8           1        0           1           1           0           0  55000.0           0  1.804616 -0.579751  0.242611   0.734297 -1.400254 -0.796258\n",
       "3          0        1          1        1        0  27           1        0           0           0           1           1  60500.0           0  1.804616 -0.579751 -0.924349   0.734297 -1.111883 -0.796258\n",
       "4          0        1          1        1        0  21           1        0           0           1           1           0  44555.0           0  1.804616 -0.579751 -0.924349  -0.743515 -1.295478 -0.796258\n",
       "5          0        1          1        1        0  22           1        0           0           0           1           1  87500.0           0  1.804616 -0.579751  1.409572   0.734297  0.602769 -0.796258\n",
       "6          0        0          1        1        1  11           1        0           1           0           0           1  68000.0           0 -0.554135 -0.579751 -0.924349   0.734297  1.898788  1.575259\n",
       "7          0        1          1        1        0  43           1        0           0           1           1           0  43000.0           0 -0.554135 -0.579751  0.242611  -0.743515 -0.657380 -0.796258\n",
       "8          0        1          1        1        0  15           1        0           0           1           1           0  61000.0           0 -0.554135 -0.579751  0.242611   0.734297 -0.369481 -0.796258\n",
       "9          0        1          1        0        0  37           1        1           0           1           1           0  93000.0           0 -0.554135 -0.579751  0.242611   0.734297 -0.652660  1.575259"
      ]
     },
     "metadata": {},
     "output_type": "display_data"
    },
    {
     "name": "stdout",
     "output_type": "stream",
     "text": [
      "                                                                                                  \r"
     ]
    },
    {
     "data": {
      "text/html": [
       "46 rows X 20 columns"
      ],
      "text/plain": [
       "<IPython.core.display.HTML object>"
      ]
     },
     "metadata": {},
     "output_type": "display_data"
    },
    {
     "name": "stdout",
     "output_type": "stream",
     "text": [
      "                                                                                                  \r"
     ]
    },
    {
     "name": "stderr",
     "output_type": "stream",
     "text": [
      "C:\\ProgramData\\anaconda3\\lib\\site-packages\\sklearn\\base.py:450: UserWarning: X does not have valid feature names, but PCA was fitted with feature names\n",
      "  warnings.warn(\n"
     ]
    },
    {
     "data": {
      "text/html": [
       "\n",
       "Updated dataset after performing PCA feature selection :"
      ],
      "text/plain": [
       "<IPython.core.display.HTML object>"
      ]
     },
     "metadata": {},
     "output_type": "display_data"
    },
    {
     "data": {
      "text/html": [
       "<div>\n",
       "<style scoped>\n",
       "    .dataframe tbody tr th:only-of-type {\n",
       "        vertical-align: middle;\n",
       "    }\n",
       "\n",
       "    .dataframe tbody tr th {\n",
       "        vertical-align: top;\n",
       "    }\n",
       "\n",
       "    .dataframe thead th {\n",
       "        text-align: right;\n",
       "    }\n",
       "</style>\n",
       "<table border=\"1\" class=\"dataframe\">\n",
       "  <thead>\n",
       "    <tr style=\"text-align: right;\">\n",
       "      <th></th>\n",
       "      <th>id</th>\n",
       "      <th>col_0</th>\n",
       "      <th>col_1</th>\n",
       "      <th>col_2</th>\n",
       "      <th>col_3</th>\n",
       "      <th>col_4</th>\n",
       "      <th>col_5</th>\n",
       "      <th>col_6</th>\n",
       "      <th>col_7</th>\n",
       "      <th>col_8</th>\n",
       "      <th>col_9</th>\n",
       "      <th>price</th>\n",
       "    </tr>\n",
       "  </thead>\n",
       "  <tbody>\n",
       "    <tr>\n",
       "      <th>0</th>\n",
       "      <td>40</td>\n",
       "      <td>1.517005</td>\n",
       "      <td>2.635827</td>\n",
       "      <td>-0.254247</td>\n",
       "      <td>0.423657</td>\n",
       "      <td>-0.071790</td>\n",
       "      <td>-0.699173</td>\n",
       "      <td>1.123907</td>\n",
       "      <td>0.539062</td>\n",
       "      <td>-0.023292</td>\n",
       "      <td>0.589272</td>\n",
       "      <td>92500.0</td>\n",
       "    </tr>\n",
       "    <tr>\n",
       "      <th>1</th>\n",
       "      <td>27</td>\n",
       "      <td>-0.907076</td>\n",
       "      <td>1.115731</td>\n",
       "      <td>-1.753948</td>\n",
       "      <td>1.240695</td>\n",
       "      <td>0.341903</td>\n",
       "      <td>-0.906526</td>\n",
       "      <td>-0.000200</td>\n",
       "      <td>-0.165580</td>\n",
       "      <td>-0.384095</td>\n",
       "      <td>-0.464056</td>\n",
       "      <td>60500.0</td>\n",
       "    </tr>\n",
       "    <tr>\n",
       "      <th>2</th>\n",
       "      <td>35</td>\n",
       "      <td>0.199440</td>\n",
       "      <td>-0.655693</td>\n",
       "      <td>-0.973420</td>\n",
       "      <td>-1.287750</td>\n",
       "      <td>1.822717</td>\n",
       "      <td>-0.705320</td>\n",
       "      <td>0.523943</td>\n",
       "      <td>-0.663558</td>\n",
       "      <td>-0.058868</td>\n",
       "      <td>1.033697</td>\n",
       "      <td>78500.0</td>\n",
       "    </tr>\n",
       "    <tr>\n",
       "      <th>3</th>\n",
       "      <td>51</td>\n",
       "      <td>-0.831862</td>\n",
       "      <td>0.983331</td>\n",
       "      <td>-1.367625</td>\n",
       "      <td>1.188594</td>\n",
       "      <td>-0.213138</td>\n",
       "      <td>-0.572543</td>\n",
       "      <td>-0.901387</td>\n",
       "      <td>0.190808</td>\n",
       "      <td>-0.489312</td>\n",
       "      <td>0.225768</td>\n",
       "      <td>65000.0</td>\n",
       "    </tr>\n",
       "    <tr>\n",
       "      <th>4</th>\n",
       "      <td>24</td>\n",
       "      <td>-0.537790</td>\n",
       "      <td>0.121912</td>\n",
       "      <td>-0.965847</td>\n",
       "      <td>-0.607395</td>\n",
       "      <td>2.236753</td>\n",
       "      <td>0.806179</td>\n",
       "      <td>0.160764</td>\n",
       "      <td>-0.209506</td>\n",
       "      <td>1.265151</td>\n",
       "      <td>0.373994</td>\n",
       "      <td>64900.0</td>\n",
       "    </tr>\n",
       "    <tr>\n",
       "      <th>5</th>\n",
       "      <td>21</td>\n",
       "      <td>-0.851571</td>\n",
       "      <td>0.134084</td>\n",
       "      <td>-0.639709</td>\n",
       "      <td>2.122880</td>\n",
       "      <td>0.145022</td>\n",
       "      <td>-0.935130</td>\n",
       "      <td>-0.694137</td>\n",
       "      <td>0.133201</td>\n",
       "      <td>-0.479635</td>\n",
       "      <td>0.151287</td>\n",
       "      <td>44555.0</td>\n",
       "    </tr>\n",
       "    <tr>\n",
       "      <th>6</th>\n",
       "      <td>16</td>\n",
       "      <td>0.634760</td>\n",
       "      <td>1.141951</td>\n",
       "      <td>-0.301314</td>\n",
       "      <td>-0.451965</td>\n",
       "      <td>-0.887044</td>\n",
       "      <td>2.253530</td>\n",
       "      <td>1.215956</td>\n",
       "      <td>-1.351005</td>\n",
       "      <td>0.170636</td>\n",
       "      <td>0.298380</td>\n",
       "      <td>72000.0</td>\n",
       "    </tr>\n",
       "    <tr>\n",
       "      <th>7</th>\n",
       "      <td>22</td>\n",
       "      <td>0.788204</td>\n",
       "      <td>0.450834</td>\n",
       "      <td>-1.910249</td>\n",
       "      <td>0.856887</td>\n",
       "      <td>-1.306560</td>\n",
       "      <td>-0.058988</td>\n",
       "      <td>0.067773</td>\n",
       "      <td>-0.863751</td>\n",
       "      <td>0.045674</td>\n",
       "      <td>-0.688628</td>\n",
       "      <td>87500.0</td>\n",
       "    </tr>\n",
       "    <tr>\n",
       "      <th>8</th>\n",
       "      <td>32</td>\n",
       "      <td>0.441422</td>\n",
       "      <td>1.783878</td>\n",
       "      <td>-1.511197</td>\n",
       "      <td>1.200858</td>\n",
       "      <td>-0.102227</td>\n",
       "      <td>0.551105</td>\n",
       "      <td>1.190928</td>\n",
       "      <td>0.583395</td>\n",
       "      <td>-0.100689</td>\n",
       "      <td>0.490966</td>\n",
       "      <td>77500.0</td>\n",
       "    </tr>\n",
       "    <tr>\n",
       "      <th>9</th>\n",
       "      <td>11</td>\n",
       "      <td>0.665806</td>\n",
       "      <td>2.229285</td>\n",
       "      <td>1.326236</td>\n",
       "      <td>-0.984332</td>\n",
       "      <td>-0.103284</td>\n",
       "      <td>0.660512</td>\n",
       "      <td>0.754063</td>\n",
       "      <td>0.745793</td>\n",
       "      <td>0.443762</td>\n",
       "      <td>-0.770841</td>\n",
       "      <td>68000.0</td>\n",
       "    </tr>\n",
       "  </tbody>\n",
       "</table>\n",
       "</div>"
      ],
      "text/plain": [
       "   id     col_0     col_1     col_2     col_3     col_4     col_5     col_6  \\\n",
       "0  40  1.517005  2.635827 -0.254247  0.423657 -0.071790 -0.699173  1.123907   \n",
       "1  27 -0.907076  1.115731 -1.753948  1.240695  0.341903 -0.906526 -0.000200   \n",
       "2  35  0.199440 -0.655693 -0.973420 -1.287750  1.822717 -0.705320  0.523943   \n",
       "3  51 -0.831862  0.983331 -1.367625  1.188594 -0.213138 -0.572543 -0.901387   \n",
       "4  24 -0.537790  0.121912 -0.965847 -0.607395  2.236753  0.806179  0.160764   \n",
       "5  21 -0.851571  0.134084 -0.639709  2.122880  0.145022 -0.935130 -0.694137   \n",
       "6  16  0.634760  1.141951 -0.301314 -0.451965 -0.887044  2.253530  1.215956   \n",
       "7  22  0.788204  0.450834 -1.910249  0.856887 -1.306560 -0.058988  0.067773   \n",
       "8  32  0.441422  1.783878 -1.511197  1.200858 -0.102227  0.551105  1.190928   \n",
       "9  11  0.665806  2.229285  1.326236 -0.984332 -0.103284  0.660512  0.754063   \n",
       "\n",
       "      col_7     col_8     col_9    price  \n",
       "0  0.539062 -0.023292  0.589272  92500.0  \n",
       "1 -0.165580 -0.384095 -0.464056  60500.0  \n",
       "2 -0.663558 -0.058868  1.033697  78500.0  \n",
       "3  0.190808 -0.489312  0.225768  65000.0  \n",
       "4 -0.209506  1.265151  0.373994  64900.0  \n",
       "5  0.133201 -0.479635  0.151287  44555.0  \n",
       "6 -1.351005  0.170636  0.298380  72000.0  \n",
       "7 -0.863751  0.045674 -0.688628  87500.0  \n",
       "8  0.583395 -0.100689  0.490966  77500.0  \n",
       "9  0.745793  0.443762 -0.770841  68000.0  "
      ]
     },
     "metadata": {},
     "output_type": "display_data"
    },
    {
     "name": "stdout",
     "output_type": "stream",
     "text": [
      "                                                                                                  \r"
     ]
    },
    {
     "data": {
      "text/html": [
       "10 rows X 12 columns"
      ],
      "text/plain": [
       "<IPython.core.display.HTML object>"
      ]
     },
     "metadata": {},
     "output_type": "display_data"
    },
    {
     "name": "stdout",
     "output_type": "stream",
     "text": [
      "Data Transformation completed.⫿⫿⫿⫿⫿⫿⫿⫿⫿⫿⫿⫿⫿⫿⫿⫿⫿⫿⫿⫿⫿⫿⫿⫿⫿⫿⫿⫿⫿⫿⫿⫿⫿⫿⫿⫿⫿⫿⫿⫿⫿⫿｜ 100% - 15/15            \n",
      "\n",
      "Following model is being picked for evaluation:\n",
      "Model ID : XGBOOST_1 \n",
      "Feature Selection Method : rfe\n",
      "\n",
      "Prediction : \n",
      "   id    Prediction  Confidence_Lower  Confidence_upper    price\n",
      "0  24  60493.951359      60493.951359      60493.951359  64900.0\n",
      "1  32  79532.256218      79532.256218      79532.256218  77500.0\n",
      "2   8  55241.854455      55241.854455      55241.854455  55000.0\n",
      "3  27  60479.372933      60479.372933      60479.372933  60500.0\n",
      "4  21  37397.395472      37397.395472      37397.395472  44555.0\n",
      "5  22  88903.303042      88903.303042      88903.303042  87500.0\n",
      "6  11  71834.288947      71834.288947      71834.288947  68000.0\n",
      "7  43  42734.457781      42734.457781      42734.457781  43000.0\n",
      "8  15  61650.265369      61650.265369      61650.265369  61000.0\n",
      "9  37  64685.898547      64685.898547      64685.898547  93000.0\n"
     ]
    }
   ],
   "source": [
    "# Generating prediction on test data\n",
    "prediction = aml.predict(housing_test)"
   ]
  },
  {
   "cell_type": "code",
   "execution_count": 18,
   "id": "98be4bd0-51e9-49e6-a3fe-9cf4228f73c2",
   "metadata": {},
   "outputs": [
    {
     "data": {
      "text/html": [
       "<style type=\"text/css\">\n",
       "\ttable {border:ridge 5px;}\n",
       "\ttable td {border:inset 1px;}\n",
       "\ttable tr#HeaderRow {background-color:grey; color:white;}</style>\n",
       "<html><table>\n",
       "\t<tr id=\"HeaderRow\">\n",
       "\t\t<th>id</th>\n",
       "\t\t<th>Prediction</th>\n",
       "\t\t<th>Confidence_Lower</th>\n",
       "\t\t<th>Confidence_upper</th>\n",
       "\t\t<th>price</th>\n",
       "\t</tr>\n",
       "\t<tr>\n",
       "\t\t<td>10</td>\n",
       "\t\t<td>53895.959449</td>\n",
       "\t\t<td>53895.959449</td>\n",
       "\t\t<td>53895.959449</td>\n",
       "\t\t<td>41000.0</td>\n",
       "\t</tr>\n",
       "\t<tr>\n",
       "\t\t<td>12</td>\n",
       "\t\t<td>77403.76960199999</td>\n",
       "\t\t<td>77403.76960199999</td>\n",
       "\t\t<td>77403.76960199999</td>\n",
       "\t\t<td>67000.0</td>\n",
       "\t</tr>\n",
       "\t<tr>\n",
       "\t\t<td>13</td>\n",
       "\t\t<td>45378.98779</td>\n",
       "\t\t<td>45378.98779</td>\n",
       "\t\t<td>45378.98779</td>\n",
       "\t\t<td>49000.0</td>\n",
       "\t</tr>\n",
       "\t<tr>\n",
       "\t\t<td>14</td>\n",
       "\t\t<td>45164.636739999994</td>\n",
       "\t\t<td>45164.636739999994</td>\n",
       "\t\t<td>45164.636739999994</td>\n",
       "\t\t<td>48500.0</td>\n",
       "\t</tr>\n",
       "\t<tr>\n",
       "\t\t<td>16</td>\n",
       "\t\t<td>72975.583423</td>\n",
       "\t\t<td>72975.583423</td>\n",
       "\t\t<td>72975.583423</td>\n",
       "\t\t<td>72000.0</td>\n",
       "\t</tr>\n",
       "\t<tr>\n",
       "\t\t<td>17</td>\n",
       "\t\t<td>39109.471668</td>\n",
       "\t\t<td>39109.471668</td>\n",
       "\t\t<td>39109.471668</td>\n",
       "\t\t<td>27000.0</td>\n",
       "\t</tr>\n",
       "\t<tr>\n",
       "\t\t<td>15</td>\n",
       "\t\t<td>61650.265369</td>\n",
       "\t\t<td>61650.265369</td>\n",
       "\t\t<td>61650.265369</td>\n",
       "\t\t<td>61000.0</td>\n",
       "\t</tr>\n",
       "\t<tr>\n",
       "\t\t<td>11</td>\n",
       "\t\t<td>71834.288947</td>\n",
       "\t\t<td>71834.288947</td>\n",
       "\t\t<td>71834.288947</td>\n",
       "\t\t<td>68000.0</td>\n",
       "\t</tr>\n",
       "\t<tr>\n",
       "\t\t<td>9</td>\n",
       "\t\t<td>55931.963123</td>\n",
       "\t\t<td>55931.963123</td>\n",
       "\t\t<td>55931.963123</td>\n",
       "\t\t<td>55000.0</td>\n",
       "\t</tr>\n",
       "\t<tr>\n",
       "\t\t<td>8</td>\n",
       "\t\t<td>55241.854455</td>\n",
       "\t\t<td>55241.854455</td>\n",
       "\t\t<td>55241.854455</td>\n",
       "\t\t<td>55000.0</td>\n",
       "\t</tr>\n",
       "</table></html>"
      ],
      "text/plain": [
       "   id    Prediction  Confidence_Lower  Confidence_upper    price\n",
       "0  10  53895.959449      53895.959449      53895.959449  41000.0\n",
       "1  12  77403.769602      77403.769602      77403.769602  67000.0\n",
       "2  13  45378.987790      45378.987790      45378.987790  49000.0\n",
       "3  14  45164.636740      45164.636740      45164.636740  48500.0\n",
       "4  16  72975.583423      72975.583423      72975.583423  72000.0\n",
       "5  17  39109.471668      39109.471668      39109.471668  27000.0\n",
       "6  15  61650.265369      61650.265369      61650.265369  61000.0\n",
       "7  11  71834.288947      71834.288947      71834.288947  68000.0\n",
       "8   9  55931.963123      55931.963123      55931.963123  55000.0\n",
       "9   8  55241.854455      55241.854455      55241.854455  55000.0"
      ]
     },
     "execution_count": 18,
     "metadata": {},
     "output_type": "execute_result"
    }
   ],
   "source": [
    "# Printing prediction\n",
    "prediction.head()"
   ]
  },
  {
   "cell_type": "code",
   "execution_count": 19,
   "id": "3a6e5be6-8840-4b30-80ca-7f5dc22909f9",
   "metadata": {},
   "outputs": [
    {
     "data": {
      "text/plain": [
       "(46, 5)"
      ]
     },
     "execution_count": 19,
     "metadata": {},
     "output_type": "execute_result"
    }
   ],
   "source": [
    "# Shape of generated prediction \n",
    "prediction.shape"
   ]
  },
  {
   "cell_type": "code",
   "execution_count": 20,
   "id": "2ad42360-ecac-41cc-bde1-fe6c9802210c",
   "metadata": {},
   "outputs": [
    {
     "name": "stdout",
     "output_type": "stream",
     "text": [
      "\n",
      "Skipping data transformation as data is already transformed.\n",
      "\n",
      "Following model is being picked for evaluation:\n",
      "Model ID : XGBOOST_1 \n",
      "Feature Selection Method : rfe\n",
      "\n",
      "Performance Metrics : \n",
      "           MAE           MSE      MSLE       MAPE       MPE         RMSE     RMSLE            ME        R2        EV          MPD       MGD\n",
      "0  6612.872179  7.447203e+07  0.027196  12.880711 -4.603534  8629.718038  0.164913  28314.101453  0.768711  0.771862  1331.165781  0.026174\n"
     ]
    }
   ],
   "source": [
    "# Fetching performance metrics on test data\n",
    "performance_metrics = aml.evaluate(housing_test)"
   ]
  },
  {
   "cell_type": "code",
   "execution_count": 21,
   "id": "be5534cc-1911-4771-9de4-bde57bc00024",
   "metadata": {},
   "outputs": [
    {
     "data": {
      "text/html": [
       "<style type=\"text/css\">\n",
       "\ttable {border:ridge 5px;}\n",
       "\ttable td {border:inset 1px;}\n",
       "\ttable tr#HeaderRow {background-color:grey; color:white;}</style>\n",
       "<html><table>\n",
       "\t<tr id=\"HeaderRow\">\n",
       "\t\t<th>MAE</th>\n",
       "\t\t<th>MSE</th>\n",
       "\t\t<th>MSLE</th>\n",
       "\t\t<th>MAPE</th>\n",
       "\t\t<th>MPE</th>\n",
       "\t\t<th>RMSE</th>\n",
       "\t\t<th>RMSLE</th>\n",
       "\t\t<th>ME</th>\n",
       "\t\t<th>R2</th>\n",
       "\t\t<th>EV</th>\n",
       "\t\t<th>MPD</th>\n",
       "\t\t<th>MGD</th>\n",
       "\t</tr>\n",
       "\t<tr>\n",
       "\t\t<td>6612.872178891304</td>\n",
       "\t\t<td>74472033.41870987</td>\n",
       "\t\t<td>0.02719635873394214</td>\n",
       "\t\t<td>12.88071111950302</td>\n",
       "\t\t<td>-4.603533619606152</td>\n",
       "\t\t<td>8629.718038192781</td>\n",
       "\t\t<td>0.1649131854459859</td>\n",
       "\t\t<td>28314.101452999996</td>\n",
       "\t\t<td>0.768710810641775</td>\n",
       "\t\t<td>0.7718620121604588</td>\n",
       "\t\t<td>1331.1657809502685</td>\n",
       "\t\t<td>0.0261739261346348</td>\n",
       "\t</tr>\n",
       "</table></html>"
      ],
      "text/plain": [
       "           MAE           MSE      MSLE       MAPE       MPE         RMSE     RMSLE            ME        R2        EV          MPD       MGD\n",
       "0  6612.872179  7.447203e+07  0.027196  12.880711 -4.603534  8629.718038  0.164913  28314.101453  0.768711  0.771862  1331.165781  0.026174"
      ]
     },
     "execution_count": 21,
     "metadata": {},
     "output_type": "execute_result"
    }
   ],
   "source": [
    "performance_metrics"
   ]
  },
  {
   "cell_type": "code",
   "execution_count": 22,
   "id": "92af365f-7673-4ef2-88e5-3f0cb0c7636b",
   "metadata": {},
   "outputs": [
    {
     "data": {
      "text/plain": [
       "True"
      ]
     },
     "execution_count": 22,
     "metadata": {},
     "output_type": "execute_result"
    }
   ],
   "source": [
    "remove_context()"
   ]
  }
 ],
 "metadata": {
  "kernelspec": {
   "display_name": "Python 3 (ipykernel)",
   "language": "python",
   "name": "python3"
  },
  "language_info": {
   "codemirror_mode": {
    "name": "ipython",
    "version": 3
   },
   "file_extension": ".py",
   "mimetype": "text/x-python",
   "name": "python",
   "nbconvert_exporter": "python",
   "pygments_lexer": "ipython3",
   "version": "3.10.9"
  }
 },
 "nbformat": 4,
 "nbformat_minor": 5
}
