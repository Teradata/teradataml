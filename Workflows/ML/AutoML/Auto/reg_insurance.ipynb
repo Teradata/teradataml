{
 "cells": [
  {
   "cell_type": "markdown",
   "id": "2762f1d8-5a66-411f-a625-34cf16ac6dd3",
   "metadata": {},
   "source": [
    "# <b><span style='color:#F1A424'>AutoML - Regression </span> </b>"
   ]
  },
  {
   "cell_type": "markdown",
   "id": "f225fb94-b2c8-4c92-af38-733d08e0e2a1",
   "metadata": {},
   "source": [
    "## <b> Problem overview:</b>\n",
    "    "
   ]
  },
  {
   "cell_type": "markdown",
   "id": "af9813eb-9c44-4968-a5fe-d1c74415c894",
   "metadata": {},
   "source": [
    "**Dataset Used : Medical insurance Dataset**\n",
    "\n",
    "**Features**:\n",
    "\n",
    "- `Age`: The insured person's age.\n",
    "- `Sex`: Gender (male or female) of the insured.\n",
    "- `BMI (Body Mass Index)`: A measure of body fat based on height and weight.\n",
    "- `Children`: The number of dependents covered.\n",
    "- `Smoker`: Whether the insured is a smoker (yes or no).\n",
    "- `Region`: The geographic area of coverage.\n",
    "\n",
    "**Target Variable**:\n",
    "\n",
    "- `Charges`: The medical insurance costs incurred by the insured person.\n",
    "    \n",
    "**Objective**:\n",
    "\n",
    "The primary objective is typically to build a model that can accurately predict medical insurance costs incurred by the insured person.\n",
    "\n",
    "**Usecase**:\n",
    "\n",
    "Here, we will use AutoML(Automated Machine Learning) functionality to automate the entire process of developing a predictive model. It will perform feature exploration, feature engineering, data preparation, model training and evaluation on dataset in auto run and at end we will get leaderboard containined different models along with their performance. Model will also have rank associated with them which indicates which is best performing model for given data followed by other models."
   ]
  },
  {
   "cell_type": "code",
   "execution_count": 1,
   "id": "66568348-4d00-477c-a071-17995f797c95",
   "metadata": {},
   "outputs": [],
   "source": [
    "# Importing AutoML from teradataml\n",
    "from teradataml import AutoML, AutoRegressor"
   ]
  },
  {
   "cell_type": "code",
   "execution_count": 2,
   "id": "17dfae70-0401-4cc4-ba1c-400a5cf62451",
   "metadata": {},
   "outputs": [],
   "source": [
    "# Importing other important libraries\n",
    "import getpass\n",
    "from teradataml import create_context, remove_context\n",
    "from teradataml import DataFrame\n",
    "from teradataml import load_example_data\n",
    "from teradataml import TrainTestSplit"
   ]
  },
  {
   "cell_type": "code",
   "execution_count": 3,
   "id": "cadd9ed2-42d6-4899-b23e-4e2cf601162f",
   "metadata": {},
   "outputs": [
    {
     "name": "stdin",
     "output_type": "stream",
     "text": [
      "Host:  ········\n",
      "Username:  ········\n",
      "Password:  ········\n"
     ]
    }
   ],
   "source": [
    "# Create the connection.\n",
    "host = getpass.getpass(\"Host: \")\n",
    "username = getpass.getpass(\"Username: \")\n",
    "password = getpass.getpass(\"Password: \")\n",
    "\n",
    "con = create_context(host=host, username=username, password=password)"
   ]
  },
  {
   "cell_type": "markdown",
   "id": "be767a89-d5b8-4876-91cb-36980754586e",
   "metadata": {},
   "source": [
    "## <b><span style='color:#F1A424'>| 1.</span> Loading Dataset </b>"
   ]
  },
  {
   "cell_type": "code",
   "execution_count": 4,
   "id": "f1592c52-b247-4792-be2a-30b49bbeb9b6",
   "metadata": {},
   "outputs": [],
   "source": [
    "# Loading dataset from example data collection\n",
    "load_example_data('teradataml','insurance')"
   ]
  },
  {
   "cell_type": "code",
   "execution_count": 5,
   "id": "3846ae0f-004b-4b8e-9fea-06fac4294065",
   "metadata": {},
   "outputs": [],
   "source": [
    "# Fetching in teradata dataframe\n",
    "insurance_df = DataFrame(\"insurance\")"
   ]
  },
  {
   "cell_type": "code",
   "execution_count": 6,
   "id": "442ccd80-b444-413e-970d-d855ec3d6cae",
   "metadata": {},
   "outputs": [
    {
     "data": {
      "text/html": [
       "<style type=\"text/css\">\n",
       "\ttable {border:ridge 5px;}\n",
       "\ttable td {border:inset 1px;}\n",
       "\ttable tr#HeaderRow {background-color:grey; color:white;}</style>\n",
       "<html><table>\n",
       "\t<tr id=\"HeaderRow\">\n",
       "\t\t<th>age</th>\n",
       "\t\t<th>sex</th>\n",
       "\t\t<th>bmi</th>\n",
       "\t\t<th>children</th>\n",
       "\t\t<th>smoker</th>\n",
       "\t\t<th>region</th>\n",
       "\t\t<th>charges</th>\n",
       "\t</tr>\n",
       "\t<tr>\n",
       "\t\t<td>18</td>\n",
       "\t\t<td>male</td>\n",
       "\t\t<td>22.99</td>\n",
       "\t\t<td>0</td>\n",
       "\t\t<td>no</td>\n",
       "\t\t<td>northeast</td>\n",
       "\t\t<td>1704.5681</td>\n",
       "\t</tr>\n",
       "\t<tr>\n",
       "\t\t<td>18</td>\n",
       "\t\t<td>male</td>\n",
       "\t\t<td>33.77</td>\n",
       "\t\t<td>1</td>\n",
       "\t\t<td>no</td>\n",
       "\t\t<td>southeast</td>\n",
       "\t\t<td>1725.5523</td>\n",
       "\t</tr>\n",
       "\t<tr>\n",
       "\t\t<td>18</td>\n",
       "\t\t<td>female</td>\n",
       "\t\t<td>37.29</td>\n",
       "\t\t<td>1</td>\n",
       "\t\t<td>no</td>\n",
       "\t\t<td>southeast</td>\n",
       "\t\t<td>2219.4451</td>\n",
       "\t</tr>\n",
       "\t<tr>\n",
       "\t\t<td>18</td>\n",
       "\t\t<td>male</td>\n",
       "\t\t<td>33.66</td>\n",
       "\t\t<td>0</td>\n",
       "\t\t<td>no</td>\n",
       "\t\t<td>southeast</td>\n",
       "\t\t<td>1136.3994</td>\n",
       "\t</tr>\n",
       "\t<tr>\n",
       "\t\t<td>18</td>\n",
       "\t\t<td>female</td>\n",
       "\t\t<td>32.12</td>\n",
       "\t\t<td>2</td>\n",
       "\t\t<td>no</td>\n",
       "\t\t<td>southeast</td>\n",
       "\t\t<td>2801.2588</td>\n",
       "\t</tr>\n",
       "\t<tr>\n",
       "\t\t<td>18</td>\n",
       "\t\t<td>female</td>\n",
       "\t\t<td>38.28</td>\n",
       "\t\t<td>0</td>\n",
       "\t\t<td>no</td>\n",
       "\t\t<td>southeast</td>\n",
       "\t\t<td>1631.8212</td>\n",
       "\t</tr>\n",
       "\t<tr>\n",
       "\t\t<td>18</td>\n",
       "\t\t<td>female</td>\n",
       "\t\t<td>26.73</td>\n",
       "\t\t<td>0</td>\n",
       "\t\t<td>no</td>\n",
       "\t\t<td>southeast</td>\n",
       "\t\t<td>1615.7667</td>\n",
       "\t</tr>\n",
       "\t<tr>\n",
       "\t\t<td>18</td>\n",
       "\t\t<td>female</td>\n",
       "\t\t<td>28.215</td>\n",
       "\t\t<td>0</td>\n",
       "\t\t<td>no</td>\n",
       "\t\t<td>northeast</td>\n",
       "\t\t<td>2200.83085</td>\n",
       "\t</tr>\n",
       "\t<tr>\n",
       "\t\t<td>18</td>\n",
       "\t\t<td>female</td>\n",
       "\t\t<td>36.85</td>\n",
       "\t\t<td>0</td>\n",
       "\t\t<td>yes</td>\n",
       "\t\t<td>southeast</td>\n",
       "\t\t<td>36149.4835</td>\n",
       "\t</tr>\n",
       "\t<tr>\n",
       "\t\t<td>18</td>\n",
       "\t\t<td>male</td>\n",
       "\t\t<td>31.68</td>\n",
       "\t\t<td>2</td>\n",
       "\t\t<td>yes</td>\n",
       "\t\t<td>southeast</td>\n",
       "\t\t<td>34303.1672</td>\n",
       "\t</tr>\n",
       "</table></html>"
      ],
      "text/plain": [
       "        sex     bmi  children smoker     region      charges\n",
       "age                                                         \n",
       "18     male  22.990         0     no  northeast   1704.56810\n",
       "18     male  33.770         1     no  southeast   1725.55230\n",
       "18   female  37.290         1     no  southeast   2219.44510\n",
       "18     male  33.660         0     no  southeast   1136.39940\n",
       "18   female  32.120         2     no  southeast   2801.25880\n",
       "18   female  38.280         0     no  southeast   1631.82120\n",
       "18   female  26.730         0     no  southeast   1615.76670\n",
       "18   female  28.215         0     no  northeast   2200.83085\n",
       "18   female  36.850         0    yes  southeast  36149.48350\n",
       "18     male  31.680         2    yes  southeast  34303.16720"
      ]
     },
     "execution_count": 6,
     "metadata": {},
     "output_type": "execute_result"
    }
   ],
   "source": [
    "# first 5 rows\n",
    "insurance_df.head()"
   ]
  },
  {
   "cell_type": "code",
   "execution_count": 7,
   "id": "636c220d-d12f-4ea5-ab2b-c9203ef00d49",
   "metadata": {},
   "outputs": [
    {
     "data": {
      "text/plain": [
       "(1338, 7)"
      ]
     },
     "execution_count": 7,
     "metadata": {},
     "output_type": "execute_result"
    }
   ],
   "source": [
    "# insurance_df dataset\n",
    "insurance_df.shape"
   ]
  },
  {
   "cell_type": "code",
   "execution_count": 8,
   "id": "e5d1fad7-8784-4d7a-be1f-7be1d3991d8f",
   "metadata": {},
   "outputs": [],
   "source": [
    "# Performing sampling to get 80% for trainning and 20% for testing\n",
    "insurance_df_sample = insurance_df.sample(frac = [0.8, 0.2])"
   ]
  },
  {
   "cell_type": "code",
   "execution_count": 9,
   "id": "a0e6891a-1b7e-4bac-97c8-350ba5f5bde4",
   "metadata": {},
   "outputs": [
    {
     "data": {
      "text/html": [
       "<style type=\"text/css\">\n",
       "\ttable {border:ridge 5px;}\n",
       "\ttable td {border:inset 1px;}\n",
       "\ttable tr#HeaderRow {background-color:grey; color:white;}</style>\n",
       "<html><table>\n",
       "\t<tr id=\"HeaderRow\">\n",
       "\t\t<th>age</th>\n",
       "\t\t<th>sex</th>\n",
       "\t\t<th>bmi</th>\n",
       "\t\t<th>children</th>\n",
       "\t\t<th>smoker</th>\n",
       "\t\t<th>region</th>\n",
       "\t\t<th>charges</th>\n",
       "\t\t<th>sampleid</th>\n",
       "\t</tr>\n",
       "\t<tr>\n",
       "\t\t<td>18</td>\n",
       "\t\t<td>male</td>\n",
       "\t\t<td>43.01</td>\n",
       "\t\t<td>0</td>\n",
       "\t\t<td>no</td>\n",
       "\t\t<td>southeast</td>\n",
       "\t\t<td>1149.3959</td>\n",
       "\t\t<td>2</td>\n",
       "\t</tr>\n",
       "\t<tr>\n",
       "\t\t<td>18</td>\n",
       "\t\t<td>female</td>\n",
       "\t\t<td>31.13</td>\n",
       "\t\t<td>0</td>\n",
       "\t\t<td>no</td>\n",
       "\t\t<td>southeast</td>\n",
       "\t\t<td>1621.8827</td>\n",
       "\t\t<td>1</td>\n",
       "\t</tr>\n",
       "\t<tr>\n",
       "\t\t<td>18</td>\n",
       "\t\t<td>female</td>\n",
       "\t\t<td>42.24</td>\n",
       "\t\t<td>0</td>\n",
       "\t\t<td>yes</td>\n",
       "\t\t<td>southeast</td>\n",
       "\t\t<td>38792.6856</td>\n",
       "\t\t<td>1</td>\n",
       "\t</tr>\n",
       "\t<tr>\n",
       "\t\t<td>18</td>\n",
       "\t\t<td>male</td>\n",
       "\t\t<td>34.1</td>\n",
       "\t\t<td>0</td>\n",
       "\t\t<td>no</td>\n",
       "\t\t<td>southeast</td>\n",
       "\t\t<td>1137.011</td>\n",
       "\t\t<td>1</td>\n",
       "\t</tr>\n",
       "\t<tr>\n",
       "\t\t<td>18</td>\n",
       "\t\t<td>male</td>\n",
       "\t\t<td>28.31</td>\n",
       "\t\t<td>1</td>\n",
       "\t\t<td>no</td>\n",
       "\t\t<td>northeast</td>\n",
       "\t\t<td>11272.33139</td>\n",
       "\t\t<td>1</td>\n",
       "\t</tr>\n",
       "\t<tr>\n",
       "\t\t<td>18</td>\n",
       "\t\t<td>male</td>\n",
       "\t\t<td>53.13</td>\n",
       "\t\t<td>0</td>\n",
       "\t\t<td>no</td>\n",
       "\t\t<td>southeast</td>\n",
       "\t\t<td>1163.4627</td>\n",
       "\t\t<td>2</td>\n",
       "\t</tr>\n",
       "\t<tr>\n",
       "\t\t<td>18</td>\n",
       "\t\t<td>male</td>\n",
       "\t\t<td>38.17</td>\n",
       "\t\t<td>0</td>\n",
       "\t\t<td>yes</td>\n",
       "\t\t<td>southeast</td>\n",
       "\t\t<td>36307.7983</td>\n",
       "\t\t<td>1</td>\n",
       "\t</tr>\n",
       "\t<tr>\n",
       "\t\t<td>18</td>\n",
       "\t\t<td>male</td>\n",
       "\t\t<td>33.33</td>\n",
       "\t\t<td>0</td>\n",
       "\t\t<td>no</td>\n",
       "\t\t<td>southeast</td>\n",
       "\t\t<td>1135.9407</td>\n",
       "\t\t<td>2</td>\n",
       "\t</tr>\n",
       "\t<tr>\n",
       "\t\t<td>18</td>\n",
       "\t\t<td>male</td>\n",
       "\t\t<td>25.175</td>\n",
       "\t\t<td>0</td>\n",
       "\t\t<td>yes</td>\n",
       "\t\t<td>northeast</td>\n",
       "\t\t<td>15518.18025</td>\n",
       "\t\t<td>1</td>\n",
       "\t</tr>\n",
       "\t<tr>\n",
       "\t\t<td>18</td>\n",
       "\t\t<td>female</td>\n",
       "\t\t<td>30.115</td>\n",
       "\t\t<td>0</td>\n",
       "\t\t<td>no</td>\n",
       "\t\t<td>northeast</td>\n",
       "\t\t<td>21344.8467</td>\n",
       "\t\t<td>1</td>\n",
       "\t</tr>\n",
       "</table></html>"
      ],
      "text/plain": [
       "        sex     bmi  children smoker     region      charges  sampleid\n",
       "age                                                                   \n",
       "18     male  43.010         0     no  southeast   1149.39590         2\n",
       "18   female  31.130         0     no  southeast   1621.88270         1\n",
       "18   female  42.240         0    yes  southeast  38792.68560         1\n",
       "18     male  34.100         0     no  southeast   1137.01100         1\n",
       "18     male  28.310         1     no  northeast  11272.33139         1\n",
       "18     male  53.130         0     no  southeast   1163.46270         2\n",
       "18     male  38.170         0    yes  southeast  36307.79830         1\n",
       "18     male  33.330         0     no  southeast   1135.94070         2\n",
       "18     male  25.175         0    yes  northeast  15518.18025         1\n",
       "18   female  30.115         0     no  northeast  21344.84670         1"
      ]
     },
     "execution_count": 9,
     "metadata": {},
     "output_type": "execute_result"
    }
   ],
   "source": [
    "insurance_df_sample.head()"
   ]
  },
  {
   "cell_type": "code",
   "execution_count": 10,
   "id": "5e3e5923-18ad-4cf6-b4e5-e87f8854700b",
   "metadata": {},
   "outputs": [],
   "source": [
    "# Fetching train and test data\n",
    "insurance_df_train= insurance_df_sample[insurance_df_sample['sampleid'] == 1].drop('sampleid', axis=1)\n",
    "insurance_df_test = insurance_df_sample[insurance_df_sample['sampleid'] == 2].drop('sampleid', axis=1)"
   ]
  },
  {
   "cell_type": "code",
   "execution_count": 11,
   "id": "83d72a72-3fac-4862-b374-d21ab59be1a6",
   "metadata": {},
   "outputs": [
    {
     "data": {
      "text/plain": [
       "(1070, 7)"
      ]
     },
     "execution_count": 11,
     "metadata": {},
     "output_type": "execute_result"
    }
   ],
   "source": [
    "# train data shape\n",
    "insurance_df_train.shape"
   ]
  },
  {
   "cell_type": "code",
   "execution_count": 12,
   "id": "b22be730-8a7a-40f3-8e2a-cabd8d1f427f",
   "metadata": {},
   "outputs": [
    {
     "data": {
      "text/plain": [
       "(268, 7)"
      ]
     },
     "execution_count": 12,
     "metadata": {},
     "output_type": "execute_result"
    }
   ],
   "source": [
    "# test data shape\n",
    "insurance_df_test.shape"
   ]
  },
  {
   "cell_type": "code",
   "execution_count": 13,
   "id": "18473df2-be15-4e1e-bc5e-739abacf8b89",
   "metadata": {},
   "outputs": [
    {
     "data": {
      "text/html": [
       "<style type=\"text/css\">\n",
       "\ttable {border:ridge 5px;}\n",
       "\ttable td {border:inset 1px;}\n",
       "\ttable tr#HeaderRow {background-color:grey; color:white;}</style>\n",
       "<html><table>\n",
       "\t<tr id=\"HeaderRow\">\n",
       "\t\t<th>age</th>\n",
       "\t\t<th>sex</th>\n",
       "\t\t<th>bmi</th>\n",
       "\t\t<th>children</th>\n",
       "\t\t<th>smoker</th>\n",
       "\t\t<th>region</th>\n",
       "\t\t<th>charges</th>\n",
       "\t</tr>\n",
       "\t<tr>\n",
       "\t\t<td>18</td>\n",
       "\t\t<td>female</td>\n",
       "\t\t<td>26.315</td>\n",
       "\t\t<td>0</td>\n",
       "\t\t<td>no</td>\n",
       "\t\t<td>northeast</td>\n",
       "\t\t<td>2198.18985</td>\n",
       "\t</tr>\n",
       "\t<tr>\n",
       "\t\t<td>18</td>\n",
       "\t\t<td>female</td>\n",
       "\t\t<td>31.92</td>\n",
       "\t\t<td>0</td>\n",
       "\t\t<td>no</td>\n",
       "\t\t<td>northeast</td>\n",
       "\t\t<td>2205.9808</td>\n",
       "\t</tr>\n",
       "\t<tr>\n",
       "\t\t<td>18</td>\n",
       "\t\t<td>female</td>\n",
       "\t\t<td>27.28</td>\n",
       "\t\t<td>3</td>\n",
       "\t\t<td>yes</td>\n",
       "\t\t<td>southeast</td>\n",
       "\t\t<td>18223.4512</td>\n",
       "\t</tr>\n",
       "\t<tr>\n",
       "\t\t<td>18</td>\n",
       "\t\t<td>male</td>\n",
       "\t\t<td>30.4</td>\n",
       "\t\t<td>3</td>\n",
       "\t\t<td>no</td>\n",
       "\t\t<td>northeast</td>\n",
       "\t\t<td>3481.868</td>\n",
       "\t</tr>\n",
       "\t<tr>\n",
       "\t\t<td>18</td>\n",
       "\t\t<td>male</td>\n",
       "\t\t<td>25.175</td>\n",
       "\t\t<td>0</td>\n",
       "\t\t<td>yes</td>\n",
       "\t\t<td>northeast</td>\n",
       "\t\t<td>15518.18025</td>\n",
       "\t</tr>\n",
       "\t<tr>\n",
       "\t\t<td>18</td>\n",
       "\t\t<td>female</td>\n",
       "\t\t<td>30.305</td>\n",
       "\t\t<td>0</td>\n",
       "\t\t<td>no</td>\n",
       "\t\t<td>northeast</td>\n",
       "\t\t<td>2203.73595</td>\n",
       "\t</tr>\n",
       "\t<tr>\n",
       "\t\t<td>18</td>\n",
       "\t\t<td>male</td>\n",
       "\t\t<td>22.99</td>\n",
       "\t\t<td>0</td>\n",
       "\t\t<td>no</td>\n",
       "\t\t<td>northeast</td>\n",
       "\t\t<td>1704.5681</td>\n",
       "\t</tr>\n",
       "\t<tr>\n",
       "\t\t<td>18</td>\n",
       "\t\t<td>male</td>\n",
       "\t\t<td>28.31</td>\n",
       "\t\t<td>1</td>\n",
       "\t\t<td>no</td>\n",
       "\t\t<td>northeast</td>\n",
       "\t\t<td>11272.33139</td>\n",
       "\t</tr>\n",
       "\t<tr>\n",
       "\t\t<td>18</td>\n",
       "\t\t<td>male</td>\n",
       "\t\t<td>39.14</td>\n",
       "\t\t<td>0</td>\n",
       "\t\t<td>no</td>\n",
       "\t\t<td>northeast</td>\n",
       "\t\t<td>12890.05765</td>\n",
       "\t</tr>\n",
       "\t<tr>\n",
       "\t\t<td>18</td>\n",
       "\t\t<td>male</td>\n",
       "\t\t<td>30.03</td>\n",
       "\t\t<td>1</td>\n",
       "\t\t<td>no</td>\n",
       "\t\t<td>southeast</td>\n",
       "\t\t<td>1720.3537</td>\n",
       "\t</tr>\n",
       "</table></html>"
      ],
      "text/plain": [
       "        sex     bmi  children smoker     region      charges\n",
       "age                                                         \n",
       "18   female  26.315         0     no  northeast   2198.18985\n",
       "18   female  31.920         0     no  northeast   2205.98080\n",
       "18   female  27.280         3    yes  southeast  18223.45120\n",
       "18     male  30.400         3     no  northeast   3481.86800\n",
       "18     male  25.175         0    yes  northeast  15518.18025\n",
       "18   female  30.305         0     no  northeast   2203.73595\n",
       "18     male  22.990         0     no  northeast   1704.56810\n",
       "18     male  28.310         1     no  northeast  11272.33139\n",
       "18     male  39.140         0     no  northeast  12890.05765\n",
       "18     male  30.030         1     no  southeast   1720.35370"
      ]
     },
     "execution_count": 13,
     "metadata": {},
     "output_type": "execute_result"
    }
   ],
   "source": [
    "#train dataset\n",
    "insurance_df_train.head()"
   ]
  },
  {
   "cell_type": "code",
   "execution_count": 14,
   "id": "58c9d763-4f19-449e-a35b-676d4d026acc",
   "metadata": {},
   "outputs": [
    {
     "data": {
      "text/html": [
       "<style type=\"text/css\">\n",
       "\ttable {border:ridge 5px;}\n",
       "\ttable td {border:inset 1px;}\n",
       "\ttable tr#HeaderRow {background-color:grey; color:white;}</style>\n",
       "<html><table>\n",
       "\t<tr id=\"HeaderRow\">\n",
       "\t\t<th>age</th>\n",
       "\t\t<th>sex</th>\n",
       "\t\t<th>bmi</th>\n",
       "\t\t<th>children</th>\n",
       "\t\t<th>smoker</th>\n",
       "\t\t<th>region</th>\n",
       "\t\t<th>charges</th>\n",
       "\t</tr>\n",
       "\t<tr>\n",
       "\t\t<td>18</td>\n",
       "\t\t<td>male</td>\n",
       "\t\t<td>23.32</td>\n",
       "\t\t<td>1</td>\n",
       "\t\t<td>no</td>\n",
       "\t\t<td>southeast</td>\n",
       "\t\t<td>1711.0268</td>\n",
       "\t</tr>\n",
       "\t<tr>\n",
       "\t\t<td>18</td>\n",
       "\t\t<td>female</td>\n",
       "\t\t<td>39.82</td>\n",
       "\t\t<td>0</td>\n",
       "\t\t<td>no</td>\n",
       "\t\t<td>southeast</td>\n",
       "\t\t<td>1633.9618</td>\n",
       "\t</tr>\n",
       "\t<tr>\n",
       "\t\t<td>18</td>\n",
       "\t\t<td>male</td>\n",
       "\t\t<td>26.125</td>\n",
       "\t\t<td>0</td>\n",
       "\t\t<td>no</td>\n",
       "\t\t<td>northeast</td>\n",
       "\t\t<td>1708.92575</td>\n",
       "\t</tr>\n",
       "\t<tr>\n",
       "\t\t<td>18</td>\n",
       "\t\t<td>female</td>\n",
       "\t\t<td>31.35</td>\n",
       "\t\t<td>4</td>\n",
       "\t\t<td>no</td>\n",
       "\t\t<td>northeast</td>\n",
       "\t\t<td>4561.1885</td>\n",
       "\t</tr>\n",
       "\t<tr>\n",
       "\t\t<td>18</td>\n",
       "\t\t<td>female</td>\n",
       "\t\t<td>40.28</td>\n",
       "\t\t<td>0</td>\n",
       "\t\t<td>no</td>\n",
       "\t\t<td>northeast</td>\n",
       "\t\t<td>2217.6012</td>\n",
       "\t</tr>\n",
       "\t<tr>\n",
       "\t\t<td>18</td>\n",
       "\t\t<td>female</td>\n",
       "\t\t<td>33.155</td>\n",
       "\t\t<td>0</td>\n",
       "\t\t<td>no</td>\n",
       "\t\t<td>northeast</td>\n",
       "\t\t<td>2207.69745</td>\n",
       "\t</tr>\n",
       "\t<tr>\n",
       "\t\t<td>18</td>\n",
       "\t\t<td>male</td>\n",
       "\t\t<td>23.75</td>\n",
       "\t\t<td>0</td>\n",
       "\t\t<td>no</td>\n",
       "\t\t<td>northeast</td>\n",
       "\t\t<td>1705.6245</td>\n",
       "\t</tr>\n",
       "\t<tr>\n",
       "\t\t<td>18</td>\n",
       "\t\t<td>female</td>\n",
       "\t\t<td>36.85</td>\n",
       "\t\t<td>0</td>\n",
       "\t\t<td>no</td>\n",
       "\t\t<td>southeast</td>\n",
       "\t\t<td>1629.8335</td>\n",
       "\t</tr>\n",
       "\t<tr>\n",
       "\t\t<td>18</td>\n",
       "\t\t<td>male</td>\n",
       "\t\t<td>33.33</td>\n",
       "\t\t<td>0</td>\n",
       "\t\t<td>no</td>\n",
       "\t\t<td>southeast</td>\n",
       "\t\t<td>1135.9407</td>\n",
       "\t</tr>\n",
       "\t<tr>\n",
       "\t\t<td>18</td>\n",
       "\t\t<td>female</td>\n",
       "\t\t<td>35.625</td>\n",
       "\t\t<td>0</td>\n",
       "\t\t<td>no</td>\n",
       "\t\t<td>northeast</td>\n",
       "\t\t<td>2211.13075</td>\n",
       "\t</tr>\n",
       "</table></html>"
      ],
      "text/plain": [
       "        sex     bmi  children smoker     region     charges\n",
       "age                                                        \n",
       "18     male  23.320         1     no  southeast  1711.02680\n",
       "18   female  39.820         0     no  southeast  1633.96180\n",
       "18     male  26.125         0     no  northeast  1708.92575\n",
       "18   female  31.350         4     no  northeast  4561.18850\n",
       "18   female  40.280         0     no  northeast  2217.60120\n",
       "18   female  33.155         0     no  northeast  2207.69745\n",
       "18     male  23.750         0     no  northeast  1705.62450\n",
       "18   female  36.850         0     no  southeast  1629.83350\n",
       "18     male  33.330         0     no  southeast  1135.94070\n",
       "18   female  35.625         0     no  northeast  2211.13075"
      ]
     },
     "execution_count": 14,
     "metadata": {},
     "output_type": "execute_result"
    }
   ],
   "source": [
    "# test dataset\n",
    "insurance_df_test.head()"
   ]
  },
  {
   "cell_type": "markdown",
   "id": "856ea871-93d8-4ea2-b524-1acb23bd7eb5",
   "metadata": {},
   "source": [
    "## <b><span style='color:#F1A424'>| 2.</span> Fitting AutoML </b>"
   ]
  },
  {
   "cell_type": "code",
   "execution_count": 15,
   "id": "f3650aa5-a408-4227-a88d-79c0f3d36d3c",
   "metadata": {},
   "outputs": [],
   "source": [
    "# Creating AutoRegressor instance\n",
    "# Using all models from model training.\n",
    "# Keeping early stopping timer threshold to 500 sec\n",
    "# and verbose level 2 for detailed loggging\n",
    "\n",
    "aml = AutoRegressor(max_runtime_secs=500, \n",
    "                    verbose=2)"
   ]
  },
  {
   "cell_type": "code",
   "execution_count": 16,
   "id": "a1b7a771-1bfa-40c9-8ad0-c377d320c137",
   "metadata": {},
   "outputs": [
    {
     "data": {
      "text/html": [
       "\n",
       "            <style>\n",
       "                .custom-div {\n",
       "                    background-color: lightgray;\n",
       "                    color: #000000;\n",
       "                    padding: 10px;\n",
       "                    border-radius: 8px;\n",
       "                    box-shadow: 0 3px 4px rgba(0, 0, 0, 0.2);\n",
       "                    margin-bottom: 10px;\n",
       "                    text-align: center;\n",
       "                }\n",
       "            </style>\n",
       "        <br><div class=\"custom-div\"><h3><span style=\"color: green;\"></span>1. Feature Exploration -> 2. Feature Engineering -> 3. Data Preparation -> 4. Model Training & Evaluation<center></h3></center></div>"
      ],
      "text/plain": [
       "<IPython.core.display.HTML object>"
      ]
     },
     "metadata": {},
     "output_type": "display_data"
    },
    {
     "name": "stdout",
     "output_type": "stream",
     "text": [
      "Feature Exploration started ...\n",
      "\n",
      "Data Overview:\n",
      "Total Rows in the data: 1070\n",
      "Total Columns in the data: 7\n",
      "\n",
      "Column Summary:\n"
     ]
    },
    {
     "data": {
      "text/html": [
       "<style type=\"text/css\">\n",
       "\ttable {border:ridge 5px;}\n",
       "\ttable td {border:inset 1px;}\n",
       "\ttable tr#HeaderRow {background-color:grey; color:white;}</style>\n",
       "<html><table>\n",
       "\t<tr id=\"HeaderRow\">\n",
       "\t\t<th>ColumnName</th>\n",
       "\t\t<th>Datatype</th>\n",
       "\t\t<th>NonNullCount</th>\n",
       "\t\t<th>NullCount</th>\n",
       "\t\t<th>BlankCount</th>\n",
       "\t\t<th>ZeroCount</th>\n",
       "\t\t<th>PositiveCount</th>\n",
       "\t\t<th>NegativeCount</th>\n",
       "\t\t<th>NullPercentage</th>\n",
       "\t\t<th>NonNullPercentage</th>\n",
       "\t</tr>\n",
       "\t<tr>\n",
       "\t\t<td>bmi</td>\n",
       "\t\t<td>FLOAT</td>\n",
       "\t\t<td>1070</td>\n",
       "\t\t<td>0</td>\n",
       "\t\t<td>None</td>\n",
       "\t\t<td>0</td>\n",
       "\t\t<td>1070</td>\n",
       "\t\t<td>0</td>\n",
       "\t\t<td>0.0</td>\n",
       "\t\t<td>100.0</td>\n",
       "\t</tr>\n",
       "\t<tr>\n",
       "\t\t<td>smoker</td>\n",
       "\t\t<td>VARCHAR(20) CHARACTER SET LATIN</td>\n",
       "\t\t<td>1070</td>\n",
       "\t\t<td>0</td>\n",
       "\t\t<td>0</td>\n",
       "\t\t<td>None</td>\n",
       "\t\t<td>None</td>\n",
       "\t\t<td>None</td>\n",
       "\t\t<td>0.0</td>\n",
       "\t\t<td>100.0</td>\n",
       "\t</tr>\n",
       "\t<tr>\n",
       "\t\t<td>charges</td>\n",
       "\t\t<td>FLOAT</td>\n",
       "\t\t<td>1070</td>\n",
       "\t\t<td>0</td>\n",
       "\t\t<td>None</td>\n",
       "\t\t<td>0</td>\n",
       "\t\t<td>1070</td>\n",
       "\t\t<td>0</td>\n",
       "\t\t<td>0.0</td>\n",
       "\t\t<td>100.0</td>\n",
       "\t</tr>\n",
       "\t<tr>\n",
       "\t\t<td>region</td>\n",
       "\t\t<td>VARCHAR(20) CHARACTER SET LATIN</td>\n",
       "\t\t<td>1070</td>\n",
       "\t\t<td>0</td>\n",
       "\t\t<td>0</td>\n",
       "\t\t<td>None</td>\n",
       "\t\t<td>None</td>\n",
       "\t\t<td>None</td>\n",
       "\t\t<td>0.0</td>\n",
       "\t\t<td>100.0</td>\n",
       "\t</tr>\n",
       "\t<tr>\n",
       "\t\t<td>sex</td>\n",
       "\t\t<td>VARCHAR(20) CHARACTER SET LATIN</td>\n",
       "\t\t<td>1070</td>\n",
       "\t\t<td>0</td>\n",
       "\t\t<td>0</td>\n",
       "\t\t<td>None</td>\n",
       "\t\t<td>None</td>\n",
       "\t\t<td>None</td>\n",
       "\t\t<td>0.0</td>\n",
       "\t\t<td>100.0</td>\n",
       "\t</tr>\n",
       "\t<tr>\n",
       "\t\t<td>age</td>\n",
       "\t\t<td>INTEGER</td>\n",
       "\t\t<td>1070</td>\n",
       "\t\t<td>0</td>\n",
       "\t\t<td>None</td>\n",
       "\t\t<td>0</td>\n",
       "\t\t<td>1070</td>\n",
       "\t\t<td>0</td>\n",
       "\t\t<td>0.0</td>\n",
       "\t\t<td>100.0</td>\n",
       "\t</tr>\n",
       "\t<tr>\n",
       "\t\t<td>children</td>\n",
       "\t\t<td>INTEGER</td>\n",
       "\t\t<td>1070</td>\n",
       "\t\t<td>0</td>\n",
       "\t\t<td>None</td>\n",
       "\t\t<td>468</td>\n",
       "\t\t<td>602</td>\n",
       "\t\t<td>0</td>\n",
       "\t\t<td>0.0</td>\n",
       "\t\t<td>100.0</td>\n",
       "\t</tr>\n",
       "</table></html>"
      ],
      "text/plain": [
       "                                   Datatype  NonNullCount  NullCount  BlankCount  ZeroCount  PositiveCount  NegativeCount  NullPercentage  NonNullPercentage\n",
       "ColumnName                                                                                                                                                  \n",
       "bmi                                   FLOAT          1070          0         NaN        0.0         1070.0            0.0             0.0              100.0\n",
       "smoker      VARCHAR(20) CHARACTER SET LATIN          1070          0         0.0        NaN            NaN            NaN             0.0              100.0\n",
       "charges                               FLOAT          1070          0         NaN        0.0         1070.0            0.0             0.0              100.0\n",
       "region      VARCHAR(20) CHARACTER SET LATIN          1070          0         0.0        NaN            NaN            NaN             0.0              100.0\n",
       "sex         VARCHAR(20) CHARACTER SET LATIN          1070          0         0.0        NaN            NaN            NaN             0.0              100.0\n",
       "age                                 INTEGER          1070          0         NaN        0.0         1070.0            0.0             0.0              100.0\n",
       "children                            INTEGER          1070          0         NaN      468.0          602.0            0.0             0.0              100.0"
      ]
     },
     "metadata": {},
     "output_type": "display_data"
    },
    {
     "name": "stdout",
     "output_type": "stream",
     "text": [
      "\n",
      "Statistics of Data:\n"
     ]
    },
    {
     "data": {
      "text/html": [
       "<style type=\"text/css\">\n",
       "\ttable {border:ridge 5px;}\n",
       "\ttable td {border:inset 1px;}\n",
       "\ttable tr#HeaderRow {background-color:grey; color:white;}</style>\n",
       "<html><table>\n",
       "\t<tr id=\"HeaderRow\">\n",
       "\t\t<th>func</th>\n",
       "\t\t<th>age</th>\n",
       "\t\t<th>bmi</th>\n",
       "\t\t<th>children</th>\n",
       "\t\t<th>charges</th>\n",
       "\t</tr>\n",
       "\t<tr>\n",
       "\t\t<td>min</td>\n",
       "\t\t<td>18</td>\n",
       "\t\t<td>15.96</td>\n",
       "\t\t<td>0</td>\n",
       "\t\t<td>1121.874</td>\n",
       "\t</tr>\n",
       "\t<tr>\n",
       "\t\t<td>std</td>\n",
       "\t\t<td>13.969</td>\n",
       "\t\t<td>5.96</td>\n",
       "\t\t<td>1.188</td>\n",
       "\t\t<td>12272.613</td>\n",
       "\t</tr>\n",
       "\t<tr>\n",
       "\t\t<td>25%</td>\n",
       "\t\t<td>27</td>\n",
       "\t\t<td>26.4</td>\n",
       "\t\t<td>0</td>\n",
       "\t\t<td>4854.685</td>\n",
       "\t</tr>\n",
       "\t<tr>\n",
       "\t\t<td>50%</td>\n",
       "\t\t<td>40</td>\n",
       "\t\t<td>30.2</td>\n",
       "\t\t<td>1</td>\n",
       "\t\t<td>9467.447</td>\n",
       "\t</tr>\n",
       "\t<tr>\n",
       "\t\t<td>75%</td>\n",
       "\t\t<td>51</td>\n",
       "\t\t<td>34.471</td>\n",
       "\t\t<td>2</td>\n",
       "\t\t<td>17442.179</td>\n",
       "\t</tr>\n",
       "\t<tr>\n",
       "\t\t<td>max</td>\n",
       "\t\t<td>64</td>\n",
       "\t\t<td>52.58</td>\n",
       "\t\t<td>5</td>\n",
       "\t\t<td>62592.873</td>\n",
       "\t</tr>\n",
       "\t<tr>\n",
       "\t\t<td>mean</td>\n",
       "\t\t<td>39.404</td>\n",
       "\t\t<td>30.579</td>\n",
       "\t\t<td>1.073</td>\n",
       "\t\t<td>13517.12</td>\n",
       "\t</tr>\n",
       "\t<tr>\n",
       "\t\t<td>count</td>\n",
       "\t\t<td>1070</td>\n",
       "\t\t<td>1070</td>\n",
       "\t\t<td>1070</td>\n",
       "\t\t<td>1070</td>\n",
       "\t</tr>\n",
       "</table></html>"
      ],
      "text/plain": [
       "            age       bmi  children    charges\n",
       "func                                          \n",
       "min      18.000    15.960     0.000   1121.874\n",
       "std      13.969     5.960     1.188  12272.613\n",
       "25%      27.000    26.400     0.000   4854.685\n",
       "50%      40.000    30.200     1.000   9467.447\n",
       "75%      51.000    34.471     2.000  17442.179\n",
       "max      64.000    52.580     5.000  62592.873\n",
       "mean     39.404    30.579     1.073  13517.120\n",
       "count  1070.000  1070.000  1070.000   1070.000"
      ]
     },
     "metadata": {},
     "output_type": "display_data"
    },
    {
     "name": "stdout",
     "output_type": "stream",
     "text": [
      "\n",
      "Categorical Columns with their Distinct values:\n",
      "ColumnName                DistinctValueCount\n",
      "sex                       2         \n",
      "smoker                    2         \n",
      "region                    4         \n",
      "\n",
      "No Futile columns found.\n",
      "\n",
      "Target Column Distribution:\n"
     ]
    },
    {
     "data": {
      "image/png": "[encoded data removed]",
      "text/plain": [
       "<Figure size 800x600 with 1 Axes>"
      ]
     },
     "metadata": {},
     "output_type": "display_data"
    },
    {
     "name": "stdout",
     "output_type": "stream",
     "text": [
      "Columns with outlier percentage :-                                                                                                                                                                                                                                                                                                                                                                                                                                                                                  \n",
      "  ColumnName  OutlierPercentage\n",
      "0    charges           9.439252\n",
      "1        bmi           0.560748\n",
      "                                                                                        \r"
     ]
    },
    {
     "data": {
      "text/html": [
       "\n",
       "            <style>\n",
       "                .custom-div {\n",
       "                    background-color: lightgray;\n",
       "                    color: #000000;\n",
       "                    padding: 10px;\n",
       "                    border-radius: 8px;\n",
       "                    box-shadow: 0 3px 4px rgba(0 -  0 -  0 -  0.2);\n",
       "                    margin-bottom: 10px;\n",
       "                    text-align: center;\n",
       "                }\n",
       "            </style>\n",
       "        <br><div class=\"custom-div\"><h3><span style=\"color: green;\">1. Feature Exploration -></span> 2. Feature Engineering -> 3. Data Preparation -> 4. Model Training & Evaluation<center></h3></center></div>"
      ],
      "text/plain": [
       "<IPython.core.display.HTML object>"
      ]
     },
     "metadata": {},
     "output_type": "display_data"
    },
    {
     "name": "stdout",
     "output_type": "stream",
     "text": [
      "                                                                                        \r"
     ]
    },
    {
     "data": {
      "text/html": [
       "Feature Engineering started ..."
      ],
      "text/plain": [
       "<IPython.core.display.HTML object>"
      ]
     },
     "metadata": {},
     "output_type": "display_data"
    },
    {
     "name": "stdout",
     "output_type": "stream",
     "text": [
      "                                                                                        \r"
     ]
    },
    {
     "data": {
      "text/html": [
       "\n",
       "Handling duplicate records present in dataset ..."
      ],
      "text/plain": [
       "<IPython.core.display.HTML object>"
      ]
     },
     "metadata": {},
     "output_type": "display_data"
    },
    {
     "name": "stdout",
     "output_type": "stream",
     "text": [
      "                                                                                        \r"
     ]
    },
    {
     "data": {
      "text/html": [
       "Updated dataset sample after removing 1 duplicate records:"
      ],
      "text/plain": [
       "<IPython.core.display.HTML object>"
      ]
     },
     "metadata": {},
     "output_type": "display_data"
    },
    {
     "data": {
      "text/html": [
       "<style type=\"text/css\">\n",
       "\ttable {border:ridge 5px;}\n",
       "\ttable td {border:inset 1px;}\n",
       "\ttable tr#HeaderRow {background-color:grey; color:white;}</style>\n",
       "<html><table>\n",
       "\t<tr id=\"HeaderRow\">\n",
       "\t\t<th>age</th>\n",
       "\t\t<th>sex</th>\n",
       "\t\t<th>bmi</th>\n",
       "\t\t<th>children</th>\n",
       "\t\t<th>smoker</th>\n",
       "\t\t<th>region</th>\n",
       "\t\t<th>charges</th>\n",
       "\t</tr>\n",
       "\t<tr>\n",
       "\t\t<td>32</td>\n",
       "\t\t<td>female</td>\n",
       "\t\t<td>17.765</td>\n",
       "\t\t<td>2</td>\n",
       "\t\t<td>yes</td>\n",
       "\t\t<td>northwest</td>\n",
       "\t\t<td>32734.1863</td>\n",
       "\t</tr>\n",
       "\t<tr>\n",
       "\t\t<td>61</td>\n",
       "\t\t<td>female</td>\n",
       "\t\t<td>28.2</td>\n",
       "\t\t<td>0</td>\n",
       "\t\t<td>no</td>\n",
       "\t\t<td>southwest</td>\n",
       "\t\t<td>13041.921</td>\n",
       "\t</tr>\n",
       "\t<tr>\n",
       "\t\t<td>61</td>\n",
       "\t\t<td>female</td>\n",
       "\t\t<td>21.09</td>\n",
       "\t\t<td>0</td>\n",
       "\t\t<td>no</td>\n",
       "\t\t<td>northwest</td>\n",
       "\t\t<td>13415.0381</td>\n",
       "\t</tr>\n",
       "\t<tr>\n",
       "\t\t<td>49</td>\n",
       "\t\t<td>female</td>\n",
       "\t\t<td>27.17</td>\n",
       "\t\t<td>0</td>\n",
       "\t\t<td>no</td>\n",
       "\t\t<td>southeast</td>\n",
       "\t\t<td>8601.3293</td>\n",
       "\t</tr>\n",
       "\t<tr>\n",
       "\t\t<td>40</td>\n",
       "\t\t<td>female</td>\n",
       "\t\t<td>27.4</td>\n",
       "\t\t<td>1</td>\n",
       "\t\t<td>no</td>\n",
       "\t\t<td>southwest</td>\n",
       "\t\t<td>6496.886</td>\n",
       "\t</tr>\n",
       "\t<tr>\n",
       "\t\t<td>40</td>\n",
       "\t\t<td>male</td>\n",
       "\t\t<td>24.97</td>\n",
       "\t\t<td>2</td>\n",
       "\t\t<td>no</td>\n",
       "\t\t<td>southeast</td>\n",
       "\t\t<td>6593.5083</td>\n",
       "\t</tr>\n",
       "\t<tr>\n",
       "\t\t<td>19</td>\n",
       "\t\t<td>female</td>\n",
       "\t\t<td>21.7</td>\n",
       "\t\t<td>0</td>\n",
       "\t\t<td>yes</td>\n",
       "\t\t<td>southwest</td>\n",
       "\t\t<td>13844.506</td>\n",
       "\t</tr>\n",
       "\t<tr>\n",
       "\t\t<td>19</td>\n",
       "\t\t<td>male</td>\n",
       "\t\t<td>20.615</td>\n",
       "\t\t<td>2</td>\n",
       "\t\t<td>no</td>\n",
       "\t\t<td>northwest</td>\n",
       "\t\t<td>2803.69785</td>\n",
       "\t</tr>\n",
       "\t<tr>\n",
       "\t\t<td>34</td>\n",
       "\t\t<td>male</td>\n",
       "\t\t<td>34.21</td>\n",
       "\t\t<td>0</td>\n",
       "\t\t<td>no</td>\n",
       "\t\t<td>southeast</td>\n",
       "\t\t<td>3935.1799</td>\n",
       "\t</tr>\n",
       "\t<tr>\n",
       "\t\t<td>34</td>\n",
       "\t\t<td>male</td>\n",
       "\t\t<td>30.8</td>\n",
       "\t\t<td>0</td>\n",
       "\t\t<td>yes</td>\n",
       "\t\t<td>southwest</td>\n",
       "\t\t<td>35491.64</td>\n",
       "\t</tr>\n",
       "</table></html>"
      ],
      "text/plain": [
       "        sex     bmi  children smoker     region      charges\n",
       "age                                                         \n",
       "32   female  17.765         2    yes  northwest  32734.18630\n",
       "61   female  28.200         0     no  southwest  13041.92100\n",
       "61   female  21.090         0     no  northwest  13415.03810\n",
       "49   female  27.170         0     no  southeast   8601.32930\n",
       "40   female  27.400         1     no  southwest   6496.88600\n",
       "40     male  24.970         2     no  southeast   6593.50830\n",
       "19   female  21.700         0    yes  southwest  13844.50600\n",
       "19     male  20.615         2     no  northwest   2803.69785\n",
       "34     male  34.210         0     no  southeast   3935.17990\n",
       "34     male  30.800         0    yes  southwest  35491.64000"
      ]
     },
     "metadata": {},
     "output_type": "display_data"
    },
    {
     "name": "stdout",
     "output_type": "stream",
     "text": [
      "Remaining Rows in the data: 1069                                                        \n",
      "Remaining Columns in the data: 7\n",
      "                                                                                        \r"
     ]
    },
    {
     "data": {
      "text/html": [
       "Total time to handle duplicate records: 3.86 sec  "
      ],
      "text/plain": [
       "<IPython.core.display.HTML object>"
      ]
     },
     "metadata": {},
     "output_type": "display_data"
    },
    {
     "name": "stdout",
     "output_type": "stream",
     "text": [
      "                                                                                        \r"
     ]
    },
    {
     "data": {
      "text/html": [
       "\n",
       "Handling less significant features from data ..."
      ],
      "text/plain": [
       "<IPython.core.display.HTML object>"
      ]
     },
     "metadata": {},
     "output_type": "display_data"
    },
    {
     "name": "stdout",
     "output_type": "stream",
     "text": [
      "All categorical columns seem to be significant.                                         \n",
      "                                                                                        \r"
     ]
    },
    {
     "data": {
      "text/html": [
       "Total time to handle less significant features: 16.42 sec  "
      ],
      "text/plain": [
       "<IPython.core.display.HTML object>"
      ]
     },
     "metadata": {},
     "output_type": "display_data"
    },
    {
     "name": "stdout",
     "output_type": "stream",
     "text": [
      "                                                                                         \r"
     ]
    },
    {
     "data": {
      "text/html": [
       "\n",
       "Handling Date Features ..."
      ],
      "text/plain": [
       "<IPython.core.display.HTML object>"
      ]
     },
     "metadata": {},
     "output_type": "display_data"
    },
    {
     "name": "stdout",
     "output_type": "stream",
     "text": [
      "Dataset does not contain any feature related to dates.                                   \n",
      "                                                                                         \r"
     ]
    },
    {
     "data": {
      "text/html": [
       "Total time to handle date features: 0.00 sec\n"
      ],
      "text/plain": [
       "<IPython.core.display.HTML object>"
      ]
     },
     "metadata": {},
     "output_type": "display_data"
    },
    {
     "name": "stdout",
     "output_type": "stream",
     "text": [
      "                                                                                         \r"
     ]
    },
    {
     "data": {
      "text/html": [
       "\n",
       "Checking Missing values in dataset ..."
      ],
      "text/plain": [
       "<IPython.core.display.HTML object>"
      ]
     },
     "metadata": {},
     "output_type": "display_data"
    },
    {
     "name": "stdout",
     "output_type": "stream",
     "text": [
      "No Missing Values Detected.                                                              \n",
      "                                                                                         \r"
     ]
    },
    {
     "data": {
      "text/html": [
       "Total time to find missing values in data: 7.28 sec  "
      ],
      "text/plain": [
       "<IPython.core.display.HTML object>"
      ]
     },
     "metadata": {},
     "output_type": "display_data"
    },
    {
     "name": "stdout",
     "output_type": "stream",
     "text": [
      "                                                                                         \r"
     ]
    },
    {
     "data": {
      "text/html": [
       "\n",
       "Imputing Missing Values ..."
      ],
      "text/plain": [
       "<IPython.core.display.HTML object>"
      ]
     },
     "metadata": {},
     "output_type": "display_data"
    },
    {
     "name": "stdout",
     "output_type": "stream",
     "text": [
      "No imputation is Required.                                                               \n",
      "                                                                                         \r"
     ]
    },
    {
     "data": {
      "text/html": [
       "Time taken to perform imputation: 0.00 sec  "
      ],
      "text/plain": [
       "<IPython.core.display.HTML object>"
      ]
     },
     "metadata": {},
     "output_type": "display_data"
    },
    {
     "name": "stdout",
     "output_type": "stream",
     "text": [
      "                                                                                         \r"
     ]
    },
    {
     "data": {
      "text/html": [
       "\n",
       "Performing encoding for categorical columns ..."
      ],
      "text/plain": [
       "<IPython.core.display.HTML object>"
      ]
     },
     "metadata": {},
     "output_type": "display_data"
    },
    {
     "name": "stdout",
     "output_type": "stream",
     "text": [
      "result data stored in table '\"AUTOML_USR\".\"ml__td_sqlmr_persist_out__1711980045804767\"'19\n",
      "                                                                                         \r"
     ]
    },
    {
     "data": {
      "text/html": [
       "ONE HOT Encoding these Columns:"
      ],
      "text/plain": [
       "<IPython.core.display.HTML object>"
      ]
     },
     "metadata": {},
     "output_type": "display_data"
    },
    {
     "name": "stdout",
     "output_type": "stream",
     "text": [
      "['sex', 'smoker', 'region']\n",
      "                                                                                         \r"
     ]
    },
    {
     "data": {
      "text/html": [
       "Time taken to encode the columns: 12.55 sec"
      ],
      "text/plain": [
       "<IPython.core.display.HTML object>"
      ]
     },
     "metadata": {},
     "output_type": "display_data"
    },
    {
     "name": "stdout",
     "output_type": "stream",
     "text": [
      "                                                                                         \r"
     ]
    },
    {
     "data": {
      "text/html": [
       "\n",
       "            <style>\n",
       "                .custom-div {\n",
       "                    background-color: lightgray;\n",
       "                    color: #000000;\n",
       "                    padding: 10px;\n",
       "                    border-radius: 8px;\n",
       "                    box-shadow: 0 3px 4px rgba(0 -  0 -  0 -  0.2);\n",
       "                    margin-bottom: 10px;\n",
       "                    text-align: center;\n",
       "                }\n",
       "            </style>\n",
       "        <br><div class=\"custom-div\"><h3><span style=\"color: green;\">1. Feature Exploration -> 2. Feature Engineering -></span> 3. Data Preparation -> 4. Model Training & Evaluation<center></h3></center></div>"
      ],
      "text/plain": [
       "<IPython.core.display.HTML object>"
      ]
     },
     "metadata": {},
     "output_type": "display_data"
    },
    {
     "name": "stdout",
     "output_type": "stream",
     "text": [
      "                                                                                         \r"
     ]
    },
    {
     "data": {
      "text/html": [
       "Data preparation started ..."
      ],
      "text/plain": [
       "<IPython.core.display.HTML object>"
      ]
     },
     "metadata": {},
     "output_type": "display_data"
    },
    {
     "name": "stdout",
     "output_type": "stream",
     "text": [
      "                                                                                         \r"
     ]
    },
    {
     "data": {
      "text/html": [
       "\n",
       "Spliting of dataset into training and testing ..."
      ],
      "text/plain": [
       "<IPython.core.display.HTML object>"
      ]
     },
     "metadata": {},
     "output_type": "display_data"
    },
    {
     "name": "stdout",
     "output_type": "stream",
     "text": [
      "Training size : 0.8                                                                      \n",
      "Testing size  : 0.2                                                                      \n",
      "                                                                                         \r"
     ]
    },
    {
     "data": {
      "text/html": [
       "Training data sample"
      ],
      "text/plain": [
       "<IPython.core.display.HTML object>"
      ]
     },
     "metadata": {},
     "output_type": "display_data"
    },
    {
     "data": {
      "text/html": [
       "<style type=\"text/css\">\n",
       "\ttable {border:ridge 5px;}\n",
       "\ttable td {border:inset 1px;}\n",
       "\ttable tr#HeaderRow {background-color:grey; color:white;}</style>\n",
       "<html><table>\n",
       "\t<tr id=\"HeaderRow\">\n",
       "\t\t<th>age</th>\n",
       "\t\t<th>sex_0</th>\n",
       "\t\t<th>sex_1</th>\n",
       "\t\t<th>bmi</th>\n",
       "\t\t<th>children</th>\n",
       "\t\t<th>smoker_0</th>\n",
       "\t\t<th>smoker_1</th>\n",
       "\t\t<th>region_0</th>\n",
       "\t\t<th>region_1</th>\n",
       "\t\t<th>region_2</th>\n",
       "\t\t<th>region_3</th>\n",
       "\t\t<th>charges</th>\n",
       "\t\t<th>id</th>\n",
       "\t</tr>\n",
       "\t<tr>\n",
       "\t\t<td>34</td>\n",
       "\t\t<td>0</td>\n",
       "\t\t<td>1</td>\n",
       "\t\t<td>34.21</td>\n",
       "\t\t<td>0</td>\n",
       "\t\t<td>1</td>\n",
       "\t\t<td>0</td>\n",
       "\t\t<td>0</td>\n",
       "\t\t<td>0</td>\n",
       "\t\t<td>1</td>\n",
       "\t\t<td>0</td>\n",
       "\t\t<td>3935.1799</td>\n",
       "\t\t<td>9</td>\n",
       "\t</tr>\n",
       "\t<tr>\n",
       "\t\t<td>40</td>\n",
       "\t\t<td>1</td>\n",
       "\t\t<td>0</td>\n",
       "\t\t<td>27.4</td>\n",
       "\t\t<td>1</td>\n",
       "\t\t<td>1</td>\n",
       "\t\t<td>0</td>\n",
       "\t\t<td>0</td>\n",
       "\t\t<td>0</td>\n",
       "\t\t<td>0</td>\n",
       "\t\t<td>1</td>\n",
       "\t\t<td>6496.886</td>\n",
       "\t\t<td>10</td>\n",
       "\t</tr>\n",
       "\t<tr>\n",
       "\t\t<td>40</td>\n",
       "\t\t<td>0</td>\n",
       "\t\t<td>1</td>\n",
       "\t\t<td>24.97</td>\n",
       "\t\t<td>2</td>\n",
       "\t\t<td>1</td>\n",
       "\t\t<td>0</td>\n",
       "\t\t<td>0</td>\n",
       "\t\t<td>0</td>\n",
       "\t\t<td>1</td>\n",
       "\t\t<td>0</td>\n",
       "\t\t<td>6593.5083</td>\n",
       "\t\t<td>18</td>\n",
       "\t</tr>\n",
       "\t<tr>\n",
       "\t\t<td>49</td>\n",
       "\t\t<td>1</td>\n",
       "\t\t<td>0</td>\n",
       "\t\t<td>27.17</td>\n",
       "\t\t<td>0</td>\n",
       "\t\t<td>1</td>\n",
       "\t\t<td>0</td>\n",
       "\t\t<td>0</td>\n",
       "\t\t<td>0</td>\n",
       "\t\t<td>1</td>\n",
       "\t\t<td>0</td>\n",
       "\t\t<td>8601.3293</td>\n",
       "\t\t<td>13</td>\n",
       "\t</tr>\n",
       "\t<tr>\n",
       "\t\t<td>61</td>\n",
       "\t\t<td>1</td>\n",
       "\t\t<td>0</td>\n",
       "\t\t<td>28.2</td>\n",
       "\t\t<td>0</td>\n",
       "\t\t<td>1</td>\n",
       "\t\t<td>0</td>\n",
       "\t\t<td>0</td>\n",
       "\t\t<td>0</td>\n",
       "\t\t<td>0</td>\n",
       "\t\t<td>1</td>\n",
       "\t\t<td>13041.921</td>\n",
       "\t\t<td>14</td>\n",
       "\t</tr>\n",
       "\t<tr>\n",
       "\t\t<td>61</td>\n",
       "\t\t<td>1</td>\n",
       "\t\t<td>0</td>\n",
       "\t\t<td>21.09</td>\n",
       "\t\t<td>0</td>\n",
       "\t\t<td>1</td>\n",
       "\t\t<td>0</td>\n",
       "\t\t<td>0</td>\n",
       "\t\t<td>1</td>\n",
       "\t\t<td>0</td>\n",
       "\t\t<td>0</td>\n",
       "\t\t<td>13415.0381</td>\n",
       "\t\t<td>22</td>\n",
       "\t</tr>\n",
       "\t<tr>\n",
       "\t\t<td>19</td>\n",
       "\t\t<td>1</td>\n",
       "\t\t<td>0</td>\n",
       "\t\t<td>21.7</td>\n",
       "\t\t<td>0</td>\n",
       "\t\t<td>0</td>\n",
       "\t\t<td>1</td>\n",
       "\t\t<td>0</td>\n",
       "\t\t<td>0</td>\n",
       "\t\t<td>0</td>\n",
       "\t\t<td>1</td>\n",
       "\t\t<td>13844.506</td>\n",
       "\t\t<td>11</td>\n",
       "\t</tr>\n",
       "\t<tr>\n",
       "\t\t<td>19</td>\n",
       "\t\t<td>0</td>\n",
       "\t\t<td>1</td>\n",
       "\t\t<td>20.615</td>\n",
       "\t\t<td>2</td>\n",
       "\t\t<td>1</td>\n",
       "\t\t<td>0</td>\n",
       "\t\t<td>0</td>\n",
       "\t\t<td>1</td>\n",
       "\t\t<td>0</td>\n",
       "\t\t<td>0</td>\n",
       "\t\t<td>2803.69785</td>\n",
       "\t\t<td>19</td>\n",
       "\t</tr>\n",
       "\t<tr>\n",
       "\t\t<td>38</td>\n",
       "\t\t<td>0</td>\n",
       "\t\t<td>1</td>\n",
       "\t\t<td>29.26</td>\n",
       "\t\t<td>2</td>\n",
       "\t\t<td>1</td>\n",
       "\t\t<td>0</td>\n",
       "\t\t<td>0</td>\n",
       "\t\t<td>1</td>\n",
       "\t\t<td>0</td>\n",
       "\t\t<td>0</td>\n",
       "\t\t<td>6457.8434</td>\n",
       "\t\t<td>12</td>\n",
       "\t</tr>\n",
       "\t<tr>\n",
       "\t\t<td>38</td>\n",
       "\t\t<td>0</td>\n",
       "\t\t<td>1</td>\n",
       "\t\t<td>28.025</td>\n",
       "\t\t<td>1</td>\n",
       "\t\t<td>1</td>\n",
       "\t\t<td>0</td>\n",
       "\t\t<td>1</td>\n",
       "\t\t<td>0</td>\n",
       "\t\t<td>0</td>\n",
       "\t\t<td>0</td>\n",
       "\t\t<td>6067.12675</td>\n",
       "\t\t<td>20</td>\n",
       "\t</tr>\n",
       "</table></html>"
      ],
      "text/plain": [
       "   age  sex_0  sex_1     bmi  children  smoker_0  smoker_1  region_0  region_1  region_2  region_3      charges  id\n",
       "0   34      0      1  34.210         0         1         0         0         0         1         0   3935.17990   9\n",
       "1   40      1      0  27.400         1         1         0         0         0         0         1   6496.88600  10\n",
       "2   40      0      1  24.970         2         1         0         0         0         1         0   6593.50830  18\n",
       "3   49      1      0  27.170         0         1         0         0         0         1         0   8601.32930  13\n",
       "4   61      1      0  28.200         0         1         0         0         0         0         1  13041.92100  14\n",
       "5   61      1      0  21.090         0         1         0         0         1         0         0  13415.03810  22\n",
       "6   19      1      0  21.700         0         0         1         0         0         0         1  13844.50600  11\n",
       "7   19      0      1  20.615         2         1         0         0         1         0         0   2803.69785  19\n",
       "8   38      0      1  29.260         2         1         0         0         1         0         0   6457.84340  12\n",
       "9   38      0      1  28.025         1         1         0         1         0         0         0   6067.12675  20"
      ]
     },
     "metadata": {},
     "output_type": "display_data"
    },
    {
     "name": "stdout",
     "output_type": "stream",
     "text": [
      "                                                                                         \r"
     ]
    },
    {
     "data": {
      "text/html": [
       "Testing data sample"
      ],
      "text/plain": [
       "<IPython.core.display.HTML object>"
      ]
     },
     "metadata": {},
     "output_type": "display_data"
    },
    {
     "data": {
      "text/html": [
       "<style type=\"text/css\">\n",
       "\ttable {border:ridge 5px;}\n",
       "\ttable td {border:inset 1px;}\n",
       "\ttable tr#HeaderRow {background-color:grey; color:white;}</style>\n",
       "<html><table>\n",
       "\t<tr id=\"HeaderRow\">\n",
       "\t\t<th>age</th>\n",
       "\t\t<th>sex_0</th>\n",
       "\t\t<th>sex_1</th>\n",
       "\t\t<th>bmi</th>\n",
       "\t\t<th>children</th>\n",
       "\t\t<th>smoker_0</th>\n",
       "\t\t<th>smoker_1</th>\n",
       "\t\t<th>region_0</th>\n",
       "\t\t<th>region_1</th>\n",
       "\t\t<th>region_2</th>\n",
       "\t\t<th>region_3</th>\n",
       "\t\t<th>charges</th>\n",
       "\t\t<th>id</th>\n",
       "\t</tr>\n",
       "\t<tr>\n",
       "\t\t<td>49</td>\n",
       "\t\t<td>0</td>\n",
       "\t\t<td>1</td>\n",
       "\t\t<td>25.84</td>\n",
       "\t\t<td>2</td>\n",
       "\t\t<td>0</td>\n",
       "\t\t<td>1</td>\n",
       "\t\t<td>0</td>\n",
       "\t\t<td>1</td>\n",
       "\t\t<td>0</td>\n",
       "\t\t<td>0</td>\n",
       "\t\t<td>23807.2406</td>\n",
       "\t\t<td>29</td>\n",
       "\t</tr>\n",
       "\t<tr>\n",
       "\t\t<td>38</td>\n",
       "\t\t<td>1</td>\n",
       "\t\t<td>0</td>\n",
       "\t\t<td>19.95</td>\n",
       "\t\t<td>2</td>\n",
       "\t\t<td>1</td>\n",
       "\t\t<td>0</td>\n",
       "\t\t<td>1</td>\n",
       "\t\t<td>0</td>\n",
       "\t\t<td>0</td>\n",
       "\t\t<td>0</td>\n",
       "\t\t<td>7133.9025</td>\n",
       "\t\t<td>28</td>\n",
       "\t</tr>\n",
       "\t<tr>\n",
       "\t\t<td>38</td>\n",
       "\t\t<td>1</td>\n",
       "\t\t<td>0</td>\n",
       "\t\t<td>34.8</td>\n",
       "\t\t<td>2</td>\n",
       "\t\t<td>1</td>\n",
       "\t\t<td>0</td>\n",
       "\t\t<td>0</td>\n",
       "\t\t<td>0</td>\n",
       "\t\t<td>0</td>\n",
       "\t\t<td>1</td>\n",
       "\t\t<td>6571.544</td>\n",
       "\t\t<td>124</td>\n",
       "\t</tr>\n",
       "\t<tr>\n",
       "\t\t<td>61</td>\n",
       "\t\t<td>1</td>\n",
       "\t\t<td>0</td>\n",
       "\t\t<td>29.07</td>\n",
       "\t\t<td>0</td>\n",
       "\t\t<td>0</td>\n",
       "\t\t<td>1</td>\n",
       "\t\t<td>0</td>\n",
       "\t\t<td>1</td>\n",
       "\t\t<td>0</td>\n",
       "\t\t<td>0</td>\n",
       "\t\t<td>29141.3603</td>\n",
       "\t\t<td>30</td>\n",
       "\t</tr>\n",
       "\t<tr>\n",
       "\t\t<td>34</td>\n",
       "\t\t<td>1</td>\n",
       "\t\t<td>0</td>\n",
       "\t\t<td>19.0</td>\n",
       "\t\t<td>3</td>\n",
       "\t\t<td>1</td>\n",
       "\t\t<td>0</td>\n",
       "\t\t<td>1</td>\n",
       "\t\t<td>0</td>\n",
       "\t\t<td>0</td>\n",
       "\t\t<td>0</td>\n",
       "\t\t<td>6753.038</td>\n",
       "\t\t<td>25</td>\n",
       "\t</tr>\n",
       "\t<tr>\n",
       "\t\t<td>34</td>\n",
       "\t\t<td>1</td>\n",
       "\t\t<td>0</td>\n",
       "\t\t<td>27.5</td>\n",
       "\t\t<td>1</td>\n",
       "\t\t<td>1</td>\n",
       "\t\t<td>0</td>\n",
       "\t\t<td>0</td>\n",
       "\t\t<td>0</td>\n",
       "\t\t<td>0</td>\n",
       "\t\t<td>1</td>\n",
       "\t\t<td>5003.853</td>\n",
       "\t\t<td>121</td>\n",
       "\t</tr>\n",
       "\t<tr>\n",
       "\t\t<td>32</td>\n",
       "\t\t<td>1</td>\n",
       "\t\t<td>0</td>\n",
       "\t\t<td>29.735</td>\n",
       "\t\t<td>0</td>\n",
       "\t\t<td>1</td>\n",
       "\t\t<td>0</td>\n",
       "\t\t<td>0</td>\n",
       "\t\t<td>1</td>\n",
       "\t\t<td>0</td>\n",
       "\t\t<td>0</td>\n",
       "\t\t<td>4357.04365</td>\n",
       "\t\t<td>31</td>\n",
       "\t</tr>\n",
       "\t<tr>\n",
       "\t\t<td>32</td>\n",
       "\t\t<td>1</td>\n",
       "\t\t<td>0</td>\n",
       "\t\t<td>24.6</td>\n",
       "\t\t<td>0</td>\n",
       "\t\t<td>0</td>\n",
       "\t\t<td>1</td>\n",
       "\t\t<td>0</td>\n",
       "\t\t<td>0</td>\n",
       "\t\t<td>0</td>\n",
       "\t\t<td>1</td>\n",
       "\t\t<td>17496.306</td>\n",
       "\t\t<td>127</td>\n",
       "\t</tr>\n",
       "\t<tr>\n",
       "\t\t<td>40</td>\n",
       "\t\t<td>0</td>\n",
       "\t\t<td>1</td>\n",
       "\t\t<td>32.775</td>\n",
       "\t\t<td>1</td>\n",
       "\t\t<td>0</td>\n",
       "\t\t<td>1</td>\n",
       "\t\t<td>1</td>\n",
       "\t\t<td>0</td>\n",
       "\t\t<td>0</td>\n",
       "\t\t<td>0</td>\n",
       "\t\t<td>39125.33225</td>\n",
       "\t\t<td>26</td>\n",
       "\t</tr>\n",
       "\t<tr>\n",
       "\t\t<td>40</td>\n",
       "\t\t<td>0</td>\n",
       "\t\t<td>1</td>\n",
       "\t\t<td>29.9</td>\n",
       "\t\t<td>2</td>\n",
       "\t\t<td>1</td>\n",
       "\t\t<td>0</td>\n",
       "\t\t<td>0</td>\n",
       "\t\t<td>0</td>\n",
       "\t\t<td>0</td>\n",
       "\t\t<td>1</td>\n",
       "\t\t<td>6600.361</td>\n",
       "\t\t<td>122</td>\n",
       "\t</tr>\n",
       "</table></html>"
      ],
      "text/plain": [
       "   age  sex_0  sex_1     bmi  children  smoker_0  smoker_1  region_0  region_1  region_2  region_3      charges   id\n",
       "0   49      0      1  25.840         2         0         1         0         1         0         0  23807.24060   29\n",
       "1   38      1      0  19.950         2         1         0         1         0         0         0   7133.90250   28\n",
       "2   38      1      0  34.800         2         1         0         0         0         0         1   6571.54400  124\n",
       "3   61      1      0  29.070         0         0         1         0         1         0         0  29141.36030   30\n",
       "4   34      1      0  19.000         3         1         0         1         0         0         0   6753.03800   25\n",
       "5   34      1      0  27.500         1         1         0         0         0         0         1   5003.85300  121\n",
       "6   32      1      0  29.735         0         1         0         0         1         0         0   4357.04365   31\n",
       "7   32      1      0  24.600         0         0         1         0         0         0         1  17496.30600  127\n",
       "8   40      0      1  32.775         1         0         1         1         0         0         0  39125.33225   26\n",
       "9   40      0      1  29.900         2         1         0         0         0         0         1   6600.36100  122"
      ]
     },
     "metadata": {},
     "output_type": "display_data"
    },
    {
     "name": "stdout",
     "output_type": "stream",
     "text": [
      "                                                                                         \r"
     ]
    },
    {
     "data": {
      "text/html": [
       "Time taken for spliting of data: 8.71 sec  "
      ],
      "text/plain": [
       "<IPython.core.display.HTML object>"
      ]
     },
     "metadata": {},
     "output_type": "display_data"
    },
    {
     "name": "stdout",
     "output_type": "stream",
     "text": [
      "                                                                                         \r"
     ]
    },
    {
     "data": {
      "text/html": [
       "\n",
       "Outlier preprocessing ..."
      ],
      "text/plain": [
       "<IPython.core.display.HTML object>"
      ]
     },
     "metadata": {},
     "output_type": "display_data"
    },
    {
     "name": "stdout",
     "output_type": "stream",
     "text": [
      "Columns with outlier percentage :-                                                                                                                                                                                                                                                                                                                                                                                                                                                                                  \n",
      "  ColumnName  OutlierPercentage\n",
      "0    charges           9.541628\n",
      "1        bmi           0.561272\n",
      "                                                                                         \r"
     ]
    },
    {
     "data": {
      "text/html": [
       "Deleting rows of these columns:"
      ],
      "text/plain": [
       "<IPython.core.display.HTML object>"
      ]
     },
     "metadata": {},
     "output_type": "display_data"
    },
    {
     "name": "stdout",
     "output_type": "stream",
     "text": [
      "['bmi']\n",
      "result data stored in table '\"AUTOML_USR\".\"ml__td_sqlmr_persist_out__1711974987902350\"'19\n",
      "                                                                                         \r"
     ]
    },
    {
     "data": {
      "text/html": [
       "Time Taken by Outlier processing: 32.75 sec "
      ],
      "text/plain": [
       "<IPython.core.display.HTML object>"
      ]
     },
     "metadata": {},
     "output_type": "display_data"
    },
    {
     "name": "stdout",
     "output_type": "stream",
     "text": [
      "result data stored in table '\"AUTOML_USR\".\"ml__td_sqlmr_persist_out__1711974252188521\"'19\n",
      "result data stored in table '\"AUTOML_USR\".\"ml__td_sqlmr_persist_out__1711973838194533\"'\n",
      "                                                                                          \r"
     ]
    },
    {
     "data": {
      "text/html": [
       "\n",
       "Feature selection using lasso ..."
      ],
      "text/plain": [
       "<IPython.core.display.HTML object>"
      ]
     },
     "metadata": {},
     "output_type": "display_data"
    },
    {
     "name": "stdout",
     "output_type": "stream",
     "text": [
      "                                                                                          \r"
     ]
    },
    {
     "data": {
      "text/html": [
       "feature selected by lasso:"
      ],
      "text/plain": [
       "<IPython.core.display.HTML object>"
      ]
     },
     "metadata": {},
     "output_type": "display_data"
    },
    {
     "name": "stdout",
     "output_type": "stream",
     "text": [
      "['region_0', 'age', 'smoker_1', 'smoker_0', 'children', 'bmi']\n",
      "                                                                                          \r"
     ]
    },
    {
     "data": {
      "text/html": [
       "Total time taken by feature selection: 0.66 sec  "
      ],
      "text/plain": [
       "<IPython.core.display.HTML object>"
      ]
     },
     "metadata": {},
     "output_type": "display_data"
    },
    {
     "name": "stdout",
     "output_type": "stream",
     "text": [
      "                                                                                          \r"
     ]
    },
    {
     "data": {
      "text/html": [
       "\n",
       "scaling Features of lasso data ..."
      ],
      "text/plain": [
       "<IPython.core.display.HTML object>"
      ]
     },
     "metadata": {},
     "output_type": "display_data"
    },
    {
     "name": "stdout",
     "output_type": "stream",
     "text": [
      "                                                                                          \r"
     ]
    },
    {
     "data": {
      "text/html": [
       "columns that will be scaled: "
      ],
      "text/plain": [
       "<IPython.core.display.HTML object>"
      ]
     },
     "metadata": {},
     "output_type": "display_data"
    },
    {
     "name": "stdout",
     "output_type": "stream",
     "text": [
      "['age', 'children', 'bmi']\n",
      "                                                                                          \r"
     ]
    },
    {
     "data": {
      "text/html": [
       "Training dataset sample after scaling:"
      ],
      "text/plain": [
       "<IPython.core.display.HTML object>"
      ]
     },
     "metadata": {},
     "output_type": "display_data"
    },
    {
     "data": {
      "text/html": [
       "<style type=\"text/css\">\n",
       "\ttable {border:ridge 5px;}\n",
       "\ttable td {border:inset 1px;}\n",
       "\ttable tr#HeaderRow {background-color:grey; color:white;}</style>\n",
       "<html><table>\n",
       "\t<tr id=\"HeaderRow\">\n",
       "\t\t<th>id</th>\n",
       "\t\t<th>smoker_0</th>\n",
       "\t\t<th>region_0</th>\n",
       "\t\t<th>smoker_1</th>\n",
       "\t\t<th>charges</th>\n",
       "\t\t<th>age</th>\n",
       "\t\t<th>children</th>\n",
       "\t\t<th>bmi</th>\n",
       "\t</tr>\n",
       "\t<tr>\n",
       "\t\t<td>40</td>\n",
       "\t\t<td>1</td>\n",
       "\t\t<td>1</td>\n",
       "\t\t<td>0</td>\n",
       "\t\t<td>24671.6633</td>\n",
       "\t\t<td>-0.9666007603220693</td>\n",
       "\t\t<td>2.502396794976323</td>\n",
       "\t\t<td>-0.1374160854018952</td>\n",
       "\t</tr>\n",
       "\t<tr>\n",
       "\t\t<td>1264</td>\n",
       "\t\t<td>1</td>\n",
       "\t\t<td>0</td>\n",
       "\t\t<td>0</td>\n",
       "\t\t<td>10602.385</td>\n",
       "\t\t<td>1.1822465992390665</td>\n",
       "\t\t<td>-0.8942860341021156</td>\n",
       "\t\t<td>1.717053062517439</td>\n",
       "\t</tr>\n",
       "\t<tr>\n",
       "\t\t<td>326</td>\n",
       "\t\t<td>1</td>\n",
       "\t\t<td>1</td>\n",
       "\t\t<td>0</td>\n",
       "\t\t<td>3268.8466</td>\n",
       "\t\t<td>-0.8233442696846603</td>\n",
       "\t\t<td>-0.8942860341021156</td>\n",
       "\t\t<td>0.8707123116142913</td>\n",
       "\t</tr>\n",
       "\t<tr>\n",
       "\t\t<td>734</td>\n",
       "\t\t<td>1</td>\n",
       "\t\t<td>0</td>\n",
       "\t\t<td>0</td>\n",
       "\t\t<td>10450.552</td>\n",
       "\t\t<td>1.0389901086016573</td>\n",
       "\t\t<td>-0.045115326832505916</td>\n",
       "\t\t<td>1.5952774149054758</td>\n",
       "\t</tr>\n",
       "\t<tr>\n",
       "\t\t<td>183</td>\n",
       "\t\t<td>1</td>\n",
       "\t\t<td>0</td>\n",
       "\t\t<td>0</td>\n",
       "\t\t<td>11520.0999</td>\n",
       "\t\t<td>0.8241053726455438</td>\n",
       "\t\t<td>2.502396794976323</td>\n",
       "\t\t<td>-1.0463843122197682</td>\n",
       "\t</tr>\n",
       "\t<tr>\n",
       "\t\t<td>530</td>\n",
       "\t\t<td>1</td>\n",
       "\t\t<td>1</td>\n",
       "\t\t<td>0</td>\n",
       "\t\t<td>2731.9122</td>\n",
       "\t\t<td>-1.2531137415968874</td>\n",
       "\t\t<td>-0.8942860341021156</td>\n",
       "\t\t<td>-1.2612313476494472</td>\n",
       "\t</tr>\n",
       "\t<tr>\n",
       "\t\t<td>835</td>\n",
       "\t\t<td>1</td>\n",
       "\t\t<td>0</td>\n",
       "\t\t<td>0</td>\n",
       "\t\t<td>4527.183</td>\n",
       "\t\t<td>-0.6800877790472513</td>\n",
       "\t\t<td>-0.045115326832505916</td>\n",
       "\t\t<td>-0.35226312083157413</td>\n",
       "\t</tr>\n",
       "\t<tr>\n",
       "\t\t<td>938</td>\n",
       "\t\t<td>1</td>\n",
       "\t\t<td>0</td>\n",
       "\t\t<td>0</td>\n",
       "\t\t<td>4762.329</td>\n",
       "\t\t<td>-0.3219465524537286</td>\n",
       "\t\t<td>-0.045115326832505916</td>\n",
       "\t\t<td>1.4213122040312418</td>\n",
       "\t</tr>\n",
       "\t<tr>\n",
       "\t\t<td>265</td>\n",
       "\t\t<td>0</td>\n",
       "\t\t<td>0</td>\n",
       "\t\t<td>1</td>\n",
       "\t\t<td>49577.6624</td>\n",
       "\t\t<td>1.7552725617887026</td>\n",
       "\t\t<td>0.8040553804371038</td>\n",
       "\t\t<td>1.1360092581974979</td>\n",
       "\t</tr>\n",
       "\t<tr>\n",
       "\t\t<td>469</td>\n",
       "\t\t<td>0</td>\n",
       "\t\t<td>0</td>\n",
       "\t\t<td>1</td>\n",
       "\t\t<td>24520.264</td>\n",
       "\t\t<td>0.7524771273268392</td>\n",
       "\t\t<td>-0.045115326832505916</td>\n",
       "\t\t<td>-0.49230511558533246</td>\n",
       "\t</tr>\n",
       "</table></html>"
      ],
      "text/plain": [
       "     id  smoker_0  region_0  smoker_1     charges       age  children       bmi\n",
       "0    40         1         1         0  24671.6633 -0.966601  2.502397 -0.137416\n",
       "1  1264         1         0         0  10602.3850  1.182247 -0.894286  1.717053\n",
       "2   326         1         1         0   3268.8466 -0.823344 -0.894286  0.870712\n",
       "3   734         1         0         0  10450.5520  1.038990 -0.045115  1.595277\n",
       "4   183         1         0         0  11520.0999  0.824105  2.502397 -1.046384\n",
       "5   530         1         1         0   2731.9122 -1.253114 -0.894286 -1.261231\n",
       "6   835         1         0         0   4527.1830 -0.680088 -0.045115 -0.352263\n",
       "7   938         1         0         0   4762.3290 -0.321947 -0.045115  1.421312\n",
       "8   265         0         0         1  49577.6624  1.755273  0.804055  1.136009\n",
       "9   469         0         0         1  24520.2640  0.752477 -0.045115 -0.492305"
      ]
     },
     "metadata": {},
     "output_type": "display_data"
    },
    {
     "name": "stdout",
     "output_type": "stream",
     "text": [
      "                                                                                          \r"
     ]
    },
    {
     "data": {
      "text/html": [
       "Testing dataset sample after scaling:"
      ],
      "text/plain": [
       "<IPython.core.display.HTML object>"
      ]
     },
     "metadata": {},
     "output_type": "display_data"
    },
    {
     "data": {
      "text/html": [
       "<style type=\"text/css\">\n",
       "\ttable {border:ridge 5px;}\n",
       "\ttable td {border:inset 1px;}\n",
       "\ttable tr#HeaderRow {background-color:grey; color:white;}</style>\n",
       "<html><table>\n",
       "\t<tr id=\"HeaderRow\">\n",
       "\t\t<th>id</th>\n",
       "\t\t<th>smoker_0</th>\n",
       "\t\t<th>region_0</th>\n",
       "\t\t<th>smoker_1</th>\n",
       "\t\t<th>charges</th>\n",
       "\t\t<th>age</th>\n",
       "\t\t<th>children</th>\n",
       "\t\t<th>bmi</th>\n",
       "\t</tr>\n",
       "\t<tr>\n",
       "\t\t<td>120</td>\n",
       "\t\t<td>1</td>\n",
       "\t\t<td>0</td>\n",
       "\t\t<td>0</td>\n",
       "\t\t<td>3378.91</td>\n",
       "\t\t<td>-0.9666007603220693</td>\n",
       "\t\t<td>-0.045115326832505916</td>\n",
       "\t\t<td>-1.849233760404358</td>\n",
       "\t</tr>\n",
       "\t<tr>\n",
       "\t\t<td>242</td>\n",
       "\t\t<td>1</td>\n",
       "\t\t<td>0</td>\n",
       "\t\t<td>0</td>\n",
       "\t\t<td>12646.207</td>\n",
       "\t\t<td>1.253874844557771</td>\n",
       "\t\t<td>0.8040553804371038</td>\n",
       "\t\t<td>1.3169330775067012</td>\n",
       "\t</tr>\n",
       "\t<tr>\n",
       "\t\t<td>894</td>\n",
       "\t\t<td>1</td>\n",
       "\t\t<td>0</td>\n",
       "\t\t<td>0</td>\n",
       "\t\t<td>3260.199</td>\n",
       "\t\t<td>-0.6084595337285467</td>\n",
       "\t\t<td>-0.8942860341021156</td>\n",
       "\t\t<td>-1.7448546338798179</td>\n",
       "\t</tr>\n",
       "\t<tr>\n",
       "\t\t<td>244</td>\n",
       "\t\t<td>0</td>\n",
       "\t\t<td>0</td>\n",
       "\t\t<td>1</td>\n",
       "\t\t<td>44423.803</td>\n",
       "\t\t<td>1.110618353920362</td>\n",
       "\t\t<td>-0.8942860341021156</td>\n",
       "\t\t<td>0.8298304870588463</td>\n",
       "\t</tr>\n",
       "\t<tr>\n",
       "\t\t<td>1283</td>\n",
       "\t\t<td>1</td>\n",
       "\t\t<td>0</td>\n",
       "\t\t<td>0</td>\n",
       "\t\t<td>9788.8659</td>\n",
       "\t\t<td>0.39433590073331665</td>\n",
       "\t\t<td>3.3515675022459326</td>\n",
       "\t\t<td>-1.0646506593615628</td>\n",
       "\t</tr>\n",
       "\t<tr>\n",
       "\t\t<td>1483</td>\n",
       "\t\t<td>0</td>\n",
       "\t\t<td>1</td>\n",
       "\t\t<td>1</td>\n",
       "\t\t<td>15359.1045</td>\n",
       "\t\t<td>-1.3247419869155919</td>\n",
       "\t\t<td>-0.045115326832505916</td>\n",
       "\t\t<td>-1.492605078112178</td>\n",
       "\t</tr>\n",
       "\t<tr>\n",
       "\t\t<td>570</td>\n",
       "\t\t<td>1</td>\n",
       "\t\t<td>0</td>\n",
       "\t\t<td>0</td>\n",
       "\t\t<td>15019.7601</td>\n",
       "\t\t<td>1.6120160711512936</td>\n",
       "\t\t<td>0.8040553804371038</td>\n",
       "\t\t<td>0.011324169895574963</td>\n",
       "\t</tr>\n",
       "\t<tr>\n",
       "\t\t<td>122</td>\n",
       "\t\t<td>1</td>\n",
       "\t\t<td>0</td>\n",
       "\t\t<td>0</td>\n",
       "\t\t<td>6600.361</td>\n",
       "\t\t<td>0.03619467413979402</td>\n",
       "\t\t<td>0.8040553804371038</td>\n",
       "\t\t<td>-0.09218513057459471</td>\n",
       "\t</tr>\n",
       "\t<tr>\n",
       "\t\t<td>549</td>\n",
       "\t\t<td>1</td>\n",
       "\t\t<td>0</td>\n",
       "\t\t<td>0</td>\n",
       "\t\t<td>8978.1851</td>\n",
       "\t\t<td>0.6092206366894303</td>\n",
       "\t\t<td>0.8040553804371038</td>\n",
       "\t\t<td>1.193417777785995</td>\n",
       "\t</tr>\n",
       "\t<tr>\n",
       "\t\t<td>814</td>\n",
       "\t\t<td>1</td>\n",
       "\t\t<td>0</td>\n",
       "\t\t<td>0</td>\n",
       "\t\t<td>4350.5144</td>\n",
       "\t\t<td>-0.6084595337285467</td>\n",
       "\t\t<td>-0.045115326832505916</td>\n",
       "\t\t<td>-0.20352286553410395</td>\n",
       "\t</tr>\n",
       "</table></html>"
      ],
      "text/plain": [
       "     id  smoker_0  region_0  smoker_1     charges       age  children       bmi\n",
       "0   120         1         0         0   3378.9100 -0.966601 -0.045115 -1.849234\n",
       "1   242         1         0         0  12646.2070  1.253875  0.804055  1.316933\n",
       "2   894         1         0         0   3260.1990 -0.608460 -0.894286 -1.744855\n",
       "3   244         0         0         1  44423.8030  1.110618 -0.894286  0.829830\n",
       "4  1283         1         0         0   9788.8659  0.394336  3.351568 -1.064651\n",
       "5  1483         0         1         1  15359.1045 -1.324742 -0.045115 -1.492605\n",
       "6   570         1         0         0  15019.7601  1.612016  0.804055  0.011324\n",
       "7   122         1         0         0   6600.3610  0.036195  0.804055 -0.092185\n",
       "8   549         1         0         0   8978.1851  0.609221  0.804055  1.193418\n",
       "9   814         1         0         0   4350.5144 -0.608460 -0.045115 -0.203523"
      ]
     },
     "metadata": {},
     "output_type": "display_data"
    },
    {
     "name": "stdout",
     "output_type": "stream",
     "text": [
      "                                                                                          \r"
     ]
    },
    {
     "data": {
      "text/html": [
       "Total time taken by feature scaling: 40.52 sec"
      ],
      "text/plain": [
       "<IPython.core.display.HTML object>"
      ]
     },
     "metadata": {},
     "output_type": "display_data"
    },
    {
     "name": "stdout",
     "output_type": "stream",
     "text": [
      "                                                                                          \r"
     ]
    },
    {
     "data": {
      "text/html": [
       "\n",
       "Feature selection using rfe ..."
      ],
      "text/plain": [
       "<IPython.core.display.HTML object>"
      ]
     },
     "metadata": {},
     "output_type": "display_data"
    },
    {
     "name": "stdout",
     "output_type": "stream",
     "text": [
      "                                                                                          \r"
     ]
    },
    {
     "data": {
      "text/html": [
       "feature selected by RFE:"
      ],
      "text/plain": [
       "<IPython.core.display.HTML object>"
      ]
     },
     "metadata": {},
     "output_type": "display_data"
    },
    {
     "name": "stdout",
     "output_type": "stream",
     "text": [
      "['region_0', 'sex_0', 'age', 'region_2', 'smoker_1', 'region_1', 'smoker_0', 'children', 'bmi']\n",
      "                                                                                          \r"
     ]
    },
    {
     "data": {
      "text/html": [
       "Total time taken by feature selection: 23.11 sec  "
      ],
      "text/plain": [
       "<IPython.core.display.HTML object>"
      ]
     },
     "metadata": {},
     "output_type": "display_data"
    },
    {
     "name": "stdout",
     "output_type": "stream",
     "text": [
      "                                                                                          \r"
     ]
    },
    {
     "data": {
      "text/html": [
       "\n",
       "scaling Features of rfe data ..."
      ],
      "text/plain": [
       "<IPython.core.display.HTML object>"
      ]
     },
     "metadata": {},
     "output_type": "display_data"
    },
    {
     "name": "stdout",
     "output_type": "stream",
     "text": [
      "                                                                                          \r"
     ]
    },
    {
     "data": {
      "text/html": [
       "columns that will be scaled: "
      ],
      "text/plain": [
       "<IPython.core.display.HTML object>"
      ]
     },
     "metadata": {},
     "output_type": "display_data"
    },
    {
     "name": "stdout",
     "output_type": "stream",
     "text": [
      "['r_age', 'r_children', 'r_bmi']\n",
      "                                                                                          \r"
     ]
    },
    {
     "data": {
      "text/html": [
       "Training dataset sample after scaling:"
      ],
      "text/plain": [
       "<IPython.core.display.HTML object>"
      ]
     },
     "metadata": {},
     "output_type": "display_data"
    },
    {
     "data": {
      "text/html": [
       "<style type=\"text/css\">\n",
       "\ttable {border:ridge 5px;}\n",
       "\ttable td {border:inset 1px;}\n",
       "\ttable tr#HeaderRow {background-color:grey; color:white;}</style>\n",
       "<html><table>\n",
       "\t<tr id=\"HeaderRow\">\n",
       "\t\t<th>id</th>\n",
       "\t\t<th>r_sex_0</th>\n",
       "\t\t<th>r_region_0</th>\n",
       "\t\t<th>r_region_1</th>\n",
       "\t\t<th>r_smoker_0</th>\n",
       "\t\t<th>charges</th>\n",
       "\t\t<th>r_smoker_1</th>\n",
       "\t\t<th>r_region_2</th>\n",
       "\t\t<th>r_age</th>\n",
       "\t\t<th>r_children</th>\n",
       "\t\t<th>r_bmi</th>\n",
       "\t</tr>\n",
       "\t<tr>\n",
       "\t\t<td>40</td>\n",
       "\t\t<td>1</td>\n",
       "\t\t<td>1</td>\n",
       "\t\t<td>0</td>\n",
       "\t\t<td>1</td>\n",
       "\t\t<td>24671.6633</td>\n",
       "\t\t<td>0</td>\n",
       "\t\t<td>0</td>\n",
       "\t\t<td>-0.9666007603220693</td>\n",
       "\t\t<td>2.502396794976323</td>\n",
       "\t\t<td>-0.1374160854018952</td>\n",
       "\t</tr>\n",
       "\t<tr>\n",
       "\t\t<td>1264</td>\n",
       "\t\t<td>0</td>\n",
       "\t\t<td>0</td>\n",
       "\t\t<td>0</td>\n",
       "\t\t<td>1</td>\n",
       "\t\t<td>10602.385</td>\n",
       "\t\t<td>0</td>\n",
       "\t\t<td>0</td>\n",
       "\t\t<td>1.1822465992390665</td>\n",
       "\t\t<td>-0.8942860341021156</td>\n",
       "\t\t<td>1.717053062517439</td>\n",
       "\t</tr>\n",
       "\t<tr>\n",
       "\t\t<td>326</td>\n",
       "\t\t<td>0</td>\n",
       "\t\t<td>1</td>\n",
       "\t\t<td>0</td>\n",
       "\t\t<td>1</td>\n",
       "\t\t<td>3268.8466</td>\n",
       "\t\t<td>0</td>\n",
       "\t\t<td>0</td>\n",
       "\t\t<td>-0.8233442696846603</td>\n",
       "\t\t<td>-0.8942860341021156</td>\n",
       "\t\t<td>0.8707123116142913</td>\n",
       "\t</tr>\n",
       "\t<tr>\n",
       "\t\t<td>734</td>\n",
       "\t\t<td>0</td>\n",
       "\t\t<td>0</td>\n",
       "\t\t<td>0</td>\n",
       "\t\t<td>1</td>\n",
       "\t\t<td>10450.552</td>\n",
       "\t\t<td>0</td>\n",
       "\t\t<td>0</td>\n",
       "\t\t<td>1.0389901086016573</td>\n",
       "\t\t<td>-0.045115326832505916</td>\n",
       "\t\t<td>1.5952774149054758</td>\n",
       "\t</tr>\n",
       "\t<tr>\n",
       "\t\t<td>183</td>\n",
       "\t\t<td>0</td>\n",
       "\t\t<td>0</td>\n",
       "\t\t<td>1</td>\n",
       "\t\t<td>1</td>\n",
       "\t\t<td>11520.0999</td>\n",
       "\t\t<td>0</td>\n",
       "\t\t<td>0</td>\n",
       "\t\t<td>0.8241053726455438</td>\n",
       "\t\t<td>2.502396794976323</td>\n",
       "\t\t<td>-1.0463843122197682</td>\n",
       "\t</tr>\n",
       "\t<tr>\n",
       "\t\t<td>530</td>\n",
       "\t\t<td>1</td>\n",
       "\t\t<td>1</td>\n",
       "\t\t<td>0</td>\n",
       "\t\t<td>1</td>\n",
       "\t\t<td>2731.9122</td>\n",
       "\t\t<td>0</td>\n",
       "\t\t<td>0</td>\n",
       "\t\t<td>-1.2531137415968874</td>\n",
       "\t\t<td>-0.8942860341021156</td>\n",
       "\t\t<td>-1.2612313476494472</td>\n",
       "\t</tr>\n",
       "\t<tr>\n",
       "\t\t<td>835</td>\n",
       "\t\t<td>1</td>\n",
       "\t\t<td>0</td>\n",
       "\t\t<td>1</td>\n",
       "\t\t<td>1</td>\n",
       "\t\t<td>4527.183</td>\n",
       "\t\t<td>0</td>\n",
       "\t\t<td>0</td>\n",
       "\t\t<td>-0.6800877790472513</td>\n",
       "\t\t<td>-0.045115326832505916</td>\n",
       "\t\t<td>-0.35226312083157413</td>\n",
       "\t</tr>\n",
       "\t<tr>\n",
       "\t\t<td>938</td>\n",
       "\t\t<td>0</td>\n",
       "\t\t<td>0</td>\n",
       "\t\t<td>0</td>\n",
       "\t\t<td>1</td>\n",
       "\t\t<td>4762.329</td>\n",
       "\t\t<td>0</td>\n",
       "\t\t<td>0</td>\n",
       "\t\t<td>-0.3219465524537286</td>\n",
       "\t\t<td>-0.045115326832505916</td>\n",
       "\t\t<td>1.4213122040312418</td>\n",
       "\t</tr>\n",
       "\t<tr>\n",
       "\t\t<td>265</td>\n",
       "\t\t<td>0</td>\n",
       "\t\t<td>0</td>\n",
       "\t\t<td>0</td>\n",
       "\t\t<td>0</td>\n",
       "\t\t<td>49577.6624</td>\n",
       "\t\t<td>1</td>\n",
       "\t\t<td>1</td>\n",
       "\t\t<td>1.7552725617887026</td>\n",
       "\t\t<td>0.8040553804371038</td>\n",
       "\t\t<td>1.1360092581974979</td>\n",
       "\t</tr>\n",
       "\t<tr>\n",
       "\t\t<td>469</td>\n",
       "\t\t<td>1</td>\n",
       "\t\t<td>0</td>\n",
       "\t\t<td>0</td>\n",
       "\t\t<td>0</td>\n",
       "\t\t<td>24520.264</td>\n",
       "\t\t<td>1</td>\n",
       "\t\t<td>0</td>\n",
       "\t\t<td>0.7524771273268392</td>\n",
       "\t\t<td>-0.045115326832505916</td>\n",
       "\t\t<td>-0.49230511558533246</td>\n",
       "\t</tr>\n",
       "</table></html>"
      ],
      "text/plain": [
       "     id  r_sex_0  r_region_0  r_region_1  r_smoker_0     charges  r_smoker_1  r_region_2     r_age  r_children     r_bmi\n",
       "0    40        1           1           0           1  24671.6633           0           0 -0.966601    2.502397 -0.137416\n",
       "1  1264        0           0           0           1  10602.3850           0           0  1.182247   -0.894286  1.717053\n",
       "2   326        0           1           0           1   3268.8466           0           0 -0.823344   -0.894286  0.870712\n",
       "3   734        0           0           0           1  10450.5520           0           0  1.038990   -0.045115  1.595277\n",
       "4   183        0           0           1           1  11520.0999           0           0  0.824105    2.502397 -1.046384\n",
       "5   530        1           1           0           1   2731.9122           0           0 -1.253114   -0.894286 -1.261231\n",
       "6   835        1           0           1           1   4527.1830           0           0 -0.680088   -0.045115 -0.352263\n",
       "7   938        0           0           0           1   4762.3290           0           0 -0.321947   -0.045115  1.421312\n",
       "8   265        0           0           0           0  49577.6624           1           1  1.755273    0.804055  1.136009\n",
       "9   469        1           0           0           0  24520.2640           1           0  0.752477   -0.045115 -0.492305"
      ]
     },
     "metadata": {},
     "output_type": "display_data"
    },
    {
     "name": "stdout",
     "output_type": "stream",
     "text": [
      "                                                                                          \r"
     ]
    },
    {
     "data": {
      "text/html": [
       "Testing dataset sample after scaling:"
      ],
      "text/plain": [
       "<IPython.core.display.HTML object>"
      ]
     },
     "metadata": {},
     "output_type": "display_data"
    },
    {
     "data": {
      "text/html": [
       "<style type=\"text/css\">\n",
       "\ttable {border:ridge 5px;}\n",
       "\ttable td {border:inset 1px;}\n",
       "\ttable tr#HeaderRow {background-color:grey; color:white;}</style>\n",
       "<html><table>\n",
       "\t<tr id=\"HeaderRow\">\n",
       "\t\t<th>id</th>\n",
       "\t\t<th>r_sex_0</th>\n",
       "\t\t<th>r_region_0</th>\n",
       "\t\t<th>r_region_1</th>\n",
       "\t\t<th>r_smoker_0</th>\n",
       "\t\t<th>charges</th>\n",
       "\t\t<th>r_smoker_1</th>\n",
       "\t\t<th>r_region_2</th>\n",
       "\t\t<th>r_age</th>\n",
       "\t\t<th>r_children</th>\n",
       "\t\t<th>r_bmi</th>\n",
       "\t</tr>\n",
       "\t<tr>\n",
       "\t\t<td>120</td>\n",
       "\t\t<td>1</td>\n",
       "\t\t<td>0</td>\n",
       "\t\t<td>0</td>\n",
       "\t\t<td>1</td>\n",
       "\t\t<td>3378.91</td>\n",
       "\t\t<td>0</td>\n",
       "\t\t<td>0</td>\n",
       "\t\t<td>-0.9666007603220693</td>\n",
       "\t\t<td>-0.045115326832505916</td>\n",
       "\t\t<td>-1.849233760404358</td>\n",
       "\t</tr>\n",
       "\t<tr>\n",
       "\t\t<td>242</td>\n",
       "\t\t<td>1</td>\n",
       "\t\t<td>0</td>\n",
       "\t\t<td>0</td>\n",
       "\t\t<td>1</td>\n",
       "\t\t<td>12646.207</td>\n",
       "\t\t<td>0</td>\n",
       "\t\t<td>0</td>\n",
       "\t\t<td>1.253874844557771</td>\n",
       "\t\t<td>0.8040553804371038</td>\n",
       "\t\t<td>1.3169330775067012</td>\n",
       "\t</tr>\n",
       "\t<tr>\n",
       "\t\t<td>894</td>\n",
       "\t\t<td>0</td>\n",
       "\t\t<td>0</td>\n",
       "\t\t<td>0</td>\n",
       "\t\t<td>1</td>\n",
       "\t\t<td>3260.199</td>\n",
       "\t\t<td>0</td>\n",
       "\t\t<td>0</td>\n",
       "\t\t<td>-0.6084595337285467</td>\n",
       "\t\t<td>-0.8942860341021156</td>\n",
       "\t\t<td>-1.7448546338798179</td>\n",
       "\t</tr>\n",
       "\t<tr>\n",
       "\t\t<td>244</td>\n",
       "\t\t<td>1</td>\n",
       "\t\t<td>0</td>\n",
       "\t\t<td>0</td>\n",
       "\t\t<td>0</td>\n",
       "\t\t<td>44423.803</td>\n",
       "\t\t<td>1</td>\n",
       "\t\t<td>1</td>\n",
       "\t\t<td>1.110618353920362</td>\n",
       "\t\t<td>-0.8942860341021156</td>\n",
       "\t\t<td>0.8298304870588463</td>\n",
       "\t</tr>\n",
       "\t<tr>\n",
       "\t\t<td>1283</td>\n",
       "\t\t<td>0</td>\n",
       "\t\t<td>0</td>\n",
       "\t\t<td>0</td>\n",
       "\t\t<td>1</td>\n",
       "\t\t<td>9788.8659</td>\n",
       "\t\t<td>0</td>\n",
       "\t\t<td>1</td>\n",
       "\t\t<td>0.39433590073331665</td>\n",
       "\t\t<td>3.3515675022459326</td>\n",
       "\t\t<td>-1.0646506593615628</td>\n",
       "\t</tr>\n",
       "\t<tr>\n",
       "\t\t<td>1483</td>\n",
       "\t\t<td>1</td>\n",
       "\t\t<td>1</td>\n",
       "\t\t<td>0</td>\n",
       "\t\t<td>0</td>\n",
       "\t\t<td>15359.1045</td>\n",
       "\t\t<td>1</td>\n",
       "\t\t<td>0</td>\n",
       "\t\t<td>-1.3247419869155919</td>\n",
       "\t\t<td>-0.045115326832505916</td>\n",
       "\t\t<td>-1.492605078112178</td>\n",
       "\t</tr>\n",
       "\t<tr>\n",
       "\t\t<td>570</td>\n",
       "\t\t<td>1</td>\n",
       "\t\t<td>0</td>\n",
       "\t\t<td>1</td>\n",
       "\t\t<td>1</td>\n",
       "\t\t<td>15019.7601</td>\n",
       "\t\t<td>0</td>\n",
       "\t\t<td>0</td>\n",
       "\t\t<td>1.6120160711512936</td>\n",
       "\t\t<td>0.8040553804371038</td>\n",
       "\t\t<td>0.011324169895574963</td>\n",
       "\t</tr>\n",
       "\t<tr>\n",
       "\t\t<td>122</td>\n",
       "\t\t<td>0</td>\n",
       "\t\t<td>0</td>\n",
       "\t\t<td>0</td>\n",
       "\t\t<td>1</td>\n",
       "\t\t<td>6600.361</td>\n",
       "\t\t<td>0</td>\n",
       "\t\t<td>0</td>\n",
       "\t\t<td>0.03619467413979402</td>\n",
       "\t\t<td>0.8040553804371038</td>\n",
       "\t\t<td>-0.09218513057459471</td>\n",
       "\t</tr>\n",
       "\t<tr>\n",
       "\t\t<td>549</td>\n",
       "\t\t<td>0</td>\n",
       "\t\t<td>0</td>\n",
       "\t\t<td>0</td>\n",
       "\t\t<td>1</td>\n",
       "\t\t<td>8978.1851</td>\n",
       "\t\t<td>0</td>\n",
       "\t\t<td>1</td>\n",
       "\t\t<td>0.6092206366894303</td>\n",
       "\t\t<td>0.8040553804371038</td>\n",
       "\t\t<td>1.193417777785995</td>\n",
       "\t</tr>\n",
       "\t<tr>\n",
       "\t\t<td>814</td>\n",
       "\t\t<td>1</td>\n",
       "\t\t<td>0</td>\n",
       "\t\t<td>0</td>\n",
       "\t\t<td>1</td>\n",
       "\t\t<td>4350.5144</td>\n",
       "\t\t<td>0</td>\n",
       "\t\t<td>1</td>\n",
       "\t\t<td>-0.6084595337285467</td>\n",
       "\t\t<td>-0.045115326832505916</td>\n",
       "\t\t<td>-0.20352286553410395</td>\n",
       "\t</tr>\n",
       "</table></html>"
      ],
      "text/plain": [
       "     id  r_sex_0  r_region_0  r_region_1  r_smoker_0     charges  r_smoker_1  r_region_2     r_age  r_children     r_bmi\n",
       "0   120        1           0           0           1   3378.9100           0           0 -0.966601   -0.045115 -1.849234\n",
       "1   242        1           0           0           1  12646.2070           0           0  1.253875    0.804055  1.316933\n",
       "2   894        0           0           0           1   3260.1990           0           0 -0.608460   -0.894286 -1.744855\n",
       "3   244        1           0           0           0  44423.8030           1           1  1.110618   -0.894286  0.829830\n",
       "4  1283        0           0           0           1   9788.8659           0           1  0.394336    3.351568 -1.064651\n",
       "5  1483        1           1           0           0  15359.1045           1           0 -1.324742   -0.045115 -1.492605\n",
       "6   570        1           0           1           1  15019.7601           0           0  1.612016    0.804055  0.011324\n",
       "7   122        0           0           0           1   6600.3610           0           0  0.036195    0.804055 -0.092185\n",
       "8   549        0           0           0           1   8978.1851           0           1  0.609221    0.804055  1.193418\n",
       "9   814        1           0           0           1   4350.5144           0           1 -0.608460   -0.045115 -0.203523"
      ]
     },
     "metadata": {},
     "output_type": "display_data"
    },
    {
     "name": "stdout",
     "output_type": "stream",
     "text": [
      "                                                                                          \r"
     ]
    },
    {
     "data": {
      "text/html": [
       "Total time taken by feature scaling: 43.40 sec"
      ],
      "text/plain": [
       "<IPython.core.display.HTML object>"
      ]
     },
     "metadata": {},
     "output_type": "display_data"
    },
    {
     "name": "stdout",
     "output_type": "stream",
     "text": [
      "                                                                                          \r"
     ]
    },
    {
     "data": {
      "text/html": [
       "\n",
       "scaling Features of pca data ..."
      ],
      "text/plain": [
       "<IPython.core.display.HTML object>"
      ]
     },
     "metadata": {},
     "output_type": "display_data"
    },
    {
     "name": "stdout",
     "output_type": "stream",
     "text": [
      "                                                                                          \r"
     ]
    },
    {
     "data": {
      "text/html": [
       "columns that will be scaled: "
      ],
      "text/plain": [
       "<IPython.core.display.HTML object>"
      ]
     },
     "metadata": {},
     "output_type": "display_data"
    },
    {
     "name": "stdout",
     "output_type": "stream",
     "text": [
      "['age', 'bmi', 'children']\n",
      "                                                                                          \r"
     ]
    },
    {
     "data": {
      "text/html": [
       "Training dataset sample after scaling:"
      ],
      "text/plain": [
       "<IPython.core.display.HTML object>"
      ]
     },
     "metadata": {},
     "output_type": "display_data"
    },
    {
     "data": {
      "text/html": [
       "<style type=\"text/css\">\n",
       "\ttable {border:ridge 5px;}\n",
       "\ttable td {border:inset 1px;}\n",
       "\ttable tr#HeaderRow {background-color:grey; color:white;}</style>\n",
       "<html><table>\n",
       "\t<tr id=\"HeaderRow\">\n",
       "\t\t<th>id</th>\n",
       "\t\t<th>smoker_0</th>\n",
       "\t\t<th>region_0</th>\n",
       "\t\t<th>sex_0</th>\n",
       "\t\t<th>region_3</th>\n",
       "\t\t<th>region_2</th>\n",
       "\t\t<th>smoker_1</th>\n",
       "\t\t<th>region_1</th>\n",
       "\t\t<th>sex_1</th>\n",
       "\t\t<th>charges</th>\n",
       "\t\t<th>age</th>\n",
       "\t\t<th>bmi</th>\n",
       "\t\t<th>children</th>\n",
       "\t</tr>\n",
       "\t<tr>\n",
       "\t\t<td>82</td>\n",
       "\t\t<td>1</td>\n",
       "\t\t<td>0</td>\n",
       "\t\t<td>1</td>\n",
       "\t\t<td>0</td>\n",
       "\t\t<td>1</td>\n",
       "\t\t<td>0</td>\n",
       "\t\t<td>0</td>\n",
       "\t\t<td>0</td>\n",
       "\t\t<td>7682.67</td>\n",
       "\t\t<td>0.03619467413979398</td>\n",
       "\t\t<td>0.4471070231355298</td>\n",
       "\t\t<td>1.6532260877067184</td>\n",
       "\t</tr>\n",
       "\t<tr>\n",
       "\t\t<td>96</td>\n",
       "\t\t<td>1</td>\n",
       "\t\t<td>0</td>\n",
       "\t\t<td>1</td>\n",
       "\t\t<td>1</td>\n",
       "\t\t<td>0</td>\n",
       "\t\t<td>0</td>\n",
       "\t\t<td>0</td>\n",
       "\t\t<td>0</td>\n",
       "\t\t<td>3987.926</td>\n",
       "\t\t<td>-0.9666007603220682</td>\n",
       "\t\t<td>0.6558652761846111</td>\n",
       "\t\t<td>0.8040553804371061</td>\n",
       "\t</tr>\n",
       "\t<tr>\n",
       "\t\t<td>48</td>\n",
       "\t\t<td>1</td>\n",
       "\t\t<td>0</td>\n",
       "\t\t<td>1</td>\n",
       "\t\t<td>0</td>\n",
       "\t\t<td>1</td>\n",
       "\t\t<td>0</td>\n",
       "\t\t<td>0</td>\n",
       "\t\t<td>0</td>\n",
       "\t\t<td>3392.9768</td>\n",
       "\t\t<td>-0.9666007603220682</td>\n",
       "\t\t<td>-0.08870582635711072</td>\n",
       "\t\t<td>-0.045115326832506054</td>\n",
       "\t</tr>\n",
       "\t<tr>\n",
       "\t\t<td>71</td>\n",
       "\t\t<td>1</td>\n",
       "\t\t<td>0</td>\n",
       "\t\t<td>1</td>\n",
       "\t\t<td>0</td>\n",
       "\t\t<td>0</td>\n",
       "\t\t<td>0</td>\n",
       "\t\t<td>1</td>\n",
       "\t\t<td>0</td>\n",
       "\t\t<td>6128.79745</td>\n",
       "\t\t<td>-0.5368312884098416</td>\n",
       "\t\t<td>0.47407163082103626</td>\n",
       "\t\t<td>1.6532260877067184</td>\n",
       "\t</tr>\n",
       "\t<tr>\n",
       "\t\t<td>13</td>\n",
       "\t\t<td>1</td>\n",
       "\t\t<td>0</td>\n",
       "\t\t<td>1</td>\n",
       "\t\t<td>0</td>\n",
       "\t\t<td>1</td>\n",
       "\t\t<td>0</td>\n",
       "\t\t<td>0</td>\n",
       "\t\t<td>0</td>\n",
       "\t\t<td>8601.3293</td>\n",
       "\t\t<td>0.680848882008134</td>\n",
       "\t\t<td>-0.5671101562612543</td>\n",
       "\t\t<td>-0.8942860341021183</td>\n",
       "\t</tr>\n",
       "\t<tr>\n",
       "\t\t<td>21</td>\n",
       "\t\t<td>1</td>\n",
       "\t\t<td>0</td>\n",
       "\t\t<td>1</td>\n",
       "\t\t<td>0</td>\n",
       "\t\t<td>1</td>\n",
       "\t\t<td>0</td>\n",
       "\t\t<td>0</td>\n",
       "\t\t<td>0</td>\n",
       "\t\t<td>10381.4787</td>\n",
       "\t\t<td>0.680848882008134</td>\n",
       "\t\t<td>1.0786007386089997</td>\n",
       "\t\t<td>1.6532260877067184</td>\n",
       "\t</tr>\n",
       "\t<tr>\n",
       "\t\t<td>38</td>\n",
       "\t\t<td>0</td>\n",
       "\t\t<td>1</td>\n",
       "\t\t<td>1</td>\n",
       "\t\t<td>0</td>\n",
       "\t\t<td>0</td>\n",
       "\t\t<td>1</td>\n",
       "\t\t<td>0</td>\n",
       "\t\t<td>0</td>\n",
       "\t\t<td>48517.56315</td>\n",
       "\t\t<td>1.5403878258325874</td>\n",
       "\t\t<td>1.0359792619448116</td>\n",
       "\t\t<td>-0.045115326832506054</td>\n",
       "\t</tr>\n",
       "\t<tr>\n",
       "\t\t<td>102</td>\n",
       "\t\t<td>1</td>\n",
       "\t\t<td>0</td>\n",
       "\t\t<td>1</td>\n",
       "\t\t<td>0</td>\n",
       "\t\t<td>1</td>\n",
       "\t\t<td>0</td>\n",
       "\t\t<td>0</td>\n",
       "\t\t<td>0</td>\n",
       "\t\t<td>36580.28216</td>\n",
       "\t\t<td>1.5403878258325874</td>\n",
       "\t\t<td>0.5045155427240268</td>\n",
       "\t\t<td>2.5023967949763306</td>\n",
       "\t</tr>\n",
       "\t<tr>\n",
       "\t\t<td>107</td>\n",
       "\t\t<td>1</td>\n",
       "\t\t<td>0</td>\n",
       "\t\t<td>1</td>\n",
       "\t\t<td>0</td>\n",
       "\t\t<td>0</td>\n",
       "\t\t<td>0</td>\n",
       "\t\t<td>1</td>\n",
       "\t\t<td>0</td>\n",
       "\t\t<td>2709.1119</td>\n",
       "\t\t<td>-1.4679984775529993</td>\n",
       "\t\t<td>-1.0298576171867169</td>\n",
       "\t\t<td>-0.045115326832506054</td>\n",
       "\t</tr>\n",
       "\t<tr>\n",
       "\t\t<td>91</td>\n",
       "\t\t<td>1</td>\n",
       "\t\t<td>0</td>\n",
       "\t\t<td>0</td>\n",
       "\t\t<td>1</td>\n",
       "\t\t<td>0</td>\n",
       "\t\t<td>0</td>\n",
       "\t\t<td>0</td>\n",
       "\t\t<td>1</td>\n",
       "\t\t<td>1832.094</td>\n",
       "\t\t<td>-1.4679984775529993</td>\n",
       "\t\t<td>-1.6578720284427022</td>\n",
       "\t\t<td>-0.045115326832506054</td>\n",
       "\t</tr>\n",
       "</table></html>"
      ],
      "text/plain": [
       "    id  smoker_0  region_0  sex_0  region_3  region_2  smoker_1  region_1  sex_1      charges       age       bmi  children\n",
       "0   82         1         0      1         0         1         0         0      0   7682.67000  0.036195  0.447107  1.653226\n",
       "1   96         1         0      1         1         0         0         0      0   3987.92600 -0.966601  0.655865  0.804055\n",
       "2   48         1         0      1         0         1         0         0      0   3392.97680 -0.966601 -0.088706 -0.045115\n",
       "3   71         1         0      1         0         0         0         1      0   6128.79745 -0.536831  0.474072  1.653226\n",
       "4   13         1         0      1         0         1         0         0      0   8601.32930  0.680849 -0.567110 -0.894286\n",
       "5   21         1         0      1         0         1         0         0      0  10381.47870  0.680849  1.078601  1.653226\n",
       "6   38         0         1      1         0         0         1         0      0  48517.56315  1.540388  1.035979 -0.045115\n",
       "7  102         1         0      1         0         1         0         0      0  36580.28216  1.540388  0.504516  2.502397\n",
       "8  107         1         0      1         0         0         0         1      0   2709.11190 -1.467998 -1.029858 -0.045115\n",
       "9   91         1         0      0         1         0         0         0      1   1832.09400 -1.467998 -1.657872 -0.045115"
      ]
     },
     "metadata": {},
     "output_type": "display_data"
    },
    {
     "name": "stdout",
     "output_type": "stream",
     "text": [
      "                                                                                          \r"
     ]
    },
    {
     "data": {
      "text/html": [
       "Testing dataset sample after scaling:"
      ],
      "text/plain": [
       "<IPython.core.display.HTML object>"
      ]
     },
     "metadata": {},
     "output_type": "display_data"
    },
    {
     "data": {
      "text/html": [
       "<style type=\"text/css\">\n",
       "\ttable {border:ridge 5px;}\n",
       "\ttable td {border:inset 1px;}\n",
       "\ttable tr#HeaderRow {background-color:grey; color:white;}</style>\n",
       "<html><table>\n",
       "\t<tr id=\"HeaderRow\">\n",
       "\t\t<th>id</th>\n",
       "\t\t<th>smoker_0</th>\n",
       "\t\t<th>region_0</th>\n",
       "\t\t<th>sex_0</th>\n",
       "\t\t<th>region_3</th>\n",
       "\t\t<th>region_2</th>\n",
       "\t\t<th>smoker_1</th>\n",
       "\t\t<th>region_1</th>\n",
       "\t\t<th>sex_1</th>\n",
       "\t\t<th>charges</th>\n",
       "\t\t<th>age</th>\n",
       "\t\t<th>bmi</th>\n",
       "\t\t<th>children</th>\n",
       "\t</tr>\n",
       "\t<tr>\n",
       "\t\t<td>24</td>\n",
       "\t\t<td>1</td>\n",
       "\t\t<td>0</td>\n",
       "\t\t<td>1</td>\n",
       "\t\t<td>0</td>\n",
       "\t\t<td>0</td>\n",
       "\t\t<td>0</td>\n",
       "\t\t<td>1</td>\n",
       "\t\t<td>0</td>\n",
       "\t\t<td>3201.24515</td>\n",
       "\t\t<td>-0.9666007603220682</td>\n",
       "\t\t<td>1.6970470632669017</td>\n",
       "\t\t<td>-0.8942860341021183</td>\n",
       "\t</tr>\n",
       "\t<tr>\n",
       "\t\t<td>29</td>\n",
       "\t\t<td>0</td>\n",
       "\t\t<td>0</td>\n",
       "\t\t<td>0</td>\n",
       "\t\t<td>0</td>\n",
       "\t\t<td>0</td>\n",
       "\t\t<td>1</td>\n",
       "\t\t<td>1</td>\n",
       "\t\t<td>1</td>\n",
       "\t\t<td>23807.2406</td>\n",
       "\t\t<td>0.680848882008134</td>\n",
       "\t\t<td>-0.7984838867239858</td>\n",
       "\t\t<td>0.8040553804371061</td>\n",
       "\t</tr>\n",
       "\t<tr>\n",
       "\t\t<td>125</td>\n",
       "\t\t<td>1</td>\n",
       "\t\t<td>1</td>\n",
       "\t\t<td>0</td>\n",
       "\t\t<td>0</td>\n",
       "\t\t<td>0</td>\n",
       "\t\t<td>0</td>\n",
       "\t\t<td>0</td>\n",
       "\t\t<td>1</td>\n",
       "\t\t<td>9290.1395</td>\n",
       "\t\t<td>0.680848882008134</td>\n",
       "\t\t<td>0.1600644251930439</td>\n",
       "\t\t<td>-0.045115326832506054</td>\n",
       "\t</tr>\n",
       "\t<tr>\n",
       "\t\t<td>31</td>\n",
       "\t\t<td>1</td>\n",
       "\t\t<td>0</td>\n",
       "\t\t<td>1</td>\n",
       "\t\t<td>0</td>\n",
       "\t\t<td>0</td>\n",
       "\t\t<td>0</td>\n",
       "\t\t<td>1</td>\n",
       "\t\t<td>0</td>\n",
       "\t\t<td>4357.04365</td>\n",
       "\t\t<td>-0.5368312884098416</td>\n",
       "\t\t<td>-0.1208893903688444</td>\n",
       "\t\t<td>-0.8942860341021183</td>\n",
       "\t</tr>\n",
       "\t<tr>\n",
       "\t\t<td>30</td>\n",
       "\t\t<td>0</td>\n",
       "\t\t<td>0</td>\n",
       "\t\t<td>1</td>\n",
       "\t\t<td>0</td>\n",
       "\t\t<td>0</td>\n",
       "\t\t<td>1</td>\n",
       "\t\t<td>1</td>\n",
       "\t\t<td>0</td>\n",
       "\t\t<td>29141.3603</td>\n",
       "\t\t<td>1.5403878258325874</td>\n",
       "\t\t<td>-0.2365762556002099</td>\n",
       "\t\t<td>-0.8942860341021183</td>\n",
       "\t</tr>\n",
       "\t<tr>\n",
       "\t\t<td>126</td>\n",
       "\t\t<td>1</td>\n",
       "\t\t<td>0</td>\n",
       "\t\t<td>1</td>\n",
       "\t\t<td>0</td>\n",
       "\t\t<td>1</td>\n",
       "\t\t<td>0</td>\n",
       "\t\t<td>0</td>\n",
       "\t\t<td>0</td>\n",
       "\t\t<td>24513.09126</td>\n",
       "\t\t<td>1.5403878258325874</td>\n",
       "\t\t<td>-0.930697446988404</td>\n",
       "\t\t<td>-0.8942860341021183</td>\n",
       "\t</tr>\n",
       "\t<tr>\n",
       "\t\t<td>26</td>\n",
       "\t\t<td>0</td>\n",
       "\t\t<td>1</td>\n",
       "\t\t<td>0</td>\n",
       "\t\t<td>0</td>\n",
       "\t\t<td>0</td>\n",
       "\t\t<td>1</td>\n",
       "\t\t<td>0</td>\n",
       "\t\t<td>1</td>\n",
       "\t\t<td>39125.33225</td>\n",
       "\t\t<td>0.03619467413979398</td>\n",
       "\t\t<td>0.4079648506888269</td>\n",
       "\t\t<td>-0.045115326832506054</td>\n",
       "\t</tr>\n",
       "\t<tr>\n",
       "\t\t<td>122</td>\n",
       "\t\t<td>1</td>\n",
       "\t\t<td>0</td>\n",
       "\t\t<td>0</td>\n",
       "\t\t<td>1</td>\n",
       "\t\t<td>0</td>\n",
       "\t\t<td>0</td>\n",
       "\t\t<td>0</td>\n",
       "\t\t<td>1</td>\n",
       "\t\t<td>6600.361</td>\n",
       "\t\t<td>0.03619467413979398</td>\n",
       "\t\t<td>-0.09218513057459594</td>\n",
       "\t\t<td>0.8040553804371061</td>\n",
       "\t</tr>\n",
       "\t<tr>\n",
       "\t\t<td>28</td>\n",
       "\t\t<td>1</td>\n",
       "\t\t<td>1</td>\n",
       "\t\t<td>1</td>\n",
       "\t\t<td>0</td>\n",
       "\t\t<td>0</td>\n",
       "\t\t<td>0</td>\n",
       "\t\t<td>0</td>\n",
       "\t\t<td>0</td>\n",
       "\t\t<td>7133.9025</td>\n",
       "\t\t<td>-0.10706181649761491</td>\n",
       "\t\t<td>-1.8231389787732244</td>\n",
       "\t\t<td>0.8040553804371061</td>\n",
       "\t</tr>\n",
       "\t<tr>\n",
       "\t\t<td>124</td>\n",
       "\t\t<td>1</td>\n",
       "\t\t<td>0</td>\n",
       "\t\t<td>1</td>\n",
       "\t\t<td>1</td>\n",
       "\t\t<td>0</td>\n",
       "\t\t<td>0</td>\n",
       "\t\t<td>0</td>\n",
       "\t\t<td>0</td>\n",
       "\t\t<td>6571.544</td>\n",
       "\t\t<td>-0.10706181649761491</td>\n",
       "\t\t<td>0.7602444027091505</td>\n",
       "\t\t<td>0.8040553804371061</td>\n",
       "\t</tr>\n",
       "</table></html>"
      ],
      "text/plain": [
       "    id  smoker_0  region_0  sex_0  region_3  region_2  smoker_1  region_1  sex_1      charges       age       bmi  children\n",
       "0   24         1         0      1         0         0         0         1      0   3201.24515 -0.966601  1.697047 -0.894286\n",
       "1   29         0         0      0         0         0         1         1      1  23807.24060  0.680849 -0.798484  0.804055\n",
       "2  125         1         1      0         0         0         0         0      1   9290.13950  0.680849  0.160064 -0.045115\n",
       "3   31         1         0      1         0         0         0         1      0   4357.04365 -0.536831 -0.120889 -0.894286\n",
       "4   30         0         0      1         0         0         1         1      0  29141.36030  1.540388 -0.236576 -0.894286\n",
       "5  126         1         0      1         0         1         0         0      0  24513.09126  1.540388 -0.930697 -0.894286\n",
       "6   26         0         1      0         0         0         1         0      1  39125.33225  0.036195  0.407965 -0.045115\n",
       "7  122         1         0      0         1         0         0         0      1   6600.36100  0.036195 -0.092185  0.804055\n",
       "8   28         1         1      1         0         0         0         0      0   7133.90250 -0.107062 -1.823139  0.804055\n",
       "9  124         1         0      1         1         0         0         0      0   6571.54400 -0.107062  0.760244  0.804055"
      ]
     },
     "metadata": {},
     "output_type": "display_data"
    },
    {
     "name": "stdout",
     "output_type": "stream",
     "text": [
      "                                                                                          \r"
     ]
    },
    {
     "data": {
      "text/html": [
       "Total time taken by feature scaling: 40.86 sec"
      ],
      "text/plain": [
       "<IPython.core.display.HTML object>"
      ]
     },
     "metadata": {},
     "output_type": "display_data"
    },
    {
     "name": "stdout",
     "output_type": "stream",
     "text": [
      "                                                                                          \r"
     ]
    },
    {
     "data": {
      "text/html": [
       "\n",
       "Dimension Reduction using pca ..."
      ],
      "text/plain": [
       "<IPython.core.display.HTML object>"
      ]
     },
     "metadata": {},
     "output_type": "display_data"
    },
    {
     "name": "stdout",
     "output_type": "stream",
     "text": [
      "                                                                                          \r"
     ]
    },
    {
     "data": {
      "text/html": [
       "PCA columns:"
      ],
      "text/plain": [
       "<IPython.core.display.HTML object>"
      ]
     },
     "metadata": {},
     "output_type": "display_data"
    },
    {
     "name": "stdout",
     "output_type": "stream",
     "text": [
      "['col_0', 'col_1', 'col_2', 'col_3', 'col_4', 'col_5', 'col_6']\n",
      "                                                                                          \r"
     ]
    },
    {
     "data": {
      "text/html": [
       "Total time taken by PCA: 11.75 sec  "
      ],
      "text/plain": [
       "<IPython.core.display.HTML object>"
      ]
     },
     "metadata": {},
     "output_type": "display_data"
    },
    {
     "name": "stdout",
     "output_type": "stream",
     "text": [
      "                                                                                          \r"
     ]
    },
    {
     "data": {
      "text/html": [
       "\n",
       "            <style>\n",
       "                .custom-div {\n",
       "                    background-color: lightgray;\n",
       "                    color: #000000;\n",
       "                    padding: 10px;\n",
       "                    border-radius: 8px;\n",
       "                    box-shadow: 0 3px 4px rgba(0 -  0 -  0 -  0.2);\n",
       "                    margin-bottom: 10px;\n",
       "                    text-align: center;\n",
       "                }\n",
       "            </style>\n",
       "        <br><div class=\"custom-div\"><h3><span style=\"color: green;\">1. Feature Exploration -> 2. Feature Engineering -> 3. Data Preparation -></span> 4. Model Training & Evaluation<center></h3></center></div>"
      ],
      "text/plain": [
       "<IPython.core.display.HTML object>"
      ]
     },
     "metadata": {},
     "output_type": "display_data"
    },
    {
     "name": "stdout",
     "output_type": "stream",
     "text": [
      "                                                                                          \r"
     ]
    },
    {
     "data": {
      "text/html": [
       "Model Training started ..."
      ],
      "text/plain": [
       "<IPython.core.display.HTML object>"
      ]
     },
     "metadata": {},
     "output_type": "display_data"
    },
    {
     "name": "stdout",
     "output_type": "stream",
     "text": [
      "                                                                                          \r"
     ]
    },
    {
     "data": {
      "text/html": [
       "\n",
       "Hyperparameters used for model training: "
      ],
      "text/plain": [
       "<IPython.core.display.HTML object>"
      ]
     },
     "metadata": {},
     "output_type": "display_data"
    },
    {
     "name": "stdout",
     "output_type": "stream",
     "text": [
      "response_column : charges                                                                                                                             \n",
      "name : decision_forest\n",
      "tree_type : Regression\n",
      "min_impurity : (0.0, 0.1, 0.2)\n",
      "max_depth : (5, 6, 8, 10)\n",
      "min_node_size : (1, 2, 3)\n",
      "num_trees : (-1, 20, 30)\n",
      "Total number of models for decision_forest : 108\n",
      "--------------------------------------------------------------------------------------------------------------------------------------------------------------------------------------------------------\n",
      "\n",
      "response_column : charges\n",
      "name : xgboost\n",
      "model_type : Regression\n",
      "column_sampling : (1, 0.6)\n",
      "min_impurity : (0.0, 0.1, 0.2)\n",
      "lambda1 : (0.01, 0.1, 1, 10)\n",
      "shrinkage_factor : (0.5, 0.1, 0.3)\n",
      "max_depth : (5, 6, 8, 10)\n",
      "min_node_size : (1, 2, 3)\n",
      "iter_num : (10, 20, 30)\n",
      "Total number of models for xgboost : 2592\n",
      "--------------------------------------------------------------------------------------------------------------------------------------------------------------------------------------------------------\n",
      "\n",
      "response_column : charges\n",
      "name : knn\n",
      "model_type : Regression\n",
      "k : (3, 5, 6, 8, 10, 12)\n",
      "id_column : id\n",
      "voting_weight : 1.0\n",
      "Total number of models for knn : 6\n",
      "--------------------------------------------------------------------------------------------------------------------------------------------------------------------------------------------------------\n",
      "\n",
      "response_column : charges\n",
      "name : svm\n",
      "model_type : regression\n",
      "lambda1 : (0.001, 0.02, 0.1)\n",
      "alpha : (0.15, 0.85)\n",
      "tolerance : (0.001, 0.01)\n",
      "learning_rate : ('Invtime', 'Adaptive', 'constant')\n",
      "initial_eta : (0.05, 0.1)\n",
      "momentum : (0.65, 0.8, 0.95)\n",
      "nesterov : True\n",
      "intercept : True\n",
      "iter_num_no_change : (5, 10, 50)\n",
      "local_sgd_iterations  : (10, 20)\n",
      "iter_max : (300, 200, 400)\n",
      "batch_size : (10, 50, 60, 80)\n",
      "Total number of models for svm : 15552\n",
      "--------------------------------------------------------------------------------------------------------------------------------------------------------------------------------------------------------\n",
      "\n",
      "response_column : charges\n",
      "name : glm\n",
      "family : GAUSSIAN\n",
      "lambda1 : (0.001, 0.02, 0.1)\n",
      "alpha : (0.15, 0.85)\n",
      "learning_rate : ('invtime', 'constant', 'adaptive')\n",
      "initial_eta : (0.05, 0.1)\n",
      "momentum : (0.65, 0.8, 0.95)\n",
      "iter_num_no_change : (5, 10, 50)\n",
      "iter_max : (300, 200, 400)\n",
      "batch_size : (10, 50, 60, 80)\n",
      "Total number of models for glm : 3888\n",
      "--------------------------------------------------------------------------------------------------------------------------------------------------------------------------------------------------------\n",
      "\n",
      "                                                                                          \r"
     ]
    },
    {
     "data": {
      "text/html": [
       "\n",
       "Performing hyperParameter tuning ..."
      ],
      "text/plain": [
       "<IPython.core.display.HTML object>"
      ]
     },
     "metadata": {},
     "output_type": "display_data"
    },
    {
     "name": "stdout",
     "output_type": "stream",
     "text": [
      "                                                                                          \r"
     ]
    },
    {
     "data": {
      "text/html": [
       "decision_forest"
      ],
      "text/plain": [
       "<IPython.core.display.HTML object>"
      ]
     },
     "metadata": {},
     "output_type": "display_data"
    },
    {
     "name": "stdout",
     "output_type": "stream",
     "text": [
      "DECISIONFOREST_6                                                                                                                                                                                        \n",
      "DECISIONFOREST_7                                                                          \n",
      "DECISIONFOREST_5                                                                          \n",
      "                                                                                          \r"
     ]
    },
    {
     "data": {
      "text/html": [
       "----------------------------------------------------------------------------------------------------"
      ],
      "text/plain": [
       "<IPython.core.display.HTML object>"
      ]
     },
     "metadata": {},
     "output_type": "display_data"
    },
    {
     "name": "stdout",
     "output_type": "stream",
     "text": [
      "                                                                                          \r"
     ]
    },
    {
     "data": {
      "text/html": [
       "xgboost"
      ],
      "text/plain": [
       "<IPython.core.display.HTML object>"
      ]
     },
     "metadata": {},
     "output_type": "display_data"
    },
    {
     "name": "stdout",
     "output_type": "stream",
     "text": [
      "XGBOOST_3                                                                                                                                                                                               \n",
      "XGBOOST_1                                                                                 \n",
      "XGBOOST_5                                                                                 \n",
      "                                                                                          \r"
     ]
    },
    {
     "data": {
      "text/html": [
       "----------------------------------------------------------------------------------------------------"
      ],
      "text/plain": [
       "<IPython.core.display.HTML object>"
      ]
     },
     "metadata": {},
     "output_type": "display_data"
    },
    {
     "name": "stdout",
     "output_type": "stream",
     "text": [
      "                                                                                          \r"
     ]
    },
    {
     "data": {
      "text/html": [
       "knn"
      ],
      "text/plain": [
       "<IPython.core.display.HTML object>"
      ]
     },
     "metadata": {},
     "output_type": "display_data"
    },
    {
     "name": "stdout",
     "output_type": "stream",
     "text": [
      "KNN_9                                                                                                                                                                                                   \n",
      "KNN_22                                                                                    \n",
      "KNN_17                                                                                    \n",
      "                                                                                          \r"
     ]
    },
    {
     "data": {
      "text/html": [
       "----------------------------------------------------------------------------------------------------"
      ],
      "text/plain": [
       "<IPython.core.display.HTML object>"
      ]
     },
     "metadata": {},
     "output_type": "display_data"
    },
    {
     "name": "stdout",
     "output_type": "stream",
     "text": [
      "                                                                                          \r"
     ]
    },
    {
     "data": {
      "text/html": [
       "svm"
      ],
      "text/plain": [
       "<IPython.core.display.HTML object>"
      ]
     },
     "metadata": {},
     "output_type": "display_data"
    },
    {
     "name": "stdout",
     "output_type": "stream",
     "text": [
      "SVM_3                                                                                                                                                                                                   \n",
      "SVM_1                                                                                     \n",
      "SVM_2                                                                                     \n",
      "                                                                                          \r"
     ]
    },
    {
     "data": {
      "text/html": [
       "----------------------------------------------------------------------------------------------------"
      ],
      "text/plain": [
       "<IPython.core.display.HTML object>"
      ]
     },
     "metadata": {},
     "output_type": "display_data"
    },
    {
     "name": "stdout",
     "output_type": "stream",
     "text": [
      "                                                                                          \r"
     ]
    },
    {
     "data": {
      "text/html": [
       "glm"
      ],
      "text/plain": [
       "<IPython.core.display.HTML object>"
      ]
     },
     "metadata": {},
     "output_type": "display_data"
    },
    {
     "name": "stdout",
     "output_type": "stream",
     "text": [
      "GLM_3                                                                                                                                                                                                   \n",
      "GLM_1                                                                                     \n",
      "GLM_2                                                                                     \n",
      "                                                                                          \r"
     ]
    },
    {
     "data": {
      "text/html": [
       "----------------------------------------------------------------------------------------------------"
      ],
      "text/plain": [
       "<IPython.core.display.HTML object>"
      ]
     },
     "metadata": {},
     "output_type": "display_data"
    },
    {
     "name": "stdout",
     "output_type": "stream",
     "text": [
      "                                                                                          \r"
     ]
    },
    {
     "data": {
      "text/html": [
       "Evaluating models performance ..."
      ],
      "text/plain": [
       "<IPython.core.display.HTML object>"
      ]
     },
     "metadata": {},
     "output_type": "display_data"
    },
    {
     "name": "stdout",
     "output_type": "stream",
     "text": [
      "                                                                                          \r"
     ]
    },
    {
     "data": {
      "text/html": [
       "Evaluation completed."
      ],
      "text/plain": [
       "<IPython.core.display.HTML object>"
      ]
     },
     "metadata": {},
     "output_type": "display_data"
    },
    {
     "name": "stdout",
     "output_type": "stream",
     "text": [
      "                                                                                          \r"
     ]
    },
    {
     "data": {
      "text/html": [
       "Leaderboard"
      ],
      "text/plain": [
       "<IPython.core.display.HTML object>"
      ]
     },
     "metadata": {},
     "output_type": "display_data"
    },
    {
     "data": {
      "text/html": [
       "<div>\n",
       "<style scoped>\n",
       "    .dataframe tbody tr th:only-of-type {\n",
       "        vertical-align: middle;\n",
       "    }\n",
       "\n",
       "    .dataframe tbody tr th {\n",
       "        vertical-align: top;\n",
       "    }\n",
       "\n",
       "    .dataframe thead th {\n",
       "        text-align: right;\n",
       "    }\n",
       "</style>\n",
       "<table border=\"1\" class=\"dataframe\">\n",
       "  <thead>\n",
       "    <tr style=\"text-align: right;\">\n",
       "      <th></th>\n",
       "      <th>Rank</th>\n",
       "      <th>Name</th>\n",
       "      <th>Feature selection</th>\n",
       "      <th>MAE</th>\n",
       "      <th>MSE</th>\n",
       "      <th>MSLE</th>\n",
       "      <th>RMSE</th>\n",
       "      <th>RMSLE</th>\n",
       "      <th>R2-score</th>\n",
       "      <th>Adjusted R2-score</th>\n",
       "    </tr>\n",
       "  </thead>\n",
       "  <tbody>\n",
       "    <tr>\n",
       "      <th>0</th>\n",
       "      <td>1</td>\n",
       "      <td>decision_forest</td>\n",
       "      <td>lasso</td>\n",
       "      <td>2951.596020</td>\n",
       "      <td>2.313579e+07</td>\n",
       "      <td>0.183532</td>\n",
       "      <td>4809.968059</td>\n",
       "      <td>0.428407</td>\n",
       "      <td>0.856821</td>\n",
       "      <td>0.852671</td>\n",
       "    </tr>\n",
       "    <tr>\n",
       "      <th>1</th>\n",
       "      <td>2</td>\n",
       "      <td>decision_forest</td>\n",
       "      <td>rfe</td>\n",
       "      <td>3154.765397</td>\n",
       "      <td>2.530273e+07</td>\n",
       "      <td>0.227087</td>\n",
       "      <td>5030.181714</td>\n",
       "      <td>0.476536</td>\n",
       "      <td>0.843411</td>\n",
       "      <td>0.836502</td>\n",
       "    </tr>\n",
       "    <tr>\n",
       "      <th>2</th>\n",
       "      <td>3</td>\n",
       "      <td>knn</td>\n",
       "      <td>lasso</td>\n",
       "      <td>2787.693836</td>\n",
       "      <td>2.700204e+07</td>\n",
       "      <td>0.161384</td>\n",
       "      <td>5196.348607</td>\n",
       "      <td>0.401727</td>\n",
       "      <td>0.832894</td>\n",
       "      <td>0.828051</td>\n",
       "    </tr>\n",
       "    <tr>\n",
       "      <th>3</th>\n",
       "      <td>4</td>\n",
       "      <td>knn</td>\n",
       "      <td>pca</td>\n",
       "      <td>3075.192987</td>\n",
       "      <td>2.753500e+07</td>\n",
       "      <td>0.155820</td>\n",
       "      <td>5247.379825</td>\n",
       "      <td>0.394740</td>\n",
       "      <td>0.829596</td>\n",
       "      <td>0.823806</td>\n",
       "    </tr>\n",
       "    <tr>\n",
       "      <th>4</th>\n",
       "      <td>5</td>\n",
       "      <td>knn</td>\n",
       "      <td>rfe</td>\n",
       "      <td>2981.126709</td>\n",
       "      <td>2.782425e+07</td>\n",
       "      <td>0.153340</td>\n",
       "      <td>5274.869630</td>\n",
       "      <td>0.391587</td>\n",
       "      <td>0.827806</td>\n",
       "      <td>0.820209</td>\n",
       "    </tr>\n",
       "    <tr>\n",
       "      <th>5</th>\n",
       "      <td>6</td>\n",
       "      <td>decision_forest</td>\n",
       "      <td>pca</td>\n",
       "      <td>3838.834457</td>\n",
       "      <td>3.535120e+07</td>\n",
       "      <td>0.232131</td>\n",
       "      <td>5945.687372</td>\n",
       "      <td>0.481799</td>\n",
       "      <td>0.781225</td>\n",
       "      <td>0.773790</td>\n",
       "    </tr>\n",
       "    <tr>\n",
       "      <th>6</th>\n",
       "      <td>7</td>\n",
       "      <td>glm</td>\n",
       "      <td>lasso</td>\n",
       "      <td>4472.063409</td>\n",
       "      <td>3.907818e+07</td>\n",
       "      <td>0.296162</td>\n",
       "      <td>6251.254028</td>\n",
       "      <td>0.544208</td>\n",
       "      <td>0.758160</td>\n",
       "      <td>0.751150</td>\n",
       "    </tr>\n",
       "    <tr>\n",
       "      <th>7</th>\n",
       "      <td>8</td>\n",
       "      <td>glm</td>\n",
       "      <td>rfe</td>\n",
       "      <td>4956.069956</td>\n",
       "      <td>4.526305e+07</td>\n",
       "      <td>0.306791</td>\n",
       "      <td>6727.781810</td>\n",
       "      <td>0.553887</td>\n",
       "      <td>0.719884</td>\n",
       "      <td>0.707526</td>\n",
       "    </tr>\n",
       "    <tr>\n",
       "      <th>8</th>\n",
       "      <td>9</td>\n",
       "      <td>glm</td>\n",
       "      <td>pca</td>\n",
       "      <td>4947.745937</td>\n",
       "      <td>4.973268e+07</td>\n",
       "      <td>0.304673</td>\n",
       "      <td>7052.139798</td>\n",
       "      <td>0.551972</td>\n",
       "      <td>0.692223</td>\n",
       "      <td>0.681764</td>\n",
       "    </tr>\n",
       "    <tr>\n",
       "      <th>9</th>\n",
       "      <td>10</td>\n",
       "      <td>svm</td>\n",
       "      <td>lasso</td>\n",
       "      <td>13697.703822</td>\n",
       "      <td>3.492797e+08</td>\n",
       "      <td>36.576961</td>\n",
       "      <td>18689.025439</td>\n",
       "      <td>6.047889</td>\n",
       "      <td>-1.161562</td>\n",
       "      <td>-1.224216</td>\n",
       "    </tr>\n",
       "    <tr>\n",
       "      <th>10</th>\n",
       "      <td>11</td>\n",
       "      <td>svm</td>\n",
       "      <td>pca</td>\n",
       "      <td>13707.161549</td>\n",
       "      <td>3.494669e+08</td>\n",
       "      <td>42.564558</td>\n",
       "      <td>18694.034467</td>\n",
       "      <td>6.524152</td>\n",
       "      <td>-1.162721</td>\n",
       "      <td>-1.236212</td>\n",
       "    </tr>\n",
       "    <tr>\n",
       "      <th>11</th>\n",
       "      <td>12</td>\n",
       "      <td>svm</td>\n",
       "      <td>rfe</td>\n",
       "      <td>13719.674819</td>\n",
       "      <td>3.498186e+08</td>\n",
       "      <td>47.333331</td>\n",
       "      <td>18703.437838</td>\n",
       "      <td>6.879922</td>\n",
       "      <td>-1.164897</td>\n",
       "      <td>-1.260408</td>\n",
       "    </tr>\n",
       "    <tr>\n",
       "      <th>12</th>\n",
       "      <td>13</td>\n",
       "      <td>xgboost</td>\n",
       "      <td>pca</td>\n",
       "      <td>47008.829363</td>\n",
       "      <td>3.787597e+09</td>\n",
       "      <td>0.672494</td>\n",
       "      <td>61543.455081</td>\n",
       "      <td>0.820057</td>\n",
       "      <td>-22.440031</td>\n",
       "      <td>-23.236536</td>\n",
       "    </tr>\n",
       "    <tr>\n",
       "      <th>13</th>\n",
       "      <td>14</td>\n",
       "      <td>xgboost</td>\n",
       "      <td>rfe</td>\n",
       "      <td>45455.155286</td>\n",
       "      <td>4.209269e+09</td>\n",
       "      <td>0.529867</td>\n",
       "      <td>64878.881761</td>\n",
       "      <td>0.727919</td>\n",
       "      <td>-25.049605</td>\n",
       "      <td>-26.198852</td>\n",
       "    </tr>\n",
       "    <tr>\n",
       "      <th>14</th>\n",
       "      <td>15</td>\n",
       "      <td>xgboost</td>\n",
       "      <td>lasso</td>\n",
       "      <td>46400.148859</td>\n",
       "      <td>4.240992e+09</td>\n",
       "      <td>0.610950</td>\n",
       "      <td>65122.897808</td>\n",
       "      <td>0.781633</td>\n",
       "      <td>-25.245924</td>\n",
       "      <td>-26.006675</td>\n",
       "    </tr>\n",
       "  </tbody>\n",
       "</table>\n",
       "</div>"
      ],
      "text/plain": [
       "    Rank             Name Feature selection           MAE           MSE  \\\n",
       "0      1  decision_forest             lasso   2951.596020  2.313579e+07   \n",
       "1      2  decision_forest               rfe   3154.765397  2.530273e+07   \n",
       "2      3              knn             lasso   2787.693836  2.700204e+07   \n",
       "3      4              knn               pca   3075.192987  2.753500e+07   \n",
       "4      5              knn               rfe   2981.126709  2.782425e+07   \n",
       "5      6  decision_forest               pca   3838.834457  3.535120e+07   \n",
       "6      7              glm             lasso   4472.063409  3.907818e+07   \n",
       "7      8              glm               rfe   4956.069956  4.526305e+07   \n",
       "8      9              glm               pca   4947.745937  4.973268e+07   \n",
       "9     10              svm             lasso  13697.703822  3.492797e+08   \n",
       "10    11              svm               pca  13707.161549  3.494669e+08   \n",
       "11    12              svm               rfe  13719.674819  3.498186e+08   \n",
       "12    13          xgboost               pca  47008.829363  3.787597e+09   \n",
       "13    14          xgboost               rfe  45455.155286  4.209269e+09   \n",
       "14    15          xgboost             lasso  46400.148859  4.240992e+09   \n",
       "\n",
       "         MSLE          RMSE     RMSLE   R2-score  Adjusted R2-score  \n",
       "0    0.183532   4809.968059  0.428407   0.856821           0.852671  \n",
       "1    0.227087   5030.181714  0.476536   0.843411           0.836502  \n",
       "2    0.161384   5196.348607  0.401727   0.832894           0.828051  \n",
       "3    0.155820   5247.379825  0.394740   0.829596           0.823806  \n",
       "4    0.153340   5274.869630  0.391587   0.827806           0.820209  \n",
       "5    0.232131   5945.687372  0.481799   0.781225           0.773790  \n",
       "6    0.296162   6251.254028  0.544208   0.758160           0.751150  \n",
       "7    0.306791   6727.781810  0.553887   0.719884           0.707526  \n",
       "8    0.304673   7052.139798  0.551972   0.692223           0.681764  \n",
       "9   36.576961  18689.025439  6.047889  -1.161562          -1.224216  \n",
       "10  42.564558  18694.034467  6.524152  -1.162721          -1.236212  \n",
       "11  47.333331  18703.437838  6.879922  -1.164897          -1.260408  \n",
       "12   0.672494  61543.455081  0.820057 -22.440031         -23.236536  \n",
       "13   0.529867  64878.881761  0.727919 -25.049605         -26.198852  \n",
       "14   0.610950  65122.897808  0.781633 -25.245924         -26.006675  "
      ]
     },
     "metadata": {},
     "output_type": "display_data"
    },
    {
     "name": "stdout",
     "output_type": "stream",
     "text": [
      "                                                                                          \r"
     ]
    },
    {
     "data": {
      "text/html": [
       "\n",
       "            <style>\n",
       "                .custom-div {\n",
       "                    background-color: lightgray;\n",
       "                    color: #000000;\n",
       "                    padding: 10px;\n",
       "                    border-radius: 8px;\n",
       "                    box-shadow: 0 3px 4px rgba(0 -  0 -  0 -  0.2);\n",
       "                    margin-bottom: 10px;\n",
       "                    text-align: center;\n",
       "                }\n",
       "            </style>\n",
       "        <br><div class=\"custom-div\"><h3><span style=\"color: green;\">1. Feature Exploration -> 2. Feature Engineering -> 3. Data Preparation -> 4. Model Training & Evaluation</span><center></h3></center></div>"
      ],
      "text/plain": [
       "<IPython.core.display.HTML object>"
      ]
     },
     "metadata": {},
     "output_type": "display_data"
    },
    {
     "name": "stdout",
     "output_type": "stream",
     "text": [
      "Completed: ｜⫿⫿⫿⫿⫿⫿⫿⫿⫿⫿⫿⫿⫿⫿⫿⫿⫿⫿⫿⫿⫿⫿⫿⫿⫿⫿⫿⫿⫿⫿⫿⫿⫿⫿⫿⫿⫿⫿⫿⫿⫿⫿⫿⫿⫿⫿⫿⫿⫿⫿⫿⫿⫿⫿⫿⫿⫿⫿⫿⫿｜ 100% - 19/19    \r"
     ]
    }
   ],
   "source": [
    "# Fitting train data\n",
    "aml.fit(insurance_df_train, insurance_df_train.charges)"
   ]
  },
  {
   "cell_type": "markdown",
   "id": "23a04eb1-68e6-48b7-95aa-442f434809da",
   "metadata": {},
   "source": [
    "## <b><span style='color:#F1A424'>| 3.</span> Leaderboard : </b>"
   ]
  },
  {
   "cell_type": "code",
   "execution_count": 17,
   "id": "77de1099-6122-4f8a-8e7f-dd67e5b4ced4",
   "metadata": {},
   "outputs": [
    {
     "data": {
      "text/html": [
       "<div>\n",
       "<style scoped>\n",
       "    .dataframe tbody tr th:only-of-type {\n",
       "        vertical-align: middle;\n",
       "    }\n",
       "\n",
       "    .dataframe tbody tr th {\n",
       "        vertical-align: top;\n",
       "    }\n",
       "\n",
       "    .dataframe thead th {\n",
       "        text-align: right;\n",
       "    }\n",
       "</style>\n",
       "<table border=\"1\" class=\"dataframe\">\n",
       "  <thead>\n",
       "    <tr style=\"text-align: right;\">\n",
       "      <th></th>\n",
       "      <th>Rank</th>\n",
       "      <th>Name</th>\n",
       "      <th>Feature selection</th>\n",
       "      <th>MAE</th>\n",
       "      <th>MSE</th>\n",
       "      <th>MSLE</th>\n",
       "      <th>RMSE</th>\n",
       "      <th>RMSLE</th>\n",
       "      <th>R2-score</th>\n",
       "      <th>Adjusted R2-score</th>\n",
       "    </tr>\n",
       "  </thead>\n",
       "  <tbody>\n",
       "    <tr>\n",
       "      <th>0</th>\n",
       "      <td>1</td>\n",
       "      <td>decision_forest</td>\n",
       "      <td>lasso</td>\n",
       "      <td>2951.596020</td>\n",
       "      <td>2.313579e+07</td>\n",
       "      <td>0.183532</td>\n",
       "      <td>4809.968059</td>\n",
       "      <td>0.428407</td>\n",
       "      <td>0.856821</td>\n",
       "      <td>0.852671</td>\n",
       "    </tr>\n",
       "    <tr>\n",
       "      <th>1</th>\n",
       "      <td>2</td>\n",
       "      <td>decision_forest</td>\n",
       "      <td>rfe</td>\n",
       "      <td>3154.765397</td>\n",
       "      <td>2.530273e+07</td>\n",
       "      <td>0.227087</td>\n",
       "      <td>5030.181714</td>\n",
       "      <td>0.476536</td>\n",
       "      <td>0.843411</td>\n",
       "      <td>0.836502</td>\n",
       "    </tr>\n",
       "    <tr>\n",
       "      <th>2</th>\n",
       "      <td>3</td>\n",
       "      <td>knn</td>\n",
       "      <td>lasso</td>\n",
       "      <td>2787.693836</td>\n",
       "      <td>2.700204e+07</td>\n",
       "      <td>0.161384</td>\n",
       "      <td>5196.348607</td>\n",
       "      <td>0.401727</td>\n",
       "      <td>0.832894</td>\n",
       "      <td>0.828051</td>\n",
       "    </tr>\n",
       "    <tr>\n",
       "      <th>3</th>\n",
       "      <td>4</td>\n",
       "      <td>knn</td>\n",
       "      <td>pca</td>\n",
       "      <td>3075.192987</td>\n",
       "      <td>2.753500e+07</td>\n",
       "      <td>0.155820</td>\n",
       "      <td>5247.379825</td>\n",
       "      <td>0.394740</td>\n",
       "      <td>0.829596</td>\n",
       "      <td>0.823806</td>\n",
       "    </tr>\n",
       "    <tr>\n",
       "      <th>4</th>\n",
       "      <td>5</td>\n",
       "      <td>knn</td>\n",
       "      <td>rfe</td>\n",
       "      <td>2981.126709</td>\n",
       "      <td>2.782425e+07</td>\n",
       "      <td>0.153340</td>\n",
       "      <td>5274.869630</td>\n",
       "      <td>0.391587</td>\n",
       "      <td>0.827806</td>\n",
       "      <td>0.820209</td>\n",
       "    </tr>\n",
       "    <tr>\n",
       "      <th>5</th>\n",
       "      <td>6</td>\n",
       "      <td>decision_forest</td>\n",
       "      <td>pca</td>\n",
       "      <td>3838.834457</td>\n",
       "      <td>3.535120e+07</td>\n",
       "      <td>0.232131</td>\n",
       "      <td>5945.687372</td>\n",
       "      <td>0.481799</td>\n",
       "      <td>0.781225</td>\n",
       "      <td>0.773790</td>\n",
       "    </tr>\n",
       "    <tr>\n",
       "      <th>6</th>\n",
       "      <td>7</td>\n",
       "      <td>glm</td>\n",
       "      <td>lasso</td>\n",
       "      <td>4472.063409</td>\n",
       "      <td>3.907818e+07</td>\n",
       "      <td>0.296162</td>\n",
       "      <td>6251.254028</td>\n",
       "      <td>0.544208</td>\n",
       "      <td>0.758160</td>\n",
       "      <td>0.751150</td>\n",
       "    </tr>\n",
       "    <tr>\n",
       "      <th>7</th>\n",
       "      <td>8</td>\n",
       "      <td>glm</td>\n",
       "      <td>rfe</td>\n",
       "      <td>4956.069956</td>\n",
       "      <td>4.526305e+07</td>\n",
       "      <td>0.306791</td>\n",
       "      <td>6727.781810</td>\n",
       "      <td>0.553887</td>\n",
       "      <td>0.719884</td>\n",
       "      <td>0.707526</td>\n",
       "    </tr>\n",
       "    <tr>\n",
       "      <th>8</th>\n",
       "      <td>9</td>\n",
       "      <td>glm</td>\n",
       "      <td>pca</td>\n",
       "      <td>4947.745937</td>\n",
       "      <td>4.973268e+07</td>\n",
       "      <td>0.304673</td>\n",
       "      <td>7052.139798</td>\n",
       "      <td>0.551972</td>\n",
       "      <td>0.692223</td>\n",
       "      <td>0.681764</td>\n",
       "    </tr>\n",
       "    <tr>\n",
       "      <th>9</th>\n",
       "      <td>10</td>\n",
       "      <td>svm</td>\n",
       "      <td>lasso</td>\n",
       "      <td>13697.703822</td>\n",
       "      <td>3.492797e+08</td>\n",
       "      <td>36.576961</td>\n",
       "      <td>18689.025439</td>\n",
       "      <td>6.047889</td>\n",
       "      <td>-1.161562</td>\n",
       "      <td>-1.224216</td>\n",
       "    </tr>\n",
       "    <tr>\n",
       "      <th>10</th>\n",
       "      <td>11</td>\n",
       "      <td>svm</td>\n",
       "      <td>pca</td>\n",
       "      <td>13707.161549</td>\n",
       "      <td>3.494669e+08</td>\n",
       "      <td>42.564558</td>\n",
       "      <td>18694.034467</td>\n",
       "      <td>6.524152</td>\n",
       "      <td>-1.162721</td>\n",
       "      <td>-1.236212</td>\n",
       "    </tr>\n",
       "    <tr>\n",
       "      <th>11</th>\n",
       "      <td>12</td>\n",
       "      <td>svm</td>\n",
       "      <td>rfe</td>\n",
       "      <td>13719.674819</td>\n",
       "      <td>3.498186e+08</td>\n",
       "      <td>47.333331</td>\n",
       "      <td>18703.437838</td>\n",
       "      <td>6.879922</td>\n",
       "      <td>-1.164897</td>\n",
       "      <td>-1.260408</td>\n",
       "    </tr>\n",
       "    <tr>\n",
       "      <th>12</th>\n",
       "      <td>13</td>\n",
       "      <td>xgboost</td>\n",
       "      <td>pca</td>\n",
       "      <td>47008.829363</td>\n",
       "      <td>3.787597e+09</td>\n",
       "      <td>0.672494</td>\n",
       "      <td>61543.455081</td>\n",
       "      <td>0.820057</td>\n",
       "      <td>-22.440031</td>\n",
       "      <td>-23.236536</td>\n",
       "    </tr>\n",
       "    <tr>\n",
       "      <th>13</th>\n",
       "      <td>14</td>\n",
       "      <td>xgboost</td>\n",
       "      <td>rfe</td>\n",
       "      <td>45455.155286</td>\n",
       "      <td>4.209269e+09</td>\n",
       "      <td>0.529867</td>\n",
       "      <td>64878.881761</td>\n",
       "      <td>0.727919</td>\n",
       "      <td>-25.049605</td>\n",
       "      <td>-26.198852</td>\n",
       "    </tr>\n",
       "    <tr>\n",
       "      <th>14</th>\n",
       "      <td>15</td>\n",
       "      <td>xgboost</td>\n",
       "      <td>lasso</td>\n",
       "      <td>46400.148859</td>\n",
       "      <td>4.240992e+09</td>\n",
       "      <td>0.610950</td>\n",
       "      <td>65122.897808</td>\n",
       "      <td>0.781633</td>\n",
       "      <td>-25.245924</td>\n",
       "      <td>-26.006675</td>\n",
       "    </tr>\n",
       "  </tbody>\n",
       "</table>\n",
       "</div>"
      ],
      "text/plain": [
       "    Rank             Name Feature selection           MAE           MSE  \\\n",
       "0      1  decision_forest             lasso   2951.596020  2.313579e+07   \n",
       "1      2  decision_forest               rfe   3154.765397  2.530273e+07   \n",
       "2      3              knn             lasso   2787.693836  2.700204e+07   \n",
       "3      4              knn               pca   3075.192987  2.753500e+07   \n",
       "4      5              knn               rfe   2981.126709  2.782425e+07   \n",
       "5      6  decision_forest               pca   3838.834457  3.535120e+07   \n",
       "6      7              glm             lasso   4472.063409  3.907818e+07   \n",
       "7      8              glm               rfe   4956.069956  4.526305e+07   \n",
       "8      9              glm               pca   4947.745937  4.973268e+07   \n",
       "9     10              svm             lasso  13697.703822  3.492797e+08   \n",
       "10    11              svm               pca  13707.161549  3.494669e+08   \n",
       "11    12              svm               rfe  13719.674819  3.498186e+08   \n",
       "12    13          xgboost               pca  47008.829363  3.787597e+09   \n",
       "13    14          xgboost               rfe  45455.155286  4.209269e+09   \n",
       "14    15          xgboost             lasso  46400.148859  4.240992e+09   \n",
       "\n",
       "         MSLE          RMSE     RMSLE   R2-score  Adjusted R2-score  \n",
       "0    0.183532   4809.968059  0.428407   0.856821           0.852671  \n",
       "1    0.227087   5030.181714  0.476536   0.843411           0.836502  \n",
       "2    0.161384   5196.348607  0.401727   0.832894           0.828051  \n",
       "3    0.155820   5247.379825  0.394740   0.829596           0.823806  \n",
       "4    0.153340   5274.869630  0.391587   0.827806           0.820209  \n",
       "5    0.232131   5945.687372  0.481799   0.781225           0.773790  \n",
       "6    0.296162   6251.254028  0.544208   0.758160           0.751150  \n",
       "7    0.306791   6727.781810  0.553887   0.719884           0.707526  \n",
       "8    0.304673   7052.139798  0.551972   0.692223           0.681764  \n",
       "9   36.576961  18689.025439  6.047889  -1.161562          -1.224216  \n",
       "10  42.564558  18694.034467  6.524152  -1.162721          -1.236212  \n",
       "11  47.333331  18703.437838  6.879922  -1.164897          -1.260408  \n",
       "12   0.672494  61543.455081  0.820057 -22.440031         -23.236536  \n",
       "13   0.529867  64878.881761  0.727919 -25.049605         -26.198852  \n",
       "14   0.610950  65122.897808  0.781633 -25.245924         -26.006675  "
      ]
     },
     "execution_count": 17,
     "metadata": {},
     "output_type": "execute_result"
    }
   ],
   "source": [
    "# Fetching Leaderboard\n",
    "aml.leaderboard()"
   ]
  },
  {
   "cell_type": "markdown",
   "id": "a7a3aa08-e349-4a61-9217-2c17d50411d8",
   "metadata": {},
   "source": [
    "## <b><span style='color:#F1A424'>| 4.</span> Best Performing Model : </b>"
   ]
  },
  {
   "cell_type": "code",
   "execution_count": 18,
   "id": "c4c32832-a76b-4f42-826a-cefc38a6301b",
   "metadata": {},
   "outputs": [
    {
     "data": {
      "text/html": [
       "<div>\n",
       "<style scoped>\n",
       "    .dataframe tbody tr th:only-of-type {\n",
       "        vertical-align: middle;\n",
       "    }\n",
       "\n",
       "    .dataframe tbody tr th {\n",
       "        vertical-align: top;\n",
       "    }\n",
       "\n",
       "    .dataframe thead th {\n",
       "        text-align: right;\n",
       "    }\n",
       "</style>\n",
       "<table border=\"1\" class=\"dataframe\">\n",
       "  <thead>\n",
       "    <tr style=\"text-align: right;\">\n",
       "      <th></th>\n",
       "      <th>Rank</th>\n",
       "      <th>Name</th>\n",
       "      <th>Feature selection</th>\n",
       "      <th>MAE</th>\n",
       "      <th>MSE</th>\n",
       "      <th>MSLE</th>\n",
       "      <th>RMSE</th>\n",
       "      <th>RMSLE</th>\n",
       "      <th>R2-score</th>\n",
       "      <th>Adjusted R2-score</th>\n",
       "    </tr>\n",
       "  </thead>\n",
       "  <tbody>\n",
       "    <tr>\n",
       "      <th>0</th>\n",
       "      <td>1</td>\n",
       "      <td>decision_forest</td>\n",
       "      <td>lasso</td>\n",
       "      <td>2951.59602</td>\n",
       "      <td>2.313579e+07</td>\n",
       "      <td>0.183532</td>\n",
       "      <td>4809.968059</td>\n",
       "      <td>0.428407</td>\n",
       "      <td>0.856821</td>\n",
       "      <td>0.852671</td>\n",
       "    </tr>\n",
       "  </tbody>\n",
       "</table>\n",
       "</div>"
      ],
      "text/plain": [
       "   Rank             Name Feature selection         MAE           MSE  \\\n",
       "0     1  decision_forest             lasso  2951.59602  2.313579e+07   \n",
       "\n",
       "       MSLE         RMSE     RMSLE  R2-score  Adjusted R2-score  \n",
       "0  0.183532  4809.968059  0.428407  0.856821           0.852671  "
      ]
     },
     "metadata": {},
     "output_type": "display_data"
    }
   ],
   "source": [
    "# Fetching best performing model for dataset\n",
    "aml.leader()"
   ]
  },
  {
   "cell_type": "markdown",
   "id": "e43181a9-3847-4e8b-b510-6da81f1c550f",
   "metadata": {},
   "source": [
    "## <b><span style='color:#F1A424'>| 5.</span> Generating Prediction : </b>"
   ]
  },
  {
   "cell_type": "markdown",
   "id": "8bf3bed8-dbdd-4239-97da-f289559c785c",
   "metadata": {},
   "source": [
    "### <b><span style='color:#F1A424'>| 5.1.</span> Generating prediction on default validation test data </b>"
   ]
  },
  {
   "cell_type": "code",
   "execution_count": 19,
   "id": "27663268-da3c-4717-b675-6d3a6d6f8f37",
   "metadata": {},
   "outputs": [
    {
     "name": "stdout",
     "output_type": "stream",
     "text": [
      "decision_forest rfe\n",
      "\n",
      " Prediction : \n",
      "      charges    id    prediction  confidence_lower  confidence_upper\n",
      "0   3378.9100   120   6220.040595       3457.772684       8982.308506\n",
      "1  12646.2070   242  15506.463133      12175.246766      18837.679500\n",
      "2   3260.1990   894   5917.518596       3850.904913       7984.132280\n",
      "3  44423.8030   244  44892.566103      42483.058049      47302.074157\n",
      "4   9788.8659  1283  10959.844965       7894.663361      14025.026569\n",
      "5  15359.1045  1483  20799.869886      18248.465850      23351.273922\n",
      "6  15019.7601   570  15728.179000      12415.391059      19040.966940\n",
      "7   6600.3610   122   7091.397956       6597.491194       7585.304717\n",
      "8   8978.1851   549   9500.677671       7817.727932      11183.627410\n",
      "9   4350.5144   814   5565.986557       4699.995051       6431.978063\n",
      "\n",
      " Performance Metrics : \n",
      "           MAE           MSE      MSLE       MAPE        MPE         RMSE     RMSLE            ME        R2        EV         MPD       MGD\n",
      "0  3154.765397  2.530273e+07  0.227087  41.212157 -30.992233  5030.181714  0.476536  28950.887136  0.843411  0.844157  1823.25317  0.231906\n"
     ]
    }
   ],
   "source": [
    "# Generating prediction and metrics on default test data\n",
    "prediction = aml.predict(rank=2)"
   ]
  },
  {
   "cell_type": "code",
   "execution_count": 20,
   "id": "742da363-550e-43e9-8c4b-d5feac54f522",
   "metadata": {},
   "outputs": [
    {
     "data": {
      "text/html": [
       "<style type=\"text/css\">\n",
       "\ttable {border:ridge 5px;}\n",
       "\ttable td {border:inset 1px;}\n",
       "\ttable tr#HeaderRow {background-color:grey; color:white;}</style>\n",
       "<html><table>\n",
       "\t<tr id=\"HeaderRow\">\n",
       "\t\t<th>charges</th>\n",
       "\t\t<th>id</th>\n",
       "\t\t<th>prediction</th>\n",
       "\t\t<th>confidence_lower</th>\n",
       "\t\t<th>confidence_upper</th>\n",
       "\t</tr>\n",
       "\t<tr>\n",
       "\t\t<td>1252.407</td>\n",
       "\t\t<td>211</td>\n",
       "\t\t<td>4679.387568521436</td>\n",
       "\t\t<td>2109.1630299251883</td>\n",
       "\t\t<td>7249.612107117684</td>\n",
       "\t</tr>\n",
       "\t<tr>\n",
       "\t\t<td>1639.5631</td>\n",
       "\t\t<td>203</td>\n",
       "\t\t<td>5134.209670246116</td>\n",
       "\t\t<td>2487.076337415327</td>\n",
       "\t\t<td>7781.343003076905</td>\n",
       "\t</tr>\n",
       "\t<tr>\n",
       "\t\t<td>1664.9996</td>\n",
       "\t\t<td>546</td>\n",
       "\t\t<td>3003.9141179990934</td>\n",
       "\t\t<td>2082.3558258980565</td>\n",
       "\t\t<td>3925.47241010013</td>\n",
       "\t</tr>\n",
       "\t<tr>\n",
       "\t\t<td>1674.6323</td>\n",
       "\t\t<td>450</td>\n",
       "\t\t<td>2806.0867005075047</td>\n",
       "\t\t<td>2134.2802306208823</td>\n",
       "\t\t<td>3477.893170394127</td>\n",
       "\t</tr>\n",
       "\t<tr>\n",
       "\t\t<td>1727.54</td>\n",
       "\t\t<td>1000</td>\n",
       "\t\t<td>4932.225044874093</td>\n",
       "\t\t<td>2328.026040030931</td>\n",
       "\t\t<td>7536.424049717256</td>\n",
       "\t</tr>\n",
       "\t<tr>\n",
       "\t\t<td>1759.338</td>\n",
       "\t\t<td>187</td>\n",
       "\t\t<td>6321.411723110119</td>\n",
       "\t\t<td>3564.5832645934925</td>\n",
       "\t\t<td>9078.240181626745</td>\n",
       "\t</tr>\n",
       "\t<tr>\n",
       "\t\t<td>1725.5523</td>\n",
       "\t\t<td>816</td>\n",
       "\t\t<td>4932.225044874093</td>\n",
       "\t\t<td>2328.026040030931</td>\n",
       "\t\t<td>7536.424049717256</td>\n",
       "\t</tr>\n",
       "\t<tr>\n",
       "\t\t<td>1526.312</td>\n",
       "\t\t<td>1459</td>\n",
       "\t\t<td>2819.620031459886</td>\n",
       "\t\t<td>2162.675706371498</td>\n",
       "\t\t<td>3476.5643565482737</td>\n",
       "\t</tr>\n",
       "\t<tr>\n",
       "\t\t<td>1141.4451</td>\n",
       "\t\t<td>944</td>\n",
       "\t\t<td>5264.8264702300685</td>\n",
       "\t\t<td>2535.7850236083214</td>\n",
       "\t\t<td>7993.867916851816</td>\n",
       "\t</tr>\n",
       "\t<tr>\n",
       "\t\t<td>1131.5066</td>\n",
       "\t\t<td>960</td>\n",
       "\t\t<td>5515.55632310477</td>\n",
       "\t\t<td>2574.9981185076613</td>\n",
       "\t\t<td>8456.114527701879</td>\n",
       "\t</tr>\n",
       "</table></html>"
      ],
      "text/plain": [
       "     charges    id   prediction  confidence_lower  confidence_upper\n",
       "0  1252.4070   211  4679.387569       2109.163030       7249.612107\n",
       "1  1639.5631   203  5134.209670       2487.076337       7781.343003\n",
       "2  1664.9996   546  3003.914118       2082.355826       3925.472410\n",
       "3  1674.6323   450  2806.086701       2134.280231       3477.893170\n",
       "4  1727.5400  1000  4932.225045       2328.026040       7536.424050\n",
       "5  1759.3380   187  6321.411723       3564.583265       9078.240182\n",
       "6  1725.5523   816  4932.225045       2328.026040       7536.424050\n",
       "7  1526.3120  1459  2819.620031       2162.675706       3476.564357\n",
       "8  1141.4451   944  5264.826470       2535.785024       7993.867917\n",
       "9  1131.5066   960  5515.556323       2574.998119       8456.114528"
      ]
     },
     "execution_count": 20,
     "metadata": {},
     "output_type": "execute_result"
    }
   ],
   "source": [
    "# Printing prediction\n",
    "prediction.head()"
   ]
  },
  {
   "cell_type": "markdown",
   "id": "ff38e5a7-70a4-4e80-9728-3b5e93b62344",
   "metadata": {},
   "source": [
    "### <b><span style='color:#F1A424'>| 5.2. </span> Generating prediction on external test data </b>"
   ]
  },
  {
   "cell_type": "code",
   "execution_count": 21,
   "id": "5b6edfe3-bd5a-46bd-ad80-b20fadfed7a0",
   "metadata": {},
   "outputs": [
    {
     "name": "stdout",
     "output_type": "stream",
     "text": [
      "Data Transformation started ...\n",
      "Performing transformation carried out in feature engineering phase ...\n",
      "result data stored in table '\"AUTOML_USR\".\"ml__td_sqlmr_persist_out__1711974876920869\"'\n",
      "\n",
      "Updated dataset after performing categorical encoding :\n"
     ]
    },
    {
     "data": {
      "text/html": [
       "<style type=\"text/css\">\n",
       "\ttable {border:ridge 5px;}\n",
       "\ttable td {border:inset 1px;}\n",
       "\ttable tr#HeaderRow {background-color:grey; color:white;}</style>\n",
       "<html><table>\n",
       "\t<tr id=\"HeaderRow\">\n",
       "\t\t<th>age</th>\n",
       "\t\t<th>sex_0</th>\n",
       "\t\t<th>sex_1</th>\n",
       "\t\t<th>bmi</th>\n",
       "\t\t<th>children</th>\n",
       "\t\t<th>smoker_0</th>\n",
       "\t\t<th>smoker_1</th>\n",
       "\t\t<th>region_0</th>\n",
       "\t\t<th>region_1</th>\n",
       "\t\t<th>region_2</th>\n",
       "\t\t<th>region_3</th>\n",
       "\t\t<th>charges</th>\n",
       "\t\t<th>id</th>\n",
       "\t</tr>\n",
       "\t<tr>\n",
       "\t\t<td>38</td>\n",
       "\t\t<td>0</td>\n",
       "\t\t<td>1</td>\n",
       "\t\t<td>38.39</td>\n",
       "\t\t<td>3</td>\n",
       "\t\t<td>0</td>\n",
       "\t\t<td>1</td>\n",
       "\t\t<td>0</td>\n",
       "\t\t<td>0</td>\n",
       "\t\t<td>1</td>\n",
       "\t\t<td>0</td>\n",
       "\t\t<td>41949.2441</td>\n",
       "\t\t<td>68</td>\n",
       "\t</tr>\n",
       "\t<tr>\n",
       "\t\t<td>38</td>\n",
       "\t\t<td>0</td>\n",
       "\t\t<td>1</td>\n",
       "\t\t<td>21.12</td>\n",
       "\t\t<td>3</td>\n",
       "\t\t<td>1</td>\n",
       "\t\t<td>0</td>\n",
       "\t\t<td>0</td>\n",
       "\t\t<td>0</td>\n",
       "\t\t<td>1</td>\n",
       "\t\t<td>0</td>\n",
       "\t\t<td>6652.5288</td>\n",
       "\t\t<td>12</td>\n",
       "\t</tr>\n",
       "\t<tr>\n",
       "\t\t<td>38</td>\n",
       "\t\t<td>1</td>\n",
       "\t\t<td>0</td>\n",
       "\t\t<td>27.835</td>\n",
       "\t\t<td>2</td>\n",
       "\t\t<td>1</td>\n",
       "\t\t<td>0</td>\n",
       "\t\t<td>1</td>\n",
       "\t\t<td>0</td>\n",
       "\t\t<td>0</td>\n",
       "\t\t<td>0</td>\n",
       "\t\t<td>7144.86265</td>\n",
       "\t\t<td>28</td>\n",
       "\t</tr>\n",
       "\t<tr>\n",
       "\t\t<td>38</td>\n",
       "\t\t<td>1</td>\n",
       "\t\t<td>0</td>\n",
       "\t\t<td>30.21</td>\n",
       "\t\t<td>3</td>\n",
       "\t\t<td>1</td>\n",
       "\t\t<td>0</td>\n",
       "\t\t<td>0</td>\n",
       "\t\t<td>1</td>\n",
       "\t\t<td>0</td>\n",
       "\t\t<td>0</td>\n",
       "\t\t<td>7537.1639</td>\n",
       "\t\t<td>44</td>\n",
       "\t</tr>\n",
       "\t<tr>\n",
       "\t\t<td>55</td>\n",
       "\t\t<td>1</td>\n",
       "\t\t<td>0</td>\n",
       "\t\t<td>32.395</td>\n",
       "\t\t<td>1</td>\n",
       "\t\t<td>1</td>\n",
       "\t\t<td>0</td>\n",
       "\t\t<td>1</td>\n",
       "\t\t<td>0</td>\n",
       "\t\t<td>0</td>\n",
       "\t\t<td>0</td>\n",
       "\t\t<td>11879.10405</td>\n",
       "\t\t<td>92</td>\n",
       "\t</tr>\n",
       "\t<tr>\n",
       "\t\t<td>55</td>\n",
       "\t\t<td>1</td>\n",
       "\t\t<td>0</td>\n",
       "\t\t<td>33.535</td>\n",
       "\t\t<td>2</td>\n",
       "\t\t<td>1</td>\n",
       "\t\t<td>0</td>\n",
       "\t\t<td>0</td>\n",
       "\t\t<td>1</td>\n",
       "\t\t<td>0</td>\n",
       "\t\t<td>0</td>\n",
       "\t\t<td>12269.68865</td>\n",
       "\t\t<td>84</td>\n",
       "\t</tr>\n",
       "\t<tr>\n",
       "\t\t<td>38</td>\n",
       "\t\t<td>1</td>\n",
       "\t\t<td>0</td>\n",
       "\t\t<td>27.265</td>\n",
       "\t\t<td>1</td>\n",
       "\t\t<td>1</td>\n",
       "\t\t<td>0</td>\n",
       "\t\t<td>1</td>\n",
       "\t\t<td>0</td>\n",
       "\t\t<td>0</td>\n",
       "\t\t<td>0</td>\n",
       "\t\t<td>6555.07035</td>\n",
       "\t\t<td>36</td>\n",
       "\t</tr>\n",
       "\t<tr>\n",
       "\t\t<td>38</td>\n",
       "\t\t<td>0</td>\n",
       "\t\t<td>1</td>\n",
       "\t\t<td>34.7</td>\n",
       "\t\t<td>2</td>\n",
       "\t\t<td>1</td>\n",
       "\t\t<td>0</td>\n",
       "\t\t<td>0</td>\n",
       "\t\t<td>0</td>\n",
       "\t\t<td>0</td>\n",
       "\t\t<td>1</td>\n",
       "\t\t<td>6082.405</td>\n",
       "\t\t<td>60</td>\n",
       "\t</tr>\n",
       "\t<tr>\n",
       "\t\t<td>38</td>\n",
       "\t\t<td>1</td>\n",
       "\t\t<td>0</td>\n",
       "\t\t<td>37.73</td>\n",
       "\t\t<td>0</td>\n",
       "\t\t<td>1</td>\n",
       "\t\t<td>0</td>\n",
       "\t\t<td>0</td>\n",
       "\t\t<td>0</td>\n",
       "\t\t<td>1</td>\n",
       "\t\t<td>0</td>\n",
       "\t\t<td>5397.6167</td>\n",
       "\t\t<td>20</td>\n",
       "\t</tr>\n",
       "\t<tr>\n",
       "\t\t<td>38</td>\n",
       "\t\t<td>0</td>\n",
       "\t\t<td>1</td>\n",
       "\t\t<td>16.815</td>\n",
       "\t\t<td>2</td>\n",
       "\t\t<td>1</td>\n",
       "\t\t<td>0</td>\n",
       "\t\t<td>1</td>\n",
       "\t\t<td>0</td>\n",
       "\t\t<td>0</td>\n",
       "\t\t<td>0</td>\n",
       "\t\t<td>6640.54485</td>\n",
       "\t\t<td>52</td>\n",
       "\t</tr>\n",
       "</table></html>"
      ],
      "text/plain": [
       "     sex_0  sex_1     bmi  children  smoker_0  smoker_1  region_0  region_1  region_2  region_3      charges  id\n",
       "age                                                                                                             \n",
       "38       0      1  38.390         3         0         1         0         0         1         0  41949.24410  68\n",
       "38       0      1  21.120         3         1         0         0         0         1         0   6652.52880  12\n",
       "38       1      0  27.835         2         1         0         1         0         0         0   7144.86265  28\n",
       "38       1      0  30.210         3         1         0         0         1         0         0   7537.16390  44\n",
       "55       1      0  32.395         1         1         0         1         0         0         0  11879.10405  92\n",
       "55       1      0  33.535         2         1         0         0         1         0         0  12269.68865  84\n",
       "38       1      0  27.265         1         1         0         1         0         0         0   6555.07035  36\n",
       "38       0      1  34.700         2         1         0         0         0         0         1   6082.40500  60\n",
       "38       1      0  37.730         0         1         0         0         0         1         0   5397.61670  20\n",
       "38       0      1  16.815         2         1         0         1         0         0         0   6640.54485  52"
      ]
     },
     "metadata": {},
     "output_type": "display_data"
    },
    {
     "name": "stdout",
     "output_type": "stream",
     "text": [
      "Performing transformation carried out in data preparation phase ...\n",
      "result data stored in table '\"AUTOML_USR\".\"ml__td_sqlmr_persist_out__1711978232870543\"'\n",
      "\n",
      "Updated dataset after performing Lasso feature selection:\n"
     ]
    },
    {
     "data": {
      "text/html": [
       "<style type=\"text/css\">\n",
       "\ttable {border:ridge 5px;}\n",
       "\ttable td {border:inset 1px;}\n",
       "\ttable tr#HeaderRow {background-color:grey; color:white;}</style>\n",
       "<html><table>\n",
       "\t<tr id=\"HeaderRow\">\n",
       "\t\t<th>id</th>\n",
       "\t\t<th>region_0</th>\n",
       "\t\t<th>age</th>\n",
       "\t\t<th>smoker_1</th>\n",
       "\t\t<th>smoker_0</th>\n",
       "\t\t<th>children</th>\n",
       "\t\t<th>bmi</th>\n",
       "\t\t<th>charges</th>\n",
       "\t</tr>\n",
       "\t<tr>\n",
       "\t\t<td>181</td>\n",
       "\t\t<td>0</td>\n",
       "\t\t<td>48</td>\n",
       "\t\t<td>0</td>\n",
       "\t\t<td>1</td>\n",
       "\t\t<td>1</td>\n",
       "\t\t<td>36.67</td>\n",
       "\t\t<td>28468.919</td>\n",
       "\t</tr>\n",
       "\t<tr>\n",
       "\t\t<td>36</td>\n",
       "\t\t<td>1</td>\n",
       "\t\t<td>38</td>\n",
       "\t\t<td>0</td>\n",
       "\t\t<td>1</td>\n",
       "\t\t<td>1</td>\n",
       "\t\t<td>27.265</td>\n",
       "\t\t<td>6555.0703</td>\n",
       "\t</tr>\n",
       "\t<tr>\n",
       "\t\t<td>116</td>\n",
       "\t\t<td>0</td>\n",
       "\t\t<td>29</td>\n",
       "\t\t<td>0</td>\n",
       "\t\t<td>1</td>\n",
       "\t\t<td>1</td>\n",
       "\t\t<td>29.59</td>\n",
       "\t\t<td>3947.4131</td>\n",
       "\t</tr>\n",
       "\t<tr>\n",
       "\t\t<td>238</td>\n",
       "\t\t<td>0</td>\n",
       "\t\t<td>54</td>\n",
       "\t\t<td>0</td>\n",
       "\t\t<td>1</td>\n",
       "\t\t<td>2</td>\n",
       "\t\t<td>46.7</td>\n",
       "\t\t<td>11538.421</td>\n",
       "\t</tr>\n",
       "\t<tr>\n",
       "\t\t<td>28</td>\n",
       "\t\t<td>1</td>\n",
       "\t\t<td>38</td>\n",
       "\t\t<td>0</td>\n",
       "\t\t<td>1</td>\n",
       "\t\t<td>2</td>\n",
       "\t\t<td>27.835</td>\n",
       "\t\t<td>7144.8627</td>\n",
       "\t</tr>\n",
       "\t<tr>\n",
       "\t\t<td>251</td>\n",
       "\t\t<td>0</td>\n",
       "\t\t<td>30</td>\n",
       "\t\t<td>1</td>\n",
       "\t\t<td>0</td>\n",
       "\t\t<td>3</td>\n",
       "\t\t<td>39.05</td>\n",
       "\t\t<td>40932.4295</td>\n",
       "\t</tr>\n",
       "\t<tr>\n",
       "\t\t<td>154</td>\n",
       "\t\t<td>1</td>\n",
       "\t\t<td>37</td>\n",
       "\t\t<td>1</td>\n",
       "\t\t<td>0</td>\n",
       "\t\t<td>1</td>\n",
       "\t\t<td>34.2</td>\n",
       "\t\t<td>39047.285</td>\n",
       "\t</tr>\n",
       "\t<tr>\n",
       "\t\t<td>160</td>\n",
       "\t\t<td>1</td>\n",
       "\t\t<td>18</td>\n",
       "\t\t<td>1</td>\n",
       "\t\t<td>0</td>\n",
       "\t\t<td>2</td>\n",
       "\t\t<td>17.29</td>\n",
       "\t\t<td>12829.4551</td>\n",
       "\t</tr>\n",
       "\t<tr>\n",
       "\t\t<td>141</td>\n",
       "\t\t<td>0</td>\n",
       "\t\t<td>50</td>\n",
       "\t\t<td>0</td>\n",
       "\t\t<td>1</td>\n",
       "\t\t<td>1</td>\n",
       "\t\t<td>37.07</td>\n",
       "\t\t<td>9048.0273</td>\n",
       "\t</tr>\n",
       "\t<tr>\n",
       "\t\t<td>61</td>\n",
       "\t\t<td>1</td>\n",
       "\t\t<td>49</td>\n",
       "\t\t<td>0</td>\n",
       "\t\t<td>1</td>\n",
       "\t\t<td>2</td>\n",
       "\t\t<td>33.345</td>\n",
       "\t\t<td>10370.9125</td>\n",
       "\t</tr>\n",
       "</table></html>"
      ],
      "text/plain": [
       "     region_0  age  smoker_1  smoker_0  children     bmi     charges\n",
       "id                                                                  \n",
       "181         0   48         0         1         1  36.670  28468.9190\n",
       "36          1   38         0         1         1  27.265   6555.0703\n",
       "116         0   29         0         1         1  29.590   3947.4131\n",
       "238         0   54         0         1         2  46.700  11538.4210\n",
       "28          1   38         0         1         2  27.835   7144.8627\n",
       "251         0   30         1         0         3  39.050  40932.4295\n",
       "154         1   37         1         0         1  34.200  39047.2850\n",
       "160         1   18         1         0         2  17.290  12829.4551\n",
       "141         0   50         0         1         1  37.070   9048.0273\n",
       "61          1   49         0         1         2  33.345  10370.9125"
      ]
     },
     "metadata": {},
     "output_type": "display_data"
    },
    {
     "name": "stdout",
     "output_type": "stream",
     "text": [
      "\n",
      "Updated dataset after performing scaling on Lasso selected features :\n"
     ]
    },
    {
     "data": {
      "text/html": [
       "<style type=\"text/css\">\n",
       "\ttable {border:ridge 5px;}\n",
       "\ttable td {border:inset 1px;}\n",
       "\ttable tr#HeaderRow {background-color:grey; color:white;}</style>\n",
       "<html><table>\n",
       "\t<tr id=\"HeaderRow\">\n",
       "\t\t<th>id</th>\n",
       "\t\t<th>smoker_0</th>\n",
       "\t\t<th>region_0</th>\n",
       "\t\t<th>smoker_1</th>\n",
       "\t\t<th>charges</th>\n",
       "\t\t<th>age</th>\n",
       "\t\t<th>children</th>\n",
       "\t\t<th>bmi</th>\n",
       "\t</tr>\n",
       "\t<tr>\n",
       "\t\t<td>101</td>\n",
       "\t\t<td>1</td>\n",
       "\t\t<td>1</td>\n",
       "\t\t<td>0</td>\n",
       "\t\t<td>9222.4026</td>\n",
       "\t\t<td>0.10782291945849855</td>\n",
       "\t\t<td>3.3515675022459326</td>\n",
       "\t\t<td>-0.1374160854018952</td>\n",
       "\t</tr>\n",
       "\t<tr>\n",
       "\t\t<td>80</td>\n",
       "\t\t<td>1</td>\n",
       "\t\t<td>0</td>\n",
       "\t\t<td>0</td>\n",
       "\t\t<td>2257.4752</td>\n",
       "\t\t<td>-1.3963702322342966</td>\n",
       "\t\t<td>-0.8942860341021156</td>\n",
       "\t\t<td>-0.25310295063326066</td>\n",
       "\t</tr>\n",
       "\t<tr>\n",
       "\t\t<td>242</td>\n",
       "\t\t<td>1</td>\n",
       "\t\t<td>0</td>\n",
       "\t\t<td>0</td>\n",
       "\t\t<td>5846.9176</td>\n",
       "\t\t<td>-0.3219465524537286</td>\n",
       "\t\t<td>0.8040553804371038</td>\n",
       "\t\t<td>2.2459073035751116</td>\n",
       "\t</tr>\n",
       "\t<tr>\n",
       "\t\t<td>122</td>\n",
       "\t\t<td>1</td>\n",
       "\t\t<td>0</td>\n",
       "\t\t<td>0</td>\n",
       "\t\t<td>12979.358</td>\n",
       "\t\t<td>1.6120160711512936</td>\n",
       "\t\t<td>-0.8942860341021156</td>\n",
       "\t\t<td>1.2125539509821606</td>\n",
       "\t</tr>\n",
       "\t<tr>\n",
       "\t\t<td>61</td>\n",
       "\t\t<td>1</td>\n",
       "\t\t<td>1</td>\n",
       "\t\t<td>0</td>\n",
       "\t\t<td>10370.9125</td>\n",
       "\t\t<td>0.6808488820081348</td>\n",
       "\t\t<td>0.8040553804371038</td>\n",
       "\t\t<td>0.5071250208871415</td>\n",
       "\t</tr>\n",
       "\t<tr>\n",
       "\t\t<td>141</td>\n",
       "\t\t<td>1</td>\n",
       "\t\t<td>0</td>\n",
       "\t\t<td>0</td>\n",
       "\t\t<td>9048.0273</td>\n",
       "\t\t<td>0.7524771273268392</td>\n",
       "\t\t<td>-0.045115326832505916</td>\n",
       "\t\t<td>1.1551454313936635</td>\n",
       "\t</tr>\n",
       "\t<tr>\n",
       "\t\t<td>162</td>\n",
       "\t\t<td>0</td>\n",
       "\t\t<td>0</td>\n",
       "\t\t<td>1</td>\n",
       "\t\t<td>40419.0191</td>\n",
       "\t\t<td>-0.17869006181631955</td>\n",
       "\t\t<td>-0.8942860341021156</td>\n",
       "\t\t<td>1.3847795097476525</td>\n",
       "\t</tr>\n",
       "\t<tr>\n",
       "\t\t<td>223</td>\n",
       "\t\t<td>1</td>\n",
       "\t\t<td>1</td>\n",
       "\t\t<td>0</td>\n",
       "\t\t<td>2899.4893</td>\n",
       "\t\t<td>-1.181485496278183</td>\n",
       "\t\t<td>-0.8942860341021156</td>\n",
       "\t\t<td>0.7715521414159778</td>\n",
       "\t</tr>\n",
       "\t<tr>\n",
       "\t\t<td>183</td>\n",
       "\t\t<td>1</td>\n",
       "\t\t<td>0</td>\n",
       "\t\t<td>0</td>\n",
       "\t\t<td>6356.2707</td>\n",
       "\t\t<td>-0.03543357117891051</td>\n",
       "\t\t<td>0.8040553804371038</td>\n",
       "\t\t<td>2.60949459430226</td>\n",
       "\t</tr>\n",
       "\t<tr>\n",
       "\t\t<td>221</td>\n",
       "\t\t<td>1</td>\n",
       "\t\t<td>0</td>\n",
       "\t\t<td>0</td>\n",
       "\t\t<td>15170.069</td>\n",
       "\t\t<td>1.6836443164699981</td>\n",
       "\t\t<td>1.6532260877067133</td>\n",
       "\t\t<td>1.630070457080322</td>\n",
       "\t</tr>\n",
       "</table></html>"
      ],
      "text/plain": [
       "    id  smoker_0  region_0  smoker_1     charges       age  children       bmi\n",
       "0  101         1         1         0   9222.4026  0.107823  3.351568 -0.137416\n",
       "1   80         1         0         0   2257.4752 -1.396370 -0.894286 -0.253103\n",
       "2  242         1         0         0   5846.9176 -0.321947  0.804055  2.245907\n",
       "3  122         1         0         0  12979.3580  1.612016 -0.894286  1.212554\n",
       "4   61         1         1         0  10370.9125  0.680849  0.804055  0.507125\n",
       "5  141         1         0         0   9048.0273  0.752477 -0.045115  1.155145\n",
       "6  162         0         0         1  40419.0191 -0.178690 -0.894286  1.384780\n",
       "7  223         1         1         0   2899.4893 -1.181485 -0.894286  0.771552\n",
       "8  183         1         0         0   6356.2707 -0.035434  0.804055  2.609495\n",
       "9  221         1         0         0  15170.0690  1.683644  1.653226  1.630070"
      ]
     },
     "metadata": {},
     "output_type": "display_data"
    },
    {
     "name": "stdout",
     "output_type": "stream",
     "text": [
      "\n",
      "Updated dataset after performing RFE feature selection:\n"
     ]
    },
    {
     "data": {
      "text/html": [
       "<style type=\"text/css\">\n",
       "\ttable {border:ridge 5px;}\n",
       "\ttable td {border:inset 1px;}\n",
       "\ttable tr#HeaderRow {background-color:grey; color:white;}</style>\n",
       "<html><table>\n",
       "\t<tr id=\"HeaderRow\">\n",
       "\t\t<th>id</th>\n",
       "\t\t<th>region_0</th>\n",
       "\t\t<th>sex_0</th>\n",
       "\t\t<th>age</th>\n",
       "\t\t<th>region_2</th>\n",
       "\t\t<th>smoker_1</th>\n",
       "\t\t<th>region_1</th>\n",
       "\t\t<th>smoker_0</th>\n",
       "\t\t<th>children</th>\n",
       "\t\t<th>bmi</th>\n",
       "\t\t<th>charges</th>\n",
       "\t</tr>\n",
       "\t<tr>\n",
       "\t\t<td>34</td>\n",
       "\t\t<td>0</td>\n",
       "\t\t<td>1</td>\n",
       "\t\t<td>57</td>\n",
       "\t\t<td>0</td>\n",
       "\t\t<td>0</td>\n",
       "\t\t<td>0</td>\n",
       "\t\t<td>1</td>\n",
       "\t\t<td>1</td>\n",
       "\t\t<td>20.1</td>\n",
       "\t\t<td>12032.326</td>\n",
       "\t</tr>\n",
       "\t<tr>\n",
       "\t\t<td>156</td>\n",
       "\t\t<td>0</td>\n",
       "\t\t<td>1</td>\n",
       "\t\t<td>46</td>\n",
       "\t\t<td>0</td>\n",
       "\t\t<td>0</td>\n",
       "\t\t<td>0</td>\n",
       "\t\t<td>1</td>\n",
       "\t\t<td>2</td>\n",
       "\t\t<td>30.2</td>\n",
       "\t\t<td>8825.086</td>\n",
       "\t</tr>\n",
       "\t<tr>\n",
       "\t\t<td>13</td>\n",
       "\t\t<td>0</td>\n",
       "\t\t<td>1</td>\n",
       "\t\t<td>49</td>\n",
       "\t\t<td>0</td>\n",
       "\t\t<td>0</td>\n",
       "\t\t<td>0</td>\n",
       "\t\t<td>1</td>\n",
       "\t\t<td>5</td>\n",
       "\t\t<td>31.9</td>\n",
       "\t\t<td>11552.904</td>\n",
       "\t</tr>\n",
       "\t<tr>\n",
       "\t\t<td>11</td>\n",
       "\t\t<td>0</td>\n",
       "\t\t<td>0</td>\n",
       "\t\t<td>19</td>\n",
       "\t\t<td>0</td>\n",
       "\t\t<td>0</td>\n",
       "\t\t<td>0</td>\n",
       "\t\t<td>1</td>\n",
       "\t\t<td>0</td>\n",
       "\t\t<td>35.4</td>\n",
       "\t\t<td>1263.249</td>\n",
       "\t</tr>\n",
       "\t<tr>\n",
       "\t\t<td>89</td>\n",
       "\t\t<td>0</td>\n",
       "\t\t<td>1</td>\n",
       "\t\t<td>33</td>\n",
       "\t\t<td>0</td>\n",
       "\t\t<td>1</td>\n",
       "\t\t<td>0</td>\n",
       "\t\t<td>0</td>\n",
       "\t\t<td>0</td>\n",
       "\t\t<td>33.5</td>\n",
       "\t\t<td>37079.372</td>\n",
       "\t</tr>\n",
       "\t<tr>\n",
       "\t\t<td>68</td>\n",
       "\t\t<td>0</td>\n",
       "\t\t<td>0</td>\n",
       "\t\t<td>38</td>\n",
       "\t\t<td>1</td>\n",
       "\t\t<td>1</td>\n",
       "\t\t<td>0</td>\n",
       "\t\t<td>0</td>\n",
       "\t\t<td>3</td>\n",
       "\t\t<td>38.39</td>\n",
       "\t\t<td>41949.2441</td>\n",
       "\t</tr>\n",
       "\t<tr>\n",
       "\t\t<td>9</td>\n",
       "\t\t<td>0</td>\n",
       "\t\t<td>0</td>\n",
       "\t\t<td>34</td>\n",
       "\t\t<td>1</td>\n",
       "\t\t<td>1</td>\n",
       "\t\t<td>0</td>\n",
       "\t\t<td>0</td>\n",
       "\t\t<td>2</td>\n",
       "\t\t<td>25.3</td>\n",
       "\t\t<td>18972.495</td>\n",
       "\t</tr>\n",
       "\t<tr>\n",
       "\t\t<td>299</td>\n",
       "\t\t<td>0</td>\n",
       "\t\t<td>0</td>\n",
       "\t\t<td>47</td>\n",
       "\t\t<td>1</td>\n",
       "\t\t<td>1</td>\n",
       "\t\t<td>0</td>\n",
       "\t\t<td>0</td>\n",
       "\t\t<td>1</td>\n",
       "\t\t<td>25.41</td>\n",
       "\t\t<td>21978.6769</td>\n",
       "\t</tr>\n",
       "\t<tr>\n",
       "\t\t<td>17</td>\n",
       "\t\t<td>0</td>\n",
       "\t\t<td>1</td>\n",
       "\t\t<td>34</td>\n",
       "\t\t<td>1</td>\n",
       "\t\t<td>0</td>\n",
       "\t\t<td>0</td>\n",
       "\t\t<td>1</td>\n",
       "\t\t<td>1</td>\n",
       "\t\t<td>26.73</td>\n",
       "\t\t<td>5002.7827</td>\n",
       "\t</tr>\n",
       "\t<tr>\n",
       "\t\t<td>101</td>\n",
       "\t\t<td>1</td>\n",
       "\t\t<td>0</td>\n",
       "\t\t<td>41</td>\n",
       "\t\t<td>0</td>\n",
       "\t\t<td>0</td>\n",
       "\t\t<td>0</td>\n",
       "\t\t<td>1</td>\n",
       "\t\t<td>5</td>\n",
       "\t\t<td>29.64</td>\n",
       "\t\t<td>9222.4026</td>\n",
       "\t</tr>\n",
       "</table></html>"
      ],
      "text/plain": [
       "     region_0  sex_0  age  region_2  smoker_1  region_1  smoker_0  children    bmi     charges\n",
       "id                                                                                            \n",
       "34          0      1   57         0         0         0         1         1  20.10  12032.3260\n",
       "156         0      1   46         0         0         0         1         2  30.20   8825.0860\n",
       "13          0      1   49         0         0         0         1         5  31.90  11552.9040\n",
       "11          0      0   19         0         0         0         1         0  35.40   1263.2490\n",
       "89          0      1   33         0         1         0         0         0  33.50  37079.3720\n",
       "68          0      0   38         1         1         0         0         3  38.39  41949.2441\n",
       "9           0      0   34         1         1         0         0         2  25.30  18972.4950\n",
       "299         0      0   47         1         1         0         0         1  25.41  21978.6769\n",
       "17          0      1   34         1         0         0         1         1  26.73   5002.7827\n",
       "101         1      0   41         0         0         0         1         5  29.64   9222.4026"
      ]
     },
     "metadata": {},
     "output_type": "display_data"
    },
    {
     "name": "stdout",
     "output_type": "stream",
     "text": [
      "\n",
      "Updated dataset after performing scaling on RFE selected features :\n"
     ]
    },
    {
     "data": {
      "text/html": [
       "<style type=\"text/css\">\n",
       "\ttable {border:ridge 5px;}\n",
       "\ttable td {border:inset 1px;}\n",
       "\ttable tr#HeaderRow {background-color:grey; color:white;}</style>\n",
       "<html><table>\n",
       "\t<tr id=\"HeaderRow\">\n",
       "\t\t<th>id</th>\n",
       "\t\t<th>r_sex_0</th>\n",
       "\t\t<th>r_region_0</th>\n",
       "\t\t<th>r_region_1</th>\n",
       "\t\t<th>r_smoker_0</th>\n",
       "\t\t<th>charges</th>\n",
       "\t\t<th>r_smoker_1</th>\n",
       "\t\t<th>r_region_2</th>\n",
       "\t\t<th>r_age</th>\n",
       "\t\t<th>r_children</th>\n",
       "\t\t<th>r_bmi</th>\n",
       "\t</tr>\n",
       "\t<tr>\n",
       "\t\t<td>183</td>\n",
       "\t\t<td>0</td>\n",
       "\t\t<td>0</td>\n",
       "\t\t<td>0</td>\n",
       "\t\t<td>1</td>\n",
       "\t\t<td>6356.2707</td>\n",
       "\t\t<td>0</td>\n",
       "\t\t<td>1</td>\n",
       "\t\t<td>-0.03543357117891051</td>\n",
       "\t\t<td>0.8040553804371038</td>\n",
       "\t\t<td>2.60949459430226</td>\n",
       "\t</tr>\n",
       "\t<tr>\n",
       "\t\t<td>61</td>\n",
       "\t\t<td>1</td>\n",
       "\t\t<td>1</td>\n",
       "\t\t<td>0</td>\n",
       "\t\t<td>1</td>\n",
       "\t\t<td>10370.9125</td>\n",
       "\t\t<td>0</td>\n",
       "\t\t<td>0</td>\n",
       "\t\t<td>0.6808488820081348</td>\n",
       "\t\t<td>0.8040553804371038</td>\n",
       "\t\t<td>0.5071250208871415</td>\n",
       "\t</tr>\n",
       "\t<tr>\n",
       "\t\t<td>141</td>\n",
       "\t\t<td>0</td>\n",
       "\t\t<td>0</td>\n",
       "\t\t<td>0</td>\n",
       "\t\t<td>1</td>\n",
       "\t\t<td>9048.0273</td>\n",
       "\t\t<td>0</td>\n",
       "\t\t<td>1</td>\n",
       "\t\t<td>0.7524771273268392</td>\n",
       "\t\t<td>-0.045115326832505916</td>\n",
       "\t\t<td>1.1551454313936635</td>\n",
       "\t</tr>\n",
       "\t<tr>\n",
       "\t\t<td>80</td>\n",
       "\t\t<td>1</td>\n",
       "\t\t<td>0</td>\n",
       "\t\t<td>1</td>\n",
       "\t\t<td>1</td>\n",
       "\t\t<td>2257.4752</td>\n",
       "\t\t<td>0</td>\n",
       "\t\t<td>0</td>\n",
       "\t\t<td>-1.3963702322342966</td>\n",
       "\t\t<td>-0.8942860341021156</td>\n",
       "\t\t<td>-0.25310295063326066</td>\n",
       "\t</tr>\n",
       "\t<tr>\n",
       "\t\t<td>326</td>\n",
       "\t\t<td>0</td>\n",
       "\t\t<td>1</td>\n",
       "\t\t<td>0</td>\n",
       "\t\t<td>0</td>\n",
       "\t\t<td>39556.4945</td>\n",
       "\t\t<td>1</td>\n",
       "\t\t<td>0</td>\n",
       "\t\t<td>0.3227076554146121</td>\n",
       "\t\t<td>-0.045115326832505916</td>\n",
       "\t\t<td>0.16006442519304512</td>\n",
       "\t</tr>\n",
       "\t<tr>\n",
       "\t\t<td>99</td>\n",
       "\t\t<td>0</td>\n",
       "\t\t<td>0</td>\n",
       "\t\t<td>0</td>\n",
       "\t\t<td>0</td>\n",
       "\t\t<td>32548.3405</td>\n",
       "\t\t<td>1</td>\n",
       "\t\t<td>1</td>\n",
       "\t\t<td>-1.467998477553001</td>\n",
       "\t\t<td>-0.8942860341021156</td>\n",
       "\t\t<td>-0.031297306768612546</td>\n",
       "\t</tr>\n",
       "\t<tr>\n",
       "\t\t<td>162</td>\n",
       "\t\t<td>1</td>\n",
       "\t\t<td>0</td>\n",
       "\t\t<td>0</td>\n",
       "\t\t<td>0</td>\n",
       "\t\t<td>40419.0191</td>\n",
       "\t\t<td>1</td>\n",
       "\t\t<td>1</td>\n",
       "\t\t<td>-0.17869006181631955</td>\n",
       "\t\t<td>-0.8942860341021156</td>\n",
       "\t\t<td>1.3847795097476525</td>\n",
       "\t</tr>\n",
       "\t<tr>\n",
       "\t\t<td>223</td>\n",
       "\t\t<td>1</td>\n",
       "\t\t<td>1</td>\n",
       "\t\t<td>0</td>\n",
       "\t\t<td>1</td>\n",
       "\t\t<td>2899.4893</td>\n",
       "\t\t<td>0</td>\n",
       "\t\t<td>0</td>\n",
       "\t\t<td>-1.181485496278183</td>\n",
       "\t\t<td>-0.8942860341021156</td>\n",
       "\t\t<td>0.7715521414159778</td>\n",
       "\t</tr>\n",
       "\t<tr>\n",
       "\t\t<td>122</td>\n",
       "\t\t<td>0</td>\n",
       "\t\t<td>0</td>\n",
       "\t\t<td>0</td>\n",
       "\t\t<td>1</td>\n",
       "\t\t<td>12979.358</td>\n",
       "\t\t<td>0</td>\n",
       "\t\t<td>0</td>\n",
       "\t\t<td>1.6120160711512936</td>\n",
       "\t\t<td>-0.8942860341021156</td>\n",
       "\t\t<td>1.2125539509821606</td>\n",
       "\t</tr>\n",
       "\t<tr>\n",
       "\t\t<td>387</td>\n",
       "\t\t<td>1</td>\n",
       "\t\t<td>0</td>\n",
       "\t\t<td>1</td>\n",
       "\t\t<td>1</td>\n",
       "\t\t<td>3579.8287</td>\n",
       "\t\t<td>0</td>\n",
       "\t\t<td>0</td>\n",
       "\t\t<td>-1.3247419869155919</td>\n",
       "\t\t<td>0.8040553804371038</td>\n",
       "\t\t<td>0.5567051059862989</td>\n",
       "\t</tr>\n",
       "</table></html>"
      ],
      "text/plain": [
       "    id  r_sex_0  r_region_0  r_region_1  r_smoker_0     charges  r_smoker_1  r_region_2     r_age  r_children     r_bmi\n",
       "0  183        0           0           0           1   6356.2707           0           1 -0.035434    0.804055  2.609495\n",
       "1   61        1           1           0           1  10370.9125           0           0  0.680849    0.804055  0.507125\n",
       "2  141        0           0           0           1   9048.0273           0           1  0.752477   -0.045115  1.155145\n",
       "3   80        1           0           1           1   2257.4752           0           0 -1.396370   -0.894286 -0.253103\n",
       "4  326        0           1           0           0  39556.4945           1           0  0.322708   -0.045115  0.160064\n",
       "5   99        0           0           0           0  32548.3405           1           1 -1.467998   -0.894286 -0.031297\n",
       "6  162        1           0           0           0  40419.0191           1           1 -0.178690   -0.894286  1.384780\n",
       "7  223        1           1           0           1   2899.4893           0           0 -1.181485   -0.894286  0.771552\n",
       "8  122        0           0           0           1  12979.3580           0           0  1.612016   -0.894286  1.212554\n",
       "9  387        1           0           1           1   3579.8287           0           0 -1.324742    0.804055  0.556705"
      ]
     },
     "metadata": {},
     "output_type": "display_data"
    },
    {
     "name": "stdout",
     "output_type": "stream",
     "text": [
      "\n",
      "Updated dataset after performing scaling for PCA feature selection :\n"
     ]
    },
    {
     "data": {
      "text/html": [
       "<style type=\"text/css\">\n",
       "\ttable {border:ridge 5px;}\n",
       "\ttable td {border:inset 1px;}\n",
       "\ttable tr#HeaderRow {background-color:grey; color:white;}</style>\n",
       "<html><table>\n",
       "\t<tr id=\"HeaderRow\">\n",
       "\t\t<th>id</th>\n",
       "\t\t<th>smoker_0</th>\n",
       "\t\t<th>region_0</th>\n",
       "\t\t<th>sex_0</th>\n",
       "\t\t<th>region_3</th>\n",
       "\t\t<th>region_2</th>\n",
       "\t\t<th>smoker_1</th>\n",
       "\t\t<th>region_1</th>\n",
       "\t\t<th>sex_1</th>\n",
       "\t\t<th>charges</th>\n",
       "\t\t<th>age</th>\n",
       "\t\t<th>bmi</th>\n",
       "\t\t<th>children</th>\n",
       "\t</tr>\n",
       "\t<tr>\n",
       "\t\t<td>326</td>\n",
       "\t\t<td>0</td>\n",
       "\t\t<td>1</td>\n",
       "\t\t<td>0</td>\n",
       "\t\t<td>0</td>\n",
       "\t\t<td>0</td>\n",
       "\t\t<td>1</td>\n",
       "\t\t<td>0</td>\n",
       "\t\t<td>1</td>\n",
       "\t\t<td>39556.4945</td>\n",
       "\t\t<td>0.32270765541461177</td>\n",
       "\t\t<td>0.1600644251930439</td>\n",
       "\t\t<td>-0.045115326832506054</td>\n",
       "\t</tr>\n",
       "\t<tr>\n",
       "\t\t<td>162</td>\n",
       "\t\t<td>0</td>\n",
       "\t\t<td>0</td>\n",
       "\t\t<td>1</td>\n",
       "\t\t<td>0</td>\n",
       "\t\t<td>1</td>\n",
       "\t\t<td>1</td>\n",
       "\t\t<td>0</td>\n",
       "\t\t<td>0</td>\n",
       "\t\t<td>40419.0191</td>\n",
       "\t\t<td>-0.17869006181631936</td>\n",
       "\t\t<td>1.3847795097476512</td>\n",
       "\t\t<td>-0.8942860341021183</td>\n",
       "\t</tr>\n",
       "\t<tr>\n",
       "\t\t<td>223</td>\n",
       "\t\t<td>1</td>\n",
       "\t\t<td>1</td>\n",
       "\t\t<td>1</td>\n",
       "\t\t<td>0</td>\n",
       "\t\t<td>0</td>\n",
       "\t\t<td>0</td>\n",
       "\t\t<td>0</td>\n",
       "\t\t<td>0</td>\n",
       "\t\t<td>2899.4893</td>\n",
       "\t\t<td>-1.1814854962781816</td>\n",
       "\t\t<td>0.7715521414159766</td>\n",
       "\t\t<td>-0.8942860341021183</td>\n",
       "\t</tr>\n",
       "\t<tr>\n",
       "\t\t<td>101</td>\n",
       "\t\t<td>1</td>\n",
       "\t\t<td>1</td>\n",
       "\t\t<td>0</td>\n",
       "\t\t<td>0</td>\n",
       "\t\t<td>0</td>\n",
       "\t\t<td>0</td>\n",
       "\t\t<td>0</td>\n",
       "\t\t<td>1</td>\n",
       "\t\t<td>9222.4026</td>\n",
       "\t\t<td>0.10782291945849842</td>\n",
       "\t\t<td>-0.13741608540189643</td>\n",
       "\t\t<td>3.351567502245943</td>\n",
       "\t</tr>\n",
       "\t<tr>\n",
       "\t\t<td>122</td>\n",
       "\t\t<td>1</td>\n",
       "\t\t<td>0</td>\n",
       "\t\t<td>0</td>\n",
       "\t\t<td>1</td>\n",
       "\t\t<td>0</td>\n",
       "\t\t<td>0</td>\n",
       "\t\t<td>0</td>\n",
       "\t\t<td>1</td>\n",
       "\t\t<td>12979.358</td>\n",
       "\t\t<td>1.6120160711512916</td>\n",
       "\t\t<td>1.2125539509821592</td>\n",
       "\t\t<td>-0.8942860341021183</td>\n",
       "\t</tr>\n",
       "\t<tr>\n",
       "\t\t<td>387</td>\n",
       "\t\t<td>1</td>\n",
       "\t\t<td>0</td>\n",
       "\t\t<td>1</td>\n",
       "\t\t<td>0</td>\n",
       "\t\t<td>0</td>\n",
       "\t\t<td>0</td>\n",
       "\t\t<td>1</td>\n",
       "\t\t<td>0</td>\n",
       "\t\t<td>3579.8287</td>\n",
       "\t\t<td>-1.3247419869155905</td>\n",
       "\t\t<td>0.5567051059862976</td>\n",
       "\t\t<td>0.8040553804371061</td>\n",
       "\t</tr>\n",
       "\t<tr>\n",
       "\t\t<td>80</td>\n",
       "\t\t<td>1</td>\n",
       "\t\t<td>0</td>\n",
       "\t\t<td>1</td>\n",
       "\t\t<td>0</td>\n",
       "\t\t<td>0</td>\n",
       "\t\t<td>0</td>\n",
       "\t\t<td>1</td>\n",
       "\t\t<td>0</td>\n",
       "\t\t<td>2257.4752</td>\n",
       "\t\t<td>-1.3963702322342948</td>\n",
       "\t\t<td>-0.25310295063326194</td>\n",
       "\t\t<td>-0.8942860341021183</td>\n",
       "\t</tr>\n",
       "\t<tr>\n",
       "\t\t<td>242</td>\n",
       "\t\t<td>1</td>\n",
       "\t\t<td>0</td>\n",
       "\t\t<td>1</td>\n",
       "\t\t<td>0</td>\n",
       "\t\t<td>1</td>\n",
       "\t\t<td>0</td>\n",
       "\t\t<td>0</td>\n",
       "\t\t<td>0</td>\n",
       "\t\t<td>5846.9176</td>\n",
       "\t\t<td>-0.3219465524537282</td>\n",
       "\t\t<td>2.2459073035751103</td>\n",
       "\t\t<td>0.8040553804371061</td>\n",
       "\t</tr>\n",
       "\t<tr>\n",
       "\t\t<td>40</td>\n",
       "\t\t<td>1</td>\n",
       "\t\t<td>0</td>\n",
       "\t\t<td>1</td>\n",
       "\t\t<td>0</td>\n",
       "\t\t<td>1</td>\n",
       "\t\t<td>0</td>\n",
       "\t\t<td>0</td>\n",
       "\t\t<td>0</td>\n",
       "\t\t<td>3392.3652</td>\n",
       "\t\t<td>-0.9666007603220682</td>\n",
       "\t\t<td>-0.1652505191417739</td>\n",
       "\t\t<td>-0.045115326832506054</td>\n",
       "\t</tr>\n",
       "\t<tr>\n",
       "\t\t<td>120</td>\n",
       "\t\t<td>1</td>\n",
       "\t\t<td>0</td>\n",
       "\t\t<td>0</td>\n",
       "\t\t<td>0</td>\n",
       "\t\t<td>1</td>\n",
       "\t\t<td>0</td>\n",
       "\t\t<td>0</td>\n",
       "\t\t<td>1</td>\n",
       "\t\t<td>27724.2887</td>\n",
       "\t\t<td>-1.3963702322342948</td>\n",
       "\t\t<td>0.8489666602550108</td>\n",
       "\t\t<td>-0.045115326832506054</td>\n",
       "\t</tr>\n",
       "</table></html>"
      ],
      "text/plain": [
       "    id  smoker_0  region_0  sex_0  region_3  region_2  smoker_1  region_1  sex_1     charges       age       bmi  children\n",
       "0  326         0         1      0         0         0         1         0      1  39556.4945  0.322708  0.160064 -0.045115\n",
       "1  162         0         0      1         0         1         1         0      0  40419.0191 -0.178690  1.384780 -0.894286\n",
       "2  223         1         1      1         0         0         0         0      0   2899.4893 -1.181485  0.771552 -0.894286\n",
       "3  101         1         1      0         0         0         0         0      1   9222.4026  0.107823 -0.137416  3.351568\n",
       "4  122         1         0      0         1         0         0         0      1  12979.3580  1.612016  1.212554 -0.894286\n",
       "5  387         1         0      1         0         0         0         1      0   3579.8287 -1.324742  0.556705  0.804055\n",
       "6   80         1         0      1         0         0         0         1      0   2257.4752 -1.396370 -0.253103 -0.894286\n",
       "7  242         1         0      1         0         1         0         0      0   5846.9176 -0.321947  2.245907  0.804055\n",
       "8   40         1         0      1         0         1         0         0      0   3392.3652 -0.966601 -0.165251 -0.045115\n",
       "9  120         1         0      0         0         1         0         0      1  27724.2887 -1.396370  0.848967 -0.045115"
      ]
     },
     "metadata": {},
     "output_type": "display_data"
    },
    {
     "name": "stdout",
     "output_type": "stream",
     "text": [
      "\n",
      "Updated dataset after performing PCA feature selection :\n"
     ]
    },
    {
     "data": {
      "text/html": [
       "<div>\n",
       "<style scoped>\n",
       "    .dataframe tbody tr th:only-of-type {\n",
       "        vertical-align: middle;\n",
       "    }\n",
       "\n",
       "    .dataframe tbody tr th {\n",
       "        vertical-align: top;\n",
       "    }\n",
       "\n",
       "    .dataframe thead th {\n",
       "        text-align: right;\n",
       "    }\n",
       "</style>\n",
       "<table border=\"1\" class=\"dataframe\">\n",
       "  <thead>\n",
       "    <tr style=\"text-align: right;\">\n",
       "      <th></th>\n",
       "      <th>id</th>\n",
       "      <th>col_0</th>\n",
       "      <th>col_1</th>\n",
       "      <th>col_2</th>\n",
       "      <th>col_3</th>\n",
       "      <th>col_4</th>\n",
       "      <th>col_5</th>\n",
       "      <th>col_6</th>\n",
       "      <th>charges</th>\n",
       "    </tr>\n",
       "  </thead>\n",
       "  <tbody>\n",
       "    <tr>\n",
       "      <th>0</th>\n",
       "      <td>183</td>\n",
       "      <td>-2.059725</td>\n",
       "      <td>-0.206371</td>\n",
       "      <td>-1.946589</td>\n",
       "      <td>-0.422423</td>\n",
       "      <td>-0.435724</td>\n",
       "      <td>-0.365150</td>\n",
       "      <td>-0.240475</td>\n",
       "      <td>6356.2707</td>\n",
       "    </tr>\n",
       "    <tr>\n",
       "      <th>1</th>\n",
       "      <td>101</td>\n",
       "      <td>-0.830262</td>\n",
       "      <td>3.198268</td>\n",
       "      <td>-0.577288</td>\n",
       "      <td>-0.498686</td>\n",
       "      <td>-0.495618</td>\n",
       "      <td>-0.119657</td>\n",
       "      <td>-0.755162</td>\n",
       "      <td>9222.4026</td>\n",
       "    </tr>\n",
       "    <tr>\n",
       "      <th>2</th>\n",
       "      <td>40</td>\n",
       "      <td>0.727740</td>\n",
       "      <td>-0.071606</td>\n",
       "      <td>-0.631272</td>\n",
       "      <td>0.803901</td>\n",
       "      <td>-0.064945</td>\n",
       "      <td>-0.392271</td>\n",
       "      <td>-0.345985</td>\n",
       "      <td>3392.3652</td>\n",
       "    </tr>\n",
       "    <tr>\n",
       "      <th>3</th>\n",
       "      <td>122</td>\n",
       "      <td>-1.701081</td>\n",
       "      <td>-1.223471</td>\n",
       "      <td>0.591536</td>\n",
       "      <td>-0.605649</td>\n",
       "      <td>-0.442814</td>\n",
       "      <td>0.874842</td>\n",
       "      <td>0.296882</td>\n",
       "      <td>12979.3580</td>\n",
       "    </tr>\n",
       "    <tr>\n",
       "      <th>4</th>\n",
       "      <td>80</td>\n",
       "      <td>1.416461</td>\n",
       "      <td>-0.726977</td>\n",
       "      <td>-0.549780</td>\n",
       "      <td>0.732916</td>\n",
       "      <td>-0.212791</td>\n",
       "      <td>-0.479049</td>\n",
       "      <td>0.680350</td>\n",
       "      <td>2257.4752</td>\n",
       "    </tr>\n",
       "    <tr>\n",
       "      <th>...</th>\n",
       "      <td>...</td>\n",
       "      <td>...</td>\n",
       "      <td>...</td>\n",
       "      <td>...</td>\n",
       "      <td>...</td>\n",
       "      <td>...</td>\n",
       "      <td>...</td>\n",
       "      <td>...</td>\n",
       "      <td>...</td>\n",
       "    </tr>\n",
       "    <tr>\n",
       "      <th>263</th>\n",
       "      <td>166</td>\n",
       "      <td>0.394547</td>\n",
       "      <td>3.535804</td>\n",
       "      <td>-0.784426</td>\n",
       "      <td>-0.457643</td>\n",
       "      <td>-0.459069</td>\n",
       "      <td>0.718935</td>\n",
       "      <td>0.019529</td>\n",
       "      <td>5615.3690</td>\n",
       "    </tr>\n",
       "    <tr>\n",
       "      <th>264</th>\n",
       "      <td>23</td>\n",
       "      <td>0.802336</td>\n",
       "      <td>-0.689871</td>\n",
       "      <td>0.006226</td>\n",
       "      <td>-0.675013</td>\n",
       "      <td>-0.448401</td>\n",
       "      <td>-0.435199</td>\n",
       "      <td>0.686592</td>\n",
       "      <td>3866.8552</td>\n",
       "    </tr>\n",
       "    <tr>\n",
       "      <th>265</th>\n",
       "      <td>267</td>\n",
       "      <td>-0.510644</td>\n",
       "      <td>-0.136213</td>\n",
       "      <td>0.269563</td>\n",
       "      <td>0.799032</td>\n",
       "      <td>-0.181571</td>\n",
       "      <td>0.804056</td>\n",
       "      <td>0.214348</td>\n",
       "      <td>8551.3470</td>\n",
       "    </tr>\n",
       "    <tr>\n",
       "      <th>266</th>\n",
       "      <td>164</td>\n",
       "      <td>-2.551904</td>\n",
       "      <td>-0.324152</td>\n",
       "      <td>-1.613037</td>\n",
       "      <td>0.920419</td>\n",
       "      <td>-0.337606</td>\n",
       "      <td>-0.071913</td>\n",
       "      <td>-0.512837</td>\n",
       "      <td>9432.9253</td>\n",
       "    </tr>\n",
       "    <tr>\n",
       "      <th>267</th>\n",
       "      <td>286</td>\n",
       "      <td>0.979232</td>\n",
       "      <td>0.280864</td>\n",
       "      <td>0.071401</td>\n",
       "      <td>-0.659257</td>\n",
       "      <td>-0.439191</td>\n",
       "      <td>-0.458952</td>\n",
       "      <td>0.632004</td>\n",
       "      <td>4239.8926</td>\n",
       "    </tr>\n",
       "  </tbody>\n",
       "</table>\n",
       "<p>268 rows × 9 columns</p>\n",
       "</div>"
      ],
      "text/plain": [
       "      id     col_0     col_1     col_2     col_3     col_4     col_5  \\\n",
       "0    183 -2.059725 -0.206371 -1.946589 -0.422423 -0.435724 -0.365150   \n",
       "1    101 -0.830262  3.198268 -0.577288 -0.498686 -0.495618 -0.119657   \n",
       "2     40  0.727740 -0.071606 -0.631272  0.803901 -0.064945 -0.392271   \n",
       "3    122 -1.701081 -1.223471  0.591536 -0.605649 -0.442814  0.874842   \n",
       "4     80  1.416461 -0.726977 -0.549780  0.732916 -0.212791 -0.479049   \n",
       "..   ...       ...       ...       ...       ...       ...       ...   \n",
       "263  166  0.394547  3.535804 -0.784426 -0.457643 -0.459069  0.718935   \n",
       "264   23  0.802336 -0.689871  0.006226 -0.675013 -0.448401 -0.435199   \n",
       "265  267 -0.510644 -0.136213  0.269563  0.799032 -0.181571  0.804056   \n",
       "266  164 -2.551904 -0.324152 -1.613037  0.920419 -0.337606 -0.071913   \n",
       "267  286  0.979232  0.280864  0.071401 -0.659257 -0.439191 -0.458952   \n",
       "\n",
       "        col_6     charges  \n",
       "0   -0.240475   6356.2707  \n",
       "1   -0.755162   9222.4026  \n",
       "2   -0.345985   3392.3652  \n",
       "3    0.296882  12979.3580  \n",
       "4    0.680350   2257.4752  \n",
       "..        ...         ...  \n",
       "263  0.019529   5615.3690  \n",
       "264  0.686592   3866.8552  \n",
       "265  0.214348   8551.3470  \n",
       "266 -0.512837   9432.9253  \n",
       "267  0.632004   4239.8926  \n",
       "\n",
       "[268 rows x 9 columns]"
      ]
     },
     "metadata": {},
     "output_type": "display_data"
    },
    {
     "name": "stdout",
     "output_type": "stream",
     "text": [
      "Data Transformation completed.\n",
      "decision_forest lasso\n",
      "\n",
      " Prediction : \n",
      "      charges   id    prediction  confidence_lower  confidence_upper\n",
      "0   9222.4026  101  10372.132918       7945.117397      12799.148440\n",
      "1   2257.4752   80   3029.219010       1307.839928       4750.598092\n",
      "2   5846.9176  242   9763.995656       6574.017704      12953.973607\n",
      "3  10370.9125   61  11713.119519       9755.200778      13671.038261\n",
      "4  40419.0191  162  42211.251518      38216.949574      46205.553463\n",
      "5   2899.4893  223   4427.815734       2408.710777       6446.920692\n",
      "6  39556.4945  326  38026.365152      34053.265912      41999.464393\n",
      "7  32548.3405   99  31973.105703      27907.460218      36038.751189\n",
      "8  12979.3580  122  13895.152629      11916.549437      15873.755822\n",
      "9   3579.8287  387   4193.138098       2660.798145       5725.478051\n",
      "\n",
      " Performance Metrics : \n",
      "           MAE           MSE      MSLE       MAPE        MPE         RMSE     RMSLE            ME        R2        EV          MPD       MGD\n",
      "0  2952.406846  2.393118e+07  0.265574  42.765295 -32.303594  4891.950086  0.515339  23546.218343  0.815382  0.816483  2256.780648  0.312298\n"
     ]
    }
   ],
   "source": [
    "# Generating prediction and metrics on test data\n",
    "prediction = aml.predict(insurance_df_test)"
   ]
  },
  {
   "cell_type": "code",
   "execution_count": 22,
   "id": "cc4f6a78-1cdf-4938-a9f1-22035d8404ca",
   "metadata": {},
   "outputs": [
    {
     "data": {
      "text/html": [
       "<style type=\"text/css\">\n",
       "\ttable {border:ridge 5px;}\n",
       "\ttable td {border:inset 1px;}\n",
       "\ttable tr#HeaderRow {background-color:grey; color:white;}</style>\n",
       "<html><table>\n",
       "\t<tr id=\"HeaderRow\">\n",
       "\t\t<th>charges</th>\n",
       "\t\t<th>id</th>\n",
       "\t\t<th>prediction</th>\n",
       "\t\t<th>confidence_lower</th>\n",
       "\t\t<th>confidence_upper</th>\n",
       "\t</tr>\n",
       "\t<tr>\n",
       "\t\t<td>1149.3959</td>\n",
       "\t\t<td>296</td>\n",
       "\t\t<td>4964.9651777408</td>\n",
       "\t\t<td>2479.980327628491</td>\n",
       "\t\t<td>7449.950027853109</td>\n",
       "\t</tr>\n",
       "\t<tr>\n",
       "\t\t<td>1242.816</td>\n",
       "\t\t<td>107</td>\n",
       "\t\t<td>2942.2776595806117</td>\n",
       "\t\t<td>1307.1518396427193</td>\n",
       "\t\t<td>4577.403479518504</td>\n",
       "\t</tr>\n",
       "\t<tr>\n",
       "\t\t<td>1256.299</td>\n",
       "\t\t<td>59</td>\n",
       "\t\t<td>2952.086843157</td>\n",
       "\t\t<td>1227.1814352989177</td>\n",
       "\t\t<td>4676.992251015083</td>\n",
       "\t</tr>\n",
       "\t<tr>\n",
       "\t\t<td>1263.249</td>\n",
       "\t\t<td>11</td>\n",
       "\t\t<td>3706.5876604383634</td>\n",
       "\t\t<td>1496.8555566620016</td>\n",
       "\t\t<td>5916.319764214725</td>\n",
       "\t</tr>\n",
       "\t<tr>\n",
       "\t\t<td>1625.4337</td>\n",
       "\t\t<td>91</td>\n",
       "\t\t<td>2942.2776595806117</td>\n",
       "\t\t<td>1307.1518396427193</td>\n",
       "\t\t<td>4577.403479518504</td>\n",
       "\t</tr>\n",
       "\t<tr>\n",
       "\t\t<td>1629.8335</td>\n",
       "\t\t<td>200</td>\n",
       "\t\t<td>4947.5479582161415</td>\n",
       "\t\t<td>2352.9938186298214</td>\n",
       "\t\t<td>7542.102097802462</td>\n",
       "\t</tr>\n",
       "\t<tr>\n",
       "\t\t<td>1534.3045</td>\n",
       "\t\t<td>363</td>\n",
       "\t\t<td>3891.085033248821</td>\n",
       "\t\t<td>2156.5478624968787</td>\n",
       "\t\t<td>5625.622204000763</td>\n",
       "\t</tr>\n",
       "\t<tr>\n",
       "\t\t<td>1163.4627</td>\n",
       "\t\t<td>208</td>\n",
       "\t\t<td>4964.9651777408</td>\n",
       "\t\t<td>2479.980327628491</td>\n",
       "\t\t<td>7449.950027853109</td>\n",
       "\t</tr>\n",
       "\t<tr>\n",
       "\t\t<td>1136.3994</td>\n",
       "\t\t<td>264</td>\n",
       "\t\t<td>4389.787809882808</td>\n",
       "\t\t<td>1898.8960673595925</td>\n",
       "\t\t<td>6880.6795524060235</td>\n",
       "\t</tr>\n",
       "\t<tr>\n",
       "\t\t<td>1135.9407</td>\n",
       "\t\t<td>232</td>\n",
       "\t\t<td>4389.787809882808</td>\n",
       "\t\t<td>1898.8960673595925</td>\n",
       "\t\t<td>6880.6795524060235</td>\n",
       "\t</tr>\n",
       "</table></html>"
      ],
      "text/plain": [
       "     charges   id   prediction  confidence_lower  confidence_upper\n",
       "0  1149.3959  296  4964.965178       2479.980328       7449.950028\n",
       "1  1242.8160  107  2942.277660       1307.151840       4577.403480\n",
       "2  1256.2990   59  2952.086843       1227.181435       4676.992251\n",
       "3  1263.2490   11  3706.587660       1496.855557       5916.319764\n",
       "4  1625.4337   91  2942.277660       1307.151840       4577.403480\n",
       "5  1629.8335  200  4947.547958       2352.993819       7542.102098\n",
       "6  1534.3045  363  3891.085033       2156.547862       5625.622204\n",
       "7  1163.4627  208  4964.965178       2479.980328       7449.950028\n",
       "8  1136.3994  264  4389.787810       1898.896067       6880.679552\n",
       "9  1135.9407  232  4389.787810       1898.896067       6880.679552"
      ]
     },
     "execution_count": 22,
     "metadata": {},
     "output_type": "execute_result"
    }
   ],
   "source": [
    "# Printing prediction\n",
    "prediction.head()"
   ]
  },
  {
   "cell_type": "code",
   "execution_count": 23,
   "id": "b2cba357-75ac-4089-a234-64a57067b117",
   "metadata": {},
   "outputs": [
    {
     "data": {
      "text/plain": [
       "True"
      ]
     },
     "execution_count": 23,
     "metadata": {},
     "output_type": "execute_result"
    }
   ],
   "source": [
    "remove_context()"
   ]
  },
  {
   "cell_type": "code",
   "execution_count": null,
   "id": "b672112c-d042-4842-846b-163f495d7664",
   "metadata": {},
   "outputs": [],
   "source": []
  }
 ],
 "metadata": {
  "kernelspec": {
   "display_name": "Python 3 (ipykernel)",
   "language": "python",
   "name": "python3"
  },
  "language_info": {
   "codemirror_mode": {
    "name": "ipython",
    "version": 3
   },
   "file_extension": ".py",
   "mimetype": "text/x-python",
   "name": "python",
   "nbconvert_exporter": "python",
   "pygments_lexer": "ipython3",
   "version": "3.10.9"
  }
 },
 "nbformat": 4,
 "nbformat_minor": 5
}
