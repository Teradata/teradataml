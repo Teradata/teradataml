{
 "cells": [
  {
   "cell_type": "markdown",
   "id": "2762f1d8-5a66-411f-a625-34cf16ac6dd3",
   "metadata": {},
   "source": [
    "# <b><span style='color:#F1A424'>AutoML - Multiclass Classification - BMI Value Prediction </span> </b>"
   ]
  },
  {
   "cell_type": "markdown",
   "id": "32650b88-cafe-4304-bcc7-84859c682b08",
   "metadata": {},
   "source": [
    "### Disclaimer\n",
    "Please note, the Vantage Functions via SQLAlchemy feature is a preview/beta code release with limited functionality (the “Code”). As such, you acknowledge that the Code is experimental in nature and that the Code is provided “AS IS” and may not be functional on any machine or in any environment. TERADATA DISCLAIMS ALL WARRANTIES RELATING TO THE CODE, EXPRESS OR IMPLIED, INCLUDING, BUT NOT LIMITED TO, ANY WARRANTIES AGAINST INFRINGEMENT OF THIRD-PARTY RIGHTS, MERCHANTABILITY AND FITNESS FOR A PARTICULAR PURPOSE.\n",
    "\n",
    "TERADATA SHALL NOT BE RESPONSIBLE OR LIABLE WITH RESPECT TO ANY SUBJECT MATTER OF THE CODE UNDER ANY CONTRACT, NEGLIGENCE, STRICT LIABILITY OR OTHER THEORY \n",
    "    (A) FOR LOSS OR INACCURACY OF DATA OR COST OF PROCUREMENT OF SUBSTITUTE GOODS, SERVICES OR TECHNOLOGY, OR \n",
    "    (B) FOR ANY INDIRECT, INCIDENTAL OR CONSEQUENTIAL DAMAGES INCLUDING, BUT NOT LIMITED TO LOSS OF REVENUES AND LOSS OF PROFITS. TERADATA SHALL NOT BE RESPONSIBLE FOR ANY MATTER BEYOND ITS REASONABLE CONTROL.\n",
    "\n",
    "Notwithstanding anything to the contrary: \n",
    "    (a) Teradata will have no obligation of any kind with respect to any Code-related comments, suggestions, design changes or improvements that you elect to provide to Teradata in either verbal or written form (collectively, “Feedback”), and \n",
    "    (b) Teradata and its affiliates are hereby free to use any ideas, concepts, know-how or techniques, in whole or in part, contained in Feedback: \n",
    "        (i) for any purpose whatsoever, including developing, manufacturing, and/or marketing products and/or services incorporating Feedback in whole or in part, and \n",
    "        (ii) without any restrictions or limitations, including requiring the payment of any license fees, royalties, or other consideration. "
   ]
  },
  {
   "cell_type": "markdown",
   "id": "f225fb94-b2c8-4c92-af38-733d08e0e2a1",
   "metadata": {},
   "source": [
    "## <b> Problem overview:</b>\n",
    "    "
   ]
  },
  {
   "cell_type": "markdown",
   "id": "af9813eb-9c44-4968-a5fe-d1c74415c894",
   "metadata": {},
   "source": [
    "**Dataset used: BMI Dataset**\n",
    "\n",
    "**Features**:\n",
    "\n",
    "- `gender`: Gender of person.\n",
    "- `height`: Height of person.\n",
    "- `weight`: Weight of person.\n",
    "\n",
    "**Target Variable**:\n",
    "\n",
    "- `bmi`: BMI value of person.\n",
    "\n",
    "        \n",
    "**Objective**:\n",
    "\n",
    "The primary objective is typically to build a model that can accurately predict BMI of person.\n",
    "\n",
    "**Usecase**:\n",
    "\n",
    "Here, we will use AutoML(Automated Machine Learning) functionality to automate the entire process of developing a predictive model. It will perform feature exploration, feature engineering, data preparation, model training and evaluation on dataset in auto run and at end we will get leaderboard containined different models along with their performance. Model will also have rank associated with them which indicates which is best performing model for given data followed by other models."
   ]
  },
  {
   "cell_type": "code",
   "execution_count": 1,
   "id": "66568348-4d00-477c-a071-17995f797c95",
   "metadata": {},
   "outputs": [],
   "source": [
    "# Importing AutoML from teradataml\n",
    "from teradataml import AutoML, AutoClassifier"
   ]
  },
  {
   "cell_type": "code",
   "execution_count": 2,
   "id": "17dfae70-0401-4cc4-ba1c-400a5cf62451",
   "metadata": {},
   "outputs": [],
   "source": [
    "# Importing other important libraries\n",
    "import getpass\n",
    "from teradataml import create_context, remove_context\n",
    "from teradataml import DataFrame\n",
    "from teradataml import load_example_data\n",
    "from teradataml import TrainTestSplit"
   ]
  },
  {
   "cell_type": "code",
   "execution_count": 3,
   "id": "cadd9ed2-42d6-4899-b23e-4e2cf601162f",
   "metadata": {},
   "outputs": [
    {
     "name": "stdin",
     "output_type": "stream",
     "text": [
      "Host:  ········\n",
      "Username:  ········\n",
      "Password:  ········\n"
     ]
    }
   ],
   "source": [
    "# Create the connection.\n",
    "host = getpass.getpass(\"Host: \")\n",
    "username = getpass.getpass(\"Username: \")\n",
    "password = getpass.getpass(\"Password: \")\n",
    "\n",
    "con = create_context(host=host, username=username, password=password)"
   ]
  },
  {
   "cell_type": "markdown",
   "id": "be767a89-d5b8-4876-91cb-36980754586e",
   "metadata": {},
   "source": [
    "## <b><span style='color:#F1A424'>| 1.</span> Loading Dataset </b>"
   ]
  },
  {
   "cell_type": "code",
   "execution_count": 4,
   "id": "f1592c52-b247-4792-be2a-30b49bbeb9b6",
   "metadata": {},
   "outputs": [
    {
     "name": "stdout",
     "output_type": "stream",
     "text": [
      "WARNING: Skipped loading table bmi since it already exists in the database.\n"
     ]
    }
   ],
   "source": [
    "# Loading dataset from example data collection\n",
    "load_example_data('teradataml','bmi')"
   ]
  },
  {
   "cell_type": "code",
   "execution_count": 5,
   "id": "3846ae0f-004b-4b8e-9fea-06fac4294065",
   "metadata": {},
   "outputs": [],
   "source": [
    "# Fetching in teradata dataframe\n",
    "bmi_df = DataFrame(\"bmi\")"
   ]
  },
  {
   "cell_type": "code",
   "execution_count": 6,
   "id": "442ccd80-b444-413e-970d-d855ec3d6cae",
   "metadata": {},
   "outputs": [
    {
     "data": {
      "text/html": [
       "<style type=\"text/css\">\n",
       "\ttable {border:ridge 5px;}\n",
       "\ttable td {border:inset 1px;}\n",
       "\ttable tr#HeaderRow {background-color:grey; color:white;}</style>\n",
       "<html><table>\n",
       "\t<tr id=\"HeaderRow\">\n",
       "\t\t<th>gender</th>\n",
       "\t\t<th>height</th>\n",
       "\t\t<th>weight</th>\n",
       "\t\t<th>bmi</th>\n",
       "\t</tr>\n",
       "\t<tr>\n",
       "\t\t<td>Female</td>\n",
       "\t\t<td>184</td>\n",
       "\t\t<td>76</td>\n",
       "\t\t<td>2</td>\n",
       "\t</tr>\n",
       "\t<tr>\n",
       "\t\t<td>Female</td>\n",
       "\t\t<td>197</td>\n",
       "\t\t<td>114</td>\n",
       "\t\t<td>3</td>\n",
       "\t</tr>\n",
       "\t<tr>\n",
       "\t\t<td>Female</td>\n",
       "\t\t<td>181</td>\n",
       "\t\t<td>111</td>\n",
       "\t\t<td>4</td>\n",
       "\t</tr>\n",
       "\t<tr>\n",
       "\t\t<td>Female</td>\n",
       "\t\t<td>158</td>\n",
       "\t\t<td>153</td>\n",
       "\t\t<td>5</td>\n",
       "\t</tr>\n",
       "\t<tr>\n",
       "\t\t<td>Female</td>\n",
       "\t\t<td>190</td>\n",
       "\t\t<td>50</td>\n",
       "\t\t<td>0</td>\n",
       "\t</tr>\n",
       "\t<tr>\n",
       "\t\t<td>Female</td>\n",
       "\t\t<td>164</td>\n",
       "\t\t<td>71</td>\n",
       "\t\t<td>3</td>\n",
       "\t</tr>\n",
       "\t<tr>\n",
       "\t\t<td>Female</td>\n",
       "\t\t<td>141</td>\n",
       "\t\t<td>143</td>\n",
       "\t\t<td>5</td>\n",
       "\t</tr>\n",
       "\t<tr>\n",
       "\t\t<td>Female</td>\n",
       "\t\t<td>185</td>\n",
       "\t\t<td>110</td>\n",
       "\t\t<td>4</td>\n",
       "\t</tr>\n",
       "\t<tr>\n",
       "\t\t<td>Female</td>\n",
       "\t\t<td>176</td>\n",
       "\t\t<td>54</td>\n",
       "\t\t<td>1</td>\n",
       "\t</tr>\n",
       "\t<tr>\n",
       "\t\t<td>Female</td>\n",
       "\t\t<td>190</td>\n",
       "\t\t<td>105</td>\n",
       "\t\t<td>3</td>\n",
       "\t</tr>\n",
       "</table></html>"
      ],
      "text/plain": [
       "        height  weight  bmi\n",
       "gender                     \n",
       "Female     184      76    2\n",
       "Female     197     114    3\n",
       "Female     181     111    4\n",
       "Female     158     153    5\n",
       "Female     190      50    0\n",
       "Female     164      71    3\n",
       "Female     141     143    5\n",
       "Female     185     110    4\n",
       "Female     176      54    1\n",
       "Female     190     105    3"
      ]
     },
     "execution_count": 6,
     "metadata": {},
     "output_type": "execute_result"
    }
   ],
   "source": [
    "# first 5 rows\n",
    "bmi_df.head()"
   ]
  },
  {
   "cell_type": "code",
   "execution_count": 7,
   "id": "636c220d-d12f-4ea5-ab2b-c9203ef00d49",
   "metadata": {},
   "outputs": [
    {
     "data": {
      "text/plain": [
       "(500, 4)"
      ]
     },
     "execution_count": 7,
     "metadata": {},
     "output_type": "execute_result"
    }
   ],
   "source": [
    "# bmi_df dataset\n",
    "bmi_df.shape"
   ]
  },
  {
   "cell_type": "code",
   "execution_count": 8,
   "id": "302b7531-0f59-44a4-90dc-8181b670948d",
   "metadata": {},
   "outputs": [],
   "source": [
    "# Removing less count category rows i.e, 0 and 1\n",
    "bmi_df = bmi_df[(bmi_df.bmi != 0) & (bmi_df.bmi != 1)]"
   ]
  },
  {
   "cell_type": "code",
   "execution_count": 9,
   "id": "4c6fc196-5b51-4ed1-a9b4-771994b8998c",
   "metadata": {},
   "outputs": [
    {
     "data": {
      "text/plain": [
       "(465, 4)"
      ]
     },
     "execution_count": 9,
     "metadata": {},
     "output_type": "execute_result"
    }
   ],
   "source": [
    "# bmi_df dataset\n",
    "bmi_df.shape"
   ]
  },
  {
   "cell_type": "code",
   "execution_count": 10,
   "id": "e5d1fad7-8784-4d7a-be1f-7be1d3991d8f",
   "metadata": {},
   "outputs": [],
   "source": [
    "# Performing sampling to get 80% for trainning and 20% for testing\n",
    "bmi_df_sample = bmi_df.sample(frac = [0.8, 0.2])"
   ]
  },
  {
   "cell_type": "code",
   "execution_count": 11,
   "id": "a0e6891a-1b7e-4bac-97c8-350ba5f5bde4",
   "metadata": {},
   "outputs": [
    {
     "data": {
      "text/html": [
       "<style type=\"text/css\">\n",
       "\ttable {border:ridge 5px;}\n",
       "\ttable td {border:inset 1px;}\n",
       "\ttable tr#HeaderRow {background-color:grey; color:white;}</style>\n",
       "<html><table>\n",
       "\t<tr id=\"HeaderRow\">\n",
       "\t\t<th>gender</th>\n",
       "\t\t<th>height</th>\n",
       "\t\t<th>weight</th>\n",
       "\t\t<th>bmi</th>\n",
       "\t\t<th>sampleid</th>\n",
       "\t</tr>\n",
       "\t<tr>\n",
       "\t\t<td>Female</td>\n",
       "\t\t<td>186</td>\n",
       "\t\t<td>148</td>\n",
       "\t\t<td>4</td>\n",
       "\t\t<td>1</td>\n",
       "\t</tr>\n",
       "\t<tr>\n",
       "\t\t<td>Female</td>\n",
       "\t\t<td>164</td>\n",
       "\t\t<td>70</td>\n",
       "\t\t<td>3</td>\n",
       "\t\t<td>1</td>\n",
       "\t</tr>\n",
       "\t<tr>\n",
       "\t\t<td>Female</td>\n",
       "\t\t<td>188</td>\n",
       "\t\t<td>90</td>\n",
       "\t\t<td>3</td>\n",
       "\t\t<td>2</td>\n",
       "\t</tr>\n",
       "\t<tr>\n",
       "\t\t<td>Female</td>\n",
       "\t\t<td>178</td>\n",
       "\t\t<td>154</td>\n",
       "\t\t<td>5</td>\n",
       "\t\t<td>1</td>\n",
       "\t</tr>\n",
       "\t<tr>\n",
       "\t\t<td>Female</td>\n",
       "\t\t<td>166</td>\n",
       "\t\t<td>153</td>\n",
       "\t\t<td>5</td>\n",
       "\t\t<td>1</td>\n",
       "\t</tr>\n",
       "\t<tr>\n",
       "\t\t<td>Female</td>\n",
       "\t\t<td>182</td>\n",
       "\t\t<td>84</td>\n",
       "\t\t<td>3</td>\n",
       "\t\t<td>2</td>\n",
       "\t</tr>\n",
       "\t<tr>\n",
       "\t\t<td>Female</td>\n",
       "\t\t<td>147</td>\n",
       "\t\t<td>67</td>\n",
       "\t\t<td>4</td>\n",
       "\t\t<td>1</td>\n",
       "\t</tr>\n",
       "\t<tr>\n",
       "\t\t<td>Female</td>\n",
       "\t\t<td>157</td>\n",
       "\t\t<td>110</td>\n",
       "\t\t<td>5</td>\n",
       "\t\t<td>1</td>\n",
       "\t</tr>\n",
       "\t<tr>\n",
       "\t\t<td>Female</td>\n",
       "\t\t<td>197</td>\n",
       "\t\t<td>154</td>\n",
       "\t\t<td>4</td>\n",
       "\t\t<td>2</td>\n",
       "\t</tr>\n",
       "\t<tr>\n",
       "\t\t<td>Female</td>\n",
       "\t\t<td>146</td>\n",
       "\t\t<td>157</td>\n",
       "\t\t<td>5</td>\n",
       "\t\t<td>2</td>\n",
       "\t</tr>\n",
       "</table></html>"
      ],
      "text/plain": [
       "        height  weight  bmi  sampleid\n",
       "gender                               \n",
       "Female     186     148    4         1\n",
       "Female     164      70    3         1\n",
       "Female     188      90    3         2\n",
       "Female     178     154    5         1\n",
       "Female     166     153    5         1\n",
       "Female     182      84    3         2\n",
       "Female     147      67    4         1\n",
       "Female     157     110    5         1\n",
       "Female     197     154    4         2\n",
       "Female     146     157    5         2"
      ]
     },
     "execution_count": 11,
     "metadata": {},
     "output_type": "execute_result"
    }
   ],
   "source": [
    "bmi_df_sample.head()"
   ]
  },
  {
   "cell_type": "code",
   "execution_count": 12,
   "id": "5e3e5923-18ad-4cf6-b4e5-e87f8854700b",
   "metadata": {},
   "outputs": [],
   "source": [
    "# Fetching train and test data\n",
    "bmi_df_train= bmi_df_sample[bmi_df_sample['sampleid'] == 1].drop('sampleid', axis=1)\n",
    "bmi_df_test = bmi_df_sample[bmi_df_sample['sampleid'] == 2].drop('sampleid', axis=1)"
   ]
  },
  {
   "cell_type": "code",
   "execution_count": 13,
   "id": "83d72a72-3fac-4862-b374-d21ab59be1a6",
   "metadata": {},
   "outputs": [
    {
     "data": {
      "text/plain": [
       "(372, 4)"
      ]
     },
     "execution_count": 13,
     "metadata": {},
     "output_type": "execute_result"
    }
   ],
   "source": [
    "# train data shape\n",
    "bmi_df_train.shape"
   ]
  },
  {
   "cell_type": "code",
   "execution_count": 14,
   "id": "b22be730-8a7a-40f3-8e2a-cabd8d1f427f",
   "metadata": {},
   "outputs": [
    {
     "data": {
      "text/plain": [
       "(93, 4)"
      ]
     },
     "execution_count": 14,
     "metadata": {},
     "output_type": "execute_result"
    }
   ],
   "source": [
    "# test data shape\n",
    "bmi_df_test.shape"
   ]
  },
  {
   "cell_type": "code",
   "execution_count": 15,
   "id": "18473df2-be15-4e1e-bc5e-739abacf8b89",
   "metadata": {},
   "outputs": [
    {
     "data": {
      "text/html": [
       "<style type=\"text/css\">\n",
       "\ttable {border:ridge 5px;}\n",
       "\ttable td {border:inset 1px;}\n",
       "\ttable tr#HeaderRow {background-color:grey; color:white;}</style>\n",
       "<html><table>\n",
       "\t<tr id=\"HeaderRow\">\n",
       "\t\t<th>gender</th>\n",
       "\t\t<th>height</th>\n",
       "\t\t<th>weight</th>\n",
       "\t\t<th>bmi</th>\n",
       "\t</tr>\n",
       "\t<tr>\n",
       "\t\t<td>Female</td>\n",
       "\t\t<td>151</td>\n",
       "\t\t<td>64</td>\n",
       "\t\t<td>3</td>\n",
       "\t</tr>\n",
       "\t<tr>\n",
       "\t\t<td>Female</td>\n",
       "\t\t<td>185</td>\n",
       "\t\t<td>81</td>\n",
       "\t\t<td>2</td>\n",
       "\t</tr>\n",
       "\t<tr>\n",
       "\t\t<td>Female</td>\n",
       "\t\t<td>175</td>\n",
       "\t\t<td>120</td>\n",
       "\t\t<td>4</td>\n",
       "\t</tr>\n",
       "\t<tr>\n",
       "\t\t<td>Female</td>\n",
       "\t\t<td>149</td>\n",
       "\t\t<td>108</td>\n",
       "\t\t<td>5</td>\n",
       "\t</tr>\n",
       "\t<tr>\n",
       "\t\t<td>Female</td>\n",
       "\t\t<td>188</td>\n",
       "\t\t<td>122</td>\n",
       "\t\t<td>4</td>\n",
       "\t</tr>\n",
       "\t<tr>\n",
       "\t\t<td>Female</td>\n",
       "\t\t<td>168</td>\n",
       "\t\t<td>135</td>\n",
       "\t\t<td>5</td>\n",
       "\t</tr>\n",
       "\t<tr>\n",
       "\t\t<td>Female</td>\n",
       "\t\t<td>182</td>\n",
       "\t\t<td>126</td>\n",
       "\t\t<td>4</td>\n",
       "\t</tr>\n",
       "\t<tr>\n",
       "\t\t<td>Female</td>\n",
       "\t\t<td>163</td>\n",
       "\t\t<td>159</td>\n",
       "\t\t<td>5</td>\n",
       "\t</tr>\n",
       "\t<tr>\n",
       "\t\t<td>Female</td>\n",
       "\t\t<td>172</td>\n",
       "\t\t<td>67</td>\n",
       "\t\t<td>2</td>\n",
       "\t</tr>\n",
       "\t<tr>\n",
       "\t\t<td>Female</td>\n",
       "\t\t<td>157</td>\n",
       "\t\t<td>110</td>\n",
       "\t\t<td>5</td>\n",
       "\t</tr>\n",
       "</table></html>"
      ],
      "text/plain": [
       "        height  weight  bmi\n",
       "gender                     \n",
       "Female     151      64    3\n",
       "Female     185      81    2\n",
       "Female     175     120    4\n",
       "Female     149     108    5\n",
       "Female     188     122    4\n",
       "Female     168     135    5\n",
       "Female     182     126    4\n",
       "Female     163     159    5\n",
       "Female     172      67    2\n",
       "Female     157     110    5"
      ]
     },
     "execution_count": 15,
     "metadata": {},
     "output_type": "execute_result"
    }
   ],
   "source": [
    "#train dataset\n",
    "bmi_df_train.head()"
   ]
  },
  {
   "cell_type": "code",
   "execution_count": 16,
   "id": "58c9d763-4f19-449e-a35b-676d4d026acc",
   "metadata": {},
   "outputs": [
    {
     "data": {
      "text/html": [
       "<style type=\"text/css\">\n",
       "\ttable {border:ridge 5px;}\n",
       "\ttable td {border:inset 1px;}\n",
       "\ttable tr#HeaderRow {background-color:grey; color:white;}</style>\n",
       "<html><table>\n",
       "\t<tr id=\"HeaderRow\">\n",
       "\t\t<th>gender</th>\n",
       "\t\t<th>height</th>\n",
       "\t\t<th>weight</th>\n",
       "\t\t<th>bmi</th>\n",
       "\t</tr>\n",
       "\t<tr>\n",
       "\t\t<td>Female</td>\n",
       "\t\t<td>185</td>\n",
       "\t\t<td>100</td>\n",
       "\t\t<td>3</td>\n",
       "\t</tr>\n",
       "\t<tr>\n",
       "\t\t<td>Female</td>\n",
       "\t\t<td>190</td>\n",
       "\t\t<td>105</td>\n",
       "\t\t<td>3</td>\n",
       "\t</tr>\n",
       "\t<tr>\n",
       "\t\t<td>Female</td>\n",
       "\t\t<td>194</td>\n",
       "\t\t<td>111</td>\n",
       "\t\t<td>3</td>\n",
       "\t</tr>\n",
       "\t<tr>\n",
       "\t\t<td>Female</td>\n",
       "\t\t<td>150</td>\n",
       "\t\t<td>70</td>\n",
       "\t\t<td>4</td>\n",
       "\t</tr>\n",
       "\t<tr>\n",
       "\t\t<td>Female</td>\n",
       "\t\t<td>177</td>\n",
       "\t\t<td>96</td>\n",
       "\t\t<td>4</td>\n",
       "\t</tr>\n",
       "\t<tr>\n",
       "\t\t<td>Female</td>\n",
       "\t\t<td>176</td>\n",
       "\t\t<td>156</td>\n",
       "\t\t<td>5</td>\n",
       "\t</tr>\n",
       "\t<tr>\n",
       "\t\t<td>Female</td>\n",
       "\t\t<td>146</td>\n",
       "\t\t<td>157</td>\n",
       "\t\t<td>5</td>\n",
       "\t</tr>\n",
       "\t<tr>\n",
       "\t\t<td>Female</td>\n",
       "\t\t<td>197</td>\n",
       "\t\t<td>154</td>\n",
       "\t\t<td>4</td>\n",
       "\t</tr>\n",
       "\t<tr>\n",
       "\t\t<td>Female</td>\n",
       "\t\t<td>164</td>\n",
       "\t\t<td>82</td>\n",
       "\t\t<td>4</td>\n",
       "\t</tr>\n",
       "\t<tr>\n",
       "\t\t<td>Female</td>\n",
       "\t\t<td>189</td>\n",
       "\t\t<td>132</td>\n",
       "\t\t<td>4</td>\n",
       "\t</tr>\n",
       "</table></html>"
      ],
      "text/plain": [
       "        height  weight  bmi\n",
       "gender                     \n",
       "Female     185     100    3\n",
       "Female     190     105    3\n",
       "Female     194     111    3\n",
       "Female     150      70    4\n",
       "Female     177      96    4\n",
       "Female     176     156    5\n",
       "Female     146     157    5\n",
       "Female     197     154    4\n",
       "Female     164      82    4\n",
       "Female     189     132    4"
      ]
     },
     "execution_count": 16,
     "metadata": {},
     "output_type": "execute_result"
    }
   ],
   "source": [
    "# test dataset\n",
    "bmi_df_test.head()"
   ]
  },
  {
   "cell_type": "markdown",
   "id": "856ea871-93d8-4ea2-b524-1acb23bd7eb5",
   "metadata": {},
   "source": [
    "## <b><span style='color:#F1A424'>| 2.</span> Fitting AutoML </b>"
   ]
  },
  {
   "cell_type": "code",
   "execution_count": 17,
   "id": "f3650aa5-a408-4227-a88d-79c0f3d36d3c",
   "metadata": {},
   "outputs": [],
   "source": [
    "# Creating AutoML instance\n",
    "# Using knn model for model training.\n",
    "# Keeping early stopping criteria max_models with value 3\n",
    "# and verbose level 2 for detailed loggging\n",
    "\n",
    "aml = AutoML(task_type=\"Classification\",\n",
    "             include='knn',\n",
    "             max_models=3,\n",
    "             verbose=2)"
   ]
  },
  {
   "cell_type": "code",
   "execution_count": 18,
   "id": "a1b7a771-1bfa-40c9-8ad0-c377d320c137",
   "metadata": {
    "tags": []
   },
   "outputs": [
    {
     "data": {
      "text/html": [
       "\n",
       "            <style>\n",
       "                .custom-div {\n",
       "                    background-color: lightgray;\n",
       "                    color: #000000;\n",
       "                    padding: 10px;\n",
       "                    border-radius: 8px;\n",
       "                    box-shadow: 0 3px 4px rgba(0, 0, 0, 0.2);\n",
       "                    margin-bottom: 10px;\n",
       "                    text-align: center;\n",
       "                }\n",
       "            </style>\n",
       "        <br><div class=\"custom-div\"><h3><span style=\"color: green;\"></span>1. Feature Exploration -> 2. Feature Engineering -> 3. Data Preparation -> 4. Model Training & Evaluation<center></h3></center></div>"
      ],
      "text/plain": [
       "<IPython.core.display.HTML object>"
      ]
     },
     "metadata": {},
     "output_type": "display_data"
    },
    {
     "name": "stdout",
     "output_type": "stream",
     "text": [
      "Feature Exploration started ...\n",
      "\n",
      "Data Overview:\n",
      "Total Rows in the data: 372\n",
      "Total Columns in the data: 4\n",
      "\n",
      "Column Summary:\n"
     ]
    },
    {
     "data": {
      "text/html": [
       "<style type=\"text/css\">\n",
       "\ttable {border:ridge 5px;}\n",
       "\ttable td {border:inset 1px;}\n",
       "\ttable tr#HeaderRow {background-color:grey; color:white;}</style>\n",
       "<html><table>\n",
       "\t<tr id=\"HeaderRow\">\n",
       "\t\t<th>ColumnName</th>\n",
       "\t\t<th>Datatype</th>\n",
       "\t\t<th>NonNullCount</th>\n",
       "\t\t<th>NullCount</th>\n",
       "\t\t<th>BlankCount</th>\n",
       "\t\t<th>ZeroCount</th>\n",
       "\t\t<th>PositiveCount</th>\n",
       "\t\t<th>NegativeCount</th>\n",
       "\t\t<th>NullPercentage</th>\n",
       "\t\t<th>NonNullPercentage</th>\n",
       "\t</tr>\n",
       "\t<tr>\n",
       "\t\t<td>height</td>\n",
       "\t\t<td>INTEGER</td>\n",
       "\t\t<td>372</td>\n",
       "\t\t<td>0</td>\n",
       "\t\t<td>None</td>\n",
       "\t\t<td>0</td>\n",
       "\t\t<td>372</td>\n",
       "\t\t<td>0</td>\n",
       "\t\t<td>0.0</td>\n",
       "\t\t<td>100.0</td>\n",
       "\t</tr>\n",
       "\t<tr>\n",
       "\t\t<td>weight</td>\n",
       "\t\t<td>INTEGER</td>\n",
       "\t\t<td>372</td>\n",
       "\t\t<td>0</td>\n",
       "\t\t<td>None</td>\n",
       "\t\t<td>0</td>\n",
       "\t\t<td>372</td>\n",
       "\t\t<td>0</td>\n",
       "\t\t<td>0.0</td>\n",
       "\t\t<td>100.0</td>\n",
       "\t</tr>\n",
       "\t<tr>\n",
       "\t\t<td>bmi</td>\n",
       "\t\t<td>INTEGER</td>\n",
       "\t\t<td>372</td>\n",
       "\t\t<td>0</td>\n",
       "\t\t<td>None</td>\n",
       "\t\t<td>0</td>\n",
       "\t\t<td>372</td>\n",
       "\t\t<td>0</td>\n",
       "\t\t<td>0.0</td>\n",
       "\t\t<td>100.0</td>\n",
       "\t</tr>\n",
       "\t<tr>\n",
       "\t\t<td>gender</td>\n",
       "\t\t<td>VARCHAR(20) CHARACTER SET LATIN</td>\n",
       "\t\t<td>372</td>\n",
       "\t\t<td>0</td>\n",
       "\t\t<td>0</td>\n",
       "\t\t<td>None</td>\n",
       "\t\t<td>None</td>\n",
       "\t\t<td>None</td>\n",
       "\t\t<td>0.0</td>\n",
       "\t\t<td>100.0</td>\n",
       "\t</tr>\n",
       "</table></html>"
      ],
      "text/plain": [
       "  ColumnName                         Datatype  NonNullCount  NullCount  BlankCount  ZeroCount  PositiveCount  NegativeCount  NullPercentage  NonNullPercentage\n",
       "0     height                          INTEGER           372          0         NaN        0.0          372.0            0.0             0.0              100.0\n",
       "1     weight                          INTEGER           372          0         NaN        0.0          372.0            0.0             0.0              100.0\n",
       "2        bmi                          INTEGER           372          0         NaN        0.0          372.0            0.0             0.0              100.0\n",
       "3     gender  VARCHAR(20) CHARACTER SET LATIN           372          0         0.0        NaN            NaN            NaN             0.0              100.0"
      ]
     },
     "metadata": {},
     "output_type": "display_data"
    },
    {
     "name": "stdout",
     "output_type": "stream",
     "text": [
      "\n",
      "Statistics of Data:\n"
     ]
    },
    {
     "data": {
      "text/html": [
       "<style type=\"text/css\">\n",
       "\ttable {border:ridge 5px;}\n",
       "\ttable td {border:inset 1px;}\n",
       "\ttable tr#HeaderRow {background-color:grey; color:white;}</style>\n",
       "<html><table>\n",
       "\t<tr id=\"HeaderRow\">\n",
       "\t\t<th>func</th>\n",
       "\t\t<th>height</th>\n",
       "\t\t<th>weight</th>\n",
       "\t\t<th>bmi</th>\n",
       "\t</tr>\n",
       "\t<tr>\n",
       "\t\t<td>min</td>\n",
       "\t\t<td>140</td>\n",
       "\t\t<td>50</td>\n",
       "\t\t<td>2</td>\n",
       "\t</tr>\n",
       "\t<tr>\n",
       "\t\t<td>std</td>\n",
       "\t\t<td>15.878</td>\n",
       "\t\t<td>30.35</td>\n",
       "\t\t<td>1.08</td>\n",
       "\t</tr>\n",
       "\t<tr>\n",
       "\t\t<td>25%</td>\n",
       "\t\t<td>155</td>\n",
       "\t\t<td>84</td>\n",
       "\t\t<td>3</td>\n",
       "\t</tr>\n",
       "\t<tr>\n",
       "\t\t<td>50%</td>\n",
       "\t\t<td>169</td>\n",
       "\t\t<td>109.5</td>\n",
       "\t\t<td>4</td>\n",
       "\t</tr>\n",
       "\t<tr>\n",
       "\t\t<td>75%</td>\n",
       "\t\t<td>182</td>\n",
       "\t\t<td>138.25</td>\n",
       "\t\t<td>5</td>\n",
       "\t</tr>\n",
       "\t<tr>\n",
       "\t\t<td>max</td>\n",
       "\t\t<td>199</td>\n",
       "\t\t<td>160</td>\n",
       "\t\t<td>5</td>\n",
       "\t</tr>\n",
       "\t<tr>\n",
       "\t\t<td>mean</td>\n",
       "\t\t<td>168.559</td>\n",
       "\t\t<td>109.925</td>\n",
       "\t\t<td>3.997</td>\n",
       "\t</tr>\n",
       "\t<tr>\n",
       "\t\t<td>count</td>\n",
       "\t\t<td>372</td>\n",
       "\t\t<td>372</td>\n",
       "\t\t<td>372</td>\n",
       "\t</tr>\n",
       "</table></html>"
      ],
      "text/plain": [
       "        height   weight      bmi\n",
       "func                            \n",
       "min    140.000   50.000    2.000\n",
       "std     15.878   30.350    1.080\n",
       "25%    155.000   84.000    3.000\n",
       "50%    169.000  109.500    4.000\n",
       "75%    182.000  138.250    5.000\n",
       "max    199.000  160.000    5.000\n",
       "mean   168.559  109.925    3.997\n",
       "count  372.000  372.000  372.000"
      ]
     },
     "metadata": {},
     "output_type": "display_data"
    },
    {
     "name": "stdout",
     "output_type": "stream",
     "text": [
      "\n",
      "Categorical Columns with their Distinct values:\n",
      "ColumnName                DistinctValueCount\n",
      "gender                    2         \n",
      "\n",
      "No Futile columns found.\n",
      "\n",
      "Target Column Distribution:\n"
     ]
    },
    {
     "data": {
      "image/png": "[encoded data removed]",
      "text/plain": [
       "<Figure size 600x600 with 1 Axes>"
      ]
     },
     "metadata": {},
     "output_type": "display_data"
    },
    {
     "name": "stdout",
     "output_type": "stream",
     "text": [
      "                                                                                                                                                                                                                                                                                                                                                                                                                                                                                                                    \n",
      "No outlier found!\n",
      "                                                                                        \r"
     ]
    },
    {
     "data": {
      "text/html": [
       "\n",
       "            <style>\n",
       "                .custom-div {\n",
       "                    background-color: lightgray;\n",
       "                    color: #000000;\n",
       "                    padding: 10px;\n",
       "                    border-radius: 8px;\n",
       "                    box-shadow: 0 3px 4px rgba(0 -  0 -  0 -  0.2);\n",
       "                    margin-bottom: 10px;\n",
       "                    text-align: center;\n",
       "                }\n",
       "            </style>\n",
       "        <br><div class=\"custom-div\"><h3><span style=\"color: green;\">1. Feature Exploration -></span> 2. Feature Engineering -> 3. Data Preparation -> 4. Model Training & Evaluation<center></h3></center></div>"
      ],
      "text/plain": [
       "<IPython.core.display.HTML object>"
      ]
     },
     "metadata": {},
     "output_type": "display_data"
    },
    {
     "name": "stdout",
     "output_type": "stream",
     "text": [
      "                                                                                        \r"
     ]
    },
    {
     "data": {
      "text/html": [
       "Feature Engineering started ..."
      ],
      "text/plain": [
       "<IPython.core.display.HTML object>"
      ]
     },
     "metadata": {},
     "output_type": "display_data"
    },
    {
     "name": "stdout",
     "output_type": "stream",
     "text": [
      "                                                                                        \r"
     ]
    },
    {
     "data": {
      "text/html": [
       "\n",
       "Handling duplicate records present in dataset ..."
      ],
      "text/plain": [
       "<IPython.core.display.HTML object>"
      ]
     },
     "metadata": {},
     "output_type": "display_data"
    },
    {
     "name": "stdout",
     "output_type": "stream",
     "text": [
      "                                                                                        \r"
     ]
    },
    {
     "data": {
      "text/html": [
       "Updated dataset sample after removing 4 duplicate records:"
      ],
      "text/plain": [
       "<IPython.core.display.HTML object>"
      ]
     },
     "metadata": {},
     "output_type": "display_data"
    },
    {
     "data": {
      "text/html": [
       "<style type=\"text/css\">\n",
       "\ttable {border:ridge 5px;}\n",
       "\ttable td {border:inset 1px;}\n",
       "\ttable tr#HeaderRow {background-color:grey; color:white;}</style>\n",
       "<html><table>\n",
       "\t<tr id=\"HeaderRow\">\n",
       "\t\t<th>gender</th>\n",
       "\t\t<th>height</th>\n",
       "\t\t<th>weight</th>\n",
       "\t\t<th>bmi</th>\n",
       "\t</tr>\n",
       "\t<tr>\n",
       "\t\t<td>Female</td>\n",
       "\t\t<td>160</td>\n",
       "\t\t<td>83</td>\n",
       "\t\t<td>4</td>\n",
       "\t</tr>\n",
       "\t<tr>\n",
       "\t\t<td>Female</td>\n",
       "\t\t<td>181</td>\n",
       "\t\t<td>94</td>\n",
       "\t\t<td>3</td>\n",
       "\t</tr>\n",
       "\t<tr>\n",
       "\t\t<td>Female</td>\n",
       "\t\t<td>187</td>\n",
       "\t\t<td>102</td>\n",
       "\t\t<td>3</td>\n",
       "\t</tr>\n",
       "\t<tr>\n",
       "\t\t<td>Female</td>\n",
       "\t\t<td>188</td>\n",
       "\t\t<td>122</td>\n",
       "\t\t<td>4</td>\n",
       "\t</tr>\n",
       "\t<tr>\n",
       "\t\t<td>Female</td>\n",
       "\t\t<td>189</td>\n",
       "\t\t<td>124</td>\n",
       "\t\t<td>4</td>\n",
       "\t</tr>\n",
       "\t<tr>\n",
       "\t\t<td>Female</td>\n",
       "\t\t<td>175</td>\n",
       "\t\t<td>141</td>\n",
       "\t\t<td>5</td>\n",
       "\t</tr>\n",
       "\t<tr>\n",
       "\t\t<td>Male</td>\n",
       "\t\t<td>170</td>\n",
       "\t\t<td>95</td>\n",
       "\t\t<td>4</td>\n",
       "\t</tr>\n",
       "\t<tr>\n",
       "\t\t<td>Male</td>\n",
       "\t\t<td>174</td>\n",
       "\t\t<td>90</td>\n",
       "\t\t<td>3</td>\n",
       "\t</tr>\n",
       "\t<tr>\n",
       "\t\t<td>Male</td>\n",
       "\t\t<td>173</td>\n",
       "\t\t<td>139</td>\n",
       "\t\t<td>5</td>\n",
       "\t</tr>\n",
       "\t<tr>\n",
       "\t\t<td>Male</td>\n",
       "\t\t<td>159</td>\n",
       "\t\t<td>154</td>\n",
       "\t\t<td>5</td>\n",
       "\t</tr>\n",
       "</table></html>"
      ],
      "text/plain": [
       "        height  weight  bmi\n",
       "gender                     \n",
       "Female     160      83    4\n",
       "Female     181      94    3\n",
       "Female     187     102    3\n",
       "Female     188     122    4\n",
       "Female     189     124    4\n",
       "Female     175     141    5\n",
       "Male       170      95    4\n",
       "Male       174      90    3\n",
       "Male       173     139    5\n",
       "Male       159     154    5"
      ]
     },
     "metadata": {},
     "output_type": "display_data"
    },
    {
     "name": "stdout",
     "output_type": "stream",
     "text": [
      "                                                                                        \r"
     ]
    },
    {
     "data": {
      "text/html": [
       "368 rows X 4 columns"
      ],
      "text/plain": [
       "<IPython.core.display.HTML object>"
      ]
     },
     "metadata": {},
     "output_type": "display_data"
    },
    {
     "name": "stdout",
     "output_type": "stream",
     "text": [
      "Remaining Rows in the data: 368                                                         \n",
      "Remaining Columns in the data: 4\n",
      "                                                                                        \r"
     ]
    },
    {
     "data": {
      "text/html": [
       "Total time to handle duplicate records: 4.14 sec  "
      ],
      "text/plain": [
       "<IPython.core.display.HTML object>"
      ]
     },
     "metadata": {},
     "output_type": "display_data"
    },
    {
     "name": "stdout",
     "output_type": "stream",
     "text": [
      "                                                                                        \r"
     ]
    },
    {
     "data": {
      "text/html": [
       "\n",
       "Handling less significant features from data ..."
      ],
      "text/plain": [
       "<IPython.core.display.HTML object>"
      ]
     },
     "metadata": {},
     "output_type": "display_data"
    },
    {
     "name": "stdout",
     "output_type": "stream",
     "text": [
      "Analysis indicates all categorical columns are significant. No action Needed.           \n",
      "                                                                                        \r"
     ]
    },
    {
     "data": {
      "text/html": [
       "Total time to handle less significant features: 14.74 sec  "
      ],
      "text/plain": [
       "<IPython.core.display.HTML object>"
      ]
     },
     "metadata": {},
     "output_type": "display_data"
    },
    {
     "name": "stdout",
     "output_type": "stream",
     "text": [
      "                                                                                         \r"
     ]
    },
    {
     "data": {
      "text/html": [
       "\n",
       "Handling Date Features ..."
      ],
      "text/plain": [
       "<IPython.core.display.HTML object>"
      ]
     },
     "metadata": {},
     "output_type": "display_data"
    },
    {
     "name": "stdout",
     "output_type": "stream",
     "text": [
      "Analysis Completed. Dataset does not contain any feature related to dates. No action needed.\n",
      "                                                                                         \r"
     ]
    },
    {
     "data": {
      "text/html": [
       "Total time to handle date features: 0.00 sec\n"
      ],
      "text/plain": [
       "<IPython.core.display.HTML object>"
      ]
     },
     "metadata": {},
     "output_type": "display_data"
    },
    {
     "name": "stdout",
     "output_type": "stream",
     "text": [
      "                                                                                         \r"
     ]
    },
    {
     "data": {
      "text/html": [
       "\n",
       "Checking Missing values in dataset ..."
      ],
      "text/plain": [
       "<IPython.core.display.HTML object>"
      ]
     },
     "metadata": {},
     "output_type": "display_data"
    },
    {
     "name": "stdout",
     "output_type": "stream",
     "text": [
      "Analysis Completed. No Missing Values Detected.                                          \n",
      "                                                                                         \r"
     ]
    },
    {
     "data": {
      "text/html": [
       "Total time to find missing values in data: 7.07 sec  "
      ],
      "text/plain": [
       "<IPython.core.display.HTML object>"
      ]
     },
     "metadata": {},
     "output_type": "display_data"
    },
    {
     "name": "stdout",
     "output_type": "stream",
     "text": [
      "                                                                                         \r"
     ]
    },
    {
     "data": {
      "text/html": [
       "\n",
       "Imputing Missing Values ..."
      ],
      "text/plain": [
       "<IPython.core.display.HTML object>"
      ]
     },
     "metadata": {},
     "output_type": "display_data"
    },
    {
     "name": "stdout",
     "output_type": "stream",
     "text": [
      "Analysis completed. No imputation required.                                              \n",
      "                                                                                         \r"
     ]
    },
    {
     "data": {
      "text/html": [
       "Time taken to perform imputation: 0.00 sec  "
      ],
      "text/plain": [
       "<IPython.core.display.HTML object>"
      ]
     },
     "metadata": {},
     "output_type": "display_data"
    },
    {
     "name": "stdout",
     "output_type": "stream",
     "text": [
      "                                                                                         \r"
     ]
    },
    {
     "data": {
      "text/html": [
       "\n",
       "Performing encoding for categorical columns ..."
      ],
      "text/plain": [
       "<IPython.core.display.HTML object>"
      ]
     },
     "metadata": {},
     "output_type": "display_data"
    },
    {
     "name": "stdout",
     "output_type": "stream",
     "text": [
      "result data stored in table '\"ALICE\".\"ml__td_sqlmr_persist_out__1719261583032186\"' - 5/15\n",
      "                                                                                         \r"
     ]
    },
    {
     "data": {
      "text/html": [
       "ONE HOT Encoding these Columns:"
      ],
      "text/plain": [
       "<IPython.core.display.HTML object>"
      ]
     },
     "metadata": {},
     "output_type": "display_data"
    },
    {
     "name": "stdout",
     "output_type": "stream",
     "text": [
      "['gender']\n",
      "                                                                                         \r"
     ]
    },
    {
     "data": {
      "text/html": [
       "Sample of dataset after performing one hot encoding:"
      ],
      "text/plain": [
       "<IPython.core.display.HTML object>"
      ]
     },
     "metadata": {},
     "output_type": "display_data"
    },
    {
     "data": {
      "text/html": [
       "<style type=\"text/css\">\n",
       "\ttable {border:ridge 5px;}\n",
       "\ttable td {border:inset 1px;}\n",
       "\ttable tr#HeaderRow {background-color:grey; color:white;}</style>\n",
       "<html><table>\n",
       "\t<tr id=\"HeaderRow\">\n",
       "\t\t<th>gender_0</th>\n",
       "\t\t<th>gender_1</th>\n",
       "\t\t<th>height</th>\n",
       "\t\t<th>weight</th>\n",
       "\t\t<th>bmi</th>\n",
       "\t\t<th>id</th>\n",
       "\t</tr>\n",
       "\t<tr>\n",
       "\t\t<td>1</td>\n",
       "\t\t<td>0</td>\n",
       "\t\t<td>187</td>\n",
       "\t\t<td>102</td>\n",
       "\t\t<td>3</td>\n",
       "\t\t<td>55</td>\n",
       "\t</tr>\n",
       "\t<tr>\n",
       "\t\t<td>1</td>\n",
       "\t\t<td>0</td>\n",
       "\t\t<td>189</td>\n",
       "\t\t<td>124</td>\n",
       "\t\t<td>4</td>\n",
       "\t\t<td>79</td>\n",
       "\t</tr>\n",
       "\t<tr>\n",
       "\t\t<td>1</td>\n",
       "\t\t<td>0</td>\n",
       "\t\t<td>175</td>\n",
       "\t\t<td>141</td>\n",
       "\t\t<td>5</td>\n",
       "\t\t<td>87</td>\n",
       "\t</tr>\n",
       "\t<tr>\n",
       "\t\t<td>1</td>\n",
       "\t\t<td>0</td>\n",
       "\t\t<td>143</td>\n",
       "\t\t<td>118</td>\n",
       "\t\t<td>5</td>\n",
       "\t\t<td>95</td>\n",
       "\t</tr>\n",
       "\t<tr>\n",
       "\t\t<td>1</td>\n",
       "\t\t<td>0</td>\n",
       "\t\t<td>182</td>\n",
       "\t\t<td>126</td>\n",
       "\t\t<td>4</td>\n",
       "\t\t<td>111</td>\n",
       "\t</tr>\n",
       "\t<tr>\n",
       "\t\t<td>1</td>\n",
       "\t\t<td>0</td>\n",
       "\t\t<td>185</td>\n",
       "\t\t<td>119</td>\n",
       "\t\t<td>4</td>\n",
       "\t\t<td>119</td>\n",
       "\t</tr>\n",
       "\t<tr>\n",
       "\t\t<td>0</td>\n",
       "\t\t<td>1</td>\n",
       "\t\t<td>173</td>\n",
       "\t\t<td>139</td>\n",
       "\t\t<td>5</td>\n",
       "\t\t<td>28</td>\n",
       "\t</tr>\n",
       "\t<tr>\n",
       "\t\t<td>0</td>\n",
       "\t\t<td>1</td>\n",
       "\t\t<td>168</td>\n",
       "\t\t<td>158</td>\n",
       "\t\t<td>5</td>\n",
       "\t\t<td>44</td>\n",
       "\t</tr>\n",
       "\t<tr>\n",
       "\t\t<td>0</td>\n",
       "\t\t<td>1</td>\n",
       "\t\t<td>155</td>\n",
       "\t\t<td>57</td>\n",
       "\t\t<td>2</td>\n",
       "\t\t<td>52</td>\n",
       "\t</tr>\n",
       "\t<tr>\n",
       "\t\t<td>0</td>\n",
       "\t\t<td>1</td>\n",
       "\t\t<td>142</td>\n",
       "\t\t<td>135</td>\n",
       "\t\t<td>5</td>\n",
       "\t\t<td>60</td>\n",
       "\t</tr>\n",
       "</table></html>"
      ],
      "text/plain": [
       "          gender_1  height  weight  bmi   id\n",
       "gender_0                                    \n",
       "1                0     187     102    3   55\n",
       "1                0     189     124    4   79\n",
       "1                0     175     141    5   87\n",
       "1                0     143     118    5   95\n",
       "1                0     182     126    4  111\n",
       "1                0     185     119    4  119\n",
       "0                1     173     139    5   28\n",
       "0                1     168     158    5   44\n",
       "0                1     155      57    2   52\n",
       "0                1     142     135    5   60"
      ]
     },
     "metadata": {},
     "output_type": "display_data"
    },
    {
     "name": "stdout",
     "output_type": "stream",
     "text": [
      "                                                                                         \r"
     ]
    },
    {
     "data": {
      "text/html": [
       "368 rows X 6 columns"
      ],
      "text/plain": [
       "<IPython.core.display.HTML object>"
      ]
     },
     "metadata": {},
     "output_type": "display_data"
    },
    {
     "name": "stdout",
     "output_type": "stream",
     "text": [
      "                                                                                         \r"
     ]
    },
    {
     "data": {
      "text/html": [
       "Time taken to encode the columns: 13.90 sec"
      ],
      "text/plain": [
       "<IPython.core.display.HTML object>"
      ]
     },
     "metadata": {},
     "output_type": "display_data"
    },
    {
     "name": "stdout",
     "output_type": "stream",
     "text": [
      "                                                                                         \r"
     ]
    },
    {
     "data": {
      "text/html": [
       "\n",
       "            <style>\n",
       "                .custom-div {\n",
       "                    background-color: lightgray;\n",
       "                    color: #000000;\n",
       "                    padding: 10px;\n",
       "                    border-radius: 8px;\n",
       "                    box-shadow: 0 3px 4px rgba(0 -  0 -  0 -  0.2);\n",
       "                    margin-bottom: 10px;\n",
       "                    text-align: center;\n",
       "                }\n",
       "            </style>\n",
       "        <br><div class=\"custom-div\"><h3><span style=\"color: green;\">1. Feature Exploration -> 2. Feature Engineering -></span> 3. Data Preparation -> 4. Model Training & Evaluation<center></h3></center></div>"
      ],
      "text/plain": [
       "<IPython.core.display.HTML object>"
      ]
     },
     "metadata": {},
     "output_type": "display_data"
    },
    {
     "name": "stdout",
     "output_type": "stream",
     "text": [
      "                                                                                         \r"
     ]
    },
    {
     "data": {
      "text/html": [
       "Data preparation started ..."
      ],
      "text/plain": [
       "<IPython.core.display.HTML object>"
      ]
     },
     "metadata": {},
     "output_type": "display_data"
    },
    {
     "name": "stdout",
     "output_type": "stream",
     "text": [
      "                                                                                         \r"
     ]
    },
    {
     "data": {
      "text/html": [
       "\n",
       "Spliting of dataset into training and testing ..."
      ],
      "text/plain": [
       "<IPython.core.display.HTML object>"
      ]
     },
     "metadata": {},
     "output_type": "display_data"
    },
    {
     "name": "stdout",
     "output_type": "stream",
     "text": [
      "Training size : 0.8                                                                      \n",
      "Testing size  : 0.2                                                                      \n",
      "                                                                                         \r"
     ]
    },
    {
     "data": {
      "text/html": [
       "Training data sample"
      ],
      "text/plain": [
       "<IPython.core.display.HTML object>"
      ]
     },
     "metadata": {},
     "output_type": "display_data"
    },
    {
     "data": {
      "text/html": [
       "<style type=\"text/css\">\n",
       "\ttable {border:ridge 5px;}\n",
       "\ttable td {border:inset 1px;}\n",
       "\ttable tr#HeaderRow {background-color:grey; color:white;}</style>\n",
       "<html><table>\n",
       "\t<tr id=\"HeaderRow\">\n",
       "\t\t<th>gender_0</th>\n",
       "\t\t<th>gender_1</th>\n",
       "\t\t<th>height</th>\n",
       "\t\t<th>weight</th>\n",
       "\t\t<th>bmi</th>\n",
       "\t\t<th>id</th>\n",
       "\t</tr>\n",
       "\t<tr>\n",
       "\t\t<td>1</td>\n",
       "\t\t<td>0</td>\n",
       "\t\t<td>166</td>\n",
       "\t\t<td>153</td>\n",
       "\t\t<td>5</td>\n",
       "\t\t<td>39</td>\n",
       "\t</tr>\n",
       "\t<tr>\n",
       "\t\t<td>1</td>\n",
       "\t\t<td>0</td>\n",
       "\t\t<td>187</td>\n",
       "\t\t<td>102</td>\n",
       "\t\t<td>3</td>\n",
       "\t\t<td>55</td>\n",
       "\t</tr>\n",
       "\t<tr>\n",
       "\t\t<td>1</td>\n",
       "\t\t<td>0</td>\n",
       "\t\t<td>188</td>\n",
       "\t\t<td>122</td>\n",
       "\t\t<td>4</td>\n",
       "\t\t<td>63</td>\n",
       "\t</tr>\n",
       "\t<tr>\n",
       "\t\t<td>1</td>\n",
       "\t\t<td>0</td>\n",
       "\t\t<td>164</td>\n",
       "\t\t<td>142</td>\n",
       "\t\t<td>5</td>\n",
       "\t\t<td>71</td>\n",
       "\t</tr>\n",
       "\t<tr>\n",
       "\t\t<td>1</td>\n",
       "\t\t<td>0</td>\n",
       "\t\t<td>175</td>\n",
       "\t\t<td>141</td>\n",
       "\t\t<td>5</td>\n",
       "\t\t<td>87</td>\n",
       "\t</tr>\n",
       "\t<tr>\n",
       "\t\t<td>1</td>\n",
       "\t\t<td>0</td>\n",
       "\t\t<td>143</td>\n",
       "\t\t<td>118</td>\n",
       "\t\t<td>5</td>\n",
       "\t\t<td>95</td>\n",
       "\t</tr>\n",
       "\t<tr>\n",
       "\t\t<td>0</td>\n",
       "\t\t<td>1</td>\n",
       "\t\t<td>170</td>\n",
       "\t\t<td>95</td>\n",
       "\t\t<td>4</td>\n",
       "\t\t<td>12</td>\n",
       "\t</tr>\n",
       "\t<tr>\n",
       "\t\t<td>0</td>\n",
       "\t\t<td>1</td>\n",
       "\t\t<td>174</td>\n",
       "\t\t<td>90</td>\n",
       "\t\t<td>3</td>\n",
       "\t\t<td>20</td>\n",
       "\t</tr>\n",
       "\t<tr>\n",
       "\t\t<td>0</td>\n",
       "\t\t<td>1</td>\n",
       "\t\t<td>159</td>\n",
       "\t\t<td>154</td>\n",
       "\t\t<td>5</td>\n",
       "\t\t<td>36</td>\n",
       "\t</tr>\n",
       "\t<tr>\n",
       "\t\t<td>0</td>\n",
       "\t\t<td>1</td>\n",
       "\t\t<td>168</td>\n",
       "\t\t<td>158</td>\n",
       "\t\t<td>5</td>\n",
       "\t\t<td>44</td>\n",
       "\t</tr>\n",
       "</table></html>"
      ],
      "text/plain": [
       "   gender_0  gender_1  height  weight  bmi  id\n",
       "0         1         0     166     153    5  39\n",
       "1         1         0     187     102    3  55\n",
       "2         1         0     188     122    4  63\n",
       "3         1         0     164     142    5  71\n",
       "4         1         0     175     141    5  87\n",
       "5         1         0     143     118    5  95\n",
       "6         0         1     170      95    4  12\n",
       "7         0         1     174      90    3  20\n",
       "8         0         1     159     154    5  36\n",
       "9         0         1     168     158    5  44"
      ]
     },
     "metadata": {},
     "output_type": "display_data"
    },
    {
     "name": "stdout",
     "output_type": "stream",
     "text": [
      "                                                                                         \r"
     ]
    },
    {
     "data": {
      "text/html": [
       "294 rows X 6 columns"
      ],
      "text/plain": [
       "<IPython.core.display.HTML object>"
      ]
     },
     "metadata": {},
     "output_type": "display_data"
    },
    {
     "name": "stdout",
     "output_type": "stream",
     "text": [
      "                                                                                         \r"
     ]
    },
    {
     "data": {
      "text/html": [
       "Testing data sample"
      ],
      "text/plain": [
       "<IPython.core.display.HTML object>"
      ]
     },
     "metadata": {},
     "output_type": "display_data"
    },
    {
     "data": {
      "text/html": [
       "<style type=\"text/css\">\n",
       "\ttable {border:ridge 5px;}\n",
       "\ttable td {border:inset 1px;}\n",
       "\ttable tr#HeaderRow {background-color:grey; color:white;}</style>\n",
       "<html><table>\n",
       "\t<tr id=\"HeaderRow\">\n",
       "\t\t<th>gender_0</th>\n",
       "\t\t<th>gender_1</th>\n",
       "\t\t<th>height</th>\n",
       "\t\t<th>weight</th>\n",
       "\t\t<th>bmi</th>\n",
       "\t\t<th>id</th>\n",
       "\t</tr>\n",
       "\t<tr>\n",
       "\t\t<td>0</td>\n",
       "\t\t<td>1</td>\n",
       "\t\t<td>157</td>\n",
       "\t\t<td>56</td>\n",
       "\t\t<td>2</td>\n",
       "\t\t<td>188</td>\n",
       "\t</tr>\n",
       "\t<tr>\n",
       "\t\t<td>0</td>\n",
       "\t\t<td>1</td>\n",
       "\t\t<td>142</td>\n",
       "\t\t<td>69</td>\n",
       "\t\t<td>4</td>\n",
       "\t\t<td>212</td>\n",
       "\t</tr>\n",
       "\t<tr>\n",
       "\t\t<td>0</td>\n",
       "\t\t<td>1</td>\n",
       "\t\t<td>154</td>\n",
       "\t\t<td>105</td>\n",
       "\t\t<td>5</td>\n",
       "\t\t<td>244</td>\n",
       "\t</tr>\n",
       "\t<tr>\n",
       "\t\t<td>0</td>\n",
       "\t\t<td>1</td>\n",
       "\t\t<td>163</td>\n",
       "\t\t<td>137</td>\n",
       "\t\t<td>5</td>\n",
       "\t\t<td>372</td>\n",
       "\t</tr>\n",
       "\t<tr>\n",
       "\t\t<td>0</td>\n",
       "\t\t<td>1</td>\n",
       "\t\t<td>141</td>\n",
       "\t\t<td>86</td>\n",
       "\t\t<td>5</td>\n",
       "\t\t<td>484</td>\n",
       "\t</tr>\n",
       "\t<tr>\n",
       "\t\t<td>0</td>\n",
       "\t\t<td>1</td>\n",
       "\t\t<td>192</td>\n",
       "\t\t<td>101</td>\n",
       "\t\t<td>3</td>\n",
       "\t\t<td>540</td>\n",
       "\t</tr>\n",
       "\t<tr>\n",
       "\t\t<td>1</td>\n",
       "\t\t<td>0</td>\n",
       "\t\t<td>160</td>\n",
       "\t\t<td>83</td>\n",
       "\t\t<td>4</td>\n",
       "\t\t<td>31</td>\n",
       "\t</tr>\n",
       "\t<tr>\n",
       "\t\t<td>1</td>\n",
       "\t\t<td>0</td>\n",
       "\t\t<td>141</td>\n",
       "\t\t<td>126</td>\n",
       "\t\t<td>5</td>\n",
       "\t\t<td>127</td>\n",
       "\t</tr>\n",
       "\t<tr>\n",
       "\t\t<td>1</td>\n",
       "\t\t<td>0</td>\n",
       "\t\t<td>198</td>\n",
       "\t\t<td>145</td>\n",
       "\t\t<td>4</td>\n",
       "\t\t<td>191</td>\n",
       "\t</tr>\n",
       "\t<tr>\n",
       "\t\t<td>1</td>\n",
       "\t\t<td>0</td>\n",
       "\t\t<td>150</td>\n",
       "\t\t<td>87</td>\n",
       "\t\t<td>4</td>\n",
       "\t\t<td>207</td>\n",
       "\t</tr>\n",
       "</table></html>"
      ],
      "text/plain": [
       "   gender_0  gender_1  height  weight  bmi   id\n",
       "0         0         1     157      56    2  188\n",
       "1         0         1     142      69    4  212\n",
       "2         0         1     154     105    5  244\n",
       "3         0         1     163     137    5  372\n",
       "4         0         1     141      86    5  484\n",
       "5         0         1     192     101    3  540\n",
       "6         1         0     160      83    4   31\n",
       "7         1         0     141     126    5  127\n",
       "8         1         0     198     145    4  191\n",
       "9         1         0     150      87    4  207"
      ]
     },
     "metadata": {},
     "output_type": "display_data"
    },
    {
     "name": "stdout",
     "output_type": "stream",
     "text": [
      "                                                                                         \r"
     ]
    },
    {
     "data": {
      "text/html": [
       "74 rows X 6 columns"
      ],
      "text/plain": [
       "<IPython.core.display.HTML object>"
      ]
     },
     "metadata": {},
     "output_type": "display_data"
    },
    {
     "name": "stdout",
     "output_type": "stream",
     "text": [
      "                                                                                         \r"
     ]
    },
    {
     "data": {
      "text/html": [
       "Time taken for spliting of data: 10.18 sec  "
      ],
      "text/plain": [
       "<IPython.core.display.HTML object>"
      ]
     },
     "metadata": {},
     "output_type": "display_data"
    },
    {
     "name": "stdout",
     "output_type": "stream",
     "text": [
      "                                                                                         \r"
     ]
    },
    {
     "data": {
      "text/html": [
       "\n",
       "Outlier preprocessing ..."
      ],
      "text/plain": [
       "<IPython.core.display.HTML object>"
      ]
     },
     "metadata": {},
     "output_type": "display_data"
    },
    {
     "name": "stdout",
     "output_type": "stream",
     "text": [
      "                                                                                                                                                                                                                                                                                                                                                                                                                                                                                                                    \n",
      "No outlier found!\n",
      "                                                                                         \r"
     ]
    },
    {
     "data": {
      "text/html": [
       "Analysis indicates not outlier in the dataset. No Action Taken."
      ],
      "text/plain": [
       "<IPython.core.display.HTML object>"
      ]
     },
     "metadata": {},
     "output_type": "display_data"
    },
    {
     "name": "stdout",
     "output_type": "stream",
     "text": [
      "                                                                                         \r"
     ]
    },
    {
     "data": {
      "text/html": [
       "Time Taken by Outlier processing: 17.47 sec "
      ],
      "text/plain": [
       "<IPython.core.display.HTML object>"
      ]
     },
     "metadata": {},
     "output_type": "display_data"
    },
    {
     "name": "stdout",
     "output_type": "stream",
     "text": [
      "                                                                                         \r"
     ]
    },
    {
     "data": {
      "text/html": [
       "\n",
       "Checking imbalance data ..."
      ],
      "text/plain": [
       "<IPython.core.display.HTML object>"
      ]
     },
     "metadata": {},
     "output_type": "display_data"
    },
    {
     "name": "stdout",
     "output_type": "stream",
     "text": [
      "                                                                                         \r"
     ]
    },
    {
     "data": {
      "text/html": [
       "Imbalance Found."
      ],
      "text/plain": [
       "<IPython.core.display.HTML object>"
      ]
     },
     "metadata": {},
     "output_type": "display_data"
    },
    {
     "name": "stdout",
     "output_type": "stream",
     "text": [
      "                                                                                         \r"
     ]
    },
    {
     "data": {
      "text/html": [
       "\n",
       "Starting data imbalance handling ..."
      ],
      "text/plain": [
       "<IPython.core.display.HTML object>"
      ]
     },
     "metadata": {},
     "output_type": "display_data"
    },
    {
     "name": "stdout",
     "output_type": "stream",
     "text": [
      "                                                                                         \r"
     ]
    },
    {
     "data": {
      "text/html": [
       "\n",
       "Balancing the data using SMOTE..."
      ],
      "text/plain": [
       "<IPython.core.display.HTML object>"
      ]
     },
     "metadata": {},
     "output_type": "display_data"
    },
    {
     "name": "stdout",
     "output_type": "stream",
     "text": [
      "                                                                                         \r"
     ]
    },
    {
     "data": {
      "text/html": [
       "Handled imbalanced dataset using SMOTE: 0.03 sec"
      ],
      "text/plain": [
       "<IPython.core.display.HTML object>"
      ]
     },
     "metadata": {},
     "output_type": "display_data"
    },
    {
     "name": "stdout",
     "output_type": "stream",
     "text": [
      "                                                                                         \r"
     ]
    },
    {
     "data": {
      "text/html": [
       "Completed data imbalance handling."
      ],
      "text/plain": [
       "<IPython.core.display.HTML object>"
      ]
     },
     "metadata": {},
     "output_type": "display_data"
    },
    {
     "name": "stdout",
     "output_type": "stream",
     "text": [
      "                                                                                          \r"
     ]
    },
    {
     "data": {
      "text/html": [
       "\n",
       "Feature selection using lasso ..."
      ],
      "text/plain": [
       "<IPython.core.display.HTML object>"
      ]
     },
     "metadata": {},
     "output_type": "display_data"
    },
    {
     "name": "stdout",
     "output_type": "stream",
     "text": [
      "                                                                                          \r"
     ]
    },
    {
     "data": {
      "text/html": [
       "feature selected by lasso:"
      ],
      "text/plain": [
       "<IPython.core.display.HTML object>"
      ]
     },
     "metadata": {},
     "output_type": "display_data"
    },
    {
     "name": "stdout",
     "output_type": "stream",
     "text": [
      "['weight', 'gender_1', 'gender_0', 'height']\n",
      "                                                                                          \r"
     ]
    },
    {
     "data": {
      "text/html": [
       "Total time taken by feature selection: 3.60 sec  "
      ],
      "text/plain": [
       "<IPython.core.display.HTML object>"
      ]
     },
     "metadata": {},
     "output_type": "display_data"
    },
    {
     "name": "stdout",
     "output_type": "stream",
     "text": [
      "                                                                                          \r"
     ]
    },
    {
     "data": {
      "text/html": [
       "\n",
       "scaling Features of lasso data ..."
      ],
      "text/plain": [
       "<IPython.core.display.HTML object>"
      ]
     },
     "metadata": {},
     "output_type": "display_data"
    },
    {
     "name": "stdout",
     "output_type": "stream",
     "text": [
      "                                                                                          \r"
     ]
    },
    {
     "data": {
      "text/html": [
       "columns that will be scaled: "
      ],
      "text/plain": [
       "<IPython.core.display.HTML object>"
      ]
     },
     "metadata": {},
     "output_type": "display_data"
    },
    {
     "name": "stdout",
     "output_type": "stream",
     "text": [
      "['weight', 'height']\n",
      "                                                                                          \r"
     ]
    },
    {
     "data": {
      "text/html": [
       "Training dataset sample after scaling:"
      ],
      "text/plain": [
       "<IPython.core.display.HTML object>"
      ]
     },
     "metadata": {},
     "output_type": "display_data"
    },
    {
     "data": {
      "text/html": [
       "<style type=\"text/css\">\n",
       "\ttable {border:ridge 5px;}\n",
       "\ttable td {border:inset 1px;}\n",
       "\ttable tr#HeaderRow {background-color:grey; color:white;}</style>\n",
       "<html><table>\n",
       "\t<tr id=\"HeaderRow\">\n",
       "\t\t<th>id</th>\n",
       "\t\t<th>gender_0</th>\n",
       "\t\t<th>gender_1</th>\n",
       "\t\t<th>bmi</th>\n",
       "\t\t<th>weight</th>\n",
       "\t\t<th>height</th>\n",
       "\t</tr>\n",
       "\t<tr>\n",
       "\t\t<td>2</td>\n",
       "\t\t<td>1</td>\n",
       "\t\t<td>0</td>\n",
       "\t\t<td>5</td>\n",
       "\t\t<td>0.4</td>\n",
       "\t\t<td>0.11864406779661017</td>\n",
       "\t</tr>\n",
       "\t<tr>\n",
       "\t\t<td>4</td>\n",
       "\t\t<td>1</td>\n",
       "\t\t<td>0</td>\n",
       "\t\t<td>5</td>\n",
       "\t\t<td>0.9363636363636364</td>\n",
       "\t\t<td>0.4406779661016949</td>\n",
       "\t</tr>\n",
       "\t<tr>\n",
       "\t\t<td>5</td>\n",
       "\t\t<td>0</td>\n",
       "\t\t<td>1</td>\n",
       "\t\t<td>5</td>\n",
       "\t\t<td>0.9454545454545454</td>\n",
       "\t\t<td>0.3220338983050847</td>\n",
       "\t</tr>\n",
       "\t<tr>\n",
       "\t\t<td>6</td>\n",
       "\t\t<td>1</td>\n",
       "\t\t<td>0</td>\n",
       "\t\t<td>3</td>\n",
       "\t\t<td>0.4</td>\n",
       "\t\t<td>0.6949152542372882</td>\n",
       "\t</tr>\n",
       "\t<tr>\n",
       "\t\t<td>8</td>\n",
       "\t\t<td>1</td>\n",
       "\t\t<td>0</td>\n",
       "\t\t<td>3</td>\n",
       "\t\t<td>0.4727272727272727</td>\n",
       "\t\t<td>0.7966101694915254</td>\n",
       "\t</tr>\n",
       "\t<tr>\n",
       "\t\t<td>9</td>\n",
       "\t\t<td>0</td>\n",
       "\t\t<td>1</td>\n",
       "\t\t<td>2</td>\n",
       "\t\t<td>0.06363636363636363</td>\n",
       "\t\t<td>0.2542372881355932</td>\n",
       "\t</tr>\n",
       "\t<tr>\n",
       "\t\t<td>7</td>\n",
       "\t\t<td>0</td>\n",
       "\t\t<td>1</td>\n",
       "\t\t<td>5</td>\n",
       "\t\t<td>0.9818181818181818</td>\n",
       "\t\t<td>0.4745762711864407</td>\n",
       "\t</tr>\n",
       "\t<tr>\n",
       "\t\t<td>3</td>\n",
       "\t\t<td>0</td>\n",
       "\t\t<td>1</td>\n",
       "\t\t<td>3</td>\n",
       "\t\t<td>0.36363636363636365</td>\n",
       "\t\t<td>0.576271186440678</td>\n",
       "\t</tr>\n",
       "\t<tr>\n",
       "\t\t<td>1</td>\n",
       "\t\t<td>0</td>\n",
       "\t\t<td>1</td>\n",
       "\t\t<td>4</td>\n",
       "\t\t<td>0.4090909090909091</td>\n",
       "\t\t<td>0.5084745762711864</td>\n",
       "\t</tr>\n",
       "\t<tr>\n",
       "\t\t<td>0</td>\n",
       "\t\t<td>1</td>\n",
       "\t\t<td>0</td>\n",
       "\t\t<td>5</td>\n",
       "\t\t<td>0.9818181818181818</td>\n",
       "\t\t<td>0.1864406779661017</td>\n",
       "\t</tr>\n",
       "</table></html>"
      ],
      "text/plain": [
       "   id  gender_0  gender_1  bmi    weight    height\n",
       "0   2         1         0    5  0.400000  0.118644\n",
       "1   4         1         0    5  0.936364  0.440678\n",
       "2   5         0         1    5  0.945455  0.322034\n",
       "3   6         1         0    3  0.400000  0.694915\n",
       "4   8         1         0    3  0.472727  0.796610\n",
       "5   9         0         1    2  0.063636  0.254237\n",
       "6   7         0         1    5  0.981818  0.474576\n",
       "7   3         0         1    3  0.363636  0.576271\n",
       "8   1         0         1    4  0.409091  0.508475\n",
       "9   0         1         0    5  0.981818  0.186441"
      ]
     },
     "metadata": {},
     "output_type": "display_data"
    },
    {
     "name": "stdout",
     "output_type": "stream",
     "text": [
      "                                                                                          \r"
     ]
    },
    {
     "data": {
      "text/html": [
       "512 rows X 6 columns"
      ],
      "text/plain": [
       "<IPython.core.display.HTML object>"
      ]
     },
     "metadata": {},
     "output_type": "display_data"
    },
    {
     "name": "stdout",
     "output_type": "stream",
     "text": [
      "                                                                                          \r"
     ]
    },
    {
     "data": {
      "text/html": [
       "Testing dataset sample after scaling:"
      ],
      "text/plain": [
       "<IPython.core.display.HTML object>"
      ]
     },
     "metadata": {},
     "output_type": "display_data"
    },
    {
     "data": {
      "text/html": [
       "<style type=\"text/css\">\n",
       "\ttable {border:ridge 5px;}\n",
       "\ttable td {border:inset 1px;}\n",
       "\ttable tr#HeaderRow {background-color:grey; color:white;}</style>\n",
       "<html><table>\n",
       "\t<tr id=\"HeaderRow\">\n",
       "\t\t<th>id</th>\n",
       "\t\t<th>gender_0</th>\n",
       "\t\t<th>gender_1</th>\n",
       "\t\t<th>bmi</th>\n",
       "\t\t<th>weight</th>\n",
       "\t\t<th>height</th>\n",
       "\t</tr>\n",
       "\t<tr>\n",
       "\t\t<td>127</td>\n",
       "\t\t<td>1</td>\n",
       "\t\t<td>0</td>\n",
       "\t\t<td>5</td>\n",
       "\t\t<td>0.6909090909090909</td>\n",
       "\t\t<td>0.01694915254237288</td>\n",
       "\t</tr>\n",
       "\t<tr>\n",
       "\t\t<td>191</td>\n",
       "\t\t<td>1</td>\n",
       "\t\t<td>0</td>\n",
       "\t\t<td>4</td>\n",
       "\t\t<td>0.8636363636363636</td>\n",
       "\t\t<td>0.9830508474576272</td>\n",
       "\t</tr>\n",
       "\t<tr>\n",
       "\t\t<td>188</td>\n",
       "\t\t<td>0</td>\n",
       "\t\t<td>1</td>\n",
       "\t\t<td>2</td>\n",
       "\t\t<td>0.05454545454545454</td>\n",
       "\t\t<td>0.288135593220339</td>\n",
       "\t</tr>\n",
       "\t<tr>\n",
       "\t\t<td>207</td>\n",
       "\t\t<td>1</td>\n",
       "\t\t<td>0</td>\n",
       "\t\t<td>4</td>\n",
       "\t\t<td>0.33636363636363636</td>\n",
       "\t\t<td>0.1694915254237288</td>\n",
       "\t</tr>\n",
       "\t<tr>\n",
       "\t\t<td>215</td>\n",
       "\t\t<td>1</td>\n",
       "\t\t<td>0</td>\n",
       "\t\t<td>5</td>\n",
       "\t\t<td>0.42727272727272725</td>\n",
       "\t\t<td>0.1694915254237288</td>\n",
       "\t</tr>\n",
       "\t<tr>\n",
       "\t\t<td>212</td>\n",
       "\t\t<td>0</td>\n",
       "\t\t<td>1</td>\n",
       "\t\t<td>4</td>\n",
       "\t\t<td>0.17272727272727273</td>\n",
       "\t\t<td>0.03389830508474576</td>\n",
       "\t</tr>\n",
       "\t<tr>\n",
       "\t\t<td>204</td>\n",
       "\t\t<td>0</td>\n",
       "\t\t<td>1</td>\n",
       "\t\t<td>5</td>\n",
       "\t\t<td>0.8272727272727273</td>\n",
       "\t\t<td>0.2033898305084746</td>\n",
       "\t</tr>\n",
       "\t<tr>\n",
       "\t\t<td>124</td>\n",
       "\t\t<td>0</td>\n",
       "\t\t<td>1</td>\n",
       "\t\t<td>5</td>\n",
       "\t\t<td>0.4909090909090909</td>\n",
       "\t\t<td>0.3220338983050847</td>\n",
       "\t</tr>\n",
       "\t<tr>\n",
       "\t\t<td>28</td>\n",
       "\t\t<td>0</td>\n",
       "\t\t<td>1</td>\n",
       "\t\t<td>5</td>\n",
       "\t\t<td>0.8090909090909091</td>\n",
       "\t\t<td>0.559322033898305</td>\n",
       "\t</tr>\n",
       "\t<tr>\n",
       "\t\t<td>31</td>\n",
       "\t\t<td>1</td>\n",
       "\t\t<td>0</td>\n",
       "\t\t<td>4</td>\n",
       "\t\t<td>0.3</td>\n",
       "\t\t<td>0.3389830508474576</td>\n",
       "\t</tr>\n",
       "</table></html>"
      ],
      "text/plain": [
       "    id  gender_0  gender_1  bmi    weight    height\n",
       "0  127         1         0    5  0.690909  0.016949\n",
       "1  191         1         0    4  0.863636  0.983051\n",
       "2  188         0         1    2  0.054545  0.288136\n",
       "3  207         1         0    4  0.336364  0.169492\n",
       "4  215         1         0    5  0.427273  0.169492\n",
       "5  212         0         1    4  0.172727  0.033898\n",
       "6  204         0         1    5  0.827273  0.203390\n",
       "7  124         0         1    5  0.490909  0.322034\n",
       "8   28         0         1    5  0.809091  0.559322\n",
       "9   31         1         0    4  0.300000  0.338983"
      ]
     },
     "metadata": {},
     "output_type": "display_data"
    },
    {
     "name": "stdout",
     "output_type": "stream",
     "text": [
      "                                                                                          \r"
     ]
    },
    {
     "data": {
      "text/html": [
       "74 rows X 6 columns"
      ],
      "text/plain": [
       "<IPython.core.display.HTML object>"
      ]
     },
     "metadata": {},
     "output_type": "display_data"
    },
    {
     "name": "stdout",
     "output_type": "stream",
     "text": [
      "                                                                                          \r"
     ]
    },
    {
     "data": {
      "text/html": [
       "Total time taken by feature scaling: 36.37 sec"
      ],
      "text/plain": [
       "<IPython.core.display.HTML object>"
      ]
     },
     "metadata": {},
     "output_type": "display_data"
    },
    {
     "name": "stdout",
     "output_type": "stream",
     "text": [
      "                                                                                          \r"
     ]
    },
    {
     "data": {
      "text/html": [
       "\n",
       "Feature selection using rfe ..."
      ],
      "text/plain": [
       "<IPython.core.display.HTML object>"
      ]
     },
     "metadata": {},
     "output_type": "display_data"
    },
    {
     "name": "stdout",
     "output_type": "stream",
     "text": [
      "                                                                                          \r"
     ]
    },
    {
     "data": {
      "text/html": [
       "feature selected by RFE:"
      ],
      "text/plain": [
       "<IPython.core.display.HTML object>"
      ]
     },
     "metadata": {},
     "output_type": "display_data"
    },
    {
     "name": "stdout",
     "output_type": "stream",
     "text": [
      "['height', 'weight']\n",
      "                                                                                          \r"
     ]
    },
    {
     "data": {
      "text/html": [
       "Total time taken by feature selection: 8.09 sec  "
      ],
      "text/plain": [
       "<IPython.core.display.HTML object>"
      ]
     },
     "metadata": {},
     "output_type": "display_data"
    },
    {
     "name": "stdout",
     "output_type": "stream",
     "text": [
      "                                                                                          \r"
     ]
    },
    {
     "data": {
      "text/html": [
       "\n",
       "scaling Features of rfe data ..."
      ],
      "text/plain": [
       "<IPython.core.display.HTML object>"
      ]
     },
     "metadata": {},
     "output_type": "display_data"
    },
    {
     "name": "stdout",
     "output_type": "stream",
     "text": [
      "                                                                                          \r"
     ]
    },
    {
     "data": {
      "text/html": [
       "columns that will be scaled: "
      ],
      "text/plain": [
       "<IPython.core.display.HTML object>"
      ]
     },
     "metadata": {},
     "output_type": "display_data"
    },
    {
     "name": "stdout",
     "output_type": "stream",
     "text": [
      "['r_height', 'r_weight']\n",
      "                                                                                          \r"
     ]
    },
    {
     "data": {
      "text/html": [
       "Training dataset sample after scaling:"
      ],
      "text/plain": [
       "<IPython.core.display.HTML object>"
      ]
     },
     "metadata": {},
     "output_type": "display_data"
    },
    {
     "data": {
      "text/html": [
       "<style type=\"text/css\">\n",
       "\ttable {border:ridge 5px;}\n",
       "\ttable td {border:inset 1px;}\n",
       "\ttable tr#HeaderRow {background-color:grey; color:white;}</style>\n",
       "<html><table>\n",
       "\t<tr id=\"HeaderRow\">\n",
       "\t\t<th>id</th>\n",
       "\t\t<th>bmi</th>\n",
       "\t\t<th>r_height</th>\n",
       "\t\t<th>r_weight</th>\n",
       "\t</tr>\n",
       "\t<tr>\n",
       "\t\t<td>2</td>\n",
       "\t\t<td>5</td>\n",
       "\t\t<td>0.11864406779661017</td>\n",
       "\t\t<td>0.4</td>\n",
       "\t</tr>\n",
       "\t<tr>\n",
       "\t\t<td>4</td>\n",
       "\t\t<td>5</td>\n",
       "\t\t<td>0.4406779661016949</td>\n",
       "\t\t<td>0.9363636363636364</td>\n",
       "\t</tr>\n",
       "\t<tr>\n",
       "\t\t<td>5</td>\n",
       "\t\t<td>5</td>\n",
       "\t\t<td>0.3220338983050847</td>\n",
       "\t\t<td>0.9454545454545454</td>\n",
       "\t</tr>\n",
       "\t<tr>\n",
       "\t\t<td>6</td>\n",
       "\t\t<td>3</td>\n",
       "\t\t<td>0.6949152542372882</td>\n",
       "\t\t<td>0.4</td>\n",
       "\t</tr>\n",
       "\t<tr>\n",
       "\t\t<td>8</td>\n",
       "\t\t<td>3</td>\n",
       "\t\t<td>0.7966101694915254</td>\n",
       "\t\t<td>0.4727272727272727</td>\n",
       "\t</tr>\n",
       "\t<tr>\n",
       "\t\t<td>9</td>\n",
       "\t\t<td>2</td>\n",
       "\t\t<td>0.2542372881355932</td>\n",
       "\t\t<td>0.06363636363636363</td>\n",
       "\t</tr>\n",
       "\t<tr>\n",
       "\t\t<td>7</td>\n",
       "\t\t<td>5</td>\n",
       "\t\t<td>0.4745762711864407</td>\n",
       "\t\t<td>0.9818181818181818</td>\n",
       "\t</tr>\n",
       "\t<tr>\n",
       "\t\t<td>3</td>\n",
       "\t\t<td>3</td>\n",
       "\t\t<td>0.576271186440678</td>\n",
       "\t\t<td>0.36363636363636365</td>\n",
       "\t</tr>\n",
       "\t<tr>\n",
       "\t\t<td>1</td>\n",
       "\t\t<td>4</td>\n",
       "\t\t<td>0.5084745762711864</td>\n",
       "\t\t<td>0.4090909090909091</td>\n",
       "\t</tr>\n",
       "\t<tr>\n",
       "\t\t<td>0</td>\n",
       "\t\t<td>5</td>\n",
       "\t\t<td>0.1864406779661017</td>\n",
       "\t\t<td>0.9818181818181818</td>\n",
       "\t</tr>\n",
       "</table></html>"
      ],
      "text/plain": [
       "   id  bmi  r_height  r_weight\n",
       "0   2    5  0.118644  0.400000\n",
       "1   4    5  0.440678  0.936364\n",
       "2   5    5  0.322034  0.945455\n",
       "3   6    3  0.694915  0.400000\n",
       "4   8    3  0.796610  0.472727\n",
       "5   9    2  0.254237  0.063636\n",
       "6   7    5  0.474576  0.981818\n",
       "7   3    3  0.576271  0.363636\n",
       "8   1    4  0.508475  0.409091\n",
       "9   0    5  0.186441  0.981818"
      ]
     },
     "metadata": {},
     "output_type": "display_data"
    },
    {
     "name": "stdout",
     "output_type": "stream",
     "text": [
      "                                                                                          \r"
     ]
    },
    {
     "data": {
      "text/html": [
       "512 rows X 4 columns"
      ],
      "text/plain": [
       "<IPython.core.display.HTML object>"
      ]
     },
     "metadata": {},
     "output_type": "display_data"
    },
    {
     "name": "stdout",
     "output_type": "stream",
     "text": [
      "                                                                                          \r"
     ]
    },
    {
     "data": {
      "text/html": [
       "Testing dataset sample after scaling:"
      ],
      "text/plain": [
       "<IPython.core.display.HTML object>"
      ]
     },
     "metadata": {},
     "output_type": "display_data"
    },
    {
     "data": {
      "text/html": [
       "<style type=\"text/css\">\n",
       "\ttable {border:ridge 5px;}\n",
       "\ttable td {border:inset 1px;}\n",
       "\ttable tr#HeaderRow {background-color:grey; color:white;}</style>\n",
       "<html><table>\n",
       "\t<tr id=\"HeaderRow\">\n",
       "\t\t<th>id</th>\n",
       "\t\t<th>bmi</th>\n",
       "\t\t<th>r_height</th>\n",
       "\t\t<th>r_weight</th>\n",
       "\t</tr>\n",
       "\t<tr>\n",
       "\t\t<td>127</td>\n",
       "\t\t<td>5</td>\n",
       "\t\t<td>0.01694915254237288</td>\n",
       "\t\t<td>0.6909090909090909</td>\n",
       "\t</tr>\n",
       "\t<tr>\n",
       "\t\t<td>191</td>\n",
       "\t\t<td>4</td>\n",
       "\t\t<td>0.9830508474576272</td>\n",
       "\t\t<td>0.8636363636363636</td>\n",
       "\t</tr>\n",
       "\t<tr>\n",
       "\t\t<td>188</td>\n",
       "\t\t<td>2</td>\n",
       "\t\t<td>0.288135593220339</td>\n",
       "\t\t<td>0.05454545454545454</td>\n",
       "\t</tr>\n",
       "\t<tr>\n",
       "\t\t<td>207</td>\n",
       "\t\t<td>4</td>\n",
       "\t\t<td>0.1694915254237288</td>\n",
       "\t\t<td>0.33636363636363636</td>\n",
       "\t</tr>\n",
       "\t<tr>\n",
       "\t\t<td>215</td>\n",
       "\t\t<td>5</td>\n",
       "\t\t<td>0.1694915254237288</td>\n",
       "\t\t<td>0.42727272727272725</td>\n",
       "\t</tr>\n",
       "\t<tr>\n",
       "\t\t<td>212</td>\n",
       "\t\t<td>4</td>\n",
       "\t\t<td>0.03389830508474576</td>\n",
       "\t\t<td>0.17272727272727273</td>\n",
       "\t</tr>\n",
       "\t<tr>\n",
       "\t\t<td>204</td>\n",
       "\t\t<td>5</td>\n",
       "\t\t<td>0.2033898305084746</td>\n",
       "\t\t<td>0.8272727272727273</td>\n",
       "\t</tr>\n",
       "\t<tr>\n",
       "\t\t<td>124</td>\n",
       "\t\t<td>5</td>\n",
       "\t\t<td>0.3220338983050847</td>\n",
       "\t\t<td>0.4909090909090909</td>\n",
       "\t</tr>\n",
       "\t<tr>\n",
       "\t\t<td>28</td>\n",
       "\t\t<td>5</td>\n",
       "\t\t<td>0.559322033898305</td>\n",
       "\t\t<td>0.8090909090909091</td>\n",
       "\t</tr>\n",
       "\t<tr>\n",
       "\t\t<td>31</td>\n",
       "\t\t<td>4</td>\n",
       "\t\t<td>0.3389830508474576</td>\n",
       "\t\t<td>0.3</td>\n",
       "\t</tr>\n",
       "</table></html>"
      ],
      "text/plain": [
       "    id  bmi  r_height  r_weight\n",
       "0  127    5  0.016949  0.690909\n",
       "1  191    4  0.983051  0.863636\n",
       "2  188    2  0.288136  0.054545\n",
       "3  207    4  0.169492  0.336364\n",
       "4  215    5  0.169492  0.427273\n",
       "5  212    4  0.033898  0.172727\n",
       "6  204    5  0.203390  0.827273\n",
       "7  124    5  0.322034  0.490909\n",
       "8   28    5  0.559322  0.809091\n",
       "9   31    4  0.338983  0.300000"
      ]
     },
     "metadata": {},
     "output_type": "display_data"
    },
    {
     "name": "stdout",
     "output_type": "stream",
     "text": [
      "                                                                                          \r"
     ]
    },
    {
     "data": {
      "text/html": [
       "74 rows X 4 columns"
      ],
      "text/plain": [
       "<IPython.core.display.HTML object>"
      ]
     },
     "metadata": {},
     "output_type": "display_data"
    },
    {
     "name": "stdout",
     "output_type": "stream",
     "text": [
      "                                                                                          \r"
     ]
    },
    {
     "data": {
      "text/html": [
       "Total time taken by feature scaling: 33.22 sec"
      ],
      "text/plain": [
       "<IPython.core.display.HTML object>"
      ]
     },
     "metadata": {},
     "output_type": "display_data"
    },
    {
     "name": "stdout",
     "output_type": "stream",
     "text": [
      "                                                                                          \r"
     ]
    },
    {
     "data": {
      "text/html": [
       "\n",
       "scaling Features of pca data ..."
      ],
      "text/plain": [
       "<IPython.core.display.HTML object>"
      ]
     },
     "metadata": {},
     "output_type": "display_data"
    },
    {
     "name": "stdout",
     "output_type": "stream",
     "text": [
      "                                                                                          \r"
     ]
    },
    {
     "data": {
      "text/html": [
       "columns that will be scaled: "
      ],
      "text/plain": [
       "<IPython.core.display.HTML object>"
      ]
     },
     "metadata": {},
     "output_type": "display_data"
    },
    {
     "name": "stdout",
     "output_type": "stream",
     "text": [
      "['height', 'weight']\n",
      "                                                                                          \r"
     ]
    },
    {
     "data": {
      "text/html": [
       "Training dataset sample after scaling:"
      ],
      "text/plain": [
       "<IPython.core.display.HTML object>"
      ]
     },
     "metadata": {},
     "output_type": "display_data"
    },
    {
     "data": {
      "text/html": [
       "<style type=\"text/css\">\n",
       "\ttable {border:ridge 5px;}\n",
       "\ttable td {border:inset 1px;}\n",
       "\ttable tr#HeaderRow {background-color:grey; color:white;}</style>\n",
       "<html><table>\n",
       "\t<tr id=\"HeaderRow\">\n",
       "\t\t<th>id</th>\n",
       "\t\t<th>gender_0</th>\n",
       "\t\t<th>gender_1</th>\n",
       "\t\t<th>bmi</th>\n",
       "\t\t<th>height</th>\n",
       "\t\t<th>weight</th>\n",
       "\t</tr>\n",
       "\t<tr>\n",
       "\t\t<td>39</td>\n",
       "\t\t<td>1</td>\n",
       "\t\t<td>0</td>\n",
       "\t\t<td>5</td>\n",
       "\t\t<td>0.4406779661016949</td>\n",
       "\t\t<td>0.9363636363636364</td>\n",
       "\t</tr>\n",
       "\t<tr>\n",
       "\t\t<td>55</td>\n",
       "\t\t<td>1</td>\n",
       "\t\t<td>0</td>\n",
       "\t\t<td>3</td>\n",
       "\t\t<td>0.7966101694915254</td>\n",
       "\t\t<td>0.4727272727272727</td>\n",
       "\t</tr>\n",
       "\t<tr>\n",
       "\t\t<td>63</td>\n",
       "\t\t<td>1</td>\n",
       "\t\t<td>0</td>\n",
       "\t\t<td>4</td>\n",
       "\t\t<td>0.8135593220338984</td>\n",
       "\t\t<td>0.6545454545454545</td>\n",
       "\t</tr>\n",
       "\t<tr>\n",
       "\t\t<td>71</td>\n",
       "\t\t<td>1</td>\n",
       "\t\t<td>0</td>\n",
       "\t\t<td>5</td>\n",
       "\t\t<td>0.4067796610169492</td>\n",
       "\t\t<td>0.8363636363636363</td>\n",
       "\t</tr>\n",
       "\t<tr>\n",
       "\t\t<td>87</td>\n",
       "\t\t<td>1</td>\n",
       "\t\t<td>0</td>\n",
       "\t\t<td>5</td>\n",
       "\t\t<td>0.5932203389830508</td>\n",
       "\t\t<td>0.8272727272727273</td>\n",
       "\t</tr>\n",
       "\t<tr>\n",
       "\t\t<td>95</td>\n",
       "\t\t<td>1</td>\n",
       "\t\t<td>0</td>\n",
       "\t\t<td>5</td>\n",
       "\t\t<td>0.05084745762711865</td>\n",
       "\t\t<td>0.6181818181818182</td>\n",
       "\t</tr>\n",
       "\t<tr>\n",
       "\t\t<td>12</td>\n",
       "\t\t<td>0</td>\n",
       "\t\t<td>1</td>\n",
       "\t\t<td>4</td>\n",
       "\t\t<td>0.5084745762711864</td>\n",
       "\t\t<td>0.4090909090909091</td>\n",
       "\t</tr>\n",
       "\t<tr>\n",
       "\t\t<td>20</td>\n",
       "\t\t<td>0</td>\n",
       "\t\t<td>1</td>\n",
       "\t\t<td>3</td>\n",
       "\t\t<td>0.576271186440678</td>\n",
       "\t\t<td>0.36363636363636365</td>\n",
       "\t</tr>\n",
       "\t<tr>\n",
       "\t\t<td>36</td>\n",
       "\t\t<td>0</td>\n",
       "\t\t<td>1</td>\n",
       "\t\t<td>5</td>\n",
       "\t\t<td>0.3220338983050847</td>\n",
       "\t\t<td>0.9454545454545454</td>\n",
       "\t</tr>\n",
       "\t<tr>\n",
       "\t\t<td>44</td>\n",
       "\t\t<td>0</td>\n",
       "\t\t<td>1</td>\n",
       "\t\t<td>5</td>\n",
       "\t\t<td>0.4745762711864407</td>\n",
       "\t\t<td>0.9818181818181818</td>\n",
       "\t</tr>\n",
       "</table></html>"
      ],
      "text/plain": [
       "   id  gender_0  gender_1  bmi    height    weight\n",
       "0  39         1         0    5  0.440678  0.936364\n",
       "1  55         1         0    3  0.796610  0.472727\n",
       "2  63         1         0    4  0.813559  0.654545\n",
       "3  71         1         0    5  0.406780  0.836364\n",
       "4  87         1         0    5  0.593220  0.827273\n",
       "5  95         1         0    5  0.050847  0.618182\n",
       "6  12         0         1    4  0.508475  0.409091\n",
       "7  20         0         1    3  0.576271  0.363636\n",
       "8  36         0         1    5  0.322034  0.945455\n",
       "9  44         0         1    5  0.474576  0.981818"
      ]
     },
     "metadata": {},
     "output_type": "display_data"
    },
    {
     "name": "stdout",
     "output_type": "stream",
     "text": [
      "                                                                                          \r"
     ]
    },
    {
     "data": {
      "text/html": [
       "294 rows X 6 columns"
      ],
      "text/plain": [
       "<IPython.core.display.HTML object>"
      ]
     },
     "metadata": {},
     "output_type": "display_data"
    },
    {
     "name": "stdout",
     "output_type": "stream",
     "text": [
      "                                                                                          \r"
     ]
    },
    {
     "data": {
      "text/html": [
       "Testing dataset sample after scaling:"
      ],
      "text/plain": [
       "<IPython.core.display.HTML object>"
      ]
     },
     "metadata": {},
     "output_type": "display_data"
    },
    {
     "data": {
      "text/html": [
       "<style type=\"text/css\">\n",
       "\ttable {border:ridge 5px;}\n",
       "\ttable td {border:inset 1px;}\n",
       "\ttable tr#HeaderRow {background-color:grey; color:white;}</style>\n",
       "<html><table>\n",
       "\t<tr id=\"HeaderRow\">\n",
       "\t\t<th>id</th>\n",
       "\t\t<th>gender_0</th>\n",
       "\t\t<th>gender_1</th>\n",
       "\t\t<th>bmi</th>\n",
       "\t\t<th>height</th>\n",
       "\t\t<th>weight</th>\n",
       "\t</tr>\n",
       "\t<tr>\n",
       "\t\t<td>188</td>\n",
       "\t\t<td>0</td>\n",
       "\t\t<td>1</td>\n",
       "\t\t<td>2</td>\n",
       "\t\t<td>0.288135593220339</td>\n",
       "\t\t<td>0.05454545454545454</td>\n",
       "\t</tr>\n",
       "\t<tr>\n",
       "\t\t<td>212</td>\n",
       "\t\t<td>0</td>\n",
       "\t\t<td>1</td>\n",
       "\t\t<td>4</td>\n",
       "\t\t<td>0.03389830508474576</td>\n",
       "\t\t<td>0.17272727272727273</td>\n",
       "\t</tr>\n",
       "\t<tr>\n",
       "\t\t<td>244</td>\n",
       "\t\t<td>0</td>\n",
       "\t\t<td>1</td>\n",
       "\t\t<td>5</td>\n",
       "\t\t<td>0.23728813559322035</td>\n",
       "\t\t<td>0.5</td>\n",
       "\t</tr>\n",
       "\t<tr>\n",
       "\t\t<td>372</td>\n",
       "\t\t<td>0</td>\n",
       "\t\t<td>1</td>\n",
       "\t\t<td>5</td>\n",
       "\t\t<td>0.3898305084745763</td>\n",
       "\t\t<td>0.7909090909090909</td>\n",
       "\t</tr>\n",
       "\t<tr>\n",
       "\t\t<td>484</td>\n",
       "\t\t<td>0</td>\n",
       "\t\t<td>1</td>\n",
       "\t\t<td>5</td>\n",
       "\t\t<td>0.01694915254237288</td>\n",
       "\t\t<td>0.32727272727272727</td>\n",
       "\t</tr>\n",
       "\t<tr>\n",
       "\t\t<td>540</td>\n",
       "\t\t<td>0</td>\n",
       "\t\t<td>1</td>\n",
       "\t\t<td>3</td>\n",
       "\t\t<td>0.8813559322033898</td>\n",
       "\t\t<td>0.4636363636363636</td>\n",
       "\t</tr>\n",
       "\t<tr>\n",
       "\t\t<td>31</td>\n",
       "\t\t<td>1</td>\n",
       "\t\t<td>0</td>\n",
       "\t\t<td>4</td>\n",
       "\t\t<td>0.3389830508474576</td>\n",
       "\t\t<td>0.3</td>\n",
       "\t</tr>\n",
       "\t<tr>\n",
       "\t\t<td>127</td>\n",
       "\t\t<td>1</td>\n",
       "\t\t<td>0</td>\n",
       "\t\t<td>5</td>\n",
       "\t\t<td>0.01694915254237288</td>\n",
       "\t\t<td>0.6909090909090909</td>\n",
       "\t</tr>\n",
       "\t<tr>\n",
       "\t\t<td>191</td>\n",
       "\t\t<td>1</td>\n",
       "\t\t<td>0</td>\n",
       "\t\t<td>4</td>\n",
       "\t\t<td>0.9830508474576272</td>\n",
       "\t\t<td>0.8636363636363636</td>\n",
       "\t</tr>\n",
       "\t<tr>\n",
       "\t\t<td>207</td>\n",
       "\t\t<td>1</td>\n",
       "\t\t<td>0</td>\n",
       "\t\t<td>4</td>\n",
       "\t\t<td>0.1694915254237288</td>\n",
       "\t\t<td>0.33636363636363636</td>\n",
       "\t</tr>\n",
       "</table></html>"
      ],
      "text/plain": [
       "    id  gender_0  gender_1  bmi    height    weight\n",
       "0  188         0         1    2  0.288136  0.054545\n",
       "1  212         0         1    4  0.033898  0.172727\n",
       "2  244         0         1    5  0.237288  0.500000\n",
       "3  372         0         1    5  0.389831  0.790909\n",
       "4  484         0         1    5  0.016949  0.327273\n",
       "5  540         0         1    3  0.881356  0.463636\n",
       "6   31         1         0    4  0.338983  0.300000\n",
       "7  127         1         0    5  0.016949  0.690909\n",
       "8  191         1         0    4  0.983051  0.863636\n",
       "9  207         1         0    4  0.169492  0.336364"
      ]
     },
     "metadata": {},
     "output_type": "display_data"
    },
    {
     "name": "stdout",
     "output_type": "stream",
     "text": [
      "                                                                                          \r"
     ]
    },
    {
     "data": {
      "text/html": [
       "74 rows X 6 columns"
      ],
      "text/plain": [
       "<IPython.core.display.HTML object>"
      ]
     },
     "metadata": {},
     "output_type": "display_data"
    },
    {
     "name": "stdout",
     "output_type": "stream",
     "text": [
      "                                                                                          \r"
     ]
    },
    {
     "data": {
      "text/html": [
       "Total time taken by feature scaling: 31.50 sec"
      ],
      "text/plain": [
       "<IPython.core.display.HTML object>"
      ]
     },
     "metadata": {},
     "output_type": "display_data"
    },
    {
     "name": "stdout",
     "output_type": "stream",
     "text": [
      "                                                                                          \r"
     ]
    },
    {
     "data": {
      "text/html": [
       "\n",
       "Dimension Reduction using pca ..."
      ],
      "text/plain": [
       "<IPython.core.display.HTML object>"
      ]
     },
     "metadata": {},
     "output_type": "display_data"
    },
    {
     "name": "stdout",
     "output_type": "stream",
     "text": [
      "                                                                                          \r"
     ]
    },
    {
     "data": {
      "text/html": [
       "PCA columns:"
      ],
      "text/plain": [
       "<IPython.core.display.HTML object>"
      ]
     },
     "metadata": {},
     "output_type": "display_data"
    },
    {
     "name": "stdout",
     "output_type": "stream",
     "text": [
      "['col_0', 'col_1', 'col_2']\n",
      "                                                                                          \r"
     ]
    },
    {
     "data": {
      "text/html": [
       "Total time taken by PCA: 9.32 sec  "
      ],
      "text/plain": [
       "<IPython.core.display.HTML object>"
      ]
     },
     "metadata": {},
     "output_type": "display_data"
    },
    {
     "name": "stdout",
     "output_type": "stream",
     "text": [
      "                                                                                          \r"
     ]
    },
    {
     "data": {
      "text/html": [
       "\n",
       "            <style>\n",
       "                .custom-div {\n",
       "                    background-color: lightgray;\n",
       "                    color: #000000;\n",
       "                    padding: 10px;\n",
       "                    border-radius: 8px;\n",
       "                    box-shadow: 0 3px 4px rgba(0 -  0 -  0 -  0.2);\n",
       "                    margin-bottom: 10px;\n",
       "                    text-align: center;\n",
       "                }\n",
       "            </style>\n",
       "        <br><div class=\"custom-div\"><h3><span style=\"color: green;\">1. Feature Exploration -> 2. Feature Engineering -> 3. Data Preparation -></span> 4. Model Training & Evaluation<center></h3></center></div>"
      ],
      "text/plain": [
       "<IPython.core.display.HTML object>"
      ]
     },
     "metadata": {},
     "output_type": "display_data"
    },
    {
     "name": "stdout",
     "output_type": "stream",
     "text": [
      "                                                                                          \r"
     ]
    },
    {
     "data": {
      "text/html": [
       "Model Training started ..."
      ],
      "text/plain": [
       "<IPython.core.display.HTML object>"
      ]
     },
     "metadata": {},
     "output_type": "display_data"
    },
    {
     "name": "stdout",
     "output_type": "stream",
     "text": [
      "                                                                                          \r"
     ]
    },
    {
     "data": {
      "text/html": [
       "\n",
       "Hyperparameters used for model training: "
      ],
      "text/plain": [
       "<IPython.core.display.HTML object>"
      ]
     },
     "metadata": {},
     "output_type": "display_data"
    },
    {
     "name": "stdout",
     "output_type": "stream",
     "text": [
      "response_column : bmi                                                                                                                                 \n",
      "name : knn\n",
      "model_type : Classification\n",
      "k : (3, 5, 6, 8, 10, 12)\n",
      "id_column : id\n",
      "voting_weight : 1.0\n",
      "Total number of models for knn : 6\n",
      "--------------------------------------------------------------------------------------------------------------------------------------------------------------------------------------------------------\n",
      "\n",
      "                                                                                          \r"
     ]
    },
    {
     "data": {
      "text/html": [
       "\n",
       "Performing hyperParameter tuning ..."
      ],
      "text/plain": [
       "<IPython.core.display.HTML object>"
      ]
     },
     "metadata": {},
     "output_type": "display_data"
    },
    {
     "name": "stdout",
     "output_type": "stream",
     "text": [
      "                                                                                          \r"
     ]
    },
    {
     "data": {
      "text/html": [
       "knn"
      ],
      "text/plain": [
       "<IPython.core.display.HTML object>"
      ]
     },
     "metadata": {},
     "output_type": "display_data"
    },
    {
     "name": "stdout",
     "output_type": "stream",
     "text": [
      "result data stored in table '\"ALICE\".\"ml__td_sqlmr_persist_out__1719264946657267\"'                                                                                                                      \n",
      "result data stored in table '\"ALICE\".\"ml__td_sqlmr_persist_out__1719260092858261\"'\n",
      "result data stored in table '\"ALICE\".\"ml__td_sqlmr_persist_out__1719265305174627\"'\n",
      "                                                                                          \r"
     ]
    },
    {
     "data": {
      "text/html": [
       "----------------------------------------------------------------------------------------------------"
      ],
      "text/plain": [
       "<IPython.core.display.HTML object>"
      ]
     },
     "metadata": {},
     "output_type": "display_data"
    },
    {
     "name": "stdout",
     "output_type": "stream",
     "text": [
      "                                                                                          \r"
     ]
    },
    {
     "data": {
      "text/html": [
       "Evaluating models performance ..."
      ],
      "text/plain": [
       "<IPython.core.display.HTML object>"
      ]
     },
     "metadata": {},
     "output_type": "display_data"
    },
    {
     "name": "stdout",
     "output_type": "stream",
     "text": [
      "                                                                                          \r"
     ]
    },
    {
     "data": {
      "text/html": [
       "Evaluation completed."
      ],
      "text/plain": [
       "<IPython.core.display.HTML object>"
      ]
     },
     "metadata": {},
     "output_type": "display_data"
    },
    {
     "name": "stdout",
     "output_type": "stream",
     "text": [
      "                                                                                          \r"
     ]
    },
    {
     "data": {
      "text/html": [
       "Leaderboard"
      ],
      "text/plain": [
       "<IPython.core.display.HTML object>"
      ]
     },
     "metadata": {},
     "output_type": "display_data"
    },
    {
     "data": {
      "text/html": [
       "<div>\n",
       "<style scoped>\n",
       "    .dataframe tbody tr th:only-of-type {\n",
       "        vertical-align: middle;\n",
       "    }\n",
       "\n",
       "    .dataframe tbody tr th {\n",
       "        vertical-align: top;\n",
       "    }\n",
       "\n",
       "    .dataframe thead th {\n",
       "        text-align: right;\n",
       "    }\n",
       "</style>\n",
       "<table border=\"1\" class=\"dataframe\">\n",
       "  <thead>\n",
       "    <tr style=\"text-align: right;\">\n",
       "      <th></th>\n",
       "      <th>Rank</th>\n",
       "      <th>Model-ID</th>\n",
       "      <th>Feature-Selection</th>\n",
       "      <th>Accuracy</th>\n",
       "      <th>Micro-Precision</th>\n",
       "      <th>Micro-Recall</th>\n",
       "      <th>Micro-F1</th>\n",
       "      <th>Macro-Precision</th>\n",
       "      <th>Macro-Recall</th>\n",
       "      <th>Macro-F1</th>\n",
       "      <th>Weighted-Precision</th>\n",
       "      <th>Weighted-Recall</th>\n",
       "      <th>Weighted-F1</th>\n",
       "    </tr>\n",
       "  </thead>\n",
       "  <tbody>\n",
       "    <tr>\n",
       "      <th>0</th>\n",
       "      <td>1</td>\n",
       "      <td>KNN_3</td>\n",
       "      <td>rfe</td>\n",
       "      <td>0.891892</td>\n",
       "      <td>0.891892</td>\n",
       "      <td>0.891892</td>\n",
       "      <td>0.891892</td>\n",
       "      <td>0.891379</td>\n",
       "      <td>0.886391</td>\n",
       "      <td>0.886185</td>\n",
       "      <td>0.899953</td>\n",
       "      <td>0.891892</td>\n",
       "      <td>0.892790</td>\n",
       "    </tr>\n",
       "    <tr>\n",
       "      <th>1</th>\n",
       "      <td>2</td>\n",
       "      <td>KNN_1</td>\n",
       "      <td>lasso</td>\n",
       "      <td>0.824324</td>\n",
       "      <td>0.824324</td>\n",
       "      <td>0.824324</td>\n",
       "      <td>0.824324</td>\n",
       "      <td>0.807751</td>\n",
       "      <td>0.789854</td>\n",
       "      <td>0.796909</td>\n",
       "      <td>0.827446</td>\n",
       "      <td>0.824324</td>\n",
       "      <td>0.824241</td>\n",
       "    </tr>\n",
       "    <tr>\n",
       "      <th>2</th>\n",
       "      <td>3</td>\n",
       "      <td>KNN_0</td>\n",
       "      <td>lasso</td>\n",
       "      <td>0.797297</td>\n",
       "      <td>0.797297</td>\n",
       "      <td>0.797297</td>\n",
       "      <td>0.797297</td>\n",
       "      <td>0.774444</td>\n",
       "      <td>0.759314</td>\n",
       "      <td>0.763394</td>\n",
       "      <td>0.803724</td>\n",
       "      <td>0.797297</td>\n",
       "      <td>0.797375</td>\n",
       "    </tr>\n",
       "  </tbody>\n",
       "</table>\n",
       "</div>"
      ],
      "text/plain": [
       "   Rank Model-ID Feature-Selection  Accuracy  Micro-Precision  Micro-Recall  \\\n",
       "0     1    KNN_3               rfe  0.891892         0.891892      0.891892   \n",
       "1     2    KNN_1             lasso  0.824324         0.824324      0.824324   \n",
       "2     3    KNN_0             lasso  0.797297         0.797297      0.797297   \n",
       "\n",
       "   Micro-F1  Macro-Precision  Macro-Recall  Macro-F1  Weighted-Precision  \\\n",
       "0  0.891892         0.891379      0.886391  0.886185            0.899953   \n",
       "1  0.824324         0.807751      0.789854  0.796909            0.827446   \n",
       "2  0.797297         0.774444      0.759314  0.763394            0.803724   \n",
       "\n",
       "   Weighted-Recall  Weighted-F1  \n",
       "0         0.891892     0.892790  \n",
       "1         0.824324     0.824241  \n",
       "2         0.797297     0.797375  "
      ]
     },
     "metadata": {},
     "output_type": "display_data"
    },
    {
     "name": "stdout",
     "output_type": "stream",
     "text": [
      "                                                                                          \r"
     ]
    },
    {
     "data": {
      "text/html": [
       "3 rows X 13 columns"
      ],
      "text/plain": [
       "<IPython.core.display.HTML object>"
      ]
     },
     "metadata": {},
     "output_type": "display_data"
    },
    {
     "name": "stdout",
     "output_type": "stream",
     "text": [
      "                                                                                          \r"
     ]
    },
    {
     "data": {
      "text/html": [
       "\n",
       "            <style>\n",
       "                .custom-div {\n",
       "                    background-color: lightgray;\n",
       "                    color: #000000;\n",
       "                    padding: 10px;\n",
       "                    border-radius: 8px;\n",
       "                    box-shadow: 0 3px 4px rgba(0 -  0 -  0 -  0.2);\n",
       "                    margin-bottom: 10px;\n",
       "                    text-align: center;\n",
       "                }\n",
       "            </style>\n",
       "        <br><div class=\"custom-div\"><h3><span style=\"color: green;\">1. Feature Exploration -> 2. Feature Engineering -> 3. Data Preparation -> 4. Model Training & Evaluation</span><center></h3></center></div>"
      ],
      "text/plain": [
       "<IPython.core.display.HTML object>"
      ]
     },
     "metadata": {},
     "output_type": "display_data"
    },
    {
     "name": "stdout",
     "output_type": "stream",
     "text": [
      "Completed: ｜⫿⫿⫿⫿⫿⫿⫿⫿⫿⫿⫿⫿⫿⫿⫿⫿⫿⫿⫿⫿⫿⫿⫿⫿⫿⫿⫿⫿⫿⫿⫿⫿⫿⫿⫿⫿⫿⫿⫿⫿⫿⫿⫿⫿⫿⫿⫿⫿⫿⫿⫿⫿⫿⫿⫿⫿⫿⫿⫿⫿｜ 100% - 15/15    \r"
     ]
    }
   ],
   "source": [
    "# Fitting train data\n",
    "aml.fit(bmi_df_train, bmi_df_train.bmi)"
   ]
  },
  {
   "cell_type": "markdown",
   "id": "23a04eb1-68e6-48b7-95aa-442f434809da",
   "metadata": {},
   "source": [
    "## <b><span style='color:#F1A424'>| 3.</span> Leaderboard : </b>"
   ]
  },
  {
   "cell_type": "code",
   "execution_count": 19,
   "id": "77de1099-6122-4f8a-8e7f-dd67e5b4ced4",
   "metadata": {},
   "outputs": [
    {
     "data": {
      "text/html": [
       "<div>\n",
       "<style scoped>\n",
       "    .dataframe tbody tr th:only-of-type {\n",
       "        vertical-align: middle;\n",
       "    }\n",
       "\n",
       "    .dataframe tbody tr th {\n",
       "        vertical-align: top;\n",
       "    }\n",
       "\n",
       "    .dataframe thead th {\n",
       "        text-align: right;\n",
       "    }\n",
       "</style>\n",
       "<table border=\"1\" class=\"dataframe\">\n",
       "  <thead>\n",
       "    <tr style=\"text-align: right;\">\n",
       "      <th></th>\n",
       "      <th>Rank</th>\n",
       "      <th>Model-ID</th>\n",
       "      <th>Feature-Selection</th>\n",
       "      <th>Accuracy</th>\n",
       "      <th>Micro-Precision</th>\n",
       "      <th>Micro-Recall</th>\n",
       "      <th>Micro-F1</th>\n",
       "      <th>Macro-Precision</th>\n",
       "      <th>Macro-Recall</th>\n",
       "      <th>Macro-F1</th>\n",
       "      <th>Weighted-Precision</th>\n",
       "      <th>Weighted-Recall</th>\n",
       "      <th>Weighted-F1</th>\n",
       "    </tr>\n",
       "  </thead>\n",
       "  <tbody>\n",
       "    <tr>\n",
       "      <th>0</th>\n",
       "      <td>1</td>\n",
       "      <td>KNN_3</td>\n",
       "      <td>rfe</td>\n",
       "      <td>0.891892</td>\n",
       "      <td>0.891892</td>\n",
       "      <td>0.891892</td>\n",
       "      <td>0.891892</td>\n",
       "      <td>0.891379</td>\n",
       "      <td>0.886391</td>\n",
       "      <td>0.886185</td>\n",
       "      <td>0.899953</td>\n",
       "      <td>0.891892</td>\n",
       "      <td>0.892790</td>\n",
       "    </tr>\n",
       "    <tr>\n",
       "      <th>1</th>\n",
       "      <td>2</td>\n",
       "      <td>KNN_1</td>\n",
       "      <td>lasso</td>\n",
       "      <td>0.824324</td>\n",
       "      <td>0.824324</td>\n",
       "      <td>0.824324</td>\n",
       "      <td>0.824324</td>\n",
       "      <td>0.807751</td>\n",
       "      <td>0.789854</td>\n",
       "      <td>0.796909</td>\n",
       "      <td>0.827446</td>\n",
       "      <td>0.824324</td>\n",
       "      <td>0.824241</td>\n",
       "    </tr>\n",
       "    <tr>\n",
       "      <th>2</th>\n",
       "      <td>3</td>\n",
       "      <td>KNN_0</td>\n",
       "      <td>lasso</td>\n",
       "      <td>0.797297</td>\n",
       "      <td>0.797297</td>\n",
       "      <td>0.797297</td>\n",
       "      <td>0.797297</td>\n",
       "      <td>0.774444</td>\n",
       "      <td>0.759314</td>\n",
       "      <td>0.763394</td>\n",
       "      <td>0.803724</td>\n",
       "      <td>0.797297</td>\n",
       "      <td>0.797375</td>\n",
       "    </tr>\n",
       "  </tbody>\n",
       "</table>\n",
       "</div>"
      ],
      "text/plain": [
       "   Rank Model-ID Feature-Selection  Accuracy  Micro-Precision  Micro-Recall  \\\n",
       "0     1    KNN_3               rfe  0.891892         0.891892      0.891892   \n",
       "1     2    KNN_1             lasso  0.824324         0.824324      0.824324   \n",
       "2     3    KNN_0             lasso  0.797297         0.797297      0.797297   \n",
       "\n",
       "   Micro-F1  Macro-Precision  Macro-Recall  Macro-F1  Weighted-Precision  \\\n",
       "0  0.891892         0.891379      0.886391  0.886185            0.899953   \n",
       "1  0.824324         0.807751      0.789854  0.796909            0.827446   \n",
       "2  0.797297         0.774444      0.759314  0.763394            0.803724   \n",
       "\n",
       "   Weighted-Recall  Weighted-F1  \n",
       "0         0.891892     0.892790  \n",
       "1         0.824324     0.824241  \n",
       "2         0.797297     0.797375  "
      ]
     },
     "execution_count": 19,
     "metadata": {},
     "output_type": "execute_result"
    }
   ],
   "source": [
    "# Fetching Leaderboard\n",
    "aml.leaderboard()"
   ]
  },
  {
   "cell_type": "markdown",
   "id": "a7a3aa08-e349-4a61-9217-2c17d50411d8",
   "metadata": {},
   "source": [
    "## <b><span style='color:#F1A424'>| 4.</span> Best Performing Model : </b>"
   ]
  },
  {
   "cell_type": "code",
   "execution_count": 20,
   "id": "e4158bc7-d6bc-464d-af05-1444dadd4a7b",
   "metadata": {},
   "outputs": [
    {
     "data": {
      "text/html": [
       "<div>\n",
       "<style scoped>\n",
       "    .dataframe tbody tr th:only-of-type {\n",
       "        vertical-align: middle;\n",
       "    }\n",
       "\n",
       "    .dataframe tbody tr th {\n",
       "        vertical-align: top;\n",
       "    }\n",
       "\n",
       "    .dataframe thead th {\n",
       "        text-align: right;\n",
       "    }\n",
       "</style>\n",
       "<table border=\"1\" class=\"dataframe\">\n",
       "  <thead>\n",
       "    <tr style=\"text-align: right;\">\n",
       "      <th></th>\n",
       "      <th>Rank</th>\n",
       "      <th>Model-ID</th>\n",
       "      <th>Feature-Selection</th>\n",
       "      <th>Accuracy</th>\n",
       "      <th>Micro-Precision</th>\n",
       "      <th>Micro-Recall</th>\n",
       "      <th>Micro-F1</th>\n",
       "      <th>Macro-Precision</th>\n",
       "      <th>Macro-Recall</th>\n",
       "      <th>Macro-F1</th>\n",
       "      <th>Weighted-Precision</th>\n",
       "      <th>Weighted-Recall</th>\n",
       "      <th>Weighted-F1</th>\n",
       "    </tr>\n",
       "  </thead>\n",
       "  <tbody>\n",
       "    <tr>\n",
       "      <th>0</th>\n",
       "      <td>1</td>\n",
       "      <td>KNN_3</td>\n",
       "      <td>rfe</td>\n",
       "      <td>0.891892</td>\n",
       "      <td>0.891892</td>\n",
       "      <td>0.891892</td>\n",
       "      <td>0.891892</td>\n",
       "      <td>0.891379</td>\n",
       "      <td>0.886391</td>\n",
       "      <td>0.886185</td>\n",
       "      <td>0.899953</td>\n",
       "      <td>0.891892</td>\n",
       "      <td>0.89279</td>\n",
       "    </tr>\n",
       "  </tbody>\n",
       "</table>\n",
       "</div>"
      ],
      "text/plain": [
       "   Rank Model-ID Feature-Selection  Accuracy  Micro-Precision  Micro-Recall  \\\n",
       "0     1    KNN_3               rfe  0.891892         0.891892      0.891892   \n",
       "\n",
       "   Micro-F1  Macro-Precision  Macro-Recall  Macro-F1  Weighted-Precision  \\\n",
       "0  0.891892         0.891379      0.886391  0.886185            0.899953   \n",
       "\n",
       "   Weighted-Recall  Weighted-F1  \n",
       "0         0.891892      0.89279  "
      ]
     },
     "metadata": {},
     "output_type": "display_data"
    }
   ],
   "source": [
    "# Fetching best performing model for dataset\n",
    "aml.leader()"
   ]
  },
  {
   "cell_type": "markdown",
   "id": "e43181a9-3847-4e8b-b510-6da81f1c550f",
   "metadata": {},
   "source": [
    "## <b><span style='color:#F1A424'>| 5.</span> Generating Prediction : </b>"
   ]
  },
  {
   "cell_type": "code",
   "execution_count": 23,
   "id": "5b6edfe3-bd5a-46bd-ad80-b20fadfed7a0",
   "metadata": {},
   "outputs": [
    {
     "name": "stdout",
     "output_type": "stream",
     "text": [
      "Data Transformation started ...\n",
      "                                                                                                \r"
     ]
    },
    {
     "data": {
      "text/html": [
       "Performing transformation carried out in feature engineering phase ..."
      ],
      "text/plain": [
       "<IPython.core.display.HTML object>"
      ]
     },
     "metadata": {},
     "output_type": "display_data"
    },
    {
     "name": "stdout",
     "output_type": "stream",
     "text": [
      "                                                                                                 \r"
     ]
    },
    {
     "data": {
      "text/html": [
       "\n",
       "Updated dataset after performing target column transformation :"
      ],
      "text/plain": [
       "<IPython.core.display.HTML object>"
      ]
     },
     "metadata": {},
     "output_type": "display_data"
    },
    {
     "data": {
      "text/html": [
       "<style type=\"text/css\">\n",
       "\ttable {border:ridge 5px;}\n",
       "\ttable td {border:inset 1px;}\n",
       "\ttable tr#HeaderRow {background-color:grey; color:white;}</style>\n",
       "<html><table>\n",
       "\t<tr id=\"HeaderRow\">\n",
       "\t\t<th>id</th>\n",
       "\t\t<th>height</th>\n",
       "\t\t<th>weight</th>\n",
       "\t\t<th>gender</th>\n",
       "\t\t<th>bmi</th>\n",
       "\t</tr>\n",
       "\t<tr>\n",
       "\t\t<td>28</td>\n",
       "\t\t<td>140</td>\n",
       "\t\t<td>129</td>\n",
       "\t\t<td>Male</td>\n",
       "\t\t<td>5</td>\n",
       "\t</tr>\n",
       "\t<tr>\n",
       "\t\t<td>44</td>\n",
       "\t\t<td>185</td>\n",
       "\t\t<td>76</td>\n",
       "\t\t<td>Male</td>\n",
       "\t\t<td>2</td>\n",
       "\t</tr>\n",
       "\t<tr>\n",
       "\t\t<td>52</td>\n",
       "\t\t<td>161</td>\n",
       "\t\t<td>72</td>\n",
       "\t\t<td>Male</td>\n",
       "\t\t<td>3</td>\n",
       "\t</tr>\n",
       "\t<tr>\n",
       "\t\t<td>60</td>\n",
       "\t\t<td>196</td>\n",
       "\t\t<td>116</td>\n",
       "\t\t<td>Male</td>\n",
       "\t\t<td>4</td>\n",
       "\t</tr>\n",
       "\t<tr>\n",
       "\t\t<td>76</td>\n",
       "\t\t<td>164</td>\n",
       "\t\t<td>75</td>\n",
       "\t\t<td>Male</td>\n",
       "\t\t<td>3</td>\n",
       "\t</tr>\n",
       "\t<tr>\n",
       "\t\t<td>84</td>\n",
       "\t\t<td>186</td>\n",
       "\t\t<td>118</td>\n",
       "\t\t<td>Male</td>\n",
       "\t\t<td>4</td>\n",
       "\t</tr>\n",
       "\t<tr>\n",
       "\t\t<td>15</td>\n",
       "\t\t<td>192</td>\n",
       "\t\t<td>101</td>\n",
       "\t\t<td>Female</td>\n",
       "\t\t<td>3</td>\n",
       "\t</tr>\n",
       "\t<tr>\n",
       "\t\t<td>23</td>\n",
       "\t\t<td>160</td>\n",
       "\t\t<td>131</td>\n",
       "\t\t<td>Female</td>\n",
       "\t\t<td>5</td>\n",
       "\t</tr>\n",
       "\t<tr>\n",
       "\t\t<td>31</td>\n",
       "\t\t<td>189</td>\n",
       "\t\t<td>132</td>\n",
       "\t\t<td>Female</td>\n",
       "\t\t<td>4</td>\n",
       "\t</tr>\n",
       "\t<tr>\n",
       "\t\t<td>39</td>\n",
       "\t\t<td>171</td>\n",
       "\t\t<td>152</td>\n",
       "\t\t<td>Female</td>\n",
       "\t\t<td>5</td>\n",
       "\t</tr>\n",
       "</table></html>"
      ],
      "text/plain": [
       "   id  height  weight  gender  bmi\n",
       "0  28     140     129    Male    5\n",
       "1  44     185      76    Male    2\n",
       "2  52     161      72    Male    3\n",
       "3  60     196     116    Male    4\n",
       "4  76     164      75    Male    3\n",
       "5  84     186     118    Male    4\n",
       "6  15     192     101  Female    3\n",
       "7  23     160     131  Female    5\n",
       "8  31     189     132  Female    4\n",
       "9  39     171     152  Female    5"
      ]
     },
     "metadata": {},
     "output_type": "display_data"
    },
    {
     "name": "stdout",
     "output_type": "stream",
     "text": [
      "                                                                                                 \r"
     ]
    },
    {
     "data": {
      "text/html": [
       "93 rows X 5 columns"
      ],
      "text/plain": [
       "<IPython.core.display.HTML object>"
      ]
     },
     "metadata": {},
     "output_type": "display_data"
    },
    {
     "name": "stdout",
     "output_type": "stream",
     "text": [
      "result data stored in table '\"ALICE\".\"ml__td_sqlmr_persist_out__1719259687647099\"'⫾⫾⫾｜ 50% - 5/10\n",
      "                                                                                                 \r"
     ]
    },
    {
     "data": {
      "text/html": [
       "\n",
       "Updated dataset after performing categorical encoding :"
      ],
      "text/plain": [
       "<IPython.core.display.HTML object>"
      ]
     },
     "metadata": {},
     "output_type": "display_data"
    },
    {
     "data": {
      "text/html": [
       "<style type=\"text/css\">\n",
       "\ttable {border:ridge 5px;}\n",
       "\ttable td {border:inset 1px;}\n",
       "\ttable tr#HeaderRow {background-color:grey; color:white;}</style>\n",
       "<html><table>\n",
       "\t<tr id=\"HeaderRow\">\n",
       "\t\t<th>id</th>\n",
       "\t\t<th>height</th>\n",
       "\t\t<th>weight</th>\n",
       "\t\t<th>gender_0</th>\n",
       "\t\t<th>gender_1</th>\n",
       "\t\t<th>bmi</th>\n",
       "\t</tr>\n",
       "\t<tr>\n",
       "\t\t<td>263</td>\n",
       "\t\t<td>157</td>\n",
       "\t\t<td>56</td>\n",
       "\t\t<td>1</td>\n",
       "\t\t<td>0</td>\n",
       "\t\t<td>2</td>\n",
       "\t</tr>\n",
       "\t<tr>\n",
       "\t\t<td>55</td>\n",
       "\t\t<td>185</td>\n",
       "\t\t<td>100</td>\n",
       "\t\t<td>1</td>\n",
       "\t\t<td>0</td>\n",
       "\t\t<td>3</td>\n",
       "\t</tr>\n",
       "\t<tr>\n",
       "\t\t<td>135</td>\n",
       "\t\t<td>158</td>\n",
       "\t\t<td>153</td>\n",
       "\t\t<td>1</td>\n",
       "\t\t<td>0</td>\n",
       "\t\t<td>5</td>\n",
       "\t</tr>\n",
       "\t<tr>\n",
       "\t\t<td>95</td>\n",
       "\t\t<td>150</td>\n",
       "\t\t<td>70</td>\n",
       "\t\t<td>1</td>\n",
       "\t\t<td>0</td>\n",
       "\t\t<td>4</td>\n",
       "\t</tr>\n",
       "\t<tr>\n",
       "\t\t<td>284</td>\n",
       "\t\t<td>159</td>\n",
       "\t\t<td>120</td>\n",
       "\t\t<td>0</td>\n",
       "\t\t<td>1</td>\n",
       "\t\t<td>5</td>\n",
       "\t</tr>\n",
       "\t<tr>\n",
       "\t\t<td>156</td>\n",
       "\t\t<td>141</td>\n",
       "\t\t<td>85</td>\n",
       "\t\t<td>0</td>\n",
       "\t\t<td>1</td>\n",
       "\t\t<td>5</td>\n",
       "\t</tr>\n",
       "\t<tr>\n",
       "\t\t<td>183</td>\n",
       "\t\t<td>152</td>\n",
       "\t\t<td>90</td>\n",
       "\t\t<td>1</td>\n",
       "\t\t<td>0</td>\n",
       "\t\t<td>4</td>\n",
       "\t</tr>\n",
       "\t<tr>\n",
       "\t\t<td>364</td>\n",
       "\t\t<td>190</td>\n",
       "\t\t<td>83</td>\n",
       "\t\t<td>0</td>\n",
       "\t\t<td>1</td>\n",
       "\t\t<td>2</td>\n",
       "\t</tr>\n",
       "\t<tr>\n",
       "\t\t<td>244</td>\n",
       "\t\t<td>188</td>\n",
       "\t\t<td>99</td>\n",
       "\t\t<td>0</td>\n",
       "\t\t<td>1</td>\n",
       "\t\t<td>3</td>\n",
       "\t</tr>\n",
       "\t<tr>\n",
       "\t\t<td>343</td>\n",
       "\t\t<td>188</td>\n",
       "\t\t<td>128</td>\n",
       "\t\t<td>1</td>\n",
       "\t\t<td>0</td>\n",
       "\t\t<td>4</td>\n",
       "\t</tr>\n",
       "</table></html>"
      ],
      "text/plain": [
       "     height  weight  gender_0  gender_1  bmi\n",
       "id                                          \n",
       "263     157      56         1         0    2\n",
       "55      185     100         1         0    3\n",
       "135     158     153         1         0    5\n",
       "95      150      70         1         0    4\n",
       "284     159     120         0         1    5\n",
       "156     141      85         0         1    5\n",
       "183     152      90         1         0    4\n",
       "364     190      83         0         1    2\n",
       "244     188      99         0         1    3\n",
       "343     188     128         1         0    4"
      ]
     },
     "metadata": {},
     "output_type": "display_data"
    },
    {
     "name": "stdout",
     "output_type": "stream",
     "text": [
      "                                                                                                 \r"
     ]
    },
    {
     "data": {
      "text/html": [
       "93 rows X 6 columns"
      ],
      "text/plain": [
       "<IPython.core.display.HTML object>"
      ]
     },
     "metadata": {},
     "output_type": "display_data"
    },
    {
     "name": "stdout",
     "output_type": "stream",
     "text": [
      "                                                                                                 \r"
     ]
    },
    {
     "data": {
      "text/html": [
       "Performing transformation carried out in data preparation phase ..."
      ],
      "text/plain": [
       "<IPython.core.display.HTML object>"
      ]
     },
     "metadata": {},
     "output_type": "display_data"
    },
    {
     "name": "stdout",
     "output_type": "stream",
     "text": [
      "                                                                                                 \r"
     ]
    },
    {
     "data": {
      "text/html": [
       "\n",
       "Updated dataset after performing Lasso feature selection:"
      ],
      "text/plain": [
       "<IPython.core.display.HTML object>"
      ]
     },
     "metadata": {},
     "output_type": "display_data"
    },
    {
     "data": {
      "text/html": [
       "<style type=\"text/css\">\n",
       "\ttable {border:ridge 5px;}\n",
       "\ttable td {border:inset 1px;}\n",
       "\ttable tr#HeaderRow {background-color:grey; color:white;}</style>\n",
       "<html><table>\n",
       "\t<tr id=\"HeaderRow\">\n",
       "\t\t<th>id</th>\n",
       "\t\t<th>weight</th>\n",
       "\t\t<th>gender_1</th>\n",
       "\t\t<th>gender_0</th>\n",
       "\t\t<th>height</th>\n",
       "\t\t<th>bmi</th>\n",
       "\t</tr>\n",
       "\t<tr>\n",
       "\t\t<td>183</td>\n",
       "\t\t<td>90</td>\n",
       "\t\t<td>0</td>\n",
       "\t\t<td>1</td>\n",
       "\t\t<td>152</td>\n",
       "\t\t<td>4</td>\n",
       "\t</tr>\n",
       "\t<tr>\n",
       "\t\t<td>244</td>\n",
       "\t\t<td>99</td>\n",
       "\t\t<td>1</td>\n",
       "\t\t<td>0</td>\n",
       "\t\t<td>188</td>\n",
       "\t\t<td>3</td>\n",
       "\t</tr>\n",
       "\t<tr>\n",
       "\t\t<td>343</td>\n",
       "\t\t<td>128</td>\n",
       "\t\t<td>0</td>\n",
       "\t\t<td>1</td>\n",
       "\t\t<td>188</td>\n",
       "\t\t<td>4</td>\n",
       "\t</tr>\n",
       "\t<tr>\n",
       "\t\t<td>223</td>\n",
       "\t\t<td>156</td>\n",
       "\t\t<td>0</td>\n",
       "\t\t<td>1</td>\n",
       "\t\t<td>180</td>\n",
       "\t\t<td>5</td>\n",
       "\t</tr>\n",
       "\t<tr>\n",
       "\t\t<td>284</td>\n",
       "\t\t<td>120</td>\n",
       "\t\t<td>1</td>\n",
       "\t\t<td>0</td>\n",
       "\t\t<td>159</td>\n",
       "\t\t<td>5</td>\n",
       "\t</tr>\n",
       "\t<tr>\n",
       "\t\t<td>156</td>\n",
       "\t\t<td>85</td>\n",
       "\t\t<td>1</td>\n",
       "\t\t<td>0</td>\n",
       "\t\t<td>141</td>\n",
       "\t\t<td>5</td>\n",
       "\t</tr>\n",
       "\t<tr>\n",
       "\t\t<td>95</td>\n",
       "\t\t<td>70</td>\n",
       "\t\t<td>0</td>\n",
       "\t\t<td>1</td>\n",
       "\t\t<td>150</td>\n",
       "\t\t<td>4</td>\n",
       "\t</tr>\n",
       "\t<tr>\n",
       "\t\t<td>196</td>\n",
       "\t\t<td>103</td>\n",
       "\t\t<td>1</td>\n",
       "\t\t<td>0</td>\n",
       "\t\t<td>152</td>\n",
       "\t\t<td>5</td>\n",
       "\t</tr>\n",
       "\t<tr>\n",
       "\t\t<td>383</td>\n",
       "\t\t<td>114</td>\n",
       "\t\t<td>0</td>\n",
       "\t\t<td>1</td>\n",
       "\t\t<td>197</td>\n",
       "\t\t<td>3</td>\n",
       "\t</tr>\n",
       "\t<tr>\n",
       "\t\t<td>175</td>\n",
       "\t\t<td>86</td>\n",
       "\t\t<td>0</td>\n",
       "\t\t<td>1</td>\n",
       "\t\t<td>142</td>\n",
       "\t\t<td>5</td>\n",
       "\t</tr>\n",
       "</table></html>"
      ],
      "text/plain": [
       "     weight  gender_1  gender_0  height  bmi\n",
       "id                                          \n",
       "183      90         0         1     152    4\n",
       "244      99         1         0     188    3\n",
       "343     128         0         1     188    4\n",
       "223     156         0         1     180    5\n",
       "284     120         1         0     159    5\n",
       "156      85         1         0     141    5\n",
       "95       70         0         1     150    4\n",
       "196     103         1         0     152    5\n",
       "383     114         0         1     197    3\n",
       "175      86         0         1     142    5"
      ]
     },
     "metadata": {},
     "output_type": "display_data"
    },
    {
     "name": "stdout",
     "output_type": "stream",
     "text": [
      "                                                                                                 \r"
     ]
    },
    {
     "data": {
      "text/html": [
       "93 rows X 6 columns"
      ],
      "text/plain": [
       "<IPython.core.display.HTML object>"
      ]
     },
     "metadata": {},
     "output_type": "display_data"
    },
    {
     "name": "stdout",
     "output_type": "stream",
     "text": [
      "                                                                                                 \r"
     ]
    },
    {
     "data": {
      "text/html": [
       "\n",
       "Updated dataset after performing scaling on Lasso selected features :"
      ],
      "text/plain": [
       "<IPython.core.display.HTML object>"
      ]
     },
     "metadata": {},
     "output_type": "display_data"
    },
    {
     "data": {
      "text/html": [
       "<style type=\"text/css\">\n",
       "\ttable {border:ridge 5px;}\n",
       "\ttable td {border:inset 1px;}\n",
       "\ttable tr#HeaderRow {background-color:grey; color:white;}</style>\n",
       "<html><table>\n",
       "\t<tr id=\"HeaderRow\">\n",
       "\t\t<th>id</th>\n",
       "\t\t<th>gender_0</th>\n",
       "\t\t<th>gender_1</th>\n",
       "\t\t<th>bmi</th>\n",
       "\t\t<th>weight</th>\n",
       "\t\t<th>height</th>\n",
       "\t</tr>\n",
       "\t<tr>\n",
       "\t\t<td>383</td>\n",
       "\t\t<td>1</td>\n",
       "\t\t<td>0</td>\n",
       "\t\t<td>3</td>\n",
       "\t\t<td>0.5818181818181818</td>\n",
       "\t\t<td>0.9661016949152542</td>\n",
       "\t</tr>\n",
       "\t<tr>\n",
       "\t\t<td>223</td>\n",
       "\t\t<td>1</td>\n",
       "\t\t<td>0</td>\n",
       "\t\t<td>5</td>\n",
       "\t\t<td>0.9636363636363636</td>\n",
       "\t\t<td>0.6779661016949152</td>\n",
       "\t</tr>\n",
       "\t<tr>\n",
       "\t\t<td>15</td>\n",
       "\t\t<td>1</td>\n",
       "\t\t<td>0</td>\n",
       "\t\t<td>3</td>\n",
       "\t\t<td>0.4636363636363636</td>\n",
       "\t\t<td>0.8813559322033898</td>\n",
       "\t</tr>\n",
       "\t<tr>\n",
       "\t\t<td>244</td>\n",
       "\t\t<td>0</td>\n",
       "\t\t<td>1</td>\n",
       "\t\t<td>3</td>\n",
       "\t\t<td>0.44545454545454544</td>\n",
       "\t\t<td>0.8135593220338984</td>\n",
       "\t</tr>\n",
       "\t<tr>\n",
       "\t\t<td>284</td>\n",
       "\t\t<td>0</td>\n",
       "\t\t<td>1</td>\n",
       "\t\t<td>5</td>\n",
       "\t\t<td>0.6363636363636364</td>\n",
       "\t\t<td>0.3220338983050847</td>\n",
       "\t</tr>\n",
       "\t<tr>\n",
       "\t\t<td>156</td>\n",
       "\t\t<td>0</td>\n",
       "\t\t<td>1</td>\n",
       "\t\t<td>5</td>\n",
       "\t\t<td>0.3181818181818182</td>\n",
       "\t\t<td>0.01694915254237288</td>\n",
       "\t</tr>\n",
       "\t<tr>\n",
       "\t\t<td>95</td>\n",
       "\t\t<td>1</td>\n",
       "\t\t<td>0</td>\n",
       "\t\t<td>4</td>\n",
       "\t\t<td>0.18181818181818182</td>\n",
       "\t\t<td>0.1694915254237288</td>\n",
       "\t</tr>\n",
       "\t<tr>\n",
       "\t\t<td>196</td>\n",
       "\t\t<td>0</td>\n",
       "\t\t<td>1</td>\n",
       "\t\t<td>5</td>\n",
       "\t\t<td>0.4818181818181818</td>\n",
       "\t\t<td>0.2033898305084746</td>\n",
       "\t</tr>\n",
       "\t<tr>\n",
       "\t\t<td>263</td>\n",
       "\t\t<td>1</td>\n",
       "\t\t<td>0</td>\n",
       "\t\t<td>2</td>\n",
       "\t\t<td>0.05454545454545454</td>\n",
       "\t\t<td>0.288135593220339</td>\n",
       "\t</tr>\n",
       "\t<tr>\n",
       "\t\t<td>324</td>\n",
       "\t\t<td>0</td>\n",
       "\t\t<td>1</td>\n",
       "\t\t<td>5</td>\n",
       "\t\t<td>0.9</td>\n",
       "\t\t<td>0.05084745762711865</td>\n",
       "\t</tr>\n",
       "</table></html>"
      ],
      "text/plain": [
       "    id  gender_0  gender_1  bmi    weight    height\n",
       "0  383         1         0    3  0.581818  0.966102\n",
       "1  223         1         0    5  0.963636  0.677966\n",
       "2   15         1         0    3  0.463636  0.881356\n",
       "3  244         0         1    3  0.445455  0.813559\n",
       "4  284         0         1    5  0.636364  0.322034\n",
       "5  156         0         1    5  0.318182  0.016949\n",
       "6   95         1         0    4  0.181818  0.169492\n",
       "7  196         0         1    5  0.481818  0.203390\n",
       "8  263         1         0    2  0.054545  0.288136\n",
       "9  324         0         1    5  0.900000  0.050847"
      ]
     },
     "metadata": {},
     "output_type": "display_data"
    },
    {
     "name": "stdout",
     "output_type": "stream",
     "text": [
      "                                                                                                 \r"
     ]
    },
    {
     "data": {
      "text/html": [
       "93 rows X 6 columns"
      ],
      "text/plain": [
       "<IPython.core.display.HTML object>"
      ]
     },
     "metadata": {},
     "output_type": "display_data"
    },
    {
     "name": "stdout",
     "output_type": "stream",
     "text": [
      "                                                                                                 \r"
     ]
    },
    {
     "data": {
      "text/html": [
       "\n",
       "Updated dataset after performing RFE feature selection:"
      ],
      "text/plain": [
       "<IPython.core.display.HTML object>"
      ]
     },
     "metadata": {},
     "output_type": "display_data"
    },
    {
     "data": {
      "text/html": [
       "<style type=\"text/css\">\n",
       "\ttable {border:ridge 5px;}\n",
       "\ttable td {border:inset 1px;}\n",
       "\ttable tr#HeaderRow {background-color:grey; color:white;}</style>\n",
       "<html><table>\n",
       "\t<tr id=\"HeaderRow\">\n",
       "\t\t<th>id</th>\n",
       "\t\t<th>height</th>\n",
       "\t\t<th>weight</th>\n",
       "\t\t<th>bmi</th>\n",
       "\t</tr>\n",
       "\t<tr>\n",
       "\t\t<td>284</td>\n",
       "\t\t<td>159</td>\n",
       "\t\t<td>120</td>\n",
       "\t\t<td>5</td>\n",
       "\t</tr>\n",
       "\t<tr>\n",
       "\t\t<td>223</td>\n",
       "\t\t<td>180</td>\n",
       "\t\t<td>156</td>\n",
       "\t\t<td>5</td>\n",
       "\t</tr>\n",
       "\t<tr>\n",
       "\t\t<td>15</td>\n",
       "\t\t<td>192</td>\n",
       "\t\t<td>101</td>\n",
       "\t\t<td>3</td>\n",
       "\t</tr>\n",
       "\t<tr>\n",
       "\t\t<td>244</td>\n",
       "\t\t<td>188</td>\n",
       "\t\t<td>99</td>\n",
       "\t\t<td>3</td>\n",
       "\t</tr>\n",
       "\t<tr>\n",
       "\t\t<td>95</td>\n",
       "\t\t<td>150</td>\n",
       "\t\t<td>70</td>\n",
       "\t\t<td>4</td>\n",
       "\t</tr>\n",
       "\t<tr>\n",
       "\t\t<td>196</td>\n",
       "\t\t<td>152</td>\n",
       "\t\t<td>103</td>\n",
       "\t\t<td>5</td>\n",
       "\t</tr>\n",
       "\t<tr>\n",
       "\t\t<td>383</td>\n",
       "\t\t<td>197</td>\n",
       "\t\t<td>114</td>\n",
       "\t\t<td>3</td>\n",
       "\t</tr>\n",
       "\t<tr>\n",
       "\t\t<td>175</td>\n",
       "\t\t<td>142</td>\n",
       "\t\t<td>86</td>\n",
       "\t\t<td>5</td>\n",
       "\t</tr>\n",
       "\t<tr>\n",
       "\t\t<td>55</td>\n",
       "\t\t<td>185</td>\n",
       "\t\t<td>100</td>\n",
       "\t\t<td>3</td>\n",
       "\t</tr>\n",
       "\t<tr>\n",
       "\t\t<td>135</td>\n",
       "\t\t<td>158</td>\n",
       "\t\t<td>153</td>\n",
       "\t\t<td>5</td>\n",
       "\t</tr>\n",
       "</table></html>"
      ],
      "text/plain": [
       "     height  weight  bmi\n",
       "id                      \n",
       "284     159     120    5\n",
       "223     180     156    5\n",
       "15      192     101    3\n",
       "244     188      99    3\n",
       "95      150      70    4\n",
       "196     152     103    5\n",
       "383     197     114    3\n",
       "175     142      86    5\n",
       "55      185     100    3\n",
       "135     158     153    5"
      ]
     },
     "metadata": {},
     "output_type": "display_data"
    },
    {
     "name": "stdout",
     "output_type": "stream",
     "text": [
      "                                                                                                 \r"
     ]
    },
    {
     "data": {
      "text/html": [
       "93 rows X 4 columns"
      ],
      "text/plain": [
       "<IPython.core.display.HTML object>"
      ]
     },
     "metadata": {},
     "output_type": "display_data"
    },
    {
     "name": "stdout",
     "output_type": "stream",
     "text": [
      "                                                                                                 \r"
     ]
    },
    {
     "data": {
      "text/html": [
       "\n",
       "Updated dataset after performing scaling on RFE selected features :"
      ],
      "text/plain": [
       "<IPython.core.display.HTML object>"
      ]
     },
     "metadata": {},
     "output_type": "display_data"
    },
    {
     "data": {
      "text/html": [
       "<style type=\"text/css\">\n",
       "\ttable {border:ridge 5px;}\n",
       "\ttable td {border:inset 1px;}\n",
       "\ttable tr#HeaderRow {background-color:grey; color:white;}</style>\n",
       "<html><table>\n",
       "\t<tr id=\"HeaderRow\">\n",
       "\t\t<th>id</th>\n",
       "\t\t<th>bmi</th>\n",
       "\t\t<th>r_height</th>\n",
       "\t\t<th>r_weight</th>\n",
       "\t</tr>\n",
       "\t<tr>\n",
       "\t\t<td>284</td>\n",
       "\t\t<td>5</td>\n",
       "\t\t<td>0.3220338983050847</td>\n",
       "\t\t<td>0.6363636363636364</td>\n",
       "\t</tr>\n",
       "\t<tr>\n",
       "\t\t<td>223</td>\n",
       "\t\t<td>5</td>\n",
       "\t\t<td>0.6779661016949152</td>\n",
       "\t\t<td>0.9636363636363636</td>\n",
       "\t</tr>\n",
       "\t<tr>\n",
       "\t\t<td>15</td>\n",
       "\t\t<td>3</td>\n",
       "\t\t<td>0.8813559322033898</td>\n",
       "\t\t<td>0.4636363636363636</td>\n",
       "\t</tr>\n",
       "\t<tr>\n",
       "\t\t<td>95</td>\n",
       "\t\t<td>4</td>\n",
       "\t\t<td>0.1694915254237288</td>\n",
       "\t\t<td>0.18181818181818182</td>\n",
       "\t</tr>\n",
       "\t<tr>\n",
       "\t\t<td>244</td>\n",
       "\t\t<td>3</td>\n",
       "\t\t<td>0.8135593220338984</td>\n",
       "\t\t<td>0.44545454545454544</td>\n",
       "\t</tr>\n",
       "\t<tr>\n",
       "\t\t<td>343</td>\n",
       "\t\t<td>4</td>\n",
       "\t\t<td>0.8135593220338984</td>\n",
       "\t\t<td>0.7090909090909091</td>\n",
       "\t</tr>\n",
       "\t<tr>\n",
       "\t\t<td>383</td>\n",
       "\t\t<td>3</td>\n",
       "\t\t<td>0.9661016949152542</td>\n",
       "\t\t<td>0.5818181818181818</td>\n",
       "\t</tr>\n",
       "\t<tr>\n",
       "\t\t<td>175</td>\n",
       "\t\t<td>5</td>\n",
       "\t\t<td>0.03389830508474576</td>\n",
       "\t\t<td>0.32727272727272727</td>\n",
       "\t</tr>\n",
       "\t<tr>\n",
       "\t\t<td>263</td>\n",
       "\t\t<td>2</td>\n",
       "\t\t<td>0.288135593220339</td>\n",
       "\t\t<td>0.05454545454545454</td>\n",
       "\t</tr>\n",
       "\t<tr>\n",
       "\t\t<td>324</td>\n",
       "\t\t<td>5</td>\n",
       "\t\t<td>0.05084745762711865</td>\n",
       "\t\t<td>0.9</td>\n",
       "\t</tr>\n",
       "</table></html>"
      ],
      "text/plain": [
       "    id  bmi  r_height  r_weight\n",
       "0  284    5  0.322034  0.636364\n",
       "1  223    5  0.677966  0.963636\n",
       "2   15    3  0.881356  0.463636\n",
       "3   95    4  0.169492  0.181818\n",
       "4  244    3  0.813559  0.445455\n",
       "5  343    4  0.813559  0.709091\n",
       "6  383    3  0.966102  0.581818\n",
       "7  175    5  0.033898  0.327273\n",
       "8  263    2  0.288136  0.054545\n",
       "9  324    5  0.050847  0.900000"
      ]
     },
     "metadata": {},
     "output_type": "display_data"
    },
    {
     "name": "stdout",
     "output_type": "stream",
     "text": [
      "                                                                                                 \r"
     ]
    },
    {
     "data": {
      "text/html": [
       "93 rows X 4 columns"
      ],
      "text/plain": [
       "<IPython.core.display.HTML object>"
      ]
     },
     "metadata": {},
     "output_type": "display_data"
    },
    {
     "name": "stdout",
     "output_type": "stream",
     "text": [
      "                                                                                                 \r"
     ]
    },
    {
     "data": {
      "text/html": [
       "\n",
       "Updated dataset after performing scaling for PCA feature selection :"
      ],
      "text/plain": [
       "<IPython.core.display.HTML object>"
      ]
     },
     "metadata": {},
     "output_type": "display_data"
    },
    {
     "data": {
      "text/html": [
       "<style type=\"text/css\">\n",
       "\ttable {border:ridge 5px;}\n",
       "\ttable td {border:inset 1px;}\n",
       "\ttable tr#HeaderRow {background-color:grey; color:white;}</style>\n",
       "<html><table>\n",
       "\t<tr id=\"HeaderRow\">\n",
       "\t\t<th>id</th>\n",
       "\t\t<th>gender_0</th>\n",
       "\t\t<th>gender_1</th>\n",
       "\t\t<th>bmi</th>\n",
       "\t\t<th>height</th>\n",
       "\t\t<th>weight</th>\n",
       "\t</tr>\n",
       "\t<tr>\n",
       "\t\t<td>284</td>\n",
       "\t\t<td>0</td>\n",
       "\t\t<td>1</td>\n",
       "\t\t<td>5</td>\n",
       "\t\t<td>0.3220338983050847</td>\n",
       "\t\t<td>0.6363636363636364</td>\n",
       "\t</tr>\n",
       "\t<tr>\n",
       "\t\t<td>383</td>\n",
       "\t\t<td>1</td>\n",
       "\t\t<td>0</td>\n",
       "\t\t<td>3</td>\n",
       "\t\t<td>0.9661016949152542</td>\n",
       "\t\t<td>0.5818181818181818</td>\n",
       "\t</tr>\n",
       "\t<tr>\n",
       "\t\t<td>175</td>\n",
       "\t\t<td>1</td>\n",
       "\t\t<td>0</td>\n",
       "\t\t<td>5</td>\n",
       "\t\t<td>0.03389830508474576</td>\n",
       "\t\t<td>0.32727272727272727</td>\n",
       "\t</tr>\n",
       "\t<tr>\n",
       "\t\t<td>55</td>\n",
       "\t\t<td>1</td>\n",
       "\t\t<td>0</td>\n",
       "\t\t<td>3</td>\n",
       "\t\t<td>0.7627118644067796</td>\n",
       "\t\t<td>0.45454545454545453</td>\n",
       "\t</tr>\n",
       "\t<tr>\n",
       "\t\t<td>263</td>\n",
       "\t\t<td>1</td>\n",
       "\t\t<td>0</td>\n",
       "\t\t<td>2</td>\n",
       "\t\t<td>0.288135593220339</td>\n",
       "\t\t<td>0.05454545454545454</td>\n",
       "\t</tr>\n",
       "\t<tr>\n",
       "\t\t<td>324</td>\n",
       "\t\t<td>0</td>\n",
       "\t\t<td>1</td>\n",
       "\t\t<td>5</td>\n",
       "\t\t<td>0.05084745762711865</td>\n",
       "\t\t<td>0.9</td>\n",
       "\t</tr>\n",
       "\t<tr>\n",
       "\t\t<td>244</td>\n",
       "\t\t<td>0</td>\n",
       "\t\t<td>1</td>\n",
       "\t\t<td>3</td>\n",
       "\t\t<td>0.8135593220338984</td>\n",
       "\t\t<td>0.44545454545454544</td>\n",
       "\t</tr>\n",
       "\t<tr>\n",
       "\t\t<td>343</td>\n",
       "\t\t<td>1</td>\n",
       "\t\t<td>0</td>\n",
       "\t\t<td>4</td>\n",
       "\t\t<td>0.8135593220338984</td>\n",
       "\t\t<td>0.7090909090909091</td>\n",
       "\t</tr>\n",
       "\t<tr>\n",
       "\t\t<td>95</td>\n",
       "\t\t<td>1</td>\n",
       "\t\t<td>0</td>\n",
       "\t\t<td>4</td>\n",
       "\t\t<td>0.1694915254237288</td>\n",
       "\t\t<td>0.18181818181818182</td>\n",
       "\t</tr>\n",
       "\t<tr>\n",
       "\t\t<td>196</td>\n",
       "\t\t<td>0</td>\n",
       "\t\t<td>1</td>\n",
       "\t\t<td>5</td>\n",
       "\t\t<td>0.2033898305084746</td>\n",
       "\t\t<td>0.4818181818181818</td>\n",
       "\t</tr>\n",
       "</table></html>"
      ],
      "text/plain": [
       "    id  gender_0  gender_1  bmi    height    weight\n",
       "0  284         0         1    5  0.322034  0.636364\n",
       "1  383         1         0    3  0.966102  0.581818\n",
       "2  175         1         0    5  0.033898  0.327273\n",
       "3   55         1         0    3  0.762712  0.454545\n",
       "4  263         1         0    2  0.288136  0.054545\n",
       "5  324         0         1    5  0.050847  0.900000\n",
       "6  244         0         1    3  0.813559  0.445455\n",
       "7  343         1         0    4  0.813559  0.709091\n",
       "8   95         1         0    4  0.169492  0.181818\n",
       "9  196         0         1    5  0.203390  0.481818"
      ]
     },
     "metadata": {},
     "output_type": "display_data"
    },
    {
     "name": "stdout",
     "output_type": "stream",
     "text": [
      "                                                                                                 \r"
     ]
    },
    {
     "data": {
      "text/html": [
       "93 rows X 6 columns"
      ],
      "text/plain": [
       "<IPython.core.display.HTML object>"
      ]
     },
     "metadata": {},
     "output_type": "display_data"
    },
    {
     "name": "stdout",
     "output_type": "stream",
     "text": [
      "                                                                                                 \r"
     ]
    },
    {
     "data": {
      "text/html": [
       "\n",
       "Updated dataset after performing PCA feature selection :"
      ],
      "text/plain": [
       "<IPython.core.display.HTML object>"
      ]
     },
     "metadata": {},
     "output_type": "display_data"
    },
    {
     "data": {
      "text/html": [
       "<div>\n",
       "<style scoped>\n",
       "    .dataframe tbody tr th:only-of-type {\n",
       "        vertical-align: middle;\n",
       "    }\n",
       "\n",
       "    .dataframe tbody tr th {\n",
       "        vertical-align: top;\n",
       "    }\n",
       "\n",
       "    .dataframe thead th {\n",
       "        text-align: right;\n",
       "    }\n",
       "</style>\n",
       "<table border=\"1\" class=\"dataframe\">\n",
       "  <thead>\n",
       "    <tr style=\"text-align: right;\">\n",
       "      <th></th>\n",
       "      <th>id</th>\n",
       "      <th>col_0</th>\n",
       "      <th>col_1</th>\n",
       "      <th>col_2</th>\n",
       "      <th>bmi</th>\n",
       "    </tr>\n",
       "  </thead>\n",
       "  <tbody>\n",
       "    <tr>\n",
       "      <th>0</th>\n",
       "      <td>183</td>\n",
       "      <td>-0.676180</td>\n",
       "      <td>0.309721</td>\n",
       "      <td>0.142603</td>\n",
       "      <td>4</td>\n",
       "    </tr>\n",
       "    <tr>\n",
       "      <th>1</th>\n",
       "      <td>284</td>\n",
       "      <td>0.742208</td>\n",
       "      <td>0.033142</td>\n",
       "      <td>0.154268</td>\n",
       "      <td>5</td>\n",
       "    </tr>\n",
       "    <tr>\n",
       "      <th>2</th>\n",
       "      <td>383</td>\n",
       "      <td>-0.688990</td>\n",
       "      <td>-0.318710</td>\n",
       "      <td>-0.341384</td>\n",
       "      <td>3</td>\n",
       "    </tr>\n",
       "    <tr>\n",
       "      <th>3</th>\n",
       "      <td>263</td>\n",
       "      <td>-0.687775</td>\n",
       "      <td>0.508084</td>\n",
       "      <td>-0.108866</td>\n",
       "      <td>2</td>\n",
       "    </tr>\n",
       "    <tr>\n",
       "      <th>4</th>\n",
       "      <td>55</td>\n",
       "      <td>-0.687683</td>\n",
       "      <td>-0.095540</td>\n",
       "      <td>-0.253297</td>\n",
       "      <td>3</td>\n",
       "    </tr>\n",
       "    <tr>\n",
       "      <th>5</th>\n",
       "      <td>95</td>\n",
       "      <td>-0.680863</td>\n",
       "      <td>0.476134</td>\n",
       "      <td>0.062033</td>\n",
       "      <td>4</td>\n",
       "    </tr>\n",
       "    <tr>\n",
       "      <th>6</th>\n",
       "      <td>244</td>\n",
       "      <td>0.723836</td>\n",
       "      <td>-0.105121</td>\n",
       "      <td>-0.354249</td>\n",
       "      <td>3</td>\n",
       "    </tr>\n",
       "    <tr>\n",
       "      <th>7</th>\n",
       "      <td>223</td>\n",
       "      <td>-0.669985</td>\n",
       "      <td>-0.454817</td>\n",
       "      <td>0.116787</td>\n",
       "      <td>5</td>\n",
       "    </tr>\n",
       "    <tr>\n",
       "      <th>8</th>\n",
       "      <td>364</td>\n",
       "      <td>0.718532</td>\n",
       "      <td>-0.008221</td>\n",
       "      <td>-0.467776</td>\n",
       "      <td>2</td>\n",
       "    </tr>\n",
       "    <tr>\n",
       "      <th>9</th>\n",
       "      <td>156</td>\n",
       "      <td>0.740285</td>\n",
       "      <td>0.470296</td>\n",
       "      <td>0.210916</td>\n",
       "      <td>5</td>\n",
       "    </tr>\n",
       "  </tbody>\n",
       "</table>\n",
       "</div>"
      ],
      "text/plain": [
       "    id     col_0     col_1     col_2  bmi\n",
       "0  183 -0.676180  0.309721  0.142603    4\n",
       "1  284  0.742208  0.033142  0.154268    5\n",
       "2  383 -0.688990 -0.318710 -0.341384    3\n",
       "3  263 -0.687775  0.508084 -0.108866    2\n",
       "4   55 -0.687683 -0.095540 -0.253297    3\n",
       "5   95 -0.680863  0.476134  0.062033    4\n",
       "6  244  0.723836 -0.105121 -0.354249    3\n",
       "7  223 -0.669985 -0.454817  0.116787    5\n",
       "8  364  0.718532 -0.008221 -0.467776    2\n",
       "9  156  0.740285  0.470296  0.210916    5"
      ]
     },
     "metadata": {},
     "output_type": "display_data"
    },
    {
     "name": "stdout",
     "output_type": "stream",
     "text": [
      "                                                                                                 \r"
     ]
    },
    {
     "data": {
      "text/html": [
       "10 rows X 5 columns"
      ],
      "text/plain": [
       "<IPython.core.display.HTML object>"
      ]
     },
     "metadata": {},
     "output_type": "display_data"
    },
    {
     "name": "stdout",
     "output_type": "stream",
     "text": [
      "Data Transformation completed.⫿⫿⫿⫿⫿⫿⫿⫿⫿⫿⫿⫿⫿⫿⫿⫿⫿⫿⫿⫿⫿⫿⫿⫿⫿⫿⫿⫿⫿⫿⫿⫿⫿⫿⫿⫿⫿⫿⫿⫿⫿⫿｜ 100% - 10/10           \n",
      "\n",
      "Following model is being used for generating prediction :\n",
      "Model ID : KNN_3 \n",
      "Feature Selection Method : rfe\n",
      "\n",
      "Prediction : \n",
      "    id  prediction  bmi\n",
      "0   20           2    2\n",
      "1   63           4    4\n",
      "2   71           4    4\n",
      "3   52           3    3\n",
      "4   28           5    5\n",
      "5   31           4    4\n",
      "6   15           3    3\n",
      "7   23           5    5\n",
      "8   47           4    4\n",
      "9  140           2    2\n",
      "\n",
      "Performance Metrics : \n",
      "       Prediction  Mapping  CLASS_1  CLASS_2  CLASS_3  CLASS_4  Precision    Recall        F1  Support\n",
      "SeqNum                                                                                                \n",
      "3               5  CLASS_4        0        0        0       35   1.000000  0.921053  0.958904       38\n",
      "0               2  CLASS_1       11        0        0        0   1.000000  0.846154  0.916667       13\n",
      "2               4  CLASS_3        0        3       21        3   0.777778  0.913043  0.840000       23\n",
      "1               3  CLASS_2        2       16        2        0   0.800000  0.842105  0.820513       19\n",
      "\n",
      "Confusion Matrix : \n"
     ]
    },
    {
     "data": {
      "text/plain": [
       "array([[11,  2,  0,  0],\n",
       "       [ 0, 16,  3,  0],\n",
       "       [ 0,  2, 21,  0],\n",
       "       [ 0,  0,  3, 35]], dtype=int64)"
      ]
     },
     "metadata": {},
     "output_type": "display_data"
    }
   ],
   "source": [
    "# Generating prediction and metrics on test data\n",
    "prediction = aml.predict(bmi_df_test)"
   ]
  },
  {
   "cell_type": "code",
   "execution_count": 24,
   "id": "cc4f6a78-1cdf-4938-a9f1-22035d8404ca",
   "metadata": {},
   "outputs": [
    {
     "data": {
      "text/html": [
       "<style type=\"text/css\">\n",
       "\ttable {border:ridge 5px;}\n",
       "\ttable td {border:inset 1px;}\n",
       "\ttable tr#HeaderRow {background-color:grey; color:white;}</style>\n",
       "<html><table>\n",
       "\t<tr id=\"HeaderRow\">\n",
       "\t\t<th>id</th>\n",
       "\t\t<th>prediction</th>\n",
       "\t\t<th>bmi</th>\n",
       "\t</tr>\n",
       "\t<tr>\n",
       "\t\t<td>20</td>\n",
       "\t\t<td>2</td>\n",
       "\t\t<td>2</td>\n",
       "\t</tr>\n",
       "\t<tr>\n",
       "\t\t<td>28</td>\n",
       "\t\t<td>5</td>\n",
       "\t\t<td>5</td>\n",
       "\t</tr>\n",
       "\t<tr>\n",
       "\t\t<td>31</td>\n",
       "\t\t<td>4</td>\n",
       "\t\t<td>4</td>\n",
       "\t</tr>\n",
       "\t<tr>\n",
       "\t\t<td>36</td>\n",
       "\t\t<td>5</td>\n",
       "\t\t<td>5</td>\n",
       "\t</tr>\n",
       "\t<tr>\n",
       "\t\t<td>44</td>\n",
       "\t\t<td>2</td>\n",
       "\t\t<td>2</td>\n",
       "\t</tr>\n",
       "\t<tr>\n",
       "\t\t<td>47</td>\n",
       "\t\t<td>4</td>\n",
       "\t\t<td>4</td>\n",
       "\t</tr>\n",
       "\t<tr>\n",
       "\t\t<td>39</td>\n",
       "\t\t<td>5</td>\n",
       "\t\t<td>5</td>\n",
       "\t</tr>\n",
       "\t<tr>\n",
       "\t\t<td>23</td>\n",
       "\t\t<td>5</td>\n",
       "\t\t<td>5</td>\n",
       "\t</tr>\n",
       "\t<tr>\n",
       "\t\t<td>15</td>\n",
       "\t\t<td>3</td>\n",
       "\t\t<td>3</td>\n",
       "\t</tr>\n",
       "\t<tr>\n",
       "\t\t<td>12</td>\n",
       "\t\t<td>3</td>\n",
       "\t\t<td>3</td>\n",
       "\t</tr>\n",
       "</table></html>"
      ],
      "text/plain": [
       "   id  prediction  bmi\n",
       "0  20           2    2\n",
       "1  28           5    5\n",
       "2  31           4    4\n",
       "3  36           5    5\n",
       "4  44           2    2\n",
       "5  47           4    4\n",
       "6  39           5    5\n",
       "7  23           5    5\n",
       "8  15           3    3\n",
       "9  12           3    3"
      ]
     },
     "execution_count": 24,
     "metadata": {},
     "output_type": "execute_result"
    }
   ],
   "source": [
    "# Printing prediction\n",
    "prediction.head()"
   ]
  },
  {
   "cell_type": "code",
   "execution_count": 25,
   "id": "53bd1df1-d202-4727-98ff-24a35cef52cb",
   "metadata": {},
   "outputs": [
    {
     "name": "stdout",
     "output_type": "stream",
     "text": [
      "Data Transformation started ...\n",
      "                                                                                                \r"
     ]
    },
    {
     "data": {
      "text/html": [
       "Performing transformation carried out in feature engineering phase ..."
      ],
      "text/plain": [
       "<IPython.core.display.HTML object>"
      ]
     },
     "metadata": {},
     "output_type": "display_data"
    },
    {
     "name": "stdout",
     "output_type": "stream",
     "text": [
      "                                                                                                 \r"
     ]
    },
    {
     "data": {
      "text/html": [
       "\n",
       "Updated dataset after performing target column transformation :"
      ],
      "text/plain": [
       "<IPython.core.display.HTML object>"
      ]
     },
     "metadata": {},
     "output_type": "display_data"
    },
    {
     "data": {
      "text/html": [
       "<style type=\"text/css\">\n",
       "\ttable {border:ridge 5px;}\n",
       "\ttable td {border:inset 1px;}\n",
       "\ttable tr#HeaderRow {background-color:grey; color:white;}</style>\n",
       "<html><table>\n",
       "\t<tr id=\"HeaderRow\">\n",
       "\t\t<th>id</th>\n",
       "\t\t<th>height</th>\n",
       "\t\t<th>weight</th>\n",
       "\t\t<th>gender</th>\n",
       "\t\t<th>bmi</th>\n",
       "\t</tr>\n",
       "\t<tr>\n",
       "\t\t<td>28</td>\n",
       "\t\t<td>140</td>\n",
       "\t\t<td>129</td>\n",
       "\t\t<td>Male</td>\n",
       "\t\t<td>5</td>\n",
       "\t</tr>\n",
       "\t<tr>\n",
       "\t\t<td>44</td>\n",
       "\t\t<td>185</td>\n",
       "\t\t<td>76</td>\n",
       "\t\t<td>Male</td>\n",
       "\t\t<td>2</td>\n",
       "\t</tr>\n",
       "\t<tr>\n",
       "\t\t<td>52</td>\n",
       "\t\t<td>161</td>\n",
       "\t\t<td>72</td>\n",
       "\t\t<td>Male</td>\n",
       "\t\t<td>3</td>\n",
       "\t</tr>\n",
       "\t<tr>\n",
       "\t\t<td>60</td>\n",
       "\t\t<td>196</td>\n",
       "\t\t<td>116</td>\n",
       "\t\t<td>Male</td>\n",
       "\t\t<td>4</td>\n",
       "\t</tr>\n",
       "\t<tr>\n",
       "\t\t<td>76</td>\n",
       "\t\t<td>164</td>\n",
       "\t\t<td>75</td>\n",
       "\t\t<td>Male</td>\n",
       "\t\t<td>3</td>\n",
       "\t</tr>\n",
       "\t<tr>\n",
       "\t\t<td>84</td>\n",
       "\t\t<td>186</td>\n",
       "\t\t<td>118</td>\n",
       "\t\t<td>Male</td>\n",
       "\t\t<td>4</td>\n",
       "\t</tr>\n",
       "\t<tr>\n",
       "\t\t<td>15</td>\n",
       "\t\t<td>192</td>\n",
       "\t\t<td>101</td>\n",
       "\t\t<td>Female</td>\n",
       "\t\t<td>3</td>\n",
       "\t</tr>\n",
       "\t<tr>\n",
       "\t\t<td>23</td>\n",
       "\t\t<td>160</td>\n",
       "\t\t<td>131</td>\n",
       "\t\t<td>Female</td>\n",
       "\t\t<td>5</td>\n",
       "\t</tr>\n",
       "\t<tr>\n",
       "\t\t<td>31</td>\n",
       "\t\t<td>189</td>\n",
       "\t\t<td>132</td>\n",
       "\t\t<td>Female</td>\n",
       "\t\t<td>4</td>\n",
       "\t</tr>\n",
       "\t<tr>\n",
       "\t\t<td>39</td>\n",
       "\t\t<td>171</td>\n",
       "\t\t<td>152</td>\n",
       "\t\t<td>Female</td>\n",
       "\t\t<td>5</td>\n",
       "\t</tr>\n",
       "</table></html>"
      ],
      "text/plain": [
       "   id  height  weight  gender  bmi\n",
       "0  28     140     129    Male    5\n",
       "1  44     185      76    Male    2\n",
       "2  52     161      72    Male    3\n",
       "3  60     196     116    Male    4\n",
       "4  76     164      75    Male    3\n",
       "5  84     186     118    Male    4\n",
       "6  15     192     101  Female    3\n",
       "7  23     160     131  Female    5\n",
       "8  31     189     132  Female    4\n",
       "9  39     171     152  Female    5"
      ]
     },
     "metadata": {},
     "output_type": "display_data"
    },
    {
     "name": "stdout",
     "output_type": "stream",
     "text": [
      "                                                                                                 \r"
     ]
    },
    {
     "data": {
      "text/html": [
       "93 rows X 5 columns"
      ],
      "text/plain": [
       "<IPython.core.display.HTML object>"
      ]
     },
     "metadata": {},
     "output_type": "display_data"
    },
    {
     "name": "stdout",
     "output_type": "stream",
     "text": [
      "result data stored in table '\"ALICE\".\"ml__td_sqlmr_persist_out__1719259725713797\"'⫾⫾⫾｜ 50% - 5/10\n",
      "                                                                                                 \r"
     ]
    },
    {
     "data": {
      "text/html": [
       "\n",
       "Updated dataset after performing categorical encoding :"
      ],
      "text/plain": [
       "<IPython.core.display.HTML object>"
      ]
     },
     "metadata": {},
     "output_type": "display_data"
    },
    {
     "data": {
      "text/html": [
       "<style type=\"text/css\">\n",
       "\ttable {border:ridge 5px;}\n",
       "\ttable td {border:inset 1px;}\n",
       "\ttable tr#HeaderRow {background-color:grey; color:white;}</style>\n",
       "<html><table>\n",
       "\t<tr id=\"HeaderRow\">\n",
       "\t\t<th>id</th>\n",
       "\t\t<th>height</th>\n",
       "\t\t<th>weight</th>\n",
       "\t\t<th>gender_0</th>\n",
       "\t\t<th>gender_1</th>\n",
       "\t\t<th>bmi</th>\n",
       "\t</tr>\n",
       "\t<tr>\n",
       "\t\t<td>263</td>\n",
       "\t\t<td>157</td>\n",
       "\t\t<td>56</td>\n",
       "\t\t<td>1</td>\n",
       "\t\t<td>0</td>\n",
       "\t\t<td>2</td>\n",
       "\t</tr>\n",
       "\t<tr>\n",
       "\t\t<td>284</td>\n",
       "\t\t<td>159</td>\n",
       "\t\t<td>120</td>\n",
       "\t\t<td>0</td>\n",
       "\t\t<td>1</td>\n",
       "\t\t<td>5</td>\n",
       "\t</tr>\n",
       "\t<tr>\n",
       "\t\t<td>156</td>\n",
       "\t\t<td>141</td>\n",
       "\t\t<td>85</td>\n",
       "\t\t<td>0</td>\n",
       "\t\t<td>1</td>\n",
       "\t\t<td>5</td>\n",
       "\t</tr>\n",
       "\t<tr>\n",
       "\t\t<td>383</td>\n",
       "\t\t<td>197</td>\n",
       "\t\t<td>114</td>\n",
       "\t\t<td>1</td>\n",
       "\t\t<td>0</td>\n",
       "\t\t<td>3</td>\n",
       "\t</tr>\n",
       "\t<tr>\n",
       "\t\t<td>95</td>\n",
       "\t\t<td>150</td>\n",
       "\t\t<td>70</td>\n",
       "\t\t<td>1</td>\n",
       "\t\t<td>0</td>\n",
       "\t\t<td>4</td>\n",
       "\t</tr>\n",
       "\t<tr>\n",
       "\t\t<td>196</td>\n",
       "\t\t<td>152</td>\n",
       "\t\t<td>103</td>\n",
       "\t\t<td>0</td>\n",
       "\t\t<td>1</td>\n",
       "\t\t<td>5</td>\n",
       "\t</tr>\n",
       "\t<tr>\n",
       "\t\t<td>244</td>\n",
       "\t\t<td>188</td>\n",
       "\t\t<td>99</td>\n",
       "\t\t<td>0</td>\n",
       "\t\t<td>1</td>\n",
       "\t\t<td>3</td>\n",
       "\t</tr>\n",
       "\t<tr>\n",
       "\t\t<td>343</td>\n",
       "\t\t<td>188</td>\n",
       "\t\t<td>128</td>\n",
       "\t\t<td>1</td>\n",
       "\t\t<td>0</td>\n",
       "\t\t<td>4</td>\n",
       "\t</tr>\n",
       "\t<tr>\n",
       "\t\t<td>223</td>\n",
       "\t\t<td>180</td>\n",
       "\t\t<td>156</td>\n",
       "\t\t<td>1</td>\n",
       "\t\t<td>0</td>\n",
       "\t\t<td>5</td>\n",
       "\t</tr>\n",
       "\t<tr>\n",
       "\t\t<td>15</td>\n",
       "\t\t<td>192</td>\n",
       "\t\t<td>101</td>\n",
       "\t\t<td>1</td>\n",
       "\t\t<td>0</td>\n",
       "\t\t<td>3</td>\n",
       "\t</tr>\n",
       "</table></html>"
      ],
      "text/plain": [
       "     height  weight  gender_0  gender_1  bmi\n",
       "id                                          \n",
       "263     157      56         1         0    2\n",
       "284     159     120         0         1    5\n",
       "156     141      85         0         1    5\n",
       "383     197     114         1         0    3\n",
       "95      150      70         1         0    4\n",
       "196     152     103         0         1    5\n",
       "244     188      99         0         1    3\n",
       "343     188     128         1         0    4\n",
       "223     180     156         1         0    5\n",
       "15      192     101         1         0    3"
      ]
     },
     "metadata": {},
     "output_type": "display_data"
    },
    {
     "name": "stdout",
     "output_type": "stream",
     "text": [
      "                                                                                                 \r"
     ]
    },
    {
     "data": {
      "text/html": [
       "93 rows X 6 columns"
      ],
      "text/plain": [
       "<IPython.core.display.HTML object>"
      ]
     },
     "metadata": {},
     "output_type": "display_data"
    },
    {
     "name": "stdout",
     "output_type": "stream",
     "text": [
      "                                                                                                 \r"
     ]
    },
    {
     "data": {
      "text/html": [
       "Performing transformation carried out in data preparation phase ..."
      ],
      "text/plain": [
       "<IPython.core.display.HTML object>"
      ]
     },
     "metadata": {},
     "output_type": "display_data"
    },
    {
     "name": "stdout",
     "output_type": "stream",
     "text": [
      "                                                                                                 \r"
     ]
    },
    {
     "data": {
      "text/html": [
       "\n",
       "Updated dataset after performing Lasso feature selection:"
      ],
      "text/plain": [
       "<IPython.core.display.HTML object>"
      ]
     },
     "metadata": {},
     "output_type": "display_data"
    },
    {
     "data": {
      "text/html": [
       "<style type=\"text/css\">\n",
       "\ttable {border:ridge 5px;}\n",
       "\ttable td {border:inset 1px;}\n",
       "\ttable tr#HeaderRow {background-color:grey; color:white;}</style>\n",
       "<html><table>\n",
       "\t<tr id=\"HeaderRow\">\n",
       "\t\t<th>id</th>\n",
       "\t\t<th>weight</th>\n",
       "\t\t<th>gender_1</th>\n",
       "\t\t<th>gender_0</th>\n",
       "\t\t<th>height</th>\n",
       "\t\t<th>bmi</th>\n",
       "\t</tr>\n",
       "\t<tr>\n",
       "\t\t<td>183</td>\n",
       "\t\t<td>90</td>\n",
       "\t\t<td>0</td>\n",
       "\t\t<td>1</td>\n",
       "\t\t<td>152</td>\n",
       "\t\t<td>4</td>\n",
       "\t</tr>\n",
       "\t<tr>\n",
       "\t\t<td>244</td>\n",
       "\t\t<td>99</td>\n",
       "\t\t<td>1</td>\n",
       "\t\t<td>0</td>\n",
       "\t\t<td>188</td>\n",
       "\t\t<td>3</td>\n",
       "\t</tr>\n",
       "\t<tr>\n",
       "\t\t<td>343</td>\n",
       "\t\t<td>128</td>\n",
       "\t\t<td>0</td>\n",
       "\t\t<td>1</td>\n",
       "\t\t<td>188</td>\n",
       "\t\t<td>4</td>\n",
       "\t</tr>\n",
       "\t<tr>\n",
       "\t\t<td>263</td>\n",
       "\t\t<td>56</td>\n",
       "\t\t<td>0</td>\n",
       "\t\t<td>1</td>\n",
       "\t\t<td>157</td>\n",
       "\t\t<td>2</td>\n",
       "\t</tr>\n",
       "\t<tr>\n",
       "\t\t<td>284</td>\n",
       "\t\t<td>120</td>\n",
       "\t\t<td>1</td>\n",
       "\t\t<td>0</td>\n",
       "\t\t<td>159</td>\n",
       "\t\t<td>5</td>\n",
       "\t</tr>\n",
       "\t<tr>\n",
       "\t\t<td>156</td>\n",
       "\t\t<td>85</td>\n",
       "\t\t<td>1</td>\n",
       "\t\t<td>0</td>\n",
       "\t\t<td>141</td>\n",
       "\t\t<td>5</td>\n",
       "\t</tr>\n",
       "\t<tr>\n",
       "\t\t<td>55</td>\n",
       "\t\t<td>100</td>\n",
       "\t\t<td>0</td>\n",
       "\t\t<td>1</td>\n",
       "\t\t<td>185</td>\n",
       "\t\t<td>3</td>\n",
       "\t</tr>\n",
       "\t<tr>\n",
       "\t\t<td>135</td>\n",
       "\t\t<td>153</td>\n",
       "\t\t<td>0</td>\n",
       "\t\t<td>1</td>\n",
       "\t\t<td>158</td>\n",
       "\t\t<td>5</td>\n",
       "\t</tr>\n",
       "\t<tr>\n",
       "\t\t<td>95</td>\n",
       "\t\t<td>70</td>\n",
       "\t\t<td>0</td>\n",
       "\t\t<td>1</td>\n",
       "\t\t<td>150</td>\n",
       "\t\t<td>4</td>\n",
       "\t</tr>\n",
       "\t<tr>\n",
       "\t\t<td>196</td>\n",
       "\t\t<td>103</td>\n",
       "\t\t<td>1</td>\n",
       "\t\t<td>0</td>\n",
       "\t\t<td>152</td>\n",
       "\t\t<td>5</td>\n",
       "\t</tr>\n",
       "</table></html>"
      ],
      "text/plain": [
       "     weight  gender_1  gender_0  height  bmi\n",
       "id                                          \n",
       "183      90         0         1     152    4\n",
       "244      99         1         0     188    3\n",
       "343     128         0         1     188    4\n",
       "263      56         0         1     157    2\n",
       "284     120         1         0     159    5\n",
       "156      85         1         0     141    5\n",
       "55      100         0         1     185    3\n",
       "135     153         0         1     158    5\n",
       "95       70         0         1     150    4\n",
       "196     103         1         0     152    5"
      ]
     },
     "metadata": {},
     "output_type": "display_data"
    },
    {
     "name": "stdout",
     "output_type": "stream",
     "text": [
      "                                                                                                 \r"
     ]
    },
    {
     "data": {
      "text/html": [
       "93 rows X 6 columns"
      ],
      "text/plain": [
       "<IPython.core.display.HTML object>"
      ]
     },
     "metadata": {},
     "output_type": "display_data"
    },
    {
     "name": "stdout",
     "output_type": "stream",
     "text": [
      "                                                                                                 \r"
     ]
    },
    {
     "data": {
      "text/html": [
       "\n",
       "Updated dataset after performing scaling on Lasso selected features :"
      ],
      "text/plain": [
       "<IPython.core.display.HTML object>"
      ]
     },
     "metadata": {},
     "output_type": "display_data"
    },
    {
     "data": {
      "text/html": [
       "<style type=\"text/css\">\n",
       "\ttable {border:ridge 5px;}\n",
       "\ttable td {border:inset 1px;}\n",
       "\ttable tr#HeaderRow {background-color:grey; color:white;}</style>\n",
       "<html><table>\n",
       "\t<tr id=\"HeaderRow\">\n",
       "\t\t<th>id</th>\n",
       "\t\t<th>gender_0</th>\n",
       "\t\t<th>gender_1</th>\n",
       "\t\t<th>bmi</th>\n",
       "\t\t<th>weight</th>\n",
       "\t\t<th>height</th>\n",
       "\t</tr>\n",
       "\t<tr>\n",
       "\t\t<td>55</td>\n",
       "\t\t<td>1</td>\n",
       "\t\t<td>0</td>\n",
       "\t\t<td>3</td>\n",
       "\t\t<td>0.45454545454545453</td>\n",
       "\t\t<td>0.7627118644067796</td>\n",
       "\t</tr>\n",
       "\t<tr>\n",
       "\t\t<td>284</td>\n",
       "\t\t<td>0</td>\n",
       "\t\t<td>1</td>\n",
       "\t\t<td>5</td>\n",
       "\t\t<td>0.6363636363636364</td>\n",
       "\t\t<td>0.3220338983050847</td>\n",
       "\t</tr>\n",
       "\t<tr>\n",
       "\t\t<td>156</td>\n",
       "\t\t<td>0</td>\n",
       "\t\t<td>1</td>\n",
       "\t\t<td>5</td>\n",
       "\t\t<td>0.3181818181818182</td>\n",
       "\t\t<td>0.01694915254237288</td>\n",
       "\t</tr>\n",
       "\t<tr>\n",
       "\t\t<td>95</td>\n",
       "\t\t<td>1</td>\n",
       "\t\t<td>0</td>\n",
       "\t\t<td>4</td>\n",
       "\t\t<td>0.18181818181818182</td>\n",
       "\t\t<td>0.1694915254237288</td>\n",
       "\t</tr>\n",
       "\t<tr>\n",
       "\t\t<td>223</td>\n",
       "\t\t<td>1</td>\n",
       "\t\t<td>0</td>\n",
       "\t\t<td>5</td>\n",
       "\t\t<td>0.9636363636363636</td>\n",
       "\t\t<td>0.6779661016949152</td>\n",
       "\t</tr>\n",
       "\t<tr>\n",
       "\t\t<td>15</td>\n",
       "\t\t<td>1</td>\n",
       "\t\t<td>0</td>\n",
       "\t\t<td>3</td>\n",
       "\t\t<td>0.4636363636363636</td>\n",
       "\t\t<td>0.8813559322033898</td>\n",
       "\t</tr>\n",
       "\t<tr>\n",
       "\t\t<td>244</td>\n",
       "\t\t<td>0</td>\n",
       "\t\t<td>1</td>\n",
       "\t\t<td>3</td>\n",
       "\t\t<td>0.44545454545454544</td>\n",
       "\t\t<td>0.8135593220338984</td>\n",
       "\t</tr>\n",
       "\t<tr>\n",
       "\t\t<td>343</td>\n",
       "\t\t<td>1</td>\n",
       "\t\t<td>0</td>\n",
       "\t\t<td>4</td>\n",
       "\t\t<td>0.7090909090909091</td>\n",
       "\t\t<td>0.8135593220338984</td>\n",
       "\t</tr>\n",
       "\t<tr>\n",
       "\t\t<td>263</td>\n",
       "\t\t<td>1</td>\n",
       "\t\t<td>0</td>\n",
       "\t\t<td>2</td>\n",
       "\t\t<td>0.05454545454545454</td>\n",
       "\t\t<td>0.288135593220339</td>\n",
       "\t</tr>\n",
       "\t<tr>\n",
       "\t\t<td>324</td>\n",
       "\t\t<td>0</td>\n",
       "\t\t<td>1</td>\n",
       "\t\t<td>5</td>\n",
       "\t\t<td>0.9</td>\n",
       "\t\t<td>0.05084745762711865</td>\n",
       "\t</tr>\n",
       "</table></html>"
      ],
      "text/plain": [
       "    id  gender_0  gender_1  bmi    weight    height\n",
       "0   55         1         0    3  0.454545  0.762712\n",
       "1  284         0         1    5  0.636364  0.322034\n",
       "2  156         0         1    5  0.318182  0.016949\n",
       "3   95         1         0    4  0.181818  0.169492\n",
       "4  223         1         0    5  0.963636  0.677966\n",
       "5   15         1         0    3  0.463636  0.881356\n",
       "6  244         0         1    3  0.445455  0.813559\n",
       "7  343         1         0    4  0.709091  0.813559\n",
       "8  263         1         0    2  0.054545  0.288136\n",
       "9  324         0         1    5  0.900000  0.050847"
      ]
     },
     "metadata": {},
     "output_type": "display_data"
    },
    {
     "name": "stdout",
     "output_type": "stream",
     "text": [
      "                                                                                                 \r"
     ]
    },
    {
     "data": {
      "text/html": [
       "93 rows X 6 columns"
      ],
      "text/plain": [
       "<IPython.core.display.HTML object>"
      ]
     },
     "metadata": {},
     "output_type": "display_data"
    },
    {
     "name": "stdout",
     "output_type": "stream",
     "text": [
      "                                                                                                 \r"
     ]
    },
    {
     "data": {
      "text/html": [
       "\n",
       "Updated dataset after performing RFE feature selection:"
      ],
      "text/plain": [
       "<IPython.core.display.HTML object>"
      ]
     },
     "metadata": {},
     "output_type": "display_data"
    },
    {
     "data": {
      "text/html": [
       "<style type=\"text/css\">\n",
       "\ttable {border:ridge 5px;}\n",
       "\ttable td {border:inset 1px;}\n",
       "\ttable tr#HeaderRow {background-color:grey; color:white;}</style>\n",
       "<html><table>\n",
       "\t<tr id=\"HeaderRow\">\n",
       "\t\t<th>id</th>\n",
       "\t\t<th>height</th>\n",
       "\t\t<th>weight</th>\n",
       "\t\t<th>bmi</th>\n",
       "\t</tr>\n",
       "\t<tr>\n",
       "\t\t<td>55</td>\n",
       "\t\t<td>185</td>\n",
       "\t\t<td>100</td>\n",
       "\t\t<td>3</td>\n",
       "\t</tr>\n",
       "\t<tr>\n",
       "\t\t<td>263</td>\n",
       "\t\t<td>157</td>\n",
       "\t\t<td>56</td>\n",
       "\t\t<td>2</td>\n",
       "\t</tr>\n",
       "\t<tr>\n",
       "\t\t<td>324</td>\n",
       "\t\t<td>143</td>\n",
       "\t\t<td>149</td>\n",
       "\t\t<td>5</td>\n",
       "\t</tr>\n",
       "\t<tr>\n",
       "\t\t<td>223</td>\n",
       "\t\t<td>180</td>\n",
       "\t\t<td>156</td>\n",
       "\t\t<td>5</td>\n",
       "\t</tr>\n",
       "\t<tr>\n",
       "\t\t<td>95</td>\n",
       "\t\t<td>150</td>\n",
       "\t\t<td>70</td>\n",
       "\t\t<td>4</td>\n",
       "\t</tr>\n",
       "\t<tr>\n",
       "\t\t<td>196</td>\n",
       "\t\t<td>152</td>\n",
       "\t\t<td>103</td>\n",
       "\t\t<td>5</td>\n",
       "\t</tr>\n",
       "\t<tr>\n",
       "\t\t<td>284</td>\n",
       "\t\t<td>159</td>\n",
       "\t\t<td>120</td>\n",
       "\t\t<td>5</td>\n",
       "\t</tr>\n",
       "\t<tr>\n",
       "\t\t<td>156</td>\n",
       "\t\t<td>141</td>\n",
       "\t\t<td>85</td>\n",
       "\t\t<td>5</td>\n",
       "\t</tr>\n",
       "\t<tr>\n",
       "\t\t<td>244</td>\n",
       "\t\t<td>188</td>\n",
       "\t\t<td>99</td>\n",
       "\t\t<td>3</td>\n",
       "\t</tr>\n",
       "\t<tr>\n",
       "\t\t<td>343</td>\n",
       "\t\t<td>188</td>\n",
       "\t\t<td>128</td>\n",
       "\t\t<td>4</td>\n",
       "\t</tr>\n",
       "</table></html>"
      ],
      "text/plain": [
       "     height  weight  bmi\n",
       "id                      \n",
       "55      185     100    3\n",
       "263     157      56    2\n",
       "324     143     149    5\n",
       "223     180     156    5\n",
       "95      150      70    4\n",
       "196     152     103    5\n",
       "284     159     120    5\n",
       "156     141      85    5\n",
       "244     188      99    3\n",
       "343     188     128    4"
      ]
     },
     "metadata": {},
     "output_type": "display_data"
    },
    {
     "name": "stdout",
     "output_type": "stream",
     "text": [
      "                                                                                                 \r"
     ]
    },
    {
     "data": {
      "text/html": [
       "93 rows X 4 columns"
      ],
      "text/plain": [
       "<IPython.core.display.HTML object>"
      ]
     },
     "metadata": {},
     "output_type": "display_data"
    },
    {
     "name": "stdout",
     "output_type": "stream",
     "text": [
      "                                                                                                 \r"
     ]
    },
    {
     "data": {
      "text/html": [
       "\n",
       "Updated dataset after performing scaling on RFE selected features :"
      ],
      "text/plain": [
       "<IPython.core.display.HTML object>"
      ]
     },
     "metadata": {},
     "output_type": "display_data"
    },
    {
     "data": {
      "text/html": [
       "<style type=\"text/css\">\n",
       "\ttable {border:ridge 5px;}\n",
       "\ttable td {border:inset 1px;}\n",
       "\ttable tr#HeaderRow {background-color:grey; color:white;}</style>\n",
       "<html><table>\n",
       "\t<tr id=\"HeaderRow\">\n",
       "\t\t<th>id</th>\n",
       "\t\t<th>bmi</th>\n",
       "\t\t<th>r_height</th>\n",
       "\t\t<th>r_weight</th>\n",
       "\t</tr>\n",
       "\t<tr>\n",
       "\t\t<td>183</td>\n",
       "\t\t<td>4</td>\n",
       "\t\t<td>0.2033898305084746</td>\n",
       "\t\t<td>0.36363636363636365</td>\n",
       "\t</tr>\n",
       "\t<tr>\n",
       "\t\t<td>95</td>\n",
       "\t\t<td>4</td>\n",
       "\t\t<td>0.1694915254237288</td>\n",
       "\t\t<td>0.18181818181818182</td>\n",
       "\t</tr>\n",
       "\t<tr>\n",
       "\t\t<td>196</td>\n",
       "\t\t<td>5</td>\n",
       "\t\t<td>0.2033898305084746</td>\n",
       "\t\t<td>0.4818181818181818</td>\n",
       "\t</tr>\n",
       "\t<tr>\n",
       "\t\t<td>263</td>\n",
       "\t\t<td>2</td>\n",
       "\t\t<td>0.288135593220339</td>\n",
       "\t\t<td>0.05454545454545454</td>\n",
       "\t</tr>\n",
       "\t<tr>\n",
       "\t\t<td>383</td>\n",
       "\t\t<td>3</td>\n",
       "\t\t<td>0.9661016949152542</td>\n",
       "\t\t<td>0.5818181818181818</td>\n",
       "\t</tr>\n",
       "\t<tr>\n",
       "\t\t<td>175</td>\n",
       "\t\t<td>5</td>\n",
       "\t\t<td>0.03389830508474576</td>\n",
       "\t\t<td>0.32727272727272727</td>\n",
       "\t</tr>\n",
       "\t<tr>\n",
       "\t\t<td>223</td>\n",
       "\t\t<td>5</td>\n",
       "\t\t<td>0.6779661016949152</td>\n",
       "\t\t<td>0.9636363636363636</td>\n",
       "\t</tr>\n",
       "\t<tr>\n",
       "\t\t<td>15</td>\n",
       "\t\t<td>3</td>\n",
       "\t\t<td>0.8813559322033898</td>\n",
       "\t\t<td>0.4636363636363636</td>\n",
       "\t</tr>\n",
       "\t<tr>\n",
       "\t\t<td>55</td>\n",
       "\t\t<td>3</td>\n",
       "\t\t<td>0.7627118644067796</td>\n",
       "\t\t<td>0.45454545454545453</td>\n",
       "\t</tr>\n",
       "\t<tr>\n",
       "\t\t<td>135</td>\n",
       "\t\t<td>5</td>\n",
       "\t\t<td>0.3050847457627119</td>\n",
       "\t\t<td>0.9363636363636364</td>\n",
       "\t</tr>\n",
       "</table></html>"
      ],
      "text/plain": [
       "    id  bmi  r_height  r_weight\n",
       "0  183    4  0.203390  0.363636\n",
       "1   95    4  0.169492  0.181818\n",
       "2  196    5  0.203390  0.481818\n",
       "3  263    2  0.288136  0.054545\n",
       "4  383    3  0.966102  0.581818\n",
       "5  175    5  0.033898  0.327273\n",
       "6  223    5  0.677966  0.963636\n",
       "7   15    3  0.881356  0.463636\n",
       "8   55    3  0.762712  0.454545\n",
       "9  135    5  0.305085  0.936364"
      ]
     },
     "metadata": {},
     "output_type": "display_data"
    },
    {
     "name": "stdout",
     "output_type": "stream",
     "text": [
      "                                                                                                 \r"
     ]
    },
    {
     "data": {
      "text/html": [
       "93 rows X 4 columns"
      ],
      "text/plain": [
       "<IPython.core.display.HTML object>"
      ]
     },
     "metadata": {},
     "output_type": "display_data"
    },
    {
     "name": "stdout",
     "output_type": "stream",
     "text": [
      "                                                                                                 \r"
     ]
    },
    {
     "data": {
      "text/html": [
       "\n",
       "Updated dataset after performing scaling for PCA feature selection :"
      ],
      "text/plain": [
       "<IPython.core.display.HTML object>"
      ]
     },
     "metadata": {},
     "output_type": "display_data"
    },
    {
     "data": {
      "text/html": [
       "<style type=\"text/css\">\n",
       "\ttable {border:ridge 5px;}\n",
       "\ttable td {border:inset 1px;}\n",
       "\ttable tr#HeaderRow {background-color:grey; color:white;}</style>\n",
       "<html><table>\n",
       "\t<tr id=\"HeaderRow\">\n",
       "\t\t<th>id</th>\n",
       "\t\t<th>gender_0</th>\n",
       "\t\t<th>gender_1</th>\n",
       "\t\t<th>bmi</th>\n",
       "\t\t<th>height</th>\n",
       "\t\t<th>weight</th>\n",
       "\t</tr>\n",
       "\t<tr>\n",
       "\t\t<td>55</td>\n",
       "\t\t<td>1</td>\n",
       "\t\t<td>0</td>\n",
       "\t\t<td>3</td>\n",
       "\t\t<td>0.7627118644067796</td>\n",
       "\t\t<td>0.45454545454545453</td>\n",
       "\t</tr>\n",
       "\t<tr>\n",
       "\t\t<td>383</td>\n",
       "\t\t<td>1</td>\n",
       "\t\t<td>0</td>\n",
       "\t\t<td>3</td>\n",
       "\t\t<td>0.9661016949152542</td>\n",
       "\t\t<td>0.5818181818181818</td>\n",
       "\t</tr>\n",
       "\t<tr>\n",
       "\t\t<td>175</td>\n",
       "\t\t<td>1</td>\n",
       "\t\t<td>0</td>\n",
       "\t\t<td>5</td>\n",
       "\t\t<td>0.03389830508474576</td>\n",
       "\t\t<td>0.32727272727272727</td>\n",
       "\t</tr>\n",
       "\t<tr>\n",
       "\t\t<td>223</td>\n",
       "\t\t<td>1</td>\n",
       "\t\t<td>0</td>\n",
       "\t\t<td>5</td>\n",
       "\t\t<td>0.6779661016949152</td>\n",
       "\t\t<td>0.9636363636363636</td>\n",
       "\t</tr>\n",
       "\t<tr>\n",
       "\t\t<td>284</td>\n",
       "\t\t<td>0</td>\n",
       "\t\t<td>1</td>\n",
       "\t\t<td>5</td>\n",
       "\t\t<td>0.3220338983050847</td>\n",
       "\t\t<td>0.6363636363636364</td>\n",
       "\t</tr>\n",
       "\t<tr>\n",
       "\t\t<td>156</td>\n",
       "\t\t<td>0</td>\n",
       "\t\t<td>1</td>\n",
       "\t\t<td>5</td>\n",
       "\t\t<td>0.01694915254237288</td>\n",
       "\t\t<td>0.3181818181818182</td>\n",
       "\t</tr>\n",
       "\t<tr>\n",
       "\t\t<td>95</td>\n",
       "\t\t<td>1</td>\n",
       "\t\t<td>0</td>\n",
       "\t\t<td>4</td>\n",
       "\t\t<td>0.1694915254237288</td>\n",
       "\t\t<td>0.18181818181818182</td>\n",
       "\t</tr>\n",
       "\t<tr>\n",
       "\t\t<td>196</td>\n",
       "\t\t<td>0</td>\n",
       "\t\t<td>1</td>\n",
       "\t\t<td>5</td>\n",
       "\t\t<td>0.2033898305084746</td>\n",
       "\t\t<td>0.4818181818181818</td>\n",
       "\t</tr>\n",
       "\t<tr>\n",
       "\t\t<td>244</td>\n",
       "\t\t<td>0</td>\n",
       "\t\t<td>1</td>\n",
       "\t\t<td>3</td>\n",
       "\t\t<td>0.8135593220338984</td>\n",
       "\t\t<td>0.44545454545454544</td>\n",
       "\t</tr>\n",
       "\t<tr>\n",
       "\t\t<td>343</td>\n",
       "\t\t<td>1</td>\n",
       "\t\t<td>0</td>\n",
       "\t\t<td>4</td>\n",
       "\t\t<td>0.8135593220338984</td>\n",
       "\t\t<td>0.7090909090909091</td>\n",
       "\t</tr>\n",
       "</table></html>"
      ],
      "text/plain": [
       "    id  gender_0  gender_1  bmi    height    weight\n",
       "0   55         1         0    3  0.762712  0.454545\n",
       "1  383         1         0    3  0.966102  0.581818\n",
       "2  175         1         0    5  0.033898  0.327273\n",
       "3  223         1         0    5  0.677966  0.963636\n",
       "4  284         0         1    5  0.322034  0.636364\n",
       "5  156         0         1    5  0.016949  0.318182\n",
       "6   95         1         0    4  0.169492  0.181818\n",
       "7  196         0         1    5  0.203390  0.481818\n",
       "8  244         0         1    3  0.813559  0.445455\n",
       "9  343         1         0    4  0.813559  0.709091"
      ]
     },
     "metadata": {},
     "output_type": "display_data"
    },
    {
     "name": "stdout",
     "output_type": "stream",
     "text": [
      "                                                                                                 \r"
     ]
    },
    {
     "data": {
      "text/html": [
       "93 rows X 6 columns"
      ],
      "text/plain": [
       "<IPython.core.display.HTML object>"
      ]
     },
     "metadata": {},
     "output_type": "display_data"
    },
    {
     "name": "stdout",
     "output_type": "stream",
     "text": [
      "                                                                                                 \r"
     ]
    },
    {
     "data": {
      "text/html": [
       "\n",
       "Updated dataset after performing PCA feature selection :"
      ],
      "text/plain": [
       "<IPython.core.display.HTML object>"
      ]
     },
     "metadata": {},
     "output_type": "display_data"
    },
    {
     "data": {
      "text/html": [
       "<div>\n",
       "<style scoped>\n",
       "    .dataframe tbody tr th:only-of-type {\n",
       "        vertical-align: middle;\n",
       "    }\n",
       "\n",
       "    .dataframe tbody tr th {\n",
       "        vertical-align: top;\n",
       "    }\n",
       "\n",
       "    .dataframe thead th {\n",
       "        text-align: right;\n",
       "    }\n",
       "</style>\n",
       "<table border=\"1\" class=\"dataframe\">\n",
       "  <thead>\n",
       "    <tr style=\"text-align: right;\">\n",
       "      <th></th>\n",
       "      <th>id</th>\n",
       "      <th>col_0</th>\n",
       "      <th>col_1</th>\n",
       "      <th>col_2</th>\n",
       "      <th>bmi</th>\n",
       "    </tr>\n",
       "  </thead>\n",
       "  <tbody>\n",
       "    <tr>\n",
       "      <th>0</th>\n",
       "      <td>183</td>\n",
       "      <td>-0.676180</td>\n",
       "      <td>0.309721</td>\n",
       "      <td>0.142603</td>\n",
       "      <td>4</td>\n",
       "    </tr>\n",
       "    <tr>\n",
       "      <th>1</th>\n",
       "      <td>284</td>\n",
       "      <td>0.742208</td>\n",
       "      <td>0.033142</td>\n",
       "      <td>0.154268</td>\n",
       "      <td>5</td>\n",
       "    </tr>\n",
       "    <tr>\n",
       "      <th>2</th>\n",
       "      <td>383</td>\n",
       "      <td>-0.688990</td>\n",
       "      <td>-0.318710</td>\n",
       "      <td>-0.341384</td>\n",
       "      <td>3</td>\n",
       "    </tr>\n",
       "    <tr>\n",
       "      <th>3</th>\n",
       "      <td>263</td>\n",
       "      <td>-0.687775</td>\n",
       "      <td>0.508084</td>\n",
       "      <td>-0.108866</td>\n",
       "      <td>2</td>\n",
       "    </tr>\n",
       "    <tr>\n",
       "      <th>4</th>\n",
       "      <td>55</td>\n",
       "      <td>-0.687683</td>\n",
       "      <td>-0.095540</td>\n",
       "      <td>-0.253297</td>\n",
       "      <td>3</td>\n",
       "    </tr>\n",
       "    <tr>\n",
       "      <th>5</th>\n",
       "      <td>95</td>\n",
       "      <td>-0.680863</td>\n",
       "      <td>0.476134</td>\n",
       "      <td>0.062033</td>\n",
       "      <td>4</td>\n",
       "    </tr>\n",
       "    <tr>\n",
       "      <th>6</th>\n",
       "      <td>244</td>\n",
       "      <td>0.723836</td>\n",
       "      <td>-0.105121</td>\n",
       "      <td>-0.354249</td>\n",
       "      <td>3</td>\n",
       "    </tr>\n",
       "    <tr>\n",
       "      <th>7</th>\n",
       "      <td>223</td>\n",
       "      <td>-0.669985</td>\n",
       "      <td>-0.454817</td>\n",
       "      <td>0.116787</td>\n",
       "      <td>5</td>\n",
       "    </tr>\n",
       "    <tr>\n",
       "      <th>8</th>\n",
       "      <td>364</td>\n",
       "      <td>0.718532</td>\n",
       "      <td>-0.008221</td>\n",
       "      <td>-0.467776</td>\n",
       "      <td>2</td>\n",
       "    </tr>\n",
       "    <tr>\n",
       "      <th>9</th>\n",
       "      <td>156</td>\n",
       "      <td>0.740285</td>\n",
       "      <td>0.470296</td>\n",
       "      <td>0.210916</td>\n",
       "      <td>5</td>\n",
       "    </tr>\n",
       "  </tbody>\n",
       "</table>\n",
       "</div>"
      ],
      "text/plain": [
       "    id     col_0     col_1     col_2  bmi\n",
       "0  183 -0.676180  0.309721  0.142603    4\n",
       "1  284  0.742208  0.033142  0.154268    5\n",
       "2  383 -0.688990 -0.318710 -0.341384    3\n",
       "3  263 -0.687775  0.508084 -0.108866    2\n",
       "4   55 -0.687683 -0.095540 -0.253297    3\n",
       "5   95 -0.680863  0.476134  0.062033    4\n",
       "6  244  0.723836 -0.105121 -0.354249    3\n",
       "7  223 -0.669985 -0.454817  0.116787    5\n",
       "8  364  0.718532 -0.008221 -0.467776    2\n",
       "9  156  0.740285  0.470296  0.210916    5"
      ]
     },
     "metadata": {},
     "output_type": "display_data"
    },
    {
     "name": "stdout",
     "output_type": "stream",
     "text": [
      "                                                                                                 \r"
     ]
    },
    {
     "data": {
      "text/html": [
       "10 rows X 5 columns"
      ],
      "text/plain": [
       "<IPython.core.display.HTML object>"
      ]
     },
     "metadata": {},
     "output_type": "display_data"
    },
    {
     "name": "stdout",
     "output_type": "stream",
     "text": [
      "Data Transformation completed.⫿⫿⫿⫿⫿⫿⫿⫿⫿⫿⫿⫿⫿⫿⫿⫿⫿⫿⫿⫿⫿⫿⫿⫿⫿⫿⫿⫿⫿⫿⫿⫿⫿⫿⫿⫿⫿⫿⫿⫿⫿⫿｜ 100% - 10/10           \n",
      "\n",
      "Following model is being used for generating prediction :\n",
      "Model ID : KNN_1 \n",
      "Feature Selection Method : lasso\n",
      "\n",
      "Prediction : \n",
      "    id  prediction  bmi\n",
      "0   68           4    5\n",
      "1   15           3    3\n",
      "2   23           5    5\n",
      "3   52           3    3\n",
      "4   47           4    4\n",
      "5  140           2    2\n",
      "6   63           4    4\n",
      "7   71           4    4\n",
      "8   28           5    5\n",
      "9   31           4    4\n",
      "\n",
      "Performance Metrics : \n",
      "       Prediction  Mapping  CLASS_1  CLASS_2  CLASS_3  CLASS_4  Precision    Recall        F1  Support\n",
      "SeqNum                                                                                                \n",
      "3               5  CLASS_4        0        0        0       36   1.000000  0.947368  0.972973       38\n",
      "0               2  CLASS_1       12        1        1        0   0.857143  0.923077  0.888889       13\n",
      "2               4  CLASS_3        0        2       21        2   0.840000  0.913043  0.875000       23\n",
      "1               3  CLASS_2        1       16        1        0   0.888889  0.842105  0.864865       19\n",
      "\n",
      "Confusion Matrix : \n"
     ]
    },
    {
     "data": {
      "text/plain": [
       "array([[12,  1,  0,  0],\n",
       "       [ 1, 16,  2,  0],\n",
       "       [ 1,  1, 21,  0],\n",
       "       [ 0,  0,  2, 36]], dtype=int64)"
      ]
     },
     "metadata": {},
     "output_type": "display_data"
    }
   ],
   "source": [
    "# Generating prediction and metrics on test data\n",
    "prediction = aml.predict(bmi_df_test, 2)"
   ]
  },
  {
   "cell_type": "code",
   "execution_count": 26,
   "id": "e3943eef-9278-4608-bc88-c68054100c8b",
   "metadata": {},
   "outputs": [
    {
     "data": {
      "text/html": [
       "<style type=\"text/css\">\n",
       "\ttable {border:ridge 5px;}\n",
       "\ttable td {border:inset 1px;}\n",
       "\ttable tr#HeaderRow {background-color:grey; color:white;}</style>\n",
       "<html><table>\n",
       "\t<tr id=\"HeaderRow\">\n",
       "\t\t<th>id</th>\n",
       "\t\t<th>prediction</th>\n",
       "\t\t<th>bmi</th>\n",
       "\t</tr>\n",
       "\t<tr>\n",
       "\t\t<td>20</td>\n",
       "\t\t<td>2</td>\n",
       "\t\t<td>2</td>\n",
       "\t</tr>\n",
       "\t<tr>\n",
       "\t\t<td>28</td>\n",
       "\t\t<td>5</td>\n",
       "\t\t<td>5</td>\n",
       "\t</tr>\n",
       "\t<tr>\n",
       "\t\t<td>31</td>\n",
       "\t\t<td>4</td>\n",
       "\t\t<td>4</td>\n",
       "\t</tr>\n",
       "\t<tr>\n",
       "\t\t<td>36</td>\n",
       "\t\t<td>5</td>\n",
       "\t\t<td>5</td>\n",
       "\t</tr>\n",
       "\t<tr>\n",
       "\t\t<td>44</td>\n",
       "\t\t<td>2</td>\n",
       "\t\t<td>2</td>\n",
       "\t</tr>\n",
       "\t<tr>\n",
       "\t\t<td>47</td>\n",
       "\t\t<td>4</td>\n",
       "\t\t<td>4</td>\n",
       "\t</tr>\n",
       "\t<tr>\n",
       "\t\t<td>39</td>\n",
       "\t\t<td>5</td>\n",
       "\t\t<td>5</td>\n",
       "\t</tr>\n",
       "\t<tr>\n",
       "\t\t<td>23</td>\n",
       "\t\t<td>5</td>\n",
       "\t\t<td>5</td>\n",
       "\t</tr>\n",
       "\t<tr>\n",
       "\t\t<td>15</td>\n",
       "\t\t<td>3</td>\n",
       "\t\t<td>3</td>\n",
       "\t</tr>\n",
       "\t<tr>\n",
       "\t\t<td>12</td>\n",
       "\t\t<td>3</td>\n",
       "\t\t<td>3</td>\n",
       "\t</tr>\n",
       "</table></html>"
      ],
      "text/plain": [
       "   id  prediction  bmi\n",
       "0  20           2    2\n",
       "1  28           5    5\n",
       "2  31           4    4\n",
       "3  36           5    5\n",
       "4  44           2    2\n",
       "5  47           4    4\n",
       "6  39           5    5\n",
       "7  23           5    5\n",
       "8  15           3    3\n",
       "9  12           3    3"
      ]
     },
     "execution_count": 26,
     "metadata": {},
     "output_type": "execute_result"
    }
   ],
   "source": [
    "# Printing prediction\n",
    "prediction.head()"
   ]
  },
  {
   "cell_type": "code",
   "execution_count": 27,
   "id": "b2cba357-75ac-4089-a234-64a57067b117",
   "metadata": {},
   "outputs": [
    {
     "data": {
      "text/plain": [
       "True"
      ]
     },
     "execution_count": 27,
     "metadata": {},
     "output_type": "execute_result"
    }
   ],
   "source": [
    "remove_context()"
   ]
  }
 ],
 "metadata": {
  "kernelspec": {
   "display_name": "Python 3 (ipykernel)",
   "language": "python",
   "name": "python3"
  },
  "language_info": {
   "codemirror_mode": {
    "name": "ipython",
    "version": 3
   },
   "file_extension": ".py",
   "mimetype": "text/x-python",
   "name": "python",
   "nbconvert_exporter": "python",
   "pygments_lexer": "ipython3",
   "version": "3.10.9"
  }
 },
 "nbformat": 4,
 "nbformat_minor": 5
}
