{
 "cells": [
  {
   "cell_type": "markdown",
   "id": "2762f1d8-5a66-411f-a625-34cf16ac6dd3",
   "metadata": {},
   "source": [
    "# <b><span style='color:#F1A424'>AutoML - Regression - Medical Insurance Charges Prediction</span> </b>"
   ]
  },
  {
   "cell_type": "markdown",
   "id": "2ef8d58a-7e0d-489d-a068-cb37e99cfb57",
   "metadata": {},
   "source": [
    "### Disclaimer\n",
    "Please note, the Vantage Functions via SQLAlchemy feature is a preview/beta code release with limited functionality (the “Code”). As such, you acknowledge that the Code is experimental in nature and that the Code is provided “AS IS” and may not be functional on any machine or in any environment. TERADATA DISCLAIMS ALL WARRANTIES RELATING TO THE CODE, EXPRESS OR IMPLIED, INCLUDING, BUT NOT LIMITED TO, ANY WARRANTIES AGAINST INFRINGEMENT OF THIRD-PARTY RIGHTS, MERCHANTABILITY AND FITNESS FOR A PARTICULAR PURPOSE.\n",
    "\n",
    "TERADATA SHALL NOT BE RESPONSIBLE OR LIABLE WITH RESPECT TO ANY SUBJECT MATTER OF THE CODE UNDER ANY CONTRACT, NEGLIGENCE, STRICT LIABILITY OR OTHER THEORY \n",
    "    (A) FOR LOSS OR INACCURACY OF DATA OR COST OF PROCUREMENT OF SUBSTITUTE GOODS, SERVICES OR TECHNOLOGY, OR \n",
    "    (B) FOR ANY INDIRECT, INCIDENTAL OR CONSEQUENTIAL DAMAGES INCLUDING, BUT NOT LIMITED TO LOSS OF REVENUES AND LOSS OF PROFITS. TERADATA SHALL NOT BE RESPONSIBLE FOR ANY MATTER BEYOND ITS REASONABLE CONTROL.\n",
    "\n",
    "Notwithstanding anything to the contrary: \n",
    "    (a) Teradata will have no obligation of any kind with respect to any Code-related comments, suggestions, design changes or improvements that you elect to provide to Teradata in either verbal or written form (collectively, “Feedback”), and \n",
    "    (b) Teradata and its affiliates are hereby free to use any ideas, concepts, know-how or techniques, in whole or in part, contained in Feedback: \n",
    "        (i) for any purpose whatsoever, including developing, manufacturing, and/or marketing products and/or services incorporating Feedback in whole or in part, and \n",
    "        (ii) without any restrictions or limitations, including requiring the payment of any license fees, royalties, or other consideration. "
   ]
  },
  {
   "cell_type": "markdown",
   "id": "f225fb94-b2c8-4c92-af38-733d08e0e2a1",
   "metadata": {},
   "source": [
    "## <b> Problem overview:</b>\n",
    "    "
   ]
  },
  {
   "cell_type": "markdown",
   "id": "af9813eb-9c44-4968-a5fe-d1c74415c894",
   "metadata": {},
   "source": [
    "**Dataset Used : Medical insurance Dataset**\n",
    "\n",
    "**Features**:\n",
    "\n",
    "- `Age`: The insured person's age.\n",
    "- `Sex`: Gender (male or female) of the insured.\n",
    "- `BMI (Body Mass Index)`: A measure of body fat based on height and weight.\n",
    "- `Children`: The number of dependents covered.\n",
    "- `Smoker`: Whether the insured is a smoker (yes or no).\n",
    "- `Region`: The geographic area of coverage.\n",
    "\n",
    "**Target Variable**:\n",
    "\n",
    "- `Charges`: The medical insurance costs incurred by the insured person.\n",
    "    \n",
    "**Objective**:\n",
    "\n",
    "The primary objective is typically to build a model that can accurately predict medical insurance costs incurred by the insured person.\n",
    "\n",
    "**Usecase**:\n",
    "\n",
    "Here, we will use AutoML(Automated Machine Learning) functionality to automate the entire process of developing a predictive model. It will perform feature exploration, feature engineering, data preparation, model training and evaluation on dataset in auto run and at end we will get leaderboard containined different models along with their performance. Model will also have rank associated with them which indicates which is best performing model for given data followed by other models."
   ]
  },
  {
   "cell_type": "code",
   "execution_count": 1,
   "id": "66568348-4d00-477c-a071-17995f797c95",
   "metadata": {},
   "outputs": [],
   "source": [
    "# Importing AutoML from teradataml\n",
    "from teradataml import AutoML, AutoRegressor"
   ]
  },
  {
   "cell_type": "code",
   "execution_count": 2,
   "id": "17dfae70-0401-4cc4-ba1c-400a5cf62451",
   "metadata": {},
   "outputs": [],
   "source": [
    "# Importing other important libraries\n",
    "import getpass\n",
    "from teradataml import create_context, remove_context\n",
    "from teradataml import DataFrame\n",
    "from teradataml import load_example_data\n",
    "from teradataml import TrainTestSplit"
   ]
  },
  {
   "cell_type": "code",
   "execution_count": 3,
   "id": "cadd9ed2-42d6-4899-b23e-4e2cf601162f",
   "metadata": {},
   "outputs": [
    {
     "name": "stdin",
     "output_type": "stream",
     "text": [
      "Host:  ········\n",
      "Username:  ········\n",
      "Password:  ········\n"
     ]
    }
   ],
   "source": [
    "# Create the connection.\n",
    "host = getpass.getpass(\"Host: \")\n",
    "username = getpass.getpass(\"Username: \")\n",
    "password = getpass.getpass(\"Password: \")\n",
    "\n",
    "con = create_context(host=host, username=username, password=password)"
   ]
  },
  {
   "cell_type": "markdown",
   "id": "be767a89-d5b8-4876-91cb-36980754586e",
   "metadata": {},
   "source": [
    "## <b><span style='color:#F1A424'>| 1.</span> Loading Dataset </b>"
   ]
  },
  {
   "cell_type": "code",
   "execution_count": 4,
   "id": "f1592c52-b247-4792-be2a-30b49bbeb9b6",
   "metadata": {},
   "outputs": [
    {
     "name": "stdout",
     "output_type": "stream",
     "text": [
      "WARNING: Skipped loading table insurance since it already exists in the database.\n"
     ]
    }
   ],
   "source": [
    "# Loading dataset from example data collection\n",
    "load_example_data('teradataml','insurance')"
   ]
  },
  {
   "cell_type": "code",
   "execution_count": 5,
   "id": "3846ae0f-004b-4b8e-9fea-06fac4294065",
   "metadata": {},
   "outputs": [],
   "source": [
    "# Fetching in teradata dataframe\n",
    "insurance_df = DataFrame(\"insurance\")"
   ]
  },
  {
   "cell_type": "code",
   "execution_count": 6,
   "id": "442ccd80-b444-413e-970d-d855ec3d6cae",
   "metadata": {},
   "outputs": [
    {
     "data": {
      "text/html": [
       "<style type=\"text/css\">\n",
       "\ttable {border:ridge 5px;}\n",
       "\ttable td {border:inset 1px;}\n",
       "\ttable tr#HeaderRow {background-color:grey; color:white;}</style>\n",
       "<html><table>\n",
       "\t<tr id=\"HeaderRow\">\n",
       "\t\t<th>age</th>\n",
       "\t\t<th>sex</th>\n",
       "\t\t<th>bmi</th>\n",
       "\t\t<th>children</th>\n",
       "\t\t<th>smoker</th>\n",
       "\t\t<th>region</th>\n",
       "\t\t<th>charges</th>\n",
       "\t</tr>\n",
       "\t<tr>\n",
       "\t\t<td>18</td>\n",
       "\t\t<td>male</td>\n",
       "\t\t<td>53.13</td>\n",
       "\t\t<td>0</td>\n",
       "\t\t<td>no</td>\n",
       "\t\t<td>southeast</td>\n",
       "\t\t<td>1163.4627</td>\n",
       "\t</tr>\n",
       "\t<tr>\n",
       "\t\t<td>18</td>\n",
       "\t\t<td>female</td>\n",
       "\t\t<td>31.13</td>\n",
       "\t\t<td>0</td>\n",
       "\t\t<td>no</td>\n",
       "\t\t<td>southeast</td>\n",
       "\t\t<td>1621.8827</td>\n",
       "\t</tr>\n",
       "\t<tr>\n",
       "\t\t<td>18</td>\n",
       "\t\t<td>female</td>\n",
       "\t\t<td>40.26</td>\n",
       "\t\t<td>0</td>\n",
       "\t\t<td>no</td>\n",
       "\t\t<td>southeast</td>\n",
       "\t\t<td>1634.5734</td>\n",
       "\t</tr>\n",
       "\t<tr>\n",
       "\t\t<td>18</td>\n",
       "\t\t<td>male</td>\n",
       "\t\t<td>17.29</td>\n",
       "\t\t<td>2</td>\n",
       "\t\t<td>yes</td>\n",
       "\t\t<td>northeast</td>\n",
       "\t\t<td>12829.4551</td>\n",
       "\t</tr>\n",
       "\t<tr>\n",
       "\t\t<td>18</td>\n",
       "\t\t<td>male</td>\n",
       "\t\t<td>43.01</td>\n",
       "\t\t<td>0</td>\n",
       "\t\t<td>no</td>\n",
       "\t\t<td>southeast</td>\n",
       "\t\t<td>1149.3959</td>\n",
       "\t</tr>\n",
       "\t<tr>\n",
       "\t\t<td>18</td>\n",
       "\t\t<td>female</td>\n",
       "\t\t<td>29.165</td>\n",
       "\t\t<td>0</td>\n",
       "\t\t<td>no</td>\n",
       "\t\t<td>northeast</td>\n",
       "\t\t<td>7323.734819</td>\n",
       "\t</tr>\n",
       "\t<tr>\n",
       "\t\t<td>18</td>\n",
       "\t\t<td>male</td>\n",
       "\t\t<td>23.21</td>\n",
       "\t\t<td>0</td>\n",
       "\t\t<td>no</td>\n",
       "\t\t<td>southeast</td>\n",
       "\t\t<td>1121.8739</td>\n",
       "\t</tr>\n",
       "\t<tr>\n",
       "\t\t<td>18</td>\n",
       "\t\t<td>female</td>\n",
       "\t\t<td>25.08</td>\n",
       "\t\t<td>0</td>\n",
       "\t\t<td>no</td>\n",
       "\t\t<td>northeast</td>\n",
       "\t\t<td>2196.4732</td>\n",
       "\t</tr>\n",
       "\t<tr>\n",
       "\t\t<td>18</td>\n",
       "\t\t<td>female</td>\n",
       "\t\t<td>36.85</td>\n",
       "\t\t<td>0</td>\n",
       "\t\t<td>yes</td>\n",
       "\t\t<td>southeast</td>\n",
       "\t\t<td>36149.4835</td>\n",
       "\t</tr>\n",
       "\t<tr>\n",
       "\t\t<td>18</td>\n",
       "\t\t<td>female</td>\n",
       "\t\t<td>20.79</td>\n",
       "\t\t<td>0</td>\n",
       "\t\t<td>no</td>\n",
       "\t\t<td>southeast</td>\n",
       "\t\t<td>1607.5101</td>\n",
       "\t</tr>\n",
       "</table></html>"
      ],
      "text/plain": [
       "        sex     bmi  children smoker     region       charges\n",
       "age                                                          \n",
       "18     male  53.130         0     no  southeast   1163.462700\n",
       "18   female  31.130         0     no  southeast   1621.882700\n",
       "18   female  40.260         0     no  southeast   1634.573400\n",
       "18     male  17.290         2    yes  northeast  12829.455100\n",
       "18     male  43.010         0     no  southeast   1149.395900\n",
       "18   female  29.165         0     no  northeast   7323.734819\n",
       "18     male  23.210         0     no  southeast   1121.873900\n",
       "18   female  25.080         0     no  northeast   2196.473200\n",
       "18   female  36.850         0    yes  southeast  36149.483500\n",
       "18   female  20.790         0     no  southeast   1607.510100"
      ]
     },
     "execution_count": 6,
     "metadata": {},
     "output_type": "execute_result"
    }
   ],
   "source": [
    "# first 5 rows\n",
    "insurance_df.head()"
   ]
  },
  {
   "cell_type": "code",
   "execution_count": 7,
   "id": "636c220d-d12f-4ea5-ab2b-c9203ef00d49",
   "metadata": {},
   "outputs": [
    {
     "data": {
      "text/plain": [
       "(1338, 7)"
      ]
     },
     "execution_count": 7,
     "metadata": {},
     "output_type": "execute_result"
    }
   ],
   "source": [
    "# insurance_df dataset\n",
    "insurance_df.shape"
   ]
  },
  {
   "cell_type": "code",
   "execution_count": 8,
   "id": "e5d1fad7-8784-4d7a-be1f-7be1d3991d8f",
   "metadata": {},
   "outputs": [],
   "source": [
    "# Performing sampling to get 80% for trainning and 20% for testing\n",
    "insurance_df_sample = insurance_df.sample(frac = [0.8, 0.2])"
   ]
  },
  {
   "cell_type": "code",
   "execution_count": 9,
   "id": "a0e6891a-1b7e-4bac-97c8-350ba5f5bde4",
   "metadata": {},
   "outputs": [
    {
     "data": {
      "text/html": [
       "<style type=\"text/css\">\n",
       "\ttable {border:ridge 5px;}\n",
       "\ttable td {border:inset 1px;}\n",
       "\ttable tr#HeaderRow {background-color:grey; color:white;}</style>\n",
       "<html><table>\n",
       "\t<tr id=\"HeaderRow\">\n",
       "\t\t<th>age</th>\n",
       "\t\t<th>sex</th>\n",
       "\t\t<th>bmi</th>\n",
       "\t\t<th>children</th>\n",
       "\t\t<th>smoker</th>\n",
       "\t\t<th>region</th>\n",
       "\t\t<th>charges</th>\n",
       "\t\t<th>sampleid</th>\n",
       "\t</tr>\n",
       "\t<tr>\n",
       "\t\t<td>18</td>\n",
       "\t\t<td>male</td>\n",
       "\t\t<td>17.29</td>\n",
       "\t\t<td>2</td>\n",
       "\t\t<td>yes</td>\n",
       "\t\t<td>northeast</td>\n",
       "\t\t<td>12829.4551</td>\n",
       "\t\t<td>1</td>\n",
       "\t</tr>\n",
       "\t<tr>\n",
       "\t\t<td>18</td>\n",
       "\t\t<td>male</td>\n",
       "\t\t<td>41.14</td>\n",
       "\t\t<td>0</td>\n",
       "\t\t<td>no</td>\n",
       "\t\t<td>southeast</td>\n",
       "\t\t<td>1146.7966</td>\n",
       "\t\t<td>1</td>\n",
       "\t</tr>\n",
       "\t<tr>\n",
       "\t\t<td>18</td>\n",
       "\t\t<td>female</td>\n",
       "\t\t<td>42.24</td>\n",
       "\t\t<td>0</td>\n",
       "\t\t<td>yes</td>\n",
       "\t\t<td>southeast</td>\n",
       "\t\t<td>38792.6856</td>\n",
       "\t\t<td>1</td>\n",
       "\t</tr>\n",
       "\t<tr>\n",
       "\t\t<td>18</td>\n",
       "\t\t<td>female</td>\n",
       "\t\t<td>29.165</td>\n",
       "\t\t<td>0</td>\n",
       "\t\t<td>no</td>\n",
       "\t\t<td>northeast</td>\n",
       "\t\t<td>7323.734819</td>\n",
       "\t\t<td>2</td>\n",
       "\t</tr>\n",
       "\t<tr>\n",
       "\t\t<td>18</td>\n",
       "\t\t<td>female</td>\n",
       "\t\t<td>36.85</td>\n",
       "\t\t<td>0</td>\n",
       "\t\t<td>yes</td>\n",
       "\t\t<td>southeast</td>\n",
       "\t\t<td>36149.4835</td>\n",
       "\t\t<td>1</td>\n",
       "\t</tr>\n",
       "\t<tr>\n",
       "\t\t<td>18</td>\n",
       "\t\t<td>male</td>\n",
       "\t\t<td>34.1</td>\n",
       "\t\t<td>0</td>\n",
       "\t\t<td>no</td>\n",
       "\t\t<td>southeast</td>\n",
       "\t\t<td>1137.011</td>\n",
       "\t\t<td>2</td>\n",
       "\t</tr>\n",
       "\t<tr>\n",
       "\t\t<td>18</td>\n",
       "\t\t<td>female</td>\n",
       "\t\t<td>33.88</td>\n",
       "\t\t<td>0</td>\n",
       "\t\t<td>no</td>\n",
       "\t\t<td>southeast</td>\n",
       "\t\t<td>11482.63485</td>\n",
       "\t\t<td>1</td>\n",
       "\t</tr>\n",
       "\t<tr>\n",
       "\t\t<td>18</td>\n",
       "\t\t<td>female</td>\n",
       "\t\t<td>26.315</td>\n",
       "\t\t<td>0</td>\n",
       "\t\t<td>no</td>\n",
       "\t\t<td>northeast</td>\n",
       "\t\t<td>2198.18985</td>\n",
       "\t\t<td>2</td>\n",
       "\t</tr>\n",
       "\t<tr>\n",
       "\t\t<td>18</td>\n",
       "\t\t<td>female</td>\n",
       "\t\t<td>31.35</td>\n",
       "\t\t<td>0</td>\n",
       "\t\t<td>no</td>\n",
       "\t\t<td>southeast</td>\n",
       "\t\t<td>1622.1885</td>\n",
       "\t\t<td>2</td>\n",
       "\t</tr>\n",
       "\t<tr>\n",
       "\t\t<td>18</td>\n",
       "\t\t<td>female</td>\n",
       "\t\t<td>31.13</td>\n",
       "\t\t<td>0</td>\n",
       "\t\t<td>no</td>\n",
       "\t\t<td>southeast</td>\n",
       "\t\t<td>1621.8827</td>\n",
       "\t\t<td>1</td>\n",
       "\t</tr>\n",
       "</table></html>"
      ],
      "text/plain": [
       "        sex     bmi  children smoker     region       charges  sampleid\n",
       "age                                                                    \n",
       "18     male  17.290         2    yes  northeast  12829.455100         1\n",
       "18     male  41.140         0     no  southeast   1146.796600         1\n",
       "18   female  42.240         0    yes  southeast  38792.685600         1\n",
       "18   female  29.165         0     no  northeast   7323.734819         2\n",
       "18   female  36.850         0    yes  southeast  36149.483500         1\n",
       "18     male  34.100         0     no  southeast   1137.011000         2\n",
       "18   female  33.880         0     no  southeast  11482.634850         1\n",
       "18   female  26.315         0     no  northeast   2198.189850         2\n",
       "18   female  31.350         0     no  southeast   1622.188500         2\n",
       "18   female  31.130         0     no  southeast   1621.882700         1"
      ]
     },
     "execution_count": 9,
     "metadata": {},
     "output_type": "execute_result"
    }
   ],
   "source": [
    "insurance_df_sample.head()"
   ]
  },
  {
   "cell_type": "code",
   "execution_count": 10,
   "id": "5e3e5923-18ad-4cf6-b4e5-e87f8854700b",
   "metadata": {},
   "outputs": [],
   "source": [
    "# Fetching train and test data\n",
    "insurance_df_train= insurance_df_sample[insurance_df_sample['sampleid'] == 1].drop('sampleid', axis=1)\n",
    "insurance_df_test = insurance_df_sample[insurance_df_sample['sampleid'] == 2].drop('sampleid', axis=1)"
   ]
  },
  {
   "cell_type": "code",
   "execution_count": 11,
   "id": "83d72a72-3fac-4862-b374-d21ab59be1a6",
   "metadata": {},
   "outputs": [
    {
     "data": {
      "text/plain": [
       "(1070, 7)"
      ]
     },
     "execution_count": 11,
     "metadata": {},
     "output_type": "execute_result"
    }
   ],
   "source": [
    "# train data shape\n",
    "insurance_df_train.shape"
   ]
  },
  {
   "cell_type": "code",
   "execution_count": 12,
   "id": "b22be730-8a7a-40f3-8e2a-cabd8d1f427f",
   "metadata": {},
   "outputs": [
    {
     "data": {
      "text/plain": [
       "(268, 7)"
      ]
     },
     "execution_count": 12,
     "metadata": {},
     "output_type": "execute_result"
    }
   ],
   "source": [
    "# test data shape\n",
    "insurance_df_test.shape"
   ]
  },
  {
   "cell_type": "code",
   "execution_count": 13,
   "id": "18473df2-be15-4e1e-bc5e-739abacf8b89",
   "metadata": {},
   "outputs": [
    {
     "data": {
      "text/html": [
       "<style type=\"text/css\">\n",
       "\ttable {border:ridge 5px;}\n",
       "\ttable td {border:inset 1px;}\n",
       "\ttable tr#HeaderRow {background-color:grey; color:white;}</style>\n",
       "<html><table>\n",
       "\t<tr id=\"HeaderRow\">\n",
       "\t\t<th>age</th>\n",
       "\t\t<th>sex</th>\n",
       "\t\t<th>bmi</th>\n",
       "\t\t<th>children</th>\n",
       "\t\t<th>smoker</th>\n",
       "\t\t<th>region</th>\n",
       "\t\t<th>charges</th>\n",
       "\t</tr>\n",
       "\t<tr>\n",
       "\t\t<td>18</td>\n",
       "\t\t<td>female</td>\n",
       "\t\t<td>32.12</td>\n",
       "\t\t<td>2</td>\n",
       "\t\t<td>no</td>\n",
       "\t\t<td>southeast</td>\n",
       "\t\t<td>2801.2588</td>\n",
       "\t</tr>\n",
       "\t<tr>\n",
       "\t\t<td>18</td>\n",
       "\t\t<td>female</td>\n",
       "\t\t<td>36.85</td>\n",
       "\t\t<td>0</td>\n",
       "\t\t<td>no</td>\n",
       "\t\t<td>southeast</td>\n",
       "\t\t<td>1629.8335</td>\n",
       "\t</tr>\n",
       "\t<tr>\n",
       "\t\t<td>18</td>\n",
       "\t\t<td>female</td>\n",
       "\t\t<td>39.16</td>\n",
       "\t\t<td>0</td>\n",
       "\t\t<td>no</td>\n",
       "\t\t<td>southeast</td>\n",
       "\t\t<td>1633.0444</td>\n",
       "\t</tr>\n",
       "\t<tr>\n",
       "\t\t<td>18</td>\n",
       "\t\t<td>male</td>\n",
       "\t\t<td>21.47</td>\n",
       "\t\t<td>0</td>\n",
       "\t\t<td>no</td>\n",
       "\t\t<td>northeast</td>\n",
       "\t\t<td>1702.4553</td>\n",
       "\t</tr>\n",
       "\t<tr>\n",
       "\t\t<td>18</td>\n",
       "\t\t<td>female</td>\n",
       "\t\t<td>40.185</td>\n",
       "\t\t<td>0</td>\n",
       "\t\t<td>no</td>\n",
       "\t\t<td>northeast</td>\n",
       "\t\t<td>2217.46915</td>\n",
       "\t</tr>\n",
       "\t<tr>\n",
       "\t\t<td>18</td>\n",
       "\t\t<td>female</td>\n",
       "\t\t<td>40.28</td>\n",
       "\t\t<td>0</td>\n",
       "\t\t<td>no</td>\n",
       "\t\t<td>northeast</td>\n",
       "\t\t<td>2217.6012</td>\n",
       "\t</tr>\n",
       "\t<tr>\n",
       "\t\t<td>18</td>\n",
       "\t\t<td>male</td>\n",
       "\t\t<td>35.2</td>\n",
       "\t\t<td>1</td>\n",
       "\t\t<td>no</td>\n",
       "\t\t<td>southeast</td>\n",
       "\t\t<td>1727.54</td>\n",
       "\t</tr>\n",
       "\t<tr>\n",
       "\t\t<td>18</td>\n",
       "\t\t<td>male</td>\n",
       "\t\t<td>30.14</td>\n",
       "\t\t<td>0</td>\n",
       "\t\t<td>no</td>\n",
       "\t\t<td>southeast</td>\n",
       "\t\t<td>1131.5066</td>\n",
       "\t</tr>\n",
       "\t<tr>\n",
       "\t\t<td>18</td>\n",
       "\t\t<td>female</td>\n",
       "\t\t<td>31.92</td>\n",
       "\t\t<td>0</td>\n",
       "\t\t<td>no</td>\n",
       "\t\t<td>northeast</td>\n",
       "\t\t<td>2205.9808</td>\n",
       "\t</tr>\n",
       "\t<tr>\n",
       "\t\t<td>18</td>\n",
       "\t\t<td>female</td>\n",
       "\t\t<td>31.35</td>\n",
       "\t\t<td>4</td>\n",
       "\t\t<td>no</td>\n",
       "\t\t<td>northeast</td>\n",
       "\t\t<td>4561.1885</td>\n",
       "\t</tr>\n",
       "</table></html>"
      ],
      "text/plain": [
       "        sex     bmi  children smoker     region     charges\n",
       "age                                                        \n",
       "18   female  32.120         2     no  southeast  2801.25880\n",
       "18   female  36.850         0     no  southeast  1629.83350\n",
       "18   female  39.160         0     no  southeast  1633.04440\n",
       "18     male  21.470         0     no  northeast  1702.45530\n",
       "18   female  40.185         0     no  northeast  2217.46915\n",
       "18   female  40.280         0     no  northeast  2217.60120\n",
       "18     male  35.200         1     no  southeast  1727.54000\n",
       "18     male  30.140         0     no  southeast  1131.50660\n",
       "18   female  31.920         0     no  northeast  2205.98080\n",
       "18   female  31.350         4     no  northeast  4561.18850"
      ]
     },
     "execution_count": 13,
     "metadata": {},
     "output_type": "execute_result"
    }
   ],
   "source": [
    "#train dataset\n",
    "insurance_df_train.head()"
   ]
  },
  {
   "cell_type": "code",
   "execution_count": 14,
   "id": "58c9d763-4f19-449e-a35b-676d4d026acc",
   "metadata": {},
   "outputs": [
    {
     "data": {
      "text/html": [
       "<style type=\"text/css\">\n",
       "\ttable {border:ridge 5px;}\n",
       "\ttable td {border:inset 1px;}\n",
       "\ttable tr#HeaderRow {background-color:grey; color:white;}</style>\n",
       "<html><table>\n",
       "\t<tr id=\"HeaderRow\">\n",
       "\t\t<th>age</th>\n",
       "\t\t<th>sex</th>\n",
       "\t\t<th>bmi</th>\n",
       "\t\t<th>children</th>\n",
       "\t\t<th>smoker</th>\n",
       "\t\t<th>region</th>\n",
       "\t\t<th>charges</th>\n",
       "\t</tr>\n",
       "\t<tr>\n",
       "\t\t<td>18</td>\n",
       "\t\t<td>female</td>\n",
       "\t\t<td>29.165</td>\n",
       "\t\t<td>0</td>\n",
       "\t\t<td>no</td>\n",
       "\t\t<td>northeast</td>\n",
       "\t\t<td>7323.734819</td>\n",
       "\t</tr>\n",
       "\t<tr>\n",
       "\t\t<td>18</td>\n",
       "\t\t<td>female</td>\n",
       "\t\t<td>38.28</td>\n",
       "\t\t<td>0</td>\n",
       "\t\t<td>no</td>\n",
       "\t\t<td>southeast</td>\n",
       "\t\t<td>1631.8212</td>\n",
       "\t</tr>\n",
       "\t<tr>\n",
       "\t\t<td>18</td>\n",
       "\t\t<td>female</td>\n",
       "\t\t<td>31.35</td>\n",
       "\t\t<td>0</td>\n",
       "\t\t<td>no</td>\n",
       "\t\t<td>southeast</td>\n",
       "\t\t<td>1622.1885</td>\n",
       "\t</tr>\n",
       "\t<tr>\n",
       "\t\t<td>18</td>\n",
       "\t\t<td>female</td>\n",
       "\t\t<td>26.315</td>\n",
       "\t\t<td>0</td>\n",
       "\t\t<td>no</td>\n",
       "\t\t<td>northeast</td>\n",
       "\t\t<td>2198.18985</td>\n",
       "\t</tr>\n",
       "\t<tr>\n",
       "\t\t<td>18</td>\n",
       "\t\t<td>male</td>\n",
       "\t\t<td>26.125</td>\n",
       "\t\t<td>0</td>\n",
       "\t\t<td>no</td>\n",
       "\t\t<td>northeast</td>\n",
       "\t\t<td>1708.92575</td>\n",
       "\t</tr>\n",
       "\t<tr>\n",
       "\t\t<td>18</td>\n",
       "\t\t<td>male</td>\n",
       "\t\t<td>33.535</td>\n",
       "\t\t<td>0</td>\n",
       "\t\t<td>yes</td>\n",
       "\t\t<td>northeast</td>\n",
       "\t\t<td>34617.84065</td>\n",
       "\t</tr>\n",
       "\t<tr>\n",
       "\t\t<td>18</td>\n",
       "\t\t<td>male</td>\n",
       "\t\t<td>26.18</td>\n",
       "\t\t<td>2</td>\n",
       "\t\t<td>no</td>\n",
       "\t\t<td>southeast</td>\n",
       "\t\t<td>2304.0022</td>\n",
       "\t</tr>\n",
       "\t<tr>\n",
       "\t\t<td>18</td>\n",
       "\t\t<td>female</td>\n",
       "\t\t<td>26.73</td>\n",
       "\t\t<td>0</td>\n",
       "\t\t<td>no</td>\n",
       "\t\t<td>southeast</td>\n",
       "\t\t<td>1615.7667</td>\n",
       "\t</tr>\n",
       "\t<tr>\n",
       "\t\t<td>18</td>\n",
       "\t\t<td>male</td>\n",
       "\t\t<td>34.1</td>\n",
       "\t\t<td>0</td>\n",
       "\t\t<td>no</td>\n",
       "\t\t<td>southeast</td>\n",
       "\t\t<td>1137.011</td>\n",
       "\t</tr>\n",
       "\t<tr>\n",
       "\t\t<td>18</td>\n",
       "\t\t<td>male</td>\n",
       "\t\t<td>33.66</td>\n",
       "\t\t<td>0</td>\n",
       "\t\t<td>no</td>\n",
       "\t\t<td>southeast</td>\n",
       "\t\t<td>1136.3994</td>\n",
       "\t</tr>\n",
       "</table></html>"
      ],
      "text/plain": [
       "        sex     bmi  children smoker     region       charges\n",
       "age                                                          \n",
       "18   female  29.165         0     no  northeast   7323.734819\n",
       "18   female  38.280         0     no  southeast   1631.821200\n",
       "18   female  31.350         0     no  southeast   1622.188500\n",
       "18   female  26.315         0     no  northeast   2198.189850\n",
       "18     male  26.125         0     no  northeast   1708.925750\n",
       "18     male  33.535         0    yes  northeast  34617.840650\n",
       "18     male  26.180         2     no  southeast   2304.002200\n",
       "18   female  26.730         0     no  southeast   1615.766700\n",
       "18     male  34.100         0     no  southeast   1137.011000\n",
       "18     male  33.660         0     no  southeast   1136.399400"
      ]
     },
     "execution_count": 14,
     "metadata": {},
     "output_type": "execute_result"
    }
   ],
   "source": [
    "# test dataset\n",
    "insurance_df_test.head()"
   ]
  },
  {
   "cell_type": "markdown",
   "id": "856ea871-93d8-4ea2-b524-1acb23bd7eb5",
   "metadata": {},
   "source": [
    "## <b><span style='color:#F1A424'>| 2.</span> Fitting AutoML </b>"
   ]
  },
  {
   "cell_type": "code",
   "execution_count": 15,
   "id": "f3650aa5-a408-4227-a88d-79c0f3d36d3c",
   "metadata": {},
   "outputs": [],
   "source": [
    "# Creating AutoRegressor instance\n",
    "# Using all models from model training.\n",
    "# Keeping early stopping timer threshold to 200 sec\n",
    "# and verbose level 2 for detailed loggging\n",
    "# Using volatile=True to create all intermediate tables as volatile tables.\n",
    "\n",
    "aml = AutoRegressor(max_runtime_secs=200,\n",
    "                    verbose=2,\n",
    "                    volatile=True)"
   ]
  },
  {
   "cell_type": "code",
   "execution_count": 16,
   "id": "a1b7a771-1bfa-40c9-8ad0-c377d320c137",
   "metadata": {},
   "outputs": [
    {
     "data": {
      "text/html": [
       "\n",
       "            <style>\n",
       "                .custom-div {\n",
       "                    background-color: lightgray;\n",
       "                    color: #000000;\n",
       "                    padding: 10px;\n",
       "                    border-radius: 8px;\n",
       "                    box-shadow: 0 3px 4px rgba(0, 0, 0, 0.2);\n",
       "                    margin-bottom: 10px;\n",
       "                    text-align: center;\n",
       "                }\n",
       "            </style>\n",
       "        <br><div class=\"custom-div\"><h3><span style=\"color: green;\"></span>1. Feature Exploration -> 2. Feature Engineering -> 3. Data Preparation -> 4. Model Training & Evaluation<center></h3></center></div>"
      ],
      "text/plain": [
       "<IPython.core.display.HTML object>"
      ]
     },
     "metadata": {},
     "output_type": "display_data"
    },
    {
     "name": "stdout",
     "output_type": "stream",
     "text": [
      "Feature Exploration started ...\n",
      "\n",
      "Data Overview:\n",
      "Total Rows in the data: 1070\n",
      "Total Columns in the data: 7\n",
      "\n",
      "Column Summary:\n"
     ]
    },
    {
     "data": {
      "text/html": [
       "<style type=\"text/css\">\n",
       "\ttable {border:ridge 5px;}\n",
       "\ttable td {border:inset 1px;}\n",
       "\ttable tr#HeaderRow {background-color:grey; color:white;}</style>\n",
       "<html><table>\n",
       "\t<tr id=\"HeaderRow\">\n",
       "\t\t<th>ColumnName</th>\n",
       "\t\t<th>Datatype</th>\n",
       "\t\t<th>NonNullCount</th>\n",
       "\t\t<th>NullCount</th>\n",
       "\t\t<th>BlankCount</th>\n",
       "\t\t<th>ZeroCount</th>\n",
       "\t\t<th>PositiveCount</th>\n",
       "\t\t<th>NegativeCount</th>\n",
       "\t\t<th>NullPercentage</th>\n",
       "\t\t<th>NonNullPercentage</th>\n",
       "\t</tr>\n",
       "\t<tr>\n",
       "\t\t<td>sex</td>\n",
       "\t\t<td>VARCHAR(20) CHARACTER SET LATIN</td>\n",
       "\t\t<td>1070</td>\n",
       "\t\t<td>0</td>\n",
       "\t\t<td>0</td>\n",
       "\t\t<td>None</td>\n",
       "\t\t<td>None</td>\n",
       "\t\t<td>None</td>\n",
       "\t\t<td>0.0</td>\n",
       "\t\t<td>100.0</td>\n",
       "\t</tr>\n",
       "\t<tr>\n",
       "\t\t<td>region</td>\n",
       "\t\t<td>VARCHAR(20) CHARACTER SET LATIN</td>\n",
       "\t\t<td>1070</td>\n",
       "\t\t<td>0</td>\n",
       "\t\t<td>0</td>\n",
       "\t\t<td>None</td>\n",
       "\t\t<td>None</td>\n",
       "\t\t<td>None</td>\n",
       "\t\t<td>0.0</td>\n",
       "\t\t<td>100.0</td>\n",
       "\t</tr>\n",
       "\t<tr>\n",
       "\t\t<td>smoker</td>\n",
       "\t\t<td>VARCHAR(20) CHARACTER SET LATIN</td>\n",
       "\t\t<td>1070</td>\n",
       "\t\t<td>0</td>\n",
       "\t\t<td>0</td>\n",
       "\t\t<td>None</td>\n",
       "\t\t<td>None</td>\n",
       "\t\t<td>None</td>\n",
       "\t\t<td>0.0</td>\n",
       "\t\t<td>100.0</td>\n",
       "\t</tr>\n",
       "\t<tr>\n",
       "\t\t<td>children</td>\n",
       "\t\t<td>INTEGER</td>\n",
       "\t\t<td>1070</td>\n",
       "\t\t<td>0</td>\n",
       "\t\t<td>None</td>\n",
       "\t\t<td>453</td>\n",
       "\t\t<td>617</td>\n",
       "\t\t<td>0</td>\n",
       "\t\t<td>0.0</td>\n",
       "\t\t<td>100.0</td>\n",
       "\t</tr>\n",
       "\t<tr>\n",
       "\t\t<td>bmi</td>\n",
       "\t\t<td>FLOAT</td>\n",
       "\t\t<td>1070</td>\n",
       "\t\t<td>0</td>\n",
       "\t\t<td>None</td>\n",
       "\t\t<td>0</td>\n",
       "\t\t<td>1070</td>\n",
       "\t\t<td>0</td>\n",
       "\t\t<td>0.0</td>\n",
       "\t\t<td>100.0</td>\n",
       "\t</tr>\n",
       "\t<tr>\n",
       "\t\t<td>age</td>\n",
       "\t\t<td>INTEGER</td>\n",
       "\t\t<td>1070</td>\n",
       "\t\t<td>0</td>\n",
       "\t\t<td>None</td>\n",
       "\t\t<td>0</td>\n",
       "\t\t<td>1070</td>\n",
       "\t\t<td>0</td>\n",
       "\t\t<td>0.0</td>\n",
       "\t\t<td>100.0</td>\n",
       "\t</tr>\n",
       "\t<tr>\n",
       "\t\t<td>charges</td>\n",
       "\t\t<td>FLOAT</td>\n",
       "\t\t<td>1070</td>\n",
       "\t\t<td>0</td>\n",
       "\t\t<td>None</td>\n",
       "\t\t<td>0</td>\n",
       "\t\t<td>1070</td>\n",
       "\t\t<td>0</td>\n",
       "\t\t<td>0.0</td>\n",
       "\t\t<td>100.0</td>\n",
       "\t</tr>\n",
       "</table></html>"
      ],
      "text/plain": [
       "  ColumnName                         Datatype  NonNullCount  NullCount  BlankCount  ZeroCount  PositiveCount  NegativeCount  NullPercentage  NonNullPercentage\n",
       "0        sex  VARCHAR(20) CHARACTER SET LATIN          1070          0         0.0        NaN            NaN            NaN             0.0              100.0\n",
       "1     region  VARCHAR(20) CHARACTER SET LATIN          1070          0         0.0        NaN            NaN            NaN             0.0              100.0\n",
       "2     smoker  VARCHAR(20) CHARACTER SET LATIN          1070          0         0.0        NaN            NaN            NaN             0.0              100.0\n",
       "3   children                          INTEGER          1070          0         NaN      453.0          617.0            0.0             0.0              100.0\n",
       "4        bmi                            FLOAT          1070          0         NaN        0.0         1070.0            0.0             0.0              100.0\n",
       "5        age                          INTEGER          1070          0         NaN        0.0         1070.0            0.0             0.0              100.0\n",
       "6    charges                            FLOAT          1070          0         NaN        0.0         1070.0            0.0             0.0              100.0"
      ]
     },
     "metadata": {},
     "output_type": "display_data"
    },
    {
     "name": "stdout",
     "output_type": "stream",
     "text": [
      "            age       bmi  children    charges\n",
      "func                                          \n",
      "min      18.000    15.960     0.000   1121.874\n",
      "std      13.950     6.195     1.198  11967.243\n",
      "25%      27.000    26.296     0.000   4803.719\n",
      "50%      40.000    30.495     1.000   9502.442\n",
      "75%      51.000    34.893     2.000  16547.262\n",
      "max      64.000    53.130     5.000  63770.428\n",
      "mean     39.315    30.768     1.099  13219.012\n",
      "count  1070.000  1070.000  1070.000   1070.000\n",
      "\n",
      "Statistics of Data:\n"
     ]
    },
    {
     "data": {
      "text/html": [
       "<style type=\"text/css\">\n",
       "\ttable {border:ridge 5px;}\n",
       "\ttable td {border:inset 1px;}\n",
       "\ttable tr#HeaderRow {background-color:grey; color:white;}</style>\n",
       "<html><table>\n",
       "\t<tr id=\"HeaderRow\">\n",
       "\t\t<th>func</th>\n",
       "\t\t<th>age</th>\n",
       "\t\t<th>bmi</th>\n",
       "\t\t<th>children</th>\n",
       "\t\t<th>charges</th>\n",
       "\t</tr>\n",
       "\t<tr>\n",
       "\t\t<td>50%</td>\n",
       "\t\t<td>40</td>\n",
       "\t\t<td>30.495</td>\n",
       "\t\t<td>1</td>\n",
       "\t\t<td>9502.442</td>\n",
       "\t</tr>\n",
       "\t<tr>\n",
       "\t\t<td>count</td>\n",
       "\t\t<td>1070</td>\n",
       "\t\t<td>1070</td>\n",
       "\t\t<td>1070</td>\n",
       "\t\t<td>1070</td>\n",
       "\t</tr>\n",
       "\t<tr>\n",
       "\t\t<td>mean</td>\n",
       "\t\t<td>39.315</td>\n",
       "\t\t<td>30.768</td>\n",
       "\t\t<td>1.099</td>\n",
       "\t\t<td>13219.012</td>\n",
       "\t</tr>\n",
       "\t<tr>\n",
       "\t\t<td>min</td>\n",
       "\t\t<td>18</td>\n",
       "\t\t<td>15.96</td>\n",
       "\t\t<td>0</td>\n",
       "\t\t<td>1121.874</td>\n",
       "\t</tr>\n",
       "\t<tr>\n",
       "\t\t<td>max</td>\n",
       "\t\t<td>64</td>\n",
       "\t\t<td>53.13</td>\n",
       "\t\t<td>5</td>\n",
       "\t\t<td>63770.428</td>\n",
       "\t</tr>\n",
       "\t<tr>\n",
       "\t\t<td>75%</td>\n",
       "\t\t<td>51</td>\n",
       "\t\t<td>34.893</td>\n",
       "\t\t<td>2</td>\n",
       "\t\t<td>16547.262</td>\n",
       "\t</tr>\n",
       "\t<tr>\n",
       "\t\t<td>25%</td>\n",
       "\t\t<td>27</td>\n",
       "\t\t<td>26.296</td>\n",
       "\t\t<td>0</td>\n",
       "\t\t<td>4803.719</td>\n",
       "\t</tr>\n",
       "\t<tr>\n",
       "\t\t<td>std</td>\n",
       "\t\t<td>13.95</td>\n",
       "\t\t<td>6.195</td>\n",
       "\t\t<td>1.198</td>\n",
       "\t\t<td>11967.243</td>\n",
       "\t</tr>\n",
       "</table></html>"
      ],
      "text/plain": [
       "            age       bmi  children    charges\n",
       "func                                          \n",
       "50%      40.000    30.495     1.000   9502.442\n",
       "count  1070.000  1070.000  1070.000   1070.000\n",
       "mean     39.315    30.768     1.099  13219.012\n",
       "min      18.000    15.960     0.000   1121.874\n",
       "max      64.000    53.130     5.000  63770.428\n",
       "75%      51.000    34.893     2.000  16547.262\n",
       "25%      27.000    26.296     0.000   4803.719\n",
       "std      13.950     6.195     1.198  11967.243"
      ]
     },
     "metadata": {},
     "output_type": "display_data"
    },
    {
     "name": "stdout",
     "output_type": "stream",
     "text": [
      "\n",
      "Categorical Columns with their Distinct values:\n",
      "ColumnName                DistinctValueCount\n",
      "sex                       2         \n",
      "smoker                    2         \n",
      "region                    4         \n",
      "\n",
      "No Futile columns found.\n",
      "\n",
      "Target Column Distribution:\n"
     ]
    },
    {
     "data": {
      "image/png": "[encoded data removed]",
      "text/plain": [
       "<Figure size 800x600 with 1 Axes>"
      ]
     },
     "metadata": {},
     "output_type": "display_data"
    },
    {
     "name": "stdout",
     "output_type": "stream",
     "text": [
      "Columns with outlier percentage :-                                                                                                                                                                                                                                                                                                                                                                                                                                                                                  \n",
      "  ColumnName  OutlierPercentage\n",
      "0    charges          10.186916\n",
      "1        bmi           0.373832\n",
      "                                                                                        \r"
     ]
    },
    {
     "data": {
      "text/html": [
       "\n",
       "            <style>\n",
       "                .custom-div {\n",
       "                    background-color: lightgray;\n",
       "                    color: #000000;\n",
       "                    padding: 10px;\n",
       "                    border-radius: 8px;\n",
       "                    box-shadow: 0 3px 4px rgba(0 -  0 -  0 -  0.2);\n",
       "                    margin-bottom: 10px;\n",
       "                    text-align: center;\n",
       "                }\n",
       "            </style>\n",
       "        <br><div class=\"custom-div\"><h3><span style=\"color: green;\">1. Feature Exploration -></span> 2. Feature Engineering -> 3. Data Preparation -> 4. Model Training & Evaluation<center></h3></center></div>"
      ],
      "text/plain": [
       "<IPython.core.display.HTML object>"
      ]
     },
     "metadata": {},
     "output_type": "display_data"
    },
    {
     "name": "stdout",
     "output_type": "stream",
     "text": [
      "                                                                                        \r"
     ]
    },
    {
     "data": {
      "text/html": [
       "Feature Engineering started ..."
      ],
      "text/plain": [
       "<IPython.core.display.HTML object>"
      ]
     },
     "metadata": {},
     "output_type": "display_data"
    },
    {
     "name": "stdout",
     "output_type": "stream",
     "text": [
      "                                                                                        \r"
     ]
    },
    {
     "data": {
      "text/html": [
       "\n",
       "Handling duplicate records present in dataset ..."
      ],
      "text/plain": [
       "<IPython.core.display.HTML object>"
      ]
     },
     "metadata": {},
     "output_type": "display_data"
    },
    {
     "name": "stdout",
     "output_type": "stream",
     "text": [
      "                                                                                        \r"
     ]
    },
    {
     "data": {
      "text/html": [
       "Updated dataset sample after removing 1 duplicate records:"
      ],
      "text/plain": [
       "<IPython.core.display.HTML object>"
      ]
     },
     "metadata": {},
     "output_type": "display_data"
    },
    {
     "data": {
      "text/html": [
       "<style type=\"text/css\">\n",
       "\ttable {border:ridge 5px;}\n",
       "\ttable td {border:inset 1px;}\n",
       "\ttable tr#HeaderRow {background-color:grey; color:white;}</style>\n",
       "<html><table>\n",
       "\t<tr id=\"HeaderRow\">\n",
       "\t\t<th>age</th>\n",
       "\t\t<th>sex</th>\n",
       "\t\t<th>bmi</th>\n",
       "\t\t<th>children</th>\n",
       "\t\t<th>smoker</th>\n",
       "\t\t<th>region</th>\n",
       "\t\t<th>charges</th>\n",
       "\t</tr>\n",
       "\t<tr>\n",
       "\t\t<td>34</td>\n",
       "\t\t<td>male</td>\n",
       "\t\t<td>34.21</td>\n",
       "\t\t<td>0</td>\n",
       "\t\t<td>no</td>\n",
       "\t\t<td>southeast</td>\n",
       "\t\t<td>3935.1799</td>\n",
       "\t</tr>\n",
       "\t<tr>\n",
       "\t\t<td>38</td>\n",
       "\t\t<td>male</td>\n",
       "\t\t<td>29.26</td>\n",
       "\t\t<td>2</td>\n",
       "\t\t<td>no</td>\n",
       "\t\t<td>northwest</td>\n",
       "\t\t<td>6457.8434</td>\n",
       "\t</tr>\n",
       "\t<tr>\n",
       "\t\t<td>38</td>\n",
       "\t\t<td>male</td>\n",
       "\t\t<td>28.025</td>\n",
       "\t\t<td>1</td>\n",
       "\t\t<td>no</td>\n",
       "\t\t<td>northeast</td>\n",
       "\t\t<td>6067.12675</td>\n",
       "\t</tr>\n",
       "\t<tr>\n",
       "\t\t<td>32</td>\n",
       "\t\t<td>female</td>\n",
       "\t\t<td>17.765</td>\n",
       "\t\t<td>2</td>\n",
       "\t\t<td>yes</td>\n",
       "\t\t<td>northwest</td>\n",
       "\t\t<td>32734.1863</td>\n",
       "\t</tr>\n",
       "\t<tr>\n",
       "\t\t<td>19</td>\n",
       "\t\t<td>female</td>\n",
       "\t\t<td>21.7</td>\n",
       "\t\t<td>0</td>\n",
       "\t\t<td>yes</td>\n",
       "\t\t<td>southwest</td>\n",
       "\t\t<td>13844.506</td>\n",
       "\t</tr>\n",
       "\t<tr>\n",
       "\t\t<td>19</td>\n",
       "\t\t<td>male</td>\n",
       "\t\t<td>20.615</td>\n",
       "\t\t<td>2</td>\n",
       "\t\t<td>no</td>\n",
       "\t\t<td>northwest</td>\n",
       "\t\t<td>2803.69785</td>\n",
       "\t</tr>\n",
       "\t<tr>\n",
       "\t\t<td>49</td>\n",
       "\t\t<td>female</td>\n",
       "\t\t<td>31.9</td>\n",
       "\t\t<td>5</td>\n",
       "\t\t<td>no</td>\n",
       "\t\t<td>southwest</td>\n",
       "\t\t<td>11552.904</td>\n",
       "\t</tr>\n",
       "\t<tr>\n",
       "\t\t<td>49</td>\n",
       "\t\t<td>female</td>\n",
       "\t\t<td>27.17</td>\n",
       "\t\t<td>0</td>\n",
       "\t\t<td>no</td>\n",
       "\t\t<td>southeast</td>\n",
       "\t\t<td>8601.3293</td>\n",
       "\t</tr>\n",
       "\t<tr>\n",
       "\t\t<td>61</td>\n",
       "\t\t<td>male</td>\n",
       "\t\t<td>32.3</td>\n",
       "\t\t<td>2</td>\n",
       "\t\t<td>no</td>\n",
       "\t\t<td>northwest</td>\n",
       "\t\t<td>14119.62</td>\n",
       "\t</tr>\n",
       "\t<tr>\n",
       "\t\t<td>61</td>\n",
       "\t\t<td>female</td>\n",
       "\t\t<td>21.09</td>\n",
       "\t\t<td>0</td>\n",
       "\t\t<td>no</td>\n",
       "\t\t<td>northwest</td>\n",
       "\t\t<td>13415.0381</td>\n",
       "\t</tr>\n",
       "</table></html>"
      ],
      "text/plain": [
       "        sex     bmi  children smoker     region      charges\n",
       "age                                                         \n",
       "34     male  34.210         0     no  southeast   3935.17990\n",
       "38     male  29.260         2     no  northwest   6457.84340\n",
       "38     male  28.025         1     no  northeast   6067.12675\n",
       "32   female  17.765         2    yes  northwest  32734.18630\n",
       "19   female  21.700         0    yes  southwest  13844.50600\n",
       "19     male  20.615         2     no  northwest   2803.69785\n",
       "49   female  31.900         5     no  southwest  11552.90400\n",
       "49   female  27.170         0     no  southeast   8601.32930\n",
       "61     male  32.300         2     no  northwest  14119.62000\n",
       "61   female  21.090         0     no  northwest  13415.03810"
      ]
     },
     "metadata": {},
     "output_type": "display_data"
    },
    {
     "name": "stdout",
     "output_type": "stream",
     "text": [
      "                                                                                        \r"
     ]
    },
    {
     "data": {
      "text/html": [
       "1069 rows X 7 columns"
      ],
      "text/plain": [
       "<IPython.core.display.HTML object>"
      ]
     },
     "metadata": {},
     "output_type": "display_data"
    },
    {
     "name": "stdout",
     "output_type": "stream",
     "text": [
      "Remaining Rows in the data: 1069                                                        \n",
      "Remaining Columns in the data: 7\n",
      "                                                                                        \r"
     ]
    },
    {
     "data": {
      "text/html": [
       "Total time to handle duplicate records: 4.06 sec  "
      ],
      "text/plain": [
       "<IPython.core.display.HTML object>"
      ]
     },
     "metadata": {},
     "output_type": "display_data"
    },
    {
     "name": "stdout",
     "output_type": "stream",
     "text": [
      "                                                                                        \r"
     ]
    },
    {
     "data": {
      "text/html": [
       "\n",
       "Handling less significant features from data ..."
      ],
      "text/plain": [
       "<IPython.core.display.HTML object>"
      ]
     },
     "metadata": {},
     "output_type": "display_data"
    },
    {
     "name": "stdout",
     "output_type": "stream",
     "text": [
      "Analysis indicates all categorical columns are significant. No action Needed.           \n",
      "                                                                                        \r"
     ]
    },
    {
     "data": {
      "text/html": [
       "Total time to handle less significant features: 14.45 sec  "
      ],
      "text/plain": [
       "<IPython.core.display.HTML object>"
      ]
     },
     "metadata": {},
     "output_type": "display_data"
    },
    {
     "name": "stdout",
     "output_type": "stream",
     "text": [
      "                                                                                         \r"
     ]
    },
    {
     "data": {
      "text/html": [
       "\n",
       "Handling Date Features ..."
      ],
      "text/plain": [
       "<IPython.core.display.HTML object>"
      ]
     },
     "metadata": {},
     "output_type": "display_data"
    },
    {
     "name": "stdout",
     "output_type": "stream",
     "text": [
      "Analysis Completed. Dataset does not contain any feature related to dates. No action needed.\n",
      "                                                                                         \r"
     ]
    },
    {
     "data": {
      "text/html": [
       "Total time to handle date features: 0.00 sec\n"
      ],
      "text/plain": [
       "<IPython.core.display.HTML object>"
      ]
     },
     "metadata": {},
     "output_type": "display_data"
    },
    {
     "name": "stdout",
     "output_type": "stream",
     "text": [
      "                                                                                         \r"
     ]
    },
    {
     "data": {
      "text/html": [
       "\n",
       "Checking Missing values in dataset ..."
      ],
      "text/plain": [
       "<IPython.core.display.HTML object>"
      ]
     },
     "metadata": {},
     "output_type": "display_data"
    },
    {
     "name": "stdout",
     "output_type": "stream",
     "text": [
      "Analysis Completed. No Missing Values Detected.                                          \n",
      "                                                                                         \r"
     ]
    },
    {
     "data": {
      "text/html": [
       "Total time to find missing values in data: 7.39 sec  "
      ],
      "text/plain": [
       "<IPython.core.display.HTML object>"
      ]
     },
     "metadata": {},
     "output_type": "display_data"
    },
    {
     "name": "stdout",
     "output_type": "stream",
     "text": [
      "                                                                                         \r"
     ]
    },
    {
     "data": {
      "text/html": [
       "\n",
       "Imputing Missing Values ..."
      ],
      "text/plain": [
       "<IPython.core.display.HTML object>"
      ]
     },
     "metadata": {},
     "output_type": "display_data"
    },
    {
     "name": "stdout",
     "output_type": "stream",
     "text": [
      "Analysis completed. No imputation required.                                              \n",
      "                                                                                         \r"
     ]
    },
    {
     "data": {
      "text/html": [
       "Time taken to perform imputation: 0.01 sec  "
      ],
      "text/plain": [
       "<IPython.core.display.HTML object>"
      ]
     },
     "metadata": {},
     "output_type": "display_data"
    },
    {
     "name": "stdout",
     "output_type": "stream",
     "text": [
      "                                                                                         \r"
     ]
    },
    {
     "data": {
      "text/html": [
       "\n",
       "Performing encoding for categorical columns ..."
      ],
      "text/plain": [
       "<IPython.core.display.HTML object>"
      ]
     },
     "metadata": {},
     "output_type": "display_data"
    },
    {
     "name": "stdout",
     "output_type": "stream",
     "text": [
      "                                                                                         \r"
     ]
    },
    {
     "data": {
      "text/html": [
       "ONE HOT Encoding these Columns:"
      ],
      "text/plain": [
       "<IPython.core.display.HTML object>"
      ]
     },
     "metadata": {},
     "output_type": "display_data"
    },
    {
     "name": "stdout",
     "output_type": "stream",
     "text": [
      "['sex', 'smoker', 'region']\n",
      "                                                                                         \r"
     ]
    },
    {
     "data": {
      "text/html": [
       "Sample of dataset after performing one hot encoding:"
      ],
      "text/plain": [
       "<IPython.core.display.HTML object>"
      ]
     },
     "metadata": {},
     "output_type": "display_data"
    },
    {
     "data": {
      "text/html": [
       "<style type=\"text/css\">\n",
       "\ttable {border:ridge 5px;}\n",
       "\ttable td {border:inset 1px;}\n",
       "\ttable tr#HeaderRow {background-color:grey; color:white;}</style>\n",
       "<html><table>\n",
       "\t<tr id=\"HeaderRow\">\n",
       "\t\t<th>age</th>\n",
       "\t\t<th>sex_0</th>\n",
       "\t\t<th>sex_1</th>\n",
       "\t\t<th>bmi</th>\n",
       "\t\t<th>children</th>\n",
       "\t\t<th>smoker_0</th>\n",
       "\t\t<th>smoker_1</th>\n",
       "\t\t<th>region_0</th>\n",
       "\t\t<th>region_1</th>\n",
       "\t\t<th>region_2</th>\n",
       "\t\t<th>region_3</th>\n",
       "\t\t<th>charges</th>\n",
       "\t\t<th>id</th>\n",
       "\t</tr>\n",
       "\t<tr>\n",
       "\t\t<td>49</td>\n",
       "\t\t<td>1</td>\n",
       "\t\t<td>0</td>\n",
       "\t\t<td>22.61</td>\n",
       "\t\t<td>1</td>\n",
       "\t\t<td>1</td>\n",
       "\t\t<td>0</td>\n",
       "\t\t<td>0</td>\n",
       "\t\t<td>1</td>\n",
       "\t\t<td>0</td>\n",
       "\t\t<td>0</td>\n",
       "\t\t<td>9566.9909</td>\n",
       "\t\t<td>125</td>\n",
       "\t</tr>\n",
       "\t<tr>\n",
       "\t\t<td>49</td>\n",
       "\t\t<td>1</td>\n",
       "\t\t<td>0</td>\n",
       "\t\t<td>27.1</td>\n",
       "\t\t<td>1</td>\n",
       "\t\t<td>1</td>\n",
       "\t\t<td>0</td>\n",
       "\t\t<td>0</td>\n",
       "\t\t<td>0</td>\n",
       "\t\t<td>0</td>\n",
       "\t\t<td>1</td>\n",
       "\t\t<td>26140.3603</td>\n",
       "\t\t<td>77</td>\n",
       "\t</tr>\n",
       "\t<tr>\n",
       "\t\t<td>49</td>\n",
       "\t\t<td>1</td>\n",
       "\t\t<td>0</td>\n",
       "\t\t<td>23.18</td>\n",
       "\t\t<td>2</td>\n",
       "\t\t<td>1</td>\n",
       "\t\t<td>0</td>\n",
       "\t\t<td>0</td>\n",
       "\t\t<td>1</td>\n",
       "\t\t<td>0</td>\n",
       "\t\t<td>0</td>\n",
       "\t\t<td>10156.7832</td>\n",
       "\t\t<td>149</td>\n",
       "\t</tr>\n",
       "\t<tr>\n",
       "\t\t<td>49</td>\n",
       "\t\t<td>0</td>\n",
       "\t\t<td>1</td>\n",
       "\t\t<td>22.515</td>\n",
       "\t\t<td>0</td>\n",
       "\t\t<td>1</td>\n",
       "\t\t<td>0</td>\n",
       "\t\t<td>1</td>\n",
       "\t\t<td>0</td>\n",
       "\t\t<td>0</td>\n",
       "\t\t<td>0</td>\n",
       "\t\t<td>8688.85885</td>\n",
       "\t\t<td>181</td>\n",
       "\t</tr>\n",
       "\t<tr>\n",
       "\t\t<td>49</td>\n",
       "\t\t<td>0</td>\n",
       "\t\t<td>1</td>\n",
       "\t\t<td>32.3</td>\n",
       "\t\t<td>3</td>\n",
       "\t\t<td>1</td>\n",
       "\t\t<td>0</td>\n",
       "\t\t<td>0</td>\n",
       "\t\t<td>1</td>\n",
       "\t\t<td>0</td>\n",
       "\t\t<td>0</td>\n",
       "\t\t<td>10269.46</td>\n",
       "\t\t<td>197</td>\n",
       "\t</tr>\n",
       "\t<tr>\n",
       "\t\t<td>49</td>\n",
       "\t\t<td>0</td>\n",
       "\t\t<td>1</td>\n",
       "\t\t<td>37.51</td>\n",
       "\t\t<td>2</td>\n",
       "\t\t<td>1</td>\n",
       "\t\t<td>0</td>\n",
       "\t\t<td>0</td>\n",
       "\t\t<td>0</td>\n",
       "\t\t<td>1</td>\n",
       "\t\t<td>0</td>\n",
       "\t\t<td>9304.7019</td>\n",
       "\t\t<td>205</td>\n",
       "\t</tr>\n",
       "\t<tr>\n",
       "\t\t<td>49</td>\n",
       "\t\t<td>0</td>\n",
       "\t\t<td>1</td>\n",
       "\t\t<td>25.84</td>\n",
       "\t\t<td>2</td>\n",
       "\t\t<td>0</td>\n",
       "\t\t<td>1</td>\n",
       "\t\t<td>0</td>\n",
       "\t\t<td>1</td>\n",
       "\t\t<td>0</td>\n",
       "\t\t<td>0</td>\n",
       "\t\t<td>23807.2406</td>\n",
       "\t\t<td>61</td>\n",
       "\t</tr>\n",
       "\t<tr>\n",
       "\t\t<td>49</td>\n",
       "\t\t<td>1</td>\n",
       "\t\t<td>0</td>\n",
       "\t\t<td>27.17</td>\n",
       "\t\t<td>0</td>\n",
       "\t\t<td>1</td>\n",
       "\t\t<td>0</td>\n",
       "\t\t<td>0</td>\n",
       "\t\t<td>0</td>\n",
       "\t\t<td>1</td>\n",
       "\t\t<td>0</td>\n",
       "\t\t<td>8601.3293</td>\n",
       "\t\t<td>21</td>\n",
       "\t</tr>\n",
       "\t<tr>\n",
       "\t\t<td>49</td>\n",
       "\t\t<td>1</td>\n",
       "\t\t<td>0</td>\n",
       "\t\t<td>41.47</td>\n",
       "\t\t<td>4</td>\n",
       "\t\t<td>1</td>\n",
       "\t\t<td>0</td>\n",
       "\t\t<td>0</td>\n",
       "\t\t<td>0</td>\n",
       "\t\t<td>1</td>\n",
       "\t\t<td>0</td>\n",
       "\t\t<td>10977.2063</td>\n",
       "\t\t<td>85</td>\n",
       "\t</tr>\n",
       "\t<tr>\n",
       "\t\t<td>49</td>\n",
       "\t\t<td>1</td>\n",
       "\t\t<td>0</td>\n",
       "\t\t<td>23.845</td>\n",
       "\t\t<td>3</td>\n",
       "\t\t<td>0</td>\n",
       "\t\t<td>1</td>\n",
       "\t\t<td>1</td>\n",
       "\t\t<td>0</td>\n",
       "\t\t<td>0</td>\n",
       "\t\t<td>0</td>\n",
       "\t\t<td>24106.91255</td>\n",
       "\t\t<td>101</td>\n",
       "\t</tr>\n",
       "</table></html>"
      ],
      "text/plain": [
       "     sex_0  sex_1     bmi  children  smoker_0  smoker_1  region_0  region_1  region_2  region_3      charges   id\n",
       "age                                                                                                              \n",
       "49       1      0  22.610         1         1         0         0         1         0         0   9566.99090  125\n",
       "49       1      0  27.100         1         1         0         0         0         0         1  26140.36030   77\n",
       "49       1      0  23.180         2         1         0         0         1         0         0  10156.78320  149\n",
       "49       0      1  22.515         0         1         0         1         0         0         0   8688.85885  181\n",
       "49       0      1  32.300         3         1         0         0         1         0         0  10269.46000  197\n",
       "49       0      1  37.510         2         1         0         0         0         1         0   9304.70190  205\n",
       "49       0      1  25.840         2         0         1         0         1         0         0  23807.24060   61\n",
       "49       1      0  27.170         0         1         0         0         0         1         0   8601.32930   21\n",
       "49       1      0  41.470         4         1         0         0         0         1         0  10977.20630   85\n",
       "49       1      0  23.845         3         0         1         1         0         0         0  24106.91255  101"
      ]
     },
     "metadata": {},
     "output_type": "display_data"
    },
    {
     "name": "stdout",
     "output_type": "stream",
     "text": [
      "                                                                                         \r"
     ]
    },
    {
     "data": {
      "text/html": [
       "1069 rows X 13 columns"
      ],
      "text/plain": [
       "<IPython.core.display.HTML object>"
      ]
     },
     "metadata": {},
     "output_type": "display_data"
    },
    {
     "name": "stdout",
     "output_type": "stream",
     "text": [
      "                                                                                         \r"
     ]
    },
    {
     "data": {
      "text/html": [
       "Time taken to encode the columns: 13.43 sec"
      ],
      "text/plain": [
       "<IPython.core.display.HTML object>"
      ]
     },
     "metadata": {},
     "output_type": "display_data"
    },
    {
     "name": "stdout",
     "output_type": "stream",
     "text": [
      "                                                                                         \r"
     ]
    },
    {
     "data": {
      "text/html": [
       "\n",
       "            <style>\n",
       "                .custom-div {\n",
       "                    background-color: lightgray;\n",
       "                    color: #000000;\n",
       "                    padding: 10px;\n",
       "                    border-radius: 8px;\n",
       "                    box-shadow: 0 3px 4px rgba(0 -  0 -  0 -  0.2);\n",
       "                    margin-bottom: 10px;\n",
       "                    text-align: center;\n",
       "                }\n",
       "            </style>\n",
       "        <br><div class=\"custom-div\"><h3><span style=\"color: green;\">1. Feature Exploration -> 2. Feature Engineering -></span> 3. Data Preparation -> 4. Model Training & Evaluation<center></h3></center></div>"
      ],
      "text/plain": [
       "<IPython.core.display.HTML object>"
      ]
     },
     "metadata": {},
     "output_type": "display_data"
    },
    {
     "name": "stdout",
     "output_type": "stream",
     "text": [
      "                                                                                         \r"
     ]
    },
    {
     "data": {
      "text/html": [
       "Data preparation started ..."
      ],
      "text/plain": [
       "<IPython.core.display.HTML object>"
      ]
     },
     "metadata": {},
     "output_type": "display_data"
    },
    {
     "name": "stdout",
     "output_type": "stream",
     "text": [
      "                                                                                         \r"
     ]
    },
    {
     "data": {
      "text/html": [
       "\n",
       "Outlier preprocessing ..."
      ],
      "text/plain": [
       "<IPython.core.display.HTML object>"
      ]
     },
     "metadata": {},
     "output_type": "display_data"
    },
    {
     "name": "stdout",
     "output_type": "stream",
     "text": [
      "Columns with outlier percentage :-                                                                                                                                                                                                                                                                                                                                                                                                                                                                                  \n",
      "  ColumnName  OutlierPercentage\n",
      "0    charges          10.196445\n",
      "1        bmi           0.374181\n",
      "                                                                                         \r"
     ]
    },
    {
     "data": {
      "text/html": [
       "Deleting rows of these columns:"
      ],
      "text/plain": [
       "<IPython.core.display.HTML object>"
      ]
     },
     "metadata": {},
     "output_type": "display_data"
    },
    {
     "name": "stdout",
     "output_type": "stream",
     "text": [
      "['bmi']\n",
      "                                                                                         \r"
     ]
    },
    {
     "data": {
      "text/html": [
       "Sample of dataset after removing outlier rows:"
      ],
      "text/plain": [
       "<IPython.core.display.HTML object>"
      ]
     },
     "metadata": {},
     "output_type": "display_data"
    },
    {
     "data": {
      "text/html": [
       "<style type=\"text/css\">\n",
       "\ttable {border:ridge 5px;}\n",
       "\ttable td {border:inset 1px;}\n",
       "\ttable tr#HeaderRow {background-color:grey; color:white;}</style>\n",
       "<html><table>\n",
       "\t<tr id=\"HeaderRow\">\n",
       "\t\t<th>age</th>\n",
       "\t\t<th>sex_0</th>\n",
       "\t\t<th>sex_1</th>\n",
       "\t\t<th>bmi</th>\n",
       "\t\t<th>children</th>\n",
       "\t\t<th>smoker_0</th>\n",
       "\t\t<th>smoker_1</th>\n",
       "\t\t<th>region_0</th>\n",
       "\t\t<th>region_1</th>\n",
       "\t\t<th>region_2</th>\n",
       "\t\t<th>region_3</th>\n",
       "\t\t<th>charges</th>\n",
       "\t\t<th>id</th>\n",
       "\t</tr>\n",
       "\t<tr>\n",
       "\t\t<td>19</td>\n",
       "\t\t<td>1</td>\n",
       "\t\t<td>0</td>\n",
       "\t\t<td>25.745</td>\n",
       "\t\t<td>1</td>\n",
       "\t\t<td>1</td>\n",
       "\t\t<td>0</td>\n",
       "\t\t<td>0</td>\n",
       "\t\t<td>1</td>\n",
       "\t\t<td>0</td>\n",
       "\t\t<td>0</td>\n",
       "\t\t<td>2710.82855</td>\n",
       "\t\t<td>179</td>\n",
       "\t</tr>\n",
       "\t<tr>\n",
       "\t\t<td>19</td>\n",
       "\t\t<td>1</td>\n",
       "\t\t<td>0</td>\n",
       "\t\t<td>36.575</td>\n",
       "\t\t<td>0</td>\n",
       "\t\t<td>1</td>\n",
       "\t\t<td>0</td>\n",
       "\t\t<td>0</td>\n",
       "\t\t<td>1</td>\n",
       "\t\t<td>0</td>\n",
       "\t\t<td>0</td>\n",
       "\t\t<td>2136.88225</td>\n",
       "\t\t<td>147</td>\n",
       "\t</tr>\n",
       "\t<tr>\n",
       "\t\t<td>19</td>\n",
       "\t\t<td>0</td>\n",
       "\t\t<td>1</td>\n",
       "\t\t<td>30.59</td>\n",
       "\t\t<td>0</td>\n",
       "\t\t<td>1</td>\n",
       "\t\t<td>0</td>\n",
       "\t\t<td>0</td>\n",
       "\t\t<td>1</td>\n",
       "\t\t<td>0</td>\n",
       "\t\t<td>0</td>\n",
       "\t\t<td>1639.5631</td>\n",
       "\t\t<td>203</td>\n",
       "\t</tr>\n",
       "\t<tr>\n",
       "\t\t<td>19</td>\n",
       "\t\t<td>0</td>\n",
       "\t\t<td>1</td>\n",
       "\t\t<td>27.265</td>\n",
       "\t\t<td>2</td>\n",
       "\t\t<td>1</td>\n",
       "\t\t<td>0</td>\n",
       "\t\t<td>0</td>\n",
       "\t\t<td>1</td>\n",
       "\t\t<td>0</td>\n",
       "\t\t<td>0</td>\n",
       "\t\t<td>22493.65964</td>\n",
       "\t\t<td>115</td>\n",
       "\t</tr>\n",
       "\t<tr>\n",
       "\t\t<td>19</td>\n",
       "\t\t<td>0</td>\n",
       "\t\t<td>1</td>\n",
       "\t\t<td>20.9</td>\n",
       "\t\t<td>1</td>\n",
       "\t\t<td>1</td>\n",
       "\t\t<td>0</td>\n",
       "\t\t<td>0</td>\n",
       "\t\t<td>0</td>\n",
       "\t\t<td>0</td>\n",
       "\t\t<td>1</td>\n",
       "\t\t<td>1832.094</td>\n",
       "\t\t<td>67</td>\n",
       "\t</tr>\n",
       "\t<tr>\n",
       "\t\t<td>19</td>\n",
       "\t\t<td>1</td>\n",
       "\t\t<td>0</td>\n",
       "\t\t<td>24.7</td>\n",
       "\t\t<td>0</td>\n",
       "\t\t<td>1</td>\n",
       "\t\t<td>0</td>\n",
       "\t\t<td>0</td>\n",
       "\t\t<td>0</td>\n",
       "\t\t<td>0</td>\n",
       "\t\t<td>1</td>\n",
       "\t\t<td>1737.376</td>\n",
       "\t\t<td>227</td>\n",
       "\t</tr>\n",
       "\t<tr>\n",
       "\t\t<td>19</td>\n",
       "\t\t<td>1</td>\n",
       "\t\t<td>0</td>\n",
       "\t\t<td>23.4</td>\n",
       "\t\t<td>2</td>\n",
       "\t\t<td>1</td>\n",
       "\t\t<td>0</td>\n",
       "\t\t<td>0</td>\n",
       "\t\t<td>0</td>\n",
       "\t\t<td>0</td>\n",
       "\t\t<td>1</td>\n",
       "\t\t<td>2913.569</td>\n",
       "\t\t<td>395</td>\n",
       "\t</tr>\n",
       "\t<tr>\n",
       "\t\t<td>19</td>\n",
       "\t\t<td>0</td>\n",
       "\t\t<td>1</td>\n",
       "\t\t<td>22.61</td>\n",
       "\t\t<td>0</td>\n",
       "\t\t<td>1</td>\n",
       "\t\t<td>0</td>\n",
       "\t\t<td>0</td>\n",
       "\t\t<td>1</td>\n",
       "\t\t<td>0</td>\n",
       "\t\t<td>0</td>\n",
       "\t\t<td>1628.4709</td>\n",
       "\t\t<td>235</td>\n",
       "\t</tr>\n",
       "\t<tr>\n",
       "\t\t<td>19</td>\n",
       "\t\t<td>1</td>\n",
       "\t\t<td>0</td>\n",
       "\t\t<td>24.605</td>\n",
       "\t\t<td>1</td>\n",
       "\t\t<td>1</td>\n",
       "\t\t<td>0</td>\n",
       "\t\t<td>0</td>\n",
       "\t\t<td>1</td>\n",
       "\t\t<td>0</td>\n",
       "\t\t<td>0</td>\n",
       "\t\t<td>2709.24395</td>\n",
       "\t\t<td>291</td>\n",
       "\t</tr>\n",
       "\t<tr>\n",
       "\t\t<td>19</td>\n",
       "\t\t<td>0</td>\n",
       "\t\t<td>1</td>\n",
       "\t\t<td>27.6</td>\n",
       "\t\t<td>0</td>\n",
       "\t\t<td>1</td>\n",
       "\t\t<td>0</td>\n",
       "\t\t<td>0</td>\n",
       "\t\t<td>0</td>\n",
       "\t\t<td>0</td>\n",
       "\t\t<td>1</td>\n",
       "\t\t<td>1252.407</td>\n",
       "\t\t<td>219</td>\n",
       "\t</tr>\n",
       "</table></html>"
      ],
      "text/plain": [
       "     sex_0  sex_1     bmi  children  smoker_0  smoker_1  region_0  region_1  region_2  region_3      charges   id\n",
       "age                                                                                                              \n",
       "19       1      0  25.745         1         1         0         0         1         0         0   2710.82855  179\n",
       "19       1      0  36.575         0         1         0         0         1         0         0   2136.88225  147\n",
       "19       0      1  30.590         0         1         0         0         1         0         0   1639.56310  203\n",
       "19       0      1  27.265         2         1         0         0         1         0         0  22493.65964  115\n",
       "19       0      1  20.900         1         1         0         0         0         0         1   1832.09400   67\n",
       "19       1      0  24.700         0         1         0         0         0         0         1   1737.37600  227\n",
       "19       1      0  23.400         2         1         0         0         0         0         1   2913.56900  395\n",
       "19       0      1  22.610         0         1         0         0         1         0         0   1628.47090  235\n",
       "19       1      0  24.605         1         1         0         0         1         0         0   2709.24395  291\n",
       "19       0      1  27.600         0         1         0         0         0         0         1   1252.40700  219"
      ]
     },
     "metadata": {},
     "output_type": "display_data"
    },
    {
     "name": "stdout",
     "output_type": "stream",
     "text": [
      "                                                                                         \r"
     ]
    },
    {
     "data": {
      "text/html": [
       "1065 rows X 13 columns"
      ],
      "text/plain": [
       "<IPython.core.display.HTML object>"
      ]
     },
     "metadata": {},
     "output_type": "display_data"
    },
    {
     "name": "stdout",
     "output_type": "stream",
     "text": [
      "                                                                                         \r"
     ]
    },
    {
     "data": {
      "text/html": [
       "Time Taken by Outlier processing: 34.66 sec "
      ],
      "text/plain": [
       "<IPython.core.display.HTML object>"
      ]
     },
     "metadata": {},
     "output_type": "display_data"
    },
    {
     "name": "stdout",
     "output_type": "stream",
     "text": [
      "                                                                                         \r"
     ]
    },
    {
     "data": {
      "text/html": [
       "\n",
       "Feature selection using lasso ..."
      ],
      "text/plain": [
       "<IPython.core.display.HTML object>"
      ]
     },
     "metadata": {},
     "output_type": "display_data"
    },
    {
     "name": "stdout",
     "output_type": "stream",
     "text": [
      "                                                                                         \r"
     ]
    },
    {
     "data": {
      "text/html": [
       "feature selected by lasso:"
      ],
      "text/plain": [
       "<IPython.core.display.HTML object>"
      ]
     },
     "metadata": {},
     "output_type": "display_data"
    },
    {
     "name": "stdout",
     "output_type": "stream",
     "text": [
      "['smoker_1', 'region_2', 'children', 'smoker_0', 'age', 'bmi']\n",
      "                                                                                         \r"
     ]
    },
    {
     "data": {
      "text/html": [
       "Total time taken by feature selection: 0.46 sec  "
      ],
      "text/plain": [
       "<IPython.core.display.HTML object>"
      ]
     },
     "metadata": {},
     "output_type": "display_data"
    },
    {
     "name": "stdout",
     "output_type": "stream",
     "text": [
      "                                                                                         \r"
     ]
    },
    {
     "data": {
      "text/html": [
       "\n",
       "scaling Features of lasso data ..."
      ],
      "text/plain": [
       "<IPython.core.display.HTML object>"
      ]
     },
     "metadata": {},
     "output_type": "display_data"
    },
    {
     "name": "stdout",
     "output_type": "stream",
     "text": [
      "                                                                                         \r"
     ]
    },
    {
     "data": {
      "text/html": [
       "columns that will be scaled: "
      ],
      "text/plain": [
       "<IPython.core.display.HTML object>"
      ]
     },
     "metadata": {},
     "output_type": "display_data"
    },
    {
     "name": "stdout",
     "output_type": "stream",
     "text": [
      "['children', 'age', 'bmi']\n",
      "                                                                                         \r"
     ]
    },
    {
     "data": {
      "text/html": [
       "Dataset sample after scaling:"
      ],
      "text/plain": [
       "<IPython.core.display.HTML object>"
      ]
     },
     "metadata": {},
     "output_type": "display_data"
    },
    {
     "data": {
      "text/html": [
       "<style type=\"text/css\">\n",
       "\ttable {border:ridge 5px;}\n",
       "\ttable td {border:inset 1px;}\n",
       "\ttable tr#HeaderRow {background-color:grey; color:white;}</style>\n",
       "<html><table>\n",
       "\t<tr id=\"HeaderRow\">\n",
       "\t\t<th>smoker_1</th>\n",
       "\t\t<th>region_2</th>\n",
       "\t\t<th>charges</th>\n",
       "\t\t<th>smoker_0</th>\n",
       "\t\t<th>id</th>\n",
       "\t\t<th>children</th>\n",
       "\t\t<th>age</th>\n",
       "\t\t<th>bmi</th>\n",
       "\t</tr>\n",
       "\t<tr>\n",
       "\t\t<td>0</td>\n",
       "\t\t<td>0</td>\n",
       "\t\t<td>6496.886</td>\n",
       "\t\t<td>1</td>\n",
       "\t\t<td>10</td>\n",
       "\t\t<td>-0.08381617024358608</td>\n",
       "\t\t<td>0.044568281460531003</td>\n",
       "\t\t<td>-0.5414541776425332</td>\n",
       "\t</tr>\n",
       "\t<tr>\n",
       "\t\t<td>0</td>\n",
       "\t\t<td>0</td>\n",
       "\t\t<td>6457.8434</td>\n",
       "\t\t<td>1</td>\n",
       "\t\t<td>12</td>\n",
       "\t\t<td>0.7504288887229488</td>\n",
       "\t\t<td>-0.09904811719443332</td>\n",
       "\t\t<td>-0.23548651534936024</td>\n",
       "\t</tr>\n",
       "\t<tr>\n",
       "\t\t<td>0</td>\n",
       "\t\t<td>0</td>\n",
       "\t\t<td>11552.904</td>\n",
       "\t\t<td>1</td>\n",
       "\t\t<td>13</td>\n",
       "\t\t<td>3.2531640656225536</td>\n",
       "\t\t<td>0.6908420754078705</td>\n",
       "\t\t<td>0.19879016661514223</td>\n",
       "\t</tr>\n",
       "\t<tr>\n",
       "\t\t<td>0</td>\n",
       "\t\t<td>0</td>\n",
       "\t\t<td>14119.62</td>\n",
       "\t\t<td>1</td>\n",
       "\t\t<td>14</td>\n",
       "\t\t<td>0.7504288887229488</td>\n",
       "\t\t<td>1.5525404673376564</td>\n",
       "\t\t<td>0.26458966388249094</td>\n",
       "\t</tr>\n",
       "\t<tr>\n",
       "\t\t<td>0</td>\n",
       "\t\t<td>0</td>\n",
       "\t\t<td>2904.088</td>\n",
       "\t\t<td>1</td>\n",
       "\t\t<td>16</td>\n",
       "\t\t<td>-0.08381617024358608</td>\n",
       "\t\t<td>-0.9607465091242193</td>\n",
       "\t\t<td>-0.11375744540476496</td>\n",
       "\t</tr>\n",
       "\t<tr>\n",
       "\t\t<td>1</td>\n",
       "\t\t<td>1</td>\n",
       "\t\t<td>18972.495</td>\n",
       "\t\t<td>0</td>\n",
       "\t\t<td>17</td>\n",
       "\t\t<td>0.7504288887229488</td>\n",
       "\t\t<td>-0.38628091450436197</td>\n",
       "\t\t<td>-0.8869015382961148</td>\n",
       "\t</tr>\n",
       "\t<tr>\n",
       "\t\t<td>1</td>\n",
       "\t\t<td>0</td>\n",
       "\t\t<td>32734.1863</td>\n",
       "\t\t<td>0</td>\n",
       "\t\t<td>15</td>\n",
       "\t\t<td>0.7504288887229488</td>\n",
       "\t\t<td>-0.5298973131593263</td>\n",
       "\t\t<td>-2.1263995680698002</td>\n",
       "\t</tr>\n",
       "\t<tr>\n",
       "\t\t<td>1</td>\n",
       "\t\t<td>0</td>\n",
       "\t\t<td>13844.506</td>\n",
       "\t\t<td>0</td>\n",
       "\t\t<td>11</td>\n",
       "\t\t<td>-0.9180612292101209</td>\n",
       "\t\t<td>-1.4634039044165945</td>\n",
       "\t\t<td>-1.4790970137022554</td>\n",
       "\t</tr>\n",
       "\t<tr>\n",
       "\t\t<td>0</td>\n",
       "\t\t<td>1</td>\n",
       "\t\t<td>3935.1799</td>\n",
       "\t\t<td>1</td>\n",
       "\t\t<td>9</td>\n",
       "\t\t<td>-0.9180612292101209</td>\n",
       "\t\t<td>-0.38628091450436197</td>\n",
       "\t\t<td>0.5787822633340827</td>\n",
       "\t</tr>\n",
       "\t<tr>\n",
       "\t\t<td>0</td>\n",
       "\t\t<td>0</td>\n",
       "\t\t<td>2897.3235</td>\n",
       "\t\t<td>1</td>\n",
       "\t\t<td>8</td>\n",
       "\t\t<td>-0.9180612292101209</td>\n",
       "\t\t<td>-0.9607465091242193</td>\n",
       "\t\t<td>-0.20423175414736985</td>\n",
       "\t</tr>\n",
       "</table></html>"
      ],
      "text/plain": [
       "   smoker_1  region_2     charges  smoker_0  id  children       age       bmi\n",
       "0         0         0   6496.8860         1  10 -0.083816  0.044568 -0.541454\n",
       "1         0         0   6457.8434         1  12  0.750429 -0.099048 -0.235487\n",
       "2         0         0  11552.9040         1  13  3.253164  0.690842  0.198790\n",
       "3         0         0  14119.6200         1  14  0.750429  1.552540  0.264590\n",
       "4         0         0   2904.0880         1  16 -0.083816 -0.960747 -0.113757\n",
       "5         1         1  18972.4950         0  17  0.750429 -0.386281 -0.886902\n",
       "6         1         0  32734.1863         0  15  0.750429 -0.529897 -2.126400\n",
       "7         1         0  13844.5060         0  11 -0.918061 -1.463404 -1.479097\n",
       "8         0         1   3935.1799         1   9 -0.918061 -0.386281  0.578782\n",
       "9         0         0   2897.3235         1   8 -0.918061 -0.960747 -0.204232"
      ]
     },
     "metadata": {},
     "output_type": "display_data"
    },
    {
     "name": "stdout",
     "output_type": "stream",
     "text": [
      "                                                                                         \r"
     ]
    },
    {
     "data": {
      "text/html": [
       "1065 rows X 8 columns"
      ],
      "text/plain": [
       "<IPython.core.display.HTML object>"
      ]
     },
     "metadata": {},
     "output_type": "display_data"
    },
    {
     "name": "stdout",
     "output_type": "stream",
     "text": [
      "                                                                                         \r"
     ]
    },
    {
     "data": {
      "text/html": [
       "Total time taken by feature scaling: 27.87 sec"
      ],
      "text/plain": [
       "<IPython.core.display.HTML object>"
      ]
     },
     "metadata": {},
     "output_type": "display_data"
    },
    {
     "name": "stdout",
     "output_type": "stream",
     "text": [
      "                                                                                          \r"
     ]
    },
    {
     "data": {
      "text/html": [
       "\n",
       "Feature selection using rfe ..."
      ],
      "text/plain": [
       "<IPython.core.display.HTML object>"
      ]
     },
     "metadata": {},
     "output_type": "display_data"
    },
    {
     "name": "stdout",
     "output_type": "stream",
     "text": [
      "                                                                                          \r"
     ]
    },
    {
     "data": {
      "text/html": [
       "feature selected by RFE:"
      ],
      "text/plain": [
       "<IPython.core.display.HTML object>"
      ]
     },
     "metadata": {},
     "output_type": "display_data"
    },
    {
     "name": "stdout",
     "output_type": "stream",
     "text": [
      "['smoker_1', 'region_2', 'sex_1', 'children', 'region_3', 'region_1', 'sex_0', 'smoker_0', 'region_0', 'age', 'bmi']\n",
      "                                                                                          \r"
     ]
    },
    {
     "data": {
      "text/html": [
       "Total time taken by feature selection: 9.25 sec  "
      ],
      "text/plain": [
       "<IPython.core.display.HTML object>"
      ]
     },
     "metadata": {},
     "output_type": "display_data"
    },
    {
     "name": "stdout",
     "output_type": "stream",
     "text": [
      "                                                                                          \r"
     ]
    },
    {
     "data": {
      "text/html": [
       "\n",
       "scaling Features of rfe data ..."
      ],
      "text/plain": [
       "<IPython.core.display.HTML object>"
      ]
     },
     "metadata": {},
     "output_type": "display_data"
    },
    {
     "name": "stdout",
     "output_type": "stream",
     "text": [
      "                                                                                          \r"
     ]
    },
    {
     "data": {
      "text/html": [
       "columns that will be scaled: "
      ],
      "text/plain": [
       "<IPython.core.display.HTML object>"
      ]
     },
     "metadata": {},
     "output_type": "display_data"
    },
    {
     "name": "stdout",
     "output_type": "stream",
     "text": [
      "['r_children', 'r_age', 'r_bmi']\n",
      "                                                                                          \r"
     ]
    },
    {
     "data": {
      "text/html": [
       "Dataset sample after scaling:"
      ],
      "text/plain": [
       "<IPython.core.display.HTML object>"
      ]
     },
     "metadata": {},
     "output_type": "display_data"
    },
    {
     "data": {
      "text/html": [
       "<style type=\"text/css\">\n",
       "\ttable {border:ridge 5px;}\n",
       "\ttable td {border:inset 1px;}\n",
       "\ttable tr#HeaderRow {background-color:grey; color:white;}</style>\n",
       "<html><table>\n",
       "\t<tr id=\"HeaderRow\">\n",
       "\t\t<th>r_region_2</th>\n",
       "\t\t<th>r_smoker_1</th>\n",
       "\t\t<th>r_sex_1</th>\n",
       "\t\t<th>r_smoker_0</th>\n",
       "\t\t<th>r_region_0</th>\n",
       "\t\t<th>charges</th>\n",
       "\t\t<th>r_sex_0</th>\n",
       "\t\t<th>r_region_1</th>\n",
       "\t\t<th>id</th>\n",
       "\t\t<th>r_region_3</th>\n",
       "\t\t<th>r_children</th>\n",
       "\t\t<th>r_age</th>\n",
       "\t\t<th>r_bmi</th>\n",
       "\t</tr>\n",
       "\t<tr>\n",
       "\t\t<td>0</td>\n",
       "\t\t<td>0</td>\n",
       "\t\t<td>0</td>\n",
       "\t\t<td>1</td>\n",
       "\t\t<td>0</td>\n",
       "\t\t<td>6496.886</td>\n",
       "\t\t<td>1</td>\n",
       "\t\t<td>0</td>\n",
       "\t\t<td>10</td>\n",
       "\t\t<td>1</td>\n",
       "\t\t<td>-0.08381617024358608</td>\n",
       "\t\t<td>0.044568281460531003</td>\n",
       "\t\t<td>-0.5414541776425332</td>\n",
       "\t</tr>\n",
       "\t<tr>\n",
       "\t\t<td>0</td>\n",
       "\t\t<td>0</td>\n",
       "\t\t<td>1</td>\n",
       "\t\t<td>1</td>\n",
       "\t\t<td>0</td>\n",
       "\t\t<td>6457.8434</td>\n",
       "\t\t<td>0</td>\n",
       "\t\t<td>1</td>\n",
       "\t\t<td>12</td>\n",
       "\t\t<td>0</td>\n",
       "\t\t<td>0.7504288887229488</td>\n",
       "\t\t<td>-0.09904811719443332</td>\n",
       "\t\t<td>-0.23548651534936024</td>\n",
       "\t</tr>\n",
       "\t<tr>\n",
       "\t\t<td>0</td>\n",
       "\t\t<td>0</td>\n",
       "\t\t<td>0</td>\n",
       "\t\t<td>1</td>\n",
       "\t\t<td>0</td>\n",
       "\t\t<td>11552.904</td>\n",
       "\t\t<td>1</td>\n",
       "\t\t<td>0</td>\n",
       "\t\t<td>13</td>\n",
       "\t\t<td>1</td>\n",
       "\t\t<td>3.2531640656225536</td>\n",
       "\t\t<td>0.6908420754078705</td>\n",
       "\t\t<td>0.19879016661514223</td>\n",
       "\t</tr>\n",
       "\t<tr>\n",
       "\t\t<td>0</td>\n",
       "\t\t<td>0</td>\n",
       "\t\t<td>1</td>\n",
       "\t\t<td>1</td>\n",
       "\t\t<td>0</td>\n",
       "\t\t<td>14119.62</td>\n",
       "\t\t<td>0</td>\n",
       "\t\t<td>1</td>\n",
       "\t\t<td>14</td>\n",
       "\t\t<td>0</td>\n",
       "\t\t<td>0.7504288887229488</td>\n",
       "\t\t<td>1.5525404673376564</td>\n",
       "\t\t<td>0.26458966388249094</td>\n",
       "\t</tr>\n",
       "\t<tr>\n",
       "\t\t<td>0</td>\n",
       "\t\t<td>0</td>\n",
       "\t\t<td>1</td>\n",
       "\t\t<td>1</td>\n",
       "\t\t<td>0</td>\n",
       "\t\t<td>2904.088</td>\n",
       "\t\t<td>0</td>\n",
       "\t\t<td>0</td>\n",
       "\t\t<td>16</td>\n",
       "\t\t<td>1</td>\n",
       "\t\t<td>-0.08381617024358608</td>\n",
       "\t\t<td>-0.9607465091242193</td>\n",
       "\t\t<td>-0.11375744540476496</td>\n",
       "\t</tr>\n",
       "\t<tr>\n",
       "\t\t<td>1</td>\n",
       "\t\t<td>1</td>\n",
       "\t\t<td>1</td>\n",
       "\t\t<td>0</td>\n",
       "\t\t<td>0</td>\n",
       "\t\t<td>18972.495</td>\n",
       "\t\t<td>0</td>\n",
       "\t\t<td>0</td>\n",
       "\t\t<td>17</td>\n",
       "\t\t<td>0</td>\n",
       "\t\t<td>0.7504288887229488</td>\n",
       "\t\t<td>-0.38628091450436197</td>\n",
       "\t\t<td>-0.8869015382961148</td>\n",
       "\t</tr>\n",
       "\t<tr>\n",
       "\t\t<td>0</td>\n",
       "\t\t<td>1</td>\n",
       "\t\t<td>0</td>\n",
       "\t\t<td>0</td>\n",
       "\t\t<td>0</td>\n",
       "\t\t<td>32734.1863</td>\n",
       "\t\t<td>1</td>\n",
       "\t\t<td>1</td>\n",
       "\t\t<td>15</td>\n",
       "\t\t<td>0</td>\n",
       "\t\t<td>0.7504288887229488</td>\n",
       "\t\t<td>-0.5298973131593263</td>\n",
       "\t\t<td>-2.1263995680698002</td>\n",
       "\t</tr>\n",
       "\t<tr>\n",
       "\t\t<td>0</td>\n",
       "\t\t<td>1</td>\n",
       "\t\t<td>0</td>\n",
       "\t\t<td>0</td>\n",
       "\t\t<td>0</td>\n",
       "\t\t<td>13844.506</td>\n",
       "\t\t<td>1</td>\n",
       "\t\t<td>0</td>\n",
       "\t\t<td>11</td>\n",
       "\t\t<td>1</td>\n",
       "\t\t<td>-0.9180612292101209</td>\n",
       "\t\t<td>-1.4634039044165945</td>\n",
       "\t\t<td>-1.4790970137022554</td>\n",
       "\t</tr>\n",
       "\t<tr>\n",
       "\t\t<td>1</td>\n",
       "\t\t<td>0</td>\n",
       "\t\t<td>1</td>\n",
       "\t\t<td>1</td>\n",
       "\t\t<td>0</td>\n",
       "\t\t<td>3935.1799</td>\n",
       "\t\t<td>0</td>\n",
       "\t\t<td>0</td>\n",
       "\t\t<td>9</td>\n",
       "\t\t<td>0</td>\n",
       "\t\t<td>-0.9180612292101209</td>\n",
       "\t\t<td>-0.38628091450436197</td>\n",
       "\t\t<td>0.5787822633340827</td>\n",
       "\t</tr>\n",
       "\t<tr>\n",
       "\t\t<td>0</td>\n",
       "\t\t<td>0</td>\n",
       "\t\t<td>1</td>\n",
       "\t\t<td>1</td>\n",
       "\t\t<td>1</td>\n",
       "\t\t<td>2897.3235</td>\n",
       "\t\t<td>0</td>\n",
       "\t\t<td>0</td>\n",
       "\t\t<td>8</td>\n",
       "\t\t<td>0</td>\n",
       "\t\t<td>-0.9180612292101209</td>\n",
       "\t\t<td>-0.9607465091242193</td>\n",
       "\t\t<td>-0.20423175414736985</td>\n",
       "\t</tr>\n",
       "</table></html>"
      ],
      "text/plain": [
       "   r_region_2  r_smoker_1  r_sex_1  r_smoker_0  r_region_0     charges  r_sex_0  r_region_1  id  r_region_3  r_children     r_age     r_bmi\n",
       "0           0           0        0           1           0   6496.8860        1           0  10           1   -0.083816  0.044568 -0.541454\n",
       "1           0           0        1           1           0   6457.8434        0           1  12           0    0.750429 -0.099048 -0.235487\n",
       "2           0           0        0           1           0  11552.9040        1           0  13           1    3.253164  0.690842  0.198790\n",
       "3           0           0        1           1           0  14119.6200        0           1  14           0    0.750429  1.552540  0.264590\n",
       "4           0           0        1           1           0   2904.0880        0           0  16           1   -0.083816 -0.960747 -0.113757\n",
       "5           1           1        1           0           0  18972.4950        0           0  17           0    0.750429 -0.386281 -0.886902\n",
       "6           0           1        0           0           0  32734.1863        1           1  15           0    0.750429 -0.529897 -2.126400\n",
       "7           0           1        0           0           0  13844.5060        1           0  11           1   -0.918061 -1.463404 -1.479097\n",
       "8           1           0        1           1           0   3935.1799        0           0   9           0   -0.918061 -0.386281  0.578782\n",
       "9           0           0        1           1           1   2897.3235        0           0   8           0   -0.918061 -0.960747 -0.204232"
      ]
     },
     "metadata": {},
     "output_type": "display_data"
    },
    {
     "name": "stdout",
     "output_type": "stream",
     "text": [
      "                                                                                          \r"
     ]
    },
    {
     "data": {
      "text/html": [
       "1065 rows X 13 columns"
      ],
      "text/plain": [
       "<IPython.core.display.HTML object>"
      ]
     },
     "metadata": {},
     "output_type": "display_data"
    },
    {
     "name": "stdout",
     "output_type": "stream",
     "text": [
      "                                                                                          \r"
     ]
    },
    {
     "data": {
      "text/html": [
       "Total time taken by feature scaling: 32.50 sec"
      ],
      "text/plain": [
       "<IPython.core.display.HTML object>"
      ]
     },
     "metadata": {},
     "output_type": "display_data"
    },
    {
     "name": "stdout",
     "output_type": "stream",
     "text": [
      "                                                                                          \r"
     ]
    },
    {
     "data": {
      "text/html": [
       "\n",
       "scaling Features of pca data ..."
      ],
      "text/plain": [
       "<IPython.core.display.HTML object>"
      ]
     },
     "metadata": {},
     "output_type": "display_data"
    },
    {
     "name": "stdout",
     "output_type": "stream",
     "text": [
      "                                                                                          \r"
     ]
    },
    {
     "data": {
      "text/html": [
       "columns that will be scaled: "
      ],
      "text/plain": [
       "<IPython.core.display.HTML object>"
      ]
     },
     "metadata": {},
     "output_type": "display_data"
    },
    {
     "name": "stdout",
     "output_type": "stream",
     "text": [
      "['age', 'bmi', 'children']\n",
      "                                                                                          \r"
     ]
    },
    {
     "data": {
      "text/html": [
       "Dataset sample after scaling:"
      ],
      "text/plain": [
       "<IPython.core.display.HTML object>"
      ]
     },
     "metadata": {},
     "output_type": "display_data"
    },
    {
     "data": {
      "text/html": [
       "<style type=\"text/css\">\n",
       "\ttable {border:ridge 5px;}\n",
       "\ttable td {border:inset 1px;}\n",
       "\ttable tr#HeaderRow {background-color:grey; color:white;}</style>\n",
       "<html><table>\n",
       "\t<tr id=\"HeaderRow\">\n",
       "\t\t<th>smoker_1</th>\n",
       "\t\t<th>region_2</th>\n",
       "\t\t<th>sex_1</th>\n",
       "\t\t<th>region_0</th>\n",
       "\t\t<th>sex_0</th>\n",
       "\t\t<th>smoker_0</th>\n",
       "\t\t<th>region_1</th>\n",
       "\t\t<th>charges</th>\n",
       "\t\t<th>region_3</th>\n",
       "\t\t<th>id</th>\n",
       "\t\t<th>age</th>\n",
       "\t\t<th>bmi</th>\n",
       "\t\t<th>children</th>\n",
       "\t</tr>\n",
       "\t<tr>\n",
       "\t\t<td>0</td>\n",
       "\t\t<td>0</td>\n",
       "\t\t<td>1</td>\n",
       "\t\t<td>0</td>\n",
       "\t\t<td>0</td>\n",
       "\t\t<td>1</td>\n",
       "\t\t<td>0</td>\n",
       "\t\t<td>1252.407</td>\n",
       "\t\t<td>1</td>\n",
       "\t\t<td>219</td>\n",
       "\t\t<td>-1.463403904416595</td>\n",
       "\t\t<td>-0.5085544290088584</td>\n",
       "\t\t<td>-0.9180612292101222</td>\n",
       "\t</tr>\n",
       "\t<tr>\n",
       "\t\t<td>0</td>\n",
       "\t\t<td>0</td>\n",
       "\t\t<td>0</td>\n",
       "\t\t<td>0</td>\n",
       "\t\t<td>1</td>\n",
       "\t\t<td>1</td>\n",
       "\t\t<td>0</td>\n",
       "\t\t<td>3410.324</td>\n",
       "\t\t<td>1</td>\n",
       "\t\t<td>152</td>\n",
       "\t\t<td>-0.9607465091242197</td>\n",
       "\t\t<td>1.926026969883052</td>\n",
       "\t\t<td>-0.0838161702435862</td>\n",
       "\t</tr>\n",
       "\t<tr>\n",
       "\t\t<td>1</td>\n",
       "\t\t<td>0</td>\n",
       "\t\t<td>0</td>\n",
       "\t\t<td>1</td>\n",
       "\t\t<td>1</td>\n",
       "\t\t<td>0</td>\n",
       "\t\t<td>0</td>\n",
       "\t\t<td>14455.64405</td>\n",
       "\t\t<td>0</td>\n",
       "\t\t<td>160</td>\n",
       "\t\t<td>-0.9607465091242197</td>\n",
       "\t\t<td>-2.220163851675773</td>\n",
       "\t\t<td>0.7504288887229499</td>\n",
       "\t</tr>\n",
       "\t<tr>\n",
       "\t\t<td>0</td>\n",
       "\t\t<td>0</td>\n",
       "\t\t<td>1</td>\n",
       "\t\t<td>0</td>\n",
       "\t\t<td>0</td>\n",
       "\t\t<td>1</td>\n",
       "\t\t<td>0</td>\n",
       "\t\t<td>7196.867</td>\n",
       "\t\t<td>1</td>\n",
       "\t\t<td>42</td>\n",
       "\t\t<td>0.044568281460531024</td>\n",
       "\t\t<td>0.7580858933876081</td>\n",
       "\t\t<td>1.584673947689486</td>\n",
       "\t</tr>\n",
       "\t<tr>\n",
       "\t\t<td>0</td>\n",
       "\t\t<td>1</td>\n",
       "\t\t<td>1</td>\n",
       "\t\t<td>0</td>\n",
       "\t\t<td>0</td>\n",
       "\t\t<td>1</td>\n",
       "\t\t<td>0</td>\n",
       "\t\t<td>4686.3887</td>\n",
       "\t\t<td>0</td>\n",
       "\t\t<td>39</td>\n",
       "\t\t<td>-0.5298973131593265</td>\n",
       "\t\t<td>2.6054067791684306</td>\n",
       "\t\t<td>0.7504288887229499</td>\n",
       "\t</tr>\n",
       "\t<tr>\n",
       "\t\t<td>0</td>\n",
       "\t\t<td>0</td>\n",
       "\t\t<td>1</td>\n",
       "\t\t<td>0</td>\n",
       "\t\t<td>0</td>\n",
       "\t\t<td>1</td>\n",
       "\t\t<td>1</td>\n",
       "\t\t<td>4454.40265</td>\n",
       "\t\t<td>0</td>\n",
       "\t\t<td>103</td>\n",
       "\t\t<td>-0.5298973131593265</td>\n",
       "\t\t<td>-0.469897224364291</td>\n",
       "\t\t<td>-0.0838161702435862</td>\n",
       "\t</tr>\n",
       "\t<tr>\n",
       "\t\t<td>0</td>\n",
       "\t\t<td>1</td>\n",
       "\t\t<td>0</td>\n",
       "\t\t<td>0</td>\n",
       "\t\t<td>1</td>\n",
       "\t\t<td>1</td>\n",
       "\t\t<td>0</td>\n",
       "\t\t<td>5400.9805</td>\n",
       "\t\t<td>0</td>\n",
       "\t\t<td>68</td>\n",
       "\t\t<td>-0.09904811719443336</td>\n",
       "\t\t<td>1.5559047977542142</td>\n",
       "\t\t<td>-0.9180612292101222</td>\n",
       "\t</tr>\n",
       "\t<tr>\n",
       "\t\t<td>0</td>\n",
       "\t\t<td>0</td>\n",
       "\t\t<td>0</td>\n",
       "\t\t<td>1</td>\n",
       "\t\t<td>1</td>\n",
       "\t\t<td>1</td>\n",
       "\t\t<td>0</td>\n",
       "\t\t<td>7144.86265</td>\n",
       "\t\t<td>0</td>\n",
       "\t\t<td>52</td>\n",
       "\t\t<td>-0.09904811719443336</td>\n",
       "\t\t<td>-0.469897224364291</td>\n",
       "\t\t<td>0.7504288887229499</td>\n",
       "\t</tr>\n",
       "\t<tr>\n",
       "\t\t<td>0</td>\n",
       "\t\t<td>0</td>\n",
       "\t\t<td>0</td>\n",
       "\t\t<td>1</td>\n",
       "\t\t<td>1</td>\n",
       "\t\t<td>1</td>\n",
       "\t\t<td>0</td>\n",
       "\t\t<td>13616.3586</td>\n",
       "\t\t<td>0</td>\n",
       "\t\t<td>38</td>\n",
       "\t\t<td>1.552540467337657</td>\n",
       "\t\t<td>-1.423167441025009</td>\n",
       "\t\t<td>-0.9180612292101222</td>\n",
       "\t</tr>\n",
       "\t<tr>\n",
       "\t\t<td>0</td>\n",
       "\t\t<td>0</td>\n",
       "\t\t<td>0</td>\n",
       "\t\t<td>1</td>\n",
       "\t\t<td>1</td>\n",
       "\t\t<td>1</td>\n",
       "\t\t<td>0</td>\n",
       "\t\t<td>13635.6379</td>\n",
       "\t\t<td>0</td>\n",
       "\t\t<td>126</td>\n",
       "\t\t<td>1.552540467337657</td>\n",
       "\t\t<td>0.8584301267203152</td>\n",
       "\t\t<td>-0.9180612292101222</td>\n",
       "\t</tr>\n",
       "</table></html>"
      ],
      "text/plain": [
       "   smoker_1  region_2  sex_1  region_0  sex_0  smoker_0  region_1      charges  region_3   id       age       bmi  children\n",
       "0         0         0      1         0      0         1         0   1252.40700         1  219 -1.463404 -0.508554 -0.918061\n",
       "1         0         0      0         0      1         1         0   3410.32400         1  152 -0.960747  1.926027 -0.083816\n",
       "2         1         0      0         1      1         0         0  14455.64405         0  160 -0.960747 -2.220164  0.750429\n",
       "3         0         0      1         0      0         1         0   7196.86700         1   42  0.044568  0.758086  1.584674\n",
       "4         0         1      1         0      0         1         0   4686.38870         0   39 -0.529897  2.605407  0.750429\n",
       "5         0         0      1         0      0         1         1   4454.40265         0  103 -0.529897 -0.469897 -0.083816\n",
       "6         0         1      0         0      1         1         0   5400.98050         0   68 -0.099048  1.555905 -0.918061\n",
       "7         0         0      0         1      1         1         0   7144.86265         0   52 -0.099048 -0.469897  0.750429\n",
       "8         0         0      0         1      1         1         0  13616.35860         0   38  1.552540 -1.423167 -0.918061\n",
       "9         0         0      0         1      1         1         0  13635.63790         0  126  1.552540  0.858430 -0.918061"
      ]
     },
     "metadata": {},
     "output_type": "display_data"
    },
    {
     "name": "stdout",
     "output_type": "stream",
     "text": [
      "                                                                                          \r"
     ]
    },
    {
     "data": {
      "text/html": [
       "1065 rows X 13 columns"
      ],
      "text/plain": [
       "<IPython.core.display.HTML object>"
      ]
     },
     "metadata": {},
     "output_type": "display_data"
    },
    {
     "name": "stdout",
     "output_type": "stream",
     "text": [
      "                                                                                          \r"
     ]
    },
    {
     "data": {
      "text/html": [
       "Total time taken by feature scaling: 28.66 sec"
      ],
      "text/plain": [
       "<IPython.core.display.HTML object>"
      ]
     },
     "metadata": {},
     "output_type": "display_data"
    },
    {
     "name": "stdout",
     "output_type": "stream",
     "text": [
      "                                                                                          \r"
     ]
    },
    {
     "data": {
      "text/html": [
       "\n",
       "Dimension Reduction using pca ..."
      ],
      "text/plain": [
       "<IPython.core.display.HTML object>"
      ]
     },
     "metadata": {},
     "output_type": "display_data"
    },
    {
     "name": "stdout",
     "output_type": "stream",
     "text": [
      "                                                                                          \r"
     ]
    },
    {
     "data": {
      "text/html": [
       "PCA columns:"
      ],
      "text/plain": [
       "<IPython.core.display.HTML object>"
      ]
     },
     "metadata": {},
     "output_type": "display_data"
    },
    {
     "name": "stdout",
     "output_type": "stream",
     "text": [
      "['col_0', 'col_1', 'col_2', 'col_3', 'col_4', 'col_5', 'col_6', 'col_7']\n",
      "                                                                                          \r"
     ]
    },
    {
     "data": {
      "text/html": [
       "Total time taken by PCA: 5.53 sec  "
      ],
      "text/plain": [
       "<IPython.core.display.HTML object>"
      ]
     },
     "metadata": {},
     "output_type": "display_data"
    },
    {
     "name": "stdout",
     "output_type": "stream",
     "text": [
      "                                                                                          \r"
     ]
    },
    {
     "data": {
      "text/html": [
       "\n",
       "            <style>\n",
       "                .custom-div {\n",
       "                    background-color: lightgray;\n",
       "                    color: #000000;\n",
       "                    padding: 10px;\n",
       "                    border-radius: 8px;\n",
       "                    box-shadow: 0 3px 4px rgba(0 -  0 -  0 -  0.2);\n",
       "                    margin-bottom: 10px;\n",
       "                    text-align: center;\n",
       "                }\n",
       "            </style>\n",
       "        <br><div class=\"custom-div\"><h3><span style=\"color: green;\">1. Feature Exploration -> 2. Feature Engineering -> 3. Data Preparation -></span> 4. Model Training & Evaluation<center></h3></center></div>"
      ],
      "text/plain": [
       "<IPython.core.display.HTML object>"
      ]
     },
     "metadata": {},
     "output_type": "display_data"
    },
    {
     "name": "stdout",
     "output_type": "stream",
     "text": [
      "                                                                                          \r"
     ]
    },
    {
     "data": {
      "text/html": [
       "Model Training started ..."
      ],
      "text/plain": [
       "<IPython.core.display.HTML object>"
      ]
     },
     "metadata": {},
     "output_type": "display_data"
    },
    {
     "name": "stdout",
     "output_type": "stream",
     "text": [
      "                                                                                          \r"
     ]
    },
    {
     "data": {
      "text/html": [
       "\n",
       "Hyperparameters used for model training: "
      ],
      "text/plain": [
       "<IPython.core.display.HTML object>"
      ]
     },
     "metadata": {},
     "output_type": "display_data"
    },
    {
     "name": "stdout",
     "output_type": "stream",
     "text": [
      "response_column : charges                                                                                                                             \n",
      "name : decision_forest\n",
      "tree_type : Regression\n",
      "min_impurity : (0.0, 0.1, 0.2)\n",
      "max_depth : (5, 6, 8, 10)\n",
      "min_node_size : (1, 2, 3)\n",
      "num_trees : (-1, 20, 30)\n",
      "seed : 42\n",
      "Total number of models for decision_forest : 108\n",
      "--------------------------------------------------------------------------------------------------------------------------------------------------------------------------------------------------------\n",
      "\n",
      "response_column : charges\n",
      "name : xgboost\n",
      "model_type : Regression\n",
      "column_sampling : (1, 0.6)\n",
      "min_impurity : (0.0, 0.1, 0.2)\n",
      "lambda1 : (0.01, 0.1, 1, 10)\n",
      "shrinkage_factor : (0.5, 0.1, 0.3)\n",
      "max_depth : (5, 6, 8, 10)\n",
      "min_node_size : (1, 2, 3)\n",
      "iter_num : (10, 20, 30)\n",
      "seed : 42\n",
      "Total number of models for xgboost : 2592\n",
      "--------------------------------------------------------------------------------------------------------------------------------------------------------------------------------------------------------\n",
      "\n",
      "response_column : charges\n",
      "name : knn\n",
      "model_type : Regression\n",
      "k : (3, 5, 6, 8, 10, 12)\n",
      "id_column : id\n",
      "voting_weight : 1.0\n",
      "Total number of models for knn : 6\n",
      "--------------------------------------------------------------------------------------------------------------------------------------------------------------------------------------------------------\n",
      "\n",
      "response_column : charges\n",
      "name : svm\n",
      "model_type : regression\n",
      "lambda1 : (0.001, 0.02, 0.1)\n",
      "alpha : (0.15, 0.85)\n",
      "tolerance : (0.001, 0.01)\n",
      "learning_rate : ('Invtime', 'Adaptive', 'constant')\n",
      "initial_eta : (0.05, 0.1)\n",
      "momentum : (0.65, 0.8, 0.95)\n",
      "nesterov : True\n",
      "intercept : True\n",
      "iter_num_no_change : (5, 10, 50)\n",
      "local_sgd_iterations  : (10, 20)\n",
      "iter_max : (300, 200, 400)\n",
      "batch_size : (10, 50, 60, 80)\n",
      "Total number of models for svm : 15552\n",
      "--------------------------------------------------------------------------------------------------------------------------------------------------------------------------------------------------------\n",
      "\n",
      "response_column : charges\n",
      "name : glm\n",
      "family : GAUSSIAN\n",
      "lambda1 : (0.001, 0.02, 0.1)\n",
      "alpha : (0.15, 0.85)\n",
      "learning_rate : ('invtime', 'constant', 'adaptive')\n",
      "initial_eta : (0.05, 0.1)\n",
      "momentum : (0.65, 0.8, 0.95)\n",
      "iter_num_no_change : (5, 10, 50)\n",
      "iter_max : (300, 200, 400)\n",
      "batch_size : (10, 50, 60, 80)\n",
      "Total number of models for glm : 3888\n",
      "--------------------------------------------------------------------------------------------------------------------------------------------------------------------------------------------------------\n",
      "\n",
      "                                                                                          \r"
     ]
    },
    {
     "data": {
      "text/html": [
       "\n",
       "Performing hyperparameter tuning ..."
      ],
      "text/plain": [
       "<IPython.core.display.HTML object>"
      ]
     },
     "metadata": {},
     "output_type": "display_data"
    },
    {
     "name": "stdout",
     "output_type": "stream",
     "text": [
      "                                                                                          \r"
     ]
    },
    {
     "data": {
      "text/html": [
       "decision_forest"
      ],
      "text/plain": [
       "<IPython.core.display.HTML object>"
      ]
     },
     "metadata": {},
     "output_type": "display_data"
    },
    {
     "name": "stdout",
     "output_type": "stream",
     "text": [
      "                                                                                                                                                                                                        \r"
     ]
    },
    {
     "data": {
      "text/html": [
       "----------------------------------------------------------------------------------------------------"
      ],
      "text/plain": [
       "<IPython.core.display.HTML object>"
      ]
     },
     "metadata": {},
     "output_type": "display_data"
    },
    {
     "name": "stdout",
     "output_type": "stream",
     "text": [
      "                                                                                          \r"
     ]
    },
    {
     "data": {
      "text/html": [
       "xgboost"
      ],
      "text/plain": [
       "<IPython.core.display.HTML object>"
      ]
     },
     "metadata": {},
     "output_type": "display_data"
    },
    {
     "name": "stdout",
     "output_type": "stream",
     "text": [
      "                                                                                                                                                                                                        \r"
     ]
    },
    {
     "data": {
      "text/html": [
       "----------------------------------------------------------------------------------------------------"
      ],
      "text/plain": [
       "<IPython.core.display.HTML object>"
      ]
     },
     "metadata": {},
     "output_type": "display_data"
    },
    {
     "name": "stdout",
     "output_type": "stream",
     "text": [
      "                                                                                          \r"
     ]
    },
    {
     "data": {
      "text/html": [
       "knn"
      ],
      "text/plain": [
       "<IPython.core.display.HTML object>"
      ]
     },
     "metadata": {},
     "output_type": "display_data"
    },
    {
     "name": "stdout",
     "output_type": "stream",
     "text": [
      "                                                                                                                                                                                                        \r"
     ]
    },
    {
     "data": {
      "text/html": [
       "----------------------------------------------------------------------------------------------------"
      ],
      "text/plain": [
       "<IPython.core.display.HTML object>"
      ]
     },
     "metadata": {},
     "output_type": "display_data"
    },
    {
     "name": "stdout",
     "output_type": "stream",
     "text": [
      "                                                                                          \r"
     ]
    },
    {
     "data": {
      "text/html": [
       "svm"
      ],
      "text/plain": [
       "<IPython.core.display.HTML object>"
      ]
     },
     "metadata": {},
     "output_type": "display_data"
    },
    {
     "name": "stdout",
     "output_type": "stream",
     "text": [
      "                                                                                                                                                                                                        \r"
     ]
    },
    {
     "data": {
      "text/html": [
       "----------------------------------------------------------------------------------------------------"
      ],
      "text/plain": [
       "<IPython.core.display.HTML object>"
      ]
     },
     "metadata": {},
     "output_type": "display_data"
    },
    {
     "name": "stdout",
     "output_type": "stream",
     "text": [
      "                                                                                          \r"
     ]
    },
    {
     "data": {
      "text/html": [
       "glm"
      ],
      "text/plain": [
       "<IPython.core.display.HTML object>"
      ]
     },
     "metadata": {},
     "output_type": "display_data"
    },
    {
     "name": "stdout",
     "output_type": "stream",
     "text": [
      "                                                                                                                                                                                                        \r"
     ]
    },
    {
     "data": {
      "text/html": [
       "----------------------------------------------------------------------------------------------------"
      ],
      "text/plain": [
       "<IPython.core.display.HTML object>"
      ]
     },
     "metadata": {},
     "output_type": "display_data"
    },
    {
     "name": "stdout",
     "output_type": "stream",
     "text": [
      "                                                                                          \r"
     ]
    },
    {
     "data": {
      "text/html": [
       "Leaderboard"
      ],
      "text/plain": [
       "<IPython.core.display.HTML object>"
      ]
     },
     "metadata": {},
     "output_type": "display_data"
    },
    {
     "data": {
      "text/html": [
       "<div>\n",
       "<style scoped>\n",
       "    .dataframe tbody tr th:only-of-type {\n",
       "        vertical-align: middle;\n",
       "    }\n",
       "\n",
       "    .dataframe tbody tr th {\n",
       "        vertical-align: top;\n",
       "    }\n",
       "\n",
       "    .dataframe thead th {\n",
       "        text-align: right;\n",
       "    }\n",
       "</style>\n",
       "<table border=\"1\" class=\"dataframe\">\n",
       "  <thead>\n",
       "    <tr style=\"text-align: right;\">\n",
       "      <th></th>\n",
       "      <th>RANK</th>\n",
       "      <th>MODEL_ID</th>\n",
       "      <th>FEATURE_SELECTION</th>\n",
       "      <th>MAE</th>\n",
       "      <th>MSE</th>\n",
       "      <th>MSLE</th>\n",
       "      <th>MAPE</th>\n",
       "      <th>MPE</th>\n",
       "      <th>RMSE</th>\n",
       "      <th>RMSLE</th>\n",
       "      <th>ME</th>\n",
       "      <th>R2</th>\n",
       "      <th>EV</th>\n",
       "      <th>MPD</th>\n",
       "      <th>MGD</th>\n",
       "      <th>ADJUSTED_R2</th>\n",
       "    </tr>\n",
       "  </thead>\n",
       "  <tbody>\n",
       "    <tr>\n",
       "      <th>0</th>\n",
       "      <td>1</td>\n",
       "      <td>DECISIONFOREST_3</td>\n",
       "      <td>lasso</td>\n",
       "      <td>3204.701352</td>\n",
       "      <td>2.394295e+07</td>\n",
       "      <td>0.199091</td>\n",
       "      <td>34.994715</td>\n",
       "      <td>-21.577959</td>\n",
       "      <td>4893.153590</td>\n",
       "      <td>0.446197</td>\n",
       "      <td>17474.243217</td>\n",
       "      <td>0.807572</td>\n",
       "      <td>0.807588</td>\n",
       "      <td>1969.472143</td>\n",
       "      <td>0.222008</td>\n",
       "      <td>0.806481</td>\n",
       "    </tr>\n",
       "    <tr>\n",
       "      <th>1</th>\n",
       "      <td>2</td>\n",
       "      <td>XGBOOST_3</td>\n",
       "      <td>lasso</td>\n",
       "      <td>2673.385865</td>\n",
       "      <td>2.444487e+07</td>\n",
       "      <td>0.181988</td>\n",
       "      <td>23.594700</td>\n",
       "      <td>-6.541959</td>\n",
       "      <td>4944.174856</td>\n",
       "      <td>0.426601</td>\n",
       "      <td>17671.244446</td>\n",
       "      <td>0.803538</td>\n",
       "      <td>0.807378</td>\n",
       "      <td>2087.162683</td>\n",
       "      <td>0.257690</td>\n",
       "      <td>0.802424</td>\n",
       "    </tr>\n",
       "    <tr>\n",
       "      <th>2</th>\n",
       "      <td>3</td>\n",
       "      <td>XGBOOST_0</td>\n",
       "      <td>lasso</td>\n",
       "      <td>2673.385865</td>\n",
       "      <td>2.444487e+07</td>\n",
       "      <td>0.181988</td>\n",
       "      <td>23.594700</td>\n",
       "      <td>-6.541959</td>\n",
       "      <td>4944.174856</td>\n",
       "      <td>0.426601</td>\n",
       "      <td>17671.244446</td>\n",
       "      <td>0.803538</td>\n",
       "      <td>0.807378</td>\n",
       "      <td>2087.162683</td>\n",
       "      <td>0.257690</td>\n",
       "      <td>0.802424</td>\n",
       "    </tr>\n",
       "    <tr>\n",
       "      <th>3</th>\n",
       "      <td>4</td>\n",
       "      <td>XGBOOST_1</td>\n",
       "      <td>rfe</td>\n",
       "      <td>2668.422255</td>\n",
       "      <td>2.532534e+07</td>\n",
       "      <td>0.199505</td>\n",
       "      <td>22.181357</td>\n",
       "      <td>-4.631161</td>\n",
       "      <td>5032.428554</td>\n",
       "      <td>0.446659</td>\n",
       "      <td>19249.934581</td>\n",
       "      <td>0.796462</td>\n",
       "      <td>0.801755</td>\n",
       "      <td>2307.962874</td>\n",
       "      <td>0.336576</td>\n",
       "      <td>0.794336</td>\n",
       "    </tr>\n",
       "    <tr>\n",
       "      <th>4</th>\n",
       "      <td>5</td>\n",
       "      <td>KNN_9</td>\n",
       "      <td>lasso</td>\n",
       "      <td>2974.159143</td>\n",
       "      <td>2.607148e+07</td>\n",
       "      <td>0.199978</td>\n",
       "      <td>27.358116</td>\n",
       "      <td>-9.626668</td>\n",
       "      <td>5106.024328</td>\n",
       "      <td>0.447189</td>\n",
       "      <td>19529.044003</td>\n",
       "      <td>0.790465</td>\n",
       "      <td>0.793756</td>\n",
       "      <td>2222.172457</td>\n",
       "      <td>0.280939</td>\n",
       "      <td>0.789277</td>\n",
       "    </tr>\n",
       "    <tr>\n",
       "      <th>5</th>\n",
       "      <td>6</td>\n",
       "      <td>KNN_0</td>\n",
       "      <td>lasso</td>\n",
       "      <td>3087.714859</td>\n",
       "      <td>2.962272e+07</td>\n",
       "      <td>0.229071</td>\n",
       "      <td>28.431382</td>\n",
       "      <td>-8.798467</td>\n",
       "      <td>5442.675972</td>\n",
       "      <td>0.478614</td>\n",
       "      <td>19826.448998</td>\n",
       "      <td>0.761924</td>\n",
       "      <td>0.765923</td>\n",
       "      <td>2537.747478</td>\n",
       "      <td>0.330693</td>\n",
       "      <td>0.760574</td>\n",
       "    </tr>\n",
       "    <tr>\n",
       "      <th>6</th>\n",
       "      <td>7</td>\n",
       "      <td>DECISIONFOREST_1</td>\n",
       "      <td>rfe</td>\n",
       "      <td>3083.396493</td>\n",
       "      <td>3.107220e+07</td>\n",
       "      <td>0.212347</td>\n",
       "      <td>26.262703</td>\n",
       "      <td>-7.555852</td>\n",
       "      <td>5574.244104</td>\n",
       "      <td>0.460811</td>\n",
       "      <td>21811.492299</td>\n",
       "      <td>0.750275</td>\n",
       "      <td>0.753803</td>\n",
       "      <td>2535.565179</td>\n",
       "      <td>0.334727</td>\n",
       "      <td>0.747666</td>\n",
       "    </tr>\n",
       "    <tr>\n",
       "      <th>7</th>\n",
       "      <td>8</td>\n",
       "      <td>DECISIONFOREST_0</td>\n",
       "      <td>lasso</td>\n",
       "      <td>3161.345176</td>\n",
       "      <td>3.283612e+07</td>\n",
       "      <td>0.227639</td>\n",
       "      <td>27.882445</td>\n",
       "      <td>-9.461145</td>\n",
       "      <td>5730.280634</td>\n",
       "      <td>0.477116</td>\n",
       "      <td>21811.492299</td>\n",
       "      <td>0.736098</td>\n",
       "      <td>0.738584</td>\n",
       "      <td>2672.358087</td>\n",
       "      <td>0.356194</td>\n",
       "      <td>0.734602</td>\n",
       "    </tr>\n",
       "    <tr>\n",
       "      <th>8</th>\n",
       "      <td>9</td>\n",
       "      <td>XGBOOST_2</td>\n",
       "      <td>pca</td>\n",
       "      <td>3501.320112</td>\n",
       "      <td>3.491305e+07</td>\n",
       "      <td>0.277218</td>\n",
       "      <td>36.237425</td>\n",
       "      <td>-17.814087</td>\n",
       "      <td>5908.726241</td>\n",
       "      <td>0.526515</td>\n",
       "      <td>19858.598415</td>\n",
       "      <td>0.719406</td>\n",
       "      <td>0.719518</td>\n",
       "      <td>2957.143306</td>\n",
       "      <td>0.372699</td>\n",
       "      <td>0.717280</td>\n",
       "    </tr>\n",
       "    <tr>\n",
       "      <th>9</th>\n",
       "      <td>10</td>\n",
       "      <td>KNN_8</td>\n",
       "      <td>pca</td>\n",
       "      <td>3473.042257</td>\n",
       "      <td>3.718392e+07</td>\n",
       "      <td>0.247896</td>\n",
       "      <td>27.244913</td>\n",
       "      <td>-4.455118</td>\n",
       "      <td>6097.861885</td>\n",
       "      <td>0.497892</td>\n",
       "      <td>28910.202216</td>\n",
       "      <td>0.701155</td>\n",
       "      <td>0.715915</td>\n",
       "      <td>3050.637886</td>\n",
       "      <td>0.395608</td>\n",
       "      <td>0.698891</td>\n",
       "    </tr>\n",
       "    <tr>\n",
       "      <th>10</th>\n",
       "      <td>11</td>\n",
       "      <td>KNN_4</td>\n",
       "      <td>rfe</td>\n",
       "      <td>3473.042255</td>\n",
       "      <td>3.718392e+07</td>\n",
       "      <td>0.247896</td>\n",
       "      <td>27.244913</td>\n",
       "      <td>-4.455118</td>\n",
       "      <td>6097.861887</td>\n",
       "      <td>0.497892</td>\n",
       "      <td>28910.202166</td>\n",
       "      <td>0.701155</td>\n",
       "      <td>0.715915</td>\n",
       "      <td>3050.637893</td>\n",
       "      <td>0.395608</td>\n",
       "      <td>0.698033</td>\n",
       "    </tr>\n",
       "    <tr>\n",
       "      <th>11</th>\n",
       "      <td>12</td>\n",
       "      <td>DECISIONFOREST_2</td>\n",
       "      <td>pca</td>\n",
       "      <td>3932.754180</td>\n",
       "      <td>4.135568e+07</td>\n",
       "      <td>0.261441</td>\n",
       "      <td>33.853224</td>\n",
       "      <td>-9.254954</td>\n",
       "      <td>6430.838267</td>\n",
       "      <td>0.511313</td>\n",
       "      <td>21794.025696</td>\n",
       "      <td>0.667627</td>\n",
       "      <td>0.672971</td>\n",
       "      <td>3173.232165</td>\n",
       "      <td>0.372956</td>\n",
       "      <td>0.665109</td>\n",
       "    </tr>\n",
       "    <tr>\n",
       "      <th>12</th>\n",
       "      <td>13</td>\n",
       "      <td>GLM_0</td>\n",
       "      <td>lasso</td>\n",
       "      <td>5491.403799</td>\n",
       "      <td>5.027839e+07</td>\n",
       "      <td>0.316363</td>\n",
       "      <td>60.005330</td>\n",
       "      <td>9.054123</td>\n",
       "      <td>7090.725456</td>\n",
       "      <td>0.562462</td>\n",
       "      <td>27026.231939</td>\n",
       "      <td>0.595916</td>\n",
       "      <td>0.598003</td>\n",
       "      <td>NaN</td>\n",
       "      <td>NaN</td>\n",
       "      <td>0.593624</td>\n",
       "    </tr>\n",
       "    <tr>\n",
       "      <th>13</th>\n",
       "      <td>14</td>\n",
       "      <td>GLM_3</td>\n",
       "      <td>lasso</td>\n",
       "      <td>5391.485954</td>\n",
       "      <td>5.375502e+07</td>\n",
       "      <td>0.356870</td>\n",
       "      <td>62.556263</td>\n",
       "      <td>34.425764</td>\n",
       "      <td>7331.781583</td>\n",
       "      <td>0.597386</td>\n",
       "      <td>27660.700986</td>\n",
       "      <td>0.567974</td>\n",
       "      <td>0.602403</td>\n",
       "      <td>NaN</td>\n",
       "      <td>NaN</td>\n",
       "      <td>0.565524</td>\n",
       "    </tr>\n",
       "    <tr>\n",
       "      <th>14</th>\n",
       "      <td>15</td>\n",
       "      <td>GLM_2</td>\n",
       "      <td>pca</td>\n",
       "      <td>5975.021445</td>\n",
       "      <td>6.171242e+07</td>\n",
       "      <td>0.377432</td>\n",
       "      <td>69.090320</td>\n",
       "      <td>28.026588</td>\n",
       "      <td>7855.725420</td>\n",
       "      <td>0.614355</td>\n",
       "      <td>23491.874051</td>\n",
       "      <td>0.504021</td>\n",
       "      <td>0.526744</td>\n",
       "      <td>NaN</td>\n",
       "      <td>NaN</td>\n",
       "      <td>0.500264</td>\n",
       "    </tr>\n",
       "    <tr>\n",
       "      <th>15</th>\n",
       "      <td>16</td>\n",
       "      <td>GLM_1</td>\n",
       "      <td>rfe</td>\n",
       "      <td>6293.417007</td>\n",
       "      <td>6.774884e+07</td>\n",
       "      <td>0.511578</td>\n",
       "      <td>70.646199</td>\n",
       "      <td>21.789217</td>\n",
       "      <td>8230.968300</td>\n",
       "      <td>0.715247</td>\n",
       "      <td>24365.809409</td>\n",
       "      <td>0.455507</td>\n",
       "      <td>0.472449</td>\n",
       "      <td>NaN</td>\n",
       "      <td>NaN</td>\n",
       "      <td>0.449819</td>\n",
       "    </tr>\n",
       "    <tr>\n",
       "      <th>16</th>\n",
       "      <td>17</td>\n",
       "      <td>SVM_1</td>\n",
       "      <td>rfe</td>\n",
       "      <td>13759.810367</td>\n",
       "      <td>3.137583e+08</td>\n",
       "      <td>58.235069</td>\n",
       "      <td>99.981911</td>\n",
       "      <td>99.981911</td>\n",
       "      <td>17713.223786</td>\n",
       "      <td>7.631191</td>\n",
       "      <td>48968.846213</td>\n",
       "      <td>-1.521656</td>\n",
       "      <td>-0.000003</td>\n",
       "      <td>235189.697970</td>\n",
       "      <td>22491.166262</td>\n",
       "      <td>-1.547998</td>\n",
       "    </tr>\n",
       "    <tr>\n",
       "      <th>17</th>\n",
       "      <td>18</td>\n",
       "      <td>SVM_0</td>\n",
       "      <td>lasso</td>\n",
       "      <td>13760.156864</td>\n",
       "      <td>3.137681e+08</td>\n",
       "      <td>42.802095</td>\n",
       "      <td>99.986781</td>\n",
       "      <td>99.986781</td>\n",
       "      <td>17713.501029</td>\n",
       "      <td>6.542331</td>\n",
       "      <td>48969.202439</td>\n",
       "      <td>-1.521735</td>\n",
       "      <td>-0.000006</td>\n",
       "      <td>NaN</td>\n",
       "      <td>NaN</td>\n",
       "      <td>-1.536036</td>\n",
       "    </tr>\n",
       "    <tr>\n",
       "      <th>18</th>\n",
       "      <td>19</td>\n",
       "      <td>SVM_3</td>\n",
       "      <td>lasso</td>\n",
       "      <td>13760.177387</td>\n",
       "      <td>3.137685e+08</td>\n",
       "      <td>41.088635</td>\n",
       "      <td>99.987293</td>\n",
       "      <td>99.987293</td>\n",
       "      <td>17713.511939</td>\n",
       "      <td>6.410042</td>\n",
       "      <td>48968.995843</td>\n",
       "      <td>-1.521738</td>\n",
       "      <td>-0.000004</td>\n",
       "      <td>NaN</td>\n",
       "      <td>NaN</td>\n",
       "      <td>-1.536039</td>\n",
       "    </tr>\n",
       "    <tr>\n",
       "      <th>19</th>\n",
       "      <td>20</td>\n",
       "      <td>SVM_2</td>\n",
       "      <td>pca</td>\n",
       "      <td>13760.617619</td>\n",
       "      <td>3.137783e+08</td>\n",
       "      <td>9.001166</td>\n",
       "      <td>99.994032</td>\n",
       "      <td>99.994032</td>\n",
       "      <td>17713.789508</td>\n",
       "      <td>3.000194</td>\n",
       "      <td>48969.409423</td>\n",
       "      <td>-1.521817</td>\n",
       "      <td>0.000014</td>\n",
       "      <td>NaN</td>\n",
       "      <td>NaN</td>\n",
       "      <td>-1.540922</td>\n",
       "    </tr>\n",
       "  </tbody>\n",
       "</table>\n",
       "</div>"
      ],
      "text/plain": [
       "    RANK          MODEL_ID FEATURE_SELECTION           MAE           MSE  \\\n",
       "0      1  DECISIONFOREST_3             lasso   3204.701352  2.394295e+07   \n",
       "1      2         XGBOOST_3             lasso   2673.385865  2.444487e+07   \n",
       "2      3         XGBOOST_0             lasso   2673.385865  2.444487e+07   \n",
       "3      4         XGBOOST_1               rfe   2668.422255  2.532534e+07   \n",
       "4      5             KNN_9             lasso   2974.159143  2.607148e+07   \n",
       "5      6             KNN_0             lasso   3087.714859  2.962272e+07   \n",
       "6      7  DECISIONFOREST_1               rfe   3083.396493  3.107220e+07   \n",
       "7      8  DECISIONFOREST_0             lasso   3161.345176  3.283612e+07   \n",
       "8      9         XGBOOST_2               pca   3501.320112  3.491305e+07   \n",
       "9     10             KNN_8               pca   3473.042257  3.718392e+07   \n",
       "10    11             KNN_4               rfe   3473.042255  3.718392e+07   \n",
       "11    12  DECISIONFOREST_2               pca   3932.754180  4.135568e+07   \n",
       "12    13             GLM_0             lasso   5491.403799  5.027839e+07   \n",
       "13    14             GLM_3             lasso   5391.485954  5.375502e+07   \n",
       "14    15             GLM_2               pca   5975.021445  6.171242e+07   \n",
       "15    16             GLM_1               rfe   6293.417007  6.774884e+07   \n",
       "16    17             SVM_1               rfe  13759.810367  3.137583e+08   \n",
       "17    18             SVM_0             lasso  13760.156864  3.137681e+08   \n",
       "18    19             SVM_3             lasso  13760.177387  3.137685e+08   \n",
       "19    20             SVM_2               pca  13760.617619  3.137783e+08   \n",
       "\n",
       "         MSLE       MAPE        MPE          RMSE     RMSLE            ME  \\\n",
       "0    0.199091  34.994715 -21.577959   4893.153590  0.446197  17474.243217   \n",
       "1    0.181988  23.594700  -6.541959   4944.174856  0.426601  17671.244446   \n",
       "2    0.181988  23.594700  -6.541959   4944.174856  0.426601  17671.244446   \n",
       "3    0.199505  22.181357  -4.631161   5032.428554  0.446659  19249.934581   \n",
       "4    0.199978  27.358116  -9.626668   5106.024328  0.447189  19529.044003   \n",
       "5    0.229071  28.431382  -8.798467   5442.675972  0.478614  19826.448998   \n",
       "6    0.212347  26.262703  -7.555852   5574.244104  0.460811  21811.492299   \n",
       "7    0.227639  27.882445  -9.461145   5730.280634  0.477116  21811.492299   \n",
       "8    0.277218  36.237425 -17.814087   5908.726241  0.526515  19858.598415   \n",
       "9    0.247896  27.244913  -4.455118   6097.861885  0.497892  28910.202216   \n",
       "10   0.247896  27.244913  -4.455118   6097.861887  0.497892  28910.202166   \n",
       "11   0.261441  33.853224  -9.254954   6430.838267  0.511313  21794.025696   \n",
       "12   0.316363  60.005330   9.054123   7090.725456  0.562462  27026.231939   \n",
       "13   0.356870  62.556263  34.425764   7331.781583  0.597386  27660.700986   \n",
       "14   0.377432  69.090320  28.026588   7855.725420  0.614355  23491.874051   \n",
       "15   0.511578  70.646199  21.789217   8230.968300  0.715247  24365.809409   \n",
       "16  58.235069  99.981911  99.981911  17713.223786  7.631191  48968.846213   \n",
       "17  42.802095  99.986781  99.986781  17713.501029  6.542331  48969.202439   \n",
       "18  41.088635  99.987293  99.987293  17713.511939  6.410042  48968.995843   \n",
       "19   9.001166  99.994032  99.994032  17713.789508  3.000194  48969.409423   \n",
       "\n",
       "          R2        EV            MPD           MGD  ADJUSTED_R2  \n",
       "0   0.807572  0.807588    1969.472143      0.222008     0.806481  \n",
       "1   0.803538  0.807378    2087.162683      0.257690     0.802424  \n",
       "2   0.803538  0.807378    2087.162683      0.257690     0.802424  \n",
       "3   0.796462  0.801755    2307.962874      0.336576     0.794336  \n",
       "4   0.790465  0.793756    2222.172457      0.280939     0.789277  \n",
       "5   0.761924  0.765923    2537.747478      0.330693     0.760574  \n",
       "6   0.750275  0.753803    2535.565179      0.334727     0.747666  \n",
       "7   0.736098  0.738584    2672.358087      0.356194     0.734602  \n",
       "8   0.719406  0.719518    2957.143306      0.372699     0.717280  \n",
       "9   0.701155  0.715915    3050.637886      0.395608     0.698891  \n",
       "10  0.701155  0.715915    3050.637893      0.395608     0.698033  \n",
       "11  0.667627  0.672971    3173.232165      0.372956     0.665109  \n",
       "12  0.595916  0.598003            NaN           NaN     0.593624  \n",
       "13  0.567974  0.602403            NaN           NaN     0.565524  \n",
       "14  0.504021  0.526744            NaN           NaN     0.500264  \n",
       "15  0.455507  0.472449            NaN           NaN     0.449819  \n",
       "16 -1.521656 -0.000003  235189.697970  22491.166262    -1.547998  \n",
       "17 -1.521735 -0.000006            NaN           NaN    -1.536036  \n",
       "18 -1.521738 -0.000004            NaN           NaN    -1.536039  \n",
       "19 -1.521817  0.000014            NaN           NaN    -1.540922  "
      ]
     },
     "metadata": {},
     "output_type": "display_data"
    },
    {
     "name": "stdout",
     "output_type": "stream",
     "text": [
      "                                                                                          \r"
     ]
    },
    {
     "data": {
      "text/html": [
       "20 rows X 16 columns"
      ],
      "text/plain": [
       "<IPython.core.display.HTML object>"
      ]
     },
     "metadata": {},
     "output_type": "display_data"
    },
    {
     "name": "stdout",
     "output_type": "stream",
     "text": [
      "                                                                                          \r"
     ]
    },
    {
     "data": {
      "text/html": [
       "\n",
       "            <style>\n",
       "                .custom-div {\n",
       "                    background-color: lightgray;\n",
       "                    color: #000000;\n",
       "                    padding: 10px;\n",
       "                    border-radius: 8px;\n",
       "                    box-shadow: 0 3px 4px rgba(0 -  0 -  0 -  0.2);\n",
       "                    margin-bottom: 10px;\n",
       "                    text-align: center;\n",
       "                }\n",
       "            </style>\n",
       "        <br><div class=\"custom-div\"><h3><span style=\"color: green;\">1. Feature Exploration -> 2. Feature Engineering -> 3. Data Preparation -> 4. Model Training & Evaluation</span><center></h3></center></div>"
      ],
      "text/plain": [
       "<IPython.core.display.HTML object>"
      ]
     },
     "metadata": {},
     "output_type": "display_data"
    },
    {
     "name": "stdout",
     "output_type": "stream",
     "text": [
      "Completed: ｜⫿⫿⫿⫿⫿⫿⫿⫿⫿⫿⫿⫿⫿⫿⫿⫿⫿⫿⫿⫿⫿⫿⫿⫿⫿⫿⫿⫿⫿⫿⫿⫿⫿⫿⫿⫿⫿⫿⫿⫿⫿⫿⫿⫿⫿⫿⫿⫿⫿⫿⫿⫿⫿⫿⫿⫿⫿⫿⫿⫿｜ 100% - 18/18    \r"
     ]
    }
   ],
   "source": [
    "# Fitting train data\n",
    "aml.fit(insurance_df_train, insurance_df_train.charges)"
   ]
  },
  {
   "cell_type": "markdown",
   "id": "23a04eb1-68e6-48b7-95aa-442f434809da",
   "metadata": {},
   "source": [
    "## <b><span style='color:#F1A424'>| 3.</span> Leaderboard : </b>"
   ]
  },
  {
   "cell_type": "code",
   "execution_count": 17,
   "id": "77de1099-6122-4f8a-8e7f-dd67e5b4ced4",
   "metadata": {},
   "outputs": [
    {
     "data": {
      "text/html": [
       "<div>\n",
       "<style scoped>\n",
       "    .dataframe tbody tr th:only-of-type {\n",
       "        vertical-align: middle;\n",
       "    }\n",
       "\n",
       "    .dataframe tbody tr th {\n",
       "        vertical-align: top;\n",
       "    }\n",
       "\n",
       "    .dataframe thead th {\n",
       "        text-align: right;\n",
       "    }\n",
       "</style>\n",
       "<table border=\"1\" class=\"dataframe\">\n",
       "  <thead>\n",
       "    <tr style=\"text-align: right;\">\n",
       "      <th></th>\n",
       "      <th>RANK</th>\n",
       "      <th>MODEL_ID</th>\n",
       "      <th>FEATURE_SELECTION</th>\n",
       "      <th>MAE</th>\n",
       "      <th>MSE</th>\n",
       "      <th>MSLE</th>\n",
       "      <th>MAPE</th>\n",
       "      <th>MPE</th>\n",
       "      <th>RMSE</th>\n",
       "      <th>RMSLE</th>\n",
       "      <th>ME</th>\n",
       "      <th>R2</th>\n",
       "      <th>EV</th>\n",
       "      <th>MPD</th>\n",
       "      <th>MGD</th>\n",
       "      <th>ADJUSTED_R2</th>\n",
       "    </tr>\n",
       "  </thead>\n",
       "  <tbody>\n",
       "    <tr>\n",
       "      <th>0</th>\n",
       "      <td>1</td>\n",
       "      <td>DECISIONFOREST_3</td>\n",
       "      <td>lasso</td>\n",
       "      <td>3204.701352</td>\n",
       "      <td>2.394295e+07</td>\n",
       "      <td>0.199091</td>\n",
       "      <td>34.994715</td>\n",
       "      <td>-21.577959</td>\n",
       "      <td>4893.153590</td>\n",
       "      <td>0.446197</td>\n",
       "      <td>17474.243217</td>\n",
       "      <td>0.807572</td>\n",
       "      <td>0.807588</td>\n",
       "      <td>1969.472143</td>\n",
       "      <td>0.222008</td>\n",
       "      <td>0.806481</td>\n",
       "    </tr>\n",
       "    <tr>\n",
       "      <th>1</th>\n",
       "      <td>2</td>\n",
       "      <td>XGBOOST_3</td>\n",
       "      <td>lasso</td>\n",
       "      <td>2673.385865</td>\n",
       "      <td>2.444487e+07</td>\n",
       "      <td>0.181988</td>\n",
       "      <td>23.594700</td>\n",
       "      <td>-6.541959</td>\n",
       "      <td>4944.174856</td>\n",
       "      <td>0.426601</td>\n",
       "      <td>17671.244446</td>\n",
       "      <td>0.803538</td>\n",
       "      <td>0.807378</td>\n",
       "      <td>2087.162683</td>\n",
       "      <td>0.257690</td>\n",
       "      <td>0.802424</td>\n",
       "    </tr>\n",
       "    <tr>\n",
       "      <th>2</th>\n",
       "      <td>3</td>\n",
       "      <td>XGBOOST_0</td>\n",
       "      <td>lasso</td>\n",
       "      <td>2673.385865</td>\n",
       "      <td>2.444487e+07</td>\n",
       "      <td>0.181988</td>\n",
       "      <td>23.594700</td>\n",
       "      <td>-6.541959</td>\n",
       "      <td>4944.174856</td>\n",
       "      <td>0.426601</td>\n",
       "      <td>17671.244446</td>\n",
       "      <td>0.803538</td>\n",
       "      <td>0.807378</td>\n",
       "      <td>2087.162683</td>\n",
       "      <td>0.257690</td>\n",
       "      <td>0.802424</td>\n",
       "    </tr>\n",
       "    <tr>\n",
       "      <th>3</th>\n",
       "      <td>4</td>\n",
       "      <td>XGBOOST_1</td>\n",
       "      <td>rfe</td>\n",
       "      <td>2668.422255</td>\n",
       "      <td>2.532534e+07</td>\n",
       "      <td>0.199505</td>\n",
       "      <td>22.181357</td>\n",
       "      <td>-4.631161</td>\n",
       "      <td>5032.428554</td>\n",
       "      <td>0.446659</td>\n",
       "      <td>19249.934581</td>\n",
       "      <td>0.796462</td>\n",
       "      <td>0.801755</td>\n",
       "      <td>2307.962874</td>\n",
       "      <td>0.336576</td>\n",
       "      <td>0.794336</td>\n",
       "    </tr>\n",
       "    <tr>\n",
       "      <th>4</th>\n",
       "      <td>5</td>\n",
       "      <td>KNN_9</td>\n",
       "      <td>lasso</td>\n",
       "      <td>2974.159143</td>\n",
       "      <td>2.607148e+07</td>\n",
       "      <td>0.199978</td>\n",
       "      <td>27.358116</td>\n",
       "      <td>-9.626668</td>\n",
       "      <td>5106.024328</td>\n",
       "      <td>0.447189</td>\n",
       "      <td>19529.044003</td>\n",
       "      <td>0.790465</td>\n",
       "      <td>0.793756</td>\n",
       "      <td>2222.172457</td>\n",
       "      <td>0.280939</td>\n",
       "      <td>0.789277</td>\n",
       "    </tr>\n",
       "    <tr>\n",
       "      <th>5</th>\n",
       "      <td>6</td>\n",
       "      <td>KNN_0</td>\n",
       "      <td>lasso</td>\n",
       "      <td>3087.714859</td>\n",
       "      <td>2.962272e+07</td>\n",
       "      <td>0.229071</td>\n",
       "      <td>28.431382</td>\n",
       "      <td>-8.798467</td>\n",
       "      <td>5442.675972</td>\n",
       "      <td>0.478614</td>\n",
       "      <td>19826.448998</td>\n",
       "      <td>0.761924</td>\n",
       "      <td>0.765923</td>\n",
       "      <td>2537.747478</td>\n",
       "      <td>0.330693</td>\n",
       "      <td>0.760574</td>\n",
       "    </tr>\n",
       "    <tr>\n",
       "      <th>6</th>\n",
       "      <td>7</td>\n",
       "      <td>DECISIONFOREST_1</td>\n",
       "      <td>rfe</td>\n",
       "      <td>3083.396493</td>\n",
       "      <td>3.107220e+07</td>\n",
       "      <td>0.212347</td>\n",
       "      <td>26.262703</td>\n",
       "      <td>-7.555852</td>\n",
       "      <td>5574.244104</td>\n",
       "      <td>0.460811</td>\n",
       "      <td>21811.492299</td>\n",
       "      <td>0.750275</td>\n",
       "      <td>0.753803</td>\n",
       "      <td>2535.565179</td>\n",
       "      <td>0.334727</td>\n",
       "      <td>0.747666</td>\n",
       "    </tr>\n",
       "    <tr>\n",
       "      <th>7</th>\n",
       "      <td>8</td>\n",
       "      <td>DECISIONFOREST_0</td>\n",
       "      <td>lasso</td>\n",
       "      <td>3161.345176</td>\n",
       "      <td>3.283612e+07</td>\n",
       "      <td>0.227639</td>\n",
       "      <td>27.882445</td>\n",
       "      <td>-9.461145</td>\n",
       "      <td>5730.280634</td>\n",
       "      <td>0.477116</td>\n",
       "      <td>21811.492299</td>\n",
       "      <td>0.736098</td>\n",
       "      <td>0.738584</td>\n",
       "      <td>2672.358087</td>\n",
       "      <td>0.356194</td>\n",
       "      <td>0.734602</td>\n",
       "    </tr>\n",
       "    <tr>\n",
       "      <th>8</th>\n",
       "      <td>9</td>\n",
       "      <td>XGBOOST_2</td>\n",
       "      <td>pca</td>\n",
       "      <td>3501.320112</td>\n",
       "      <td>3.491305e+07</td>\n",
       "      <td>0.277218</td>\n",
       "      <td>36.237425</td>\n",
       "      <td>-17.814087</td>\n",
       "      <td>5908.726241</td>\n",
       "      <td>0.526515</td>\n",
       "      <td>19858.598415</td>\n",
       "      <td>0.719406</td>\n",
       "      <td>0.719518</td>\n",
       "      <td>2957.143306</td>\n",
       "      <td>0.372699</td>\n",
       "      <td>0.717280</td>\n",
       "    </tr>\n",
       "    <tr>\n",
       "      <th>9</th>\n",
       "      <td>10</td>\n",
       "      <td>KNN_8</td>\n",
       "      <td>pca</td>\n",
       "      <td>3473.042257</td>\n",
       "      <td>3.718392e+07</td>\n",
       "      <td>0.247896</td>\n",
       "      <td>27.244913</td>\n",
       "      <td>-4.455118</td>\n",
       "      <td>6097.861885</td>\n",
       "      <td>0.497892</td>\n",
       "      <td>28910.202216</td>\n",
       "      <td>0.701155</td>\n",
       "      <td>0.715915</td>\n",
       "      <td>3050.637886</td>\n",
       "      <td>0.395608</td>\n",
       "      <td>0.698891</td>\n",
       "    </tr>\n",
       "    <tr>\n",
       "      <th>10</th>\n",
       "      <td>11</td>\n",
       "      <td>KNN_4</td>\n",
       "      <td>rfe</td>\n",
       "      <td>3473.042255</td>\n",
       "      <td>3.718392e+07</td>\n",
       "      <td>0.247896</td>\n",
       "      <td>27.244913</td>\n",
       "      <td>-4.455118</td>\n",
       "      <td>6097.861887</td>\n",
       "      <td>0.497892</td>\n",
       "      <td>28910.202166</td>\n",
       "      <td>0.701155</td>\n",
       "      <td>0.715915</td>\n",
       "      <td>3050.637893</td>\n",
       "      <td>0.395608</td>\n",
       "      <td>0.698033</td>\n",
       "    </tr>\n",
       "    <tr>\n",
       "      <th>11</th>\n",
       "      <td>12</td>\n",
       "      <td>DECISIONFOREST_2</td>\n",
       "      <td>pca</td>\n",
       "      <td>3932.754180</td>\n",
       "      <td>4.135568e+07</td>\n",
       "      <td>0.261441</td>\n",
       "      <td>33.853224</td>\n",
       "      <td>-9.254954</td>\n",
       "      <td>6430.838267</td>\n",
       "      <td>0.511313</td>\n",
       "      <td>21794.025696</td>\n",
       "      <td>0.667627</td>\n",
       "      <td>0.672971</td>\n",
       "      <td>3173.232165</td>\n",
       "      <td>0.372956</td>\n",
       "      <td>0.665109</td>\n",
       "    </tr>\n",
       "    <tr>\n",
       "      <th>12</th>\n",
       "      <td>13</td>\n",
       "      <td>GLM_0</td>\n",
       "      <td>lasso</td>\n",
       "      <td>5491.403799</td>\n",
       "      <td>5.027839e+07</td>\n",
       "      <td>0.316363</td>\n",
       "      <td>60.005330</td>\n",
       "      <td>9.054123</td>\n",
       "      <td>7090.725456</td>\n",
       "      <td>0.562462</td>\n",
       "      <td>27026.231939</td>\n",
       "      <td>0.595916</td>\n",
       "      <td>0.598003</td>\n",
       "      <td>NaN</td>\n",
       "      <td>NaN</td>\n",
       "      <td>0.593624</td>\n",
       "    </tr>\n",
       "    <tr>\n",
       "      <th>13</th>\n",
       "      <td>14</td>\n",
       "      <td>GLM_3</td>\n",
       "      <td>lasso</td>\n",
       "      <td>5391.485954</td>\n",
       "      <td>5.375502e+07</td>\n",
       "      <td>0.356870</td>\n",
       "      <td>62.556263</td>\n",
       "      <td>34.425764</td>\n",
       "      <td>7331.781583</td>\n",
       "      <td>0.597386</td>\n",
       "      <td>27660.700986</td>\n",
       "      <td>0.567974</td>\n",
       "      <td>0.602403</td>\n",
       "      <td>NaN</td>\n",
       "      <td>NaN</td>\n",
       "      <td>0.565524</td>\n",
       "    </tr>\n",
       "    <tr>\n",
       "      <th>14</th>\n",
       "      <td>15</td>\n",
       "      <td>GLM_2</td>\n",
       "      <td>pca</td>\n",
       "      <td>5975.021445</td>\n",
       "      <td>6.171242e+07</td>\n",
       "      <td>0.377432</td>\n",
       "      <td>69.090320</td>\n",
       "      <td>28.026588</td>\n",
       "      <td>7855.725420</td>\n",
       "      <td>0.614355</td>\n",
       "      <td>23491.874051</td>\n",
       "      <td>0.504021</td>\n",
       "      <td>0.526744</td>\n",
       "      <td>NaN</td>\n",
       "      <td>NaN</td>\n",
       "      <td>0.500264</td>\n",
       "    </tr>\n",
       "    <tr>\n",
       "      <th>15</th>\n",
       "      <td>16</td>\n",
       "      <td>GLM_1</td>\n",
       "      <td>rfe</td>\n",
       "      <td>6293.417007</td>\n",
       "      <td>6.774884e+07</td>\n",
       "      <td>0.511578</td>\n",
       "      <td>70.646199</td>\n",
       "      <td>21.789217</td>\n",
       "      <td>8230.968300</td>\n",
       "      <td>0.715247</td>\n",
       "      <td>24365.809409</td>\n",
       "      <td>0.455507</td>\n",
       "      <td>0.472449</td>\n",
       "      <td>NaN</td>\n",
       "      <td>NaN</td>\n",
       "      <td>0.449819</td>\n",
       "    </tr>\n",
       "    <tr>\n",
       "      <th>16</th>\n",
       "      <td>17</td>\n",
       "      <td>SVM_1</td>\n",
       "      <td>rfe</td>\n",
       "      <td>13759.810367</td>\n",
       "      <td>3.137583e+08</td>\n",
       "      <td>58.235069</td>\n",
       "      <td>99.981911</td>\n",
       "      <td>99.981911</td>\n",
       "      <td>17713.223786</td>\n",
       "      <td>7.631191</td>\n",
       "      <td>48968.846213</td>\n",
       "      <td>-1.521656</td>\n",
       "      <td>-0.000003</td>\n",
       "      <td>235189.697970</td>\n",
       "      <td>22491.166262</td>\n",
       "      <td>-1.547998</td>\n",
       "    </tr>\n",
       "    <tr>\n",
       "      <th>17</th>\n",
       "      <td>18</td>\n",
       "      <td>SVM_0</td>\n",
       "      <td>lasso</td>\n",
       "      <td>13760.156864</td>\n",
       "      <td>3.137681e+08</td>\n",
       "      <td>42.802095</td>\n",
       "      <td>99.986781</td>\n",
       "      <td>99.986781</td>\n",
       "      <td>17713.501029</td>\n",
       "      <td>6.542331</td>\n",
       "      <td>48969.202439</td>\n",
       "      <td>-1.521735</td>\n",
       "      <td>-0.000006</td>\n",
       "      <td>NaN</td>\n",
       "      <td>NaN</td>\n",
       "      <td>-1.536036</td>\n",
       "    </tr>\n",
       "    <tr>\n",
       "      <th>18</th>\n",
       "      <td>19</td>\n",
       "      <td>SVM_3</td>\n",
       "      <td>lasso</td>\n",
       "      <td>13760.177387</td>\n",
       "      <td>3.137685e+08</td>\n",
       "      <td>41.088635</td>\n",
       "      <td>99.987293</td>\n",
       "      <td>99.987293</td>\n",
       "      <td>17713.511939</td>\n",
       "      <td>6.410042</td>\n",
       "      <td>48968.995843</td>\n",
       "      <td>-1.521738</td>\n",
       "      <td>-0.000004</td>\n",
       "      <td>NaN</td>\n",
       "      <td>NaN</td>\n",
       "      <td>-1.536039</td>\n",
       "    </tr>\n",
       "    <tr>\n",
       "      <th>19</th>\n",
       "      <td>20</td>\n",
       "      <td>SVM_2</td>\n",
       "      <td>pca</td>\n",
       "      <td>13760.617619</td>\n",
       "      <td>3.137783e+08</td>\n",
       "      <td>9.001166</td>\n",
       "      <td>99.994032</td>\n",
       "      <td>99.994032</td>\n",
       "      <td>17713.789508</td>\n",
       "      <td>3.000194</td>\n",
       "      <td>48969.409423</td>\n",
       "      <td>-1.521817</td>\n",
       "      <td>0.000014</td>\n",
       "      <td>NaN</td>\n",
       "      <td>NaN</td>\n",
       "      <td>-1.540922</td>\n",
       "    </tr>\n",
       "  </tbody>\n",
       "</table>\n",
       "</div>"
      ],
      "text/plain": [
       "    RANK          MODEL_ID FEATURE_SELECTION           MAE           MSE  \\\n",
       "0      1  DECISIONFOREST_3             lasso   3204.701352  2.394295e+07   \n",
       "1      2         XGBOOST_3             lasso   2673.385865  2.444487e+07   \n",
       "2      3         XGBOOST_0             lasso   2673.385865  2.444487e+07   \n",
       "3      4         XGBOOST_1               rfe   2668.422255  2.532534e+07   \n",
       "4      5             KNN_9             lasso   2974.159143  2.607148e+07   \n",
       "5      6             KNN_0             lasso   3087.714859  2.962272e+07   \n",
       "6      7  DECISIONFOREST_1               rfe   3083.396493  3.107220e+07   \n",
       "7      8  DECISIONFOREST_0             lasso   3161.345176  3.283612e+07   \n",
       "8      9         XGBOOST_2               pca   3501.320112  3.491305e+07   \n",
       "9     10             KNN_8               pca   3473.042257  3.718392e+07   \n",
       "10    11             KNN_4               rfe   3473.042255  3.718392e+07   \n",
       "11    12  DECISIONFOREST_2               pca   3932.754180  4.135568e+07   \n",
       "12    13             GLM_0             lasso   5491.403799  5.027839e+07   \n",
       "13    14             GLM_3             lasso   5391.485954  5.375502e+07   \n",
       "14    15             GLM_2               pca   5975.021445  6.171242e+07   \n",
       "15    16             GLM_1               rfe   6293.417007  6.774884e+07   \n",
       "16    17             SVM_1               rfe  13759.810367  3.137583e+08   \n",
       "17    18             SVM_0             lasso  13760.156864  3.137681e+08   \n",
       "18    19             SVM_3             lasso  13760.177387  3.137685e+08   \n",
       "19    20             SVM_2               pca  13760.617619  3.137783e+08   \n",
       "\n",
       "         MSLE       MAPE        MPE          RMSE     RMSLE            ME  \\\n",
       "0    0.199091  34.994715 -21.577959   4893.153590  0.446197  17474.243217   \n",
       "1    0.181988  23.594700  -6.541959   4944.174856  0.426601  17671.244446   \n",
       "2    0.181988  23.594700  -6.541959   4944.174856  0.426601  17671.244446   \n",
       "3    0.199505  22.181357  -4.631161   5032.428554  0.446659  19249.934581   \n",
       "4    0.199978  27.358116  -9.626668   5106.024328  0.447189  19529.044003   \n",
       "5    0.229071  28.431382  -8.798467   5442.675972  0.478614  19826.448998   \n",
       "6    0.212347  26.262703  -7.555852   5574.244104  0.460811  21811.492299   \n",
       "7    0.227639  27.882445  -9.461145   5730.280634  0.477116  21811.492299   \n",
       "8    0.277218  36.237425 -17.814087   5908.726241  0.526515  19858.598415   \n",
       "9    0.247896  27.244913  -4.455118   6097.861885  0.497892  28910.202216   \n",
       "10   0.247896  27.244913  -4.455118   6097.861887  0.497892  28910.202166   \n",
       "11   0.261441  33.853224  -9.254954   6430.838267  0.511313  21794.025696   \n",
       "12   0.316363  60.005330   9.054123   7090.725456  0.562462  27026.231939   \n",
       "13   0.356870  62.556263  34.425764   7331.781583  0.597386  27660.700986   \n",
       "14   0.377432  69.090320  28.026588   7855.725420  0.614355  23491.874051   \n",
       "15   0.511578  70.646199  21.789217   8230.968300  0.715247  24365.809409   \n",
       "16  58.235069  99.981911  99.981911  17713.223786  7.631191  48968.846213   \n",
       "17  42.802095  99.986781  99.986781  17713.501029  6.542331  48969.202439   \n",
       "18  41.088635  99.987293  99.987293  17713.511939  6.410042  48968.995843   \n",
       "19   9.001166  99.994032  99.994032  17713.789508  3.000194  48969.409423   \n",
       "\n",
       "          R2        EV            MPD           MGD  ADJUSTED_R2  \n",
       "0   0.807572  0.807588    1969.472143      0.222008     0.806481  \n",
       "1   0.803538  0.807378    2087.162683      0.257690     0.802424  \n",
       "2   0.803538  0.807378    2087.162683      0.257690     0.802424  \n",
       "3   0.796462  0.801755    2307.962874      0.336576     0.794336  \n",
       "4   0.790465  0.793756    2222.172457      0.280939     0.789277  \n",
       "5   0.761924  0.765923    2537.747478      0.330693     0.760574  \n",
       "6   0.750275  0.753803    2535.565179      0.334727     0.747666  \n",
       "7   0.736098  0.738584    2672.358087      0.356194     0.734602  \n",
       "8   0.719406  0.719518    2957.143306      0.372699     0.717280  \n",
       "9   0.701155  0.715915    3050.637886      0.395608     0.698891  \n",
       "10  0.701155  0.715915    3050.637893      0.395608     0.698033  \n",
       "11  0.667627  0.672971    3173.232165      0.372956     0.665109  \n",
       "12  0.595916  0.598003            NaN           NaN     0.593624  \n",
       "13  0.567974  0.602403            NaN           NaN     0.565524  \n",
       "14  0.504021  0.526744            NaN           NaN     0.500264  \n",
       "15  0.455507  0.472449            NaN           NaN     0.449819  \n",
       "16 -1.521656 -0.000003  235189.697970  22491.166262    -1.547998  \n",
       "17 -1.521735 -0.000006            NaN           NaN    -1.536036  \n",
       "18 -1.521738 -0.000004            NaN           NaN    -1.536039  \n",
       "19 -1.521817  0.000014            NaN           NaN    -1.540922  "
      ]
     },
     "execution_count": 17,
     "metadata": {},
     "output_type": "execute_result"
    }
   ],
   "source": [
    "# Fetching Leaderboard\n",
    "aml.leaderboard()"
   ]
  },
  {
   "cell_type": "markdown",
   "id": "a7a3aa08-e349-4a61-9217-2c17d50411d8",
   "metadata": {},
   "source": [
    "## <b><span style='color:#F1A424'>| 4.</span> Best Performing Model : </b>"
   ]
  },
  {
   "cell_type": "code",
   "execution_count": 18,
   "id": "c4c32832-a76b-4f42-826a-cefc38a6301b",
   "metadata": {},
   "outputs": [
    {
     "data": {
      "text/html": [
       "<div>\n",
       "<style scoped>\n",
       "    .dataframe tbody tr th:only-of-type {\n",
       "        vertical-align: middle;\n",
       "    }\n",
       "\n",
       "    .dataframe tbody tr th {\n",
       "        vertical-align: top;\n",
       "    }\n",
       "\n",
       "    .dataframe thead th {\n",
       "        text-align: right;\n",
       "    }\n",
       "</style>\n",
       "<table border=\"1\" class=\"dataframe\">\n",
       "  <thead>\n",
       "    <tr style=\"text-align: right;\">\n",
       "      <th></th>\n",
       "      <th>RANK</th>\n",
       "      <th>MODEL_ID</th>\n",
       "      <th>FEATURE_SELECTION</th>\n",
       "      <th>MAE</th>\n",
       "      <th>MSE</th>\n",
       "      <th>MSLE</th>\n",
       "      <th>MAPE</th>\n",
       "      <th>MPE</th>\n",
       "      <th>RMSE</th>\n",
       "      <th>RMSLE</th>\n",
       "      <th>ME</th>\n",
       "      <th>R2</th>\n",
       "      <th>EV</th>\n",
       "      <th>MPD</th>\n",
       "      <th>MGD</th>\n",
       "      <th>ADJUSTED_R2</th>\n",
       "    </tr>\n",
       "  </thead>\n",
       "  <tbody>\n",
       "    <tr>\n",
       "      <th>0</th>\n",
       "      <td>1</td>\n",
       "      <td>DECISIONFOREST_3</td>\n",
       "      <td>lasso</td>\n",
       "      <td>3204.701352</td>\n",
       "      <td>2.394295e+07</td>\n",
       "      <td>0.199091</td>\n",
       "      <td>34.994715</td>\n",
       "      <td>-21.577959</td>\n",
       "      <td>4893.15359</td>\n",
       "      <td>0.446197</td>\n",
       "      <td>17474.243217</td>\n",
       "      <td>0.807572</td>\n",
       "      <td>0.807588</td>\n",
       "      <td>1969.472143</td>\n",
       "      <td>0.222008</td>\n",
       "      <td>0.806481</td>\n",
       "    </tr>\n",
       "  </tbody>\n",
       "</table>\n",
       "</div>"
      ],
      "text/plain": [
       "   RANK          MODEL_ID FEATURE_SELECTION          MAE           MSE  \\\n",
       "0     1  DECISIONFOREST_3             lasso  3204.701352  2.394295e+07   \n",
       "\n",
       "       MSLE       MAPE        MPE        RMSE     RMSLE            ME  \\\n",
       "0  0.199091  34.994715 -21.577959  4893.15359  0.446197  17474.243217   \n",
       "\n",
       "         R2        EV          MPD       MGD  ADJUSTED_R2  \n",
       "0  0.807572  0.807588  1969.472143  0.222008     0.806481  "
      ]
     },
     "metadata": {},
     "output_type": "display_data"
    }
   ],
   "source": [
    "# Fetching best performing model for dataset\n",
    "aml.leader()"
   ]
  },
  {
   "cell_type": "markdown",
   "id": "6f558dde-3375-422d-a5ea-04e5b6c04fd3",
   "metadata": {},
   "source": [
    "## <b><span style='color:#F1A424'>| 5.</span> Get Hyperparameter for Trained Model : </b>"
   ]
  },
  {
   "cell_type": "code",
   "execution_count": 19,
   "id": "cf88594c-9be2-4dc9-91e4-d307930f4c37",
   "metadata": {},
   "outputs": [
    {
     "data": {
      "text/plain": [
       "{'response_column': 'charges',\n",
       " 'name': 'xgboost',\n",
       " 'model_type': 'Regression',\n",
       " 'column_sampling': 1,\n",
       " 'min_impurity': 0.0,\n",
       " 'lambda1': 0.01,\n",
       " 'shrinkage_factor': 0.5,\n",
       " 'max_depth': 5,\n",
       " 'min_node_size': 1,\n",
       " 'iter_num': 20,\n",
       " 'seed': 42,\n",
       " 'persist': False}"
      ]
     },
     "execution_count": 19,
     "metadata": {},
     "output_type": "execute_result"
    }
   ],
   "source": [
    "aml.model_hyperparameters(rank=2)"
   ]
  },
  {
   "cell_type": "code",
   "execution_count": 20,
   "id": "3b80a3d2-38d3-407a-9b4b-27f77a182463",
   "metadata": {},
   "outputs": [
    {
     "data": {
      "text/plain": [
       "{'response_column': 'charges',\n",
       " 'name': 'xgboost',\n",
       " 'model_type': 'Regression',\n",
       " 'column_sampling': 1,\n",
       " 'min_impurity': 0.0,\n",
       " 'lambda1': 0.01,\n",
       " 'shrinkage_factor': 0.5,\n",
       " 'max_depth': 5,\n",
       " 'min_node_size': 1,\n",
       " 'iter_num': 10,\n",
       " 'seed': 42,\n",
       " 'persist': False}"
      ]
     },
     "execution_count": 20,
     "metadata": {},
     "output_type": "execute_result"
    }
   ],
   "source": [
    "aml.model_hyperparameters(rank=4)"
   ]
  },
  {
   "cell_type": "markdown",
   "id": "192dd108-5ccf-47a9-ad85-6e858a035975",
   "metadata": {},
   "source": [
    "## <b><span style='color:#F1A424'>| 6.</span> Generate Prediction and Performance Metrics : </b>"
   ]
  },
  {
   "cell_type": "code",
   "execution_count": 21,
   "id": "5b6edfe3-bd5a-46bd-ad80-b20fadfed7a0",
   "metadata": {},
   "outputs": [
    {
     "name": "stdout",
     "output_type": "stream",
     "text": [
      "Data Transformation started ...\n",
      "                                                                                                \r"
     ]
    },
    {
     "data": {
      "text/html": [
       "Performing transformation carried out in feature engineering phase ..."
      ],
      "text/plain": [
       "<IPython.core.display.HTML object>"
      ]
     },
     "metadata": {},
     "output_type": "display_data"
    },
    {
     "name": "stdout",
     "output_type": "stream",
     "text": [
      "                                                                                                 \r"
     ]
    },
    {
     "data": {
      "text/html": [
       "\n",
       "Updated dataset after performing categorical encoding :"
      ],
      "text/plain": [
       "<IPython.core.display.HTML object>"
      ]
     },
     "metadata": {},
     "output_type": "display_data"
    },
    {
     "data": {
      "text/html": [
       "<style type=\"text/css\">\n",
       "\ttable {border:ridge 5px;}\n",
       "\ttable td {border:inset 1px;}\n",
       "\ttable tr#HeaderRow {background-color:grey; color:white;}</style>\n",
       "<html><table>\n",
       "\t<tr id=\"HeaderRow\">\n",
       "\t\t<th>age</th>\n",
       "\t\t<th>sex_0</th>\n",
       "\t\t<th>sex_1</th>\n",
       "\t\t<th>bmi</th>\n",
       "\t\t<th>children</th>\n",
       "\t\t<th>smoker_0</th>\n",
       "\t\t<th>smoker_1</th>\n",
       "\t\t<th>region_0</th>\n",
       "\t\t<th>region_1</th>\n",
       "\t\t<th>region_2</th>\n",
       "\t\t<th>region_3</th>\n",
       "\t\t<th>charges</th>\n",
       "\t\t<th>id</th>\n",
       "\t</tr>\n",
       "\t<tr>\n",
       "\t\t<td>32</td>\n",
       "\t\t<td>1</td>\n",
       "\t\t<td>0</td>\n",
       "\t\t<td>24.6</td>\n",
       "\t\t<td>0</td>\n",
       "\t\t<td>0</td>\n",
       "\t\t<td>1</td>\n",
       "\t\t<td>0</td>\n",
       "\t\t<td>0</td>\n",
       "\t\t<td>0</td>\n",
       "\t\t<td>1</td>\n",
       "\t\t<td>17496.306</td>\n",
       "\t\t<td>47</td>\n",
       "\t</tr>\n",
       "\t<tr>\n",
       "\t\t<td>32</td>\n",
       "\t\t<td>0</td>\n",
       "\t\t<td>1</td>\n",
       "\t\t<td>33.63</td>\n",
       "\t\t<td>1</td>\n",
       "\t\t<td>0</td>\n",
       "\t\t<td>1</td>\n",
       "\t\t<td>1</td>\n",
       "\t\t<td>0</td>\n",
       "\t\t<td>0</td>\n",
       "\t\t<td>0</td>\n",
       "\t\t<td>37607.5277</td>\n",
       "\t\t<td>23</td>\n",
       "\t</tr>\n",
       "\t<tr>\n",
       "\t\t<td>32</td>\n",
       "\t\t<td>1</td>\n",
       "\t\t<td>0</td>\n",
       "\t\t<td>29.8</td>\n",
       "\t\t<td>2</td>\n",
       "\t\t<td>1</td>\n",
       "\t\t<td>0</td>\n",
       "\t\t<td>0</td>\n",
       "\t\t<td>0</td>\n",
       "\t\t<td>0</td>\n",
       "\t\t<td>1</td>\n",
       "\t\t<td>5152.134</td>\n",
       "\t\t<td>15</td>\n",
       "\t</tr>\n",
       "\t<tr>\n",
       "\t\t<td>32</td>\n",
       "\t\t<td>0</td>\n",
       "\t\t<td>1</td>\n",
       "\t\t<td>31.5</td>\n",
       "\t\t<td>1</td>\n",
       "\t\t<td>1</td>\n",
       "\t\t<td>0</td>\n",
       "\t\t<td>0</td>\n",
       "\t\t<td>0</td>\n",
       "\t\t<td>0</td>\n",
       "\t\t<td>1</td>\n",
       "\t\t<td>4076.497</td>\n",
       "\t\t<td>31</td>\n",
       "\t</tr>\n",
       "\t<tr>\n",
       "\t\t<td>51</td>\n",
       "\t\t<td>1</td>\n",
       "\t\t<td>0</td>\n",
       "\t\t<td>25.8</td>\n",
       "\t\t<td>1</td>\n",
       "\t\t<td>1</td>\n",
       "\t\t<td>0</td>\n",
       "\t\t<td>0</td>\n",
       "\t\t<td>0</td>\n",
       "\t\t<td>0</td>\n",
       "\t\t<td>1</td>\n",
       "\t\t<td>9861.025</td>\n",
       "\t\t<td>87</td>\n",
       "\t</tr>\n",
       "\t<tr>\n",
       "\t\t<td>51</td>\n",
       "\t\t<td>0</td>\n",
       "\t\t<td>1</td>\n",
       "\t\t<td>37.0</td>\n",
       "\t\t<td>0</td>\n",
       "\t\t<td>1</td>\n",
       "\t\t<td>0</td>\n",
       "\t\t<td>0</td>\n",
       "\t\t<td>0</td>\n",
       "\t\t<td>0</td>\n",
       "\t\t<td>1</td>\n",
       "\t\t<td>8798.593</td>\n",
       "\t\t<td>79</td>\n",
       "\t</tr>\n",
       "\t<tr>\n",
       "\t\t<td>51</td>\n",
       "\t\t<td>1</td>\n",
       "\t\t<td>0</td>\n",
       "\t\t<td>39.5</td>\n",
       "\t\t<td>1</td>\n",
       "\t\t<td>1</td>\n",
       "\t\t<td>0</td>\n",
       "\t\t<td>0</td>\n",
       "\t\t<td>0</td>\n",
       "\t\t<td>0</td>\n",
       "\t\t<td>1</td>\n",
       "\t\t<td>9880.068</td>\n",
       "\t\t<td>95</td>\n",
       "\t</tr>\n",
       "\t<tr>\n",
       "\t\t<td>32</td>\n",
       "\t\t<td>0</td>\n",
       "\t\t<td>1</td>\n",
       "\t\t<td>28.12</td>\n",
       "\t\t<td>4</td>\n",
       "\t\t<td>0</td>\n",
       "\t\t<td>1</td>\n",
       "\t\t<td>0</td>\n",
       "\t\t<td>1</td>\n",
       "\t\t<td>0</td>\n",
       "\t\t<td>0</td>\n",
       "\t\t<td>21472.4788</td>\n",
       "\t\t<td>63</td>\n",
       "\t</tr>\n",
       "\t<tr>\n",
       "\t\t<td>32</td>\n",
       "\t\t<td>1</td>\n",
       "\t\t<td>0</td>\n",
       "\t\t<td>28.93</td>\n",
       "\t\t<td>0</td>\n",
       "\t\t<td>1</td>\n",
       "\t\t<td>0</td>\n",
       "\t\t<td>0</td>\n",
       "\t\t<td>0</td>\n",
       "\t\t<td>1</td>\n",
       "\t\t<td>0</td>\n",
       "\t\t<td>3972.9247</td>\n",
       "\t\t<td>39</td>\n",
       "\t</tr>\n",
       "\t<tr>\n",
       "\t\t<td>32</td>\n",
       "\t\t<td>0</td>\n",
       "\t\t<td>1</td>\n",
       "\t\t<td>30.8</td>\n",
       "\t\t<td>3</td>\n",
       "\t\t<td>1</td>\n",
       "\t\t<td>0</td>\n",
       "\t\t<td>0</td>\n",
       "\t\t<td>0</td>\n",
       "\t\t<td>0</td>\n",
       "\t\t<td>1</td>\n",
       "\t\t<td>5253.524</td>\n",
       "\t\t<td>55</td>\n",
       "\t</tr>\n",
       "</table></html>"
      ],
      "text/plain": [
       "     sex_0  sex_1    bmi  children  smoker_0  smoker_1  region_0  region_1  region_2  region_3     charges  id\n",
       "age                                                                                                           \n",
       "32       1      0  24.60         0         0         1         0         0         0         1  17496.3060  47\n",
       "32       0      1  33.63         1         0         1         1         0         0         0  37607.5277  23\n",
       "32       1      0  29.80         2         1         0         0         0         0         1   5152.1340  15\n",
       "32       0      1  31.50         1         1         0         0         0         0         1   4076.4970  31\n",
       "51       1      0  25.80         1         1         0         0         0         0         1   9861.0250  87\n",
       "51       0      1  37.00         0         1         0         0         0         0         1   8798.5930  79\n",
       "51       1      0  39.50         1         1         0         0         0         0         1   9880.0680  95\n",
       "32       0      1  28.12         4         0         1         0         1         0         0  21472.4788  63\n",
       "32       1      0  28.93         0         1         0         0         0         1         0   3972.9247  39\n",
       "32       0      1  30.80         3         1         0         0         0         0         1   5253.5240  55"
      ]
     },
     "metadata": {},
     "output_type": "display_data"
    },
    {
     "name": "stdout",
     "output_type": "stream",
     "text": [
      "                                                                                                 \r"
     ]
    },
    {
     "data": {
      "text/html": [
       "268 rows X 13 columns"
      ],
      "text/plain": [
       "<IPython.core.display.HTML object>"
      ]
     },
     "metadata": {},
     "output_type": "display_data"
    },
    {
     "name": "stdout",
     "output_type": "stream",
     "text": [
      "                                                                                                 \r"
     ]
    },
    {
     "data": {
      "text/html": [
       "Performing transformation carried out in data preparation phase ..."
      ],
      "text/plain": [
       "<IPython.core.display.HTML object>"
      ]
     },
     "metadata": {},
     "output_type": "display_data"
    },
    {
     "name": "stdout",
     "output_type": "stream",
     "text": [
      "                                                                                                 \r"
     ]
    },
    {
     "data": {
      "text/html": [
       "\n",
       "Updated dataset after performing Lasso feature selection:"
      ],
      "text/plain": [
       "<IPython.core.display.HTML object>"
      ]
     },
     "metadata": {},
     "output_type": "display_data"
    },
    {
     "data": {
      "text/html": [
       "<style type=\"text/css\">\n",
       "\ttable {border:ridge 5px;}\n",
       "\ttable td {border:inset 1px;}\n",
       "\ttable tr#HeaderRow {background-color:grey; color:white;}</style>\n",
       "<html><table>\n",
       "\t<tr id=\"HeaderRow\">\n",
       "\t\t<th>id</th>\n",
       "\t\t<th>smoker_1</th>\n",
       "\t\t<th>region_2</th>\n",
       "\t\t<th>children</th>\n",
       "\t\t<th>smoker_0</th>\n",
       "\t\t<th>age</th>\n",
       "\t\t<th>bmi</th>\n",
       "\t\t<th>charges</th>\n",
       "\t</tr>\n",
       "\t<tr>\n",
       "\t\t<td>306</td>\n",
       "\t\t<td>1</td>\n",
       "\t\t<td>1</td>\n",
       "\t\t<td>2</td>\n",
       "\t\t<td>0</td>\n",
       "\t\t<td>52</td>\n",
       "\t\t<td>41.8</td>\n",
       "\t\t<td>47269.854</td>\n",
       "\t</tr>\n",
       "\t<tr>\n",
       "\t\t<td>65</td>\n",
       "\t\t<td>1</td>\n",
       "\t\t<td>1</td>\n",
       "\t\t<td>2</td>\n",
       "\t\t<td>0</td>\n",
       "\t\t<td>64</td>\n",
       "\t\t<td>36.96</td>\n",
       "\t\t<td>49577.6624</td>\n",
       "\t</tr>\n",
       "\t<tr>\n",
       "\t\t<td>45</td>\n",
       "\t\t<td>1</td>\n",
       "\t\t<td>1</td>\n",
       "\t\t<td>1</td>\n",
       "\t\t<td>0</td>\n",
       "\t\t<td>41</td>\n",
       "\t\t<td>35.75</td>\n",
       "\t\t<td>40273.6455</td>\n",
       "\t</tr>\n",
       "\t<tr>\n",
       "\t\t<td>109</td>\n",
       "\t\t<td>1</td>\n",
       "\t\t<td>0</td>\n",
       "\t\t<td>1</td>\n",
       "\t\t<td>0</td>\n",
       "\t\t<td>50</td>\n",
       "\t\t<td>27.6</td>\n",
       "\t\t<td>24520.264</td>\n",
       "\t</tr>\n",
       "\t<tr>\n",
       "\t\t<td>181</td>\n",
       "\t\t<td>1</td>\n",
       "\t\t<td>0</td>\n",
       "\t\t<td>2</td>\n",
       "\t\t<td>0</td>\n",
       "\t\t<td>48</td>\n",
       "\t\t<td>40.565</td>\n",
       "\t\t<td>45702.0223</td>\n",
       "\t</tr>\n",
       "\t<tr>\n",
       "\t\t<td>149</td>\n",
       "\t\t<td>1</td>\n",
       "\t\t<td>1</td>\n",
       "\t\t<td>3</td>\n",
       "\t\t<td>0</td>\n",
       "\t\t<td>48</td>\n",
       "\t\t<td>25.85</td>\n",
       "\t\t<td>24180.9335</td>\n",
       "\t</tr>\n",
       "\t<tr>\n",
       "\t\t<td>17</td>\n",
       "\t\t<td>0</td>\n",
       "\t\t<td>0</td>\n",
       "\t\t<td>1</td>\n",
       "\t\t<td>1</td>\n",
       "\t\t<td>34</td>\n",
       "\t\t<td>27.5</td>\n",
       "\t\t<td>5003.853</td>\n",
       "\t</tr>\n",
       "\t<tr>\n",
       "\t\t<td>33</td>\n",
       "\t\t<td>0</td>\n",
       "\t\t<td>0</td>\n",
       "\t\t<td>1</td>\n",
       "\t\t<td>1</td>\n",
       "\t\t<td>64</td>\n",
       "\t\t<td>24.7</td>\n",
       "\t\t<td>30166.6182</td>\n",
       "\t</tr>\n",
       "\t<tr>\n",
       "\t\t<td>113</td>\n",
       "\t\t<td>0</td>\n",
       "\t\t<td>0</td>\n",
       "\t\t<td>0</td>\n",
       "\t\t<td>1</td>\n",
       "\t\t<td>33</td>\n",
       "\t\t<td>26.695</td>\n",
       "\t\t<td>4571.4131</td>\n",
       "\t</tr>\n",
       "\t<tr>\n",
       "\t\t<td>105</td>\n",
       "\t\t<td>0</td>\n",
       "\t\t<td>0</td>\n",
       "\t\t<td>1</td>\n",
       "\t\t<td>1</td>\n",
       "\t\t<td>33</td>\n",
       "\t\t<td>22.135</td>\n",
       "\t\t<td>5354.0746</td>\n",
       "\t</tr>\n",
       "</table></html>"
      ],
      "text/plain": [
       "           id  region_2  children  smoker_0  age     bmi     charges\n",
       "smoker_1                                                            \n",
       "1         306         1         2         0   52  41.800  47269.8540\n",
       "1          65         1         2         0   64  36.960  49577.6624\n",
       "1          45         1         1         0   41  35.750  40273.6455\n",
       "1         109         0         1         0   50  27.600  24520.2640\n",
       "1         181         0         2         0   48  40.565  45702.0223\n",
       "1         149         1         3         0   48  25.850  24180.9335\n",
       "0          17         0         1         1   34  27.500   5003.8530\n",
       "0          33         0         1         1   64  24.700  30166.6182\n",
       "0         113         0         0         1   33  26.695   4571.4131\n",
       "0         105         0         1         1   33  22.135   5354.0746"
      ]
     },
     "metadata": {},
     "output_type": "display_data"
    },
    {
     "name": "stdout",
     "output_type": "stream",
     "text": [
      "                                                                                                 \r"
     ]
    },
    {
     "data": {
      "text/html": [
       "268 rows X 8 columns"
      ],
      "text/plain": [
       "<IPython.core.display.HTML object>"
      ]
     },
     "metadata": {},
     "output_type": "display_data"
    },
    {
     "name": "stdout",
     "output_type": "stream",
     "text": [
      "                                                                                                 \r"
     ]
    },
    {
     "data": {
      "text/html": [
       "\n",
       "Updated dataset after performing scaling on Lasso selected features :"
      ],
      "text/plain": [
       "<IPython.core.display.HTML object>"
      ]
     },
     "metadata": {},
     "output_type": "display_data"
    },
    {
     "data": {
      "text/html": [
       "<style type=\"text/css\">\n",
       "\ttable {border:ridge 5px;}\n",
       "\ttable td {border:inset 1px;}\n",
       "\ttable tr#HeaderRow {background-color:grey; color:white;}</style>\n",
       "<html><table>\n",
       "\t<tr id=\"HeaderRow\">\n",
       "\t\t<th>smoker_1</th>\n",
       "\t\t<th>region_2</th>\n",
       "\t\t<th>charges</th>\n",
       "\t\t<th>smoker_0</th>\n",
       "\t\t<th>id</th>\n",
       "\t\t<th>children</th>\n",
       "\t\t<th>age</th>\n",
       "\t\t<th>bmi</th>\n",
       "\t</tr>\n",
       "\t<tr>\n",
       "\t\t<td>0</td>\n",
       "\t\t<td>0</td>\n",
       "\t\t<td>4571.4131</td>\n",
       "\t\t<td>1</td>\n",
       "\t\t<td>113</td>\n",
       "\t\t<td>-0.9180612292101209</td>\n",
       "\t\t<td>-0.45808911383184414</td>\n",
       "\t\t<td>-0.6574257915762355</td>\n",
       "\t</tr>\n",
       "\t<tr>\n",
       "\t\t<td>0</td>\n",
       "\t\t<td>1</td>\n",
       "\t\t<td>3704.3545</td>\n",
       "\t\t<td>1</td>\n",
       "\t\t<td>121</td>\n",
       "\t\t<td>-0.9180612292101209</td>\n",
       "\t\t<td>-0.45808911383184414</td>\n",
       "\t\t<td>-0.07263275961267188</td>\n",
       "\t</tr>\n",
       "\t<tr>\n",
       "\t\t<td>0</td>\n",
       "\t\t<td>0</td>\n",
       "\t\t<td>4766.022</td>\n",
       "\t\t<td>1</td>\n",
       "\t\t<td>89</td>\n",
       "\t\t<td>-0.08381617024358608</td>\n",
       "\t\t<td>-0.45808911383184414</td>\n",
       "\t\t<td>-2.005492991841047</td>\n",
       "\t</tr>\n",
       "\t<tr>\n",
       "\t\t<td>0</td>\n",
       "\t\t<td>1</td>\n",
       "\t\t<td>11326.7149</td>\n",
       "\t\t<td>1</td>\n",
       "\t\t<td>81</td>\n",
       "\t\t<td>-0.08381617024358608</td>\n",
       "\t\t<td>-0.45808911383184414</td>\n",
       "\t\t<td>1.9358968944731545</td>\n",
       "\t</tr>\n",
       "\t<tr>\n",
       "\t\t<td>0</td>\n",
       "\t\t<td>0</td>\n",
       "\t\t<td>6389.3778</td>\n",
       "\t\t<td>1</td>\n",
       "\t\t<td>26</td>\n",
       "\t\t<td>-0.08381617024358608</td>\n",
       "\t\t<td>0.044568281460531003</td>\n",
       "\t\t<td>-0.7199353139802168</td>\n",
       "\t</tr>\n",
       "\t<tr>\n",
       "\t\t<td>0</td>\n",
       "\t\t<td>0</td>\n",
       "\t\t<td>6986.697</td>\n",
       "\t\t<td>1</td>\n",
       "\t\t<td>18</td>\n",
       "\t\t<td>0.7504288887229488</td>\n",
       "\t\t<td>0.044568281460531003</td>\n",
       "\t\t<td>0.26458966388249094</td>\n",
       "\t</tr>\n",
       "\t<tr>\n",
       "\t\t<td>1</td>\n",
       "\t\t<td>1</td>\n",
       "\t\t<td>35595.5898</td>\n",
       "\t\t<td>0</td>\n",
       "\t\t<td>130</td>\n",
       "\t\t<td>1.5846739476894836</td>\n",
       "\t\t<td>-1.247979306434148</td>\n",
       "\t\t<td>0.054031272626974755</td>\n",
       "\t</tr>\n",
       "\t<tr>\n",
       "\t\t<td>1</td>\n",
       "\t\t<td>0</td>\n",
       "\t\t<td>39983.4259</td>\n",
       "\t\t<td>0</td>\n",
       "\t\t<td>282</td>\n",
       "\t\t<td>1.5846739476894836</td>\n",
       "\t\t<td>-0.3144727151768798</td>\n",
       "\t\t<td>0.5615098953014029</td>\n",
       "\t</tr>\n",
       "\t<tr>\n",
       "\t\t<td>1</td>\n",
       "\t\t<td>1</td>\n",
       "\t\t<td>47269.854</td>\n",
       "\t\t<td>0</td>\n",
       "\t\t<td>306</td>\n",
       "\t\t<td>0.7504288887229488</td>\n",
       "\t\t<td>0.906266673390317</td>\n",
       "\t\t<td>1.8273277239820283</td>\n",
       "\t</tr>\n",
       "\t<tr>\n",
       "\t\t<td>1</td>\n",
       "\t\t<td>0</td>\n",
       "\t\t<td>29330.9832</td>\n",
       "\t\t<td>0</td>\n",
       "\t\t<td>57</td>\n",
       "\t\t<td>-0.9180612292101209</td>\n",
       "\t\t<td>1.767965065320103</td>\n",
       "\t\t<td>-0.6261710303742445</td>\n",
       "\t</tr>\n",
       "</table></html>"
      ],
      "text/plain": [
       "   smoker_1  region_2     charges  smoker_0   id  children       age       bmi\n",
       "0         0         0   4571.4131         1  113 -0.918061 -0.458089 -0.657426\n",
       "1         0         1   3704.3545         1  121 -0.918061 -0.458089 -0.072633\n",
       "2         0         0   4766.0220         1   89 -0.083816 -0.458089 -2.005493\n",
       "3         0         1  11326.7149         1   81 -0.083816 -0.458089  1.935897\n",
       "4         0         0   6389.3778         1   26 -0.083816  0.044568 -0.719935\n",
       "5         0         0   6986.6970         1   18  0.750429  0.044568  0.264590\n",
       "6         1         1  35595.5898         0  130  1.584674 -1.247979  0.054031\n",
       "7         1         0  39983.4259         0  282  1.584674 -0.314473  0.561510\n",
       "8         1         1  47269.8540         0  306  0.750429  0.906267  1.827328\n",
       "9         1         0  29330.9832         0   57 -0.918061  1.767965 -0.626171"
      ]
     },
     "metadata": {},
     "output_type": "display_data"
    },
    {
     "name": "stdout",
     "output_type": "stream",
     "text": [
      "                                                                                                 \r"
     ]
    },
    {
     "data": {
      "text/html": [
       "268 rows X 8 columns"
      ],
      "text/plain": [
       "<IPython.core.display.HTML object>"
      ]
     },
     "metadata": {},
     "output_type": "display_data"
    },
    {
     "name": "stdout",
     "output_type": "stream",
     "text": [
      "                                                                                                 \r"
     ]
    },
    {
     "data": {
      "text/html": [
       "\n",
       "Updated dataset after performing RFE feature selection:"
      ],
      "text/plain": [
       "<IPython.core.display.HTML object>"
      ]
     },
     "metadata": {},
     "output_type": "display_data"
    },
    {
     "data": {
      "text/html": [
       "<style type=\"text/css\">\n",
       "\ttable {border:ridge 5px;}\n",
       "\ttable td {border:inset 1px;}\n",
       "\ttable tr#HeaderRow {background-color:grey; color:white;}</style>\n",
       "<html><table>\n",
       "\t<tr id=\"HeaderRow\">\n",
       "\t\t<th>id</th>\n",
       "\t\t<th>smoker_1</th>\n",
       "\t\t<th>region_2</th>\n",
       "\t\t<th>sex_1</th>\n",
       "\t\t<th>children</th>\n",
       "\t\t<th>region_3</th>\n",
       "\t\t<th>region_1</th>\n",
       "\t\t<th>sex_0</th>\n",
       "\t\t<th>smoker_0</th>\n",
       "\t\t<th>region_0</th>\n",
       "\t\t<th>age</th>\n",
       "\t\t<th>bmi</th>\n",
       "\t\t<th>charges</th>\n",
       "\t</tr>\n",
       "\t<tr>\n",
       "\t\t<td>306</td>\n",
       "\t\t<td>1</td>\n",
       "\t\t<td>1</td>\n",
       "\t\t<td>1</td>\n",
       "\t\t<td>2</td>\n",
       "\t\t<td>0</td>\n",
       "\t\t<td>0</td>\n",
       "\t\t<td>0</td>\n",
       "\t\t<td>0</td>\n",
       "\t\t<td>0</td>\n",
       "\t\t<td>52</td>\n",
       "\t\t<td>41.8</td>\n",
       "\t\t<td>47269.854</td>\n",
       "\t</tr>\n",
       "\t<tr>\n",
       "\t\t<td>65</td>\n",
       "\t\t<td>1</td>\n",
       "\t\t<td>1</td>\n",
       "\t\t<td>1</td>\n",
       "\t\t<td>2</td>\n",
       "\t\t<td>0</td>\n",
       "\t\t<td>0</td>\n",
       "\t\t<td>0</td>\n",
       "\t\t<td>0</td>\n",
       "\t\t<td>0</td>\n",
       "\t\t<td>64</td>\n",
       "\t\t<td>36.96</td>\n",
       "\t\t<td>49577.6624</td>\n",
       "\t</tr>\n",
       "\t<tr>\n",
       "\t\t<td>45</td>\n",
       "\t\t<td>1</td>\n",
       "\t\t<td>1</td>\n",
       "\t\t<td>1</td>\n",
       "\t\t<td>1</td>\n",
       "\t\t<td>0</td>\n",
       "\t\t<td>0</td>\n",
       "\t\t<td>0</td>\n",
       "\t\t<td>0</td>\n",
       "\t\t<td>0</td>\n",
       "\t\t<td>41</td>\n",
       "\t\t<td>35.75</td>\n",
       "\t\t<td>40273.6455</td>\n",
       "\t</tr>\n",
       "\t<tr>\n",
       "\t\t<td>109</td>\n",
       "\t\t<td>1</td>\n",
       "\t\t<td>0</td>\n",
       "\t\t<td>0</td>\n",
       "\t\t<td>1</td>\n",
       "\t\t<td>1</td>\n",
       "\t\t<td>0</td>\n",
       "\t\t<td>1</td>\n",
       "\t\t<td>0</td>\n",
       "\t\t<td>0</td>\n",
       "\t\t<td>50</td>\n",
       "\t\t<td>27.6</td>\n",
       "\t\t<td>24520.264</td>\n",
       "\t</tr>\n",
       "\t<tr>\n",
       "\t\t<td>181</td>\n",
       "\t\t<td>1</td>\n",
       "\t\t<td>0</td>\n",
       "\t\t<td>1</td>\n",
       "\t\t<td>2</td>\n",
       "\t\t<td>0</td>\n",
       "\t\t<td>1</td>\n",
       "\t\t<td>0</td>\n",
       "\t\t<td>0</td>\n",
       "\t\t<td>0</td>\n",
       "\t\t<td>48</td>\n",
       "\t\t<td>40.565</td>\n",
       "\t\t<td>45702.0223</td>\n",
       "\t</tr>\n",
       "\t<tr>\n",
       "\t\t<td>149</td>\n",
       "\t\t<td>1</td>\n",
       "\t\t<td>1</td>\n",
       "\t\t<td>0</td>\n",
       "\t\t<td>3</td>\n",
       "\t\t<td>0</td>\n",
       "\t\t<td>0</td>\n",
       "\t\t<td>1</td>\n",
       "\t\t<td>0</td>\n",
       "\t\t<td>0</td>\n",
       "\t\t<td>48</td>\n",
       "\t\t<td>25.85</td>\n",
       "\t\t<td>24180.9335</td>\n",
       "\t</tr>\n",
       "\t<tr>\n",
       "\t\t<td>17</td>\n",
       "\t\t<td>0</td>\n",
       "\t\t<td>0</td>\n",
       "\t\t<td>0</td>\n",
       "\t\t<td>1</td>\n",
       "\t\t<td>1</td>\n",
       "\t\t<td>0</td>\n",
       "\t\t<td>1</td>\n",
       "\t\t<td>1</td>\n",
       "\t\t<td>0</td>\n",
       "\t\t<td>34</td>\n",
       "\t\t<td>27.5</td>\n",
       "\t\t<td>5003.853</td>\n",
       "\t</tr>\n",
       "\t<tr>\n",
       "\t\t<td>33</td>\n",
       "\t\t<td>0</td>\n",
       "\t\t<td>0</td>\n",
       "\t\t<td>1</td>\n",
       "\t\t<td>1</td>\n",
       "\t\t<td>0</td>\n",
       "\t\t<td>1</td>\n",
       "\t\t<td>0</td>\n",
       "\t\t<td>1</td>\n",
       "\t\t<td>0</td>\n",
       "\t\t<td>64</td>\n",
       "\t\t<td>24.7</td>\n",
       "\t\t<td>30166.6182</td>\n",
       "\t</tr>\n",
       "\t<tr>\n",
       "\t\t<td>113</td>\n",
       "\t\t<td>0</td>\n",
       "\t\t<td>0</td>\n",
       "\t\t<td>0</td>\n",
       "\t\t<td>0</td>\n",
       "\t\t<td>0</td>\n",
       "\t\t<td>1</td>\n",
       "\t\t<td>1</td>\n",
       "\t\t<td>1</td>\n",
       "\t\t<td>0</td>\n",
       "\t\t<td>33</td>\n",
       "\t\t<td>26.695</td>\n",
       "\t\t<td>4571.4131</td>\n",
       "\t</tr>\n",
       "\t<tr>\n",
       "\t\t<td>105</td>\n",
       "\t\t<td>0</td>\n",
       "\t\t<td>0</td>\n",
       "\t\t<td>0</td>\n",
       "\t\t<td>1</td>\n",
       "\t\t<td>0</td>\n",
       "\t\t<td>0</td>\n",
       "\t\t<td>1</td>\n",
       "\t\t<td>1</td>\n",
       "\t\t<td>1</td>\n",
       "\t\t<td>33</td>\n",
       "\t\t<td>22.135</td>\n",
       "\t\t<td>5354.0746</td>\n",
       "\t</tr>\n",
       "</table></html>"
      ],
      "text/plain": [
       "           id  region_2  sex_1  children  region_3  region_1  sex_0  smoker_0  region_0  age     bmi     charges\n",
       "smoker_1                                                                                                        \n",
       "1         306         1      1         2         0         0      0         0         0   52  41.800  47269.8540\n",
       "1          65         1      1         2         0         0      0         0         0   64  36.960  49577.6624\n",
       "1          45         1      1         1         0         0      0         0         0   41  35.750  40273.6455\n",
       "1         109         0      0         1         1         0      1         0         0   50  27.600  24520.2640\n",
       "1         181         0      1         2         0         1      0         0         0   48  40.565  45702.0223\n",
       "1         149         1      0         3         0         0      1         0         0   48  25.850  24180.9335\n",
       "0          17         0      0         1         1         0      1         1         0   34  27.500   5003.8530\n",
       "0          33         0      1         1         0         1      0         1         0   64  24.700  30166.6182\n",
       "0         113         0      0         0         0         1      1         1         0   33  26.695   4571.4131\n",
       "0         105         0      0         1         0         0      1         1         1   33  22.135   5354.0746"
      ]
     },
     "metadata": {},
     "output_type": "display_data"
    },
    {
     "name": "stdout",
     "output_type": "stream",
     "text": [
      "                                                                                                 \r"
     ]
    },
    {
     "data": {
      "text/html": [
       "268 rows X 13 columns"
      ],
      "text/plain": [
       "<IPython.core.display.HTML object>"
      ]
     },
     "metadata": {},
     "output_type": "display_data"
    },
    {
     "name": "stdout",
     "output_type": "stream",
     "text": [
      "                                                                                                 \r"
     ]
    },
    {
     "data": {
      "text/html": [
       "\n",
       "Updated dataset after performing scaling on RFE selected features :"
      ],
      "text/plain": [
       "<IPython.core.display.HTML object>"
      ]
     },
     "metadata": {},
     "output_type": "display_data"
    },
    {
     "data": {
      "text/html": [
       "<style type=\"text/css\">\n",
       "\ttable {border:ridge 5px;}\n",
       "\ttable td {border:inset 1px;}\n",
       "\ttable tr#HeaderRow {background-color:grey; color:white;}</style>\n",
       "<html><table>\n",
       "\t<tr id=\"HeaderRow\">\n",
       "\t\t<th>r_region_2</th>\n",
       "\t\t<th>r_smoker_1</th>\n",
       "\t\t<th>r_region_3</th>\n",
       "\t\t<th>r_smoker_0</th>\n",
       "\t\t<th>r_region_0</th>\n",
       "\t\t<th>charges</th>\n",
       "\t\t<th>r_sex_0</th>\n",
       "\t\t<th>r_region_1</th>\n",
       "\t\t<th>id</th>\n",
       "\t\t<th>r_sex_1</th>\n",
       "\t\t<th>r_children</th>\n",
       "\t\t<th>r_age</th>\n",
       "\t\t<th>r_bmi</th>\n",
       "\t</tr>\n",
       "\t<tr>\n",
       "\t\t<td>1</td>\n",
       "\t\t<td>1</td>\n",
       "\t\t<td>0</td>\n",
       "\t\t<td>0</td>\n",
       "\t\t<td>0</td>\n",
       "\t\t<td>47269.854</td>\n",
       "\t\t<td>0</td>\n",
       "\t\t<td>0</td>\n",
       "\t\t<td>306</td>\n",
       "\t\t<td>1</td>\n",
       "\t\t<td>0.7504288887229488</td>\n",
       "\t\t<td>0.906266673390317</td>\n",
       "\t\t<td>1.8273277239820283</td>\n",
       "\t</tr>\n",
       "\t<tr>\n",
       "\t\t<td>1</td>\n",
       "\t\t<td>1</td>\n",
       "\t\t<td>0</td>\n",
       "\t\t<td>0</td>\n",
       "\t\t<td>0</td>\n",
       "\t\t<td>49577.6624</td>\n",
       "\t\t<td>0</td>\n",
       "\t\t<td>0</td>\n",
       "\t\t<td>65</td>\n",
       "\t\t<td>1</td>\n",
       "\t\t<td>0.7504288887229488</td>\n",
       "\t\t<td>1.767965065320103</td>\n",
       "\t\t<td>1.0311538070471067</td>\n",
       "\t</tr>\n",
       "\t<tr>\n",
       "\t\t<td>1</td>\n",
       "\t\t<td>1</td>\n",
       "\t\t<td>0</td>\n",
       "\t\t<td>0</td>\n",
       "\t\t<td>0</td>\n",
       "\t\t<td>40273.6455</td>\n",
       "\t\t<td>0</td>\n",
       "\t\t<td>0</td>\n",
       "\t\t<td>45</td>\n",
       "\t\t<td>1</td>\n",
       "\t\t<td>-0.08381617024358608</td>\n",
       "\t\t<td>0.11637648078801317</td>\n",
       "\t\t<td>0.832110327813376</td>\n",
       "\t</tr>\n",
       "\t<tr>\n",
       "\t\t<td>0</td>\n",
       "\t\t<td>1</td>\n",
       "\t\t<td>1</td>\n",
       "\t\t<td>0</td>\n",
       "\t\t<td>0</td>\n",
       "\t\t<td>24520.264</td>\n",
       "\t\t<td>1</td>\n",
       "\t\t<td>0</td>\n",
       "\t\t<td>109</td>\n",
       "\t\t<td>0</td>\n",
       "\t\t<td>-0.08381617024358608</td>\n",
       "\t\t<td>0.7626502747353526</td>\n",
       "\t\t<td>-0.5085544290088584</td>\n",
       "\t</tr>\n",
       "\t<tr>\n",
       "\t\t<td>0</td>\n",
       "\t\t<td>1</td>\n",
       "\t\t<td>0</td>\n",
       "\t\t<td>0</td>\n",
       "\t\t<td>0</td>\n",
       "\t\t<td>45702.0223</td>\n",
       "\t\t<td>0</td>\n",
       "\t\t<td>1</td>\n",
       "\t\t<td>181</td>\n",
       "\t\t<td>1</td>\n",
       "\t\t<td>0.7504288887229488</td>\n",
       "\t\t<td>0.6190338760803883</td>\n",
       "\t\t<td>1.6241717761690884</td>\n",
       "\t</tr>\n",
       "\t<tr>\n",
       "\t\t<td>1</td>\n",
       "\t\t<td>1</td>\n",
       "\t\t<td>0</td>\n",
       "\t\t<td>0</td>\n",
       "\t\t<td>0</td>\n",
       "\t\t<td>24180.9335</td>\n",
       "\t\t<td>1</td>\n",
       "\t\t<td>0</td>\n",
       "\t\t<td>149</td>\n",
       "\t\t<td>0</td>\n",
       "\t\t<td>1.5846739476894836</td>\n",
       "\t\t<td>0.6190338760803883</td>\n",
       "\t\t<td>-0.79642722955351</td>\n",
       "\t</tr>\n",
       "\t<tr>\n",
       "\t\t<td>0</td>\n",
       "\t\t<td>0</td>\n",
       "\t\t<td>1</td>\n",
       "\t\t<td>1</td>\n",
       "\t\t<td>0</td>\n",
       "\t\t<td>5003.853</td>\n",
       "\t\t<td>1</td>\n",
       "\t\t<td>0</td>\n",
       "\t\t<td>17</td>\n",
       "\t\t<td>0</td>\n",
       "\t\t<td>-0.08381617024358608</td>\n",
       "\t\t<td>-0.38628091450436197</td>\n",
       "\t\t<td>-0.5250043033256958</td>\n",
       "\t</tr>\n",
       "\t<tr>\n",
       "\t\t<td>0</td>\n",
       "\t\t<td>0</td>\n",
       "\t\t<td>0</td>\n",
       "\t\t<td>1</td>\n",
       "\t\t<td>0</td>\n",
       "\t\t<td>30166.6182</td>\n",
       "\t\t<td>0</td>\n",
       "\t\t<td>1</td>\n",
       "\t\t<td>33</td>\n",
       "\t\t<td>1</td>\n",
       "\t\t<td>-0.08381617024358608</td>\n",
       "\t\t<td>1.767965065320103</td>\n",
       "\t\t<td>-0.9856007841971385</td>\n",
       "\t</tr>\n",
       "\t<tr>\n",
       "\t\t<td>0</td>\n",
       "\t\t<td>0</td>\n",
       "\t\t<td>0</td>\n",
       "\t\t<td>1</td>\n",
       "\t\t<td>0</td>\n",
       "\t\t<td>4571.4131</td>\n",
       "\t\t<td>1</td>\n",
       "\t\t<td>1</td>\n",
       "\t\t<td>113</td>\n",
       "\t\t<td>0</td>\n",
       "\t\t<td>-0.9180612292101209</td>\n",
       "\t\t<td>-0.45808911383184414</td>\n",
       "\t\t<td>-0.6574257915762355</td>\n",
       "\t</tr>\n",
       "\t<tr>\n",
       "\t\t<td>0</td>\n",
       "\t\t<td>0</td>\n",
       "\t\t<td>0</td>\n",
       "\t\t<td>1</td>\n",
       "\t\t<td>1</td>\n",
       "\t\t<td>5354.0746</td>\n",
       "\t\t<td>1</td>\n",
       "\t\t<td>0</td>\n",
       "\t\t<td>105</td>\n",
       "\t\t<td>0</td>\n",
       "\t\t<td>-0.08381617024358608</td>\n",
       "\t\t<td>-0.45808911383184414</td>\n",
       "\t\t<td>-1.4075400604240131</td>\n",
       "\t</tr>\n",
       "</table></html>"
      ],
      "text/plain": [
       "   r_region_2  r_smoker_1  r_region_3  r_smoker_0  r_region_0     charges  r_sex_0  r_region_1   id  r_sex_1  r_children     r_age     r_bmi\n",
       "0           1           1           0           0           0  47269.8540        0           0  306        1    0.750429  0.906267  1.827328\n",
       "1           1           1           0           0           0  49577.6624        0           0   65        1    0.750429  1.767965  1.031154\n",
       "2           1           1           0           0           0  40273.6455        0           0   45        1   -0.083816  0.116376  0.832110\n",
       "3           0           1           1           0           0  24520.2640        1           0  109        0   -0.083816  0.762650 -0.508554\n",
       "4           0           1           0           0           0  45702.0223        0           1  181        1    0.750429  0.619034  1.624172\n",
       "5           1           1           0           0           0  24180.9335        1           0  149        0    1.584674  0.619034 -0.796427\n",
       "6           0           0           1           1           0   5003.8530        1           0   17        0   -0.083816 -0.386281 -0.525004\n",
       "7           0           0           0           1           0  30166.6182        0           1   33        1   -0.083816  1.767965 -0.985601\n",
       "8           0           0           0           1           0   4571.4131        1           1  113        0   -0.918061 -0.458089 -0.657426\n",
       "9           0           0           0           1           1   5354.0746        1           0  105        0   -0.083816 -0.458089 -1.407540"
      ]
     },
     "metadata": {},
     "output_type": "display_data"
    },
    {
     "name": "stdout",
     "output_type": "stream",
     "text": [
      "                                                                                                 \r"
     ]
    },
    {
     "data": {
      "text/html": [
       "268 rows X 13 columns"
      ],
      "text/plain": [
       "<IPython.core.display.HTML object>"
      ]
     },
     "metadata": {},
     "output_type": "display_data"
    },
    {
     "name": "stdout",
     "output_type": "stream",
     "text": [
      "                                                                                                 \r"
     ]
    },
    {
     "data": {
      "text/html": [
       "\n",
       "Updated dataset after performing scaling for PCA feature selection :"
      ],
      "text/plain": [
       "<IPython.core.display.HTML object>"
      ]
     },
     "metadata": {},
     "output_type": "display_data"
    },
    {
     "data": {
      "text/html": [
       "<style type=\"text/css\">\n",
       "\ttable {border:ridge 5px;}\n",
       "\ttable td {border:inset 1px;}\n",
       "\ttable tr#HeaderRow {background-color:grey; color:white;}</style>\n",
       "<html><table>\n",
       "\t<tr id=\"HeaderRow\">\n",
       "\t\t<th>smoker_1</th>\n",
       "\t\t<th>region_2</th>\n",
       "\t\t<th>sex_1</th>\n",
       "\t\t<th>region_3</th>\n",
       "\t\t<th>sex_0</th>\n",
       "\t\t<th>charges</th>\n",
       "\t\t<th>region_1</th>\n",
       "\t\t<th>region_0</th>\n",
       "\t\t<th>smoker_0</th>\n",
       "\t\t<th>id</th>\n",
       "\t\t<th>age</th>\n",
       "\t\t<th>bmi</th>\n",
       "\t\t<th>children</th>\n",
       "\t</tr>\n",
       "\t<tr>\n",
       "\t\t<td>1</td>\n",
       "\t\t<td>1</td>\n",
       "\t\t<td>1</td>\n",
       "\t\t<td>0</td>\n",
       "\t\t<td>0</td>\n",
       "\t\t<td>47269.854</td>\n",
       "\t\t<td>0</td>\n",
       "\t\t<td>0</td>\n",
       "\t\t<td>0</td>\n",
       "\t\t<td>306</td>\n",
       "\t\t<td>0.9062666733903173</td>\n",
       "\t\t<td>1.8273277239820285</td>\n",
       "\t\t<td>0.7504288887229499</td>\n",
       "\t</tr>\n",
       "\t<tr>\n",
       "\t\t<td>1</td>\n",
       "\t\t<td>1</td>\n",
       "\t\t<td>1</td>\n",
       "\t\t<td>0</td>\n",
       "\t\t<td>0</td>\n",
       "\t\t<td>49577.6624</td>\n",
       "\t\t<td>0</td>\n",
       "\t\t<td>0</td>\n",
       "\t\t<td>0</td>\n",
       "\t\t<td>65</td>\n",
       "\t\t<td>1.7679650653201036</td>\n",
       "\t\t<td>1.0311538070471067</td>\n",
       "\t\t<td>0.7504288887229499</td>\n",
       "\t</tr>\n",
       "\t<tr>\n",
       "\t\t<td>1</td>\n",
       "\t\t<td>1</td>\n",
       "\t\t<td>1</td>\n",
       "\t\t<td>0</td>\n",
       "\t\t<td>0</td>\n",
       "\t\t<td>40273.6455</td>\n",
       "\t\t<td>0</td>\n",
       "\t\t<td>0</td>\n",
       "\t\t<td>0</td>\n",
       "\t\t<td>45</td>\n",
       "\t\t<td>0.11637648078801321</td>\n",
       "\t\t<td>0.8321103278133761</td>\n",
       "\t\t<td>-0.0838161702435862</td>\n",
       "\t</tr>\n",
       "\t<tr>\n",
       "\t\t<td>1</td>\n",
       "\t\t<td>0</td>\n",
       "\t\t<td>0</td>\n",
       "\t\t<td>1</td>\n",
       "\t\t<td>1</td>\n",
       "\t\t<td>24520.264</td>\n",
       "\t\t<td>0</td>\n",
       "\t\t<td>0</td>\n",
       "\t\t<td>0</td>\n",
       "\t\t<td>109</td>\n",
       "\t\t<td>0.762650274735353</td>\n",
       "\t\t<td>-0.5085544290088584</td>\n",
       "\t\t<td>-0.0838161702435862</td>\n",
       "\t</tr>\n",
       "\t<tr>\n",
       "\t\t<td>1</td>\n",
       "\t\t<td>0</td>\n",
       "\t\t<td>1</td>\n",
       "\t\t<td>0</td>\n",
       "\t\t<td>0</td>\n",
       "\t\t<td>45702.0223</td>\n",
       "\t\t<td>1</td>\n",
       "\t\t<td>0</td>\n",
       "\t\t<td>0</td>\n",
       "\t\t<td>181</td>\n",
       "\t\t<td>0.6190338760803885</td>\n",
       "\t\t<td>1.6241717761690886</td>\n",
       "\t\t<td>0.7504288887229499</td>\n",
       "\t</tr>\n",
       "\t<tr>\n",
       "\t\t<td>1</td>\n",
       "\t\t<td>1</td>\n",
       "\t\t<td>0</td>\n",
       "\t\t<td>0</td>\n",
       "\t\t<td>1</td>\n",
       "\t\t<td>24180.9335</td>\n",
       "\t\t<td>0</td>\n",
       "\t\t<td>0</td>\n",
       "\t\t<td>0</td>\n",
       "\t\t<td>149</td>\n",
       "\t\t<td>0.6190338760803885</td>\n",
       "\t\t<td>-0.7964272295535101</td>\n",
       "\t\t<td>1.584673947689486</td>\n",
       "\t</tr>\n",
       "\t<tr>\n",
       "\t\t<td>0</td>\n",
       "\t\t<td>0</td>\n",
       "\t\t<td>0</td>\n",
       "\t\t<td>1</td>\n",
       "\t\t<td>1</td>\n",
       "\t\t<td>5003.853</td>\n",
       "\t\t<td>0</td>\n",
       "\t\t<td>0</td>\n",
       "\t\t<td>1</td>\n",
       "\t\t<td>17</td>\n",
       "\t\t<td>-0.38628091450436214</td>\n",
       "\t\t<td>-0.5250043033256959</td>\n",
       "\t\t<td>-0.0838161702435862</td>\n",
       "\t</tr>\n",
       "\t<tr>\n",
       "\t\t<td>0</td>\n",
       "\t\t<td>0</td>\n",
       "\t\t<td>1</td>\n",
       "\t\t<td>0</td>\n",
       "\t\t<td>0</td>\n",
       "\t\t<td>30166.6182</td>\n",
       "\t\t<td>1</td>\n",
       "\t\t<td>0</td>\n",
       "\t\t<td>1</td>\n",
       "\t\t<td>33</td>\n",
       "\t\t<td>1.7679650653201036</td>\n",
       "\t\t<td>-0.9856007841971386</td>\n",
       "\t\t<td>-0.0838161702435862</td>\n",
       "\t</tr>\n",
       "\t<tr>\n",
       "\t\t<td>0</td>\n",
       "\t\t<td>0</td>\n",
       "\t\t<td>0</td>\n",
       "\t\t<td>0</td>\n",
       "\t\t<td>1</td>\n",
       "\t\t<td>4571.4131</td>\n",
       "\t\t<td>1</td>\n",
       "\t\t<td>0</td>\n",
       "\t\t<td>1</td>\n",
       "\t\t<td>113</td>\n",
       "\t\t<td>-0.4580891138318443</td>\n",
       "\t\t<td>-0.6574257915762356</td>\n",
       "\t\t<td>-0.9180612292101222</td>\n",
       "\t</tr>\n",
       "\t<tr>\n",
       "\t\t<td>0</td>\n",
       "\t\t<td>0</td>\n",
       "\t\t<td>0</td>\n",
       "\t\t<td>0</td>\n",
       "\t\t<td>1</td>\n",
       "\t\t<td>5354.0746</td>\n",
       "\t\t<td>0</td>\n",
       "\t\t<td>1</td>\n",
       "\t\t<td>1</td>\n",
       "\t\t<td>105</td>\n",
       "\t\t<td>-0.4580891138318443</td>\n",
       "\t\t<td>-1.4075400604240134</td>\n",
       "\t\t<td>-0.0838161702435862</td>\n",
       "\t</tr>\n",
       "</table></html>"
      ],
      "text/plain": [
       "   smoker_1  region_2  sex_1  region_3  sex_0     charges  region_1  region_0  smoker_0   id       age       bmi  children\n",
       "0         1         1      1         0      0  47269.8540         0         0         0  306  0.906267  1.827328  0.750429\n",
       "1         1         1      1         0      0  49577.6624         0         0         0   65  1.767965  1.031154  0.750429\n",
       "2         1         1      1         0      0  40273.6455         0         0         0   45  0.116376  0.832110 -0.083816\n",
       "3         1         0      0         1      1  24520.2640         0         0         0  109  0.762650 -0.508554 -0.083816\n",
       "4         1         0      1         0      0  45702.0223         1         0         0  181  0.619034  1.624172  0.750429\n",
       "5         1         1      0         0      1  24180.9335         0         0         0  149  0.619034 -0.796427  1.584674\n",
       "6         0         0      0         1      1   5003.8530         0         0         1   17 -0.386281 -0.525004 -0.083816\n",
       "7         0         0      1         0      0  30166.6182         1         0         1   33  1.767965 -0.985601 -0.083816\n",
       "8         0         0      0         0      1   4571.4131         1         0         1  113 -0.458089 -0.657426 -0.918061\n",
       "9         0         0      0         0      1   5354.0746         0         1         1  105 -0.458089 -1.407540 -0.083816"
      ]
     },
     "metadata": {},
     "output_type": "display_data"
    },
    {
     "name": "stdout",
     "output_type": "stream",
     "text": [
      "                                                                                                 \r"
     ]
    },
    {
     "data": {
      "text/html": [
       "268 rows X 13 columns"
      ],
      "text/plain": [
       "<IPython.core.display.HTML object>"
      ]
     },
     "metadata": {},
     "output_type": "display_data"
    },
    {
     "name": "stdout",
     "output_type": "stream",
     "text": [
      "                                                                                                 \r"
     ]
    },
    {
     "name": "stderr",
     "output_type": "stream",
     "text": [
      "C:\\ProgramData\\anaconda3\\lib\\site-packages\\sklearn\\base.py:450: UserWarning: X does not have valid feature names, but PCA was fitted with feature names\n",
      "  warnings.warn(\n"
     ]
    },
    {
     "data": {
      "text/html": [
       "\n",
       "Updated dataset after performing PCA feature selection :"
      ],
      "text/plain": [
       "<IPython.core.display.HTML object>"
      ]
     },
     "metadata": {},
     "output_type": "display_data"
    },
    {
     "data": {
      "text/html": [
       "<div>\n",
       "<style scoped>\n",
       "    .dataframe tbody tr th:only-of-type {\n",
       "        vertical-align: middle;\n",
       "    }\n",
       "\n",
       "    .dataframe tbody tr th {\n",
       "        vertical-align: top;\n",
       "    }\n",
       "\n",
       "    .dataframe thead th {\n",
       "        text-align: right;\n",
       "    }\n",
       "</style>\n",
       "<table border=\"1\" class=\"dataframe\">\n",
       "  <thead>\n",
       "    <tr style=\"text-align: right;\">\n",
       "      <th></th>\n",
       "      <th>id</th>\n",
       "      <th>col_0</th>\n",
       "      <th>col_1</th>\n",
       "      <th>col_2</th>\n",
       "      <th>col_3</th>\n",
       "      <th>col_4</th>\n",
       "      <th>col_5</th>\n",
       "      <th>col_6</th>\n",
       "      <th>col_7</th>\n",
       "      <th>charges</th>\n",
       "    </tr>\n",
       "  </thead>\n",
       "  <tbody>\n",
       "    <tr>\n",
       "      <th>0</th>\n",
       "      <td>130</td>\n",
       "      <td>-0.252990</td>\n",
       "      <td>1.417209</td>\n",
       "      <td>1.414906</td>\n",
       "      <td>0.675167</td>\n",
       "      <td>1.329404</td>\n",
       "      <td>0.053937</td>\n",
       "      <td>-0.349576</td>\n",
       "      <td>-0.343106</td>\n",
       "      <td>35595.5898</td>\n",
       "    </tr>\n",
       "    <tr>\n",
       "      <th>1</th>\n",
       "      <td>17</td>\n",
       "      <td>-0.656678</td>\n",
       "      <td>0.110070</td>\n",
       "      <td>-0.087713</td>\n",
       "      <td>0.709039</td>\n",
       "      <td>-0.301600</td>\n",
       "      <td>-0.272412</td>\n",
       "      <td>0.605727</td>\n",
       "      <td>-0.570700</td>\n",
       "      <td>5003.8530</td>\n",
       "    </tr>\n",
       "    <tr>\n",
       "      <th>2</th>\n",
       "      <td>282</td>\n",
       "      <td>0.571768</td>\n",
       "      <td>1.296994</td>\n",
       "      <td>0.828371</td>\n",
       "      <td>0.691452</td>\n",
       "      <td>1.048384</td>\n",
       "      <td>0.828952</td>\n",
       "      <td>0.479972</td>\n",
       "      <td>0.506736</td>\n",
       "      <td>39983.4259</td>\n",
       "    </tr>\n",
       "    <tr>\n",
       "      <th>3</th>\n",
       "      <td>33</td>\n",
       "      <td>0.430890</td>\n",
       "      <td>0.259988</td>\n",
       "      <td>-1.988143</td>\n",
       "      <td>-0.719704</td>\n",
       "      <td>-0.367754</td>\n",
       "      <td>0.738025</td>\n",
       "      <td>-0.095750</td>\n",
       "      <td>0.120149</td>\n",
       "      <td>30166.6182</td>\n",
       "    </tr>\n",
       "    <tr>\n",
       "      <th>4</th>\n",
       "      <td>306</td>\n",
       "      <td>2.153002</td>\n",
       "      <td>-0.035468</td>\n",
       "      <td>0.736875</td>\n",
       "      <td>-0.747028</td>\n",
       "      <td>1.172403</td>\n",
       "      <td>0.078915</td>\n",
       "      <td>-0.214235</td>\n",
       "      <td>-0.105841</td>\n",
       "      <td>47269.8540</td>\n",
       "    </tr>\n",
       "    <tr>\n",
       "      <th>5</th>\n",
       "      <td>113</td>\n",
       "      <td>-1.098217</td>\n",
       "      <td>-0.590538</td>\n",
       "      <td>-0.343590</td>\n",
       "      <td>0.678287</td>\n",
       "      <td>-0.282397</td>\n",
       "      <td>0.751133</td>\n",
       "      <td>0.054009</td>\n",
       "      <td>0.212897</td>\n",
       "      <td>4571.4131</td>\n",
       "    </tr>\n",
       "    <tr>\n",
       "      <th>6</th>\n",
       "      <td>57</td>\n",
       "      <td>0.327719</td>\n",
       "      <td>-0.685398</td>\n",
       "      <td>-1.979997</td>\n",
       "      <td>0.441546</td>\n",
       "      <td>1.160000</td>\n",
       "      <td>0.792430</td>\n",
       "      <td>0.354321</td>\n",
       "      <td>0.300797</td>\n",
       "      <td>29330.9832</td>\n",
       "    </tr>\n",
       "    <tr>\n",
       "      <th>7</th>\n",
       "      <td>105</td>\n",
       "      <td>-1.354202</td>\n",
       "      <td>0.449973</td>\n",
       "      <td>-0.609105</td>\n",
       "      <td>0.699356</td>\n",
       "      <td>-0.176754</td>\n",
       "      <td>-0.615939</td>\n",
       "      <td>-0.289247</td>\n",
       "      <td>0.416939</td>\n",
       "      <td>5354.0746</td>\n",
       "    </tr>\n",
       "    <tr>\n",
       "      <th>8</th>\n",
       "      <td>65</td>\n",
       "      <td>2.164796</td>\n",
       "      <td>0.212920</td>\n",
       "      <td>-0.393131</td>\n",
       "      <td>-0.795149</td>\n",
       "      <td>1.231702</td>\n",
       "      <td>0.058982</td>\n",
       "      <td>-0.323986</td>\n",
       "      <td>-0.245106</td>\n",
       "      <td>49577.6624</td>\n",
       "    </tr>\n",
       "    <tr>\n",
       "      <th>9</th>\n",
       "      <td>121</td>\n",
       "      <td>-0.515638</td>\n",
       "      <td>-0.846264</td>\n",
       "      <td>0.256019</td>\n",
       "      <td>-0.709105</td>\n",
       "      <td>-0.185676</td>\n",
       "      <td>-0.003566</td>\n",
       "      <td>-0.716428</td>\n",
       "      <td>-0.480143</td>\n",
       "      <td>3704.3545</td>\n",
       "    </tr>\n",
       "  </tbody>\n",
       "</table>\n",
       "</div>"
      ],
      "text/plain": [
       "    id     col_0     col_1     col_2     col_3     col_4     col_5     col_6  \\\n",
       "0  130 -0.252990  1.417209  1.414906  0.675167  1.329404  0.053937 -0.349576   \n",
       "1   17 -0.656678  0.110070 -0.087713  0.709039 -0.301600 -0.272412  0.605727   \n",
       "2  282  0.571768  1.296994  0.828371  0.691452  1.048384  0.828952  0.479972   \n",
       "3   33  0.430890  0.259988 -1.988143 -0.719704 -0.367754  0.738025 -0.095750   \n",
       "4  306  2.153002 -0.035468  0.736875 -0.747028  1.172403  0.078915 -0.214235   \n",
       "5  113 -1.098217 -0.590538 -0.343590  0.678287 -0.282397  0.751133  0.054009   \n",
       "6   57  0.327719 -0.685398 -1.979997  0.441546  1.160000  0.792430  0.354321   \n",
       "7  105 -1.354202  0.449973 -0.609105  0.699356 -0.176754 -0.615939 -0.289247   \n",
       "8   65  2.164796  0.212920 -0.393131 -0.795149  1.231702  0.058982 -0.323986   \n",
       "9  121 -0.515638 -0.846264  0.256019 -0.709105 -0.185676 -0.003566 -0.716428   \n",
       "\n",
       "      col_7     charges  \n",
       "0 -0.343106  35595.5898  \n",
       "1 -0.570700   5003.8530  \n",
       "2  0.506736  39983.4259  \n",
       "3  0.120149  30166.6182  \n",
       "4 -0.105841  47269.8540  \n",
       "5  0.212897   4571.4131  \n",
       "6  0.300797  29330.9832  \n",
       "7  0.416939   5354.0746  \n",
       "8 -0.245106  49577.6624  \n",
       "9 -0.480143   3704.3545  "
      ]
     },
     "metadata": {},
     "output_type": "display_data"
    },
    {
     "name": "stdout",
     "output_type": "stream",
     "text": [
      "                                                                                                 \r"
     ]
    },
    {
     "data": {
      "text/html": [
       "10 rows X 10 columns"
      ],
      "text/plain": [
       "<IPython.core.display.HTML object>"
      ]
     },
     "metadata": {},
     "output_type": "display_data"
    },
    {
     "name": "stdout",
     "output_type": "stream",
     "text": [
      "Data Transformation completed.⫿⫿⫿⫿⫿⫿⫿⫿⫿⫿⫿⫿⫿⫿⫿⫿⫿⫿⫿⫿⫿⫿⫿⫿⫿⫿⫿⫿⫿⫿⫿⫿⫿⫿⫿⫿⫿⫿⫿⫿⫿⫿｜ 100% - 10/10           \n",
      "\n",
      "Following model is being picked for evaluation:\n",
      "Model ID : DECISIONFOREST_3 \n",
      "Feature Selection Method : lasso\n",
      "\n",
      "Prediction : \n",
      "    id    prediction  confidence_lower  confidence_upper     charges\n",
      "0  306  42456.455117      39594.812820      45318.097413  47269.8540\n",
      "1   65  43821.715127      41747.441250      45895.989004  49577.6624\n",
      "2   45  41275.445319      36581.760211      45969.130427  40273.6455\n",
      "3  109  24875.286633      19805.671251      29944.902016  24520.2640\n",
      "4  181  42222.802902      38018.921064      46426.684741  45702.0223\n",
      "5  149  24303.288351      20536.908519      28069.668182  24180.9335\n",
      "6   17   6103.782673       4619.807335       7587.758011   5003.8530\n",
      "7   33  18672.879362      14075.065843      23270.692882  30166.6182\n",
      "8  113   4641.218062       4250.189483       5032.246641   4571.4131\n",
      "9  105   5952.451557       3690.094012       8214.809102   5354.0746\n"
     ]
    }
   ],
   "source": [
    "# Generating prediction on test data\n",
    "prediction = aml.predict(insurance_df_test)"
   ]
  },
  {
   "cell_type": "code",
   "execution_count": 22,
   "id": "cc4f6a78-1cdf-4938-a9f1-22035d8404ca",
   "metadata": {},
   "outputs": [
    {
     "data": {
      "text/html": [
       "<style type=\"text/css\">\n",
       "\ttable {border:ridge 5px;}\n",
       "\ttable td {border:inset 1px;}\n",
       "\ttable tr#HeaderRow {background-color:grey; color:white;}</style>\n",
       "<html><table>\n",
       "\t<tr id=\"HeaderRow\">\n",
       "\t\t<th>id</th>\n",
       "\t\t<th>prediction</th>\n",
       "\t\t<th>confidence_lower</th>\n",
       "\t\t<th>confidence_upper</th>\n",
       "\t\t<th>charges</th>\n",
       "\t</tr>\n",
       "\t<tr>\n",
       "\t\t<td>10</td>\n",
       "\t\t<td>42032.78608416667</td>\n",
       "\t\t<td>37189.83443313146</td>\n",
       "\t\t<td>46875.73773520188</td>\n",
       "\t\t<td>39125.3322</td>\n",
       "\t</tr>\n",
       "\t<tr>\n",
       "\t\t<td>12</td>\n",
       "\t\t<td>6434.452968767551</td>\n",
       "\t\t<td>5284.29805358905</td>\n",
       "\t\t<td>7584.607883946052</td>\n",
       "\t\t<td>5397.6167</td>\n",
       "\t</tr>\n",
       "\t<tr>\n",
       "\t\t<td>13</td>\n",
       "\t\t<td>9153.829273261365</td>\n",
       "\t\t<td>8557.430474860961</td>\n",
       "\t\t<td>9750.228071661768</td>\n",
       "\t\t<td>9290.1395</td>\n",
       "\t</tr>\n",
       "\t<tr>\n",
       "\t\t<td>14</td>\n",
       "\t\t<td>17023.53963655303</td>\n",
       "\t\t<td>12626.011226854382</td>\n",
       "\t\t<td>21421.068046251676</td>\n",
       "\t\t<td>13041.921</td>\n",
       "\t</tr>\n",
       "\t<tr>\n",
       "\t\t<td>16</td>\n",
       "\t\t<td>5729.26219002381</td>\n",
       "\t\t<td>3672.9437733456202</td>\n",
       "\t\t<td>7785.580606702</td>\n",
       "\t\t<td>3877.3043</td>\n",
       "\t</tr>\n",
       "\t<tr>\n",
       "\t\t<td>17</td>\n",
       "\t\t<td>6103.782672803571</td>\n",
       "\t\t<td>4619.807334886606</td>\n",
       "\t\t<td>7587.758010720535</td>\n",
       "\t\t<td>5003.853</td>\n",
       "\t</tr>\n",
       "\t<tr>\n",
       "\t\t<td>15</td>\n",
       "\t\t<td>5762.1926175238095</td>\n",
       "\t\t<td>3959.7609628114706</td>\n",
       "\t\t<td>7564.6242722361485</td>\n",
       "\t\t<td>5152.134</td>\n",
       "\t</tr>\n",
       "\t<tr>\n",
       "\t\t<td>11</td>\n",
       "\t\t<td>5097.544971856836</td>\n",
       "\t\t<td>2547.738434366539</td>\n",
       "\t\t<td>7647.351509347133</td>\n",
       "\t\t<td>1263.249</td>\n",
       "\t</tr>\n",
       "\t<tr>\n",
       "\t\t<td>9</td>\n",
       "\t\t<td>8495.457274636905</td>\n",
       "\t\t<td>6139.749056501987</td>\n",
       "\t\t<td>10851.165492771823</td>\n",
       "\t\t<td>5124.1887</td>\n",
       "\t</tr>\n",
       "\t<tr>\n",
       "\t\t<td>8</td>\n",
       "\t\t<td>37649.408110000004</td>\n",
       "\t\t<td>33941.768350144586</td>\n",
       "\t\t<td>41357.04786985542</td>\n",
       "\t\t<td>36085.219</td>\n",
       "\t</tr>\n",
       "</table></html>"
      ],
      "text/plain": [
       "   id    prediction  confidence_lower  confidence_upper     charges\n",
       "0  10  42032.786084      37189.834433      46875.737735  39125.3322\n",
       "1  12   6434.452969       5284.298054       7584.607884   5397.6167\n",
       "2  13   9153.829273       8557.430475       9750.228072   9290.1395\n",
       "3  14  17023.539637      12626.011227      21421.068046  13041.9210\n",
       "4  16   5729.262190       3672.943773       7785.580607   3877.3043\n",
       "5  17   6103.782673       4619.807335       7587.758011   5003.8530\n",
       "6  15   5762.192618       3959.760963       7564.624272   5152.1340\n",
       "7  11   5097.544972       2547.738434       7647.351509   1263.2490\n",
       "8   9   8495.457275       6139.749057      10851.165493   5124.1887\n",
       "9   8  37649.408110      33941.768350      41357.047870  36085.2190"
      ]
     },
     "execution_count": 22,
     "metadata": {},
     "output_type": "execute_result"
    }
   ],
   "source": [
    "# Printing prediction\n",
    "prediction.head()"
   ]
  },
  {
   "cell_type": "code",
   "execution_count": 23,
   "id": "7c885442-2556-41b8-b663-29e6df84a4a5",
   "metadata": {},
   "outputs": [
    {
     "name": "stdout",
     "output_type": "stream",
     "text": [
      "\n",
      "Skipping data transformation as data is already transformed.\n",
      "\n",
      "Following model is being picked for evaluation:\n",
      "Model ID : DECISIONFOREST_3 \n",
      "Feature Selection Method : lasso\n",
      "\n",
      "Performance Metrics : \n",
      "          MAE           MSE      MSLE      MAPE        MPE         RMSE    RMSLE            ME        R2        EV          MPD      MGD\n",
      "0  3100.62896  2.398601e+07  0.241483  43.13417 -32.224945  4897.551806  0.49141  21469.649859  0.850378  0.850813  1992.934241  0.25098\n"
     ]
    }
   ],
   "source": [
    "# Fetching evaluation on test data\n",
    "performance_metrics = aml.evaluate(insurance_df_test)"
   ]
  },
  {
   "cell_type": "code",
   "execution_count": 24,
   "id": "f859a7d0-7225-454d-a4ba-fa00d34fe142",
   "metadata": {},
   "outputs": [
    {
     "data": {
      "text/html": [
       "<style type=\"text/css\">\n",
       "\ttable {border:ridge 5px;}\n",
       "\ttable td {border:inset 1px;}\n",
       "\ttable tr#HeaderRow {background-color:grey; color:white;}</style>\n",
       "<html><table>\n",
       "\t<tr id=\"HeaderRow\">\n",
       "\t\t<th>MAE</th>\n",
       "\t\t<th>MSE</th>\n",
       "\t\t<th>MSLE</th>\n",
       "\t\t<th>MAPE</th>\n",
       "\t\t<th>MPE</th>\n",
       "\t\t<th>RMSE</th>\n",
       "\t\t<th>RMSLE</th>\n",
       "\t\t<th>ME</th>\n",
       "\t\t<th>R2</th>\n",
       "\t\t<th>EV</th>\n",
       "\t\t<th>MPD</th>\n",
       "\t\t<th>MGD</th>\n",
       "\t</tr>\n",
       "\t<tr>\n",
       "\t\t<td>3100.628960023781</td>\n",
       "\t\t<td>23986013.693712488</td>\n",
       "\t\t<td>0.24148334642312236</td>\n",
       "\t\t<td>43.13416973364617</td>\n",
       "\t\t<td>-32.22494535199111</td>\n",
       "\t\t<td>4897.551806128496</td>\n",
       "\t\t<td>0.4914095506022674</td>\n",
       "\t\t<td>21469.64985903602</td>\n",
       "\t\t<td>0.8503783196868526</td>\n",
       "\t\t<td>0.850812769850841</td>\n",
       "\t\t<td>1992.9342408016396</td>\n",
       "\t\t<td>0.2509798215570872</td>\n",
       "\t</tr>\n",
       "</table></html>"
      ],
      "text/plain": [
       "          MAE           MSE      MSLE      MAPE        MPE         RMSE    RMSLE            ME        R2        EV          MPD      MGD\n",
       "0  3100.62896  2.398601e+07  0.241483  43.13417 -32.224945  4897.551806  0.49141  21469.649859  0.850378  0.850813  1992.934241  0.25098"
      ]
     },
     "execution_count": 24,
     "metadata": {},
     "output_type": "execute_result"
    }
   ],
   "source": [
    "performance_metrics"
   ]
  },
  {
   "cell_type": "markdown",
   "id": "bc3d1948-e108-410d-9c98-2c9c347c20ec",
   "metadata": {},
   "source": [
    "## <b><span style='color:#F1A424'>| 7.</span> Deploy and Load Models : </b>"
   ]
  },
  {
   "cell_type": "markdown",
   "id": "5a12cc94-a477-4c0f-9381-4bcfbc54fb24",
   "metadata": {},
   "source": [
    "### <b><span style='color:#F1A424'>| 7.1. </span> Deploy models : </b>"
   ]
  },
  {
   "cell_type": "code",
   "execution_count": 25,
   "id": "4bed925c-2302-44eb-8aa6-8978cae9e533",
   "metadata": {},
   "outputs": [
    {
     "name": "stdout",
     "output_type": "stream",
     "text": [
      "Model Deployment Completed Successfully.\n"
     ]
    }
   ],
   "source": [
    "aml.deploy(table_name='ins_range_models', ranks=range(4,7))"
   ]
  },
  {
   "cell_type": "markdown",
   "id": "fcd54d74-8d21-4b1d-9861-c93fb237edfb",
   "metadata": {},
   "source": [
    "### <b><span style='color:#F1A424'>| 7.2. </span> Load models : </b>"
   ]
  },
  {
   "cell_type": "code",
   "execution_count": 26,
   "id": "2c22bc73-40d9-481e-9c9a-23e5b934beb8",
   "metadata": {},
   "outputs": [],
   "source": [
    "# Loading models\n",
    "\n",
    "models_1 = aml.load('ins_range_models')"
   ]
  },
  {
   "cell_type": "code",
   "execution_count": 27,
   "id": "a11476e1-38e5-4d51-a244-9305f9b1fe70",
   "metadata": {},
   "outputs": [
    {
     "data": {
      "text/html": [
       "<div>\n",
       "<style scoped>\n",
       "    .dataframe tbody tr th:only-of-type {\n",
       "        vertical-align: middle;\n",
       "    }\n",
       "\n",
       "    .dataframe tbody tr th {\n",
       "        vertical-align: top;\n",
       "    }\n",
       "\n",
       "    .dataframe thead th {\n",
       "        text-align: right;\n",
       "    }\n",
       "</style>\n",
       "<table border=\"1\" class=\"dataframe\">\n",
       "  <thead>\n",
       "    <tr style=\"text-align: right;\">\n",
       "      <th></th>\n",
       "      <th>RANK</th>\n",
       "      <th>MODEL_ID</th>\n",
       "      <th>FEATURE_SELECTION</th>\n",
       "      <th>MAE</th>\n",
       "      <th>MSE</th>\n",
       "      <th>MSLE</th>\n",
       "      <th>MAPE</th>\n",
       "      <th>MPE</th>\n",
       "      <th>RMSE</th>\n",
       "      <th>RMSLE</th>\n",
       "      <th>ME</th>\n",
       "      <th>R2</th>\n",
       "      <th>EV</th>\n",
       "      <th>MPD</th>\n",
       "      <th>MGD</th>\n",
       "      <th>DATA_TABLE</th>\n",
       "      <th>ADJUSTED_R2</th>\n",
       "    </tr>\n",
       "  </thead>\n",
       "  <tbody>\n",
       "    <tr>\n",
       "      <th>0</th>\n",
       "      <td>1</td>\n",
       "      <td>XGBOOST_1</td>\n",
       "      <td>rfe</td>\n",
       "      <td>2668.422255</td>\n",
       "      <td>2.532534e+07</td>\n",
       "      <td>0.199505</td>\n",
       "      <td>22.181357</td>\n",
       "      <td>-4.631161</td>\n",
       "      <td>5032.428554</td>\n",
       "      <td>0.446659</td>\n",
       "      <td>19249.934581</td>\n",
       "      <td>0.796462</td>\n",
       "      <td>0.801755</td>\n",
       "      <td>2307.962874</td>\n",
       "      <td>0.336576</td>\n",
       "      <td>ml__charges_rfe_1723404560060678</td>\n",
       "      <td>0.794336</td>\n",
       "    </tr>\n",
       "    <tr>\n",
       "      <th>1</th>\n",
       "      <td>2</td>\n",
       "      <td>KNN_9</td>\n",
       "      <td>lasso</td>\n",
       "      <td>2974.159143</td>\n",
       "      <td>2.607148e+07</td>\n",
       "      <td>0.199978</td>\n",
       "      <td>27.358116</td>\n",
       "      <td>-9.626668</td>\n",
       "      <td>5106.024328</td>\n",
       "      <td>0.447189</td>\n",
       "      <td>19529.044003</td>\n",
       "      <td>0.790465</td>\n",
       "      <td>0.793756</td>\n",
       "      <td>2222.172457</td>\n",
       "      <td>0.280939</td>\n",
       "      <td>ml__charges_lasso_1723400611097538</td>\n",
       "      <td>0.789277</td>\n",
       "    </tr>\n",
       "    <tr>\n",
       "      <th>2</th>\n",
       "      <td>3</td>\n",
       "      <td>KNN_0</td>\n",
       "      <td>lasso</td>\n",
       "      <td>3087.714859</td>\n",
       "      <td>2.962272e+07</td>\n",
       "      <td>0.229071</td>\n",
       "      <td>28.431382</td>\n",
       "      <td>-8.798467</td>\n",
       "      <td>5442.675972</td>\n",
       "      <td>0.478614</td>\n",
       "      <td>19826.448998</td>\n",
       "      <td>0.761924</td>\n",
       "      <td>0.765923</td>\n",
       "      <td>2537.747478</td>\n",
       "      <td>0.330693</td>\n",
       "      <td>ml__charges_lasso_1723400611097538</td>\n",
       "      <td>0.760574</td>\n",
       "    </tr>\n",
       "    <tr>\n",
       "      <th>3</th>\n",
       "      <td>4</td>\n",
       "      <td>DECISIONFOREST_1</td>\n",
       "      <td>rfe</td>\n",
       "      <td>3083.396493</td>\n",
       "      <td>3.107220e+07</td>\n",
       "      <td>0.212347</td>\n",
       "      <td>26.262703</td>\n",
       "      <td>-7.555852</td>\n",
       "      <td>5574.244104</td>\n",
       "      <td>0.460811</td>\n",
       "      <td>21811.492299</td>\n",
       "      <td>0.750275</td>\n",
       "      <td>0.753803</td>\n",
       "      <td>2535.565179</td>\n",
       "      <td>0.334727</td>\n",
       "      <td>ml__charges_rfe_1723404560060678</td>\n",
       "      <td>0.747666</td>\n",
       "    </tr>\n",
       "  </tbody>\n",
       "</table>\n",
       "</div>"
      ],
      "text/plain": [
       "   RANK          MODEL_ID FEATURE_SELECTION          MAE           MSE  \\\n",
       "0     1         XGBOOST_1               rfe  2668.422255  2.532534e+07   \n",
       "1     2             KNN_9             lasso  2974.159143  2.607148e+07   \n",
       "2     3             KNN_0             lasso  3087.714859  2.962272e+07   \n",
       "3     4  DECISIONFOREST_1               rfe  3083.396493  3.107220e+07   \n",
       "\n",
       "       MSLE       MAPE       MPE         RMSE     RMSLE            ME  \\\n",
       "0  0.199505  22.181357 -4.631161  5032.428554  0.446659  19249.934581   \n",
       "1  0.199978  27.358116 -9.626668  5106.024328  0.447189  19529.044003   \n",
       "2  0.229071  28.431382 -8.798467  5442.675972  0.478614  19826.448998   \n",
       "3  0.212347  26.262703 -7.555852  5574.244104  0.460811  21811.492299   \n",
       "\n",
       "         R2        EV          MPD       MGD  \\\n",
       "0  0.796462  0.801755  2307.962874  0.336576   \n",
       "1  0.790465  0.793756  2222.172457  0.280939   \n",
       "2  0.761924  0.765923  2537.747478  0.330693   \n",
       "3  0.750275  0.753803  2535.565179  0.334727   \n",
       "\n",
       "                           DATA_TABLE  ADJUSTED_R2  \n",
       "0    ml__charges_rfe_1723404560060678     0.794336  \n",
       "1  ml__charges_lasso_1723400611097538     0.789277  \n",
       "2  ml__charges_lasso_1723400611097538     0.760574  \n",
       "3    ml__charges_rfe_1723404560060678     0.747666  "
      ]
     },
     "execution_count": 27,
     "metadata": {},
     "output_type": "execute_result"
    }
   ],
   "source": [
    "models_1"
   ]
  },
  {
   "cell_type": "markdown",
   "id": "17cc3a4c-ea4e-4ff2-b87b-ffddc3d6e1fb",
   "metadata": {},
   "source": [
    "### <b><span style='color:#F1A424'>| 7.3. </span> Predict and evaluate using loaded models : </b>"
   ]
  },
  {
   "cell_type": "code",
   "execution_count": 30,
   "id": "5e9eb875-e1e1-437c-b54b-a227841a4cf8",
   "metadata": {},
   "outputs": [
    {
     "name": "stdout",
     "output_type": "stream",
     "text": [
      "Generating prediction using:\n",
      "Model Name: XGBOOST\n",
      "Feature Selection: rfe\n"
     ]
    }
   ],
   "source": [
    "prediction = aml.predict(insurance_df_test, use_loaded_models=True)"
   ]
  },
  {
   "cell_type": "code",
   "execution_count": 31,
   "id": "624df440-a638-4ad1-8388-f2bf38aa9c8f",
   "metadata": {},
   "outputs": [
    {
     "data": {
      "text/html": [
       "<style type=\"text/css\">\n",
       "\ttable {border:ridge 5px;}\n",
       "\ttable td {border:inset 1px;}\n",
       "\ttable tr#HeaderRow {background-color:grey; color:white;}</style>\n",
       "<html><table>\n",
       "\t<tr id=\"HeaderRow\">\n",
       "\t\t<th>id</th>\n",
       "\t\t<th>Prediction</th>\n",
       "\t\t<th>Confidence_Lower</th>\n",
       "\t\t<th>Confidence_upper</th>\n",
       "\t\t<th>charges</th>\n",
       "\t</tr>\n",
       "\t<tr>\n",
       "\t\t<td>10</td>\n",
       "\t\t<td>38449.922177</td>\n",
       "\t\t<td>38449.922177</td>\n",
       "\t\t<td>38449.922177</td>\n",
       "\t\t<td>39125.3322</td>\n",
       "\t</tr>\n",
       "\t<tr>\n",
       "\t\t<td>12</td>\n",
       "\t\t<td>6185.94562</td>\n",
       "\t\t<td>6185.94562</td>\n",
       "\t\t<td>6185.94562</td>\n",
       "\t\t<td>5397.6167</td>\n",
       "\t</tr>\n",
       "\t<tr>\n",
       "\t\t<td>13</td>\n",
       "\t\t<td>10702.997376</td>\n",
       "\t\t<td>10702.997376</td>\n",
       "\t\t<td>10702.997376</td>\n",
       "\t\t<td>9290.1395</td>\n",
       "\t</tr>\n",
       "\t<tr>\n",
       "\t\t<td>14</td>\n",
       "\t\t<td>13888.638177999997</td>\n",
       "\t\t<td>13888.638177999997</td>\n",
       "\t\t<td>13888.638177999997</td>\n",
       "\t\t<td>13041.921</td>\n",
       "\t</tr>\n",
       "\t<tr>\n",
       "\t\t<td>16</td>\n",
       "\t\t<td>5109.670029</td>\n",
       "\t\t<td>5109.670029</td>\n",
       "\t\t<td>5109.670029</td>\n",
       "\t\t<td>3877.3043</td>\n",
       "\t</tr>\n",
       "\t<tr>\n",
       "\t\t<td>17</td>\n",
       "\t\t<td>5262.807331999999</td>\n",
       "\t\t<td>5262.807331999999</td>\n",
       "\t\t<td>5262.807331999999</td>\n",
       "\t\t<td>5003.853</td>\n",
       "\t</tr>\n",
       "\t<tr>\n",
       "\t\t<td>15</td>\n",
       "\t\t<td>7233.995158999999</td>\n",
       "\t\t<td>7233.995158999999</td>\n",
       "\t\t<td>7233.995158999999</td>\n",
       "\t\t<td>5152.134</td>\n",
       "\t</tr>\n",
       "\t<tr>\n",
       "\t\t<td>11</td>\n",
       "\t\t<td>1902.108858</td>\n",
       "\t\t<td>1902.108858</td>\n",
       "\t\t<td>1902.108858</td>\n",
       "\t\t<td>1263.249</td>\n",
       "\t</tr>\n",
       "\t<tr>\n",
       "\t\t<td>9</td>\n",
       "\t\t<td>6028.903419</td>\n",
       "\t\t<td>6028.903419</td>\n",
       "\t\t<td>6028.903419</td>\n",
       "\t\t<td>5124.1887</td>\n",
       "\t</tr>\n",
       "\t<tr>\n",
       "\t\t<td>8</td>\n",
       "\t\t<td>34441.198294</td>\n",
       "\t\t<td>34441.198294</td>\n",
       "\t\t<td>34441.198294</td>\n",
       "\t\t<td>36085.219</td>\n",
       "\t</tr>\n",
       "</table></html>"
      ],
      "text/plain": [
       "   id    Prediction  Confidence_Lower  Confidence_upper     charges\n",
       "0  10  38449.922177      38449.922177      38449.922177  39125.3322\n",
       "1  12   6185.945620       6185.945620       6185.945620   5397.6167\n",
       "2  13  10702.997376      10702.997376      10702.997376   9290.1395\n",
       "3  14  13888.638178      13888.638178      13888.638178  13041.9210\n",
       "4  16   5109.670029       5109.670029       5109.670029   3877.3043\n",
       "5  17   5262.807332       5262.807332       5262.807332   5003.8530\n",
       "6  15   7233.995159       7233.995159       7233.995159   5152.1340\n",
       "7  11   1902.108858       1902.108858       1902.108858   1263.2490\n",
       "8   9   6028.903419       6028.903419       6028.903419   5124.1887\n",
       "9   8  34441.198294      34441.198294      34441.198294  36085.2190"
      ]
     },
     "execution_count": 31,
     "metadata": {},
     "output_type": "execute_result"
    }
   ],
   "source": [
    "prediction.head()"
   ]
  },
  {
   "cell_type": "code",
   "execution_count": 32,
   "id": "b280c3da-db11-4c8a-9daf-f831f9331297",
   "metadata": {},
   "outputs": [
    {
     "name": "stdout",
     "output_type": "stream",
     "text": [
      "Generating performance metrics using:\n",
      "Model Name: XGBOOST\n",
      "Feature Selection: rfe\n"
     ]
    }
   ],
   "source": [
    "performance_metrics = aml.evaluate(insurance_df_test, use_loaded_models=True)"
   ]
  },
  {
   "cell_type": "code",
   "execution_count": 33,
   "id": "b4ba6178-d3dd-41bd-a872-2bd914958de5",
   "metadata": {},
   "outputs": [
    {
     "data": {
      "text/plain": [
       "\n",
       "############ result Output ############\n",
       "\n",
       "           MAE           MSE      MSLE       MAPE        MPE         RMSE     RMSLE            ME        R2        EV  MPD  MGD\n",
       "0  2574.275102  2.588786e+07  0.237163  31.468026 -17.706257  5088.011741  0.486994  27078.748073  0.838515  0.838685  NaN  NaN\n"
      ]
     },
     "execution_count": 33,
     "metadata": {},
     "output_type": "execute_result"
    }
   ],
   "source": [
    "performance_metrics"
   ]
  },
  {
   "cell_type": "code",
   "execution_count": 34,
   "id": "b2cba357-75ac-4089-a234-64a57067b117",
   "metadata": {},
   "outputs": [
    {
     "data": {
      "text/plain": [
       "True"
      ]
     },
     "execution_count": 34,
     "metadata": {},
     "output_type": "execute_result"
    }
   ],
   "source": [
    "remove_context()"
   ]
  }
 ],
 "metadata": {
  "kernelspec": {
   "display_name": "Python 3 (ipykernel)",
   "language": "python",
   "name": "python3"
  },
  "language_info": {
   "codemirror_mode": {
    "name": "ipython",
    "version": 3
   },
   "file_extension": ".py",
   "mimetype": "text/x-python",
   "name": "python",
   "nbconvert_exporter": "python",
   "pygments_lexer": "ipython3",
   "version": "3.10.9"
  }
 },
 "nbformat": 4,
 "nbformat_minor": 5
}
