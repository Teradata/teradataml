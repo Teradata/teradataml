{
 "cells": [
  {
   "cell_type": "markdown",
   "id": "2762f1d8-5a66-411f-a625-34cf16ac6dd3",
   "metadata": {},
   "source": [
    "# <b><span style='color:#F1A424'>AutoML - Regression - Medical Insurance Charges Prediction</span> </b>"
   ]
  },
  {
   "cell_type": "markdown",
   "id": "2ef8d58a-7e0d-489d-a068-cb37e99cfb57",
   "metadata": {},
   "source": [
    "### Disclaimer\n",
    "Please note, the Vantage Functions via SQLAlchemy feature is a preview/beta code release with limited functionality (the “Code”). As such, you acknowledge that the Code is experimental in nature and that the Code is provided “AS IS” and may not be functional on any machine or in any environment. TERADATA DISCLAIMS ALL WARRANTIES RELATING TO THE CODE, EXPRESS OR IMPLIED, INCLUDING, BUT NOT LIMITED TO, ANY WARRANTIES AGAINST INFRINGEMENT OF THIRD-PARTY RIGHTS, MERCHANTABILITY AND FITNESS FOR A PARTICULAR PURPOSE.\n",
    "\n",
    "TERADATA SHALL NOT BE RESPONSIBLE OR LIABLE WITH RESPECT TO ANY SUBJECT MATTER OF THE CODE UNDER ANY CONTRACT, NEGLIGENCE, STRICT LIABILITY OR OTHER THEORY \n",
    "    (A) FOR LOSS OR INACCURACY OF DATA OR COST OF PROCUREMENT OF SUBSTITUTE GOODS, SERVICES OR TECHNOLOGY, OR \n",
    "    (B) FOR ANY INDIRECT, INCIDENTAL OR CONSEQUENTIAL DAMAGES INCLUDING, BUT NOT LIMITED TO LOSS OF REVENUES AND LOSS OF PROFITS. TERADATA SHALL NOT BE RESPONSIBLE FOR ANY MATTER BEYOND ITS REASONABLE CONTROL.\n",
    "\n",
    "Notwithstanding anything to the contrary: \n",
    "    (a) Teradata will have no obligation of any kind with respect to any Code-related comments, suggestions, design changes or improvements that you elect to provide to Teradata in either verbal or written form (collectively, “Feedback”), and \n",
    "    (b) Teradata and its affiliates are hereby free to use any ideas, concepts, know-how or techniques, in whole or in part, contained in Feedback: \n",
    "        (i) for any purpose whatsoever, including developing, manufacturing, and/or marketing products and/or services incorporating Feedback in whole or in part, and \n",
    "        (ii) without any restrictions or limitations, including requiring the payment of any license fees, royalties, or other consideration. "
   ]
  },
  {
   "cell_type": "markdown",
   "id": "f225fb94-b2c8-4c92-af38-733d08e0e2a1",
   "metadata": {},
   "source": [
    "## <b> Problem overview:</b>\n",
    "    "
   ]
  },
  {
   "cell_type": "markdown",
   "id": "af9813eb-9c44-4968-a5fe-d1c74415c894",
   "metadata": {},
   "source": [
    "**Dataset Used : Medical insurance Dataset**\n",
    "\n",
    "**Features**:\n",
    "\n",
    "- `Age`: The insured person's age.\n",
    "- `Sex`: Gender (male or female) of the insured.\n",
    "- `BMI (Body Mass Index)`: A measure of body fat based on height and weight.\n",
    "- `Children`: The number of dependents covered.\n",
    "- `Smoker`: Whether the insured is a smoker (yes or no).\n",
    "- `Region`: The geographic area of coverage.\n",
    "\n",
    "**Target Variable**:\n",
    "\n",
    "- `Charges`: The medical insurance costs incurred by the insured person.\n",
    "    \n",
    "**Objective**:\n",
    "\n",
    "The primary objective is typically to build a model that can accurately predict medical insurance costs incurred by the insured person.\n",
    "\n",
    "**Usecase**:\n",
    "\n",
    "Here, we will use AutoML(Automated Machine Learning) functionality to automate the entire process of developing a predictive model. It will perform feature exploration, feature engineering, data preparation, model training and evaluation on dataset in auto run and at end we will get leaderboard containined different models along with their performance. Model will also have rank associated with them which indicates which is best performing model for given data followed by other models."
   ]
  },
  {
   "cell_type": "code",
   "execution_count": 1,
   "id": "66568348-4d00-477c-a071-17995f797c95",
   "metadata": {},
   "outputs": [],
   "source": [
    "# Importing AutoML from teradataml\n",
    "from teradataml import AutoML, AutoRegressor"
   ]
  },
  {
   "cell_type": "code",
   "execution_count": 2,
   "id": "17dfae70-0401-4cc4-ba1c-400a5cf62451",
   "metadata": {},
   "outputs": [],
   "source": [
    "# Importing other important libraries\n",
    "import getpass\n",
    "from teradataml import create_context, remove_context\n",
    "from teradataml import DataFrame\n",
    "from teradataml import load_example_data\n",
    "from teradataml import TrainTestSplit"
   ]
  },
  {
   "cell_type": "code",
   "execution_count": null,
   "id": "cadd9ed2-42d6-4899-b23e-4e2cf601162f",
   "metadata": {},
   "outputs": [
    {
     "name": "stdin",
     "output_type": "stream",
     "text": [
      "Host:  ········\n",
      "Username:  ········\n",
      "Password:  ········\n"
     ]
    }
   ],
   "source": [
    "# Create the connection.\n",
    "host = getpass.getpass(\"Host: \")\n",
    "username = getpass.getpass(\"Username: \")\n",
    "password = getpass.getpass(\"Password: \")\n",
    "\n",
    "con = create_context(host=host, username=username, password=password)"
   ]
  },
  {
   "cell_type": "markdown",
   "id": "be767a89-d5b8-4876-91cb-36980754586e",
   "metadata": {},
   "source": [
    "## <b><span style='color:#F1A424'>| 1.</span> Loading Dataset </b>"
   ]
  },
  {
   "cell_type": "code",
   "execution_count": 4,
   "id": "f1592c52-b247-4792-be2a-30b49bbeb9b6",
   "metadata": {},
   "outputs": [],
   "source": [
    "# Loading dataset from example data collection\n",
    "load_example_data('teradataml','insurance')"
   ]
  },
  {
   "cell_type": "code",
   "execution_count": 5,
   "id": "3846ae0f-004b-4b8e-9fea-06fac4294065",
   "metadata": {},
   "outputs": [],
   "source": [
    "# Fetching in teradata dataframe\n",
    "insurance_df = DataFrame(\"insurance\")"
   ]
  },
  {
   "cell_type": "code",
   "execution_count": 6,
   "id": "442ccd80-b444-413e-970d-d855ec3d6cae",
   "metadata": {},
   "outputs": [
    {
     "data": {
      "text/html": [
       "<style type=\"text/css\">\n",
       "\ttable {border:ridge 5px;}\n",
       "\ttable td {border:inset 1px;}\n",
       "\ttable tr#HeaderRow {background-color:grey; color:white;}</style>\n",
       "<html><table>\n",
       "\t<tr id=\"HeaderRow\">\n",
       "\t\t<th>age</th>\n",
       "\t\t<th>sex</th>\n",
       "\t\t<th>bmi</th>\n",
       "\t\t<th>children</th>\n",
       "\t\t<th>smoker</th>\n",
       "\t\t<th>region</th>\n",
       "\t\t<th>charges</th>\n",
       "\t</tr>\n",
       "\t<tr>\n",
       "\t\t<td>18</td>\n",
       "\t\t<td>male</td>\n",
       "\t\t<td>30.4</td>\n",
       "\t\t<td>3</td>\n",
       "\t\t<td>no</td>\n",
       "\t\t<td>northeast</td>\n",
       "\t\t<td>3481.868</td>\n",
       "\t</tr>\n",
       "\t<tr>\n",
       "\t\t<td>18</td>\n",
       "\t\t<td>female</td>\n",
       "\t\t<td>24.09</td>\n",
       "\t\t<td>1</td>\n",
       "\t\t<td>no</td>\n",
       "\t\t<td>southeast</td>\n",
       "\t\t<td>2201.0971</td>\n",
       "\t</tr>\n",
       "\t<tr>\n",
       "\t\t<td>18</td>\n",
       "\t\t<td>female</td>\n",
       "\t\t<td>40.26</td>\n",
       "\t\t<td>0</td>\n",
       "\t\t<td>no</td>\n",
       "\t\t<td>southeast</td>\n",
       "\t\t<td>1634.5734</td>\n",
       "\t</tr>\n",
       "\t<tr>\n",
       "\t\t<td>18</td>\n",
       "\t\t<td>female</td>\n",
       "\t\t<td>42.24</td>\n",
       "\t\t<td>0</td>\n",
       "\t\t<td>yes</td>\n",
       "\t\t<td>southeast</td>\n",
       "\t\t<td>38792.6856</td>\n",
       "\t</tr>\n",
       "\t<tr>\n",
       "\t\t<td>18</td>\n",
       "\t\t<td>male</td>\n",
       "\t\t<td>27.36</td>\n",
       "\t\t<td>1</td>\n",
       "\t\t<td>yes</td>\n",
       "\t\t<td>northeast</td>\n",
       "\t\t<td>17178.6824</td>\n",
       "\t</tr>\n",
       "\t<tr>\n",
       "\t\t<td>18</td>\n",
       "\t\t<td>female</td>\n",
       "\t\t<td>26.73</td>\n",
       "\t\t<td>0</td>\n",
       "\t\t<td>no</td>\n",
       "\t\t<td>southeast</td>\n",
       "\t\t<td>1615.7667</td>\n",
       "\t</tr>\n",
       "\t<tr>\n",
       "\t\t<td>18</td>\n",
       "\t\t<td>female</td>\n",
       "\t\t<td>31.35</td>\n",
       "\t\t<td>0</td>\n",
       "\t\t<td>no</td>\n",
       "\t\t<td>southeast</td>\n",
       "\t\t<td>1622.1885</td>\n",
       "\t</tr>\n",
       "\t<tr>\n",
       "\t\t<td>18</td>\n",
       "\t\t<td>male</td>\n",
       "\t\t<td>23.75</td>\n",
       "\t\t<td>0</td>\n",
       "\t\t<td>no</td>\n",
       "\t\t<td>northeast</td>\n",
       "\t\t<td>1705.6245</td>\n",
       "\t</tr>\n",
       "\t<tr>\n",
       "\t\t<td>18</td>\n",
       "\t\t<td>male</td>\n",
       "\t\t<td>22.99</td>\n",
       "\t\t<td>0</td>\n",
       "\t\t<td>no</td>\n",
       "\t\t<td>northeast</td>\n",
       "\t\t<td>1704.5681</td>\n",
       "\t</tr>\n",
       "\t<tr>\n",
       "\t\t<td>18</td>\n",
       "\t\t<td>male</td>\n",
       "\t\t<td>30.14</td>\n",
       "\t\t<td>0</td>\n",
       "\t\t<td>no</td>\n",
       "\t\t<td>southeast</td>\n",
       "\t\t<td>1131.5066</td>\n",
       "\t</tr>\n",
       "</table></html>"
      ],
      "text/plain": [
       "        sex    bmi  children smoker     region     charges\n",
       "age                                                       \n",
       "18     male  30.40         3     no  northeast   3481.8680\n",
       "18   female  24.09         1     no  southeast   2201.0971\n",
       "18   female  40.26         0     no  southeast   1634.5734\n",
       "18   female  42.24         0    yes  southeast  38792.6856\n",
       "18     male  27.36         1    yes  northeast  17178.6824\n",
       "18   female  26.73         0     no  southeast   1615.7667\n",
       "18   female  31.35         0     no  southeast   1622.1885\n",
       "18     male  23.75         0     no  northeast   1705.6245\n",
       "18     male  22.99         0     no  northeast   1704.5681\n",
       "18     male  30.14         0     no  southeast   1131.5066"
      ]
     },
     "execution_count": 6,
     "metadata": {},
     "output_type": "execute_result"
    }
   ],
   "source": [
    "# first 5 rows\n",
    "insurance_df.head()"
   ]
  },
  {
   "cell_type": "code",
   "execution_count": 7,
   "id": "636c220d-d12f-4ea5-ab2b-c9203ef00d49",
   "metadata": {},
   "outputs": [
    {
     "data": {
      "text/plain": [
       "(1338, 7)"
      ]
     },
     "execution_count": 7,
     "metadata": {},
     "output_type": "execute_result"
    }
   ],
   "source": [
    "# insurance_df dataset\n",
    "insurance_df.shape"
   ]
  },
  {
   "cell_type": "code",
   "execution_count": 8,
   "id": "e5d1fad7-8784-4d7a-be1f-7be1d3991d8f",
   "metadata": {},
   "outputs": [],
   "source": [
    "# Performing sampling to get 80% for trainning and 20% for testing\n",
    "insurance_df_sample = insurance_df.sample(frac = [0.8, 0.2])"
   ]
  },
  {
   "cell_type": "code",
   "execution_count": 9,
   "id": "a0e6891a-1b7e-4bac-97c8-350ba5f5bde4",
   "metadata": {},
   "outputs": [
    {
     "data": {
      "text/html": [
       "<style type=\"text/css\">\n",
       "\ttable {border:ridge 5px;}\n",
       "\ttable td {border:inset 1px;}\n",
       "\ttable tr#HeaderRow {background-color:grey; color:white;}</style>\n",
       "<html><table>\n",
       "\t<tr id=\"HeaderRow\">\n",
       "\t\t<th>age</th>\n",
       "\t\t<th>sex</th>\n",
       "\t\t<th>bmi</th>\n",
       "\t\t<th>children</th>\n",
       "\t\t<th>smoker</th>\n",
       "\t\t<th>region</th>\n",
       "\t\t<th>charges</th>\n",
       "\t\t<th>sampleid</th>\n",
       "\t</tr>\n",
       "\t<tr>\n",
       "\t\t<td>18</td>\n",
       "\t\t<td>male</td>\n",
       "\t\t<td>43.01</td>\n",
       "\t\t<td>0</td>\n",
       "\t\t<td>no</td>\n",
       "\t\t<td>southeast</td>\n",
       "\t\t<td>1149.3959</td>\n",
       "\t\t<td>1</td>\n",
       "\t</tr>\n",
       "\t<tr>\n",
       "\t\t<td>18</td>\n",
       "\t\t<td>female</td>\n",
       "\t\t<td>31.13</td>\n",
       "\t\t<td>0</td>\n",
       "\t\t<td>no</td>\n",
       "\t\t<td>southeast</td>\n",
       "\t\t<td>1621.8827</td>\n",
       "\t\t<td>1</td>\n",
       "\t</tr>\n",
       "\t<tr>\n",
       "\t\t<td>18</td>\n",
       "\t\t<td>female</td>\n",
       "\t\t<td>42.24</td>\n",
       "\t\t<td>0</td>\n",
       "\t\t<td>yes</td>\n",
       "\t\t<td>southeast</td>\n",
       "\t\t<td>38792.6856</td>\n",
       "\t\t<td>1</td>\n",
       "\t</tr>\n",
       "\t<tr>\n",
       "\t\t<td>18</td>\n",
       "\t\t<td>male</td>\n",
       "\t\t<td>34.1</td>\n",
       "\t\t<td>0</td>\n",
       "\t\t<td>no</td>\n",
       "\t\t<td>southeast</td>\n",
       "\t\t<td>1137.011</td>\n",
       "\t\t<td>1</td>\n",
       "\t</tr>\n",
       "\t<tr>\n",
       "\t\t<td>18</td>\n",
       "\t\t<td>male</td>\n",
       "\t\t<td>28.31</td>\n",
       "\t\t<td>1</td>\n",
       "\t\t<td>no</td>\n",
       "\t\t<td>northeast</td>\n",
       "\t\t<td>11272.33139</td>\n",
       "\t\t<td>1</td>\n",
       "\t</tr>\n",
       "\t<tr>\n",
       "\t\t<td>18</td>\n",
       "\t\t<td>male</td>\n",
       "\t\t<td>53.13</td>\n",
       "\t\t<td>0</td>\n",
       "\t\t<td>no</td>\n",
       "\t\t<td>southeast</td>\n",
       "\t\t<td>1163.4627</td>\n",
       "\t\t<td>1</td>\n",
       "\t</tr>\n",
       "\t<tr>\n",
       "\t\t<td>18</td>\n",
       "\t\t<td>male</td>\n",
       "\t\t<td>38.17</td>\n",
       "\t\t<td>0</td>\n",
       "\t\t<td>yes</td>\n",
       "\t\t<td>southeast</td>\n",
       "\t\t<td>36307.7983</td>\n",
       "\t\t<td>1</td>\n",
       "\t</tr>\n",
       "\t<tr>\n",
       "\t\t<td>18</td>\n",
       "\t\t<td>male</td>\n",
       "\t\t<td>33.33</td>\n",
       "\t\t<td>0</td>\n",
       "\t\t<td>no</td>\n",
       "\t\t<td>southeast</td>\n",
       "\t\t<td>1135.9407</td>\n",
       "\t\t<td>1</td>\n",
       "\t</tr>\n",
       "\t<tr>\n",
       "\t\t<td>18</td>\n",
       "\t\t<td>male</td>\n",
       "\t\t<td>25.175</td>\n",
       "\t\t<td>0</td>\n",
       "\t\t<td>yes</td>\n",
       "\t\t<td>northeast</td>\n",
       "\t\t<td>15518.18025</td>\n",
       "\t\t<td>2</td>\n",
       "\t</tr>\n",
       "\t<tr>\n",
       "\t\t<td>18</td>\n",
       "\t\t<td>female</td>\n",
       "\t\t<td>30.115</td>\n",
       "\t\t<td>0</td>\n",
       "\t\t<td>no</td>\n",
       "\t\t<td>northeast</td>\n",
       "\t\t<td>21344.8467</td>\n",
       "\t\t<td>1</td>\n",
       "\t</tr>\n",
       "</table></html>"
      ],
      "text/plain": [
       "        sex     bmi  children smoker     region      charges  sampleid\n",
       "age                                                                   \n",
       "18     male  43.010         0     no  southeast   1149.39590         1\n",
       "18   female  31.130         0     no  southeast   1621.88270         1\n",
       "18   female  42.240         0    yes  southeast  38792.68560         1\n",
       "18     male  34.100         0     no  southeast   1137.01100         1\n",
       "18     male  28.310         1     no  northeast  11272.33139         1\n",
       "18     male  53.130         0     no  southeast   1163.46270         1\n",
       "18     male  38.170         0    yes  southeast  36307.79830         1\n",
       "18     male  33.330         0     no  southeast   1135.94070         1\n",
       "18     male  25.175         0    yes  northeast  15518.18025         2\n",
       "18   female  30.115         0     no  northeast  21344.84670         1"
      ]
     },
     "execution_count": 9,
     "metadata": {},
     "output_type": "execute_result"
    }
   ],
   "source": [
    "insurance_df_sample.head()"
   ]
  },
  {
   "cell_type": "code",
   "execution_count": 10,
   "id": "5e3e5923-18ad-4cf6-b4e5-e87f8854700b",
   "metadata": {},
   "outputs": [],
   "source": [
    "# Fetching train and test data\n",
    "insurance_df_train= insurance_df_sample[insurance_df_sample['sampleid'] == 1].drop('sampleid', axis=1)\n",
    "insurance_df_test = insurance_df_sample[insurance_df_sample['sampleid'] == 2].drop('sampleid', axis=1)"
   ]
  },
  {
   "cell_type": "code",
   "execution_count": 11,
   "id": "83d72a72-3fac-4862-b374-d21ab59be1a6",
   "metadata": {},
   "outputs": [
    {
     "data": {
      "text/plain": [
       "(1070, 7)"
      ]
     },
     "execution_count": 11,
     "metadata": {},
     "output_type": "execute_result"
    }
   ],
   "source": [
    "# train data shape\n",
    "insurance_df_train.shape"
   ]
  },
  {
   "cell_type": "code",
   "execution_count": 12,
   "id": "b22be730-8a7a-40f3-8e2a-cabd8d1f427f",
   "metadata": {},
   "outputs": [
    {
     "data": {
      "text/plain": [
       "(268, 7)"
      ]
     },
     "execution_count": 12,
     "metadata": {},
     "output_type": "execute_result"
    }
   ],
   "source": [
    "# test data shape\n",
    "insurance_df_test.shape"
   ]
  },
  {
   "cell_type": "code",
   "execution_count": 13,
   "id": "18473df2-be15-4e1e-bc5e-739abacf8b89",
   "metadata": {},
   "outputs": [
    {
     "data": {
      "text/html": [
       "<style type=\"text/css\">\n",
       "\ttable {border:ridge 5px;}\n",
       "\ttable td {border:inset 1px;}\n",
       "\ttable tr#HeaderRow {background-color:grey; color:white;}</style>\n",
       "<html><table>\n",
       "\t<tr id=\"HeaderRow\">\n",
       "\t\t<th>age</th>\n",
       "\t\t<th>sex</th>\n",
       "\t\t<th>bmi</th>\n",
       "\t\t<th>children</th>\n",
       "\t\t<th>smoker</th>\n",
       "\t\t<th>region</th>\n",
       "\t\t<th>charges</th>\n",
       "\t</tr>\n",
       "\t<tr>\n",
       "\t\t<td>18</td>\n",
       "\t\t<td>female</td>\n",
       "\t\t<td>28.215</td>\n",
       "\t\t<td>0</td>\n",
       "\t\t<td>no</td>\n",
       "\t\t<td>northeast</td>\n",
       "\t\t<td>2200.83085</td>\n",
       "\t</tr>\n",
       "\t<tr>\n",
       "\t\t<td>18</td>\n",
       "\t\t<td>male</td>\n",
       "\t\t<td>21.78</td>\n",
       "\t\t<td>2</td>\n",
       "\t\t<td>no</td>\n",
       "\t\t<td>southeast</td>\n",
       "\t\t<td>11884.04858</td>\n",
       "\t</tr>\n",
       "\t<tr>\n",
       "\t\t<td>18</td>\n",
       "\t\t<td>female</td>\n",
       "\t\t<td>31.35</td>\n",
       "\t\t<td>0</td>\n",
       "\t\t<td>no</td>\n",
       "\t\t<td>southeast</td>\n",
       "\t\t<td>1622.1885</td>\n",
       "\t</tr>\n",
       "\t<tr>\n",
       "\t\t<td>18</td>\n",
       "\t\t<td>male</td>\n",
       "\t\t<td>23.75</td>\n",
       "\t\t<td>0</td>\n",
       "\t\t<td>no</td>\n",
       "\t\t<td>northeast</td>\n",
       "\t\t<td>1705.6245</td>\n",
       "\t</tr>\n",
       "\t<tr>\n",
       "\t\t<td>18</td>\n",
       "\t\t<td>male</td>\n",
       "\t\t<td>22.99</td>\n",
       "\t\t<td>0</td>\n",
       "\t\t<td>no</td>\n",
       "\t\t<td>northeast</td>\n",
       "\t\t<td>1704.5681</td>\n",
       "\t</tr>\n",
       "\t<tr>\n",
       "\t\t<td>18</td>\n",
       "\t\t<td>male</td>\n",
       "\t\t<td>38.17</td>\n",
       "\t\t<td>0</td>\n",
       "\t\t<td>yes</td>\n",
       "\t\t<td>southeast</td>\n",
       "\t\t<td>36307.7983</td>\n",
       "\t</tr>\n",
       "\t<tr>\n",
       "\t\t<td>18</td>\n",
       "\t\t<td>male</td>\n",
       "\t\t<td>39.14</td>\n",
       "\t\t<td>0</td>\n",
       "\t\t<td>no</td>\n",
       "\t\t<td>northeast</td>\n",
       "\t\t<td>12890.05765</td>\n",
       "\t</tr>\n",
       "\t<tr>\n",
       "\t\t<td>18</td>\n",
       "\t\t<td>female</td>\n",
       "\t\t<td>26.73</td>\n",
       "\t\t<td>0</td>\n",
       "\t\t<td>no</td>\n",
       "\t\t<td>southeast</td>\n",
       "\t\t<td>1615.7667</td>\n",
       "\t</tr>\n",
       "\t<tr>\n",
       "\t\t<td>18</td>\n",
       "\t\t<td>female</td>\n",
       "\t\t<td>21.66</td>\n",
       "\t\t<td>0</td>\n",
       "\t\t<td>yes</td>\n",
       "\t\t<td>northeast</td>\n",
       "\t\t<td>14283.4594</td>\n",
       "\t</tr>\n",
       "\t<tr>\n",
       "\t\t<td>18</td>\n",
       "\t\t<td>female</td>\n",
       "\t\t<td>20.79</td>\n",
       "\t\t<td>0</td>\n",
       "\t\t<td>no</td>\n",
       "\t\t<td>southeast</td>\n",
       "\t\t<td>1607.5101</td>\n",
       "\t</tr>\n",
       "</table></html>"
      ],
      "text/plain": [
       "        sex     bmi  children smoker     region      charges\n",
       "age                                                         \n",
       "18   female  28.215         0     no  northeast   2200.83085\n",
       "18     male  21.780         2     no  southeast  11884.04858\n",
       "18   female  31.350         0     no  southeast   1622.18850\n",
       "18     male  23.750         0     no  northeast   1705.62450\n",
       "18     male  22.990         0     no  northeast   1704.56810\n",
       "18     male  38.170         0    yes  southeast  36307.79830\n",
       "18     male  39.140         0     no  northeast  12890.05765\n",
       "18   female  26.730         0     no  southeast   1615.76670\n",
       "18   female  21.660         0    yes  northeast  14283.45940\n",
       "18   female  20.790         0     no  southeast   1607.51010"
      ]
     },
     "execution_count": 13,
     "metadata": {},
     "output_type": "execute_result"
    }
   ],
   "source": [
    "#train dataset\n",
    "insurance_df_train.head()"
   ]
  },
  {
   "cell_type": "code",
   "execution_count": 14,
   "id": "58c9d763-4f19-449e-a35b-676d4d026acc",
   "metadata": {},
   "outputs": [
    {
     "data": {
      "text/html": [
       "<style type=\"text/css\">\n",
       "\ttable {border:ridge 5px;}\n",
       "\ttable td {border:inset 1px;}\n",
       "\ttable tr#HeaderRow {background-color:grey; color:white;}</style>\n",
       "<html><table>\n",
       "\t<tr id=\"HeaderRow\">\n",
       "\t\t<th>age</th>\n",
       "\t\t<th>sex</th>\n",
       "\t\t<th>bmi</th>\n",
       "\t\t<th>children</th>\n",
       "\t\t<th>smoker</th>\n",
       "\t\t<th>region</th>\n",
       "\t\t<th>charges</th>\n",
       "\t</tr>\n",
       "\t<tr>\n",
       "\t\t<td>18</td>\n",
       "\t\t<td>male</td>\n",
       "\t\t<td>28.5</td>\n",
       "\t\t<td>0</td>\n",
       "\t\t<td>no</td>\n",
       "\t\t<td>northeast</td>\n",
       "\t\t<td>1712.227</td>\n",
       "\t</tr>\n",
       "\t<tr>\n",
       "\t\t<td>18</td>\n",
       "\t\t<td>male</td>\n",
       "\t\t<td>26.18</td>\n",
       "\t\t<td>2</td>\n",
       "\t\t<td>no</td>\n",
       "\t\t<td>southeast</td>\n",
       "\t\t<td>2304.0022</td>\n",
       "\t</tr>\n",
       "\t<tr>\n",
       "\t\t<td>18</td>\n",
       "\t\t<td>female</td>\n",
       "\t\t<td>33.88</td>\n",
       "\t\t<td>0</td>\n",
       "\t\t<td>no</td>\n",
       "\t\t<td>southeast</td>\n",
       "\t\t<td>11482.63485</td>\n",
       "\t</tr>\n",
       "\t<tr>\n",
       "\t\t<td>18</td>\n",
       "\t\t<td>female</td>\n",
       "\t\t<td>31.92</td>\n",
       "\t\t<td>0</td>\n",
       "\t\t<td>no</td>\n",
       "\t\t<td>northeast</td>\n",
       "\t\t<td>2205.9808</td>\n",
       "\t</tr>\n",
       "\t<tr>\n",
       "\t\t<td>18</td>\n",
       "\t\t<td>male</td>\n",
       "\t\t<td>25.175</td>\n",
       "\t\t<td>0</td>\n",
       "\t\t<td>yes</td>\n",
       "\t\t<td>northeast</td>\n",
       "\t\t<td>15518.18025</td>\n",
       "\t</tr>\n",
       "\t<tr>\n",
       "\t\t<td>18</td>\n",
       "\t\t<td>male</td>\n",
       "\t\t<td>33.66</td>\n",
       "\t\t<td>0</td>\n",
       "\t\t<td>no</td>\n",
       "\t\t<td>southeast</td>\n",
       "\t\t<td>1136.3994</td>\n",
       "\t</tr>\n",
       "\t<tr>\n",
       "\t\t<td>18</td>\n",
       "\t\t<td>female</td>\n",
       "\t\t<td>26.315</td>\n",
       "\t\t<td>0</td>\n",
       "\t\t<td>no</td>\n",
       "\t\t<td>northeast</td>\n",
       "\t\t<td>2198.18985</td>\n",
       "\t</tr>\n",
       "\t<tr>\n",
       "\t\t<td>18</td>\n",
       "\t\t<td>female</td>\n",
       "\t\t<td>37.29</td>\n",
       "\t\t<td>1</td>\n",
       "\t\t<td>no</td>\n",
       "\t\t<td>southeast</td>\n",
       "\t\t<td>2219.4451</td>\n",
       "\t</tr>\n",
       "\t<tr>\n",
       "\t\t<td>18</td>\n",
       "\t\t<td>female</td>\n",
       "\t\t<td>38.17</td>\n",
       "\t\t<td>0</td>\n",
       "\t\t<td>no</td>\n",
       "\t\t<td>southeast</td>\n",
       "\t\t<td>1631.6683</td>\n",
       "\t</tr>\n",
       "\t<tr>\n",
       "\t\t<td>18</td>\n",
       "\t\t<td>female</td>\n",
       "\t\t<td>36.85</td>\n",
       "\t\t<td>0</td>\n",
       "\t\t<td>no</td>\n",
       "\t\t<td>southeast</td>\n",
       "\t\t<td>1629.8335</td>\n",
       "\t</tr>\n",
       "</table></html>"
      ],
      "text/plain": [
       "        sex     bmi  children smoker     region      charges\n",
       "age                                                         \n",
       "18     male  28.500         0     no  northeast   1712.22700\n",
       "18     male  26.180         2     no  southeast   2304.00220\n",
       "18   female  33.880         0     no  southeast  11482.63485\n",
       "18   female  31.920         0     no  northeast   2205.98080\n",
       "18     male  25.175         0    yes  northeast  15518.18025\n",
       "18     male  33.660         0     no  southeast   1136.39940\n",
       "18   female  26.315         0     no  northeast   2198.18985\n",
       "18   female  37.290         1     no  southeast   2219.44510\n",
       "18   female  38.170         0     no  southeast   1631.66830\n",
       "18   female  36.850         0     no  southeast   1629.83350"
      ]
     },
     "execution_count": 14,
     "metadata": {},
     "output_type": "execute_result"
    }
   ],
   "source": [
    "# test dataset\n",
    "insurance_df_test.head()"
   ]
  },
  {
   "cell_type": "markdown",
   "id": "856ea871-93d8-4ea2-b524-1acb23bd7eb5",
   "metadata": {},
   "source": [
    "## <b><span style='color:#F1A424'>| 2.</span> Fitting AutoML </b>"
   ]
  },
  {
   "cell_type": "code",
   "execution_count": 15,
   "id": "f3650aa5-a408-4227-a88d-79c0f3d36d3c",
   "metadata": {},
   "outputs": [],
   "source": [
    "# Creating AutoRegressor instance\n",
    "# Using all models from model training.\n",
    "# Keeping early stopping timer threshold to 100 sec\n",
    "# and verbose level 2 for detailed loggging\n",
    "\n",
    "aml = AutoRegressor(max_runtime_secs=100,\n",
    "                    verbose=2)"
   ]
  },
  {
   "cell_type": "code",
   "execution_count": 16,
   "id": "a1b7a771-1bfa-40c9-8ad0-c377d320c137",
   "metadata": {},
   "outputs": [
    {
     "data": {
      "text/html": [
       "\n",
       "            <style>\n",
       "                .custom-div {\n",
       "                    background-color: lightgray;\n",
       "                    color: #000000;\n",
       "                    padding: 10px;\n",
       "                    border-radius: 8px;\n",
       "                    box-shadow: 0 3px 4px rgba(0, 0, 0, 0.2);\n",
       "                    margin-bottom: 10px;\n",
       "                    text-align: center;\n",
       "                }\n",
       "            </style>\n",
       "        <br><div class=\"custom-div\"><h3><span style=\"color: green;\"></span>1. Feature Exploration -> 2. Feature Engineering -> 3. Data Preparation -> 4. Model Training & Evaluation<center></h3></center></div>"
      ],
      "text/plain": [
       "<IPython.core.display.HTML object>"
      ]
     },
     "metadata": {},
     "output_type": "display_data"
    },
    {
     "name": "stdout",
     "output_type": "stream",
     "text": [
      "Feature Exploration started ...\n",
      "\n",
      "Data Overview:\n",
      "Total Rows in the data: 1070\n",
      "Total Columns in the data: 7\n",
      "\n",
      "Column Summary:\n"
     ]
    },
    {
     "data": {
      "text/html": [
       "<style type=\"text/css\">\n",
       "\ttable {border:ridge 5px;}\n",
       "\ttable td {border:inset 1px;}\n",
       "\ttable tr#HeaderRow {background-color:grey; color:white;}</style>\n",
       "<html><table>\n",
       "\t<tr id=\"HeaderRow\">\n",
       "\t\t<th>ColumnName</th>\n",
       "\t\t<th>Datatype</th>\n",
       "\t\t<th>NonNullCount</th>\n",
       "\t\t<th>NullCount</th>\n",
       "\t\t<th>BlankCount</th>\n",
       "\t\t<th>ZeroCount</th>\n",
       "\t\t<th>PositiveCount</th>\n",
       "\t\t<th>NegativeCount</th>\n",
       "\t\t<th>NullPercentage</th>\n",
       "\t\t<th>NonNullPercentage</th>\n",
       "\t</tr>\n",
       "\t<tr>\n",
       "\t\t<td>region</td>\n",
       "\t\t<td>VARCHAR(20) CHARACTER SET LATIN</td>\n",
       "\t\t<td>1070</td>\n",
       "\t\t<td>0</td>\n",
       "\t\t<td>0</td>\n",
       "\t\t<td>None</td>\n",
       "\t\t<td>None</td>\n",
       "\t\t<td>None</td>\n",
       "\t\t<td>0.0</td>\n",
       "\t\t<td>100.0</td>\n",
       "\t</tr>\n",
       "\t<tr>\n",
       "\t\t<td>age</td>\n",
       "\t\t<td>INTEGER</td>\n",
       "\t\t<td>1070</td>\n",
       "\t\t<td>0</td>\n",
       "\t\t<td>None</td>\n",
       "\t\t<td>0</td>\n",
       "\t\t<td>1070</td>\n",
       "\t\t<td>0</td>\n",
       "\t\t<td>0.0</td>\n",
       "\t\t<td>100.0</td>\n",
       "\t</tr>\n",
       "\t<tr>\n",
       "\t\t<td>children</td>\n",
       "\t\t<td>INTEGER</td>\n",
       "\t\t<td>1070</td>\n",
       "\t\t<td>0</td>\n",
       "\t\t<td>None</td>\n",
       "\t\t<td>466</td>\n",
       "\t\t<td>604</td>\n",
       "\t\t<td>0</td>\n",
       "\t\t<td>0.0</td>\n",
       "\t\t<td>100.0</td>\n",
       "\t</tr>\n",
       "\t<tr>\n",
       "\t\t<td>smoker</td>\n",
       "\t\t<td>VARCHAR(20) CHARACTER SET LATIN</td>\n",
       "\t\t<td>1070</td>\n",
       "\t\t<td>0</td>\n",
       "\t\t<td>0</td>\n",
       "\t\t<td>None</td>\n",
       "\t\t<td>None</td>\n",
       "\t\t<td>None</td>\n",
       "\t\t<td>0.0</td>\n",
       "\t\t<td>100.0</td>\n",
       "\t</tr>\n",
       "\t<tr>\n",
       "\t\t<td>charges</td>\n",
       "\t\t<td>FLOAT</td>\n",
       "\t\t<td>1070</td>\n",
       "\t\t<td>0</td>\n",
       "\t\t<td>None</td>\n",
       "\t\t<td>0</td>\n",
       "\t\t<td>1070</td>\n",
       "\t\t<td>0</td>\n",
       "\t\t<td>0.0</td>\n",
       "\t\t<td>100.0</td>\n",
       "\t</tr>\n",
       "\t<tr>\n",
       "\t\t<td>bmi</td>\n",
       "\t\t<td>FLOAT</td>\n",
       "\t\t<td>1070</td>\n",
       "\t\t<td>0</td>\n",
       "\t\t<td>None</td>\n",
       "\t\t<td>0</td>\n",
       "\t\t<td>1070</td>\n",
       "\t\t<td>0</td>\n",
       "\t\t<td>0.0</td>\n",
       "\t\t<td>100.0</td>\n",
       "\t</tr>\n",
       "\t<tr>\n",
       "\t\t<td>sex</td>\n",
       "\t\t<td>VARCHAR(20) CHARACTER SET LATIN</td>\n",
       "\t\t<td>1070</td>\n",
       "\t\t<td>0</td>\n",
       "\t\t<td>0</td>\n",
       "\t\t<td>None</td>\n",
       "\t\t<td>None</td>\n",
       "\t\t<td>None</td>\n",
       "\t\t<td>0.0</td>\n",
       "\t\t<td>100.0</td>\n",
       "\t</tr>\n",
       "</table></html>"
      ],
      "text/plain": [
       "  ColumnName                         Datatype  NonNullCount  NullCount  BlankCount  ZeroCount  PositiveCount  NegativeCount  NullPercentage  NonNullPercentage\n",
       "0     region  VARCHAR(20) CHARACTER SET LATIN          1070          0         0.0        NaN            NaN            NaN             0.0              100.0\n",
       "1        age                          INTEGER          1070          0         NaN        0.0         1070.0            0.0             0.0              100.0\n",
       "2   children                          INTEGER          1070          0         NaN      466.0          604.0            0.0             0.0              100.0\n",
       "3     smoker  VARCHAR(20) CHARACTER SET LATIN          1070          0         0.0        NaN            NaN            NaN             0.0              100.0\n",
       "4    charges                            FLOAT          1070          0         NaN        0.0         1070.0            0.0             0.0              100.0\n",
       "5        bmi                            FLOAT          1070          0         NaN        0.0         1070.0            0.0             0.0              100.0\n",
       "6        sex  VARCHAR(20) CHARACTER SET LATIN          1070          0         0.0        NaN            NaN            NaN             0.0              100.0"
      ]
     },
     "metadata": {},
     "output_type": "display_data"
    },
    {
     "name": "stdout",
     "output_type": "stream",
     "text": [
      "\n",
      "Statistics of Data:\n"
     ]
    },
    {
     "data": {
      "text/html": [
       "<style type=\"text/css\">\n",
       "\ttable {border:ridge 5px;}\n",
       "\ttable td {border:inset 1px;}\n",
       "\ttable tr#HeaderRow {background-color:grey; color:white;}</style>\n",
       "<html><table>\n",
       "\t<tr id=\"HeaderRow\">\n",
       "\t\t<th>func</th>\n",
       "\t\t<th>age</th>\n",
       "\t\t<th>bmi</th>\n",
       "\t\t<th>children</th>\n",
       "\t\t<th>charges</th>\n",
       "\t</tr>\n",
       "\t<tr>\n",
       "\t\t<td>min</td>\n",
       "\t\t<td>18</td>\n",
       "\t\t<td>15.96</td>\n",
       "\t\t<td>0</td>\n",
       "\t\t<td>1121.874</td>\n",
       "\t</tr>\n",
       "\t<tr>\n",
       "\t\t<td>std</td>\n",
       "\t\t<td>14.016</td>\n",
       "\t\t<td>6.126</td>\n",
       "\t\t<td>1.2</td>\n",
       "\t\t<td>11943.088</td>\n",
       "\t</tr>\n",
       "\t<tr>\n",
       "\t\t<td>25%</td>\n",
       "\t\t<td>26</td>\n",
       "\t\t<td>26.04</td>\n",
       "\t\t<td>0</td>\n",
       "\t\t<td>4577.664</td>\n",
       "\t</tr>\n",
       "\t<tr>\n",
       "\t\t<td>50%</td>\n",
       "\t\t<td>39</td>\n",
       "\t\t<td>30.21</td>\n",
       "\t\t<td>1</td>\n",
       "\t\t<td>9178.153</td>\n",
       "\t</tr>\n",
       "\t<tr>\n",
       "\t\t<td>75%</td>\n",
       "\t\t<td>51</td>\n",
       "\t\t<td>34.43</td>\n",
       "\t\t<td>2</td>\n",
       "\t\t<td>15820.021</td>\n",
       "\t</tr>\n",
       "\t<tr>\n",
       "\t\t<td>max</td>\n",
       "\t\t<td>64</td>\n",
       "\t\t<td>53.13</td>\n",
       "\t\t<td>5</td>\n",
       "\t\t<td>63770.428</td>\n",
       "\t</tr>\n",
       "\t<tr>\n",
       "\t\t<td>mean</td>\n",
       "\t\t<td>39.068</td>\n",
       "\t\t<td>30.509</td>\n",
       "\t\t<td>1.073</td>\n",
       "\t\t<td>13023.815</td>\n",
       "\t</tr>\n",
       "\t<tr>\n",
       "\t\t<td>count</td>\n",
       "\t\t<td>1070</td>\n",
       "\t\t<td>1070</td>\n",
       "\t\t<td>1070</td>\n",
       "\t\t<td>1070</td>\n",
       "\t</tr>\n",
       "</table></html>"
      ],
      "text/plain": [
       "            age       bmi  children    charges\n",
       "func                                          \n",
       "min      18.000    15.960     0.000   1121.874\n",
       "std      14.016     6.126     1.200  11943.088\n",
       "25%      26.000    26.040     0.000   4577.664\n",
       "50%      39.000    30.210     1.000   9178.153\n",
       "75%      51.000    34.430     2.000  15820.021\n",
       "max      64.000    53.130     5.000  63770.428\n",
       "mean     39.068    30.509     1.073  13023.815\n",
       "count  1070.000  1070.000  1070.000   1070.000"
      ]
     },
     "metadata": {},
     "output_type": "display_data"
    },
    {
     "name": "stdout",
     "output_type": "stream",
     "text": [
      "\n",
      "Categorical Columns with their Distinct values:\n",
      "ColumnName                DistinctValueCount\n",
      "sex                       2         \n",
      "smoker                    2         \n",
      "region                    4         \n",
      "\n",
      "No Futile columns found.\n",
      "\n",
      "Target Column Distribution:\n"
     ]
    },
    {
     "data": {
      "image/png": "[encoded data removed]",
      "text/plain": [
       "<Figure size 800x600 with 1 Axes>"
      ]
     },
     "metadata": {},
     "output_type": "display_data"
    },
    {
     "name": "stdout",
     "output_type": "stream",
     "text": [
      "Columns with outlier percentage :-                                                                                                                                                                                                                                                                                                                                                                                                                                                                                  \n",
      "  ColumnName  OutlierPercentage\n",
      "0    charges          11.401869\n",
      "1        bmi           0.747664\n",
      "                                                                                        \r"
     ]
    },
    {
     "data": {
      "text/html": [
       "\n",
       "            <style>\n",
       "                .custom-div {\n",
       "                    background-color: lightgray;\n",
       "                    color: #000000;\n",
       "                    padding: 10px;\n",
       "                    border-radius: 8px;\n",
       "                    box-shadow: 0 3px 4px rgba(0 -  0 -  0 -  0.2);\n",
       "                    margin-bottom: 10px;\n",
       "                    text-align: center;\n",
       "                }\n",
       "            </style>\n",
       "        <br><div class=\"custom-div\"><h3><span style=\"color: green;\">1. Feature Exploration -></span> 2. Feature Engineering -> 3. Data Preparation -> 4. Model Training & Evaluation<center></h3></center></div>"
      ],
      "text/plain": [
       "<IPython.core.display.HTML object>"
      ]
     },
     "metadata": {},
     "output_type": "display_data"
    },
    {
     "name": "stdout",
     "output_type": "stream",
     "text": [
      "                                                                                        \r"
     ]
    },
    {
     "data": {
      "text/html": [
       "Feature Engineering started ..."
      ],
      "text/plain": [
       "<IPython.core.display.HTML object>"
      ]
     },
     "metadata": {},
     "output_type": "display_data"
    },
    {
     "name": "stdout",
     "output_type": "stream",
     "text": [
      "                                                                                        \r"
     ]
    },
    {
     "data": {
      "text/html": [
       "\n",
       "Handling duplicate records present in dataset ..."
      ],
      "text/plain": [
       "<IPython.core.display.HTML object>"
      ]
     },
     "metadata": {},
     "output_type": "display_data"
    },
    {
     "name": "stdout",
     "output_type": "stream",
     "text": [
      "Analysis completed. No action taken.                                                    \n",
      "                                                                                        \r"
     ]
    },
    {
     "data": {
      "text/html": [
       "Total time to handle duplicate records: 1.61 sec  "
      ],
      "text/plain": [
       "<IPython.core.display.HTML object>"
      ]
     },
     "metadata": {},
     "output_type": "display_data"
    },
    {
     "name": "stdout",
     "output_type": "stream",
     "text": [
      "                                                                                        \r"
     ]
    },
    {
     "data": {
      "text/html": [
       "\n",
       "Handling less significant features from data ..."
      ],
      "text/plain": [
       "<IPython.core.display.HTML object>"
      ]
     },
     "metadata": {},
     "output_type": "display_data"
    },
    {
     "name": "stdout",
     "output_type": "stream",
     "text": [
      "Analysis indicates all categorical columns are significant. No action Needed.           \n",
      "                                                                                        \r"
     ]
    },
    {
     "data": {
      "text/html": [
       "Total time to handle less significant features: 15.78 sec  "
      ],
      "text/plain": [
       "<IPython.core.display.HTML object>"
      ]
     },
     "metadata": {},
     "output_type": "display_data"
    },
    {
     "name": "stdout",
     "output_type": "stream",
     "text": [
      "                                                                                         \r"
     ]
    },
    {
     "data": {
      "text/html": [
       "\n",
       "Handling Date Features ..."
      ],
      "text/plain": [
       "<IPython.core.display.HTML object>"
      ]
     },
     "metadata": {},
     "output_type": "display_data"
    },
    {
     "name": "stdout",
     "output_type": "stream",
     "text": [
      "Analysis Completed. Dataset does not contain any feature related to dates. No action needed.\n",
      "                                                                                         \r"
     ]
    },
    {
     "data": {
      "text/html": [
       "Total time to handle date features: 0.01 sec\n"
      ],
      "text/plain": [
       "<IPython.core.display.HTML object>"
      ]
     },
     "metadata": {},
     "output_type": "display_data"
    },
    {
     "name": "stdout",
     "output_type": "stream",
     "text": [
      "                                                                                         \r"
     ]
    },
    {
     "data": {
      "text/html": [
       "\n",
       "Checking Missing values in dataset ..."
      ],
      "text/plain": [
       "<IPython.core.display.HTML object>"
      ]
     },
     "metadata": {},
     "output_type": "display_data"
    },
    {
     "name": "stdout",
     "output_type": "stream",
     "text": [
      "Analysis Completed. No Missing Values Detected.                                          \n",
      "                                                                                         \r"
     ]
    },
    {
     "data": {
      "text/html": [
       "Total time to find missing values in data: 8.22 sec  "
      ],
      "text/plain": [
       "<IPython.core.display.HTML object>"
      ]
     },
     "metadata": {},
     "output_type": "display_data"
    },
    {
     "name": "stdout",
     "output_type": "stream",
     "text": [
      "                                                                                         \r"
     ]
    },
    {
     "data": {
      "text/html": [
       "\n",
       "Imputing Missing Values ..."
      ],
      "text/plain": [
       "<IPython.core.display.HTML object>"
      ]
     },
     "metadata": {},
     "output_type": "display_data"
    },
    {
     "name": "stdout",
     "output_type": "stream",
     "text": [
      "Analysis completed. No imputation required.                                              \n",
      "                                                                                         \r"
     ]
    },
    {
     "data": {
      "text/html": [
       "Time taken to perform imputation: 0.02 sec  "
      ],
      "text/plain": [
       "<IPython.core.display.HTML object>"
      ]
     },
     "metadata": {},
     "output_type": "display_data"
    },
    {
     "name": "stdout",
     "output_type": "stream",
     "text": [
      "                                                                                         \r"
     ]
    },
    {
     "data": {
      "text/html": [
       "\n",
       "Performing encoding for categorical columns ..."
      ],
      "text/plain": [
       "<IPython.core.display.HTML object>"
      ]
     },
     "metadata": {},
     "output_type": "display_data"
    },
    {
     "name": "stdout",
     "output_type": "stream",
     "text": [
      "result data stored in table '\"ALICE\".\"ml__td_sqlmr_persist_out__1719260227213863\"' - 5/19\n",
      "                                                                                         \r"
     ]
    },
    {
     "data": {
      "text/html": [
       "ONE HOT Encoding these Columns:"
      ],
      "text/plain": [
       "<IPython.core.display.HTML object>"
      ]
     },
     "metadata": {},
     "output_type": "display_data"
    },
    {
     "name": "stdout",
     "output_type": "stream",
     "text": [
      "['sex', 'smoker', 'region']\n",
      "                                                                                         \r"
     ]
    },
    {
     "data": {
      "text/html": [
       "Sample of dataset after performing one hot encoding:"
      ],
      "text/plain": [
       "<IPython.core.display.HTML object>"
      ]
     },
     "metadata": {},
     "output_type": "display_data"
    },
    {
     "data": {
      "text/html": [
       "<style type=\"text/css\">\n",
       "\ttable {border:ridge 5px;}\n",
       "\ttable td {border:inset 1px;}\n",
       "\ttable tr#HeaderRow {background-color:grey; color:white;}</style>\n",
       "<html><table>\n",
       "\t<tr id=\"HeaderRow\">\n",
       "\t\t<th>age</th>\n",
       "\t\t<th>sex_0</th>\n",
       "\t\t<th>sex_1</th>\n",
       "\t\t<th>bmi</th>\n",
       "\t\t<th>children</th>\n",
       "\t\t<th>smoker_0</th>\n",
       "\t\t<th>smoker_1</th>\n",
       "\t\t<th>region_0</th>\n",
       "\t\t<th>region_1</th>\n",
       "\t\t<th>region_2</th>\n",
       "\t\t<th>region_3</th>\n",
       "\t\t<th>charges</th>\n",
       "\t\t<th>id</th>\n",
       "\t</tr>\n",
       "\t<tr>\n",
       "\t\t<td>61</td>\n",
       "\t\t<td>0</td>\n",
       "\t\t<td>1</td>\n",
       "\t\t<td>35.86</td>\n",
       "\t\t<td>0</td>\n",
       "\t\t<td>0</td>\n",
       "\t\t<td>1</td>\n",
       "\t\t<td>0</td>\n",
       "\t\t<td>0</td>\n",
       "\t\t<td>1</td>\n",
       "\t\t<td>0</td>\n",
       "\t\t<td>46599.1084</td>\n",
       "\t\t<td>22</td>\n",
       "\t</tr>\n",
       "\t<tr>\n",
       "\t\t<td>61</td>\n",
       "\t\t<td>1</td>\n",
       "\t\t<td>0</td>\n",
       "\t\t<td>33.33</td>\n",
       "\t\t<td>4</td>\n",
       "\t\t<td>1</td>\n",
       "\t\t<td>0</td>\n",
       "\t\t<td>0</td>\n",
       "\t\t<td>0</td>\n",
       "\t\t<td>1</td>\n",
       "\t\t<td>0</td>\n",
       "\t\t<td>36580.28216</td>\n",
       "\t\t<td>142</td>\n",
       "\t</tr>\n",
       "\t<tr>\n",
       "\t\t<td>61</td>\n",
       "\t\t<td>0</td>\n",
       "\t\t<td>1</td>\n",
       "\t\t<td>28.31</td>\n",
       "\t\t<td>1</td>\n",
       "\t\t<td>0</td>\n",
       "\t\t<td>1</td>\n",
       "\t\t<td>0</td>\n",
       "\t\t<td>1</td>\n",
       "\t\t<td>0</td>\n",
       "\t\t<td>0</td>\n",
       "\t\t<td>28868.6639</td>\n",
       "\t\t<td>62</td>\n",
       "\t</tr>\n",
       "\t<tr>\n",
       "\t\t<td>61</td>\n",
       "\t\t<td>1</td>\n",
       "\t\t<td>0</td>\n",
       "\t\t<td>31.16</td>\n",
       "\t\t<td>0</td>\n",
       "\t\t<td>1</td>\n",
       "\t\t<td>0</td>\n",
       "\t\t<td>0</td>\n",
       "\t\t<td>1</td>\n",
       "\t\t<td>0</td>\n",
       "\t\t<td>0</td>\n",
       "\t\t<td>13429.0354</td>\n",
       "\t\t<td>94</td>\n",
       "\t</tr>\n",
       "\t<tr>\n",
       "\t\t<td>61</td>\n",
       "\t\t<td>1</td>\n",
       "\t\t<td>0</td>\n",
       "\t\t<td>28.2</td>\n",
       "\t\t<td>0</td>\n",
       "\t\t<td>1</td>\n",
       "\t\t<td>0</td>\n",
       "\t\t<td>0</td>\n",
       "\t\t<td>0</td>\n",
       "\t\t<td>0</td>\n",
       "\t\t<td>1</td>\n",
       "\t\t<td>13041.921</td>\n",
       "\t\t<td>14</td>\n",
       "\t</tr>\n",
       "\t<tr>\n",
       "\t\t<td>61</td>\n",
       "\t\t<td>1</td>\n",
       "\t\t<td>0</td>\n",
       "\t\t<td>29.07</td>\n",
       "\t\t<td>0</td>\n",
       "\t\t<td>0</td>\n",
       "\t\t<td>1</td>\n",
       "\t\t<td>0</td>\n",
       "\t\t<td>1</td>\n",
       "\t\t<td>0</td>\n",
       "\t\t<td>0</td>\n",
       "\t\t<td>29141.3603</td>\n",
       "\t\t<td>38</td>\n",
       "\t</tr>\n",
       "\t<tr>\n",
       "\t\t<td>61</td>\n",
       "\t\t<td>1</td>\n",
       "\t\t<td>0</td>\n",
       "\t\t<td>39.1</td>\n",
       "\t\t<td>2</td>\n",
       "\t\t<td>1</td>\n",
       "\t\t<td>0</td>\n",
       "\t\t<td>0</td>\n",
       "\t\t<td>0</td>\n",
       "\t\t<td>0</td>\n",
       "\t\t<td>1</td>\n",
       "\t\t<td>14235.072</td>\n",
       "\t\t<td>86</td>\n",
       "\t</tr>\n",
       "\t<tr>\n",
       "\t\t<td>61</td>\n",
       "\t\t<td>1</td>\n",
       "\t\t<td>0</td>\n",
       "\t\t<td>22.04</td>\n",
       "\t\t<td>0</td>\n",
       "\t\t<td>1</td>\n",
       "\t\t<td>0</td>\n",
       "\t\t<td>1</td>\n",
       "\t\t<td>0</td>\n",
       "\t\t<td>0</td>\n",
       "\t\t<td>0</td>\n",
       "\t\t<td>13616.3586</td>\n",
       "\t\t<td>46</td>\n",
       "\t</tr>\n",
       "\t<tr>\n",
       "\t\t<td>61</td>\n",
       "\t\t<td>0</td>\n",
       "\t\t<td>1</td>\n",
       "\t\t<td>43.4</td>\n",
       "\t\t<td>0</td>\n",
       "\t\t<td>1</td>\n",
       "\t\t<td>0</td>\n",
       "\t\t<td>0</td>\n",
       "\t\t<td>0</td>\n",
       "\t\t<td>0</td>\n",
       "\t\t<td>1</td>\n",
       "\t\t<td>12574.049</td>\n",
       "\t\t<td>70</td>\n",
       "\t</tr>\n",
       "\t<tr>\n",
       "\t\t<td>61</td>\n",
       "\t\t<td>0</td>\n",
       "\t\t<td>1</td>\n",
       "\t\t<td>33.915</td>\n",
       "\t\t<td>0</td>\n",
       "\t\t<td>1</td>\n",
       "\t\t<td>0</td>\n",
       "\t\t<td>1</td>\n",
       "\t\t<td>0</td>\n",
       "\t\t<td>0</td>\n",
       "\t\t<td>0</td>\n",
       "\t\t<td>13143.86485</td>\n",
       "\t\t<td>158</td>\n",
       "\t</tr>\n",
       "</table></html>"
      ],
      "text/plain": [
       "     sex_0  sex_1     bmi  children  smoker_0  smoker_1  region_0  region_1  region_2  region_3      charges   id\n",
       "age                                                                                                              \n",
       "61       0      1  35.860         0         0         1         0         0         1         0  46599.10840   22\n",
       "61       1      0  33.330         4         1         0         0         0         1         0  36580.28216  142\n",
       "61       0      1  28.310         1         0         1         0         1         0         0  28868.66390   62\n",
       "61       1      0  31.160         0         1         0         0         1         0         0  13429.03540   94\n",
       "61       1      0  28.200         0         1         0         0         0         0         1  13041.92100   14\n",
       "61       1      0  29.070         0         0         1         0         1         0         0  29141.36030   38\n",
       "61       1      0  39.100         2         1         0         0         0         0         1  14235.07200   86\n",
       "61       1      0  22.040         0         1         0         1         0         0         0  13616.35860   46\n",
       "61       0      1  43.400         0         1         0         0         0         0         1  12574.04900   70\n",
       "61       0      1  33.915         0         1         0         1         0         0         0  13143.86485  158"
      ]
     },
     "metadata": {},
     "output_type": "display_data"
    },
    {
     "name": "stdout",
     "output_type": "stream",
     "text": [
      "                                                                                         \r"
     ]
    },
    {
     "data": {
      "text/html": [
       "1070 rows X 13 columns"
      ],
      "text/plain": [
       "<IPython.core.display.HTML object>"
      ]
     },
     "metadata": {},
     "output_type": "display_data"
    },
    {
     "name": "stdout",
     "output_type": "stream",
     "text": [
      "                                                                                         \r"
     ]
    },
    {
     "data": {
      "text/html": [
       "Time taken to encode the columns: 14.32 sec"
      ],
      "text/plain": [
       "<IPython.core.display.HTML object>"
      ]
     },
     "metadata": {},
     "output_type": "display_data"
    },
    {
     "name": "stdout",
     "output_type": "stream",
     "text": [
      "                                                                                         \r"
     ]
    },
    {
     "data": {
      "text/html": [
       "\n",
       "            <style>\n",
       "                .custom-div {\n",
       "                    background-color: lightgray;\n",
       "                    color: #000000;\n",
       "                    padding: 10px;\n",
       "                    border-radius: 8px;\n",
       "                    box-shadow: 0 3px 4px rgba(0 -  0 -  0 -  0.2);\n",
       "                    margin-bottom: 10px;\n",
       "                    text-align: center;\n",
       "                }\n",
       "            </style>\n",
       "        <br><div class=\"custom-div\"><h3><span style=\"color: green;\">1. Feature Exploration -> 2. Feature Engineering -></span> 3. Data Preparation -> 4. Model Training & Evaluation<center></h3></center></div>"
      ],
      "text/plain": [
       "<IPython.core.display.HTML object>"
      ]
     },
     "metadata": {},
     "output_type": "display_data"
    },
    {
     "name": "stdout",
     "output_type": "stream",
     "text": [
      "                                                                                         \r"
     ]
    },
    {
     "data": {
      "text/html": [
       "Data preparation started ..."
      ],
      "text/plain": [
       "<IPython.core.display.HTML object>"
      ]
     },
     "metadata": {},
     "output_type": "display_data"
    },
    {
     "name": "stdout",
     "output_type": "stream",
     "text": [
      "                                                                                         \r"
     ]
    },
    {
     "data": {
      "text/html": [
       "\n",
       "Spliting of dataset into training and testing ..."
      ],
      "text/plain": [
       "<IPython.core.display.HTML object>"
      ]
     },
     "metadata": {},
     "output_type": "display_data"
    },
    {
     "name": "stdout",
     "output_type": "stream",
     "text": [
      "Training size : 0.8                                                                      \n",
      "Testing size  : 0.2                                                                      \n",
      "                                                                                         \r"
     ]
    },
    {
     "data": {
      "text/html": [
       "Training data sample"
      ],
      "text/plain": [
       "<IPython.core.display.HTML object>"
      ]
     },
     "metadata": {},
     "output_type": "display_data"
    },
    {
     "data": {
      "text/html": [
       "<style type=\"text/css\">\n",
       "\ttable {border:ridge 5px;}\n",
       "\ttable td {border:inset 1px;}\n",
       "\ttable tr#HeaderRow {background-color:grey; color:white;}</style>\n",
       "<html><table>\n",
       "\t<tr id=\"HeaderRow\">\n",
       "\t\t<th>age</th>\n",
       "\t\t<th>sex_0</th>\n",
       "\t\t<th>sex_1</th>\n",
       "\t\t<th>bmi</th>\n",
       "\t\t<th>children</th>\n",
       "\t\t<th>smoker_0</th>\n",
       "\t\t<th>smoker_1</th>\n",
       "\t\t<th>region_0</th>\n",
       "\t\t<th>region_1</th>\n",
       "\t\t<th>region_2</th>\n",
       "\t\t<th>region_3</th>\n",
       "\t\t<th>charges</th>\n",
       "\t\t<th>id</th>\n",
       "\t</tr>\n",
       "\t<tr>\n",
       "\t\t<td>34</td>\n",
       "\t\t<td>0</td>\n",
       "\t\t<td>1</td>\n",
       "\t\t<td>34.21</td>\n",
       "\t\t<td>0</td>\n",
       "\t\t<td>1</td>\n",
       "\t\t<td>0</td>\n",
       "\t\t<td>0</td>\n",
       "\t\t<td>0</td>\n",
       "\t\t<td>1</td>\n",
       "\t\t<td>0</td>\n",
       "\t\t<td>3935.1799</td>\n",
       "\t\t<td>9</td>\n",
       "\t</tr>\n",
       "\t<tr>\n",
       "\t\t<td>61</td>\n",
       "\t\t<td>1</td>\n",
       "\t\t<td>0</td>\n",
       "\t\t<td>28.2</td>\n",
       "\t\t<td>0</td>\n",
       "\t\t<td>1</td>\n",
       "\t\t<td>0</td>\n",
       "\t\t<td>0</td>\n",
       "\t\t<td>0</td>\n",
       "\t\t<td>0</td>\n",
       "\t\t<td>1</td>\n",
       "\t\t<td>13041.921</td>\n",
       "\t\t<td>14</td>\n",
       "\t</tr>\n",
       "\t<tr>\n",
       "\t\t<td>61</td>\n",
       "\t\t<td>0</td>\n",
       "\t\t<td>1</td>\n",
       "\t\t<td>35.86</td>\n",
       "\t\t<td>0</td>\n",
       "\t\t<td>0</td>\n",
       "\t\t<td>1</td>\n",
       "\t\t<td>0</td>\n",
       "\t\t<td>0</td>\n",
       "\t\t<td>1</td>\n",
       "\t\t<td>0</td>\n",
       "\t\t<td>46599.1084</td>\n",
       "\t\t<td>22</td>\n",
       "\t</tr>\n",
       "\t<tr>\n",
       "\t\t<td>49</td>\n",
       "\t\t<td>1</td>\n",
       "\t\t<td>0</td>\n",
       "\t\t<td>31.9</td>\n",
       "\t\t<td>5</td>\n",
       "\t\t<td>1</td>\n",
       "\t\t<td>0</td>\n",
       "\t\t<td>0</td>\n",
       "\t\t<td>0</td>\n",
       "\t\t<td>0</td>\n",
       "\t\t<td>1</td>\n",
       "\t\t<td>11552.904</td>\n",
       "\t\t<td>13</td>\n",
       "\t</tr>\n",
       "\t<tr>\n",
       "\t\t<td>38</td>\n",
       "\t\t<td>0</td>\n",
       "\t\t<td>1</td>\n",
       "\t\t<td>29.26</td>\n",
       "\t\t<td>2</td>\n",
       "\t\t<td>1</td>\n",
       "\t\t<td>0</td>\n",
       "\t\t<td>0</td>\n",
       "\t\t<td>1</td>\n",
       "\t\t<td>0</td>\n",
       "\t\t<td>0</td>\n",
       "\t\t<td>6457.8434</td>\n",
       "\t\t<td>12</td>\n",
       "\t</tr>\n",
       "\t<tr>\n",
       "\t\t<td>38</td>\n",
       "\t\t<td>0</td>\n",
       "\t\t<td>1</td>\n",
       "\t\t<td>28.025</td>\n",
       "\t\t<td>1</td>\n",
       "\t\t<td>1</td>\n",
       "\t\t<td>0</td>\n",
       "\t\t<td>1</td>\n",
       "\t\t<td>0</td>\n",
       "\t\t<td>0</td>\n",
       "\t\t<td>0</td>\n",
       "\t\t<td>6067.12675</td>\n",
       "\t\t<td>20</td>\n",
       "\t</tr>\n",
       "\t<tr>\n",
       "\t\t<td>32</td>\n",
       "\t\t<td>1</td>\n",
       "\t\t<td>0</td>\n",
       "\t\t<td>17.765</td>\n",
       "\t\t<td>2</td>\n",
       "\t\t<td>0</td>\n",
       "\t\t<td>1</td>\n",
       "\t\t<td>0</td>\n",
       "\t\t<td>1</td>\n",
       "\t\t<td>0</td>\n",
       "\t\t<td>0</td>\n",
       "\t\t<td>32734.1863</td>\n",
       "\t\t<td>15</td>\n",
       "\t</tr>\n",
       "\t<tr>\n",
       "\t\t<td>32</td>\n",
       "\t\t<td>1</td>\n",
       "\t\t<td>0</td>\n",
       "\t\t<td>37.145</td>\n",
       "\t\t<td>3</td>\n",
       "\t\t<td>1</td>\n",
       "\t\t<td>0</td>\n",
       "\t\t<td>1</td>\n",
       "\t\t<td>0</td>\n",
       "\t\t<td>0</td>\n",
       "\t\t<td>0</td>\n",
       "\t\t<td>6334.34355</td>\n",
       "\t\t<td>23</td>\n",
       "\t</tr>\n",
       "\t<tr>\n",
       "\t\t<td>40</td>\n",
       "\t\t<td>0</td>\n",
       "\t\t<td>1</td>\n",
       "\t\t<td>24.97</td>\n",
       "\t\t<td>2</td>\n",
       "\t\t<td>1</td>\n",
       "\t\t<td>0</td>\n",
       "\t\t<td>0</td>\n",
       "\t\t<td>0</td>\n",
       "\t\t<td>1</td>\n",
       "\t\t<td>0</td>\n",
       "\t\t<td>6593.5083</td>\n",
       "\t\t<td>10</td>\n",
       "\t</tr>\n",
       "\t<tr>\n",
       "\t\t<td>40</td>\n",
       "\t\t<td>0</td>\n",
       "\t\t<td>1</td>\n",
       "\t\t<td>32.775</td>\n",
       "\t\t<td>1</td>\n",
       "\t\t<td>0</td>\n",
       "\t\t<td>1</td>\n",
       "\t\t<td>1</td>\n",
       "\t\t<td>0</td>\n",
       "\t\t<td>0</td>\n",
       "\t\t<td>0</td>\n",
       "\t\t<td>39125.33225</td>\n",
       "\t\t<td>18</td>\n",
       "\t</tr>\n",
       "</table></html>"
      ],
      "text/plain": [
       "   age  sex_0  sex_1     bmi  children  smoker_0  smoker_1  region_0  region_1  region_2  region_3      charges  id\n",
       "0   34      0      1  34.210         0         1         0         0         0         1         0   3935.17990   9\n",
       "1   61      1      0  28.200         0         1         0         0         0         0         1  13041.92100  14\n",
       "2   61      0      1  35.860         0         0         1         0         0         1         0  46599.10840  22\n",
       "3   49      1      0  31.900         5         1         0         0         0         0         1  11552.90400  13\n",
       "4   38      0      1  29.260         2         1         0         0         1         0         0   6457.84340  12\n",
       "5   38      0      1  28.025         1         1         0         1         0         0         0   6067.12675  20\n",
       "6   32      1      0  17.765         2         0         1         0         1         0         0  32734.18630  15\n",
       "7   32      1      0  37.145         3         1         0         1         0         0         0   6334.34355  23\n",
       "8   40      0      1  24.970         2         1         0         0         0         1         0   6593.50830  10\n",
       "9   40      0      1  32.775         1         0         1         1         0         0         0  39125.33225  18"
      ]
     },
     "metadata": {},
     "output_type": "display_data"
    },
    {
     "name": "stdout",
     "output_type": "stream",
     "text": [
      "                                                                                         \r"
     ]
    },
    {
     "data": {
      "text/html": [
       "856 rows X 13 columns"
      ],
      "text/plain": [
       "<IPython.core.display.HTML object>"
      ]
     },
     "metadata": {},
     "output_type": "display_data"
    },
    {
     "name": "stdout",
     "output_type": "stream",
     "text": [
      "                                                                                         \r"
     ]
    },
    {
     "data": {
      "text/html": [
       "Testing data sample"
      ],
      "text/plain": [
       "<IPython.core.display.HTML object>"
      ]
     },
     "metadata": {},
     "output_type": "display_data"
    },
    {
     "data": {
      "text/html": [
       "<style type=\"text/css\">\n",
       "\ttable {border:ridge 5px;}\n",
       "\ttable td {border:inset 1px;}\n",
       "\ttable tr#HeaderRow {background-color:grey; color:white;}</style>\n",
       "<html><table>\n",
       "\t<tr id=\"HeaderRow\">\n",
       "\t\t<th>age</th>\n",
       "\t\t<th>sex_0</th>\n",
       "\t\t<th>sex_1</th>\n",
       "\t\t<th>bmi</th>\n",
       "\t\t<th>children</th>\n",
       "\t\t<th>smoker_0</th>\n",
       "\t\t<th>smoker_1</th>\n",
       "\t\t<th>region_0</th>\n",
       "\t\t<th>region_1</th>\n",
       "\t\t<th>region_2</th>\n",
       "\t\t<th>region_3</th>\n",
       "\t\t<th>charges</th>\n",
       "\t\t<th>id</th>\n",
       "\t</tr>\n",
       "\t<tr>\n",
       "\t\t<td>26</td>\n",
       "\t\t<td>0</td>\n",
       "\t\t<td>1</td>\n",
       "\t\t<td>23.7</td>\n",
       "\t\t<td>2</td>\n",
       "\t\t<td>1</td>\n",
       "\t\t<td>0</td>\n",
       "\t\t<td>0</td>\n",
       "\t\t<td>0</td>\n",
       "\t\t<td>0</td>\n",
       "\t\t<td>1</td>\n",
       "\t\t<td>3484.331</td>\n",
       "\t\t<td>24</td>\n",
       "\t</tr>\n",
       "\t<tr>\n",
       "\t\t<td>38</td>\n",
       "\t\t<td>1</td>\n",
       "\t\t<td>0</td>\n",
       "\t\t<td>19.95</td>\n",
       "\t\t<td>2</td>\n",
       "\t\t<td>1</td>\n",
       "\t\t<td>0</td>\n",
       "\t\t<td>1</td>\n",
       "\t\t<td>0</td>\n",
       "\t\t<td>0</td>\n",
       "\t\t<td>0</td>\n",
       "\t\t<td>7133.9025</td>\n",
       "\t\t<td>28</td>\n",
       "\t</tr>\n",
       "\t<tr>\n",
       "\t\t<td>38</td>\n",
       "\t\t<td>0</td>\n",
       "\t\t<td>1</td>\n",
       "\t\t<td>27.835</td>\n",
       "\t\t<td>2</td>\n",
       "\t\t<td>1</td>\n",
       "\t\t<td>0</td>\n",
       "\t\t<td>0</td>\n",
       "\t\t<td>1</td>\n",
       "\t\t<td>0</td>\n",
       "\t\t<td>0</td>\n",
       "\t\t<td>6455.86265</td>\n",
       "\t\t<td>124</td>\n",
       "\t</tr>\n",
       "\t<tr>\n",
       "\t\t<td>49</td>\n",
       "\t\t<td>0</td>\n",
       "\t\t<td>1</td>\n",
       "\t\t<td>25.84</td>\n",
       "\t\t<td>1</td>\n",
       "\t\t<td>1</td>\n",
       "\t\t<td>0</td>\n",
       "\t\t<td>1</td>\n",
       "\t\t<td>0</td>\n",
       "\t\t<td>0</td>\n",
       "\t\t<td>0</td>\n",
       "\t\t<td>9282.4806</td>\n",
       "\t\t<td>29</td>\n",
       "\t</tr>\n",
       "\t<tr>\n",
       "\t\t<td>19</td>\n",
       "\t\t<td>0</td>\n",
       "\t\t<td>1</td>\n",
       "\t\t<td>35.4</td>\n",
       "\t\t<td>0</td>\n",
       "\t\t<td>1</td>\n",
       "\t\t<td>0</td>\n",
       "\t\t<td>0</td>\n",
       "\t\t<td>0</td>\n",
       "\t\t<td>0</td>\n",
       "\t\t<td>1</td>\n",
       "\t\t<td>1263.249</td>\n",
       "\t\t<td>27</td>\n",
       "\t</tr>\n",
       "\t<tr>\n",
       "\t\t<td>19</td>\n",
       "\t\t<td>0</td>\n",
       "\t\t<td>1</td>\n",
       "\t\t<td>25.555</td>\n",
       "\t\t<td>0</td>\n",
       "\t\t<td>1</td>\n",
       "\t\t<td>0</td>\n",
       "\t\t<td>0</td>\n",
       "\t\t<td>1</td>\n",
       "\t\t<td>0</td>\n",
       "\t\t<td>0</td>\n",
       "\t\t<td>1632.56445</td>\n",
       "\t\t<td>123</td>\n",
       "\t</tr>\n",
       "\t<tr>\n",
       "\t\t<td>61</td>\n",
       "\t\t<td>0</td>\n",
       "\t\t<td>1</td>\n",
       "\t\t<td>32.3</td>\n",
       "\t\t<td>2</td>\n",
       "\t\t<td>1</td>\n",
       "\t\t<td>0</td>\n",
       "\t\t<td>0</td>\n",
       "\t\t<td>1</td>\n",
       "\t\t<td>0</td>\n",
       "\t\t<td>0</td>\n",
       "\t\t<td>14119.62</td>\n",
       "\t\t<td>30</td>\n",
       "\t</tr>\n",
       "\t<tr>\n",
       "\t\t<td>61</td>\n",
       "\t\t<td>0</td>\n",
       "\t\t<td>1</td>\n",
       "\t\t<td>33.535</td>\n",
       "\t\t<td>0</td>\n",
       "\t\t<td>1</td>\n",
       "\t\t<td>0</td>\n",
       "\t\t<td>1</td>\n",
       "\t\t<td>0</td>\n",
       "\t\t<td>0</td>\n",
       "\t\t<td>0</td>\n",
       "\t\t<td>13143.33665</td>\n",
       "\t\t<td>126</td>\n",
       "\t</tr>\n",
       "\t<tr>\n",
       "\t\t<td>32</td>\n",
       "\t\t<td>0</td>\n",
       "\t\t<td>1</td>\n",
       "\t\t<td>46.53</td>\n",
       "\t\t<td>2</td>\n",
       "\t\t<td>1</td>\n",
       "\t\t<td>0</td>\n",
       "\t\t<td>0</td>\n",
       "\t\t<td>0</td>\n",
       "\t\t<td>1</td>\n",
       "\t\t<td>0</td>\n",
       "\t\t<td>4686.3887</td>\n",
       "\t\t<td>31</td>\n",
       "\t</tr>\n",
       "\t<tr>\n",
       "\t\t<td>32</td>\n",
       "\t\t<td>1</td>\n",
       "\t\t<td>0</td>\n",
       "\t\t<td>28.93</td>\n",
       "\t\t<td>0</td>\n",
       "\t\t<td>1</td>\n",
       "\t\t<td>0</td>\n",
       "\t\t<td>0</td>\n",
       "\t\t<td>0</td>\n",
       "\t\t<td>1</td>\n",
       "\t\t<td>0</td>\n",
       "\t\t<td>3972.9247</td>\n",
       "\t\t<td>127</td>\n",
       "\t</tr>\n",
       "</table></html>"
      ],
      "text/plain": [
       "   age  sex_0  sex_1     bmi  children  smoker_0  smoker_1  region_0  region_1  region_2  region_3      charges   id\n",
       "0   26      0      1  23.700         2         1         0         0         0         0         1   3484.33100   24\n",
       "1   38      1      0  19.950         2         1         0         1         0         0         0   7133.90250   28\n",
       "2   38      0      1  27.835         2         1         0         0         1         0         0   6455.86265  124\n",
       "3   49      0      1  25.840         1         1         0         1         0         0         0   9282.48060   29\n",
       "4   19      0      1  35.400         0         1         0         0         0         0         1   1263.24900   27\n",
       "5   19      0      1  25.555         0         1         0         0         1         0         0   1632.56445  123\n",
       "6   61      0      1  32.300         2         1         0         0         1         0         0  14119.62000   30\n",
       "7   61      0      1  33.535         0         1         0         1         0         0         0  13143.33665  126\n",
       "8   32      0      1  46.530         2         1         0         0         0         1         0   4686.38870   31\n",
       "9   32      1      0  28.930         0         1         0         0         0         1         0   3972.92470  127"
      ]
     },
     "metadata": {},
     "output_type": "display_data"
    },
    {
     "name": "stdout",
     "output_type": "stream",
     "text": [
      "                                                                                         \r"
     ]
    },
    {
     "data": {
      "text/html": [
       "214 rows X 13 columns"
      ],
      "text/plain": [
       "<IPython.core.display.HTML object>"
      ]
     },
     "metadata": {},
     "output_type": "display_data"
    },
    {
     "name": "stdout",
     "output_type": "stream",
     "text": [
      "                                                                                         \r"
     ]
    },
    {
     "data": {
      "text/html": [
       "Time taken for spliting of data: 11.04 sec  "
      ],
      "text/plain": [
       "<IPython.core.display.HTML object>"
      ]
     },
     "metadata": {},
     "output_type": "display_data"
    },
    {
     "name": "stdout",
     "output_type": "stream",
     "text": [
      "                                                                                         \r"
     ]
    },
    {
     "data": {
      "text/html": [
       "\n",
       "Outlier preprocessing ..."
      ],
      "text/plain": [
       "<IPython.core.display.HTML object>"
      ]
     },
     "metadata": {},
     "output_type": "display_data"
    },
    {
     "name": "stdout",
     "output_type": "stream",
     "text": [
      "Columns with outlier percentage :-                                                                                                                                                                                                                                                                                                                                                                                                                                                                                  \n",
      "  ColumnName  OutlierPercentage\n",
      "0    charges          11.401869\n",
      "1        bmi           0.747664\n",
      "                                                                                         \r"
     ]
    },
    {
     "data": {
      "text/html": [
       "Deleting rows of these columns:"
      ],
      "text/plain": [
       "<IPython.core.display.HTML object>"
      ]
     },
     "metadata": {},
     "output_type": "display_data"
    },
    {
     "name": "stdout",
     "output_type": "stream",
     "text": [
      "['bmi']\n",
      "result data stored in table '\"ALICE\".\"ml__td_sqlmr_persist_out__1719259678705753\"' - 7/19\n",
      "                                                                                         \r"
     ]
    },
    {
     "data": {
      "text/html": [
       "Sample of training dataset after removing outlier rows:"
      ],
      "text/plain": [
       "<IPython.core.display.HTML object>"
      ]
     },
     "metadata": {},
     "output_type": "display_data"
    },
    {
     "data": {
      "text/html": [
       "<style type=\"text/css\">\n",
       "\ttable {border:ridge 5px;}\n",
       "\ttable td {border:inset 1px;}\n",
       "\ttable tr#HeaderRow {background-color:grey; color:white;}</style>\n",
       "<html><table>\n",
       "\t<tr id=\"HeaderRow\">\n",
       "\t\t<th>age</th>\n",
       "\t\t<th>sex_0</th>\n",
       "\t\t<th>sex_1</th>\n",
       "\t\t<th>bmi</th>\n",
       "\t\t<th>children</th>\n",
       "\t\t<th>smoker_0</th>\n",
       "\t\t<th>smoker_1</th>\n",
       "\t\t<th>region_0</th>\n",
       "\t\t<th>region_1</th>\n",
       "\t\t<th>region_2</th>\n",
       "\t\t<th>region_3</th>\n",
       "\t\t<th>charges</th>\n",
       "\t\t<th>id</th>\n",
       "\t</tr>\n",
       "\t<tr>\n",
       "\t\t<td>19</td>\n",
       "\t\t<td>0</td>\n",
       "\t\t<td>1</td>\n",
       "\t\t<td>21.755</td>\n",
       "\t\t<td>0</td>\n",
       "\t\t<td>1</td>\n",
       "\t\t<td>0</td>\n",
       "\t\t<td>0</td>\n",
       "\t\t<td>1</td>\n",
       "\t\t<td>0</td>\n",
       "\t\t<td>0</td>\n",
       "\t\t<td>1627.28245</td>\n",
       "\t\t<td>283</td>\n",
       "\t</tr>\n",
       "\t<tr>\n",
       "\t\t<td>19</td>\n",
       "\t\t<td>1</td>\n",
       "\t\t<td>0</td>\n",
       "\t\t<td>28.9</td>\n",
       "\t\t<td>0</td>\n",
       "\t\t<td>1</td>\n",
       "\t\t<td>0</td>\n",
       "\t\t<td>0</td>\n",
       "\t\t<td>0</td>\n",
       "\t\t<td>0</td>\n",
       "\t\t<td>1</td>\n",
       "\t\t<td>1743.214</td>\n",
       "\t\t<td>163</td>\n",
       "\t</tr>\n",
       "\t<tr>\n",
       "\t\t<td>19</td>\n",
       "\t\t<td>1</td>\n",
       "\t\t<td>0</td>\n",
       "\t\t<td>29.8</td>\n",
       "\t\t<td>0</td>\n",
       "\t\t<td>1</td>\n",
       "\t\t<td>0</td>\n",
       "\t\t<td>0</td>\n",
       "\t\t<td>0</td>\n",
       "\t\t<td>0</td>\n",
       "\t\t<td>1</td>\n",
       "\t\t<td>1744.465</td>\n",
       "\t\t<td>379</td>\n",
       "\t</tr>\n",
       "\t<tr>\n",
       "\t\t<td>19</td>\n",
       "\t\t<td>0</td>\n",
       "\t\t<td>1</td>\n",
       "\t\t<td>34.4</td>\n",
       "\t\t<td>0</td>\n",
       "\t\t<td>1</td>\n",
       "\t\t<td>0</td>\n",
       "\t\t<td>0</td>\n",
       "\t\t<td>0</td>\n",
       "\t\t<td>0</td>\n",
       "\t\t<td>1</td>\n",
       "\t\t<td>1261.859</td>\n",
       "\t\t<td>51</td>\n",
       "\t</tr>\n",
       "\t<tr>\n",
       "\t\t<td>19</td>\n",
       "\t\t<td>1</td>\n",
       "\t\t<td>0</td>\n",
       "\t\t<td>28.88</td>\n",
       "\t\t<td>0</td>\n",
       "\t\t<td>0</td>\n",
       "\t\t<td>1</td>\n",
       "\t\t<td>0</td>\n",
       "\t\t<td>1</td>\n",
       "\t\t<td>0</td>\n",
       "\t\t<td>0</td>\n",
       "\t\t<td>17748.5062</td>\n",
       "\t\t<td>275</td>\n",
       "\t</tr>\n",
       "\t<tr>\n",
       "\t\t<td>19</td>\n",
       "\t\t<td>0</td>\n",
       "\t\t<td>1</td>\n",
       "\t\t<td>35.53</td>\n",
       "\t\t<td>0</td>\n",
       "\t\t<td>1</td>\n",
       "\t\t<td>0</td>\n",
       "\t\t<td>0</td>\n",
       "\t\t<td>1</td>\n",
       "\t\t<td>0</td>\n",
       "\t\t<td>0</td>\n",
       "\t\t<td>1646.4297</td>\n",
       "\t\t<td>259</td>\n",
       "\t</tr>\n",
       "\t<tr>\n",
       "\t\t<td>19</td>\n",
       "\t\t<td>0</td>\n",
       "\t\t<td>1</td>\n",
       "\t\t<td>25.175</td>\n",
       "\t\t<td>0</td>\n",
       "\t\t<td>1</td>\n",
       "\t\t<td>0</td>\n",
       "\t\t<td>0</td>\n",
       "\t\t<td>1</td>\n",
       "\t\t<td>0</td>\n",
       "\t\t<td>0</td>\n",
       "\t\t<td>1632.03625</td>\n",
       "\t\t<td>59</td>\n",
       "\t</tr>\n",
       "\t<tr>\n",
       "\t\t<td>19</td>\n",
       "\t\t<td>0</td>\n",
       "\t\t<td>1</td>\n",
       "\t\t<td>27.265</td>\n",
       "\t\t<td>2</td>\n",
       "\t\t<td>1</td>\n",
       "\t\t<td>0</td>\n",
       "\t\t<td>0</td>\n",
       "\t\t<td>1</td>\n",
       "\t\t<td>0</td>\n",
       "\t\t<td>0</td>\n",
       "\t\t<td>22493.65964</td>\n",
       "\t\t<td>131</td>\n",
       "\t</tr>\n",
       "\t<tr>\n",
       "\t\t<td>19</td>\n",
       "\t\t<td>0</td>\n",
       "\t\t<td>1</td>\n",
       "\t\t<td>20.9</td>\n",
       "\t\t<td>1</td>\n",
       "\t\t<td>1</td>\n",
       "\t\t<td>0</td>\n",
       "\t\t<td>0</td>\n",
       "\t\t<td>0</td>\n",
       "\t\t<td>0</td>\n",
       "\t\t<td>1</td>\n",
       "\t\t<td>1832.094</td>\n",
       "\t\t<td>91</td>\n",
       "\t</tr>\n",
       "\t<tr>\n",
       "\t\t<td>19</td>\n",
       "\t\t<td>1</td>\n",
       "\t\t<td>0</td>\n",
       "\t\t<td>31.825</td>\n",
       "\t\t<td>1</td>\n",
       "\t\t<td>1</td>\n",
       "\t\t<td>0</td>\n",
       "\t\t<td>0</td>\n",
       "\t\t<td>1</td>\n",
       "\t\t<td>0</td>\n",
       "\t\t<td>0</td>\n",
       "\t\t<td>2719.27975</td>\n",
       "\t\t<td>107</td>\n",
       "\t</tr>\n",
       "</table></html>"
      ],
      "text/plain": [
       "     sex_0  sex_1     bmi  children  smoker_0  smoker_1  region_0  region_1  region_2  region_3      charges   id\n",
       "age                                                                                                              \n",
       "19       0      1  21.755         0         1         0         0         1         0         0   1627.28245  283\n",
       "19       1      0  28.900         0         1         0         0         0         0         1   1743.21400  163\n",
       "19       1      0  29.800         0         1         0         0         0         0         1   1744.46500  379\n",
       "19       0      1  34.400         0         1         0         0         0         0         1   1261.85900   51\n",
       "19       1      0  28.880         0         0         1         0         1         0         0  17748.50620  275\n",
       "19       0      1  35.530         0         1         0         0         1         0         0   1646.42970  259\n",
       "19       0      1  25.175         0         1         0         0         1         0         0   1632.03625   59\n",
       "19       0      1  27.265         2         1         0         0         1         0         0  22493.65964  131\n",
       "19       0      1  20.900         1         1         0         0         0         0         1   1832.09400   91\n",
       "19       1      0  31.825         1         1         0         0         1         0         0   2719.27975  107"
      ]
     },
     "metadata": {},
     "output_type": "display_data"
    },
    {
     "name": "stdout",
     "output_type": "stream",
     "text": [
      "                                                                                         \r"
     ]
    },
    {
     "data": {
      "text/html": [
       "848 rows X 13 columns"
      ],
      "text/plain": [
       "<IPython.core.display.HTML object>"
      ]
     },
     "metadata": {},
     "output_type": "display_data"
    },
    {
     "name": "stdout",
     "output_type": "stream",
     "text": [
      "                                                                                         \r"
     ]
    },
    {
     "data": {
      "text/html": [
       "Time Taken by Outlier processing: 33.69 sec "
      ],
      "text/plain": [
       "<IPython.core.display.HTML object>"
      ]
     },
     "metadata": {},
     "output_type": "display_data"
    },
    {
     "name": "stdout",
     "output_type": "stream",
     "text": [
      "result data stored in table '\"ALICE\".\"ml__td_sqlmr_persist_out__1719264224327690\"' - 8/19\n",
      "result data stored in table '\"ALICE\".\"ml__td_sqlmr_persist_out__1719260212268119\"'\n",
      "                                                                                          \r"
     ]
    },
    {
     "data": {
      "text/html": [
       "\n",
       "Feature selection using lasso ..."
      ],
      "text/plain": [
       "<IPython.core.display.HTML object>"
      ]
     },
     "metadata": {},
     "output_type": "display_data"
    },
    {
     "name": "stdout",
     "output_type": "stream",
     "text": [
      "                                                                                          \r"
     ]
    },
    {
     "data": {
      "text/html": [
       "feature selected by lasso:"
      ],
      "text/plain": [
       "<IPython.core.display.HTML object>"
      ]
     },
     "metadata": {},
     "output_type": "display_data"
    },
    {
     "name": "stdout",
     "output_type": "stream",
     "text": [
      "['smoker_0', 'region_0', 'children', 'age', 'smoker_1', 'bmi']\n",
      "                                                                                          \r"
     ]
    },
    {
     "data": {
      "text/html": [
       "Total time taken by feature selection: 3.56 sec  "
      ],
      "text/plain": [
       "<IPython.core.display.HTML object>"
      ]
     },
     "metadata": {},
     "output_type": "display_data"
    },
    {
     "name": "stdout",
     "output_type": "stream",
     "text": [
      "                                                                                          \r"
     ]
    },
    {
     "data": {
      "text/html": [
       "\n",
       "scaling Features of lasso data ..."
      ],
      "text/plain": [
       "<IPython.core.display.HTML object>"
      ]
     },
     "metadata": {},
     "output_type": "display_data"
    },
    {
     "name": "stdout",
     "output_type": "stream",
     "text": [
      "                                                                                          \r"
     ]
    },
    {
     "data": {
      "text/html": [
       "columns that will be scaled: "
      ],
      "text/plain": [
       "<IPython.core.display.HTML object>"
      ]
     },
     "metadata": {},
     "output_type": "display_data"
    },
    {
     "name": "stdout",
     "output_type": "stream",
     "text": [
      "['children', 'age', 'bmi']\n",
      "                                                                                          \r"
     ]
    },
    {
     "data": {
      "text/html": [
       "Training dataset sample after scaling:"
      ],
      "text/plain": [
       "<IPython.core.display.HTML object>"
      ]
     },
     "metadata": {},
     "output_type": "display_data"
    },
    {
     "data": {
      "text/html": [
       "<style type=\"text/css\">\n",
       "\ttable {border:ridge 5px;}\n",
       "\ttable td {border:inset 1px;}\n",
       "\ttable tr#HeaderRow {background-color:grey; color:white;}</style>\n",
       "<html><table>\n",
       "\t<tr id=\"HeaderRow\">\n",
       "\t\t<th>smoker_0</th>\n",
       "\t\t<th>id</th>\n",
       "\t\t<th>region_0</th>\n",
       "\t\t<th>charges</th>\n",
       "\t\t<th>smoker_1</th>\n",
       "\t\t<th>children</th>\n",
       "\t\t<th>age</th>\n",
       "\t\t<th>bmi</th>\n",
       "\t</tr>\n",
       "\t<tr>\n",
       "\t\t<td>1</td>\n",
       "\t\t<td>10</td>\n",
       "\t\t<td>0</td>\n",
       "\t\t<td>6593.5083</td>\n",
       "\t\t<td>0</td>\n",
       "\t\t<td>0.8047892010664878</td>\n",
       "\t\t<td>0.06973726793330046</td>\n",
       "\t\t<td>-0.9143905112779115</td>\n",
       "\t</tr>\n",
       "\t<tr>\n",
       "\t\t<td>1</td>\n",
       "\t\t<td>12</td>\n",
       "\t\t<td>0</td>\n",
       "\t\t<td>6457.8434</td>\n",
       "\t\t<td>0</td>\n",
       "\t\t<td>0.8047892010664878</td>\n",
       "\t\t<td>-0.07327894296739813</td>\n",
       "\t\t<td>-0.17535102884464382</td>\n",
       "\t</tr>\n",
       "\t<tr>\n",
       "\t\t<td>1</td>\n",
       "\t\t<td>13</td>\n",
       "\t\t<td>0</td>\n",
       "\t\t<td>11552.904</td>\n",
       "\t\t<td>0</td>\n",
       "\t\t<td>3.3261977324866168</td>\n",
       "\t\t<td>0.7133102169864441</td>\n",
       "\t\t<td>0.27944249880659705</td>\n",
       "\t</tr>\n",
       "\t<tr>\n",
       "\t\t<td>1</td>\n",
       "\t\t<td>14</td>\n",
       "\t\t<td>0</td>\n",
       "\t\t<td>13041.921</td>\n",
       "\t\t<td>0</td>\n",
       "\t\t<td>-0.8761498198802651</td>\n",
       "\t\t<td>1.5714074823906357</td>\n",
       "\t\t<td>-0.35795752100764267</td>\n",
       "\t</tr>\n",
       "\t<tr>\n",
       "\t\t<td>1</td>\n",
       "\t\t<td>16</td>\n",
       "\t\t<td>0</td>\n",
       "\t\t<td>2904.088</td>\n",
       "\t\t<td>0</td>\n",
       "\t\t<td>-0.03568030940688866</td>\n",
       "\t\t<td>-0.9313762083715896</td>\n",
       "\t\t<td>-0.047871024881796134</td>\n",
       "\t</tr>\n",
       "\t<tr>\n",
       "\t\t<td>0</td>\n",
       "\t\t<td>17</td>\n",
       "\t\t<td>0</td>\n",
       "\t\t<td>18972.495</td>\n",
       "\t\t<td>1</td>\n",
       "\t\t<td>0.8047892010664878</td>\n",
       "\t\t<td>-0.3593113647687953</td>\n",
       "\t\t<td>-0.857541320321506</td>\n",
       "\t</tr>\n",
       "\t<tr>\n",
       "\t\t<td>0</td>\n",
       "\t\t<td>15</td>\n",
       "\t\t<td>0</td>\n",
       "\t\t<td>32734.1863</td>\n",
       "\t\t<td>1</td>\n",
       "\t\t<td>0.8047892010664878</td>\n",
       "\t\t<td>-0.5023275756694939</td>\n",
       "\t\t<td>-2.155597847159424</td>\n",
       "\t</tr>\n",
       "\t<tr>\n",
       "\t\t<td>0</td>\n",
       "\t\t<td>11</td>\n",
       "\t\t<td>0</td>\n",
       "\t\t<td>13844.506</td>\n",
       "\t\t<td>1</td>\n",
       "\t\t<td>-0.8761498198802651</td>\n",
       "\t\t<td>-1.4319329465240347</td>\n",
       "\t\t<td>-1.477714312573199</td>\n",
       "\t</tr>\n",
       "\t<tr>\n",
       "\t\t<td>1</td>\n",
       "\t\t<td>9</td>\n",
       "\t\t<td>0</td>\n",
       "\t\t<td>3935.1799</td>\n",
       "\t\t<td>0</td>\n",
       "\t\t<td>-0.8761498198802651</td>\n",
       "\t\t<td>-0.3593113647687953</td>\n",
       "\t\t<td>0.6773868355014336</td>\n",
       "\t</tr>\n",
       "\t<tr>\n",
       "\t\t<td>1</td>\n",
       "\t\t<td>8</td>\n",
       "\t\t<td>1</td>\n",
       "\t\t<td>2897.3235</td>\n",
       "\t\t<td>0</td>\n",
       "\t\t<td>-0.8761498198802651</td>\n",
       "\t\t<td>-0.9313762083715896</td>\n",
       "\t\t<td>-0.14261967647580487</td>\n",
       "\t</tr>\n",
       "</table></html>"
      ],
      "text/plain": [
       "   smoker_0  id  region_0     charges  smoker_1  children       age       bmi\n",
       "0         1  10         0   6593.5083         0  0.804789  0.069737 -0.914391\n",
       "1         1  12         0   6457.8434         0  0.804789 -0.073279 -0.175351\n",
       "2         1  13         0  11552.9040         0  3.326198  0.713310  0.279442\n",
       "3         1  14         0  13041.9210         0 -0.876150  1.571407 -0.357958\n",
       "4         1  16         0   2904.0880         0 -0.035680 -0.931376 -0.047871\n",
       "5         0  17         0  18972.4950         1  0.804789 -0.359311 -0.857541\n",
       "6         0  15         0  32734.1863         1  0.804789 -0.502328 -2.155598\n",
       "7         0  11         0  13844.5060         1 -0.876150 -1.431933 -1.477714\n",
       "8         1   9         0   3935.1799         0 -0.876150 -0.359311  0.677387\n",
       "9         1   8         1   2897.3235         0 -0.876150 -0.931376 -0.142620"
      ]
     },
     "metadata": {},
     "output_type": "display_data"
    },
    {
     "name": "stdout",
     "output_type": "stream",
     "text": [
      "                                                                                          \r"
     ]
    },
    {
     "data": {
      "text/html": [
       "848 rows X 8 columns"
      ],
      "text/plain": [
       "<IPython.core.display.HTML object>"
      ]
     },
     "metadata": {},
     "output_type": "display_data"
    },
    {
     "name": "stdout",
     "output_type": "stream",
     "text": [
      "                                                                                          \r"
     ]
    },
    {
     "data": {
      "text/html": [
       "Testing dataset sample after scaling:"
      ],
      "text/plain": [
       "<IPython.core.display.HTML object>"
      ]
     },
     "metadata": {},
     "output_type": "display_data"
    },
    {
     "data": {
      "text/html": [
       "<style type=\"text/css\">\n",
       "\ttable {border:ridge 5px;}\n",
       "\ttable td {border:inset 1px;}\n",
       "\ttable tr#HeaderRow {background-color:grey; color:white;}</style>\n",
       "<html><table>\n",
       "\t<tr id=\"HeaderRow\">\n",
       "\t\t<th>smoker_0</th>\n",
       "\t\t<th>id</th>\n",
       "\t\t<th>region_0</th>\n",
       "\t\t<th>charges</th>\n",
       "\t\t<th>smoker_1</th>\n",
       "\t\t<th>children</th>\n",
       "\t\t<th>age</th>\n",
       "\t\t<th>bmi</th>\n",
       "\t</tr>\n",
       "\t<tr>\n",
       "\t\t<td>1</td>\n",
       "\t\t<td>243</td>\n",
       "\t\t<td>0</td>\n",
       "\t\t<td>1628.4709</td>\n",
       "\t\t<td>0</td>\n",
       "\t\t<td>-0.8761498198802651</td>\n",
       "\t\t<td>-1.4319329465240347</td>\n",
       "\t\t<td>-1.3209483617540212</td>\n",
       "\t</tr>\n",
       "\t<tr>\n",
       "\t\t<td>0</td>\n",
       "\t\t<td>571</td>\n",
       "\t\t<td>0</td>\n",
       "\t\t<td>46661.4424</td>\n",
       "\t\t<td>1</td>\n",
       "\t\t<td>1.645258711539864</td>\n",
       "\t\t<td>0.9993426387878412</td>\n",
       "\t\t<td>1.1339030659089295</td>\n",
       "\t</tr>\n",
       "\t<tr>\n",
       "\t\t<td>1</td>\n",
       "\t\t<td>483</td>\n",
       "\t\t<td>0</td>\n",
       "\t\t<td>21797.0004</td>\n",
       "\t\t<td>0</td>\n",
       "\t\t<td>-0.8761498198802651</td>\n",
       "\t\t<td>1.428391271489937</td>\n",
       "\t\t<td>1.2269290147466831</td>\n",
       "\t</tr>\n",
       "\t<tr>\n",
       "\t\t<td>1</td>\n",
       "\t\t<td>819</td>\n",
       "\t\t<td>0</td>\n",
       "\t\t<td>5693.4305</td>\n",
       "\t\t<td>0</td>\n",
       "\t\t<td>1.645258711539864</td>\n",
       "\t\t<td>-0.6453437865701924</td>\n",
       "\t\t<td>-1.7791872949177718</td>\n",
       "\t</tr>\n",
       "\t<tr>\n",
       "\t\t<td>1</td>\n",
       "\t\t<td>1083</td>\n",
       "\t\t<td>0</td>\n",
       "\t\t<td>9620.3307</td>\n",
       "\t\t<td>0</td>\n",
       "\t\t<td>1.645258711539864</td>\n",
       "\t\t<td>0.5702940060857455</td>\n",
       "\t\t<td>-0.07715697173812637</td>\n",
       "\t</tr>\n",
       "\t<tr>\n",
       "\t\t<td>1</td>\n",
       "\t\t<td>555</td>\n",
       "\t\t<td>0</td>\n",
       "\t\t<td>14001.1338</td>\n",
       "\t\t<td>0</td>\n",
       "\t\t<td>1.645258711539864</td>\n",
       "\t\t<td>1.428391271489937</td>\n",
       "\t\t<td>-0.4406472533078684</td>\n",
       "\t</tr>\n",
       "\t<tr>\n",
       "\t\t<td>0</td>\n",
       "\t\t<td>539</td>\n",
       "\t\t<td>1</td>\n",
       "\t\t<td>30184.9367</td>\n",
       "\t\t<td>1</td>\n",
       "\t\t<td>1.645258711539864</td>\n",
       "\t\t<td>1.428391271489937</td>\n",
       "\t\t<td>-0.07715697173812637</td>\n",
       "\t</tr>\n",
       "\t<tr>\n",
       "\t\t<td>1</td>\n",
       "\t\t<td>451</td>\n",
       "\t\t<td>0</td>\n",
       "\t\t<td>12244.531</td>\n",
       "\t\t<td>0</td>\n",
       "\t\t<td>-0.8761498198802651</td>\n",
       "\t\t<td>1.428391271489937</td>\n",
       "\t\t<td>0.8479344083706495</td>\n",
       "\t</tr>\n",
       "\t<tr>\n",
       "\t\t<td>1</td>\n",
       "\t\t<td>211</td>\n",
       "\t\t<td>0</td>\n",
       "\t\t<td>1728.897</td>\n",
       "\t\t<td>0</td>\n",
       "\t\t<td>-0.8761498198802651</td>\n",
       "\t\t<td>-1.4319329465240347</td>\n",
       "\t\t<td>-2.0117521670121565</td>\n",
       "\t</tr>\n",
       "\t<tr>\n",
       "\t\t<td>1</td>\n",
       "\t\t<td>123</td>\n",
       "\t\t<td>0</td>\n",
       "\t\t<td>1632.5645</td>\n",
       "\t\t<td>0</td>\n",
       "\t\t<td>-0.8761498198802651</td>\n",
       "\t\t<td>-1.4319329465240347</td>\n",
       "\t\t<td>-0.8136124000370113</td>\n",
       "\t</tr>\n",
       "</table></html>"
      ],
      "text/plain": [
       "   smoker_0    id  region_0     charges  smoker_1  children       age       bmi\n",
       "0         1   243         0   1628.4709         0 -0.876150 -1.431933 -1.320948\n",
       "1         0   571         0  46661.4424         1  1.645259  0.999343  1.133903\n",
       "2         1   483         0  21797.0004         0 -0.876150  1.428391  1.226929\n",
       "3         1   819         0   5693.4305         0  1.645259 -0.645344 -1.779187\n",
       "4         1  1083         0   9620.3307         0  1.645259  0.570294 -0.077157\n",
       "5         1   555         0  14001.1338         0  1.645259  1.428391 -0.440647\n",
       "6         0   539         1  30184.9367         1  1.645259  1.428391 -0.077157\n",
       "7         1   451         0  12244.5310         0 -0.876150  1.428391  0.847934\n",
       "8         1   211         0   1728.8970         0 -0.876150 -1.431933 -2.011752\n",
       "9         1   123         0   1632.5645         0 -0.876150 -1.431933 -0.813612"
      ]
     },
     "metadata": {},
     "output_type": "display_data"
    },
    {
     "name": "stdout",
     "output_type": "stream",
     "text": [
      "                                                                                          \r"
     ]
    },
    {
     "data": {
      "text/html": [
       "214 rows X 8 columns"
      ],
      "text/plain": [
       "<IPython.core.display.HTML object>"
      ]
     },
     "metadata": {},
     "output_type": "display_data"
    },
    {
     "name": "stdout",
     "output_type": "stream",
     "text": [
      "                                                                                          \r"
     ]
    },
    {
     "data": {
      "text/html": [
       "Total time taken by feature scaling: 38.00 sec"
      ],
      "text/plain": [
       "<IPython.core.display.HTML object>"
      ]
     },
     "metadata": {},
     "output_type": "display_data"
    },
    {
     "name": "stdout",
     "output_type": "stream",
     "text": [
      "                                                                                          \r"
     ]
    },
    {
     "data": {
      "text/html": [
       "\n",
       "Feature selection using rfe ..."
      ],
      "text/plain": [
       "<IPython.core.display.HTML object>"
      ]
     },
     "metadata": {},
     "output_type": "display_data"
    },
    {
     "name": "stdout",
     "output_type": "stream",
     "text": [
      "                                                                                          \r"
     ]
    },
    {
     "data": {
      "text/html": [
       "feature selected by RFE:"
      ],
      "text/plain": [
       "<IPython.core.display.HTML object>"
      ]
     },
     "metadata": {},
     "output_type": "display_data"
    },
    {
     "name": "stdout",
     "output_type": "stream",
     "text": [
      "['region_1', 'sex_0', 'smoker_0', 'region_3', 'region_2', 'region_0', 'children', 'sex_1', 'age', 'smoker_1', 'bmi']\n",
      "                                                                                          \r"
     ]
    },
    {
     "data": {
      "text/html": [
       "Total time taken by feature selection: 20.58 sec  "
      ],
      "text/plain": [
       "<IPython.core.display.HTML object>"
      ]
     },
     "metadata": {},
     "output_type": "display_data"
    },
    {
     "name": "stdout",
     "output_type": "stream",
     "text": [
      "                                                                                          \r"
     ]
    },
    {
     "data": {
      "text/html": [
       "\n",
       "scaling Features of rfe data ..."
      ],
      "text/plain": [
       "<IPython.core.display.HTML object>"
      ]
     },
     "metadata": {},
     "output_type": "display_data"
    },
    {
     "name": "stdout",
     "output_type": "stream",
     "text": [
      "                                                                                          \r"
     ]
    },
    {
     "data": {
      "text/html": [
       "columns that will be scaled: "
      ],
      "text/plain": [
       "<IPython.core.display.HTML object>"
      ]
     },
     "metadata": {},
     "output_type": "display_data"
    },
    {
     "name": "stdout",
     "output_type": "stream",
     "text": [
      "['r_children', 'r_age', 'r_bmi']\n",
      "                                                                                          \r"
     ]
    },
    {
     "data": {
      "text/html": [
       "Training dataset sample after scaling:"
      ],
      "text/plain": [
       "<IPython.core.display.HTML object>"
      ]
     },
     "metadata": {},
     "output_type": "display_data"
    },
    {
     "data": {
      "text/html": [
       "<style type=\"text/css\">\n",
       "\ttable {border:ridge 5px;}\n",
       "\ttable td {border:inset 1px;}\n",
       "\ttable tr#HeaderRow {background-color:grey; color:white;}</style>\n",
       "<html><table>\n",
       "\t<tr id=\"HeaderRow\">\n",
       "\t\t<th>r_region_1</th>\n",
       "\t\t<th>r_smoker_0</th>\n",
       "\t\t<th>r_smoker_1</th>\n",
       "\t\t<th>r_sex_0</th>\n",
       "\t\t<th>r_region_2</th>\n",
       "\t\t<th>id</th>\n",
       "\t\t<th>charges</th>\n",
       "\t\t<th>r_region_3</th>\n",
       "\t\t<th>r_sex_1</th>\n",
       "\t\t<th>r_region_0</th>\n",
       "\t\t<th>r_children</th>\n",
       "\t\t<th>r_age</th>\n",
       "\t\t<th>r_bmi</th>\n",
       "\t</tr>\n",
       "\t<tr>\n",
       "\t\t<td>0</td>\n",
       "\t\t<td>1</td>\n",
       "\t\t<td>0</td>\n",
       "\t\t<td>0</td>\n",
       "\t\t<td>1</td>\n",
       "\t\t<td>10</td>\n",
       "\t\t<td>6593.5083</td>\n",
       "\t\t<td>0</td>\n",
       "\t\t<td>1</td>\n",
       "\t\t<td>0</td>\n",
       "\t\t<td>0.8047892010664878</td>\n",
       "\t\t<td>0.06973726793330046</td>\n",
       "\t\t<td>-0.9143905112779115</td>\n",
       "\t</tr>\n",
       "\t<tr>\n",
       "\t\t<td>1</td>\n",
       "\t\t<td>1</td>\n",
       "\t\t<td>0</td>\n",
       "\t\t<td>0</td>\n",
       "\t\t<td>0</td>\n",
       "\t\t<td>12</td>\n",
       "\t\t<td>6457.8434</td>\n",
       "\t\t<td>0</td>\n",
       "\t\t<td>1</td>\n",
       "\t\t<td>0</td>\n",
       "\t\t<td>0.8047892010664878</td>\n",
       "\t\t<td>-0.07327894296739813</td>\n",
       "\t\t<td>-0.17535102884464382</td>\n",
       "\t</tr>\n",
       "\t<tr>\n",
       "\t\t<td>0</td>\n",
       "\t\t<td>1</td>\n",
       "\t\t<td>0</td>\n",
       "\t\t<td>1</td>\n",
       "\t\t<td>0</td>\n",
       "\t\t<td>13</td>\n",
       "\t\t<td>11552.904</td>\n",
       "\t\t<td>1</td>\n",
       "\t\t<td>0</td>\n",
       "\t\t<td>0</td>\n",
       "\t\t<td>3.3261977324866168</td>\n",
       "\t\t<td>0.7133102169864441</td>\n",
       "\t\t<td>0.27944249880659705</td>\n",
       "\t</tr>\n",
       "\t<tr>\n",
       "\t\t<td>0</td>\n",
       "\t\t<td>1</td>\n",
       "\t\t<td>0</td>\n",
       "\t\t<td>1</td>\n",
       "\t\t<td>0</td>\n",
       "\t\t<td>14</td>\n",
       "\t\t<td>13041.921</td>\n",
       "\t\t<td>1</td>\n",
       "\t\t<td>0</td>\n",
       "\t\t<td>0</td>\n",
       "\t\t<td>-0.8761498198802651</td>\n",
       "\t\t<td>1.5714074823906357</td>\n",
       "\t\t<td>-0.35795752100764267</td>\n",
       "\t</tr>\n",
       "\t<tr>\n",
       "\t\t<td>0</td>\n",
       "\t\t<td>1</td>\n",
       "\t\t<td>0</td>\n",
       "\t\t<td>0</td>\n",
       "\t\t<td>0</td>\n",
       "\t\t<td>16</td>\n",
       "\t\t<td>2904.088</td>\n",
       "\t\t<td>1</td>\n",
       "\t\t<td>1</td>\n",
       "\t\t<td>0</td>\n",
       "\t\t<td>-0.03568030940688866</td>\n",
       "\t\t<td>-0.9313762083715896</td>\n",
       "\t\t<td>-0.047871024881796134</td>\n",
       "\t</tr>\n",
       "\t<tr>\n",
       "\t\t<td>0</td>\n",
       "\t\t<td>0</td>\n",
       "\t\t<td>1</td>\n",
       "\t\t<td>0</td>\n",
       "\t\t<td>1</td>\n",
       "\t\t<td>17</td>\n",
       "\t\t<td>18972.495</td>\n",
       "\t\t<td>0</td>\n",
       "\t\t<td>1</td>\n",
       "\t\t<td>0</td>\n",
       "\t\t<td>0.8047892010664878</td>\n",
       "\t\t<td>-0.3593113647687953</td>\n",
       "\t\t<td>-0.857541320321506</td>\n",
       "\t</tr>\n",
       "\t<tr>\n",
       "\t\t<td>1</td>\n",
       "\t\t<td>0</td>\n",
       "\t\t<td>1</td>\n",
       "\t\t<td>1</td>\n",
       "\t\t<td>0</td>\n",
       "\t\t<td>15</td>\n",
       "\t\t<td>32734.1863</td>\n",
       "\t\t<td>0</td>\n",
       "\t\t<td>0</td>\n",
       "\t\t<td>0</td>\n",
       "\t\t<td>0.8047892010664878</td>\n",
       "\t\t<td>-0.5023275756694939</td>\n",
       "\t\t<td>-2.155597847159424</td>\n",
       "\t</tr>\n",
       "\t<tr>\n",
       "\t\t<td>0</td>\n",
       "\t\t<td>0</td>\n",
       "\t\t<td>1</td>\n",
       "\t\t<td>1</td>\n",
       "\t\t<td>0</td>\n",
       "\t\t<td>11</td>\n",
       "\t\t<td>13844.506</td>\n",
       "\t\t<td>1</td>\n",
       "\t\t<td>0</td>\n",
       "\t\t<td>0</td>\n",
       "\t\t<td>-0.8761498198802651</td>\n",
       "\t\t<td>-1.4319329465240347</td>\n",
       "\t\t<td>-1.477714312573199</td>\n",
       "\t</tr>\n",
       "\t<tr>\n",
       "\t\t<td>0</td>\n",
       "\t\t<td>1</td>\n",
       "\t\t<td>0</td>\n",
       "\t\t<td>0</td>\n",
       "\t\t<td>1</td>\n",
       "\t\t<td>9</td>\n",
       "\t\t<td>3935.1799</td>\n",
       "\t\t<td>0</td>\n",
       "\t\t<td>1</td>\n",
       "\t\t<td>0</td>\n",
       "\t\t<td>-0.8761498198802651</td>\n",
       "\t\t<td>-0.3593113647687953</td>\n",
       "\t\t<td>0.6773868355014336</td>\n",
       "\t</tr>\n",
       "\t<tr>\n",
       "\t\t<td>0</td>\n",
       "\t\t<td>1</td>\n",
       "\t\t<td>0</td>\n",
       "\t\t<td>0</td>\n",
       "\t\t<td>0</td>\n",
       "\t\t<td>8</td>\n",
       "\t\t<td>2897.3235</td>\n",
       "\t\t<td>0</td>\n",
       "\t\t<td>1</td>\n",
       "\t\t<td>1</td>\n",
       "\t\t<td>-0.8761498198802651</td>\n",
       "\t\t<td>-0.9313762083715896</td>\n",
       "\t\t<td>-0.14261967647580487</td>\n",
       "\t</tr>\n",
       "</table></html>"
      ],
      "text/plain": [
       "   r_region_1  r_smoker_0  r_smoker_1  r_sex_0  r_region_2  id     charges  r_region_3  r_sex_1  r_region_0  r_children     r_age     r_bmi\n",
       "0           0           1           0        0           1  10   6593.5083           0        1           0    0.804789  0.069737 -0.914391\n",
       "1           1           1           0        0           0  12   6457.8434           0        1           0    0.804789 -0.073279 -0.175351\n",
       "2           0           1           0        1           0  13  11552.9040           1        0           0    3.326198  0.713310  0.279442\n",
       "3           0           1           0        1           0  14  13041.9210           1        0           0   -0.876150  1.571407 -0.357958\n",
       "4           0           1           0        0           0  16   2904.0880           1        1           0   -0.035680 -0.931376 -0.047871\n",
       "5           0           0           1        0           1  17  18972.4950           0        1           0    0.804789 -0.359311 -0.857541\n",
       "6           1           0           1        1           0  15  32734.1863           0        0           0    0.804789 -0.502328 -2.155598\n",
       "7           0           0           1        1           0  11  13844.5060           1        0           0   -0.876150 -1.431933 -1.477714\n",
       "8           0           1           0        0           1   9   3935.1799           0        1           0   -0.876150 -0.359311  0.677387\n",
       "9           0           1           0        0           0   8   2897.3235           0        1           1   -0.876150 -0.931376 -0.142620"
      ]
     },
     "metadata": {},
     "output_type": "display_data"
    },
    {
     "name": "stdout",
     "output_type": "stream",
     "text": [
      "                                                                                          \r"
     ]
    },
    {
     "data": {
      "text/html": [
       "848 rows X 13 columns"
      ],
      "text/plain": [
       "<IPython.core.display.HTML object>"
      ]
     },
     "metadata": {},
     "output_type": "display_data"
    },
    {
     "name": "stdout",
     "output_type": "stream",
     "text": [
      "                                                                                          \r"
     ]
    },
    {
     "data": {
      "text/html": [
       "Testing dataset sample after scaling:"
      ],
      "text/plain": [
       "<IPython.core.display.HTML object>"
      ]
     },
     "metadata": {},
     "output_type": "display_data"
    },
    {
     "data": {
      "text/html": [
       "<style type=\"text/css\">\n",
       "\ttable {border:ridge 5px;}\n",
       "\ttable td {border:inset 1px;}\n",
       "\ttable tr#HeaderRow {background-color:grey; color:white;}</style>\n",
       "<html><table>\n",
       "\t<tr id=\"HeaderRow\">\n",
       "\t\t<th>r_region_1</th>\n",
       "\t\t<th>r_smoker_0</th>\n",
       "\t\t<th>r_smoker_1</th>\n",
       "\t\t<th>r_sex_0</th>\n",
       "\t\t<th>r_region_2</th>\n",
       "\t\t<th>id</th>\n",
       "\t\t<th>charges</th>\n",
       "\t\t<th>r_region_3</th>\n",
       "\t\t<th>r_sex_1</th>\n",
       "\t\t<th>r_region_0</th>\n",
       "\t\t<th>r_children</th>\n",
       "\t\t<th>r_age</th>\n",
       "\t\t<th>r_bmi</th>\n",
       "\t</tr>\n",
       "\t<tr>\n",
       "\t\t<td>1</td>\n",
       "\t\t<td>1</td>\n",
       "\t\t<td>0</td>\n",
       "\t\t<td>0</td>\n",
       "\t\t<td>0</td>\n",
       "\t\t<td>243</td>\n",
       "\t\t<td>1628.4709</td>\n",
       "\t\t<td>0</td>\n",
       "\t\t<td>1</td>\n",
       "\t\t<td>0</td>\n",
       "\t\t<td>-0.8761498198802651</td>\n",
       "\t\t<td>-1.4319329465240347</td>\n",
       "\t\t<td>-1.3209483617540212</td>\n",
       "\t</tr>\n",
       "\t<tr>\n",
       "\t\t<td>1</td>\n",
       "\t\t<td>0</td>\n",
       "\t\t<td>1</td>\n",
       "\t\t<td>1</td>\n",
       "\t\t<td>0</td>\n",
       "\t\t<td>571</td>\n",
       "\t\t<td>46661.4424</td>\n",
       "\t\t<td>0</td>\n",
       "\t\t<td>0</td>\n",
       "\t\t<td>0</td>\n",
       "\t\t<td>1.645258711539864</td>\n",
       "\t\t<td>0.9993426387878412</td>\n",
       "\t\t<td>1.1339030659089295</td>\n",
       "\t</tr>\n",
       "\t<tr>\n",
       "\t\t<td>0</td>\n",
       "\t\t<td>1</td>\n",
       "\t\t<td>0</td>\n",
       "\t\t<td>0</td>\n",
       "\t\t<td>0</td>\n",
       "\t\t<td>483</td>\n",
       "\t\t<td>21797.0004</td>\n",
       "\t\t<td>1</td>\n",
       "\t\t<td>1</td>\n",
       "\t\t<td>0</td>\n",
       "\t\t<td>-0.8761498198802651</td>\n",
       "\t\t<td>1.428391271489937</td>\n",
       "\t\t<td>1.2269290147466831</td>\n",
       "\t</tr>\n",
       "\t<tr>\n",
       "\t\t<td>1</td>\n",
       "\t\t<td>1</td>\n",
       "\t\t<td>0</td>\n",
       "\t\t<td>1</td>\n",
       "\t\t<td>0</td>\n",
       "\t\t<td>819</td>\n",
       "\t\t<td>5693.4305</td>\n",
       "\t\t<td>0</td>\n",
       "\t\t<td>0</td>\n",
       "\t\t<td>0</td>\n",
       "\t\t<td>1.645258711539864</td>\n",
       "\t\t<td>-0.6453437865701924</td>\n",
       "\t\t<td>-1.7791872949177718</td>\n",
       "\t</tr>\n",
       "\t<tr>\n",
       "\t\t<td>1</td>\n",
       "\t\t<td>1</td>\n",
       "\t\t<td>0</td>\n",
       "\t\t<td>0</td>\n",
       "\t\t<td>0</td>\n",
       "\t\t<td>1083</td>\n",
       "\t\t<td>9620.3307</td>\n",
       "\t\t<td>0</td>\n",
       "\t\t<td>1</td>\n",
       "\t\t<td>0</td>\n",
       "\t\t<td>1.645258711539864</td>\n",
       "\t\t<td>0.5702940060857455</td>\n",
       "\t\t<td>-0.07715697173812637</td>\n",
       "\t</tr>\n",
       "\t<tr>\n",
       "\t\t<td>0</td>\n",
       "\t\t<td>1</td>\n",
       "\t\t<td>0</td>\n",
       "\t\t<td>1</td>\n",
       "\t\t<td>1</td>\n",
       "\t\t<td>555</td>\n",
       "\t\t<td>14001.1338</td>\n",
       "\t\t<td>0</td>\n",
       "\t\t<td>0</td>\n",
       "\t\t<td>0</td>\n",
       "\t\t<td>1.645258711539864</td>\n",
       "\t\t<td>1.428391271489937</td>\n",
       "\t\t<td>-0.4406472533078684</td>\n",
       "\t</tr>\n",
       "\t<tr>\n",
       "\t\t<td>0</td>\n",
       "\t\t<td>0</td>\n",
       "\t\t<td>1</td>\n",
       "\t\t<td>0</td>\n",
       "\t\t<td>0</td>\n",
       "\t\t<td>539</td>\n",
       "\t\t<td>30184.9367</td>\n",
       "\t\t<td>0</td>\n",
       "\t\t<td>1</td>\n",
       "\t\t<td>1</td>\n",
       "\t\t<td>1.645258711539864</td>\n",
       "\t\t<td>1.428391271489937</td>\n",
       "\t\t<td>-0.07715697173812637</td>\n",
       "\t</tr>\n",
       "\t<tr>\n",
       "\t\t<td>0</td>\n",
       "\t\t<td>1</td>\n",
       "\t\t<td>0</td>\n",
       "\t\t<td>1</td>\n",
       "\t\t<td>1</td>\n",
       "\t\t<td>451</td>\n",
       "\t\t<td>12244.531</td>\n",
       "\t\t<td>0</td>\n",
       "\t\t<td>0</td>\n",
       "\t\t<td>0</td>\n",
       "\t\t<td>-0.8761498198802651</td>\n",
       "\t\t<td>1.428391271489937</td>\n",
       "\t\t<td>0.8479344083706495</td>\n",
       "\t</tr>\n",
       "\t<tr>\n",
       "\t\t<td>0</td>\n",
       "\t\t<td>1</td>\n",
       "\t\t<td>0</td>\n",
       "\t\t<td>1</td>\n",
       "\t\t<td>0</td>\n",
       "\t\t<td>211</td>\n",
       "\t\t<td>1728.897</td>\n",
       "\t\t<td>1</td>\n",
       "\t\t<td>0</td>\n",
       "\t\t<td>0</td>\n",
       "\t\t<td>-0.8761498198802651</td>\n",
       "\t\t<td>-1.4319329465240347</td>\n",
       "\t\t<td>-2.0117521670121565</td>\n",
       "\t</tr>\n",
       "\t<tr>\n",
       "\t\t<td>1</td>\n",
       "\t\t<td>1</td>\n",
       "\t\t<td>0</td>\n",
       "\t\t<td>0</td>\n",
       "\t\t<td>0</td>\n",
       "\t\t<td>123</td>\n",
       "\t\t<td>1632.5645</td>\n",
       "\t\t<td>0</td>\n",
       "\t\t<td>1</td>\n",
       "\t\t<td>0</td>\n",
       "\t\t<td>-0.8761498198802651</td>\n",
       "\t\t<td>-1.4319329465240347</td>\n",
       "\t\t<td>-0.8136124000370113</td>\n",
       "\t</tr>\n",
       "</table></html>"
      ],
      "text/plain": [
       "   r_region_1  r_smoker_0  r_smoker_1  r_sex_0  r_region_2    id     charges  r_region_3  r_sex_1  r_region_0  r_children     r_age     r_bmi\n",
       "0           1           1           0        0           0   243   1628.4709           0        1           0   -0.876150 -1.431933 -1.320948\n",
       "1           1           0           1        1           0   571  46661.4424           0        0           0    1.645259  0.999343  1.133903\n",
       "2           0           1           0        0           0   483  21797.0004           1        1           0   -0.876150  1.428391  1.226929\n",
       "3           1           1           0        1           0   819   5693.4305           0        0           0    1.645259 -0.645344 -1.779187\n",
       "4           1           1           0        0           0  1083   9620.3307           0        1           0    1.645259  0.570294 -0.077157\n",
       "5           0           1           0        1           1   555  14001.1338           0        0           0    1.645259  1.428391 -0.440647\n",
       "6           0           0           1        0           0   539  30184.9367           0        1           1    1.645259  1.428391 -0.077157\n",
       "7           0           1           0        1           1   451  12244.5310           0        0           0   -0.876150  1.428391  0.847934\n",
       "8           0           1           0        1           0   211   1728.8970           1        0           0   -0.876150 -1.431933 -2.011752\n",
       "9           1           1           0        0           0   123   1632.5645           0        1           0   -0.876150 -1.431933 -0.813612"
      ]
     },
     "metadata": {},
     "output_type": "display_data"
    },
    {
     "name": "stdout",
     "output_type": "stream",
     "text": [
      "                                                                                          \r"
     ]
    },
    {
     "data": {
      "text/html": [
       "214 rows X 13 columns"
      ],
      "text/plain": [
       "<IPython.core.display.HTML object>"
      ]
     },
     "metadata": {},
     "output_type": "display_data"
    },
    {
     "name": "stdout",
     "output_type": "stream",
     "text": [
      "                                                                                          \r"
     ]
    },
    {
     "data": {
      "text/html": [
       "Total time taken by feature scaling: 42.89 sec"
      ],
      "text/plain": [
       "<IPython.core.display.HTML object>"
      ]
     },
     "metadata": {},
     "output_type": "display_data"
    },
    {
     "name": "stdout",
     "output_type": "stream",
     "text": [
      "                                                                                          \r"
     ]
    },
    {
     "data": {
      "text/html": [
       "\n",
       "scaling Features of pca data ..."
      ],
      "text/plain": [
       "<IPython.core.display.HTML object>"
      ]
     },
     "metadata": {},
     "output_type": "display_data"
    },
    {
     "name": "stdout",
     "output_type": "stream",
     "text": [
      "                                                                                          \r"
     ]
    },
    {
     "data": {
      "text/html": [
       "columns that will be scaled: "
      ],
      "text/plain": [
       "<IPython.core.display.HTML object>"
      ]
     },
     "metadata": {},
     "output_type": "display_data"
    },
    {
     "name": "stdout",
     "output_type": "stream",
     "text": [
      "['age', 'bmi', 'children']\n",
      "                                                                                          \r"
     ]
    },
    {
     "data": {
      "text/html": [
       "Training dataset sample after scaling:"
      ],
      "text/plain": [
       "<IPython.core.display.HTML object>"
      ]
     },
     "metadata": {},
     "output_type": "display_data"
    },
    {
     "data": {
      "text/html": [
       "<style type=\"text/css\">\n",
       "\ttable {border:ridge 5px;}\n",
       "\ttable td {border:inset 1px;}\n",
       "\ttable tr#HeaderRow {background-color:grey; color:white;}</style>\n",
       "<html><table>\n",
       "\t<tr id=\"HeaderRow\">\n",
       "\t\t<th>region_1</th>\n",
       "\t\t<th>sex_0</th>\n",
       "\t\t<th>smoker_0</th>\n",
       "\t\t<th>region_3</th>\n",
       "\t\t<th>region_2</th>\n",
       "\t\t<th>id</th>\n",
       "\t\t<th>region_0</th>\n",
       "\t\t<th>charges</th>\n",
       "\t\t<th>sex_1</th>\n",
       "\t\t<th>smoker_1</th>\n",
       "\t\t<th>age</th>\n",
       "\t\t<th>bmi</th>\n",
       "\t\t<th>children</th>\n",
       "\t</tr>\n",
       "\t<tr>\n",
       "\t\t<td>1</td>\n",
       "\t\t<td>0</td>\n",
       "\t\t<td>1</td>\n",
       "\t\t<td>0</td>\n",
       "\t\t<td>0</td>\n",
       "\t\t<td>152</td>\n",
       "\t\t<td>0</td>\n",
       "\t\t<td>3292.52985</td>\n",
       "\t\t<td>1</td>\n",
       "\t\t<td>0</td>\n",
       "\t\t<td>-0.93137620837159</td>\n",
       "\t\t<td>0.6265671041919199</td>\n",
       "\t\t<td>-0.03568030940688884</td>\n",
       "\t</tr>\n",
       "\t<tr>\n",
       "\t\t<td>0</td>\n",
       "\t\t<td>0</td>\n",
       "\t\t<td>0</td>\n",
       "\t\t<td>0</td>\n",
       "\t\t<td>0</td>\n",
       "\t\t<td>18</td>\n",
       "\t\t<td>1</td>\n",
       "\t\t<td>39125.33225</td>\n",
       "\t\t<td>1</td>\n",
       "\t\t<td>1</td>\n",
       "\t\t<td>0.06973726793330048</td>\n",
       "\t\t<td>0.4301789899788836</td>\n",
       "\t\t<td>-0.03568030940688884</td>\n",
       "\t</tr>\n",
       "\t<tr>\n",
       "\t\t<td>0</td>\n",
       "\t\t<td>0</td>\n",
       "\t\t<td>1</td>\n",
       "\t\t<td>0</td>\n",
       "\t\t<td>1</td>\n",
       "\t\t<td>50</td>\n",
       "\t\t<td>0</td>\n",
       "\t\t<td>5415.6612</td>\n",
       "\t\t<td>1</td>\n",
       "\t\t<td>0</td>\n",
       "\t\t<td>0.06973726793330048</td>\n",
       "\t\t<td>-0.8954407809591102</td>\n",
       "\t\t<td>-0.8761498198802695</td>\n",
       "\t</tr>\n",
       "\t<tr>\n",
       "\t\t<td>0</td>\n",
       "\t\t<td>1</td>\n",
       "\t\t<td>1</td>\n",
       "\t\t<td>1</td>\n",
       "\t\t<td>0</td>\n",
       "\t\t<td>61</td>\n",
       "\t\t<td>0</td>\n",
       "\t\t<td>26140.3603</td>\n",
       "\t\t<td>0</td>\n",
       "\t\t<td>0</td>\n",
       "\t\t<td>0.7133102169864444</td>\n",
       "\t\t<td>-0.5474548241956597</td>\n",
       "\t\t<td>-0.03568030940688884</td>\n",
       "\t</tr>\n",
       "\t<tr>\n",
       "\t\t<td>0</td>\n",
       "\t\t<td>1</td>\n",
       "\t\t<td>1</td>\n",
       "\t\t<td>0</td>\n",
       "\t\t<td>0</td>\n",
       "\t\t<td>103</td>\n",
       "\t\t<td>1</td>\n",
       "\t\t<td>5148.5526</td>\n",
       "\t\t<td>0</td>\n",
       "\t\t<td>0</td>\n",
       "\t\t<td>-0.502327575669494</td>\n",
       "\t\t<td>0.21742519958142792</td>\n",
       "\t\t<td>-0.03568030940688884</td>\n",
       "\t</tr>\n",
       "\t<tr>\n",
       "\t\t<td>1</td>\n",
       "\t\t<td>0</td>\n",
       "\t\t<td>1</td>\n",
       "\t\t<td>0</td>\n",
       "\t\t<td>0</td>\n",
       "\t\t<td>47</td>\n",
       "\t\t<td>0</td>\n",
       "\t\t<td>3866.8552</td>\n",
       "\t\t<td>1</td>\n",
       "\t\t<td>0</td>\n",
       "\t\t<td>-0.502327575669494</td>\n",
       "\t\t<td>-0.24081373358232303</td>\n",
       "\t\t<td>-0.8761498198802695</td>\n",
       "\t</tr>\n",
       "\t<tr>\n",
       "\t\t<td>1</td>\n",
       "\t\t<td>1</td>\n",
       "\t\t<td>1</td>\n",
       "\t\t<td>0</td>\n",
       "\t\t<td>0</td>\n",
       "\t\t<td>107</td>\n",
       "\t\t<td>0</td>\n",
       "\t\t<td>2719.27975</td>\n",
       "\t\t<td>0</td>\n",
       "\t\t<td>0</td>\n",
       "\t\t<td>-1.4319329465240354</td>\n",
       "\t\t<td>0.26652222813468696</td>\n",
       "\t\t<td>-0.03568030940688884</td>\n",
       "\t</tr>\n",
       "\t<tr>\n",
       "\t\t<td>0</td>\n",
       "\t\t<td>0</td>\n",
       "\t\t<td>1</td>\n",
       "\t\t<td>1</td>\n",
       "\t\t<td>0</td>\n",
       "\t\t<td>91</td>\n",
       "\t\t<td>0</td>\n",
       "\t\t<td>1832.094</td>\n",
       "\t\t<td>1</td>\n",
       "\t\t<td>0</td>\n",
       "\t\t<td>-1.4319329465240354</td>\n",
       "\t\t<td>-1.6155305330735759</td>\n",
       "\t\t<td>-0.03568030940688884</td>\n",
       "\t</tr>\n",
       "\t<tr>\n",
       "\t\t<td>0</td>\n",
       "\t\t<td>1</td>\n",
       "\t\t<td>1</td>\n",
       "\t\t<td>0</td>\n",
       "\t\t<td>0</td>\n",
       "\t\t<td>46</td>\n",
       "\t\t<td>1</td>\n",
       "\t\t<td>13616.3586</td>\n",
       "\t\t<td>0</td>\n",
       "\t\t<td>0</td>\n",
       "\t\t<td>1.571407482390636</td>\n",
       "\t\t<td>-1.4191424188605397</td>\n",
       "\t\t<td>-0.8761498198802695</td>\n",
       "\t</tr>\n",
       "\t<tr>\n",
       "\t\t<td>1</td>\n",
       "\t\t<td>1</td>\n",
       "\t\t<td>1</td>\n",
       "\t\t<td>0</td>\n",
       "\t\t<td>0</td>\n",
       "\t\t<td>94</td>\n",
       "\t\t<td>0</td>\n",
       "\t\t<td>13429.0354</td>\n",
       "\t\t<td>0</td>\n",
       "\t\t<td>0</td>\n",
       "\t\t<td>1.571407482390636</td>\n",
       "\t\t<td>0.15196249484374938</td>\n",
       "\t\t<td>-0.8761498198802695</td>\n",
       "\t</tr>\n",
       "</table></html>"
      ],
      "text/plain": [
       "   region_1  sex_0  smoker_0  region_3  region_2   id  region_0      charges  sex_1  smoker_1       age       bmi  children\n",
       "0         1      0         1         0         0  152         0   3292.52985      1         0 -0.931376  0.626567  -0.03568\n",
       "1         0      0         0         0         0   18         1  39125.33225      1         1  0.069737  0.430179  -0.03568\n",
       "2         0      0         1         0         1   50         0   5415.66120      1         0  0.069737 -0.895441  -0.87615\n",
       "3         0      1         1         1         0   61         0  26140.36030      0         0  0.713310 -0.547455  -0.03568\n",
       "4         0      1         1         0         0  103         1   5148.55260      0         0 -0.502328  0.217425  -0.03568\n",
       "5         1      0         1         0         0   47         0   3866.85520      1         0 -0.502328 -0.240814  -0.87615\n",
       "6         1      1         1         0         0  107         0   2719.27975      0         0 -1.431933  0.266522  -0.03568\n",
       "7         0      0         1         1         0   91         0   1832.09400      1         0 -1.431933 -1.615531  -0.03568\n",
       "8         0      1         1         0         0   46         1  13616.35860      0         0  1.571407 -1.419142  -0.87615\n",
       "9         1      1         1         0         0   94         0  13429.03540      0         0  1.571407  0.151962  -0.87615"
      ]
     },
     "metadata": {},
     "output_type": "display_data"
    },
    {
     "name": "stdout",
     "output_type": "stream",
     "text": [
      "                                                                                          \r"
     ]
    },
    {
     "data": {
      "text/html": [
       "848 rows X 13 columns"
      ],
      "text/plain": [
       "<IPython.core.display.HTML object>"
      ]
     },
     "metadata": {},
     "output_type": "display_data"
    },
    {
     "name": "stdout",
     "output_type": "stream",
     "text": [
      "                                                                                          \r"
     ]
    },
    {
     "data": {
      "text/html": [
       "Testing dataset sample after scaling:"
      ],
      "text/plain": [
       "<IPython.core.display.HTML object>"
      ]
     },
     "metadata": {},
     "output_type": "display_data"
    },
    {
     "data": {
      "text/html": [
       "<style type=\"text/css\">\n",
       "\ttable {border:ridge 5px;}\n",
       "\ttable td {border:inset 1px;}\n",
       "\ttable tr#HeaderRow {background-color:grey; color:white;}</style>\n",
       "<html><table>\n",
       "\t<tr id=\"HeaderRow\">\n",
       "\t\t<th>region_1</th>\n",
       "\t\t<th>sex_0</th>\n",
       "\t\t<th>smoker_0</th>\n",
       "\t\t<th>region_3</th>\n",
       "\t\t<th>region_2</th>\n",
       "\t\t<th>id</th>\n",
       "\t\t<th>region_0</th>\n",
       "\t\t<th>charges</th>\n",
       "\t\t<th>sex_1</th>\n",
       "\t\t<th>smoker_1</th>\n",
       "\t\t<th>age</th>\n",
       "\t\t<th>bmi</th>\n",
       "\t\t<th>children</th>\n",
       "\t</tr>\n",
       "\t<tr>\n",
       "\t\t<td>0</td>\n",
       "\t\t<td>0</td>\n",
       "\t\t<td>0</td>\n",
       "\t\t<td>1</td>\n",
       "\t\t<td>0</td>\n",
       "\t\t<td>25</td>\n",
       "\t\t<td>0</td>\n",
       "\t\t<td>35491.64</td>\n",
       "\t\t<td>1</td>\n",
       "\t\t<td>1</td>\n",
       "\t\t<td>-0.35931136476879544</td>\n",
       "\t\t<td>0.08994519561858019</td>\n",
       "\t\t<td>-0.8761498198802695</td>\n",
       "\t</tr>\n",
       "\t<tr>\n",
       "\t\t<td>0</td>\n",
       "\t\t<td>0</td>\n",
       "\t\t<td>1</td>\n",
       "\t\t<td>1</td>\n",
       "\t\t<td>0</td>\n",
       "\t\t<td>24</td>\n",
       "\t\t<td>0</td>\n",
       "\t\t<td>3484.331</td>\n",
       "\t\t<td>1</td>\n",
       "\t\t<td>0</td>\n",
       "\t\t<td>-0.93137620837159</td>\n",
       "\t\t<td>-1.133173761322259</td>\n",
       "\t\t<td>0.8047892010664918</td>\n",
       "\t</tr>\n",
       "\t<tr>\n",
       "\t\t<td>0</td>\n",
       "\t\t<td>1</td>\n",
       "\t\t<td>0</td>\n",
       "\t\t<td>0</td>\n",
       "\t\t<td>0</td>\n",
       "\t\t<td>120</td>\n",
       "\t\t<td>1</td>\n",
       "\t\t<td>14455.64405</td>\n",
       "\t\t<td>0</td>\n",
       "\t\t<td>1</td>\n",
       "\t\t<td>-0.93137620837159</td>\n",
       "\t\t<td>-2.253791904265943</td>\n",
       "\t\t<td>0.8047892010664918</td>\n",
       "\t</tr>\n",
       "\t<tr>\n",
       "\t\t<td>0</td>\n",
       "\t\t<td>0</td>\n",
       "\t\t<td>1</td>\n",
       "\t\t<td>0</td>\n",
       "\t\t<td>1</td>\n",
       "\t\t<td>31</td>\n",
       "\t\t<td>0</td>\n",
       "\t\t<td>4686.3887</td>\n",
       "\t\t<td>1</td>\n",
       "\t\t<td>0</td>\n",
       "\t\t<td>-0.502327575669494</td>\n",
       "\t\t<td>2.7997566312072277</td>\n",
       "\t\t<td>0.8047892010664918</td>\n",
       "\t</tr>\n",
       "\t<tr>\n",
       "\t\t<td>1</td>\n",
       "\t\t<td>0</td>\n",
       "\t\t<td>1</td>\n",
       "\t\t<td>0</td>\n",
       "\t\t<td>0</td>\n",
       "\t\t<td>30</td>\n",
       "\t\t<td>0</td>\n",
       "\t\t<td>14119.62</td>\n",
       "\t\t<td>1</td>\n",
       "\t\t<td>0</td>\n",
       "\t\t<td>1.571407482390636</td>\n",
       "\t\t<td>0.348350609056785</td>\n",
       "\t\t<td>0.8047892010664918</td>\n",
       "\t</tr>\n",
       "\t<tr>\n",
       "\t\t<td>0</td>\n",
       "\t\t<td>0</td>\n",
       "\t\t<td>1</td>\n",
       "\t\t<td>0</td>\n",
       "\t\t<td>0</td>\n",
       "\t\t<td>126</td>\n",
       "\t\t<td>1</td>\n",
       "\t\t<td>13143.33665</td>\n",
       "\t\t<td>1</td>\n",
       "\t\t<td>0</td>\n",
       "\t\t<td>1.571407482390636</td>\n",
       "\t\t<td>0.5611043994542406</td>\n",
       "\t\t<td>-0.8761498198802695</td>\n",
       "\t</tr>\n",
       "\t<tr>\n",
       "\t\t<td>0</td>\n",
       "\t\t<td>1</td>\n",
       "\t\t<td>1</td>\n",
       "\t\t<td>0</td>\n",
       "\t\t<td>0</td>\n",
       "\t\t<td>28</td>\n",
       "\t\t<td>1</td>\n",
       "\t\t<td>7133.9025</td>\n",
       "\t\t<td>0</td>\n",
       "\t\t<td>0</td>\n",
       "\t\t<td>-0.07327894296739816</td>\n",
       "\t\t<td>-1.7791872949177725</td>\n",
       "\t\t<td>0.8047892010664918</td>\n",
       "\t</tr>\n",
       "\t<tr>\n",
       "\t\t<td>1</td>\n",
       "\t\t<td>0</td>\n",
       "\t\t<td>1</td>\n",
       "\t\t<td>0</td>\n",
       "\t\t<td>0</td>\n",
       "\t\t<td>124</td>\n",
       "\t\t<td>0</td>\n",
       "\t\t<td>6455.86265</td>\n",
       "\t\t<td>1</td>\n",
       "\t\t<td>0</td>\n",
       "\t\t<td>-0.07327894296739816</td>\n",
       "\t\t<td>-0.4208361716109391</td>\n",
       "\t\t<td>0.8047892010664918</td>\n",
       "\t</tr>\n",
       "\t<tr>\n",
       "\t\t<td>0</td>\n",
       "\t\t<td>0</td>\n",
       "\t\t<td>1</td>\n",
       "\t\t<td>0</td>\n",
       "\t\t<td>0</td>\n",
       "\t\t<td>29</td>\n",
       "\t\t<td>1</td>\n",
       "\t\t<td>9282.4806</td>\n",
       "\t\t<td>1</td>\n",
       "\t\t<td>0</td>\n",
       "\t\t<td>0.7133102169864444</td>\n",
       "\t\t<td>-0.7645153714837525</td>\n",
       "\t\t<td>-0.03568030940688884</td>\n",
       "\t</tr>\n",
       "\t<tr>\n",
       "\t\t<td>1</td>\n",
       "\t\t<td>1</td>\n",
       "\t\t<td>1</td>\n",
       "\t\t<td>0</td>\n",
       "\t\t<td>0</td>\n",
       "\t\t<td>125</td>\n",
       "\t\t<td>0</td>\n",
       "\t\t<td>10156.7832</td>\n",
       "\t\t<td>0</td>\n",
       "\t\t<td>0</td>\n",
       "\t\t<td>0.7133102169864444</td>\n",
       "\t\t<td>-1.2227543046475033</td>\n",
       "\t\t<td>0.8047892010664918</td>\n",
       "\t</tr>\n",
       "</table></html>"
      ],
      "text/plain": [
       "   region_1  sex_0  smoker_0  region_3  region_2   id  region_0      charges  sex_1  smoker_1       age       bmi  children\n",
       "0         0      0         0         1         0   25         0  35491.64000      1         1 -0.359311  0.089945 -0.876150\n",
       "1         0      0         1         1         0   24         0   3484.33100      1         0 -0.931376 -1.133174  0.804789\n",
       "2         0      1         0         0         0  120         1  14455.64405      0         1 -0.931376 -2.253792  0.804789\n",
       "3         0      0         1         0         1   31         0   4686.38870      1         0 -0.502328  2.799757  0.804789\n",
       "4         1      0         1         0         0   30         0  14119.62000      1         0  1.571407  0.348351  0.804789\n",
       "5         0      0         1         0         0  126         1  13143.33665      1         0  1.571407  0.561104 -0.876150\n",
       "6         0      1         1         0         0   28         1   7133.90250      0         0 -0.073279 -1.779187  0.804789\n",
       "7         1      0         1         0         0  124         0   6455.86265      1         0 -0.073279 -0.420836  0.804789\n",
       "8         0      0         1         0         0   29         1   9282.48060      1         0  0.713310 -0.764515 -0.035680\n",
       "9         1      1         1         0         0  125         0  10156.78320      0         0  0.713310 -1.222754  0.804789"
      ]
     },
     "metadata": {},
     "output_type": "display_data"
    },
    {
     "name": "stdout",
     "output_type": "stream",
     "text": [
      "                                                                                          \r"
     ]
    },
    {
     "data": {
      "text/html": [
       "214 rows X 13 columns"
      ],
      "text/plain": [
       "<IPython.core.display.HTML object>"
      ]
     },
     "metadata": {},
     "output_type": "display_data"
    },
    {
     "name": "stdout",
     "output_type": "stream",
     "text": [
      "                                                                                          \r"
     ]
    },
    {
     "data": {
      "text/html": [
       "Total time taken by feature scaling: 38.55 sec"
      ],
      "text/plain": [
       "<IPython.core.display.HTML object>"
      ]
     },
     "metadata": {},
     "output_type": "display_data"
    },
    {
     "name": "stdout",
     "output_type": "stream",
     "text": [
      "                                                                                          \r"
     ]
    },
    {
     "data": {
      "text/html": [
       "\n",
       "Dimension Reduction using pca ..."
      ],
      "text/plain": [
       "<IPython.core.display.HTML object>"
      ]
     },
     "metadata": {},
     "output_type": "display_data"
    },
    {
     "name": "stdout",
     "output_type": "stream",
     "text": [
      "                                                                                          \r"
     ]
    },
    {
     "data": {
      "text/html": [
       "PCA columns:"
      ],
      "text/plain": [
       "<IPython.core.display.HTML object>"
      ]
     },
     "metadata": {},
     "output_type": "display_data"
    },
    {
     "name": "stdout",
     "output_type": "stream",
     "text": [
      "['col_0', 'col_1', 'col_2', 'col_3', 'col_4', 'col_5', 'col_6', 'col_7']\n",
      "                                                                                          \r"
     ]
    },
    {
     "data": {
      "text/html": [
       "Total time taken by PCA: 9.72 sec  "
      ],
      "text/plain": [
       "<IPython.core.display.HTML object>"
      ]
     },
     "metadata": {},
     "output_type": "display_data"
    },
    {
     "name": "stdout",
     "output_type": "stream",
     "text": [
      "                                                                                          \r"
     ]
    },
    {
     "data": {
      "text/html": [
       "\n",
       "            <style>\n",
       "                .custom-div {\n",
       "                    background-color: lightgray;\n",
       "                    color: #000000;\n",
       "                    padding: 10px;\n",
       "                    border-radius: 8px;\n",
       "                    box-shadow: 0 3px 4px rgba(0 -  0 -  0 -  0.2);\n",
       "                    margin-bottom: 10px;\n",
       "                    text-align: center;\n",
       "                }\n",
       "            </style>\n",
       "        <br><div class=\"custom-div\"><h3><span style=\"color: green;\">1. Feature Exploration -> 2. Feature Engineering -> 3. Data Preparation -></span> 4. Model Training & Evaluation<center></h3></center></div>"
      ],
      "text/plain": [
       "<IPython.core.display.HTML object>"
      ]
     },
     "metadata": {},
     "output_type": "display_data"
    },
    {
     "name": "stdout",
     "output_type": "stream",
     "text": [
      "                                                                                          \r"
     ]
    },
    {
     "data": {
      "text/html": [
       "Model Training started ..."
      ],
      "text/plain": [
       "<IPython.core.display.HTML object>"
      ]
     },
     "metadata": {},
     "output_type": "display_data"
    },
    {
     "name": "stdout",
     "output_type": "stream",
     "text": [
      "                                                                                          \r"
     ]
    },
    {
     "data": {
      "text/html": [
       "\n",
       "Hyperparameters used for model training: "
      ],
      "text/plain": [
       "<IPython.core.display.HTML object>"
      ]
     },
     "metadata": {},
     "output_type": "display_data"
    },
    {
     "name": "stdout",
     "output_type": "stream",
     "text": [
      "response_column : charges                                                                                                                             \n",
      "name : decision_forest\n",
      "tree_type : Regression\n",
      "min_impurity : (0.0, 0.1, 0.2)\n",
      "max_depth : (5, 6, 8, 10)\n",
      "min_node_size : (1, 2, 3)\n",
      "num_trees : (-1, 20, 30)\n",
      "seed : 42\n",
      "Total number of models for decision_forest : 108\n",
      "--------------------------------------------------------------------------------------------------------------------------------------------------------------------------------------------------------\n",
      "\n",
      "response_column : charges\n",
      "name : xgboost\n",
      "model_type : Regression\n",
      "column_sampling : (1, 0.6)\n",
      "min_impurity : (0.0, 0.1, 0.2)\n",
      "lambda1 : (0.01, 0.1, 1, 10)\n",
      "shrinkage_factor : (0.5, 0.1, 0.3)\n",
      "max_depth : (5, 6, 8, 10)\n",
      "min_node_size : (1, 2, 3)\n",
      "iter_num : (10, 20, 30)\n",
      "seed : 42\n",
      "Total number of models for xgboost : 2592\n",
      "--------------------------------------------------------------------------------------------------------------------------------------------------------------------------------------------------------\n",
      "\n",
      "response_column : charges\n",
      "name : knn\n",
      "model_type : Regression\n",
      "k : (3, 5, 6, 8, 10, 12)\n",
      "id_column : id\n",
      "voting_weight : 1.0\n",
      "Total number of models for knn : 6\n",
      "--------------------------------------------------------------------------------------------------------------------------------------------------------------------------------------------------------\n",
      "\n",
      "response_column : charges\n",
      "name : svm\n",
      "model_type : regression\n",
      "lambda1 : (0.001, 0.02, 0.1)\n",
      "alpha : (0.15, 0.85)\n",
      "tolerance : (0.001, 0.01)\n",
      "learning_rate : ('Invtime', 'Adaptive', 'constant')\n",
      "initial_eta : (0.05, 0.1)\n",
      "momentum : (0.65, 0.8, 0.95)\n",
      "nesterov : True\n",
      "intercept : True\n",
      "iter_num_no_change : (5, 10, 50)\n",
      "local_sgd_iterations  : (10, 20)\n",
      "iter_max : (300, 200, 400)\n",
      "batch_size : (10, 50, 60, 80)\n",
      "Total number of models for svm : 15552\n",
      "--------------------------------------------------------------------------------------------------------------------------------------------------------------------------------------------------------\n",
      "\n",
      "response_column : charges\n",
      "name : glm\n",
      "family : GAUSSIAN\n",
      "lambda1 : (0.001, 0.02, 0.1)\n",
      "alpha : (0.15, 0.85)\n",
      "learning_rate : ('invtime', 'constant', 'adaptive')\n",
      "initial_eta : (0.05, 0.1)\n",
      "momentum : (0.65, 0.8, 0.95)\n",
      "iter_num_no_change : (5, 10, 50)\n",
      "iter_max : (300, 200, 400)\n",
      "batch_size : (10, 50, 60, 80)\n",
      "Total number of models for glm : 3888\n",
      "--------------------------------------------------------------------------------------------------------------------------------------------------------------------------------------------------------\n",
      "\n",
      "                                                                                          \r"
     ]
    },
    {
     "data": {
      "text/html": [
       "\n",
       "Performing hyperParameter tuning ..."
      ],
      "text/plain": [
       "<IPython.core.display.HTML object>"
      ]
     },
     "metadata": {},
     "output_type": "display_data"
    },
    {
     "name": "stdout",
     "output_type": "stream",
     "text": [
      "                                                                                          \r"
     ]
    },
    {
     "data": {
      "text/html": [
       "decision_forest"
      ],
      "text/plain": [
       "<IPython.core.display.HTML object>"
      ]
     },
     "metadata": {},
     "output_type": "display_data"
    },
    {
     "name": "stdout",
     "output_type": "stream",
     "text": [
      "result data stored in table '\"ALICE\".\"ml__td_sqlmr_persist_out__1719260588977982\"'                                                                                                                      \n",
      "result data stored in table '\"ALICE\".\"ml__td_sqlmr_persist_out__1719263435027477\"'\n",
      "result data stored in table '\"ALICE\".\"ml__td_sqlmr_persist_out__1719260931641183\"'\n",
      "                                                                                          \r"
     ]
    },
    {
     "data": {
      "text/html": [
       "----------------------------------------------------------------------------------------------------"
      ],
      "text/plain": [
       "<IPython.core.display.HTML object>"
      ]
     },
     "metadata": {},
     "output_type": "display_data"
    },
    {
     "name": "stdout",
     "output_type": "stream",
     "text": [
      "                                                                                          \r"
     ]
    },
    {
     "data": {
      "text/html": [
       "xgboost"
      ],
      "text/plain": [
       "<IPython.core.display.HTML object>"
      ]
     },
     "metadata": {},
     "output_type": "display_data"
    },
    {
     "name": "stdout",
     "output_type": "stream",
     "text": [
      "result data stored in table '\"ALICE\".\"ml__td_sqlmr_persist_out__1719266685033703\"'                                                                                                                      \n",
      "result data stored in table '\"ALICE\".\"ml__td_sqlmr_persist_out__1719260303899654\"'\n",
      "result data stored in table '\"ALICE\".\"ml__td_sqlmr_persist_out__1719265166294253\"'\n",
      "                                                                                          \r"
     ]
    },
    {
     "data": {
      "text/html": [
       "----------------------------------------------------------------------------------------------------"
      ],
      "text/plain": [
       "<IPython.core.display.HTML object>"
      ]
     },
     "metadata": {},
     "output_type": "display_data"
    },
    {
     "name": "stdout",
     "output_type": "stream",
     "text": [
      "                                                                                          \r"
     ]
    },
    {
     "data": {
      "text/html": [
       "knn"
      ],
      "text/plain": [
       "<IPython.core.display.HTML object>"
      ]
     },
     "metadata": {},
     "output_type": "display_data"
    },
    {
     "name": "stdout",
     "output_type": "stream",
     "text": [
      "result data stored in table '\"ALICE\".\"ml__td_sqlmr_persist_out__1719260890948120\"'                                                                                                                      \n",
      "result data stored in table '\"ALICE\".\"ml__td_sqlmr_persist_out__1719260468163946\"'\n",
      "result data stored in table '\"ALICE\".\"ml__td_sqlmr_persist_out__1719261448303525\"'\n",
      "                                                                                          \r"
     ]
    },
    {
     "data": {
      "text/html": [
       "----------------------------------------------------------------------------------------------------"
      ],
      "text/plain": [
       "<IPython.core.display.HTML object>"
      ]
     },
     "metadata": {},
     "output_type": "display_data"
    },
    {
     "name": "stdout",
     "output_type": "stream",
     "text": [
      "                                                                                          \r"
     ]
    },
    {
     "data": {
      "text/html": [
       "svm"
      ],
      "text/plain": [
       "<IPython.core.display.HTML object>"
      ]
     },
     "metadata": {},
     "output_type": "display_data"
    },
    {
     "name": "stdout",
     "output_type": "stream",
     "text": [
      "result data stored in table '\"ALICE\".\"ml__td_sqlmr_persist_out__1719260198495277\"'                                                                                                                      \n",
      "result data stored in table '\"ALICE\".\"ml__td_sqlmr_persist_out__1719265691010101\"'\n",
      "result data stored in table '\"ALICE\".\"ml__td_sqlmr_persist_out__1719261328806216\"'\n",
      "                                                                                          \r"
     ]
    },
    {
     "data": {
      "text/html": [
       "----------------------------------------------------------------------------------------------------"
      ],
      "text/plain": [
       "<IPython.core.display.HTML object>"
      ]
     },
     "metadata": {},
     "output_type": "display_data"
    },
    {
     "name": "stdout",
     "output_type": "stream",
     "text": [
      "                                                                                          \r"
     ]
    },
    {
     "data": {
      "text/html": [
       "glm"
      ],
      "text/plain": [
       "<IPython.core.display.HTML object>"
      ]
     },
     "metadata": {},
     "output_type": "display_data"
    },
    {
     "name": "stdout",
     "output_type": "stream",
     "text": [
      "result data stored in table '\"ALICE\".\"ml__td_sqlmr_persist_out__1719260059566100\"'                                                                                                                      \n",
      "result data stored in table '\"ALICE\".\"ml__td_sqlmr_persist_out__1719260435049904\"'\n",
      "result data stored in table '\"ALICE\".\"ml__td_sqlmr_persist_out__1719260326898205\"'\n",
      "                                                                                          \r"
     ]
    },
    {
     "data": {
      "text/html": [
       "----------------------------------------------------------------------------------------------------"
      ],
      "text/plain": [
       "<IPython.core.display.HTML object>"
      ]
     },
     "metadata": {},
     "output_type": "display_data"
    },
    {
     "name": "stdout",
     "output_type": "stream",
     "text": [
      "                                                                                          \r"
     ]
    },
    {
     "data": {
      "text/html": [
       "Evaluating models performance ..."
      ],
      "text/plain": [
       "<IPython.core.display.HTML object>"
      ]
     },
     "metadata": {},
     "output_type": "display_data"
    },
    {
     "name": "stdout",
     "output_type": "stream",
     "text": [
      "                                                                                          \r"
     ]
    },
    {
     "data": {
      "text/html": [
       "Evaluation completed."
      ],
      "text/plain": [
       "<IPython.core.display.HTML object>"
      ]
     },
     "metadata": {},
     "output_type": "display_data"
    },
    {
     "name": "stdout",
     "output_type": "stream",
     "text": [
      "                                                                                          \r"
     ]
    },
    {
     "data": {
      "text/html": [
       "Leaderboard"
      ],
      "text/plain": [
       "<IPython.core.display.HTML object>"
      ]
     },
     "metadata": {},
     "output_type": "display_data"
    },
    {
     "data": {
      "text/html": [
       "<div>\n",
       "<style scoped>\n",
       "    .dataframe tbody tr th:only-of-type {\n",
       "        vertical-align: middle;\n",
       "    }\n",
       "\n",
       "    .dataframe tbody tr th {\n",
       "        vertical-align: top;\n",
       "    }\n",
       "\n",
       "    .dataframe thead th {\n",
       "        text-align: right;\n",
       "    }\n",
       "</style>\n",
       "<table border=\"1\" class=\"dataframe\">\n",
       "  <thead>\n",
       "    <tr style=\"text-align: right;\">\n",
       "      <th></th>\n",
       "      <th>Rank</th>\n",
       "      <th>Model-ID</th>\n",
       "      <th>Feature-Selection</th>\n",
       "      <th>MAE</th>\n",
       "      <th>MSE</th>\n",
       "      <th>MSLE</th>\n",
       "      <th>RMSE</th>\n",
       "      <th>RMSLE</th>\n",
       "      <th>R2-score</th>\n",
       "      <th>Adjusted R2-score</th>\n",
       "    </tr>\n",
       "  </thead>\n",
       "  <tbody>\n",
       "    <tr>\n",
       "      <th>0</th>\n",
       "      <td>1</td>\n",
       "      <td>DECISIONFOREST_1</td>\n",
       "      <td>rfe</td>\n",
       "      <td>1912.647829</td>\n",
       "      <td>1.666496e+07</td>\n",
       "      <td>0.147665</td>\n",
       "      <td>4082.273453</td>\n",
       "      <td>0.384272</td>\n",
       "      <td>0.866146</td>\n",
       "      <td>0.858857</td>\n",
       "    </tr>\n",
       "    <tr>\n",
       "      <th>1</th>\n",
       "      <td>2</td>\n",
       "      <td>XGBOOST_0</td>\n",
       "      <td>lasso</td>\n",
       "      <td>2387.573133</td>\n",
       "      <td>1.773061e+07</td>\n",
       "      <td>0.160489</td>\n",
       "      <td>4210.772852</td>\n",
       "      <td>0.400611</td>\n",
       "      <td>0.857587</td>\n",
       "      <td>0.853459</td>\n",
       "    </tr>\n",
       "    <tr>\n",
       "      <th>2</th>\n",
       "      <td>3</td>\n",
       "      <td>XGBOOST_3</td>\n",
       "      <td>lasso</td>\n",
       "      <td>2387.573133</td>\n",
       "      <td>1.773061e+07</td>\n",
       "      <td>0.160489</td>\n",
       "      <td>4210.772852</td>\n",
       "      <td>0.400611</td>\n",
       "      <td>0.857587</td>\n",
       "      <td>0.853459</td>\n",
       "    </tr>\n",
       "    <tr>\n",
       "      <th>3</th>\n",
       "      <td>4</td>\n",
       "      <td>DECISIONFOREST_0</td>\n",
       "      <td>lasso</td>\n",
       "      <td>2008.010938</td>\n",
       "      <td>1.909442e+07</td>\n",
       "      <td>0.158779</td>\n",
       "      <td>4369.715766</td>\n",
       "      <td>0.398471</td>\n",
       "      <td>0.846633</td>\n",
       "      <td>0.842188</td>\n",
       "    </tr>\n",
       "    <tr>\n",
       "      <th>4</th>\n",
       "      <td>5</td>\n",
       "      <td>XGBOOST_1</td>\n",
       "      <td>rfe</td>\n",
       "      <td>2453.141629</td>\n",
       "      <td>1.929195e+07</td>\n",
       "      <td>0.158326</td>\n",
       "      <td>4392.259819</td>\n",
       "      <td>0.397902</td>\n",
       "      <td>0.845046</td>\n",
       "      <td>0.836608</td>\n",
       "    </tr>\n",
       "    <tr>\n",
       "      <th>5</th>\n",
       "      <td>6</td>\n",
       "      <td>DECISIONFOREST_3</td>\n",
       "      <td>lasso</td>\n",
       "      <td>2768.122467</td>\n",
       "      <td>2.017074e+07</td>\n",
       "      <td>0.197690</td>\n",
       "      <td>4491.185242</td>\n",
       "      <td>0.444623</td>\n",
       "      <td>0.837988</td>\n",
       "      <td>0.833292</td>\n",
       "    </tr>\n",
       "    <tr>\n",
       "      <th>6</th>\n",
       "      <td>7</td>\n",
       "      <td>KNN_9</td>\n",
       "      <td>lasso</td>\n",
       "      <td>2526.667603</td>\n",
       "      <td>2.105253e+07</td>\n",
       "      <td>0.221492</td>\n",
       "      <td>4588.304047</td>\n",
       "      <td>0.470630</td>\n",
       "      <td>0.830905</td>\n",
       "      <td>0.826004</td>\n",
       "    </tr>\n",
       "    <tr>\n",
       "      <th>7</th>\n",
       "      <td>8</td>\n",
       "      <td>KNN_0</td>\n",
       "      <td>lasso</td>\n",
       "      <td>2570.316537</td>\n",
       "      <td>2.358725e+07</td>\n",
       "      <td>0.230109</td>\n",
       "      <td>4856.670663</td>\n",
       "      <td>0.479697</td>\n",
       "      <td>0.810546</td>\n",
       "      <td>0.805055</td>\n",
       "    </tr>\n",
       "    <tr>\n",
       "      <th>8</th>\n",
       "      <td>9</td>\n",
       "      <td>XGBOOST_2</td>\n",
       "      <td>pca</td>\n",
       "      <td>2682.154242</td>\n",
       "      <td>2.456204e+07</td>\n",
       "      <td>0.227037</td>\n",
       "      <td>4956.010813</td>\n",
       "      <td>0.476484</td>\n",
       "      <td>0.802717</td>\n",
       "      <td>0.795018</td>\n",
       "    </tr>\n",
       "    <tr>\n",
       "      <th>9</th>\n",
       "      <td>10</td>\n",
       "      <td>KNN_4</td>\n",
       "      <td>rfe</td>\n",
       "      <td>2995.051716</td>\n",
       "      <td>2.834865e+07</td>\n",
       "      <td>0.232425</td>\n",
       "      <td>5324.345325</td>\n",
       "      <td>0.482105</td>\n",
       "      <td>0.772303</td>\n",
       "      <td>0.759903</td>\n",
       "    </tr>\n",
       "    <tr>\n",
       "      <th>10</th>\n",
       "      <td>11</td>\n",
       "      <td>KNN_8</td>\n",
       "      <td>pca</td>\n",
       "      <td>2995.051719</td>\n",
       "      <td>2.834865e+07</td>\n",
       "      <td>0.232425</td>\n",
       "      <td>5324.345326</td>\n",
       "      <td>0.482105</td>\n",
       "      <td>0.772303</td>\n",
       "      <td>0.763417</td>\n",
       "    </tr>\n",
       "    <tr>\n",
       "      <th>11</th>\n",
       "      <td>12</td>\n",
       "      <td>DECISIONFOREST_2</td>\n",
       "      <td>pca</td>\n",
       "      <td>3839.369947</td>\n",
       "      <td>4.734668e+07</td>\n",
       "      <td>0.309313</td>\n",
       "      <td>6880.892349</td>\n",
       "      <td>0.556159</td>\n",
       "      <td>0.619710</td>\n",
       "      <td>0.604869</td>\n",
       "    </tr>\n",
       "    <tr>\n",
       "      <th>12</th>\n",
       "      <td>13</td>\n",
       "      <td>GLM_3</td>\n",
       "      <td>lasso</td>\n",
       "      <td>4230.915082</td>\n",
       "      <td>5.198768e+07</td>\n",
       "      <td>0.644457</td>\n",
       "      <td>7210.248572</td>\n",
       "      <td>0.802781</td>\n",
       "      <td>0.582433</td>\n",
       "      <td>0.570330</td>\n",
       "    </tr>\n",
       "    <tr>\n",
       "      <th>13</th>\n",
       "      <td>14</td>\n",
       "      <td>GLM_2</td>\n",
       "      <td>pca</td>\n",
       "      <td>5473.500530</td>\n",
       "      <td>1.434264e+08</td>\n",
       "      <td>0.919344</td>\n",
       "      <td>11976.074952</td>\n",
       "      <td>0.958824</td>\n",
       "      <td>-0.152006</td>\n",
       "      <td>-0.196962</td>\n",
       "    </tr>\n",
       "    <tr>\n",
       "      <th>14</th>\n",
       "      <td>15</td>\n",
       "      <td>GLM_1</td>\n",
       "      <td>rfe</td>\n",
       "      <td>5481.069022</td>\n",
       "      <td>1.442007e+08</td>\n",
       "      <td>0.831674</td>\n",
       "      <td>12008.360513</td>\n",
       "      <td>0.911962</td>\n",
       "      <td>-0.158226</td>\n",
       "      <td>-0.221297</td>\n",
       "    </tr>\n",
       "    <tr>\n",
       "      <th>15</th>\n",
       "      <td>16</td>\n",
       "      <td>GLM_0</td>\n",
       "      <td>lasso</td>\n",
       "      <td>5678.717289</td>\n",
       "      <td>1.533584e+08</td>\n",
       "      <td>1.235018</td>\n",
       "      <td>12383.794756</td>\n",
       "      <td>1.111314</td>\n",
       "      <td>-0.231780</td>\n",
       "      <td>-0.267484</td>\n",
       "    </tr>\n",
       "    <tr>\n",
       "      <th>16</th>\n",
       "      <td>17</td>\n",
       "      <td>SVM_1</td>\n",
       "      <td>rfe</td>\n",
       "      <td>11938.412404</td>\n",
       "      <td>2.670742e+08</td>\n",
       "      <td>31.520949</td>\n",
       "      <td>16342.403628</td>\n",
       "      <td>5.614352</td>\n",
       "      <td>-1.145150</td>\n",
       "      <td>-1.261965</td>\n",
       "    </tr>\n",
       "    <tr>\n",
       "      <th>17</th>\n",
       "      <td>18</td>\n",
       "      <td>SVM_3</td>\n",
       "      <td>lasso</td>\n",
       "      <td>11947.575956</td>\n",
       "      <td>2.672576e+08</td>\n",
       "      <td>33.791951</td>\n",
       "      <td>16348.015564</td>\n",
       "      <td>5.813084</td>\n",
       "      <td>-1.146623</td>\n",
       "      <td>-1.208844</td>\n",
       "    </tr>\n",
       "    <tr>\n",
       "      <th>18</th>\n",
       "      <td>19</td>\n",
       "      <td>SVM_0</td>\n",
       "      <td>lasso</td>\n",
       "      <td>11947.309600</td>\n",
       "      <td>2.672875e+08</td>\n",
       "      <td>33.283140</td>\n",
       "      <td>16348.929692</td>\n",
       "      <td>5.769154</td>\n",
       "      <td>-1.146863</td>\n",
       "      <td>-1.209091</td>\n",
       "    </tr>\n",
       "    <tr>\n",
       "      <th>19</th>\n",
       "      <td>20</td>\n",
       "      <td>SVM_2</td>\n",
       "      <td>pca</td>\n",
       "      <td>11959.538573</td>\n",
       "      <td>2.675291e+08</td>\n",
       "      <td>32.719511</td>\n",
       "      <td>16356.317758</td>\n",
       "      <td>5.720097</td>\n",
       "      <td>-1.148804</td>\n",
       "      <td>-1.232660</td>\n",
       "    </tr>\n",
       "  </tbody>\n",
       "</table>\n",
       "</div>"
      ],
      "text/plain": [
       "    Rank          Model-ID Feature-Selection           MAE           MSE  \\\n",
       "0      1  DECISIONFOREST_1               rfe   1912.647829  1.666496e+07   \n",
       "1      2         XGBOOST_0             lasso   2387.573133  1.773061e+07   \n",
       "2      3         XGBOOST_3             lasso   2387.573133  1.773061e+07   \n",
       "3      4  DECISIONFOREST_0             lasso   2008.010938  1.909442e+07   \n",
       "4      5         XGBOOST_1               rfe   2453.141629  1.929195e+07   \n",
       "5      6  DECISIONFOREST_3             lasso   2768.122467  2.017074e+07   \n",
       "6      7             KNN_9             lasso   2526.667603  2.105253e+07   \n",
       "7      8             KNN_0             lasso   2570.316537  2.358725e+07   \n",
       "8      9         XGBOOST_2               pca   2682.154242  2.456204e+07   \n",
       "9     10             KNN_4               rfe   2995.051716  2.834865e+07   \n",
       "10    11             KNN_8               pca   2995.051719  2.834865e+07   \n",
       "11    12  DECISIONFOREST_2               pca   3839.369947  4.734668e+07   \n",
       "12    13             GLM_3             lasso   4230.915082  5.198768e+07   \n",
       "13    14             GLM_2               pca   5473.500530  1.434264e+08   \n",
       "14    15             GLM_1               rfe   5481.069022  1.442007e+08   \n",
       "15    16             GLM_0             lasso   5678.717289  1.533584e+08   \n",
       "16    17             SVM_1               rfe  11938.412404  2.670742e+08   \n",
       "17    18             SVM_3             lasso  11947.575956  2.672576e+08   \n",
       "18    19             SVM_0             lasso  11947.309600  2.672875e+08   \n",
       "19    20             SVM_2               pca  11959.538573  2.675291e+08   \n",
       "\n",
       "         MSLE          RMSE     RMSLE  R2-score  Adjusted R2-score  \n",
       "0    0.147665   4082.273453  0.384272  0.866146           0.858857  \n",
       "1    0.160489   4210.772852  0.400611  0.857587           0.853459  \n",
       "2    0.160489   4210.772852  0.400611  0.857587           0.853459  \n",
       "3    0.158779   4369.715766  0.398471  0.846633           0.842188  \n",
       "4    0.158326   4392.259819  0.397902  0.845046           0.836608  \n",
       "5    0.197690   4491.185242  0.444623  0.837988           0.833292  \n",
       "6    0.221492   4588.304047  0.470630  0.830905           0.826004  \n",
       "7    0.230109   4856.670663  0.479697  0.810546           0.805055  \n",
       "8    0.227037   4956.010813  0.476484  0.802717           0.795018  \n",
       "9    0.232425   5324.345325  0.482105  0.772303           0.759903  \n",
       "10   0.232425   5324.345326  0.482105  0.772303           0.763417  \n",
       "11   0.309313   6880.892349  0.556159  0.619710           0.604869  \n",
       "12   0.644457   7210.248572  0.802781  0.582433           0.570330  \n",
       "13   0.919344  11976.074952  0.958824 -0.152006          -0.196962  \n",
       "14   0.831674  12008.360513  0.911962 -0.158226          -0.221297  \n",
       "15   1.235018  12383.794756  1.111314 -0.231780          -0.267484  \n",
       "16  31.520949  16342.403628  5.614352 -1.145150          -1.261965  \n",
       "17  33.791951  16348.015564  5.813084 -1.146623          -1.208844  \n",
       "18  33.283140  16348.929692  5.769154 -1.146863          -1.209091  \n",
       "19  32.719511  16356.317758  5.720097 -1.148804          -1.232660  "
      ]
     },
     "metadata": {},
     "output_type": "display_data"
    },
    {
     "name": "stdout",
     "output_type": "stream",
     "text": [
      "                                                                                          \r"
     ]
    },
    {
     "data": {
      "text/html": [
       "20 rows X 10 columns"
      ],
      "text/plain": [
       "<IPython.core.display.HTML object>"
      ]
     },
     "metadata": {},
     "output_type": "display_data"
    },
    {
     "name": "stdout",
     "output_type": "stream",
     "text": [
      "                                                                                          \r"
     ]
    },
    {
     "data": {
      "text/html": [
       "\n",
       "            <style>\n",
       "                .custom-div {\n",
       "                    background-color: lightgray;\n",
       "                    color: #000000;\n",
       "                    padding: 10px;\n",
       "                    border-radius: 8px;\n",
       "                    box-shadow: 0 3px 4px rgba(0 -  0 -  0 -  0.2);\n",
       "                    margin-bottom: 10px;\n",
       "                    text-align: center;\n",
       "                }\n",
       "            </style>\n",
       "        <br><div class=\"custom-div\"><h3><span style=\"color: green;\">1. Feature Exploration -> 2. Feature Engineering -> 3. Data Preparation -> 4. Model Training & Evaluation</span><center></h3></center></div>"
      ],
      "text/plain": [
       "<IPython.core.display.HTML object>"
      ]
     },
     "metadata": {},
     "output_type": "display_data"
    },
    {
     "name": "stdout",
     "output_type": "stream",
     "text": [
      "Completed: ｜⫿⫿⫿⫿⫿⫿⫿⫿⫿⫿⫿⫿⫿⫿⫿⫿⫿⫿⫿⫿⫿⫿⫿⫿⫿⫿⫿⫿⫿⫿⫿⫿⫿⫿⫿⫿⫿⫿⫿⫿⫿⫿⫿⫿⫿⫿⫿⫿⫿⫿⫿⫿⫿⫿⫿⫿⫿⫿⫿⫿｜ 100% - 19/19    \r"
     ]
    }
   ],
   "source": [
    "# Fitting train data\n",
    "aml.fit(insurance_df_train, insurance_df_train.charges)"
   ]
  },
  {
   "cell_type": "markdown",
   "id": "23a04eb1-68e6-48b7-95aa-442f434809da",
   "metadata": {},
   "source": [
    "## <b><span style='color:#F1A424'>| 3.</span> Leaderboard : </b>"
   ]
  },
  {
   "cell_type": "code",
   "execution_count": 17,
   "id": "77de1099-6122-4f8a-8e7f-dd67e5b4ced4",
   "metadata": {},
   "outputs": [
    {
     "data": {
      "text/html": [
       "<div>\n",
       "<style scoped>\n",
       "    .dataframe tbody tr th:only-of-type {\n",
       "        vertical-align: middle;\n",
       "    }\n",
       "\n",
       "    .dataframe tbody tr th {\n",
       "        vertical-align: top;\n",
       "    }\n",
       "\n",
       "    .dataframe thead th {\n",
       "        text-align: right;\n",
       "    }\n",
       "</style>\n",
       "<table border=\"1\" class=\"dataframe\">\n",
       "  <thead>\n",
       "    <tr style=\"text-align: right;\">\n",
       "      <th></th>\n",
       "      <th>Rank</th>\n",
       "      <th>Model-ID</th>\n",
       "      <th>Feature-Selection</th>\n",
       "      <th>MAE</th>\n",
       "      <th>MSE</th>\n",
       "      <th>MSLE</th>\n",
       "      <th>RMSE</th>\n",
       "      <th>RMSLE</th>\n",
       "      <th>R2-score</th>\n",
       "      <th>Adjusted R2-score</th>\n",
       "    </tr>\n",
       "  </thead>\n",
       "  <tbody>\n",
       "    <tr>\n",
       "      <th>0</th>\n",
       "      <td>1</td>\n",
       "      <td>DECISIONFOREST_1</td>\n",
       "      <td>rfe</td>\n",
       "      <td>1912.647829</td>\n",
       "      <td>1.666496e+07</td>\n",
       "      <td>0.147665</td>\n",
       "      <td>4082.273453</td>\n",
       "      <td>0.384272</td>\n",
       "      <td>0.866146</td>\n",
       "      <td>0.858857</td>\n",
       "    </tr>\n",
       "    <tr>\n",
       "      <th>1</th>\n",
       "      <td>2</td>\n",
       "      <td>XGBOOST_0</td>\n",
       "      <td>lasso</td>\n",
       "      <td>2387.573133</td>\n",
       "      <td>1.773061e+07</td>\n",
       "      <td>0.160489</td>\n",
       "      <td>4210.772852</td>\n",
       "      <td>0.400611</td>\n",
       "      <td>0.857587</td>\n",
       "      <td>0.853459</td>\n",
       "    </tr>\n",
       "    <tr>\n",
       "      <th>2</th>\n",
       "      <td>3</td>\n",
       "      <td>XGBOOST_3</td>\n",
       "      <td>lasso</td>\n",
       "      <td>2387.573133</td>\n",
       "      <td>1.773061e+07</td>\n",
       "      <td>0.160489</td>\n",
       "      <td>4210.772852</td>\n",
       "      <td>0.400611</td>\n",
       "      <td>0.857587</td>\n",
       "      <td>0.853459</td>\n",
       "    </tr>\n",
       "    <tr>\n",
       "      <th>3</th>\n",
       "      <td>4</td>\n",
       "      <td>DECISIONFOREST_0</td>\n",
       "      <td>lasso</td>\n",
       "      <td>2008.010938</td>\n",
       "      <td>1.909442e+07</td>\n",
       "      <td>0.158779</td>\n",
       "      <td>4369.715766</td>\n",
       "      <td>0.398471</td>\n",
       "      <td>0.846633</td>\n",
       "      <td>0.842188</td>\n",
       "    </tr>\n",
       "    <tr>\n",
       "      <th>4</th>\n",
       "      <td>5</td>\n",
       "      <td>XGBOOST_1</td>\n",
       "      <td>rfe</td>\n",
       "      <td>2453.141629</td>\n",
       "      <td>1.929195e+07</td>\n",
       "      <td>0.158326</td>\n",
       "      <td>4392.259819</td>\n",
       "      <td>0.397902</td>\n",
       "      <td>0.845046</td>\n",
       "      <td>0.836608</td>\n",
       "    </tr>\n",
       "    <tr>\n",
       "      <th>5</th>\n",
       "      <td>6</td>\n",
       "      <td>DECISIONFOREST_3</td>\n",
       "      <td>lasso</td>\n",
       "      <td>2768.122467</td>\n",
       "      <td>2.017074e+07</td>\n",
       "      <td>0.197690</td>\n",
       "      <td>4491.185242</td>\n",
       "      <td>0.444623</td>\n",
       "      <td>0.837988</td>\n",
       "      <td>0.833292</td>\n",
       "    </tr>\n",
       "    <tr>\n",
       "      <th>6</th>\n",
       "      <td>7</td>\n",
       "      <td>KNN_9</td>\n",
       "      <td>lasso</td>\n",
       "      <td>2526.667603</td>\n",
       "      <td>2.105253e+07</td>\n",
       "      <td>0.221492</td>\n",
       "      <td>4588.304047</td>\n",
       "      <td>0.470630</td>\n",
       "      <td>0.830905</td>\n",
       "      <td>0.826004</td>\n",
       "    </tr>\n",
       "    <tr>\n",
       "      <th>7</th>\n",
       "      <td>8</td>\n",
       "      <td>KNN_0</td>\n",
       "      <td>lasso</td>\n",
       "      <td>2570.316537</td>\n",
       "      <td>2.358725e+07</td>\n",
       "      <td>0.230109</td>\n",
       "      <td>4856.670663</td>\n",
       "      <td>0.479697</td>\n",
       "      <td>0.810546</td>\n",
       "      <td>0.805055</td>\n",
       "    </tr>\n",
       "    <tr>\n",
       "      <th>8</th>\n",
       "      <td>9</td>\n",
       "      <td>XGBOOST_2</td>\n",
       "      <td>pca</td>\n",
       "      <td>2682.154242</td>\n",
       "      <td>2.456204e+07</td>\n",
       "      <td>0.227037</td>\n",
       "      <td>4956.010813</td>\n",
       "      <td>0.476484</td>\n",
       "      <td>0.802717</td>\n",
       "      <td>0.795018</td>\n",
       "    </tr>\n",
       "    <tr>\n",
       "      <th>9</th>\n",
       "      <td>10</td>\n",
       "      <td>KNN_4</td>\n",
       "      <td>rfe</td>\n",
       "      <td>2995.051716</td>\n",
       "      <td>2.834865e+07</td>\n",
       "      <td>0.232425</td>\n",
       "      <td>5324.345325</td>\n",
       "      <td>0.482105</td>\n",
       "      <td>0.772303</td>\n",
       "      <td>0.759903</td>\n",
       "    </tr>\n",
       "    <tr>\n",
       "      <th>10</th>\n",
       "      <td>11</td>\n",
       "      <td>KNN_8</td>\n",
       "      <td>pca</td>\n",
       "      <td>2995.051719</td>\n",
       "      <td>2.834865e+07</td>\n",
       "      <td>0.232425</td>\n",
       "      <td>5324.345326</td>\n",
       "      <td>0.482105</td>\n",
       "      <td>0.772303</td>\n",
       "      <td>0.763417</td>\n",
       "    </tr>\n",
       "    <tr>\n",
       "      <th>11</th>\n",
       "      <td>12</td>\n",
       "      <td>DECISIONFOREST_2</td>\n",
       "      <td>pca</td>\n",
       "      <td>3839.369947</td>\n",
       "      <td>4.734668e+07</td>\n",
       "      <td>0.309313</td>\n",
       "      <td>6880.892349</td>\n",
       "      <td>0.556159</td>\n",
       "      <td>0.619710</td>\n",
       "      <td>0.604869</td>\n",
       "    </tr>\n",
       "    <tr>\n",
       "      <th>12</th>\n",
       "      <td>13</td>\n",
       "      <td>GLM_3</td>\n",
       "      <td>lasso</td>\n",
       "      <td>4230.915082</td>\n",
       "      <td>5.198768e+07</td>\n",
       "      <td>0.644457</td>\n",
       "      <td>7210.248572</td>\n",
       "      <td>0.802781</td>\n",
       "      <td>0.582433</td>\n",
       "      <td>0.570330</td>\n",
       "    </tr>\n",
       "    <tr>\n",
       "      <th>13</th>\n",
       "      <td>14</td>\n",
       "      <td>GLM_2</td>\n",
       "      <td>pca</td>\n",
       "      <td>5473.500530</td>\n",
       "      <td>1.434264e+08</td>\n",
       "      <td>0.919344</td>\n",
       "      <td>11976.074952</td>\n",
       "      <td>0.958824</td>\n",
       "      <td>-0.152006</td>\n",
       "      <td>-0.196962</td>\n",
       "    </tr>\n",
       "    <tr>\n",
       "      <th>14</th>\n",
       "      <td>15</td>\n",
       "      <td>GLM_1</td>\n",
       "      <td>rfe</td>\n",
       "      <td>5481.069022</td>\n",
       "      <td>1.442007e+08</td>\n",
       "      <td>0.831674</td>\n",
       "      <td>12008.360513</td>\n",
       "      <td>0.911962</td>\n",
       "      <td>-0.158226</td>\n",
       "      <td>-0.221297</td>\n",
       "    </tr>\n",
       "    <tr>\n",
       "      <th>15</th>\n",
       "      <td>16</td>\n",
       "      <td>GLM_0</td>\n",
       "      <td>lasso</td>\n",
       "      <td>5678.717289</td>\n",
       "      <td>1.533584e+08</td>\n",
       "      <td>1.235018</td>\n",
       "      <td>12383.794756</td>\n",
       "      <td>1.111314</td>\n",
       "      <td>-0.231780</td>\n",
       "      <td>-0.267484</td>\n",
       "    </tr>\n",
       "    <tr>\n",
       "      <th>16</th>\n",
       "      <td>17</td>\n",
       "      <td>SVM_1</td>\n",
       "      <td>rfe</td>\n",
       "      <td>11938.412404</td>\n",
       "      <td>2.670742e+08</td>\n",
       "      <td>31.520949</td>\n",
       "      <td>16342.403628</td>\n",
       "      <td>5.614352</td>\n",
       "      <td>-1.145150</td>\n",
       "      <td>-1.261965</td>\n",
       "    </tr>\n",
       "    <tr>\n",
       "      <th>17</th>\n",
       "      <td>18</td>\n",
       "      <td>SVM_3</td>\n",
       "      <td>lasso</td>\n",
       "      <td>11947.575956</td>\n",
       "      <td>2.672576e+08</td>\n",
       "      <td>33.791951</td>\n",
       "      <td>16348.015564</td>\n",
       "      <td>5.813084</td>\n",
       "      <td>-1.146623</td>\n",
       "      <td>-1.208844</td>\n",
       "    </tr>\n",
       "    <tr>\n",
       "      <th>18</th>\n",
       "      <td>19</td>\n",
       "      <td>SVM_0</td>\n",
       "      <td>lasso</td>\n",
       "      <td>11947.309600</td>\n",
       "      <td>2.672875e+08</td>\n",
       "      <td>33.283140</td>\n",
       "      <td>16348.929692</td>\n",
       "      <td>5.769154</td>\n",
       "      <td>-1.146863</td>\n",
       "      <td>-1.209091</td>\n",
       "    </tr>\n",
       "    <tr>\n",
       "      <th>19</th>\n",
       "      <td>20</td>\n",
       "      <td>SVM_2</td>\n",
       "      <td>pca</td>\n",
       "      <td>11959.538573</td>\n",
       "      <td>2.675291e+08</td>\n",
       "      <td>32.719511</td>\n",
       "      <td>16356.317758</td>\n",
       "      <td>5.720097</td>\n",
       "      <td>-1.148804</td>\n",
       "      <td>-1.232660</td>\n",
       "    </tr>\n",
       "  </tbody>\n",
       "</table>\n",
       "</div>"
      ],
      "text/plain": [
       "    Rank          Model-ID Feature-Selection           MAE           MSE  \\\n",
       "0      1  DECISIONFOREST_1               rfe   1912.647829  1.666496e+07   \n",
       "1      2         XGBOOST_0             lasso   2387.573133  1.773061e+07   \n",
       "2      3         XGBOOST_3             lasso   2387.573133  1.773061e+07   \n",
       "3      4  DECISIONFOREST_0             lasso   2008.010938  1.909442e+07   \n",
       "4      5         XGBOOST_1               rfe   2453.141629  1.929195e+07   \n",
       "5      6  DECISIONFOREST_3             lasso   2768.122467  2.017074e+07   \n",
       "6      7             KNN_9             lasso   2526.667603  2.105253e+07   \n",
       "7      8             KNN_0             lasso   2570.316537  2.358725e+07   \n",
       "8      9         XGBOOST_2               pca   2682.154242  2.456204e+07   \n",
       "9     10             KNN_4               rfe   2995.051716  2.834865e+07   \n",
       "10    11             KNN_8               pca   2995.051719  2.834865e+07   \n",
       "11    12  DECISIONFOREST_2               pca   3839.369947  4.734668e+07   \n",
       "12    13             GLM_3             lasso   4230.915082  5.198768e+07   \n",
       "13    14             GLM_2               pca   5473.500530  1.434264e+08   \n",
       "14    15             GLM_1               rfe   5481.069022  1.442007e+08   \n",
       "15    16             GLM_0             lasso   5678.717289  1.533584e+08   \n",
       "16    17             SVM_1               rfe  11938.412404  2.670742e+08   \n",
       "17    18             SVM_3             lasso  11947.575956  2.672576e+08   \n",
       "18    19             SVM_0             lasso  11947.309600  2.672875e+08   \n",
       "19    20             SVM_2               pca  11959.538573  2.675291e+08   \n",
       "\n",
       "         MSLE          RMSE     RMSLE  R2-score  Adjusted R2-score  \n",
       "0    0.147665   4082.273453  0.384272  0.866146           0.858857  \n",
       "1    0.160489   4210.772852  0.400611  0.857587           0.853459  \n",
       "2    0.160489   4210.772852  0.400611  0.857587           0.853459  \n",
       "3    0.158779   4369.715766  0.398471  0.846633           0.842188  \n",
       "4    0.158326   4392.259819  0.397902  0.845046           0.836608  \n",
       "5    0.197690   4491.185242  0.444623  0.837988           0.833292  \n",
       "6    0.221492   4588.304047  0.470630  0.830905           0.826004  \n",
       "7    0.230109   4856.670663  0.479697  0.810546           0.805055  \n",
       "8    0.227037   4956.010813  0.476484  0.802717           0.795018  \n",
       "9    0.232425   5324.345325  0.482105  0.772303           0.759903  \n",
       "10   0.232425   5324.345326  0.482105  0.772303           0.763417  \n",
       "11   0.309313   6880.892349  0.556159  0.619710           0.604869  \n",
       "12   0.644457   7210.248572  0.802781  0.582433           0.570330  \n",
       "13   0.919344  11976.074952  0.958824 -0.152006          -0.196962  \n",
       "14   0.831674  12008.360513  0.911962 -0.158226          -0.221297  \n",
       "15   1.235018  12383.794756  1.111314 -0.231780          -0.267484  \n",
       "16  31.520949  16342.403628  5.614352 -1.145150          -1.261965  \n",
       "17  33.791951  16348.015564  5.813084 -1.146623          -1.208844  \n",
       "18  33.283140  16348.929692  5.769154 -1.146863          -1.209091  \n",
       "19  32.719511  16356.317758  5.720097 -1.148804          -1.232660  "
      ]
     },
     "execution_count": 17,
     "metadata": {},
     "output_type": "execute_result"
    }
   ],
   "source": [
    "# Fetching Leaderboard\n",
    "aml.leaderboard()"
   ]
  },
  {
   "cell_type": "markdown",
   "id": "a7a3aa08-e349-4a61-9217-2c17d50411d8",
   "metadata": {},
   "source": [
    "## <b><span style='color:#F1A424'>| 4.</span> Best Performing Model : </b>"
   ]
  },
  {
   "cell_type": "code",
   "execution_count": 18,
   "id": "c4c32832-a76b-4f42-826a-cefc38a6301b",
   "metadata": {},
   "outputs": [
    {
     "data": {
      "text/html": [
       "<div>\n",
       "<style scoped>\n",
       "    .dataframe tbody tr th:only-of-type {\n",
       "        vertical-align: middle;\n",
       "    }\n",
       "\n",
       "    .dataframe tbody tr th {\n",
       "        vertical-align: top;\n",
       "    }\n",
       "\n",
       "    .dataframe thead th {\n",
       "        text-align: right;\n",
       "    }\n",
       "</style>\n",
       "<table border=\"1\" class=\"dataframe\">\n",
       "  <thead>\n",
       "    <tr style=\"text-align: right;\">\n",
       "      <th></th>\n",
       "      <th>Rank</th>\n",
       "      <th>Model-ID</th>\n",
       "      <th>Feature-Selection</th>\n",
       "      <th>MAE</th>\n",
       "      <th>MSE</th>\n",
       "      <th>MSLE</th>\n",
       "      <th>RMSE</th>\n",
       "      <th>RMSLE</th>\n",
       "      <th>R2-score</th>\n",
       "      <th>Adjusted R2-score</th>\n",
       "    </tr>\n",
       "  </thead>\n",
       "  <tbody>\n",
       "    <tr>\n",
       "      <th>0</th>\n",
       "      <td>1</td>\n",
       "      <td>DECISIONFOREST_1</td>\n",
       "      <td>rfe</td>\n",
       "      <td>1912.647829</td>\n",
       "      <td>1.666496e+07</td>\n",
       "      <td>0.147665</td>\n",
       "      <td>4082.273453</td>\n",
       "      <td>0.384272</td>\n",
       "      <td>0.866146</td>\n",
       "      <td>0.858857</td>\n",
       "    </tr>\n",
       "  </tbody>\n",
       "</table>\n",
       "</div>"
      ],
      "text/plain": [
       "   Rank          Model-ID Feature-Selection          MAE           MSE  \\\n",
       "0     1  DECISIONFOREST_1               rfe  1912.647829  1.666496e+07   \n",
       "\n",
       "       MSLE         RMSE     RMSLE  R2-score  Adjusted R2-score  \n",
       "0  0.147665  4082.273453  0.384272  0.866146           0.858857  "
      ]
     },
     "metadata": {},
     "output_type": "display_data"
    }
   ],
   "source": [
    "# Fetching best performing model for dataset\n",
    "aml.leader()"
   ]
  },
  {
   "cell_type": "markdown",
   "id": "e43181a9-3847-4e8b-b510-6da81f1c550f",
   "metadata": {},
   "source": [
    "## <b><span style='color:#F1A424'>| 5.</span> Generating Prediction : </b>"
   ]
  },
  {
   "cell_type": "code",
   "execution_count": 21,
   "id": "5b6edfe3-bd5a-46bd-ad80-b20fadfed7a0",
   "metadata": {},
   "outputs": [
    {
     "name": "stdout",
     "output_type": "stream",
     "text": [
      "Data Transformation started ...\n",
      "                                                                                                \r"
     ]
    },
    {
     "data": {
      "text/html": [
       "Performing transformation carried out in feature engineering phase ..."
      ],
      "text/plain": [
       "<IPython.core.display.HTML object>"
      ]
     },
     "metadata": {},
     "output_type": "display_data"
    },
    {
     "name": "stdout",
     "output_type": "stream",
     "text": [
      "result data stored in table '\"ALICE\".\"ml__td_sqlmr_persist_out__1719264194716380\"'⫾⫾⫾｜ 50% - 5/10\n",
      "                                                                                                 \r"
     ]
    },
    {
     "data": {
      "text/html": [
       "\n",
       "Updated dataset after performing categorical encoding :"
      ],
      "text/plain": [
       "<IPython.core.display.HTML object>"
      ]
     },
     "metadata": {},
     "output_type": "display_data"
    },
    {
     "data": {
      "text/html": [
       "<style type=\"text/css\">\n",
       "\ttable {border:ridge 5px;}\n",
       "\ttable td {border:inset 1px;}\n",
       "\ttable tr#HeaderRow {background-color:grey; color:white;}</style>\n",
       "<html><table>\n",
       "\t<tr id=\"HeaderRow\">\n",
       "\t\t<th>age</th>\n",
       "\t\t<th>sex_0</th>\n",
       "\t\t<th>sex_1</th>\n",
       "\t\t<th>bmi</th>\n",
       "\t\t<th>children</th>\n",
       "\t\t<th>smoker_0</th>\n",
       "\t\t<th>smoker_1</th>\n",
       "\t\t<th>region_0</th>\n",
       "\t\t<th>region_1</th>\n",
       "\t\t<th>region_2</th>\n",
       "\t\t<th>region_3</th>\n",
       "\t\t<th>charges</th>\n",
       "\t\t<th>id</th>\n",
       "\t</tr>\n",
       "\t<tr>\n",
       "\t\t<td>26</td>\n",
       "\t\t<td>1</td>\n",
       "\t\t<td>0</td>\n",
       "\t\t<td>42.4</td>\n",
       "\t\t<td>1</td>\n",
       "\t\t<td>1</td>\n",
       "\t\t<td>0</td>\n",
       "\t\t<td>0</td>\n",
       "\t\t<td>0</td>\n",
       "\t\t<td>0</td>\n",
       "\t\t<td>1</td>\n",
       "\t\t<td>3410.324</td>\n",
       "\t\t<td>56</td>\n",
       "\t</tr>\n",
       "\t<tr>\n",
       "\t\t<td>26</td>\n",
       "\t\t<td>0</td>\n",
       "\t\t<td>1</td>\n",
       "\t\t<td>32.49</td>\n",
       "\t\t<td>1</td>\n",
       "\t\t<td>1</td>\n",
       "\t\t<td>0</td>\n",
       "\t\t<td>1</td>\n",
       "\t\t<td>0</td>\n",
       "\t\t<td>0</td>\n",
       "\t\t<td>0</td>\n",
       "\t\t<td>3490.5491</td>\n",
       "\t\t<td>16</td>\n",
       "\t</tr>\n",
       "\t<tr>\n",
       "\t\t<td>26</td>\n",
       "\t\t<td>0</td>\n",
       "\t\t<td>1</td>\n",
       "\t\t<td>35.42</td>\n",
       "\t\t<td>0</td>\n",
       "\t\t<td>1</td>\n",
       "\t\t<td>0</td>\n",
       "\t\t<td>0</td>\n",
       "\t\t<td>0</td>\n",
       "\t\t<td>1</td>\n",
       "\t\t<td>0</td>\n",
       "\t\t<td>2322.6218</td>\n",
       "\t\t<td>48</td>\n",
       "\t</tr>\n",
       "\t<tr>\n",
       "\t\t<td>26</td>\n",
       "\t\t<td>0</td>\n",
       "\t\t<td>1</td>\n",
       "\t\t<td>31.065</td>\n",
       "\t\t<td>0</td>\n",
       "\t\t<td>1</td>\n",
       "\t\t<td>0</td>\n",
       "\t\t<td>0</td>\n",
       "\t\t<td>1</td>\n",
       "\t\t<td>0</td>\n",
       "\t\t<td>0</td>\n",
       "\t\t<td>2699.56835</td>\n",
       "\t\t<td>32</td>\n",
       "\t</tr>\n",
       "\t<tr>\n",
       "\t\t<td>43</td>\n",
       "\t\t<td>1</td>\n",
       "\t\t<td>0</td>\n",
       "\t\t<td>29.9</td>\n",
       "\t\t<td>1</td>\n",
       "\t\t<td>1</td>\n",
       "\t\t<td>0</td>\n",
       "\t\t<td>0</td>\n",
       "\t\t<td>0</td>\n",
       "\t\t<td>0</td>\n",
       "\t\t<td>1</td>\n",
       "\t\t<td>7337.748</td>\n",
       "\t\t<td>104</td>\n",
       "\t</tr>\n",
       "\t<tr>\n",
       "\t\t<td>43</td>\n",
       "\t\t<td>1</td>\n",
       "\t\t<td>0</td>\n",
       "\t\t<td>46.2</td>\n",
       "\t\t<td>0</td>\n",
       "\t\t<td>0</td>\n",
       "\t\t<td>1</td>\n",
       "\t\t<td>0</td>\n",
       "\t\t<td>0</td>\n",
       "\t\t<td>1</td>\n",
       "\t\t<td>0</td>\n",
       "\t\t<td>45863.205</td>\n",
       "\t\t<td>96</td>\n",
       "\t</tr>\n",
       "\t<tr>\n",
       "\t\t<td>26</td>\n",
       "\t\t<td>0</td>\n",
       "\t\t<td>1</td>\n",
       "\t\t<td>29.15</td>\n",
       "\t\t<td>1</td>\n",
       "\t\t<td>1</td>\n",
       "\t\t<td>0</td>\n",
       "\t\t<td>0</td>\n",
       "\t\t<td>0</td>\n",
       "\t\t<td>1</td>\n",
       "\t\t<td>0</td>\n",
       "\t\t<td>2902.9065</td>\n",
       "\t\t<td>24</td>\n",
       "\t</tr>\n",
       "\t<tr>\n",
       "\t\t<td>26</td>\n",
       "\t\t<td>0</td>\n",
       "\t\t<td>1</td>\n",
       "\t\t<td>27.265</td>\n",
       "\t\t<td>3</td>\n",
       "\t\t<td>1</td>\n",
       "\t\t<td>0</td>\n",
       "\t\t<td>1</td>\n",
       "\t\t<td>0</td>\n",
       "\t\t<td>0</td>\n",
       "\t\t<td>0</td>\n",
       "\t\t<td>4661.28635</td>\n",
       "\t\t<td>40</td>\n",
       "\t</tr>\n",
       "\t<tr>\n",
       "\t\t<td>26</td>\n",
       "\t\t<td>1</td>\n",
       "\t\t<td>0</td>\n",
       "\t\t<td>40.185</td>\n",
       "\t\t<td>0</td>\n",
       "\t\t<td>1</td>\n",
       "\t\t<td>0</td>\n",
       "\t\t<td>0</td>\n",
       "\t\t<td>1</td>\n",
       "\t\t<td>0</td>\n",
       "\t\t<td>0</td>\n",
       "\t\t<td>3201.24515</td>\n",
       "\t\t<td>8</td>\n",
       "\t</tr>\n",
       "\t<tr>\n",
       "\t\t<td>26</td>\n",
       "\t\t<td>1</td>\n",
       "\t\t<td>0</td>\n",
       "\t\t<td>28.785</td>\n",
       "\t\t<td>0</td>\n",
       "\t\t<td>1</td>\n",
       "\t\t<td>0</td>\n",
       "\t\t<td>1</td>\n",
       "\t\t<td>0</td>\n",
       "\t\t<td>0</td>\n",
       "\t\t<td>0</td>\n",
       "\t\t<td>3385.39915</td>\n",
       "\t\t<td>64</td>\n",
       "\t</tr>\n",
       "</table></html>"
      ],
      "text/plain": [
       "     sex_0  sex_1     bmi  children  smoker_0  smoker_1  region_0  region_1  region_2  region_3      charges   id\n",
       "age                                                                                                              \n",
       "26       1      0  42.400         1         1         0         0         0         0         1   3410.32400   56\n",
       "26       0      1  32.490         1         1         0         1         0         0         0   3490.54910   16\n",
       "26       0      1  35.420         0         1         0         0         0         1         0   2322.62180   48\n",
       "26       0      1  31.065         0         1         0         0         1         0         0   2699.56835   32\n",
       "43       1      0  29.900         1         1         0         0         0         0         1   7337.74800  104\n",
       "43       1      0  46.200         0         0         1         0         0         1         0  45863.20500   96\n",
       "26       0      1  29.150         1         1         0         0         0         1         0   2902.90650   24\n",
       "26       0      1  27.265         3         1         0         1         0         0         0   4661.28635   40\n",
       "26       1      0  40.185         0         1         0         0         1         0         0   3201.24515    8\n",
       "26       1      0  28.785         0         1         0         1         0         0         0   3385.39915   64"
      ]
     },
     "metadata": {},
     "output_type": "display_data"
    },
    {
     "name": "stdout",
     "output_type": "stream",
     "text": [
      "                                                                                                 \r"
     ]
    },
    {
     "data": {
      "text/html": [
       "268 rows X 13 columns"
      ],
      "text/plain": [
       "<IPython.core.display.HTML object>"
      ]
     },
     "metadata": {},
     "output_type": "display_data"
    },
    {
     "name": "stdout",
     "output_type": "stream",
     "text": [
      "                                                                                                 \r"
     ]
    },
    {
     "data": {
      "text/html": [
       "Performing transformation carried out in data preparation phase ..."
      ],
      "text/plain": [
       "<IPython.core.display.HTML object>"
      ]
     },
     "metadata": {},
     "output_type": "display_data"
    },
    {
     "name": "stdout",
     "output_type": "stream",
     "text": [
      "result data stored in table '\"ALICE\".\"ml__td_sqlmr_persist_out__1719261958947730\"'⫾⫾⫾｜ 60% - 6/10\n",
      "                                                                                                 \r"
     ]
    },
    {
     "data": {
      "text/html": [
       "\n",
       "Updated dataset after performing Lasso feature selection:"
      ],
      "text/plain": [
       "<IPython.core.display.HTML object>"
      ]
     },
     "metadata": {},
     "output_type": "display_data"
    },
    {
     "data": {
      "text/html": [
       "<style type=\"text/css\">\n",
       "\ttable {border:ridge 5px;}\n",
       "\ttable td {border:inset 1px;}\n",
       "\ttable tr#HeaderRow {background-color:grey; color:white;}</style>\n",
       "<html><table>\n",
       "\t<tr id=\"HeaderRow\">\n",
       "\t\t<th>id</th>\n",
       "\t\t<th>smoker_0</th>\n",
       "\t\t<th>region_0</th>\n",
       "\t\t<th>children</th>\n",
       "\t\t<th>age</th>\n",
       "\t\t<th>smoker_1</th>\n",
       "\t\t<th>bmi</th>\n",
       "\t\t<th>charges</th>\n",
       "\t</tr>\n",
       "\t<tr>\n",
       "\t\t<td>52</td>\n",
       "\t\t<td>1</td>\n",
       "\t\t<td>0</td>\n",
       "\t\t<td>2</td>\n",
       "\t\t<td>55</td>\n",
       "\t\t<td>0</td>\n",
       "\t\t<td>32.775</td>\n",
       "\t\t<td>12268.6323</td>\n",
       "\t</tr>\n",
       "\t<tr>\n",
       "\t\t<td>132</td>\n",
       "\t\t<td>1</td>\n",
       "\t\t<td>0</td>\n",
       "\t\t<td>2</td>\n",
       "\t\t<td>46</td>\n",
       "\t\t<td>0</td>\n",
       "\t\t<td>40.375</td>\n",
       "\t\t<td>8733.2293</td>\n",
       "\t</tr>\n",
       "\t<tr>\n",
       "\t\t<td>8</td>\n",
       "\t\t<td>1</td>\n",
       "\t\t<td>0</td>\n",
       "\t\t<td>0</td>\n",
       "\t\t<td>26</td>\n",
       "\t\t<td>0</td>\n",
       "\t\t<td>40.185</td>\n",
       "\t\t<td>3201.2452</td>\n",
       "\t</tr>\n",
       "\t<tr>\n",
       "\t\t<td>32</td>\n",
       "\t\t<td>1</td>\n",
       "\t\t<td>0</td>\n",
       "\t\t<td>0</td>\n",
       "\t\t<td>26</td>\n",
       "\t\t<td>0</td>\n",
       "\t\t<td>31.065</td>\n",
       "\t\t<td>2699.5684</td>\n",
       "\t</tr>\n",
       "\t<tr>\n",
       "\t\t<td>152</td>\n",
       "\t\t<td>1</td>\n",
       "\t\t<td>0</td>\n",
       "\t\t<td>0</td>\n",
       "\t\t<td>20</td>\n",
       "\t\t<td>0</td>\n",
       "\t\t<td>29.735</td>\n",
       "\t\t<td>1769.5316</td>\n",
       "\t</tr>\n",
       "\t<tr>\n",
       "\t\t<td>128</td>\n",
       "\t\t<td>0</td>\n",
       "\t\t<td>0</td>\n",
       "\t\t<td>3</td>\n",
       "\t\t<td>20</td>\n",
       "\t\t<td>1</td>\n",
       "\t\t<td>35.625</td>\n",
       "\t\t<td>37465.3438</td>\n",
       "\t</tr>\n",
       "\t<tr>\n",
       "\t\t<td>9</td>\n",
       "\t\t<td>1</td>\n",
       "\t\t<td>0</td>\n",
       "\t\t<td>1</td>\n",
       "\t\t<td>34</td>\n",
       "\t\t<td>0</td>\n",
       "\t\t<td>26.73</td>\n",
       "\t\t<td>5002.7827</td>\n",
       "\t</tr>\n",
       "\t<tr>\n",
       "\t\t<td>33</td>\n",
       "\t\t<td>1</td>\n",
       "\t\t<td>0</td>\n",
       "\t\t<td>1</td>\n",
       "\t\t<td>34</td>\n",
       "\t\t<td>0</td>\n",
       "\t\t<td>27.5</td>\n",
       "\t\t<td>5003.853</td>\n",
       "\t</tr>\n",
       "\t<tr>\n",
       "\t\t<td>57</td>\n",
       "\t\t<td>0</td>\n",
       "\t\t<td>0</td>\n",
       "\t\t<td>2</td>\n",
       "\t\t<td>64</td>\n",
       "\t\t<td>1</td>\n",
       "\t\t<td>31.3</td>\n",
       "\t\t<td>47291.055</td>\n",
       "\t</tr>\n",
       "\t<tr>\n",
       "\t\t<td>81</td>\n",
       "\t\t<td>1</td>\n",
       "\t\t<td>0</td>\n",
       "\t\t<td>3</td>\n",
       "\t\t<td>64</td>\n",
       "\t\t<td>0</td>\n",
       "\t\t<td>39.05</td>\n",
       "\t\t<td>16085.1275</td>\n",
       "\t</tr>\n",
       "</table></html>"
      ],
      "text/plain": [
       "    id  smoker_0  region_0  children  age  smoker_1     bmi     charges\n",
       "0   52         1         0         2   55         0  32.775  12268.6323\n",
       "1  132         1         0         2   46         0  40.375   8733.2293\n",
       "2    8         1         0         0   26         0  40.185   3201.2452\n",
       "3   32         1         0         0   26         0  31.065   2699.5684\n",
       "4  152         1         0         0   20         0  29.735   1769.5316\n",
       "5  128         0         0         3   20         1  35.625  37465.3438\n",
       "6    9         1         0         1   34         0  26.730   5002.7827\n",
       "7   33         1         0         1   34         0  27.500   5003.8530\n",
       "8   57         0         0         2   64         1  31.300  47291.0550\n",
       "9   81         1         0         3   64         0  39.050  16085.1275"
      ]
     },
     "metadata": {},
     "output_type": "display_data"
    },
    {
     "name": "stdout",
     "output_type": "stream",
     "text": [
      "                                                                                                 \r"
     ]
    },
    {
     "data": {
      "text/html": [
       "268 rows X 8 columns"
      ],
      "text/plain": [
       "<IPython.core.display.HTML object>"
      ]
     },
     "metadata": {},
     "output_type": "display_data"
    },
    {
     "name": "stdout",
     "output_type": "stream",
     "text": [
      "                                                                                                 \r"
     ]
    },
    {
     "data": {
      "text/html": [
       "\n",
       "Updated dataset after performing scaling on Lasso selected features :"
      ],
      "text/plain": [
       "<IPython.core.display.HTML object>"
      ]
     },
     "metadata": {},
     "output_type": "display_data"
    },
    {
     "data": {
      "text/html": [
       "<style type=\"text/css\">\n",
       "\ttable {border:ridge 5px;}\n",
       "\ttable td {border:inset 1px;}\n",
       "\ttable tr#HeaderRow {background-color:grey; color:white;}</style>\n",
       "<html><table>\n",
       "\t<tr id=\"HeaderRow\">\n",
       "\t\t<th>smoker_0</th>\n",
       "\t\t<th>id</th>\n",
       "\t\t<th>region_0</th>\n",
       "\t\t<th>charges</th>\n",
       "\t\t<th>smoker_1</th>\n",
       "\t\t<th>children</th>\n",
       "\t\t<th>age</th>\n",
       "\t\t<th>bmi</th>\n",
       "\t</tr>\n",
       "\t<tr>\n",
       "\t\t<td>1</td>\n",
       "\t\t<td>52</td>\n",
       "\t\t<td>0</td>\n",
       "\t\t<td>12268.6323</td>\n",
       "\t\t<td>0</td>\n",
       "\t\t<td>0.8047892010664878</td>\n",
       "\t\t<td>1.14235884968854</td>\n",
       "\t\t<td>0.4301789899788835</td>\n",
       "\t</tr>\n",
       "\t<tr>\n",
       "\t\t<td>1</td>\n",
       "\t\t<td>132</td>\n",
       "\t\t<td>0</td>\n",
       "\t\t<td>8733.2293</td>\n",
       "\t\t<td>0</td>\n",
       "\t\t<td>0.8047892010664878</td>\n",
       "\t\t<td>0.4987859006353962</td>\n",
       "\t\t<td>1.7394330847324573</td>\n",
       "\t</tr>\n",
       "\t<tr>\n",
       "\t\t<td>1</td>\n",
       "\t\t<td>8</td>\n",
       "\t\t<td>0</td>\n",
       "\t\t<td>3201.2452</td>\n",
       "\t\t<td>0</td>\n",
       "\t\t<td>-0.8761498198802651</td>\n",
       "\t\t<td>-0.9313762083715896</td>\n",
       "\t\t<td>1.7067017323636184</td>\n",
       "\t</tr>\n",
       "\t<tr>\n",
       "\t\t<td>1</td>\n",
       "\t\t<td>32</td>\n",
       "\t\t<td>0</td>\n",
       "\t\t<td>2699.5684</td>\n",
       "\t\t<td>0</td>\n",
       "\t\t<td>-0.8761498198802651</td>\n",
       "\t\t<td>-0.9313762083715896</td>\n",
       "\t\t<td>0.13559681865932988</td>\n",
       "\t</tr>\n",
       "\t<tr>\n",
       "\t\t<td>1</td>\n",
       "\t\t<td>152</td>\n",
       "\t\t<td>0</td>\n",
       "\t\t<td>1769.5316</td>\n",
       "\t\t<td>0</td>\n",
       "\t\t<td>-0.8761498198802651</td>\n",
       "\t\t<td>-1.3604248410736854</td>\n",
       "\t\t<td>-0.09352264792254585</td>\n",
       "\t</tr>\n",
       "\t<tr>\n",
       "\t\t<td>0</td>\n",
       "\t\t<td>128</td>\n",
       "\t\t<td>0</td>\n",
       "\t\t<td>37465.3438</td>\n",
       "\t\t<td>1</td>\n",
       "\t\t<td>1.645258711539864</td>\n",
       "\t\t<td>-1.3604248410736854</td>\n",
       "\t\t<td>0.9211492755114739</td>\n",
       "\t</tr>\n",
       "\t<tr>\n",
       "\t\t<td>1</td>\n",
       "\t\t<td>9</td>\n",
       "\t\t<td>0</td>\n",
       "\t\t<td>5002.7827</td>\n",
       "\t\t<td>0</td>\n",
       "\t\t<td>-0.03568030940688866</td>\n",
       "\t\t<td>-0.3593113647687953</td>\n",
       "\t\t<td>-0.6111948261770836</td>\n",
       "\t</tr>\n",
       "\t<tr>\n",
       "\t\t<td>1</td>\n",
       "\t\t<td>33</td>\n",
       "\t\t<td>0</td>\n",
       "\t\t<td>5003.853</td>\n",
       "\t\t<td>0</td>\n",
       "\t\t<td>-0.03568030940688866</td>\n",
       "\t\t<td>-0.3593113647687953</td>\n",
       "\t\t<td>-0.47854671394547166</td>\n",
       "\t</tr>\n",
       "\t<tr>\n",
       "\t\t<td>0</td>\n",
       "\t\t<td>57</td>\n",
       "\t\t<td>0</td>\n",
       "\t\t<td>47291.055</td>\n",
       "\t\t<td>1</td>\n",
       "\t\t<td>0.8047892010664878</td>\n",
       "\t\t<td>1.7859317987416834</td>\n",
       "\t\t<td>0.17608033343131527</td>\n",
       "\t</tr>\n",
       "\t<tr>\n",
       "\t\t<td>1</td>\n",
       "\t\t<td>81</td>\n",
       "\t\t<td>0</td>\n",
       "\t\t<td>16085.1275</td>\n",
       "\t\t<td>0</td>\n",
       "\t\t<td>1.645258711539864</td>\n",
       "\t\t<td>1.7859317987416834</td>\n",
       "\t\t<td>1.511174969528709</td>\n",
       "\t</tr>\n",
       "</table></html>"
      ],
      "text/plain": [
       "   smoker_0   id  region_0     charges  smoker_1  children       age       bmi\n",
       "0         1   52         0  12268.6323         0  0.804789  1.142359  0.430179\n",
       "1         1  132         0   8733.2293         0  0.804789  0.498786  1.739433\n",
       "2         1    8         0   3201.2452         0 -0.876150 -0.931376  1.706702\n",
       "3         1   32         0   2699.5684         0 -0.876150 -0.931376  0.135597\n",
       "4         1  152         0   1769.5316         0 -0.876150 -1.360425 -0.093523\n",
       "5         0  128         0  37465.3438         1  1.645259 -1.360425  0.921149\n",
       "6         1    9         0   5002.7827         0 -0.035680 -0.359311 -0.611195\n",
       "7         1   33         0   5003.8530         0 -0.035680 -0.359311 -0.478547\n",
       "8         0   57         0  47291.0550         1  0.804789  1.785932  0.176080\n",
       "9         1   81         0  16085.1275         0  1.645259  1.785932  1.511175"
      ]
     },
     "metadata": {},
     "output_type": "display_data"
    },
    {
     "name": "stdout",
     "output_type": "stream",
     "text": [
      "                                                                                                 \r"
     ]
    },
    {
     "data": {
      "text/html": [
       "268 rows X 8 columns"
      ],
      "text/plain": [
       "<IPython.core.display.HTML object>"
      ]
     },
     "metadata": {},
     "output_type": "display_data"
    },
    {
     "name": "stdout",
     "output_type": "stream",
     "text": [
      "                                                                                                 \r"
     ]
    },
    {
     "data": {
      "text/html": [
       "\n",
       "Updated dataset after performing RFE feature selection:"
      ],
      "text/plain": [
       "<IPython.core.display.HTML object>"
      ]
     },
     "metadata": {},
     "output_type": "display_data"
    },
    {
     "data": {
      "text/html": [
       "<style type=\"text/css\">\n",
       "\ttable {border:ridge 5px;}\n",
       "\ttable td {border:inset 1px;}\n",
       "\ttable tr#HeaderRow {background-color:grey; color:white;}</style>\n",
       "<html><table>\n",
       "\t<tr id=\"HeaderRow\">\n",
       "\t\t<th>id</th>\n",
       "\t\t<th>region_1</th>\n",
       "\t\t<th>sex_0</th>\n",
       "\t\t<th>smoker_0</th>\n",
       "\t\t<th>region_3</th>\n",
       "\t\t<th>region_2</th>\n",
       "\t\t<th>region_0</th>\n",
       "\t\t<th>children</th>\n",
       "\t\t<th>sex_1</th>\n",
       "\t\t<th>age</th>\n",
       "\t\t<th>smoker_1</th>\n",
       "\t\t<th>bmi</th>\n",
       "\t\t<th>charges</th>\n",
       "\t</tr>\n",
       "\t<tr>\n",
       "\t\t<td>52</td>\n",
       "\t\t<td>1</td>\n",
       "\t\t<td>1</td>\n",
       "\t\t<td>1</td>\n",
       "\t\t<td>0</td>\n",
       "\t\t<td>0</td>\n",
       "\t\t<td>0</td>\n",
       "\t\t<td>2</td>\n",
       "\t\t<td>0</td>\n",
       "\t\t<td>55</td>\n",
       "\t\t<td>0</td>\n",
       "\t\t<td>32.775</td>\n",
       "\t\t<td>12268.6323</td>\n",
       "\t</tr>\n",
       "\t<tr>\n",
       "\t\t<td>132</td>\n",
       "\t\t<td>1</td>\n",
       "\t\t<td>0</td>\n",
       "\t\t<td>1</td>\n",
       "\t\t<td>0</td>\n",
       "\t\t<td>0</td>\n",
       "\t\t<td>0</td>\n",
       "\t\t<td>2</td>\n",
       "\t\t<td>1</td>\n",
       "\t\t<td>46</td>\n",
       "\t\t<td>0</td>\n",
       "\t\t<td>40.375</td>\n",
       "\t\t<td>8733.2293</td>\n",
       "\t</tr>\n",
       "\t<tr>\n",
       "\t\t<td>8</td>\n",
       "\t\t<td>1</td>\n",
       "\t\t<td>1</td>\n",
       "\t\t<td>1</td>\n",
       "\t\t<td>0</td>\n",
       "\t\t<td>0</td>\n",
       "\t\t<td>0</td>\n",
       "\t\t<td>0</td>\n",
       "\t\t<td>0</td>\n",
       "\t\t<td>26</td>\n",
       "\t\t<td>0</td>\n",
       "\t\t<td>40.185</td>\n",
       "\t\t<td>3201.2452</td>\n",
       "\t</tr>\n",
       "\t<tr>\n",
       "\t\t<td>32</td>\n",
       "\t\t<td>1</td>\n",
       "\t\t<td>0</td>\n",
       "\t\t<td>1</td>\n",
       "\t\t<td>0</td>\n",
       "\t\t<td>0</td>\n",
       "\t\t<td>0</td>\n",
       "\t\t<td>0</td>\n",
       "\t\t<td>1</td>\n",
       "\t\t<td>26</td>\n",
       "\t\t<td>0</td>\n",
       "\t\t<td>31.065</td>\n",
       "\t\t<td>2699.5684</td>\n",
       "\t</tr>\n",
       "\t<tr>\n",
       "\t\t<td>152</td>\n",
       "\t\t<td>1</td>\n",
       "\t\t<td>0</td>\n",
       "\t\t<td>1</td>\n",
       "\t\t<td>0</td>\n",
       "\t\t<td>0</td>\n",
       "\t\t<td>0</td>\n",
       "\t\t<td>0</td>\n",
       "\t\t<td>1</td>\n",
       "\t\t<td>20</td>\n",
       "\t\t<td>0</td>\n",
       "\t\t<td>29.735</td>\n",
       "\t\t<td>1769.5316</td>\n",
       "\t</tr>\n",
       "\t<tr>\n",
       "\t\t<td>128</td>\n",
       "\t\t<td>1</td>\n",
       "\t\t<td>0</td>\n",
       "\t\t<td>0</td>\n",
       "\t\t<td>0</td>\n",
       "\t\t<td>0</td>\n",
       "\t\t<td>0</td>\n",
       "\t\t<td>3</td>\n",
       "\t\t<td>1</td>\n",
       "\t\t<td>20</td>\n",
       "\t\t<td>1</td>\n",
       "\t\t<td>35.625</td>\n",
       "\t\t<td>37465.3438</td>\n",
       "\t</tr>\n",
       "\t<tr>\n",
       "\t\t<td>9</td>\n",
       "\t\t<td>0</td>\n",
       "\t\t<td>1</td>\n",
       "\t\t<td>1</td>\n",
       "\t\t<td>0</td>\n",
       "\t\t<td>1</td>\n",
       "\t\t<td>0</td>\n",
       "\t\t<td>1</td>\n",
       "\t\t<td>0</td>\n",
       "\t\t<td>34</td>\n",
       "\t\t<td>0</td>\n",
       "\t\t<td>26.73</td>\n",
       "\t\t<td>5002.7827</td>\n",
       "\t</tr>\n",
       "\t<tr>\n",
       "\t\t<td>33</td>\n",
       "\t\t<td>0</td>\n",
       "\t\t<td>1</td>\n",
       "\t\t<td>1</td>\n",
       "\t\t<td>1</td>\n",
       "\t\t<td>0</td>\n",
       "\t\t<td>0</td>\n",
       "\t\t<td>1</td>\n",
       "\t\t<td>0</td>\n",
       "\t\t<td>34</td>\n",
       "\t\t<td>0</td>\n",
       "\t\t<td>27.5</td>\n",
       "\t\t<td>5003.853</td>\n",
       "\t</tr>\n",
       "\t<tr>\n",
       "\t\t<td>57</td>\n",
       "\t\t<td>0</td>\n",
       "\t\t<td>1</td>\n",
       "\t\t<td>0</td>\n",
       "\t\t<td>1</td>\n",
       "\t\t<td>0</td>\n",
       "\t\t<td>0</td>\n",
       "\t\t<td>2</td>\n",
       "\t\t<td>0</td>\n",
       "\t\t<td>64</td>\n",
       "\t\t<td>1</td>\n",
       "\t\t<td>31.3</td>\n",
       "\t\t<td>47291.055</td>\n",
       "\t</tr>\n",
       "\t<tr>\n",
       "\t\t<td>81</td>\n",
       "\t\t<td>0</td>\n",
       "\t\t<td>1</td>\n",
       "\t\t<td>1</td>\n",
       "\t\t<td>0</td>\n",
       "\t\t<td>1</td>\n",
       "\t\t<td>0</td>\n",
       "\t\t<td>3</td>\n",
       "\t\t<td>0</td>\n",
       "\t\t<td>64</td>\n",
       "\t\t<td>0</td>\n",
       "\t\t<td>39.05</td>\n",
       "\t\t<td>16085.1275</td>\n",
       "\t</tr>\n",
       "</table></html>"
      ],
      "text/plain": [
       "           id  sex_0  smoker_0  region_3  region_2  region_0  children  sex_1  age  smoker_1     bmi     charges\n",
       "region_1                                                                                                        \n",
       "1          52      1         1         0         0         0         2      0   55         0  32.775  12268.6323\n",
       "1         132      0         1         0         0         0         2      1   46         0  40.375   8733.2293\n",
       "1           8      1         1         0         0         0         0      0   26         0  40.185   3201.2452\n",
       "1          32      0         1         0         0         0         0      1   26         0  31.065   2699.5684\n",
       "1         152      0         1         0         0         0         0      1   20         0  29.735   1769.5316\n",
       "1         128      0         0         0         0         0         3      1   20         1  35.625  37465.3438\n",
       "0           9      1         1         0         1         0         1      0   34         0  26.730   5002.7827\n",
       "0          33      1         1         1         0         0         1      0   34         0  27.500   5003.8530\n",
       "0          57      1         0         1         0         0         2      0   64         1  31.300  47291.0550\n",
       "0          81      1         1         0         1         0         3      0   64         0  39.050  16085.1275"
      ]
     },
     "metadata": {},
     "output_type": "display_data"
    },
    {
     "name": "stdout",
     "output_type": "stream",
     "text": [
      "                                                                                                 \r"
     ]
    },
    {
     "data": {
      "text/html": [
       "268 rows X 13 columns"
      ],
      "text/plain": [
       "<IPython.core.display.HTML object>"
      ]
     },
     "metadata": {},
     "output_type": "display_data"
    },
    {
     "name": "stdout",
     "output_type": "stream",
     "text": [
      "                                                                                                 \r"
     ]
    },
    {
     "data": {
      "text/html": [
       "\n",
       "Updated dataset after performing scaling on RFE selected features :"
      ],
      "text/plain": [
       "<IPython.core.display.HTML object>"
      ]
     },
     "metadata": {},
     "output_type": "display_data"
    },
    {
     "data": {
      "text/html": [
       "<style type=\"text/css\">\n",
       "\ttable {border:ridge 5px;}\n",
       "\ttable td {border:inset 1px;}\n",
       "\ttable tr#HeaderRow {background-color:grey; color:white;}</style>\n",
       "<html><table>\n",
       "\t<tr id=\"HeaderRow\">\n",
       "\t\t<th>r_region_1</th>\n",
       "\t\t<th>r_smoker_0</th>\n",
       "\t\t<th>r_smoker_1</th>\n",
       "\t\t<th>r_sex_0</th>\n",
       "\t\t<th>r_region_2</th>\n",
       "\t\t<th>id</th>\n",
       "\t\t<th>charges</th>\n",
       "\t\t<th>r_region_3</th>\n",
       "\t\t<th>r_sex_1</th>\n",
       "\t\t<th>r_region_0</th>\n",
       "\t\t<th>r_children</th>\n",
       "\t\t<th>r_age</th>\n",
       "\t\t<th>r_bmi</th>\n",
       "\t</tr>\n",
       "\t<tr>\n",
       "\t\t<td>0</td>\n",
       "\t\t<td>0</td>\n",
       "\t\t<td>1</td>\n",
       "\t\t<td>1</td>\n",
       "\t\t<td>0</td>\n",
       "\t\t<td>57</td>\n",
       "\t\t<td>47291.055</td>\n",
       "\t\t<td>1</td>\n",
       "\t\t<td>0</td>\n",
       "\t\t<td>0</td>\n",
       "\t\t<td>0.8047892010664878</td>\n",
       "\t\t<td>1.7859317987416834</td>\n",
       "\t\t<td>0.17608033343131527</td>\n",
       "\t</tr>\n",
       "\t<tr>\n",
       "\t\t<td>0</td>\n",
       "\t\t<td>0</td>\n",
       "\t\t<td>1</td>\n",
       "\t\t<td>1</td>\n",
       "\t\t<td>0</td>\n",
       "\t\t<td>105</td>\n",
       "\t\t<td>37079.372</td>\n",
       "\t\t<td>1</td>\n",
       "\t\t<td>0</td>\n",
       "\t\t<td>0</td>\n",
       "\t\t<td>-0.8761498198802651</td>\n",
       "\t\t<td>-0.4308194702191446</td>\n",
       "\t\t<td>0.5550749398073497</td>\n",
       "\t</tr>\n",
       "\t<tr>\n",
       "\t\t<td>0</td>\n",
       "\t\t<td>1</td>\n",
       "\t\t<td>0</td>\n",
       "\t\t<td>0</td>\n",
       "\t\t<td>1</td>\n",
       "\t\t<td>97</td>\n",
       "\t\t<td>11326.7149</td>\n",
       "\t\t<td>0</td>\n",
       "\t\t<td>1</td>\n",
       "\t\t<td>0</td>\n",
       "\t\t<td>-0.03568030940688866</td>\n",
       "\t\t<td>-0.4308194702191446</td>\n",
       "\t\t<td>2.098616609411563</td>\n",
       "\t</tr>\n",
       "\t<tr>\n",
       "\t\t<td>0</td>\n",
       "\t\t<td>0</td>\n",
       "\t\t<td>1</td>\n",
       "\t\t<td>1</td>\n",
       "\t\t<td>0</td>\n",
       "\t\t<td>129</td>\n",
       "\t\t<td>16776.304</td>\n",
       "\t\t<td>0</td>\n",
       "\t\t<td>0</td>\n",
       "\t\t<td>1</td>\n",
       "\t\t<td>0.8047892010664878</td>\n",
       "\t\t<td>-0.4308194702191446</td>\n",
       "\t\t<td>-1.926478380577549</td>\n",
       "\t</tr>\n",
       "\t<tr>\n",
       "\t\t<td>0</td>\n",
       "\t\t<td>1</td>\n",
       "\t\t<td>0</td>\n",
       "\t\t<td>0</td>\n",
       "\t\t<td>0</td>\n",
       "\t\t<td>30</td>\n",
       "\t\t<td>13129.6035</td>\n",
       "\t\t<td>0</td>\n",
       "\t\t<td>1</td>\n",
       "\t\t<td>1</td>\n",
       "\t\t<td>-0.8761498198802651</td>\n",
       "\t\t<td>1.5714074823906357</td>\n",
       "\t\t<td>-1.1409259237254046</td>\n",
       "\t</tr>\n",
       "\t<tr>\n",
       "\t\t<td>0</td>\n",
       "\t\t<td>0</td>\n",
       "\t\t<td>1</td>\n",
       "\t\t<td>0</td>\n",
       "\t\t<td>0</td>\n",
       "\t\t<td>62</td>\n",
       "\t\t<td>20773.6277</td>\n",
       "\t\t<td>0</td>\n",
       "\t\t<td>1</td>\n",
       "\t\t<td>1</td>\n",
       "\t\t<td>-0.03568030940688866</td>\n",
       "\t\t<td>-0.21629515386809672</td>\n",
       "\t\t<td>-0.38810481924210005</td>\n",
       "\t</tr>\n",
       "\t<tr>\n",
       "\t\t<td>1</td>\n",
       "\t\t<td>1</td>\n",
       "\t\t<td>0</td>\n",
       "\t\t<td>0</td>\n",
       "\t\t<td>0</td>\n",
       "\t\t<td>65</td>\n",
       "\t\t<td>30166.6182</td>\n",
       "\t\t<td>0</td>\n",
       "\t\t<td>1</td>\n",
       "\t\t<td>0</td>\n",
       "\t\t<td>-0.03568030940688866</td>\n",
       "\t\t<td>1.7859317987416834</td>\n",
       "\t\t<td>-0.9609034856967884</td>\n",
       "\t</tr>\n",
       "\t<tr>\n",
       "\t\t<td>1</td>\n",
       "\t\t<td>1</td>\n",
       "\t\t<td>0</td>\n",
       "\t\t<td>1</td>\n",
       "\t\t<td>0</td>\n",
       "\t\t<td>113</td>\n",
       "\t\t<td>6360.9936</td>\n",
       "\t\t<td>0</td>\n",
       "\t\t<td>0</td>\n",
       "\t\t<td>0</td>\n",
       "\t\t<td>1.645258711539864</td>\n",
       "\t\t<td>-0.4308194702191446</td>\n",
       "\t\t<td>2.181306341711788</td>\n",
       "\t</tr>\n",
       "\t<tr>\n",
       "\t\t<td>1</td>\n",
       "\t\t<td>1</td>\n",
       "\t\t<td>0</td>\n",
       "\t\t<td>1</td>\n",
       "\t\t<td>0</td>\n",
       "\t\t<td>52</td>\n",
       "\t\t<td>12268.6323</td>\n",
       "\t\t<td>0</td>\n",
       "\t\t<td>0</td>\n",
       "\t\t<td>0</td>\n",
       "\t\t<td>0.8047892010664878</td>\n",
       "\t\t<td>1.14235884968854</td>\n",
       "\t\t<td>0.4301789899788835</td>\n",
       "\t</tr>\n",
       "\t<tr>\n",
       "\t\t<td>1</td>\n",
       "\t\t<td>1</td>\n",
       "\t\t<td>0</td>\n",
       "\t\t<td>1</td>\n",
       "\t\t<td>0</td>\n",
       "\t\t<td>84</td>\n",
       "\t\t<td>4922.9159</td>\n",
       "\t\t<td>0</td>\n",
       "\t\t<td>0</td>\n",
       "\t\t<td>0</td>\n",
       "\t\t<td>0.8047892010664878</td>\n",
       "\t\t<td>-0.7168518920205418</td>\n",
       "\t\t<td>0.31561925668794594</td>\n",
       "\t</tr>\n",
       "</table></html>"
      ],
      "text/plain": [
       "   r_region_1  r_smoker_0  r_smoker_1  r_sex_0  r_region_2   id     charges  r_region_3  r_sex_1  r_region_0  r_children     r_age     r_bmi\n",
       "0           0           0           1        1           0   57  47291.0550           1        0           0    0.804789  1.785932  0.176080\n",
       "1           0           0           1        1           0  105  37079.3720           1        0           0   -0.876150 -0.430819  0.555075\n",
       "2           0           1           0        0           1   97  11326.7149           0        1           0   -0.035680 -0.430819  2.098617\n",
       "3           0           0           1        1           0  129  16776.3040           0        0           1    0.804789 -0.430819 -1.926478\n",
       "4           0           1           0        0           0   30  13129.6035           0        1           1   -0.876150  1.571407 -1.140926\n",
       "5           0           0           1        0           0   62  20773.6277           0        1           1   -0.035680 -0.216295 -0.388105\n",
       "6           1           1           0        0           0   65  30166.6182           0        1           0   -0.035680  1.785932 -0.960903\n",
       "7           1           1           0        1           0  113   6360.9936           0        0           0    1.645259 -0.430819  2.181306\n",
       "8           1           1           0        1           0   52  12268.6323           0        0           0    0.804789  1.142359  0.430179\n",
       "9           1           1           0        1           0   84   4922.9159           0        0           0    0.804789 -0.716852  0.315619"
      ]
     },
     "metadata": {},
     "output_type": "display_data"
    },
    {
     "name": "stdout",
     "output_type": "stream",
     "text": [
      "                                                                                                 \r"
     ]
    },
    {
     "data": {
      "text/html": [
       "268 rows X 13 columns"
      ],
      "text/plain": [
       "<IPython.core.display.HTML object>"
      ]
     },
     "metadata": {},
     "output_type": "display_data"
    },
    {
     "name": "stdout",
     "output_type": "stream",
     "text": [
      "                                                                                                 \r"
     ]
    },
    {
     "data": {
      "text/html": [
       "\n",
       "Updated dataset after performing scaling for PCA feature selection :"
      ],
      "text/plain": [
       "<IPython.core.display.HTML object>"
      ]
     },
     "metadata": {},
     "output_type": "display_data"
    },
    {
     "data": {
      "text/html": [
       "<style type=\"text/css\">\n",
       "\ttable {border:ridge 5px;}\n",
       "\ttable td {border:inset 1px;}\n",
       "\ttable tr#HeaderRow {background-color:grey; color:white;}</style>\n",
       "<html><table>\n",
       "\t<tr id=\"HeaderRow\">\n",
       "\t\t<th>region_1</th>\n",
       "\t\t<th>sex_0</th>\n",
       "\t\t<th>smoker_0</th>\n",
       "\t\t<th>region_3</th>\n",
       "\t\t<th>region_2</th>\n",
       "\t\t<th>id</th>\n",
       "\t\t<th>region_0</th>\n",
       "\t\t<th>charges</th>\n",
       "\t\t<th>sex_1</th>\n",
       "\t\t<th>smoker_1</th>\n",
       "\t\t<th>age</th>\n",
       "\t\t<th>bmi</th>\n",
       "\t\t<th>children</th>\n",
       "\t</tr>\n",
       "\t<tr>\n",
       "\t\t<td>1</td>\n",
       "\t\t<td>1</td>\n",
       "\t\t<td>1</td>\n",
       "\t\t<td>0</td>\n",
       "\t\t<td>0</td>\n",
       "\t\t<td>52</td>\n",
       "\t\t<td>0</td>\n",
       "\t\t<td>12268.6323</td>\n",
       "\t\t<td>0</td>\n",
       "\t\t<td>0</td>\n",
       "\t\t<td>1.1423588496885402</td>\n",
       "\t\t<td>0.4301789899788836</td>\n",
       "\t\t<td>0.8047892010664918</td>\n",
       "\t</tr>\n",
       "\t<tr>\n",
       "\t\t<td>1</td>\n",
       "\t\t<td>0</td>\n",
       "\t\t<td>1</td>\n",
       "\t\t<td>0</td>\n",
       "\t\t<td>0</td>\n",
       "\t\t<td>132</td>\n",
       "\t\t<td>0</td>\n",
       "\t\t<td>8733.2293</td>\n",
       "\t\t<td>1</td>\n",
       "\t\t<td>0</td>\n",
       "\t\t<td>0.4987859006353964</td>\n",
       "\t\t<td>1.739433084732458</td>\n",
       "\t\t<td>0.8047892010664918</td>\n",
       "\t</tr>\n",
       "\t<tr>\n",
       "\t\t<td>1</td>\n",
       "\t\t<td>1</td>\n",
       "\t\t<td>1</td>\n",
       "\t\t<td>0</td>\n",
       "\t\t<td>0</td>\n",
       "\t\t<td>8</td>\n",
       "\t\t<td>0</td>\n",
       "\t\t<td>3201.2452</td>\n",
       "\t\t<td>0</td>\n",
       "\t\t<td>0</td>\n",
       "\t\t<td>-0.93137620837159</td>\n",
       "\t\t<td>1.7067017323636189</td>\n",
       "\t\t<td>-0.8761498198802695</td>\n",
       "\t</tr>\n",
       "\t<tr>\n",
       "\t\t<td>1</td>\n",
       "\t\t<td>0</td>\n",
       "\t\t<td>1</td>\n",
       "\t\t<td>0</td>\n",
       "\t\t<td>0</td>\n",
       "\t\t<td>32</td>\n",
       "\t\t<td>0</td>\n",
       "\t\t<td>2699.5684</td>\n",
       "\t\t<td>1</td>\n",
       "\t\t<td>0</td>\n",
       "\t\t<td>-0.93137620837159</td>\n",
       "\t\t<td>0.1355968186593299</td>\n",
       "\t\t<td>-0.8761498198802695</td>\n",
       "\t</tr>\n",
       "\t<tr>\n",
       "\t\t<td>1</td>\n",
       "\t\t<td>0</td>\n",
       "\t\t<td>1</td>\n",
       "\t\t<td>0</td>\n",
       "\t\t<td>0</td>\n",
       "\t\t<td>152</td>\n",
       "\t\t<td>0</td>\n",
       "\t\t<td>1769.5316</td>\n",
       "\t\t<td>1</td>\n",
       "\t\t<td>0</td>\n",
       "\t\t<td>-1.3604248410736859</td>\n",
       "\t\t<td>-0.09352264792254587</td>\n",
       "\t\t<td>-0.8761498198802695</td>\n",
       "\t</tr>\n",
       "\t<tr>\n",
       "\t\t<td>1</td>\n",
       "\t\t<td>0</td>\n",
       "\t\t<td>0</td>\n",
       "\t\t<td>0</td>\n",
       "\t\t<td>0</td>\n",
       "\t\t<td>128</td>\n",
       "\t\t<td>0</td>\n",
       "\t\t<td>37465.3438</td>\n",
       "\t\t<td>1</td>\n",
       "\t\t<td>1</td>\n",
       "\t\t<td>-1.3604248410736859</td>\n",
       "\t\t<td>0.9211492755114741</td>\n",
       "\t\t<td>1.6452587115398725</td>\n",
       "\t</tr>\n",
       "\t<tr>\n",
       "\t\t<td>0</td>\n",
       "\t\t<td>1</td>\n",
       "\t\t<td>1</td>\n",
       "\t\t<td>0</td>\n",
       "\t\t<td>1</td>\n",
       "\t\t<td>9</td>\n",
       "\t\t<td>0</td>\n",
       "\t\t<td>5002.7827</td>\n",
       "\t\t<td>0</td>\n",
       "\t\t<td>0</td>\n",
       "\t\t<td>-0.35931136476879544</td>\n",
       "\t\t<td>-0.6111948261770839</td>\n",
       "\t\t<td>-0.03568030940688884</td>\n",
       "\t</tr>\n",
       "\t<tr>\n",
       "\t\t<td>0</td>\n",
       "\t\t<td>1</td>\n",
       "\t\t<td>1</td>\n",
       "\t\t<td>1</td>\n",
       "\t\t<td>0</td>\n",
       "\t\t<td>33</td>\n",
       "\t\t<td>0</td>\n",
       "\t\t<td>5003.853</td>\n",
       "\t\t<td>0</td>\n",
       "\t\t<td>0</td>\n",
       "\t\t<td>-0.35931136476879544</td>\n",
       "\t\t<td>-0.4785467139454718</td>\n",
       "\t\t<td>-0.03568030940688884</td>\n",
       "\t</tr>\n",
       "\t<tr>\n",
       "\t\t<td>0</td>\n",
       "\t\t<td>1</td>\n",
       "\t\t<td>0</td>\n",
       "\t\t<td>1</td>\n",
       "\t\t<td>0</td>\n",
       "\t\t<td>57</td>\n",
       "\t\t<td>0</td>\n",
       "\t\t<td>47291.055</td>\n",
       "\t\t<td>0</td>\n",
       "\t\t<td>1</td>\n",
       "\t\t<td>1.785931798741684</td>\n",
       "\t\t<td>0.17608033343131532</td>\n",
       "\t\t<td>0.8047892010664918</td>\n",
       "\t</tr>\n",
       "\t<tr>\n",
       "\t\t<td>0</td>\n",
       "\t\t<td>1</td>\n",
       "\t\t<td>1</td>\n",
       "\t\t<td>0</td>\n",
       "\t\t<td>1</td>\n",
       "\t\t<td>81</td>\n",
       "\t\t<td>0</td>\n",
       "\t\t<td>16085.1275</td>\n",
       "\t\t<td>0</td>\n",
       "\t\t<td>0</td>\n",
       "\t\t<td>1.785931798741684</td>\n",
       "\t\t<td>1.5111749695287093</td>\n",
       "\t\t<td>1.6452587115398725</td>\n",
       "\t</tr>\n",
       "</table></html>"
      ],
      "text/plain": [
       "   region_1  sex_0  smoker_0  region_3  region_2   id  region_0     charges  sex_1  smoker_1       age       bmi  children\n",
       "0         1      1         1         0         0   52         0  12268.6323      0         0  1.142359  0.430179  0.804789\n",
       "1         1      0         1         0         0  132         0   8733.2293      1         0  0.498786  1.739433  0.804789\n",
       "2         1      1         1         0         0    8         0   3201.2452      0         0 -0.931376  1.706702 -0.876150\n",
       "3         1      0         1         0         0   32         0   2699.5684      1         0 -0.931376  0.135597 -0.876150\n",
       "4         1      0         1         0         0  152         0   1769.5316      1         0 -1.360425 -0.093523 -0.876150\n",
       "5         1      0         0         0         0  128         0  37465.3438      1         1 -1.360425  0.921149  1.645259\n",
       "6         0      1         1         0         1    9         0   5002.7827      0         0 -0.359311 -0.611195 -0.035680\n",
       "7         0      1         1         1         0   33         0   5003.8530      0         0 -0.359311 -0.478547 -0.035680\n",
       "8         0      1         0         1         0   57         0  47291.0550      0         1  1.785932  0.176080  0.804789\n",
       "9         0      1         1         0         1   81         0  16085.1275      0         0  1.785932  1.511175  1.645259"
      ]
     },
     "metadata": {},
     "output_type": "display_data"
    },
    {
     "name": "stdout",
     "output_type": "stream",
     "text": [
      "                                                                                                 \r"
     ]
    },
    {
     "data": {
      "text/html": [
       "268 rows X 13 columns"
      ],
      "text/plain": [
       "<IPython.core.display.HTML object>"
      ]
     },
     "metadata": {},
     "output_type": "display_data"
    },
    {
     "name": "stdout",
     "output_type": "stream",
     "text": [
      "                                                                                                 \r"
     ]
    },
    {
     "data": {
      "text/html": [
       "\n",
       "Updated dataset after performing PCA feature selection :"
      ],
      "text/plain": [
       "<IPython.core.display.HTML object>"
      ]
     },
     "metadata": {},
     "output_type": "display_data"
    },
    {
     "data": {
      "text/html": [
       "<div>\n",
       "<style scoped>\n",
       "    .dataframe tbody tr th:only-of-type {\n",
       "        vertical-align: middle;\n",
       "    }\n",
       "\n",
       "    .dataframe tbody tr th {\n",
       "        vertical-align: top;\n",
       "    }\n",
       "\n",
       "    .dataframe thead th {\n",
       "        text-align: right;\n",
       "    }\n",
       "</style>\n",
       "<table border=\"1\" class=\"dataframe\">\n",
       "  <thead>\n",
       "    <tr style=\"text-align: right;\">\n",
       "      <th></th>\n",
       "      <th>id</th>\n",
       "      <th>col_0</th>\n",
       "      <th>col_1</th>\n",
       "      <th>col_2</th>\n",
       "      <th>col_3</th>\n",
       "      <th>col_4</th>\n",
       "      <th>col_5</th>\n",
       "      <th>col_6</th>\n",
       "      <th>col_7</th>\n",
       "      <th>charges</th>\n",
       "    </tr>\n",
       "  </thead>\n",
       "  <tbody>\n",
       "    <tr>\n",
       "      <th>0</th>\n",
       "      <td>65</td>\n",
       "      <td>-0.556967</td>\n",
       "      <td>0.473040</td>\n",
       "      <td>1.918005</td>\n",
       "      <td>0.631997</td>\n",
       "      <td>-0.508665</td>\n",
       "      <td>-0.586658</td>\n",
       "      <td>-0.162805</td>\n",
       "      <td>0.473621</td>\n",
       "      <td>30166.6182</td>\n",
       "    </tr>\n",
       "    <tr>\n",
       "      <th>1</th>\n",
       "      <td>9</td>\n",
       "      <td>0.582306</td>\n",
       "      <td>0.182273</td>\n",
       "      <td>0.013030</td>\n",
       "      <td>-0.749760</td>\n",
       "      <td>0.035461</td>\n",
       "      <td>-0.432751</td>\n",
       "      <td>0.756402</td>\n",
       "      <td>-0.325752</td>\n",
       "      <td>5002.7827</td>\n",
       "    </tr>\n",
       "    <tr>\n",
       "      <th>2</th>\n",
       "      <td>113</td>\n",
       "      <td>-1.660304</td>\n",
       "      <td>0.503450</td>\n",
       "      <td>-2.083386</td>\n",
       "      <td>-0.763721</td>\n",
       "      <td>-0.310069</td>\n",
       "      <td>-0.195032</td>\n",
       "      <td>-0.515635</td>\n",
       "      <td>0.817551</td>\n",
       "      <td>6360.9936</td>\n",
       "    </tr>\n",
       "    <tr>\n",
       "      <th>3</th>\n",
       "      <td>33</td>\n",
       "      <td>0.551693</td>\n",
       "      <td>0.220242</td>\n",
       "      <td>0.042005</td>\n",
       "      <td>-0.771516</td>\n",
       "      <td>-0.149990</td>\n",
       "      <td>0.051918</td>\n",
       "      <td>-0.507813</td>\n",
       "      <td>-0.708335</td>\n",
       "      <td>5003.8530</td>\n",
       "    </tr>\n",
       "    <tr>\n",
       "      <th>4</th>\n",
       "      <td>52</td>\n",
       "      <td>-1.313492</td>\n",
       "      <td>0.576880</td>\n",
       "      <td>0.366043</td>\n",
       "      <td>-0.747414</td>\n",
       "      <td>-0.230506</td>\n",
       "      <td>-0.413168</td>\n",
       "      <td>-0.323898</td>\n",
       "      <td>0.640324</td>\n",
       "      <td>12268.6323</td>\n",
       "    </tr>\n",
       "    <tr>\n",
       "      <th>5</th>\n",
       "      <td>57</td>\n",
       "      <td>-1.585315</td>\n",
       "      <td>0.646742</td>\n",
       "      <td>0.938311</td>\n",
       "      <td>-0.413272</td>\n",
       "      <td>1.250489</td>\n",
       "      <td>0.055190</td>\n",
       "      <td>-0.756886</td>\n",
       "      <td>-0.526148</td>\n",
       "      <td>47291.0550</td>\n",
       "    </tr>\n",
       "    <tr>\n",
       "      <th>6</th>\n",
       "      <td>84</td>\n",
       "      <td>0.023944</td>\n",
       "      <td>0.623974</td>\n",
       "      <td>-0.927038</td>\n",
       "      <td>-0.772185</td>\n",
       "      <td>-0.279107</td>\n",
       "      <td>-0.361403</td>\n",
       "      <td>-0.351031</td>\n",
       "      <td>0.659975</td>\n",
       "      <td>4922.9159</td>\n",
       "    </tr>\n",
       "    <tr>\n",
       "      <th>7</th>\n",
       "      <td>81</td>\n",
       "      <td>-2.818315</td>\n",
       "      <td>0.689783</td>\n",
       "      <td>-0.204298</td>\n",
       "      <td>-0.708137</td>\n",
       "      <td>0.065312</td>\n",
       "      <td>-0.282772</td>\n",
       "      <td>0.633092</td>\n",
       "      <td>-0.174976</td>\n",
       "      <td>16085.1275</td>\n",
       "    </tr>\n",
       "    <tr>\n",
       "      <th>8</th>\n",
       "      <td>132</td>\n",
       "      <td>-1.709984</td>\n",
       "      <td>-0.038171</td>\n",
       "      <td>-0.879239</td>\n",
       "      <td>0.617460</td>\n",
       "      <td>-0.608412</td>\n",
       "      <td>-0.300602</td>\n",
       "      <td>-0.450268</td>\n",
       "      <td>0.728506</td>\n",
       "      <td>8733.2293</td>\n",
       "    </tr>\n",
       "    <tr>\n",
       "      <th>9</th>\n",
       "      <td>105</td>\n",
       "      <td>0.251669</td>\n",
       "      <td>-1.017009</td>\n",
       "      <td>-0.364740</td>\n",
       "      <td>-0.461336</td>\n",
       "      <td>1.144368</td>\n",
       "      <td>0.111314</td>\n",
       "      <td>-0.903332</td>\n",
       "      <td>-0.459151</td>\n",
       "      <td>37079.3720</td>\n",
       "    </tr>\n",
       "  </tbody>\n",
       "</table>\n",
       "</div>"
      ],
      "text/plain": [
       "    id     col_0     col_1     col_2     col_3     col_4     col_5     col_6  \\\n",
       "0   65 -0.556967  0.473040  1.918005  0.631997 -0.508665 -0.586658 -0.162805   \n",
       "1    9  0.582306  0.182273  0.013030 -0.749760  0.035461 -0.432751  0.756402   \n",
       "2  113 -1.660304  0.503450 -2.083386 -0.763721 -0.310069 -0.195032 -0.515635   \n",
       "3   33  0.551693  0.220242  0.042005 -0.771516 -0.149990  0.051918 -0.507813   \n",
       "4   52 -1.313492  0.576880  0.366043 -0.747414 -0.230506 -0.413168 -0.323898   \n",
       "5   57 -1.585315  0.646742  0.938311 -0.413272  1.250489  0.055190 -0.756886   \n",
       "6   84  0.023944  0.623974 -0.927038 -0.772185 -0.279107 -0.361403 -0.351031   \n",
       "7   81 -2.818315  0.689783 -0.204298 -0.708137  0.065312 -0.282772  0.633092   \n",
       "8  132 -1.709984 -0.038171 -0.879239  0.617460 -0.608412 -0.300602 -0.450268   \n",
       "9  105  0.251669 -1.017009 -0.364740 -0.461336  1.144368  0.111314 -0.903332   \n",
       "\n",
       "      col_7     charges  \n",
       "0  0.473621  30166.6182  \n",
       "1 -0.325752   5002.7827  \n",
       "2  0.817551   6360.9936  \n",
       "3 -0.708335   5003.8530  \n",
       "4  0.640324  12268.6323  \n",
       "5 -0.526148  47291.0550  \n",
       "6  0.659975   4922.9159  \n",
       "7 -0.174976  16085.1275  \n",
       "8  0.728506   8733.2293  \n",
       "9 -0.459151  37079.3720  "
      ]
     },
     "metadata": {},
     "output_type": "display_data"
    },
    {
     "name": "stdout",
     "output_type": "stream",
     "text": [
      "                                                                                                 \r"
     ]
    },
    {
     "data": {
      "text/html": [
       "10 rows X 10 columns"
      ],
      "text/plain": [
       "<IPython.core.display.HTML object>"
      ]
     },
     "metadata": {},
     "output_type": "display_data"
    },
    {
     "name": "stdout",
     "output_type": "stream",
     "text": [
      "Data Transformation completed.⫿⫿⫿⫿⫿⫿⫿⫿⫿⫿⫿⫿⫿⫿⫿⫿⫿⫿⫿⫿⫿⫿⫿⫿⫿⫿⫿⫿⫿⫿⫿⫿⫿⫿⫿⫿⫿⫿⫿⫿⫿⫿｜ 100% - 10/10           \n",
      "\n",
      "Following model is being used for generating prediction :\n",
      "Model ID : DECISIONFOREST_1 \n",
      "Feature Selection Method : rfe\n",
      "\n",
      "Prediction : \n",
      "    id    prediction  confidence_lower  confidence_upper     charges\n",
      "0   52  14472.899660      14472.899660      14472.899660  12268.6323\n",
      "1  132   8455.131633       8455.131633       8455.131633   8733.2293\n",
      "2    8   3308.165584       3308.165584       3308.165584   3201.2452\n",
      "3   32   3308.165584       3308.165584       3308.165584   2699.5684\n",
      "4  152   1983.795007       1983.795007       1983.795007   1769.5316\n",
      "5  128  38507.515667      38507.515667      38507.515667  37465.3438\n",
      "6    9   5362.004482       5362.004482       5362.004482   5002.7827\n",
      "7   33   5362.004482       5362.004482       5362.004482   5003.8530\n",
      "8   57  45710.207800      45710.207800      45710.207800  47291.0550\n",
      "9   81  20421.839210      20421.839210      20421.839210  16085.1275\n",
      "\n",
      "Performance Metrics : \n",
      "          MAE           MSE      MSLE       MAPE       MPE         RMSE    RMSLE            ME        R2        EV          MPD       MGD\n",
      "0  2730.49098  3.071581e+07  0.216858  19.788334 -1.960276  5542.184281  0.46568  25740.493693  0.809757  0.815223  2808.663207  0.429384\n"
     ]
    }
   ],
   "source": [
    "# Generating prediction and metrics on test data\n",
    "prediction = aml.predict(insurance_df_test)"
   ]
  },
  {
   "cell_type": "code",
   "execution_count": 22,
   "id": "cc4f6a78-1cdf-4938-a9f1-22035d8404ca",
   "metadata": {},
   "outputs": [
    {
     "data": {
      "text/html": [
       "<style type=\"text/css\">\n",
       "\ttable {border:ridge 5px;}\n",
       "\ttable td {border:inset 1px;}\n",
       "\ttable tr#HeaderRow {background-color:grey; color:white;}</style>\n",
       "<html><table>\n",
       "\t<tr id=\"HeaderRow\">\n",
       "\t\t<th>id</th>\n",
       "\t\t<th>prediction</th>\n",
       "\t\t<th>confidence_lower</th>\n",
       "\t\t<th>confidence_upper</th>\n",
       "\t\t<th>charges</th>\n",
       "\t</tr>\n",
       "\t<tr>\n",
       "\t\t<td>10</td>\n",
       "\t\t<td>8455.131632894738</td>\n",
       "\t\t<td>8455.131632894738</td>\n",
       "\t\t<td>8455.131632894738</td>\n",
       "\t\t<td>6496.886</td>\n",
       "\t</tr>\n",
       "\t<tr>\n",
       "\t\t<td>12</td>\n",
       "\t\t<td>6860.820846428571</td>\n",
       "\t\t<td>6860.820846428571</td>\n",
       "\t\t<td>6860.820846428571</td>\n",
       "\t\t<td>6652.5288</td>\n",
       "\t</tr>\n",
       "\t<tr>\n",
       "\t\t<td>13</td>\n",
       "\t\t<td>23592.687974999997</td>\n",
       "\t\t<td>23592.687974999997</td>\n",
       "\t\t<td>23592.687974999997</td>\n",
       "\t\t<td>23807.2406</td>\n",
       "\t</tr>\n",
       "\t<tr>\n",
       "\t\t<td>14</td>\n",
       "\t\t<td>13762.843170833332</td>\n",
       "\t\t<td>13762.843170833332</td>\n",
       "\t\t<td>13762.843170833332</td>\n",
       "\t\t<td>13415.0381</td>\n",
       "\t</tr>\n",
       "\t<tr>\n",
       "\t\t<td>16</td>\n",
       "\t\t<td>4844.094585714286</td>\n",
       "\t\t<td>4844.094585714286</td>\n",
       "\t\t<td>4844.094585714286</td>\n",
       "\t\t<td>3490.5491</td>\n",
       "\t</tr>\n",
       "\t<tr>\n",
       "\t\t<td>17</td>\n",
       "\t\t<td>5362.004481578947</td>\n",
       "\t\t<td>5362.004481578947</td>\n",
       "\t\t<td>5362.004481578947</td>\n",
       "\t\t<td>5385.3379</td>\n",
       "\t</tr>\n",
       "\t<tr>\n",
       "\t\t<td>15</td>\n",
       "\t\t<td>3308.165584210526</td>\n",
       "\t\t<td>3308.165584210526</td>\n",
       "\t\t<td>3308.165584210526</td>\n",
       "\t\t<td>4357.0436</td>\n",
       "\t</tr>\n",
       "\t<tr>\n",
       "\t\t<td>11</td>\n",
       "\t\t<td>17885.84312857143</td>\n",
       "\t\t<td>17885.84312857143</td>\n",
       "\t\t<td>17885.84312857143</td>\n",
       "\t\t<td>16297.846</td>\n",
       "\t</tr>\n",
       "\t<tr>\n",
       "\t\t<td>9</td>\n",
       "\t\t<td>5362.004481578947</td>\n",
       "\t\t<td>5362.004481578947</td>\n",
       "\t\t<td>5362.004481578947</td>\n",
       "\t\t<td>5002.7827</td>\n",
       "\t</tr>\n",
       "\t<tr>\n",
       "\t\t<td>8</td>\n",
       "\t\t<td>3308.165584210526</td>\n",
       "\t\t<td>3308.165584210526</td>\n",
       "\t\t<td>3308.165584210526</td>\n",
       "\t\t<td>3201.2452</td>\n",
       "\t</tr>\n",
       "</table></html>"
      ],
      "text/plain": [
       "   id    prediction  confidence_lower  confidence_upper     charges\n",
       "0  10   8455.131633       8455.131633       8455.131633   6496.8860\n",
       "1  12   6860.820846       6860.820846       6860.820846   6652.5288\n",
       "2  13  23592.687975      23592.687975      23592.687975  23807.2406\n",
       "3  14  13762.843171      13762.843171      13762.843171  13415.0381\n",
       "4  16   4844.094586       4844.094586       4844.094586   3490.5491\n",
       "5  17   5362.004482       5362.004482       5362.004482   5385.3379\n",
       "6  15   3308.165584       3308.165584       3308.165584   4357.0436\n",
       "7  11  17885.843129      17885.843129      17885.843129  16297.8460\n",
       "8   9   5362.004482       5362.004482       5362.004482   5002.7827\n",
       "9   8   3308.165584       3308.165584       3308.165584   3201.2452"
      ]
     },
     "execution_count": 22,
     "metadata": {},
     "output_type": "execute_result"
    }
   ],
   "source": [
    "# Printing prediction\n",
    "prediction.head()"
   ]
  },
  {
   "cell_type": "code",
   "execution_count": 23,
   "id": "b2cba357-75ac-4089-a234-64a57067b117",
   "metadata": {},
   "outputs": [
    {
     "data": {
      "text/plain": [
       "True"
      ]
     },
     "execution_count": 23,
     "metadata": {},
     "output_type": "execute_result"
    }
   ],
   "source": [
    "remove_context()"
   ]
  }
 ],
 "metadata": {
  "kernelspec": {
   "display_name": "Python 3 (ipykernel)",
   "language": "python",
   "name": "python3"
  },
  "language_info": {
   "codemirror_mode": {
    "name": "ipython",
    "version": 3
   },
   "file_extension": ".py",
   "mimetype": "text/x-python",
   "name": "python",
   "nbconvert_exporter": "python",
   "pygments_lexer": "ipython3",
   "version": "3.10.9"
  }
 },
 "nbformat": 4,
 "nbformat_minor": 5
}
