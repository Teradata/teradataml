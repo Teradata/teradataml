{
 "cells": [
  {
   "cell_type": "markdown",
   "id": "2762f1d8-5a66-411f-a625-34cf16ac6dd3",
   "metadata": {},
   "source": [
    "# <b><span style='color:#F1A424'>AutoML - Binary Classification - Wine Quality Prediction</span> </b>"
   ]
  },
  {
   "cell_type": "markdown",
   "id": "12471c34-62d2-4e5d-868f-aa5c7d107f77",
   "metadata": {},
   "source": [
    "### Disclaimer\n",
    "Please note, the Vantage Functions via SQLAlchemy feature is a preview/beta code release with limited functionality (the “Code”). As such, you acknowledge that the Code is experimental in nature and that the Code is provided “AS IS” and may not be functional on any machine or in any environment. TERADATA DISCLAIMS ALL WARRANTIES RELATING TO THE CODE, EXPRESS OR IMPLIED, INCLUDING, BUT NOT LIMITED TO, ANY WARRANTIES AGAINST INFRINGEMENT OF THIRD-PARTY RIGHTS, MERCHANTABILITY AND FITNESS FOR A PARTICULAR PURPOSE.\n",
    "\n",
    "TERADATA SHALL NOT BE RESPONSIBLE OR LIABLE WITH RESPECT TO ANY SUBJECT MATTER OF THE CODE UNDER ANY CONTRACT, NEGLIGENCE, STRICT LIABILITY OR OTHER THEORY \n",
    "    (A) FOR LOSS OR INACCURACY OF DATA OR COST OF PROCUREMENT OF SUBSTITUTE GOODS, SERVICES OR TECHNOLOGY, OR \n",
    "    (B) FOR ANY INDIRECT, INCIDENTAL OR CONSEQUENTIAL DAMAGES INCLUDING, BUT NOT LIMITED TO LOSS OF REVENUES AND LOSS OF PROFITS. TERADATA SHALL NOT BE RESPONSIBLE FOR ANY MATTER BEYOND ITS REASONABLE CONTROL.\n",
    "\n",
    "Notwithstanding anything to the contrary: \n",
    "    (a) Teradata will have no obligation of any kind with respect to any Code-related comments, suggestions, design changes or improvements that you elect to provide to Teradata in either verbal or written form (collectively, “Feedback”), and \n",
    "    (b) Teradata and its affiliates are hereby free to use any ideas, concepts, know-how or techniques, in whole or in part, contained in Feedback: \n",
    "        (i) for any purpose whatsoever, including developing, manufacturing, and/or marketing products and/or services incorporating Feedback in whole or in part, and \n",
    "        (ii) without any restrictions or limitations, including requiring the payment of any license fees, royalties, or other consideration. "
   ]
  },
  {
   "cell_type": "markdown",
   "id": "f225fb94-b2c8-4c92-af38-733d08e0e2a1",
   "metadata": {},
   "source": [
    "## <b> Problem overview:</b>\n",
    "    "
   ]
  },
  {
   "cell_type": "markdown",
   "id": "af9813eb-9c44-4968-a5fe-d1c74415c894",
   "metadata": {},
   "source": [
    "**Dataset used : Wine Quality Dataset**\n",
    "\n",
    "**Features**:\n",
    "\n",
    "- `fixed acidity`: fixed acidity of wine.\n",
    "- `volatile acidity`: volatile acidity of wine.\n",
    "- `citric acid`: citric acid of wine.\n",
    "- `residual sugar`: residual sugar of wine.\n",
    "- `chlorides`: chlorides.\n",
    "- `free sulfur dioxide`: free sulfur dioxide in wine.\n",
    "- `total sulfur dioxide`: total sulfur dioxide in wine.\n",
    "- `density`: density of wine.\n",
    "- `pH`: pH of wine.\n",
    "- `sulphates`: sulphates in wine.\n",
    "- `alcohol`: alcohol in wine.\n",
    "\n",
    "**Target Variable**:\n",
    "\n",
    "- `quality`: Quality of wine\n",
    "\n",
    "        \n",
    "**Objective**:\n",
    "\n",
    "The primary objective is typically to build a model that can accurately predict the quality of wine.\n",
    "\n",
    "**Usecase**:\n",
    "\n",
    "Here, we will use AutoML(Automated Machine Learning) functionality to automate the entire process of developing a predictive model. It will perform feature exploration, feature engineering, data preparation, model training and evaluation on dataset in auto run and at end we will get leaderboard containined different models along with their performance. Model will also have rank associated with them which indicates which is best performing model for given data followed by other models."
   ]
  },
  {
   "cell_type": "code",
   "execution_count": 1,
   "id": "66568348-4d00-477c-a071-17995f797c95",
   "metadata": {},
   "outputs": [],
   "source": [
    "# Importing AutoML from teradataml\n",
    "from teradataml import AutoML, AutoClassifier"
   ]
  },
  {
   "cell_type": "code",
   "execution_count": 2,
   "id": "17dfae70-0401-4cc4-ba1c-400a5cf62451",
   "metadata": {},
   "outputs": [],
   "source": [
    "# Importing other important libraries\n",
    "import getpass\n",
    "from teradataml import create_context, remove_context\n",
    "from teradataml import DataFrame\n",
    "from teradataml import load_example_data\n",
    "from teradataml import TrainTestSplit"
   ]
  },
  {
   "cell_type": "code",
   "execution_count": 6,
   "id": "cadd9ed2-42d6-4899-b23e-4e2cf601162f",
   "metadata": {},
   "outputs": [
    {
     "name": "stdin",
     "output_type": "stream",
     "text": [
      "Host:  ········\n",
      "Username:  ········\n",
      "Password:  ········\n"
     ]
    }
   ],
   "source": [
    "# Create the connection.\n",
    "host = getpass.getpass(\"Host: \")\n",
    "username = getpass.getpass(\"Username: \")\n",
    "password = getpass.getpass(\"Password: \")\n",
    "\n",
    "con = create_context(host=host, username=username, password=password)"
   ]
  },
  {
   "cell_type": "markdown",
   "id": "be767a89-d5b8-4876-91cb-36980754586e",
   "metadata": {},
   "source": [
    "## <b><span style='color:#F1A424'>| 1.</span> Loading Dataset </b>"
   ]
  },
  {
   "cell_type": "code",
   "execution_count": 7,
   "id": "f1592c52-b247-4792-be2a-30b49bbeb9b6",
   "metadata": {},
   "outputs": [],
   "source": [
    "# Loading dataset from example data collection\n",
    "load_example_data('teradataml','wine_data')"
   ]
  },
  {
   "cell_type": "code",
   "execution_count": 8,
   "id": "3846ae0f-004b-4b8e-9fea-06fac4294065",
   "metadata": {},
   "outputs": [],
   "source": [
    "# Fetching in teradata dataframe\n",
    "wine_df = DataFrame(\"wine_data\")"
   ]
  },
  {
   "cell_type": "code",
   "execution_count": 9,
   "id": "442ccd80-b444-413e-970d-d855ec3d6cae",
   "metadata": {},
   "outputs": [
    {
     "data": {
      "text/html": [
       "<style type=\"text/css\">\n",
       "\ttable {border:ridge 5px;}\n",
       "\ttable td {border:inset 1px;}\n",
       "\ttable tr#HeaderRow {background-color:grey; color:white;}</style>\n",
       "<html><table>\n",
       "\t<tr id=\"HeaderRow\">\n",
       "\t\t<th>fixed_acidity</th>\n",
       "\t\t<th>volatile_acidity</th>\n",
       "\t\t<th>citric_acid</th>\n",
       "\t\t<th>residual_sugar</th>\n",
       "\t\t<th>chlorides</th>\n",
       "\t\t<th>free_sulfur_dioxide</th>\n",
       "\t\t<th>total_sulfur_dioxide</th>\n",
       "\t\t<th>density</th>\n",
       "\t\t<th>pH</th>\n",
       "\t\t<th>sulphates</th>\n",
       "\t\t<th>alcohol</th>\n",
       "\t\t<th>quality</th>\n",
       "\t</tr>\n",
       "\t<tr>\n",
       "\t\t<td>4.9</td>\n",
       "\t\t<td>0.42</td>\n",
       "\t\t<td>0.0</td>\n",
       "\t\t<td>2.1</td>\n",
       "\t\t<td>0.048</td>\n",
       "\t\t<td>16.0</td>\n",
       "\t\t<td>42.0</td>\n",
       "\t\t<td>0.99154</td>\n",
       "\t\t<td>3.71</td>\n",
       "\t\t<td>0.74</td>\n",
       "\t\t<td>14.0</td>\n",
       "\t\t<td>good</td>\n",
       "\t</tr>\n",
       "\t<tr>\n",
       "\t\t<td>5.0</td>\n",
       "\t\t<td>1.04</td>\n",
       "\t\t<td>0.24</td>\n",
       "\t\t<td>1.6</td>\n",
       "\t\t<td>0.05</td>\n",
       "\t\t<td>32.0</td>\n",
       "\t\t<td>96.0</td>\n",
       "\t\t<td>0.9934</td>\n",
       "\t\t<td>3.74</td>\n",
       "\t\t<td>0.62</td>\n",
       "\t\t<td>11.5</td>\n",
       "\t\t<td>bad</td>\n",
       "\t</tr>\n",
       "\t<tr>\n",
       "\t\t<td>5.0</td>\n",
       "\t\t<td>0.38</td>\n",
       "\t\t<td>0.01</td>\n",
       "\t\t<td>1.6</td>\n",
       "\t\t<td>0.048</td>\n",
       "\t\t<td>26.0</td>\n",
       "\t\t<td>60.0</td>\n",
       "\t\t<td>0.99084</td>\n",
       "\t\t<td>3.7</td>\n",
       "\t\t<td>0.75</td>\n",
       "\t\t<td>14.0</td>\n",
       "\t\t<td>good</td>\n",
       "\t</tr>\n",
       "\t<tr>\n",
       "\t\t<td>5.0</td>\n",
       "\t\t<td>0.4</td>\n",
       "\t\t<td>0.5</td>\n",
       "\t\t<td>4.3</td>\n",
       "\t\t<td>0.046</td>\n",
       "\t\t<td>29.0</td>\n",
       "\t\t<td>80.0</td>\n",
       "\t\t<td>0.9902</td>\n",
       "\t\t<td>3.49</td>\n",
       "\t\t<td>0.66</td>\n",
       "\t\t<td>13.6</td>\n",
       "\t\t<td>good</td>\n",
       "\t</tr>\n",
       "\t<tr>\n",
       "\t\t<td>5.0</td>\n",
       "\t\t<td>1.02</td>\n",
       "\t\t<td>0.04</td>\n",
       "\t\t<td>1.4</td>\n",
       "\t\t<td>0.045</td>\n",
       "\t\t<td>41.0</td>\n",
       "\t\t<td>85.0</td>\n",
       "\t\t<td>0.9938</td>\n",
       "\t\t<td>3.75</td>\n",
       "\t\t<td>0.48</td>\n",
       "\t\t<td>10.5</td>\n",
       "\t\t<td>bad</td>\n",
       "\t</tr>\n",
       "\t<tr>\n",
       "\t\t<td>5.1</td>\n",
       "\t\t<td>0.585</td>\n",
       "\t\t<td>0.0</td>\n",
       "\t\t<td>1.7</td>\n",
       "\t\t<td>0.044</td>\n",
       "\t\t<td>14.0</td>\n",
       "\t\t<td>86.0</td>\n",
       "\t\t<td>0.99264</td>\n",
       "\t\t<td>3.56</td>\n",
       "\t\t<td>0.94</td>\n",
       "\t\t<td>12.9</td>\n",
       "\t\t<td>good</td>\n",
       "\t</tr>\n",
       "\t<tr>\n",
       "\t\t<td>5.0</td>\n",
       "\t\t<td>0.42</td>\n",
       "\t\t<td>0.24</td>\n",
       "\t\t<td>2.0</td>\n",
       "\t\t<td>0.06</td>\n",
       "\t\t<td>19.0</td>\n",
       "\t\t<td>50.0</td>\n",
       "\t\t<td>0.9917</td>\n",
       "\t\t<td>3.72</td>\n",
       "\t\t<td>0.74</td>\n",
       "\t\t<td>14.0</td>\n",
       "\t\t<td>good</td>\n",
       "\t</tr>\n",
       "\t<tr>\n",
       "\t\t<td>5.0</td>\n",
       "\t\t<td>0.74</td>\n",
       "\t\t<td>0.0</td>\n",
       "\t\t<td>1.2</td>\n",
       "\t\t<td>0.041</td>\n",
       "\t\t<td>16.0</td>\n",
       "\t\t<td>46.0</td>\n",
       "\t\t<td>0.99258</td>\n",
       "\t\t<td>4.01</td>\n",
       "\t\t<td>0.59</td>\n",
       "\t\t<td>12.5</td>\n",
       "\t\t<td>good</td>\n",
       "\t</tr>\n",
       "\t<tr>\n",
       "\t\t<td>4.7</td>\n",
       "\t\t<td>0.6</td>\n",
       "\t\t<td>0.17</td>\n",
       "\t\t<td>2.3</td>\n",
       "\t\t<td>0.058</td>\n",
       "\t\t<td>17.0</td>\n",
       "\t\t<td>106.0</td>\n",
       "\t\t<td>0.9932</td>\n",
       "\t\t<td>3.85</td>\n",
       "\t\t<td>0.6</td>\n",
       "\t\t<td>12.9</td>\n",
       "\t\t<td>good</td>\n",
       "\t</tr>\n",
       "\t<tr>\n",
       "\t\t<td>4.6</td>\n",
       "\t\t<td>0.52</td>\n",
       "\t\t<td>0.15</td>\n",
       "\t\t<td>2.1</td>\n",
       "\t\t<td>0.054</td>\n",
       "\t\t<td>8.0</td>\n",
       "\t\t<td>65.0</td>\n",
       "\t\t<td>0.9934</td>\n",
       "\t\t<td>3.9</td>\n",
       "\t\t<td>0.56</td>\n",
       "\t\t<td>13.1</td>\n",
       "\t\t<td>bad</td>\n",
       "\t</tr>\n",
       "</table></html>"
      ],
      "text/plain": [
       "               volatile_acidity  citric_acid  residual_sugar  chlorides  free_sulfur_dioxide  total_sulfur_dioxide  density    pH  sulphates  alcohol quality\n",
       "fixed_acidity                                                                                                                                                \n",
       "4.9                       0.420         0.00             2.1      0.048                 16.0                  42.0  0.99154  3.71       0.74     14.0    good\n",
       "5.0                       1.040         0.24             1.6      0.050                 32.0                  96.0  0.99340  3.74       0.62     11.5     bad\n",
       "5.0                       0.380         0.01             1.6      0.048                 26.0                  60.0  0.99084  3.70       0.75     14.0    good\n",
       "5.0                       0.400         0.50             4.3      0.046                 29.0                  80.0  0.99020  3.49       0.66     13.6    good\n",
       "5.0                       1.020         0.04             1.4      0.045                 41.0                  85.0  0.99380  3.75       0.48     10.5     bad\n",
       "5.1                       0.585         0.00             1.7      0.044                 14.0                  86.0  0.99264  3.56       0.94     12.9    good\n",
       "5.0                       0.420         0.24             2.0      0.060                 19.0                  50.0  0.99170  3.72       0.74     14.0    good\n",
       "5.0                       0.740         0.00             1.2      0.041                 16.0                  46.0  0.99258  4.01       0.59     12.5    good\n",
       "4.7                       0.600         0.17             2.3      0.058                 17.0                 106.0  0.99320  3.85       0.60     12.9    good\n",
       "4.6                       0.520         0.15             2.1      0.054                  8.0                  65.0  0.99340  3.90       0.56     13.1     bad"
      ]
     },
     "execution_count": 9,
     "metadata": {},
     "output_type": "execute_result"
    }
   ],
   "source": [
    "# first 5 rows\n",
    "wine_df.head()"
   ]
  },
  {
   "cell_type": "code",
   "execution_count": 10,
   "id": "636c220d-d12f-4ea5-ab2b-c9203ef00d49",
   "metadata": {},
   "outputs": [
    {
     "data": {
      "text/plain": [
       "(1599, 12)"
      ]
     },
     "execution_count": 10,
     "metadata": {},
     "output_type": "execute_result"
    }
   ],
   "source": [
    "# wine_df dataset\n",
    "wine_df.shape"
   ]
  },
  {
   "cell_type": "code",
   "execution_count": 11,
   "id": "e5d1fad7-8784-4d7a-be1f-7be1d3991d8f",
   "metadata": {},
   "outputs": [],
   "source": [
    "# Performing sampling to get 80% for trainning and 20% for testing\n",
    "wine_df_sample = wine_df.sample(frac = [0.8, 0.2])"
   ]
  },
  {
   "cell_type": "code",
   "execution_count": 12,
   "id": "a0e6891a-1b7e-4bac-97c8-350ba5f5bde4",
   "metadata": {},
   "outputs": [
    {
     "data": {
      "text/html": [
       "<style type=\"text/css\">\n",
       "\ttable {border:ridge 5px;}\n",
       "\ttable td {border:inset 1px;}\n",
       "\ttable tr#HeaderRow {background-color:grey; color:white;}</style>\n",
       "<html><table>\n",
       "\t<tr id=\"HeaderRow\">\n",
       "\t\t<th>fixed_acidity</th>\n",
       "\t\t<th>volatile_acidity</th>\n",
       "\t\t<th>citric_acid</th>\n",
       "\t\t<th>residual_sugar</th>\n",
       "\t\t<th>chlorides</th>\n",
       "\t\t<th>free_sulfur_dioxide</th>\n",
       "\t\t<th>total_sulfur_dioxide</th>\n",
       "\t\t<th>density</th>\n",
       "\t\t<th>pH</th>\n",
       "\t\t<th>sulphates</th>\n",
       "\t\t<th>alcohol</th>\n",
       "\t\t<th>quality</th>\n",
       "\t\t<th>sampleid</th>\n",
       "\t</tr>\n",
       "\t<tr>\n",
       "\t\t<td>4.9</td>\n",
       "\t\t<td>0.42</td>\n",
       "\t\t<td>0.0</td>\n",
       "\t\t<td>2.1</td>\n",
       "\t\t<td>0.048</td>\n",
       "\t\t<td>16.0</td>\n",
       "\t\t<td>42.0</td>\n",
       "\t\t<td>0.99154</td>\n",
       "\t\t<td>3.71</td>\n",
       "\t\t<td>0.74</td>\n",
       "\t\t<td>14.0</td>\n",
       "\t\t<td>good</td>\n",
       "\t\t<td>1</td>\n",
       "\t</tr>\n",
       "\t<tr>\n",
       "\t\t<td>5.0</td>\n",
       "\t\t<td>1.04</td>\n",
       "\t\t<td>0.24</td>\n",
       "\t\t<td>1.6</td>\n",
       "\t\t<td>0.05</td>\n",
       "\t\t<td>32.0</td>\n",
       "\t\t<td>96.0</td>\n",
       "\t\t<td>0.9934</td>\n",
       "\t\t<td>3.74</td>\n",
       "\t\t<td>0.62</td>\n",
       "\t\t<td>11.5</td>\n",
       "\t\t<td>bad</td>\n",
       "\t\t<td>1</td>\n",
       "\t</tr>\n",
       "\t<tr>\n",
       "\t\t<td>5.0</td>\n",
       "\t\t<td>1.02</td>\n",
       "\t\t<td>0.04</td>\n",
       "\t\t<td>1.4</td>\n",
       "\t\t<td>0.045</td>\n",
       "\t\t<td>41.0</td>\n",
       "\t\t<td>85.0</td>\n",
       "\t\t<td>0.9938</td>\n",
       "\t\t<td>3.75</td>\n",
       "\t\t<td>0.48</td>\n",
       "\t\t<td>10.5</td>\n",
       "\t\t<td>bad</td>\n",
       "\t\t<td>1</td>\n",
       "\t</tr>\n",
       "\t<tr>\n",
       "\t\t<td>5.0</td>\n",
       "\t\t<td>0.38</td>\n",
       "\t\t<td>0.01</td>\n",
       "\t\t<td>1.6</td>\n",
       "\t\t<td>0.048</td>\n",
       "\t\t<td>26.0</td>\n",
       "\t\t<td>60.0</td>\n",
       "\t\t<td>0.99084</td>\n",
       "\t\t<td>3.7</td>\n",
       "\t\t<td>0.75</td>\n",
       "\t\t<td>14.0</td>\n",
       "\t\t<td>good</td>\n",
       "\t\t<td>1</td>\n",
       "\t</tr>\n",
       "\t<tr>\n",
       "\t\t<td>5.0</td>\n",
       "\t\t<td>0.74</td>\n",
       "\t\t<td>0.0</td>\n",
       "\t\t<td>1.2</td>\n",
       "\t\t<td>0.041</td>\n",
       "\t\t<td>16.0</td>\n",
       "\t\t<td>46.0</td>\n",
       "\t\t<td>0.99258</td>\n",
       "\t\t<td>4.01</td>\n",
       "\t\t<td>0.59</td>\n",
       "\t\t<td>12.5</td>\n",
       "\t\t<td>good</td>\n",
       "\t\t<td>1</td>\n",
       "\t</tr>\n",
       "\t<tr>\n",
       "\t\t<td>5.1</td>\n",
       "\t\t<td>0.51</td>\n",
       "\t\t<td>0.18</td>\n",
       "\t\t<td>2.1</td>\n",
       "\t\t<td>0.042</td>\n",
       "\t\t<td>16.0</td>\n",
       "\t\t<td>101.0</td>\n",
       "\t\t<td>0.9924</td>\n",
       "\t\t<td>3.46</td>\n",
       "\t\t<td>0.87</td>\n",
       "\t\t<td>12.9</td>\n",
       "\t\t<td>good</td>\n",
       "\t\t<td>2</td>\n",
       "\t</tr>\n",
       "\t<tr>\n",
       "\t\t<td>5.0</td>\n",
       "\t\t<td>0.42</td>\n",
       "\t\t<td>0.24</td>\n",
       "\t\t<td>2.0</td>\n",
       "\t\t<td>0.06</td>\n",
       "\t\t<td>19.0</td>\n",
       "\t\t<td>50.0</td>\n",
       "\t\t<td>0.9917</td>\n",
       "\t\t<td>3.72</td>\n",
       "\t\t<td>0.74</td>\n",
       "\t\t<td>14.0</td>\n",
       "\t\t<td>good</td>\n",
       "\t\t<td>1</td>\n",
       "\t</tr>\n",
       "\t<tr>\n",
       "\t\t<td>5.0</td>\n",
       "\t\t<td>0.4</td>\n",
       "\t\t<td>0.5</td>\n",
       "\t\t<td>4.3</td>\n",
       "\t\t<td>0.046</td>\n",
       "\t\t<td>29.0</td>\n",
       "\t\t<td>80.0</td>\n",
       "\t\t<td>0.9902</td>\n",
       "\t\t<td>3.49</td>\n",
       "\t\t<td>0.66</td>\n",
       "\t\t<td>13.6</td>\n",
       "\t\t<td>good</td>\n",
       "\t\t<td>1</td>\n",
       "\t</tr>\n",
       "\t<tr>\n",
       "\t\t<td>4.7</td>\n",
       "\t\t<td>0.6</td>\n",
       "\t\t<td>0.17</td>\n",
       "\t\t<td>2.3</td>\n",
       "\t\t<td>0.058</td>\n",
       "\t\t<td>17.0</td>\n",
       "\t\t<td>106.0</td>\n",
       "\t\t<td>0.9932</td>\n",
       "\t\t<td>3.85</td>\n",
       "\t\t<td>0.6</td>\n",
       "\t\t<td>12.9</td>\n",
       "\t\t<td>good</td>\n",
       "\t\t<td>1</td>\n",
       "\t</tr>\n",
       "\t<tr>\n",
       "\t\t<td>4.6</td>\n",
       "\t\t<td>0.52</td>\n",
       "\t\t<td>0.15</td>\n",
       "\t\t<td>2.1</td>\n",
       "\t\t<td>0.054</td>\n",
       "\t\t<td>8.0</td>\n",
       "\t\t<td>65.0</td>\n",
       "\t\t<td>0.9934</td>\n",
       "\t\t<td>3.9</td>\n",
       "\t\t<td>0.56</td>\n",
       "\t\t<td>13.1</td>\n",
       "\t\t<td>bad</td>\n",
       "\t\t<td>2</td>\n",
       "\t</tr>\n",
       "</table></html>"
      ],
      "text/plain": [
       "               volatile_acidity  citric_acid  residual_sugar  chlorides  free_sulfur_dioxide  total_sulfur_dioxide  density    pH  sulphates  alcohol quality  sampleid\n",
       "fixed_acidity                                                                                                                                                          \n",
       "4.9                        0.42         0.00             2.1      0.048                 16.0                  42.0  0.99154  3.71       0.74     14.0    good         1\n",
       "5.0                        1.04         0.24             1.6      0.050                 32.0                  96.0  0.99340  3.74       0.62     11.5     bad         1\n",
       "5.0                        1.02         0.04             1.4      0.045                 41.0                  85.0  0.99380  3.75       0.48     10.5     bad         1\n",
       "5.0                        0.38         0.01             1.6      0.048                 26.0                  60.0  0.99084  3.70       0.75     14.0    good         1\n",
       "5.0                        0.74         0.00             1.2      0.041                 16.0                  46.0  0.99258  4.01       0.59     12.5    good         1\n",
       "5.1                        0.51         0.18             2.1      0.042                 16.0                 101.0  0.99240  3.46       0.87     12.9    good         2\n",
       "5.0                        0.42         0.24             2.0      0.060                 19.0                  50.0  0.99170  3.72       0.74     14.0    good         1\n",
       "5.0                        0.40         0.50             4.3      0.046                 29.0                  80.0  0.99020  3.49       0.66     13.6    good         1\n",
       "4.7                        0.60         0.17             2.3      0.058                 17.0                 106.0  0.99320  3.85       0.60     12.9    good         1\n",
       "4.6                        0.52         0.15             2.1      0.054                  8.0                  65.0  0.99340  3.90       0.56     13.1     bad         2"
      ]
     },
     "execution_count": 12,
     "metadata": {},
     "output_type": "execute_result"
    }
   ],
   "source": [
    "wine_df_sample.head()"
   ]
  },
  {
   "cell_type": "code",
   "execution_count": 13,
   "id": "5e3e5923-18ad-4cf6-b4e5-e87f8854700b",
   "metadata": {},
   "outputs": [],
   "source": [
    "# Fetching train and test data\n",
    "wine_df_train= wine_df_sample[wine_df_sample['sampleid'] == 1].drop('sampleid', axis=1)\n",
    "wine_df_test = wine_df_sample[wine_df_sample['sampleid'] == 2].drop('sampleid', axis=1)"
   ]
  },
  {
   "cell_type": "code",
   "execution_count": 14,
   "id": "83d72a72-3fac-4862-b374-d21ab59be1a6",
   "metadata": {},
   "outputs": [
    {
     "data": {
      "text/plain": [
       "(1279, 12)"
      ]
     },
     "execution_count": 14,
     "metadata": {},
     "output_type": "execute_result"
    }
   ],
   "source": [
    "# train data shape\n",
    "wine_df_train.shape"
   ]
  },
  {
   "cell_type": "code",
   "execution_count": 15,
   "id": "b22be730-8a7a-40f3-8e2a-cabd8d1f427f",
   "metadata": {},
   "outputs": [
    {
     "data": {
      "text/plain": [
       "(320, 12)"
      ]
     },
     "execution_count": 15,
     "metadata": {},
     "output_type": "execute_result"
    }
   ],
   "source": [
    "# test data shape\n",
    "wine_df_test.shape"
   ]
  },
  {
   "cell_type": "code",
   "execution_count": 16,
   "id": "18473df2-be15-4e1e-bc5e-739abacf8b89",
   "metadata": {},
   "outputs": [
    {
     "data": {
      "text/html": [
       "<style type=\"text/css\">\n",
       "\ttable {border:ridge 5px;}\n",
       "\ttable td {border:inset 1px;}\n",
       "\ttable tr#HeaderRow {background-color:grey; color:white;}</style>\n",
       "<html><table>\n",
       "\t<tr id=\"HeaderRow\">\n",
       "\t\t<th>fixed_acidity</th>\n",
       "\t\t<th>volatile_acidity</th>\n",
       "\t\t<th>citric_acid</th>\n",
       "\t\t<th>residual_sugar</th>\n",
       "\t\t<th>chlorides</th>\n",
       "\t\t<th>free_sulfur_dioxide</th>\n",
       "\t\t<th>total_sulfur_dioxide</th>\n",
       "\t\t<th>density</th>\n",
       "\t\t<th>pH</th>\n",
       "\t\t<th>sulphates</th>\n",
       "\t\t<th>alcohol</th>\n",
       "\t\t<th>quality</th>\n",
       "\t</tr>\n",
       "\t<tr>\n",
       "\t\t<td>5.0</td>\n",
       "\t\t<td>1.04</td>\n",
       "\t\t<td>0.24</td>\n",
       "\t\t<td>1.6</td>\n",
       "\t\t<td>0.05</td>\n",
       "\t\t<td>32.0</td>\n",
       "\t\t<td>96.0</td>\n",
       "\t\t<td>0.9934</td>\n",
       "\t\t<td>3.74</td>\n",
       "\t\t<td>0.62</td>\n",
       "\t\t<td>11.5</td>\n",
       "\t\t<td>bad</td>\n",
       "\t</tr>\n",
       "\t<tr>\n",
       "\t\t<td>5.0</td>\n",
       "\t\t<td>0.74</td>\n",
       "\t\t<td>0.0</td>\n",
       "\t\t<td>1.2</td>\n",
       "\t\t<td>0.041</td>\n",
       "\t\t<td>16.0</td>\n",
       "\t\t<td>46.0</td>\n",
       "\t\t<td>0.99258</td>\n",
       "\t\t<td>4.01</td>\n",
       "\t\t<td>0.59</td>\n",
       "\t\t<td>12.5</td>\n",
       "\t\t<td>good</td>\n",
       "\t</tr>\n",
       "\t<tr>\n",
       "\t\t<td>5.0</td>\n",
       "\t\t<td>1.02</td>\n",
       "\t\t<td>0.04</td>\n",
       "\t\t<td>1.4</td>\n",
       "\t\t<td>0.045</td>\n",
       "\t\t<td>41.0</td>\n",
       "\t\t<td>85.0</td>\n",
       "\t\t<td>0.9938</td>\n",
       "\t\t<td>3.75</td>\n",
       "\t\t<td>0.48</td>\n",
       "\t\t<td>10.5</td>\n",
       "\t\t<td>bad</td>\n",
       "\t</tr>\n",
       "\t<tr>\n",
       "\t\t<td>5.0</td>\n",
       "\t\t<td>0.42</td>\n",
       "\t\t<td>0.24</td>\n",
       "\t\t<td>2.0</td>\n",
       "\t\t<td>0.06</td>\n",
       "\t\t<td>19.0</td>\n",
       "\t\t<td>50.0</td>\n",
       "\t\t<td>0.9917</td>\n",
       "\t\t<td>3.72</td>\n",
       "\t\t<td>0.74</td>\n",
       "\t\t<td>14.0</td>\n",
       "\t\t<td>good</td>\n",
       "\t</tr>\n",
       "\t<tr>\n",
       "\t\t<td>5.1</td>\n",
       "\t\t<td>0.585</td>\n",
       "\t\t<td>0.0</td>\n",
       "\t\t<td>1.7</td>\n",
       "\t\t<td>0.044</td>\n",
       "\t\t<td>14.0</td>\n",
       "\t\t<td>86.0</td>\n",
       "\t\t<td>0.99264</td>\n",
       "\t\t<td>3.56</td>\n",
       "\t\t<td>0.94</td>\n",
       "\t\t<td>12.9</td>\n",
       "\t\t<td>good</td>\n",
       "\t</tr>\n",
       "\t<tr>\n",
       "\t\t<td>5.1</td>\n",
       "\t\t<td>0.47</td>\n",
       "\t\t<td>0.02</td>\n",
       "\t\t<td>1.3</td>\n",
       "\t\t<td>0.034</td>\n",
       "\t\t<td>18.0</td>\n",
       "\t\t<td>44.0</td>\n",
       "\t\t<td>0.9921</td>\n",
       "\t\t<td>3.9</td>\n",
       "\t\t<td>0.62</td>\n",
       "\t\t<td>12.8</td>\n",
       "\t\t<td>good</td>\n",
       "\t</tr>\n",
       "\t<tr>\n",
       "\t\t<td>5.0</td>\n",
       "\t\t<td>0.4</td>\n",
       "\t\t<td>0.5</td>\n",
       "\t\t<td>4.3</td>\n",
       "\t\t<td>0.046</td>\n",
       "\t\t<td>29.0</td>\n",
       "\t\t<td>80.0</td>\n",
       "\t\t<td>0.9902</td>\n",
       "\t\t<td>3.49</td>\n",
       "\t\t<td>0.66</td>\n",
       "\t\t<td>13.6</td>\n",
       "\t\t<td>good</td>\n",
       "\t</tr>\n",
       "\t<tr>\n",
       "\t\t<td>5.0</td>\n",
       "\t\t<td>0.38</td>\n",
       "\t\t<td>0.01</td>\n",
       "\t\t<td>1.6</td>\n",
       "\t\t<td>0.048</td>\n",
       "\t\t<td>26.0</td>\n",
       "\t\t<td>60.0</td>\n",
       "\t\t<td>0.99084</td>\n",
       "\t\t<td>3.7</td>\n",
       "\t\t<td>0.75</td>\n",
       "\t\t<td>14.0</td>\n",
       "\t\t<td>good</td>\n",
       "\t</tr>\n",
       "\t<tr>\n",
       "\t\t<td>4.9</td>\n",
       "\t\t<td>0.42</td>\n",
       "\t\t<td>0.0</td>\n",
       "\t\t<td>2.1</td>\n",
       "\t\t<td>0.048</td>\n",
       "\t\t<td>16.0</td>\n",
       "\t\t<td>42.0</td>\n",
       "\t\t<td>0.99154</td>\n",
       "\t\t<td>3.71</td>\n",
       "\t\t<td>0.74</td>\n",
       "\t\t<td>14.0</td>\n",
       "\t\t<td>good</td>\n",
       "\t</tr>\n",
       "\t<tr>\n",
       "\t\t<td>4.7</td>\n",
       "\t\t<td>0.6</td>\n",
       "\t\t<td>0.17</td>\n",
       "\t\t<td>2.3</td>\n",
       "\t\t<td>0.058</td>\n",
       "\t\t<td>17.0</td>\n",
       "\t\t<td>106.0</td>\n",
       "\t\t<td>0.9932</td>\n",
       "\t\t<td>3.85</td>\n",
       "\t\t<td>0.6</td>\n",
       "\t\t<td>12.9</td>\n",
       "\t\t<td>good</td>\n",
       "\t</tr>\n",
       "</table></html>"
      ],
      "text/plain": [
       "               volatile_acidity  citric_acid  residual_sugar  chlorides  free_sulfur_dioxide  total_sulfur_dioxide  density    pH  sulphates  alcohol quality\n",
       "fixed_acidity                                                                                                                                                \n",
       "5.0                       1.040         0.24             1.6      0.050                 32.0                  96.0  0.99340  3.74       0.62     11.5     bad\n",
       "5.0                       0.740         0.00             1.2      0.041                 16.0                  46.0  0.99258  4.01       0.59     12.5    good\n",
       "5.0                       1.020         0.04             1.4      0.045                 41.0                  85.0  0.99380  3.75       0.48     10.5     bad\n",
       "5.0                       0.420         0.24             2.0      0.060                 19.0                  50.0  0.99170  3.72       0.74     14.0    good\n",
       "5.1                       0.585         0.00             1.7      0.044                 14.0                  86.0  0.99264  3.56       0.94     12.9    good\n",
       "5.1                       0.470         0.02             1.3      0.034                 18.0                  44.0  0.99210  3.90       0.62     12.8    good\n",
       "5.0                       0.400         0.50             4.3      0.046                 29.0                  80.0  0.99020  3.49       0.66     13.6    good\n",
       "5.0                       0.380         0.01             1.6      0.048                 26.0                  60.0  0.99084  3.70       0.75     14.0    good\n",
       "4.9                       0.420         0.00             2.1      0.048                 16.0                  42.0  0.99154  3.71       0.74     14.0    good\n",
       "4.7                       0.600         0.17             2.3      0.058                 17.0                 106.0  0.99320  3.85       0.60     12.9    good"
      ]
     },
     "execution_count": 16,
     "metadata": {},
     "output_type": "execute_result"
    }
   ],
   "source": [
    "#train dataset\n",
    "wine_df_train.head()"
   ]
  },
  {
   "cell_type": "code",
   "execution_count": 17,
   "id": "58c9d763-4f19-449e-a35b-676d4d026acc",
   "metadata": {},
   "outputs": [
    {
     "data": {
      "text/html": [
       "<style type=\"text/css\">\n",
       "\ttable {border:ridge 5px;}\n",
       "\ttable td {border:inset 1px;}\n",
       "\ttable tr#HeaderRow {background-color:grey; color:white;}</style>\n",
       "<html><table>\n",
       "\t<tr id=\"HeaderRow\">\n",
       "\t\t<th>fixed_acidity</th>\n",
       "\t\t<th>volatile_acidity</th>\n",
       "\t\t<th>citric_acid</th>\n",
       "\t\t<th>residual_sugar</th>\n",
       "\t\t<th>chlorides</th>\n",
       "\t\t<th>free_sulfur_dioxide</th>\n",
       "\t\t<th>total_sulfur_dioxide</th>\n",
       "\t\t<th>density</th>\n",
       "\t\t<th>pH</th>\n",
       "\t\t<th>sulphates</th>\n",
       "\t\t<th>alcohol</th>\n",
       "\t\t<th>quality</th>\n",
       "\t</tr>\n",
       "\t<tr>\n",
       "\t\t<td>5.1</td>\n",
       "\t\t<td>0.51</td>\n",
       "\t\t<td>0.18</td>\n",
       "\t\t<td>2.1</td>\n",
       "\t\t<td>0.042</td>\n",
       "\t\t<td>16.0</td>\n",
       "\t\t<td>101.0</td>\n",
       "\t\t<td>0.9924</td>\n",
       "\t\t<td>3.46</td>\n",
       "\t\t<td>0.87</td>\n",
       "\t\t<td>12.9</td>\n",
       "\t\t<td>good</td>\n",
       "\t</tr>\n",
       "\t<tr>\n",
       "\t\t<td>5.3</td>\n",
       "\t\t<td>0.47</td>\n",
       "\t\t<td>0.11</td>\n",
       "\t\t<td>2.2</td>\n",
       "\t\t<td>0.048</td>\n",
       "\t\t<td>16.0</td>\n",
       "\t\t<td>89.0</td>\n",
       "\t\t<td>0.99182</td>\n",
       "\t\t<td>3.54</td>\n",
       "\t\t<td>0.88</td>\n",
       "\t\t<td>13.6</td>\n",
       "\t\t<td>good</td>\n",
       "\t</tr>\n",
       "\t<tr>\n",
       "\t\t<td>5.4</td>\n",
       "\t\t<td>0.42</td>\n",
       "\t\t<td>0.27</td>\n",
       "\t\t<td>2.0</td>\n",
       "\t\t<td>0.092</td>\n",
       "\t\t<td>23.0</td>\n",
       "\t\t<td>55.0</td>\n",
       "\t\t<td>0.99471</td>\n",
       "\t\t<td>3.78</td>\n",
       "\t\t<td>0.64</td>\n",
       "\t\t<td>12.3</td>\n",
       "\t\t<td>good</td>\n",
       "\t</tr>\n",
       "\t<tr>\n",
       "\t\t<td>5.4</td>\n",
       "\t\t<td>0.74</td>\n",
       "\t\t<td>0.09</td>\n",
       "\t\t<td>1.7</td>\n",
       "\t\t<td>0.089</td>\n",
       "\t\t<td>16.0</td>\n",
       "\t\t<td>26.0</td>\n",
       "\t\t<td>0.99402</td>\n",
       "\t\t<td>3.67</td>\n",
       "\t\t<td>0.56</td>\n",
       "\t\t<td>11.6</td>\n",
       "\t\t<td>good</td>\n",
       "\t</tr>\n",
       "\t<tr>\n",
       "\t\t<td>5.6</td>\n",
       "\t\t<td>0.915</td>\n",
       "\t\t<td>0.0</td>\n",
       "\t\t<td>2.1</td>\n",
       "\t\t<td>0.041</td>\n",
       "\t\t<td>17.0</td>\n",
       "\t\t<td>78.0</td>\n",
       "\t\t<td>0.99346</td>\n",
       "\t\t<td>3.68</td>\n",
       "\t\t<td>0.73</td>\n",
       "\t\t<td>11.4</td>\n",
       "\t\t<td>bad</td>\n",
       "\t</tr>\n",
       "\t<tr>\n",
       "\t\t<td>5.6</td>\n",
       "\t\t<td>0.66</td>\n",
       "\t\t<td>0.0</td>\n",
       "\t\t<td>2.5</td>\n",
       "\t\t<td>0.066</td>\n",
       "\t\t<td>7.0</td>\n",
       "\t\t<td>15.0</td>\n",
       "\t\t<td>0.99256</td>\n",
       "\t\t<td>3.52</td>\n",
       "\t\t<td>0.58</td>\n",
       "\t\t<td>12.9</td>\n",
       "\t\t<td>bad</td>\n",
       "\t</tr>\n",
       "\t<tr>\n",
       "\t\t<td>5.6</td>\n",
       "\t\t<td>0.85</td>\n",
       "\t\t<td>0.05</td>\n",
       "\t\t<td>1.4</td>\n",
       "\t\t<td>0.045</td>\n",
       "\t\t<td>12.0</td>\n",
       "\t\t<td>88.0</td>\n",
       "\t\t<td>0.9924</td>\n",
       "\t\t<td>3.56</td>\n",
       "\t\t<td>0.82</td>\n",
       "\t\t<td>12.9</td>\n",
       "\t\t<td>good</td>\n",
       "\t</tr>\n",
       "\t<tr>\n",
       "\t\t<td>5.3</td>\n",
       "\t\t<td>0.57</td>\n",
       "\t\t<td>0.01</td>\n",
       "\t\t<td>1.7</td>\n",
       "\t\t<td>0.054</td>\n",
       "\t\t<td>5.0</td>\n",
       "\t\t<td>27.0</td>\n",
       "\t\t<td>0.9934</td>\n",
       "\t\t<td>3.57</td>\n",
       "\t\t<td>0.84</td>\n",
       "\t\t<td>12.5</td>\n",
       "\t\t<td>good</td>\n",
       "\t</tr>\n",
       "\t<tr>\n",
       "\t\t<td>5.1</td>\n",
       "\t\t<td>0.42</td>\n",
       "\t\t<td>0.0</td>\n",
       "\t\t<td>1.8</td>\n",
       "\t\t<td>0.044</td>\n",
       "\t\t<td>18.0</td>\n",
       "\t\t<td>88.0</td>\n",
       "\t\t<td>0.99157</td>\n",
       "\t\t<td>3.68</td>\n",
       "\t\t<td>0.73</td>\n",
       "\t\t<td>13.6</td>\n",
       "\t\t<td>good</td>\n",
       "\t</tr>\n",
       "\t<tr>\n",
       "\t\t<td>4.6</td>\n",
       "\t\t<td>0.52</td>\n",
       "\t\t<td>0.15</td>\n",
       "\t\t<td>2.1</td>\n",
       "\t\t<td>0.054</td>\n",
       "\t\t<td>8.0</td>\n",
       "\t\t<td>65.0</td>\n",
       "\t\t<td>0.9934</td>\n",
       "\t\t<td>3.9</td>\n",
       "\t\t<td>0.56</td>\n",
       "\t\t<td>13.1</td>\n",
       "\t\t<td>bad</td>\n",
       "\t</tr>\n",
       "</table></html>"
      ],
      "text/plain": [
       "               volatile_acidity  citric_acid  residual_sugar  chlorides  free_sulfur_dioxide  total_sulfur_dioxide  density    pH  sulphates  alcohol quality\n",
       "fixed_acidity                                                                                                                                                \n",
       "5.1                       0.510         0.18             2.1      0.042                 16.0                 101.0  0.99240  3.46       0.87     12.9    good\n",
       "5.3                       0.470         0.11             2.2      0.048                 16.0                  89.0  0.99182  3.54       0.88     13.6    good\n",
       "5.4                       0.420         0.27             2.0      0.092                 23.0                  55.0  0.99471  3.78       0.64     12.3    good\n",
       "5.4                       0.740         0.09             1.7      0.089                 16.0                  26.0  0.99402  3.67       0.56     11.6    good\n",
       "5.6                       0.915         0.00             2.1      0.041                 17.0                  78.0  0.99346  3.68       0.73     11.4     bad\n",
       "5.6                       0.660         0.00             2.5      0.066                  7.0                  15.0  0.99256  3.52       0.58     12.9     bad\n",
       "5.6                       0.850         0.05             1.4      0.045                 12.0                  88.0  0.99240  3.56       0.82     12.9    good\n",
       "5.3                       0.570         0.01             1.7      0.054                  5.0                  27.0  0.99340  3.57       0.84     12.5    good\n",
       "5.1                       0.420         0.00             1.8      0.044                 18.0                  88.0  0.99157  3.68       0.73     13.6    good\n",
       "4.6                       0.520         0.15             2.1      0.054                  8.0                  65.0  0.99340  3.90       0.56     13.1     bad"
      ]
     },
     "execution_count": 17,
     "metadata": {},
     "output_type": "execute_result"
    }
   ],
   "source": [
    "# test dataset\n",
    "wine_df_test.head()"
   ]
  },
  {
   "cell_type": "markdown",
   "id": "856ea871-93d8-4ea2-b524-1acb23bd7eb5",
   "metadata": {},
   "source": [
    "## <b><span style='color:#F1A424'>| 2.</span> Fitting AutoML </b>"
   ]
  },
  {
   "cell_type": "code",
   "execution_count": 18,
   "id": "f3650aa5-a408-4227-a88d-79c0f3d36d3c",
   "metadata": {},
   "outputs": [],
   "source": [
    "# Creating AutoML instance\n",
    "# Including 'svm' from model training.\n",
    "# Keeping early stopping metrics threshold to 0.6 for 'MICRO-RECALL', early stopping timer threshold to 300 sec\n",
    "# Using max_models 4\n",
    "# and verbose level 2 for detailed loggging\n",
    "\n",
    "aml = AutoML(task_type=\"Classification\",\n",
    "             include='svm',\n",
    "             stopping_metric='MICRO-RECALL', \n",
    "             stopping_tolerance=0.60,\n",
    "             max_runtime_secs=300,\n",
    "             max_models=4,\n",
    "             verbose=2)"
   ]
  },
  {
   "cell_type": "code",
   "execution_count": 19,
   "id": "a1b7a771-1bfa-40c9-8ad0-c377d320c137",
   "metadata": {
    "tags": []
   },
   "outputs": [
    {
     "data": {
      "text/html": [
       "\n",
       "            <style>\n",
       "                .custom-div {\n",
       "                    background-color: lightgray;\n",
       "                    color: #000000;\n",
       "                    padding: 10px;\n",
       "                    border-radius: 8px;\n",
       "                    box-shadow: 0 3px 4px rgba(0, 0, 0, 0.2);\n",
       "                    margin-bottom: 10px;\n",
       "                    text-align: center;\n",
       "                }\n",
       "            </style>\n",
       "        <br><div class=\"custom-div\"><h3><span style=\"color: green;\"></span>1. Feature Exploration -> 2. Feature Engineering -> 3. Data Preparation -> 4. Model Training & Evaluation<center></h3></center></div>"
      ],
      "text/plain": [
       "<IPython.core.display.HTML object>"
      ]
     },
     "metadata": {},
     "output_type": "display_data"
    },
    {
     "name": "stdout",
     "output_type": "stream",
     "text": [
      "Feature Exploration started ...\n",
      "\n",
      "Data Overview:\n",
      "Total Rows in the data: 1279\n",
      "Total Columns in the data: 12\n",
      "\n",
      "Column Summary:\n"
     ]
    },
    {
     "data": {
      "text/html": [
       "<style type=\"text/css\">\n",
       "\ttable {border:ridge 5px;}\n",
       "\ttable td {border:inset 1px;}\n",
       "\ttable tr#HeaderRow {background-color:grey; color:white;}</style>\n",
       "<html><table>\n",
       "\t<tr id=\"HeaderRow\">\n",
       "\t\t<th>ColumnName</th>\n",
       "\t\t<th>Datatype</th>\n",
       "\t\t<th>NonNullCount</th>\n",
       "\t\t<th>NullCount</th>\n",
       "\t\t<th>BlankCount</th>\n",
       "\t\t<th>ZeroCount</th>\n",
       "\t\t<th>PositiveCount</th>\n",
       "\t\t<th>NegativeCount</th>\n",
       "\t\t<th>NullPercentage</th>\n",
       "\t\t<th>NonNullPercentage</th>\n",
       "\t</tr>\n",
       "\t<tr>\n",
       "\t\t<td>volatile_acidity</td>\n",
       "\t\t<td>FLOAT</td>\n",
       "\t\t<td>1279</td>\n",
       "\t\t<td>0</td>\n",
       "\t\t<td>None</td>\n",
       "\t\t<td>0</td>\n",
       "\t\t<td>1279</td>\n",
       "\t\t<td>0</td>\n",
       "\t\t<td>0.0</td>\n",
       "\t\t<td>100.0</td>\n",
       "\t</tr>\n",
       "\t<tr>\n",
       "\t\t<td>free_sulfur_dioxide</td>\n",
       "\t\t<td>FLOAT</td>\n",
       "\t\t<td>1279</td>\n",
       "\t\t<td>0</td>\n",
       "\t\t<td>None</td>\n",
       "\t\t<td>0</td>\n",
       "\t\t<td>1279</td>\n",
       "\t\t<td>0</td>\n",
       "\t\t<td>0.0</td>\n",
       "\t\t<td>100.0</td>\n",
       "\t</tr>\n",
       "\t<tr>\n",
       "\t\t<td>pH</td>\n",
       "\t\t<td>FLOAT</td>\n",
       "\t\t<td>1279</td>\n",
       "\t\t<td>0</td>\n",
       "\t\t<td>None</td>\n",
       "\t\t<td>0</td>\n",
       "\t\t<td>1279</td>\n",
       "\t\t<td>0</td>\n",
       "\t\t<td>0.0</td>\n",
       "\t\t<td>100.0</td>\n",
       "\t</tr>\n",
       "\t<tr>\n",
       "\t\t<td>total_sulfur_dioxide</td>\n",
       "\t\t<td>FLOAT</td>\n",
       "\t\t<td>1279</td>\n",
       "\t\t<td>0</td>\n",
       "\t\t<td>None</td>\n",
       "\t\t<td>0</td>\n",
       "\t\t<td>1279</td>\n",
       "\t\t<td>0</td>\n",
       "\t\t<td>0.0</td>\n",
       "\t\t<td>100.0</td>\n",
       "\t</tr>\n",
       "\t<tr>\n",
       "\t\t<td>fixed_acidity</td>\n",
       "\t\t<td>FLOAT</td>\n",
       "\t\t<td>1279</td>\n",
       "\t\t<td>0</td>\n",
       "\t\t<td>None</td>\n",
       "\t\t<td>0</td>\n",
       "\t\t<td>1279</td>\n",
       "\t\t<td>0</td>\n",
       "\t\t<td>0.0</td>\n",
       "\t\t<td>100.0</td>\n",
       "\t</tr>\n",
       "\t<tr>\n",
       "\t\t<td>alcohol</td>\n",
       "\t\t<td>FLOAT</td>\n",
       "\t\t<td>1279</td>\n",
       "\t\t<td>0</td>\n",
       "\t\t<td>None</td>\n",
       "\t\t<td>0</td>\n",
       "\t\t<td>1279</td>\n",
       "\t\t<td>0</td>\n",
       "\t\t<td>0.0</td>\n",
       "\t\t<td>100.0</td>\n",
       "\t</tr>\n",
       "\t<tr>\n",
       "\t\t<td>chlorides</td>\n",
       "\t\t<td>FLOAT</td>\n",
       "\t\t<td>1279</td>\n",
       "\t\t<td>0</td>\n",
       "\t\t<td>None</td>\n",
       "\t\t<td>0</td>\n",
       "\t\t<td>1279</td>\n",
       "\t\t<td>0</td>\n",
       "\t\t<td>0.0</td>\n",
       "\t\t<td>100.0</td>\n",
       "\t</tr>\n",
       "\t<tr>\n",
       "\t\t<td>density</td>\n",
       "\t\t<td>FLOAT</td>\n",
       "\t\t<td>1279</td>\n",
       "\t\t<td>0</td>\n",
       "\t\t<td>None</td>\n",
       "\t\t<td>0</td>\n",
       "\t\t<td>1279</td>\n",
       "\t\t<td>0</td>\n",
       "\t\t<td>0.0</td>\n",
       "\t\t<td>100.0</td>\n",
       "\t</tr>\n",
       "\t<tr>\n",
       "\t\t<td>residual_sugar</td>\n",
       "\t\t<td>FLOAT</td>\n",
       "\t\t<td>1279</td>\n",
       "\t\t<td>0</td>\n",
       "\t\t<td>None</td>\n",
       "\t\t<td>0</td>\n",
       "\t\t<td>1279</td>\n",
       "\t\t<td>0</td>\n",
       "\t\t<td>0.0</td>\n",
       "\t\t<td>100.0</td>\n",
       "\t</tr>\n",
       "\t<tr>\n",
       "\t\t<td>citric_acid</td>\n",
       "\t\t<td>FLOAT</td>\n",
       "\t\t<td>1279</td>\n",
       "\t\t<td>0</td>\n",
       "\t\t<td>None</td>\n",
       "\t\t<td>112</td>\n",
       "\t\t<td>1167</td>\n",
       "\t\t<td>0</td>\n",
       "\t\t<td>0.0</td>\n",
       "\t\t<td>100.0</td>\n",
       "\t</tr>\n",
       "\t<tr>\n",
       "\t\t<td>quality</td>\n",
       "\t\t<td>VARCHAR(20) CHARACTER SET LATIN</td>\n",
       "\t\t<td>1279</td>\n",
       "\t\t<td>0</td>\n",
       "\t\t<td>0</td>\n",
       "\t\t<td>None</td>\n",
       "\t\t<td>None</td>\n",
       "\t\t<td>None</td>\n",
       "\t\t<td>0.0</td>\n",
       "\t\t<td>100.0</td>\n",
       "\t</tr>\n",
       "\t<tr>\n",
       "\t\t<td>sulphates</td>\n",
       "\t\t<td>FLOAT</td>\n",
       "\t\t<td>1279</td>\n",
       "\t\t<td>0</td>\n",
       "\t\t<td>None</td>\n",
       "\t\t<td>0</td>\n",
       "\t\t<td>1279</td>\n",
       "\t\t<td>0</td>\n",
       "\t\t<td>0.0</td>\n",
       "\t\t<td>100.0</td>\n",
       "\t</tr>\n",
       "</table></html>"
      ],
      "text/plain": [
       "              ColumnName                         Datatype  NonNullCount  NullCount  BlankCount  ZeroCount  PositiveCount  NegativeCount  NullPercentage  NonNullPercentage\n",
       "0       volatile_acidity                            FLOAT          1279          0         NaN        0.0         1279.0            0.0             0.0              100.0\n",
       "1    free_sulfur_dioxide                            FLOAT          1279          0         NaN        0.0         1279.0            0.0             0.0              100.0\n",
       "2                     pH                            FLOAT          1279          0         NaN        0.0         1279.0            0.0             0.0              100.0\n",
       "3   total_sulfur_dioxide                            FLOAT          1279          0         NaN        0.0         1279.0            0.0             0.0              100.0\n",
       "4          fixed_acidity                            FLOAT          1279          0         NaN        0.0         1279.0            0.0             0.0              100.0\n",
       "5                alcohol                            FLOAT          1279          0         NaN        0.0         1279.0            0.0             0.0              100.0\n",
       "6              chlorides                            FLOAT          1279          0         NaN        0.0         1279.0            0.0             0.0              100.0\n",
       "7                density                            FLOAT          1279          0         NaN        0.0         1279.0            0.0             0.0              100.0\n",
       "8         residual_sugar                            FLOAT          1279          0         NaN        0.0         1279.0            0.0             0.0              100.0\n",
       "9            citric_acid                            FLOAT          1279          0         NaN      112.0         1167.0            0.0             0.0              100.0\n",
       "10               quality  VARCHAR(20) CHARACTER SET LATIN          1279          0         0.0        NaN            NaN            NaN             0.0              100.0\n",
       "11             sulphates                            FLOAT          1279          0         NaN        0.0         1279.0            0.0             0.0              100.0"
      ]
     },
     "metadata": {},
     "output_type": "display_data"
    },
    {
     "name": "stdout",
     "output_type": "stream",
     "text": [
      "\n",
      "Statistics of Data:\n"
     ]
    },
    {
     "data": {
      "text/html": [
       "<style type=\"text/css\">\n",
       "\ttable {border:ridge 5px;}\n",
       "\ttable td {border:inset 1px;}\n",
       "\ttable tr#HeaderRow {background-color:grey; color:white;}</style>\n",
       "<html><table>\n",
       "\t<tr id=\"HeaderRow\">\n",
       "\t\t<th>func</th>\n",
       "\t\t<th>fixed_acidity</th>\n",
       "\t\t<th>volatile_acidity</th>\n",
       "\t\t<th>citric_acid</th>\n",
       "\t\t<th>residual_sugar</th>\n",
       "\t\t<th>chlorides</th>\n",
       "\t\t<th>free_sulfur_dioxide</th>\n",
       "\t\t<th>total_sulfur_dioxide</th>\n",
       "\t\t<th>density</th>\n",
       "\t\t<th>pH</th>\n",
       "\t\t<th>sulphates</th>\n",
       "\t\t<th>alcohol</th>\n",
       "\t</tr>\n",
       "\t<tr>\n",
       "\t\t<td>50%</td>\n",
       "\t\t<td>7.9</td>\n",
       "\t\t<td>0.52</td>\n",
       "\t\t<td>0.25</td>\n",
       "\t\t<td>2.2</td>\n",
       "\t\t<td>0.079</td>\n",
       "\t\t<td>13</td>\n",
       "\t\t<td>37</td>\n",
       "\t\t<td>0.997</td>\n",
       "\t\t<td>3.31</td>\n",
       "\t\t<td>0.62</td>\n",
       "\t\t<td>10.1</td>\n",
       "\t</tr>\n",
       "\t<tr>\n",
       "\t\t<td>count</td>\n",
       "\t\t<td>1279</td>\n",
       "\t\t<td>1279</td>\n",
       "\t\t<td>1279</td>\n",
       "\t\t<td>1279</td>\n",
       "\t\t<td>1279</td>\n",
       "\t\t<td>1279</td>\n",
       "\t\t<td>1279</td>\n",
       "\t\t<td>1279</td>\n",
       "\t\t<td>1279</td>\n",
       "\t\t<td>1279</td>\n",
       "\t\t<td>1279</td>\n",
       "\t</tr>\n",
       "\t<tr>\n",
       "\t\t<td>mean</td>\n",
       "\t\t<td>8.311</td>\n",
       "\t\t<td>0.527</td>\n",
       "\t\t<td>0.271</td>\n",
       "\t\t<td>2.547</td>\n",
       "\t\t<td>0.087</td>\n",
       "\t\t<td>15.912</td>\n",
       "\t\t<td>46.497</td>\n",
       "\t\t<td>0.997</td>\n",
       "\t\t<td>3.312</td>\n",
       "\t\t<td>0.66</td>\n",
       "\t\t<td>10.417</td>\n",
       "\t</tr>\n",
       "\t<tr>\n",
       "\t\t<td>min</td>\n",
       "\t\t<td>4.7</td>\n",
       "\t\t<td>0.12</td>\n",
       "\t\t<td>0</td>\n",
       "\t\t<td>0.9</td>\n",
       "\t\t<td>0.012</td>\n",
       "\t\t<td>1</td>\n",
       "\t\t<td>6</td>\n",
       "\t\t<td>0.99</td>\n",
       "\t\t<td>2.74</td>\n",
       "\t\t<td>0.33</td>\n",
       "\t\t<td>8.4</td>\n",
       "\t</tr>\n",
       "\t<tr>\n",
       "\t\t<td>max</td>\n",
       "\t\t<td>15.9</td>\n",
       "\t\t<td>1.185</td>\n",
       "\t\t<td>1</td>\n",
       "\t\t<td>15.4</td>\n",
       "\t\t<td>0.611</td>\n",
       "\t\t<td>72</td>\n",
       "\t\t<td>289</td>\n",
       "\t\t<td>1.004</td>\n",
       "\t\t<td>4.01</td>\n",
       "\t\t<td>2</td>\n",
       "\t\t<td>14.9</td>\n",
       "\t</tr>\n",
       "\t<tr>\n",
       "\t\t<td>75%</td>\n",
       "\t\t<td>9.2</td>\n",
       "\t\t<td>0.64</td>\n",
       "\t\t<td>0.43</td>\n",
       "\t\t<td>2.6</td>\n",
       "\t\t<td>0.09</td>\n",
       "\t\t<td>21</td>\n",
       "\t\t<td>62</td>\n",
       "\t\t<td>0.998</td>\n",
       "\t\t<td>3.4</td>\n",
       "\t\t<td>0.73</td>\n",
       "\t\t<td>11.1</td>\n",
       "\t</tr>\n",
       "\t<tr>\n",
       "\t\t<td>25%</td>\n",
       "\t\t<td>7.1</td>\n",
       "\t\t<td>0.39</td>\n",
       "\t\t<td>0.09</td>\n",
       "\t\t<td>1.9</td>\n",
       "\t\t<td>0.07</td>\n",
       "\t\t<td>7</td>\n",
       "\t\t<td>22</td>\n",
       "\t\t<td>0.996</td>\n",
       "\t\t<td>3.21</td>\n",
       "\t\t<td>0.55</td>\n",
       "\t\t<td>9.5</td>\n",
       "\t</tr>\n",
       "\t<tr>\n",
       "\t\t<td>std</td>\n",
       "\t\t<td>1.73</td>\n",
       "\t\t<td>0.174</td>\n",
       "\t\t<td>0.196</td>\n",
       "\t\t<td>1.411</td>\n",
       "\t\t<td>0.047</td>\n",
       "\t\t<td>10.65</td>\n",
       "\t\t<td>32.787</td>\n",
       "\t\t<td>0.002</td>\n",
       "\t\t<td>0.155</td>\n",
       "\t\t<td>0.176</td>\n",
       "\t\t<td>1.074</td>\n",
       "\t</tr>\n",
       "</table></html>"
      ],
      "text/plain": [
       "       fixed_acidity  volatile_acidity  citric_acid  residual_sugar  chlorides  free_sulfur_dioxide  total_sulfur_dioxide   density        pH  sulphates   alcohol\n",
       "func                                                                                                                                                              \n",
       "50%            7.900             0.520        0.250           2.200      0.079               13.000                37.000     0.997     3.310      0.620    10.100\n",
       "count       1279.000          1279.000     1279.000        1279.000   1279.000             1279.000              1279.000  1279.000  1279.000   1279.000  1279.000\n",
       "mean           8.311             0.527        0.271           2.547      0.087               15.912                46.497     0.997     3.312      0.660    10.417\n",
       "min            4.700             0.120        0.000           0.900      0.012                1.000                 6.000     0.990     2.740      0.330     8.400\n",
       "max           15.900             1.185        1.000          15.400      0.611               72.000               289.000     1.004     4.010      2.000    14.900\n",
       "75%            9.200             0.640        0.430           2.600      0.090               21.000                62.000     0.998     3.400      0.730    11.100\n",
       "25%            7.100             0.390        0.090           1.900      0.070                7.000                22.000     0.996     3.210      0.550     9.500\n",
       "std            1.730             0.174        0.196           1.411      0.047               10.650                32.787     0.002     0.155      0.176     1.074"
      ]
     },
     "metadata": {},
     "output_type": "display_data"
    },
    {
     "name": "stdout",
     "output_type": "stream",
     "text": [
      "\n",
      "Categorical Columns with their Distinct values:\n",
      "ColumnName                DistinctValueCount\n",
      "quality                   2         \n",
      "\n",
      "No Futile columns found.\n",
      "\n",
      "Target Column Distribution:\n"
     ]
    },
    {
     "data": {
      "image/png": "[encoded data removed]",
      "text/plain": [
       "<Figure size 600x600 with 1 Axes>"
      ]
     },
     "metadata": {},
     "output_type": "display_data"
    },
    {
     "name": "stdout",
     "output_type": "stream",
     "text": [
      "Columns with outlier percentage :-                                                                                                                                                                                                                                                                                                                                                                                                                                                                                  \n",
      "             ColumnName  OutlierPercentage\n",
      "0   free_sulfur_dioxide           2.111024\n",
      "1             chlorides           6.489445\n",
      "2               density           2.736513\n",
      "3  total_sulfur_dioxide           3.440188\n",
      "4               alcohol           0.781861\n",
      "5             sulphates           3.909304\n",
      "6        residual_sugar          10.164191\n",
      "7         fixed_acidity           2.658327\n",
      "8                    pH           2.267396\n",
      "9           citric_acid           0.078186\n",
      "                                                                                        \r"
     ]
    },
    {
     "data": {
      "text/html": [
       "\n",
       "            <style>\n",
       "                .custom-div {\n",
       "                    background-color: lightgray;\n",
       "                    color: #000000;\n",
       "                    padding: 10px;\n",
       "                    border-radius: 8px;\n",
       "                    box-shadow: 0 3px 4px rgba(0 -  0 -  0 -  0.2);\n",
       "                    margin-bottom: 10px;\n",
       "                    text-align: center;\n",
       "                }\n",
       "            </style>\n",
       "        <br><div class=\"custom-div\"><h3><span style=\"color: green;\">1. Feature Exploration -></span> 2. Feature Engineering -> 3. Data Preparation -> 4. Model Training & Evaluation<center></h3></center></div>"
      ],
      "text/plain": [
       "<IPython.core.display.HTML object>"
      ]
     },
     "metadata": {},
     "output_type": "display_data"
    },
    {
     "name": "stdout",
     "output_type": "stream",
     "text": [
      "                                                                                        \r"
     ]
    },
    {
     "data": {
      "text/html": [
       "Feature Engineering started ..."
      ],
      "text/plain": [
       "<IPython.core.display.HTML object>"
      ]
     },
     "metadata": {},
     "output_type": "display_data"
    },
    {
     "name": "stdout",
     "output_type": "stream",
     "text": [
      "                                                                                        \r"
     ]
    },
    {
     "data": {
      "text/html": [
       "\n",
       "Handling duplicate records present in dataset ..."
      ],
      "text/plain": [
       "<IPython.core.display.HTML object>"
      ]
     },
     "metadata": {},
     "output_type": "display_data"
    },
    {
     "name": "stdout",
     "output_type": "stream",
     "text": [
      "                                                                                        \r"
     ]
    },
    {
     "data": {
      "text/html": [
       "Updated dataset sample after removing 169 duplicate records:"
      ],
      "text/plain": [
       "<IPython.core.display.HTML object>"
      ]
     },
     "metadata": {},
     "output_type": "display_data"
    },
    {
     "data": {
      "text/html": [
       "<style type=\"text/css\">\n",
       "\ttable {border:ridge 5px;}\n",
       "\ttable td {border:inset 1px;}\n",
       "\ttable tr#HeaderRow {background-color:grey; color:white;}</style>\n",
       "<html><table>\n",
       "\t<tr id=\"HeaderRow\">\n",
       "\t\t<th>fixed_acidity</th>\n",
       "\t\t<th>volatile_acidity</th>\n",
       "\t\t<th>citric_acid</th>\n",
       "\t\t<th>residual_sugar</th>\n",
       "\t\t<th>chlorides</th>\n",
       "\t\t<th>free_sulfur_dioxide</th>\n",
       "\t\t<th>total_sulfur_dioxide</th>\n",
       "\t\t<th>density</th>\n",
       "\t\t<th>pH</th>\n",
       "\t\t<th>sulphates</th>\n",
       "\t\t<th>alcohol</th>\n",
       "\t\t<th>quality</th>\n",
       "\t</tr>\n",
       "\t<tr>\n",
       "\t\t<td>10.5</td>\n",
       "\t\t<td>0.24</td>\n",
       "\t\t<td>0.47</td>\n",
       "\t\t<td>2.1</td>\n",
       "\t\t<td>0.066</td>\n",
       "\t\t<td>6.0</td>\n",
       "\t\t<td>24.0</td>\n",
       "\t\t<td>0.9978</td>\n",
       "\t\t<td>3.15</td>\n",
       "\t\t<td>0.9</td>\n",
       "\t\t<td>11.0</td>\n",
       "\t\t<td>good</td>\n",
       "\t</tr>\n",
       "\t<tr>\n",
       "\t\t<td>9.0</td>\n",
       "\t\t<td>0.66</td>\n",
       "\t\t<td>0.17</td>\n",
       "\t\t<td>3.0</td>\n",
       "\t\t<td>0.077</td>\n",
       "\t\t<td>5.0</td>\n",
       "\t\t<td>13.0</td>\n",
       "\t\t<td>0.9976</td>\n",
       "\t\t<td>3.29</td>\n",
       "\t\t<td>0.55</td>\n",
       "\t\t<td>10.4</td>\n",
       "\t\t<td>bad</td>\n",
       "\t</tr>\n",
       "\t<tr>\n",
       "\t\t<td>9.0</td>\n",
       "\t\t<td>0.46</td>\n",
       "\t\t<td>0.31</td>\n",
       "\t\t<td>2.8</td>\n",
       "\t\t<td>0.093</td>\n",
       "\t\t<td>19.0</td>\n",
       "\t\t<td>98.0</td>\n",
       "\t\t<td>0.99815</td>\n",
       "\t\t<td>3.32</td>\n",
       "\t\t<td>0.63</td>\n",
       "\t\t<td>9.5</td>\n",
       "\t\t<td>good</td>\n",
       "\t</tr>\n",
       "\t<tr>\n",
       "\t\t<td>8.4</td>\n",
       "\t\t<td>0.29</td>\n",
       "\t\t<td>0.4</td>\n",
       "\t\t<td>1.7</td>\n",
       "\t\t<td>0.067</td>\n",
       "\t\t<td>8.0</td>\n",
       "\t\t<td>20.0</td>\n",
       "\t\t<td>0.99603</td>\n",
       "\t\t<td>3.39</td>\n",
       "\t\t<td>0.6</td>\n",
       "\t\t<td>10.5</td>\n",
       "\t\t<td>bad</td>\n",
       "\t</tr>\n",
       "\t<tr>\n",
       "\t\t<td>8.2</td>\n",
       "\t\t<td>0.885</td>\n",
       "\t\t<td>0.2</td>\n",
       "\t\t<td>1.4</td>\n",
       "\t\t<td>0.086</td>\n",
       "\t\t<td>7.0</td>\n",
       "\t\t<td>31.0</td>\n",
       "\t\t<td>0.9946</td>\n",
       "\t\t<td>3.11</td>\n",
       "\t\t<td>0.46</td>\n",
       "\t\t<td>10.0</td>\n",
       "\t\t<td>bad</td>\n",
       "\t</tr>\n",
       "\t<tr>\n",
       "\t\t<td>8.2</td>\n",
       "\t\t<td>0.35</td>\n",
       "\t\t<td>0.33</td>\n",
       "\t\t<td>2.4</td>\n",
       "\t\t<td>0.076</td>\n",
       "\t\t<td>11.0</td>\n",
       "\t\t<td>47.0</td>\n",
       "\t\t<td>0.99599</td>\n",
       "\t\t<td>3.27</td>\n",
       "\t\t<td>0.81</td>\n",
       "\t\t<td>11.0</td>\n",
       "\t\t<td>good</td>\n",
       "\t</tr>\n",
       "\t<tr>\n",
       "\t\t<td>7.4</td>\n",
       "\t\t<td>0.36</td>\n",
       "\t\t<td>0.29</td>\n",
       "\t\t<td>2.6</td>\n",
       "\t\t<td>0.087</td>\n",
       "\t\t<td>26.0</td>\n",
       "\t\t<td>72.0</td>\n",
       "\t\t<td>0.99645</td>\n",
       "\t\t<td>3.39</td>\n",
       "\t\t<td>0.68</td>\n",
       "\t\t<td>11.0</td>\n",
       "\t\t<td>bad</td>\n",
       "\t</tr>\n",
       "\t<tr>\n",
       "\t\t<td>7.4</td>\n",
       "\t\t<td>0.41</td>\n",
       "\t\t<td>0.24</td>\n",
       "\t\t<td>1.8</td>\n",
       "\t\t<td>0.066</td>\n",
       "\t\t<td>18.0</td>\n",
       "\t\t<td>47.0</td>\n",
       "\t\t<td>0.9956</td>\n",
       "\t\t<td>3.37</td>\n",
       "\t\t<td>0.62</td>\n",
       "\t\t<td>10.4</td>\n",
       "\t\t<td>bad</td>\n",
       "\t</tr>\n",
       "\t<tr>\n",
       "\t\t<td>8.6</td>\n",
       "\t\t<td>0.49</td>\n",
       "\t\t<td>0.29</td>\n",
       "\t\t<td>2.0</td>\n",
       "\t\t<td>0.11</td>\n",
       "\t\t<td>19.0</td>\n",
       "\t\t<td>133.0</td>\n",
       "\t\t<td>0.9972</td>\n",
       "\t\t<td>2.93</td>\n",
       "\t\t<td>1.98</td>\n",
       "\t\t<td>9.8</td>\n",
       "\t\t<td>bad</td>\n",
       "\t</tr>\n",
       "\t<tr>\n",
       "\t\t<td>8.6</td>\n",
       "\t\t<td>0.635</td>\n",
       "\t\t<td>0.68</td>\n",
       "\t\t<td>1.8</td>\n",
       "\t\t<td>0.403</td>\n",
       "\t\t<td>19.0</td>\n",
       "\t\t<td>56.0</td>\n",
       "\t\t<td>0.99632</td>\n",
       "\t\t<td>3.02</td>\n",
       "\t\t<td>1.15</td>\n",
       "\t\t<td>9.3</td>\n",
       "\t\t<td>bad</td>\n",
       "\t</tr>\n",
       "</table></html>"
      ],
      "text/plain": [
       "               volatile_acidity  citric_acid  residual_sugar  chlorides  free_sulfur_dioxide  total_sulfur_dioxide  density    pH  sulphates  alcohol quality\n",
       "fixed_acidity                                                                                                                                                \n",
       "10.5                      0.240         0.47             2.1      0.066                  6.0                  24.0  0.99780  3.15       0.90     11.0    good\n",
       "9.0                       0.660         0.17             3.0      0.077                  5.0                  13.0  0.99760  3.29       0.55     10.4     bad\n",
       "9.0                       0.460         0.31             2.8      0.093                 19.0                  98.0  0.99815  3.32       0.63      9.5    good\n",
       "8.4                       0.290         0.40             1.7      0.067                  8.0                  20.0  0.99603  3.39       0.60     10.5     bad\n",
       "8.2                       0.885         0.20             1.4      0.086                  7.0                  31.0  0.99460  3.11       0.46     10.0     bad\n",
       "8.2                       0.350         0.33             2.4      0.076                 11.0                  47.0  0.99599  3.27       0.81     11.0    good\n",
       "7.4                       0.360         0.29             2.6      0.087                 26.0                  72.0  0.99645  3.39       0.68     11.0     bad\n",
       "7.4                       0.410         0.24             1.8      0.066                 18.0                  47.0  0.99560  3.37       0.62     10.4     bad\n",
       "8.6                       0.490         0.29             2.0      0.110                 19.0                 133.0  0.99720  2.93       1.98      9.8     bad\n",
       "8.6                       0.635         0.68             1.8      0.403                 19.0                  56.0  0.99632  3.02       1.15      9.3     bad"
      ]
     },
     "metadata": {},
     "output_type": "display_data"
    },
    {
     "name": "stdout",
     "output_type": "stream",
     "text": [
      "                                                                                        \r"
     ]
    },
    {
     "data": {
      "text/html": [
       "1110 rows X 12 columns"
      ],
      "text/plain": [
       "<IPython.core.display.HTML object>"
      ]
     },
     "metadata": {},
     "output_type": "display_data"
    },
    {
     "name": "stdout",
     "output_type": "stream",
     "text": [
      "Remaining Rows in the data: 1110                                                        \n",
      "Remaining Columns in the data: 12\n",
      "                                                                                        \r"
     ]
    },
    {
     "data": {
      "text/html": [
       "Total time to handle duplicate records: 4.24 sec  "
      ],
      "text/plain": [
       "<IPython.core.display.HTML object>"
      ]
     },
     "metadata": {},
     "output_type": "display_data"
    },
    {
     "name": "stdout",
     "output_type": "stream",
     "text": [
      "                                                                                        \r"
     ]
    },
    {
     "data": {
      "text/html": [
       "\n",
       "Handling less significant features from data ..."
      ],
      "text/plain": [
       "<IPython.core.display.HTML object>"
      ]
     },
     "metadata": {},
     "output_type": "display_data"
    },
    {
     "name": "stdout",
     "output_type": "stream",
     "text": [
      "result data stored in table '\"ALICE\".\"ml__td_sqlmr_persist_out__171996696583280\"' - 1/15\n",
      "                                                                                        \r"
     ]
    },
    {
     "data": {
      "text/html": [
       "Total time to handle less significant features: 16.77 sec  "
      ],
      "text/plain": [
       "<IPython.core.display.HTML object>"
      ]
     },
     "metadata": {},
     "output_type": "display_data"
    },
    {
     "name": "stdout",
     "output_type": "stream",
     "text": [
      "                                                                                         \r"
     ]
    },
    {
     "data": {
      "text/html": [
       "\n",
       "Handling Date Features ..."
      ],
      "text/plain": [
       "<IPython.core.display.HTML object>"
      ]
     },
     "metadata": {},
     "output_type": "display_data"
    },
    {
     "name": "stdout",
     "output_type": "stream",
     "text": [
      "Analysis Completed. Dataset does not contain any feature related to dates. No action needed.\n",
      "                                                                                         \r"
     ]
    },
    {
     "data": {
      "text/html": [
       "Total time to handle date features: 0.00 sec\n"
      ],
      "text/plain": [
       "<IPython.core.display.HTML object>"
      ]
     },
     "metadata": {},
     "output_type": "display_data"
    },
    {
     "name": "stdout",
     "output_type": "stream",
     "text": [
      "                                                                                         \r"
     ]
    },
    {
     "data": {
      "text/html": [
       "\n",
       "Checking Missing values in dataset ..."
      ],
      "text/plain": [
       "<IPython.core.display.HTML object>"
      ]
     },
     "metadata": {},
     "output_type": "display_data"
    },
    {
     "name": "stdout",
     "output_type": "stream",
     "text": [
      "Analysis Completed. No Missing Values Detected.                                          \n",
      "                                                                                         \r"
     ]
    },
    {
     "data": {
      "text/html": [
       "Total time to find missing values in data: 7.11 sec  "
      ],
      "text/plain": [
       "<IPython.core.display.HTML object>"
      ]
     },
     "metadata": {},
     "output_type": "display_data"
    },
    {
     "name": "stdout",
     "output_type": "stream",
     "text": [
      "                                                                                         \r"
     ]
    },
    {
     "data": {
      "text/html": [
       "\n",
       "Imputing Missing Values ..."
      ],
      "text/plain": [
       "<IPython.core.display.HTML object>"
      ]
     },
     "metadata": {},
     "output_type": "display_data"
    },
    {
     "name": "stdout",
     "output_type": "stream",
     "text": [
      "Analysis completed. No imputation required.                                              \n",
      "                                                                                         \r"
     ]
    },
    {
     "data": {
      "text/html": [
       "Time taken to perform imputation: 0.01 sec  "
      ],
      "text/plain": [
       "<IPython.core.display.HTML object>"
      ]
     },
     "metadata": {},
     "output_type": "display_data"
    },
    {
     "name": "stdout",
     "output_type": "stream",
     "text": [
      "                                                                                         \r"
     ]
    },
    {
     "data": {
      "text/html": [
       "\n",
       "Performing encoding for categorical columns ..."
      ],
      "text/plain": [
       "<IPython.core.display.HTML object>"
      ]
     },
     "metadata": {},
     "output_type": "display_data"
    },
    {
     "name": "stdout",
     "output_type": "stream",
     "text": [
      "Analysis completed. No categorical columns were found.                                   \n",
      "                                                                                         \r"
     ]
    },
    {
     "data": {
      "text/html": [
       "Time taken to encode the columns: 1.74 sec"
      ],
      "text/plain": [
       "<IPython.core.display.HTML object>"
      ]
     },
     "metadata": {},
     "output_type": "display_data"
    },
    {
     "name": "stdout",
     "output_type": "stream",
     "text": [
      "                                                                                         \r"
     ]
    },
    {
     "data": {
      "text/html": [
       "\n",
       "            <style>\n",
       "                .custom-div {\n",
       "                    background-color: lightgray;\n",
       "                    color: #000000;\n",
       "                    padding: 10px;\n",
       "                    border-radius: 8px;\n",
       "                    box-shadow: 0 3px 4px rgba(0 -  0 -  0 -  0.2);\n",
       "                    margin-bottom: 10px;\n",
       "                    text-align: center;\n",
       "                }\n",
       "            </style>\n",
       "        <br><div class=\"custom-div\"><h3><span style=\"color: green;\">1. Feature Exploration -> 2. Feature Engineering -></span> 3. Data Preparation -> 4. Model Training & Evaluation<center></h3></center></div>"
      ],
      "text/plain": [
       "<IPython.core.display.HTML object>"
      ]
     },
     "metadata": {},
     "output_type": "display_data"
    },
    {
     "name": "stdout",
     "output_type": "stream",
     "text": [
      "                                                                                         \r"
     ]
    },
    {
     "data": {
      "text/html": [
       "Data preparation started ..."
      ],
      "text/plain": [
       "<IPython.core.display.HTML object>"
      ]
     },
     "metadata": {},
     "output_type": "display_data"
    },
    {
     "name": "stdout",
     "output_type": "stream",
     "text": [
      "                                                                                         \r"
     ]
    },
    {
     "data": {
      "text/html": [
       "\n",
       "Spliting of dataset into training and testing ..."
      ],
      "text/plain": [
       "<IPython.core.display.HTML object>"
      ]
     },
     "metadata": {},
     "output_type": "display_data"
    },
    {
     "name": "stdout",
     "output_type": "stream",
     "text": [
      "Training size : 0.8                                                                      \n",
      "Testing size  : 0.2                                                                      \n",
      "                                                                                         \r"
     ]
    },
    {
     "data": {
      "text/html": [
       "Training data sample"
      ],
      "text/plain": [
       "<IPython.core.display.HTML object>"
      ]
     },
     "metadata": {},
     "output_type": "display_data"
    },
    {
     "data": {
      "text/html": [
       "<style type=\"text/css\">\n",
       "\ttable {border:ridge 5px;}\n",
       "\ttable td {border:inset 1px;}\n",
       "\ttable tr#HeaderRow {background-color:grey; color:white;}</style>\n",
       "<html><table>\n",
       "\t<tr id=\"HeaderRow\">\n",
       "\t\t<th>fixed_acidity</th>\n",
       "\t\t<th>free_sulfur_dioxide</th>\n",
       "\t\t<th>volatile_acidity</th>\n",
       "\t\t<th>total_sulfur_dioxide</th>\n",
       "\t\t<th>density</th>\n",
       "\t\t<th>sulphates</th>\n",
       "\t\t<th>id</th>\n",
       "\t\t<th>alcohol</th>\n",
       "\t\t<th>residual_sugar</th>\n",
       "\t\t<th>pH</th>\n",
       "\t\t<th>chlorides</th>\n",
       "\t\t<th>citric_acid</th>\n",
       "\t\t<th>quality</th>\n",
       "\t</tr>\n",
       "\t<tr>\n",
       "\t\t<td>8.6</td>\n",
       "\t\t<td>19.0</td>\n",
       "\t\t<td>0.49</td>\n",
       "\t\t<td>133.0</td>\n",
       "\t\t<td>0.9972</td>\n",
       "\t\t<td>1.98</td>\n",
       "\t\t<td>13</td>\n",
       "\t\t<td>9.8</td>\n",
       "\t\t<td>2.0</td>\n",
       "\t\t<td>2.93</td>\n",
       "\t\t<td>0.11</td>\n",
       "\t\t<td>0.29</td>\n",
       "\t\t<td>0</td>\n",
       "\t</tr>\n",
       "\t<tr>\n",
       "\t\t<td>8.2</td>\n",
       "\t\t<td>7.0</td>\n",
       "\t\t<td>0.885</td>\n",
       "\t\t<td>31.0</td>\n",
       "\t\t<td>0.9946</td>\n",
       "\t\t<td>0.46</td>\n",
       "\t\t<td>15</td>\n",
       "\t\t<td>10.0</td>\n",
       "\t\t<td>1.4</td>\n",
       "\t\t<td>3.11</td>\n",
       "\t\t<td>0.086</td>\n",
       "\t\t<td>0.2</td>\n",
       "\t\t<td>0</td>\n",
       "\t</tr>\n",
       "\t<tr>\n",
       "\t\t<td>8.2</td>\n",
       "\t\t<td>11.0</td>\n",
       "\t\t<td>0.35</td>\n",
       "\t\t<td>47.0</td>\n",
       "\t\t<td>0.99599</td>\n",
       "\t\t<td>0.81</td>\n",
       "\t\t<td>23</td>\n",
       "\t\t<td>11.0</td>\n",
       "\t\t<td>2.4</td>\n",
       "\t\t<td>3.27</td>\n",
       "\t\t<td>0.076</td>\n",
       "\t\t<td>0.33</td>\n",
       "\t\t<td>1</td>\n",
       "\t</tr>\n",
       "\t<tr>\n",
       "\t\t<td>13.7</td>\n",
       "\t\t<td>17.0</td>\n",
       "\t\t<td>0.415</td>\n",
       "\t\t<td>43.0</td>\n",
       "\t\t<td>1.0014</td>\n",
       "\t\t<td>0.8</td>\n",
       "\t\t<td>9</td>\n",
       "\t\t<td>10.0</td>\n",
       "\t\t<td>2.9</td>\n",
       "\t\t<td>3.06</td>\n",
       "\t\t<td>0.085</td>\n",
       "\t\t<td>0.68</td>\n",
       "\t\t<td>1</td>\n",
       "\t</tr>\n",
       "\t<tr>\n",
       "\t\t<td>8.4</td>\n",
       "\t\t<td>8.0</td>\n",
       "\t\t<td>0.29</td>\n",
       "\t\t<td>20.0</td>\n",
       "\t\t<td>0.99603</td>\n",
       "\t\t<td>0.6</td>\n",
       "\t\t<td>12</td>\n",
       "\t\t<td>10.5</td>\n",
       "\t\t<td>1.7</td>\n",
       "\t\t<td>3.39</td>\n",
       "\t\t<td>0.067</td>\n",
       "\t\t<td>0.4</td>\n",
       "\t\t<td>0</td>\n",
       "\t</tr>\n",
       "\t<tr>\n",
       "\t\t<td>8.4</td>\n",
       "\t\t<td>16.0</td>\n",
       "\t\t<td>0.56</td>\n",
       "\t\t<td>44.0</td>\n",
       "\t\t<td>0.9958</td>\n",
       "\t\t<td>0.52</td>\n",
       "\t\t<td>20</td>\n",
       "\t\t<td>11.0</td>\n",
       "\t\t<td>2.1</td>\n",
       "\t\t<td>3.13</td>\n",
       "\t\t<td>0.105</td>\n",
       "\t\t<td>0.08</td>\n",
       "\t\t<td>0</td>\n",
       "\t</tr>\n",
       "\t<tr>\n",
       "\t\t<td>7.4</td>\n",
       "\t\t<td>26.0</td>\n",
       "\t\t<td>0.36</td>\n",
       "\t\t<td>72.0</td>\n",
       "\t\t<td>0.99645</td>\n",
       "\t\t<td>0.68</td>\n",
       "\t\t<td>11</td>\n",
       "\t\t<td>11.0</td>\n",
       "\t\t<td>2.6</td>\n",
       "\t\t<td>3.39</td>\n",
       "\t\t<td>0.087</td>\n",
       "\t\t<td>0.29</td>\n",
       "\t\t<td>0</td>\n",
       "\t</tr>\n",
       "\t<tr>\n",
       "\t\t<td>7.4</td>\n",
       "\t\t<td>18.0</td>\n",
       "\t\t<td>0.41</td>\n",
       "\t\t<td>47.0</td>\n",
       "\t\t<td>0.9956</td>\n",
       "\t\t<td>0.62</td>\n",
       "\t\t<td>19</td>\n",
       "\t\t<td>10.4</td>\n",
       "\t\t<td>1.8</td>\n",
       "\t\t<td>3.37</td>\n",
       "\t\t<td>0.066</td>\n",
       "\t\t<td>0.24</td>\n",
       "\t\t<td>0</td>\n",
       "\t</tr>\n",
       "\t<tr>\n",
       "\t\t<td>9.0</td>\n",
       "\t\t<td>5.0</td>\n",
       "\t\t<td>0.66</td>\n",
       "\t\t<td>13.0</td>\n",
       "\t\t<td>0.9976</td>\n",
       "\t\t<td>0.55</td>\n",
       "\t\t<td>14</td>\n",
       "\t\t<td>10.4</td>\n",
       "\t\t<td>3.0</td>\n",
       "\t\t<td>3.29</td>\n",
       "\t\t<td>0.077</td>\n",
       "\t\t<td>0.17</td>\n",
       "\t\t<td>0</td>\n",
       "\t</tr>\n",
       "\t<tr>\n",
       "\t\t<td>9.0</td>\n",
       "\t\t<td>19.0</td>\n",
       "\t\t<td>0.46</td>\n",
       "\t\t<td>98.0</td>\n",
       "\t\t<td>0.99815</td>\n",
       "\t\t<td>0.63</td>\n",
       "\t\t<td>22</td>\n",
       "\t\t<td>9.5</td>\n",
       "\t\t<td>2.8</td>\n",
       "\t\t<td>3.32</td>\n",
       "\t\t<td>0.093</td>\n",
       "\t\t<td>0.31</td>\n",
       "\t\t<td>1</td>\n",
       "\t</tr>\n",
       "</table></html>"
      ],
      "text/plain": [
       "   fixed_acidity  free_sulfur_dioxide  volatile_acidity  total_sulfur_dioxide  density  sulphates  id  alcohol  residual_sugar    pH  chlorides  citric_acid  quality\n",
       "0            8.6                 19.0             0.490                 133.0  0.99720       1.98  13      9.8             2.0  2.93      0.110         0.29        0\n",
       "1            8.2                  7.0             0.885                  31.0  0.99460       0.46  15     10.0             1.4  3.11      0.086         0.20        0\n",
       "2            8.2                 11.0             0.350                  47.0  0.99599       0.81  23     11.0             2.4  3.27      0.076         0.33        1\n",
       "3           13.7                 17.0             0.415                  43.0  1.00140       0.80   9     10.0             2.9  3.06      0.085         0.68        1\n",
       "4            8.4                  8.0             0.290                  20.0  0.99603       0.60  12     10.5             1.7  3.39      0.067         0.40        0\n",
       "5            8.4                 16.0             0.560                  44.0  0.99580       0.52  20     11.0             2.1  3.13      0.105         0.08        0\n",
       "6            7.4                 26.0             0.360                  72.0  0.99645       0.68  11     11.0             2.6  3.39      0.087         0.29        0\n",
       "7            7.4                 18.0             0.410                  47.0  0.99560       0.62  19     10.4             1.8  3.37      0.066         0.24        0\n",
       "8            9.0                  5.0             0.660                  13.0  0.99760       0.55  14     10.4             3.0  3.29      0.077         0.17        0\n",
       "9            9.0                 19.0             0.460                  98.0  0.99815       0.63  22      9.5             2.8  3.32      0.093         0.31        1"
      ]
     },
     "metadata": {},
     "output_type": "display_data"
    },
    {
     "name": "stdout",
     "output_type": "stream",
     "text": [
      "                                                                                         \r"
     ]
    },
    {
     "data": {
      "text/html": [
       "888 rows X 13 columns"
      ],
      "text/plain": [
       "<IPython.core.display.HTML object>"
      ]
     },
     "metadata": {},
     "output_type": "display_data"
    },
    {
     "name": "stdout",
     "output_type": "stream",
     "text": [
      "                                                                                         \r"
     ]
    },
    {
     "data": {
      "text/html": [
       "Testing data sample"
      ],
      "text/plain": [
       "<IPython.core.display.HTML object>"
      ]
     },
     "metadata": {},
     "output_type": "display_data"
    },
    {
     "data": {
      "text/html": [
       "<style type=\"text/css\">\n",
       "\ttable {border:ridge 5px;}\n",
       "\ttable td {border:inset 1px;}\n",
       "\ttable tr#HeaderRow {background-color:grey; color:white;}</style>\n",
       "<html><table>\n",
       "\t<tr id=\"HeaderRow\">\n",
       "\t\t<th>fixed_acidity</th>\n",
       "\t\t<th>free_sulfur_dioxide</th>\n",
       "\t\t<th>volatile_acidity</th>\n",
       "\t\t<th>total_sulfur_dioxide</th>\n",
       "\t\t<th>density</th>\n",
       "\t\t<th>sulphates</th>\n",
       "\t\t<th>id</th>\n",
       "\t\t<th>alcohol</th>\n",
       "\t\t<th>residual_sugar</th>\n",
       "\t\t<th>pH</th>\n",
       "\t\t<th>chlorides</th>\n",
       "\t\t<th>citric_acid</th>\n",
       "\t\t<th>quality</th>\n",
       "\t</tr>\n",
       "\t<tr>\n",
       "\t\t<td>7.5</td>\n",
       "\t\t<td>50.0</td>\n",
       "\t\t<td>0.63</td>\n",
       "\t\t<td>110.0</td>\n",
       "\t\t<td>0.9983</td>\n",
       "\t\t<td>0.77</td>\n",
       "\t\t<td>25</td>\n",
       "\t\t<td>9.4</td>\n",
       "\t\t<td>5.1</td>\n",
       "\t\t<td>3.26</td>\n",
       "\t\t<td>0.111</td>\n",
       "\t\t<td>0.12</td>\n",
       "\t\t<td>0</td>\n",
       "\t</tr>\n",
       "\t<tr>\n",
       "\t\t<td>9.0</td>\n",
       "\t\t<td>26.0</td>\n",
       "\t\t<td>0.43</td>\n",
       "\t\t<td>86.0</td>\n",
       "\t\t<td>0.9987</td>\n",
       "\t\t<td>0.62</td>\n",
       "\t\t<td>30</td>\n",
       "\t\t<td>9.5</td>\n",
       "\t\t<td>2.5</td>\n",
       "\t\t<td>3.38</td>\n",
       "\t\t<td>0.08</td>\n",
       "\t\t<td>0.34</td>\n",
       "\t\t<td>1</td>\n",
       "\t</tr>\n",
       "\t<tr>\n",
       "\t\t<td>9.0</td>\n",
       "\t\t<td>8.0</td>\n",
       "\t\t<td>0.58</td>\n",
       "\t\t<td>21.0</td>\n",
       "\t\t<td>0.99769</td>\n",
       "\t\t<td>0.72</td>\n",
       "\t\t<td>126</td>\n",
       "\t\t<td>9.6</td>\n",
       "\t\t<td>2.0</td>\n",
       "\t\t<td>3.27</td>\n",
       "\t\t<td>0.104</td>\n",
       "\t\t<td>0.25</td>\n",
       "\t\t<td>0</td>\n",
       "\t</tr>\n",
       "\t<tr>\n",
       "\t\t<td>10.5</td>\n",
       "\t\t<td>6.0</td>\n",
       "\t\t<td>0.24</td>\n",
       "\t\t<td>22.0</td>\n",
       "\t\t<td>0.9976</td>\n",
       "\t\t<td>1.05</td>\n",
       "\t\t<td>26</td>\n",
       "\t\t<td>10.8</td>\n",
       "\t\t<td>1.8</td>\n",
       "\t\t<td>3.21</td>\n",
       "\t\t<td>0.077</td>\n",
       "\t\t<td>0.42</td>\n",
       "\t\t<td>1</td>\n",
       "\t</tr>\n",
       "\t<tr>\n",
       "\t\t<td>8.2</td>\n",
       "\t\t<td>11.0</td>\n",
       "\t\t<td>0.4</td>\n",
       "\t\t<td>43.0</td>\n",
       "\t\t<td>0.9975</td>\n",
       "\t\t<td>0.61</td>\n",
       "\t\t<td>31</td>\n",
       "\t\t<td>10.5</td>\n",
       "\t\t<td>2.8</td>\n",
       "\t\t<td>3.53</td>\n",
       "\t\t<td>0.089</td>\n",
       "\t\t<td>0.44</td>\n",
       "\t\t<td>1</td>\n",
       "\t</tr>\n",
       "\t<tr>\n",
       "\t\t<td>8.2</td>\n",
       "\t\t<td>7.0</td>\n",
       "\t\t<td>1.0</td>\n",
       "\t\t<td>37.0</td>\n",
       "\t\t<td>0.99685</td>\n",
       "\t\t<td>0.55</td>\n",
       "\t\t<td>127</td>\n",
       "\t\t<td>9.0</td>\n",
       "\t\t<td>2.3</td>\n",
       "\t\t<td>3.32</td>\n",
       "\t\t<td>0.065</td>\n",
       "\t\t<td>0.09</td>\n",
       "\t\t<td>1</td>\n",
       "\t</tr>\n",
       "\t<tr>\n",
       "\t\t<td>8.4</td>\n",
       "\t\t<td>38.0</td>\n",
       "\t\t<td>0.62</td>\n",
       "\t\t<td>46.0</td>\n",
       "\t\t<td>0.99504</td>\n",
       "\t\t<td>0.89</td>\n",
       "\t\t<td>28</td>\n",
       "\t\t<td>11.8</td>\n",
       "\t\t<td>1.8</td>\n",
       "\t\t<td>3.38</td>\n",
       "\t\t<td>0.072</td>\n",
       "\t\t<td>0.12</td>\n",
       "\t\t<td>1</td>\n",
       "\t</tr>\n",
       "\t<tr>\n",
       "\t\t<td>8.4</td>\n",
       "\t\t<td>10.0</td>\n",
       "\t\t<td>0.715</td>\n",
       "\t\t<td>38.0</td>\n",
       "\t\t<td>0.99735</td>\n",
       "\t\t<td>0.64</td>\n",
       "\t\t<td>124</td>\n",
       "\t\t<td>9.4</td>\n",
       "\t\t<td>2.4</td>\n",
       "\t\t<td>3.31</td>\n",
       "\t\t<td>0.076</td>\n",
       "\t\t<td>0.2</td>\n",
       "\t\t<td>0</td>\n",
       "\t</tr>\n",
       "\t<tr>\n",
       "\t\t<td>7.4</td>\n",
       "\t\t<td>15.0</td>\n",
       "\t\t<td>0.55</td>\n",
       "\t\t<td>34.0</td>\n",
       "\t\t<td>0.99655</td>\n",
       "\t\t<td>0.68</td>\n",
       "\t\t<td>27</td>\n",
       "\t\t<td>10.5</td>\n",
       "\t\t<td>1.8</td>\n",
       "\t\t<td>3.49</td>\n",
       "\t\t<td>0.082</td>\n",
       "\t\t<td>0.19</td>\n",
       "\t\t<td>0</td>\n",
       "\t</tr>\n",
       "\t<tr>\n",
       "\t\t<td>7.4</td>\n",
       "\t\t<td>24.0</td>\n",
       "\t\t<td>0.62</td>\n",
       "\t\t<td>42.0</td>\n",
       "\t\t<td>0.9961</td>\n",
       "\t\t<td>0.57</td>\n",
       "\t\t<td>123</td>\n",
       "\t\t<td>11.5</td>\n",
       "\t\t<td>1.9</td>\n",
       "\t\t<td>3.42</td>\n",
       "\t\t<td>0.068</td>\n",
       "\t\t<td>0.05</td>\n",
       "\t\t<td>1</td>\n",
       "\t</tr>\n",
       "</table></html>"
      ],
      "text/plain": [
       "   fixed_acidity  free_sulfur_dioxide  volatile_acidity  total_sulfur_dioxide  density  sulphates   id  alcohol  residual_sugar    pH  chlorides  citric_acid  quality\n",
       "0            7.5                 50.0             0.630                 110.0  0.99830       0.77   25      9.4             5.1  3.26      0.111         0.12        0\n",
       "1            9.0                 26.0             0.430                  86.0  0.99870       0.62   30      9.5             2.5  3.38      0.080         0.34        1\n",
       "2            9.0                  8.0             0.580                  21.0  0.99769       0.72  126      9.6             2.0  3.27      0.104         0.25        0\n",
       "3           10.5                  6.0             0.240                  22.0  0.99760       1.05   26     10.8             1.8  3.21      0.077         0.42        1\n",
       "4            8.2                 11.0             0.400                  43.0  0.99750       0.61   31     10.5             2.8  3.53      0.089         0.44        1\n",
       "5            8.2                  7.0             1.000                  37.0  0.99685       0.55  127      9.0             2.3  3.32      0.065         0.09        1\n",
       "6            8.4                 38.0             0.620                  46.0  0.99504       0.89   28     11.8             1.8  3.38      0.072         0.12        1\n",
       "7            8.4                 10.0             0.715                  38.0  0.99735       0.64  124      9.4             2.4  3.31      0.076         0.20        0\n",
       "8            7.4                 15.0             0.550                  34.0  0.99655       0.68   27     10.5             1.8  3.49      0.082         0.19        0\n",
       "9            7.4                 24.0             0.620                  42.0  0.99610       0.57  123     11.5             1.9  3.42      0.068         0.05        1"
      ]
     },
     "metadata": {},
     "output_type": "display_data"
    },
    {
     "name": "stdout",
     "output_type": "stream",
     "text": [
      "                                                                                         \r"
     ]
    },
    {
     "data": {
      "text/html": [
       "222 rows X 13 columns"
      ],
      "text/plain": [
       "<IPython.core.display.HTML object>"
      ]
     },
     "metadata": {},
     "output_type": "display_data"
    },
    {
     "name": "stdout",
     "output_type": "stream",
     "text": [
      "                                                                                         \r"
     ]
    },
    {
     "data": {
      "text/html": [
       "Time taken for spliting of data: 10.40 sec  "
      ],
      "text/plain": [
       "<IPython.core.display.HTML object>"
      ]
     },
     "metadata": {},
     "output_type": "display_data"
    },
    {
     "name": "stdout",
     "output_type": "stream",
     "text": [
      "                                                                                         \r"
     ]
    },
    {
     "data": {
      "text/html": [
       "\n",
       "Outlier preprocessing ..."
      ],
      "text/plain": [
       "<IPython.core.display.HTML object>"
      ]
     },
     "metadata": {},
     "output_type": "display_data"
    },
    {
     "name": "stdout",
     "output_type": "stream",
     "text": [
      "Columns with outlier percentage :-                                                                                                                                                                                                                                                                                                                                                                                                                                                                                  \n",
      "             ColumnName  OutlierPercentage\n",
      "0             sulphates           4.144144\n",
      "1               density           2.612613\n",
      "2               alcohol           0.810811\n",
      "3         fixed_acidity           2.792793\n",
      "4                    pH           2.252252\n",
      "5           citric_acid           0.090090\n",
      "6  total_sulfur_dioxide           3.333333\n",
      "7             chlorides           6.846847\n",
      "8        residual_sugar          10.090090\n",
      "9      volatile_acidity           1.171171\n",
      "                                                                                         \r"
     ]
    },
    {
     "data": {
      "text/html": [
       "Deleting rows of these columns:"
      ],
      "text/plain": [
       "<IPython.core.display.HTML object>"
      ]
     },
     "metadata": {},
     "output_type": "display_data"
    },
    {
     "name": "stdout",
     "output_type": "stream",
     "text": [
      "['free_sulfur_dioxide', 'pH', 'density', 'total_sulfur_dioxide', 'fixed_acidity', 'volatile_acidity', 'citric_acid', 'alcohol', 'chlorides', 'sulphates']\n",
      "result data stored in table '\"ALICE\".\"ml__td_sqlmr_persist_out__171998472162707\"'% - 7/15\n",
      "                                                                                         \r"
     ]
    },
    {
     "data": {
      "text/html": [
       "Sample of training dataset after removing outlier rows:"
      ],
      "text/plain": [
       "<IPython.core.display.HTML object>"
      ]
     },
     "metadata": {},
     "output_type": "display_data"
    },
    {
     "data": {
      "text/html": [
       "<style type=\"text/css\">\n",
       "\ttable {border:ridge 5px;}\n",
       "\ttable td {border:inset 1px;}\n",
       "\ttable tr#HeaderRow {background-color:grey; color:white;}</style>\n",
       "<html><table>\n",
       "\t<tr id=\"HeaderRow\">\n",
       "\t\t<th>fixed_acidity</th>\n",
       "\t\t<th>free_sulfur_dioxide</th>\n",
       "\t\t<th>volatile_acidity</th>\n",
       "\t\t<th>total_sulfur_dioxide</th>\n",
       "\t\t<th>density</th>\n",
       "\t\t<th>sulphates</th>\n",
       "\t\t<th>id</th>\n",
       "\t\t<th>alcohol</th>\n",
       "\t\t<th>residual_sugar</th>\n",
       "\t\t<th>pH</th>\n",
       "\t\t<th>chlorides</th>\n",
       "\t\t<th>citric_acid</th>\n",
       "\t\t<th>quality</th>\n",
       "\t</tr>\n",
       "\t<tr>\n",
       "\t\t<td>7.4</td>\n",
       "\t\t<td>19.0</td>\n",
       "\t\t<td>0.785</td>\n",
       "\t\t<td>98.0</td>\n",
       "\t\t<td>0.99713</td>\n",
       "\t\t<td>0.52</td>\n",
       "\t\t<td>139</td>\n",
       "\t\t<td>9.566666667</td>\n",
       "\t\t<td>5.2</td>\n",
       "\t\t<td>3.16</td>\n",
       "\t\t<td>0.094</td>\n",
       "\t\t<td>0.19</td>\n",
       "\t\t<td>1</td>\n",
       "\t</tr>\n",
       "\t<tr>\n",
       "\t\t<td>7.4</td>\n",
       "\t\t<td>34.0</td>\n",
       "\t\t<td>0.52</td>\n",
       "\t\t<td>61.0</td>\n",
       "\t\t<td>0.99528</td>\n",
       "\t\t<td>0.59</td>\n",
       "\t\t<td>51</td>\n",
       "\t\t<td>10.8</td>\n",
       "\t\t<td>2.4</td>\n",
       "\t\t<td>3.43</td>\n",
       "\t\t<td>0.078</td>\n",
       "\t\t<td>0.13</td>\n",
       "\t\t<td>1</td>\n",
       "\t</tr>\n",
       "\t<tr>\n",
       "\t\t<td>7.4</td>\n",
       "\t\t<td>15.0</td>\n",
       "\t\t<td>0.74</td>\n",
       "\t\t<td>48.0</td>\n",
       "\t\t<td>0.99502</td>\n",
       "\t\t<td>0.48</td>\n",
       "\t\t<td>59</td>\n",
       "\t\t<td>10.0</td>\n",
       "\t\t<td>1.7</td>\n",
       "\t\t<td>3.12</td>\n",
       "\t\t<td>0.086</td>\n",
       "\t\t<td>0.07</td>\n",
       "\t\t<td>0</td>\n",
       "\t</tr>\n",
       "\t<tr>\n",
       "\t\t<td>7.4</td>\n",
       "\t\t<td>18.0</td>\n",
       "\t\t<td>0.41</td>\n",
       "\t\t<td>47.0</td>\n",
       "\t\t<td>0.9956</td>\n",
       "\t\t<td>0.62</td>\n",
       "\t\t<td>19</td>\n",
       "\t\t<td>10.4</td>\n",
       "\t\t<td>1.8</td>\n",
       "\t\t<td>3.37</td>\n",
       "\t\t<td>0.066</td>\n",
       "\t\t<td>0.24</td>\n",
       "\t\t<td>0</td>\n",
       "\t</tr>\n",
       "\t<tr>\n",
       "\t\t<td>7.4</td>\n",
       "\t\t<td>9.0</td>\n",
       "\t\t<td>0.29</td>\n",
       "\t\t<td>30.0</td>\n",
       "\t\t<td>0.9968</td>\n",
       "\t\t<td>0.53</td>\n",
       "\t\t<td>227</td>\n",
       "\t\t<td>9.5</td>\n",
       "\t\t<td>1.7</td>\n",
       "\t\t<td>3.41</td>\n",
       "\t\t<td>0.062</td>\n",
       "\t\t<td>0.38</td>\n",
       "\t\t<td>1</td>\n",
       "\t</tr>\n",
       "\t<tr>\n",
       "\t\t<td>7.4</td>\n",
       "\t\t<td>11.0</td>\n",
       "\t\t<td>0.7</td>\n",
       "\t\t<td>34.0</td>\n",
       "\t\t<td>0.9978</td>\n",
       "\t\t<td>0.56</td>\n",
       "\t\t<td>179</td>\n",
       "\t\t<td>9.4</td>\n",
       "\t\t<td>1.9</td>\n",
       "\t\t<td>3.51</td>\n",
       "\t\t<td>0.076</td>\n",
       "\t\t<td>0.0</td>\n",
       "\t\t<td>0</td>\n",
       "\t</tr>\n",
       "\t<tr>\n",
       "\t\t<td>7.4</td>\n",
       "\t\t<td>26.0</td>\n",
       "\t\t<td>0.36</td>\n",
       "\t\t<td>72.0</td>\n",
       "\t\t<td>0.99645</td>\n",
       "\t\t<td>0.68</td>\n",
       "\t\t<td>11</td>\n",
       "\t\t<td>11.0</td>\n",
       "\t\t<td>2.6</td>\n",
       "\t\t<td>3.39</td>\n",
       "\t\t<td>0.087</td>\n",
       "\t\t<td>0.29</td>\n",
       "\t\t<td>0</td>\n",
       "\t</tr>\n",
       "\t<tr>\n",
       "\t\t<td>7.4</td>\n",
       "\t\t<td>6.0</td>\n",
       "\t\t<td>0.59</td>\n",
       "\t\t<td>29.0</td>\n",
       "\t\t<td>0.9974</td>\n",
       "\t\t<td>0.5</td>\n",
       "\t\t<td>171</td>\n",
       "\t\t<td>9.0</td>\n",
       "\t\t<td>4.4</td>\n",
       "\t\t<td>3.38</td>\n",
       "\t\t<td>0.086</td>\n",
       "\t\t<td>0.08</td>\n",
       "\t\t<td>0</td>\n",
       "\t</tr>\n",
       "\t<tr>\n",
       "\t\t<td>7.4</td>\n",
       "\t\t<td>8.0</td>\n",
       "\t\t<td>0.64</td>\n",
       "\t\t<td>23.0</td>\n",
       "\t\t<td>0.9961</td>\n",
       "\t\t<td>0.58</td>\n",
       "\t\t<td>107</td>\n",
       "\t\t<td>9.6</td>\n",
       "\t\t<td>1.8</td>\n",
       "\t\t<td>3.3</td>\n",
       "\t\t<td>0.1</td>\n",
       "\t\t<td>0.07</td>\n",
       "\t\t<td>0</td>\n",
       "\t</tr>\n",
       "\t<tr>\n",
       "\t\t<td>7.4</td>\n",
       "\t\t<td>36.0</td>\n",
       "\t\t<td>0.6</td>\n",
       "\t\t<td>121.0</td>\n",
       "\t\t<td>0.9982</td>\n",
       "\t\t<td>0.49</td>\n",
       "\t\t<td>147</td>\n",
       "\t\t<td>9.4</td>\n",
       "\t\t<td>7.3</td>\n",
       "\t\t<td>3.37</td>\n",
       "\t\t<td>0.07</td>\n",
       "\t\t<td>0.26</td>\n",
       "\t\t<td>0</td>\n",
       "\t</tr>\n",
       "</table></html>"
      ],
      "text/plain": [
       "               free_sulfur_dioxide  volatile_acidity  total_sulfur_dioxide  density  sulphates   id    alcohol  residual_sugar    pH  chlorides  citric_acid  quality\n",
       "fixed_acidity                                                                                                                                                        \n",
       "7.4                           19.0             0.785                  98.0  0.99713       0.52  139   9.566667             5.2  3.16      0.094         0.19        1\n",
       "7.4                           34.0             0.520                  61.0  0.99528       0.59   51  10.800000             2.4  3.43      0.078         0.13        1\n",
       "7.4                           15.0             0.740                  48.0  0.99502       0.48   59  10.000000             1.7  3.12      0.086         0.07        0\n",
       "7.4                           18.0             0.410                  47.0  0.99560       0.62   19  10.400000             1.8  3.37      0.066         0.24        0\n",
       "7.4                            9.0             0.290                  30.0  0.99680       0.53  227   9.500000             1.7  3.41      0.062         0.38        1\n",
       "7.4                           11.0             0.700                  34.0  0.99780       0.56  179   9.400000             1.9  3.51      0.076         0.00        0\n",
       "7.4                           26.0             0.360                  72.0  0.99645       0.68   11  11.000000             2.6  3.39      0.087         0.29        0\n",
       "7.4                            6.0             0.590                  29.0  0.99740       0.50  171   9.000000             4.4  3.38      0.086         0.08        0\n",
       "7.4                            8.0             0.640                  23.0  0.99610       0.58  107   9.600000             1.8  3.30      0.100         0.07        0\n",
       "7.4                           36.0             0.600                 121.0  0.99820       0.49  147   9.400000             7.3  3.37      0.070         0.26        0"
      ]
     },
     "metadata": {},
     "output_type": "display_data"
    },
    {
     "name": "stdout",
     "output_type": "stream",
     "text": [
      "                                                                                         \r"
     ]
    },
    {
     "data": {
      "text/html": [
       "720 rows X 13 columns"
      ],
      "text/plain": [
       "<IPython.core.display.HTML object>"
      ]
     },
     "metadata": {},
     "output_type": "display_data"
    },
    {
     "name": "stdout",
     "output_type": "stream",
     "text": [
      "                                                                                         \r"
     ]
    },
    {
     "data": {
      "text/html": [
       "median inplace of outliers:"
      ],
      "text/plain": [
       "<IPython.core.display.HTML object>"
      ]
     },
     "metadata": {},
     "output_type": "display_data"
    },
    {
     "name": "stdout",
     "output_type": "stream",
     "text": [
      "['residual_sugar']\n",
      "result data stored in table '\"ALICE\".\"ml__td_sqlmr_persist_out__171992831432790\"'% - 7/15\n",
      "                                                                                         \r"
     ]
    },
    {
     "data": {
      "text/html": [
       "Sample of training dataset after performing MEDIAN inplace:"
      ],
      "text/plain": [
       "<IPython.core.display.HTML object>"
      ]
     },
     "metadata": {},
     "output_type": "display_data"
    },
    {
     "data": {
      "text/html": [
       "<style type=\"text/css\">\n",
       "\ttable {border:ridge 5px;}\n",
       "\ttable td {border:inset 1px;}\n",
       "\ttable tr#HeaderRow {background-color:grey; color:white;}</style>\n",
       "<html><table>\n",
       "\t<tr id=\"HeaderRow\">\n",
       "\t\t<th>fixed_acidity</th>\n",
       "\t\t<th>free_sulfur_dioxide</th>\n",
       "\t\t<th>volatile_acidity</th>\n",
       "\t\t<th>total_sulfur_dioxide</th>\n",
       "\t\t<th>density</th>\n",
       "\t\t<th>sulphates</th>\n",
       "\t\t<th>id</th>\n",
       "\t\t<th>alcohol</th>\n",
       "\t\t<th>residual_sugar</th>\n",
       "\t\t<th>pH</th>\n",
       "\t\t<th>chlorides</th>\n",
       "\t\t<th>citric_acid</th>\n",
       "\t\t<th>quality</th>\n",
       "\t</tr>\n",
       "\t<tr>\n",
       "\t\t<td>7.5</td>\n",
       "\t\t<td>36.0</td>\n",
       "\t\t<td>0.61</td>\n",
       "\t\t<td>60.0</td>\n",
       "\t\t<td>0.99494</td>\n",
       "\t\t<td>0.4</td>\n",
       "\t\t<td>289</td>\n",
       "\t\t<td>9.3</td>\n",
       "\t\t<td>1.7</td>\n",
       "\t\t<td>3.1</td>\n",
       "\t\t<td>0.076</td>\n",
       "\t\t<td>0.2</td>\n",
       "\t\t<td>0</td>\n",
       "\t</tr>\n",
       "\t<tr>\n",
       "\t\t<td>7.5</td>\n",
       "\t\t<td>30.0</td>\n",
       "\t\t<td>0.77</td>\n",
       "\t\t<td>92.0</td>\n",
       "\t\t<td>0.99892</td>\n",
       "\t\t<td>0.58</td>\n",
       "\t\t<td>265</td>\n",
       "\t\t<td>9.2</td>\n",
       "\t\t<td>2.2</td>\n",
       "\t\t<td>3.2</td>\n",
       "\t\t<td>0.098</td>\n",
       "\t\t<td>0.2</td>\n",
       "\t\t<td>0</td>\n",
       "\t</tr>\n",
       "\t<tr>\n",
       "\t\t<td>7.5</td>\n",
       "\t\t<td>12.0</td>\n",
       "\t\t<td>0.52</td>\n",
       "\t\t<td>20.0</td>\n",
       "\t\t<td>0.99474</td>\n",
       "\t\t<td>0.64</td>\n",
       "\t\t<td>273</td>\n",
       "\t\t<td>11.8</td>\n",
       "\t\t<td>2.2</td>\n",
       "\t\t<td>3.26</td>\n",
       "\t\t<td>0.06</td>\n",
       "\t\t<td>0.4</td>\n",
       "\t\t<td>1</td>\n",
       "\t</tr>\n",
       "\t<tr>\n",
       "\t\t<td>7.5</td>\n",
       "\t\t<td>24.0</td>\n",
       "\t\t<td>0.61</td>\n",
       "\t\t<td>88.0</td>\n",
       "\t\t<td>0.99612</td>\n",
       "\t\t<td>0.53</td>\n",
       "\t\t<td>113</td>\n",
       "\t\t<td>9.8</td>\n",
       "\t\t<td>1.9</td>\n",
       "\t\t<td>3.3</td>\n",
       "\t\t<td>0.073</td>\n",
       "\t\t<td>0.26</td>\n",
       "\t\t<td>0</td>\n",
       "\t</tr>\n",
       "\t<tr>\n",
       "\t\t<td>7.5</td>\n",
       "\t\t<td>29.0</td>\n",
       "\t\t<td>0.4</td>\n",
       "\t\t<td>53.0</td>\n",
       "\t\t<td>0.9967</td>\n",
       "\t\t<td>0.7</td>\n",
       "\t\t<td>89</td>\n",
       "\t\t<td>10.3</td>\n",
       "\t\t<td>3.0</td>\n",
       "\t\t<td>3.37</td>\n",
       "\t\t<td>0.092</td>\n",
       "\t\t<td>0.12</td>\n",
       "\t\t<td>1</td>\n",
       "\t</tr>\n",
       "\t<tr>\n",
       "\t\t<td>7.5</td>\n",
       "\t\t<td>27.0</td>\n",
       "\t\t<td>0.58</td>\n",
       "\t\t<td>46.0</td>\n",
       "\t\t<td>0.99592</td>\n",
       "\t\t<td>0.47</td>\n",
       "\t\t<td>105</td>\n",
       "\t\t<td>9.2</td>\n",
       "\t\t<td>2.2</td>\n",
       "\t\t<td>3.02</td>\n",
       "\t\t<td>0.08</td>\n",
       "\t\t<td>0.03</td>\n",
       "\t\t<td>0</td>\n",
       "\t</tr>\n",
       "\t<tr>\n",
       "\t\t<td>7.5</td>\n",
       "\t\t<td>5.0</td>\n",
       "\t\t<td>0.38</td>\n",
       "\t\t<td>12.0</td>\n",
       "\t\t<td>0.99605</td>\n",
       "\t\t<td>0.55</td>\n",
       "\t\t<td>65</td>\n",
       "\t\t<td>11.4</td>\n",
       "\t\t<td>2.3</td>\n",
       "\t\t<td>3.36</td>\n",
       "\t\t<td>0.106</td>\n",
       "\t\t<td>0.57</td>\n",
       "\t\t<td>1</td>\n",
       "\t</tr>\n",
       "\t<tr>\n",
       "\t\t<td>7.5</td>\n",
       "\t\t<td>4.0</td>\n",
       "\t\t<td>0.27</td>\n",
       "\t\t<td>8.0</td>\n",
       "\t\t<td>0.9951</td>\n",
       "\t\t<td>0.64</td>\n",
       "\t\t<td>145</td>\n",
       "\t\t<td>11.0</td>\n",
       "\t\t<td>2.3</td>\n",
       "\t\t<td>3.4</td>\n",
       "\t\t<td>0.05</td>\n",
       "\t\t<td>0.34</td>\n",
       "\t\t<td>1</td>\n",
       "\t</tr>\n",
       "\t<tr>\n",
       "\t\t<td>7.5</td>\n",
       "\t\t<td>12.0</td>\n",
       "\t\t<td>0.52</td>\n",
       "\t\t<td>35.0</td>\n",
       "\t\t<td>0.9968</td>\n",
       "\t\t<td>0.62</td>\n",
       "\t\t<td>217</td>\n",
       "\t\t<td>9.5</td>\n",
       "\t\t<td>1.9</td>\n",
       "\t\t<td>3.38</td>\n",
       "\t\t<td>0.085</td>\n",
       "\t\t<td>0.16</td>\n",
       "\t\t<td>1</td>\n",
       "\t</tr>\n",
       "\t<tr>\n",
       "\t\t<td>7.5</td>\n",
       "\t\t<td>7.0</td>\n",
       "\t\t<td>0.42</td>\n",
       "\t\t<td>25.0</td>\n",
       "\t\t<td>0.99628</td>\n",
       "\t\t<td>0.44</td>\n",
       "\t\t<td>233</td>\n",
       "\t\t<td>10.4</td>\n",
       "\t\t<td>2.7</td>\n",
       "\t\t<td>3.24</td>\n",
       "\t\t<td>0.067</td>\n",
       "\t\t<td>0.32</td>\n",
       "\t\t<td>0</td>\n",
       "\t</tr>\n",
       "</table></html>"
      ],
      "text/plain": [
       "               free_sulfur_dioxide  volatile_acidity  total_sulfur_dioxide  density  sulphates   id  alcohol  residual_sugar    pH  chlorides  citric_acid  quality\n",
       "fixed_acidity                                                                                                                                                      \n",
       "7.5                           36.0              0.61                  60.0  0.99494       0.40  289      9.3             1.7  3.10      0.076         0.20        0\n",
       "7.5                           30.0              0.77                  92.0  0.99892       0.58  265      9.2             2.2  3.20      0.098         0.20        0\n",
       "7.5                           12.0              0.52                  20.0  0.99474       0.64  273     11.8             2.2  3.26      0.060         0.40        1\n",
       "7.5                           24.0              0.61                  88.0  0.99612       0.53  113      9.8             1.9  3.30      0.073         0.26        0\n",
       "7.5                           29.0              0.40                  53.0  0.99670       0.70   89     10.3             3.0  3.37      0.092         0.12        1\n",
       "7.5                           27.0              0.58                  46.0  0.99592       0.47  105      9.2             2.2  3.02      0.080         0.03        0\n",
       "7.5                            5.0              0.38                  12.0  0.99605       0.55   65     11.4             2.3  3.36      0.106         0.57        1\n",
       "7.5                            4.0              0.27                   8.0  0.99510       0.64  145     11.0             2.3  3.40      0.050         0.34        1\n",
       "7.5                           12.0              0.52                  35.0  0.99680       0.62  217      9.5             1.9  3.38      0.085         0.16        1\n",
       "7.5                            7.0              0.42                  25.0  0.99628       0.44  233     10.4             2.7  3.24      0.067         0.32        0"
      ]
     },
     "metadata": {},
     "output_type": "display_data"
    },
    {
     "name": "stdout",
     "output_type": "stream",
     "text": [
      "                                                                                         \r"
     ]
    },
    {
     "data": {
      "text/html": [
       "720 rows X 13 columns"
      ],
      "text/plain": [
       "<IPython.core.display.HTML object>"
      ]
     },
     "metadata": {},
     "output_type": "display_data"
    },
    {
     "name": "stdout",
     "output_type": "stream",
     "text": [
      "                                                                                         \r"
     ]
    },
    {
     "data": {
      "text/html": [
       "Time Taken by Outlier processing: 46.37 sec "
      ],
      "text/plain": [
       "<IPython.core.display.HTML object>"
      ]
     },
     "metadata": {},
     "output_type": "display_data"
    },
    {
     "name": "stdout",
     "output_type": "stream",
     "text": [
      "result data stored in table '\"ALICE\".\"ml__td_sqlmr_persist_out__171993642549281\"'% - 8/15\n",
      "result data stored in table '\"ALICE\".\"ml__td_sqlmr_persist_out__1719100834760017\"'\n",
      "                                                                                         \r"
     ]
    },
    {
     "data": {
      "text/html": [
       "\n",
       "Checking imbalance data ..."
      ],
      "text/plain": [
       "<IPython.core.display.HTML object>"
      ]
     },
     "metadata": {},
     "output_type": "display_data"
    },
    {
     "name": "stdout",
     "output_type": "stream",
     "text": [
      "                                                                                         \r"
     ]
    },
    {
     "data": {
      "text/html": [
       "Imbalance Not Found."
      ],
      "text/plain": [
       "<IPython.core.display.HTML object>"
      ]
     },
     "metadata": {},
     "output_type": "display_data"
    },
    {
     "name": "stdout",
     "output_type": "stream",
     "text": [
      "                                                                                          \r"
     ]
    },
    {
     "data": {
      "text/html": [
       "\n",
       "Feature selection using lasso ..."
      ],
      "text/plain": [
       "<IPython.core.display.HTML object>"
      ]
     },
     "metadata": {},
     "output_type": "display_data"
    },
    {
     "name": "stdout",
     "output_type": "stream",
     "text": [
      "                                                                                          \r"
     ]
    },
    {
     "data": {
      "text/html": [
       "feature selected by lasso:"
      ],
      "text/plain": [
       "<IPython.core.display.HTML object>"
      ]
     },
     "metadata": {},
     "output_type": "display_data"
    },
    {
     "name": "stdout",
     "output_type": "stream",
     "text": [
      "['fixed_acidity', 'free_sulfur_dioxide', 'volatile_acidity', 'density', 'total_sulfur_dioxide', 'sulphates', 'alcohol', 'residual_sugar', 'pH', 'chlorides', 'citric_acid']\n",
      "                                                                                          \r"
     ]
    },
    {
     "data": {
      "text/html": [
       "Total time taken by feature selection: 6.38 sec  "
      ],
      "text/plain": [
       "<IPython.core.display.HTML object>"
      ]
     },
     "metadata": {},
     "output_type": "display_data"
    },
    {
     "name": "stdout",
     "output_type": "stream",
     "text": [
      "                                                                                          \r"
     ]
    },
    {
     "data": {
      "text/html": [
       "\n",
       "scaling Features of lasso data ..."
      ],
      "text/plain": [
       "<IPython.core.display.HTML object>"
      ]
     },
     "metadata": {},
     "output_type": "display_data"
    },
    {
     "name": "stdout",
     "output_type": "stream",
     "text": [
      "                                                                                          \r"
     ]
    },
    {
     "data": {
      "text/html": [
       "columns that will be scaled: "
      ],
      "text/plain": [
       "<IPython.core.display.HTML object>"
      ]
     },
     "metadata": {},
     "output_type": "display_data"
    },
    {
     "name": "stdout",
     "output_type": "stream",
     "text": [
      "['fixed_acidity', 'free_sulfur_dioxide', 'volatile_acidity', 'density', 'total_sulfur_dioxide', 'sulphates', 'alcohol', 'residual_sugar', 'pH', 'chlorides', 'citric_acid']\n",
      "                                                                                          \r"
     ]
    },
    {
     "data": {
      "text/html": [
       "Training dataset sample after scaling:"
      ],
      "text/plain": [
       "<IPython.core.display.HTML object>"
      ]
     },
     "metadata": {},
     "output_type": "display_data"
    },
    {
     "data": {
      "text/html": [
       "<style type=\"text/css\">\n",
       "\ttable {border:ridge 5px;}\n",
       "\ttable td {border:inset 1px;}\n",
       "\ttable tr#HeaderRow {background-color:grey; color:white;}</style>\n",
       "<html><table>\n",
       "\t<tr id=\"HeaderRow\">\n",
       "\t\t<th>quality</th>\n",
       "\t\t<th>id</th>\n",
       "\t\t<th>fixed_acidity</th>\n",
       "\t\t<th>free_sulfur_dioxide</th>\n",
       "\t\t<th>volatile_acidity</th>\n",
       "\t\t<th>density</th>\n",
       "\t\t<th>total_sulfur_dioxide</th>\n",
       "\t\t<th>sulphates</th>\n",
       "\t\t<th>alcohol</th>\n",
       "\t\t<th>residual_sugar</th>\n",
       "\t\t<th>pH</th>\n",
       "\t\t<th>chlorides</th>\n",
       "\t\t<th>citric_acid</th>\n",
       "\t</tr>\n",
       "\t<tr>\n",
       "\t\t<td>0</td>\n",
       "\t\t<td>12</td>\n",
       "\t\t<td>0.47142857142857153</td>\n",
       "\t\t<td>0.17073170731707318</td>\n",
       "\t\t<td>0.192090395480226</td>\n",
       "\t\t<td>0.4252873563218467</td>\n",
       "\t\t<td>0.11475409836065574</td>\n",
       "\t\t<td>0.3709677419354838</td>\n",
       "\t\t<td>0.3829787234042554</td>\n",
       "\t\t<td>0.20833333333333331</td>\n",
       "\t\t<td>0.6081081081081082</td>\n",
       "\t\t<td>0.3246753246753248</td>\n",
       "\t\t<td>0.5263157894736842</td>\n",
       "\t</tr>\n",
       "\t<tr>\n",
       "\t\t<td>0</td>\n",
       "\t\t<td>15</td>\n",
       "\t\t<td>0.4428571428571428</td>\n",
       "\t\t<td>0.14634146341463414</td>\n",
       "\t\t<td>0.8644067796610171</td>\n",
       "\t\t<td>0.2643678160919653</td>\n",
       "\t\t<td>0.20491803278688525</td>\n",
       "\t\t<td>0.14516129032258068</td>\n",
       "\t\t<td>0.27659574468085113</td>\n",
       "\t\t<td>0.0833333333333333</td>\n",
       "\t\t<td>0.22972972972972958</td>\n",
       "\t\t<td>0.5714285714285714</td>\n",
       "\t\t<td>0.2631578947368421</td>\n",
       "\t</tr>\n",
       "\t<tr>\n",
       "\t\t<td>1</td>\n",
       "\t\t<td>17</td>\n",
       "\t\t<td>0.3428571428571429</td>\n",
       "\t\t<td>0.17073170731707318</td>\n",
       "\t\t<td>0.45197740112994356</td>\n",
       "\t\t<td>0.563218390804604</td>\n",
       "\t\t<td>0.26229508196721313</td>\n",
       "\t\t<td>0.3870967741935484</td>\n",
       "\t\t<td>0.3829787234042554</td>\n",
       "\t\t<td>0.4583333333333332</td>\n",
       "\t\t<td>0.8648648648648648</td>\n",
       "\t\t<td>0.5844155844155844</td>\n",
       "\t\t<td>0.5526315789473684</td>\n",
       "\t</tr>\n",
       "\t<tr>\n",
       "\t\t<td>1</td>\n",
       "\t\t<td>18</td>\n",
       "\t\t<td>0.7714285714285715</td>\n",
       "\t\t<td>0.21951219512195122</td>\n",
       "\t\t<td>0.18079096045197746</td>\n",
       "\t\t<td>0.6781609195402373</td>\n",
       "\t\t<td>0.14754098360655737</td>\n",
       "\t\t<td>0.8387096774193549</td>\n",
       "\t\t<td>0.14893617021276614</td>\n",
       "\t\t<td>0.20833333333333331</td>\n",
       "\t\t<td>0.35135135135135154</td>\n",
       "\t\t<td>0.4935064935064936</td>\n",
       "\t\t<td>0.6710526315789473</td>\n",
       "\t</tr>\n",
       "\t<tr>\n",
       "\t\t<td>0</td>\n",
       "\t\t<td>20</td>\n",
       "\t\t<td>0.47142857142857153</td>\n",
       "\t\t<td>0.36585365853658536</td>\n",
       "\t\t<td>0.497175141242938</td>\n",
       "\t\t<td>0.40229885057472264</td>\n",
       "\t\t<td>0.3114754098360656</td>\n",
       "\t\t<td>0.24193548387096778</td>\n",
       "\t\t<td>0.4893617021276596</td>\n",
       "\t\t<td>0.375</td>\n",
       "\t\t<td>0.25675675675675663</td>\n",
       "\t\t<td>0.8181818181818183</td>\n",
       "\t\t<td>0.10526315789473684</td>\n",
       "\t</tr>\n",
       "\t<tr>\n",
       "\t\t<td>1</td>\n",
       "\t\t<td>22</td>\n",
       "\t\t<td>0.5571428571428572</td>\n",
       "\t\t<td>0.43902439024390244</td>\n",
       "\t\t<td>0.38418079096045205</td>\n",
       "\t\t<td>0.6666666666666752</td>\n",
       "\t\t<td>0.7540983606557377</td>\n",
       "\t\t<td>0.41935483870967744</td>\n",
       "\t\t<td>0.17021276595744692</td>\n",
       "\t\t<td>0.6666666666666665</td>\n",
       "\t\t<td>0.5135135135135133</td>\n",
       "\t\t<td>0.6623376623376624</td>\n",
       "\t\t<td>0.40789473684210525</td>\n",
       "\t</tr>\n",
       "\t<tr>\n",
       "\t\t<td>0</td>\n",
       "\t\t<td>19</td>\n",
       "\t\t<td>0.3285714285714287</td>\n",
       "\t\t<td>0.4146341463414634</td>\n",
       "\t\t<td>0.3276836158192091</td>\n",
       "\t\t<td>0.3793103448275985</td>\n",
       "\t\t<td>0.3360655737704918</td>\n",
       "\t\t<td>0.40322580645161293</td>\n",
       "\t\t<td>0.3617021276595746</td>\n",
       "\t\t<td>0.25</td>\n",
       "\t\t<td>0.5810810810810811</td>\n",
       "\t\t<td>0.31168831168831174</td>\n",
       "\t\t<td>0.3157894736842105</td>\n",
       "\t</tr>\n",
       "\t<tr>\n",
       "\t\t<td>0</td>\n",
       "\t\t<td>14</td>\n",
       "\t\t<td>0.5571428571428572</td>\n",
       "\t\t<td>0.0975609756097561</td>\n",
       "\t\t<td>0.6101694915254239</td>\n",
       "\t\t<td>0.6091954022988649</td>\n",
       "\t\t<td>0.05737704918032787</td>\n",
       "\t\t<td>0.29032258064516137</td>\n",
       "\t\t<td>0.3617021276595746</td>\n",
       "\t\t<td>0.7499999999999999</td>\n",
       "\t\t<td>0.47297297297297297</td>\n",
       "\t\t<td>0.4545454545454546</td>\n",
       "\t\t<td>0.2236842105263158</td>\n",
       "\t</tr>\n",
       "\t<tr>\n",
       "\t\t<td>0</td>\n",
       "\t\t<td>11</td>\n",
       "\t\t<td>0.3285714285714287</td>\n",
       "\t\t<td>0.6097560975609756</td>\n",
       "\t\t<td>0.2711864406779661</td>\n",
       "\t\t<td>0.4712643678160949</td>\n",
       "\t\t<td>0.5409836065573771</td>\n",
       "\t\t<td>0.5000000000000001</td>\n",
       "\t\t<td>0.4893617021276596</td>\n",
       "\t\t<td>0.5833333333333333</td>\n",
       "\t\t<td>0.6081081081081082</td>\n",
       "\t\t<td>0.5844155844155844</td>\n",
       "\t\t<td>0.381578947368421</td>\n",
       "\t</tr>\n",
       "\t<tr>\n",
       "\t\t<td>1</td>\n",
       "\t\t<td>10</td>\n",
       "\t\t<td>0.7714285714285715</td>\n",
       "\t\t<td>0.12195121951219512</td>\n",
       "\t\t<td>0.13559322033898305</td>\n",
       "\t\t<td>0.632183908045989</td>\n",
       "\t\t<td>0.14754098360655737</td>\n",
       "\t\t<td>0.8548387096774194</td>\n",
       "\t\t<td>0.4893617021276596</td>\n",
       "\t\t<td>0.375</td>\n",
       "\t\t<td>0.28378378378378366</td>\n",
       "\t\t<td>0.31168831168831174</td>\n",
       "\t\t<td>0.6184210526315789</td>\n",
       "\t</tr>\n",
       "</table></html>"
      ],
      "text/plain": [
       "   quality  id  fixed_acidity  free_sulfur_dioxide  volatile_acidity   density  total_sulfur_dioxide  sulphates   alcohol  residual_sugar        pH  chlorides  citric_acid\n",
       "0        0  12       0.471429             0.170732          0.192090  0.425287              0.114754   0.370968  0.382979        0.208333  0.608108   0.324675     0.526316\n",
       "1        0  15       0.442857             0.146341          0.864407  0.264368              0.204918   0.145161  0.276596        0.083333  0.229730   0.571429     0.263158\n",
       "2        1  17       0.342857             0.170732          0.451977  0.563218              0.262295   0.387097  0.382979        0.458333  0.864865   0.584416     0.552632\n",
       "3        1  18       0.771429             0.219512          0.180791  0.678161              0.147541   0.838710  0.148936        0.208333  0.351351   0.493506     0.671053\n",
       "4        0  20       0.471429             0.365854          0.497175  0.402299              0.311475   0.241935  0.489362        0.375000  0.256757   0.818182     0.105263\n",
       "5        1  22       0.557143             0.439024          0.384181  0.666667              0.754098   0.419355  0.170213        0.666667  0.513514   0.662338     0.407895\n",
       "6        0  19       0.328571             0.414634          0.327684  0.379310              0.336066   0.403226  0.361702        0.250000  0.581081   0.311688     0.315789\n",
       "7        0  14       0.557143             0.097561          0.610169  0.609195              0.057377   0.290323  0.361702        0.750000  0.472973   0.454545     0.223684\n",
       "8        0  11       0.328571             0.609756          0.271186  0.471264              0.540984   0.500000  0.489362        0.583333  0.608108   0.584416     0.381579\n",
       "9        1  10       0.771429             0.121951          0.135593  0.632184              0.147541   0.854839  0.489362        0.375000  0.283784   0.311688     0.618421"
      ]
     },
     "metadata": {},
     "output_type": "display_data"
    },
    {
     "name": "stdout",
     "output_type": "stream",
     "text": [
      "                                                                                          \r"
     ]
    },
    {
     "data": {
      "text/html": [
       "720 rows X 13 columns"
      ],
      "text/plain": [
       "<IPython.core.display.HTML object>"
      ]
     },
     "metadata": {},
     "output_type": "display_data"
    },
    {
     "name": "stdout",
     "output_type": "stream",
     "text": [
      "                                                                                          \r"
     ]
    },
    {
     "data": {
      "text/html": [
       "Testing dataset sample after scaling:"
      ],
      "text/plain": [
       "<IPython.core.display.HTML object>"
      ]
     },
     "metadata": {},
     "output_type": "display_data"
    },
    {
     "data": {
      "text/html": [
       "<style type=\"text/css\">\n",
       "\ttable {border:ridge 5px;}\n",
       "\ttable td {border:inset 1px;}\n",
       "\ttable tr#HeaderRow {background-color:grey; color:white;}</style>\n",
       "<html><table>\n",
       "\t<tr id=\"HeaderRow\">\n",
       "\t\t<th>quality</th>\n",
       "\t\t<th>id</th>\n",
       "\t\t<th>fixed_acidity</th>\n",
       "\t\t<th>free_sulfur_dioxide</th>\n",
       "\t\t<th>volatile_acidity</th>\n",
       "\t\t<th>density</th>\n",
       "\t\t<th>total_sulfur_dioxide</th>\n",
       "\t\t<th>sulphates</th>\n",
       "\t\t<th>alcohol</th>\n",
       "\t\t<th>residual_sugar</th>\n",
       "\t\t<th>pH</th>\n",
       "\t\t<th>chlorides</th>\n",
       "\t\t<th>citric_acid</th>\n",
       "\t</tr>\n",
       "\t<tr>\n",
       "\t\t<td>1</td>\n",
       "\t\t<td>485</td>\n",
       "\t\t<td>0.25714285714285723</td>\n",
       "\t\t<td>0.3170731707317073</td>\n",
       "\t\t<td>0.5762711864406781</td>\n",
       "\t\t<td>0.3333333333333376</td>\n",
       "\t\t<td>0.27049180327868855</td>\n",
       "\t\t<td>0.2580645161290323</td>\n",
       "\t\t<td>0.4468085106382981</td>\n",
       "\t\t<td>0.4999999999999999</td>\n",
       "\t\t<td>0.5405405405405402</td>\n",
       "\t\t<td>0.4415584415584416</td>\n",
       "\t\t<td>0.013157894736842105</td>\n",
       "\t</tr>\n",
       "\t<tr>\n",
       "\t\t<td>1</td>\n",
       "\t\t<td>541</td>\n",
       "\t\t<td>0.25714285714285723</td>\n",
       "\t\t<td>0.12195121951219512</td>\n",
       "\t\t<td>0.37288135593220345</td>\n",
       "\t\t<td>0.13793103448277005</td>\n",
       "\t\t<td>0.04918032786885246</td>\n",
       "\t\t<td>0.4516129032258065</td>\n",
       "\t\t<td>0.574468085106383</td>\n",
       "\t\t<td>0.4999999999999999</td>\n",
       "\t\t<td>0.4864864864864862</td>\n",
       "\t\t<td>0.012987012987012912</td>\n",
       "\t\t<td>0.14473684210526316</td>\n",
       "\t</tr>\n",
       "\t<tr>\n",
       "\t\t<td>0</td>\n",
       "\t\t<td>717</td>\n",
       "\t\t<td>0.8571428571428571</td>\n",
       "\t\t<td>0.4878048780487805</td>\n",
       "\t\t<td>0.30508474576271194</td>\n",
       "\t\t<td>0.8965517241379416</td>\n",
       "\t\t<td>0.7786885245901639</td>\n",
       "\t\t<td>0.22580645161290325</td>\n",
       "\t\t<td>0.17021276595744692</td>\n",
       "\t\t<td>0.625</td>\n",
       "\t\t<td>0.25675675675675663</td>\n",
       "\t\t<td>0.6883116883116884</td>\n",
       "\t\t<td>0.7105263157894737</td>\n",
       "\t</tr>\n",
       "\t<tr>\n",
       "\t\t<td>1</td>\n",
       "\t\t<td>549</td>\n",
       "\t\t<td>0.25714285714285723</td>\n",
       "\t\t<td>0.2926829268292683</td>\n",
       "\t\t<td>0.4180790960451978</td>\n",
       "\t\t<td>0.3678160919540365</td>\n",
       "\t\t<td>0.16393442622950818</td>\n",
       "\t\t<td>0.435483870967742</td>\n",
       "\t\t<td>0.23404255319148962</td>\n",
       "\t\t<td>0.20833333333333331</td>\n",
       "\t\t<td>0.5945945945945944</td>\n",
       "\t\t<td>0.48051948051948057</td>\n",
       "\t\t<td>0.25</td>\n",
       "\t</tr>\n",
       "\t<tr>\n",
       "\t\t<td>1</td>\n",
       "\t\t<td>573</td>\n",
       "\t\t<td>0.25714285714285723</td>\n",
       "\t\t<td>0.12195121951219512</td>\n",
       "\t\t<td>0.5819209039548023</td>\n",
       "\t\t<td>0.43678160919540876</td>\n",
       "\t\t<td>0.09836065573770492</td>\n",
       "\t\t<td>0.3548387096774193</td>\n",
       "\t\t<td>0.34042553191489383</td>\n",
       "\t\t<td>0.4999999999999999</td>\n",
       "\t\t<td>0.6216216216216214</td>\n",
       "\t\t<td>2.5844155844155847</td>\n",
       "\t\t<td>0.2236842105263158</td>\n",
       "\t</tr>\n",
       "\t<tr>\n",
       "\t\t<td>0</td>\n",
       "\t\t<td>797</td>\n",
       "\t\t<td>-0.014285714285714235</td>\n",
       "\t\t<td>0.7560975609756098</td>\n",
       "\t\t<td>1.0395480225988702</td>\n",
       "\t\t<td>0.12643678160919525</td>\n",
       "\t\t<td>0.7377049180327869</td>\n",
       "\t\t<td>0.40322580645161293</td>\n",
       "\t\t<td>0.5957446808510638</td>\n",
       "\t\t<td>0.16666666666666669</td>\n",
       "\t\t<td>1.0810810810810811</td>\n",
       "\t\t<td>0.10389610389610392</td>\n",
       "\t\t<td>0.3157894736842105</td>\n",
       "\t</tr>\n",
       "\t<tr>\n",
       "\t\t<td>0</td>\n",
       "\t\t<td>733</td>\n",
       "\t\t<td>0.8571428571428571</td>\n",
       "\t\t<td>0.0975609756097561</td>\n",
       "\t\t<td>0.2598870056497175</td>\n",
       "\t\t<td>0.7241379310344982</td>\n",
       "\t\t<td>0.12295081967213115</td>\n",
       "\t\t<td>0.2580645161290323</td>\n",
       "\t\t<td>0.3829787234042554</td>\n",
       "\t\t<td>0.7916666666666666</td>\n",
       "\t\t<td>0.3108108108108107</td>\n",
       "\t\t<td>0.6233766233766235</td>\n",
       "\t\t<td>0.631578947368421</td>\n",
       "\t</tr>\n",
       "\t<tr>\n",
       "\t\t<td>0</td>\n",
       "\t\t<td>669</td>\n",
       "\t\t<td>0.25714285714285723</td>\n",
       "\t\t<td>0.43902439024390244</td>\n",
       "\t\t<td>0.4858757062146894</td>\n",
       "\t\t<td>0.43678160919540876</td>\n",
       "\t\t<td>0.2786885245901639</td>\n",
       "\t\t<td>0.3548387096774193</td>\n",
       "\t\t<td>0.2978723404255319</td>\n",
       "\t\t<td>0.4166666666666667</td>\n",
       "\t\t<td>0.6351351351351352</td>\n",
       "\t\t<td>0.4415584415584416</td>\n",
       "\t\t<td>0.19736842105263158</td>\n",
       "\t</tr>\n",
       "\t<tr>\n",
       "\t\t<td>0</td>\n",
       "\t\t<td>373</td>\n",
       "\t\t<td>0.9857142857142858</td>\n",
       "\t\t<td>0.12195121951219512</td>\n",
       "\t\t<td>0.5762711864406781</td>\n",
       "\t\t<td>0.6436781609195511</td>\n",
       "\t\t<td>0.16393442622950818</td>\n",
       "\t\t<td>0.3709677419354838</td>\n",
       "\t\t<td>0.3617021276595746</td>\n",
       "\t\t<td>0.0833333333333333</td>\n",
       "\t\t<td>0.1756756756756755</td>\n",
       "\t\t<td>0.3766233766233766</td>\n",
       "\t\t<td>0.6578947368421053</td>\n",
       "\t</tr>\n",
       "\t<tr>\n",
       "\t\t<td>1</td>\n",
       "\t\t<td>213</td>\n",
       "\t\t<td>0.9714285714285715</td>\n",
       "\t\t<td>0.2682926829268293</td>\n",
       "\t\t<td>0.2824858757062147</td>\n",
       "\t\t<td>0.40229885057472264</td>\n",
       "\t\t<td>0.14754098360655737</td>\n",
       "\t\t<td>0.4516129032258065</td>\n",
       "\t\t<td>0.872340425531915</td>\n",
       "\t\t<td>0.4583333333333332</td>\n",
       "\t\t<td>0.08108108108108113</td>\n",
       "\t\t<td>0.4675324675324676</td>\n",
       "\t\t<td>0.9078947368421052</td>\n",
       "\t</tr>\n",
       "</table></html>"
      ],
      "text/plain": [
       "   quality   id  fixed_acidity  free_sulfur_dioxide  volatile_acidity   density  total_sulfur_dioxide  sulphates   alcohol  residual_sugar        pH  chlorides  citric_acid\n",
       "0        1  485       0.257143             0.317073          0.576271  0.333333              0.270492   0.258065  0.446809        0.500000  0.540541   0.441558     0.013158\n",
       "1        1  541       0.257143             0.121951          0.372881  0.137931              0.049180   0.451613  0.574468        0.500000  0.486486   0.012987     0.144737\n",
       "2        0  717       0.857143             0.487805          0.305085  0.896552              0.778689   0.225806  0.170213        0.625000  0.256757   0.688312     0.710526\n",
       "3        1  549       0.257143             0.292683          0.418079  0.367816              0.163934   0.435484  0.234043        0.208333  0.594595   0.480519     0.250000\n",
       "4        1  573       0.257143             0.121951          0.581921  0.436782              0.098361   0.354839  0.340426        0.500000  0.621622   2.584416     0.223684\n",
       "5        0  797      -0.014286             0.756098          1.039548  0.126437              0.737705   0.403226  0.595745        0.166667  1.081081   0.103896     0.315789\n",
       "6        0  733       0.857143             0.097561          0.259887  0.724138              0.122951   0.258065  0.382979        0.791667  0.310811   0.623377     0.631579\n",
       "7        0  669       0.257143             0.439024          0.485876  0.436782              0.278689   0.354839  0.297872        0.416667  0.635135   0.441558     0.197368\n",
       "8        0  373       0.985714             0.121951          0.576271  0.643678              0.163934   0.370968  0.361702        0.083333  0.175676   0.376623     0.657895\n",
       "9        1  213       0.971429             0.268293          0.282486  0.402299              0.147541   0.451613  0.872340        0.458333  0.081081   0.467532     0.907895"
      ]
     },
     "metadata": {},
     "output_type": "display_data"
    },
    {
     "name": "stdout",
     "output_type": "stream",
     "text": [
      "                                                                                          \r"
     ]
    },
    {
     "data": {
      "text/html": [
       "222 rows X 13 columns"
      ],
      "text/plain": [
       "<IPython.core.display.HTML object>"
      ]
     },
     "metadata": {},
     "output_type": "display_data"
    },
    {
     "name": "stdout",
     "output_type": "stream",
     "text": [
      "                                                                                          \r"
     ]
    },
    {
     "data": {
      "text/html": [
       "Total time taken by feature scaling: 43.69 sec"
      ],
      "text/plain": [
       "<IPython.core.display.HTML object>"
      ]
     },
     "metadata": {},
     "output_type": "display_data"
    },
    {
     "name": "stdout",
     "output_type": "stream",
     "text": [
      "                                                                                          \r"
     ]
    },
    {
     "data": {
      "text/html": [
       "\n",
       "Feature selection using rfe ..."
      ],
      "text/plain": [
       "<IPython.core.display.HTML object>"
      ]
     },
     "metadata": {},
     "output_type": "display_data"
    },
    {
     "name": "stdout",
     "output_type": "stream",
     "text": [
      "                                                                                          \r"
     ]
    },
    {
     "data": {
      "text/html": [
       "feature selected by RFE:"
      ],
      "text/plain": [
       "<IPython.core.display.HTML object>"
      ]
     },
     "metadata": {},
     "output_type": "display_data"
    },
    {
     "name": "stdout",
     "output_type": "stream",
     "text": [
      "['fixed_acidity', 'free_sulfur_dioxide', 'volatile_acidity', 'total_sulfur_dioxide', 'density', 'sulphates', 'alcohol', 'pH', 'chlorides', 'citric_acid']\n",
      "                                                                                          \r"
     ]
    },
    {
     "data": {
      "text/html": [
       "Total time taken by feature selection: 34.82 sec  "
      ],
      "text/plain": [
       "<IPython.core.display.HTML object>"
      ]
     },
     "metadata": {},
     "output_type": "display_data"
    },
    {
     "name": "stdout",
     "output_type": "stream",
     "text": [
      "                                                                                          \r"
     ]
    },
    {
     "data": {
      "text/html": [
       "\n",
       "scaling Features of rfe data ..."
      ],
      "text/plain": [
       "<IPython.core.display.HTML object>"
      ]
     },
     "metadata": {},
     "output_type": "display_data"
    },
    {
     "name": "stdout",
     "output_type": "stream",
     "text": [
      "                                                                                          \r"
     ]
    },
    {
     "data": {
      "text/html": [
       "columns that will be scaled: "
      ],
      "text/plain": [
       "<IPython.core.display.HTML object>"
      ]
     },
     "metadata": {},
     "output_type": "display_data"
    },
    {
     "name": "stdout",
     "output_type": "stream",
     "text": [
      "['r_fixed_acidity', 'r_free_sulfur_dioxide', 'r_volatile_acidity', 'r_total_sulfur_dioxide', 'r_density', 'r_sulphates', 'r_alcohol', 'r_pH', 'r_chlorides', 'r_citric_acid']\n",
      "                                                                                          \r"
     ]
    },
    {
     "data": {
      "text/html": [
       "Training dataset sample after scaling:"
      ],
      "text/plain": [
       "<IPython.core.display.HTML object>"
      ]
     },
     "metadata": {},
     "output_type": "display_data"
    },
    {
     "data": {
      "text/html": [
       "<style type=\"text/css\">\n",
       "\ttable {border:ridge 5px;}\n",
       "\ttable td {border:inset 1px;}\n",
       "\ttable tr#HeaderRow {background-color:grey; color:white;}</style>\n",
       "<html><table>\n",
       "\t<tr id=\"HeaderRow\">\n",
       "\t\t<th>quality</th>\n",
       "\t\t<th>id</th>\n",
       "\t\t<th>r_fixed_acidity</th>\n",
       "\t\t<th>r_free_sulfur_dioxide</th>\n",
       "\t\t<th>r_volatile_acidity</th>\n",
       "\t\t<th>r_total_sulfur_dioxide</th>\n",
       "\t\t<th>r_density</th>\n",
       "\t\t<th>r_sulphates</th>\n",
       "\t\t<th>r_alcohol</th>\n",
       "\t\t<th>r_pH</th>\n",
       "\t\t<th>r_chlorides</th>\n",
       "\t\t<th>r_citric_acid</th>\n",
       "\t</tr>\n",
       "\t<tr>\n",
       "\t\t<td>0</td>\n",
       "\t\t<td>12</td>\n",
       "\t\t<td>0.47142857142857153</td>\n",
       "\t\t<td>0.17073170731707318</td>\n",
       "\t\t<td>0.192090395480226</td>\n",
       "\t\t<td>0.11475409836065574</td>\n",
       "\t\t<td>0.4252873563218467</td>\n",
       "\t\t<td>0.3709677419354838</td>\n",
       "\t\t<td>0.3829787234042554</td>\n",
       "\t\t<td>0.6081081081081082</td>\n",
       "\t\t<td>0.3246753246753248</td>\n",
       "\t\t<td>0.5263157894736842</td>\n",
       "\t</tr>\n",
       "\t<tr>\n",
       "\t\t<td>0</td>\n",
       "\t\t<td>15</td>\n",
       "\t\t<td>0.4428571428571428</td>\n",
       "\t\t<td>0.14634146341463414</td>\n",
       "\t\t<td>0.8644067796610171</td>\n",
       "\t\t<td>0.20491803278688525</td>\n",
       "\t\t<td>0.2643678160919653</td>\n",
       "\t\t<td>0.14516129032258068</td>\n",
       "\t\t<td>0.27659574468085113</td>\n",
       "\t\t<td>0.22972972972972958</td>\n",
       "\t\t<td>0.5714285714285714</td>\n",
       "\t\t<td>0.2631578947368421</td>\n",
       "\t</tr>\n",
       "\t<tr>\n",
       "\t\t<td>1</td>\n",
       "\t\t<td>17</td>\n",
       "\t\t<td>0.3428571428571429</td>\n",
       "\t\t<td>0.17073170731707318</td>\n",
       "\t\t<td>0.45197740112994356</td>\n",
       "\t\t<td>0.26229508196721313</td>\n",
       "\t\t<td>0.563218390804604</td>\n",
       "\t\t<td>0.3870967741935484</td>\n",
       "\t\t<td>0.3829787234042554</td>\n",
       "\t\t<td>0.8648648648648648</td>\n",
       "\t\t<td>0.5844155844155844</td>\n",
       "\t\t<td>0.5526315789473684</td>\n",
       "\t</tr>\n",
       "\t<tr>\n",
       "\t\t<td>1</td>\n",
       "\t\t<td>18</td>\n",
       "\t\t<td>0.7714285714285715</td>\n",
       "\t\t<td>0.21951219512195122</td>\n",
       "\t\t<td>0.18079096045197746</td>\n",
       "\t\t<td>0.14754098360655737</td>\n",
       "\t\t<td>0.6781609195402373</td>\n",
       "\t\t<td>0.8387096774193549</td>\n",
       "\t\t<td>0.14893617021276614</td>\n",
       "\t\t<td>0.35135135135135154</td>\n",
       "\t\t<td>0.4935064935064936</td>\n",
       "\t\t<td>0.6710526315789473</td>\n",
       "\t</tr>\n",
       "\t<tr>\n",
       "\t\t<td>0</td>\n",
       "\t\t<td>20</td>\n",
       "\t\t<td>0.47142857142857153</td>\n",
       "\t\t<td>0.36585365853658536</td>\n",
       "\t\t<td>0.497175141242938</td>\n",
       "\t\t<td>0.3114754098360656</td>\n",
       "\t\t<td>0.40229885057472264</td>\n",
       "\t\t<td>0.24193548387096778</td>\n",
       "\t\t<td>0.4893617021276596</td>\n",
       "\t\t<td>0.25675675675675663</td>\n",
       "\t\t<td>0.8181818181818183</td>\n",
       "\t\t<td>0.10526315789473684</td>\n",
       "\t</tr>\n",
       "\t<tr>\n",
       "\t\t<td>1</td>\n",
       "\t\t<td>22</td>\n",
       "\t\t<td>0.5571428571428572</td>\n",
       "\t\t<td>0.43902439024390244</td>\n",
       "\t\t<td>0.38418079096045205</td>\n",
       "\t\t<td>0.7540983606557377</td>\n",
       "\t\t<td>0.6666666666666752</td>\n",
       "\t\t<td>0.41935483870967744</td>\n",
       "\t\t<td>0.17021276595744692</td>\n",
       "\t\t<td>0.5135135135135133</td>\n",
       "\t\t<td>0.6623376623376624</td>\n",
       "\t\t<td>0.40789473684210525</td>\n",
       "\t</tr>\n",
       "\t<tr>\n",
       "\t\t<td>0</td>\n",
       "\t\t<td>19</td>\n",
       "\t\t<td>0.3285714285714287</td>\n",
       "\t\t<td>0.4146341463414634</td>\n",
       "\t\t<td>0.3276836158192091</td>\n",
       "\t\t<td>0.3360655737704918</td>\n",
       "\t\t<td>0.3793103448275985</td>\n",
       "\t\t<td>0.40322580645161293</td>\n",
       "\t\t<td>0.3617021276595746</td>\n",
       "\t\t<td>0.5810810810810811</td>\n",
       "\t\t<td>0.31168831168831174</td>\n",
       "\t\t<td>0.3157894736842105</td>\n",
       "\t</tr>\n",
       "\t<tr>\n",
       "\t\t<td>0</td>\n",
       "\t\t<td>14</td>\n",
       "\t\t<td>0.5571428571428572</td>\n",
       "\t\t<td>0.0975609756097561</td>\n",
       "\t\t<td>0.6101694915254239</td>\n",
       "\t\t<td>0.05737704918032787</td>\n",
       "\t\t<td>0.6091954022988649</td>\n",
       "\t\t<td>0.29032258064516137</td>\n",
       "\t\t<td>0.3617021276595746</td>\n",
       "\t\t<td>0.47297297297297297</td>\n",
       "\t\t<td>0.4545454545454546</td>\n",
       "\t\t<td>0.2236842105263158</td>\n",
       "\t</tr>\n",
       "\t<tr>\n",
       "\t\t<td>0</td>\n",
       "\t\t<td>11</td>\n",
       "\t\t<td>0.3285714285714287</td>\n",
       "\t\t<td>0.6097560975609756</td>\n",
       "\t\t<td>0.2711864406779661</td>\n",
       "\t\t<td>0.5409836065573771</td>\n",
       "\t\t<td>0.4712643678160949</td>\n",
       "\t\t<td>0.5000000000000001</td>\n",
       "\t\t<td>0.4893617021276596</td>\n",
       "\t\t<td>0.6081081081081082</td>\n",
       "\t\t<td>0.5844155844155844</td>\n",
       "\t\t<td>0.381578947368421</td>\n",
       "\t</tr>\n",
       "\t<tr>\n",
       "\t\t<td>1</td>\n",
       "\t\t<td>10</td>\n",
       "\t\t<td>0.7714285714285715</td>\n",
       "\t\t<td>0.12195121951219512</td>\n",
       "\t\t<td>0.13559322033898305</td>\n",
       "\t\t<td>0.14754098360655737</td>\n",
       "\t\t<td>0.632183908045989</td>\n",
       "\t\t<td>0.8548387096774194</td>\n",
       "\t\t<td>0.4893617021276596</td>\n",
       "\t\t<td>0.28378378378378366</td>\n",
       "\t\t<td>0.31168831168831174</td>\n",
       "\t\t<td>0.6184210526315789</td>\n",
       "\t</tr>\n",
       "</table></html>"
      ],
      "text/plain": [
       "   quality  id  r_fixed_acidity  r_free_sulfur_dioxide  r_volatile_acidity  r_total_sulfur_dioxide  r_density  r_sulphates  r_alcohol      r_pH  r_chlorides  r_citric_acid\n",
       "0        0  12         0.471429               0.170732            0.192090                0.114754   0.425287     0.370968   0.382979  0.608108     0.324675       0.526316\n",
       "1        0  15         0.442857               0.146341            0.864407                0.204918   0.264368     0.145161   0.276596  0.229730     0.571429       0.263158\n",
       "2        1  17         0.342857               0.170732            0.451977                0.262295   0.563218     0.387097   0.382979  0.864865     0.584416       0.552632\n",
       "3        1  18         0.771429               0.219512            0.180791                0.147541   0.678161     0.838710   0.148936  0.351351     0.493506       0.671053\n",
       "4        0  20         0.471429               0.365854            0.497175                0.311475   0.402299     0.241935   0.489362  0.256757     0.818182       0.105263\n",
       "5        1  22         0.557143               0.439024            0.384181                0.754098   0.666667     0.419355   0.170213  0.513514     0.662338       0.407895\n",
       "6        0  19         0.328571               0.414634            0.327684                0.336066   0.379310     0.403226   0.361702  0.581081     0.311688       0.315789\n",
       "7        0  14         0.557143               0.097561            0.610169                0.057377   0.609195     0.290323   0.361702  0.472973     0.454545       0.223684\n",
       "8        0  11         0.328571               0.609756            0.271186                0.540984   0.471264     0.500000   0.489362  0.608108     0.584416       0.381579\n",
       "9        1  10         0.771429               0.121951            0.135593                0.147541   0.632184     0.854839   0.489362  0.283784     0.311688       0.618421"
      ]
     },
     "metadata": {},
     "output_type": "display_data"
    },
    {
     "name": "stdout",
     "output_type": "stream",
     "text": [
      "                                                                                          \r"
     ]
    },
    {
     "data": {
      "text/html": [
       "720 rows X 12 columns"
      ],
      "text/plain": [
       "<IPython.core.display.HTML object>"
      ]
     },
     "metadata": {},
     "output_type": "display_data"
    },
    {
     "name": "stdout",
     "output_type": "stream",
     "text": [
      "                                                                                          \r"
     ]
    },
    {
     "data": {
      "text/html": [
       "Testing dataset sample after scaling:"
      ],
      "text/plain": [
       "<IPython.core.display.HTML object>"
      ]
     },
     "metadata": {},
     "output_type": "display_data"
    },
    {
     "data": {
      "text/html": [
       "<style type=\"text/css\">\n",
       "\ttable {border:ridge 5px;}\n",
       "\ttable td {border:inset 1px;}\n",
       "\ttable tr#HeaderRow {background-color:grey; color:white;}</style>\n",
       "<html><table>\n",
       "\t<tr id=\"HeaderRow\">\n",
       "\t\t<th>quality</th>\n",
       "\t\t<th>id</th>\n",
       "\t\t<th>r_fixed_acidity</th>\n",
       "\t\t<th>r_free_sulfur_dioxide</th>\n",
       "\t\t<th>r_volatile_acidity</th>\n",
       "\t\t<th>r_total_sulfur_dioxide</th>\n",
       "\t\t<th>r_density</th>\n",
       "\t\t<th>r_sulphates</th>\n",
       "\t\t<th>r_alcohol</th>\n",
       "\t\t<th>r_pH</th>\n",
       "\t\t<th>r_chlorides</th>\n",
       "\t\t<th>r_citric_acid</th>\n",
       "\t</tr>\n",
       "\t<tr>\n",
       "\t\t<td>1</td>\n",
       "\t\t<td>485</td>\n",
       "\t\t<td>0.25714285714285723</td>\n",
       "\t\t<td>0.3170731707317073</td>\n",
       "\t\t<td>0.5762711864406781</td>\n",
       "\t\t<td>0.27049180327868855</td>\n",
       "\t\t<td>0.3333333333333376</td>\n",
       "\t\t<td>0.2580645161290323</td>\n",
       "\t\t<td>0.4468085106382981</td>\n",
       "\t\t<td>0.5405405405405402</td>\n",
       "\t\t<td>0.4415584415584416</td>\n",
       "\t\t<td>0.013157894736842105</td>\n",
       "\t</tr>\n",
       "\t<tr>\n",
       "\t\t<td>1</td>\n",
       "\t\t<td>541</td>\n",
       "\t\t<td>0.25714285714285723</td>\n",
       "\t\t<td>0.12195121951219512</td>\n",
       "\t\t<td>0.37288135593220345</td>\n",
       "\t\t<td>0.04918032786885246</td>\n",
       "\t\t<td>0.13793103448277005</td>\n",
       "\t\t<td>0.4516129032258065</td>\n",
       "\t\t<td>0.574468085106383</td>\n",
       "\t\t<td>0.4864864864864862</td>\n",
       "\t\t<td>0.012987012987012912</td>\n",
       "\t\t<td>0.14473684210526316</td>\n",
       "\t</tr>\n",
       "\t<tr>\n",
       "\t\t<td>0</td>\n",
       "\t\t<td>717</td>\n",
       "\t\t<td>0.8571428571428571</td>\n",
       "\t\t<td>0.4878048780487805</td>\n",
       "\t\t<td>0.30508474576271194</td>\n",
       "\t\t<td>0.7786885245901639</td>\n",
       "\t\t<td>0.8965517241379416</td>\n",
       "\t\t<td>0.22580645161290325</td>\n",
       "\t\t<td>0.17021276595744692</td>\n",
       "\t\t<td>0.25675675675675663</td>\n",
       "\t\t<td>0.6883116883116884</td>\n",
       "\t\t<td>0.7105263157894737</td>\n",
       "\t</tr>\n",
       "\t<tr>\n",
       "\t\t<td>1</td>\n",
       "\t\t<td>549</td>\n",
       "\t\t<td>0.25714285714285723</td>\n",
       "\t\t<td>0.2926829268292683</td>\n",
       "\t\t<td>0.4180790960451978</td>\n",
       "\t\t<td>0.16393442622950818</td>\n",
       "\t\t<td>0.3678160919540365</td>\n",
       "\t\t<td>0.435483870967742</td>\n",
       "\t\t<td>0.23404255319148962</td>\n",
       "\t\t<td>0.5945945945945944</td>\n",
       "\t\t<td>0.48051948051948057</td>\n",
       "\t\t<td>0.25</td>\n",
       "\t</tr>\n",
       "\t<tr>\n",
       "\t\t<td>1</td>\n",
       "\t\t<td>573</td>\n",
       "\t\t<td>0.25714285714285723</td>\n",
       "\t\t<td>0.12195121951219512</td>\n",
       "\t\t<td>0.5819209039548023</td>\n",
       "\t\t<td>0.09836065573770492</td>\n",
       "\t\t<td>0.43678160919540876</td>\n",
       "\t\t<td>0.3548387096774193</td>\n",
       "\t\t<td>0.34042553191489383</td>\n",
       "\t\t<td>0.6216216216216214</td>\n",
       "\t\t<td>2.5844155844155847</td>\n",
       "\t\t<td>0.2236842105263158</td>\n",
       "\t</tr>\n",
       "\t<tr>\n",
       "\t\t<td>0</td>\n",
       "\t\t<td>797</td>\n",
       "\t\t<td>-0.014285714285714235</td>\n",
       "\t\t<td>0.7560975609756098</td>\n",
       "\t\t<td>1.0395480225988702</td>\n",
       "\t\t<td>0.7377049180327869</td>\n",
       "\t\t<td>0.12643678160919525</td>\n",
       "\t\t<td>0.40322580645161293</td>\n",
       "\t\t<td>0.5957446808510638</td>\n",
       "\t\t<td>1.0810810810810811</td>\n",
       "\t\t<td>0.10389610389610392</td>\n",
       "\t\t<td>0.3157894736842105</td>\n",
       "\t</tr>\n",
       "\t<tr>\n",
       "\t\t<td>0</td>\n",
       "\t\t<td>733</td>\n",
       "\t\t<td>0.8571428571428571</td>\n",
       "\t\t<td>0.0975609756097561</td>\n",
       "\t\t<td>0.2598870056497175</td>\n",
       "\t\t<td>0.12295081967213115</td>\n",
       "\t\t<td>0.7241379310344982</td>\n",
       "\t\t<td>0.2580645161290323</td>\n",
       "\t\t<td>0.3829787234042554</td>\n",
       "\t\t<td>0.3108108108108107</td>\n",
       "\t\t<td>0.6233766233766235</td>\n",
       "\t\t<td>0.631578947368421</td>\n",
       "\t</tr>\n",
       "\t<tr>\n",
       "\t\t<td>0</td>\n",
       "\t\t<td>669</td>\n",
       "\t\t<td>0.25714285714285723</td>\n",
       "\t\t<td>0.43902439024390244</td>\n",
       "\t\t<td>0.4858757062146894</td>\n",
       "\t\t<td>0.2786885245901639</td>\n",
       "\t\t<td>0.43678160919540876</td>\n",
       "\t\t<td>0.3548387096774193</td>\n",
       "\t\t<td>0.2978723404255319</td>\n",
       "\t\t<td>0.6351351351351352</td>\n",
       "\t\t<td>0.4415584415584416</td>\n",
       "\t\t<td>0.19736842105263158</td>\n",
       "\t</tr>\n",
       "\t<tr>\n",
       "\t\t<td>0</td>\n",
       "\t\t<td>373</td>\n",
       "\t\t<td>0.9857142857142858</td>\n",
       "\t\t<td>0.12195121951219512</td>\n",
       "\t\t<td>0.5762711864406781</td>\n",
       "\t\t<td>0.16393442622950818</td>\n",
       "\t\t<td>0.6436781609195511</td>\n",
       "\t\t<td>0.3709677419354838</td>\n",
       "\t\t<td>0.3617021276595746</td>\n",
       "\t\t<td>0.1756756756756755</td>\n",
       "\t\t<td>0.3766233766233766</td>\n",
       "\t\t<td>0.6578947368421053</td>\n",
       "\t</tr>\n",
       "\t<tr>\n",
       "\t\t<td>1</td>\n",
       "\t\t<td>213</td>\n",
       "\t\t<td>0.9714285714285715</td>\n",
       "\t\t<td>0.2682926829268293</td>\n",
       "\t\t<td>0.2824858757062147</td>\n",
       "\t\t<td>0.14754098360655737</td>\n",
       "\t\t<td>0.40229885057472264</td>\n",
       "\t\t<td>0.4516129032258065</td>\n",
       "\t\t<td>0.872340425531915</td>\n",
       "\t\t<td>0.08108108108108113</td>\n",
       "\t\t<td>0.4675324675324676</td>\n",
       "\t\t<td>0.9078947368421052</td>\n",
       "\t</tr>\n",
       "</table></html>"
      ],
      "text/plain": [
       "   quality   id  r_fixed_acidity  r_free_sulfur_dioxide  r_volatile_acidity  r_total_sulfur_dioxide  r_density  r_sulphates  r_alcohol      r_pH  r_chlorides  r_citric_acid\n",
       "0        1  485         0.257143               0.317073            0.576271                0.270492   0.333333     0.258065   0.446809  0.540541     0.441558       0.013158\n",
       "1        1  541         0.257143               0.121951            0.372881                0.049180   0.137931     0.451613   0.574468  0.486486     0.012987       0.144737\n",
       "2        0  717         0.857143               0.487805            0.305085                0.778689   0.896552     0.225806   0.170213  0.256757     0.688312       0.710526\n",
       "3        1  549         0.257143               0.292683            0.418079                0.163934   0.367816     0.435484   0.234043  0.594595     0.480519       0.250000\n",
       "4        1  573         0.257143               0.121951            0.581921                0.098361   0.436782     0.354839   0.340426  0.621622     2.584416       0.223684\n",
       "5        0  797        -0.014286               0.756098            1.039548                0.737705   0.126437     0.403226   0.595745  1.081081     0.103896       0.315789\n",
       "6        0  733         0.857143               0.097561            0.259887                0.122951   0.724138     0.258065   0.382979  0.310811     0.623377       0.631579\n",
       "7        0  669         0.257143               0.439024            0.485876                0.278689   0.436782     0.354839   0.297872  0.635135     0.441558       0.197368\n",
       "8        0  373         0.985714               0.121951            0.576271                0.163934   0.643678     0.370968   0.361702  0.175676     0.376623       0.657895\n",
       "9        1  213         0.971429               0.268293            0.282486                0.147541   0.402299     0.451613   0.872340  0.081081     0.467532       0.907895"
      ]
     },
     "metadata": {},
     "output_type": "display_data"
    },
    {
     "name": "stdout",
     "output_type": "stream",
     "text": [
      "                                                                                          \r"
     ]
    },
    {
     "data": {
      "text/html": [
       "222 rows X 12 columns"
      ],
      "text/plain": [
       "<IPython.core.display.HTML object>"
      ]
     },
     "metadata": {},
     "output_type": "display_data"
    },
    {
     "name": "stdout",
     "output_type": "stream",
     "text": [
      "                                                                                          \r"
     ]
    },
    {
     "data": {
      "text/html": [
       "Total time taken by feature scaling: 43.96 sec"
      ],
      "text/plain": [
       "<IPython.core.display.HTML object>"
      ]
     },
     "metadata": {},
     "output_type": "display_data"
    },
    {
     "name": "stdout",
     "output_type": "stream",
     "text": [
      "                                                                                          \r"
     ]
    },
    {
     "data": {
      "text/html": [
       "\n",
       "scaling Features of pca data ..."
      ],
      "text/plain": [
       "<IPython.core.display.HTML object>"
      ]
     },
     "metadata": {},
     "output_type": "display_data"
    },
    {
     "name": "stdout",
     "output_type": "stream",
     "text": [
      "                                                                                          \r"
     ]
    },
    {
     "data": {
      "text/html": [
       "columns that will be scaled: "
      ],
      "text/plain": [
       "<IPython.core.display.HTML object>"
      ]
     },
     "metadata": {},
     "output_type": "display_data"
    },
    {
     "name": "stdout",
     "output_type": "stream",
     "text": [
      "['fixed_acidity', 'free_sulfur_dioxide', 'volatile_acidity', 'total_sulfur_dioxide', 'density', 'sulphates', 'alcohol', 'residual_sugar', 'pH', 'chlorides', 'citric_acid']\n",
      "                                                                                          \r"
     ]
    },
    {
     "data": {
      "text/html": [
       "Training dataset sample after scaling:"
      ],
      "text/plain": [
       "<IPython.core.display.HTML object>"
      ]
     },
     "metadata": {},
     "output_type": "display_data"
    },
    {
     "data": {
      "text/html": [
       "<style type=\"text/css\">\n",
       "\ttable {border:ridge 5px;}\n",
       "\ttable td {border:inset 1px;}\n",
       "\ttable tr#HeaderRow {background-color:grey; color:white;}</style>\n",
       "<html><table>\n",
       "\t<tr id=\"HeaderRow\">\n",
       "\t\t<th>quality</th>\n",
       "\t\t<th>id</th>\n",
       "\t\t<th>fixed_acidity</th>\n",
       "\t\t<th>free_sulfur_dioxide</th>\n",
       "\t\t<th>volatile_acidity</th>\n",
       "\t\t<th>total_sulfur_dioxide</th>\n",
       "\t\t<th>density</th>\n",
       "\t\t<th>sulphates</th>\n",
       "\t\t<th>alcohol</th>\n",
       "\t\t<th>residual_sugar</th>\n",
       "\t\t<th>pH</th>\n",
       "\t\t<th>chlorides</th>\n",
       "\t\t<th>citric_acid</th>\n",
       "\t</tr>\n",
       "\t<tr>\n",
       "\t\t<td>0</td>\n",
       "\t\t<td>233</td>\n",
       "\t\t<td>0.3428571428571429</td>\n",
       "\t\t<td>0.14634146341463414</td>\n",
       "\t\t<td>0.33898305084745767</td>\n",
       "\t\t<td>0.1557377049180328</td>\n",
       "\t\t<td>0.4543352601156219</td>\n",
       "\t\t<td>0.11290322580645162</td>\n",
       "\t\t<td>0.3617021276595746</td>\n",
       "\t\t<td>0.625</td>\n",
       "\t\t<td>0.40540540540540565</td>\n",
       "\t\t<td>0.3246753246753248</td>\n",
       "\t\t<td>0.42105263157894735</td>\n",
       "\t</tr>\n",
       "\t<tr>\n",
       "\t\t<td>1</td>\n",
       "\t\t<td>69</td>\n",
       "\t\t<td>0.5</td>\n",
       "\t\t<td>0.04878048780487805</td>\n",
       "\t\t<td>0.22033898305084748</td>\n",
       "\t\t<td>0.0</td>\n",
       "\t\t<td>0.32023121387284054</td>\n",
       "\t\t<td>0.48387096774193555</td>\n",
       "\t\t<td>0.6808510638297873</td>\n",
       "\t\t<td>0.4166666666666667</td>\n",
       "\t\t<td>0.4459459459459459</td>\n",
       "\t\t<td>0.48051948051948057</td>\n",
       "\t\t<td>0.5263157894736842</td>\n",
       "\t</tr>\n",
       "\t<tr>\n",
       "\t\t<td>1</td>\n",
       "\t\t<td>117</td>\n",
       "\t\t<td>0.5</td>\n",
       "\t\t<td>0.12195121951219512</td>\n",
       "\t\t<td>0.33898305084745767</td>\n",
       "\t\t<td>0.04918032786885246</td>\n",
       "\t\t<td>0.3248554913294926</td>\n",
       "\t\t<td>0.5161290322580644</td>\n",
       "\t\t<td>0.6382978723404253</td>\n",
       "\t\t<td>0.25</td>\n",
       "\t\t<td>0.5540540540540541</td>\n",
       "\t\t<td>0.3376623376623378</td>\n",
       "\t\t<td>0.5131578947368421</td>\n",
       "\t</tr>\n",
       "\t<tr>\n",
       "\t\t<td>1</td>\n",
       "\t\t<td>94</td>\n",
       "\t\t<td>0.5571428571428572</td>\n",
       "\t\t<td>0.6829268292682927</td>\n",
       "\t\t<td>0.31638418079096053</td>\n",
       "\t\t<td>0.32786885245901637</td>\n",
       "\t\t<td>0.22543352601156322</td>\n",
       "\t\t<td>0.3709677419354838</td>\n",
       "\t\t<td>0.7446808510638296</td>\n",
       "\t\t<td>0.4999999999999999</td>\n",
       "\t\t<td>0.35135135135135154</td>\n",
       "\t\t<td>0.3376623376623378</td>\n",
       "\t\t<td>0.5657894736842105</td>\n",
       "\t</tr>\n",
       "\t<tr>\n",
       "\t\t<td>1</td>\n",
       "\t\t<td>163</td>\n",
       "\t\t<td>0.3285714285714287</td>\n",
       "\t\t<td>0.3170731707317073</td>\n",
       "\t\t<td>0.4180790960451978</td>\n",
       "\t\t<td>0.1557377049180328</td>\n",
       "\t\t<td>0.17687861271676794</td>\n",
       "\t\t<td>0.41935483870967744</td>\n",
       "\t\t<td>0.7021276595744681</td>\n",
       "\t\t<td>0.375</td>\n",
       "\t\t<td>0.5540540540540541</td>\n",
       "\t\t<td>0.3766233766233766</td>\n",
       "\t\t<td>0.35526315789473684</td>\n",
       "\t</tr>\n",
       "\t<tr>\n",
       "\t\t<td>0</td>\n",
       "\t\t<td>179</td>\n",
       "\t\t<td>0.3285714285714287</td>\n",
       "\t\t<td>0.24390243902439024</td>\n",
       "\t\t<td>0.6553672316384181</td>\n",
       "\t\t<td>0.22950819672131148</td>\n",
       "\t\t<td>0.6300578034682204</td>\n",
       "\t\t<td>0.3064516129032259</td>\n",
       "\t\t<td>0.14893617021276614</td>\n",
       "\t\t<td>0.29166666666666663</td>\n",
       "\t\t<td>0.7702702702702698</td>\n",
       "\t\t<td>0.4415584415584416</td>\n",
       "\t\t<td>0.0</td>\n",
       "\t</tr>\n",
       "\t<tr>\n",
       "\t\t<td>1</td>\n",
       "\t\t<td>135</td>\n",
       "\t\t<td>0.4428571428571428</td>\n",
       "\t\t<td>0.07317073170731707</td>\n",
       "\t\t<td>0.2372881355932204</td>\n",
       "\t\t<td>0.04918032786885246</td>\n",
       "\t\t<td>0.2751445086705279</td>\n",
       "\t\t<td>0.6290322580645161</td>\n",
       "\t\t<td>0.872340425531915</td>\n",
       "\t\t<td>0.6666666666666665</td>\n",
       "\t\t<td>0.4864864864864862</td>\n",
       "\t\t<td>0.3246753246753248</td>\n",
       "\t\t<td>0.42105263157894735</td>\n",
       "\t</tr>\n",
       "\t<tr>\n",
       "\t\t<td>0</td>\n",
       "\t\t<td>151</td>\n",
       "\t\t<td>0.4428571428571428</td>\n",
       "\t\t<td>0.21951219512195122</td>\n",
       "\t\t<td>0.18079096045197746</td>\n",
       "\t\t<td>0.13114754098360656</td>\n",
       "\t\t<td>0.6855491329479809</td>\n",
       "\t\t<td>0.5000000000000001</td>\n",
       "\t\t<td>0.40425531914893614</td>\n",
       "\t\t<td>0.7499999999999999</td>\n",
       "\t\t<td>0.6081081081081082</td>\n",
       "\t\t<td>0.8051948051948052</td>\n",
       "\t\t<td>0.7894736842105263</td>\n",
       "\t</tr>\n",
       "\t<tr>\n",
       "\t\t<td>1</td>\n",
       "\t\t<td>92</td>\n",
       "\t\t<td>0.47142857142857153</td>\n",
       "\t\t<td>0.2682926829268293</td>\n",
       "\t\t<td>0.2824858757062147</td>\n",
       "\t\t<td>0.10655737704918032</td>\n",
       "\t\t<td>0.36416184971099663</td>\n",
       "\t\t<td>0.7096774193548389</td>\n",
       "\t\t<td>0.5319148936170212</td>\n",
       "\t\t<td>0.4583333333333332</td>\n",
       "\t\t<td>0.3108108108108107</td>\n",
       "\t\t<td>0.27272727272727276</td>\n",
       "\t\t<td>0.5657894736842105</td>\n",
       "\t</tr>\n",
       "\t<tr>\n",
       "\t\t<td>0</td>\n",
       "\t\t<td>20</td>\n",
       "\t\t<td>0.47142857142857153</td>\n",
       "\t\t<td>0.36585365853658536</td>\n",
       "\t\t<td>0.497175141242938</td>\n",
       "\t\t<td>0.3114754098360656</td>\n",
       "\t\t<td>0.39884393063584855</td>\n",
       "\t\t<td>0.24193548387096778</td>\n",
       "\t\t<td>0.4893617021276596</td>\n",
       "\t\t<td>0.375</td>\n",
       "\t\t<td>0.25675675675675663</td>\n",
       "\t\t<td>0.8181818181818183</td>\n",
       "\t\t<td>0.10526315789473684</td>\n",
       "\t</tr>\n",
       "</table></html>"
      ],
      "text/plain": [
       "   quality   id  fixed_acidity  free_sulfur_dioxide  volatile_acidity  total_sulfur_dioxide   density  sulphates   alcohol  residual_sugar        pH  chlorides  citric_acid\n",
       "0        0  233       0.342857             0.146341          0.338983              0.155738  0.454335   0.112903  0.361702        0.625000  0.405405   0.324675     0.421053\n",
       "1        1   69       0.500000             0.048780          0.220339              0.000000  0.320231   0.483871  0.680851        0.416667  0.445946   0.480519     0.526316\n",
       "2        1  117       0.500000             0.121951          0.338983              0.049180  0.324855   0.516129  0.638298        0.250000  0.554054   0.337662     0.513158\n",
       "3        1   94       0.557143             0.682927          0.316384              0.327869  0.225434   0.370968  0.744681        0.500000  0.351351   0.337662     0.565789\n",
       "4        1  163       0.328571             0.317073          0.418079              0.155738  0.176879   0.419355  0.702128        0.375000  0.554054   0.376623     0.355263\n",
       "5        0  179       0.328571             0.243902          0.655367              0.229508  0.630058   0.306452  0.148936        0.291667  0.770270   0.441558     0.000000\n",
       "6        1  135       0.442857             0.073171          0.237288              0.049180  0.275145   0.629032  0.872340        0.666667  0.486486   0.324675     0.421053\n",
       "7        0  151       0.442857             0.219512          0.180791              0.131148  0.685549   0.500000  0.404255        0.750000  0.608108   0.805195     0.789474\n",
       "8        1   92       0.471429             0.268293          0.282486              0.106557  0.364162   0.709677  0.531915        0.458333  0.310811   0.272727     0.565789\n",
       "9        0   20       0.471429             0.365854          0.497175              0.311475  0.398844   0.241935  0.489362        0.375000  0.256757   0.818182     0.105263"
      ]
     },
     "metadata": {},
     "output_type": "display_data"
    },
    {
     "name": "stdout",
     "output_type": "stream",
     "text": [
      "                                                                                          \r"
     ]
    },
    {
     "data": {
      "text/html": [
       "720 rows X 13 columns"
      ],
      "text/plain": [
       "<IPython.core.display.HTML object>"
      ]
     },
     "metadata": {},
     "output_type": "display_data"
    },
    {
     "name": "stdout",
     "output_type": "stream",
     "text": [
      "                                                                                          \r"
     ]
    },
    {
     "data": {
      "text/html": [
       "Testing dataset sample after scaling:"
      ],
      "text/plain": [
       "<IPython.core.display.HTML object>"
      ]
     },
     "metadata": {},
     "output_type": "display_data"
    },
    {
     "data": {
      "text/html": [
       "<style type=\"text/css\">\n",
       "\ttable {border:ridge 5px;}\n",
       "\ttable td {border:inset 1px;}\n",
       "\ttable tr#HeaderRow {background-color:grey; color:white;}</style>\n",
       "<html><table>\n",
       "\t<tr id=\"HeaderRow\">\n",
       "\t\t<th>quality</th>\n",
       "\t\t<th>id</th>\n",
       "\t\t<th>fixed_acidity</th>\n",
       "\t\t<th>free_sulfur_dioxide</th>\n",
       "\t\t<th>volatile_acidity</th>\n",
       "\t\t<th>total_sulfur_dioxide</th>\n",
       "\t\t<th>density</th>\n",
       "\t\t<th>sulphates</th>\n",
       "\t\t<th>alcohol</th>\n",
       "\t\t<th>residual_sugar</th>\n",
       "\t\t<th>pH</th>\n",
       "\t\t<th>chlorides</th>\n",
       "\t\t<th>citric_acid</th>\n",
       "\t</tr>\n",
       "\t<tr>\n",
       "\t\t<td>1</td>\n",
       "\t\t<td>26</td>\n",
       "\t\t<td>0.7714285714285715</td>\n",
       "\t\t<td>0.12195121951219512</td>\n",
       "\t\t<td>0.13559322033898305</td>\n",
       "\t\t<td>0.13114754098360656</td>\n",
       "\t\t<td>0.6069364161849858</td>\n",
       "\t\t<td>1.0967741935483872</td>\n",
       "\t\t<td>0.4468085106382981</td>\n",
       "\t\t<td>0.25</td>\n",
       "\t\t<td>0.3648648648648648</td>\n",
       "\t\t<td>0.4545454545454546</td>\n",
       "\t\t<td>0.5526315789473684</td>\n",
       "\t</tr>\n",
       "\t<tr>\n",
       "\t\t<td>0</td>\n",
       "\t\t<td>25</td>\n",
       "\t\t<td>0.3428571428571429</td>\n",
       "\t\t<td>1.1951219512195121</td>\n",
       "\t\t<td>0.5762711864406781</td>\n",
       "\t\t<td>0.8524590163934426</td>\n",
       "\t\t<td>0.687861271676307</td>\n",
       "\t\t<td>0.6451612903225807</td>\n",
       "\t\t<td>0.14893617021276614</td>\n",
       "\t\t<td>1.6249999999999996</td>\n",
       "\t\t<td>0.43243243243243207</td>\n",
       "\t\t<td>0.8961038961038964</td>\n",
       "\t\t<td>0.15789473684210525</td>\n",
       "\t</tr>\n",
       "\t<tr>\n",
       "\t\t<td>0</td>\n",
       "\t\t<td>121</td>\n",
       "\t\t<td>0.3428571428571429</td>\n",
       "\t\t<td>0.3902439024390244</td>\n",
       "\t\t<td>0.42937853107344637</td>\n",
       "\t\t<td>0.7868852459016393</td>\n",
       "\t\t<td>0.6300578034682204</td>\n",
       "\t\t<td>0.6935483870967742</td>\n",
       "\t\t<td>0.3829787234042554</td>\n",
       "\t\t<td>2.041666666666666</td>\n",
       "\t\t<td>0.5540540540540541</td>\n",
       "\t\t<td>0.3766233766233766</td>\n",
       "\t\t<td>0.47368421052631576</td>\n",
       "\t</tr>\n",
       "\t<tr>\n",
       "\t\t<td>1</td>\n",
       "\t\t<td>29</td>\n",
       "\t\t<td>0.5</td>\n",
       "\t\t<td>1.2682926829268293</td>\n",
       "\t\t<td>0.11299435028248589</td>\n",
       "\t\t<td>0.5819672131147541</td>\n",
       "\t\t<td>0.4265895953757352</td>\n",
       "\t\t<td>0.8064516129032259</td>\n",
       "\t\t<td>0.4893617021276596</td>\n",
       "\t\t<td>0.29166666666666663</td>\n",
       "\t\t<td>0.7162162162162163</td>\n",
       "\t\t<td>0.28571428571428575</td>\n",
       "\t\t<td>0.47368421052631576</td>\n",
       "\t</tr>\n",
       "\t<tr>\n",
       "\t\t<td>1</td>\n",
       "\t\t<td>30</td>\n",
       "\t\t<td>0.5571428571428572</td>\n",
       "\t\t<td>0.6097560975609756</td>\n",
       "\t\t<td>0.35028248587570626</td>\n",
       "\t\t<td>0.6557377049180327</td>\n",
       "\t\t<td>0.734104046242789</td>\n",
       "\t\t<td>0.40322580645161293</td>\n",
       "\t\t<td>0.17021276595744692</td>\n",
       "\t\t<td>0.5416666666666666</td>\n",
       "\t\t<td>0.5945945945945944</td>\n",
       "\t\t<td>0.4935064935064936</td>\n",
       "\t\t<td>0.4473684210526316</td>\n",
       "\t</tr>\n",
       "\t<tr>\n",
       "\t\t<td>0</td>\n",
       "\t\t<td>126</td>\n",
       "\t\t<td>0.5571428571428572</td>\n",
       "\t\t<td>0.17073170731707318</td>\n",
       "\t\t<td>0.519774011299435</td>\n",
       "\t\t<td>0.12295081967213115</td>\n",
       "\t\t<td>0.6173410404624337</td>\n",
       "\t\t<td>0.564516129032258</td>\n",
       "\t\t<td>0.1914893617021277</td>\n",
       "\t\t<td>0.3333333333333333</td>\n",
       "\t\t<td>0.4459459459459459</td>\n",
       "\t\t<td>0.8051948051948052</td>\n",
       "\t\t<td>0.32894736842105265</td>\n",
       "\t</tr>\n",
       "\t<tr>\n",
       "\t\t<td>0</td>\n",
       "\t\t<td>27</td>\n",
       "\t\t<td>0.3285714285714287</td>\n",
       "\t\t<td>0.34146341463414637</td>\n",
       "\t\t<td>0.4858757062146894</td>\n",
       "\t\t<td>0.22950819672131148</td>\n",
       "\t\t<td>0.4855491329479912</td>\n",
       "\t\t<td>0.5000000000000001</td>\n",
       "\t\t<td>0.3829787234042554</td>\n",
       "\t\t<td>0.25</td>\n",
       "\t\t<td>0.7432432432432434</td>\n",
       "\t\t<td>0.5194805194805195</td>\n",
       "\t\t<td>0.25</td>\n",
       "\t</tr>\n",
       "\t<tr>\n",
       "\t\t<td>1</td>\n",
       "\t\t<td>123</td>\n",
       "\t\t<td>0.3285714285714287</td>\n",
       "\t\t<td>0.5609756097560976</td>\n",
       "\t\t<td>0.5649717514124294</td>\n",
       "\t\t<td>0.29508196721311475</td>\n",
       "\t\t<td>0.4335260115607005</td>\n",
       "\t\t<td>0.32258064516129026</td>\n",
       "\t\t<td>0.5957446808510638</td>\n",
       "\t\t<td>0.29166666666666663</td>\n",
       "\t\t<td>0.6486486486486485</td>\n",
       "\t\t<td>0.3376623376623378</td>\n",
       "\t\t<td>0.06578947368421052</td>\n",
       "\t</tr>\n",
       "\t<tr>\n",
       "\t\t<td>1</td>\n",
       "\t\t<td>31</td>\n",
       "\t\t<td>0.4428571428571428</td>\n",
       "\t\t<td>0.24390243902439024</td>\n",
       "\t\t<td>0.31638418079096053</td>\n",
       "\t\t<td>0.30327868852459017</td>\n",
       "\t\t<td>0.5953757225433685</td>\n",
       "\t\t<td>0.3870967741935484</td>\n",
       "\t\t<td>0.3829787234042554</td>\n",
       "\t\t<td>0.6666666666666665</td>\n",
       "\t\t<td>0.7972972972972969</td>\n",
       "\t\t<td>0.6103896103896104</td>\n",
       "\t\t<td>0.5789473684210527</td>\n",
       "\t</tr>\n",
       "\t<tr>\n",
       "\t\t<td>1</td>\n",
       "\t\t<td>127</td>\n",
       "\t\t<td>0.4428571428571428</td>\n",
       "\t\t<td>0.14634146341463414</td>\n",
       "\t\t<td>0.9943502824858759</td>\n",
       "\t\t<td>0.2540983606557377</td>\n",
       "\t\t<td>0.5202312138728431</td>\n",
       "\t\t<td>0.29032258064516137</td>\n",
       "\t\t<td>0.06382978723404269</td>\n",
       "\t\t<td>0.4583333333333332</td>\n",
       "\t\t<td>0.5135135135135133</td>\n",
       "\t\t<td>0.29870129870129875</td>\n",
       "\t\t<td>0.11842105263157894</td>\n",
       "\t</tr>\n",
       "</table></html>"
      ],
      "text/plain": [
       "   quality   id  fixed_acidity  free_sulfur_dioxide  volatile_acidity  total_sulfur_dioxide   density  sulphates   alcohol  residual_sugar        pH  chlorides  citric_acid\n",
       "0        1   26       0.771429             0.121951          0.135593              0.131148  0.606936   1.096774  0.446809        0.250000  0.364865   0.454545     0.552632\n",
       "1        0   25       0.342857             1.195122          0.576271              0.852459  0.687861   0.645161  0.148936        1.625000  0.432432   0.896104     0.157895\n",
       "2        0  121       0.342857             0.390244          0.429379              0.786885  0.630058   0.693548  0.382979        2.041667  0.554054   0.376623     0.473684\n",
       "3        1   29       0.500000             1.268293          0.112994              0.581967  0.426590   0.806452  0.489362        0.291667  0.716216   0.285714     0.473684\n",
       "4        1   30       0.557143             0.609756          0.350282              0.655738  0.734104   0.403226  0.170213        0.541667  0.594595   0.493506     0.447368\n",
       "5        0  126       0.557143             0.170732          0.519774              0.122951  0.617341   0.564516  0.191489        0.333333  0.445946   0.805195     0.328947\n",
       "6        0   27       0.328571             0.341463          0.485876              0.229508  0.485549   0.500000  0.382979        0.250000  0.743243   0.519481     0.250000\n",
       "7        1  123       0.328571             0.560976          0.564972              0.295082  0.433526   0.322581  0.595745        0.291667  0.648649   0.337662     0.065789\n",
       "8        1   31       0.442857             0.243902          0.316384              0.303279  0.595376   0.387097  0.382979        0.666667  0.797297   0.610390     0.578947\n",
       "9        1  127       0.442857             0.146341          0.994350              0.254098  0.520231   0.290323  0.063830        0.458333  0.513514   0.298701     0.118421"
      ]
     },
     "metadata": {},
     "output_type": "display_data"
    },
    {
     "name": "stdout",
     "output_type": "stream",
     "text": [
      "                                                                                          \r"
     ]
    },
    {
     "data": {
      "text/html": [
       "222 rows X 13 columns"
      ],
      "text/plain": [
       "<IPython.core.display.HTML object>"
      ]
     },
     "metadata": {},
     "output_type": "display_data"
    },
    {
     "name": "stdout",
     "output_type": "stream",
     "text": [
      "                                                                                          \r"
     ]
    },
    {
     "data": {
      "text/html": [
       "Total time taken by feature scaling: 40.82 sec"
      ],
      "text/plain": [
       "<IPython.core.display.HTML object>"
      ]
     },
     "metadata": {},
     "output_type": "display_data"
    },
    {
     "name": "stdout",
     "output_type": "stream",
     "text": [
      "                                                                                          \r"
     ]
    },
    {
     "data": {
      "text/html": [
       "\n",
       "Dimension Reduction using pca ..."
      ],
      "text/plain": [
       "<IPython.core.display.HTML object>"
      ]
     },
     "metadata": {},
     "output_type": "display_data"
    },
    {
     "name": "stdout",
     "output_type": "stream",
     "text": [
      "                                                                                          \r"
     ]
    },
    {
     "data": {
      "text/html": [
       "PCA columns:"
      ],
      "text/plain": [
       "<IPython.core.display.HTML object>"
      ]
     },
     "metadata": {},
     "output_type": "display_data"
    },
    {
     "name": "stdout",
     "output_type": "stream",
     "text": [
      "['col_0', 'col_1', 'col_2', 'col_3', 'col_4', 'col_5', 'col_6', 'col_7', 'col_8']\n",
      "                                                                                          \r"
     ]
    },
    {
     "data": {
      "text/html": [
       "Total time taken by PCA: 13.89 sec  "
      ],
      "text/plain": [
       "<IPython.core.display.HTML object>"
      ]
     },
     "metadata": {},
     "output_type": "display_data"
    },
    {
     "name": "stdout",
     "output_type": "stream",
     "text": [
      "                                                                                          \r"
     ]
    },
    {
     "data": {
      "text/html": [
       "\n",
       "            <style>\n",
       "                .custom-div {\n",
       "                    background-color: lightgray;\n",
       "                    color: #000000;\n",
       "                    padding: 10px;\n",
       "                    border-radius: 8px;\n",
       "                    box-shadow: 0 3px 4px rgba(0 -  0 -  0 -  0.2);\n",
       "                    margin-bottom: 10px;\n",
       "                    text-align: center;\n",
       "                }\n",
       "            </style>\n",
       "        <br><div class=\"custom-div\"><h3><span style=\"color: green;\">1. Feature Exploration -> 2. Feature Engineering -> 3. Data Preparation -></span> 4. Model Training & Evaluation<center></h3></center></div>"
      ],
      "text/plain": [
       "<IPython.core.display.HTML object>"
      ]
     },
     "metadata": {},
     "output_type": "display_data"
    },
    {
     "name": "stdout",
     "output_type": "stream",
     "text": [
      "                                                                                          \r"
     ]
    },
    {
     "data": {
      "text/html": [
       "Model Training started ..."
      ],
      "text/plain": [
       "<IPython.core.display.HTML object>"
      ]
     },
     "metadata": {},
     "output_type": "display_data"
    },
    {
     "name": "stdout",
     "output_type": "stream",
     "text": [
      "                                                                                          \r"
     ]
    },
    {
     "data": {
      "text/html": [
       "\n",
       "Hyperparameters used for model training: "
      ],
      "text/plain": [
       "<IPython.core.display.HTML object>"
      ]
     },
     "metadata": {},
     "output_type": "display_data"
    },
    {
     "name": "stdout",
     "output_type": "stream",
     "text": [
      "response_column : quality                                                                                                                             \n",
      "name : svm\n",
      "model_type : Classification\n",
      "lambda1 : (0.001, 0.02, 0.1)\n",
      "alpha : (0.15, 0.85)\n",
      "tolerance : (0.001, 0.01)\n",
      "learning_rate : OPTIMAL\n",
      "initial_eta : (0.05, 0.1)\n",
      "momentum : (0.65, 0.8, 0.95)\n",
      "nesterov : True\n",
      "intercept : True\n",
      "iter_num_no_change : (5, 10, 50)\n",
      "local_sgd_iterations  : (10, 20)\n",
      "iter_max : (300, 200, 400)\n",
      "batch_size : (10, 50, 60, 80)\n",
      "Total number of models for svm : 5184\n",
      "--------------------------------------------------------------------------------------------------------------------------------------------------------------------------------------------------------\n",
      "\n",
      "                                                                                          \r"
     ]
    },
    {
     "data": {
      "text/html": [
       "\n",
       "Performing hyperParameter tuning ..."
      ],
      "text/plain": [
       "<IPython.core.display.HTML object>"
      ]
     },
     "metadata": {},
     "output_type": "display_data"
    },
    {
     "name": "stdout",
     "output_type": "stream",
     "text": [
      "                                                                                          \r"
     ]
    },
    {
     "data": {
      "text/html": [
       "svm"
      ],
      "text/plain": [
       "<IPython.core.display.HTML object>"
      ]
     },
     "metadata": {},
     "output_type": "display_data"
    },
    {
     "name": "stdout",
     "output_type": "stream",
     "text": [
      "result data stored in table '\"ALICE\".\"ml__td_sqlmr_persist_out__171993516096930\"'                                                                                                                       \n",
      "result data stored in table '\"ALICE\".\"ml__td_sqlmr_persist_out__171993641972223\"'\n",
      "result data stored in table '\"ALICE\".\"ml__td_sqlmr_persist_out__171994102229108\"'\n",
      "                                                                                          \r"
     ]
    },
    {
     "data": {
      "text/html": [
       "----------------------------------------------------------------------------------------------------"
      ],
      "text/plain": [
       "<IPython.core.display.HTML object>"
      ]
     },
     "metadata": {},
     "output_type": "display_data"
    },
    {
     "name": "stdout",
     "output_type": "stream",
     "text": [
      "                                                                                          \r"
     ]
    },
    {
     "data": {
      "text/html": [
       "Evaluating models performance ..."
      ],
      "text/plain": [
       "<IPython.core.display.HTML object>"
      ]
     },
     "metadata": {},
     "output_type": "display_data"
    },
    {
     "name": "stdout",
     "output_type": "stream",
     "text": [
      "                                                                                          \r"
     ]
    },
    {
     "data": {
      "text/html": [
       "Evaluation completed."
      ],
      "text/plain": [
       "<IPython.core.display.HTML object>"
      ]
     },
     "metadata": {},
     "output_type": "display_data"
    },
    {
     "name": "stdout",
     "output_type": "stream",
     "text": [
      "                                                                                          \r"
     ]
    },
    {
     "data": {
      "text/html": [
       "Leaderboard"
      ],
      "text/plain": [
       "<IPython.core.display.HTML object>"
      ]
     },
     "metadata": {},
     "output_type": "display_data"
    },
    {
     "data": {
      "text/html": [
       "<div>\n",
       "<style scoped>\n",
       "    .dataframe tbody tr th:only-of-type {\n",
       "        vertical-align: middle;\n",
       "    }\n",
       "\n",
       "    .dataframe tbody tr th {\n",
       "        vertical-align: top;\n",
       "    }\n",
       "\n",
       "    .dataframe thead th {\n",
       "        text-align: right;\n",
       "    }\n",
       "</style>\n",
       "<table border=\"1\" class=\"dataframe\">\n",
       "  <thead>\n",
       "    <tr style=\"text-align: right;\">\n",
       "      <th></th>\n",
       "      <th>Rank</th>\n",
       "      <th>Model-ID</th>\n",
       "      <th>Feature-Selection</th>\n",
       "      <th>Accuracy</th>\n",
       "      <th>Micro-Precision</th>\n",
       "      <th>Micro-Recall</th>\n",
       "      <th>Micro-F1</th>\n",
       "      <th>Macro-Precision</th>\n",
       "      <th>Macro-Recall</th>\n",
       "      <th>Macro-F1</th>\n",
       "      <th>Weighted-Precision</th>\n",
       "      <th>Weighted-Recall</th>\n",
       "      <th>Weighted-F1</th>\n",
       "    </tr>\n",
       "  </thead>\n",
       "  <tbody>\n",
       "    <tr>\n",
       "      <th>0</th>\n",
       "      <td>1</td>\n",
       "      <td>SVM_3</td>\n",
       "      <td>rfe</td>\n",
       "      <td>0.689189</td>\n",
       "      <td>0.689189</td>\n",
       "      <td>0.689189</td>\n",
       "      <td>0.689189</td>\n",
       "      <td>0.705619</td>\n",
       "      <td>0.696789</td>\n",
       "      <td>0.687356</td>\n",
       "      <td>0.710412</td>\n",
       "      <td>0.689189</td>\n",
       "      <td>0.685846</td>\n",
       "    </tr>\n",
       "    <tr>\n",
       "      <th>1</th>\n",
       "      <td>2</td>\n",
       "      <td>SVM_2</td>\n",
       "      <td>rfe</td>\n",
       "      <td>0.671171</td>\n",
       "      <td>0.671171</td>\n",
       "      <td>0.671171</td>\n",
       "      <td>0.671171</td>\n",
       "      <td>0.673293</td>\n",
       "      <td>0.664439</td>\n",
       "      <td>0.663741</td>\n",
       "      <td>0.672722</td>\n",
       "      <td>0.671171</td>\n",
       "      <td>0.666893</td>\n",
       "    </tr>\n",
       "    <tr>\n",
       "      <th>2</th>\n",
       "      <td>3</td>\n",
       "      <td>SVM_0</td>\n",
       "      <td>lasso</td>\n",
       "      <td>0.599099</td>\n",
       "      <td>0.599099</td>\n",
       "      <td>0.599099</td>\n",
       "      <td>0.599099</td>\n",
       "      <td>0.598563</td>\n",
       "      <td>0.598924</td>\n",
       "      <td>0.598439</td>\n",
       "      <td>0.600439</td>\n",
       "      <td>0.599099</td>\n",
       "      <td>0.599466</td>\n",
       "    </tr>\n",
       "    <tr>\n",
       "      <th>3</th>\n",
       "      <td>4</td>\n",
       "      <td>SVM_1</td>\n",
       "      <td>lasso</td>\n",
       "      <td>0.599099</td>\n",
       "      <td>0.599099</td>\n",
       "      <td>0.599099</td>\n",
       "      <td>0.599099</td>\n",
       "      <td>0.599700</td>\n",
       "      <td>0.600065</td>\n",
       "      <td>0.598896</td>\n",
       "      <td>0.601801</td>\n",
       "      <td>0.599099</td>\n",
       "      <td>0.599465</td>\n",
       "    </tr>\n",
       "  </tbody>\n",
       "</table>\n",
       "</div>"
      ],
      "text/plain": [
       "   Rank Model-ID Feature-Selection  Accuracy  Micro-Precision  Micro-Recall  \\\n",
       "0     1    SVM_3               rfe  0.689189         0.689189      0.689189   \n",
       "1     2    SVM_2               rfe  0.671171         0.671171      0.671171   \n",
       "2     3    SVM_0             lasso  0.599099         0.599099      0.599099   \n",
       "3     4    SVM_1             lasso  0.599099         0.599099      0.599099   \n",
       "\n",
       "   Micro-F1  Macro-Precision  Macro-Recall  Macro-F1  Weighted-Precision  \\\n",
       "0  0.689189         0.705619      0.696789  0.687356            0.710412   \n",
       "1  0.671171         0.673293      0.664439  0.663741            0.672722   \n",
       "2  0.599099         0.598563      0.598924  0.598439            0.600439   \n",
       "3  0.599099         0.599700      0.600065  0.598896            0.601801   \n",
       "\n",
       "   Weighted-Recall  Weighted-F1  \n",
       "0         0.689189     0.685846  \n",
       "1         0.671171     0.666893  \n",
       "2         0.599099     0.599466  \n",
       "3         0.599099     0.599465  "
      ]
     },
     "metadata": {},
     "output_type": "display_data"
    },
    {
     "name": "stdout",
     "output_type": "stream",
     "text": [
      "                                                                                          \r"
     ]
    },
    {
     "data": {
      "text/html": [
       "4 rows X 13 columns"
      ],
      "text/plain": [
       "<IPython.core.display.HTML object>"
      ]
     },
     "metadata": {},
     "output_type": "display_data"
    },
    {
     "name": "stdout",
     "output_type": "stream",
     "text": [
      "                                                                                          \r"
     ]
    },
    {
     "data": {
      "text/html": [
       "\n",
       "            <style>\n",
       "                .custom-div {\n",
       "                    background-color: lightgray;\n",
       "                    color: #000000;\n",
       "                    padding: 10px;\n",
       "                    border-radius: 8px;\n",
       "                    box-shadow: 0 3px 4px rgba(0 -  0 -  0 -  0.2);\n",
       "                    margin-bottom: 10px;\n",
       "                    text-align: center;\n",
       "                }\n",
       "            </style>\n",
       "        <br><div class=\"custom-div\"><h3><span style=\"color: green;\">1. Feature Exploration -> 2. Feature Engineering -> 3. Data Preparation -> 4. Model Training & Evaluation</span><center></h3></center></div>"
      ],
      "text/plain": [
       "<IPython.core.display.HTML object>"
      ]
     },
     "metadata": {},
     "output_type": "display_data"
    },
    {
     "name": "stdout",
     "output_type": "stream",
     "text": [
      "Completed: ｜⫿⫿⫿⫿⫿⫿⫿⫿⫿⫿⫿⫿⫿⫿⫿⫿⫿⫿⫿⫿⫿⫿⫿⫿⫿⫿⫿⫿⫿⫿⫿⫿⫿⫿⫿⫿⫿⫿⫿⫿⫿⫿⫿⫿⫿⫿⫿⫿⫿⫿⫿⫿⫿⫿⫿⫿⫿⫿⫿⫿｜ 100% - 15/15    \r"
     ]
    }
   ],
   "source": [
    "# Fitting train data\n",
    "aml.fit(wine_df_train, wine_df_train.quality)"
   ]
  },
  {
   "cell_type": "markdown",
   "id": "23a04eb1-68e6-48b7-95aa-442f434809da",
   "metadata": {},
   "source": [
    "## <b><span style='color:#F1A424'>| 3.</span> Leaderboard : </b>"
   ]
  },
  {
   "cell_type": "code",
   "execution_count": 20,
   "id": "77de1099-6122-4f8a-8e7f-dd67e5b4ced4",
   "metadata": {},
   "outputs": [
    {
     "data": {
      "text/html": [
       "<div>\n",
       "<style scoped>\n",
       "    .dataframe tbody tr th:only-of-type {\n",
       "        vertical-align: middle;\n",
       "    }\n",
       "\n",
       "    .dataframe tbody tr th {\n",
       "        vertical-align: top;\n",
       "    }\n",
       "\n",
       "    .dataframe thead th {\n",
       "        text-align: right;\n",
       "    }\n",
       "</style>\n",
       "<table border=\"1\" class=\"dataframe\">\n",
       "  <thead>\n",
       "    <tr style=\"text-align: right;\">\n",
       "      <th></th>\n",
       "      <th>Rank</th>\n",
       "      <th>Model-ID</th>\n",
       "      <th>Feature-Selection</th>\n",
       "      <th>Accuracy</th>\n",
       "      <th>Micro-Precision</th>\n",
       "      <th>Micro-Recall</th>\n",
       "      <th>Micro-F1</th>\n",
       "      <th>Macro-Precision</th>\n",
       "      <th>Macro-Recall</th>\n",
       "      <th>Macro-F1</th>\n",
       "      <th>Weighted-Precision</th>\n",
       "      <th>Weighted-Recall</th>\n",
       "      <th>Weighted-F1</th>\n",
       "    </tr>\n",
       "  </thead>\n",
       "  <tbody>\n",
       "    <tr>\n",
       "      <th>0</th>\n",
       "      <td>1</td>\n",
       "      <td>SVM_3</td>\n",
       "      <td>rfe</td>\n",
       "      <td>0.689189</td>\n",
       "      <td>0.689189</td>\n",
       "      <td>0.689189</td>\n",
       "      <td>0.689189</td>\n",
       "      <td>0.705619</td>\n",
       "      <td>0.696789</td>\n",
       "      <td>0.687356</td>\n",
       "      <td>0.710412</td>\n",
       "      <td>0.689189</td>\n",
       "      <td>0.685846</td>\n",
       "    </tr>\n",
       "    <tr>\n",
       "      <th>1</th>\n",
       "      <td>2</td>\n",
       "      <td>SVM_2</td>\n",
       "      <td>rfe</td>\n",
       "      <td>0.671171</td>\n",
       "      <td>0.671171</td>\n",
       "      <td>0.671171</td>\n",
       "      <td>0.671171</td>\n",
       "      <td>0.673293</td>\n",
       "      <td>0.664439</td>\n",
       "      <td>0.663741</td>\n",
       "      <td>0.672722</td>\n",
       "      <td>0.671171</td>\n",
       "      <td>0.666893</td>\n",
       "    </tr>\n",
       "    <tr>\n",
       "      <th>2</th>\n",
       "      <td>3</td>\n",
       "      <td>SVM_0</td>\n",
       "      <td>lasso</td>\n",
       "      <td>0.599099</td>\n",
       "      <td>0.599099</td>\n",
       "      <td>0.599099</td>\n",
       "      <td>0.599099</td>\n",
       "      <td>0.598563</td>\n",
       "      <td>0.598924</td>\n",
       "      <td>0.598439</td>\n",
       "      <td>0.600439</td>\n",
       "      <td>0.599099</td>\n",
       "      <td>0.599466</td>\n",
       "    </tr>\n",
       "    <tr>\n",
       "      <th>3</th>\n",
       "      <td>4</td>\n",
       "      <td>SVM_1</td>\n",
       "      <td>lasso</td>\n",
       "      <td>0.599099</td>\n",
       "      <td>0.599099</td>\n",
       "      <td>0.599099</td>\n",
       "      <td>0.599099</td>\n",
       "      <td>0.599700</td>\n",
       "      <td>0.600065</td>\n",
       "      <td>0.598896</td>\n",
       "      <td>0.601801</td>\n",
       "      <td>0.599099</td>\n",
       "      <td>0.599465</td>\n",
       "    </tr>\n",
       "  </tbody>\n",
       "</table>\n",
       "</div>"
      ],
      "text/plain": [
       "   Rank Model-ID Feature-Selection  Accuracy  Micro-Precision  Micro-Recall  \\\n",
       "0     1    SVM_3               rfe  0.689189         0.689189      0.689189   \n",
       "1     2    SVM_2               rfe  0.671171         0.671171      0.671171   \n",
       "2     3    SVM_0             lasso  0.599099         0.599099      0.599099   \n",
       "3     4    SVM_1             lasso  0.599099         0.599099      0.599099   \n",
       "\n",
       "   Micro-F1  Macro-Precision  Macro-Recall  Macro-F1  Weighted-Precision  \\\n",
       "0  0.689189         0.705619      0.696789  0.687356            0.710412   \n",
       "1  0.671171         0.673293      0.664439  0.663741            0.672722   \n",
       "2  0.599099         0.598563      0.598924  0.598439            0.600439   \n",
       "3  0.599099         0.599700      0.600065  0.598896            0.601801   \n",
       "\n",
       "   Weighted-Recall  Weighted-F1  \n",
       "0         0.689189     0.685846  \n",
       "1         0.671171     0.666893  \n",
       "2         0.599099     0.599466  \n",
       "3         0.599099     0.599465  "
      ]
     },
     "execution_count": 20,
     "metadata": {},
     "output_type": "execute_result"
    }
   ],
   "source": [
    "# Fetching Leaderboard\n",
    "aml.leaderboard()"
   ]
  },
  {
   "cell_type": "markdown",
   "id": "a7a3aa08-e349-4a61-9217-2c17d50411d8",
   "metadata": {},
   "source": [
    "## <b><span style='color:#F1A424'>| 4.</span> Best Performing Model : </b>"
   ]
  },
  {
   "cell_type": "code",
   "execution_count": 21,
   "id": "c4c32832-a76b-4f42-826a-cefc38a6301b",
   "metadata": {},
   "outputs": [
    {
     "data": {
      "text/html": [
       "<div>\n",
       "<style scoped>\n",
       "    .dataframe tbody tr th:only-of-type {\n",
       "        vertical-align: middle;\n",
       "    }\n",
       "\n",
       "    .dataframe tbody tr th {\n",
       "        vertical-align: top;\n",
       "    }\n",
       "\n",
       "    .dataframe thead th {\n",
       "        text-align: right;\n",
       "    }\n",
       "</style>\n",
       "<table border=\"1\" class=\"dataframe\">\n",
       "  <thead>\n",
       "    <tr style=\"text-align: right;\">\n",
       "      <th></th>\n",
       "      <th>Rank</th>\n",
       "      <th>Model-ID</th>\n",
       "      <th>Feature-Selection</th>\n",
       "      <th>Accuracy</th>\n",
       "      <th>Micro-Precision</th>\n",
       "      <th>Micro-Recall</th>\n",
       "      <th>Micro-F1</th>\n",
       "      <th>Macro-Precision</th>\n",
       "      <th>Macro-Recall</th>\n",
       "      <th>Macro-F1</th>\n",
       "      <th>Weighted-Precision</th>\n",
       "      <th>Weighted-Recall</th>\n",
       "      <th>Weighted-F1</th>\n",
       "    </tr>\n",
       "  </thead>\n",
       "  <tbody>\n",
       "    <tr>\n",
       "      <th>0</th>\n",
       "      <td>1</td>\n",
       "      <td>SVM_3</td>\n",
       "      <td>rfe</td>\n",
       "      <td>0.689189</td>\n",
       "      <td>0.689189</td>\n",
       "      <td>0.689189</td>\n",
       "      <td>0.689189</td>\n",
       "      <td>0.705619</td>\n",
       "      <td>0.696789</td>\n",
       "      <td>0.687356</td>\n",
       "      <td>0.710412</td>\n",
       "      <td>0.689189</td>\n",
       "      <td>0.685846</td>\n",
       "    </tr>\n",
       "  </tbody>\n",
       "</table>\n",
       "</div>"
      ],
      "text/plain": [
       "   Rank Model-ID Feature-Selection  Accuracy  Micro-Precision  Micro-Recall  \\\n",
       "0     1    SVM_3               rfe  0.689189         0.689189      0.689189   \n",
       "\n",
       "   Micro-F1  Macro-Precision  Macro-Recall  Macro-F1  Weighted-Precision  \\\n",
       "0  0.689189         0.705619      0.696789  0.687356            0.710412   \n",
       "\n",
       "   Weighted-Recall  Weighted-F1  \n",
       "0         0.689189     0.685846  "
      ]
     },
     "metadata": {},
     "output_type": "display_data"
    }
   ],
   "source": [
    "# Fetching best performing model for dataset\n",
    "aml.leader()"
   ]
  },
  {
   "cell_type": "markdown",
   "id": "e43181a9-3847-4e8b-b510-6da81f1c550f",
   "metadata": {},
   "source": [
    "## <b><span style='color:#F1A424'>| 5.</span> Generating Prediction : </b>"
   ]
  },
  {
   "cell_type": "code",
   "execution_count": 24,
   "id": "5b6edfe3-bd5a-46bd-ad80-b20fadfed7a0",
   "metadata": {},
   "outputs": [
    {
     "name": "stdout",
     "output_type": "stream",
     "text": [
      "Data Transformation started ...\n",
      "                                                                                                \r"
     ]
    },
    {
     "data": {
      "text/html": [
       "Performing transformation carried out in feature engineering phase ..."
      ],
      "text/plain": [
       "<IPython.core.display.HTML object>"
      ]
     },
     "metadata": {},
     "output_type": "display_data"
    },
    {
     "name": "stdout",
     "output_type": "stream",
     "text": [
      "result data stored in table '\"ALICE\".\"ml__td_sqlmr_persist_out__171996709153661\"'⫾⫾⫾⫾｜ 20% - 2/10\n",
      "                                                                                                 \r"
     ]
    },
    {
     "data": {
      "text/html": [
       "\n",
       "Updated dataset after performing target column transformation :"
      ],
      "text/plain": [
       "<IPython.core.display.HTML object>"
      ]
     },
     "metadata": {},
     "output_type": "display_data"
    },
    {
     "data": {
      "text/html": [
       "<style type=\"text/css\">\n",
       "\ttable {border:ridge 5px;}\n",
       "\ttable td {border:inset 1px;}\n",
       "\ttable tr#HeaderRow {background-color:grey; color:white;}</style>\n",
       "<html><table>\n",
       "\t<tr id=\"HeaderRow\">\n",
       "\t\t<th>fixed_acidity</th>\n",
       "\t\t<th>free_sulfur_dioxide</th>\n",
       "\t\t<th>volatile_acidity</th>\n",
       "\t\t<th>density</th>\n",
       "\t\t<th>total_sulfur_dioxide</th>\n",
       "\t\t<th>sulphates</th>\n",
       "\t\t<th>id</th>\n",
       "\t\t<th>alcohol</th>\n",
       "\t\t<th>residual_sugar</th>\n",
       "\t\t<th>pH</th>\n",
       "\t\t<th>chlorides</th>\n",
       "\t\t<th>citric_acid</th>\n",
       "\t\t<th>quality</th>\n",
       "\t</tr>\n",
       "\t<tr>\n",
       "\t\t<td>7.5</td>\n",
       "\t\t<td>13.0</td>\n",
       "\t\t<td>0.51</td>\n",
       "\t\t<td>0.99538</td>\n",
       "\t\t<td>31.0</td>\n",
       "\t\t<td>0.54</td>\n",
       "\t\t<td>9</td>\n",
       "\t\t<td>10.5</td>\n",
       "\t\t<td>1.7</td>\n",
       "\t\t<td>3.36</td>\n",
       "\t\t<td>0.084</td>\n",
       "\t\t<td>0.02</td>\n",
       "\t\t<td>1</td>\n",
       "\t</tr>\n",
       "\t<tr>\n",
       "\t\t<td>9.7</td>\n",
       "\t\t<td>20.0</td>\n",
       "\t\t<td>0.55</td>\n",
       "\t\t<td>1.0004</td>\n",
       "\t\t<td>53.0</td>\n",
       "\t\t<td>0.61</td>\n",
       "\t\t<td>8</td>\n",
       "\t\t<td>9.4</td>\n",
       "\t\t<td>2.9</td>\n",
       "\t\t<td>3.14</td>\n",
       "\t\t<td>0.087</td>\n",
       "\t\t<td>0.17</td>\n",
       "\t\t<td>0</td>\n",
       "\t</tr>\n",
       "\t<tr>\n",
       "\t\t<td>13.2</td>\n",
       "\t\t<td>12.0</td>\n",
       "\t\t<td>0.46</td>\n",
       "\t\t<td>1.0006</td>\n",
       "\t\t<td>35.0</td>\n",
       "\t\t<td>0.56</td>\n",
       "\t\t<td>24</td>\n",
       "\t\t<td>9.0</td>\n",
       "\t\t<td>2.2</td>\n",
       "\t\t<td>3.1</td>\n",
       "\t\t<td>0.071</td>\n",
       "\t\t<td>0.52</td>\n",
       "\t\t<td>1</td>\n",
       "\t</tr>\n",
       "\t<tr>\n",
       "\t\t<td>10.5</td>\n",
       "\t\t<td>14.0</td>\n",
       "\t\t<td>0.59</td>\n",
       "\t\t<td>0.9991</td>\n",
       "\t\t<td>47.0</td>\n",
       "\t\t<td>0.56</td>\n",
       "\t\t<td>10</td>\n",
       "\t\t<td>9.6</td>\n",
       "\t\t<td>2.1</td>\n",
       "\t\t<td>3.3</td>\n",
       "\t\t<td>0.07</td>\n",
       "\t\t<td>0.49</td>\n",
       "\t\t<td>0</td>\n",
       "\t</tr>\n",
       "\t<tr>\n",
       "\t\t<td>7.4</td>\n",
       "\t\t<td>17.0</td>\n",
       "\t\t<td>0.36</td>\n",
       "\t\t<td>0.99419</td>\n",
       "\t\t<td>24.0</td>\n",
       "\t\t<td>0.7</td>\n",
       "\t\t<td>19</td>\n",
       "\t\t<td>11.4</td>\n",
       "\t\t<td>1.8</td>\n",
       "\t\t<td>3.24</td>\n",
       "\t\t<td>0.074</td>\n",
       "\t\t<td>0.3</td>\n",
       "\t\t<td>1</td>\n",
       "\t</tr>\n",
       "\t<tr>\n",
       "\t\t<td>7.4</td>\n",
       "\t\t<td>18.0</td>\n",
       "\t\t<td>0.36</td>\n",
       "\t\t<td>0.9933</td>\n",
       "\t\t<td>38.0</td>\n",
       "\t\t<td>0.88</td>\n",
       "\t\t<td>11</td>\n",
       "\t\t<td>13.6</td>\n",
       "\t\t<td>1.8</td>\n",
       "\t\t<td>3.38</td>\n",
       "\t\t<td>0.075</td>\n",
       "\t\t<td>0.34</td>\n",
       "\t\t<td>1</td>\n",
       "\t</tr>\n",
       "\t<tr>\n",
       "\t\t<td>8.4</td>\n",
       "\t\t<td>14.0</td>\n",
       "\t\t<td>0.6</td>\n",
       "\t\t<td>0.9964</td>\n",
       "\t\t<td>111.0</td>\n",
       "\t\t<td>0.66</td>\n",
       "\t\t<td>44</td>\n",
       "\t\t<td>9.8</td>\n",
       "\t\t<td>2.2</td>\n",
       "\t\t<td>3.15</td>\n",
       "\t\t<td>0.085</td>\n",
       "\t\t<td>0.1</td>\n",
       "\t\t<td>0</td>\n",
       "\t</tr>\n",
       "\t<tr>\n",
       "\t\t<td>8.4</td>\n",
       "\t\t<td>23.0</td>\n",
       "\t\t<td>0.34</td>\n",
       "\t\t<td>0.99392</td>\n",
       "\t\t<td>36.0</td>\n",
       "\t\t<td>0.78</td>\n",
       "\t\t<td>20</td>\n",
       "\t\t<td>12.4</td>\n",
       "\t\t<td>2.1</td>\n",
       "\t\t<td>3.11</td>\n",
       "\t\t<td>0.072</td>\n",
       "\t\t<td>0.42</td>\n",
       "\t\t<td>1</td>\n",
       "\t</tr>\n",
       "\t<tr>\n",
       "\t\t<td>9.0</td>\n",
       "\t\t<td>21.0</td>\n",
       "\t\t<td>0.48</td>\n",
       "\t\t<td>0.9984</td>\n",
       "\t\t<td>122.0</td>\n",
       "\t\t<td>0.62</td>\n",
       "\t\t<td>46</td>\n",
       "\t\t<td>9.4</td>\n",
       "\t\t<td>2.8</td>\n",
       "\t\t<td>3.32</td>\n",
       "\t\t<td>0.084</td>\n",
       "\t\t<td>0.32</td>\n",
       "\t\t<td>0</td>\n",
       "\t</tr>\n",
       "\t<tr>\n",
       "\t\t<td>9.0</td>\n",
       "\t\t<td>15.0</td>\n",
       "\t\t<td>0.4</td>\n",
       "\t\t<td>0.99414</td>\n",
       "\t\t<td>40.0</td>\n",
       "\t\t<td>0.6</td>\n",
       "\t\t<td>22</td>\n",
       "\t\t<td>12.2</td>\n",
       "\t\t<td>2.0</td>\n",
       "\t\t<td>3.22</td>\n",
       "\t\t<td>0.058</td>\n",
       "\t\t<td>0.41</td>\n",
       "\t\t<td>1</td>\n",
       "\t</tr>\n",
       "</table></html>"
      ],
      "text/plain": [
       "   fixed_acidity  free_sulfur_dioxide  volatile_acidity  density  total_sulfur_dioxide  sulphates  id  alcohol  residual_sugar    pH  chlorides  citric_acid  quality\n",
       "0            7.5                 13.0              0.51  0.99538                  31.0       0.54   9     10.5             1.7  3.36      0.084         0.02        1\n",
       "1            9.7                 20.0              0.55  1.00040                  53.0       0.61   8      9.4             2.9  3.14      0.087         0.17        0\n",
       "2           13.2                 12.0              0.46  1.00060                  35.0       0.56  24      9.0             2.2  3.10      0.071         0.52        1\n",
       "3           10.5                 14.0              0.59  0.99910                  47.0       0.56  10      9.6             2.1  3.30      0.070         0.49        0\n",
       "4            7.4                 17.0              0.36  0.99419                  24.0       0.70  19     11.4             1.8  3.24      0.074         0.30        1\n",
       "5            7.4                 18.0              0.36  0.99330                  38.0       0.88  11     13.6             1.8  3.38      0.075         0.34        1\n",
       "6            8.4                 14.0              0.60  0.99640                 111.0       0.66  44      9.8             2.2  3.15      0.085         0.10        0\n",
       "7            8.4                 23.0              0.34  0.99392                  36.0       0.78  20     12.4             2.1  3.11      0.072         0.42        1\n",
       "8            9.0                 21.0              0.48  0.99840                 122.0       0.62  46      9.4             2.8  3.32      0.084         0.32        0\n",
       "9            9.0                 15.0              0.40  0.99414                  40.0       0.60  22     12.2             2.0  3.22      0.058         0.41        1"
      ]
     },
     "metadata": {},
     "output_type": "display_data"
    },
    {
     "name": "stdout",
     "output_type": "stream",
     "text": [
      "                                                                                                 \r"
     ]
    },
    {
     "data": {
      "text/html": [
       "320 rows X 13 columns"
      ],
      "text/plain": [
       "<IPython.core.display.HTML object>"
      ]
     },
     "metadata": {},
     "output_type": "display_data"
    },
    {
     "name": "stdout",
     "output_type": "stream",
     "text": [
      "                                                                                                 \r"
     ]
    },
    {
     "data": {
      "text/html": [
       "Performing transformation carried out in data preparation phase ..."
      ],
      "text/plain": [
       "<IPython.core.display.HTML object>"
      ]
     },
     "metadata": {},
     "output_type": "display_data"
    },
    {
     "name": "stdout",
     "output_type": "stream",
     "text": [
      "result data stored in table '\"ALICE\".\"ml__td_sqlmr_persist_out__171994420105643\"'⫾⫾⫾⫾｜ 60% - 6/10\n",
      "                                                                                                 \r"
     ]
    },
    {
     "data": {
      "text/html": [
       "\n",
       "Updated dataset after performing Lasso feature selection:"
      ],
      "text/plain": [
       "<IPython.core.display.HTML object>"
      ]
     },
     "metadata": {},
     "output_type": "display_data"
    },
    {
     "data": {
      "text/html": [
       "<style type=\"text/css\">\n",
       "\ttable {border:ridge 5px;}\n",
       "\ttable td {border:inset 1px;}\n",
       "\ttable tr#HeaderRow {background-color:grey; color:white;}</style>\n",
       "<html><table>\n",
       "\t<tr id=\"HeaderRow\">\n",
       "\t\t<th>id</th>\n",
       "\t\t<th>fixed_acidity</th>\n",
       "\t\t<th>free_sulfur_dioxide</th>\n",
       "\t\t<th>volatile_acidity</th>\n",
       "\t\t<th>density</th>\n",
       "\t\t<th>total_sulfur_dioxide</th>\n",
       "\t\t<th>sulphates</th>\n",
       "\t\t<th>alcohol</th>\n",
       "\t\t<th>residual_sugar</th>\n",
       "\t\t<th>pH</th>\n",
       "\t\t<th>chlorides</th>\n",
       "\t\t<th>citric_acid</th>\n",
       "\t\t<th>quality</th>\n",
       "\t</tr>\n",
       "\t<tr>\n",
       "\t\t<td>108</td>\n",
       "\t\t<td>7.2</td>\n",
       "\t\t<td>24.0</td>\n",
       "\t\t<td>0.36</td>\n",
       "\t\t<td>0.9953</td>\n",
       "\t\t<td>44.0</td>\n",
       "\t\t<td>0.85</td>\n",
       "\t\t<td>11.0</td>\n",
       "\t\t<td>2.1</td>\n",
       "\t\t<td>3.4</td>\n",
       "\t\t<td>0.074</td>\n",
       "\t\t<td>0.46</td>\n",
       "\t\t<td>1</td>\n",
       "\t</tr>\n",
       "\t<tr>\n",
       "\t\t<td>76</td>\n",
       "\t\t<td>7.2</td>\n",
       "\t\t<td>10.0</td>\n",
       "\t\t<td>0.67</td>\n",
       "\t\t<td>0.9956</td>\n",
       "\t\t<td>24.0</td>\n",
       "\t\t<td>0.72</td>\n",
       "\t\t<td>11.1</td>\n",
       "\t\t<td>2.2</td>\n",
       "\t\t<td>3.42</td>\n",
       "\t\t<td>0.068</td>\n",
       "\t\t<td>0.0</td>\n",
       "\t\t<td>1</td>\n",
       "\t</tr>\n",
       "\t<tr>\n",
       "\t\t<td>148</td>\n",
       "\t\t<td>9.9</td>\n",
       "\t\t<td>30.0</td>\n",
       "\t\t<td>0.53</td>\n",
       "\t\t<td>0.9971</td>\n",
       "\t\t<td>52.0</td>\n",
       "\t\t<td>0.76</td>\n",
       "\t\t<td>11.6</td>\n",
       "\t\t<td>2.4</td>\n",
       "\t\t<td>3.19</td>\n",
       "\t\t<td>0.093</td>\n",
       "\t\t<td>0.57</td>\n",
       "\t\t<td>1</td>\n",
       "\t</tr>\n",
       "\t<tr>\n",
       "\t\t<td>140</td>\n",
       "\t\t<td>9.9</td>\n",
       "\t\t<td>10.0</td>\n",
       "\t\t<td>0.44</td>\n",
       "\t\t<td>0.9964</td>\n",
       "\t\t<td>41.0</td>\n",
       "\t\t<td>0.69</td>\n",
       "\t\t<td>11.9</td>\n",
       "\t\t<td>2.2</td>\n",
       "\t\t<td>3.18</td>\n",
       "\t\t<td>0.091</td>\n",
       "\t\t<td>0.46</td>\n",
       "\t\t<td>1</td>\n",
       "\t</tr>\n",
       "\t<tr>\n",
       "\t\t<td>220</td>\n",
       "\t\t<td>7.1</td>\n",
       "\t\t<td>15.0</td>\n",
       "\t\t<td>0.53</td>\n",
       "\t\t<td>0.9951</td>\n",
       "\t\t<td>24.0</td>\n",
       "\t\t<td>0.66</td>\n",
       "\t\t<td>10.8</td>\n",
       "\t\t<td>1.7</td>\n",
       "\t\t<td>3.29</td>\n",
       "\t\t<td>0.071</td>\n",
       "\t\t<td>0.07</td>\n",
       "\t\t<td>1</td>\n",
       "\t</tr>\n",
       "\t<tr>\n",
       "\t\t<td>212</td>\n",
       "\t\t<td>7.1</td>\n",
       "\t\t<td>42.0</td>\n",
       "\t\t<td>0.69</td>\n",
       "\t\t<td>0.9961</td>\n",
       "\t\t<td>52.0</td>\n",
       "\t\t<td>0.6</td>\n",
       "\t\t<td>10.2</td>\n",
       "\t\t<td>2.1</td>\n",
       "\t\t<td>3.42</td>\n",
       "\t\t<td>0.063</td>\n",
       "\t\t<td>0.08</td>\n",
       "\t\t<td>1</td>\n",
       "\t</tr>\n",
       "\t<tr>\n",
       "\t\t<td>30</td>\n",
       "\t\t<td>9.0</td>\n",
       "\t\t<td>32.0</td>\n",
       "\t\t<td>0.6</td>\n",
       "\t\t<td>0.9965</td>\n",
       "\t\t<td>73.0</td>\n",
       "\t\t<td>0.57</td>\n",
       "\t\t<td>10.0</td>\n",
       "\t\t<td>2.0</td>\n",
       "\t\t<td>3.34</td>\n",
       "\t\t<td>0.069</td>\n",
       "\t\t<td>0.29</td>\n",
       "\t\t<td>0</td>\n",
       "\t</tr>\n",
       "\t<tr>\n",
       "\t\t<td>62</td>\n",
       "\t\t<td>8.3</td>\n",
       "\t\t<td>17.0</td>\n",
       "\t\t<td>0.65</td>\n",
       "\t\t<td>0.998</td>\n",
       "\t\t<td>40.0</td>\n",
       "\t\t<td>0.55</td>\n",
       "\t\t<td>9.5</td>\n",
       "\t\t<td>2.9</td>\n",
       "\t\t<td>3.29</td>\n",
       "\t\t<td>0.089</td>\n",
       "\t\t<td>0.1</td>\n",
       "\t\t<td>0</td>\n",
       "\t</tr>\n",
       "\t<tr>\n",
       "\t\t<td>78</td>\n",
       "\t\t<td>8.3</td>\n",
       "\t\t<td>12.0</td>\n",
       "\t\t<td>0.705</td>\n",
       "\t\t<td>0.9994</td>\n",
       "\t\t<td>28.0</td>\n",
       "\t\t<td>0.72</td>\n",
       "\t\t<td>10.0</td>\n",
       "\t\t<td>2.6</td>\n",
       "\t\t<td>3.51</td>\n",
       "\t\t<td>0.092</td>\n",
       "\t\t<td>0.12</td>\n",
       "\t\t<td>0</td>\n",
       "\t</tr>\n",
       "\t<tr>\n",
       "\t\t<td>70</td>\n",
       "\t\t<td>8.3</td>\n",
       "\t\t<td>6.0</td>\n",
       "\t\t<td>0.615</td>\n",
       "\t\t<td>0.9982</td>\n",
       "\t\t<td>19.0</td>\n",
       "\t\t<td>0.61</td>\n",
       "\t\t<td>9.3</td>\n",
       "\t\t<td>2.6</td>\n",
       "\t\t<td>3.26</td>\n",
       "\t\t<td>0.087</td>\n",
       "\t\t<td>0.22</td>\n",
       "\t\t<td>0</td>\n",
       "\t</tr>\n",
       "</table></html>"
      ],
      "text/plain": [
       "          id  fixed_acidity  free_sulfur_dioxide  volatile_acidity  density  total_sulfur_dioxide  sulphates  alcohol  residual_sugar    pH  chlorides  citric_acid\n",
       "quality                                                                                                                                                            \n",
       "1        108            7.2                 24.0             0.360   0.9953                  44.0       0.85     11.0             2.1  3.40      0.074         0.46\n",
       "1         76            7.2                 10.0             0.670   0.9956                  24.0       0.72     11.1             2.2  3.42      0.068         0.00\n",
       "1        148            9.9                 30.0             0.530   0.9971                  52.0       0.76     11.6             2.4  3.19      0.093         0.57\n",
       "1        140            9.9                 10.0             0.440   0.9964                  41.0       0.69     11.9             2.2  3.18      0.091         0.46\n",
       "1        220            7.1                 15.0             0.530   0.9951                  24.0       0.66     10.8             1.7  3.29      0.071         0.07\n",
       "1        212            7.1                 42.0             0.690   0.9961                  52.0       0.60     10.2             2.1  3.42      0.063         0.08\n",
       "0         30            9.0                 32.0             0.600   0.9965                  73.0       0.57     10.0             2.0  3.34      0.069         0.29\n",
       "0         62            8.3                 17.0             0.650   0.9980                  40.0       0.55      9.5             2.9  3.29      0.089         0.10\n",
       "0         78            8.3                 12.0             0.705   0.9994                  28.0       0.72     10.0             2.6  3.51      0.092         0.12\n",
       "0         70            8.3                  6.0             0.615   0.9982                  19.0       0.61      9.3             2.6  3.26      0.087         0.22"
      ]
     },
     "metadata": {},
     "output_type": "display_data"
    },
    {
     "name": "stdout",
     "output_type": "stream",
     "text": [
      "                                                                                                 \r"
     ]
    },
    {
     "data": {
      "text/html": [
       "320 rows X 13 columns"
      ],
      "text/plain": [
       "<IPython.core.display.HTML object>"
      ]
     },
     "metadata": {},
     "output_type": "display_data"
    },
    {
     "name": "stdout",
     "output_type": "stream",
     "text": [
      "                                                                                                 \r"
     ]
    },
    {
     "data": {
      "text/html": [
       "\n",
       "Updated dataset after performing scaling on Lasso selected features :"
      ],
      "text/plain": [
       "<IPython.core.display.HTML object>"
      ]
     },
     "metadata": {},
     "output_type": "display_data"
    },
    {
     "data": {
      "text/html": [
       "<style type=\"text/css\">\n",
       "\ttable {border:ridge 5px;}\n",
       "\ttable td {border:inset 1px;}\n",
       "\ttable tr#HeaderRow {background-color:grey; color:white;}</style>\n",
       "<html><table>\n",
       "\t<tr id=\"HeaderRow\">\n",
       "\t\t<th>quality</th>\n",
       "\t\t<th>id</th>\n",
       "\t\t<th>fixed_acidity</th>\n",
       "\t\t<th>free_sulfur_dioxide</th>\n",
       "\t\t<th>volatile_acidity</th>\n",
       "\t\t<th>density</th>\n",
       "\t\t<th>total_sulfur_dioxide</th>\n",
       "\t\t<th>sulphates</th>\n",
       "\t\t<th>alcohol</th>\n",
       "\t\t<th>residual_sugar</th>\n",
       "\t\t<th>pH</th>\n",
       "\t\t<th>chlorides</th>\n",
       "\t\t<th>citric_acid</th>\n",
       "\t</tr>\n",
       "\t<tr>\n",
       "\t\t<td>1</td>\n",
       "\t\t<td>108</td>\n",
       "\t\t<td>0.3000000000000001</td>\n",
       "\t\t<td>0.5609756097560976</td>\n",
       "\t\t<td>0.2711864406779661</td>\n",
       "\t\t<td>0.34482758620689963</td>\n",
       "\t\t<td>0.3114754098360656</td>\n",
       "\t\t<td>0.7741935483870968</td>\n",
       "\t\t<td>0.4893617021276596</td>\n",
       "\t\t<td>0.375</td>\n",
       "\t\t<td>0.6216216216216214</td>\n",
       "\t\t<td>0.41558441558441556</td>\n",
       "\t\t<td>0.6052631578947368</td>\n",
       "\t</tr>\n",
       "\t<tr>\n",
       "\t\t<td>1</td>\n",
       "\t\t<td>76</td>\n",
       "\t\t<td>0.3000000000000001</td>\n",
       "\t\t<td>0.21951219512195122</td>\n",
       "\t\t<td>0.6214689265536725</td>\n",
       "\t\t<td>0.3793103448275985</td>\n",
       "\t\t<td>0.14754098360655737</td>\n",
       "\t\t<td>0.564516129032258</td>\n",
       "\t\t<td>0.5106382978723404</td>\n",
       "\t\t<td>0.4166666666666667</td>\n",
       "\t\t<td>0.6486486486486485</td>\n",
       "\t\t<td>0.3376623376623378</td>\n",
       "\t\t<td>0.0</td>\n",
       "\t</tr>\n",
       "\t<tr>\n",
       "\t\t<td>1</td>\n",
       "\t\t<td>148</td>\n",
       "\t\t<td>0.6857142857142858</td>\n",
       "\t\t<td>0.7073170731707317</td>\n",
       "\t\t<td>0.46327683615819215</td>\n",
       "\t\t<td>0.5517241379310419</td>\n",
       "\t\t<td>0.3770491803278688</td>\n",
       "\t\t<td>0.6290322580645161</td>\n",
       "\t\t<td>0.6170212765957446</td>\n",
       "\t\t<td>0.4999999999999999</td>\n",
       "\t\t<td>0.3378378378378377</td>\n",
       "\t\t<td>0.6623376623376624</td>\n",
       "\t\t<td>0.7499999999999999</td>\n",
       "\t</tr>\n",
       "\t<tr>\n",
       "\t\t<td>1</td>\n",
       "\t\t<td>140</td>\n",
       "\t\t<td>0.6857142857142858</td>\n",
       "\t\t<td>0.21951219512195122</td>\n",
       "\t\t<td>0.36158192090395486</td>\n",
       "\t\t<td>0.4712643678160949</td>\n",
       "\t\t<td>0.28688524590163933</td>\n",
       "\t\t<td>0.5161290322580644</td>\n",
       "\t\t<td>0.6808510638297873</td>\n",
       "\t\t<td>0.4166666666666667</td>\n",
       "\t\t<td>0.3243243243243245</td>\n",
       "\t\t<td>0.6363636363636365</td>\n",
       "\t\t<td>0.6052631578947368</td>\n",
       "\t</tr>\n",
       "\t<tr>\n",
       "\t\t<td>1</td>\n",
       "\t\t<td>220</td>\n",
       "\t\t<td>0.2857142857142857</td>\n",
       "\t\t<td>0.34146341463414637</td>\n",
       "\t\t<td>0.46327683615819215</td>\n",
       "\t\t<td>0.32183908045977555</td>\n",
       "\t\t<td>0.14754098360655737</td>\n",
       "\t\t<td>0.46774193548387105</td>\n",
       "\t\t<td>0.4468085106382981</td>\n",
       "\t\t<td>0.20833333333333331</td>\n",
       "\t\t<td>0.47297297297297297</td>\n",
       "\t\t<td>0.3766233766233766</td>\n",
       "\t\t<td>0.09210526315789475</td>\n",
       "\t</tr>\n",
       "\t<tr>\n",
       "\t\t<td>1</td>\n",
       "\t\t<td>212</td>\n",
       "\t\t<td>0.2857142857142857</td>\n",
       "\t\t<td>1.0</td>\n",
       "\t\t<td>0.6440677966101696</td>\n",
       "\t\t<td>0.43678160919540876</td>\n",
       "\t\t<td>0.3770491803278688</td>\n",
       "\t\t<td>0.3709677419354838</td>\n",
       "\t\t<td>0.31914893617021267</td>\n",
       "\t\t<td>0.375</td>\n",
       "\t\t<td>0.6486486486486485</td>\n",
       "\t\t<td>0.27272727272727276</td>\n",
       "\t\t<td>0.10526315789473684</td>\n",
       "\t</tr>\n",
       "\t<tr>\n",
       "\t\t<td>0</td>\n",
       "\t\t<td>30</td>\n",
       "\t\t<td>0.5571428571428572</td>\n",
       "\t\t<td>0.7560975609756098</td>\n",
       "\t\t<td>0.5423728813559322</td>\n",
       "\t\t<td>0.4827586206896697</td>\n",
       "\t\t<td>0.5491803278688525</td>\n",
       "\t\t<td>0.32258064516129026</td>\n",
       "\t\t<td>0.27659574468085113</td>\n",
       "\t\t<td>0.3333333333333333</td>\n",
       "\t\t<td>0.5405405405405402</td>\n",
       "\t\t<td>0.35064935064935077</td>\n",
       "\t\t<td>0.381578947368421</td>\n",
       "\t</tr>\n",
       "\t<tr>\n",
       "\t\t<td>0</td>\n",
       "\t\t<td>62</td>\n",
       "\t\t<td>0.4571428571428573</td>\n",
       "\t\t<td>0.3902439024390244</td>\n",
       "\t\t<td>0.5988700564971753</td>\n",
       "\t\t<td>0.6551724137931131</td>\n",
       "\t\t<td>0.2786885245901639</td>\n",
       "\t\t<td>0.29032258064516137</td>\n",
       "\t\t<td>0.17021276595744692</td>\n",
       "\t\t<td>0.7083333333333333</td>\n",
       "\t\t<td>0.47297297297297297</td>\n",
       "\t\t<td>0.6103896103896104</td>\n",
       "\t\t<td>0.13157894736842105</td>\n",
       "\t</tr>\n",
       "\t<tr>\n",
       "\t\t<td>0</td>\n",
       "\t\t<td>78</td>\n",
       "\t\t<td>0.4571428571428573</td>\n",
       "\t\t<td>0.2682926829268293</td>\n",
       "\t\t<td>0.6610169491525424</td>\n",
       "\t\t<td>0.8160919540229945</td>\n",
       "\t\t<td>0.18032786885245902</td>\n",
       "\t\t<td>0.564516129032258</td>\n",
       "\t\t<td>0.27659574468085113</td>\n",
       "\t\t<td>0.5833333333333333</td>\n",
       "\t\t<td>0.7702702702702698</td>\n",
       "\t\t<td>0.6493506493506495</td>\n",
       "\t\t<td>0.15789473684210525</td>\n",
       "\t</tr>\n",
       "\t<tr>\n",
       "\t\t<td>0</td>\n",
       "\t\t<td>70</td>\n",
       "\t\t<td>0.4571428571428573</td>\n",
       "\t\t<td>0.12195121951219512</td>\n",
       "\t\t<td>0.5593220338983051</td>\n",
       "\t\t<td>0.6781609195402373</td>\n",
       "\t\t<td>0.10655737704918032</td>\n",
       "\t\t<td>0.3870967741935484</td>\n",
       "\t\t<td>0.12765957446808537</td>\n",
       "\t\t<td>0.5833333333333333</td>\n",
       "\t\t<td>0.43243243243243207</td>\n",
       "\t\t<td>0.5844155844155844</td>\n",
       "\t\t<td>0.2894736842105263</td>\n",
       "\t</tr>\n",
       "</table></html>"
      ],
      "text/plain": [
       "   quality   id  fixed_acidity  free_sulfur_dioxide  volatile_acidity   density  total_sulfur_dioxide  sulphates   alcohol  residual_sugar        pH  chlorides  citric_acid\n",
       "0        1  108       0.300000             0.560976          0.271186  0.344828              0.311475   0.774194  0.489362        0.375000  0.621622   0.415584     0.605263\n",
       "1        1   76       0.300000             0.219512          0.621469  0.379310              0.147541   0.564516  0.510638        0.416667  0.648649   0.337662     0.000000\n",
       "2        1  148       0.685714             0.707317          0.463277  0.551724              0.377049   0.629032  0.617021        0.500000  0.337838   0.662338     0.750000\n",
       "3        1  140       0.685714             0.219512          0.361582  0.471264              0.286885   0.516129  0.680851        0.416667  0.324324   0.636364     0.605263\n",
       "4        1  220       0.285714             0.341463          0.463277  0.321839              0.147541   0.467742  0.446809        0.208333  0.472973   0.376623     0.092105\n",
       "5        1  212       0.285714             1.000000          0.644068  0.436782              0.377049   0.370968  0.319149        0.375000  0.648649   0.272727     0.105263\n",
       "6        0   30       0.557143             0.756098          0.542373  0.482759              0.549180   0.322581  0.276596        0.333333  0.540541   0.350649     0.381579\n",
       "7        0   62       0.457143             0.390244          0.598870  0.655172              0.278689   0.290323  0.170213        0.708333  0.472973   0.610390     0.131579\n",
       "8        0   78       0.457143             0.268293          0.661017  0.816092              0.180328   0.564516  0.276596        0.583333  0.770270   0.649351     0.157895\n",
       "9        0   70       0.457143             0.121951          0.559322  0.678161              0.106557   0.387097  0.127660        0.583333  0.432432   0.584416     0.289474"
      ]
     },
     "metadata": {},
     "output_type": "display_data"
    },
    {
     "name": "stdout",
     "output_type": "stream",
     "text": [
      "                                                                                                 \r"
     ]
    },
    {
     "data": {
      "text/html": [
       "320 rows X 13 columns"
      ],
      "text/plain": [
       "<IPython.core.display.HTML object>"
      ]
     },
     "metadata": {},
     "output_type": "display_data"
    },
    {
     "name": "stdout",
     "output_type": "stream",
     "text": [
      "                                                                                                 \r"
     ]
    },
    {
     "data": {
      "text/html": [
       "\n",
       "Updated dataset after performing RFE feature selection:"
      ],
      "text/plain": [
       "<IPython.core.display.HTML object>"
      ]
     },
     "metadata": {},
     "output_type": "display_data"
    },
    {
     "data": {
      "text/html": [
       "<style type=\"text/css\">\n",
       "\ttable {border:ridge 5px;}\n",
       "\ttable td {border:inset 1px;}\n",
       "\ttable tr#HeaderRow {background-color:grey; color:white;}</style>\n",
       "<html><table>\n",
       "\t<tr id=\"HeaderRow\">\n",
       "\t\t<th>id</th>\n",
       "\t\t<th>fixed_acidity</th>\n",
       "\t\t<th>free_sulfur_dioxide</th>\n",
       "\t\t<th>volatile_acidity</th>\n",
       "\t\t<th>total_sulfur_dioxide</th>\n",
       "\t\t<th>density</th>\n",
       "\t\t<th>sulphates</th>\n",
       "\t\t<th>alcohol</th>\n",
       "\t\t<th>pH</th>\n",
       "\t\t<th>chlorides</th>\n",
       "\t\t<th>citric_acid</th>\n",
       "\t\t<th>quality</th>\n",
       "\t</tr>\n",
       "\t<tr>\n",
       "\t\t<td>108</td>\n",
       "\t\t<td>7.2</td>\n",
       "\t\t<td>24.0</td>\n",
       "\t\t<td>0.36</td>\n",
       "\t\t<td>44.0</td>\n",
       "\t\t<td>0.9953</td>\n",
       "\t\t<td>0.85</td>\n",
       "\t\t<td>11.0</td>\n",
       "\t\t<td>3.4</td>\n",
       "\t\t<td>0.074</td>\n",
       "\t\t<td>0.46</td>\n",
       "\t\t<td>1</td>\n",
       "\t</tr>\n",
       "\t<tr>\n",
       "\t\t<td>76</td>\n",
       "\t\t<td>7.2</td>\n",
       "\t\t<td>10.0</td>\n",
       "\t\t<td>0.67</td>\n",
       "\t\t<td>24.0</td>\n",
       "\t\t<td>0.9956</td>\n",
       "\t\t<td>0.72</td>\n",
       "\t\t<td>11.1</td>\n",
       "\t\t<td>3.42</td>\n",
       "\t\t<td>0.068</td>\n",
       "\t\t<td>0.0</td>\n",
       "\t\t<td>1</td>\n",
       "\t</tr>\n",
       "\t<tr>\n",
       "\t\t<td>148</td>\n",
       "\t\t<td>9.9</td>\n",
       "\t\t<td>30.0</td>\n",
       "\t\t<td>0.53</td>\n",
       "\t\t<td>52.0</td>\n",
       "\t\t<td>0.9971</td>\n",
       "\t\t<td>0.76</td>\n",
       "\t\t<td>11.6</td>\n",
       "\t\t<td>3.19</td>\n",
       "\t\t<td>0.093</td>\n",
       "\t\t<td>0.57</td>\n",
       "\t\t<td>1</td>\n",
       "\t</tr>\n",
       "\t<tr>\n",
       "\t\t<td>140</td>\n",
       "\t\t<td>9.9</td>\n",
       "\t\t<td>10.0</td>\n",
       "\t\t<td>0.44</td>\n",
       "\t\t<td>41.0</td>\n",
       "\t\t<td>0.9964</td>\n",
       "\t\t<td>0.69</td>\n",
       "\t\t<td>11.9</td>\n",
       "\t\t<td>3.18</td>\n",
       "\t\t<td>0.091</td>\n",
       "\t\t<td>0.46</td>\n",
       "\t\t<td>1</td>\n",
       "\t</tr>\n",
       "\t<tr>\n",
       "\t\t<td>220</td>\n",
       "\t\t<td>7.1</td>\n",
       "\t\t<td>15.0</td>\n",
       "\t\t<td>0.53</td>\n",
       "\t\t<td>24.0</td>\n",
       "\t\t<td>0.9951</td>\n",
       "\t\t<td>0.66</td>\n",
       "\t\t<td>10.8</td>\n",
       "\t\t<td>3.29</td>\n",
       "\t\t<td>0.071</td>\n",
       "\t\t<td>0.07</td>\n",
       "\t\t<td>1</td>\n",
       "\t</tr>\n",
       "\t<tr>\n",
       "\t\t<td>212</td>\n",
       "\t\t<td>7.1</td>\n",
       "\t\t<td>42.0</td>\n",
       "\t\t<td>0.69</td>\n",
       "\t\t<td>52.0</td>\n",
       "\t\t<td>0.9961</td>\n",
       "\t\t<td>0.6</td>\n",
       "\t\t<td>10.2</td>\n",
       "\t\t<td>3.42</td>\n",
       "\t\t<td>0.063</td>\n",
       "\t\t<td>0.08</td>\n",
       "\t\t<td>1</td>\n",
       "\t</tr>\n",
       "\t<tr>\n",
       "\t\t<td>30</td>\n",
       "\t\t<td>9.0</td>\n",
       "\t\t<td>32.0</td>\n",
       "\t\t<td>0.6</td>\n",
       "\t\t<td>73.0</td>\n",
       "\t\t<td>0.9965</td>\n",
       "\t\t<td>0.57</td>\n",
       "\t\t<td>10.0</td>\n",
       "\t\t<td>3.34</td>\n",
       "\t\t<td>0.069</td>\n",
       "\t\t<td>0.29</td>\n",
       "\t\t<td>0</td>\n",
       "\t</tr>\n",
       "\t<tr>\n",
       "\t\t<td>62</td>\n",
       "\t\t<td>8.3</td>\n",
       "\t\t<td>17.0</td>\n",
       "\t\t<td>0.65</td>\n",
       "\t\t<td>40.0</td>\n",
       "\t\t<td>0.998</td>\n",
       "\t\t<td>0.55</td>\n",
       "\t\t<td>9.5</td>\n",
       "\t\t<td>3.29</td>\n",
       "\t\t<td>0.089</td>\n",
       "\t\t<td>0.1</td>\n",
       "\t\t<td>0</td>\n",
       "\t</tr>\n",
       "\t<tr>\n",
       "\t\t<td>78</td>\n",
       "\t\t<td>8.3</td>\n",
       "\t\t<td>12.0</td>\n",
       "\t\t<td>0.705</td>\n",
       "\t\t<td>28.0</td>\n",
       "\t\t<td>0.9994</td>\n",
       "\t\t<td>0.72</td>\n",
       "\t\t<td>10.0</td>\n",
       "\t\t<td>3.51</td>\n",
       "\t\t<td>0.092</td>\n",
       "\t\t<td>0.12</td>\n",
       "\t\t<td>0</td>\n",
       "\t</tr>\n",
       "\t<tr>\n",
       "\t\t<td>70</td>\n",
       "\t\t<td>8.3</td>\n",
       "\t\t<td>6.0</td>\n",
       "\t\t<td>0.615</td>\n",
       "\t\t<td>19.0</td>\n",
       "\t\t<td>0.9982</td>\n",
       "\t\t<td>0.61</td>\n",
       "\t\t<td>9.3</td>\n",
       "\t\t<td>3.26</td>\n",
       "\t\t<td>0.087</td>\n",
       "\t\t<td>0.22</td>\n",
       "\t\t<td>0</td>\n",
       "\t</tr>\n",
       "</table></html>"
      ],
      "text/plain": [
       "          id  fixed_acidity  free_sulfur_dioxide  volatile_acidity  total_sulfur_dioxide  density  sulphates  alcohol    pH  chlorides  citric_acid\n",
       "quality                                                                                                                                            \n",
       "1        108            7.2                 24.0             0.360                  44.0   0.9953       0.85     11.0  3.40      0.074         0.46\n",
       "1         76            7.2                 10.0             0.670                  24.0   0.9956       0.72     11.1  3.42      0.068         0.00\n",
       "1        148            9.9                 30.0             0.530                  52.0   0.9971       0.76     11.6  3.19      0.093         0.57\n",
       "1        140            9.9                 10.0             0.440                  41.0   0.9964       0.69     11.9  3.18      0.091         0.46\n",
       "1        220            7.1                 15.0             0.530                  24.0   0.9951       0.66     10.8  3.29      0.071         0.07\n",
       "1        212            7.1                 42.0             0.690                  52.0   0.9961       0.60     10.2  3.42      0.063         0.08\n",
       "0         30            9.0                 32.0             0.600                  73.0   0.9965       0.57     10.0  3.34      0.069         0.29\n",
       "0         62            8.3                 17.0             0.650                  40.0   0.9980       0.55      9.5  3.29      0.089         0.10\n",
       "0         78            8.3                 12.0             0.705                  28.0   0.9994       0.72     10.0  3.51      0.092         0.12\n",
       "0         70            8.3                  6.0             0.615                  19.0   0.9982       0.61      9.3  3.26      0.087         0.22"
      ]
     },
     "metadata": {},
     "output_type": "display_data"
    },
    {
     "name": "stdout",
     "output_type": "stream",
     "text": [
      "                                                                                                 \r"
     ]
    },
    {
     "data": {
      "text/html": [
       "320 rows X 12 columns"
      ],
      "text/plain": [
       "<IPython.core.display.HTML object>"
      ]
     },
     "metadata": {},
     "output_type": "display_data"
    },
    {
     "name": "stdout",
     "output_type": "stream",
     "text": [
      "                                                                                                 \r"
     ]
    },
    {
     "data": {
      "text/html": [
       "\n",
       "Updated dataset after performing scaling on RFE selected features :"
      ],
      "text/plain": [
       "<IPython.core.display.HTML object>"
      ]
     },
     "metadata": {},
     "output_type": "display_data"
    },
    {
     "data": {
      "text/html": [
       "<style type=\"text/css\">\n",
       "\ttable {border:ridge 5px;}\n",
       "\ttable td {border:inset 1px;}\n",
       "\ttable tr#HeaderRow {background-color:grey; color:white;}</style>\n",
       "<html><table>\n",
       "\t<tr id=\"HeaderRow\">\n",
       "\t\t<th>quality</th>\n",
       "\t\t<th>id</th>\n",
       "\t\t<th>r_fixed_acidity</th>\n",
       "\t\t<th>r_free_sulfur_dioxide</th>\n",
       "\t\t<th>r_volatile_acidity</th>\n",
       "\t\t<th>r_total_sulfur_dioxide</th>\n",
       "\t\t<th>r_density</th>\n",
       "\t\t<th>r_sulphates</th>\n",
       "\t\t<th>r_alcohol</th>\n",
       "\t\t<th>r_pH</th>\n",
       "\t\t<th>r_chlorides</th>\n",
       "\t\t<th>r_citric_acid</th>\n",
       "\t</tr>\n",
       "\t<tr>\n",
       "\t\t<td>1</td>\n",
       "\t\t<td>108</td>\n",
       "\t\t<td>0.3000000000000001</td>\n",
       "\t\t<td>0.5609756097560976</td>\n",
       "\t\t<td>0.2711864406779661</td>\n",
       "\t\t<td>0.3114754098360656</td>\n",
       "\t\t<td>0.34482758620689963</td>\n",
       "\t\t<td>0.7741935483870968</td>\n",
       "\t\t<td>0.4893617021276596</td>\n",
       "\t\t<td>0.6216216216216214</td>\n",
       "\t\t<td>0.41558441558441556</td>\n",
       "\t\t<td>0.6052631578947368</td>\n",
       "\t</tr>\n",
       "\t<tr>\n",
       "\t\t<td>1</td>\n",
       "\t\t<td>76</td>\n",
       "\t\t<td>0.3000000000000001</td>\n",
       "\t\t<td>0.21951219512195122</td>\n",
       "\t\t<td>0.6214689265536725</td>\n",
       "\t\t<td>0.14754098360655737</td>\n",
       "\t\t<td>0.3793103448275985</td>\n",
       "\t\t<td>0.564516129032258</td>\n",
       "\t\t<td>0.5106382978723404</td>\n",
       "\t\t<td>0.6486486486486485</td>\n",
       "\t\t<td>0.3376623376623378</td>\n",
       "\t\t<td>0.0</td>\n",
       "\t</tr>\n",
       "\t<tr>\n",
       "\t\t<td>1</td>\n",
       "\t\t<td>148</td>\n",
       "\t\t<td>0.6857142857142858</td>\n",
       "\t\t<td>0.7073170731707317</td>\n",
       "\t\t<td>0.46327683615819215</td>\n",
       "\t\t<td>0.3770491803278688</td>\n",
       "\t\t<td>0.5517241379310419</td>\n",
       "\t\t<td>0.6290322580645161</td>\n",
       "\t\t<td>0.6170212765957446</td>\n",
       "\t\t<td>0.3378378378378377</td>\n",
       "\t\t<td>0.6623376623376624</td>\n",
       "\t\t<td>0.7499999999999999</td>\n",
       "\t</tr>\n",
       "\t<tr>\n",
       "\t\t<td>1</td>\n",
       "\t\t<td>140</td>\n",
       "\t\t<td>0.6857142857142858</td>\n",
       "\t\t<td>0.21951219512195122</td>\n",
       "\t\t<td>0.36158192090395486</td>\n",
       "\t\t<td>0.28688524590163933</td>\n",
       "\t\t<td>0.4712643678160949</td>\n",
       "\t\t<td>0.5161290322580644</td>\n",
       "\t\t<td>0.6808510638297873</td>\n",
       "\t\t<td>0.3243243243243245</td>\n",
       "\t\t<td>0.6363636363636365</td>\n",
       "\t\t<td>0.6052631578947368</td>\n",
       "\t</tr>\n",
       "\t<tr>\n",
       "\t\t<td>1</td>\n",
       "\t\t<td>220</td>\n",
       "\t\t<td>0.2857142857142857</td>\n",
       "\t\t<td>0.34146341463414637</td>\n",
       "\t\t<td>0.46327683615819215</td>\n",
       "\t\t<td>0.14754098360655737</td>\n",
       "\t\t<td>0.32183908045977555</td>\n",
       "\t\t<td>0.46774193548387105</td>\n",
       "\t\t<td>0.4468085106382981</td>\n",
       "\t\t<td>0.47297297297297297</td>\n",
       "\t\t<td>0.3766233766233766</td>\n",
       "\t\t<td>0.09210526315789475</td>\n",
       "\t</tr>\n",
       "\t<tr>\n",
       "\t\t<td>1</td>\n",
       "\t\t<td>212</td>\n",
       "\t\t<td>0.2857142857142857</td>\n",
       "\t\t<td>1.0</td>\n",
       "\t\t<td>0.6440677966101696</td>\n",
       "\t\t<td>0.3770491803278688</td>\n",
       "\t\t<td>0.43678160919540876</td>\n",
       "\t\t<td>0.3709677419354838</td>\n",
       "\t\t<td>0.31914893617021267</td>\n",
       "\t\t<td>0.6486486486486485</td>\n",
       "\t\t<td>0.27272727272727276</td>\n",
       "\t\t<td>0.10526315789473684</td>\n",
       "\t</tr>\n",
       "\t<tr>\n",
       "\t\t<td>0</td>\n",
       "\t\t<td>30</td>\n",
       "\t\t<td>0.5571428571428572</td>\n",
       "\t\t<td>0.7560975609756098</td>\n",
       "\t\t<td>0.5423728813559322</td>\n",
       "\t\t<td>0.5491803278688525</td>\n",
       "\t\t<td>0.4827586206896697</td>\n",
       "\t\t<td>0.32258064516129026</td>\n",
       "\t\t<td>0.27659574468085113</td>\n",
       "\t\t<td>0.5405405405405402</td>\n",
       "\t\t<td>0.35064935064935077</td>\n",
       "\t\t<td>0.381578947368421</td>\n",
       "\t</tr>\n",
       "\t<tr>\n",
       "\t\t<td>0</td>\n",
       "\t\t<td>62</td>\n",
       "\t\t<td>0.4571428571428573</td>\n",
       "\t\t<td>0.3902439024390244</td>\n",
       "\t\t<td>0.5988700564971753</td>\n",
       "\t\t<td>0.2786885245901639</td>\n",
       "\t\t<td>0.6551724137931131</td>\n",
       "\t\t<td>0.29032258064516137</td>\n",
       "\t\t<td>0.17021276595744692</td>\n",
       "\t\t<td>0.47297297297297297</td>\n",
       "\t\t<td>0.6103896103896104</td>\n",
       "\t\t<td>0.13157894736842105</td>\n",
       "\t</tr>\n",
       "\t<tr>\n",
       "\t\t<td>0</td>\n",
       "\t\t<td>78</td>\n",
       "\t\t<td>0.4571428571428573</td>\n",
       "\t\t<td>0.2682926829268293</td>\n",
       "\t\t<td>0.6610169491525424</td>\n",
       "\t\t<td>0.18032786885245902</td>\n",
       "\t\t<td>0.8160919540229945</td>\n",
       "\t\t<td>0.564516129032258</td>\n",
       "\t\t<td>0.27659574468085113</td>\n",
       "\t\t<td>0.7702702702702698</td>\n",
       "\t\t<td>0.6493506493506495</td>\n",
       "\t\t<td>0.15789473684210525</td>\n",
       "\t</tr>\n",
       "\t<tr>\n",
       "\t\t<td>0</td>\n",
       "\t\t<td>70</td>\n",
       "\t\t<td>0.4571428571428573</td>\n",
       "\t\t<td>0.12195121951219512</td>\n",
       "\t\t<td>0.5593220338983051</td>\n",
       "\t\t<td>0.10655737704918032</td>\n",
       "\t\t<td>0.6781609195402373</td>\n",
       "\t\t<td>0.3870967741935484</td>\n",
       "\t\t<td>0.12765957446808537</td>\n",
       "\t\t<td>0.43243243243243207</td>\n",
       "\t\t<td>0.5844155844155844</td>\n",
       "\t\t<td>0.2894736842105263</td>\n",
       "\t</tr>\n",
       "</table></html>"
      ],
      "text/plain": [
       "   quality   id  r_fixed_acidity  r_free_sulfur_dioxide  r_volatile_acidity  r_total_sulfur_dioxide  r_density  r_sulphates  r_alcohol      r_pH  r_chlorides  r_citric_acid\n",
       "0        1  108         0.300000               0.560976            0.271186                0.311475   0.344828     0.774194   0.489362  0.621622     0.415584       0.605263\n",
       "1        1   76         0.300000               0.219512            0.621469                0.147541   0.379310     0.564516   0.510638  0.648649     0.337662       0.000000\n",
       "2        1  148         0.685714               0.707317            0.463277                0.377049   0.551724     0.629032   0.617021  0.337838     0.662338       0.750000\n",
       "3        1  140         0.685714               0.219512            0.361582                0.286885   0.471264     0.516129   0.680851  0.324324     0.636364       0.605263\n",
       "4        1  220         0.285714               0.341463            0.463277                0.147541   0.321839     0.467742   0.446809  0.472973     0.376623       0.092105\n",
       "5        1  212         0.285714               1.000000            0.644068                0.377049   0.436782     0.370968   0.319149  0.648649     0.272727       0.105263\n",
       "6        0   30         0.557143               0.756098            0.542373                0.549180   0.482759     0.322581   0.276596  0.540541     0.350649       0.381579\n",
       "7        0   62         0.457143               0.390244            0.598870                0.278689   0.655172     0.290323   0.170213  0.472973     0.610390       0.131579\n",
       "8        0   78         0.457143               0.268293            0.661017                0.180328   0.816092     0.564516   0.276596  0.770270     0.649351       0.157895\n",
       "9        0   70         0.457143               0.121951            0.559322                0.106557   0.678161     0.387097   0.127660  0.432432     0.584416       0.289474"
      ]
     },
     "metadata": {},
     "output_type": "display_data"
    },
    {
     "name": "stdout",
     "output_type": "stream",
     "text": [
      "                                                                                                 \r"
     ]
    },
    {
     "data": {
      "text/html": [
       "320 rows X 12 columns"
      ],
      "text/plain": [
       "<IPython.core.display.HTML object>"
      ]
     },
     "metadata": {},
     "output_type": "display_data"
    },
    {
     "name": "stdout",
     "output_type": "stream",
     "text": [
      "                                                                                                 \r"
     ]
    },
    {
     "data": {
      "text/html": [
       "\n",
       "Updated dataset after performing scaling for PCA feature selection :"
      ],
      "text/plain": [
       "<IPython.core.display.HTML object>"
      ]
     },
     "metadata": {},
     "output_type": "display_data"
    },
    {
     "data": {
      "text/html": [
       "<style type=\"text/css\">\n",
       "\ttable {border:ridge 5px;}\n",
       "\ttable td {border:inset 1px;}\n",
       "\ttable tr#HeaderRow {background-color:grey; color:white;}</style>\n",
       "<html><table>\n",
       "\t<tr id=\"HeaderRow\">\n",
       "\t\t<th>quality</th>\n",
       "\t\t<th>id</th>\n",
       "\t\t<th>fixed_acidity</th>\n",
       "\t\t<th>free_sulfur_dioxide</th>\n",
       "\t\t<th>volatile_acidity</th>\n",
       "\t\t<th>total_sulfur_dioxide</th>\n",
       "\t\t<th>density</th>\n",
       "\t\t<th>sulphates</th>\n",
       "\t\t<th>alcohol</th>\n",
       "\t\t<th>residual_sugar</th>\n",
       "\t\t<th>pH</th>\n",
       "\t\t<th>chlorides</th>\n",
       "\t\t<th>citric_acid</th>\n",
       "\t</tr>\n",
       "\t<tr>\n",
       "\t\t<td>1</td>\n",
       "\t\t<td>108</td>\n",
       "\t\t<td>0.3000000000000001</td>\n",
       "\t\t<td>0.5609756097560976</td>\n",
       "\t\t<td>0.2711864406779661</td>\n",
       "\t\t<td>0.3114754098360656</td>\n",
       "\t\t<td>0.34104046242774916</td>\n",
       "\t\t<td>0.7741935483870968</td>\n",
       "\t\t<td>0.4893617021276596</td>\n",
       "\t\t<td>0.375</td>\n",
       "\t\t<td>0.6216216216216214</td>\n",
       "\t\t<td>0.41558441558441556</td>\n",
       "\t\t<td>0.6052631578947368</td>\n",
       "\t</tr>\n",
       "\t<tr>\n",
       "\t\t<td>1</td>\n",
       "\t\t<td>76</td>\n",
       "\t\t<td>0.3000000000000001</td>\n",
       "\t\t<td>0.21951219512195122</td>\n",
       "\t\t<td>0.6214689265536725</td>\n",
       "\t\t<td>0.14754098360655737</td>\n",
       "\t\t<td>0.3757225433526139</td>\n",
       "\t\t<td>0.564516129032258</td>\n",
       "\t\t<td>0.5106382978723404</td>\n",
       "\t\t<td>0.4166666666666667</td>\n",
       "\t\t<td>0.6486486486486485</td>\n",
       "\t\t<td>0.3376623376623378</td>\n",
       "\t\t<td>0.0</td>\n",
       "\t</tr>\n",
       "\t<tr>\n",
       "\t\t<td>1</td>\n",
       "\t\t<td>148</td>\n",
       "\t\t<td>0.6857142857142858</td>\n",
       "\t\t<td>0.7073170731707317</td>\n",
       "\t\t<td>0.46327683615819215</td>\n",
       "\t\t<td>0.3770491803278688</td>\n",
       "\t\t<td>0.5491329479768864</td>\n",
       "\t\t<td>0.6290322580645161</td>\n",
       "\t\t<td>0.6170212765957446</td>\n",
       "\t\t<td>0.4999999999999999</td>\n",
       "\t\t<td>0.3378378378378377</td>\n",
       "\t\t<td>0.6623376623376624</td>\n",
       "\t\t<td>0.7499999999999999</td>\n",
       "\t</tr>\n",
       "\t<tr>\n",
       "\t\t<td>1</td>\n",
       "\t\t<td>140</td>\n",
       "\t\t<td>0.6857142857142858</td>\n",
       "\t\t<td>0.21951219512195122</td>\n",
       "\t\t<td>0.36158192090395486</td>\n",
       "\t\t<td>0.28688524590163933</td>\n",
       "\t\t<td>0.4682080924855524</td>\n",
       "\t\t<td>0.5161290322580644</td>\n",
       "\t\t<td>0.6808510638297873</td>\n",
       "\t\t<td>0.4166666666666667</td>\n",
       "\t\t<td>0.3243243243243245</td>\n",
       "\t\t<td>0.6363636363636365</td>\n",
       "\t\t<td>0.6052631578947368</td>\n",
       "\t</tr>\n",
       "\t<tr>\n",
       "\t\t<td>1</td>\n",
       "\t\t<td>220</td>\n",
       "\t\t<td>0.2857142857142857</td>\n",
       "\t\t<td>0.34146341463414637</td>\n",
       "\t\t<td>0.46327683615819215</td>\n",
       "\t\t<td>0.14754098360655737</td>\n",
       "\t\t<td>0.3179190751445145</td>\n",
       "\t\t<td>0.46774193548387105</td>\n",
       "\t\t<td>0.4468085106382981</td>\n",
       "\t\t<td>0.20833333333333331</td>\n",
       "\t\t<td>0.47297297297297297</td>\n",
       "\t\t<td>0.3766233766233766</td>\n",
       "\t\t<td>0.09210526315789475</td>\n",
       "\t</tr>\n",
       "\t<tr>\n",
       "\t\t<td>1</td>\n",
       "\t\t<td>212</td>\n",
       "\t\t<td>0.2857142857142857</td>\n",
       "\t\t<td>1.0</td>\n",
       "\t\t<td>0.6440677966101696</td>\n",
       "\t\t<td>0.3770491803278688</td>\n",
       "\t\t<td>0.4335260115607005</td>\n",
       "\t\t<td>0.3709677419354838</td>\n",
       "\t\t<td>0.31914893617021267</td>\n",
       "\t\t<td>0.375</td>\n",
       "\t\t<td>0.6486486486486485</td>\n",
       "\t\t<td>0.27272727272727276</td>\n",
       "\t\t<td>0.10526315789473684</td>\n",
       "\t</tr>\n",
       "\t<tr>\n",
       "\t\t<td>0</td>\n",
       "\t\t<td>30</td>\n",
       "\t\t<td>0.5571428571428572</td>\n",
       "\t\t<td>0.7560975609756098</td>\n",
       "\t\t<td>0.5423728813559322</td>\n",
       "\t\t<td>0.5491803278688525</td>\n",
       "\t\t<td>0.47976878612718254</td>\n",
       "\t\t<td>0.32258064516129026</td>\n",
       "\t\t<td>0.27659574468085113</td>\n",
       "\t\t<td>0.3333333333333333</td>\n",
       "\t\t<td>0.5405405405405402</td>\n",
       "\t\t<td>0.35064935064935077</td>\n",
       "\t\t<td>0.381578947368421</td>\n",
       "\t</tr>\n",
       "\t<tr>\n",
       "\t\t<td>0</td>\n",
       "\t\t<td>62</td>\n",
       "\t\t<td>0.4571428571428573</td>\n",
       "\t\t<td>0.3902439024390244</td>\n",
       "\t\t<td>0.5988700564971753</td>\n",
       "\t\t<td>0.2786885245901639</td>\n",
       "\t\t<td>0.653179190751455</td>\n",
       "\t\t<td>0.29032258064516137</td>\n",
       "\t\t<td>0.17021276595744692</td>\n",
       "\t\t<td>0.7083333333333333</td>\n",
       "\t\t<td>0.47297297297297297</td>\n",
       "\t\t<td>0.6103896103896104</td>\n",
       "\t\t<td>0.13157894736842105</td>\n",
       "\t</tr>\n",
       "\t<tr>\n",
       "\t\t<td>0</td>\n",
       "\t\t<td>78</td>\n",
       "\t\t<td>0.4571428571428573</td>\n",
       "\t\t<td>0.2682926829268293</td>\n",
       "\t\t<td>0.6610169491525424</td>\n",
       "\t\t<td>0.18032786885245902</td>\n",
       "\t\t<td>0.8150289017341102</td>\n",
       "\t\t<td>0.564516129032258</td>\n",
       "\t\t<td>0.27659574468085113</td>\n",
       "\t\t<td>0.5833333333333333</td>\n",
       "\t\t<td>0.7702702702702698</td>\n",
       "\t\t<td>0.6493506493506495</td>\n",
       "\t\t<td>0.15789473684210525</td>\n",
       "\t</tr>\n",
       "\t<tr>\n",
       "\t\t<td>0</td>\n",
       "\t\t<td>70</td>\n",
       "\t\t<td>0.4571428571428573</td>\n",
       "\t\t<td>0.12195121951219512</td>\n",
       "\t\t<td>0.5593220338983051</td>\n",
       "\t\t<td>0.10655737704918032</td>\n",
       "\t\t<td>0.6763005780346897</td>\n",
       "\t\t<td>0.3870967741935484</td>\n",
       "\t\t<td>0.12765957446808537</td>\n",
       "\t\t<td>0.5833333333333333</td>\n",
       "\t\t<td>0.43243243243243207</td>\n",
       "\t\t<td>0.5844155844155844</td>\n",
       "\t\t<td>0.2894736842105263</td>\n",
       "\t</tr>\n",
       "</table></html>"
      ],
      "text/plain": [
       "   quality   id  fixed_acidity  free_sulfur_dioxide  volatile_acidity  total_sulfur_dioxide   density  sulphates   alcohol  residual_sugar        pH  chlorides  citric_acid\n",
       "0        1  108       0.300000             0.560976          0.271186              0.311475  0.341040   0.774194  0.489362        0.375000  0.621622   0.415584     0.605263\n",
       "1        1   76       0.300000             0.219512          0.621469              0.147541  0.375723   0.564516  0.510638        0.416667  0.648649   0.337662     0.000000\n",
       "2        1  148       0.685714             0.707317          0.463277              0.377049  0.549133   0.629032  0.617021        0.500000  0.337838   0.662338     0.750000\n",
       "3        1  140       0.685714             0.219512          0.361582              0.286885  0.468208   0.516129  0.680851        0.416667  0.324324   0.636364     0.605263\n",
       "4        1  220       0.285714             0.341463          0.463277              0.147541  0.317919   0.467742  0.446809        0.208333  0.472973   0.376623     0.092105\n",
       "5        1  212       0.285714             1.000000          0.644068              0.377049  0.433526   0.370968  0.319149        0.375000  0.648649   0.272727     0.105263\n",
       "6        0   30       0.557143             0.756098          0.542373              0.549180  0.479769   0.322581  0.276596        0.333333  0.540541   0.350649     0.381579\n",
       "7        0   62       0.457143             0.390244          0.598870              0.278689  0.653179   0.290323  0.170213        0.708333  0.472973   0.610390     0.131579\n",
       "8        0   78       0.457143             0.268293          0.661017              0.180328  0.815029   0.564516  0.276596        0.583333  0.770270   0.649351     0.157895\n",
       "9        0   70       0.457143             0.121951          0.559322              0.106557  0.676301   0.387097  0.127660        0.583333  0.432432   0.584416     0.289474"
      ]
     },
     "metadata": {},
     "output_type": "display_data"
    },
    {
     "name": "stdout",
     "output_type": "stream",
     "text": [
      "                                                                                                 \r"
     ]
    },
    {
     "data": {
      "text/html": [
       "320 rows X 13 columns"
      ],
      "text/plain": [
       "<IPython.core.display.HTML object>"
      ]
     },
     "metadata": {},
     "output_type": "display_data"
    },
    {
     "name": "stdout",
     "output_type": "stream",
     "text": [
      "                                                                                                 \r"
     ]
    },
    {
     "data": {
      "text/html": [
       "\n",
       "Updated dataset after performing PCA feature selection :"
      ],
      "text/plain": [
       "<IPython.core.display.HTML object>"
      ]
     },
     "metadata": {},
     "output_type": "display_data"
    },
    {
     "data": {
      "text/html": [
       "<div>\n",
       "<style scoped>\n",
       "    .dataframe tbody tr th:only-of-type {\n",
       "        vertical-align: middle;\n",
       "    }\n",
       "\n",
       "    .dataframe tbody tr th {\n",
       "        vertical-align: top;\n",
       "    }\n",
       "\n",
       "    .dataframe thead th {\n",
       "        text-align: right;\n",
       "    }\n",
       "</style>\n",
       "<table border=\"1\" class=\"dataframe\">\n",
       "  <thead>\n",
       "    <tr style=\"text-align: right;\">\n",
       "      <th></th>\n",
       "      <th>id</th>\n",
       "      <th>col_0</th>\n",
       "      <th>col_1</th>\n",
       "      <th>col_2</th>\n",
       "      <th>col_3</th>\n",
       "      <th>col_4</th>\n",
       "      <th>col_5</th>\n",
       "      <th>col_6</th>\n",
       "      <th>col_7</th>\n",
       "      <th>col_8</th>\n",
       "      <th>quality</th>\n",
       "    </tr>\n",
       "  </thead>\n",
       "  <tbody>\n",
       "    <tr>\n",
       "      <th>0</th>\n",
       "      <td>12</td>\n",
       "      <td>0.287806</td>\n",
       "      <td>-0.741419</td>\n",
       "      <td>0.371373</td>\n",
       "      <td>-0.129344</td>\n",
       "      <td>0.119873</td>\n",
       "      <td>-0.175913</td>\n",
       "      <td>-0.047666</td>\n",
       "      <td>0.076570</td>\n",
       "      <td>-0.111415</td>\n",
       "      <td>1</td>\n",
       "    </tr>\n",
       "    <tr>\n",
       "      <th>1</th>\n",
       "      <td>30</td>\n",
       "      <td>-0.105893</td>\n",
       "      <td>0.331653</td>\n",
       "      <td>0.223327</td>\n",
       "      <td>-0.158764</td>\n",
       "      <td>0.071713</td>\n",
       "      <td>-0.173286</td>\n",
       "      <td>0.082782</td>\n",
       "      <td>-0.123512</td>\n",
       "      <td>0.169854</td>\n",
       "      <td>0</td>\n",
       "    </tr>\n",
       "    <tr>\n",
       "      <th>2</th>\n",
       "      <td>124</td>\n",
       "      <td>-0.163778</td>\n",
       "      <td>-0.180015</td>\n",
       "      <td>0.030884</td>\n",
       "      <td>-0.185593</td>\n",
       "      <td>-0.074352</td>\n",
       "      <td>-0.165587</td>\n",
       "      <td>0.133578</td>\n",
       "      <td>-0.092160</td>\n",
       "      <td>-0.185214</td>\n",
       "      <td>1</td>\n",
       "    </tr>\n",
       "    <tr>\n",
       "      <th>3</th>\n",
       "      <td>62</td>\n",
       "      <td>-0.115800</td>\n",
       "      <td>0.233452</td>\n",
       "      <td>-0.275248</td>\n",
       "      <td>0.229301</td>\n",
       "      <td>0.030224</td>\n",
       "      <td>-0.078580</td>\n",
       "      <td>-0.026563</td>\n",
       "      <td>-0.155163</td>\n",
       "      <td>-0.137235</td>\n",
       "      <td>0</td>\n",
       "    </tr>\n",
       "    <tr>\n",
       "      <th>4</th>\n",
       "      <td>108</td>\n",
       "      <td>0.127180</td>\n",
       "      <td>-0.085709</td>\n",
       "      <td>0.476774</td>\n",
       "      <td>-0.051823</td>\n",
       "      <td>-0.214005</td>\n",
       "      <td>0.150726</td>\n",
       "      <td>-0.015962</td>\n",
       "      <td>0.005012</td>\n",
       "      <td>0.045101</td>\n",
       "      <td>1</td>\n",
       "    </tr>\n",
       "    <tr>\n",
       "      <th>5</th>\n",
       "      <td>78</td>\n",
       "      <td>-0.073103</td>\n",
       "      <td>0.069755</td>\n",
       "      <td>-0.284094</td>\n",
       "      <td>0.370541</td>\n",
       "      <td>-0.325897</td>\n",
       "      <td>-0.026598</td>\n",
       "      <td>-0.019291</td>\n",
       "      <td>-0.048646</td>\n",
       "      <td>0.086330</td>\n",
       "      <td>0</td>\n",
       "    </tr>\n",
       "    <tr>\n",
       "      <th>6</th>\n",
       "      <td>100</td>\n",
       "      <td>-0.151830</td>\n",
       "      <td>0.025472</td>\n",
       "      <td>-0.188827</td>\n",
       "      <td>-0.044220</td>\n",
       "      <td>0.090697</td>\n",
       "      <td>-0.143808</td>\n",
       "      <td>-0.245329</td>\n",
       "      <td>-0.127435</td>\n",
       "      <td>-0.214358</td>\n",
       "      <td>1</td>\n",
       "    </tr>\n",
       "    <tr>\n",
       "      <th>7</th>\n",
       "      <td>70</td>\n",
       "      <td>0.082785</td>\n",
       "      <td>0.008203</td>\n",
       "      <td>-0.423116</td>\n",
       "      <td>0.115604</td>\n",
       "      <td>-0.070021</td>\n",
       "      <td>-0.043155</td>\n",
       "      <td>-0.060350</td>\n",
       "      <td>-0.033245</td>\n",
       "      <td>-0.119566</td>\n",
       "      <td>0</td>\n",
       "    </tr>\n",
       "    <tr>\n",
       "      <th>8</th>\n",
       "      <td>76</td>\n",
       "      <td>-0.305868</td>\n",
       "      <td>-0.344281</td>\n",
       "      <td>-0.005990</td>\n",
       "      <td>0.188582</td>\n",
       "      <td>-0.114590</td>\n",
       "      <td>-0.092166</td>\n",
       "      <td>0.132384</td>\n",
       "      <td>0.059489</td>\n",
       "      <td>-0.061600</td>\n",
       "      <td>1</td>\n",
       "    </tr>\n",
       "    <tr>\n",
       "      <th>9</th>\n",
       "      <td>126</td>\n",
       "      <td>-0.051655</td>\n",
       "      <td>0.811085</td>\n",
       "      <td>0.218779</td>\n",
       "      <td>-0.051429</td>\n",
       "      <td>0.171840</td>\n",
       "      <td>-0.191045</td>\n",
       "      <td>-0.020818</td>\n",
       "      <td>0.174591</td>\n",
       "      <td>-0.101115</td>\n",
       "      <td>0</td>\n",
       "    </tr>\n",
       "  </tbody>\n",
       "</table>\n",
       "</div>"
      ],
      "text/plain": [
       "    id     col_0     col_1     col_2     col_3     col_4     col_5     col_6  \\\n",
       "0   12  0.287806 -0.741419  0.371373 -0.129344  0.119873 -0.175913 -0.047666   \n",
       "1   30 -0.105893  0.331653  0.223327 -0.158764  0.071713 -0.173286  0.082782   \n",
       "2  124 -0.163778 -0.180015  0.030884 -0.185593 -0.074352 -0.165587  0.133578   \n",
       "3   62 -0.115800  0.233452 -0.275248  0.229301  0.030224 -0.078580 -0.026563   \n",
       "4  108  0.127180 -0.085709  0.476774 -0.051823 -0.214005  0.150726 -0.015962   \n",
       "5   78 -0.073103  0.069755 -0.284094  0.370541 -0.325897 -0.026598 -0.019291   \n",
       "6  100 -0.151830  0.025472 -0.188827 -0.044220  0.090697 -0.143808 -0.245329   \n",
       "7   70  0.082785  0.008203 -0.423116  0.115604 -0.070021 -0.043155 -0.060350   \n",
       "8   76 -0.305868 -0.344281 -0.005990  0.188582 -0.114590 -0.092166  0.132384   \n",
       "9  126 -0.051655  0.811085  0.218779 -0.051429  0.171840 -0.191045 -0.020818   \n",
       "\n",
       "      col_7     col_8  quality  \n",
       "0  0.076570 -0.111415        1  \n",
       "1 -0.123512  0.169854        0  \n",
       "2 -0.092160 -0.185214        1  \n",
       "3 -0.155163 -0.137235        0  \n",
       "4  0.005012  0.045101        1  \n",
       "5 -0.048646  0.086330        0  \n",
       "6 -0.127435 -0.214358        1  \n",
       "7 -0.033245 -0.119566        0  \n",
       "8  0.059489 -0.061600        1  \n",
       "9  0.174591 -0.101115        0  "
      ]
     },
     "metadata": {},
     "output_type": "display_data"
    },
    {
     "name": "stdout",
     "output_type": "stream",
     "text": [
      "                                                                                                 \r"
     ]
    },
    {
     "data": {
      "text/html": [
       "10 rows X 11 columns"
      ],
      "text/plain": [
       "<IPython.core.display.HTML object>"
      ]
     },
     "metadata": {},
     "output_type": "display_data"
    },
    {
     "name": "stdout",
     "output_type": "stream",
     "text": [
      "Data Transformation completed.⫿⫿⫿⫿⫿⫿⫿⫿⫿⫿⫿⫿⫿⫿⫿⫿⫿⫿⫿⫿⫿⫿⫿⫿⫿⫿⫿⫿⫿⫿⫿⫿⫿⫿⫿⫿⫿⫿⫿⫿⫿⫿｜ 100% - 10/10           \n",
      "\n",
      "Following model is being used for generating prediction :\n",
      "Model ID : SVM_0 \n",
      "Feature Selection Method : lasso\n",
      "\n",
      "Target Column Mapping:\n",
      "good: 1\n",
      "bad: 0\n",
      "\n",
      "Prediction : \n",
      "    id  prediction      prob  quality\n",
      "0  108           1  0.998963        1\n",
      "1   76           0  0.998150        1\n",
      "2  148           1  0.999944        1\n",
      "3  140           1  0.998434        1\n",
      "4  220           0  0.983820        1\n",
      "5  212           0  0.956703        1\n",
      "6   30           1  0.782369        0\n",
      "7   62           0  0.995573        0\n",
      "8   78           0  0.956014        0\n",
      "9   70           0  0.976423        0\n",
      "\n",
      "Performance Metrics : \n",
      "       Prediction  Mapping  CLASS_1  CLASS_2  Precision    Recall        F1  Support\n",
      "SeqNum                                                                              \n",
      "0               0  CLASS_1       89       65   0.577922  0.581699  0.579805      153\n",
      "1               1  CLASS_2       64      102   0.614458  0.610778  0.612613      167\n",
      "\n",
      "ROC-AUC : \n"
     ]
    },
    {
     "data": {
      "text/html": [
       "<style type=\"text/css\">\n",
       "\ttable {border:ridge 5px;}\n",
       "\ttable td {border:inset 1px;}\n",
       "\ttable tr#HeaderRow {background-color:grey; color:white;}</style>\n",
       "<html><table>\n",
       "\t<tr id=\"HeaderRow\">\n",
       "\t\t<th>AUC</th>\n",
       "\t\t<th>GINI</th>\n",
       "\t</tr>\n",
       "\t<tr>\n",
       "\t\t<td>0.4684943837814567</td>\n",
       "\t\t<td>-0.06301123243708662</td>\n",
       "\t</tr>\n",
       "</table></html>"
      ],
      "text/plain": [
       "              GINI\n",
       "AUC               \n",
       "0.468494 -0.063011"
      ]
     },
     "metadata": {},
     "output_type": "display_data"
    },
    {
     "data": {
      "text/html": [
       "<style type=\"text/css\">\n",
       "\ttable {border:ridge 5px;}\n",
       "\ttable td {border:inset 1px;}\n",
       "\ttable tr#HeaderRow {background-color:grey; color:white;}</style>\n",
       "<html><table>\n",
       "\t<tr id=\"HeaderRow\">\n",
       "\t\t<th>threshold_value</th>\n",
       "\t\t<th>tpr</th>\n",
       "\t\t<th>fpr</th>\n",
       "\t</tr>\n",
       "\t<tr>\n",
       "\t\t<td>0.04081632653061224</td>\n",
       "\t\t<td>0.6107784431137725</td>\n",
       "\t\t<td>0.41830065359477125</td>\n",
       "\t</tr>\n",
       "\t<tr>\n",
       "\t\t<td>0.08163265306122448</td>\n",
       "\t\t<td>0.6107784431137725</td>\n",
       "\t\t<td>0.41830065359477125</td>\n",
       "\t</tr>\n",
       "\t<tr>\n",
       "\t\t<td>0.1020408163265306</td>\n",
       "\t\t<td>0.6107784431137725</td>\n",
       "\t\t<td>0.41830065359477125</td>\n",
       "\t</tr>\n",
       "\t<tr>\n",
       "\t\t<td>0.12244897959183673</td>\n",
       "\t\t<td>0.6107784431137725</td>\n",
       "\t\t<td>0.41830065359477125</td>\n",
       "\t</tr>\n",
       "\t<tr>\n",
       "\t\t<td>0.16326530612244897</td>\n",
       "\t\t<td>0.6107784431137725</td>\n",
       "\t\t<td>0.41830065359477125</td>\n",
       "\t</tr>\n",
       "\t<tr>\n",
       "\t\t<td>0.18367346938775508</td>\n",
       "\t\t<td>0.6107784431137725</td>\n",
       "\t\t<td>0.41830065359477125</td>\n",
       "\t</tr>\n",
       "\t<tr>\n",
       "\t\t<td>0.14285714285714285</td>\n",
       "\t\t<td>0.6107784431137725</td>\n",
       "\t\t<td>0.41830065359477125</td>\n",
       "\t</tr>\n",
       "\t<tr>\n",
       "\t\t<td>0.061224489795918366</td>\n",
       "\t\t<td>0.6107784431137725</td>\n",
       "\t\t<td>0.41830065359477125</td>\n",
       "\t</tr>\n",
       "\t<tr>\n",
       "\t\t<td>0.02040816326530612</td>\n",
       "\t\t<td>0.6107784431137725</td>\n",
       "\t\t<td>0.41830065359477125</td>\n",
       "\t</tr>\n",
       "\t<tr>\n",
       "\t\t<td>0.0</td>\n",
       "\t\t<td>1.0</td>\n",
       "\t\t<td>1.0</td>\n",
       "\t</tr>\n",
       "</table></html>"
      ],
      "text/plain": [
       "   threshold_value       tpr       fpr\n",
       "0         0.040816  0.610778  0.418301\n",
       "1         0.081633  0.610778  0.418301\n",
       "2         0.102041  0.610778  0.418301\n",
       "3         0.122449  0.610778  0.418301\n",
       "4         0.163265  0.610778  0.418301\n",
       "5         0.183673  0.610778  0.418301\n",
       "6         0.142857  0.610778  0.418301\n",
       "7         0.061224  0.610778  0.418301\n",
       "8         0.020408  0.610778  0.418301\n",
       "9         0.000000  1.000000  1.000000"
      ]
     },
     "metadata": {},
     "output_type": "display_data"
    },
    {
     "name": "stdout",
     "output_type": "stream",
     "text": [
      "\n",
      "Confusion Matrix : \n"
     ]
    },
    {
     "data": {
      "text/plain": [
       "array([[ 89,  64],\n",
       "       [ 65, 102]], dtype=int64)"
      ]
     },
     "metadata": {},
     "output_type": "display_data"
    }
   ],
   "source": [
    "# Generating prediction and metrics on test data\n",
    "prediction = aml.predict(wine_df_test,3)"
   ]
  },
  {
   "cell_type": "code",
   "execution_count": 25,
   "id": "cc4f6a78-1cdf-4938-a9f1-22035d8404ca",
   "metadata": {},
   "outputs": [
    {
     "data": {
      "text/html": [
       "<style type=\"text/css\">\n",
       "\ttable {border:ridge 5px;}\n",
       "\ttable td {border:inset 1px;}\n",
       "\ttable tr#HeaderRow {background-color:grey; color:white;}</style>\n",
       "<html><table>\n",
       "\t<tr id=\"HeaderRow\">\n",
       "\t\t<th>id</th>\n",
       "\t\t<th>prediction</th>\n",
       "\t\t<th>prob</th>\n",
       "\t\t<th>quality</th>\n",
       "\t</tr>\n",
       "\t<tr>\n",
       "\t\t<td>10</td>\n",
       "\t\t<td>1</td>\n",
       "\t\t<td>0.9909036519693625</td>\n",
       "\t\t<td>0</td>\n",
       "\t</tr>\n",
       "\t<tr>\n",
       "\t\t<td>12</td>\n",
       "\t\t<td>1</td>\n",
       "\t\t<td>0.9945857378202935</td>\n",
       "\t\t<td>1</td>\n",
       "\t</tr>\n",
       "\t<tr>\n",
       "\t\t<td>13</td>\n",
       "\t\t<td>1</td>\n",
       "\t\t<td>0.9951034483293903</td>\n",
       "\t\t<td>0</td>\n",
       "\t</tr>\n",
       "\t<tr>\n",
       "\t\t<td>14</td>\n",
       "\t\t<td>0</td>\n",
       "\t\t<td>0.9717163113121947</td>\n",
       "\t\t<td>0</td>\n",
       "\t</tr>\n",
       "\t<tr>\n",
       "\t\t<td>16</td>\n",
       "\t\t<td>1</td>\n",
       "\t\t<td>0.9981041421220589</td>\n",
       "\t\t<td>0</td>\n",
       "\t</tr>\n",
       "\t<tr>\n",
       "\t\t<td>17</td>\n",
       "\t\t<td>0</td>\n",
       "\t\t<td>0.9287874349461566</td>\n",
       "\t\t<td>1</td>\n",
       "\t</tr>\n",
       "\t<tr>\n",
       "\t\t<td>15</td>\n",
       "\t\t<td>1</td>\n",
       "\t\t<td>0.9998743215213962</td>\n",
       "\t\t<td>0</td>\n",
       "\t</tr>\n",
       "\t<tr>\n",
       "\t\t<td>11</td>\n",
       "\t\t<td>1</td>\n",
       "\t\t<td>0.9989279025441543</td>\n",
       "\t\t<td>1</td>\n",
       "\t</tr>\n",
       "\t<tr>\n",
       "\t\t<td>9</td>\n",
       "\t\t<td>0</td>\n",
       "\t\t<td>0.9960280441640039</td>\n",
       "\t\t<td>1</td>\n",
       "\t</tr>\n",
       "\t<tr>\n",
       "\t\t<td>8</td>\n",
       "\t\t<td>0</td>\n",
       "\t\t<td>0.7243521545540492</td>\n",
       "\t\t<td>0</td>\n",
       "\t</tr>\n",
       "</table></html>"
      ],
      "text/plain": [
       "   id  prediction      prob  quality\n",
       "0  10           1  0.990904        0\n",
       "1  12           1  0.994586        1\n",
       "2  13           1  0.995103        0\n",
       "3  14           0  0.971716        0\n",
       "4  16           1  0.998104        0\n",
       "5  17           0  0.928787        1\n",
       "6  15           1  0.999874        0\n",
       "7  11           1  0.998928        1\n",
       "8   9           0  0.996028        1\n",
       "9   8           0  0.724352        0"
      ]
     },
     "execution_count": 25,
     "metadata": {},
     "output_type": "execute_result"
    }
   ],
   "source": [
    "# Printing prediction\n",
    "prediction.head()"
   ]
  },
  {
   "cell_type": "code",
   "execution_count": 26,
   "id": "b2cba357-75ac-4089-a234-64a57067b117",
   "metadata": {},
   "outputs": [
    {
     "data": {
      "text/plain": [
       "True"
      ]
     },
     "execution_count": 26,
     "metadata": {},
     "output_type": "execute_result"
    }
   ],
   "source": [
    "remove_context()"
   ]
  },
  {
   "cell_type": "code",
   "execution_count": null,
   "id": "b672112c-d042-4842-846b-163f495d7664",
   "metadata": {},
   "outputs": [],
   "source": []
  }
 ],
 "metadata": {
  "kernelspec": {
   "display_name": "Python 3 (ipykernel)",
   "language": "python",
   "name": "python3"
  },
  "language_info": {
   "codemirror_mode": {
    "name": "ipython",
    "version": 3
   },
   "file_extension": ".py",
   "mimetype": "text/x-python",
   "name": "python",
   "nbconvert_exporter": "python",
   "pygments_lexer": "ipython3",
   "version": "3.10.9"
  }
 },
 "nbformat": 4,
 "nbformat_minor": 5
}
