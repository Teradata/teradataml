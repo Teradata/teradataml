{
 "cells": [
  {
   "cell_type": "markdown",
   "id": "2762f1d8-5a66-411f-a625-34cf16ac6dd3",
   "metadata": {},
   "source": [
    "# <b><span style='color:#F1A424'>AutoML - Binary Classification - Wine Quality Prediction</span> </b>"
   ]
  },
  {
   "cell_type": "markdown",
   "id": "12471c34-62d2-4e5d-868f-aa5c7d107f77",
   "metadata": {},
   "source": [
    "### Disclaimer\n",
    "Please note, the Vantage Functions via SQLAlchemy feature is a preview/beta code release with limited functionality (the “Code”). As such, you acknowledge that the Code is experimental in nature and that the Code is provided “AS IS” and may not be functional on any machine or in any environment. TERADATA DISCLAIMS ALL WARRANTIES RELATING TO THE CODE, EXPRESS OR IMPLIED, INCLUDING, BUT NOT LIMITED TO, ANY WARRANTIES AGAINST INFRINGEMENT OF THIRD-PARTY RIGHTS, MERCHANTABILITY AND FITNESS FOR A PARTICULAR PURPOSE.\n",
    "\n",
    "TERADATA SHALL NOT BE RESPONSIBLE OR LIABLE WITH RESPECT TO ANY SUBJECT MATTER OF THE CODE UNDER ANY CONTRACT, NEGLIGENCE, STRICT LIABILITY OR OTHER THEORY \n",
    "    (A) FOR LOSS OR INACCURACY OF DATA OR COST OF PROCUREMENT OF SUBSTITUTE GOODS, SERVICES OR TECHNOLOGY, OR \n",
    "    (B) FOR ANY INDIRECT, INCIDENTAL OR CONSEQUENTIAL DAMAGES INCLUDING, BUT NOT LIMITED TO LOSS OF REVENUES AND LOSS OF PROFITS. TERADATA SHALL NOT BE RESPONSIBLE FOR ANY MATTER BEYOND ITS REASONABLE CONTROL.\n",
    "\n",
    "Notwithstanding anything to the contrary: \n",
    "    (a) Teradata will have no obligation of any kind with respect to any Code-related comments, suggestions, design changes or improvements that you elect to provide to Teradata in either verbal or written form (collectively, “Feedback”), and \n",
    "    (b) Teradata and its affiliates are hereby free to use any ideas, concepts, know-how or techniques, in whole or in part, contained in Feedback: \n",
    "        (i) for any purpose whatsoever, including developing, manufacturing, and/or marketing products and/or services incorporating Feedback in whole or in part, and \n",
    "        (ii) without any restrictions or limitations, including requiring the payment of any license fees, royalties, or other consideration. "
   ]
  },
  {
   "cell_type": "markdown",
   "id": "f225fb94-b2c8-4c92-af38-733d08e0e2a1",
   "metadata": {},
   "source": [
    "## <b> Problem overview:</b>\n",
    "    "
   ]
  },
  {
   "cell_type": "markdown",
   "id": "af9813eb-9c44-4968-a5fe-d1c74415c894",
   "metadata": {},
   "source": [
    "**Dataset used : Wine Quality Dataset**\n",
    "\n",
    "**Features**:\n",
    "\n",
    "- `fixed acidity`: fixed acidity of wine.\n",
    "- `volatile acidity`: volatile acidity of wine.\n",
    "- `citric acid`: citric acid of wine.\n",
    "- `residual sugar`: residual sugar of wine.\n",
    "- `chlorides`: chlorides.\n",
    "- `free sulfur dioxide`: free sulfur dioxide in wine.\n",
    "- `total sulfur dioxide`: total sulfur dioxide in wine.\n",
    "- `density`: density of wine.\n",
    "- `pH`: pH of wine.\n",
    "- `sulphates`: sulphates in wine.\n",
    "- `alcohol`: alcohol in wine.\n",
    "\n",
    "**Target Variable**:\n",
    "\n",
    "- `quality`: Quality of wine\n",
    "\n",
    "        \n",
    "**Objective**:\n",
    "\n",
    "The primary objective is typically to build a model that can accurately predict the quality of wine.\n",
    "\n",
    "**Usecase**:\n",
    "\n",
    "Here, we will use AutoML(Automated Machine Learning) functionality to automate the entire process of developing a predictive model. It will perform feature exploration, feature engineering, data preparation, model training and evaluation on dataset in auto run and at end we will get leaderboard containined different models along with their performance. Model will also have rank associated with them which indicates which is best performing model for given data followed by other models."
   ]
  },
  {
   "cell_type": "code",
   "execution_count": 1,
   "id": "66568348-4d00-477c-a071-17995f797c95",
   "metadata": {},
   "outputs": [],
   "source": [
    "# Importing AutoML from teradataml\n",
    "from teradataml import AutoML, AutoClassifier"
   ]
  },
  {
   "cell_type": "code",
   "execution_count": 2,
   "id": "17dfae70-0401-4cc4-ba1c-400a5cf62451",
   "metadata": {},
   "outputs": [],
   "source": [
    "# Importing other important libraries\n",
    "import getpass\n",
    "from teradataml import create_context, remove_context\n",
    "from teradataml import DataFrame\n",
    "from teradataml import load_example_data\n",
    "from teradataml import TrainTestSplit"
   ]
  },
  {
   "cell_type": "code",
   "execution_count": 3,
   "id": "cadd9ed2-42d6-4899-b23e-4e2cf601162f",
   "metadata": {},
   "outputs": [
    {
     "name": "stdin",
     "output_type": "stream",
     "text": [
      "Host:  ········\n",
      "Username:  ········\n",
      "Password:  ········\n"
     ]
    }
   ],
   "source": [
    "# Create the connection.\n",
    "host = getpass.getpass(\"Host: \")\n",
    "username = getpass.getpass(\"Username: \")\n",
    "password = getpass.getpass(\"Password: \")\n",
    "\n",
    "con = create_context(host=host, username=username, password=password)"
   ]
  },
  {
   "cell_type": "markdown",
   "id": "be767a89-d5b8-4876-91cb-36980754586e",
   "metadata": {},
   "source": [
    "## <b><span style='color:#F1A424'>| 1.</span> Loading Dataset </b>"
   ]
  },
  {
   "cell_type": "code",
   "execution_count": 4,
   "id": "f1592c52-b247-4792-be2a-30b49bbeb9b6",
   "metadata": {},
   "outputs": [],
   "source": [
    "# Loading dataset from example data collection\n",
    "load_example_data('teradataml','wine_data')"
   ]
  },
  {
   "cell_type": "code",
   "execution_count": 5,
   "id": "3846ae0f-004b-4b8e-9fea-06fac4294065",
   "metadata": {},
   "outputs": [],
   "source": [
    "# Fetching in teradata dataframe\n",
    "wine_df = DataFrame(\"wine_data\")"
   ]
  },
  {
   "cell_type": "code",
   "execution_count": 6,
   "id": "442ccd80-b444-413e-970d-d855ec3d6cae",
   "metadata": {},
   "outputs": [
    {
     "data": {
      "text/html": [
       "<style type=\"text/css\">\n",
       "\ttable {border:ridge 5px;}\n",
       "\ttable td {border:inset 1px;}\n",
       "\ttable tr#HeaderRow {background-color:grey; color:white;}</style>\n",
       "<html><table>\n",
       "\t<tr id=\"HeaderRow\">\n",
       "\t\t<th>fixed_acidity</th>\n",
       "\t\t<th>volatile_acidity</th>\n",
       "\t\t<th>citric_acid</th>\n",
       "\t\t<th>residual_sugar</th>\n",
       "\t\t<th>chlorides</th>\n",
       "\t\t<th>free_sulfur_dioxide</th>\n",
       "\t\t<th>total_sulfur_dioxide</th>\n",
       "\t\t<th>density</th>\n",
       "\t\t<th>pH</th>\n",
       "\t\t<th>sulphates</th>\n",
       "\t\t<th>alcohol</th>\n",
       "\t\t<th>quality</th>\n",
       "\t</tr>\n",
       "\t<tr>\n",
       "\t\t<td>4.9</td>\n",
       "\t\t<td>0.42</td>\n",
       "\t\t<td>0.0</td>\n",
       "\t\t<td>2.1</td>\n",
       "\t\t<td>0.048</td>\n",
       "\t\t<td>16.0</td>\n",
       "\t\t<td>42.0</td>\n",
       "\t\t<td>0.99154</td>\n",
       "\t\t<td>3.71</td>\n",
       "\t\t<td>0.74</td>\n",
       "\t\t<td>14.0</td>\n",
       "\t\t<td>good</td>\n",
       "\t</tr>\n",
       "\t<tr>\n",
       "\t\t<td>5.0</td>\n",
       "\t\t<td>0.38</td>\n",
       "\t\t<td>0.01</td>\n",
       "\t\t<td>1.6</td>\n",
       "\t\t<td>0.048</td>\n",
       "\t\t<td>26.0</td>\n",
       "\t\t<td>60.0</td>\n",
       "\t\t<td>0.99084</td>\n",
       "\t\t<td>3.7</td>\n",
       "\t\t<td>0.75</td>\n",
       "\t\t<td>14.0</td>\n",
       "\t\t<td>good</td>\n",
       "\t</tr>\n",
       "\t<tr>\n",
       "\t\t<td>5.0</td>\n",
       "\t\t<td>0.42</td>\n",
       "\t\t<td>0.24</td>\n",
       "\t\t<td>2.0</td>\n",
       "\t\t<td>0.06</td>\n",
       "\t\t<td>19.0</td>\n",
       "\t\t<td>50.0</td>\n",
       "\t\t<td>0.9917</td>\n",
       "\t\t<td>3.72</td>\n",
       "\t\t<td>0.74</td>\n",
       "\t\t<td>14.0</td>\n",
       "\t\t<td>good</td>\n",
       "\t</tr>\n",
       "\t<tr>\n",
       "\t\t<td>5.0</td>\n",
       "\t\t<td>0.74</td>\n",
       "\t\t<td>0.0</td>\n",
       "\t\t<td>1.2</td>\n",
       "\t\t<td>0.041</td>\n",
       "\t\t<td>16.0</td>\n",
       "\t\t<td>46.0</td>\n",
       "\t\t<td>0.99258</td>\n",
       "\t\t<td>4.01</td>\n",
       "\t\t<td>0.59</td>\n",
       "\t\t<td>12.5</td>\n",
       "\t\t<td>good</td>\n",
       "\t</tr>\n",
       "\t<tr>\n",
       "\t\t<td>5.0</td>\n",
       "\t\t<td>1.04</td>\n",
       "\t\t<td>0.24</td>\n",
       "\t\t<td>1.6</td>\n",
       "\t\t<td>0.05</td>\n",
       "\t\t<td>32.0</td>\n",
       "\t\t<td>96.0</td>\n",
       "\t\t<td>0.9934</td>\n",
       "\t\t<td>3.74</td>\n",
       "\t\t<td>0.62</td>\n",
       "\t\t<td>11.5</td>\n",
       "\t\t<td>bad</td>\n",
       "\t</tr>\n",
       "\t<tr>\n",
       "\t\t<td>5.1</td>\n",
       "\t\t<td>0.47</td>\n",
       "\t\t<td>0.02</td>\n",
       "\t\t<td>1.3</td>\n",
       "\t\t<td>0.034</td>\n",
       "\t\t<td>18.0</td>\n",
       "\t\t<td>44.0</td>\n",
       "\t\t<td>0.9921</td>\n",
       "\t\t<td>3.9</td>\n",
       "\t\t<td>0.62</td>\n",
       "\t\t<td>12.8</td>\n",
       "\t\t<td>good</td>\n",
       "\t</tr>\n",
       "\t<tr>\n",
       "\t\t<td>5.0</td>\n",
       "\t\t<td>0.4</td>\n",
       "\t\t<td>0.5</td>\n",
       "\t\t<td>4.3</td>\n",
       "\t\t<td>0.046</td>\n",
       "\t\t<td>29.0</td>\n",
       "\t\t<td>80.0</td>\n",
       "\t\t<td>0.9902</td>\n",
       "\t\t<td>3.49</td>\n",
       "\t\t<td>0.66</td>\n",
       "\t\t<td>13.6</td>\n",
       "\t\t<td>good</td>\n",
       "\t</tr>\n",
       "\t<tr>\n",
       "\t\t<td>5.0</td>\n",
       "\t\t<td>1.02</td>\n",
       "\t\t<td>0.04</td>\n",
       "\t\t<td>1.4</td>\n",
       "\t\t<td>0.045</td>\n",
       "\t\t<td>41.0</td>\n",
       "\t\t<td>85.0</td>\n",
       "\t\t<td>0.9938</td>\n",
       "\t\t<td>3.75</td>\n",
       "\t\t<td>0.48</td>\n",
       "\t\t<td>10.5</td>\n",
       "\t\t<td>bad</td>\n",
       "\t</tr>\n",
       "\t<tr>\n",
       "\t\t<td>4.7</td>\n",
       "\t\t<td>0.6</td>\n",
       "\t\t<td>0.17</td>\n",
       "\t\t<td>2.3</td>\n",
       "\t\t<td>0.058</td>\n",
       "\t\t<td>17.0</td>\n",
       "\t\t<td>106.0</td>\n",
       "\t\t<td>0.9932</td>\n",
       "\t\t<td>3.85</td>\n",
       "\t\t<td>0.6</td>\n",
       "\t\t<td>12.9</td>\n",
       "\t\t<td>good</td>\n",
       "\t</tr>\n",
       "\t<tr>\n",
       "\t\t<td>4.6</td>\n",
       "\t\t<td>0.52</td>\n",
       "\t\t<td>0.15</td>\n",
       "\t\t<td>2.1</td>\n",
       "\t\t<td>0.054</td>\n",
       "\t\t<td>8.0</td>\n",
       "\t\t<td>65.0</td>\n",
       "\t\t<td>0.9934</td>\n",
       "\t\t<td>3.9</td>\n",
       "\t\t<td>0.56</td>\n",
       "\t\t<td>13.1</td>\n",
       "\t\t<td>bad</td>\n",
       "\t</tr>\n",
       "</table></html>"
      ],
      "text/plain": [
       "               volatile_acidity  citric_acid  residual_sugar  chlorides  free_sulfur_dioxide  total_sulfur_dioxide  density    pH  sulphates  alcohol quality\n",
       "fixed_acidity                                                                                                                                                \n",
       "4.9                        0.42         0.00             2.1      0.048                 16.0                  42.0  0.99154  3.71       0.74     14.0    good\n",
       "5.0                        0.38         0.01             1.6      0.048                 26.0                  60.0  0.99084  3.70       0.75     14.0    good\n",
       "5.0                        0.42         0.24             2.0      0.060                 19.0                  50.0  0.99170  3.72       0.74     14.0    good\n",
       "5.0                        0.74         0.00             1.2      0.041                 16.0                  46.0  0.99258  4.01       0.59     12.5    good\n",
       "5.0                        1.04         0.24             1.6      0.050                 32.0                  96.0  0.99340  3.74       0.62     11.5     bad\n",
       "5.1                        0.47         0.02             1.3      0.034                 18.0                  44.0  0.99210  3.90       0.62     12.8    good\n",
       "5.0                        0.40         0.50             4.3      0.046                 29.0                  80.0  0.99020  3.49       0.66     13.6    good\n",
       "5.0                        1.02         0.04             1.4      0.045                 41.0                  85.0  0.99380  3.75       0.48     10.5     bad\n",
       "4.7                        0.60         0.17             2.3      0.058                 17.0                 106.0  0.99320  3.85       0.60     12.9    good\n",
       "4.6                        0.52         0.15             2.1      0.054                  8.0                  65.0  0.99340  3.90       0.56     13.1     bad"
      ]
     },
     "execution_count": 6,
     "metadata": {},
     "output_type": "execute_result"
    }
   ],
   "source": [
    "# first 5 rows\n",
    "wine_df.head()"
   ]
  },
  {
   "cell_type": "code",
   "execution_count": 7,
   "id": "636c220d-d12f-4ea5-ab2b-c9203ef00d49",
   "metadata": {},
   "outputs": [
    {
     "data": {
      "text/plain": [
       "(1599, 12)"
      ]
     },
     "execution_count": 7,
     "metadata": {},
     "output_type": "execute_result"
    }
   ],
   "source": [
    "# wine_df dataset\n",
    "wine_df.shape"
   ]
  },
  {
   "cell_type": "code",
   "execution_count": 8,
   "id": "e5d1fad7-8784-4d7a-be1f-7be1d3991d8f",
   "metadata": {},
   "outputs": [],
   "source": [
    "# Performing sampling to get 80% for trainning and 20% for testing\n",
    "wine_df_sample = wine_df.sample(frac = [0.8, 0.2])"
   ]
  },
  {
   "cell_type": "code",
   "execution_count": 9,
   "id": "a0e6891a-1b7e-4bac-97c8-350ba5f5bde4",
   "metadata": {},
   "outputs": [
    {
     "data": {
      "text/html": [
       "<style type=\"text/css\">\n",
       "\ttable {border:ridge 5px;}\n",
       "\ttable td {border:inset 1px;}\n",
       "\ttable tr#HeaderRow {background-color:grey; color:white;}</style>\n",
       "<html><table>\n",
       "\t<tr id=\"HeaderRow\">\n",
       "\t\t<th>fixed_acidity</th>\n",
       "\t\t<th>volatile_acidity</th>\n",
       "\t\t<th>citric_acid</th>\n",
       "\t\t<th>residual_sugar</th>\n",
       "\t\t<th>chlorides</th>\n",
       "\t\t<th>free_sulfur_dioxide</th>\n",
       "\t\t<th>total_sulfur_dioxide</th>\n",
       "\t\t<th>density</th>\n",
       "\t\t<th>pH</th>\n",
       "\t\t<th>sulphates</th>\n",
       "\t\t<th>alcohol</th>\n",
       "\t\t<th>quality</th>\n",
       "\t\t<th>sampleid</th>\n",
       "\t</tr>\n",
       "\t<tr>\n",
       "\t\t<td>4.9</td>\n",
       "\t\t<td>0.42</td>\n",
       "\t\t<td>0.0</td>\n",
       "\t\t<td>2.1</td>\n",
       "\t\t<td>0.048</td>\n",
       "\t\t<td>16.0</td>\n",
       "\t\t<td>42.0</td>\n",
       "\t\t<td>0.99154</td>\n",
       "\t\t<td>3.71</td>\n",
       "\t\t<td>0.74</td>\n",
       "\t\t<td>14.0</td>\n",
       "\t\t<td>good</td>\n",
       "\t\t<td>1</td>\n",
       "\t</tr>\n",
       "\t<tr>\n",
       "\t\t<td>5.0</td>\n",
       "\t\t<td>0.42</td>\n",
       "\t\t<td>0.24</td>\n",
       "\t\t<td>2.0</td>\n",
       "\t\t<td>0.06</td>\n",
       "\t\t<td>19.0</td>\n",
       "\t\t<td>50.0</td>\n",
       "\t\t<td>0.9917</td>\n",
       "\t\t<td>3.72</td>\n",
       "\t\t<td>0.74</td>\n",
       "\t\t<td>14.0</td>\n",
       "\t\t<td>good</td>\n",
       "\t\t<td>1</td>\n",
       "\t</tr>\n",
       "\t<tr>\n",
       "\t\t<td>5.0</td>\n",
       "\t\t<td>0.38</td>\n",
       "\t\t<td>0.01</td>\n",
       "\t\t<td>1.6</td>\n",
       "\t\t<td>0.048</td>\n",
       "\t\t<td>26.0</td>\n",
       "\t\t<td>60.0</td>\n",
       "\t\t<td>0.99084</td>\n",
       "\t\t<td>3.7</td>\n",
       "\t\t<td>0.75</td>\n",
       "\t\t<td>14.0</td>\n",
       "\t\t<td>good</td>\n",
       "\t\t<td>1</td>\n",
       "\t</tr>\n",
       "\t<tr>\n",
       "\t\t<td>5.0</td>\n",
       "\t\t<td>0.4</td>\n",
       "\t\t<td>0.5</td>\n",
       "\t\t<td>4.3</td>\n",
       "\t\t<td>0.046</td>\n",
       "\t\t<td>29.0</td>\n",
       "\t\t<td>80.0</td>\n",
       "\t\t<td>0.9902</td>\n",
       "\t\t<td>3.49</td>\n",
       "\t\t<td>0.66</td>\n",
       "\t\t<td>13.6</td>\n",
       "\t\t<td>good</td>\n",
       "\t\t<td>2</td>\n",
       "\t</tr>\n",
       "\t<tr>\n",
       "\t\t<td>5.0</td>\n",
       "\t\t<td>1.04</td>\n",
       "\t\t<td>0.24</td>\n",
       "\t\t<td>1.6</td>\n",
       "\t\t<td>0.05</td>\n",
       "\t\t<td>32.0</td>\n",
       "\t\t<td>96.0</td>\n",
       "\t\t<td>0.9934</td>\n",
       "\t\t<td>3.74</td>\n",
       "\t\t<td>0.62</td>\n",
       "\t\t<td>11.5</td>\n",
       "\t\t<td>bad</td>\n",
       "\t\t<td>1</td>\n",
       "\t</tr>\n",
       "\t<tr>\n",
       "\t\t<td>5.1</td>\n",
       "\t\t<td>0.42</td>\n",
       "\t\t<td>0.0</td>\n",
       "\t\t<td>1.8</td>\n",
       "\t\t<td>0.044</td>\n",
       "\t\t<td>18.0</td>\n",
       "\t\t<td>88.0</td>\n",
       "\t\t<td>0.99157</td>\n",
       "\t\t<td>3.68</td>\n",
       "\t\t<td>0.73</td>\n",
       "\t\t<td>13.6</td>\n",
       "\t\t<td>good</td>\n",
       "\t\t<td>1</td>\n",
       "\t</tr>\n",
       "\t<tr>\n",
       "\t\t<td>5.0</td>\n",
       "\t\t<td>0.74</td>\n",
       "\t\t<td>0.0</td>\n",
       "\t\t<td>1.2</td>\n",
       "\t\t<td>0.041</td>\n",
       "\t\t<td>16.0</td>\n",
       "\t\t<td>46.0</td>\n",
       "\t\t<td>0.99258</td>\n",
       "\t\t<td>4.01</td>\n",
       "\t\t<td>0.59</td>\n",
       "\t\t<td>12.5</td>\n",
       "\t\t<td>good</td>\n",
       "\t\t<td>1</td>\n",
       "\t</tr>\n",
       "\t<tr>\n",
       "\t\t<td>5.0</td>\n",
       "\t\t<td>1.02</td>\n",
       "\t\t<td>0.04</td>\n",
       "\t\t<td>1.4</td>\n",
       "\t\t<td>0.045</td>\n",
       "\t\t<td>41.0</td>\n",
       "\t\t<td>85.0</td>\n",
       "\t\t<td>0.9938</td>\n",
       "\t\t<td>3.75</td>\n",
       "\t\t<td>0.48</td>\n",
       "\t\t<td>10.5</td>\n",
       "\t\t<td>bad</td>\n",
       "\t\t<td>1</td>\n",
       "\t</tr>\n",
       "\t<tr>\n",
       "\t\t<td>4.7</td>\n",
       "\t\t<td>0.6</td>\n",
       "\t\t<td>0.17</td>\n",
       "\t\t<td>2.3</td>\n",
       "\t\t<td>0.058</td>\n",
       "\t\t<td>17.0</td>\n",
       "\t\t<td>106.0</td>\n",
       "\t\t<td>0.9932</td>\n",
       "\t\t<td>3.85</td>\n",
       "\t\t<td>0.6</td>\n",
       "\t\t<td>12.9</td>\n",
       "\t\t<td>good</td>\n",
       "\t\t<td>1</td>\n",
       "\t</tr>\n",
       "\t<tr>\n",
       "\t\t<td>4.6</td>\n",
       "\t\t<td>0.52</td>\n",
       "\t\t<td>0.15</td>\n",
       "\t\t<td>2.1</td>\n",
       "\t\t<td>0.054</td>\n",
       "\t\t<td>8.0</td>\n",
       "\t\t<td>65.0</td>\n",
       "\t\t<td>0.9934</td>\n",
       "\t\t<td>3.9</td>\n",
       "\t\t<td>0.56</td>\n",
       "\t\t<td>13.1</td>\n",
       "\t\t<td>bad</td>\n",
       "\t\t<td>1</td>\n",
       "\t</tr>\n",
       "</table></html>"
      ],
      "text/plain": [
       "               volatile_acidity  citric_acid  residual_sugar  chlorides  free_sulfur_dioxide  total_sulfur_dioxide  density    pH  sulphates  alcohol quality  sampleid\n",
       "fixed_acidity                                                                                                                                                          \n",
       "4.9                        0.42         0.00             2.1      0.048                 16.0                  42.0  0.99154  3.71       0.74     14.0    good         1\n",
       "5.0                        0.42         0.24             2.0      0.060                 19.0                  50.0  0.99170  3.72       0.74     14.0    good         1\n",
       "5.0                        0.38         0.01             1.6      0.048                 26.0                  60.0  0.99084  3.70       0.75     14.0    good         1\n",
       "5.0                        0.40         0.50             4.3      0.046                 29.0                  80.0  0.99020  3.49       0.66     13.6    good         2\n",
       "5.0                        1.04         0.24             1.6      0.050                 32.0                  96.0  0.99340  3.74       0.62     11.5     bad         1\n",
       "5.1                        0.42         0.00             1.8      0.044                 18.0                  88.0  0.99157  3.68       0.73     13.6    good         1\n",
       "5.0                        0.74         0.00             1.2      0.041                 16.0                  46.0  0.99258  4.01       0.59     12.5    good         1\n",
       "5.0                        1.02         0.04             1.4      0.045                 41.0                  85.0  0.99380  3.75       0.48     10.5     bad         1\n",
       "4.7                        0.60         0.17             2.3      0.058                 17.0                 106.0  0.99320  3.85       0.60     12.9    good         1\n",
       "4.6                        0.52         0.15             2.1      0.054                  8.0                  65.0  0.99340  3.90       0.56     13.1     bad         1"
      ]
     },
     "execution_count": 9,
     "metadata": {},
     "output_type": "execute_result"
    }
   ],
   "source": [
    "wine_df_sample.head()"
   ]
  },
  {
   "cell_type": "code",
   "execution_count": 10,
   "id": "5e3e5923-18ad-4cf6-b4e5-e87f8854700b",
   "metadata": {},
   "outputs": [],
   "source": [
    "# Fetching train and test data\n",
    "wine_df_train= wine_df_sample[wine_df_sample['sampleid'] == 1].drop('sampleid', axis=1)\n",
    "wine_df_test = wine_df_sample[wine_df_sample['sampleid'] == 2].drop('sampleid', axis=1)"
   ]
  },
  {
   "cell_type": "code",
   "execution_count": 11,
   "id": "83d72a72-3fac-4862-b374-d21ab59be1a6",
   "metadata": {},
   "outputs": [
    {
     "data": {
      "text/plain": [
       "(1279, 12)"
      ]
     },
     "execution_count": 11,
     "metadata": {},
     "output_type": "execute_result"
    }
   ],
   "source": [
    "# train data shape\n",
    "wine_df_train.shape"
   ]
  },
  {
   "cell_type": "code",
   "execution_count": 12,
   "id": "b22be730-8a7a-40f3-8e2a-cabd8d1f427f",
   "metadata": {},
   "outputs": [
    {
     "data": {
      "text/plain": [
       "(320, 12)"
      ]
     },
     "execution_count": 12,
     "metadata": {},
     "output_type": "execute_result"
    }
   ],
   "source": [
    "# test data shape\n",
    "wine_df_test.shape"
   ]
  },
  {
   "cell_type": "code",
   "execution_count": 13,
   "id": "18473df2-be15-4e1e-bc5e-739abacf8b89",
   "metadata": {},
   "outputs": [
    {
     "data": {
      "text/html": [
       "<style type=\"text/css\">\n",
       "\ttable {border:ridge 5px;}\n",
       "\ttable td {border:inset 1px;}\n",
       "\ttable tr#HeaderRow {background-color:grey; color:white;}</style>\n",
       "<html><table>\n",
       "\t<tr id=\"HeaderRow\">\n",
       "\t\t<th>fixed_acidity</th>\n",
       "\t\t<th>volatile_acidity</th>\n",
       "\t\t<th>citric_acid</th>\n",
       "\t\t<th>residual_sugar</th>\n",
       "\t\t<th>chlorides</th>\n",
       "\t\t<th>free_sulfur_dioxide</th>\n",
       "\t\t<th>total_sulfur_dioxide</th>\n",
       "\t\t<th>density</th>\n",
       "\t\t<th>pH</th>\n",
       "\t\t<th>sulphates</th>\n",
       "\t\t<th>alcohol</th>\n",
       "\t\t<th>quality</th>\n",
       "\t</tr>\n",
       "\t<tr>\n",
       "\t\t<td>4.9</td>\n",
       "\t\t<td>0.42</td>\n",
       "\t\t<td>0.0</td>\n",
       "\t\t<td>2.1</td>\n",
       "\t\t<td>0.048</td>\n",
       "\t\t<td>16.0</td>\n",
       "\t\t<td>42.0</td>\n",
       "\t\t<td>0.99154</td>\n",
       "\t\t<td>3.71</td>\n",
       "\t\t<td>0.74</td>\n",
       "\t\t<td>14.0</td>\n",
       "\t\t<td>good</td>\n",
       "\t</tr>\n",
       "\t<tr>\n",
       "\t\t<td>5.0</td>\n",
       "\t\t<td>0.42</td>\n",
       "\t\t<td>0.24</td>\n",
       "\t\t<td>2.0</td>\n",
       "\t\t<td>0.06</td>\n",
       "\t\t<td>19.0</td>\n",
       "\t\t<td>50.0</td>\n",
       "\t\t<td>0.9917</td>\n",
       "\t\t<td>3.72</td>\n",
       "\t\t<td>0.74</td>\n",
       "\t\t<td>14.0</td>\n",
       "\t\t<td>good</td>\n",
       "\t</tr>\n",
       "\t<tr>\n",
       "\t\t<td>5.0</td>\n",
       "\t\t<td>1.02</td>\n",
       "\t\t<td>0.04</td>\n",
       "\t\t<td>1.4</td>\n",
       "\t\t<td>0.045</td>\n",
       "\t\t<td>41.0</td>\n",
       "\t\t<td>85.0</td>\n",
       "\t\t<td>0.9938</td>\n",
       "\t\t<td>3.75</td>\n",
       "\t\t<td>0.48</td>\n",
       "\t\t<td>10.5</td>\n",
       "\t\t<td>bad</td>\n",
       "\t</tr>\n",
       "\t<tr>\n",
       "\t\t<td>5.0</td>\n",
       "\t\t<td>0.74</td>\n",
       "\t\t<td>0.0</td>\n",
       "\t\t<td>1.2</td>\n",
       "\t\t<td>0.041</td>\n",
       "\t\t<td>16.0</td>\n",
       "\t\t<td>46.0</td>\n",
       "\t\t<td>0.99258</td>\n",
       "\t\t<td>4.01</td>\n",
       "\t\t<td>0.59</td>\n",
       "\t\t<td>12.5</td>\n",
       "\t\t<td>good</td>\n",
       "\t</tr>\n",
       "\t<tr>\n",
       "\t\t<td>5.1</td>\n",
       "\t\t<td>0.42</td>\n",
       "\t\t<td>0.0</td>\n",
       "\t\t<td>1.8</td>\n",
       "\t\t<td>0.044</td>\n",
       "\t\t<td>18.0</td>\n",
       "\t\t<td>88.0</td>\n",
       "\t\t<td>0.99157</td>\n",
       "\t\t<td>3.68</td>\n",
       "\t\t<td>0.73</td>\n",
       "\t\t<td>13.6</td>\n",
       "\t\t<td>good</td>\n",
       "\t</tr>\n",
       "\t<tr>\n",
       "\t\t<td>5.1</td>\n",
       "\t\t<td>0.585</td>\n",
       "\t\t<td>0.0</td>\n",
       "\t\t<td>1.7</td>\n",
       "\t\t<td>0.044</td>\n",
       "\t\t<td>14.0</td>\n",
       "\t\t<td>86.0</td>\n",
       "\t\t<td>0.99264</td>\n",
       "\t\t<td>3.56</td>\n",
       "\t\t<td>0.94</td>\n",
       "\t\t<td>12.9</td>\n",
       "\t\t<td>good</td>\n",
       "\t</tr>\n",
       "\t<tr>\n",
       "\t\t<td>5.0</td>\n",
       "\t\t<td>0.38</td>\n",
       "\t\t<td>0.01</td>\n",
       "\t\t<td>1.6</td>\n",
       "\t\t<td>0.048</td>\n",
       "\t\t<td>26.0</td>\n",
       "\t\t<td>60.0</td>\n",
       "\t\t<td>0.99084</td>\n",
       "\t\t<td>3.7</td>\n",
       "\t\t<td>0.75</td>\n",
       "\t\t<td>14.0</td>\n",
       "\t\t<td>good</td>\n",
       "\t</tr>\n",
       "\t<tr>\n",
       "\t\t<td>5.0</td>\n",
       "\t\t<td>1.04</td>\n",
       "\t\t<td>0.24</td>\n",
       "\t\t<td>1.6</td>\n",
       "\t\t<td>0.05</td>\n",
       "\t\t<td>32.0</td>\n",
       "\t\t<td>96.0</td>\n",
       "\t\t<td>0.9934</td>\n",
       "\t\t<td>3.74</td>\n",
       "\t\t<td>0.62</td>\n",
       "\t\t<td>11.5</td>\n",
       "\t\t<td>bad</td>\n",
       "\t</tr>\n",
       "\t<tr>\n",
       "\t\t<td>4.7</td>\n",
       "\t\t<td>0.6</td>\n",
       "\t\t<td>0.17</td>\n",
       "\t\t<td>2.3</td>\n",
       "\t\t<td>0.058</td>\n",
       "\t\t<td>17.0</td>\n",
       "\t\t<td>106.0</td>\n",
       "\t\t<td>0.9932</td>\n",
       "\t\t<td>3.85</td>\n",
       "\t\t<td>0.6</td>\n",
       "\t\t<td>12.9</td>\n",
       "\t\t<td>good</td>\n",
       "\t</tr>\n",
       "\t<tr>\n",
       "\t\t<td>4.6</td>\n",
       "\t\t<td>0.52</td>\n",
       "\t\t<td>0.15</td>\n",
       "\t\t<td>2.1</td>\n",
       "\t\t<td>0.054</td>\n",
       "\t\t<td>8.0</td>\n",
       "\t\t<td>65.0</td>\n",
       "\t\t<td>0.9934</td>\n",
       "\t\t<td>3.9</td>\n",
       "\t\t<td>0.56</td>\n",
       "\t\t<td>13.1</td>\n",
       "\t\t<td>bad</td>\n",
       "\t</tr>\n",
       "</table></html>"
      ],
      "text/plain": [
       "               volatile_acidity  citric_acid  residual_sugar  chlorides  free_sulfur_dioxide  total_sulfur_dioxide  density    pH  sulphates  alcohol quality\n",
       "fixed_acidity                                                                                                                                                \n",
       "4.9                       0.420         0.00             2.1      0.048                 16.0                  42.0  0.99154  3.71       0.74     14.0    good\n",
       "5.0                       0.420         0.24             2.0      0.060                 19.0                  50.0  0.99170  3.72       0.74     14.0    good\n",
       "5.0                       1.020         0.04             1.4      0.045                 41.0                  85.0  0.99380  3.75       0.48     10.5     bad\n",
       "5.0                       0.740         0.00             1.2      0.041                 16.0                  46.0  0.99258  4.01       0.59     12.5    good\n",
       "5.1                       0.420         0.00             1.8      0.044                 18.0                  88.0  0.99157  3.68       0.73     13.6    good\n",
       "5.1                       0.585         0.00             1.7      0.044                 14.0                  86.0  0.99264  3.56       0.94     12.9    good\n",
       "5.0                       0.380         0.01             1.6      0.048                 26.0                  60.0  0.99084  3.70       0.75     14.0    good\n",
       "5.0                       1.040         0.24             1.6      0.050                 32.0                  96.0  0.99340  3.74       0.62     11.5     bad\n",
       "4.7                       0.600         0.17             2.3      0.058                 17.0                 106.0  0.99320  3.85       0.60     12.9    good\n",
       "4.6                       0.520         0.15             2.1      0.054                  8.0                  65.0  0.99340  3.90       0.56     13.1     bad"
      ]
     },
     "execution_count": 13,
     "metadata": {},
     "output_type": "execute_result"
    }
   ],
   "source": [
    "#train dataset\n",
    "wine_df_train.head()"
   ]
  },
  {
   "cell_type": "code",
   "execution_count": 14,
   "id": "58c9d763-4f19-449e-a35b-676d4d026acc",
   "metadata": {},
   "outputs": [
    {
     "data": {
      "text/html": [
       "<style type=\"text/css\">\n",
       "\ttable {border:ridge 5px;}\n",
       "\ttable td {border:inset 1px;}\n",
       "\ttable tr#HeaderRow {background-color:grey; color:white;}</style>\n",
       "<html><table>\n",
       "\t<tr id=\"HeaderRow\">\n",
       "\t\t<th>fixed_acidity</th>\n",
       "\t\t<th>volatile_acidity</th>\n",
       "\t\t<th>citric_acid</th>\n",
       "\t\t<th>residual_sugar</th>\n",
       "\t\t<th>chlorides</th>\n",
       "\t\t<th>free_sulfur_dioxide</th>\n",
       "\t\t<th>total_sulfur_dioxide</th>\n",
       "\t\t<th>density</th>\n",
       "\t\t<th>pH</th>\n",
       "\t\t<th>sulphates</th>\n",
       "\t\t<th>alcohol</th>\n",
       "\t\t<th>quality</th>\n",
       "\t</tr>\n",
       "\t<tr>\n",
       "\t\t<td>5.4</td>\n",
       "\t\t<td>0.42</td>\n",
       "\t\t<td>0.27</td>\n",
       "\t\t<td>2.0</td>\n",
       "\t\t<td>0.092</td>\n",
       "\t\t<td>23.0</td>\n",
       "\t\t<td>55.0</td>\n",
       "\t\t<td>0.99471</td>\n",
       "\t\t<td>3.78</td>\n",
       "\t\t<td>0.64</td>\n",
       "\t\t<td>12.3</td>\n",
       "\t\t<td>good</td>\n",
       "\t</tr>\n",
       "\t<tr>\n",
       "\t\t<td>5.6</td>\n",
       "\t\t<td>0.66</td>\n",
       "\t\t<td>0.0</td>\n",
       "\t\t<td>2.2</td>\n",
       "\t\t<td>0.087</td>\n",
       "\t\t<td>3.0</td>\n",
       "\t\t<td>11.0</td>\n",
       "\t\t<td>0.99378</td>\n",
       "\t\t<td>3.71</td>\n",
       "\t\t<td>0.63</td>\n",
       "\t\t<td>12.8</td>\n",
       "\t\t<td>good</td>\n",
       "\t</tr>\n",
       "\t<tr>\n",
       "\t\t<td>5.7</td>\n",
       "\t\t<td>1.13</td>\n",
       "\t\t<td>0.09</td>\n",
       "\t\t<td>1.5</td>\n",
       "\t\t<td>0.172</td>\n",
       "\t\t<td>7.0</td>\n",
       "\t\t<td>19.0</td>\n",
       "\t\t<td>0.994</td>\n",
       "\t\t<td>3.5</td>\n",
       "\t\t<td>0.48</td>\n",
       "\t\t<td>9.8</td>\n",
       "\t\t<td>bad</td>\n",
       "\t</tr>\n",
       "\t<tr>\n",
       "\t\t<td>5.8</td>\n",
       "\t\t<td>1.01</td>\n",
       "\t\t<td>0.66</td>\n",
       "\t\t<td>2.0</td>\n",
       "\t\t<td>0.039</td>\n",
       "\t\t<td>15.0</td>\n",
       "\t\t<td>88.0</td>\n",
       "\t\t<td>0.99357</td>\n",
       "\t\t<td>3.66</td>\n",
       "\t\t<td>0.6</td>\n",
       "\t\t<td>11.5</td>\n",
       "\t\t<td>good</td>\n",
       "\t</tr>\n",
       "\t<tr>\n",
       "\t\t<td>5.9</td>\n",
       "\t\t<td>0.19</td>\n",
       "\t\t<td>0.21</td>\n",
       "\t\t<td>1.7</td>\n",
       "\t\t<td>0.045</td>\n",
       "\t\t<td>57.0</td>\n",
       "\t\t<td>135.0</td>\n",
       "\t\t<td>0.99341</td>\n",
       "\t\t<td>3.32</td>\n",
       "\t\t<td>0.44</td>\n",
       "\t\t<td>9.5</td>\n",
       "\t\t<td>bad</td>\n",
       "\t</tr>\n",
       "\t<tr>\n",
       "\t\t<td>5.9</td>\n",
       "\t\t<td>0.29</td>\n",
       "\t\t<td>0.25</td>\n",
       "\t\t<td>13.4</td>\n",
       "\t\t<td>0.067</td>\n",
       "\t\t<td>72.0</td>\n",
       "\t\t<td>160.0</td>\n",
       "\t\t<td>0.99721</td>\n",
       "\t\t<td>3.33</td>\n",
       "\t\t<td>0.54</td>\n",
       "\t\t<td>10.3</td>\n",
       "\t\t<td>good</td>\n",
       "\t</tr>\n",
       "\t<tr>\n",
       "\t\t<td>5.8</td>\n",
       "\t\t<td>0.61</td>\n",
       "\t\t<td>0.11</td>\n",
       "\t\t<td>1.8</td>\n",
       "\t\t<td>0.066</td>\n",
       "\t\t<td>18.0</td>\n",
       "\t\t<td>28.0</td>\n",
       "\t\t<td>0.99483</td>\n",
       "\t\t<td>3.55</td>\n",
       "\t\t<td>0.66</td>\n",
       "\t\t<td>10.9</td>\n",
       "\t\t<td>good</td>\n",
       "\t</tr>\n",
       "\t<tr>\n",
       "\t\t<td>5.6</td>\n",
       "\t\t<td>0.54</td>\n",
       "\t\t<td>0.04</td>\n",
       "\t\t<td>1.7</td>\n",
       "\t\t<td>0.049</td>\n",
       "\t\t<td>5.0</td>\n",
       "\t\t<td>13.0</td>\n",
       "\t\t<td>0.9942</td>\n",
       "\t\t<td>3.72</td>\n",
       "\t\t<td>0.58</td>\n",
       "\t\t<td>11.4</td>\n",
       "\t\t<td>bad</td>\n",
       "\t</tr>\n",
       "\t<tr>\n",
       "\t\t<td>5.2</td>\n",
       "\t\t<td>0.645</td>\n",
       "\t\t<td>0.0</td>\n",
       "\t\t<td>2.15</td>\n",
       "\t\t<td>0.08</td>\n",
       "\t\t<td>15.0</td>\n",
       "\t\t<td>28.0</td>\n",
       "\t\t<td>0.99444</td>\n",
       "\t\t<td>3.78</td>\n",
       "\t\t<td>0.61</td>\n",
       "\t\t<td>12.5</td>\n",
       "\t\t<td>good</td>\n",
       "\t</tr>\n",
       "\t<tr>\n",
       "\t\t<td>5.0</td>\n",
       "\t\t<td>0.4</td>\n",
       "\t\t<td>0.5</td>\n",
       "\t\t<td>4.3</td>\n",
       "\t\t<td>0.046</td>\n",
       "\t\t<td>29.0</td>\n",
       "\t\t<td>80.0</td>\n",
       "\t\t<td>0.9902</td>\n",
       "\t\t<td>3.49</td>\n",
       "\t\t<td>0.66</td>\n",
       "\t\t<td>13.6</td>\n",
       "\t\t<td>good</td>\n",
       "\t</tr>\n",
       "</table></html>"
      ],
      "text/plain": [
       "               volatile_acidity  citric_acid  residual_sugar  chlorides  free_sulfur_dioxide  total_sulfur_dioxide  density    pH  sulphates  alcohol quality\n",
       "fixed_acidity                                                                                                                                                \n",
       "5.4                       0.420         0.27            2.00      0.092                 23.0                  55.0  0.99471  3.78       0.64     12.3    good\n",
       "5.6                       0.660         0.00            2.20      0.087                  3.0                  11.0  0.99378  3.71       0.63     12.8    good\n",
       "5.7                       1.130         0.09            1.50      0.172                  7.0                  19.0  0.99400  3.50       0.48      9.8     bad\n",
       "5.8                       1.010         0.66            2.00      0.039                 15.0                  88.0  0.99357  3.66       0.60     11.5    good\n",
       "5.9                       0.190         0.21            1.70      0.045                 57.0                 135.0  0.99341  3.32       0.44      9.5     bad\n",
       "5.9                       0.290         0.25           13.40      0.067                 72.0                 160.0  0.99721  3.33       0.54     10.3    good\n",
       "5.8                       0.610         0.11            1.80      0.066                 18.0                  28.0  0.99483  3.55       0.66     10.9    good\n",
       "5.6                       0.540         0.04            1.70      0.049                  5.0                  13.0  0.99420  3.72       0.58     11.4     bad\n",
       "5.2                       0.645         0.00            2.15      0.080                 15.0                  28.0  0.99444  3.78       0.61     12.5    good\n",
       "5.0                       0.400         0.50            4.30      0.046                 29.0                  80.0  0.99020  3.49       0.66     13.6    good"
      ]
     },
     "execution_count": 14,
     "metadata": {},
     "output_type": "execute_result"
    }
   ],
   "source": [
    "# test dataset\n",
    "wine_df_test.head()"
   ]
  },
  {
   "cell_type": "markdown",
   "id": "856ea871-93d8-4ea2-b524-1acb23bd7eb5",
   "metadata": {},
   "source": [
    "## <b><span style='color:#F1A424'>| 2.</span> Fitting AutoML </b>"
   ]
  },
  {
   "cell_type": "code",
   "execution_count": 15,
   "id": "f3650aa5-a408-4227-a88d-79c0f3d36d3c",
   "metadata": {},
   "outputs": [],
   "source": [
    "# Creating AutoML instance\n",
    "# Including 'svm' from model training.\n",
    "# Keeping early stopping metrics threshold to 0.6 for 'MICRO-RECALL', early stopping timer threshold to 200 sec\n",
    "# Using max_models 7\n",
    "# and verbose level 2 for detailed loggging\n",
    "\n",
    "aml = AutoML(task_type=\"Classification\",\n",
    "             include='svm',\n",
    "             stopping_metric='MICRO-RECALL', \n",
    "             stopping_tolerance=0.60,\n",
    "             max_runtime_secs=200,\n",
    "             max_models=7,\n",
    "             verbose=2)"
   ]
  },
  {
   "cell_type": "code",
   "execution_count": 16,
   "id": "a1b7a771-1bfa-40c9-8ad0-c377d320c137",
   "metadata": {
    "tags": []
   },
   "outputs": [
    {
     "data": {
      "text/html": [
       "\n",
       "            <style>\n",
       "                .custom-div {\n",
       "                    background-color: lightgray;\n",
       "                    color: #000000;\n",
       "                    padding: 10px;\n",
       "                    border-radius: 8px;\n",
       "                    box-shadow: 0 3px 4px rgba(0, 0, 0, 0.2);\n",
       "                    margin-bottom: 10px;\n",
       "                    text-align: center;\n",
       "                }\n",
       "            </style>\n",
       "        <br><div class=\"custom-div\"><h3><span style=\"color: green;\"></span>1. Feature Exploration -> 2. Feature Engineering -> 3. Data Preparation -> 4. Model Training & Evaluation<center></h3></center></div>"
      ],
      "text/plain": [
       "<IPython.core.display.HTML object>"
      ]
     },
     "metadata": {},
     "output_type": "display_data"
    },
    {
     "name": "stdout",
     "output_type": "stream",
     "text": [
      "Feature Exploration started ...\n",
      "\n",
      "Data Overview:\n",
      "Total Rows in the data: 1279\n",
      "Total Columns in the data: 12\n",
      "\n",
      "Column Summary:\n"
     ]
    },
    {
     "data": {
      "text/html": [
       "<style type=\"text/css\">\n",
       "\ttable {border:ridge 5px;}\n",
       "\ttable td {border:inset 1px;}\n",
       "\ttable tr#HeaderRow {background-color:grey; color:white;}</style>\n",
       "<html><table>\n",
       "\t<tr id=\"HeaderRow\">\n",
       "\t\t<th>ColumnName</th>\n",
       "\t\t<th>Datatype</th>\n",
       "\t\t<th>NonNullCount</th>\n",
       "\t\t<th>NullCount</th>\n",
       "\t\t<th>BlankCount</th>\n",
       "\t\t<th>ZeroCount</th>\n",
       "\t\t<th>PositiveCount</th>\n",
       "\t\t<th>NegativeCount</th>\n",
       "\t\t<th>NullPercentage</th>\n",
       "\t\t<th>NonNullPercentage</th>\n",
       "\t</tr>\n",
       "\t<tr>\n",
       "\t\t<td>free_sulfur_dioxide</td>\n",
       "\t\t<td>FLOAT</td>\n",
       "\t\t<td>1279</td>\n",
       "\t\t<td>0</td>\n",
       "\t\t<td>None</td>\n",
       "\t\t<td>0</td>\n",
       "\t\t<td>1279</td>\n",
       "\t\t<td>0</td>\n",
       "\t\t<td>0.0</td>\n",
       "\t\t<td>100.0</td>\n",
       "\t</tr>\n",
       "\t<tr>\n",
       "\t\t<td>chlorides</td>\n",
       "\t\t<td>FLOAT</td>\n",
       "\t\t<td>1279</td>\n",
       "\t\t<td>0</td>\n",
       "\t\t<td>None</td>\n",
       "\t\t<td>0</td>\n",
       "\t\t<td>1279</td>\n",
       "\t\t<td>0</td>\n",
       "\t\t<td>0.0</td>\n",
       "\t\t<td>100.0</td>\n",
       "\t</tr>\n",
       "\t<tr>\n",
       "\t\t<td>density</td>\n",
       "\t\t<td>FLOAT</td>\n",
       "\t\t<td>1279</td>\n",
       "\t\t<td>0</td>\n",
       "\t\t<td>None</td>\n",
       "\t\t<td>0</td>\n",
       "\t\t<td>1279</td>\n",
       "\t\t<td>0</td>\n",
       "\t\t<td>0.0</td>\n",
       "\t\t<td>100.0</td>\n",
       "\t</tr>\n",
       "\t<tr>\n",
       "\t\t<td>total_sulfur_dioxide</td>\n",
       "\t\t<td>FLOAT</td>\n",
       "\t\t<td>1279</td>\n",
       "\t\t<td>0</td>\n",
       "\t\t<td>None</td>\n",
       "\t\t<td>0</td>\n",
       "\t\t<td>1279</td>\n",
       "\t\t<td>0</td>\n",
       "\t\t<td>0.0</td>\n",
       "\t\t<td>100.0</td>\n",
       "\t</tr>\n",
       "\t<tr>\n",
       "\t\t<td>quality</td>\n",
       "\t\t<td>VARCHAR(20) CHARACTER SET LATIN</td>\n",
       "\t\t<td>1279</td>\n",
       "\t\t<td>0</td>\n",
       "\t\t<td>0</td>\n",
       "\t\t<td>None</td>\n",
       "\t\t<td>None</td>\n",
       "\t\t<td>None</td>\n",
       "\t\t<td>0.0</td>\n",
       "\t\t<td>100.0</td>\n",
       "\t</tr>\n",
       "\t<tr>\n",
       "\t\t<td>residual_sugar</td>\n",
       "\t\t<td>FLOAT</td>\n",
       "\t\t<td>1279</td>\n",
       "\t\t<td>0</td>\n",
       "\t\t<td>None</td>\n",
       "\t\t<td>0</td>\n",
       "\t\t<td>1279</td>\n",
       "\t\t<td>0</td>\n",
       "\t\t<td>0.0</td>\n",
       "\t\t<td>100.0</td>\n",
       "\t</tr>\n",
       "\t<tr>\n",
       "\t\t<td>fixed_acidity</td>\n",
       "\t\t<td>FLOAT</td>\n",
       "\t\t<td>1279</td>\n",
       "\t\t<td>0</td>\n",
       "\t\t<td>None</td>\n",
       "\t\t<td>0</td>\n",
       "\t\t<td>1279</td>\n",
       "\t\t<td>0</td>\n",
       "\t\t<td>0.0</td>\n",
       "\t\t<td>100.0</td>\n",
       "\t</tr>\n",
       "\t<tr>\n",
       "\t\t<td>alcohol</td>\n",
       "\t\t<td>FLOAT</td>\n",
       "\t\t<td>1279</td>\n",
       "\t\t<td>0</td>\n",
       "\t\t<td>None</td>\n",
       "\t\t<td>0</td>\n",
       "\t\t<td>1279</td>\n",
       "\t\t<td>0</td>\n",
       "\t\t<td>0.0</td>\n",
       "\t\t<td>100.0</td>\n",
       "\t</tr>\n",
       "\t<tr>\n",
       "\t\t<td>sulphates</td>\n",
       "\t\t<td>FLOAT</td>\n",
       "\t\t<td>1279</td>\n",
       "\t\t<td>0</td>\n",
       "\t\t<td>None</td>\n",
       "\t\t<td>0</td>\n",
       "\t\t<td>1279</td>\n",
       "\t\t<td>0</td>\n",
       "\t\t<td>0.0</td>\n",
       "\t\t<td>100.0</td>\n",
       "\t</tr>\n",
       "\t<tr>\n",
       "\t\t<td>pH</td>\n",
       "\t\t<td>FLOAT</td>\n",
       "\t\t<td>1279</td>\n",
       "\t\t<td>0</td>\n",
       "\t\t<td>None</td>\n",
       "\t\t<td>0</td>\n",
       "\t\t<td>1279</td>\n",
       "\t\t<td>0</td>\n",
       "\t\t<td>0.0</td>\n",
       "\t\t<td>100.0</td>\n",
       "\t</tr>\n",
       "\t<tr>\n",
       "\t\t<td>citric_acid</td>\n",
       "\t\t<td>FLOAT</td>\n",
       "\t\t<td>1279</td>\n",
       "\t\t<td>0</td>\n",
       "\t\t<td>None</td>\n",
       "\t\t<td>110</td>\n",
       "\t\t<td>1169</td>\n",
       "\t\t<td>0</td>\n",
       "\t\t<td>0.0</td>\n",
       "\t\t<td>100.0</td>\n",
       "\t</tr>\n",
       "\t<tr>\n",
       "\t\t<td>volatile_acidity</td>\n",
       "\t\t<td>FLOAT</td>\n",
       "\t\t<td>1279</td>\n",
       "\t\t<td>0</td>\n",
       "\t\t<td>None</td>\n",
       "\t\t<td>0</td>\n",
       "\t\t<td>1279</td>\n",
       "\t\t<td>0</td>\n",
       "\t\t<td>0.0</td>\n",
       "\t\t<td>100.0</td>\n",
       "\t</tr>\n",
       "</table></html>"
      ],
      "text/plain": [
       "              ColumnName                         Datatype  NonNullCount  NullCount  BlankCount  ZeroCount  PositiveCount  NegativeCount  NullPercentage  NonNullPercentage\n",
       "0    free_sulfur_dioxide                            FLOAT          1279          0         NaN        0.0         1279.0            0.0             0.0              100.0\n",
       "1              chlorides                            FLOAT          1279          0         NaN        0.0         1279.0            0.0             0.0              100.0\n",
       "2                density                            FLOAT          1279          0         NaN        0.0         1279.0            0.0             0.0              100.0\n",
       "3   total_sulfur_dioxide                            FLOAT          1279          0         NaN        0.0         1279.0            0.0             0.0              100.0\n",
       "4                quality  VARCHAR(20) CHARACTER SET LATIN          1279          0         0.0        NaN            NaN            NaN             0.0              100.0\n",
       "5         residual_sugar                            FLOAT          1279          0         NaN        0.0         1279.0            0.0             0.0              100.0\n",
       "6          fixed_acidity                            FLOAT          1279          0         NaN        0.0         1279.0            0.0             0.0              100.0\n",
       "7                alcohol                            FLOAT          1279          0         NaN        0.0         1279.0            0.0             0.0              100.0\n",
       "8              sulphates                            FLOAT          1279          0         NaN        0.0         1279.0            0.0             0.0              100.0\n",
       "9                     pH                            FLOAT          1279          0         NaN        0.0         1279.0            0.0             0.0              100.0\n",
       "10           citric_acid                            FLOAT          1279          0         NaN      110.0         1169.0            0.0             0.0              100.0\n",
       "11      volatile_acidity                            FLOAT          1279          0         NaN        0.0         1279.0            0.0             0.0              100.0"
      ]
     },
     "metadata": {},
     "output_type": "display_data"
    },
    {
     "name": "stdout",
     "output_type": "stream",
     "text": [
      "       fixed_acidity  volatile_acidity  citric_acid  residual_sugar  chlorides  free_sulfur_dioxide  total_sulfur_dioxide   density        pH  sulphates   alcohol\n",
      "func                                                                                                                                                              \n",
      "50%            7.900             0.530        0.240           2.200      0.079               14.000                37.000     0.997     3.310      0.620    10.200\n",
      "count       1279.000          1279.000     1279.000        1279.000   1279.000             1279.000              1279.000  1279.000  1279.000   1279.000  1279.000\n",
      "mean           8.290             0.535        0.262           2.534      0.088               15.764                46.369     0.997     3.314      0.658    10.426\n",
      "min            4.600             0.120        0.000           0.900      0.012                1.000                 6.000     0.990     2.740      0.330     8.400\n",
      "max           15.900             1.580        1.000          15.400      0.611               68.000               289.000     1.004     4.010      2.000    14.900\n",
      "75%            9.100             0.640        0.420           2.600      0.091               21.000                63.000     0.998     3.400      0.730    11.100\n",
      "25%            7.100             0.400        0.080           1.900      0.070                7.000                22.000     0.996     3.210      0.550     9.500\n",
      "std            1.733             0.179        0.195           1.381      0.050               10.231                32.805     0.002     0.156      0.171     1.077\n",
      "\n",
      "Statistics of Data:\n"
     ]
    },
    {
     "data": {
      "text/html": [
       "<style type=\"text/css\">\n",
       "\ttable {border:ridge 5px;}\n",
       "\ttable td {border:inset 1px;}\n",
       "\ttable tr#HeaderRow {background-color:grey; color:white;}</style>\n",
       "<html><table>\n",
       "\t<tr id=\"HeaderRow\">\n",
       "\t\t<th>func</th>\n",
       "\t\t<th>fixed_acidity</th>\n",
       "\t\t<th>volatile_acidity</th>\n",
       "\t\t<th>citric_acid</th>\n",
       "\t\t<th>residual_sugar</th>\n",
       "\t\t<th>chlorides</th>\n",
       "\t\t<th>free_sulfur_dioxide</th>\n",
       "\t\t<th>total_sulfur_dioxide</th>\n",
       "\t\t<th>density</th>\n",
       "\t\t<th>pH</th>\n",
       "\t\t<th>sulphates</th>\n",
       "\t\t<th>alcohol</th>\n",
       "\t</tr>\n",
       "\t<tr>\n",
       "\t\t<td>50%</td>\n",
       "\t\t<td>7.9</td>\n",
       "\t\t<td>0.53</td>\n",
       "\t\t<td>0.24</td>\n",
       "\t\t<td>2.2</td>\n",
       "\t\t<td>0.079</td>\n",
       "\t\t<td>14</td>\n",
       "\t\t<td>37</td>\n",
       "\t\t<td>0.997</td>\n",
       "\t\t<td>3.31</td>\n",
       "\t\t<td>0.62</td>\n",
       "\t\t<td>10.2</td>\n",
       "\t</tr>\n",
       "\t<tr>\n",
       "\t\t<td>count</td>\n",
       "\t\t<td>1279</td>\n",
       "\t\t<td>1279</td>\n",
       "\t\t<td>1279</td>\n",
       "\t\t<td>1279</td>\n",
       "\t\t<td>1279</td>\n",
       "\t\t<td>1279</td>\n",
       "\t\t<td>1279</td>\n",
       "\t\t<td>1279</td>\n",
       "\t\t<td>1279</td>\n",
       "\t\t<td>1279</td>\n",
       "\t\t<td>1279</td>\n",
       "\t</tr>\n",
       "\t<tr>\n",
       "\t\t<td>mean</td>\n",
       "\t\t<td>8.29</td>\n",
       "\t\t<td>0.535</td>\n",
       "\t\t<td>0.262</td>\n",
       "\t\t<td>2.534</td>\n",
       "\t\t<td>0.088</td>\n",
       "\t\t<td>15.764</td>\n",
       "\t\t<td>46.369</td>\n",
       "\t\t<td>0.997</td>\n",
       "\t\t<td>3.314</td>\n",
       "\t\t<td>0.658</td>\n",
       "\t\t<td>10.426</td>\n",
       "\t</tr>\n",
       "\t<tr>\n",
       "\t\t<td>min</td>\n",
       "\t\t<td>4.6</td>\n",
       "\t\t<td>0.12</td>\n",
       "\t\t<td>0</td>\n",
       "\t\t<td>0.9</td>\n",
       "\t\t<td>0.012</td>\n",
       "\t\t<td>1</td>\n",
       "\t\t<td>6</td>\n",
       "\t\t<td>0.99</td>\n",
       "\t\t<td>2.74</td>\n",
       "\t\t<td>0.33</td>\n",
       "\t\t<td>8.4</td>\n",
       "\t</tr>\n",
       "\t<tr>\n",
       "\t\t<td>max</td>\n",
       "\t\t<td>15.9</td>\n",
       "\t\t<td>1.58</td>\n",
       "\t\t<td>1</td>\n",
       "\t\t<td>15.4</td>\n",
       "\t\t<td>0.611</td>\n",
       "\t\t<td>68</td>\n",
       "\t\t<td>289</td>\n",
       "\t\t<td>1.004</td>\n",
       "\t\t<td>4.01</td>\n",
       "\t\t<td>2</td>\n",
       "\t\t<td>14.9</td>\n",
       "\t</tr>\n",
       "\t<tr>\n",
       "\t\t<td>75%</td>\n",
       "\t\t<td>9.1</td>\n",
       "\t\t<td>0.64</td>\n",
       "\t\t<td>0.42</td>\n",
       "\t\t<td>2.6</td>\n",
       "\t\t<td>0.091</td>\n",
       "\t\t<td>21</td>\n",
       "\t\t<td>63</td>\n",
       "\t\t<td>0.998</td>\n",
       "\t\t<td>3.4</td>\n",
       "\t\t<td>0.73</td>\n",
       "\t\t<td>11.1</td>\n",
       "\t</tr>\n",
       "\t<tr>\n",
       "\t\t<td>25%</td>\n",
       "\t\t<td>7.1</td>\n",
       "\t\t<td>0.4</td>\n",
       "\t\t<td>0.08</td>\n",
       "\t\t<td>1.9</td>\n",
       "\t\t<td>0.07</td>\n",
       "\t\t<td>7</td>\n",
       "\t\t<td>22</td>\n",
       "\t\t<td>0.996</td>\n",
       "\t\t<td>3.21</td>\n",
       "\t\t<td>0.55</td>\n",
       "\t\t<td>9.5</td>\n",
       "\t</tr>\n",
       "\t<tr>\n",
       "\t\t<td>std</td>\n",
       "\t\t<td>1.733</td>\n",
       "\t\t<td>0.179</td>\n",
       "\t\t<td>0.195</td>\n",
       "\t\t<td>1.381</td>\n",
       "\t\t<td>0.05</td>\n",
       "\t\t<td>10.231</td>\n",
       "\t\t<td>32.805</td>\n",
       "\t\t<td>0.002</td>\n",
       "\t\t<td>0.156</td>\n",
       "\t\t<td>0.171</td>\n",
       "\t\t<td>1.077</td>\n",
       "\t</tr>\n",
       "</table></html>"
      ],
      "text/plain": [
       "       fixed_acidity  volatile_acidity  citric_acid  residual_sugar  chlorides  free_sulfur_dioxide  total_sulfur_dioxide   density        pH  sulphates   alcohol\n",
       "func                                                                                                                                                              \n",
       "50%            7.900             0.530        0.240           2.200      0.079               14.000                37.000     0.997     3.310      0.620    10.200\n",
       "count       1279.000          1279.000     1279.000        1279.000   1279.000             1279.000              1279.000  1279.000  1279.000   1279.000  1279.000\n",
       "mean           8.290             0.535        0.262           2.534      0.088               15.764                46.369     0.997     3.314      0.658    10.426\n",
       "min            4.600             0.120        0.000           0.900      0.012                1.000                 6.000     0.990     2.740      0.330     8.400\n",
       "max           15.900             1.580        1.000          15.400      0.611               68.000               289.000     1.004     4.010      2.000    14.900\n",
       "75%            9.100             0.640        0.420           2.600      0.091               21.000                63.000     0.998     3.400      0.730    11.100\n",
       "25%            7.100             0.400        0.080           1.900      0.070                7.000                22.000     0.996     3.210      0.550     9.500\n",
       "std            1.733             0.179        0.195           1.381      0.050               10.231                32.805     0.002     0.156      0.171     1.077"
      ]
     },
     "metadata": {},
     "output_type": "display_data"
    },
    {
     "name": "stdout",
     "output_type": "stream",
     "text": [
      "\n",
      "Categorical Columns with their Distinct values:\n",
      "ColumnName                DistinctValueCount\n",
      "quality                   2         \n",
      "\n",
      "No Futile columns found.\n",
      "\n",
      "Target Column Distribution:\n"
     ]
    },
    {
     "data": {
      "image/png": "[encoded data removed]",
      "text/plain": [
       "<Figure size 600x600 with 1 Axes>"
      ]
     },
     "metadata": {},
     "output_type": "display_data"
    },
    {
     "name": "stdout",
     "output_type": "stream",
     "text": [
      "Columns with outlier percentage :-                                                                                                                                                                                                                                                                                                                                                                                                                                                                                  \n",
      "             ColumnName  OutlierPercentage\n",
      "0        residual_sugar           9.616888\n",
      "1             sulphates           3.674746\n",
      "2         fixed_acidity           3.518374\n",
      "3               alcohol           0.938233\n",
      "4           citric_acid           0.078186\n",
      "5   free_sulfur_dioxide           1.563722\n",
      "6                    pH           2.345582\n",
      "7      volatile_acidity           1.329163\n",
      "8  total_sulfur_dioxide           3.049257\n",
      "9               density           2.814699\n",
      "                                                                                        \r"
     ]
    },
    {
     "data": {
      "text/html": [
       "\n",
       "            <style>\n",
       "                .custom-div {\n",
       "                    background-color: lightgray;\n",
       "                    color: #000000;\n",
       "                    padding: 10px;\n",
       "                    border-radius: 8px;\n",
       "                    box-shadow: 0 3px 4px rgba(0 -  0 -  0 -  0.2);\n",
       "                    margin-bottom: 10px;\n",
       "                    text-align: center;\n",
       "                }\n",
       "            </style>\n",
       "        <br><div class=\"custom-div\"><h3><span style=\"color: green;\">1. Feature Exploration -></span> 2. Feature Engineering -> 3. Data Preparation -> 4. Model Training & Evaluation<center></h3></center></div>"
      ],
      "text/plain": [
       "<IPython.core.display.HTML object>"
      ]
     },
     "metadata": {},
     "output_type": "display_data"
    },
    {
     "name": "stdout",
     "output_type": "stream",
     "text": [
      "                                                                                        \r"
     ]
    },
    {
     "data": {
      "text/html": [
       "Feature Engineering started ..."
      ],
      "text/plain": [
       "<IPython.core.display.HTML object>"
      ]
     },
     "metadata": {},
     "output_type": "display_data"
    },
    {
     "name": "stdout",
     "output_type": "stream",
     "text": [
      "                                                                                        \r"
     ]
    },
    {
     "data": {
      "text/html": [
       "\n",
       "Handling duplicate records present in dataset ..."
      ],
      "text/plain": [
       "<IPython.core.display.HTML object>"
      ]
     },
     "metadata": {},
     "output_type": "display_data"
    },
    {
     "name": "stdout",
     "output_type": "stream",
     "text": [
      "                                                                                        \r"
     ]
    },
    {
     "data": {
      "text/html": [
       "Updated dataset sample after removing 164 duplicate records:"
      ],
      "text/plain": [
       "<IPython.core.display.HTML object>"
      ]
     },
     "metadata": {},
     "output_type": "display_data"
    },
    {
     "data": {
      "text/html": [
       "<style type=\"text/css\">\n",
       "\ttable {border:ridge 5px;}\n",
       "\ttable td {border:inset 1px;}\n",
       "\ttable tr#HeaderRow {background-color:grey; color:white;}</style>\n",
       "<html><table>\n",
       "\t<tr id=\"HeaderRow\">\n",
       "\t\t<th>fixed_acidity</th>\n",
       "\t\t<th>volatile_acidity</th>\n",
       "\t\t<th>citric_acid</th>\n",
       "\t\t<th>residual_sugar</th>\n",
       "\t\t<th>chlorides</th>\n",
       "\t\t<th>free_sulfur_dioxide</th>\n",
       "\t\t<th>total_sulfur_dioxide</th>\n",
       "\t\t<th>density</th>\n",
       "\t\t<th>pH</th>\n",
       "\t\t<th>sulphates</th>\n",
       "\t\t<th>alcohol</th>\n",
       "\t\t<th>quality</th>\n",
       "\t</tr>\n",
       "\t<tr>\n",
       "\t\t<td>13.7</td>\n",
       "\t\t<td>0.415</td>\n",
       "\t\t<td>0.68</td>\n",
       "\t\t<td>2.9</td>\n",
       "\t\t<td>0.085</td>\n",
       "\t\t<td>17.0</td>\n",
       "\t\t<td>43.0</td>\n",
       "\t\t<td>1.0014</td>\n",
       "\t\t<td>3.06</td>\n",
       "\t\t<td>0.8</td>\n",
       "\t\t<td>10.0</td>\n",
       "\t\t<td>good</td>\n",
       "\t</tr>\n",
       "\t<tr>\n",
       "\t\t<td>8.4</td>\n",
       "\t\t<td>0.29</td>\n",
       "\t\t<td>0.4</td>\n",
       "\t\t<td>1.7</td>\n",
       "\t\t<td>0.067</td>\n",
       "\t\t<td>8.0</td>\n",
       "\t\t<td>20.0</td>\n",
       "\t\t<td>0.99603</td>\n",
       "\t\t<td>3.39</td>\n",
       "\t\t<td>0.6</td>\n",
       "\t\t<td>10.5</td>\n",
       "\t\t<td>bad</td>\n",
       "\t</tr>\n",
       "\t<tr>\n",
       "\t\t<td>8.4</td>\n",
       "\t\t<td>0.25</td>\n",
       "\t\t<td>0.39</td>\n",
       "\t\t<td>2.0</td>\n",
       "\t\t<td>0.041</td>\n",
       "\t\t<td>4.0</td>\n",
       "\t\t<td>10.0</td>\n",
       "\t\t<td>0.99386</td>\n",
       "\t\t<td>3.27</td>\n",
       "\t\t<td>0.71</td>\n",
       "\t\t<td>12.5</td>\n",
       "\t\t<td>good</td>\n",
       "\t</tr>\n",
       "\t<tr>\n",
       "\t\t<td>7.4</td>\n",
       "\t\t<td>0.36</td>\n",
       "\t\t<td>0.34</td>\n",
       "\t\t<td>1.8</td>\n",
       "\t\t<td>0.075</td>\n",
       "\t\t<td>18.0</td>\n",
       "\t\t<td>38.0</td>\n",
       "\t\t<td>0.9933</td>\n",
       "\t\t<td>3.38</td>\n",
       "\t\t<td>0.88</td>\n",
       "\t\t<td>13.6</td>\n",
       "\t\t<td>good</td>\n",
       "\t</tr>\n",
       "\t<tr>\n",
       "\t\t<td>8.6</td>\n",
       "\t\t<td>0.37</td>\n",
       "\t\t<td>0.65</td>\n",
       "\t\t<td>6.4</td>\n",
       "\t\t<td>0.08</td>\n",
       "\t\t<td>3.0</td>\n",
       "\t\t<td>8.0</td>\n",
       "\t\t<td>0.99817</td>\n",
       "\t\t<td>3.27</td>\n",
       "\t\t<td>0.58</td>\n",
       "\t\t<td>11.0</td>\n",
       "\t\t<td>bad</td>\n",
       "\t</tr>\n",
       "\t<tr>\n",
       "\t\t<td>8.6</td>\n",
       "\t\t<td>0.47</td>\n",
       "\t\t<td>0.27</td>\n",
       "\t\t<td>2.3</td>\n",
       "\t\t<td>0.055</td>\n",
       "\t\t<td>14.0</td>\n",
       "\t\t<td>28.0</td>\n",
       "\t\t<td>0.99516</td>\n",
       "\t\t<td>3.18</td>\n",
       "\t\t<td>0.8</td>\n",
       "\t\t<td>11.2</td>\n",
       "\t\t<td>bad</td>\n",
       "\t</tr>\n",
       "\t<tr>\n",
       "\t\t<td>10.5</td>\n",
       "\t\t<td>0.24</td>\n",
       "\t\t<td>0.47</td>\n",
       "\t\t<td>2.1</td>\n",
       "\t\t<td>0.066</td>\n",
       "\t\t<td>6.0</td>\n",
       "\t\t<td>24.0</td>\n",
       "\t\t<td>0.9978</td>\n",
       "\t\t<td>3.15</td>\n",
       "\t\t<td>0.9</td>\n",
       "\t\t<td>11.0</td>\n",
       "\t\t<td>good</td>\n",
       "\t</tr>\n",
       "\t<tr>\n",
       "\t\t<td>10.5</td>\n",
       "\t\t<td>0.24</td>\n",
       "\t\t<td>0.42</td>\n",
       "\t\t<td>1.8</td>\n",
       "\t\t<td>0.077</td>\n",
       "\t\t<td>6.0</td>\n",
       "\t\t<td>22.0</td>\n",
       "\t\t<td>0.9976</td>\n",
       "\t\t<td>3.21</td>\n",
       "\t\t<td>1.05</td>\n",
       "\t\t<td>10.8</td>\n",
       "\t\t<td>good</td>\n",
       "\t</tr>\n",
       "\t<tr>\n",
       "\t\t<td>8.2</td>\n",
       "\t\t<td>0.885</td>\n",
       "\t\t<td>0.2</td>\n",
       "\t\t<td>1.4</td>\n",
       "\t\t<td>0.086</td>\n",
       "\t\t<td>7.0</td>\n",
       "\t\t<td>31.0</td>\n",
       "\t\t<td>0.9946</td>\n",
       "\t\t<td>3.11</td>\n",
       "\t\t<td>0.46</td>\n",
       "\t\t<td>10.0</td>\n",
       "\t\t<td>bad</td>\n",
       "\t</tr>\n",
       "\t<tr>\n",
       "\t\t<td>8.2</td>\n",
       "\t\t<td>0.28</td>\n",
       "\t\t<td>0.6</td>\n",
       "\t\t<td>3.0</td>\n",
       "\t\t<td>0.104</td>\n",
       "\t\t<td>10.0</td>\n",
       "\t\t<td>22.0</td>\n",
       "\t\t<td>0.99828</td>\n",
       "\t\t<td>3.39</td>\n",
       "\t\t<td>0.68</td>\n",
       "\t\t<td>10.6</td>\n",
       "\t\t<td>bad</td>\n",
       "\t</tr>\n",
       "</table></html>"
      ],
      "text/plain": [
       "               volatile_acidity  citric_acid  residual_sugar  chlorides  free_sulfur_dioxide  total_sulfur_dioxide  density    pH  sulphates  alcohol quality\n",
       "fixed_acidity                                                                                                                                                \n",
       "13.7                      0.415         0.68             2.9      0.085                 17.0                  43.0  1.00140  3.06       0.80     10.0    good\n",
       "8.4                       0.290         0.40             1.7      0.067                  8.0                  20.0  0.99603  3.39       0.60     10.5     bad\n",
       "8.4                       0.250         0.39             2.0      0.041                  4.0                  10.0  0.99386  3.27       0.71     12.5    good\n",
       "7.4                       0.360         0.34             1.8      0.075                 18.0                  38.0  0.99330  3.38       0.88     13.6    good\n",
       "8.6                       0.370         0.65             6.4      0.080                  3.0                   8.0  0.99817  3.27       0.58     11.0     bad\n",
       "8.6                       0.470         0.27             2.3      0.055                 14.0                  28.0  0.99516  3.18       0.80     11.2     bad\n",
       "10.5                      0.240         0.47             2.1      0.066                  6.0                  24.0  0.99780  3.15       0.90     11.0    good\n",
       "10.5                      0.240         0.42             1.8      0.077                  6.0                  22.0  0.99760  3.21       1.05     10.8    good\n",
       "8.2                       0.885         0.20             1.4      0.086                  7.0                  31.0  0.99460  3.11       0.46     10.0     bad\n",
       "8.2                       0.280         0.60             3.0      0.104                 10.0                  22.0  0.99828  3.39       0.68     10.6     bad"
      ]
     },
     "metadata": {},
     "output_type": "display_data"
    },
    {
     "name": "stdout",
     "output_type": "stream",
     "text": [
      "                                                                                        \r"
     ]
    },
    {
     "data": {
      "text/html": [
       "1115 rows X 12 columns"
      ],
      "text/plain": [
       "<IPython.core.display.HTML object>"
      ]
     },
     "metadata": {},
     "output_type": "display_data"
    },
    {
     "name": "stdout",
     "output_type": "stream",
     "text": [
      "Remaining Rows in the data: 1115                                                        \n",
      "Remaining Columns in the data: 12\n",
      "                                                                                        \r"
     ]
    },
    {
     "data": {
      "text/html": [
       "Total time to handle duplicate records: 3.90 sec  "
      ],
      "text/plain": [
       "<IPython.core.display.HTML object>"
      ]
     },
     "metadata": {},
     "output_type": "display_data"
    },
    {
     "name": "stdout",
     "output_type": "stream",
     "text": [
      "                                                                                        \r"
     ]
    },
    {
     "data": {
      "text/html": [
       "\n",
       "Handling less significant features from data ..."
      ],
      "text/plain": [
       "<IPython.core.display.HTML object>"
      ]
     },
     "metadata": {},
     "output_type": "display_data"
    },
    {
     "name": "stdout",
     "output_type": "stream",
     "text": [
      "                                                                                        \r"
     ]
    },
    {
     "data": {
      "text/html": [
       "Total time to handle less significant features: 17.13 sec  "
      ],
      "text/plain": [
       "<IPython.core.display.HTML object>"
      ]
     },
     "metadata": {},
     "output_type": "display_data"
    },
    {
     "name": "stdout",
     "output_type": "stream",
     "text": [
      "                                                                                         \r"
     ]
    },
    {
     "data": {
      "text/html": [
       "\n",
       "Handling Date Features ..."
      ],
      "text/plain": [
       "<IPython.core.display.HTML object>"
      ]
     },
     "metadata": {},
     "output_type": "display_data"
    },
    {
     "name": "stdout",
     "output_type": "stream",
     "text": [
      "Analysis Completed. Dataset does not contain any feature related to dates. No action needed.\n",
      "                                                                                         \r"
     ]
    },
    {
     "data": {
      "text/html": [
       "Total time to handle date features: 0.00 sec\n"
      ],
      "text/plain": [
       "<IPython.core.display.HTML object>"
      ]
     },
     "metadata": {},
     "output_type": "display_data"
    },
    {
     "name": "stdout",
     "output_type": "stream",
     "text": [
      "                                                                                         \r"
     ]
    },
    {
     "data": {
      "text/html": [
       "\n",
       "Checking Missing values in dataset ..."
      ],
      "text/plain": [
       "<IPython.core.display.HTML object>"
      ]
     },
     "metadata": {},
     "output_type": "display_data"
    },
    {
     "name": "stdout",
     "output_type": "stream",
     "text": [
      "Analysis Completed. No Missing Values Detected.                                          \n",
      "                                                                                         \r"
     ]
    },
    {
     "data": {
      "text/html": [
       "Total time to find missing values in data: 6.81 sec  "
      ],
      "text/plain": [
       "<IPython.core.display.HTML object>"
      ]
     },
     "metadata": {},
     "output_type": "display_data"
    },
    {
     "name": "stdout",
     "output_type": "stream",
     "text": [
      "                                                                                         \r"
     ]
    },
    {
     "data": {
      "text/html": [
       "\n",
       "Imputing Missing Values ..."
      ],
      "text/plain": [
       "<IPython.core.display.HTML object>"
      ]
     },
     "metadata": {},
     "output_type": "display_data"
    },
    {
     "name": "stdout",
     "output_type": "stream",
     "text": [
      "Analysis completed. No imputation required.                                              \n",
      "                                                                                         \r"
     ]
    },
    {
     "data": {
      "text/html": [
       "Time taken to perform imputation: 0.01 sec  "
      ],
      "text/plain": [
       "<IPython.core.display.HTML object>"
      ]
     },
     "metadata": {},
     "output_type": "display_data"
    },
    {
     "name": "stdout",
     "output_type": "stream",
     "text": [
      "                                                                                         \r"
     ]
    },
    {
     "data": {
      "text/html": [
       "\n",
       "Performing encoding for categorical columns ..."
      ],
      "text/plain": [
       "<IPython.core.display.HTML object>"
      ]
     },
     "metadata": {},
     "output_type": "display_data"
    },
    {
     "name": "stdout",
     "output_type": "stream",
     "text": [
      "Analysis completed. No categorical columns were found.                                   \n",
      "                                                                                         \r"
     ]
    },
    {
     "data": {
      "text/html": [
       "Time taken to encode the columns: 1.57 sec"
      ],
      "text/plain": [
       "<IPython.core.display.HTML object>"
      ]
     },
     "metadata": {},
     "output_type": "display_data"
    },
    {
     "name": "stdout",
     "output_type": "stream",
     "text": [
      "                                                                                         \r"
     ]
    },
    {
     "data": {
      "text/html": [
       "\n",
       "            <style>\n",
       "                .custom-div {\n",
       "                    background-color: lightgray;\n",
       "                    color: #000000;\n",
       "                    padding: 10px;\n",
       "                    border-radius: 8px;\n",
       "                    box-shadow: 0 3px 4px rgba(0 -  0 -  0 -  0.2);\n",
       "                    margin-bottom: 10px;\n",
       "                    text-align: center;\n",
       "                }\n",
       "            </style>\n",
       "        <br><div class=\"custom-div\"><h3><span style=\"color: green;\">1. Feature Exploration -> 2. Feature Engineering -></span> 3. Data Preparation -> 4. Model Training & Evaluation<center></h3></center></div>"
      ],
      "text/plain": [
       "<IPython.core.display.HTML object>"
      ]
     },
     "metadata": {},
     "output_type": "display_data"
    },
    {
     "name": "stdout",
     "output_type": "stream",
     "text": [
      "                                                                                         \r"
     ]
    },
    {
     "data": {
      "text/html": [
       "Data preparation started ..."
      ],
      "text/plain": [
       "<IPython.core.display.HTML object>"
      ]
     },
     "metadata": {},
     "output_type": "display_data"
    },
    {
     "name": "stdout",
     "output_type": "stream",
     "text": [
      "                                                                                         \r"
     ]
    },
    {
     "data": {
      "text/html": [
       "\n",
       "Outlier preprocessing ..."
      ],
      "text/plain": [
       "<IPython.core.display.HTML object>"
      ]
     },
     "metadata": {},
     "output_type": "display_data"
    },
    {
     "name": "stdout",
     "output_type": "stream",
     "text": [
      "Columns with outlier percentage :-                                                                                                                                                                                                                                                                                                                                                                                                                                                                                  \n",
      "             ColumnName  OutlierPercentage\n",
      "0  total_sulfur_dioxide           2.869955\n",
      "1             sulphates           4.484305\n",
      "2      volatile_acidity           1.524664\n",
      "3             chlorides           7.174888\n",
      "4               alcohol           0.986547\n",
      "5         fixed_acidity           3.497758\n",
      "6           citric_acid           0.089686\n",
      "7                    pH           2.331839\n",
      "8               density           2.690583\n",
      "9        residual_sugar           9.237668\n",
      "                                                                                         \r"
     ]
    },
    {
     "data": {
      "text/html": [
       "Deleting rows of these columns:"
      ],
      "text/plain": [
       "<IPython.core.display.HTML object>"
      ]
     },
     "metadata": {},
     "output_type": "display_data"
    },
    {
     "name": "stdout",
     "output_type": "stream",
     "text": [
      "['pH', 'free_sulfur_dioxide', 'total_sulfur_dioxide', 'volatile_acidity', 'chlorides', 'density', 'alcohol', 'sulphates', 'fixed_acidity', 'citric_acid']\n",
      "                                                                                         \r"
     ]
    },
    {
     "data": {
      "text/html": [
       "Sample of dataset after removing outlier rows:"
      ],
      "text/plain": [
       "<IPython.core.display.HTML object>"
      ]
     },
     "metadata": {},
     "output_type": "display_data"
    },
    {
     "data": {
      "text/html": [
       "<style type=\"text/css\">\n",
       "\ttable {border:ridge 5px;}\n",
       "\ttable td {border:inset 1px;}\n",
       "\ttable tr#HeaderRow {background-color:grey; color:white;}</style>\n",
       "<html><table>\n",
       "\t<tr id=\"HeaderRow\">\n",
       "\t\t<th>density</th>\n",
       "\t\t<th>pH</th>\n",
       "\t\t<th>alcohol</th>\n",
       "\t\t<th>chlorides</th>\n",
       "\t\t<th>total_sulfur_dioxide</th>\n",
       "\t\t<th>fixed_acidity</th>\n",
       "\t\t<th>volatile_acidity</th>\n",
       "\t\t<th>id</th>\n",
       "\t\t<th>citric_acid</th>\n",
       "\t\t<th>free_sulfur_dioxide</th>\n",
       "\t\t<th>sulphates</th>\n",
       "\t\t<th>residual_sugar</th>\n",
       "\t\t<th>quality</th>\n",
       "\t</tr>\n",
       "\t<tr>\n",
       "\t\t<td>0.99472</td>\n",
       "\t\t<td>3.52</td>\n",
       "\t\t<td>11.4</td>\n",
       "\t\t<td>0.056</td>\n",
       "\t\t<td>13.0</td>\n",
       "\t\t<td>6.1</td>\n",
       "\t\t<td>0.59</td>\n",
       "\t\t<td>365</td>\n",
       "\t\t<td>0.01</td>\n",
       "\t\t<td>5.0</td>\n",
       "\t\t<td>0.56</td>\n",
       "\t\t<td>2.1</td>\n",
       "\t\t<td>0</td>\n",
       "\t</tr>\n",
       "\t<tr>\n",
       "\t\t<td>0.9974</td>\n",
       "\t\t<td>3.26</td>\n",
       "\t\t<td>9.6</td>\n",
       "\t\t<td>0.076</td>\n",
       "\t\t<td>23.0</td>\n",
       "\t\t<td>8.3</td>\n",
       "\t\t<td>0.26</td>\n",
       "\t\t<td>350</td>\n",
       "\t\t<td>0.37</td>\n",
       "\t\t<td>8.0</td>\n",
       "\t\t<td>0.7</td>\n",
       "\t\t<td>1.4</td>\n",
       "\t\t<td>1</td>\n",
       "\t</tr>\n",
       "\t<tr>\n",
       "\t\t<td>0.9974</td>\n",
       "\t\t<td>3.21</td>\n",
       "\t\t<td>9.4</td>\n",
       "\t\t<td>0.08</td>\n",
       "\t\t<td>27.0</td>\n",
       "\t\t<td>8.3</td>\n",
       "\t\t<td>0.26</td>\n",
       "\t\t<td>310</td>\n",
       "\t\t<td>0.42</td>\n",
       "\t\t<td>11.0</td>\n",
       "\t\t<td>0.8</td>\n",
       "\t\t<td>2.0</td>\n",
       "\t\t<td>1</td>\n",
       "\t</tr>\n",
       "\t<tr>\n",
       "\t\t<td>0.9974</td>\n",
       "\t\t<td>3.22</td>\n",
       "\t\t<td>10.9</td>\n",
       "\t\t<td>0.062</td>\n",
       "\t\t<td>22.0</td>\n",
       "\t\t<td>8.2</td>\n",
       "\t\t<td>0.24</td>\n",
       "\t\t<td>119</td>\n",
       "\t\t<td>0.34</td>\n",
       "\t\t<td>8.0</td>\n",
       "\t\t<td>0.94</td>\n",
       "\t\t<td>5.1</td>\n",
       "\t\t<td>1</td>\n",
       "\t</tr>\n",
       "\t<tr>\n",
       "\t\t<td>0.9974</td>\n",
       "\t\t<td>3.25</td>\n",
       "\t\t<td>9.2</td>\n",
       "\t\t<td>0.074</td>\n",
       "\t\t<td>66.0</td>\n",
       "\t\t<td>7.8</td>\n",
       "\t\t<td>0.55</td>\n",
       "\t\t<td>160</td>\n",
       "\t\t<td>0.35</td>\n",
       "\t\t<td>21.0</td>\n",
       "\t\t<td>0.56</td>\n",
       "\t\t<td>2.2</td>\n",
       "\t\t<td>0</td>\n",
       "\t</tr>\n",
       "\t<tr>\n",
       "\t\t<td>0.9974</td>\n",
       "\t\t<td>3.27</td>\n",
       "\t\t<td>9.3</td>\n",
       "\t\t<td>0.09</td>\n",
       "\t\t<td>19.0</td>\n",
       "\t\t<td>7.7</td>\n",
       "\t\t<td>0.665</td>\n",
       "\t\t<td>667</td>\n",
       "\t\t<td>0.0</td>\n",
       "\t\t<td>8.0</td>\n",
       "\t\t<td>0.73</td>\n",
       "\t\t<td>2.4</td>\n",
       "\t\t<td>0</td>\n",
       "\t</tr>\n",
       "\t<tr>\n",
       "\t\t<td>0.9974</td>\n",
       "\t\t<td>3.34</td>\n",
       "\t\t<td>10.5</td>\n",
       "\t\t<td>0.06</td>\n",
       "\t\t<td>121.0</td>\n",
       "\t\t<td>7.0</td>\n",
       "\t\t<td>0.49</td>\n",
       "\t\t<td>655</td>\n",
       "\t\t<td>0.49</td>\n",
       "\t\t<td>26.0</td>\n",
       "\t\t<td>0.76</td>\n",
       "\t\t<td>5.6</td>\n",
       "\t\t<td>0</td>\n",
       "\t</tr>\n",
       "\t<tr>\n",
       "\t\t<td>0.99472</td>\n",
       "\t\t<td>3.23</td>\n",
       "\t\t<td>11.3</td>\n",
       "\t\t<td>0.056</td>\n",
       "\t\t<td>29.0</td>\n",
       "\t\t<td>7.2</td>\n",
       "\t\t<td>0.38</td>\n",
       "\t\t<td>316</td>\n",
       "\t\t<td>0.31</td>\n",
       "\t\t<td>15.0</td>\n",
       "\t\t<td>0.76</td>\n",
       "\t\t<td>2.0</td>\n",
       "\t\t<td>1</td>\n",
       "\t</tr>\n",
       "\t<tr>\n",
       "\t\t<td>0.99542</td>\n",
       "\t\t<td>3.35</td>\n",
       "\t\t<td>10.7</td>\n",
       "\t\t<td>0.042</td>\n",
       "\t\t<td>12.0</td>\n",
       "\t\t<td>8.1</td>\n",
       "\t\t<td>0.33</td>\n",
       "\t\t<td>1220</td>\n",
       "\t\t<td>0.44</td>\n",
       "\t\t<td>6.0</td>\n",
       "\t\t<td>0.61</td>\n",
       "\t\t<td>1.5</td>\n",
       "\t\t<td>0</td>\n",
       "\t</tr>\n",
       "\t<tr>\n",
       "\t\t<td>0.99729</td>\n",
       "\t\t<td>3.16</td>\n",
       "\t\t<td>9.8</td>\n",
       "\t\t<td>0.079</td>\n",
       "\t\t<td>65.0</td>\n",
       "\t\t<td>9.8</td>\n",
       "\t\t<td>0.37</td>\n",
       "\t\t<td>563</td>\n",
       "\t\t<td>0.39</td>\n",
       "\t\t<td>28.0</td>\n",
       "\t\t<td>0.59</td>\n",
       "\t\t<td>2.5</td>\n",
       "\t\t<td>0</td>\n",
       "\t</tr>\n",
       "</table></html>"
      ],
      "text/plain": [
       "           pH  alcohol  chlorides  total_sulfur_dioxide  fixed_acidity  volatile_acidity    id  citric_acid  free_sulfur_dioxide  sulphates  residual_sugar  quality\n",
       "density                                                                                                                                                             \n",
       "0.99472  3.52     11.4      0.056                  13.0            6.1             0.590   365         0.01                  5.0       0.56             2.1        0\n",
       "0.99740  3.26      9.6      0.076                  23.0            8.3             0.260   350         0.37                  8.0       0.70             1.4        1\n",
       "0.99740  3.21      9.4      0.080                  27.0            8.3             0.260   310         0.42                 11.0       0.80             2.0        1\n",
       "0.99740  3.22     10.9      0.062                  22.0            8.2             0.240   119         0.34                  8.0       0.94             5.1        1\n",
       "0.99740  3.25      9.2      0.074                  66.0            7.8             0.550   160         0.35                 21.0       0.56             2.2        0\n",
       "0.99740  3.27      9.3      0.090                  19.0            7.7             0.665   667         0.00                  8.0       0.73             2.4        0\n",
       "0.99740  3.34     10.5      0.060                 121.0            7.0             0.490   655         0.49                 26.0       0.76             5.6        0\n",
       "0.99472  3.23     11.3      0.056                  29.0            7.2             0.380   316         0.31                 15.0       0.76             2.0        1\n",
       "0.99542  3.35     10.7      0.042                  12.0            8.1             0.330  1220         0.44                  6.0       0.61             1.5        0\n",
       "0.99729  3.16      9.8      0.079                  65.0            9.8             0.370   563         0.39                 28.0       0.59             2.5        0"
      ]
     },
     "metadata": {},
     "output_type": "display_data"
    },
    {
     "name": "stdout",
     "output_type": "stream",
     "text": [
      "                                                                                         \r"
     ]
    },
    {
     "data": {
      "text/html": [
       "891 rows X 13 columns"
      ],
      "text/plain": [
       "<IPython.core.display.HTML object>"
      ]
     },
     "metadata": {},
     "output_type": "display_data"
    },
    {
     "name": "stdout",
     "output_type": "stream",
     "text": [
      "                                                                                         \r"
     ]
    },
    {
     "data": {
      "text/html": [
       "median inplace of outliers:"
      ],
      "text/plain": [
       "<IPython.core.display.HTML object>"
      ]
     },
     "metadata": {},
     "output_type": "display_data"
    },
    {
     "name": "stdout",
     "output_type": "stream",
     "text": [
      "['residual_sugar']\n",
      "                                                                                         \r"
     ]
    },
    {
     "data": {
      "text/html": [
       "Sample of dataset after performing MEDIAN inplace:"
      ],
      "text/plain": [
       "<IPython.core.display.HTML object>"
      ]
     },
     "metadata": {},
     "output_type": "display_data"
    },
    {
     "data": {
      "text/html": [
       "<style type=\"text/css\">\n",
       "\ttable {border:ridge 5px;}\n",
       "\ttable td {border:inset 1px;}\n",
       "\ttable tr#HeaderRow {background-color:grey; color:white;}</style>\n",
       "<html><table>\n",
       "\t<tr id=\"HeaderRow\">\n",
       "\t\t<th>density</th>\n",
       "\t\t<th>pH</th>\n",
       "\t\t<th>alcohol</th>\n",
       "\t\t<th>chlorides</th>\n",
       "\t\t<th>total_sulfur_dioxide</th>\n",
       "\t\t<th>fixed_acidity</th>\n",
       "\t\t<th>volatile_acidity</th>\n",
       "\t\t<th>id</th>\n",
       "\t\t<th>citric_acid</th>\n",
       "\t\t<th>free_sulfur_dioxide</th>\n",
       "\t\t<th>sulphates</th>\n",
       "\t\t<th>residual_sugar</th>\n",
       "\t\t<th>quality</th>\n",
       "\t</tr>\n",
       "\t<tr>\n",
       "\t\t<td>0.99552</td>\n",
       "\t\t<td>3.41</td>\n",
       "\t\t<td>11.9</td>\n",
       "\t\t<td>0.075</td>\n",
       "\t\t<td>21.0</td>\n",
       "\t\t<td>8.9</td>\n",
       "\t\t<td>0.12</td>\n",
       "\t\t<td>1227</td>\n",
       "\t\t<td>0.45</td>\n",
       "\t\t<td>10.0</td>\n",
       "\t\t<td>0.76</td>\n",
       "\t\t<td>1.8</td>\n",
       "\t\t<td>1</td>\n",
       "\t</tr>\n",
       "\t<tr>\n",
       "\t\t<td>0.9952</td>\n",
       "\t\t<td>3.28</td>\n",
       "\t\t<td>11.3</td>\n",
       "\t\t<td>0.062</td>\n",
       "\t\t<td>34.0</td>\n",
       "\t\t<td>7.7</td>\n",
       "\t\t<td>0.28</td>\n",
       "\t\t<td>699</td>\n",
       "\t\t<td>0.3</td>\n",
       "\t\t<td>18.0</td>\n",
       "\t\t<td>0.9</td>\n",
       "\t\t<td>2.0</td>\n",
       "\t\t<td>1</td>\n",
       "\t</tr>\n",
       "\t<tr>\n",
       "\t\t<td>0.9952</td>\n",
       "\t\t<td>3.2</td>\n",
       "\t\t<td>9.8</td>\n",
       "\t\t<td>0.07</td>\n",
       "\t\t<td>48.0</td>\n",
       "\t\t<td>8.7</td>\n",
       "\t\t<td>0.82</td>\n",
       "\t\t<td>1018</td>\n",
       "\t\t<td>0.02</td>\n",
       "\t\t<td>36.0</td>\n",
       "\t\t<td>0.58</td>\n",
       "\t\t<td>1.2</td>\n",
       "\t\t<td>0</td>\n",
       "\t</tr>\n",
       "\t<tr>\n",
       "\t\t<td>0.9952</td>\n",
       "\t\t<td>3.34</td>\n",
       "\t\t<td>13.3</td>\n",
       "\t\t<td>0.055</td>\n",
       "\t\t<td>25.0</td>\n",
       "\t\t<td>9.2</td>\n",
       "\t\t<td>0.41</td>\n",
       "\t\t<td>534</td>\n",
       "\t\t<td>0.5</td>\n",
       "\t\t<td>12.0</td>\n",
       "\t\t<td>0.79</td>\n",
       "\t\t<td>2.5</td>\n",
       "\t\t<td>1</td>\n",
       "\t</tr>\n",
       "\t<tr>\n",
       "\t\t<td>0.9952</td>\n",
       "\t\t<td>3.52</td>\n",
       "\t\t<td>12.3</td>\n",
       "\t\t<td>0.059</td>\n",
       "\t\t<td>48.0</td>\n",
       "\t\t<td>6.6</td>\n",
       "\t\t<td>0.84</td>\n",
       "\t\t<td>529</td>\n",
       "\t\t<td>0.03</td>\n",
       "\t\t<td>32.0</td>\n",
       "\t\t<td>0.56</td>\n",
       "\t\t<td>2.3</td>\n",
       "\t\t<td>1</td>\n",
       "\t</tr>\n",
       "\t<tr>\n",
       "\t\t<td>0.9952</td>\n",
       "\t\t<td>3.35</td>\n",
       "\t\t<td>12.1</td>\n",
       "\t\t<td>0.064</td>\n",
       "\t\t<td>37.0</td>\n",
       "\t\t<td>7.3</td>\n",
       "\t\t<td>0.34</td>\n",
       "\t\t<td>359</td>\n",
       "\t\t<td>0.33</td>\n",
       "\t\t<td>21.0</td>\n",
       "\t\t<td>0.77</td>\n",
       "\t\t<td>2.5</td>\n",
       "\t\t<td>1</td>\n",
       "\t</tr>\n",
       "\t<tr>\n",
       "\t\t<td>0.9952</td>\n",
       "\t\t<td>3.44</td>\n",
       "\t\t<td>12.1</td>\n",
       "\t\t<td>0.051</td>\n",
       "\t\t<td>91.0</td>\n",
       "\t\t<td>6.5</td>\n",
       "\t\t<td>0.39</td>\n",
       "\t\t<td>1212</td>\n",
       "\t\t<td>0.23</td>\n",
       "\t\t<td>28.0</td>\n",
       "\t\t<td>0.55</td>\n",
       "\t\t<td>2.2</td>\n",
       "\t\t<td>1</td>\n",
       "\t</tr>\n",
       "\t<tr>\n",
       "\t\t<td>0.9952</td>\n",
       "\t\t<td>3.4</td>\n",
       "\t\t<td>9.8</td>\n",
       "\t\t<td>0.06</td>\n",
       "\t\t<td>26.0</td>\n",
       "\t\t<td>6.6</td>\n",
       "\t\t<td>0.5</td>\n",
       "\t\t<td>561</td>\n",
       "\t\t<td>0.01</td>\n",
       "\t\t<td>17.0</td>\n",
       "\t\t<td>0.58</td>\n",
       "\t\t<td>1.5</td>\n",
       "\t\t<td>1</td>\n",
       "\t</tr>\n",
       "\t<tr>\n",
       "\t\t<td>0.99552</td>\n",
       "\t\t<td>3.33</td>\n",
       "\t\t<td>9.7</td>\n",
       "\t\t<td>0.064</td>\n",
       "\t\t<td>34.0</td>\n",
       "\t\t<td>6.7</td>\n",
       "\t\t<td>0.48</td>\n",
       "\t\t<td>750</td>\n",
       "\t\t<td>0.08</td>\n",
       "\t\t<td>18.0</td>\n",
       "\t\t<td>0.64</td>\n",
       "\t\t<td>2.1</td>\n",
       "\t\t<td>0</td>\n",
       "\t</tr>\n",
       "\t<tr>\n",
       "\t\t<td>0.99552</td>\n",
       "\t\t<td>3.23</td>\n",
       "\t\t<td>11.1</td>\n",
       "\t\t<td>0.067</td>\n",
       "\t\t<td>10.0</td>\n",
       "\t\t<td>9.1</td>\n",
       "\t\t<td>0.21</td>\n",
       "\t\t<td>990</td>\n",
       "\t\t<td>0.37</td>\n",
       "\t\t<td>6.0</td>\n",
       "\t\t<td>0.58</td>\n",
       "\t\t<td>1.6</td>\n",
       "\t\t<td>1</td>\n",
       "\t</tr>\n",
       "</table></html>"
      ],
      "text/plain": [
       "           pH  alcohol  chlorides  total_sulfur_dioxide  fixed_acidity  volatile_acidity    id  citric_acid  free_sulfur_dioxide  sulphates  residual_sugar  quality\n",
       "density                                                                                                                                                             \n",
       "0.99552  3.41     11.9      0.075                  21.0            8.9              0.12  1227         0.45                 10.0       0.76             1.8        1\n",
       "0.99520  3.28     11.3      0.062                  34.0            7.7              0.28   699         0.30                 18.0       0.90             2.0        1\n",
       "0.99520  3.20      9.8      0.070                  48.0            8.7              0.82  1018         0.02                 36.0       0.58             1.2        0\n",
       "0.99520  3.34     13.3      0.055                  25.0            9.2              0.41   534         0.50                 12.0       0.79             2.5        1\n",
       "0.99520  3.52     12.3      0.059                  48.0            6.6              0.84   529         0.03                 32.0       0.56             2.3        1\n",
       "0.99520  3.35     12.1      0.064                  37.0            7.3              0.34   359         0.33                 21.0       0.77             2.5        1\n",
       "0.99520  3.44     12.1      0.051                  91.0            6.5              0.39  1212         0.23                 28.0       0.55             2.2        1\n",
       "0.99520  3.40      9.8      0.060                  26.0            6.6              0.50   561         0.01                 17.0       0.58             1.5        1\n",
       "0.99552  3.33      9.7      0.064                  34.0            6.7              0.48   750         0.08                 18.0       0.64             2.1        0\n",
       "0.99552  3.23     11.1      0.067                  10.0            9.1              0.21   990         0.37                  6.0       0.58             1.6        1"
      ]
     },
     "metadata": {},
     "output_type": "display_data"
    },
    {
     "name": "stdout",
     "output_type": "stream",
     "text": [
      "                                                                                         \r"
     ]
    },
    {
     "data": {
      "text/html": [
       "891 rows X 13 columns"
      ],
      "text/plain": [
       "<IPython.core.display.HTML object>"
      ]
     },
     "metadata": {},
     "output_type": "display_data"
    },
    {
     "name": "stdout",
     "output_type": "stream",
     "text": [
      "                                                                                         \r"
     ]
    },
    {
     "data": {
      "text/html": [
       "Time Taken by Outlier processing: 43.92 sec "
      ],
      "text/plain": [
       "<IPython.core.display.HTML object>"
      ]
     },
     "metadata": {},
     "output_type": "display_data"
    },
    {
     "name": "stdout",
     "output_type": "stream",
     "text": [
      "                                                                                         \r"
     ]
    },
    {
     "data": {
      "text/html": [
       "\n",
       "Checking imbalance data ..."
      ],
      "text/plain": [
       "<IPython.core.display.HTML object>"
      ]
     },
     "metadata": {},
     "output_type": "display_data"
    },
    {
     "name": "stdout",
     "output_type": "stream",
     "text": [
      "                                                                                         \r"
     ]
    },
    {
     "data": {
      "text/html": [
       "Imbalance Not Found."
      ],
      "text/plain": [
       "<IPython.core.display.HTML object>"
      ]
     },
     "metadata": {},
     "output_type": "display_data"
    },
    {
     "name": "stdout",
     "output_type": "stream",
     "text": [
      "                                                                                         \r"
     ]
    },
    {
     "data": {
      "text/html": [
       "\n",
       "Feature selection using lasso ..."
      ],
      "text/plain": [
       "<IPython.core.display.HTML object>"
      ]
     },
     "metadata": {},
     "output_type": "display_data"
    },
    {
     "name": "stdout",
     "output_type": "stream",
     "text": [
      "                                                                                         \r"
     ]
    },
    {
     "data": {
      "text/html": [
       "feature selected by lasso:"
      ],
      "text/plain": [
       "<IPython.core.display.HTML object>"
      ]
     },
     "metadata": {},
     "output_type": "display_data"
    },
    {
     "name": "stdout",
     "output_type": "stream",
     "text": [
      "['density', 'pH', 'alcohol', 'chlorides', 'total_sulfur_dioxide', 'fixed_acidity', 'volatile_acidity', 'citric_acid', 'free_sulfur_dioxide', 'sulphates', 'residual_sugar']\n",
      "                                                                                         \r"
     ]
    },
    {
     "data": {
      "text/html": [
       "Total time taken by feature selection: 6.29 sec  "
      ],
      "text/plain": [
       "<IPython.core.display.HTML object>"
      ]
     },
     "metadata": {},
     "output_type": "display_data"
    },
    {
     "name": "stdout",
     "output_type": "stream",
     "text": [
      "                                                                                         \r"
     ]
    },
    {
     "data": {
      "text/html": [
       "\n",
       "scaling Features of lasso data ..."
      ],
      "text/plain": [
       "<IPython.core.display.HTML object>"
      ]
     },
     "metadata": {},
     "output_type": "display_data"
    },
    {
     "name": "stdout",
     "output_type": "stream",
     "text": [
      "                                                                                         \r"
     ]
    },
    {
     "data": {
      "text/html": [
       "columns that will be scaled: "
      ],
      "text/plain": [
       "<IPython.core.display.HTML object>"
      ]
     },
     "metadata": {},
     "output_type": "display_data"
    },
    {
     "name": "stdout",
     "output_type": "stream",
     "text": [
      "['density', 'pH', 'alcohol', 'chlorides', 'total_sulfur_dioxide', 'fixed_acidity', 'volatile_acidity', 'citric_acid', 'free_sulfur_dioxide', 'sulphates', 'residual_sugar']\n",
      "                                                                                         \r"
     ]
    },
    {
     "data": {
      "text/html": [
       "Dataset sample after scaling:"
      ],
      "text/plain": [
       "<IPython.core.display.HTML object>"
      ]
     },
     "metadata": {},
     "output_type": "display_data"
    },
    {
     "data": {
      "text/html": [
       "<style type=\"text/css\">\n",
       "\ttable {border:ridge 5px;}\n",
       "\ttable td {border:inset 1px;}\n",
       "\ttable tr#HeaderRow {background-color:grey; color:white;}</style>\n",
       "<html><table>\n",
       "\t<tr id=\"HeaderRow\">\n",
       "\t\t<th>quality</th>\n",
       "\t\t<th>id</th>\n",
       "\t\t<th>density</th>\n",
       "\t\t<th>pH</th>\n",
       "\t\t<th>alcohol</th>\n",
       "\t\t<th>chlorides</th>\n",
       "\t\t<th>total_sulfur_dioxide</th>\n",
       "\t\t<th>fixed_acidity</th>\n",
       "\t\t<th>volatile_acidity</th>\n",
       "\t\t<th>citric_acid</th>\n",
       "\t\t<th>free_sulfur_dioxide</th>\n",
       "\t\t<th>sulphates</th>\n",
       "\t\t<th>residual_sugar</th>\n",
       "\t</tr>\n",
       "\t<tr>\n",
       "\t\t<td>0</td>\n",
       "\t\t<td>13</td>\n",
       "\t\t<td>0.6781609195402373</td>\n",
       "\t\t<td>0.4459459459459459</td>\n",
       "\t\t<td>0.4893617021276596</td>\n",
       "\t\t<td>0.5000000000000001</td>\n",
       "\t\t<td>0.01652892561983471</td>\n",
       "\t\t<td>0.5072463768115941</td>\n",
       "\t\t<td>0.2840909090909091</td>\n",
       "\t\t<td>0.8333333333333334</td>\n",
       "\t\t<td>0.047619047619047616</td>\n",
       "\t\t<td>0.390625</td>\n",
       "\t\t<td>0.4166666666666667</td>\n",
       "\t</tr>\n",
       "\t<tr>\n",
       "\t\t<td>0</td>\n",
       "\t\t<td>15</td>\n",
       "\t\t<td>0.2643678160919653</td>\n",
       "\t\t<td>0.22972972972972958</td>\n",
       "\t\t<td>0.27659574468085113</td>\n",
       "\t\t<td>0.5769230769230769</td>\n",
       "\t\t<td>0.2066115702479339</td>\n",
       "\t\t<td>0.4492753623188405</td>\n",
       "\t\t<td>0.8693181818181819</td>\n",
       "\t\t<td>0.25641025641025644</td>\n",
       "\t\t<td>0.14285714285714285</td>\n",
       "\t\t<td>0.20312500000000003</td>\n",
       "\t\t<td>0.0833333333333333</td>\n",
       "\t</tr>\n",
       "\t<tr>\n",
       "\t\t<td>1</td>\n",
       "\t\t<td>17</td>\n",
       "\t\t<td>0.563218390804604</td>\n",
       "\t\t<td>0.8648648648648648</td>\n",
       "\t\t<td>0.3829787234042554</td>\n",
       "\t\t<td>0.5897435897435898</td>\n",
       "\t\t<td>0.2644628099173554</td>\n",
       "\t\t<td>0.3478260869565218</td>\n",
       "\t\t<td>0.4545454545454546</td>\n",
       "\t\t<td>0.5384615384615384</td>\n",
       "\t\t<td>0.16666666666666666</td>\n",
       "\t\t<td>0.4375</td>\n",
       "\t\t<td>0.4583333333333332</td>\n",
       "\t</tr>\n",
       "\t<tr>\n",
       "\t\t<td>0</td>\n",
       "\t\t<td>19</td>\n",
       "\t\t<td>0.4942528735632317</td>\n",
       "\t\t<td>0.7432432432432434</td>\n",
       "\t\t<td>0.3829787234042554</td>\n",
       "\t\t<td>0.5256410256410258</td>\n",
       "\t\t<td>0.23140495867768596</td>\n",
       "\t\t<td>0.3333333333333334</td>\n",
       "\t\t<td>0.4886363636363637</td>\n",
       "\t\t<td>0.24358974358974358</td>\n",
       "\t\t<td>0.3333333333333333</td>\n",
       "\t\t<td>0.5468750000000001</td>\n",
       "\t\t<td>0.25</td>\n",
       "\t</tr>\n",
       "\t<tr>\n",
       "\t\t<td>0</td>\n",
       "\t\t<td>21</td>\n",
       "\t\t<td>0.3333333333333376</td>\n",
       "\t\t<td>0.3243243243243245</td>\n",
       "\t\t<td>0.5319148936170212</td>\n",
       "\t\t<td>0.1794871794871795</td>\n",
       "\t\t<td>0.18181818181818182</td>\n",
       "\t\t<td>0.5072463768115941</td>\n",
       "\t\t<td>0.3977272727272727</td>\n",
       "\t\t<td>0.34615384615384615</td>\n",
       "\t\t<td>0.30952380952380953</td>\n",
       "\t\t<td>0.7343750000000001</td>\n",
       "\t\t<td>0.4583333333333332</td>\n",
       "\t</tr>\n",
       "\t<tr>\n",
       "\t\t<td>1</td>\n",
       "\t\t<td>22</td>\n",
       "\t\t<td>0.6666666666666752</td>\n",
       "\t\t<td>0.5135135135135133</td>\n",
       "\t\t<td>0.17021276595744692</td>\n",
       "\t\t<td>0.6666666666666667</td>\n",
       "\t\t<td>0.7603305785123967</td>\n",
       "\t\t<td>0.5652173913043479</td>\n",
       "\t\t<td>0.3863636363636364</td>\n",
       "\t\t<td>0.3974358974358974</td>\n",
       "\t\t<td>0.42857142857142855</td>\n",
       "\t\t<td>0.46875000000000006</td>\n",
       "\t\t<td>0.6666666666666665</td>\n",
       "\t</tr>\n",
       "\t<tr>\n",
       "\t\t<td>1</td>\n",
       "\t\t<td>20</td>\n",
       "\t\t<td>0.18390804597701824</td>\n",
       "\t\t<td>0.4459459459459459</td>\n",
       "\t\t<td>0.8085106382978723</td>\n",
       "\t\t<td>0.0</td>\n",
       "\t\t<td>0.03305785123966942</td>\n",
       "\t\t<td>0.47826086956521746</td>\n",
       "\t\t<td>0.14772727272727273</td>\n",
       "\t\t<td>0.5</td>\n",
       "\t\t<td>0.07142857142857142</td>\n",
       "\t\t<td>0.59375</td>\n",
       "\t\t<td>0.3333333333333333</td>\n",
       "\t</tr>\n",
       "\t<tr>\n",
       "\t\t<td>0</td>\n",
       "\t\t<td>14</td>\n",
       "\t\t<td>0.6091954022988649</td>\n",
       "\t\t<td>0.47297297297297297</td>\n",
       "\t\t<td>0.3617021276595746</td>\n",
       "\t\t<td>0.46153846153846156</td>\n",
       "\t\t<td>0.05785123966942149</td>\n",
       "\t\t<td>0.5652173913043479</td>\n",
       "\t\t<td>0.6136363636363636</td>\n",
       "\t\t<td>0.21794871794871795</td>\n",
       "\t\t<td>0.09523809523809523</td>\n",
       "\t\t<td>0.3437500000000001</td>\n",
       "\t\t<td>0.7499999999999999</td>\n",
       "\t</tr>\n",
       "\t<tr>\n",
       "\t\t<td>0</td>\n",
       "\t\t<td>12</td>\n",
       "\t\t<td>0.4252873563218467</td>\n",
       "\t\t<td>0.6081081081081082</td>\n",
       "\t\t<td>0.3829787234042554</td>\n",
       "\t\t<td>0.3333333333333334</td>\n",
       "\t\t<td>0.11570247933884298</td>\n",
       "\t\t<td>0.47826086956521746</td>\n",
       "\t\t<td>0.19318181818181818</td>\n",
       "\t\t<td>0.5128205128205129</td>\n",
       "\t\t<td>0.16666666666666666</td>\n",
       "\t\t<td>0.421875</td>\n",
       "\t\t<td>0.20833333333333331</td>\n",
       "\t</tr>\n",
       "\t<tr>\n",
       "\t\t<td>1</td>\n",
       "\t\t<td>10</td>\n",
       "\t\t<td>0.632183908045989</td>\n",
       "\t\t<td>0.28378378378378366</td>\n",
       "\t\t<td>0.4893617021276596</td>\n",
       "\t\t<td>0.3205128205128206</td>\n",
       "\t\t<td>0.1487603305785124</td>\n",
       "\t\t<td>0.782608695652174</td>\n",
       "\t\t<td>0.13636363636363635</td>\n",
       "\t\t<td>0.6025641025641025</td>\n",
       "\t\t<td>0.11904761904761904</td>\n",
       "\t\t<td>0.8906250000000002</td>\n",
       "\t\t<td>0.375</td>\n",
       "\t</tr>\n",
       "</table></html>"
      ],
      "text/plain": [
       "   quality  id   density        pH   alcohol  chlorides  total_sulfur_dioxide  fixed_acidity  volatile_acidity  citric_acid  free_sulfur_dioxide  sulphates  residual_sugar\n",
       "0        0  13  0.678161  0.445946  0.489362   0.500000              0.016529       0.507246          0.284091     0.833333             0.047619   0.390625        0.416667\n",
       "1        0  15  0.264368  0.229730  0.276596   0.576923              0.206612       0.449275          0.869318     0.256410             0.142857   0.203125        0.083333\n",
       "2        1  17  0.563218  0.864865  0.382979   0.589744              0.264463       0.347826          0.454545     0.538462             0.166667   0.437500        0.458333\n",
       "3        0  19  0.494253  0.743243  0.382979   0.525641              0.231405       0.333333          0.488636     0.243590             0.333333   0.546875        0.250000\n",
       "4        0  21  0.333333  0.324324  0.531915   0.179487              0.181818       0.507246          0.397727     0.346154             0.309524   0.734375        0.458333\n",
       "5        1  22  0.666667  0.513514  0.170213   0.666667              0.760331       0.565217          0.386364     0.397436             0.428571   0.468750        0.666667\n",
       "6        1  20  0.183908  0.445946  0.808511   0.000000              0.033058       0.478261          0.147727     0.500000             0.071429   0.593750        0.333333\n",
       "7        0  14  0.609195  0.472973  0.361702   0.461538              0.057851       0.565217          0.613636     0.217949             0.095238   0.343750        0.750000\n",
       "8        0  12  0.425287  0.608108  0.382979   0.333333              0.115702       0.478261          0.193182     0.512821             0.166667   0.421875        0.208333\n",
       "9        1  10  0.632184  0.283784  0.489362   0.320513              0.148760       0.782609          0.136364     0.602564             0.119048   0.890625        0.375000"
      ]
     },
     "metadata": {},
     "output_type": "display_data"
    },
    {
     "name": "stdout",
     "output_type": "stream",
     "text": [
      "                                                                                         \r"
     ]
    },
    {
     "data": {
      "text/html": [
       "891 rows X 13 columns"
      ],
      "text/plain": [
       "<IPython.core.display.HTML object>"
      ]
     },
     "metadata": {},
     "output_type": "display_data"
    },
    {
     "name": "stdout",
     "output_type": "stream",
     "text": [
      "                                                                                         \r"
     ]
    },
    {
     "data": {
      "text/html": [
       "Total time taken by feature scaling: 30.35 sec"
      ],
      "text/plain": [
       "<IPython.core.display.HTML object>"
      ]
     },
     "metadata": {},
     "output_type": "display_data"
    },
    {
     "name": "stdout",
     "output_type": "stream",
     "text": [
      "                                                                                          \r"
     ]
    },
    {
     "data": {
      "text/html": [
       "\n",
       "Feature selection using rfe ..."
      ],
      "text/plain": [
       "<IPython.core.display.HTML object>"
      ]
     },
     "metadata": {},
     "output_type": "display_data"
    },
    {
     "name": "stdout",
     "output_type": "stream",
     "text": [
      "                                                                                          \r"
     ]
    },
    {
     "data": {
      "text/html": [
       "feature selected by RFE:"
      ],
      "text/plain": [
       "<IPython.core.display.HTML object>"
      ]
     },
     "metadata": {},
     "output_type": "display_data"
    },
    {
     "name": "stdout",
     "output_type": "stream",
     "text": [
      "['density', 'pH', 'alcohol', 'chlorides', 'total_sulfur_dioxide', 'fixed_acidity', 'volatile_acidity', 'citric_acid', 'free_sulfur_dioxide', 'sulphates']\n",
      "                                                                                          \r"
     ]
    },
    {
     "data": {
      "text/html": [
       "Total time taken by feature selection: 32.71 sec  "
      ],
      "text/plain": [
       "<IPython.core.display.HTML object>"
      ]
     },
     "metadata": {},
     "output_type": "display_data"
    },
    {
     "name": "stdout",
     "output_type": "stream",
     "text": [
      "                                                                                          \r"
     ]
    },
    {
     "data": {
      "text/html": [
       "\n",
       "scaling Features of rfe data ..."
      ],
      "text/plain": [
       "<IPython.core.display.HTML object>"
      ]
     },
     "metadata": {},
     "output_type": "display_data"
    },
    {
     "name": "stdout",
     "output_type": "stream",
     "text": [
      "                                                                                          \r"
     ]
    },
    {
     "data": {
      "text/html": [
       "columns that will be scaled: "
      ],
      "text/plain": [
       "<IPython.core.display.HTML object>"
      ]
     },
     "metadata": {},
     "output_type": "display_data"
    },
    {
     "name": "stdout",
     "output_type": "stream",
     "text": [
      "['r_density', 'r_pH', 'r_alcohol', 'r_chlorides', 'r_total_sulfur_dioxide', 'r_fixed_acidity', 'r_volatile_acidity', 'r_citric_acid', 'r_free_sulfur_dioxide', 'r_sulphates']\n",
      "                                                                                          \r"
     ]
    },
    {
     "data": {
      "text/html": [
       "Dataset sample after scaling:"
      ],
      "text/plain": [
       "<IPython.core.display.HTML object>"
      ]
     },
     "metadata": {},
     "output_type": "display_data"
    },
    {
     "data": {
      "text/html": [
       "<style type=\"text/css\">\n",
       "\ttable {border:ridge 5px;}\n",
       "\ttable td {border:inset 1px;}\n",
       "\ttable tr#HeaderRow {background-color:grey; color:white;}</style>\n",
       "<html><table>\n",
       "\t<tr id=\"HeaderRow\">\n",
       "\t\t<th>quality</th>\n",
       "\t\t<th>id</th>\n",
       "\t\t<th>r_density</th>\n",
       "\t\t<th>r_pH</th>\n",
       "\t\t<th>r_alcohol</th>\n",
       "\t\t<th>r_chlorides</th>\n",
       "\t\t<th>r_total_sulfur_dioxide</th>\n",
       "\t\t<th>r_fixed_acidity</th>\n",
       "\t\t<th>r_volatile_acidity</th>\n",
       "\t\t<th>r_citric_acid</th>\n",
       "\t\t<th>r_free_sulfur_dioxide</th>\n",
       "\t\t<th>r_sulphates</th>\n",
       "\t</tr>\n",
       "\t<tr>\n",
       "\t\t<td>0</td>\n",
       "\t\t<td>13</td>\n",
       "\t\t<td>0.6781609195402373</td>\n",
       "\t\t<td>0.4459459459459459</td>\n",
       "\t\t<td>0.4893617021276596</td>\n",
       "\t\t<td>0.5000000000000001</td>\n",
       "\t\t<td>0.01652892561983471</td>\n",
       "\t\t<td>0.5072463768115941</td>\n",
       "\t\t<td>0.2840909090909091</td>\n",
       "\t\t<td>0.8333333333333334</td>\n",
       "\t\t<td>0.047619047619047616</td>\n",
       "\t\t<td>0.390625</td>\n",
       "\t</tr>\n",
       "\t<tr>\n",
       "\t\t<td>0</td>\n",
       "\t\t<td>15</td>\n",
       "\t\t<td>0.2643678160919653</td>\n",
       "\t\t<td>0.22972972972972958</td>\n",
       "\t\t<td>0.27659574468085113</td>\n",
       "\t\t<td>0.5769230769230769</td>\n",
       "\t\t<td>0.2066115702479339</td>\n",
       "\t\t<td>0.4492753623188405</td>\n",
       "\t\t<td>0.8693181818181819</td>\n",
       "\t\t<td>0.25641025641025644</td>\n",
       "\t\t<td>0.14285714285714285</td>\n",
       "\t\t<td>0.20312500000000003</td>\n",
       "\t</tr>\n",
       "\t<tr>\n",
       "\t\t<td>1</td>\n",
       "\t\t<td>17</td>\n",
       "\t\t<td>0.563218390804604</td>\n",
       "\t\t<td>0.8648648648648648</td>\n",
       "\t\t<td>0.3829787234042554</td>\n",
       "\t\t<td>0.5897435897435898</td>\n",
       "\t\t<td>0.2644628099173554</td>\n",
       "\t\t<td>0.3478260869565218</td>\n",
       "\t\t<td>0.4545454545454546</td>\n",
       "\t\t<td>0.5384615384615384</td>\n",
       "\t\t<td>0.16666666666666666</td>\n",
       "\t\t<td>0.4375</td>\n",
       "\t</tr>\n",
       "\t<tr>\n",
       "\t\t<td>0</td>\n",
       "\t\t<td>19</td>\n",
       "\t\t<td>0.4942528735632317</td>\n",
       "\t\t<td>0.7432432432432434</td>\n",
       "\t\t<td>0.3829787234042554</td>\n",
       "\t\t<td>0.5256410256410258</td>\n",
       "\t\t<td>0.23140495867768596</td>\n",
       "\t\t<td>0.3333333333333334</td>\n",
       "\t\t<td>0.4886363636363637</td>\n",
       "\t\t<td>0.24358974358974358</td>\n",
       "\t\t<td>0.3333333333333333</td>\n",
       "\t\t<td>0.5468750000000001</td>\n",
       "\t</tr>\n",
       "\t<tr>\n",
       "\t\t<td>0</td>\n",
       "\t\t<td>21</td>\n",
       "\t\t<td>0.3333333333333376</td>\n",
       "\t\t<td>0.3243243243243245</td>\n",
       "\t\t<td>0.5319148936170212</td>\n",
       "\t\t<td>0.1794871794871795</td>\n",
       "\t\t<td>0.18181818181818182</td>\n",
       "\t\t<td>0.5072463768115941</td>\n",
       "\t\t<td>0.3977272727272727</td>\n",
       "\t\t<td>0.34615384615384615</td>\n",
       "\t\t<td>0.30952380952380953</td>\n",
       "\t\t<td>0.7343750000000001</td>\n",
       "\t</tr>\n",
       "\t<tr>\n",
       "\t\t<td>1</td>\n",
       "\t\t<td>22</td>\n",
       "\t\t<td>0.6666666666666752</td>\n",
       "\t\t<td>0.5135135135135133</td>\n",
       "\t\t<td>0.17021276595744692</td>\n",
       "\t\t<td>0.6666666666666667</td>\n",
       "\t\t<td>0.7603305785123967</td>\n",
       "\t\t<td>0.5652173913043479</td>\n",
       "\t\t<td>0.3863636363636364</td>\n",
       "\t\t<td>0.3974358974358974</td>\n",
       "\t\t<td>0.42857142857142855</td>\n",
       "\t\t<td>0.46875000000000006</td>\n",
       "\t</tr>\n",
       "\t<tr>\n",
       "\t\t<td>1</td>\n",
       "\t\t<td>20</td>\n",
       "\t\t<td>0.18390804597701824</td>\n",
       "\t\t<td>0.4459459459459459</td>\n",
       "\t\t<td>0.8085106382978723</td>\n",
       "\t\t<td>0.0</td>\n",
       "\t\t<td>0.03305785123966942</td>\n",
       "\t\t<td>0.47826086956521746</td>\n",
       "\t\t<td>0.14772727272727273</td>\n",
       "\t\t<td>0.5</td>\n",
       "\t\t<td>0.07142857142857142</td>\n",
       "\t\t<td>0.59375</td>\n",
       "\t</tr>\n",
       "\t<tr>\n",
       "\t\t<td>0</td>\n",
       "\t\t<td>14</td>\n",
       "\t\t<td>0.6091954022988649</td>\n",
       "\t\t<td>0.47297297297297297</td>\n",
       "\t\t<td>0.3617021276595746</td>\n",
       "\t\t<td>0.46153846153846156</td>\n",
       "\t\t<td>0.05785123966942149</td>\n",
       "\t\t<td>0.5652173913043479</td>\n",
       "\t\t<td>0.6136363636363636</td>\n",
       "\t\t<td>0.21794871794871795</td>\n",
       "\t\t<td>0.09523809523809523</td>\n",
       "\t\t<td>0.3437500000000001</td>\n",
       "\t</tr>\n",
       "\t<tr>\n",
       "\t\t<td>0</td>\n",
       "\t\t<td>12</td>\n",
       "\t\t<td>0.4252873563218467</td>\n",
       "\t\t<td>0.6081081081081082</td>\n",
       "\t\t<td>0.3829787234042554</td>\n",
       "\t\t<td>0.3333333333333334</td>\n",
       "\t\t<td>0.11570247933884298</td>\n",
       "\t\t<td>0.47826086956521746</td>\n",
       "\t\t<td>0.19318181818181818</td>\n",
       "\t\t<td>0.5128205128205129</td>\n",
       "\t\t<td>0.16666666666666666</td>\n",
       "\t\t<td>0.421875</td>\n",
       "\t</tr>\n",
       "\t<tr>\n",
       "\t\t<td>1</td>\n",
       "\t\t<td>10</td>\n",
       "\t\t<td>0.632183908045989</td>\n",
       "\t\t<td>0.28378378378378366</td>\n",
       "\t\t<td>0.4893617021276596</td>\n",
       "\t\t<td>0.3205128205128206</td>\n",
       "\t\t<td>0.1487603305785124</td>\n",
       "\t\t<td>0.782608695652174</td>\n",
       "\t\t<td>0.13636363636363635</td>\n",
       "\t\t<td>0.6025641025641025</td>\n",
       "\t\t<td>0.11904761904761904</td>\n",
       "\t\t<td>0.8906250000000002</td>\n",
       "\t</tr>\n",
       "</table></html>"
      ],
      "text/plain": [
       "   quality  id  r_density      r_pH  r_alcohol  r_chlorides  r_total_sulfur_dioxide  r_fixed_acidity  r_volatile_acidity  r_citric_acid  r_free_sulfur_dioxide  r_sulphates\n",
       "0        0  13   0.678161  0.445946   0.489362     0.500000                0.016529         0.507246            0.284091       0.833333               0.047619     0.390625\n",
       "1        0  15   0.264368  0.229730   0.276596     0.576923                0.206612         0.449275            0.869318       0.256410               0.142857     0.203125\n",
       "2        1  17   0.563218  0.864865   0.382979     0.589744                0.264463         0.347826            0.454545       0.538462               0.166667     0.437500\n",
       "3        0  19   0.494253  0.743243   0.382979     0.525641                0.231405         0.333333            0.488636       0.243590               0.333333     0.546875\n",
       "4        0  21   0.333333  0.324324   0.531915     0.179487                0.181818         0.507246            0.397727       0.346154               0.309524     0.734375\n",
       "5        1  22   0.666667  0.513514   0.170213     0.666667                0.760331         0.565217            0.386364       0.397436               0.428571     0.468750\n",
       "6        1  20   0.183908  0.445946   0.808511     0.000000                0.033058         0.478261            0.147727       0.500000               0.071429     0.593750\n",
       "7        0  14   0.609195  0.472973   0.361702     0.461538                0.057851         0.565217            0.613636       0.217949               0.095238     0.343750\n",
       "8        0  12   0.425287  0.608108   0.382979     0.333333                0.115702         0.478261            0.193182       0.512821               0.166667     0.421875\n",
       "9        1  10   0.632184  0.283784   0.489362     0.320513                0.148760         0.782609            0.136364       0.602564               0.119048     0.890625"
      ]
     },
     "metadata": {},
     "output_type": "display_data"
    },
    {
     "name": "stdout",
     "output_type": "stream",
     "text": [
      "                                                                                          \r"
     ]
    },
    {
     "data": {
      "text/html": [
       "891 rows X 12 columns"
      ],
      "text/plain": [
       "<IPython.core.display.HTML object>"
      ]
     },
     "metadata": {},
     "output_type": "display_data"
    },
    {
     "name": "stdout",
     "output_type": "stream",
     "text": [
      "                                                                                          \r"
     ]
    },
    {
     "data": {
      "text/html": [
       "Total time taken by feature scaling: 31.00 sec"
      ],
      "text/plain": [
       "<IPython.core.display.HTML object>"
      ]
     },
     "metadata": {},
     "output_type": "display_data"
    },
    {
     "name": "stdout",
     "output_type": "stream",
     "text": [
      "                                                                                          \r"
     ]
    },
    {
     "data": {
      "text/html": [
       "\n",
       "scaling Features of pca data ..."
      ],
      "text/plain": [
       "<IPython.core.display.HTML object>"
      ]
     },
     "metadata": {},
     "output_type": "display_data"
    },
    {
     "name": "stdout",
     "output_type": "stream",
     "text": [
      "                                                                                          \r"
     ]
    },
    {
     "data": {
      "text/html": [
       "columns that will be scaled: "
      ],
      "text/plain": [
       "<IPython.core.display.HTML object>"
      ]
     },
     "metadata": {},
     "output_type": "display_data"
    },
    {
     "name": "stdout",
     "output_type": "stream",
     "text": [
      "['density', 'pH', 'alcohol', 'chlorides', 'total_sulfur_dioxide', 'fixed_acidity', 'volatile_acidity', 'citric_acid', 'free_sulfur_dioxide', 'sulphates', 'residual_sugar']\n",
      "                                                                                          \r"
     ]
    },
    {
     "data": {
      "text/html": [
       "Dataset sample after scaling:"
      ],
      "text/plain": [
       "<IPython.core.display.HTML object>"
      ]
     },
     "metadata": {},
     "output_type": "display_data"
    },
    {
     "data": {
      "text/html": [
       "<style type=\"text/css\">\n",
       "\ttable {border:ridge 5px;}\n",
       "\ttable td {border:inset 1px;}\n",
       "\ttable tr#HeaderRow {background-color:grey; color:white;}</style>\n",
       "<html><table>\n",
       "\t<tr id=\"HeaderRow\">\n",
       "\t\t<th>quality</th>\n",
       "\t\t<th>id</th>\n",
       "\t\t<th>density</th>\n",
       "\t\t<th>pH</th>\n",
       "\t\t<th>alcohol</th>\n",
       "\t\t<th>chlorides</th>\n",
       "\t\t<th>total_sulfur_dioxide</th>\n",
       "\t\t<th>fixed_acidity</th>\n",
       "\t\t<th>volatile_acidity</th>\n",
       "\t\t<th>citric_acid</th>\n",
       "\t\t<th>free_sulfur_dioxide</th>\n",
       "\t\t<th>sulphates</th>\n",
       "\t\t<th>residual_sugar</th>\n",
       "\t</tr>\n",
       "\t<tr>\n",
       "\t\t<td>1</td>\n",
       "\t\t<td>431</td>\n",
       "\t\t<td>0.4774566473988565</td>\n",
       "\t\t<td>0.8918918918918918</td>\n",
       "\t\t<td>0.5106382978723404</td>\n",
       "\t\t<td>0.4743589743589744</td>\n",
       "\t\t<td>0.5041322314049587</td>\n",
       "\t\t<td>0.31884057971014496</td>\n",
       "\t\t<td>0.3522727272727273</td>\n",
       "\t\t<td>0.30769230769230765</td>\n",
       "\t\t<td>0.6190476190476191</td>\n",
       "\t\t<td>0.40625</td>\n",
       "\t\t<td>0.5416666666666666</td>\n",
       "\t</tr>\n",
       "\t<tr>\n",
       "\t\t<td>0</td>\n",
       "\t\t<td>563</td>\n",
       "\t\t<td>0.5710982658959645</td>\n",
       "\t\t<td>0.2972972972972975</td>\n",
       "\t\t<td>0.23404255319148962</td>\n",
       "\t\t<td>0.4871794871794873</td>\n",
       "\t\t<td>0.48760330578512395</td>\n",
       "\t\t<td>0.6811594202898552</td>\n",
       "\t\t<td>0.2840909090909091</td>\n",
       "\t\t<td>0.5</td>\n",
       "\t\t<td>0.6428571428571429</td>\n",
       "\t\t<td>0.40625</td>\n",
       "\t\t<td>0.5416666666666666</td>\n",
       "\t</tr>\n",
       "\t<tr>\n",
       "\t\t<td>0</td>\n",
       "\t\t<td>1220</td>\n",
       "\t\t<td>0.3549132947976925</td>\n",
       "\t\t<td>0.5540540540540541</td>\n",
       "\t\t<td>0.4255319148936169</td>\n",
       "\t\t<td>0.012820512820512834</td>\n",
       "\t\t<td>0.049586776859504134</td>\n",
       "\t\t<td>0.43478260869565216</td>\n",
       "\t\t<td>0.23863636363636365</td>\n",
       "\t\t<td>0.5641025641025641</td>\n",
       "\t\t<td>0.11904761904761904</td>\n",
       "\t\t<td>0.4375</td>\n",
       "\t\t<td>0.125</td>\n",
       "\t</tr>\n",
       "\t<tr>\n",
       "\t\t<td>1</td>\n",
       "\t\t<td>274</td>\n",
       "\t\t<td>0.04046242774567342</td>\n",
       "\t\t<td>0.8108108108108107</td>\n",
       "\t\t<td>0.7446808510638296</td>\n",
       "\t\t<td>0.16666666666666666</td>\n",
       "\t\t<td>0.8264462809917356</td>\n",
       "\t\t<td>0.014492753623188482</td>\n",
       "\t\t<td>0.40909090909090906</td>\n",
       "\t\t<td>0.05128205128205128</td>\n",
       "\t\t<td>0.42857142857142855</td>\n",
       "\t\t<td>0.45312500000000006</td>\n",
       "\t\t<td>0.16666666666666669</td>\n",
       "\t</tr>\n",
       "\t<tr>\n",
       "\t\t<td>1</td>\n",
       "\t\t<td>215</td>\n",
       "\t\t<td>0.20000000000000256</td>\n",
       "\t\t<td>0.39189189189189183</td>\n",
       "\t\t<td>0.7021276595744681</td>\n",
       "\t\t<td>0.20512820512820518</td>\n",
       "\t\t<td>0.5619834710743802</td>\n",
       "\t\t<td>0.4492753623188405</td>\n",
       "\t\t<td>0.25000000000000006</td>\n",
       "\t\t<td>0.47435897435897434</td>\n",
       "\t\t<td>1.0</td>\n",
       "\t\t<td>0.7500000000000002</td>\n",
       "\t\t<td>0.29166666666666663</td>\n",
       "\t</tr>\n",
       "\t<tr>\n",
       "\t\t<td>1</td>\n",
       "\t\t<td>206</td>\n",
       "\t\t<td>0.20000000000000256</td>\n",
       "\t\t<td>0.43243243243243207</td>\n",
       "\t\t<td>0.7872340425531915</td>\n",
       "\t\t<td>0.6666666666666667</td>\n",
       "\t\t<td>0.049586776859504134</td>\n",
       "\t\t<td>0.4637681159420291</td>\n",
       "\t\t<td>0.18181818181818185</td>\n",
       "\t\t<td>0.6153846153846153</td>\n",
       "\t\t<td>0.11904761904761904</td>\n",
       "\t\t<td>0.45312500000000006</td>\n",
       "\t\t<td>0.375</td>\n",
       "\t</tr>\n",
       "\t<tr>\n",
       "\t\t<td>1</td>\n",
       "\t\t<td>990</td>\n",
       "\t\t<td>0.3664739884393098</td>\n",
       "\t\t<td>0.39189189189189183</td>\n",
       "\t\t<td>0.5106382978723404</td>\n",
       "\t\t<td>0.3333333333333334</td>\n",
       "\t\t<td>0.03305785123966942</td>\n",
       "\t\t<td>0.5797101449275363</td>\n",
       "\t\t<td>0.10227272727272727</td>\n",
       "\t\t<td>0.47435897435897434</td>\n",
       "\t\t<td>0.11904761904761904</td>\n",
       "\t\t<td>0.390625</td>\n",
       "\t\t<td>0.16666666666666669</td>\n",
       "\t</tr>\n",
       "\t<tr>\n",
       "\t\t<td>0</td>\n",
       "\t\t<td>750</td>\n",
       "\t\t<td>0.3664739884393098</td>\n",
       "\t\t<td>0.5270270270270271</td>\n",
       "\t\t<td>0.21276595744680846</td>\n",
       "\t\t<td>0.29487179487179493</td>\n",
       "\t\t<td>0.23140495867768596</td>\n",
       "\t\t<td>0.23188405797101455</td>\n",
       "\t\t<td>0.40909090909090906</td>\n",
       "\t\t<td>0.10256410256410256</td>\n",
       "\t\t<td>0.40476190476190477</td>\n",
       "\t\t<td>0.48437500000000006</td>\n",
       "\t\t<td>0.375</td>\n",
       "\t</tr>\n",
       "\t<tr>\n",
       "\t\t<td>1</td>\n",
       "\t\t<td>44</td>\n",
       "\t\t<td>0.3109826589595493</td>\n",
       "\t\t<td>0.5945945945945944</td>\n",
       "\t\t<td>0.6595744680851066</td>\n",
       "\t\t<td>0.3974358974358974</td>\n",
       "\t\t<td>0.3305785123966942</td>\n",
       "\t\t<td>0.47826086956521746</td>\n",
       "\t\t<td>0.5681818181818182</td>\n",
       "\t\t<td>0.15384615384615383</td>\n",
       "\t\t<td>0.8809523809523809</td>\n",
       "\t\t<td>0.8750000000000002</td>\n",
       "\t\t<td>0.25</td>\n",
       "\t</tr>\n",
       "\t<tr>\n",
       "\t\t<td>0</td>\n",
       "\t\t<td>996</td>\n",
       "\t\t<td>0.5248554913294952</td>\n",
       "\t\t<td>0.878378378378378</td>\n",
       "\t\t<td>0.23404255319148962</td>\n",
       "\t\t<td>0.5128205128205129</td>\n",
       "\t\t<td>0.2066115702479339</td>\n",
       "\t\t<td>0.18840579710144936</td>\n",
       "\t\t<td>0.5909090909090909</td>\n",
       "\t\t<td>0.2692307692307692</td>\n",
       "\t\t<td>0.30952380952380953</td>\n",
       "\t\t<td>0.5156250000000001</td>\n",
       "\t\t<td>0.25</td>\n",
       "\t</tr>\n",
       "</table></html>"
      ],
      "text/plain": [
       "   quality    id   density        pH   alcohol  chlorides  total_sulfur_dioxide  fixed_acidity  volatile_acidity  citric_acid  free_sulfur_dioxide  sulphates  residual_sugar\n",
       "0        1   431  0.477457  0.891892  0.510638   0.474359              0.504132       0.318841          0.352273     0.307692             0.619048   0.406250        0.541667\n",
       "1        0   563  0.571098  0.297297  0.234043   0.487179              0.487603       0.681159          0.284091     0.500000             0.642857   0.406250        0.541667\n",
       "2        0  1220  0.354913  0.554054  0.425532   0.012821              0.049587       0.434783          0.238636     0.564103             0.119048   0.437500        0.125000\n",
       "3        1   274  0.040462  0.810811  0.744681   0.166667              0.826446       0.014493          0.409091     0.051282             0.428571   0.453125        0.166667\n",
       "4        1   215  0.200000  0.391892  0.702128   0.205128              0.561983       0.449275          0.250000     0.474359             1.000000   0.750000        0.291667\n",
       "5        1   206  0.200000  0.432432  0.787234   0.666667              0.049587       0.463768          0.181818     0.615385             0.119048   0.453125        0.375000\n",
       "6        1   990  0.366474  0.391892  0.510638   0.333333              0.033058       0.579710          0.102273     0.474359             0.119048   0.390625        0.166667\n",
       "7        0   750  0.366474  0.527027  0.212766   0.294872              0.231405       0.231884          0.409091     0.102564             0.404762   0.484375        0.375000\n",
       "8        1    44  0.310983  0.594595  0.659574   0.397436              0.330579       0.478261          0.568182     0.153846             0.880952   0.875000        0.250000\n",
       "9        0   996  0.524855  0.878378  0.234043   0.512821              0.206612       0.188406          0.590909     0.269231             0.309524   0.515625        0.250000"
      ]
     },
     "metadata": {},
     "output_type": "display_data"
    },
    {
     "name": "stdout",
     "output_type": "stream",
     "text": [
      "                                                                                          \r"
     ]
    },
    {
     "data": {
      "text/html": [
       "891 rows X 13 columns"
      ],
      "text/plain": [
       "<IPython.core.display.HTML object>"
      ]
     },
     "metadata": {},
     "output_type": "display_data"
    },
    {
     "name": "stdout",
     "output_type": "stream",
     "text": [
      "                                                                                          \r"
     ]
    },
    {
     "data": {
      "text/html": [
       "Total time taken by feature scaling: 28.75 sec"
      ],
      "text/plain": [
       "<IPython.core.display.HTML object>"
      ]
     },
     "metadata": {},
     "output_type": "display_data"
    },
    {
     "name": "stdout",
     "output_type": "stream",
     "text": [
      "                                                                                          \r"
     ]
    },
    {
     "data": {
      "text/html": [
       "\n",
       "Dimension Reduction using pca ..."
      ],
      "text/plain": [
       "<IPython.core.display.HTML object>"
      ]
     },
     "metadata": {},
     "output_type": "display_data"
    },
    {
     "name": "stdout",
     "output_type": "stream",
     "text": [
      "                                                                                          \r"
     ]
    },
    {
     "data": {
      "text/html": [
       "PCA columns:"
      ],
      "text/plain": [
       "<IPython.core.display.HTML object>"
      ]
     },
     "metadata": {},
     "output_type": "display_data"
    },
    {
     "name": "stdout",
     "output_type": "stream",
     "text": [
      "['col_0', 'col_1', 'col_2', 'col_3', 'col_4', 'col_5', 'col_6', 'col_7', 'col_8']\n",
      "                                                                                          \r"
     ]
    },
    {
     "data": {
      "text/html": [
       "Total time taken by PCA: 5.55 sec  "
      ],
      "text/plain": [
       "<IPython.core.display.HTML object>"
      ]
     },
     "metadata": {},
     "output_type": "display_data"
    },
    {
     "name": "stdout",
     "output_type": "stream",
     "text": [
      "                                                                                          \r"
     ]
    },
    {
     "data": {
      "text/html": [
       "\n",
       "            <style>\n",
       "                .custom-div {\n",
       "                    background-color: lightgray;\n",
       "                    color: #000000;\n",
       "                    padding: 10px;\n",
       "                    border-radius: 8px;\n",
       "                    box-shadow: 0 3px 4px rgba(0 -  0 -  0 -  0.2);\n",
       "                    margin-bottom: 10px;\n",
       "                    text-align: center;\n",
       "                }\n",
       "            </style>\n",
       "        <br><div class=\"custom-div\"><h3><span style=\"color: green;\">1. Feature Exploration -> 2. Feature Engineering -> 3. Data Preparation -></span> 4. Model Training & Evaluation<center></h3></center></div>"
      ],
      "text/plain": [
       "<IPython.core.display.HTML object>"
      ]
     },
     "metadata": {},
     "output_type": "display_data"
    },
    {
     "name": "stdout",
     "output_type": "stream",
     "text": [
      "                                                                                          \r"
     ]
    },
    {
     "data": {
      "text/html": [
       "Model Training started ..."
      ],
      "text/plain": [
       "<IPython.core.display.HTML object>"
      ]
     },
     "metadata": {},
     "output_type": "display_data"
    },
    {
     "name": "stdout",
     "output_type": "stream",
     "text": [
      "                                                                                          \r"
     ]
    },
    {
     "data": {
      "text/html": [
       "\n",
       "Hyperparameters used for model training: "
      ],
      "text/plain": [
       "<IPython.core.display.HTML object>"
      ]
     },
     "metadata": {},
     "output_type": "display_data"
    },
    {
     "name": "stdout",
     "output_type": "stream",
     "text": [
      "response_column : quality                                                                                                                             \n",
      "name : svm\n",
      "model_type : Classification\n",
      "lambda1 : (0.001, 0.02, 0.1)\n",
      "alpha : (0.15, 0.85)\n",
      "tolerance : (0.001, 0.01)\n",
      "learning_rate : OPTIMAL\n",
      "initial_eta : (0.05, 0.1)\n",
      "momentum : (0.65, 0.8, 0.95)\n",
      "nesterov : True\n",
      "intercept : True\n",
      "iter_num_no_change : (5, 10, 50)\n",
      "local_sgd_iterations  : (10, 20)\n",
      "iter_max : (300, 200, 400)\n",
      "batch_size : (10, 50, 60, 80)\n",
      "Total number of models for svm : 5184\n",
      "--------------------------------------------------------------------------------------------------------------------------------------------------------------------------------------------------------\n",
      "\n",
      "                                                                                          \r"
     ]
    },
    {
     "data": {
      "text/html": [
       "\n",
       "Performing hyperparameter tuning ..."
      ],
      "text/plain": [
       "<IPython.core.display.HTML object>"
      ]
     },
     "metadata": {},
     "output_type": "display_data"
    },
    {
     "name": "stdout",
     "output_type": "stream",
     "text": [
      "                                                                                          \r"
     ]
    },
    {
     "data": {
      "text/html": [
       "svm"
      ],
      "text/plain": [
       "<IPython.core.display.HTML object>"
      ]
     },
     "metadata": {},
     "output_type": "display_data"
    },
    {
     "name": "stdout",
     "output_type": "stream",
     "text": [
      "                                                                                                                                                                                                        \r"
     ]
    },
    {
     "data": {
      "text/html": [
       "----------------------------------------------------------------------------------------------------"
      ],
      "text/plain": [
       "<IPython.core.display.HTML object>"
      ]
     },
     "metadata": {},
     "output_type": "display_data"
    },
    {
     "name": "stdout",
     "output_type": "stream",
     "text": [
      "                                                                                          \r"
     ]
    },
    {
     "data": {
      "text/html": [
       "Leaderboard"
      ],
      "text/plain": [
       "<IPython.core.display.HTML object>"
      ]
     },
     "metadata": {},
     "output_type": "display_data"
    },
    {
     "data": {
      "text/html": [
       "<div>\n",
       "<style scoped>\n",
       "    .dataframe tbody tr th:only-of-type {\n",
       "        vertical-align: middle;\n",
       "    }\n",
       "\n",
       "    .dataframe tbody tr th {\n",
       "        vertical-align: top;\n",
       "    }\n",
       "\n",
       "    .dataframe thead th {\n",
       "        text-align: right;\n",
       "    }\n",
       "</style>\n",
       "<table border=\"1\" class=\"dataframe\">\n",
       "  <thead>\n",
       "    <tr style=\"text-align: right;\">\n",
       "      <th></th>\n",
       "      <th>RANK</th>\n",
       "      <th>MODEL_ID</th>\n",
       "      <th>FEATURE_SELECTION</th>\n",
       "      <th>ACCURACY</th>\n",
       "      <th>MICRO-PRECISION</th>\n",
       "      <th>MICRO-RECALL</th>\n",
       "      <th>MICRO-F1</th>\n",
       "      <th>MACRO-PRECISION</th>\n",
       "      <th>MACRO-RECALL</th>\n",
       "      <th>MACRO-F1</th>\n",
       "      <th>WEIGHTED-PRECISION</th>\n",
       "      <th>WEIGHTED-RECALL</th>\n",
       "      <th>WEIGHTED-F1</th>\n",
       "    </tr>\n",
       "  </thead>\n",
       "  <tbody>\n",
       "    <tr>\n",
       "      <th>0</th>\n",
       "      <td>1</td>\n",
       "      <td>SVM_3</td>\n",
       "      <td>rfe</td>\n",
       "      <td>0.659218</td>\n",
       "      <td>0.659218</td>\n",
       "      <td>0.659218</td>\n",
       "      <td>0.659218</td>\n",
       "      <td>0.661452</td>\n",
       "      <td>0.661898</td>\n",
       "      <td>0.659175</td>\n",
       "      <td>0.664679</td>\n",
       "      <td>0.659218</td>\n",
       "      <td>0.659452</td>\n",
       "    </tr>\n",
       "    <tr>\n",
       "      <th>1</th>\n",
       "      <td>2</td>\n",
       "      <td>SVM_2</td>\n",
       "      <td>lasso</td>\n",
       "      <td>0.625698</td>\n",
       "      <td>0.625698</td>\n",
       "      <td>0.625698</td>\n",
       "      <td>0.625698</td>\n",
       "      <td>0.632074</td>\n",
       "      <td>0.611885</td>\n",
       "      <td>0.603891</td>\n",
       "      <td>0.630907</td>\n",
       "      <td>0.625698</td>\n",
       "      <td>0.610641</td>\n",
       "    </tr>\n",
       "    <tr>\n",
       "      <th>2</th>\n",
       "      <td>3</td>\n",
       "      <td>SVM_4</td>\n",
       "      <td>rfe</td>\n",
       "      <td>0.519553</td>\n",
       "      <td>0.519553</td>\n",
       "      <td>0.519553</td>\n",
       "      <td>0.519553</td>\n",
       "      <td>0.557104</td>\n",
       "      <td>0.539847</td>\n",
       "      <td>0.490130</td>\n",
       "      <td>0.562035</td>\n",
       "      <td>0.519553</td>\n",
       "      <td>0.481234</td>\n",
       "    </tr>\n",
       "    <tr>\n",
       "      <th>3</th>\n",
       "      <td>4</td>\n",
       "      <td>SVM_1</td>\n",
       "      <td>lasso</td>\n",
       "      <td>0.508380</td>\n",
       "      <td>0.508380</td>\n",
       "      <td>0.508380</td>\n",
       "      <td>0.508380</td>\n",
       "      <td>0.543766</td>\n",
       "      <td>0.529430</td>\n",
       "      <td>0.475213</td>\n",
       "      <td>0.548233</td>\n",
       "      <td>0.508380</td>\n",
       "      <td>0.465632</td>\n",
       "    </tr>\n",
       "    <tr>\n",
       "      <th>4</th>\n",
       "      <td>5</td>\n",
       "      <td>SVM_0</td>\n",
       "      <td>lasso</td>\n",
       "      <td>0.486034</td>\n",
       "      <td>0.486034</td>\n",
       "      <td>0.486034</td>\n",
       "      <td>0.486034</td>\n",
       "      <td>0.515944</td>\n",
       "      <td>0.509413</td>\n",
       "      <td>0.440625</td>\n",
       "      <td>0.519325</td>\n",
       "      <td>0.486034</td>\n",
       "      <td>0.429050</td>\n",
       "    </tr>\n",
       "  </tbody>\n",
       "</table>\n",
       "</div>"
      ],
      "text/plain": [
       "   RANK MODEL_ID FEATURE_SELECTION  ACCURACY  MICRO-PRECISION  MICRO-RECALL  \\\n",
       "0     1    SVM_3               rfe  0.659218         0.659218      0.659218   \n",
       "1     2    SVM_2             lasso  0.625698         0.625698      0.625698   \n",
       "2     3    SVM_4               rfe  0.519553         0.519553      0.519553   \n",
       "3     4    SVM_1             lasso  0.508380         0.508380      0.508380   \n",
       "4     5    SVM_0             lasso  0.486034         0.486034      0.486034   \n",
       "\n",
       "   MICRO-F1  MACRO-PRECISION  MACRO-RECALL  MACRO-F1  WEIGHTED-PRECISION  \\\n",
       "0  0.659218         0.661452      0.661898  0.659175            0.664679   \n",
       "1  0.625698         0.632074      0.611885  0.603891            0.630907   \n",
       "2  0.519553         0.557104      0.539847  0.490130            0.562035   \n",
       "3  0.508380         0.543766      0.529430  0.475213            0.548233   \n",
       "4  0.486034         0.515944      0.509413  0.440625            0.519325   \n",
       "\n",
       "   WEIGHTED-RECALL  WEIGHTED-F1  \n",
       "0         0.659218     0.659452  \n",
       "1         0.625698     0.610641  \n",
       "2         0.519553     0.481234  \n",
       "3         0.508380     0.465632  \n",
       "4         0.486034     0.429050  "
      ]
     },
     "metadata": {},
     "output_type": "display_data"
    },
    {
     "name": "stdout",
     "output_type": "stream",
     "text": [
      "                                                                                          \r"
     ]
    },
    {
     "data": {
      "text/html": [
       "5 rows X 13 columns"
      ],
      "text/plain": [
       "<IPython.core.display.HTML object>"
      ]
     },
     "metadata": {},
     "output_type": "display_data"
    },
    {
     "name": "stdout",
     "output_type": "stream",
     "text": [
      "                                                                                          \r"
     ]
    },
    {
     "data": {
      "text/html": [
       "\n",
       "            <style>\n",
       "                .custom-div {\n",
       "                    background-color: lightgray;\n",
       "                    color: #000000;\n",
       "                    padding: 10px;\n",
       "                    border-radius: 8px;\n",
       "                    box-shadow: 0 3px 4px rgba(0 -  0 -  0 -  0.2);\n",
       "                    margin-bottom: 10px;\n",
       "                    text-align: center;\n",
       "                }\n",
       "            </style>\n",
       "        <br><div class=\"custom-div\"><h3><span style=\"color: green;\">1. Feature Exploration -> 2. Feature Engineering -> 3. Data Preparation -> 4. Model Training & Evaluation</span><center></h3></center></div>"
      ],
      "text/plain": [
       "<IPython.core.display.HTML object>"
      ]
     },
     "metadata": {},
     "output_type": "display_data"
    },
    {
     "name": "stdout",
     "output_type": "stream",
     "text": [
      "Completed: ｜⫿⫿⫿⫿⫿⫿⫿⫿⫿⫿⫿⫿⫿⫿⫿⫿⫿⫿⫿⫿⫿⫿⫿⫿⫿⫿⫿⫿⫿⫿⫿⫿⫿⫿⫿⫿⫿⫿⫿⫿⫿⫿⫿⫿⫿⫿⫿⫿⫿⫿⫿⫿⫿⫿⫿⫿⫿⫿⫿⫿｜ 100% - 14/14    \r"
     ]
    }
   ],
   "source": [
    "# Fitting train data\n",
    "aml.fit(wine_df_train, wine_df_train.quality)"
   ]
  },
  {
   "cell_type": "markdown",
   "id": "23a04eb1-68e6-48b7-95aa-442f434809da",
   "metadata": {},
   "source": [
    "## <b><span style='color:#F1A424'>| 3.</span> Leaderboard : </b>"
   ]
  },
  {
   "cell_type": "code",
   "execution_count": 17,
   "id": "77de1099-6122-4f8a-8e7f-dd67e5b4ced4",
   "metadata": {},
   "outputs": [
    {
     "data": {
      "text/html": [
       "<div>\n",
       "<style scoped>\n",
       "    .dataframe tbody tr th:only-of-type {\n",
       "        vertical-align: middle;\n",
       "    }\n",
       "\n",
       "    .dataframe tbody tr th {\n",
       "        vertical-align: top;\n",
       "    }\n",
       "\n",
       "    .dataframe thead th {\n",
       "        text-align: right;\n",
       "    }\n",
       "</style>\n",
       "<table border=\"1\" class=\"dataframe\">\n",
       "  <thead>\n",
       "    <tr style=\"text-align: right;\">\n",
       "      <th></th>\n",
       "      <th>RANK</th>\n",
       "      <th>MODEL_ID</th>\n",
       "      <th>FEATURE_SELECTION</th>\n",
       "      <th>ACCURACY</th>\n",
       "      <th>MICRO-PRECISION</th>\n",
       "      <th>MICRO-RECALL</th>\n",
       "      <th>MICRO-F1</th>\n",
       "      <th>MACRO-PRECISION</th>\n",
       "      <th>MACRO-RECALL</th>\n",
       "      <th>MACRO-F1</th>\n",
       "      <th>WEIGHTED-PRECISION</th>\n",
       "      <th>WEIGHTED-RECALL</th>\n",
       "      <th>WEIGHTED-F1</th>\n",
       "    </tr>\n",
       "  </thead>\n",
       "  <tbody>\n",
       "    <tr>\n",
       "      <th>0</th>\n",
       "      <td>1</td>\n",
       "      <td>SVM_3</td>\n",
       "      <td>rfe</td>\n",
       "      <td>0.659218</td>\n",
       "      <td>0.659218</td>\n",
       "      <td>0.659218</td>\n",
       "      <td>0.659218</td>\n",
       "      <td>0.661452</td>\n",
       "      <td>0.661898</td>\n",
       "      <td>0.659175</td>\n",
       "      <td>0.664679</td>\n",
       "      <td>0.659218</td>\n",
       "      <td>0.659452</td>\n",
       "    </tr>\n",
       "    <tr>\n",
       "      <th>1</th>\n",
       "      <td>2</td>\n",
       "      <td>SVM_2</td>\n",
       "      <td>lasso</td>\n",
       "      <td>0.625698</td>\n",
       "      <td>0.625698</td>\n",
       "      <td>0.625698</td>\n",
       "      <td>0.625698</td>\n",
       "      <td>0.632074</td>\n",
       "      <td>0.611885</td>\n",
       "      <td>0.603891</td>\n",
       "      <td>0.630907</td>\n",
       "      <td>0.625698</td>\n",
       "      <td>0.610641</td>\n",
       "    </tr>\n",
       "    <tr>\n",
       "      <th>2</th>\n",
       "      <td>3</td>\n",
       "      <td>SVM_4</td>\n",
       "      <td>rfe</td>\n",
       "      <td>0.519553</td>\n",
       "      <td>0.519553</td>\n",
       "      <td>0.519553</td>\n",
       "      <td>0.519553</td>\n",
       "      <td>0.557104</td>\n",
       "      <td>0.539847</td>\n",
       "      <td>0.490130</td>\n",
       "      <td>0.562035</td>\n",
       "      <td>0.519553</td>\n",
       "      <td>0.481234</td>\n",
       "    </tr>\n",
       "    <tr>\n",
       "      <th>3</th>\n",
       "      <td>4</td>\n",
       "      <td>SVM_1</td>\n",
       "      <td>lasso</td>\n",
       "      <td>0.508380</td>\n",
       "      <td>0.508380</td>\n",
       "      <td>0.508380</td>\n",
       "      <td>0.508380</td>\n",
       "      <td>0.543766</td>\n",
       "      <td>0.529430</td>\n",
       "      <td>0.475213</td>\n",
       "      <td>0.548233</td>\n",
       "      <td>0.508380</td>\n",
       "      <td>0.465632</td>\n",
       "    </tr>\n",
       "    <tr>\n",
       "      <th>4</th>\n",
       "      <td>5</td>\n",
       "      <td>SVM_0</td>\n",
       "      <td>lasso</td>\n",
       "      <td>0.486034</td>\n",
       "      <td>0.486034</td>\n",
       "      <td>0.486034</td>\n",
       "      <td>0.486034</td>\n",
       "      <td>0.515944</td>\n",
       "      <td>0.509413</td>\n",
       "      <td>0.440625</td>\n",
       "      <td>0.519325</td>\n",
       "      <td>0.486034</td>\n",
       "      <td>0.429050</td>\n",
       "    </tr>\n",
       "  </tbody>\n",
       "</table>\n",
       "</div>"
      ],
      "text/plain": [
       "   RANK MODEL_ID FEATURE_SELECTION  ACCURACY  MICRO-PRECISION  MICRO-RECALL  \\\n",
       "0     1    SVM_3               rfe  0.659218         0.659218      0.659218   \n",
       "1     2    SVM_2             lasso  0.625698         0.625698      0.625698   \n",
       "2     3    SVM_4               rfe  0.519553         0.519553      0.519553   \n",
       "3     4    SVM_1             lasso  0.508380         0.508380      0.508380   \n",
       "4     5    SVM_0             lasso  0.486034         0.486034      0.486034   \n",
       "\n",
       "   MICRO-F1  MACRO-PRECISION  MACRO-RECALL  MACRO-F1  WEIGHTED-PRECISION  \\\n",
       "0  0.659218         0.661452      0.661898  0.659175            0.664679   \n",
       "1  0.625698         0.632074      0.611885  0.603891            0.630907   \n",
       "2  0.519553         0.557104      0.539847  0.490130            0.562035   \n",
       "3  0.508380         0.543766      0.529430  0.475213            0.548233   \n",
       "4  0.486034         0.515944      0.509413  0.440625            0.519325   \n",
       "\n",
       "   WEIGHTED-RECALL  WEIGHTED-F1  \n",
       "0         0.659218     0.659452  \n",
       "1         0.625698     0.610641  \n",
       "2         0.519553     0.481234  \n",
       "3         0.508380     0.465632  \n",
       "4         0.486034     0.429050  "
      ]
     },
     "execution_count": 17,
     "metadata": {},
     "output_type": "execute_result"
    }
   ],
   "source": [
    "# Fetching Leaderboard\n",
    "aml.leaderboard()"
   ]
  },
  {
   "cell_type": "markdown",
   "id": "a7a3aa08-e349-4a61-9217-2c17d50411d8",
   "metadata": {},
   "source": [
    "## <b><span style='color:#F1A424'>| 4.</span> Best Performing Model : </b>"
   ]
  },
  {
   "cell_type": "code",
   "execution_count": 18,
   "id": "c4c32832-a76b-4f42-826a-cefc38a6301b",
   "metadata": {},
   "outputs": [
    {
     "data": {
      "text/html": [
       "<div>\n",
       "<style scoped>\n",
       "    .dataframe tbody tr th:only-of-type {\n",
       "        vertical-align: middle;\n",
       "    }\n",
       "\n",
       "    .dataframe tbody tr th {\n",
       "        vertical-align: top;\n",
       "    }\n",
       "\n",
       "    .dataframe thead th {\n",
       "        text-align: right;\n",
       "    }\n",
       "</style>\n",
       "<table border=\"1\" class=\"dataframe\">\n",
       "  <thead>\n",
       "    <tr style=\"text-align: right;\">\n",
       "      <th></th>\n",
       "      <th>RANK</th>\n",
       "      <th>MODEL_ID</th>\n",
       "      <th>FEATURE_SELECTION</th>\n",
       "      <th>ACCURACY</th>\n",
       "      <th>MICRO-PRECISION</th>\n",
       "      <th>MICRO-RECALL</th>\n",
       "      <th>MICRO-F1</th>\n",
       "      <th>MACRO-PRECISION</th>\n",
       "      <th>MACRO-RECALL</th>\n",
       "      <th>MACRO-F1</th>\n",
       "      <th>WEIGHTED-PRECISION</th>\n",
       "      <th>WEIGHTED-RECALL</th>\n",
       "      <th>WEIGHTED-F1</th>\n",
       "    </tr>\n",
       "  </thead>\n",
       "  <tbody>\n",
       "    <tr>\n",
       "      <th>0</th>\n",
       "      <td>1</td>\n",
       "      <td>SVM_3</td>\n",
       "      <td>rfe</td>\n",
       "      <td>0.659218</td>\n",
       "      <td>0.659218</td>\n",
       "      <td>0.659218</td>\n",
       "      <td>0.659218</td>\n",
       "      <td>0.661452</td>\n",
       "      <td>0.661898</td>\n",
       "      <td>0.659175</td>\n",
       "      <td>0.664679</td>\n",
       "      <td>0.659218</td>\n",
       "      <td>0.659452</td>\n",
       "    </tr>\n",
       "  </tbody>\n",
       "</table>\n",
       "</div>"
      ],
      "text/plain": [
       "   RANK MODEL_ID FEATURE_SELECTION  ACCURACY  MICRO-PRECISION  MICRO-RECALL  \\\n",
       "0     1    SVM_3               rfe  0.659218         0.659218      0.659218   \n",
       "\n",
       "   MICRO-F1  MACRO-PRECISION  MACRO-RECALL  MACRO-F1  WEIGHTED-PRECISION  \\\n",
       "0  0.659218         0.661452      0.661898  0.659175            0.664679   \n",
       "\n",
       "   WEIGHTED-RECALL  WEIGHTED-F1  \n",
       "0         0.659218     0.659452  "
      ]
     },
     "metadata": {},
     "output_type": "display_data"
    }
   ],
   "source": [
    "# Fetching best performing model for dataset\n",
    "aml.leader()"
   ]
  },
  {
   "cell_type": "markdown",
   "id": "f0479e46-9d09-4b63-9b9d-14fc2685b5ff",
   "metadata": {},
   "source": [
    "## <b><span style='color:#F1A424'>| 5.</span> Get Hyperparameter for Trained Model : </b>"
   ]
  },
  {
   "cell_type": "code",
   "execution_count": 19,
   "id": "1824753f-55e4-469f-84e9-0fb7d43c2eb1",
   "metadata": {},
   "outputs": [
    {
     "data": {
      "text/plain": [
       "{'response_column': 'quality',\n",
       " 'name': 'svm',\n",
       " 'model_type': 'Classification',\n",
       " 'lambda1': 0.02,\n",
       " 'alpha': 0.15,\n",
       " 'tolerance': 0.001,\n",
       " 'learning_rate': 'OPTIMAL',\n",
       " 'initial_eta': 0.1,\n",
       " 'momentum': 0.65,\n",
       " 'nesterov': True,\n",
       " 'intercept': True,\n",
       " 'iter_num_no_change': 50,\n",
       " 'local_sgd_iterations ': 20,\n",
       " 'iter_max': 300,\n",
       " 'batch_size': 60,\n",
       " 'persist': False,\n",
       " 'output_prob': True,\n",
       " 'output_responses': ['1', '0'],\n",
       " 'max_models': 3}"
      ]
     },
     "execution_count": 19,
     "metadata": {},
     "output_type": "execute_result"
    }
   ],
   "source": [
    "aml.model_hyperparameters(rank=1)"
   ]
  },
  {
   "cell_type": "code",
   "execution_count": 20,
   "id": "2da787a4-e602-400a-8857-fe082ed83224",
   "metadata": {
    "tags": []
   },
   "outputs": [
    {
     "data": {
      "text/plain": [
       "{'response_column': 'quality',\n",
       " 'name': 'svm',\n",
       " 'model_type': 'Classification',\n",
       " 'lambda1': 0.001,\n",
       " 'alpha': 0.15,\n",
       " 'tolerance': 0.001,\n",
       " 'learning_rate': 'OPTIMAL',\n",
       " 'initial_eta': 0.05,\n",
       " 'momentum': 0.95,\n",
       " 'nesterov': True,\n",
       " 'intercept': True,\n",
       " 'iter_num_no_change': 50,\n",
       " 'local_sgd_iterations ': 20,\n",
       " 'iter_max': 300,\n",
       " 'batch_size': 10,\n",
       " 'persist': False,\n",
       " 'output_prob': True,\n",
       " 'output_responses': ['1', '0'],\n",
       " 'max_models': 3}"
      ]
     },
     "execution_count": 20,
     "metadata": {},
     "output_type": "execute_result"
    }
   ],
   "source": [
    "aml.model_hyperparameters(rank=4)"
   ]
  },
  {
   "cell_type": "markdown",
   "id": "13f1d1a7-c4f3-4767-a255-fb0fcb456a00",
   "metadata": {},
   "source": [
    "## <b><span style='color:#F1A424'>| 6.</span> Generate Prediction and Performance Metrics : </b>"
   ]
  },
  {
   "cell_type": "code",
   "execution_count": 21,
   "id": "5b6edfe3-bd5a-46bd-ad80-b20fadfed7a0",
   "metadata": {
    "tags": []
   },
   "outputs": [
    {
     "name": "stdout",
     "output_type": "stream",
     "text": [
      "Data Transformation started ...\n",
      "                                                                                                \r"
     ]
    },
    {
     "data": {
      "text/html": [
       "Performing transformation carried out in feature engineering phase ..."
      ],
      "text/plain": [
       "<IPython.core.display.HTML object>"
      ]
     },
     "metadata": {},
     "output_type": "display_data"
    },
    {
     "name": "stdout",
     "output_type": "stream",
     "text": [
      "                                                                                                 \r"
     ]
    },
    {
     "data": {
      "text/html": [
       "\n",
       "Updated dataset after performing target column transformation :"
      ],
      "text/plain": [
       "<IPython.core.display.HTML object>"
      ]
     },
     "metadata": {},
     "output_type": "display_data"
    },
    {
     "data": {
      "text/html": [
       "<style type=\"text/css\">\n",
       "\ttable {border:ridge 5px;}\n",
       "\ttable td {border:inset 1px;}\n",
       "\ttable tr#HeaderRow {background-color:grey; color:white;}</style>\n",
       "<html><table>\n",
       "\t<tr id=\"HeaderRow\">\n",
       "\t\t<th>density</th>\n",
       "\t\t<th>pH</th>\n",
       "\t\t<th>alcohol</th>\n",
       "\t\t<th>chlorides</th>\n",
       "\t\t<th>total_sulfur_dioxide</th>\n",
       "\t\t<th>fixed_acidity</th>\n",
       "\t\t<th>volatile_acidity</th>\n",
       "\t\t<th>id</th>\n",
       "\t\t<th>citric_acid</th>\n",
       "\t\t<th>free_sulfur_dioxide</th>\n",
       "\t\t<th>sulphates</th>\n",
       "\t\t<th>residual_sugar</th>\n",
       "\t\t<th>quality</th>\n",
       "\t</tr>\n",
       "\t<tr>\n",
       "\t\t<td>1.0001</td>\n",
       "\t\t<td>3.05</td>\n",
       "\t\t<td>9.5</td>\n",
       "\t\t<td>0.073</td>\n",
       "\t\t<td>27.0</td>\n",
       "\t\t<td>10.8</td>\n",
       "\t\t<td>0.5</td>\n",
       "\t\t<td>387</td>\n",
       "\t\t<td>0.46</td>\n",
       "\t\t<td>5.0</td>\n",
       "\t\t<td>0.64</td>\n",
       "\t\t<td>2.5</td>\n",
       "\t\t<td>0</td>\n",
       "\t</tr>\n",
       "\t<tr>\n",
       "\t\t<td>0.99356</td>\n",
       "\t\t<td>3.34</td>\n",
       "\t\t<td>12.9</td>\n",
       "\t\t<td>0.068</td>\n",
       "\t\t<td>42.0</td>\n",
       "\t\t<td>7.2</td>\n",
       "\t\t<td>0.38</td>\n",
       "\t\t<td>52</td>\n",
       "\t\t<td>0.38</td>\n",
       "\t\t<td>23.0</td>\n",
       "\t\t<td>0.72</td>\n",
       "\t\t<td>2.8</td>\n",
       "\t\t<td>1</td>\n",
       "\t</tr>\n",
       "\t<tr>\n",
       "\t\t<td>1.0002</td>\n",
       "\t\t<td>3.48</td>\n",
       "\t\t<td>11.6</td>\n",
       "\t\t<td>0.086</td>\n",
       "\t\t<td>81.0</td>\n",
       "\t\t<td>8.7</td>\n",
       "\t\t<td>0.69</td>\n",
       "\t\t<td>314</td>\n",
       "\t\t<td>0.31</td>\n",
       "\t\t<td>23.0</td>\n",
       "\t\t<td>0.74</td>\n",
       "\t\t<td>3.0</td>\n",
       "\t\t<td>1</td>\n",
       "\t</tr>\n",
       "\t<tr>\n",
       "\t\t<td>0.99855</td>\n",
       "\t\t<td>3.36</td>\n",
       "\t\t<td>9.5</td>\n",
       "\t\t<td>0.09</td>\n",
       "\t\t<td>13.0</td>\n",
       "\t\t<td>8.1</td>\n",
       "\t\t<td>0.78</td>\n",
       "\t\t<td>396</td>\n",
       "\t\t<td>0.1</td>\n",
       "\t\t<td>4.0</td>\n",
       "\t\t<td>0.49</td>\n",
       "\t\t<td>3.3</td>\n",
       "\t\t<td>0</td>\n",
       "\t</tr>\n",
       "\t<tr>\n",
       "\t\t<td>0.99552</td>\n",
       "\t\t<td>3.41</td>\n",
       "\t\t<td>11.9</td>\n",
       "\t\t<td>0.075</td>\n",
       "\t\t<td>21.0</td>\n",
       "\t\t<td>8.9</td>\n",
       "\t\t<td>0.12</td>\n",
       "\t\t<td>315</td>\n",
       "\t\t<td>0.45</td>\n",
       "\t\t<td>10.0</td>\n",
       "\t\t<td>0.76</td>\n",
       "\t\t<td>1.8</td>\n",
       "\t\t<td>1</td>\n",
       "\t</tr>\n",
       "\t<tr>\n",
       "\t\t<td>0.9952</td>\n",
       "\t\t<td>3.5</td>\n",
       "\t\t<td>11.1</td>\n",
       "\t\t<td>0.063</td>\n",
       "\t\t<td>67.0</td>\n",
       "\t\t<td>7.0</td>\n",
       "\t\t<td>0.23</td>\n",
       "\t\t<td>183</td>\n",
       "\t\t<td>0.4</td>\n",
       "\t\t<td>21.0</td>\n",
       "\t\t<td>0.63</td>\n",
       "\t\t<td>1.6</td>\n",
       "\t\t<td>0</td>\n",
       "\t</tr>\n",
       "\t<tr>\n",
       "\t\t<td>0.994</td>\n",
       "\t\t<td>3.5</td>\n",
       "\t\t<td>9.8</td>\n",
       "\t\t<td>0.172</td>\n",
       "\t\t<td>19.0</td>\n",
       "\t\t<td>5.7</td>\n",
       "\t\t<td>1.13</td>\n",
       "\t\t<td>318</td>\n",
       "\t\t<td>0.09</td>\n",
       "\t\t<td>7.0</td>\n",
       "\t\t<td>0.48</td>\n",
       "\t\t<td>1.5</td>\n",
       "\t\t<td>0</td>\n",
       "\t</tr>\n",
       "\t<tr>\n",
       "\t\t<td>0.9962</td>\n",
       "\t\t<td>3.44</td>\n",
       "\t\t<td>10.7</td>\n",
       "\t\t<td>0.076</td>\n",
       "\t\t<td>15.0</td>\n",
       "\t\t<td>6.6</td>\n",
       "\t\t<td>0.705</td>\n",
       "\t\t<td>193</td>\n",
       "\t\t<td>0.07</td>\n",
       "\t\t<td>6.0</td>\n",
       "\t\t<td>0.58</td>\n",
       "\t\t<td>1.6</td>\n",
       "\t\t<td>0</td>\n",
       "\t</tr>\n",
       "\t<tr>\n",
       "\t\t<td>0.99648</td>\n",
       "\t\t<td>3.36</td>\n",
       "\t\t<td>10.4</td>\n",
       "\t\t<td>0.09</td>\n",
       "\t\t<td>23.0</td>\n",
       "\t\t<td>8.5</td>\n",
       "\t\t<td>0.21</td>\n",
       "\t\t<td>90</td>\n",
       "\t\t<td>0.52</td>\n",
       "\t\t<td>9.0</td>\n",
       "\t\t<td>0.67</td>\n",
       "\t\t<td>1.9</td>\n",
       "\t\t<td>0</td>\n",
       "\t</tr>\n",
       "\t<tr>\n",
       "\t\t<td>0.99498</td>\n",
       "\t\t<td>3.27</td>\n",
       "\t\t<td>12.1</td>\n",
       "\t\t<td>0.09</td>\n",
       "\t\t<td>24.0</td>\n",
       "\t\t<td>8.3</td>\n",
       "\t\t<td>0.3</td>\n",
       "\t\t<td>62</td>\n",
       "\t\t<td>0.49</td>\n",
       "\t\t<td>11.0</td>\n",
       "\t\t<td>0.64</td>\n",
       "\t\t<td>3.8</td>\n",
       "\t\t<td>1</td>\n",
       "\t</tr>\n",
       "</table></html>"
      ],
      "text/plain": [
       "   density    pH  alcohol  chlorides  total_sulfur_dioxide  fixed_acidity  volatile_acidity   id  citric_acid  free_sulfur_dioxide  sulphates  residual_sugar  quality\n",
       "0  1.00010  3.05      9.5      0.073                  27.0           10.8             0.500  387         0.46                  5.0       0.64             2.5        0\n",
       "1  0.99356  3.34     12.9      0.068                  42.0            7.2             0.380   52         0.38                 23.0       0.72             2.8        1\n",
       "2  1.00020  3.48     11.6      0.086                  81.0            8.7             0.690  314         0.31                 23.0       0.74             3.0        1\n",
       "3  0.99855  3.36      9.5      0.090                  13.0            8.1             0.780  396         0.10                  4.0       0.49             3.3        0\n",
       "4  0.99552  3.41     11.9      0.075                  21.0            8.9             0.120  315         0.45                 10.0       0.76             1.8        1\n",
       "5  0.99520  3.50     11.1      0.063                  67.0            7.0             0.230  183         0.40                 21.0       0.63             1.6        0\n",
       "6  0.99400  3.50      9.8      0.172                  19.0            5.7             1.130  318         0.09                  7.0       0.48             1.5        0\n",
       "7  0.99620  3.44     10.7      0.076                  15.0            6.6             0.705  193         0.07                  6.0       0.58             1.6        0\n",
       "8  0.99648  3.36     10.4      0.090                  23.0            8.5             0.210   90         0.52                  9.0       0.67             1.9        0\n",
       "9  0.99498  3.27     12.1      0.090                  24.0            8.3             0.300   62         0.49                 11.0       0.64             3.8        1"
      ]
     },
     "metadata": {},
     "output_type": "display_data"
    },
    {
     "name": "stdout",
     "output_type": "stream",
     "text": [
      "                                                                                                 \r"
     ]
    },
    {
     "data": {
      "text/html": [
       "320 rows X 13 columns"
      ],
      "text/plain": [
       "<IPython.core.display.HTML object>"
      ]
     },
     "metadata": {},
     "output_type": "display_data"
    },
    {
     "name": "stdout",
     "output_type": "stream",
     "text": [
      "                                                                                                 \r"
     ]
    },
    {
     "data": {
      "text/html": [
       "Performing transformation carried out in data preparation phase ..."
      ],
      "text/plain": [
       "<IPython.core.display.HTML object>"
      ]
     },
     "metadata": {},
     "output_type": "display_data"
    },
    {
     "name": "stdout",
     "output_type": "stream",
     "text": [
      "                                                                                                 \r"
     ]
    },
    {
     "data": {
      "text/html": [
       "\n",
       "Updated dataset after performing Lasso feature selection:"
      ],
      "text/plain": [
       "<IPython.core.display.HTML object>"
      ]
     },
     "metadata": {},
     "output_type": "display_data"
    },
    {
     "data": {
      "text/html": [
       "<style type=\"text/css\">\n",
       "\ttable {border:ridge 5px;}\n",
       "\ttable td {border:inset 1px;}\n",
       "\ttable tr#HeaderRow {background-color:grey; color:white;}</style>\n",
       "<html><table>\n",
       "\t<tr id=\"HeaderRow\">\n",
       "\t\t<th>id</th>\n",
       "\t\t<th>density</th>\n",
       "\t\t<th>pH</th>\n",
       "\t\t<th>alcohol</th>\n",
       "\t\t<th>chlorides</th>\n",
       "\t\t<th>total_sulfur_dioxide</th>\n",
       "\t\t<th>fixed_acidity</th>\n",
       "\t\t<th>volatile_acidity</th>\n",
       "\t\t<th>citric_acid</th>\n",
       "\t\t<th>free_sulfur_dioxide</th>\n",
       "\t\t<th>sulphates</th>\n",
       "\t\t<th>residual_sugar</th>\n",
       "\t\t<th>quality</th>\n",
       "\t</tr>\n",
       "\t<tr>\n",
       "\t\t<td>106</td>\n",
       "\t\t<td>0.998</td>\n",
       "\t\t<td>3.33</td>\n",
       "\t\t<td>9.8</td>\n",
       "\t\t<td>0.078</td>\n",
       "\t\t<td>58.0</td>\n",
       "\t\t<td>8.5</td>\n",
       "\t\t<td>0.46</td>\n",
       "\t\t<td>0.31</td>\n",
       "\t\t<td>32.0</td>\n",
       "\t\t<td>0.54</td>\n",
       "\t\t<td>2.25</td>\n",
       "\t\t<td>0</td>\n",
       "\t</tr>\n",
       "\t<tr>\n",
       "\t\t<td>71</td>\n",
       "\t\t<td>0.9976</td>\n",
       "\t\t<td>3.28</td>\n",
       "\t\t<td>9.4</td>\n",
       "\t\t<td>0.078</td>\n",
       "\t\t<td>104.0</td>\n",
       "\t\t<td>8.2</td>\n",
       "\t\t<td>0.56</td>\n",
       "\t\t<td>0.23</td>\n",
       "\t\t<td>14.0</td>\n",
       "\t\t<td>0.62</td>\n",
       "\t\t<td>3.4</td>\n",
       "\t\t<td>0</td>\n",
       "\t</tr>\n",
       "\t<tr>\n",
       "\t\t<td>210</td>\n",
       "\t\t<td>0.9976</td>\n",
       "\t\t<td>3.34</td>\n",
       "\t\t<td>9.4</td>\n",
       "\t\t<td>0.075</td>\n",
       "\t\t<td>48.0</td>\n",
       "\t\t<td>8.0</td>\n",
       "\t\t<td>0.43</td>\n",
       "\t\t<td>0.36</td>\n",
       "\t\t<td>10.0</td>\n",
       "\t\t<td>0.46</td>\n",
       "\t\t<td>2.3</td>\n",
       "\t\t<td>0</td>\n",
       "\t</tr>\n",
       "\t<tr>\n",
       "\t\t<td>54</td>\n",
       "\t\t<td>0.9976</td>\n",
       "\t\t<td>3.31</td>\n",
       "\t\t<td>9.2</td>\n",
       "\t\t<td>0.084</td>\n",
       "\t\t<td>43.0</td>\n",
       "\t\t<td>8.3</td>\n",
       "\t\t<td>0.675</td>\n",
       "\t\t<td>0.26</td>\n",
       "\t\t<td>11.0</td>\n",
       "\t\t<td>0.53</td>\n",
       "\t\t<td>2.1</td>\n",
       "\t\t<td>0</td>\n",
       "\t</tr>\n",
       "\t<tr>\n",
       "\t\t<td>391</td>\n",
       "\t\t<td>0.9976</td>\n",
       "\t\t<td>3.17</td>\n",
       "\t\t<td>10.0</td>\n",
       "\t\t<td>0.054</td>\n",
       "\t\t<td>17.0</td>\n",
       "\t\t<td>10.2</td>\n",
       "\t\t<td>0.67</td>\n",
       "\t\t<td>0.39</td>\n",
       "\t\t<td>6.0</td>\n",
       "\t\t<td>0.47</td>\n",
       "\t\t<td>1.9</td>\n",
       "\t\t<td>0</td>\n",
       "\t</tr>\n",
       "\t<tr>\n",
       "\t\t<td>316</td>\n",
       "\t\t<td>0.9976</td>\n",
       "\t\t<td>3.46</td>\n",
       "\t\t<td>9.5</td>\n",
       "\t\t<td>0.086</td>\n",
       "\t\t<td>45.0</td>\n",
       "\t\t<td>7.1</td>\n",
       "\t\t<td>0.66</td>\n",
       "\t\t<td>0.0</td>\n",
       "\t\t<td>17.0</td>\n",
       "\t\t<td>0.54</td>\n",
       "\t\t<td>3.9</td>\n",
       "\t\t<td>0</td>\n",
       "\t</tr>\n",
       "\t<tr>\n",
       "\t\t<td>197</td>\n",
       "\t\t<td>0.9957</td>\n",
       "\t\t<td>3.02</td>\n",
       "\t\t<td>10.9</td>\n",
       "\t\t<td>0.06</td>\n",
       "\t\t<td>10.0</td>\n",
       "\t\t<td>11.1</td>\n",
       "\t\t<td>0.31</td>\n",
       "\t\t<td>0.53</td>\n",
       "\t\t<td>3.0</td>\n",
       "\t\t<td>0.83</td>\n",
       "\t\t<td>2.2</td>\n",
       "\t\t<td>1</td>\n",
       "\t</tr>\n",
       "\t<tr>\n",
       "\t\t<td>83</td>\n",
       "\t\t<td>0.9997</td>\n",
       "\t\t<td>3.21</td>\n",
       "\t\t<td>10.9</td>\n",
       "\t\t<td>0.073</td>\n",
       "\t\t<td>23.0</td>\n",
       "\t\t<td>11.7</td>\n",
       "\t\t<td>0.45</td>\n",
       "\t\t<td>0.63</td>\n",
       "\t\t<td>7.0</td>\n",
       "\t\t<td>0.69</td>\n",
       "\t\t<td>2.2</td>\n",
       "\t\t<td>1</td>\n",
       "\t</tr>\n",
       "\t<tr>\n",
       "\t\t<td>199</td>\n",
       "\t\t<td>0.9956</td>\n",
       "\t\t<td>3.4</td>\n",
       "\t\t<td>10.1</td>\n",
       "\t\t<td>0.086</td>\n",
       "\t\t<td>69.0</td>\n",
       "\t\t<td>7.0</td>\n",
       "\t\t<td>0.36</td>\n",
       "\t\t<td>0.21</td>\n",
       "\t\t<td>24.0</td>\n",
       "\t\t<td>0.53</td>\n",
       "\t\t<td>2.4</td>\n",
       "\t\t<td>1</td>\n",
       "\t</tr>\n",
       "\t<tr>\n",
       "\t\t<td>452</td>\n",
       "\t\t<td>0.998</td>\n",
       "\t\t<td>3.19</td>\n",
       "\t\t<td>10.0</td>\n",
       "\t\t<td>0.092</td>\n",
       "\t\t<td>45.0</td>\n",
       "\t\t<td>9.4</td>\n",
       "\t\t<td>0.43</td>\n",
       "\t\t<td>0.24</td>\n",
       "\t\t<td>14.0</td>\n",
       "\t\t<td>0.73</td>\n",
       "\t\t<td>2.8</td>\n",
       "\t\t<td>1</td>\n",
       "\t</tr>\n",
       "</table></html>"
      ],
      "text/plain": [
       "          id  density    pH  alcohol  chlorides  total_sulfur_dioxide  fixed_acidity  volatile_acidity  citric_acid  free_sulfur_dioxide  sulphates  residual_sugar\n",
       "quality                                                                                                                                                            \n",
       "0        106   0.9980  3.33      9.8      0.078                  58.0            8.5             0.460         0.31                 32.0       0.54            2.25\n",
       "0         71   0.9976  3.28      9.4      0.078                 104.0            8.2             0.560         0.23                 14.0       0.62            3.40\n",
       "0        210   0.9976  3.34      9.4      0.075                  48.0            8.0             0.430         0.36                 10.0       0.46            2.30\n",
       "0         54   0.9976  3.31      9.2      0.084                  43.0            8.3             0.675         0.26                 11.0       0.53            2.10\n",
       "0        391   0.9976  3.17     10.0      0.054                  17.0           10.2             0.670         0.39                  6.0       0.47            1.90\n",
       "0        316   0.9976  3.46      9.5      0.086                  45.0            7.1             0.660         0.00                 17.0       0.54            3.90\n",
       "1        197   0.9957  3.02     10.9      0.060                  10.0           11.1             0.310         0.53                  3.0       0.83            2.20\n",
       "1         83   0.9997  3.21     10.9      0.073                  23.0           11.7             0.450         0.63                  7.0       0.69            2.20\n",
       "1        199   0.9956  3.40     10.1      0.086                  69.0            7.0             0.360         0.21                 24.0       0.53            2.40\n",
       "1        452   0.9980  3.19     10.0      0.092                  45.0            9.4             0.430         0.24                 14.0       0.73            2.80"
      ]
     },
     "metadata": {},
     "output_type": "display_data"
    },
    {
     "name": "stdout",
     "output_type": "stream",
     "text": [
      "                                                                                                 \r"
     ]
    },
    {
     "data": {
      "text/html": [
       "320 rows X 13 columns"
      ],
      "text/plain": [
       "<IPython.core.display.HTML object>"
      ]
     },
     "metadata": {},
     "output_type": "display_data"
    },
    {
     "name": "stdout",
     "output_type": "stream",
     "text": [
      "                                                                                                 \r"
     ]
    },
    {
     "data": {
      "text/html": [
       "\n",
       "Updated dataset after performing scaling on Lasso selected features :"
      ],
      "text/plain": [
       "<IPython.core.display.HTML object>"
      ]
     },
     "metadata": {},
     "output_type": "display_data"
    },
    {
     "data": {
      "text/html": [
       "<style type=\"text/css\">\n",
       "\ttable {border:ridge 5px;}\n",
       "\ttable td {border:inset 1px;}\n",
       "\ttable tr#HeaderRow {background-color:grey; color:white;}</style>\n",
       "<html><table>\n",
       "\t<tr id=\"HeaderRow\">\n",
       "\t\t<th>quality</th>\n",
       "\t\t<th>id</th>\n",
       "\t\t<th>density</th>\n",
       "\t\t<th>pH</th>\n",
       "\t\t<th>alcohol</th>\n",
       "\t\t<th>chlorides</th>\n",
       "\t\t<th>total_sulfur_dioxide</th>\n",
       "\t\t<th>fixed_acidity</th>\n",
       "\t\t<th>volatile_acidity</th>\n",
       "\t\t<th>citric_acid</th>\n",
       "\t\t<th>free_sulfur_dioxide</th>\n",
       "\t\t<th>sulphates</th>\n",
       "\t\t<th>residual_sugar</th>\n",
       "\t</tr>\n",
       "\t<tr>\n",
       "\t\t<td>1</td>\n",
       "\t\t<td>199</td>\n",
       "\t\t<td>0.3793103448275985</td>\n",
       "\t\t<td>0.6216216216216214</td>\n",
       "\t\t<td>0.2978723404255319</td>\n",
       "\t\t<td>0.5769230769230769</td>\n",
       "\t\t<td>0.5206611570247934</td>\n",
       "\t\t<td>0.27536231884057977</td>\n",
       "\t\t<td>0.2727272727272727</td>\n",
       "\t\t<td>0.2692307692307692</td>\n",
       "\t\t<td>0.5476190476190477</td>\n",
       "\t\t<td>0.31250000000000006</td>\n",
       "\t\t<td>0.4999999999999999</td>\n",
       "\t</tr>\n",
       "\t<tr>\n",
       "\t\t<td>1</td>\n",
       "\t\t<td>136</td>\n",
       "\t\t<td>0.6091954022988649</td>\n",
       "\t\t<td>0.41891891891891886</td>\n",
       "\t\t<td>0.4468085106382981</td>\n",
       "\t\t<td>0.4358974358974359</td>\n",
       "\t\t<td>0.12396694214876033</td>\n",
       "\t\t<td>0.7681159420289856</td>\n",
       "\t\t<td>0.13636363636363635</td>\n",
       "\t\t<td>0.5897435897435898</td>\n",
       "\t\t<td>0.11904761904761904</td>\n",
       "\t\t<td>1.078125</td>\n",
       "\t\t<td>0.25</td>\n",
       "\t</tr>\n",
       "\t<tr>\n",
       "\t\t<td>1</td>\n",
       "\t\t<td>327</td>\n",
       "\t\t<td>0.6091954022988649</td>\n",
       "\t\t<td>0.27027027027027045</td>\n",
       "\t\t<td>0.23404255319148962</td>\n",
       "\t\t<td>0.2820512820512821</td>\n",
       "\t\t<td>0.2809917355371901</td>\n",
       "\t\t<td>0.7971014492753623</td>\n",
       "\t\t<td>0.2159090909090909</td>\n",
       "\t\t<td>0.6282051282051282</td>\n",
       "\t\t<td>0.40476190476190477</td>\n",
       "\t\t<td>0.28125000000000006</td>\n",
       "\t\t<td>0.4166666666666667</td>\n",
       "\t</tr>\n",
       "\t<tr>\n",
       "\t\t<td>1</td>\n",
       "\t\t<td>436</td>\n",
       "\t\t<td>0.6091954022988649</td>\n",
       "\t\t<td>0.2432432432432434</td>\n",
       "\t\t<td>0.7021276595744681</td>\n",
       "\t\t<td>0.4871794871794873</td>\n",
       "\t\t<td>0.19834710743801653</td>\n",
       "\t\t<td>0.6231884057971016</td>\n",
       "\t\t<td>0.23863636363636365</td>\n",
       "\t\t<td>0.7564102564102564</td>\n",
       "\t\t<td>0.19047619047619047</td>\n",
       "\t\t<td>0.32812500000000006</td>\n",
       "\t\t<td>0.6666666666666665</td>\n",
       "\t</tr>\n",
       "\t<tr>\n",
       "\t\t<td>1</td>\n",
       "\t\t<td>158</td>\n",
       "\t\t<td>0.7471264367816223</td>\n",
       "\t\t<td>0.0</td>\n",
       "\t\t<td>0.10638297872340423</td>\n",
       "\t\t<td>0.5256410256410258</td>\n",
       "\t\t<td>0.0743801652892562</td>\n",
       "\t\t<td>0.8985507246376813</td>\n",
       "\t\t<td>0.25000000000000006</td>\n",
       "\t\t<td>0.5769230769230769</td>\n",
       "\t\t<td>0.11904761904761904</td>\n",
       "\t\t<td>0.5156250000000001</td>\n",
       "\t\t<td>0.3333333333333333</td>\n",
       "\t</tr>\n",
       "\t<tr>\n",
       "\t\t<td>1</td>\n",
       "\t\t<td>75</td>\n",
       "\t\t<td>0.5862068965517281</td>\n",
       "\t\t<td>0.8648648648648648</td>\n",
       "\t\t<td>0.4468085106382981</td>\n",
       "\t\t<td>0.5000000000000001</td>\n",
       "\t\t<td>0.2231404958677686</td>\n",
       "\t\t<td>0.3333333333333334</td>\n",
       "\t\t<td>0.5852272727272727</td>\n",
       "\t\t<td>0.12820512820512822</td>\n",
       "\t\t<td>0.35714285714285715</td>\n",
       "\t\t<td>0.5625</td>\n",
       "\t\t<td>0.4999999999999999</td>\n",
       "\t</tr>\n",
       "\t<tr>\n",
       "\t\t<td>0</td>\n",
       "\t\t<td>351</td>\n",
       "\t\t<td>1.1839080459770182</td>\n",
       "\t\t<td>0.2432432432432434</td>\n",
       "\t\t<td>0.10638297872340423</td>\n",
       "\t\t<td>0.3589743589743591</td>\n",
       "\t\t<td>0.14049586776859505</td>\n",
       "\t\t<td>0.7971014492753623</td>\n",
       "\t\t<td>0.18181818181818185</td>\n",
       "\t\t<td>0.5</td>\n",
       "\t\t<td>0.11904761904761904</td>\n",
       "\t\t<td>0.5156250000000001</td>\n",
       "\t\t<td>5.958333333333333</td>\n",
       "\t</tr>\n",
       "\t<tr>\n",
       "\t\t<td>0</td>\n",
       "\t\t<td>220</td>\n",
       "\t\t<td>0.6551724137931131</td>\n",
       "\t\t<td>0.45945945945945915</td>\n",
       "\t\t<td>0.23404255319148962</td>\n",
       "\t\t<td>0.4743589743589744</td>\n",
       "\t\t<td>0.5867768595041323</td>\n",
       "\t\t<td>0.6956521739130436</td>\n",
       "\t\t<td>0.7045454545454546</td>\n",
       "\t\t<td>0.358974358974359</td>\n",
       "\t\t<td>0.47619047619047616</td>\n",
       "\t\t<td>0.28125000000000006</td>\n",
       "\t\t<td>0.5833333333333333</td>\n",
       "\t</tr>\n",
       "\t<tr>\n",
       "\t\t<td>0</td>\n",
       "\t\t<td>106</td>\n",
       "\t\t<td>0.6551724137931131</td>\n",
       "\t\t<td>0.5270270270270271</td>\n",
       "\t\t<td>0.23404255319148962</td>\n",
       "\t\t<td>0.4743589743589744</td>\n",
       "\t\t<td>0.4297520661157025</td>\n",
       "\t\t<td>0.4927536231884058</td>\n",
       "\t\t<td>0.3863636363636364</td>\n",
       "\t\t<td>0.3974358974358974</td>\n",
       "\t\t<td>0.7380952380952381</td>\n",
       "\t\t<td>0.32812500000000006</td>\n",
       "\t\t<td>0.43749999999999994</td>\n",
       "\t</tr>\n",
       "\t<tr>\n",
       "\t\t<td>0</td>\n",
       "\t\t<td>254</td>\n",
       "\t\t<td>0.6551724137931131</td>\n",
       "\t\t<td>0.3243243243243245</td>\n",
       "\t\t<td>0.17021276595744692</td>\n",
       "\t\t<td>0.5256410256410258</td>\n",
       "\t\t<td>0.1652892561983471</td>\n",
       "\t\t<td>0.6376811594202899</td>\n",
       "\t\t<td>0.2840909090909091</td>\n",
       "\t\t<td>0.6666666666666666</td>\n",
       "\t\t<td>0.11904761904761904</td>\n",
       "\t\t<td>0.28125000000000006</td>\n",
       "\t\t<td>0.3333333333333333</td>\n",
       "\t</tr>\n",
       "</table></html>"
      ],
      "text/plain": [
       "   quality   id   density        pH   alcohol  chlorides  total_sulfur_dioxide  fixed_acidity  volatile_acidity  citric_acid  free_sulfur_dioxide  sulphates  residual_sugar\n",
       "0        1  199  0.379310  0.621622  0.297872   0.576923              0.520661       0.275362          0.272727     0.269231             0.547619   0.312500        0.500000\n",
       "1        1  136  0.609195  0.418919  0.446809   0.435897              0.123967       0.768116          0.136364     0.589744             0.119048   1.078125        0.250000\n",
       "2        1  327  0.609195  0.270270  0.234043   0.282051              0.280992       0.797101          0.215909     0.628205             0.404762   0.281250        0.416667\n",
       "3        1  436  0.609195  0.243243  0.702128   0.487179              0.198347       0.623188          0.238636     0.756410             0.190476   0.328125        0.666667\n",
       "4        1  158  0.747126  0.000000  0.106383   0.525641              0.074380       0.898551          0.250000     0.576923             0.119048   0.515625        0.333333\n",
       "5        1   75  0.586207  0.864865  0.446809   0.500000              0.223140       0.333333          0.585227     0.128205             0.357143   0.562500        0.500000\n",
       "6        0  351  1.183908  0.243243  0.106383   0.358974              0.140496       0.797101          0.181818     0.500000             0.119048   0.515625        5.958333\n",
       "7        0  220  0.655172  0.459459  0.234043   0.474359              0.586777       0.695652          0.704545     0.358974             0.476190   0.281250        0.583333\n",
       "8        0  106  0.655172  0.527027  0.234043   0.474359              0.429752       0.492754          0.386364     0.397436             0.738095   0.328125        0.437500\n",
       "9        0  254  0.655172  0.324324  0.170213   0.525641              0.165289       0.637681          0.284091     0.666667             0.119048   0.281250        0.333333"
      ]
     },
     "metadata": {},
     "output_type": "display_data"
    },
    {
     "name": "stdout",
     "output_type": "stream",
     "text": [
      "                                                                                                 \r"
     ]
    },
    {
     "data": {
      "text/html": [
       "320 rows X 13 columns"
      ],
      "text/plain": [
       "<IPython.core.display.HTML object>"
      ]
     },
     "metadata": {},
     "output_type": "display_data"
    },
    {
     "name": "stdout",
     "output_type": "stream",
     "text": [
      "                                                                                                 \r"
     ]
    },
    {
     "data": {
      "text/html": [
       "\n",
       "Updated dataset after performing RFE feature selection:"
      ],
      "text/plain": [
       "<IPython.core.display.HTML object>"
      ]
     },
     "metadata": {},
     "output_type": "display_data"
    },
    {
     "data": {
      "text/html": [
       "<style type=\"text/css\">\n",
       "\ttable {border:ridge 5px;}\n",
       "\ttable td {border:inset 1px;}\n",
       "\ttable tr#HeaderRow {background-color:grey; color:white;}</style>\n",
       "<html><table>\n",
       "\t<tr id=\"HeaderRow\">\n",
       "\t\t<th>id</th>\n",
       "\t\t<th>density</th>\n",
       "\t\t<th>pH</th>\n",
       "\t\t<th>alcohol</th>\n",
       "\t\t<th>chlorides</th>\n",
       "\t\t<th>total_sulfur_dioxide</th>\n",
       "\t\t<th>fixed_acidity</th>\n",
       "\t\t<th>volatile_acidity</th>\n",
       "\t\t<th>citric_acid</th>\n",
       "\t\t<th>free_sulfur_dioxide</th>\n",
       "\t\t<th>sulphates</th>\n",
       "\t\t<th>quality</th>\n",
       "\t</tr>\n",
       "\t<tr>\n",
       "\t\t<td>199</td>\n",
       "\t\t<td>0.9956</td>\n",
       "\t\t<td>3.4</td>\n",
       "\t\t<td>10.1</td>\n",
       "\t\t<td>0.086</td>\n",
       "\t\t<td>69.0</td>\n",
       "\t\t<td>7.0</td>\n",
       "\t\t<td>0.36</td>\n",
       "\t\t<td>0.21</td>\n",
       "\t\t<td>24.0</td>\n",
       "\t\t<td>0.53</td>\n",
       "\t\t<td>1</td>\n",
       "\t</tr>\n",
       "\t<tr>\n",
       "\t\t<td>136</td>\n",
       "\t\t<td>0.9976</td>\n",
       "\t\t<td>3.25</td>\n",
       "\t\t<td>10.8</td>\n",
       "\t\t<td>0.075</td>\n",
       "\t\t<td>21.0</td>\n",
       "\t\t<td>10.4</td>\n",
       "\t\t<td>0.24</td>\n",
       "\t\t<td>0.46</td>\n",
       "\t\t<td>6.0</td>\n",
       "\t\t<td>1.02</td>\n",
       "\t\t<td>1</td>\n",
       "\t</tr>\n",
       "\t<tr>\n",
       "\t\t<td>327</td>\n",
       "\t\t<td>0.9976</td>\n",
       "\t\t<td>3.14</td>\n",
       "\t\t<td>9.8</td>\n",
       "\t\t<td>0.063</td>\n",
       "\t\t<td>40.0</td>\n",
       "\t\t<td>10.6</td>\n",
       "\t\t<td>0.31</td>\n",
       "\t\t<td>0.49</td>\n",
       "\t\t<td>18.0</td>\n",
       "\t\t<td>0.51</td>\n",
       "\t\t<td>1</td>\n",
       "\t</tr>\n",
       "\t<tr>\n",
       "\t\t<td>436</td>\n",
       "\t\t<td>0.9976</td>\n",
       "\t\t<td>3.12</td>\n",
       "\t\t<td>12.0</td>\n",
       "\t\t<td>0.079</td>\n",
       "\t\t<td>30.0</td>\n",
       "\t\t<td>9.4</td>\n",
       "\t\t<td>0.33</td>\n",
       "\t\t<td>0.59</td>\n",
       "\t\t<td>9.0</td>\n",
       "\t\t<td>0.54</td>\n",
       "\t\t<td>1</td>\n",
       "\t</tr>\n",
       "\t<tr>\n",
       "\t\t<td>158</td>\n",
       "\t\t<td>0.9988</td>\n",
       "\t\t<td>2.94</td>\n",
       "\t\t<td>9.2</td>\n",
       "\t\t<td>0.082</td>\n",
       "\t\t<td>15.0</td>\n",
       "\t\t<td>11.3</td>\n",
       "\t\t<td>0.34</td>\n",
       "\t\t<td>0.45</td>\n",
       "\t\t<td>6.0</td>\n",
       "\t\t<td>0.66</td>\n",
       "\t\t<td>1</td>\n",
       "\t</tr>\n",
       "\t<tr>\n",
       "\t\t<td>75</td>\n",
       "\t\t<td>0.9974</td>\n",
       "\t\t<td>3.58</td>\n",
       "\t\t<td>10.8</td>\n",
       "\t\t<td>0.08</td>\n",
       "\t\t<td>33.0</td>\n",
       "\t\t<td>7.4</td>\n",
       "\t\t<td>0.635</td>\n",
       "\t\t<td>0.1</td>\n",
       "\t\t<td>16.0</td>\n",
       "\t\t<td>0.69</td>\n",
       "\t\t<td>1</td>\n",
       "\t</tr>\n",
       "\t<tr>\n",
       "\t\t<td>351</td>\n",
       "\t\t<td>1.0026</td>\n",
       "\t\t<td>3.12</td>\n",
       "\t\t<td>9.2</td>\n",
       "\t\t<td>0.069</td>\n",
       "\t\t<td>23.0</td>\n",
       "\t\t<td>10.6</td>\n",
       "\t\t<td>0.28</td>\n",
       "\t\t<td>0.39</td>\n",
       "\t\t<td>6.0</td>\n",
       "\t\t<td>0.66</td>\n",
       "\t\t<td>0</td>\n",
       "\t</tr>\n",
       "\t<tr>\n",
       "\t\t<td>220</td>\n",
       "\t\t<td>0.998</td>\n",
       "\t\t<td>3.28</td>\n",
       "\t\t<td>9.8</td>\n",
       "\t\t<td>0.078</td>\n",
       "\t\t<td>77.0</td>\n",
       "\t\t<td>9.9</td>\n",
       "\t\t<td>0.74</td>\n",
       "\t\t<td>0.28</td>\n",
       "\t\t<td>21.0</td>\n",
       "\t\t<td>0.51</td>\n",
       "\t\t<td>0</td>\n",
       "\t</tr>\n",
       "\t<tr>\n",
       "\t\t<td>106</td>\n",
       "\t\t<td>0.998</td>\n",
       "\t\t<td>3.33</td>\n",
       "\t\t<td>9.8</td>\n",
       "\t\t<td>0.078</td>\n",
       "\t\t<td>58.0</td>\n",
       "\t\t<td>8.5</td>\n",
       "\t\t<td>0.46</td>\n",
       "\t\t<td>0.31</td>\n",
       "\t\t<td>32.0</td>\n",
       "\t\t<td>0.54</td>\n",
       "\t\t<td>0</td>\n",
       "\t</tr>\n",
       "\t<tr>\n",
       "\t\t<td>254</td>\n",
       "\t\t<td>0.998</td>\n",
       "\t\t<td>3.18</td>\n",
       "\t\t<td>9.5</td>\n",
       "\t\t<td>0.082</td>\n",
       "\t\t<td>26.0</td>\n",
       "\t\t<td>9.5</td>\n",
       "\t\t<td>0.37</td>\n",
       "\t\t<td>0.52</td>\n",
       "\t\t<td>6.0</td>\n",
       "\t\t<td>0.51</td>\n",
       "\t\t<td>0</td>\n",
       "\t</tr>\n",
       "</table></html>"
      ],
      "text/plain": [
       "          id  density    pH  alcohol  chlorides  total_sulfur_dioxide  fixed_acidity  volatile_acidity  citric_acid  free_sulfur_dioxide  sulphates\n",
       "quality                                                                                                                                            \n",
       "1        199   0.9956  3.40     10.1      0.086                  69.0            7.0             0.360         0.21                 24.0       0.53\n",
       "1        136   0.9976  3.25     10.8      0.075                  21.0           10.4             0.240         0.46                  6.0       1.02\n",
       "1        327   0.9976  3.14      9.8      0.063                  40.0           10.6             0.310         0.49                 18.0       0.51\n",
       "1        436   0.9976  3.12     12.0      0.079                  30.0            9.4             0.330         0.59                  9.0       0.54\n",
       "1        158   0.9988  2.94      9.2      0.082                  15.0           11.3             0.340         0.45                  6.0       0.66\n",
       "1         75   0.9974  3.58     10.8      0.080                  33.0            7.4             0.635         0.10                 16.0       0.69\n",
       "0        351   1.0026  3.12      9.2      0.069                  23.0           10.6             0.280         0.39                  6.0       0.66\n",
       "0        220   0.9980  3.28      9.8      0.078                  77.0            9.9             0.740         0.28                 21.0       0.51\n",
       "0        106   0.9980  3.33      9.8      0.078                  58.0            8.5             0.460         0.31                 32.0       0.54\n",
       "0        254   0.9980  3.18      9.5      0.082                  26.0            9.5             0.370         0.52                  6.0       0.51"
      ]
     },
     "metadata": {},
     "output_type": "display_data"
    },
    {
     "name": "stdout",
     "output_type": "stream",
     "text": [
      "                                                                                                 \r"
     ]
    },
    {
     "data": {
      "text/html": [
       "320 rows X 12 columns"
      ],
      "text/plain": [
       "<IPython.core.display.HTML object>"
      ]
     },
     "metadata": {},
     "output_type": "display_data"
    },
    {
     "name": "stdout",
     "output_type": "stream",
     "text": [
      "                                                                                                 \r"
     ]
    },
    {
     "data": {
      "text/html": [
       "\n",
       "Updated dataset after performing scaling on RFE selected features :"
      ],
      "text/plain": [
       "<IPython.core.display.HTML object>"
      ]
     },
     "metadata": {},
     "output_type": "display_data"
    },
    {
     "data": {
      "text/html": [
       "<style type=\"text/css\">\n",
       "\ttable {border:ridge 5px;}\n",
       "\ttable td {border:inset 1px;}\n",
       "\ttable tr#HeaderRow {background-color:grey; color:white;}</style>\n",
       "<html><table>\n",
       "\t<tr id=\"HeaderRow\">\n",
       "\t\t<th>quality</th>\n",
       "\t\t<th>id</th>\n",
       "\t\t<th>r_density</th>\n",
       "\t\t<th>r_pH</th>\n",
       "\t\t<th>r_alcohol</th>\n",
       "\t\t<th>r_chlorides</th>\n",
       "\t\t<th>r_total_sulfur_dioxide</th>\n",
       "\t\t<th>r_fixed_acidity</th>\n",
       "\t\t<th>r_volatile_acidity</th>\n",
       "\t\t<th>r_citric_acid</th>\n",
       "\t\t<th>r_free_sulfur_dioxide</th>\n",
       "\t\t<th>r_sulphates</th>\n",
       "\t</tr>\n",
       "\t<tr>\n",
       "\t\t<td>1</td>\n",
       "\t\t<td>199</td>\n",
       "\t\t<td>0.3793103448275985</td>\n",
       "\t\t<td>0.6216216216216214</td>\n",
       "\t\t<td>0.2978723404255319</td>\n",
       "\t\t<td>0.5769230769230769</td>\n",
       "\t\t<td>0.5206611570247934</td>\n",
       "\t\t<td>0.27536231884057977</td>\n",
       "\t\t<td>0.2727272727272727</td>\n",
       "\t\t<td>0.2692307692307692</td>\n",
       "\t\t<td>0.5476190476190477</td>\n",
       "\t\t<td>0.31250000000000006</td>\n",
       "\t</tr>\n",
       "\t<tr>\n",
       "\t\t<td>1</td>\n",
       "\t\t<td>136</td>\n",
       "\t\t<td>0.6091954022988649</td>\n",
       "\t\t<td>0.41891891891891886</td>\n",
       "\t\t<td>0.4468085106382981</td>\n",
       "\t\t<td>0.4358974358974359</td>\n",
       "\t\t<td>0.12396694214876033</td>\n",
       "\t\t<td>0.7681159420289856</td>\n",
       "\t\t<td>0.13636363636363635</td>\n",
       "\t\t<td>0.5897435897435898</td>\n",
       "\t\t<td>0.11904761904761904</td>\n",
       "\t\t<td>1.078125</td>\n",
       "\t</tr>\n",
       "\t<tr>\n",
       "\t\t<td>1</td>\n",
       "\t\t<td>327</td>\n",
       "\t\t<td>0.6091954022988649</td>\n",
       "\t\t<td>0.27027027027027045</td>\n",
       "\t\t<td>0.23404255319148962</td>\n",
       "\t\t<td>0.2820512820512821</td>\n",
       "\t\t<td>0.2809917355371901</td>\n",
       "\t\t<td>0.7971014492753623</td>\n",
       "\t\t<td>0.2159090909090909</td>\n",
       "\t\t<td>0.6282051282051282</td>\n",
       "\t\t<td>0.40476190476190477</td>\n",
       "\t\t<td>0.28125000000000006</td>\n",
       "\t</tr>\n",
       "\t<tr>\n",
       "\t\t<td>1</td>\n",
       "\t\t<td>436</td>\n",
       "\t\t<td>0.6091954022988649</td>\n",
       "\t\t<td>0.2432432432432434</td>\n",
       "\t\t<td>0.7021276595744681</td>\n",
       "\t\t<td>0.4871794871794873</td>\n",
       "\t\t<td>0.19834710743801653</td>\n",
       "\t\t<td>0.6231884057971016</td>\n",
       "\t\t<td>0.23863636363636365</td>\n",
       "\t\t<td>0.7564102564102564</td>\n",
       "\t\t<td>0.19047619047619047</td>\n",
       "\t\t<td>0.32812500000000006</td>\n",
       "\t</tr>\n",
       "\t<tr>\n",
       "\t\t<td>1</td>\n",
       "\t\t<td>158</td>\n",
       "\t\t<td>0.7471264367816223</td>\n",
       "\t\t<td>0.0</td>\n",
       "\t\t<td>0.10638297872340423</td>\n",
       "\t\t<td>0.5256410256410258</td>\n",
       "\t\t<td>0.0743801652892562</td>\n",
       "\t\t<td>0.8985507246376813</td>\n",
       "\t\t<td>0.25000000000000006</td>\n",
       "\t\t<td>0.5769230769230769</td>\n",
       "\t\t<td>0.11904761904761904</td>\n",
       "\t\t<td>0.5156250000000001</td>\n",
       "\t</tr>\n",
       "\t<tr>\n",
       "\t\t<td>1</td>\n",
       "\t\t<td>75</td>\n",
       "\t\t<td>0.5862068965517281</td>\n",
       "\t\t<td>0.8648648648648648</td>\n",
       "\t\t<td>0.4468085106382981</td>\n",
       "\t\t<td>0.5000000000000001</td>\n",
       "\t\t<td>0.2231404958677686</td>\n",
       "\t\t<td>0.3333333333333334</td>\n",
       "\t\t<td>0.5852272727272727</td>\n",
       "\t\t<td>0.12820512820512822</td>\n",
       "\t\t<td>0.35714285714285715</td>\n",
       "\t\t<td>0.5625</td>\n",
       "\t</tr>\n",
       "\t<tr>\n",
       "\t\t<td>0</td>\n",
       "\t\t<td>351</td>\n",
       "\t\t<td>1.1839080459770182</td>\n",
       "\t\t<td>0.2432432432432434</td>\n",
       "\t\t<td>0.10638297872340423</td>\n",
       "\t\t<td>0.3589743589743591</td>\n",
       "\t\t<td>0.14049586776859505</td>\n",
       "\t\t<td>0.7971014492753623</td>\n",
       "\t\t<td>0.18181818181818185</td>\n",
       "\t\t<td>0.5</td>\n",
       "\t\t<td>0.11904761904761904</td>\n",
       "\t\t<td>0.5156250000000001</td>\n",
       "\t</tr>\n",
       "\t<tr>\n",
       "\t\t<td>0</td>\n",
       "\t\t<td>220</td>\n",
       "\t\t<td>0.6551724137931131</td>\n",
       "\t\t<td>0.45945945945945915</td>\n",
       "\t\t<td>0.23404255319148962</td>\n",
       "\t\t<td>0.4743589743589744</td>\n",
       "\t\t<td>0.5867768595041323</td>\n",
       "\t\t<td>0.6956521739130436</td>\n",
       "\t\t<td>0.7045454545454546</td>\n",
       "\t\t<td>0.358974358974359</td>\n",
       "\t\t<td>0.47619047619047616</td>\n",
       "\t\t<td>0.28125000000000006</td>\n",
       "\t</tr>\n",
       "\t<tr>\n",
       "\t\t<td>0</td>\n",
       "\t\t<td>106</td>\n",
       "\t\t<td>0.6551724137931131</td>\n",
       "\t\t<td>0.5270270270270271</td>\n",
       "\t\t<td>0.23404255319148962</td>\n",
       "\t\t<td>0.4743589743589744</td>\n",
       "\t\t<td>0.4297520661157025</td>\n",
       "\t\t<td>0.4927536231884058</td>\n",
       "\t\t<td>0.3863636363636364</td>\n",
       "\t\t<td>0.3974358974358974</td>\n",
       "\t\t<td>0.7380952380952381</td>\n",
       "\t\t<td>0.32812500000000006</td>\n",
       "\t</tr>\n",
       "\t<tr>\n",
       "\t\t<td>0</td>\n",
       "\t\t<td>254</td>\n",
       "\t\t<td>0.6551724137931131</td>\n",
       "\t\t<td>0.3243243243243245</td>\n",
       "\t\t<td>0.17021276595744692</td>\n",
       "\t\t<td>0.5256410256410258</td>\n",
       "\t\t<td>0.1652892561983471</td>\n",
       "\t\t<td>0.6376811594202899</td>\n",
       "\t\t<td>0.2840909090909091</td>\n",
       "\t\t<td>0.6666666666666666</td>\n",
       "\t\t<td>0.11904761904761904</td>\n",
       "\t\t<td>0.28125000000000006</td>\n",
       "\t</tr>\n",
       "</table></html>"
      ],
      "text/plain": [
       "   quality   id  r_density      r_pH  r_alcohol  r_chlorides  r_total_sulfur_dioxide  r_fixed_acidity  r_volatile_acidity  r_citric_acid  r_free_sulfur_dioxide  r_sulphates\n",
       "0        1  199   0.379310  0.621622   0.297872     0.576923                0.520661         0.275362            0.272727       0.269231               0.547619     0.312500\n",
       "1        1  136   0.609195  0.418919   0.446809     0.435897                0.123967         0.768116            0.136364       0.589744               0.119048     1.078125\n",
       "2        1  327   0.609195  0.270270   0.234043     0.282051                0.280992         0.797101            0.215909       0.628205               0.404762     0.281250\n",
       "3        1  436   0.609195  0.243243   0.702128     0.487179                0.198347         0.623188            0.238636       0.756410               0.190476     0.328125\n",
       "4        1  158   0.747126  0.000000   0.106383     0.525641                0.074380         0.898551            0.250000       0.576923               0.119048     0.515625\n",
       "5        1   75   0.586207  0.864865   0.446809     0.500000                0.223140         0.333333            0.585227       0.128205               0.357143     0.562500\n",
       "6        0  351   1.183908  0.243243   0.106383     0.358974                0.140496         0.797101            0.181818       0.500000               0.119048     0.515625\n",
       "7        0  220   0.655172  0.459459   0.234043     0.474359                0.586777         0.695652            0.704545       0.358974               0.476190     0.281250\n",
       "8        0  106   0.655172  0.527027   0.234043     0.474359                0.429752         0.492754            0.386364       0.397436               0.738095     0.328125\n",
       "9        0  254   0.655172  0.324324   0.170213     0.525641                0.165289         0.637681            0.284091       0.666667               0.119048     0.281250"
      ]
     },
     "metadata": {},
     "output_type": "display_data"
    },
    {
     "name": "stdout",
     "output_type": "stream",
     "text": [
      "                                                                                                 \r"
     ]
    },
    {
     "data": {
      "text/html": [
       "320 rows X 12 columns"
      ],
      "text/plain": [
       "<IPython.core.display.HTML object>"
      ]
     },
     "metadata": {},
     "output_type": "display_data"
    },
    {
     "name": "stdout",
     "output_type": "stream",
     "text": [
      "                                                                                                 \r"
     ]
    },
    {
     "data": {
      "text/html": [
       "\n",
       "Updated dataset after performing scaling for PCA feature selection :"
      ],
      "text/plain": [
       "<IPython.core.display.HTML object>"
      ]
     },
     "metadata": {},
     "output_type": "display_data"
    },
    {
     "data": {
      "text/html": [
       "<style type=\"text/css\">\n",
       "\ttable {border:ridge 5px;}\n",
       "\ttable td {border:inset 1px;}\n",
       "\ttable tr#HeaderRow {background-color:grey; color:white;}</style>\n",
       "<html><table>\n",
       "\t<tr id=\"HeaderRow\">\n",
       "\t\t<th>quality</th>\n",
       "\t\t<th>id</th>\n",
       "\t\t<th>density</th>\n",
       "\t\t<th>pH</th>\n",
       "\t\t<th>alcohol</th>\n",
       "\t\t<th>chlorides</th>\n",
       "\t\t<th>total_sulfur_dioxide</th>\n",
       "\t\t<th>fixed_acidity</th>\n",
       "\t\t<th>volatile_acidity</th>\n",
       "\t\t<th>citric_acid</th>\n",
       "\t\t<th>free_sulfur_dioxide</th>\n",
       "\t\t<th>sulphates</th>\n",
       "\t\t<th>residual_sugar</th>\n",
       "\t</tr>\n",
       "\t<tr>\n",
       "\t\t<td>1</td>\n",
       "\t\t<td>199</td>\n",
       "\t\t<td>0.3757225433526139</td>\n",
       "\t\t<td>0.6216216216216214</td>\n",
       "\t\t<td>0.2978723404255319</td>\n",
       "\t\t<td>0.5769230769230769</td>\n",
       "\t\t<td>0.5206611570247934</td>\n",
       "\t\t<td>0.27536231884057977</td>\n",
       "\t\t<td>0.2727272727272727</td>\n",
       "\t\t<td>0.2692307692307692</td>\n",
       "\t\t<td>0.5476190476190477</td>\n",
       "\t\t<td>0.31250000000000006</td>\n",
       "\t\t<td>0.4999999999999999</td>\n",
       "\t</tr>\n",
       "\t<tr>\n",
       "\t\t<td>1</td>\n",
       "\t\t<td>136</td>\n",
       "\t\t<td>0.6069364161849858</td>\n",
       "\t\t<td>0.41891891891891886</td>\n",
       "\t\t<td>0.4468085106382981</td>\n",
       "\t\t<td>0.4358974358974359</td>\n",
       "\t\t<td>0.12396694214876033</td>\n",
       "\t\t<td>0.7681159420289856</td>\n",
       "\t\t<td>0.13636363636363635</td>\n",
       "\t\t<td>0.5897435897435898</td>\n",
       "\t\t<td>0.11904761904761904</td>\n",
       "\t\t<td>1.078125</td>\n",
       "\t\t<td>0.25</td>\n",
       "\t</tr>\n",
       "\t<tr>\n",
       "\t\t<td>1</td>\n",
       "\t\t<td>327</td>\n",
       "\t\t<td>0.6069364161849858</td>\n",
       "\t\t<td>0.27027027027027045</td>\n",
       "\t\t<td>0.23404255319148962</td>\n",
       "\t\t<td>0.2820512820512821</td>\n",
       "\t\t<td>0.2809917355371901</td>\n",
       "\t\t<td>0.7971014492753623</td>\n",
       "\t\t<td>0.2159090909090909</td>\n",
       "\t\t<td>0.6282051282051282</td>\n",
       "\t\t<td>0.40476190476190477</td>\n",
       "\t\t<td>0.28125000000000006</td>\n",
       "\t\t<td>0.4166666666666667</td>\n",
       "\t</tr>\n",
       "\t<tr>\n",
       "\t\t<td>1</td>\n",
       "\t\t<td>436</td>\n",
       "\t\t<td>0.6069364161849858</td>\n",
       "\t\t<td>0.2432432432432434</td>\n",
       "\t\t<td>0.7021276595744681</td>\n",
       "\t\t<td>0.4871794871794873</td>\n",
       "\t\t<td>0.19834710743801653</td>\n",
       "\t\t<td>0.6231884057971016</td>\n",
       "\t\t<td>0.23863636363636365</td>\n",
       "\t\t<td>0.7564102564102564</td>\n",
       "\t\t<td>0.19047619047619047</td>\n",
       "\t\t<td>0.32812500000000006</td>\n",
       "\t\t<td>0.6666666666666665</td>\n",
       "\t</tr>\n",
       "\t<tr>\n",
       "\t\t<td>1</td>\n",
       "\t\t<td>158</td>\n",
       "\t\t<td>0.7456647398844063</td>\n",
       "\t\t<td>0.0</td>\n",
       "\t\t<td>0.10638297872340423</td>\n",
       "\t\t<td>0.5256410256410258</td>\n",
       "\t\t<td>0.0743801652892562</td>\n",
       "\t\t<td>0.8985507246376813</td>\n",
       "\t\t<td>0.25000000000000006</td>\n",
       "\t\t<td>0.5769230769230769</td>\n",
       "\t\t<td>0.11904761904761904</td>\n",
       "\t\t<td>0.5156250000000001</td>\n",
       "\t\t<td>0.3333333333333333</td>\n",
       "\t</tr>\n",
       "\t<tr>\n",
       "\t\t<td>1</td>\n",
       "\t\t<td>75</td>\n",
       "\t\t<td>0.5838150289017383</td>\n",
       "\t\t<td>0.8648648648648648</td>\n",
       "\t\t<td>0.4468085106382981</td>\n",
       "\t\t<td>0.5000000000000001</td>\n",
       "\t\t<td>0.2231404958677686</td>\n",
       "\t\t<td>0.3333333333333334</td>\n",
       "\t\t<td>0.5852272727272727</td>\n",
       "\t\t<td>0.12820512820512822</td>\n",
       "\t\t<td>0.35714285714285715</td>\n",
       "\t\t<td>0.5625</td>\n",
       "\t\t<td>0.4999999999999999</td>\n",
       "\t</tr>\n",
       "\t<tr>\n",
       "\t\t<td>0</td>\n",
       "\t\t<td>351</td>\n",
       "\t\t<td>1.1849710982659025</td>\n",
       "\t\t<td>0.2432432432432434</td>\n",
       "\t\t<td>0.10638297872340423</td>\n",
       "\t\t<td>0.3589743589743591</td>\n",
       "\t\t<td>0.14049586776859505</td>\n",
       "\t\t<td>0.7971014492753623</td>\n",
       "\t\t<td>0.18181818181818185</td>\n",
       "\t\t<td>0.5</td>\n",
       "\t\t<td>0.11904761904761904</td>\n",
       "\t\t<td>0.5156250000000001</td>\n",
       "\t\t<td>5.958333333333333</td>\n",
       "\t</tr>\n",
       "\t<tr>\n",
       "\t\t<td>0</td>\n",
       "\t\t<td>220</td>\n",
       "\t\t<td>0.653179190751455</td>\n",
       "\t\t<td>0.45945945945945915</td>\n",
       "\t\t<td>0.23404255319148962</td>\n",
       "\t\t<td>0.4743589743589744</td>\n",
       "\t\t<td>0.5867768595041323</td>\n",
       "\t\t<td>0.6956521739130436</td>\n",
       "\t\t<td>0.7045454545454546</td>\n",
       "\t\t<td>0.358974358974359</td>\n",
       "\t\t<td>0.47619047619047616</td>\n",
       "\t\t<td>0.28125000000000006</td>\n",
       "\t\t<td>0.5833333333333333</td>\n",
       "\t</tr>\n",
       "\t<tr>\n",
       "\t\t<td>0</td>\n",
       "\t\t<td>106</td>\n",
       "\t\t<td>0.653179190751455</td>\n",
       "\t\t<td>0.5270270270270271</td>\n",
       "\t\t<td>0.23404255319148962</td>\n",
       "\t\t<td>0.4743589743589744</td>\n",
       "\t\t<td>0.4297520661157025</td>\n",
       "\t\t<td>0.4927536231884058</td>\n",
       "\t\t<td>0.3863636363636364</td>\n",
       "\t\t<td>0.3974358974358974</td>\n",
       "\t\t<td>0.7380952380952381</td>\n",
       "\t\t<td>0.32812500000000006</td>\n",
       "\t\t<td>0.43749999999999994</td>\n",
       "\t</tr>\n",
       "\t<tr>\n",
       "\t\t<td>0</td>\n",
       "\t\t<td>254</td>\n",
       "\t\t<td>0.653179190751455</td>\n",
       "\t\t<td>0.3243243243243245</td>\n",
       "\t\t<td>0.17021276595744692</td>\n",
       "\t\t<td>0.5256410256410258</td>\n",
       "\t\t<td>0.1652892561983471</td>\n",
       "\t\t<td>0.6376811594202899</td>\n",
       "\t\t<td>0.2840909090909091</td>\n",
       "\t\t<td>0.6666666666666666</td>\n",
       "\t\t<td>0.11904761904761904</td>\n",
       "\t\t<td>0.28125000000000006</td>\n",
       "\t\t<td>0.3333333333333333</td>\n",
       "\t</tr>\n",
       "</table></html>"
      ],
      "text/plain": [
       "   quality   id   density        pH   alcohol  chlorides  total_sulfur_dioxide  fixed_acidity  volatile_acidity  citric_acid  free_sulfur_dioxide  sulphates  residual_sugar\n",
       "0        1  199  0.375723  0.621622  0.297872   0.576923              0.520661       0.275362          0.272727     0.269231             0.547619   0.312500        0.500000\n",
       "1        1  136  0.606936  0.418919  0.446809   0.435897              0.123967       0.768116          0.136364     0.589744             0.119048   1.078125        0.250000\n",
       "2        1  327  0.606936  0.270270  0.234043   0.282051              0.280992       0.797101          0.215909     0.628205             0.404762   0.281250        0.416667\n",
       "3        1  436  0.606936  0.243243  0.702128   0.487179              0.198347       0.623188          0.238636     0.756410             0.190476   0.328125        0.666667\n",
       "4        1  158  0.745665  0.000000  0.106383   0.525641              0.074380       0.898551          0.250000     0.576923             0.119048   0.515625        0.333333\n",
       "5        1   75  0.583815  0.864865  0.446809   0.500000              0.223140       0.333333          0.585227     0.128205             0.357143   0.562500        0.500000\n",
       "6        0  351  1.184971  0.243243  0.106383   0.358974              0.140496       0.797101          0.181818     0.500000             0.119048   0.515625        5.958333\n",
       "7        0  220  0.653179  0.459459  0.234043   0.474359              0.586777       0.695652          0.704545     0.358974             0.476190   0.281250        0.583333\n",
       "8        0  106  0.653179  0.527027  0.234043   0.474359              0.429752       0.492754          0.386364     0.397436             0.738095   0.328125        0.437500\n",
       "9        0  254  0.653179  0.324324  0.170213   0.525641              0.165289       0.637681          0.284091     0.666667             0.119048   0.281250        0.333333"
      ]
     },
     "metadata": {},
     "output_type": "display_data"
    },
    {
     "name": "stdout",
     "output_type": "stream",
     "text": [
      "                                                                                                 \r"
     ]
    },
    {
     "data": {
      "text/html": [
       "320 rows X 13 columns"
      ],
      "text/plain": [
       "<IPython.core.display.HTML object>"
      ]
     },
     "metadata": {},
     "output_type": "display_data"
    },
    {
     "name": "stdout",
     "output_type": "stream",
     "text": [
      "                                                                                                 \r"
     ]
    },
    {
     "name": "stderr",
     "output_type": "stream",
     "text": [
      "C:\\ProgramData\\anaconda3\\lib\\site-packages\\sklearn\\base.py:450: UserWarning: X does not have valid feature names, but PCA was fitted with feature names\n",
      "  warnings.warn(\n"
     ]
    },
    {
     "data": {
      "text/html": [
       "\n",
       "Updated dataset after performing PCA feature selection :"
      ],
      "text/plain": [
       "<IPython.core.display.HTML object>"
      ]
     },
     "metadata": {},
     "output_type": "display_data"
    },
    {
     "data": {
      "text/html": [
       "<div>\n",
       "<style scoped>\n",
       "    .dataframe tbody tr th:only-of-type {\n",
       "        vertical-align: middle;\n",
       "    }\n",
       "\n",
       "    .dataframe tbody tr th {\n",
       "        vertical-align: top;\n",
       "    }\n",
       "\n",
       "    .dataframe thead th {\n",
       "        text-align: right;\n",
       "    }\n",
       "</style>\n",
       "<table border=\"1\" class=\"dataframe\">\n",
       "  <thead>\n",
       "    <tr style=\"text-align: right;\">\n",
       "      <th></th>\n",
       "      <th>id</th>\n",
       "      <th>col_0</th>\n",
       "      <th>col_1</th>\n",
       "      <th>col_2</th>\n",
       "      <th>col_3</th>\n",
       "      <th>col_4</th>\n",
       "      <th>col_5</th>\n",
       "      <th>col_6</th>\n",
       "      <th>col_7</th>\n",
       "      <th>col_8</th>\n",
       "      <th>quality</th>\n",
       "    </tr>\n",
       "  </thead>\n",
       "  <tbody>\n",
       "    <tr>\n",
       "      <th>0</th>\n",
       "      <td>197</td>\n",
       "      <td>0.684889</td>\n",
       "      <td>-0.523233</td>\n",
       "      <td>0.042913</td>\n",
       "      <td>-0.158496</td>\n",
       "      <td>0.002046</td>\n",
       "      <td>-0.225629</td>\n",
       "      <td>0.077652</td>\n",
       "      <td>0.053522</td>\n",
       "      <td>-0.229444</td>\n",
       "      <td>1</td>\n",
       "    </tr>\n",
       "    <tr>\n",
       "      <th>1</th>\n",
       "      <td>351</td>\n",
       "      <td>1.564600</td>\n",
       "      <td>0.918665</td>\n",
       "      <td>-0.292689</td>\n",
       "      <td>3.642513</td>\n",
       "      <td>-0.519686</td>\n",
       "      <td>-0.799230</td>\n",
       "      <td>-2.499366</td>\n",
       "      <td>-1.567528</td>\n",
       "      <td>-2.040431</td>\n",
       "      <td>0</td>\n",
       "    </tr>\n",
       "    <tr>\n",
       "      <th>2</th>\n",
       "      <td>83</td>\n",
       "      <td>0.787066</td>\n",
       "      <td>-0.192827</td>\n",
       "      <td>-0.116065</td>\n",
       "      <td>0.009370</td>\n",
       "      <td>0.067339</td>\n",
       "      <td>-0.216856</td>\n",
       "      <td>-0.020273</td>\n",
       "      <td>0.060460</td>\n",
       "      <td>0.222204</td>\n",
       "      <td>1</td>\n",
       "    </tr>\n",
       "    <tr>\n",
       "      <th>3</th>\n",
       "      <td>220</td>\n",
       "      <td>0.145511</td>\n",
       "      <td>0.428416</td>\n",
       "      <td>-0.066139</td>\n",
       "      <td>0.074178</td>\n",
       "      <td>-0.190245</td>\n",
       "      <td>-0.249154</td>\n",
       "      <td>-0.041534</td>\n",
       "      <td>0.024806</td>\n",
       "      <td>0.113606</td>\n",
       "      <td>0</td>\n",
       "    </tr>\n",
       "    <tr>\n",
       "      <th>4</th>\n",
       "      <td>199</td>\n",
       "      <td>-0.134195</td>\n",
       "      <td>0.238059</td>\n",
       "      <td>0.211367</td>\n",
       "      <td>-0.033586</td>\n",
       "      <td>-0.074076</td>\n",
       "      <td>0.229912</td>\n",
       "      <td>-0.141719</td>\n",
       "      <td>-0.127333</td>\n",
       "      <td>-0.042036</td>\n",
       "      <td>1</td>\n",
       "    </tr>\n",
       "    <tr>\n",
       "      <th>5</th>\n",
       "      <td>106</td>\n",
       "      <td>0.100428</td>\n",
       "      <td>0.356480</td>\n",
       "      <td>0.159613</td>\n",
       "      <td>-0.090386</td>\n",
       "      <td>0.005038</td>\n",
       "      <td>-0.030276</td>\n",
       "      <td>-0.021394</td>\n",
       "      <td>-0.248723</td>\n",
       "      <td>0.152111</td>\n",
       "      <td>0</td>\n",
       "    </tr>\n",
       "    <tr>\n",
       "      <th>6</th>\n",
       "      <td>452</td>\n",
       "      <td>0.338139</td>\n",
       "      <td>0.143237</td>\n",
       "      <td>-0.100403</td>\n",
       "      <td>0.164592</td>\n",
       "      <td>0.060788</td>\n",
       "      <td>0.008174</td>\n",
       "      <td>0.045248</td>\n",
       "      <td>-0.068831</td>\n",
       "      <td>-0.237818</td>\n",
       "      <td>1</td>\n",
       "    </tr>\n",
       "    <tr>\n",
       "      <th>7</th>\n",
       "      <td>254</td>\n",
       "      <td>0.479019</td>\n",
       "      <td>-0.071440</td>\n",
       "      <td>-0.259450</td>\n",
       "      <td>-0.268546</td>\n",
       "      <td>-0.065863</td>\n",
       "      <td>0.069958</td>\n",
       "      <td>-0.155351</td>\n",
       "      <td>-0.034713</td>\n",
       "      <td>0.086763</td>\n",
       "      <td>0</td>\n",
       "    </tr>\n",
       "    <tr>\n",
       "      <th>8</th>\n",
       "      <td>136</td>\n",
       "      <td>0.597632</td>\n",
       "      <td>-0.387836</td>\n",
       "      <td>0.099154</td>\n",
       "      <td>-0.075773</td>\n",
       "      <td>0.455083</td>\n",
       "      <td>-0.038885</td>\n",
       "      <td>0.185554</td>\n",
       "      <td>0.153553</td>\n",
       "      <td>-0.138157</td>\n",
       "      <td>1</td>\n",
       "    </tr>\n",
       "    <tr>\n",
       "      <th>9</th>\n",
       "      <td>71</td>\n",
       "      <td>0.108990</td>\n",
       "      <td>0.513310</td>\n",
       "      <td>0.037014</td>\n",
       "      <td>0.224792</td>\n",
       "      <td>-0.087218</td>\n",
       "      <td>-0.122758</td>\n",
       "      <td>-0.339096</td>\n",
       "      <td>0.131029</td>\n",
       "      <td>-0.293100</td>\n",
       "      <td>0</td>\n",
       "    </tr>\n",
       "  </tbody>\n",
       "</table>\n",
       "</div>"
      ],
      "text/plain": [
       "    id     col_0     col_1     col_2     col_3     col_4     col_5     col_6  \\\n",
       "0  197  0.684889 -0.523233  0.042913 -0.158496  0.002046 -0.225629  0.077652   \n",
       "1  351  1.564600  0.918665 -0.292689  3.642513 -0.519686 -0.799230 -2.499366   \n",
       "2   83  0.787066 -0.192827 -0.116065  0.009370  0.067339 -0.216856 -0.020273   \n",
       "3  220  0.145511  0.428416 -0.066139  0.074178 -0.190245 -0.249154 -0.041534   \n",
       "4  199 -0.134195  0.238059  0.211367 -0.033586 -0.074076  0.229912 -0.141719   \n",
       "5  106  0.100428  0.356480  0.159613 -0.090386  0.005038 -0.030276 -0.021394   \n",
       "6  452  0.338139  0.143237 -0.100403  0.164592  0.060788  0.008174  0.045248   \n",
       "7  254  0.479019 -0.071440 -0.259450 -0.268546 -0.065863  0.069958 -0.155351   \n",
       "8  136  0.597632 -0.387836  0.099154 -0.075773  0.455083 -0.038885  0.185554   \n",
       "9   71  0.108990  0.513310  0.037014  0.224792 -0.087218 -0.122758 -0.339096   \n",
       "\n",
       "      col_7     col_8  quality  \n",
       "0  0.053522 -0.229444        1  \n",
       "1 -1.567528 -2.040431        0  \n",
       "2  0.060460  0.222204        1  \n",
       "3  0.024806  0.113606        0  \n",
       "4 -0.127333 -0.042036        1  \n",
       "5 -0.248723  0.152111        0  \n",
       "6 -0.068831 -0.237818        1  \n",
       "7 -0.034713  0.086763        0  \n",
       "8  0.153553 -0.138157        1  \n",
       "9  0.131029 -0.293100        0  "
      ]
     },
     "metadata": {},
     "output_type": "display_data"
    },
    {
     "name": "stdout",
     "output_type": "stream",
     "text": [
      "                                                                                                 \r"
     ]
    },
    {
     "data": {
      "text/html": [
       "10 rows X 11 columns"
      ],
      "text/plain": [
       "<IPython.core.display.HTML object>"
      ]
     },
     "metadata": {},
     "output_type": "display_data"
    },
    {
     "name": "stdout",
     "output_type": "stream",
     "text": [
      "Data Transformation completed.⫿⫿⫿⫿⫿⫿⫿⫿⫿⫿⫿⫿⫿⫿⫿⫿⫿⫿⫿⫿⫿⫿⫿⫿⫿⫿⫿⫿⫿⫿⫿⫿⫿⫿⫿⫿⫿⫿⫿⫿⫿⫿｜ 100% - 10/10           \n",
      "\n",
      "Following model is being picked for evaluation:\n",
      "Model ID : SVM_2 \n",
      "Feature Selection Method : lasso\n",
      "\n",
      "Target Column Mapping:\n",
      "good: 1\n",
      "bad: 0\n",
      "\n",
      "Prediction : \n",
      "    id  prediction    prob_0    prob_1  quality\n",
      "0  199           1  0.405051  0.594949        1\n",
      "1  136           1  0.021401  0.978599        1\n",
      "2  327           1  0.033643  0.966357        1\n",
      "3  436           1  0.016609  0.983391        1\n",
      "4  158           1  0.012819  0.987181        1\n",
      "5   75           0  0.502598  0.497402        1\n",
      "6  351           1  0.001458  0.998542        0\n",
      "7  220           1  0.274490  0.725510        0\n",
      "8  106           1  0.190547  0.809453        0\n",
      "9  254           1  0.045625  0.954375        0\n",
      "\n",
      "ROC-AUC : \n"
     ]
    },
    {
     "data": {
      "text/html": [
       "<style type=\"text/css\">\n",
       "\ttable {border:ridge 5px;}\n",
       "\ttable td {border:inset 1px;}\n",
       "\ttable tr#HeaderRow {background-color:grey; color:white;}</style>\n",
       "<html><table>\n",
       "\t<tr id=\"HeaderRow\">\n",
       "\t\t<th>AUC</th>\n",
       "\t\t<th>GINI</th>\n",
       "\t</tr>\n",
       "\t<tr>\n",
       "\t\t<td>0.6558982176360225</td>\n",
       "\t\t<td>0.31179643527204504</td>\n",
       "\t</tr>\n",
       "</table></html>"
      ],
      "text/plain": [
       "              GINI\n",
       "AUC               \n",
       "0.655898  0.311796"
      ]
     },
     "metadata": {},
     "output_type": "display_data"
    },
    {
     "data": {
      "text/html": [
       "<style type=\"text/css\">\n",
       "\ttable {border:ridge 5px;}\n",
       "\ttable td {border:inset 1px;}\n",
       "\ttable tr#HeaderRow {background-color:grey; color:white;}</style>\n",
       "<html><table>\n",
       "\t<tr id=\"HeaderRow\">\n",
       "\t\t<th>threshold_value</th>\n",
       "\t\t<th>tpr</th>\n",
       "\t\t<th>fpr</th>\n",
       "\t</tr>\n",
       "\t<tr>\n",
       "\t\t<td>0.04081632653061224</td>\n",
       "\t\t<td>1.0</td>\n",
       "\t\t<td>1.0</td>\n",
       "\t</tr>\n",
       "\t<tr>\n",
       "\t\t<td>0.08163265306122448</td>\n",
       "\t\t<td>1.0</td>\n",
       "\t\t<td>1.0</td>\n",
       "\t</tr>\n",
       "\t<tr>\n",
       "\t\t<td>0.1020408163265306</td>\n",
       "\t\t<td>1.0</td>\n",
       "\t\t<td>1.0</td>\n",
       "\t</tr>\n",
       "\t<tr>\n",
       "\t\t<td>0.12244897959183673</td>\n",
       "\t\t<td>1.0</td>\n",
       "\t\t<td>1.0</td>\n",
       "\t</tr>\n",
       "\t<tr>\n",
       "\t\t<td>0.16326530612244897</td>\n",
       "\t\t<td>1.0</td>\n",
       "\t\t<td>0.9935897435897436</td>\n",
       "\t</tr>\n",
       "\t<tr>\n",
       "\t\t<td>0.18367346938775508</td>\n",
       "\t\t<td>0.9878048780487805</td>\n",
       "\t\t<td>0.9871794871794872</td>\n",
       "\t</tr>\n",
       "\t<tr>\n",
       "\t\t<td>0.14285714285714285</td>\n",
       "\t\t<td>1.0</td>\n",
       "\t\t<td>1.0</td>\n",
       "\t</tr>\n",
       "\t<tr>\n",
       "\t\t<td>0.061224489795918366</td>\n",
       "\t\t<td>1.0</td>\n",
       "\t\t<td>1.0</td>\n",
       "\t</tr>\n",
       "\t<tr>\n",
       "\t\t<td>0.02040816326530612</td>\n",
       "\t\t<td>1.0</td>\n",
       "\t\t<td>1.0</td>\n",
       "\t</tr>\n",
       "\t<tr>\n",
       "\t\t<td>0.0</td>\n",
       "\t\t<td>1.0</td>\n",
       "\t\t<td>1.0</td>\n",
       "\t</tr>\n",
       "</table></html>"
      ],
      "text/plain": [
       "   threshold_value       tpr       fpr\n",
       "0         0.040816  1.000000  1.000000\n",
       "1         0.081633  1.000000  1.000000\n",
       "2         0.102041  1.000000  1.000000\n",
       "3         0.122449  1.000000  1.000000\n",
       "4         0.163265  1.000000  0.993590\n",
       "5         0.183673  0.987805  0.987179\n",
       "6         0.142857  1.000000  1.000000\n",
       "7         0.061224  1.000000  1.000000\n",
       "8         0.020408  1.000000  1.000000\n",
       "9         0.000000  1.000000  1.000000"
      ]
     },
     "metadata": {},
     "output_type": "display_data"
    },
    {
     "name": "stdout",
     "output_type": "stream",
     "text": [
      "\n",
      "Confusion Matrix : \n"
     ]
    },
    {
     "data": {
      "text/plain": [
       "array([[ 44, 112],\n",
       "       [ 23, 141]], dtype=int64)"
      ]
     },
     "metadata": {},
     "output_type": "display_data"
    }
   ],
   "source": [
    "# Generating prediction on test data\n",
    "prediction = aml.predict(wine_df_test,2)"
   ]
  },
  {
   "cell_type": "code",
   "execution_count": 22,
   "id": "cc4f6a78-1cdf-4938-a9f1-22035d8404ca",
   "metadata": {},
   "outputs": [
    {
     "data": {
      "text/html": [
       "<style type=\"text/css\">\n",
       "\ttable {border:ridge 5px;}\n",
       "\ttable td {border:inset 1px;}\n",
       "\ttable tr#HeaderRow {background-color:grey; color:white;}</style>\n",
       "<html><table>\n",
       "\t<tr id=\"HeaderRow\">\n",
       "\t\t<th>id</th>\n",
       "\t\t<th>prediction</th>\n",
       "\t\t<th>prob_0</th>\n",
       "\t\t<th>prob_1</th>\n",
       "\t\t<th>quality</th>\n",
       "\t</tr>\n",
       "\t<tr>\n",
       "\t\t<td>10</td>\n",
       "\t\t<td>1</td>\n",
       "\t\t<td>0.02332023517004822</td>\n",
       "\t\t<td>0.9766797648299518</td>\n",
       "\t\t<td>1</td>\n",
       "\t</tr>\n",
       "\t<tr>\n",
       "\t\t<td>12</td>\n",
       "\t\t<td>1</td>\n",
       "\t\t<td>0.1815964318325931</td>\n",
       "\t\t<td>0.8184035681674069</td>\n",
       "\t\t<td>0</td>\n",
       "\t</tr>\n",
       "\t<tr>\n",
       "\t\t<td>13</td>\n",
       "\t\t<td>1</td>\n",
       "\t\t<td>0.0017397914230462552</td>\n",
       "\t\t<td>0.9982602085769537</td>\n",
       "\t\t<td>0</td>\n",
       "\t</tr>\n",
       "\t<tr>\n",
       "\t\t<td>14</td>\n",
       "\t\t<td>0</td>\n",
       "\t\t<td>0.6373726416225336</td>\n",
       "\t\t<td>0.3626273583774664</td>\n",
       "\t\t<td>0</td>\n",
       "\t</tr>\n",
       "\t<tr>\n",
       "\t\t<td>16</td>\n",
       "\t\t<td>1</td>\n",
       "\t\t<td>0.016537684978559786</td>\n",
       "\t\t<td>0.9834623150214402</td>\n",
       "\t\t<td>0</td>\n",
       "\t</tr>\n",
       "\t<tr>\n",
       "\t\t<td>17</td>\n",
       "\t\t<td>1</td>\n",
       "\t\t<td>0.32332933644824857</td>\n",
       "\t\t<td>0.6766706635517514</td>\n",
       "\t\t<td>0</td>\n",
       "\t</tr>\n",
       "\t<tr>\n",
       "\t\t<td>15</td>\n",
       "\t\t<td>1</td>\n",
       "\t\t<td>0.12406251528738399</td>\n",
       "\t\t<td>0.875937484712616</td>\n",
       "\t\t<td>1</td>\n",
       "\t</tr>\n",
       "\t<tr>\n",
       "\t\t<td>11</td>\n",
       "\t\t<td>1</td>\n",
       "\t\t<td>0.2365402739993928</td>\n",
       "\t\t<td>0.7634597260006072</td>\n",
       "\t\t<td>0</td>\n",
       "\t</tr>\n",
       "\t<tr>\n",
       "\t\t<td>9</td>\n",
       "\t\t<td>1</td>\n",
       "\t\t<td>0.31633924038269245</td>\n",
       "\t\t<td>0.6836607596173075</td>\n",
       "\t\t<td>0</td>\n",
       "\t</tr>\n",
       "\t<tr>\n",
       "\t\t<td>8</td>\n",
       "\t\t<td>1</td>\n",
       "\t\t<td>0.016537684978559786</td>\n",
       "\t\t<td>0.9834623150214402</td>\n",
       "\t\t<td>0</td>\n",
       "\t</tr>\n",
       "</table></html>"
      ],
      "text/plain": [
       "   id  prediction    prob_0    prob_1  quality\n",
       "0  10           1  0.023320  0.976680        1\n",
       "1  12           1  0.181596  0.818404        0\n",
       "2  13           1  0.001740  0.998260        0\n",
       "3  14           0  0.637373  0.362627        0\n",
       "4  16           1  0.016538  0.983462        0\n",
       "5  17           1  0.323329  0.676671        0\n",
       "6  15           1  0.124063  0.875937        1\n",
       "7  11           1  0.236540  0.763460        0\n",
       "8   9           1  0.316339  0.683661        0\n",
       "9   8           1  0.016538  0.983462        0"
      ]
     },
     "execution_count": 22,
     "metadata": {},
     "output_type": "execute_result"
    }
   ],
   "source": [
    "# Printing prediction\n",
    "prediction.head()"
   ]
  },
  {
   "cell_type": "code",
   "execution_count": 23,
   "id": "43eb29c9-9ec4-4b9f-96f7-8ac176b3f321",
   "metadata": {},
   "outputs": [
    {
     "name": "stdout",
     "output_type": "stream",
     "text": [
      "\n",
      "Skipping data transformation as data is already transformed.\n",
      "\n",
      "Following model is being picked for evaluation:\n",
      "Model ID : SVM_2 \n",
      "Feature Selection Method : lasso\n",
      "\n",
      "Target Column Mapping:\n",
      "good: 1\n",
      "bad: 0\n",
      "\n",
      "Performance Metrics : \n",
      "       Prediction  Mapping  CLASS_1  CLASS_2  Precision    Recall        F1  Support\n",
      "SeqNum                                                                              \n",
      "0               0  CLASS_1       44       23   0.656716  0.282051  0.394619      156\n",
      "1               1  CLASS_2      112      141   0.557312  0.859756  0.676259      164\n",
      "--------------------------------------------------------------------------------\n",
      "   SeqNum              Metric  MetricValue\n",
      "0       3        Micro-Recall     0.578125\n",
      "1       5     Macro-Precision     0.607014\n",
      "2       6        Macro-Recall     0.570904\n",
      "3       7            Macro-F1     0.535439\n",
      "4       9     Weighted-Recall     0.578125\n",
      "5      10         Weighted-F1     0.538959\n",
      "6       8  Weighted-Precision     0.605772\n",
      "7       4            Micro-F1     0.578125\n",
      "8       2     Micro-Precision     0.578125\n",
      "9       1            Accuracy     0.578125\n"
     ]
    }
   ],
   "source": [
    "# Fetching performance metrics on test data\n",
    "performance_metrics = aml.evaluate(wine_df_test, 2)"
   ]
  },
  {
   "cell_type": "code",
   "execution_count": 24,
   "id": "06ad8294-7641-4ab8-8e20-c8d042d67a35",
   "metadata": {},
   "outputs": [
    {
     "data": {
      "text/html": [
       "<style type=\"text/css\">\n",
       "\ttable {border:ridge 5px;}\n",
       "\ttable td {border:inset 1px;}\n",
       "\ttable tr#HeaderRow {background-color:grey; color:white;}</style>\n",
       "<html><table>\n",
       "\t<tr id=\"HeaderRow\">\n",
       "\t\t<th>SeqNum</th>\n",
       "\t\t<th>Prediction</th>\n",
       "\t\t<th>Mapping</th>\n",
       "\t\t<th>CLASS_1</th>\n",
       "\t\t<th>CLASS_2</th>\n",
       "\t\t<th>Precision</th>\n",
       "\t\t<th>Recall</th>\n",
       "\t\t<th>F1</th>\n",
       "\t\t<th>Support</th>\n",
       "\t</tr>\n",
       "\t<tr>\n",
       "\t\t<td>0</td>\n",
       "\t\t<td>0</td>\n",
       "\t\t<td>CLASS_1</td>\n",
       "\t\t<td>44</td>\n",
       "\t\t<td>23</td>\n",
       "\t\t<td>0.6567164179104478</td>\n",
       "\t\t<td>0.28205128205128205</td>\n",
       "\t\t<td>0.39461883408071746</td>\n",
       "\t\t<td>156</td>\n",
       "\t</tr>\n",
       "\t<tr>\n",
       "\t\t<td>1</td>\n",
       "\t\t<td>1</td>\n",
       "\t\t<td>CLASS_2</td>\n",
       "\t\t<td>112</td>\n",
       "\t\t<td>141</td>\n",
       "\t\t<td>0.5573122529644269</td>\n",
       "\t\t<td>0.8597560975609756</td>\n",
       "\t\t<td>0.6762589928057554</td>\n",
       "\t\t<td>164</td>\n",
       "\t</tr>\n",
       "</table></html>"
      ],
      "text/plain": [
       "       Prediction  Mapping  CLASS_1  CLASS_2  Precision    Recall        F1  Support\n",
       "SeqNum                                                                              \n",
       "0               0  CLASS_1       44       23   0.656716  0.282051  0.394619      156\n",
       "1               1  CLASS_2      112      141   0.557312  0.859756  0.676259      164"
      ]
     },
     "execution_count": 24,
     "metadata": {},
     "output_type": "execute_result"
    }
   ],
   "source": [
    "performance_metrics"
   ]
  },
  {
   "cell_type": "code",
   "execution_count": 25,
   "id": "b2cba357-75ac-4089-a234-64a57067b117",
   "metadata": {},
   "outputs": [
    {
     "data": {
      "text/plain": [
       "True"
      ]
     },
     "execution_count": 25,
     "metadata": {},
     "output_type": "execute_result"
    }
   ],
   "source": [
    "remove_context()"
   ]
  },
  {
   "cell_type": "code",
   "execution_count": null,
   "id": "b672112c-d042-4842-846b-163f495d7664",
   "metadata": {},
   "outputs": [],
   "source": []
  }
 ],
 "metadata": {
  "kernelspec": {
   "display_name": "Python 3 (ipykernel)",
   "language": "python",
   "name": "python3"
  },
  "language_info": {
   "codemirror_mode": {
    "name": "ipython",
    "version": 3
   },
   "file_extension": ".py",
   "mimetype": "text/x-python",
   "name": "python",
   "nbconvert_exporter": "python",
   "pygments_lexer": "ipython3",
   "version": "3.10.9"
  }
 },
 "nbformat": 4,
 "nbformat_minor": 5
}
