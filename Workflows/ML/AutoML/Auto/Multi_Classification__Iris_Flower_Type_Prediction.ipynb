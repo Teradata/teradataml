{
 "cells": [
  {
   "cell_type": "markdown",
   "id": "2762f1d8-5a66-411f-a625-34cf16ac6dd3",
   "metadata": {},
   "source": [
    "# <b><span style='color:#F1A424'>AutoML - Multi-Class Classification - Iris Flower Type Prediction </span> </b>"
   ]
  },
  {
   "cell_type": "markdown",
   "id": "33c06ae2-1862-40fe-85f4-c7ab8cfa56f8",
   "metadata": {},
   "source": [
    "### Disclaimer\n",
    "Please note, the Vantage Functions via SQLAlchemy feature is a preview/beta code release with limited functionality (the “Code”). As such, you acknowledge that the Code is experimental in nature and that the Code is provided “AS IS” and may not be functional on any machine or in any environment. TERADATA DISCLAIMS ALL WARRANTIES RELATING TO THE CODE, EXPRESS OR IMPLIED, INCLUDING, BUT NOT LIMITED TO, ANY WARRANTIES AGAINST INFRINGEMENT OF THIRD-PARTY RIGHTS, MERCHANTABILITY AND FITNESS FOR A PARTICULAR PURPOSE.\n",
    "\n",
    "TERADATA SHALL NOT BE RESPONSIBLE OR LIABLE WITH RESPECT TO ANY SUBJECT MATTER OF THE CODE UNDER ANY CONTRACT, NEGLIGENCE, STRICT LIABILITY OR OTHER THEORY \n",
    "    (A) FOR LOSS OR INACCURACY OF DATA OR COST OF PROCUREMENT OF SUBSTITUTE GOODS, SERVICES OR TECHNOLOGY, OR \n",
    "    (B) FOR ANY INDIRECT, INCIDENTAL OR CONSEQUENTIAL DAMAGES INCLUDING, BUT NOT LIMITED TO LOSS OF REVENUES AND LOSS OF PROFITS. TERADATA SHALL NOT BE RESPONSIBLE FOR ANY MATTER BEYOND ITS REASONABLE CONTROL.\n",
    "\n",
    "Notwithstanding anything to the contrary: \n",
    "    (a) Teradata will have no obligation of any kind with respect to any Code-related comments, suggestions, design changes or improvements that you elect to provide to Teradata in either verbal or written form (collectively, “Feedback”), and \n",
    "    (b) Teradata and its affiliates are hereby free to use any ideas, concepts, know-how or techniques, in whole or in part, contained in Feedback: \n",
    "        (i) for any purpose whatsoever, including developing, manufacturing, and/or marketing products and/or services incorporating Feedback in whole or in part, and \n",
    "        (ii) without any restrictions or limitations, including requiring the payment of any license fees, royalties, or other consideration. "
   ]
  },
  {
   "cell_type": "markdown",
   "id": "f225fb94-b2c8-4c92-af38-733d08e0e2a1",
   "metadata": {},
   "source": [
    "## <b> Problem overview:</b>\n",
    "    "
   ]
  },
  {
   "cell_type": "markdown",
   "id": "af9813eb-9c44-4968-a5fe-d1c74415c894",
   "metadata": {},
   "source": [
    "\n",
    "The Iris dataset is a classic dataset in the field of machine learning and statistics.It contains measurements of various features of iris flowers, making it a quintessential dataset for practicing classification algorithms and statistical analysis.\n",
    "\n",
    "Here are some key details about the Iris dataset:\n",
    "\n",
    "**Features**:\n",
    "\n",
    "- `Sepal Length (cm)`: Measurement of the length of the outermost petal parts (sepals).\n",
    "- `Sepal Width (cm)`: Measurement of the width of the sepals.\n",
    "- `Petal Length (cm)`: Measurement of the length of the innermost petal parts (petals).\n",
    "- `Petal Width (cm)`: Measurement of the width of the petals.\n",
    "\n",
    "**Target Variable**:\n",
    "\n",
    "- `Species`: The species of iris flowers. It includes three classes: `Setosa`, `Versicolor` and `Virginica`.\n",
    "\n",
    "        \n",
    "**Objective**:\n",
    "\n",
    "The primary objective is typically to build a model that can accurately classify iris flowers into one of the three species based on the provided features.\n",
    "\n",
    "**Challenges**:\n",
    "\n",
    "- The dataset consists of 150 instances, with 50 instances for each of the three classes.\n",
    "\n",
    "**Usecase**:\n",
    "\n",
    "Here, we will use AutoML(Automated Machine Learning) functionality to automate the entire process of developing a predictive model. It will perform feature exploration, feature engineering, data preparation, model training and evaluation on dataset in auto run and at end we will get leaderboard containined different models along with their performance. Model will also have rank associated with them which indicates which is best performing model for given data followed by other models."
   ]
  },
  {
   "cell_type": "code",
   "execution_count": 1,
   "id": "66568348-4d00-477c-a071-17995f797c95",
   "metadata": {},
   "outputs": [],
   "source": [
    "# Importing AutoML from teradataml\n",
    "from teradataml import AutoML, AutoClassifier"
   ]
  },
  {
   "cell_type": "code",
   "execution_count": 2,
   "id": "17dfae70-0401-4cc4-ba1c-400a5cf62451",
   "metadata": {},
   "outputs": [],
   "source": [
    "# Importing other important libraries\n",
    "import getpass\n",
    "from teradataml import create_context, remove_context\n",
    "from teradataml import DataFrame\n",
    "from teradataml import load_example_data\n",
    "from teradataml import TrainTestSplit"
   ]
  },
  {
   "cell_type": "code",
   "execution_count": 3,
   "id": "cadd9ed2-42d6-4899-b23e-4e2cf601162f",
   "metadata": {},
   "outputs": [
    {
     "name": "stdin",
     "output_type": "stream",
     "text": [
      "Host:  ········\n",
      "Username:  ········\n",
      "Password:  ········\n"
     ]
    }
   ],
   "source": [
    "# Create the connection.\n",
    "host = getpass.getpass(\"Host: \")\n",
    "username = getpass.getpass(\"Username: \")\n",
    "password = getpass.getpass(\"Password: \")\n",
    "\n",
    "con = create_context(host=host, username=username, password=password)"
   ]
  },
  {
   "cell_type": "markdown",
   "id": "be767a89-d5b8-4876-91cb-36980754586e",
   "metadata": {},
   "source": [
    "## <b><span style='color:#F1A424'>| 1.</span> Loading Dataset </b>"
   ]
  },
  {
   "cell_type": "code",
   "execution_count": 4,
   "id": "f1592c52-b247-4792-be2a-30b49bbeb9b6",
   "metadata": {},
   "outputs": [],
   "source": [
    "# Loading dataset from example data collection\n",
    "load_example_data(\"teradataml\", \"iris_input\")"
   ]
  },
  {
   "cell_type": "code",
   "execution_count": 5,
   "id": "3846ae0f-004b-4b8e-9fea-06fac4294065",
   "metadata": {},
   "outputs": [],
   "source": [
    "# Fetching in teradata dataframe\n",
    "iris = DataFrame.from_table(\"iris_input\")"
   ]
  },
  {
   "cell_type": "code",
   "execution_count": 6,
   "id": "442ccd80-b444-413e-970d-d855ec3d6cae",
   "metadata": {},
   "outputs": [
    {
     "data": {
      "text/html": [
       "<style type=\"text/css\">\n",
       "\ttable {border:ridge 5px;}\n",
       "\ttable td {border:inset 1px;}\n",
       "\ttable tr#HeaderRow {background-color:grey; color:white;}</style>\n",
       "<html><table>\n",
       "\t<tr id=\"HeaderRow\">\n",
       "\t\t<th>id</th>\n",
       "\t\t<th>sepal_length</th>\n",
       "\t\t<th>sepal_width</th>\n",
       "\t\t<th>petal_length</th>\n",
       "\t\t<th>petal_width</th>\n",
       "\t\t<th>species</th>\n",
       "\t</tr>\n",
       "\t<tr>\n",
       "\t\t<td>3</td>\n",
       "\t\t<td>4.7</td>\n",
       "\t\t<td>3.2</td>\n",
       "\t\t<td>1.3</td>\n",
       "\t\t<td>0.2</td>\n",
       "\t\t<td>1</td>\n",
       "\t</tr>\n",
       "\t<tr>\n",
       "\t\t<td>5</td>\n",
       "\t\t<td>5.0</td>\n",
       "\t\t<td>3.6</td>\n",
       "\t\t<td>1.4</td>\n",
       "\t\t<td>0.2</td>\n",
       "\t\t<td>1</td>\n",
       "\t</tr>\n",
       "\t<tr>\n",
       "\t\t<td>6</td>\n",
       "\t\t<td>5.4</td>\n",
       "\t\t<td>3.9</td>\n",
       "\t\t<td>1.7</td>\n",
       "\t\t<td>0.4</td>\n",
       "\t\t<td>1</td>\n",
       "\t</tr>\n",
       "\t<tr>\n",
       "\t\t<td>7</td>\n",
       "\t\t<td>4.6</td>\n",
       "\t\t<td>3.4</td>\n",
       "\t\t<td>1.4</td>\n",
       "\t\t<td>0.3</td>\n",
       "\t\t<td>1</td>\n",
       "\t</tr>\n",
       "\t<tr>\n",
       "\t\t<td>9</td>\n",
       "\t\t<td>4.4</td>\n",
       "\t\t<td>2.9</td>\n",
       "\t\t<td>1.4</td>\n",
       "\t\t<td>0.2</td>\n",
       "\t\t<td>1</td>\n",
       "\t</tr>\n",
       "\t<tr>\n",
       "\t\t<td>10</td>\n",
       "\t\t<td>4.9</td>\n",
       "\t\t<td>3.1</td>\n",
       "\t\t<td>1.5</td>\n",
       "\t\t<td>0.1</td>\n",
       "\t\t<td>1</td>\n",
       "\t</tr>\n",
       "\t<tr>\n",
       "\t\t<td>8</td>\n",
       "\t\t<td>5.0</td>\n",
       "\t\t<td>3.4</td>\n",
       "\t\t<td>1.5</td>\n",
       "\t\t<td>0.2</td>\n",
       "\t\t<td>1</td>\n",
       "\t</tr>\n",
       "\t<tr>\n",
       "\t\t<td>4</td>\n",
       "\t\t<td>4.6</td>\n",
       "\t\t<td>3.1</td>\n",
       "\t\t<td>1.5</td>\n",
       "\t\t<td>0.2</td>\n",
       "\t\t<td>1</td>\n",
       "\t</tr>\n",
       "\t<tr>\n",
       "\t\t<td>2</td>\n",
       "\t\t<td>4.9</td>\n",
       "\t\t<td>3.0</td>\n",
       "\t\t<td>1.4</td>\n",
       "\t\t<td>0.2</td>\n",
       "\t\t<td>1</td>\n",
       "\t</tr>\n",
       "\t<tr>\n",
       "\t\t<td>1</td>\n",
       "\t\t<td>5.1</td>\n",
       "\t\t<td>3.5</td>\n",
       "\t\t<td>1.4</td>\n",
       "\t\t<td>0.2</td>\n",
       "\t\t<td>1</td>\n",
       "\t</tr>\n",
       "</table></html>"
      ],
      "text/plain": [
       "    sepal_length  sepal_width  petal_length  petal_width  species\n",
       "id                                                               \n",
       "3            4.7          3.2           1.3          0.2        1\n",
       "5            5.0          3.6           1.4          0.2        1\n",
       "6            5.4          3.9           1.7          0.4        1\n",
       "7            4.6          3.4           1.4          0.3        1\n",
       "9            4.4          2.9           1.4          0.2        1\n",
       "10           4.9          3.1           1.5          0.1        1\n",
       "8            5.0          3.4           1.5          0.2        1\n",
       "4            4.6          3.1           1.5          0.2        1\n",
       "2            4.9          3.0           1.4          0.2        1\n",
       "1            5.1          3.5           1.4          0.2        1"
      ]
     },
     "execution_count": 6,
     "metadata": {},
     "output_type": "execute_result"
    }
   ],
   "source": [
    "# first 5 rows\n",
    "iris.head()"
   ]
  },
  {
   "cell_type": "code",
   "execution_count": 7,
   "id": "636c220d-d12f-4ea5-ab2b-c9203ef00d49",
   "metadata": {},
   "outputs": [
    {
     "data": {
      "text/plain": [
       "(150, 6)"
      ]
     },
     "execution_count": 7,
     "metadata": {},
     "output_type": "execute_result"
    }
   ],
   "source": [
    "# iris dataset\n",
    "iris.shape"
   ]
  },
  {
   "cell_type": "code",
   "execution_count": 8,
   "id": "e5d1fad7-8784-4d7a-be1f-7be1d3991d8f",
   "metadata": {},
   "outputs": [],
   "source": [
    "# Performing sampling to get 80% for trainning and 20% for testing\n",
    "iris_sample = iris.sample(frac = [0.8, 0.2])"
   ]
  },
  {
   "cell_type": "code",
   "execution_count": 9,
   "id": "a0e6891a-1b7e-4bac-97c8-350ba5f5bde4",
   "metadata": {},
   "outputs": [
    {
     "data": {
      "text/html": [
       "<style type=\"text/css\">\n",
       "\ttable {border:ridge 5px;}\n",
       "\ttable td {border:inset 1px;}\n",
       "\ttable tr#HeaderRow {background-color:grey; color:white;}</style>\n",
       "<html><table>\n",
       "\t<tr id=\"HeaderRow\">\n",
       "\t\t<th>id</th>\n",
       "\t\t<th>sepal_length</th>\n",
       "\t\t<th>sepal_width</th>\n",
       "\t\t<th>petal_length</th>\n",
       "\t\t<th>petal_width</th>\n",
       "\t\t<th>species</th>\n",
       "\t\t<th>sampleid</th>\n",
       "\t</tr>\n",
       "\t<tr>\n",
       "\t\t<td>3</td>\n",
       "\t\t<td>4.7</td>\n",
       "\t\t<td>3.2</td>\n",
       "\t\t<td>1.3</td>\n",
       "\t\t<td>0.2</td>\n",
       "\t\t<td>1</td>\n",
       "\t\t<td>1</td>\n",
       "\t</tr>\n",
       "\t<tr>\n",
       "\t\t<td>5</td>\n",
       "\t\t<td>5.0</td>\n",
       "\t\t<td>3.6</td>\n",
       "\t\t<td>1.4</td>\n",
       "\t\t<td>0.2</td>\n",
       "\t\t<td>1</td>\n",
       "\t\t<td>1</td>\n",
       "\t</tr>\n",
       "\t<tr>\n",
       "\t\t<td>6</td>\n",
       "\t\t<td>5.4</td>\n",
       "\t\t<td>3.9</td>\n",
       "\t\t<td>1.7</td>\n",
       "\t\t<td>0.4</td>\n",
       "\t\t<td>1</td>\n",
       "\t\t<td>2</td>\n",
       "\t</tr>\n",
       "\t<tr>\n",
       "\t\t<td>7</td>\n",
       "\t\t<td>4.6</td>\n",
       "\t\t<td>3.4</td>\n",
       "\t\t<td>1.4</td>\n",
       "\t\t<td>0.3</td>\n",
       "\t\t<td>1</td>\n",
       "\t\t<td>2</td>\n",
       "\t</tr>\n",
       "\t<tr>\n",
       "\t\t<td>9</td>\n",
       "\t\t<td>4.4</td>\n",
       "\t\t<td>2.9</td>\n",
       "\t\t<td>1.4</td>\n",
       "\t\t<td>0.2</td>\n",
       "\t\t<td>1</td>\n",
       "\t\t<td>1</td>\n",
       "\t</tr>\n",
       "\t<tr>\n",
       "\t\t<td>10</td>\n",
       "\t\t<td>4.9</td>\n",
       "\t\t<td>3.1</td>\n",
       "\t\t<td>1.5</td>\n",
       "\t\t<td>0.1</td>\n",
       "\t\t<td>1</td>\n",
       "\t\t<td>1</td>\n",
       "\t</tr>\n",
       "\t<tr>\n",
       "\t\t<td>8</td>\n",
       "\t\t<td>5.0</td>\n",
       "\t\t<td>3.4</td>\n",
       "\t\t<td>1.5</td>\n",
       "\t\t<td>0.2</td>\n",
       "\t\t<td>1</td>\n",
       "\t\t<td>1</td>\n",
       "\t</tr>\n",
       "\t<tr>\n",
       "\t\t<td>4</td>\n",
       "\t\t<td>4.6</td>\n",
       "\t\t<td>3.1</td>\n",
       "\t\t<td>1.5</td>\n",
       "\t\t<td>0.2</td>\n",
       "\t\t<td>1</td>\n",
       "\t\t<td>1</td>\n",
       "\t</tr>\n",
       "\t<tr>\n",
       "\t\t<td>2</td>\n",
       "\t\t<td>4.9</td>\n",
       "\t\t<td>3.0</td>\n",
       "\t\t<td>1.4</td>\n",
       "\t\t<td>0.2</td>\n",
       "\t\t<td>1</td>\n",
       "\t\t<td>2</td>\n",
       "\t</tr>\n",
       "\t<tr>\n",
       "\t\t<td>1</td>\n",
       "\t\t<td>5.1</td>\n",
       "\t\t<td>3.5</td>\n",
       "\t\t<td>1.4</td>\n",
       "\t\t<td>0.2</td>\n",
       "\t\t<td>1</td>\n",
       "\t\t<td>1</td>\n",
       "\t</tr>\n",
       "</table></html>"
      ],
      "text/plain": [
       "    sepal_length  sepal_width  petal_length  petal_width  species  sampleid\n",
       "id                                                                         \n",
       "3            4.7          3.2           1.3          0.2        1         1\n",
       "5            5.0          3.6           1.4          0.2        1         1\n",
       "6            5.4          3.9           1.7          0.4        1         2\n",
       "7            4.6          3.4           1.4          0.3        1         2\n",
       "9            4.4          2.9           1.4          0.2        1         1\n",
       "10           4.9          3.1           1.5          0.1        1         1\n",
       "8            5.0          3.4           1.5          0.2        1         1\n",
       "4            4.6          3.1           1.5          0.2        1         1\n",
       "2            4.9          3.0           1.4          0.2        1         2\n",
       "1            5.1          3.5           1.4          0.2        1         1"
      ]
     },
     "execution_count": 9,
     "metadata": {},
     "output_type": "execute_result"
    }
   ],
   "source": [
    "iris_sample.head()"
   ]
  },
  {
   "cell_type": "code",
   "execution_count": 10,
   "id": "5e3e5923-18ad-4cf6-b4e5-e87f8854700b",
   "metadata": {},
   "outputs": [],
   "source": [
    "# Fetching train and test data\n",
    "iris_train= iris_sample[iris_sample['sampleid'] == 1].drop('sampleid', axis=1)\n",
    "iris_test = iris_sample[iris_sample['sampleid'] == 2].drop('sampleid', axis=1)"
   ]
  },
  {
   "cell_type": "code",
   "execution_count": 11,
   "id": "83d72a72-3fac-4862-b374-d21ab59be1a6",
   "metadata": {},
   "outputs": [
    {
     "data": {
      "text/plain": [
       "(120, 6)"
      ]
     },
     "execution_count": 11,
     "metadata": {},
     "output_type": "execute_result"
    }
   ],
   "source": [
    "# train data shape\n",
    "iris_train.shape"
   ]
  },
  {
   "cell_type": "code",
   "execution_count": 12,
   "id": "b22be730-8a7a-40f3-8e2a-cabd8d1f427f",
   "metadata": {},
   "outputs": [
    {
     "data": {
      "text/plain": [
       "(30, 6)"
      ]
     },
     "execution_count": 12,
     "metadata": {},
     "output_type": "execute_result"
    }
   ],
   "source": [
    "# test data shape\n",
    "iris_test.shape"
   ]
  },
  {
   "cell_type": "code",
   "execution_count": 13,
   "id": "18473df2-be15-4e1e-bc5e-739abacf8b89",
   "metadata": {},
   "outputs": [
    {
     "data": {
      "text/html": [
       "<style type=\"text/css\">\n",
       "\ttable {border:ridge 5px;}\n",
       "\ttable td {border:inset 1px;}\n",
       "\ttable tr#HeaderRow {background-color:grey; color:white;}</style>\n",
       "<html><table>\n",
       "\t<tr id=\"HeaderRow\">\n",
       "\t\t<th>id</th>\n",
       "\t\t<th>sepal_length</th>\n",
       "\t\t<th>sepal_width</th>\n",
       "\t\t<th>petal_length</th>\n",
       "\t\t<th>petal_width</th>\n",
       "\t\t<th>species</th>\n",
       "\t</tr>\n",
       "\t<tr>\n",
       "\t\t<td>4</td>\n",
       "\t\t<td>4.6</td>\n",
       "\t\t<td>3.1</td>\n",
       "\t\t<td>1.5</td>\n",
       "\t\t<td>0.2</td>\n",
       "\t\t<td>1</td>\n",
       "\t</tr>\n",
       "\t<tr>\n",
       "\t\t<td>8</td>\n",
       "\t\t<td>5.0</td>\n",
       "\t\t<td>3.4</td>\n",
       "\t\t<td>1.5</td>\n",
       "\t\t<td>0.2</td>\n",
       "\t\t<td>1</td>\n",
       "\t</tr>\n",
       "\t<tr>\n",
       "\t\t<td>9</td>\n",
       "\t\t<td>4.4</td>\n",
       "\t\t<td>2.9</td>\n",
       "\t\t<td>1.4</td>\n",
       "\t\t<td>0.2</td>\n",
       "\t\t<td>1</td>\n",
       "\t</tr>\n",
       "\t<tr>\n",
       "\t\t<td>10</td>\n",
       "\t\t<td>4.9</td>\n",
       "\t\t<td>3.1</td>\n",
       "\t\t<td>1.5</td>\n",
       "\t\t<td>0.1</td>\n",
       "\t\t<td>1</td>\n",
       "\t</tr>\n",
       "\t<tr>\n",
       "\t\t<td>15</td>\n",
       "\t\t<td>5.8</td>\n",
       "\t\t<td>4.0</td>\n",
       "\t\t<td>1.2</td>\n",
       "\t\t<td>0.2</td>\n",
       "\t\t<td>1</td>\n",
       "\t</tr>\n",
       "\t<tr>\n",
       "\t\t<td>16</td>\n",
       "\t\t<td>5.7</td>\n",
       "\t\t<td>4.4</td>\n",
       "\t\t<td>1.5</td>\n",
       "\t\t<td>0.4</td>\n",
       "\t\t<td>1</td>\n",
       "\t</tr>\n",
       "\t<tr>\n",
       "\t\t<td>13</td>\n",
       "\t\t<td>4.8</td>\n",
       "\t\t<td>3.0</td>\n",
       "\t\t<td>1.4</td>\n",
       "\t\t<td>0.1</td>\n",
       "\t\t<td>1</td>\n",
       "\t</tr>\n",
       "\t<tr>\n",
       "\t\t<td>5</td>\n",
       "\t\t<td>5.0</td>\n",
       "\t\t<td>3.6</td>\n",
       "\t\t<td>1.4</td>\n",
       "\t\t<td>0.2</td>\n",
       "\t\t<td>1</td>\n",
       "\t</tr>\n",
       "\t<tr>\n",
       "\t\t<td>3</td>\n",
       "\t\t<td>4.7</td>\n",
       "\t\t<td>3.2</td>\n",
       "\t\t<td>1.3</td>\n",
       "\t\t<td>0.2</td>\n",
       "\t\t<td>1</td>\n",
       "\t</tr>\n",
       "\t<tr>\n",
       "\t\t<td>1</td>\n",
       "\t\t<td>5.1</td>\n",
       "\t\t<td>3.5</td>\n",
       "\t\t<td>1.4</td>\n",
       "\t\t<td>0.2</td>\n",
       "\t\t<td>1</td>\n",
       "\t</tr>\n",
       "</table></html>"
      ],
      "text/plain": [
       "    sepal_length  sepal_width  petal_length  petal_width  species\n",
       "id                                                               \n",
       "4            4.6          3.1           1.5          0.2        1\n",
       "8            5.0          3.4           1.5          0.2        1\n",
       "9            4.4          2.9           1.4          0.2        1\n",
       "10           4.9          3.1           1.5          0.1        1\n",
       "15           5.8          4.0           1.2          0.2        1\n",
       "16           5.7          4.4           1.5          0.4        1\n",
       "13           4.8          3.0           1.4          0.1        1\n",
       "5            5.0          3.6           1.4          0.2        1\n",
       "3            4.7          3.2           1.3          0.2        1\n",
       "1            5.1          3.5           1.4          0.2        1"
      ]
     },
     "execution_count": 13,
     "metadata": {},
     "output_type": "execute_result"
    }
   ],
   "source": [
    "#train dataset\n",
    "iris_train.head()"
   ]
  },
  {
   "cell_type": "code",
   "execution_count": 14,
   "id": "58c9d763-4f19-449e-a35b-676d4d026acc",
   "metadata": {},
   "outputs": [
    {
     "data": {
      "text/html": [
       "<style type=\"text/css\">\n",
       "\ttable {border:ridge 5px;}\n",
       "\ttable td {border:inset 1px;}\n",
       "\ttable tr#HeaderRow {background-color:grey; color:white;}</style>\n",
       "<html><table>\n",
       "\t<tr id=\"HeaderRow\">\n",
       "\t\t<th>id</th>\n",
       "\t\t<th>sepal_length</th>\n",
       "\t\t<th>sepal_width</th>\n",
       "\t\t<th>petal_length</th>\n",
       "\t\t<th>petal_width</th>\n",
       "\t\t<th>species</th>\n",
       "\t</tr>\n",
       "\t<tr>\n",
       "\t\t<td>7</td>\n",
       "\t\t<td>4.6</td>\n",
       "\t\t<td>3.4</td>\n",
       "\t\t<td>1.4</td>\n",
       "\t\t<td>0.3</td>\n",
       "\t\t<td>1</td>\n",
       "\t</tr>\n",
       "\t<tr>\n",
       "\t\t<td>12</td>\n",
       "\t\t<td>4.8</td>\n",
       "\t\t<td>3.4</td>\n",
       "\t\t<td>1.6</td>\n",
       "\t\t<td>0.2</td>\n",
       "\t\t<td>1</td>\n",
       "\t</tr>\n",
       "\t<tr>\n",
       "\t\t<td>14</td>\n",
       "\t\t<td>4.3</td>\n",
       "\t\t<td>3.0</td>\n",
       "\t\t<td>1.1</td>\n",
       "\t\t<td>0.1</td>\n",
       "\t\t<td>1</td>\n",
       "\t</tr>\n",
       "\t<tr>\n",
       "\t\t<td>23</td>\n",
       "\t\t<td>4.6</td>\n",
       "\t\t<td>3.6</td>\n",
       "\t\t<td>1.0</td>\n",
       "\t\t<td>0.2</td>\n",
       "\t\t<td>1</td>\n",
       "\t</tr>\n",
       "\t<tr>\n",
       "\t\t<td>36</td>\n",
       "\t\t<td>5.0</td>\n",
       "\t\t<td>3.2</td>\n",
       "\t\t<td>1.2</td>\n",
       "\t\t<td>0.2</td>\n",
       "\t\t<td>1</td>\n",
       "\t</tr>\n",
       "\t<tr>\n",
       "\t\t<td>37</td>\n",
       "\t\t<td>5.5</td>\n",
       "\t\t<td>3.5</td>\n",
       "\t\t<td>1.3</td>\n",
       "\t\t<td>0.2</td>\n",
       "\t\t<td>1</td>\n",
       "\t</tr>\n",
       "\t<tr>\n",
       "\t\t<td>26</td>\n",
       "\t\t<td>5.0</td>\n",
       "\t\t<td>3.0</td>\n",
       "\t\t<td>1.6</td>\n",
       "\t\t<td>0.2</td>\n",
       "\t\t<td>1</td>\n",
       "\t</tr>\n",
       "\t<tr>\n",
       "\t\t<td>11</td>\n",
       "\t\t<td>5.4</td>\n",
       "\t\t<td>3.7</td>\n",
       "\t\t<td>1.5</td>\n",
       "\t\t<td>0.2</td>\n",
       "\t\t<td>1</td>\n",
       "\t</tr>\n",
       "\t<tr>\n",
       "\t\t<td>6</td>\n",
       "\t\t<td>5.4</td>\n",
       "\t\t<td>3.9</td>\n",
       "\t\t<td>1.7</td>\n",
       "\t\t<td>0.4</td>\n",
       "\t\t<td>1</td>\n",
       "\t</tr>\n",
       "\t<tr>\n",
       "\t\t<td>2</td>\n",
       "\t\t<td>4.9</td>\n",
       "\t\t<td>3.0</td>\n",
       "\t\t<td>1.4</td>\n",
       "\t\t<td>0.2</td>\n",
       "\t\t<td>1</td>\n",
       "\t</tr>\n",
       "</table></html>"
      ],
      "text/plain": [
       "    sepal_length  sepal_width  petal_length  petal_width  species\n",
       "id                                                               \n",
       "7            4.6          3.4           1.4          0.3        1\n",
       "12           4.8          3.4           1.6          0.2        1\n",
       "14           4.3          3.0           1.1          0.1        1\n",
       "23           4.6          3.6           1.0          0.2        1\n",
       "36           5.0          3.2           1.2          0.2        1\n",
       "37           5.5          3.5           1.3          0.2        1\n",
       "26           5.0          3.0           1.6          0.2        1\n",
       "11           5.4          3.7           1.5          0.2        1\n",
       "6            5.4          3.9           1.7          0.4        1\n",
       "2            4.9          3.0           1.4          0.2        1"
      ]
     },
     "execution_count": 14,
     "metadata": {},
     "output_type": "execute_result"
    }
   ],
   "source": [
    "# test dataset\n",
    "iris_test.head()"
   ]
  },
  {
   "cell_type": "markdown",
   "id": "856ea871-93d8-4ea2-b524-1acb23bd7eb5",
   "metadata": {},
   "source": [
    "## <b><span style='color:#F1A424'>| 2.</span> Fitting AutoML </b>"
   ]
  },
  {
   "cell_type": "code",
   "execution_count": 15,
   "id": "f3650aa5-a408-4227-a88d-79c0f3d36d3c",
   "metadata": {},
   "outputs": [],
   "source": [
    "# Creating AutoClassifier instance\n",
    "# Using only 'xgboost' for model training\n",
    "# Keeping early stopping timer threshold to 100 sec and max_models 5\n",
    "# and verbose level 2 for detailed loggging\n",
    "\n",
    "aml = AutoClassifier(include=['xgboost'],\n",
    "                     verbose=2,\n",
    "                     max_runtime_secs=100,\n",
    "                     max_models=5)"
   ]
  },
  {
   "cell_type": "code",
   "execution_count": 16,
   "id": "a1b7a771-1bfa-40c9-8ad0-c377d320c137",
   "metadata": {},
   "outputs": [
    {
     "data": {
      "text/html": [
       "\n",
       "            <style>\n",
       "                .custom-div {\n",
       "                    background-color: lightgray;\n",
       "                    color: #000000;\n",
       "                    padding: 10px;\n",
       "                    border-radius: 8px;\n",
       "                    box-shadow: 0 3px 4px rgba(0, 0, 0, 0.2);\n",
       "                    margin-bottom: 10px;\n",
       "                    text-align: center;\n",
       "                }\n",
       "            </style>\n",
       "        <br><div class=\"custom-div\"><h3><span style=\"color: green;\"></span>1. Feature Exploration -> 2. Feature Engineering -> 3. Data Preparation -> 4. Model Training & Evaluation<center></h3></center></div>"
      ],
      "text/plain": [
       "<IPython.core.display.HTML object>"
      ]
     },
     "metadata": {},
     "output_type": "display_data"
    },
    {
     "name": "stdout",
     "output_type": "stream",
     "text": [
      "Feature Exploration started ...\n",
      "\n",
      "Data Overview:\n",
      "Total Rows in the data: 120\n",
      "Total Columns in the data: 6\n",
      "\n",
      "Column Summary:\n"
     ]
    },
    {
     "data": {
      "text/html": [
       "<style type=\"text/css\">\n",
       "\ttable {border:ridge 5px;}\n",
       "\ttable td {border:inset 1px;}\n",
       "\ttable tr#HeaderRow {background-color:grey; color:white;}</style>\n",
       "<html><table>\n",
       "\t<tr id=\"HeaderRow\">\n",
       "\t\t<th>ColumnName</th>\n",
       "\t\t<th>Datatype</th>\n",
       "\t\t<th>NonNullCount</th>\n",
       "\t\t<th>NullCount</th>\n",
       "\t\t<th>BlankCount</th>\n",
       "\t\t<th>ZeroCount</th>\n",
       "\t\t<th>PositiveCount</th>\n",
       "\t\t<th>NegativeCount</th>\n",
       "\t\t<th>NullPercentage</th>\n",
       "\t\t<th>NonNullPercentage</th>\n",
       "\t</tr>\n",
       "\t<tr>\n",
       "\t\t<td>species</td>\n",
       "\t\t<td>INTEGER</td>\n",
       "\t\t<td>120</td>\n",
       "\t\t<td>0</td>\n",
       "\t\t<td>None</td>\n",
       "\t\t<td>0</td>\n",
       "\t\t<td>120</td>\n",
       "\t\t<td>0</td>\n",
       "\t\t<td>0.0</td>\n",
       "\t\t<td>100.0</td>\n",
       "\t</tr>\n",
       "\t<tr>\n",
       "\t\t<td>petal_width</td>\n",
       "\t\t<td>FLOAT</td>\n",
       "\t\t<td>120</td>\n",
       "\t\t<td>0</td>\n",
       "\t\t<td>None</td>\n",
       "\t\t<td>0</td>\n",
       "\t\t<td>120</td>\n",
       "\t\t<td>0</td>\n",
       "\t\t<td>0.0</td>\n",
       "\t\t<td>100.0</td>\n",
       "\t</tr>\n",
       "\t<tr>\n",
       "\t\t<td>petal_length</td>\n",
       "\t\t<td>FLOAT</td>\n",
       "\t\t<td>120</td>\n",
       "\t\t<td>0</td>\n",
       "\t\t<td>None</td>\n",
       "\t\t<td>0</td>\n",
       "\t\t<td>120</td>\n",
       "\t\t<td>0</td>\n",
       "\t\t<td>0.0</td>\n",
       "\t\t<td>100.0</td>\n",
       "\t</tr>\n",
       "\t<tr>\n",
       "\t\t<td>id</td>\n",
       "\t\t<td>INTEGER</td>\n",
       "\t\t<td>120</td>\n",
       "\t\t<td>0</td>\n",
       "\t\t<td>None</td>\n",
       "\t\t<td>0</td>\n",
       "\t\t<td>120</td>\n",
       "\t\t<td>0</td>\n",
       "\t\t<td>0.0</td>\n",
       "\t\t<td>100.0</td>\n",
       "\t</tr>\n",
       "\t<tr>\n",
       "\t\t<td>sepal_width</td>\n",
       "\t\t<td>FLOAT</td>\n",
       "\t\t<td>120</td>\n",
       "\t\t<td>0</td>\n",
       "\t\t<td>None</td>\n",
       "\t\t<td>0</td>\n",
       "\t\t<td>120</td>\n",
       "\t\t<td>0</td>\n",
       "\t\t<td>0.0</td>\n",
       "\t\t<td>100.0</td>\n",
       "\t</tr>\n",
       "\t<tr>\n",
       "\t\t<td>sepal_length</td>\n",
       "\t\t<td>FLOAT</td>\n",
       "\t\t<td>120</td>\n",
       "\t\t<td>0</td>\n",
       "\t\t<td>None</td>\n",
       "\t\t<td>0</td>\n",
       "\t\t<td>120</td>\n",
       "\t\t<td>0</td>\n",
       "\t\t<td>0.0</td>\n",
       "\t\t<td>100.0</td>\n",
       "\t</tr>\n",
       "</table></html>"
      ],
      "text/plain": [
       "     ColumnName Datatype  NonNullCount  NullCount BlankCount  ZeroCount  PositiveCount  NegativeCount  NullPercentage  NonNullPercentage\n",
       "0       species  INTEGER           120          0       None          0            120              0             0.0              100.0\n",
       "1   petal_width    FLOAT           120          0       None          0            120              0             0.0              100.0\n",
       "2  petal_length    FLOAT           120          0       None          0            120              0             0.0              100.0\n",
       "3            id  INTEGER           120          0       None          0            120              0             0.0              100.0\n",
       "4   sepal_width    FLOAT           120          0       None          0            120              0             0.0              100.0\n",
       "5  sepal_length    FLOAT           120          0       None          0            120              0             0.0              100.0"
      ]
     },
     "metadata": {},
     "output_type": "display_data"
    },
    {
     "name": "stdout",
     "output_type": "stream",
     "text": [
      "            id  sepal_length  sepal_width  petal_length  petal_width  species\n",
      "func                                                                         \n",
      "min      1.000         4.400        2.200         1.200        0.100    1.000\n",
      "std     43.485         0.827        0.442         1.766        0.764    0.827\n",
      "25%     40.750         5.200        2.800         1.600        0.400    1.000\n",
      "50%     82.500         5.900        3.000         4.500        1.400    2.000\n",
      "75%    118.250         6.425        3.400         5.225        1.900    3.000\n",
      "max    149.000         7.900        4.400         6.900        2.500    3.000\n",
      "mean    79.092         5.930        3.070         3.910        1.259    2.067\n",
      "count  120.000       120.000      120.000       120.000      120.000  120.000\n",
      "\n",
      "Statistics of Data:\n"
     ]
    },
    {
     "data": {
      "text/html": [
       "<style type=\"text/css\">\n",
       "\ttable {border:ridge 5px;}\n",
       "\ttable td {border:inset 1px;}\n",
       "\ttable tr#HeaderRow {background-color:grey; color:white;}</style>\n",
       "<html><table>\n",
       "\t<tr id=\"HeaderRow\">\n",
       "\t\t<th>func</th>\n",
       "\t\t<th>id</th>\n",
       "\t\t<th>sepal_length</th>\n",
       "\t\t<th>sepal_width</th>\n",
       "\t\t<th>petal_length</th>\n",
       "\t\t<th>petal_width</th>\n",
       "\t\t<th>species</th>\n",
       "\t</tr>\n",
       "\t<tr>\n",
       "\t\t<td>std</td>\n",
       "\t\t<td>43.485</td>\n",
       "\t\t<td>0.827</td>\n",
       "\t\t<td>0.442</td>\n",
       "\t\t<td>1.766</td>\n",
       "\t\t<td>0.764</td>\n",
       "\t\t<td>0.827</td>\n",
       "\t</tr>\n",
       "\t<tr>\n",
       "\t\t<td>25%</td>\n",
       "\t\t<td>40.75</td>\n",
       "\t\t<td>5.2</td>\n",
       "\t\t<td>2.8</td>\n",
       "\t\t<td>1.6</td>\n",
       "\t\t<td>0.4</td>\n",
       "\t\t<td>1</td>\n",
       "\t</tr>\n",
       "\t<tr>\n",
       "\t\t<td>50%</td>\n",
       "\t\t<td>82.5</td>\n",
       "\t\t<td>5.9</td>\n",
       "\t\t<td>3</td>\n",
       "\t\t<td>4.5</td>\n",
       "\t\t<td>1.4</td>\n",
       "\t\t<td>2</td>\n",
       "\t</tr>\n",
       "\t<tr>\n",
       "\t\t<td>75%</td>\n",
       "\t\t<td>118.25</td>\n",
       "\t\t<td>6.425</td>\n",
       "\t\t<td>3.4</td>\n",
       "\t\t<td>5.225</td>\n",
       "\t\t<td>1.9</td>\n",
       "\t\t<td>3</td>\n",
       "\t</tr>\n",
       "\t<tr>\n",
       "\t\t<td>max</td>\n",
       "\t\t<td>149</td>\n",
       "\t\t<td>7.9</td>\n",
       "\t\t<td>4.4</td>\n",
       "\t\t<td>6.9</td>\n",
       "\t\t<td>2.5</td>\n",
       "\t\t<td>3</td>\n",
       "\t</tr>\n",
       "\t<tr>\n",
       "\t\t<td>min</td>\n",
       "\t\t<td>1</td>\n",
       "\t\t<td>4.4</td>\n",
       "\t\t<td>2.2</td>\n",
       "\t\t<td>1.2</td>\n",
       "\t\t<td>0.1</td>\n",
       "\t\t<td>1</td>\n",
       "\t</tr>\n",
       "\t<tr>\n",
       "\t\t<td>mean</td>\n",
       "\t\t<td>79.092</td>\n",
       "\t\t<td>5.93</td>\n",
       "\t\t<td>3.07</td>\n",
       "\t\t<td>3.91</td>\n",
       "\t\t<td>1.259</td>\n",
       "\t\t<td>2.067</td>\n",
       "\t</tr>\n",
       "\t<tr>\n",
       "\t\t<td>count</td>\n",
       "\t\t<td>120</td>\n",
       "\t\t<td>120</td>\n",
       "\t\t<td>120</td>\n",
       "\t\t<td>120</td>\n",
       "\t\t<td>120</td>\n",
       "\t\t<td>120</td>\n",
       "\t</tr>\n",
       "</table></html>"
      ],
      "text/plain": [
       "            id  sepal_length  sepal_width  petal_length  petal_width  species\n",
       "func                                                                         \n",
       "std     43.485         0.827        0.442         1.766        0.764    0.827\n",
       "25%     40.750         5.200        2.800         1.600        0.400    1.000\n",
       "50%     82.500         5.900        3.000         4.500        1.400    2.000\n",
       "75%    118.250         6.425        3.400         5.225        1.900    3.000\n",
       "max    149.000         7.900        4.400         6.900        2.500    3.000\n",
       "min      1.000         4.400        2.200         1.200        0.100    1.000\n",
       "mean    79.092         5.930        3.070         3.910        1.259    2.067\n",
       "count  120.000       120.000      120.000       120.000      120.000  120.000"
      ]
     },
     "metadata": {},
     "output_type": "display_data"
    },
    {
     "name": "stdout",
     "output_type": "stream",
     "text": [
      "\n",
      "Target Column Distribution:\n"
     ]
    },
    {
     "data": {
      "image/png": "[encoded data removed]",
      "text/plain": [
       "<Figure size 600x600 with 1 Axes>"
      ]
     },
     "metadata": {},
     "output_type": "display_data"
    },
    {
     "name": "stdout",
     "output_type": "stream",
     "text": [
      "Columns with outlier percentage :-                                                                                                                                                                                                                                                                                                                                                                                                                                                                                  \n",
      "    ColumnName  OutlierPercentage\n",
      "0  sepal_width           0.833333\n",
      "                                                                                        \r"
     ]
    },
    {
     "data": {
      "text/html": [
       "\n",
       "            <style>\n",
       "                .custom-div {\n",
       "                    background-color: lightgray;\n",
       "                    color: #000000;\n",
       "                    padding: 10px;\n",
       "                    border-radius: 8px;\n",
       "                    box-shadow: 0 3px 4px rgba(0 -  0 -  0 -  0.2);\n",
       "                    margin-bottom: 10px;\n",
       "                    text-align: center;\n",
       "                }\n",
       "            </style>\n",
       "        <br><div class=\"custom-div\"><h3><span style=\"color: green;\">1. Feature Exploration -></span> 2. Feature Engineering -> 3. Data Preparation -> 4. Model Training & Evaluation<center></h3></center></div>"
      ],
      "text/plain": [
       "<IPython.core.display.HTML object>"
      ]
     },
     "metadata": {},
     "output_type": "display_data"
    },
    {
     "name": "stdout",
     "output_type": "stream",
     "text": [
      "                                                                                        \r"
     ]
    },
    {
     "data": {
      "text/html": [
       "Feature Engineering started ..."
      ],
      "text/plain": [
       "<IPython.core.display.HTML object>"
      ]
     },
     "metadata": {},
     "output_type": "display_data"
    },
    {
     "name": "stdout",
     "output_type": "stream",
     "text": [
      "                                                                                        \r"
     ]
    },
    {
     "data": {
      "text/html": [
       "\n",
       "Handling duplicate records present in dataset ..."
      ],
      "text/plain": [
       "<IPython.core.display.HTML object>"
      ]
     },
     "metadata": {},
     "output_type": "display_data"
    },
    {
     "name": "stdout",
     "output_type": "stream",
     "text": [
      "Analysis completed. No action taken.                                                    \n",
      "                                                                                        \r"
     ]
    },
    {
     "data": {
      "text/html": [
       "Total time to handle duplicate records: 1.65 sec  "
      ],
      "text/plain": [
       "<IPython.core.display.HTML object>"
      ]
     },
     "metadata": {},
     "output_type": "display_data"
    },
    {
     "name": "stdout",
     "output_type": "stream",
     "text": [
      "                                                                                        \r"
     ]
    },
    {
     "data": {
      "text/html": [
       "\n",
       "Handling less significant features from data ..."
      ],
      "text/plain": [
       "<IPython.core.display.HTML object>"
      ]
     },
     "metadata": {},
     "output_type": "display_data"
    },
    {
     "name": "stdout",
     "output_type": "stream",
     "text": [
      "                                                                                        \r"
     ]
    },
    {
     "data": {
      "text/html": [
       "Total time to handle less significant features: 6.17 sec  "
      ],
      "text/plain": [
       "<IPython.core.display.HTML object>"
      ]
     },
     "metadata": {},
     "output_type": "display_data"
    },
    {
     "name": "stdout",
     "output_type": "stream",
     "text": [
      "                                                                                         \r"
     ]
    },
    {
     "data": {
      "text/html": [
       "\n",
       "Handling Date Features ..."
      ],
      "text/plain": [
       "<IPython.core.display.HTML object>"
      ]
     },
     "metadata": {},
     "output_type": "display_data"
    },
    {
     "name": "stdout",
     "output_type": "stream",
     "text": [
      "Analysis Completed. Dataset does not contain any feature related to dates. No action needed.\n",
      "                                                                                         \r"
     ]
    },
    {
     "data": {
      "text/html": [
       "Total time to handle date features: 0.00 sec\n"
      ],
      "text/plain": [
       "<IPython.core.display.HTML object>"
      ]
     },
     "metadata": {},
     "output_type": "display_data"
    },
    {
     "name": "stdout",
     "output_type": "stream",
     "text": [
      "                                                                                         \r"
     ]
    },
    {
     "data": {
      "text/html": [
       "\n",
       "Checking Missing values in dataset ..."
      ],
      "text/plain": [
       "<IPython.core.display.HTML object>"
      ]
     },
     "metadata": {},
     "output_type": "display_data"
    },
    {
     "name": "stdout",
     "output_type": "stream",
     "text": [
      "Analysis Completed. No Missing Values Detected.                                          \n",
      "                                                                                         \r"
     ]
    },
    {
     "data": {
      "text/html": [
       "Total time to find missing values in data: 8.95 sec  "
      ],
      "text/plain": [
       "<IPython.core.display.HTML object>"
      ]
     },
     "metadata": {},
     "output_type": "display_data"
    },
    {
     "name": "stdout",
     "output_type": "stream",
     "text": [
      "                                                                                         \r"
     ]
    },
    {
     "data": {
      "text/html": [
       "\n",
       "Imputing Missing Values ..."
      ],
      "text/plain": [
       "<IPython.core.display.HTML object>"
      ]
     },
     "metadata": {},
     "output_type": "display_data"
    },
    {
     "name": "stdout",
     "output_type": "stream",
     "text": [
      "Analysis completed. No imputation required.                                              \n",
      "                                                                                         \r"
     ]
    },
    {
     "data": {
      "text/html": [
       "Time taken to perform imputation: 0.00 sec  "
      ],
      "text/plain": [
       "<IPython.core.display.HTML object>"
      ]
     },
     "metadata": {},
     "output_type": "display_data"
    },
    {
     "name": "stdout",
     "output_type": "stream",
     "text": [
      "                                                                                         \r"
     ]
    },
    {
     "data": {
      "text/html": [
       "\n",
       "Performing encoding for categorical columns ..."
      ],
      "text/plain": [
       "<IPython.core.display.HTML object>"
      ]
     },
     "metadata": {},
     "output_type": "display_data"
    },
    {
     "name": "stdout",
     "output_type": "stream",
     "text": [
      "Analysis completed. No categorical columns were found.                                   \n",
      "                                                                                         \r"
     ]
    },
    {
     "data": {
      "text/html": [
       "Time taken to encode the columns: 1.90 sec"
      ],
      "text/plain": [
       "<IPython.core.display.HTML object>"
      ]
     },
     "metadata": {},
     "output_type": "display_data"
    },
    {
     "name": "stdout",
     "output_type": "stream",
     "text": [
      "                                                                                         \r"
     ]
    },
    {
     "data": {
      "text/html": [
       "\n",
       "            <style>\n",
       "                .custom-div {\n",
       "                    background-color: lightgray;\n",
       "                    color: #000000;\n",
       "                    padding: 10px;\n",
       "                    border-radius: 8px;\n",
       "                    box-shadow: 0 3px 4px rgba(0 -  0 -  0 -  0.2);\n",
       "                    margin-bottom: 10px;\n",
       "                    text-align: center;\n",
       "                }\n",
       "            </style>\n",
       "        <br><div class=\"custom-div\"><h3><span style=\"color: green;\">1. Feature Exploration -> 2. Feature Engineering -></span> 3. Data Preparation -> 4. Model Training & Evaluation<center></h3></center></div>"
      ],
      "text/plain": [
       "<IPython.core.display.HTML object>"
      ]
     },
     "metadata": {},
     "output_type": "display_data"
    },
    {
     "name": "stdout",
     "output_type": "stream",
     "text": [
      "                                                                                         \r"
     ]
    },
    {
     "data": {
      "text/html": [
       "Data preparation started ..."
      ],
      "text/plain": [
       "<IPython.core.display.HTML object>"
      ]
     },
     "metadata": {},
     "output_type": "display_data"
    },
    {
     "name": "stdout",
     "output_type": "stream",
     "text": [
      "                                                                                         \r"
     ]
    },
    {
     "data": {
      "text/html": [
       "\n",
       "Outlier preprocessing ..."
      ],
      "text/plain": [
       "<IPython.core.display.HTML object>"
      ]
     },
     "metadata": {},
     "output_type": "display_data"
    },
    {
     "name": "stdout",
     "output_type": "stream",
     "text": [
      "Columns with outlier percentage :-                                                                                                                                                                                                                                                                                                                                                                                                                                                                                  \n",
      "    ColumnName  OutlierPercentage\n",
      "0  sepal_width           0.833333\n",
      "                                                                                         \r"
     ]
    },
    {
     "data": {
      "text/html": [
       "Deleting rows of these columns:"
      ],
      "text/plain": [
       "<IPython.core.display.HTML object>"
      ]
     },
     "metadata": {},
     "output_type": "display_data"
    },
    {
     "name": "stdout",
     "output_type": "stream",
     "text": [
      "['sepal_width']\n",
      "                                                                                         \r"
     ]
    },
    {
     "data": {
      "text/html": [
       "Sample of dataset after removing outlier rows:"
      ],
      "text/plain": [
       "<IPython.core.display.HTML object>"
      ]
     },
     "metadata": {},
     "output_type": "display_data"
    },
    {
     "data": {
      "text/html": [
       "<style type=\"text/css\">\n",
       "\ttable {border:ridge 5px;}\n",
       "\ttable td {border:inset 1px;}\n",
       "\ttable tr#HeaderRow {background-color:grey; color:white;}</style>\n",
       "<html><table>\n",
       "\t<tr id=\"HeaderRow\">\n",
       "\t\t<th>sepal_length</th>\n",
       "\t\t<th>sepal_width</th>\n",
       "\t\t<th>petal_length</th>\n",
       "\t\t<th>petal_width</th>\n",
       "\t\t<th>species</th>\n",
       "\t\t<th>id</th>\n",
       "\t</tr>\n",
       "\t<tr>\n",
       "\t\t<td>5.4</td>\n",
       "\t\t<td>3.9</td>\n",
       "\t\t<td>1.3</td>\n",
       "\t\t<td>0.4</td>\n",
       "\t\t<td>1</td>\n",
       "\t\t<td>17</td>\n",
       "\t</tr>\n",
       "\t<tr>\n",
       "\t\t<td>7.3</td>\n",
       "\t\t<td>2.9</td>\n",
       "\t\t<td>6.3</td>\n",
       "\t\t<td>1.8</td>\n",
       "\t\t<td>3</td>\n",
       "\t\t<td>55</td>\n",
       "\t</tr>\n",
       "\t<tr>\n",
       "\t\t<td>7.0</td>\n",
       "\t\t<td>3.2</td>\n",
       "\t\t<td>4.7</td>\n",
       "\t\t<td>1.4</td>\n",
       "\t\t<td>2</td>\n",
       "\t\t<td>47</td>\n",
       "\t</tr>\n",
       "\t<tr>\n",
       "\t\t<td>7.4</td>\n",
       "\t\t<td>2.8</td>\n",
       "\t\t<td>6.1</td>\n",
       "\t\t<td>1.9</td>\n",
       "\t\t<td>3</td>\n",
       "\t\t<td>16</td>\n",
       "\t</tr>\n",
       "\t<tr>\n",
       "\t\t<td>7.2</td>\n",
       "\t\t<td>3.6</td>\n",
       "\t\t<td>6.1</td>\n",
       "\t\t<td>2.5</td>\n",
       "\t\t<td>3</td>\n",
       "\t\t<td>34</td>\n",
       "\t</tr>\n",
       "\t<tr>\n",
       "\t\t<td>7.2</td>\n",
       "\t\t<td>3.0</td>\n",
       "\t\t<td>5.8</td>\n",
       "\t\t<td>1.6</td>\n",
       "\t\t<td>3</td>\n",
       "\t\t<td>120</td>\n",
       "\t</tr>\n",
       "\t<tr>\n",
       "\t\t<td>6.7</td>\n",
       "\t\t<td>3.1</td>\n",
       "\t\t<td>4.4</td>\n",
       "\t\t<td>1.4</td>\n",
       "\t\t<td>2</td>\n",
       "\t\t<td>52</td>\n",
       "\t</tr>\n",
       "\t<tr>\n",
       "\t\t<td>6.7</td>\n",
       "\t\t<td>3.3</td>\n",
       "\t\t<td>5.7</td>\n",
       "\t\t<td>2.5</td>\n",
       "\t\t<td>3</td>\n",
       "\t\t<td>144</td>\n",
       "\t</tr>\n",
       "\t<tr>\n",
       "\t\t<td>4.5</td>\n",
       "\t\t<td>2.3</td>\n",
       "\t\t<td>1.3</td>\n",
       "\t\t<td>0.3</td>\n",
       "\t\t<td>1</td>\n",
       "\t\t<td>126</td>\n",
       "\t</tr>\n",
       "\t<tr>\n",
       "\t\t<td>6.1</td>\n",
       "\t\t<td>2.8</td>\n",
       "\t\t<td>4.7</td>\n",
       "\t\t<td>1.2</td>\n",
       "\t\t<td>2</td>\n",
       "\t\t<td>43</td>\n",
       "\t</tr>\n",
       "</table></html>"
      ],
      "text/plain": [
       "              sepal_width  petal_length  petal_width  species   id\n",
       "sepal_length                                                      \n",
       "5.4                   3.9           1.3          0.4        1   17\n",
       "7.3                   2.9           6.3          1.8        3   55\n",
       "7.0                   3.2           4.7          1.4        2   47\n",
       "7.4                   2.8           6.1          1.9        3   16\n",
       "7.2                   3.6           6.1          2.5        3   34\n",
       "7.2                   3.0           5.8          1.6        3  120\n",
       "6.7                   3.1           4.4          1.4        2   52\n",
       "6.7                   3.3           5.7          2.5        3  144\n",
       "4.5                   2.3           1.3          0.3        1  126\n",
       "6.1                   2.8           4.7          1.2        2   43"
      ]
     },
     "metadata": {},
     "output_type": "display_data"
    },
    {
     "name": "stdout",
     "output_type": "stream",
     "text": [
      "                                                                                         \r"
     ]
    },
    {
     "data": {
      "text/html": [
       "119 rows X 6 columns"
      ],
      "text/plain": [
       "<IPython.core.display.HTML object>"
      ]
     },
     "metadata": {},
     "output_type": "display_data"
    },
    {
     "name": "stdout",
     "output_type": "stream",
     "text": [
      "                                                                                         \r"
     ]
    },
    {
     "data": {
      "text/html": [
       "Time Taken by Outlier processing: 44.85 sec "
      ],
      "text/plain": [
       "<IPython.core.display.HTML object>"
      ]
     },
     "metadata": {},
     "output_type": "display_data"
    },
    {
     "name": "stdout",
     "output_type": "stream",
     "text": [
      "                                                                                         \r"
     ]
    },
    {
     "data": {
      "text/html": [
       "\n",
       "Checking imbalance data ..."
      ],
      "text/plain": [
       "<IPython.core.display.HTML object>"
      ]
     },
     "metadata": {},
     "output_type": "display_data"
    },
    {
     "name": "stdout",
     "output_type": "stream",
     "text": [
      "                                                                                         \r"
     ]
    },
    {
     "data": {
      "text/html": [
       "Imbalance Not Found."
      ],
      "text/plain": [
       "<IPython.core.display.HTML object>"
      ]
     },
     "metadata": {},
     "output_type": "display_data"
    },
    {
     "name": "stdout",
     "output_type": "stream",
     "text": [
      "                                                                                         \r"
     ]
    },
    {
     "data": {
      "text/html": [
       "\n",
       "Feature selection using lasso ..."
      ],
      "text/plain": [
       "<IPython.core.display.HTML object>"
      ]
     },
     "metadata": {},
     "output_type": "display_data"
    },
    {
     "name": "stdout",
     "output_type": "stream",
     "text": [
      "                                                                                         \r"
     ]
    },
    {
     "data": {
      "text/html": [
       "feature selected by lasso:"
      ],
      "text/plain": [
       "<IPython.core.display.HTML object>"
      ]
     },
     "metadata": {},
     "output_type": "display_data"
    },
    {
     "name": "stdout",
     "output_type": "stream",
     "text": [
      "['sepal_length', 'sepal_width', 'petal_width', 'petal_length']\n",
      "                                                                                         \r"
     ]
    },
    {
     "data": {
      "text/html": [
       "Total time taken by feature selection: 2.60 sec  "
      ],
      "text/plain": [
       "<IPython.core.display.HTML object>"
      ]
     },
     "metadata": {},
     "output_type": "display_data"
    },
    {
     "name": "stdout",
     "output_type": "stream",
     "text": [
      "                                                                                         \r"
     ]
    },
    {
     "data": {
      "text/html": [
       "\n",
       "scaling Features of lasso data ..."
      ],
      "text/plain": [
       "<IPython.core.display.HTML object>"
      ]
     },
     "metadata": {},
     "output_type": "display_data"
    },
    {
     "name": "stdout",
     "output_type": "stream",
     "text": [
      "                                                                                         \r"
     ]
    },
    {
     "data": {
      "text/html": [
       "columns that will be scaled: "
      ],
      "text/plain": [
       "<IPython.core.display.HTML object>"
      ]
     },
     "metadata": {},
     "output_type": "display_data"
    },
    {
     "name": "stdout",
     "output_type": "stream",
     "text": [
      "['sepal_length', 'sepal_width', 'petal_width', 'petal_length']\n",
      "                                                                                         \r"
     ]
    },
    {
     "data": {
      "text/html": [
       "Dataset sample after scaling:"
      ],
      "text/plain": [
       "<IPython.core.display.HTML object>"
      ]
     },
     "metadata": {},
     "output_type": "display_data"
    },
    {
     "data": {
      "text/html": [
       "<style type=\"text/css\">\n",
       "\ttable {border:ridge 5px;}\n",
       "\ttable td {border:inset 1px;}\n",
       "\ttable tr#HeaderRow {background-color:grey; color:white;}</style>\n",
       "<html><table>\n",
       "\t<tr id=\"HeaderRow\">\n",
       "\t\t<th>species</th>\n",
       "\t\t<th>id</th>\n",
       "\t\t<th>sepal_length</th>\n",
       "\t\t<th>sepal_width</th>\n",
       "\t\t<th>petal_width</th>\n",
       "\t\t<th>petal_length</th>\n",
       "\t</tr>\n",
       "\t<tr>\n",
       "\t\t<td>1</td>\n",
       "\t\t<td>10</td>\n",
       "\t\t<td>0.1999999999999998</td>\n",
       "\t\t<td>0.5999999999999999</td>\n",
       "\t\t<td>0.04166666666666667</td>\n",
       "\t\t<td>0.052631578947368425</td>\n",
       "\t</tr>\n",
       "\t<tr>\n",
       "\t\t<td>2</td>\n",
       "\t\t<td>12</td>\n",
       "\t\t<td>0.3714285714285714</td>\n",
       "\t\t<td>0.19999999999999996</td>\n",
       "\t\t<td>0.375</td>\n",
       "\t\t<td>0.40350877192982454</td>\n",
       "\t</tr>\n",
       "\t<tr>\n",
       "\t\t<td>2</td>\n",
       "\t\t<td>13</td>\n",
       "\t\t<td>0.1999999999999998</td>\n",
       "\t\t<td>0.1499999999999999</td>\n",
       "\t\t<td>0.4166666666666667</td>\n",
       "\t\t<td>0.3157894736842105</td>\n",
       "\t</tr>\n",
       "\t<tr>\n",
       "\t\t<td>3</td>\n",
       "\t\t<td>14</td>\n",
       "\t\t<td>0.6571428571428571</td>\n",
       "\t\t<td>0.44999999999999996</td>\n",
       "\t\t<td>0.9583333333333333</td>\n",
       "\t\t<td>0.7719298245614034</td>\n",
       "\t</tr>\n",
       "\t<tr>\n",
       "\t\t<td>3</td>\n",
       "\t\t<td>16</td>\n",
       "\t\t<td>0.8571428571428571</td>\n",
       "\t\t<td>0.2999999999999998</td>\n",
       "\t\t<td>0.75</td>\n",
       "\t\t<td>0.8596491228070174</td>\n",
       "\t</tr>\n",
       "\t<tr>\n",
       "\t\t<td>1</td>\n",
       "\t\t<td>17</td>\n",
       "\t\t<td>0.2857142857142857</td>\n",
       "\t\t<td>0.8499999999999999</td>\n",
       "\t\t<td>0.12500000000000003</td>\n",
       "\t\t<td>0.017543859649122823</td>\n",
       "\t</tr>\n",
       "\t<tr>\n",
       "\t\t<td>3</td>\n",
       "\t\t<td>15</td>\n",
       "\t\t<td>0.457142857142857</td>\n",
       "\t\t<td>0.3999999999999999</td>\n",
       "\t\t<td>0.7083333333333334</td>\n",
       "\t\t<td>0.631578947368421</td>\n",
       "\t</tr>\n",
       "\t<tr>\n",
       "\t\t<td>3</td>\n",
       "\t\t<td>11</td>\n",
       "\t\t<td>0.34285714285714264</td>\n",
       "\t\t<td>0.2999999999999998</td>\n",
       "\t\t<td>0.7916666666666666</td>\n",
       "\t\t<td>0.6491228070175439</td>\n",
       "\t</tr>\n",
       "\t<tr>\n",
       "\t\t<td>3</td>\n",
       "\t\t<td>9</td>\n",
       "\t\t<td>0.5428571428571427</td>\n",
       "\t\t<td>0.5499999999999998</td>\n",
       "\t\t<td>1.0</td>\n",
       "\t\t<td>0.8421052631578947</td>\n",
       "\t</tr>\n",
       "\t<tr>\n",
       "\t\t<td>2</td>\n",
       "\t\t<td>8</td>\n",
       "\t\t<td>0.39999999999999986</td>\n",
       "\t\t<td>0.19999999999999996</td>\n",
       "\t\t<td>0.4583333333333333</td>\n",
       "\t\t<td>0.49122807017543857</td>\n",
       "\t</tr>\n",
       "</table></html>"
      ],
      "text/plain": [
       "   species  id  sepal_length  sepal_width  petal_width  petal_length\n",
       "0        1  10      0.200000         0.60     0.041667      0.052632\n",
       "1        2  12      0.371429         0.20     0.375000      0.403509\n",
       "2        2  13      0.200000         0.15     0.416667      0.315789\n",
       "3        3  14      0.657143         0.45     0.958333      0.771930\n",
       "4        3  16      0.857143         0.30     0.750000      0.859649\n",
       "5        1  17      0.285714         0.85     0.125000      0.017544\n",
       "6        3  15      0.457143         0.40     0.708333      0.631579\n",
       "7        3  11      0.342857         0.30     0.791667      0.649123\n",
       "8        3   9      0.542857         0.55     1.000000      0.842105\n",
       "9        2   8      0.400000         0.20     0.458333      0.491228"
      ]
     },
     "metadata": {},
     "output_type": "display_data"
    },
    {
     "name": "stdout",
     "output_type": "stream",
     "text": [
      "                                                                                         \r"
     ]
    },
    {
     "data": {
      "text/html": [
       "119 rows X 6 columns"
      ],
      "text/plain": [
       "<IPython.core.display.HTML object>"
      ]
     },
     "metadata": {},
     "output_type": "display_data"
    },
    {
     "name": "stdout",
     "output_type": "stream",
     "text": [
      "                                                                                         \r"
     ]
    },
    {
     "data": {
      "text/html": [
       "Total time taken by feature scaling: 28.92 sec"
      ],
      "text/plain": [
       "<IPython.core.display.HTML object>"
      ]
     },
     "metadata": {},
     "output_type": "display_data"
    },
    {
     "name": "stdout",
     "output_type": "stream",
     "text": [
      "                                                                                          \r"
     ]
    },
    {
     "data": {
      "text/html": [
       "\n",
       "Feature selection using rfe ..."
      ],
      "text/plain": [
       "<IPython.core.display.HTML object>"
      ]
     },
     "metadata": {},
     "output_type": "display_data"
    },
    {
     "name": "stdout",
     "output_type": "stream",
     "text": [
      "                                                                                          \r"
     ]
    },
    {
     "data": {
      "text/html": [
       "feature selected by RFE:"
      ],
      "text/plain": [
       "<IPython.core.display.HTML object>"
      ]
     },
     "metadata": {},
     "output_type": "display_data"
    },
    {
     "name": "stdout",
     "output_type": "stream",
     "text": [
      "['petal_length', 'petal_width']\n",
      "                                                                                          \r"
     ]
    },
    {
     "data": {
      "text/html": [
       "Total time taken by feature selection: 7.59 sec  "
      ],
      "text/plain": [
       "<IPython.core.display.HTML object>"
      ]
     },
     "metadata": {},
     "output_type": "display_data"
    },
    {
     "name": "stdout",
     "output_type": "stream",
     "text": [
      "                                                                                          \r"
     ]
    },
    {
     "data": {
      "text/html": [
       "\n",
       "scaling Features of rfe data ..."
      ],
      "text/plain": [
       "<IPython.core.display.HTML object>"
      ]
     },
     "metadata": {},
     "output_type": "display_data"
    },
    {
     "name": "stdout",
     "output_type": "stream",
     "text": [
      "                                                                                          \r"
     ]
    },
    {
     "data": {
      "text/html": [
       "columns that will be scaled: "
      ],
      "text/plain": [
       "<IPython.core.display.HTML object>"
      ]
     },
     "metadata": {},
     "output_type": "display_data"
    },
    {
     "name": "stdout",
     "output_type": "stream",
     "text": [
      "['r_petal_length', 'r_petal_width']\n",
      "                                                                                          \r"
     ]
    },
    {
     "data": {
      "text/html": [
       "Dataset sample after scaling:"
      ],
      "text/plain": [
       "<IPython.core.display.HTML object>"
      ]
     },
     "metadata": {},
     "output_type": "display_data"
    },
    {
     "data": {
      "text/html": [
       "<style type=\"text/css\">\n",
       "\ttable {border:ridge 5px;}\n",
       "\ttable td {border:inset 1px;}\n",
       "\ttable tr#HeaderRow {background-color:grey; color:white;}</style>\n",
       "<html><table>\n",
       "\t<tr id=\"HeaderRow\">\n",
       "\t\t<th>species</th>\n",
       "\t\t<th>id</th>\n",
       "\t\t<th>r_petal_length</th>\n",
       "\t\t<th>r_petal_width</th>\n",
       "\t</tr>\n",
       "\t<tr>\n",
       "\t\t<td>1</td>\n",
       "\t\t<td>10</td>\n",
       "\t\t<td>0.052631578947368425</td>\n",
       "\t\t<td>0.04166666666666667</td>\n",
       "\t</tr>\n",
       "\t<tr>\n",
       "\t\t<td>2</td>\n",
       "\t\t<td>12</td>\n",
       "\t\t<td>0.40350877192982454</td>\n",
       "\t\t<td>0.375</td>\n",
       "\t</tr>\n",
       "\t<tr>\n",
       "\t\t<td>2</td>\n",
       "\t\t<td>13</td>\n",
       "\t\t<td>0.3157894736842105</td>\n",
       "\t\t<td>0.4166666666666667</td>\n",
       "\t</tr>\n",
       "\t<tr>\n",
       "\t\t<td>3</td>\n",
       "\t\t<td>14</td>\n",
       "\t\t<td>0.7719298245614034</td>\n",
       "\t\t<td>0.9583333333333333</td>\n",
       "\t</tr>\n",
       "\t<tr>\n",
       "\t\t<td>3</td>\n",
       "\t\t<td>16</td>\n",
       "\t\t<td>0.8596491228070174</td>\n",
       "\t\t<td>0.75</td>\n",
       "\t</tr>\n",
       "\t<tr>\n",
       "\t\t<td>1</td>\n",
       "\t\t<td>17</td>\n",
       "\t\t<td>0.017543859649122823</td>\n",
       "\t\t<td>0.12500000000000003</td>\n",
       "\t</tr>\n",
       "\t<tr>\n",
       "\t\t<td>3</td>\n",
       "\t\t<td>15</td>\n",
       "\t\t<td>0.631578947368421</td>\n",
       "\t\t<td>0.7083333333333334</td>\n",
       "\t</tr>\n",
       "\t<tr>\n",
       "\t\t<td>3</td>\n",
       "\t\t<td>11</td>\n",
       "\t\t<td>0.6491228070175439</td>\n",
       "\t\t<td>0.7916666666666666</td>\n",
       "\t</tr>\n",
       "\t<tr>\n",
       "\t\t<td>3</td>\n",
       "\t\t<td>9</td>\n",
       "\t\t<td>0.8421052631578947</td>\n",
       "\t\t<td>1.0</td>\n",
       "\t</tr>\n",
       "\t<tr>\n",
       "\t\t<td>2</td>\n",
       "\t\t<td>8</td>\n",
       "\t\t<td>0.49122807017543857</td>\n",
       "\t\t<td>0.4583333333333333</td>\n",
       "\t</tr>\n",
       "</table></html>"
      ],
      "text/plain": [
       "   species  id  r_petal_length  r_petal_width\n",
       "0        1  10        0.052632       0.041667\n",
       "1        2  12        0.403509       0.375000\n",
       "2        2  13        0.315789       0.416667\n",
       "3        3  14        0.771930       0.958333\n",
       "4        3  16        0.859649       0.750000\n",
       "5        1  17        0.017544       0.125000\n",
       "6        3  15        0.631579       0.708333\n",
       "7        3  11        0.649123       0.791667\n",
       "8        3   9        0.842105       1.000000\n",
       "9        2   8        0.491228       0.458333"
      ]
     },
     "metadata": {},
     "output_type": "display_data"
    },
    {
     "name": "stdout",
     "output_type": "stream",
     "text": [
      "                                                                                          \r"
     ]
    },
    {
     "data": {
      "text/html": [
       "119 rows X 4 columns"
      ],
      "text/plain": [
       "<IPython.core.display.HTML object>"
      ]
     },
     "metadata": {},
     "output_type": "display_data"
    },
    {
     "name": "stdout",
     "output_type": "stream",
     "text": [
      "                                                                                          \r"
     ]
    },
    {
     "data": {
      "text/html": [
       "Total time taken by feature scaling: 25.35 sec"
      ],
      "text/plain": [
       "<IPython.core.display.HTML object>"
      ]
     },
     "metadata": {},
     "output_type": "display_data"
    },
    {
     "name": "stdout",
     "output_type": "stream",
     "text": [
      "                                                                                          \r"
     ]
    },
    {
     "data": {
      "text/html": [
       "\n",
       "scaling Features of pca data ..."
      ],
      "text/plain": [
       "<IPython.core.display.HTML object>"
      ]
     },
     "metadata": {},
     "output_type": "display_data"
    },
    {
     "name": "stdout",
     "output_type": "stream",
     "text": [
      "                                                                                          \r"
     ]
    },
    {
     "data": {
      "text/html": [
       "columns that will be scaled: "
      ],
      "text/plain": [
       "<IPython.core.display.HTML object>"
      ]
     },
     "metadata": {},
     "output_type": "display_data"
    },
    {
     "name": "stdout",
     "output_type": "stream",
     "text": [
      "['sepal_length', 'sepal_width', 'petal_length', 'petal_width']\n",
      "                                                                                          \r"
     ]
    },
    {
     "data": {
      "text/html": [
       "Dataset sample after scaling:"
      ],
      "text/plain": [
       "<IPython.core.display.HTML object>"
      ]
     },
     "metadata": {},
     "output_type": "display_data"
    },
    {
     "data": {
      "text/html": [
       "<style type=\"text/css\">\n",
       "\ttable {border:ridge 5px;}\n",
       "\ttable td {border:inset 1px;}\n",
       "\ttable tr#HeaderRow {background-color:grey; color:white;}</style>\n",
       "<html><table>\n",
       "\t<tr id=\"HeaderRow\">\n",
       "\t\t<th>species</th>\n",
       "\t\t<th>id</th>\n",
       "\t\t<th>sepal_length</th>\n",
       "\t\t<th>sepal_width</th>\n",
       "\t\t<th>petal_length</th>\n",
       "\t\t<th>petal_width</th>\n",
       "\t</tr>\n",
       "\t<tr>\n",
       "\t\t<td>1</td>\n",
       "\t\t<td>17</td>\n",
       "\t\t<td>0.2857142857142857</td>\n",
       "\t\t<td>0.8499999999999999</td>\n",
       "\t\t<td>0.017543859649122823</td>\n",
       "\t\t<td>0.12500000000000003</td>\n",
       "\t</tr>\n",
       "\t<tr>\n",
       "\t\t<td>3</td>\n",
       "\t\t<td>34</td>\n",
       "\t\t<td>0.7999999999999999</td>\n",
       "\t\t<td>0.7</td>\n",
       "\t\t<td>0.8596491228070174</td>\n",
       "\t\t<td>1.0</td>\n",
       "\t</tr>\n",
       "\t<tr>\n",
       "\t\t<td>3</td>\n",
       "\t\t<td>120</td>\n",
       "\t\t<td>0.7999999999999999</td>\n",
       "\t\t<td>0.3999999999999999</td>\n",
       "\t\t<td>0.8070175438596491</td>\n",
       "\t\t<td>0.625</td>\n",
       "\t</tr>\n",
       "\t<tr>\n",
       "\t\t<td>1</td>\n",
       "\t\t<td>126</td>\n",
       "\t\t<td>0.02857142857142847</td>\n",
       "\t\t<td>0.04999999999999982</td>\n",
       "\t\t<td>0.017543859649122823</td>\n",
       "\t\t<td>0.08333333333333333</td>\n",
       "\t</tr>\n",
       "\t<tr>\n",
       "\t\t<td>3</td>\n",
       "\t\t<td>70</td>\n",
       "\t\t<td>0.5428571428571427</td>\n",
       "\t\t<td>0.2999999999999998</td>\n",
       "\t\t<td>0.6842105263157894</td>\n",
       "\t\t<td>0.5833333333333334</td>\n",
       "\t</tr>\n",
       "\t<tr>\n",
       "\t\t<td>2</td>\n",
       "\t\t<td>52</td>\n",
       "\t\t<td>0.6571428571428571</td>\n",
       "\t\t<td>0.44999999999999996</td>\n",
       "\t\t<td>0.5614035087719298</td>\n",
       "\t\t<td>0.5416666666666666</td>\n",
       "\t</tr>\n",
       "\t<tr>\n",
       "\t\t<td>3</td>\n",
       "\t\t<td>144</td>\n",
       "\t\t<td>0.6571428571428571</td>\n",
       "\t\t<td>0.5499999999999998</td>\n",
       "\t\t<td>0.7894736842105263</td>\n",
       "\t\t<td>1.0</td>\n",
       "\t</tr>\n",
       "\t<tr>\n",
       "\t\t<td>2</td>\n",
       "\t\t<td>43</td>\n",
       "\t\t<td>0.4857142857142855</td>\n",
       "\t\t<td>0.2999999999999998</td>\n",
       "\t\t<td>0.6140350877192983</td>\n",
       "\t\t<td>0.4583333333333333</td>\n",
       "\t</tr>\n",
       "\t<tr>\n",
       "\t\t<td>2</td>\n",
       "\t\t<td>84</td>\n",
       "\t\t<td>0.4857142857142855</td>\n",
       "\t\t<td>0.3999999999999999</td>\n",
       "\t\t<td>0.5964912280701753</td>\n",
       "\t\t<td>0.5416666666666666</td>\n",
       "\t</tr>\n",
       "\t<tr>\n",
       "\t\t<td>3</td>\n",
       "\t\t<td>55</td>\n",
       "\t\t<td>0.8285714285714284</td>\n",
       "\t\t<td>0.34999999999999987</td>\n",
       "\t\t<td>0.894736842105263</td>\n",
       "\t\t<td>0.7083333333333334</td>\n",
       "\t</tr>\n",
       "</table></html>"
      ],
      "text/plain": [
       "   species   id  sepal_length  sepal_width  petal_length  petal_width\n",
       "0        1   17      0.285714         0.85      0.017544     0.125000\n",
       "1        3   34      0.800000         0.70      0.859649     1.000000\n",
       "2        3  120      0.800000         0.40      0.807018     0.625000\n",
       "3        1  126      0.028571         0.05      0.017544     0.083333\n",
       "4        3   70      0.542857         0.30      0.684211     0.583333\n",
       "5        2   52      0.657143         0.45      0.561404     0.541667\n",
       "6        3  144      0.657143         0.55      0.789474     1.000000\n",
       "7        2   43      0.485714         0.30      0.614035     0.458333\n",
       "8        2   84      0.485714         0.40      0.596491     0.541667\n",
       "9        3   55      0.828571         0.35      0.894737     0.708333"
      ]
     },
     "metadata": {},
     "output_type": "display_data"
    },
    {
     "name": "stdout",
     "output_type": "stream",
     "text": [
      "                                                                                          \r"
     ]
    },
    {
     "data": {
      "text/html": [
       "119 rows X 6 columns"
      ],
      "text/plain": [
       "<IPython.core.display.HTML object>"
      ]
     },
     "metadata": {},
     "output_type": "display_data"
    },
    {
     "name": "stdout",
     "output_type": "stream",
     "text": [
      "                                                                                          \r"
     ]
    },
    {
     "data": {
      "text/html": [
       "Total time taken by feature scaling: 23.25 sec"
      ],
      "text/plain": [
       "<IPython.core.display.HTML object>"
      ]
     },
     "metadata": {},
     "output_type": "display_data"
    },
    {
     "name": "stdout",
     "output_type": "stream",
     "text": [
      "                                                                                          \r"
     ]
    },
    {
     "data": {
      "text/html": [
       "\n",
       "Dimension Reduction using pca ..."
      ],
      "text/plain": [
       "<IPython.core.display.HTML object>"
      ]
     },
     "metadata": {},
     "output_type": "display_data"
    },
    {
     "name": "stdout",
     "output_type": "stream",
     "text": [
      "                                                                                          \r"
     ]
    },
    {
     "data": {
      "text/html": [
       "PCA columns:"
      ],
      "text/plain": [
       "<IPython.core.display.HTML object>"
      ]
     },
     "metadata": {},
     "output_type": "display_data"
    },
    {
     "name": "stdout",
     "output_type": "stream",
     "text": [
      "['col_0', 'col_1']\n",
      "                                                                                          \r"
     ]
    },
    {
     "data": {
      "text/html": [
       "Total time taken by PCA: 6.86 sec  "
      ],
      "text/plain": [
       "<IPython.core.display.HTML object>"
      ]
     },
     "metadata": {},
     "output_type": "display_data"
    },
    {
     "name": "stdout",
     "output_type": "stream",
     "text": [
      "                                                                                          \r"
     ]
    },
    {
     "data": {
      "text/html": [
       "\n",
       "            <style>\n",
       "                .custom-div {\n",
       "                    background-color: lightgray;\n",
       "                    color: #000000;\n",
       "                    padding: 10px;\n",
       "                    border-radius: 8px;\n",
       "                    box-shadow: 0 3px 4px rgba(0 -  0 -  0 -  0.2);\n",
       "                    margin-bottom: 10px;\n",
       "                    text-align: center;\n",
       "                }\n",
       "            </style>\n",
       "        <br><div class=\"custom-div\"><h3><span style=\"color: green;\">1. Feature Exploration -> 2. Feature Engineering -> 3. Data Preparation -></span> 4. Model Training & Evaluation<center></h3></center></div>"
      ],
      "text/plain": [
       "<IPython.core.display.HTML object>"
      ]
     },
     "metadata": {},
     "output_type": "display_data"
    },
    {
     "name": "stdout",
     "output_type": "stream",
     "text": [
      "                                                                                          \r"
     ]
    },
    {
     "data": {
      "text/html": [
       "Model Training started ..."
      ],
      "text/plain": [
       "<IPython.core.display.HTML object>"
      ]
     },
     "metadata": {},
     "output_type": "display_data"
    },
    {
     "name": "stdout",
     "output_type": "stream",
     "text": [
      "                                                                                          \r"
     ]
    },
    {
     "data": {
      "text/html": [
       "\n",
       "Hyperparameters used for model training: "
      ],
      "text/plain": [
       "<IPython.core.display.HTML object>"
      ]
     },
     "metadata": {},
     "output_type": "display_data"
    },
    {
     "name": "stdout",
     "output_type": "stream",
     "text": [
      "response_column : species                                                                                                                             \n",
      "name : xgboost\n",
      "model_type : Classification\n",
      "column_sampling : (1, 0.6)\n",
      "min_impurity : (0.0, 0.1)\n",
      "lambda1 : (0.01, 0.1, 1, 10)\n",
      "shrinkage_factor : (0.5, 0.1, 0.2)\n",
      "max_depth : (5, 6, 7, 8)\n",
      "min_node_size : (1, 2)\n",
      "iter_num : (10, 20)\n",
      "seed : 42\n",
      "Total number of models for xgboost : 768\n",
      "--------------------------------------------------------------------------------------------------------------------------------------------------------------------------------------------------------\n",
      "\n",
      "                                                                                          \r"
     ]
    },
    {
     "data": {
      "text/html": [
       "\n",
       "Performing hyperparameter tuning ..."
      ],
      "text/plain": [
       "<IPython.core.display.HTML object>"
      ]
     },
     "metadata": {},
     "output_type": "display_data"
    },
    {
     "name": "stdout",
     "output_type": "stream",
     "text": [
      "                                                                                          \r"
     ]
    },
    {
     "data": {
      "text/html": [
       "xgboost"
      ],
      "text/plain": [
       "<IPython.core.display.HTML object>"
      ]
     },
     "metadata": {},
     "output_type": "display_data"
    },
    {
     "name": "stdout",
     "output_type": "stream",
     "text": [
      "                                                                                                                                                                                                        \r"
     ]
    },
    {
     "data": {
      "text/html": [
       "----------------------------------------------------------------------------------------------------"
      ],
      "text/plain": [
       "<IPython.core.display.HTML object>"
      ]
     },
     "metadata": {},
     "output_type": "display_data"
    },
    {
     "name": "stdout",
     "output_type": "stream",
     "text": [
      "                                                                                          \r"
     ]
    },
    {
     "data": {
      "text/html": [
       "Leaderboard"
      ],
      "text/plain": [
       "<IPython.core.display.HTML object>"
      ]
     },
     "metadata": {},
     "output_type": "display_data"
    },
    {
     "data": {
      "text/html": [
       "<div>\n",
       "<style scoped>\n",
       "    .dataframe tbody tr th:only-of-type {\n",
       "        vertical-align: middle;\n",
       "    }\n",
       "\n",
       "    .dataframe tbody tr th {\n",
       "        vertical-align: top;\n",
       "    }\n",
       "\n",
       "    .dataframe thead th {\n",
       "        text-align: right;\n",
       "    }\n",
       "</style>\n",
       "<table border=\"1\" class=\"dataframe\">\n",
       "  <thead>\n",
       "    <tr style=\"text-align: right;\">\n",
       "      <th></th>\n",
       "      <th>RANK</th>\n",
       "      <th>MODEL_ID</th>\n",
       "      <th>FEATURE_SELECTION</th>\n",
       "      <th>ACCURACY</th>\n",
       "      <th>MICRO-PRECISION</th>\n",
       "      <th>MICRO-RECALL</th>\n",
       "      <th>MICRO-F1</th>\n",
       "      <th>MACRO-PRECISION</th>\n",
       "      <th>MACRO-RECALL</th>\n",
       "      <th>MACRO-F1</th>\n",
       "      <th>WEIGHTED-PRECISION</th>\n",
       "      <th>WEIGHTED-RECALL</th>\n",
       "      <th>WEIGHTED-F1</th>\n",
       "    </tr>\n",
       "  </thead>\n",
       "  <tbody>\n",
       "    <tr>\n",
       "      <th>0</th>\n",
       "      <td>1</td>\n",
       "      <td>XGBOOST_1</td>\n",
       "      <td>lasso</td>\n",
       "      <td>0.916667</td>\n",
       "      <td>0.916667</td>\n",
       "      <td>0.916667</td>\n",
       "      <td>0.916667</td>\n",
       "      <td>0.939394</td>\n",
       "      <td>0.916667</td>\n",
       "      <td>0.919048</td>\n",
       "      <td>0.931818</td>\n",
       "      <td>0.916667</td>\n",
       "      <td>0.914881</td>\n",
       "    </tr>\n",
       "    <tr>\n",
       "      <th>1</th>\n",
       "      <td>2</td>\n",
       "      <td>XGBOOST_2</td>\n",
       "      <td>rfe</td>\n",
       "      <td>0.916667</td>\n",
       "      <td>0.916667</td>\n",
       "      <td>0.916667</td>\n",
       "      <td>0.916667</td>\n",
       "      <td>0.939394</td>\n",
       "      <td>0.916667</td>\n",
       "      <td>0.919048</td>\n",
       "      <td>0.931818</td>\n",
       "      <td>0.916667</td>\n",
       "      <td>0.914881</td>\n",
       "    </tr>\n",
       "    <tr>\n",
       "      <th>2</th>\n",
       "      <td>3</td>\n",
       "      <td>XGBOOST_3</td>\n",
       "      <td>rfe</td>\n",
       "      <td>0.916667</td>\n",
       "      <td>0.916667</td>\n",
       "      <td>0.916667</td>\n",
       "      <td>0.916667</td>\n",
       "      <td>0.939394</td>\n",
       "      <td>0.916667</td>\n",
       "      <td>0.919048</td>\n",
       "      <td>0.931818</td>\n",
       "      <td>0.916667</td>\n",
       "      <td>0.914881</td>\n",
       "    </tr>\n",
       "    <tr>\n",
       "      <th>3</th>\n",
       "      <td>4</td>\n",
       "      <td>XGBOOST_5</td>\n",
       "      <td>pca</td>\n",
       "      <td>0.916667</td>\n",
       "      <td>0.916667</td>\n",
       "      <td>0.916667</td>\n",
       "      <td>0.916667</td>\n",
       "      <td>0.939394</td>\n",
       "      <td>0.916667</td>\n",
       "      <td>0.919048</td>\n",
       "      <td>0.931818</td>\n",
       "      <td>0.916667</td>\n",
       "      <td>0.914881</td>\n",
       "    </tr>\n",
       "    <tr>\n",
       "      <th>4</th>\n",
       "      <td>5</td>\n",
       "      <td>XGBOOST_4</td>\n",
       "      <td>pca</td>\n",
       "      <td>0.916667</td>\n",
       "      <td>0.916667</td>\n",
       "      <td>0.916667</td>\n",
       "      <td>0.916667</td>\n",
       "      <td>0.939394</td>\n",
       "      <td>0.916667</td>\n",
       "      <td>0.919048</td>\n",
       "      <td>0.931818</td>\n",
       "      <td>0.916667</td>\n",
       "      <td>0.914881</td>\n",
       "    </tr>\n",
       "  </tbody>\n",
       "</table>\n",
       "</div>"
      ],
      "text/plain": [
       "   RANK   MODEL_ID FEATURE_SELECTION  ACCURACY  MICRO-PRECISION  MICRO-RECALL  \\\n",
       "0     1  XGBOOST_1             lasso  0.916667         0.916667      0.916667   \n",
       "1     2  XGBOOST_2               rfe  0.916667         0.916667      0.916667   \n",
       "2     3  XGBOOST_3               rfe  0.916667         0.916667      0.916667   \n",
       "3     4  XGBOOST_5               pca  0.916667         0.916667      0.916667   \n",
       "4     5  XGBOOST_4               pca  0.916667         0.916667      0.916667   \n",
       "\n",
       "   MICRO-F1  MACRO-PRECISION  MACRO-RECALL  MACRO-F1  WEIGHTED-PRECISION  \\\n",
       "0  0.916667         0.939394      0.916667  0.919048            0.931818   \n",
       "1  0.916667         0.939394      0.916667  0.919048            0.931818   \n",
       "2  0.916667         0.939394      0.916667  0.919048            0.931818   \n",
       "3  0.916667         0.939394      0.916667  0.919048            0.931818   \n",
       "4  0.916667         0.939394      0.916667  0.919048            0.931818   \n",
       "\n",
       "   WEIGHTED-RECALL  WEIGHTED-F1  \n",
       "0         0.916667     0.914881  \n",
       "1         0.916667     0.914881  \n",
       "2         0.916667     0.914881  \n",
       "3         0.916667     0.914881  \n",
       "4         0.916667     0.914881  "
      ]
     },
     "metadata": {},
     "output_type": "display_data"
    },
    {
     "name": "stdout",
     "output_type": "stream",
     "text": [
      "                                                                                          \r"
     ]
    },
    {
     "data": {
      "text/html": [
       "5 rows X 13 columns"
      ],
      "text/plain": [
       "<IPython.core.display.HTML object>"
      ]
     },
     "metadata": {},
     "output_type": "display_data"
    },
    {
     "name": "stdout",
     "output_type": "stream",
     "text": [
      "                                                                                          \r"
     ]
    },
    {
     "data": {
      "text/html": [
       "\n",
       "            <style>\n",
       "                .custom-div {\n",
       "                    background-color: lightgray;\n",
       "                    color: #000000;\n",
       "                    padding: 10px;\n",
       "                    border-radius: 8px;\n",
       "                    box-shadow: 0 3px 4px rgba(0 -  0 -  0 -  0.2);\n",
       "                    margin-bottom: 10px;\n",
       "                    text-align: center;\n",
       "                }\n",
       "            </style>\n",
       "        <br><div class=\"custom-div\"><h3><span style=\"color: green;\">1. Feature Exploration -> 2. Feature Engineering -> 3. Data Preparation -> 4. Model Training & Evaluation</span><center></h3></center></div>"
      ],
      "text/plain": [
       "<IPython.core.display.HTML object>"
      ]
     },
     "metadata": {},
     "output_type": "display_data"
    },
    {
     "name": "stdout",
     "output_type": "stream",
     "text": [
      "Completed: ｜⫿⫿⫿⫿⫿⫿⫿⫿⫿⫿⫿⫿⫿⫿⫿⫿⫿⫿⫿⫿⫿⫿⫿⫿⫿⫿⫿⫿⫿⫿⫿⫿⫿⫿⫿⫿⫿⫿⫿⫿⫿⫿⫿⫿⫿⫿⫿⫿⫿⫿⫿⫿⫿⫿⫿⫿⫿⫿⫿⫿｜ 100% - 14/14    \r"
     ]
    }
   ],
   "source": [
    "# Fitting train data\n",
    "aml.fit(iris_train, iris_train.species)"
   ]
  },
  {
   "cell_type": "markdown",
   "id": "23a04eb1-68e6-48b7-95aa-442f434809da",
   "metadata": {},
   "source": [
    "## <b><span style='color:#F1A424'>| 3.</span> Leaderboard : </b>"
   ]
  },
  {
   "cell_type": "code",
   "execution_count": 17,
   "id": "77de1099-6122-4f8a-8e7f-dd67e5b4ced4",
   "metadata": {},
   "outputs": [
    {
     "data": {
      "text/html": [
       "<div>\n",
       "<style scoped>\n",
       "    .dataframe tbody tr th:only-of-type {\n",
       "        vertical-align: middle;\n",
       "    }\n",
       "\n",
       "    .dataframe tbody tr th {\n",
       "        vertical-align: top;\n",
       "    }\n",
       "\n",
       "    .dataframe thead th {\n",
       "        text-align: right;\n",
       "    }\n",
       "</style>\n",
       "<table border=\"1\" class=\"dataframe\">\n",
       "  <thead>\n",
       "    <tr style=\"text-align: right;\">\n",
       "      <th></th>\n",
       "      <th>RANK</th>\n",
       "      <th>MODEL_ID</th>\n",
       "      <th>FEATURE_SELECTION</th>\n",
       "      <th>ACCURACY</th>\n",
       "      <th>MICRO-PRECISION</th>\n",
       "      <th>MICRO-RECALL</th>\n",
       "      <th>MICRO-F1</th>\n",
       "      <th>MACRO-PRECISION</th>\n",
       "      <th>MACRO-RECALL</th>\n",
       "      <th>MACRO-F1</th>\n",
       "      <th>WEIGHTED-PRECISION</th>\n",
       "      <th>WEIGHTED-RECALL</th>\n",
       "      <th>WEIGHTED-F1</th>\n",
       "    </tr>\n",
       "  </thead>\n",
       "  <tbody>\n",
       "    <tr>\n",
       "      <th>0</th>\n",
       "      <td>1</td>\n",
       "      <td>XGBOOST_1</td>\n",
       "      <td>lasso</td>\n",
       "      <td>0.916667</td>\n",
       "      <td>0.916667</td>\n",
       "      <td>0.916667</td>\n",
       "      <td>0.916667</td>\n",
       "      <td>0.939394</td>\n",
       "      <td>0.916667</td>\n",
       "      <td>0.919048</td>\n",
       "      <td>0.931818</td>\n",
       "      <td>0.916667</td>\n",
       "      <td>0.914881</td>\n",
       "    </tr>\n",
       "    <tr>\n",
       "      <th>1</th>\n",
       "      <td>2</td>\n",
       "      <td>XGBOOST_2</td>\n",
       "      <td>rfe</td>\n",
       "      <td>0.916667</td>\n",
       "      <td>0.916667</td>\n",
       "      <td>0.916667</td>\n",
       "      <td>0.916667</td>\n",
       "      <td>0.939394</td>\n",
       "      <td>0.916667</td>\n",
       "      <td>0.919048</td>\n",
       "      <td>0.931818</td>\n",
       "      <td>0.916667</td>\n",
       "      <td>0.914881</td>\n",
       "    </tr>\n",
       "    <tr>\n",
       "      <th>2</th>\n",
       "      <td>3</td>\n",
       "      <td>XGBOOST_3</td>\n",
       "      <td>rfe</td>\n",
       "      <td>0.916667</td>\n",
       "      <td>0.916667</td>\n",
       "      <td>0.916667</td>\n",
       "      <td>0.916667</td>\n",
       "      <td>0.939394</td>\n",
       "      <td>0.916667</td>\n",
       "      <td>0.919048</td>\n",
       "      <td>0.931818</td>\n",
       "      <td>0.916667</td>\n",
       "      <td>0.914881</td>\n",
       "    </tr>\n",
       "    <tr>\n",
       "      <th>3</th>\n",
       "      <td>4</td>\n",
       "      <td>XGBOOST_5</td>\n",
       "      <td>pca</td>\n",
       "      <td>0.916667</td>\n",
       "      <td>0.916667</td>\n",
       "      <td>0.916667</td>\n",
       "      <td>0.916667</td>\n",
       "      <td>0.939394</td>\n",
       "      <td>0.916667</td>\n",
       "      <td>0.919048</td>\n",
       "      <td>0.931818</td>\n",
       "      <td>0.916667</td>\n",
       "      <td>0.914881</td>\n",
       "    </tr>\n",
       "    <tr>\n",
       "      <th>4</th>\n",
       "      <td>5</td>\n",
       "      <td>XGBOOST_4</td>\n",
       "      <td>pca</td>\n",
       "      <td>0.916667</td>\n",
       "      <td>0.916667</td>\n",
       "      <td>0.916667</td>\n",
       "      <td>0.916667</td>\n",
       "      <td>0.939394</td>\n",
       "      <td>0.916667</td>\n",
       "      <td>0.919048</td>\n",
       "      <td>0.931818</td>\n",
       "      <td>0.916667</td>\n",
       "      <td>0.914881</td>\n",
       "    </tr>\n",
       "  </tbody>\n",
       "</table>\n",
       "</div>"
      ],
      "text/plain": [
       "   RANK   MODEL_ID FEATURE_SELECTION  ACCURACY  MICRO-PRECISION  MICRO-RECALL  \\\n",
       "0     1  XGBOOST_1             lasso  0.916667         0.916667      0.916667   \n",
       "1     2  XGBOOST_2               rfe  0.916667         0.916667      0.916667   \n",
       "2     3  XGBOOST_3               rfe  0.916667         0.916667      0.916667   \n",
       "3     4  XGBOOST_5               pca  0.916667         0.916667      0.916667   \n",
       "4     5  XGBOOST_4               pca  0.916667         0.916667      0.916667   \n",
       "\n",
       "   MICRO-F1  MACRO-PRECISION  MACRO-RECALL  MACRO-F1  WEIGHTED-PRECISION  \\\n",
       "0  0.916667         0.939394      0.916667  0.919048            0.931818   \n",
       "1  0.916667         0.939394      0.916667  0.919048            0.931818   \n",
       "2  0.916667         0.939394      0.916667  0.919048            0.931818   \n",
       "3  0.916667         0.939394      0.916667  0.919048            0.931818   \n",
       "4  0.916667         0.939394      0.916667  0.919048            0.931818   \n",
       "\n",
       "   WEIGHTED-RECALL  WEIGHTED-F1  \n",
       "0         0.916667     0.914881  \n",
       "1         0.916667     0.914881  \n",
       "2         0.916667     0.914881  \n",
       "3         0.916667     0.914881  \n",
       "4         0.916667     0.914881  "
      ]
     },
     "execution_count": 17,
     "metadata": {},
     "output_type": "execute_result"
    }
   ],
   "source": [
    "# Fetching Leaderboard\n",
    "aml.leaderboard()"
   ]
  },
  {
   "cell_type": "markdown",
   "id": "a7a3aa08-e349-4a61-9217-2c17d50411d8",
   "metadata": {},
   "source": [
    "## <b><span style='color:#F1A424'>| 4.</span> Best Performing Model : </b>"
   ]
  },
  {
   "cell_type": "code",
   "execution_count": 18,
   "id": "c4c32832-a76b-4f42-826a-cefc38a6301b",
   "metadata": {},
   "outputs": [
    {
     "data": {
      "text/html": [
       "<div>\n",
       "<style scoped>\n",
       "    .dataframe tbody tr th:only-of-type {\n",
       "        vertical-align: middle;\n",
       "    }\n",
       "\n",
       "    .dataframe tbody tr th {\n",
       "        vertical-align: top;\n",
       "    }\n",
       "\n",
       "    .dataframe thead th {\n",
       "        text-align: right;\n",
       "    }\n",
       "</style>\n",
       "<table border=\"1\" class=\"dataframe\">\n",
       "  <thead>\n",
       "    <tr style=\"text-align: right;\">\n",
       "      <th></th>\n",
       "      <th>RANK</th>\n",
       "      <th>MODEL_ID</th>\n",
       "      <th>FEATURE_SELECTION</th>\n",
       "      <th>ACCURACY</th>\n",
       "      <th>MICRO-PRECISION</th>\n",
       "      <th>MICRO-RECALL</th>\n",
       "      <th>MICRO-F1</th>\n",
       "      <th>MACRO-PRECISION</th>\n",
       "      <th>MACRO-RECALL</th>\n",
       "      <th>MACRO-F1</th>\n",
       "      <th>WEIGHTED-PRECISION</th>\n",
       "      <th>WEIGHTED-RECALL</th>\n",
       "      <th>WEIGHTED-F1</th>\n",
       "    </tr>\n",
       "  </thead>\n",
       "  <tbody>\n",
       "    <tr>\n",
       "      <th>0</th>\n",
       "      <td>1</td>\n",
       "      <td>XGBOOST_1</td>\n",
       "      <td>lasso</td>\n",
       "      <td>0.916667</td>\n",
       "      <td>0.916667</td>\n",
       "      <td>0.916667</td>\n",
       "      <td>0.916667</td>\n",
       "      <td>0.939394</td>\n",
       "      <td>0.916667</td>\n",
       "      <td>0.919048</td>\n",
       "      <td>0.931818</td>\n",
       "      <td>0.916667</td>\n",
       "      <td>0.914881</td>\n",
       "    </tr>\n",
       "  </tbody>\n",
       "</table>\n",
       "</div>"
      ],
      "text/plain": [
       "   RANK   MODEL_ID FEATURE_SELECTION  ACCURACY  MICRO-PRECISION  MICRO-RECALL  \\\n",
       "0     1  XGBOOST_1             lasso  0.916667         0.916667      0.916667   \n",
       "\n",
       "   MICRO-F1  MACRO-PRECISION  MACRO-RECALL  MACRO-F1  WEIGHTED-PRECISION  \\\n",
       "0  0.916667         0.939394      0.916667  0.919048            0.931818   \n",
       "\n",
       "   WEIGHTED-RECALL  WEIGHTED-F1  \n",
       "0         0.916667     0.914881  "
      ]
     },
     "metadata": {},
     "output_type": "display_data"
    }
   ],
   "source": [
    "# Fetching best performing model for dataset\n",
    "aml.leader()"
   ]
  },
  {
   "cell_type": "markdown",
   "id": "c882cc81-054b-4896-8a36-53afdc562e20",
   "metadata": {},
   "source": [
    "## <b><span style='color:#F1A424'>| 5.</span> Get Hyperparameter for Trained Model : </b>"
   ]
  },
  {
   "cell_type": "code",
   "execution_count": 19,
   "id": "7c0e5280-d43c-4db9-b177-235e01c1abc9",
   "metadata": {},
   "outputs": [
    {
     "data": {
      "text/plain": [
       "{'response_column': 'species',\n",
       " 'name': 'xgboost',\n",
       " 'model_type': 'Classification',\n",
       " 'column_sampling': 1,\n",
       " 'min_impurity': 0.0,\n",
       " 'lambda1': 0.01,\n",
       " 'shrinkage_factor': 0.1,\n",
       " 'max_depth': 7,\n",
       " 'min_node_size': 1,\n",
       " 'iter_num': 20,\n",
       " 'seed': 42,\n",
       " 'persist': False,\n",
       " 'output_prob': True,\n",
       " 'output_responses': ['1', '3', '2'],\n",
       " 'max_models': 2}"
      ]
     },
     "execution_count": 19,
     "metadata": {},
     "output_type": "execute_result"
    }
   ],
   "source": [
    "aml.model_hyperparameters(rank=2)"
   ]
  },
  {
   "cell_type": "code",
   "execution_count": 20,
   "id": "72c19286-d88e-4c2b-b0a4-19e8d65bc6ad",
   "metadata": {
    "tags": []
   },
   "outputs": [
    {
     "data": {
      "text/plain": [
       "{'response_column': 'species',\n",
       " 'name': 'xgboost',\n",
       " 'model_type': 'Classification',\n",
       " 'column_sampling': 1,\n",
       " 'min_impurity': 0.1,\n",
       " 'lambda1': 0.1,\n",
       " 'shrinkage_factor': 0.5,\n",
       " 'max_depth': 7,\n",
       " 'min_node_size': 2,\n",
       " 'iter_num': 10,\n",
       " 'seed': 42,\n",
       " 'persist': False,\n",
       " 'output_prob': True,\n",
       " 'output_responses': ['1', '3', '2'],\n",
       " 'max_models': 2}"
      ]
     },
     "execution_count": 20,
     "metadata": {},
     "output_type": "execute_result"
    }
   ],
   "source": [
    "aml.model_hyperparameters(rank=4)"
   ]
  },
  {
   "cell_type": "markdown",
   "id": "79886d04-7bbb-46c8-9cee-7f3286c09ca3",
   "metadata": {},
   "source": [
    "## <b><span style='color:#F1A424'>| 6.</span> Generate Prediction and Performance Metrics : </b>"
   ]
  },
  {
   "cell_type": "code",
   "execution_count": 21,
   "id": "5b6edfe3-bd5a-46bd-ad80-b20fadfed7a0",
   "metadata": {
    "tags": []
   },
   "outputs": [
    {
     "name": "stdout",
     "output_type": "stream",
     "text": [
      "Data Transformation started ...\n",
      "                                                                                                \r"
     ]
    },
    {
     "data": {
      "text/html": [
       "Performing transformation carried out in feature engineering phase ..."
      ],
      "text/plain": [
       "<IPython.core.display.HTML object>"
      ]
     },
     "metadata": {},
     "output_type": "display_data"
    },
    {
     "name": "stdout",
     "output_type": "stream",
     "text": [
      "                                                                                                \r"
     ]
    },
    {
     "data": {
      "text/html": [
       "\n",
       "Updated dataset after dropping irrelevent columns :"
      ],
      "text/plain": [
       "<IPython.core.display.HTML object>"
      ]
     },
     "metadata": {},
     "output_type": "display_data"
    },
    {
     "data": {
      "text/html": [
       "<style type=\"text/css\">\n",
       "\ttable {border:ridge 5px;}\n",
       "\ttable td {border:inset 1px;}\n",
       "\ttable tr#HeaderRow {background-color:grey; color:white;}</style>\n",
       "<html><table>\n",
       "\t<tr id=\"HeaderRow\">\n",
       "\t\t<th>sepal_length</th>\n",
       "\t\t<th>sepal_width</th>\n",
       "\t\t<th>petal_length</th>\n",
       "\t\t<th>petal_width</th>\n",
       "\t\t<th>species</th>\n",
       "\t</tr>\n",
       "\t<tr>\n",
       "\t\t<td>5.9</td>\n",
       "\t\t<td>3.0</td>\n",
       "\t\t<td>5.1</td>\n",
       "\t\t<td>1.8</td>\n",
       "\t\t<td>3</td>\n",
       "\t</tr>\n",
       "\t<tr>\n",
       "\t\t<td>6.9</td>\n",
       "\t\t<td>3.1</td>\n",
       "\t\t<td>4.9</td>\n",
       "\t\t<td>1.5</td>\n",
       "\t\t<td>2</td>\n",
       "\t</tr>\n",
       "\t<tr>\n",
       "\t\t<td>5.6</td>\n",
       "\t\t<td>2.5</td>\n",
       "\t\t<td>3.9</td>\n",
       "\t\t<td>1.1</td>\n",
       "\t\t<td>2</td>\n",
       "\t</tr>\n",
       "\t<tr>\n",
       "\t\t<td>5.7</td>\n",
       "\t\t<td>2.5</td>\n",
       "\t\t<td>5.0</td>\n",
       "\t\t<td>2.0</td>\n",
       "\t\t<td>3</td>\n",
       "\t</tr>\n",
       "\t<tr>\n",
       "\t\t<td>6.6</td>\n",
       "\t\t<td>3.0</td>\n",
       "\t\t<td>4.4</td>\n",
       "\t\t<td>1.4</td>\n",
       "\t\t<td>2</td>\n",
       "\t</tr>\n",
       "\t<tr>\n",
       "\t\t<td>5.0</td>\n",
       "\t\t<td>3.0</td>\n",
       "\t\t<td>1.6</td>\n",
       "\t\t<td>0.2</td>\n",
       "\t\t<td>1</td>\n",
       "\t</tr>\n",
       "\t<tr>\n",
       "\t\t<td>5.0</td>\n",
       "\t\t<td>2.0</td>\n",
       "\t\t<td>3.5</td>\n",
       "\t\t<td>1.0</td>\n",
       "\t\t<td>2</td>\n",
       "\t</tr>\n",
       "\t<tr>\n",
       "\t\t<td>5.0</td>\n",
       "\t\t<td>3.2</td>\n",
       "\t\t<td>1.2</td>\n",
       "\t\t<td>0.2</td>\n",
       "\t\t<td>1</td>\n",
       "\t</tr>\n",
       "\t<tr>\n",
       "\t\t<td>6.7</td>\n",
       "\t\t<td>3.0</td>\n",
       "\t\t<td>5.0</td>\n",
       "\t\t<td>1.7</td>\n",
       "\t\t<td>2</td>\n",
       "\t</tr>\n",
       "\t<tr>\n",
       "\t\t<td>5.7</td>\n",
       "\t\t<td>2.9</td>\n",
       "\t\t<td>4.2</td>\n",
       "\t\t<td>1.3</td>\n",
       "\t\t<td>2</td>\n",
       "\t</tr>\n",
       "</table></html>"
      ],
      "text/plain": [
       "   sepal_length  sepal_width  petal_length  petal_width  species\n",
       "0           5.9          3.0           5.1          1.8        3\n",
       "1           6.9          3.1           4.9          1.5        2\n",
       "2           5.6          2.5           3.9          1.1        2\n",
       "3           5.7          2.5           5.0          2.0        3\n",
       "4           6.6          3.0           4.4          1.4        2\n",
       "5           5.0          3.0           1.6          0.2        1\n",
       "6           5.0          2.0           3.5          1.0        2\n",
       "7           5.0          3.2           1.2          0.2        1\n",
       "8           6.7          3.0           5.0          1.7        2\n",
       "9           5.7          2.9           4.2          1.3        2"
      ]
     },
     "metadata": {},
     "output_type": "display_data"
    },
    {
     "name": "stdout",
     "output_type": "stream",
     "text": [
      "                                                                                                \r"
     ]
    },
    {
     "data": {
      "text/html": [
       "30 rows X 5 columns"
      ],
      "text/plain": [
       "<IPython.core.display.HTML object>"
      ]
     },
     "metadata": {},
     "output_type": "display_data"
    },
    {
     "name": "stdout",
     "output_type": "stream",
     "text": [
      "                                                                                                 \r"
     ]
    },
    {
     "data": {
      "text/html": [
       "\n",
       "Updated dataset after performing target column transformation :"
      ],
      "text/plain": [
       "<IPython.core.display.HTML object>"
      ]
     },
     "metadata": {},
     "output_type": "display_data"
    },
    {
     "data": {
      "text/html": [
       "<style type=\"text/css\">\n",
       "\ttable {border:ridge 5px;}\n",
       "\ttable td {border:inset 1px;}\n",
       "\ttable tr#HeaderRow {background-color:grey; color:white;}</style>\n",
       "<html><table>\n",
       "\t<tr id=\"HeaderRow\">\n",
       "\t\t<th>sepal_width</th>\n",
       "\t\t<th>sepal_length</th>\n",
       "\t\t<th>petal_width</th>\n",
       "\t\t<th>id</th>\n",
       "\t\t<th>petal_length</th>\n",
       "\t\t<th>species</th>\n",
       "\t</tr>\n",
       "\t<tr>\n",
       "\t\t<td>3.7</td>\n",
       "\t\t<td>5.4</td>\n",
       "\t\t<td>0.2</td>\n",
       "\t\t<td>9</td>\n",
       "\t\t<td>1.5</td>\n",
       "\t\t<td>1</td>\n",
       "\t</tr>\n",
       "\t<tr>\n",
       "\t\t<td>3.0</td>\n",
       "\t\t<td>5.9</td>\n",
       "\t\t<td>1.8</td>\n",
       "\t\t<td>10</td>\n",
       "\t\t<td>5.1</td>\n",
       "\t\t<td>3</td>\n",
       "\t</tr>\n",
       "\t<tr>\n",
       "\t\t<td>3.4</td>\n",
       "\t\t<td>4.6</td>\n",
       "\t\t<td>0.3</td>\n",
       "\t\t<td>18</td>\n",
       "\t\t<td>1.4</td>\n",
       "\t\t<td>1</td>\n",
       "\t</tr>\n",
       "\t<tr>\n",
       "\t\t<td>3.1</td>\n",
       "\t\t<td>6.9</td>\n",
       "\t\t<td>1.5</td>\n",
       "\t\t<td>11</td>\n",
       "\t\t<td>4.9</td>\n",
       "\t\t<td>2</td>\n",
       "\t</tr>\n",
       "\t<tr>\n",
       "\t\t<td>3.0</td>\n",
       "\t\t<td>6.5</td>\n",
       "\t\t<td>1.8</td>\n",
       "\t\t<td>13</td>\n",
       "\t\t<td>5.5</td>\n",
       "\t\t<td>3</td>\n",
       "\t</tr>\n",
       "\t<tr>\n",
       "\t\t<td>3.2</td>\n",
       "\t\t<td>4.6</td>\n",
       "\t\t<td>0.2</td>\n",
       "\t\t<td>21</td>\n",
       "\t\t<td>1.4</td>\n",
       "\t\t<td>1</td>\n",
       "\t</tr>\n",
       "\t<tr>\n",
       "\t\t<td>2.0</td>\n",
       "\t\t<td>5.0</td>\n",
       "\t\t<td>1.0</td>\n",
       "\t\t<td>14</td>\n",
       "\t\t<td>3.5</td>\n",
       "\t\t<td>2</td>\n",
       "\t</tr>\n",
       "\t<tr>\n",
       "\t\t<td>3.2</td>\n",
       "\t\t<td>5.0</td>\n",
       "\t\t<td>0.2</td>\n",
       "\t\t<td>22</td>\n",
       "\t\t<td>1.2</td>\n",
       "\t\t<td>1</td>\n",
       "\t</tr>\n",
       "\t<tr>\n",
       "\t\t<td>3.0</td>\n",
       "\t\t<td>6.7</td>\n",
       "\t\t<td>1.7</td>\n",
       "\t\t<td>15</td>\n",
       "\t\t<td>5.0</td>\n",
       "\t\t<td>2</td>\n",
       "\t</tr>\n",
       "\t<tr>\n",
       "\t\t<td>2.9</td>\n",
       "\t\t<td>5.7</td>\n",
       "\t\t<td>1.3</td>\n",
       "\t\t<td>23</td>\n",
       "\t\t<td>4.2</td>\n",
       "\t\t<td>2</td>\n",
       "\t</tr>\n",
       "</table></html>"
      ],
      "text/plain": [
       "   sepal_width  sepal_length  petal_width  id  petal_length  species\n",
       "0          3.7           5.4          0.2   9           1.5        1\n",
       "1          3.0           5.9          1.8  10           5.1        3\n",
       "2          3.4           4.6          0.3  18           1.4        1\n",
       "3          3.1           6.9          1.5  11           4.9        2\n",
       "4          3.0           6.5          1.8  13           5.5        3\n",
       "5          3.2           4.6          0.2  21           1.4        1\n",
       "6          2.0           5.0          1.0  14           3.5        2\n",
       "7          3.2           5.0          0.2  22           1.2        1\n",
       "8          3.0           6.7          1.7  15           5.0        2\n",
       "9          2.9           5.7          1.3  23           4.2        2"
      ]
     },
     "metadata": {},
     "output_type": "display_data"
    },
    {
     "name": "stdout",
     "output_type": "stream",
     "text": [
      "                                                                                                 \r"
     ]
    },
    {
     "data": {
      "text/html": [
       "30 rows X 6 columns"
      ],
      "text/plain": [
       "<IPython.core.display.HTML object>"
      ]
     },
     "metadata": {},
     "output_type": "display_data"
    },
    {
     "name": "stdout",
     "output_type": "stream",
     "text": [
      "                                                                                                 \r"
     ]
    },
    {
     "data": {
      "text/html": [
       "Performing transformation carried out in data preparation phase ..."
      ],
      "text/plain": [
       "<IPython.core.display.HTML object>"
      ]
     },
     "metadata": {},
     "output_type": "display_data"
    },
    {
     "name": "stdout",
     "output_type": "stream",
     "text": [
      "                                                                                                 \r"
     ]
    },
    {
     "data": {
      "text/html": [
       "\n",
       "Updated dataset after performing Lasso feature selection:"
      ],
      "text/plain": [
       "<IPython.core.display.HTML object>"
      ]
     },
     "metadata": {},
     "output_type": "display_data"
    },
    {
     "data": {
      "text/html": [
       "<style type=\"text/css\">\n",
       "\ttable {border:ridge 5px;}\n",
       "\ttable td {border:inset 1px;}\n",
       "\ttable tr#HeaderRow {background-color:grey; color:white;}</style>\n",
       "<html><table>\n",
       "\t<tr id=\"HeaderRow\">\n",
       "\t\t<th>id</th>\n",
       "\t\t<th>sepal_length</th>\n",
       "\t\t<th>sepal_width</th>\n",
       "\t\t<th>petal_width</th>\n",
       "\t\t<th>petal_length</th>\n",
       "\t\t<th>species</th>\n",
       "\t</tr>\n",
       "\t<tr>\n",
       "\t\t<td>18</td>\n",
       "\t\t<td>4.6</td>\n",
       "\t\t<td>3.4</td>\n",
       "\t\t<td>0.3</td>\n",
       "\t\t<td>1.4</td>\n",
       "\t\t<td>1</td>\n",
       "\t</tr>\n",
       "\t<tr>\n",
       "\t\t<td>35</td>\n",
       "\t\t<td>4.3</td>\n",
       "\t\t<td>3.0</td>\n",
       "\t\t<td>0.1</td>\n",
       "\t\t<td>1.1</td>\n",
       "\t\t<td>1</td>\n",
       "\t</tr>\n",
       "\t<tr>\n",
       "\t\t<td>39</td>\n",
       "\t\t<td>4.6</td>\n",
       "\t\t<td>3.6</td>\n",
       "\t\t<td>0.2</td>\n",
       "\t\t<td>1.0</td>\n",
       "\t\t<td>1</td>\n",
       "\t</tr>\n",
       "\t<tr>\n",
       "\t\t<td>26</td>\n",
       "\t\t<td>5.5</td>\n",
       "\t\t<td>3.5</td>\n",
       "\t\t<td>0.2</td>\n",
       "\t\t<td>1.3</td>\n",
       "\t\t<td>1</td>\n",
       "\t</tr>\n",
       "\t<tr>\n",
       "\t\t<td>36</td>\n",
       "\t\t<td>4.8</td>\n",
       "\t\t<td>3.0</td>\n",
       "\t\t<td>0.3</td>\n",
       "\t\t<td>1.4</td>\n",
       "\t\t<td>1</td>\n",
       "\t</tr>\n",
       "\t<tr>\n",
       "\t\t<td>24</td>\n",
       "\t\t<td>4.4</td>\n",
       "\t\t<td>3.2</td>\n",
       "\t\t<td>0.2</td>\n",
       "\t\t<td>1.3</td>\n",
       "\t\t<td>1</td>\n",
       "\t</tr>\n",
       "\t<tr>\n",
       "\t\t<td>13</td>\n",
       "\t\t<td>6.5</td>\n",
       "\t\t<td>3.0</td>\n",
       "\t\t<td>1.8</td>\n",
       "\t\t<td>5.5</td>\n",
       "\t\t<td>3</td>\n",
       "\t</tr>\n",
       "\t<tr>\n",
       "\t\t<td>12</td>\n",
       "\t\t<td>5.7</td>\n",
       "\t\t<td>2.5</td>\n",
       "\t\t<td>2.0</td>\n",
       "\t\t<td>5.0</td>\n",
       "\t\t<td>3</td>\n",
       "\t</tr>\n",
       "\t<tr>\n",
       "\t\t<td>27</td>\n",
       "\t\t<td>6.9</td>\n",
       "\t\t<td>3.1</td>\n",
       "\t\t<td>2.1</td>\n",
       "\t\t<td>5.4</td>\n",
       "\t\t<td>3</td>\n",
       "\t</tr>\n",
       "\t<tr>\n",
       "\t\t<td>38</td>\n",
       "\t\t<td>5.8</td>\n",
       "\t\t<td>2.8</td>\n",
       "\t\t<td>2.4</td>\n",
       "\t\t<td>5.1</td>\n",
       "\t\t<td>3</td>\n",
       "\t</tr>\n",
       "</table></html>"
      ],
      "text/plain": [
       "         id  sepal_length  sepal_width  petal_width  petal_length\n",
       "species                                                          \n",
       "1        18           4.6          3.4          0.3           1.4\n",
       "1        35           4.3          3.0          0.1           1.1\n",
       "1        39           4.6          3.6          0.2           1.0\n",
       "1        26           5.5          3.5          0.2           1.3\n",
       "1        36           4.8          3.0          0.3           1.4\n",
       "1        24           4.4          3.2          0.2           1.3\n",
       "3        13           6.5          3.0          1.8           5.5\n",
       "3        12           5.7          2.5          2.0           5.0\n",
       "3        27           6.9          3.1          2.1           5.4\n",
       "3        38           5.8          2.8          2.4           5.1"
      ]
     },
     "metadata": {},
     "output_type": "display_data"
    },
    {
     "name": "stdout",
     "output_type": "stream",
     "text": [
      "                                                                                                 \r"
     ]
    },
    {
     "data": {
      "text/html": [
       "30 rows X 6 columns"
      ],
      "text/plain": [
       "<IPython.core.display.HTML object>"
      ]
     },
     "metadata": {},
     "output_type": "display_data"
    },
    {
     "name": "stdout",
     "output_type": "stream",
     "text": [
      "                                                                                                 \r"
     ]
    },
    {
     "data": {
      "text/html": [
       "\n",
       "Updated dataset after performing scaling on Lasso selected features :"
      ],
      "text/plain": [
       "<IPython.core.display.HTML object>"
      ]
     },
     "metadata": {},
     "output_type": "display_data"
    },
    {
     "data": {
      "text/html": [
       "<style type=\"text/css\">\n",
       "\ttable {border:ridge 5px;}\n",
       "\ttable td {border:inset 1px;}\n",
       "\ttable tr#HeaderRow {background-color:grey; color:white;}</style>\n",
       "<html><table>\n",
       "\t<tr id=\"HeaderRow\">\n",
       "\t\t<th>species</th>\n",
       "\t\t<th>id</th>\n",
       "\t\t<th>sepal_length</th>\n",
       "\t\t<th>sepal_width</th>\n",
       "\t\t<th>petal_width</th>\n",
       "\t\t<th>petal_length</th>\n",
       "\t</tr>\n",
       "\t<tr>\n",
       "\t\t<td>1</td>\n",
       "\t\t<td>18</td>\n",
       "\t\t<td>0.05714285714285694</td>\n",
       "\t\t<td>0.5999999999999999</td>\n",
       "\t\t<td>0.08333333333333333</td>\n",
       "\t\t<td>0.035087719298245605</td>\n",
       "\t</tr>\n",
       "\t<tr>\n",
       "\t\t<td>1</td>\n",
       "\t\t<td>35</td>\n",
       "\t\t<td>-0.028571428571428723</td>\n",
       "\t\t<td>0.3999999999999999</td>\n",
       "\t\t<td>0.0</td>\n",
       "\t\t<td>-0.017543859649122782</td>\n",
       "\t</tr>\n",
       "\t<tr>\n",
       "\t\t<td>1</td>\n",
       "\t\t<td>39</td>\n",
       "\t\t<td>0.05714285714285694</td>\n",
       "\t\t<td>0.7</td>\n",
       "\t\t<td>0.04166666666666667</td>\n",
       "\t\t<td>-0.035087719298245605</td>\n",
       "\t</tr>\n",
       "\t<tr>\n",
       "\t\t<td>1</td>\n",
       "\t\t<td>26</td>\n",
       "\t\t<td>0.31428571428571417</td>\n",
       "\t\t<td>0.6499999999999999</td>\n",
       "\t\t<td>0.04166666666666667</td>\n",
       "\t\t<td>0.017543859649122823</td>\n",
       "\t</tr>\n",
       "\t<tr>\n",
       "\t\t<td>1</td>\n",
       "\t\t<td>36</td>\n",
       "\t\t<td>0.11428571428571413</td>\n",
       "\t\t<td>0.3999999999999999</td>\n",
       "\t\t<td>0.08333333333333333</td>\n",
       "\t\t<td>0.035087719298245605</td>\n",
       "\t</tr>\n",
       "\t<tr>\n",
       "\t\t<td>1</td>\n",
       "\t\t<td>24</td>\n",
       "\t\t<td>0.0</td>\n",
       "\t\t<td>0.5</td>\n",
       "\t\t<td>0.04166666666666667</td>\n",
       "\t\t<td>0.017543859649122823</td>\n",
       "\t</tr>\n",
       "\t<tr>\n",
       "\t\t<td>3</td>\n",
       "\t\t<td>13</td>\n",
       "\t\t<td>0.5999999999999999</td>\n",
       "\t\t<td>0.3999999999999999</td>\n",
       "\t\t<td>0.7083333333333334</td>\n",
       "\t\t<td>0.7543859649122806</td>\n",
       "\t</tr>\n",
       "\t<tr>\n",
       "\t\t<td>3</td>\n",
       "\t\t<td>12</td>\n",
       "\t\t<td>0.3714285714285714</td>\n",
       "\t\t<td>0.1499999999999999</td>\n",
       "\t\t<td>0.7916666666666666</td>\n",
       "\t\t<td>0.6666666666666666</td>\n",
       "\t</tr>\n",
       "\t<tr>\n",
       "\t\t<td>3</td>\n",
       "\t\t<td>27</td>\n",
       "\t\t<td>0.7142857142857143</td>\n",
       "\t\t<td>0.44999999999999996</td>\n",
       "\t\t<td>0.8333333333333334</td>\n",
       "\t\t<td>0.7368421052631579</td>\n",
       "\t</tr>\n",
       "\t<tr>\n",
       "\t\t<td>3</td>\n",
       "\t\t<td>38</td>\n",
       "\t\t<td>0.39999999999999986</td>\n",
       "\t\t<td>0.2999999999999998</td>\n",
       "\t\t<td>0.9583333333333333</td>\n",
       "\t\t<td>0.6842105263157894</td>\n",
       "\t</tr>\n",
       "</table></html>"
      ],
      "text/plain": [
       "   species  id  sepal_length  sepal_width  petal_width  petal_length\n",
       "0        1  18      0.057143         0.60     0.083333      0.035088\n",
       "1        1  35     -0.028571         0.40     0.000000     -0.017544\n",
       "2        1  39      0.057143         0.70     0.041667     -0.035088\n",
       "3        1  26      0.314286         0.65     0.041667      0.017544\n",
       "4        1  36      0.114286         0.40     0.083333      0.035088\n",
       "5        1  24      0.000000         0.50     0.041667      0.017544\n",
       "6        3  13      0.600000         0.40     0.708333      0.754386\n",
       "7        3  12      0.371429         0.15     0.791667      0.666667\n",
       "8        3  27      0.714286         0.45     0.833333      0.736842\n",
       "9        3  38      0.400000         0.30     0.958333      0.684211"
      ]
     },
     "metadata": {},
     "output_type": "display_data"
    },
    {
     "name": "stdout",
     "output_type": "stream",
     "text": [
      "                                                                                                 \r"
     ]
    },
    {
     "data": {
      "text/html": [
       "30 rows X 6 columns"
      ],
      "text/plain": [
       "<IPython.core.display.HTML object>"
      ]
     },
     "metadata": {},
     "output_type": "display_data"
    },
    {
     "name": "stdout",
     "output_type": "stream",
     "text": [
      "                                                                                                 \r"
     ]
    },
    {
     "data": {
      "text/html": [
       "\n",
       "Updated dataset after performing RFE feature selection:"
      ],
      "text/plain": [
       "<IPython.core.display.HTML object>"
      ]
     },
     "metadata": {},
     "output_type": "display_data"
    },
    {
     "data": {
      "text/html": [
       "<style type=\"text/css\">\n",
       "\ttable {border:ridge 5px;}\n",
       "\ttable td {border:inset 1px;}\n",
       "\ttable tr#HeaderRow {background-color:grey; color:white;}</style>\n",
       "<html><table>\n",
       "\t<tr id=\"HeaderRow\">\n",
       "\t\t<th>id</th>\n",
       "\t\t<th>petal_length</th>\n",
       "\t\t<th>petal_width</th>\n",
       "\t\t<th>species</th>\n",
       "\t</tr>\n",
       "\t<tr>\n",
       "\t\t<td>18</td>\n",
       "\t\t<td>1.4</td>\n",
       "\t\t<td>0.3</td>\n",
       "\t\t<td>1</td>\n",
       "\t</tr>\n",
       "\t<tr>\n",
       "\t\t<td>35</td>\n",
       "\t\t<td>1.1</td>\n",
       "\t\t<td>0.1</td>\n",
       "\t\t<td>1</td>\n",
       "\t</tr>\n",
       "\t<tr>\n",
       "\t\t<td>39</td>\n",
       "\t\t<td>1.0</td>\n",
       "\t\t<td>0.2</td>\n",
       "\t\t<td>1</td>\n",
       "\t</tr>\n",
       "\t<tr>\n",
       "\t\t<td>26</td>\n",
       "\t\t<td>1.3</td>\n",
       "\t\t<td>0.2</td>\n",
       "\t\t<td>1</td>\n",
       "\t</tr>\n",
       "\t<tr>\n",
       "\t\t<td>36</td>\n",
       "\t\t<td>1.4</td>\n",
       "\t\t<td>0.3</td>\n",
       "\t\t<td>1</td>\n",
       "\t</tr>\n",
       "\t<tr>\n",
       "\t\t<td>24</td>\n",
       "\t\t<td>1.3</td>\n",
       "\t\t<td>0.2</td>\n",
       "\t\t<td>1</td>\n",
       "\t</tr>\n",
       "\t<tr>\n",
       "\t\t<td>13</td>\n",
       "\t\t<td>5.5</td>\n",
       "\t\t<td>1.8</td>\n",
       "\t\t<td>3</td>\n",
       "\t</tr>\n",
       "\t<tr>\n",
       "\t\t<td>12</td>\n",
       "\t\t<td>5.0</td>\n",
       "\t\t<td>2.0</td>\n",
       "\t\t<td>3</td>\n",
       "\t</tr>\n",
       "\t<tr>\n",
       "\t\t<td>27</td>\n",
       "\t\t<td>5.4</td>\n",
       "\t\t<td>2.1</td>\n",
       "\t\t<td>3</td>\n",
       "\t</tr>\n",
       "\t<tr>\n",
       "\t\t<td>38</td>\n",
       "\t\t<td>5.1</td>\n",
       "\t\t<td>2.4</td>\n",
       "\t\t<td>3</td>\n",
       "\t</tr>\n",
       "</table></html>"
      ],
      "text/plain": [
       "         id  petal_length  petal_width\n",
       "species                               \n",
       "1        18           1.4          0.3\n",
       "1        35           1.1          0.1\n",
       "1        39           1.0          0.2\n",
       "1        26           1.3          0.2\n",
       "1        36           1.4          0.3\n",
       "1        24           1.3          0.2\n",
       "3        13           5.5          1.8\n",
       "3        12           5.0          2.0\n",
       "3        27           5.4          2.1\n",
       "3        38           5.1          2.4"
      ]
     },
     "metadata": {},
     "output_type": "display_data"
    },
    {
     "name": "stdout",
     "output_type": "stream",
     "text": [
      "                                                                                                 \r"
     ]
    },
    {
     "data": {
      "text/html": [
       "30 rows X 4 columns"
      ],
      "text/plain": [
       "<IPython.core.display.HTML object>"
      ]
     },
     "metadata": {},
     "output_type": "display_data"
    },
    {
     "name": "stdout",
     "output_type": "stream",
     "text": [
      "                                                                                                 \r"
     ]
    },
    {
     "data": {
      "text/html": [
       "\n",
       "Updated dataset after performing scaling on RFE selected features :"
      ],
      "text/plain": [
       "<IPython.core.display.HTML object>"
      ]
     },
     "metadata": {},
     "output_type": "display_data"
    },
    {
     "data": {
      "text/html": [
       "<style type=\"text/css\">\n",
       "\ttable {border:ridge 5px;}\n",
       "\ttable td {border:inset 1px;}\n",
       "\ttable tr#HeaderRow {background-color:grey; color:white;}</style>\n",
       "<html><table>\n",
       "\t<tr id=\"HeaderRow\">\n",
       "\t\t<th>species</th>\n",
       "\t\t<th>id</th>\n",
       "\t\t<th>r_petal_length</th>\n",
       "\t\t<th>r_petal_width</th>\n",
       "\t</tr>\n",
       "\t<tr>\n",
       "\t\t<td>1</td>\n",
       "\t\t<td>18</td>\n",
       "\t\t<td>0.035087719298245605</td>\n",
       "\t\t<td>0.08333333333333333</td>\n",
       "\t</tr>\n",
       "\t<tr>\n",
       "\t\t<td>1</td>\n",
       "\t\t<td>35</td>\n",
       "\t\t<td>-0.017543859649122782</td>\n",
       "\t\t<td>0.0</td>\n",
       "\t</tr>\n",
       "\t<tr>\n",
       "\t\t<td>1</td>\n",
       "\t\t<td>39</td>\n",
       "\t\t<td>-0.035087719298245605</td>\n",
       "\t\t<td>0.04166666666666667</td>\n",
       "\t</tr>\n",
       "\t<tr>\n",
       "\t\t<td>1</td>\n",
       "\t\t<td>26</td>\n",
       "\t\t<td>0.017543859649122823</td>\n",
       "\t\t<td>0.04166666666666667</td>\n",
       "\t</tr>\n",
       "\t<tr>\n",
       "\t\t<td>1</td>\n",
       "\t\t<td>36</td>\n",
       "\t\t<td>0.035087719298245605</td>\n",
       "\t\t<td>0.08333333333333333</td>\n",
       "\t</tr>\n",
       "\t<tr>\n",
       "\t\t<td>1</td>\n",
       "\t\t<td>24</td>\n",
       "\t\t<td>0.017543859649122823</td>\n",
       "\t\t<td>0.04166666666666667</td>\n",
       "\t</tr>\n",
       "\t<tr>\n",
       "\t\t<td>3</td>\n",
       "\t\t<td>13</td>\n",
       "\t\t<td>0.7543859649122806</td>\n",
       "\t\t<td>0.7083333333333334</td>\n",
       "\t</tr>\n",
       "\t<tr>\n",
       "\t\t<td>3</td>\n",
       "\t\t<td>12</td>\n",
       "\t\t<td>0.6666666666666666</td>\n",
       "\t\t<td>0.7916666666666666</td>\n",
       "\t</tr>\n",
       "\t<tr>\n",
       "\t\t<td>3</td>\n",
       "\t\t<td>27</td>\n",
       "\t\t<td>0.7368421052631579</td>\n",
       "\t\t<td>0.8333333333333334</td>\n",
       "\t</tr>\n",
       "\t<tr>\n",
       "\t\t<td>3</td>\n",
       "\t\t<td>38</td>\n",
       "\t\t<td>0.6842105263157894</td>\n",
       "\t\t<td>0.9583333333333333</td>\n",
       "\t</tr>\n",
       "</table></html>"
      ],
      "text/plain": [
       "   species  id  r_petal_length  r_petal_width\n",
       "0        1  18        0.035088       0.083333\n",
       "1        1  35       -0.017544       0.000000\n",
       "2        1  39       -0.035088       0.041667\n",
       "3        1  26        0.017544       0.041667\n",
       "4        1  36        0.035088       0.083333\n",
       "5        1  24        0.017544       0.041667\n",
       "6        3  13        0.754386       0.708333\n",
       "7        3  12        0.666667       0.791667\n",
       "8        3  27        0.736842       0.833333\n",
       "9        3  38        0.684211       0.958333"
      ]
     },
     "metadata": {},
     "output_type": "display_data"
    },
    {
     "name": "stdout",
     "output_type": "stream",
     "text": [
      "                                                                                                 \r"
     ]
    },
    {
     "data": {
      "text/html": [
       "30 rows X 4 columns"
      ],
      "text/plain": [
       "<IPython.core.display.HTML object>"
      ]
     },
     "metadata": {},
     "output_type": "display_data"
    },
    {
     "name": "stdout",
     "output_type": "stream",
     "text": [
      "                                                                                                 \r"
     ]
    },
    {
     "data": {
      "text/html": [
       "\n",
       "Updated dataset after performing scaling for PCA feature selection :"
      ],
      "text/plain": [
       "<IPython.core.display.HTML object>"
      ]
     },
     "metadata": {},
     "output_type": "display_data"
    },
    {
     "data": {
      "text/html": [
       "<style type=\"text/css\">\n",
       "\ttable {border:ridge 5px;}\n",
       "\ttable td {border:inset 1px;}\n",
       "\ttable tr#HeaderRow {background-color:grey; color:white;}</style>\n",
       "<html><table>\n",
       "\t<tr id=\"HeaderRow\">\n",
       "\t\t<th>species</th>\n",
       "\t\t<th>id</th>\n",
       "\t\t<th>sepal_length</th>\n",
       "\t\t<th>sepal_width</th>\n",
       "\t\t<th>petal_length</th>\n",
       "\t\t<th>petal_width</th>\n",
       "\t</tr>\n",
       "\t<tr>\n",
       "\t\t<td>1</td>\n",
       "\t\t<td>18</td>\n",
       "\t\t<td>0.05714285714285694</td>\n",
       "\t\t<td>0.5999999999999999</td>\n",
       "\t\t<td>0.035087719298245605</td>\n",
       "\t\t<td>0.08333333333333333</td>\n",
       "\t</tr>\n",
       "\t<tr>\n",
       "\t\t<td>1</td>\n",
       "\t\t<td>35</td>\n",
       "\t\t<td>-0.028571428571428723</td>\n",
       "\t\t<td>0.3999999999999999</td>\n",
       "\t\t<td>-0.017543859649122782</td>\n",
       "\t\t<td>0.0</td>\n",
       "\t</tr>\n",
       "\t<tr>\n",
       "\t\t<td>1</td>\n",
       "\t\t<td>39</td>\n",
       "\t\t<td>0.05714285714285694</td>\n",
       "\t\t<td>0.7</td>\n",
       "\t\t<td>-0.035087719298245605</td>\n",
       "\t\t<td>0.04166666666666667</td>\n",
       "\t</tr>\n",
       "\t<tr>\n",
       "\t\t<td>1</td>\n",
       "\t\t<td>26</td>\n",
       "\t\t<td>0.31428571428571417</td>\n",
       "\t\t<td>0.6499999999999999</td>\n",
       "\t\t<td>0.017543859649122823</td>\n",
       "\t\t<td>0.04166666666666667</td>\n",
       "\t</tr>\n",
       "\t<tr>\n",
       "\t\t<td>1</td>\n",
       "\t\t<td>36</td>\n",
       "\t\t<td>0.11428571428571413</td>\n",
       "\t\t<td>0.3999999999999999</td>\n",
       "\t\t<td>0.035087719298245605</td>\n",
       "\t\t<td>0.08333333333333333</td>\n",
       "\t</tr>\n",
       "\t<tr>\n",
       "\t\t<td>1</td>\n",
       "\t\t<td>24</td>\n",
       "\t\t<td>0.0</td>\n",
       "\t\t<td>0.5</td>\n",
       "\t\t<td>0.017543859649122823</td>\n",
       "\t\t<td>0.04166666666666667</td>\n",
       "\t</tr>\n",
       "\t<tr>\n",
       "\t\t<td>3</td>\n",
       "\t\t<td>13</td>\n",
       "\t\t<td>0.5999999999999999</td>\n",
       "\t\t<td>0.3999999999999999</td>\n",
       "\t\t<td>0.7543859649122806</td>\n",
       "\t\t<td>0.7083333333333334</td>\n",
       "\t</tr>\n",
       "\t<tr>\n",
       "\t\t<td>3</td>\n",
       "\t\t<td>12</td>\n",
       "\t\t<td>0.3714285714285714</td>\n",
       "\t\t<td>0.1499999999999999</td>\n",
       "\t\t<td>0.6666666666666666</td>\n",
       "\t\t<td>0.7916666666666666</td>\n",
       "\t</tr>\n",
       "\t<tr>\n",
       "\t\t<td>3</td>\n",
       "\t\t<td>27</td>\n",
       "\t\t<td>0.7142857142857143</td>\n",
       "\t\t<td>0.44999999999999996</td>\n",
       "\t\t<td>0.7368421052631579</td>\n",
       "\t\t<td>0.8333333333333334</td>\n",
       "\t</tr>\n",
       "\t<tr>\n",
       "\t\t<td>3</td>\n",
       "\t\t<td>38</td>\n",
       "\t\t<td>0.39999999999999986</td>\n",
       "\t\t<td>0.2999999999999998</td>\n",
       "\t\t<td>0.6842105263157894</td>\n",
       "\t\t<td>0.9583333333333333</td>\n",
       "\t</tr>\n",
       "</table></html>"
      ],
      "text/plain": [
       "   species  id  sepal_length  sepal_width  petal_length  petal_width\n",
       "0        1  18      0.057143         0.60      0.035088     0.083333\n",
       "1        1  35     -0.028571         0.40     -0.017544     0.000000\n",
       "2        1  39      0.057143         0.70     -0.035088     0.041667\n",
       "3        1  26      0.314286         0.65      0.017544     0.041667\n",
       "4        1  36      0.114286         0.40      0.035088     0.083333\n",
       "5        1  24      0.000000         0.50      0.017544     0.041667\n",
       "6        3  13      0.600000         0.40      0.754386     0.708333\n",
       "7        3  12      0.371429         0.15      0.666667     0.791667\n",
       "8        3  27      0.714286         0.45      0.736842     0.833333\n",
       "9        3  38      0.400000         0.30      0.684211     0.958333"
      ]
     },
     "metadata": {},
     "output_type": "display_data"
    },
    {
     "name": "stdout",
     "output_type": "stream",
     "text": [
      "                                                                                                 \r"
     ]
    },
    {
     "data": {
      "text/html": [
       "30 rows X 6 columns"
      ],
      "text/plain": [
       "<IPython.core.display.HTML object>"
      ]
     },
     "metadata": {},
     "output_type": "display_data"
    },
    {
     "name": "stdout",
     "output_type": "stream",
     "text": [
      "                                                                                                 \r"
     ]
    },
    {
     "name": "stderr",
     "output_type": "stream",
     "text": [
      "C:\\ProgramData\\anaconda3\\lib\\site-packages\\sklearn\\base.py:450: UserWarning: X does not have valid feature names, but PCA was fitted with feature names\n",
      "  warnings.warn(\n"
     ]
    },
    {
     "data": {
      "text/html": [
       "\n",
       "Updated dataset after performing PCA feature selection :"
      ],
      "text/plain": [
       "<IPython.core.display.HTML object>"
      ]
     },
     "metadata": {},
     "output_type": "display_data"
    },
    {
     "data": {
      "text/html": [
       "<div>\n",
       "<style scoped>\n",
       "    .dataframe tbody tr th:only-of-type {\n",
       "        vertical-align: middle;\n",
       "    }\n",
       "\n",
       "    .dataframe tbody tr th {\n",
       "        vertical-align: top;\n",
       "    }\n",
       "\n",
       "    .dataframe thead th {\n",
       "        text-align: right;\n",
       "    }\n",
       "</style>\n",
       "<table border=\"1\" class=\"dataframe\">\n",
       "  <thead>\n",
       "    <tr style=\"text-align: right;\">\n",
       "      <th></th>\n",
       "      <th>id</th>\n",
       "      <th>col_0</th>\n",
       "      <th>col_1</th>\n",
       "      <th>species</th>\n",
       "    </tr>\n",
       "  </thead>\n",
       "  <tbody>\n",
       "    <tr>\n",
       "      <th>0</th>\n",
       "      <td>22</td>\n",
       "      <td>-0.704914</td>\n",
       "      <td>-0.036801</td>\n",
       "      <td>1</td>\n",
       "    </tr>\n",
       "    <tr>\n",
       "      <th>1</th>\n",
       "      <td>13</td>\n",
       "      <td>0.386389</td>\n",
       "      <td>0.033137</td>\n",
       "      <td>3</td>\n",
       "    </tr>\n",
       "    <tr>\n",
       "      <th>2</th>\n",
       "      <td>32</td>\n",
       "      <td>-0.677663</td>\n",
       "      <td>-0.141239</td>\n",
       "      <td>1</td>\n",
       "    </tr>\n",
       "    <tr>\n",
       "      <th>3</th>\n",
       "      <td>12</td>\n",
       "      <td>0.330417</td>\n",
       "      <td>-0.273881</td>\n",
       "      <td>3</td>\n",
       "    </tr>\n",
       "    <tr>\n",
       "      <th>4</th>\n",
       "      <td>18</td>\n",
       "      <td>-0.723513</td>\n",
       "      <td>0.018075</td>\n",
       "      <td>1</td>\n",
       "    </tr>\n",
       "    <tr>\n",
       "      <th>5</th>\n",
       "      <td>27</td>\n",
       "      <td>0.494452</td>\n",
       "      <td>0.126603</td>\n",
       "      <td>3</td>\n",
       "    </tr>\n",
       "    <tr>\n",
       "      <th>6</th>\n",
       "      <td>21</td>\n",
       "      <td>-0.732106</td>\n",
       "      <td>-0.077591</td>\n",
       "      <td>1</td>\n",
       "    </tr>\n",
       "    <tr>\n",
       "      <th>7</th>\n",
       "      <td>38</td>\n",
       "      <td>0.432138</td>\n",
       "      <td>-0.115574</td>\n",
       "      <td>3</td>\n",
       "    </tr>\n",
       "    <tr>\n",
       "      <th>8</th>\n",
       "      <td>35</td>\n",
       "      <td>-0.810235</td>\n",
       "      <td>-0.201762</td>\n",
       "      <td>1</td>\n",
       "    </tr>\n",
       "    <tr>\n",
       "      <th>9</th>\n",
       "      <td>10</td>\n",
       "      <td>0.269159</td>\n",
       "      <td>-0.024800</td>\n",
       "      <td>3</td>\n",
       "    </tr>\n",
       "  </tbody>\n",
       "</table>\n",
       "</div>"
      ],
      "text/plain": [
       "   id     col_0     col_1  species\n",
       "0  22 -0.704914 -0.036801        1\n",
       "1  13  0.386389  0.033137        3\n",
       "2  32 -0.677663 -0.141239        1\n",
       "3  12  0.330417 -0.273881        3\n",
       "4  18 -0.723513  0.018075        1\n",
       "5  27  0.494452  0.126603        3\n",
       "6  21 -0.732106 -0.077591        1\n",
       "7  38  0.432138 -0.115574        3\n",
       "8  35 -0.810235 -0.201762        1\n",
       "9  10  0.269159 -0.024800        3"
      ]
     },
     "metadata": {},
     "output_type": "display_data"
    },
    {
     "name": "stdout",
     "output_type": "stream",
     "text": [
      "                                                                                                 \r"
     ]
    },
    {
     "data": {
      "text/html": [
       "10 rows X 4 columns"
      ],
      "text/plain": [
       "<IPython.core.display.HTML object>"
      ]
     },
     "metadata": {},
     "output_type": "display_data"
    },
    {
     "name": "stdout",
     "output_type": "stream",
     "text": [
      "Data Transformation completed.⫿⫿⫿⫿⫿⫿⫿⫿⫿⫿⫿⫿⫿⫿⫿⫿⫿⫿⫿⫿⫿⫿⫿⫿⫿⫿⫿⫿⫿⫿⫿⫿⫿⫿⫿⫿⫿⫿⫿⫿⫿⫿｜ 100% - 10/10           \n",
      "\n",
      "Following model is being picked for evaluation:\n",
      "Model ID : XGBOOST_1 \n",
      "Feature Selection Method : lasso\n",
      "\n",
      "Prediction : \n",
      "   id  Prediction  species    prob_1    prob_2    prob_3\n",
      "0  18           1        1  0.722230  0.143831  0.133939\n",
      "1  35           1        1  0.612462  0.196722  0.190816\n",
      "2  39           1        1  0.666637  0.189117  0.144246\n",
      "3  26           1        1  0.673271  0.186346  0.140383\n",
      "4  36           1        1  0.719373  0.148393  0.132234\n",
      "5  24           1        1  0.612294  0.196942  0.190763\n",
      "6  13           3        3  0.127005  0.135347  0.737648\n",
      "7  12           3        3  0.195043  0.191731  0.613225\n",
      "8  27           3        3  0.125647  0.144593  0.729760\n",
      "9  38           3        3  0.188122  0.191233  0.620645\n",
      "\n",
      "Confusion Matrix : \n"
     ]
    },
    {
     "data": {
      "text/plain": [
       "array([[13,  0,  0],\n",
       "       [ 0, 10,  2],\n",
       "       [ 0,  0,  5]], dtype=int64)"
      ]
     },
     "metadata": {},
     "output_type": "display_data"
    }
   ],
   "source": [
    "# Generating prediction on test data\n",
    "prediction = aml.predict(iris_test)"
   ]
  },
  {
   "cell_type": "code",
   "execution_count": 22,
   "id": "cc4f6a78-1cdf-4938-a9f1-22035d8404ca",
   "metadata": {},
   "outputs": [
    {
     "data": {
      "text/html": [
       "<style type=\"text/css\">\n",
       "\ttable {border:ridge 5px;}\n",
       "\ttable td {border:inset 1px;}\n",
       "\ttable tr#HeaderRow {background-color:grey; color:white;}</style>\n",
       "<html><table>\n",
       "\t<tr id=\"HeaderRow\">\n",
       "\t\t<th>id</th>\n",
       "\t\t<th>Prediction</th>\n",
       "\t\t<th>species</th>\n",
       "\t\t<th>prob_1</th>\n",
       "\t\t<th>prob_2</th>\n",
       "\t\t<th>prob_3</th>\n",
       "\t</tr>\n",
       "\t<tr>\n",
       "\t\t<td>10</td>\n",
       "\t\t<td>3</td>\n",
       "\t\t<td>3</td>\n",
       "\t\t<td>0.17308871627873726</td>\n",
       "\t\t<td>0.1809314579007279</td>\n",
       "\t\t<td>0.6459798258205349</td>\n",
       "\t</tr>\n",
       "\t<tr>\n",
       "\t\t<td>12</td>\n",
       "\t\t<td>3</td>\n",
       "\t\t<td>3</td>\n",
       "\t\t<td>0.19504311581488437</td>\n",
       "\t\t<td>0.19173143961700242</td>\n",
       "\t\t<td>0.6132254445681132</td>\n",
       "\t</tr>\n",
       "\t<tr>\n",
       "\t\t<td>13</td>\n",
       "\t\t<td>3</td>\n",
       "\t\t<td>3</td>\n",
       "\t\t<td>0.12700497468475547</td>\n",
       "\t\t<td>0.13534664882654565</td>\n",
       "\t\t<td>0.7376483764886987</td>\n",
       "\t</tr>\n",
       "\t<tr>\n",
       "\t\t<td>14</td>\n",
       "\t\t<td>2</td>\n",
       "\t\t<td>2</td>\n",
       "\t\t<td>0.19930249591172716</td>\n",
       "\t\t<td>0.5829781753256542</td>\n",
       "\t\t<td>0.21771932876261862</td>\n",
       "\t</tr>\n",
       "\t<tr>\n",
       "\t\t<td>16</td>\n",
       "\t\t<td>1</td>\n",
       "\t\t<td>1</td>\n",
       "\t\t<td>0.7394828901064238</td>\n",
       "\t\t<td>0.13669212644923803</td>\n",
       "\t\t<td>0.12382498344433823</td>\n",
       "\t</tr>\n",
       "\t<tr>\n",
       "\t\t<td>17</td>\n",
       "\t\t<td>2</td>\n",
       "\t\t<td>2</td>\n",
       "\t\t<td>0.13696417342421638</td>\n",
       "\t\t<td>0.7425026084811045</td>\n",
       "\t\t<td>0.12053321809467908</td>\n",
       "\t</tr>\n",
       "\t<tr>\n",
       "\t\t<td>15</td>\n",
       "\t\t<td>3</td>\n",
       "\t\t<td>2</td>\n",
       "\t\t<td>0.1320286423509596</td>\n",
       "\t\t<td>0.15621056715460405</td>\n",
       "\t\t<td>0.7117607904944363</td>\n",
       "\t</tr>\n",
       "\t<tr>\n",
       "\t\t<td>11</td>\n",
       "\t\t<td>3</td>\n",
       "\t\t<td>2</td>\n",
       "\t\t<td>0.1320411339336852</td>\n",
       "\t\t<td>0.15620831901910395</td>\n",
       "\t\t<td>0.711750547047211</td>\n",
       "\t</tr>\n",
       "\t<tr>\n",
       "\t\t<td>9</td>\n",
       "\t\t<td>1</td>\n",
       "\t\t<td>1</td>\n",
       "\t\t<td>0.7429946876595535</td>\n",
       "\t\t<td>0.13259228517029126</td>\n",
       "\t\t<td>0.1244130271701553</td>\n",
       "\t</tr>\n",
       "\t<tr>\n",
       "\t\t<td>8</td>\n",
       "\t\t<td>2</td>\n",
       "\t\t<td>2</td>\n",
       "\t\t<td>0.14573745579194453</td>\n",
       "\t\t<td>0.734954619345097</td>\n",
       "\t\t<td>0.11930792486295863</td>\n",
       "\t</tr>\n",
       "</table></html>"
      ],
      "text/plain": [
       "   id  Prediction  species    prob_1    prob_2    prob_3\n",
       "0  10           3        3  0.173089  0.180931  0.645980\n",
       "1  12           3        3  0.195043  0.191731  0.613225\n",
       "2  13           3        3  0.127005  0.135347  0.737648\n",
       "3  14           2        2  0.199302  0.582978  0.217719\n",
       "4  16           1        1  0.739483  0.136692  0.123825\n",
       "5  17           2        2  0.136964  0.742503  0.120533\n",
       "6  15           3        2  0.132029  0.156211  0.711761\n",
       "7  11           3        2  0.132041  0.156208  0.711751\n",
       "8   9           1        1  0.742995  0.132592  0.124413\n",
       "9   8           2        2  0.145737  0.734955  0.119308"
      ]
     },
     "execution_count": 22,
     "metadata": {},
     "output_type": "execute_result"
    }
   ],
   "source": [
    "# Printing prediction\n",
    "prediction.head()"
   ]
  },
  {
   "cell_type": "code",
   "execution_count": 23,
   "id": "24f0acdb-8b39-4b7d-a938-d2b9c1f5ca59",
   "metadata": {},
   "outputs": [
    {
     "name": "stdout",
     "output_type": "stream",
     "text": [
      "\n",
      "Skipping data transformation as data is already transformed.\n",
      "\n",
      "Following model is being picked for evaluation:\n",
      "Model ID : XGBOOST_1 \n",
      "Feature Selection Method : lasso\n",
      "\n",
      "Performance Metrics : \n",
      "       Prediction  Mapping  CLASS_1  CLASS_2  CLASS_3  Precision    Recall        F1  Support\n",
      "SeqNum                                                                                       \n",
      "0               1  CLASS_1       13        0        0   1.000000  1.000000  1.000000       13\n",
      "2               3  CLASS_3        0        2        5   0.714286  1.000000  0.833333        5\n",
      "1               2  CLASS_2        0       10        0   1.000000  0.833333  0.909091       12\n",
      "--------------------------------------------------------------------------------\n",
      "   SeqNum              Metric  MetricValue\n",
      "0       3        Micro-Recall     0.933333\n",
      "1       5     Macro-Precision     0.904762\n",
      "2       6        Macro-Recall     0.944444\n",
      "3       7            Macro-F1     0.914141\n",
      "4       9     Weighted-Recall     0.933333\n",
      "5      10         Weighted-F1     0.935859\n",
      "6       8  Weighted-Precision     0.952381\n",
      "7       4            Micro-F1     0.933333\n",
      "8       2     Micro-Precision     0.933333\n",
      "9       1            Accuracy     0.933333\n"
     ]
    }
   ],
   "source": [
    "# Fetching performance metrics on test data\n",
    "performance_metrics = aml.evaluate(iris_test)"
   ]
  },
  {
   "cell_type": "code",
   "execution_count": 24,
   "id": "21d47c75-3e9a-4430-b3f5-c9a68f7f6644",
   "metadata": {},
   "outputs": [
    {
     "data": {
      "text/html": [
       "<style type=\"text/css\">\n",
       "\ttable {border:ridge 5px;}\n",
       "\ttable td {border:inset 1px;}\n",
       "\ttable tr#HeaderRow {background-color:grey; color:white;}</style>\n",
       "<html><table>\n",
       "\t<tr id=\"HeaderRow\">\n",
       "\t\t<th>SeqNum</th>\n",
       "\t\t<th>Prediction</th>\n",
       "\t\t<th>Mapping</th>\n",
       "\t\t<th>CLASS_1</th>\n",
       "\t\t<th>CLASS_2</th>\n",
       "\t\t<th>CLASS_3</th>\n",
       "\t\t<th>Precision</th>\n",
       "\t\t<th>Recall</th>\n",
       "\t\t<th>F1</th>\n",
       "\t\t<th>Support</th>\n",
       "\t</tr>\n",
       "\t<tr>\n",
       "\t\t<td>0</td>\n",
       "\t\t<td>1</td>\n",
       "\t\t<td>CLASS_1</td>\n",
       "\t\t<td>13</td>\n",
       "\t\t<td>0</td>\n",
       "\t\t<td>0</td>\n",
       "\t\t<td>1.0</td>\n",
       "\t\t<td>1.0</td>\n",
       "\t\t<td>1.0</td>\n",
       "\t\t<td>13</td>\n",
       "\t</tr>\n",
       "\t<tr>\n",
       "\t\t<td>2</td>\n",
       "\t\t<td>3</td>\n",
       "\t\t<td>CLASS_3</td>\n",
       "\t\t<td>0</td>\n",
       "\t\t<td>2</td>\n",
       "\t\t<td>5</td>\n",
       "\t\t<td>0.7142857142857143</td>\n",
       "\t\t<td>1.0</td>\n",
       "\t\t<td>0.8333333333333333</td>\n",
       "\t\t<td>5</td>\n",
       "\t</tr>\n",
       "\t<tr>\n",
       "\t\t<td>1</td>\n",
       "\t\t<td>2</td>\n",
       "\t\t<td>CLASS_2</td>\n",
       "\t\t<td>0</td>\n",
       "\t\t<td>10</td>\n",
       "\t\t<td>0</td>\n",
       "\t\t<td>1.0</td>\n",
       "\t\t<td>0.8333333333333334</td>\n",
       "\t\t<td>0.9090909090909091</td>\n",
       "\t\t<td>12</td>\n",
       "\t</tr>\n",
       "</table></html>"
      ],
      "text/plain": [
       "       Prediction  Mapping  CLASS_1  CLASS_2  CLASS_3  Precision    Recall        F1  Support\n",
       "SeqNum                                                                                       \n",
       "0               1  CLASS_1       13        0        0   1.000000  1.000000  1.000000       13\n",
       "2               3  CLASS_3        0        2        5   0.714286  1.000000  0.833333        5\n",
       "1               2  CLASS_2        0       10        0   1.000000  0.833333  0.909091       12"
      ]
     },
     "execution_count": 24,
     "metadata": {},
     "output_type": "execute_result"
    }
   ],
   "source": [
    "performance_metrics"
   ]
  },
  {
   "cell_type": "code",
   "execution_count": 25,
   "id": "7682877b-5543-4294-bd70-03cfd0e34ace",
   "metadata": {},
   "outputs": [
    {
     "name": "stdout",
     "output_type": "stream",
     "text": [
      "\n",
      "Skipping data transformation as data is already transformed.\n",
      "\n",
      "Following model is being picked for evaluation:\n",
      "Model ID : XGBOOST_2 \n",
      "Feature Selection Method : rfe\n",
      "\n",
      "Prediction : \n",
      "   id  Prediction  species    prob_1    prob_2    prob_3\n",
      "0  27           3        3  0.100441  0.100446  0.799113\n",
      "1  10           3        3  0.100441  0.100446  0.799113\n",
      "2  22           1        1  0.799112  0.100488  0.100400\n",
      "3  32           1        1  0.799112  0.100488  0.100400\n",
      "4  21           1        1  0.799112  0.100488  0.100400\n",
      "5  35           1        1  0.799112  0.100488  0.100400\n",
      "6  39           1        1  0.799112  0.100488  0.100400\n",
      "7  26           1        1  0.799112  0.100488  0.100400\n",
      "8  29           1        1  0.799112  0.100488  0.100400\n",
      "9  36           1        1  0.799112  0.100488  0.100400\n",
      "\n",
      "Confusion Matrix : \n"
     ]
    },
    {
     "data": {
      "text/plain": [
       "array([[13,  0,  0],\n",
       "       [ 0, 10,  2],\n",
       "       [ 0,  0,  5]], dtype=int64)"
      ]
     },
     "metadata": {},
     "output_type": "display_data"
    }
   ],
   "source": [
    "# Generating prediction and metrics on test data\n",
    "prediction = aml.predict(iris_test, rank=2)"
   ]
  },
  {
   "cell_type": "code",
   "execution_count": 26,
   "id": "f70c1d50-3a3a-4cea-a09b-e09b4941428a",
   "metadata": {},
   "outputs": [
    {
     "data": {
      "text/html": [
       "<style type=\"text/css\">\n",
       "\ttable {border:ridge 5px;}\n",
       "\ttable td {border:inset 1px;}\n",
       "\ttable tr#HeaderRow {background-color:grey; color:white;}</style>\n",
       "<html><table>\n",
       "\t<tr id=\"HeaderRow\">\n",
       "\t\t<th>id</th>\n",
       "\t\t<th>Prediction</th>\n",
       "\t\t<th>species</th>\n",
       "\t\t<th>prob_1</th>\n",
       "\t\t<th>prob_2</th>\n",
       "\t\t<th>prob_3</th>\n",
       "\t</tr>\n",
       "\t<tr>\n",
       "\t\t<td>10</td>\n",
       "\t\t<td>3</td>\n",
       "\t\t<td>3</td>\n",
       "\t\t<td>0.10044075635878198</td>\n",
       "\t\t<td>0.10044648164506353</td>\n",
       "\t\t<td>0.7991127619961546</td>\n",
       "\t</tr>\n",
       "\t<tr>\n",
       "\t\t<td>12</td>\n",
       "\t\t<td>3</td>\n",
       "\t\t<td>3</td>\n",
       "\t\t<td>0.10044075635878198</td>\n",
       "\t\t<td>0.10044648164506353</td>\n",
       "\t\t<td>0.7991127619961546</td>\n",
       "\t</tr>\n",
       "\t<tr>\n",
       "\t\t<td>13</td>\n",
       "\t\t<td>3</td>\n",
       "\t\t<td>3</td>\n",
       "\t\t<td>0.10044075635878198</td>\n",
       "\t\t<td>0.10044648164506353</td>\n",
       "\t\t<td>0.7991127619961546</td>\n",
       "\t</tr>\n",
       "\t<tr>\n",
       "\t\t<td>14</td>\n",
       "\t\t<td>2</td>\n",
       "\t\t<td>2</td>\n",
       "\t\t<td>0.1004876489739947</td>\n",
       "\t\t<td>0.7991085742174017</td>\n",
       "\t\t<td>0.10040377680860361</td>\n",
       "\t</tr>\n",
       "\t<tr>\n",
       "\t\t<td>16</td>\n",
       "\t\t<td>1</td>\n",
       "\t\t<td>1</td>\n",
       "\t\t<td>0.799112425423237</td>\n",
       "\t\t<td>0.10048803277382021</td>\n",
       "\t\t<td>0.10039954180294279</td>\n",
       "\t</tr>\n",
       "\t<tr>\n",
       "\t\t<td>17</td>\n",
       "\t\t<td>2</td>\n",
       "\t\t<td>2</td>\n",
       "\t\t<td>0.1004876489739947</td>\n",
       "\t\t<td>0.7991085742174017</td>\n",
       "\t\t<td>0.10040377680860361</td>\n",
       "\t</tr>\n",
       "\t<tr>\n",
       "\t\t<td>15</td>\n",
       "\t\t<td>3</td>\n",
       "\t\t<td>2</td>\n",
       "\t\t<td>0.10044075635878198</td>\n",
       "\t\t<td>0.10044648164506353</td>\n",
       "\t\t<td>0.7991127619961546</td>\n",
       "\t</tr>\n",
       "\t<tr>\n",
       "\t\t<td>11</td>\n",
       "\t\t<td>3</td>\n",
       "\t\t<td>2</td>\n",
       "\t\t<td>0.10044075635878198</td>\n",
       "\t\t<td>0.10044648164506353</td>\n",
       "\t\t<td>0.7991127619961546</td>\n",
       "\t</tr>\n",
       "\t<tr>\n",
       "\t\t<td>9</td>\n",
       "\t\t<td>1</td>\n",
       "\t\t<td>1</td>\n",
       "\t\t<td>0.799112425423237</td>\n",
       "\t\t<td>0.10048803277382021</td>\n",
       "\t\t<td>0.10039954180294279</td>\n",
       "\t</tr>\n",
       "\t<tr>\n",
       "\t\t<td>8</td>\n",
       "\t\t<td>2</td>\n",
       "\t\t<td>2</td>\n",
       "\t\t<td>0.1004876489739947</td>\n",
       "\t\t<td>0.7991085742174017</td>\n",
       "\t\t<td>0.10040377680860361</td>\n",
       "\t</tr>\n",
       "</table></html>"
      ],
      "text/plain": [
       "   id  Prediction  species    prob_1    prob_2    prob_3\n",
       "0  10           3        3  0.100441  0.100446  0.799113\n",
       "1  12           3        3  0.100441  0.100446  0.799113\n",
       "2  13           3        3  0.100441  0.100446  0.799113\n",
       "3  14           2        2  0.100488  0.799109  0.100404\n",
       "4  16           1        1  0.799112  0.100488  0.100400\n",
       "5  17           2        2  0.100488  0.799109  0.100404\n",
       "6  15           3        2  0.100441  0.100446  0.799113\n",
       "7  11           3        2  0.100441  0.100446  0.799113\n",
       "8   9           1        1  0.799112  0.100488  0.100400\n",
       "9   8           2        2  0.100488  0.799109  0.100404"
      ]
     },
     "execution_count": 26,
     "metadata": {},
     "output_type": "execute_result"
    }
   ],
   "source": [
    "# Printing prediction\n",
    "prediction.head()"
   ]
  },
  {
   "cell_type": "code",
   "execution_count": 27,
   "id": "e63d1162-7175-400c-b9b0-b79961e15708",
   "metadata": {},
   "outputs": [
    {
     "name": "stdout",
     "output_type": "stream",
     "text": [
      "\n",
      "Skipping data transformation as data is already transformed.\n",
      "\n",
      "Following model is being picked for evaluation:\n",
      "Model ID : XGBOOST_2 \n",
      "Feature Selection Method : rfe\n",
      "\n",
      "Performance Metrics : \n",
      "       Prediction  Mapping  CLASS_1  CLASS_2  CLASS_3  Precision    Recall        F1  Support\n",
      "SeqNum                                                                                       \n",
      "0               1  CLASS_1       13        0        0   1.000000  1.000000  1.000000       13\n",
      "2               3  CLASS_3        0        2        5   0.714286  1.000000  0.833333        5\n",
      "1               2  CLASS_2        0       10        0   1.000000  0.833333  0.909091       12\n",
      "--------------------------------------------------------------------------------\n",
      "   SeqNum              Metric  MetricValue\n",
      "0       3        Micro-Recall     0.933333\n",
      "1       5     Macro-Precision     0.904762\n",
      "2       6        Macro-Recall     0.944444\n",
      "3       7            Macro-F1     0.914141\n",
      "4       9     Weighted-Recall     0.933333\n",
      "5      10         Weighted-F1     0.935859\n",
      "6       8  Weighted-Precision     0.952381\n",
      "7       4            Micro-F1     0.933333\n",
      "8       2     Micro-Precision     0.933333\n",
      "9       1            Accuracy     0.933333\n"
     ]
    }
   ],
   "source": [
    "# Fetching performance metrics on test data\n",
    "performance_metrics = aml.evaluate(iris_test, rank=2)"
   ]
  },
  {
   "cell_type": "code",
   "execution_count": 28,
   "id": "a2e88f97-1b0a-4257-9db6-fc7e547e06ac",
   "metadata": {},
   "outputs": [
    {
     "data": {
      "text/html": [
       "<style type=\"text/css\">\n",
       "\ttable {border:ridge 5px;}\n",
       "\ttable td {border:inset 1px;}\n",
       "\ttable tr#HeaderRow {background-color:grey; color:white;}</style>\n",
       "<html><table>\n",
       "\t<tr id=\"HeaderRow\">\n",
       "\t\t<th>SeqNum</th>\n",
       "\t\t<th>Prediction</th>\n",
       "\t\t<th>Mapping</th>\n",
       "\t\t<th>CLASS_1</th>\n",
       "\t\t<th>CLASS_2</th>\n",
       "\t\t<th>CLASS_3</th>\n",
       "\t\t<th>Precision</th>\n",
       "\t\t<th>Recall</th>\n",
       "\t\t<th>F1</th>\n",
       "\t\t<th>Support</th>\n",
       "\t</tr>\n",
       "\t<tr>\n",
       "\t\t<td>0</td>\n",
       "\t\t<td>1</td>\n",
       "\t\t<td>CLASS_1</td>\n",
       "\t\t<td>13</td>\n",
       "\t\t<td>0</td>\n",
       "\t\t<td>0</td>\n",
       "\t\t<td>1.0</td>\n",
       "\t\t<td>1.0</td>\n",
       "\t\t<td>1.0</td>\n",
       "\t\t<td>13</td>\n",
       "\t</tr>\n",
       "\t<tr>\n",
       "\t\t<td>2</td>\n",
       "\t\t<td>3</td>\n",
       "\t\t<td>CLASS_3</td>\n",
       "\t\t<td>0</td>\n",
       "\t\t<td>2</td>\n",
       "\t\t<td>5</td>\n",
       "\t\t<td>0.7142857142857143</td>\n",
       "\t\t<td>1.0</td>\n",
       "\t\t<td>0.8333333333333333</td>\n",
       "\t\t<td>5</td>\n",
       "\t</tr>\n",
       "\t<tr>\n",
       "\t\t<td>1</td>\n",
       "\t\t<td>2</td>\n",
       "\t\t<td>CLASS_2</td>\n",
       "\t\t<td>0</td>\n",
       "\t\t<td>10</td>\n",
       "\t\t<td>0</td>\n",
       "\t\t<td>1.0</td>\n",
       "\t\t<td>0.8333333333333334</td>\n",
       "\t\t<td>0.9090909090909091</td>\n",
       "\t\t<td>12</td>\n",
       "\t</tr>\n",
       "</table></html>"
      ],
      "text/plain": [
       "       Prediction  Mapping  CLASS_1  CLASS_2  CLASS_3  Precision    Recall        F1  Support\n",
       "SeqNum                                                                                       \n",
       "0               1  CLASS_1       13        0        0   1.000000  1.000000  1.000000       13\n",
       "2               3  CLASS_3        0        2        5   0.714286  1.000000  0.833333        5\n",
       "1               2  CLASS_2        0       10        0   1.000000  0.833333  0.909091       12"
      ]
     },
     "execution_count": 28,
     "metadata": {},
     "output_type": "execute_result"
    }
   ],
   "source": [
    "performance_metrics"
   ]
  },
  {
   "cell_type": "code",
   "execution_count": 29,
   "id": "b9abf6af-1a6f-4bff-87e1-4d0fe8b80bbf",
   "metadata": {},
   "outputs": [
    {
     "data": {
      "text/plain": [
       "True"
      ]
     },
     "execution_count": 29,
     "metadata": {},
     "output_type": "execute_result"
    }
   ],
   "source": [
    "remove_context()"
   ]
  },
  {
   "cell_type": "code",
   "execution_count": null,
   "id": "e81362d3-cfb3-421a-8675-de6a3559d815",
   "metadata": {},
   "outputs": [],
   "source": []
  }
 ],
 "metadata": {
  "kernelspec": {
   "display_name": "Python 3 (ipykernel)",
   "language": "python",
   "name": "python3"
  },
  "language_info": {
   "codemirror_mode": {
    "name": "ipython",
    "version": 3
   },
   "file_extension": ".py",
   "mimetype": "text/x-python",
   "name": "python",
   "nbconvert_exporter": "python",
   "pygments_lexer": "ipython3",
   "version": "3.10.9"
  }
 },
 "nbformat": 4,
 "nbformat_minor": 5
}
