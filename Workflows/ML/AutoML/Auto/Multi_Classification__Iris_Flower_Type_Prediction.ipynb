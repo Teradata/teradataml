{
 "cells": [
  {
   "cell_type": "markdown",
   "id": "2762f1d8-5a66-411f-a625-34cf16ac6dd3",
   "metadata": {},
   "source": [
    "# <b><span style='color:#F1A424'>AutoML - Multi-Class Classification - Iris Flower Type Prediction </span> </b>"
   ]
  },
  {
   "cell_type": "markdown",
   "id": "33c06ae2-1862-40fe-85f4-c7ab8cfa56f8",
   "metadata": {},
   "source": [
    "### Disclaimer\n",
    "Please note, the Vantage Functions via SQLAlchemy feature is a preview/beta code release with limited functionality (the “Code”). As such, you acknowledge that the Code is experimental in nature and that the Code is provided “AS IS” and may not be functional on any machine or in any environment. TERADATA DISCLAIMS ALL WARRANTIES RELATING TO THE CODE, EXPRESS OR IMPLIED, INCLUDING, BUT NOT LIMITED TO, ANY WARRANTIES AGAINST INFRINGEMENT OF THIRD-PARTY RIGHTS, MERCHANTABILITY AND FITNESS FOR A PARTICULAR PURPOSE.\n",
    "\n",
    "TERADATA SHALL NOT BE RESPONSIBLE OR LIABLE WITH RESPECT TO ANY SUBJECT MATTER OF THE CODE UNDER ANY CONTRACT, NEGLIGENCE, STRICT LIABILITY OR OTHER THEORY \n",
    "    (A) FOR LOSS OR INACCURACY OF DATA OR COST OF PROCUREMENT OF SUBSTITUTE GOODS, SERVICES OR TECHNOLOGY, OR \n",
    "    (B) FOR ANY INDIRECT, INCIDENTAL OR CONSEQUENTIAL DAMAGES INCLUDING, BUT NOT LIMITED TO LOSS OF REVENUES AND LOSS OF PROFITS. TERADATA SHALL NOT BE RESPONSIBLE FOR ANY MATTER BEYOND ITS REASONABLE CONTROL.\n",
    "\n",
    "Notwithstanding anything to the contrary: \n",
    "    (a) Teradata will have no obligation of any kind with respect to any Code-related comments, suggestions, design changes or improvements that you elect to provide to Teradata in either verbal or written form (collectively, “Feedback”), and \n",
    "    (b) Teradata and its affiliates are hereby free to use any ideas, concepts, know-how or techniques, in whole or in part, contained in Feedback: \n",
    "        (i) for any purpose whatsoever, including developing, manufacturing, and/or marketing products and/or services incorporating Feedback in whole or in part, and \n",
    "        (ii) without any restrictions or limitations, including requiring the payment of any license fees, royalties, or other consideration. "
   ]
  },
  {
   "cell_type": "markdown",
   "id": "f225fb94-b2c8-4c92-af38-733d08e0e2a1",
   "metadata": {},
   "source": [
    "## <b> Problem overview:</b>\n",
    "    "
   ]
  },
  {
   "cell_type": "markdown",
   "id": "af9813eb-9c44-4968-a5fe-d1c74415c894",
   "metadata": {},
   "source": [
    "\n",
    "The Iris dataset is a classic dataset in the field of machine learning and statistics.It contains measurements of various features of iris flowers, making it a quintessential dataset for practicing classification algorithms and statistical analysis.\n",
    "\n",
    "Here are some key details about the Iris dataset:\n",
    "\n",
    "**Features**:\n",
    "\n",
    "- `Sepal Length (cm)`: Measurement of the length of the outermost petal parts (sepals).\n",
    "- `Sepal Width (cm)`: Measurement of the width of the sepals.\n",
    "- `Petal Length (cm)`: Measurement of the length of the innermost petal parts (petals).\n",
    "- `Petal Width (cm)`: Measurement of the width of the petals.\n",
    "\n",
    "**Target Variable**:\n",
    "\n",
    "- `Species`: The species of iris flowers. It includes three classes: `Setosa`, `Versicolor` and `Virginica`.\n",
    "\n",
    "        \n",
    "**Objective**:\n",
    "\n",
    "The primary objective is typically to build a model that can accurately classify iris flowers into one of the three species based on the provided features.\n",
    "\n",
    "**Challenges**:\n",
    "\n",
    "- The dataset consists of 150 instances, with 50 instances for each of the three classes.\n",
    "\n",
    "**Usecase**:\n",
    "\n",
    "Here, we will use AutoML(Automated Machine Learning) functionality to automate the entire process of developing a predictive model. It will perform feature exploration, feature engineering, data preparation, model training and evaluation on dataset in auto run and at end we will get leaderboard containined different models along with their performance. Model will also have rank associated with them which indicates which is best performing model for given data followed by other models."
   ]
  },
  {
   "cell_type": "code",
   "execution_count": 1,
   "id": "66568348-4d00-477c-a071-17995f797c95",
   "metadata": {},
   "outputs": [],
   "source": [
    "# Importing AutoML from teradataml\n",
    "from teradataml import AutoML, AutoClassifier"
   ]
  },
  {
   "cell_type": "code",
   "execution_count": 2,
   "id": "17dfae70-0401-4cc4-ba1c-400a5cf62451",
   "metadata": {},
   "outputs": [],
   "source": [
    "# Importing other important libraries\n",
    "import getpass\n",
    "from teradataml import create_context, remove_context\n",
    "from teradataml import DataFrame\n",
    "from teradataml import load_example_data\n",
    "from teradataml import TrainTestSplit"
   ]
  },
  {
   "cell_type": "code",
   "execution_count": 3,
   "id": "cadd9ed2-42d6-4899-b23e-4e2cf601162f",
   "metadata": {},
   "outputs": [
    {
     "name": "stdin",
     "output_type": "stream",
     "text": [
      "Host:  ········\n",
      "Username:  ········\n",
      "Password:  ········\n"
     ]
    }
   ],
   "source": [
    "# Create the connection.\n",
    "host = getpass.getpass(\"Host: \")\n",
    "username = getpass.getpass(\"Username: \")\n",
    "password = getpass.getpass(\"Password: \")\n",
    "\n",
    "con = create_context(host=host, username=username, password=password)"
   ]
  },
  {
   "cell_type": "markdown",
   "id": "be767a89-d5b8-4876-91cb-36980754586e",
   "metadata": {},
   "source": [
    "## <b><span style='color:#F1A424'>| 1.</span> Loading Dataset </b>"
   ]
  },
  {
   "cell_type": "code",
   "execution_count": 4,
   "id": "f1592c52-b247-4792-be2a-30b49bbeb9b6",
   "metadata": {},
   "outputs": [],
   "source": [
    "# Loading dataset from example data collection\n",
    "load_example_data(\"teradataml\", \"iris_input\")"
   ]
  },
  {
   "cell_type": "code",
   "execution_count": 5,
   "id": "3846ae0f-004b-4b8e-9fea-06fac4294065",
   "metadata": {},
   "outputs": [],
   "source": [
    "# Fetching in teradata dataframe\n",
    "iris = DataFrame.from_table(\"iris_input\")"
   ]
  },
  {
   "cell_type": "code",
   "execution_count": 6,
   "id": "442ccd80-b444-413e-970d-d855ec3d6cae",
   "metadata": {},
   "outputs": [
    {
     "data": {
      "text/html": [
       "<style type=\"text/css\">\n",
       "\ttable {border:ridge 5px;}\n",
       "\ttable td {border:inset 1px;}\n",
       "\ttable tr#HeaderRow {background-color:grey; color:white;}</style>\n",
       "<html><table>\n",
       "\t<tr id=\"HeaderRow\">\n",
       "\t\t<th>id</th>\n",
       "\t\t<th>sepal_length</th>\n",
       "\t\t<th>sepal_width</th>\n",
       "\t\t<th>petal_length</th>\n",
       "\t\t<th>petal_width</th>\n",
       "\t\t<th>species</th>\n",
       "\t</tr>\n",
       "\t<tr>\n",
       "\t\t<td>3</td>\n",
       "\t\t<td>4.7</td>\n",
       "\t\t<td>3.2</td>\n",
       "\t\t<td>1.3</td>\n",
       "\t\t<td>0.2</td>\n",
       "\t\t<td>1</td>\n",
       "\t</tr>\n",
       "\t<tr>\n",
       "\t\t<td>5</td>\n",
       "\t\t<td>5.0</td>\n",
       "\t\t<td>3.6</td>\n",
       "\t\t<td>1.4</td>\n",
       "\t\t<td>0.2</td>\n",
       "\t\t<td>1</td>\n",
       "\t</tr>\n",
       "\t<tr>\n",
       "\t\t<td>6</td>\n",
       "\t\t<td>5.4</td>\n",
       "\t\t<td>3.9</td>\n",
       "\t\t<td>1.7</td>\n",
       "\t\t<td>0.4</td>\n",
       "\t\t<td>1</td>\n",
       "\t</tr>\n",
       "\t<tr>\n",
       "\t\t<td>7</td>\n",
       "\t\t<td>4.6</td>\n",
       "\t\t<td>3.4</td>\n",
       "\t\t<td>1.4</td>\n",
       "\t\t<td>0.3</td>\n",
       "\t\t<td>1</td>\n",
       "\t</tr>\n",
       "\t<tr>\n",
       "\t\t<td>9</td>\n",
       "\t\t<td>4.4</td>\n",
       "\t\t<td>2.9</td>\n",
       "\t\t<td>1.4</td>\n",
       "\t\t<td>0.2</td>\n",
       "\t\t<td>1</td>\n",
       "\t</tr>\n",
       "\t<tr>\n",
       "\t\t<td>10</td>\n",
       "\t\t<td>4.9</td>\n",
       "\t\t<td>3.1</td>\n",
       "\t\t<td>1.5</td>\n",
       "\t\t<td>0.1</td>\n",
       "\t\t<td>1</td>\n",
       "\t</tr>\n",
       "\t<tr>\n",
       "\t\t<td>8</td>\n",
       "\t\t<td>5.0</td>\n",
       "\t\t<td>3.4</td>\n",
       "\t\t<td>1.5</td>\n",
       "\t\t<td>0.2</td>\n",
       "\t\t<td>1</td>\n",
       "\t</tr>\n",
       "\t<tr>\n",
       "\t\t<td>4</td>\n",
       "\t\t<td>4.6</td>\n",
       "\t\t<td>3.1</td>\n",
       "\t\t<td>1.5</td>\n",
       "\t\t<td>0.2</td>\n",
       "\t\t<td>1</td>\n",
       "\t</tr>\n",
       "\t<tr>\n",
       "\t\t<td>2</td>\n",
       "\t\t<td>4.9</td>\n",
       "\t\t<td>3.0</td>\n",
       "\t\t<td>1.4</td>\n",
       "\t\t<td>0.2</td>\n",
       "\t\t<td>1</td>\n",
       "\t</tr>\n",
       "\t<tr>\n",
       "\t\t<td>1</td>\n",
       "\t\t<td>5.1</td>\n",
       "\t\t<td>3.5</td>\n",
       "\t\t<td>1.4</td>\n",
       "\t\t<td>0.2</td>\n",
       "\t\t<td>1</td>\n",
       "\t</tr>\n",
       "</table></html>"
      ],
      "text/plain": [
       "    sepal_length  sepal_width  petal_length  petal_width  species\n",
       "id                                                               \n",
       "3            4.7          3.2           1.3          0.2        1\n",
       "5            5.0          3.6           1.4          0.2        1\n",
       "6            5.4          3.9           1.7          0.4        1\n",
       "7            4.6          3.4           1.4          0.3        1\n",
       "9            4.4          2.9           1.4          0.2        1\n",
       "10           4.9          3.1           1.5          0.1        1\n",
       "8            5.0          3.4           1.5          0.2        1\n",
       "4            4.6          3.1           1.5          0.2        1\n",
       "2            4.9          3.0           1.4          0.2        1\n",
       "1            5.1          3.5           1.4          0.2        1"
      ]
     },
     "execution_count": 6,
     "metadata": {},
     "output_type": "execute_result"
    }
   ],
   "source": [
    "# first 5 rows\n",
    "iris.head()"
   ]
  },
  {
   "cell_type": "code",
   "execution_count": 7,
   "id": "636c220d-d12f-4ea5-ab2b-c9203ef00d49",
   "metadata": {},
   "outputs": [
    {
     "data": {
      "text/plain": [
       "(150, 6)"
      ]
     },
     "execution_count": 7,
     "metadata": {},
     "output_type": "execute_result"
    }
   ],
   "source": [
    "# iris dataset\n",
    "iris.shape"
   ]
  },
  {
   "cell_type": "code",
   "execution_count": 8,
   "id": "e5d1fad7-8784-4d7a-be1f-7be1d3991d8f",
   "metadata": {},
   "outputs": [],
   "source": [
    "# Performing sampling to get 80% for trainning and 20% for testing\n",
    "iris_sample = iris.sample(frac = [0.8, 0.2])"
   ]
  },
  {
   "cell_type": "code",
   "execution_count": 9,
   "id": "a0e6891a-1b7e-4bac-97c8-350ba5f5bde4",
   "metadata": {},
   "outputs": [
    {
     "data": {
      "text/html": [
       "<style type=\"text/css\">\n",
       "\ttable {border:ridge 5px;}\n",
       "\ttable td {border:inset 1px;}\n",
       "\ttable tr#HeaderRow {background-color:grey; color:white;}</style>\n",
       "<html><table>\n",
       "\t<tr id=\"HeaderRow\">\n",
       "\t\t<th>id</th>\n",
       "\t\t<th>sepal_length</th>\n",
       "\t\t<th>sepal_width</th>\n",
       "\t\t<th>petal_length</th>\n",
       "\t\t<th>petal_width</th>\n",
       "\t\t<th>species</th>\n",
       "\t\t<th>sampleid</th>\n",
       "\t</tr>\n",
       "\t<tr>\n",
       "\t\t<td>3</td>\n",
       "\t\t<td>4.7</td>\n",
       "\t\t<td>3.2</td>\n",
       "\t\t<td>1.3</td>\n",
       "\t\t<td>0.2</td>\n",
       "\t\t<td>1</td>\n",
       "\t\t<td>1</td>\n",
       "\t</tr>\n",
       "\t<tr>\n",
       "\t\t<td>5</td>\n",
       "\t\t<td>5.0</td>\n",
       "\t\t<td>3.6</td>\n",
       "\t\t<td>1.4</td>\n",
       "\t\t<td>0.2</td>\n",
       "\t\t<td>1</td>\n",
       "\t\t<td>2</td>\n",
       "\t</tr>\n",
       "\t<tr>\n",
       "\t\t<td>6</td>\n",
       "\t\t<td>5.4</td>\n",
       "\t\t<td>3.9</td>\n",
       "\t\t<td>1.7</td>\n",
       "\t\t<td>0.4</td>\n",
       "\t\t<td>1</td>\n",
       "\t\t<td>1</td>\n",
       "\t</tr>\n",
       "\t<tr>\n",
       "\t\t<td>7</td>\n",
       "\t\t<td>4.6</td>\n",
       "\t\t<td>3.4</td>\n",
       "\t\t<td>1.4</td>\n",
       "\t\t<td>0.3</td>\n",
       "\t\t<td>1</td>\n",
       "\t\t<td>1</td>\n",
       "\t</tr>\n",
       "\t<tr>\n",
       "\t\t<td>9</td>\n",
       "\t\t<td>4.4</td>\n",
       "\t\t<td>2.9</td>\n",
       "\t\t<td>1.4</td>\n",
       "\t\t<td>0.2</td>\n",
       "\t\t<td>1</td>\n",
       "\t\t<td>2</td>\n",
       "\t</tr>\n",
       "\t<tr>\n",
       "\t\t<td>10</td>\n",
       "\t\t<td>4.9</td>\n",
       "\t\t<td>3.1</td>\n",
       "\t\t<td>1.5</td>\n",
       "\t\t<td>0.1</td>\n",
       "\t\t<td>1</td>\n",
       "\t\t<td>1</td>\n",
       "\t</tr>\n",
       "\t<tr>\n",
       "\t\t<td>8</td>\n",
       "\t\t<td>5.0</td>\n",
       "\t\t<td>3.4</td>\n",
       "\t\t<td>1.5</td>\n",
       "\t\t<td>0.2</td>\n",
       "\t\t<td>1</td>\n",
       "\t\t<td>1</td>\n",
       "\t</tr>\n",
       "\t<tr>\n",
       "\t\t<td>4</td>\n",
       "\t\t<td>4.6</td>\n",
       "\t\t<td>3.1</td>\n",
       "\t\t<td>1.5</td>\n",
       "\t\t<td>0.2</td>\n",
       "\t\t<td>1</td>\n",
       "\t\t<td>1</td>\n",
       "\t</tr>\n",
       "\t<tr>\n",
       "\t\t<td>2</td>\n",
       "\t\t<td>4.9</td>\n",
       "\t\t<td>3.0</td>\n",
       "\t\t<td>1.4</td>\n",
       "\t\t<td>0.2</td>\n",
       "\t\t<td>1</td>\n",
       "\t\t<td>2</td>\n",
       "\t</tr>\n",
       "\t<tr>\n",
       "\t\t<td>1</td>\n",
       "\t\t<td>5.1</td>\n",
       "\t\t<td>3.5</td>\n",
       "\t\t<td>1.4</td>\n",
       "\t\t<td>0.2</td>\n",
       "\t\t<td>1</td>\n",
       "\t\t<td>1</td>\n",
       "\t</tr>\n",
       "</table></html>"
      ],
      "text/plain": [
       "    sepal_length  sepal_width  petal_length  petal_width  species  sampleid\n",
       "id                                                                         \n",
       "3            4.7          3.2           1.3          0.2        1         1\n",
       "5            5.0          3.6           1.4          0.2        1         2\n",
       "6            5.4          3.9           1.7          0.4        1         1\n",
       "7            4.6          3.4           1.4          0.3        1         1\n",
       "9            4.4          2.9           1.4          0.2        1         2\n",
       "10           4.9          3.1           1.5          0.1        1         1\n",
       "8            5.0          3.4           1.5          0.2        1         1\n",
       "4            4.6          3.1           1.5          0.2        1         1\n",
       "2            4.9          3.0           1.4          0.2        1         2\n",
       "1            5.1          3.5           1.4          0.2        1         1"
      ]
     },
     "execution_count": 9,
     "metadata": {},
     "output_type": "execute_result"
    }
   ],
   "source": [
    "iris_sample.head()"
   ]
  },
  {
   "cell_type": "code",
   "execution_count": 10,
   "id": "5e3e5923-18ad-4cf6-b4e5-e87f8854700b",
   "metadata": {},
   "outputs": [],
   "source": [
    "# Fetching train and test data\n",
    "iris_train= iris_sample[iris_sample['sampleid'] == 1].drop('sampleid', axis=1)\n",
    "iris_test = iris_sample[iris_sample['sampleid'] == 2].drop('sampleid', axis=1)"
   ]
  },
  {
   "cell_type": "code",
   "execution_count": 11,
   "id": "83d72a72-3fac-4862-b374-d21ab59be1a6",
   "metadata": {},
   "outputs": [
    {
     "data": {
      "text/plain": [
       "(120, 6)"
      ]
     },
     "execution_count": 11,
     "metadata": {},
     "output_type": "execute_result"
    }
   ],
   "source": [
    "# train data shape\n",
    "iris_train.shape"
   ]
  },
  {
   "cell_type": "code",
   "execution_count": 12,
   "id": "b22be730-8a7a-40f3-8e2a-cabd8d1f427f",
   "metadata": {},
   "outputs": [
    {
     "data": {
      "text/plain": [
       "(30, 6)"
      ]
     },
     "execution_count": 12,
     "metadata": {},
     "output_type": "execute_result"
    }
   ],
   "source": [
    "# test data shape\n",
    "iris_test.shape"
   ]
  },
  {
   "cell_type": "code",
   "execution_count": 13,
   "id": "18473df2-be15-4e1e-bc5e-739abacf8b89",
   "metadata": {},
   "outputs": [
    {
     "data": {
      "text/html": [
       "<style type=\"text/css\">\n",
       "\ttable {border:ridge 5px;}\n",
       "\ttable td {border:inset 1px;}\n",
       "\ttable tr#HeaderRow {background-color:grey; color:white;}</style>\n",
       "<html><table>\n",
       "\t<tr id=\"HeaderRow\">\n",
       "\t\t<th>id</th>\n",
       "\t\t<th>sepal_length</th>\n",
       "\t\t<th>sepal_width</th>\n",
       "\t\t<th>petal_length</th>\n",
       "\t\t<th>petal_width</th>\n",
       "\t\t<th>species</th>\n",
       "\t</tr>\n",
       "\t<tr>\n",
       "\t\t<td>4</td>\n",
       "\t\t<td>4.6</td>\n",
       "\t\t<td>3.1</td>\n",
       "\t\t<td>1.5</td>\n",
       "\t\t<td>0.2</td>\n",
       "\t\t<td>1</td>\n",
       "\t</tr>\n",
       "\t<tr>\n",
       "\t\t<td>7</td>\n",
       "\t\t<td>4.6</td>\n",
       "\t\t<td>3.4</td>\n",
       "\t\t<td>1.4</td>\n",
       "\t\t<td>0.3</td>\n",
       "\t\t<td>1</td>\n",
       "\t</tr>\n",
       "\t<tr>\n",
       "\t\t<td>8</td>\n",
       "\t\t<td>5.0</td>\n",
       "\t\t<td>3.4</td>\n",
       "\t\t<td>1.5</td>\n",
       "\t\t<td>0.2</td>\n",
       "\t\t<td>1</td>\n",
       "\t</tr>\n",
       "\t<tr>\n",
       "\t\t<td>10</td>\n",
       "\t\t<td>4.9</td>\n",
       "\t\t<td>3.1</td>\n",
       "\t\t<td>1.5</td>\n",
       "\t\t<td>0.1</td>\n",
       "\t\t<td>1</td>\n",
       "\t</tr>\n",
       "\t<tr>\n",
       "\t\t<td>13</td>\n",
       "\t\t<td>4.8</td>\n",
       "\t\t<td>3.0</td>\n",
       "\t\t<td>1.4</td>\n",
       "\t\t<td>0.1</td>\n",
       "\t\t<td>1</td>\n",
       "\t</tr>\n",
       "\t<tr>\n",
       "\t\t<td>14</td>\n",
       "\t\t<td>4.3</td>\n",
       "\t\t<td>3.0</td>\n",
       "\t\t<td>1.1</td>\n",
       "\t\t<td>0.1</td>\n",
       "\t\t<td>1</td>\n",
       "\t</tr>\n",
       "\t<tr>\n",
       "\t\t<td>11</td>\n",
       "\t\t<td>5.4</td>\n",
       "\t\t<td>3.7</td>\n",
       "\t\t<td>1.5</td>\n",
       "\t\t<td>0.2</td>\n",
       "\t\t<td>1</td>\n",
       "\t</tr>\n",
       "\t<tr>\n",
       "\t\t<td>6</td>\n",
       "\t\t<td>5.4</td>\n",
       "\t\t<td>3.9</td>\n",
       "\t\t<td>1.7</td>\n",
       "\t\t<td>0.4</td>\n",
       "\t\t<td>1</td>\n",
       "\t</tr>\n",
       "\t<tr>\n",
       "\t\t<td>3</td>\n",
       "\t\t<td>4.7</td>\n",
       "\t\t<td>3.2</td>\n",
       "\t\t<td>1.3</td>\n",
       "\t\t<td>0.2</td>\n",
       "\t\t<td>1</td>\n",
       "\t</tr>\n",
       "\t<tr>\n",
       "\t\t<td>1</td>\n",
       "\t\t<td>5.1</td>\n",
       "\t\t<td>3.5</td>\n",
       "\t\t<td>1.4</td>\n",
       "\t\t<td>0.2</td>\n",
       "\t\t<td>1</td>\n",
       "\t</tr>\n",
       "</table></html>"
      ],
      "text/plain": [
       "    sepal_length  sepal_width  petal_length  petal_width  species\n",
       "id                                                               \n",
       "4            4.6          3.1           1.5          0.2        1\n",
       "7            4.6          3.4           1.4          0.3        1\n",
       "8            5.0          3.4           1.5          0.2        1\n",
       "10           4.9          3.1           1.5          0.1        1\n",
       "13           4.8          3.0           1.4          0.1        1\n",
       "14           4.3          3.0           1.1          0.1        1\n",
       "11           5.4          3.7           1.5          0.2        1\n",
       "6            5.4          3.9           1.7          0.4        1\n",
       "3            4.7          3.2           1.3          0.2        1\n",
       "1            5.1          3.5           1.4          0.2        1"
      ]
     },
     "execution_count": 13,
     "metadata": {},
     "output_type": "execute_result"
    }
   ],
   "source": [
    "#train dataset\n",
    "iris_train.head()"
   ]
  },
  {
   "cell_type": "code",
   "execution_count": 14,
   "id": "58c9d763-4f19-449e-a35b-676d4d026acc",
   "metadata": {},
   "outputs": [
    {
     "data": {
      "text/html": [
       "<style type=\"text/css\">\n",
       "\ttable {border:ridge 5px;}\n",
       "\ttable td {border:inset 1px;}\n",
       "\ttable tr#HeaderRow {background-color:grey; color:white;}</style>\n",
       "<html><table>\n",
       "\t<tr id=\"HeaderRow\">\n",
       "\t\t<th>id</th>\n",
       "\t\t<th>sepal_length</th>\n",
       "\t\t<th>sepal_width</th>\n",
       "\t\t<th>petal_length</th>\n",
       "\t\t<th>petal_width</th>\n",
       "\t\t<th>species</th>\n",
       "\t</tr>\n",
       "\t<tr>\n",
       "\t\t<td>9</td>\n",
       "\t\t<td>4.4</td>\n",
       "\t\t<td>2.9</td>\n",
       "\t\t<td>1.4</td>\n",
       "\t\t<td>0.2</td>\n",
       "\t\t<td>1</td>\n",
       "\t</tr>\n",
       "\t<tr>\n",
       "\t\t<td>22</td>\n",
       "\t\t<td>5.1</td>\n",
       "\t\t<td>3.7</td>\n",
       "\t\t<td>1.5</td>\n",
       "\t\t<td>0.4</td>\n",
       "\t\t<td>1</td>\n",
       "\t</tr>\n",
       "\t<tr>\n",
       "\t\t<td>23</td>\n",
       "\t\t<td>4.6</td>\n",
       "\t\t<td>3.6</td>\n",
       "\t\t<td>1.0</td>\n",
       "\t\t<td>0.2</td>\n",
       "\t\t<td>1</td>\n",
       "\t</tr>\n",
       "\t<tr>\n",
       "\t\t<td>25</td>\n",
       "\t\t<td>4.8</td>\n",
       "\t\t<td>3.4</td>\n",
       "\t\t<td>1.9</td>\n",
       "\t\t<td>0.2</td>\n",
       "\t\t<td>1</td>\n",
       "\t</tr>\n",
       "\t<tr>\n",
       "\t\t<td>35</td>\n",
       "\t\t<td>4.9</td>\n",
       "\t\t<td>3.1</td>\n",
       "\t\t<td>1.5</td>\n",
       "\t\t<td>0.2</td>\n",
       "\t\t<td>1</td>\n",
       "\t</tr>\n",
       "\t<tr>\n",
       "\t\t<td>38</td>\n",
       "\t\t<td>4.9</td>\n",
       "\t\t<td>3.6</td>\n",
       "\t\t<td>1.4</td>\n",
       "\t\t<td>0.1</td>\n",
       "\t\t<td>1</td>\n",
       "\t</tr>\n",
       "\t<tr>\n",
       "\t\t<td>30</td>\n",
       "\t\t<td>4.7</td>\n",
       "\t\t<td>3.2</td>\n",
       "\t\t<td>1.6</td>\n",
       "\t\t<td>0.2</td>\n",
       "\t\t<td>1</td>\n",
       "\t</tr>\n",
       "\t<tr>\n",
       "\t\t<td>12</td>\n",
       "\t\t<td>4.8</td>\n",
       "\t\t<td>3.4</td>\n",
       "\t\t<td>1.6</td>\n",
       "\t\t<td>0.2</td>\n",
       "\t\t<td>1</td>\n",
       "\t</tr>\n",
       "\t<tr>\n",
       "\t\t<td>5</td>\n",
       "\t\t<td>5.0</td>\n",
       "\t\t<td>3.6</td>\n",
       "\t\t<td>1.4</td>\n",
       "\t\t<td>0.2</td>\n",
       "\t\t<td>1</td>\n",
       "\t</tr>\n",
       "\t<tr>\n",
       "\t\t<td>2</td>\n",
       "\t\t<td>4.9</td>\n",
       "\t\t<td>3.0</td>\n",
       "\t\t<td>1.4</td>\n",
       "\t\t<td>0.2</td>\n",
       "\t\t<td>1</td>\n",
       "\t</tr>\n",
       "</table></html>"
      ],
      "text/plain": [
       "    sepal_length  sepal_width  petal_length  petal_width  species\n",
       "id                                                               \n",
       "9            4.4          2.9           1.4          0.2        1\n",
       "22           5.1          3.7           1.5          0.4        1\n",
       "23           4.6          3.6           1.0          0.2        1\n",
       "25           4.8          3.4           1.9          0.2        1\n",
       "35           4.9          3.1           1.5          0.2        1\n",
       "38           4.9          3.6           1.4          0.1        1\n",
       "30           4.7          3.2           1.6          0.2        1\n",
       "12           4.8          3.4           1.6          0.2        1\n",
       "5            5.0          3.6           1.4          0.2        1\n",
       "2            4.9          3.0           1.4          0.2        1"
      ]
     },
     "execution_count": 14,
     "metadata": {},
     "output_type": "execute_result"
    }
   ],
   "source": [
    "# test dataset\n",
    "iris_test.head()"
   ]
  },
  {
   "cell_type": "markdown",
   "id": "856ea871-93d8-4ea2-b524-1acb23bd7eb5",
   "metadata": {},
   "source": [
    "## <b><span style='color:#F1A424'>| 2.</span> Fitting AutoML </b>"
   ]
  },
  {
   "cell_type": "code",
   "execution_count": 15,
   "id": "f3650aa5-a408-4227-a88d-79c0f3d36d3c",
   "metadata": {},
   "outputs": [],
   "source": [
    "# Creating AutoClassifier instance\n",
    "# Using only 'xgboost' and 'knn' for model training\n",
    "# Keeping early stopping timer threshold to 300 sec and max_models 5\n",
    "# and verbose level 2 for detailed loggging\n",
    "\n",
    "aml = AutoClassifier(include=['xgboost', 'knn'],\n",
    "                     verbose=2,\n",
    "                     max_runtime_secs=300,\n",
    "                     max_models=5)"
   ]
  },
  {
   "cell_type": "code",
   "execution_count": 16,
   "id": "a1b7a771-1bfa-40c9-8ad0-c377d320c137",
   "metadata": {},
   "outputs": [
    {
     "data": {
      "text/html": [
       "\n",
       "            <style>\n",
       "                .custom-div {\n",
       "                    background-color: lightgray;\n",
       "                    color: #000000;\n",
       "                    padding: 10px;\n",
       "                    border-radius: 8px;\n",
       "                    box-shadow: 0 3px 4px rgba(0, 0, 0, 0.2);\n",
       "                    margin-bottom: 10px;\n",
       "                    text-align: center;\n",
       "                }\n",
       "            </style>\n",
       "        <br><div class=\"custom-div\"><h3><span style=\"color: green;\"></span>1. Feature Exploration -> 2. Feature Engineering -> 3. Data Preparation -> 4. Model Training & Evaluation<center></h3></center></div>"
      ],
      "text/plain": [
       "<IPython.core.display.HTML object>"
      ]
     },
     "metadata": {},
     "output_type": "display_data"
    },
    {
     "name": "stdout",
     "output_type": "stream",
     "text": [
      "Feature Exploration started ...\n",
      "\n",
      "Data Overview:\n",
      "Total Rows in the data: 120\n",
      "Total Columns in the data: 6\n",
      "\n",
      "Column Summary:\n"
     ]
    },
    {
     "data": {
      "text/html": [
       "<style type=\"text/css\">\n",
       "\ttable {border:ridge 5px;}\n",
       "\ttable td {border:inset 1px;}\n",
       "\ttable tr#HeaderRow {background-color:grey; color:white;}</style>\n",
       "<html><table>\n",
       "\t<tr id=\"HeaderRow\">\n",
       "\t\t<th>ColumnName</th>\n",
       "\t\t<th>Datatype</th>\n",
       "\t\t<th>NonNullCount</th>\n",
       "\t\t<th>NullCount</th>\n",
       "\t\t<th>BlankCount</th>\n",
       "\t\t<th>ZeroCount</th>\n",
       "\t\t<th>PositiveCount</th>\n",
       "\t\t<th>NegativeCount</th>\n",
       "\t\t<th>NullPercentage</th>\n",
       "\t\t<th>NonNullPercentage</th>\n",
       "\t</tr>\n",
       "\t<tr>\n",
       "\t\t<td>sepal_length</td>\n",
       "\t\t<td>FLOAT</td>\n",
       "\t\t<td>120</td>\n",
       "\t\t<td>0</td>\n",
       "\t\t<td>None</td>\n",
       "\t\t<td>0</td>\n",
       "\t\t<td>120</td>\n",
       "\t\t<td>0</td>\n",
       "\t\t<td>0.0</td>\n",
       "\t\t<td>100.0</td>\n",
       "\t</tr>\n",
       "\t<tr>\n",
       "\t\t<td>species</td>\n",
       "\t\t<td>INTEGER</td>\n",
       "\t\t<td>120</td>\n",
       "\t\t<td>0</td>\n",
       "\t\t<td>None</td>\n",
       "\t\t<td>0</td>\n",
       "\t\t<td>120</td>\n",
       "\t\t<td>0</td>\n",
       "\t\t<td>0.0</td>\n",
       "\t\t<td>100.0</td>\n",
       "\t</tr>\n",
       "\t<tr>\n",
       "\t\t<td>petal_length</td>\n",
       "\t\t<td>FLOAT</td>\n",
       "\t\t<td>120</td>\n",
       "\t\t<td>0</td>\n",
       "\t\t<td>None</td>\n",
       "\t\t<td>0</td>\n",
       "\t\t<td>120</td>\n",
       "\t\t<td>0</td>\n",
       "\t\t<td>0.0</td>\n",
       "\t\t<td>100.0</td>\n",
       "\t</tr>\n",
       "\t<tr>\n",
       "\t\t<td>sepal_width</td>\n",
       "\t\t<td>FLOAT</td>\n",
       "\t\t<td>120</td>\n",
       "\t\t<td>0</td>\n",
       "\t\t<td>None</td>\n",
       "\t\t<td>0</td>\n",
       "\t\t<td>120</td>\n",
       "\t\t<td>0</td>\n",
       "\t\t<td>0.0</td>\n",
       "\t\t<td>100.0</td>\n",
       "\t</tr>\n",
       "\t<tr>\n",
       "\t\t<td>petal_width</td>\n",
       "\t\t<td>FLOAT</td>\n",
       "\t\t<td>120</td>\n",
       "\t\t<td>0</td>\n",
       "\t\t<td>None</td>\n",
       "\t\t<td>0</td>\n",
       "\t\t<td>120</td>\n",
       "\t\t<td>0</td>\n",
       "\t\t<td>0.0</td>\n",
       "\t\t<td>100.0</td>\n",
       "\t</tr>\n",
       "\t<tr>\n",
       "\t\t<td>id</td>\n",
       "\t\t<td>INTEGER</td>\n",
       "\t\t<td>120</td>\n",
       "\t\t<td>0</td>\n",
       "\t\t<td>None</td>\n",
       "\t\t<td>0</td>\n",
       "\t\t<td>120</td>\n",
       "\t\t<td>0</td>\n",
       "\t\t<td>0.0</td>\n",
       "\t\t<td>100.0</td>\n",
       "\t</tr>\n",
       "</table></html>"
      ],
      "text/plain": [
       "     ColumnName Datatype  NonNullCount  NullCount BlankCount  ZeroCount  PositiveCount  NegativeCount  NullPercentage  NonNullPercentage\n",
       "0  sepal_length    FLOAT           120          0       None          0            120              0             0.0              100.0\n",
       "1       species  INTEGER           120          0       None          0            120              0             0.0              100.0\n",
       "2  petal_length    FLOAT           120          0       None          0            120              0             0.0              100.0\n",
       "3   sepal_width    FLOAT           120          0       None          0            120              0             0.0              100.0\n",
       "4   petal_width    FLOAT           120          0       None          0            120              0             0.0              100.0\n",
       "5            id  INTEGER           120          0       None          0            120              0             0.0              100.0"
      ]
     },
     "metadata": {},
     "output_type": "display_data"
    },
    {
     "name": "stdout",
     "output_type": "stream",
     "text": [
      "\n",
      "Statistics of Data:\n"
     ]
    },
    {
     "data": {
      "text/html": [
       "<style type=\"text/css\">\n",
       "\ttable {border:ridge 5px;}\n",
       "\ttable td {border:inset 1px;}\n",
       "\ttable tr#HeaderRow {background-color:grey; color:white;}</style>\n",
       "<html><table>\n",
       "\t<tr id=\"HeaderRow\">\n",
       "\t\t<th>func</th>\n",
       "\t\t<th>id</th>\n",
       "\t\t<th>sepal_length</th>\n",
       "\t\t<th>sepal_width</th>\n",
       "\t\t<th>petal_length</th>\n",
       "\t\t<th>petal_width</th>\n",
       "\t\t<th>species</th>\n",
       "\t</tr>\n",
       "\t<tr>\n",
       "\t\t<td>min</td>\n",
       "\t\t<td>1</td>\n",
       "\t\t<td>4.3</td>\n",
       "\t\t<td>2.2</td>\n",
       "\t\t<td>1.1</td>\n",
       "\t\t<td>0.1</td>\n",
       "\t\t<td>1</td>\n",
       "\t</tr>\n",
       "\t<tr>\n",
       "\t\t<td>std</td>\n",
       "\t\t<td>43.129</td>\n",
       "\t\t<td>0.82</td>\n",
       "\t\t<td>0.425</td>\n",
       "\t\t<td>1.765</td>\n",
       "\t\t<td>0.765</td>\n",
       "\t\t<td>0.82</td>\n",
       "\t</tr>\n",
       "\t<tr>\n",
       "\t\t<td>25%</td>\n",
       "\t\t<td>40.75</td>\n",
       "\t\t<td>5.2</td>\n",
       "\t\t<td>2.8</td>\n",
       "\t\t<td>1.6</td>\n",
       "\t\t<td>0.3</td>\n",
       "\t\t<td>1</td>\n",
       "\t</tr>\n",
       "\t<tr>\n",
       "\t\t<td>50%</td>\n",
       "\t\t<td>76.5</td>\n",
       "\t\t<td>5.8</td>\n",
       "\t\t<td>3</td>\n",
       "\t\t<td>4.4</td>\n",
       "\t\t<td>1.35</td>\n",
       "\t\t<td>2</td>\n",
       "\t</tr>\n",
       "\t<tr>\n",
       "\t\t<td>75%</td>\n",
       "\t\t<td>114.25</td>\n",
       "\t\t<td>6.5</td>\n",
       "\t\t<td>3.3</td>\n",
       "\t\t<td>5.1</td>\n",
       "\t\t<td>1.825</td>\n",
       "\t\t<td>3</td>\n",
       "\t</tr>\n",
       "\t<tr>\n",
       "\t\t<td>max</td>\n",
       "\t\t<td>149</td>\n",
       "\t\t<td>7.7</td>\n",
       "\t\t<td>4.4</td>\n",
       "\t\t<td>6.9</td>\n",
       "\t\t<td>2.5</td>\n",
       "\t\t<td>3</td>\n",
       "\t</tr>\n",
       "\t<tr>\n",
       "\t\t<td>mean</td>\n",
       "\t\t<td>76.35</td>\n",
       "\t\t<td>5.895</td>\n",
       "\t\t<td>3.075</td>\n",
       "\t\t<td>3.817</td>\n",
       "\t\t<td>1.236</td>\n",
       "\t\t<td>2.017</td>\n",
       "\t</tr>\n",
       "\t<tr>\n",
       "\t\t<td>count</td>\n",
       "\t\t<td>120</td>\n",
       "\t\t<td>120</td>\n",
       "\t\t<td>120</td>\n",
       "\t\t<td>120</td>\n",
       "\t\t<td>120</td>\n",
       "\t\t<td>120</td>\n",
       "\t</tr>\n",
       "</table></html>"
      ],
      "text/plain": [
       "            id  sepal_length  sepal_width  petal_length  petal_width  species\n",
       "func                                                                         \n",
       "min      1.000         4.300        2.200         1.100        0.100    1.000\n",
       "std     43.129         0.820        0.425         1.765        0.765    0.820\n",
       "25%     40.750         5.200        2.800         1.600        0.300    1.000\n",
       "50%     76.500         5.800        3.000         4.400        1.350    2.000\n",
       "75%    114.250         6.500        3.300         5.100        1.825    3.000\n",
       "max    149.000         7.700        4.400         6.900        2.500    3.000\n",
       "mean    76.350         5.895        3.075         3.817        1.236    2.017\n",
       "count  120.000       120.000      120.000       120.000      120.000  120.000"
      ]
     },
     "metadata": {},
     "output_type": "display_data"
    },
    {
     "name": "stdout",
     "output_type": "stream",
     "text": [
      "\n",
      "Target Column Distribution:\n"
     ]
    },
    {
     "data": {
      "image/png": "[encoded data removed]",
      "text/plain": [
       "<Figure size 600x600 with 1 Axes>"
      ]
     },
     "metadata": {},
     "output_type": "display_data"
    },
    {
     "name": "stdout",
     "output_type": "stream",
     "text": [
      "Columns with outlier percentage :-                                                                                                                                                                                                                                                                                                                                                                                                                                                                                  \n",
      "    ColumnName  OutlierPercentage\n",
      "0  sepal_width                2.5\n",
      "                                                                                        \r"
     ]
    },
    {
     "data": {
      "text/html": [
       "\n",
       "            <style>\n",
       "                .custom-div {\n",
       "                    background-color: lightgray;\n",
       "                    color: #000000;\n",
       "                    padding: 10px;\n",
       "                    border-radius: 8px;\n",
       "                    box-shadow: 0 3px 4px rgba(0 -  0 -  0 -  0.2);\n",
       "                    margin-bottom: 10px;\n",
       "                    text-align: center;\n",
       "                }\n",
       "            </style>\n",
       "        <br><div class=\"custom-div\"><h3><span style=\"color: green;\">1. Feature Exploration -></span> 2. Feature Engineering -> 3. Data Preparation -> 4. Model Training & Evaluation<center></h3></center></div>"
      ],
      "text/plain": [
       "<IPython.core.display.HTML object>"
      ]
     },
     "metadata": {},
     "output_type": "display_data"
    },
    {
     "name": "stdout",
     "output_type": "stream",
     "text": [
      "                                                                                        \r"
     ]
    },
    {
     "data": {
      "text/html": [
       "Feature Engineering started ..."
      ],
      "text/plain": [
       "<IPython.core.display.HTML object>"
      ]
     },
     "metadata": {},
     "output_type": "display_data"
    },
    {
     "name": "stdout",
     "output_type": "stream",
     "text": [
      "                                                                                        \r"
     ]
    },
    {
     "data": {
      "text/html": [
       "\n",
       "Handling duplicate records present in dataset ..."
      ],
      "text/plain": [
       "<IPython.core.display.HTML object>"
      ]
     },
     "metadata": {},
     "output_type": "display_data"
    },
    {
     "name": "stdout",
     "output_type": "stream",
     "text": [
      "Analysis completed. No action taken.                                                    \n",
      "                                                                                        \r"
     ]
    },
    {
     "data": {
      "text/html": [
       "Total time to handle duplicate records: 1.61 sec  "
      ],
      "text/plain": [
       "<IPython.core.display.HTML object>"
      ]
     },
     "metadata": {},
     "output_type": "display_data"
    },
    {
     "name": "stdout",
     "output_type": "stream",
     "text": [
      "                                                                                        \r"
     ]
    },
    {
     "data": {
      "text/html": [
       "\n",
       "Handling less significant features from data ..."
      ],
      "text/plain": [
       "<IPython.core.display.HTML object>"
      ]
     },
     "metadata": {},
     "output_type": "display_data"
    },
    {
     "name": "stdout",
     "output_type": "stream",
     "text": [
      "                                                                                        \r"
     ]
    },
    {
     "data": {
      "text/html": [
       "Total time to handle less significant features: 5.53 sec  "
      ],
      "text/plain": [
       "<IPython.core.display.HTML object>"
      ]
     },
     "metadata": {},
     "output_type": "display_data"
    },
    {
     "name": "stdout",
     "output_type": "stream",
     "text": [
      "                                                                                         \r"
     ]
    },
    {
     "data": {
      "text/html": [
       "\n",
       "Handling Date Features ..."
      ],
      "text/plain": [
       "<IPython.core.display.HTML object>"
      ]
     },
     "metadata": {},
     "output_type": "display_data"
    },
    {
     "name": "stdout",
     "output_type": "stream",
     "text": [
      "Analysis Completed. Dataset does not contain any feature related to dates. No action needed.\n",
      "                                                                                         \r"
     ]
    },
    {
     "data": {
      "text/html": [
       "Total time to handle date features: 0.00 sec\n"
      ],
      "text/plain": [
       "<IPython.core.display.HTML object>"
      ]
     },
     "metadata": {},
     "output_type": "display_data"
    },
    {
     "name": "stdout",
     "output_type": "stream",
     "text": [
      "                                                                                         \r"
     ]
    },
    {
     "data": {
      "text/html": [
       "\n",
       "Checking Missing values in dataset ..."
      ],
      "text/plain": [
       "<IPython.core.display.HTML object>"
      ]
     },
     "metadata": {},
     "output_type": "display_data"
    },
    {
     "name": "stdout",
     "output_type": "stream",
     "text": [
      "Analysis Completed. No Missing Values Detected.                                          \n",
      "                                                                                         \r"
     ]
    },
    {
     "data": {
      "text/html": [
       "Total time to find missing values in data: 8.56 sec  "
      ],
      "text/plain": [
       "<IPython.core.display.HTML object>"
      ]
     },
     "metadata": {},
     "output_type": "display_data"
    },
    {
     "name": "stdout",
     "output_type": "stream",
     "text": [
      "                                                                                         \r"
     ]
    },
    {
     "data": {
      "text/html": [
       "\n",
       "Imputing Missing Values ..."
      ],
      "text/plain": [
       "<IPython.core.display.HTML object>"
      ]
     },
     "metadata": {},
     "output_type": "display_data"
    },
    {
     "name": "stdout",
     "output_type": "stream",
     "text": [
      "Analysis completed. No imputation required.                                              \n",
      "                                                                                         \r"
     ]
    },
    {
     "data": {
      "text/html": [
       "Time taken to perform imputation: 0.01 sec  "
      ],
      "text/plain": [
       "<IPython.core.display.HTML object>"
      ]
     },
     "metadata": {},
     "output_type": "display_data"
    },
    {
     "name": "stdout",
     "output_type": "stream",
     "text": [
      "                                                                                         \r"
     ]
    },
    {
     "data": {
      "text/html": [
       "\n",
       "Performing encoding for categorical columns ..."
      ],
      "text/plain": [
       "<IPython.core.display.HTML object>"
      ]
     },
     "metadata": {},
     "output_type": "display_data"
    },
    {
     "name": "stdout",
     "output_type": "stream",
     "text": [
      "Analysis completed. No categorical columns were found.                                   \n",
      "                                                                                         \r"
     ]
    },
    {
     "data": {
      "text/html": [
       "Time taken to encode the columns: 1.43 sec"
      ],
      "text/plain": [
       "<IPython.core.display.HTML object>"
      ]
     },
     "metadata": {},
     "output_type": "display_data"
    },
    {
     "name": "stdout",
     "output_type": "stream",
     "text": [
      "                                                                                         \r"
     ]
    },
    {
     "data": {
      "text/html": [
       "\n",
       "            <style>\n",
       "                .custom-div {\n",
       "                    background-color: lightgray;\n",
       "                    color: #000000;\n",
       "                    padding: 10px;\n",
       "                    border-radius: 8px;\n",
       "                    box-shadow: 0 3px 4px rgba(0 -  0 -  0 -  0.2);\n",
       "                    margin-bottom: 10px;\n",
       "                    text-align: center;\n",
       "                }\n",
       "            </style>\n",
       "        <br><div class=\"custom-div\"><h3><span style=\"color: green;\">1. Feature Exploration -> 2. Feature Engineering -></span> 3. Data Preparation -> 4. Model Training & Evaluation<center></h3></center></div>"
      ],
      "text/plain": [
       "<IPython.core.display.HTML object>"
      ]
     },
     "metadata": {},
     "output_type": "display_data"
    },
    {
     "name": "stdout",
     "output_type": "stream",
     "text": [
      "                                                                                         \r"
     ]
    },
    {
     "data": {
      "text/html": [
       "Data preparation started ..."
      ],
      "text/plain": [
       "<IPython.core.display.HTML object>"
      ]
     },
     "metadata": {},
     "output_type": "display_data"
    },
    {
     "name": "stdout",
     "output_type": "stream",
     "text": [
      "                                                                                         \r"
     ]
    },
    {
     "data": {
      "text/html": [
       "\n",
       "Spliting of dataset into training and testing ..."
      ],
      "text/plain": [
       "<IPython.core.display.HTML object>"
      ]
     },
     "metadata": {},
     "output_type": "display_data"
    },
    {
     "name": "stdout",
     "output_type": "stream",
     "text": [
      "Training size : 0.8                                                                      \n",
      "Testing size  : 0.2                                                                      \n",
      "                                                                                         \r"
     ]
    },
    {
     "data": {
      "text/html": [
       "Training data sample"
      ],
      "text/plain": [
       "<IPython.core.display.HTML object>"
      ]
     },
     "metadata": {},
     "output_type": "display_data"
    },
    {
     "data": {
      "text/html": [
       "<style type=\"text/css\">\n",
       "\ttable {border:ridge 5px;}\n",
       "\ttable td {border:inset 1px;}\n",
       "\ttable tr#HeaderRow {background-color:grey; color:white;}</style>\n",
       "<html><table>\n",
       "\t<tr id=\"HeaderRow\">\n",
       "\t\t<th>sepal_length</th>\n",
       "\t\t<th>sepal_width</th>\n",
       "\t\t<th>petal_length</th>\n",
       "\t\t<th>petal_width</th>\n",
       "\t\t<th>species</th>\n",
       "\t\t<th>id</th>\n",
       "\t</tr>\n",
       "\t<tr>\n",
       "\t\t<td>5.1</td>\n",
       "\t\t<td>3.4</td>\n",
       "\t\t<td>1.5</td>\n",
       "\t\t<td>0.2</td>\n",
       "\t\t<td>1</td>\n",
       "\t\t<td>10</td>\n",
       "\t</tr>\n",
       "\t<tr>\n",
       "\t\t<td>6.3</td>\n",
       "\t\t<td>3.3</td>\n",
       "\t\t<td>6.0</td>\n",
       "\t\t<td>2.5</td>\n",
       "\t\t<td>3</td>\n",
       "\t\t<td>9</td>\n",
       "\t</tr>\n",
       "\t<tr>\n",
       "\t\t<td>5.4</td>\n",
       "\t\t<td>3.9</td>\n",
       "\t\t<td>1.3</td>\n",
       "\t\t<td>0.4</td>\n",
       "\t\t<td>1</td>\n",
       "\t\t<td>17</td>\n",
       "\t</tr>\n",
       "\t<tr>\n",
       "\t\t<td>7.7</td>\n",
       "\t\t<td>3.8</td>\n",
       "\t\t<td>6.7</td>\n",
       "\t\t<td>2.2</td>\n",
       "\t\t<td>3</td>\n",
       "\t\t<td>12</td>\n",
       "\t</tr>\n",
       "\t<tr>\n",
       "\t\t<td>5.6</td>\n",
       "\t\t<td>2.8</td>\n",
       "\t\t<td>4.9</td>\n",
       "\t\t<td>2.0</td>\n",
       "\t\t<td>3</td>\n",
       "\t\t<td>11</td>\n",
       "\t</tr>\n",
       "\t<tr>\n",
       "\t\t<td>5.7</td>\n",
       "\t\t<td>3.8</td>\n",
       "\t\t<td>1.7</td>\n",
       "\t\t<td>0.3</td>\n",
       "\t\t<td>1</td>\n",
       "\t\t<td>19</td>\n",
       "\t</tr>\n",
       "\t<tr>\n",
       "\t\t<td>6.7</td>\n",
       "\t\t<td>3.1</td>\n",
       "\t\t<td>5.6</td>\n",
       "\t\t<td>2.4</td>\n",
       "\t\t<td>3</td>\n",
       "\t\t<td>14</td>\n",
       "\t</tr>\n",
       "\t<tr>\n",
       "\t\t<td>5.0</td>\n",
       "\t\t<td>3.2</td>\n",
       "\t\t<td>1.2</td>\n",
       "\t\t<td>0.2</td>\n",
       "\t\t<td>1</td>\n",
       "\t\t<td>22</td>\n",
       "\t</tr>\n",
       "\t<tr>\n",
       "\t\t<td>5.6</td>\n",
       "\t\t<td>2.7</td>\n",
       "\t\t<td>4.2</td>\n",
       "\t\t<td>1.3</td>\n",
       "\t\t<td>2</td>\n",
       "\t\t<td>13</td>\n",
       "\t</tr>\n",
       "\t<tr>\n",
       "\t\t<td>6.4</td>\n",
       "\t\t<td>2.7</td>\n",
       "\t\t<td>5.3</td>\n",
       "\t\t<td>1.9</td>\n",
       "\t\t<td>3</td>\n",
       "\t\t<td>21</td>\n",
       "\t</tr>\n",
       "</table></html>"
      ],
      "text/plain": [
       "   sepal_length  sepal_width  petal_length  petal_width  species  id\n",
       "0           5.1          3.4           1.5          0.2        1  10\n",
       "1           6.3          3.3           6.0          2.5        3   9\n",
       "2           5.4          3.9           1.3          0.4        1  17\n",
       "3           7.7          3.8           6.7          2.2        3  12\n",
       "4           5.6          2.8           4.9          2.0        3  11\n",
       "5           5.7          3.8           1.7          0.3        1  19\n",
       "6           6.7          3.1           5.6          2.4        3  14\n",
       "7           5.0          3.2           1.2          0.2        1  22\n",
       "8           5.6          2.7           4.2          1.3        2  13\n",
       "9           6.4          2.7           5.3          1.9        3  21"
      ]
     },
     "metadata": {},
     "output_type": "display_data"
    },
    {
     "name": "stdout",
     "output_type": "stream",
     "text": [
      "                                                                                         \r"
     ]
    },
    {
     "data": {
      "text/html": [
       "96 rows X 6 columns"
      ],
      "text/plain": [
       "<IPython.core.display.HTML object>"
      ]
     },
     "metadata": {},
     "output_type": "display_data"
    },
    {
     "name": "stdout",
     "output_type": "stream",
     "text": [
      "                                                                                         \r"
     ]
    },
    {
     "data": {
      "text/html": [
       "Testing data sample"
      ],
      "text/plain": [
       "<IPython.core.display.HTML object>"
      ]
     },
     "metadata": {},
     "output_type": "display_data"
    },
    {
     "data": {
      "text/html": [
       "<style type=\"text/css\">\n",
       "\ttable {border:ridge 5px;}\n",
       "\ttable td {border:inset 1px;}\n",
       "\ttable tr#HeaderRow {background-color:grey; color:white;}</style>\n",
       "<html><table>\n",
       "\t<tr id=\"HeaderRow\">\n",
       "\t\t<th>sepal_length</th>\n",
       "\t\t<th>sepal_width</th>\n",
       "\t\t<th>petal_length</th>\n",
       "\t\t<th>petal_width</th>\n",
       "\t\t<th>species</th>\n",
       "\t\t<th>id</th>\n",
       "\t</tr>\n",
       "\t<tr>\n",
       "\t\t<td>6.3</td>\n",
       "\t\t<td>3.3</td>\n",
       "\t\t<td>4.7</td>\n",
       "\t\t<td>1.6</td>\n",
       "\t\t<td>2</td>\n",
       "\t\t<td>26</td>\n",
       "\t</tr>\n",
       "\t<tr>\n",
       "\t\t<td>6.6</td>\n",
       "\t\t<td>2.9</td>\n",
       "\t\t<td>4.6</td>\n",
       "\t\t<td>1.3</td>\n",
       "\t\t<td>2</td>\n",
       "\t\t<td>27</td>\n",
       "\t</tr>\n",
       "\t<tr>\n",
       "\t\t<td>6.9</td>\n",
       "\t\t<td>3.1</td>\n",
       "\t\t<td>5.4</td>\n",
       "\t\t<td>2.1</td>\n",
       "\t\t<td>3</td>\n",
       "\t\t<td>91</td>\n",
       "\t</tr>\n",
       "\t<tr>\n",
       "\t\t<td>5.2</td>\n",
       "\t\t<td>3.5</td>\n",
       "\t\t<td>1.5</td>\n",
       "\t\t<td>0.2</td>\n",
       "\t\t<td>1</td>\n",
       "\t\t<td>30</td>\n",
       "\t</tr>\n",
       "\t<tr>\n",
       "\t\t<td>5.8</td>\n",
       "\t\t<td>4.0</td>\n",
       "\t\t<td>1.2</td>\n",
       "\t\t<td>0.2</td>\n",
       "\t\t<td>1</td>\n",
       "\t\t<td>31</td>\n",
       "\t</tr>\n",
       "\t<tr>\n",
       "\t\t<td>6.7</td>\n",
       "\t\t<td>3.3</td>\n",
       "\t\t<td>5.7</td>\n",
       "\t\t<td>2.1</td>\n",
       "\t\t<td>3</td>\n",
       "\t\t<td>95</td>\n",
       "\t</tr>\n",
       "\t<tr>\n",
       "\t\t<td>6.1</td>\n",
       "\t\t<td>2.6</td>\n",
       "\t\t<td>5.6</td>\n",
       "\t\t<td>1.4</td>\n",
       "\t\t<td>3</td>\n",
       "\t\t<td>28</td>\n",
       "\t</tr>\n",
       "\t<tr>\n",
       "\t\t<td>6.4</td>\n",
       "\t\t<td>2.9</td>\n",
       "\t\t<td>4.3</td>\n",
       "\t\t<td>1.3</td>\n",
       "\t\t<td>2</td>\n",
       "\t\t<td>68</td>\n",
       "\t</tr>\n",
       "\t<tr>\n",
       "\t\t<td>6.3</td>\n",
       "\t\t<td>2.5</td>\n",
       "\t\t<td>5.0</td>\n",
       "\t\t<td>1.9</td>\n",
       "\t\t<td>3</td>\n",
       "\t\t<td>102</td>\n",
       "\t</tr>\n",
       "\t<tr>\n",
       "\t\t<td>4.9</td>\n",
       "\t\t<td>2.5</td>\n",
       "\t\t<td>4.5</td>\n",
       "\t\t<td>1.7</td>\n",
       "\t\t<td>3</td>\n",
       "\t\t<td>106</td>\n",
       "\t</tr>\n",
       "</table></html>"
      ],
      "text/plain": [
       "   sepal_length  sepal_width  petal_length  petal_width  species   id\n",
       "0           6.3          3.3           4.7          1.6        2   26\n",
       "1           6.6          2.9           4.6          1.3        2   27\n",
       "2           6.9          3.1           5.4          2.1        3   91\n",
       "3           5.2          3.5           1.5          0.2        1   30\n",
       "4           5.8          4.0           1.2          0.2        1   31\n",
       "5           6.7          3.3           5.7          2.1        3   95\n",
       "6           6.1          2.6           5.6          1.4        3   28\n",
       "7           6.4          2.9           4.3          1.3        2   68\n",
       "8           6.3          2.5           5.0          1.9        3  102\n",
       "9           4.9          2.5           4.5          1.7        3  106"
      ]
     },
     "metadata": {},
     "output_type": "display_data"
    },
    {
     "name": "stdout",
     "output_type": "stream",
     "text": [
      "                                                                                         \r"
     ]
    },
    {
     "data": {
      "text/html": [
       "24 rows X 6 columns"
      ],
      "text/plain": [
       "<IPython.core.display.HTML object>"
      ]
     },
     "metadata": {},
     "output_type": "display_data"
    },
    {
     "name": "stdout",
     "output_type": "stream",
     "text": [
      "                                                                                         \r"
     ]
    },
    {
     "data": {
      "text/html": [
       "Time taken for spliting of data: 11.97 sec  "
      ],
      "text/plain": [
       "<IPython.core.display.HTML object>"
      ]
     },
     "metadata": {},
     "output_type": "display_data"
    },
    {
     "name": "stdout",
     "output_type": "stream",
     "text": [
      "                                                                                         \r"
     ]
    },
    {
     "data": {
      "text/html": [
       "\n",
       "Outlier preprocessing ..."
      ],
      "text/plain": [
       "<IPython.core.display.HTML object>"
      ]
     },
     "metadata": {},
     "output_type": "display_data"
    },
    {
     "name": "stdout",
     "output_type": "stream",
     "text": [
      "Columns with outlier percentage :-                                                                                                                                                                                                                                                                                                                                                                                                                                                                                  \n",
      "    ColumnName  OutlierPercentage\n",
      "0  sepal_width                2.5\n",
      "                                                                                         \r"
     ]
    },
    {
     "data": {
      "text/html": [
       "Deleting rows of these columns:"
      ],
      "text/plain": [
       "<IPython.core.display.HTML object>"
      ]
     },
     "metadata": {},
     "output_type": "display_data"
    },
    {
     "name": "stdout",
     "output_type": "stream",
     "text": [
      "['sepal_width']\n",
      "result data stored in table '\"ALICE\".\"ml__td_sqlmr_persist_out__1719256655544986\"' - 7/16\n",
      "                                                                                         \r"
     ]
    },
    {
     "data": {
      "text/html": [
       "Sample of training dataset after removing outlier rows:"
      ],
      "text/plain": [
       "<IPython.core.display.HTML object>"
      ]
     },
     "metadata": {},
     "output_type": "display_data"
    },
    {
     "data": {
      "text/html": [
       "<style type=\"text/css\">\n",
       "\ttable {border:ridge 5px;}\n",
       "\ttable td {border:inset 1px;}\n",
       "\ttable tr#HeaderRow {background-color:grey; color:white;}</style>\n",
       "<html><table>\n",
       "\t<tr id=\"HeaderRow\">\n",
       "\t\t<th>sepal_length</th>\n",
       "\t\t<th>sepal_width</th>\n",
       "\t\t<th>petal_length</th>\n",
       "\t\t<th>petal_width</th>\n",
       "\t\t<th>species</th>\n",
       "\t\t<th>id</th>\n",
       "\t</tr>\n",
       "\t<tr>\n",
       "\t\t<td>6.7</td>\n",
       "\t\t<td>3.3</td>\n",
       "\t\t<td>5.7</td>\n",
       "\t\t<td>2.5</td>\n",
       "\t\t<td>3</td>\n",
       "\t\t<td>144</td>\n",
       "\t</tr>\n",
       "\t<tr>\n",
       "\t\t<td>7.4</td>\n",
       "\t\t<td>2.8</td>\n",
       "\t\t<td>6.1</td>\n",
       "\t\t<td>1.9</td>\n",
       "\t\t<td>3</td>\n",
       "\t\t<td>16</td>\n",
       "\t</tr>\n",
       "\t<tr>\n",
       "\t\t<td>6.2</td>\n",
       "\t\t<td>2.8</td>\n",
       "\t\t<td>4.8</td>\n",
       "\t\t<td>1.8</td>\n",
       "\t\t<td>3</td>\n",
       "\t\t<td>50</td>\n",
       "\t</tr>\n",
       "\t<tr>\n",
       "\t\t<td>7.2</td>\n",
       "\t\t<td>3.2</td>\n",
       "\t\t<td>6.0</td>\n",
       "\t\t<td>1.8</td>\n",
       "\t\t<td>3</td>\n",
       "\t\t<td>136</td>\n",
       "\t</tr>\n",
       "\t<tr>\n",
       "\t\t<td>7.3</td>\n",
       "\t\t<td>2.9</td>\n",
       "\t\t<td>6.3</td>\n",
       "\t\t<td>1.8</td>\n",
       "\t\t<td>3</td>\n",
       "\t\t<td>63</td>\n",
       "\t</tr>\n",
       "\t<tr>\n",
       "\t\t<td>7.0</td>\n",
       "\t\t<td>3.2</td>\n",
       "\t\t<td>4.7</td>\n",
       "\t\t<td>1.4</td>\n",
       "\t\t<td>2</td>\n",
       "\t\t<td>55</td>\n",
       "\t</tr>\n",
       "\t<tr>\n",
       "\t\t<td>6.1</td>\n",
       "\t\t<td>2.8</td>\n",
       "\t\t<td>4.0</td>\n",
       "\t\t<td>1.3</td>\n",
       "\t\t<td>2</td>\n",
       "\t\t<td>44</td>\n",
       "\t</tr>\n",
       "\t<tr>\n",
       "\t\t<td>6.1</td>\n",
       "\t\t<td>2.8</td>\n",
       "\t\t<td>4.7</td>\n",
       "\t\t<td>1.2</td>\n",
       "\t\t<td>2</td>\n",
       "\t\t<td>43</td>\n",
       "\t</tr>\n",
       "\t<tr>\n",
       "\t\t<td>5.4</td>\n",
       "\t\t<td>3.4</td>\n",
       "\t\t<td>1.5</td>\n",
       "\t\t<td>0.4</td>\n",
       "\t\t<td>1</td>\n",
       "\t\t<td>39</td>\n",
       "\t</tr>\n",
       "\t<tr>\n",
       "\t\t<td>5.4</td>\n",
       "\t\t<td>3.7</td>\n",
       "\t\t<td>1.5</td>\n",
       "\t\t<td>0.2</td>\n",
       "\t\t<td>1</td>\n",
       "\t\t<td>41</td>\n",
       "\t</tr>\n",
       "</table></html>"
      ],
      "text/plain": [
       "              sepal_width  petal_length  petal_width  species   id\n",
       "sepal_length                                                      \n",
       "6.7                   3.3           5.7          2.5        3  144\n",
       "7.4                   2.8           6.1          1.9        3   16\n",
       "6.2                   2.8           4.8          1.8        3   50\n",
       "7.2                   3.2           6.0          1.8        3  136\n",
       "7.3                   2.9           6.3          1.8        3   63\n",
       "7.0                   3.2           4.7          1.4        2   55\n",
       "6.1                   2.8           4.0          1.3        2   44\n",
       "6.1                   2.8           4.7          1.2        2   43\n",
       "5.4                   3.4           1.5          0.4        1   39\n",
       "5.4                   3.7           1.5          0.2        1   41"
      ]
     },
     "metadata": {},
     "output_type": "display_data"
    },
    {
     "name": "stdout",
     "output_type": "stream",
     "text": [
      "                                                                                         \r"
     ]
    },
    {
     "data": {
      "text/html": [
       "94 rows X 6 columns"
      ],
      "text/plain": [
       "<IPython.core.display.HTML object>"
      ]
     },
     "metadata": {},
     "output_type": "display_data"
    },
    {
     "name": "stdout",
     "output_type": "stream",
     "text": [
      "                                                                                         \r"
     ]
    },
    {
     "data": {
      "text/html": [
       "Time Taken by Outlier processing: 37.25 sec "
      ],
      "text/plain": [
       "<IPython.core.display.HTML object>"
      ]
     },
     "metadata": {},
     "output_type": "display_data"
    },
    {
     "name": "stdout",
     "output_type": "stream",
     "text": [
      "result data stored in table '\"ALICE\".\"ml__td_sqlmr_persist_out__1719256731290005\"' - 8/16\n",
      "result data stored in table '\"ALICE\".\"ml__td_sqlmr_persist_out__1719256443657978\"'\n",
      "                                                                                         \r"
     ]
    },
    {
     "data": {
      "text/html": [
       "\n",
       "Checking imbalance data ..."
      ],
      "text/plain": [
       "<IPython.core.display.HTML object>"
      ]
     },
     "metadata": {},
     "output_type": "display_data"
    },
    {
     "name": "stdout",
     "output_type": "stream",
     "text": [
      "                                                                                         \r"
     ]
    },
    {
     "data": {
      "text/html": [
       "Imbalance Not Found."
      ],
      "text/plain": [
       "<IPython.core.display.HTML object>"
      ]
     },
     "metadata": {},
     "output_type": "display_data"
    },
    {
     "name": "stdout",
     "output_type": "stream",
     "text": [
      "                                                                                          \r"
     ]
    },
    {
     "data": {
      "text/html": [
       "\n",
       "Feature selection using lasso ..."
      ],
      "text/plain": [
       "<IPython.core.display.HTML object>"
      ]
     },
     "metadata": {},
     "output_type": "display_data"
    },
    {
     "name": "stdout",
     "output_type": "stream",
     "text": [
      "                                                                                          \r"
     ]
    },
    {
     "data": {
      "text/html": [
       "feature selected by lasso:"
      ],
      "text/plain": [
       "<IPython.core.display.HTML object>"
      ]
     },
     "metadata": {},
     "output_type": "display_data"
    },
    {
     "name": "stdout",
     "output_type": "stream",
     "text": [
      "['petal_width', 'sepal_width', 'sepal_length', 'petal_length']\n",
      "                                                                                          \r"
     ]
    },
    {
     "data": {
      "text/html": [
       "Total time taken by feature selection: 2.11 sec  "
      ],
      "text/plain": [
       "<IPython.core.display.HTML object>"
      ]
     },
     "metadata": {},
     "output_type": "display_data"
    },
    {
     "name": "stdout",
     "output_type": "stream",
     "text": [
      "                                                                                          \r"
     ]
    },
    {
     "data": {
      "text/html": [
       "\n",
       "scaling Features of lasso data ..."
      ],
      "text/plain": [
       "<IPython.core.display.HTML object>"
      ]
     },
     "metadata": {},
     "output_type": "display_data"
    },
    {
     "name": "stdout",
     "output_type": "stream",
     "text": [
      "                                                                                          \r"
     ]
    },
    {
     "data": {
      "text/html": [
       "columns that will be scaled: "
      ],
      "text/plain": [
       "<IPython.core.display.HTML object>"
      ]
     },
     "metadata": {},
     "output_type": "display_data"
    },
    {
     "name": "stdout",
     "output_type": "stream",
     "text": [
      "['petal_width', 'sepal_width', 'sepal_length', 'petal_length']\n",
      "                                                                                          \r"
     ]
    },
    {
     "data": {
      "text/html": [
       "Training dataset sample after scaling:"
      ],
      "text/plain": [
       "<IPython.core.display.HTML object>"
      ]
     },
     "metadata": {},
     "output_type": "display_data"
    },
    {
     "data": {
      "text/html": [
       "<style type=\"text/css\">\n",
       "\ttable {border:ridge 5px;}\n",
       "\ttable td {border:inset 1px;}\n",
       "\ttable tr#HeaderRow {background-color:grey; color:white;}</style>\n",
       "<html><table>\n",
       "\t<tr id=\"HeaderRow\">\n",
       "\t\t<th>species</th>\n",
       "\t\t<th>id</th>\n",
       "\t\t<th>petal_width</th>\n",
       "\t\t<th>sepal_width</th>\n",
       "\t\t<th>sepal_length</th>\n",
       "\t\t<th>petal_length</th>\n",
       "\t</tr>\n",
       "\t<tr>\n",
       "\t\t<td>1</td>\n",
       "\t\t<td>10</td>\n",
       "\t\t<td>0.04166666666666667</td>\n",
       "\t\t<td>0.7058823529411764</td>\n",
       "\t\t<td>0.23529411764705874</td>\n",
       "\t\t<td>0.06896551724137928</td>\n",
       "\t</tr>\n",
       "\t<tr>\n",
       "\t\t<td>3</td>\n",
       "\t\t<td>12</td>\n",
       "\t\t<td>0.8750000000000001</td>\n",
       "\t\t<td>0.9411764705882353</td>\n",
       "\t\t<td>1.0</td>\n",
       "\t\t<td>0.9655172413793102</td>\n",
       "\t</tr>\n",
       "\t<tr>\n",
       "\t\t<td>2</td>\n",
       "\t\t<td>13</td>\n",
       "\t\t<td>0.5</td>\n",
       "\t\t<td>0.2941176470588236</td>\n",
       "\t\t<td>0.3823529411764705</td>\n",
       "\t\t<td>0.5344827586206896</td>\n",
       "\t</tr>\n",
       "\t<tr>\n",
       "\t\t<td>3</td>\n",
       "\t\t<td>14</td>\n",
       "\t\t<td>0.9583333333333333</td>\n",
       "\t\t<td>0.5294117647058824</td>\n",
       "\t\t<td>0.7058823529411765</td>\n",
       "\t\t<td>0.7758620689655171</td>\n",
       "\t</tr>\n",
       "\t<tr>\n",
       "\t\t<td>3</td>\n",
       "\t\t<td>16</td>\n",
       "\t\t<td>0.75</td>\n",
       "\t\t<td>0.3529411764705881</td>\n",
       "\t\t<td>0.911764705882353</td>\n",
       "\t\t<td>0.8620689655172413</td>\n",
       "\t</tr>\n",
       "\t<tr>\n",
       "\t\t<td>1</td>\n",
       "\t\t<td>17</td>\n",
       "\t\t<td>0.12500000000000003</td>\n",
       "\t\t<td>1.0</td>\n",
       "\t\t<td>0.323529411764706</td>\n",
       "\t\t<td>0.03448275862068964</td>\n",
       "\t</tr>\n",
       "\t<tr>\n",
       "\t\t<td>2</td>\n",
       "\t\t<td>15</td>\n",
       "\t\t<td>0.6666666666666666</td>\n",
       "\t\t<td>0.47058823529411764</td>\n",
       "\t\t<td>0.7058823529411765</td>\n",
       "\t\t<td>0.6724137931034482</td>\n",
       "\t</tr>\n",
       "\t<tr>\n",
       "\t\t<td>3</td>\n",
       "\t\t<td>11</td>\n",
       "\t\t<td>0.7916666666666666</td>\n",
       "\t\t<td>0.3529411764705881</td>\n",
       "\t\t<td>0.3823529411764705</td>\n",
       "\t\t<td>0.6551724137931034</td>\n",
       "\t</tr>\n",
       "\t<tr>\n",
       "\t\t<td>3</td>\n",
       "\t\t<td>9</td>\n",
       "\t\t<td>1.0</td>\n",
       "\t\t<td>0.6470588235294117</td>\n",
       "\t\t<td>0.588235294117647</td>\n",
       "\t\t<td>0.8448275862068965</td>\n",
       "\t</tr>\n",
       "\t<tr>\n",
       "\t\t<td>2</td>\n",
       "\t\t<td>8</td>\n",
       "\t\t<td>0.5416666666666666</td>\n",
       "\t\t<td>0.47058823529411764</td>\n",
       "\t\t<td>0.676470588235294</td>\n",
       "\t\t<td>0.5689655172413793</td>\n",
       "\t</tr>\n",
       "</table></html>"
      ],
      "text/plain": [
       "   species  id  petal_width  sepal_width  sepal_length  petal_length\n",
       "0        1  10     0.041667     0.705882      0.235294      0.068966\n",
       "1        3  12     0.875000     0.941176      1.000000      0.965517\n",
       "2        2  13     0.500000     0.294118      0.382353      0.534483\n",
       "3        3  14     0.958333     0.529412      0.705882      0.775862\n",
       "4        3  16     0.750000     0.352941      0.911765      0.862069\n",
       "5        1  17     0.125000     1.000000      0.323529      0.034483\n",
       "6        2  15     0.666667     0.470588      0.705882      0.672414\n",
       "7        3  11     0.791667     0.352941      0.382353      0.655172\n",
       "8        3   9     1.000000     0.647059      0.588235      0.844828\n",
       "9        2   8     0.541667     0.470588      0.676471      0.568966"
      ]
     },
     "metadata": {},
     "output_type": "display_data"
    },
    {
     "name": "stdout",
     "output_type": "stream",
     "text": [
      "                                                                                          \r"
     ]
    },
    {
     "data": {
      "text/html": [
       "94 rows X 6 columns"
      ],
      "text/plain": [
       "<IPython.core.display.HTML object>"
      ]
     },
     "metadata": {},
     "output_type": "display_data"
    },
    {
     "name": "stdout",
     "output_type": "stream",
     "text": [
      "                                                                                          \r"
     ]
    },
    {
     "data": {
      "text/html": [
       "Testing dataset sample after scaling:"
      ],
      "text/plain": [
       "<IPython.core.display.HTML object>"
      ]
     },
     "metadata": {},
     "output_type": "display_data"
    },
    {
     "data": {
      "text/html": [
       "<style type=\"text/css\">\n",
       "\ttable {border:ridge 5px;}\n",
       "\ttable td {border:inset 1px;}\n",
       "\ttable tr#HeaderRow {background-color:grey; color:white;}</style>\n",
       "<html><table>\n",
       "\t<tr id=\"HeaderRow\">\n",
       "\t\t<th>species</th>\n",
       "\t\t<th>id</th>\n",
       "\t\t<th>petal_width</th>\n",
       "\t\t<th>sepal_width</th>\n",
       "\t\t<th>sepal_length</th>\n",
       "\t\t<th>petal_length</th>\n",
       "\t</tr>\n",
       "\t<tr>\n",
       "\t\t<td>1</td>\n",
       "\t\t<td>85</td>\n",
       "\t\t<td>0.12500000000000003</td>\n",
       "\t\t<td>1.0</td>\n",
       "\t\t<td>0.323529411764706</td>\n",
       "\t\t<td>0.10344827586206894</td>\n",
       "\t</tr>\n",
       "\t<tr>\n",
       "\t\t<td>1</td>\n",
       "\t\t<td>31</td>\n",
       "\t\t<td>0.04166666666666667</td>\n",
       "\t\t<td>1.0588235294117647</td>\n",
       "\t\t<td>0.4411764705882352</td>\n",
       "\t\t<td>0.017241379310344803</td>\n",
       "\t</tr>\n",
       "\t<tr>\n",
       "\t\t<td>3</td>\n",
       "\t\t<td>95</td>\n",
       "\t\t<td>0.8333333333333334</td>\n",
       "\t\t<td>0.6470588235294117</td>\n",
       "\t\t<td>0.7058823529411765</td>\n",
       "\t\t<td>0.7931034482758619</td>\n",
       "\t</tr>\n",
       "\t<tr>\n",
       "\t\t<td>1</td>\n",
       "\t\t<td>127</td>\n",
       "\t\t<td>0.12500000000000003</td>\n",
       "\t\t<td>1.2941176470588238</td>\n",
       "\t\t<td>0.411764705882353</td>\n",
       "\t\t<td>0.06896551724137928</td>\n",
       "\t</tr>\n",
       "\t<tr>\n",
       "\t\t<td>1</td>\n",
       "\t\t<td>134</td>\n",
       "\t\t<td>0.08333333333333333</td>\n",
       "\t\t<td>0.058823529411764504</td>\n",
       "\t\t<td>0.058823529411764754</td>\n",
       "\t\t<td>0.03448275862068964</td>\n",
       "\t</tr>\n",
       "\t<tr>\n",
       "\t\t<td>3</td>\n",
       "\t\t<td>91</td>\n",
       "\t\t<td>0.8333333333333334</td>\n",
       "\t\t<td>0.5294117647058824</td>\n",
       "\t\t<td>0.7647058823529412</td>\n",
       "\t\t<td>0.7413793103448276</td>\n",
       "\t</tr>\n",
       "\t<tr>\n",
       "\t\t<td>3</td>\n",
       "\t\t<td>106</td>\n",
       "\t\t<td>0.6666666666666666</td>\n",
       "\t\t<td>0.17647058823529405</td>\n",
       "\t\t<td>0.17647058823529427</td>\n",
       "\t\t<td>0.5862068965517241</td>\n",
       "\t</tr>\n",
       "\t<tr>\n",
       "\t\t<td>3</td>\n",
       "\t\t<td>29</td>\n",
       "\t\t<td>0.8333333333333334</td>\n",
       "\t\t<td>0.3529411764705881</td>\n",
       "\t\t<td>0.6176470588235295</td>\n",
       "\t\t<td>0.7758620689655171</td>\n",
       "\t</tr>\n",
       "\t<tr>\n",
       "\t\t<td>3</td>\n",
       "\t\t<td>102</td>\n",
       "\t\t<td>0.75</td>\n",
       "\t\t<td>0.17647058823529405</td>\n",
       "\t\t<td>0.588235294117647</td>\n",
       "\t\t<td>0.6724137931034482</td>\n",
       "\t</tr>\n",
       "\t<tr>\n",
       "\t\t<td>1</td>\n",
       "\t\t<td>116</td>\n",
       "\t\t<td>0.08333333333333333</td>\n",
       "\t\t<td>0.47058823529411764</td>\n",
       "\t\t<td>0.14705882352941174</td>\n",
       "\t\t<td>0.05172413793103445</td>\n",
       "\t</tr>\n",
       "</table></html>"
      ],
      "text/plain": [
       "   species   id  petal_width  sepal_width  sepal_length  petal_length\n",
       "0        1   85     0.125000     1.000000      0.323529      0.103448\n",
       "1        1   31     0.041667     1.058824      0.441176      0.017241\n",
       "2        3   95     0.833333     0.647059      0.705882      0.793103\n",
       "3        1  127     0.125000     1.294118      0.411765      0.068966\n",
       "4        1  134     0.083333     0.058824      0.058824      0.034483\n",
       "5        3   91     0.833333     0.529412      0.764706      0.741379\n",
       "6        3  106     0.666667     0.176471      0.176471      0.586207\n",
       "7        3   29     0.833333     0.352941      0.617647      0.775862\n",
       "8        3  102     0.750000     0.176471      0.588235      0.672414\n",
       "9        1  116     0.083333     0.470588      0.147059      0.051724"
      ]
     },
     "metadata": {},
     "output_type": "display_data"
    },
    {
     "name": "stdout",
     "output_type": "stream",
     "text": [
      "                                                                                          \r"
     ]
    },
    {
     "data": {
      "text/html": [
       "24 rows X 6 columns"
      ],
      "text/plain": [
       "<IPython.core.display.HTML object>"
      ]
     },
     "metadata": {},
     "output_type": "display_data"
    },
    {
     "name": "stdout",
     "output_type": "stream",
     "text": [
      "                                                                                          \r"
     ]
    },
    {
     "data": {
      "text/html": [
       "Total time taken by feature scaling: 36.13 sec"
      ],
      "text/plain": [
       "<IPython.core.display.HTML object>"
      ]
     },
     "metadata": {},
     "output_type": "display_data"
    },
    {
     "name": "stdout",
     "output_type": "stream",
     "text": [
      "                                                                                          \r"
     ]
    },
    {
     "data": {
      "text/html": [
       "\n",
       "Feature selection using rfe ..."
      ],
      "text/plain": [
       "<IPython.core.display.HTML object>"
      ]
     },
     "metadata": {},
     "output_type": "display_data"
    },
    {
     "name": "stdout",
     "output_type": "stream",
     "text": [
      "                                                                                          \r"
     ]
    },
    {
     "data": {
      "text/html": [
       "feature selected by RFE:"
      ],
      "text/plain": [
       "<IPython.core.display.HTML object>"
      ]
     },
     "metadata": {},
     "output_type": "display_data"
    },
    {
     "name": "stdout",
     "output_type": "stream",
     "text": [
      "['petal_length', 'petal_width']\n",
      "                                                                                          \r"
     ]
    },
    {
     "data": {
      "text/html": [
       "Total time taken by feature selection: 6.43 sec  "
      ],
      "text/plain": [
       "<IPython.core.display.HTML object>"
      ]
     },
     "metadata": {},
     "output_type": "display_data"
    },
    {
     "name": "stdout",
     "output_type": "stream",
     "text": [
      "                                                                                          \r"
     ]
    },
    {
     "data": {
      "text/html": [
       "\n",
       "scaling Features of rfe data ..."
      ],
      "text/plain": [
       "<IPython.core.display.HTML object>"
      ]
     },
     "metadata": {},
     "output_type": "display_data"
    },
    {
     "name": "stdout",
     "output_type": "stream",
     "text": [
      "                                                                                          \r"
     ]
    },
    {
     "data": {
      "text/html": [
       "columns that will be scaled: "
      ],
      "text/plain": [
       "<IPython.core.display.HTML object>"
      ]
     },
     "metadata": {},
     "output_type": "display_data"
    },
    {
     "name": "stdout",
     "output_type": "stream",
     "text": [
      "['r_petal_length', 'r_petal_width']\n",
      "                                                                                          \r"
     ]
    },
    {
     "data": {
      "text/html": [
       "Training dataset sample after scaling:"
      ],
      "text/plain": [
       "<IPython.core.display.HTML object>"
      ]
     },
     "metadata": {},
     "output_type": "display_data"
    },
    {
     "data": {
      "text/html": [
       "<style type=\"text/css\">\n",
       "\ttable {border:ridge 5px;}\n",
       "\ttable td {border:inset 1px;}\n",
       "\ttable tr#HeaderRow {background-color:grey; color:white;}</style>\n",
       "<html><table>\n",
       "\t<tr id=\"HeaderRow\">\n",
       "\t\t<th>species</th>\n",
       "\t\t<th>id</th>\n",
       "\t\t<th>r_petal_length</th>\n",
       "\t\t<th>r_petal_width</th>\n",
       "\t</tr>\n",
       "\t<tr>\n",
       "\t\t<td>1</td>\n",
       "\t\t<td>10</td>\n",
       "\t\t<td>0.06896551724137928</td>\n",
       "\t\t<td>0.04166666666666667</td>\n",
       "\t</tr>\n",
       "\t<tr>\n",
       "\t\t<td>3</td>\n",
       "\t\t<td>12</td>\n",
       "\t\t<td>0.9655172413793102</td>\n",
       "\t\t<td>0.8750000000000001</td>\n",
       "\t</tr>\n",
       "\t<tr>\n",
       "\t\t<td>2</td>\n",
       "\t\t<td>13</td>\n",
       "\t\t<td>0.5344827586206896</td>\n",
       "\t\t<td>0.5</td>\n",
       "\t</tr>\n",
       "\t<tr>\n",
       "\t\t<td>3</td>\n",
       "\t\t<td>14</td>\n",
       "\t\t<td>0.7758620689655171</td>\n",
       "\t\t<td>0.9583333333333333</td>\n",
       "\t</tr>\n",
       "\t<tr>\n",
       "\t\t<td>3</td>\n",
       "\t\t<td>16</td>\n",
       "\t\t<td>0.8620689655172413</td>\n",
       "\t\t<td>0.75</td>\n",
       "\t</tr>\n",
       "\t<tr>\n",
       "\t\t<td>1</td>\n",
       "\t\t<td>17</td>\n",
       "\t\t<td>0.03448275862068964</td>\n",
       "\t\t<td>0.12500000000000003</td>\n",
       "\t</tr>\n",
       "\t<tr>\n",
       "\t\t<td>2</td>\n",
       "\t\t<td>15</td>\n",
       "\t\t<td>0.6724137931034482</td>\n",
       "\t\t<td>0.6666666666666666</td>\n",
       "\t</tr>\n",
       "\t<tr>\n",
       "\t\t<td>3</td>\n",
       "\t\t<td>11</td>\n",
       "\t\t<td>0.6551724137931034</td>\n",
       "\t\t<td>0.7916666666666666</td>\n",
       "\t</tr>\n",
       "\t<tr>\n",
       "\t\t<td>3</td>\n",
       "\t\t<td>9</td>\n",
       "\t\t<td>0.8448275862068965</td>\n",
       "\t\t<td>1.0</td>\n",
       "\t</tr>\n",
       "\t<tr>\n",
       "\t\t<td>2</td>\n",
       "\t\t<td>8</td>\n",
       "\t\t<td>0.5689655172413793</td>\n",
       "\t\t<td>0.5416666666666666</td>\n",
       "\t</tr>\n",
       "</table></html>"
      ],
      "text/plain": [
       "   species  id  r_petal_length  r_petal_width\n",
       "0        1  10        0.068966       0.041667\n",
       "1        3  12        0.965517       0.875000\n",
       "2        2  13        0.534483       0.500000\n",
       "3        3  14        0.775862       0.958333\n",
       "4        3  16        0.862069       0.750000\n",
       "5        1  17        0.034483       0.125000\n",
       "6        2  15        0.672414       0.666667\n",
       "7        3  11        0.655172       0.791667\n",
       "8        3   9        0.844828       1.000000\n",
       "9        2   8        0.568966       0.541667"
      ]
     },
     "metadata": {},
     "output_type": "display_data"
    },
    {
     "name": "stdout",
     "output_type": "stream",
     "text": [
      "                                                                                          \r"
     ]
    },
    {
     "data": {
      "text/html": [
       "94 rows X 4 columns"
      ],
      "text/plain": [
       "<IPython.core.display.HTML object>"
      ]
     },
     "metadata": {},
     "output_type": "display_data"
    },
    {
     "name": "stdout",
     "output_type": "stream",
     "text": [
      "                                                                                          \r"
     ]
    },
    {
     "data": {
      "text/html": [
       "Testing dataset sample after scaling:"
      ],
      "text/plain": [
       "<IPython.core.display.HTML object>"
      ]
     },
     "metadata": {},
     "output_type": "display_data"
    },
    {
     "data": {
      "text/html": [
       "<style type=\"text/css\">\n",
       "\ttable {border:ridge 5px;}\n",
       "\ttable td {border:inset 1px;}\n",
       "\ttable tr#HeaderRow {background-color:grey; color:white;}</style>\n",
       "<html><table>\n",
       "\t<tr id=\"HeaderRow\">\n",
       "\t\t<th>species</th>\n",
       "\t\t<th>id</th>\n",
       "\t\t<th>r_petal_length</th>\n",
       "\t\t<th>r_petal_width</th>\n",
       "\t</tr>\n",
       "\t<tr>\n",
       "\t\t<td>1</td>\n",
       "\t\t<td>85</td>\n",
       "\t\t<td>0.10344827586206894</td>\n",
       "\t\t<td>0.12500000000000003</td>\n",
       "\t</tr>\n",
       "\t<tr>\n",
       "\t\t<td>1</td>\n",
       "\t\t<td>31</td>\n",
       "\t\t<td>0.017241379310344803</td>\n",
       "\t\t<td>0.04166666666666667</td>\n",
       "\t</tr>\n",
       "\t<tr>\n",
       "\t\t<td>3</td>\n",
       "\t\t<td>95</td>\n",
       "\t\t<td>0.7931034482758619</td>\n",
       "\t\t<td>0.8333333333333334</td>\n",
       "\t</tr>\n",
       "\t<tr>\n",
       "\t\t<td>1</td>\n",
       "\t\t<td>127</td>\n",
       "\t\t<td>0.06896551724137928</td>\n",
       "\t\t<td>0.12500000000000003</td>\n",
       "\t</tr>\n",
       "\t<tr>\n",
       "\t\t<td>1</td>\n",
       "\t\t<td>134</td>\n",
       "\t\t<td>0.03448275862068964</td>\n",
       "\t\t<td>0.08333333333333333</td>\n",
       "\t</tr>\n",
       "\t<tr>\n",
       "\t\t<td>3</td>\n",
       "\t\t<td>91</td>\n",
       "\t\t<td>0.7413793103448276</td>\n",
       "\t\t<td>0.8333333333333334</td>\n",
       "\t</tr>\n",
       "\t<tr>\n",
       "\t\t<td>3</td>\n",
       "\t\t<td>106</td>\n",
       "\t\t<td>0.5862068965517241</td>\n",
       "\t\t<td>0.6666666666666666</td>\n",
       "\t</tr>\n",
       "\t<tr>\n",
       "\t\t<td>3</td>\n",
       "\t\t<td>29</td>\n",
       "\t\t<td>0.7758620689655171</td>\n",
       "\t\t<td>0.8333333333333334</td>\n",
       "\t</tr>\n",
       "\t<tr>\n",
       "\t\t<td>3</td>\n",
       "\t\t<td>102</td>\n",
       "\t\t<td>0.6724137931034482</td>\n",
       "\t\t<td>0.75</td>\n",
       "\t</tr>\n",
       "\t<tr>\n",
       "\t\t<td>1</td>\n",
       "\t\t<td>116</td>\n",
       "\t\t<td>0.05172413793103445</td>\n",
       "\t\t<td>0.08333333333333333</td>\n",
       "\t</tr>\n",
       "</table></html>"
      ],
      "text/plain": [
       "   species   id  r_petal_length  r_petal_width\n",
       "0        1   85        0.103448       0.125000\n",
       "1        1   31        0.017241       0.041667\n",
       "2        3   95        0.793103       0.833333\n",
       "3        1  127        0.068966       0.125000\n",
       "4        1  134        0.034483       0.083333\n",
       "5        3   91        0.741379       0.833333\n",
       "6        3  106        0.586207       0.666667\n",
       "7        3   29        0.775862       0.833333\n",
       "8        3  102        0.672414       0.750000\n",
       "9        1  116        0.051724       0.083333"
      ]
     },
     "metadata": {},
     "output_type": "display_data"
    },
    {
     "name": "stdout",
     "output_type": "stream",
     "text": [
      "                                                                                          \r"
     ]
    },
    {
     "data": {
      "text/html": [
       "24 rows X 4 columns"
      ],
      "text/plain": [
       "<IPython.core.display.HTML object>"
      ]
     },
     "metadata": {},
     "output_type": "display_data"
    },
    {
     "name": "stdout",
     "output_type": "stream",
     "text": [
      "                                                                                          \r"
     ]
    },
    {
     "data": {
      "text/html": [
       "Total time taken by feature scaling: 34.78 sec"
      ],
      "text/plain": [
       "<IPython.core.display.HTML object>"
      ]
     },
     "metadata": {},
     "output_type": "display_data"
    },
    {
     "name": "stdout",
     "output_type": "stream",
     "text": [
      "                                                                                          \r"
     ]
    },
    {
     "data": {
      "text/html": [
       "\n",
       "scaling Features of pca data ..."
      ],
      "text/plain": [
       "<IPython.core.display.HTML object>"
      ]
     },
     "metadata": {},
     "output_type": "display_data"
    },
    {
     "name": "stdout",
     "output_type": "stream",
     "text": [
      "                                                                                          \r"
     ]
    },
    {
     "data": {
      "text/html": [
       "columns that will be scaled: "
      ],
      "text/plain": [
       "<IPython.core.display.HTML object>"
      ]
     },
     "metadata": {},
     "output_type": "display_data"
    },
    {
     "name": "stdout",
     "output_type": "stream",
     "text": [
      "['sepal_length', 'sepal_width', 'petal_length', 'petal_width']\n",
      "                                                                                          \r"
     ]
    },
    {
     "data": {
      "text/html": [
       "Training dataset sample after scaling:"
      ],
      "text/plain": [
       "<IPython.core.display.HTML object>"
      ]
     },
     "metadata": {},
     "output_type": "display_data"
    },
    {
     "data": {
      "text/html": [
       "<style type=\"text/css\">\n",
       "\ttable {border:ridge 5px;}\n",
       "\ttable td {border:inset 1px;}\n",
       "\ttable tr#HeaderRow {background-color:grey; color:white;}</style>\n",
       "<html><table>\n",
       "\t<tr id=\"HeaderRow\">\n",
       "\t\t<th>species</th>\n",
       "\t\t<th>id</th>\n",
       "\t\t<th>sepal_length</th>\n",
       "\t\t<th>sepal_width</th>\n",
       "\t\t<th>petal_length</th>\n",
       "\t\t<th>petal_width</th>\n",
       "\t</tr>\n",
       "\t<tr>\n",
       "\t\t<td>3</td>\n",
       "\t\t<td>16</td>\n",
       "\t\t<td>0.911764705882353</td>\n",
       "\t\t<td>0.3529411764705881</td>\n",
       "\t\t<td>0.8620689655172413</td>\n",
       "\t\t<td>0.75</td>\n",
       "\t</tr>\n",
       "\t<tr>\n",
       "\t\t<td>3</td>\n",
       "\t\t<td>63</td>\n",
       "\t\t<td>0.8823529411764705</td>\n",
       "\t\t<td>0.41176470588235287</td>\n",
       "\t\t<td>0.8965517241379308</td>\n",
       "\t\t<td>0.7083333333333334</td>\n",
       "\t</tr>\n",
       "\t<tr>\n",
       "\t\t<td>2</td>\n",
       "\t\t<td>55</td>\n",
       "\t\t<td>0.7941176470588235</td>\n",
       "\t\t<td>0.5882352941176472</td>\n",
       "\t\t<td>0.6206896551724137</td>\n",
       "\t\t<td>0.5416666666666666</td>\n",
       "\t</tr>\n",
       "\t<tr>\n",
       "\t\t<td>3</td>\n",
       "\t\t<td>136</td>\n",
       "\t\t<td>0.8529411764705882</td>\n",
       "\t\t<td>0.5882352941176472</td>\n",
       "\t\t<td>0.8448275862068965</td>\n",
       "\t\t<td>0.7083333333333334</td>\n",
       "\t</tr>\n",
       "\t<tr>\n",
       "\t\t<td>3</td>\n",
       "\t\t<td>144</td>\n",
       "\t\t<td>0.7058823529411765</td>\n",
       "\t\t<td>0.6470588235294117</td>\n",
       "\t\t<td>0.7931034482758619</td>\n",
       "\t\t<td>1.0</td>\n",
       "\t</tr>\n",
       "\t<tr>\n",
       "\t\t<td>2</td>\n",
       "\t\t<td>15</td>\n",
       "\t\t<td>0.7058823529411765</td>\n",
       "\t\t<td>0.47058823529411764</td>\n",
       "\t\t<td>0.6724137931034482</td>\n",
       "\t\t<td>0.6666666666666666</td>\n",
       "\t</tr>\n",
       "\t<tr>\n",
       "\t\t<td>2</td>\n",
       "\t\t<td>77</td>\n",
       "\t\t<td>0.588235294117647</td>\n",
       "\t\t<td>0.058823529411764504</td>\n",
       "\t\t<td>0.5689655172413793</td>\n",
       "\t\t<td>0.5</td>\n",
       "\t</tr>\n",
       "\t<tr>\n",
       "\t\t<td>3</td>\n",
       "\t\t<td>35</td>\n",
       "\t\t<td>0.588235294117647</td>\n",
       "\t\t<td>0.7058823529411764</td>\n",
       "\t\t<td>0.7758620689655171</td>\n",
       "\t\t<td>0.9583333333333333</td>\n",
       "\t</tr>\n",
       "\t<tr>\n",
       "\t\t<td>2</td>\n",
       "\t\t<td>44</td>\n",
       "\t\t<td>0.5294117647058822</td>\n",
       "\t\t<td>0.3529411764705881</td>\n",
       "\t\t<td>0.49999999999999994</td>\n",
       "\t\t<td>0.5</td>\n",
       "\t</tr>\n",
       "\t<tr>\n",
       "\t\t<td>2</td>\n",
       "\t\t<td>43</td>\n",
       "\t\t<td>0.5294117647058822</td>\n",
       "\t\t<td>0.3529411764705881</td>\n",
       "\t\t<td>0.6206896551724137</td>\n",
       "\t\t<td>0.4583333333333333</td>\n",
       "\t</tr>\n",
       "</table></html>"
      ],
      "text/plain": [
       "   species   id  sepal_length  sepal_width  petal_length  petal_width\n",
       "0        3   16      0.911765     0.352941      0.862069     0.750000\n",
       "1        3   63      0.882353     0.411765      0.896552     0.708333\n",
       "2        2   55      0.794118     0.588235      0.620690     0.541667\n",
       "3        3  136      0.852941     0.588235      0.844828     0.708333\n",
       "4        3  144      0.705882     0.647059      0.793103     1.000000\n",
       "5        2   15      0.705882     0.470588      0.672414     0.666667\n",
       "6        2   77      0.588235     0.058824      0.568966     0.500000\n",
       "7        3   35      0.588235     0.705882      0.775862     0.958333\n",
       "8        2   44      0.529412     0.352941      0.500000     0.500000\n",
       "9        2   43      0.529412     0.352941      0.620690     0.458333"
      ]
     },
     "metadata": {},
     "output_type": "display_data"
    },
    {
     "name": "stdout",
     "output_type": "stream",
     "text": [
      "                                                                                          \r"
     ]
    },
    {
     "data": {
      "text/html": [
       "94 rows X 6 columns"
      ],
      "text/plain": [
       "<IPython.core.display.HTML object>"
      ]
     },
     "metadata": {},
     "output_type": "display_data"
    },
    {
     "name": "stdout",
     "output_type": "stream",
     "text": [
      "                                                                                          \r"
     ]
    },
    {
     "data": {
      "text/html": [
       "Testing dataset sample after scaling:"
      ],
      "text/plain": [
       "<IPython.core.display.HTML object>"
      ]
     },
     "metadata": {},
     "output_type": "display_data"
    },
    {
     "data": {
      "text/html": [
       "<style type=\"text/css\">\n",
       "\ttable {border:ridge 5px;}\n",
       "\ttable td {border:inset 1px;}\n",
       "\ttable tr#HeaderRow {background-color:grey; color:white;}</style>\n",
       "<html><table>\n",
       "\t<tr id=\"HeaderRow\">\n",
       "\t\t<th>species</th>\n",
       "\t\t<th>id</th>\n",
       "\t\t<th>sepal_length</th>\n",
       "\t\t<th>sepal_width</th>\n",
       "\t\t<th>petal_length</th>\n",
       "\t\t<th>petal_width</th>\n",
       "\t</tr>\n",
       "\t<tr>\n",
       "\t\t<td>1</td>\n",
       "\t\t<td>31</td>\n",
       "\t\t<td>0.4411764705882352</td>\n",
       "\t\t<td>1.0588235294117647</td>\n",
       "\t\t<td>0.017241379310344803</td>\n",
       "\t\t<td>0.04166666666666667</td>\n",
       "\t</tr>\n",
       "\t<tr>\n",
       "\t\t<td>3</td>\n",
       "\t\t<td>28</td>\n",
       "\t\t<td>0.5294117647058822</td>\n",
       "\t\t<td>0.23529411764705882</td>\n",
       "\t\t<td>0.7758620689655171</td>\n",
       "\t\t<td>0.5416666666666666</td>\n",
       "\t</tr>\n",
       "\t<tr>\n",
       "\t\t<td>2</td>\n",
       "\t\t<td>68</td>\n",
       "\t\t<td>0.6176470588235295</td>\n",
       "\t\t<td>0.41176470588235287</td>\n",
       "\t\t<td>0.5517241379310344</td>\n",
       "\t\t<td>0.5</td>\n",
       "\t</tr>\n",
       "\t<tr>\n",
       "\t\t<td>3</td>\n",
       "\t\t<td>29</td>\n",
       "\t\t<td>0.6176470588235295</td>\n",
       "\t\t<td>0.3529411764705881</td>\n",
       "\t\t<td>0.7758620689655171</td>\n",
       "\t\t<td>0.8333333333333334</td>\n",
       "\t</tr>\n",
       "\t<tr>\n",
       "\t\t<td>1</td>\n",
       "\t\t<td>30</td>\n",
       "\t\t<td>0.26470588235294124</td>\n",
       "\t\t<td>0.7647058823529412</td>\n",
       "\t\t<td>0.06896551724137928</td>\n",
       "\t\t<td>0.04166666666666667</td>\n",
       "\t</tr>\n",
       "\t<tr>\n",
       "\t\t<td>3</td>\n",
       "\t\t<td>102</td>\n",
       "\t\t<td>0.588235294117647</td>\n",
       "\t\t<td>0.17647058823529405</td>\n",
       "\t\t<td>0.6724137931034482</td>\n",
       "\t\t<td>0.75</td>\n",
       "\t</tr>\n",
       "\t<tr>\n",
       "\t\t<td>2</td>\n",
       "\t\t<td>26</td>\n",
       "\t\t<td>0.588235294117647</td>\n",
       "\t\t<td>0.6470588235294117</td>\n",
       "\t\t<td>0.6206896551724137</td>\n",
       "\t\t<td>0.625</td>\n",
       "\t</tr>\n",
       "\t<tr>\n",
       "\t\t<td>3</td>\n",
       "\t\t<td>106</td>\n",
       "\t\t<td>0.17647058823529427</td>\n",
       "\t\t<td>0.17647058823529405</td>\n",
       "\t\t<td>0.5862068965517241</td>\n",
       "\t\t<td>0.6666666666666666</td>\n",
       "\t</tr>\n",
       "\t<tr>\n",
       "\t\t<td>1</td>\n",
       "\t\t<td>85</td>\n",
       "\t\t<td>0.323529411764706</td>\n",
       "\t\t<td>1.0</td>\n",
       "\t\t<td>0.10344827586206894</td>\n",
       "\t\t<td>0.12500000000000003</td>\n",
       "\t</tr>\n",
       "\t<tr>\n",
       "\t\t<td>3</td>\n",
       "\t\t<td>95</td>\n",
       "\t\t<td>0.7058823529411765</td>\n",
       "\t\t<td>0.6470588235294117</td>\n",
       "\t\t<td>0.7931034482758619</td>\n",
       "\t\t<td>0.8333333333333334</td>\n",
       "\t</tr>\n",
       "</table></html>"
      ],
      "text/plain": [
       "   species   id  sepal_length  sepal_width  petal_length  petal_width\n",
       "0        1   31      0.441176     1.058824      0.017241     0.041667\n",
       "1        3   28      0.529412     0.235294      0.775862     0.541667\n",
       "2        2   68      0.617647     0.411765      0.551724     0.500000\n",
       "3        3   29      0.617647     0.352941      0.775862     0.833333\n",
       "4        1   30      0.264706     0.764706      0.068966     0.041667\n",
       "5        3  102      0.588235     0.176471      0.672414     0.750000\n",
       "6        2   26      0.588235     0.647059      0.620690     0.625000\n",
       "7        3  106      0.176471     0.176471      0.586207     0.666667\n",
       "8        1   85      0.323529     1.000000      0.103448     0.125000\n",
       "9        3   95      0.705882     0.647059      0.793103     0.833333"
      ]
     },
     "metadata": {},
     "output_type": "display_data"
    },
    {
     "name": "stdout",
     "output_type": "stream",
     "text": [
      "                                                                                          \r"
     ]
    },
    {
     "data": {
      "text/html": [
       "24 rows X 6 columns"
      ],
      "text/plain": [
       "<IPython.core.display.HTML object>"
      ]
     },
     "metadata": {},
     "output_type": "display_data"
    },
    {
     "name": "stdout",
     "output_type": "stream",
     "text": [
      "                                                                                          \r"
     ]
    },
    {
     "data": {
      "text/html": [
       "Total time taken by feature scaling: 34.34 sec"
      ],
      "text/plain": [
       "<IPython.core.display.HTML object>"
      ]
     },
     "metadata": {},
     "output_type": "display_data"
    },
    {
     "name": "stdout",
     "output_type": "stream",
     "text": [
      "                                                                                          \r"
     ]
    },
    {
     "data": {
      "text/html": [
       "\n",
       "Dimension Reduction using pca ..."
      ],
      "text/plain": [
       "<IPython.core.display.HTML object>"
      ]
     },
     "metadata": {},
     "output_type": "display_data"
    },
    {
     "name": "stdout",
     "output_type": "stream",
     "text": [
      "                                                                                          \r"
     ]
    },
    {
     "data": {
      "text/html": [
       "PCA columns:"
      ],
      "text/plain": [
       "<IPython.core.display.HTML object>"
      ]
     },
     "metadata": {},
     "output_type": "display_data"
    },
    {
     "name": "stdout",
     "output_type": "stream",
     "text": [
      "['col_0', 'col_1']\n",
      "                                                                                          \r"
     ]
    },
    {
     "data": {
      "text/html": [
       "Total time taken by PCA: 10.64 sec  "
      ],
      "text/plain": [
       "<IPython.core.display.HTML object>"
      ]
     },
     "metadata": {},
     "output_type": "display_data"
    },
    {
     "name": "stdout",
     "output_type": "stream",
     "text": [
      "                                                                                          \r"
     ]
    },
    {
     "data": {
      "text/html": [
       "\n",
       "            <style>\n",
       "                .custom-div {\n",
       "                    background-color: lightgray;\n",
       "                    color: #000000;\n",
       "                    padding: 10px;\n",
       "                    border-radius: 8px;\n",
       "                    box-shadow: 0 3px 4px rgba(0 -  0 -  0 -  0.2);\n",
       "                    margin-bottom: 10px;\n",
       "                    text-align: center;\n",
       "                }\n",
       "            </style>\n",
       "        <br><div class=\"custom-div\"><h3><span style=\"color: green;\">1. Feature Exploration -> 2. Feature Engineering -> 3. Data Preparation -></span> 4. Model Training & Evaluation<center></h3></center></div>"
      ],
      "text/plain": [
       "<IPython.core.display.HTML object>"
      ]
     },
     "metadata": {},
     "output_type": "display_data"
    },
    {
     "name": "stdout",
     "output_type": "stream",
     "text": [
      "                                                                                          \r"
     ]
    },
    {
     "data": {
      "text/html": [
       "Model Training started ..."
      ],
      "text/plain": [
       "<IPython.core.display.HTML object>"
      ]
     },
     "metadata": {},
     "output_type": "display_data"
    },
    {
     "name": "stdout",
     "output_type": "stream",
     "text": [
      "                                                                                          \r"
     ]
    },
    {
     "data": {
      "text/html": [
       "\n",
       "Hyperparameters used for model training: "
      ],
      "text/plain": [
       "<IPython.core.display.HTML object>"
      ]
     },
     "metadata": {},
     "output_type": "display_data"
    },
    {
     "name": "stdout",
     "output_type": "stream",
     "text": [
      "response_column : species                                                                                                                             \n",
      "name : xgboost\n",
      "model_type : Classification\n",
      "column_sampling : (1, 0.6)\n",
      "min_impurity : (0.0, 0.1)\n",
      "lambda1 : (0.01, 0.1, 1, 10)\n",
      "shrinkage_factor : (0.5, 0.1, 0.2)\n",
      "max_depth : (5, 6, 7, 8)\n",
      "min_node_size : (1, 2)\n",
      "iter_num : (10, 20)\n",
      "seed : 42\n",
      "Total number of models for xgboost : 768\n",
      "--------------------------------------------------------------------------------------------------------------------------------------------------------------------------------------------------------\n",
      "\n",
      "response_column : species\n",
      "name : knn\n",
      "model_type : Classification\n",
      "k : (3, 5, 6, 8, 10, 12)\n",
      "id_column : id\n",
      "voting_weight : 1.0\n",
      "Total number of models for knn : 6\n",
      "--------------------------------------------------------------------------------------------------------------------------------------------------------------------------------------------------------\n",
      "\n",
      "                                                                                          \r"
     ]
    },
    {
     "data": {
      "text/html": [
       "\n",
       "Performing hyperParameter tuning ..."
      ],
      "text/plain": [
       "<IPython.core.display.HTML object>"
      ]
     },
     "metadata": {},
     "output_type": "display_data"
    },
    {
     "name": "stdout",
     "output_type": "stream",
     "text": [
      "                                                                                          \r"
     ]
    },
    {
     "data": {
      "text/html": [
       "xgboost"
      ],
      "text/plain": [
       "<IPython.core.display.HTML object>"
      ]
     },
     "metadata": {},
     "output_type": "display_data"
    },
    {
     "name": "stdout",
     "output_type": "stream",
     "text": [
      "result data stored in table '\"ALICE\".\"ml__td_sqlmr_persist_out__1719257204283580\"'                                                                                                                      \n",
      "result data stored in table '\"ALICE\".\"ml__td_sqlmr_persist_out__1719257527563268\"'\n",
      "result data stored in table '\"ALICE\".\"ml__td_sqlmr_persist_out__1719256272504602\"'\n",
      "                                                                                          \r"
     ]
    },
    {
     "data": {
      "text/html": [
       "----------------------------------------------------------------------------------------------------"
      ],
      "text/plain": [
       "<IPython.core.display.HTML object>"
      ]
     },
     "metadata": {},
     "output_type": "display_data"
    },
    {
     "name": "stdout",
     "output_type": "stream",
     "text": [
      "                                                                                          \r"
     ]
    },
    {
     "data": {
      "text/html": [
       "knn"
      ],
      "text/plain": [
       "<IPython.core.display.HTML object>"
      ]
     },
     "metadata": {},
     "output_type": "display_data"
    },
    {
     "name": "stdout",
     "output_type": "stream",
     "text": [
      "result data stored in table '\"ALICE\".\"ml__td_sqlmr_persist_out__1719256744261110\"'                                                                                                                      \n",
      "result data stored in table '\"ALICE\".\"ml__td_sqlmr_persist_out__1719261968984666\"'\n",
      "result data stored in table '\"ALICE\".\"ml__td_sqlmr_persist_out__1719257286309061\"'\n",
      "                                                                                          \r"
     ]
    },
    {
     "data": {
      "text/html": [
       "----------------------------------------------------------------------------------------------------"
      ],
      "text/plain": [
       "<IPython.core.display.HTML object>"
      ]
     },
     "metadata": {},
     "output_type": "display_data"
    },
    {
     "name": "stdout",
     "output_type": "stream",
     "text": [
      "                                                                                          \r"
     ]
    },
    {
     "data": {
      "text/html": [
       "Evaluating models performance ..."
      ],
      "text/plain": [
       "<IPython.core.display.HTML object>"
      ]
     },
     "metadata": {},
     "output_type": "display_data"
    },
    {
     "name": "stdout",
     "output_type": "stream",
     "text": [
      "                                                                                          \r"
     ]
    },
    {
     "data": {
      "text/html": [
       "Evaluation completed."
      ],
      "text/plain": [
       "<IPython.core.display.HTML object>"
      ]
     },
     "metadata": {},
     "output_type": "display_data"
    },
    {
     "name": "stdout",
     "output_type": "stream",
     "text": [
      "                                                                                          \r"
     ]
    },
    {
     "data": {
      "text/html": [
       "Leaderboard"
      ],
      "text/plain": [
       "<IPython.core.display.HTML object>"
      ]
     },
     "metadata": {},
     "output_type": "display_data"
    },
    {
     "data": {
      "text/html": [
       "<div>\n",
       "<style scoped>\n",
       "    .dataframe tbody tr th:only-of-type {\n",
       "        vertical-align: middle;\n",
       "    }\n",
       "\n",
       "    .dataframe tbody tr th {\n",
       "        vertical-align: top;\n",
       "    }\n",
       "\n",
       "    .dataframe thead th {\n",
       "        text-align: right;\n",
       "    }\n",
       "</style>\n",
       "<table border=\"1\" class=\"dataframe\">\n",
       "  <thead>\n",
       "    <tr style=\"text-align: right;\">\n",
       "      <th></th>\n",
       "      <th>Rank</th>\n",
       "      <th>Model-ID</th>\n",
       "      <th>Feature-Selection</th>\n",
       "      <th>Accuracy</th>\n",
       "      <th>Micro-Precision</th>\n",
       "      <th>Micro-Recall</th>\n",
       "      <th>Micro-F1</th>\n",
       "      <th>Macro-Precision</th>\n",
       "      <th>Macro-Recall</th>\n",
       "      <th>Macro-F1</th>\n",
       "      <th>Weighted-Precision</th>\n",
       "      <th>Weighted-Recall</th>\n",
       "      <th>Weighted-F1</th>\n",
       "    </tr>\n",
       "  </thead>\n",
       "  <tbody>\n",
       "    <tr>\n",
       "      <th>0</th>\n",
       "      <td>1</td>\n",
       "      <td>XGBOOST_2</td>\n",
       "      <td>pca</td>\n",
       "      <td>0.916667</td>\n",
       "      <td>0.916667</td>\n",
       "      <td>0.916667</td>\n",
       "      <td>0.916667</td>\n",
       "      <td>0.933333</td>\n",
       "      <td>0.925926</td>\n",
       "      <td>0.921296</td>\n",
       "      <td>0.933333</td>\n",
       "      <td>0.916667</td>\n",
       "      <td>0.916088</td>\n",
       "    </tr>\n",
       "    <tr>\n",
       "      <th>1</th>\n",
       "      <td>2</td>\n",
       "      <td>KNN_1</td>\n",
       "      <td>rfe</td>\n",
       "      <td>0.916667</td>\n",
       "      <td>0.916667</td>\n",
       "      <td>0.916667</td>\n",
       "      <td>0.916667</td>\n",
       "      <td>0.933333</td>\n",
       "      <td>0.925926</td>\n",
       "      <td>0.921296</td>\n",
       "      <td>0.933333</td>\n",
       "      <td>0.916667</td>\n",
       "      <td>0.916088</td>\n",
       "    </tr>\n",
       "  </tbody>\n",
       "</table>\n",
       "</div>"
      ],
      "text/plain": [
       "   Rank   Model-ID Feature-Selection  Accuracy  Micro-Precision  Micro-Recall  \\\n",
       "0     1  XGBOOST_2               pca  0.916667         0.916667      0.916667   \n",
       "1     2      KNN_1               rfe  0.916667         0.916667      0.916667   \n",
       "\n",
       "   Micro-F1  Macro-Precision  Macro-Recall  Macro-F1  Weighted-Precision  \\\n",
       "0  0.916667         0.933333      0.925926  0.921296            0.933333   \n",
       "1  0.916667         0.933333      0.925926  0.921296            0.933333   \n",
       "\n",
       "   Weighted-Recall  Weighted-F1  \n",
       "0         0.916667     0.916088  \n",
       "1         0.916667     0.916088  "
      ]
     },
     "metadata": {},
     "output_type": "display_data"
    },
    {
     "name": "stdout",
     "output_type": "stream",
     "text": [
      "                                                                                          \r"
     ]
    },
    {
     "data": {
      "text/html": [
       "2 rows X 13 columns"
      ],
      "text/plain": [
       "<IPython.core.display.HTML object>"
      ]
     },
     "metadata": {},
     "output_type": "display_data"
    },
    {
     "name": "stdout",
     "output_type": "stream",
     "text": [
      "                                                                                          \r"
     ]
    },
    {
     "data": {
      "text/html": [
       "\n",
       "            <style>\n",
       "                .custom-div {\n",
       "                    background-color: lightgray;\n",
       "                    color: #000000;\n",
       "                    padding: 10px;\n",
       "                    border-radius: 8px;\n",
       "                    box-shadow: 0 3px 4px rgba(0 -  0 -  0 -  0.2);\n",
       "                    margin-bottom: 10px;\n",
       "                    text-align: center;\n",
       "                }\n",
       "            </style>\n",
       "        <br><div class=\"custom-div\"><h3><span style=\"color: green;\">1. Feature Exploration -> 2. Feature Engineering -> 3. Data Preparation -> 4. Model Training & Evaluation</span><center></h3></center></div>"
      ],
      "text/plain": [
       "<IPython.core.display.HTML object>"
      ]
     },
     "metadata": {},
     "output_type": "display_data"
    },
    {
     "name": "stdout",
     "output_type": "stream",
     "text": [
      "Completed: ｜⫿⫿⫿⫿⫿⫿⫿⫿⫿⫿⫿⫿⫿⫿⫿⫿⫿⫿⫿⫿⫿⫿⫿⫿⫿⫿⫿⫿⫿⫿⫿⫿⫿⫿⫿⫿⫿⫿⫿⫿⫿⫿⫿⫿⫿⫿⫿⫿⫿⫿⫿⫿⫿⫿⫿⫿⫿⫿⫿⫿｜ 100% - 16/16    \r"
     ]
    }
   ],
   "source": [
    "# Fitting train data\n",
    "aml.fit(iris_train, iris_train.species)"
   ]
  },
  {
   "cell_type": "markdown",
   "id": "23a04eb1-68e6-48b7-95aa-442f434809da",
   "metadata": {},
   "source": [
    "## <b><span style='color:#F1A424'>| 3.</span> Leaderboard : </b>"
   ]
  },
  {
   "cell_type": "code",
   "execution_count": 17,
   "id": "77de1099-6122-4f8a-8e7f-dd67e5b4ced4",
   "metadata": {},
   "outputs": [
    {
     "data": {
      "text/html": [
       "<div>\n",
       "<style scoped>\n",
       "    .dataframe tbody tr th:only-of-type {\n",
       "        vertical-align: middle;\n",
       "    }\n",
       "\n",
       "    .dataframe tbody tr th {\n",
       "        vertical-align: top;\n",
       "    }\n",
       "\n",
       "    .dataframe thead th {\n",
       "        text-align: right;\n",
       "    }\n",
       "</style>\n",
       "<table border=\"1\" class=\"dataframe\">\n",
       "  <thead>\n",
       "    <tr style=\"text-align: right;\">\n",
       "      <th></th>\n",
       "      <th>Rank</th>\n",
       "      <th>Model-ID</th>\n",
       "      <th>Feature-Selection</th>\n",
       "      <th>Accuracy</th>\n",
       "      <th>Micro-Precision</th>\n",
       "      <th>Micro-Recall</th>\n",
       "      <th>Micro-F1</th>\n",
       "      <th>Macro-Precision</th>\n",
       "      <th>Macro-Recall</th>\n",
       "      <th>Macro-F1</th>\n",
       "      <th>Weighted-Precision</th>\n",
       "      <th>Weighted-Recall</th>\n",
       "      <th>Weighted-F1</th>\n",
       "    </tr>\n",
       "  </thead>\n",
       "  <tbody>\n",
       "    <tr>\n",
       "      <th>0</th>\n",
       "      <td>1</td>\n",
       "      <td>XGBOOST_2</td>\n",
       "      <td>pca</td>\n",
       "      <td>0.916667</td>\n",
       "      <td>0.916667</td>\n",
       "      <td>0.916667</td>\n",
       "      <td>0.916667</td>\n",
       "      <td>0.933333</td>\n",
       "      <td>0.925926</td>\n",
       "      <td>0.921296</td>\n",
       "      <td>0.933333</td>\n",
       "      <td>0.916667</td>\n",
       "      <td>0.916088</td>\n",
       "    </tr>\n",
       "    <tr>\n",
       "      <th>1</th>\n",
       "      <td>2</td>\n",
       "      <td>KNN_1</td>\n",
       "      <td>rfe</td>\n",
       "      <td>0.916667</td>\n",
       "      <td>0.916667</td>\n",
       "      <td>0.916667</td>\n",
       "      <td>0.916667</td>\n",
       "      <td>0.933333</td>\n",
       "      <td>0.925926</td>\n",
       "      <td>0.921296</td>\n",
       "      <td>0.933333</td>\n",
       "      <td>0.916667</td>\n",
       "      <td>0.916088</td>\n",
       "    </tr>\n",
       "  </tbody>\n",
       "</table>\n",
       "</div>"
      ],
      "text/plain": [
       "   Rank   Model-ID Feature-Selection  Accuracy  Micro-Precision  Micro-Recall  \\\n",
       "0     1  XGBOOST_2               pca  0.916667         0.916667      0.916667   \n",
       "1     2      KNN_1               rfe  0.916667         0.916667      0.916667   \n",
       "\n",
       "   Micro-F1  Macro-Precision  Macro-Recall  Macro-F1  Weighted-Precision  \\\n",
       "0  0.916667         0.933333      0.925926  0.921296            0.933333   \n",
       "1  0.916667         0.933333      0.925926  0.921296            0.933333   \n",
       "\n",
       "   Weighted-Recall  Weighted-F1  \n",
       "0         0.916667     0.916088  \n",
       "1         0.916667     0.916088  "
      ]
     },
     "execution_count": 17,
     "metadata": {},
     "output_type": "execute_result"
    }
   ],
   "source": [
    "# Fetching Leaderboard\n",
    "aml.leaderboard()"
   ]
  },
  {
   "cell_type": "markdown",
   "id": "a7a3aa08-e349-4a61-9217-2c17d50411d8",
   "metadata": {},
   "source": [
    "## <b><span style='color:#F1A424'>| 4.</span> Best Performing Model : </b>"
   ]
  },
  {
   "cell_type": "code",
   "execution_count": 18,
   "id": "c4c32832-a76b-4f42-826a-cefc38a6301b",
   "metadata": {},
   "outputs": [
    {
     "data": {
      "text/html": [
       "<div>\n",
       "<style scoped>\n",
       "    .dataframe tbody tr th:only-of-type {\n",
       "        vertical-align: middle;\n",
       "    }\n",
       "\n",
       "    .dataframe tbody tr th {\n",
       "        vertical-align: top;\n",
       "    }\n",
       "\n",
       "    .dataframe thead th {\n",
       "        text-align: right;\n",
       "    }\n",
       "</style>\n",
       "<table border=\"1\" class=\"dataframe\">\n",
       "  <thead>\n",
       "    <tr style=\"text-align: right;\">\n",
       "      <th></th>\n",
       "      <th>Rank</th>\n",
       "      <th>Model-ID</th>\n",
       "      <th>Feature-Selection</th>\n",
       "      <th>Accuracy</th>\n",
       "      <th>Micro-Precision</th>\n",
       "      <th>Micro-Recall</th>\n",
       "      <th>Micro-F1</th>\n",
       "      <th>Macro-Precision</th>\n",
       "      <th>Macro-Recall</th>\n",
       "      <th>Macro-F1</th>\n",
       "      <th>Weighted-Precision</th>\n",
       "      <th>Weighted-Recall</th>\n",
       "      <th>Weighted-F1</th>\n",
       "    </tr>\n",
       "  </thead>\n",
       "  <tbody>\n",
       "    <tr>\n",
       "      <th>0</th>\n",
       "      <td>1</td>\n",
       "      <td>XGBOOST_2</td>\n",
       "      <td>pca</td>\n",
       "      <td>0.916667</td>\n",
       "      <td>0.916667</td>\n",
       "      <td>0.916667</td>\n",
       "      <td>0.916667</td>\n",
       "      <td>0.933333</td>\n",
       "      <td>0.925926</td>\n",
       "      <td>0.921296</td>\n",
       "      <td>0.933333</td>\n",
       "      <td>0.916667</td>\n",
       "      <td>0.916088</td>\n",
       "    </tr>\n",
       "  </tbody>\n",
       "</table>\n",
       "</div>"
      ],
      "text/plain": [
       "   Rank   Model-ID Feature-Selection  Accuracy  Micro-Precision  Micro-Recall  \\\n",
       "0     1  XGBOOST_2               pca  0.916667         0.916667      0.916667   \n",
       "\n",
       "   Micro-F1  Macro-Precision  Macro-Recall  Macro-F1  Weighted-Precision  \\\n",
       "0  0.916667         0.933333      0.925926  0.921296            0.933333   \n",
       "\n",
       "   Weighted-Recall  Weighted-F1  \n",
       "0         0.916667     0.916088  "
      ]
     },
     "metadata": {},
     "output_type": "display_data"
    }
   ],
   "source": [
    "# Fetching best performing model for dataset\n",
    "aml.leader()"
   ]
  },
  {
   "cell_type": "markdown",
   "id": "e43181a9-3847-4e8b-b510-6da81f1c550f",
   "metadata": {},
   "source": [
    "## <b><span style='color:#F1A424'>| 5.</span> Generating Prediction : </b>"
   ]
  },
  {
   "cell_type": "code",
   "execution_count": 21,
   "id": "5b6edfe3-bd5a-46bd-ad80-b20fadfed7a0",
   "metadata": {},
   "outputs": [
    {
     "name": "stdout",
     "output_type": "stream",
     "text": [
      "Data Transformation started ...\n",
      "                                                                                                \r"
     ]
    },
    {
     "data": {
      "text/html": [
       "Performing transformation carried out in feature engineering phase ..."
      ],
      "text/plain": [
       "<IPython.core.display.HTML object>"
      ]
     },
     "metadata": {},
     "output_type": "display_data"
    },
    {
     "name": "stdout",
     "output_type": "stream",
     "text": [
      "                                                                                                \r"
     ]
    },
    {
     "data": {
      "text/html": [
       "\n",
       "Updated dataset after dropping irrelevent columns :"
      ],
      "text/plain": [
       "<IPython.core.display.HTML object>"
      ]
     },
     "metadata": {},
     "output_type": "display_data"
    },
    {
     "data": {
      "text/html": [
       "<style type=\"text/css\">\n",
       "\ttable {border:ridge 5px;}\n",
       "\ttable td {border:inset 1px;}\n",
       "\ttable tr#HeaderRow {background-color:grey; color:white;}</style>\n",
       "<html><table>\n",
       "\t<tr id=\"HeaderRow\">\n",
       "\t\t<th>sepal_length</th>\n",
       "\t\t<th>sepal_width</th>\n",
       "\t\t<th>petal_length</th>\n",
       "\t\t<th>petal_width</th>\n",
       "\t\t<th>species</th>\n",
       "\t</tr>\n",
       "\t<tr>\n",
       "\t\t<td>5.8</td>\n",
       "\t\t<td>2.6</td>\n",
       "\t\t<td>4.0</td>\n",
       "\t\t<td>1.2</td>\n",
       "\t\t<td>2</td>\n",
       "\t</tr>\n",
       "\t<tr>\n",
       "\t\t<td>5.0</td>\n",
       "\t\t<td>2.0</td>\n",
       "\t\t<td>3.5</td>\n",
       "\t\t<td>1.0</td>\n",
       "\t\t<td>2</td>\n",
       "\t</tr>\n",
       "\t<tr>\n",
       "\t\t<td>6.4</td>\n",
       "\t\t<td>3.2</td>\n",
       "\t\t<td>5.3</td>\n",
       "\t\t<td>2.3</td>\n",
       "\t\t<td>3</td>\n",
       "\t</tr>\n",
       "\t<tr>\n",
       "\t\t<td>5.7</td>\n",
       "\t\t<td>2.6</td>\n",
       "\t\t<td>3.5</td>\n",
       "\t\t<td>1.0</td>\n",
       "\t\t<td>2</td>\n",
       "\t</tr>\n",
       "\t<tr>\n",
       "\t\t<td>5.1</td>\n",
       "\t\t<td>2.5</td>\n",
       "\t\t<td>3.0</td>\n",
       "\t\t<td>1.1</td>\n",
       "\t\t<td>2</td>\n",
       "\t</tr>\n",
       "\t<tr>\n",
       "\t\t<td>5.3</td>\n",
       "\t\t<td>3.7</td>\n",
       "\t\t<td>1.5</td>\n",
       "\t\t<td>0.2</td>\n",
       "\t\t<td>1</td>\n",
       "\t</tr>\n",
       "\t<tr>\n",
       "\t\t<td>4.7</td>\n",
       "\t\t<td>3.2</td>\n",
       "\t\t<td>1.6</td>\n",
       "\t\t<td>0.2</td>\n",
       "\t\t<td>1</td>\n",
       "\t</tr>\n",
       "\t<tr>\n",
       "\t\t<td>5.6</td>\n",
       "\t\t<td>2.5</td>\n",
       "\t\t<td>3.9</td>\n",
       "\t\t<td>1.1</td>\n",
       "\t\t<td>2</td>\n",
       "\t</tr>\n",
       "\t<tr>\n",
       "\t\t<td>6.0</td>\n",
       "\t\t<td>3.0</td>\n",
       "\t\t<td>4.8</td>\n",
       "\t\t<td>1.8</td>\n",
       "\t\t<td>3</td>\n",
       "\t</tr>\n",
       "\t<tr>\n",
       "\t\t<td>6.3</td>\n",
       "\t\t<td>2.9</td>\n",
       "\t\t<td>5.6</td>\n",
       "\t\t<td>1.8</td>\n",
       "\t\t<td>3</td>\n",
       "\t</tr>\n",
       "</table></html>"
      ],
      "text/plain": [
       "   sepal_length  sepal_width  petal_length  petal_width  species\n",
       "0           5.8          2.6           4.0          1.2        2\n",
       "1           5.0          2.0           3.5          1.0        2\n",
       "2           6.4          3.2           5.3          2.3        3\n",
       "3           5.7          2.6           3.5          1.0        2\n",
       "4           5.1          2.5           3.0          1.1        2\n",
       "5           5.3          3.7           1.5          0.2        1\n",
       "6           4.7          3.2           1.6          0.2        1\n",
       "7           5.6          2.5           3.9          1.1        2\n",
       "8           6.0          3.0           4.8          1.8        3\n",
       "9           6.3          2.9           5.6          1.8        3"
      ]
     },
     "metadata": {},
     "output_type": "display_data"
    },
    {
     "name": "stdout",
     "output_type": "stream",
     "text": [
      "                                                                                                \r"
     ]
    },
    {
     "data": {
      "text/html": [
       "30 rows X 5 columns"
      ],
      "text/plain": [
       "<IPython.core.display.HTML object>"
      ]
     },
     "metadata": {},
     "output_type": "display_data"
    },
    {
     "name": "stdout",
     "output_type": "stream",
     "text": [
      "                                                                                                 \r"
     ]
    },
    {
     "data": {
      "text/html": [
       "\n",
       "Updated dataset after performing target column transformation :"
      ],
      "text/plain": [
       "<IPython.core.display.HTML object>"
      ]
     },
     "metadata": {},
     "output_type": "display_data"
    },
    {
     "data": {
      "text/html": [
       "<style type=\"text/css\">\n",
       "\ttable {border:ridge 5px;}\n",
       "\ttable td {border:inset 1px;}\n",
       "\ttable tr#HeaderRow {background-color:grey; color:white;}</style>\n",
       "<html><table>\n",
       "\t<tr id=\"HeaderRow\">\n",
       "\t\t<th>sepal_width</th>\n",
       "\t\t<th>petal_length</th>\n",
       "\t\t<th>id</th>\n",
       "\t\t<th>petal_width</th>\n",
       "\t\t<th>sepal_length</th>\n",
       "\t\t<th>species</th>\n",
       "\t</tr>\n",
       "\t<tr>\n",
       "\t\t<td>3.2</td>\n",
       "\t\t<td>1.6</td>\n",
       "\t\t<td>11</td>\n",
       "\t\t<td>0.2</td>\n",
       "\t\t<td>4.7</td>\n",
       "\t\t<td>1</td>\n",
       "\t</tr>\n",
       "\t<tr>\n",
       "\t\t<td>2.0</td>\n",
       "\t\t<td>3.5</td>\n",
       "\t\t<td>14</td>\n",
       "\t\t<td>1.0</td>\n",
       "\t\t<td>5.0</td>\n",
       "\t\t<td>2</td>\n",
       "\t</tr>\n",
       "\t<tr>\n",
       "\t\t<td>3.2</td>\n",
       "\t\t<td>5.3</td>\n",
       "\t\t<td>22</td>\n",
       "\t\t<td>2.3</td>\n",
       "\t\t<td>6.4</td>\n",
       "\t\t<td>3</td>\n",
       "\t</tr>\n",
       "\t<tr>\n",
       "\t\t<td>2.6</td>\n",
       "\t\t<td>4.0</td>\n",
       "\t\t<td>8</td>\n",
       "\t\t<td>1.2</td>\n",
       "\t\t<td>5.8</td>\n",
       "\t\t<td>2</td>\n",
       "\t</tr>\n",
       "\t<tr>\n",
       "\t\t<td>3.0</td>\n",
       "\t\t<td>4.8</td>\n",
       "\t\t<td>15</td>\n",
       "\t\t<td>1.8</td>\n",
       "\t\t<td>6.0</td>\n",
       "\t\t<td>3</td>\n",
       "\t</tr>\n",
       "\t<tr>\n",
       "\t\t<td>2.9</td>\n",
       "\t\t<td>5.6</td>\n",
       "\t\t<td>23</td>\n",
       "\t\t<td>1.8</td>\n",
       "\t\t<td>6.3</td>\n",
       "\t\t<td>3</td>\n",
       "\t</tr>\n",
       "\t<tr>\n",
       "\t\t<td>2.6</td>\n",
       "\t\t<td>3.5</td>\n",
       "\t\t<td>12</td>\n",
       "\t\t<td>1.0</td>\n",
       "\t\t<td>5.7</td>\n",
       "\t\t<td>2</td>\n",
       "\t</tr>\n",
       "\t<tr>\n",
       "\t\t<td>3.6</td>\n",
       "\t\t<td>1.4</td>\n",
       "\t\t<td>20</td>\n",
       "\t\t<td>0.1</td>\n",
       "\t\t<td>4.9</td>\n",
       "\t\t<td>1</td>\n",
       "\t</tr>\n",
       "\t<tr>\n",
       "\t\t<td>2.5</td>\n",
       "\t\t<td>3.0</td>\n",
       "\t\t<td>13</td>\n",
       "\t\t<td>1.1</td>\n",
       "\t\t<td>5.1</td>\n",
       "\t\t<td>2</td>\n",
       "\t</tr>\n",
       "\t<tr>\n",
       "\t\t<td>3.7</td>\n",
       "\t\t<td>1.5</td>\n",
       "\t\t<td>21</td>\n",
       "\t\t<td>0.2</td>\n",
       "\t\t<td>5.3</td>\n",
       "\t\t<td>1</td>\n",
       "\t</tr>\n",
       "</table></html>"
      ],
      "text/plain": [
       "   sepal_width  petal_length  id  petal_width  sepal_length  species\n",
       "0          3.2           1.6  11          0.2           4.7        1\n",
       "1          2.0           3.5  14          1.0           5.0        2\n",
       "2          3.2           5.3  22          2.3           6.4        3\n",
       "3          2.6           4.0   8          1.2           5.8        2\n",
       "4          3.0           4.8  15          1.8           6.0        3\n",
       "5          2.9           5.6  23          1.8           6.3        3\n",
       "6          2.6           3.5  12          1.0           5.7        2\n",
       "7          3.6           1.4  20          0.1           4.9        1\n",
       "8          2.5           3.0  13          1.1           5.1        2\n",
       "9          3.7           1.5  21          0.2           5.3        1"
      ]
     },
     "metadata": {},
     "output_type": "display_data"
    },
    {
     "name": "stdout",
     "output_type": "stream",
     "text": [
      "                                                                                                 \r"
     ]
    },
    {
     "data": {
      "text/html": [
       "30 rows X 6 columns"
      ],
      "text/plain": [
       "<IPython.core.display.HTML object>"
      ]
     },
     "metadata": {},
     "output_type": "display_data"
    },
    {
     "name": "stdout",
     "output_type": "stream",
     "text": [
      "                                                                                                 \r"
     ]
    },
    {
     "data": {
      "text/html": [
       "Performing transformation carried out in data preparation phase ..."
      ],
      "text/plain": [
       "<IPython.core.display.HTML object>"
      ]
     },
     "metadata": {},
     "output_type": "display_data"
    },
    {
     "name": "stdout",
     "output_type": "stream",
     "text": [
      "result data stored in table '\"ALICE\".\"ml__td_sqlmr_persist_out__1719257344016789\"'⫾⫾⫾｜ 60% - 6/10\n",
      "                                                                                                 \r"
     ]
    },
    {
     "data": {
      "text/html": [
       "\n",
       "Updated dataset after performing Lasso feature selection:"
      ],
      "text/plain": [
       "<IPython.core.display.HTML object>"
      ]
     },
     "metadata": {},
     "output_type": "display_data"
    },
    {
     "data": {
      "text/html": [
       "<style type=\"text/css\">\n",
       "\ttable {border:ridge 5px;}\n",
       "\ttable td {border:inset 1px;}\n",
       "\ttable tr#HeaderRow {background-color:grey; color:white;}</style>\n",
       "<html><table>\n",
       "\t<tr id=\"HeaderRow\">\n",
       "\t\t<th>id</th>\n",
       "\t\t<th>petal_width</th>\n",
       "\t\t<th>sepal_width</th>\n",
       "\t\t<th>sepal_length</th>\n",
       "\t\t<th>petal_length</th>\n",
       "\t\t<th>species</th>\n",
       "\t</tr>\n",
       "\t<tr>\n",
       "\t\t<td>16</td>\n",
       "\t\t<td>0.2</td>\n",
       "\t\t<td>3.6</td>\n",
       "\t\t<td>5.0</td>\n",
       "\t\t<td>1.4</td>\n",
       "\t\t<td>1</td>\n",
       "\t</tr>\n",
       "\t<tr>\n",
       "\t\t<td>21</td>\n",
       "\t\t<td>0.2</td>\n",
       "\t\t<td>3.7</td>\n",
       "\t\t<td>5.3</td>\n",
       "\t\t<td>1.5</td>\n",
       "\t\t<td>1</td>\n",
       "\t</tr>\n",
       "\t<tr>\n",
       "\t\t<td>32</td>\n",
       "\t\t<td>0.2</td>\n",
       "\t\t<td>3.0</td>\n",
       "\t\t<td>4.9</td>\n",
       "\t\t<td>1.4</td>\n",
       "\t\t<td>1</td>\n",
       "\t</tr>\n",
       "\t<tr>\n",
       "\t\t<td>18</td>\n",
       "\t\t<td>0.4</td>\n",
       "\t\t<td>3.7</td>\n",
       "\t\t<td>5.1</td>\n",
       "\t\t<td>1.5</td>\n",
       "\t\t<td>1</td>\n",
       "\t</tr>\n",
       "\t<tr>\n",
       "\t\t<td>39</td>\n",
       "\t\t<td>0.2</td>\n",
       "\t\t<td>3.6</td>\n",
       "\t\t<td>4.6</td>\n",
       "\t\t<td>1.0</td>\n",
       "\t\t<td>1</td>\n",
       "\t</tr>\n",
       "\t<tr>\n",
       "\t\t<td>24</td>\n",
       "\t\t<td>0.2</td>\n",
       "\t\t<td>3.4</td>\n",
       "\t\t<td>4.8</td>\n",
       "\t\t<td>1.9</td>\n",
       "\t\t<td>1</td>\n",
       "\t</tr>\n",
       "\t<tr>\n",
       "\t\t<td>30</td>\n",
       "\t\t<td>1.5</td>\n",
       "\t\t<td>2.8</td>\n",
       "\t\t<td>6.3</td>\n",
       "\t\t<td>5.1</td>\n",
       "\t\t<td>3</td>\n",
       "\t</tr>\n",
       "\t<tr>\n",
       "\t\t<td>36</td>\n",
       "\t\t<td>1.8</td>\n",
       "\t\t<td>2.5</td>\n",
       "\t\t<td>6.7</td>\n",
       "\t\t<td>5.8</td>\n",
       "\t\t<td>3</td>\n",
       "\t</tr>\n",
       "\t<tr>\n",
       "\t\t<td>10</td>\n",
       "\t\t<td>1.8</td>\n",
       "\t\t<td>3.0</td>\n",
       "\t\t<td>5.9</td>\n",
       "\t\t<td>5.1</td>\n",
       "\t\t<td>3</td>\n",
       "\t</tr>\n",
       "\t<tr>\n",
       "\t\t<td>15</td>\n",
       "\t\t<td>1.8</td>\n",
       "\t\t<td>3.0</td>\n",
       "\t\t<td>6.0</td>\n",
       "\t\t<td>4.8</td>\n",
       "\t\t<td>3</td>\n",
       "\t</tr>\n",
       "</table></html>"
      ],
      "text/plain": [
       "         id  petal_width  sepal_width  sepal_length  petal_length\n",
       "species                                                          \n",
       "1        16          0.2          3.6           5.0           1.4\n",
       "1        21          0.2          3.7           5.3           1.5\n",
       "1        32          0.2          3.0           4.9           1.4\n",
       "1        18          0.4          3.7           5.1           1.5\n",
       "1        39          0.2          3.6           4.6           1.0\n",
       "1        24          0.2          3.4           4.8           1.9\n",
       "3        30          1.5          2.8           6.3           5.1\n",
       "3        36          1.8          2.5           6.7           5.8\n",
       "3        10          1.8          3.0           5.9           5.1\n",
       "3        15          1.8          3.0           6.0           4.8"
      ]
     },
     "metadata": {},
     "output_type": "display_data"
    },
    {
     "name": "stdout",
     "output_type": "stream",
     "text": [
      "                                                                                                 \r"
     ]
    },
    {
     "data": {
      "text/html": [
       "30 rows X 6 columns"
      ],
      "text/plain": [
       "<IPython.core.display.HTML object>"
      ]
     },
     "metadata": {},
     "output_type": "display_data"
    },
    {
     "name": "stdout",
     "output_type": "stream",
     "text": [
      "                                                                                                 \r"
     ]
    },
    {
     "data": {
      "text/html": [
       "\n",
       "Updated dataset after performing scaling on Lasso selected features :"
      ],
      "text/plain": [
       "<IPython.core.display.HTML object>"
      ]
     },
     "metadata": {},
     "output_type": "display_data"
    },
    {
     "data": {
      "text/html": [
       "<style type=\"text/css\">\n",
       "\ttable {border:ridge 5px;}\n",
       "\ttable td {border:inset 1px;}\n",
       "\ttable tr#HeaderRow {background-color:grey; color:white;}</style>\n",
       "<html><table>\n",
       "\t<tr id=\"HeaderRow\">\n",
       "\t\t<th>species</th>\n",
       "\t\t<th>id</th>\n",
       "\t\t<th>petal_width</th>\n",
       "\t\t<th>sepal_width</th>\n",
       "\t\t<th>sepal_length</th>\n",
       "\t\t<th>petal_length</th>\n",
       "\t</tr>\n",
       "\t<tr>\n",
       "\t\t<td>1</td>\n",
       "\t\t<td>16</td>\n",
       "\t\t<td>0.04166666666666667</td>\n",
       "\t\t<td>0.823529411764706</td>\n",
       "\t\t<td>0.2058823529411765</td>\n",
       "\t\t<td>0.05172413793103445</td>\n",
       "\t</tr>\n",
       "\t<tr>\n",
       "\t\t<td>1</td>\n",
       "\t\t<td>21</td>\n",
       "\t\t<td>0.04166666666666667</td>\n",
       "\t\t<td>0.8823529411764707</td>\n",
       "\t\t<td>0.2941176470588235</td>\n",
       "\t\t<td>0.06896551724137928</td>\n",
       "\t</tr>\n",
       "\t<tr>\n",
       "\t\t<td>1</td>\n",
       "\t\t<td>32</td>\n",
       "\t\t<td>0.04166666666666667</td>\n",
       "\t\t<td>0.47058823529411764</td>\n",
       "\t\t<td>0.17647058823529427</td>\n",
       "\t\t<td>0.05172413793103445</td>\n",
       "\t</tr>\n",
       "\t<tr>\n",
       "\t\t<td>1</td>\n",
       "\t\t<td>18</td>\n",
       "\t\t<td>0.12500000000000003</td>\n",
       "\t\t<td>0.8823529411764707</td>\n",
       "\t\t<td>0.23529411764705874</td>\n",
       "\t\t<td>0.06896551724137928</td>\n",
       "\t</tr>\n",
       "\t<tr>\n",
       "\t\t<td>1</td>\n",
       "\t\t<td>39</td>\n",
       "\t\t<td>0.04166666666666667</td>\n",
       "\t\t<td>0.823529411764706</td>\n",
       "\t\t<td>0.088235294117647</td>\n",
       "\t\t<td>-0.01724137931034484</td>\n",
       "\t</tr>\n",
       "\t<tr>\n",
       "\t\t<td>1</td>\n",
       "\t\t<td>24</td>\n",
       "\t\t<td>0.04166666666666667</td>\n",
       "\t\t<td>0.7058823529411764</td>\n",
       "\t\t<td>0.14705882352941174</td>\n",
       "\t\t<td>0.13793103448275856</td>\n",
       "\t</tr>\n",
       "\t<tr>\n",
       "\t\t<td>3</td>\n",
       "\t\t<td>30</td>\n",
       "\t\t<td>0.5833333333333334</td>\n",
       "\t\t<td>0.3529411764705881</td>\n",
       "\t\t<td>0.588235294117647</td>\n",
       "\t\t<td>0.6896551724137929</td>\n",
       "\t</tr>\n",
       "\t<tr>\n",
       "\t\t<td>3</td>\n",
       "\t\t<td>36</td>\n",
       "\t\t<td>0.7083333333333334</td>\n",
       "\t\t<td>0.17647058823529405</td>\n",
       "\t\t<td>0.7058823529411765</td>\n",
       "\t\t<td>0.8103448275862066</td>\n",
       "\t</tr>\n",
       "\t<tr>\n",
       "\t\t<td>3</td>\n",
       "\t\t<td>10</td>\n",
       "\t\t<td>0.7083333333333334</td>\n",
       "\t\t<td>0.47058823529411764</td>\n",
       "\t\t<td>0.47058823529411775</td>\n",
       "\t\t<td>0.6896551724137929</td>\n",
       "\t</tr>\n",
       "\t<tr>\n",
       "\t\t<td>3</td>\n",
       "\t\t<td>15</td>\n",
       "\t\t<td>0.7083333333333334</td>\n",
       "\t\t<td>0.47058823529411764</td>\n",
       "\t\t<td>0.5</td>\n",
       "\t\t<td>0.6379310344827585</td>\n",
       "\t</tr>\n",
       "</table></html>"
      ],
      "text/plain": [
       "   species  id  petal_width  sepal_width  sepal_length  petal_length\n",
       "0        1  16     0.041667     0.823529      0.205882      0.051724\n",
       "1        1  21     0.041667     0.882353      0.294118      0.068966\n",
       "2        1  32     0.041667     0.470588      0.176471      0.051724\n",
       "3        1  18     0.125000     0.882353      0.235294      0.068966\n",
       "4        1  39     0.041667     0.823529      0.088235     -0.017241\n",
       "5        1  24     0.041667     0.705882      0.147059      0.137931\n",
       "6        3  30     0.583333     0.352941      0.588235      0.689655\n",
       "7        3  36     0.708333     0.176471      0.705882      0.810345\n",
       "8        3  10     0.708333     0.470588      0.470588      0.689655\n",
       "9        3  15     0.708333     0.470588      0.500000      0.637931"
      ]
     },
     "metadata": {},
     "output_type": "display_data"
    },
    {
     "name": "stdout",
     "output_type": "stream",
     "text": [
      "                                                                                                 \r"
     ]
    },
    {
     "data": {
      "text/html": [
       "30 rows X 6 columns"
      ],
      "text/plain": [
       "<IPython.core.display.HTML object>"
      ]
     },
     "metadata": {},
     "output_type": "display_data"
    },
    {
     "name": "stdout",
     "output_type": "stream",
     "text": [
      "                                                                                                 \r"
     ]
    },
    {
     "data": {
      "text/html": [
       "\n",
       "Updated dataset after performing RFE feature selection:"
      ],
      "text/plain": [
       "<IPython.core.display.HTML object>"
      ]
     },
     "metadata": {},
     "output_type": "display_data"
    },
    {
     "data": {
      "text/html": [
       "<style type=\"text/css\">\n",
       "\ttable {border:ridge 5px;}\n",
       "\ttable td {border:inset 1px;}\n",
       "\ttable tr#HeaderRow {background-color:grey; color:white;}</style>\n",
       "<html><table>\n",
       "\t<tr id=\"HeaderRow\">\n",
       "\t\t<th>id</th>\n",
       "\t\t<th>petal_length</th>\n",
       "\t\t<th>petal_width</th>\n",
       "\t\t<th>species</th>\n",
       "\t</tr>\n",
       "\t<tr>\n",
       "\t\t<td>16</td>\n",
       "\t\t<td>1.4</td>\n",
       "\t\t<td>0.2</td>\n",
       "\t\t<td>1</td>\n",
       "\t</tr>\n",
       "\t<tr>\n",
       "\t\t<td>21</td>\n",
       "\t\t<td>1.5</td>\n",
       "\t\t<td>0.2</td>\n",
       "\t\t<td>1</td>\n",
       "\t</tr>\n",
       "\t<tr>\n",
       "\t\t<td>32</td>\n",
       "\t\t<td>1.4</td>\n",
       "\t\t<td>0.2</td>\n",
       "\t\t<td>1</td>\n",
       "\t</tr>\n",
       "\t<tr>\n",
       "\t\t<td>18</td>\n",
       "\t\t<td>1.5</td>\n",
       "\t\t<td>0.4</td>\n",
       "\t\t<td>1</td>\n",
       "\t</tr>\n",
       "\t<tr>\n",
       "\t\t<td>39</td>\n",
       "\t\t<td>1.0</td>\n",
       "\t\t<td>0.2</td>\n",
       "\t\t<td>1</td>\n",
       "\t</tr>\n",
       "\t<tr>\n",
       "\t\t<td>24</td>\n",
       "\t\t<td>1.9</td>\n",
       "\t\t<td>0.2</td>\n",
       "\t\t<td>1</td>\n",
       "\t</tr>\n",
       "\t<tr>\n",
       "\t\t<td>30</td>\n",
       "\t\t<td>5.1</td>\n",
       "\t\t<td>1.5</td>\n",
       "\t\t<td>3</td>\n",
       "\t</tr>\n",
       "\t<tr>\n",
       "\t\t<td>36</td>\n",
       "\t\t<td>5.8</td>\n",
       "\t\t<td>1.8</td>\n",
       "\t\t<td>3</td>\n",
       "\t</tr>\n",
       "\t<tr>\n",
       "\t\t<td>10</td>\n",
       "\t\t<td>5.1</td>\n",
       "\t\t<td>1.8</td>\n",
       "\t\t<td>3</td>\n",
       "\t</tr>\n",
       "\t<tr>\n",
       "\t\t<td>15</td>\n",
       "\t\t<td>4.8</td>\n",
       "\t\t<td>1.8</td>\n",
       "\t\t<td>3</td>\n",
       "\t</tr>\n",
       "</table></html>"
      ],
      "text/plain": [
       "         id  petal_length  petal_width\n",
       "species                               \n",
       "1        16           1.4          0.2\n",
       "1        21           1.5          0.2\n",
       "1        32           1.4          0.2\n",
       "1        18           1.5          0.4\n",
       "1        39           1.0          0.2\n",
       "1        24           1.9          0.2\n",
       "3        30           5.1          1.5\n",
       "3        36           5.8          1.8\n",
       "3        10           5.1          1.8\n",
       "3        15           4.8          1.8"
      ]
     },
     "metadata": {},
     "output_type": "display_data"
    },
    {
     "name": "stdout",
     "output_type": "stream",
     "text": [
      "                                                                                                 \r"
     ]
    },
    {
     "data": {
      "text/html": [
       "30 rows X 4 columns"
      ],
      "text/plain": [
       "<IPython.core.display.HTML object>"
      ]
     },
     "metadata": {},
     "output_type": "display_data"
    },
    {
     "name": "stdout",
     "output_type": "stream",
     "text": [
      "                                                                                                 \r"
     ]
    },
    {
     "data": {
      "text/html": [
       "\n",
       "Updated dataset after performing scaling on RFE selected features :"
      ],
      "text/plain": [
       "<IPython.core.display.HTML object>"
      ]
     },
     "metadata": {},
     "output_type": "display_data"
    },
    {
     "data": {
      "text/html": [
       "<style type=\"text/css\">\n",
       "\ttable {border:ridge 5px;}\n",
       "\ttable td {border:inset 1px;}\n",
       "\ttable tr#HeaderRow {background-color:grey; color:white;}</style>\n",
       "<html><table>\n",
       "\t<tr id=\"HeaderRow\">\n",
       "\t\t<th>species</th>\n",
       "\t\t<th>id</th>\n",
       "\t\t<th>r_petal_length</th>\n",
       "\t\t<th>r_petal_width</th>\n",
       "\t</tr>\n",
       "\t<tr>\n",
       "\t\t<td>1</td>\n",
       "\t\t<td>16</td>\n",
       "\t\t<td>0.05172413793103445</td>\n",
       "\t\t<td>0.04166666666666667</td>\n",
       "\t</tr>\n",
       "\t<tr>\n",
       "\t\t<td>1</td>\n",
       "\t\t<td>21</td>\n",
       "\t\t<td>0.06896551724137928</td>\n",
       "\t\t<td>0.04166666666666667</td>\n",
       "\t</tr>\n",
       "\t<tr>\n",
       "\t\t<td>1</td>\n",
       "\t\t<td>32</td>\n",
       "\t\t<td>0.05172413793103445</td>\n",
       "\t\t<td>0.04166666666666667</td>\n",
       "\t</tr>\n",
       "\t<tr>\n",
       "\t\t<td>1</td>\n",
       "\t\t<td>18</td>\n",
       "\t\t<td>0.06896551724137928</td>\n",
       "\t\t<td>0.12500000000000003</td>\n",
       "\t</tr>\n",
       "\t<tr>\n",
       "\t\t<td>1</td>\n",
       "\t\t<td>39</td>\n",
       "\t\t<td>-0.01724137931034484</td>\n",
       "\t\t<td>0.04166666666666667</td>\n",
       "\t</tr>\n",
       "\t<tr>\n",
       "\t\t<td>1</td>\n",
       "\t\t<td>24</td>\n",
       "\t\t<td>0.13793103448275856</td>\n",
       "\t\t<td>0.04166666666666667</td>\n",
       "\t</tr>\n",
       "\t<tr>\n",
       "\t\t<td>3</td>\n",
       "\t\t<td>30</td>\n",
       "\t\t<td>0.6896551724137929</td>\n",
       "\t\t<td>0.5833333333333334</td>\n",
       "\t</tr>\n",
       "\t<tr>\n",
       "\t\t<td>3</td>\n",
       "\t\t<td>36</td>\n",
       "\t\t<td>0.8103448275862066</td>\n",
       "\t\t<td>0.7083333333333334</td>\n",
       "\t</tr>\n",
       "\t<tr>\n",
       "\t\t<td>3</td>\n",
       "\t\t<td>10</td>\n",
       "\t\t<td>0.6896551724137929</td>\n",
       "\t\t<td>0.7083333333333334</td>\n",
       "\t</tr>\n",
       "\t<tr>\n",
       "\t\t<td>3</td>\n",
       "\t\t<td>15</td>\n",
       "\t\t<td>0.6379310344827585</td>\n",
       "\t\t<td>0.7083333333333334</td>\n",
       "\t</tr>\n",
       "</table></html>"
      ],
      "text/plain": [
       "   species  id  r_petal_length  r_petal_width\n",
       "0        1  16        0.051724       0.041667\n",
       "1        1  21        0.068966       0.041667\n",
       "2        1  32        0.051724       0.041667\n",
       "3        1  18        0.068966       0.125000\n",
       "4        1  39       -0.017241       0.041667\n",
       "5        1  24        0.137931       0.041667\n",
       "6        3  30        0.689655       0.583333\n",
       "7        3  36        0.810345       0.708333\n",
       "8        3  10        0.689655       0.708333\n",
       "9        3  15        0.637931       0.708333"
      ]
     },
     "metadata": {},
     "output_type": "display_data"
    },
    {
     "name": "stdout",
     "output_type": "stream",
     "text": [
      "                                                                                                 \r"
     ]
    },
    {
     "data": {
      "text/html": [
       "30 rows X 4 columns"
      ],
      "text/plain": [
       "<IPython.core.display.HTML object>"
      ]
     },
     "metadata": {},
     "output_type": "display_data"
    },
    {
     "name": "stdout",
     "output_type": "stream",
     "text": [
      "                                                                                                 \r"
     ]
    },
    {
     "data": {
      "text/html": [
       "\n",
       "Updated dataset after performing scaling for PCA feature selection :"
      ],
      "text/plain": [
       "<IPython.core.display.HTML object>"
      ]
     },
     "metadata": {},
     "output_type": "display_data"
    },
    {
     "data": {
      "text/html": [
       "<style type=\"text/css\">\n",
       "\ttable {border:ridge 5px;}\n",
       "\ttable td {border:inset 1px;}\n",
       "\ttable tr#HeaderRow {background-color:grey; color:white;}</style>\n",
       "<html><table>\n",
       "\t<tr id=\"HeaderRow\">\n",
       "\t\t<th>species</th>\n",
       "\t\t<th>id</th>\n",
       "\t\t<th>sepal_length</th>\n",
       "\t\t<th>sepal_width</th>\n",
       "\t\t<th>petal_length</th>\n",
       "\t\t<th>petal_width</th>\n",
       "\t</tr>\n",
       "\t<tr>\n",
       "\t\t<td>1</td>\n",
       "\t\t<td>16</td>\n",
       "\t\t<td>0.2058823529411765</td>\n",
       "\t\t<td>0.823529411764706</td>\n",
       "\t\t<td>0.05172413793103445</td>\n",
       "\t\t<td>0.04166666666666667</td>\n",
       "\t</tr>\n",
       "\t<tr>\n",
       "\t\t<td>1</td>\n",
       "\t\t<td>21</td>\n",
       "\t\t<td>0.2941176470588235</td>\n",
       "\t\t<td>0.8823529411764707</td>\n",
       "\t\t<td>0.06896551724137928</td>\n",
       "\t\t<td>0.04166666666666667</td>\n",
       "\t</tr>\n",
       "\t<tr>\n",
       "\t\t<td>1</td>\n",
       "\t\t<td>32</td>\n",
       "\t\t<td>0.17647058823529427</td>\n",
       "\t\t<td>0.47058823529411764</td>\n",
       "\t\t<td>0.05172413793103445</td>\n",
       "\t\t<td>0.04166666666666667</td>\n",
       "\t</tr>\n",
       "\t<tr>\n",
       "\t\t<td>1</td>\n",
       "\t\t<td>18</td>\n",
       "\t\t<td>0.23529411764705874</td>\n",
       "\t\t<td>0.8823529411764707</td>\n",
       "\t\t<td>0.06896551724137928</td>\n",
       "\t\t<td>0.12500000000000003</td>\n",
       "\t</tr>\n",
       "\t<tr>\n",
       "\t\t<td>1</td>\n",
       "\t\t<td>39</td>\n",
       "\t\t<td>0.088235294117647</td>\n",
       "\t\t<td>0.823529411764706</td>\n",
       "\t\t<td>-0.01724137931034484</td>\n",
       "\t\t<td>0.04166666666666667</td>\n",
       "\t</tr>\n",
       "\t<tr>\n",
       "\t\t<td>1</td>\n",
       "\t\t<td>24</td>\n",
       "\t\t<td>0.14705882352941174</td>\n",
       "\t\t<td>0.7058823529411764</td>\n",
       "\t\t<td>0.13793103448275856</td>\n",
       "\t\t<td>0.04166666666666667</td>\n",
       "\t</tr>\n",
       "\t<tr>\n",
       "\t\t<td>3</td>\n",
       "\t\t<td>30</td>\n",
       "\t\t<td>0.588235294117647</td>\n",
       "\t\t<td>0.3529411764705881</td>\n",
       "\t\t<td>0.6896551724137929</td>\n",
       "\t\t<td>0.5833333333333334</td>\n",
       "\t</tr>\n",
       "\t<tr>\n",
       "\t\t<td>3</td>\n",
       "\t\t<td>36</td>\n",
       "\t\t<td>0.7058823529411765</td>\n",
       "\t\t<td>0.17647058823529405</td>\n",
       "\t\t<td>0.8103448275862066</td>\n",
       "\t\t<td>0.7083333333333334</td>\n",
       "\t</tr>\n",
       "\t<tr>\n",
       "\t\t<td>3</td>\n",
       "\t\t<td>10</td>\n",
       "\t\t<td>0.47058823529411775</td>\n",
       "\t\t<td>0.47058823529411764</td>\n",
       "\t\t<td>0.6896551724137929</td>\n",
       "\t\t<td>0.7083333333333334</td>\n",
       "\t</tr>\n",
       "\t<tr>\n",
       "\t\t<td>3</td>\n",
       "\t\t<td>15</td>\n",
       "\t\t<td>0.5</td>\n",
       "\t\t<td>0.47058823529411764</td>\n",
       "\t\t<td>0.6379310344827585</td>\n",
       "\t\t<td>0.7083333333333334</td>\n",
       "\t</tr>\n",
       "</table></html>"
      ],
      "text/plain": [
       "   species  id  sepal_length  sepal_width  petal_length  petal_width\n",
       "0        1  16      0.205882     0.823529      0.051724     0.041667\n",
       "1        1  21      0.294118     0.882353      0.068966     0.041667\n",
       "2        1  32      0.176471     0.470588      0.051724     0.041667\n",
       "3        1  18      0.235294     0.882353      0.068966     0.125000\n",
       "4        1  39      0.088235     0.823529     -0.017241     0.041667\n",
       "5        1  24      0.147059     0.705882      0.137931     0.041667\n",
       "6        3  30      0.588235     0.352941      0.689655     0.583333\n",
       "7        3  36      0.705882     0.176471      0.810345     0.708333\n",
       "8        3  10      0.470588     0.470588      0.689655     0.708333\n",
       "9        3  15      0.500000     0.470588      0.637931     0.708333"
      ]
     },
     "metadata": {},
     "output_type": "display_data"
    },
    {
     "name": "stdout",
     "output_type": "stream",
     "text": [
      "                                                                                                 \r"
     ]
    },
    {
     "data": {
      "text/html": [
       "30 rows X 6 columns"
      ],
      "text/plain": [
       "<IPython.core.display.HTML object>"
      ]
     },
     "metadata": {},
     "output_type": "display_data"
    },
    {
     "name": "stdout",
     "output_type": "stream",
     "text": [
      "                                                                                                 \r"
     ]
    },
    {
     "data": {
      "text/html": [
       "\n",
       "Updated dataset after performing PCA feature selection :"
      ],
      "text/plain": [
       "<IPython.core.display.HTML object>"
      ]
     },
     "metadata": {},
     "output_type": "display_data"
    },
    {
     "data": {
      "text/html": [
       "<div>\n",
       "<style scoped>\n",
       "    .dataframe tbody tr th:only-of-type {\n",
       "        vertical-align: middle;\n",
       "    }\n",
       "\n",
       "    .dataframe tbody tr th {\n",
       "        vertical-align: top;\n",
       "    }\n",
       "\n",
       "    .dataframe thead th {\n",
       "        text-align: right;\n",
       "    }\n",
       "</style>\n",
       "<table border=\"1\" class=\"dataframe\">\n",
       "  <thead>\n",
       "    <tr style=\"text-align: right;\">\n",
       "      <th></th>\n",
       "      <th>id</th>\n",
       "      <th>col_0</th>\n",
       "      <th>col_1</th>\n",
       "      <th>species</th>\n",
       "    </tr>\n",
       "  </thead>\n",
       "  <tbody>\n",
       "    <tr>\n",
       "      <th>0</th>\n",
       "      <td>20</td>\n",
       "      <td>-0.750418</td>\n",
       "      <td>0.186651</td>\n",
       "      <td>1</td>\n",
       "    </tr>\n",
       "    <tr>\n",
       "      <th>1</th>\n",
       "      <td>30</td>\n",
       "      <td>0.273375</td>\n",
       "      <td>-0.107115</td>\n",
       "      <td>3</td>\n",
       "    </tr>\n",
       "    <tr>\n",
       "      <th>2</th>\n",
       "      <td>26</td>\n",
       "      <td>-0.661736</td>\n",
       "      <td>-0.088051</td>\n",
       "      <td>1</td>\n",
       "    </tr>\n",
       "    <tr>\n",
       "      <th>3</th>\n",
       "      <td>36</td>\n",
       "      <td>0.509870</td>\n",
       "      <td>-0.230679</td>\n",
       "      <td>3</td>\n",
       "    </tr>\n",
       "    <tr>\n",
       "      <th>4</th>\n",
       "      <td>16</td>\n",
       "      <td>-0.710946</td>\n",
       "      <td>0.198741</td>\n",
       "      <td>1</td>\n",
       "    </tr>\n",
       "    <tr>\n",
       "      <th>5</th>\n",
       "      <td>10</td>\n",
       "      <td>0.276927</td>\n",
       "      <td>-0.029712</td>\n",
       "      <td>3</td>\n",
       "    </tr>\n",
       "    <tr>\n",
       "      <th>6</th>\n",
       "      <td>11</td>\n",
       "      <td>-0.688546</td>\n",
       "      <td>-0.053180</td>\n",
       "      <td>1</td>\n",
       "    </tr>\n",
       "    <tr>\n",
       "      <th>7</th>\n",
       "      <td>15</td>\n",
       "      <td>0.258919</td>\n",
       "      <td>-0.018103</td>\n",
       "      <td>3</td>\n",
       "    </tr>\n",
       "    <tr>\n",
       "      <th>8</th>\n",
       "      <td>21</td>\n",
       "      <td>-0.670612</td>\n",
       "      <td>0.283177</td>\n",
       "      <td>1</td>\n",
       "    </tr>\n",
       "    <tr>\n",
       "      <th>9</th>\n",
       "      <td>31</td>\n",
       "      <td>0.650362</td>\n",
       "      <td>0.607654</td>\n",
       "      <td>3</td>\n",
       "    </tr>\n",
       "  </tbody>\n",
       "</table>\n",
       "</div>"
      ],
      "text/plain": [
       "   id     col_0     col_1  species\n",
       "0  20 -0.750418  0.186651        1\n",
       "1  30  0.273375 -0.107115        3\n",
       "2  26 -0.661736 -0.088051        1\n",
       "3  36  0.509870 -0.230679        3\n",
       "4  16 -0.710946  0.198741        1\n",
       "5  10  0.276927 -0.029712        3\n",
       "6  11 -0.688546 -0.053180        1\n",
       "7  15  0.258919 -0.018103        3\n",
       "8  21 -0.670612  0.283177        1\n",
       "9  31  0.650362  0.607654        3"
      ]
     },
     "metadata": {},
     "output_type": "display_data"
    },
    {
     "name": "stdout",
     "output_type": "stream",
     "text": [
      "                                                                                                 \r"
     ]
    },
    {
     "data": {
      "text/html": [
       "10 rows X 4 columns"
      ],
      "text/plain": [
       "<IPython.core.display.HTML object>"
      ]
     },
     "metadata": {},
     "output_type": "display_data"
    },
    {
     "name": "stdout",
     "output_type": "stream",
     "text": [
      "Data Transformation completed.⫿⫿⫿⫿⫿⫿⫿⫿⫿⫿⫿⫿⫿⫿⫿⫿⫿⫿⫿⫿⫿⫿⫿⫿⫿⫿⫿⫿⫿⫿⫿⫿⫿⫿⫿⫿⫿⫿⫿⫿⫿⫿｜ 100% - 10/10           \n",
      "\n",
      "Following model is being used for generating prediction :\n",
      "Model ID : XGBOOST_2 \n",
      "Feature Selection Method : pca\n",
      "\n",
      "Prediction : \n",
      "   id  Prediction  Confidence_Lower  Confidence_upper  species\n",
      "0  26           1               1.0               1.0        1\n",
      "1  16           1               1.0               1.0        1\n",
      "2  10           2               1.0               1.0        3\n",
      "3  11           1               1.0               1.0        1\n",
      "4  21           1               1.0               1.0        1\n",
      "5  31           3               1.0               1.0        3\n",
      "6  15           2               1.0               1.0        3\n",
      "7  36           3               1.0               1.0        3\n",
      "8  30           2               1.0               1.0        3\n",
      "9  20           1               1.0               1.0        1\n",
      "\n",
      "Performance Metrics : \n",
      "       Prediction  Mapping  CLASS_1  CLASS_2  CLASS_3  Precision    Recall        F1  Support\n",
      "SeqNum                                                                                       \n",
      "0               1  CLASS_1       11        0        0   1.000000  1.000000  1.000000       11\n",
      "2               3  CLASS_3        0        0        6   1.000000  0.666667  0.800000        9\n",
      "1               2  CLASS_2        0       10        3   0.769231  1.000000  0.869565       10\n",
      "\n",
      "Confusion Matrix : \n"
     ]
    },
    {
     "data": {
      "text/plain": [
       "array([[11,  0,  0],\n",
       "       [ 0, 10,  0],\n",
       "       [ 0,  3,  6]], dtype=int64)"
      ]
     },
     "metadata": {},
     "output_type": "display_data"
    }
   ],
   "source": [
    "# Generating prediction and metrics on test data\n",
    "prediction = aml.predict(iris_test)"
   ]
  },
  {
   "cell_type": "code",
   "execution_count": 22,
   "id": "cc4f6a78-1cdf-4938-a9f1-22035d8404ca",
   "metadata": {},
   "outputs": [
    {
     "data": {
      "text/html": [
       "<style type=\"text/css\">\n",
       "\ttable {border:ridge 5px;}\n",
       "\ttable td {border:inset 1px;}\n",
       "\ttable tr#HeaderRow {background-color:grey; color:white;}</style>\n",
       "<html><table>\n",
       "\t<tr id=\"HeaderRow\">\n",
       "\t\t<th>id</th>\n",
       "\t\t<th>Prediction</th>\n",
       "\t\t<th>Confidence_Lower</th>\n",
       "\t\t<th>Confidence_upper</th>\n",
       "\t\t<th>species</th>\n",
       "\t</tr>\n",
       "\t<tr>\n",
       "\t\t<td>10</td>\n",
       "\t\t<td>2</td>\n",
       "\t\t<td>1.0</td>\n",
       "\t\t<td>1.0</td>\n",
       "\t\t<td>3</td>\n",
       "\t</tr>\n",
       "\t<tr>\n",
       "\t\t<td>12</td>\n",
       "\t\t<td>2</td>\n",
       "\t\t<td>1.0</td>\n",
       "\t\t<td>1.0</td>\n",
       "\t\t<td>2</td>\n",
       "\t</tr>\n",
       "\t<tr>\n",
       "\t\t<td>13</td>\n",
       "\t\t<td>2</td>\n",
       "\t\t<td>1.0</td>\n",
       "\t\t<td>1.0</td>\n",
       "\t\t<td>2</td>\n",
       "\t</tr>\n",
       "\t<tr>\n",
       "\t\t<td>14</td>\n",
       "\t\t<td>2</td>\n",
       "\t\t<td>1.0</td>\n",
       "\t\t<td>1.0</td>\n",
       "\t\t<td>2</td>\n",
       "\t</tr>\n",
       "\t<tr>\n",
       "\t\t<td>16</td>\n",
       "\t\t<td>1</td>\n",
       "\t\t<td>1.0</td>\n",
       "\t\t<td>1.0</td>\n",
       "\t\t<td>1</td>\n",
       "\t</tr>\n",
       "\t<tr>\n",
       "\t\t<td>17</td>\n",
       "\t\t<td>2</td>\n",
       "\t\t<td>1.0</td>\n",
       "\t\t<td>1.0</td>\n",
       "\t\t<td>2</td>\n",
       "\t</tr>\n",
       "\t<tr>\n",
       "\t\t<td>15</td>\n",
       "\t\t<td>2</td>\n",
       "\t\t<td>1.0</td>\n",
       "\t\t<td>1.0</td>\n",
       "\t\t<td>3</td>\n",
       "\t</tr>\n",
       "\t<tr>\n",
       "\t\t<td>11</td>\n",
       "\t\t<td>1</td>\n",
       "\t\t<td>1.0</td>\n",
       "\t\t<td>1.0</td>\n",
       "\t\t<td>1</td>\n",
       "\t</tr>\n",
       "\t<tr>\n",
       "\t\t<td>9</td>\n",
       "\t\t<td>1</td>\n",
       "\t\t<td>1.0</td>\n",
       "\t\t<td>1.0</td>\n",
       "\t\t<td>1</td>\n",
       "\t</tr>\n",
       "\t<tr>\n",
       "\t\t<td>8</td>\n",
       "\t\t<td>2</td>\n",
       "\t\t<td>1.0</td>\n",
       "\t\t<td>1.0</td>\n",
       "\t\t<td>2</td>\n",
       "\t</tr>\n",
       "</table></html>"
      ],
      "text/plain": [
       "   id  Prediction  Confidence_Lower  Confidence_upper  species\n",
       "0  10           2               1.0               1.0        3\n",
       "1  12           2               1.0               1.0        2\n",
       "2  13           2               1.0               1.0        2\n",
       "3  14           2               1.0               1.0        2\n",
       "4  16           1               1.0               1.0        1\n",
       "5  17           2               1.0               1.0        2\n",
       "6  15           2               1.0               1.0        3\n",
       "7  11           1               1.0               1.0        1\n",
       "8   9           1               1.0               1.0        1\n",
       "9   8           2               1.0               1.0        2"
      ]
     },
     "execution_count": 22,
     "metadata": {},
     "output_type": "execute_result"
    }
   ],
   "source": [
    "# Printing prediction\n",
    "prediction.head()"
   ]
  },
  {
   "cell_type": "code",
   "execution_count": 24,
   "id": "7682877b-5543-4294-bd70-03cfd0e34ace",
   "metadata": {},
   "outputs": [
    {
     "name": "stdout",
     "output_type": "stream",
     "text": [
      "Data Transformation started ...\n",
      "                                                                                                \r"
     ]
    },
    {
     "data": {
      "text/html": [
       "Performing transformation carried out in feature engineering phase ..."
      ],
      "text/plain": [
       "<IPython.core.display.HTML object>"
      ]
     },
     "metadata": {},
     "output_type": "display_data"
    },
    {
     "name": "stdout",
     "output_type": "stream",
     "text": [
      "                                                                                                \r"
     ]
    },
    {
     "data": {
      "text/html": [
       "\n",
       "Updated dataset after dropping irrelevent columns :"
      ],
      "text/plain": [
       "<IPython.core.display.HTML object>"
      ]
     },
     "metadata": {},
     "output_type": "display_data"
    },
    {
     "data": {
      "text/html": [
       "<style type=\"text/css\">\n",
       "\ttable {border:ridge 5px;}\n",
       "\ttable td {border:inset 1px;}\n",
       "\ttable tr#HeaderRow {background-color:grey; color:white;}</style>\n",
       "<html><table>\n",
       "\t<tr id=\"HeaderRow\">\n",
       "\t\t<th>sepal_length</th>\n",
       "\t\t<th>sepal_width</th>\n",
       "\t\t<th>petal_length</th>\n",
       "\t\t<th>petal_width</th>\n",
       "\t\t<th>species</th>\n",
       "\t</tr>\n",
       "\t<tr>\n",
       "\t\t<td>5.8</td>\n",
       "\t\t<td>2.6</td>\n",
       "\t\t<td>4.0</td>\n",
       "\t\t<td>1.2</td>\n",
       "\t\t<td>2</td>\n",
       "\t</tr>\n",
       "\t<tr>\n",
       "\t\t<td>4.4</td>\n",
       "\t\t<td>2.9</td>\n",
       "\t\t<td>1.4</td>\n",
       "\t\t<td>0.2</td>\n",
       "\t\t<td>1</td>\n",
       "\t</tr>\n",
       "\t<tr>\n",
       "\t\t<td>5.8</td>\n",
       "\t\t<td>2.7</td>\n",
       "\t\t<td>4.1</td>\n",
       "\t\t<td>1.0</td>\n",
       "\t\t<td>2</td>\n",
       "\t</tr>\n",
       "\t<tr>\n",
       "\t\t<td>5.1</td>\n",
       "\t\t<td>2.5</td>\n",
       "\t\t<td>3.0</td>\n",
       "\t\t<td>1.1</td>\n",
       "\t\t<td>2</td>\n",
       "\t</tr>\n",
       "\t<tr>\n",
       "\t\t<td>5.9</td>\n",
       "\t\t<td>3.0</td>\n",
       "\t\t<td>5.1</td>\n",
       "\t\t<td>1.8</td>\n",
       "\t\t<td>3</td>\n",
       "\t</tr>\n",
       "\t<tr>\n",
       "\t\t<td>5.1</td>\n",
       "\t\t<td>3.7</td>\n",
       "\t\t<td>1.5</td>\n",
       "\t\t<td>0.4</td>\n",
       "\t\t<td>1</td>\n",
       "\t</tr>\n",
       "\t<tr>\n",
       "\t\t<td>4.7</td>\n",
       "\t\t<td>3.2</td>\n",
       "\t\t<td>1.6</td>\n",
       "\t\t<td>0.2</td>\n",
       "\t\t<td>1</td>\n",
       "\t</tr>\n",
       "\t<tr>\n",
       "\t\t<td>5.6</td>\n",
       "\t\t<td>2.5</td>\n",
       "\t\t<td>3.9</td>\n",
       "\t\t<td>1.1</td>\n",
       "\t\t<td>2</td>\n",
       "\t</tr>\n",
       "\t<tr>\n",
       "\t\t<td>6.0</td>\n",
       "\t\t<td>3.0</td>\n",
       "\t\t<td>4.8</td>\n",
       "\t\t<td>1.8</td>\n",
       "\t\t<td>3</td>\n",
       "\t</tr>\n",
       "\t<tr>\n",
       "\t\t<td>6.3</td>\n",
       "\t\t<td>2.9</td>\n",
       "\t\t<td>5.6</td>\n",
       "\t\t<td>1.8</td>\n",
       "\t\t<td>3</td>\n",
       "\t</tr>\n",
       "</table></html>"
      ],
      "text/plain": [
       "   sepal_length  sepal_width  petal_length  petal_width  species\n",
       "0           5.8          2.6           4.0          1.2        2\n",
       "1           4.4          2.9           1.4          0.2        1\n",
       "2           5.8          2.7           4.1          1.0        2\n",
       "3           5.1          2.5           3.0          1.1        2\n",
       "4           5.9          3.0           5.1          1.8        3\n",
       "5           5.1          3.7           1.5          0.4        1\n",
       "6           4.7          3.2           1.6          0.2        1\n",
       "7           5.6          2.5           3.9          1.1        2\n",
       "8           6.0          3.0           4.8          1.8        3\n",
       "9           6.3          2.9           5.6          1.8        3"
      ]
     },
     "metadata": {},
     "output_type": "display_data"
    },
    {
     "name": "stdout",
     "output_type": "stream",
     "text": [
      "                                                                                                \r"
     ]
    },
    {
     "data": {
      "text/html": [
       "30 rows X 5 columns"
      ],
      "text/plain": [
       "<IPython.core.display.HTML object>"
      ]
     },
     "metadata": {},
     "output_type": "display_data"
    },
    {
     "name": "stdout",
     "output_type": "stream",
     "text": [
      "                                                                                                 \r"
     ]
    },
    {
     "data": {
      "text/html": [
       "\n",
       "Updated dataset after performing target column transformation :"
      ],
      "text/plain": [
       "<IPython.core.display.HTML object>"
      ]
     },
     "metadata": {},
     "output_type": "display_data"
    },
    {
     "data": {
      "text/html": [
       "<style type=\"text/css\">\n",
       "\ttable {border:ridge 5px;}\n",
       "\ttable td {border:inset 1px;}\n",
       "\ttable tr#HeaderRow {background-color:grey; color:white;}</style>\n",
       "<html><table>\n",
       "\t<tr id=\"HeaderRow\">\n",
       "\t\t<th>sepal_width</th>\n",
       "\t\t<th>petal_length</th>\n",
       "\t\t<th>id</th>\n",
       "\t\t<th>petal_width</th>\n",
       "\t\t<th>sepal_length</th>\n",
       "\t\t<th>species</th>\n",
       "\t</tr>\n",
       "\t<tr>\n",
       "\t\t<td>2.9</td>\n",
       "\t\t<td>1.4</td>\n",
       "\t\t<td>9</td>\n",
       "\t\t<td>0.2</td>\n",
       "\t\t<td>4.4</td>\n",
       "\t\t<td>1</td>\n",
       "\t</tr>\n",
       "\t<tr>\n",
       "\t\t<td>3.2</td>\n",
       "\t\t<td>1.6</td>\n",
       "\t\t<td>11</td>\n",
       "\t\t<td>0.2</td>\n",
       "\t\t<td>4.7</td>\n",
       "\t\t<td>1</td>\n",
       "\t</tr>\n",
       "\t<tr>\n",
       "\t\t<td>2.5</td>\n",
       "\t\t<td>3.9</td>\n",
       "\t\t<td>19</td>\n",
       "\t\t<td>1.1</td>\n",
       "\t\t<td>5.6</td>\n",
       "\t\t<td>2</td>\n",
       "\t</tr>\n",
       "\t<tr>\n",
       "\t\t<td>3.0</td>\n",
       "\t\t<td>5.1</td>\n",
       "\t\t<td>10</td>\n",
       "\t\t<td>1.8</td>\n",
       "\t\t<td>5.9</td>\n",
       "\t\t<td>3</td>\n",
       "\t</tr>\n",
       "\t<tr>\n",
       "\t\t<td>2.5</td>\n",
       "\t\t<td>3.0</td>\n",
       "\t\t<td>13</td>\n",
       "\t\t<td>1.1</td>\n",
       "\t\t<td>5.1</td>\n",
       "\t\t<td>2</td>\n",
       "\t</tr>\n",
       "\t<tr>\n",
       "\t\t<td>3.7</td>\n",
       "\t\t<td>1.5</td>\n",
       "\t\t<td>21</td>\n",
       "\t\t<td>0.2</td>\n",
       "\t\t<td>5.3</td>\n",
       "\t\t<td>1</td>\n",
       "\t</tr>\n",
       "\t<tr>\n",
       "\t\t<td>3.0</td>\n",
       "\t\t<td>4.8</td>\n",
       "\t\t<td>15</td>\n",
       "\t\t<td>1.8</td>\n",
       "\t\t<td>6.0</td>\n",
       "\t\t<td>3</td>\n",
       "\t</tr>\n",
       "\t<tr>\n",
       "\t\t<td>2.9</td>\n",
       "\t\t<td>5.6</td>\n",
       "\t\t<td>23</td>\n",
       "\t\t<td>1.8</td>\n",
       "\t\t<td>6.3</td>\n",
       "\t\t<td>3</td>\n",
       "\t</tr>\n",
       "\t<tr>\n",
       "\t\t<td>2.6</td>\n",
       "\t\t<td>3.5</td>\n",
       "\t\t<td>12</td>\n",
       "\t\t<td>1.0</td>\n",
       "\t\t<td>5.7</td>\n",
       "\t\t<td>2</td>\n",
       "\t</tr>\n",
       "\t<tr>\n",
       "\t\t<td>3.6</td>\n",
       "\t\t<td>1.4</td>\n",
       "\t\t<td>20</td>\n",
       "\t\t<td>0.1</td>\n",
       "\t\t<td>4.9</td>\n",
       "\t\t<td>1</td>\n",
       "\t</tr>\n",
       "</table></html>"
      ],
      "text/plain": [
       "   sepal_width  petal_length  id  petal_width  sepal_length  species\n",
       "0          2.9           1.4   9          0.2           4.4        1\n",
       "1          3.2           1.6  11          0.2           4.7        1\n",
       "2          2.5           3.9  19          1.1           5.6        2\n",
       "3          3.0           5.1  10          1.8           5.9        3\n",
       "4          2.5           3.0  13          1.1           5.1        2\n",
       "5          3.7           1.5  21          0.2           5.3        1\n",
       "6          3.0           4.8  15          1.8           6.0        3\n",
       "7          2.9           5.6  23          1.8           6.3        3\n",
       "8          2.6           3.5  12          1.0           5.7        2\n",
       "9          3.6           1.4  20          0.1           4.9        1"
      ]
     },
     "metadata": {},
     "output_type": "display_data"
    },
    {
     "name": "stdout",
     "output_type": "stream",
     "text": [
      "                                                                                                 \r"
     ]
    },
    {
     "data": {
      "text/html": [
       "30 rows X 6 columns"
      ],
      "text/plain": [
       "<IPython.core.display.HTML object>"
      ]
     },
     "metadata": {},
     "output_type": "display_data"
    },
    {
     "name": "stdout",
     "output_type": "stream",
     "text": [
      "                                                                                                 \r"
     ]
    },
    {
     "data": {
      "text/html": [
       "Performing transformation carried out in data preparation phase ..."
      ],
      "text/plain": [
       "<IPython.core.display.HTML object>"
      ]
     },
     "metadata": {},
     "output_type": "display_data"
    },
    {
     "name": "stdout",
     "output_type": "stream",
     "text": [
      "result data stored in table '\"ALICE\".\"ml__td_sqlmr_persist_out__1719261366915021\"'⫾⫾⫾｜ 60% - 6/10\n",
      "                                                                                                 \r"
     ]
    },
    {
     "data": {
      "text/html": [
       "\n",
       "Updated dataset after performing Lasso feature selection:"
      ],
      "text/plain": [
       "<IPython.core.display.HTML object>"
      ]
     },
     "metadata": {},
     "output_type": "display_data"
    },
    {
     "data": {
      "text/html": [
       "<style type=\"text/css\">\n",
       "\ttable {border:ridge 5px;}\n",
       "\ttable td {border:inset 1px;}\n",
       "\ttable tr#HeaderRow {background-color:grey; color:white;}</style>\n",
       "<html><table>\n",
       "\t<tr id=\"HeaderRow\">\n",
       "\t\t<th>id</th>\n",
       "\t\t<th>petal_width</th>\n",
       "\t\t<th>sepal_width</th>\n",
       "\t\t<th>sepal_length</th>\n",
       "\t\t<th>petal_length</th>\n",
       "\t\t<th>species</th>\n",
       "\t</tr>\n",
       "\t<tr>\n",
       "\t\t<td>11</td>\n",
       "\t\t<td>0.2</td>\n",
       "\t\t<td>3.2</td>\n",
       "\t\t<td>4.7</td>\n",
       "\t\t<td>1.6</td>\n",
       "\t\t<td>1</td>\n",
       "\t</tr>\n",
       "\t<tr>\n",
       "\t\t<td>9</td>\n",
       "\t\t<td>0.2</td>\n",
       "\t\t<td>2.9</td>\n",
       "\t\t<td>4.4</td>\n",
       "\t\t<td>1.4</td>\n",
       "\t\t<td>1</td>\n",
       "\t</tr>\n",
       "\t<tr>\n",
       "\t\t<td>39</td>\n",
       "\t\t<td>0.2</td>\n",
       "\t\t<td>3.6</td>\n",
       "\t\t<td>4.6</td>\n",
       "\t\t<td>1.0</td>\n",
       "\t\t<td>1</td>\n",
       "\t</tr>\n",
       "\t<tr>\n",
       "\t\t<td>20</td>\n",
       "\t\t<td>0.1</td>\n",
       "\t\t<td>3.6</td>\n",
       "\t\t<td>4.9</td>\n",
       "\t\t<td>1.4</td>\n",
       "\t\t<td>1</td>\n",
       "\t</tr>\n",
       "\t<tr>\n",
       "\t\t<td>28</td>\n",
       "\t\t<td>0.2</td>\n",
       "\t\t<td>3.4</td>\n",
       "\t\t<td>4.8</td>\n",
       "\t\t<td>1.6</td>\n",
       "\t\t<td>1</td>\n",
       "\t</tr>\n",
       "\t<tr>\n",
       "\t\t<td>21</td>\n",
       "\t\t<td>0.2</td>\n",
       "\t\t<td>3.7</td>\n",
       "\t\t<td>5.3</td>\n",
       "\t\t<td>1.5</td>\n",
       "\t\t<td>1</td>\n",
       "\t</tr>\n",
       "\t<tr>\n",
       "\t\t<td>30</td>\n",
       "\t\t<td>1.5</td>\n",
       "\t\t<td>2.8</td>\n",
       "\t\t<td>6.3</td>\n",
       "\t\t<td>5.1</td>\n",
       "\t\t<td>3</td>\n",
       "\t</tr>\n",
       "\t<tr>\n",
       "\t\t<td>27</td>\n",
       "\t\t<td>2.3</td>\n",
       "\t\t<td>3.2</td>\n",
       "\t\t<td>6.8</td>\n",
       "\t\t<td>5.9</td>\n",
       "\t\t<td>3</td>\n",
       "\t</tr>\n",
       "\t<tr>\n",
       "\t\t<td>36</td>\n",
       "\t\t<td>1.8</td>\n",
       "\t\t<td>2.5</td>\n",
       "\t\t<td>6.7</td>\n",
       "\t\t<td>5.8</td>\n",
       "\t\t<td>3</td>\n",
       "\t</tr>\n",
       "\t<tr>\n",
       "\t\t<td>15</td>\n",
       "\t\t<td>1.8</td>\n",
       "\t\t<td>3.0</td>\n",
       "\t\t<td>6.0</td>\n",
       "\t\t<td>4.8</td>\n",
       "\t\t<td>3</td>\n",
       "\t</tr>\n",
       "</table></html>"
      ],
      "text/plain": [
       "         id  petal_width  sepal_width  sepal_length  petal_length\n",
       "species                                                          \n",
       "1        11          0.2          3.2           4.7           1.6\n",
       "1         9          0.2          2.9           4.4           1.4\n",
       "1        39          0.2          3.6           4.6           1.0\n",
       "1        20          0.1          3.6           4.9           1.4\n",
       "1        28          0.2          3.4           4.8           1.6\n",
       "1        21          0.2          3.7           5.3           1.5\n",
       "3        30          1.5          2.8           6.3           5.1\n",
       "3        27          2.3          3.2           6.8           5.9\n",
       "3        36          1.8          2.5           6.7           5.8\n",
       "3        15          1.8          3.0           6.0           4.8"
      ]
     },
     "metadata": {},
     "output_type": "display_data"
    },
    {
     "name": "stdout",
     "output_type": "stream",
     "text": [
      "                                                                                                 \r"
     ]
    },
    {
     "data": {
      "text/html": [
       "30 rows X 6 columns"
      ],
      "text/plain": [
       "<IPython.core.display.HTML object>"
      ]
     },
     "metadata": {},
     "output_type": "display_data"
    },
    {
     "name": "stdout",
     "output_type": "stream",
     "text": [
      "                                                                                                 \r"
     ]
    },
    {
     "data": {
      "text/html": [
       "\n",
       "Updated dataset after performing scaling on Lasso selected features :"
      ],
      "text/plain": [
       "<IPython.core.display.HTML object>"
      ]
     },
     "metadata": {},
     "output_type": "display_data"
    },
    {
     "data": {
      "text/html": [
       "<style type=\"text/css\">\n",
       "\ttable {border:ridge 5px;}\n",
       "\ttable td {border:inset 1px;}\n",
       "\ttable tr#HeaderRow {background-color:grey; color:white;}</style>\n",
       "<html><table>\n",
       "\t<tr id=\"HeaderRow\">\n",
       "\t\t<th>species</th>\n",
       "\t\t<th>id</th>\n",
       "\t\t<th>petal_width</th>\n",
       "\t\t<th>sepal_width</th>\n",
       "\t\t<th>sepal_length</th>\n",
       "\t\t<th>petal_length</th>\n",
       "\t</tr>\n",
       "\t<tr>\n",
       "\t\t<td>1</td>\n",
       "\t\t<td>11</td>\n",
       "\t\t<td>0.04166666666666667</td>\n",
       "\t\t<td>0.5882352941176472</td>\n",
       "\t\t<td>0.11764705882352951</td>\n",
       "\t\t<td>0.08620689655172413</td>\n",
       "\t</tr>\n",
       "\t<tr>\n",
       "\t\t<td>1</td>\n",
       "\t\t<td>9</td>\n",
       "\t\t<td>0.04166666666666667</td>\n",
       "\t\t<td>0.41176470588235287</td>\n",
       "\t\t<td>0.029411764705882505</td>\n",
       "\t\t<td>0.05172413793103445</td>\n",
       "\t</tr>\n",
       "\t<tr>\n",
       "\t\t<td>1</td>\n",
       "\t\t<td>39</td>\n",
       "\t\t<td>0.04166666666666667</td>\n",
       "\t\t<td>0.823529411764706</td>\n",
       "\t\t<td>0.088235294117647</td>\n",
       "\t\t<td>-0.01724137931034484</td>\n",
       "\t</tr>\n",
       "\t<tr>\n",
       "\t\t<td>1</td>\n",
       "\t\t<td>20</td>\n",
       "\t\t<td>0.0</td>\n",
       "\t\t<td>0.823529411764706</td>\n",
       "\t\t<td>0.17647058823529427</td>\n",
       "\t\t<td>0.05172413793103445</td>\n",
       "\t</tr>\n",
       "\t<tr>\n",
       "\t\t<td>1</td>\n",
       "\t\t<td>28</td>\n",
       "\t\t<td>0.04166666666666667</td>\n",
       "\t\t<td>0.7058823529411764</td>\n",
       "\t\t<td>0.14705882352941174</td>\n",
       "\t\t<td>0.08620689655172413</td>\n",
       "\t</tr>\n",
       "\t<tr>\n",
       "\t\t<td>1</td>\n",
       "\t\t<td>21</td>\n",
       "\t\t<td>0.04166666666666667</td>\n",
       "\t\t<td>0.8823529411764707</td>\n",
       "\t\t<td>0.2941176470588235</td>\n",
       "\t\t<td>0.06896551724137928</td>\n",
       "\t</tr>\n",
       "\t<tr>\n",
       "\t\t<td>3</td>\n",
       "\t\t<td>30</td>\n",
       "\t\t<td>0.5833333333333334</td>\n",
       "\t\t<td>0.3529411764705881</td>\n",
       "\t\t<td>0.588235294117647</td>\n",
       "\t\t<td>0.6896551724137929</td>\n",
       "\t</tr>\n",
       "\t<tr>\n",
       "\t\t<td>3</td>\n",
       "\t\t<td>27</td>\n",
       "\t\t<td>0.9166666666666666</td>\n",
       "\t\t<td>0.5882352941176472</td>\n",
       "\t\t<td>0.7352941176470588</td>\n",
       "\t\t<td>0.8275862068965517</td>\n",
       "\t</tr>\n",
       "\t<tr>\n",
       "\t\t<td>3</td>\n",
       "\t\t<td>36</td>\n",
       "\t\t<td>0.7083333333333334</td>\n",
       "\t\t<td>0.17647058823529405</td>\n",
       "\t\t<td>0.7058823529411765</td>\n",
       "\t\t<td>0.8103448275862066</td>\n",
       "\t</tr>\n",
       "\t<tr>\n",
       "\t\t<td>3</td>\n",
       "\t\t<td>15</td>\n",
       "\t\t<td>0.7083333333333334</td>\n",
       "\t\t<td>0.47058823529411764</td>\n",
       "\t\t<td>0.5</td>\n",
       "\t\t<td>0.6379310344827585</td>\n",
       "\t</tr>\n",
       "</table></html>"
      ],
      "text/plain": [
       "   species  id  petal_width  sepal_width  sepal_length  petal_length\n",
       "0        1  11     0.041667     0.588235      0.117647      0.086207\n",
       "1        1   9     0.041667     0.411765      0.029412      0.051724\n",
       "2        1  39     0.041667     0.823529      0.088235     -0.017241\n",
       "3        1  20     0.000000     0.823529      0.176471      0.051724\n",
       "4        1  28     0.041667     0.705882      0.147059      0.086207\n",
       "5        1  21     0.041667     0.882353      0.294118      0.068966\n",
       "6        3  30     0.583333     0.352941      0.588235      0.689655\n",
       "7        3  27     0.916667     0.588235      0.735294      0.827586\n",
       "8        3  36     0.708333     0.176471      0.705882      0.810345\n",
       "9        3  15     0.708333     0.470588      0.500000      0.637931"
      ]
     },
     "metadata": {},
     "output_type": "display_data"
    },
    {
     "name": "stdout",
     "output_type": "stream",
     "text": [
      "                                                                                                 \r"
     ]
    },
    {
     "data": {
      "text/html": [
       "30 rows X 6 columns"
      ],
      "text/plain": [
       "<IPython.core.display.HTML object>"
      ]
     },
     "metadata": {},
     "output_type": "display_data"
    },
    {
     "name": "stdout",
     "output_type": "stream",
     "text": [
      "                                                                                                 \r"
     ]
    },
    {
     "data": {
      "text/html": [
       "\n",
       "Updated dataset after performing RFE feature selection:"
      ],
      "text/plain": [
       "<IPython.core.display.HTML object>"
      ]
     },
     "metadata": {},
     "output_type": "display_data"
    },
    {
     "data": {
      "text/html": [
       "<style type=\"text/css\">\n",
       "\ttable {border:ridge 5px;}\n",
       "\ttable td {border:inset 1px;}\n",
       "\ttable tr#HeaderRow {background-color:grey; color:white;}</style>\n",
       "<html><table>\n",
       "\t<tr id=\"HeaderRow\">\n",
       "\t\t<th>id</th>\n",
       "\t\t<th>petal_length</th>\n",
       "\t\t<th>petal_width</th>\n",
       "\t\t<th>species</th>\n",
       "\t</tr>\n",
       "\t<tr>\n",
       "\t\t<td>11</td>\n",
       "\t\t<td>1.6</td>\n",
       "\t\t<td>0.2</td>\n",
       "\t\t<td>1</td>\n",
       "\t</tr>\n",
       "\t<tr>\n",
       "\t\t<td>9</td>\n",
       "\t\t<td>1.4</td>\n",
       "\t\t<td>0.2</td>\n",
       "\t\t<td>1</td>\n",
       "\t</tr>\n",
       "\t<tr>\n",
       "\t\t<td>39</td>\n",
       "\t\t<td>1.0</td>\n",
       "\t\t<td>0.2</td>\n",
       "\t\t<td>1</td>\n",
       "\t</tr>\n",
       "\t<tr>\n",
       "\t\t<td>20</td>\n",
       "\t\t<td>1.4</td>\n",
       "\t\t<td>0.1</td>\n",
       "\t\t<td>1</td>\n",
       "\t</tr>\n",
       "\t<tr>\n",
       "\t\t<td>28</td>\n",
       "\t\t<td>1.6</td>\n",
       "\t\t<td>0.2</td>\n",
       "\t\t<td>1</td>\n",
       "\t</tr>\n",
       "\t<tr>\n",
       "\t\t<td>21</td>\n",
       "\t\t<td>1.5</td>\n",
       "\t\t<td>0.2</td>\n",
       "\t\t<td>1</td>\n",
       "\t</tr>\n",
       "\t<tr>\n",
       "\t\t<td>30</td>\n",
       "\t\t<td>5.1</td>\n",
       "\t\t<td>1.5</td>\n",
       "\t\t<td>3</td>\n",
       "\t</tr>\n",
       "\t<tr>\n",
       "\t\t<td>27</td>\n",
       "\t\t<td>5.9</td>\n",
       "\t\t<td>2.3</td>\n",
       "\t\t<td>3</td>\n",
       "\t</tr>\n",
       "\t<tr>\n",
       "\t\t<td>36</td>\n",
       "\t\t<td>5.8</td>\n",
       "\t\t<td>1.8</td>\n",
       "\t\t<td>3</td>\n",
       "\t</tr>\n",
       "\t<tr>\n",
       "\t\t<td>15</td>\n",
       "\t\t<td>4.8</td>\n",
       "\t\t<td>1.8</td>\n",
       "\t\t<td>3</td>\n",
       "\t</tr>\n",
       "</table></html>"
      ],
      "text/plain": [
       "         id  petal_length  petal_width\n",
       "species                               \n",
       "1        11           1.6          0.2\n",
       "1         9           1.4          0.2\n",
       "1        39           1.0          0.2\n",
       "1        20           1.4          0.1\n",
       "1        28           1.6          0.2\n",
       "1        21           1.5          0.2\n",
       "3        30           5.1          1.5\n",
       "3        27           5.9          2.3\n",
       "3        36           5.8          1.8\n",
       "3        15           4.8          1.8"
      ]
     },
     "metadata": {},
     "output_type": "display_data"
    },
    {
     "name": "stdout",
     "output_type": "stream",
     "text": [
      "                                                                                                 \r"
     ]
    },
    {
     "data": {
      "text/html": [
       "30 rows X 4 columns"
      ],
      "text/plain": [
       "<IPython.core.display.HTML object>"
      ]
     },
     "metadata": {},
     "output_type": "display_data"
    },
    {
     "name": "stdout",
     "output_type": "stream",
     "text": [
      "                                                                                                 \r"
     ]
    },
    {
     "data": {
      "text/html": [
       "\n",
       "Updated dataset after performing scaling on RFE selected features :"
      ],
      "text/plain": [
       "<IPython.core.display.HTML object>"
      ]
     },
     "metadata": {},
     "output_type": "display_data"
    },
    {
     "data": {
      "text/html": [
       "<style type=\"text/css\">\n",
       "\ttable {border:ridge 5px;}\n",
       "\ttable td {border:inset 1px;}\n",
       "\ttable tr#HeaderRow {background-color:grey; color:white;}</style>\n",
       "<html><table>\n",
       "\t<tr id=\"HeaderRow\">\n",
       "\t\t<th>species</th>\n",
       "\t\t<th>id</th>\n",
       "\t\t<th>r_petal_length</th>\n",
       "\t\t<th>r_petal_width</th>\n",
       "\t</tr>\n",
       "\t<tr>\n",
       "\t\t<td>1</td>\n",
       "\t\t<td>11</td>\n",
       "\t\t<td>0.08620689655172413</td>\n",
       "\t\t<td>0.04166666666666667</td>\n",
       "\t</tr>\n",
       "\t<tr>\n",
       "\t\t<td>1</td>\n",
       "\t\t<td>9</td>\n",
       "\t\t<td>0.05172413793103445</td>\n",
       "\t\t<td>0.04166666666666667</td>\n",
       "\t</tr>\n",
       "\t<tr>\n",
       "\t\t<td>1</td>\n",
       "\t\t<td>39</td>\n",
       "\t\t<td>-0.01724137931034484</td>\n",
       "\t\t<td>0.04166666666666667</td>\n",
       "\t</tr>\n",
       "\t<tr>\n",
       "\t\t<td>1</td>\n",
       "\t\t<td>20</td>\n",
       "\t\t<td>0.05172413793103445</td>\n",
       "\t\t<td>0.0</td>\n",
       "\t</tr>\n",
       "\t<tr>\n",
       "\t\t<td>1</td>\n",
       "\t\t<td>28</td>\n",
       "\t\t<td>0.08620689655172413</td>\n",
       "\t\t<td>0.04166666666666667</td>\n",
       "\t</tr>\n",
       "\t<tr>\n",
       "\t\t<td>1</td>\n",
       "\t\t<td>21</td>\n",
       "\t\t<td>0.06896551724137928</td>\n",
       "\t\t<td>0.04166666666666667</td>\n",
       "\t</tr>\n",
       "\t<tr>\n",
       "\t\t<td>3</td>\n",
       "\t\t<td>30</td>\n",
       "\t\t<td>0.6896551724137929</td>\n",
       "\t\t<td>0.5833333333333334</td>\n",
       "\t</tr>\n",
       "\t<tr>\n",
       "\t\t<td>3</td>\n",
       "\t\t<td>27</td>\n",
       "\t\t<td>0.8275862068965517</td>\n",
       "\t\t<td>0.9166666666666666</td>\n",
       "\t</tr>\n",
       "\t<tr>\n",
       "\t\t<td>3</td>\n",
       "\t\t<td>36</td>\n",
       "\t\t<td>0.8103448275862066</td>\n",
       "\t\t<td>0.7083333333333334</td>\n",
       "\t</tr>\n",
       "\t<tr>\n",
       "\t\t<td>3</td>\n",
       "\t\t<td>15</td>\n",
       "\t\t<td>0.6379310344827585</td>\n",
       "\t\t<td>0.7083333333333334</td>\n",
       "\t</tr>\n",
       "</table></html>"
      ],
      "text/plain": [
       "   species  id  r_petal_length  r_petal_width\n",
       "0        1  11        0.086207       0.041667\n",
       "1        1   9        0.051724       0.041667\n",
       "2        1  39       -0.017241       0.041667\n",
       "3        1  20        0.051724       0.000000\n",
       "4        1  28        0.086207       0.041667\n",
       "5        1  21        0.068966       0.041667\n",
       "6        3  30        0.689655       0.583333\n",
       "7        3  27        0.827586       0.916667\n",
       "8        3  36        0.810345       0.708333\n",
       "9        3  15        0.637931       0.708333"
      ]
     },
     "metadata": {},
     "output_type": "display_data"
    },
    {
     "name": "stdout",
     "output_type": "stream",
     "text": [
      "                                                                                                 \r"
     ]
    },
    {
     "data": {
      "text/html": [
       "30 rows X 4 columns"
      ],
      "text/plain": [
       "<IPython.core.display.HTML object>"
      ]
     },
     "metadata": {},
     "output_type": "display_data"
    },
    {
     "name": "stdout",
     "output_type": "stream",
     "text": [
      "                                                                                                 \r"
     ]
    },
    {
     "data": {
      "text/html": [
       "\n",
       "Updated dataset after performing scaling for PCA feature selection :"
      ],
      "text/plain": [
       "<IPython.core.display.HTML object>"
      ]
     },
     "metadata": {},
     "output_type": "display_data"
    },
    {
     "data": {
      "text/html": [
       "<style type=\"text/css\">\n",
       "\ttable {border:ridge 5px;}\n",
       "\ttable td {border:inset 1px;}\n",
       "\ttable tr#HeaderRow {background-color:grey; color:white;}</style>\n",
       "<html><table>\n",
       "\t<tr id=\"HeaderRow\">\n",
       "\t\t<th>species</th>\n",
       "\t\t<th>id</th>\n",
       "\t\t<th>sepal_length</th>\n",
       "\t\t<th>sepal_width</th>\n",
       "\t\t<th>petal_length</th>\n",
       "\t\t<th>petal_width</th>\n",
       "\t</tr>\n",
       "\t<tr>\n",
       "\t\t<td>1</td>\n",
       "\t\t<td>11</td>\n",
       "\t\t<td>0.11764705882352951</td>\n",
       "\t\t<td>0.5882352941176472</td>\n",
       "\t\t<td>0.08620689655172413</td>\n",
       "\t\t<td>0.04166666666666667</td>\n",
       "\t</tr>\n",
       "\t<tr>\n",
       "\t\t<td>1</td>\n",
       "\t\t<td>9</td>\n",
       "\t\t<td>0.029411764705882505</td>\n",
       "\t\t<td>0.41176470588235287</td>\n",
       "\t\t<td>0.05172413793103445</td>\n",
       "\t\t<td>0.04166666666666667</td>\n",
       "\t</tr>\n",
       "\t<tr>\n",
       "\t\t<td>1</td>\n",
       "\t\t<td>39</td>\n",
       "\t\t<td>0.088235294117647</td>\n",
       "\t\t<td>0.823529411764706</td>\n",
       "\t\t<td>-0.01724137931034484</td>\n",
       "\t\t<td>0.04166666666666667</td>\n",
       "\t</tr>\n",
       "\t<tr>\n",
       "\t\t<td>1</td>\n",
       "\t\t<td>20</td>\n",
       "\t\t<td>0.17647058823529427</td>\n",
       "\t\t<td>0.823529411764706</td>\n",
       "\t\t<td>0.05172413793103445</td>\n",
       "\t\t<td>0.0</td>\n",
       "\t</tr>\n",
       "\t<tr>\n",
       "\t\t<td>1</td>\n",
       "\t\t<td>28</td>\n",
       "\t\t<td>0.14705882352941174</td>\n",
       "\t\t<td>0.7058823529411764</td>\n",
       "\t\t<td>0.08620689655172413</td>\n",
       "\t\t<td>0.04166666666666667</td>\n",
       "\t</tr>\n",
       "\t<tr>\n",
       "\t\t<td>1</td>\n",
       "\t\t<td>21</td>\n",
       "\t\t<td>0.2941176470588235</td>\n",
       "\t\t<td>0.8823529411764707</td>\n",
       "\t\t<td>0.06896551724137928</td>\n",
       "\t\t<td>0.04166666666666667</td>\n",
       "\t</tr>\n",
       "\t<tr>\n",
       "\t\t<td>3</td>\n",
       "\t\t<td>30</td>\n",
       "\t\t<td>0.588235294117647</td>\n",
       "\t\t<td>0.3529411764705881</td>\n",
       "\t\t<td>0.6896551724137929</td>\n",
       "\t\t<td>0.5833333333333334</td>\n",
       "\t</tr>\n",
       "\t<tr>\n",
       "\t\t<td>3</td>\n",
       "\t\t<td>27</td>\n",
       "\t\t<td>0.7352941176470588</td>\n",
       "\t\t<td>0.5882352941176472</td>\n",
       "\t\t<td>0.8275862068965517</td>\n",
       "\t\t<td>0.9166666666666666</td>\n",
       "\t</tr>\n",
       "\t<tr>\n",
       "\t\t<td>3</td>\n",
       "\t\t<td>36</td>\n",
       "\t\t<td>0.7058823529411765</td>\n",
       "\t\t<td>0.17647058823529405</td>\n",
       "\t\t<td>0.8103448275862066</td>\n",
       "\t\t<td>0.7083333333333334</td>\n",
       "\t</tr>\n",
       "\t<tr>\n",
       "\t\t<td>3</td>\n",
       "\t\t<td>15</td>\n",
       "\t\t<td>0.5</td>\n",
       "\t\t<td>0.47058823529411764</td>\n",
       "\t\t<td>0.6379310344827585</td>\n",
       "\t\t<td>0.7083333333333334</td>\n",
       "\t</tr>\n",
       "</table></html>"
      ],
      "text/plain": [
       "   species  id  sepal_length  sepal_width  petal_length  petal_width\n",
       "0        1  11      0.117647     0.588235      0.086207     0.041667\n",
       "1        1   9      0.029412     0.411765      0.051724     0.041667\n",
       "2        1  39      0.088235     0.823529     -0.017241     0.041667\n",
       "3        1  20      0.176471     0.823529      0.051724     0.000000\n",
       "4        1  28      0.147059     0.705882      0.086207     0.041667\n",
       "5        1  21      0.294118     0.882353      0.068966     0.041667\n",
       "6        3  30      0.588235     0.352941      0.689655     0.583333\n",
       "7        3  27      0.735294     0.588235      0.827586     0.916667\n",
       "8        3  36      0.705882     0.176471      0.810345     0.708333\n",
       "9        3  15      0.500000     0.470588      0.637931     0.708333"
      ]
     },
     "metadata": {},
     "output_type": "display_data"
    },
    {
     "name": "stdout",
     "output_type": "stream",
     "text": [
      "                                                                                                 \r"
     ]
    },
    {
     "data": {
      "text/html": [
       "30 rows X 6 columns"
      ],
      "text/plain": [
       "<IPython.core.display.HTML object>"
      ]
     },
     "metadata": {},
     "output_type": "display_data"
    },
    {
     "name": "stdout",
     "output_type": "stream",
     "text": [
      "                                                                                                 \r"
     ]
    },
    {
     "data": {
      "text/html": [
       "\n",
       "Updated dataset after performing PCA feature selection :"
      ],
      "text/plain": [
       "<IPython.core.display.HTML object>"
      ]
     },
     "metadata": {},
     "output_type": "display_data"
    },
    {
     "data": {
      "text/html": [
       "<div>\n",
       "<style scoped>\n",
       "    .dataframe tbody tr th:only-of-type {\n",
       "        vertical-align: middle;\n",
       "    }\n",
       "\n",
       "    .dataframe tbody tr th {\n",
       "        vertical-align: top;\n",
       "    }\n",
       "\n",
       "    .dataframe thead th {\n",
       "        text-align: right;\n",
       "    }\n",
       "</style>\n",
       "<table border=\"1\" class=\"dataframe\">\n",
       "  <thead>\n",
       "    <tr style=\"text-align: right;\">\n",
       "      <th></th>\n",
       "      <th>id</th>\n",
       "      <th>col_0</th>\n",
       "      <th>col_1</th>\n",
       "      <th>species</th>\n",
       "    </tr>\n",
       "  </thead>\n",
       "  <tbody>\n",
       "    <tr>\n",
       "      <th>0</th>\n",
       "      <td>24</td>\n",
       "      <td>-0.664545</td>\n",
       "      <td>0.065563</td>\n",
       "      <td>1</td>\n",
       "    </tr>\n",
       "    <tr>\n",
       "      <th>1</th>\n",
       "      <td>30</td>\n",
       "      <td>0.273375</td>\n",
       "      <td>-0.107115</td>\n",
       "      <td>3</td>\n",
       "    </tr>\n",
       "    <tr>\n",
       "      <th>2</th>\n",
       "      <td>18</td>\n",
       "      <td>-0.645382</td>\n",
       "      <td>0.267705</td>\n",
       "      <td>1</td>\n",
       "    </tr>\n",
       "    <tr>\n",
       "      <th>3</th>\n",
       "      <td>27</td>\n",
       "      <td>0.590973</td>\n",
       "      <td>0.176391</td>\n",
       "      <td>3</td>\n",
       "    </tr>\n",
       "    <tr>\n",
       "      <th>4</th>\n",
       "      <td>11</td>\n",
       "      <td>-0.688546</td>\n",
       "      <td>-0.053180</td>\n",
       "      <td>1</td>\n",
       "    </tr>\n",
       "    <tr>\n",
       "      <th>5</th>\n",
       "      <td>36</td>\n",
       "      <td>0.509870</td>\n",
       "      <td>-0.230679</td>\n",
       "      <td>3</td>\n",
       "    </tr>\n",
       "    <tr>\n",
       "      <th>6</th>\n",
       "      <td>32</td>\n",
       "      <td>-0.661783</td>\n",
       "      <td>-0.142749</td>\n",
       "      <td>1</td>\n",
       "    </tr>\n",
       "    <tr>\n",
       "      <th>7</th>\n",
       "      <td>15</td>\n",
       "      <td>0.258919</td>\n",
       "      <td>-0.018103</td>\n",
       "      <td>3</td>\n",
       "    </tr>\n",
       "    <tr>\n",
       "      <th>8</th>\n",
       "      <td>9</td>\n",
       "      <td>-0.718495</td>\n",
       "      <td>-0.247576</td>\n",
       "      <td>1</td>\n",
       "    </tr>\n",
       "    <tr>\n",
       "      <th>9</th>\n",
       "      <td>31</td>\n",
       "      <td>0.650362</td>\n",
       "      <td>0.607654</td>\n",
       "      <td>3</td>\n",
       "    </tr>\n",
       "  </tbody>\n",
       "</table>\n",
       "</div>"
      ],
      "text/plain": [
       "   id     col_0     col_1  species\n",
       "0  24 -0.664545  0.065563        1\n",
       "1  30  0.273375 -0.107115        3\n",
       "2  18 -0.645382  0.267705        1\n",
       "3  27  0.590973  0.176391        3\n",
       "4  11 -0.688546 -0.053180        1\n",
       "5  36  0.509870 -0.230679        3\n",
       "6  32 -0.661783 -0.142749        1\n",
       "7  15  0.258919 -0.018103        3\n",
       "8   9 -0.718495 -0.247576        1\n",
       "9  31  0.650362  0.607654        3"
      ]
     },
     "metadata": {},
     "output_type": "display_data"
    },
    {
     "name": "stdout",
     "output_type": "stream",
     "text": [
      "                                                                                                 \r"
     ]
    },
    {
     "data": {
      "text/html": [
       "10 rows X 4 columns"
      ],
      "text/plain": [
       "<IPython.core.display.HTML object>"
      ]
     },
     "metadata": {},
     "output_type": "display_data"
    },
    {
     "name": "stdout",
     "output_type": "stream",
     "text": [
      "Data Transformation completed.⫿⫿⫿⫿⫿⫿⫿⫿⫿⫿⫿⫿⫿⫿⫿⫿⫿⫿⫿⫿⫿⫿⫿⫿⫿⫿⫿⫿⫿⫿⫿⫿⫿⫿⫿⫿⫿⫿⫿⫿⫿⫿｜ 100% - 10/10           \n",
      "\n",
      "Following model is being used for generating prediction :\n",
      "Model ID : KNN_1 \n",
      "Feature Selection Method : rfe\n",
      "\n",
      "Prediction : \n",
      "   id  prediction  species\n",
      "0  14           2        2\n",
      "1  12           2        2\n",
      "2  29           2        2\n",
      "3   9           1        1\n",
      "4  10           3        3\n",
      "5  15           3        3\n",
      "6  28           1        1\n",
      "7  31           3        3\n",
      "8  22           3        3\n",
      "9  27           3        3\n",
      "\n",
      "Performance Metrics : \n",
      "       Prediction  Mapping  CLASS_1  CLASS_2  CLASS_3  Precision    Recall        F1  Support\n",
      "SeqNum                                                                                       \n",
      "0               1  CLASS_1       11        0        0   1.000000  1.000000  1.000000       11\n",
      "2               3  CLASS_3        0        0        8   1.000000  0.888889  0.941176        9\n",
      "1               2  CLASS_2        0       10        1   0.909091  1.000000  0.952381       10\n",
      "\n",
      "Confusion Matrix : \n"
     ]
    },
    {
     "data": {
      "text/plain": [
       "array([[11,  0,  0],\n",
       "       [ 0, 10,  0],\n",
       "       [ 0,  1,  8]], dtype=int64)"
      ]
     },
     "metadata": {},
     "output_type": "display_data"
    }
   ],
   "source": [
    "# Generating prediction and metrics on test data\n",
    "prediction = aml.predict(iris_test, rank=2)"
   ]
  },
  {
   "cell_type": "code",
   "execution_count": 25,
   "id": "f70c1d50-3a3a-4cea-a09b-e09b4941428a",
   "metadata": {},
   "outputs": [
    {
     "data": {
      "text/html": [
       "<style type=\"text/css\">\n",
       "\ttable {border:ridge 5px;}\n",
       "\ttable td {border:inset 1px;}\n",
       "\ttable tr#HeaderRow {background-color:grey; color:white;}</style>\n",
       "<html><table>\n",
       "\t<tr id=\"HeaderRow\">\n",
       "\t\t<th>id</th>\n",
       "\t\t<th>prediction</th>\n",
       "\t\t<th>species</th>\n",
       "\t</tr>\n",
       "\t<tr>\n",
       "\t\t<td>10</td>\n",
       "\t\t<td>3</td>\n",
       "\t\t<td>3</td>\n",
       "\t</tr>\n",
       "\t<tr>\n",
       "\t\t<td>12</td>\n",
       "\t\t<td>2</td>\n",
       "\t\t<td>2</td>\n",
       "\t</tr>\n",
       "\t<tr>\n",
       "\t\t<td>13</td>\n",
       "\t\t<td>2</td>\n",
       "\t\t<td>2</td>\n",
       "\t</tr>\n",
       "\t<tr>\n",
       "\t\t<td>14</td>\n",
       "\t\t<td>2</td>\n",
       "\t\t<td>2</td>\n",
       "\t</tr>\n",
       "\t<tr>\n",
       "\t\t<td>16</td>\n",
       "\t\t<td>1</td>\n",
       "\t\t<td>1</td>\n",
       "\t</tr>\n",
       "\t<tr>\n",
       "\t\t<td>17</td>\n",
       "\t\t<td>2</td>\n",
       "\t\t<td>2</td>\n",
       "\t</tr>\n",
       "\t<tr>\n",
       "\t\t<td>15</td>\n",
       "\t\t<td>3</td>\n",
       "\t\t<td>3</td>\n",
       "\t</tr>\n",
       "\t<tr>\n",
       "\t\t<td>11</td>\n",
       "\t\t<td>1</td>\n",
       "\t\t<td>1</td>\n",
       "\t</tr>\n",
       "\t<tr>\n",
       "\t\t<td>9</td>\n",
       "\t\t<td>1</td>\n",
       "\t\t<td>1</td>\n",
       "\t</tr>\n",
       "\t<tr>\n",
       "\t\t<td>8</td>\n",
       "\t\t<td>2</td>\n",
       "\t\t<td>2</td>\n",
       "\t</tr>\n",
       "</table></html>"
      ],
      "text/plain": [
       "   id  prediction  species\n",
       "0  10           3        3\n",
       "1  12           2        2\n",
       "2  13           2        2\n",
       "3  14           2        2\n",
       "4  16           1        1\n",
       "5  17           2        2\n",
       "6  15           3        3\n",
       "7  11           1        1\n",
       "8   9           1        1\n",
       "9   8           2        2"
      ]
     },
     "execution_count": 25,
     "metadata": {},
     "output_type": "execute_result"
    }
   ],
   "source": [
    "# Printing prediction\n",
    "prediction.head()"
   ]
  },
  {
   "cell_type": "code",
   "execution_count": 33,
   "id": "b9abf6af-1a6f-4bff-87e1-4d0fe8b80bbf",
   "metadata": {},
   "outputs": [
    {
     "data": {
      "text/plain": [
       "True"
      ]
     },
     "execution_count": 33,
     "metadata": {},
     "output_type": "execute_result"
    }
   ],
   "source": [
    "remove_context()"
   ]
  }
 ],
 "metadata": {
  "kernelspec": {
   "display_name": "Python 3 (ipykernel)",
   "language": "python",
   "name": "python3"
  },
  "language_info": {
   "codemirror_mode": {
    "name": "ipython",
    "version": 3
   },
   "file_extension": ".py",
   "mimetype": "text/x-python",
   "name": "python",
   "nbconvert_exporter": "python",
   "pygments_lexer": "ipython3",
   "version": "3.10.9"
  }
 },
 "nbformat": 4,
 "nbformat_minor": 5
}
