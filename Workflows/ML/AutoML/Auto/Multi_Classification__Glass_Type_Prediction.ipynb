{
 "cells": [
  {
   "cell_type": "markdown",
   "id": "2762f1d8-5a66-411f-a625-34cf16ac6dd3",
   "metadata": {},
   "source": [
    "# <b><span style='color:#F1A424'>AutoML - Multiclass Classification - Glass Type Prediction </span> </b>"
   ]
  },
  {
   "cell_type": "markdown",
   "id": "e78b719f-de57-467c-b528-93b313799f92",
   "metadata": {},
   "source": [
    "### Disclaimer\n",
    "Please note, the Vantage Functions via SQLAlchemy feature is a preview/beta code release with limited functionality (the “Code”). As such, you acknowledge that the Code is experimental in nature and that the Code is provided “AS IS” and may not be functional on any machine or in any environment. TERADATA DISCLAIMS ALL WARRANTIES RELATING TO THE CODE, EXPRESS OR IMPLIED, INCLUDING, BUT NOT LIMITED TO, ANY WARRANTIES AGAINST INFRINGEMENT OF THIRD-PARTY RIGHTS, MERCHANTABILITY AND FITNESS FOR A PARTICULAR PURPOSE.\n",
    "\n",
    "TERADATA SHALL NOT BE RESPONSIBLE OR LIABLE WITH RESPECT TO ANY SUBJECT MATTER OF THE CODE UNDER ANY CONTRACT, NEGLIGENCE, STRICT LIABILITY OR OTHER THEORY \n",
    "    (A) FOR LOSS OR INACCURACY OF DATA OR COST OF PROCUREMENT OF SUBSTITUTE GOODS, SERVICES OR TECHNOLOGY, OR \n",
    "    (B) FOR ANY INDIRECT, INCIDENTAL OR CONSEQUENTIAL DAMAGES INCLUDING, BUT NOT LIMITED TO LOSS OF REVENUES AND LOSS OF PROFITS. TERADATA SHALL NOT BE RESPONSIBLE FOR ANY MATTER BEYOND ITS REASONABLE CONTROL.\n",
    "\n",
    "Notwithstanding anything to the contrary: \n",
    "    (a) Teradata will have no obligation of any kind with respect to any Code-related comments, suggestions, design changes or improvements that you elect to provide to Teradata in either verbal or written form (collectively, “Feedback”), and \n",
    "    (b) Teradata and its affiliates are hereby free to use any ideas, concepts, know-how or techniques, in whole or in part, contained in Feedback: \n",
    "        (i) for any purpose whatsoever, including developing, manufacturing, and/or marketing products and/or services incorporating Feedback in whole or in part, and \n",
    "        (ii) without any restrictions or limitations, including requiring the payment of any license fees, royalties, or other consideration. "
   ]
  },
  {
   "cell_type": "markdown",
   "id": "f225fb94-b2c8-4c92-af38-733d08e0e2a1",
   "metadata": {},
   "source": [
    "## <b> Problem overview:</b>\n",
    "    "
   ]
  },
  {
   "cell_type": "markdown",
   "id": "af9813eb-9c44-4968-a5fe-d1c74415c894",
   "metadata": {},
   "source": [
    "**Dataset used : Glass Type Dataset**\n",
    "\n",
    "**Features**:\n",
    "- `Id number`: 1 to 214 (removed from CSV file)\n",
    "- `RI`: refractive index\n",
    "- `Na`: Sodium (unit measurement: weight percent in corresponding oxide, as are attributes 4-10)\n",
    "- `Mg`: Magnesium\n",
    "- `Al`: Aluminum\n",
    "- `Si`: Silicon\n",
    "- `K`: Potassium\n",
    "- `Ca`: Calcium\n",
    "- `Ba`: Barium\n",
    "- `Fe`: Iron\n",
    "\n",
    "**Target Variable**:\n",
    "- `Type of glass`: (class attribute)\n",
    "  - 1 building_windows_float_processed\n",
    "  - 2 building_windows_non_float_processed\n",
    "  - 3 vehicle_windows_float_processed\n",
    "  - 4 vehicle_windows_non_float_processed (none in this database)\n",
    "  - 5 containers\n",
    "  - 6 tableware\n",
    "  - 7 headlamps\n",
    "\n",
    "        \n",
    "**Objective**:\n",
    "\n",
    "The primary objective is typically to build a model that can accurately predict the type of glass.\n",
    "\n",
    "**Usecase**:\n",
    "\n",
    "Here, we will use AutoML(Automated Machine Learning) functionality to automate the entire process of developing a predictive model. It will perform feature exploration, feature engineering, data preparation, model training and evaluation on dataset in auto run and at end we will get leaderboard containined different models along with their performance. Model will also have rank associated with them which indicates which is best performing model for given data followed by other models.\n"
   ]
  },
  {
   "cell_type": "code",
   "execution_count": 1,
   "id": "66568348-4d00-477c-a071-17995f797c95",
   "metadata": {},
   "outputs": [],
   "source": [
    "# Importing AutoML from teradataml\n",
    "from teradataml import AutoML, AutoClassifier"
   ]
  },
  {
   "cell_type": "code",
   "execution_count": 2,
   "id": "17dfae70-0401-4cc4-ba1c-400a5cf62451",
   "metadata": {},
   "outputs": [],
   "source": [
    "# Importing other important libraries\n",
    "import getpass\n",
    "from teradataml import create_context, remove_context\n",
    "from teradataml import DataFrame\n",
    "from teradataml import load_example_data\n",
    "from teradataml import TrainTestSplit"
   ]
  },
  {
   "cell_type": "code",
   "execution_count": 3,
   "id": "cadd9ed2-42d6-4899-b23e-4e2cf601162f",
   "metadata": {},
   "outputs": [
    {
     "name": "stdin",
     "output_type": "stream",
     "text": [
      "Host:  ········\n",
      "Username:  ········\n",
      "Password:  ········\n"
     ]
    }
   ],
   "source": [
    "# Create the connection.\n",
    "host = getpass.getpass(\"Host: \")\n",
    "username = getpass.getpass(\"Username: \")\n",
    "password = getpass.getpass(\"Password: \")\n",
    "\n",
    "con = create_context(host=host, username=username, password=password)"
   ]
  },
  {
   "cell_type": "markdown",
   "id": "be767a89-d5b8-4876-91cb-36980754586e",
   "metadata": {},
   "source": [
    "## <b><span style='color:#F1A424'>| 1.</span> Loading Dataset </b>"
   ]
  },
  {
   "cell_type": "code",
   "execution_count": 4,
   "id": "f1592c52-b247-4792-be2a-30b49bbeb9b6",
   "metadata": {},
   "outputs": [],
   "source": [
    "# Loading dataset from example data collection\n",
    "load_example_data('teradataml','glass_types')"
   ]
  },
  {
   "cell_type": "code",
   "execution_count": 5,
   "id": "3846ae0f-004b-4b8e-9fea-06fac4294065",
   "metadata": {},
   "outputs": [],
   "source": [
    "# Fetching in teradata dataframe\n",
    "glass_df = DataFrame(\"glass_types\")"
   ]
  },
  {
   "cell_type": "code",
   "execution_count": 6,
   "id": "442ccd80-b444-413e-970d-d855ec3d6cae",
   "metadata": {},
   "outputs": [
    {
     "data": {
      "text/html": [
       "<style type=\"text/css\">\n",
       "\ttable {border:ridge 5px;}\n",
       "\ttable td {border:inset 1px;}\n",
       "\ttable tr#HeaderRow {background-color:grey; color:white;}</style>\n",
       "<html><table>\n",
       "\t<tr id=\"HeaderRow\">\n",
       "\t\t<th>ri</th>\n",
       "\t\t<th>na</th>\n",
       "\t\t<th>mg</th>\n",
       "\t\t<th>ai</th>\n",
       "\t\t<th>si</th>\n",
       "\t\t<th>k</th>\n",
       "\t\t<th>ca</th>\n",
       "\t\t<th>ba</th>\n",
       "\t\t<th>fe</th>\n",
       "\t\t<th>gtype</th>\n",
       "\t</tr>\n",
       "\t<tr>\n",
       "\t\t<td>1.51215</td>\n",
       "\t\t<td>12.99</td>\n",
       "\t\t<td>3.47</td>\n",
       "\t\t<td>1.12</td>\n",
       "\t\t<td>72.98</td>\n",
       "\t\t<td>0.62</td>\n",
       "\t\t<td>8.35</td>\n",
       "\t\t<td>0.0</td>\n",
       "\t\t<td>0.31</td>\n",
       "\t\t<td>1</td>\n",
       "\t</tr>\n",
       "\t<tr>\n",
       "\t\t<td>1.51316</td>\n",
       "\t\t<td>13.02</td>\n",
       "\t\t<td>0.0</td>\n",
       "\t\t<td>3.04</td>\n",
       "\t\t<td>70.48</td>\n",
       "\t\t<td>6.21</td>\n",
       "\t\t<td>6.96</td>\n",
       "\t\t<td>0.0</td>\n",
       "\t\t<td>0.0</td>\n",
       "\t\t<td>5</td>\n",
       "\t</tr>\n",
       "\t<tr>\n",
       "\t\t<td>1.51321</td>\n",
       "\t\t<td>13.0</td>\n",
       "\t\t<td>0.0</td>\n",
       "\t\t<td>3.02</td>\n",
       "\t\t<td>70.7</td>\n",
       "\t\t<td>6.21</td>\n",
       "\t\t<td>6.93</td>\n",
       "\t\t<td>0.0</td>\n",
       "\t\t<td>0.0</td>\n",
       "\t\t<td>5</td>\n",
       "\t</tr>\n",
       "\t<tr>\n",
       "\t\t<td>1.51409</td>\n",
       "\t\t<td>14.25</td>\n",
       "\t\t<td>3.09</td>\n",
       "\t\t<td>2.08</td>\n",
       "\t\t<td>72.28</td>\n",
       "\t\t<td>1.1</td>\n",
       "\t\t<td>7.08</td>\n",
       "\t\t<td>0.0</td>\n",
       "\t\t<td>0.0</td>\n",
       "\t\t<td>2</td>\n",
       "\t</tr>\n",
       "\t<tr>\n",
       "\t\t<td>1.51514</td>\n",
       "\t\t<td>14.01</td>\n",
       "\t\t<td>2.68</td>\n",
       "\t\t<td>3.5</td>\n",
       "\t\t<td>69.89</td>\n",
       "\t\t<td>1.68</td>\n",
       "\t\t<td>5.87</td>\n",
       "\t\t<td>2.2</td>\n",
       "\t\t<td>0.0</td>\n",
       "\t\t<td>5</td>\n",
       "\t</tr>\n",
       "\t<tr>\n",
       "\t\t<td>1.51514</td>\n",
       "\t\t<td>14.85</td>\n",
       "\t\t<td>0.0</td>\n",
       "\t\t<td>2.42</td>\n",
       "\t\t<td>73.72</td>\n",
       "\t\t<td>0.0</td>\n",
       "\t\t<td>8.39</td>\n",
       "\t\t<td>0.56</td>\n",
       "\t\t<td>0.0</td>\n",
       "\t\t<td>7</td>\n",
       "\t</tr>\n",
       "\t<tr>\n",
       "\t\t<td>1.51508</td>\n",
       "\t\t<td>15.15</td>\n",
       "\t\t<td>0.0</td>\n",
       "\t\t<td>2.25</td>\n",
       "\t\t<td>73.5</td>\n",
       "\t\t<td>0.0</td>\n",
       "\t\t<td>8.34</td>\n",
       "\t\t<td>0.63</td>\n",
       "\t\t<td>0.0</td>\n",
       "\t\t<td>7</td>\n",
       "\t</tr>\n",
       "\t<tr>\n",
       "\t\t<td>1.51299</td>\n",
       "\t\t<td>14.4</td>\n",
       "\t\t<td>1.74</td>\n",
       "\t\t<td>1.54</td>\n",
       "\t\t<td>74.55</td>\n",
       "\t\t<td>0.0</td>\n",
       "\t\t<td>7.59</td>\n",
       "\t\t<td>0.0</td>\n",
       "\t\t<td>0.0</td>\n",
       "\t\t<td>6</td>\n",
       "\t</tr>\n",
       "\t<tr>\n",
       "\t\t<td>1.51131</td>\n",
       "\t\t<td>13.69</td>\n",
       "\t\t<td>3.2</td>\n",
       "\t\t<td>1.81</td>\n",
       "\t\t<td>72.81</td>\n",
       "\t\t<td>1.76</td>\n",
       "\t\t<td>5.43</td>\n",
       "\t\t<td>1.19</td>\n",
       "\t\t<td>0.0</td>\n",
       "\t\t<td>7</td>\n",
       "\t</tr>\n",
       "\t<tr>\n",
       "\t\t<td>1.51115</td>\n",
       "\t\t<td>17.38</td>\n",
       "\t\t<td>0.0</td>\n",
       "\t\t<td>0.34</td>\n",
       "\t\t<td>75.41</td>\n",
       "\t\t<td>0.0</td>\n",
       "\t\t<td>6.65</td>\n",
       "\t\t<td>0.0</td>\n",
       "\t\t<td>0.0</td>\n",
       "\t\t<td>6</td>\n",
       "\t</tr>\n",
       "</table></html>"
      ],
      "text/plain": [
       "            na    mg    ai     si     k    ca    ba    fe  gtype\n",
       "ri                                                              \n",
       "1.51215  12.99  3.47  1.12  72.98  0.62  8.35  0.00  0.31      1\n",
       "1.51316  13.02  0.00  3.04  70.48  6.21  6.96  0.00  0.00      5\n",
       "1.51321  13.00  0.00  3.02  70.70  6.21  6.93  0.00  0.00      5\n",
       "1.51409  14.25  3.09  2.08  72.28  1.10  7.08  0.00  0.00      2\n",
       "1.51514  14.01  2.68  3.50  69.89  1.68  5.87  2.20  0.00      5\n",
       "1.51514  14.85  0.00  2.42  73.72  0.00  8.39  0.56  0.00      7\n",
       "1.51508  15.15  0.00  2.25  73.50  0.00  8.34  0.63  0.00      7\n",
       "1.51299  14.40  1.74  1.54  74.55  0.00  7.59  0.00  0.00      6\n",
       "1.51131  13.69  3.20  1.81  72.81  1.76  5.43  1.19  0.00      7\n",
       "1.51115  17.38  0.00  0.34  75.41  0.00  6.65  0.00  0.00      6"
      ]
     },
     "execution_count": 6,
     "metadata": {},
     "output_type": "execute_result"
    }
   ],
   "source": [
    "# first 5 rows\n",
    "glass_df.head()"
   ]
  },
  {
   "cell_type": "code",
   "execution_count": 7,
   "id": "636c220d-d12f-4ea5-ab2b-c9203ef00d49",
   "metadata": {},
   "outputs": [
    {
     "data": {
      "text/plain": [
       "(214, 10)"
      ]
     },
     "execution_count": 7,
     "metadata": {},
     "output_type": "execute_result"
    }
   ],
   "source": [
    "# glass_df dataset\n",
    "glass_df.shape"
   ]
  },
  {
   "cell_type": "code",
   "execution_count": 8,
   "id": "e5d1fad7-8784-4d7a-be1f-7be1d3991d8f",
   "metadata": {},
   "outputs": [],
   "source": [
    "# Performing sampling to get 80% for trainning and 20% for testing\n",
    "glass_df_sample = glass_df.sample(frac = [0.8, 0.2])"
   ]
  },
  {
   "cell_type": "code",
   "execution_count": 9,
   "id": "a0e6891a-1b7e-4bac-97c8-350ba5f5bde4",
   "metadata": {},
   "outputs": [
    {
     "data": {
      "text/html": [
       "<style type=\"text/css\">\n",
       "\ttable {border:ridge 5px;}\n",
       "\ttable td {border:inset 1px;}\n",
       "\ttable tr#HeaderRow {background-color:grey; color:white;}</style>\n",
       "<html><table>\n",
       "\t<tr id=\"HeaderRow\">\n",
       "\t\t<th>ri</th>\n",
       "\t\t<th>na</th>\n",
       "\t\t<th>mg</th>\n",
       "\t\t<th>ai</th>\n",
       "\t\t<th>si</th>\n",
       "\t\t<th>k</th>\n",
       "\t\t<th>ca</th>\n",
       "\t\t<th>ba</th>\n",
       "\t\t<th>fe</th>\n",
       "\t\t<th>gtype</th>\n",
       "\t\t<th>sampleid</th>\n",
       "\t</tr>\n",
       "\t<tr>\n",
       "\t\t<td>1.51215</td>\n",
       "\t\t<td>12.99</td>\n",
       "\t\t<td>3.47</td>\n",
       "\t\t<td>1.12</td>\n",
       "\t\t<td>72.98</td>\n",
       "\t\t<td>0.62</td>\n",
       "\t\t<td>8.35</td>\n",
       "\t\t<td>0.0</td>\n",
       "\t\t<td>0.31</td>\n",
       "\t\t<td>1</td>\n",
       "\t\t<td>1</td>\n",
       "\t</tr>\n",
       "\t<tr>\n",
       "\t\t<td>1.51316</td>\n",
       "\t\t<td>13.02</td>\n",
       "\t\t<td>0.0</td>\n",
       "\t\t<td>3.04</td>\n",
       "\t\t<td>70.48</td>\n",
       "\t\t<td>6.21</td>\n",
       "\t\t<td>6.96</td>\n",
       "\t\t<td>0.0</td>\n",
       "\t\t<td>0.0</td>\n",
       "\t\t<td>5</td>\n",
       "\t\t<td>1</td>\n",
       "\t</tr>\n",
       "\t<tr>\n",
       "\t\t<td>1.51321</td>\n",
       "\t\t<td>13.0</td>\n",
       "\t\t<td>0.0</td>\n",
       "\t\t<td>3.02</td>\n",
       "\t\t<td>70.7</td>\n",
       "\t\t<td>6.21</td>\n",
       "\t\t<td>6.93</td>\n",
       "\t\t<td>0.0</td>\n",
       "\t\t<td>0.0</td>\n",
       "\t\t<td>5</td>\n",
       "\t\t<td>1</td>\n",
       "\t</tr>\n",
       "\t<tr>\n",
       "\t\t<td>1.51409</td>\n",
       "\t\t<td>14.25</td>\n",
       "\t\t<td>3.09</td>\n",
       "\t\t<td>2.08</td>\n",
       "\t\t<td>72.28</td>\n",
       "\t\t<td>1.1</td>\n",
       "\t\t<td>7.08</td>\n",
       "\t\t<td>0.0</td>\n",
       "\t\t<td>0.0</td>\n",
       "\t\t<td>2</td>\n",
       "\t\t<td>1</td>\n",
       "\t</tr>\n",
       "\t<tr>\n",
       "\t\t<td>1.51514</td>\n",
       "\t\t<td>14.01</td>\n",
       "\t\t<td>2.68</td>\n",
       "\t\t<td>3.5</td>\n",
       "\t\t<td>69.89</td>\n",
       "\t\t<td>1.68</td>\n",
       "\t\t<td>5.87</td>\n",
       "\t\t<td>2.2</td>\n",
       "\t\t<td>0.0</td>\n",
       "\t\t<td>5</td>\n",
       "\t\t<td>2</td>\n",
       "\t</tr>\n",
       "\t<tr>\n",
       "\t\t<td>1.51514</td>\n",
       "\t\t<td>14.85</td>\n",
       "\t\t<td>0.0</td>\n",
       "\t\t<td>2.42</td>\n",
       "\t\t<td>73.72</td>\n",
       "\t\t<td>0.0</td>\n",
       "\t\t<td>8.39</td>\n",
       "\t\t<td>0.56</td>\n",
       "\t\t<td>0.0</td>\n",
       "\t\t<td>7</td>\n",
       "\t\t<td>1</td>\n",
       "\t</tr>\n",
       "\t<tr>\n",
       "\t\t<td>1.51508</td>\n",
       "\t\t<td>15.15</td>\n",
       "\t\t<td>0.0</td>\n",
       "\t\t<td>2.25</td>\n",
       "\t\t<td>73.5</td>\n",
       "\t\t<td>0.0</td>\n",
       "\t\t<td>8.34</td>\n",
       "\t\t<td>0.63</td>\n",
       "\t\t<td>0.0</td>\n",
       "\t\t<td>7</td>\n",
       "\t\t<td>1</td>\n",
       "\t</tr>\n",
       "\t<tr>\n",
       "\t\t<td>1.51299</td>\n",
       "\t\t<td>14.4</td>\n",
       "\t\t<td>1.74</td>\n",
       "\t\t<td>1.54</td>\n",
       "\t\t<td>74.55</td>\n",
       "\t\t<td>0.0</td>\n",
       "\t\t<td>7.59</td>\n",
       "\t\t<td>0.0</td>\n",
       "\t\t<td>0.0</td>\n",
       "\t\t<td>6</td>\n",
       "\t\t<td>1</td>\n",
       "\t</tr>\n",
       "\t<tr>\n",
       "\t\t<td>1.51131</td>\n",
       "\t\t<td>13.69</td>\n",
       "\t\t<td>3.2</td>\n",
       "\t\t<td>1.81</td>\n",
       "\t\t<td>72.81</td>\n",
       "\t\t<td>1.76</td>\n",
       "\t\t<td>5.43</td>\n",
       "\t\t<td>1.19</td>\n",
       "\t\t<td>0.0</td>\n",
       "\t\t<td>7</td>\n",
       "\t\t<td>1</td>\n",
       "\t</tr>\n",
       "\t<tr>\n",
       "\t\t<td>1.51115</td>\n",
       "\t\t<td>17.38</td>\n",
       "\t\t<td>0.0</td>\n",
       "\t\t<td>0.34</td>\n",
       "\t\t<td>75.41</td>\n",
       "\t\t<td>0.0</td>\n",
       "\t\t<td>6.65</td>\n",
       "\t\t<td>0.0</td>\n",
       "\t\t<td>0.0</td>\n",
       "\t\t<td>6</td>\n",
       "\t\t<td>2</td>\n",
       "\t</tr>\n",
       "</table></html>"
      ],
      "text/plain": [
       "            na    mg    ai     si     k    ca    ba    fe  gtype  sampleid\n",
       "ri                                                                        \n",
       "1.51215  12.99  3.47  1.12  72.98  0.62  8.35  0.00  0.31      1         1\n",
       "1.51316  13.02  0.00  3.04  70.48  6.21  6.96  0.00  0.00      5         1\n",
       "1.51321  13.00  0.00  3.02  70.70  6.21  6.93  0.00  0.00      5         1\n",
       "1.51409  14.25  3.09  2.08  72.28  1.10  7.08  0.00  0.00      2         1\n",
       "1.51514  14.01  2.68  3.50  69.89  1.68  5.87  2.20  0.00      5         2\n",
       "1.51514  14.85  0.00  2.42  73.72  0.00  8.39  0.56  0.00      7         1\n",
       "1.51508  15.15  0.00  2.25  73.50  0.00  8.34  0.63  0.00      7         1\n",
       "1.51299  14.40  1.74  1.54  74.55  0.00  7.59  0.00  0.00      6         1\n",
       "1.51131  13.69  3.20  1.81  72.81  1.76  5.43  1.19  0.00      7         1\n",
       "1.51115  17.38  0.00  0.34  75.41  0.00  6.65  0.00  0.00      6         2"
      ]
     },
     "execution_count": 9,
     "metadata": {},
     "output_type": "execute_result"
    }
   ],
   "source": [
    "glass_df_sample.head()"
   ]
  },
  {
   "cell_type": "code",
   "execution_count": 10,
   "id": "5e3e5923-18ad-4cf6-b4e5-e87f8854700b",
   "metadata": {},
   "outputs": [],
   "source": [
    "# Fetching train and test data\n",
    "glass_df_train= glass_df_sample[glass_df_sample['sampleid'] == 1].drop('sampleid', axis=1)\n",
    "glass_df_test = glass_df_sample[glass_df_sample['sampleid'] == 2].drop('sampleid', axis=1)"
   ]
  },
  {
   "cell_type": "code",
   "execution_count": 11,
   "id": "83d72a72-3fac-4862-b374-d21ab59be1a6",
   "metadata": {},
   "outputs": [
    {
     "data": {
      "text/plain": [
       "(171, 10)"
      ]
     },
     "execution_count": 11,
     "metadata": {},
     "output_type": "execute_result"
    }
   ],
   "source": [
    "# train data shape\n",
    "glass_df_train.shape"
   ]
  },
  {
   "cell_type": "code",
   "execution_count": 12,
   "id": "b22be730-8a7a-40f3-8e2a-cabd8d1f427f",
   "metadata": {},
   "outputs": [
    {
     "data": {
      "text/plain": [
       "(43, 10)"
      ]
     },
     "execution_count": 12,
     "metadata": {},
     "output_type": "execute_result"
    }
   ],
   "source": [
    "# test data shape\n",
    "glass_df_test.shape"
   ]
  },
  {
   "cell_type": "code",
   "execution_count": 13,
   "id": "18473df2-be15-4e1e-bc5e-739abacf8b89",
   "metadata": {},
   "outputs": [
    {
     "data": {
      "text/html": [
       "<style type=\"text/css\">\n",
       "\ttable {border:ridge 5px;}\n",
       "\ttable td {border:inset 1px;}\n",
       "\ttable tr#HeaderRow {background-color:grey; color:white;}</style>\n",
       "<html><table>\n",
       "\t<tr id=\"HeaderRow\">\n",
       "\t\t<th>ri</th>\n",
       "\t\t<th>na</th>\n",
       "\t\t<th>mg</th>\n",
       "\t\t<th>ai</th>\n",
       "\t\t<th>si</th>\n",
       "\t\t<th>k</th>\n",
       "\t\t<th>ca</th>\n",
       "\t\t<th>ba</th>\n",
       "\t\t<th>fe</th>\n",
       "\t\t<th>gtype</th>\n",
       "\t</tr>\n",
       "\t<tr>\n",
       "\t\t<td>1.51299</td>\n",
       "\t\t<td>14.4</td>\n",
       "\t\t<td>1.74</td>\n",
       "\t\t<td>1.54</td>\n",
       "\t\t<td>74.55</td>\n",
       "\t\t<td>0.0</td>\n",
       "\t\t<td>7.59</td>\n",
       "\t\t<td>0.0</td>\n",
       "\t\t<td>0.0</td>\n",
       "\t\t<td>6</td>\n",
       "\t</tr>\n",
       "\t<tr>\n",
       "\t\t<td>1.51321</td>\n",
       "\t\t<td>13.0</td>\n",
       "\t\t<td>0.0</td>\n",
       "\t\t<td>3.02</td>\n",
       "\t\t<td>70.7</td>\n",
       "\t\t<td>6.21</td>\n",
       "\t\t<td>6.93</td>\n",
       "\t\t<td>0.0</td>\n",
       "\t\t<td>0.0</td>\n",
       "\t\t<td>5</td>\n",
       "\t</tr>\n",
       "\t<tr>\n",
       "\t\t<td>1.51409</td>\n",
       "\t\t<td>14.25</td>\n",
       "\t\t<td>3.09</td>\n",
       "\t\t<td>2.08</td>\n",
       "\t\t<td>72.28</td>\n",
       "\t\t<td>1.1</td>\n",
       "\t\t<td>7.08</td>\n",
       "\t\t<td>0.0</td>\n",
       "\t\t<td>0.0</td>\n",
       "\t\t<td>2</td>\n",
       "\t</tr>\n",
       "\t<tr>\n",
       "\t\t<td>1.51508</td>\n",
       "\t\t<td>15.15</td>\n",
       "\t\t<td>0.0</td>\n",
       "\t\t<td>2.25</td>\n",
       "\t\t<td>73.5</td>\n",
       "\t\t<td>0.0</td>\n",
       "\t\t<td>8.34</td>\n",
       "\t\t<td>0.63</td>\n",
       "\t\t<td>0.0</td>\n",
       "\t\t<td>7</td>\n",
       "\t</tr>\n",
       "\t<tr>\n",
       "\t\t<td>1.51531</td>\n",
       "\t\t<td>14.38</td>\n",
       "\t\t<td>0.0</td>\n",
       "\t\t<td>2.66</td>\n",
       "\t\t<td>73.1</td>\n",
       "\t\t<td>0.04</td>\n",
       "\t\t<td>9.08</td>\n",
       "\t\t<td>0.64</td>\n",
       "\t\t<td>0.0</td>\n",
       "\t\t<td>7</td>\n",
       "\t</tr>\n",
       "\t<tr>\n",
       "\t\t<td>1.51545</td>\n",
       "\t\t<td>14.14</td>\n",
       "\t\t<td>0.0</td>\n",
       "\t\t<td>2.68</td>\n",
       "\t\t<td>73.39</td>\n",
       "\t\t<td>0.08</td>\n",
       "\t\t<td>9.07</td>\n",
       "\t\t<td>0.61</td>\n",
       "\t\t<td>0.05</td>\n",
       "\t\t<td>7</td>\n",
       "\t</tr>\n",
       "\t<tr>\n",
       "\t\t<td>1.51514</td>\n",
       "\t\t<td>14.85</td>\n",
       "\t\t<td>0.0</td>\n",
       "\t\t<td>2.42</td>\n",
       "\t\t<td>73.72</td>\n",
       "\t\t<td>0.0</td>\n",
       "\t\t<td>8.39</td>\n",
       "\t\t<td>0.56</td>\n",
       "\t\t<td>0.0</td>\n",
       "\t\t<td>7</td>\n",
       "\t</tr>\n",
       "\t<tr>\n",
       "\t\t<td>1.51316</td>\n",
       "\t\t<td>13.02</td>\n",
       "\t\t<td>0.0</td>\n",
       "\t\t<td>3.04</td>\n",
       "\t\t<td>70.48</td>\n",
       "\t\t<td>6.21</td>\n",
       "\t\t<td>6.96</td>\n",
       "\t\t<td>0.0</td>\n",
       "\t\t<td>0.0</td>\n",
       "\t\t<td>5</td>\n",
       "\t</tr>\n",
       "\t<tr>\n",
       "\t\t<td>1.51215</td>\n",
       "\t\t<td>12.99</td>\n",
       "\t\t<td>3.47</td>\n",
       "\t\t<td>1.12</td>\n",
       "\t\t<td>72.98</td>\n",
       "\t\t<td>0.62</td>\n",
       "\t\t<td>8.35</td>\n",
       "\t\t<td>0.0</td>\n",
       "\t\t<td>0.31</td>\n",
       "\t\t<td>1</td>\n",
       "\t</tr>\n",
       "\t<tr>\n",
       "\t\t<td>1.51131</td>\n",
       "\t\t<td>13.69</td>\n",
       "\t\t<td>3.2</td>\n",
       "\t\t<td>1.81</td>\n",
       "\t\t<td>72.81</td>\n",
       "\t\t<td>1.76</td>\n",
       "\t\t<td>5.43</td>\n",
       "\t\t<td>1.19</td>\n",
       "\t\t<td>0.0</td>\n",
       "\t\t<td>7</td>\n",
       "\t</tr>\n",
       "</table></html>"
      ],
      "text/plain": [
       "            na    mg    ai     si     k    ca    ba    fe  gtype\n",
       "ri                                                              \n",
       "1.51299  14.40  1.74  1.54  74.55  0.00  7.59  0.00  0.00      6\n",
       "1.51321  13.00  0.00  3.02  70.70  6.21  6.93  0.00  0.00      5\n",
       "1.51409  14.25  3.09  2.08  72.28  1.10  7.08  0.00  0.00      2\n",
       "1.51508  15.15  0.00  2.25  73.50  0.00  8.34  0.63  0.00      7\n",
       "1.51531  14.38  0.00  2.66  73.10  0.04  9.08  0.64  0.00      7\n",
       "1.51545  14.14  0.00  2.68  73.39  0.08  9.07  0.61  0.05      7\n",
       "1.51514  14.85  0.00  2.42  73.72  0.00  8.39  0.56  0.00      7\n",
       "1.51316  13.02  0.00  3.04  70.48  6.21  6.96  0.00  0.00      5\n",
       "1.51215  12.99  3.47  1.12  72.98  0.62  8.35  0.00  0.31      1\n",
       "1.51131  13.69  3.20  1.81  72.81  1.76  5.43  1.19  0.00      7"
      ]
     },
     "execution_count": 13,
     "metadata": {},
     "output_type": "execute_result"
    }
   ],
   "source": [
    "#train dataset\n",
    "glass_df_train.head()"
   ]
  },
  {
   "cell_type": "code",
   "execution_count": 14,
   "id": "58c9d763-4f19-449e-a35b-676d4d026acc",
   "metadata": {},
   "outputs": [
    {
     "data": {
      "text/html": [
       "<style type=\"text/css\">\n",
       "\ttable {border:ridge 5px;}\n",
       "\ttable td {border:inset 1px;}\n",
       "\ttable tr#HeaderRow {background-color:grey; color:white;}</style>\n",
       "<html><table>\n",
       "\t<tr id=\"HeaderRow\">\n",
       "\t\t<th>ri</th>\n",
       "\t\t<th>na</th>\n",
       "\t\t<th>mg</th>\n",
       "\t\t<th>ai</th>\n",
       "\t\t<th>si</th>\n",
       "\t\t<th>k</th>\n",
       "\t\t<th>ca</th>\n",
       "\t\t<th>ba</th>\n",
       "\t\t<th>fe</th>\n",
       "\t\t<th>gtype</th>\n",
       "\t</tr>\n",
       "\t<tr>\n",
       "\t\t<td>1.51569</td>\n",
       "\t\t<td>13.24</td>\n",
       "\t\t<td>3.49</td>\n",
       "\t\t<td>1.47</td>\n",
       "\t\t<td>73.25</td>\n",
       "\t\t<td>0.38</td>\n",
       "\t\t<td>8.03</td>\n",
       "\t\t<td>0.0</td>\n",
       "\t\t<td>0.0</td>\n",
       "\t\t<td>2</td>\n",
       "\t</tr>\n",
       "\t<tr>\n",
       "\t\t<td>1.5159</td>\n",
       "\t\t<td>13.24</td>\n",
       "\t\t<td>3.34</td>\n",
       "\t\t<td>1.47</td>\n",
       "\t\t<td>73.1</td>\n",
       "\t\t<td>0.39</td>\n",
       "\t\t<td>8.22</td>\n",
       "\t\t<td>0.0</td>\n",
       "\t\t<td>0.0</td>\n",
       "\t\t<td>2</td>\n",
       "\t</tr>\n",
       "\t<tr>\n",
       "\t\t<td>1.51593</td>\n",
       "\t\t<td>13.09</td>\n",
       "\t\t<td>3.59</td>\n",
       "\t\t<td>1.52</td>\n",
       "\t\t<td>73.1</td>\n",
       "\t\t<td>0.67</td>\n",
       "\t\t<td>7.83</td>\n",
       "\t\t<td>0.0</td>\n",
       "\t\t<td>0.0</td>\n",
       "\t\t<td>2</td>\n",
       "\t</tr>\n",
       "\t<tr>\n",
       "\t\t<td>1.51594</td>\n",
       "\t\t<td>13.09</td>\n",
       "\t\t<td>3.52</td>\n",
       "\t\t<td>1.55</td>\n",
       "\t\t<td>72.87</td>\n",
       "\t\t<td>0.68</td>\n",
       "\t\t<td>8.05</td>\n",
       "\t\t<td>0.0</td>\n",
       "\t\t<td>0.09</td>\n",
       "\t\t<td>2</td>\n",
       "\t</tr>\n",
       "\t<tr>\n",
       "\t\t<td>1.51645</td>\n",
       "\t\t<td>13.4</td>\n",
       "\t\t<td>3.49</td>\n",
       "\t\t<td>1.52</td>\n",
       "\t\t<td>72.65</td>\n",
       "\t\t<td>0.67</td>\n",
       "\t\t<td>8.08</td>\n",
       "\t\t<td>0.0</td>\n",
       "\t\t<td>0.1</td>\n",
       "\t\t<td>2</td>\n",
       "\t</tr>\n",
       "\t<tr>\n",
       "\t\t<td>1.51651</td>\n",
       "\t\t<td>14.38</td>\n",
       "\t\t<td>0.0</td>\n",
       "\t\t<td>1.94</td>\n",
       "\t\t<td>73.61</td>\n",
       "\t\t<td>0.0</td>\n",
       "\t\t<td>8.48</td>\n",
       "\t\t<td>1.57</td>\n",
       "\t\t<td>0.0</td>\n",
       "\t\t<td>7</td>\n",
       "\t</tr>\n",
       "\t<tr>\n",
       "\t\t<td>1.51643</td>\n",
       "\t\t<td>12.16</td>\n",
       "\t\t<td>3.52</td>\n",
       "\t\t<td>1.35</td>\n",
       "\t\t<td>72.89</td>\n",
       "\t\t<td>0.57</td>\n",
       "\t\t<td>8.53</td>\n",
       "\t\t<td>0.0</td>\n",
       "\t\t<td>0.0</td>\n",
       "\t\t<td>3</td>\n",
       "\t</tr>\n",
       "\t<tr>\n",
       "\t\t<td>1.51571</td>\n",
       "\t\t<td>12.72</td>\n",
       "\t\t<td>3.46</td>\n",
       "\t\t<td>1.56</td>\n",
       "\t\t<td>73.2</td>\n",
       "\t\t<td>0.67</td>\n",
       "\t\t<td>8.09</td>\n",
       "\t\t<td>0.0</td>\n",
       "\t\t<td>0.24</td>\n",
       "\t\t<td>1</td>\n",
       "\t</tr>\n",
       "\t<tr>\n",
       "\t\t<td>1.51514</td>\n",
       "\t\t<td>14.01</td>\n",
       "\t\t<td>2.68</td>\n",
       "\t\t<td>3.5</td>\n",
       "\t\t<td>69.89</td>\n",
       "\t\t<td>1.68</td>\n",
       "\t\t<td>5.87</td>\n",
       "\t\t<td>2.2</td>\n",
       "\t\t<td>0.0</td>\n",
       "\t\t<td>5</td>\n",
       "\t</tr>\n",
       "\t<tr>\n",
       "\t\t<td>1.51115</td>\n",
       "\t\t<td>17.38</td>\n",
       "\t\t<td>0.0</td>\n",
       "\t\t<td>0.34</td>\n",
       "\t\t<td>75.41</td>\n",
       "\t\t<td>0.0</td>\n",
       "\t\t<td>6.65</td>\n",
       "\t\t<td>0.0</td>\n",
       "\t\t<td>0.0</td>\n",
       "\t\t<td>6</td>\n",
       "\t</tr>\n",
       "</table></html>"
      ],
      "text/plain": [
       "            na    mg    ai     si     k    ca    ba    fe  gtype\n",
       "ri                                                              \n",
       "1.51569  13.24  3.49  1.47  73.25  0.38  8.03  0.00  0.00      2\n",
       "1.51590  13.24  3.34  1.47  73.10  0.39  8.22  0.00  0.00      2\n",
       "1.51593  13.09  3.59  1.52  73.10  0.67  7.83  0.00  0.00      2\n",
       "1.51594  13.09  3.52  1.55  72.87  0.68  8.05  0.00  0.09      2\n",
       "1.51645  13.40  3.49  1.52  72.65  0.67  8.08  0.00  0.10      2\n",
       "1.51651  14.38  0.00  1.94  73.61  0.00  8.48  1.57  0.00      7\n",
       "1.51643  12.16  3.52  1.35  72.89  0.57  8.53  0.00  0.00      3\n",
       "1.51571  12.72  3.46  1.56  73.20  0.67  8.09  0.00  0.24      1\n",
       "1.51514  14.01  2.68  3.50  69.89  1.68  5.87  2.20  0.00      5\n",
       "1.51115  17.38  0.00  0.34  75.41  0.00  6.65  0.00  0.00      6"
      ]
     },
     "execution_count": 14,
     "metadata": {},
     "output_type": "execute_result"
    }
   ],
   "source": [
    "# test dataset\n",
    "glass_df_test.head()"
   ]
  },
  {
   "cell_type": "markdown",
   "id": "856ea871-93d8-4ea2-b524-1acb23bd7eb5",
   "metadata": {},
   "source": [
    "## <b><span style='color:#F1A424'>| 2.</span> Fitting AutoML </b>"
   ]
  },
  {
   "cell_type": "code",
   "execution_count": 15,
   "id": "f3650aa5-a408-4227-a88d-79c0f3d36d3c",
   "metadata": {},
   "outputs": [],
   "source": [
    "# Creating AutoML instance with task type 'Classification'\n",
    "# Using only 'decision_forest' and 'xgboost' models from model training.\n",
    "# Keeping early stopping metrics threshold to 0.6 for 'MICRO-F1', early stopping timer threshold to 100 sec\n",
    "# and verbose level 2 for detailed loggging\n",
    "\n",
    "aml = AutoML(task_type=\"Classification\",\n",
    "             include=['decision_forest', 'xgboost'],\n",
    "             stopping_metric='MICRO-F1',\n",
    "             stopping_tolerance=0.60,\n",
    "             max_runtime_secs=100,\n",
    "             verbose=2)"
   ]
  },
  {
   "cell_type": "code",
   "execution_count": 16,
   "id": "a1b7a771-1bfa-40c9-8ad0-c377d320c137",
   "metadata": {
    "collapsed": true,
    "jupyter": {
     "outputs_hidden": true
    },
    "tags": []
   },
   "outputs": [
    {
     "data": {
      "text/html": [
       "\n",
       "            <style>\n",
       "                .custom-div {\n",
       "                    background-color: lightgray;\n",
       "                    color: #000000;\n",
       "                    padding: 10px;\n",
       "                    border-radius: 8px;\n",
       "                    box-shadow: 0 3px 4px rgba(0, 0, 0, 0.2);\n",
       "                    margin-bottom: 10px;\n",
       "                    text-align: center;\n",
       "                }\n",
       "            </style>\n",
       "        <br><div class=\"custom-div\"><h3><span style=\"color: green;\"></span>1. Feature Exploration -> 2. Feature Engineering -> 3. Data Preparation -> 4. Model Training & Evaluation<center></h3></center></div>"
      ],
      "text/plain": [
       "<IPython.core.display.HTML object>"
      ]
     },
     "metadata": {},
     "output_type": "display_data"
    },
    {
     "name": "stdout",
     "output_type": "stream",
     "text": [
      "Feature Exploration started ...\n",
      "\n",
      "Data Overview:\n",
      "Total Rows in the data: 171\n",
      "Total Columns in the data: 10\n",
      "\n",
      "Column Summary:\n"
     ]
    },
    {
     "data": {
      "text/html": [
       "<style type=\"text/css\">\n",
       "\ttable {border:ridge 5px;}\n",
       "\ttable td {border:inset 1px;}\n",
       "\ttable tr#HeaderRow {background-color:grey; color:white;}</style>\n",
       "<html><table>\n",
       "\t<tr id=\"HeaderRow\">\n",
       "\t\t<th>ColumnName</th>\n",
       "\t\t<th>Datatype</th>\n",
       "\t\t<th>NonNullCount</th>\n",
       "\t\t<th>NullCount</th>\n",
       "\t\t<th>BlankCount</th>\n",
       "\t\t<th>ZeroCount</th>\n",
       "\t\t<th>PositiveCount</th>\n",
       "\t\t<th>NegativeCount</th>\n",
       "\t\t<th>NullPercentage</th>\n",
       "\t\t<th>NonNullPercentage</th>\n",
       "\t</tr>\n",
       "\t<tr>\n",
       "\t\t<td>ca</td>\n",
       "\t\t<td>FLOAT</td>\n",
       "\t\t<td>171</td>\n",
       "\t\t<td>0</td>\n",
       "\t\t<td>None</td>\n",
       "\t\t<td>0</td>\n",
       "\t\t<td>171</td>\n",
       "\t\t<td>0</td>\n",
       "\t\t<td>0.0</td>\n",
       "\t\t<td>100.0</td>\n",
       "\t</tr>\n",
       "\t<tr>\n",
       "\t\t<td>ba</td>\n",
       "\t\t<td>FLOAT</td>\n",
       "\t\t<td>171</td>\n",
       "\t\t<td>0</td>\n",
       "\t\t<td>None</td>\n",
       "\t\t<td>140</td>\n",
       "\t\t<td>31</td>\n",
       "\t\t<td>0</td>\n",
       "\t\t<td>0.0</td>\n",
       "\t\t<td>100.0</td>\n",
       "\t</tr>\n",
       "\t<tr>\n",
       "\t\t<td>ri</td>\n",
       "\t\t<td>FLOAT</td>\n",
       "\t\t<td>171</td>\n",
       "\t\t<td>0</td>\n",
       "\t\t<td>None</td>\n",
       "\t\t<td>0</td>\n",
       "\t\t<td>171</td>\n",
       "\t\t<td>0</td>\n",
       "\t\t<td>0.0</td>\n",
       "\t\t<td>100.0</td>\n",
       "\t</tr>\n",
       "\t<tr>\n",
       "\t\t<td>na</td>\n",
       "\t\t<td>FLOAT</td>\n",
       "\t\t<td>171</td>\n",
       "\t\t<td>0</td>\n",
       "\t\t<td>None</td>\n",
       "\t\t<td>0</td>\n",
       "\t\t<td>171</td>\n",
       "\t\t<td>0</td>\n",
       "\t\t<td>0.0</td>\n",
       "\t\t<td>100.0</td>\n",
       "\t</tr>\n",
       "\t<tr>\n",
       "\t\t<td>k</td>\n",
       "\t\t<td>FLOAT</td>\n",
       "\t\t<td>171</td>\n",
       "\t\t<td>0</td>\n",
       "\t\t<td>None</td>\n",
       "\t\t<td>24</td>\n",
       "\t\t<td>147</td>\n",
       "\t\t<td>0</td>\n",
       "\t\t<td>0.0</td>\n",
       "\t\t<td>100.0</td>\n",
       "\t</tr>\n",
       "\t<tr>\n",
       "\t\t<td>fe</td>\n",
       "\t\t<td>FLOAT</td>\n",
       "\t\t<td>171</td>\n",
       "\t\t<td>0</td>\n",
       "\t\t<td>None</td>\n",
       "\t\t<td>118</td>\n",
       "\t\t<td>53</td>\n",
       "\t\t<td>0</td>\n",
       "\t\t<td>0.0</td>\n",
       "\t\t<td>100.0</td>\n",
       "\t</tr>\n",
       "\t<tr>\n",
       "\t\t<td>mg</td>\n",
       "\t\t<td>FLOAT</td>\n",
       "\t\t<td>171</td>\n",
       "\t\t<td>0</td>\n",
       "\t\t<td>None</td>\n",
       "\t\t<td>33</td>\n",
       "\t\t<td>138</td>\n",
       "\t\t<td>0</td>\n",
       "\t\t<td>0.0</td>\n",
       "\t\t<td>100.0</td>\n",
       "\t</tr>\n",
       "\t<tr>\n",
       "\t\t<td>si</td>\n",
       "\t\t<td>FLOAT</td>\n",
       "\t\t<td>171</td>\n",
       "\t\t<td>0</td>\n",
       "\t\t<td>None</td>\n",
       "\t\t<td>0</td>\n",
       "\t\t<td>171</td>\n",
       "\t\t<td>0</td>\n",
       "\t\t<td>0.0</td>\n",
       "\t\t<td>100.0</td>\n",
       "\t</tr>\n",
       "\t<tr>\n",
       "\t\t<td>gtype</td>\n",
       "\t\t<td>INTEGER</td>\n",
       "\t\t<td>171</td>\n",
       "\t\t<td>0</td>\n",
       "\t\t<td>None</td>\n",
       "\t\t<td>0</td>\n",
       "\t\t<td>171</td>\n",
       "\t\t<td>0</td>\n",
       "\t\t<td>0.0</td>\n",
       "\t\t<td>100.0</td>\n",
       "\t</tr>\n",
       "\t<tr>\n",
       "\t\t<td>ai</td>\n",
       "\t\t<td>FLOAT</td>\n",
       "\t\t<td>171</td>\n",
       "\t\t<td>0</td>\n",
       "\t\t<td>None</td>\n",
       "\t\t<td>0</td>\n",
       "\t\t<td>171</td>\n",
       "\t\t<td>0</td>\n",
       "\t\t<td>0.0</td>\n",
       "\t\t<td>100.0</td>\n",
       "\t</tr>\n",
       "</table></html>"
      ],
      "text/plain": [
       "  ColumnName Datatype  NonNullCount  NullCount BlankCount  ZeroCount  PositiveCount  NegativeCount  NullPercentage  NonNullPercentage\n",
       "0         ca    FLOAT           171          0       None          0            171              0             0.0              100.0\n",
       "1         ba    FLOAT           171          0       None        140             31              0             0.0              100.0\n",
       "2         ri    FLOAT           171          0       None          0            171              0             0.0              100.0\n",
       "3         na    FLOAT           171          0       None          0            171              0             0.0              100.0\n",
       "4          k    FLOAT           171          0       None         24            147              0             0.0              100.0\n",
       "5         fe    FLOAT           171          0       None        118             53              0             0.0              100.0\n",
       "6         mg    FLOAT           171          0       None         33            138              0             0.0              100.0\n",
       "7         si    FLOAT           171          0       None          0            171              0             0.0              100.0\n",
       "8      gtype  INTEGER           171          0       None          0            171              0             0.0              100.0\n",
       "9         ai    FLOAT           171          0       None          0            171              0             0.0              100.0"
      ]
     },
     "metadata": {},
     "output_type": "display_data"
    },
    {
     "name": "stdout",
     "output_type": "stream",
     "text": [
      "\n",
      "Statistics of Data:\n"
     ]
    },
    {
     "data": {
      "text/html": [
       "<style type=\"text/css\">\n",
       "\ttable {border:ridge 5px;}\n",
       "\ttable td {border:inset 1px;}\n",
       "\ttable tr#HeaderRow {background-color:grey; color:white;}</style>\n",
       "<html><table>\n",
       "\t<tr id=\"HeaderRow\">\n",
       "\t\t<th>func</th>\n",
       "\t\t<th>ri</th>\n",
       "\t\t<th>na</th>\n",
       "\t\t<th>mg</th>\n",
       "\t\t<th>ai</th>\n",
       "\t\t<th>si</th>\n",
       "\t\t<th>k</th>\n",
       "\t\t<th>ca</th>\n",
       "\t\t<th>ba</th>\n",
       "\t\t<th>fe</th>\n",
       "\t\t<th>gtype</th>\n",
       "\t</tr>\n",
       "\t<tr>\n",
       "\t\t<td>min</td>\n",
       "\t\t<td>1.511</td>\n",
       "\t\t<td>10.73</td>\n",
       "\t\t<td>0</td>\n",
       "\t\t<td>0.29</td>\n",
       "\t\t<td>69.81</td>\n",
       "\t\t<td>0</td>\n",
       "\t\t<td>5.43</td>\n",
       "\t\t<td>0</td>\n",
       "\t\t<td>0</td>\n",
       "\t\t<td>1</td>\n",
       "\t</tr>\n",
       "\t<tr>\n",
       "\t\t<td>std</td>\n",
       "\t\t<td>0.003</td>\n",
       "\t\t<td>0.803</td>\n",
       "\t\t<td>1.431</td>\n",
       "\t\t<td>0.495</td>\n",
       "\t\t<td>0.764</td>\n",
       "\t\t<td>0.712</td>\n",
       "\t\t<td>1.482</td>\n",
       "\t\t<td>0.494</td>\n",
       "\t\t<td>0.091</td>\n",
       "\t\t<td>2.111</td>\n",
       "\t</tr>\n",
       "\t<tr>\n",
       "\t\t<td>25%</td>\n",
       "\t\t<td>1.516</td>\n",
       "\t\t<td>12.895</td>\n",
       "\t\t<td>2.195</td>\n",
       "\t\t<td>1.19</td>\n",
       "\t\t<td>72.335</td>\n",
       "\t\t<td>0.12</td>\n",
       "\t\t<td>8.24</td>\n",
       "\t\t<td>0</td>\n",
       "\t\t<td>0</td>\n",
       "\t\t<td>1</td>\n",
       "\t</tr>\n",
       "\t<tr>\n",
       "\t\t<td>50%</td>\n",
       "\t\t<td>1.518</td>\n",
       "\t\t<td>13.29</td>\n",
       "\t\t<td>3.48</td>\n",
       "\t\t<td>1.38</td>\n",
       "\t\t<td>72.81</td>\n",
       "\t\t<td>0.55</td>\n",
       "\t\t<td>8.58</td>\n",
       "\t\t<td>0</td>\n",
       "\t\t<td>0</td>\n",
       "\t\t<td>2</td>\n",
       "\t</tr>\n",
       "\t<tr>\n",
       "\t\t<td>75%</td>\n",
       "\t\t<td>1.519</td>\n",
       "\t\t<td>13.82</td>\n",
       "\t\t<td>3.585</td>\n",
       "\t\t<td>1.635</td>\n",
       "\t\t<td>73.08</td>\n",
       "\t\t<td>0.61</td>\n",
       "\t\t<td>9.145</td>\n",
       "\t\t<td>0</td>\n",
       "\t\t<td>0.09</td>\n",
       "\t\t<td>3</td>\n",
       "\t</tr>\n",
       "\t<tr>\n",
       "\t\t<td>max</td>\n",
       "\t\t<td>1.534</td>\n",
       "\t\t<td>15.79</td>\n",
       "\t\t<td>3.98</td>\n",
       "\t\t<td>3.04</td>\n",
       "\t\t<td>75.18</td>\n",
       "\t\t<td>6.21</td>\n",
       "\t\t<td>16.19</td>\n",
       "\t\t<td>3.15</td>\n",
       "\t\t<td>0.37</td>\n",
       "\t\t<td>7</td>\n",
       "\t</tr>\n",
       "\t<tr>\n",
       "\t\t<td>mean</td>\n",
       "\t\t<td>1.518</td>\n",
       "\t\t<td>13.381</td>\n",
       "\t\t<td>2.682</td>\n",
       "\t\t<td>1.455</td>\n",
       "\t\t<td>72.649</td>\n",
       "\t\t<td>0.508</td>\n",
       "\t\t<td>8.974</td>\n",
       "\t\t<td>0.172</td>\n",
       "\t\t<td>0.052</td>\n",
       "\t\t<td>2.795</td>\n",
       "\t</tr>\n",
       "\t<tr>\n",
       "\t\t<td>count</td>\n",
       "\t\t<td>171</td>\n",
       "\t\t<td>171</td>\n",
       "\t\t<td>171</td>\n",
       "\t\t<td>171</td>\n",
       "\t\t<td>171</td>\n",
       "\t\t<td>171</td>\n",
       "\t\t<td>171</td>\n",
       "\t\t<td>171</td>\n",
       "\t\t<td>171</td>\n",
       "\t\t<td>171</td>\n",
       "\t</tr>\n",
       "</table></html>"
      ],
      "text/plain": [
       "            ri       na       mg       ai       si        k       ca       ba       fe    gtype\n",
       "func                                                                                           \n",
       "min      1.511   10.730    0.000    0.290   69.810    0.000    5.430    0.000    0.000    1.000\n",
       "std      0.003    0.803    1.431    0.495    0.764    0.712    1.482    0.494    0.091    2.111\n",
       "25%      1.516   12.895    2.195    1.190   72.335    0.120    8.240    0.000    0.000    1.000\n",
       "50%      1.518   13.290    3.480    1.380   72.810    0.550    8.580    0.000    0.000    2.000\n",
       "75%      1.519   13.820    3.585    1.635   73.080    0.610    9.145    0.000    0.090    3.000\n",
       "max      1.534   15.790    3.980    3.040   75.180    6.210   16.190    3.150    0.370    7.000\n",
       "mean     1.518   13.381    2.682    1.455   72.649    0.508    8.974    0.172    0.052    2.795\n",
       "count  171.000  171.000  171.000  171.000  171.000  171.000  171.000  171.000  171.000  171.000"
      ]
     },
     "metadata": {},
     "output_type": "display_data"
    },
    {
     "name": "stdout",
     "output_type": "stream",
     "text": [
      "\n",
      "Target Column Distribution:\n"
     ]
    },
    {
     "data": {
      "image/png": "[encoded data removed]",
      "text/plain": [
       "<Figure size 600x600 with 1 Axes>"
      ]
     },
     "metadata": {},
     "output_type": "display_data"
    },
    {
     "name": "stdout",
     "output_type": "stream",
     "text": [
      "Columns with outlier percentage :-                                                                                                                                                                                                                                                                                                                                                                                                                                                                                  \n",
      "  ColumnName  OutlierPercentage\n",
      "0         si           6.432749\n",
      "1         na           3.508772\n",
      "2         mg          19.298246\n",
      "3          k           3.508772\n",
      "4         ca          12.280702\n",
      "5         ri           8.771930\n",
      "6         fe           8.771930\n",
      "7         ba          18.128655\n",
      "8         ai           8.187135\n",
      "9      gtype          14.035088\n",
      "                                                                                        \r"
     ]
    },
    {
     "data": {
      "text/html": [
       "\n",
       "            <style>\n",
       "                .custom-div {\n",
       "                    background-color: lightgray;\n",
       "                    color: #000000;\n",
       "                    padding: 10px;\n",
       "                    border-radius: 8px;\n",
       "                    box-shadow: 0 3px 4px rgba(0 -  0 -  0 -  0.2);\n",
       "                    margin-bottom: 10px;\n",
       "                    text-align: center;\n",
       "                }\n",
       "            </style>\n",
       "        <br><div class=\"custom-div\"><h3><span style=\"color: green;\">1. Feature Exploration -></span> 2. Feature Engineering -> 3. Data Preparation -> 4. Model Training & Evaluation<center></h3></center></div>"
      ],
      "text/plain": [
       "<IPython.core.display.HTML object>"
      ]
     },
     "metadata": {},
     "output_type": "display_data"
    },
    {
     "name": "stdout",
     "output_type": "stream",
     "text": [
      "                                                                                        \r"
     ]
    },
    {
     "data": {
      "text/html": [
       "Feature Engineering started ..."
      ],
      "text/plain": [
       "<IPython.core.display.HTML object>"
      ]
     },
     "metadata": {},
     "output_type": "display_data"
    },
    {
     "name": "stdout",
     "output_type": "stream",
     "text": [
      "                                                                                        \r"
     ]
    },
    {
     "data": {
      "text/html": [
       "\n",
       "Handling duplicate records present in dataset ..."
      ],
      "text/plain": [
       "<IPython.core.display.HTML object>"
      ]
     },
     "metadata": {},
     "output_type": "display_data"
    },
    {
     "name": "stdout",
     "output_type": "stream",
     "text": [
      "Analysis completed. No action taken.                                                    \n",
      "                                                                                        \r"
     ]
    },
    {
     "data": {
      "text/html": [
       "Total time to handle duplicate records: 1.64 sec  "
      ],
      "text/plain": [
       "<IPython.core.display.HTML object>"
      ]
     },
     "metadata": {},
     "output_type": "display_data"
    },
    {
     "name": "stdout",
     "output_type": "stream",
     "text": [
      "                                                                                        \r"
     ]
    },
    {
     "data": {
      "text/html": [
       "\n",
       "Handling less significant features from data ..."
      ],
      "text/plain": [
       "<IPython.core.display.HTML object>"
      ]
     },
     "metadata": {},
     "output_type": "display_data"
    },
    {
     "name": "stdout",
     "output_type": "stream",
     "text": [
      "                                                                                        \r"
     ]
    },
    {
     "data": {
      "text/html": [
       "Total time to handle less significant features: 5.84 sec  "
      ],
      "text/plain": [
       "<IPython.core.display.HTML object>"
      ]
     },
     "metadata": {},
     "output_type": "display_data"
    },
    {
     "name": "stdout",
     "output_type": "stream",
     "text": [
      "                                                                                         \r"
     ]
    },
    {
     "data": {
      "text/html": [
       "\n",
       "Handling Date Features ..."
      ],
      "text/plain": [
       "<IPython.core.display.HTML object>"
      ]
     },
     "metadata": {},
     "output_type": "display_data"
    },
    {
     "name": "stdout",
     "output_type": "stream",
     "text": [
      "Analysis Completed. Dataset does not contain any feature related to dates. No action needed.\n",
      "                                                                                         \r"
     ]
    },
    {
     "data": {
      "text/html": [
       "Total time to handle date features: 0.00 sec\n"
      ],
      "text/plain": [
       "<IPython.core.display.HTML object>"
      ]
     },
     "metadata": {},
     "output_type": "display_data"
    },
    {
     "name": "stdout",
     "output_type": "stream",
     "text": [
      "                                                                                         \r"
     ]
    },
    {
     "data": {
      "text/html": [
       "\n",
       "Checking Missing values in dataset ..."
      ],
      "text/plain": [
       "<IPython.core.display.HTML object>"
      ]
     },
     "metadata": {},
     "output_type": "display_data"
    },
    {
     "name": "stdout",
     "output_type": "stream",
     "text": [
      "Analysis Completed. No Missing Values Detected.                                          \n",
      "                                                                                         \r"
     ]
    },
    {
     "data": {
      "text/html": [
       "Total time to find missing values in data: 8.35 sec  "
      ],
      "text/plain": [
       "<IPython.core.display.HTML object>"
      ]
     },
     "metadata": {},
     "output_type": "display_data"
    },
    {
     "name": "stdout",
     "output_type": "stream",
     "text": [
      "                                                                                         \r"
     ]
    },
    {
     "data": {
      "text/html": [
       "\n",
       "Imputing Missing Values ..."
      ],
      "text/plain": [
       "<IPython.core.display.HTML object>"
      ]
     },
     "metadata": {},
     "output_type": "display_data"
    },
    {
     "name": "stdout",
     "output_type": "stream",
     "text": [
      "Analysis completed. No imputation required.                                              \n",
      "                                                                                         \r"
     ]
    },
    {
     "data": {
      "text/html": [
       "Time taken to perform imputation: 0.00 sec  "
      ],
      "text/plain": [
       "<IPython.core.display.HTML object>"
      ]
     },
     "metadata": {},
     "output_type": "display_data"
    },
    {
     "name": "stdout",
     "output_type": "stream",
     "text": [
      "                                                                                         \r"
     ]
    },
    {
     "data": {
      "text/html": [
       "\n",
       "Performing encoding for categorical columns ..."
      ],
      "text/plain": [
       "<IPython.core.display.HTML object>"
      ]
     },
     "metadata": {},
     "output_type": "display_data"
    },
    {
     "name": "stdout",
     "output_type": "stream",
     "text": [
      "Analysis completed. No categorical columns were found.                                   \n",
      "                                                                                         \r"
     ]
    },
    {
     "data": {
      "text/html": [
       "Time taken to encode the columns: 1.57 sec"
      ],
      "text/plain": [
       "<IPython.core.display.HTML object>"
      ]
     },
     "metadata": {},
     "output_type": "display_data"
    },
    {
     "name": "stdout",
     "output_type": "stream",
     "text": [
      "                                                                                         \r"
     ]
    },
    {
     "data": {
      "text/html": [
       "\n",
       "            <style>\n",
       "                .custom-div {\n",
       "                    background-color: lightgray;\n",
       "                    color: #000000;\n",
       "                    padding: 10px;\n",
       "                    border-radius: 8px;\n",
       "                    box-shadow: 0 3px 4px rgba(0 -  0 -  0 -  0.2);\n",
       "                    margin-bottom: 10px;\n",
       "                    text-align: center;\n",
       "                }\n",
       "            </style>\n",
       "        <br><div class=\"custom-div\"><h3><span style=\"color: green;\">1. Feature Exploration -> 2. Feature Engineering -></span> 3. Data Preparation -> 4. Model Training & Evaluation<center></h3></center></div>"
      ],
      "text/plain": [
       "<IPython.core.display.HTML object>"
      ]
     },
     "metadata": {},
     "output_type": "display_data"
    },
    {
     "name": "stdout",
     "output_type": "stream",
     "text": [
      "                                                                                         \r"
     ]
    },
    {
     "data": {
      "text/html": [
       "Data preparation started ..."
      ],
      "text/plain": [
       "<IPython.core.display.HTML object>"
      ]
     },
     "metadata": {},
     "output_type": "display_data"
    },
    {
     "name": "stdout",
     "output_type": "stream",
     "text": [
      "                                                                                         \r"
     ]
    },
    {
     "data": {
      "text/html": [
       "\n",
       "Spliting of dataset into training and testing ..."
      ],
      "text/plain": [
       "<IPython.core.display.HTML object>"
      ]
     },
     "metadata": {},
     "output_type": "display_data"
    },
    {
     "name": "stdout",
     "output_type": "stream",
     "text": [
      "Training size : 0.8                                                                      \n",
      "Testing size  : 0.2                                                                      \n",
      "                                                                                         \r"
     ]
    },
    {
     "data": {
      "text/html": [
       "Training data sample"
      ],
      "text/plain": [
       "<IPython.core.display.HTML object>"
      ]
     },
     "metadata": {},
     "output_type": "display_data"
    },
    {
     "data": {
      "text/html": [
       "<style type=\"text/css\">\n",
       "\ttable {border:ridge 5px;}\n",
       "\ttable td {border:inset 1px;}\n",
       "\ttable tr#HeaderRow {background-color:grey; color:white;}</style>\n",
       "<html><table>\n",
       "\t<tr id=\"HeaderRow\">\n",
       "\t\t<th>ri</th>\n",
       "\t\t<th>na</th>\n",
       "\t\t<th>mg</th>\n",
       "\t\t<th>ai</th>\n",
       "\t\t<th>si</th>\n",
       "\t\t<th>k</th>\n",
       "\t\t<th>ca</th>\n",
       "\t\t<th>ba</th>\n",
       "\t\t<th>fe</th>\n",
       "\t\t<th>gtype</th>\n",
       "\t\t<th>id</th>\n",
       "\t</tr>\n",
       "\t<tr>\n",
       "\t\t<td>1.51709</td>\n",
       "\t\t<td>13.0</td>\n",
       "\t\t<td>3.47</td>\n",
       "\t\t<td>1.79</td>\n",
       "\t\t<td>72.72</td>\n",
       "\t\t<td>0.66</td>\n",
       "\t\t<td>8.18</td>\n",
       "\t\t<td>0.0</td>\n",
       "\t\t<td>0.0</td>\n",
       "\t\t<td>2</td>\n",
       "\t\t<td>11</td>\n",
       "\t</tr>\n",
       "\t<tr>\n",
       "\t\t<td>1.5169</td>\n",
       "\t\t<td>13.33</td>\n",
       "\t\t<td>3.54</td>\n",
       "\t\t<td>1.61</td>\n",
       "\t\t<td>72.54</td>\n",
       "\t\t<td>0.68</td>\n",
       "\t\t<td>8.11</td>\n",
       "\t\t<td>0.0</td>\n",
       "\t\t<td>0.0</td>\n",
       "\t\t<td>2</td>\n",
       "\t\t<td>13</td>\n",
       "\t</tr>\n",
       "\t<tr>\n",
       "\t\t<td>1.5167</td>\n",
       "\t\t<td>13.24</td>\n",
       "\t\t<td>3.57</td>\n",
       "\t\t<td>1.38</td>\n",
       "\t\t<td>72.7</td>\n",
       "\t\t<td>0.56</td>\n",
       "\t\t<td>8.44</td>\n",
       "\t\t<td>0.0</td>\n",
       "\t\t<td>0.1</td>\n",
       "\t\t<td>3</td>\n",
       "\t\t<td>21</td>\n",
       "\t</tr>\n",
       "\t<tr>\n",
       "\t\t<td>1.52177</td>\n",
       "\t\t<td>13.75</td>\n",
       "\t\t<td>1.01</td>\n",
       "\t\t<td>1.36</td>\n",
       "\t\t<td>72.19</td>\n",
       "\t\t<td>0.33</td>\n",
       "\t\t<td>11.14</td>\n",
       "\t\t<td>0.0</td>\n",
       "\t\t<td>0.0</td>\n",
       "\t\t<td>2</td>\n",
       "\t\t<td>10</td>\n",
       "\t</tr>\n",
       "\t<tr>\n",
       "\t\t<td>1.51784</td>\n",
       "\t\t<td>12.68</td>\n",
       "\t\t<td>3.67</td>\n",
       "\t\t<td>1.16</td>\n",
       "\t\t<td>73.11</td>\n",
       "\t\t<td>0.61</td>\n",
       "\t\t<td>8.7</td>\n",
       "\t\t<td>0.0</td>\n",
       "\t\t<td>0.0</td>\n",
       "\t\t<td>1</td>\n",
       "\t\t<td>12</td>\n",
       "\t</tr>\n",
       "\t<tr>\n",
       "\t\t<td>1.51784</td>\n",
       "\t\t<td>13.08</td>\n",
       "\t\t<td>3.49</td>\n",
       "\t\t<td>1.28</td>\n",
       "\t\t<td>72.86</td>\n",
       "\t\t<td>0.6</td>\n",
       "\t\t<td>8.49</td>\n",
       "\t\t<td>0.0</td>\n",
       "\t\t<td>0.0</td>\n",
       "\t\t<td>1</td>\n",
       "\t\t<td>20</td>\n",
       "\t</tr>\n",
       "\t<tr>\n",
       "\t\t<td>1.51674</td>\n",
       "\t\t<td>12.87</td>\n",
       "\t\t<td>3.56</td>\n",
       "\t\t<td>1.64</td>\n",
       "\t\t<td>73.14</td>\n",
       "\t\t<td>0.65</td>\n",
       "\t\t<td>7.99</td>\n",
       "\t\t<td>0.0</td>\n",
       "\t\t<td>0.0</td>\n",
       "\t\t<td>2</td>\n",
       "\t\t<td>15</td>\n",
       "\t</tr>\n",
       "\t<tr>\n",
       "\t\t<td>1.51674</td>\n",
       "\t\t<td>12.79</td>\n",
       "\t\t<td>3.52</td>\n",
       "\t\t<td>1.54</td>\n",
       "\t\t<td>73.36</td>\n",
       "\t\t<td>0.66</td>\n",
       "\t\t<td>7.9</td>\n",
       "\t\t<td>0.0</td>\n",
       "\t\t<td>0.0</td>\n",
       "\t\t<td>2</td>\n",
       "\t\t<td>23</td>\n",
       "\t</tr>\n",
       "\t<tr>\n",
       "\t\t<td>1.51841</td>\n",
       "\t\t<td>13.02</td>\n",
       "\t\t<td>3.62</td>\n",
       "\t\t<td>1.06</td>\n",
       "\t\t<td>72.34</td>\n",
       "\t\t<td>0.64</td>\n",
       "\t\t<td>9.13</td>\n",
       "\t\t<td>0.0</td>\n",
       "\t\t<td>0.15</td>\n",
       "\t\t<td>2</td>\n",
       "\t\t<td>9</td>\n",
       "\t</tr>\n",
       "\t<tr>\n",
       "\t\t<td>1.51629</td>\n",
       "\t\t<td>12.71</td>\n",
       "\t\t<td>3.33</td>\n",
       "\t\t<td>1.49</td>\n",
       "\t\t<td>73.28</td>\n",
       "\t\t<td>0.67</td>\n",
       "\t\t<td>8.24</td>\n",
       "\t\t<td>0.0</td>\n",
       "\t\t<td>0.0</td>\n",
       "\t\t<td>2</td>\n",
       "\t\t<td>17</td>\n",
       "\t</tr>\n",
       "</table></html>"
      ],
      "text/plain": [
       "        ri     na    mg    ai     si     k     ca   ba    fe  gtype  id\n",
       "0  1.51709  13.00  3.47  1.79  72.72  0.66   8.18  0.0  0.00      2  11\n",
       "1  1.51690  13.33  3.54  1.61  72.54  0.68   8.11  0.0  0.00      2  13\n",
       "2  1.51670  13.24  3.57  1.38  72.70  0.56   8.44  0.0  0.10      3  21\n",
       "3  1.52177  13.75  1.01  1.36  72.19  0.33  11.14  0.0  0.00      2  10\n",
       "4  1.51784  12.68  3.67  1.16  73.11  0.61   8.70  0.0  0.00      1  12\n",
       "5  1.51784  13.08  3.49  1.28  72.86  0.60   8.49  0.0  0.00      1  20\n",
       "6  1.51674  12.87  3.56  1.64  73.14  0.65   7.99  0.0  0.00      2  15\n",
       "7  1.51674  12.79  3.52  1.54  73.36  0.66   7.90  0.0  0.00      2  23\n",
       "8  1.51841  13.02  3.62  1.06  72.34  0.64   9.13  0.0  0.15      2   9\n",
       "9  1.51629  12.71  3.33  1.49  73.28  0.67   8.24  0.0  0.00      2  17"
      ]
     },
     "metadata": {},
     "output_type": "display_data"
    },
    {
     "name": "stdout",
     "output_type": "stream",
     "text": [
      "                                                                                         \r"
     ]
    },
    {
     "data": {
      "text/html": [
       "136 rows X 11 columns"
      ],
      "text/plain": [
       "<IPython.core.display.HTML object>"
      ]
     },
     "metadata": {},
     "output_type": "display_data"
    },
    {
     "name": "stdout",
     "output_type": "stream",
     "text": [
      "                                                                                         \r"
     ]
    },
    {
     "data": {
      "text/html": [
       "Testing data sample"
      ],
      "text/plain": [
       "<IPython.core.display.HTML object>"
      ]
     },
     "metadata": {},
     "output_type": "display_data"
    },
    {
     "data": {
      "text/html": [
       "<style type=\"text/css\">\n",
       "\ttable {border:ridge 5px;}\n",
       "\ttable td {border:inset 1px;}\n",
       "\ttable tr#HeaderRow {background-color:grey; color:white;}</style>\n",
       "<html><table>\n",
       "\t<tr id=\"HeaderRow\">\n",
       "\t\t<th>ri</th>\n",
       "\t\t<th>na</th>\n",
       "\t\t<th>mg</th>\n",
       "\t\t<th>ai</th>\n",
       "\t\t<th>si</th>\n",
       "\t\t<th>k</th>\n",
       "\t\t<th>ca</th>\n",
       "\t\t<th>ba</th>\n",
       "\t\t<th>fe</th>\n",
       "\t\t<th>gtype</th>\n",
       "\t\t<th>id</th>\n",
       "\t</tr>\n",
       "\t<tr>\n",
       "\t\t<td>1.51618</td>\n",
       "\t\t<td>13.53</td>\n",
       "\t\t<td>3.55</td>\n",
       "\t\t<td>1.54</td>\n",
       "\t\t<td>72.99</td>\n",
       "\t\t<td>0.39</td>\n",
       "\t\t<td>7.78</td>\n",
       "\t\t<td>0.0</td>\n",
       "\t\t<td>0.0</td>\n",
       "\t\t<td>1</td>\n",
       "\t\t<td>28</td>\n",
       "\t</tr>\n",
       "\t<tr>\n",
       "\t\t<td>1.51743</td>\n",
       "\t\t<td>12.2</td>\n",
       "\t\t<td>3.25</td>\n",
       "\t\t<td>1.16</td>\n",
       "\t\t<td>73.55</td>\n",
       "\t\t<td>0.62</td>\n",
       "\t\t<td>8.9</td>\n",
       "\t\t<td>0.0</td>\n",
       "\t\t<td>0.24</td>\n",
       "\t\t<td>2</td>\n",
       "\t\t<td>29</td>\n",
       "\t</tr>\n",
       "\t<tr>\n",
       "\t\t<td>1.51926</td>\n",
       "\t\t<td>13.2</td>\n",
       "\t\t<td>3.33</td>\n",
       "\t\t<td>1.28</td>\n",
       "\t\t<td>72.36</td>\n",
       "\t\t<td>0.6</td>\n",
       "\t\t<td>9.14</td>\n",
       "\t\t<td>0.0</td>\n",
       "\t\t<td>0.11</td>\n",
       "\t\t<td>1</td>\n",
       "\t\t<td>125</td>\n",
       "\t</tr>\n",
       "\t<tr>\n",
       "\t\t<td>1.51574</td>\n",
       "\t\t<td>14.86</td>\n",
       "\t\t<td>3.67</td>\n",
       "\t\t<td>1.74</td>\n",
       "\t\t<td>71.87</td>\n",
       "\t\t<td>0.16</td>\n",
       "\t\t<td>7.36</td>\n",
       "\t\t<td>0.0</td>\n",
       "\t\t<td>0.12</td>\n",
       "\t\t<td>2</td>\n",
       "\t\t<td>30</td>\n",
       "\t</tr>\n",
       "\t<tr>\n",
       "\t\t<td>1.51829</td>\n",
       "\t\t<td>14.46</td>\n",
       "\t\t<td>2.24</td>\n",
       "\t\t<td>1.62</td>\n",
       "\t\t<td>72.38</td>\n",
       "\t\t<td>0.0</td>\n",
       "\t\t<td>9.26</td>\n",
       "\t\t<td>0.0</td>\n",
       "\t\t<td>0.0</td>\n",
       "\t\t<td>6</td>\n",
       "\t\t<td>31</td>\n",
       "\t</tr>\n",
       "\t<tr>\n",
       "\t\t<td>1.51779</td>\n",
       "\t\t<td>13.64</td>\n",
       "\t\t<td>3.65</td>\n",
       "\t\t<td>0.65</td>\n",
       "\t\t<td>73.0</td>\n",
       "\t\t<td>0.06</td>\n",
       "\t\t<td>8.93</td>\n",
       "\t\t<td>0.0</td>\n",
       "\t\t<td>0.0</td>\n",
       "\t\t<td>3</td>\n",
       "\t\t<td>103</td>\n",
       "\t</tr>\n",
       "\t<tr>\n",
       "\t\t<td>1.52227</td>\n",
       "\t\t<td>14.17</td>\n",
       "\t\t<td>3.81</td>\n",
       "\t\t<td>0.78</td>\n",
       "\t\t<td>71.35</td>\n",
       "\t\t<td>0.0</td>\n",
       "\t\t<td>9.69</td>\n",
       "\t\t<td>0.0</td>\n",
       "\t\t<td>0.0</td>\n",
       "\t\t<td>1</td>\n",
       "\t\t<td>27</td>\n",
       "\t</tr>\n",
       "\t<tr>\n",
       "\t\t<td>1.51778</td>\n",
       "\t\t<td>13.21</td>\n",
       "\t\t<td>2.81</td>\n",
       "\t\t<td>1.29</td>\n",
       "\t\t<td>72.98</td>\n",
       "\t\t<td>0.51</td>\n",
       "\t\t<td>9.02</td>\n",
       "\t\t<td>0.0</td>\n",
       "\t\t<td>0.09</td>\n",
       "\t\t<td>1</td>\n",
       "\t\t<td>123</td>\n",
       "\t</tr>\n",
       "\t<tr>\n",
       "\t\t<td>1.51763</td>\n",
       "\t\t<td>12.8</td>\n",
       "\t\t<td>3.66</td>\n",
       "\t\t<td>1.27</td>\n",
       "\t\t<td>73.01</td>\n",
       "\t\t<td>0.6</td>\n",
       "\t\t<td>8.56</td>\n",
       "\t\t<td>0.0</td>\n",
       "\t\t<td>0.0</td>\n",
       "\t\t<td>1</td>\n",
       "\t\t<td>86</td>\n",
       "\t</tr>\n",
       "\t<tr>\n",
       "\t\t<td>1.51685</td>\n",
       "\t\t<td>14.92</td>\n",
       "\t\t<td>0.0</td>\n",
       "\t\t<td>1.99</td>\n",
       "\t\t<td>73.06</td>\n",
       "\t\t<td>0.0</td>\n",
       "\t\t<td>8.4</td>\n",
       "\t\t<td>1.59</td>\n",
       "\t\t<td>0.0</td>\n",
       "\t\t<td>7</td>\n",
       "\t\t<td>116</td>\n",
       "\t</tr>\n",
       "</table></html>"
      ],
      "text/plain": [
       "        ri     na    mg    ai     si     k    ca    ba    fe  gtype   id\n",
       "0  1.51618  13.53  3.55  1.54  72.99  0.39  7.78  0.00  0.00      1   28\n",
       "1  1.51743  12.20  3.25  1.16  73.55  0.62  8.90  0.00  0.24      2   29\n",
       "2  1.51926  13.20  3.33  1.28  72.36  0.60  9.14  0.00  0.11      1  125\n",
       "3  1.51574  14.86  3.67  1.74  71.87  0.16  7.36  0.00  0.12      2   30\n",
       "4  1.51829  14.46  2.24  1.62  72.38  0.00  9.26  0.00  0.00      6   31\n",
       "5  1.51779  13.64  3.65  0.65  73.00  0.06  8.93  0.00  0.00      3  103\n",
       "6  1.52227  14.17  3.81  0.78  71.35  0.00  9.69  0.00  0.00      1   27\n",
       "7  1.51778  13.21  2.81  1.29  72.98  0.51  9.02  0.00  0.09      1  123\n",
       "8  1.51763  12.80  3.66  1.27  73.01  0.60  8.56  0.00  0.00      1   86\n",
       "9  1.51685  14.92  0.00  1.99  73.06  0.00  8.40  1.59  0.00      7  116"
      ]
     },
     "metadata": {},
     "output_type": "display_data"
    },
    {
     "name": "stdout",
     "output_type": "stream",
     "text": [
      "                                                                                         \r"
     ]
    },
    {
     "data": {
      "text/html": [
       "35 rows X 11 columns"
      ],
      "text/plain": [
       "<IPython.core.display.HTML object>"
      ]
     },
     "metadata": {},
     "output_type": "display_data"
    },
    {
     "name": "stdout",
     "output_type": "stream",
     "text": [
      "                                                                                         \r"
     ]
    },
    {
     "data": {
      "text/html": [
       "Time taken for spliting of data: 12.30 sec  "
      ],
      "text/plain": [
       "<IPython.core.display.HTML object>"
      ]
     },
     "metadata": {},
     "output_type": "display_data"
    },
    {
     "name": "stdout",
     "output_type": "stream",
     "text": [
      "                                                                                         \r"
     ]
    },
    {
     "data": {
      "text/html": [
       "\n",
       "Outlier preprocessing ..."
      ],
      "text/plain": [
       "<IPython.core.display.HTML object>"
      ]
     },
     "metadata": {},
     "output_type": "display_data"
    },
    {
     "name": "stdout",
     "output_type": "stream",
     "text": [
      "Columns with outlier percentage :-                                                                                                                                                                                                                                                                                                                                                                                                                                                                                  \n",
      "  ColumnName  OutlierPercentage\n",
      "0          k           3.508772\n",
      "1         si           6.432749\n",
      "2         ba          18.128655\n",
      "3         ri           8.771930\n",
      "4         ai           8.187135\n",
      "5      gtype          14.035088\n",
      "6         ca          12.280702\n",
      "7         fe           8.771930\n",
      "8         mg          19.298246\n",
      "9         na           3.508772\n",
      "                                                                                         \r"
     ]
    },
    {
     "data": {
      "text/html": [
       "Deleting rows of these columns:"
      ],
      "text/plain": [
       "<IPython.core.display.HTML object>"
      ]
     },
     "metadata": {},
     "output_type": "display_data"
    },
    {
     "name": "stdout",
     "output_type": "stream",
     "text": [
      "['na', 'si', 'k']\n",
      "result data stored in table '\"ALICE\".\"ml__td_sqlmr_persist_out__1719256027876398\"' - 7/16\n",
      "                                                                                         \r"
     ]
    },
    {
     "data": {
      "text/html": [
       "Sample of training dataset after removing outlier rows:"
      ],
      "text/plain": [
       "<IPython.core.display.HTML object>"
      ]
     },
     "metadata": {},
     "output_type": "display_data"
    },
    {
     "data": {
      "text/html": [
       "<style type=\"text/css\">\n",
       "\ttable {border:ridge 5px;}\n",
       "\ttable td {border:inset 1px;}\n",
       "\ttable tr#HeaderRow {background-color:grey; color:white;}</style>\n",
       "<html><table>\n",
       "\t<tr id=\"HeaderRow\">\n",
       "\t\t<th>ri</th>\n",
       "\t\t<th>na</th>\n",
       "\t\t<th>mg</th>\n",
       "\t\t<th>ai</th>\n",
       "\t\t<th>si</th>\n",
       "\t\t<th>k</th>\n",
       "\t\t<th>ca</th>\n",
       "\t\t<th>ba</th>\n",
       "\t\t<th>fe</th>\n",
       "\t\t<th>gtype</th>\n",
       "\t\t<th>id</th>\n",
       "\t</tr>\n",
       "\t<tr>\n",
       "\t\t<td>1.51674</td>\n",
       "\t\t<td>12.79</td>\n",
       "\t\t<td>3.52</td>\n",
       "\t\t<td>1.54</td>\n",
       "\t\t<td>73.36</td>\n",
       "\t\t<td>0.66</td>\n",
       "\t\t<td>7.9</td>\n",
       "\t\t<td>0.0</td>\n",
       "\t\t<td>0.0</td>\n",
       "\t\t<td>2</td>\n",
       "\t\t<td>23</td>\n",
       "\t</tr>\n",
       "\t<tr>\n",
       "\t\t<td>1.51709</td>\n",
       "\t\t<td>13.0</td>\n",
       "\t\t<td>3.47</td>\n",
       "\t\t<td>1.79</td>\n",
       "\t\t<td>72.72</td>\n",
       "\t\t<td>0.66</td>\n",
       "\t\t<td>8.18</td>\n",
       "\t\t<td>0.0</td>\n",
       "\t\t<td>0.0</td>\n",
       "\t\t<td>2</td>\n",
       "\t\t<td>11</td>\n",
       "\t</tr>\n",
       "\t<tr>\n",
       "\t\t<td>1.51708</td>\n",
       "\t\t<td>13.72</td>\n",
       "\t\t<td>3.68</td>\n",
       "\t\t<td>1.81</td>\n",
       "\t\t<td>72.06</td>\n",
       "\t\t<td>0.64</td>\n",
       "\t\t<td>7.88</td>\n",
       "\t\t<td>0.0</td>\n",
       "\t\t<td>0.0</td>\n",
       "\t\t<td>2</td>\n",
       "\t\t<td>35</td>\n",
       "\t</tr>\n",
       "\t<tr>\n",
       "\t\t<td>1.51756</td>\n",
       "\t\t<td>13.15</td>\n",
       "\t\t<td>3.61</td>\n",
       "\t\t<td>1.05</td>\n",
       "\t\t<td>73.24</td>\n",
       "\t\t<td>0.57</td>\n",
       "\t\t<td>8.24</td>\n",
       "\t\t<td>0.0</td>\n",
       "\t\t<td>0.0</td>\n",
       "\t\t<td>1</td>\n",
       "\t\t<td>22</td>\n",
       "\t</tr>\n",
       "\t<tr>\n",
       "\t\t<td>1.52177</td>\n",
       "\t\t<td>13.2</td>\n",
       "\t\t<td>3.68</td>\n",
       "\t\t<td>1.15</td>\n",
       "\t\t<td>72.75</td>\n",
       "\t\t<td>0.54</td>\n",
       "\t\t<td>8.52</td>\n",
       "\t\t<td>0.0</td>\n",
       "\t\t<td>0.0</td>\n",
       "\t\t<td>2</td>\n",
       "\t\t<td>18</td>\n",
       "\t</tr>\n",
       "\t<tr>\n",
       "\t\t<td>1.52177</td>\n",
       "\t\t<td>13.75</td>\n",
       "\t\t<td>1.01</td>\n",
       "\t\t<td>1.36</td>\n",
       "\t\t<td>72.19</td>\n",
       "\t\t<td>0.33</td>\n",
       "\t\t<td>11.14</td>\n",
       "\t\t<td>0.0</td>\n",
       "\t\t<td>0.0</td>\n",
       "\t\t<td>2</td>\n",
       "\t\t<td>10</td>\n",
       "\t</tr>\n",
       "\t<tr>\n",
       "\t\t<td>1.5169</td>\n",
       "\t\t<td>13.33</td>\n",
       "\t\t<td>3.54</td>\n",
       "\t\t<td>1.61</td>\n",
       "\t\t<td>72.54</td>\n",
       "\t\t<td>0.68</td>\n",
       "\t\t<td>8.11</td>\n",
       "\t\t<td>0.0</td>\n",
       "\t\t<td>0.0</td>\n",
       "\t\t<td>2</td>\n",
       "\t\t<td>13</td>\n",
       "\t</tr>\n",
       "\t<tr>\n",
       "\t\t<td>1.5167</td>\n",
       "\t\t<td>13.24</td>\n",
       "\t\t<td>3.57</td>\n",
       "\t\t<td>1.38</td>\n",
       "\t\t<td>72.7</td>\n",
       "\t\t<td>0.56</td>\n",
       "\t\t<td>8.44</td>\n",
       "\t\t<td>0.0</td>\n",
       "\t\t<td>0.1</td>\n",
       "\t\t<td>3</td>\n",
       "\t\t<td>21</td>\n",
       "\t</tr>\n",
       "\t<tr>\n",
       "\t\t<td>1.51784</td>\n",
       "\t\t<td>12.68</td>\n",
       "\t\t<td>3.67</td>\n",
       "\t\t<td>1.16</td>\n",
       "\t\t<td>73.11</td>\n",
       "\t\t<td>0.61</td>\n",
       "\t\t<td>8.7</td>\n",
       "\t\t<td>0.0</td>\n",
       "\t\t<td>0.0</td>\n",
       "\t\t<td>1</td>\n",
       "\t\t<td>12</td>\n",
       "\t</tr>\n",
       "\t<tr>\n",
       "\t\t<td>1.51784</td>\n",
       "\t\t<td>13.08</td>\n",
       "\t\t<td>3.49</td>\n",
       "\t\t<td>1.28</td>\n",
       "\t\t<td>72.86</td>\n",
       "\t\t<td>0.6</td>\n",
       "\t\t<td>8.49</td>\n",
       "\t\t<td>0.0</td>\n",
       "\t\t<td>0.0</td>\n",
       "\t\t<td>1</td>\n",
       "\t\t<td>20</td>\n",
       "\t</tr>\n",
       "</table></html>"
      ],
      "text/plain": [
       "            na    mg    ai     si     k     ca   ba   fe  gtype  id\n",
       "ri                                                                 \n",
       "1.51674  12.79  3.52  1.54  73.36  0.66   7.90  0.0  0.0      2  23\n",
       "1.51709  13.00  3.47  1.79  72.72  0.66   8.18  0.0  0.0      2  11\n",
       "1.51708  13.72  3.68  1.81  72.06  0.64   7.88  0.0  0.0      2  35\n",
       "1.51756  13.15  3.61  1.05  73.24  0.57   8.24  0.0  0.0      1  22\n",
       "1.52177  13.20  3.68  1.15  72.75  0.54   8.52  0.0  0.0      2  18\n",
       "1.52177  13.75  1.01  1.36  72.19  0.33  11.14  0.0  0.0      2  10\n",
       "1.51690  13.33  3.54  1.61  72.54  0.68   8.11  0.0  0.0      2  13\n",
       "1.51670  13.24  3.57  1.38  72.70  0.56   8.44  0.0  0.1      3  21\n",
       "1.51784  12.68  3.67  1.16  73.11  0.61   8.70  0.0  0.0      1  12\n",
       "1.51784  13.08  3.49  1.28  72.86  0.60   8.49  0.0  0.0      1  20"
      ]
     },
     "metadata": {},
     "output_type": "display_data"
    },
    {
     "name": "stdout",
     "output_type": "stream",
     "text": [
      "                                                                                         \r"
     ]
    },
    {
     "data": {
      "text/html": [
       "120 rows X 11 columns"
      ],
      "text/plain": [
       "<IPython.core.display.HTML object>"
      ]
     },
     "metadata": {},
     "output_type": "display_data"
    },
    {
     "name": "stdout",
     "output_type": "stream",
     "text": [
      "                                                                                         \r"
     ]
    },
    {
     "data": {
      "text/html": [
       "median inplace of outliers:"
      ],
      "text/plain": [
       "<IPython.core.display.HTML object>"
      ]
     },
     "metadata": {},
     "output_type": "display_data"
    },
    {
     "name": "stdout",
     "output_type": "stream",
     "text": [
      "['ca', 'ai', 'ri', 'mg', 'ba', 'fe']\n",
      "result data stored in table '\"ALICE\".\"ml__td_sqlmr_persist_out__1719260539936508\"' - 7/16\n",
      "                                                                                         \r"
     ]
    },
    {
     "data": {
      "text/html": [
       "Sample of training dataset after performing MEDIAN inplace:"
      ],
      "text/plain": [
       "<IPython.core.display.HTML object>"
      ]
     },
     "metadata": {},
     "output_type": "display_data"
    },
    {
     "data": {
      "text/html": [
       "<style type=\"text/css\">\n",
       "\ttable {border:ridge 5px;}\n",
       "\ttable td {border:inset 1px;}\n",
       "\ttable tr#HeaderRow {background-color:grey; color:white;}</style>\n",
       "<html><table>\n",
       "\t<tr id=\"HeaderRow\">\n",
       "\t\t<th>ri</th>\n",
       "\t\t<th>na</th>\n",
       "\t\t<th>mg</th>\n",
       "\t\t<th>ai</th>\n",
       "\t\t<th>si</th>\n",
       "\t\t<th>k</th>\n",
       "\t\t<th>ca</th>\n",
       "\t\t<th>ba</th>\n",
       "\t\t<th>fe</th>\n",
       "\t\t<th>gtype</th>\n",
       "\t\t<th>id</th>\n",
       "\t</tr>\n",
       "\t<tr>\n",
       "\t\t<td>1.51618</td>\n",
       "\t\t<td>13.01</td>\n",
       "\t\t<td>3.5</td>\n",
       "\t\t<td>1.48</td>\n",
       "\t\t<td>72.89</td>\n",
       "\t\t<td>0.6</td>\n",
       "\t\t<td>8.12</td>\n",
       "\t\t<td>0.0</td>\n",
       "\t\t<td>0.0</td>\n",
       "\t\t<td>2</td>\n",
       "\t\t<td>36</td>\n",
       "\t</tr>\n",
       "\t<tr>\n",
       "\t\t<td>1.51813</td>\n",
       "\t\t<td>13.43</td>\n",
       "\t\t<td>3.98</td>\n",
       "\t\t<td>1.18</td>\n",
       "\t\t<td>72.49</td>\n",
       "\t\t<td>0.58</td>\n",
       "\t\t<td>8.15</td>\n",
       "\t\t<td>0.0</td>\n",
       "\t\t<td>0.0</td>\n",
       "\t\t<td>2</td>\n",
       "\t\t<td>52</td>\n",
       "\t</tr>\n",
       "\t<tr>\n",
       "\t\t<td>1.51909</td>\n",
       "\t\t<td>13.89</td>\n",
       "\t\t<td>3.53</td>\n",
       "\t\t<td>1.32</td>\n",
       "\t\t<td>71.81</td>\n",
       "\t\t<td>0.51</td>\n",
       "\t\t<td>8.78</td>\n",
       "\t\t<td>0.0</td>\n",
       "\t\t<td>0.0</td>\n",
       "\t\t<td>1</td>\n",
       "\t\t<td>60</td>\n",
       "\t</tr>\n",
       "\t<tr>\n",
       "\t\t<td>1.51609</td>\n",
       "\t\t<td>15.01</td>\n",
       "\t\t<td>3.5</td>\n",
       "\t\t<td>1.355</td>\n",
       "\t\t<td>73.05</td>\n",
       "\t\t<td>0.05</td>\n",
       "\t\t<td>8.83</td>\n",
       "\t\t<td>0.0</td>\n",
       "\t\t<td>0.0</td>\n",
       "\t\t<td>7</td>\n",
       "\t\t<td>76</td>\n",
       "\t</tr>\n",
       "\t<tr>\n",
       "\t\t<td>1.51783</td>\n",
       "\t\t<td>12.69</td>\n",
       "\t\t<td>3.54</td>\n",
       "\t\t<td>1.34</td>\n",
       "\t\t<td>72.95</td>\n",
       "\t\t<td>0.57</td>\n",
       "\t\t<td>8.75</td>\n",
       "\t\t<td>0.0</td>\n",
       "\t\t<td>0.0</td>\n",
       "\t\t<td>1</td>\n",
       "\t\t<td>92</td>\n",
       "\t</tr>\n",
       "\t<tr>\n",
       "\t\t<td>1.51689</td>\n",
       "\t\t<td>12.67</td>\n",
       "\t\t<td>2.88</td>\n",
       "\t\t<td>1.71</td>\n",
       "\t\t<td>73.21</td>\n",
       "\t\t<td>0.73</td>\n",
       "\t\t<td>8.54</td>\n",
       "\t\t<td>0.0</td>\n",
       "\t\t<td>0.0</td>\n",
       "\t\t<td>2</td>\n",
       "\t\t<td>100</td>\n",
       "\t</tr>\n",
       "\t<tr>\n",
       "\t\t<td>1.51775</td>\n",
       "\t\t<td>12.85</td>\n",
       "\t\t<td>3.48</td>\n",
       "\t\t<td>1.23</td>\n",
       "\t\t<td>72.97</td>\n",
       "\t\t<td>0.61</td>\n",
       "\t\t<td>8.56</td>\n",
       "\t\t<td>0.0</td>\n",
       "\t\t<td>0.22</td>\n",
       "\t\t<td>1</td>\n",
       "\t\t<td>84</td>\n",
       "\t</tr>\n",
       "\t<tr>\n",
       "\t\t<td>1.519</td>\n",
       "\t\t<td>13.49</td>\n",
       "\t\t<td>3.48</td>\n",
       "\t\t<td>1.35</td>\n",
       "\t\t<td>71.95</td>\n",
       "\t\t<td>0.55</td>\n",
       "\t\t<td>9.0</td>\n",
       "\t\t<td>0.0</td>\n",
       "\t\t<td>0.0</td>\n",
       "\t\t<td>1</td>\n",
       "\t\t<td>44</td>\n",
       "\t</tr>\n",
       "\t<tr>\n",
       "\t\t<td>1.51784</td>\n",
       "\t\t<td>12.68</td>\n",
       "\t\t<td>3.67</td>\n",
       "\t\t<td>1.16</td>\n",
       "\t\t<td>73.11</td>\n",
       "\t\t<td>0.61</td>\n",
       "\t\t<td>8.7</td>\n",
       "\t\t<td>0.0</td>\n",
       "\t\t<td>0.0</td>\n",
       "\t\t<td>1</td>\n",
       "\t\t<td>12</td>\n",
       "\t</tr>\n",
       "\t<tr>\n",
       "\t\t<td>1.51784</td>\n",
       "\t\t<td>13.08</td>\n",
       "\t\t<td>3.49</td>\n",
       "\t\t<td>1.28</td>\n",
       "\t\t<td>72.86</td>\n",
       "\t\t<td>0.6</td>\n",
       "\t\t<td>8.49</td>\n",
       "\t\t<td>0.0</td>\n",
       "\t\t<td>0.0</td>\n",
       "\t\t<td>1</td>\n",
       "\t\t<td>20</td>\n",
       "\t</tr>\n",
       "</table></html>"
      ],
      "text/plain": [
       "            na    mg     ai     si     k    ca   ba    fe  gtype   id\n",
       "ri                                                                   \n",
       "1.51618  13.01  3.50  1.480  72.89  0.60  8.12  0.0  0.00      2   36\n",
       "1.51813  13.43  3.98  1.180  72.49  0.58  8.15  0.0  0.00      2   52\n",
       "1.51909  13.89  3.53  1.320  71.81  0.51  8.78  0.0  0.00      1   60\n",
       "1.51609  15.01  3.50  1.355  73.05  0.05  8.83  0.0  0.00      7   76\n",
       "1.51783  12.69  3.54  1.340  72.95  0.57  8.75  0.0  0.00      1   92\n",
       "1.51689  12.67  2.88  1.710  73.21  0.73  8.54  0.0  0.00      2  100\n",
       "1.51775  12.85  3.48  1.230  72.97  0.61  8.56  0.0  0.22      1   84\n",
       "1.51900  13.49  3.48  1.350  71.95  0.55  9.00  0.0  0.00      1   44\n",
       "1.51784  12.68  3.67  1.160  73.11  0.61  8.70  0.0  0.00      1   12\n",
       "1.51784  13.08  3.49  1.280  72.86  0.60  8.49  0.0  0.00      1   20"
      ]
     },
     "metadata": {},
     "output_type": "display_data"
    },
    {
     "name": "stdout",
     "output_type": "stream",
     "text": [
      "                                                                                         \r"
     ]
    },
    {
     "data": {
      "text/html": [
       "120 rows X 11 columns"
      ],
      "text/plain": [
       "<IPython.core.display.HTML object>"
      ]
     },
     "metadata": {},
     "output_type": "display_data"
    },
    {
     "name": "stdout",
     "output_type": "stream",
     "text": [
      "                                                                                         \r"
     ]
    },
    {
     "data": {
      "text/html": [
       "Time Taken by Outlier processing: 50.80 sec "
      ],
      "text/plain": [
       "<IPython.core.display.HTML object>"
      ]
     },
     "metadata": {},
     "output_type": "display_data"
    },
    {
     "name": "stdout",
     "output_type": "stream",
     "text": [
      "result data stored in table '\"ALICE\".\"ml__td_sqlmr_persist_out__1719259031072069\"' - 8/16\n",
      "result data stored in table '\"ALICE\".\"ml__td_sqlmr_persist_out__1719254631793604\"'\n",
      "                                                                                         \r"
     ]
    },
    {
     "data": {
      "text/html": [
       "\n",
       "Checking imbalance data ..."
      ],
      "text/plain": [
       "<IPython.core.display.HTML object>"
      ]
     },
     "metadata": {},
     "output_type": "display_data"
    },
    {
     "name": "stdout",
     "output_type": "stream",
     "text": [
      "                                                                                         \r"
     ]
    },
    {
     "data": {
      "text/html": [
       "Imbalance Found."
      ],
      "text/plain": [
       "<IPython.core.display.HTML object>"
      ]
     },
     "metadata": {},
     "output_type": "display_data"
    },
    {
     "name": "stdout",
     "output_type": "stream",
     "text": [
      "                                                                                         \r"
     ]
    },
    {
     "data": {
      "text/html": [
       "\n",
       "Starting data imbalance handling ..."
      ],
      "text/plain": [
       "<IPython.core.display.HTML object>"
      ]
     },
     "metadata": {},
     "output_type": "display_data"
    },
    {
     "name": "stdout",
     "output_type": "stream",
     "text": [
      "                                                                                         \r"
     ]
    },
    {
     "data": {
      "text/html": [
       "\n",
       "Balancing the data using SMOTE..."
      ],
      "text/plain": [
       "<IPython.core.display.HTML object>"
      ]
     },
     "metadata": {},
     "output_type": "display_data"
    },
    {
     "name": "stdout",
     "output_type": "stream",
     "text": [
      "                                                                                         \r"
     ]
    },
    {
     "data": {
      "text/html": [
       "Handled imbalanced dataset using SMOTE: 0.15 sec"
      ],
      "text/plain": [
       "<IPython.core.display.HTML object>"
      ]
     },
     "metadata": {},
     "output_type": "display_data"
    },
    {
     "name": "stdout",
     "output_type": "stream",
     "text": [
      "                                                                                         \r"
     ]
    },
    {
     "data": {
      "text/html": [
       "Completed data imbalance handling."
      ],
      "text/plain": [
       "<IPython.core.display.HTML object>"
      ]
     },
     "metadata": {},
     "output_type": "display_data"
    },
    {
     "name": "stdout",
     "output_type": "stream",
     "text": [
      "                                                                                          \r"
     ]
    },
    {
     "data": {
      "text/html": [
       "\n",
       "Feature selection using lasso ..."
      ],
      "text/plain": [
       "<IPython.core.display.HTML object>"
      ]
     },
     "metadata": {},
     "output_type": "display_data"
    },
    {
     "name": "stdout",
     "output_type": "stream",
     "text": [
      "                                                                                          \r"
     ]
    },
    {
     "data": {
      "text/html": [
       "feature selected by lasso:"
      ],
      "text/plain": [
       "<IPython.core.display.HTML object>"
      ]
     },
     "metadata": {},
     "output_type": "display_data"
    },
    {
     "name": "stdout",
     "output_type": "stream",
     "text": [
      "['ca', 'ai', 'fe', 'k', 'mg', 'na', 'si', 'ri']\n",
      "                                                                                          \r"
     ]
    },
    {
     "data": {
      "text/html": [
       "Total time taken by feature selection: 3.42 sec  "
      ],
      "text/plain": [
       "<IPython.core.display.HTML object>"
      ]
     },
     "metadata": {},
     "output_type": "display_data"
    },
    {
     "name": "stdout",
     "output_type": "stream",
     "text": [
      "                                                                                          \r"
     ]
    },
    {
     "data": {
      "text/html": [
       "\n",
       "scaling Features of lasso data ..."
      ],
      "text/plain": [
       "<IPython.core.display.HTML object>"
      ]
     },
     "metadata": {},
     "output_type": "display_data"
    },
    {
     "name": "stdout",
     "output_type": "stream",
     "text": [
      "                                                                                          \r"
     ]
    },
    {
     "data": {
      "text/html": [
       "columns that will be scaled: "
      ],
      "text/plain": [
       "<IPython.core.display.HTML object>"
      ]
     },
     "metadata": {},
     "output_type": "display_data"
    },
    {
     "name": "stdout",
     "output_type": "stream",
     "text": [
      "['ca', 'ai', 'fe', 'k', 'mg', 'na', 'si', 'ri']\n",
      "                                                                                          \r"
     ]
    },
    {
     "data": {
      "text/html": [
       "Training dataset sample after scaling:"
      ],
      "text/plain": [
       "<IPython.core.display.HTML object>"
      ]
     },
     "metadata": {},
     "output_type": "display_data"
    },
    {
     "data": {
      "text/html": [
       "<style type=\"text/css\">\n",
       "\ttable {border:ridge 5px;}\n",
       "\ttable td {border:inset 1px;}\n",
       "\ttable tr#HeaderRow {background-color:grey; color:white;}</style>\n",
       "<html><table>\n",
       "\t<tr id=\"HeaderRow\">\n",
       "\t\t<th>id</th>\n",
       "\t\t<th>gtype</th>\n",
       "\t\t<th>ca</th>\n",
       "\t\t<th>ai</th>\n",
       "\t\t<th>fe</th>\n",
       "\t\t<th>k</th>\n",
       "\t\t<th>mg</th>\n",
       "\t\t<th>na</th>\n",
       "\t\t<th>si</th>\n",
       "\t\t<th>ri</th>\n",
       "\t</tr>\n",
       "\t<tr>\n",
       "\t\t<td>2</td>\n",
       "\t\t<td>7</td>\n",
       "\t\t<td>0.6440129449838189</td>\n",
       "\t\t<td>0.48581560283687936</td>\n",
       "\t\t<td>0.2</td>\n",
       "\t\t<td>0.07272727272727272</td>\n",
       "\t\t<td>0.7818181818181817</td>\n",
       "\t\t<td>0.7478260869565219</td>\n",
       "\t\t<td>0.8365758754863811</td>\n",
       "\t\t<td>0.16250000000000972</td>\n",
       "\t</tr>\n",
       "\t<tr>\n",
       "\t\t<td>4</td>\n",
       "\t\t<td>3</td>\n",
       "\t\t<td>0.5533980582524269</td>\n",
       "\t\t<td>0.602836879432624</td>\n",
       "\t\t<td>0.0</td>\n",
       "\t\t<td>0.5272727272727272</td>\n",
       "\t\t<td>0.7409090909090909</td>\n",
       "\t\t<td>0.5710144927536229</td>\n",
       "\t\t<td>0.3112840466926105</td>\n",
       "\t\t<td>0.4625000000000042</td>\n",
       "\t</tr>\n",
       "\t<tr>\n",
       "\t\t<td>5</td>\n",
       "\t\t<td>3</td>\n",
       "\t\t<td>0.5857605177993529</td>\n",
       "\t\t<td>0.05673758865248223</td>\n",
       "\t\t<td>0.96</td>\n",
       "\t\t<td>0.14545454545454545</td>\n",
       "\t\t<td>0.7999999999999999</td>\n",
       "\t\t<td>0.6028985507246378</td>\n",
       "\t\t<td>0.5486381322957224</td>\n",
       "\t\t<td>0.6500000000000111</td>\n",
       "\t</tr>\n",
       "\t<tr>\n",
       "\t\t<td>6</td>\n",
       "\t\t<td>1</td>\n",
       "\t\t<td>0.47572815533980606</td>\n",
       "\t\t<td>0.3333333333333332</td>\n",
       "\t\t<td>0.0</td>\n",
       "\t\t<td>0.5090909090909091</td>\n",
       "\t\t<td>0.7818181818181817</td>\n",
       "\t\t<td>0.3710144927536231</td>\n",
       "\t\t<td>0.7898832684824885</td>\n",
       "\t\t<td>0.4250000000000083</td>\n",
       "\t</tr>\n",
       "\t<tr>\n",
       "\t\t<td>8</td>\n",
       "\t\t<td>1</td>\n",
       "\t\t<td>0.7508090614886732</td>\n",
       "\t\t<td>0.3191489361702128</td>\n",
       "\t\t<td>0.0</td>\n",
       "\t\t<td>0.0818181818181818</td>\n",
       "\t\t<td>0.8227272727272725</td>\n",
       "\t\t<td>0.617391304347826</td>\n",
       "\t\t<td>0.28015564202334503</td>\n",
       "\t\t<td>0.8624999999999875</td>\n",
       "\t</tr>\n",
       "\t<tr>\n",
       "\t\t<td>9</td>\n",
       "\t\t<td>1</td>\n",
       "\t\t<td>0.6440129449838189</td>\n",
       "\t\t<td>0.43262411347517726</td>\n",
       "\t\t<td>0.0</td>\n",
       "\t\t<td>0.5</td>\n",
       "\t\t<td>0.4818181818181817</td>\n",
       "\t\t<td>0.45797101449275374</td>\n",
       "\t\t<td>0.6264591439688696</td>\n",
       "\t\t<td>0.5374999999999959</td>\n",
       "\t</tr>\n",
       "\t<tr>\n",
       "\t\t<td>7</td>\n",
       "\t\t<td>7</td>\n",
       "\t\t<td>0.7669902912621357</td>\n",
       "\t\t<td>0.48581560283687936</td>\n",
       "\t\t<td>0.0</td>\n",
       "\t\t<td>0.0</td>\n",
       "\t\t<td>0.7818181818181817</td>\n",
       "\t\t<td>0.8144927536231882</td>\n",
       "\t\t<td>0.6264591439688696</td>\n",
       "\t\t<td>0.2874999999999958</td>\n",
       "\t</tr>\n",
       "\t<tr>\n",
       "\t\t<td>3</td>\n",
       "\t\t<td>1</td>\n",
       "\t\t<td>0.4401294498381875</td>\n",
       "\t\t<td>0.7234042553191489</td>\n",
       "\t\t<td>0.28</td>\n",
       "\t\t<td>0.4909090909090909</td>\n",
       "\t\t<td>0.7999999999999999</td>\n",
       "\t\t<td>0.42318840579710126</td>\n",
       "\t\t<td>0.5797665369649824</td>\n",
       "\t\t<td>0.4000000000000111</td>\n",
       "\t</tr>\n",
       "\t<tr>\n",
       "\t\t<td>1</td>\n",
       "\t\t<td>2</td>\n",
       "\t\t<td>0.3754045307443366</td>\n",
       "\t\t<td>0.5815602836879432</td>\n",
       "\t\t<td>0.0</td>\n",
       "\t\t<td>0.6090909090909091</td>\n",
       "\t\t<td>0.7045454545454545</td>\n",
       "\t\t<td>0.3333333333333335</td>\n",
       "\t\t<td>0.793774319066148</td>\n",
       "\t\t<td>0.27499999999999725</td>\n",
       "\t</tr>\n",
       "\t<tr>\n",
       "\t\t<td>0</td>\n",
       "\t\t<td>7</td>\n",
       "\t\t<td>0.5663430420711975</td>\n",
       "\t\t<td>0.48581560283687936</td>\n",
       "\t\t<td>0.0</td>\n",
       "\t\t<td>0.045454545454545456</td>\n",
       "\t\t<td>0.7818181818181817</td>\n",
       "\t\t<td>1.0</td>\n",
       "\t\t<td>0.7042801556420222</td>\n",
       "\t\t<td>0.25</td>\n",
       "\t</tr>\n",
       "</table></html>"
      ],
      "text/plain": [
       "   id  gtype        ca        ai    fe         k        mg        na        si      ri\n",
       "0   2      7  0.644013  0.485816  0.20  0.072727  0.781818  0.747826  0.836576  0.1625\n",
       "1   4      3  0.553398  0.602837  0.00  0.527273  0.740909  0.571014  0.311284  0.4625\n",
       "2   5      3  0.585761  0.056738  0.96  0.145455  0.800000  0.602899  0.548638  0.6500\n",
       "3   6      1  0.475728  0.333333  0.00  0.509091  0.781818  0.371014  0.789883  0.4250\n",
       "4   8      1  0.750809  0.319149  0.00  0.081818  0.822727  0.617391  0.280156  0.8625\n",
       "5   9      1  0.644013  0.432624  0.00  0.500000  0.481818  0.457971  0.626459  0.5375\n",
       "6   7      7  0.766990  0.485816  0.00  0.000000  0.781818  0.814493  0.626459  0.2875\n",
       "7   3      1  0.440129  0.723404  0.28  0.490909  0.800000  0.423188  0.579767  0.4000\n",
       "8   1      2  0.375405  0.581560  0.00  0.609091  0.704545  0.333333  0.793774  0.2750\n",
       "9   0      7  0.566343  0.485816  0.00  0.045455  0.781818  1.000000  0.704280  0.2500"
      ]
     },
     "metadata": {},
     "output_type": "display_data"
    },
    {
     "name": "stdout",
     "output_type": "stream",
     "text": [
      "                                                                                          \r"
     ]
    },
    {
     "data": {
      "text/html": [
       "270 rows X 10 columns"
      ],
      "text/plain": [
       "<IPython.core.display.HTML object>"
      ]
     },
     "metadata": {},
     "output_type": "display_data"
    },
    {
     "name": "stdout",
     "output_type": "stream",
     "text": [
      "                                                                                          \r"
     ]
    },
    {
     "data": {
      "text/html": [
       "Testing dataset sample after scaling:"
      ],
      "text/plain": [
       "<IPython.core.display.HTML object>"
      ]
     },
     "metadata": {},
     "output_type": "display_data"
    },
    {
     "data": {
      "text/html": [
       "<style type=\"text/css\">\n",
       "\ttable {border:ridge 5px;}\n",
       "\ttable td {border:inset 1px;}\n",
       "\ttable tr#HeaderRow {background-color:grey; color:white;}</style>\n",
       "<html><table>\n",
       "\t<tr id=\"HeaderRow\">\n",
       "\t\t<th>id</th>\n",
       "\t\t<th>gtype</th>\n",
       "\t\t<th>ca</th>\n",
       "\t\t<th>ai</th>\n",
       "\t\t<th>fe</th>\n",
       "\t\t<th>k</th>\n",
       "\t\t<th>mg</th>\n",
       "\t\t<th>na</th>\n",
       "\t\t<th>si</th>\n",
       "\t\t<th>ri</th>\n",
       "\t</tr>\n",
       "\t<tr>\n",
       "\t\t<td>110</td>\n",
       "\t\t<td>7</td>\n",
       "\t\t<td>-0.41747572815533984</td>\n",
       "\t\t<td>1.0992907801418441</td>\n",
       "\t\t<td>0.0</td>\n",
       "\t\t<td>1.3272727272727272</td>\n",
       "\t\t<td>0.6727272727272726</td>\n",
       "\t\t<td>0.8000000000000002</td>\n",
       "\t\t<td>0.003891050583659567</td>\n",
       "\t\t<td>0.5374999999999959</td>\n",
       "\t</tr>\n",
       "\t<tr>\n",
       "\t\t<td>135</td>\n",
       "\t\t<td>7</td>\n",
       "\t\t<td>0.38834951456310657</td>\n",
       "\t\t<td>0.9361702127659572</td>\n",
       "\t\t<td>0.0</td>\n",
       "\t\t<td>0.0</td>\n",
       "\t\t<td>-0.8090909090909091</td>\n",
       "\t\t<td>0.9391304347826089</td>\n",
       "\t\t<td>0.7276264591439685</td>\n",
       "\t\t<td>0.31249999999999306</td>\n",
       "\t</tr>\n",
       "\t<tr>\n",
       "\t\t<td>196</td>\n",
       "\t\t<td>2</td>\n",
       "\t\t<td>1.2653721682847898</td>\n",
       "\t\t<td>-0.07801418439716311</td>\n",
       "\t\t<td>0.0</td>\n",
       "\t\t<td>0.0</td>\n",
       "\t\t<td>-0.8090909090909091</td>\n",
       "\t\t<td>0.6260869565217393</td>\n",
       "\t\t<td>1.2490272373540852</td>\n",
       "\t\t<td>0.5124999999999986</td>\n",
       "\t</tr>\n",
       "\t<tr>\n",
       "\t\t<td>141</td>\n",
       "\t\t<td>1</td>\n",
       "\t\t<td>0.39482200647249216</td>\n",
       "\t\t<td>0.49645390070921985</td>\n",
       "\t\t<td>0.0</td>\n",
       "\t\t<td>0.5090909090909091</td>\n",
       "\t\t<td>0.8181818181818181</td>\n",
       "\t\t<td>0.7188405797101447</td>\n",
       "\t\t<td>0.32684824902723775</td>\n",
       "\t\t<td>0.6375000000000125</td>\n",
       "\t</tr>\n",
       "\t<tr>\n",
       "\t\t<td>151</td>\n",
       "\t\t<td>2</td>\n",
       "\t\t<td>0.38834951456310657</td>\n",
       "\t\t<td>0.4680851063829787</td>\n",
       "\t\t<td>0.0</td>\n",
       "\t\t<td>0.4636363636363636</td>\n",
       "\t\t<td>0.9590909090909091</td>\n",
       "\t\t<td>0.5362318840579711</td>\n",
       "\t\t<td>0.4435797665369639</td>\n",
       "\t\t<td>0.5499999999999945</td>\n",
       "\t</tr>\n",
       "\t<tr>\n",
       "\t\t<td>143</td>\n",
       "\t\t<td>1</td>\n",
       "\t\t<td>0.517799352750809</td>\n",
       "\t\t<td>0.48226950354609927</td>\n",
       "\t\t<td>0.0</td>\n",
       "\t\t<td>0.5818181818181818</td>\n",
       "\t\t<td>0.7727272727272726</td>\n",
       "\t\t<td>0.34202898550724636</td>\n",
       "\t\t<td>0.6692607003891027</td>\n",
       "\t\t<td>0.4875000000000014</td>\n",
       "\t</tr>\n",
       "\t<tr>\n",
       "\t\t<td>133</td>\n",
       "\t\t<td>3</td>\n",
       "\t\t<td>0.42071197411003264</td>\n",
       "\t\t<td>0.7730496453900707</td>\n",
       "\t\t<td>0.68</td>\n",
       "\t\t<td>0.5454545454545454</td>\n",
       "\t\t<td>0.7590909090909091</td>\n",
       "\t\t<td>0.45797101449275374</td>\n",
       "\t\t<td>0.482490272373543</td>\n",
       "\t\t<td>0.3249999999999917</td>\n",
       "\t</tr>\n",
       "\t<tr>\n",
       "\t\t<td>122</td>\n",
       "\t\t<td>2</td>\n",
       "\t\t<td>0.30744336569579267</td>\n",
       "\t\t<td>0.6737588652482269</td>\n",
       "\t\t<td>0.84</td>\n",
       "\t\t<td>0.5818181818181818</td>\n",
       "\t\t<td>0.7999999999999999</td>\n",
       "\t\t<td>0.3971014492753622</td>\n",
       "\t\t<td>0.6692607003891027</td>\n",
       "\t\t<td>0.31249999999999306</td>\n",
       "\t</tr>\n",
       "\t<tr>\n",
       "\t\t<td>123</td>\n",
       "\t\t<td>1</td>\n",
       "\t\t<td>0.6278317152103559</td>\n",
       "\t\t<td>0.43971631205673756</td>\n",
       "\t\t<td>0.36</td>\n",
       "\t\t<td>0.4636363636363636</td>\n",
       "\t\t<td>0.46818181818181814</td>\n",
       "\t\t<td>0.4782608695652176</td>\n",
       "\t\t<td>0.6770428015564218</td>\n",
       "\t\t<td>0.4625000000000042</td>\n",
       "\t</tr>\n",
       "\t<tr>\n",
       "\t\t<td>26</td>\n",
       "\t\t<td>2</td>\n",
       "\t\t<td>0.36569579288025916</td>\n",
       "\t\t<td>0.6170212765957446</td>\n",
       "\t\t<td>0.6</td>\n",
       "\t\t<td>0.4909090909090909</td>\n",
       "\t\t<td>0.9772727272727274</td>\n",
       "\t\t<td>0.6231884057971017</td>\n",
       "\t\t<td>0.22178988326848473</td>\n",
       "\t\t<td>0.4875000000000014</td>\n",
       "\t</tr>\n",
       "</table></html>"
      ],
      "text/plain": [
       "    id  gtype        ca        ai    fe         k        mg        na        si      ri\n",
       "0  110      7 -0.417476  1.099291  0.00  1.327273  0.672727  0.800000  0.003891  0.5375\n",
       "1  135      7  0.388350  0.936170  0.00  0.000000 -0.809091  0.939130  0.727626  0.3125\n",
       "2  196      2  1.265372 -0.078014  0.00  0.000000 -0.809091  0.626087  1.249027  0.5125\n",
       "3  141      1  0.394822  0.496454  0.00  0.509091  0.818182  0.718841  0.326848  0.6375\n",
       "4  151      2  0.388350  0.468085  0.00  0.463636  0.959091  0.536232  0.443580  0.5500\n",
       "5  143      1  0.517799  0.482270  0.00  0.581818  0.772727  0.342029  0.669261  0.4875\n",
       "6  133      3  0.420712  0.773050  0.68  0.545455  0.759091  0.457971  0.482490  0.3250\n",
       "7  122      2  0.307443  0.673759  0.84  0.581818  0.800000  0.397101  0.669261  0.3125\n",
       "8  123      1  0.627832  0.439716  0.36  0.463636  0.468182  0.478261  0.677043  0.4625\n",
       "9   26      2  0.365696  0.617021  0.60  0.490909  0.977273  0.623188  0.221790  0.4875"
      ]
     },
     "metadata": {},
     "output_type": "display_data"
    },
    {
     "name": "stdout",
     "output_type": "stream",
     "text": [
      "                                                                                          \r"
     ]
    },
    {
     "data": {
      "text/html": [
       "35 rows X 10 columns"
      ],
      "text/plain": [
       "<IPython.core.display.HTML object>"
      ]
     },
     "metadata": {},
     "output_type": "display_data"
    },
    {
     "name": "stdout",
     "output_type": "stream",
     "text": [
      "                                                                                          \r"
     ]
    },
    {
     "data": {
      "text/html": [
       "Total time taken by feature scaling: 39.47 sec"
      ],
      "text/plain": [
       "<IPython.core.display.HTML object>"
      ]
     },
     "metadata": {},
     "output_type": "display_data"
    },
    {
     "name": "stdout",
     "output_type": "stream",
     "text": [
      "                                                                                          \r"
     ]
    },
    {
     "data": {
      "text/html": [
       "\n",
       "Feature selection using rfe ..."
      ],
      "text/plain": [
       "<IPython.core.display.HTML object>"
      ]
     },
     "metadata": {},
     "output_type": "display_data"
    },
    {
     "name": "stdout",
     "output_type": "stream",
     "text": [
      "                                                                                          \r"
     ]
    },
    {
     "data": {
      "text/html": [
       "feature selected by RFE:"
      ],
      "text/plain": [
       "<IPython.core.display.HTML object>"
      ]
     },
     "metadata": {},
     "output_type": "display_data"
    },
    {
     "name": "stdout",
     "output_type": "stream",
     "text": [
      "['ri', 'na', 'mg', 'ai', 'si', 'k', 'ca', 'fe']\n",
      "                                                                                          \r"
     ]
    },
    {
     "data": {
      "text/html": [
       "Total time taken by feature selection: 19.92 sec  "
      ],
      "text/plain": [
       "<IPython.core.display.HTML object>"
      ]
     },
     "metadata": {},
     "output_type": "display_data"
    },
    {
     "name": "stdout",
     "output_type": "stream",
     "text": [
      "                                                                                          \r"
     ]
    },
    {
     "data": {
      "text/html": [
       "\n",
       "scaling Features of rfe data ..."
      ],
      "text/plain": [
       "<IPython.core.display.HTML object>"
      ]
     },
     "metadata": {},
     "output_type": "display_data"
    },
    {
     "name": "stdout",
     "output_type": "stream",
     "text": [
      "                                                                                          \r"
     ]
    },
    {
     "data": {
      "text/html": [
       "columns that will be scaled: "
      ],
      "text/plain": [
       "<IPython.core.display.HTML object>"
      ]
     },
     "metadata": {},
     "output_type": "display_data"
    },
    {
     "name": "stdout",
     "output_type": "stream",
     "text": [
      "['r_ri', 'r_na', 'r_mg', 'r_ai', 'r_si', 'r_k', 'r_ca', 'r_fe']\n",
      "                                                                                          \r"
     ]
    },
    {
     "data": {
      "text/html": [
       "Training dataset sample after scaling:"
      ],
      "text/plain": [
       "<IPython.core.display.HTML object>"
      ]
     },
     "metadata": {},
     "output_type": "display_data"
    },
    {
     "data": {
      "text/html": [
       "<style type=\"text/css\">\n",
       "\ttable {border:ridge 5px;}\n",
       "\ttable td {border:inset 1px;}\n",
       "\ttable tr#HeaderRow {background-color:grey; color:white;}</style>\n",
       "<html><table>\n",
       "\t<tr id=\"HeaderRow\">\n",
       "\t\t<th>id</th>\n",
       "\t\t<th>gtype</th>\n",
       "\t\t<th>r_ri</th>\n",
       "\t\t<th>r_na</th>\n",
       "\t\t<th>r_mg</th>\n",
       "\t\t<th>r_ai</th>\n",
       "\t\t<th>r_si</th>\n",
       "\t\t<th>r_k</th>\n",
       "\t\t<th>r_ca</th>\n",
       "\t\t<th>r_fe</th>\n",
       "\t</tr>\n",
       "\t<tr>\n",
       "\t\t<td>2</td>\n",
       "\t\t<td>7</td>\n",
       "\t\t<td>0.16250000000000972</td>\n",
       "\t\t<td>0.7478260869565219</td>\n",
       "\t\t<td>0.7818181818181817</td>\n",
       "\t\t<td>0.48581560283687936</td>\n",
       "\t\t<td>0.8365758754863811</td>\n",
       "\t\t<td>0.07272727272727272</td>\n",
       "\t\t<td>0.6440129449838189</td>\n",
       "\t\t<td>0.2</td>\n",
       "\t</tr>\n",
       "\t<tr>\n",
       "\t\t<td>4</td>\n",
       "\t\t<td>3</td>\n",
       "\t\t<td>0.4625000000000042</td>\n",
       "\t\t<td>0.5710144927536229</td>\n",
       "\t\t<td>0.7409090909090909</td>\n",
       "\t\t<td>0.602836879432624</td>\n",
       "\t\t<td>0.3112840466926105</td>\n",
       "\t\t<td>0.5272727272727272</td>\n",
       "\t\t<td>0.5533980582524269</td>\n",
       "\t\t<td>0.0</td>\n",
       "\t</tr>\n",
       "\t<tr>\n",
       "\t\t<td>5</td>\n",
       "\t\t<td>3</td>\n",
       "\t\t<td>0.6500000000000111</td>\n",
       "\t\t<td>0.6028985507246378</td>\n",
       "\t\t<td>0.7999999999999999</td>\n",
       "\t\t<td>0.05673758865248223</td>\n",
       "\t\t<td>0.5486381322957224</td>\n",
       "\t\t<td>0.14545454545454545</td>\n",
       "\t\t<td>0.5857605177993529</td>\n",
       "\t\t<td>0.96</td>\n",
       "\t</tr>\n",
       "\t<tr>\n",
       "\t\t<td>6</td>\n",
       "\t\t<td>1</td>\n",
       "\t\t<td>0.4250000000000083</td>\n",
       "\t\t<td>0.3710144927536231</td>\n",
       "\t\t<td>0.7818181818181817</td>\n",
       "\t\t<td>0.3333333333333332</td>\n",
       "\t\t<td>0.7898832684824885</td>\n",
       "\t\t<td>0.5090909090909091</td>\n",
       "\t\t<td>0.47572815533980606</td>\n",
       "\t\t<td>0.0</td>\n",
       "\t</tr>\n",
       "\t<tr>\n",
       "\t\t<td>8</td>\n",
       "\t\t<td>1</td>\n",
       "\t\t<td>0.8624999999999875</td>\n",
       "\t\t<td>0.617391304347826</td>\n",
       "\t\t<td>0.8227272727272725</td>\n",
       "\t\t<td>0.3191489361702128</td>\n",
       "\t\t<td>0.28015564202334503</td>\n",
       "\t\t<td>0.0818181818181818</td>\n",
       "\t\t<td>0.7508090614886732</td>\n",
       "\t\t<td>0.0</td>\n",
       "\t</tr>\n",
       "\t<tr>\n",
       "\t\t<td>9</td>\n",
       "\t\t<td>1</td>\n",
       "\t\t<td>0.5374999999999959</td>\n",
       "\t\t<td>0.45797101449275374</td>\n",
       "\t\t<td>0.4818181818181817</td>\n",
       "\t\t<td>0.43262411347517726</td>\n",
       "\t\t<td>0.6264591439688696</td>\n",
       "\t\t<td>0.5</td>\n",
       "\t\t<td>0.6440129449838189</td>\n",
       "\t\t<td>0.0</td>\n",
       "\t</tr>\n",
       "\t<tr>\n",
       "\t\t<td>7</td>\n",
       "\t\t<td>7</td>\n",
       "\t\t<td>0.2874999999999958</td>\n",
       "\t\t<td>0.8144927536231882</td>\n",
       "\t\t<td>0.7818181818181817</td>\n",
       "\t\t<td>0.48581560283687936</td>\n",
       "\t\t<td>0.6264591439688696</td>\n",
       "\t\t<td>0.0</td>\n",
       "\t\t<td>0.7669902912621357</td>\n",
       "\t\t<td>0.0</td>\n",
       "\t</tr>\n",
       "\t<tr>\n",
       "\t\t<td>3</td>\n",
       "\t\t<td>1</td>\n",
       "\t\t<td>0.4000000000000111</td>\n",
       "\t\t<td>0.42318840579710126</td>\n",
       "\t\t<td>0.7999999999999999</td>\n",
       "\t\t<td>0.7234042553191489</td>\n",
       "\t\t<td>0.5797665369649824</td>\n",
       "\t\t<td>0.4909090909090909</td>\n",
       "\t\t<td>0.4401294498381875</td>\n",
       "\t\t<td>0.28</td>\n",
       "\t</tr>\n",
       "\t<tr>\n",
       "\t\t<td>1</td>\n",
       "\t\t<td>2</td>\n",
       "\t\t<td>0.27499999999999725</td>\n",
       "\t\t<td>0.3333333333333335</td>\n",
       "\t\t<td>0.7045454545454545</td>\n",
       "\t\t<td>0.5815602836879432</td>\n",
       "\t\t<td>0.793774319066148</td>\n",
       "\t\t<td>0.6090909090909091</td>\n",
       "\t\t<td>0.3754045307443366</td>\n",
       "\t\t<td>0.0</td>\n",
       "\t</tr>\n",
       "\t<tr>\n",
       "\t\t<td>0</td>\n",
       "\t\t<td>7</td>\n",
       "\t\t<td>0.25</td>\n",
       "\t\t<td>1.0</td>\n",
       "\t\t<td>0.7818181818181817</td>\n",
       "\t\t<td>0.48581560283687936</td>\n",
       "\t\t<td>0.7042801556420222</td>\n",
       "\t\t<td>0.045454545454545456</td>\n",
       "\t\t<td>0.5663430420711975</td>\n",
       "\t\t<td>0.0</td>\n",
       "\t</tr>\n",
       "</table></html>"
      ],
      "text/plain": [
       "   id  gtype    r_ri      r_na      r_mg      r_ai      r_si       r_k      r_ca  r_fe\n",
       "0   2      7  0.1625  0.747826  0.781818  0.485816  0.836576  0.072727  0.644013  0.20\n",
       "1   4      3  0.4625  0.571014  0.740909  0.602837  0.311284  0.527273  0.553398  0.00\n",
       "2   5      3  0.6500  0.602899  0.800000  0.056738  0.548638  0.145455  0.585761  0.96\n",
       "3   6      1  0.4250  0.371014  0.781818  0.333333  0.789883  0.509091  0.475728  0.00\n",
       "4   8      1  0.8625  0.617391  0.822727  0.319149  0.280156  0.081818  0.750809  0.00\n",
       "5   9      1  0.5375  0.457971  0.481818  0.432624  0.626459  0.500000  0.644013  0.00\n",
       "6   7      7  0.2875  0.814493  0.781818  0.485816  0.626459  0.000000  0.766990  0.00\n",
       "7   3      1  0.4000  0.423188  0.800000  0.723404  0.579767  0.490909  0.440129  0.28\n",
       "8   1      2  0.2750  0.333333  0.704545  0.581560  0.793774  0.609091  0.375405  0.00\n",
       "9   0      7  0.2500  1.000000  0.781818  0.485816  0.704280  0.045455  0.566343  0.00"
      ]
     },
     "metadata": {},
     "output_type": "display_data"
    },
    {
     "name": "stdout",
     "output_type": "stream",
     "text": [
      "                                                                                          \r"
     ]
    },
    {
     "data": {
      "text/html": [
       "270 rows X 10 columns"
      ],
      "text/plain": [
       "<IPython.core.display.HTML object>"
      ]
     },
     "metadata": {},
     "output_type": "display_data"
    },
    {
     "name": "stdout",
     "output_type": "stream",
     "text": [
      "                                                                                          \r"
     ]
    },
    {
     "data": {
      "text/html": [
       "Testing dataset sample after scaling:"
      ],
      "text/plain": [
       "<IPython.core.display.HTML object>"
      ]
     },
     "metadata": {},
     "output_type": "display_data"
    },
    {
     "data": {
      "text/html": [
       "<style type=\"text/css\">\n",
       "\ttable {border:ridge 5px;}\n",
       "\ttable td {border:inset 1px;}\n",
       "\ttable tr#HeaderRow {background-color:grey; color:white;}</style>\n",
       "<html><table>\n",
       "\t<tr id=\"HeaderRow\">\n",
       "\t\t<th>id</th>\n",
       "\t\t<th>gtype</th>\n",
       "\t\t<th>r_ri</th>\n",
       "\t\t<th>r_na</th>\n",
       "\t\t<th>r_mg</th>\n",
       "\t\t<th>r_ai</th>\n",
       "\t\t<th>r_si</th>\n",
       "\t\t<th>r_k</th>\n",
       "\t\t<th>r_ca</th>\n",
       "\t\t<th>r_fe</th>\n",
       "\t</tr>\n",
       "\t<tr>\n",
       "\t\t<td>110</td>\n",
       "\t\t<td>7</td>\n",
       "\t\t<td>0.5374999999999959</td>\n",
       "\t\t<td>0.8000000000000002</td>\n",
       "\t\t<td>0.6727272727272726</td>\n",
       "\t\t<td>1.0992907801418441</td>\n",
       "\t\t<td>0.003891050583659567</td>\n",
       "\t\t<td>1.3272727272727272</td>\n",
       "\t\t<td>-0.41747572815533984</td>\n",
       "\t\t<td>0.0</td>\n",
       "\t</tr>\n",
       "\t<tr>\n",
       "\t\t<td>135</td>\n",
       "\t\t<td>7</td>\n",
       "\t\t<td>0.31249999999999306</td>\n",
       "\t\t<td>0.9391304347826089</td>\n",
       "\t\t<td>-0.8090909090909091</td>\n",
       "\t\t<td>0.9361702127659572</td>\n",
       "\t\t<td>0.7276264591439685</td>\n",
       "\t\t<td>0.0</td>\n",
       "\t\t<td>0.38834951456310657</td>\n",
       "\t\t<td>0.0</td>\n",
       "\t</tr>\n",
       "\t<tr>\n",
       "\t\t<td>196</td>\n",
       "\t\t<td>2</td>\n",
       "\t\t<td>0.5124999999999986</td>\n",
       "\t\t<td>0.6260869565217393</td>\n",
       "\t\t<td>-0.8090909090909091</td>\n",
       "\t\t<td>-0.07801418439716311</td>\n",
       "\t\t<td>1.2490272373540852</td>\n",
       "\t\t<td>0.0</td>\n",
       "\t\t<td>1.2653721682847898</td>\n",
       "\t\t<td>0.0</td>\n",
       "\t</tr>\n",
       "\t<tr>\n",
       "\t\t<td>141</td>\n",
       "\t\t<td>1</td>\n",
       "\t\t<td>0.6375000000000125</td>\n",
       "\t\t<td>0.7188405797101447</td>\n",
       "\t\t<td>0.8181818181818181</td>\n",
       "\t\t<td>0.49645390070921985</td>\n",
       "\t\t<td>0.32684824902723775</td>\n",
       "\t\t<td>0.5090909090909091</td>\n",
       "\t\t<td>0.39482200647249216</td>\n",
       "\t\t<td>0.0</td>\n",
       "\t</tr>\n",
       "\t<tr>\n",
       "\t\t<td>151</td>\n",
       "\t\t<td>2</td>\n",
       "\t\t<td>0.5499999999999945</td>\n",
       "\t\t<td>0.5362318840579711</td>\n",
       "\t\t<td>0.9590909090909091</td>\n",
       "\t\t<td>0.4680851063829787</td>\n",
       "\t\t<td>0.4435797665369639</td>\n",
       "\t\t<td>0.4636363636363636</td>\n",
       "\t\t<td>0.38834951456310657</td>\n",
       "\t\t<td>0.0</td>\n",
       "\t</tr>\n",
       "\t<tr>\n",
       "\t\t<td>143</td>\n",
       "\t\t<td>1</td>\n",
       "\t\t<td>0.4875000000000014</td>\n",
       "\t\t<td>0.34202898550724636</td>\n",
       "\t\t<td>0.7727272727272726</td>\n",
       "\t\t<td>0.48226950354609927</td>\n",
       "\t\t<td>0.6692607003891027</td>\n",
       "\t\t<td>0.5818181818181818</td>\n",
       "\t\t<td>0.517799352750809</td>\n",
       "\t\t<td>0.0</td>\n",
       "\t</tr>\n",
       "\t<tr>\n",
       "\t\t<td>133</td>\n",
       "\t\t<td>3</td>\n",
       "\t\t<td>0.3249999999999917</td>\n",
       "\t\t<td>0.45797101449275374</td>\n",
       "\t\t<td>0.7590909090909091</td>\n",
       "\t\t<td>0.7730496453900707</td>\n",
       "\t\t<td>0.482490272373543</td>\n",
       "\t\t<td>0.5454545454545454</td>\n",
       "\t\t<td>0.42071197411003264</td>\n",
       "\t\t<td>0.68</td>\n",
       "\t</tr>\n",
       "\t<tr>\n",
       "\t\t<td>122</td>\n",
       "\t\t<td>2</td>\n",
       "\t\t<td>0.31249999999999306</td>\n",
       "\t\t<td>0.3971014492753622</td>\n",
       "\t\t<td>0.7999999999999999</td>\n",
       "\t\t<td>0.6737588652482269</td>\n",
       "\t\t<td>0.6692607003891027</td>\n",
       "\t\t<td>0.5818181818181818</td>\n",
       "\t\t<td>0.30744336569579267</td>\n",
       "\t\t<td>0.84</td>\n",
       "\t</tr>\n",
       "\t<tr>\n",
       "\t\t<td>123</td>\n",
       "\t\t<td>1</td>\n",
       "\t\t<td>0.4625000000000042</td>\n",
       "\t\t<td>0.4782608695652176</td>\n",
       "\t\t<td>0.46818181818181814</td>\n",
       "\t\t<td>0.43971631205673756</td>\n",
       "\t\t<td>0.6770428015564218</td>\n",
       "\t\t<td>0.4636363636363636</td>\n",
       "\t\t<td>0.6278317152103559</td>\n",
       "\t\t<td>0.36</td>\n",
       "\t</tr>\n",
       "\t<tr>\n",
       "\t\t<td>26</td>\n",
       "\t\t<td>2</td>\n",
       "\t\t<td>0.4875000000000014</td>\n",
       "\t\t<td>0.6231884057971017</td>\n",
       "\t\t<td>0.9772727272727274</td>\n",
       "\t\t<td>0.6170212765957446</td>\n",
       "\t\t<td>0.22178988326848473</td>\n",
       "\t\t<td>0.4909090909090909</td>\n",
       "\t\t<td>0.36569579288025916</td>\n",
       "\t\t<td>0.6</td>\n",
       "\t</tr>\n",
       "</table></html>"
      ],
      "text/plain": [
       "    id  gtype    r_ri      r_na      r_mg      r_ai      r_si       r_k      r_ca  r_fe\n",
       "0  110      7  0.5375  0.800000  0.672727  1.099291  0.003891  1.327273 -0.417476  0.00\n",
       "1  135      7  0.3125  0.939130 -0.809091  0.936170  0.727626  0.000000  0.388350  0.00\n",
       "2  196      2  0.5125  0.626087 -0.809091 -0.078014  1.249027  0.000000  1.265372  0.00\n",
       "3  141      1  0.6375  0.718841  0.818182  0.496454  0.326848  0.509091  0.394822  0.00\n",
       "4  151      2  0.5500  0.536232  0.959091  0.468085  0.443580  0.463636  0.388350  0.00\n",
       "5  143      1  0.4875  0.342029  0.772727  0.482270  0.669261  0.581818  0.517799  0.00\n",
       "6  133      3  0.3250  0.457971  0.759091  0.773050  0.482490  0.545455  0.420712  0.68\n",
       "7  122      2  0.3125  0.397101  0.800000  0.673759  0.669261  0.581818  0.307443  0.84\n",
       "8  123      1  0.4625  0.478261  0.468182  0.439716  0.677043  0.463636  0.627832  0.36\n",
       "9   26      2  0.4875  0.623188  0.977273  0.617021  0.221790  0.490909  0.365696  0.60"
      ]
     },
     "metadata": {},
     "output_type": "display_data"
    },
    {
     "name": "stdout",
     "output_type": "stream",
     "text": [
      "                                                                                          \r"
     ]
    },
    {
     "data": {
      "text/html": [
       "35 rows X 10 columns"
      ],
      "text/plain": [
       "<IPython.core.display.HTML object>"
      ]
     },
     "metadata": {},
     "output_type": "display_data"
    },
    {
     "name": "stdout",
     "output_type": "stream",
     "text": [
      "                                                                                          \r"
     ]
    },
    {
     "data": {
      "text/html": [
       "Total time taken by feature scaling: 42.30 sec"
      ],
      "text/plain": [
       "<IPython.core.display.HTML object>"
      ]
     },
     "metadata": {},
     "output_type": "display_data"
    },
    {
     "name": "stdout",
     "output_type": "stream",
     "text": [
      "                                                                                          \r"
     ]
    },
    {
     "data": {
      "text/html": [
       "\n",
       "scaling Features of pca data ..."
      ],
      "text/plain": [
       "<IPython.core.display.HTML object>"
      ]
     },
     "metadata": {},
     "output_type": "display_data"
    },
    {
     "name": "stdout",
     "output_type": "stream",
     "text": [
      "                                                                                          \r"
     ]
    },
    {
     "data": {
      "text/html": [
       "columns that will be scaled: "
      ],
      "text/plain": [
       "<IPython.core.display.HTML object>"
      ]
     },
     "metadata": {},
     "output_type": "display_data"
    },
    {
     "name": "stdout",
     "output_type": "stream",
     "text": [
      "['ri', 'na', 'mg', 'ai', 'si', 'k', 'ca', 'fe']\n",
      "                                                                                          \r"
     ]
    },
    {
     "data": {
      "text/html": [
       "Training dataset sample after scaling:"
      ],
      "text/plain": [
       "<IPython.core.display.HTML object>"
      ]
     },
     "metadata": {},
     "output_type": "display_data"
    },
    {
     "data": {
      "text/html": [
       "<style type=\"text/css\">\n",
       "\ttable {border:ridge 5px;}\n",
       "\ttable td {border:inset 1px;}\n",
       "\ttable tr#HeaderRow {background-color:grey; color:white;}</style>\n",
       "<html><table>\n",
       "\t<tr id=\"HeaderRow\">\n",
       "\t\t<th>id</th>\n",
       "\t\t<th>ba</th>\n",
       "\t\t<th>gtype</th>\n",
       "\t\t<th>ri</th>\n",
       "\t\t<th>na</th>\n",
       "\t\t<th>mg</th>\n",
       "\t\t<th>ai</th>\n",
       "\t\t<th>si</th>\n",
       "\t\t<th>k</th>\n",
       "\t\t<th>ca</th>\n",
       "\t\t<th>fe</th>\n",
       "\t</tr>\n",
       "\t<tr>\n",
       "\t\t<td>8</td>\n",
       "\t\t<td>0.0</td>\n",
       "\t\t<td>3</td>\n",
       "\t\t<td>0.3544776119402988</td>\n",
       "\t\t<td>0.37681159420289834</td>\n",
       "\t\t<td>0.8181818181818181</td>\n",
       "\t\t<td>0.45390070921985815</td>\n",
       "\t\t<td>0.5330739299610897</td>\n",
       "\t\t<td>0.5545454545454545</td>\n",
       "\t\t<td>0.5533980582524269</td>\n",
       "\t\t<td>0.0</td>\n",
       "\t</tr>\n",
       "\t<tr>\n",
       "\t\t<td>10</td>\n",
       "\t\t<td>0.0</td>\n",
       "\t\t<td>2</td>\n",
       "\t\t<td>0.9552238805970257</td>\n",
       "\t\t<td>0.6347826086956522</td>\n",
       "\t\t<td>0.7818181818181817</td>\n",
       "\t\t<td>0.48936170212765956</td>\n",
       "\t\t<td>0.36964980544747084</td>\n",
       "\t\t<td>0.3</td>\n",
       "\t\t<td>0.48705501618123004</td>\n",
       "\t\t<td>0.0</td>\n",
       "\t</tr>\n",
       "\t<tr>\n",
       "\t\t<td>18</td>\n",
       "\t\t<td>0.0</td>\n",
       "\t\t<td>2</td>\n",
       "\t\t<td>0.9552238805970257</td>\n",
       "\t\t<td>0.47536231884057945</td>\n",
       "\t\t<td>0.8636363636363636</td>\n",
       "\t\t<td>0.3404255319148935</td>\n",
       "\t\t<td>0.5875486381322961</td>\n",
       "\t\t<td>0.4909090909090909</td>\n",
       "\t\t<td>0.466019417475728</td>\n",
       "\t\t<td>0.0</td>\n",
       "\t</tr>\n",
       "\t<tr>\n",
       "\t\t<td>20</td>\n",
       "\t\t<td>0.0</td>\n",
       "\t\t<td>1</td>\n",
       "\t\t<td>0.46641791044777614</td>\n",
       "\t\t<td>0.4405797101449275</td>\n",
       "\t\t<td>0.7772727272727273</td>\n",
       "\t\t<td>0.43262411347517726</td>\n",
       "\t\t<td>0.6303501945525292</td>\n",
       "\t\t<td>0.5454545454545454</td>\n",
       "\t\t<td>0.45631067961165056</td>\n",
       "\t\t<td>0.0</td>\n",
       "\t</tr>\n",
       "\t<tr>\n",
       "\t\t<td>9</td>\n",
       "\t\t<td>0.0</td>\n",
       "\t\t<td>2</td>\n",
       "\t\t<td>0.5373134328358303</td>\n",
       "\t\t<td>0.42318840579710126</td>\n",
       "\t\t<td>0.8363636363636363</td>\n",
       "\t\t<td>0.276595744680851</td>\n",
       "\t\t<td>0.4280155642023367</td>\n",
       "\t\t<td>0.5818181818181818</td>\n",
       "\t\t<td>0.6634304207119743</td>\n",
       "\t\t<td>0.6</td>\n",
       "\t</tr>\n",
       "\t<tr>\n",
       "\t\t<td>17</td>\n",
       "\t\t<td>0.0</td>\n",
       "\t\t<td>2</td>\n",
       "\t\t<td>0.27363184079601577</td>\n",
       "\t\t<td>0.3333333333333335</td>\n",
       "\t\t<td>0.7045454545454545</td>\n",
       "\t\t<td>0.5815602836879432</td>\n",
       "\t\t<td>0.793774319066148</td>\n",
       "\t\t<td>0.6090909090909091</td>\n",
       "\t\t<td>0.3754045307443366</td>\n",
       "\t\t<td>0.0</td>\n",
       "\t</tr>\n",
       "\t<tr>\n",
       "\t\t<td>22</td>\n",
       "\t\t<td>0.0</td>\n",
       "\t\t<td>1</td>\n",
       "\t\t<td>0.43159203980100297</td>\n",
       "\t\t<td>0.46086956521739136</td>\n",
       "\t\t<td>0.8318181818181817</td>\n",
       "\t\t<td>0.2695035460992908</td>\n",
       "\t\t<td>0.7782101167315153</td>\n",
       "\t\t<td>0.5181818181818181</td>\n",
       "\t\t<td>0.3754045307443366</td>\n",
       "\t\t<td>0.0</td>\n",
       "\t</tr>\n",
       "\t<tr>\n",
       "\t\t<td>38</td>\n",
       "\t\t<td>0.0</td>\n",
       "\t\t<td>7</td>\n",
       "\t\t<td>0.3855721393034931</td>\n",
       "\t\t<td>0.9246376811594204</td>\n",
       "\t\t<td>0.7818181818181817</td>\n",
       "\t\t<td>0.9432624113475176</td>\n",
       "\t\t<td>0.692607003891049</td>\n",
       "\t\t<td>0.0</td>\n",
       "\t\t<td>0.4692556634304205</td>\n",
       "\t\t<td>0.32</td>\n",
       "\t</tr>\n",
       "\t<tr>\n",
       "\t\t<td>13</td>\n",
       "\t\t<td>0.0</td>\n",
       "\t\t<td>2</td>\n",
       "\t\t<td>0.34950248756218444</td>\n",
       "\t\t<td>0.5130434782608696</td>\n",
       "\t\t<td>0.7999999999999999</td>\n",
       "\t\t<td>0.6666666666666666</td>\n",
       "\t\t<td>0.5058365758754894</td>\n",
       "\t\t<td>0.6181818181818182</td>\n",
       "\t\t<td>0.33333333333333315</td>\n",
       "\t\t<td>0.0</td>\n",
       "\t</tr>\n",
       "\t<tr>\n",
       "\t\t<td>21</td>\n",
       "\t\t<td>0.0</td>\n",
       "\t\t<td>3</td>\n",
       "\t\t<td>0.32462686567164006</td>\n",
       "\t\t<td>0.48695652173913045</td>\n",
       "\t\t<td>0.8136363636363635</td>\n",
       "\t\t<td>0.50354609929078</td>\n",
       "\t\t<td>0.5680933852140092</td>\n",
       "\t\t<td>0.5090909090909091</td>\n",
       "\t\t<td>0.4401294498381875</td>\n",
       "\t\t<td>0.4</td>\n",
       "\t</tr>\n",
       "</table></html>"
      ],
      "text/plain": [
       "   id   ba  gtype        ri        na        mg        ai        si         k        ca    fe\n",
       "0   8  0.0      3  0.354478  0.376812  0.818182  0.453901  0.533074  0.554545  0.553398  0.00\n",
       "1  10  0.0      2  0.955224  0.634783  0.781818  0.489362  0.369650  0.300000  0.487055  0.00\n",
       "2  18  0.0      2  0.955224  0.475362  0.863636  0.340426  0.587549  0.490909  0.466019  0.00\n",
       "3  20  0.0      1  0.466418  0.440580  0.777273  0.432624  0.630350  0.545455  0.456311  0.00\n",
       "4   9  0.0      2  0.537313  0.423188  0.836364  0.276596  0.428016  0.581818  0.663430  0.60\n",
       "5  17  0.0      2  0.273632  0.333333  0.704545  0.581560  0.793774  0.609091  0.375405  0.00\n",
       "6  22  0.0      1  0.431592  0.460870  0.831818  0.269504  0.778210  0.518182  0.375405  0.00\n",
       "7  38  0.0      7  0.385572  0.924638  0.781818  0.943262  0.692607  0.000000  0.469256  0.32\n",
       "8  13  0.0      2  0.349502  0.513043  0.800000  0.666667  0.505837  0.618182  0.333333  0.00\n",
       "9  21  0.0      3  0.324627  0.486957  0.813636  0.503546  0.568093  0.509091  0.440129  0.40"
      ]
     },
     "metadata": {},
     "output_type": "display_data"
    },
    {
     "name": "stdout",
     "output_type": "stream",
     "text": [
      "                                                                                          \r"
     ]
    },
    {
     "data": {
      "text/html": [
       "120 rows X 11 columns"
      ],
      "text/plain": [
       "<IPython.core.display.HTML object>"
      ]
     },
     "metadata": {},
     "output_type": "display_data"
    },
    {
     "name": "stdout",
     "output_type": "stream",
     "text": [
      "                                                                                          \r"
     ]
    },
    {
     "data": {
      "text/html": [
       "Testing dataset sample after scaling:"
      ],
      "text/plain": [
       "<IPython.core.display.HTML object>"
      ]
     },
     "metadata": {},
     "output_type": "display_data"
    },
    {
     "data": {
      "text/html": [
       "<style type=\"text/css\">\n",
       "\ttable {border:ridge 5px;}\n",
       "\ttable td {border:inset 1px;}\n",
       "\ttable tr#HeaderRow {background-color:grey; color:white;}</style>\n",
       "<html><table>\n",
       "\t<tr id=\"HeaderRow\">\n",
       "\t\t<th>id</th>\n",
       "\t\t<th>ba</th>\n",
       "\t\t<th>gtype</th>\n",
       "\t\t<th>ri</th>\n",
       "\t\t<th>na</th>\n",
       "\t\t<th>mg</th>\n",
       "\t\t<th>ai</th>\n",
       "\t\t<th>si</th>\n",
       "\t\t<th>k</th>\n",
       "\t\t<th>ca</th>\n",
       "\t\t<th>fe</th>\n",
       "\t</tr>\n",
       "\t<tr>\n",
       "\t\t<td>29</td>\n",
       "\t\t<td>0.0</td>\n",
       "\t\t<td>2</td>\n",
       "\t\t<td>0.4154228855721519</td>\n",
       "\t\t<td>0.1855072463768113</td>\n",
       "\t\t<td>0.6681818181818181</td>\n",
       "\t\t<td>0.3475177304964538</td>\n",
       "\t\t<td>0.898832684824901</td>\n",
       "\t\t<td>0.5636363636363636</td>\n",
       "\t\t<td>0.5889967637540454</td>\n",
       "\t\t<td>0.96</td>\n",
       "\t</tr>\n",
       "\t<tr>\n",
       "\t\t<td>31</td>\n",
       "\t\t<td>0.0</td>\n",
       "\t\t<td>6</td>\n",
       "\t\t<td>0.5223880597014872</td>\n",
       "\t\t<td>0.8405797101449278</td>\n",
       "\t\t<td>0.20909090909090916</td>\n",
       "\t\t<td>0.6737588652482269</td>\n",
       "\t\t<td>0.4435797665369639</td>\n",
       "\t\t<td>0.0</td>\n",
       "\t\t<td>0.7055016181229773</td>\n",
       "\t\t<td>0.0</td>\n",
       "\t</tr>\n",
       "\t<tr>\n",
       "\t\t<td>103</td>\n",
       "\t\t<td>0.0</td>\n",
       "\t\t<td>3</td>\n",
       "\t\t<td>0.4601990049751262</td>\n",
       "\t\t<td>0.6028985507246378</td>\n",
       "\t\t<td>0.8499999999999999</td>\n",
       "\t\t<td>-0.01418439716312058</td>\n",
       "\t\t<td>0.6848249027237354</td>\n",
       "\t\t<td>0.054545454545454536</td>\n",
       "\t\t<td>0.5987055016181229</td>\n",
       "\t\t<td>0.0</td>\n",
       "\t</tr>\n",
       "\t<tr>\n",
       "\t\t<td>30</td>\n",
       "\t\t<td>0.0</td>\n",
       "\t\t<td>2</td>\n",
       "\t\t<td>0.20522388059703256</td>\n",
       "\t\t<td>0.9565217391304347</td>\n",
       "\t\t<td>0.859090909090909</td>\n",
       "\t\t<td>0.7588652482269501</td>\n",
       "\t\t<td>0.24513618677043106</td>\n",
       "\t\t<td>0.14545454545454545</td>\n",
       "\t\t<td>0.09061488673139168</td>\n",
       "\t\t<td>0.48</td>\n",
       "\t</tr>\n",
       "\t<tr>\n",
       "\t\t<td>26</td>\n",
       "\t\t<td>0.0</td>\n",
       "\t\t<td>2</td>\n",
       "\t\t<td>0.4863184079602061</td>\n",
       "\t\t<td>0.6231884057971017</td>\n",
       "\t\t<td>0.9772727272727274</td>\n",
       "\t\t<td>0.6170212765957446</td>\n",
       "\t\t<td>0.22178988326848473</td>\n",
       "\t\t<td>0.4909090909090909</td>\n",
       "\t\t<td>0.36569579288025916</td>\n",
       "\t\t<td>0.6</td>\n",
       "\t</tr>\n",
       "\t<tr>\n",
       "\t\t<td>114</td>\n",
       "\t\t<td>0.69</td>\n",
       "\t\t<td>1</td>\n",
       "\t\t<td>0.7064676616915543</td>\n",
       "\t\t<td>0.6521739130434784</td>\n",
       "\t\t<td>0.8181818181818181</td>\n",
       "\t\t<td>0.4609929078014184</td>\n",
       "\t\t<td>0.1867704280155652</td>\n",
       "\t\t<td>0.10909090909090907</td>\n",
       "\t\t<td>0.5145631067961165</td>\n",
       "\t\t<td>0.0</td>\n",
       "\t</tr>\n",
       "\t<tr>\n",
       "\t\t<td>27</td>\n",
       "\t\t<td>0.0</td>\n",
       "\t\t<td>1</td>\n",
       "\t\t<td>1.0174129353233865</td>\n",
       "\t\t<td>0.7565217391304347</td>\n",
       "\t\t<td>0.9227272727272727</td>\n",
       "\t\t<td>0.07801418439716311</td>\n",
       "\t\t<td>0.04280155642023312</td>\n",
       "\t\t<td>0.0</td>\n",
       "\t\t<td>0.8446601941747571</td>\n",
       "\t\t<td>0.0</td>\n",
       "\t</tr>\n",
       "\t<tr>\n",
       "\t\t<td>123</td>\n",
       "\t\t<td>0.0</td>\n",
       "\t\t<td>1</td>\n",
       "\t\t<td>0.45895522388059073</td>\n",
       "\t\t<td>0.4782608695652176</td>\n",
       "\t\t<td>0.46818181818181814</td>\n",
       "\t\t<td>0.43971631205673756</td>\n",
       "\t\t<td>0.6770428015564218</td>\n",
       "\t\t<td>0.4636363636363636</td>\n",
       "\t\t<td>0.6278317152103559</td>\n",
       "\t\t<td>0.36</td>\n",
       "\t</tr>\n",
       "\t<tr>\n",
       "\t\t<td>86</td>\n",
       "\t\t<td>0.0</td>\n",
       "\t\t<td>1</td>\n",
       "\t\t<td>0.4402985074626963</td>\n",
       "\t\t<td>0.35942028985507257</td>\n",
       "\t\t<td>0.8545454545454545</td>\n",
       "\t\t<td>0.42553191489361697</td>\n",
       "\t\t<td>0.688715953307395</td>\n",
       "\t\t<td>0.5454545454545454</td>\n",
       "\t\t<td>0.4789644012944985</td>\n",
       "\t\t<td>0.0</td>\n",
       "\t</tr>\n",
       "\t<tr>\n",
       "\t\t<td>125</td>\n",
       "\t\t<td>0.0</td>\n",
       "\t\t<td>1</td>\n",
       "\t\t<td>0.6430348258706577</td>\n",
       "\t\t<td>0.47536231884057945</td>\n",
       "\t\t<td>0.7045454545454545</td>\n",
       "\t\t<td>0.43262411347517726</td>\n",
       "\t\t<td>0.4357976653696503</td>\n",
       "\t\t<td>0.5454545454545454</td>\n",
       "\t\t<td>0.6666666666666669</td>\n",
       "\t\t<td>0.44</td>\n",
       "\t</tr>\n",
       "</table></html>"
      ],
      "text/plain": [
       "    id    ba  gtype        ri        na        mg        ai        si         k        ca    fe\n",
       "0   29  0.00      2  0.415423  0.185507  0.668182  0.347518  0.898833  0.563636  0.588997  0.96\n",
       "1   31  0.00      6  0.522388  0.840580  0.209091  0.673759  0.443580  0.000000  0.705502  0.00\n",
       "2  103  0.00      3  0.460199  0.602899  0.850000 -0.014184  0.684825  0.054545  0.598706  0.00\n",
       "3   30  0.00      2  0.205224  0.956522  0.859091  0.758865  0.245136  0.145455  0.090615  0.48\n",
       "4   26  0.00      2  0.486318  0.623188  0.977273  0.617021  0.221790  0.490909  0.365696  0.60\n",
       "5  114  0.69      1  0.706468  0.652174  0.818182  0.460993  0.186770  0.109091  0.514563  0.00\n",
       "6   27  0.00      1  1.017413  0.756522  0.922727  0.078014  0.042802  0.000000  0.844660  0.00\n",
       "7  123  0.00      1  0.458955  0.478261  0.468182  0.439716  0.677043  0.463636  0.627832  0.36\n",
       "8   86  0.00      1  0.440299  0.359420  0.854545  0.425532  0.688716  0.545455  0.478964  0.00\n",
       "9  125  0.00      1  0.643035  0.475362  0.704545  0.432624  0.435798  0.545455  0.666667  0.44"
      ]
     },
     "metadata": {},
     "output_type": "display_data"
    },
    {
     "name": "stdout",
     "output_type": "stream",
     "text": [
      "                                                                                          \r"
     ]
    },
    {
     "data": {
      "text/html": [
       "35 rows X 11 columns"
      ],
      "text/plain": [
       "<IPython.core.display.HTML object>"
      ]
     },
     "metadata": {},
     "output_type": "display_data"
    },
    {
     "name": "stdout",
     "output_type": "stream",
     "text": [
      "                                                                                          \r"
     ]
    },
    {
     "data": {
      "text/html": [
       "Total time taken by feature scaling: 42.83 sec"
      ],
      "text/plain": [
       "<IPython.core.display.HTML object>"
      ]
     },
     "metadata": {},
     "output_type": "display_data"
    },
    {
     "name": "stdout",
     "output_type": "stream",
     "text": [
      "                                                                                          \r"
     ]
    },
    {
     "data": {
      "text/html": [
       "\n",
       "Dimension Reduction using pca ..."
      ],
      "text/plain": [
       "<IPython.core.display.HTML object>"
      ]
     },
     "metadata": {},
     "output_type": "display_data"
    },
    {
     "name": "stdout",
     "output_type": "stream",
     "text": [
      "                                                                                          \r"
     ]
    },
    {
     "data": {
      "text/html": [
       "PCA columns:"
      ],
      "text/plain": [
       "<IPython.core.display.HTML object>"
      ]
     },
     "metadata": {},
     "output_type": "display_data"
    },
    {
     "name": "stdout",
     "output_type": "stream",
     "text": [
      "['col_0', 'col_1', 'col_2', 'col_3', 'col_4', 'col_5']\n",
      "                                                                                          \r"
     ]
    },
    {
     "data": {
      "text/html": [
       "Total time taken by PCA: 11.12 sec  "
      ],
      "text/plain": [
       "<IPython.core.display.HTML object>"
      ]
     },
     "metadata": {},
     "output_type": "display_data"
    },
    {
     "name": "stdout",
     "output_type": "stream",
     "text": [
      "                                                                                          \r"
     ]
    },
    {
     "data": {
      "text/html": [
       "\n",
       "            <style>\n",
       "                .custom-div {\n",
       "                    background-color: lightgray;\n",
       "                    color: #000000;\n",
       "                    padding: 10px;\n",
       "                    border-radius: 8px;\n",
       "                    box-shadow: 0 3px 4px rgba(0 -  0 -  0 -  0.2);\n",
       "                    margin-bottom: 10px;\n",
       "                    text-align: center;\n",
       "                }\n",
       "            </style>\n",
       "        <br><div class=\"custom-div\"><h3><span style=\"color: green;\">1. Feature Exploration -> 2. Feature Engineering -> 3. Data Preparation -></span> 4. Model Training & Evaluation<center></h3></center></div>"
      ],
      "text/plain": [
       "<IPython.core.display.HTML object>"
      ]
     },
     "metadata": {},
     "output_type": "display_data"
    },
    {
     "name": "stdout",
     "output_type": "stream",
     "text": [
      "                                                                                          \r"
     ]
    },
    {
     "data": {
      "text/html": [
       "Model Training started ..."
      ],
      "text/plain": [
       "<IPython.core.display.HTML object>"
      ]
     },
     "metadata": {},
     "output_type": "display_data"
    },
    {
     "name": "stdout",
     "output_type": "stream",
     "text": [
      "                                                                                          \r"
     ]
    },
    {
     "data": {
      "text/html": [
       "\n",
       "Hyperparameters used for model training: "
      ],
      "text/plain": [
       "<IPython.core.display.HTML object>"
      ]
     },
     "metadata": {},
     "output_type": "display_data"
    },
    {
     "name": "stdout",
     "output_type": "stream",
     "text": [
      "response_column : gtype                                                                                                                               \n",
      "name : xgboost\n",
      "model_type : Classification\n",
      "column_sampling : (1, 0.6)\n",
      "min_impurity : (0.0, 0.1, 0.2)\n",
      "lambda1 : (0.01, 0.1, 1, 10)\n",
      "shrinkage_factor : (0.5, 0.1, 0.3)\n",
      "max_depth : (5, 6, 8, 10)\n",
      "min_node_size : (1, 2, 3)\n",
      "iter_num : (10, 20, 30)\n",
      "seed : 42\n",
      "Total number of models for xgboost : 2592\n",
      "--------------------------------------------------------------------------------------------------------------------------------------------------------------------------------------------------------\n",
      "\n",
      "response_column : gtype\n",
      "name : decision_forest\n",
      "tree_type : Classification\n",
      "min_impurity : (0.0, 0.1, 0.2)\n",
      "max_depth : (5, 6, 8, 10)\n",
      "min_node_size : (1, 2, 3)\n",
      "num_trees : (-1, 20, 30)\n",
      "seed : 42\n",
      "Total number of models for decision_forest : 108\n",
      "--------------------------------------------------------------------------------------------------------------------------------------------------------------------------------------------------------\n",
      "\n",
      "                                                                                          \r"
     ]
    },
    {
     "data": {
      "text/html": [
       "\n",
       "Performing hyperParameter tuning ..."
      ],
      "text/plain": [
       "<IPython.core.display.HTML object>"
      ]
     },
     "metadata": {},
     "output_type": "display_data"
    },
    {
     "name": "stdout",
     "output_type": "stream",
     "text": [
      "                                                                                          \r"
     ]
    },
    {
     "data": {
      "text/html": [
       "xgboost"
      ],
      "text/plain": [
       "<IPython.core.display.HTML object>"
      ]
     },
     "metadata": {},
     "output_type": "display_data"
    },
    {
     "name": "stdout",
     "output_type": "stream",
     "text": [
      "result data stored in table '\"ALICE\".\"ml__td_sqlmr_persist_out__1719255532986096\"'                                                                                                                      \n",
      "result data stored in table '\"ALICE\".\"ml__td_sqlmr_persist_out__1719254719299697\"'\n",
      "result data stored in table '\"ALICE\".\"ml__td_sqlmr_persist_out__1719255036325012\"'\n",
      "                                                                                          \r"
     ]
    },
    {
     "data": {
      "text/html": [
       "----------------------------------------------------------------------------------------------------"
      ],
      "text/plain": [
       "<IPython.core.display.HTML object>"
      ]
     },
     "metadata": {},
     "output_type": "display_data"
    },
    {
     "name": "stdout",
     "output_type": "stream",
     "text": [
      "                                                                                          \r"
     ]
    },
    {
     "data": {
      "text/html": [
       "decision_forest"
      ],
      "text/plain": [
       "<IPython.core.display.HTML object>"
      ]
     },
     "metadata": {},
     "output_type": "display_data"
    },
    {
     "name": "stdout",
     "output_type": "stream",
     "text": [
      "result data stored in table '\"ALICE\".\"ml__td_sqlmr_persist_out__1719258962426381\"'                                                                                                                      \n",
      "result data stored in table '\"ALICE\".\"ml__td_sqlmr_persist_out__1719255037205335\"'\n",
      "result data stored in table '\"ALICE\".\"ml__td_sqlmr_persist_out__1719256135304803\"'\n",
      "                                                                                          \r"
     ]
    },
    {
     "data": {
      "text/html": [
       "----------------------------------------------------------------------------------------------------"
      ],
      "text/plain": [
       "<IPython.core.display.HTML object>"
      ]
     },
     "metadata": {},
     "output_type": "display_data"
    },
    {
     "name": "stdout",
     "output_type": "stream",
     "text": [
      "                                                                                          \r"
     ]
    },
    {
     "data": {
      "text/html": [
       "Evaluating models performance ..."
      ],
      "text/plain": [
       "<IPython.core.display.HTML object>"
      ]
     },
     "metadata": {},
     "output_type": "display_data"
    },
    {
     "name": "stdout",
     "output_type": "stream",
     "text": [
      "                                                                                          \r"
     ]
    },
    {
     "data": {
      "text/html": [
       "Evaluation completed."
      ],
      "text/plain": [
       "<IPython.core.display.HTML object>"
      ]
     },
     "metadata": {},
     "output_type": "display_data"
    },
    {
     "name": "stdout",
     "output_type": "stream",
     "text": [
      "                                                                                          \r"
     ]
    },
    {
     "data": {
      "text/html": [
       "Leaderboard"
      ],
      "text/plain": [
       "<IPython.core.display.HTML object>"
      ]
     },
     "metadata": {},
     "output_type": "display_data"
    },
    {
     "data": {
      "text/html": [
       "<div>\n",
       "<style scoped>\n",
       "    .dataframe tbody tr th:only-of-type {\n",
       "        vertical-align: middle;\n",
       "    }\n",
       "\n",
       "    .dataframe tbody tr th {\n",
       "        vertical-align: top;\n",
       "    }\n",
       "\n",
       "    .dataframe thead th {\n",
       "        text-align: right;\n",
       "    }\n",
       "</style>\n",
       "<table border=\"1\" class=\"dataframe\">\n",
       "  <thead>\n",
       "    <tr style=\"text-align: right;\">\n",
       "      <th></th>\n",
       "      <th>Rank</th>\n",
       "      <th>Model-ID</th>\n",
       "      <th>Feature-Selection</th>\n",
       "      <th>Accuracy</th>\n",
       "      <th>Micro-Precision</th>\n",
       "      <th>Micro-Recall</th>\n",
       "      <th>Micro-F1</th>\n",
       "      <th>Macro-Precision</th>\n",
       "      <th>Macro-Recall</th>\n",
       "      <th>Macro-F1</th>\n",
       "      <th>Weighted-Precision</th>\n",
       "      <th>Weighted-Recall</th>\n",
       "      <th>Weighted-F1</th>\n",
       "    </tr>\n",
       "  </thead>\n",
       "  <tbody>\n",
       "    <tr>\n",
       "      <th>0</th>\n",
       "      <td>1</td>\n",
       "      <td>XGBOOST_1</td>\n",
       "      <td>rfe</td>\n",
       "      <td>0.685714</td>\n",
       "      <td>0.685714</td>\n",
       "      <td>0.685714</td>\n",
       "      <td>0.685714</td>\n",
       "      <td>0.733333</td>\n",
       "      <td>0.596581</td>\n",
       "      <td>0.618539</td>\n",
       "      <td>0.720000</td>\n",
       "      <td>0.685714</td>\n",
       "      <td>0.679993</td>\n",
       "    </tr>\n",
       "    <tr>\n",
       "      <th>1</th>\n",
       "      <td>2</td>\n",
       "      <td>XGBOOST_4</td>\n",
       "      <td>rfe</td>\n",
       "      <td>0.685714</td>\n",
       "      <td>0.685714</td>\n",
       "      <td>0.685714</td>\n",
       "      <td>0.685714</td>\n",
       "      <td>0.733333</td>\n",
       "      <td>0.596581</td>\n",
       "      <td>0.618539</td>\n",
       "      <td>0.720000</td>\n",
       "      <td>0.685714</td>\n",
       "      <td>0.679993</td>\n",
       "    </tr>\n",
       "    <tr>\n",
       "      <th>2</th>\n",
       "      <td>3</td>\n",
       "      <td>DECISIONFOREST_3</td>\n",
       "      <td>lasso</td>\n",
       "      <td>0.628571</td>\n",
       "      <td>0.628571</td>\n",
       "      <td>0.628571</td>\n",
       "      <td>0.628571</td>\n",
       "      <td>0.558201</td>\n",
       "      <td>0.641026</td>\n",
       "      <td>0.566155</td>\n",
       "      <td>0.599773</td>\n",
       "      <td>0.628571</td>\n",
       "      <td>0.589001</td>\n",
       "    </tr>\n",
       "    <tr>\n",
       "      <th>3</th>\n",
       "      <td>4</td>\n",
       "      <td>DECISIONFOREST_1</td>\n",
       "      <td>rfe</td>\n",
       "      <td>0.571429</td>\n",
       "      <td>0.571429</td>\n",
       "      <td>0.571429</td>\n",
       "      <td>0.571429</td>\n",
       "      <td>0.614583</td>\n",
       "      <td>0.541026</td>\n",
       "      <td>0.536159</td>\n",
       "      <td>0.626786</td>\n",
       "      <td>0.571429</td>\n",
       "      <td>0.572250</td>\n",
       "    </tr>\n",
       "    <tr>\n",
       "      <th>4</th>\n",
       "      <td>5</td>\n",
       "      <td>DECISIONFOREST_0</td>\n",
       "      <td>lasso</td>\n",
       "      <td>0.542857</td>\n",
       "      <td>0.542857</td>\n",
       "      <td>0.542857</td>\n",
       "      <td>0.542857</td>\n",
       "      <td>0.602381</td>\n",
       "      <td>0.594872</td>\n",
       "      <td>0.570679</td>\n",
       "      <td>0.608163</td>\n",
       "      <td>0.542857</td>\n",
       "      <td>0.553704</td>\n",
       "    </tr>\n",
       "    <tr>\n",
       "      <th>5</th>\n",
       "      <td>6</td>\n",
       "      <td>XGBOOST_2</td>\n",
       "      <td>pca</td>\n",
       "      <td>0.542857</td>\n",
       "      <td>0.542857</td>\n",
       "      <td>0.542857</td>\n",
       "      <td>0.542857</td>\n",
       "      <td>0.347222</td>\n",
       "      <td>0.485897</td>\n",
       "      <td>0.377879</td>\n",
       "      <td>0.480952</td>\n",
       "      <td>0.542857</td>\n",
       "      <td>0.496935</td>\n",
       "    </tr>\n",
       "    <tr>\n",
       "      <th>6</th>\n",
       "      <td>7</td>\n",
       "      <td>XGBOOST_5</td>\n",
       "      <td>pca</td>\n",
       "      <td>0.542857</td>\n",
       "      <td>0.542857</td>\n",
       "      <td>0.542857</td>\n",
       "      <td>0.542857</td>\n",
       "      <td>0.347222</td>\n",
       "      <td>0.485897</td>\n",
       "      <td>0.377879</td>\n",
       "      <td>0.480952</td>\n",
       "      <td>0.542857</td>\n",
       "      <td>0.496935</td>\n",
       "    </tr>\n",
       "    <tr>\n",
       "      <th>7</th>\n",
       "      <td>8</td>\n",
       "      <td>DECISIONFOREST_2</td>\n",
       "      <td>pca</td>\n",
       "      <td>0.542857</td>\n",
       "      <td>0.542857</td>\n",
       "      <td>0.542857</td>\n",
       "      <td>0.542857</td>\n",
       "      <td>0.286147</td>\n",
       "      <td>0.337179</td>\n",
       "      <td>0.292063</td>\n",
       "      <td>0.455659</td>\n",
       "      <td>0.542857</td>\n",
       "      <td>0.464218</td>\n",
       "    </tr>\n",
       "  </tbody>\n",
       "</table>\n",
       "</div>"
      ],
      "text/plain": [
       "   Rank          Model-ID Feature-Selection  Accuracy  Micro-Precision  \\\n",
       "0     1         XGBOOST_1               rfe  0.685714         0.685714   \n",
       "1     2         XGBOOST_4               rfe  0.685714         0.685714   \n",
       "2     3  DECISIONFOREST_3             lasso  0.628571         0.628571   \n",
       "3     4  DECISIONFOREST_1               rfe  0.571429         0.571429   \n",
       "4     5  DECISIONFOREST_0             lasso  0.542857         0.542857   \n",
       "5     6         XGBOOST_2               pca  0.542857         0.542857   \n",
       "6     7         XGBOOST_5               pca  0.542857         0.542857   \n",
       "7     8  DECISIONFOREST_2               pca  0.542857         0.542857   \n",
       "\n",
       "   Micro-Recall  Micro-F1  Macro-Precision  Macro-Recall  Macro-F1  \\\n",
       "0      0.685714  0.685714         0.733333      0.596581  0.618539   \n",
       "1      0.685714  0.685714         0.733333      0.596581  0.618539   \n",
       "2      0.628571  0.628571         0.558201      0.641026  0.566155   \n",
       "3      0.571429  0.571429         0.614583      0.541026  0.536159   \n",
       "4      0.542857  0.542857         0.602381      0.594872  0.570679   \n",
       "5      0.542857  0.542857         0.347222      0.485897  0.377879   \n",
       "6      0.542857  0.542857         0.347222      0.485897  0.377879   \n",
       "7      0.542857  0.542857         0.286147      0.337179  0.292063   \n",
       "\n",
       "   Weighted-Precision  Weighted-Recall  Weighted-F1  \n",
       "0            0.720000         0.685714     0.679993  \n",
       "1            0.720000         0.685714     0.679993  \n",
       "2            0.599773         0.628571     0.589001  \n",
       "3            0.626786         0.571429     0.572250  \n",
       "4            0.608163         0.542857     0.553704  \n",
       "5            0.480952         0.542857     0.496935  \n",
       "6            0.480952         0.542857     0.496935  \n",
       "7            0.455659         0.542857     0.464218  "
      ]
     },
     "metadata": {},
     "output_type": "display_data"
    },
    {
     "name": "stdout",
     "output_type": "stream",
     "text": [
      "                                                                                          \r"
     ]
    },
    {
     "data": {
      "text/html": [
       "8 rows X 13 columns"
      ],
      "text/plain": [
       "<IPython.core.display.HTML object>"
      ]
     },
     "metadata": {},
     "output_type": "display_data"
    },
    {
     "name": "stdout",
     "output_type": "stream",
     "text": [
      "                                                                                          \r"
     ]
    },
    {
     "data": {
      "text/html": [
       "\n",
       "            <style>\n",
       "                .custom-div {\n",
       "                    background-color: lightgray;\n",
       "                    color: #000000;\n",
       "                    padding: 10px;\n",
       "                    border-radius: 8px;\n",
       "                    box-shadow: 0 3px 4px rgba(0 -  0 -  0 -  0.2);\n",
       "                    margin-bottom: 10px;\n",
       "                    text-align: center;\n",
       "                }\n",
       "            </style>\n",
       "        <br><div class=\"custom-div\"><h3><span style=\"color: green;\">1. Feature Exploration -> 2. Feature Engineering -> 3. Data Preparation -> 4. Model Training & Evaluation</span><center></h3></center></div>"
      ],
      "text/plain": [
       "<IPython.core.display.HTML object>"
      ]
     },
     "metadata": {},
     "output_type": "display_data"
    },
    {
     "name": "stdout",
     "output_type": "stream",
     "text": [
      "Completed: ｜⫿⫿⫿⫿⫿⫿⫿⫿⫿⫿⫿⫿⫿⫿⫿⫿⫿⫿⫿⫿⫿⫿⫿⫿⫿⫿⫿⫿⫿⫿⫿⫿⫿⫿⫿⫿⫿⫿⫿⫿⫿⫿⫿⫿⫿⫿⫿⫿⫿⫿⫿⫿⫿⫿⫿⫿⫿⫿⫿⫿｜ 100% - 16/16    \r"
     ]
    }
   ],
   "source": [
    "# Fitting train data\n",
    "aml.fit(glass_df_train, glass_df_train.gtype)"
   ]
  },
  {
   "cell_type": "markdown",
   "id": "23a04eb1-68e6-48b7-95aa-442f434809da",
   "metadata": {},
   "source": [
    "## <b><span style='color:#F1A424'>| 3.</span> Leaderboard : </b>"
   ]
  },
  {
   "cell_type": "code",
   "execution_count": 17,
   "id": "77de1099-6122-4f8a-8e7f-dd67e5b4ced4",
   "metadata": {},
   "outputs": [
    {
     "data": {
      "text/html": [
       "<div>\n",
       "<style scoped>\n",
       "    .dataframe tbody tr th:only-of-type {\n",
       "        vertical-align: middle;\n",
       "    }\n",
       "\n",
       "    .dataframe tbody tr th {\n",
       "        vertical-align: top;\n",
       "    }\n",
       "\n",
       "    .dataframe thead th {\n",
       "        text-align: right;\n",
       "    }\n",
       "</style>\n",
       "<table border=\"1\" class=\"dataframe\">\n",
       "  <thead>\n",
       "    <tr style=\"text-align: right;\">\n",
       "      <th></th>\n",
       "      <th>Rank</th>\n",
       "      <th>Model-ID</th>\n",
       "      <th>Feature-Selection</th>\n",
       "      <th>Accuracy</th>\n",
       "      <th>Micro-Precision</th>\n",
       "      <th>Micro-Recall</th>\n",
       "      <th>Micro-F1</th>\n",
       "      <th>Macro-Precision</th>\n",
       "      <th>Macro-Recall</th>\n",
       "      <th>Macro-F1</th>\n",
       "      <th>Weighted-Precision</th>\n",
       "      <th>Weighted-Recall</th>\n",
       "      <th>Weighted-F1</th>\n",
       "    </tr>\n",
       "  </thead>\n",
       "  <tbody>\n",
       "    <tr>\n",
       "      <th>0</th>\n",
       "      <td>1</td>\n",
       "      <td>XGBOOST_1</td>\n",
       "      <td>rfe</td>\n",
       "      <td>0.685714</td>\n",
       "      <td>0.685714</td>\n",
       "      <td>0.685714</td>\n",
       "      <td>0.685714</td>\n",
       "      <td>0.733333</td>\n",
       "      <td>0.596581</td>\n",
       "      <td>0.618539</td>\n",
       "      <td>0.720000</td>\n",
       "      <td>0.685714</td>\n",
       "      <td>0.679993</td>\n",
       "    </tr>\n",
       "    <tr>\n",
       "      <th>1</th>\n",
       "      <td>2</td>\n",
       "      <td>XGBOOST_4</td>\n",
       "      <td>rfe</td>\n",
       "      <td>0.685714</td>\n",
       "      <td>0.685714</td>\n",
       "      <td>0.685714</td>\n",
       "      <td>0.685714</td>\n",
       "      <td>0.733333</td>\n",
       "      <td>0.596581</td>\n",
       "      <td>0.618539</td>\n",
       "      <td>0.720000</td>\n",
       "      <td>0.685714</td>\n",
       "      <td>0.679993</td>\n",
       "    </tr>\n",
       "    <tr>\n",
       "      <th>2</th>\n",
       "      <td>3</td>\n",
       "      <td>DECISIONFOREST_3</td>\n",
       "      <td>lasso</td>\n",
       "      <td>0.628571</td>\n",
       "      <td>0.628571</td>\n",
       "      <td>0.628571</td>\n",
       "      <td>0.628571</td>\n",
       "      <td>0.558201</td>\n",
       "      <td>0.641026</td>\n",
       "      <td>0.566155</td>\n",
       "      <td>0.599773</td>\n",
       "      <td>0.628571</td>\n",
       "      <td>0.589001</td>\n",
       "    </tr>\n",
       "    <tr>\n",
       "      <th>3</th>\n",
       "      <td>4</td>\n",
       "      <td>DECISIONFOREST_1</td>\n",
       "      <td>rfe</td>\n",
       "      <td>0.571429</td>\n",
       "      <td>0.571429</td>\n",
       "      <td>0.571429</td>\n",
       "      <td>0.571429</td>\n",
       "      <td>0.614583</td>\n",
       "      <td>0.541026</td>\n",
       "      <td>0.536159</td>\n",
       "      <td>0.626786</td>\n",
       "      <td>0.571429</td>\n",
       "      <td>0.572250</td>\n",
       "    </tr>\n",
       "    <tr>\n",
       "      <th>4</th>\n",
       "      <td>5</td>\n",
       "      <td>DECISIONFOREST_0</td>\n",
       "      <td>lasso</td>\n",
       "      <td>0.542857</td>\n",
       "      <td>0.542857</td>\n",
       "      <td>0.542857</td>\n",
       "      <td>0.542857</td>\n",
       "      <td>0.602381</td>\n",
       "      <td>0.594872</td>\n",
       "      <td>0.570679</td>\n",
       "      <td>0.608163</td>\n",
       "      <td>0.542857</td>\n",
       "      <td>0.553704</td>\n",
       "    </tr>\n",
       "    <tr>\n",
       "      <th>5</th>\n",
       "      <td>6</td>\n",
       "      <td>XGBOOST_2</td>\n",
       "      <td>pca</td>\n",
       "      <td>0.542857</td>\n",
       "      <td>0.542857</td>\n",
       "      <td>0.542857</td>\n",
       "      <td>0.542857</td>\n",
       "      <td>0.347222</td>\n",
       "      <td>0.485897</td>\n",
       "      <td>0.377879</td>\n",
       "      <td>0.480952</td>\n",
       "      <td>0.542857</td>\n",
       "      <td>0.496935</td>\n",
       "    </tr>\n",
       "    <tr>\n",
       "      <th>6</th>\n",
       "      <td>7</td>\n",
       "      <td>XGBOOST_5</td>\n",
       "      <td>pca</td>\n",
       "      <td>0.542857</td>\n",
       "      <td>0.542857</td>\n",
       "      <td>0.542857</td>\n",
       "      <td>0.542857</td>\n",
       "      <td>0.347222</td>\n",
       "      <td>0.485897</td>\n",
       "      <td>0.377879</td>\n",
       "      <td>0.480952</td>\n",
       "      <td>0.542857</td>\n",
       "      <td>0.496935</td>\n",
       "    </tr>\n",
       "    <tr>\n",
       "      <th>7</th>\n",
       "      <td>8</td>\n",
       "      <td>DECISIONFOREST_2</td>\n",
       "      <td>pca</td>\n",
       "      <td>0.542857</td>\n",
       "      <td>0.542857</td>\n",
       "      <td>0.542857</td>\n",
       "      <td>0.542857</td>\n",
       "      <td>0.286147</td>\n",
       "      <td>0.337179</td>\n",
       "      <td>0.292063</td>\n",
       "      <td>0.455659</td>\n",
       "      <td>0.542857</td>\n",
       "      <td>0.464218</td>\n",
       "    </tr>\n",
       "  </tbody>\n",
       "</table>\n",
       "</div>"
      ],
      "text/plain": [
       "   Rank          Model-ID Feature-Selection  Accuracy  Micro-Precision  \\\n",
       "0     1         XGBOOST_1               rfe  0.685714         0.685714   \n",
       "1     2         XGBOOST_4               rfe  0.685714         0.685714   \n",
       "2     3  DECISIONFOREST_3             lasso  0.628571         0.628571   \n",
       "3     4  DECISIONFOREST_1               rfe  0.571429         0.571429   \n",
       "4     5  DECISIONFOREST_0             lasso  0.542857         0.542857   \n",
       "5     6         XGBOOST_2               pca  0.542857         0.542857   \n",
       "6     7         XGBOOST_5               pca  0.542857         0.542857   \n",
       "7     8  DECISIONFOREST_2               pca  0.542857         0.542857   \n",
       "\n",
       "   Micro-Recall  Micro-F1  Macro-Precision  Macro-Recall  Macro-F1  \\\n",
       "0      0.685714  0.685714         0.733333      0.596581  0.618539   \n",
       "1      0.685714  0.685714         0.733333      0.596581  0.618539   \n",
       "2      0.628571  0.628571         0.558201      0.641026  0.566155   \n",
       "3      0.571429  0.571429         0.614583      0.541026  0.536159   \n",
       "4      0.542857  0.542857         0.602381      0.594872  0.570679   \n",
       "5      0.542857  0.542857         0.347222      0.485897  0.377879   \n",
       "6      0.542857  0.542857         0.347222      0.485897  0.377879   \n",
       "7      0.542857  0.542857         0.286147      0.337179  0.292063   \n",
       "\n",
       "   Weighted-Precision  Weighted-Recall  Weighted-F1  \n",
       "0            0.720000         0.685714     0.679993  \n",
       "1            0.720000         0.685714     0.679993  \n",
       "2            0.599773         0.628571     0.589001  \n",
       "3            0.626786         0.571429     0.572250  \n",
       "4            0.608163         0.542857     0.553704  \n",
       "5            0.480952         0.542857     0.496935  \n",
       "6            0.480952         0.542857     0.496935  \n",
       "7            0.455659         0.542857     0.464218  "
      ]
     },
     "execution_count": 17,
     "metadata": {},
     "output_type": "execute_result"
    }
   ],
   "source": [
    "# Fetching Leaderboard\n",
    "aml.leaderboard()"
   ]
  },
  {
   "cell_type": "markdown",
   "id": "a7a3aa08-e349-4a61-9217-2c17d50411d8",
   "metadata": {},
   "source": [
    "## <b><span style='color:#F1A424'>| 4.</span> Best Performing Model : </b>"
   ]
  },
  {
   "cell_type": "code",
   "execution_count": 18,
   "id": "c4c32832-a76b-4f42-826a-cefc38a6301b",
   "metadata": {},
   "outputs": [
    {
     "data": {
      "text/html": [
       "<div>\n",
       "<style scoped>\n",
       "    .dataframe tbody tr th:only-of-type {\n",
       "        vertical-align: middle;\n",
       "    }\n",
       "\n",
       "    .dataframe tbody tr th {\n",
       "        vertical-align: top;\n",
       "    }\n",
       "\n",
       "    .dataframe thead th {\n",
       "        text-align: right;\n",
       "    }\n",
       "</style>\n",
       "<table border=\"1\" class=\"dataframe\">\n",
       "  <thead>\n",
       "    <tr style=\"text-align: right;\">\n",
       "      <th></th>\n",
       "      <th>Rank</th>\n",
       "      <th>Model-ID</th>\n",
       "      <th>Feature-Selection</th>\n",
       "      <th>Accuracy</th>\n",
       "      <th>Micro-Precision</th>\n",
       "      <th>Micro-Recall</th>\n",
       "      <th>Micro-F1</th>\n",
       "      <th>Macro-Precision</th>\n",
       "      <th>Macro-Recall</th>\n",
       "      <th>Macro-F1</th>\n",
       "      <th>Weighted-Precision</th>\n",
       "      <th>Weighted-Recall</th>\n",
       "      <th>Weighted-F1</th>\n",
       "    </tr>\n",
       "  </thead>\n",
       "  <tbody>\n",
       "    <tr>\n",
       "      <th>0</th>\n",
       "      <td>1</td>\n",
       "      <td>XGBOOST_1</td>\n",
       "      <td>rfe</td>\n",
       "      <td>0.685714</td>\n",
       "      <td>0.685714</td>\n",
       "      <td>0.685714</td>\n",
       "      <td>0.685714</td>\n",
       "      <td>0.733333</td>\n",
       "      <td>0.596581</td>\n",
       "      <td>0.618539</td>\n",
       "      <td>0.72</td>\n",
       "      <td>0.685714</td>\n",
       "      <td>0.679993</td>\n",
       "    </tr>\n",
       "  </tbody>\n",
       "</table>\n",
       "</div>"
      ],
      "text/plain": [
       "   Rank   Model-ID Feature-Selection  Accuracy  Micro-Precision  Micro-Recall  \\\n",
       "0     1  XGBOOST_1               rfe  0.685714         0.685714      0.685714   \n",
       "\n",
       "   Micro-F1  Macro-Precision  Macro-Recall  Macro-F1  Weighted-Precision  \\\n",
       "0  0.685714         0.733333      0.596581  0.618539                0.72   \n",
       "\n",
       "   Weighted-Recall  Weighted-F1  \n",
       "0         0.685714     0.679993  "
      ]
     },
     "metadata": {},
     "output_type": "display_data"
    }
   ],
   "source": [
    "# Fetching best performing model for dataset\n",
    "aml.leader()"
   ]
  },
  {
   "cell_type": "markdown",
   "id": "e43181a9-3847-4e8b-b510-6da81f1c550f",
   "metadata": {},
   "source": [
    "## <b><span style='color:#F1A424'>| 5.</span> Generating Prediction : </b>"
   ]
  },
  {
   "cell_type": "code",
   "execution_count": 21,
   "id": "5b6edfe3-bd5a-46bd-ad80-b20fadfed7a0",
   "metadata": {},
   "outputs": [
    {
     "name": "stdout",
     "output_type": "stream",
     "text": [
      "Data Transformation started ...\n",
      "                                                                                                \r"
     ]
    },
    {
     "data": {
      "text/html": [
       "Performing transformation carried out in feature engineering phase ..."
      ],
      "text/plain": [
       "<IPython.core.display.HTML object>"
      ]
     },
     "metadata": {},
     "output_type": "display_data"
    },
    {
     "name": "stdout",
     "output_type": "stream",
     "text": [
      "                                                                                                 \r"
     ]
    },
    {
     "data": {
      "text/html": [
       "\n",
       "Updated dataset after performing target column transformation :"
      ],
      "text/plain": [
       "<IPython.core.display.HTML object>"
      ]
     },
     "metadata": {},
     "output_type": "display_data"
    },
    {
     "data": {
      "text/html": [
       "<style type=\"text/css\">\n",
       "\ttable {border:ridge 5px;}\n",
       "\ttable td {border:inset 1px;}\n",
       "\ttable tr#HeaderRow {background-color:grey; color:white;}</style>\n",
       "<html><table>\n",
       "\t<tr id=\"HeaderRow\">\n",
       "\t\t<th>ca</th>\n",
       "\t\t<th>ai</th>\n",
       "\t\t<th>fe</th>\n",
       "\t\t<th>k</th>\n",
       "\t\t<th>mg</th>\n",
       "\t\t<th>na</th>\n",
       "\t\t<th>id</th>\n",
       "\t\t<th>si</th>\n",
       "\t\t<th>ri</th>\n",
       "\t\t<th>ba</th>\n",
       "\t\t<th>gtype</th>\n",
       "\t</tr>\n",
       "\t<tr>\n",
       "\t\t<td>10.17</td>\n",
       "\t\t<td>1.83</td>\n",
       "\t\t<td>0.0</td>\n",
       "\t\t<td>0.97</td>\n",
       "\t\t<td>0.0</td>\n",
       "\t\t<td>12.86</td>\n",
       "\t\t<td>8</td>\n",
       "\t\t<td>73.88</td>\n",
       "\t\t<td>1.51666</td>\n",
       "\t\t<td>0.0</td>\n",
       "\t\t<td>5</td>\n",
       "\t</tr>\n",
       "\t<tr>\n",
       "\t\t<td>8.17</td>\n",
       "\t\t<td>1.14</td>\n",
       "\t\t<td>0.0</td>\n",
       "\t\t<td>0.58</td>\n",
       "\t\t<td>3.6</td>\n",
       "\t\t<td>13.3</td>\n",
       "\t\t<td>13</td>\n",
       "\t\t<td>73.09</td>\n",
       "\t\t<td>1.51743</td>\n",
       "\t\t<td>0.0</td>\n",
       "\t\t<td>1</td>\n",
       "\t</tr>\n",
       "\t<tr>\n",
       "\t\t<td>8.03</td>\n",
       "\t\t<td>1.53</td>\n",
       "\t\t<td>0.29</td>\n",
       "\t\t<td>0.65</td>\n",
       "\t\t<td>3.64</td>\n",
       "\t\t<td>13.3</td>\n",
       "\t\t<td>21</td>\n",
       "\t\t<td>72.53</td>\n",
       "\t\t<td>1.51673</td>\n",
       "\t\t<td>0.0</td>\n",
       "\t\t<td>2</td>\n",
       "\t</tr>\n",
       "\t<tr>\n",
       "\t\t<td>8.83</td>\n",
       "\t\t<td>1.18</td>\n",
       "\t\t<td>0.16</td>\n",
       "\t\t<td>0.57</td>\n",
       "\t\t<td>3.37</td>\n",
       "\t\t<td>13.19</td>\n",
       "\t\t<td>15</td>\n",
       "\t\t<td>72.72</td>\n",
       "\t\t<td>1.51869</td>\n",
       "\t\t<td>0.0</td>\n",
       "\t\t<td>1</td>\n",
       "\t</tr>\n",
       "\t<tr>\n",
       "\t\t<td>9.85</td>\n",
       "\t\t<td>0.87</td>\n",
       "\t\t<td>0.17</td>\n",
       "\t\t<td>0.19</td>\n",
       "\t\t<td>3.65</td>\n",
       "\t\t<td>13.05</td>\n",
       "\t\t<td>14</td>\n",
       "\t\t<td>72.22</td>\n",
       "\t\t<td>1.52152</td>\n",
       "\t\t<td>0.0</td>\n",
       "\t\t<td>1</td>\n",
       "\t</tr>\n",
       "\t<tr>\n",
       "\t\t<td>9.7</td>\n",
       "\t\t<td>2.17</td>\n",
       "\t\t<td>0.51</td>\n",
       "\t\t<td>0.76</td>\n",
       "\t\t<td>1.61</td>\n",
       "\t\t<td>12.85</td>\n",
       "\t\t<td>22</td>\n",
       "\t\t<td>72.18</td>\n",
       "\t\t<td>1.52058</td>\n",
       "\t\t<td>0.24</td>\n",
       "\t\t<td>5</td>\n",
       "\t</tr>\n",
       "\t<tr>\n",
       "\t\t<td>8.91</td>\n",
       "\t\t<td>1.23</td>\n",
       "\t\t<td>0.0</td>\n",
       "\t\t<td>0.59</td>\n",
       "\t\t<td>3.35</td>\n",
       "\t\t<td>13.58</td>\n",
       "\t\t<td>11</td>\n",
       "\t\t<td>72.08</td>\n",
       "\t\t<td>1.51898</td>\n",
       "\t\t<td>0.0</td>\n",
       "\t\t<td>1</td>\n",
       "\t</tr>\n",
       "\t<tr>\n",
       "\t\t<td>8.69</td>\n",
       "\t\t<td>1.3</td>\n",
       "\t\t<td>0.14</td>\n",
       "\t\t<td>0.61</td>\n",
       "\t\t<td>3.56</td>\n",
       "\t\t<td>12.65</td>\n",
       "\t\t<td>19</td>\n",
       "\t\t<td>73.08</td>\n",
       "\t\t<td>1.51768</td>\n",
       "\t\t<td>0.0</td>\n",
       "\t\t<td>1</td>\n",
       "\t</tr>\n",
       "\t<tr>\n",
       "\t\t<td>8.48</td>\n",
       "\t\t<td>1.94</td>\n",
       "\t\t<td>0.0</td>\n",
       "\t\t<td>0.0</td>\n",
       "\t\t<td>0.0</td>\n",
       "\t\t<td>14.38</td>\n",
       "\t\t<td>10</td>\n",
       "\t\t<td>73.61</td>\n",
       "\t\t<td>1.51651</td>\n",
       "\t\t<td>1.57</td>\n",
       "\t\t<td>7</td>\n",
       "\t</tr>\n",
       "\t<tr>\n",
       "\t\t<td>10.02</td>\n",
       "\t\t<td>0.79</td>\n",
       "\t\t<td>0.0</td>\n",
       "\t\t<td>0.13</td>\n",
       "\t\t<td>3.77</td>\n",
       "\t\t<td>13.21</td>\n",
       "\t\t<td>18</td>\n",
       "\t\t<td>71.99</td>\n",
       "\t\t<td>1.52223</td>\n",
       "\t\t<td>0.0</td>\n",
       "\t\t<td>1</td>\n",
       "\t</tr>\n",
       "</table></html>"
      ],
      "text/plain": [
       "      ca    ai    fe     k    mg     na  id     si       ri    ba  gtype\n",
       "0  10.17  1.83  0.00  0.97  0.00  12.86   8  73.88  1.51666  0.00      5\n",
       "1   8.17  1.14  0.00  0.58  3.60  13.30  13  73.09  1.51743  0.00      1\n",
       "2   8.03  1.53  0.29  0.65  3.64  13.30  21  72.53  1.51673  0.00      2\n",
       "3   8.83  1.18  0.16  0.57  3.37  13.19  15  72.72  1.51869  0.00      1\n",
       "4   9.85  0.87  0.17  0.19  3.65  13.05  14  72.22  1.52152  0.00      1\n",
       "5   9.70  2.17  0.51  0.76  1.61  12.85  22  72.18  1.52058  0.24      5\n",
       "6   8.91  1.23  0.00  0.59  3.35  13.58  11  72.08  1.51898  0.00      1\n",
       "7   8.69  1.30  0.14  0.61  3.56  12.65  19  73.08  1.51768  0.00      1\n",
       "8   8.48  1.94  0.00  0.00  0.00  14.38  10  73.61  1.51651  1.57      7\n",
       "9  10.02  0.79  0.00  0.13  3.77  13.21  18  71.99  1.52223  0.00      1"
      ]
     },
     "metadata": {},
     "output_type": "display_data"
    },
    {
     "name": "stdout",
     "output_type": "stream",
     "text": [
      "                                                                                                 \r"
     ]
    },
    {
     "data": {
      "text/html": [
       "43 rows X 11 columns"
      ],
      "text/plain": [
       "<IPython.core.display.HTML object>"
      ]
     },
     "metadata": {},
     "output_type": "display_data"
    },
    {
     "name": "stdout",
     "output_type": "stream",
     "text": [
      "                                                                                                 \r"
     ]
    },
    {
     "data": {
      "text/html": [
       "Performing transformation carried out in data preparation phase ..."
      ],
      "text/plain": [
       "<IPython.core.display.HTML object>"
      ]
     },
     "metadata": {},
     "output_type": "display_data"
    },
    {
     "name": "stdout",
     "output_type": "stream",
     "text": [
      "result data stored in table '\"ALICE\".\"ml__td_sqlmr_persist_out__1719263535487251\"'⫾⫾⫾｜ 60% - 6/10\n",
      "                                                                                                 \r"
     ]
    },
    {
     "data": {
      "text/html": [
       "\n",
       "Updated dataset after performing Lasso feature selection:"
      ],
      "text/plain": [
       "<IPython.core.display.HTML object>"
      ]
     },
     "metadata": {},
     "output_type": "display_data"
    },
    {
     "data": {
      "text/html": [
       "<style type=\"text/css\">\n",
       "\ttable {border:ridge 5px;}\n",
       "\ttable td {border:inset 1px;}\n",
       "\ttable tr#HeaderRow {background-color:grey; color:white;}</style>\n",
       "<html><table>\n",
       "\t<tr id=\"HeaderRow\">\n",
       "\t\t<th>id</th>\n",
       "\t\t<th>ca</th>\n",
       "\t\t<th>ai</th>\n",
       "\t\t<th>fe</th>\n",
       "\t\t<th>k</th>\n",
       "\t\t<th>mg</th>\n",
       "\t\t<th>na</th>\n",
       "\t\t<th>si</th>\n",
       "\t\t<th>ri</th>\n",
       "\t\t<th>gtype</th>\n",
       "\t</tr>\n",
       "\t<tr>\n",
       "\t\t<td>40</td>\n",
       "\t\t<td>9.57</td>\n",
       "\t\t<td>0.47</td>\n",
       "\t\t<td>0.0</td>\n",
       "\t\t<td>0.11</td>\n",
       "\t\t<td>3.82</td>\n",
       "\t\t<td>14.21</td>\n",
       "\t\t<td>71.77</td>\n",
       "\t\t<td>1.5221</td>\n",
       "\t\t<td>1</td>\n",
       "\t</tr>\n",
       "\t<tr>\n",
       "\t\t<td>38</td>\n",
       "\t\t<td>8.53</td>\n",
       "\t\t<td>1.35</td>\n",
       "\t\t<td>0.0</td>\n",
       "\t\t<td>0.57</td>\n",
       "\t\t<td>3.52</td>\n",
       "\t\t<td>12.16</td>\n",
       "\t\t<td>72.89</td>\n",
       "\t\t<td>1.5164</td>\n",
       "\t\t<td>3</td>\n",
       "\t</tr>\n",
       "\t<tr>\n",
       "\t\t<td>12</td>\n",
       "\t\t<td>6.65</td>\n",
       "\t\t<td>0.34</td>\n",
       "\t\t<td>0.0</td>\n",
       "\t\t<td>0.0</td>\n",
       "\t\t<td>0.0</td>\n",
       "\t\t<td>17.38</td>\n",
       "\t\t<td>75.41</td>\n",
       "\t\t<td>1.5111</td>\n",
       "\t\t<td>6</td>\n",
       "\t</tr>\n",
       "\t<tr>\n",
       "\t\t<td>36</td>\n",
       "\t\t<td>7.83</td>\n",
       "\t\t<td>1.52</td>\n",
       "\t\t<td>0.0</td>\n",
       "\t\t<td>0.67</td>\n",
       "\t\t<td>3.59</td>\n",
       "\t\t<td>13.09</td>\n",
       "\t\t<td>73.1</td>\n",
       "\t\t<td>1.5159</td>\n",
       "\t\t<td>2</td>\n",
       "\t</tr>\n",
       "\t<tr>\n",
       "\t\t<td>19</td>\n",
       "\t\t<td>8.69</td>\n",
       "\t\t<td>1.3</td>\n",
       "\t\t<td>0.14</td>\n",
       "\t\t<td>0.61</td>\n",
       "\t\t<td>3.56</td>\n",
       "\t\t<td>12.65</td>\n",
       "\t\t<td>73.08</td>\n",
       "\t\t<td>1.5177</td>\n",
       "\t\t<td>1</td>\n",
       "\t</tr>\n",
       "\t<tr>\n",
       "\t\t<td>30</td>\n",
       "\t\t<td>8.5</td>\n",
       "\t\t<td>1.31</td>\n",
       "\t\t<td>0.0</td>\n",
       "\t\t<td>0.58</td>\n",
       "\t\t<td>3.59</td>\n",
       "\t\t<td>12.61</td>\n",
       "\t\t<td>73.29</td>\n",
       "\t\t<td>1.5176</td>\n",
       "\t\t<td>1</td>\n",
       "\t</tr>\n",
       "\t<tr>\n",
       "\t\t<td>49</td>\n",
       "\t\t<td>11.32</td>\n",
       "\t\t<td>1.76</td>\n",
       "\t\t<td>0.0</td>\n",
       "\t\t<td>0.47</td>\n",
       "\t\t<td>0.0</td>\n",
       "\t\t<td>13.27</td>\n",
       "\t\t<td>73.03</td>\n",
       "\t\t<td>1.5199</td>\n",
       "\t\t<td>5</td>\n",
       "\t</tr>\n",
       "\t<tr>\n",
       "\t\t<td>41</td>\n",
       "\t\t<td>9.57</td>\n",
       "\t\t<td>1.67</td>\n",
       "\t\t<td>0.17</td>\n",
       "\t\t<td>0.53</td>\n",
       "\t\t<td>2.09</td>\n",
       "\t\t<td>13.55</td>\n",
       "\t\t<td>72.18</td>\n",
       "\t\t<td>1.5207</td>\n",
       "\t\t<td>2</td>\n",
       "\t</tr>\n",
       "\t<tr>\n",
       "\t\t<td>15</td>\n",
       "\t\t<td>8.83</td>\n",
       "\t\t<td>1.18</td>\n",
       "\t\t<td>0.16</td>\n",
       "\t\t<td>0.57</td>\n",
       "\t\t<td>3.37</td>\n",
       "\t\t<td>13.19</td>\n",
       "\t\t<td>72.72</td>\n",
       "\t\t<td>1.5187</td>\n",
       "\t\t<td>1</td>\n",
       "\t</tr>\n",
       "\t<tr>\n",
       "\t\t<td>32</td>\n",
       "\t\t<td>8.4</td>\n",
       "\t\t<td>1.36</td>\n",
       "\t\t<td>0.11</td>\n",
       "\t\t<td>0.57</td>\n",
       "\t\t<td>3.6</td>\n",
       "\t\t<td>13.0</td>\n",
       "\t\t<td>72.99</td>\n",
       "\t\t<td>1.5175</td>\n",
       "\t\t<td>1</td>\n",
       "\t</tr>\n",
       "</table></html>"
      ],
      "text/plain": [
       "       ca    ai    fe     k    mg     na     si      ri  gtype\n",
       "id                                                            \n",
       "40   9.57  0.47  0.00  0.11  3.82  14.21  71.77  1.5221      1\n",
       "38   8.53  1.35  0.00  0.57  3.52  12.16  72.89  1.5164      3\n",
       "12   6.65  0.34  0.00  0.00  0.00  17.38  75.41  1.5111      6\n",
       "36   7.83  1.52  0.00  0.67  3.59  13.09  73.10  1.5159      2\n",
       "19   8.69  1.30  0.14  0.61  3.56  12.65  73.08  1.5177      1\n",
       "30   8.50  1.31  0.00  0.58  3.59  12.61  73.29  1.5176      1\n",
       "49  11.32  1.76  0.00  0.47  0.00  13.27  73.03  1.5199      5\n",
       "41   9.57  1.67  0.17  0.53  2.09  13.55  72.18  1.5207      2\n",
       "15   8.83  1.18  0.16  0.57  3.37  13.19  72.72  1.5187      1\n",
       "32   8.40  1.36  0.11  0.57  3.60  13.00  72.99  1.5175      1"
      ]
     },
     "metadata": {},
     "output_type": "display_data"
    },
    {
     "name": "stdout",
     "output_type": "stream",
     "text": [
      "                                                                                                 \r"
     ]
    },
    {
     "data": {
      "text/html": [
       "43 rows X 10 columns"
      ],
      "text/plain": [
       "<IPython.core.display.HTML object>"
      ]
     },
     "metadata": {},
     "output_type": "display_data"
    },
    {
     "name": "stdout",
     "output_type": "stream",
     "text": [
      "                                                                                                 \r"
     ]
    },
    {
     "data": {
      "text/html": [
       "\n",
       "Updated dataset after performing scaling on Lasso selected features :"
      ],
      "text/plain": [
       "<IPython.core.display.HTML object>"
      ]
     },
     "metadata": {},
     "output_type": "display_data"
    },
    {
     "data": {
      "text/html": [
       "<style type=\"text/css\">\n",
       "\ttable {border:ridge 5px;}\n",
       "\ttable td {border:inset 1px;}\n",
       "\ttable tr#HeaderRow {background-color:grey; color:white;}</style>\n",
       "<html><table>\n",
       "\t<tr id=\"HeaderRow\">\n",
       "\t\t<th>id</th>\n",
       "\t\t<th>gtype</th>\n",
       "\t\t<th>ca</th>\n",
       "\t\t<th>ai</th>\n",
       "\t\t<th>fe</th>\n",
       "\t\t<th>k</th>\n",
       "\t\t<th>mg</th>\n",
       "\t\t<th>na</th>\n",
       "\t\t<th>si</th>\n",
       "\t\t<th>ri</th>\n",
       "\t</tr>\n",
       "\t<tr>\n",
       "\t\t<td>36</td>\n",
       "\t\t<td>2</td>\n",
       "\t\t<td>0.24271844660194175</td>\n",
       "\t\t<td>0.602836879432624</td>\n",
       "\t\t<td>0.0</td>\n",
       "\t\t<td>0.6090909090909091</td>\n",
       "\t\t<td>0.8227272727272725</td>\n",
       "\t\t<td>0.4434782608695651</td>\n",
       "\t\t<td>0.7237354085603089</td>\n",
       "\t\t<td>0.22500000000000278</td>\n",
       "\t</tr>\n",
       "\t<tr>\n",
       "\t\t<td>49</td>\n",
       "\t\t<td>5</td>\n",
       "\t\t<td>1.3721682847896441</td>\n",
       "\t\t<td>0.7730496453900707</td>\n",
       "\t\t<td>0.0</td>\n",
       "\t\t<td>0.4272727272727272</td>\n",
       "\t\t<td>-0.8090909090909091</td>\n",
       "\t\t<td>0.49565217391304334</td>\n",
       "\t\t<td>0.6964980544747086</td>\n",
       "\t\t<td>0.7250000000000028</td>\n",
       "\t</tr>\n",
       "\t<tr>\n",
       "\t\t<td>41</td>\n",
       "\t\t<td>2</td>\n",
       "\t\t<td>0.8058252427184467</td>\n",
       "\t\t<td>0.7092198581560282</td>\n",
       "\t\t<td>0.68</td>\n",
       "\t\t<td>0.4818181818181818</td>\n",
       "\t\t<td>0.14090909090909082</td>\n",
       "\t\t<td>0.5768115942028987</td>\n",
       "\t\t<td>0.3657587548638168</td>\n",
       "\t\t<td>0.8249999999999916</td>\n",
       "\t</tr>\n",
       "\t<tr>\n",
       "\t\t<td>17</td>\n",
       "\t\t<td>2</td>\n",
       "\t\t<td>0.608414239482201</td>\n",
       "\t\t<td>0.3120567375886525</td>\n",
       "\t\t<td>0.88</td>\n",
       "\t\t<td>0.5818181818181818</td>\n",
       "\t\t<td>0.8909090909090909</td>\n",
       "\t\t<td>0.3971014492753622</td>\n",
       "\t\t<td>0.4046692607003904</td>\n",
       "\t\t<td>0.5374999999999959</td>\n",
       "\t</tr>\n",
       "\t<tr>\n",
       "\t\t<td>26</td>\n",
       "\t\t<td>7</td>\n",
       "\t\t<td>0.6051779935275079</td>\n",
       "\t\t<td>1.1843971631205672</td>\n",
       "\t\t<td>0.0</td>\n",
       "\t\t<td>0.0</td>\n",
       "\t\t<td>-0.8090909090909091</td>\n",
       "\t\t<td>0.9101449275362318</td>\n",
       "\t\t<td>0.793774319066148</td>\n",
       "\t\t<td>0.4000000000000111</td>\n",
       "\t</tr>\n",
       "\t<tr>\n",
       "\t\t<td>43</td>\n",
       "\t\t<td>7</td>\n",
       "\t\t<td>0.466019417475728</td>\n",
       "\t\t<td>0.9290780141843971</td>\n",
       "\t\t<td>0.28</td>\n",
       "\t\t<td>0.0</td>\n",
       "\t\t<td>-0.8090909090909091</td>\n",
       "\t\t<td>0.8695652173913045</td>\n",
       "\t\t<td>0.7976653696498076</td>\n",
       "\t\t<td>0.3374999999999903</td>\n",
       "\t</tr>\n",
       "\t<tr>\n",
       "\t\t<td>15</td>\n",
       "\t\t<td>1</td>\n",
       "\t\t<td>0.5663430420711975</td>\n",
       "\t\t<td>0.3617021276595744</td>\n",
       "\t\t<td>0.64</td>\n",
       "\t\t<td>0.5181818181818181</td>\n",
       "\t\t<td>0.7227272727272727</td>\n",
       "\t\t<td>0.4724637681159418</td>\n",
       "\t\t<td>0.5758754863813228</td>\n",
       "\t\t<td>0.5749999999999916</td>\n",
       "\t</tr>\n",
       "\t<tr>\n",
       "\t\t<td>32</td>\n",
       "\t\t<td>1</td>\n",
       "\t\t<td>0.42718446601941756</td>\n",
       "\t\t<td>0.48936170212765956</td>\n",
       "\t\t<td>0.44</td>\n",
       "\t\t<td>0.5181818181818181</td>\n",
       "\t\t<td>0.8272727272727273</td>\n",
       "\t\t<td>0.417391304347826</td>\n",
       "\t\t<td>0.6809338521400758</td>\n",
       "\t\t<td>0.4250000000000083</td>\n",
       "\t</tr>\n",
       "\t<tr>\n",
       "\t\t<td>19</td>\n",
       "\t\t<td>1</td>\n",
       "\t\t<td>0.5210355987055014</td>\n",
       "\t\t<td>0.44680851063829785</td>\n",
       "\t\t<td>0.56</td>\n",
       "\t\t<td>0.5545454545454545</td>\n",
       "\t\t<td>0.8090909090909091</td>\n",
       "\t\t<td>0.3159420289855073</td>\n",
       "\t\t<td>0.7159533073929953</td>\n",
       "\t\t<td>0.45000000000000556</td>\n",
       "\t</tr>\n",
       "\t<tr>\n",
       "\t\t<td>30</td>\n",
       "\t\t<td>1</td>\n",
       "\t\t<td>0.459546925566343</td>\n",
       "\t\t<td>0.45390070921985815</td>\n",
       "\t\t<td>0.0</td>\n",
       "\t\t<td>0.5272727272727272</td>\n",
       "\t\t<td>0.8227272727272725</td>\n",
       "\t\t<td>0.30434782608695626</td>\n",
       "\t\t<td>0.7976653696498076</td>\n",
       "\t\t<td>0.43750000000000694</td>\n",
       "\t</tr>\n",
       "</table></html>"
      ],
      "text/plain": [
       "   id  gtype        ca        ai    fe         k        mg        na        si      ri\n",
       "0  36      2  0.242718  0.602837  0.00  0.609091  0.822727  0.443478  0.723735  0.2250\n",
       "1  49      5  1.372168  0.773050  0.00  0.427273 -0.809091  0.495652  0.696498  0.7250\n",
       "2  41      2  0.805825  0.709220  0.68  0.481818  0.140909  0.576812  0.365759  0.8250\n",
       "3  17      2  0.608414  0.312057  0.88  0.581818  0.890909  0.397101  0.404669  0.5375\n",
       "4  26      7  0.605178  1.184397  0.00  0.000000 -0.809091  0.910145  0.793774  0.4000\n",
       "5  43      7  0.466019  0.929078  0.28  0.000000 -0.809091  0.869565  0.797665  0.3375\n",
       "6  15      1  0.566343  0.361702  0.64  0.518182  0.722727  0.472464  0.575875  0.5750\n",
       "7  32      1  0.427184  0.489362  0.44  0.518182  0.827273  0.417391  0.680934  0.4250\n",
       "8  19      1  0.521036  0.446809  0.56  0.554545  0.809091  0.315942  0.715953  0.4500\n",
       "9  30      1  0.459547  0.453901  0.00  0.527273  0.822727  0.304348  0.797665  0.4375"
      ]
     },
     "metadata": {},
     "output_type": "display_data"
    },
    {
     "name": "stdout",
     "output_type": "stream",
     "text": [
      "                                                                                                 \r"
     ]
    },
    {
     "data": {
      "text/html": [
       "43 rows X 10 columns"
      ],
      "text/plain": [
       "<IPython.core.display.HTML object>"
      ]
     },
     "metadata": {},
     "output_type": "display_data"
    },
    {
     "name": "stdout",
     "output_type": "stream",
     "text": [
      "                                                                                                 \r"
     ]
    },
    {
     "data": {
      "text/html": [
       "\n",
       "Updated dataset after performing RFE feature selection:"
      ],
      "text/plain": [
       "<IPython.core.display.HTML object>"
      ]
     },
     "metadata": {},
     "output_type": "display_data"
    },
    {
     "data": {
      "text/html": [
       "<style type=\"text/css\">\n",
       "\ttable {border:ridge 5px;}\n",
       "\ttable td {border:inset 1px;}\n",
       "\ttable tr#HeaderRow {background-color:grey; color:white;}</style>\n",
       "<html><table>\n",
       "\t<tr id=\"HeaderRow\">\n",
       "\t\t<th>id</th>\n",
       "\t\t<th>ri</th>\n",
       "\t\t<th>na</th>\n",
       "\t\t<th>mg</th>\n",
       "\t\t<th>ai</th>\n",
       "\t\t<th>si</th>\n",
       "\t\t<th>k</th>\n",
       "\t\t<th>ca</th>\n",
       "\t\t<th>fe</th>\n",
       "\t\t<th>gtype</th>\n",
       "\t</tr>\n",
       "\t<tr>\n",
       "\t\t<td>17</td>\n",
       "\t\t<td>1.5184</td>\n",
       "\t\t<td>12.93</td>\n",
       "\t\t<td>3.74</td>\n",
       "\t\t<td>1.11</td>\n",
       "\t\t<td>72.28</td>\n",
       "\t\t<td>0.64</td>\n",
       "\t\t<td>8.96</td>\n",
       "\t\t<td>0.22</td>\n",
       "\t\t<td>2</td>\n",
       "\t</tr>\n",
       "\t<tr>\n",
       "\t\t<td>38</td>\n",
       "\t\t<td>1.5164</td>\n",
       "\t\t<td>12.16</td>\n",
       "\t\t<td>3.52</td>\n",
       "\t\t<td>1.35</td>\n",
       "\t\t<td>72.89</td>\n",
       "\t\t<td>0.57</td>\n",
       "\t\t<td>8.53</td>\n",
       "\t\t<td>0.0</td>\n",
       "\t\t<td>3</td>\n",
       "\t</tr>\n",
       "\t<tr>\n",
       "\t\t<td>12</td>\n",
       "\t\t<td>1.5111</td>\n",
       "\t\t<td>17.38</td>\n",
       "\t\t<td>0.0</td>\n",
       "\t\t<td>0.34</td>\n",
       "\t\t<td>75.41</td>\n",
       "\t\t<td>0.0</td>\n",
       "\t\t<td>6.65</td>\n",
       "\t\t<td>0.0</td>\n",
       "\t\t<td>6</td>\n",
       "\t</tr>\n",
       "\t<tr>\n",
       "\t\t<td>49</td>\n",
       "\t\t<td>1.5199</td>\n",
       "\t\t<td>13.27</td>\n",
       "\t\t<td>0.0</td>\n",
       "\t\t<td>1.76</td>\n",
       "\t\t<td>73.03</td>\n",
       "\t\t<td>0.47</td>\n",
       "\t\t<td>11.32</td>\n",
       "\t\t<td>0.0</td>\n",
       "\t\t<td>5</td>\n",
       "\t</tr>\n",
       "\t<tr>\n",
       "\t\t<td>40</td>\n",
       "\t\t<td>1.5221</td>\n",
       "\t\t<td>14.21</td>\n",
       "\t\t<td>3.82</td>\n",
       "\t\t<td>0.47</td>\n",
       "\t\t<td>71.77</td>\n",
       "\t\t<td>0.11</td>\n",
       "\t\t<td>9.57</td>\n",
       "\t\t<td>0.0</td>\n",
       "\t\t<td>1</td>\n",
       "\t</tr>\n",
       "\t<tr>\n",
       "\t\t<td>22</td>\n",
       "\t\t<td>1.5206</td>\n",
       "\t\t<td>12.85</td>\n",
       "\t\t<td>1.61</td>\n",
       "\t\t<td>2.17</td>\n",
       "\t\t<td>72.18</td>\n",
       "\t\t<td>0.76</td>\n",
       "\t\t<td>9.7</td>\n",
       "\t\t<td>0.51</td>\n",
       "\t\t<td>5</td>\n",
       "\t</tr>\n",
       "\t<tr>\n",
       "\t\t<td>36</td>\n",
       "\t\t<td>1.5159</td>\n",
       "\t\t<td>13.09</td>\n",
       "\t\t<td>3.59</td>\n",
       "\t\t<td>1.52</td>\n",
       "\t\t<td>73.1</td>\n",
       "\t\t<td>0.67</td>\n",
       "\t\t<td>7.83</td>\n",
       "\t\t<td>0.0</td>\n",
       "\t\t<td>2</td>\n",
       "\t</tr>\n",
       "\t<tr>\n",
       "\t\t<td>28</td>\n",
       "\t\t<td>1.5173</td>\n",
       "\t\t<td>14.95</td>\n",
       "\t\t<td>0.0</td>\n",
       "\t\t<td>1.8</td>\n",
       "\t\t<td>72.99</td>\n",
       "\t\t<td>0.0</td>\n",
       "\t\t<td>8.61</td>\n",
       "\t\t<td>0.0</td>\n",
       "\t\t<td>7</td>\n",
       "\t</tr>\n",
       "\t<tr>\n",
       "\t\t<td>19</td>\n",
       "\t\t<td>1.5177</td>\n",
       "\t\t<td>12.65</td>\n",
       "\t\t<td>3.56</td>\n",
       "\t\t<td>1.3</td>\n",
       "\t\t<td>73.08</td>\n",
       "\t\t<td>0.61</td>\n",
       "\t\t<td>8.69</td>\n",
       "\t\t<td>0.14</td>\n",
       "\t\t<td>1</td>\n",
       "\t</tr>\n",
       "\t<tr>\n",
       "\t\t<td>30</td>\n",
       "\t\t<td>1.5176</td>\n",
       "\t\t<td>12.61</td>\n",
       "\t\t<td>3.59</td>\n",
       "\t\t<td>1.31</td>\n",
       "\t\t<td>73.29</td>\n",
       "\t\t<td>0.58</td>\n",
       "\t\t<td>8.5</td>\n",
       "\t\t<td>0.0</td>\n",
       "\t\t<td>1</td>\n",
       "\t</tr>\n",
       "</table></html>"
      ],
      "text/plain": [
       "        ri     na    mg    ai     si     k     ca    fe  gtype\n",
       "id                                                            \n",
       "17  1.5184  12.93  3.74  1.11  72.28  0.64   8.96  0.22      2\n",
       "38  1.5164  12.16  3.52  1.35  72.89  0.57   8.53  0.00      3\n",
       "12  1.5111  17.38  0.00  0.34  75.41  0.00   6.65  0.00      6\n",
       "49  1.5199  13.27  0.00  1.76  73.03  0.47  11.32  0.00      5\n",
       "40  1.5221  14.21  3.82  0.47  71.77  0.11   9.57  0.00      1\n",
       "22  1.5206  12.85  1.61  2.17  72.18  0.76   9.70  0.51      5\n",
       "36  1.5159  13.09  3.59  1.52  73.10  0.67   7.83  0.00      2\n",
       "28  1.5173  14.95  0.00  1.80  72.99  0.00   8.61  0.00      7\n",
       "19  1.5177  12.65  3.56  1.30  73.08  0.61   8.69  0.14      1\n",
       "30  1.5176  12.61  3.59  1.31  73.29  0.58   8.50  0.00      1"
      ]
     },
     "metadata": {},
     "output_type": "display_data"
    },
    {
     "name": "stdout",
     "output_type": "stream",
     "text": [
      "                                                                                                 \r"
     ]
    },
    {
     "data": {
      "text/html": [
       "43 rows X 10 columns"
      ],
      "text/plain": [
       "<IPython.core.display.HTML object>"
      ]
     },
     "metadata": {},
     "output_type": "display_data"
    },
    {
     "name": "stdout",
     "output_type": "stream",
     "text": [
      "                                                                                                 \r"
     ]
    },
    {
     "data": {
      "text/html": [
       "\n",
       "Updated dataset after performing scaling on RFE selected features :"
      ],
      "text/plain": [
       "<IPython.core.display.HTML object>"
      ]
     },
     "metadata": {},
     "output_type": "display_data"
    },
    {
     "data": {
      "text/html": [
       "<style type=\"text/css\">\n",
       "\ttable {border:ridge 5px;}\n",
       "\ttable td {border:inset 1px;}\n",
       "\ttable tr#HeaderRow {background-color:grey; color:white;}</style>\n",
       "<html><table>\n",
       "\t<tr id=\"HeaderRow\">\n",
       "\t\t<th>id</th>\n",
       "\t\t<th>gtype</th>\n",
       "\t\t<th>r_ri</th>\n",
       "\t\t<th>r_na</th>\n",
       "\t\t<th>r_mg</th>\n",
       "\t\t<th>r_ai</th>\n",
       "\t\t<th>r_si</th>\n",
       "\t\t<th>r_k</th>\n",
       "\t\t<th>r_ca</th>\n",
       "\t\t<th>r_fe</th>\n",
       "\t</tr>\n",
       "\t<tr>\n",
       "\t\t<td>17</td>\n",
       "\t\t<td>2</td>\n",
       "\t\t<td>0.5374999999999959</td>\n",
       "\t\t<td>0.3971014492753622</td>\n",
       "\t\t<td>0.8909090909090909</td>\n",
       "\t\t<td>0.3120567375886525</td>\n",
       "\t\t<td>0.4046692607003904</td>\n",
       "\t\t<td>0.5818181818181818</td>\n",
       "\t\t<td>0.608414239482201</td>\n",
       "\t\t<td>0.88</td>\n",
       "\t</tr>\n",
       "\t<tr>\n",
       "\t\t<td>19</td>\n",
       "\t\t<td>1</td>\n",
       "\t\t<td>0.45000000000000556</td>\n",
       "\t\t<td>0.3159420289855073</td>\n",
       "\t\t<td>0.8090909090909091</td>\n",
       "\t\t<td>0.44680851063829785</td>\n",
       "\t\t<td>0.7159533073929953</td>\n",
       "\t\t<td>0.5545454545454545</td>\n",
       "\t\t<td>0.5210355987055014</td>\n",
       "\t\t<td>0.56</td>\n",
       "\t</tr>\n",
       "\t<tr>\n",
       "\t\t<td>30</td>\n",
       "\t\t<td>1</td>\n",
       "\t\t<td>0.43750000000000694</td>\n",
       "\t\t<td>0.30434782608695626</td>\n",
       "\t\t<td>0.8227272727272725</td>\n",
       "\t\t<td>0.45390070921985815</td>\n",
       "\t\t<td>0.7976653696498076</td>\n",
       "\t\t<td>0.5272727272727272</td>\n",
       "\t\t<td>0.459546925566343</td>\n",
       "\t\t<td>0.0</td>\n",
       "\t</tr>\n",
       "\t<tr>\n",
       "\t\t<td>36</td>\n",
       "\t\t<td>2</td>\n",
       "\t\t<td>0.22500000000000278</td>\n",
       "\t\t<td>0.4434782608695651</td>\n",
       "\t\t<td>0.8227272727272725</td>\n",
       "\t\t<td>0.602836879432624</td>\n",
       "\t\t<td>0.7237354085603089</td>\n",
       "\t\t<td>0.6090909090909091</td>\n",
       "\t\t<td>0.24271844660194175</td>\n",
       "\t\t<td>0.0</td>\n",
       "\t</tr>\n",
       "\t<tr>\n",
       "\t\t<td>15</td>\n",
       "\t\t<td>1</td>\n",
       "\t\t<td>0.5749999999999916</td>\n",
       "\t\t<td>0.4724637681159418</td>\n",
       "\t\t<td>0.7227272727272727</td>\n",
       "\t\t<td>0.3617021276595744</td>\n",
       "\t\t<td>0.5758754863813228</td>\n",
       "\t\t<td>0.5181818181818181</td>\n",
       "\t\t<td>0.5663430420711975</td>\n",
       "\t\t<td>0.64</td>\n",
       "\t</tr>\n",
       "\t<tr>\n",
       "\t\t<td>32</td>\n",
       "\t\t<td>1</td>\n",
       "\t\t<td>0.4250000000000083</td>\n",
       "\t\t<td>0.417391304347826</td>\n",
       "\t\t<td>0.8272727272727273</td>\n",
       "\t\t<td>0.48936170212765956</td>\n",
       "\t\t<td>0.6809338521400758</td>\n",
       "\t\t<td>0.5181818181818181</td>\n",
       "\t\t<td>0.42718446601941756</td>\n",
       "\t\t<td>0.44</td>\n",
       "\t</tr>\n",
       "\t<tr>\n",
       "\t\t<td>49</td>\n",
       "\t\t<td>5</td>\n",
       "\t\t<td>0.7250000000000028</td>\n",
       "\t\t<td>0.49565217391304334</td>\n",
       "\t\t<td>-0.8090909090909091</td>\n",
       "\t\t<td>0.7730496453900707</td>\n",
       "\t\t<td>0.6964980544747086</td>\n",
       "\t\t<td>0.4272727272727272</td>\n",
       "\t\t<td>1.3721682847896441</td>\n",
       "\t\t<td>0.0</td>\n",
       "\t</tr>\n",
       "\t<tr>\n",
       "\t\t<td>41</td>\n",
       "\t\t<td>2</td>\n",
       "\t\t<td>0.8249999999999916</td>\n",
       "\t\t<td>0.5768115942028987</td>\n",
       "\t\t<td>0.14090909090909082</td>\n",
       "\t\t<td>0.7092198581560282</td>\n",
       "\t\t<td>0.3657587548638168</td>\n",
       "\t\t<td>0.4818181818181818</td>\n",
       "\t\t<td>0.8058252427184467</td>\n",
       "\t\t<td>0.68</td>\n",
       "\t</tr>\n",
       "\t<tr>\n",
       "\t\t<td>38</td>\n",
       "\t\t<td>3</td>\n",
       "\t\t<td>0.2874999999999958</td>\n",
       "\t\t<td>0.1739130434782608</td>\n",
       "\t\t<td>0.7909090909090909</td>\n",
       "\t\t<td>0.48226950354609927</td>\n",
       "\t\t<td>0.6420233463035023</td>\n",
       "\t\t<td>0.5181818181818181</td>\n",
       "\t\t<td>0.4692556634304205</td>\n",
       "\t\t<td>0.0</td>\n",
       "\t</tr>\n",
       "\t<tr>\n",
       "\t\t<td>12</td>\n",
       "\t\t<td>6</td>\n",
       "\t\t<td>-0.3749999999999861</td>\n",
       "\t\t<td>1.6869565217391302</td>\n",
       "\t\t<td>-0.8090909090909091</td>\n",
       "\t\t<td>-0.23404255319148934</td>\n",
       "\t\t<td>1.62256809338521</td>\n",
       "\t\t<td>0.0</td>\n",
       "\t\t<td>-0.13915857605177984</td>\n",
       "\t\t<td>0.0</td>\n",
       "\t</tr>\n",
       "</table></html>"
      ],
      "text/plain": [
       "   id  gtype    r_ri      r_na      r_mg      r_ai      r_si       r_k      r_ca  r_fe\n",
       "0  17      2  0.5375  0.397101  0.890909  0.312057  0.404669  0.581818  0.608414  0.88\n",
       "1  19      1  0.4500  0.315942  0.809091  0.446809  0.715953  0.554545  0.521036  0.56\n",
       "2  30      1  0.4375  0.304348  0.822727  0.453901  0.797665  0.527273  0.459547  0.00\n",
       "3  36      2  0.2250  0.443478  0.822727  0.602837  0.723735  0.609091  0.242718  0.00\n",
       "4  15      1  0.5750  0.472464  0.722727  0.361702  0.575875  0.518182  0.566343  0.64\n",
       "5  32      1  0.4250  0.417391  0.827273  0.489362  0.680934  0.518182  0.427184  0.44\n",
       "6  49      5  0.7250  0.495652 -0.809091  0.773050  0.696498  0.427273  1.372168  0.00\n",
       "7  41      2  0.8250  0.576812  0.140909  0.709220  0.365759  0.481818  0.805825  0.68\n",
       "8  38      3  0.2875  0.173913  0.790909  0.482270  0.642023  0.518182  0.469256  0.00\n",
       "9  12      6 -0.3750  1.686957 -0.809091 -0.234043  1.622568  0.000000 -0.139159  0.00"
      ]
     },
     "metadata": {},
     "output_type": "display_data"
    },
    {
     "name": "stdout",
     "output_type": "stream",
     "text": [
      "                                                                                                 \r"
     ]
    },
    {
     "data": {
      "text/html": [
       "43 rows X 10 columns"
      ],
      "text/plain": [
       "<IPython.core.display.HTML object>"
      ]
     },
     "metadata": {},
     "output_type": "display_data"
    },
    {
     "name": "stdout",
     "output_type": "stream",
     "text": [
      "                                                                                                 \r"
     ]
    },
    {
     "data": {
      "text/html": [
       "\n",
       "Updated dataset after performing scaling for PCA feature selection :"
      ],
      "text/plain": [
       "<IPython.core.display.HTML object>"
      ]
     },
     "metadata": {},
     "output_type": "display_data"
    },
    {
     "data": {
      "text/html": [
       "<style type=\"text/css\">\n",
       "\ttable {border:ridge 5px;}\n",
       "\ttable td {border:inset 1px;}\n",
       "\ttable tr#HeaderRow {background-color:grey; color:white;}</style>\n",
       "<html><table>\n",
       "\t<tr id=\"HeaderRow\">\n",
       "\t\t<th>id</th>\n",
       "\t\t<th>gtype</th>\n",
       "\t\t<th>ba</th>\n",
       "\t\t<th>ri</th>\n",
       "\t\t<th>na</th>\n",
       "\t\t<th>mg</th>\n",
       "\t\t<th>ai</th>\n",
       "\t\t<th>si</th>\n",
       "\t\t<th>k</th>\n",
       "\t\t<th>ca</th>\n",
       "\t\t<th>fe</th>\n",
       "\t</tr>\n",
       "\t<tr>\n",
       "\t\t<td>19</td>\n",
       "\t\t<td>1</td>\n",
       "\t\t<td>0.0</td>\n",
       "\t\t<td>0.4490049751243895</td>\n",
       "\t\t<td>0.3159420289855073</td>\n",
       "\t\t<td>0.8090909090909091</td>\n",
       "\t\t<td>0.44680851063829785</td>\n",
       "\t\t<td>0.7159533073929953</td>\n",
       "\t\t<td>0.5545454545454545</td>\n",
       "\t\t<td>0.5210355987055014</td>\n",
       "\t\t<td>0.56</td>\n",
       "\t</tr>\n",
       "\t<tr>\n",
       "\t\t<td>17</td>\n",
       "\t\t<td>2</td>\n",
       "\t\t<td>0.0</td>\n",
       "\t\t<td>0.5360696517412948</td>\n",
       "\t\t<td>0.3971014492753622</td>\n",
       "\t\t<td>0.8909090909090909</td>\n",
       "\t\t<td>0.3120567375886525</td>\n",
       "\t\t<td>0.4046692607003904</td>\n",
       "\t\t<td>0.5818181818181818</td>\n",
       "\t\t<td>0.608414239482201</td>\n",
       "\t\t<td>0.88</td>\n",
       "\t</tr>\n",
       "\t<tr>\n",
       "\t\t<td>34</td>\n",
       "\t\t<td>5</td>\n",
       "\t\t<td>2.2</td>\n",
       "\t\t<td>0.1256218905472574</td>\n",
       "\t\t<td>0.7101449275362318</td>\n",
       "\t\t<td>0.4090909090909091</td>\n",
       "\t\t<td>2.00709219858156</td>\n",
       "\t\t<td>-0.5252918287937706</td>\n",
       "\t\t<td>1.5272727272727271</td>\n",
       "\t\t<td>-0.39158576051779936</td>\n",
       "\t\t<td>0.0</td>\n",
       "\t</tr>\n",
       "\t<tr>\n",
       "\t\t<td>36</td>\n",
       "\t\t<td>2</td>\n",
       "\t\t<td>0.0</td>\n",
       "\t\t<td>0.22512437810946254</td>\n",
       "\t\t<td>0.4434782608695651</td>\n",
       "\t\t<td>0.8227272727272725</td>\n",
       "\t\t<td>0.602836879432624</td>\n",
       "\t\t<td>0.7237354085603089</td>\n",
       "\t\t<td>0.6090909090909091</td>\n",
       "\t\t<td>0.24271844660194175</td>\n",
       "\t\t<td>0.0</td>\n",
       "\t</tr>\n",
       "\t<tr>\n",
       "\t\t<td>38</td>\n",
       "\t\t<td>3</td>\n",
       "\t\t<td>0.0</td>\n",
       "\t\t<td>0.28731343283582345</td>\n",
       "\t\t<td>0.1739130434782608</td>\n",
       "\t\t<td>0.7909090909090909</td>\n",
       "\t\t<td>0.48226950354609927</td>\n",
       "\t\t<td>0.6420233463035023</td>\n",
       "\t\t<td>0.5181818181818181</td>\n",
       "\t\t<td>0.4692556634304205</td>\n",
       "\t\t<td>0.0</td>\n",
       "\t</tr>\n",
       "\t<tr>\n",
       "\t\t<td>12</td>\n",
       "\t\t<td>6</td>\n",
       "\t\t<td>0.0</td>\n",
       "\t\t<td>-0.3718905472636578</td>\n",
       "\t\t<td>1.6869565217391302</td>\n",
       "\t\t<td>-0.8090909090909091</td>\n",
       "\t\t<td>-0.23404255319148934</td>\n",
       "\t\t<td>1.62256809338521</td>\n",
       "\t\t<td>0.0</td>\n",
       "\t\t<td>-0.13915857605177984</td>\n",
       "\t\t<td>0.0</td>\n",
       "\t</tr>\n",
       "\t<tr>\n",
       "\t\t<td>26</td>\n",
       "\t\t<td>7</td>\n",
       "\t\t<td>0.66</td>\n",
       "\t\t<td>0.3992537313433008</td>\n",
       "\t\t<td>0.9101449275362318</td>\n",
       "\t\t<td>-0.8090909090909091</td>\n",
       "\t\t<td>1.1843971631205672</td>\n",
       "\t\t<td>0.793774319066148</td>\n",
       "\t\t<td>0.0</td>\n",
       "\t\t<td>0.6051779935275079</td>\n",
       "\t\t<td>0.0</td>\n",
       "\t</tr>\n",
       "\t<tr>\n",
       "\t\t<td>43</td>\n",
       "\t\t<td>7</td>\n",
       "\t\t<td>1.57</td>\n",
       "\t\t<td>0.33706467661691225</td>\n",
       "\t\t<td>0.8695652173913045</td>\n",
       "\t\t<td>-0.8090909090909091</td>\n",
       "\t\t<td>0.9290780141843971</td>\n",
       "\t\t<td>0.7976653696498076</td>\n",
       "\t\t<td>0.0</td>\n",
       "\t\t<td>0.466019417475728</td>\n",
       "\t\t<td>0.28</td>\n",
       "\t</tr>\n",
       "\t<tr>\n",
       "\t\t<td>49</td>\n",
       "\t\t<td>5</td>\n",
       "\t\t<td>0.0</td>\n",
       "\t\t<td>0.7226368159204053</td>\n",
       "\t\t<td>0.49565217391304334</td>\n",
       "\t\t<td>-0.8090909090909091</td>\n",
       "\t\t<td>0.7730496453900707</td>\n",
       "\t\t<td>0.6964980544747086</td>\n",
       "\t\t<td>0.4272727272727272</td>\n",
       "\t\t<td>1.3721682847896441</td>\n",
       "\t\t<td>0.0</td>\n",
       "\t</tr>\n",
       "\t<tr>\n",
       "\t\t<td>41</td>\n",
       "\t\t<td>2</td>\n",
       "\t\t<td>0.27</td>\n",
       "\t\t<td>0.8221393034825828</td>\n",
       "\t\t<td>0.5768115942028987</td>\n",
       "\t\t<td>0.14090909090909082</td>\n",
       "\t\t<td>0.7092198581560282</td>\n",
       "\t\t<td>0.3657587548638168</td>\n",
       "\t\t<td>0.4818181818181818</td>\n",
       "\t\t<td>0.8058252427184467</td>\n",
       "\t\t<td>0.68</td>\n",
       "\t</tr>\n",
       "</table></html>"
      ],
      "text/plain": [
       "   id  gtype    ba        ri        na        mg        ai        si         k        ca    fe\n",
       "0  19      1  0.00  0.449005  0.315942  0.809091  0.446809  0.715953  0.554545  0.521036  0.56\n",
       "1  17      2  0.00  0.536070  0.397101  0.890909  0.312057  0.404669  0.581818  0.608414  0.88\n",
       "2  34      5  2.20  0.125622  0.710145  0.409091  2.007092 -0.525292  1.527273 -0.391586  0.00\n",
       "3  36      2  0.00  0.225124  0.443478  0.822727  0.602837  0.723735  0.609091  0.242718  0.00\n",
       "4  38      3  0.00  0.287313  0.173913  0.790909  0.482270  0.642023  0.518182  0.469256  0.00\n",
       "5  12      6  0.00 -0.371891  1.686957 -0.809091 -0.234043  1.622568  0.000000 -0.139159  0.00\n",
       "6  26      7  0.66  0.399254  0.910145 -0.809091  1.184397  0.793774  0.000000  0.605178  0.00\n",
       "7  43      7  1.57  0.337065  0.869565 -0.809091  0.929078  0.797665  0.000000  0.466019  0.28\n",
       "8  49      5  0.00  0.722637  0.495652 -0.809091  0.773050  0.696498  0.427273  1.372168  0.00\n",
       "9  41      2  0.27  0.822139  0.576812  0.140909  0.709220  0.365759  0.481818  0.805825  0.68"
      ]
     },
     "metadata": {},
     "output_type": "display_data"
    },
    {
     "name": "stdout",
     "output_type": "stream",
     "text": [
      "                                                                                                 \r"
     ]
    },
    {
     "data": {
      "text/html": [
       "43 rows X 11 columns"
      ],
      "text/plain": [
       "<IPython.core.display.HTML object>"
      ]
     },
     "metadata": {},
     "output_type": "display_data"
    },
    {
     "name": "stdout",
     "output_type": "stream",
     "text": [
      "                                                                                                 \r"
     ]
    },
    {
     "data": {
      "text/html": [
       "\n",
       "Updated dataset after performing PCA feature selection :"
      ],
      "text/plain": [
       "<IPython.core.display.HTML object>"
      ]
     },
     "metadata": {},
     "output_type": "display_data"
    },
    {
     "data": {
      "text/html": [
       "<div>\n",
       "<style scoped>\n",
       "    .dataframe tbody tr th:only-of-type {\n",
       "        vertical-align: middle;\n",
       "    }\n",
       "\n",
       "    .dataframe tbody tr th {\n",
       "        vertical-align: top;\n",
       "    }\n",
       "\n",
       "    .dataframe thead th {\n",
       "        text-align: right;\n",
       "    }\n",
       "</style>\n",
       "<table border=\"1\" class=\"dataframe\">\n",
       "  <thead>\n",
       "    <tr style=\"text-align: right;\">\n",
       "      <th></th>\n",
       "      <th>id</th>\n",
       "      <th>col_0</th>\n",
       "      <th>col_1</th>\n",
       "      <th>col_2</th>\n",
       "      <th>col_3</th>\n",
       "      <th>col_4</th>\n",
       "      <th>col_5</th>\n",
       "      <th>gtype</th>\n",
       "    </tr>\n",
       "  </thead>\n",
       "  <tbody>\n",
       "    <tr>\n",
       "      <th>0</th>\n",
       "      <td>26</td>\n",
       "      <td>0.060588</td>\n",
       "      <td>-0.355965</td>\n",
       "      <td>1.112712</td>\n",
       "      <td>1.193316</td>\n",
       "      <td>0.428064</td>\n",
       "      <td>-0.220620</td>\n",
       "      <td>7</td>\n",
       "    </tr>\n",
       "    <tr>\n",
       "      <th>1</th>\n",
       "      <td>17</td>\n",
       "      <td>-0.226071</td>\n",
       "      <td>0.718094</td>\n",
       "      <td>-0.224565</td>\n",
       "      <td>-0.123521</td>\n",
       "      <td>0.152353</td>\n",
       "      <td>-0.031177</td>\n",
       "      <td>2</td>\n",
       "    </tr>\n",
       "    <tr>\n",
       "      <th>2</th>\n",
       "      <td>40</td>\n",
       "      <td>-0.866121</td>\n",
       "      <td>-0.284200</td>\n",
       "      <td>-0.409936</td>\n",
       "      <td>-0.131222</td>\n",
       "      <td>-0.230593</td>\n",
       "      <td>-0.043094</td>\n",
       "      <td>1</td>\n",
       "    </tr>\n",
       "    <tr>\n",
       "      <th>3</th>\n",
       "      <td>19</td>\n",
       "      <td>0.084808</td>\n",
       "      <td>0.477152</td>\n",
       "      <td>-0.064021</td>\n",
       "      <td>0.004506</td>\n",
       "      <td>-0.050160</td>\n",
       "      <td>0.055031</td>\n",
       "      <td>1</td>\n",
       "    </tr>\n",
       "    <tr>\n",
       "      <th>4</th>\n",
       "      <td>38</td>\n",
       "      <td>0.315655</td>\n",
       "      <td>-0.007660</td>\n",
       "      <td>-0.155744</td>\n",
       "      <td>0.051028</td>\n",
       "      <td>-0.152445</td>\n",
       "      <td>-0.102386</td>\n",
       "      <td>3</td>\n",
       "    </tr>\n",
       "    <tr>\n",
       "      <th>5</th>\n",
       "      <td>49</td>\n",
       "      <td>-0.254557</td>\n",
       "      <td>-0.134555</td>\n",
       "      <td>0.463829</td>\n",
       "      <td>1.637048</td>\n",
       "      <td>0.125964</td>\n",
       "      <td>-0.491649</td>\n",
       "      <td>5</td>\n",
       "    </tr>\n",
       "    <tr>\n",
       "      <th>6</th>\n",
       "      <td>36</td>\n",
       "      <td>0.485033</td>\n",
       "      <td>-0.064278</td>\n",
       "      <td>-0.017588</td>\n",
       "      <td>-0.117813</td>\n",
       "      <td>-0.014795</td>\n",
       "      <td>0.003486</td>\n",
       "      <td>2</td>\n",
       "    </tr>\n",
       "    <tr>\n",
       "      <th>7</th>\n",
       "      <td>15</td>\n",
       "      <td>-0.140893</td>\n",
       "      <td>0.485310</td>\n",
       "      <td>-0.083342</td>\n",
       "      <td>0.025592</td>\n",
       "      <td>0.045226</td>\n",
       "      <td>0.020118</td>\n",
       "      <td>1</td>\n",
       "    </tr>\n",
       "    <tr>\n",
       "      <th>8</th>\n",
       "      <td>43</td>\n",
       "      <td>0.016542</td>\n",
       "      <td>-0.047551</td>\n",
       "      <td>1.076140</td>\n",
       "      <td>1.055464</td>\n",
       "      <td>0.334402</td>\n",
       "      <td>-0.294713</td>\n",
       "      <td>7</td>\n",
       "    </tr>\n",
       "    <tr>\n",
       "      <th>9</th>\n",
       "      <td>34</td>\n",
       "      <td>1.236345</td>\n",
       "      <td>-0.312723</td>\n",
       "      <td>-0.340588</td>\n",
       "      <td>0.125014</td>\n",
       "      <td>2.032934</td>\n",
       "      <td>-0.028432</td>\n",
       "      <td>5</td>\n",
       "    </tr>\n",
       "  </tbody>\n",
       "</table>\n",
       "</div>"
      ],
      "text/plain": [
       "   id     col_0     col_1     col_2     col_3     col_4     col_5  gtype\n",
       "0  26  0.060588 -0.355965  1.112712  1.193316  0.428064 -0.220620      7\n",
       "1  17 -0.226071  0.718094 -0.224565 -0.123521  0.152353 -0.031177      2\n",
       "2  40 -0.866121 -0.284200 -0.409936 -0.131222 -0.230593 -0.043094      1\n",
       "3  19  0.084808  0.477152 -0.064021  0.004506 -0.050160  0.055031      1\n",
       "4  38  0.315655 -0.007660 -0.155744  0.051028 -0.152445 -0.102386      3\n",
       "5  49 -0.254557 -0.134555  0.463829  1.637048  0.125964 -0.491649      5\n",
       "6  36  0.485033 -0.064278 -0.017588 -0.117813 -0.014795  0.003486      2\n",
       "7  15 -0.140893  0.485310 -0.083342  0.025592  0.045226  0.020118      1\n",
       "8  43  0.016542 -0.047551  1.076140  1.055464  0.334402 -0.294713      7\n",
       "9  34  1.236345 -0.312723 -0.340588  0.125014  2.032934 -0.028432      5"
      ]
     },
     "metadata": {},
     "output_type": "display_data"
    },
    {
     "name": "stdout",
     "output_type": "stream",
     "text": [
      "                                                                                                 \r"
     ]
    },
    {
     "data": {
      "text/html": [
       "10 rows X 8 columns"
      ],
      "text/plain": [
       "<IPython.core.display.HTML object>"
      ]
     },
     "metadata": {},
     "output_type": "display_data"
    },
    {
     "name": "stdout",
     "output_type": "stream",
     "text": [
      "Data Transformation completed.⫿⫿⫿⫿⫿⫿⫿⫿⫿⫿⫿⫿⫿⫿⫿⫿⫿⫿⫿⫿⫿⫿⫿⫿⫿⫿⫿⫿⫿⫿⫿⫿⫿⫿⫿⫿⫿⫿⫿⫿⫿⫿｜ 100% - 10/10           \n",
      "\n",
      "Following model is being used for generating prediction :\n",
      "Model ID : XGBOOST_4 \n",
      "Feature Selection Method : rfe\n",
      "\n",
      "Prediction : \n",
      "   id  Prediction  Confidence_Lower  Confidence_upper  gtype\n",
      "0  17           2               1.0               1.0      2\n",
      "1  26           7               1.0               1.0      7\n",
      "2  43           7               1.0               1.0      7\n",
      "3  19           1               1.0               1.0      1\n",
      "4  36           2               1.0               1.0      2\n",
      "5  28           7               1.0               1.0      7\n",
      "6  49           7               1.0               1.0      5\n",
      "7  41           2               1.0               1.0      2\n",
      "8  38           1               1.0               1.0      3\n",
      "9  12           7               1.0               1.0      6\n",
      "\n",
      "Performance Metrics : \n",
      "       Prediction  Mapping  CLASS_1  CLASS_2  CLASS_3  CLASS_4  CLASS_5  CLASS_6  Precision    Recall        F1  Support\n",
      "SeqNum                                                                                                                  \n",
      "2               3  CLASS_3        1        0        1        0        0        0     0.5000  0.250000  0.333333        4\n",
      "0               1  CLASS_1       13        1        2        0        0        0     0.8125  0.764706  0.787879       17\n",
      "3               5  CLASS_4        0        0        0        0        0        0     0.0000  0.000000  0.000000        5\n",
      "4               6  CLASS_5        0        0        1        0        0        0     0.0000  0.000000  0.000000        1\n",
      "1               2  CLASS_2        3        9        0        3        0        1     0.5625  0.818182  0.666667       11\n",
      "5               7  CLASS_6        0        1        0        2        1        4     0.5000  0.800000  0.615385        5\n",
      "\n",
      "Confusion Matrix : \n"
     ]
    },
    {
     "data": {
      "text/plain": [
       "array([[13,  3,  1,  0,  0,  0],\n",
       "       [ 1,  9,  0,  0,  0,  1],\n",
       "       [ 2,  0,  1,  0,  1,  0],\n",
       "       [ 0,  3,  0,  0,  0,  2],\n",
       "       [ 0,  0,  0,  0,  0,  1],\n",
       "       [ 0,  1,  0,  0,  0,  4]], dtype=int64)"
      ]
     },
     "metadata": {},
     "output_type": "display_data"
    }
   ],
   "source": [
    "# Generating prediction and metrics on test data\n",
    "prediction = aml.predict(glass_df_test,2)"
   ]
  },
  {
   "cell_type": "code",
   "execution_count": 22,
   "id": "cc4f6a78-1cdf-4938-a9f1-22035d8404ca",
   "metadata": {},
   "outputs": [
    {
     "data": {
      "text/html": [
       "<style type=\"text/css\">\n",
       "\ttable {border:ridge 5px;}\n",
       "\ttable td {border:inset 1px;}\n",
       "\ttable tr#HeaderRow {background-color:grey; color:white;}</style>\n",
       "<html><table>\n",
       "\t<tr id=\"HeaderRow\">\n",
       "\t\t<th>id</th>\n",
       "\t\t<th>Prediction</th>\n",
       "\t\t<th>Confidence_Lower</th>\n",
       "\t\t<th>Confidence_upper</th>\n",
       "\t\t<th>gtype</th>\n",
       "\t</tr>\n",
       "\t<tr>\n",
       "\t\t<td>10</td>\n",
       "\t\t<td>7</td>\n",
       "\t\t<td>1.0</td>\n",
       "\t\t<td>1.0</td>\n",
       "\t\t<td>7</td>\n",
       "\t</tr>\n",
       "\t<tr>\n",
       "\t\t<td>12</td>\n",
       "\t\t<td>7</td>\n",
       "\t\t<td>1.0</td>\n",
       "\t\t<td>1.0</td>\n",
       "\t\t<td>6</td>\n",
       "\t</tr>\n",
       "\t<tr>\n",
       "\t\t<td>13</td>\n",
       "\t\t<td>1</td>\n",
       "\t\t<td>1.0</td>\n",
       "\t\t<td>1.0</td>\n",
       "\t\t<td>1</td>\n",
       "\t</tr>\n",
       "\t<tr>\n",
       "\t\t<td>14</td>\n",
       "\t\t<td>1</td>\n",
       "\t\t<td>1.0</td>\n",
       "\t\t<td>1.0</td>\n",
       "\t\t<td>1</td>\n",
       "\t</tr>\n",
       "\t<tr>\n",
       "\t\t<td>16</td>\n",
       "\t\t<td>2</td>\n",
       "\t\t<td>1.0</td>\n",
       "\t\t<td>1.0</td>\n",
       "\t\t<td>2</td>\n",
       "\t</tr>\n",
       "\t<tr>\n",
       "\t\t<td>17</td>\n",
       "\t\t<td>2</td>\n",
       "\t\t<td>1.0</td>\n",
       "\t\t<td>1.0</td>\n",
       "\t\t<td>2</td>\n",
       "\t</tr>\n",
       "\t<tr>\n",
       "\t\t<td>15</td>\n",
       "\t\t<td>2</td>\n",
       "\t\t<td>1.0</td>\n",
       "\t\t<td>1.0</td>\n",
       "\t\t<td>1</td>\n",
       "\t</tr>\n",
       "\t<tr>\n",
       "\t\t<td>11</td>\n",
       "\t\t<td>3</td>\n",
       "\t\t<td>1.0</td>\n",
       "\t\t<td>1.0</td>\n",
       "\t\t<td>1</td>\n",
       "\t</tr>\n",
       "\t<tr>\n",
       "\t\t<td>9</td>\n",
       "\t\t<td>1</td>\n",
       "\t\t<td>1.0</td>\n",
       "\t\t<td>1.0</td>\n",
       "\t\t<td>1</td>\n",
       "\t</tr>\n",
       "\t<tr>\n",
       "\t\t<td>8</td>\n",
       "\t\t<td>2</td>\n",
       "\t\t<td>1.0</td>\n",
       "\t\t<td>1.0</td>\n",
       "\t\t<td>5</td>\n",
       "\t</tr>\n",
       "</table></html>"
      ],
      "text/plain": [
       "   id  Prediction  Confidence_Lower  Confidence_upper  gtype\n",
       "0  10           7               1.0               1.0      7\n",
       "1  12           7               1.0               1.0      6\n",
       "2  13           1               1.0               1.0      1\n",
       "3  14           1               1.0               1.0      1\n",
       "4  16           2               1.0               1.0      2\n",
       "5  17           2               1.0               1.0      2\n",
       "6  15           2               1.0               1.0      1\n",
       "7  11           3               1.0               1.0      1\n",
       "8   9           1               1.0               1.0      1\n",
       "9   8           2               1.0               1.0      5"
      ]
     },
     "execution_count": 22,
     "metadata": {},
     "output_type": "execute_result"
    }
   ],
   "source": [
    "# Printing prediction\n",
    "prediction.head()"
   ]
  },
  {
   "cell_type": "code",
   "execution_count": 23,
   "id": "b2cba357-75ac-4089-a234-64a57067b117",
   "metadata": {},
   "outputs": [
    {
     "data": {
      "text/plain": [
       "True"
      ]
     },
     "execution_count": 23,
     "metadata": {},
     "output_type": "execute_result"
    }
   ],
   "source": [
    "remove_context()"
   ]
  }
 ],
 "metadata": {
  "kernelspec": {
   "display_name": "Python 3 (ipykernel)",
   "language": "python",
   "name": "python3"
  },
  "language_info": {
   "codemirror_mode": {
    "name": "ipython",
    "version": 3
   },
   "file_extension": ".py",
   "mimetype": "text/x-python",
   "name": "python",
   "nbconvert_exporter": "python",
   "pygments_lexer": "ipython3",
   "version": "3.10.9"
  }
 },
 "nbformat": 4,
 "nbformat_minor": 5
}
