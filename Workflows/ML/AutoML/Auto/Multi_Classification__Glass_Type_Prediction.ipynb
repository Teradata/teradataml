{
 "cells": [
  {
   "cell_type": "markdown",
   "id": "2762f1d8-5a66-411f-a625-34cf16ac6dd3",
   "metadata": {},
   "source": [
    "# <b><span style='color:#F1A424'>AutoML - Multiclass Classification - Glass Type Prediction </span> </b>"
   ]
  },
  {
   "cell_type": "markdown",
   "id": "e78b719f-de57-467c-b528-93b313799f92",
   "metadata": {},
   "source": [
    "### Disclaimer\n",
    "Please note, the Vantage Functions via SQLAlchemy feature is a preview/beta code release with limited functionality (the “Code”). As such, you acknowledge that the Code is experimental in nature and that the Code is provided “AS IS” and may not be functional on any machine or in any environment. TERADATA DISCLAIMS ALL WARRANTIES RELATING TO THE CODE, EXPRESS OR IMPLIED, INCLUDING, BUT NOT LIMITED TO, ANY WARRANTIES AGAINST INFRINGEMENT OF THIRD-PARTY RIGHTS, MERCHANTABILITY AND FITNESS FOR A PARTICULAR PURPOSE.\n",
    "\n",
    "TERADATA SHALL NOT BE RESPONSIBLE OR LIABLE WITH RESPECT TO ANY SUBJECT MATTER OF THE CODE UNDER ANY CONTRACT, NEGLIGENCE, STRICT LIABILITY OR OTHER THEORY \n",
    "    (A) FOR LOSS OR INACCURACY OF DATA OR COST OF PROCUREMENT OF SUBSTITUTE GOODS, SERVICES OR TECHNOLOGY, OR \n",
    "    (B) FOR ANY INDIRECT, INCIDENTAL OR CONSEQUENTIAL DAMAGES INCLUDING, BUT NOT LIMITED TO LOSS OF REVENUES AND LOSS OF PROFITS. TERADATA SHALL NOT BE RESPONSIBLE FOR ANY MATTER BEYOND ITS REASONABLE CONTROL.\n",
    "\n",
    "Notwithstanding anything to the contrary: \n",
    "    (a) Teradata will have no obligation of any kind with respect to any Code-related comments, suggestions, design changes or improvements that you elect to provide to Teradata in either verbal or written form (collectively, “Feedback”), and \n",
    "    (b) Teradata and its affiliates are hereby free to use any ideas, concepts, know-how or techniques, in whole or in part, contained in Feedback: \n",
    "        (i) for any purpose whatsoever, including developing, manufacturing, and/or marketing products and/or services incorporating Feedback in whole or in part, and \n",
    "        (ii) without any restrictions or limitations, including requiring the payment of any license fees, royalties, or other consideration. "
   ]
  },
  {
   "cell_type": "markdown",
   "id": "f225fb94-b2c8-4c92-af38-733d08e0e2a1",
   "metadata": {},
   "source": [
    "## <b> Problem overview:</b>\n",
    "    "
   ]
  },
  {
   "cell_type": "markdown",
   "id": "af9813eb-9c44-4968-a5fe-d1c74415c894",
   "metadata": {},
   "source": [
    "**Dataset used : Glass Type Dataset**\n",
    "\n",
    "**Features**:\n",
    "- `Id number`: 1 to 214 (removed from CSV file)\n",
    "- `RI`: refractive index\n",
    "- `Na`: Sodium (unit measurement: weight percent in corresponding oxide, as are attributes 4-10)\n",
    "- `Mg`: Magnesium\n",
    "- `Al`: Aluminum\n",
    "- `Si`: Silicon\n",
    "- `K`: Potassium\n",
    "- `Ca`: Calcium\n",
    "- `Ba`: Barium\n",
    "- `Fe`: Iron\n",
    "\n",
    "**Target Variable**:\n",
    "- `Type of glass`: (class attribute)\n",
    "  - 1 building_windows_float_processed\n",
    "  - 2 building_windows_non_float_processed\n",
    "  - 3 vehicle_windows_float_processed\n",
    "  - 4 vehicle_windows_non_float_processed (none in this database)\n",
    "  - 5 containers\n",
    "  - 6 tableware\n",
    "  - 7 headlamps\n",
    "\n",
    "        \n",
    "**Objective**:\n",
    "\n",
    "The primary objective is typically to build a model that can accurately predict the type of glass.\n",
    "\n",
    "**Usecase**:\n",
    "\n",
    "Here, we will use AutoML(Automated Machine Learning) functionality to automate the entire process of developing a predictive model. It will perform feature exploration, feature engineering, data preparation, model training and evaluation on dataset in auto run and at end we will get leaderboard containined different models along with their performance. Model will also have rank associated with them which indicates which is best performing model for given data followed by other models.\n"
   ]
  },
  {
   "cell_type": "code",
   "execution_count": 1,
   "id": "66568348-4d00-477c-a071-17995f797c95",
   "metadata": {},
   "outputs": [],
   "source": [
    "# Importing AutoML from teradataml\n",
    "from teradataml import AutoML, AutoClassifier"
   ]
  },
  {
   "cell_type": "code",
   "execution_count": 2,
   "id": "17dfae70-0401-4cc4-ba1c-400a5cf62451",
   "metadata": {},
   "outputs": [],
   "source": [
    "# Importing other important libraries\n",
    "import getpass\n",
    "from teradataml import create_context, remove_context\n",
    "from teradataml import DataFrame\n",
    "from teradataml import load_example_data\n",
    "from teradataml import TrainTestSplit"
   ]
  },
  {
   "cell_type": "code",
   "execution_count": 3,
   "id": "cadd9ed2-42d6-4899-b23e-4e2cf601162f",
   "metadata": {},
   "outputs": [
    {
     "name": "stdin",
     "output_type": "stream",
     "text": [
      "Host:  ········\n",
      "Username:  ········\n",
      "Password:  ········\n"
     ]
    }
   ],
   "source": [
    "# Create the connection.\n",
    "host = getpass.getpass(\"Host: \")\n",
    "username = getpass.getpass(\"Username: \")\n",
    "password = getpass.getpass(\"Password: \")\n",
    "\n",
    "con = create_context(host=host, username=username, password=password)"
   ]
  },
  {
   "cell_type": "markdown",
   "id": "be767a89-d5b8-4876-91cb-36980754586e",
   "metadata": {},
   "source": [
    "## <b><span style='color:#F1A424'>| 1.</span> Loading Dataset </b>"
   ]
  },
  {
   "cell_type": "code",
   "execution_count": 4,
   "id": "f1592c52-b247-4792-be2a-30b49bbeb9b6",
   "metadata": {},
   "outputs": [],
   "source": [
    "# Loading dataset from example data collection\n",
    "load_example_data('teradataml','glass_types')"
   ]
  },
  {
   "cell_type": "code",
   "execution_count": 5,
   "id": "3846ae0f-004b-4b8e-9fea-06fac4294065",
   "metadata": {},
   "outputs": [],
   "source": [
    "# Fetching in teradata dataframe\n",
    "glass_df = DataFrame(\"glass_types\")"
   ]
  },
  {
   "cell_type": "code",
   "execution_count": 6,
   "id": "442ccd80-b444-413e-970d-d855ec3d6cae",
   "metadata": {},
   "outputs": [
    {
     "data": {
      "text/html": [
       "<style type=\"text/css\">\n",
       "\ttable {border:ridge 5px;}\n",
       "\ttable td {border:inset 1px;}\n",
       "\ttable tr#HeaderRow {background-color:grey; color:white;}</style>\n",
       "<html><table>\n",
       "\t<tr id=\"HeaderRow\">\n",
       "\t\t<th>ri</th>\n",
       "\t\t<th>na</th>\n",
       "\t\t<th>mg</th>\n",
       "\t\t<th>ai</th>\n",
       "\t\t<th>si</th>\n",
       "\t\t<th>k</th>\n",
       "\t\t<th>ca</th>\n",
       "\t\t<th>ba</th>\n",
       "\t\t<th>fe</th>\n",
       "\t\t<th>gtype</th>\n",
       "\t</tr>\n",
       "\t<tr>\n",
       "\t\t<td>1.51215</td>\n",
       "\t\t<td>12.99</td>\n",
       "\t\t<td>3.47</td>\n",
       "\t\t<td>1.12</td>\n",
       "\t\t<td>72.98</td>\n",
       "\t\t<td>0.62</td>\n",
       "\t\t<td>8.35</td>\n",
       "\t\t<td>0.0</td>\n",
       "\t\t<td>0.31</td>\n",
       "\t\t<td>1</td>\n",
       "\t</tr>\n",
       "\t<tr>\n",
       "\t\t<td>1.51316</td>\n",
       "\t\t<td>13.02</td>\n",
       "\t\t<td>0.0</td>\n",
       "\t\t<td>3.04</td>\n",
       "\t\t<td>70.48</td>\n",
       "\t\t<td>6.21</td>\n",
       "\t\t<td>6.96</td>\n",
       "\t\t<td>0.0</td>\n",
       "\t\t<td>0.0</td>\n",
       "\t\t<td>5</td>\n",
       "\t</tr>\n",
       "\t<tr>\n",
       "\t\t<td>1.51321</td>\n",
       "\t\t<td>13.0</td>\n",
       "\t\t<td>0.0</td>\n",
       "\t\t<td>3.02</td>\n",
       "\t\t<td>70.7</td>\n",
       "\t\t<td>6.21</td>\n",
       "\t\t<td>6.93</td>\n",
       "\t\t<td>0.0</td>\n",
       "\t\t<td>0.0</td>\n",
       "\t\t<td>5</td>\n",
       "\t</tr>\n",
       "\t<tr>\n",
       "\t\t<td>1.51409</td>\n",
       "\t\t<td>14.25</td>\n",
       "\t\t<td>3.09</td>\n",
       "\t\t<td>2.08</td>\n",
       "\t\t<td>72.28</td>\n",
       "\t\t<td>1.1</td>\n",
       "\t\t<td>7.08</td>\n",
       "\t\t<td>0.0</td>\n",
       "\t\t<td>0.0</td>\n",
       "\t\t<td>2</td>\n",
       "\t</tr>\n",
       "\t<tr>\n",
       "\t\t<td>1.51514</td>\n",
       "\t\t<td>14.01</td>\n",
       "\t\t<td>2.68</td>\n",
       "\t\t<td>3.5</td>\n",
       "\t\t<td>69.89</td>\n",
       "\t\t<td>1.68</td>\n",
       "\t\t<td>5.87</td>\n",
       "\t\t<td>2.2</td>\n",
       "\t\t<td>0.0</td>\n",
       "\t\t<td>5</td>\n",
       "\t</tr>\n",
       "\t<tr>\n",
       "\t\t<td>1.51514</td>\n",
       "\t\t<td>14.85</td>\n",
       "\t\t<td>0.0</td>\n",
       "\t\t<td>2.42</td>\n",
       "\t\t<td>73.72</td>\n",
       "\t\t<td>0.0</td>\n",
       "\t\t<td>8.39</td>\n",
       "\t\t<td>0.56</td>\n",
       "\t\t<td>0.0</td>\n",
       "\t\t<td>7</td>\n",
       "\t</tr>\n",
       "\t<tr>\n",
       "\t\t<td>1.51508</td>\n",
       "\t\t<td>15.15</td>\n",
       "\t\t<td>0.0</td>\n",
       "\t\t<td>2.25</td>\n",
       "\t\t<td>73.5</td>\n",
       "\t\t<td>0.0</td>\n",
       "\t\t<td>8.34</td>\n",
       "\t\t<td>0.63</td>\n",
       "\t\t<td>0.0</td>\n",
       "\t\t<td>7</td>\n",
       "\t</tr>\n",
       "\t<tr>\n",
       "\t\t<td>1.51299</td>\n",
       "\t\t<td>14.4</td>\n",
       "\t\t<td>1.74</td>\n",
       "\t\t<td>1.54</td>\n",
       "\t\t<td>74.55</td>\n",
       "\t\t<td>0.0</td>\n",
       "\t\t<td>7.59</td>\n",
       "\t\t<td>0.0</td>\n",
       "\t\t<td>0.0</td>\n",
       "\t\t<td>6</td>\n",
       "\t</tr>\n",
       "\t<tr>\n",
       "\t\t<td>1.51131</td>\n",
       "\t\t<td>13.69</td>\n",
       "\t\t<td>3.2</td>\n",
       "\t\t<td>1.81</td>\n",
       "\t\t<td>72.81</td>\n",
       "\t\t<td>1.76</td>\n",
       "\t\t<td>5.43</td>\n",
       "\t\t<td>1.19</td>\n",
       "\t\t<td>0.0</td>\n",
       "\t\t<td>7</td>\n",
       "\t</tr>\n",
       "\t<tr>\n",
       "\t\t<td>1.51115</td>\n",
       "\t\t<td>17.38</td>\n",
       "\t\t<td>0.0</td>\n",
       "\t\t<td>0.34</td>\n",
       "\t\t<td>75.41</td>\n",
       "\t\t<td>0.0</td>\n",
       "\t\t<td>6.65</td>\n",
       "\t\t<td>0.0</td>\n",
       "\t\t<td>0.0</td>\n",
       "\t\t<td>6</td>\n",
       "\t</tr>\n",
       "</table></html>"
      ],
      "text/plain": [
       "            na    mg    ai     si     k    ca    ba    fe  gtype\n",
       "ri                                                              \n",
       "1.51215  12.99  3.47  1.12  72.98  0.62  8.35  0.00  0.31      1\n",
       "1.51316  13.02  0.00  3.04  70.48  6.21  6.96  0.00  0.00      5\n",
       "1.51321  13.00  0.00  3.02  70.70  6.21  6.93  0.00  0.00      5\n",
       "1.51409  14.25  3.09  2.08  72.28  1.10  7.08  0.00  0.00      2\n",
       "1.51514  14.01  2.68  3.50  69.89  1.68  5.87  2.20  0.00      5\n",
       "1.51514  14.85  0.00  2.42  73.72  0.00  8.39  0.56  0.00      7\n",
       "1.51508  15.15  0.00  2.25  73.50  0.00  8.34  0.63  0.00      7\n",
       "1.51299  14.40  1.74  1.54  74.55  0.00  7.59  0.00  0.00      6\n",
       "1.51131  13.69  3.20  1.81  72.81  1.76  5.43  1.19  0.00      7\n",
       "1.51115  17.38  0.00  0.34  75.41  0.00  6.65  0.00  0.00      6"
      ]
     },
     "execution_count": 6,
     "metadata": {},
     "output_type": "execute_result"
    }
   ],
   "source": [
    "# first 5 rows\n",
    "glass_df.head()"
   ]
  },
  {
   "cell_type": "code",
   "execution_count": 7,
   "id": "636c220d-d12f-4ea5-ab2b-c9203ef00d49",
   "metadata": {},
   "outputs": [
    {
     "data": {
      "text/plain": [
       "(214, 10)"
      ]
     },
     "execution_count": 7,
     "metadata": {},
     "output_type": "execute_result"
    }
   ],
   "source": [
    "# glass_df dataset\n",
    "glass_df.shape"
   ]
  },
  {
   "cell_type": "code",
   "execution_count": 8,
   "id": "e5d1fad7-8784-4d7a-be1f-7be1d3991d8f",
   "metadata": {},
   "outputs": [],
   "source": [
    "# Performing sampling to get 80% for trainning and 20% for testing\n",
    "glass_df_sample = glass_df.sample(frac = [0.8, 0.2])"
   ]
  },
  {
   "cell_type": "code",
   "execution_count": 9,
   "id": "a0e6891a-1b7e-4bac-97c8-350ba5f5bde4",
   "metadata": {},
   "outputs": [
    {
     "data": {
      "text/html": [
       "<style type=\"text/css\">\n",
       "\ttable {border:ridge 5px;}\n",
       "\ttable td {border:inset 1px;}\n",
       "\ttable tr#HeaderRow {background-color:grey; color:white;}</style>\n",
       "<html><table>\n",
       "\t<tr id=\"HeaderRow\">\n",
       "\t\t<th>ri</th>\n",
       "\t\t<th>na</th>\n",
       "\t\t<th>mg</th>\n",
       "\t\t<th>ai</th>\n",
       "\t\t<th>si</th>\n",
       "\t\t<th>k</th>\n",
       "\t\t<th>ca</th>\n",
       "\t\t<th>ba</th>\n",
       "\t\t<th>fe</th>\n",
       "\t\t<th>gtype</th>\n",
       "\t\t<th>sampleid</th>\n",
       "\t</tr>\n",
       "\t<tr>\n",
       "\t\t<td>1.51215</td>\n",
       "\t\t<td>12.99</td>\n",
       "\t\t<td>3.47</td>\n",
       "\t\t<td>1.12</td>\n",
       "\t\t<td>72.98</td>\n",
       "\t\t<td>0.62</td>\n",
       "\t\t<td>8.35</td>\n",
       "\t\t<td>0.0</td>\n",
       "\t\t<td>0.31</td>\n",
       "\t\t<td>1</td>\n",
       "\t\t<td>1</td>\n",
       "\t</tr>\n",
       "\t<tr>\n",
       "\t\t<td>1.51316</td>\n",
       "\t\t<td>13.02</td>\n",
       "\t\t<td>0.0</td>\n",
       "\t\t<td>3.04</td>\n",
       "\t\t<td>70.48</td>\n",
       "\t\t<td>6.21</td>\n",
       "\t\t<td>6.96</td>\n",
       "\t\t<td>0.0</td>\n",
       "\t\t<td>0.0</td>\n",
       "\t\t<td>5</td>\n",
       "\t\t<td>1</td>\n",
       "\t</tr>\n",
       "\t<tr>\n",
       "\t\t<td>1.51321</td>\n",
       "\t\t<td>13.0</td>\n",
       "\t\t<td>0.0</td>\n",
       "\t\t<td>3.02</td>\n",
       "\t\t<td>70.7</td>\n",
       "\t\t<td>6.21</td>\n",
       "\t\t<td>6.93</td>\n",
       "\t\t<td>0.0</td>\n",
       "\t\t<td>0.0</td>\n",
       "\t\t<td>5</td>\n",
       "\t\t<td>1</td>\n",
       "\t</tr>\n",
       "\t<tr>\n",
       "\t\t<td>1.51409</td>\n",
       "\t\t<td>14.25</td>\n",
       "\t\t<td>3.09</td>\n",
       "\t\t<td>2.08</td>\n",
       "\t\t<td>72.28</td>\n",
       "\t\t<td>1.1</td>\n",
       "\t\t<td>7.08</td>\n",
       "\t\t<td>0.0</td>\n",
       "\t\t<td>0.0</td>\n",
       "\t\t<td>2</td>\n",
       "\t\t<td>1</td>\n",
       "\t</tr>\n",
       "\t<tr>\n",
       "\t\t<td>1.51514</td>\n",
       "\t\t<td>14.01</td>\n",
       "\t\t<td>2.68</td>\n",
       "\t\t<td>3.5</td>\n",
       "\t\t<td>69.89</td>\n",
       "\t\t<td>1.68</td>\n",
       "\t\t<td>5.87</td>\n",
       "\t\t<td>2.2</td>\n",
       "\t\t<td>0.0</td>\n",
       "\t\t<td>5</td>\n",
       "\t\t<td>1</td>\n",
       "\t</tr>\n",
       "\t<tr>\n",
       "\t\t<td>1.51514</td>\n",
       "\t\t<td>14.85</td>\n",
       "\t\t<td>0.0</td>\n",
       "\t\t<td>2.42</td>\n",
       "\t\t<td>73.72</td>\n",
       "\t\t<td>0.0</td>\n",
       "\t\t<td>8.39</td>\n",
       "\t\t<td>0.56</td>\n",
       "\t\t<td>0.0</td>\n",
       "\t\t<td>7</td>\n",
       "\t\t<td>1</td>\n",
       "\t</tr>\n",
       "\t<tr>\n",
       "\t\t<td>1.51508</td>\n",
       "\t\t<td>15.15</td>\n",
       "\t\t<td>0.0</td>\n",
       "\t\t<td>2.25</td>\n",
       "\t\t<td>73.5</td>\n",
       "\t\t<td>0.0</td>\n",
       "\t\t<td>8.34</td>\n",
       "\t\t<td>0.63</td>\n",
       "\t\t<td>0.0</td>\n",
       "\t\t<td>7</td>\n",
       "\t\t<td>1</td>\n",
       "\t</tr>\n",
       "\t<tr>\n",
       "\t\t<td>1.51299</td>\n",
       "\t\t<td>14.4</td>\n",
       "\t\t<td>1.74</td>\n",
       "\t\t<td>1.54</td>\n",
       "\t\t<td>74.55</td>\n",
       "\t\t<td>0.0</td>\n",
       "\t\t<td>7.59</td>\n",
       "\t\t<td>0.0</td>\n",
       "\t\t<td>0.0</td>\n",
       "\t\t<td>6</td>\n",
       "\t\t<td>2</td>\n",
       "\t</tr>\n",
       "\t<tr>\n",
       "\t\t<td>1.51131</td>\n",
       "\t\t<td>13.69</td>\n",
       "\t\t<td>3.2</td>\n",
       "\t\t<td>1.81</td>\n",
       "\t\t<td>72.81</td>\n",
       "\t\t<td>1.76</td>\n",
       "\t\t<td>5.43</td>\n",
       "\t\t<td>1.19</td>\n",
       "\t\t<td>0.0</td>\n",
       "\t\t<td>7</td>\n",
       "\t\t<td>1</td>\n",
       "\t</tr>\n",
       "\t<tr>\n",
       "\t\t<td>1.51115</td>\n",
       "\t\t<td>17.38</td>\n",
       "\t\t<td>0.0</td>\n",
       "\t\t<td>0.34</td>\n",
       "\t\t<td>75.41</td>\n",
       "\t\t<td>0.0</td>\n",
       "\t\t<td>6.65</td>\n",
       "\t\t<td>0.0</td>\n",
       "\t\t<td>0.0</td>\n",
       "\t\t<td>6</td>\n",
       "\t\t<td>1</td>\n",
       "\t</tr>\n",
       "</table></html>"
      ],
      "text/plain": [
       "            na    mg    ai     si     k    ca    ba    fe  gtype  sampleid\n",
       "ri                                                                        \n",
       "1.51215  12.99  3.47  1.12  72.98  0.62  8.35  0.00  0.31      1         1\n",
       "1.51316  13.02  0.00  3.04  70.48  6.21  6.96  0.00  0.00      5         1\n",
       "1.51321  13.00  0.00  3.02  70.70  6.21  6.93  0.00  0.00      5         1\n",
       "1.51409  14.25  3.09  2.08  72.28  1.10  7.08  0.00  0.00      2         1\n",
       "1.51514  14.01  2.68  3.50  69.89  1.68  5.87  2.20  0.00      5         1\n",
       "1.51514  14.85  0.00  2.42  73.72  0.00  8.39  0.56  0.00      7         1\n",
       "1.51508  15.15  0.00  2.25  73.50  0.00  8.34  0.63  0.00      7         1\n",
       "1.51299  14.40  1.74  1.54  74.55  0.00  7.59  0.00  0.00      6         2\n",
       "1.51131  13.69  3.20  1.81  72.81  1.76  5.43  1.19  0.00      7         1\n",
       "1.51115  17.38  0.00  0.34  75.41  0.00  6.65  0.00  0.00      6         1"
      ]
     },
     "execution_count": 9,
     "metadata": {},
     "output_type": "execute_result"
    }
   ],
   "source": [
    "glass_df_sample.head()"
   ]
  },
  {
   "cell_type": "code",
   "execution_count": 10,
   "id": "5e3e5923-18ad-4cf6-b4e5-e87f8854700b",
   "metadata": {},
   "outputs": [],
   "source": [
    "# Fetching train and test data\n",
    "glass_df_train= glass_df_sample[glass_df_sample['sampleid'] == 1].drop('sampleid', axis=1)\n",
    "glass_df_test = glass_df_sample[glass_df_sample['sampleid'] == 2].drop('sampleid', axis=1)"
   ]
  },
  {
   "cell_type": "code",
   "execution_count": 11,
   "id": "83d72a72-3fac-4862-b374-d21ab59be1a6",
   "metadata": {},
   "outputs": [
    {
     "data": {
      "text/plain": [
       "(171, 10)"
      ]
     },
     "execution_count": 11,
     "metadata": {},
     "output_type": "execute_result"
    }
   ],
   "source": [
    "# train data shape\n",
    "glass_df_train.shape"
   ]
  },
  {
   "cell_type": "code",
   "execution_count": 12,
   "id": "b22be730-8a7a-40f3-8e2a-cabd8d1f427f",
   "metadata": {},
   "outputs": [
    {
     "data": {
      "text/plain": [
       "(43, 10)"
      ]
     },
     "execution_count": 12,
     "metadata": {},
     "output_type": "execute_result"
    }
   ],
   "source": [
    "# test data shape\n",
    "glass_df_test.shape"
   ]
  },
  {
   "cell_type": "code",
   "execution_count": 13,
   "id": "18473df2-be15-4e1e-bc5e-739abacf8b89",
   "metadata": {},
   "outputs": [
    {
     "data": {
      "text/html": [
       "<style type=\"text/css\">\n",
       "\ttable {border:ridge 5px;}\n",
       "\ttable td {border:inset 1px;}\n",
       "\ttable tr#HeaderRow {background-color:grey; color:white;}</style>\n",
       "<html><table>\n",
       "\t<tr id=\"HeaderRow\">\n",
       "\t\t<th>ri</th>\n",
       "\t\t<th>na</th>\n",
       "\t\t<th>mg</th>\n",
       "\t\t<th>ai</th>\n",
       "\t\t<th>si</th>\n",
       "\t\t<th>k</th>\n",
       "\t\t<th>ca</th>\n",
       "\t\t<th>ba</th>\n",
       "\t\t<th>fe</th>\n",
       "\t\t<th>gtype</th>\n",
       "\t</tr>\n",
       "\t<tr>\n",
       "\t\t<td>1.51215</td>\n",
       "\t\t<td>12.99</td>\n",
       "\t\t<td>3.47</td>\n",
       "\t\t<td>1.12</td>\n",
       "\t\t<td>72.98</td>\n",
       "\t\t<td>0.62</td>\n",
       "\t\t<td>8.35</td>\n",
       "\t\t<td>0.0</td>\n",
       "\t\t<td>0.31</td>\n",
       "\t\t<td>1</td>\n",
       "\t</tr>\n",
       "\t<tr>\n",
       "\t\t<td>1.51321</td>\n",
       "\t\t<td>13.0</td>\n",
       "\t\t<td>0.0</td>\n",
       "\t\t<td>3.02</td>\n",
       "\t\t<td>70.7</td>\n",
       "\t\t<td>6.21</td>\n",
       "\t\t<td>6.93</td>\n",
       "\t\t<td>0.0</td>\n",
       "\t\t<td>0.0</td>\n",
       "\t\t<td>5</td>\n",
       "\t</tr>\n",
       "\t<tr>\n",
       "\t\t<td>1.51409</td>\n",
       "\t\t<td>14.25</td>\n",
       "\t\t<td>3.09</td>\n",
       "\t\t<td>2.08</td>\n",
       "\t\t<td>72.28</td>\n",
       "\t\t<td>1.1</td>\n",
       "\t\t<td>7.08</td>\n",
       "\t\t<td>0.0</td>\n",
       "\t\t<td>0.0</td>\n",
       "\t\t<td>2</td>\n",
       "\t</tr>\n",
       "\t<tr>\n",
       "\t\t<td>1.51508</td>\n",
       "\t\t<td>15.15</td>\n",
       "\t\t<td>0.0</td>\n",
       "\t\t<td>2.25</td>\n",
       "\t\t<td>73.5</td>\n",
       "\t\t<td>0.0</td>\n",
       "\t\t<td>8.34</td>\n",
       "\t\t<td>0.63</td>\n",
       "\t\t<td>0.0</td>\n",
       "\t\t<td>7</td>\n",
       "\t</tr>\n",
       "\t<tr>\n",
       "\t\t<td>1.51514</td>\n",
       "\t\t<td>14.01</td>\n",
       "\t\t<td>2.68</td>\n",
       "\t\t<td>3.5</td>\n",
       "\t\t<td>69.89</td>\n",
       "\t\t<td>1.68</td>\n",
       "\t\t<td>5.87</td>\n",
       "\t\t<td>2.2</td>\n",
       "\t\t<td>0.0</td>\n",
       "\t\t<td>5</td>\n",
       "\t</tr>\n",
       "\t<tr>\n",
       "\t\t<td>1.51556</td>\n",
       "\t\t<td>13.87</td>\n",
       "\t\t<td>0.0</td>\n",
       "\t\t<td>2.54</td>\n",
       "\t\t<td>73.23</td>\n",
       "\t\t<td>0.14</td>\n",
       "\t\t<td>9.41</td>\n",
       "\t\t<td>0.81</td>\n",
       "\t\t<td>0.01</td>\n",
       "\t\t<td>7</td>\n",
       "\t</tr>\n",
       "\t<tr>\n",
       "\t\t<td>1.51514</td>\n",
       "\t\t<td>14.85</td>\n",
       "\t\t<td>0.0</td>\n",
       "\t\t<td>2.42</td>\n",
       "\t\t<td>73.72</td>\n",
       "\t\t<td>0.0</td>\n",
       "\t\t<td>8.39</td>\n",
       "\t\t<td>0.56</td>\n",
       "\t\t<td>0.0</td>\n",
       "\t\t<td>7</td>\n",
       "\t</tr>\n",
       "\t<tr>\n",
       "\t\t<td>1.51316</td>\n",
       "\t\t<td>13.02</td>\n",
       "\t\t<td>0.0</td>\n",
       "\t\t<td>3.04</td>\n",
       "\t\t<td>70.48</td>\n",
       "\t\t<td>6.21</td>\n",
       "\t\t<td>6.96</td>\n",
       "\t\t<td>0.0</td>\n",
       "\t\t<td>0.0</td>\n",
       "\t\t<td>5</td>\n",
       "\t</tr>\n",
       "\t<tr>\n",
       "\t\t<td>1.51131</td>\n",
       "\t\t<td>13.69</td>\n",
       "\t\t<td>3.2</td>\n",
       "\t\t<td>1.81</td>\n",
       "\t\t<td>72.81</td>\n",
       "\t\t<td>1.76</td>\n",
       "\t\t<td>5.43</td>\n",
       "\t\t<td>1.19</td>\n",
       "\t\t<td>0.0</td>\n",
       "\t\t<td>7</td>\n",
       "\t</tr>\n",
       "\t<tr>\n",
       "\t\t<td>1.51115</td>\n",
       "\t\t<td>17.38</td>\n",
       "\t\t<td>0.0</td>\n",
       "\t\t<td>0.34</td>\n",
       "\t\t<td>75.41</td>\n",
       "\t\t<td>0.0</td>\n",
       "\t\t<td>6.65</td>\n",
       "\t\t<td>0.0</td>\n",
       "\t\t<td>0.0</td>\n",
       "\t\t<td>6</td>\n",
       "\t</tr>\n",
       "</table></html>"
      ],
      "text/plain": [
       "            na    mg    ai     si     k    ca    ba    fe  gtype\n",
       "ri                                                              \n",
       "1.51215  12.99  3.47  1.12  72.98  0.62  8.35  0.00  0.31      1\n",
       "1.51321  13.00  0.00  3.02  70.70  6.21  6.93  0.00  0.00      5\n",
       "1.51409  14.25  3.09  2.08  72.28  1.10  7.08  0.00  0.00      2\n",
       "1.51508  15.15  0.00  2.25  73.50  0.00  8.34  0.63  0.00      7\n",
       "1.51514  14.01  2.68  3.50  69.89  1.68  5.87  2.20  0.00      5\n",
       "1.51556  13.87  0.00  2.54  73.23  0.14  9.41  0.81  0.01      7\n",
       "1.51514  14.85  0.00  2.42  73.72  0.00  8.39  0.56  0.00      7\n",
       "1.51316  13.02  0.00  3.04  70.48  6.21  6.96  0.00  0.00      5\n",
       "1.51131  13.69  3.20  1.81  72.81  1.76  5.43  1.19  0.00      7\n",
       "1.51115  17.38  0.00  0.34  75.41  0.00  6.65  0.00  0.00      6"
      ]
     },
     "execution_count": 13,
     "metadata": {},
     "output_type": "execute_result"
    }
   ],
   "source": [
    "#train dataset\n",
    "glass_df_train.head()"
   ]
  },
  {
   "cell_type": "code",
   "execution_count": 14,
   "id": "58c9d763-4f19-449e-a35b-676d4d026acc",
   "metadata": {},
   "outputs": [
    {
     "data": {
      "text/html": [
       "<style type=\"text/css\">\n",
       "\ttable {border:ridge 5px;}\n",
       "\ttable td {border:inset 1px;}\n",
       "\ttable tr#HeaderRow {background-color:grey; color:white;}</style>\n",
       "<html><table>\n",
       "\t<tr id=\"HeaderRow\">\n",
       "\t\t<th>ri</th>\n",
       "\t\t<th>na</th>\n",
       "\t\t<th>mg</th>\n",
       "\t\t<th>ai</th>\n",
       "\t\t<th>si</th>\n",
       "\t\t<th>k</th>\n",
       "\t\t<th>ca</th>\n",
       "\t\t<th>ba</th>\n",
       "\t\t<th>fe</th>\n",
       "\t\t<th>gtype</th>\n",
       "\t</tr>\n",
       "\t<tr>\n",
       "\t\t<td>1.51545</td>\n",
       "\t\t<td>14.14</td>\n",
       "\t\t<td>0.0</td>\n",
       "\t\t<td>2.68</td>\n",
       "\t\t<td>73.39</td>\n",
       "\t\t<td>0.08</td>\n",
       "\t\t<td>9.07</td>\n",
       "\t\t<td>0.61</td>\n",
       "\t\t<td>0.05</td>\n",
       "\t\t<td>7</td>\n",
       "\t</tr>\n",
       "\t<tr>\n",
       "\t\t<td>1.5159</td>\n",
       "\t\t<td>13.02</td>\n",
       "\t\t<td>3.58</td>\n",
       "\t\t<td>1.51</td>\n",
       "\t\t<td>73.12</td>\n",
       "\t\t<td>0.69</td>\n",
       "\t\t<td>7.96</td>\n",
       "\t\t<td>0.0</td>\n",
       "\t\t<td>0.0</td>\n",
       "\t\t<td>2</td>\n",
       "\t</tr>\n",
       "\t<tr>\n",
       "\t\t<td>1.51602</td>\n",
       "\t\t<td>14.85</td>\n",
       "\t\t<td>0.0</td>\n",
       "\t\t<td>2.38</td>\n",
       "\t\t<td>73.28</td>\n",
       "\t\t<td>0.0</td>\n",
       "\t\t<td>8.76</td>\n",
       "\t\t<td>0.64</td>\n",
       "\t\t<td>0.09</td>\n",
       "\t\t<td>7</td>\n",
       "\t</tr>\n",
       "\t<tr>\n",
       "\t\t<td>1.5161</td>\n",
       "\t\t<td>13.42</td>\n",
       "\t\t<td>3.4</td>\n",
       "\t\t<td>1.22</td>\n",
       "\t\t<td>72.69</td>\n",
       "\t\t<td>0.59</td>\n",
       "\t\t<td>8.32</td>\n",
       "\t\t<td>0.0</td>\n",
       "\t\t<td>0.0</td>\n",
       "\t\t<td>3</td>\n",
       "\t</tr>\n",
       "\t<tr>\n",
       "\t\t<td>1.5164</td>\n",
       "\t\t<td>12.55</td>\n",
       "\t\t<td>3.48</td>\n",
       "\t\t<td>1.87</td>\n",
       "\t\t<td>73.23</td>\n",
       "\t\t<td>0.63</td>\n",
       "\t\t<td>8.08</td>\n",
       "\t\t<td>0.0</td>\n",
       "\t\t<td>0.09</td>\n",
       "\t\t<td>2</td>\n",
       "\t</tr>\n",
       "\t<tr>\n",
       "\t\t<td>1.51651</td>\n",
       "\t\t<td>14.38</td>\n",
       "\t\t<td>0.0</td>\n",
       "\t\t<td>1.94</td>\n",
       "\t\t<td>73.61</td>\n",
       "\t\t<td>0.0</td>\n",
       "\t\t<td>8.48</td>\n",
       "\t\t<td>1.57</td>\n",
       "\t\t<td>0.0</td>\n",
       "\t\t<td>7</td>\n",
       "\t</tr>\n",
       "\t<tr>\n",
       "\t\t<td>1.51618</td>\n",
       "\t\t<td>13.53</td>\n",
       "\t\t<td>3.55</td>\n",
       "\t\t<td>1.54</td>\n",
       "\t\t<td>72.99</td>\n",
       "\t\t<td>0.39</td>\n",
       "\t\t<td>7.78</td>\n",
       "\t\t<td>0.0</td>\n",
       "\t\t<td>0.0</td>\n",
       "\t\t<td>1</td>\n",
       "\t</tr>\n",
       "\t<tr>\n",
       "\t\t<td>1.51571</td>\n",
       "\t\t<td>12.72</td>\n",
       "\t\t<td>3.46</td>\n",
       "\t\t<td>1.56</td>\n",
       "\t\t<td>73.2</td>\n",
       "\t\t<td>0.67</td>\n",
       "\t\t<td>8.09</td>\n",
       "\t\t<td>0.0</td>\n",
       "\t\t<td>0.24</td>\n",
       "\t\t<td>1</td>\n",
       "\t</tr>\n",
       "\t<tr>\n",
       "\t\t<td>1.51531</td>\n",
       "\t\t<td>14.38</td>\n",
       "\t\t<td>0.0</td>\n",
       "\t\t<td>2.66</td>\n",
       "\t\t<td>73.1</td>\n",
       "\t\t<td>0.04</td>\n",
       "\t\t<td>9.08</td>\n",
       "\t\t<td>0.64</td>\n",
       "\t\t<td>0.0</td>\n",
       "\t\t<td>7</td>\n",
       "\t</tr>\n",
       "\t<tr>\n",
       "\t\t<td>1.51299</td>\n",
       "\t\t<td>14.4</td>\n",
       "\t\t<td>1.74</td>\n",
       "\t\t<td>1.54</td>\n",
       "\t\t<td>74.55</td>\n",
       "\t\t<td>0.0</td>\n",
       "\t\t<td>7.59</td>\n",
       "\t\t<td>0.0</td>\n",
       "\t\t<td>0.0</td>\n",
       "\t\t<td>6</td>\n",
       "\t</tr>\n",
       "</table></html>"
      ],
      "text/plain": [
       "            na    mg    ai     si     k    ca    ba    fe  gtype\n",
       "ri                                                              \n",
       "1.51545  14.14  0.00  2.68  73.39  0.08  9.07  0.61  0.05      7\n",
       "1.51590  13.02  3.58  1.51  73.12  0.69  7.96  0.00  0.00      2\n",
       "1.51602  14.85  0.00  2.38  73.28  0.00  8.76  0.64  0.09      7\n",
       "1.51610  13.42  3.40  1.22  72.69  0.59  8.32  0.00  0.00      3\n",
       "1.51640  12.55  3.48  1.87  73.23  0.63  8.08  0.00  0.09      2\n",
       "1.51651  14.38  0.00  1.94  73.61  0.00  8.48  1.57  0.00      7\n",
       "1.51618  13.53  3.55  1.54  72.99  0.39  7.78  0.00  0.00      1\n",
       "1.51571  12.72  3.46  1.56  73.20  0.67  8.09  0.00  0.24      1\n",
       "1.51531  14.38  0.00  2.66  73.10  0.04  9.08  0.64  0.00      7\n",
       "1.51299  14.40  1.74  1.54  74.55  0.00  7.59  0.00  0.00      6"
      ]
     },
     "execution_count": 14,
     "metadata": {},
     "output_type": "execute_result"
    }
   ],
   "source": [
    "# test dataset\n",
    "glass_df_test.head()"
   ]
  },
  {
   "cell_type": "markdown",
   "id": "856ea871-93d8-4ea2-b524-1acb23bd7eb5",
   "metadata": {},
   "source": [
    "## <b><span style='color:#F1A424'>| 2.</span> Fitting AutoML </b>"
   ]
  },
  {
   "cell_type": "code",
   "execution_count": 15,
   "id": "f3650aa5-a408-4227-a88d-79c0f3d36d3c",
   "metadata": {},
   "outputs": [],
   "source": [
    "# Creating AutoML instance with task type 'Classification'\n",
    "# Using only 'decision_forest' and 'xgboost' models from model training.\n",
    "# Keeping early stopping metrics threshold to 0.6 for 'MICRO-F1', early stopping timer threshold to 80 sec\n",
    "# and verbose level 2 for detailed loggging\n",
    "\n",
    "aml = AutoML(task_type=\"Classification\",\n",
    "             include=['decision_forest', 'xgboost'],\n",
    "             stopping_metric='MICRO-F1',\n",
    "             stopping_tolerance=0.60,\n",
    "             max_runtime_secs=80,\n",
    "             verbose=2)"
   ]
  },
  {
   "cell_type": "code",
   "execution_count": 16,
   "id": "a1b7a771-1bfa-40c9-8ad0-c377d320c137",
   "metadata": {
    "tags": []
   },
   "outputs": [
    {
     "data": {
      "text/html": [
       "\n",
       "            <style>\n",
       "                .custom-div {\n",
       "                    background-color: lightgray;\n",
       "                    color: #000000;\n",
       "                    padding: 10px;\n",
       "                    border-radius: 8px;\n",
       "                    box-shadow: 0 3px 4px rgba(0, 0, 0, 0.2);\n",
       "                    margin-bottom: 10px;\n",
       "                    text-align: center;\n",
       "                }\n",
       "            </style>\n",
       "        <br><div class=\"custom-div\"><h3><span style=\"color: green;\"></span>1. Feature Exploration -> 2. Feature Engineering -> 3. Data Preparation -> 4. Model Training & Evaluation<center></h3></center></div>"
      ],
      "text/plain": [
       "<IPython.core.display.HTML object>"
      ]
     },
     "metadata": {},
     "output_type": "display_data"
    },
    {
     "name": "stdout",
     "output_type": "stream",
     "text": [
      "Feature Exploration started ...\n",
      "\n",
      "Data Overview:\n",
      "Total Rows in the data: 171\n",
      "Total Columns in the data: 10\n",
      "\n",
      "Column Summary:\n"
     ]
    },
    {
     "data": {
      "text/html": [
       "<style type=\"text/css\">\n",
       "\ttable {border:ridge 5px;}\n",
       "\ttable td {border:inset 1px;}\n",
       "\ttable tr#HeaderRow {background-color:grey; color:white;}</style>\n",
       "<html><table>\n",
       "\t<tr id=\"HeaderRow\">\n",
       "\t\t<th>ColumnName</th>\n",
       "\t\t<th>Datatype</th>\n",
       "\t\t<th>NonNullCount</th>\n",
       "\t\t<th>NullCount</th>\n",
       "\t\t<th>BlankCount</th>\n",
       "\t\t<th>ZeroCount</th>\n",
       "\t\t<th>PositiveCount</th>\n",
       "\t\t<th>NegativeCount</th>\n",
       "\t\t<th>NullPercentage</th>\n",
       "\t\t<th>NonNullPercentage</th>\n",
       "\t</tr>\n",
       "\t<tr>\n",
       "\t\t<td>mg</td>\n",
       "\t\t<td>FLOAT</td>\n",
       "\t\t<td>171</td>\n",
       "\t\t<td>0</td>\n",
       "\t\t<td>None</td>\n",
       "\t\t<td>35</td>\n",
       "\t\t<td>136</td>\n",
       "\t\t<td>0</td>\n",
       "\t\t<td>0.0</td>\n",
       "\t\t<td>100.0</td>\n",
       "\t</tr>\n",
       "\t<tr>\n",
       "\t\t<td>fe</td>\n",
       "\t\t<td>FLOAT</td>\n",
       "\t\t<td>171</td>\n",
       "\t\t<td>0</td>\n",
       "\t\t<td>None</td>\n",
       "\t\t<td>115</td>\n",
       "\t\t<td>56</td>\n",
       "\t\t<td>0</td>\n",
       "\t\t<td>0.0</td>\n",
       "\t\t<td>100.0</td>\n",
       "\t</tr>\n",
       "\t<tr>\n",
       "\t\t<td>ai</td>\n",
       "\t\t<td>FLOAT</td>\n",
       "\t\t<td>171</td>\n",
       "\t\t<td>0</td>\n",
       "\t\t<td>None</td>\n",
       "\t\t<td>0</td>\n",
       "\t\t<td>171</td>\n",
       "\t\t<td>0</td>\n",
       "\t\t<td>0.0</td>\n",
       "\t\t<td>100.0</td>\n",
       "\t</tr>\n",
       "\t<tr>\n",
       "\t\t<td>ri</td>\n",
       "\t\t<td>FLOAT</td>\n",
       "\t\t<td>171</td>\n",
       "\t\t<td>0</td>\n",
       "\t\t<td>None</td>\n",
       "\t\t<td>0</td>\n",
       "\t\t<td>171</td>\n",
       "\t\t<td>0</td>\n",
       "\t\t<td>0.0</td>\n",
       "\t\t<td>100.0</td>\n",
       "\t</tr>\n",
       "\t<tr>\n",
       "\t\t<td>si</td>\n",
       "\t\t<td>FLOAT</td>\n",
       "\t\t<td>171</td>\n",
       "\t\t<td>0</td>\n",
       "\t\t<td>None</td>\n",
       "\t\t<td>0</td>\n",
       "\t\t<td>171</td>\n",
       "\t\t<td>0</td>\n",
       "\t\t<td>0.0</td>\n",
       "\t\t<td>100.0</td>\n",
       "\t</tr>\n",
       "\t<tr>\n",
       "\t\t<td>ba</td>\n",
       "\t\t<td>FLOAT</td>\n",
       "\t\t<td>171</td>\n",
       "\t\t<td>0</td>\n",
       "\t\t<td>None</td>\n",
       "\t\t<td>143</td>\n",
       "\t\t<td>28</td>\n",
       "\t\t<td>0</td>\n",
       "\t\t<td>0.0</td>\n",
       "\t\t<td>100.0</td>\n",
       "\t</tr>\n",
       "\t<tr>\n",
       "\t\t<td>ca</td>\n",
       "\t\t<td>FLOAT</td>\n",
       "\t\t<td>171</td>\n",
       "\t\t<td>0</td>\n",
       "\t\t<td>None</td>\n",
       "\t\t<td>0</td>\n",
       "\t\t<td>171</td>\n",
       "\t\t<td>0</td>\n",
       "\t\t<td>0.0</td>\n",
       "\t\t<td>100.0</td>\n",
       "\t</tr>\n",
       "\t<tr>\n",
       "\t\t<td>k</td>\n",
       "\t\t<td>FLOAT</td>\n",
       "\t\t<td>171</td>\n",
       "\t\t<td>0</td>\n",
       "\t\t<td>None</td>\n",
       "\t\t<td>25</td>\n",
       "\t\t<td>146</td>\n",
       "\t\t<td>0</td>\n",
       "\t\t<td>0.0</td>\n",
       "\t\t<td>100.0</td>\n",
       "\t</tr>\n",
       "\t<tr>\n",
       "\t\t<td>na</td>\n",
       "\t\t<td>FLOAT</td>\n",
       "\t\t<td>171</td>\n",
       "\t\t<td>0</td>\n",
       "\t\t<td>None</td>\n",
       "\t\t<td>0</td>\n",
       "\t\t<td>171</td>\n",
       "\t\t<td>0</td>\n",
       "\t\t<td>0.0</td>\n",
       "\t\t<td>100.0</td>\n",
       "\t</tr>\n",
       "\t<tr>\n",
       "\t\t<td>gtype</td>\n",
       "\t\t<td>INTEGER</td>\n",
       "\t\t<td>171</td>\n",
       "\t\t<td>0</td>\n",
       "\t\t<td>None</td>\n",
       "\t\t<td>0</td>\n",
       "\t\t<td>171</td>\n",
       "\t\t<td>0</td>\n",
       "\t\t<td>0.0</td>\n",
       "\t\t<td>100.0</td>\n",
       "\t</tr>\n",
       "</table></html>"
      ],
      "text/plain": [
       "  ColumnName Datatype  NonNullCount  NullCount BlankCount  ZeroCount  PositiveCount  NegativeCount  NullPercentage  NonNullPercentage\n",
       "0         mg    FLOAT           171          0       None         35            136              0             0.0              100.0\n",
       "1         fe    FLOAT           171          0       None        115             56              0             0.0              100.0\n",
       "2         ai    FLOAT           171          0       None          0            171              0             0.0              100.0\n",
       "3         ri    FLOAT           171          0       None          0            171              0             0.0              100.0\n",
       "4         si    FLOAT           171          0       None          0            171              0             0.0              100.0\n",
       "5         ba    FLOAT           171          0       None        143             28              0             0.0              100.0\n",
       "6         ca    FLOAT           171          0       None          0            171              0             0.0              100.0\n",
       "7          k    FLOAT           171          0       None         25            146              0             0.0              100.0\n",
       "8         na    FLOAT           171          0       None          0            171              0             0.0              100.0\n",
       "9      gtype  INTEGER           171          0       None          0            171              0             0.0              100.0"
      ]
     },
     "metadata": {},
     "output_type": "display_data"
    },
    {
     "name": "stdout",
     "output_type": "stream",
     "text": [
      "            ri       na       mg       ai       si        k       ca       ba       fe    gtype\n",
      "func                                                                                           \n",
      "min      1.511   10.730    0.000    0.340   69.810    0.000    5.430    0.000    0.000    1.000\n",
      "std      0.003    0.824    1.455    0.504    0.784    0.711    1.472    0.467    0.099    2.062\n",
      "25%      1.516   12.915    2.140    1.185   72.270    0.125    8.270    0.000    0.000    1.000\n",
      "50%      1.518   13.240    3.480    1.400   72.810    0.550    8.600    0.000    0.000    2.000\n",
      "75%      1.519   13.785    3.605    1.630   73.075    0.610    9.405    0.000    0.100    3.000\n",
      "max      1.534   17.380    4.490    3.500   75.410    6.210   16.190    3.150    0.510    7.000\n",
      "mean     1.518   13.362    2.667    1.449   72.642    0.510    9.023    0.157    0.057    2.784\n",
      "count  171.000  171.000  171.000  171.000  171.000  171.000  171.000  171.000  171.000  171.000\n",
      "\n",
      "Statistics of Data:\n"
     ]
    },
    {
     "data": {
      "text/html": [
       "<style type=\"text/css\">\n",
       "\ttable {border:ridge 5px;}\n",
       "\ttable td {border:inset 1px;}\n",
       "\ttable tr#HeaderRow {background-color:grey; color:white;}</style>\n",
       "<html><table>\n",
       "\t<tr id=\"HeaderRow\">\n",
       "\t\t<th>func</th>\n",
       "\t\t<th>ri</th>\n",
       "\t\t<th>na</th>\n",
       "\t\t<th>mg</th>\n",
       "\t\t<th>ai</th>\n",
       "\t\t<th>si</th>\n",
       "\t\t<th>k</th>\n",
       "\t\t<th>ca</th>\n",
       "\t\t<th>ba</th>\n",
       "\t\t<th>fe</th>\n",
       "\t\t<th>gtype</th>\n",
       "\t</tr>\n",
       "\t<tr>\n",
       "\t\t<td>min</td>\n",
       "\t\t<td>1.511</td>\n",
       "\t\t<td>10.73</td>\n",
       "\t\t<td>0</td>\n",
       "\t\t<td>0.34</td>\n",
       "\t\t<td>69.81</td>\n",
       "\t\t<td>0</td>\n",
       "\t\t<td>5.43</td>\n",
       "\t\t<td>0</td>\n",
       "\t\t<td>0</td>\n",
       "\t\t<td>1</td>\n",
       "\t</tr>\n",
       "\t<tr>\n",
       "\t\t<td>std</td>\n",
       "\t\t<td>0.003</td>\n",
       "\t\t<td>0.824</td>\n",
       "\t\t<td>1.455</td>\n",
       "\t\t<td>0.504</td>\n",
       "\t\t<td>0.784</td>\n",
       "\t\t<td>0.711</td>\n",
       "\t\t<td>1.472</td>\n",
       "\t\t<td>0.467</td>\n",
       "\t\t<td>0.099</td>\n",
       "\t\t<td>2.062</td>\n",
       "\t</tr>\n",
       "\t<tr>\n",
       "\t\t<td>25%</td>\n",
       "\t\t<td>1.516</td>\n",
       "\t\t<td>12.915</td>\n",
       "\t\t<td>2.14</td>\n",
       "\t\t<td>1.185</td>\n",
       "\t\t<td>72.27</td>\n",
       "\t\t<td>0.125</td>\n",
       "\t\t<td>8.27</td>\n",
       "\t\t<td>0</td>\n",
       "\t\t<td>0</td>\n",
       "\t\t<td>1</td>\n",
       "\t</tr>\n",
       "\t<tr>\n",
       "\t\t<td>50%</td>\n",
       "\t\t<td>1.518</td>\n",
       "\t\t<td>13.24</td>\n",
       "\t\t<td>3.48</td>\n",
       "\t\t<td>1.4</td>\n",
       "\t\t<td>72.81</td>\n",
       "\t\t<td>0.55</td>\n",
       "\t\t<td>8.6</td>\n",
       "\t\t<td>0</td>\n",
       "\t\t<td>0</td>\n",
       "\t\t<td>2</td>\n",
       "\t</tr>\n",
       "\t<tr>\n",
       "\t\t<td>75%</td>\n",
       "\t\t<td>1.519</td>\n",
       "\t\t<td>13.785</td>\n",
       "\t\t<td>3.605</td>\n",
       "\t\t<td>1.63</td>\n",
       "\t\t<td>73.075</td>\n",
       "\t\t<td>0.61</td>\n",
       "\t\t<td>9.405</td>\n",
       "\t\t<td>0</td>\n",
       "\t\t<td>0.1</td>\n",
       "\t\t<td>3</td>\n",
       "\t</tr>\n",
       "\t<tr>\n",
       "\t\t<td>max</td>\n",
       "\t\t<td>1.534</td>\n",
       "\t\t<td>17.38</td>\n",
       "\t\t<td>4.49</td>\n",
       "\t\t<td>3.5</td>\n",
       "\t\t<td>75.41</td>\n",
       "\t\t<td>6.21</td>\n",
       "\t\t<td>16.19</td>\n",
       "\t\t<td>3.15</td>\n",
       "\t\t<td>0.51</td>\n",
       "\t\t<td>7</td>\n",
       "\t</tr>\n",
       "\t<tr>\n",
       "\t\t<td>mean</td>\n",
       "\t\t<td>1.518</td>\n",
       "\t\t<td>13.362</td>\n",
       "\t\t<td>2.667</td>\n",
       "\t\t<td>1.449</td>\n",
       "\t\t<td>72.642</td>\n",
       "\t\t<td>0.51</td>\n",
       "\t\t<td>9.023</td>\n",
       "\t\t<td>0.157</td>\n",
       "\t\t<td>0.057</td>\n",
       "\t\t<td>2.784</td>\n",
       "\t</tr>\n",
       "\t<tr>\n",
       "\t\t<td>count</td>\n",
       "\t\t<td>171</td>\n",
       "\t\t<td>171</td>\n",
       "\t\t<td>171</td>\n",
       "\t\t<td>171</td>\n",
       "\t\t<td>171</td>\n",
       "\t\t<td>171</td>\n",
       "\t\t<td>171</td>\n",
       "\t\t<td>171</td>\n",
       "\t\t<td>171</td>\n",
       "\t\t<td>171</td>\n",
       "\t</tr>\n",
       "</table></html>"
      ],
      "text/plain": [
       "            ri       na       mg       ai       si        k       ca       ba       fe    gtype\n",
       "func                                                                                           \n",
       "min      1.511   10.730    0.000    0.340   69.810    0.000    5.430    0.000    0.000    1.000\n",
       "std      0.003    0.824    1.455    0.504    0.784    0.711    1.472    0.467    0.099    2.062\n",
       "25%      1.516   12.915    2.140    1.185   72.270    0.125    8.270    0.000    0.000    1.000\n",
       "50%      1.518   13.240    3.480    1.400   72.810    0.550    8.600    0.000    0.000    2.000\n",
       "75%      1.519   13.785    3.605    1.630   73.075    0.610    9.405    0.000    0.100    3.000\n",
       "max      1.534   17.380    4.490    3.500   75.410    6.210   16.190    3.150    0.510    7.000\n",
       "mean     1.518   13.362    2.667    1.449   72.642    0.510    9.023    0.157    0.057    2.784\n",
       "count  171.000  171.000  171.000  171.000  171.000  171.000  171.000  171.000  171.000  171.000"
      ]
     },
     "metadata": {},
     "output_type": "display_data"
    },
    {
     "name": "stdout",
     "output_type": "stream",
     "text": [
      "\n",
      "Target Column Distribution:\n"
     ]
    },
    {
     "data": {
      "image/png": "[encoded data removed]",
      "text/plain": [
       "<Figure size 600x600 with 1 Axes>"
      ]
     },
     "metadata": {},
     "output_type": "display_data"
    },
    {
     "name": "stdout",
     "output_type": "stream",
     "text": [
      "Columns with outlier percentage :-                                                                                                                                                                                                                                                                                                                                                                                                                                                                                  \n",
      "  ColumnName  OutlierPercentage\n",
      "0         ba          16.374269\n",
      "1         na           4.678363\n",
      "2          k           2.923977\n",
      "3         fe           5.847953\n",
      "4         ri           7.602339\n",
      "5         ai           7.017544\n",
      "6         ca           9.941520\n",
      "7         si           5.847953\n",
      "8      gtype          12.865497\n",
      "                                                                                        \r"
     ]
    },
    {
     "data": {
      "text/html": [
       "\n",
       "            <style>\n",
       "                .custom-div {\n",
       "                    background-color: lightgray;\n",
       "                    color: #000000;\n",
       "                    padding: 10px;\n",
       "                    border-radius: 8px;\n",
       "                    box-shadow: 0 3px 4px rgba(0 -  0 -  0 -  0.2);\n",
       "                    margin-bottom: 10px;\n",
       "                    text-align: center;\n",
       "                }\n",
       "            </style>\n",
       "        <br><div class=\"custom-div\"><h3><span style=\"color: green;\">1. Feature Exploration -></span> 2. Feature Engineering -> 3. Data Preparation -> 4. Model Training & Evaluation<center></h3></center></div>"
      ],
      "text/plain": [
       "<IPython.core.display.HTML object>"
      ]
     },
     "metadata": {},
     "output_type": "display_data"
    },
    {
     "name": "stdout",
     "output_type": "stream",
     "text": [
      "                                                                                        \r"
     ]
    },
    {
     "data": {
      "text/html": [
       "Feature Engineering started ..."
      ],
      "text/plain": [
       "<IPython.core.display.HTML object>"
      ]
     },
     "metadata": {},
     "output_type": "display_data"
    },
    {
     "name": "stdout",
     "output_type": "stream",
     "text": [
      "                                                                                        \r"
     ]
    },
    {
     "data": {
      "text/html": [
       "\n",
       "Handling duplicate records present in dataset ..."
      ],
      "text/plain": [
       "<IPython.core.display.HTML object>"
      ]
     },
     "metadata": {},
     "output_type": "display_data"
    },
    {
     "name": "stdout",
     "output_type": "stream",
     "text": [
      "Analysis completed. No action taken.                                                    \n",
      "                                                                                        \r"
     ]
    },
    {
     "data": {
      "text/html": [
       "Total time to handle duplicate records: 1.76 sec  "
      ],
      "text/plain": [
       "<IPython.core.display.HTML object>"
      ]
     },
     "metadata": {},
     "output_type": "display_data"
    },
    {
     "name": "stdout",
     "output_type": "stream",
     "text": [
      "                                                                                        \r"
     ]
    },
    {
     "data": {
      "text/html": [
       "\n",
       "Handling less significant features from data ..."
      ],
      "text/plain": [
       "<IPython.core.display.HTML object>"
      ]
     },
     "metadata": {},
     "output_type": "display_data"
    },
    {
     "name": "stdout",
     "output_type": "stream",
     "text": [
      "                                                                                        \r"
     ]
    },
    {
     "data": {
      "text/html": [
       "Total time to handle less significant features: 6.42 sec  "
      ],
      "text/plain": [
       "<IPython.core.display.HTML object>"
      ]
     },
     "metadata": {},
     "output_type": "display_data"
    },
    {
     "name": "stdout",
     "output_type": "stream",
     "text": [
      "                                                                                         \r"
     ]
    },
    {
     "data": {
      "text/html": [
       "\n",
       "Handling Date Features ..."
      ],
      "text/plain": [
       "<IPython.core.display.HTML object>"
      ]
     },
     "metadata": {},
     "output_type": "display_data"
    },
    {
     "name": "stdout",
     "output_type": "stream",
     "text": [
      "Analysis Completed. Dataset does not contain any feature related to dates. No action needed.\n",
      "                                                                                         \r"
     ]
    },
    {
     "data": {
      "text/html": [
       "Total time to handle date features: 0.00 sec\n"
      ],
      "text/plain": [
       "<IPython.core.display.HTML object>"
      ]
     },
     "metadata": {},
     "output_type": "display_data"
    },
    {
     "name": "stdout",
     "output_type": "stream",
     "text": [
      "                                                                                         \r"
     ]
    },
    {
     "data": {
      "text/html": [
       "\n",
       "Checking Missing values in dataset ..."
      ],
      "text/plain": [
       "<IPython.core.display.HTML object>"
      ]
     },
     "metadata": {},
     "output_type": "display_data"
    },
    {
     "name": "stdout",
     "output_type": "stream",
     "text": [
      "Analysis Completed. No Missing Values Detected.                                          \n",
      "                                                                                         \r"
     ]
    },
    {
     "data": {
      "text/html": [
       "Total time to find missing values in data: 8.84 sec  "
      ],
      "text/plain": [
       "<IPython.core.display.HTML object>"
      ]
     },
     "metadata": {},
     "output_type": "display_data"
    },
    {
     "name": "stdout",
     "output_type": "stream",
     "text": [
      "                                                                                         \r"
     ]
    },
    {
     "data": {
      "text/html": [
       "\n",
       "Imputing Missing Values ..."
      ],
      "text/plain": [
       "<IPython.core.display.HTML object>"
      ]
     },
     "metadata": {},
     "output_type": "display_data"
    },
    {
     "name": "stdout",
     "output_type": "stream",
     "text": [
      "Analysis completed. No imputation required.                                              \n",
      "                                                                                         \r"
     ]
    },
    {
     "data": {
      "text/html": [
       "Time taken to perform imputation: 0.01 sec  "
      ],
      "text/plain": [
       "<IPython.core.display.HTML object>"
      ]
     },
     "metadata": {},
     "output_type": "display_data"
    },
    {
     "name": "stdout",
     "output_type": "stream",
     "text": [
      "                                                                                         \r"
     ]
    },
    {
     "data": {
      "text/html": [
       "\n",
       "Performing encoding for categorical columns ..."
      ],
      "text/plain": [
       "<IPython.core.display.HTML object>"
      ]
     },
     "metadata": {},
     "output_type": "display_data"
    },
    {
     "name": "stdout",
     "output_type": "stream",
     "text": [
      "Analysis completed. No categorical columns were found.                                   \n",
      "                                                                                         \r"
     ]
    },
    {
     "data": {
      "text/html": [
       "Time taken to encode the columns: 1.77 sec"
      ],
      "text/plain": [
       "<IPython.core.display.HTML object>"
      ]
     },
     "metadata": {},
     "output_type": "display_data"
    },
    {
     "name": "stdout",
     "output_type": "stream",
     "text": [
      "                                                                                         \r"
     ]
    },
    {
     "data": {
      "text/html": [
       "\n",
       "            <style>\n",
       "                .custom-div {\n",
       "                    background-color: lightgray;\n",
       "                    color: #000000;\n",
       "                    padding: 10px;\n",
       "                    border-radius: 8px;\n",
       "                    box-shadow: 0 3px 4px rgba(0 -  0 -  0 -  0.2);\n",
       "                    margin-bottom: 10px;\n",
       "                    text-align: center;\n",
       "                }\n",
       "            </style>\n",
       "        <br><div class=\"custom-div\"><h3><span style=\"color: green;\">1. Feature Exploration -> 2. Feature Engineering -></span> 3. Data Preparation -> 4. Model Training & Evaluation<center></h3></center></div>"
      ],
      "text/plain": [
       "<IPython.core.display.HTML object>"
      ]
     },
     "metadata": {},
     "output_type": "display_data"
    },
    {
     "name": "stdout",
     "output_type": "stream",
     "text": [
      "                                                                                         \r"
     ]
    },
    {
     "data": {
      "text/html": [
       "Data preparation started ..."
      ],
      "text/plain": [
       "<IPython.core.display.HTML object>"
      ]
     },
     "metadata": {},
     "output_type": "display_data"
    },
    {
     "name": "stdout",
     "output_type": "stream",
     "text": [
      "                                                                                         \r"
     ]
    },
    {
     "data": {
      "text/html": [
       "\n",
       "Outlier preprocessing ..."
      ],
      "text/plain": [
       "<IPython.core.display.HTML object>"
      ]
     },
     "metadata": {},
     "output_type": "display_data"
    },
    {
     "name": "stdout",
     "output_type": "stream",
     "text": [
      "Columns with outlier percentage :-                                                                                                                                                                                                                                                                                                                                                                                                                                                                                  \n",
      "  ColumnName  OutlierPercentage\n",
      "0          k           2.923977\n",
      "1         ri           7.602339\n",
      "2         ai           7.017544\n",
      "3         ca           9.941520\n",
      "4         ba          16.374269\n",
      "5         si           5.847953\n",
      "6         fe           5.847953\n",
      "7         na           4.678363\n",
      "8      gtype          12.865497\n",
      "                                                                                         \r"
     ]
    },
    {
     "data": {
      "text/html": [
       "Deleting rows of these columns:"
      ],
      "text/plain": [
       "<IPython.core.display.HTML object>"
      ]
     },
     "metadata": {},
     "output_type": "display_data"
    },
    {
     "name": "stdout",
     "output_type": "stream",
     "text": [
      "['na', 'si', 'ai', 'ri', 'k', 'fe']\n",
      "                                                                                         \r"
     ]
    },
    {
     "data": {
      "text/html": [
       "Sample of dataset after removing outlier rows:"
      ],
      "text/plain": [
       "<IPython.core.display.HTML object>"
      ]
     },
     "metadata": {},
     "output_type": "display_data"
    },
    {
     "data": {
      "text/html": [
       "<style type=\"text/css\">\n",
       "\ttable {border:ridge 5px;}\n",
       "\ttable td {border:inset 1px;}\n",
       "\ttable tr#HeaderRow {background-color:grey; color:white;}</style>\n",
       "<html><table>\n",
       "\t<tr id=\"HeaderRow\">\n",
       "\t\t<th>ri</th>\n",
       "\t\t<th>na</th>\n",
       "\t\t<th>mg</th>\n",
       "\t\t<th>ai</th>\n",
       "\t\t<th>si</th>\n",
       "\t\t<th>k</th>\n",
       "\t\t<th>ca</th>\n",
       "\t\t<th>ba</th>\n",
       "\t\t<th>fe</th>\n",
       "\t\t<th>gtype</th>\n",
       "\t\t<th>id</th>\n",
       "\t</tr>\n",
       "\t<tr>\n",
       "\t\t<td>1.5169</td>\n",
       "\t\t<td>13.33</td>\n",
       "\t\t<td>3.54</td>\n",
       "\t\t<td>1.61</td>\n",
       "\t\t<td>72.54</td>\n",
       "\t\t<td>0.68</td>\n",
       "\t\t<td>8.11</td>\n",
       "\t\t<td>0.0</td>\n",
       "\t\t<td>0.0</td>\n",
       "\t\t<td>2</td>\n",
       "\t\t<td>13</td>\n",
       "\t</tr>\n",
       "\t<tr>\n",
       "\t\t<td>1.51784</td>\n",
       "\t\t<td>13.08</td>\n",
       "\t\t<td>3.49</td>\n",
       "\t\t<td>1.28</td>\n",
       "\t\t<td>72.86</td>\n",
       "\t\t<td>0.6</td>\n",
       "\t\t<td>8.49</td>\n",
       "\t\t<td>0.0</td>\n",
       "\t\t<td>0.0</td>\n",
       "\t\t<td>1</td>\n",
       "\t\t<td>20</td>\n",
       "\t</tr>\n",
       "\t<tr>\n",
       "\t\t<td>1.51784</td>\n",
       "\t\t<td>12.68</td>\n",
       "\t\t<td>3.67</td>\n",
       "\t\t<td>1.16</td>\n",
       "\t\t<td>73.11</td>\n",
       "\t\t<td>0.61</td>\n",
       "\t\t<td>8.7</td>\n",
       "\t\t<td>0.0</td>\n",
       "\t\t<td>0.0</td>\n",
       "\t\t<td>1</td>\n",
       "\t\t<td>12</td>\n",
       "\t</tr>\n",
       "\t<tr>\n",
       "\t\t<td>1.52177</td>\n",
       "\t\t<td>13.2</td>\n",
       "\t\t<td>3.68</td>\n",
       "\t\t<td>1.15</td>\n",
       "\t\t<td>72.75</td>\n",
       "\t\t<td>0.54</td>\n",
       "\t\t<td>8.52</td>\n",
       "\t\t<td>0.0</td>\n",
       "\t\t<td>0.0</td>\n",
       "\t\t<td>2</td>\n",
       "\t\t<td>10</td>\n",
       "\t</tr>\n",
       "\t<tr>\n",
       "\t\t<td>1.51709</td>\n",
       "\t\t<td>13.0</td>\n",
       "\t\t<td>3.47</td>\n",
       "\t\t<td>1.79</td>\n",
       "\t\t<td>72.72</td>\n",
       "\t\t<td>0.66</td>\n",
       "\t\t<td>8.18</td>\n",
       "\t\t<td>0.0</td>\n",
       "\t\t<td>0.0</td>\n",
       "\t\t<td>2</td>\n",
       "\t\t<td>11</td>\n",
       "\t</tr>\n",
       "\t<tr>\n",
       "\t\t<td>1.52227</td>\n",
       "\t\t<td>14.17</td>\n",
       "\t\t<td>3.81</td>\n",
       "\t\t<td>0.78</td>\n",
       "\t\t<td>71.35</td>\n",
       "\t\t<td>0.0</td>\n",
       "\t\t<td>9.69</td>\n",
       "\t\t<td>0.0</td>\n",
       "\t\t<td>0.0</td>\n",
       "\t\t<td>1</td>\n",
       "\t\t<td>27</td>\n",
       "\t</tr>\n",
       "\t<tr>\n",
       "\t\t<td>1.51841</td>\n",
       "\t\t<td>13.02</td>\n",
       "\t\t<td>3.62</td>\n",
       "\t\t<td>1.06</td>\n",
       "\t\t<td>72.34</td>\n",
       "\t\t<td>0.64</td>\n",
       "\t\t<td>9.13</td>\n",
       "\t\t<td>0.0</td>\n",
       "\t\t<td>0.15</td>\n",
       "\t\t<td>2</td>\n",
       "\t\t<td>9</td>\n",
       "\t</tr>\n",
       "\t<tr>\n",
       "\t\t<td>1.51841</td>\n",
       "\t\t<td>12.93</td>\n",
       "\t\t<td>3.74</td>\n",
       "\t\t<td>1.11</td>\n",
       "\t\t<td>72.28</td>\n",
       "\t\t<td>0.64</td>\n",
       "\t\t<td>8.96</td>\n",
       "\t\t<td>0.0</td>\n",
       "\t\t<td>0.22</td>\n",
       "\t\t<td>2</td>\n",
       "\t\t<td>17</td>\n",
       "\t</tr>\n",
       "\t<tr>\n",
       "\t\t<td>1.51674</td>\n",
       "\t\t<td>12.79</td>\n",
       "\t\t<td>3.52</td>\n",
       "\t\t<td>1.54</td>\n",
       "\t\t<td>73.36</td>\n",
       "\t\t<td>0.66</td>\n",
       "\t\t<td>7.9</td>\n",
       "\t\t<td>0.0</td>\n",
       "\t\t<td>0.0</td>\n",
       "\t\t<td>2</td>\n",
       "\t\t<td>23</td>\n",
       "\t</tr>\n",
       "\t<tr>\n",
       "\t\t<td>1.51674</td>\n",
       "\t\t<td>12.87</td>\n",
       "\t\t<td>3.56</td>\n",
       "\t\t<td>1.64</td>\n",
       "\t\t<td>73.14</td>\n",
       "\t\t<td>0.65</td>\n",
       "\t\t<td>7.99</td>\n",
       "\t\t<td>0.0</td>\n",
       "\t\t<td>0.0</td>\n",
       "\t\t<td>2</td>\n",
       "\t\t<td>15</td>\n",
       "\t</tr>\n",
       "</table></html>"
      ],
      "text/plain": [
       "            na    mg    ai     si     k    ca   ba    fe  gtype  id\n",
       "ri                                                                 \n",
       "1.51690  13.33  3.54  1.61  72.54  0.68  8.11  0.0  0.00      2  13\n",
       "1.51784  13.08  3.49  1.28  72.86  0.60  8.49  0.0  0.00      1  20\n",
       "1.51784  12.68  3.67  1.16  73.11  0.61  8.70  0.0  0.00      1  12\n",
       "1.52177  13.20  3.68  1.15  72.75  0.54  8.52  0.0  0.00      2  10\n",
       "1.51709  13.00  3.47  1.79  72.72  0.66  8.18  0.0  0.00      2  11\n",
       "1.52227  14.17  3.81  0.78  71.35  0.00  9.69  0.0  0.00      1  27\n",
       "1.51841  13.02  3.62  1.06  72.34  0.64  9.13  0.0  0.15      2   9\n",
       "1.51841  12.93  3.74  1.11  72.28  0.64  8.96  0.0  0.22      2  17\n",
       "1.51674  12.79  3.52  1.54  73.36  0.66  7.90  0.0  0.00      2  23\n",
       "1.51674  12.87  3.56  1.64  73.14  0.65  7.99  0.0  0.00      2  15"
      ]
     },
     "metadata": {},
     "output_type": "display_data"
    },
    {
     "name": "stdout",
     "output_type": "stream",
     "text": [
      "                                                                                         \r"
     ]
    },
    {
     "data": {
      "text/html": [
       "134 rows X 11 columns"
      ],
      "text/plain": [
       "<IPython.core.display.HTML object>"
      ]
     },
     "metadata": {},
     "output_type": "display_data"
    },
    {
     "name": "stdout",
     "output_type": "stream",
     "text": [
      "                                                                                         \r"
     ]
    },
    {
     "data": {
      "text/html": [
       "median inplace of outliers:"
      ],
      "text/plain": [
       "<IPython.core.display.HTML object>"
      ]
     },
     "metadata": {},
     "output_type": "display_data"
    },
    {
     "name": "stdout",
     "output_type": "stream",
     "text": [
      "['ca', 'ba']\n",
      "                                                                                         \r"
     ]
    },
    {
     "data": {
      "text/html": [
       "Sample of dataset after performing MEDIAN inplace:"
      ],
      "text/plain": [
       "<IPython.core.display.HTML object>"
      ]
     },
     "metadata": {},
     "output_type": "display_data"
    },
    {
     "data": {
      "text/html": [
       "<style type=\"text/css\">\n",
       "\ttable {border:ridge 5px;}\n",
       "\ttable td {border:inset 1px;}\n",
       "\ttable tr#HeaderRow {background-color:grey; color:white;}</style>\n",
       "<html><table>\n",
       "\t<tr id=\"HeaderRow\">\n",
       "\t\t<th>ri</th>\n",
       "\t\t<th>na</th>\n",
       "\t\t<th>mg</th>\n",
       "\t\t<th>ai</th>\n",
       "\t\t<th>si</th>\n",
       "\t\t<th>k</th>\n",
       "\t\t<th>ca</th>\n",
       "\t\t<th>ba</th>\n",
       "\t\t<th>fe</th>\n",
       "\t\t<th>gtype</th>\n",
       "\t\t<th>id</th>\n",
       "\t</tr>\n",
       "\t<tr>\n",
       "\t\t<td>1.51709</td>\n",
       "\t\t<td>13.0</td>\n",
       "\t\t<td>3.47</td>\n",
       "\t\t<td>1.79</td>\n",
       "\t\t<td>72.72</td>\n",
       "\t\t<td>0.66</td>\n",
       "\t\t<td>8.18</td>\n",
       "\t\t<td>0.0</td>\n",
       "\t\t<td>0.0</td>\n",
       "\t\t<td>2</td>\n",
       "\t\t<td>11</td>\n",
       "\t</tr>\n",
       "\t<tr>\n",
       "\t\t<td>1.51694</td>\n",
       "\t\t<td>12.86</td>\n",
       "\t\t<td>3.58</td>\n",
       "\t\t<td>1.31</td>\n",
       "\t\t<td>72.61</td>\n",
       "\t\t<td>0.61</td>\n",
       "\t\t<td>8.79</td>\n",
       "\t\t<td>0.0</td>\n",
       "\t\t<td>0.0</td>\n",
       "\t\t<td>3</td>\n",
       "\t\t<td>8</td>\n",
       "\t</tr>\n",
       "\t<tr>\n",
       "\t\t<td>1.51905</td>\n",
       "\t\t<td>13.6</td>\n",
       "\t\t<td>3.62</td>\n",
       "\t\t<td>1.11</td>\n",
       "\t\t<td>72.64</td>\n",
       "\t\t<td>0.14</td>\n",
       "\t\t<td>8.76</td>\n",
       "\t\t<td>0.0</td>\n",
       "\t\t<td>0.0</td>\n",
       "\t\t<td>1</td>\n",
       "\t\t<td>16</td>\n",
       "\t</tr>\n",
       "\t<tr>\n",
       "\t\t<td>1.51784</td>\n",
       "\t\t<td>12.68</td>\n",
       "\t\t<td>3.67</td>\n",
       "\t\t<td>1.16</td>\n",
       "\t\t<td>73.11</td>\n",
       "\t\t<td>0.61</td>\n",
       "\t\t<td>8.7</td>\n",
       "\t\t<td>0.0</td>\n",
       "\t\t<td>0.0</td>\n",
       "\t\t<td>1</td>\n",
       "\t\t<td>12</td>\n",
       "\t</tr>\n",
       "\t<tr>\n",
       "\t\t<td>1.51674</td>\n",
       "\t\t<td>12.87</td>\n",
       "\t\t<td>3.56</td>\n",
       "\t\t<td>1.64</td>\n",
       "\t\t<td>73.14</td>\n",
       "\t\t<td>0.65</td>\n",
       "\t\t<td>7.99</td>\n",
       "\t\t<td>0.0</td>\n",
       "\t\t<td>0.0</td>\n",
       "\t\t<td>2</td>\n",
       "\t\t<td>15</td>\n",
       "\t</tr>\n",
       "\t<tr>\n",
       "\t\t<td>1.51674</td>\n",
       "\t\t<td>12.79</td>\n",
       "\t\t<td>3.52</td>\n",
       "\t\t<td>1.54</td>\n",
       "\t\t<td>73.36</td>\n",
       "\t\t<td>0.66</td>\n",
       "\t\t<td>7.9</td>\n",
       "\t\t<td>0.0</td>\n",
       "\t\t<td>0.0</td>\n",
       "\t\t<td>2</td>\n",
       "\t\t<td>23</td>\n",
       "\t</tr>\n",
       "\t<tr>\n",
       "\t\t<td>1.5169</td>\n",
       "\t\t<td>13.33</td>\n",
       "\t\t<td>3.54</td>\n",
       "\t\t<td>1.61</td>\n",
       "\t\t<td>72.54</td>\n",
       "\t\t<td>0.68</td>\n",
       "\t\t<td>8.11</td>\n",
       "\t\t<td>0.0</td>\n",
       "\t\t<td>0.0</td>\n",
       "\t\t<td>2</td>\n",
       "\t\t<td>13</td>\n",
       "\t</tr>\n",
       "\t<tr>\n",
       "\t\t<td>1.51743</td>\n",
       "\t\t<td>12.2</td>\n",
       "\t\t<td>3.25</td>\n",
       "\t\t<td>1.16</td>\n",
       "\t\t<td>73.55</td>\n",
       "\t\t<td>0.62</td>\n",
       "\t\t<td>8.9</td>\n",
       "\t\t<td>0.0</td>\n",
       "\t\t<td>0.24</td>\n",
       "\t\t<td>2</td>\n",
       "\t\t<td>21</td>\n",
       "\t</tr>\n",
       "\t<tr>\n",
       "\t\t<td>1.51841</td>\n",
       "\t\t<td>13.02</td>\n",
       "\t\t<td>3.62</td>\n",
       "\t\t<td>1.06</td>\n",
       "\t\t<td>72.34</td>\n",
       "\t\t<td>0.64</td>\n",
       "\t\t<td>9.13</td>\n",
       "\t\t<td>0.0</td>\n",
       "\t\t<td>0.15</td>\n",
       "\t\t<td>2</td>\n",
       "\t\t<td>9</td>\n",
       "\t</tr>\n",
       "\t<tr>\n",
       "\t\t<td>1.51841</td>\n",
       "\t\t<td>12.93</td>\n",
       "\t\t<td>3.74</td>\n",
       "\t\t<td>1.11</td>\n",
       "\t\t<td>72.28</td>\n",
       "\t\t<td>0.64</td>\n",
       "\t\t<td>8.96</td>\n",
       "\t\t<td>0.0</td>\n",
       "\t\t<td>0.22</td>\n",
       "\t\t<td>2</td>\n",
       "\t\t<td>17</td>\n",
       "\t</tr>\n",
       "</table></html>"
      ],
      "text/plain": [
       "            na    mg    ai     si     k    ca   ba    fe  gtype  id\n",
       "ri                                                                 \n",
       "1.51709  13.00  3.47  1.79  72.72  0.66  8.18  0.0  0.00      2  11\n",
       "1.51694  12.86  3.58  1.31  72.61  0.61  8.79  0.0  0.00      3   8\n",
       "1.51905  13.60  3.62  1.11  72.64  0.14  8.76  0.0  0.00      1  16\n",
       "1.51784  12.68  3.67  1.16  73.11  0.61  8.70  0.0  0.00      1  12\n",
       "1.51674  12.87  3.56  1.64  73.14  0.65  7.99  0.0  0.00      2  15\n",
       "1.51674  12.79  3.52  1.54  73.36  0.66  7.90  0.0  0.00      2  23\n",
       "1.51690  13.33  3.54  1.61  72.54  0.68  8.11  0.0  0.00      2  13\n",
       "1.51743  12.20  3.25  1.16  73.55  0.62  8.90  0.0  0.24      2  21\n",
       "1.51841  13.02  3.62  1.06  72.34  0.64  9.13  0.0  0.15      2   9\n",
       "1.51841  12.93  3.74  1.11  72.28  0.64  8.96  0.0  0.22      2  17"
      ]
     },
     "metadata": {},
     "output_type": "display_data"
    },
    {
     "name": "stdout",
     "output_type": "stream",
     "text": [
      "                                                                                         \r"
     ]
    },
    {
     "data": {
      "text/html": [
       "134 rows X 11 columns"
      ],
      "text/plain": [
       "<IPython.core.display.HTML object>"
      ]
     },
     "metadata": {},
     "output_type": "display_data"
    },
    {
     "name": "stdout",
     "output_type": "stream",
     "text": [
      "                                                                                         \r"
     ]
    },
    {
     "data": {
      "text/html": [
       "Time Taken by Outlier processing: 54.09 sec "
      ],
      "text/plain": [
       "<IPython.core.display.HTML object>"
      ]
     },
     "metadata": {},
     "output_type": "display_data"
    },
    {
     "name": "stdout",
     "output_type": "stream",
     "text": [
      "                                                                                         \r"
     ]
    },
    {
     "data": {
      "text/html": [
       "\n",
       "Checking imbalance data ..."
      ],
      "text/plain": [
       "<IPython.core.display.HTML object>"
      ]
     },
     "metadata": {},
     "output_type": "display_data"
    },
    {
     "name": "stdout",
     "output_type": "stream",
     "text": [
      "                                                                                         \r"
     ]
    },
    {
     "data": {
      "text/html": [
       "Imbalance Found."
      ],
      "text/plain": [
       "<IPython.core.display.HTML object>"
      ]
     },
     "metadata": {},
     "output_type": "display_data"
    },
    {
     "name": "stdout",
     "output_type": "stream",
     "text": [
      "                                                                                         \r"
     ]
    },
    {
     "data": {
      "text/html": [
       "\n",
       "Starting data imbalance handling ..."
      ],
      "text/plain": [
       "<IPython.core.display.HTML object>"
      ]
     },
     "metadata": {},
     "output_type": "display_data"
    },
    {
     "name": "stdout",
     "output_type": "stream",
     "text": [
      "                                                                                         \r"
     ]
    },
    {
     "data": {
      "text/html": [
       "\n",
       "Balancing the data using SMOTE..."
      ],
      "text/plain": [
       "<IPython.core.display.HTML object>"
      ]
     },
     "metadata": {},
     "output_type": "display_data"
    },
    {
     "name": "stdout",
     "output_type": "stream",
     "text": [
      "                                                                                         \r"
     ]
    },
    {
     "data": {
      "text/html": [
       "Handled imbalanced dataset using SMOTE: 0.16 sec"
      ],
      "text/plain": [
       "<IPython.core.display.HTML object>"
      ]
     },
     "metadata": {},
     "output_type": "display_data"
    },
    {
     "name": "stdout",
     "output_type": "stream",
     "text": [
      "                                                                                         \r"
     ]
    },
    {
     "data": {
      "text/html": [
       "Completed data imbalance handling."
      ],
      "text/plain": [
       "<IPython.core.display.HTML object>"
      ]
     },
     "metadata": {},
     "output_type": "display_data"
    },
    {
     "name": "stdout",
     "output_type": "stream",
     "text": [
      "                                                                                         \r"
     ]
    },
    {
     "data": {
      "text/html": [
       "\n",
       "Feature selection using lasso ..."
      ],
      "text/plain": [
       "<IPython.core.display.HTML object>"
      ]
     },
     "metadata": {},
     "output_type": "display_data"
    },
    {
     "name": "stdout",
     "output_type": "stream",
     "text": [
      "                                                                                         \r"
     ]
    },
    {
     "data": {
      "text/html": [
       "feature selected by lasso:"
      ],
      "text/plain": [
       "<IPython.core.display.HTML object>"
      ]
     },
     "metadata": {},
     "output_type": "display_data"
    },
    {
     "name": "stdout",
     "output_type": "stream",
     "text": [
      "['si', 'mg', 'ri', 'k', 'fe', 'ca', 'na', 'ai']\n",
      "                                                                                         \r"
     ]
    },
    {
     "data": {
      "text/html": [
       "Total time taken by feature selection: 4.65 sec  "
      ],
      "text/plain": [
       "<IPython.core.display.HTML object>"
      ]
     },
     "metadata": {},
     "output_type": "display_data"
    },
    {
     "name": "stdout",
     "output_type": "stream",
     "text": [
      "                                                                                         \r"
     ]
    },
    {
     "data": {
      "text/html": [
       "\n",
       "scaling Features of lasso data ..."
      ],
      "text/plain": [
       "<IPython.core.display.HTML object>"
      ]
     },
     "metadata": {},
     "output_type": "display_data"
    },
    {
     "name": "stdout",
     "output_type": "stream",
     "text": [
      "                                                                                         \r"
     ]
    },
    {
     "data": {
      "text/html": [
       "columns that will be scaled: "
      ],
      "text/plain": [
       "<IPython.core.display.HTML object>"
      ]
     },
     "metadata": {},
     "output_type": "display_data"
    },
    {
     "name": "stdout",
     "output_type": "stream",
     "text": [
      "['si', 'mg', 'ri', 'k', 'fe', 'ca', 'na', 'ai']\n",
      "                                                                                         \r"
     ]
    },
    {
     "data": {
      "text/html": [
       "Dataset sample after scaling:"
      ],
      "text/plain": [
       "<IPython.core.display.HTML object>"
      ]
     },
     "metadata": {},
     "output_type": "display_data"
    },
    {
     "data": {
      "text/html": [
       "<style type=\"text/css\">\n",
       "\ttable {border:ridge 5px;}\n",
       "\ttable td {border:inset 1px;}\n",
       "\ttable tr#HeaderRow {background-color:grey; color:white;}</style>\n",
       "<html><table>\n",
       "\t<tr id=\"HeaderRow\">\n",
       "\t\t<th>id</th>\n",
       "\t\t<th>gtype</th>\n",
       "\t\t<th>si</th>\n",
       "\t\t<th>mg</th>\n",
       "\t\t<th>ri</th>\n",
       "\t\t<th>k</th>\n",
       "\t\t<th>fe</th>\n",
       "\t\t<th>ca</th>\n",
       "\t\t<th>na</th>\n",
       "\t\t<th>ai</th>\n",
       "\t</tr>\n",
       "\t<tr>\n",
       "\t\t<td>2</td>\n",
       "\t\t<td>2</td>\n",
       "\t\t<td>0.5533596837944684</td>\n",
       "\t\t<td>0.8040089086859687</td>\n",
       "\t\t<td>0.28571428571427526</td>\n",
       "\t\t<td>0.5090909090909091</td>\n",
       "\t\t<td>0.0</td>\n",
       "\t\t<td>0.4919093851132685</td>\n",
       "\t\t<td>0.27956989247311814</td>\n",
       "\t\t<td>0.42613636363636365</td>\n",
       "\t</tr>\n",
       "\t<tr>\n",
       "\t\t<td>4</td>\n",
       "\t\t<td>2</td>\n",
       "\t\t<td>0.6007905138339958</td>\n",
       "\t\t<td>0.7839643652561247</td>\n",
       "\t\t<td>0.19780219780219807</td>\n",
       "\t\t<td>0.6181818181818182</td>\n",
       "\t\t<td>0.36</td>\n",
       "\t\t<td>0.3139158576051782</td>\n",
       "\t\t<td>0.3333333333333333</td>\n",
       "\t\t<td>0.5909090909090909</td>\n",
       "\t</tr>\n",
       "\t<tr>\n",
       "\t\t<td>5</td>\n",
       "\t\t<td>1</td>\n",
       "\t\t<td>0.8063241106719389</td>\n",
       "\t\t<td>0.7728285077951003</td>\n",
       "\t\t<td>0.37362637362637685</td>\n",
       "\t\t<td>0.5454545454545454</td>\n",
       "\t\t<td>0.24</td>\n",
       "\t\t<td>0.47572815533980606</td>\n",
       "\t\t<td>0.14695340501792123</td>\n",
       "\t\t<td>0.49431818181818177</td>\n",
       "\t</tr>\n",
       "\t<tr>\n",
       "\t\t<td>6</td>\n",
       "\t\t<td>7</td>\n",
       "\t\t<td>0.8181818181818208</td>\n",
       "\t\t<td>0.0</td>\n",
       "\t\t<td>0.72527472527471</td>\n",
       "\t\t<td>0.0</td>\n",
       "\t\t<td>0.0</td>\n",
       "\t\t<td>0.4401294498381875</td>\n",
       "\t\t<td>0.7885304659498208</td>\n",
       "\t\t<td>0.8579545454545454</td>\n",
       "\t</tr>\n",
       "\t<tr>\n",
       "\t\t<td>8</td>\n",
       "\t\t<td>1</td>\n",
       "\t\t<td>0.25296442687747045</td>\n",
       "\t\t<td>0.8396436525612472</td>\n",
       "\t\t<td>0.8901098901098791</td>\n",
       "\t\t<td>0.11818181818181818</td>\n",
       "\t\t<td>0.0</td>\n",
       "\t\t<td>0.9514563106796116</td>\n",
       "\t\t<td>0.37634408602150576</td>\n",
       "\t\t<td>0.15909090909090912</td>\n",
       "\t</tr>\n",
       "\t<tr>\n",
       "\t\t<td>9</td>\n",
       "\t\t<td>2</td>\n",
       "\t\t<td>0.36758893280632665</td>\n",
       "\t\t<td>0.8329621380846325</td>\n",
       "\t\t<td>0.4725274725274637</td>\n",
       "\t\t<td>0.5818181818181818</td>\n",
       "\t\t<td>0.88</td>\n",
       "\t\t<td>0.608414239482201</td>\n",
       "\t\t<td>0.2759856630824372</td>\n",
       "\t\t<td>0.34090909090909094</td>\n",
       "\t</tr>\n",
       "\t<tr>\n",
       "\t\t<td>7</td>\n",
       "\t\t<td>1</td>\n",
       "\t\t<td>0.632411067193679</td>\n",
       "\t\t<td>0.7750556792873051</td>\n",
       "\t\t<td>0.4505494505494444</td>\n",
       "\t\t<td>0.5454545454545454</td>\n",
       "\t\t<td>0.0</td>\n",
       "\t\t<td>0.43689320388349506</td>\n",
       "\t\t<td>0.254480286738351</td>\n",
       "\t\t<td>0.4431818181818182</td>\n",
       "\t</tr>\n",
       "\t<tr>\n",
       "\t\t<td>3</td>\n",
       "\t\t<td>2</td>\n",
       "\t\t<td>0.6363636363636358</td>\n",
       "\t\t<td>0.7884187082405345</td>\n",
       "\t\t<td>0.2747252747252656</td>\n",
       "\t\t<td>0.5818181818181818</td>\n",
       "\t\t<td>0.84</td>\n",
       "\t\t<td>0.30744336569579267</td>\n",
       "\t\t<td>0.2759856630824372</td>\n",
       "\t\t<td>0.6306818181818182</td>\n",
       "\t</tr>\n",
       "\t<tr>\n",
       "\t\t<td>1</td>\n",
       "\t\t<td>1</td>\n",
       "\t\t<td>0.7628458498023739</td>\n",
       "\t\t<td>0.7639198218262806</td>\n",
       "\t\t<td>0.19780219780219807</td>\n",
       "\t\t<td>0.6272727272727272</td>\n",
       "\t\t<td>0.96</td>\n",
       "\t\t<td>0.3139158576051782</td>\n",
       "\t\t<td>0.2580645161290326</td>\n",
       "\t\t<td>0.5056818181818181</td>\n",
       "\t</tr>\n",
       "\t<tr>\n",
       "\t\t<td>0</td>\n",
       "\t\t<td>7</td>\n",
       "\t\t<td>0.4071146245059291</td>\n",
       "\t\t<td>0.7438752783964364</td>\n",
       "\t\t<td>1.0</td>\n",
       "\t\t<td>0.5454545454545454</td>\n",
       "\t\t<td>0.0</td>\n",
       "\t\t<td>0.5663430420711975</td>\n",
       "\t\t<td>0.45878136200716835</td>\n",
       "\t\t<td>0.40909090909090906</td>\n",
       "\t</tr>\n",
       "</table></html>"
      ],
      "text/plain": [
       "   id  gtype        si        mg        ri         k    fe        ca        na        ai\n",
       "0   2      2  0.553360  0.804009  0.285714  0.509091  0.00  0.491909  0.279570  0.426136\n",
       "1   4      2  0.600791  0.783964  0.197802  0.618182  0.36  0.313916  0.333333  0.590909\n",
       "2   5      1  0.806324  0.772829  0.373626  0.545455  0.24  0.475728  0.146953  0.494318\n",
       "3   6      7  0.818182  0.000000  0.725275  0.000000  0.00  0.440129  0.788530  0.857955\n",
       "4   8      1  0.252964  0.839644  0.890110  0.118182  0.00  0.951456  0.376344  0.159091\n",
       "5   9      2  0.367589  0.832962  0.472527  0.581818  0.88  0.608414  0.275986  0.340909\n",
       "6   7      1  0.632411  0.775056  0.450549  0.545455  0.00  0.436893  0.254480  0.443182\n",
       "7   3      2  0.636364  0.788419  0.274725  0.581818  0.84  0.307443  0.275986  0.630682\n",
       "8   1      1  0.762846  0.763920  0.197802  0.627273  0.96  0.313916  0.258065  0.505682\n",
       "9   0      7  0.407115  0.743875  1.000000  0.545455  0.00  0.566343  0.458781  0.409091"
      ]
     },
     "metadata": {},
     "output_type": "display_data"
    },
    {
     "name": "stdout",
     "output_type": "stream",
     "text": [
      "                                                                                         \r"
     ]
    },
    {
     "data": {
      "text/html": [
       "318 rows X 10 columns"
      ],
      "text/plain": [
       "<IPython.core.display.HTML object>"
      ]
     },
     "metadata": {},
     "output_type": "display_data"
    },
    {
     "name": "stdout",
     "output_type": "stream",
     "text": [
      "                                                                                         \r"
     ]
    },
    {
     "data": {
      "text/html": [
       "Total time taken by feature scaling: 33.45 sec"
      ],
      "text/plain": [
       "<IPython.core.display.HTML object>"
      ]
     },
     "metadata": {},
     "output_type": "display_data"
    },
    {
     "name": "stdout",
     "output_type": "stream",
     "text": [
      "                                                                                          \r"
     ]
    },
    {
     "data": {
      "text/html": [
       "\n",
       "Feature selection using rfe ..."
      ],
      "text/plain": [
       "<IPython.core.display.HTML object>"
      ]
     },
     "metadata": {},
     "output_type": "display_data"
    },
    {
     "name": "stdout",
     "output_type": "stream",
     "text": [
      "                                                                                          \r"
     ]
    },
    {
     "data": {
      "text/html": [
       "feature selected by RFE:"
      ],
      "text/plain": [
       "<IPython.core.display.HTML object>"
      ]
     },
     "metadata": {},
     "output_type": "display_data"
    },
    {
     "name": "stdout",
     "output_type": "stream",
     "text": [
      "['ri', 'na', 'mg', 'si', 'k']\n",
      "                                                                                          \r"
     ]
    },
    {
     "data": {
      "text/html": [
       "Total time taken by feature selection: 17.01 sec  "
      ],
      "text/plain": [
       "<IPython.core.display.HTML object>"
      ]
     },
     "metadata": {},
     "output_type": "display_data"
    },
    {
     "name": "stdout",
     "output_type": "stream",
     "text": [
      "                                                                                          \r"
     ]
    },
    {
     "data": {
      "text/html": [
       "\n",
       "scaling Features of rfe data ..."
      ],
      "text/plain": [
       "<IPython.core.display.HTML object>"
      ]
     },
     "metadata": {},
     "output_type": "display_data"
    },
    {
     "name": "stdout",
     "output_type": "stream",
     "text": [
      "                                                                                          \r"
     ]
    },
    {
     "data": {
      "text/html": [
       "columns that will be scaled: "
      ],
      "text/plain": [
       "<IPython.core.display.HTML object>"
      ]
     },
     "metadata": {},
     "output_type": "display_data"
    },
    {
     "name": "stdout",
     "output_type": "stream",
     "text": [
      "['r_ri', 'r_na', 'r_mg', 'r_si', 'r_k']\n",
      "                                                                                          \r"
     ]
    },
    {
     "data": {
      "text/html": [
       "Dataset sample after scaling:"
      ],
      "text/plain": [
       "<IPython.core.display.HTML object>"
      ]
     },
     "metadata": {},
     "output_type": "display_data"
    },
    {
     "data": {
      "text/html": [
       "<style type=\"text/css\">\n",
       "\ttable {border:ridge 5px;}\n",
       "\ttable td {border:inset 1px;}\n",
       "\ttable tr#HeaderRow {background-color:grey; color:white;}</style>\n",
       "<html><table>\n",
       "\t<tr id=\"HeaderRow\">\n",
       "\t\t<th>id</th>\n",
       "\t\t<th>gtype</th>\n",
       "\t\t<th>r_ri</th>\n",
       "\t\t<th>r_na</th>\n",
       "\t\t<th>r_mg</th>\n",
       "\t\t<th>r_si</th>\n",
       "\t\t<th>r_k</th>\n",
       "\t</tr>\n",
       "\t<tr>\n",
       "\t\t<td>2</td>\n",
       "\t\t<td>2</td>\n",
       "\t\t<td>0.28571428571427526</td>\n",
       "\t\t<td>0.27956989247311814</td>\n",
       "\t\t<td>0.8040089086859687</td>\n",
       "\t\t<td>0.5533596837944684</td>\n",
       "\t\t<td>0.5090909090909091</td>\n",
       "\t</tr>\n",
       "\t<tr>\n",
       "\t\t<td>4</td>\n",
       "\t\t<td>2</td>\n",
       "\t\t<td>0.19780219780219807</td>\n",
       "\t\t<td>0.3333333333333333</td>\n",
       "\t\t<td>0.7839643652561247</td>\n",
       "\t\t<td>0.6007905138339958</td>\n",
       "\t\t<td>0.6181818181818182</td>\n",
       "\t</tr>\n",
       "\t<tr>\n",
       "\t\t<td>5</td>\n",
       "\t\t<td>1</td>\n",
       "\t\t<td>0.37362637362637685</td>\n",
       "\t\t<td>0.14695340501792123</td>\n",
       "\t\t<td>0.7728285077951003</td>\n",
       "\t\t<td>0.8063241106719389</td>\n",
       "\t\t<td>0.5454545454545454</td>\n",
       "\t</tr>\n",
       "\t<tr>\n",
       "\t\t<td>6</td>\n",
       "\t\t<td>7</td>\n",
       "\t\t<td>0.72527472527471</td>\n",
       "\t\t<td>0.7885304659498208</td>\n",
       "\t\t<td>0.0</td>\n",
       "\t\t<td>0.8181818181818208</td>\n",
       "\t\t<td>0.0</td>\n",
       "\t</tr>\n",
       "\t<tr>\n",
       "\t\t<td>8</td>\n",
       "\t\t<td>1</td>\n",
       "\t\t<td>0.8901098901098791</td>\n",
       "\t\t<td>0.37634408602150576</td>\n",
       "\t\t<td>0.8396436525612472</td>\n",
       "\t\t<td>0.25296442687747045</td>\n",
       "\t\t<td>0.11818181818181818</td>\n",
       "\t</tr>\n",
       "\t<tr>\n",
       "\t\t<td>9</td>\n",
       "\t\t<td>2</td>\n",
       "\t\t<td>0.4725274725274637</td>\n",
       "\t\t<td>0.2759856630824372</td>\n",
       "\t\t<td>0.8329621380846325</td>\n",
       "\t\t<td>0.36758893280632665</td>\n",
       "\t\t<td>0.5818181818181818</td>\n",
       "\t</tr>\n",
       "\t<tr>\n",
       "\t\t<td>7</td>\n",
       "\t\t<td>1</td>\n",
       "\t\t<td>0.4505494505494444</td>\n",
       "\t\t<td>0.254480286738351</td>\n",
       "\t\t<td>0.7750556792873051</td>\n",
       "\t\t<td>0.632411067193679</td>\n",
       "\t\t<td>0.5454545454545454</td>\n",
       "\t</tr>\n",
       "\t<tr>\n",
       "\t\t<td>3</td>\n",
       "\t\t<td>2</td>\n",
       "\t\t<td>0.2747252747252656</td>\n",
       "\t\t<td>0.2759856630824372</td>\n",
       "\t\t<td>0.7884187082405345</td>\n",
       "\t\t<td>0.6363636363636358</td>\n",
       "\t\t<td>0.5818181818181818</td>\n",
       "\t</tr>\n",
       "\t<tr>\n",
       "\t\t<td>1</td>\n",
       "\t\t<td>1</td>\n",
       "\t\t<td>0.19780219780219807</td>\n",
       "\t\t<td>0.2580645161290326</td>\n",
       "\t\t<td>0.7639198218262806</td>\n",
       "\t\t<td>0.7628458498023739</td>\n",
       "\t\t<td>0.6272727272727272</td>\n",
       "\t</tr>\n",
       "\t<tr>\n",
       "\t\t<td>0</td>\n",
       "\t\t<td>7</td>\n",
       "\t\t<td>1.0</td>\n",
       "\t\t<td>0.45878136200716835</td>\n",
       "\t\t<td>0.7438752783964364</td>\n",
       "\t\t<td>0.4071146245059291</td>\n",
       "\t\t<td>0.5454545454545454</td>\n",
       "\t</tr>\n",
       "</table></html>"
      ],
      "text/plain": [
       "   id  gtype      r_ri      r_na      r_mg      r_si       r_k\n",
       "0   2      2  0.285714  0.279570  0.804009  0.553360  0.509091\n",
       "1   4      2  0.197802  0.333333  0.783964  0.600791  0.618182\n",
       "2   5      1  0.373626  0.146953  0.772829  0.806324  0.545455\n",
       "3   6      7  0.725275  0.788530  0.000000  0.818182  0.000000\n",
       "4   8      1  0.890110  0.376344  0.839644  0.252964  0.118182\n",
       "5   9      2  0.472527  0.275986  0.832962  0.367589  0.581818\n",
       "6   7      1  0.450549  0.254480  0.775056  0.632411  0.545455\n",
       "7   3      2  0.274725  0.275986  0.788419  0.636364  0.581818\n",
       "8   1      1  0.197802  0.258065  0.763920  0.762846  0.627273\n",
       "9   0      7  1.000000  0.458781  0.743875  0.407115  0.545455"
      ]
     },
     "metadata": {},
     "output_type": "display_data"
    },
    {
     "name": "stdout",
     "output_type": "stream",
     "text": [
      "                                                                                          \r"
     ]
    },
    {
     "data": {
      "text/html": [
       "318 rows X 7 columns"
      ],
      "text/plain": [
       "<IPython.core.display.HTML object>"
      ]
     },
     "metadata": {},
     "output_type": "display_data"
    },
    {
     "name": "stdout",
     "output_type": "stream",
     "text": [
      "                                                                                          \r"
     ]
    },
    {
     "data": {
      "text/html": [
       "Total time taken by feature scaling: 33.31 sec"
      ],
      "text/plain": [
       "<IPython.core.display.HTML object>"
      ]
     },
     "metadata": {},
     "output_type": "display_data"
    },
    {
     "name": "stdout",
     "output_type": "stream",
     "text": [
      "                                                                                          \r"
     ]
    },
    {
     "data": {
      "text/html": [
       "\n",
       "scaling Features of pca data ..."
      ],
      "text/plain": [
       "<IPython.core.display.HTML object>"
      ]
     },
     "metadata": {},
     "output_type": "display_data"
    },
    {
     "name": "stdout",
     "output_type": "stream",
     "text": [
      "                                                                                          \r"
     ]
    },
    {
     "data": {
      "text/html": [
       "columns that will be scaled: "
      ],
      "text/plain": [
       "<IPython.core.display.HTML object>"
      ]
     },
     "metadata": {},
     "output_type": "display_data"
    },
    {
     "name": "stdout",
     "output_type": "stream",
     "text": [
      "['ri', 'na', 'mg', 'ai', 'si', 'k', 'ca', 'fe']\n",
      "                                                                                          \r"
     ]
    },
    {
     "data": {
      "text/html": [
       "Dataset sample after scaling:"
      ],
      "text/plain": [
       "<IPython.core.display.HTML object>"
      ]
     },
     "metadata": {},
     "output_type": "display_data"
    },
    {
     "data": {
      "text/html": [
       "<style type=\"text/css\">\n",
       "\ttable {border:ridge 5px;}\n",
       "\ttable td {border:inset 1px;}\n",
       "\ttable tr#HeaderRow {background-color:grey; color:white;}</style>\n",
       "<html><table>\n",
       "\t<tr id=\"HeaderRow\">\n",
       "\t\t<th>id</th>\n",
       "\t\t<th>ba</th>\n",
       "\t\t<th>gtype</th>\n",
       "\t\t<th>ri</th>\n",
       "\t\t<th>na</th>\n",
       "\t\t<th>mg</th>\n",
       "\t\t<th>ai</th>\n",
       "\t\t<th>si</th>\n",
       "\t\t<th>k</th>\n",
       "\t\t<th>ca</th>\n",
       "\t\t<th>fe</th>\n",
       "\t</tr>\n",
       "\t<tr>\n",
       "\t\t<td>9</td>\n",
       "\t\t<td>0.0</td>\n",
       "\t\t<td>2</td>\n",
       "\t\t<td>0.47420417124039727</td>\n",
       "\t\t<td>0.3082437275985662</td>\n",
       "\t\t<td>0.8062360801781737</td>\n",
       "\t\t<td>0.3125</td>\n",
       "\t\t<td>0.39130434782609036</td>\n",
       "\t\t<td>0.5818181818181818</td>\n",
       "\t\t<td>0.6634304207119743</td>\n",
       "\t\t<td>0.6</td>\n",
       "\t</tr>\n",
       "\t<tr>\n",
       "\t\t<td>11</td>\n",
       "\t\t<td>0.0</td>\n",
       "\t\t<td>2</td>\n",
       "\t\t<td>0.3293084522502806</td>\n",
       "\t\t<td>0.30107526881720437</td>\n",
       "\t\t<td>0.7728285077951003</td>\n",
       "\t\t<td>0.7272727272727273</td>\n",
       "\t\t<td>0.5415019762845865</td>\n",
       "\t\t<td>0.6</td>\n",
       "\t\t<td>0.3559870550161811</td>\n",
       "\t\t<td>0.0</td>\n",
       "\t</tr>\n",
       "\t<tr>\n",
       "\t\t<td>27</td>\n",
       "\t\t<td>0.0</td>\n",
       "\t\t<td>1</td>\n",
       "\t\t<td>0.8979143798024062</td>\n",
       "\t\t<td>0.7204301075268819</td>\n",
       "\t\t<td>0.8485523385300668</td>\n",
       "\t\t<td>0.1534090909090909</td>\n",
       "\t\t<td>0.0</td>\n",
       "\t\t<td>0.0</td>\n",
       "\t\t<td>0.8446601941747571</td>\n",
       "\t\t<td>0.0</td>\n",
       "\t</tr>\n",
       "\t<tr>\n",
       "\t\t<td>22</td>\n",
       "\t\t<td>0.0</td>\n",
       "\t\t<td>1</td>\n",
       "\t\t<td>0.3809001097694861</td>\n",
       "\t\t<td>0.35483870967741954</td>\n",
       "\t\t<td>0.8040089086859687</td>\n",
       "\t\t<td>0.3068181818181818</td>\n",
       "\t\t<td>0.7470355731225296</td>\n",
       "\t\t<td>0.5181818181818181</td>\n",
       "\t\t<td>0.3754045307443366</td>\n",
       "\t\t<td>0.0</td>\n",
       "\t</tr>\n",
       "\t<tr>\n",
       "\t\t<td>15</td>\n",
       "\t\t<td>0.0</td>\n",
       "\t\t<td>2</td>\n",
       "\t\t<td>0.2908891328210747</td>\n",
       "\t\t<td>0.254480286738351</td>\n",
       "\t\t<td>0.7928730512249443</td>\n",
       "\t\t<td>0.6420454545454545</td>\n",
       "\t\t<td>0.707509881422927</td>\n",
       "\t\t<td>0.5909090909090908</td>\n",
       "\t\t<td>0.2944983818770227</td>\n",
       "\t\t<td>0.0</td>\n",
       "\t</tr>\n",
       "\t<tr>\n",
       "\t\t<td>23</td>\n",
       "\t\t<td>0.0</td>\n",
       "\t\t<td>2</td>\n",
       "\t\t<td>0.2908891328210747</td>\n",
       "\t\t<td>0.22580645161290294</td>\n",
       "\t\t<td>0.7839643652561247</td>\n",
       "\t\t<td>0.5852272727272727</td>\n",
       "\t\t<td>0.794466403162057</td>\n",
       "\t\t<td>0.6</td>\n",
       "\t\t<td>0.26537216828478977</td>\n",
       "\t\t<td>0.0</td>\n",
       "\t</tr>\n",
       "\t<tr>\n",
       "\t\t<td>12</td>\n",
       "\t\t<td>0.0</td>\n",
       "\t\t<td>1</td>\n",
       "\t\t<td>0.4116355653128508</td>\n",
       "\t\t<td>0.18637992831541209</td>\n",
       "\t\t<td>0.8173719376391981</td>\n",
       "\t\t<td>0.36931818181818177</td>\n",
       "\t\t<td>0.6956521739130452</td>\n",
       "\t\t<td>0.5545454545454545</td>\n",
       "\t\t<td>0.5242718446601939</td>\n",
       "\t\t<td>0.0</td>\n",
       "\t</tr>\n",
       "\t<tr>\n",
       "\t\t<td>20</td>\n",
       "\t\t<td>0.0</td>\n",
       "\t\t<td>1</td>\n",
       "\t\t<td>0.4116355653128508</td>\n",
       "\t\t<td>0.3297491039426524</td>\n",
       "\t\t<td>0.77728285077951</td>\n",
       "\t\t<td>0.4375</td>\n",
       "\t\t<td>0.5968379446640334</td>\n",
       "\t\t<td>0.5454545454545454</td>\n",
       "\t\t<td>0.45631067961165056</td>\n",
       "\t\t<td>0.0</td>\n",
       "\t</tr>\n",
       "\t<tr>\n",
       "\t\t<td>10</td>\n",
       "\t\t<td>0.0</td>\n",
       "\t\t<td>2</td>\n",
       "\t\t<td>0.8430296377607008</td>\n",
       "\t\t<td>0.37275985663082417</td>\n",
       "\t\t<td>0.8195991091314031</td>\n",
       "\t\t<td>0.3636363636363636</td>\n",
       "\t\t<td>0.5533596837944684</td>\n",
       "\t\t<td>0.4909090909090909</td>\n",
       "\t\t<td>0.466019417475728</td>\n",
       "\t\t<td>0.0</td>\n",
       "\t</tr>\n",
       "\t<tr>\n",
       "\t\t<td>18</td>\n",
       "\t\t<td>0.0</td>\n",
       "\t\t<td>1</td>\n",
       "\t\t<td>0.469813391877056</td>\n",
       "\t\t<td>0.3512544802867386</td>\n",
       "\t\t<td>0.6325167037861915</td>\n",
       "\t\t<td>0.4375</td>\n",
       "\t\t<td>0.5928853754940708</td>\n",
       "\t\t<td>0.5</td>\n",
       "\t\t<td>0.6440129449838189</td>\n",
       "\t\t<td>0.0</td>\n",
       "\t</tr>\n",
       "</table></html>"
      ],
      "text/plain": [
       "   id   ba  gtype        ri        na        mg        ai        si         k        ca   fe\n",
       "0   9  0.0      2  0.474204  0.308244  0.806236  0.312500  0.391304  0.581818  0.663430  0.6\n",
       "1  11  0.0      2  0.329308  0.301075  0.772829  0.727273  0.541502  0.600000  0.355987  0.0\n",
       "2  27  0.0      1  0.897914  0.720430  0.848552  0.153409  0.000000  0.000000  0.844660  0.0\n",
       "3  22  0.0      1  0.380900  0.354839  0.804009  0.306818  0.747036  0.518182  0.375405  0.0\n",
       "4  15  0.0      2  0.290889  0.254480  0.792873  0.642045  0.707510  0.590909  0.294498  0.0\n",
       "5  23  0.0      2  0.290889  0.225806  0.783964  0.585227  0.794466  0.600000  0.265372  0.0\n",
       "6  12  0.0      1  0.411636  0.186380  0.817372  0.369318  0.695652  0.554545  0.524272  0.0\n",
       "7  20  0.0      1  0.411636  0.329749  0.777283  0.437500  0.596838  0.545455  0.456311  0.0\n",
       "8  10  0.0      2  0.843030  0.372760  0.819599  0.363636  0.553360  0.490909  0.466019  0.0\n",
       "9  18  0.0      1  0.469813  0.351254  0.632517  0.437500  0.592885  0.500000  0.644013  0.0"
      ]
     },
     "metadata": {},
     "output_type": "display_data"
    },
    {
     "name": "stdout",
     "output_type": "stream",
     "text": [
      "                                                                                          \r"
     ]
    },
    {
     "data": {
      "text/html": [
       "134 rows X 11 columns"
      ],
      "text/plain": [
       "<IPython.core.display.HTML object>"
      ]
     },
     "metadata": {},
     "output_type": "display_data"
    },
    {
     "name": "stdout",
     "output_type": "stream",
     "text": [
      "                                                                                          \r"
     ]
    },
    {
     "data": {
      "text/html": [
       "Total time taken by feature scaling: 30.69 sec"
      ],
      "text/plain": [
       "<IPython.core.display.HTML object>"
      ]
     },
     "metadata": {},
     "output_type": "display_data"
    },
    {
     "name": "stdout",
     "output_type": "stream",
     "text": [
      "                                                                                          \r"
     ]
    },
    {
     "data": {
      "text/html": [
       "\n",
       "Dimension Reduction using pca ..."
      ],
      "text/plain": [
       "<IPython.core.display.HTML object>"
      ]
     },
     "metadata": {},
     "output_type": "display_data"
    },
    {
     "name": "stdout",
     "output_type": "stream",
     "text": [
      "                                                                                          \r"
     ]
    },
    {
     "data": {
      "text/html": [
       "PCA columns:"
      ],
      "text/plain": [
       "<IPython.core.display.HTML object>"
      ]
     },
     "metadata": {},
     "output_type": "display_data"
    },
    {
     "name": "stdout",
     "output_type": "stream",
     "text": [
      "['col_0', 'col_1', 'col_2', 'col_3', 'col_4', 'col_5']\n",
      "                                                                                          \r"
     ]
    },
    {
     "data": {
      "text/html": [
       "Total time taken by PCA: 7.30 sec  "
      ],
      "text/plain": [
       "<IPython.core.display.HTML object>"
      ]
     },
     "metadata": {},
     "output_type": "display_data"
    },
    {
     "name": "stdout",
     "output_type": "stream",
     "text": [
      "                                                                                          \r"
     ]
    },
    {
     "data": {
      "text/html": [
       "\n",
       "            <style>\n",
       "                .custom-div {\n",
       "                    background-color: lightgray;\n",
       "                    color: #000000;\n",
       "                    padding: 10px;\n",
       "                    border-radius: 8px;\n",
       "                    box-shadow: 0 3px 4px rgba(0 -  0 -  0 -  0.2);\n",
       "                    margin-bottom: 10px;\n",
       "                    text-align: center;\n",
       "                }\n",
       "            </style>\n",
       "        <br><div class=\"custom-div\"><h3><span style=\"color: green;\">1. Feature Exploration -> 2. Feature Engineering -> 3. Data Preparation -></span> 4. Model Training & Evaluation<center></h3></center></div>"
      ],
      "text/plain": [
       "<IPython.core.display.HTML object>"
      ]
     },
     "metadata": {},
     "output_type": "display_data"
    },
    {
     "name": "stdout",
     "output_type": "stream",
     "text": [
      "                                                                                          \r"
     ]
    },
    {
     "data": {
      "text/html": [
       "Model Training started ..."
      ],
      "text/plain": [
       "<IPython.core.display.HTML object>"
      ]
     },
     "metadata": {},
     "output_type": "display_data"
    },
    {
     "name": "stdout",
     "output_type": "stream",
     "text": [
      "                                                                                          \r"
     ]
    },
    {
     "data": {
      "text/html": [
       "\n",
       "Hyperparameters used for model training: "
      ],
      "text/plain": [
       "<IPython.core.display.HTML object>"
      ]
     },
     "metadata": {},
     "output_type": "display_data"
    },
    {
     "name": "stdout",
     "output_type": "stream",
     "text": [
      "response_column : gtype                                                                                                                               \n",
      "name : xgboost\n",
      "model_type : Classification\n",
      "column_sampling : (1, 0.6)\n",
      "min_impurity : (0.0, 0.1, 0.2)\n",
      "lambda1 : (0.01, 0.1, 1, 10)\n",
      "shrinkage_factor : (0.5, 0.1, 0.3)\n",
      "max_depth : (5, 6, 8, 10)\n",
      "min_node_size : (1, 2, 3)\n",
      "iter_num : (10, 20, 30)\n",
      "seed : 42\n",
      "Total number of models for xgboost : 2592\n",
      "--------------------------------------------------------------------------------------------------------------------------------------------------------------------------------------------------------\n",
      "\n",
      "response_column : gtype\n",
      "name : decision_forest\n",
      "tree_type : Classification\n",
      "min_impurity : (0.0, 0.1, 0.2)\n",
      "max_depth : (5, 6, 8, 10)\n",
      "min_node_size : (1, 2, 3)\n",
      "num_trees : (-1, 20, 30)\n",
      "seed : 42\n",
      "Total number of models for decision_forest : 108\n",
      "--------------------------------------------------------------------------------------------------------------------------------------------------------------------------------------------------------\n",
      "\n",
      "                                                                                          \r"
     ]
    },
    {
     "data": {
      "text/html": [
       "\n",
       "Performing hyperparameter tuning ..."
      ],
      "text/plain": [
       "<IPython.core.display.HTML object>"
      ]
     },
     "metadata": {},
     "output_type": "display_data"
    },
    {
     "name": "stdout",
     "output_type": "stream",
     "text": [
      "                                                                                          \r"
     ]
    },
    {
     "data": {
      "text/html": [
       "xgboost"
      ],
      "text/plain": [
       "<IPython.core.display.HTML object>"
      ]
     },
     "metadata": {},
     "output_type": "display_data"
    },
    {
     "name": "stdout",
     "output_type": "stream",
     "text": [
      "                                                                                                                                                                                                        \r"
     ]
    },
    {
     "data": {
      "text/html": [
       "----------------------------------------------------------------------------------------------------"
      ],
      "text/plain": [
       "<IPython.core.display.HTML object>"
      ]
     },
     "metadata": {},
     "output_type": "display_data"
    },
    {
     "name": "stdout",
     "output_type": "stream",
     "text": [
      "                                                                                          \r"
     ]
    },
    {
     "data": {
      "text/html": [
       "decision_forest"
      ],
      "text/plain": [
       "<IPython.core.display.HTML object>"
      ]
     },
     "metadata": {},
     "output_type": "display_data"
    },
    {
     "name": "stdout",
     "output_type": "stream",
     "text": [
      "                                                                                                                                                                                                        \r"
     ]
    },
    {
     "data": {
      "text/html": [
       "----------------------------------------------------------------------------------------------------"
      ],
      "text/plain": [
       "<IPython.core.display.HTML object>"
      ]
     },
     "metadata": {},
     "output_type": "display_data"
    },
    {
     "name": "stdout",
     "output_type": "stream",
     "text": [
      "                                                                                          \r"
     ]
    },
    {
     "data": {
      "text/html": [
       "Leaderboard"
      ],
      "text/plain": [
       "<IPython.core.display.HTML object>"
      ]
     },
     "metadata": {},
     "output_type": "display_data"
    },
    {
     "data": {
      "text/html": [
       "<div>\n",
       "<style scoped>\n",
       "    .dataframe tbody tr th:only-of-type {\n",
       "        vertical-align: middle;\n",
       "    }\n",
       "\n",
       "    .dataframe tbody tr th {\n",
       "        vertical-align: top;\n",
       "    }\n",
       "\n",
       "    .dataframe thead th {\n",
       "        text-align: right;\n",
       "    }\n",
       "</style>\n",
       "<table border=\"1\" class=\"dataframe\">\n",
       "  <thead>\n",
       "    <tr style=\"text-align: right;\">\n",
       "      <th></th>\n",
       "      <th>RANK</th>\n",
       "      <th>MODEL_ID</th>\n",
       "      <th>FEATURE_SELECTION</th>\n",
       "      <th>ACCURACY</th>\n",
       "      <th>MICRO-PRECISION</th>\n",
       "      <th>MICRO-RECALL</th>\n",
       "      <th>MICRO-F1</th>\n",
       "      <th>MACRO-PRECISION</th>\n",
       "      <th>MACRO-RECALL</th>\n",
       "      <th>MACRO-F1</th>\n",
       "      <th>WEIGHTED-PRECISION</th>\n",
       "      <th>WEIGHTED-RECALL</th>\n",
       "      <th>WEIGHTED-F1</th>\n",
       "    </tr>\n",
       "  </thead>\n",
       "  <tbody>\n",
       "    <tr>\n",
       "      <th>0</th>\n",
       "      <td>1</td>\n",
       "      <td>XGBOOST_1</td>\n",
       "      <td>rfe</td>\n",
       "      <td>0.953125</td>\n",
       "      <td>0.953125</td>\n",
       "      <td>0.953125</td>\n",
       "      <td>0.953125</td>\n",
       "      <td>0.952441</td>\n",
       "      <td>0.951178</td>\n",
       "      <td>0.951147</td>\n",
       "      <td>0.954427</td>\n",
       "      <td>0.953125</td>\n",
       "      <td>0.953093</td>\n",
       "    </tr>\n",
       "    <tr>\n",
       "      <th>1</th>\n",
       "      <td>2</td>\n",
       "      <td>XGBOOST_0</td>\n",
       "      <td>lasso</td>\n",
       "      <td>0.890625</td>\n",
       "      <td>0.890625</td>\n",
       "      <td>0.890625</td>\n",
       "      <td>0.890625</td>\n",
       "      <td>0.902778</td>\n",
       "      <td>0.890572</td>\n",
       "      <td>0.882312</td>\n",
       "      <td>0.910156</td>\n",
       "      <td>0.890625</td>\n",
       "      <td>0.886075</td>\n",
       "    </tr>\n",
       "    <tr>\n",
       "      <th>2</th>\n",
       "      <td>3</td>\n",
       "      <td>XGBOOST_3</td>\n",
       "      <td>lasso</td>\n",
       "      <td>0.890625</td>\n",
       "      <td>0.890625</td>\n",
       "      <td>0.890625</td>\n",
       "      <td>0.890625</td>\n",
       "      <td>0.902778</td>\n",
       "      <td>0.890572</td>\n",
       "      <td>0.882312</td>\n",
       "      <td>0.910156</td>\n",
       "      <td>0.890625</td>\n",
       "      <td>0.886075</td>\n",
       "    </tr>\n",
       "    <tr>\n",
       "      <th>3</th>\n",
       "      <td>4</td>\n",
       "      <td>DECISIONFOREST_0</td>\n",
       "      <td>lasso</td>\n",
       "      <td>0.796875</td>\n",
       "      <td>0.796875</td>\n",
       "      <td>0.796875</td>\n",
       "      <td>0.796875</td>\n",
       "      <td>0.803419</td>\n",
       "      <td>0.796296</td>\n",
       "      <td>0.776592</td>\n",
       "      <td>0.811699</td>\n",
       "      <td>0.796875</td>\n",
       "      <td>0.780974</td>\n",
       "    </tr>\n",
       "    <tr>\n",
       "      <th>4</th>\n",
       "      <td>5</td>\n",
       "      <td>XGBOOST_2</td>\n",
       "      <td>pca</td>\n",
       "      <td>0.777778</td>\n",
       "      <td>0.777778</td>\n",
       "      <td>0.777778</td>\n",
       "      <td>0.777778</td>\n",
       "      <td>0.906061</td>\n",
       "      <td>0.822601</td>\n",
       "      <td>0.833124</td>\n",
       "      <td>0.810774</td>\n",
       "      <td>0.777778</td>\n",
       "      <td>0.769470</td>\n",
       "    </tr>\n",
       "    <tr>\n",
       "      <th>5</th>\n",
       "      <td>6</td>\n",
       "      <td>DECISIONFOREST_3</td>\n",
       "      <td>lasso</td>\n",
       "      <td>0.765625</td>\n",
       "      <td>0.765625</td>\n",
       "      <td>0.765625</td>\n",
       "      <td>0.765625</td>\n",
       "      <td>0.775000</td>\n",
       "      <td>0.765993</td>\n",
       "      <td>0.755496</td>\n",
       "      <td>0.783594</td>\n",
       "      <td>0.765625</td>\n",
       "      <td>0.760083</td>\n",
       "    </tr>\n",
       "    <tr>\n",
       "      <th>6</th>\n",
       "      <td>7</td>\n",
       "      <td>DECISIONFOREST_1</td>\n",
       "      <td>rfe</td>\n",
       "      <td>0.765625</td>\n",
       "      <td>0.765625</td>\n",
       "      <td>0.765625</td>\n",
       "      <td>0.765625</td>\n",
       "      <td>0.757107</td>\n",
       "      <td>0.759259</td>\n",
       "      <td>0.745254</td>\n",
       "      <td>0.766562</td>\n",
       "      <td>0.765625</td>\n",
       "      <td>0.752918</td>\n",
       "    </tr>\n",
       "    <tr>\n",
       "      <th>7</th>\n",
       "      <td>8</td>\n",
       "      <td>DECISIONFOREST_2</td>\n",
       "      <td>pca</td>\n",
       "      <td>0.555556</td>\n",
       "      <td>0.555556</td>\n",
       "      <td>0.555556</td>\n",
       "      <td>0.555556</td>\n",
       "      <td>0.568750</td>\n",
       "      <td>0.476641</td>\n",
       "      <td>0.421368</td>\n",
       "      <td>0.638426</td>\n",
       "      <td>0.555556</td>\n",
       "      <td>0.534283</td>\n",
       "    </tr>\n",
       "  </tbody>\n",
       "</table>\n",
       "</div>"
      ],
      "text/plain": [
       "   RANK          MODEL_ID FEATURE_SELECTION  ACCURACY  MICRO-PRECISION  \\\n",
       "0     1         XGBOOST_1               rfe  0.953125         0.953125   \n",
       "1     2         XGBOOST_0             lasso  0.890625         0.890625   \n",
       "2     3         XGBOOST_3             lasso  0.890625         0.890625   \n",
       "3     4  DECISIONFOREST_0             lasso  0.796875         0.796875   \n",
       "4     5         XGBOOST_2               pca  0.777778         0.777778   \n",
       "5     6  DECISIONFOREST_3             lasso  0.765625         0.765625   \n",
       "6     7  DECISIONFOREST_1               rfe  0.765625         0.765625   \n",
       "7     8  DECISIONFOREST_2               pca  0.555556         0.555556   \n",
       "\n",
       "   MICRO-RECALL  MICRO-F1  MACRO-PRECISION  MACRO-RECALL  MACRO-F1  \\\n",
       "0      0.953125  0.953125         0.952441      0.951178  0.951147   \n",
       "1      0.890625  0.890625         0.902778      0.890572  0.882312   \n",
       "2      0.890625  0.890625         0.902778      0.890572  0.882312   \n",
       "3      0.796875  0.796875         0.803419      0.796296  0.776592   \n",
       "4      0.777778  0.777778         0.906061      0.822601  0.833124   \n",
       "5      0.765625  0.765625         0.775000      0.765993  0.755496   \n",
       "6      0.765625  0.765625         0.757107      0.759259  0.745254   \n",
       "7      0.555556  0.555556         0.568750      0.476641  0.421368   \n",
       "\n",
       "   WEIGHTED-PRECISION  WEIGHTED-RECALL  WEIGHTED-F1  \n",
       "0            0.954427         0.953125     0.953093  \n",
       "1            0.910156         0.890625     0.886075  \n",
       "2            0.910156         0.890625     0.886075  \n",
       "3            0.811699         0.796875     0.780974  \n",
       "4            0.810774         0.777778     0.769470  \n",
       "5            0.783594         0.765625     0.760083  \n",
       "6            0.766562         0.765625     0.752918  \n",
       "7            0.638426         0.555556     0.534283  "
      ]
     },
     "metadata": {},
     "output_type": "display_data"
    },
    {
     "name": "stdout",
     "output_type": "stream",
     "text": [
      "                                                                                          \r"
     ]
    },
    {
     "data": {
      "text/html": [
       "8 rows X 13 columns"
      ],
      "text/plain": [
       "<IPython.core.display.HTML object>"
      ]
     },
     "metadata": {},
     "output_type": "display_data"
    },
    {
     "name": "stdout",
     "output_type": "stream",
     "text": [
      "                                                                                          \r"
     ]
    },
    {
     "data": {
      "text/html": [
       "\n",
       "            <style>\n",
       "                .custom-div {\n",
       "                    background-color: lightgray;\n",
       "                    color: #000000;\n",
       "                    padding: 10px;\n",
       "                    border-radius: 8px;\n",
       "                    box-shadow: 0 3px 4px rgba(0 -  0 -  0 -  0.2);\n",
       "                    margin-bottom: 10px;\n",
       "                    text-align: center;\n",
       "                }\n",
       "            </style>\n",
       "        <br><div class=\"custom-div\"><h3><span style=\"color: green;\">1. Feature Exploration -> 2. Feature Engineering -> 3. Data Preparation -> 4. Model Training & Evaluation</span><center></h3></center></div>"
      ],
      "text/plain": [
       "<IPython.core.display.HTML object>"
      ]
     },
     "metadata": {},
     "output_type": "display_data"
    },
    {
     "name": "stdout",
     "output_type": "stream",
     "text": [
      "Completed: ｜⫿⫿⫿⫿⫿⫿⫿⫿⫿⫿⫿⫿⫿⫿⫿⫿⫿⫿⫿⫿⫿⫿⫿⫿⫿⫿⫿⫿⫿⫿⫿⫿⫿⫿⫿⫿⫿⫿⫿⫿⫿⫿⫿⫿⫿⫿⫿⫿⫿⫿⫿⫿⫿⫿⫿⫿⫿⫿⫿⫿｜ 100% - 15/15    \r"
     ]
    }
   ],
   "source": [
    "# Fitting train data\n",
    "aml.fit(glass_df_train, glass_df_train.gtype)"
   ]
  },
  {
   "cell_type": "markdown",
   "id": "23a04eb1-68e6-48b7-95aa-442f434809da",
   "metadata": {},
   "source": [
    "## <b><span style='color:#F1A424'>| 3.</span> Leaderboard : </b>"
   ]
  },
  {
   "cell_type": "code",
   "execution_count": 17,
   "id": "77de1099-6122-4f8a-8e7f-dd67e5b4ced4",
   "metadata": {},
   "outputs": [
    {
     "data": {
      "text/html": [
       "<div>\n",
       "<style scoped>\n",
       "    .dataframe tbody tr th:only-of-type {\n",
       "        vertical-align: middle;\n",
       "    }\n",
       "\n",
       "    .dataframe tbody tr th {\n",
       "        vertical-align: top;\n",
       "    }\n",
       "\n",
       "    .dataframe thead th {\n",
       "        text-align: right;\n",
       "    }\n",
       "</style>\n",
       "<table border=\"1\" class=\"dataframe\">\n",
       "  <thead>\n",
       "    <tr style=\"text-align: right;\">\n",
       "      <th></th>\n",
       "      <th>RANK</th>\n",
       "      <th>MODEL_ID</th>\n",
       "      <th>FEATURE_SELECTION</th>\n",
       "      <th>ACCURACY</th>\n",
       "      <th>MICRO-PRECISION</th>\n",
       "      <th>MICRO-RECALL</th>\n",
       "      <th>MICRO-F1</th>\n",
       "      <th>MACRO-PRECISION</th>\n",
       "      <th>MACRO-RECALL</th>\n",
       "      <th>MACRO-F1</th>\n",
       "      <th>WEIGHTED-PRECISION</th>\n",
       "      <th>WEIGHTED-RECALL</th>\n",
       "      <th>WEIGHTED-F1</th>\n",
       "    </tr>\n",
       "  </thead>\n",
       "  <tbody>\n",
       "    <tr>\n",
       "      <th>0</th>\n",
       "      <td>1</td>\n",
       "      <td>XGBOOST_1</td>\n",
       "      <td>rfe</td>\n",
       "      <td>0.953125</td>\n",
       "      <td>0.953125</td>\n",
       "      <td>0.953125</td>\n",
       "      <td>0.953125</td>\n",
       "      <td>0.952441</td>\n",
       "      <td>0.951178</td>\n",
       "      <td>0.951147</td>\n",
       "      <td>0.954427</td>\n",
       "      <td>0.953125</td>\n",
       "      <td>0.953093</td>\n",
       "    </tr>\n",
       "    <tr>\n",
       "      <th>1</th>\n",
       "      <td>2</td>\n",
       "      <td>XGBOOST_0</td>\n",
       "      <td>lasso</td>\n",
       "      <td>0.890625</td>\n",
       "      <td>0.890625</td>\n",
       "      <td>0.890625</td>\n",
       "      <td>0.890625</td>\n",
       "      <td>0.902778</td>\n",
       "      <td>0.890572</td>\n",
       "      <td>0.882312</td>\n",
       "      <td>0.910156</td>\n",
       "      <td>0.890625</td>\n",
       "      <td>0.886075</td>\n",
       "    </tr>\n",
       "    <tr>\n",
       "      <th>2</th>\n",
       "      <td>3</td>\n",
       "      <td>XGBOOST_3</td>\n",
       "      <td>lasso</td>\n",
       "      <td>0.890625</td>\n",
       "      <td>0.890625</td>\n",
       "      <td>0.890625</td>\n",
       "      <td>0.890625</td>\n",
       "      <td>0.902778</td>\n",
       "      <td>0.890572</td>\n",
       "      <td>0.882312</td>\n",
       "      <td>0.910156</td>\n",
       "      <td>0.890625</td>\n",
       "      <td>0.886075</td>\n",
       "    </tr>\n",
       "    <tr>\n",
       "      <th>3</th>\n",
       "      <td>4</td>\n",
       "      <td>DECISIONFOREST_0</td>\n",
       "      <td>lasso</td>\n",
       "      <td>0.796875</td>\n",
       "      <td>0.796875</td>\n",
       "      <td>0.796875</td>\n",
       "      <td>0.796875</td>\n",
       "      <td>0.803419</td>\n",
       "      <td>0.796296</td>\n",
       "      <td>0.776592</td>\n",
       "      <td>0.811699</td>\n",
       "      <td>0.796875</td>\n",
       "      <td>0.780974</td>\n",
       "    </tr>\n",
       "    <tr>\n",
       "      <th>4</th>\n",
       "      <td>5</td>\n",
       "      <td>XGBOOST_2</td>\n",
       "      <td>pca</td>\n",
       "      <td>0.777778</td>\n",
       "      <td>0.777778</td>\n",
       "      <td>0.777778</td>\n",
       "      <td>0.777778</td>\n",
       "      <td>0.906061</td>\n",
       "      <td>0.822601</td>\n",
       "      <td>0.833124</td>\n",
       "      <td>0.810774</td>\n",
       "      <td>0.777778</td>\n",
       "      <td>0.769470</td>\n",
       "    </tr>\n",
       "    <tr>\n",
       "      <th>5</th>\n",
       "      <td>6</td>\n",
       "      <td>DECISIONFOREST_3</td>\n",
       "      <td>lasso</td>\n",
       "      <td>0.765625</td>\n",
       "      <td>0.765625</td>\n",
       "      <td>0.765625</td>\n",
       "      <td>0.765625</td>\n",
       "      <td>0.775000</td>\n",
       "      <td>0.765993</td>\n",
       "      <td>0.755496</td>\n",
       "      <td>0.783594</td>\n",
       "      <td>0.765625</td>\n",
       "      <td>0.760083</td>\n",
       "    </tr>\n",
       "    <tr>\n",
       "      <th>6</th>\n",
       "      <td>7</td>\n",
       "      <td>DECISIONFOREST_1</td>\n",
       "      <td>rfe</td>\n",
       "      <td>0.765625</td>\n",
       "      <td>0.765625</td>\n",
       "      <td>0.765625</td>\n",
       "      <td>0.765625</td>\n",
       "      <td>0.757107</td>\n",
       "      <td>0.759259</td>\n",
       "      <td>0.745254</td>\n",
       "      <td>0.766562</td>\n",
       "      <td>0.765625</td>\n",
       "      <td>0.752918</td>\n",
       "    </tr>\n",
       "    <tr>\n",
       "      <th>7</th>\n",
       "      <td>8</td>\n",
       "      <td>DECISIONFOREST_2</td>\n",
       "      <td>pca</td>\n",
       "      <td>0.555556</td>\n",
       "      <td>0.555556</td>\n",
       "      <td>0.555556</td>\n",
       "      <td>0.555556</td>\n",
       "      <td>0.568750</td>\n",
       "      <td>0.476641</td>\n",
       "      <td>0.421368</td>\n",
       "      <td>0.638426</td>\n",
       "      <td>0.555556</td>\n",
       "      <td>0.534283</td>\n",
       "    </tr>\n",
       "  </tbody>\n",
       "</table>\n",
       "</div>"
      ],
      "text/plain": [
       "   RANK          MODEL_ID FEATURE_SELECTION  ACCURACY  MICRO-PRECISION  \\\n",
       "0     1         XGBOOST_1               rfe  0.953125         0.953125   \n",
       "1     2         XGBOOST_0             lasso  0.890625         0.890625   \n",
       "2     3         XGBOOST_3             lasso  0.890625         0.890625   \n",
       "3     4  DECISIONFOREST_0             lasso  0.796875         0.796875   \n",
       "4     5         XGBOOST_2               pca  0.777778         0.777778   \n",
       "5     6  DECISIONFOREST_3             lasso  0.765625         0.765625   \n",
       "6     7  DECISIONFOREST_1               rfe  0.765625         0.765625   \n",
       "7     8  DECISIONFOREST_2               pca  0.555556         0.555556   \n",
       "\n",
       "   MICRO-RECALL  MICRO-F1  MACRO-PRECISION  MACRO-RECALL  MACRO-F1  \\\n",
       "0      0.953125  0.953125         0.952441      0.951178  0.951147   \n",
       "1      0.890625  0.890625         0.902778      0.890572  0.882312   \n",
       "2      0.890625  0.890625         0.902778      0.890572  0.882312   \n",
       "3      0.796875  0.796875         0.803419      0.796296  0.776592   \n",
       "4      0.777778  0.777778         0.906061      0.822601  0.833124   \n",
       "5      0.765625  0.765625         0.775000      0.765993  0.755496   \n",
       "6      0.765625  0.765625         0.757107      0.759259  0.745254   \n",
       "7      0.555556  0.555556         0.568750      0.476641  0.421368   \n",
       "\n",
       "   WEIGHTED-PRECISION  WEIGHTED-RECALL  WEIGHTED-F1  \n",
       "0            0.954427         0.953125     0.953093  \n",
       "1            0.910156         0.890625     0.886075  \n",
       "2            0.910156         0.890625     0.886075  \n",
       "3            0.811699         0.796875     0.780974  \n",
       "4            0.810774         0.777778     0.769470  \n",
       "5            0.783594         0.765625     0.760083  \n",
       "6            0.766562         0.765625     0.752918  \n",
       "7            0.638426         0.555556     0.534283  "
      ]
     },
     "execution_count": 17,
     "metadata": {},
     "output_type": "execute_result"
    }
   ],
   "source": [
    "# Fetching Leaderboard\n",
    "aml.leaderboard()"
   ]
  },
  {
   "cell_type": "markdown",
   "id": "a7a3aa08-e349-4a61-9217-2c17d50411d8",
   "metadata": {},
   "source": [
    "## <b><span style='color:#F1A424'>| 4.</span> Best Performing Model : </b>"
   ]
  },
  {
   "cell_type": "code",
   "execution_count": 18,
   "id": "c4c32832-a76b-4f42-826a-cefc38a6301b",
   "metadata": {},
   "outputs": [
    {
     "data": {
      "text/html": [
       "<div>\n",
       "<style scoped>\n",
       "    .dataframe tbody tr th:only-of-type {\n",
       "        vertical-align: middle;\n",
       "    }\n",
       "\n",
       "    .dataframe tbody tr th {\n",
       "        vertical-align: top;\n",
       "    }\n",
       "\n",
       "    .dataframe thead th {\n",
       "        text-align: right;\n",
       "    }\n",
       "</style>\n",
       "<table border=\"1\" class=\"dataframe\">\n",
       "  <thead>\n",
       "    <tr style=\"text-align: right;\">\n",
       "      <th></th>\n",
       "      <th>RANK</th>\n",
       "      <th>MODEL_ID</th>\n",
       "      <th>FEATURE_SELECTION</th>\n",
       "      <th>ACCURACY</th>\n",
       "      <th>MICRO-PRECISION</th>\n",
       "      <th>MICRO-RECALL</th>\n",
       "      <th>MICRO-F1</th>\n",
       "      <th>MACRO-PRECISION</th>\n",
       "      <th>MACRO-RECALL</th>\n",
       "      <th>MACRO-F1</th>\n",
       "      <th>WEIGHTED-PRECISION</th>\n",
       "      <th>WEIGHTED-RECALL</th>\n",
       "      <th>WEIGHTED-F1</th>\n",
       "    </tr>\n",
       "  </thead>\n",
       "  <tbody>\n",
       "    <tr>\n",
       "      <th>0</th>\n",
       "      <td>1</td>\n",
       "      <td>XGBOOST_1</td>\n",
       "      <td>rfe</td>\n",
       "      <td>0.953125</td>\n",
       "      <td>0.953125</td>\n",
       "      <td>0.953125</td>\n",
       "      <td>0.953125</td>\n",
       "      <td>0.952441</td>\n",
       "      <td>0.951178</td>\n",
       "      <td>0.951147</td>\n",
       "      <td>0.954427</td>\n",
       "      <td>0.953125</td>\n",
       "      <td>0.953093</td>\n",
       "    </tr>\n",
       "  </tbody>\n",
       "</table>\n",
       "</div>"
      ],
      "text/plain": [
       "   RANK   MODEL_ID FEATURE_SELECTION  ACCURACY  MICRO-PRECISION  MICRO-RECALL  \\\n",
       "0     1  XGBOOST_1               rfe  0.953125         0.953125      0.953125   \n",
       "\n",
       "   MICRO-F1  MACRO-PRECISION  MACRO-RECALL  MACRO-F1  WEIGHTED-PRECISION  \\\n",
       "0  0.953125         0.952441      0.951178  0.951147            0.954427   \n",
       "\n",
       "   WEIGHTED-RECALL  WEIGHTED-F1  \n",
       "0         0.953125     0.953093  "
      ]
     },
     "metadata": {},
     "output_type": "display_data"
    }
   ],
   "source": [
    "# Fetching best performing model for dataset\n",
    "aml.leader()"
   ]
  },
  {
   "cell_type": "markdown",
   "id": "bd56ced8-1625-4f64-81c0-217104e285af",
   "metadata": {},
   "source": [
    "## <b><span style='color:#F1A424'>| 5.</span> Get Hyperparameter for Trained Model : </b>"
   ]
  },
  {
   "cell_type": "code",
   "execution_count": 19,
   "id": "46f6c97f-129c-44c2-a4e2-45389c96cf9d",
   "metadata": {},
   "outputs": [
    {
     "data": {
      "text/plain": [
       "{'response_column': 'gtype',\n",
       " 'name': 'xgboost',\n",
       " 'model_type': 'Classification',\n",
       " 'column_sampling': 1,\n",
       " 'min_impurity': 0.0,\n",
       " 'lambda1': 0.01,\n",
       " 'shrinkage_factor': 0.5,\n",
       " 'max_depth': 5,\n",
       " 'min_node_size': 1,\n",
       " 'iter_num': 10,\n",
       " 'seed': 42,\n",
       " 'persist': False,\n",
       " 'output_prob': True,\n",
       " 'output_responses': ['1', '7', '6', '3', '2', '5']}"
      ]
     },
     "execution_count": 19,
     "metadata": {},
     "output_type": "execute_result"
    }
   ],
   "source": [
    "aml.model_hyperparameters(rank=1)"
   ]
  },
  {
   "cell_type": "code",
   "execution_count": 20,
   "id": "61ed6a45-e415-4836-bfb6-fa34a8c4baa5",
   "metadata": {
    "tags": []
   },
   "outputs": [
    {
     "data": {
      "text/plain": [
       "{'response_column': 'gtype',\n",
       " 'name': 'decision_forest',\n",
       " 'tree_type': 'Classification',\n",
       " 'min_impurity': 0.0,\n",
       " 'max_depth': 5,\n",
       " 'min_node_size': 1,\n",
       " 'num_trees': -1,\n",
       " 'seed': 42,\n",
       " 'persist': False,\n",
       " 'output_prob': True,\n",
       " 'output_responses': ['1', '7', '6', '3', '2', '5']}"
      ]
     },
     "execution_count": 20,
     "metadata": {},
     "output_type": "execute_result"
    }
   ],
   "source": [
    "aml.model_hyperparameters(rank=4)"
   ]
  },
  {
   "cell_type": "markdown",
   "id": "876e901e-c6c7-406f-be68-4007bf586144",
   "metadata": {},
   "source": [
    "## <b><span style='color:#F1A424'>| 6.</span> Generate Prediction and Performance Metrics : </b>"
   ]
  },
  {
   "cell_type": "code",
   "execution_count": 21,
   "id": "5b6edfe3-bd5a-46bd-ad80-b20fadfed7a0",
   "metadata": {
    "tags": []
   },
   "outputs": [
    {
     "name": "stdout",
     "output_type": "stream",
     "text": [
      "Data Transformation started ...\n",
      "                                                                                                \r"
     ]
    },
    {
     "data": {
      "text/html": [
       "Performing transformation carried out in feature engineering phase ..."
      ],
      "text/plain": [
       "<IPython.core.display.HTML object>"
      ]
     },
     "metadata": {},
     "output_type": "display_data"
    },
    {
     "name": "stdout",
     "output_type": "stream",
     "text": [
      "                                                                                                 \r"
     ]
    },
    {
     "data": {
      "text/html": [
       "\n",
       "Updated dataset after performing target column transformation :"
      ],
      "text/plain": [
       "<IPython.core.display.HTML object>"
      ]
     },
     "metadata": {},
     "output_type": "display_data"
    },
    {
     "data": {
      "text/html": [
       "<style type=\"text/css\">\n",
       "\ttable {border:ridge 5px;}\n",
       "\ttable td {border:inset 1px;}\n",
       "\ttable tr#HeaderRow {background-color:grey; color:white;}</style>\n",
       "<html><table>\n",
       "\t<tr id=\"HeaderRow\">\n",
       "\t\t<th>si</th>\n",
       "\t\t<th>mg</th>\n",
       "\t\t<th>id</th>\n",
       "\t\t<th>ba</th>\n",
       "\t\t<th>ri</th>\n",
       "\t\t<th>k</th>\n",
       "\t\t<th>fe</th>\n",
       "\t\t<th>ca</th>\n",
       "\t\t<th>na</th>\n",
       "\t\t<th>ai</th>\n",
       "\t\t<th>gtype</th>\n",
       "\t</tr>\n",
       "\t<tr>\n",
       "\t\t<td>72.4</td>\n",
       "\t\t<td>3.76</td>\n",
       "\t\t<td>8</td>\n",
       "\t\t<td>0.0</td>\n",
       "\t\t<td>1.51844</td>\n",
       "\t\t<td>0.58</td>\n",
       "\t\t<td>0.0</td>\n",
       "\t\t<td>8.42</td>\n",
       "\t\t<td>13.25</td>\n",
       "\t\t<td>1.32</td>\n",
       "\t\t<td>2</td>\n",
       "\t</tr>\n",
       "\t<tr>\n",
       "\t\t<td>72.72</td>\n",
       "\t\t<td>3.37</td>\n",
       "\t\t<td>15</td>\n",
       "\t\t<td>0.0</td>\n",
       "\t\t<td>1.51869</td>\n",
       "\t\t<td>0.57</td>\n",
       "\t\t<td>0.16</td>\n",
       "\t\t<td>8.83</td>\n",
       "\t\t<td>13.19</td>\n",
       "\t\t<td>1.18</td>\n",
       "\t\t<td>1</td>\n",
       "\t</tr>\n",
       "\t<tr>\n",
       "\t\t<td>72.86</td>\n",
       "\t\t<td>0.0</td>\n",
       "\t\t<td>23</td>\n",
       "\t\t<td>2.88</td>\n",
       "\t\t<td>1.51831</td>\n",
       "\t\t<td>1.41</td>\n",
       "\t\t<td>0.0</td>\n",
       "\t\t<td>6.47</td>\n",
       "\t\t<td>14.39</td>\n",
       "\t\t<td>1.82</td>\n",
       "\t\t<td>7</td>\n",
       "\t</tr>\n",
       "\t<tr>\n",
       "\t\t<td>73.02</td>\n",
       "\t\t<td>3.57</td>\n",
       "\t\t<td>9</td>\n",
       "\t\t<td>0.0</td>\n",
       "\t\t<td>1.51751</td>\n",
       "\t\t<td>0.62</td>\n",
       "\t\t<td>0.0</td>\n",
       "\t\t<td>8.59</td>\n",
       "\t\t<td>12.81</td>\n",
       "\t\t<td>1.35</td>\n",
       "\t\t<td>1</td>\n",
       "\t</tr>\n",
       "\t<tr>\n",
       "\t\t<td>72.7</td>\n",
       "\t\t<td>3.57</td>\n",
       "\t\t<td>13</td>\n",
       "\t\t<td>0.0</td>\n",
       "\t\t<td>1.5167</td>\n",
       "\t\t<td>0.56</td>\n",
       "\t\t<td>0.1</td>\n",
       "\t\t<td>8.44</td>\n",
       "\t\t<td>13.24</td>\n",
       "\t\t<td>1.38</td>\n",
       "\t\t<td>3</td>\n",
       "\t</tr>\n",
       "\t<tr>\n",
       "\t\t<td>73.09</td>\n",
       "\t\t<td>3.6</td>\n",
       "\t\t<td>21</td>\n",
       "\t\t<td>0.0</td>\n",
       "\t\t<td>1.51743</td>\n",
       "\t\t<td>0.58</td>\n",
       "\t\t<td>0.0</td>\n",
       "\t\t<td>8.17</td>\n",
       "\t\t<td>13.3</td>\n",
       "\t\t<td>1.14</td>\n",
       "\t\t<td>1</td>\n",
       "\t</tr>\n",
       "\t<tr>\n",
       "\t\t<td>72.19</td>\n",
       "\t\t<td>1.01</td>\n",
       "\t\t<td>10</td>\n",
       "\t\t<td>0.0</td>\n",
       "\t\t<td>1.52177</td>\n",
       "\t\t<td>0.33</td>\n",
       "\t\t<td>0.0</td>\n",
       "\t\t<td>11.14</td>\n",
       "\t\t<td>13.75</td>\n",
       "\t\t<td>1.36</td>\n",
       "\t\t<td>2</td>\n",
       "\t</tr>\n",
       "\t<tr>\n",
       "\t\t<td>71.81</td>\n",
       "\t\t<td>3.93</td>\n",
       "\t\t<td>18</td>\n",
       "\t\t<td>0.0</td>\n",
       "\t\t<td>1.518</td>\n",
       "\t\t<td>0.54</td>\n",
       "\t\t<td>0.15</td>\n",
       "\t\t<td>8.21</td>\n",
       "\t\t<td>13.71</td>\n",
       "\t\t<td>1.54</td>\n",
       "\t\t<td>2</td>\n",
       "\t</tr>\n",
       "\t<tr>\n",
       "\t\t<td>72.32</td>\n",
       "\t\t<td>3.65</td>\n",
       "\t\t<td>14</td>\n",
       "\t\t<td>0.0</td>\n",
       "\t\t<td>1.52152</td>\n",
       "\t\t<td>0.19</td>\n",
       "\t\t<td>0.17</td>\n",
       "\t\t<td>9.85</td>\n",
       "\t\t<td>13.05</td>\n",
       "\t\t<td>0.87</td>\n",
       "\t\t<td>1</td>\n",
       "\t</tr>\n",
       "\t<tr>\n",
       "\t\t<td>73.29</td>\n",
       "\t\t<td>3.59</td>\n",
       "\t\t<td>22</td>\n",
       "\t\t<td>0.0</td>\n",
       "\t\t<td>1.51763</td>\n",
       "\t\t<td>0.58</td>\n",
       "\t\t<td>0.0</td>\n",
       "\t\t<td>8.5</td>\n",
       "\t\t<td>12.61</td>\n",
       "\t\t<td>1.31</td>\n",
       "\t\t<td>1</td>\n",
       "\t</tr>\n",
       "</table></html>"
      ],
      "text/plain": [
       "      si    mg  id    ba       ri     k    fe     ca     na    ai  gtype\n",
       "0  72.40  3.76   8  0.00  1.51844  0.58  0.00   8.42  13.25  1.32      2\n",
       "1  72.72  3.37  15  0.00  1.51869  0.57  0.16   8.83  13.19  1.18      1\n",
       "2  72.86  0.00  23  2.88  1.51831  1.41  0.00   6.47  14.39  1.82      7\n",
       "3  73.02  3.57   9  0.00  1.51751  0.62  0.00   8.59  12.81  1.35      1\n",
       "4  72.70  3.57  13  0.00  1.51670  0.56  0.10   8.44  13.24  1.38      3\n",
       "5  73.09  3.60  21  0.00  1.51743  0.58  0.00   8.17  13.30  1.14      1\n",
       "6  72.19  1.01  10  0.00  1.52177  0.33  0.00  11.14  13.75  1.36      2\n",
       "7  71.81  3.93  18  0.00  1.51800  0.54  0.15   8.21  13.71  1.54      2\n",
       "8  72.32  3.65  14  0.00  1.52152  0.19  0.17   9.85  13.05  0.87      1\n",
       "9  73.29  3.59  22  0.00  1.51763  0.58  0.00   8.50  12.61  1.31      1"
      ]
     },
     "metadata": {},
     "output_type": "display_data"
    },
    {
     "name": "stdout",
     "output_type": "stream",
     "text": [
      "                                                                                                 \r"
     ]
    },
    {
     "data": {
      "text/html": [
       "43 rows X 11 columns"
      ],
      "text/plain": [
       "<IPython.core.display.HTML object>"
      ]
     },
     "metadata": {},
     "output_type": "display_data"
    },
    {
     "name": "stdout",
     "output_type": "stream",
     "text": [
      "                                                                                                 \r"
     ]
    },
    {
     "data": {
      "text/html": [
       "Performing transformation carried out in data preparation phase ..."
      ],
      "text/plain": [
       "<IPython.core.display.HTML object>"
      ]
     },
     "metadata": {},
     "output_type": "display_data"
    },
    {
     "name": "stdout",
     "output_type": "stream",
     "text": [
      "                                                                                                 \r"
     ]
    },
    {
     "data": {
      "text/html": [
       "\n",
       "Updated dataset after performing Lasso feature selection:"
      ],
      "text/plain": [
       "<IPython.core.display.HTML object>"
      ]
     },
     "metadata": {},
     "output_type": "display_data"
    },
    {
     "data": {
      "text/html": [
       "<style type=\"text/css\">\n",
       "\ttable {border:ridge 5px;}\n",
       "\ttable td {border:inset 1px;}\n",
       "\ttable tr#HeaderRow {background-color:grey; color:white;}</style>\n",
       "<html><table>\n",
       "\t<tr id=\"HeaderRow\">\n",
       "\t\t<th>id</th>\n",
       "\t\t<th>si</th>\n",
       "\t\t<th>mg</th>\n",
       "\t\t<th>ri</th>\n",
       "\t\t<th>k</th>\n",
       "\t\t<th>fe</th>\n",
       "\t\t<th>ca</th>\n",
       "\t\t<th>na</th>\n",
       "\t\t<th>ai</th>\n",
       "\t\t<th>gtype</th>\n",
       "\t</tr>\n",
       "\t<tr>\n",
       "\t\t<td>40</td>\n",
       "\t\t<td>72.02</td>\n",
       "\t\t<td>3.75</td>\n",
       "\t\t<td>1.5197</td>\n",
       "\t\t<td>0.03</td>\n",
       "\t\t<td>0.0</td>\n",
       "\t\t<td>9.0</td>\n",
       "\t\t<td>14.77</td>\n",
       "\t\t<td>0.29</td>\n",
       "\t\t<td>1</td>\n",
       "\t</tr>\n",
       "\t<tr>\n",
       "\t\t<td>17</td>\n",
       "\t\t<td>73.27</td>\n",
       "\t\t<td>2.85</td>\n",
       "\t\t<td>1.5166</td>\n",
       "\t\t<td>0.57</td>\n",
       "\t\t<td>0.22</td>\n",
       "\t\t<td>8.79</td>\n",
       "\t\t<td>12.75</td>\n",
       "\t\t<td>1.44</td>\n",
       "\t\t<td>2</td>\n",
       "\t</tr>\n",
       "\t<tr>\n",
       "\t\t<td>34</td>\n",
       "\t\t<td>71.72</td>\n",
       "\t\t<td>3.58</td>\n",
       "\t\t<td>1.5198</td>\n",
       "\t\t<td>0.12</td>\n",
       "\t\t<td>0.0</td>\n",
       "\t\t<td>8.67</td>\n",
       "\t\t<td>13.81</td>\n",
       "\t\t<td>1.32</td>\n",
       "\t\t<td>1</td>\n",
       "\t</tr>\n",
       "\t<tr>\n",
       "\t\t<td>36</td>\n",
       "\t\t<td>72.77</td>\n",
       "\t\t<td>3.66</td>\n",
       "\t\t<td>1.5177</td>\n",
       "\t\t<td>0.11</td>\n",
       "\t\t<td>0.0</td>\n",
       "\t\t<td>8.6</td>\n",
       "\t\t<td>13.65</td>\n",
       "\t\t<td>1.11</td>\n",
       "\t\t<td>3</td>\n",
       "\t</tr>\n",
       "\t<tr>\n",
       "\t\t<td>49</td>\n",
       "\t\t<td>73.1</td>\n",
       "\t\t<td>0.0</td>\n",
       "\t\t<td>1.5153</td>\n",
       "\t\t<td>0.04</td>\n",
       "\t\t<td>0.0</td>\n",
       "\t\t<td>9.08</td>\n",
       "\t\t<td>14.38</td>\n",
       "\t\t<td>2.66</td>\n",
       "\t\t<td>7</td>\n",
       "\t</tr>\n",
       "\t<tr>\n",
       "\t\t<td>41</td>\n",
       "\t\t<td>73.28</td>\n",
       "\t\t<td>0.0</td>\n",
       "\t\t<td>1.516</td>\n",
       "\t\t<td>0.0</td>\n",
       "\t\t<td>0.09</td>\n",
       "\t\t<td>8.76</td>\n",
       "\t\t<td>14.85</td>\n",
       "\t\t<td>2.38</td>\n",
       "\t\t<td>7</td>\n",
       "\t</tr>\n",
       "\t<tr>\n",
       "\t\t<td>19</td>\n",
       "\t\t<td>72.65</td>\n",
       "\t\t<td>3.54</td>\n",
       "\t\t<td>1.5193</td>\n",
       "\t\t<td>0.16</td>\n",
       "\t\t<td>0.24</td>\n",
       "\t\t<td>8.89</td>\n",
       "\t\t<td>13.64</td>\n",
       "\t\t<td>0.75</td>\n",
       "\t\t<td>3</td>\n",
       "\t</tr>\n",
       "\t<tr>\n",
       "\t\t<td>30</td>\n",
       "\t\t<td>71.25</td>\n",
       "\t\t<td>3.26</td>\n",
       "\t\t<td>1.5184</td>\n",
       "\t\t<td>1.46</td>\n",
       "\t\t<td>0.0</td>\n",
       "\t\t<td>5.79</td>\n",
       "\t\t<td>14.32</td>\n",
       "\t\t<td>2.22</td>\n",
       "\t\t<td>7</td>\n",
       "\t</tr>\n",
       "\t<tr>\n",
       "\t\t<td>38</td>\n",
       "\t\t<td>72.52</td>\n",
       "\t\t<td>3.48</td>\n",
       "\t\t<td>1.5171</td>\n",
       "\t\t<td>0.62</td>\n",
       "\t\t<td>0.0</td>\n",
       "\t\t<td>7.99</td>\n",
       "\t\t<td>13.48</td>\n",
       "\t\t<td>1.71</td>\n",
       "\t\t<td>2</td>\n",
       "\t</tr>\n",
       "\t<tr>\n",
       "\t\t<td>12</td>\n",
       "\t\t<td>72.99</td>\n",
       "\t\t<td>3.55</td>\n",
       "\t\t<td>1.5162</td>\n",
       "\t\t<td>0.39</td>\n",
       "\t\t<td>0.0</td>\n",
       "\t\t<td>7.78</td>\n",
       "\t\t<td>13.53</td>\n",
       "\t\t<td>1.54</td>\n",
       "\t\t<td>1</td>\n",
       "\t</tr>\n",
       "</table></html>"
      ],
      "text/plain": [
       "       si    mg      ri     k    fe    ca     na    ai  gtype\n",
       "id                                                           \n",
       "40  72.02  3.75  1.5197  0.03  0.00  9.00  14.77  0.29      1\n",
       "17  73.27  2.85  1.5166  0.57  0.22  8.79  12.75  1.44      2\n",
       "34  71.72  3.58  1.5198  0.12  0.00  8.67  13.81  1.32      1\n",
       "36  72.77  3.66  1.5177  0.11  0.00  8.60  13.65  1.11      3\n",
       "49  73.10  0.00  1.5153  0.04  0.00  9.08  14.38  2.66      7\n",
       "41  73.28  0.00  1.5160  0.00  0.09  8.76  14.85  2.38      7\n",
       "19  72.65  3.54  1.5193  0.16  0.24  8.89  13.64  0.75      3\n",
       "30  71.25  3.26  1.5184  1.46  0.00  5.79  14.32  2.22      7\n",
       "38  72.52  3.48  1.5171  0.62  0.00  7.99  13.48  1.71      2\n",
       "12  72.99  3.55  1.5162  0.39  0.00  7.78  13.53  1.54      1"
      ]
     },
     "metadata": {},
     "output_type": "display_data"
    },
    {
     "name": "stdout",
     "output_type": "stream",
     "text": [
      "                                                                                                 \r"
     ]
    },
    {
     "data": {
      "text/html": [
       "43 rows X 10 columns"
      ],
      "text/plain": [
       "<IPython.core.display.HTML object>"
      ]
     },
     "metadata": {},
     "output_type": "display_data"
    },
    {
     "name": "stdout",
     "output_type": "stream",
     "text": [
      "                                                                                                 \r"
     ]
    },
    {
     "data": {
      "text/html": [
       "\n",
       "Updated dataset after performing scaling on Lasso selected features :"
      ],
      "text/plain": [
       "<IPython.core.display.HTML object>"
      ]
     },
     "metadata": {},
     "output_type": "display_data"
    },
    {
     "data": {
      "text/html": [
       "<style type=\"text/css\">\n",
       "\ttable {border:ridge 5px;}\n",
       "\ttable td {border:inset 1px;}\n",
       "\ttable tr#HeaderRow {background-color:grey; color:white;}</style>\n",
       "<html><table>\n",
       "\t<tr id=\"HeaderRow\">\n",
       "\t\t<th>id</th>\n",
       "\t\t<th>gtype</th>\n",
       "\t\t<th>si</th>\n",
       "\t\t<th>mg</th>\n",
       "\t\t<th>ri</th>\n",
       "\t\t<th>k</th>\n",
       "\t\t<th>fe</th>\n",
       "\t\t<th>ca</th>\n",
       "\t\t<th>na</th>\n",
       "\t\t<th>ai</th>\n",
       "\t</tr>\n",
       "\t<tr>\n",
       "\t\t<td>19</td>\n",
       "\t\t<td>3</td>\n",
       "\t\t<td>0.5138339920948659</td>\n",
       "\t\t<td>0.7884187082405345</td>\n",
       "\t\t<td>0.571428571428575</td>\n",
       "\t\t<td>0.14545454545454545</td>\n",
       "\t\t<td>0.96</td>\n",
       "\t\t<td>0.5857605177993529</td>\n",
       "\t\t<td>0.5304659498207889</td>\n",
       "\t\t<td>0.13636363636363635</td>\n",
       "\t</tr>\n",
       "\t<tr>\n",
       "\t\t<td>26</td>\n",
       "\t\t<td>7</td>\n",
       "\t\t<td>0.8932806324110688</td>\n",
       "\t\t<td>0.0</td>\n",
       "\t\t<td>0.26373626373625597</td>\n",
       "\t\t<td>0.0</td>\n",
       "\t\t<td>0.0</td>\n",
       "\t\t<td>0.45307443365695804</td>\n",
       "\t\t<td>0.7956989247311833</td>\n",
       "\t\t<td>0.8125</td>\n",
       "\t</tr>\n",
       "\t<tr>\n",
       "\t\t<td>43</td>\n",
       "\t\t<td>3</td>\n",
       "\t\t<td>0.5296442687747047</td>\n",
       "\t\t<td>0.7572383073496659</td>\n",
       "\t\t<td>0.21978021978021736</td>\n",
       "\t\t<td>0.5363636363636363</td>\n",
       "\t\t<td>0.0</td>\n",
       "\t\t<td>0.4012944983818771</td>\n",
       "\t\t<td>0.4516129032258065</td>\n",
       "\t\t<td>0.4034090909090909</td>\n",
       "\t</tr>\n",
       "\t<tr>\n",
       "\t\t<td>17</td>\n",
       "\t\t<td>2</td>\n",
       "\t\t<td>0.7588932806324113</td>\n",
       "\t\t<td>0.6347438752783964</td>\n",
       "\t\t<td>0.2747252747252656</td>\n",
       "\t\t<td>0.5181818181818181</td>\n",
       "\t\t<td>0.88</td>\n",
       "\t\t<td>0.5533980582524269</td>\n",
       "\t\t<td>0.21146953405017924</td>\n",
       "\t\t<td>0.5284090909090908</td>\n",
       "\t</tr>\n",
       "\t<tr>\n",
       "\t\t<td>15</td>\n",
       "\t\t<td>1</td>\n",
       "\t\t<td>0.5415019762845865</td>\n",
       "\t\t<td>0.7505567928730512</td>\n",
       "\t\t<td>0.5054945054944926</td>\n",
       "\t\t<td>0.5181818181818181</td>\n",
       "\t\t<td>0.64</td>\n",
       "\t\t<td>0.5663430420711975</td>\n",
       "\t\t<td>0.36917562724014324</td>\n",
       "\t\t<td>0.3806818181818181</td>\n",
       "\t</tr>\n",
       "\t<tr>\n",
       "\t\t<td>32</td>\n",
       "\t\t<td>1</td>\n",
       "\t\t<td>0.16600790513834052</td>\n",
       "\t\t<td>0.8507795100222716</td>\n",
       "\t\t<td>0.8791208791208694</td>\n",
       "\t\t<td>0.09999999999999999</td>\n",
       "\t\t<td>0.0</td>\n",
       "\t\t<td>0.8058252427184467</td>\n",
       "\t\t<td>0.7347670250896062</td>\n",
       "\t\t<td>-0.02272727272727275</td>\n",
       "\t</tr>\n",
       "\t<tr>\n",
       "\t\t<td>36</td>\n",
       "\t\t<td>3</td>\n",
       "\t\t<td>0.5612648221343878</td>\n",
       "\t\t<td>0.8151447661469933</td>\n",
       "\t\t<td>0.39560439560439614</td>\n",
       "\t\t<td>0.09999999999999999</td>\n",
       "\t\t<td>0.0</td>\n",
       "\t\t<td>0.4919093851132685</td>\n",
       "\t\t<td>0.5340501792114698</td>\n",
       "\t\t<td>0.34090909090909094</td>\n",
       "\t</tr>\n",
       "\t<tr>\n",
       "\t\t<td>28</td>\n",
       "\t\t<td>1</td>\n",
       "\t\t<td>0.632411067193679</td>\n",
       "\t\t<td>0.7884187082405345</td>\n",
       "\t\t<td>0.4065934065934058</td>\n",
       "\t\t<td>0.5181818181818181</td>\n",
       "\t\t<td>0.0</td>\n",
       "\t\t<td>0.540453074433657</td>\n",
       "\t\t<td>0.189964157706093</td>\n",
       "\t\t<td>0.4715909090909091</td>\n",
       "\t</tr>\n",
       "\t<tr>\n",
       "\t\t<td>38</td>\n",
       "\t\t<td>2</td>\n",
       "\t\t<td>0.46245059288537593</td>\n",
       "\t\t<td>0.7750556792873051</td>\n",
       "\t\t<td>0.32967032967031384</td>\n",
       "\t\t<td>0.5636363636363636</td>\n",
       "\t\t<td>0.0</td>\n",
       "\t\t<td>0.2944983818770227</td>\n",
       "\t\t<td>0.4731182795698927</td>\n",
       "\t\t<td>0.6818181818181818</td>\n",
       "\t</tr>\n",
       "\t<tr>\n",
       "\t\t<td>12</td>\n",
       "\t\t<td>1</td>\n",
       "\t\t<td>0.6482213438735177</td>\n",
       "\t\t<td>0.7906458797327394</td>\n",
       "\t\t<td>0.230769230769227</td>\n",
       "\t\t<td>0.35454545454545455</td>\n",
       "\t\t<td>0.0</td>\n",
       "\t\t<td>0.22653721682847902</td>\n",
       "\t\t<td>0.49103942652329735</td>\n",
       "\t\t<td>0.5852272727272727</td>\n",
       "\t</tr>\n",
       "</table></html>"
      ],
      "text/plain": [
       "   id  gtype        si        mg        ri         k    fe        ca        na        ai\n",
       "0  19      3  0.513834  0.788419  0.571429  0.145455  0.96  0.585761  0.530466  0.136364\n",
       "1  26      7  0.893281  0.000000  0.263736  0.000000  0.00  0.453074  0.795699  0.812500\n",
       "2  43      3  0.529644  0.757238  0.219780  0.536364  0.00  0.401294  0.451613  0.403409\n",
       "3  17      2  0.758893  0.634744  0.274725  0.518182  0.88  0.553398  0.211470  0.528409\n",
       "4  15      1  0.541502  0.750557  0.505495  0.518182  0.64  0.566343  0.369176  0.380682\n",
       "5  32      1  0.166008  0.850780  0.879121  0.100000  0.00  0.805825  0.734767 -0.022727\n",
       "6  36      3  0.561265  0.815145  0.395604  0.100000  0.00  0.491909  0.534050  0.340909\n",
       "7  28      1  0.632411  0.788419  0.406593  0.518182  0.00  0.540453  0.189964  0.471591\n",
       "8  38      2  0.462451  0.775056  0.329670  0.563636  0.00  0.294498  0.473118  0.681818\n",
       "9  12      1  0.648221  0.790646  0.230769  0.354545  0.00  0.226537  0.491039  0.585227"
      ]
     },
     "metadata": {},
     "output_type": "display_data"
    },
    {
     "name": "stdout",
     "output_type": "stream",
     "text": [
      "                                                                                                 \r"
     ]
    },
    {
     "data": {
      "text/html": [
       "43 rows X 10 columns"
      ],
      "text/plain": [
       "<IPython.core.display.HTML object>"
      ]
     },
     "metadata": {},
     "output_type": "display_data"
    },
    {
     "name": "stdout",
     "output_type": "stream",
     "text": [
      "                                                                                                 \r"
     ]
    },
    {
     "data": {
      "text/html": [
       "\n",
       "Updated dataset after performing RFE feature selection:"
      ],
      "text/plain": [
       "<IPython.core.display.HTML object>"
      ]
     },
     "metadata": {},
     "output_type": "display_data"
    },
    {
     "data": {
      "text/html": [
       "<style type=\"text/css\">\n",
       "\ttable {border:ridge 5px;}\n",
       "\ttable td {border:inset 1px;}\n",
       "\ttable tr#HeaderRow {background-color:grey; color:white;}</style>\n",
       "<html><table>\n",
       "\t<tr id=\"HeaderRow\">\n",
       "\t\t<th>id</th>\n",
       "\t\t<th>ri</th>\n",
       "\t\t<th>na</th>\n",
       "\t\t<th>mg</th>\n",
       "\t\t<th>si</th>\n",
       "\t\t<th>k</th>\n",
       "\t\t<th>gtype</th>\n",
       "\t</tr>\n",
       "\t<tr>\n",
       "\t\t<td>26</td>\n",
       "\t\t<td>1.5165</td>\n",
       "\t\t<td>14.38</td>\n",
       "\t\t<td>0.0</td>\n",
       "\t\t<td>73.61</td>\n",
       "\t\t<td>0.0</td>\n",
       "\t\t<td>7</td>\n",
       "\t</tr>\n",
       "\t<tr>\n",
       "\t\t<td>17</td>\n",
       "\t\t<td>1.5166</td>\n",
       "\t\t<td>12.75</td>\n",
       "\t\t<td>2.85</td>\n",
       "\t\t<td>73.27</td>\n",
       "\t\t<td>0.57</td>\n",
       "\t\t<td>2</td>\n",
       "\t</tr>\n",
       "\t<tr>\n",
       "\t\t<td>34</td>\n",
       "\t\t<td>1.5198</td>\n",
       "\t\t<td>13.81</td>\n",
       "\t\t<td>3.58</td>\n",
       "\t\t<td>71.72</td>\n",
       "\t\t<td>0.12</td>\n",
       "\t\t<td>1</td>\n",
       "\t</tr>\n",
       "\t<tr>\n",
       "\t\t<td>15</td>\n",
       "\t\t<td>1.5187</td>\n",
       "\t\t<td>13.19</td>\n",
       "\t\t<td>3.37</td>\n",
       "\t\t<td>72.72</td>\n",
       "\t\t<td>0.57</td>\n",
       "\t\t<td>1</td>\n",
       "\t</tr>\n",
       "\t<tr>\n",
       "\t\t<td>49</td>\n",
       "\t\t<td>1.5153</td>\n",
       "\t\t<td>14.38</td>\n",
       "\t\t<td>0.0</td>\n",
       "\t\t<td>73.1</td>\n",
       "\t\t<td>0.04</td>\n",
       "\t\t<td>7</td>\n",
       "\t</tr>\n",
       "\t<tr>\n",
       "\t\t<td>41</td>\n",
       "\t\t<td>1.516</td>\n",
       "\t\t<td>14.85</td>\n",
       "\t\t<td>0.0</td>\n",
       "\t\t<td>73.28</td>\n",
       "\t\t<td>0.0</td>\n",
       "\t\t<td>7</td>\n",
       "\t</tr>\n",
       "\t<tr>\n",
       "\t\t<td>38</td>\n",
       "\t\t<td>1.5171</td>\n",
       "\t\t<td>13.48</td>\n",
       "\t\t<td>3.48</td>\n",
       "\t\t<td>72.52</td>\n",
       "\t\t<td>0.62</td>\n",
       "\t\t<td>2</td>\n",
       "\t</tr>\n",
       "\t<tr>\n",
       "\t\t<td>12</td>\n",
       "\t\t<td>1.5162</td>\n",
       "\t\t<td>13.53</td>\n",
       "\t\t<td>3.55</td>\n",
       "\t\t<td>72.99</td>\n",
       "\t\t<td>0.39</td>\n",
       "\t\t<td>1</td>\n",
       "\t</tr>\n",
       "\t<tr>\n",
       "\t\t<td>40</td>\n",
       "\t\t<td>1.5197</td>\n",
       "\t\t<td>14.77</td>\n",
       "\t\t<td>3.75</td>\n",
       "\t\t<td>72.02</td>\n",
       "\t\t<td>0.03</td>\n",
       "\t\t<td>1</td>\n",
       "\t</tr>\n",
       "\t<tr>\n",
       "\t\t<td>57</td>\n",
       "\t\t<td>1.5236</td>\n",
       "\t\t<td>15.79</td>\n",
       "\t\t<td>1.83</td>\n",
       "\t\t<td>70.43</td>\n",
       "\t\t<td>0.31</td>\n",
       "\t\t<td>7</td>\n",
       "\t</tr>\n",
       "</table></html>"
      ],
      "text/plain": [
       "        ri     na    mg     si     k  gtype\n",
       "id                                         \n",
       "26  1.5165  14.38  0.00  73.61  0.00      7\n",
       "17  1.5166  12.75  2.85  73.27  0.57      2\n",
       "34  1.5198  13.81  3.58  71.72  0.12      1\n",
       "15  1.5187  13.19  3.37  72.72  0.57      1\n",
       "49  1.5153  14.38  0.00  73.10  0.04      7\n",
       "41  1.5160  14.85  0.00  73.28  0.00      7\n",
       "38  1.5171  13.48  3.48  72.52  0.62      2\n",
       "12  1.5162  13.53  3.55  72.99  0.39      1\n",
       "40  1.5197  14.77  3.75  72.02  0.03      1\n",
       "57  1.5236  15.79  1.83  70.43  0.31      7"
      ]
     },
     "metadata": {},
     "output_type": "display_data"
    },
    {
     "name": "stdout",
     "output_type": "stream",
     "text": [
      "                                                                                                 \r"
     ]
    },
    {
     "data": {
      "text/html": [
       "43 rows X 7 columns"
      ],
      "text/plain": [
       "<IPython.core.display.HTML object>"
      ]
     },
     "metadata": {},
     "output_type": "display_data"
    },
    {
     "name": "stdout",
     "output_type": "stream",
     "text": [
      "                                                                                                 \r"
     ]
    },
    {
     "data": {
      "text/html": [
       "\n",
       "Updated dataset after performing scaling on RFE selected features :"
      ],
      "text/plain": [
       "<IPython.core.display.HTML object>"
      ]
     },
     "metadata": {},
     "output_type": "display_data"
    },
    {
     "data": {
      "text/html": [
       "<style type=\"text/css\">\n",
       "\ttable {border:ridge 5px;}\n",
       "\ttable td {border:inset 1px;}\n",
       "\ttable tr#HeaderRow {background-color:grey; color:white;}</style>\n",
       "<html><table>\n",
       "\t<tr id=\"HeaderRow\">\n",
       "\t\t<th>id</th>\n",
       "\t\t<th>gtype</th>\n",
       "\t\t<th>r_ri</th>\n",
       "\t\t<th>r_na</th>\n",
       "\t\t<th>r_mg</th>\n",
       "\t\t<th>r_si</th>\n",
       "\t\t<th>r_k</th>\n",
       "\t</tr>\n",
       "\t<tr>\n",
       "\t\t<td>49</td>\n",
       "\t\t<td>7</td>\n",
       "\t\t<td>0.13186813186814017</td>\n",
       "\t\t<td>0.7956989247311833</td>\n",
       "\t\t<td>0.0</td>\n",
       "\t\t<td>0.6916996047430827</td>\n",
       "\t\t<td>0.03636363636363636</td>\n",
       "\t</tr>\n",
       "\t<tr>\n",
       "\t\t<td>17</td>\n",
       "\t\t<td>2</td>\n",
       "\t\t<td>0.2747252747252656</td>\n",
       "\t\t<td>0.21146953405017924</td>\n",
       "\t\t<td>0.6347438752783964</td>\n",
       "\t\t<td>0.7588932806324113</td>\n",
       "\t\t<td>0.5181818181818181</td>\n",
       "\t</tr>\n",
       "\t<tr>\n",
       "\t\t<td>34</td>\n",
       "\t\t<td>1</td>\n",
       "\t\t<td>0.6263736263736231</td>\n",
       "\t\t<td>0.591397849462366</td>\n",
       "\t\t<td>0.7973273942093541</td>\n",
       "\t\t<td>0.1462450592885393</td>\n",
       "\t\t<td>0.10909090909090907</td>\n",
       "\t</tr>\n",
       "\t<tr>\n",
       "\t\t<td>36</td>\n",
       "\t\t<td>3</td>\n",
       "\t\t<td>0.39560439560439614</td>\n",
       "\t\t<td>0.5340501792114698</td>\n",
       "\t\t<td>0.8151447661469933</td>\n",
       "\t\t<td>0.5612648221343878</td>\n",
       "\t\t<td>0.09999999999999999</td>\n",
       "\t</tr>\n",
       "\t<tr>\n",
       "\t\t<td>26</td>\n",
       "\t\t<td>7</td>\n",
       "\t\t<td>0.26373626373625597</td>\n",
       "\t\t<td>0.7956989247311833</td>\n",
       "\t\t<td>0.0</td>\n",
       "\t\t<td>0.8932806324110688</td>\n",
       "\t\t<td>0.0</td>\n",
       "\t</tr>\n",
       "\t<tr>\n",
       "\t\t<td>43</td>\n",
       "\t\t<td>3</td>\n",
       "\t\t<td>0.21978021978021736</td>\n",
       "\t\t<td>0.4516129032258065</td>\n",
       "\t\t<td>0.7572383073496659</td>\n",
       "\t\t<td>0.5296442687747047</td>\n",
       "\t\t<td>0.5363636363636363</td>\n",
       "\t</tr>\n",
       "\t<tr>\n",
       "\t\t<td>19</td>\n",
       "\t\t<td>3</td>\n",
       "\t\t<td>0.571428571428575</td>\n",
       "\t\t<td>0.5304659498207889</td>\n",
       "\t\t<td>0.7884187082405345</td>\n",
       "\t\t<td>0.5138339920948659</td>\n",
       "\t\t<td>0.14545454545454545</td>\n",
       "\t</tr>\n",
       "\t<tr>\n",
       "\t\t<td>30</td>\n",
       "\t\t<td>7</td>\n",
       "\t\t<td>0.4725274725274637</td>\n",
       "\t\t<td>0.7741935483870971</td>\n",
       "\t\t<td>0.7260579064587972</td>\n",
       "\t\t<td>-0.03952569169960248</td>\n",
       "\t\t<td>1.3272727272727272</td>\n",
       "\t</tr>\n",
       "\t<tr>\n",
       "\t\t<td>15</td>\n",
       "\t\t<td>1</td>\n",
       "\t\t<td>0.5054945054944926</td>\n",
       "\t\t<td>0.36917562724014324</td>\n",
       "\t\t<td>0.7505567928730512</td>\n",
       "\t\t<td>0.5415019762845865</td>\n",
       "\t\t<td>0.5181818181818181</td>\n",
       "\t</tr>\n",
       "\t<tr>\n",
       "\t\t<td>32</td>\n",
       "\t\t<td>1</td>\n",
       "\t\t<td>0.8791208791208694</td>\n",
       "\t\t<td>0.7347670250896062</td>\n",
       "\t\t<td>0.8507795100222716</td>\n",
       "\t\t<td>0.16600790513834052</td>\n",
       "\t\t<td>0.09999999999999999</td>\n",
       "\t</tr>\n",
       "</table></html>"
      ],
      "text/plain": [
       "   id  gtype      r_ri      r_na      r_mg      r_si       r_k\n",
       "0  49      7  0.131868  0.795699  0.000000  0.691700  0.036364\n",
       "1  17      2  0.274725  0.211470  0.634744  0.758893  0.518182\n",
       "2  34      1  0.626374  0.591398  0.797327  0.146245  0.109091\n",
       "3  36      3  0.395604  0.534050  0.815145  0.561265  0.100000\n",
       "4  26      7  0.263736  0.795699  0.000000  0.893281  0.000000\n",
       "5  43      3  0.219780  0.451613  0.757238  0.529644  0.536364\n",
       "6  19      3  0.571429  0.530466  0.788419  0.513834  0.145455\n",
       "7  30      7  0.472527  0.774194  0.726058 -0.039526  1.327273\n",
       "8  15      1  0.505495  0.369176  0.750557  0.541502  0.518182\n",
       "9  32      1  0.879121  0.734767  0.850780  0.166008  0.100000"
      ]
     },
     "metadata": {},
     "output_type": "display_data"
    },
    {
     "name": "stdout",
     "output_type": "stream",
     "text": [
      "                                                                                                 \r"
     ]
    },
    {
     "data": {
      "text/html": [
       "43 rows X 7 columns"
      ],
      "text/plain": [
       "<IPython.core.display.HTML object>"
      ]
     },
     "metadata": {},
     "output_type": "display_data"
    },
    {
     "name": "stdout",
     "output_type": "stream",
     "text": [
      "                                                                                                 \r"
     ]
    },
    {
     "data": {
      "text/html": [
       "\n",
       "Updated dataset after performing scaling for PCA feature selection :"
      ],
      "text/plain": [
       "<IPython.core.display.HTML object>"
      ]
     },
     "metadata": {},
     "output_type": "display_data"
    },
    {
     "data": {
      "text/html": [
       "<style type=\"text/css\">\n",
       "\ttable {border:ridge 5px;}\n",
       "\ttable td {border:inset 1px;}\n",
       "\ttable tr#HeaderRow {background-color:grey; color:white;}</style>\n",
       "<html><table>\n",
       "\t<tr id=\"HeaderRow\">\n",
       "\t\t<th>id</th>\n",
       "\t\t<th>ba</th>\n",
       "\t\t<th>gtype</th>\n",
       "\t\t<th>ri</th>\n",
       "\t\t<th>na</th>\n",
       "\t\t<th>mg</th>\n",
       "\t\t<th>ai</th>\n",
       "\t\t<th>si</th>\n",
       "\t\t<th>k</th>\n",
       "\t\t<th>ca</th>\n",
       "\t\t<th>fe</th>\n",
       "\t</tr>\n",
       "\t<tr>\n",
       "\t\t<td>17</td>\n",
       "\t\t<td>0.11</td>\n",
       "\t\t<td>2</td>\n",
       "\t\t<td>0.2755214050493924</td>\n",
       "\t\t<td>0.21146953405017924</td>\n",
       "\t\t<td>0.6347438752783964</td>\n",
       "\t\t<td>0.5284090909090908</td>\n",
       "\t\t<td>0.7588932806324113</td>\n",
       "\t\t<td>0.5181818181818181</td>\n",
       "\t\t<td>0.5533980582524269</td>\n",
       "\t\t<td>0.88</td>\n",
       "\t</tr>\n",
       "\t<tr>\n",
       "\t\t<td>49</td>\n",
       "\t\t<td>0.64</td>\n",
       "\t\t<td>7</td>\n",
       "\t\t<td>0.13282107574095856</td>\n",
       "\t\t<td>0.7956989247311833</td>\n",
       "\t\t<td>0.0</td>\n",
       "\t\t<td>1.2215909090909094</td>\n",
       "\t\t<td>0.6916996047430827</td>\n",
       "\t\t<td>0.03636363636363636</td>\n",
       "\t\t<td>0.6472491909385114</td>\n",
       "\t\t<td>0.0</td>\n",
       "\t</tr>\n",
       "\t<tr>\n",
       "\t\t<td>41</td>\n",
       "\t\t<td>0.64</td>\n",
       "\t\t<td>7</td>\n",
       "\t\t<td>0.209659714599346</td>\n",
       "\t\t<td>0.9641577060931901</td>\n",
       "\t\t<td>0.0</td>\n",
       "\t\t<td>1.0625</td>\n",
       "\t\t<td>0.7628458498023739</td>\n",
       "\t\t<td>0.0</td>\n",
       "\t\t<td>0.5436893203883495</td>\n",
       "\t\t<td>0.36</td>\n",
       "\t</tr>\n",
       "\t<tr>\n",
       "\t\t<td>26</td>\n",
       "\t\t<td>1.57</td>\n",
       "\t\t<td>7</td>\n",
       "\t\t<td>0.2645444566410513</td>\n",
       "\t\t<td>0.7956989247311833</td>\n",
       "\t\t<td>0.0</td>\n",
       "\t\t<td>0.8125</td>\n",
       "\t\t<td>0.8932806324110688</td>\n",
       "\t\t<td>0.0</td>\n",
       "\t\t<td>0.45307443365695804</td>\n",
       "\t\t<td>0.0</td>\n",
       "\t</tr>\n",
       "\t<tr>\n",
       "\t\t<td>15</td>\n",
       "\t\t<td>0.0</td>\n",
       "\t\t<td>1</td>\n",
       "\t\t<td>0.506037321624579</td>\n",
       "\t\t<td>0.36917562724014324</td>\n",
       "\t\t<td>0.7505567928730512</td>\n",
       "\t\t<td>0.3806818181818181</td>\n",
       "\t\t<td>0.5415019762845865</td>\n",
       "\t\t<td>0.5181818181818181</td>\n",
       "\t\t<td>0.5663430420711975</td>\n",
       "\t\t<td>0.64</td>\n",
       "\t</tr>\n",
       "\t<tr>\n",
       "\t\t<td>32</td>\n",
       "\t\t<td>0.0</td>\n",
       "\t\t<td>1</td>\n",
       "\t\t<td>0.8792535675082239</td>\n",
       "\t\t<td>0.7347670250896062</td>\n",
       "\t\t<td>0.8507795100222716</td>\n",
       "\t\t<td>-0.02272727272727275</td>\n",
       "\t\t<td>0.16600790513834052</td>\n",
       "\t\t<td>0.09999999999999999</td>\n",
       "\t\t<td>0.8058252427184467</td>\n",
       "\t\t<td>0.0</td>\n",
       "\t</tr>\n",
       "\t<tr>\n",
       "\t\t<td>40</td>\n",
       "\t\t<td>0.0</td>\n",
       "\t\t<td>1</td>\n",
       "\t\t<td>0.615806805708014</td>\n",
       "\t\t<td>0.935483870967742</td>\n",
       "\t\t<td>0.8351893095768373</td>\n",
       "\t\t<td>-0.12500000000000003</td>\n",
       "\t\t<td>0.26482213438735236</td>\n",
       "\t\t<td>0.027272727272727268</td>\n",
       "\t\t<td>0.6213592233009709</td>\n",
       "\t\t<td>0.0</td>\n",
       "\t</tr>\n",
       "\t<tr>\n",
       "\t\t<td>57</td>\n",
       "\t\t<td>1.68</td>\n",
       "\t\t<td>7</td>\n",
       "\t\t<td>1.0439077936333643</td>\n",
       "\t\t<td>1.3010752688172043</td>\n",
       "\t\t<td>0.40757238307349664</td>\n",
       "\t\t<td>0.4545454545454546</td>\n",
       "\t\t<td>-0.36363636363635854</td>\n",
       "\t\t<td>0.2818181818181818</td>\n",
       "\t\t<td>0.495145631067961</td>\n",
       "\t\t<td>0.0</td>\n",
       "\t</tr>\n",
       "\t<tr>\n",
       "\t\t<td>38</td>\n",
       "\t\t<td>0.0</td>\n",
       "\t\t<td>2</td>\n",
       "\t\t<td>0.33040614709109767</td>\n",
       "\t\t<td>0.4731182795698927</td>\n",
       "\t\t<td>0.7750556792873051</td>\n",
       "\t\t<td>0.6818181818181818</td>\n",
       "\t\t<td>0.46245059288537593</td>\n",
       "\t\t<td>0.5636363636363636</td>\n",
       "\t\t<td>0.2944983818770227</td>\n",
       "\t\t<td>0.0</td>\n",
       "\t</tr>\n",
       "\t<tr>\n",
       "\t\t<td>12</td>\n",
       "\t\t<td>0.0</td>\n",
       "\t\t<td>1</td>\n",
       "\t\t<td>0.2316136114160281</td>\n",
       "\t\t<td>0.49103942652329735</td>\n",
       "\t\t<td>0.7906458797327394</td>\n",
       "\t\t<td>0.5852272727272727</td>\n",
       "\t\t<td>0.6482213438735177</td>\n",
       "\t\t<td>0.35454545454545455</td>\n",
       "\t\t<td>0.22653721682847902</td>\n",
       "\t\t<td>0.0</td>\n",
       "\t</tr>\n",
       "</table></html>"
      ],
      "text/plain": [
       "   id    ba  gtype        ri        na        mg        ai        si         k        ca    fe\n",
       "0  17  0.11      2  0.275521  0.211470  0.634744  0.528409  0.758893  0.518182  0.553398  0.88\n",
       "1  49  0.64      7  0.132821  0.795699  0.000000  1.221591  0.691700  0.036364  0.647249  0.00\n",
       "2  41  0.64      7  0.209660  0.964158  0.000000  1.062500  0.762846  0.000000  0.543689  0.36\n",
       "3  26  1.57      7  0.264544  0.795699  0.000000  0.812500  0.893281  0.000000  0.453074  0.00\n",
       "4  15  0.00      1  0.506037  0.369176  0.750557  0.380682  0.541502  0.518182  0.566343  0.64\n",
       "5  32  0.00      1  0.879254  0.734767  0.850780 -0.022727  0.166008  0.100000  0.805825  0.00\n",
       "6  40  0.00      1  0.615807  0.935484  0.835189 -0.125000  0.264822  0.027273  0.621359  0.00\n",
       "7  57  1.68      7  1.043908  1.301075  0.407572  0.454545 -0.363636  0.281818  0.495146  0.00\n",
       "8  38  0.00      2  0.330406  0.473118  0.775056  0.681818  0.462451  0.563636  0.294498  0.00\n",
       "9  12  0.00      1  0.231614  0.491039  0.790646  0.585227  0.648221  0.354545  0.226537  0.00"
      ]
     },
     "metadata": {},
     "output_type": "display_data"
    },
    {
     "name": "stdout",
     "output_type": "stream",
     "text": [
      "                                                                                                 \r"
     ]
    },
    {
     "data": {
      "text/html": [
       "43 rows X 11 columns"
      ],
      "text/plain": [
       "<IPython.core.display.HTML object>"
      ]
     },
     "metadata": {},
     "output_type": "display_data"
    },
    {
     "name": "stdout",
     "output_type": "stream",
     "text": [
      "                                                                                                 \r"
     ]
    },
    {
     "name": "stderr",
     "output_type": "stream",
     "text": [
      "C:\\ProgramData\\anaconda3\\lib\\site-packages\\sklearn\\base.py:450: UserWarning: X does not have valid feature names, but PCA was fitted with feature names\n",
      "  warnings.warn(\n"
     ]
    },
    {
     "data": {
      "text/html": [
       "\n",
       "Updated dataset after performing PCA feature selection :"
      ],
      "text/plain": [
       "<IPython.core.display.HTML object>"
      ]
     },
     "metadata": {},
     "output_type": "display_data"
    },
    {
     "data": {
      "text/html": [
       "<div>\n",
       "<style scoped>\n",
       "    .dataframe tbody tr th:only-of-type {\n",
       "        vertical-align: middle;\n",
       "    }\n",
       "\n",
       "    .dataframe tbody tr th {\n",
       "        vertical-align: top;\n",
       "    }\n",
       "\n",
       "    .dataframe thead th {\n",
       "        text-align: right;\n",
       "    }\n",
       "</style>\n",
       "<table border=\"1\" class=\"dataframe\">\n",
       "  <thead>\n",
       "    <tr style=\"text-align: right;\">\n",
       "      <th></th>\n",
       "      <th>id</th>\n",
       "      <th>col_0</th>\n",
       "      <th>col_1</th>\n",
       "      <th>col_2</th>\n",
       "      <th>col_3</th>\n",
       "      <th>col_4</th>\n",
       "      <th>col_5</th>\n",
       "      <th>gtype</th>\n",
       "    </tr>\n",
       "  </thead>\n",
       "  <tbody>\n",
       "    <tr>\n",
       "      <th>0</th>\n",
       "      <td>26</td>\n",
       "      <td>0.687238</td>\n",
       "      <td>-0.670927</td>\n",
       "      <td>0.284355</td>\n",
       "      <td>-0.071563</td>\n",
       "      <td>0.195197</td>\n",
       "      <td>-0.001019</td>\n",
       "      <td>7</td>\n",
       "    </tr>\n",
       "    <tr>\n",
       "      <th>1</th>\n",
       "      <td>17</td>\n",
       "      <td>-0.386682</td>\n",
       "      <td>0.080832</td>\n",
       "      <td>0.672372</td>\n",
       "      <td>-0.106704</td>\n",
       "      <td>0.056940</td>\n",
       "      <td>-0.077884</td>\n",
       "      <td>2</td>\n",
       "    </tr>\n",
       "    <tr>\n",
       "      <th>2</th>\n",
       "      <td>40</td>\n",
       "      <td>0.493877</td>\n",
       "      <td>0.536228</td>\n",
       "      <td>-0.334078</td>\n",
       "      <td>0.277647</td>\n",
       "      <td>0.342720</td>\n",
       "      <td>0.167490</td>\n",
       "      <td>1</td>\n",
       "    </tr>\n",
       "    <tr>\n",
       "      <th>3</th>\n",
       "      <td>19</td>\n",
       "      <td>-0.026173</td>\n",
       "      <td>0.624747</td>\n",
       "      <td>0.595284</td>\n",
       "      <td>0.136664</td>\n",
       "      <td>0.284803</td>\n",
       "      <td>0.092075</td>\n",
       "      <td>3</td>\n",
       "    </tr>\n",
       "    <tr>\n",
       "      <th>4</th>\n",
       "      <td>38</td>\n",
       "      <td>-0.117031</td>\n",
       "      <td>-0.225278</td>\n",
       "      <td>-0.182731</td>\n",
       "      <td>0.201741</td>\n",
       "      <td>-0.137860</td>\n",
       "      <td>0.005564</td>\n",
       "      <td>2</td>\n",
       "    </tr>\n",
       "    <tr>\n",
       "      <th>5</th>\n",
       "      <td>49</td>\n",
       "      <td>0.739287</td>\n",
       "      <td>-0.774958</td>\n",
       "      <td>0.326828</td>\n",
       "      <td>0.007823</td>\n",
       "      <td>-0.095614</td>\n",
       "      <td>-0.388269</td>\n",
       "      <td>7</td>\n",
       "    </tr>\n",
       "    <tr>\n",
       "      <th>6</th>\n",
       "      <td>36</td>\n",
       "      <td>0.164410</td>\n",
       "      <td>0.063686</td>\n",
       "      <td>-0.199153</td>\n",
       "      <td>0.097490</td>\n",
       "      <td>0.320781</td>\n",
       "      <td>-0.035973</td>\n",
       "      <td>3</td>\n",
       "    </tr>\n",
       "    <tr>\n",
       "      <th>7</th>\n",
       "      <td>15</td>\n",
       "      <td>-0.215847</td>\n",
       "      <td>0.293015</td>\n",
       "      <td>0.340815</td>\n",
       "      <td>-0.011324</td>\n",
       "      <td>-0.026195</td>\n",
       "      <td>0.045816</td>\n",
       "      <td>1</td>\n",
       "    </tr>\n",
       "    <tr>\n",
       "      <th>8</th>\n",
       "      <td>43</td>\n",
       "      <td>-0.141911</td>\n",
       "      <td>-0.139794</td>\n",
       "      <td>-0.201947</td>\n",
       "      <td>0.098065</td>\n",
       "      <td>0.045951</td>\n",
       "      <td>0.004246</td>\n",
       "      <td>3</td>\n",
       "    </tr>\n",
       "    <tr>\n",
       "      <th>9</th>\n",
       "      <td>34</td>\n",
       "      <td>0.341508</td>\n",
       "      <td>0.276092</td>\n",
       "      <td>-0.266691</td>\n",
       "      <td>0.244787</td>\n",
       "      <td>-0.024519</td>\n",
       "      <td>-0.040436</td>\n",
       "      <td>1</td>\n",
       "    </tr>\n",
       "  </tbody>\n",
       "</table>\n",
       "</div>"
      ],
      "text/plain": [
       "   id     col_0     col_1     col_2     col_3     col_4     col_5  gtype\n",
       "0  26  0.687238 -0.670927  0.284355 -0.071563  0.195197 -0.001019      7\n",
       "1  17 -0.386682  0.080832  0.672372 -0.106704  0.056940 -0.077884      2\n",
       "2  40  0.493877  0.536228 -0.334078  0.277647  0.342720  0.167490      1\n",
       "3  19 -0.026173  0.624747  0.595284  0.136664  0.284803  0.092075      3\n",
       "4  38 -0.117031 -0.225278 -0.182731  0.201741 -0.137860  0.005564      2\n",
       "5  49  0.739287 -0.774958  0.326828  0.007823 -0.095614 -0.388269      7\n",
       "6  36  0.164410  0.063686 -0.199153  0.097490  0.320781 -0.035973      3\n",
       "7  15 -0.215847  0.293015  0.340815 -0.011324 -0.026195  0.045816      1\n",
       "8  43 -0.141911 -0.139794 -0.201947  0.098065  0.045951  0.004246      3\n",
       "9  34  0.341508  0.276092 -0.266691  0.244787 -0.024519 -0.040436      1"
      ]
     },
     "metadata": {},
     "output_type": "display_data"
    },
    {
     "name": "stdout",
     "output_type": "stream",
     "text": [
      "                                                                                                 \r"
     ]
    },
    {
     "data": {
      "text/html": [
       "10 rows X 8 columns"
      ],
      "text/plain": [
       "<IPython.core.display.HTML object>"
      ]
     },
     "metadata": {},
     "output_type": "display_data"
    },
    {
     "name": "stdout",
     "output_type": "stream",
     "text": [
      "Data Transformation completed.⫿⫿⫿⫿⫿⫿⫿⫿⫿⫿⫿⫿⫿⫿⫿⫿⫿⫿⫿⫿⫿⫿⫿⫿⫿⫿⫿⫿⫿⫿⫿⫿⫿⫿⫿⫿⫿⫿⫿⫿⫿⫿｜ 100% - 10/10           \n",
      "\n",
      "Following model is being picked for evaluation:\n",
      "Model ID : XGBOOST_0 \n",
      "Feature Selection Method : lasso\n",
      "\n",
      "Prediction : \n",
      "   id  Prediction  gtype    prob_1    prob_2    prob_3    prob_5    prob_6    prob_7\n",
      "0  40           3      1  0.017341  0.000264  0.981175  0.000139  0.000193  0.000887\n",
      "1  19           2      3  0.108579  0.844120  0.044239  0.000965  0.001341  0.000757\n",
      "2  30           2      7  0.001349  0.985498  0.004341  0.003998  0.001948  0.002867\n",
      "3  17           2      2  0.134217  0.786660  0.035334  0.014410  0.015794  0.013583\n",
      "4  15           2      1  0.021657  0.971935  0.005241  0.000273  0.000675  0.000219\n",
      "5  32           1      1  0.936032  0.013574  0.034840  0.005384  0.005809  0.004360\n",
      "6  49           7      7  0.000320  0.000807  0.000538  0.000328  0.000255  0.997752\n",
      "7  41           7      7  0.000122  0.000233  0.000156  0.000095  0.000109  0.999285\n",
      "8  38           2      2  0.000302  0.998369  0.000914  0.000135  0.000143  0.000137\n",
      "9  12           2      1  0.000446  0.998433  0.000704  0.000128  0.000137  0.000152\n",
      "\n",
      "Confusion Matrix : \n"
     ]
    },
    {
     "data": {
      "text/plain": [
       "array([[13,  4,  1,  0,  0],\n",
       "       [ 2,  7,  0,  0,  2],\n",
       "       [ 1,  2,  1,  0,  0],\n",
       "       [ 0,  1,  0,  1,  1],\n",
       "       [ 0,  1,  0,  0,  6]], dtype=int64)"
      ]
     },
     "metadata": {},
     "output_type": "display_data"
    }
   ],
   "source": [
    "# Generating prediction on test data\n",
    "prediction = aml.predict(glass_df_test,2)"
   ]
  },
  {
   "cell_type": "code",
   "execution_count": 22,
   "id": "cc4f6a78-1cdf-4938-a9f1-22035d8404ca",
   "metadata": {},
   "outputs": [
    {
     "data": {
      "text/html": [
       "<style type=\"text/css\">\n",
       "\ttable {border:ridge 5px;}\n",
       "\ttable td {border:inset 1px;}\n",
       "\ttable tr#HeaderRow {background-color:grey; color:white;}</style>\n",
       "<html><table>\n",
       "\t<tr id=\"HeaderRow\">\n",
       "\t\t<th>id</th>\n",
       "\t\t<th>Prediction</th>\n",
       "\t\t<th>gtype</th>\n",
       "\t\t<th>prob_1</th>\n",
       "\t\t<th>prob_2</th>\n",
       "\t\t<th>prob_3</th>\n",
       "\t\t<th>prob_5</th>\n",
       "\t\t<th>prob_6</th>\n",
       "\t\t<th>prob_7</th>\n",
       "\t</tr>\n",
       "\t<tr>\n",
       "\t\t<td>10</td>\n",
       "\t\t<td>7</td>\n",
       "\t\t<td>2</td>\n",
       "\t\t<td>0.053790300061978664</td>\n",
       "\t\t<td>0.05732943287990477</td>\n",
       "\t\t<td>0.0738367927902716</td>\n",
       "\t\t<td>0.11766682980002059</td>\n",
       "\t\t<td>0.026865613348004733</td>\n",
       "\t\t<td>0.6705110311198197</td>\n",
       "\t</tr>\n",
       "\t<tr>\n",
       "\t\t<td>12</td>\n",
       "\t\t<td>2</td>\n",
       "\t\t<td>1</td>\n",
       "\t\t<td>0.0004459241952966255</td>\n",
       "\t\t<td>0.9984326434955246</td>\n",
       "\t\t<td>0.0007036738530338865</td>\n",
       "\t\t<td>0.00012836476938526674</td>\n",
       "\t\t<td>0.0001369402873248937</td>\n",
       "\t\t<td>0.0001524533994346764</td>\n",
       "\t</tr>\n",
       "\t<tr>\n",
       "\t\t<td>13</td>\n",
       "\t\t<td>2</td>\n",
       "\t\t<td>3</td>\n",
       "\t\t<td>0.04769937737434727</td>\n",
       "\t\t<td>0.48655470670915363</td>\n",
       "\t\t<td>0.4216111083085197</td>\n",
       "\t\t<td>0.013824513333340073</td>\n",
       "\t\t<td>0.014748071741651082</td>\n",
       "\t\t<td>0.015562222532988262</td>\n",
       "\t</tr>\n",
       "\t<tr>\n",
       "\t\t<td>14</td>\n",
       "\t\t<td>1</td>\n",
       "\t\t<td>1</td>\n",
       "\t\t<td>0.9572119367787508</td>\n",
       "\t\t<td>0.029108750297142893</td>\n",
       "\t\t<td>0.004323277635380723</td>\n",
       "\t\t<td>0.003490834524763301</td>\n",
       "\t\t<td>0.0037660353863999646</td>\n",
       "\t\t<td>0.002099165377562129</td>\n",
       "\t</tr>\n",
       "\t<tr>\n",
       "\t\t<td>16</td>\n",
       "\t\t<td>7</td>\n",
       "\t\t<td>6</td>\n",
       "\t\t<td>0.0004932631464311972</td>\n",
       "\t\t<td>0.0002478619151185848</td>\n",
       "\t\t<td>0.0015911905637048197</td>\n",
       "\t\t<td>0.0004648709300259416</td>\n",
       "\t\t<td>0.00022798909462559683</td>\n",
       "\t\t<td>0.9969748243500939</td>\n",
       "\t</tr>\n",
       "\t<tr>\n",
       "\t\t<td>17</td>\n",
       "\t\t<td>2</td>\n",
       "\t\t<td>2</td>\n",
       "\t\t<td>0.13421737845309292</td>\n",
       "\t\t<td>0.786660454755761</td>\n",
       "\t\t<td>0.035334319407834894</td>\n",
       "\t\t<td>0.014410306976790981</td>\n",
       "\t\t<td>0.015794435790081017</td>\n",
       "\t\t<td>0.013583104616439329</td>\n",
       "\t</tr>\n",
       "\t<tr>\n",
       "\t\t<td>15</td>\n",
       "\t\t<td>2</td>\n",
       "\t\t<td>1</td>\n",
       "\t\t<td>0.021656511861444065</td>\n",
       "\t\t<td>0.971935250999146</td>\n",
       "\t\t<td>0.005241298054832511</td>\n",
       "\t\t<td>0.00027284789180345254</td>\n",
       "\t\t<td>0.0006751497155041989</td>\n",
       "\t\t<td>0.00021894147726955854</td>\n",
       "\t</tr>\n",
       "\t<tr>\n",
       "\t\t<td>11</td>\n",
       "\t\t<td>2</td>\n",
       "\t\t<td>2</td>\n",
       "\t\t<td>0.00046550888825676957</td>\n",
       "\t\t<td>0.9972444361250985</td>\n",
       "\t\t<td>0.0017956353442677047</td>\n",
       "\t\t<td>0.00013110770887578808</td>\n",
       "\t\t<td>0.00011991704241833243</td>\n",
       "\t\t<td>0.00024339489108297232</td>\n",
       "\t</tr>\n",
       "\t<tr>\n",
       "\t\t<td>9</td>\n",
       "\t\t<td>1</td>\n",
       "\t\t<td>1</td>\n",
       "\t\t<td>0.9963752291647772</td>\n",
       "\t\t<td>0.00071028280080867</td>\n",
       "\t\t<td>0.002414422004254093</td>\n",
       "\t\t<td>0.0001587729511869194</td>\n",
       "\t\t<td>0.0001743784961061169</td>\n",
       "\t\t<td>0.00016691458286712053</td>\n",
       "\t</tr>\n",
       "\t<tr>\n",
       "\t\t<td>8</td>\n",
       "\t\t<td>1</td>\n",
       "\t\t<td>2</td>\n",
       "\t\t<td>0.9818910272413589</td>\n",
       "\t\t<td>0.005437287591252882</td>\n",
       "\t\t<td>0.008495412670366086</td>\n",
       "\t\t<td>0.001277204023334079</td>\n",
       "\t\t<td>0.0016001547318468643</td>\n",
       "\t\t<td>0.001298913741841179</td>\n",
       "\t</tr>\n",
       "</table></html>"
      ],
      "text/plain": [
       "   id  Prediction  gtype    prob_1    prob_2    prob_3    prob_5    prob_6    prob_7\n",
       "0  10           7      2  0.053790  0.057329  0.073837  0.117667  0.026866  0.670511\n",
       "1  12           2      1  0.000446  0.998433  0.000704  0.000128  0.000137  0.000152\n",
       "2  13           2      3  0.047699  0.486555  0.421611  0.013825  0.014748  0.015562\n",
       "3  14           1      1  0.957212  0.029109  0.004323  0.003491  0.003766  0.002099\n",
       "4  16           7      6  0.000493  0.000248  0.001591  0.000465  0.000228  0.996975\n",
       "5  17           2      2  0.134217  0.786660  0.035334  0.014410  0.015794  0.013583\n",
       "6  15           2      1  0.021657  0.971935  0.005241  0.000273  0.000675  0.000219\n",
       "7  11           2      2  0.000466  0.997244  0.001796  0.000131  0.000120  0.000243\n",
       "8   9           1      1  0.996375  0.000710  0.002414  0.000159  0.000174  0.000167\n",
       "9   8           1      2  0.981891  0.005437  0.008495  0.001277  0.001600  0.001299"
      ]
     },
     "execution_count": 22,
     "metadata": {},
     "output_type": "execute_result"
    }
   ],
   "source": [
    "# Printing prediction\n",
    "prediction.head()"
   ]
  },
  {
   "cell_type": "code",
   "execution_count": 23,
   "id": "9110bc09-7144-495f-be04-dfbb9678b7e0",
   "metadata": {},
   "outputs": [
    {
     "name": "stdout",
     "output_type": "stream",
     "text": [
      "\n",
      "Skipping data transformation as data is already transformed.\n",
      "\n",
      "Following model is being picked for evaluation:\n",
      "Model ID : XGBOOST_0 \n",
      "Feature Selection Method : lasso\n",
      "\n",
      "Performance Metrics : \n",
      "       Prediction  Mapping  CLASS_1  CLASS_2  CLASS_3  CLASS_4  CLASS_5  Precision    Recall        F1  Support\n",
      "SeqNum                                                                                                         \n",
      "4               7  CLASS_5        0        2        0        1        6   0.666667  0.857143  0.750000        7\n",
      "0               1  CLASS_1       13        2        1        0        0   0.812500  0.722222  0.764706       18\n",
      "3               6  CLASS_4        0        0        0        1        0   1.000000  0.333333  0.500000        3\n",
      "2               3  CLASS_3        1        0        1        0        0   0.500000  0.250000  0.333333        4\n",
      "1               2  CLASS_2        4        7        2        1        1   0.466667  0.636364  0.538462       11\n",
      "--------------------------------------------------------------------------------\n",
      "   SeqNum              Metric  MetricValue\n",
      "0       3        Micro-Recall     0.651163\n",
      "1       5     Macro-Precision     0.689167\n",
      "2       6        Macro-Recall     0.559812\n",
      "3       7            Macro-F1     0.577300\n",
      "4       9     Weighted-Recall     0.651163\n",
      "5      10         Weighted-F1     0.645840\n",
      "6       8  Weighted-Precision     0.684302\n",
      "7       4            Micro-F1     0.651163\n",
      "8       2     Micro-Precision     0.651163\n",
      "9       1            Accuracy     0.651163\n"
     ]
    }
   ],
   "source": [
    "# Fetching performance metrics on test data\n",
    "performance_metrics = aml.evaluate(glass_df_test, rank=2)"
   ]
  },
  {
   "cell_type": "code",
   "execution_count": 24,
   "id": "7893f263-df5d-4b6e-93ea-b18421dd737a",
   "metadata": {},
   "outputs": [
    {
     "data": {
      "text/html": [
       "<style type=\"text/css\">\n",
       "\ttable {border:ridge 5px;}\n",
       "\ttable td {border:inset 1px;}\n",
       "\ttable tr#HeaderRow {background-color:grey; color:white;}</style>\n",
       "<html><table>\n",
       "\t<tr id=\"HeaderRow\">\n",
       "\t\t<th>SeqNum</th>\n",
       "\t\t<th>Prediction</th>\n",
       "\t\t<th>Mapping</th>\n",
       "\t\t<th>CLASS_1</th>\n",
       "\t\t<th>CLASS_2</th>\n",
       "\t\t<th>CLASS_3</th>\n",
       "\t\t<th>CLASS_4</th>\n",
       "\t\t<th>CLASS_5</th>\n",
       "\t\t<th>Precision</th>\n",
       "\t\t<th>Recall</th>\n",
       "\t\t<th>F1</th>\n",
       "\t\t<th>Support</th>\n",
       "\t</tr>\n",
       "\t<tr>\n",
       "\t\t<td>4</td>\n",
       "\t\t<td>7</td>\n",
       "\t\t<td>CLASS_5</td>\n",
       "\t\t<td>0</td>\n",
       "\t\t<td>2</td>\n",
       "\t\t<td>0</td>\n",
       "\t\t<td>1</td>\n",
       "\t\t<td>6</td>\n",
       "\t\t<td>0.6666666666666666</td>\n",
       "\t\t<td>0.8571428571428571</td>\n",
       "\t\t<td>0.75</td>\n",
       "\t\t<td>7</td>\n",
       "\t</tr>\n",
       "\t<tr>\n",
       "\t\t<td>0</td>\n",
       "\t\t<td>1</td>\n",
       "\t\t<td>CLASS_1</td>\n",
       "\t\t<td>13</td>\n",
       "\t\t<td>2</td>\n",
       "\t\t<td>1</td>\n",
       "\t\t<td>0</td>\n",
       "\t\t<td>0</td>\n",
       "\t\t<td>0.8125</td>\n",
       "\t\t<td>0.7222222222222222</td>\n",
       "\t\t<td>0.7647058823529411</td>\n",
       "\t\t<td>18</td>\n",
       "\t</tr>\n",
       "\t<tr>\n",
       "\t\t<td>3</td>\n",
       "\t\t<td>6</td>\n",
       "\t\t<td>CLASS_4</td>\n",
       "\t\t<td>0</td>\n",
       "\t\t<td>0</td>\n",
       "\t\t<td>0</td>\n",
       "\t\t<td>1</td>\n",
       "\t\t<td>0</td>\n",
       "\t\t<td>1.0</td>\n",
       "\t\t<td>0.3333333333333333</td>\n",
       "\t\t<td>0.5</td>\n",
       "\t\t<td>3</td>\n",
       "\t</tr>\n",
       "\t<tr>\n",
       "\t\t<td>2</td>\n",
       "\t\t<td>3</td>\n",
       "\t\t<td>CLASS_3</td>\n",
       "\t\t<td>1</td>\n",
       "\t\t<td>0</td>\n",
       "\t\t<td>1</td>\n",
       "\t\t<td>0</td>\n",
       "\t\t<td>0</td>\n",
       "\t\t<td>0.5</td>\n",
       "\t\t<td>0.25</td>\n",
       "\t\t<td>0.3333333333333333</td>\n",
       "\t\t<td>4</td>\n",
       "\t</tr>\n",
       "\t<tr>\n",
       "\t\t<td>1</td>\n",
       "\t\t<td>2</td>\n",
       "\t\t<td>CLASS_2</td>\n",
       "\t\t<td>4</td>\n",
       "\t\t<td>7</td>\n",
       "\t\t<td>2</td>\n",
       "\t\t<td>1</td>\n",
       "\t\t<td>1</td>\n",
       "\t\t<td>0.4666666666666667</td>\n",
       "\t\t<td>0.6363636363636364</td>\n",
       "\t\t<td>0.5384615384615385</td>\n",
       "\t\t<td>11</td>\n",
       "\t</tr>\n",
       "</table></html>"
      ],
      "text/plain": [
       "       Prediction  Mapping  CLASS_1  CLASS_2  CLASS_3  CLASS_4  CLASS_5  Precision    Recall        F1  Support\n",
       "SeqNum                                                                                                         \n",
       "4               7  CLASS_5        0        2        0        1        6   0.666667  0.857143  0.750000        7\n",
       "0               1  CLASS_1       13        2        1        0        0   0.812500  0.722222  0.764706       18\n",
       "3               6  CLASS_4        0        0        0        1        0   1.000000  0.333333  0.500000        3\n",
       "2               3  CLASS_3        1        0        1        0        0   0.500000  0.250000  0.333333        4\n",
       "1               2  CLASS_2        4        7        2        1        1   0.466667  0.636364  0.538462       11"
      ]
     },
     "execution_count": 24,
     "metadata": {},
     "output_type": "execute_result"
    }
   ],
   "source": [
    "performance_metrics"
   ]
  },
  {
   "cell_type": "code",
   "execution_count": 25,
   "id": "b2cba357-75ac-4089-a234-64a57067b117",
   "metadata": {},
   "outputs": [
    {
     "data": {
      "text/plain": [
       "True"
      ]
     },
     "execution_count": 25,
     "metadata": {},
     "output_type": "execute_result"
    }
   ],
   "source": [
    "remove_context()"
   ]
  },
  {
   "cell_type": "code",
   "execution_count": null,
   "id": "65e17f98-c264-4958-91bd-34850d0a79e9",
   "metadata": {},
   "outputs": [],
   "source": []
  }
 ],
 "metadata": {
  "kernelspec": {
   "display_name": "Python 3 (ipykernel)",
   "language": "python",
   "name": "python3"
  },
  "language_info": {
   "codemirror_mode": {
    "name": "ipython",
    "version": 3
   },
   "file_extension": ".py",
   "mimetype": "text/x-python",
   "name": "python",
   "nbconvert_exporter": "python",
   "pygments_lexer": "ipython3",
   "version": "3.10.9"
  }
 },
 "nbformat": 4,
 "nbformat_minor": 5
}
