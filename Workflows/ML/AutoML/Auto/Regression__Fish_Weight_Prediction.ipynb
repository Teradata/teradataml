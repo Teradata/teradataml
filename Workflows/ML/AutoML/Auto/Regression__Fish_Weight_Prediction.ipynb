{
 "cells": [
  {
   "cell_type": "markdown",
   "id": "2762f1d8-5a66-411f-a625-34cf16ac6dd3",
   "metadata": {},
   "source": [
    "# <b><span style='color:#F1A424'>AutoML - Regression - Fish Weight Prediction </span> </b>"
   ]
  },
  {
   "cell_type": "markdown",
   "id": "a2712c7c-694c-416f-8d97-f5ed5a16315b",
   "metadata": {},
   "source": [
    "### Disclaimer\n",
    "Please note, the Vantage Functions via SQLAlchemy feature is a preview/beta code release with limited functionality (the “Code”). As such, you acknowledge that the Code is experimental in nature and that the Code is provided “AS IS” and may not be functional on any machine or in any environment. TERADATA DISCLAIMS ALL WARRANTIES RELATING TO THE CODE, EXPRESS OR IMPLIED, INCLUDING, BUT NOT LIMITED TO, ANY WARRANTIES AGAINST INFRINGEMENT OF THIRD-PARTY RIGHTS, MERCHANTABILITY AND FITNESS FOR A PARTICULAR PURPOSE.\n",
    "\n",
    "TERADATA SHALL NOT BE RESPONSIBLE OR LIABLE WITH RESPECT TO ANY SUBJECT MATTER OF THE CODE UNDER ANY CONTRACT, NEGLIGENCE, STRICT LIABILITY OR OTHER THEORY \n",
    "    (A) FOR LOSS OR INACCURACY OF DATA OR COST OF PROCUREMENT OF SUBSTITUTE GOODS, SERVICES OR TECHNOLOGY, OR \n",
    "    (B) FOR ANY INDIRECT, INCIDENTAL OR CONSEQUENTIAL DAMAGES INCLUDING, BUT NOT LIMITED TO LOSS OF REVENUES AND LOSS OF PROFITS. TERADATA SHALL NOT BE RESPONSIBLE FOR ANY MATTER BEYOND ITS REASONABLE CONTROL.\n",
    "\n",
    "Notwithstanding anything to the contrary: \n",
    "    (a) Teradata will have no obligation of any kind with respect to any Code-related comments, suggestions, design changes or improvements that you elect to provide to Teradata in either verbal or written form (collectively, “Feedback”), and \n",
    "    (b) Teradata and its affiliates are hereby free to use any ideas, concepts, know-how or techniques, in whole or in part, contained in Feedback: \n",
    "        (i) for any purpose whatsoever, including developing, manufacturing, and/or marketing products and/or services incorporating Feedback in whole or in part, and \n",
    "        (ii) without any restrictions or limitations, including requiring the payment of any license fees, royalties, or other consideration. "
   ]
  },
  {
   "cell_type": "markdown",
   "id": "f225fb94-b2c8-4c92-af38-733d08e0e2a1",
   "metadata": {},
   "source": [
    "## <b> Problem overview:</b>\n",
    "    "
   ]
  },
  {
   "cell_type": "markdown",
   "id": "af9813eb-9c44-4968-a5fe-d1c74415c894",
   "metadata": {},
   "source": [
    "**Dataset used : Fish Weight Dataset**\n",
    "\n",
    "**Features**:\n",
    "\n",
    "- `Species`: Species name of fish\n",
    "- `Length1`: Vertical length in cm\n",
    "- `Length2`: Diagonal length in cm\n",
    "- `Length3`: Cross length in cm\n",
    "- `Height`: Height in cm\n",
    "- `Width`: Diagonal width in cm\n",
    "\n",
    "**Target Variable**:\n",
    "\n",
    "- `Weight`: Weight of fish in gram\n",
    "\n",
    "        \n",
    "**Objective**:\n",
    "\n",
    "The primary objective is typically to build a model that can accurately predict weight of fish in gram.\n",
    "\n",
    "**Usecase**:\n",
    "\n",
    "Here, we will use AutoML(Automated Machine Learning) functionality to automate the entire process of developing a predictive model. It will perform feature exploration, feature engineering, data preparation, model training and evaluation on dataset in auto run and at end we will get leaderboard containined different models along with their performance. Model will also have rank associated with them which indicates which is best performing model for given data followed by other models."
   ]
  },
  {
   "cell_type": "code",
   "execution_count": 1,
   "id": "66568348-4d00-477c-a071-17995f797c95",
   "metadata": {},
   "outputs": [],
   "source": [
    "# Importing AutoML from teradataml\n",
    "from teradataml import AutoML"
   ]
  },
  {
   "cell_type": "code",
   "execution_count": 2,
   "id": "17dfae70-0401-4cc4-ba1c-400a5cf62451",
   "metadata": {},
   "outputs": [],
   "source": [
    "# Importing other important libraries\n",
    "import getpass\n",
    "from teradataml import create_context, remove_context\n",
    "from teradataml import DataFrame\n",
    "from teradataml import load_example_data\n",
    "from teradataml import TrainTestSplit"
   ]
  },
  {
   "cell_type": "code",
   "execution_count": 3,
   "id": "cadd9ed2-42d6-4899-b23e-4e2cf601162f",
   "metadata": {},
   "outputs": [
    {
     "name": "stdin",
     "output_type": "stream",
     "text": [
      "Host:  ········\n",
      "Username:  ········\n",
      "Password:  ········\n"
     ]
    }
   ],
   "source": [
    "# Create the connection.\n",
    "host = getpass.getpass(\"Host: \")\n",
    "username = getpass.getpass(\"Username: \")\n",
    "password = getpass.getpass(\"Password: \")\n",
    "\n",
    "con = create_context(host=host, username=username, password=password)"
   ]
  },
  {
   "cell_type": "markdown",
   "id": "be767a89-d5b8-4876-91cb-36980754586e",
   "metadata": {},
   "source": [
    "## <b><span style='color:#F1A424'>| 1.</span> Loading Dataset </b>"
   ]
  },
  {
   "cell_type": "code",
   "execution_count": 4,
   "id": "f1592c52-b247-4792-be2a-30b49bbeb9b6",
   "metadata": {},
   "outputs": [],
   "source": [
    "# Loading dataset from example data collection\n",
    "load_example_data('teradataml','fish')"
   ]
  },
  {
   "cell_type": "code",
   "execution_count": 5,
   "id": "3846ae0f-004b-4b8e-9fea-06fac4294065",
   "metadata": {},
   "outputs": [],
   "source": [
    "# Fetching in teradata dataframe\n",
    "fish_df = DataFrame(\"fish\")"
   ]
  },
  {
   "cell_type": "code",
   "execution_count": 6,
   "id": "442ccd80-b444-413e-970d-d855ec3d6cae",
   "metadata": {},
   "outputs": [
    {
     "data": {
      "text/html": [
       "<style type=\"text/css\">\n",
       "\ttable {border:ridge 5px;}\n",
       "\ttable td {border:inset 1px;}\n",
       "\ttable tr#HeaderRow {background-color:grey; color:white;}</style>\n",
       "<html><table>\n",
       "\t<tr id=\"HeaderRow\">\n",
       "\t\t<th>Species</th>\n",
       "\t\t<th>Weight</th>\n",
       "\t\t<th>Length1</th>\n",
       "\t\t<th>Length2</th>\n",
       "\t\t<th>Length3</th>\n",
       "\t\t<th>Height</th>\n",
       "\t\t<th>Width</th>\n",
       "\t</tr>\n",
       "\t<tr>\n",
       "\t\t<td>Bream</td>\n",
       "\t\t<td>685</td>\n",
       "\t\t<td>31.4</td>\n",
       "\t\t<td>34.0</td>\n",
       "\t\t<td>39.2</td>\n",
       "\t\t<td>15.9936</td>\n",
       "\t\t<td>5.3704</td>\n",
       "\t</tr>\n",
       "\t<tr>\n",
       "\t\t<td>Bream</td>\n",
       "\t\t<td>920</td>\n",
       "\t\t<td>35.0</td>\n",
       "\t\t<td>38.5</td>\n",
       "\t\t<td>44.1</td>\n",
       "\t\t<td>18.0369</td>\n",
       "\t\t<td>6.3063</td>\n",
       "\t</tr>\n",
       "\t<tr>\n",
       "\t\t<td>Bream</td>\n",
       "\t\t<td>975</td>\n",
       "\t\t<td>37.4</td>\n",
       "\t\t<td>41.0</td>\n",
       "\t\t<td>45.9</td>\n",
       "\t\t<td>18.6354</td>\n",
       "\t\t<td>6.7473</td>\n",
       "\t</tr>\n",
       "\t<tr>\n",
       "\t\t<td>Bream</td>\n",
       "\t\t<td>290</td>\n",
       "\t\t<td>24.0</td>\n",
       "\t\t<td>26.3</td>\n",
       "\t\t<td>31.2</td>\n",
       "\t\t<td>12.48</td>\n",
       "\t\t<td>4.3056</td>\n",
       "\t</tr>\n",
       "\t<tr>\n",
       "\t\t<td>Bream</td>\n",
       "\t\t<td>340</td>\n",
       "\t\t<td>29.5</td>\n",
       "\t\t<td>32.0</td>\n",
       "\t\t<td>37.3</td>\n",
       "\t\t<td>13.9129</td>\n",
       "\t\t<td>5.0728</td>\n",
       "\t</tr>\n",
       "\t<tr>\n",
       "\t\t<td>Bream</td>\n",
       "\t\t<td>575</td>\n",
       "\t\t<td>31.3</td>\n",
       "\t\t<td>34.0</td>\n",
       "\t\t<td>39.5</td>\n",
       "\t\t<td>15.1285</td>\n",
       "\t\t<td>5.5695</td>\n",
       "\t</tr>\n",
       "\t<tr>\n",
       "\t\t<td>Bream</td>\n",
       "\t\t<td>1000</td>\n",
       "\t\t<td>33.5</td>\n",
       "\t\t<td>37.0</td>\n",
       "\t\t<td>42.6</td>\n",
       "\t\t<td>18.957</td>\n",
       "\t\t<td>6.603</td>\n",
       "\t</tr>\n",
       "\t<tr>\n",
       "\t\t<td>Bream</td>\n",
       "\t\t<td>500</td>\n",
       "\t\t<td>26.8</td>\n",
       "\t\t<td>29.7</td>\n",
       "\t\t<td>34.5</td>\n",
       "\t\t<td>14.1795</td>\n",
       "\t\t<td>5.2785</td>\n",
       "\t</tr>\n",
       "\t<tr>\n",
       "\t\t<td>Bream</td>\n",
       "\t\t<td>363</td>\n",
       "\t\t<td>26.3</td>\n",
       "\t\t<td>29.0</td>\n",
       "\t\t<td>33.5</td>\n",
       "\t\t<td>12.73</td>\n",
       "\t\t<td>4.4555</td>\n",
       "\t</tr>\n",
       "\t<tr>\n",
       "\t\t<td>Bream</td>\n",
       "\t\t<td>475</td>\n",
       "\t\t<td>28.4</td>\n",
       "\t\t<td>31.0</td>\n",
       "\t\t<td>36.2</td>\n",
       "\t\t<td>14.2628</td>\n",
       "\t\t<td>5.1042</td>\n",
       "\t</tr>\n",
       "</table></html>"
      ],
      "text/plain": [
       "         Weight  Length1  Length2  Length3   Height   Width\n",
       "Species                                                    \n",
       "Bream       685     31.4     34.0     39.2  15.9936  5.3704\n",
       "Bream       920     35.0     38.5     44.1  18.0369  6.3063\n",
       "Bream       975     37.4     41.0     45.9  18.6354  6.7473\n",
       "Bream       290     24.0     26.3     31.2  12.4800  4.3056\n",
       "Bream       340     29.5     32.0     37.3  13.9129  5.0728\n",
       "Bream       575     31.3     34.0     39.5  15.1285  5.5695\n",
       "Bream      1000     33.5     37.0     42.6  18.9570  6.6030\n",
       "Bream       500     26.8     29.7     34.5  14.1795  5.2785\n",
       "Bream       363     26.3     29.0     33.5  12.7300  4.4555\n",
       "Bream       475     28.4     31.0     36.2  14.2628  5.1042"
      ]
     },
     "execution_count": 6,
     "metadata": {},
     "output_type": "execute_result"
    }
   ],
   "source": [
    "# first 5 rows\n",
    "fish_df.head()"
   ]
  },
  {
   "cell_type": "code",
   "execution_count": 7,
   "id": "636c220d-d12f-4ea5-ab2b-c9203ef00d49",
   "metadata": {},
   "outputs": [
    {
     "data": {
      "text/plain": [
       "(159, 7)"
      ]
     },
     "execution_count": 7,
     "metadata": {},
     "output_type": "execute_result"
    }
   ],
   "source": [
    "# fish_df dataset\n",
    "fish_df.shape"
   ]
  },
  {
   "cell_type": "code",
   "execution_count": 8,
   "id": "e5d1fad7-8784-4d7a-be1f-7be1d3991d8f",
   "metadata": {},
   "outputs": [],
   "source": [
    "# Performing sampling to get 80% for trainning and 20% for testing\n",
    "fish_df_sample = fish_df.sample(frac = [0.8, 0.2])"
   ]
  },
  {
   "cell_type": "code",
   "execution_count": 9,
   "id": "a0e6891a-1b7e-4bac-97c8-350ba5f5bde4",
   "metadata": {},
   "outputs": [
    {
     "data": {
      "text/html": [
       "<style type=\"text/css\">\n",
       "\ttable {border:ridge 5px;}\n",
       "\ttable td {border:inset 1px;}\n",
       "\ttable tr#HeaderRow {background-color:grey; color:white;}</style>\n",
       "<html><table>\n",
       "\t<tr id=\"HeaderRow\">\n",
       "\t\t<th>Species</th>\n",
       "\t\t<th>Weight</th>\n",
       "\t\t<th>Length1</th>\n",
       "\t\t<th>Length2</th>\n",
       "\t\t<th>Length3</th>\n",
       "\t\t<th>Height</th>\n",
       "\t\t<th>Width</th>\n",
       "\t\t<th>sampleid</th>\n",
       "\t</tr>\n",
       "\t<tr>\n",
       "\t\t<td>Bream</td>\n",
       "\t\t<td>920</td>\n",
       "\t\t<td>35.0</td>\n",
       "\t\t<td>38.5</td>\n",
       "\t\t<td>44.1</td>\n",
       "\t\t<td>18.0369</td>\n",
       "\t\t<td>6.3063</td>\n",
       "\t\t<td>2</td>\n",
       "\t</tr>\n",
       "\t<tr>\n",
       "\t\t<td>Bream</td>\n",
       "\t\t<td>1000</td>\n",
       "\t\t<td>33.5</td>\n",
       "\t\t<td>37.0</td>\n",
       "\t\t<td>42.6</td>\n",
       "\t\t<td>18.957</td>\n",
       "\t\t<td>6.603</td>\n",
       "\t\t<td>1</td>\n",
       "\t</tr>\n",
       "\t<tr>\n",
       "\t\t<td>Bream</td>\n",
       "\t\t<td>720</td>\n",
       "\t\t<td>32.0</td>\n",
       "\t\t<td>35.0</td>\n",
       "\t\t<td>40.6</td>\n",
       "\t\t<td>16.3618</td>\n",
       "\t\t<td>6.09</td>\n",
       "\t\t<td>2</td>\n",
       "\t</tr>\n",
       "\t<tr>\n",
       "\t\t<td>Bream</td>\n",
       "\t\t<td>700</td>\n",
       "\t\t<td>30.4</td>\n",
       "\t\t<td>33.0</td>\n",
       "\t\t<td>38.5</td>\n",
       "\t\t<td>14.938</td>\n",
       "\t\t<td>5.1975</td>\n",
       "\t\t<td>1</td>\n",
       "\t</tr>\n",
       "\t<tr>\n",
       "\t\t<td>Bream</td>\n",
       "\t\t<td>650</td>\n",
       "\t\t<td>31.0</td>\n",
       "\t\t<td>33.5</td>\n",
       "\t\t<td>38.7</td>\n",
       "\t\t<td>14.4738</td>\n",
       "\t\t<td>5.7276</td>\n",
       "\t\t<td>1</td>\n",
       "\t</tr>\n",
       "\t<tr>\n",
       "\t\t<td>Bream</td>\n",
       "\t\t<td>500</td>\n",
       "\t\t<td>29.1</td>\n",
       "\t\t<td>31.5</td>\n",
       "\t\t<td>36.4</td>\n",
       "\t\t<td>13.7592</td>\n",
       "\t\t<td>4.368</td>\n",
       "\t\t<td>1</td>\n",
       "\t</tr>\n",
       "\t<tr>\n",
       "\t\t<td>Bream</td>\n",
       "\t\t<td>450</td>\n",
       "\t\t<td>26.8</td>\n",
       "\t\t<td>29.7</td>\n",
       "\t\t<td>34.7</td>\n",
       "\t\t<td>13.6024</td>\n",
       "\t\t<td>4.9274</td>\n",
       "\t\t<td>1</td>\n",
       "\t</tr>\n",
       "\t<tr>\n",
       "\t\t<td>Bream</td>\n",
       "\t\t<td>700</td>\n",
       "\t\t<td>30.4</td>\n",
       "\t\t<td>33.0</td>\n",
       "\t\t<td>38.3</td>\n",
       "\t\t<td>14.8604</td>\n",
       "\t\t<td>5.2854</td>\n",
       "\t\t<td>1</td>\n",
       "\t</tr>\n",
       "\t<tr>\n",
       "\t\t<td>Bream</td>\n",
       "\t\t<td>975</td>\n",
       "\t\t<td>37.4</td>\n",
       "\t\t<td>41.0</td>\n",
       "\t\t<td>45.9</td>\n",
       "\t\t<td>18.6354</td>\n",
       "\t\t<td>6.7473</td>\n",
       "\t\t<td>1</td>\n",
       "\t</tr>\n",
       "\t<tr>\n",
       "\t\t<td>Bream</td>\n",
       "\t\t<td>450</td>\n",
       "\t\t<td>27.6</td>\n",
       "\t\t<td>30.0</td>\n",
       "\t\t<td>35.1</td>\n",
       "\t\t<td>14.0049</td>\n",
       "\t\t<td>4.8438</td>\n",
       "\t\t<td>1</td>\n",
       "\t</tr>\n",
       "</table></html>"
      ],
      "text/plain": [
       "         Weight  Length1  Length2  Length3   Height   Width  sampleid\n",
       "Species                                                              \n",
       "Bream       920     35.0     38.5     44.1  18.0369  6.3063         2\n",
       "Bream      1000     33.5     37.0     42.6  18.9570  6.6030         1\n",
       "Bream       720     32.0     35.0     40.6  16.3618  6.0900         2\n",
       "Bream       700     30.4     33.0     38.5  14.9380  5.1975         1\n",
       "Bream       650     31.0     33.5     38.7  14.4738  5.7276         1\n",
       "Bream       500     29.1     31.5     36.4  13.7592  4.3680         1\n",
       "Bream       450     26.8     29.7     34.7  13.6024  4.9274         1\n",
       "Bream       700     30.4     33.0     38.3  14.8604  5.2854         1\n",
       "Bream       975     37.4     41.0     45.9  18.6354  6.7473         1\n",
       "Bream       450     27.6     30.0     35.1  14.0049  4.8438         1"
      ]
     },
     "execution_count": 9,
     "metadata": {},
     "output_type": "execute_result"
    }
   ],
   "source": [
    "fish_df_sample.head()"
   ]
  },
  {
   "cell_type": "code",
   "execution_count": 10,
   "id": "5e3e5923-18ad-4cf6-b4e5-e87f8854700b",
   "metadata": {},
   "outputs": [],
   "source": [
    "# Fetching train and test data\n",
    "fish_df_train= fish_df_sample[fish_df_sample['sampleid'] == 1].drop('sampleid', axis=1)\n",
    "fish_df_test = fish_df_sample[fish_df_sample['sampleid'] == 2].drop('sampleid', axis=1)"
   ]
  },
  {
   "cell_type": "code",
   "execution_count": 11,
   "id": "83d72a72-3fac-4862-b374-d21ab59be1a6",
   "metadata": {},
   "outputs": [
    {
     "data": {
      "text/plain": [
       "(127, 7)"
      ]
     },
     "execution_count": 11,
     "metadata": {},
     "output_type": "execute_result"
    }
   ],
   "source": [
    "# train data shape\n",
    "fish_df_train.shape"
   ]
  },
  {
   "cell_type": "code",
   "execution_count": 12,
   "id": "b22be730-8a7a-40f3-8e2a-cabd8d1f427f",
   "metadata": {},
   "outputs": [
    {
     "data": {
      "text/plain": [
       "(32, 7)"
      ]
     },
     "execution_count": 12,
     "metadata": {},
     "output_type": "execute_result"
    }
   ],
   "source": [
    "# test data shape\n",
    "fish_df_test.shape"
   ]
  },
  {
   "cell_type": "code",
   "execution_count": 13,
   "id": "18473df2-be15-4e1e-bc5e-739abacf8b89",
   "metadata": {},
   "outputs": [
    {
     "data": {
      "text/html": [
       "<style type=\"text/css\">\n",
       "\ttable {border:ridge 5px;}\n",
       "\ttable td {border:inset 1px;}\n",
       "\ttable tr#HeaderRow {background-color:grey; color:white;}</style>\n",
       "<html><table>\n",
       "\t<tr id=\"HeaderRow\">\n",
       "\t\t<th>Species</th>\n",
       "\t\t<th>Weight</th>\n",
       "\t\t<th>Length1</th>\n",
       "\t\t<th>Length2</th>\n",
       "\t\t<th>Length3</th>\n",
       "\t\t<th>Height</th>\n",
       "\t\t<th>Width</th>\n",
       "\t</tr>\n",
       "\t<tr>\n",
       "\t\t<td>Bream</td>\n",
       "\t\t<td>475</td>\n",
       "\t\t<td>28.4</td>\n",
       "\t\t<td>31.0</td>\n",
       "\t\t<td>36.2</td>\n",
       "\t\t<td>14.2628</td>\n",
       "\t\t<td>5.1042</td>\n",
       "\t</tr>\n",
       "\t<tr>\n",
       "\t\t<td>Bream</td>\n",
       "\t\t<td>340</td>\n",
       "\t\t<td>29.5</td>\n",
       "\t\t<td>32.0</td>\n",
       "\t\t<td>37.3</td>\n",
       "\t\t<td>13.9129</td>\n",
       "\t\t<td>5.0728</td>\n",
       "\t</tr>\n",
       "\t<tr>\n",
       "\t\t<td>Bream</td>\n",
       "\t\t<td>600</td>\n",
       "\t\t<td>29.4</td>\n",
       "\t\t<td>32.0</td>\n",
       "\t\t<td>37.2</td>\n",
       "\t\t<td>14.9544</td>\n",
       "\t\t<td>5.1708</td>\n",
       "\t</tr>\n",
       "\t<tr>\n",
       "\t\t<td>Bream</td>\n",
       "\t\t<td>700</td>\n",
       "\t\t<td>30.4</td>\n",
       "\t\t<td>33.0</td>\n",
       "\t\t<td>38.3</td>\n",
       "\t\t<td>14.8604</td>\n",
       "\t\t<td>5.2854</td>\n",
       "\t</tr>\n",
       "\t<tr>\n",
       "\t\t<td>Bream</td>\n",
       "\t\t<td>610</td>\n",
       "\t\t<td>30.9</td>\n",
       "\t\t<td>33.5</td>\n",
       "\t\t<td>38.6</td>\n",
       "\t\t<td>15.633</td>\n",
       "\t\t<td>5.1338</td>\n",
       "\t</tr>\n",
       "\t<tr>\n",
       "\t\t<td>Bream</td>\n",
       "\t\t<td>650</td>\n",
       "\t\t<td>31.0</td>\n",
       "\t\t<td>33.5</td>\n",
       "\t\t<td>38.7</td>\n",
       "\t\t<td>14.4738</td>\n",
       "\t\t<td>5.7276</td>\n",
       "\t</tr>\n",
       "\t<tr>\n",
       "\t\t<td>Bream</td>\n",
       "\t\t<td>700</td>\n",
       "\t\t<td>30.4</td>\n",
       "\t\t<td>33.0</td>\n",
       "\t\t<td>38.5</td>\n",
       "\t\t<td>14.938</td>\n",
       "\t\t<td>5.1975</td>\n",
       "\t</tr>\n",
       "\t<tr>\n",
       "\t\t<td>Bream</td>\n",
       "\t\t<td>500</td>\n",
       "\t\t<td>28.7</td>\n",
       "\t\t<td>31.0</td>\n",
       "\t\t<td>36.2</td>\n",
       "\t\t<td>14.3714</td>\n",
       "\t\t<td>4.8146</td>\n",
       "\t</tr>\n",
       "\t<tr>\n",
       "\t\t<td>Bream</td>\n",
       "\t\t<td>450</td>\n",
       "\t\t<td>27.6</td>\n",
       "\t\t<td>30.0</td>\n",
       "\t\t<td>35.1</td>\n",
       "\t\t<td>14.0049</td>\n",
       "\t\t<td>4.8438</td>\n",
       "\t</tr>\n",
       "\t<tr>\n",
       "\t\t<td>Bream</td>\n",
       "\t\t<td>450</td>\n",
       "\t\t<td>26.8</td>\n",
       "\t\t<td>29.7</td>\n",
       "\t\t<td>34.7</td>\n",
       "\t\t<td>13.6024</td>\n",
       "\t\t<td>4.9274</td>\n",
       "\t</tr>\n",
       "</table></html>"
      ],
      "text/plain": [
       "         Weight  Length1  Length2  Length3   Height   Width\n",
       "Species                                                    \n",
       "Bream       475     28.4     31.0     36.2  14.2628  5.1042\n",
       "Bream       340     29.5     32.0     37.3  13.9129  5.0728\n",
       "Bream       600     29.4     32.0     37.2  14.9544  5.1708\n",
       "Bream       700     30.4     33.0     38.3  14.8604  5.2854\n",
       "Bream       610     30.9     33.5     38.6  15.6330  5.1338\n",
       "Bream       650     31.0     33.5     38.7  14.4738  5.7276\n",
       "Bream       700     30.4     33.0     38.5  14.9380  5.1975\n",
       "Bream       500     28.7     31.0     36.2  14.3714  4.8146\n",
       "Bream       450     27.6     30.0     35.1  14.0049  4.8438\n",
       "Bream       450     26.8     29.7     34.7  13.6024  4.9274"
      ]
     },
     "execution_count": 13,
     "metadata": {},
     "output_type": "execute_result"
    }
   ],
   "source": [
    "#train dataset\n",
    "fish_df_train.head()"
   ]
  },
  {
   "cell_type": "code",
   "execution_count": 14,
   "id": "58c9d763-4f19-449e-a35b-676d4d026acc",
   "metadata": {},
   "outputs": [
    {
     "data": {
      "text/html": [
       "<style type=\"text/css\">\n",
       "\ttable {border:ridge 5px;}\n",
       "\ttable td {border:inset 1px;}\n",
       "\ttable tr#HeaderRow {background-color:grey; color:white;}</style>\n",
       "<html><table>\n",
       "\t<tr id=\"HeaderRow\">\n",
       "\t\t<th>Species</th>\n",
       "\t\t<th>Weight</th>\n",
       "\t\t<th>Length1</th>\n",
       "\t\t<th>Length2</th>\n",
       "\t\t<th>Length3</th>\n",
       "\t\t<th>Height</th>\n",
       "\t\t<th>Width</th>\n",
       "\t</tr>\n",
       "\t<tr>\n",
       "\t\t<td>Bream</td>\n",
       "\t\t<td>500</td>\n",
       "\t\t<td>28.5</td>\n",
       "\t\t<td>30.7</td>\n",
       "\t\t<td>36.2</td>\n",
       "\t\t<td>14.2266</td>\n",
       "\t\t<td>4.9594</td>\n",
       "\t</tr>\n",
       "\t<tr>\n",
       "\t\t<td>Bream</td>\n",
       "\t\t<td>725</td>\n",
       "\t\t<td>31.8</td>\n",
       "\t\t<td>35.0</td>\n",
       "\t\t<td>40.9</td>\n",
       "\t\t<td>16.36</td>\n",
       "\t\t<td>6.0532</td>\n",
       "\t</tr>\n",
       "\t<tr>\n",
       "\t\t<td>Bream</td>\n",
       "\t\t<td>575</td>\n",
       "\t\t<td>31.3</td>\n",
       "\t\t<td>34.0</td>\n",
       "\t\t<td>39.5</td>\n",
       "\t\t<td>15.1285</td>\n",
       "\t\t<td>5.5695</td>\n",
       "\t</tr>\n",
       "\t<tr>\n",
       "\t\t<td>Bream</td>\n",
       "\t\t<td>920</td>\n",
       "\t\t<td>35.0</td>\n",
       "\t\t<td>38.5</td>\n",
       "\t\t<td>44.1</td>\n",
       "\t\t<td>18.0369</td>\n",
       "\t\t<td>6.3063</td>\n",
       "\t</tr>\n",
       "\t<tr>\n",
       "\t\t<td>Parkki</td>\n",
       "\t\t<td>170</td>\n",
       "\t\t<td>19.0</td>\n",
       "\t\t<td>20.7</td>\n",
       "\t\t<td>23.2</td>\n",
       "\t\t<td>9.396</td>\n",
       "\t\t<td>3.4104</td>\n",
       "\t</tr>\n",
       "\t<tr>\n",
       "\t\t<td>Parkki</td>\n",
       "\t\t<td>90</td>\n",
       "\t\t<td>16.3</td>\n",
       "\t\t<td>17.7</td>\n",
       "\t\t<td>19.8</td>\n",
       "\t\t<td>7.4052</td>\n",
       "\t\t<td>2.673</td>\n",
       "\t</tr>\n",
       "\t<tr>\n",
       "\t\t<td>Parkki</td>\n",
       "\t\t<td>273</td>\n",
       "\t\t<td>23.0</td>\n",
       "\t\t<td>25.0</td>\n",
       "\t\t<td>28.0</td>\n",
       "\t\t<td>11.088</td>\n",
       "\t\t<td>4.144</td>\n",
       "\t</tr>\n",
       "\t<tr>\n",
       "\t\t<td>Bream</td>\n",
       "\t\t<td>720</td>\n",
       "\t\t<td>32.0</td>\n",
       "\t\t<td>35.0</td>\n",
       "\t\t<td>40.6</td>\n",
       "\t\t<td>16.3618</td>\n",
       "\t\t<td>6.09</td>\n",
       "\t</tr>\n",
       "\t<tr>\n",
       "\t\t<td>Bream</td>\n",
       "\t\t<td>685</td>\n",
       "\t\t<td>31.4</td>\n",
       "\t\t<td>34.0</td>\n",
       "\t\t<td>39.2</td>\n",
       "\t\t<td>15.9936</td>\n",
       "\t\t<td>5.3704</td>\n",
       "\t</tr>\n",
       "\t<tr>\n",
       "\t\t<td>Bream</td>\n",
       "\t\t<td>242</td>\n",
       "\t\t<td>23.2</td>\n",
       "\t\t<td>25.4</td>\n",
       "\t\t<td>30.0</td>\n",
       "\t\t<td>11.52</td>\n",
       "\t\t<td>4.02</td>\n",
       "\t</tr>\n",
       "</table></html>"
      ],
      "text/plain": [
       "         Weight  Length1  Length2  Length3   Height   Width\n",
       "Species                                                    \n",
       "Bream       500     28.5     30.7     36.2  14.2266  4.9594\n",
       "Bream       725     31.8     35.0     40.9  16.3600  6.0532\n",
       "Bream       575     31.3     34.0     39.5  15.1285  5.5695\n",
       "Bream       920     35.0     38.5     44.1  18.0369  6.3063\n",
       "Parkki      170     19.0     20.7     23.2   9.3960  3.4104\n",
       "Parkki       90     16.3     17.7     19.8   7.4052  2.6730\n",
       "Parkki      273     23.0     25.0     28.0  11.0880  4.1440\n",
       "Bream       720     32.0     35.0     40.6  16.3618  6.0900\n",
       "Bream       685     31.4     34.0     39.2  15.9936  5.3704\n",
       "Bream       242     23.2     25.4     30.0  11.5200  4.0200"
      ]
     },
     "execution_count": 14,
     "metadata": {},
     "output_type": "execute_result"
    }
   ],
   "source": [
    "# test dataset\n",
    "fish_df_test.head()"
   ]
  },
  {
   "cell_type": "markdown",
   "id": "856ea871-93d8-4ea2-b524-1acb23bd7eb5",
   "metadata": {},
   "source": [
    "## <b><span style='color:#F1A424'>| 2.</span> Fitting AutoML </b>"
   ]
  },
  {
   "cell_type": "code",
   "execution_count": 15,
   "id": "f3650aa5-a408-4227-a88d-79c0f3d36d3c",
   "metadata": {},
   "outputs": [],
   "source": [
    "# Creating AutoML instance\n",
    "# Excluded 'glm' from model training.\n",
    "# Keeping early stopping timer threshold to 300 sec and max_models to 5\n",
    "# and verbose level 2 for detailed loggging\n",
    "\n",
    "aml = AutoML(task_type=\"Regression\", \n",
    "             exclude=['glm'],\n",
    "             max_runtime_secs=300,\n",
    "             max_models=5,\n",
    "             verbose=2)"
   ]
  },
  {
   "cell_type": "code",
   "execution_count": 16,
   "id": "a1b7a771-1bfa-40c9-8ad0-c377d320c137",
   "metadata": {},
   "outputs": [
    {
     "data": {
      "text/html": [
       "\n",
       "            <style>\n",
       "                .custom-div {\n",
       "                    background-color: lightgray;\n",
       "                    color: #000000;\n",
       "                    padding: 10px;\n",
       "                    border-radius: 8px;\n",
       "                    box-shadow: 0 3px 4px rgba(0, 0, 0, 0.2);\n",
       "                    margin-bottom: 10px;\n",
       "                    text-align: center;\n",
       "                }\n",
       "            </style>\n",
       "        <br><div class=\"custom-div\"><h3><span style=\"color: green;\"></span>1. Feature Exploration -> 2. Feature Engineering -> 3. Data Preparation -> 4. Model Training & Evaluation<center></h3></center></div>"
      ],
      "text/plain": [
       "<IPython.core.display.HTML object>"
      ]
     },
     "metadata": {},
     "output_type": "display_data"
    },
    {
     "name": "stdout",
     "output_type": "stream",
     "text": [
      "Feature Exploration started ...\n",
      "\n",
      "Data Overview:\n",
      "Total Rows in the data: 127\n",
      "Total Columns in the data: 7\n",
      "\n",
      "Column Summary:\n"
     ]
    },
    {
     "data": {
      "text/html": [
       "<style type=\"text/css\">\n",
       "\ttable {border:ridge 5px;}\n",
       "\ttable td {border:inset 1px;}\n",
       "\ttable tr#HeaderRow {background-color:grey; color:white;}</style>\n",
       "<html><table>\n",
       "\t<tr id=\"HeaderRow\">\n",
       "\t\t<th>ColumnName</th>\n",
       "\t\t<th>Datatype</th>\n",
       "\t\t<th>NonNullCount</th>\n",
       "\t\t<th>NullCount</th>\n",
       "\t\t<th>BlankCount</th>\n",
       "\t\t<th>ZeroCount</th>\n",
       "\t\t<th>PositiveCount</th>\n",
       "\t\t<th>NegativeCount</th>\n",
       "\t\t<th>NullPercentage</th>\n",
       "\t\t<th>NonNullPercentage</th>\n",
       "\t</tr>\n",
       "\t<tr>\n",
       "\t\t<td>Width</td>\n",
       "\t\t<td>FLOAT</td>\n",
       "\t\t<td>127</td>\n",
       "\t\t<td>0</td>\n",
       "\t\t<td>None</td>\n",
       "\t\t<td>0</td>\n",
       "\t\t<td>127</td>\n",
       "\t\t<td>0</td>\n",
       "\t\t<td>0.0</td>\n",
       "\t\t<td>100.0</td>\n",
       "\t</tr>\n",
       "\t<tr>\n",
       "\t\t<td>Weight</td>\n",
       "\t\t<td>INTEGER</td>\n",
       "\t\t<td>127</td>\n",
       "\t\t<td>0</td>\n",
       "\t\t<td>None</td>\n",
       "\t\t<td>0</td>\n",
       "\t\t<td>127</td>\n",
       "\t\t<td>0</td>\n",
       "\t\t<td>0.0</td>\n",
       "\t\t<td>100.0</td>\n",
       "\t</tr>\n",
       "\t<tr>\n",
       "\t\t<td>Length1</td>\n",
       "\t\t<td>FLOAT</td>\n",
       "\t\t<td>127</td>\n",
       "\t\t<td>0</td>\n",
       "\t\t<td>None</td>\n",
       "\t\t<td>0</td>\n",
       "\t\t<td>127</td>\n",
       "\t\t<td>0</td>\n",
       "\t\t<td>0.0</td>\n",
       "\t\t<td>100.0</td>\n",
       "\t</tr>\n",
       "\t<tr>\n",
       "\t\t<td>Height</td>\n",
       "\t\t<td>FLOAT</td>\n",
       "\t\t<td>127</td>\n",
       "\t\t<td>0</td>\n",
       "\t\t<td>None</td>\n",
       "\t\t<td>0</td>\n",
       "\t\t<td>127</td>\n",
       "\t\t<td>0</td>\n",
       "\t\t<td>0.0</td>\n",
       "\t\t<td>100.0</td>\n",
       "\t</tr>\n",
       "\t<tr>\n",
       "\t\t<td>Length3</td>\n",
       "\t\t<td>FLOAT</td>\n",
       "\t\t<td>127</td>\n",
       "\t\t<td>0</td>\n",
       "\t\t<td>None</td>\n",
       "\t\t<td>0</td>\n",
       "\t\t<td>127</td>\n",
       "\t\t<td>0</td>\n",
       "\t\t<td>0.0</td>\n",
       "\t\t<td>100.0</td>\n",
       "\t</tr>\n",
       "\t<tr>\n",
       "\t\t<td>Length2</td>\n",
       "\t\t<td>FLOAT</td>\n",
       "\t\t<td>127</td>\n",
       "\t\t<td>0</td>\n",
       "\t\t<td>None</td>\n",
       "\t\t<td>0</td>\n",
       "\t\t<td>127</td>\n",
       "\t\t<td>0</td>\n",
       "\t\t<td>0.0</td>\n",
       "\t\t<td>100.0</td>\n",
       "\t</tr>\n",
       "\t<tr>\n",
       "\t\t<td>Species</td>\n",
       "\t\t<td>VARCHAR(20) CHARACTER SET LATIN</td>\n",
       "\t\t<td>127</td>\n",
       "\t\t<td>0</td>\n",
       "\t\t<td>0</td>\n",
       "\t\t<td>None</td>\n",
       "\t\t<td>None</td>\n",
       "\t\t<td>None</td>\n",
       "\t\t<td>0.0</td>\n",
       "\t\t<td>100.0</td>\n",
       "\t</tr>\n",
       "</table></html>"
      ],
      "text/plain": [
       "  ColumnName                         Datatype  NonNullCount  NullCount  BlankCount  ZeroCount  PositiveCount  NegativeCount  NullPercentage  NonNullPercentage\n",
       "0      Width                            FLOAT           127          0         NaN        0.0          127.0            0.0             0.0              100.0\n",
       "1     Weight                          INTEGER           127          0         NaN        0.0          127.0            0.0             0.0              100.0\n",
       "2    Length1                            FLOAT           127          0         NaN        0.0          127.0            0.0             0.0              100.0\n",
       "3     Height                            FLOAT           127          0         NaN        0.0          127.0            0.0             0.0              100.0\n",
       "4    Length3                            FLOAT           127          0         NaN        0.0          127.0            0.0             0.0              100.0\n",
       "5    Length2                            FLOAT           127          0         NaN        0.0          127.0            0.0             0.0              100.0\n",
       "6    Species  VARCHAR(20) CHARACTER SET LATIN           127          0         0.0        NaN            NaN            NaN             0.0              100.0"
      ]
     },
     "metadata": {},
     "output_type": "display_data"
    },
    {
     "name": "stdout",
     "output_type": "stream",
     "text": [
      "\n",
      "Statistics of Data:\n"
     ]
    },
    {
     "data": {
      "text/html": [
       "<style type=\"text/css\">\n",
       "\ttable {border:ridge 5px;}\n",
       "\ttable td {border:inset 1px;}\n",
       "\ttable tr#HeaderRow {background-color:grey; color:white;}</style>\n",
       "<html><table>\n",
       "\t<tr id=\"HeaderRow\">\n",
       "\t\t<th>func</th>\n",
       "\t\t<th>Weight</th>\n",
       "\t\t<th>Length1</th>\n",
       "\t\t<th>Length2</th>\n",
       "\t\t<th>Length3</th>\n",
       "\t\t<th>Height</th>\n",
       "\t\t<th>Width</th>\n",
       "\t</tr>\n",
       "\t<tr>\n",
       "\t\t<td>50%</td>\n",
       "\t\t<td>270</td>\n",
       "\t\t<td>25</td>\n",
       "\t\t<td>26.5</td>\n",
       "\t\t<td>29</td>\n",
       "\t\t<td>7.68</td>\n",
       "\t\t<td>4.248</td>\n",
       "\t</tr>\n",
       "\t<tr>\n",
       "\t\t<td>count</td>\n",
       "\t\t<td>127</td>\n",
       "\t\t<td>127</td>\n",
       "\t\t<td>127</td>\n",
       "\t\t<td>127</td>\n",
       "\t\t<td>127</td>\n",
       "\t\t<td>127</td>\n",
       "\t</tr>\n",
       "\t<tr>\n",
       "\t\t<td>mean</td>\n",
       "\t\t<td>382.787</td>\n",
       "\t\t<td>25.804</td>\n",
       "\t\t<td>27.942</td>\n",
       "\t\t<td>30.72</td>\n",
       "\t\t<td>8.903</td>\n",
       "\t\t<td>4.383</td>\n",
       "\t</tr>\n",
       "\t<tr>\n",
       "\t\t<td>min</td>\n",
       "\t\t<td>5</td>\n",
       "\t\t<td>7.5</td>\n",
       "\t\t<td>8.4</td>\n",
       "\t\t<td>8.8</td>\n",
       "\t\t<td>1.728</td>\n",
       "\t\t<td>1.048</td>\n",
       "\t</tr>\n",
       "\t<tr>\n",
       "\t\t<td>max</td>\n",
       "\t\t<td>1550</td>\n",
       "\t\t<td>56</td>\n",
       "\t\t<td>60</td>\n",
       "\t\t<td>64</td>\n",
       "\t\t<td>18.957</td>\n",
       "\t\t<td>7.796</td>\n",
       "\t</tr>\n",
       "\t<tr>\n",
       "\t\t<td>75%</td>\n",
       "\t\t<td>615</td>\n",
       "\t\t<td>32.25</td>\n",
       "\t\t<td>35</td>\n",
       "\t\t<td>38.9</td>\n",
       "\t\t<td>12.366</td>\n",
       "\t\t<td>5.478</td>\n",
       "\t</tr>\n",
       "\t<tr>\n",
       "\t\t<td>25%</td>\n",
       "\t\t<td>122.5</td>\n",
       "\t\t<td>19.35</td>\n",
       "\t\t<td>21.15</td>\n",
       "\t\t<td>23.35</td>\n",
       "\t\t<td>5.927</td>\n",
       "\t\t<td>3.402</td>\n",
       "\t</tr>\n",
       "\t<tr>\n",
       "\t\t<td>std</td>\n",
       "\t\t<td>333.548</td>\n",
       "\t\t<td>9.495</td>\n",
       "\t\t<td>10.19</td>\n",
       "\t\t<td>11.075</td>\n",
       "\t\t<td>4.283</td>\n",
       "\t\t<td>1.661</td>\n",
       "\t</tr>\n",
       "</table></html>"
      ],
      "text/plain": [
       "         Weight  Length1  Length2  Length3   Height    Width\n",
       "func                                                        \n",
       "50%     270.000   25.000   26.500   29.000    7.680    4.248\n",
       "count   127.000  127.000  127.000  127.000  127.000  127.000\n",
       "mean    382.787   25.804   27.942   30.720    8.903    4.383\n",
       "min       5.000    7.500    8.400    8.800    1.728    1.048\n",
       "max    1550.000   56.000   60.000   64.000   18.957    7.796\n",
       "75%     615.000   32.250   35.000   38.900   12.366    5.478\n",
       "25%     122.500   19.350   21.150   23.350    5.927    3.402\n",
       "std     333.548    9.495   10.190   11.075    4.283    1.661"
      ]
     },
     "metadata": {},
     "output_type": "display_data"
    },
    {
     "name": "stdout",
     "output_type": "stream",
     "text": [
      "\n",
      "Categorical Columns with their Distinct values:\n",
      "ColumnName                DistinctValueCount\n",
      "Species                   7         \n",
      "\n",
      "No Futile columns found.\n",
      "\n",
      "Target Column Distribution:\n"
     ]
    },
    {
     "data": {
      "image/png": "[encoded data removed]",
      "text/plain": [
       "<Figure size 800x600 with 1 Axes>"
      ]
     },
     "metadata": {},
     "output_type": "display_data"
    },
    {
     "name": "stdout",
     "output_type": "stream",
     "text": [
      "Columns with outlier percentage :-                                                                                                                                                                                                                                                                                                                                                                                                                                                                                  \n",
      "  ColumnName  OutlierPercentage\n",
      "0    Length3           0.787402\n",
      "1     Weight           0.787402\n",
      "2    Length2           0.787402\n",
      "3    Length1           0.787402\n",
      "                                                                                        \r"
     ]
    },
    {
     "data": {
      "text/html": [
       "\n",
       "            <style>\n",
       "                .custom-div {\n",
       "                    background-color: lightgray;\n",
       "                    color: #000000;\n",
       "                    padding: 10px;\n",
       "                    border-radius: 8px;\n",
       "                    box-shadow: 0 3px 4px rgba(0 -  0 -  0 -  0.2);\n",
       "                    margin-bottom: 10px;\n",
       "                    text-align: center;\n",
       "                }\n",
       "            </style>\n",
       "        <br><div class=\"custom-div\"><h3><span style=\"color: green;\">1. Feature Exploration -></span> 2. Feature Engineering -> 3. Data Preparation -> 4. Model Training & Evaluation<center></h3></center></div>"
      ],
      "text/plain": [
       "<IPython.core.display.HTML object>"
      ]
     },
     "metadata": {},
     "output_type": "display_data"
    },
    {
     "name": "stdout",
     "output_type": "stream",
     "text": [
      "                                                                                        \r"
     ]
    },
    {
     "data": {
      "text/html": [
       "Feature Engineering started ..."
      ],
      "text/plain": [
       "<IPython.core.display.HTML object>"
      ]
     },
     "metadata": {},
     "output_type": "display_data"
    },
    {
     "name": "stdout",
     "output_type": "stream",
     "text": [
      "                                                                                        \r"
     ]
    },
    {
     "data": {
      "text/html": [
       "\n",
       "Handling duplicate records present in dataset ..."
      ],
      "text/plain": [
       "<IPython.core.display.HTML object>"
      ]
     },
     "metadata": {},
     "output_type": "display_data"
    },
    {
     "name": "stdout",
     "output_type": "stream",
     "text": [
      "Analysis completed. No action taken.                                                    \n",
      "                                                                                        \r"
     ]
    },
    {
     "data": {
      "text/html": [
       "Total time to handle duplicate records: 1.59 sec  "
      ],
      "text/plain": [
       "<IPython.core.display.HTML object>"
      ]
     },
     "metadata": {},
     "output_type": "display_data"
    },
    {
     "name": "stdout",
     "output_type": "stream",
     "text": [
      "                                                                                        \r"
     ]
    },
    {
     "data": {
      "text/html": [
       "\n",
       "Handling less significant features from data ..."
      ],
      "text/plain": [
       "<IPython.core.display.HTML object>"
      ]
     },
     "metadata": {},
     "output_type": "display_data"
    },
    {
     "name": "stdout",
     "output_type": "stream",
     "text": [
      "Analysis indicates all categorical columns are significant. No action Needed.           \n",
      "                                                                                        \r"
     ]
    },
    {
     "data": {
      "text/html": [
       "Total time to handle less significant features: 15.27 sec  "
      ],
      "text/plain": [
       "<IPython.core.display.HTML object>"
      ]
     },
     "metadata": {},
     "output_type": "display_data"
    },
    {
     "name": "stdout",
     "output_type": "stream",
     "text": [
      "                                                                                         \r"
     ]
    },
    {
     "data": {
      "text/html": [
       "\n",
       "Handling Date Features ..."
      ],
      "text/plain": [
       "<IPython.core.display.HTML object>"
      ]
     },
     "metadata": {},
     "output_type": "display_data"
    },
    {
     "name": "stdout",
     "output_type": "stream",
     "text": [
      "Analysis Completed. Dataset does not contain any feature related to dates. No action needed.\n",
      "                                                                                         \r"
     ]
    },
    {
     "data": {
      "text/html": [
       "Total time to handle date features: 0.00 sec\n"
      ],
      "text/plain": [
       "<IPython.core.display.HTML object>"
      ]
     },
     "metadata": {},
     "output_type": "display_data"
    },
    {
     "name": "stdout",
     "output_type": "stream",
     "text": [
      "                                                                                         \r"
     ]
    },
    {
     "data": {
      "text/html": [
       "\n",
       "Checking Missing values in dataset ..."
      ],
      "text/plain": [
       "<IPython.core.display.HTML object>"
      ]
     },
     "metadata": {},
     "output_type": "display_data"
    },
    {
     "name": "stdout",
     "output_type": "stream",
     "text": [
      "Analysis Completed. No Missing Values Detected.                                          \n",
      "                                                                                         \r"
     ]
    },
    {
     "data": {
      "text/html": [
       "Total time to find missing values in data: 7.43 sec  "
      ],
      "text/plain": [
       "<IPython.core.display.HTML object>"
      ]
     },
     "metadata": {},
     "output_type": "display_data"
    },
    {
     "name": "stdout",
     "output_type": "stream",
     "text": [
      "                                                                                         \r"
     ]
    },
    {
     "data": {
      "text/html": [
       "\n",
       "Imputing Missing Values ..."
      ],
      "text/plain": [
       "<IPython.core.display.HTML object>"
      ]
     },
     "metadata": {},
     "output_type": "display_data"
    },
    {
     "name": "stdout",
     "output_type": "stream",
     "text": [
      "Analysis completed. No imputation required.                                              \n",
      "                                                                                         \r"
     ]
    },
    {
     "data": {
      "text/html": [
       "Time taken to perform imputation: 0.01 sec  "
      ],
      "text/plain": [
       "<IPython.core.display.HTML object>"
      ]
     },
     "metadata": {},
     "output_type": "display_data"
    },
    {
     "name": "stdout",
     "output_type": "stream",
     "text": [
      "                                                                                         \r"
     ]
    },
    {
     "data": {
      "text/html": [
       "\n",
       "Performing encoding for categorical columns ..."
      ],
      "text/plain": [
       "<IPython.core.display.HTML object>"
      ]
     },
     "metadata": {},
     "output_type": "display_data"
    },
    {
     "name": "stdout",
     "output_type": "stream",
     "text": [
      "result data stored in table '\"ALICE\".\"ml__td_sqlmr_persist_out__1719259572932400\"' - 5/18\n",
      "                                                                                         \r"
     ]
    },
    {
     "data": {
      "text/html": [
       "ONE HOT Encoding these Columns:"
      ],
      "text/plain": [
       "<IPython.core.display.HTML object>"
      ]
     },
     "metadata": {},
     "output_type": "display_data"
    },
    {
     "name": "stdout",
     "output_type": "stream",
     "text": [
      "['Species']\n",
      "                                                                                         \r"
     ]
    },
    {
     "data": {
      "text/html": [
       "Sample of dataset after performing one hot encoding:"
      ],
      "text/plain": [
       "<IPython.core.display.HTML object>"
      ]
     },
     "metadata": {},
     "output_type": "display_data"
    },
    {
     "data": {
      "text/html": [
       "<style type=\"text/css\">\n",
       "\ttable {border:ridge 5px;}\n",
       "\ttable td {border:inset 1px;}\n",
       "\ttable tr#HeaderRow {background-color:grey; color:white;}</style>\n",
       "<html><table>\n",
       "\t<tr id=\"HeaderRow\">\n",
       "\t\t<th>Species_0</th>\n",
       "\t\t<th>Species_1</th>\n",
       "\t\t<th>Species_2</th>\n",
       "\t\t<th>Species_3</th>\n",
       "\t\t<th>Species_4</th>\n",
       "\t\t<th>Species_5</th>\n",
       "\t\t<th>Species_6</th>\n",
       "\t\t<th>Weight</th>\n",
       "\t\t<th>Length1</th>\n",
       "\t\t<th>Length2</th>\n",
       "\t\t<th>Length3</th>\n",
       "\t\t<th>Height</th>\n",
       "\t\t<th>Width</th>\n",
       "\t\t<th>id</th>\n",
       "\t</tr>\n",
       "\t<tr>\n",
       "\t\t<td>1</td>\n",
       "\t\t<td>0</td>\n",
       "\t\t<td>0</td>\n",
       "\t\t<td>0</td>\n",
       "\t\t<td>0</td>\n",
       "\t\t<td>0</td>\n",
       "\t\t<td>0</td>\n",
       "\t\t<td>620</td>\n",
       "\t\t<td>31.5</td>\n",
       "\t\t<td>34.5</td>\n",
       "\t\t<td>39.7</td>\n",
       "\t\t<td>15.5227</td>\n",
       "\t\t<td>5.2801</td>\n",
       "\t\t<td>50</td>\n",
       "\t</tr>\n",
       "\t<tr>\n",
       "\t\t<td>1</td>\n",
       "\t\t<td>0</td>\n",
       "\t\t<td>0</td>\n",
       "\t\t<td>0</td>\n",
       "\t\t<td>0</td>\n",
       "\t\t<td>0</td>\n",
       "\t\t<td>0</td>\n",
       "\t\t<td>700</td>\n",
       "\t\t<td>31.9</td>\n",
       "\t\t<td>35.0</td>\n",
       "\t\t<td>40.5</td>\n",
       "\t\t<td>16.2405</td>\n",
       "\t\t<td>5.589</td>\n",
       "\t\t<td>74</td>\n",
       "\t</tr>\n",
       "\t<tr>\n",
       "\t\t<td>1</td>\n",
       "\t\t<td>0</td>\n",
       "\t\t<td>0</td>\n",
       "\t\t<td>0</td>\n",
       "\t\t<td>0</td>\n",
       "\t\t<td>0</td>\n",
       "\t\t<td>0</td>\n",
       "\t\t<td>850</td>\n",
       "\t\t<td>32.8</td>\n",
       "\t\t<td>36.0</td>\n",
       "\t\t<td>41.6</td>\n",
       "\t\t<td>16.8896</td>\n",
       "\t\t<td>6.1984</td>\n",
       "\t\t<td>82</td>\n",
       "\t</tr>\n",
       "\t<tr>\n",
       "\t\t<td>1</td>\n",
       "\t\t<td>0</td>\n",
       "\t\t<td>0</td>\n",
       "\t\t<td>0</td>\n",
       "\t\t<td>0</td>\n",
       "\t\t<td>0</td>\n",
       "\t\t<td>0</td>\n",
       "\t\t<td>430</td>\n",
       "\t\t<td>26.5</td>\n",
       "\t\t<td>29.0</td>\n",
       "\t\t<td>34.0</td>\n",
       "\t\t<td>12.444</td>\n",
       "\t\t<td>5.134</td>\n",
       "\t\t<td>90</td>\n",
       "\t</tr>\n",
       "\t<tr>\n",
       "\t\t<td>1</td>\n",
       "\t\t<td>0</td>\n",
       "\t\t<td>0</td>\n",
       "\t\t<td>0</td>\n",
       "\t\t<td>0</td>\n",
       "\t\t<td>0</td>\n",
       "\t\t<td>0</td>\n",
       "\t\t<td>500</td>\n",
       "\t\t<td>28.7</td>\n",
       "\t\t<td>31.0</td>\n",
       "\t\t<td>36.2</td>\n",
       "\t\t<td>14.3714</td>\n",
       "\t\t<td>4.8146</td>\n",
       "\t\t<td>106</td>\n",
       "\t</tr>\n",
       "\t<tr>\n",
       "\t\t<td>1</td>\n",
       "\t\t<td>0</td>\n",
       "\t\t<td>0</td>\n",
       "\t\t<td>0</td>\n",
       "\t\t<td>0</td>\n",
       "\t\t<td>0</td>\n",
       "\t\t<td>0</td>\n",
       "\t\t<td>475</td>\n",
       "\t\t<td>28.4</td>\n",
       "\t\t<td>31.0</td>\n",
       "\t\t<td>36.2</td>\n",
       "\t\t<td>14.2628</td>\n",
       "\t\t<td>5.1042</td>\n",
       "\t\t<td>114</td>\n",
       "\t</tr>\n",
       "\t<tr>\n",
       "\t\t<td>0</td>\n",
       "\t\t<td>1</td>\n",
       "\t\t<td>0</td>\n",
       "\t\t<td>0</td>\n",
       "\t\t<td>0</td>\n",
       "\t\t<td>0</td>\n",
       "\t\t<td>0</td>\n",
       "\t\t<td>55</td>\n",
       "\t\t<td>13.5</td>\n",
       "\t\t<td>14.7</td>\n",
       "\t\t<td>16.5</td>\n",
       "\t\t<td>6.8475</td>\n",
       "\t\t<td>2.3265</td>\n",
       "\t\t<td>24</td>\n",
       "\t</tr>\n",
       "\t<tr>\n",
       "\t\t<td>0</td>\n",
       "\t\t<td>1</td>\n",
       "\t\t<td>0</td>\n",
       "\t\t<td>0</td>\n",
       "\t\t<td>0</td>\n",
       "\t\t<td>0</td>\n",
       "\t\t<td>0</td>\n",
       "\t\t<td>150</td>\n",
       "\t\t<td>18.4</td>\n",
       "\t\t<td>20.0</td>\n",
       "\t\t<td>22.4</td>\n",
       "\t\t<td>8.8928</td>\n",
       "\t\t<td>3.2928</td>\n",
       "\t\t<td>40</td>\n",
       "\t</tr>\n",
       "\t<tr>\n",
       "\t\t<td>0</td>\n",
       "\t\t<td>1</td>\n",
       "\t\t<td>0</td>\n",
       "\t\t<td>0</td>\n",
       "\t\t<td>0</td>\n",
       "\t\t<td>0</td>\n",
       "\t\t<td>0</td>\n",
       "\t\t<td>140</td>\n",
       "\t\t<td>19.0</td>\n",
       "\t\t<td>20.7</td>\n",
       "\t\t<td>23.2</td>\n",
       "\t\t<td>8.5376</td>\n",
       "\t\t<td>3.2944</td>\n",
       "\t\t<td>48</td>\n",
       "\t</tr>\n",
       "\t<tr>\n",
       "\t\t<td>0</td>\n",
       "\t\t<td>1</td>\n",
       "\t\t<td>0</td>\n",
       "\t\t<td>0</td>\n",
       "\t\t<td>0</td>\n",
       "\t\t<td>0</td>\n",
       "\t\t<td>0</td>\n",
       "\t\t<td>145</td>\n",
       "\t\t<td>19.8</td>\n",
       "\t\t<td>21.5</td>\n",
       "\t\t<td>24.1</td>\n",
       "\t\t<td>9.7364</td>\n",
       "\t\t<td>3.1571</td>\n",
       "\t\t<td>56</td>\n",
       "\t</tr>\n",
       "</table></html>"
      ],
      "text/plain": [
       "           Species_1  Species_2  Species_3  Species_4  Species_5  Species_6  Weight  Length1  Length2  Length3   Height   Width   id\n",
       "Species_0                                                                                                                           \n",
       "1                  0          0          0          0          0          0     620     31.5     34.5     39.7  15.5227  5.2801   50\n",
       "1                  0          0          0          0          0          0     700     31.9     35.0     40.5  16.2405  5.5890   74\n",
       "1                  0          0          0          0          0          0     850     32.8     36.0     41.6  16.8896  6.1984   82\n",
       "1                  0          0          0          0          0          0     430     26.5     29.0     34.0  12.4440  5.1340   90\n",
       "1                  0          0          0          0          0          0     500     28.7     31.0     36.2  14.3714  4.8146  106\n",
       "1                  0          0          0          0          0          0     475     28.4     31.0     36.2  14.2628  5.1042  114\n",
       "0                  1          0          0          0          0          0      55     13.5     14.7     16.5   6.8475  2.3265   24\n",
       "0                  1          0          0          0          0          0     150     18.4     20.0     22.4   8.8928  3.2928   40\n",
       "0                  1          0          0          0          0          0     140     19.0     20.7     23.2   8.5376  3.2944   48\n",
       "0                  1          0          0          0          0          0     145     19.8     21.5     24.1   9.7364  3.1571   56"
      ]
     },
     "metadata": {},
     "output_type": "display_data"
    },
    {
     "name": "stdout",
     "output_type": "stream",
     "text": [
      "                                                                                         \r"
     ]
    },
    {
     "data": {
      "text/html": [
       "127 rows X 14 columns"
      ],
      "text/plain": [
       "<IPython.core.display.HTML object>"
      ]
     },
     "metadata": {},
     "output_type": "display_data"
    },
    {
     "name": "stdout",
     "output_type": "stream",
     "text": [
      "                                                                                         \r"
     ]
    },
    {
     "data": {
      "text/html": [
       "Time taken to encode the columns: 13.71 sec"
      ],
      "text/plain": [
       "<IPython.core.display.HTML object>"
      ]
     },
     "metadata": {},
     "output_type": "display_data"
    },
    {
     "name": "stdout",
     "output_type": "stream",
     "text": [
      "                                                                                         \r"
     ]
    },
    {
     "data": {
      "text/html": [
       "\n",
       "            <style>\n",
       "                .custom-div {\n",
       "                    background-color: lightgray;\n",
       "                    color: #000000;\n",
       "                    padding: 10px;\n",
       "                    border-radius: 8px;\n",
       "                    box-shadow: 0 3px 4px rgba(0 -  0 -  0 -  0.2);\n",
       "                    margin-bottom: 10px;\n",
       "                    text-align: center;\n",
       "                }\n",
       "            </style>\n",
       "        <br><div class=\"custom-div\"><h3><span style=\"color: green;\">1. Feature Exploration -> 2. Feature Engineering -></span> 3. Data Preparation -> 4. Model Training & Evaluation<center></h3></center></div>"
      ],
      "text/plain": [
       "<IPython.core.display.HTML object>"
      ]
     },
     "metadata": {},
     "output_type": "display_data"
    },
    {
     "name": "stdout",
     "output_type": "stream",
     "text": [
      "                                                                                         \r"
     ]
    },
    {
     "data": {
      "text/html": [
       "Data preparation started ..."
      ],
      "text/plain": [
       "<IPython.core.display.HTML object>"
      ]
     },
     "metadata": {},
     "output_type": "display_data"
    },
    {
     "name": "stdout",
     "output_type": "stream",
     "text": [
      "                                                                                         \r"
     ]
    },
    {
     "data": {
      "text/html": [
       "\n",
       "Spliting of dataset into training and testing ..."
      ],
      "text/plain": [
       "<IPython.core.display.HTML object>"
      ]
     },
     "metadata": {},
     "output_type": "display_data"
    },
    {
     "name": "stdout",
     "output_type": "stream",
     "text": [
      "Training size : 0.8                                                                      \n",
      "Testing size  : 0.2                                                                      \n",
      "                                                                                         \r"
     ]
    },
    {
     "data": {
      "text/html": [
       "Training data sample"
      ],
      "text/plain": [
       "<IPython.core.display.HTML object>"
      ]
     },
     "metadata": {},
     "output_type": "display_data"
    },
    {
     "data": {
      "text/html": [
       "<style type=\"text/css\">\n",
       "\ttable {border:ridge 5px;}\n",
       "\ttable td {border:inset 1px;}\n",
       "\ttable tr#HeaderRow {background-color:grey; color:white;}</style>\n",
       "<html><table>\n",
       "\t<tr id=\"HeaderRow\">\n",
       "\t\t<th>Species_0</th>\n",
       "\t\t<th>Species_1</th>\n",
       "\t\t<th>Species_2</th>\n",
       "\t\t<th>Species_3</th>\n",
       "\t\t<th>Species_4</th>\n",
       "\t\t<th>Species_5</th>\n",
       "\t\t<th>Species_6</th>\n",
       "\t\t<th>Weight</th>\n",
       "\t\t<th>Length1</th>\n",
       "\t\t<th>Length2</th>\n",
       "\t\t<th>Length3</th>\n",
       "\t\t<th>Height</th>\n",
       "\t\t<th>Width</th>\n",
       "\t\t<th>id</th>\n",
       "\t</tr>\n",
       "\t<tr>\n",
       "\t\t<td>0</td>\n",
       "\t\t<td>0</td>\n",
       "\t\t<td>0</td>\n",
       "\t\t<td>0</td>\n",
       "\t\t<td>0</td>\n",
       "\t\t<td>1</td>\n",
       "\t\t<td>0</td>\n",
       "\t\t<td>8</td>\n",
       "\t\t<td>10.8</td>\n",
       "\t\t<td>11.3</td>\n",
       "\t\t<td>12.6</td>\n",
       "\t\t<td>1.9782</td>\n",
       "\t\t<td>1.2852</td>\n",
       "\t\t<td>15</td>\n",
       "\t</tr>\n",
       "\t<tr>\n",
       "\t\t<td>0</td>\n",
       "\t\t<td>0</td>\n",
       "\t\t<td>0</td>\n",
       "\t\t<td>0</td>\n",
       "\t\t<td>1</td>\n",
       "\t\t<td>0</td>\n",
       "\t\t<td>0</td>\n",
       "\t\t<td>150</td>\n",
       "\t\t<td>20.4</td>\n",
       "\t\t<td>22.0</td>\n",
       "\t\t<td>24.7</td>\n",
       "\t\t<td>5.8045</td>\n",
       "\t\t<td>3.7544</td>\n",
       "\t\t<td>20</td>\n",
       "\t</tr>\n",
       "\t<tr>\n",
       "\t\t<td>0</td>\n",
       "\t\t<td>0</td>\n",
       "\t\t<td>0</td>\n",
       "\t\t<td>1</td>\n",
       "\t\t<td>0</td>\n",
       "\t\t<td>0</td>\n",
       "\t\t<td>0</td>\n",
       "\t\t<td>456</td>\n",
       "\t\t<td>40.0</td>\n",
       "\t\t<td>42.5</td>\n",
       "\t\t<td>45.5</td>\n",
       "\t\t<td>7.28</td>\n",
       "\t\t<td>4.3225</td>\n",
       "\t\t<td>21</td>\n",
       "\t</tr>\n",
       "\t<tr>\n",
       "\t\t<td>0</td>\n",
       "\t\t<td>0</td>\n",
       "\t\t<td>0</td>\n",
       "\t\t<td>0</td>\n",
       "\t\t<td>0</td>\n",
       "\t\t<td>1</td>\n",
       "\t\t<td>0</td>\n",
       "\t\t<td>9</td>\n",
       "\t\t<td>11.3</td>\n",
       "\t\t<td>11.8</td>\n",
       "\t\t<td>13.1</td>\n",
       "\t\t<td>2.2139</td>\n",
       "\t\t<td>1.1659</td>\n",
       "\t\t<td>23</td>\n",
       "\t</tr>\n",
       "\t<tr>\n",
       "\t\t<td>0</td>\n",
       "\t\t<td>0</td>\n",
       "\t\t<td>0</td>\n",
       "\t\t<td>0</td>\n",
       "\t\t<td>1</td>\n",
       "\t\t<td>0</td>\n",
       "\t\t<td>0</td>\n",
       "\t\t<td>290</td>\n",
       "\t\t<td>24.0</td>\n",
       "\t\t<td>26.0</td>\n",
       "\t\t<td>29.2</td>\n",
       "\t\t<td>8.8768</td>\n",
       "\t\t<td>4.4968</td>\n",
       "\t\t<td>28</td>\n",
       "\t</tr>\n",
       "\t<tr>\n",
       "\t\t<td>0</td>\n",
       "\t\t<td>0</td>\n",
       "\t\t<td>0</td>\n",
       "\t\t<td>1</td>\n",
       "\t\t<td>0</td>\n",
       "\t\t<td>0</td>\n",
       "\t\t<td>0</td>\n",
       "\t\t<td>300</td>\n",
       "\t\t<td>31.7</td>\n",
       "\t\t<td>34.0</td>\n",
       "\t\t<td>37.8</td>\n",
       "\t\t<td>5.7078</td>\n",
       "\t\t<td>4.158</td>\n",
       "\t\t<td>29</td>\n",
       "\t</tr>\n",
       "\t<tr>\n",
       "\t\t<td>1</td>\n",
       "\t\t<td>0</td>\n",
       "\t\t<td>0</td>\n",
       "\t\t<td>0</td>\n",
       "\t\t<td>0</td>\n",
       "\t\t<td>0</td>\n",
       "\t\t<td>0</td>\n",
       "\t\t<td>650</td>\n",
       "\t\t<td>31.0</td>\n",
       "\t\t<td>33.5</td>\n",
       "\t\t<td>38.7</td>\n",
       "\t\t<td>14.4738</td>\n",
       "\t\t<td>5.7276</td>\n",
       "\t\t<td>10</td>\n",
       "\t</tr>\n",
       "\t<tr>\n",
       "\t\t<td>1</td>\n",
       "\t\t<td>0</td>\n",
       "\t\t<td>0</td>\n",
       "\t\t<td>0</td>\n",
       "\t\t<td>0</td>\n",
       "\t\t<td>0</td>\n",
       "\t\t<td>0</td>\n",
       "\t\t<td>955</td>\n",
       "\t\t<td>35.0</td>\n",
       "\t\t<td>38.5</td>\n",
       "\t\t<td>44.0</td>\n",
       "\t\t<td>18.084</td>\n",
       "\t\t<td>6.292</td>\n",
       "\t\t<td>18</td>\n",
       "\t</tr>\n",
       "\t<tr>\n",
       "\t\t<td>1</td>\n",
       "\t\t<td>0</td>\n",
       "\t\t<td>0</td>\n",
       "\t\t<td>0</td>\n",
       "\t\t<td>0</td>\n",
       "\t\t<td>0</td>\n",
       "\t\t<td>0</td>\n",
       "\t\t<td>700</td>\n",
       "\t\t<td>30.4</td>\n",
       "\t\t<td>33.0</td>\n",
       "\t\t<td>38.5</td>\n",
       "\t\t<td>14.938</td>\n",
       "\t\t<td>5.1975</td>\n",
       "\t\t<td>34</td>\n",
       "\t</tr>\n",
       "\t<tr>\n",
       "\t\t<td>1</td>\n",
       "\t\t<td>0</td>\n",
       "\t\t<td>0</td>\n",
       "\t\t<td>0</td>\n",
       "\t\t<td>0</td>\n",
       "\t\t<td>0</td>\n",
       "\t\t<td>0</td>\n",
       "\t\t<td>925</td>\n",
       "\t\t<td>36.2</td>\n",
       "\t\t<td>39.5</td>\n",
       "\t\t<td>45.3</td>\n",
       "\t\t<td>18.7542</td>\n",
       "\t\t<td>6.7497</td>\n",
       "\t\t<td>42</td>\n",
       "\t</tr>\n",
       "</table></html>"
      ],
      "text/plain": [
       "   Species_0  Species_1  Species_2  Species_3  Species_4  Species_5  Species_6  Weight  Length1  Length2  Length3   Height   Width  id\n",
       "0          0          0          0          0          0          1          0       8     10.8     11.3     12.6   1.9782  1.2852  15\n",
       "1          0          0          0          0          1          0          0     150     20.4     22.0     24.7   5.8045  3.7544  20\n",
       "2          0          0          0          1          0          0          0     456     40.0     42.5     45.5   7.2800  4.3225  21\n",
       "3          0          0          0          0          0          1          0       9     11.3     11.8     13.1   2.2139  1.1659  23\n",
       "4          0          0          0          0          1          0          0     290     24.0     26.0     29.2   8.8768  4.4968  28\n",
       "5          0          0          0          1          0          0          0     300     31.7     34.0     37.8   5.7078  4.1580  29\n",
       "6          1          0          0          0          0          0          0     650     31.0     33.5     38.7  14.4738  5.7276  10\n",
       "7          1          0          0          0          0          0          0     955     35.0     38.5     44.0  18.0840  6.2920  18\n",
       "8          1          0          0          0          0          0          0     700     30.4     33.0     38.5  14.9380  5.1975  34\n",
       "9          1          0          0          0          0          0          0     925     36.2     39.5     45.3  18.7542  6.7497  42"
      ]
     },
     "metadata": {},
     "output_type": "display_data"
    },
    {
     "name": "stdout",
     "output_type": "stream",
     "text": [
      "                                                                                         \r"
     ]
    },
    {
     "data": {
      "text/html": [
       "101 rows X 14 columns"
      ],
      "text/plain": [
       "<IPython.core.display.HTML object>"
      ]
     },
     "metadata": {},
     "output_type": "display_data"
    },
    {
     "name": "stdout",
     "output_type": "stream",
     "text": [
      "                                                                                         \r"
     ]
    },
    {
     "data": {
      "text/html": [
       "Testing data sample"
      ],
      "text/plain": [
       "<IPython.core.display.HTML object>"
      ]
     },
     "metadata": {},
     "output_type": "display_data"
    },
    {
     "data": {
      "text/html": [
       "<style type=\"text/css\">\n",
       "\ttable {border:ridge 5px;}\n",
       "\ttable td {border:inset 1px;}\n",
       "\ttable tr#HeaderRow {background-color:grey; color:white;}</style>\n",
       "<html><table>\n",
       "\t<tr id=\"HeaderRow\">\n",
       "\t\t<th>Species_0</th>\n",
       "\t\t<th>Species_1</th>\n",
       "\t\t<th>Species_2</th>\n",
       "\t\t<th>Species_3</th>\n",
       "\t\t<th>Species_4</th>\n",
       "\t\t<th>Species_5</th>\n",
       "\t\t<th>Species_6</th>\n",
       "\t\t<th>Weight</th>\n",
       "\t\t<th>Length1</th>\n",
       "\t\t<th>Length2</th>\n",
       "\t\t<th>Length3</th>\n",
       "\t\t<th>Height</th>\n",
       "\t\t<th>Width</th>\n",
       "\t\t<th>id</th>\n",
       "\t</tr>\n",
       "\t<tr>\n",
       "\t\t<td>1</td>\n",
       "\t\t<td>0</td>\n",
       "\t\t<td>0</td>\n",
       "\t\t<td>0</td>\n",
       "\t\t<td>0</td>\n",
       "\t\t<td>0</td>\n",
       "\t\t<td>0</td>\n",
       "\t\t<td>600</td>\n",
       "\t\t<td>29.4</td>\n",
       "\t\t<td>32.0</td>\n",
       "\t\t<td>37.2</td>\n",
       "\t\t<td>15.438</td>\n",
       "\t\t<td>5.58</td>\n",
       "\t\t<td>186</td>\n",
       "\t</tr>\n",
       "\t<tr>\n",
       "\t\t<td>1</td>\n",
       "\t\t<td>0</td>\n",
       "\t\t<td>0</td>\n",
       "\t\t<td>0</td>\n",
       "\t\t<td>0</td>\n",
       "\t\t<td>0</td>\n",
       "\t\t<td>0</td>\n",
       "\t\t<td>340</td>\n",
       "\t\t<td>29.5</td>\n",
       "\t\t<td>32.0</td>\n",
       "\t\t<td>37.3</td>\n",
       "\t\t<td>13.9129</td>\n",
       "\t\t<td>5.0728</td>\n",
       "\t\t<td>210</td>\n",
       "\t</tr>\n",
       "\t<tr>\n",
       "\t\t<td>1</td>\n",
       "\t\t<td>0</td>\n",
       "\t\t<td>0</td>\n",
       "\t\t<td>0</td>\n",
       "\t\t<td>0</td>\n",
       "\t\t<td>0</td>\n",
       "\t\t<td>0</td>\n",
       "\t\t<td>500</td>\n",
       "\t\t<td>29.1</td>\n",
       "\t\t<td>31.5</td>\n",
       "\t\t<td>36.4</td>\n",
       "\t\t<td>13.7592</td>\n",
       "\t\t<td>4.368</td>\n",
       "\t\t<td>226</td>\n",
       "\t</tr>\n",
       "\t<tr>\n",
       "\t\t<td>0</td>\n",
       "\t\t<td>0</td>\n",
       "\t\t<td>0</td>\n",
       "\t\t<td>1</td>\n",
       "\t\t<td>0</td>\n",
       "\t\t<td>0</td>\n",
       "\t\t<td>0</td>\n",
       "\t\t<td>300</td>\n",
       "\t\t<td>32.7</td>\n",
       "\t\t<td>35.0</td>\n",
       "\t\t<td>38.8</td>\n",
       "\t\t<td>5.9364</td>\n",
       "\t\t<td>4.3844</td>\n",
       "\t\t<td>13</td>\n",
       "\t</tr>\n",
       "\t<tr>\n",
       "\t\t<td>0</td>\n",
       "\t\t<td>0</td>\n",
       "\t\t<td>0</td>\n",
       "\t\t<td>1</td>\n",
       "\t\t<td>0</td>\n",
       "\t\t<td>0</td>\n",
       "\t\t<td>0</td>\n",
       "\t\t<td>950</td>\n",
       "\t\t<td>48.3</td>\n",
       "\t\t<td>51.7</td>\n",
       "\t\t<td>55.1</td>\n",
       "\t\t<td>8.9262</td>\n",
       "\t\t<td>6.1712</td>\n",
       "\t\t<td>53</td>\n",
       "\t</tr>\n",
       "\t<tr>\n",
       "\t\t<td>0</td>\n",
       "\t\t<td>1</td>\n",
       "\t\t<td>0</td>\n",
       "\t\t<td>0</td>\n",
       "\t\t<td>0</td>\n",
       "\t\t<td>0</td>\n",
       "\t\t<td>0</td>\n",
       "\t\t<td>145</td>\n",
       "\t\t<td>19.8</td>\n",
       "\t\t<td>21.5</td>\n",
       "\t\t<td>24.1</td>\n",
       "\t\t<td>9.7364</td>\n",
       "\t\t<td>3.1571</td>\n",
       "\t\t<td>56</td>\n",
       "\t</tr>\n",
       "\t<tr>\n",
       "\t\t<td>0</td>\n",
       "\t\t<td>0</td>\n",
       "\t\t<td>0</td>\n",
       "\t\t<td>0</td>\n",
       "\t\t<td>1</td>\n",
       "\t\t<td>0</td>\n",
       "\t\t<td>0</td>\n",
       "\t\t<td>160</td>\n",
       "\t\t<td>20.5</td>\n",
       "\t\t<td>22.5</td>\n",
       "\t\t<td>25.3</td>\n",
       "\t\t<td>7.0334</td>\n",
       "\t\t<td>3.8203</td>\n",
       "\t\t<td>60</td>\n",
       "\t</tr>\n",
       "\t<tr>\n",
       "\t\t<td>0</td>\n",
       "\t\t<td>0</td>\n",
       "\t\t<td>0</td>\n",
       "\t\t<td>0</td>\n",
       "\t\t<td>1</td>\n",
       "\t\t<td>0</td>\n",
       "\t\t<td>0</td>\n",
       "\t\t<td>140</td>\n",
       "\t\t<td>21.0</td>\n",
       "\t\t<td>22.5</td>\n",
       "\t\t<td>25.0</td>\n",
       "\t\t<td>6.55</td>\n",
       "\t\t<td>3.325</td>\n",
       "\t\t<td>68</td>\n",
       "\t</tr>\n",
       "\t<tr>\n",
       "\t\t<td>0</td>\n",
       "\t\t<td>0</td>\n",
       "\t\t<td>0</td>\n",
       "\t\t<td>0</td>\n",
       "\t\t<td>1</td>\n",
       "\t\t<td>0</td>\n",
       "\t\t<td>0</td>\n",
       "\t\t<td>120</td>\n",
       "\t\t<td>18.6</td>\n",
       "\t\t<td>20.0</td>\n",
       "\t\t<td>22.2</td>\n",
       "\t\t<td>6.216</td>\n",
       "\t\t<td>3.5742</td>\n",
       "\t\t<td>100</td>\n",
       "\t</tr>\n",
       "\t<tr>\n",
       "\t\t<td>0</td>\n",
       "\t\t<td>0</td>\n",
       "\t\t<td>0</td>\n",
       "\t\t<td>0</td>\n",
       "\t\t<td>0</td>\n",
       "\t\t<td>0</td>\n",
       "\t\t<td>1</td>\n",
       "\t\t<td>1000</td>\n",
       "\t\t<td>37.3</td>\n",
       "\t\t<td>40.0</td>\n",
       "\t\t<td>43.5</td>\n",
       "\t\t<td>12.354</td>\n",
       "\t\t<td>6.525</td>\n",
       "\t\t<td>125</td>\n",
       "\t</tr>\n",
       "</table></html>"
      ],
      "text/plain": [
       "   Species_0  Species_1  Species_2  Species_3  Species_4  Species_5  Species_6  Weight  Length1  Length2  Length3   Height   Width   id\n",
       "0          1          0          0          0          0          0          0     600     29.4     32.0     37.2  15.4380  5.5800  186\n",
       "1          1          0          0          0          0          0          0     340     29.5     32.0     37.3  13.9129  5.0728  210\n",
       "2          1          0          0          0          0          0          0     500     29.1     31.5     36.4  13.7592  4.3680  226\n",
       "3          0          0          0          1          0          0          0     300     32.7     35.0     38.8   5.9364  4.3844   13\n",
       "4          0          0          0          1          0          0          0     950     48.3     51.7     55.1   8.9262  6.1712   53\n",
       "5          0          1          0          0          0          0          0     145     19.8     21.5     24.1   9.7364  3.1571   56\n",
       "6          0          0          0          0          1          0          0     160     20.5     22.5     25.3   7.0334  3.8203   60\n",
       "7          0          0          0          0          1          0          0     140     21.0     22.5     25.0   6.5500  3.3250   68\n",
       "8          0          0          0          0          1          0          0     120     18.6     20.0     22.2   6.2160  3.5742  100\n",
       "9          0          0          0          0          0          0          1    1000     37.3     40.0     43.5  12.3540  6.5250  125"
      ]
     },
     "metadata": {},
     "output_type": "display_data"
    },
    {
     "name": "stdout",
     "output_type": "stream",
     "text": [
      "                                                                                         \r"
     ]
    },
    {
     "data": {
      "text/html": [
       "26 rows X 14 columns"
      ],
      "text/plain": [
       "<IPython.core.display.HTML object>"
      ]
     },
     "metadata": {},
     "output_type": "display_data"
    },
    {
     "name": "stdout",
     "output_type": "stream",
     "text": [
      "                                                                                         \r"
     ]
    },
    {
     "data": {
      "text/html": [
       "Time taken for spliting of data: 10.42 sec  "
      ],
      "text/plain": [
       "<IPython.core.display.HTML object>"
      ]
     },
     "metadata": {},
     "output_type": "display_data"
    },
    {
     "name": "stdout",
     "output_type": "stream",
     "text": [
      "                                                                                         \r"
     ]
    },
    {
     "data": {
      "text/html": [
       "\n",
       "Outlier preprocessing ..."
      ],
      "text/plain": [
       "<IPython.core.display.HTML object>"
      ]
     },
     "metadata": {},
     "output_type": "display_data"
    },
    {
     "name": "stdout",
     "output_type": "stream",
     "text": [
      "Columns with outlier percentage :-                                                                                                                                                                                                                                                                                                                                                                                                                                                                                  \n",
      "  ColumnName  OutlierPercentage\n",
      "0    Length1           0.787402\n",
      "1    Length2           0.787402\n",
      "2     Weight           0.787402\n",
      "3    Length3           0.787402\n",
      "                                                                                         \r"
     ]
    },
    {
     "data": {
      "text/html": [
       "Deleting rows of these columns:"
      ],
      "text/plain": [
       "<IPython.core.display.HTML object>"
      ]
     },
     "metadata": {},
     "output_type": "display_data"
    },
    {
     "name": "stdout",
     "output_type": "stream",
     "text": [
      "['Length1', 'Length3', 'Weight', 'Length2']\n",
      "result data stored in table '\"ALICE\".\"ml__td_sqlmr_persist_out__1719259827417036\"' - 7/18\n",
      "                                                                                         \r"
     ]
    },
    {
     "data": {
      "text/html": [
       "Sample of training dataset after removing outlier rows:"
      ],
      "text/plain": [
       "<IPython.core.display.HTML object>"
      ]
     },
     "metadata": {},
     "output_type": "display_data"
    },
    {
     "data": {
      "text/html": [
       "<style type=\"text/css\">\n",
       "\ttable {border:ridge 5px;}\n",
       "\ttable td {border:inset 1px;}\n",
       "\ttable tr#HeaderRow {background-color:grey; color:white;}</style>\n",
       "<html><table>\n",
       "\t<tr id=\"HeaderRow\">\n",
       "\t\t<th>Species_0</th>\n",
       "\t\t<th>Species_1</th>\n",
       "\t\t<th>Species_2</th>\n",
       "\t\t<th>Species_3</th>\n",
       "\t\t<th>Species_4</th>\n",
       "\t\t<th>Species_5</th>\n",
       "\t\t<th>Species_6</th>\n",
       "\t\t<th>Weight</th>\n",
       "\t\t<th>Length1</th>\n",
       "\t\t<th>Length2</th>\n",
       "\t\t<th>Length3</th>\n",
       "\t\t<th>Height</th>\n",
       "\t\t<th>Width</th>\n",
       "\t\t<th>id</th>\n",
       "\t</tr>\n",
       "\t<tr>\n",
       "\t\t<td>0</td>\n",
       "\t\t<td>0</td>\n",
       "\t\t<td>0</td>\n",
       "\t\t<td>1</td>\n",
       "\t\t<td>0</td>\n",
       "\t\t<td>0</td>\n",
       "\t\t<td>0</td>\n",
       "\t\t<td>456</td>\n",
       "\t\t<td>40.0</td>\n",
       "\t\t<td>42.5</td>\n",
       "\t\t<td>45.5</td>\n",
       "\t\t<td>7.28</td>\n",
       "\t\t<td>4.3225</td>\n",
       "\t\t<td>21</td>\n",
       "\t</tr>\n",
       "\t<tr>\n",
       "\t\t<td>0</td>\n",
       "\t\t<td>0</td>\n",
       "\t\t<td>0</td>\n",
       "\t\t<td>0</td>\n",
       "\t\t<td>1</td>\n",
       "\t\t<td>0</td>\n",
       "\t\t<td>0</td>\n",
       "\t\t<td>290</td>\n",
       "\t\t<td>24.0</td>\n",
       "\t\t<td>26.0</td>\n",
       "\t\t<td>29.2</td>\n",
       "\t\t<td>8.8768</td>\n",
       "\t\t<td>4.4968</td>\n",
       "\t\t<td>28</td>\n",
       "\t</tr>\n",
       "\t<tr>\n",
       "\t\t<td>0</td>\n",
       "\t\t<td>0</td>\n",
       "\t\t<td>0</td>\n",
       "\t\t<td>1</td>\n",
       "\t\t<td>0</td>\n",
       "\t\t<td>0</td>\n",
       "\t\t<td>0</td>\n",
       "\t\t<td>300</td>\n",
       "\t\t<td>31.7</td>\n",
       "\t\t<td>34.0</td>\n",
       "\t\t<td>37.8</td>\n",
       "\t\t<td>5.7078</td>\n",
       "\t\t<td>4.158</td>\n",
       "\t\t<td>29</td>\n",
       "\t</tr>\n",
       "\t<tr>\n",
       "\t\t<td>0</td>\n",
       "\t\t<td>0</td>\n",
       "\t\t<td>0</td>\n",
       "\t\t<td>0</td>\n",
       "\t\t<td>0</td>\n",
       "\t\t<td>1</td>\n",
       "\t\t<td>0</td>\n",
       "\t\t<td>7</td>\n",
       "\t\t<td>10.1</td>\n",
       "\t\t<td>10.6</td>\n",
       "\t\t<td>11.6</td>\n",
       "\t\t<td>1.7284</td>\n",
       "\t\t<td>1.1484</td>\n",
       "\t\t<td>31</td>\n",
       "\t</tr>\n",
       "\t<tr>\n",
       "\t\t<td>0</td>\n",
       "\t\t<td>0</td>\n",
       "\t\t<td>0</td>\n",
       "\t\t<td>0</td>\n",
       "\t\t<td>1</td>\n",
       "\t\t<td>0</td>\n",
       "\t\t<td>0</td>\n",
       "\t\t<td>110</td>\n",
       "\t\t<td>19.1</td>\n",
       "\t\t<td>20.8</td>\n",
       "\t\t<td>23.1</td>\n",
       "\t\t<td>6.1677</td>\n",
       "\t\t<td>3.3957</td>\n",
       "\t\t<td>36</td>\n",
       "\t</tr>\n",
       "\t<tr>\n",
       "\t\t<td>0</td>\n",
       "\t\t<td>0</td>\n",
       "\t\t<td>0</td>\n",
       "\t\t<td>0</td>\n",
       "\t\t<td>0</td>\n",
       "\t\t<td>1</td>\n",
       "\t\t<td>0</td>\n",
       "\t\t<td>12</td>\n",
       "\t\t<td>11.5</td>\n",
       "\t\t<td>12.2</td>\n",
       "\t\t<td>13.4</td>\n",
       "\t\t<td>2.0904</td>\n",
       "\t\t<td>1.3936</td>\n",
       "\t\t<td>39</td>\n",
       "\t</tr>\n",
       "\t<tr>\n",
       "\t\t<td>1</td>\n",
       "\t\t<td>0</td>\n",
       "\t\t<td>0</td>\n",
       "\t\t<td>0</td>\n",
       "\t\t<td>0</td>\n",
       "\t\t<td>0</td>\n",
       "\t\t<td>0</td>\n",
       "\t\t<td>700</td>\n",
       "\t\t<td>30.4</td>\n",
       "\t\t<td>33.0</td>\n",
       "\t\t<td>38.5</td>\n",
       "\t\t<td>14.938</td>\n",
       "\t\t<td>5.1975</td>\n",
       "\t\t<td>34</td>\n",
       "\t</tr>\n",
       "\t<tr>\n",
       "\t\t<td>1</td>\n",
       "\t\t<td>0</td>\n",
       "\t\t<td>0</td>\n",
       "\t\t<td>0</td>\n",
       "\t\t<td>0</td>\n",
       "\t\t<td>0</td>\n",
       "\t\t<td>0</td>\n",
       "\t\t<td>620</td>\n",
       "\t\t<td>31.5</td>\n",
       "\t\t<td>34.5</td>\n",
       "\t\t<td>39.7</td>\n",
       "\t\t<td>15.5227</td>\n",
       "\t\t<td>5.2801</td>\n",
       "\t\t<td>50</td>\n",
       "\t</tr>\n",
       "\t<tr>\n",
       "\t\t<td>1</td>\n",
       "\t\t<td>0</td>\n",
       "\t\t<td>0</td>\n",
       "\t\t<td>0</td>\n",
       "\t\t<td>0</td>\n",
       "\t\t<td>0</td>\n",
       "\t\t<td>0</td>\n",
       "\t\t<td>680</td>\n",
       "\t\t<td>31.8</td>\n",
       "\t\t<td>35.0</td>\n",
       "\t\t<td>40.6</td>\n",
       "\t\t<td>15.4686</td>\n",
       "\t\t<td>6.1306</td>\n",
       "\t\t<td>58</td>\n",
       "\t</tr>\n",
       "\t<tr>\n",
       "\t\t<td>1</td>\n",
       "\t\t<td>0</td>\n",
       "\t\t<td>0</td>\n",
       "\t\t<td>0</td>\n",
       "\t\t<td>0</td>\n",
       "\t\t<td>0</td>\n",
       "\t\t<td>0</td>\n",
       "\t\t<td>700</td>\n",
       "\t\t<td>30.4</td>\n",
       "\t\t<td>33.0</td>\n",
       "\t\t<td>38.3</td>\n",
       "\t\t<td>14.8604</td>\n",
       "\t\t<td>5.2854</td>\n",
       "\t\t<td>66</td>\n",
       "\t</tr>\n",
       "</table></html>"
      ],
      "text/plain": [
       "           Species_1  Species_2  Species_3  Species_4  Species_5  Species_6  Weight  Length1  Length2  Length3   Height   Width  id\n",
       "Species_0                                                                                                                          \n",
       "0                  0          0          1          0          0          0     456     40.0     42.5     45.5   7.2800  4.3225  21\n",
       "0                  0          0          0          1          0          0     290     24.0     26.0     29.2   8.8768  4.4968  28\n",
       "0                  0          0          1          0          0          0     300     31.7     34.0     37.8   5.7078  4.1580  29\n",
       "0                  0          0          0          0          1          0       7     10.1     10.6     11.6   1.7284  1.1484  31\n",
       "0                  0          0          0          1          0          0     110     19.1     20.8     23.1   6.1677  3.3957  36\n",
       "0                  0          0          0          0          1          0      12     11.5     12.2     13.4   2.0904  1.3936  39\n",
       "1                  0          0          0          0          0          0     700     30.4     33.0     38.5  14.9380  5.1975  34\n",
       "1                  0          0          0          0          0          0     620     31.5     34.5     39.7  15.5227  5.2801  50\n",
       "1                  0          0          0          0          0          0     680     31.8     35.0     40.6  15.4686  6.1306  58\n",
       "1                  0          0          0          0          0          0     700     30.4     33.0     38.3  14.8604  5.2854  66"
      ]
     },
     "metadata": {},
     "output_type": "display_data"
    },
    {
     "name": "stdout",
     "output_type": "stream",
     "text": [
      "                                                                                         \r"
     ]
    },
    {
     "data": {
      "text/html": [
       "99 rows X 14 columns"
      ],
      "text/plain": [
       "<IPython.core.display.HTML object>"
      ]
     },
     "metadata": {},
     "output_type": "display_data"
    },
    {
     "name": "stdout",
     "output_type": "stream",
     "text": [
      "                                                                                         \r"
     ]
    },
    {
     "data": {
      "text/html": [
       "Time Taken by Outlier processing: 34.23 sec "
      ],
      "text/plain": [
       "<IPython.core.display.HTML object>"
      ]
     },
     "metadata": {},
     "output_type": "display_data"
    },
    {
     "name": "stdout",
     "output_type": "stream",
     "text": [
      "result data stored in table '\"ALICE\".\"ml__td_sqlmr_persist_out__1719258808188917\"' - 8/18\n",
      "result data stored in table '\"ALICE\".\"ml__td_sqlmr_persist_out__1719258440941519\"'\n",
      "                                                                                          \r"
     ]
    },
    {
     "data": {
      "text/html": [
       "\n",
       "Feature selection using lasso ..."
      ],
      "text/plain": [
       "<IPython.core.display.HTML object>"
      ]
     },
     "metadata": {},
     "output_type": "display_data"
    },
    {
     "name": "stdout",
     "output_type": "stream",
     "text": [
      "                                                                                          \r"
     ]
    },
    {
     "data": {
      "text/html": [
       "feature selected by lasso:"
      ],
      "text/plain": [
       "<IPython.core.display.HTML object>"
      ]
     },
     "metadata": {},
     "output_type": "display_data"
    },
    {
     "name": "stdout",
     "output_type": "stream",
     "text": [
      "['Species_1', 'Species_2', 'Species_6', 'Species_5', 'Species_0', 'Species_4', 'Length1', 'Length2', 'Length3', 'Height', 'Width']\n",
      "                                                                                          \r"
     ]
    },
    {
     "data": {
      "text/html": [
       "Total time taken by feature selection: 0.62 sec  "
      ],
      "text/plain": [
       "<IPython.core.display.HTML object>"
      ]
     },
     "metadata": {},
     "output_type": "display_data"
    },
    {
     "name": "stdout",
     "output_type": "stream",
     "text": [
      "                                                                                          \r"
     ]
    },
    {
     "data": {
      "text/html": [
       "\n",
       "scaling Features of lasso data ..."
      ],
      "text/plain": [
       "<IPython.core.display.HTML object>"
      ]
     },
     "metadata": {},
     "output_type": "display_data"
    },
    {
     "name": "stdout",
     "output_type": "stream",
     "text": [
      "                                                                                          \r"
     ]
    },
    {
     "data": {
      "text/html": [
       "columns that will be scaled: "
      ],
      "text/plain": [
       "<IPython.core.display.HTML object>"
      ]
     },
     "metadata": {},
     "output_type": "display_data"
    },
    {
     "name": "stdout",
     "output_type": "stream",
     "text": [
      "['Length1', 'Length2', 'Length3', 'Height', 'Width']\n",
      "                                                                                          \r"
     ]
    },
    {
     "data": {
      "text/html": [
       "Training dataset sample after scaling:"
      ],
      "text/plain": [
       "<IPython.core.display.HTML object>"
      ]
     },
     "metadata": {},
     "output_type": "display_data"
    },
    {
     "data": {
      "text/html": [
       "<style type=\"text/css\">\n",
       "\ttable {border:ridge 5px;}\n",
       "\ttable td {border:inset 1px;}\n",
       "\ttable tr#HeaderRow {background-color:grey; color:white;}</style>\n",
       "<html><table>\n",
       "\t<tr id=\"HeaderRow\">\n",
       "\t\t<th>Species_1</th>\n",
       "\t\t<th>Species_2</th>\n",
       "\t\t<th>Species_6</th>\n",
       "\t\t<th>Species_0</th>\n",
       "\t\t<th>Species_5</th>\n",
       "\t\t<th>Species_4</th>\n",
       "\t\t<th>Weight</th>\n",
       "\t\t<th>id</th>\n",
       "\t\t<th>Length1</th>\n",
       "\t\t<th>Length2</th>\n",
       "\t\t<th>Length3</th>\n",
       "\t\t<th>Height</th>\n",
       "\t\t<th>Width</th>\n",
       "\t</tr>\n",
       "\t<tr>\n",
       "\t\t<td>0</td>\n",
       "\t\t<td>0</td>\n",
       "\t\t<td>0</td>\n",
       "\t\t<td>0</td>\n",
       "\t\t<td>0</td>\n",
       "\t\t<td>1</td>\n",
       "\t\t<td>145</td>\n",
       "\t\t<td>12</td>\n",
       "\t\t<td>-0.5077969396130096</td>\n",
       "\t\t<td>-0.5313165395357263</td>\n",
       "\t\t<td>-0.5256057398819317</td>\n",
       "\t\t<td>-0.4795248815495484</td>\n",
       "\t\t<td>-0.42294242398958354</td>\n",
       "\t</tr>\n",
       "\t<tr>\n",
       "\t\t<td>1</td>\n",
       "\t\t<td>0</td>\n",
       "\t\t<td>0</td>\n",
       "\t\t<td>0</td>\n",
       "\t\t<td>0</td>\n",
       "\t\t<td>0</td>\n",
       "\t\t<td>200</td>\n",
       "\t\t<td>16</td>\n",
       "\t\t<td>-0.4257873196755089</td>\n",
       "\t\t<td>-0.4229739290021795</td>\n",
       "\t\t<td>-0.3784757636850101</td>\n",
       "\t\t<td>0.3538272536263038</td>\n",
       "\t\t<td>-0.3524764015637178</td>\n",
       "\t</tr>\n",
       "\t<tr>\n",
       "\t\t<td>0</td>\n",
       "\t\t<td>0</td>\n",
       "\t\t<td>0</td>\n",
       "\t\t<td>1</td>\n",
       "\t\t<td>0</td>\n",
       "\t\t<td>0</td>\n",
       "\t\t<td>955</td>\n",
       "\t\t<td>18</td>\n",
       "\t\t<td>1.1909737590923626</td>\n",
       "\t\t<td>1.256336534267796</td>\n",
       "\t\t<td>1.406701280837639</td>\n",
       "\t\t<td>2.0911169145594584</td>\n",
       "\t\t<td>1.246944093636155</td>\n",
       "\t</tr>\n",
       "\t<tr>\n",
       "\t\t<td>0</td>\n",
       "\t\t<td>0</td>\n",
       "\t\t<td>0</td>\n",
       "\t\t<td>0</td>\n",
       "\t\t<td>0</td>\n",
       "\t\t<td>1</td>\n",
       "\t\t<td>150</td>\n",
       "\t\t<td>20</td>\n",
       "\t\t<td>-0.5195125996040812</td>\n",
       "\t\t<td>-0.5313165395357263</td>\n",
       "\t\t<td>-0.4863710795627528</td>\n",
       "\t\t<td>-0.665732015608885</td>\n",
       "\t\t<td>-0.2972232509914502</td>\n",
       "\t</tr>\n",
       "\t<tr>\n",
       "\t\t<td>0</td>\n",
       "\t\t<td>0</td>\n",
       "\t\t<td>0</td>\n",
       "\t\t<td>0</td>\n",
       "\t\t<td>1</td>\n",
       "\t\t<td>0</td>\n",
       "\t\t<td>9</td>\n",
       "\t\t<td>23</td>\n",
       "\t\t<td>-1.5856376587915906</td>\n",
       "\t\t<td>-1.6364111669779036</td>\n",
       "\t\t<td>-1.624176228818947</td>\n",
       "\t\t<td>-1.4718513013014989</td>\n",
       "\t\t<td>-1.8723640027129813</td>\n",
       "\t</tr>\n",
       "\t<tr>\n",
       "\t\t<td>1</td>\n",
       "\t\t<td>0</td>\n",
       "\t\t<td>0</td>\n",
       "\t\t<td>0</td>\n",
       "\t\t<td>0</td>\n",
       "\t\t<td>0</td>\n",
       "\t\t<td>55</td>\n",
       "\t\t<td>24</td>\n",
       "\t\t<td>-1.3278931389880169</td>\n",
       "\t\t<td>-1.322217596430618</td>\n",
       "\t\t<td>-1.2906816161059242</td>\n",
       "\t\t<td>-0.4315699215361961</td>\n",
       "\t\t<td>-1.1661216397815504</td>\n",
       "\t</tr>\n",
       "\t<tr>\n",
       "\t\t<td>0</td>\n",
       "\t\t<td>0</td>\n",
       "\t\t<td>0</td>\n",
       "\t\t<td>0</td>\n",
       "\t\t<td>0</td>\n",
       "\t\t<td>0</td>\n",
       "\t\t<td>456</td>\n",
       "\t\t<td>21</td>\n",
       "\t\t<td>1.7767567586459392</td>\n",
       "\t\t<td>1.689706976401983</td>\n",
       "\t\t<td>1.5538312570345605</td>\n",
       "\t\t<td>-0.3344701078387484</td>\n",
       "\t\t<td>0.04847404900970932</td>\n",
       "\t</tr>\n",
       "\t<tr>\n",
       "\t\t<td>0</td>\n",
       "\t\t<td>0</td>\n",
       "\t\t<td>0</td>\n",
       "\t\t<td>0</td>\n",
       "\t\t<td>1</td>\n",
       "\t\t<td>0</td>\n",
       "\t\t<td>8</td>\n",
       "\t\t<td>15</td>\n",
       "\t\t<td>-1.6442159587469483</td>\n",
       "\t\t<td>-1.690582472244677</td>\n",
       "\t\t<td>-1.6732195542179207</td>\n",
       "\t\t<td>-1.524767893413611</td>\n",
       "\t\t<td>-1.7997681782276118</td>\n",
       "\t</tr>\n",
       "\t<tr>\n",
       "\t\t<td>0</td>\n",
       "\t\t<td>0</td>\n",
       "\t\t<td>0</td>\n",
       "\t\t<td>1</td>\n",
       "\t\t<td>0</td>\n",
       "\t\t<td>0</td>\n",
       "\t\t<td>650</td>\n",
       "\t\t<td>10</td>\n",
       "\t\t<td>0.7223473594495013</td>\n",
       "\t\t<td>0.7146234816000618</td>\n",
       "\t\t<td>0.8868420316085162</td>\n",
       "\t\t<td>1.2805972673674921</td>\n",
       "\t\t<td>0.9034982986693281</td>\n",
       "\t</tr>\n",
       "\t<tr>\n",
       "\t\t<td>1</td>\n",
       "\t\t<td>0</td>\n",
       "\t\t<td>0</td>\n",
       "\t\t<td>0</td>\n",
       "\t\t<td>0</td>\n",
       "\t\t<td>0</td>\n",
       "\t\t<td>120</td>\n",
       "\t\t<td>8</td>\n",
       "\t\t<td>-0.8592667393451556</td>\n",
       "\t\t<td>-0.8563443711363666</td>\n",
       "\t\t<td>-0.819865692275775</td>\n",
       "\t\t<td>-0.08477204357446787</td>\n",
       "\t\t<td>-0.8061242402380085</td>\n",
       "\t</tr>\n",
       "</table></html>"
      ],
      "text/plain": [
       "   Species_1  Species_2  Species_6  Species_0  Species_5  Species_4  Weight  id   Length1   Length2   Length3    Height     Width\n",
       "0          0          0          0          0          0          1     145  12 -0.507797 -0.531317 -0.525606 -0.479525 -0.422942\n",
       "1          1          0          0          0          0          0     200  16 -0.425787 -0.422974 -0.378476  0.353827 -0.352476\n",
       "2          0          0          0          1          0          0     955  18  1.190974  1.256337  1.406701  2.091117  1.246944\n",
       "3          0          0          0          0          0          1     150  20 -0.519513 -0.531317 -0.486371 -0.665732 -0.297223\n",
       "4          0          0          0          0          1          0       9  23 -1.585638 -1.636411 -1.624176 -1.471851 -1.872364\n",
       "5          1          0          0          0          0          0      55  24 -1.327893 -1.322218 -1.290682 -0.431570 -1.166122\n",
       "6          0          0          0          0          0          0     456  21  1.776757  1.689707  1.553831 -0.334470  0.048474\n",
       "7          0          0          0          0          1          0       8  15 -1.644216 -1.690582 -1.673220 -1.524768 -1.799768\n",
       "8          0          0          0          1          0          0     650  10  0.722347  0.714623  0.886842  1.280597  0.903498\n",
       "9          1          0          0          0          0          0     120   8 -0.859267 -0.856344 -0.819866 -0.084772 -0.806124"
      ]
     },
     "metadata": {},
     "output_type": "display_data"
    },
    {
     "name": "stdout",
     "output_type": "stream",
     "text": [
      "                                                                                          \r"
     ]
    },
    {
     "data": {
      "text/html": [
       "99 rows X 13 columns"
      ],
      "text/plain": [
       "<IPython.core.display.HTML object>"
      ]
     },
     "metadata": {},
     "output_type": "display_data"
    },
    {
     "name": "stdout",
     "output_type": "stream",
     "text": [
      "                                                                                          \r"
     ]
    },
    {
     "data": {
      "text/html": [
       "Testing dataset sample after scaling:"
      ],
      "text/plain": [
       "<IPython.core.display.HTML object>"
      ]
     },
     "metadata": {},
     "output_type": "display_data"
    },
    {
     "data": {
      "text/html": [
       "<style type=\"text/css\">\n",
       "\ttable {border:ridge 5px;}\n",
       "\ttable td {border:inset 1px;}\n",
       "\ttable tr#HeaderRow {background-color:grey; color:white;}</style>\n",
       "<html><table>\n",
       "\t<tr id=\"HeaderRow\">\n",
       "\t\t<th>Species_1</th>\n",
       "\t\t<th>Species_2</th>\n",
       "\t\t<th>Species_6</th>\n",
       "\t\t<th>Species_0</th>\n",
       "\t\t<th>Species_5</th>\n",
       "\t\t<th>Species_4</th>\n",
       "\t\t<th>Weight</th>\n",
       "\t\t<th>id</th>\n",
       "\t\t<th>Length1</th>\n",
       "\t\t<th>Length2</th>\n",
       "\t\t<th>Length3</th>\n",
       "\t\t<th>Height</th>\n",
       "\t\t<th>Width</th>\n",
       "\t</tr>\n",
       "\t<tr>\n",
       "\t\t<td>0</td>\n",
       "\t\t<td>0</td>\n",
       "\t\t<td>0</td>\n",
       "\t\t<td>1</td>\n",
       "\t\t<td>0</td>\n",
       "\t\t<td>0</td>\n",
       "\t\t<td>340</td>\n",
       "\t\t<td>210</td>\n",
       "\t\t<td>0.5466124595834283</td>\n",
       "\t\t<td>0.5521095657997417</td>\n",
       "\t\t<td>0.7495207204913887</td>\n",
       "\t\t<td>1.15467059568449</td>\n",
       "\t\t<td>0.5050427590798908</td>\n",
       "\t</tr>\n",
       "\t<tr>\n",
       "\t\t<td>0</td>\n",
       "\t\t<td>0</td>\n",
       "\t\t<td>0</td>\n",
       "\t\t<td>0</td>\n",
       "\t\t<td>0</td>\n",
       "\t\t<td>0</td>\n",
       "\t\t<td>300</td>\n",
       "\t\t<td>13</td>\n",
       "\t\t<td>0.9215135792977177</td>\n",
       "\t\t<td>0.8771373974003821</td>\n",
       "\t\t<td>0.8966506966883103</td>\n",
       "\t\t<td>-0.6361193787841605</td>\n",
       "\t\t<td>0.08614111971921813</td>\n",
       "\t</tr>\n",
       "\t<tr>\n",
       "\t\t<td>0</td>\n",
       "\t\t<td>0</td>\n",
       "\t\t<td>0</td>\n",
       "\t\t<td>0</td>\n",
       "\t\t<td>0</td>\n",
       "\t\t<td>0</td>\n",
       "\t\t<td>950</td>\n",
       "\t\t<td>53</td>\n",
       "\t\t<td>2.7491565379048764</td>\n",
       "\t\t<td>2.6864589933106138</td>\n",
       "\t\t<td>2.495463104694859</td>\n",
       "\t\t<td>0.03511535645891236</td>\n",
       "\t\t<td>1.17343549683957</td>\n",
       "\t</tr>\n",
       "\t<tr>\n",
       "\t\t<td>0</td>\n",
       "\t\t<td>0</td>\n",
       "\t\t<td>0</td>\n",
       "\t\t<td>0</td>\n",
       "\t\t<td>0</td>\n",
       "\t\t<td>1</td>\n",
       "\t\t<td>160</td>\n",
       "\t\t<td>60</td>\n",
       "\t\t<td>-0.5077969396130096</td>\n",
       "\t\t<td>-0.4771452342689529</td>\n",
       "\t\t<td>-0.427519089083984</td>\n",
       "\t\t<td>-0.3898338397642758</td>\n",
       "\t\t<td>-0.257122120785366</td>\n",
       "\t</tr>\n",
       "\t<tr>\n",
       "\t\t<td>0</td>\n",
       "\t\t<td>0</td>\n",
       "\t\t<td>0</td>\n",
       "\t\t<td>0</td>\n",
       "\t\t<td>0</td>\n",
       "\t\t<td>1</td>\n",
       "\t\t<td>120</td>\n",
       "\t\t<td>100</td>\n",
       "\t\t<td>-0.7303944794433685</td>\n",
       "\t\t<td>-0.7480017606028199</td>\n",
       "\t\t<td>-0.7315877065576222</td>\n",
       "\t\t<td>-0.5733468749464579</td>\n",
       "\t\t<td>-0.40687763131218424</td>\n",
       "\t</tr>\n",
       "\t<tr>\n",
       "\t\t<td>0</td>\n",
       "\t\t<td>0</td>\n",
       "\t\t<td>1</td>\n",
       "\t\t<td>0</td>\n",
       "\t\t<td>0</td>\n",
       "\t\t<td>0</td>\n",
       "\t\t<td>1000</td>\n",
       "\t\t<td>125</td>\n",
       "\t\t<td>1.4604339388870076</td>\n",
       "\t\t<td>1.418850450068116</td>\n",
       "\t\t<td>1.357657955438665</td>\n",
       "\t\t<td>0.8046847007181287</td>\n",
       "\t\t<td>1.3887280593116884</td>\n",
       "\t</tr>\n",
       "\t<tr>\n",
       "\t\t<td>0</td>\n",
       "\t\t<td>0</td>\n",
       "\t\t<td>0</td>\n",
       "\t\t<td>0</td>\n",
       "\t\t<td>0</td>\n",
       "\t\t<td>1</td>\n",
       "\t\t<td>140</td>\n",
       "\t\t<td>68</td>\n",
       "\t\t<td>-0.4492186396576519</td>\n",
       "\t\t<td>-0.4771452342689529</td>\n",
       "\t\t<td>-0.4569450843233684</td>\n",
       "\t\t<td>-0.4983611228656544</td>\n",
       "\t\t<td>-0.5585195379488483</td>\n",
       "\t</tr>\n",
       "\t<tr>\n",
       "\t\t<td>0</td>\n",
       "\t\t<td>0</td>\n",
       "\t\t<td>0</td>\n",
       "\t\t<td>1</td>\n",
       "\t\t<td>0</td>\n",
       "\t\t<td>0</td>\n",
       "\t\t<td>500</td>\n",
       "\t\t<td>226</td>\n",
       "\t\t<td>0.4997498196191424</td>\n",
       "\t\t<td>0.4979382605329683</td>\n",
       "\t\t<td>0.6612427347732358</td>\n",
       "\t\t<td>1.1201636792329346</td>\n",
       "\t\t<td>0.07616147578325791</td>\n",
       "\t</tr>\n",
       "\t<tr>\n",
       "\t\t<td>0</td>\n",
       "\t\t<td>0</td>\n",
       "\t\t<td>0</td>\n",
       "\t\t<td>1</td>\n",
       "\t\t<td>0</td>\n",
       "\t\t<td>0</td>\n",
       "\t\t<td>600</td>\n",
       "\t\t<td>186</td>\n",
       "\t\t<td>0.5348967995923567</td>\n",
       "\t\t<td>0.5521095657997417</td>\n",
       "\t\t<td>0.7397120554115945</td>\n",
       "\t\t<td>1.4970681121468656</td>\n",
       "\t\t<td>0.813681503245686</td>\n",
       "\t</tr>\n",
       "\t<tr>\n",
       "\t\t<td>1</td>\n",
       "\t\t<td>0</td>\n",
       "\t\t<td>0</td>\n",
       "\t\t<td>0</td>\n",
       "\t\t<td>0</td>\n",
       "\t\t<td>0</td>\n",
       "\t\t<td>145</td>\n",
       "\t\t<td>56</td>\n",
       "\t\t<td>-0.5898065595505102</td>\n",
       "\t\t<td>-0.5854878448024997</td>\n",
       "\t\t<td>-0.5452230700415213</td>\n",
       "\t\t<td>0.21701193231480162</td>\n",
       "\t\t<td>-0.6606891853176123</td>\n",
       "\t</tr>\n",
       "</table></html>"
      ],
      "text/plain": [
       "   Species_1  Species_2  Species_6  Species_0  Species_5  Species_4  Weight   id   Length1   Length2   Length3    Height     Width\n",
       "0          0          0          0          1          0          0     340  210  0.546612  0.552110  0.749521  1.154671  0.505043\n",
       "1          0          0          0          0          0          0     300   13  0.921514  0.877137  0.896651 -0.636119  0.086141\n",
       "2          0          0          0          0          0          0     950   53  2.749157  2.686459  2.495463  0.035115  1.173435\n",
       "3          0          0          0          0          0          1     160   60 -0.507797 -0.477145 -0.427519 -0.389834 -0.257122\n",
       "4          0          0          0          0          0          1     120  100 -0.730394 -0.748002 -0.731588 -0.573347 -0.406878\n",
       "5          0          0          1          0          0          0    1000  125  1.460434  1.418850  1.357658  0.804685  1.388728\n",
       "6          0          0          0          0          0          1     140   68 -0.449219 -0.477145 -0.456945 -0.498361 -0.558520\n",
       "7          0          0          0          1          0          0     500  226  0.499750  0.497938  0.661243  1.120164  0.076161\n",
       "8          0          0          0          1          0          0     600  186  0.534897  0.552110  0.739712  1.497068  0.813682\n",
       "9          1          0          0          0          0          0     145   56 -0.589807 -0.585488 -0.545223  0.217012 -0.660689"
      ]
     },
     "metadata": {},
     "output_type": "display_data"
    },
    {
     "name": "stdout",
     "output_type": "stream",
     "text": [
      "                                                                                          \r"
     ]
    },
    {
     "data": {
      "text/html": [
       "26 rows X 13 columns"
      ],
      "text/plain": [
       "<IPython.core.display.HTML object>"
      ]
     },
     "metadata": {},
     "output_type": "display_data"
    },
    {
     "name": "stdout",
     "output_type": "stream",
     "text": [
      "                                                                                          \r"
     ]
    },
    {
     "data": {
      "text/html": [
       "Total time taken by feature scaling: 44.60 sec"
      ],
      "text/plain": [
       "<IPython.core.display.HTML object>"
      ]
     },
     "metadata": {},
     "output_type": "display_data"
    },
    {
     "name": "stdout",
     "output_type": "stream",
     "text": [
      "                                                                                          \r"
     ]
    },
    {
     "data": {
      "text/html": [
       "\n",
       "Feature selection using rfe ..."
      ],
      "text/plain": [
       "<IPython.core.display.HTML object>"
      ]
     },
     "metadata": {},
     "output_type": "display_data"
    },
    {
     "name": "stdout",
     "output_type": "stream",
     "text": [
      "                                                                                          \r"
     ]
    },
    {
     "data": {
      "text/html": [
       "feature selected by RFE:"
      ],
      "text/plain": [
       "<IPython.core.display.HTML object>"
      ]
     },
     "metadata": {},
     "output_type": "display_data"
    },
    {
     "name": "stdout",
     "output_type": "stream",
     "text": [
      "['Species_1', 'Species_2', 'Species_6', 'Species_5', 'Species_0', 'Species_4', 'Species_3', 'Length1', 'Length2', 'Length3', 'Height', 'Width']\n",
      "                                                                                          \r"
     ]
    },
    {
     "data": {
      "text/html": [
       "Total time taken by feature selection: 11.54 sec  "
      ],
      "text/plain": [
       "<IPython.core.display.HTML object>"
      ]
     },
     "metadata": {},
     "output_type": "display_data"
    },
    {
     "name": "stdout",
     "output_type": "stream",
     "text": [
      "                                                                                          \r"
     ]
    },
    {
     "data": {
      "text/html": [
       "\n",
       "scaling Features of rfe data ..."
      ],
      "text/plain": [
       "<IPython.core.display.HTML object>"
      ]
     },
     "metadata": {},
     "output_type": "display_data"
    },
    {
     "name": "stdout",
     "output_type": "stream",
     "text": [
      "                                                                                          \r"
     ]
    },
    {
     "data": {
      "text/html": [
       "columns that will be scaled: "
      ],
      "text/plain": [
       "<IPython.core.display.HTML object>"
      ]
     },
     "metadata": {},
     "output_type": "display_data"
    },
    {
     "name": "stdout",
     "output_type": "stream",
     "text": [
      "['r_Length1', 'r_Length2', 'r_Length3', 'r_Height', 'r_Width']\n",
      "                                                                                          \r"
     ]
    },
    {
     "data": {
      "text/html": [
       "Training dataset sample after scaling:"
      ],
      "text/plain": [
       "<IPython.core.display.HTML object>"
      ]
     },
     "metadata": {},
     "output_type": "display_data"
    },
    {
     "data": {
      "text/html": [
       "<style type=\"text/css\">\n",
       "\ttable {border:ridge 5px;}\n",
       "\ttable td {border:inset 1px;}\n",
       "\ttable tr#HeaderRow {background-color:grey; color:white;}</style>\n",
       "<html><table>\n",
       "\t<tr id=\"HeaderRow\">\n",
       "\t\t<th>r_Species_6</th>\n",
       "\t\t<th>Weight</th>\n",
       "\t\t<th>r_Species_2</th>\n",
       "\t\t<th>r_Species_0</th>\n",
       "\t\t<th>r_Species_5</th>\n",
       "\t\t<th>id</th>\n",
       "\t\t<th>r_Species_1</th>\n",
       "\t\t<th>r_Species_3</th>\n",
       "\t\t<th>r_Species_4</th>\n",
       "\t\t<th>r_Length1</th>\n",
       "\t\t<th>r_Length2</th>\n",
       "\t\t<th>r_Length3</th>\n",
       "\t\t<th>r_Height</th>\n",
       "\t\t<th>r_Width</th>\n",
       "\t</tr>\n",
       "\t<tr>\n",
       "\t\t<td>0</td>\n",
       "\t\t<td>145</td>\n",
       "\t\t<td>0</td>\n",
       "\t\t<td>0</td>\n",
       "\t\t<td>0</td>\n",
       "\t\t<td>12</td>\n",
       "\t\t<td>0</td>\n",
       "\t\t<td>0</td>\n",
       "\t\t<td>1</td>\n",
       "\t\t<td>-0.5077969396130096</td>\n",
       "\t\t<td>-0.5313165395357263</td>\n",
       "\t\t<td>-0.5256057398819317</td>\n",
       "\t\t<td>-0.4795248815495484</td>\n",
       "\t\t<td>-0.42294242398958354</td>\n",
       "\t</tr>\n",
       "\t<tr>\n",
       "\t\t<td>0</td>\n",
       "\t\t<td>200</td>\n",
       "\t\t<td>0</td>\n",
       "\t\t<td>0</td>\n",
       "\t\t<td>0</td>\n",
       "\t\t<td>16</td>\n",
       "\t\t<td>1</td>\n",
       "\t\t<td>0</td>\n",
       "\t\t<td>0</td>\n",
       "\t\t<td>-0.4257873196755089</td>\n",
       "\t\t<td>-0.4229739290021795</td>\n",
       "\t\t<td>-0.3784757636850101</td>\n",
       "\t\t<td>0.3538272536263038</td>\n",
       "\t\t<td>-0.3524764015637178</td>\n",
       "\t</tr>\n",
       "\t<tr>\n",
       "\t\t<td>0</td>\n",
       "\t\t<td>955</td>\n",
       "\t\t<td>0</td>\n",
       "\t\t<td>1</td>\n",
       "\t\t<td>0</td>\n",
       "\t\t<td>18</td>\n",
       "\t\t<td>0</td>\n",
       "\t\t<td>0</td>\n",
       "\t\t<td>0</td>\n",
       "\t\t<td>1.1909737590923626</td>\n",
       "\t\t<td>1.256336534267796</td>\n",
       "\t\t<td>1.406701280837639</td>\n",
       "\t\t<td>2.0911169145594584</td>\n",
       "\t\t<td>1.246944093636155</td>\n",
       "\t</tr>\n",
       "\t<tr>\n",
       "\t\t<td>0</td>\n",
       "\t\t<td>150</td>\n",
       "\t\t<td>0</td>\n",
       "\t\t<td>0</td>\n",
       "\t\t<td>0</td>\n",
       "\t\t<td>20</td>\n",
       "\t\t<td>0</td>\n",
       "\t\t<td>0</td>\n",
       "\t\t<td>1</td>\n",
       "\t\t<td>-0.5195125996040812</td>\n",
       "\t\t<td>-0.5313165395357263</td>\n",
       "\t\t<td>-0.4863710795627528</td>\n",
       "\t\t<td>-0.665732015608885</td>\n",
       "\t\t<td>-0.2972232509914502</td>\n",
       "\t</tr>\n",
       "\t<tr>\n",
       "\t\t<td>0</td>\n",
       "\t\t<td>9</td>\n",
       "\t\t<td>0</td>\n",
       "\t\t<td>0</td>\n",
       "\t\t<td>1</td>\n",
       "\t\t<td>23</td>\n",
       "\t\t<td>0</td>\n",
       "\t\t<td>0</td>\n",
       "\t\t<td>0</td>\n",
       "\t\t<td>-1.5856376587915906</td>\n",
       "\t\t<td>-1.6364111669779036</td>\n",
       "\t\t<td>-1.624176228818947</td>\n",
       "\t\t<td>-1.4718513013014989</td>\n",
       "\t\t<td>-1.8723640027129813</td>\n",
       "\t</tr>\n",
       "\t<tr>\n",
       "\t\t<td>0</td>\n",
       "\t\t<td>55</td>\n",
       "\t\t<td>0</td>\n",
       "\t\t<td>0</td>\n",
       "\t\t<td>0</td>\n",
       "\t\t<td>24</td>\n",
       "\t\t<td>1</td>\n",
       "\t\t<td>0</td>\n",
       "\t\t<td>0</td>\n",
       "\t\t<td>-1.3278931389880169</td>\n",
       "\t\t<td>-1.322217596430618</td>\n",
       "\t\t<td>-1.2906816161059242</td>\n",
       "\t\t<td>-0.4315699215361961</td>\n",
       "\t\t<td>-1.1661216397815504</td>\n",
       "\t</tr>\n",
       "\t<tr>\n",
       "\t\t<td>0</td>\n",
       "\t\t<td>456</td>\n",
       "\t\t<td>0</td>\n",
       "\t\t<td>0</td>\n",
       "\t\t<td>0</td>\n",
       "\t\t<td>21</td>\n",
       "\t\t<td>0</td>\n",
       "\t\t<td>1</td>\n",
       "\t\t<td>0</td>\n",
       "\t\t<td>1.7767567586459392</td>\n",
       "\t\t<td>1.689706976401983</td>\n",
       "\t\t<td>1.5538312570345605</td>\n",
       "\t\t<td>-0.3344701078387484</td>\n",
       "\t\t<td>0.04847404900970932</td>\n",
       "\t</tr>\n",
       "\t<tr>\n",
       "\t\t<td>0</td>\n",
       "\t\t<td>8</td>\n",
       "\t\t<td>0</td>\n",
       "\t\t<td>0</td>\n",
       "\t\t<td>1</td>\n",
       "\t\t<td>15</td>\n",
       "\t\t<td>0</td>\n",
       "\t\t<td>0</td>\n",
       "\t\t<td>0</td>\n",
       "\t\t<td>-1.6442159587469483</td>\n",
       "\t\t<td>-1.690582472244677</td>\n",
       "\t\t<td>-1.6732195542179207</td>\n",
       "\t\t<td>-1.524767893413611</td>\n",
       "\t\t<td>-1.7997681782276118</td>\n",
       "\t</tr>\n",
       "\t<tr>\n",
       "\t\t<td>0</td>\n",
       "\t\t<td>650</td>\n",
       "\t\t<td>0</td>\n",
       "\t\t<td>1</td>\n",
       "\t\t<td>0</td>\n",
       "\t\t<td>10</td>\n",
       "\t\t<td>0</td>\n",
       "\t\t<td>0</td>\n",
       "\t\t<td>0</td>\n",
       "\t\t<td>0.7223473594495013</td>\n",
       "\t\t<td>0.7146234816000618</td>\n",
       "\t\t<td>0.8868420316085162</td>\n",
       "\t\t<td>1.2805972673674921</td>\n",
       "\t\t<td>0.9034982986693281</td>\n",
       "\t</tr>\n",
       "\t<tr>\n",
       "\t\t<td>0</td>\n",
       "\t\t<td>120</td>\n",
       "\t\t<td>0</td>\n",
       "\t\t<td>0</td>\n",
       "\t\t<td>0</td>\n",
       "\t\t<td>8</td>\n",
       "\t\t<td>1</td>\n",
       "\t\t<td>0</td>\n",
       "\t\t<td>0</td>\n",
       "\t\t<td>-0.8592667393451556</td>\n",
       "\t\t<td>-0.8563443711363666</td>\n",
       "\t\t<td>-0.819865692275775</td>\n",
       "\t\t<td>-0.08477204357446787</td>\n",
       "\t\t<td>-0.8061242402380085</td>\n",
       "\t</tr>\n",
       "</table></html>"
      ],
      "text/plain": [
       "   r_Species_6  Weight  r_Species_2  r_Species_0  r_Species_5  id  r_Species_1  r_Species_3  r_Species_4  r_Length1  r_Length2  r_Length3  r_Height   r_Width\n",
       "0            0     145            0            0            0  12            0            0            1  -0.507797  -0.531317  -0.525606 -0.479525 -0.422942\n",
       "1            0     200            0            0            0  16            1            0            0  -0.425787  -0.422974  -0.378476  0.353827 -0.352476\n",
       "2            0     955            0            1            0  18            0            0            0   1.190974   1.256337   1.406701  2.091117  1.246944\n",
       "3            0     150            0            0            0  20            0            0            1  -0.519513  -0.531317  -0.486371 -0.665732 -0.297223\n",
       "4            0       9            0            0            1  23            0            0            0  -1.585638  -1.636411  -1.624176 -1.471851 -1.872364\n",
       "5            0      55            0            0            0  24            1            0            0  -1.327893  -1.322218  -1.290682 -0.431570 -1.166122\n",
       "6            0     456            0            0            0  21            0            1            0   1.776757   1.689707   1.553831 -0.334470  0.048474\n",
       "7            0       8            0            0            1  15            0            0            0  -1.644216  -1.690582  -1.673220 -1.524768 -1.799768\n",
       "8            0     650            0            1            0  10            0            0            0   0.722347   0.714623   0.886842  1.280597  0.903498\n",
       "9            0     120            0            0            0   8            1            0            0  -0.859267  -0.856344  -0.819866 -0.084772 -0.806124"
      ]
     },
     "metadata": {},
     "output_type": "display_data"
    },
    {
     "name": "stdout",
     "output_type": "stream",
     "text": [
      "                                                                                          \r"
     ]
    },
    {
     "data": {
      "text/html": [
       "99 rows X 14 columns"
      ],
      "text/plain": [
       "<IPython.core.display.HTML object>"
      ]
     },
     "metadata": {},
     "output_type": "display_data"
    },
    {
     "name": "stdout",
     "output_type": "stream",
     "text": [
      "                                                                                          \r"
     ]
    },
    {
     "data": {
      "text/html": [
       "Testing dataset sample after scaling:"
      ],
      "text/plain": [
       "<IPython.core.display.HTML object>"
      ]
     },
     "metadata": {},
     "output_type": "display_data"
    },
    {
     "data": {
      "text/html": [
       "<style type=\"text/css\">\n",
       "\ttable {border:ridge 5px;}\n",
       "\ttable td {border:inset 1px;}\n",
       "\ttable tr#HeaderRow {background-color:grey; color:white;}</style>\n",
       "<html><table>\n",
       "\t<tr id=\"HeaderRow\">\n",
       "\t\t<th>r_Species_6</th>\n",
       "\t\t<th>Weight</th>\n",
       "\t\t<th>r_Species_2</th>\n",
       "\t\t<th>r_Species_0</th>\n",
       "\t\t<th>r_Species_5</th>\n",
       "\t\t<th>id</th>\n",
       "\t\t<th>r_Species_1</th>\n",
       "\t\t<th>r_Species_3</th>\n",
       "\t\t<th>r_Species_4</th>\n",
       "\t\t<th>r_Length1</th>\n",
       "\t\t<th>r_Length2</th>\n",
       "\t\t<th>r_Length3</th>\n",
       "\t\t<th>r_Height</th>\n",
       "\t\t<th>r_Width</th>\n",
       "\t</tr>\n",
       "\t<tr>\n",
       "\t\t<td>0</td>\n",
       "\t\t<td>340</td>\n",
       "\t\t<td>0</td>\n",
       "\t\t<td>1</td>\n",
       "\t\t<td>0</td>\n",
       "\t\t<td>210</td>\n",
       "\t\t<td>0</td>\n",
       "\t\t<td>0</td>\n",
       "\t\t<td>0</td>\n",
       "\t\t<td>0.5466124595834283</td>\n",
       "\t\t<td>0.5521095657997417</td>\n",
       "\t\t<td>0.7495207204913887</td>\n",
       "\t\t<td>1.15467059568449</td>\n",
       "\t\t<td>0.5050427590798908</td>\n",
       "\t</tr>\n",
       "\t<tr>\n",
       "\t\t<td>0</td>\n",
       "\t\t<td>300</td>\n",
       "\t\t<td>0</td>\n",
       "\t\t<td>0</td>\n",
       "\t\t<td>0</td>\n",
       "\t\t<td>13</td>\n",
       "\t\t<td>0</td>\n",
       "\t\t<td>1</td>\n",
       "\t\t<td>0</td>\n",
       "\t\t<td>0.9215135792977177</td>\n",
       "\t\t<td>0.8771373974003821</td>\n",
       "\t\t<td>0.8966506966883103</td>\n",
       "\t\t<td>-0.6361193787841605</td>\n",
       "\t\t<td>0.08614111971921813</td>\n",
       "\t</tr>\n",
       "\t<tr>\n",
       "\t\t<td>0</td>\n",
       "\t\t<td>950</td>\n",
       "\t\t<td>0</td>\n",
       "\t\t<td>0</td>\n",
       "\t\t<td>0</td>\n",
       "\t\t<td>53</td>\n",
       "\t\t<td>0</td>\n",
       "\t\t<td>1</td>\n",
       "\t\t<td>0</td>\n",
       "\t\t<td>2.7491565379048764</td>\n",
       "\t\t<td>2.6864589933106138</td>\n",
       "\t\t<td>2.495463104694859</td>\n",
       "\t\t<td>0.03511535645891236</td>\n",
       "\t\t<td>1.17343549683957</td>\n",
       "\t</tr>\n",
       "\t<tr>\n",
       "\t\t<td>0</td>\n",
       "\t\t<td>160</td>\n",
       "\t\t<td>0</td>\n",
       "\t\t<td>0</td>\n",
       "\t\t<td>0</td>\n",
       "\t\t<td>60</td>\n",
       "\t\t<td>0</td>\n",
       "\t\t<td>0</td>\n",
       "\t\t<td>1</td>\n",
       "\t\t<td>-0.5077969396130096</td>\n",
       "\t\t<td>-0.4771452342689529</td>\n",
       "\t\t<td>-0.427519089083984</td>\n",
       "\t\t<td>-0.3898338397642758</td>\n",
       "\t\t<td>-0.257122120785366</td>\n",
       "\t</tr>\n",
       "\t<tr>\n",
       "\t\t<td>0</td>\n",
       "\t\t<td>120</td>\n",
       "\t\t<td>0</td>\n",
       "\t\t<td>0</td>\n",
       "\t\t<td>0</td>\n",
       "\t\t<td>100</td>\n",
       "\t\t<td>0</td>\n",
       "\t\t<td>0</td>\n",
       "\t\t<td>1</td>\n",
       "\t\t<td>-0.7303944794433685</td>\n",
       "\t\t<td>-0.7480017606028199</td>\n",
       "\t\t<td>-0.7315877065576222</td>\n",
       "\t\t<td>-0.5733468749464579</td>\n",
       "\t\t<td>-0.40687763131218424</td>\n",
       "\t</tr>\n",
       "\t<tr>\n",
       "\t\t<td>1</td>\n",
       "\t\t<td>1000</td>\n",
       "\t\t<td>0</td>\n",
       "\t\t<td>0</td>\n",
       "\t\t<td>0</td>\n",
       "\t\t<td>125</td>\n",
       "\t\t<td>0</td>\n",
       "\t\t<td>0</td>\n",
       "\t\t<td>0</td>\n",
       "\t\t<td>1.4604339388870076</td>\n",
       "\t\t<td>1.418850450068116</td>\n",
       "\t\t<td>1.357657955438665</td>\n",
       "\t\t<td>0.8046847007181287</td>\n",
       "\t\t<td>1.3887280593116884</td>\n",
       "\t</tr>\n",
       "\t<tr>\n",
       "\t\t<td>0</td>\n",
       "\t\t<td>140</td>\n",
       "\t\t<td>0</td>\n",
       "\t\t<td>0</td>\n",
       "\t\t<td>0</td>\n",
       "\t\t<td>68</td>\n",
       "\t\t<td>0</td>\n",
       "\t\t<td>0</td>\n",
       "\t\t<td>1</td>\n",
       "\t\t<td>-0.4492186396576519</td>\n",
       "\t\t<td>-0.4771452342689529</td>\n",
       "\t\t<td>-0.4569450843233684</td>\n",
       "\t\t<td>-0.4983611228656544</td>\n",
       "\t\t<td>-0.5585195379488483</td>\n",
       "\t</tr>\n",
       "\t<tr>\n",
       "\t\t<td>0</td>\n",
       "\t\t<td>500</td>\n",
       "\t\t<td>0</td>\n",
       "\t\t<td>1</td>\n",
       "\t\t<td>0</td>\n",
       "\t\t<td>226</td>\n",
       "\t\t<td>0</td>\n",
       "\t\t<td>0</td>\n",
       "\t\t<td>0</td>\n",
       "\t\t<td>0.4997498196191424</td>\n",
       "\t\t<td>0.4979382605329683</td>\n",
       "\t\t<td>0.6612427347732358</td>\n",
       "\t\t<td>1.1201636792329346</td>\n",
       "\t\t<td>0.07616147578325791</td>\n",
       "\t</tr>\n",
       "\t<tr>\n",
       "\t\t<td>0</td>\n",
       "\t\t<td>600</td>\n",
       "\t\t<td>0</td>\n",
       "\t\t<td>1</td>\n",
       "\t\t<td>0</td>\n",
       "\t\t<td>186</td>\n",
       "\t\t<td>0</td>\n",
       "\t\t<td>0</td>\n",
       "\t\t<td>0</td>\n",
       "\t\t<td>0.5348967995923567</td>\n",
       "\t\t<td>0.5521095657997417</td>\n",
       "\t\t<td>0.7397120554115945</td>\n",
       "\t\t<td>1.4970681121468656</td>\n",
       "\t\t<td>0.813681503245686</td>\n",
       "\t</tr>\n",
       "\t<tr>\n",
       "\t\t<td>0</td>\n",
       "\t\t<td>145</td>\n",
       "\t\t<td>0</td>\n",
       "\t\t<td>0</td>\n",
       "\t\t<td>0</td>\n",
       "\t\t<td>56</td>\n",
       "\t\t<td>1</td>\n",
       "\t\t<td>0</td>\n",
       "\t\t<td>0</td>\n",
       "\t\t<td>-0.5898065595505102</td>\n",
       "\t\t<td>-0.5854878448024997</td>\n",
       "\t\t<td>-0.5452230700415213</td>\n",
       "\t\t<td>0.21701193231480162</td>\n",
       "\t\t<td>-0.6606891853176123</td>\n",
       "\t</tr>\n",
       "</table></html>"
      ],
      "text/plain": [
       "   r_Species_6  Weight  r_Species_2  r_Species_0  r_Species_5   id  r_Species_1  r_Species_3  r_Species_4  r_Length1  r_Length2  r_Length3  r_Height   r_Width\n",
       "0            0     340            0            1            0  210            0            0            0   0.546612   0.552110   0.749521  1.154671  0.505043\n",
       "1            0     300            0            0            0   13            0            1            0   0.921514   0.877137   0.896651 -0.636119  0.086141\n",
       "2            0     950            0            0            0   53            0            1            0   2.749157   2.686459   2.495463  0.035115  1.173435\n",
       "3            0     160            0            0            0   60            0            0            1  -0.507797  -0.477145  -0.427519 -0.389834 -0.257122\n",
       "4            0     120            0            0            0  100            0            0            1  -0.730394  -0.748002  -0.731588 -0.573347 -0.406878\n",
       "5            1    1000            0            0            0  125            0            0            0   1.460434   1.418850   1.357658  0.804685  1.388728\n",
       "6            0     140            0            0            0   68            0            0            1  -0.449219  -0.477145  -0.456945 -0.498361 -0.558520\n",
       "7            0     500            0            1            0  226            0            0            0   0.499750   0.497938   0.661243  1.120164  0.076161\n",
       "8            0     600            0            1            0  186            0            0            0   0.534897   0.552110   0.739712  1.497068  0.813682\n",
       "9            0     145            0            0            0   56            1            0            0  -0.589807  -0.585488  -0.545223  0.217012 -0.660689"
      ]
     },
     "metadata": {},
     "output_type": "display_data"
    },
    {
     "name": "stdout",
     "output_type": "stream",
     "text": [
      "                                                                                          \r"
     ]
    },
    {
     "data": {
      "text/html": [
       "26 rows X 14 columns"
      ],
      "text/plain": [
       "<IPython.core.display.HTML object>"
      ]
     },
     "metadata": {},
     "output_type": "display_data"
    },
    {
     "name": "stdout",
     "output_type": "stream",
     "text": [
      "                                                                                          \r"
     ]
    },
    {
     "data": {
      "text/html": [
       "Total time taken by feature scaling: 45.94 sec"
      ],
      "text/plain": [
       "<IPython.core.display.HTML object>"
      ]
     },
     "metadata": {},
     "output_type": "display_data"
    },
    {
     "name": "stdout",
     "output_type": "stream",
     "text": [
      "                                                                                          \r"
     ]
    },
    {
     "data": {
      "text/html": [
       "\n",
       "scaling Features of pca data ..."
      ],
      "text/plain": [
       "<IPython.core.display.HTML object>"
      ]
     },
     "metadata": {},
     "output_type": "display_data"
    },
    {
     "name": "stdout",
     "output_type": "stream",
     "text": [
      "                                                                                          \r"
     ]
    },
    {
     "data": {
      "text/html": [
       "columns that will be scaled: "
      ],
      "text/plain": [
       "<IPython.core.display.HTML object>"
      ]
     },
     "metadata": {},
     "output_type": "display_data"
    },
    {
     "name": "stdout",
     "output_type": "stream",
     "text": [
      "['Length1', 'Length2', 'Length3', 'Height', 'Width']\n",
      "                                                                                          \r"
     ]
    },
    {
     "data": {
      "text/html": [
       "Training dataset sample after scaling:"
      ],
      "text/plain": [
       "<IPython.core.display.HTML object>"
      ]
     },
     "metadata": {},
     "output_type": "display_data"
    },
    {
     "data": {
      "text/html": [
       "<style type=\"text/css\">\n",
       "\ttable {border:ridge 5px;}\n",
       "\ttable td {border:inset 1px;}\n",
       "\ttable tr#HeaderRow {background-color:grey; color:white;}</style>\n",
       "<html><table>\n",
       "\t<tr id=\"HeaderRow\">\n",
       "\t\t<th>Species_1</th>\n",
       "\t\t<th>Species_2</th>\n",
       "\t\t<th>Species_6</th>\n",
       "\t\t<th>Species_5</th>\n",
       "\t\t<th>Species_0</th>\n",
       "\t\t<th>Species_4</th>\n",
       "\t\t<th>Weight</th>\n",
       "\t\t<th>id</th>\n",
       "\t\t<th>Species_3</th>\n",
       "\t\t<th>Length1</th>\n",
       "\t\t<th>Length2</th>\n",
       "\t\t<th>Length3</th>\n",
       "\t\t<th>Height</th>\n",
       "\t\t<th>Width</th>\n",
       "\t</tr>\n",
       "\t<tr>\n",
       "\t\t<td>0</td>\n",
       "\t\t<td>0</td>\n",
       "\t\t<td>0</td>\n",
       "\t\t<td>0</td>\n",
       "\t\t<td>1</td>\n",
       "\t\t<td>0</td>\n",
       "\t\t<td>680</td>\n",
       "\t\t<td>58</td>\n",
       "\t\t<td>0</td>\n",
       "\t\t<td>0.8160726393780738</td>\n",
       "\t\t<td>0.8771373974003821</td>\n",
       "\t\t<td>1.0732066681246162</td>\n",
       "\t\t<td>1.50393806428361</td>\n",
       "\t\t<td>1.1487297929493272</td>\n",
       "\t</tr>\n",
       "\t<tr>\n",
       "\t\t<td>0</td>\n",
       "\t\t<td>0</td>\n",
       "\t\t<td>0</td>\n",
       "\t\t<td>0</td>\n",
       "\t\t<td>1</td>\n",
       "\t\t<td>0</td>\n",
       "\t\t<td>850</td>\n",
       "\t\t<td>82</td>\n",
       "\t\t<td>0</td>\n",
       "\t\t<td>0.9332292392887888</td>\n",
       "\t\t<td>0.9854800079339289</td>\n",
       "\t\t<td>1.171293318922564</td>\n",
       "\t\t<td>1.8229642729866695</td>\n",
       "\t\t<td>1.1899871014162848</td>\n",
       "\t</tr>\n",
       "\t<tr>\n",
       "\t\t<td>0</td>\n",
       "\t\t<td>0</td>\n",
       "\t\t<td>0</td>\n",
       "\t\t<td>0</td>\n",
       "\t\t<td>1</td>\n",
       "\t\t<td>0</td>\n",
       "\t\t<td>430</td>\n",
       "\t\t<td>90</td>\n",
       "\t\t<td>0</td>\n",
       "\t\t<td>0.1951426598512824</td>\n",
       "\t\t<td>0.2270817341991013</td>\n",
       "\t\t<td>0.42583477285816074</td>\n",
       "\t\t<td>0.8248904422967887</td>\n",
       "\t\t<td>0.5422838693774988</td>\n",
       "\t</tr>\n",
       "\t<tr>\n",
       "\t\t<td>0</td>\n",
       "\t\t<td>0</td>\n",
       "\t\t<td>0</td>\n",
       "\t\t<td>0</td>\n",
       "\t\t<td>1</td>\n",
       "\t\t<td>0</td>\n",
       "\t\t<td>290</td>\n",
       "\t\t<td>98</td>\n",
       "\t\t<td>0</td>\n",
       "\t\t<td>-0.09774883992550597</td>\n",
       "\t\t<td>-0.06544331424147498</td>\n",
       "\t\t<td>0.15119215062390692</td>\n",
       "\t\t<td>0.8329727389282524</td>\n",
       "\t\t<td>0.0381901476366773</td>\n",
       "\t</tr>\n",
       "\t<tr>\n",
       "\t\t<td>0</td>\n",
       "\t\t<td>0</td>\n",
       "\t\t<td>0</td>\n",
       "\t\t<td>0</td>\n",
       "\t\t<td>1</td>\n",
       "\t\t<td>0</td>\n",
       "\t\t<td>475</td>\n",
       "\t\t<td>114</td>\n",
       "\t\t<td>0</td>\n",
       "\t\t<td>0.4177401996816414</td>\n",
       "\t\t<td>0.44376695526619486</td>\n",
       "\t\t<td>0.6416254046136461</td>\n",
       "\t\t<td>1.2332260287775234</td>\n",
       "\t\t<td>0.5241501261280097</td>\n",
       "\t</tr>\n",
       "\t<tr>\n",
       "\t\t<td>0</td>\n",
       "\t\t<td>0</td>\n",
       "\t\t<td>0</td>\n",
       "\t\t<td>0</td>\n",
       "\t\t<td>1</td>\n",
       "\t\t<td>0</td>\n",
       "\t\t<td>390</td>\n",
       "\t\t<td>130</td>\n",
       "\t\t<td>0</td>\n",
       "\t\t<td>0.32401491975306945</td>\n",
       "\t\t<td>0.3354243447326481</td>\n",
       "\t\t<td>0.5239214236561085</td>\n",
       "\t\t<td>0.8756293044832004</td>\n",
       "\t\t<td>0.2721032652575994</td>\n",
       "\t</tr>\n",
       "\t<tr>\n",
       "\t\t<td>0</td>\n",
       "\t\t<td>0</td>\n",
       "\t\t<td>0</td>\n",
       "\t\t<td>1</td>\n",
       "\t\t<td>0</td>\n",
       "\t\t<td>0</td>\n",
       "\t\t<td>8</td>\n",
       "\t\t<td>15</td>\n",
       "\t\t<td>0</td>\n",
       "\t\t<td>-1.6442159587469485</td>\n",
       "\t\t<td>-1.690582472244677</td>\n",
       "\t\t<td>-1.6732195542179218</td>\n",
       "\t\t<td>-1.524767893413611</td>\n",
       "\t\t<td>-1.7997681782276118</td>\n",
       "\t</tr>\n",
       "\t<tr>\n",
       "\t\t<td>0</td>\n",
       "\t\t<td>0</td>\n",
       "\t\t<td>0</td>\n",
       "\t\t<td>0</td>\n",
       "\t\t<td>0</td>\n",
       "\t\t<td>1</td>\n",
       "\t\t<td>150</td>\n",
       "\t\t<td>20</td>\n",
       "\t\t<td>0</td>\n",
       "\t\t<td>-0.5195125996040814</td>\n",
       "\t\t<td>-0.5313165395357263</td>\n",
       "\t\t<td>-0.4863710795627536</td>\n",
       "\t\t<td>-0.665732015608885</td>\n",
       "\t\t<td>-0.2972232509914502</td>\n",
       "\t</tr>\n",
       "\t<tr>\n",
       "\t\t<td>0</td>\n",
       "\t\t<td>0</td>\n",
       "\t\t<td>0</td>\n",
       "\t\t<td>0</td>\n",
       "\t\t<td>0</td>\n",
       "\t\t<td>0</td>\n",
       "\t\t<td>456</td>\n",
       "\t\t<td>21</td>\n",
       "\t\t<td>1</td>\n",
       "\t\t<td>1.7767567586459396</td>\n",
       "\t\t<td>1.689706976401983</td>\n",
       "\t\t<td>1.55383125703456</td>\n",
       "\t\t<td>-0.3344701078387484</td>\n",
       "\t\t<td>0.04847404900970932</td>\n",
       "\t</tr>\n",
       "\t<tr>\n",
       "\t\t<td>0</td>\n",
       "\t\t<td>0</td>\n",
       "\t\t<td>0</td>\n",
       "\t\t<td>1</td>\n",
       "\t\t<td>0</td>\n",
       "\t\t<td>0</td>\n",
       "\t\t<td>9</td>\n",
       "\t\t<td>23</td>\n",
       "\t\t<td>0</td>\n",
       "\t\t<td>-1.5856376587915908</td>\n",
       "\t\t<td>-1.6364111669779036</td>\n",
       "\t\t<td>-1.6241762288189479</td>\n",
       "\t\t<td>-1.4718513013014989</td>\n",
       "\t\t<td>-1.8723640027129813</td>\n",
       "\t</tr>\n",
       "</table></html>"
      ],
      "text/plain": [
       "   Species_1  Species_2  Species_6  Species_5  Species_0  Species_4  Weight   id  Species_3   Length1   Length2   Length3    Height     Width\n",
       "0          0          0          0          0          1          0     680   58          0  0.816073  0.877137  1.073207  1.503938  1.148730\n",
       "1          0          0          0          0          1          0     850   82          0  0.933229  0.985480  1.171293  1.822964  1.189987\n",
       "2          0          0          0          0          1          0     430   90          0  0.195143  0.227082  0.425835  0.824890  0.542284\n",
       "3          0          0          0          0          1          0     290   98          0 -0.097749 -0.065443  0.151192  0.832973  0.038190\n",
       "4          0          0          0          0          1          0     475  114          0  0.417740  0.443767  0.641625  1.233226  0.524150\n",
       "5          0          0          0          0          1          0     390  130          0  0.324015  0.335424  0.523921  0.875629  0.272103\n",
       "6          0          0          0          1          0          0       8   15          0 -1.644216 -1.690582 -1.673220 -1.524768 -1.799768\n",
       "7          0          0          0          0          0          1     150   20          0 -0.519513 -0.531317 -0.486371 -0.665732 -0.297223\n",
       "8          0          0          0          0          0          0     456   21          1  1.776757  1.689707  1.553831 -0.334470  0.048474\n",
       "9          0          0          0          1          0          0       9   23          0 -1.585638 -1.636411 -1.624176 -1.471851 -1.872364"
      ]
     },
     "metadata": {},
     "output_type": "display_data"
    },
    {
     "name": "stdout",
     "output_type": "stream",
     "text": [
      "                                                                                          \r"
     ]
    },
    {
     "data": {
      "text/html": [
       "99 rows X 14 columns"
      ],
      "text/plain": [
       "<IPython.core.display.HTML object>"
      ]
     },
     "metadata": {},
     "output_type": "display_data"
    },
    {
     "name": "stdout",
     "output_type": "stream",
     "text": [
      "                                                                                          \r"
     ]
    },
    {
     "data": {
      "text/html": [
       "Testing dataset sample after scaling:"
      ],
      "text/plain": [
       "<IPython.core.display.HTML object>"
      ]
     },
     "metadata": {},
     "output_type": "display_data"
    },
    {
     "data": {
      "text/html": [
       "<style type=\"text/css\">\n",
       "\ttable {border:ridge 5px;}\n",
       "\ttable td {border:inset 1px;}\n",
       "\ttable tr#HeaderRow {background-color:grey; color:white;}</style>\n",
       "<html><table>\n",
       "\t<tr id=\"HeaderRow\">\n",
       "\t\t<th>Species_1</th>\n",
       "\t\t<th>Species_2</th>\n",
       "\t\t<th>Species_6</th>\n",
       "\t\t<th>Species_5</th>\n",
       "\t\t<th>Species_0</th>\n",
       "\t\t<th>Species_4</th>\n",
       "\t\t<th>Weight</th>\n",
       "\t\t<th>id</th>\n",
       "\t\t<th>Species_3</th>\n",
       "\t\t<th>Length1</th>\n",
       "\t\t<th>Length2</th>\n",
       "\t\t<th>Length3</th>\n",
       "\t\t<th>Height</th>\n",
       "\t\t<th>Width</th>\n",
       "\t</tr>\n",
       "\t<tr>\n",
       "\t\t<td>0</td>\n",
       "\t\t<td>0</td>\n",
       "\t\t<td>0</td>\n",
       "\t\t<td>0</td>\n",
       "\t\t<td>1</td>\n",
       "\t\t<td>0</td>\n",
       "\t\t<td>600</td>\n",
       "\t\t<td>186</td>\n",
       "\t\t<td>0</td>\n",
       "\t\t<td>0.5348967995923568</td>\n",
       "\t\t<td>0.5521095657997417</td>\n",
       "\t\t<td>0.7397120554115939</td>\n",
       "\t\t<td>1.4970681121468656</td>\n",
       "\t\t<td>0.813681503245686</td>\n",
       "\t</tr>\n",
       "\t<tr>\n",
       "\t\t<td>0</td>\n",
       "\t\t<td>0</td>\n",
       "\t\t<td>0</td>\n",
       "\t\t<td>0</td>\n",
       "\t\t<td>1</td>\n",
       "\t\t<td>0</td>\n",
       "\t\t<td>340</td>\n",
       "\t\t<td>210</td>\n",
       "\t\t<td>0</td>\n",
       "\t\t<td>0.5466124595834284</td>\n",
       "\t\t<td>0.5521095657997417</td>\n",
       "\t\t<td>0.7495207204913881</td>\n",
       "\t\t<td>1.15467059568449</td>\n",
       "\t\t<td>0.5050427590798908</td>\n",
       "\t</tr>\n",
       "\t<tr>\n",
       "\t\t<td>0</td>\n",
       "\t\t<td>0</td>\n",
       "\t\t<td>0</td>\n",
       "\t\t<td>0</td>\n",
       "\t\t<td>1</td>\n",
       "\t\t<td>0</td>\n",
       "\t\t<td>500</td>\n",
       "\t\t<td>226</td>\n",
       "\t\t<td>0</td>\n",
       "\t\t<td>0.4997498196191425</td>\n",
       "\t\t<td>0.4979382605329683</td>\n",
       "\t\t<td>0.6612427347732353</td>\n",
       "\t\t<td>1.1201636792329346</td>\n",
       "\t\t<td>0.07616147578325791</td>\n",
       "\t</tr>\n",
       "\t<tr>\n",
       "\t\t<td>0</td>\n",
       "\t\t<td>0</td>\n",
       "\t\t<td>0</td>\n",
       "\t\t<td>0</td>\n",
       "\t\t<td>0</td>\n",
       "\t\t<td>0</td>\n",
       "\t\t<td>300</td>\n",
       "\t\t<td>13</td>\n",
       "\t\t<td>1</td>\n",
       "\t\t<td>0.9215135792977179</td>\n",
       "\t\t<td>0.8771373974003821</td>\n",
       "\t\t<td>0.8966506966883098</td>\n",
       "\t\t<td>-0.6361193787841605</td>\n",
       "\t\t<td>0.08614111971921813</td>\n",
       "\t</tr>\n",
       "\t<tr>\n",
       "\t\t<td>0</td>\n",
       "\t\t<td>0</td>\n",
       "\t\t<td>0</td>\n",
       "\t\t<td>0</td>\n",
       "\t\t<td>0</td>\n",
       "\t\t<td>0</td>\n",
       "\t\t<td>950</td>\n",
       "\t\t<td>53</td>\n",
       "\t\t<td>1</td>\n",
       "\t\t<td>2.749156537904877</td>\n",
       "\t\t<td>2.6864589933106138</td>\n",
       "\t\t<td>2.495463104694859</td>\n",
       "\t\t<td>0.03511535645891236</td>\n",
       "\t\t<td>1.17343549683957</td>\n",
       "\t</tr>\n",
       "\t<tr>\n",
       "\t\t<td>1</td>\n",
       "\t\t<td>0</td>\n",
       "\t\t<td>0</td>\n",
       "\t\t<td>0</td>\n",
       "\t\t<td>0</td>\n",
       "\t\t<td>0</td>\n",
       "\t\t<td>145</td>\n",
       "\t\t<td>56</td>\n",
       "\t\t<td>0</td>\n",
       "\t\t<td>-0.5898065595505103</td>\n",
       "\t\t<td>-0.5854878448024997</td>\n",
       "\t\t<td>-0.545223070041522</td>\n",
       "\t\t<td>0.21701193231480162</td>\n",
       "\t\t<td>-0.6606891853176123</td>\n",
       "\t</tr>\n",
       "\t<tr>\n",
       "\t\t<td>0</td>\n",
       "\t\t<td>0</td>\n",
       "\t\t<td>0</td>\n",
       "\t\t<td>0</td>\n",
       "\t\t<td>0</td>\n",
       "\t\t<td>1</td>\n",
       "\t\t<td>160</td>\n",
       "\t\t<td>60</td>\n",
       "\t\t<td>0</td>\n",
       "\t\t<td>-0.5077969396130098</td>\n",
       "\t\t<td>-0.4771452342689529</td>\n",
       "\t\t<td>-0.4275190890839848</td>\n",
       "\t\t<td>-0.3898338397642758</td>\n",
       "\t\t<td>-0.257122120785366</td>\n",
       "\t</tr>\n",
       "\t<tr>\n",
       "\t\t<td>0</td>\n",
       "\t\t<td>0</td>\n",
       "\t\t<td>0</td>\n",
       "\t\t<td>0</td>\n",
       "\t\t<td>0</td>\n",
       "\t\t<td>1</td>\n",
       "\t\t<td>140</td>\n",
       "\t\t<td>68</td>\n",
       "\t\t<td>0</td>\n",
       "\t\t<td>-0.449218639657652</td>\n",
       "\t\t<td>-0.4771452342689529</td>\n",
       "\t\t<td>-0.45694508432336917</td>\n",
       "\t\t<td>-0.4983611228656544</td>\n",
       "\t\t<td>-0.5585195379488483</td>\n",
       "\t</tr>\n",
       "\t<tr>\n",
       "\t\t<td>0</td>\n",
       "\t\t<td>0</td>\n",
       "\t\t<td>0</td>\n",
       "\t\t<td>0</td>\n",
       "\t\t<td>0</td>\n",
       "\t\t<td>1</td>\n",
       "\t\t<td>120</td>\n",
       "\t\t<td>100</td>\n",
       "\t\t<td>0</td>\n",
       "\t\t<td>-0.7303944794433687</td>\n",
       "\t\t<td>-0.7480017606028199</td>\n",
       "\t\t<td>-0.7315877065576231</td>\n",
       "\t\t<td>-0.5733468749464579</td>\n",
       "\t\t<td>-0.40687763131218424</td>\n",
       "\t</tr>\n",
       "\t<tr>\n",
       "\t\t<td>0</td>\n",
       "\t\t<td>0</td>\n",
       "\t\t<td>1</td>\n",
       "\t\t<td>0</td>\n",
       "\t\t<td>0</td>\n",
       "\t\t<td>0</td>\n",
       "\t\t<td>1000</td>\n",
       "\t\t<td>125</td>\n",
       "\t\t<td>0</td>\n",
       "\t\t<td>1.4604339388870078</td>\n",
       "\t\t<td>1.418850450068116</td>\n",
       "\t\t<td>1.3576579554386645</td>\n",
       "\t\t<td>0.8046847007181287</td>\n",
       "\t\t<td>1.3887280593116884</td>\n",
       "\t</tr>\n",
       "</table></html>"
      ],
      "text/plain": [
       "   Species_1  Species_2  Species_6  Species_5  Species_0  Species_4  Weight   id  Species_3   Length1   Length2   Length3    Height     Width\n",
       "0          0          0          0          0          1          0     600  186          0  0.534897  0.552110  0.739712  1.497068  0.813682\n",
       "1          0          0          0          0          1          0     340  210          0  0.546612  0.552110  0.749521  1.154671  0.505043\n",
       "2          0          0          0          0          1          0     500  226          0  0.499750  0.497938  0.661243  1.120164  0.076161\n",
       "3          0          0          0          0          0          0     300   13          1  0.921514  0.877137  0.896651 -0.636119  0.086141\n",
       "4          0          0          0          0          0          0     950   53          1  2.749157  2.686459  2.495463  0.035115  1.173435\n",
       "5          1          0          0          0          0          0     145   56          0 -0.589807 -0.585488 -0.545223  0.217012 -0.660689\n",
       "6          0          0          0          0          0          1     160   60          0 -0.507797 -0.477145 -0.427519 -0.389834 -0.257122\n",
       "7          0          0          0          0          0          1     140   68          0 -0.449219 -0.477145 -0.456945 -0.498361 -0.558520\n",
       "8          0          0          0          0          0          1     120  100          0 -0.730394 -0.748002 -0.731588 -0.573347 -0.406878\n",
       "9          0          0          1          0          0          0    1000  125          0  1.460434  1.418850  1.357658  0.804685  1.388728"
      ]
     },
     "metadata": {},
     "output_type": "display_data"
    },
    {
     "name": "stdout",
     "output_type": "stream",
     "text": [
      "                                                                                          \r"
     ]
    },
    {
     "data": {
      "text/html": [
       "26 rows X 14 columns"
      ],
      "text/plain": [
       "<IPython.core.display.HTML object>"
      ]
     },
     "metadata": {},
     "output_type": "display_data"
    },
    {
     "name": "stdout",
     "output_type": "stream",
     "text": [
      "                                                                                          \r"
     ]
    },
    {
     "data": {
      "text/html": [
       "Total time taken by feature scaling: 40.01 sec"
      ],
      "text/plain": [
       "<IPython.core.display.HTML object>"
      ]
     },
     "metadata": {},
     "output_type": "display_data"
    },
    {
     "name": "stdout",
     "output_type": "stream",
     "text": [
      "                                                                                          \r"
     ]
    },
    {
     "data": {
      "text/html": [
       "\n",
       "Dimension Reduction using pca ..."
      ],
      "text/plain": [
       "<IPython.core.display.HTML object>"
      ]
     },
     "metadata": {},
     "output_type": "display_data"
    },
    {
     "name": "stdout",
     "output_type": "stream",
     "text": [
      "                                                                                          \r"
     ]
    },
    {
     "data": {
      "text/html": [
       "PCA columns:"
      ],
      "text/plain": [
       "<IPython.core.display.HTML object>"
      ]
     },
     "metadata": {},
     "output_type": "display_data"
    },
    {
     "name": "stdout",
     "output_type": "stream",
     "text": [
      "['col_0', 'col_1', 'col_2', 'col_3']\n",
      "                                                                                          \r"
     ]
    },
    {
     "data": {
      "text/html": [
       "Total time taken by PCA: 10.48 sec  "
      ],
      "text/plain": [
       "<IPython.core.display.HTML object>"
      ]
     },
     "metadata": {},
     "output_type": "display_data"
    },
    {
     "name": "stdout",
     "output_type": "stream",
     "text": [
      "                                                                                          \r"
     ]
    },
    {
     "data": {
      "text/html": [
       "\n",
       "            <style>\n",
       "                .custom-div {\n",
       "                    background-color: lightgray;\n",
       "                    color: #000000;\n",
       "                    padding: 10px;\n",
       "                    border-radius: 8px;\n",
       "                    box-shadow: 0 3px 4px rgba(0 -  0 -  0 -  0.2);\n",
       "                    margin-bottom: 10px;\n",
       "                    text-align: center;\n",
       "                }\n",
       "            </style>\n",
       "        <br><div class=\"custom-div\"><h3><span style=\"color: green;\">1. Feature Exploration -> 2. Feature Engineering -> 3. Data Preparation -></span> 4. Model Training & Evaluation<center></h3></center></div>"
      ],
      "text/plain": [
       "<IPython.core.display.HTML object>"
      ]
     },
     "metadata": {},
     "output_type": "display_data"
    },
    {
     "name": "stdout",
     "output_type": "stream",
     "text": [
      "                                                                                          \r"
     ]
    },
    {
     "data": {
      "text/html": [
       "Model Training started ..."
      ],
      "text/plain": [
       "<IPython.core.display.HTML object>"
      ]
     },
     "metadata": {},
     "output_type": "display_data"
    },
    {
     "name": "stdout",
     "output_type": "stream",
     "text": [
      "                                                                                          \r"
     ]
    },
    {
     "data": {
      "text/html": [
       "\n",
       "Hyperparameters used for model training: "
      ],
      "text/plain": [
       "<IPython.core.display.HTML object>"
      ]
     },
     "metadata": {},
     "output_type": "display_data"
    },
    {
     "name": "stdout",
     "output_type": "stream",
     "text": [
      "response_column : Weight                                                                                                                              \n",
      "name : decision_forest\n",
      "tree_type : Regression\n",
      "min_impurity : (0.0, 0.1, 0.2)\n",
      "max_depth : (5, 6, 8, 10)\n",
      "min_node_size : (1, 2, 3)\n",
      "num_trees : (-1, 20, 30)\n",
      "seed : 42\n",
      "Total number of models for decision_forest : 108\n",
      "--------------------------------------------------------------------------------------------------------------------------------------------------------------------------------------------------------\n",
      "\n",
      "response_column : Weight\n",
      "name : svm\n",
      "model_type : regression\n",
      "lambda1 : (0.001, 0.02, 0.1)\n",
      "alpha : (0.15, 0.85)\n",
      "tolerance : (0.001, 0.01)\n",
      "learning_rate : ('Invtime', 'Adaptive', 'constant')\n",
      "initial_eta : (0.05, 0.1)\n",
      "momentum : (0.65, 0.8, 0.95)\n",
      "nesterov : True\n",
      "intercept : True\n",
      "iter_num_no_change : (5, 10, 50)\n",
      "local_sgd_iterations  : (10, 20)\n",
      "iter_max : (300, 200, 400)\n",
      "batch_size : (10, 50, 60, 80)\n",
      "Total number of models for svm : 15552\n",
      "--------------------------------------------------------------------------------------------------------------------------------------------------------------------------------------------------------\n",
      "\n",
      "response_column : Weight\n",
      "name : xgboost\n",
      "model_type : Regression\n",
      "column_sampling : (1, 0.6)\n",
      "min_impurity : (0.0, 0.1, 0.2)\n",
      "lambda1 : (0.01, 0.1, 1, 10)\n",
      "shrinkage_factor : (0.5, 0.1, 0.3)\n",
      "max_depth : (5, 6, 8, 10)\n",
      "min_node_size : (1, 2, 3)\n",
      "iter_num : (10, 20, 30)\n",
      "seed : 42\n",
      "Total number of models for xgboost : 2592\n",
      "--------------------------------------------------------------------------------------------------------------------------------------------------------------------------------------------------------\n",
      "\n",
      "response_column : Weight\n",
      "name : knn\n",
      "model_type : Regression\n",
      "k : (3, 5, 6, 8, 10, 12)\n",
      "id_column : id\n",
      "voting_weight : 1.0\n",
      "Total number of models for knn : 6\n",
      "--------------------------------------------------------------------------------------------------------------------------------------------------------------------------------------------------------\n",
      "\n",
      "                                                                                          \r"
     ]
    },
    {
     "data": {
      "text/html": [
       "\n",
       "Performing hyperParameter tuning ..."
      ],
      "text/plain": [
       "<IPython.core.display.HTML object>"
      ]
     },
     "metadata": {},
     "output_type": "display_data"
    },
    {
     "name": "stdout",
     "output_type": "stream",
     "text": [
      "                                                                                          \r"
     ]
    },
    {
     "data": {
      "text/html": [
       "decision_forest"
      ],
      "text/plain": [
       "<IPython.core.display.HTML object>"
      ]
     },
     "metadata": {},
     "output_type": "display_data"
    },
    {
     "name": "stdout",
     "output_type": "stream",
     "text": [
      "result data stored in table '\"ALICE\".\"ml__td_sqlmr_persist_out__1719258437614003\"'                                                                                                                      \n",
      "result data stored in table '\"ALICE\".\"ml__td_sqlmr_persist_out__1719263744833586\"'\n",
      "result data stored in table '\"ALICE\".\"ml__td_sqlmr_persist_out__1719266127071337\"'\n",
      "                                                                                          \r"
     ]
    },
    {
     "data": {
      "text/html": [
       "----------------------------------------------------------------------------------------------------"
      ],
      "text/plain": [
       "<IPython.core.display.HTML object>"
      ]
     },
     "metadata": {},
     "output_type": "display_data"
    },
    {
     "name": "stdout",
     "output_type": "stream",
     "text": [
      "                                                                                          \r"
     ]
    },
    {
     "data": {
      "text/html": [
       "svm"
      ],
      "text/plain": [
       "<IPython.core.display.HTML object>"
      ]
     },
     "metadata": {},
     "output_type": "display_data"
    },
    {
     "name": "stdout",
     "output_type": "stream",
     "text": [
      "result data stored in table '\"ALICE\".\"ml__td_sqlmr_persist_out__1719259392326330\"'                                                                                                                      \n",
      "result data stored in table '\"ALICE\".\"ml__td_sqlmr_persist_out__1719259288462823\"'\n",
      "result data stored in table '\"ALICE\".\"ml__td_sqlmr_persist_out__1719259599899898\"'\n",
      "                                                                                          \r"
     ]
    },
    {
     "data": {
      "text/html": [
       "----------------------------------------------------------------------------------------------------"
      ],
      "text/plain": [
       "<IPython.core.display.HTML object>"
      ]
     },
     "metadata": {},
     "output_type": "display_data"
    },
    {
     "name": "stdout",
     "output_type": "stream",
     "text": [
      "                                                                                          \r"
     ]
    },
    {
     "data": {
      "text/html": [
       "xgboost"
      ],
      "text/plain": [
       "<IPython.core.display.HTML object>"
      ]
     },
     "metadata": {},
     "output_type": "display_data"
    },
    {
     "name": "stdout",
     "output_type": "stream",
     "text": [
      "result data stored in table '\"ALICE\".\"ml__td_sqlmr_persist_out__1719259514378291\"'                                                                                                                      \n",
      "result data stored in table '\"ALICE\".\"ml__td_sqlmr_persist_out__1719259592614689\"'\n",
      "result data stored in table '\"ALICE\".\"ml__td_sqlmr_persist_out__1719259544102038\"'\n",
      "                                                                                          \r"
     ]
    },
    {
     "data": {
      "text/html": [
       "----------------------------------------------------------------------------------------------------"
      ],
      "text/plain": [
       "<IPython.core.display.HTML object>"
      ]
     },
     "metadata": {},
     "output_type": "display_data"
    },
    {
     "name": "stdout",
     "output_type": "stream",
     "text": [
      "                                                                                          \r"
     ]
    },
    {
     "data": {
      "text/html": [
       "knn"
      ],
      "text/plain": [
       "<IPython.core.display.HTML object>"
      ]
     },
     "metadata": {},
     "output_type": "display_data"
    },
    {
     "name": "stdout",
     "output_type": "stream",
     "text": [
      "result data stored in table '\"ALICE\".\"ml__td_sqlmr_persist_out__1719262390368757\"'                                                                                                                      \n",
      "result data stored in table '\"ALICE\".\"ml__td_sqlmr_persist_out__1719258691697954\"'\n",
      "result data stored in table '\"ALICE\".\"ml__td_sqlmr_persist_out__1719259695929673\"'\n",
      "                                                                                          \r"
     ]
    },
    {
     "data": {
      "text/html": [
       "----------------------------------------------------------------------------------------------------"
      ],
      "text/plain": [
       "<IPython.core.display.HTML object>"
      ]
     },
     "metadata": {},
     "output_type": "display_data"
    },
    {
     "name": "stdout",
     "output_type": "stream",
     "text": [
      "                                                                                          \r"
     ]
    },
    {
     "data": {
      "text/html": [
       "Evaluating models performance ..."
      ],
      "text/plain": [
       "<IPython.core.display.HTML object>"
      ]
     },
     "metadata": {},
     "output_type": "display_data"
    },
    {
     "name": "stdout",
     "output_type": "stream",
     "text": [
      "                                                                                          \r"
     ]
    },
    {
     "data": {
      "text/html": [
       "Evaluation completed."
      ],
      "text/plain": [
       "<IPython.core.display.HTML object>"
      ]
     },
     "metadata": {},
     "output_type": "display_data"
    },
    {
     "name": "stdout",
     "output_type": "stream",
     "text": [
      "                                                                                          \r"
     ]
    },
    {
     "data": {
      "text/html": [
       "Leaderboard"
      ],
      "text/plain": [
       "<IPython.core.display.HTML object>"
      ]
     },
     "metadata": {},
     "output_type": "display_data"
    },
    {
     "data": {
      "text/html": [
       "<div>\n",
       "<style scoped>\n",
       "    .dataframe tbody tr th:only-of-type {\n",
       "        vertical-align: middle;\n",
       "    }\n",
       "\n",
       "    .dataframe tbody tr th {\n",
       "        vertical-align: top;\n",
       "    }\n",
       "\n",
       "    .dataframe thead th {\n",
       "        text-align: right;\n",
       "    }\n",
       "</style>\n",
       "<table border=\"1\" class=\"dataframe\">\n",
       "  <thead>\n",
       "    <tr style=\"text-align: right;\">\n",
       "      <th></th>\n",
       "      <th>Rank</th>\n",
       "      <th>Model-ID</th>\n",
       "      <th>Feature-Selection</th>\n",
       "      <th>MAE</th>\n",
       "      <th>MSE</th>\n",
       "      <th>MSLE</th>\n",
       "      <th>RMSE</th>\n",
       "      <th>RMSLE</th>\n",
       "      <th>R2-score</th>\n",
       "      <th>Adjusted R2-score</th>\n",
       "    </tr>\n",
       "  </thead>\n",
       "  <tbody>\n",
       "    <tr>\n",
       "      <th>0</th>\n",
       "      <td>1</td>\n",
       "      <td>XGBOOST_1</td>\n",
       "      <td>rfe</td>\n",
       "      <td>54.571676</td>\n",
       "      <td>7341.517795</td>\n",
       "      <td>0.072873</td>\n",
       "      <td>85.682657</td>\n",
       "      <td>0.269950</td>\n",
       "      <td>0.931157</td>\n",
       "      <td>0.867610</td>\n",
       "    </tr>\n",
       "    <tr>\n",
       "      <th>1</th>\n",
       "      <td>2</td>\n",
       "      <td>DECISIONFOREST_2</td>\n",
       "      <td>pca</td>\n",
       "      <td>55.659965</td>\n",
       "      <td>11377.368654</td>\n",
       "      <td>0.040907</td>\n",
       "      <td>106.664749</td>\n",
       "      <td>0.202254</td>\n",
       "      <td>0.893312</td>\n",
       "      <td>0.872990</td>\n",
       "    </tr>\n",
       "    <tr>\n",
       "      <th>2</th>\n",
       "      <td>3</td>\n",
       "      <td>DECISIONFOREST_0</td>\n",
       "      <td>lasso</td>\n",
       "      <td>75.766026</td>\n",
       "      <td>14051.254006</td>\n",
       "      <td>0.303610</td>\n",
       "      <td>118.537986</td>\n",
       "      <td>0.551008</td>\n",
       "      <td>0.868238</td>\n",
       "      <td>0.764711</td>\n",
       "    </tr>\n",
       "    <tr>\n",
       "      <th>3</th>\n",
       "      <td>4</td>\n",
       "      <td>XGBOOST_0</td>\n",
       "      <td>lasso</td>\n",
       "      <td>156.833994</td>\n",
       "      <td>46359.848153</td>\n",
       "      <td>0.222249</td>\n",
       "      <td>215.313372</td>\n",
       "      <td>0.471432</td>\n",
       "      <td>0.565274</td>\n",
       "      <td>0.223703</td>\n",
       "    </tr>\n",
       "    <tr>\n",
       "      <th>4</th>\n",
       "      <td>5</td>\n",
       "      <td>XGBOOST_2</td>\n",
       "      <td>pca</td>\n",
       "      <td>207.323017</td>\n",
       "      <td>70865.505868</td>\n",
       "      <td>0.478950</td>\n",
       "      <td>266.205759</td>\n",
       "      <td>0.692062</td>\n",
       "      <td>0.335479</td>\n",
       "      <td>0.208904</td>\n",
       "    </tr>\n",
       "  </tbody>\n",
       "</table>\n",
       "</div>"
      ],
      "text/plain": [
       "   Rank          Model-ID Feature-Selection         MAE           MSE  \\\n",
       "0     1         XGBOOST_1               rfe   54.571676   7341.517795   \n",
       "1     2  DECISIONFOREST_2               pca   55.659965  11377.368654   \n",
       "2     3  DECISIONFOREST_0             lasso   75.766026  14051.254006   \n",
       "3     4         XGBOOST_0             lasso  156.833994  46359.848153   \n",
       "4     5         XGBOOST_2               pca  207.323017  70865.505868   \n",
       "\n",
       "       MSLE        RMSE     RMSLE  R2-score  Adjusted R2-score  \n",
       "0  0.072873   85.682657  0.269950  0.931157           0.867610  \n",
       "1  0.040907  106.664749  0.202254  0.893312           0.872990  \n",
       "2  0.303610  118.537986  0.551008  0.868238           0.764711  \n",
       "3  0.222249  215.313372  0.471432  0.565274           0.223703  \n",
       "4  0.478950  266.205759  0.692062  0.335479           0.208904  "
      ]
     },
     "metadata": {},
     "output_type": "display_data"
    },
    {
     "name": "stdout",
     "output_type": "stream",
     "text": [
      "                                                                                          \r"
     ]
    },
    {
     "data": {
      "text/html": [
       "5 rows X 10 columns"
      ],
      "text/plain": [
       "<IPython.core.display.HTML object>"
      ]
     },
     "metadata": {},
     "output_type": "display_data"
    },
    {
     "name": "stdout",
     "output_type": "stream",
     "text": [
      "                                                                                          \r"
     ]
    },
    {
     "data": {
      "text/html": [
       "\n",
       "            <style>\n",
       "                .custom-div {\n",
       "                    background-color: lightgray;\n",
       "                    color: #000000;\n",
       "                    padding: 10px;\n",
       "                    border-radius: 8px;\n",
       "                    box-shadow: 0 3px 4px rgba(0 -  0 -  0 -  0.2);\n",
       "                    margin-bottom: 10px;\n",
       "                    text-align: center;\n",
       "                }\n",
       "            </style>\n",
       "        <br><div class=\"custom-div\"><h3><span style=\"color: green;\">1. Feature Exploration -> 2. Feature Engineering -> 3. Data Preparation -> 4. Model Training & Evaluation</span><center></h3></center></div>"
      ],
      "text/plain": [
       "<IPython.core.display.HTML object>"
      ]
     },
     "metadata": {},
     "output_type": "display_data"
    },
    {
     "name": "stdout",
     "output_type": "stream",
     "text": [
      "Completed: ｜⫿⫿⫿⫿⫿⫿⫿⫿⫿⫿⫿⫿⫿⫿⫿⫿⫿⫿⫿⫿⫿⫿⫿⫿⫿⫿⫿⫿⫿⫿⫿⫿⫿⫿⫿⫿⫿⫿⫿⫿⫿⫿⫿⫿⫿⫿⫿⫿⫿⫿⫿⫿⫿⫿⫿⫿⫿⫿⫿⫿｜ 100% - 18/18    \r"
     ]
    }
   ],
   "source": [
    "# Fitting train data\n",
    "aml.fit(fish_df_train, fish_df_train.Weight)"
   ]
  },
  {
   "cell_type": "markdown",
   "id": "23a04eb1-68e6-48b7-95aa-442f434809da",
   "metadata": {},
   "source": [
    "## <b><span style='color:#F1A424'>| 3.</span> Leaderboard : </b>"
   ]
  },
  {
   "cell_type": "code",
   "execution_count": 17,
   "id": "77de1099-6122-4f8a-8e7f-dd67e5b4ced4",
   "metadata": {},
   "outputs": [
    {
     "data": {
      "text/html": [
       "<div>\n",
       "<style scoped>\n",
       "    .dataframe tbody tr th:only-of-type {\n",
       "        vertical-align: middle;\n",
       "    }\n",
       "\n",
       "    .dataframe tbody tr th {\n",
       "        vertical-align: top;\n",
       "    }\n",
       "\n",
       "    .dataframe thead th {\n",
       "        text-align: right;\n",
       "    }\n",
       "</style>\n",
       "<table border=\"1\" class=\"dataframe\">\n",
       "  <thead>\n",
       "    <tr style=\"text-align: right;\">\n",
       "      <th></th>\n",
       "      <th>Rank</th>\n",
       "      <th>Model-ID</th>\n",
       "      <th>Feature-Selection</th>\n",
       "      <th>MAE</th>\n",
       "      <th>MSE</th>\n",
       "      <th>MSLE</th>\n",
       "      <th>RMSE</th>\n",
       "      <th>RMSLE</th>\n",
       "      <th>R2-score</th>\n",
       "      <th>Adjusted R2-score</th>\n",
       "    </tr>\n",
       "  </thead>\n",
       "  <tbody>\n",
       "    <tr>\n",
       "      <th>0</th>\n",
       "      <td>1</td>\n",
       "      <td>XGBOOST_1</td>\n",
       "      <td>rfe</td>\n",
       "      <td>54.571676</td>\n",
       "      <td>7341.517795</td>\n",
       "      <td>0.072873</td>\n",
       "      <td>85.682657</td>\n",
       "      <td>0.269950</td>\n",
       "      <td>0.931157</td>\n",
       "      <td>0.867610</td>\n",
       "    </tr>\n",
       "    <tr>\n",
       "      <th>1</th>\n",
       "      <td>2</td>\n",
       "      <td>DECISIONFOREST_2</td>\n",
       "      <td>pca</td>\n",
       "      <td>55.659965</td>\n",
       "      <td>11377.368654</td>\n",
       "      <td>0.040907</td>\n",
       "      <td>106.664749</td>\n",
       "      <td>0.202254</td>\n",
       "      <td>0.893312</td>\n",
       "      <td>0.872990</td>\n",
       "    </tr>\n",
       "    <tr>\n",
       "      <th>2</th>\n",
       "      <td>3</td>\n",
       "      <td>DECISIONFOREST_0</td>\n",
       "      <td>lasso</td>\n",
       "      <td>75.766026</td>\n",
       "      <td>14051.254006</td>\n",
       "      <td>0.303610</td>\n",
       "      <td>118.537986</td>\n",
       "      <td>0.551008</td>\n",
       "      <td>0.868238</td>\n",
       "      <td>0.764711</td>\n",
       "    </tr>\n",
       "    <tr>\n",
       "      <th>3</th>\n",
       "      <td>4</td>\n",
       "      <td>XGBOOST_0</td>\n",
       "      <td>lasso</td>\n",
       "      <td>156.833994</td>\n",
       "      <td>46359.848153</td>\n",
       "      <td>0.222249</td>\n",
       "      <td>215.313372</td>\n",
       "      <td>0.471432</td>\n",
       "      <td>0.565274</td>\n",
       "      <td>0.223703</td>\n",
       "    </tr>\n",
       "    <tr>\n",
       "      <th>4</th>\n",
       "      <td>5</td>\n",
       "      <td>XGBOOST_2</td>\n",
       "      <td>pca</td>\n",
       "      <td>207.323017</td>\n",
       "      <td>70865.505868</td>\n",
       "      <td>0.478950</td>\n",
       "      <td>266.205759</td>\n",
       "      <td>0.692062</td>\n",
       "      <td>0.335479</td>\n",
       "      <td>0.208904</td>\n",
       "    </tr>\n",
       "  </tbody>\n",
       "</table>\n",
       "</div>"
      ],
      "text/plain": [
       "   Rank          Model-ID Feature-Selection         MAE           MSE  \\\n",
       "0     1         XGBOOST_1               rfe   54.571676   7341.517795   \n",
       "1     2  DECISIONFOREST_2               pca   55.659965  11377.368654   \n",
       "2     3  DECISIONFOREST_0             lasso   75.766026  14051.254006   \n",
       "3     4         XGBOOST_0             lasso  156.833994  46359.848153   \n",
       "4     5         XGBOOST_2               pca  207.323017  70865.505868   \n",
       "\n",
       "       MSLE        RMSE     RMSLE  R2-score  Adjusted R2-score  \n",
       "0  0.072873   85.682657  0.269950  0.931157           0.867610  \n",
       "1  0.040907  106.664749  0.202254  0.893312           0.872990  \n",
       "2  0.303610  118.537986  0.551008  0.868238           0.764711  \n",
       "3  0.222249  215.313372  0.471432  0.565274           0.223703  \n",
       "4  0.478950  266.205759  0.692062  0.335479           0.208904  "
      ]
     },
     "execution_count": 17,
     "metadata": {},
     "output_type": "execute_result"
    }
   ],
   "source": [
    "# Fetching Leaderboard\n",
    "aml.leaderboard()"
   ]
  },
  {
   "cell_type": "markdown",
   "id": "a7a3aa08-e349-4a61-9217-2c17d50411d8",
   "metadata": {},
   "source": [
    "## <b><span style='color:#F1A424'>| 4.</span> Best Performing Model : </b>"
   ]
  },
  {
   "cell_type": "code",
   "execution_count": 18,
   "id": "c4c32832-a76b-4f42-826a-cefc38a6301b",
   "metadata": {},
   "outputs": [
    {
     "data": {
      "text/html": [
       "<div>\n",
       "<style scoped>\n",
       "    .dataframe tbody tr th:only-of-type {\n",
       "        vertical-align: middle;\n",
       "    }\n",
       "\n",
       "    .dataframe tbody tr th {\n",
       "        vertical-align: top;\n",
       "    }\n",
       "\n",
       "    .dataframe thead th {\n",
       "        text-align: right;\n",
       "    }\n",
       "</style>\n",
       "<table border=\"1\" class=\"dataframe\">\n",
       "  <thead>\n",
       "    <tr style=\"text-align: right;\">\n",
       "      <th></th>\n",
       "      <th>Rank</th>\n",
       "      <th>Model-ID</th>\n",
       "      <th>Feature-Selection</th>\n",
       "      <th>MAE</th>\n",
       "      <th>MSE</th>\n",
       "      <th>MSLE</th>\n",
       "      <th>RMSE</th>\n",
       "      <th>RMSLE</th>\n",
       "      <th>R2-score</th>\n",
       "      <th>Adjusted R2-score</th>\n",
       "    </tr>\n",
       "  </thead>\n",
       "  <tbody>\n",
       "    <tr>\n",
       "      <th>0</th>\n",
       "      <td>1</td>\n",
       "      <td>XGBOOST_1</td>\n",
       "      <td>rfe</td>\n",
       "      <td>54.571676</td>\n",
       "      <td>7341.517795</td>\n",
       "      <td>0.072873</td>\n",
       "      <td>85.682657</td>\n",
       "      <td>0.26995</td>\n",
       "      <td>0.931157</td>\n",
       "      <td>0.86761</td>\n",
       "    </tr>\n",
       "  </tbody>\n",
       "</table>\n",
       "</div>"
      ],
      "text/plain": [
       "   Rank   Model-ID Feature-Selection        MAE          MSE      MSLE  \\\n",
       "0     1  XGBOOST_1               rfe  54.571676  7341.517795  0.072873   \n",
       "\n",
       "        RMSE    RMSLE  R2-score  Adjusted R2-score  \n",
       "0  85.682657  0.26995  0.931157            0.86761  "
      ]
     },
     "metadata": {},
     "output_type": "display_data"
    }
   ],
   "source": [
    "# Fetching best performing model for dataset\n",
    "aml.leader()"
   ]
  },
  {
   "cell_type": "markdown",
   "id": "e43181a9-3847-4e8b-b510-6da81f1c550f",
   "metadata": {},
   "source": [
    "## <b><span style='color:#F1A424'>| 5.</span> Generating Prediction : </b>"
   ]
  },
  {
   "cell_type": "code",
   "execution_count": 21,
   "id": "5b6edfe3-bd5a-46bd-ad80-b20fadfed7a0",
   "metadata": {},
   "outputs": [
    {
     "name": "stdout",
     "output_type": "stream",
     "text": [
      "Data Transformation started ...\n",
      "                                                                                                \r"
     ]
    },
    {
     "data": {
      "text/html": [
       "Performing transformation carried out in feature engineering phase ..."
      ],
      "text/plain": [
       "<IPython.core.display.HTML object>"
      ]
     },
     "metadata": {},
     "output_type": "display_data"
    },
    {
     "name": "stdout",
     "output_type": "stream",
     "text": [
      "result data stored in table '\"ALICE\".\"ml__td_sqlmr_persist_out__1719259280283555\"'⫾⫾⫾｜ 50% - 5/10\n",
      "                                                                                                 \r"
     ]
    },
    {
     "data": {
      "text/html": [
       "\n",
       "Updated dataset after performing categorical encoding :"
      ],
      "text/plain": [
       "<IPython.core.display.HTML object>"
      ]
     },
     "metadata": {},
     "output_type": "display_data"
    },
    {
     "data": {
      "text/html": [
       "<style type=\"text/css\">\n",
       "\ttable {border:ridge 5px;}\n",
       "\ttable td {border:inset 1px;}\n",
       "\ttable tr#HeaderRow {background-color:grey; color:white;}</style>\n",
       "<html><table>\n",
       "\t<tr id=\"HeaderRow\">\n",
       "\t\t<th>Species_0</th>\n",
       "\t\t<th>Species_1</th>\n",
       "\t\t<th>Species_2</th>\n",
       "\t\t<th>Species_3</th>\n",
       "\t\t<th>Species_4</th>\n",
       "\t\t<th>Species_5</th>\n",
       "\t\t<th>Species_6</th>\n",
       "\t\t<th>Weight</th>\n",
       "\t\t<th>Length1</th>\n",
       "\t\t<th>Length2</th>\n",
       "\t\t<th>Length3</th>\n",
       "\t\t<th>Height</th>\n",
       "\t\t<th>Width</th>\n",
       "\t\t<th>id</th>\n",
       "\t</tr>\n",
       "\t<tr>\n",
       "\t\t<td>0</td>\n",
       "\t\t<td>0</td>\n",
       "\t\t<td>1</td>\n",
       "\t\t<td>0</td>\n",
       "\t\t<td>0</td>\n",
       "\t\t<td>0</td>\n",
       "\t\t<td>0</td>\n",
       "\t\t<td>900</td>\n",
       "\t\t<td>36.5</td>\n",
       "\t\t<td>39.0</td>\n",
       "\t\t<td>41.4</td>\n",
       "\t\t<td>11.1366</td>\n",
       "\t\t<td>7.4934</td>\n",
       "\t\t<td>48</td>\n",
       "\t</tr>\n",
       "\t<tr>\n",
       "\t\t<td>0</td>\n",
       "\t\t<td>0</td>\n",
       "\t\t<td>1</td>\n",
       "\t\t<td>0</td>\n",
       "\t\t<td>0</td>\n",
       "\t\t<td>0</td>\n",
       "\t\t<td>0</td>\n",
       "\t\t<td>145</td>\n",
       "\t\t<td>22.0</td>\n",
       "\t\t<td>24.0</td>\n",
       "\t\t<td>25.5</td>\n",
       "\t\t<td>6.375</td>\n",
       "\t\t<td>3.825</td>\n",
       "\t\t<td>72</td>\n",
       "\t</tr>\n",
       "\t<tr>\n",
       "\t\t<td>0</td>\n",
       "\t\t<td>0</td>\n",
       "\t\t<td>1</td>\n",
       "\t\t<td>0</td>\n",
       "\t\t<td>0</td>\n",
       "\t\t<td>0</td>\n",
       "\t\t<td>0</td>\n",
       "\t\t<td>700</td>\n",
       "\t\t<td>34.5</td>\n",
       "\t\t<td>37.0</td>\n",
       "\t\t<td>39.4</td>\n",
       "\t\t<td>10.835</td>\n",
       "\t\t<td>6.2646</td>\n",
       "\t\t<td>80</td>\n",
       "\t</tr>\n",
       "\t<tr>\n",
       "\t\t<td>0</td>\n",
       "\t\t<td>0</td>\n",
       "\t\t<td>1</td>\n",
       "\t\t<td>0</td>\n",
       "\t\t<td>0</td>\n",
       "\t\t<td>0</td>\n",
       "\t\t<td>0</td>\n",
       "\t\t<td>1100</td>\n",
       "\t\t<td>39.0</td>\n",
       "\t\t<td>42.0</td>\n",
       "\t\t<td>44.6</td>\n",
       "\t\t<td>12.8002</td>\n",
       "\t\t<td>6.8684</td>\n",
       "\t\t<td>88</td>\n",
       "\t</tr>\n",
       "\t<tr>\n",
       "\t\t<td>0</td>\n",
       "\t\t<td>0</td>\n",
       "\t\t<td>1</td>\n",
       "\t\t<td>0</td>\n",
       "\t\t<td>0</td>\n",
       "\t\t<td>0</td>\n",
       "\t\t<td>0</td>\n",
       "\t\t<td>145</td>\n",
       "\t\t<td>20.7</td>\n",
       "\t\t<td>22.7</td>\n",
       "\t\t<td>24.2</td>\n",
       "\t\t<td>5.9532</td>\n",
       "\t\t<td>3.63</td>\n",
       "\t\t<td>104</td>\n",
       "\t</tr>\n",
       "\t<tr>\n",
       "\t\t<td>0</td>\n",
       "\t\t<td>0</td>\n",
       "\t\t<td>0</td>\n",
       "\t\t<td>0</td>\n",
       "\t\t<td>1</td>\n",
       "\t\t<td>0</td>\n",
       "\t\t<td>0</td>\n",
       "\t\t<td>0</td>\n",
       "\t\t<td>19.0</td>\n",
       "\t\t<td>20.5</td>\n",
       "\t\t<td>22.8</td>\n",
       "\t\t<td>6.4752</td>\n",
       "\t\t<td>3.3516</td>\n",
       "\t\t<td>12</td>\n",
       "\t</tr>\n",
       "\t<tr>\n",
       "\t\t<td>1</td>\n",
       "\t\t<td>0</td>\n",
       "\t\t<td>0</td>\n",
       "\t\t<td>0</td>\n",
       "\t\t<td>0</td>\n",
       "\t\t<td>0</td>\n",
       "\t\t<td>0</td>\n",
       "\t\t<td>685</td>\n",
       "\t\t<td>31.4</td>\n",
       "\t\t<td>34.0</td>\n",
       "\t\t<td>39.2</td>\n",
       "\t\t<td>15.9936</td>\n",
       "\t\t<td>5.3704</td>\n",
       "\t\t<td>26</td>\n",
       "\t</tr>\n",
       "\t<tr>\n",
       "\t\t<td>1</td>\n",
       "\t\t<td>0</td>\n",
       "\t\t<td>0</td>\n",
       "\t\t<td>0</td>\n",
       "\t\t<td>0</td>\n",
       "\t\t<td>0</td>\n",
       "\t\t<td>0</td>\n",
       "\t\t<td>720</td>\n",
       "\t\t<td>32.0</td>\n",
       "\t\t<td>35.0</td>\n",
       "\t\t<td>40.6</td>\n",
       "\t\t<td>16.3618</td>\n",
       "\t\t<td>6.09</td>\n",
       "\t\t<td>42</td>\n",
       "\t</tr>\n",
       "\t<tr>\n",
       "\t\t<td>1</td>\n",
       "\t\t<td>0</td>\n",
       "\t\t<td>0</td>\n",
       "\t\t<td>0</td>\n",
       "\t\t<td>0</td>\n",
       "\t\t<td>0</td>\n",
       "\t\t<td>0</td>\n",
       "\t\t<td>920</td>\n",
       "\t\t<td>35.0</td>\n",
       "\t\t<td>38.5</td>\n",
       "\t\t<td>44.1</td>\n",
       "\t\t<td>18.0369</td>\n",
       "\t\t<td>6.3063</td>\n",
       "\t\t<td>50</td>\n",
       "\t</tr>\n",
       "\t<tr>\n",
       "\t\t<td>1</td>\n",
       "\t\t<td>0</td>\n",
       "\t\t<td>0</td>\n",
       "\t\t<td>0</td>\n",
       "\t\t<td>0</td>\n",
       "\t\t<td>0</td>\n",
       "\t\t<td>0</td>\n",
       "\t\t<td>242</td>\n",
       "\t\t<td>23.2</td>\n",
       "\t\t<td>25.4</td>\n",
       "\t\t<td>30.0</td>\n",
       "\t\t<td>11.52</td>\n",
       "\t\t<td>4.02</td>\n",
       "\t\t<td>58</td>\n",
       "\t</tr>\n",
       "</table></html>"
      ],
      "text/plain": [
       "           Species_1  Species_2  Species_3  Species_4  Species_5  Species_6  Weight  Length1  Length2  Length3   Height   Width   id\n",
       "Species_0                                                                                                                           \n",
       "0                  0          1          0          0          0          0     900     36.5     39.0     41.4  11.1366  7.4934   48\n",
       "0                  0          1          0          0          0          0     145     22.0     24.0     25.5   6.3750  3.8250   72\n",
       "0                  0          1          0          0          0          0     700     34.5     37.0     39.4  10.8350  6.2646   80\n",
       "0                  0          1          0          0          0          0    1100     39.0     42.0     44.6  12.8002  6.8684   88\n",
       "0                  0          1          0          0          0          0     145     20.7     22.7     24.2   5.9532  3.6300  104\n",
       "0                  0          0          0          1          0          0       0     19.0     20.5     22.8   6.4752  3.3516   12\n",
       "1                  0          0          0          0          0          0     685     31.4     34.0     39.2  15.9936  5.3704   26\n",
       "1                  0          0          0          0          0          0     720     32.0     35.0     40.6  16.3618  6.0900   42\n",
       "1                  0          0          0          0          0          0     920     35.0     38.5     44.1  18.0369  6.3063   50\n",
       "1                  0          0          0          0          0          0     242     23.2     25.4     30.0  11.5200  4.0200   58"
      ]
     },
     "metadata": {},
     "output_type": "display_data"
    },
    {
     "name": "stdout",
     "output_type": "stream",
     "text": [
      "                                                                                                 \r"
     ]
    },
    {
     "data": {
      "text/html": [
       "32 rows X 14 columns"
      ],
      "text/plain": [
       "<IPython.core.display.HTML object>"
      ]
     },
     "metadata": {},
     "output_type": "display_data"
    },
    {
     "name": "stdout",
     "output_type": "stream",
     "text": [
      "                                                                                                 \r"
     ]
    },
    {
     "data": {
      "text/html": [
       "Performing transformation carried out in data preparation phase ..."
      ],
      "text/plain": [
       "<IPython.core.display.HTML object>"
      ]
     },
     "metadata": {},
     "output_type": "display_data"
    },
    {
     "name": "stdout",
     "output_type": "stream",
     "text": [
      "result data stored in table '\"ALICE\".\"ml__td_sqlmr_persist_out__1719260413585539\"'⫾⫾⫾｜ 60% - 6/10\n",
      "                                                                                                 \r"
     ]
    },
    {
     "data": {
      "text/html": [
       "\n",
       "Updated dataset after performing Lasso feature selection:"
      ],
      "text/plain": [
       "<IPython.core.display.HTML object>"
      ]
     },
     "metadata": {},
     "output_type": "display_data"
    },
    {
     "data": {
      "text/html": [
       "<style type=\"text/css\">\n",
       "\ttable {border:ridge 5px;}\n",
       "\ttable td {border:inset 1px;}\n",
       "\ttable tr#HeaderRow {background-color:grey; color:white;}</style>\n",
       "<html><table>\n",
       "\t<tr id=\"HeaderRow\">\n",
       "\t\t<th>id</th>\n",
       "\t\t<th>Species_1</th>\n",
       "\t\t<th>Species_2</th>\n",
       "\t\t<th>Species_6</th>\n",
       "\t\t<th>Species_5</th>\n",
       "\t\t<th>Species_0</th>\n",
       "\t\t<th>Species_4</th>\n",
       "\t\t<th>Length1</th>\n",
       "\t\t<th>Length2</th>\n",
       "\t\t<th>Length3</th>\n",
       "\t\t<th>Height</th>\n",
       "\t\t<th>Width</th>\n",
       "\t\t<th>Weight</th>\n",
       "\t</tr>\n",
       "\t<tr>\n",
       "\t\t<td>18</td>\n",
       "\t\t<td>0</td>\n",
       "\t\t<td>0</td>\n",
       "\t\t<td>0</td>\n",
       "\t\t<td>0</td>\n",
       "\t\t<td>1</td>\n",
       "\t\t<td>0</td>\n",
       "\t\t<td>31.3</td>\n",
       "\t\t<td>34.0</td>\n",
       "\t\t<td>39.5</td>\n",
       "\t\t<td>15.1285</td>\n",
       "\t\t<td>5.5695</td>\n",
       "\t\t<td>575</td>\n",
       "\t</tr>\n",
       "\t<tr>\n",
       "\t\t<td>48</td>\n",
       "\t\t<td>0</td>\n",
       "\t\t<td>1</td>\n",
       "\t\t<td>0</td>\n",
       "\t\t<td>0</td>\n",
       "\t\t<td>0</td>\n",
       "\t\t<td>0</td>\n",
       "\t\t<td>36.5</td>\n",
       "\t\t<td>39.0</td>\n",
       "\t\t<td>41.4</td>\n",
       "\t\t<td>11.1366</td>\n",
       "\t\t<td>7.4934</td>\n",
       "\t\t<td>900</td>\n",
       "\t</tr>\n",
       "\t<tr>\n",
       "\t\t<td>56</td>\n",
       "\t\t<td>0</td>\n",
       "\t\t<td>1</td>\n",
       "\t\t<td>0</td>\n",
       "\t\t<td>0</td>\n",
       "\t\t<td>0</td>\n",
       "\t\t<td>0</td>\n",
       "\t\t<td>18.2</td>\n",
       "\t\t<td>20.0</td>\n",
       "\t\t<td>21.0</td>\n",
       "\t\t<td>5.082</td>\n",
       "\t\t<td>2.772</td>\n",
       "\t\t<td>85</td>\n",
       "\t</tr>\n",
       "\t<tr>\n",
       "\t\t<td>72</td>\n",
       "\t\t<td>0</td>\n",
       "\t\t<td>1</td>\n",
       "\t\t<td>0</td>\n",
       "\t\t<td>0</td>\n",
       "\t\t<td>0</td>\n",
       "\t\t<td>0</td>\n",
       "\t\t<td>22.0</td>\n",
       "\t\t<td>24.0</td>\n",
       "\t\t<td>25.5</td>\n",
       "\t\t<td>6.375</td>\n",
       "\t\t<td>3.825</td>\n",
       "\t\t<td>145</td>\n",
       "\t</tr>\n",
       "\t<tr>\n",
       "\t\t<td>88</td>\n",
       "\t\t<td>0</td>\n",
       "\t\t<td>1</td>\n",
       "\t\t<td>0</td>\n",
       "\t\t<td>0</td>\n",
       "\t\t<td>0</td>\n",
       "\t\t<td>0</td>\n",
       "\t\t<td>39.0</td>\n",
       "\t\t<td>42.0</td>\n",
       "\t\t<td>44.6</td>\n",
       "\t\t<td>12.8002</td>\n",
       "\t\t<td>6.8684</td>\n",
       "\t\t<td>1100</td>\n",
       "\t</tr>\n",
       "\t<tr>\n",
       "\t\t<td>96</td>\n",
       "\t\t<td>0</td>\n",
       "\t\t<td>1</td>\n",
       "\t\t<td>0</td>\n",
       "\t\t<td>0</td>\n",
       "\t\t<td>0</td>\n",
       "\t\t<td>0</td>\n",
       "\t\t<td>40.2</td>\n",
       "\t\t<td>43.5</td>\n",
       "\t\t<td>46.0</td>\n",
       "\t\t<td>12.604</td>\n",
       "\t\t<td>8.142</td>\n",
       "\t\t<td>1000</td>\n",
       "\t</tr>\n",
       "\t<tr>\n",
       "\t\t<td>8</td>\n",
       "\t\t<td>1</td>\n",
       "\t\t<td>0</td>\n",
       "\t\t<td>0</td>\n",
       "\t\t<td>0</td>\n",
       "\t\t<td>0</td>\n",
       "\t\t<td>0</td>\n",
       "\t\t<td>23.0</td>\n",
       "\t\t<td>25.0</td>\n",
       "\t\t<td>28.0</td>\n",
       "\t\t<td>11.088</td>\n",
       "\t\t<td>4.144</td>\n",
       "\t\t<td>273</td>\n",
       "\t</tr>\n",
       "\t<tr>\n",
       "\t\t<td>16</td>\n",
       "\t\t<td>1</td>\n",
       "\t\t<td>0</td>\n",
       "\t\t<td>0</td>\n",
       "\t\t<td>0</td>\n",
       "\t\t<td>0</td>\n",
       "\t\t<td>0</td>\n",
       "\t\t<td>19.0</td>\n",
       "\t\t<td>20.7</td>\n",
       "\t\t<td>23.2</td>\n",
       "\t\t<td>9.396</td>\n",
       "\t\t<td>3.4104</td>\n",
       "\t\t<td>170</td>\n",
       "\t</tr>\n",
       "\t<tr>\n",
       "\t\t<td>24</td>\n",
       "\t\t<td>1</td>\n",
       "\t\t<td>0</td>\n",
       "\t\t<td>0</td>\n",
       "\t\t<td>0</td>\n",
       "\t\t<td>0</td>\n",
       "\t\t<td>0</td>\n",
       "\t\t<td>16.3</td>\n",
       "\t\t<td>17.7</td>\n",
       "\t\t<td>19.8</td>\n",
       "\t\t<td>7.4052</td>\n",
       "\t\t<td>2.673</td>\n",
       "\t\t<td>90</td>\n",
       "\t</tr>\n",
       "\t<tr>\n",
       "\t\t<td>80</td>\n",
       "\t\t<td>0</td>\n",
       "\t\t<td>1</td>\n",
       "\t\t<td>0</td>\n",
       "\t\t<td>0</td>\n",
       "\t\t<td>0</td>\n",
       "\t\t<td>0</td>\n",
       "\t\t<td>34.5</td>\n",
       "\t\t<td>37.0</td>\n",
       "\t\t<td>39.4</td>\n",
       "\t\t<td>10.835</td>\n",
       "\t\t<td>6.2646</td>\n",
       "\t\t<td>700</td>\n",
       "\t</tr>\n",
       "</table></html>"
      ],
      "text/plain": [
       "           id  Species_2  Species_6  Species_5  Species_0  Species_4  Length1  Length2  Length3   Height   Width  Weight\n",
       "Species_1                                                                                                               \n",
       "0          18          0          0          0          1          0     31.3     34.0     39.5  15.1285  5.5695     575\n",
       "0          48          1          0          0          0          0     36.5     39.0     41.4  11.1366  7.4934     900\n",
       "0          56          1          0          0          0          0     18.2     20.0     21.0   5.0820  2.7720      85\n",
       "0          72          1          0          0          0          0     22.0     24.0     25.5   6.3750  3.8250     145\n",
       "0          88          1          0          0          0          0     39.0     42.0     44.6  12.8002  6.8684    1100\n",
       "0          96          1          0          0          0          0     40.2     43.5     46.0  12.6040  8.1420    1000\n",
       "1           8          0          0          0          0          0     23.0     25.0     28.0  11.0880  4.1440     273\n",
       "1          16          0          0          0          0          0     19.0     20.7     23.2   9.3960  3.4104     170\n",
       "1          24          0          0          0          0          0     16.3     17.7     19.8   7.4052  2.6730      90\n",
       "0          80          1          0          0          0          0     34.5     37.0     39.4  10.8350  6.2646     700"
      ]
     },
     "metadata": {},
     "output_type": "display_data"
    },
    {
     "name": "stdout",
     "output_type": "stream",
     "text": [
      "                                                                                                 \r"
     ]
    },
    {
     "data": {
      "text/html": [
       "32 rows X 13 columns"
      ],
      "text/plain": [
       "<IPython.core.display.HTML object>"
      ]
     },
     "metadata": {},
     "output_type": "display_data"
    },
    {
     "name": "stdout",
     "output_type": "stream",
     "text": [
      "                                                                                                 \r"
     ]
    },
    {
     "data": {
      "text/html": [
       "\n",
       "Updated dataset after performing scaling on Lasso selected features :"
      ],
      "text/plain": [
       "<IPython.core.display.HTML object>"
      ]
     },
     "metadata": {},
     "output_type": "display_data"
    },
    {
     "data": {
      "text/html": [
       "<style type=\"text/css\">\n",
       "\ttable {border:ridge 5px;}\n",
       "\ttable td {border:inset 1px;}\n",
       "\ttable tr#HeaderRow {background-color:grey; color:white;}</style>\n",
       "<html><table>\n",
       "\t<tr id=\"HeaderRow\">\n",
       "\t\t<th>Species_1</th>\n",
       "\t\t<th>Species_2</th>\n",
       "\t\t<th>Species_6</th>\n",
       "\t\t<th>Species_0</th>\n",
       "\t\t<th>Species_5</th>\n",
       "\t\t<th>Species_4</th>\n",
       "\t\t<th>Weight</th>\n",
       "\t\t<th>id</th>\n",
       "\t\t<th>Length1</th>\n",
       "\t\t<th>Length2</th>\n",
       "\t\t<th>Length3</th>\n",
       "\t\t<th>Height</th>\n",
       "\t\t<th>Width</th>\n",
       "\t</tr>\n",
       "\t<tr>\n",
       "\t\t<td>1</td>\n",
       "\t\t<td>0</td>\n",
       "\t\t<td>0</td>\n",
       "\t\t<td>0</td>\n",
       "\t\t<td>0</td>\n",
       "\t\t<td>0</td>\n",
       "\t\t<td>90</td>\n",
       "\t\t<td>24</td>\n",
       "\t\t<td>-0.9998546592380139</td>\n",
       "\t\t<td>-0.9971897648299776</td>\n",
       "\t\t<td>-0.9669956684726967</td>\n",
       "\t\t<td>-0.30636167622043536</td>\n",
       "\t\t<td>-0.9552712358906827</td>\n",
       "\t</tr>\n",
       "\t<tr>\n",
       "\t\t<td>0</td>\n",
       "\t\t<td>0</td>\n",
       "\t\t<td>0</td>\n",
       "\t\t<td>1</td>\n",
       "\t\t<td>0</td>\n",
       "\t\t<td>0</td>\n",
       "\t\t<td>725</td>\n",
       "\t\t<td>34</td>\n",
       "\t\t<td>0.8160726393780737</td>\n",
       "\t\t<td>0.8771373974003821</td>\n",
       "\t\t<td>1.1026326633640007</td>\n",
       "\t\t<td>1.7040647092082453</td>\n",
       "\t\t<td>1.101630741690588</td>\n",
       "\t</tr>\n",
       "\t<tr>\n",
       "\t\t<td>0</td>\n",
       "\t\t<td>0</td>\n",
       "\t\t<td>0</td>\n",
       "\t\t<td>1</td>\n",
       "\t\t<td>0</td>\n",
       "\t\t<td>0</td>\n",
       "\t\t<td>575</td>\n",
       "\t\t<td>18</td>\n",
       "\t\t<td>0.757494339422716</td>\n",
       "\t\t<td>0.7687947868668352</td>\n",
       "\t\t<td>0.965311352246874</td>\n",
       "\t\t<td>1.427582811940253</td>\n",
       "\t\t<td>0.8072920970671746</td>\n",
       "\t</tr>\n",
       "\t<tr>\n",
       "\t\t<td>0</td>\n",
       "\t\t<td>0</td>\n",
       "\t\t<td>0</td>\n",
       "\t\t<td>1</td>\n",
       "\t\t<td>0</td>\n",
       "\t\t<td>0</td>\n",
       "\t\t<td>500</td>\n",
       "\t\t<td>10</td>\n",
       "\t\t<td>0.42945585967271305</td>\n",
       "\t\t<td>0.41126417210613075</td>\n",
       "\t\t<td>0.6416254046136467</td>\n",
       "\t\t<td>1.2250988304981068</td>\n",
       "\t\t<td>0.43603717235197037</td>\n",
       "\t</tr>\n",
       "\t<tr>\n",
       "\t\t<td>0</td>\n",
       "\t\t<td>1</td>\n",
       "\t\t<td>0</td>\n",
       "\t\t<td>0</td>\n",
       "\t\t<td>0</td>\n",
       "\t\t<td>0</td>\n",
       "\t\t<td>85</td>\n",
       "\t\t<td>56</td>\n",
       "\t\t<td>-0.777257119407655</td>\n",
       "\t\t<td>-0.7480017606028199</td>\n",
       "\t\t<td>-0.8492916875151594</td>\n",
       "\t\t<td>-0.8279392188375693</td>\n",
       "\t\t<td>-0.8950282633504351</td>\n",
       "\t</tr>\n",
       "\t<tr>\n",
       "\t\t<td>0</td>\n",
       "\t\t<td>1</td>\n",
       "\t\t<td>0</td>\n",
       "\t\t<td>0</td>\n",
       "\t\t<td>0</td>\n",
       "\t\t<td>0</td>\n",
       "\t\t<td>145</td>\n",
       "\t\t<td>72</td>\n",
       "\t\t<td>-0.3320620397469366</td>\n",
       "\t\t<td>-0.3146313184686327</td>\n",
       "\t\t<td>-0.4079017589243945</td>\n",
       "\t\t<td>-0.5376500648241592</td>\n",
       "\t\t<td>-0.2542621008768895</td>\n",
       "\t</tr>\n",
       "\t<tr>\n",
       "\t\t<td>0</td>\n",
       "\t\t<td>1</td>\n",
       "\t\t<td>0</td>\n",
       "\t\t<td>0</td>\n",
       "\t\t<td>0</td>\n",
       "\t\t<td>0</td>\n",
       "\t\t<td>700</td>\n",
       "\t\t<td>80</td>\n",
       "\t\t<td>1.132395459137005</td>\n",
       "\t\t<td>1.0938226184674757</td>\n",
       "\t\t<td>0.9555026871670791</td>\n",
       "\t\t<td>0.4636566845183071</td>\n",
       "\t\t<td>1.2302707860846118</td>\n",
       "\t</tr>\n",
       "\t<tr>\n",
       "\t\t<td>0</td>\n",
       "\t\t<td>1</td>\n",
       "\t\t<td>0</td>\n",
       "\t\t<td>0</td>\n",
       "\t\t<td>0</td>\n",
       "\t\t<td>0</td>\n",
       "\t\t<td>1100</td>\n",
       "\t\t<td>88</td>\n",
       "\t\t<td>1.659600158735224</td>\n",
       "\t\t<td>1.6355356711352096</td>\n",
       "\t\t<td>1.4655532713164077</td>\n",
       "\t\t<td>0.9048602773003281</td>\n",
       "\t\t<td>1.5976920670927097</td>\n",
       "\t</tr>\n",
       "\t<tr>\n",
       "\t\t<td>0</td>\n",
       "\t\t<td>1</td>\n",
       "\t\t<td>0</td>\n",
       "\t\t<td>0</td>\n",
       "\t\t<td>0</td>\n",
       "\t\t<td>0</td>\n",
       "\t\t<td>1000</td>\n",
       "\t\t<td>96</td>\n",
       "\t\t<td>1.8001880786280826</td>\n",
       "\t\t<td>1.7980495869355297</td>\n",
       "\t\t<td>1.6028745824335344</td>\n",
       "\t\t<td>0.8608117606588499</td>\n",
       "\t\t<td>2.372696610802403</td>\n",
       "\t</tr>\n",
       "\t<tr>\n",
       "\t\t<td>0</td>\n",
       "\t\t<td>1</td>\n",
       "\t\t<td>0</td>\n",
       "\t\t<td>0</td>\n",
       "\t\t<td>0</td>\n",
       "\t\t<td>0</td>\n",
       "\t\t<td>900</td>\n",
       "\t\t<td>48</td>\n",
       "\t\t<td>1.3667086589584356</td>\n",
       "\t\t<td>1.3105078395345693</td>\n",
       "\t\t<td>1.1516759887629746</td>\n",
       "\t\t<td>0.5313683696307928</td>\n",
       "\t\t<td>1.978013863432658</td>\n",
       "\t</tr>\n",
       "</table></html>"
      ],
      "text/plain": [
       "   Species_1  Species_2  Species_6  Species_0  Species_5  Species_4  Weight  id   Length1   Length2   Length3    Height     Width\n",
       "0          1          0          0          0          0          0      90  24 -0.999855 -0.997190 -0.966996 -0.306362 -0.955271\n",
       "1          0          0          0          1          0          0     725  34  0.816073  0.877137  1.102633  1.704065  1.101631\n",
       "2          0          0          0          1          0          0     575  18  0.757494  0.768795  0.965311  1.427583  0.807292\n",
       "3          0          0          0          1          0          0     500  10  0.429456  0.411264  0.641625  1.225099  0.436037\n",
       "4          0          1          0          0          0          0      85  56 -0.777257 -0.748002 -0.849292 -0.827939 -0.895028\n",
       "5          0          1          0          0          0          0     145  72 -0.332062 -0.314631 -0.407902 -0.537650 -0.254262\n",
       "6          0          1          0          0          0          0     700  80  1.132395  1.093823  0.955503  0.463657  1.230271\n",
       "7          0          1          0          0          0          0    1100  88  1.659600  1.635536  1.465553  0.904860  1.597692\n",
       "8          0          1          0          0          0          0    1000  96  1.800188  1.798050  1.602875  0.860812  2.372697\n",
       "9          0          1          0          0          0          0     900  48  1.366709  1.310508  1.151676  0.531368  1.978014"
      ]
     },
     "metadata": {},
     "output_type": "display_data"
    },
    {
     "name": "stdout",
     "output_type": "stream",
     "text": [
      "                                                                                                 \r"
     ]
    },
    {
     "data": {
      "text/html": [
       "32 rows X 13 columns"
      ],
      "text/plain": [
       "<IPython.core.display.HTML object>"
      ]
     },
     "metadata": {},
     "output_type": "display_data"
    },
    {
     "name": "stdout",
     "output_type": "stream",
     "text": [
      "                                                                                                 \r"
     ]
    },
    {
     "data": {
      "text/html": [
       "\n",
       "Updated dataset after performing RFE feature selection:"
      ],
      "text/plain": [
       "<IPython.core.display.HTML object>"
      ]
     },
     "metadata": {},
     "output_type": "display_data"
    },
    {
     "data": {
      "text/html": [
       "<style type=\"text/css\">\n",
       "\ttable {border:ridge 5px;}\n",
       "\ttable td {border:inset 1px;}\n",
       "\ttable tr#HeaderRow {background-color:grey; color:white;}</style>\n",
       "<html><table>\n",
       "\t<tr id=\"HeaderRow\">\n",
       "\t\t<th>id</th>\n",
       "\t\t<th>Species_1</th>\n",
       "\t\t<th>Species_2</th>\n",
       "\t\t<th>Species_6</th>\n",
       "\t\t<th>Species_5</th>\n",
       "\t\t<th>Species_0</th>\n",
       "\t\t<th>Species_4</th>\n",
       "\t\t<th>Species_3</th>\n",
       "\t\t<th>Length1</th>\n",
       "\t\t<th>Length2</th>\n",
       "\t\t<th>Length3</th>\n",
       "\t\t<th>Height</th>\n",
       "\t\t<th>Width</th>\n",
       "\t\t<th>Weight</th>\n",
       "\t</tr>\n",
       "\t<tr>\n",
       "\t\t<td>24</td>\n",
       "\t\t<td>1</td>\n",
       "\t\t<td>0</td>\n",
       "\t\t<td>0</td>\n",
       "\t\t<td>0</td>\n",
       "\t\t<td>0</td>\n",
       "\t\t<td>0</td>\n",
       "\t\t<td>0</td>\n",
       "\t\t<td>16.3</td>\n",
       "\t\t<td>17.7</td>\n",
       "\t\t<td>19.8</td>\n",
       "\t\t<td>7.4052</td>\n",
       "\t\t<td>2.673</td>\n",
       "\t\t<td>90</td>\n",
       "\t</tr>\n",
       "\t<tr>\n",
       "\t\t<td>34</td>\n",
       "\t\t<td>0</td>\n",
       "\t\t<td>0</td>\n",
       "\t\t<td>0</td>\n",
       "\t\t<td>0</td>\n",
       "\t\t<td>1</td>\n",
       "\t\t<td>0</td>\n",
       "\t\t<td>0</td>\n",
       "\t\t<td>31.8</td>\n",
       "\t\t<td>35.0</td>\n",
       "\t\t<td>40.9</td>\n",
       "\t\t<td>16.36</td>\n",
       "\t\t<td>6.0532</td>\n",
       "\t\t<td>725</td>\n",
       "\t</tr>\n",
       "\t<tr>\n",
       "\t\t<td>18</td>\n",
       "\t\t<td>0</td>\n",
       "\t\t<td>0</td>\n",
       "\t\t<td>0</td>\n",
       "\t\t<td>0</td>\n",
       "\t\t<td>1</td>\n",
       "\t\t<td>0</td>\n",
       "\t\t<td>0</td>\n",
       "\t\t<td>31.3</td>\n",
       "\t\t<td>34.0</td>\n",
       "\t\t<td>39.5</td>\n",
       "\t\t<td>15.1285</td>\n",
       "\t\t<td>5.5695</td>\n",
       "\t\t<td>575</td>\n",
       "\t</tr>\n",
       "\t<tr>\n",
       "\t\t<td>10</td>\n",
       "\t\t<td>0</td>\n",
       "\t\t<td>0</td>\n",
       "\t\t<td>0</td>\n",
       "\t\t<td>0</td>\n",
       "\t\t<td>1</td>\n",
       "\t\t<td>0</td>\n",
       "\t\t<td>0</td>\n",
       "\t\t<td>28.5</td>\n",
       "\t\t<td>30.7</td>\n",
       "\t\t<td>36.2</td>\n",
       "\t\t<td>14.2266</td>\n",
       "\t\t<td>4.9594</td>\n",
       "\t\t<td>500</td>\n",
       "\t</tr>\n",
       "\t<tr>\n",
       "\t\t<td>56</td>\n",
       "\t\t<td>0</td>\n",
       "\t\t<td>1</td>\n",
       "\t\t<td>0</td>\n",
       "\t\t<td>0</td>\n",
       "\t\t<td>0</td>\n",
       "\t\t<td>0</td>\n",
       "\t\t<td>0</td>\n",
       "\t\t<td>18.2</td>\n",
       "\t\t<td>20.0</td>\n",
       "\t\t<td>21.0</td>\n",
       "\t\t<td>5.082</td>\n",
       "\t\t<td>2.772</td>\n",
       "\t\t<td>85</td>\n",
       "\t</tr>\n",
       "\t<tr>\n",
       "\t\t<td>72</td>\n",
       "\t\t<td>0</td>\n",
       "\t\t<td>1</td>\n",
       "\t\t<td>0</td>\n",
       "\t\t<td>0</td>\n",
       "\t\t<td>0</td>\n",
       "\t\t<td>0</td>\n",
       "\t\t<td>0</td>\n",
       "\t\t<td>22.0</td>\n",
       "\t\t<td>24.0</td>\n",
       "\t\t<td>25.5</td>\n",
       "\t\t<td>6.375</td>\n",
       "\t\t<td>3.825</td>\n",
       "\t\t<td>145</td>\n",
       "\t</tr>\n",
       "\t<tr>\n",
       "\t\t<td>80</td>\n",
       "\t\t<td>0</td>\n",
       "\t\t<td>1</td>\n",
       "\t\t<td>0</td>\n",
       "\t\t<td>0</td>\n",
       "\t\t<td>0</td>\n",
       "\t\t<td>0</td>\n",
       "\t\t<td>0</td>\n",
       "\t\t<td>34.5</td>\n",
       "\t\t<td>37.0</td>\n",
       "\t\t<td>39.4</td>\n",
       "\t\t<td>10.835</td>\n",
       "\t\t<td>6.2646</td>\n",
       "\t\t<td>700</td>\n",
       "\t</tr>\n",
       "\t<tr>\n",
       "\t\t<td>88</td>\n",
       "\t\t<td>0</td>\n",
       "\t\t<td>1</td>\n",
       "\t\t<td>0</td>\n",
       "\t\t<td>0</td>\n",
       "\t\t<td>0</td>\n",
       "\t\t<td>0</td>\n",
       "\t\t<td>0</td>\n",
       "\t\t<td>39.0</td>\n",
       "\t\t<td>42.0</td>\n",
       "\t\t<td>44.6</td>\n",
       "\t\t<td>12.8002</td>\n",
       "\t\t<td>6.8684</td>\n",
       "\t\t<td>1100</td>\n",
       "\t</tr>\n",
       "\t<tr>\n",
       "\t\t<td>96</td>\n",
       "\t\t<td>0</td>\n",
       "\t\t<td>1</td>\n",
       "\t\t<td>0</td>\n",
       "\t\t<td>0</td>\n",
       "\t\t<td>0</td>\n",
       "\t\t<td>0</td>\n",
       "\t\t<td>0</td>\n",
       "\t\t<td>40.2</td>\n",
       "\t\t<td>43.5</td>\n",
       "\t\t<td>46.0</td>\n",
       "\t\t<td>12.604</td>\n",
       "\t\t<td>8.142</td>\n",
       "\t\t<td>1000</td>\n",
       "\t</tr>\n",
       "\t<tr>\n",
       "\t\t<td>48</td>\n",
       "\t\t<td>0</td>\n",
       "\t\t<td>1</td>\n",
       "\t\t<td>0</td>\n",
       "\t\t<td>0</td>\n",
       "\t\t<td>0</td>\n",
       "\t\t<td>0</td>\n",
       "\t\t<td>0</td>\n",
       "\t\t<td>36.5</td>\n",
       "\t\t<td>39.0</td>\n",
       "\t\t<td>41.4</td>\n",
       "\t\t<td>11.1366</td>\n",
       "\t\t<td>7.4934</td>\n",
       "\t\t<td>900</td>\n",
       "\t</tr>\n",
       "</table></html>"
      ],
      "text/plain": [
       "           id  Species_2  Species_6  Species_5  Species_0  Species_4  Species_3  Length1  Length2  Length3   Height   Width  Weight\n",
       "Species_1                                                                                                                          \n",
       "1          24          0          0          0          0          0          0     16.3     17.7     19.8   7.4052  2.6730      90\n",
       "0          34          0          0          0          1          0          0     31.8     35.0     40.9  16.3600  6.0532     725\n",
       "0          18          0          0          0          1          0          0     31.3     34.0     39.5  15.1285  5.5695     575\n",
       "0          10          0          0          0          1          0          0     28.5     30.7     36.2  14.2266  4.9594     500\n",
       "0          56          1          0          0          0          0          0     18.2     20.0     21.0   5.0820  2.7720      85\n",
       "0          72          1          0          0          0          0          0     22.0     24.0     25.5   6.3750  3.8250     145\n",
       "0          80          1          0          0          0          0          0     34.5     37.0     39.4  10.8350  6.2646     700\n",
       "0          88          1          0          0          0          0          0     39.0     42.0     44.6  12.8002  6.8684    1100\n",
       "0          96          1          0          0          0          0          0     40.2     43.5     46.0  12.6040  8.1420    1000\n",
       "0          48          1          0          0          0          0          0     36.5     39.0     41.4  11.1366  7.4934     900"
      ]
     },
     "metadata": {},
     "output_type": "display_data"
    },
    {
     "name": "stdout",
     "output_type": "stream",
     "text": [
      "                                                                                                 \r"
     ]
    },
    {
     "data": {
      "text/html": [
       "32 rows X 14 columns"
      ],
      "text/plain": [
       "<IPython.core.display.HTML object>"
      ]
     },
     "metadata": {},
     "output_type": "display_data"
    },
    {
     "name": "stdout",
     "output_type": "stream",
     "text": [
      "                                                                                                 \r"
     ]
    },
    {
     "data": {
      "text/html": [
       "\n",
       "Updated dataset after performing scaling on RFE selected features :"
      ],
      "text/plain": [
       "<IPython.core.display.HTML object>"
      ]
     },
     "metadata": {},
     "output_type": "display_data"
    },
    {
     "data": {
      "text/html": [
       "<style type=\"text/css\">\n",
       "\ttable {border:ridge 5px;}\n",
       "\ttable td {border:inset 1px;}\n",
       "\ttable tr#HeaderRow {background-color:grey; color:white;}</style>\n",
       "<html><table>\n",
       "\t<tr id=\"HeaderRow\">\n",
       "\t\t<th>r_Species_6</th>\n",
       "\t\t<th>Weight</th>\n",
       "\t\t<th>r_Species_2</th>\n",
       "\t\t<th>r_Species_0</th>\n",
       "\t\t<th>r_Species_5</th>\n",
       "\t\t<th>id</th>\n",
       "\t\t<th>r_Species_1</th>\n",
       "\t\t<th>r_Species_3</th>\n",
       "\t\t<th>r_Species_4</th>\n",
       "\t\t<th>r_Length1</th>\n",
       "\t\t<th>r_Length2</th>\n",
       "\t\t<th>r_Length3</th>\n",
       "\t\t<th>r_Height</th>\n",
       "\t\t<th>r_Width</th>\n",
       "\t</tr>\n",
       "\t<tr>\n",
       "\t\t<td>0</td>\n",
       "\t\t<td>90</td>\n",
       "\t\t<td>0</td>\n",
       "\t\t<td>0</td>\n",
       "\t\t<td>0</td>\n",
       "\t\t<td>24</td>\n",
       "\t\t<td>1</td>\n",
       "\t\t<td>0</td>\n",
       "\t\t<td>0</td>\n",
       "\t\t<td>-0.9998546592380139</td>\n",
       "\t\t<td>-0.9971897648299776</td>\n",
       "\t\t<td>-0.9669956684726967</td>\n",
       "\t\t<td>-0.30636167622043536</td>\n",
       "\t\t<td>-0.9552712358906827</td>\n",
       "\t</tr>\n",
       "\t<tr>\n",
       "\t\t<td>0</td>\n",
       "\t\t<td>725</td>\n",
       "\t\t<td>0</td>\n",
       "\t\t<td>1</td>\n",
       "\t\t<td>0</td>\n",
       "\t\t<td>34</td>\n",
       "\t\t<td>0</td>\n",
       "\t\t<td>0</td>\n",
       "\t\t<td>0</td>\n",
       "\t\t<td>0.8160726393780737</td>\n",
       "\t\t<td>0.8771373974003821</td>\n",
       "\t\t<td>1.1026326633640007</td>\n",
       "\t\t<td>1.7040647092082453</td>\n",
       "\t\t<td>1.101630741690588</td>\n",
       "\t</tr>\n",
       "\t<tr>\n",
       "\t\t<td>0</td>\n",
       "\t\t<td>575</td>\n",
       "\t\t<td>0</td>\n",
       "\t\t<td>1</td>\n",
       "\t\t<td>0</td>\n",
       "\t\t<td>18</td>\n",
       "\t\t<td>0</td>\n",
       "\t\t<td>0</td>\n",
       "\t\t<td>0</td>\n",
       "\t\t<td>0.757494339422716</td>\n",
       "\t\t<td>0.7687947868668352</td>\n",
       "\t\t<td>0.965311352246874</td>\n",
       "\t\t<td>1.427582811940253</td>\n",
       "\t\t<td>0.8072920970671746</td>\n",
       "\t</tr>\n",
       "\t<tr>\n",
       "\t\t<td>0</td>\n",
       "\t\t<td>500</td>\n",
       "\t\t<td>0</td>\n",
       "\t\t<td>1</td>\n",
       "\t\t<td>0</td>\n",
       "\t\t<td>10</td>\n",
       "\t\t<td>0</td>\n",
       "\t\t<td>0</td>\n",
       "\t\t<td>0</td>\n",
       "\t\t<td>0.42945585967271305</td>\n",
       "\t\t<td>0.41126417210613075</td>\n",
       "\t\t<td>0.6416254046136467</td>\n",
       "\t\t<td>1.2250988304981068</td>\n",
       "\t\t<td>0.43603717235197037</td>\n",
       "\t</tr>\n",
       "\t<tr>\n",
       "\t\t<td>0</td>\n",
       "\t\t<td>85</td>\n",
       "\t\t<td>1</td>\n",
       "\t\t<td>0</td>\n",
       "\t\t<td>0</td>\n",
       "\t\t<td>56</td>\n",
       "\t\t<td>0</td>\n",
       "\t\t<td>0</td>\n",
       "\t\t<td>0</td>\n",
       "\t\t<td>-0.777257119407655</td>\n",
       "\t\t<td>-0.7480017606028199</td>\n",
       "\t\t<td>-0.8492916875151594</td>\n",
       "\t\t<td>-0.8279392188375693</td>\n",
       "\t\t<td>-0.8950282633504351</td>\n",
       "\t</tr>\n",
       "\t<tr>\n",
       "\t\t<td>0</td>\n",
       "\t\t<td>145</td>\n",
       "\t\t<td>1</td>\n",
       "\t\t<td>0</td>\n",
       "\t\t<td>0</td>\n",
       "\t\t<td>72</td>\n",
       "\t\t<td>0</td>\n",
       "\t\t<td>0</td>\n",
       "\t\t<td>0</td>\n",
       "\t\t<td>-0.3320620397469366</td>\n",
       "\t\t<td>-0.3146313184686327</td>\n",
       "\t\t<td>-0.4079017589243945</td>\n",
       "\t\t<td>-0.5376500648241592</td>\n",
       "\t\t<td>-0.2542621008768895</td>\n",
       "\t</tr>\n",
       "\t<tr>\n",
       "\t\t<td>0</td>\n",
       "\t\t<td>700</td>\n",
       "\t\t<td>1</td>\n",
       "\t\t<td>0</td>\n",
       "\t\t<td>0</td>\n",
       "\t\t<td>80</td>\n",
       "\t\t<td>0</td>\n",
       "\t\t<td>0</td>\n",
       "\t\t<td>0</td>\n",
       "\t\t<td>1.132395459137005</td>\n",
       "\t\t<td>1.0938226184674757</td>\n",
       "\t\t<td>0.9555026871670791</td>\n",
       "\t\t<td>0.4636566845183071</td>\n",
       "\t\t<td>1.2302707860846118</td>\n",
       "\t</tr>\n",
       "\t<tr>\n",
       "\t\t<td>0</td>\n",
       "\t\t<td>1100</td>\n",
       "\t\t<td>1</td>\n",
       "\t\t<td>0</td>\n",
       "\t\t<td>0</td>\n",
       "\t\t<td>88</td>\n",
       "\t\t<td>0</td>\n",
       "\t\t<td>0</td>\n",
       "\t\t<td>0</td>\n",
       "\t\t<td>1.659600158735224</td>\n",
       "\t\t<td>1.6355356711352096</td>\n",
       "\t\t<td>1.4655532713164077</td>\n",
       "\t\t<td>0.9048602773003281</td>\n",
       "\t\t<td>1.5976920670927097</td>\n",
       "\t</tr>\n",
       "\t<tr>\n",
       "\t\t<td>0</td>\n",
       "\t\t<td>1000</td>\n",
       "\t\t<td>1</td>\n",
       "\t\t<td>0</td>\n",
       "\t\t<td>0</td>\n",
       "\t\t<td>96</td>\n",
       "\t\t<td>0</td>\n",
       "\t\t<td>0</td>\n",
       "\t\t<td>0</td>\n",
       "\t\t<td>1.8001880786280826</td>\n",
       "\t\t<td>1.7980495869355297</td>\n",
       "\t\t<td>1.6028745824335344</td>\n",
       "\t\t<td>0.8608117606588499</td>\n",
       "\t\t<td>2.372696610802403</td>\n",
       "\t</tr>\n",
       "\t<tr>\n",
       "\t\t<td>0</td>\n",
       "\t\t<td>900</td>\n",
       "\t\t<td>1</td>\n",
       "\t\t<td>0</td>\n",
       "\t\t<td>0</td>\n",
       "\t\t<td>48</td>\n",
       "\t\t<td>0</td>\n",
       "\t\t<td>0</td>\n",
       "\t\t<td>0</td>\n",
       "\t\t<td>1.3667086589584356</td>\n",
       "\t\t<td>1.3105078395345693</td>\n",
       "\t\t<td>1.1516759887629746</td>\n",
       "\t\t<td>0.5313683696307928</td>\n",
       "\t\t<td>1.978013863432658</td>\n",
       "\t</tr>\n",
       "</table></html>"
      ],
      "text/plain": [
       "   r_Species_6  Weight  r_Species_2  r_Species_0  r_Species_5  id  r_Species_1  r_Species_3  r_Species_4  r_Length1  r_Length2  r_Length3  r_Height   r_Width\n",
       "0            0      90            0            0            0  24            1            0            0  -0.999855  -0.997190  -0.966996 -0.306362 -0.955271\n",
       "1            0     725            0            1            0  34            0            0            0   0.816073   0.877137   1.102633  1.704065  1.101631\n",
       "2            0     575            0            1            0  18            0            0            0   0.757494   0.768795   0.965311  1.427583  0.807292\n",
       "3            0     500            0            1            0  10            0            0            0   0.429456   0.411264   0.641625  1.225099  0.436037\n",
       "4            0      85            1            0            0  56            0            0            0  -0.777257  -0.748002  -0.849292 -0.827939 -0.895028\n",
       "5            0     145            1            0            0  72            0            0            0  -0.332062  -0.314631  -0.407902 -0.537650 -0.254262\n",
       "6            0     700            1            0            0  80            0            0            0   1.132395   1.093823   0.955503  0.463657  1.230271\n",
       "7            0    1100            1            0            0  88            0            0            0   1.659600   1.635536   1.465553  0.904860  1.597692\n",
       "8            0    1000            1            0            0  96            0            0            0   1.800188   1.798050   1.602875  0.860812  2.372697\n",
       "9            0     900            1            0            0  48            0            0            0   1.366709   1.310508   1.151676  0.531368  1.978014"
      ]
     },
     "metadata": {},
     "output_type": "display_data"
    },
    {
     "name": "stdout",
     "output_type": "stream",
     "text": [
      "                                                                                                 \r"
     ]
    },
    {
     "data": {
      "text/html": [
       "32 rows X 14 columns"
      ],
      "text/plain": [
       "<IPython.core.display.HTML object>"
      ]
     },
     "metadata": {},
     "output_type": "display_data"
    },
    {
     "name": "stdout",
     "output_type": "stream",
     "text": [
      "                                                                                                 \r"
     ]
    },
    {
     "data": {
      "text/html": [
       "\n",
       "Updated dataset after performing scaling for PCA feature selection :"
      ],
      "text/plain": [
       "<IPython.core.display.HTML object>"
      ]
     },
     "metadata": {},
     "output_type": "display_data"
    },
    {
     "data": {
      "text/html": [
       "<style type=\"text/css\">\n",
       "\ttable {border:ridge 5px;}\n",
       "\ttable td {border:inset 1px;}\n",
       "\ttable tr#HeaderRow {background-color:grey; color:white;}</style>\n",
       "<html><table>\n",
       "\t<tr id=\"HeaderRow\">\n",
       "\t\t<th>Species_1</th>\n",
       "\t\t<th>Species_2</th>\n",
       "\t\t<th>Species_6</th>\n",
       "\t\t<th>Species_5</th>\n",
       "\t\t<th>Species_0</th>\n",
       "\t\t<th>Species_4</th>\n",
       "\t\t<th>Weight</th>\n",
       "\t\t<th>id</th>\n",
       "\t\t<th>Species_3</th>\n",
       "\t\t<th>Length1</th>\n",
       "\t\t<th>Length2</th>\n",
       "\t\t<th>Length3</th>\n",
       "\t\t<th>Height</th>\n",
       "\t\t<th>Width</th>\n",
       "\t</tr>\n",
       "\t<tr>\n",
       "\t\t<td>0</td>\n",
       "\t\t<td>0</td>\n",
       "\t\t<td>0</td>\n",
       "\t\t<td>0</td>\n",
       "\t\t<td>1</td>\n",
       "\t\t<td>0</td>\n",
       "\t\t<td>575</td>\n",
       "\t\t<td>18</td>\n",
       "\t\t<td>0</td>\n",
       "\t\t<td>0.7574943394227162</td>\n",
       "\t\t<td>0.7687947868668352</td>\n",
       "\t\t<td>0.9653113522468735</td>\n",
       "\t\t<td>1.427582811940253</td>\n",
       "\t\t<td>0.8072920970671746</td>\n",
       "\t</tr>\n",
       "\t<tr>\n",
       "\t\t<td>0</td>\n",
       "\t\t<td>1</td>\n",
       "\t\t<td>0</td>\n",
       "\t\t<td>0</td>\n",
       "\t\t<td>0</td>\n",
       "\t\t<td>0</td>\n",
       "\t\t<td>900</td>\n",
       "\t\t<td>48</td>\n",
       "\t\t<td>0</td>\n",
       "\t\t<td>1.3667086589584359</td>\n",
       "\t\t<td>1.3105078395345693</td>\n",
       "\t\t<td>1.1516759887629742</td>\n",
       "\t\t<td>0.5313683696307928</td>\n",
       "\t\t<td>1.978013863432658</td>\n",
       "\t</tr>\n",
       "\t<tr>\n",
       "\t\t<td>0</td>\n",
       "\t\t<td>1</td>\n",
       "\t\t<td>0</td>\n",
       "\t\t<td>0</td>\n",
       "\t\t<td>0</td>\n",
       "\t\t<td>0</td>\n",
       "\t\t<td>85</td>\n",
       "\t\t<td>56</td>\n",
       "\t\t<td>0</td>\n",
       "\t\t<td>-0.7772571194076551</td>\n",
       "\t\t<td>-0.7480017606028199</td>\n",
       "\t\t<td>-0.8492916875151603</td>\n",
       "\t\t<td>-0.8279392188375693</td>\n",
       "\t\t<td>-0.8950282633504351</td>\n",
       "\t</tr>\n",
       "\t<tr>\n",
       "\t\t<td>0</td>\n",
       "\t\t<td>1</td>\n",
       "\t\t<td>0</td>\n",
       "\t\t<td>0</td>\n",
       "\t\t<td>0</td>\n",
       "\t\t<td>0</td>\n",
       "\t\t<td>145</td>\n",
       "\t\t<td>72</td>\n",
       "\t\t<td>0</td>\n",
       "\t\t<td>-0.33206203974693665</td>\n",
       "\t\t<td>-0.3146313184686327</td>\n",
       "\t\t<td>-0.4079017589243953</td>\n",
       "\t\t<td>-0.5376500648241592</td>\n",
       "\t\t<td>-0.2542621008768895</td>\n",
       "\t</tr>\n",
       "\t<tr>\n",
       "\t\t<td>0</td>\n",
       "\t\t<td>1</td>\n",
       "\t\t<td>0</td>\n",
       "\t\t<td>0</td>\n",
       "\t\t<td>0</td>\n",
       "\t\t<td>0</td>\n",
       "\t\t<td>1100</td>\n",
       "\t\t<td>88</td>\n",
       "\t\t<td>0</td>\n",
       "\t\t<td>1.6596001587352243</td>\n",
       "\t\t<td>1.6355356711352096</td>\n",
       "\t\t<td>1.4655532713164072</td>\n",
       "\t\t<td>0.9048602773003281</td>\n",
       "\t\t<td>1.5976920670927097</td>\n",
       "\t</tr>\n",
       "\t<tr>\n",
       "\t\t<td>0</td>\n",
       "\t\t<td>1</td>\n",
       "\t\t<td>0</td>\n",
       "\t\t<td>0</td>\n",
       "\t\t<td>0</td>\n",
       "\t\t<td>0</td>\n",
       "\t\t<td>1000</td>\n",
       "\t\t<td>96</td>\n",
       "\t\t<td>0</td>\n",
       "\t\t<td>1.800188078628083</td>\n",
       "\t\t<td>1.7980495869355297</td>\n",
       "\t\t<td>1.602874582433534</td>\n",
       "\t\t<td>0.8608117606588499</td>\n",
       "\t\t<td>2.372696610802403</td>\n",
       "\t</tr>\n",
       "\t<tr>\n",
       "\t\t<td>1</td>\n",
       "\t\t<td>0</td>\n",
       "\t\t<td>0</td>\n",
       "\t\t<td>0</td>\n",
       "\t\t<td>0</td>\n",
       "\t\t<td>0</td>\n",
       "\t\t<td>273</td>\n",
       "\t\t<td>8</td>\n",
       "\t\t<td>0</td>\n",
       "\t\t<td>-0.21490543983622132</td>\n",
       "\t\t<td>-0.20628870793508589</td>\n",
       "\t\t<td>-0.16268513192952586</td>\n",
       "\t\t<td>0.5204572691783166</td>\n",
       "\t\t<td>-0.06014585602497977</td>\n",
       "\t</tr>\n",
       "\t<tr>\n",
       "\t\t<td>1</td>\n",
       "\t\t<td>0</td>\n",
       "\t\t<td>0</td>\n",
       "\t\t<td>0</td>\n",
       "\t\t<td>0</td>\n",
       "\t\t<td>0</td>\n",
       "\t\t<td>170</td>\n",
       "\t\t<td>16</td>\n",
       "\t\t<td>0</td>\n",
       "\t\t<td>-0.6835318394790827</td>\n",
       "\t\t<td>-0.6721619332293371</td>\n",
       "\t\t<td>-0.6335010557596752</td>\n",
       "\t\t<td>0.1405893274995159</td>\n",
       "\t\t<td>-0.5065523676969578</td>\n",
       "\t</tr>\n",
       "\t<tr>\n",
       "\t\t<td>1</td>\n",
       "\t\t<td>0</td>\n",
       "\t\t<td>0</td>\n",
       "\t\t<td>0</td>\n",
       "\t\t<td>0</td>\n",
       "\t\t<td>0</td>\n",
       "\t\t<td>90</td>\n",
       "\t\t<td>24</td>\n",
       "\t\t<td>0</td>\n",
       "\t\t<td>-0.9998546592380141</td>\n",
       "\t\t<td>-0.9971897648299776</td>\n",
       "\t\t<td>-0.9669956684726975</td>\n",
       "\t\t<td>-0.30636167622043536</td>\n",
       "\t\t<td>-0.9552712358906827</td>\n",
       "\t</tr>\n",
       "\t<tr>\n",
       "\t\t<td>0</td>\n",
       "\t\t<td>1</td>\n",
       "\t\t<td>0</td>\n",
       "\t\t<td>0</td>\n",
       "\t\t<td>0</td>\n",
       "\t\t<td>0</td>\n",
       "\t\t<td>700</td>\n",
       "\t\t<td>80</td>\n",
       "\t\t<td>0</td>\n",
       "\t\t<td>1.1323954591370051</td>\n",
       "\t\t<td>1.0938226184674757</td>\n",
       "\t\t<td>0.9555026871670785</td>\n",
       "\t\t<td>0.4636566845183071</td>\n",
       "\t\t<td>1.2302707860846118</td>\n",
       "\t</tr>\n",
       "</table></html>"
      ],
      "text/plain": [
       "   Species_1  Species_2  Species_6  Species_5  Species_0  Species_4  Weight  id  Species_3   Length1   Length2   Length3    Height     Width\n",
       "0          0          0          0          0          1          0     575  18          0  0.757494  0.768795  0.965311  1.427583  0.807292\n",
       "1          0          1          0          0          0          0     900  48          0  1.366709  1.310508  1.151676  0.531368  1.978014\n",
       "2          0          1          0          0          0          0      85  56          0 -0.777257 -0.748002 -0.849292 -0.827939 -0.895028\n",
       "3          0          1          0          0          0          0     145  72          0 -0.332062 -0.314631 -0.407902 -0.537650 -0.254262\n",
       "4          0          1          0          0          0          0    1100  88          0  1.659600  1.635536  1.465553  0.904860  1.597692\n",
       "5          0          1          0          0          0          0    1000  96          0  1.800188  1.798050  1.602875  0.860812  2.372697\n",
       "6          1          0          0          0          0          0     273   8          0 -0.214905 -0.206289 -0.162685  0.520457 -0.060146\n",
       "7          1          0          0          0          0          0     170  16          0 -0.683532 -0.672162 -0.633501  0.140589 -0.506552\n",
       "8          1          0          0          0          0          0      90  24          0 -0.999855 -0.997190 -0.966996 -0.306362 -0.955271\n",
       "9          0          1          0          0          0          0     700  80          0  1.132395  1.093823  0.955503  0.463657  1.230271"
      ]
     },
     "metadata": {},
     "output_type": "display_data"
    },
    {
     "name": "stdout",
     "output_type": "stream",
     "text": [
      "                                                                                                 \r"
     ]
    },
    {
     "data": {
      "text/html": [
       "32 rows X 14 columns"
      ],
      "text/plain": [
       "<IPython.core.display.HTML object>"
      ]
     },
     "metadata": {},
     "output_type": "display_data"
    },
    {
     "name": "stdout",
     "output_type": "stream",
     "text": [
      "                                                                                                 \r"
     ]
    },
    {
     "data": {
      "text/html": [
       "\n",
       "Updated dataset after performing PCA feature selection :"
      ],
      "text/plain": [
       "<IPython.core.display.HTML object>"
      ]
     },
     "metadata": {},
     "output_type": "display_data"
    },
    {
     "data": {
      "text/html": [
       "<div>\n",
       "<style scoped>\n",
       "    .dataframe tbody tr th:only-of-type {\n",
       "        vertical-align: middle;\n",
       "    }\n",
       "\n",
       "    .dataframe tbody tr th {\n",
       "        vertical-align: top;\n",
       "    }\n",
       "\n",
       "    .dataframe thead th {\n",
       "        text-align: right;\n",
       "    }\n",
       "</style>\n",
       "<table border=\"1\" class=\"dataframe\">\n",
       "  <thead>\n",
       "    <tr style=\"text-align: right;\">\n",
       "      <th></th>\n",
       "      <th>id</th>\n",
       "      <th>col_0</th>\n",
       "      <th>col_1</th>\n",
       "      <th>col_2</th>\n",
       "      <th>col_3</th>\n",
       "      <th>Weight</th>\n",
       "    </tr>\n",
       "  </thead>\n",
       "  <tbody>\n",
       "    <tr>\n",
       "      <th>0</th>\n",
       "      <td>8</td>\n",
       "      <td>0.115677</td>\n",
       "      <td>-0.611270</td>\n",
       "      <td>-0.017106</td>\n",
       "      <td>0.076870</td>\n",
       "      <td>273</td>\n",
       "    </tr>\n",
       "    <tr>\n",
       "      <th>1</th>\n",
       "      <td>50</td>\n",
       "      <td>-3.242292</td>\n",
       "      <td>-1.046575</td>\n",
       "      <td>0.087476</td>\n",
       "      <td>-0.143496</td>\n",
       "      <td>920</td>\n",
       "    </tr>\n",
       "    <tr>\n",
       "      <th>2</th>\n",
       "      <td>16</td>\n",
       "      <td>1.105625</td>\n",
       "      <td>-0.666388</td>\n",
       "      <td>-0.031383</td>\n",
       "      <td>0.047767</td>\n",
       "      <td>170</td>\n",
       "    </tr>\n",
       "    <tr>\n",
       "      <th>3</th>\n",
       "      <td>34</td>\n",
       "      <td>-2.537278</td>\n",
       "      <td>-1.027536</td>\n",
       "      <td>0.011648</td>\n",
       "      <td>-0.107204</td>\n",
       "      <td>725</td>\n",
       "    </tr>\n",
       "    <tr>\n",
       "      <th>4</th>\n",
       "      <td>24</td>\n",
       "      <td>1.927638</td>\n",
       "      <td>-0.582409</td>\n",
       "      <td>0.054400</td>\n",
       "      <td>-0.003428</td>\n",
       "      <td>90</td>\n",
       "    </tr>\n",
       "    <tr>\n",
       "      <th>5</th>\n",
       "      <td>18</td>\n",
       "      <td>-2.157075</td>\n",
       "      <td>-0.906958</td>\n",
       "      <td>0.131781</td>\n",
       "      <td>-0.161331</td>\n",
       "      <td>575</td>\n",
       "    </tr>\n",
       "    <tr>\n",
       "      <th>6</th>\n",
       "      <td>10</td>\n",
       "      <td>-1.451870</td>\n",
       "      <td>-0.999100</td>\n",
       "      <td>0.132479</td>\n",
       "      <td>-0.199819</td>\n",
       "      <td>500</td>\n",
       "    </tr>\n",
       "    <tr>\n",
       "      <th>7</th>\n",
       "      <td>48</td>\n",
       "      <td>-2.826629</td>\n",
       "      <td>0.886842</td>\n",
       "      <td>-0.745693</td>\n",
       "      <td>0.140491</td>\n",
       "      <td>900</td>\n",
       "    </tr>\n",
       "    <tr>\n",
       "      <th>8</th>\n",
       "      <td>56</td>\n",
       "      <td>1.816076</td>\n",
       "      <td>0.374067</td>\n",
       "      <td>-0.459557</td>\n",
       "      <td>-0.260857</td>\n",
       "      <td>85</td>\n",
       "    </tr>\n",
       "    <tr>\n",
       "      <th>9</th>\n",
       "      <td>72</td>\n",
       "      <td>0.814612</td>\n",
       "      <td>0.480974</td>\n",
       "      <td>-0.533226</td>\n",
       "      <td>-0.166739</td>\n",
       "      <td>145</td>\n",
       "    </tr>\n",
       "  </tbody>\n",
       "</table>\n",
       "</div>"
      ],
      "text/plain": [
       "   id     col_0     col_1     col_2     col_3  Weight\n",
       "0   8  0.115677 -0.611270 -0.017106  0.076870     273\n",
       "1  50 -3.242292 -1.046575  0.087476 -0.143496     920\n",
       "2  16  1.105625 -0.666388 -0.031383  0.047767     170\n",
       "3  34 -2.537278 -1.027536  0.011648 -0.107204     725\n",
       "4  24  1.927638 -0.582409  0.054400 -0.003428      90\n",
       "5  18 -2.157075 -0.906958  0.131781 -0.161331     575\n",
       "6  10 -1.451870 -0.999100  0.132479 -0.199819     500\n",
       "7  48 -2.826629  0.886842 -0.745693  0.140491     900\n",
       "8  56  1.816076  0.374067 -0.459557 -0.260857      85\n",
       "9  72  0.814612  0.480974 -0.533226 -0.166739     145"
      ]
     },
     "metadata": {},
     "output_type": "display_data"
    },
    {
     "name": "stdout",
     "output_type": "stream",
     "text": [
      "                                                                                                 \r"
     ]
    },
    {
     "data": {
      "text/html": [
       "10 rows X 6 columns"
      ],
      "text/plain": [
       "<IPython.core.display.HTML object>"
      ]
     },
     "metadata": {},
     "output_type": "display_data"
    },
    {
     "name": "stdout",
     "output_type": "stream",
     "text": [
      "Data Transformation completed.⫿⫿⫿⫿⫿⫿⫿⫿⫿⫿⫿⫿⫿⫿⫿⫿⫿⫿⫿⫿⫿⫿⫿⫿⫿⫿⫿⫿⫿⫿⫿⫿⫿⫿⫿⫿⫿⫿⫿⫿⫿⫿｜ 100% - 10/10           \n",
      "\n",
      "Following model is being used for generating prediction :\n",
      "Model ID : XGBOOST_1 \n",
      "Feature Selection Method : rfe\n",
      "\n",
      "Prediction : \n",
      "   id  Prediction  Confidence_Lower  Confidence_upper  Weight\n",
      "0  24   99.216619         99.216619         99.216619      90\n",
      "1  34  689.713849        689.713849        689.713849     725\n",
      "2  18  640.558842        640.558842        640.558842     575\n",
      "3  10  497.603128        497.603128        497.603128     500\n",
      "4  56   78.395238         78.395238         78.395238      85\n",
      "5  72  180.365158        180.365158        180.365158     145\n",
      "6  80  688.718066        688.718066        688.718066     700\n",
      "7  88  997.299083        997.299083        997.299083    1100\n",
      "8  96  993.389844        993.389844        993.389844    1000\n",
      "9  48  694.301187        694.301187        694.301187     900\n",
      "\n",
      "Performance Metrics : \n",
      "          MAE           MSE      MSLE  MAPE  MPE        RMSE     RMSLE          ME        R2        EV  MPD  MGD\n",
      "0  102.401741  53038.347114  0.088528   inf -inf  230.300558  0.297536  902.856041  0.721079  0.735397  NaN  inf\n"
     ]
    }
   ],
   "source": [
    "# Generating prediction and metrics on test data\n",
    "prediction = aml.predict(fish_df_test)"
   ]
  },
  {
   "cell_type": "code",
   "execution_count": 22,
   "id": "cc4f6a78-1cdf-4938-a9f1-22035d8404ca",
   "metadata": {},
   "outputs": [
    {
     "data": {
      "text/html": [
       "<style type=\"text/css\">\n",
       "\ttable {border:ridge 5px;}\n",
       "\ttable td {border:inset 1px;}\n",
       "\ttable tr#HeaderRow {background-color:grey; color:white;}</style>\n",
       "<html><table>\n",
       "\t<tr id=\"HeaderRow\">\n",
       "\t\t<th>id</th>\n",
       "\t\t<th>Prediction</th>\n",
       "\t\t<th>Confidence_Lower</th>\n",
       "\t\t<th>Confidence_upper</th>\n",
       "\t\t<th>Weight</th>\n",
       "\t</tr>\n",
       "\t<tr>\n",
       "\t\t<td>12</td>\n",
       "\t\t<td>121.402186</td>\n",
       "\t\t<td>121.402186</td>\n",
       "\t\t<td>121.402186</td>\n",
       "\t\t<td>0</td>\n",
       "\t</tr>\n",
       "\t<tr>\n",
       "\t\t<td>15</td>\n",
       "\t\t<td>13.187301</td>\n",
       "\t\t<td>13.187301</td>\n",
       "\t\t<td>13.187301</td>\n",
       "\t\t<td>12</td>\n",
       "\t</tr>\n",
       "\t<tr>\n",
       "\t\t<td>16</td>\n",
       "\t\t<td>146.337876</td>\n",
       "\t\t<td>146.337876</td>\n",
       "\t\t<td>146.337876</td>\n",
       "\t\t<td>170</td>\n",
       "\t</tr>\n",
       "\t<tr>\n",
       "\t\t<td>18</td>\n",
       "\t\t<td>640.5588419999999</td>\n",
       "\t\t<td>640.5588419999999</td>\n",
       "\t\t<td>640.5588419999999</td>\n",
       "\t\t<td>575</td>\n",
       "\t</tr>\n",
       "\t<tr>\n",
       "\t\t<td>21</td>\n",
       "\t\t<td>299.76053099999996</td>\n",
       "\t\t<td>299.76053099999996</td>\n",
       "\t\t<td>299.76053099999996</td>\n",
       "\t\t<td>345</td>\n",
       "\t</tr>\n",
       "\t<tr>\n",
       "\t\t<td>23</td>\n",
       "\t\t<td>46.662701999999996</td>\n",
       "\t\t<td>46.662701999999996</td>\n",
       "\t\t<td>46.662701999999996</td>\n",
       "\t\t<td>19</td>\n",
       "\t</tr>\n",
       "\t<tr>\n",
       "\t\t<td>20</td>\n",
       "\t\t<td>413.809287</td>\n",
       "\t\t<td>413.809287</td>\n",
       "\t\t<td>413.809287</td>\n",
       "\t\t<td>272</td>\n",
       "\t</tr>\n",
       "\t<tr>\n",
       "\t\t<td>13</td>\n",
       "\t\t<td>604.410272</td>\n",
       "\t\t<td>604.410272</td>\n",
       "\t\t<td>604.410272</td>\n",
       "\t\t<td>500</td>\n",
       "\t</tr>\n",
       "\t<tr>\n",
       "\t\t<td>10</td>\n",
       "\t\t<td>497.60312799999997</td>\n",
       "\t\t<td>497.60312799999997</td>\n",
       "\t\t<td>497.60312799999997</td>\n",
       "\t\t<td>500</td>\n",
       "\t</tr>\n",
       "\t<tr>\n",
       "\t\t<td>8</td>\n",
       "\t\t<td>203.65442</td>\n",
       "\t\t<td>203.65442</td>\n",
       "\t\t<td>203.65442</td>\n",
       "\t\t<td>273</td>\n",
       "\t</tr>\n",
       "</table></html>"
      ],
      "text/plain": [
       "   id  Prediction  Confidence_Lower  Confidence_upper  Weight\n",
       "0  12  121.402186        121.402186        121.402186       0\n",
       "1  15   13.187301         13.187301         13.187301      12\n",
       "2  16  146.337876        146.337876        146.337876     170\n",
       "3  18  640.558842        640.558842        640.558842     575\n",
       "4  21  299.760531        299.760531        299.760531     345\n",
       "5  23   46.662702         46.662702         46.662702      19\n",
       "6  20  413.809287        413.809287        413.809287     272\n",
       "7  13  604.410272        604.410272        604.410272     500\n",
       "8  10  497.603128        497.603128        497.603128     500\n",
       "9   8  203.654420        203.654420        203.654420     273"
      ]
     },
     "execution_count": 22,
     "metadata": {},
     "output_type": "execute_result"
    }
   ],
   "source": [
    "# Printing prediction\n",
    "prediction.head()"
   ]
  },
  {
   "cell_type": "code",
   "execution_count": 23,
   "id": "9bbf0fe8-c8d3-4eff-a689-073c3986e9df",
   "metadata": {},
   "outputs": [
    {
     "name": "stdout",
     "output_type": "stream",
     "text": [
      "Data Transformation started ...\n",
      "                                                                                                \r"
     ]
    },
    {
     "data": {
      "text/html": [
       "Performing transformation carried out in feature engineering phase ..."
      ],
      "text/plain": [
       "<IPython.core.display.HTML object>"
      ]
     },
     "metadata": {},
     "output_type": "display_data"
    },
    {
     "name": "stdout",
     "output_type": "stream",
     "text": [
      "result data stored in table '\"ALICE\".\"ml__td_sqlmr_persist_out__1719263130331355\"'⫾⫾⫾｜ 50% - 5/10\n",
      "                                                                                                 \r"
     ]
    },
    {
     "data": {
      "text/html": [
       "\n",
       "Updated dataset after performing categorical encoding :"
      ],
      "text/plain": [
       "<IPython.core.display.HTML object>"
      ]
     },
     "metadata": {},
     "output_type": "display_data"
    },
    {
     "data": {
      "text/html": [
       "<style type=\"text/css\">\n",
       "\ttable {border:ridge 5px;}\n",
       "\ttable td {border:inset 1px;}\n",
       "\ttable tr#HeaderRow {background-color:grey; color:white;}</style>\n",
       "<html><table>\n",
       "\t<tr id=\"HeaderRow\">\n",
       "\t\t<th>Species_0</th>\n",
       "\t\t<th>Species_1</th>\n",
       "\t\t<th>Species_2</th>\n",
       "\t\t<th>Species_3</th>\n",
       "\t\t<th>Species_4</th>\n",
       "\t\t<th>Species_5</th>\n",
       "\t\t<th>Species_6</th>\n",
       "\t\t<th>Weight</th>\n",
       "\t\t<th>Length1</th>\n",
       "\t\t<th>Length2</th>\n",
       "\t\t<th>Length3</th>\n",
       "\t\t<th>Height</th>\n",
       "\t\t<th>Width</th>\n",
       "\t\t<th>id</th>\n",
       "\t</tr>\n",
       "\t<tr>\n",
       "\t\t<td>1</td>\n",
       "\t\t<td>0</td>\n",
       "\t\t<td>0</td>\n",
       "\t\t<td>0</td>\n",
       "\t\t<td>0</td>\n",
       "\t\t<td>0</td>\n",
       "\t\t<td>0</td>\n",
       "\t\t<td>920</td>\n",
       "\t\t<td>35.0</td>\n",
       "\t\t<td>38.5</td>\n",
       "\t\t<td>44.1</td>\n",
       "\t\t<td>18.0369</td>\n",
       "\t\t<td>6.3063</td>\n",
       "\t\t<td>50</td>\n",
       "\t</tr>\n",
       "\t<tr>\n",
       "\t\t<td>1</td>\n",
       "\t\t<td>0</td>\n",
       "\t\t<td>0</td>\n",
       "\t\t<td>0</td>\n",
       "\t\t<td>0</td>\n",
       "\t\t<td>0</td>\n",
       "\t\t<td>0</td>\n",
       "\t\t<td>725</td>\n",
       "\t\t<td>31.8</td>\n",
       "\t\t<td>35.0</td>\n",
       "\t\t<td>40.9</td>\n",
       "\t\t<td>16.36</td>\n",
       "\t\t<td>6.0532</td>\n",
       "\t\t<td>34</td>\n",
       "\t</tr>\n",
       "\t<tr>\n",
       "\t\t<td>1</td>\n",
       "\t\t<td>0</td>\n",
       "\t\t<td>0</td>\n",
       "\t\t<td>0</td>\n",
       "\t\t<td>0</td>\n",
       "\t\t<td>0</td>\n",
       "\t\t<td>0</td>\n",
       "\t\t<td>575</td>\n",
       "\t\t<td>31.3</td>\n",
       "\t\t<td>34.0</td>\n",
       "\t\t<td>39.5</td>\n",
       "\t\t<td>15.1285</td>\n",
       "\t\t<td>5.5695</td>\n",
       "\t\t<td>18</td>\n",
       "\t</tr>\n",
       "\t<tr>\n",
       "\t\t<td>1</td>\n",
       "\t\t<td>0</td>\n",
       "\t\t<td>0</td>\n",
       "\t\t<td>0</td>\n",
       "\t\t<td>0</td>\n",
       "\t\t<td>0</td>\n",
       "\t\t<td>0</td>\n",
       "\t\t<td>500</td>\n",
       "\t\t<td>28.5</td>\n",
       "\t\t<td>30.7</td>\n",
       "\t\t<td>36.2</td>\n",
       "\t\t<td>14.2266</td>\n",
       "\t\t<td>4.9594</td>\n",
       "\t\t<td>10</td>\n",
       "\t</tr>\n",
       "\t<tr>\n",
       "\t\t<td>0</td>\n",
       "\t\t<td>0</td>\n",
       "\t\t<td>1</td>\n",
       "\t\t<td>0</td>\n",
       "\t\t<td>0</td>\n",
       "\t\t<td>0</td>\n",
       "\t\t<td>0</td>\n",
       "\t\t<td>320</td>\n",
       "\t\t<td>27.8</td>\n",
       "\t\t<td>30.0</td>\n",
       "\t\t<td>31.6</td>\n",
       "\t\t<td>7.6156</td>\n",
       "\t\t<td>4.7716</td>\n",
       "\t\t<td>40</td>\n",
       "\t</tr>\n",
       "\t<tr>\n",
       "\t\t<td>0</td>\n",
       "\t\t<td>0</td>\n",
       "\t\t<td>1</td>\n",
       "\t\t<td>0</td>\n",
       "\t\t<td>0</td>\n",
       "\t\t<td>0</td>\n",
       "\t\t<td>0</td>\n",
       "\t\t<td>900</td>\n",
       "\t\t<td>36.5</td>\n",
       "\t\t<td>39.0</td>\n",
       "\t\t<td>41.4</td>\n",
       "\t\t<td>11.1366</td>\n",
       "\t\t<td>7.4934</td>\n",
       "\t\t<td>48</td>\n",
       "\t</tr>\n",
       "\t<tr>\n",
       "\t\t<td>0</td>\n",
       "\t\t<td>0</td>\n",
       "\t\t<td>1</td>\n",
       "\t\t<td>0</td>\n",
       "\t\t<td>0</td>\n",
       "\t\t<td>0</td>\n",
       "\t\t<td>0</td>\n",
       "\t\t<td>85</td>\n",
       "\t\t<td>18.2</td>\n",
       "\t\t<td>20.0</td>\n",
       "\t\t<td>21.0</td>\n",
       "\t\t<td>5.082</td>\n",
       "\t\t<td>2.772</td>\n",
       "\t\t<td>56</td>\n",
       "\t</tr>\n",
       "\t<tr>\n",
       "\t\t<td>0</td>\n",
       "\t\t<td>0</td>\n",
       "\t\t<td>1</td>\n",
       "\t\t<td>0</td>\n",
       "\t\t<td>0</td>\n",
       "\t\t<td>0</td>\n",
       "\t\t<td>0</td>\n",
       "\t\t<td>145</td>\n",
       "\t\t<td>22.0</td>\n",
       "\t\t<td>24.0</td>\n",
       "\t\t<td>25.5</td>\n",
       "\t\t<td>6.375</td>\n",
       "\t\t<td>3.825</td>\n",
       "\t\t<td>72</td>\n",
       "\t</tr>\n",
       "\t<tr>\n",
       "\t\t<td>0</td>\n",
       "\t\t<td>0</td>\n",
       "\t\t<td>1</td>\n",
       "\t\t<td>0</td>\n",
       "\t\t<td>0</td>\n",
       "\t\t<td>0</td>\n",
       "\t\t<td>0</td>\n",
       "\t\t<td>700</td>\n",
       "\t\t<td>34.5</td>\n",
       "\t\t<td>37.0</td>\n",
       "\t\t<td>39.4</td>\n",
       "\t\t<td>10.835</td>\n",
       "\t\t<td>6.2646</td>\n",
       "\t\t<td>80</td>\n",
       "\t</tr>\n",
       "\t<tr>\n",
       "\t\t<td>0</td>\n",
       "\t\t<td>0</td>\n",
       "\t\t<td>1</td>\n",
       "\t\t<td>0</td>\n",
       "\t\t<td>0</td>\n",
       "\t\t<td>0</td>\n",
       "\t\t<td>0</td>\n",
       "\t\t<td>1100</td>\n",
       "\t\t<td>39.0</td>\n",
       "\t\t<td>42.0</td>\n",
       "\t\t<td>44.6</td>\n",
       "\t\t<td>12.8002</td>\n",
       "\t\t<td>6.8684</td>\n",
       "\t\t<td>88</td>\n",
       "\t</tr>\n",
       "</table></html>"
      ],
      "text/plain": [
       "           Species_1  Species_2  Species_3  Species_4  Species_5  Species_6  Weight  Length1  Length2  Length3   Height   Width  id\n",
       "Species_0                                                                                                                          \n",
       "1                  0          0          0          0          0          0     920     35.0     38.5     44.1  18.0369  6.3063  50\n",
       "1                  0          0          0          0          0          0     725     31.8     35.0     40.9  16.3600  6.0532  34\n",
       "1                  0          0          0          0          0          0     575     31.3     34.0     39.5  15.1285  5.5695  18\n",
       "1                  0          0          0          0          0          0     500     28.5     30.7     36.2  14.2266  4.9594  10\n",
       "0                  0          1          0          0          0          0     320     27.8     30.0     31.6   7.6156  4.7716  40\n",
       "0                  0          1          0          0          0          0     900     36.5     39.0     41.4  11.1366  7.4934  48\n",
       "0                  0          1          0          0          0          0      85     18.2     20.0     21.0   5.0820  2.7720  56\n",
       "0                  0          1          0          0          0          0     145     22.0     24.0     25.5   6.3750  3.8250  72\n",
       "0                  0          1          0          0          0          0     700     34.5     37.0     39.4  10.8350  6.2646  80\n",
       "0                  0          1          0          0          0          0    1100     39.0     42.0     44.6  12.8002  6.8684  88"
      ]
     },
     "metadata": {},
     "output_type": "display_data"
    },
    {
     "name": "stdout",
     "output_type": "stream",
     "text": [
      "                                                                                                 \r"
     ]
    },
    {
     "data": {
      "text/html": [
       "32 rows X 14 columns"
      ],
      "text/plain": [
       "<IPython.core.display.HTML object>"
      ]
     },
     "metadata": {},
     "output_type": "display_data"
    },
    {
     "name": "stdout",
     "output_type": "stream",
     "text": [
      "                                                                                                 \r"
     ]
    },
    {
     "data": {
      "text/html": [
       "Performing transformation carried out in data preparation phase ..."
      ],
      "text/plain": [
       "<IPython.core.display.HTML object>"
      ]
     },
     "metadata": {},
     "output_type": "display_data"
    },
    {
     "name": "stdout",
     "output_type": "stream",
     "text": [
      "result data stored in table '\"ALICE\".\"ml__td_sqlmr_persist_out__1719260370449430\"'⫾⫾⫾｜ 60% - 6/10\n",
      "                                                                                                 \r"
     ]
    },
    {
     "data": {
      "text/html": [
       "\n",
       "Updated dataset after performing Lasso feature selection:"
      ],
      "text/plain": [
       "<IPython.core.display.HTML object>"
      ]
     },
     "metadata": {},
     "output_type": "display_data"
    },
    {
     "data": {
      "text/html": [
       "<style type=\"text/css\">\n",
       "\ttable {border:ridge 5px;}\n",
       "\ttable td {border:inset 1px;}\n",
       "\ttable tr#HeaderRow {background-color:grey; color:white;}</style>\n",
       "<html><table>\n",
       "\t<tr id=\"HeaderRow\">\n",
       "\t\t<th>id</th>\n",
       "\t\t<th>Species_1</th>\n",
       "\t\t<th>Species_2</th>\n",
       "\t\t<th>Species_6</th>\n",
       "\t\t<th>Species_5</th>\n",
       "\t\t<th>Species_0</th>\n",
       "\t\t<th>Species_4</th>\n",
       "\t\t<th>Length1</th>\n",
       "\t\t<th>Length2</th>\n",
       "\t\t<th>Length3</th>\n",
       "\t\t<th>Height</th>\n",
       "\t\t<th>Width</th>\n",
       "\t\t<th>Weight</th>\n",
       "\t</tr>\n",
       "\t<tr>\n",
       "\t\t<td>24</td>\n",
       "\t\t<td>1</td>\n",
       "\t\t<td>0</td>\n",
       "\t\t<td>0</td>\n",
       "\t\t<td>0</td>\n",
       "\t\t<td>0</td>\n",
       "\t\t<td>0</td>\n",
       "\t\t<td>16.3</td>\n",
       "\t\t<td>17.7</td>\n",
       "\t\t<td>19.8</td>\n",
       "\t\t<td>7.4052</td>\n",
       "\t\t<td>2.673</td>\n",
       "\t\t<td>90</td>\n",
       "\t</tr>\n",
       "\t<tr>\n",
       "\t\t<td>34</td>\n",
       "\t\t<td>0</td>\n",
       "\t\t<td>0</td>\n",
       "\t\t<td>0</td>\n",
       "\t\t<td>0</td>\n",
       "\t\t<td>1</td>\n",
       "\t\t<td>0</td>\n",
       "\t\t<td>31.8</td>\n",
       "\t\t<td>35.0</td>\n",
       "\t\t<td>40.9</td>\n",
       "\t\t<td>16.36</td>\n",
       "\t\t<td>6.0532</td>\n",
       "\t\t<td>725</td>\n",
       "\t</tr>\n",
       "\t<tr>\n",
       "\t\t<td>18</td>\n",
       "\t\t<td>0</td>\n",
       "\t\t<td>0</td>\n",
       "\t\t<td>0</td>\n",
       "\t\t<td>0</td>\n",
       "\t\t<td>1</td>\n",
       "\t\t<td>0</td>\n",
       "\t\t<td>31.3</td>\n",
       "\t\t<td>34.0</td>\n",
       "\t\t<td>39.5</td>\n",
       "\t\t<td>15.1285</td>\n",
       "\t\t<td>5.5695</td>\n",
       "\t\t<td>575</td>\n",
       "\t</tr>\n",
       "\t<tr>\n",
       "\t\t<td>10</td>\n",
       "\t\t<td>0</td>\n",
       "\t\t<td>0</td>\n",
       "\t\t<td>0</td>\n",
       "\t\t<td>0</td>\n",
       "\t\t<td>1</td>\n",
       "\t\t<td>0</td>\n",
       "\t\t<td>28.5</td>\n",
       "\t\t<td>30.7</td>\n",
       "\t\t<td>36.2</td>\n",
       "\t\t<td>14.2266</td>\n",
       "\t\t<td>4.9594</td>\n",
       "\t\t<td>500</td>\n",
       "\t</tr>\n",
       "\t<tr>\n",
       "\t\t<td>56</td>\n",
       "\t\t<td>0</td>\n",
       "\t\t<td>1</td>\n",
       "\t\t<td>0</td>\n",
       "\t\t<td>0</td>\n",
       "\t\t<td>0</td>\n",
       "\t\t<td>0</td>\n",
       "\t\t<td>18.2</td>\n",
       "\t\t<td>20.0</td>\n",
       "\t\t<td>21.0</td>\n",
       "\t\t<td>5.082</td>\n",
       "\t\t<td>2.772</td>\n",
       "\t\t<td>85</td>\n",
       "\t</tr>\n",
       "\t<tr>\n",
       "\t\t<td>72</td>\n",
       "\t\t<td>0</td>\n",
       "\t\t<td>1</td>\n",
       "\t\t<td>0</td>\n",
       "\t\t<td>0</td>\n",
       "\t\t<td>0</td>\n",
       "\t\t<td>0</td>\n",
       "\t\t<td>22.0</td>\n",
       "\t\t<td>24.0</td>\n",
       "\t\t<td>25.5</td>\n",
       "\t\t<td>6.375</td>\n",
       "\t\t<td>3.825</td>\n",
       "\t\t<td>145</td>\n",
       "\t</tr>\n",
       "\t<tr>\n",
       "\t\t<td>80</td>\n",
       "\t\t<td>0</td>\n",
       "\t\t<td>1</td>\n",
       "\t\t<td>0</td>\n",
       "\t\t<td>0</td>\n",
       "\t\t<td>0</td>\n",
       "\t\t<td>0</td>\n",
       "\t\t<td>34.5</td>\n",
       "\t\t<td>37.0</td>\n",
       "\t\t<td>39.4</td>\n",
       "\t\t<td>10.835</td>\n",
       "\t\t<td>6.2646</td>\n",
       "\t\t<td>700</td>\n",
       "\t</tr>\n",
       "\t<tr>\n",
       "\t\t<td>88</td>\n",
       "\t\t<td>0</td>\n",
       "\t\t<td>1</td>\n",
       "\t\t<td>0</td>\n",
       "\t\t<td>0</td>\n",
       "\t\t<td>0</td>\n",
       "\t\t<td>0</td>\n",
       "\t\t<td>39.0</td>\n",
       "\t\t<td>42.0</td>\n",
       "\t\t<td>44.6</td>\n",
       "\t\t<td>12.8002</td>\n",
       "\t\t<td>6.8684</td>\n",
       "\t\t<td>1100</td>\n",
       "\t</tr>\n",
       "\t<tr>\n",
       "\t\t<td>96</td>\n",
       "\t\t<td>0</td>\n",
       "\t\t<td>1</td>\n",
       "\t\t<td>0</td>\n",
       "\t\t<td>0</td>\n",
       "\t\t<td>0</td>\n",
       "\t\t<td>0</td>\n",
       "\t\t<td>40.2</td>\n",
       "\t\t<td>43.5</td>\n",
       "\t\t<td>46.0</td>\n",
       "\t\t<td>12.604</td>\n",
       "\t\t<td>8.142</td>\n",
       "\t\t<td>1000</td>\n",
       "\t</tr>\n",
       "\t<tr>\n",
       "\t\t<td>48</td>\n",
       "\t\t<td>0</td>\n",
       "\t\t<td>1</td>\n",
       "\t\t<td>0</td>\n",
       "\t\t<td>0</td>\n",
       "\t\t<td>0</td>\n",
       "\t\t<td>0</td>\n",
       "\t\t<td>36.5</td>\n",
       "\t\t<td>39.0</td>\n",
       "\t\t<td>41.4</td>\n",
       "\t\t<td>11.1366</td>\n",
       "\t\t<td>7.4934</td>\n",
       "\t\t<td>900</td>\n",
       "\t</tr>\n",
       "</table></html>"
      ],
      "text/plain": [
       "           id  Species_2  Species_6  Species_5  Species_0  Species_4  Length1  Length2  Length3   Height   Width  Weight\n",
       "Species_1                                                                                                               \n",
       "1          24          0          0          0          0          0     16.3     17.7     19.8   7.4052  2.6730      90\n",
       "0          34          0          0          0          1          0     31.8     35.0     40.9  16.3600  6.0532     725\n",
       "0          18          0          0          0          1          0     31.3     34.0     39.5  15.1285  5.5695     575\n",
       "0          10          0          0          0          1          0     28.5     30.7     36.2  14.2266  4.9594     500\n",
       "0          56          1          0          0          0          0     18.2     20.0     21.0   5.0820  2.7720      85\n",
       "0          72          1          0          0          0          0     22.0     24.0     25.5   6.3750  3.8250     145\n",
       "0          80          1          0          0          0          0     34.5     37.0     39.4  10.8350  6.2646     700\n",
       "0          88          1          0          0          0          0     39.0     42.0     44.6  12.8002  6.8684    1100\n",
       "0          96          1          0          0          0          0     40.2     43.5     46.0  12.6040  8.1420    1000\n",
       "0          48          1          0          0          0          0     36.5     39.0     41.4  11.1366  7.4934     900"
      ]
     },
     "metadata": {},
     "output_type": "display_data"
    },
    {
     "name": "stdout",
     "output_type": "stream",
     "text": [
      "                                                                                                 \r"
     ]
    },
    {
     "data": {
      "text/html": [
       "32 rows X 13 columns"
      ],
      "text/plain": [
       "<IPython.core.display.HTML object>"
      ]
     },
     "metadata": {},
     "output_type": "display_data"
    },
    {
     "name": "stdout",
     "output_type": "stream",
     "text": [
      "                                                                                                 \r"
     ]
    },
    {
     "data": {
      "text/html": [
       "\n",
       "Updated dataset after performing scaling on Lasso selected features :"
      ],
      "text/plain": [
       "<IPython.core.display.HTML object>"
      ]
     },
     "metadata": {},
     "output_type": "display_data"
    },
    {
     "data": {
      "text/html": [
       "<style type=\"text/css\">\n",
       "\ttable {border:ridge 5px;}\n",
       "\ttable td {border:inset 1px;}\n",
       "\ttable tr#HeaderRow {background-color:grey; color:white;}</style>\n",
       "<html><table>\n",
       "\t<tr id=\"HeaderRow\">\n",
       "\t\t<th>Species_1</th>\n",
       "\t\t<th>Species_2</th>\n",
       "\t\t<th>Species_6</th>\n",
       "\t\t<th>Species_0</th>\n",
       "\t\t<th>Species_5</th>\n",
       "\t\t<th>Species_4</th>\n",
       "\t\t<th>Weight</th>\n",
       "\t\t<th>id</th>\n",
       "\t\t<th>Length1</th>\n",
       "\t\t<th>Length2</th>\n",
       "\t\t<th>Length3</th>\n",
       "\t\t<th>Height</th>\n",
       "\t\t<th>Width</th>\n",
       "\t</tr>\n",
       "\t<tr>\n",
       "\t\t<td>0</td>\n",
       "\t\t<td>0</td>\n",
       "\t\t<td>0</td>\n",
       "\t\t<td>1</td>\n",
       "\t\t<td>0</td>\n",
       "\t\t<td>0</td>\n",
       "\t\t<td>575</td>\n",
       "\t\t<td>18</td>\n",
       "\t\t<td>0.757494339422716</td>\n",
       "\t\t<td>0.7687947868668352</td>\n",
       "\t\t<td>0.965311352246874</td>\n",
       "\t\t<td>1.427582811940253</td>\n",
       "\t\t<td>0.8072920970671746</td>\n",
       "\t</tr>\n",
       "\t<tr>\n",
       "\t\t<td>0</td>\n",
       "\t\t<td>1</td>\n",
       "\t\t<td>0</td>\n",
       "\t\t<td>0</td>\n",
       "\t\t<td>0</td>\n",
       "\t\t<td>0</td>\n",
       "\t\t<td>900</td>\n",
       "\t\t<td>48</td>\n",
       "\t\t<td>1.3667086589584356</td>\n",
       "\t\t<td>1.3105078395345693</td>\n",
       "\t\t<td>1.1516759887629746</td>\n",
       "\t\t<td>0.5313683696307928</td>\n",
       "\t\t<td>1.978013863432658</td>\n",
       "\t</tr>\n",
       "\t<tr>\n",
       "\t\t<td>0</td>\n",
       "\t\t<td>1</td>\n",
       "\t\t<td>0</td>\n",
       "\t\t<td>0</td>\n",
       "\t\t<td>0</td>\n",
       "\t\t<td>0</td>\n",
       "\t\t<td>85</td>\n",
       "\t\t<td>56</td>\n",
       "\t\t<td>-0.777257119407655</td>\n",
       "\t\t<td>-0.7480017606028199</td>\n",
       "\t\t<td>-0.8492916875151594</td>\n",
       "\t\t<td>-0.8279392188375693</td>\n",
       "\t\t<td>-0.8950282633504351</td>\n",
       "\t</tr>\n",
       "\t<tr>\n",
       "\t\t<td>0</td>\n",
       "\t\t<td>1</td>\n",
       "\t\t<td>0</td>\n",
       "\t\t<td>0</td>\n",
       "\t\t<td>0</td>\n",
       "\t\t<td>0</td>\n",
       "\t\t<td>145</td>\n",
       "\t\t<td>72</td>\n",
       "\t\t<td>-0.3320620397469366</td>\n",
       "\t\t<td>-0.3146313184686327</td>\n",
       "\t\t<td>-0.4079017589243945</td>\n",
       "\t\t<td>-0.5376500648241592</td>\n",
       "\t\t<td>-0.2542621008768895</td>\n",
       "\t</tr>\n",
       "\t<tr>\n",
       "\t\t<td>0</td>\n",
       "\t\t<td>1</td>\n",
       "\t\t<td>0</td>\n",
       "\t\t<td>0</td>\n",
       "\t\t<td>0</td>\n",
       "\t\t<td>0</td>\n",
       "\t\t<td>1100</td>\n",
       "\t\t<td>88</td>\n",
       "\t\t<td>1.659600158735224</td>\n",
       "\t\t<td>1.6355356711352096</td>\n",
       "\t\t<td>1.4655532713164077</td>\n",
       "\t\t<td>0.9048602773003281</td>\n",
       "\t\t<td>1.5976920670927097</td>\n",
       "\t</tr>\n",
       "\t<tr>\n",
       "\t\t<td>0</td>\n",
       "\t\t<td>1</td>\n",
       "\t\t<td>0</td>\n",
       "\t\t<td>0</td>\n",
       "\t\t<td>0</td>\n",
       "\t\t<td>0</td>\n",
       "\t\t<td>1000</td>\n",
       "\t\t<td>96</td>\n",
       "\t\t<td>1.8001880786280826</td>\n",
       "\t\t<td>1.7980495869355297</td>\n",
       "\t\t<td>1.6028745824335344</td>\n",
       "\t\t<td>0.8608117606588499</td>\n",
       "\t\t<td>2.372696610802403</td>\n",
       "\t</tr>\n",
       "\t<tr>\n",
       "\t\t<td>1</td>\n",
       "\t\t<td>0</td>\n",
       "\t\t<td>0</td>\n",
       "\t\t<td>0</td>\n",
       "\t\t<td>0</td>\n",
       "\t\t<td>0</td>\n",
       "\t\t<td>273</td>\n",
       "\t\t<td>8</td>\n",
       "\t\t<td>-0.2149054398362213</td>\n",
       "\t\t<td>-0.20628870793508589</td>\n",
       "\t\t<td>-0.16268513192952513</td>\n",
       "\t\t<td>0.5204572691783166</td>\n",
       "\t\t<td>-0.06014585602497977</td>\n",
       "\t</tr>\n",
       "\t<tr>\n",
       "\t\t<td>1</td>\n",
       "\t\t<td>0</td>\n",
       "\t\t<td>0</td>\n",
       "\t\t<td>0</td>\n",
       "\t\t<td>0</td>\n",
       "\t\t<td>0</td>\n",
       "\t\t<td>170</td>\n",
       "\t\t<td>16</td>\n",
       "\t\t<td>-0.6835318394790826</td>\n",
       "\t\t<td>-0.6721619332293371</td>\n",
       "\t\t<td>-0.6335010557596744</td>\n",
       "\t\t<td>0.1405893274995159</td>\n",
       "\t\t<td>-0.5065523676969578</td>\n",
       "\t</tr>\n",
       "\t<tr>\n",
       "\t\t<td>1</td>\n",
       "\t\t<td>0</td>\n",
       "\t\t<td>0</td>\n",
       "\t\t<td>0</td>\n",
       "\t\t<td>0</td>\n",
       "\t\t<td>0</td>\n",
       "\t\t<td>90</td>\n",
       "\t\t<td>24</td>\n",
       "\t\t<td>-0.9998546592380139</td>\n",
       "\t\t<td>-0.9971897648299776</td>\n",
       "\t\t<td>-0.9669956684726967</td>\n",
       "\t\t<td>-0.30636167622043536</td>\n",
       "\t\t<td>-0.9552712358906827</td>\n",
       "\t</tr>\n",
       "\t<tr>\n",
       "\t\t<td>0</td>\n",
       "\t\t<td>1</td>\n",
       "\t\t<td>0</td>\n",
       "\t\t<td>0</td>\n",
       "\t\t<td>0</td>\n",
       "\t\t<td>0</td>\n",
       "\t\t<td>700</td>\n",
       "\t\t<td>80</td>\n",
       "\t\t<td>1.132395459137005</td>\n",
       "\t\t<td>1.0938226184674757</td>\n",
       "\t\t<td>0.9555026871670791</td>\n",
       "\t\t<td>0.4636566845183071</td>\n",
       "\t\t<td>1.2302707860846118</td>\n",
       "\t</tr>\n",
       "</table></html>"
      ],
      "text/plain": [
       "   Species_1  Species_2  Species_6  Species_0  Species_5  Species_4  Weight  id   Length1   Length2   Length3    Height     Width\n",
       "0          0          0          0          1          0          0     575  18  0.757494  0.768795  0.965311  1.427583  0.807292\n",
       "1          0          1          0          0          0          0     900  48  1.366709  1.310508  1.151676  0.531368  1.978014\n",
       "2          0          1          0          0          0          0      85  56 -0.777257 -0.748002 -0.849292 -0.827939 -0.895028\n",
       "3          0          1          0          0          0          0     145  72 -0.332062 -0.314631 -0.407902 -0.537650 -0.254262\n",
       "4          0          1          0          0          0          0    1100  88  1.659600  1.635536  1.465553  0.904860  1.597692\n",
       "5          0          1          0          0          0          0    1000  96  1.800188  1.798050  1.602875  0.860812  2.372697\n",
       "6          1          0          0          0          0          0     273   8 -0.214905 -0.206289 -0.162685  0.520457 -0.060146\n",
       "7          1          0          0          0          0          0     170  16 -0.683532 -0.672162 -0.633501  0.140589 -0.506552\n",
       "8          1          0          0          0          0          0      90  24 -0.999855 -0.997190 -0.966996 -0.306362 -0.955271\n",
       "9          0          1          0          0          0          0     700  80  1.132395  1.093823  0.955503  0.463657  1.230271"
      ]
     },
     "metadata": {},
     "output_type": "display_data"
    },
    {
     "name": "stdout",
     "output_type": "stream",
     "text": [
      "                                                                                                 \r"
     ]
    },
    {
     "data": {
      "text/html": [
       "32 rows X 13 columns"
      ],
      "text/plain": [
       "<IPython.core.display.HTML object>"
      ]
     },
     "metadata": {},
     "output_type": "display_data"
    },
    {
     "name": "stdout",
     "output_type": "stream",
     "text": [
      "                                                                                                 \r"
     ]
    },
    {
     "data": {
      "text/html": [
       "\n",
       "Updated dataset after performing RFE feature selection:"
      ],
      "text/plain": [
       "<IPython.core.display.HTML object>"
      ]
     },
     "metadata": {},
     "output_type": "display_data"
    },
    {
     "data": {
      "text/html": [
       "<style type=\"text/css\">\n",
       "\ttable {border:ridge 5px;}\n",
       "\ttable td {border:inset 1px;}\n",
       "\ttable tr#HeaderRow {background-color:grey; color:white;}</style>\n",
       "<html><table>\n",
       "\t<tr id=\"HeaderRow\">\n",
       "\t\t<th>id</th>\n",
       "\t\t<th>Species_1</th>\n",
       "\t\t<th>Species_2</th>\n",
       "\t\t<th>Species_6</th>\n",
       "\t\t<th>Species_5</th>\n",
       "\t\t<th>Species_0</th>\n",
       "\t\t<th>Species_4</th>\n",
       "\t\t<th>Species_3</th>\n",
       "\t\t<th>Length1</th>\n",
       "\t\t<th>Length2</th>\n",
       "\t\t<th>Length3</th>\n",
       "\t\t<th>Height</th>\n",
       "\t\t<th>Width</th>\n",
       "\t\t<th>Weight</th>\n",
       "\t</tr>\n",
       "\t<tr>\n",
       "\t\t<td>24</td>\n",
       "\t\t<td>1</td>\n",
       "\t\t<td>0</td>\n",
       "\t\t<td>0</td>\n",
       "\t\t<td>0</td>\n",
       "\t\t<td>0</td>\n",
       "\t\t<td>0</td>\n",
       "\t\t<td>0</td>\n",
       "\t\t<td>16.3</td>\n",
       "\t\t<td>17.7</td>\n",
       "\t\t<td>19.8</td>\n",
       "\t\t<td>7.4052</td>\n",
       "\t\t<td>2.673</td>\n",
       "\t\t<td>90</td>\n",
       "\t</tr>\n",
       "\t<tr>\n",
       "\t\t<td>34</td>\n",
       "\t\t<td>0</td>\n",
       "\t\t<td>0</td>\n",
       "\t\t<td>0</td>\n",
       "\t\t<td>0</td>\n",
       "\t\t<td>1</td>\n",
       "\t\t<td>0</td>\n",
       "\t\t<td>0</td>\n",
       "\t\t<td>31.8</td>\n",
       "\t\t<td>35.0</td>\n",
       "\t\t<td>40.9</td>\n",
       "\t\t<td>16.36</td>\n",
       "\t\t<td>6.0532</td>\n",
       "\t\t<td>725</td>\n",
       "\t</tr>\n",
       "\t<tr>\n",
       "\t\t<td>18</td>\n",
       "\t\t<td>0</td>\n",
       "\t\t<td>0</td>\n",
       "\t\t<td>0</td>\n",
       "\t\t<td>0</td>\n",
       "\t\t<td>1</td>\n",
       "\t\t<td>0</td>\n",
       "\t\t<td>0</td>\n",
       "\t\t<td>31.3</td>\n",
       "\t\t<td>34.0</td>\n",
       "\t\t<td>39.5</td>\n",
       "\t\t<td>15.1285</td>\n",
       "\t\t<td>5.5695</td>\n",
       "\t\t<td>575</td>\n",
       "\t</tr>\n",
       "\t<tr>\n",
       "\t\t<td>10</td>\n",
       "\t\t<td>0</td>\n",
       "\t\t<td>0</td>\n",
       "\t\t<td>0</td>\n",
       "\t\t<td>0</td>\n",
       "\t\t<td>1</td>\n",
       "\t\t<td>0</td>\n",
       "\t\t<td>0</td>\n",
       "\t\t<td>28.5</td>\n",
       "\t\t<td>30.7</td>\n",
       "\t\t<td>36.2</td>\n",
       "\t\t<td>14.2266</td>\n",
       "\t\t<td>4.9594</td>\n",
       "\t\t<td>500</td>\n",
       "\t</tr>\n",
       "\t<tr>\n",
       "\t\t<td>56</td>\n",
       "\t\t<td>0</td>\n",
       "\t\t<td>1</td>\n",
       "\t\t<td>0</td>\n",
       "\t\t<td>0</td>\n",
       "\t\t<td>0</td>\n",
       "\t\t<td>0</td>\n",
       "\t\t<td>0</td>\n",
       "\t\t<td>18.2</td>\n",
       "\t\t<td>20.0</td>\n",
       "\t\t<td>21.0</td>\n",
       "\t\t<td>5.082</td>\n",
       "\t\t<td>2.772</td>\n",
       "\t\t<td>85</td>\n",
       "\t</tr>\n",
       "\t<tr>\n",
       "\t\t<td>72</td>\n",
       "\t\t<td>0</td>\n",
       "\t\t<td>1</td>\n",
       "\t\t<td>0</td>\n",
       "\t\t<td>0</td>\n",
       "\t\t<td>0</td>\n",
       "\t\t<td>0</td>\n",
       "\t\t<td>0</td>\n",
       "\t\t<td>22.0</td>\n",
       "\t\t<td>24.0</td>\n",
       "\t\t<td>25.5</td>\n",
       "\t\t<td>6.375</td>\n",
       "\t\t<td>3.825</td>\n",
       "\t\t<td>145</td>\n",
       "\t</tr>\n",
       "\t<tr>\n",
       "\t\t<td>80</td>\n",
       "\t\t<td>0</td>\n",
       "\t\t<td>1</td>\n",
       "\t\t<td>0</td>\n",
       "\t\t<td>0</td>\n",
       "\t\t<td>0</td>\n",
       "\t\t<td>0</td>\n",
       "\t\t<td>0</td>\n",
       "\t\t<td>34.5</td>\n",
       "\t\t<td>37.0</td>\n",
       "\t\t<td>39.4</td>\n",
       "\t\t<td>10.835</td>\n",
       "\t\t<td>6.2646</td>\n",
       "\t\t<td>700</td>\n",
       "\t</tr>\n",
       "\t<tr>\n",
       "\t\t<td>88</td>\n",
       "\t\t<td>0</td>\n",
       "\t\t<td>1</td>\n",
       "\t\t<td>0</td>\n",
       "\t\t<td>0</td>\n",
       "\t\t<td>0</td>\n",
       "\t\t<td>0</td>\n",
       "\t\t<td>0</td>\n",
       "\t\t<td>39.0</td>\n",
       "\t\t<td>42.0</td>\n",
       "\t\t<td>44.6</td>\n",
       "\t\t<td>12.8002</td>\n",
       "\t\t<td>6.8684</td>\n",
       "\t\t<td>1100</td>\n",
       "\t</tr>\n",
       "\t<tr>\n",
       "\t\t<td>96</td>\n",
       "\t\t<td>0</td>\n",
       "\t\t<td>1</td>\n",
       "\t\t<td>0</td>\n",
       "\t\t<td>0</td>\n",
       "\t\t<td>0</td>\n",
       "\t\t<td>0</td>\n",
       "\t\t<td>0</td>\n",
       "\t\t<td>40.2</td>\n",
       "\t\t<td>43.5</td>\n",
       "\t\t<td>46.0</td>\n",
       "\t\t<td>12.604</td>\n",
       "\t\t<td>8.142</td>\n",
       "\t\t<td>1000</td>\n",
       "\t</tr>\n",
       "\t<tr>\n",
       "\t\t<td>48</td>\n",
       "\t\t<td>0</td>\n",
       "\t\t<td>1</td>\n",
       "\t\t<td>0</td>\n",
       "\t\t<td>0</td>\n",
       "\t\t<td>0</td>\n",
       "\t\t<td>0</td>\n",
       "\t\t<td>0</td>\n",
       "\t\t<td>36.5</td>\n",
       "\t\t<td>39.0</td>\n",
       "\t\t<td>41.4</td>\n",
       "\t\t<td>11.1366</td>\n",
       "\t\t<td>7.4934</td>\n",
       "\t\t<td>900</td>\n",
       "\t</tr>\n",
       "</table></html>"
      ],
      "text/plain": [
       "           id  Species_2  Species_6  Species_5  Species_0  Species_4  Species_3  Length1  Length2  Length3   Height   Width  Weight\n",
       "Species_1                                                                                                                          \n",
       "1          24          0          0          0          0          0          0     16.3     17.7     19.8   7.4052  2.6730      90\n",
       "0          34          0          0          0          1          0          0     31.8     35.0     40.9  16.3600  6.0532     725\n",
       "0          18          0          0          0          1          0          0     31.3     34.0     39.5  15.1285  5.5695     575\n",
       "0          10          0          0          0          1          0          0     28.5     30.7     36.2  14.2266  4.9594     500\n",
       "0          56          1          0          0          0          0          0     18.2     20.0     21.0   5.0820  2.7720      85\n",
       "0          72          1          0          0          0          0          0     22.0     24.0     25.5   6.3750  3.8250     145\n",
       "0          80          1          0          0          0          0          0     34.5     37.0     39.4  10.8350  6.2646     700\n",
       "0          88          1          0          0          0          0          0     39.0     42.0     44.6  12.8002  6.8684    1100\n",
       "0          96          1          0          0          0          0          0     40.2     43.5     46.0  12.6040  8.1420    1000\n",
       "0          48          1          0          0          0          0          0     36.5     39.0     41.4  11.1366  7.4934     900"
      ]
     },
     "metadata": {},
     "output_type": "display_data"
    },
    {
     "name": "stdout",
     "output_type": "stream",
     "text": [
      "                                                                                                 \r"
     ]
    },
    {
     "data": {
      "text/html": [
       "32 rows X 14 columns"
      ],
      "text/plain": [
       "<IPython.core.display.HTML object>"
      ]
     },
     "metadata": {},
     "output_type": "display_data"
    },
    {
     "name": "stdout",
     "output_type": "stream",
     "text": [
      "                                                                                                 \r"
     ]
    },
    {
     "data": {
      "text/html": [
       "\n",
       "Updated dataset after performing scaling on RFE selected features :"
      ],
      "text/plain": [
       "<IPython.core.display.HTML object>"
      ]
     },
     "metadata": {},
     "output_type": "display_data"
    },
    {
     "data": {
      "text/html": [
       "<style type=\"text/css\">\n",
       "\ttable {border:ridge 5px;}\n",
       "\ttable td {border:inset 1px;}\n",
       "\ttable tr#HeaderRow {background-color:grey; color:white;}</style>\n",
       "<html><table>\n",
       "\t<tr id=\"HeaderRow\">\n",
       "\t\t<th>r_Species_6</th>\n",
       "\t\t<th>Weight</th>\n",
       "\t\t<th>r_Species_2</th>\n",
       "\t\t<th>r_Species_0</th>\n",
       "\t\t<th>r_Species_5</th>\n",
       "\t\t<th>id</th>\n",
       "\t\t<th>r_Species_1</th>\n",
       "\t\t<th>r_Species_3</th>\n",
       "\t\t<th>r_Species_4</th>\n",
       "\t\t<th>r_Length1</th>\n",
       "\t\t<th>r_Length2</th>\n",
       "\t\t<th>r_Length3</th>\n",
       "\t\t<th>r_Height</th>\n",
       "\t\t<th>r_Width</th>\n",
       "\t</tr>\n",
       "\t<tr>\n",
       "\t\t<td>0</td>\n",
       "\t\t<td>575</td>\n",
       "\t\t<td>0</td>\n",
       "\t\t<td>1</td>\n",
       "\t\t<td>0</td>\n",
       "\t\t<td>18</td>\n",
       "\t\t<td>0</td>\n",
       "\t\t<td>0</td>\n",
       "\t\t<td>0</td>\n",
       "\t\t<td>0.757494339422716</td>\n",
       "\t\t<td>0.7687947868668352</td>\n",
       "\t\t<td>0.965311352246874</td>\n",
       "\t\t<td>1.427582811940253</td>\n",
       "\t\t<td>0.8072920970671746</td>\n",
       "\t</tr>\n",
       "\t<tr>\n",
       "\t\t<td>0</td>\n",
       "\t\t<td>900</td>\n",
       "\t\t<td>1</td>\n",
       "\t\t<td>0</td>\n",
       "\t\t<td>0</td>\n",
       "\t\t<td>48</td>\n",
       "\t\t<td>0</td>\n",
       "\t\t<td>0</td>\n",
       "\t\t<td>0</td>\n",
       "\t\t<td>1.3667086589584356</td>\n",
       "\t\t<td>1.3105078395345693</td>\n",
       "\t\t<td>1.1516759887629746</td>\n",
       "\t\t<td>0.5313683696307928</td>\n",
       "\t\t<td>1.978013863432658</td>\n",
       "\t</tr>\n",
       "\t<tr>\n",
       "\t\t<td>0</td>\n",
       "\t\t<td>85</td>\n",
       "\t\t<td>1</td>\n",
       "\t\t<td>0</td>\n",
       "\t\t<td>0</td>\n",
       "\t\t<td>56</td>\n",
       "\t\t<td>0</td>\n",
       "\t\t<td>0</td>\n",
       "\t\t<td>0</td>\n",
       "\t\t<td>-0.777257119407655</td>\n",
       "\t\t<td>-0.7480017606028199</td>\n",
       "\t\t<td>-0.8492916875151594</td>\n",
       "\t\t<td>-0.8279392188375693</td>\n",
       "\t\t<td>-0.8950282633504351</td>\n",
       "\t</tr>\n",
       "\t<tr>\n",
       "\t\t<td>0</td>\n",
       "\t\t<td>145</td>\n",
       "\t\t<td>1</td>\n",
       "\t\t<td>0</td>\n",
       "\t\t<td>0</td>\n",
       "\t\t<td>72</td>\n",
       "\t\t<td>0</td>\n",
       "\t\t<td>0</td>\n",
       "\t\t<td>0</td>\n",
       "\t\t<td>-0.3320620397469366</td>\n",
       "\t\t<td>-0.3146313184686327</td>\n",
       "\t\t<td>-0.4079017589243945</td>\n",
       "\t\t<td>-0.5376500648241592</td>\n",
       "\t\t<td>-0.2542621008768895</td>\n",
       "\t</tr>\n",
       "\t<tr>\n",
       "\t\t<td>0</td>\n",
       "\t\t<td>1100</td>\n",
       "\t\t<td>1</td>\n",
       "\t\t<td>0</td>\n",
       "\t\t<td>0</td>\n",
       "\t\t<td>88</td>\n",
       "\t\t<td>0</td>\n",
       "\t\t<td>0</td>\n",
       "\t\t<td>0</td>\n",
       "\t\t<td>1.659600158735224</td>\n",
       "\t\t<td>1.6355356711352096</td>\n",
       "\t\t<td>1.4655532713164077</td>\n",
       "\t\t<td>0.9048602773003281</td>\n",
       "\t\t<td>1.5976920670927097</td>\n",
       "\t</tr>\n",
       "\t<tr>\n",
       "\t\t<td>0</td>\n",
       "\t\t<td>1000</td>\n",
       "\t\t<td>1</td>\n",
       "\t\t<td>0</td>\n",
       "\t\t<td>0</td>\n",
       "\t\t<td>96</td>\n",
       "\t\t<td>0</td>\n",
       "\t\t<td>0</td>\n",
       "\t\t<td>0</td>\n",
       "\t\t<td>1.8001880786280826</td>\n",
       "\t\t<td>1.7980495869355297</td>\n",
       "\t\t<td>1.6028745824335344</td>\n",
       "\t\t<td>0.8608117606588499</td>\n",
       "\t\t<td>2.372696610802403</td>\n",
       "\t</tr>\n",
       "\t<tr>\n",
       "\t\t<td>0</td>\n",
       "\t\t<td>273</td>\n",
       "\t\t<td>0</td>\n",
       "\t\t<td>0</td>\n",
       "\t\t<td>0</td>\n",
       "\t\t<td>8</td>\n",
       "\t\t<td>1</td>\n",
       "\t\t<td>0</td>\n",
       "\t\t<td>0</td>\n",
       "\t\t<td>-0.2149054398362213</td>\n",
       "\t\t<td>-0.20628870793508589</td>\n",
       "\t\t<td>-0.16268513192952513</td>\n",
       "\t\t<td>0.5204572691783166</td>\n",
       "\t\t<td>-0.06014585602497977</td>\n",
       "\t</tr>\n",
       "\t<tr>\n",
       "\t\t<td>0</td>\n",
       "\t\t<td>170</td>\n",
       "\t\t<td>0</td>\n",
       "\t\t<td>0</td>\n",
       "\t\t<td>0</td>\n",
       "\t\t<td>16</td>\n",
       "\t\t<td>1</td>\n",
       "\t\t<td>0</td>\n",
       "\t\t<td>0</td>\n",
       "\t\t<td>-0.6835318394790826</td>\n",
       "\t\t<td>-0.6721619332293371</td>\n",
       "\t\t<td>-0.6335010557596744</td>\n",
       "\t\t<td>0.1405893274995159</td>\n",
       "\t\t<td>-0.5065523676969578</td>\n",
       "\t</tr>\n",
       "\t<tr>\n",
       "\t\t<td>0</td>\n",
       "\t\t<td>90</td>\n",
       "\t\t<td>0</td>\n",
       "\t\t<td>0</td>\n",
       "\t\t<td>0</td>\n",
       "\t\t<td>24</td>\n",
       "\t\t<td>1</td>\n",
       "\t\t<td>0</td>\n",
       "\t\t<td>0</td>\n",
       "\t\t<td>-0.9998546592380139</td>\n",
       "\t\t<td>-0.9971897648299776</td>\n",
       "\t\t<td>-0.9669956684726967</td>\n",
       "\t\t<td>-0.30636167622043536</td>\n",
       "\t\t<td>-0.9552712358906827</td>\n",
       "\t</tr>\n",
       "\t<tr>\n",
       "\t\t<td>0</td>\n",
       "\t\t<td>700</td>\n",
       "\t\t<td>1</td>\n",
       "\t\t<td>0</td>\n",
       "\t\t<td>0</td>\n",
       "\t\t<td>80</td>\n",
       "\t\t<td>0</td>\n",
       "\t\t<td>0</td>\n",
       "\t\t<td>0</td>\n",
       "\t\t<td>1.132395459137005</td>\n",
       "\t\t<td>1.0938226184674757</td>\n",
       "\t\t<td>0.9555026871670791</td>\n",
       "\t\t<td>0.4636566845183071</td>\n",
       "\t\t<td>1.2302707860846118</td>\n",
       "\t</tr>\n",
       "</table></html>"
      ],
      "text/plain": [
       "   r_Species_6  Weight  r_Species_2  r_Species_0  r_Species_5  id  r_Species_1  r_Species_3  r_Species_4  r_Length1  r_Length2  r_Length3  r_Height   r_Width\n",
       "0            0     575            0            1            0  18            0            0            0   0.757494   0.768795   0.965311  1.427583  0.807292\n",
       "1            0     900            1            0            0  48            0            0            0   1.366709   1.310508   1.151676  0.531368  1.978014\n",
       "2            0      85            1            0            0  56            0            0            0  -0.777257  -0.748002  -0.849292 -0.827939 -0.895028\n",
       "3            0     145            1            0            0  72            0            0            0  -0.332062  -0.314631  -0.407902 -0.537650 -0.254262\n",
       "4            0    1100            1            0            0  88            0            0            0   1.659600   1.635536   1.465553  0.904860  1.597692\n",
       "5            0    1000            1            0            0  96            0            0            0   1.800188   1.798050   1.602875  0.860812  2.372697\n",
       "6            0     273            0            0            0   8            1            0            0  -0.214905  -0.206289  -0.162685  0.520457 -0.060146\n",
       "7            0     170            0            0            0  16            1            0            0  -0.683532  -0.672162  -0.633501  0.140589 -0.506552\n",
       "8            0      90            0            0            0  24            1            0            0  -0.999855  -0.997190  -0.966996 -0.306362 -0.955271\n",
       "9            0     700            1            0            0  80            0            0            0   1.132395   1.093823   0.955503  0.463657  1.230271"
      ]
     },
     "metadata": {},
     "output_type": "display_data"
    },
    {
     "name": "stdout",
     "output_type": "stream",
     "text": [
      "                                                                                                 \r"
     ]
    },
    {
     "data": {
      "text/html": [
       "32 rows X 14 columns"
      ],
      "text/plain": [
       "<IPython.core.display.HTML object>"
      ]
     },
     "metadata": {},
     "output_type": "display_data"
    },
    {
     "name": "stdout",
     "output_type": "stream",
     "text": [
      "                                                                                                 \r"
     ]
    },
    {
     "data": {
      "text/html": [
       "\n",
       "Updated dataset after performing scaling for PCA feature selection :"
      ],
      "text/plain": [
       "<IPython.core.display.HTML object>"
      ]
     },
     "metadata": {},
     "output_type": "display_data"
    },
    {
     "data": {
      "text/html": [
       "<style type=\"text/css\">\n",
       "\ttable {border:ridge 5px;}\n",
       "\ttable td {border:inset 1px;}\n",
       "\ttable tr#HeaderRow {background-color:grey; color:white;}</style>\n",
       "<html><table>\n",
       "\t<tr id=\"HeaderRow\">\n",
       "\t\t<th>Species_1</th>\n",
       "\t\t<th>Species_2</th>\n",
       "\t\t<th>Species_6</th>\n",
       "\t\t<th>Species_5</th>\n",
       "\t\t<th>Species_0</th>\n",
       "\t\t<th>Species_4</th>\n",
       "\t\t<th>Weight</th>\n",
       "\t\t<th>id</th>\n",
       "\t\t<th>Species_3</th>\n",
       "\t\t<th>Length1</th>\n",
       "\t\t<th>Length2</th>\n",
       "\t\t<th>Length3</th>\n",
       "\t\t<th>Height</th>\n",
       "\t\t<th>Width</th>\n",
       "\t</tr>\n",
       "\t<tr>\n",
       "\t\t<td>1</td>\n",
       "\t\t<td>0</td>\n",
       "\t\t<td>0</td>\n",
       "\t\t<td>0</td>\n",
       "\t\t<td>0</td>\n",
       "\t\t<td>0</td>\n",
       "\t\t<td>90</td>\n",
       "\t\t<td>24</td>\n",
       "\t\t<td>0</td>\n",
       "\t\t<td>-0.9998546592380141</td>\n",
       "\t\t<td>-0.9971897648299776</td>\n",
       "\t\t<td>-0.9669956684726975</td>\n",
       "\t\t<td>-0.30636167622043536</td>\n",
       "\t\t<td>-0.9552712358906827</td>\n",
       "\t</tr>\n",
       "\t<tr>\n",
       "\t\t<td>0</td>\n",
       "\t\t<td>0</td>\n",
       "\t\t<td>0</td>\n",
       "\t\t<td>0</td>\n",
       "\t\t<td>1</td>\n",
       "\t\t<td>0</td>\n",
       "\t\t<td>725</td>\n",
       "\t\t<td>34</td>\n",
       "\t\t<td>0</td>\n",
       "\t\t<td>0.8160726393780738</td>\n",
       "\t\t<td>0.8771373974003821</td>\n",
       "\t\t<td>1.1026326633640002</td>\n",
       "\t\t<td>1.7040647092082453</td>\n",
       "\t\t<td>1.101630741690588</td>\n",
       "\t</tr>\n",
       "\t<tr>\n",
       "\t\t<td>0</td>\n",
       "\t\t<td>0</td>\n",
       "\t\t<td>0</td>\n",
       "\t\t<td>0</td>\n",
       "\t\t<td>1</td>\n",
       "\t\t<td>0</td>\n",
       "\t\t<td>575</td>\n",
       "\t\t<td>18</td>\n",
       "\t\t<td>0</td>\n",
       "\t\t<td>0.7574943394227162</td>\n",
       "\t\t<td>0.7687947868668352</td>\n",
       "\t\t<td>0.9653113522468735</td>\n",
       "\t\t<td>1.427582811940253</td>\n",
       "\t\t<td>0.8072920970671746</td>\n",
       "\t</tr>\n",
       "\t<tr>\n",
       "\t\t<td>0</td>\n",
       "\t\t<td>0</td>\n",
       "\t\t<td>0</td>\n",
       "\t\t<td>0</td>\n",
       "\t\t<td>1</td>\n",
       "\t\t<td>0</td>\n",
       "\t\t<td>500</td>\n",
       "\t\t<td>10</td>\n",
       "\t\t<td>0</td>\n",
       "\t\t<td>0.4294558596727131</td>\n",
       "\t\t<td>0.41126417210613075</td>\n",
       "\t\t<td>0.6416254046136461</td>\n",
       "\t\t<td>1.2250988304981068</td>\n",
       "\t\t<td>0.43603717235197037</td>\n",
       "\t</tr>\n",
       "\t<tr>\n",
       "\t\t<td>0</td>\n",
       "\t\t<td>1</td>\n",
       "\t\t<td>0</td>\n",
       "\t\t<td>0</td>\n",
       "\t\t<td>0</td>\n",
       "\t\t<td>0</td>\n",
       "\t\t<td>85</td>\n",
       "\t\t<td>56</td>\n",
       "\t\t<td>0</td>\n",
       "\t\t<td>-0.7772571194076551</td>\n",
       "\t\t<td>-0.7480017606028199</td>\n",
       "\t\t<td>-0.8492916875151603</td>\n",
       "\t\t<td>-0.8279392188375693</td>\n",
       "\t\t<td>-0.8950282633504351</td>\n",
       "\t</tr>\n",
       "\t<tr>\n",
       "\t\t<td>0</td>\n",
       "\t\t<td>1</td>\n",
       "\t\t<td>0</td>\n",
       "\t\t<td>0</td>\n",
       "\t\t<td>0</td>\n",
       "\t\t<td>0</td>\n",
       "\t\t<td>145</td>\n",
       "\t\t<td>72</td>\n",
       "\t\t<td>0</td>\n",
       "\t\t<td>-0.33206203974693665</td>\n",
       "\t\t<td>-0.3146313184686327</td>\n",
       "\t\t<td>-0.4079017589243953</td>\n",
       "\t\t<td>-0.5376500648241592</td>\n",
       "\t\t<td>-0.2542621008768895</td>\n",
       "\t</tr>\n",
       "\t<tr>\n",
       "\t\t<td>0</td>\n",
       "\t\t<td>1</td>\n",
       "\t\t<td>0</td>\n",
       "\t\t<td>0</td>\n",
       "\t\t<td>0</td>\n",
       "\t\t<td>0</td>\n",
       "\t\t<td>700</td>\n",
       "\t\t<td>80</td>\n",
       "\t\t<td>0</td>\n",
       "\t\t<td>1.1323954591370051</td>\n",
       "\t\t<td>1.0938226184674757</td>\n",
       "\t\t<td>0.9555026871670785</td>\n",
       "\t\t<td>0.4636566845183071</td>\n",
       "\t\t<td>1.2302707860846118</td>\n",
       "\t</tr>\n",
       "\t<tr>\n",
       "\t\t<td>0</td>\n",
       "\t\t<td>1</td>\n",
       "\t\t<td>0</td>\n",
       "\t\t<td>0</td>\n",
       "\t\t<td>0</td>\n",
       "\t\t<td>0</td>\n",
       "\t\t<td>1100</td>\n",
       "\t\t<td>88</td>\n",
       "\t\t<td>0</td>\n",
       "\t\t<td>1.6596001587352243</td>\n",
       "\t\t<td>1.6355356711352096</td>\n",
       "\t\t<td>1.4655532713164072</td>\n",
       "\t\t<td>0.9048602773003281</td>\n",
       "\t\t<td>1.5976920670927097</td>\n",
       "\t</tr>\n",
       "\t<tr>\n",
       "\t\t<td>0</td>\n",
       "\t\t<td>1</td>\n",
       "\t\t<td>0</td>\n",
       "\t\t<td>0</td>\n",
       "\t\t<td>0</td>\n",
       "\t\t<td>0</td>\n",
       "\t\t<td>1000</td>\n",
       "\t\t<td>96</td>\n",
       "\t\t<td>0</td>\n",
       "\t\t<td>1.800188078628083</td>\n",
       "\t\t<td>1.7980495869355297</td>\n",
       "\t\t<td>1.602874582433534</td>\n",
       "\t\t<td>0.8608117606588499</td>\n",
       "\t\t<td>2.372696610802403</td>\n",
       "\t</tr>\n",
       "\t<tr>\n",
       "\t\t<td>0</td>\n",
       "\t\t<td>1</td>\n",
       "\t\t<td>0</td>\n",
       "\t\t<td>0</td>\n",
       "\t\t<td>0</td>\n",
       "\t\t<td>0</td>\n",
       "\t\t<td>900</td>\n",
       "\t\t<td>48</td>\n",
       "\t\t<td>0</td>\n",
       "\t\t<td>1.3667086589584359</td>\n",
       "\t\t<td>1.3105078395345693</td>\n",
       "\t\t<td>1.1516759887629742</td>\n",
       "\t\t<td>0.5313683696307928</td>\n",
       "\t\t<td>1.978013863432658</td>\n",
       "\t</tr>\n",
       "</table></html>"
      ],
      "text/plain": [
       "   Species_1  Species_2  Species_6  Species_5  Species_0  Species_4  Weight  id  Species_3   Length1   Length2   Length3    Height     Width\n",
       "0          1          0          0          0          0          0      90  24          0 -0.999855 -0.997190 -0.966996 -0.306362 -0.955271\n",
       "1          0          0          0          0          1          0     725  34          0  0.816073  0.877137  1.102633  1.704065  1.101631\n",
       "2          0          0          0          0          1          0     575  18          0  0.757494  0.768795  0.965311  1.427583  0.807292\n",
       "3          0          0          0          0          1          0     500  10          0  0.429456  0.411264  0.641625  1.225099  0.436037\n",
       "4          0          1          0          0          0          0      85  56          0 -0.777257 -0.748002 -0.849292 -0.827939 -0.895028\n",
       "5          0          1          0          0          0          0     145  72          0 -0.332062 -0.314631 -0.407902 -0.537650 -0.254262\n",
       "6          0          1          0          0          0          0     700  80          0  1.132395  1.093823  0.955503  0.463657  1.230271\n",
       "7          0          1          0          0          0          0    1100  88          0  1.659600  1.635536  1.465553  0.904860  1.597692\n",
       "8          0          1          0          0          0          0    1000  96          0  1.800188  1.798050  1.602875  0.860812  2.372697\n",
       "9          0          1          0          0          0          0     900  48          0  1.366709  1.310508  1.151676  0.531368  1.978014"
      ]
     },
     "metadata": {},
     "output_type": "display_data"
    },
    {
     "name": "stdout",
     "output_type": "stream",
     "text": [
      "                                                                                                 \r"
     ]
    },
    {
     "data": {
      "text/html": [
       "32 rows X 14 columns"
      ],
      "text/plain": [
       "<IPython.core.display.HTML object>"
      ]
     },
     "metadata": {},
     "output_type": "display_data"
    },
    {
     "name": "stdout",
     "output_type": "stream",
     "text": [
      "                                                                                                 \r"
     ]
    },
    {
     "data": {
      "text/html": [
       "\n",
       "Updated dataset after performing PCA feature selection :"
      ],
      "text/plain": [
       "<IPython.core.display.HTML object>"
      ]
     },
     "metadata": {},
     "output_type": "display_data"
    },
    {
     "data": {
      "text/html": [
       "<div>\n",
       "<style scoped>\n",
       "    .dataframe tbody tr th:only-of-type {\n",
       "        vertical-align: middle;\n",
       "    }\n",
       "\n",
       "    .dataframe tbody tr th {\n",
       "        vertical-align: top;\n",
       "    }\n",
       "\n",
       "    .dataframe thead th {\n",
       "        text-align: right;\n",
       "    }\n",
       "</style>\n",
       "<table border=\"1\" class=\"dataframe\">\n",
       "  <thead>\n",
       "    <tr style=\"text-align: right;\">\n",
       "      <th></th>\n",
       "      <th>id</th>\n",
       "      <th>col_0</th>\n",
       "      <th>col_1</th>\n",
       "      <th>col_2</th>\n",
       "      <th>col_3</th>\n",
       "      <th>Weight</th>\n",
       "    </tr>\n",
       "  </thead>\n",
       "  <tbody>\n",
       "    <tr>\n",
       "      <th>0</th>\n",
       "      <td>8</td>\n",
       "      <td>0.115677</td>\n",
       "      <td>-0.611270</td>\n",
       "      <td>-0.017106</td>\n",
       "      <td>0.076870</td>\n",
       "      <td>273</td>\n",
       "    </tr>\n",
       "    <tr>\n",
       "      <th>1</th>\n",
       "      <td>50</td>\n",
       "      <td>-3.242292</td>\n",
       "      <td>-1.046575</td>\n",
       "      <td>0.087476</td>\n",
       "      <td>-0.143496</td>\n",
       "      <td>920</td>\n",
       "    </tr>\n",
       "    <tr>\n",
       "      <th>2</th>\n",
       "      <td>16</td>\n",
       "      <td>1.105625</td>\n",
       "      <td>-0.666388</td>\n",
       "      <td>-0.031383</td>\n",
       "      <td>0.047767</td>\n",
       "      <td>170</td>\n",
       "    </tr>\n",
       "    <tr>\n",
       "      <th>3</th>\n",
       "      <td>34</td>\n",
       "      <td>-2.537278</td>\n",
       "      <td>-1.027536</td>\n",
       "      <td>0.011648</td>\n",
       "      <td>-0.107204</td>\n",
       "      <td>725</td>\n",
       "    </tr>\n",
       "    <tr>\n",
       "      <th>4</th>\n",
       "      <td>24</td>\n",
       "      <td>1.927638</td>\n",
       "      <td>-0.582409</td>\n",
       "      <td>0.054400</td>\n",
       "      <td>-0.003428</td>\n",
       "      <td>90</td>\n",
       "    </tr>\n",
       "    <tr>\n",
       "      <th>5</th>\n",
       "      <td>18</td>\n",
       "      <td>-2.157075</td>\n",
       "      <td>-0.906958</td>\n",
       "      <td>0.131781</td>\n",
       "      <td>-0.161331</td>\n",
       "      <td>575</td>\n",
       "    </tr>\n",
       "    <tr>\n",
       "      <th>6</th>\n",
       "      <td>10</td>\n",
       "      <td>-1.451870</td>\n",
       "      <td>-0.999100</td>\n",
       "      <td>0.132479</td>\n",
       "      <td>-0.199819</td>\n",
       "      <td>500</td>\n",
       "    </tr>\n",
       "    <tr>\n",
       "      <th>7</th>\n",
       "      <td>48</td>\n",
       "      <td>-2.826629</td>\n",
       "      <td>0.886842</td>\n",
       "      <td>-0.745693</td>\n",
       "      <td>0.140491</td>\n",
       "      <td>900</td>\n",
       "    </tr>\n",
       "    <tr>\n",
       "      <th>8</th>\n",
       "      <td>56</td>\n",
       "      <td>1.816076</td>\n",
       "      <td>0.374067</td>\n",
       "      <td>-0.459557</td>\n",
       "      <td>-0.260857</td>\n",
       "      <td>85</td>\n",
       "    </tr>\n",
       "    <tr>\n",
       "      <th>9</th>\n",
       "      <td>72</td>\n",
       "      <td>0.814612</td>\n",
       "      <td>0.480974</td>\n",
       "      <td>-0.533226</td>\n",
       "      <td>-0.166739</td>\n",
       "      <td>145</td>\n",
       "    </tr>\n",
       "  </tbody>\n",
       "</table>\n",
       "</div>"
      ],
      "text/plain": [
       "   id     col_0     col_1     col_2     col_3  Weight\n",
       "0   8  0.115677 -0.611270 -0.017106  0.076870     273\n",
       "1  50 -3.242292 -1.046575  0.087476 -0.143496     920\n",
       "2  16  1.105625 -0.666388 -0.031383  0.047767     170\n",
       "3  34 -2.537278 -1.027536  0.011648 -0.107204     725\n",
       "4  24  1.927638 -0.582409  0.054400 -0.003428      90\n",
       "5  18 -2.157075 -0.906958  0.131781 -0.161331     575\n",
       "6  10 -1.451870 -0.999100  0.132479 -0.199819     500\n",
       "7  48 -2.826629  0.886842 -0.745693  0.140491     900\n",
       "8  56  1.816076  0.374067 -0.459557 -0.260857      85\n",
       "9  72  0.814612  0.480974 -0.533226 -0.166739     145"
      ]
     },
     "metadata": {},
     "output_type": "display_data"
    },
    {
     "name": "stdout",
     "output_type": "stream",
     "text": [
      "                                                                                                 \r"
     ]
    },
    {
     "data": {
      "text/html": [
       "10 rows X 6 columns"
      ],
      "text/plain": [
       "<IPython.core.display.HTML object>"
      ]
     },
     "metadata": {},
     "output_type": "display_data"
    },
    {
     "name": "stdout",
     "output_type": "stream",
     "text": [
      "Data Transformation completed.⫿⫿⫿⫿⫿⫿⫿⫿⫿⫿⫿⫿⫿⫿⫿⫿⫿⫿⫿⫿⫿⫿⫿⫿⫿⫿⫿⫿⫿⫿⫿⫿⫿⫿⫿⫿⫿⫿⫿⫿⫿⫿｜ 100% - 10/10           \n",
      "\n",
      "Following model is being used for generating prediction :\n",
      "Model ID : DECISIONFOREST_2 \n",
      "Feature Selection Method : pca\n",
      "\n",
      "Prediction : \n",
      "   id  prediction  confidence_lower  confidence_upper  Weight\n",
      "0  16  150.000000        150.000000        150.000000     170\n",
      "1  24   89.000000         89.000000         89.000000      90\n",
      "2  18  660.000000        660.000000        660.000000     575\n",
      "3  10  494.500000        494.500000        494.500000     500\n",
      "4  56   89.000000         89.000000         89.000000      85\n",
      "5  72  165.000000        165.000000        165.000000     145\n",
      "6  48  950.454545        950.454545        950.454545     900\n",
      "7  34  687.000000        687.000000        687.000000     725\n",
      "8  50  950.454545        950.454545        950.454545     920\n",
      "9   8  365.000000        365.000000        365.000000     273\n",
      "\n",
      "Performance Metrics : \n",
      "         MAE           MSE      MSLE  MAPE  MPE        RMSE   RMSLE          ME        R2       EV  MPD  MGD\n",
      "0  88.448153  32944.255892  0.093147   inf -inf  181.505526  0.3052  699.545455  0.826751  0.82969  NaN  inf\n"
     ]
    }
   ],
   "source": [
    "# Generating prediction and metrics on test data\n",
    "prediction = aml.predict(fish_df_test, 2)"
   ]
  },
  {
   "cell_type": "code",
   "execution_count": 24,
   "id": "ead03d63-db8c-4e8e-8ffb-6352824c19c1",
   "metadata": {},
   "outputs": [
    {
     "data": {
      "text/html": [
       "<style type=\"text/css\">\n",
       "\ttable {border:ridge 5px;}\n",
       "\ttable td {border:inset 1px;}\n",
       "\ttable tr#HeaderRow {background-color:grey; color:white;}</style>\n",
       "<html><table>\n",
       "\t<tr id=\"HeaderRow\">\n",
       "\t\t<th>id</th>\n",
       "\t\t<th>prediction</th>\n",
       "\t\t<th>confidence_lower</th>\n",
       "\t\t<th>confidence_upper</th>\n",
       "\t\t<th>Weight</th>\n",
       "\t</tr>\n",
       "\t<tr>\n",
       "\t\t<td>12</td>\n",
       "\t\t<td>123.5</td>\n",
       "\t\t<td>123.5</td>\n",
       "\t\t<td>123.5</td>\n",
       "\t\t<td>0</td>\n",
       "\t</tr>\n",
       "\t<tr>\n",
       "\t\t<td>15</td>\n",
       "\t\t<td>10.0</td>\n",
       "\t\t<td>10.0</td>\n",
       "\t\t<td>10.0</td>\n",
       "\t\t<td>12</td>\n",
       "\t</tr>\n",
       "\t<tr>\n",
       "\t\t<td>16</td>\n",
       "\t\t<td>150.0</td>\n",
       "\t\t<td>150.0</td>\n",
       "\t\t<td>150.0</td>\n",
       "\t\t<td>170</td>\n",
       "\t</tr>\n",
       "\t<tr>\n",
       "\t\t<td>18</td>\n",
       "\t\t<td>660.0</td>\n",
       "\t\t<td>660.0</td>\n",
       "\t\t<td>660.0</td>\n",
       "\t\t<td>575</td>\n",
       "\t</tr>\n",
       "\t<tr>\n",
       "\t\t<td>21</td>\n",
       "\t\t<td>494.5</td>\n",
       "\t\t<td>494.5</td>\n",
       "\t\t<td>494.5</td>\n",
       "\t\t<td>345</td>\n",
       "\t</tr>\n",
       "\t<tr>\n",
       "\t\t<td>23</td>\n",
       "\t\t<td>65.0</td>\n",
       "\t\t<td>65.0</td>\n",
       "\t\t<td>65.0</td>\n",
       "\t\t<td>19</td>\n",
       "\t</tr>\n",
       "\t<tr>\n",
       "\t\t<td>20</td>\n",
       "\t\t<td>301.5</td>\n",
       "\t\t<td>301.5</td>\n",
       "\t\t<td>301.5</td>\n",
       "\t\t<td>272</td>\n",
       "\t</tr>\n",
       "\t<tr>\n",
       "\t\t<td>13</td>\n",
       "\t\t<td>660.0</td>\n",
       "\t\t<td>660.0</td>\n",
       "\t\t<td>660.0</td>\n",
       "\t\t<td>500</td>\n",
       "\t</tr>\n",
       "\t<tr>\n",
       "\t\t<td>10</td>\n",
       "\t\t<td>494.5</td>\n",
       "\t\t<td>494.5</td>\n",
       "\t\t<td>494.5</td>\n",
       "\t\t<td>500</td>\n",
       "\t</tr>\n",
       "\t<tr>\n",
       "\t\t<td>8</td>\n",
       "\t\t<td>365.0</td>\n",
       "\t\t<td>365.0</td>\n",
       "\t\t<td>365.0</td>\n",
       "\t\t<td>273</td>\n",
       "\t</tr>\n",
       "</table></html>"
      ],
      "text/plain": [
       "   id  prediction  confidence_lower  confidence_upper  Weight\n",
       "0  12       123.5             123.5             123.5       0\n",
       "1  15        10.0              10.0              10.0      12\n",
       "2  16       150.0             150.0             150.0     170\n",
       "3  18       660.0             660.0             660.0     575\n",
       "4  21       494.5             494.5             494.5     345\n",
       "5  23        65.0              65.0              65.0      19\n",
       "6  20       301.5             301.5             301.5     272\n",
       "7  13       660.0             660.0             660.0     500\n",
       "8  10       494.5             494.5             494.5     500\n",
       "9   8       365.0             365.0             365.0     273"
      ]
     },
     "execution_count": 24,
     "metadata": {},
     "output_type": "execute_result"
    }
   ],
   "source": [
    "# Printing prediction\n",
    "prediction.head()"
   ]
  },
  {
   "cell_type": "code",
   "execution_count": 25,
   "id": "b2cba357-75ac-4089-a234-64a57067b117",
   "metadata": {},
   "outputs": [
    {
     "data": {
      "text/plain": [
       "True"
      ]
     },
     "execution_count": 25,
     "metadata": {},
     "output_type": "execute_result"
    }
   ],
   "source": [
    "remove_context()"
   ]
  }
 ],
 "metadata": {
  "kernelspec": {
   "display_name": "Python 3 (ipykernel)",
   "language": "python",
   "name": "python3"
  },
  "language_info": {
   "codemirror_mode": {
    "name": "ipython",
    "version": 3
   },
   "file_extension": ".py",
   "mimetype": "text/x-python",
   "name": "python",
   "nbconvert_exporter": "python",
   "pygments_lexer": "ipython3",
   "version": "3.10.9"
  }
 },
 "nbformat": 4,
 "nbformat_minor": 5
}
