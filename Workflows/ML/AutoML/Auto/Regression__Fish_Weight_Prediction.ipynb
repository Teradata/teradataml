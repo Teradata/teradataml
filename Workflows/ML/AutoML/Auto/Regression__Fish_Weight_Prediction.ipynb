{
 "cells": [
  {
   "cell_type": "markdown",
   "id": "2762f1d8-5a66-411f-a625-34cf16ac6dd3",
   "metadata": {},
   "source": [
    "# <b><span style='color:#F1A424'>AutoML - Regression - Fish Weight Prediction </span> </b>"
   ]
  },
  {
   "cell_type": "markdown",
   "id": "a2712c7c-694c-416f-8d97-f5ed5a16315b",
   "metadata": {},
   "source": [
    "### Disclaimer\n",
    "Please note, the Vantage Functions via SQLAlchemy feature is a preview/beta code release with limited functionality (the “Code”). As such, you acknowledge that the Code is experimental in nature and that the Code is provided “AS IS” and may not be functional on any machine or in any environment. TERADATA DISCLAIMS ALL WARRANTIES RELATING TO THE CODE, EXPRESS OR IMPLIED, INCLUDING, BUT NOT LIMITED TO, ANY WARRANTIES AGAINST INFRINGEMENT OF THIRD-PARTY RIGHTS, MERCHANTABILITY AND FITNESS FOR A PARTICULAR PURPOSE.\n",
    "\n",
    "TERADATA SHALL NOT BE RESPONSIBLE OR LIABLE WITH RESPECT TO ANY SUBJECT MATTER OF THE CODE UNDER ANY CONTRACT, NEGLIGENCE, STRICT LIABILITY OR OTHER THEORY \n",
    "    (A) FOR LOSS OR INACCURACY OF DATA OR COST OF PROCUREMENT OF SUBSTITUTE GOODS, SERVICES OR TECHNOLOGY, OR \n",
    "    (B) FOR ANY INDIRECT, INCIDENTAL OR CONSEQUENTIAL DAMAGES INCLUDING, BUT NOT LIMITED TO LOSS OF REVENUES AND LOSS OF PROFITS. TERADATA SHALL NOT BE RESPONSIBLE FOR ANY MATTER BEYOND ITS REASONABLE CONTROL.\n",
    "\n",
    "Notwithstanding anything to the contrary: \n",
    "    (a) Teradata will have no obligation of any kind with respect to any Code-related comments, suggestions, design changes or improvements that you elect to provide to Teradata in either verbal or written form (collectively, “Feedback”), and \n",
    "    (b) Teradata and its affiliates are hereby free to use any ideas, concepts, know-how or techniques, in whole or in part, contained in Feedback: \n",
    "        (i) for any purpose whatsoever, including developing, manufacturing, and/or marketing products and/or services incorporating Feedback in whole or in part, and \n",
    "        (ii) without any restrictions or limitations, including requiring the payment of any license fees, royalties, or other consideration. "
   ]
  },
  {
   "cell_type": "markdown",
   "id": "f225fb94-b2c8-4c92-af38-733d08e0e2a1",
   "metadata": {},
   "source": [
    "## <b> Problem overview:</b>\n",
    "    "
   ]
  },
  {
   "cell_type": "markdown",
   "id": "af9813eb-9c44-4968-a5fe-d1c74415c894",
   "metadata": {},
   "source": [
    "**Dataset used : Fish Weight Dataset**\n",
    "\n",
    "**Features**:\n",
    "\n",
    "- `Species`: Species name of fish\n",
    "- `Length1`: Vertical length in cm\n",
    "- `Length2`: Diagonal length in cm\n",
    "- `Length3`: Cross length in cm\n",
    "- `Height`: Height in cm\n",
    "- `Width`: Diagonal width in cm\n",
    "\n",
    "**Target Variable**:\n",
    "\n",
    "- `Weight`: Weight of fish in gram\n",
    "\n",
    "        \n",
    "**Objective**:\n",
    "\n",
    "The primary objective is typically to build a model that can accurately predict weight of fish in gram.\n",
    "\n",
    "**Usecase**:\n",
    "\n",
    "Here, we will use AutoML(Automated Machine Learning) functionality to automate the entire process of developing a predictive model. It will perform feature exploration, feature engineering, data preparation, model training and evaluation on dataset in auto run and at end we will get leaderboard containined different models along with their performance. Model will also have rank associated with them which indicates which is best performing model for given data followed by other models."
   ]
  },
  {
   "cell_type": "code",
   "execution_count": 1,
   "id": "66568348-4d00-477c-a071-17995f797c95",
   "metadata": {},
   "outputs": [],
   "source": [
    "# Importing AutoML from teradataml\n",
    "from teradataml import AutoML"
   ]
  },
  {
   "cell_type": "code",
   "execution_count": 2,
   "id": "17dfae70-0401-4cc4-ba1c-400a5cf62451",
   "metadata": {},
   "outputs": [],
   "source": [
    "# Importing other important libraries\n",
    "import getpass\n",
    "from teradataml import create_context, remove_context\n",
    "from teradataml import DataFrame\n",
    "from teradataml import load_example_data\n",
    "from teradataml import TrainTestSplit"
   ]
  },
  {
   "cell_type": "code",
   "execution_count": 4,
   "id": "cadd9ed2-42d6-4899-b23e-4e2cf601162f",
   "metadata": {},
   "outputs": [
    {
     "name": "stdin",
     "output_type": "stream",
     "text": [
      "Host:  ········\n",
      "Username:  ········\n",
      "Password:  ········\n"
     ]
    }
   ],
   "source": [
    "# Create the connection.\n",
    "host = getpass.getpass(\"Host: \")\n",
    "username = getpass.getpass(\"Username: \")\n",
    "password = getpass.getpass(\"Password: \")\n",
    "\n",
    "con = create_context(host=host, username=username, password=password)"
   ]
  },
  {
   "cell_type": "markdown",
   "id": "be767a89-d5b8-4876-91cb-36980754586e",
   "metadata": {},
   "source": [
    "## <b><span style='color:#F1A424'>| 1.</span> Loading Dataset </b>"
   ]
  },
  {
   "cell_type": "code",
   "execution_count": 5,
   "id": "f1592c52-b247-4792-be2a-30b49bbeb9b6",
   "metadata": {},
   "outputs": [
    {
     "name": "stdout",
     "output_type": "stream",
     "text": [
      "WARNING: Skipped loading table fish since it already exists in the database.\n"
     ]
    }
   ],
   "source": [
    "# Loading dataset from example data collection\n",
    "load_example_data('teradataml','fish')"
   ]
  },
  {
   "cell_type": "code",
   "execution_count": 6,
   "id": "3846ae0f-004b-4b8e-9fea-06fac4294065",
   "metadata": {},
   "outputs": [],
   "source": [
    "# Fetching in teradata dataframe\n",
    "fish_df = DataFrame(\"fish\")"
   ]
  },
  {
   "cell_type": "code",
   "execution_count": 7,
   "id": "442ccd80-b444-413e-970d-d855ec3d6cae",
   "metadata": {},
   "outputs": [
    {
     "data": {
      "text/html": [
       "<style type=\"text/css\">\n",
       "\ttable {border:ridge 5px;}\n",
       "\ttable td {border:inset 1px;}\n",
       "\ttable tr#HeaderRow {background-color:grey; color:white;}</style>\n",
       "<html><table>\n",
       "\t<tr id=\"HeaderRow\">\n",
       "\t\t<th>Species</th>\n",
       "\t\t<th>Weight</th>\n",
       "\t\t<th>Length1</th>\n",
       "\t\t<th>Length2</th>\n",
       "\t\t<th>Length3</th>\n",
       "\t\t<th>Height</th>\n",
       "\t\t<th>Width</th>\n",
       "\t</tr>\n",
       "\t<tr>\n",
       "\t\t<td>Bream</td>\n",
       "\t\t<td>920</td>\n",
       "\t\t<td>35.0</td>\n",
       "\t\t<td>38.5</td>\n",
       "\t\t<td>44.1</td>\n",
       "\t\t<td>18.0369</td>\n",
       "\t\t<td>6.3063</td>\n",
       "\t</tr>\n",
       "\t<tr>\n",
       "\t\t<td>Bream</td>\n",
       "\t\t<td>620</td>\n",
       "\t\t<td>31.5</td>\n",
       "\t\t<td>34.5</td>\n",
       "\t\t<td>39.7</td>\n",
       "\t\t<td>15.5227</td>\n",
       "\t\t<td>5.2801</td>\n",
       "\t</tr>\n",
       "\t<tr>\n",
       "\t\t<td>Bream</td>\n",
       "\t\t<td>650</td>\n",
       "\t\t<td>31.0</td>\n",
       "\t\t<td>33.5</td>\n",
       "\t\t<td>38.7</td>\n",
       "\t\t<td>14.4738</td>\n",
       "\t\t<td>5.7276</td>\n",
       "\t</tr>\n",
       "\t<tr>\n",
       "\t\t<td>Bream</td>\n",
       "\t\t<td>500</td>\n",
       "\t\t<td>28.5</td>\n",
       "\t\t<td>30.7</td>\n",
       "\t\t<td>36.2</td>\n",
       "\t\t<td>14.2266</td>\n",
       "\t\t<td>4.9594</td>\n",
       "\t</tr>\n",
       "\t<tr>\n",
       "\t\t<td>Bream</td>\n",
       "\t\t<td>700</td>\n",
       "\t\t<td>30.4</td>\n",
       "\t\t<td>33.0</td>\n",
       "\t\t<td>38.5</td>\n",
       "\t\t<td>14.938</td>\n",
       "\t\t<td>5.1975</td>\n",
       "\t</tr>\n",
       "\t<tr>\n",
       "\t\t<td>Bream</td>\n",
       "\t\t<td>475</td>\n",
       "\t\t<td>28.4</td>\n",
       "\t\t<td>31.0</td>\n",
       "\t\t<td>36.2</td>\n",
       "\t\t<td>14.2628</td>\n",
       "\t\t<td>5.1042</td>\n",
       "\t</tr>\n",
       "\t<tr>\n",
       "\t\t<td>Bream</td>\n",
       "\t\t<td>685</td>\n",
       "\t\t<td>31.4</td>\n",
       "\t\t<td>34.0</td>\n",
       "\t\t<td>39.2</td>\n",
       "\t\t<td>15.9936</td>\n",
       "\t\t<td>5.3704</td>\n",
       "\t</tr>\n",
       "\t<tr>\n",
       "\t\t<td>Bream</td>\n",
       "\t\t<td>290</td>\n",
       "\t\t<td>24.0</td>\n",
       "\t\t<td>26.3</td>\n",
       "\t\t<td>31.2</td>\n",
       "\t\t<td>12.48</td>\n",
       "\t\t<td>4.3056</td>\n",
       "\t</tr>\n",
       "\t<tr>\n",
       "\t\t<td>Bream</td>\n",
       "\t\t<td>955</td>\n",
       "\t\t<td>35.0</td>\n",
       "\t\t<td>38.5</td>\n",
       "\t\t<td>44.0</td>\n",
       "\t\t<td>18.084</td>\n",
       "\t\t<td>6.292</td>\n",
       "\t</tr>\n",
       "\t<tr>\n",
       "\t\t<td>Bream</td>\n",
       "\t\t<td>950</td>\n",
       "\t\t<td>38.0</td>\n",
       "\t\t<td>41.0</td>\n",
       "\t\t<td>46.5</td>\n",
       "\t\t<td>17.6235</td>\n",
       "\t\t<td>6.3705</td>\n",
       "\t</tr>\n",
       "</table></html>"
      ],
      "text/plain": [
       "         Weight  Length1  Length2  Length3   Height   Width\n",
       "Species                                                    \n",
       "Bream       920     35.0     38.5     44.1  18.0369  6.3063\n",
       "Bream       620     31.5     34.5     39.7  15.5227  5.2801\n",
       "Bream       650     31.0     33.5     38.7  14.4738  5.7276\n",
       "Bream       500     28.5     30.7     36.2  14.2266  4.9594\n",
       "Bream       700     30.4     33.0     38.5  14.9380  5.1975\n",
       "Bream       475     28.4     31.0     36.2  14.2628  5.1042\n",
       "Bream       685     31.4     34.0     39.2  15.9936  5.3704\n",
       "Bream       290     24.0     26.3     31.2  12.4800  4.3056\n",
       "Bream       955     35.0     38.5     44.0  18.0840  6.2920\n",
       "Bream       950     38.0     41.0     46.5  17.6235  6.3705"
      ]
     },
     "execution_count": 7,
     "metadata": {},
     "output_type": "execute_result"
    }
   ],
   "source": [
    "# first 5 rows\n",
    "fish_df.head()"
   ]
  },
  {
   "cell_type": "code",
   "execution_count": 8,
   "id": "636c220d-d12f-4ea5-ab2b-c9203ef00d49",
   "metadata": {},
   "outputs": [
    {
     "data": {
      "text/plain": [
       "(159, 7)"
      ]
     },
     "execution_count": 8,
     "metadata": {},
     "output_type": "execute_result"
    }
   ],
   "source": [
    "# fish_df dataset\n",
    "fish_df.shape"
   ]
  },
  {
   "cell_type": "code",
   "execution_count": 9,
   "id": "e5d1fad7-8784-4d7a-be1f-7be1d3991d8f",
   "metadata": {},
   "outputs": [],
   "source": [
    "# Performing sampling to get 80% for trainning and 20% for testing\n",
    "fish_df_sample = fish_df.sample(frac = [0.8, 0.2])"
   ]
  },
  {
   "cell_type": "code",
   "execution_count": 10,
   "id": "a0e6891a-1b7e-4bac-97c8-350ba5f5bde4",
   "metadata": {},
   "outputs": [
    {
     "data": {
      "text/html": [
       "<style type=\"text/css\">\n",
       "\ttable {border:ridge 5px;}\n",
       "\ttable td {border:inset 1px;}\n",
       "\ttable tr#HeaderRow {background-color:grey; color:white;}</style>\n",
       "<html><table>\n",
       "\t<tr id=\"HeaderRow\">\n",
       "\t\t<th>Species</th>\n",
       "\t\t<th>Weight</th>\n",
       "\t\t<th>Length1</th>\n",
       "\t\t<th>Length2</th>\n",
       "\t\t<th>Length3</th>\n",
       "\t\t<th>Height</th>\n",
       "\t\t<th>Width</th>\n",
       "\t\t<th>sampleid</th>\n",
       "\t</tr>\n",
       "\t<tr>\n",
       "\t\t<td>Bream</td>\n",
       "\t\t<td>500</td>\n",
       "\t\t<td>28.5</td>\n",
       "\t\t<td>30.7</td>\n",
       "\t\t<td>36.2</td>\n",
       "\t\t<td>14.2266</td>\n",
       "\t\t<td>4.9594</td>\n",
       "\t\t<td>1</td>\n",
       "\t</tr>\n",
       "\t<tr>\n",
       "\t\t<td>Bream</td>\n",
       "\t\t<td>500</td>\n",
       "\t\t<td>29.1</td>\n",
       "\t\t<td>31.5</td>\n",
       "\t\t<td>36.4</td>\n",
       "\t\t<td>13.7592</td>\n",
       "\t\t<td>4.368</td>\n",
       "\t\t<td>2</td>\n",
       "\t</tr>\n",
       "\t<tr>\n",
       "\t\t<td>Bream</td>\n",
       "\t\t<td>340</td>\n",
       "\t\t<td>29.5</td>\n",
       "\t\t<td>32.0</td>\n",
       "\t\t<td>37.3</td>\n",
       "\t\t<td>13.9129</td>\n",
       "\t\t<td>5.0728</td>\n",
       "\t\t<td>1</td>\n",
       "\t</tr>\n",
       "\t<tr>\n",
       "\t\t<td>Bream</td>\n",
       "\t\t<td>600</td>\n",
       "\t\t<td>29.4</td>\n",
       "\t\t<td>32.0</td>\n",
       "\t\t<td>37.2</td>\n",
       "\t\t<td>14.9544</td>\n",
       "\t\t<td>5.1708</td>\n",
       "\t\t<td>2</td>\n",
       "\t</tr>\n",
       "\t<tr>\n",
       "\t\t<td>Bream</td>\n",
       "\t\t<td>700</td>\n",
       "\t\t<td>30.4</td>\n",
       "\t\t<td>33.0</td>\n",
       "\t\t<td>38.5</td>\n",
       "\t\t<td>14.938</td>\n",
       "\t\t<td>5.1975</td>\n",
       "\t\t<td>1</td>\n",
       "\t</tr>\n",
       "\t<tr>\n",
       "\t\t<td>Bream</td>\n",
       "\t\t<td>610</td>\n",
       "\t\t<td>30.9</td>\n",
       "\t\t<td>33.5</td>\n",
       "\t\t<td>38.6</td>\n",
       "\t\t<td>15.633</td>\n",
       "\t\t<td>5.1338</td>\n",
       "\t\t<td>2</td>\n",
       "\t</tr>\n",
       "\t<tr>\n",
       "\t\t<td>Bream</td>\n",
       "\t\t<td>700</td>\n",
       "\t\t<td>30.4</td>\n",
       "\t\t<td>33.0</td>\n",
       "\t\t<td>38.3</td>\n",
       "\t\t<td>14.8604</td>\n",
       "\t\t<td>5.2854</td>\n",
       "\t\t<td>2</td>\n",
       "\t</tr>\n",
       "\t<tr>\n",
       "\t\t<td>Bream</td>\n",
       "\t\t<td>475</td>\n",
       "\t\t<td>28.4</td>\n",
       "\t\t<td>31.0</td>\n",
       "\t\t<td>36.2</td>\n",
       "\t\t<td>14.2628</td>\n",
       "\t\t<td>5.1042</td>\n",
       "\t\t<td>1</td>\n",
       "\t</tr>\n",
       "\t<tr>\n",
       "\t\t<td>Bream</td>\n",
       "\t\t<td>450</td>\n",
       "\t\t<td>27.6</td>\n",
       "\t\t<td>30.0</td>\n",
       "\t\t<td>35.1</td>\n",
       "\t\t<td>14.0049</td>\n",
       "\t\t<td>4.8438</td>\n",
       "\t\t<td>2</td>\n",
       "\t</tr>\n",
       "\t<tr>\n",
       "\t\t<td>Bream</td>\n",
       "\t\t<td>450</td>\n",
       "\t\t<td>26.8</td>\n",
       "\t\t<td>29.7</td>\n",
       "\t\t<td>34.7</td>\n",
       "\t\t<td>13.6024</td>\n",
       "\t\t<td>4.9274</td>\n",
       "\t\t<td>1</td>\n",
       "\t</tr>\n",
       "</table></html>"
      ],
      "text/plain": [
       "         Weight  Length1  Length2  Length3   Height   Width  sampleid\n",
       "Species                                                              \n",
       "Bream       500     28.5     30.7     36.2  14.2266  4.9594         1\n",
       "Bream       500     29.1     31.5     36.4  13.7592  4.3680         2\n",
       "Bream       340     29.5     32.0     37.3  13.9129  5.0728         1\n",
       "Bream       600     29.4     32.0     37.2  14.9544  5.1708         2\n",
       "Bream       700     30.4     33.0     38.5  14.9380  5.1975         1\n",
       "Bream       610     30.9     33.5     38.6  15.6330  5.1338         2\n",
       "Bream       700     30.4     33.0     38.3  14.8604  5.2854         2\n",
       "Bream       475     28.4     31.0     36.2  14.2628  5.1042         1\n",
       "Bream       450     27.6     30.0     35.1  14.0049  4.8438         2\n",
       "Bream       450     26.8     29.7     34.7  13.6024  4.9274         1"
      ]
     },
     "execution_count": 10,
     "metadata": {},
     "output_type": "execute_result"
    }
   ],
   "source": [
    "fish_df_sample.head()"
   ]
  },
  {
   "cell_type": "code",
   "execution_count": 11,
   "id": "5e3e5923-18ad-4cf6-b4e5-e87f8854700b",
   "metadata": {},
   "outputs": [],
   "source": [
    "# Fetching train and test data\n",
    "fish_df_train= fish_df_sample[fish_df_sample['sampleid'] == 1].drop('sampleid', axis=1)\n",
    "fish_df_test = fish_df_sample[fish_df_sample['sampleid'] == 2].drop('sampleid', axis=1)"
   ]
  },
  {
   "cell_type": "code",
   "execution_count": 12,
   "id": "83d72a72-3fac-4862-b374-d21ab59be1a6",
   "metadata": {},
   "outputs": [
    {
     "data": {
      "text/plain": [
       "(127, 7)"
      ]
     },
     "execution_count": 12,
     "metadata": {},
     "output_type": "execute_result"
    }
   ],
   "source": [
    "# train data shape\n",
    "fish_df_train.shape"
   ]
  },
  {
   "cell_type": "code",
   "execution_count": 13,
   "id": "b22be730-8a7a-40f3-8e2a-cabd8d1f427f",
   "metadata": {},
   "outputs": [
    {
     "data": {
      "text/plain": [
       "(32, 7)"
      ]
     },
     "execution_count": 13,
     "metadata": {},
     "output_type": "execute_result"
    }
   ],
   "source": [
    "# test data shape\n",
    "fish_df_test.shape"
   ]
  },
  {
   "cell_type": "code",
   "execution_count": 14,
   "id": "18473df2-be15-4e1e-bc5e-739abacf8b89",
   "metadata": {},
   "outputs": [
    {
     "data": {
      "text/html": [
       "<style type=\"text/css\">\n",
       "\ttable {border:ridge 5px;}\n",
       "\ttable td {border:inset 1px;}\n",
       "\ttable tr#HeaderRow {background-color:grey; color:white;}</style>\n",
       "<html><table>\n",
       "\t<tr id=\"HeaderRow\">\n",
       "\t\t<th>Species</th>\n",
       "\t\t<th>Weight</th>\n",
       "\t\t<th>Length1</th>\n",
       "\t\t<th>Length2</th>\n",
       "\t\t<th>Length3</th>\n",
       "\t\t<th>Height</th>\n",
       "\t\t<th>Width</th>\n",
       "\t</tr>\n",
       "\t<tr>\n",
       "\t\t<td>Bream</td>\n",
       "\t\t<td>475</td>\n",
       "\t\t<td>28.4</td>\n",
       "\t\t<td>31.0</td>\n",
       "\t\t<td>36.2</td>\n",
       "\t\t<td>14.2628</td>\n",
       "\t\t<td>5.1042</td>\n",
       "\t</tr>\n",
       "\t<tr>\n",
       "\t\t<td>Bream</td>\n",
       "\t\t<td>700</td>\n",
       "\t\t<td>30.4</td>\n",
       "\t\t<td>33.0</td>\n",
       "\t\t<td>38.5</td>\n",
       "\t\t<td>14.938</td>\n",
       "\t\t<td>5.1975</td>\n",
       "\t</tr>\n",
       "\t<tr>\n",
       "\t\t<td>Bream</td>\n",
       "\t\t<td>575</td>\n",
       "\t\t<td>31.3</td>\n",
       "\t\t<td>34.0</td>\n",
       "\t\t<td>39.5</td>\n",
       "\t\t<td>15.1285</td>\n",
       "\t\t<td>5.5695</td>\n",
       "\t</tr>\n",
       "\t<tr>\n",
       "\t\t<td>Bream</td>\n",
       "\t\t<td>685</td>\n",
       "\t\t<td>31.4</td>\n",
       "\t\t<td>34.0</td>\n",
       "\t\t<td>39.2</td>\n",
       "\t\t<td>15.9936</td>\n",
       "\t\t<td>5.3704</td>\n",
       "\t</tr>\n",
       "\t<tr>\n",
       "\t\t<td>Bream</td>\n",
       "\t\t<td>680</td>\n",
       "\t\t<td>31.8</td>\n",
       "\t\t<td>35.0</td>\n",
       "\t\t<td>40.6</td>\n",
       "\t\t<td>15.4686</td>\n",
       "\t\t<td>6.1306</td>\n",
       "\t</tr>\n",
       "\t<tr>\n",
       "\t\t<td>Bream</td>\n",
       "\t\t<td>700</td>\n",
       "\t\t<td>31.9</td>\n",
       "\t\t<td>35.0</td>\n",
       "\t\t<td>40.5</td>\n",
       "\t\t<td>16.2405</td>\n",
       "\t\t<td>5.589</td>\n",
       "\t</tr>\n",
       "\t<tr>\n",
       "\t\t<td>Bream</td>\n",
       "\t\t<td>620</td>\n",
       "\t\t<td>31.5</td>\n",
       "\t\t<td>34.5</td>\n",
       "\t\t<td>39.7</td>\n",
       "\t\t<td>15.5227</td>\n",
       "\t\t<td>5.2801</td>\n",
       "\t</tr>\n",
       "\t<tr>\n",
       "\t\t<td>Bream</td>\n",
       "\t\t<td>500</td>\n",
       "\t\t<td>28.7</td>\n",
       "\t\t<td>31.0</td>\n",
       "\t\t<td>36.2</td>\n",
       "\t\t<td>14.3714</td>\n",
       "\t\t<td>4.8146</td>\n",
       "\t</tr>\n",
       "\t<tr>\n",
       "\t\t<td>Bream</td>\n",
       "\t\t<td>500</td>\n",
       "\t\t<td>28.5</td>\n",
       "\t\t<td>30.7</td>\n",
       "\t\t<td>36.2</td>\n",
       "\t\t<td>14.2266</td>\n",
       "\t\t<td>4.9594</td>\n",
       "\t</tr>\n",
       "\t<tr>\n",
       "\t\t<td>Bream</td>\n",
       "\t\t<td>450</td>\n",
       "\t\t<td>26.8</td>\n",
       "\t\t<td>29.7</td>\n",
       "\t\t<td>34.7</td>\n",
       "\t\t<td>13.6024</td>\n",
       "\t\t<td>4.9274</td>\n",
       "\t</tr>\n",
       "</table></html>"
      ],
      "text/plain": [
       "         Weight  Length1  Length2  Length3   Height   Width\n",
       "Species                                                    \n",
       "Bream       475     28.4     31.0     36.2  14.2628  5.1042\n",
       "Bream       700     30.4     33.0     38.5  14.9380  5.1975\n",
       "Bream       575     31.3     34.0     39.5  15.1285  5.5695\n",
       "Bream       685     31.4     34.0     39.2  15.9936  5.3704\n",
       "Bream       680     31.8     35.0     40.6  15.4686  6.1306\n",
       "Bream       700     31.9     35.0     40.5  16.2405  5.5890\n",
       "Bream       620     31.5     34.5     39.7  15.5227  5.2801\n",
       "Bream       500     28.7     31.0     36.2  14.3714  4.8146\n",
       "Bream       500     28.5     30.7     36.2  14.2266  4.9594\n",
       "Bream       450     26.8     29.7     34.7  13.6024  4.9274"
      ]
     },
     "execution_count": 14,
     "metadata": {},
     "output_type": "execute_result"
    }
   ],
   "source": [
    "#train dataset\n",
    "fish_df_train.head()"
   ]
  },
  {
   "cell_type": "code",
   "execution_count": 15,
   "id": "58c9d763-4f19-449e-a35b-676d4d026acc",
   "metadata": {},
   "outputs": [
    {
     "data": {
      "text/html": [
       "<style type=\"text/css\">\n",
       "\ttable {border:ridge 5px;}\n",
       "\ttable td {border:inset 1px;}\n",
       "\ttable tr#HeaderRow {background-color:grey; color:white;}</style>\n",
       "<html><table>\n",
       "\t<tr id=\"HeaderRow\">\n",
       "\t\t<th>Species</th>\n",
       "\t\t<th>Weight</th>\n",
       "\t\t<th>Length1</th>\n",
       "\t\t<th>Length2</th>\n",
       "\t\t<th>Length3</th>\n",
       "\t\t<th>Height</th>\n",
       "\t\t<th>Width</th>\n",
       "\t</tr>\n",
       "\t<tr>\n",
       "\t\t<td>Bream</td>\n",
       "\t\t<td>650</td>\n",
       "\t\t<td>31.0</td>\n",
       "\t\t<td>33.5</td>\n",
       "\t\t<td>38.7</td>\n",
       "\t\t<td>14.4738</td>\n",
       "\t\t<td>5.7276</td>\n",
       "\t</tr>\n",
       "\t<tr>\n",
       "\t\t<td>Bream</td>\n",
       "\t\t<td>610</td>\n",
       "\t\t<td>30.9</td>\n",
       "\t\t<td>33.5</td>\n",
       "\t\t<td>38.6</td>\n",
       "\t\t<td>15.633</td>\n",
       "\t\t<td>5.1338</td>\n",
       "\t</tr>\n",
       "\t<tr>\n",
       "\t\t<td>Bream</td>\n",
       "\t\t<td>600</td>\n",
       "\t\t<td>29.4</td>\n",
       "\t\t<td>32.0</td>\n",
       "\t\t<td>37.2</td>\n",
       "\t\t<td>14.9544</td>\n",
       "\t\t<td>5.1708</td>\n",
       "\t</tr>\n",
       "\t<tr>\n",
       "\t\t<td>Bream</td>\n",
       "\t\t<td>450</td>\n",
       "\t\t<td>27.6</td>\n",
       "\t\t<td>30.0</td>\n",
       "\t\t<td>35.1</td>\n",
       "\t\t<td>14.0049</td>\n",
       "\t\t<td>4.8438</td>\n",
       "\t</tr>\n",
       "\t<tr>\n",
       "\t\t<td>Perch</td>\n",
       "\t\t<td>260</td>\n",
       "\t\t<td>25.4</td>\n",
       "\t\t<td>27.5</td>\n",
       "\t\t<td>28.9</td>\n",
       "\t\t<td>7.1672</td>\n",
       "\t\t<td>4.335</td>\n",
       "\t</tr>\n",
       "\t<tr>\n",
       "\t\t<td>Perch</td>\n",
       "\t\t<td>70</td>\n",
       "\t\t<td>15.7</td>\n",
       "\t\t<td>17.4</td>\n",
       "\t\t<td>18.5</td>\n",
       "\t\t<td>4.588</td>\n",
       "\t\t<td>2.9415</td>\n",
       "\t</tr>\n",
       "\t<tr>\n",
       "\t\t<td>Parkki</td>\n",
       "\t\t<td>300</td>\n",
       "\t\t<td>24.0</td>\n",
       "\t\t<td>26.0</td>\n",
       "\t\t<td>29.0</td>\n",
       "\t\t<td>11.368</td>\n",
       "\t\t<td>4.234</td>\n",
       "\t</tr>\n",
       "\t<tr>\n",
       "\t\t<td>Bream</td>\n",
       "\t\t<td>700</td>\n",
       "\t\t<td>30.4</td>\n",
       "\t\t<td>33.0</td>\n",
       "\t\t<td>38.3</td>\n",
       "\t\t<td>14.8604</td>\n",
       "\t\t<td>5.2854</td>\n",
       "\t</tr>\n",
       "\t<tr>\n",
       "\t\t<td>Bream</td>\n",
       "\t\t<td>955</td>\n",
       "\t\t<td>35.0</td>\n",
       "\t\t<td>38.5</td>\n",
       "\t\t<td>44.0</td>\n",
       "\t\t<td>18.084</td>\n",
       "\t\t<td>6.292</td>\n",
       "\t</tr>\n",
       "\t<tr>\n",
       "\t\t<td>Bream</td>\n",
       "\t\t<td>500</td>\n",
       "\t\t<td>29.1</td>\n",
       "\t\t<td>31.5</td>\n",
       "\t\t<td>36.4</td>\n",
       "\t\t<td>13.7592</td>\n",
       "\t\t<td>4.368</td>\n",
       "\t</tr>\n",
       "</table></html>"
      ],
      "text/plain": [
       "         Weight  Length1  Length2  Length3   Height   Width\n",
       "Species                                                    \n",
       "Bream       650     31.0     33.5     38.7  14.4738  5.7276\n",
       "Bream       610     30.9     33.5     38.6  15.6330  5.1338\n",
       "Bream       600     29.4     32.0     37.2  14.9544  5.1708\n",
       "Bream       450     27.6     30.0     35.1  14.0049  4.8438\n",
       "Perch       260     25.4     27.5     28.9   7.1672  4.3350\n",
       "Perch        70     15.7     17.4     18.5   4.5880  2.9415\n",
       "Parkki      300     24.0     26.0     29.0  11.3680  4.2340\n",
       "Bream       700     30.4     33.0     38.3  14.8604  5.2854\n",
       "Bream       955     35.0     38.5     44.0  18.0840  6.2920\n",
       "Bream       500     29.1     31.5     36.4  13.7592  4.3680"
      ]
     },
     "execution_count": 15,
     "metadata": {},
     "output_type": "execute_result"
    }
   ],
   "source": [
    "# test dataset\n",
    "fish_df_test.head()"
   ]
  },
  {
   "cell_type": "markdown",
   "id": "856ea871-93d8-4ea2-b524-1acb23bd7eb5",
   "metadata": {},
   "source": [
    "## <b><span style='color:#F1A424'>| 2.</span> Fitting AutoML </b>"
   ]
  },
  {
   "cell_type": "code",
   "execution_count": 16,
   "id": "f3650aa5-a408-4227-a88d-79c0f3d36d3c",
   "metadata": {},
   "outputs": [],
   "source": [
    "# Creating AutoML instance\n",
    "# Excluded 'glm' and 'knn' from model training.\n",
    "# Keeping early stopping timer threshold to 200 sec and max_models to 6\n",
    "# and verbose level 2 for detailed loggging\n",
    "\n",
    "aml = AutoML(task_type=\"Regression\", \n",
    "             exclude=['glm', 'knn'],\n",
    "             max_runtime_secs=200,\n",
    "             max_models=6,\n",
    "             verbose=2)"
   ]
  },
  {
   "cell_type": "code",
   "execution_count": 17,
   "id": "a1b7a771-1bfa-40c9-8ad0-c377d320c137",
   "metadata": {},
   "outputs": [
    {
     "data": {
      "text/html": [
       "\n",
       "            <style>\n",
       "                .custom-div {\n",
       "                    background-color: lightgray;\n",
       "                    color: #000000;\n",
       "                    padding: 10px;\n",
       "                    border-radius: 8px;\n",
       "                    box-shadow: 0 3px 4px rgba(0, 0, 0, 0.2);\n",
       "                    margin-bottom: 10px;\n",
       "                    text-align: center;\n",
       "                }\n",
       "            </style>\n",
       "        <br><div class=\"custom-div\"><h3><span style=\"color: green;\"></span>1. Feature Exploration -> 2. Feature Engineering -> 3. Data Preparation -> 4. Model Training & Evaluation<center></h3></center></div>"
      ],
      "text/plain": [
       "<IPython.core.display.HTML object>"
      ]
     },
     "metadata": {},
     "output_type": "display_data"
    },
    {
     "name": "stdout",
     "output_type": "stream",
     "text": [
      "Feature Exploration started ...\n",
      "\n",
      "Data Overview:\n",
      "Total Rows in the data: 127\n",
      "Total Columns in the data: 7\n",
      "\n",
      "Column Summary:\n"
     ]
    },
    {
     "data": {
      "text/html": [
       "<style type=\"text/css\">\n",
       "\ttable {border:ridge 5px;}\n",
       "\ttable td {border:inset 1px;}\n",
       "\ttable tr#HeaderRow {background-color:grey; color:white;}</style>\n",
       "<html><table>\n",
       "\t<tr id=\"HeaderRow\">\n",
       "\t\t<th>ColumnName</th>\n",
       "\t\t<th>Datatype</th>\n",
       "\t\t<th>NonNullCount</th>\n",
       "\t\t<th>NullCount</th>\n",
       "\t\t<th>BlankCount</th>\n",
       "\t\t<th>ZeroCount</th>\n",
       "\t\t<th>PositiveCount</th>\n",
       "\t\t<th>NegativeCount</th>\n",
       "\t\t<th>NullPercentage</th>\n",
       "\t\t<th>NonNullPercentage</th>\n",
       "\t</tr>\n",
       "\t<tr>\n",
       "\t\t<td>Length3</td>\n",
       "\t\t<td>FLOAT</td>\n",
       "\t\t<td>127</td>\n",
       "\t\t<td>0</td>\n",
       "\t\t<td>None</td>\n",
       "\t\t<td>0</td>\n",
       "\t\t<td>127</td>\n",
       "\t\t<td>0</td>\n",
       "\t\t<td>0.0</td>\n",
       "\t\t<td>100.0</td>\n",
       "\t</tr>\n",
       "\t<tr>\n",
       "\t\t<td>Length1</td>\n",
       "\t\t<td>FLOAT</td>\n",
       "\t\t<td>127</td>\n",
       "\t\t<td>0</td>\n",
       "\t\t<td>None</td>\n",
       "\t\t<td>0</td>\n",
       "\t\t<td>127</td>\n",
       "\t\t<td>0</td>\n",
       "\t\t<td>0.0</td>\n",
       "\t\t<td>100.0</td>\n",
       "\t</tr>\n",
       "\t<tr>\n",
       "\t\t<td>Height</td>\n",
       "\t\t<td>FLOAT</td>\n",
       "\t\t<td>127</td>\n",
       "\t\t<td>0</td>\n",
       "\t\t<td>None</td>\n",
       "\t\t<td>0</td>\n",
       "\t\t<td>127</td>\n",
       "\t\t<td>0</td>\n",
       "\t\t<td>0.0</td>\n",
       "\t\t<td>100.0</td>\n",
       "\t</tr>\n",
       "\t<tr>\n",
       "\t\t<td>Species</td>\n",
       "\t\t<td>VARCHAR(20) CHARACTER SET LATIN</td>\n",
       "\t\t<td>127</td>\n",
       "\t\t<td>0</td>\n",
       "\t\t<td>0</td>\n",
       "\t\t<td>None</td>\n",
       "\t\t<td>None</td>\n",
       "\t\t<td>None</td>\n",
       "\t\t<td>0.0</td>\n",
       "\t\t<td>100.0</td>\n",
       "\t</tr>\n",
       "\t<tr>\n",
       "\t\t<td>Weight</td>\n",
       "\t\t<td>INTEGER</td>\n",
       "\t\t<td>127</td>\n",
       "\t\t<td>0</td>\n",
       "\t\t<td>None</td>\n",
       "\t\t<td>1</td>\n",
       "\t\t<td>126</td>\n",
       "\t\t<td>0</td>\n",
       "\t\t<td>0.0</td>\n",
       "\t\t<td>100.0</td>\n",
       "\t</tr>\n",
       "\t<tr>\n",
       "\t\t<td>Length2</td>\n",
       "\t\t<td>FLOAT</td>\n",
       "\t\t<td>127</td>\n",
       "\t\t<td>0</td>\n",
       "\t\t<td>None</td>\n",
       "\t\t<td>0</td>\n",
       "\t\t<td>127</td>\n",
       "\t\t<td>0</td>\n",
       "\t\t<td>0.0</td>\n",
       "\t\t<td>100.0</td>\n",
       "\t</tr>\n",
       "\t<tr>\n",
       "\t\t<td>Width</td>\n",
       "\t\t<td>FLOAT</td>\n",
       "\t\t<td>127</td>\n",
       "\t\t<td>0</td>\n",
       "\t\t<td>None</td>\n",
       "\t\t<td>0</td>\n",
       "\t\t<td>127</td>\n",
       "\t\t<td>0</td>\n",
       "\t\t<td>0.0</td>\n",
       "\t\t<td>100.0</td>\n",
       "\t</tr>\n",
       "</table></html>"
      ],
      "text/plain": [
       "  ColumnName                         Datatype  NonNullCount  NullCount  BlankCount  ZeroCount  PositiveCount  NegativeCount  NullPercentage  NonNullPercentage\n",
       "0    Length3                            FLOAT           127          0         NaN        0.0          127.0            0.0             0.0              100.0\n",
       "1    Length1                            FLOAT           127          0         NaN        0.0          127.0            0.0             0.0              100.0\n",
       "2     Height                            FLOAT           127          0         NaN        0.0          127.0            0.0             0.0              100.0\n",
       "3    Species  VARCHAR(20) CHARACTER SET LATIN           127          0         0.0        NaN            NaN            NaN             0.0              100.0\n",
       "4     Weight                          INTEGER           127          0         NaN        1.0          126.0            0.0             0.0              100.0\n",
       "5    Length2                            FLOAT           127          0         NaN        0.0          127.0            0.0             0.0              100.0\n",
       "6      Width                            FLOAT           127          0         NaN        0.0          127.0            0.0             0.0              100.0"
      ]
     },
     "metadata": {},
     "output_type": "display_data"
    },
    {
     "name": "stdout",
     "output_type": "stream",
     "text": [
      "         Weight  Length1  Length2  Length3   Height    Width\n",
      "func                                                        \n",
      "50%     270.000   24.100   26.500   29.200    7.786    4.204\n",
      "count   127.000  127.000  127.000  127.000  127.000  127.000\n",
      "mean    375.819   25.741   27.872   30.672    8.945    4.368\n",
      "min       0.000    7.500    8.400    8.800    1.728    1.048\n",
      "max    1550.000   56.000   60.000   64.000   18.957    8.142\n",
      "75%     587.500   32.000   35.000   39.450   12.143    5.575\n",
      "25%     127.500   19.250   21.000   23.350    6.112    3.402\n",
      "std     331.586    9.376   10.077   10.970    4.287    1.663\n",
      "\n",
      "Statistics of Data:\n"
     ]
    },
    {
     "data": {
      "text/html": [
       "<style type=\"text/css\">\n",
       "\ttable {border:ridge 5px;}\n",
       "\ttable td {border:inset 1px;}\n",
       "\ttable tr#HeaderRow {background-color:grey; color:white;}</style>\n",
       "<html><table>\n",
       "\t<tr id=\"HeaderRow\">\n",
       "\t\t<th>func</th>\n",
       "\t\t<th>Weight</th>\n",
       "\t\t<th>Length1</th>\n",
       "\t\t<th>Length2</th>\n",
       "\t\t<th>Length3</th>\n",
       "\t\t<th>Height</th>\n",
       "\t\t<th>Width</th>\n",
       "\t</tr>\n",
       "\t<tr>\n",
       "\t\t<td>min</td>\n",
       "\t\t<td>0</td>\n",
       "\t\t<td>7.5</td>\n",
       "\t\t<td>8.4</td>\n",
       "\t\t<td>8.8</td>\n",
       "\t\t<td>1.728</td>\n",
       "\t\t<td>1.048</td>\n",
       "\t</tr>\n",
       "\t<tr>\n",
       "\t\t<td>std</td>\n",
       "\t\t<td>331.586</td>\n",
       "\t\t<td>9.376</td>\n",
       "\t\t<td>10.077</td>\n",
       "\t\t<td>10.97</td>\n",
       "\t\t<td>4.287</td>\n",
       "\t\t<td>1.663</td>\n",
       "\t</tr>\n",
       "\t<tr>\n",
       "\t\t<td>25%</td>\n",
       "\t\t<td>127.5</td>\n",
       "\t\t<td>19.25</td>\n",
       "\t\t<td>21</td>\n",
       "\t\t<td>23.35</td>\n",
       "\t\t<td>6.112</td>\n",
       "\t\t<td>3.402</td>\n",
       "\t</tr>\n",
       "\t<tr>\n",
       "\t\t<td>50%</td>\n",
       "\t\t<td>270</td>\n",
       "\t\t<td>24.1</td>\n",
       "\t\t<td>26.5</td>\n",
       "\t\t<td>29.2</td>\n",
       "\t\t<td>7.786</td>\n",
       "\t\t<td>4.204</td>\n",
       "\t</tr>\n",
       "\t<tr>\n",
       "\t\t<td>75%</td>\n",
       "\t\t<td>587.5</td>\n",
       "\t\t<td>32</td>\n",
       "\t\t<td>35</td>\n",
       "\t\t<td>39.45</td>\n",
       "\t\t<td>12.143</td>\n",
       "\t\t<td>5.575</td>\n",
       "\t</tr>\n",
       "\t<tr>\n",
       "\t\t<td>max</td>\n",
       "\t\t<td>1550</td>\n",
       "\t\t<td>56</td>\n",
       "\t\t<td>60</td>\n",
       "\t\t<td>64</td>\n",
       "\t\t<td>18.957</td>\n",
       "\t\t<td>8.142</td>\n",
       "\t</tr>\n",
       "\t<tr>\n",
       "\t\t<td>mean</td>\n",
       "\t\t<td>375.819</td>\n",
       "\t\t<td>25.741</td>\n",
       "\t\t<td>27.872</td>\n",
       "\t\t<td>30.672</td>\n",
       "\t\t<td>8.945</td>\n",
       "\t\t<td>4.368</td>\n",
       "\t</tr>\n",
       "\t<tr>\n",
       "\t\t<td>count</td>\n",
       "\t\t<td>127</td>\n",
       "\t\t<td>127</td>\n",
       "\t\t<td>127</td>\n",
       "\t\t<td>127</td>\n",
       "\t\t<td>127</td>\n",
       "\t\t<td>127</td>\n",
       "\t</tr>\n",
       "</table></html>"
      ],
      "text/plain": [
       "         Weight  Length1  Length2  Length3   Height    Width\n",
       "func                                                        \n",
       "min       0.000    7.500    8.400    8.800    1.728    1.048\n",
       "std     331.586    9.376   10.077   10.970    4.287    1.663\n",
       "25%     127.500   19.250   21.000   23.350    6.112    3.402\n",
       "50%     270.000   24.100   26.500   29.200    7.786    4.204\n",
       "75%     587.500   32.000   35.000   39.450   12.143    5.575\n",
       "max    1550.000   56.000   60.000   64.000   18.957    8.142\n",
       "mean    375.819   25.741   27.872   30.672    8.945    4.368\n",
       "count   127.000  127.000  127.000  127.000  127.000  127.000"
      ]
     },
     "metadata": {},
     "output_type": "display_data"
    },
    {
     "name": "stdout",
     "output_type": "stream",
     "text": [
      "\n",
      "Categorical Columns with their Distinct values:\n",
      "ColumnName                DistinctValueCount\n",
      "Species                   7         \n",
      "\n",
      "No Futile columns found.\n",
      "\n",
      "Target Column Distribution:\n"
     ]
    },
    {
     "data": {
      "image/png": "[encoded data removed]",
      "text/plain": [
       "<Figure size 800x600 with 1 Axes>"
      ]
     },
     "metadata": {},
     "output_type": "display_data"
    },
    {
     "name": "stdout",
     "output_type": "stream",
     "text": [
      "Columns with outlier percentage :-                                                                                                                                                                                                                                                                                                                                                                                                                                                                                  \n",
      "  ColumnName  OutlierPercentage\n",
      "0    Length1           1.574803\n",
      "1    Length2           0.787402\n",
      "2     Weight           0.787402\n",
      "3    Length3           0.787402\n",
      "                                                                                        \r"
     ]
    },
    {
     "data": {
      "text/html": [
       "\n",
       "            <style>\n",
       "                .custom-div {\n",
       "                    background-color: lightgray;\n",
       "                    color: #000000;\n",
       "                    padding: 10px;\n",
       "                    border-radius: 8px;\n",
       "                    box-shadow: 0 3px 4px rgba(0 -  0 -  0 -  0.2);\n",
       "                    margin-bottom: 10px;\n",
       "                    text-align: center;\n",
       "                }\n",
       "            </style>\n",
       "        <br><div class=\"custom-div\"><h3><span style=\"color: green;\">1. Feature Exploration -></span> 2. Feature Engineering -> 3. Data Preparation -> 4. Model Training & Evaluation<center></h3></center></div>"
      ],
      "text/plain": [
       "<IPython.core.display.HTML object>"
      ]
     },
     "metadata": {},
     "output_type": "display_data"
    },
    {
     "name": "stdout",
     "output_type": "stream",
     "text": [
      "                                                                                        \r"
     ]
    },
    {
     "data": {
      "text/html": [
       "Feature Engineering started ..."
      ],
      "text/plain": [
       "<IPython.core.display.HTML object>"
      ]
     },
     "metadata": {},
     "output_type": "display_data"
    },
    {
     "name": "stdout",
     "output_type": "stream",
     "text": [
      "                                                                                        \r"
     ]
    },
    {
     "data": {
      "text/html": [
       "\n",
       "Handling duplicate records present in dataset ..."
      ],
      "text/plain": [
       "<IPython.core.display.HTML object>"
      ]
     },
     "metadata": {},
     "output_type": "display_data"
    },
    {
     "name": "stdout",
     "output_type": "stream",
     "text": [
      "Analysis completed. No action taken.                                                    \n",
      "                                                                                        \r"
     ]
    },
    {
     "data": {
      "text/html": [
       "Total time to handle duplicate records: 1.45 sec  "
      ],
      "text/plain": [
       "<IPython.core.display.HTML object>"
      ]
     },
     "metadata": {},
     "output_type": "display_data"
    },
    {
     "name": "stdout",
     "output_type": "stream",
     "text": [
      "                                                                                        \r"
     ]
    },
    {
     "data": {
      "text/html": [
       "\n",
       "Handling less significant features from data ..."
      ],
      "text/plain": [
       "<IPython.core.display.HTML object>"
      ]
     },
     "metadata": {},
     "output_type": "display_data"
    },
    {
     "name": "stdout",
     "output_type": "stream",
     "text": [
      "Analysis indicates all categorical columns are significant. No action Needed.           \n",
      "                                                                                        \r"
     ]
    },
    {
     "data": {
      "text/html": [
       "Total time to handle less significant features: 14.79 sec  "
      ],
      "text/plain": [
       "<IPython.core.display.HTML object>"
      ]
     },
     "metadata": {},
     "output_type": "display_data"
    },
    {
     "name": "stdout",
     "output_type": "stream",
     "text": [
      "                                                                                         \r"
     ]
    },
    {
     "data": {
      "text/html": [
       "\n",
       "Handling Date Features ..."
      ],
      "text/plain": [
       "<IPython.core.display.HTML object>"
      ]
     },
     "metadata": {},
     "output_type": "display_data"
    },
    {
     "name": "stdout",
     "output_type": "stream",
     "text": [
      "Analysis Completed. Dataset does not contain any feature related to dates. No action needed.\n",
      "                                                                                         \r"
     ]
    },
    {
     "data": {
      "text/html": [
       "Total time to handle date features: 0.00 sec\n"
      ],
      "text/plain": [
       "<IPython.core.display.HTML object>"
      ]
     },
     "metadata": {},
     "output_type": "display_data"
    },
    {
     "name": "stdout",
     "output_type": "stream",
     "text": [
      "                                                                                         \r"
     ]
    },
    {
     "data": {
      "text/html": [
       "\n",
       "Checking Missing values in dataset ..."
      ],
      "text/plain": [
       "<IPython.core.display.HTML object>"
      ]
     },
     "metadata": {},
     "output_type": "display_data"
    },
    {
     "name": "stdout",
     "output_type": "stream",
     "text": [
      "Analysis Completed. No Missing Values Detected.                                          \n",
      "                                                                                         \r"
     ]
    },
    {
     "data": {
      "text/html": [
       "Total time to find missing values in data: 7.50 sec  "
      ],
      "text/plain": [
       "<IPython.core.display.HTML object>"
      ]
     },
     "metadata": {},
     "output_type": "display_data"
    },
    {
     "name": "stdout",
     "output_type": "stream",
     "text": [
      "                                                                                         \r"
     ]
    },
    {
     "data": {
      "text/html": [
       "\n",
       "Imputing Missing Values ..."
      ],
      "text/plain": [
       "<IPython.core.display.HTML object>"
      ]
     },
     "metadata": {},
     "output_type": "display_data"
    },
    {
     "name": "stdout",
     "output_type": "stream",
     "text": [
      "Analysis completed. No imputation required.                                              \n",
      "                                                                                         \r"
     ]
    },
    {
     "data": {
      "text/html": [
       "Time taken to perform imputation: 0.01 sec  "
      ],
      "text/plain": [
       "<IPython.core.display.HTML object>"
      ]
     },
     "metadata": {},
     "output_type": "display_data"
    },
    {
     "name": "stdout",
     "output_type": "stream",
     "text": [
      "                                                                                         \r"
     ]
    },
    {
     "data": {
      "text/html": [
       "\n",
       "Performing encoding for categorical columns ..."
      ],
      "text/plain": [
       "<IPython.core.display.HTML object>"
      ]
     },
     "metadata": {},
     "output_type": "display_data"
    },
    {
     "name": "stdout",
     "output_type": "stream",
     "text": [
      "                                                                                         \r"
     ]
    },
    {
     "data": {
      "text/html": [
       "ONE HOT Encoding these Columns:"
      ],
      "text/plain": [
       "<IPython.core.display.HTML object>"
      ]
     },
     "metadata": {},
     "output_type": "display_data"
    },
    {
     "name": "stdout",
     "output_type": "stream",
     "text": [
      "['Species']\n",
      "                                                                                         \r"
     ]
    },
    {
     "data": {
      "text/html": [
       "Sample of dataset after performing one hot encoding:"
      ],
      "text/plain": [
       "<IPython.core.display.HTML object>"
      ]
     },
     "metadata": {},
     "output_type": "display_data"
    },
    {
     "data": {
      "text/html": [
       "<style type=\"text/css\">\n",
       "\ttable {border:ridge 5px;}\n",
       "\ttable td {border:inset 1px;}\n",
       "\ttable tr#HeaderRow {background-color:grey; color:white;}</style>\n",
       "<html><table>\n",
       "\t<tr id=\"HeaderRow\">\n",
       "\t\t<th>Species_0</th>\n",
       "\t\t<th>Species_1</th>\n",
       "\t\t<th>Species_2</th>\n",
       "\t\t<th>Species_3</th>\n",
       "\t\t<th>Species_4</th>\n",
       "\t\t<th>Species_5</th>\n",
       "\t\t<th>Species_6</th>\n",
       "\t\t<th>Weight</th>\n",
       "\t\t<th>Length1</th>\n",
       "\t\t<th>Length2</th>\n",
       "\t\t<th>Length3</th>\n",
       "\t\t<th>Height</th>\n",
       "\t\t<th>Width</th>\n",
       "\t\t<th>id</th>\n",
       "\t</tr>\n",
       "\t<tr>\n",
       "\t\t<td>1</td>\n",
       "\t\t<td>0</td>\n",
       "\t\t<td>0</td>\n",
       "\t\t<td>0</td>\n",
       "\t\t<td>0</td>\n",
       "\t\t<td>0</td>\n",
       "\t\t<td>0</td>\n",
       "\t\t<td>925</td>\n",
       "\t\t<td>36.2</td>\n",
       "\t\t<td>39.5</td>\n",
       "\t\t<td>45.3</td>\n",
       "\t\t<td>18.7542</td>\n",
       "\t\t<td>6.7497</td>\n",
       "\t\t<td>50</td>\n",
       "\t</tr>\n",
       "\t<tr>\n",
       "\t\t<td>1</td>\n",
       "\t\t<td>0</td>\n",
       "\t\t<td>0</td>\n",
       "\t\t<td>0</td>\n",
       "\t\t<td>0</td>\n",
       "\t\t<td>0</td>\n",
       "\t\t<td>0</td>\n",
       "\t\t<td>700</td>\n",
       "\t\t<td>31.9</td>\n",
       "\t\t<td>35.0</td>\n",
       "\t\t<td>40.5</td>\n",
       "\t\t<td>16.2405</td>\n",
       "\t\t<td>5.589</td>\n",
       "\t\t<td>74</td>\n",
       "\t</tr>\n",
       "\t<tr>\n",
       "\t\t<td>1</td>\n",
       "\t\t<td>0</td>\n",
       "\t\t<td>0</td>\n",
       "\t\t<td>0</td>\n",
       "\t\t<td>0</td>\n",
       "\t\t<td>0</td>\n",
       "\t\t<td>0</td>\n",
       "\t\t<td>850</td>\n",
       "\t\t<td>32.8</td>\n",
       "\t\t<td>36.0</td>\n",
       "\t\t<td>41.6</td>\n",
       "\t\t<td>16.8896</td>\n",
       "\t\t<td>6.1984</td>\n",
       "\t\t<td>82</td>\n",
       "\t</tr>\n",
       "\t<tr>\n",
       "\t\t<td>1</td>\n",
       "\t\t<td>0</td>\n",
       "\t\t<td>0</td>\n",
       "\t\t<td>0</td>\n",
       "\t\t<td>0</td>\n",
       "\t\t<td>0</td>\n",
       "\t\t<td>0</td>\n",
       "\t\t<td>430</td>\n",
       "\t\t<td>26.5</td>\n",
       "\t\t<td>29.0</td>\n",
       "\t\t<td>34.0</td>\n",
       "\t\t<td>12.444</td>\n",
       "\t\t<td>5.134</td>\n",
       "\t\t<td>90</td>\n",
       "\t</tr>\n",
       "\t<tr>\n",
       "\t\t<td>1</td>\n",
       "\t\t<td>0</td>\n",
       "\t\t<td>0</td>\n",
       "\t\t<td>0</td>\n",
       "\t\t<td>0</td>\n",
       "\t\t<td>0</td>\n",
       "\t\t<td>0</td>\n",
       "\t\t<td>290</td>\n",
       "\t\t<td>24.0</td>\n",
       "\t\t<td>26.3</td>\n",
       "\t\t<td>31.2</td>\n",
       "\t\t<td>12.48</td>\n",
       "\t\t<td>4.3056</td>\n",
       "\t\t<td>106</td>\n",
       "\t</tr>\n",
       "\t<tr>\n",
       "\t\t<td>1</td>\n",
       "\t\t<td>0</td>\n",
       "\t\t<td>0</td>\n",
       "\t\t<td>0</td>\n",
       "\t\t<td>0</td>\n",
       "\t\t<td>0</td>\n",
       "\t\t<td>0</td>\n",
       "\t\t<td>500</td>\n",
       "\t\t<td>28.7</td>\n",
       "\t\t<td>31.0</td>\n",
       "\t\t<td>36.2</td>\n",
       "\t\t<td>14.3714</td>\n",
       "\t\t<td>4.8146</td>\n",
       "\t\t<td>114</td>\n",
       "\t</tr>\n",
       "\t<tr>\n",
       "\t\t<td>0</td>\n",
       "\t\t<td>1</td>\n",
       "\t\t<td>0</td>\n",
       "\t\t<td>0</td>\n",
       "\t\t<td>0</td>\n",
       "\t\t<td>0</td>\n",
       "\t\t<td>0</td>\n",
       "\t\t<td>120</td>\n",
       "\t\t<td>17.5</td>\n",
       "\t\t<td>19.0</td>\n",
       "\t\t<td>21.3</td>\n",
       "\t\t<td>8.3922</td>\n",
       "\t\t<td>2.9181</td>\n",
       "\t\t<td>24</td>\n",
       "\t</tr>\n",
       "\t<tr>\n",
       "\t\t<td>0</td>\n",
       "\t\t<td>1</td>\n",
       "\t\t<td>0</td>\n",
       "\t\t<td>0</td>\n",
       "\t\t<td>0</td>\n",
       "\t\t<td>0</td>\n",
       "\t\t<td>0</td>\n",
       "\t\t<td>200</td>\n",
       "\t\t<td>21.2</td>\n",
       "\t\t<td>23.0</td>\n",
       "\t\t<td>25.8</td>\n",
       "\t\t<td>10.3458</td>\n",
       "\t\t<td>3.6636</td>\n",
       "\t\t<td>40</td>\n",
       "\t</tr>\n",
       "\t<tr>\n",
       "\t\t<td>0</td>\n",
       "\t\t<td>1</td>\n",
       "\t\t<td>0</td>\n",
       "\t\t<td>0</td>\n",
       "\t\t<td>0</td>\n",
       "\t\t<td>0</td>\n",
       "\t\t<td>0</td>\n",
       "\t\t<td>55</td>\n",
       "\t\t<td>13.5</td>\n",
       "\t\t<td>14.7</td>\n",
       "\t\t<td>16.5</td>\n",
       "\t\t<td>6.8475</td>\n",
       "\t\t<td>2.3265</td>\n",
       "\t\t<td>48</td>\n",
       "\t</tr>\n",
       "\t<tr>\n",
       "\t\t<td>0</td>\n",
       "\t\t<td>1</td>\n",
       "\t\t<td>0</td>\n",
       "\t\t<td>0</td>\n",
       "\t\t<td>0</td>\n",
       "\t\t<td>0</td>\n",
       "\t\t<td>0</td>\n",
       "\t\t<td>150</td>\n",
       "\t\t<td>18.4</td>\n",
       "\t\t<td>20.0</td>\n",
       "\t\t<td>22.4</td>\n",
       "\t\t<td>8.8928</td>\n",
       "\t\t<td>3.2928</td>\n",
       "\t\t<td>56</td>\n",
       "\t</tr>\n",
       "</table></html>"
      ],
      "text/plain": [
       "           Species_1  Species_2  Species_3  Species_4  Species_5  Species_6  Weight  Length1  Length2  Length3   Height   Width   id\n",
       "Species_0                                                                                                                           \n",
       "1                  0          0          0          0          0          0     925     36.2     39.5     45.3  18.7542  6.7497   50\n",
       "1                  0          0          0          0          0          0     700     31.9     35.0     40.5  16.2405  5.5890   74\n",
       "1                  0          0          0          0          0          0     850     32.8     36.0     41.6  16.8896  6.1984   82\n",
       "1                  0          0          0          0          0          0     430     26.5     29.0     34.0  12.4440  5.1340   90\n",
       "1                  0          0          0          0          0          0     290     24.0     26.3     31.2  12.4800  4.3056  106\n",
       "1                  0          0          0          0          0          0     500     28.7     31.0     36.2  14.3714  4.8146  114\n",
       "0                  1          0          0          0          0          0     120     17.5     19.0     21.3   8.3922  2.9181   24\n",
       "0                  1          0          0          0          0          0     200     21.2     23.0     25.8  10.3458  3.6636   40\n",
       "0                  1          0          0          0          0          0      55     13.5     14.7     16.5   6.8475  2.3265   48\n",
       "0                  1          0          0          0          0          0     150     18.4     20.0     22.4   8.8928  3.2928   56"
      ]
     },
     "metadata": {},
     "output_type": "display_data"
    },
    {
     "name": "stdout",
     "output_type": "stream",
     "text": [
      "                                                                                         \r"
     ]
    },
    {
     "data": {
      "text/html": [
       "127 rows X 14 columns"
      ],
      "text/plain": [
       "<IPython.core.display.HTML object>"
      ]
     },
     "metadata": {},
     "output_type": "display_data"
    },
    {
     "name": "stdout",
     "output_type": "stream",
     "text": [
      "                                                                                         \r"
     ]
    },
    {
     "data": {
      "text/html": [
       "Time taken to encode the columns: 14.13 sec"
      ],
      "text/plain": [
       "<IPython.core.display.HTML object>"
      ]
     },
     "metadata": {},
     "output_type": "display_data"
    },
    {
     "name": "stdout",
     "output_type": "stream",
     "text": [
      "                                                                                         \r"
     ]
    },
    {
     "data": {
      "text/html": [
       "\n",
       "            <style>\n",
       "                .custom-div {\n",
       "                    background-color: lightgray;\n",
       "                    color: #000000;\n",
       "                    padding: 10px;\n",
       "                    border-radius: 8px;\n",
       "                    box-shadow: 0 3px 4px rgba(0 -  0 -  0 -  0.2);\n",
       "                    margin-bottom: 10px;\n",
       "                    text-align: center;\n",
       "                }\n",
       "            </style>\n",
       "        <br><div class=\"custom-div\"><h3><span style=\"color: green;\">1. Feature Exploration -> 2. Feature Engineering -></span> 3. Data Preparation -> 4. Model Training & Evaluation<center></h3></center></div>"
      ],
      "text/plain": [
       "<IPython.core.display.HTML object>"
      ]
     },
     "metadata": {},
     "output_type": "display_data"
    },
    {
     "name": "stdout",
     "output_type": "stream",
     "text": [
      "                                                                                         \r"
     ]
    },
    {
     "data": {
      "text/html": [
       "Data preparation started ..."
      ],
      "text/plain": [
       "<IPython.core.display.HTML object>"
      ]
     },
     "metadata": {},
     "output_type": "display_data"
    },
    {
     "name": "stdout",
     "output_type": "stream",
     "text": [
      "                                                                                         \r"
     ]
    },
    {
     "data": {
      "text/html": [
       "\n",
       "Outlier preprocessing ..."
      ],
      "text/plain": [
       "<IPython.core.display.HTML object>"
      ]
     },
     "metadata": {},
     "output_type": "display_data"
    },
    {
     "name": "stdout",
     "output_type": "stream",
     "text": [
      "Columns with outlier percentage :-                                                                                                                                                                                                                                                                                                                                                                                                                                                                                  \n",
      "  ColumnName  OutlierPercentage\n",
      "0     Weight           0.787402\n",
      "1    Length3           0.787402\n",
      "2    Length2           0.787402\n",
      "3    Length1           1.574803\n",
      "                                                                                         \r"
     ]
    },
    {
     "data": {
      "text/html": [
       "Deleting rows of these columns:"
      ],
      "text/plain": [
       "<IPython.core.display.HTML object>"
      ]
     },
     "metadata": {},
     "output_type": "display_data"
    },
    {
     "name": "stdout",
     "output_type": "stream",
     "text": [
      "['Length1', 'Length3', 'Weight', 'Length2']\n",
      "                                                                                         \r"
     ]
    },
    {
     "data": {
      "text/html": [
       "Sample of dataset after removing outlier rows:"
      ],
      "text/plain": [
       "<IPython.core.display.HTML object>"
      ]
     },
     "metadata": {},
     "output_type": "display_data"
    },
    {
     "data": {
      "text/html": [
       "<style type=\"text/css\">\n",
       "\ttable {border:ridge 5px;}\n",
       "\ttable td {border:inset 1px;}\n",
       "\ttable tr#HeaderRow {background-color:grey; color:white;}</style>\n",
       "<html><table>\n",
       "\t<tr id=\"HeaderRow\">\n",
       "\t\t<th>Species_0</th>\n",
       "\t\t<th>Species_1</th>\n",
       "\t\t<th>Species_2</th>\n",
       "\t\t<th>Species_3</th>\n",
       "\t\t<th>Species_4</th>\n",
       "\t\t<th>Species_5</th>\n",
       "\t\t<th>Species_6</th>\n",
       "\t\t<th>Weight</th>\n",
       "\t\t<th>Length1</th>\n",
       "\t\t<th>Length2</th>\n",
       "\t\t<th>Length3</th>\n",
       "\t\t<th>Height</th>\n",
       "\t\t<th>Width</th>\n",
       "\t\t<th>id</th>\n",
       "\t</tr>\n",
       "\t<tr>\n",
       "\t\t<td>0</td>\n",
       "\t\t<td>1</td>\n",
       "\t\t<td>0</td>\n",
       "\t\t<td>0</td>\n",
       "\t\t<td>0</td>\n",
       "\t\t<td>0</td>\n",
       "\t\t<td>0</td>\n",
       "\t\t<td>60</td>\n",
       "\t\t<td>14.3</td>\n",
       "\t\t<td>15.5</td>\n",
       "\t\t<td>17.4</td>\n",
       "\t\t<td>6.5772</td>\n",
       "\t\t<td>2.3142</td>\n",
       "\t\t<td>80</td>\n",
       "\t</tr>\n",
       "\t<tr>\n",
       "\t\t<td>0</td>\n",
       "\t\t<td>0</td>\n",
       "\t\t<td>1</td>\n",
       "\t\t<td>0</td>\n",
       "\t\t<td>0</td>\n",
       "\t\t<td>0</td>\n",
       "\t\t<td>0</td>\n",
       "\t\t<td>900</td>\n",
       "\t\t<td>36.5</td>\n",
       "\t\t<td>39.0</td>\n",
       "\t\t<td>41.4</td>\n",
       "\t\t<td>11.1366</td>\n",
       "\t\t<td>7.4934</td>\n",
       "\t\t<td>104</td>\n",
       "\t</tr>\n",
       "\t<tr>\n",
       "\t\t<td>0</td>\n",
       "\t\t<td>0</td>\n",
       "\t\t<td>1</td>\n",
       "\t\t<td>0</td>\n",
       "\t\t<td>0</td>\n",
       "\t\t<td>0</td>\n",
       "\t\t<td>0</td>\n",
       "\t\t<td>700</td>\n",
       "\t\t<td>34.0</td>\n",
       "\t\t<td>36.0</td>\n",
       "\t\t<td>38.3</td>\n",
       "\t\t<td>10.6091</td>\n",
       "\t\t<td>6.7408</td>\n",
       "\t\t<td>112</td>\n",
       "\t</tr>\n",
       "\t<tr>\n",
       "\t\t<td>0</td>\n",
       "\t\t<td>0</td>\n",
       "\t\t<td>1</td>\n",
       "\t\t<td>0</td>\n",
       "\t\t<td>0</td>\n",
       "\t\t<td>0</td>\n",
       "\t\t<td>0</td>\n",
       "\t\t<td>135</td>\n",
       "\t\t<td>20.0</td>\n",
       "\t\t<td>22.0</td>\n",
       "\t\t<td>23.5</td>\n",
       "\t\t<td>5.875</td>\n",
       "\t\t<td>3.525</td>\n",
       "\t\t<td>120</td>\n",
       "\t</tr>\n",
       "\t<tr>\n",
       "\t\t<td>0</td>\n",
       "\t\t<td>0</td>\n",
       "\t\t<td>1</td>\n",
       "\t\t<td>0</td>\n",
       "\t\t<td>0</td>\n",
       "\t\t<td>0</td>\n",
       "\t\t<td>0</td>\n",
       "\t\t<td>250</td>\n",
       "\t\t<td>25.9</td>\n",
       "\t\t<td>28.0</td>\n",
       "\t\t<td>29.4</td>\n",
       "\t\t<td>7.8204</td>\n",
       "\t\t<td>4.2042</td>\n",
       "\t\t<td>144</td>\n",
       "\t</tr>\n",
       "\t<tr>\n",
       "\t\t<td>0</td>\n",
       "\t\t<td>0</td>\n",
       "\t\t<td>1</td>\n",
       "\t\t<td>0</td>\n",
       "\t\t<td>0</td>\n",
       "\t\t<td>0</td>\n",
       "\t\t<td>0</td>\n",
       "\t\t<td>180</td>\n",
       "\t\t<td>23.0</td>\n",
       "\t\t<td>25.0</td>\n",
       "\t\t<td>26.5</td>\n",
       "\t\t<td>6.4395</td>\n",
       "\t\t<td>3.6835</td>\n",
       "\t\t<td>152</td>\n",
       "\t</tr>\n",
       "\t<tr>\n",
       "\t\t<td>1</td>\n",
       "\t\t<td>0</td>\n",
       "\t\t<td>0</td>\n",
       "\t\t<td>0</td>\n",
       "\t\t<td>0</td>\n",
       "\t\t<td>0</td>\n",
       "\t\t<td>0</td>\n",
       "\t\t<td>925</td>\n",
       "\t\t<td>36.2</td>\n",
       "\t\t<td>39.5</td>\n",
       "\t\t<td>45.3</td>\n",
       "\t\t<td>18.7542</td>\n",
       "\t\t<td>6.7497</td>\n",
       "\t\t<td>50</td>\n",
       "\t</tr>\n",
       "\t<tr>\n",
       "\t\t<td>1</td>\n",
       "\t\t<td>0</td>\n",
       "\t\t<td>0</td>\n",
       "\t\t<td>0</td>\n",
       "\t\t<td>0</td>\n",
       "\t\t<td>0</td>\n",
       "\t\t<td>0</td>\n",
       "\t\t<td>700</td>\n",
       "\t\t<td>31.9</td>\n",
       "\t\t<td>35.0</td>\n",
       "\t\t<td>40.5</td>\n",
       "\t\t<td>16.2405</td>\n",
       "\t\t<td>5.589</td>\n",
       "\t\t<td>74</td>\n",
       "\t</tr>\n",
       "\t<tr>\n",
       "\t\t<td>1</td>\n",
       "\t\t<td>0</td>\n",
       "\t\t<td>0</td>\n",
       "\t\t<td>0</td>\n",
       "\t\t<td>0</td>\n",
       "\t\t<td>0</td>\n",
       "\t\t<td>0</td>\n",
       "\t\t<td>850</td>\n",
       "\t\t<td>32.8</td>\n",
       "\t\t<td>36.0</td>\n",
       "\t\t<td>41.6</td>\n",
       "\t\t<td>16.8896</td>\n",
       "\t\t<td>6.1984</td>\n",
       "\t\t<td>82</td>\n",
       "\t</tr>\n",
       "\t<tr>\n",
       "\t\t<td>1</td>\n",
       "\t\t<td>0</td>\n",
       "\t\t<td>0</td>\n",
       "\t\t<td>0</td>\n",
       "\t\t<td>0</td>\n",
       "\t\t<td>0</td>\n",
       "\t\t<td>0</td>\n",
       "\t\t<td>430</td>\n",
       "\t\t<td>26.5</td>\n",
       "\t\t<td>29.0</td>\n",
       "\t\t<td>34.0</td>\n",
       "\t\t<td>12.444</td>\n",
       "\t\t<td>5.134</td>\n",
       "\t\t<td>90</td>\n",
       "\t</tr>\n",
       "</table></html>"
      ],
      "text/plain": [
       "           Species_1  Species_2  Species_3  Species_4  Species_5  Species_6  Weight  Length1  Length2  Length3   Height   Width   id\n",
       "Species_0                                                                                                                           \n",
       "0                  1          0          0          0          0          0      60     14.3     15.5     17.4   6.5772  2.3142   80\n",
       "0                  0          1          0          0          0          0     900     36.5     39.0     41.4  11.1366  7.4934  104\n",
       "0                  0          1          0          0          0          0     700     34.0     36.0     38.3  10.6091  6.7408  112\n",
       "0                  0          1          0          0          0          0     135     20.0     22.0     23.5   5.8750  3.5250  120\n",
       "0                  0          1          0          0          0          0     250     25.9     28.0     29.4   7.8204  4.2042  144\n",
       "0                  0          1          0          0          0          0     180     23.0     25.0     26.5   6.4395  3.6835  152\n",
       "1                  0          0          0          0          0          0     925     36.2     39.5     45.3  18.7542  6.7497   50\n",
       "1                  0          0          0          0          0          0     700     31.9     35.0     40.5  16.2405  5.5890   74\n",
       "1                  0          0          0          0          0          0     850     32.8     36.0     41.6  16.8896  6.1984   82\n",
       "1                  0          0          0          0          0          0     430     26.5     29.0     34.0  12.4440  5.1340   90"
      ]
     },
     "metadata": {},
     "output_type": "display_data"
    },
    {
     "name": "stdout",
     "output_type": "stream",
     "text": [
      "                                                                                         \r"
     ]
    },
    {
     "data": {
      "text/html": [
       "125 rows X 14 columns"
      ],
      "text/plain": [
       "<IPython.core.display.HTML object>"
      ]
     },
     "metadata": {},
     "output_type": "display_data"
    },
    {
     "name": "stdout",
     "output_type": "stream",
     "text": [
      "                                                                                         \r"
     ]
    },
    {
     "data": {
      "text/html": [
       "Time Taken by Outlier processing: 35.12 sec "
      ],
      "text/plain": [
       "<IPython.core.display.HTML object>"
      ]
     },
     "metadata": {},
     "output_type": "display_data"
    },
    {
     "name": "stdout",
     "output_type": "stream",
     "text": [
      "                                                                                         \r"
     ]
    },
    {
     "data": {
      "text/html": [
       "\n",
       "Feature selection using lasso ..."
      ],
      "text/plain": [
       "<IPython.core.display.HTML object>"
      ]
     },
     "metadata": {},
     "output_type": "display_data"
    },
    {
     "name": "stdout",
     "output_type": "stream",
     "text": [
      "                                                                                         \r"
     ]
    },
    {
     "data": {
      "text/html": [
       "feature selected by lasso:"
      ],
      "text/plain": [
       "<IPython.core.display.HTML object>"
      ]
     },
     "metadata": {},
     "output_type": "display_data"
    },
    {
     "name": "stdout",
     "output_type": "stream",
     "text": [
      "['Species_5', 'Species_4', 'Species_0', 'Species_1', 'Species_3', 'Species_2', 'Length1', 'Length2', 'Length3', 'Height', 'Width']\n",
      "                                                                                         \r"
     ]
    },
    {
     "data": {
      "text/html": [
       "Total time taken by feature selection: 1.14 sec  "
      ],
      "text/plain": [
       "<IPython.core.display.HTML object>"
      ]
     },
     "metadata": {},
     "output_type": "display_data"
    },
    {
     "name": "stdout",
     "output_type": "stream",
     "text": [
      "                                                                                         \r"
     ]
    },
    {
     "data": {
      "text/html": [
       "\n",
       "scaling Features of lasso data ..."
      ],
      "text/plain": [
       "<IPython.core.display.HTML object>"
      ]
     },
     "metadata": {},
     "output_type": "display_data"
    },
    {
     "name": "stdout",
     "output_type": "stream",
     "text": [
      "                                                                                         \r"
     ]
    },
    {
     "data": {
      "text/html": [
       "columns that will be scaled: "
      ],
      "text/plain": [
       "<IPython.core.display.HTML object>"
      ]
     },
     "metadata": {},
     "output_type": "display_data"
    },
    {
     "name": "stdout",
     "output_type": "stream",
     "text": [
      "['Length1', 'Length2', 'Length3', 'Height', 'Width']\n",
      "                                                                                         \r"
     ]
    },
    {
     "data": {
      "text/html": [
       "Dataset sample after scaling:"
      ],
      "text/plain": [
       "<IPython.core.display.HTML object>"
      ]
     },
     "metadata": {},
     "output_type": "display_data"
    },
    {
     "data": {
      "text/html": [
       "<style type=\"text/css\">\n",
       "\ttable {border:ridge 5px;}\n",
       "\ttable td {border:inset 1px;}\n",
       "\ttable tr#HeaderRow {background-color:grey; color:white;}</style>\n",
       "<html><table>\n",
       "\t<tr id=\"HeaderRow\">\n",
       "\t\t<th>id</th>\n",
       "\t\t<th>Weight</th>\n",
       "\t\t<th>Species_5</th>\n",
       "\t\t<th>Species_4</th>\n",
       "\t\t<th>Species_0</th>\n",
       "\t\t<th>Species_1</th>\n",
       "\t\t<th>Species_3</th>\n",
       "\t\t<th>Species_2</th>\n",
       "\t\t<th>Length1</th>\n",
       "\t\t<th>Length2</th>\n",
       "\t\t<th>Length3</th>\n",
       "\t\t<th>Height</th>\n",
       "\t\t<th>Width</th>\n",
       "\t</tr>\n",
       "\t<tr>\n",
       "\t\t<td>12</td>\n",
       "\t\t<td>145</td>\n",
       "\t\t<td>0</td>\n",
       "\t\t<td>1</td>\n",
       "\t\t<td>0</td>\n",
       "\t\t<td>0</td>\n",
       "\t\t<td>0</td>\n",
       "\t\t<td>0</td>\n",
       "\t\t<td>-0.5508662208713092</td>\n",
       "\t\t<td>-0.5761608574802117</td>\n",
       "\t\t<td>-0.571934563248618</td>\n",
       "\t\t<td>-0.5328441399724315</td>\n",
       "\t\t<td>-0.4769239488285387</td>\n",
       "\t</tr>\n",
       "\t<tr>\n",
       "\t\t<td>15</td>\n",
       "\t\t<td>8</td>\n",
       "\t\t<td>1</td>\n",
       "\t\t<td>0</td>\n",
       "\t\t<td>0</td>\n",
       "\t\t<td>0</td>\n",
       "\t\t<td>0</td>\n",
       "\t\t<td>0</td>\n",
       "\t\t<td>-1.66667860444375</td>\n",
       "\t\t<td>-1.719846145221061</td>\n",
       "\t\t<td>-1.7113628410733064</td>\n",
       "\t\t<td>-1.6154317338709792</td>\n",
       "\t\t<td>-1.852109279895468</td>\n",
       "\t</tr>\n",
       "\t<tr>\n",
       "\t\t<td>16</td>\n",
       "\t\t<td>170</td>\n",
       "\t\t<td>0</td>\n",
       "\t\t<td>0</td>\n",
       "\t\t<td>0</td>\n",
       "\t\t<td>1</td>\n",
       "\t\t<td>0</td>\n",
       "\t\t<td>0</td>\n",
       "\t\t<td>-0.7234145276093156</td>\n",
       "\t\t<td>-0.7151132756169505</td>\n",
       "\t\t<td>-0.6790602987705975</td>\n",
       "\t\t<td>0.10942559242166185</td>\n",
       "\t\t<td>-0.560434275217912</td>\n",
       "\t</tr>\n",
       "\t<tr>\n",
       "\t\t<td>18</td>\n",
       "\t\t<td>575</td>\n",
       "\t\t<td>0</td>\n",
       "\t\t<td>0</td>\n",
       "\t\t<td>1</td>\n",
       "\t\t<td>0</td>\n",
       "\t\t<td>0</td>\n",
       "\t\t<td>0</td>\n",
       "\t\t<td>0.6914815876423365</td>\n",
       "\t\t<td>0.7064768483973762</td>\n",
       "\t\t<td>0.9083483276005496</td>\n",
       "\t\t<td>1.4424009520933387</td>\n",
       "\t\t<td>0.7518448056212136</td>\n",
       "\t</tr>\n",
       "\t<tr>\n",
       "\t\t<td>21</td>\n",
       "\t\t<td>500</td>\n",
       "\t\t<td>0</td>\n",
       "\t\t<td>0</td>\n",
       "\t\t<td>0</td>\n",
       "\t\t<td>0</td>\n",
       "\t\t<td>1</td>\n",
       "\t\t<td>0</td>\n",
       "\t\t<td>1.9223261757067815</td>\n",
       "\t\t<td>1.8822280787851653</td>\n",
       "\t\t<td>1.7361381020885711</td>\n",
       "\t\t<td>-0.4570162699700007</td>\n",
       "\t\t<td>0.34249833674753893</td>\n",
       "\t</tr>\n",
       "\t<tr>\n",
       "\t\t<td>23</td>\n",
       "\t\t<td>12</td>\n",
       "\t\t<td>1</td>\n",
       "\t\t<td>0</td>\n",
       "\t\t<td>0</td>\n",
       "\t\t<td>0</td>\n",
       "\t\t<td>0</td>\n",
       "\t\t<td>0</td>\n",
       "\t\t<td>-1.5171367386041448</td>\n",
       "\t\t<td>-1.5381391368884028</td>\n",
       "\t\t<td>-1.5944984023220563</td>\n",
       "\t\t<td>-1.5459519192229378</td>\n",
       "\t\t<td>-1.8699783016993077</td>\n",
       "\t</tr>\n",
       "\t<tr>\n",
       "\t\t<td>20</td>\n",
       "\t\t<td>0</td>\n",
       "\t\t<td>0</td>\n",
       "\t\t<td>1</td>\n",
       "\t\t<td>0</td>\n",
       "\t\t<td>0</td>\n",
       "\t\t<td>0</td>\n",
       "\t\t<td>0</td>\n",
       "\t\t<td>-0.7234145276093156</td>\n",
       "\t\t<td>-0.7364905707149102</td>\n",
       "\t\t<td>-0.7180151116876806</td>\n",
       "\t\t<td>-0.5697465716479473</td>\n",
       "\t\t<td>-0.5961723188255915</td>\n",
       "\t</tr>\n",
       "\t<tr>\n",
       "\t\t<td>13</td>\n",
       "\t\t<td>300</td>\n",
       "\t\t<td>0</td>\n",
       "\t\t<td>0</td>\n",
       "\t\t<td>0</td>\n",
       "\t\t<td>0</td>\n",
       "\t\t<td>1</td>\n",
       "\t\t<td>0</td>\n",
       "\t\t<td>0.8525266739311427</td>\n",
       "\t\t<td>0.8133633238871752</td>\n",
       "\t\t<td>0.8401774049956534</td>\n",
       "\t\t<td>-0.6950334663345762</td>\n",
       "\t\t<td>0.03155304576643743</td>\n",
       "\t</tr>\n",
       "\t<tr>\n",
       "\t\t<td>10</td>\n",
       "\t\t<td>720</td>\n",
       "\t\t<td>0</td>\n",
       "\t\t<td>0</td>\n",
       "\t\t<td>1</td>\n",
       "\t\t<td>0</td>\n",
       "\t\t<td>0</td>\n",
       "\t\t<td>0</td>\n",
       "\t\t<td>0.7720041307867394</td>\n",
       "\t\t<td>0.8133633238871752</td>\n",
       "\t\t<td>1.015474063122529</td>\n",
       "\t\t<td>1.7291795846416294</td>\n",
       "\t\t<td>1.0681994263320493</td>\n",
       "\t</tr>\n",
       "\t<tr>\n",
       "\t\t<td>8</td>\n",
       "\t\t<td>273</td>\n",
       "\t\t<td>0</td>\n",
       "\t\t<td>0</td>\n",
       "\t\t<td>0</td>\n",
       "\t\t<td>1</td>\n",
       "\t\t<td>0</td>\n",
       "\t\t<td>0</td>\n",
       "\t\t<td>-0.26328570964129866</td>\n",
       "\t\t<td>-0.25550143101081474</td>\n",
       "\t\t<td>-0.21160254376559703</td>\n",
       "\t\t<td>0.5028655066937029</td>\n",
       "\t\t<td>-0.11455963592210229</td>\n",
       "\t</tr>\n",
       "</table></html>"
      ],
      "text/plain": [
       "   id  Weight  Species_5  Species_4  Species_0  Species_1  Species_3  Species_2   Length1   Length2   Length3    Height     Width\n",
       "0  12     145          0          1          0          0          0          0 -0.550866 -0.576161 -0.571935 -0.532844 -0.476924\n",
       "1  15       8          1          0          0          0          0          0 -1.666679 -1.719846 -1.711363 -1.615432 -1.852109\n",
       "2  16     170          0          0          0          1          0          0 -0.723415 -0.715113 -0.679060  0.109426 -0.560434\n",
       "3  18     575          0          0          1          0          0          0  0.691482  0.706477  0.908348  1.442401  0.751845\n",
       "4  21     500          0          0          0          0          1          0  1.922326  1.882228  1.736138 -0.457016  0.342498\n",
       "5  23      12          1          0          0          0          0          0 -1.517137 -1.538139 -1.594498 -1.545952 -1.869978\n",
       "6  20       0          0          1          0          0          0          0 -0.723415 -0.736491 -0.718015 -0.569747 -0.596172\n",
       "7  13     300          0          0          0          0          1          0  0.852527  0.813363  0.840177 -0.695033  0.031553\n",
       "8  10     720          0          0          1          0          0          0  0.772004  0.813363  1.015474  1.729180  1.068199\n",
       "9   8     273          0          0          0          1          0          0 -0.263286 -0.255501 -0.211603  0.502866 -0.114560"
      ]
     },
     "metadata": {},
     "output_type": "display_data"
    },
    {
     "name": "stdout",
     "output_type": "stream",
     "text": [
      "                                                                                         \r"
     ]
    },
    {
     "data": {
      "text/html": [
       "125 rows X 13 columns"
      ],
      "text/plain": [
       "<IPython.core.display.HTML object>"
      ]
     },
     "metadata": {},
     "output_type": "display_data"
    },
    {
     "name": "stdout",
     "output_type": "stream",
     "text": [
      "                                                                                         \r"
     ]
    },
    {
     "data": {
      "text/html": [
       "Total time taken by feature scaling: 32.36 sec"
      ],
      "text/plain": [
       "<IPython.core.display.HTML object>"
      ]
     },
     "metadata": {},
     "output_type": "display_data"
    },
    {
     "name": "stdout",
     "output_type": "stream",
     "text": [
      "                                                                                          \r"
     ]
    },
    {
     "data": {
      "text/html": [
       "\n",
       "Feature selection using rfe ..."
      ],
      "text/plain": [
       "<IPython.core.display.HTML object>"
      ]
     },
     "metadata": {},
     "output_type": "display_data"
    },
    {
     "name": "stdout",
     "output_type": "stream",
     "text": [
      "                                                                                          \r"
     ]
    },
    {
     "data": {
      "text/html": [
       "feature selected by RFE:"
      ],
      "text/plain": [
       "<IPython.core.display.HTML object>"
      ]
     },
     "metadata": {},
     "output_type": "display_data"
    },
    {
     "name": "stdout",
     "output_type": "stream",
     "text": [
      "['Species_5', 'Species_6', 'Species_4', 'Species_0', 'Species_1', 'Species_3', 'Species_2', 'Length1', 'Length2', 'Length3', 'Height', 'Width']\n",
      "                                                                                          \r"
     ]
    },
    {
     "data": {
      "text/html": [
       "Total time taken by feature selection: 27.88 sec  "
      ],
      "text/plain": [
       "<IPython.core.display.HTML object>"
      ]
     },
     "metadata": {},
     "output_type": "display_data"
    },
    {
     "name": "stdout",
     "output_type": "stream",
     "text": [
      "                                                                                          \r"
     ]
    },
    {
     "data": {
      "text/html": [
       "\n",
       "scaling Features of rfe data ..."
      ],
      "text/plain": [
       "<IPython.core.display.HTML object>"
      ]
     },
     "metadata": {},
     "output_type": "display_data"
    },
    {
     "name": "stdout",
     "output_type": "stream",
     "text": [
      "                                                                                          \r"
     ]
    },
    {
     "data": {
      "text/html": [
       "columns that will be scaled: "
      ],
      "text/plain": [
       "<IPython.core.display.HTML object>"
      ]
     },
     "metadata": {},
     "output_type": "display_data"
    },
    {
     "name": "stdout",
     "output_type": "stream",
     "text": [
      "['r_Length1', 'r_Length2', 'r_Length3', 'r_Height', 'r_Width']\n",
      "                                                                                          \r"
     ]
    },
    {
     "data": {
      "text/html": [
       "Dataset sample after scaling:"
      ],
      "text/plain": [
       "<IPython.core.display.HTML object>"
      ]
     },
     "metadata": {},
     "output_type": "display_data"
    },
    {
     "data": {
      "text/html": [
       "<style type=\"text/css\">\n",
       "\ttable {border:ridge 5px;}\n",
       "\ttable td {border:inset 1px;}\n",
       "\ttable tr#HeaderRow {background-color:grey; color:white;}</style>\n",
       "<html><table>\n",
       "\t<tr id=\"HeaderRow\">\n",
       "\t\t<th>id</th>\n",
       "\t\t<th>r_Species_6</th>\n",
       "\t\t<th>Weight</th>\n",
       "\t\t<th>r_Species_5</th>\n",
       "\t\t<th>r_Species_0</th>\n",
       "\t\t<th>r_Species_3</th>\n",
       "\t\t<th>r_Species_4</th>\n",
       "\t\t<th>r_Species_2</th>\n",
       "\t\t<th>r_Species_1</th>\n",
       "\t\t<th>r_Length1</th>\n",
       "\t\t<th>r_Length2</th>\n",
       "\t\t<th>r_Length3</th>\n",
       "\t\t<th>r_Height</th>\n",
       "\t\t<th>r_Width</th>\n",
       "\t</tr>\n",
       "\t<tr>\n",
       "\t\t<td>12</td>\n",
       "\t\t<td>0</td>\n",
       "\t\t<td>145</td>\n",
       "\t\t<td>0</td>\n",
       "\t\t<td>0</td>\n",
       "\t\t<td>0</td>\n",
       "\t\t<td>1</td>\n",
       "\t\t<td>0</td>\n",
       "\t\t<td>0</td>\n",
       "\t\t<td>-0.5508662208713092</td>\n",
       "\t\t<td>-0.5761608574802117</td>\n",
       "\t\t<td>-0.571934563248618</td>\n",
       "\t\t<td>-0.5328441399724315</td>\n",
       "\t\t<td>-0.4769239488285387</td>\n",
       "\t</tr>\n",
       "\t<tr>\n",
       "\t\t<td>15</td>\n",
       "\t\t<td>0</td>\n",
       "\t\t<td>8</td>\n",
       "\t\t<td>1</td>\n",
       "\t\t<td>0</td>\n",
       "\t\t<td>0</td>\n",
       "\t\t<td>0</td>\n",
       "\t\t<td>0</td>\n",
       "\t\t<td>0</td>\n",
       "\t\t<td>-1.66667860444375</td>\n",
       "\t\t<td>-1.719846145221061</td>\n",
       "\t\t<td>-1.7113628410733064</td>\n",
       "\t\t<td>-1.6154317338709792</td>\n",
       "\t\t<td>-1.852109279895468</td>\n",
       "\t</tr>\n",
       "\t<tr>\n",
       "\t\t<td>16</td>\n",
       "\t\t<td>0</td>\n",
       "\t\t<td>170</td>\n",
       "\t\t<td>0</td>\n",
       "\t\t<td>0</td>\n",
       "\t\t<td>0</td>\n",
       "\t\t<td>0</td>\n",
       "\t\t<td>0</td>\n",
       "\t\t<td>1</td>\n",
       "\t\t<td>-0.7234145276093156</td>\n",
       "\t\t<td>-0.7151132756169505</td>\n",
       "\t\t<td>-0.6790602987705975</td>\n",
       "\t\t<td>0.10942559242166185</td>\n",
       "\t\t<td>-0.560434275217912</td>\n",
       "\t</tr>\n",
       "\t<tr>\n",
       "\t\t<td>18</td>\n",
       "\t\t<td>0</td>\n",
       "\t\t<td>575</td>\n",
       "\t\t<td>0</td>\n",
       "\t\t<td>1</td>\n",
       "\t\t<td>0</td>\n",
       "\t\t<td>0</td>\n",
       "\t\t<td>0</td>\n",
       "\t\t<td>0</td>\n",
       "\t\t<td>0.6914815876423365</td>\n",
       "\t\t<td>0.7064768483973762</td>\n",
       "\t\t<td>0.9083483276005496</td>\n",
       "\t\t<td>1.4424009520933387</td>\n",
       "\t\t<td>0.7518448056212136</td>\n",
       "\t</tr>\n",
       "\t<tr>\n",
       "\t\t<td>21</td>\n",
       "\t\t<td>0</td>\n",
       "\t\t<td>500</td>\n",
       "\t\t<td>0</td>\n",
       "\t\t<td>0</td>\n",
       "\t\t<td>1</td>\n",
       "\t\t<td>0</td>\n",
       "\t\t<td>0</td>\n",
       "\t\t<td>0</td>\n",
       "\t\t<td>1.9223261757067815</td>\n",
       "\t\t<td>1.8822280787851653</td>\n",
       "\t\t<td>1.7361381020885711</td>\n",
       "\t\t<td>-0.4570162699700007</td>\n",
       "\t\t<td>0.34249833674753893</td>\n",
       "\t</tr>\n",
       "\t<tr>\n",
       "\t\t<td>23</td>\n",
       "\t\t<td>0</td>\n",
       "\t\t<td>12</td>\n",
       "\t\t<td>1</td>\n",
       "\t\t<td>0</td>\n",
       "\t\t<td>0</td>\n",
       "\t\t<td>0</td>\n",
       "\t\t<td>0</td>\n",
       "\t\t<td>0</td>\n",
       "\t\t<td>-1.5171367386041448</td>\n",
       "\t\t<td>-1.5381391368884028</td>\n",
       "\t\t<td>-1.5944984023220563</td>\n",
       "\t\t<td>-1.5459519192229378</td>\n",
       "\t\t<td>-1.8699783016993077</td>\n",
       "\t</tr>\n",
       "\t<tr>\n",
       "\t\t<td>20</td>\n",
       "\t\t<td>0</td>\n",
       "\t\t<td>0</td>\n",
       "\t\t<td>0</td>\n",
       "\t\t<td>0</td>\n",
       "\t\t<td>0</td>\n",
       "\t\t<td>1</td>\n",
       "\t\t<td>0</td>\n",
       "\t\t<td>0</td>\n",
       "\t\t<td>-0.7234145276093156</td>\n",
       "\t\t<td>-0.7364905707149102</td>\n",
       "\t\t<td>-0.7180151116876806</td>\n",
       "\t\t<td>-0.5697465716479473</td>\n",
       "\t\t<td>-0.5961723188255915</td>\n",
       "\t</tr>\n",
       "\t<tr>\n",
       "\t\t<td>13</td>\n",
       "\t\t<td>0</td>\n",
       "\t\t<td>300</td>\n",
       "\t\t<td>0</td>\n",
       "\t\t<td>0</td>\n",
       "\t\t<td>1</td>\n",
       "\t\t<td>0</td>\n",
       "\t\t<td>0</td>\n",
       "\t\t<td>0</td>\n",
       "\t\t<td>0.8525266739311427</td>\n",
       "\t\t<td>0.8133633238871752</td>\n",
       "\t\t<td>0.8401774049956534</td>\n",
       "\t\t<td>-0.6950334663345762</td>\n",
       "\t\t<td>0.03155304576643743</td>\n",
       "\t</tr>\n",
       "\t<tr>\n",
       "\t\t<td>10</td>\n",
       "\t\t<td>0</td>\n",
       "\t\t<td>720</td>\n",
       "\t\t<td>0</td>\n",
       "\t\t<td>1</td>\n",
       "\t\t<td>0</td>\n",
       "\t\t<td>0</td>\n",
       "\t\t<td>0</td>\n",
       "\t\t<td>0</td>\n",
       "\t\t<td>0.7720041307867394</td>\n",
       "\t\t<td>0.8133633238871752</td>\n",
       "\t\t<td>1.015474063122529</td>\n",
       "\t\t<td>1.7291795846416294</td>\n",
       "\t\t<td>1.0681994263320493</td>\n",
       "\t</tr>\n",
       "\t<tr>\n",
       "\t\t<td>8</td>\n",
       "\t\t<td>0</td>\n",
       "\t\t<td>273</td>\n",
       "\t\t<td>0</td>\n",
       "\t\t<td>0</td>\n",
       "\t\t<td>0</td>\n",
       "\t\t<td>0</td>\n",
       "\t\t<td>0</td>\n",
       "\t\t<td>1</td>\n",
       "\t\t<td>-0.26328570964129866</td>\n",
       "\t\t<td>-0.25550143101081474</td>\n",
       "\t\t<td>-0.21160254376559703</td>\n",
       "\t\t<td>0.5028655066937029</td>\n",
       "\t\t<td>-0.11455963592210229</td>\n",
       "\t</tr>\n",
       "</table></html>"
      ],
      "text/plain": [
       "   id  r_Species_6  Weight  r_Species_5  r_Species_0  r_Species_3  r_Species_4  r_Species_2  r_Species_1  r_Length1  r_Length2  r_Length3  r_Height   r_Width\n",
       "0  12            0     145            0            0            0            1            0            0  -0.550866  -0.576161  -0.571935 -0.532844 -0.476924\n",
       "1  15            0       8            1            0            0            0            0            0  -1.666679  -1.719846  -1.711363 -1.615432 -1.852109\n",
       "2  16            0     170            0            0            0            0            0            1  -0.723415  -0.715113  -0.679060  0.109426 -0.560434\n",
       "3  18            0     575            0            1            0            0            0            0   0.691482   0.706477   0.908348  1.442401  0.751845\n",
       "4  21            0     500            0            0            1            0            0            0   1.922326   1.882228   1.736138 -0.457016  0.342498\n",
       "5  23            0      12            1            0            0            0            0            0  -1.517137  -1.538139  -1.594498 -1.545952 -1.869978\n",
       "6  20            0       0            0            0            0            1            0            0  -0.723415  -0.736491  -0.718015 -0.569747 -0.596172\n",
       "7  13            0     300            0            0            1            0            0            0   0.852527   0.813363   0.840177 -0.695033  0.031553\n",
       "8  10            0     720            0            1            0            0            0            0   0.772004   0.813363   1.015474  1.729180  1.068199\n",
       "9   8            0     273            0            0            0            0            0            1  -0.263286  -0.255501  -0.211603  0.502866 -0.114560"
      ]
     },
     "metadata": {},
     "output_type": "display_data"
    },
    {
     "name": "stdout",
     "output_type": "stream",
     "text": [
      "                                                                                          \r"
     ]
    },
    {
     "data": {
      "text/html": [
       "125 rows X 14 columns"
      ],
      "text/plain": [
       "<IPython.core.display.HTML object>"
      ]
     },
     "metadata": {},
     "output_type": "display_data"
    },
    {
     "name": "stdout",
     "output_type": "stream",
     "text": [
      "                                                                                          \r"
     ]
    },
    {
     "data": {
      "text/html": [
       "Total time taken by feature scaling: 37.79 sec"
      ],
      "text/plain": [
       "<IPython.core.display.HTML object>"
      ]
     },
     "metadata": {},
     "output_type": "display_data"
    },
    {
     "name": "stdout",
     "output_type": "stream",
     "text": [
      "                                                                                          \r"
     ]
    },
    {
     "data": {
      "text/html": [
       "\n",
       "scaling Features of pca data ..."
      ],
      "text/plain": [
       "<IPython.core.display.HTML object>"
      ]
     },
     "metadata": {},
     "output_type": "display_data"
    },
    {
     "name": "stdout",
     "output_type": "stream",
     "text": [
      "                                                                                          \r"
     ]
    },
    {
     "data": {
      "text/html": [
       "columns that will be scaled: "
      ],
      "text/plain": [
       "<IPython.core.display.HTML object>"
      ]
     },
     "metadata": {},
     "output_type": "display_data"
    },
    {
     "name": "stdout",
     "output_type": "stream",
     "text": [
      "['Length1', 'Length2', 'Length3', 'Height', 'Width']\n",
      "                                                                                          \r"
     ]
    },
    {
     "data": {
      "text/html": [
       "Dataset sample after scaling:"
      ],
      "text/plain": [
       "<IPython.core.display.HTML object>"
      ]
     },
     "metadata": {},
     "output_type": "display_data"
    },
    {
     "data": {
      "text/html": [
       "<style type=\"text/css\">\n",
       "\ttable {border:ridge 5px;}\n",
       "\ttable td {border:inset 1px;}\n",
       "\ttable tr#HeaderRow {background-color:grey; color:white;}</style>\n",
       "<html><table>\n",
       "\t<tr id=\"HeaderRow\">\n",
       "\t\t<th>id</th>\n",
       "\t\t<th>Species_5</th>\n",
       "\t\t<th>Species_6</th>\n",
       "\t\t<th>Species_4</th>\n",
       "\t\t<th>Weight</th>\n",
       "\t\t<th>Species_0</th>\n",
       "\t\t<th>Species_1</th>\n",
       "\t\t<th>Species_3</th>\n",
       "\t\t<th>Species_2</th>\n",
       "\t\t<th>Length1</th>\n",
       "\t\t<th>Length2</th>\n",
       "\t\t<th>Length3</th>\n",
       "\t\t<th>Height</th>\n",
       "\t\t<th>Width</th>\n",
       "\t</tr>\n",
       "\t<tr>\n",
       "\t\t<td>82</td>\n",
       "\t\t<td>0</td>\n",
       "\t\t<td>0</td>\n",
       "\t\t<td>0</td>\n",
       "\t\t<td>850</td>\n",
       "\t\t<td>1</td>\n",
       "\t\t<td>0</td>\n",
       "\t\t<td>0</td>\n",
       "\t\t<td>0</td>\n",
       "\t\t<td>0.8640298943803432</td>\n",
       "\t\t<td>0.9202497993769743</td>\n",
       "\t\t<td>1.1128610954152378</td>\n",
       "\t\t<td>1.851908654826491</td>\n",
       "\t\t<td>1.1340838468604932</td>\n",
       "\t</tr>\n",
       "\t<tr>\n",
       "\t\t<td>106</td>\n",
       "\t\t<td>0</td>\n",
       "\t\t<td>0</td>\n",
       "\t\t<td>0</td>\n",
       "\t\t<td>290</td>\n",
       "\t\t<td>1</td>\n",
       "\t\t<td>0</td>\n",
       "\t\t<td>0</td>\n",
       "\t\t<td>0</td>\n",
       "\t\t<td>-0.1482535051492941</td>\n",
       "\t\t<td>-0.11654901287407637</td>\n",
       "\t\t<td>0.10003595957107013</td>\n",
       "\t\t<td>0.826546570917511</td>\n",
       "\t\t<td>-0.01634079498671075</td>\n",
       "\t</tr>\n",
       "\t<tr>\n",
       "\t\t<td>114</td>\n",
       "\t\t<td>0</td>\n",
       "\t\t<td>0</td>\n",
       "\t\t<td>0</td>\n",
       "\t\t<td>500</td>\n",
       "\t\t<td>1</td>\n",
       "\t\t<td>0</td>\n",
       "\t\t<td>0</td>\n",
       "\t\t<td>0</td>\n",
       "\t\t<td>0.3923978559631259</td>\n",
       "\t\t<td>0.385817421927979</td>\n",
       "\t\t<td>0.5869711210346125</td>\n",
       "\t\t<td>1.266352867521612</td>\n",
       "\t\t<td>0.29302424236548025</td>\n",
       "\t</tr>\n",
       "\t<tr>\n",
       "\t\t<td>122</td>\n",
       "\t\t<td>0</td>\n",
       "\t\t<td>0</td>\n",
       "\t\t<td>0</td>\n",
       "\t\t<td>475</td>\n",
       "\t\t<td>1</td>\n",
       "\t\t<td>0</td>\n",
       "\t\t<td>0</td>\n",
       "\t\t<td>0</td>\n",
       "\t\t<td>0.3578881946155245</td>\n",
       "\t\t<td>0.385817421927979</td>\n",
       "\t\t<td>0.5869711210346125</td>\n",
       "\t\t<td>1.2411001638041512</td>\n",
       "\t\t<td>0.4690401850318736</td>\n",
       "\t</tr>\n",
       "\t<tr>\n",
       "\t\t<td>146</td>\n",
       "\t\t<td>0</td>\n",
       "\t\t<td>0</td>\n",
       "\t\t<td>0</td>\n",
       "\t\t<td>390</td>\n",
       "\t\t<td>1</td>\n",
       "\t\t<td>0</td>\n",
       "\t\t<td>0</td>\n",
       "\t\t<td>0</td>\n",
       "\t\t<td>0.2658624310219214</td>\n",
       "\t\t<td>0.27893094643818</td>\n",
       "\t\t<td>0.4701066822833621</td>\n",
       "\t\t<td>0.8707271759480593</td>\n",
       "\t\t<td>0.21729362614920722</td>\n",
       "\t</tr>\n",
       "\t<tr>\n",
       "\t\t<td>154</td>\n",
       "\t\t<td>0</td>\n",
       "\t\t<td>0</td>\n",
       "\t\t<td>0</td>\n",
       "\t\t<td>975</td>\n",
       "\t\t<td>1</td>\n",
       "\t\t<td>0</td>\n",
       "\t\t<td>0</td>\n",
       "\t\t<td>0</td>\n",
       "\t\t<td>1.393178035043563</td>\n",
       "\t\t<td>1.4546821768259695</td>\n",
       "\t\t<td>1.5316253342738837</td>\n",
       "\t\t<td>2.257858656207182</td>\n",
       "\t\t<td>1.467699699517895</td>\n",
       "\t</tr>\n",
       "\t<tr>\n",
       "\t\t<td>48</td>\n",
       "\t\t<td>0</td>\n",
       "\t\t<td>0</td>\n",
       "\t\t<td>0</td>\n",
       "\t\t<td>55</td>\n",
       "\t\t<td>0</td>\n",
       "\t\t<td>1</td>\n",
       "\t\t<td>0</td>\n",
       "\t\t<td>0</td>\n",
       "\t\t<td>-1.356091652315339</td>\n",
       "\t\t<td>-1.3564321285557455</td>\n",
       "\t\t<td>-1.3315534151317434</td>\n",
       "\t\t<td>-0.4831758387380877</td>\n",
       "\t\t<td>-1.2192177015166143</td>\n",
       "\t</tr>\n",
       "\t<tr>\n",
       "\t\t<td>72</td>\n",
       "\t\t<td>0</td>\n",
       "\t\t<td>0</td>\n",
       "\t\t<td>0</td>\n",
       "\t\t<td>145</td>\n",
       "\t\t<td>0</td>\n",
       "\t\t<td>1</td>\n",
       "\t\t<td>0</td>\n",
       "\t\t<td>0</td>\n",
       "\t\t<td>-0.631388764015712</td>\n",
       "\t\t<td>-0.6296040952251118</td>\n",
       "\t\t<td>-0.5914119697071594</td>\n",
       "\t\t<td>0.18857863427639227</td>\n",
       "\t\t<td>-0.714387446065279</td>\n",
       "\t</tr>\n",
       "\t<tr>\n",
       "\t\t<td>80</td>\n",
       "\t\t<td>0</td>\n",
       "\t\t<td>0</td>\n",
       "\t\t<td>0</td>\n",
       "\t\t<td>60</td>\n",
       "\t\t<td>0</td>\n",
       "\t\t<td>1</td>\n",
       "\t\t<td>0</td>\n",
       "\t\t<td>0</td>\n",
       "\t\t<td>-1.2640658887217355</td>\n",
       "\t\t<td>-1.2709229481639062</td>\n",
       "\t\t<td>-1.2439050860683059</td>\n",
       "\t\t<td>-0.5460285626315468</td>\n",
       "\t\t<td>-1.2266935167610777</td>\n",
       "\t</tr>\n",
       "\t<tr>\n",
       "\t\t<td>88</td>\n",
       "\t\t<td>0</td>\n",
       "\t\t<td>0</td>\n",
       "\t\t<td>0</td>\n",
       "\t\t<td>40</td>\n",
       "\t\t<td>0</td>\n",
       "\t\t<td>0</td>\n",
       "\t\t<td>0</td>\n",
       "\t\t<td>1</td>\n",
       "\t\t<td>-1.3215819909677375</td>\n",
       "\t\t<td>-1.3243661859088056</td>\n",
       "\t\t<td>-1.3802469312780976</td>\n",
       "\t\t<td>-1.186228782474209</td>\n",
       "\t\t<td>-1.1550958715742643</td>\n",
       "\t</tr>\n",
       "</table></html>"
      ],
      "text/plain": [
       "    id  Species_5  Species_6  Species_4  Weight  Species_0  Species_1  Species_3  Species_2   Length1   Length2   Length3    Height     Width\n",
       "0   82          0          0          0     850          1          0          0          0  0.864030  0.920250  1.112861  1.851909  1.134084\n",
       "1  106          0          0          0     290          1          0          0          0 -0.148254 -0.116549  0.100036  0.826547 -0.016341\n",
       "2  114          0          0          0     500          1          0          0          0  0.392398  0.385817  0.586971  1.266353  0.293024\n",
       "3  122          0          0          0     475          1          0          0          0  0.357888  0.385817  0.586971  1.241100  0.469040\n",
       "4  146          0          0          0     390          1          0          0          0  0.265862  0.278931  0.470107  0.870727  0.217294\n",
       "5  154          0          0          0     975          1          0          0          0  1.393178  1.454682  1.531625  2.257859  1.467700\n",
       "6   48          0          0          0      55          0          1          0          0 -1.356092 -1.356432 -1.331553 -0.483176 -1.219218\n",
       "7   72          0          0          0     145          0          1          0          0 -0.631389 -0.629604 -0.591412  0.188579 -0.714387\n",
       "8   80          0          0          0      60          0          1          0          0 -1.264066 -1.270923 -1.243905 -0.546029 -1.226694\n",
       "9   88          0          0          0      40          0          0          0          1 -1.321582 -1.324366 -1.380247 -1.186229 -1.155096"
      ]
     },
     "metadata": {},
     "output_type": "display_data"
    },
    {
     "name": "stdout",
     "output_type": "stream",
     "text": [
      "                                                                                          \r"
     ]
    },
    {
     "data": {
      "text/html": [
       "125 rows X 14 columns"
      ],
      "text/plain": [
       "<IPython.core.display.HTML object>"
      ]
     },
     "metadata": {},
     "output_type": "display_data"
    },
    {
     "name": "stdout",
     "output_type": "stream",
     "text": [
      "                                                                                          \r"
     ]
    },
    {
     "data": {
      "text/html": [
       "Total time taken by feature scaling: 31.67 sec"
      ],
      "text/plain": [
       "<IPython.core.display.HTML object>"
      ]
     },
     "metadata": {},
     "output_type": "display_data"
    },
    {
     "name": "stdout",
     "output_type": "stream",
     "text": [
      "                                                                                          \r"
     ]
    },
    {
     "data": {
      "text/html": [
       "\n",
       "Dimension Reduction using pca ..."
      ],
      "text/plain": [
       "<IPython.core.display.HTML object>"
      ]
     },
     "metadata": {},
     "output_type": "display_data"
    },
    {
     "name": "stdout",
     "output_type": "stream",
     "text": [
      "                                                                                          \r"
     ]
    },
    {
     "data": {
      "text/html": [
       "PCA columns:"
      ],
      "text/plain": [
       "<IPython.core.display.HTML object>"
      ]
     },
     "metadata": {},
     "output_type": "display_data"
    },
    {
     "name": "stdout",
     "output_type": "stream",
     "text": [
      "['col_0', 'col_1', 'col_2', 'col_3']\n",
      "                                                                                          \r"
     ]
    },
    {
     "data": {
      "text/html": [
       "Total time taken by PCA: 5.45 sec  "
      ],
      "text/plain": [
       "<IPython.core.display.HTML object>"
      ]
     },
     "metadata": {},
     "output_type": "display_data"
    },
    {
     "name": "stdout",
     "output_type": "stream",
     "text": [
      "                                                                                          \r"
     ]
    },
    {
     "data": {
      "text/html": [
       "\n",
       "            <style>\n",
       "                .custom-div {\n",
       "                    background-color: lightgray;\n",
       "                    color: #000000;\n",
       "                    padding: 10px;\n",
       "                    border-radius: 8px;\n",
       "                    box-shadow: 0 3px 4px rgba(0 -  0 -  0 -  0.2);\n",
       "                    margin-bottom: 10px;\n",
       "                    text-align: center;\n",
       "                }\n",
       "            </style>\n",
       "        <br><div class=\"custom-div\"><h3><span style=\"color: green;\">1. Feature Exploration -> 2. Feature Engineering -> 3. Data Preparation -></span> 4. Model Training & Evaluation<center></h3></center></div>"
      ],
      "text/plain": [
       "<IPython.core.display.HTML object>"
      ]
     },
     "metadata": {},
     "output_type": "display_data"
    },
    {
     "name": "stdout",
     "output_type": "stream",
     "text": [
      "                                                                                          \r"
     ]
    },
    {
     "data": {
      "text/html": [
       "Model Training started ..."
      ],
      "text/plain": [
       "<IPython.core.display.HTML object>"
      ]
     },
     "metadata": {},
     "output_type": "display_data"
    },
    {
     "name": "stdout",
     "output_type": "stream",
     "text": [
      "                                                                                          \r"
     ]
    },
    {
     "data": {
      "text/html": [
       "\n",
       "Hyperparameters used for model training: "
      ],
      "text/plain": [
       "<IPython.core.display.HTML object>"
      ]
     },
     "metadata": {},
     "output_type": "display_data"
    },
    {
     "name": "stdout",
     "output_type": "stream",
     "text": [
      "response_column : Weight                                                                                                                              \n",
      "name : svm\n",
      "model_type : regression\n",
      "lambda1 : (0.001, 0.02, 0.1)\n",
      "alpha : (0.15, 0.85)\n",
      "tolerance : (0.001, 0.01)\n",
      "learning_rate : ('Invtime', 'Adaptive', 'constant')\n",
      "initial_eta : (0.05, 0.1)\n",
      "momentum : (0.65, 0.8, 0.95)\n",
      "nesterov : True\n",
      "intercept : True\n",
      "iter_num_no_change : (5, 10, 50)\n",
      "local_sgd_iterations  : (10, 20)\n",
      "iter_max : (300, 200, 400)\n",
      "batch_size : (10, 50, 60, 80)\n",
      "Total number of models for svm : 15552\n",
      "--------------------------------------------------------------------------------------------------------------------------------------------------------------------------------------------------------\n",
      "\n",
      "response_column : Weight\n",
      "name : xgboost\n",
      "model_type : Regression\n",
      "column_sampling : (1, 0.6)\n",
      "min_impurity : (0.0, 0.1, 0.2)\n",
      "lambda1 : (0.01, 0.1, 1, 10)\n",
      "shrinkage_factor : (0.5, 0.1, 0.3)\n",
      "max_depth : (5, 6, 8, 10)\n",
      "min_node_size : (1, 2, 3)\n",
      "iter_num : (10, 20, 30)\n",
      "seed : 42\n",
      "Total number of models for xgboost : 2592\n",
      "--------------------------------------------------------------------------------------------------------------------------------------------------------------------------------------------------------\n",
      "\n",
      "response_column : Weight\n",
      "name : decision_forest\n",
      "tree_type : Regression\n",
      "min_impurity : (0.0, 0.1, 0.2)\n",
      "max_depth : (5, 6, 8, 10)\n",
      "min_node_size : (1, 2, 3)\n",
      "num_trees : (-1, 20, 30)\n",
      "seed : 42\n",
      "Total number of models for decision_forest : 108\n",
      "--------------------------------------------------------------------------------------------------------------------------------------------------------------------------------------------------------\n",
      "\n",
      "                                                                                          \r"
     ]
    },
    {
     "data": {
      "text/html": [
       "\n",
       "Performing hyperparameter tuning ..."
      ],
      "text/plain": [
       "<IPython.core.display.HTML object>"
      ]
     },
     "metadata": {},
     "output_type": "display_data"
    },
    {
     "name": "stdout",
     "output_type": "stream",
     "text": [
      "                                                                                          \r"
     ]
    },
    {
     "data": {
      "text/html": [
       "svm"
      ],
      "text/plain": [
       "<IPython.core.display.HTML object>"
      ]
     },
     "metadata": {},
     "output_type": "display_data"
    },
    {
     "name": "stdout",
     "output_type": "stream",
     "text": [
      "                                                                                                                                                                                                        \r"
     ]
    },
    {
     "data": {
      "text/html": [
       "----------------------------------------------------------------------------------------------------"
      ],
      "text/plain": [
       "<IPython.core.display.HTML object>"
      ]
     },
     "metadata": {},
     "output_type": "display_data"
    },
    {
     "name": "stdout",
     "output_type": "stream",
     "text": [
      "                                                                                          \r"
     ]
    },
    {
     "data": {
      "text/html": [
       "xgboost"
      ],
      "text/plain": [
       "<IPython.core.display.HTML object>"
      ]
     },
     "metadata": {},
     "output_type": "display_data"
    },
    {
     "name": "stdout",
     "output_type": "stream",
     "text": [
      "                                                                                                                                                                                                        \r"
     ]
    },
    {
     "data": {
      "text/html": [
       "----------------------------------------------------------------------------------------------------"
      ],
      "text/plain": [
       "<IPython.core.display.HTML object>"
      ]
     },
     "metadata": {},
     "output_type": "display_data"
    },
    {
     "name": "stdout",
     "output_type": "stream",
     "text": [
      "                                                                                          \r"
     ]
    },
    {
     "data": {
      "text/html": [
       "decision_forest"
      ],
      "text/plain": [
       "<IPython.core.display.HTML object>"
      ]
     },
     "metadata": {},
     "output_type": "display_data"
    },
    {
     "name": "stdout",
     "output_type": "stream",
     "text": [
      "                                                                                                                                                                                                        \r"
     ]
    },
    {
     "data": {
      "text/html": [
       "----------------------------------------------------------------------------------------------------"
      ],
      "text/plain": [
       "<IPython.core.display.HTML object>"
      ]
     },
     "metadata": {},
     "output_type": "display_data"
    },
    {
     "name": "stdout",
     "output_type": "stream",
     "text": [
      "                                                                                          \r"
     ]
    },
    {
     "data": {
      "text/html": [
       "Leaderboard"
      ],
      "text/plain": [
       "<IPython.core.display.HTML object>"
      ]
     },
     "metadata": {},
     "output_type": "display_data"
    },
    {
     "data": {
      "text/html": [
       "<div>\n",
       "<style scoped>\n",
       "    .dataframe tbody tr th:only-of-type {\n",
       "        vertical-align: middle;\n",
       "    }\n",
       "\n",
       "    .dataframe tbody tr th {\n",
       "        vertical-align: top;\n",
       "    }\n",
       "\n",
       "    .dataframe thead th {\n",
       "        text-align: right;\n",
       "    }\n",
       "</style>\n",
       "<table border=\"1\" class=\"dataframe\">\n",
       "  <thead>\n",
       "    <tr style=\"text-align: right;\">\n",
       "      <th></th>\n",
       "      <th>RANK</th>\n",
       "      <th>MODEL_ID</th>\n",
       "      <th>FEATURE_SELECTION</th>\n",
       "      <th>MAE</th>\n",
       "      <th>MSE</th>\n",
       "      <th>MSLE</th>\n",
       "      <th>MAPE</th>\n",
       "      <th>MPE</th>\n",
       "      <th>RMSE</th>\n",
       "      <th>RMSLE</th>\n",
       "      <th>ME</th>\n",
       "      <th>R2</th>\n",
       "      <th>EV</th>\n",
       "      <th>MPD</th>\n",
       "      <th>MGD</th>\n",
       "      <th>ADJUSTED_R2</th>\n",
       "    </tr>\n",
       "  </thead>\n",
       "  <tbody>\n",
       "    <tr>\n",
       "      <th>0</th>\n",
       "      <td>1</td>\n",
       "      <td>XGBOOST_1</td>\n",
       "      <td>rfe</td>\n",
       "      <td>47.240955</td>\n",
       "      <td>6011.971676</td>\n",
       "      <td>0.041518</td>\n",
       "      <td>16.395559</td>\n",
       "      <td>-7.558717</td>\n",
       "      <td>77.536905</td>\n",
       "      <td>0.203760</td>\n",
       "      <td>216.919976</td>\n",
       "      <td>0.931365</td>\n",
       "      <td>0.934928</td>\n",
       "      <td>12.358868</td>\n",
       "      <td>0.040318</td>\n",
       "      <td>0.924011</td>\n",
       "    </tr>\n",
       "    <tr>\n",
       "      <th>1</th>\n",
       "      <td>2</td>\n",
       "      <td>XGBOOST_2</td>\n",
       "      <td>pca</td>\n",
       "      <td>124.212769</td>\n",
       "      <td>29329.736668</td>\n",
       "      <td>0.310883</td>\n",
       "      <td>39.268984</td>\n",
       "      <td>39.268984</td>\n",
       "      <td>171.259267</td>\n",
       "      <td>0.557568</td>\n",
       "      <td>434.527852</td>\n",
       "      <td>0.665159</td>\n",
       "      <td>0.841301</td>\n",
       "      <td>71.159775</td>\n",
       "      <td>0.449655</td>\n",
       "      <td>0.653997</td>\n",
       "    </tr>\n",
       "    <tr>\n",
       "      <th>2</th>\n",
       "      <td>3</td>\n",
       "      <td>DECISIONFOREST_2</td>\n",
       "      <td>pca</td>\n",
       "      <td>176.221167</td>\n",
       "      <td>43976.011351</td>\n",
       "      <td>1.673942</td>\n",
       "      <td>407.183623</td>\n",
       "      <td>-388.408201</td>\n",
       "      <td>209.704581</td>\n",
       "      <td>1.293809</td>\n",
       "      <td>493.195833</td>\n",
       "      <td>0.497950</td>\n",
       "      <td>0.507133</td>\n",
       "      <td>146.801099</td>\n",
       "      <td>0.889479</td>\n",
       "      <td>0.481215</td>\n",
       "    </tr>\n",
       "    <tr>\n",
       "      <th>3</th>\n",
       "      <td>4</td>\n",
       "      <td>DECISIONFOREST_1</td>\n",
       "      <td>rfe</td>\n",
       "      <td>182.783667</td>\n",
       "      <td>46028.721149</td>\n",
       "      <td>1.810933</td>\n",
       "      <td>459.220080</td>\n",
       "      <td>-443.191272</td>\n",
       "      <td>214.543052</td>\n",
       "      <td>1.345709</td>\n",
       "      <td>437.195833</td>\n",
       "      <td>0.474515</td>\n",
       "      <td>0.503604</td>\n",
       "      <td>158.329867</td>\n",
       "      <td>0.936936</td>\n",
       "      <td>0.418214</td>\n",
       "    </tr>\n",
       "    <tr>\n",
       "      <th>4</th>\n",
       "      <td>5</td>\n",
       "      <td>XGBOOST_0</td>\n",
       "      <td>lasso</td>\n",
       "      <td>156.085669</td>\n",
       "      <td>52451.012987</td>\n",
       "      <td>0.435377</td>\n",
       "      <td>45.668541</td>\n",
       "      <td>45.668541</td>\n",
       "      <td>229.021861</td>\n",
       "      <td>0.659831</td>\n",
       "      <td>585.425802</td>\n",
       "      <td>0.401196</td>\n",
       "      <td>0.679332</td>\n",
       "      <td>131.274936</td>\n",
       "      <td>0.619977</td>\n",
       "      <td>0.342905</td>\n",
       "    </tr>\n",
       "    <tr>\n",
       "      <th>5</th>\n",
       "      <td>6</td>\n",
       "      <td>DECISIONFOREST_0</td>\n",
       "      <td>lasso</td>\n",
       "      <td>264.719471</td>\n",
       "      <td>87732.781925</td>\n",
       "      <td>2.292670</td>\n",
       "      <td>590.652628</td>\n",
       "      <td>-568.664274</td>\n",
       "      <td>296.197201</td>\n",
       "      <td>1.514157</td>\n",
       "      <td>576.455747</td>\n",
       "      <td>-0.001597</td>\n",
       "      <td>0.080624</td>\n",
       "      <td>264.906388</td>\n",
       "      <td>1.216869</td>\n",
       "      <td>-0.099097</td>\n",
       "    </tr>\n",
       "  </tbody>\n",
       "</table>\n",
       "</div>"
      ],
      "text/plain": [
       "   RANK          MODEL_ID FEATURE_SELECTION         MAE           MSE  \\\n",
       "0     1         XGBOOST_1               rfe   47.240955   6011.971676   \n",
       "1     2         XGBOOST_2               pca  124.212769  29329.736668   \n",
       "2     3  DECISIONFOREST_2               pca  176.221167  43976.011351   \n",
       "3     4  DECISIONFOREST_1               rfe  182.783667  46028.721149   \n",
       "4     5         XGBOOST_0             lasso  156.085669  52451.012987   \n",
       "5     6  DECISIONFOREST_0             lasso  264.719471  87732.781925   \n",
       "\n",
       "       MSLE        MAPE         MPE        RMSE     RMSLE          ME  \\\n",
       "0  0.041518   16.395559   -7.558717   77.536905  0.203760  216.919976   \n",
       "1  0.310883   39.268984   39.268984  171.259267  0.557568  434.527852   \n",
       "2  1.673942  407.183623 -388.408201  209.704581  1.293809  493.195833   \n",
       "3  1.810933  459.220080 -443.191272  214.543052  1.345709  437.195833   \n",
       "4  0.435377   45.668541   45.668541  229.021861  0.659831  585.425802   \n",
       "5  2.292670  590.652628 -568.664274  296.197201  1.514157  576.455747   \n",
       "\n",
       "         R2        EV         MPD       MGD  ADJUSTED_R2  \n",
       "0  0.931365  0.934928   12.358868  0.040318     0.924011  \n",
       "1  0.665159  0.841301   71.159775  0.449655     0.653997  \n",
       "2  0.497950  0.507133  146.801099  0.889479     0.481215  \n",
       "3  0.474515  0.503604  158.329867  0.936936     0.418214  \n",
       "4  0.401196  0.679332  131.274936  0.619977     0.342905  \n",
       "5 -0.001597  0.080624  264.906388  1.216869    -0.099097  "
      ]
     },
     "metadata": {},
     "output_type": "display_data"
    },
    {
     "name": "stdout",
     "output_type": "stream",
     "text": [
      "                                                                                          \r"
     ]
    },
    {
     "data": {
      "text/html": [
       "6 rows X 16 columns"
      ],
      "text/plain": [
       "<IPython.core.display.HTML object>"
      ]
     },
     "metadata": {},
     "output_type": "display_data"
    },
    {
     "name": "stdout",
     "output_type": "stream",
     "text": [
      "                                                                                          \r"
     ]
    },
    {
     "data": {
      "text/html": [
       "\n",
       "            <style>\n",
       "                .custom-div {\n",
       "                    background-color: lightgray;\n",
       "                    color: #000000;\n",
       "                    padding: 10px;\n",
       "                    border-radius: 8px;\n",
       "                    box-shadow: 0 3px 4px rgba(0 -  0 -  0 -  0.2);\n",
       "                    margin-bottom: 10px;\n",
       "                    text-align: center;\n",
       "                }\n",
       "            </style>\n",
       "        <br><div class=\"custom-div\"><h3><span style=\"color: green;\">1. Feature Exploration -> 2. Feature Engineering -> 3. Data Preparation -> 4. Model Training & Evaluation</span><center></h3></center></div>"
      ],
      "text/plain": [
       "<IPython.core.display.HTML object>"
      ]
     },
     "metadata": {},
     "output_type": "display_data"
    },
    {
     "name": "stdout",
     "output_type": "stream",
     "text": [
      "Completed: ｜⫿⫿⫿⫿⫿⫿⫿⫿⫿⫿⫿⫿⫿⫿⫿⫿⫿⫿⫿⫿⫿⫿⫿⫿⫿⫿⫿⫿⫿⫿⫿⫿⫿⫿⫿⫿⫿⫿⫿⫿⫿⫿⫿⫿⫿⫿⫿⫿⫿⫿⫿⫿⫿⫿⫿⫿⫿⫿⫿⫿｜ 100% - 16/16    \r"
     ]
    }
   ],
   "source": [
    "# Fitting train data\n",
    "aml.fit(fish_df_train, fish_df_train.Weight)"
   ]
  },
  {
   "cell_type": "markdown",
   "id": "23a04eb1-68e6-48b7-95aa-442f434809da",
   "metadata": {},
   "source": [
    "## <b><span style='color:#F1A424'>| 3.</span> Leaderboard : </b>"
   ]
  },
  {
   "cell_type": "code",
   "execution_count": 18,
   "id": "77de1099-6122-4f8a-8e7f-dd67e5b4ced4",
   "metadata": {},
   "outputs": [
    {
     "data": {
      "text/html": [
       "<div>\n",
       "<style scoped>\n",
       "    .dataframe tbody tr th:only-of-type {\n",
       "        vertical-align: middle;\n",
       "    }\n",
       "\n",
       "    .dataframe tbody tr th {\n",
       "        vertical-align: top;\n",
       "    }\n",
       "\n",
       "    .dataframe thead th {\n",
       "        text-align: right;\n",
       "    }\n",
       "</style>\n",
       "<table border=\"1\" class=\"dataframe\">\n",
       "  <thead>\n",
       "    <tr style=\"text-align: right;\">\n",
       "      <th></th>\n",
       "      <th>RANK</th>\n",
       "      <th>MODEL_ID</th>\n",
       "      <th>FEATURE_SELECTION</th>\n",
       "      <th>MAE</th>\n",
       "      <th>MSE</th>\n",
       "      <th>MSLE</th>\n",
       "      <th>MAPE</th>\n",
       "      <th>MPE</th>\n",
       "      <th>RMSE</th>\n",
       "      <th>RMSLE</th>\n",
       "      <th>ME</th>\n",
       "      <th>R2</th>\n",
       "      <th>EV</th>\n",
       "      <th>MPD</th>\n",
       "      <th>MGD</th>\n",
       "      <th>ADJUSTED_R2</th>\n",
       "    </tr>\n",
       "  </thead>\n",
       "  <tbody>\n",
       "    <tr>\n",
       "      <th>0</th>\n",
       "      <td>1</td>\n",
       "      <td>XGBOOST_1</td>\n",
       "      <td>rfe</td>\n",
       "      <td>47.240955</td>\n",
       "      <td>6011.971676</td>\n",
       "      <td>0.041518</td>\n",
       "      <td>16.395559</td>\n",
       "      <td>-7.558717</td>\n",
       "      <td>77.536905</td>\n",
       "      <td>0.203760</td>\n",
       "      <td>216.919976</td>\n",
       "      <td>0.931365</td>\n",
       "      <td>0.934928</td>\n",
       "      <td>12.358868</td>\n",
       "      <td>0.040318</td>\n",
       "      <td>0.924011</td>\n",
       "    </tr>\n",
       "    <tr>\n",
       "      <th>1</th>\n",
       "      <td>2</td>\n",
       "      <td>XGBOOST_2</td>\n",
       "      <td>pca</td>\n",
       "      <td>124.212769</td>\n",
       "      <td>29329.736668</td>\n",
       "      <td>0.310883</td>\n",
       "      <td>39.268984</td>\n",
       "      <td>39.268984</td>\n",
       "      <td>171.259267</td>\n",
       "      <td>0.557568</td>\n",
       "      <td>434.527852</td>\n",
       "      <td>0.665159</td>\n",
       "      <td>0.841301</td>\n",
       "      <td>71.159775</td>\n",
       "      <td>0.449655</td>\n",
       "      <td>0.653997</td>\n",
       "    </tr>\n",
       "    <tr>\n",
       "      <th>2</th>\n",
       "      <td>3</td>\n",
       "      <td>DECISIONFOREST_2</td>\n",
       "      <td>pca</td>\n",
       "      <td>176.221167</td>\n",
       "      <td>43976.011351</td>\n",
       "      <td>1.673942</td>\n",
       "      <td>407.183623</td>\n",
       "      <td>-388.408201</td>\n",
       "      <td>209.704581</td>\n",
       "      <td>1.293809</td>\n",
       "      <td>493.195833</td>\n",
       "      <td>0.497950</td>\n",
       "      <td>0.507133</td>\n",
       "      <td>146.801099</td>\n",
       "      <td>0.889479</td>\n",
       "      <td>0.481215</td>\n",
       "    </tr>\n",
       "    <tr>\n",
       "      <th>3</th>\n",
       "      <td>4</td>\n",
       "      <td>DECISIONFOREST_1</td>\n",
       "      <td>rfe</td>\n",
       "      <td>182.783667</td>\n",
       "      <td>46028.721149</td>\n",
       "      <td>1.810933</td>\n",
       "      <td>459.220080</td>\n",
       "      <td>-443.191272</td>\n",
       "      <td>214.543052</td>\n",
       "      <td>1.345709</td>\n",
       "      <td>437.195833</td>\n",
       "      <td>0.474515</td>\n",
       "      <td>0.503604</td>\n",
       "      <td>158.329867</td>\n",
       "      <td>0.936936</td>\n",
       "      <td>0.418214</td>\n",
       "    </tr>\n",
       "    <tr>\n",
       "      <th>4</th>\n",
       "      <td>5</td>\n",
       "      <td>XGBOOST_0</td>\n",
       "      <td>lasso</td>\n",
       "      <td>156.085669</td>\n",
       "      <td>52451.012987</td>\n",
       "      <td>0.435377</td>\n",
       "      <td>45.668541</td>\n",
       "      <td>45.668541</td>\n",
       "      <td>229.021861</td>\n",
       "      <td>0.659831</td>\n",
       "      <td>585.425802</td>\n",
       "      <td>0.401196</td>\n",
       "      <td>0.679332</td>\n",
       "      <td>131.274936</td>\n",
       "      <td>0.619977</td>\n",
       "      <td>0.342905</td>\n",
       "    </tr>\n",
       "    <tr>\n",
       "      <th>5</th>\n",
       "      <td>6</td>\n",
       "      <td>DECISIONFOREST_0</td>\n",
       "      <td>lasso</td>\n",
       "      <td>264.719471</td>\n",
       "      <td>87732.781925</td>\n",
       "      <td>2.292670</td>\n",
       "      <td>590.652628</td>\n",
       "      <td>-568.664274</td>\n",
       "      <td>296.197201</td>\n",
       "      <td>1.514157</td>\n",
       "      <td>576.455747</td>\n",
       "      <td>-0.001597</td>\n",
       "      <td>0.080624</td>\n",
       "      <td>264.906388</td>\n",
       "      <td>1.216869</td>\n",
       "      <td>-0.099097</td>\n",
       "    </tr>\n",
       "  </tbody>\n",
       "</table>\n",
       "</div>"
      ],
      "text/plain": [
       "   RANK          MODEL_ID FEATURE_SELECTION         MAE           MSE  \\\n",
       "0     1         XGBOOST_1               rfe   47.240955   6011.971676   \n",
       "1     2         XGBOOST_2               pca  124.212769  29329.736668   \n",
       "2     3  DECISIONFOREST_2               pca  176.221167  43976.011351   \n",
       "3     4  DECISIONFOREST_1               rfe  182.783667  46028.721149   \n",
       "4     5         XGBOOST_0             lasso  156.085669  52451.012987   \n",
       "5     6  DECISIONFOREST_0             lasso  264.719471  87732.781925   \n",
       "\n",
       "       MSLE        MAPE         MPE        RMSE     RMSLE          ME  \\\n",
       "0  0.041518   16.395559   -7.558717   77.536905  0.203760  216.919976   \n",
       "1  0.310883   39.268984   39.268984  171.259267  0.557568  434.527852   \n",
       "2  1.673942  407.183623 -388.408201  209.704581  1.293809  493.195833   \n",
       "3  1.810933  459.220080 -443.191272  214.543052  1.345709  437.195833   \n",
       "4  0.435377   45.668541   45.668541  229.021861  0.659831  585.425802   \n",
       "5  2.292670  590.652628 -568.664274  296.197201  1.514157  576.455747   \n",
       "\n",
       "         R2        EV         MPD       MGD  ADJUSTED_R2  \n",
       "0  0.931365  0.934928   12.358868  0.040318     0.924011  \n",
       "1  0.665159  0.841301   71.159775  0.449655     0.653997  \n",
       "2  0.497950  0.507133  146.801099  0.889479     0.481215  \n",
       "3  0.474515  0.503604  158.329867  0.936936     0.418214  \n",
       "4  0.401196  0.679332  131.274936  0.619977     0.342905  \n",
       "5 -0.001597  0.080624  264.906388  1.216869    -0.099097  "
      ]
     },
     "execution_count": 18,
     "metadata": {},
     "output_type": "execute_result"
    }
   ],
   "source": [
    "# Fetching Leaderboard\n",
    "aml.leaderboard()"
   ]
  },
  {
   "cell_type": "markdown",
   "id": "a7a3aa08-e349-4a61-9217-2c17d50411d8",
   "metadata": {},
   "source": [
    "## <b><span style='color:#F1A424'>| 4.</span> Best Performing Model : </b>"
   ]
  },
  {
   "cell_type": "code",
   "execution_count": 19,
   "id": "c4c32832-a76b-4f42-826a-cefc38a6301b",
   "metadata": {},
   "outputs": [
    {
     "data": {
      "text/html": [
       "<div>\n",
       "<style scoped>\n",
       "    .dataframe tbody tr th:only-of-type {\n",
       "        vertical-align: middle;\n",
       "    }\n",
       "\n",
       "    .dataframe tbody tr th {\n",
       "        vertical-align: top;\n",
       "    }\n",
       "\n",
       "    .dataframe thead th {\n",
       "        text-align: right;\n",
       "    }\n",
       "</style>\n",
       "<table border=\"1\" class=\"dataframe\">\n",
       "  <thead>\n",
       "    <tr style=\"text-align: right;\">\n",
       "      <th></th>\n",
       "      <th>RANK</th>\n",
       "      <th>MODEL_ID</th>\n",
       "      <th>FEATURE_SELECTION</th>\n",
       "      <th>MAE</th>\n",
       "      <th>MSE</th>\n",
       "      <th>MSLE</th>\n",
       "      <th>MAPE</th>\n",
       "      <th>MPE</th>\n",
       "      <th>RMSE</th>\n",
       "      <th>RMSLE</th>\n",
       "      <th>ME</th>\n",
       "      <th>R2</th>\n",
       "      <th>EV</th>\n",
       "      <th>MPD</th>\n",
       "      <th>MGD</th>\n",
       "      <th>ADJUSTED_R2</th>\n",
       "    </tr>\n",
       "  </thead>\n",
       "  <tbody>\n",
       "    <tr>\n",
       "      <th>0</th>\n",
       "      <td>1</td>\n",
       "      <td>XGBOOST_1</td>\n",
       "      <td>rfe</td>\n",
       "      <td>47.240955</td>\n",
       "      <td>6011.971676</td>\n",
       "      <td>0.041518</td>\n",
       "      <td>16.395559</td>\n",
       "      <td>-7.558717</td>\n",
       "      <td>77.536905</td>\n",
       "      <td>0.20376</td>\n",
       "      <td>216.919976</td>\n",
       "      <td>0.931365</td>\n",
       "      <td>0.934928</td>\n",
       "      <td>12.358868</td>\n",
       "      <td>0.040318</td>\n",
       "      <td>0.924011</td>\n",
       "    </tr>\n",
       "  </tbody>\n",
       "</table>\n",
       "</div>"
      ],
      "text/plain": [
       "   RANK   MODEL_ID FEATURE_SELECTION        MAE          MSE      MSLE  \\\n",
       "0     1  XGBOOST_1               rfe  47.240955  6011.971676  0.041518   \n",
       "\n",
       "        MAPE       MPE       RMSE    RMSLE          ME        R2        EV  \\\n",
       "0  16.395559 -7.558717  77.536905  0.20376  216.919976  0.931365  0.934928   \n",
       "\n",
       "         MPD       MGD  ADJUSTED_R2  \n",
       "0  12.358868  0.040318     0.924011  "
      ]
     },
     "metadata": {},
     "output_type": "display_data"
    }
   ],
   "source": [
    "# Fetching best performing model for dataset\n",
    "aml.leader()"
   ]
  },
  {
   "cell_type": "markdown",
   "id": "1c9fbbad-0336-4786-a179-9b27519ad660",
   "metadata": {},
   "source": [
    "## <b><span style='color:#F1A424'>| 5.</span> Get Hyperparameter for Trained Model : </b>"
   ]
  },
  {
   "cell_type": "code",
   "execution_count": 20,
   "id": "da30fb6c-0720-44ff-bf4d-6b41f79794a0",
   "metadata": {},
   "outputs": [
    {
     "data": {
      "text/plain": [
       "{'response_column': 'Weight',\n",
       " 'name': 'xgboost',\n",
       " 'model_type': 'Regression',\n",
       " 'column_sampling': 1,\n",
       " 'min_impurity': 0.2,\n",
       " 'lambda1': 0.1,\n",
       " 'shrinkage_factor': 0.5,\n",
       " 'max_depth': 10,\n",
       " 'min_node_size': 2,\n",
       " 'iter_num': 20,\n",
       " 'seed': 42,\n",
       " 'persist': False,\n",
       " 'max_models': 1}"
      ]
     },
     "execution_count": 20,
     "metadata": {},
     "output_type": "execute_result"
    }
   ],
   "source": [
    "aml.model_hyperparameters(rank=1)"
   ]
  },
  {
   "cell_type": "code",
   "execution_count": 21,
   "id": "fad07292-4148-4c69-97e9-e9975e96dc76",
   "metadata": {
    "tags": []
   },
   "outputs": [
    {
     "data": {
      "text/plain": [
       "{'response_column': 'Weight',\n",
       " 'name': 'decision_forest',\n",
       " 'tree_type': 'Regression',\n",
       " 'min_impurity': 0.2,\n",
       " 'max_depth': 8,\n",
       " 'min_node_size': 2,\n",
       " 'num_trees': 20,\n",
       " 'seed': 42,\n",
       " 'persist': False,\n",
       " 'max_models': 1}"
      ]
     },
     "execution_count": 21,
     "metadata": {},
     "output_type": "execute_result"
    }
   ],
   "source": [
    "aml.model_hyperparameters(rank=4)"
   ]
  },
  {
   "cell_type": "markdown",
   "id": "68269d75-db6a-4198-834d-72b171ebae3d",
   "metadata": {},
   "source": [
    "## <b><span style='color:#F1A424'>| 6.</span> Generate Prediction and Performance Metrics : </b>"
   ]
  },
  {
   "cell_type": "code",
   "execution_count": 22,
   "id": "5b6edfe3-bd5a-46bd-ad80-b20fadfed7a0",
   "metadata": {},
   "outputs": [
    {
     "name": "stdout",
     "output_type": "stream",
     "text": [
      "Data Transformation started ...\n",
      "                                                                                                \r"
     ]
    },
    {
     "data": {
      "text/html": [
       "Performing transformation carried out in feature engineering phase ..."
      ],
      "text/plain": [
       "<IPython.core.display.HTML object>"
      ]
     },
     "metadata": {},
     "output_type": "display_data"
    },
    {
     "name": "stdout",
     "output_type": "stream",
     "text": [
      "                                                                                                 \r"
     ]
    },
    {
     "data": {
      "text/html": [
       "\n",
       "Updated dataset after performing categorical encoding :"
      ],
      "text/plain": [
       "<IPython.core.display.HTML object>"
      ]
     },
     "metadata": {},
     "output_type": "display_data"
    },
    {
     "data": {
      "text/html": [
       "<style type=\"text/css\">\n",
       "\ttable {border:ridge 5px;}\n",
       "\ttable td {border:inset 1px;}\n",
       "\ttable tr#HeaderRow {background-color:grey; color:white;}</style>\n",
       "<html><table>\n",
       "\t<tr id=\"HeaderRow\">\n",
       "\t\t<th>Species_0</th>\n",
       "\t\t<th>Species_1</th>\n",
       "\t\t<th>Species_2</th>\n",
       "\t\t<th>Species_3</th>\n",
       "\t\t<th>Species_4</th>\n",
       "\t\t<th>Species_5</th>\n",
       "\t\t<th>Species_6</th>\n",
       "\t\t<th>Weight</th>\n",
       "\t\t<th>Length1</th>\n",
       "\t\t<th>Length2</th>\n",
       "\t\t<th>Length3</th>\n",
       "\t\t<th>Height</th>\n",
       "\t\t<th>Width</th>\n",
       "\t\t<th>id</th>\n",
       "\t</tr>\n",
       "\t<tr>\n",
       "\t\t<td>1</td>\n",
       "\t\t<td>0</td>\n",
       "\t\t<td>0</td>\n",
       "\t\t<td>0</td>\n",
       "\t\t<td>0</td>\n",
       "\t\t<td>0</td>\n",
       "\t\t<td>0</td>\n",
       "\t\t<td>650</td>\n",
       "\t\t<td>31.0</td>\n",
       "\t\t<td>33.5</td>\n",
       "\t\t<td>38.7</td>\n",
       "\t\t<td>14.4738</td>\n",
       "\t\t<td>5.7276</td>\n",
       "\t\t<td>50</td>\n",
       "\t</tr>\n",
       "\t<tr>\n",
       "\t\t<td>1</td>\n",
       "\t\t<td>0</td>\n",
       "\t\t<td>0</td>\n",
       "\t\t<td>0</td>\n",
       "\t\t<td>0</td>\n",
       "\t\t<td>0</td>\n",
       "\t\t<td>0</td>\n",
       "\t\t<td>700</td>\n",
       "\t\t<td>30.4</td>\n",
       "\t\t<td>33.0</td>\n",
       "\t\t<td>38.3</td>\n",
       "\t\t<td>14.8604</td>\n",
       "\t\t<td>5.2854</td>\n",
       "\t\t<td>34</td>\n",
       "\t</tr>\n",
       "\t<tr>\n",
       "\t\t<td>1</td>\n",
       "\t\t<td>0</td>\n",
       "\t\t<td>0</td>\n",
       "\t\t<td>0</td>\n",
       "\t\t<td>0</td>\n",
       "\t\t<td>0</td>\n",
       "\t\t<td>0</td>\n",
       "\t\t<td>500</td>\n",
       "\t\t<td>29.1</td>\n",
       "\t\t<td>31.5</td>\n",
       "\t\t<td>36.4</td>\n",
       "\t\t<td>13.7592</td>\n",
       "\t\t<td>4.368</td>\n",
       "\t\t<td>18</td>\n",
       "\t</tr>\n",
       "\t<tr>\n",
       "\t\t<td>1</td>\n",
       "\t\t<td>0</td>\n",
       "\t\t<td>0</td>\n",
       "\t\t<td>0</td>\n",
       "\t\t<td>0</td>\n",
       "\t\t<td>0</td>\n",
       "\t\t<td>0</td>\n",
       "\t\t<td>450</td>\n",
       "\t\t<td>27.6</td>\n",
       "\t\t<td>30.0</td>\n",
       "\t\t<td>35.1</td>\n",
       "\t\t<td>14.0049</td>\n",
       "\t\t<td>4.8438</td>\n",
       "\t\t<td>10</td>\n",
       "\t</tr>\n",
       "\t<tr>\n",
       "\t\t<td>0</td>\n",
       "\t\t<td>0</td>\n",
       "\t\t<td>1</td>\n",
       "\t\t<td>0</td>\n",
       "\t\t<td>0</td>\n",
       "\t\t<td>0</td>\n",
       "\t\t<td>0</td>\n",
       "\t\t<td>115</td>\n",
       "\t\t<td>19.0</td>\n",
       "\t\t<td>21.0</td>\n",
       "\t\t<td>22.5</td>\n",
       "\t\t<td>5.9175</td>\n",
       "\t\t<td>3.3075</td>\n",
       "\t\t<td>40</td>\n",
       "\t</tr>\n",
       "\t<tr>\n",
       "\t\t<td>0</td>\n",
       "\t\t<td>0</td>\n",
       "\t\t<td>1</td>\n",
       "\t\t<td>0</td>\n",
       "\t\t<td>0</td>\n",
       "\t\t<td>0</td>\n",
       "\t\t<td>0</td>\n",
       "\t\t<td>260</td>\n",
       "\t\t<td>25.4</td>\n",
       "\t\t<td>27.5</td>\n",
       "\t\t<td>28.9</td>\n",
       "\t\t<td>7.1672</td>\n",
       "\t\t<td>4.335</td>\n",
       "\t\t<td>48</td>\n",
       "\t</tr>\n",
       "\t<tr>\n",
       "\t\t<td>0</td>\n",
       "\t\t<td>0</td>\n",
       "\t\t<td>1</td>\n",
       "\t\t<td>0</td>\n",
       "\t\t<td>0</td>\n",
       "\t\t<td>0</td>\n",
       "\t\t<td>0</td>\n",
       "\t\t<td>78</td>\n",
       "\t\t<td>16.8</td>\n",
       "\t\t<td>18.7</td>\n",
       "\t\t<td>19.4</td>\n",
       "\t\t<td>5.1992</td>\n",
       "\t\t<td>3.1234</td>\n",
       "\t\t<td>56</td>\n",
       "\t</tr>\n",
       "\t<tr>\n",
       "\t\t<td>0</td>\n",
       "\t\t<td>0</td>\n",
       "\t\t<td>1</td>\n",
       "\t\t<td>0</td>\n",
       "\t\t<td>0</td>\n",
       "\t\t<td>0</td>\n",
       "\t\t<td>0</td>\n",
       "\t\t<td>850</td>\n",
       "\t\t<td>36.9</td>\n",
       "\t\t<td>40.0</td>\n",
       "\t\t<td>42.3</td>\n",
       "\t\t<td>11.9286</td>\n",
       "\t\t<td>7.1064</td>\n",
       "\t\t<td>72</td>\n",
       "\t</tr>\n",
       "\t<tr>\n",
       "\t\t<td>0</td>\n",
       "\t\t<td>0</td>\n",
       "\t\t<td>1</td>\n",
       "\t\t<td>0</td>\n",
       "\t\t<td>0</td>\n",
       "\t\t<td>0</td>\n",
       "\t\t<td>0</td>\n",
       "\t\t<td>900</td>\n",
       "\t\t<td>37.0</td>\n",
       "\t\t<td>40.0</td>\n",
       "\t\t<td>42.5</td>\n",
       "\t\t<td>11.73</td>\n",
       "\t\t<td>7.225</td>\n",
       "\t\t<td>80</td>\n",
       "\t</tr>\n",
       "\t<tr>\n",
       "\t\t<td>0</td>\n",
       "\t\t<td>0</td>\n",
       "\t\t<td>1</td>\n",
       "\t\t<td>0</td>\n",
       "\t\t<td>0</td>\n",
       "\t\t<td>0</td>\n",
       "\t\t<td>0</td>\n",
       "\t\t<td>1015</td>\n",
       "\t\t<td>37.0</td>\n",
       "\t\t<td>40.0</td>\n",
       "\t\t<td>42.4</td>\n",
       "\t\t<td>12.3808</td>\n",
       "\t\t<td>7.4624</td>\n",
       "\t\t<td>88</td>\n",
       "\t</tr>\n",
       "</table></html>"
      ],
      "text/plain": [
       "           Species_1  Species_2  Species_3  Species_4  Species_5  Species_6  Weight  Length1  Length2  Length3   Height   Width  id\n",
       "Species_0                                                                                                                          \n",
       "1                  0          0          0          0          0          0     650     31.0     33.5     38.7  14.4738  5.7276  50\n",
       "1                  0          0          0          0          0          0     700     30.4     33.0     38.3  14.8604  5.2854  34\n",
       "1                  0          0          0          0          0          0     500     29.1     31.5     36.4  13.7592  4.3680  18\n",
       "1                  0          0          0          0          0          0     450     27.6     30.0     35.1  14.0049  4.8438  10\n",
       "0                  0          1          0          0          0          0     115     19.0     21.0     22.5   5.9175  3.3075  40\n",
       "0                  0          1          0          0          0          0     260     25.4     27.5     28.9   7.1672  4.3350  48\n",
       "0                  0          1          0          0          0          0      78     16.8     18.7     19.4   5.1992  3.1234  56\n",
       "0                  0          1          0          0          0          0     850     36.9     40.0     42.3  11.9286  7.1064  72\n",
       "0                  0          1          0          0          0          0     900     37.0     40.0     42.5  11.7300  7.2250  80\n",
       "0                  0          1          0          0          0          0    1015     37.0     40.0     42.4  12.3808  7.4624  88"
      ]
     },
     "metadata": {},
     "output_type": "display_data"
    },
    {
     "name": "stdout",
     "output_type": "stream",
     "text": [
      "                                                                                                 \r"
     ]
    },
    {
     "data": {
      "text/html": [
       "32 rows X 14 columns"
      ],
      "text/plain": [
       "<IPython.core.display.HTML object>"
      ]
     },
     "metadata": {},
     "output_type": "display_data"
    },
    {
     "name": "stdout",
     "output_type": "stream",
     "text": [
      "                                                                                                 \r"
     ]
    },
    {
     "data": {
      "text/html": [
       "Performing transformation carried out in data preparation phase ..."
      ],
      "text/plain": [
       "<IPython.core.display.HTML object>"
      ]
     },
     "metadata": {},
     "output_type": "display_data"
    },
    {
     "name": "stdout",
     "output_type": "stream",
     "text": [
      "                                                                                                 \r"
     ]
    },
    {
     "data": {
      "text/html": [
       "\n",
       "Updated dataset after performing Lasso feature selection:"
      ],
      "text/plain": [
       "<IPython.core.display.HTML object>"
      ]
     },
     "metadata": {},
     "output_type": "display_data"
    },
    {
     "data": {
      "text/html": [
       "<style type=\"text/css\">\n",
       "\ttable {border:ridge 5px;}\n",
       "\ttable td {border:inset 1px;}\n",
       "\ttable tr#HeaderRow {background-color:grey; color:white;}</style>\n",
       "<html><table>\n",
       "\t<tr id=\"HeaderRow\">\n",
       "\t\t<th>id</th>\n",
       "\t\t<th>Species_5</th>\n",
       "\t\t<th>Species_4</th>\n",
       "\t\t<th>Species_0</th>\n",
       "\t\t<th>Species_1</th>\n",
       "\t\t<th>Species_3</th>\n",
       "\t\t<th>Species_2</th>\n",
       "\t\t<th>Length1</th>\n",
       "\t\t<th>Length2</th>\n",
       "\t\t<th>Length3</th>\n",
       "\t\t<th>Height</th>\n",
       "\t\t<th>Width</th>\n",
       "\t\t<th>Weight</th>\n",
       "\t</tr>\n",
       "\t<tr>\n",
       "\t\t<td>34</td>\n",
       "\t\t<td>0</td>\n",
       "\t\t<td>0</td>\n",
       "\t\t<td>1</td>\n",
       "\t\t<td>0</td>\n",
       "\t\t<td>0</td>\n",
       "\t\t<td>0</td>\n",
       "\t\t<td>30.4</td>\n",
       "\t\t<td>33.0</td>\n",
       "\t\t<td>38.3</td>\n",
       "\t\t<td>14.8604</td>\n",
       "\t\t<td>5.2854</td>\n",
       "\t\t<td>700</td>\n",
       "\t</tr>\n",
       "\t<tr>\n",
       "\t\t<td>40</td>\n",
       "\t\t<td>0</td>\n",
       "\t\t<td>0</td>\n",
       "\t\t<td>0</td>\n",
       "\t\t<td>0</td>\n",
       "\t\t<td>0</td>\n",
       "\t\t<td>1</td>\n",
       "\t\t<td>19.0</td>\n",
       "\t\t<td>21.0</td>\n",
       "\t\t<td>22.5</td>\n",
       "\t\t<td>5.9175</td>\n",
       "\t\t<td>3.3075</td>\n",
       "\t\t<td>115</td>\n",
       "\t</tr>\n",
       "\t<tr>\n",
       "\t\t<td>37</td>\n",
       "\t\t<td>0</td>\n",
       "\t\t<td>0</td>\n",
       "\t\t<td>0</td>\n",
       "\t\t<td>0</td>\n",
       "\t\t<td>1</td>\n",
       "\t\t<td>0</td>\n",
       "\t\t<td>59.0</td>\n",
       "\t\t<td>63.4</td>\n",
       "\t\t<td>68.0</td>\n",
       "\t\t<td>10.812</td>\n",
       "\t\t<td>7.48</td>\n",
       "\t\t<td>1650</td>\n",
       "\t</tr>\n",
       "\t<tr>\n",
       "\t\t<td>36</td>\n",
       "\t\t<td>0</td>\n",
       "\t\t<td>1</td>\n",
       "\t\t<td>0</td>\n",
       "\t\t<td>0</td>\n",
       "\t\t<td>0</td>\n",
       "\t\t<td>0</td>\n",
       "\t\t<td>16.5</td>\n",
       "\t\t<td>18.2</td>\n",
       "\t\t<td>20.3</td>\n",
       "\t\t<td>5.2983</td>\n",
       "\t\t<td>2.8217</td>\n",
       "\t\t<td>69</td>\n",
       "\t</tr>\n",
       "\t<tr>\n",
       "\t\t<td>45</td>\n",
       "\t\t<td>0</td>\n",
       "\t\t<td>0</td>\n",
       "\t\t<td>0</td>\n",
       "\t\t<td>0</td>\n",
       "\t\t<td>1</td>\n",
       "\t\t<td>0</td>\n",
       "\t\t<td>40.0</td>\n",
       "\t\t<td>42.5</td>\n",
       "\t\t<td>45.5</td>\n",
       "\t\t<td>6.825</td>\n",
       "\t\t<td>4.459</td>\n",
       "\t\t<td>510</td>\n",
       "\t</tr>\n",
       "\t<tr>\n",
       "\t\t<td>21</td>\n",
       "\t\t<td>0</td>\n",
       "\t\t<td>0</td>\n",
       "\t\t<td>0</td>\n",
       "\t\t<td>0</td>\n",
       "\t\t<td>1</td>\n",
       "\t\t<td>0</td>\n",
       "\t\t<td>44.8</td>\n",
       "\t\t<td>48.0</td>\n",
       "\t\t<td>51.2</td>\n",
       "\t\t<td>7.68</td>\n",
       "\t\t<td>5.376</td>\n",
       "\t\t<td>770</td>\n",
       "\t</tr>\n",
       "\t<tr>\n",
       "\t\t<td>15</td>\n",
       "\t\t<td>1</td>\n",
       "\t\t<td>0</td>\n",
       "\t\t<td>0</td>\n",
       "\t\t<td>0</td>\n",
       "\t\t<td>0</td>\n",
       "\t\t<td>0</td>\n",
       "\t\t<td>13.2</td>\n",
       "\t\t<td>14.3</td>\n",
       "\t\t<td>15.2</td>\n",
       "\t\t<td>2.8728</td>\n",
       "\t\t<td>2.0672</td>\n",
       "\t\t<td>19</td>\n",
       "\t</tr>\n",
       "\t<tr>\n",
       "\t\t<td>32</td>\n",
       "\t\t<td>0</td>\n",
       "\t\t<td>0</td>\n",
       "\t\t<td>0</td>\n",
       "\t\t<td>0</td>\n",
       "\t\t<td>0</td>\n",
       "\t\t<td>1</td>\n",
       "\t\t<td>20.0</td>\n",
       "\t\t<td>22.0</td>\n",
       "\t\t<td>23.5</td>\n",
       "\t\t<td>5.64</td>\n",
       "\t\t<td>3.525</td>\n",
       "\t\t<td>120</td>\n",
       "\t</tr>\n",
       "\t<tr>\n",
       "\t\t<td>26</td>\n",
       "\t\t<td>0</td>\n",
       "\t\t<td>0</td>\n",
       "\t\t<td>1</td>\n",
       "\t\t<td>0</td>\n",
       "\t\t<td>0</td>\n",
       "\t\t<td>0</td>\n",
       "\t\t<td>29.4</td>\n",
       "\t\t<td>32.0</td>\n",
       "\t\t<td>37.2</td>\n",
       "\t\t<td>14.9544</td>\n",
       "\t\t<td>5.1708</td>\n",
       "\t\t<td>600</td>\n",
       "\t</tr>\n",
       "\t<tr>\n",
       "\t\t<td>20</td>\n",
       "\t\t<td>0</td>\n",
       "\t\t<td>1</td>\n",
       "\t\t<td>0</td>\n",
       "\t\t<td>0</td>\n",
       "\t\t<td>0</td>\n",
       "\t\t<td>0</td>\n",
       "\t\t<td>20.4</td>\n",
       "\t\t<td>22.0</td>\n",
       "\t\t<td>24.7</td>\n",
       "\t\t<td>5.8045</td>\n",
       "\t\t<td>3.7544</td>\n",
       "\t\t<td>150</td>\n",
       "\t</tr>\n",
       "</table></html>"
      ],
      "text/plain": [
       "    Species_5  Species_4  Species_0  Species_1  Species_3  Species_2  Length1  Length2  Length3   Height   Width  Weight\n",
       "id                                                                                                                      \n",
       "34          0          0          1          0          0          0     30.4     33.0     38.3  14.8604  5.2854     700\n",
       "40          0          0          0          0          0          1     19.0     21.0     22.5   5.9175  3.3075     115\n",
       "37          0          0          0          0          1          0     59.0     63.4     68.0  10.8120  7.4800    1650\n",
       "36          0          1          0          0          0          0     16.5     18.2     20.3   5.2983  2.8217      69\n",
       "45          0          0          0          0          1          0     40.0     42.5     45.5   6.8250  4.4590     510\n",
       "21          0          0          0          0          1          0     44.8     48.0     51.2   7.6800  5.3760     770\n",
       "15          1          0          0          0          0          0     13.2     14.3     15.2   2.8728  2.0672      19\n",
       "32          0          0          0          0          0          1     20.0     22.0     23.5   5.6400  3.5250     120\n",
       "26          0          0          1          0          0          0     29.4     32.0     37.2  14.9544  5.1708     600\n",
       "20          0          1          0          0          0          0     20.4     22.0     24.7   5.8045  3.7544     150"
      ]
     },
     "metadata": {},
     "output_type": "display_data"
    },
    {
     "name": "stdout",
     "output_type": "stream",
     "text": [
      "                                                                                                 \r"
     ]
    },
    {
     "data": {
      "text/html": [
       "32 rows X 13 columns"
      ],
      "text/plain": [
       "<IPython.core.display.HTML object>"
      ]
     },
     "metadata": {},
     "output_type": "display_data"
    },
    {
     "name": "stdout",
     "output_type": "stream",
     "text": [
      "                                                                                                 \r"
     ]
    },
    {
     "data": {
      "text/html": [
       "\n",
       "Updated dataset after performing scaling on Lasso selected features :"
      ],
      "text/plain": [
       "<IPython.core.display.HTML object>"
      ]
     },
     "metadata": {},
     "output_type": "display_data"
    },
    {
     "data": {
      "text/html": [
       "<style type=\"text/css\">\n",
       "\ttable {border:ridge 5px;}\n",
       "\ttable td {border:inset 1px;}\n",
       "\ttable tr#HeaderRow {background-color:grey; color:white;}</style>\n",
       "<html><table>\n",
       "\t<tr id=\"HeaderRow\">\n",
       "\t\t<th>id</th>\n",
       "\t\t<th>Weight</th>\n",
       "\t\t<th>Species_5</th>\n",
       "\t\t<th>Species_4</th>\n",
       "\t\t<th>Species_0</th>\n",
       "\t\t<th>Species_1</th>\n",
       "\t\t<th>Species_3</th>\n",
       "\t\t<th>Species_2</th>\n",
       "\t\t<th>Length1</th>\n",
       "\t\t<th>Length2</th>\n",
       "\t\t<th>Length3</th>\n",
       "\t\t<th>Height</th>\n",
       "\t\t<th>Width</th>\n",
       "\t</tr>\n",
       "\t<tr>\n",
       "\t\t<td>36</td>\n",
       "\t\t<td>69</td>\n",
       "\t\t<td>0</td>\n",
       "\t\t<td>1</td>\n",
       "\t\t<td>0</td>\n",
       "\t\t<td>0</td>\n",
       "\t\t<td>0</td>\n",
       "\t\t<td>0</td>\n",
       "\t\t<td>-1.010995038839326</td>\n",
       "\t\t<td>-0.982329464341448</td>\n",
       "\t\t<td>-0.9614826924194517</td>\n",
       "\t\t<td>-0.8434105403871703</td>\n",
       "\t\t<td>-0.9182401641947976</td>\n",
       "\t</tr>\n",
       "\t<tr>\n",
       "\t\t<td>40</td>\n",
       "\t\t<td>115</td>\n",
       "\t\t<td>0</td>\n",
       "\t\t<td>0</td>\n",
       "\t\t<td>0</td>\n",
       "\t\t<td>0</td>\n",
       "\t\t<td>0</td>\n",
       "\t\t<td>1</td>\n",
       "\t\t<td>-0.7234145276093156</td>\n",
       "\t\t<td>-0.6830473329700107</td>\n",
       "\t\t<td>-0.7472312213754932</td>\n",
       "\t\t<td>-0.6994282738876147</td>\n",
       "\t\t<td>-0.6229758515313509</td>\n",
       "\t</tr>\n",
       "\t<tr>\n",
       "\t\t<td>37</td>\n",
       "\t\t<td>1650</td>\n",
       "\t\t<td>0</td>\n",
       "\t\t<td>0</td>\n",
       "\t\t<td>0</td>\n",
       "\t\t<td>0</td>\n",
       "\t\t<td>1</td>\n",
       "\t\t<td>0</td>\n",
       "\t\t<td>3.8778736520708534</td>\n",
       "\t\t<td>3.8489392277974668</td>\n",
       "\t\t<td>3.6838787479427393</td>\n",
       "\t\t<td>0.43868736464932734</td>\n",
       "\t\t<td>1.9130273279421581</td>\n",
       "\t</tr>\n",
       "\t<tr>\n",
       "\t\t<td>15</td>\n",
       "\t\t<td>19</td>\n",
       "\t\t<td>1</td>\n",
       "\t\t<td>0</td>\n",
       "\t\t<td>0</td>\n",
       "\t\t<td>0</td>\n",
       "\t\t<td>0</td>\n",
       "\t\t<td>0</td>\n",
       "\t\t<td>-1.3906013136629403</td>\n",
       "\t\t<td>-1.399186718751664</td>\n",
       "\t\t<td>-1.4581565571122648</td>\n",
       "\t\t<td>-1.4074108430271446</td>\n",
       "\t\t<td>-1.3768176115076225</td>\n",
       "\t</tr>\n",
       "\t<tr>\n",
       "\t\t<td>34</td>\n",
       "\t\t<td>700</td>\n",
       "\t\t<td>0</td>\n",
       "\t\t<td>0</td>\n",
       "\t\t<td>1</td>\n",
       "\t\t<td>0</td>\n",
       "\t\t<td>0</td>\n",
       "\t\t<td>0</td>\n",
       "\t\t<td>0.5879526035995324</td>\n",
       "\t\t<td>0.5995903729075772</td>\n",
       "\t\t<td>0.7914838888492992</td>\n",
       "\t\t<td>1.3800597931002332</td>\n",
       "\t\t<td>0.5791717071698241</td>\n",
       "\t</tr>\n",
       "\t<tr>\n",
       "\t\t<td>13</td>\n",
       "\t\t<td>430</td>\n",
       "\t\t<td>0</td>\n",
       "\t\t<td>0</td>\n",
       "\t\t<td>0</td>\n",
       "\t\t<td>0</td>\n",
       "\t\t<td>1</td>\n",
       "\t\t<td>0</td>\n",
       "\t\t<td>1.174616846508754</td>\n",
       "\t\t<td>1.1340227503565723</td>\n",
       "\t\t<td>1.005735359893258</td>\n",
       "\t\t<td>-0.380281534916943</td>\n",
       "\t\t<td>0.14830947734866892</td>\n",
       "\t</tr>\n",
       "\t<tr>\n",
       "\t\t<td>45</td>\n",
       "\t\t<td>510</td>\n",
       "\t\t<td>0</td>\n",
       "\t\t<td>0</td>\n",
       "\t\t<td>0</td>\n",
       "\t\t<td>0</td>\n",
       "\t\t<td>1</td>\n",
       "\t\t<td>0</td>\n",
       "\t\t<td>1.692261766722773</td>\n",
       "\t\t<td>1.6150118900606678</td>\n",
       "\t\t<td>1.4926705213568001</td>\n",
       "\t\t<td>-0.48840775249170615</td>\n",
       "\t\t<td>0.07689416911903708</td>\n",
       "\t</tr>\n",
       "\t<tr>\n",
       "\t\t<td>21</td>\n",
       "\t\t<td>770</td>\n",
       "\t\t<td>0</td>\n",
       "\t\t<td>0</td>\n",
       "\t\t<td>0</td>\n",
       "\t\t<td>0</td>\n",
       "\t\t<td>1</td>\n",
       "\t\t<td>0</td>\n",
       "\t\t<td>2.244416348284393</td>\n",
       "\t\t<td>2.2028875052545622</td>\n",
       "\t\t<td>2.047776605425238</td>\n",
       "\t\t<td>-0.2895950298542385</td>\n",
       "\t\t<td>0.6342374682387997</td>\n",
       "\t</tr>\n",
       "\t<tr>\n",
       "\t\t<td>80</td>\n",
       "\t\t<td>900</td>\n",
       "\t\t<td>0</td>\n",
       "\t\t<td>0</td>\n",
       "\t\t<td>0</td>\n",
       "\t\t<td>0</td>\n",
       "\t\t<td>0</td>\n",
       "\t\t<td>1</td>\n",
       "\t\t<td>1.3471651532467606</td>\n",
       "\t\t<td>1.3477957013361703</td>\n",
       "\t\t<td>1.2005094244786747</td>\n",
       "\t\t<td>0.6521494457969245</td>\n",
       "\t\t<td>1.7580409143374254</td>\n",
       "\t</tr>\n",
       "\t<tr>\n",
       "\t\t<td>72</td>\n",
       "\t\t<td>850</td>\n",
       "\t\t<td>0</td>\n",
       "\t\t<td>0</td>\n",
       "\t\t<td>0</td>\n",
       "\t\t<td>0</td>\n",
       "\t\t<td>0</td>\n",
       "\t\t<td>1</td>\n",
       "\t\t<td>1.3356619327975598</td>\n",
       "\t\t<td>1.3477957013361703</td>\n",
       "\t\t<td>1.1810320180201328</td>\n",
       "\t\t<td>0.6983298045288554</td>\n",
       "\t\t<td>1.6859570372647934</td>\n",
       "\t</tr>\n",
       "</table></html>"
      ],
      "text/plain": [
       "   id  Weight  Species_5  Species_4  Species_0  Species_1  Species_3  Species_2   Length1   Length2   Length3    Height     Width\n",
       "0  36      69          0          1          0          0          0          0 -1.010995 -0.982329 -0.961483 -0.843411 -0.918240\n",
       "1  40     115          0          0          0          0          0          1 -0.723415 -0.683047 -0.747231 -0.699428 -0.622976\n",
       "2  37    1650          0          0          0          0          1          0  3.877874  3.848939  3.683879  0.438687  1.913027\n",
       "3  15      19          1          0          0          0          0          0 -1.390601 -1.399187 -1.458157 -1.407411 -1.376818\n",
       "4  34     700          0          0          1          0          0          0  0.587953  0.599590  0.791484  1.380060  0.579172\n",
       "5  13     430          0          0          0          0          1          0  1.174617  1.134023  1.005735 -0.380282  0.148309\n",
       "6  45     510          0          0          0          0          1          0  1.692262  1.615012  1.492671 -0.488408  0.076894\n",
       "7  21     770          0          0          0          0          1          0  2.244416  2.202888  2.047777 -0.289595  0.634237\n",
       "8  80     900          0          0          0          0          0          1  1.347165  1.347796  1.200509  0.652149  1.758041\n",
       "9  72     850          0          0          0          0          0          1  1.335662  1.347796  1.181032  0.698330  1.685957"
      ]
     },
     "metadata": {},
     "output_type": "display_data"
    },
    {
     "name": "stdout",
     "output_type": "stream",
     "text": [
      "                                                                                                 \r"
     ]
    },
    {
     "data": {
      "text/html": [
       "32 rows X 13 columns"
      ],
      "text/plain": [
       "<IPython.core.display.HTML object>"
      ]
     },
     "metadata": {},
     "output_type": "display_data"
    },
    {
     "name": "stdout",
     "output_type": "stream",
     "text": [
      "                                                                                                 \r"
     ]
    },
    {
     "data": {
      "text/html": [
       "\n",
       "Updated dataset after performing RFE feature selection:"
      ],
      "text/plain": [
       "<IPython.core.display.HTML object>"
      ]
     },
     "metadata": {},
     "output_type": "display_data"
    },
    {
     "data": {
      "text/html": [
       "<style type=\"text/css\">\n",
       "\ttable {border:ridge 5px;}\n",
       "\ttable td {border:inset 1px;}\n",
       "\ttable tr#HeaderRow {background-color:grey; color:white;}</style>\n",
       "<html><table>\n",
       "\t<tr id=\"HeaderRow\">\n",
       "\t\t<th>id</th>\n",
       "\t\t<th>Species_5</th>\n",
       "\t\t<th>Species_6</th>\n",
       "\t\t<th>Species_4</th>\n",
       "\t\t<th>Species_0</th>\n",
       "\t\t<th>Species_1</th>\n",
       "\t\t<th>Species_3</th>\n",
       "\t\t<th>Species_2</th>\n",
       "\t\t<th>Length1</th>\n",
       "\t\t<th>Length2</th>\n",
       "\t\t<th>Length3</th>\n",
       "\t\t<th>Height</th>\n",
       "\t\t<th>Width</th>\n",
       "\t\t<th>Weight</th>\n",
       "\t</tr>\n",
       "\t<tr>\n",
       "\t\t<td>36</td>\n",
       "\t\t<td>0</td>\n",
       "\t\t<td>0</td>\n",
       "\t\t<td>1</td>\n",
       "\t\t<td>0</td>\n",
       "\t\t<td>0</td>\n",
       "\t\t<td>0</td>\n",
       "\t\t<td>0</td>\n",
       "\t\t<td>16.5</td>\n",
       "\t\t<td>18.2</td>\n",
       "\t\t<td>20.3</td>\n",
       "\t\t<td>5.2983</td>\n",
       "\t\t<td>2.8217</td>\n",
       "\t\t<td>69</td>\n",
       "\t</tr>\n",
       "\t<tr>\n",
       "\t\t<td>80</td>\n",
       "\t\t<td>0</td>\n",
       "\t\t<td>0</td>\n",
       "\t\t<td>0</td>\n",
       "\t\t<td>0</td>\n",
       "\t\t<td>0</td>\n",
       "\t\t<td>0</td>\n",
       "\t\t<td>1</td>\n",
       "\t\t<td>37.0</td>\n",
       "\t\t<td>40.0</td>\n",
       "\t\t<td>42.5</td>\n",
       "\t\t<td>11.73</td>\n",
       "\t\t<td>7.225</td>\n",
       "\t\t<td>900</td>\n",
       "\t</tr>\n",
       "\t<tr>\n",
       "\t\t<td>72</td>\n",
       "\t\t<td>0</td>\n",
       "\t\t<td>0</td>\n",
       "\t\t<td>0</td>\n",
       "\t\t<td>0</td>\n",
       "\t\t<td>0</td>\n",
       "\t\t<td>0</td>\n",
       "\t\t<td>1</td>\n",
       "\t\t<td>36.9</td>\n",
       "\t\t<td>40.0</td>\n",
       "\t\t<td>42.3</td>\n",
       "\t\t<td>11.9286</td>\n",
       "\t\t<td>7.1064</td>\n",
       "\t\t<td>850</td>\n",
       "\t</tr>\n",
       "\t<tr>\n",
       "\t\t<td>45</td>\n",
       "\t\t<td>0</td>\n",
       "\t\t<td>0</td>\n",
       "\t\t<td>0</td>\n",
       "\t\t<td>0</td>\n",
       "\t\t<td>0</td>\n",
       "\t\t<td>1</td>\n",
       "\t\t<td>0</td>\n",
       "\t\t<td>40.0</td>\n",
       "\t\t<td>42.5</td>\n",
       "\t\t<td>45.5</td>\n",
       "\t\t<td>6.825</td>\n",
       "\t\t<td>4.459</td>\n",
       "\t\t<td>510</td>\n",
       "\t</tr>\n",
       "\t<tr>\n",
       "\t\t<td>15</td>\n",
       "\t\t<td>1</td>\n",
       "\t\t<td>0</td>\n",
       "\t\t<td>0</td>\n",
       "\t\t<td>0</td>\n",
       "\t\t<td>0</td>\n",
       "\t\t<td>0</td>\n",
       "\t\t<td>0</td>\n",
       "\t\t<td>13.2</td>\n",
       "\t\t<td>14.3</td>\n",
       "\t\t<td>15.2</td>\n",
       "\t\t<td>2.8728</td>\n",
       "\t\t<td>2.0672</td>\n",
       "\t\t<td>19</td>\n",
       "\t</tr>\n",
       "\t<tr>\n",
       "\t\t<td>32</td>\n",
       "\t\t<td>0</td>\n",
       "\t\t<td>0</td>\n",
       "\t\t<td>0</td>\n",
       "\t\t<td>0</td>\n",
       "\t\t<td>0</td>\n",
       "\t\t<td>0</td>\n",
       "\t\t<td>1</td>\n",
       "\t\t<td>20.0</td>\n",
       "\t\t<td>22.0</td>\n",
       "\t\t<td>23.5</td>\n",
       "\t\t<td>5.64</td>\n",
       "\t\t<td>3.525</td>\n",
       "\t\t<td>120</td>\n",
       "\t</tr>\n",
       "\t<tr>\n",
       "\t\t<td>50</td>\n",
       "\t\t<td>0</td>\n",
       "\t\t<td>0</td>\n",
       "\t\t<td>0</td>\n",
       "\t\t<td>1</td>\n",
       "\t\t<td>0</td>\n",
       "\t\t<td>0</td>\n",
       "\t\t<td>0</td>\n",
       "\t\t<td>31.0</td>\n",
       "\t\t<td>33.5</td>\n",
       "\t\t<td>38.7</td>\n",
       "\t\t<td>14.4738</td>\n",
       "\t\t<td>5.7276</td>\n",
       "\t\t<td>650</td>\n",
       "\t</tr>\n",
       "\t<tr>\n",
       "\t\t<td>48</td>\n",
       "\t\t<td>0</td>\n",
       "\t\t<td>0</td>\n",
       "\t\t<td>0</td>\n",
       "\t\t<td>0</td>\n",
       "\t\t<td>0</td>\n",
       "\t\t<td>0</td>\n",
       "\t\t<td>1</td>\n",
       "\t\t<td>25.4</td>\n",
       "\t\t<td>27.5</td>\n",
       "\t\t<td>28.9</td>\n",
       "\t\t<td>7.1672</td>\n",
       "\t\t<td>4.335</td>\n",
       "\t\t<td>260</td>\n",
       "\t</tr>\n",
       "\t<tr>\n",
       "\t\t<td>26</td>\n",
       "\t\t<td>0</td>\n",
       "\t\t<td>0</td>\n",
       "\t\t<td>0</td>\n",
       "\t\t<td>1</td>\n",
       "\t\t<td>0</td>\n",
       "\t\t<td>0</td>\n",
       "\t\t<td>0</td>\n",
       "\t\t<td>29.4</td>\n",
       "\t\t<td>32.0</td>\n",
       "\t\t<td>37.2</td>\n",
       "\t\t<td>14.9544</td>\n",
       "\t\t<td>5.1708</td>\n",
       "\t\t<td>600</td>\n",
       "\t</tr>\n",
       "\t<tr>\n",
       "\t\t<td>20</td>\n",
       "\t\t<td>0</td>\n",
       "\t\t<td>0</td>\n",
       "\t\t<td>1</td>\n",
       "\t\t<td>0</td>\n",
       "\t\t<td>0</td>\n",
       "\t\t<td>0</td>\n",
       "\t\t<td>0</td>\n",
       "\t\t<td>20.4</td>\n",
       "\t\t<td>22.0</td>\n",
       "\t\t<td>24.7</td>\n",
       "\t\t<td>5.8045</td>\n",
       "\t\t<td>3.7544</td>\n",
       "\t\t<td>150</td>\n",
       "\t</tr>\n",
       "</table></html>"
      ],
      "text/plain": [
       "    Species_5  Species_6  Species_4  Species_0  Species_1  Species_3  Species_2  Length1  Length2  Length3   Height   Width  Weight\n",
       "id                                                                                                                                 \n",
       "36          0          0          1          0          0          0          0     16.5     18.2     20.3   5.2983  2.8217      69\n",
       "80          0          0          0          0          0          0          1     37.0     40.0     42.5  11.7300  7.2250     900\n",
       "72          0          0          0          0          0          0          1     36.9     40.0     42.3  11.9286  7.1064     850\n",
       "45          0          0          0          0          0          1          0     40.0     42.5     45.5   6.8250  4.4590     510\n",
       "15          1          0          0          0          0          0          0     13.2     14.3     15.2   2.8728  2.0672      19\n",
       "32          0          0          0          0          0          0          1     20.0     22.0     23.5   5.6400  3.5250     120\n",
       "50          0          0          0          1          0          0          0     31.0     33.5     38.7  14.4738  5.7276     650\n",
       "48          0          0          0          0          0          0          1     25.4     27.5     28.9   7.1672  4.3350     260\n",
       "26          0          0          0          1          0          0          0     29.4     32.0     37.2  14.9544  5.1708     600\n",
       "20          0          0          1          0          0          0          0     20.4     22.0     24.7   5.8045  3.7544     150"
      ]
     },
     "metadata": {},
     "output_type": "display_data"
    },
    {
     "name": "stdout",
     "output_type": "stream",
     "text": [
      "                                                                                                 \r"
     ]
    },
    {
     "data": {
      "text/html": [
       "32 rows X 14 columns"
      ],
      "text/plain": [
       "<IPython.core.display.HTML object>"
      ]
     },
     "metadata": {},
     "output_type": "display_data"
    },
    {
     "name": "stdout",
     "output_type": "stream",
     "text": [
      "                                                                                                 \r"
     ]
    },
    {
     "data": {
      "text/html": [
       "\n",
       "Updated dataset after performing scaling on RFE selected features :"
      ],
      "text/plain": [
       "<IPython.core.display.HTML object>"
      ]
     },
     "metadata": {},
     "output_type": "display_data"
    },
    {
     "data": {
      "text/html": [
       "<style type=\"text/css\">\n",
       "\ttable {border:ridge 5px;}\n",
       "\ttable td {border:inset 1px;}\n",
       "\ttable tr#HeaderRow {background-color:grey; color:white;}</style>\n",
       "<html><table>\n",
       "\t<tr id=\"HeaderRow\">\n",
       "\t\t<th>id</th>\n",
       "\t\t<th>Weight</th>\n",
       "\t\t<th>r_Species_6</th>\n",
       "\t\t<th>r_Species_5</th>\n",
       "\t\t<th>r_Species_0</th>\n",
       "\t\t<th>r_Species_3</th>\n",
       "\t\t<th>r_Species_4</th>\n",
       "\t\t<th>r_Species_2</th>\n",
       "\t\t<th>r_Species_1</th>\n",
       "\t\t<th>r_Length1</th>\n",
       "\t\t<th>r_Length2</th>\n",
       "\t\t<th>r_Length3</th>\n",
       "\t\t<th>r_Height</th>\n",
       "\t\t<th>r_Width</th>\n",
       "\t</tr>\n",
       "\t<tr>\n",
       "\t\t<td>15</td>\n",
       "\t\t<td>19</td>\n",
       "\t\t<td>0</td>\n",
       "\t\t<td>1</td>\n",
       "\t\t<td>0</td>\n",
       "\t\t<td>0</td>\n",
       "\t\t<td>0</td>\n",
       "\t\t<td>0</td>\n",
       "\t\t<td>0</td>\n",
       "\t\t<td>-1.3906013136629403</td>\n",
       "\t\t<td>-1.399186718751664</td>\n",
       "\t\t<td>-1.4581565571122648</td>\n",
       "\t\t<td>-1.4074108430271446</td>\n",
       "\t\t<td>-1.3768176115076225</td>\n",
       "\t</tr>\n",
       "\t<tr>\n",
       "\t\t<td>26</td>\n",
       "\t\t<td>600</td>\n",
       "\t\t<td>0</td>\n",
       "\t\t<td>0</td>\n",
       "\t\t<td>1</td>\n",
       "\t\t<td>0</td>\n",
       "\t\t<td>0</td>\n",
       "\t\t<td>0</td>\n",
       "\t\t<td>0</td>\n",
       "\t\t<td>0.4729203991075282</td>\n",
       "\t\t<td>0.49270389741777826</td>\n",
       "\t\t<td>0.6843581533273205</td>\n",
       "\t\t<td>1.4019175661153465</td>\n",
       "\t\t<td>0.5095189895262855</td>\n",
       "\t</tr>\n",
       "\t<tr>\n",
       "\t\t<td>20</td>\n",
       "\t\t<td>150</td>\n",
       "\t\t<td>0</td>\n",
       "\t\t<td>0</td>\n",
       "\t\t<td>0</td>\n",
       "\t\t<td>0</td>\n",
       "\t\t<td>1</td>\n",
       "\t\t<td>0</td>\n",
       "\t\t<td>0</td>\n",
       "\t\t<td>-0.5623694413205098</td>\n",
       "\t\t<td>-0.5761608574802117</td>\n",
       "\t\t<td>-0.5329797503315349</td>\n",
       "\t\t<td>-0.7257041074057832</td>\n",
       "\t\t<td>-0.3513545643158421</td>\n",
       "\t</tr>\n",
       "\t<tr>\n",
       "\t\t<td>36</td>\n",
       "\t\t<td>69</td>\n",
       "\t\t<td>0</td>\n",
       "\t\t<td>0</td>\n",
       "\t\t<td>0</td>\n",
       "\t\t<td>0</td>\n",
       "\t\t<td>1</td>\n",
       "\t\t<td>0</td>\n",
       "\t\t<td>0</td>\n",
       "\t\t<td>-1.010995038839326</td>\n",
       "\t\t<td>-0.982329464341448</td>\n",
       "\t\t<td>-0.9614826924194517</td>\n",
       "\t\t<td>-0.8434105403871703</td>\n",
       "\t\t<td>-0.9182401641947976</td>\n",
       "\t</tr>\n",
       "\t<tr>\n",
       "\t\t<td>50</td>\n",
       "\t\t<td>650</td>\n",
       "\t\t<td>0</td>\n",
       "\t\t<td>0</td>\n",
       "\t\t<td>1</td>\n",
       "\t\t<td>0</td>\n",
       "\t\t<td>0</td>\n",
       "\t\t<td>0</td>\n",
       "\t\t<td>0</td>\n",
       "\t\t<td>0.6569719262947351</td>\n",
       "\t\t<td>0.6530336106524768</td>\n",
       "\t\t<td>0.8304387017663831</td>\n",
       "\t\t<td>1.2901638883380753</td>\n",
       "\t\t<td>0.8479363820561476</td>\n",
       "\t</tr>\n",
       "\t<tr>\n",
       "\t\t<td>48</td>\n",
       "\t\t<td>260</td>\n",
       "\t\t<td>0</td>\n",
       "\t\t<td>0</td>\n",
       "\t\t<td>0</td>\n",
       "\t\t<td>0</td>\n",
       "\t\t<td>0</td>\n",
       "\t\t<td>1</td>\n",
       "\t\t<td>0</td>\n",
       "\t\t<td>0.0127915811395113</td>\n",
       "\t\t<td>0.011714757713682768</td>\n",
       "\t\t<td>-0.12395421470215962</td>\n",
       "\t\t<td>-0.40883615753668684</td>\n",
       "\t\t<td>0.0015282268171283354</td>\n",
       "\t</tr>\n",
       "\t<tr>\n",
       "\t\t<td>45</td>\n",
       "\t\t<td>510</td>\n",
       "\t\t<td>0</td>\n",
       "\t\t<td>0</td>\n",
       "\t\t<td>0</td>\n",
       "\t\t<td>1</td>\n",
       "\t\t<td>0</td>\n",
       "\t\t<td>0</td>\n",
       "\t\t<td>0</td>\n",
       "\t\t<td>1.692261766722773</td>\n",
       "\t\t<td>1.6150118900606678</td>\n",
       "\t\t<td>1.4926705213568001</td>\n",
       "\t\t<td>-0.48840775249170615</td>\n",
       "\t\t<td>0.07689416911903708</td>\n",
       "\t</tr>\n",
       "\t<tr>\n",
       "\t\t<td>21</td>\n",
       "\t\t<td>770</td>\n",
       "\t\t<td>0</td>\n",
       "\t\t<td>0</td>\n",
       "\t\t<td>0</td>\n",
       "\t\t<td>1</td>\n",
       "\t\t<td>0</td>\n",
       "\t\t<td>0</td>\n",
       "\t\t<td>0</td>\n",
       "\t\t<td>2.244416348284393</td>\n",
       "\t\t<td>2.2028875052545622</td>\n",
       "\t\t<td>2.047776605425238</td>\n",
       "\t\t<td>-0.2895950298542385</td>\n",
       "\t\t<td>0.6342374682387997</td>\n",
       "\t</tr>\n",
       "\t<tr>\n",
       "\t\t<td>80</td>\n",
       "\t\t<td>900</td>\n",
       "\t\t<td>0</td>\n",
       "\t\t<td>0</td>\n",
       "\t\t<td>0</td>\n",
       "\t\t<td>0</td>\n",
       "\t\t<td>0</td>\n",
       "\t\t<td>1</td>\n",
       "\t\t<td>0</td>\n",
       "\t\t<td>1.3471651532467606</td>\n",
       "\t\t<td>1.3477957013361703</td>\n",
       "\t\t<td>1.2005094244786747</td>\n",
       "\t\t<td>0.6521494457969245</td>\n",
       "\t\t<td>1.7580409143374254</td>\n",
       "\t</tr>\n",
       "\t<tr>\n",
       "\t\t<td>72</td>\n",
       "\t\t<td>850</td>\n",
       "\t\t<td>0</td>\n",
       "\t\t<td>0</td>\n",
       "\t\t<td>0</td>\n",
       "\t\t<td>0</td>\n",
       "\t\t<td>0</td>\n",
       "\t\t<td>1</td>\n",
       "\t\t<td>0</td>\n",
       "\t\t<td>1.3356619327975598</td>\n",
       "\t\t<td>1.3477957013361703</td>\n",
       "\t\t<td>1.1810320180201328</td>\n",
       "\t\t<td>0.6983298045288554</td>\n",
       "\t\t<td>1.6859570372647934</td>\n",
       "\t</tr>\n",
       "</table></html>"
      ],
      "text/plain": [
       "   id  Weight  r_Species_6  r_Species_5  r_Species_0  r_Species_3  r_Species_4  r_Species_2  r_Species_1  r_Length1  r_Length2  r_Length3  r_Height   r_Width\n",
       "0  15      19            0            1            0            0            0            0            0  -1.390601  -1.399187  -1.458157 -1.407411 -1.376818\n",
       "1  26     600            0            0            1            0            0            0            0   0.472920   0.492704   0.684358  1.401918  0.509519\n",
       "2  20     150            0            0            0            0            1            0            0  -0.562369  -0.576161  -0.532980 -0.725704 -0.351355\n",
       "3  36      69            0            0            0            0            1            0            0  -1.010995  -0.982329  -0.961483 -0.843411 -0.918240\n",
       "4  50     650            0            0            1            0            0            0            0   0.656972   0.653034   0.830439  1.290164  0.847936\n",
       "5  48     260            0            0            0            0            0            1            0   0.012792   0.011715  -0.123954 -0.408836  0.001528\n",
       "6  45     510            0            0            0            1            0            0            0   1.692262   1.615012   1.492671 -0.488408  0.076894\n",
       "7  21     770            0            0            0            1            0            0            0   2.244416   2.202888   2.047777 -0.289595  0.634237\n",
       "8  80     900            0            0            0            0            0            1            0   1.347165   1.347796   1.200509  0.652149  1.758041\n",
       "9  72     850            0            0            0            0            0            1            0   1.335662   1.347796   1.181032  0.698330  1.685957"
      ]
     },
     "metadata": {},
     "output_type": "display_data"
    },
    {
     "name": "stdout",
     "output_type": "stream",
     "text": [
      "                                                                                                 \r"
     ]
    },
    {
     "data": {
      "text/html": [
       "32 rows X 14 columns"
      ],
      "text/plain": [
       "<IPython.core.display.HTML object>"
      ]
     },
     "metadata": {},
     "output_type": "display_data"
    },
    {
     "name": "stdout",
     "output_type": "stream",
     "text": [
      "                                                                                                 \r"
     ]
    },
    {
     "data": {
      "text/html": [
       "\n",
       "Updated dataset after performing scaling for PCA feature selection :"
      ],
      "text/plain": [
       "<IPython.core.display.HTML object>"
      ]
     },
     "metadata": {},
     "output_type": "display_data"
    },
    {
     "data": {
      "text/html": [
       "<style type=\"text/css\">\n",
       "\ttable {border:ridge 5px;}\n",
       "\ttable td {border:inset 1px;}\n",
       "\ttable tr#HeaderRow {background-color:grey; color:white;}</style>\n",
       "<html><table>\n",
       "\t<tr id=\"HeaderRow\">\n",
       "\t\t<th>id</th>\n",
       "\t\t<th>Weight</th>\n",
       "\t\t<th>Species_6</th>\n",
       "\t\t<th>Species_5</th>\n",
       "\t\t<th>Species_4</th>\n",
       "\t\t<th>Species_0</th>\n",
       "\t\t<th>Species_1</th>\n",
       "\t\t<th>Species_3</th>\n",
       "\t\t<th>Species_2</th>\n",
       "\t\t<th>Length1</th>\n",
       "\t\t<th>Length2</th>\n",
       "\t\t<th>Length3</th>\n",
       "\t\t<th>Height</th>\n",
       "\t\t<th>Width</th>\n",
       "\t</tr>\n",
       "\t<tr>\n",
       "\t\t<td>40</td>\n",
       "\t\t<td>115</td>\n",
       "\t\t<td>0</td>\n",
       "\t\t<td>0</td>\n",
       "\t\t<td>0</td>\n",
       "\t\t<td>0</td>\n",
       "\t\t<td>0</td>\n",
       "\t\t<td>0</td>\n",
       "\t\t<td>1</td>\n",
       "\t\t<td>-0.7234145276093155</td>\n",
       "\t\t<td>-0.6830473329700113</td>\n",
       "\t\t<td>-0.7472312213754929</td>\n",
       "\t\t<td>-0.699428273887614</td>\n",
       "\t\t<td>-0.6229758515313505</td>\n",
       "\t</tr>\n",
       "\t<tr>\n",
       "\t\t<td>34</td>\n",
       "\t\t<td>700</td>\n",
       "\t\t<td>0</td>\n",
       "\t\t<td>0</td>\n",
       "\t\t<td>0</td>\n",
       "\t\t<td>1</td>\n",
       "\t\t<td>0</td>\n",
       "\t\t<td>0</td>\n",
       "\t\t<td>0</td>\n",
       "\t\t<td>0.587952603599533</td>\n",
       "\t\t<td>0.5995903729075771</td>\n",
       "\t\t<td>0.7914838888492995</td>\n",
       "\t\t<td>1.380059793100234</td>\n",
       "\t\t<td>0.5791717071698247</td>\n",
       "\t</tr>\n",
       "\t<tr>\n",
       "\t\t<td>13</td>\n",
       "\t\t<td>430</td>\n",
       "\t\t<td>0</td>\n",
       "\t\t<td>0</td>\n",
       "\t\t<td>0</td>\n",
       "\t\t<td>0</td>\n",
       "\t\t<td>0</td>\n",
       "\t\t<td>1</td>\n",
       "\t\t<td>0</td>\n",
       "\t\t<td>1.174616846508755</td>\n",
       "\t\t<td>1.1340227503565723</td>\n",
       "\t\t<td>1.0057353598932584</td>\n",
       "\t\t<td>-0.38028153491694217</td>\n",
       "\t\t<td>0.14830947734866948</td>\n",
       "\t</tr>\n",
       "\t<tr>\n",
       "\t\t<td>45</td>\n",
       "\t\t<td>510</td>\n",
       "\t\t<td>0</td>\n",
       "\t\t<td>0</td>\n",
       "\t\t<td>0</td>\n",
       "\t\t<td>0</td>\n",
       "\t\t<td>0</td>\n",
       "\t\t<td>1</td>\n",
       "\t\t<td>0</td>\n",
       "\t\t<td>1.6922617667227742</td>\n",
       "\t\t<td>1.615011890060668</td>\n",
       "\t\t<td>1.4926705213568003</td>\n",
       "\t\t<td>-0.4884077524917053</td>\n",
       "\t\t<td>0.07689416911903764</td>\n",
       "\t</tr>\n",
       "\t<tr>\n",
       "\t\t<td>15</td>\n",
       "\t\t<td>19</td>\n",
       "\t\t<td>0</td>\n",
       "\t\t<td>1</td>\n",
       "\t\t<td>0</td>\n",
       "\t\t<td>0</td>\n",
       "\t\t<td>0</td>\n",
       "\t\t<td>0</td>\n",
       "\t\t<td>0</td>\n",
       "\t\t<td>-1.3906013136629403</td>\n",
       "\t\t<td>-1.399186718751665</td>\n",
       "\t\t<td>-1.4581565571122643</td>\n",
       "\t\t<td>-1.407410843027144</td>\n",
       "\t\t<td>-1.376817611507622</td>\n",
       "\t</tr>\n",
       "\t<tr>\n",
       "\t\t<td>32</td>\n",
       "\t\t<td>120</td>\n",
       "\t\t<td>0</td>\n",
       "\t\t<td>0</td>\n",
       "\t\t<td>0</td>\n",
       "\t\t<td>0</td>\n",
       "\t\t<td>0</td>\n",
       "\t\t<td>0</td>\n",
       "\t\t<td>1</td>\n",
       "\t\t<td>-0.6083823231173112</td>\n",
       "\t\t<td>-0.5761608574802123</td>\n",
       "\t\t<td>-0.6498441890827845</td>\n",
       "\t\t<td>-0.7639552101822309</td>\n",
       "\t\t<td>-0.49078155757437325</td>\n",
       "\t</tr>\n",
       "\t<tr>\n",
       "\t\t<td>36</td>\n",
       "\t\t<td>69</td>\n",
       "\t\t<td>0</td>\n",
       "\t\t<td>0</td>\n",
       "\t\t<td>1</td>\n",
       "\t\t<td>0</td>\n",
       "\t\t<td>0</td>\n",
       "\t\t<td>0</td>\n",
       "\t\t<td>0</td>\n",
       "\t\t<td>-1.010995038839326</td>\n",
       "\t\t<td>-0.9823294643414487</td>\n",
       "\t\t<td>-0.9614826924194514</td>\n",
       "\t\t<td>-0.8434105403871696</td>\n",
       "\t\t<td>-0.9182401641947973</td>\n",
       "\t</tr>\n",
       "\t<tr>\n",
       "\t\t<td>28</td>\n",
       "\t\t<td>272</td>\n",
       "\t\t<td>0</td>\n",
       "\t\t<td>0</td>\n",
       "\t\t<td>1</td>\n",
       "\t\t<td>0</td>\n",
       "\t\t<td>0</td>\n",
       "\t\t<td>0</td>\n",
       "\t\t<td>0</td>\n",
       "\t\t<td>-0.03322130065728983</td>\n",
       "\t\t<td>-0.041728480031217124</td>\n",
       "\t\t<td>0.04160374019544529</td>\n",
       "\t\t<td>-0.08310883371146423</td>\n",
       "\t\t<td>0.2681048582172682</td>\n",
       "\t</tr>\n",
       "\t<tr>\n",
       "\t\t<td>80</td>\n",
       "\t\t<td>900</td>\n",
       "\t\t<td>0</td>\n",
       "\t\t<td>0</td>\n",
       "\t\t<td>0</td>\n",
       "\t\t<td>0</td>\n",
       "\t\t<td>0</td>\n",
       "\t\t<td>0</td>\n",
       "\t\t<td>1</td>\n",
       "\t\t<td>1.3471651532467614</td>\n",
       "\t\t<td>1.3477957013361703</td>\n",
       "\t\t<td>1.2005094244786751</td>\n",
       "\t\t<td>0.6521494457969254</td>\n",
       "\t\t<td>1.7580409143374263</td>\n",
       "\t</tr>\n",
       "\t<tr>\n",
       "\t\t<td>72</td>\n",
       "\t\t<td>850</td>\n",
       "\t\t<td>0</td>\n",
       "\t\t<td>0</td>\n",
       "\t\t<td>0</td>\n",
       "\t\t<td>0</td>\n",
       "\t\t<td>0</td>\n",
       "\t\t<td>0</td>\n",
       "\t\t<td>1</td>\n",
       "\t\t<td>1.3356619327975607</td>\n",
       "\t\t<td>1.3477957013361703</td>\n",
       "\t\t<td>1.1810320180201332</td>\n",
       "\t\t<td>0.6983298045288562</td>\n",
       "\t\t<td>1.685957037264794</td>\n",
       "\t</tr>\n",
       "</table></html>"
      ],
      "text/plain": [
       "   id  Weight  Species_6  Species_5  Species_4  Species_0  Species_1  Species_3  Species_2   Length1   Length2   Length3    Height     Width\n",
       "0  40     115          0          0          0          0          0          0          1 -0.723415 -0.683047 -0.747231 -0.699428 -0.622976\n",
       "1  34     700          0          0          0          1          0          0          0  0.587953  0.599590  0.791484  1.380060  0.579172\n",
       "2  13     430          0          0          0          0          0          1          0  1.174617  1.134023  1.005735 -0.380282  0.148309\n",
       "3  45     510          0          0          0          0          0          1          0  1.692262  1.615012  1.492671 -0.488408  0.076894\n",
       "4  15      19          0          1          0          0          0          0          0 -1.390601 -1.399187 -1.458157 -1.407411 -1.376818\n",
       "5  32     120          0          0          0          0          0          0          1 -0.608382 -0.576161 -0.649844 -0.763955 -0.490782\n",
       "6  36      69          0          0          1          0          0          0          0 -1.010995 -0.982329 -0.961483 -0.843411 -0.918240\n",
       "7  28     272          0          0          1          0          0          0          0 -0.033221 -0.041728  0.041604 -0.083109  0.268105\n",
       "8  80     900          0          0          0          0          0          0          1  1.347165  1.347796  1.200509  0.652149  1.758041\n",
       "9  72     850          0          0          0          0          0          0          1  1.335662  1.347796  1.181032  0.698330  1.685957"
      ]
     },
     "metadata": {},
     "output_type": "display_data"
    },
    {
     "name": "stdout",
     "output_type": "stream",
     "text": [
      "                                                                                                 \r"
     ]
    },
    {
     "data": {
      "text/html": [
       "32 rows X 14 columns"
      ],
      "text/plain": [
       "<IPython.core.display.HTML object>"
      ]
     },
     "metadata": {},
     "output_type": "display_data"
    },
    {
     "name": "stdout",
     "output_type": "stream",
     "text": [
      "                                                                                                 \r"
     ]
    },
    {
     "name": "stderr",
     "output_type": "stream",
     "text": [
      "C:\\ProgramData\\anaconda3\\lib\\site-packages\\sklearn\\base.py:450: UserWarning: X does not have valid feature names, but PCA was fitted with feature names\n",
      "  warnings.warn(\n"
     ]
    },
    {
     "data": {
      "text/html": [
       "\n",
       "Updated dataset after performing PCA feature selection :"
      ],
      "text/plain": [
       "<IPython.core.display.HTML object>"
      ]
     },
     "metadata": {},
     "output_type": "display_data"
    },
    {
     "data": {
      "text/html": [
       "<div>\n",
       "<style scoped>\n",
       "    .dataframe tbody tr th:only-of-type {\n",
       "        vertical-align: middle;\n",
       "    }\n",
       "\n",
       "    .dataframe tbody tr th {\n",
       "        vertical-align: top;\n",
       "    }\n",
       "\n",
       "    .dataframe thead th {\n",
       "        text-align: right;\n",
       "    }\n",
       "</style>\n",
       "<table border=\"1\" class=\"dataframe\">\n",
       "  <thead>\n",
       "    <tr style=\"text-align: right;\">\n",
       "      <th></th>\n",
       "      <th>id</th>\n",
       "      <th>col_0</th>\n",
       "      <th>col_1</th>\n",
       "      <th>col_2</th>\n",
       "      <th>col_3</th>\n",
       "      <th>Weight</th>\n",
       "    </tr>\n",
       "  </thead>\n",
       "  <tbody>\n",
       "    <tr>\n",
       "      <th>0</th>\n",
       "      <td>26</td>\n",
       "      <td>-1.617261</td>\n",
       "      <td>-1.088428</td>\n",
       "      <td>0.195271</td>\n",
       "      <td>-0.210604</td>\n",
       "      <td>600</td>\n",
       "    </tr>\n",
       "    <tr>\n",
       "      <th>1</th>\n",
       "      <td>34</td>\n",
       "      <td>-1.790432</td>\n",
       "      <td>-0.997661</td>\n",
       "      <td>0.223928</td>\n",
       "      <td>-0.207073</td>\n",
       "      <td>700</td>\n",
       "    </tr>\n",
       "    <tr>\n",
       "      <th>2</th>\n",
       "      <td>40</td>\n",
       "      <td>1.551678</td>\n",
       "      <td>0.293415</td>\n",
       "      <td>-0.561055</td>\n",
       "      <td>-0.226389</td>\n",
       "      <td>115</td>\n",
       "    </tr>\n",
       "    <tr>\n",
       "      <th>3</th>\n",
       "      <td>45</td>\n",
       "      <td>-2.061657</td>\n",
       "      <td>1.650954</td>\n",
       "      <td>1.370765</td>\n",
       "      <td>-0.293827</td>\n",
       "      <td>510</td>\n",
       "    </tr>\n",
       "    <tr>\n",
       "      <th>4</th>\n",
       "      <td>80</td>\n",
       "      <td>-2.812049</td>\n",
       "      <td>0.707927</td>\n",
       "      <td>-0.756914</td>\n",
       "      <td>0.092702</td>\n",
       "      <td>900</td>\n",
       "    </tr>\n",
       "    <tr>\n",
       "      <th>5</th>\n",
       "      <td>50</td>\n",
       "      <td>-1.948628</td>\n",
       "      <td>-0.895228</td>\n",
       "      <td>0.135345</td>\n",
       "      <td>-0.126583</td>\n",
       "      <td>650</td>\n",
       "    </tr>\n",
       "    <tr>\n",
       "      <th>6</th>\n",
       "      <td>36</td>\n",
       "      <td>2.136307</td>\n",
       "      <td>-0.095732</td>\n",
       "      <td>0.275194</td>\n",
       "      <td>0.820862</td>\n",
       "      <td>69</td>\n",
       "    </tr>\n",
       "    <tr>\n",
       "      <th>7</th>\n",
       "      <td>15</td>\n",
       "      <td>3.199085</td>\n",
       "      <td>0.024946</td>\n",
       "      <td>0.353011</td>\n",
       "      <td>-0.239387</td>\n",
       "      <td>19</td>\n",
       "    </tr>\n",
       "    <tr>\n",
       "      <th>8</th>\n",
       "      <td>20</td>\n",
       "      <td>1.249497</td>\n",
       "      <td>0.110685</td>\n",
       "      <td>0.225001</td>\n",
       "      <td>0.917631</td>\n",
       "      <td>150</td>\n",
       "    </tr>\n",
       "    <tr>\n",
       "      <th>9</th>\n",
       "      <td>13</td>\n",
       "      <td>-1.455416</td>\n",
       "      <td>1.233409</td>\n",
       "      <td>1.057669</td>\n",
       "      <td>-0.187689</td>\n",
       "      <td>430</td>\n",
       "    </tr>\n",
       "  </tbody>\n",
       "</table>\n",
       "</div>"
      ],
      "text/plain": [
       "   id     col_0     col_1     col_2     col_3  Weight\n",
       "0  26 -1.617261 -1.088428  0.195271 -0.210604     600\n",
       "1  34 -1.790432 -0.997661  0.223928 -0.207073     700\n",
       "2  40  1.551678  0.293415 -0.561055 -0.226389     115\n",
       "3  45 -2.061657  1.650954  1.370765 -0.293827     510\n",
       "4  80 -2.812049  0.707927 -0.756914  0.092702     900\n",
       "5  50 -1.948628 -0.895228  0.135345 -0.126583     650\n",
       "6  36  2.136307 -0.095732  0.275194  0.820862      69\n",
       "7  15  3.199085  0.024946  0.353011 -0.239387      19\n",
       "8  20  1.249497  0.110685  0.225001  0.917631     150\n",
       "9  13 -1.455416  1.233409  1.057669 -0.187689     430"
      ]
     },
     "metadata": {},
     "output_type": "display_data"
    },
    {
     "name": "stdout",
     "output_type": "stream",
     "text": [
      "                                                                                                 \r"
     ]
    },
    {
     "data": {
      "text/html": [
       "10 rows X 6 columns"
      ],
      "text/plain": [
       "<IPython.core.display.HTML object>"
      ]
     },
     "metadata": {},
     "output_type": "display_data"
    },
    {
     "name": "stdout",
     "output_type": "stream",
     "text": [
      "Data Transformation completed.⫿⫿⫿⫿⫿⫿⫿⫿⫿⫿⫿⫿⫿⫿⫿⫿⫿⫿⫿⫿⫿⫿⫿⫿⫿⫿⫿⫿⫿⫿⫿⫿⫿⫿⫿⫿⫿⫿⫿⫿⫿⫿｜ 100% - 10/10           \n",
      "\n",
      "Following model is being picked for evaluation:\n",
      "Model ID : XGBOOST_1 \n",
      "Feature Selection Method : rfe\n",
      "\n",
      "Prediction : \n",
      "   id  Prediction  Confidence_Lower  Confidence_upper  Weight\n",
      "0  15   32.993940         32.993940         32.993940      19\n",
      "1  34  696.667679        696.667679        696.667679     700\n",
      "2  13  432.345396        432.345396        432.345396     430\n",
      "3  36   77.159276         77.159276         77.159276      69\n",
      "4  50  626.908677        626.908677        626.908677     650\n",
      "5  48  256.956895        256.956895        256.956895     260\n",
      "6  40   99.363809         99.363809         99.363809     115\n",
      "7  37  915.504922        915.504922        915.504922    1650\n",
      "8  45  388.007253        388.007253        388.007253     510\n",
      "9  21  568.677211        568.677211        568.677211     770\n"
     ]
    }
   ],
   "source": [
    "# Generating prediction on test data\n",
    "prediction = aml.predict(fish_df_test)"
   ]
  },
  {
   "cell_type": "code",
   "execution_count": 23,
   "id": "cc4f6a78-1cdf-4938-a9f1-22035d8404ca",
   "metadata": {},
   "outputs": [
    {
     "data": {
      "text/html": [
       "<style type=\"text/css\">\n",
       "\ttable {border:ridge 5px;}\n",
       "\ttable td {border:inset 1px;}\n",
       "\ttable tr#HeaderRow {background-color:grey; color:white;}</style>\n",
       "<html><table>\n",
       "\t<tr id=\"HeaderRow\">\n",
       "\t\t<th>id</th>\n",
       "\t\t<th>Prediction</th>\n",
       "\t\t<th>Confidence_Lower</th>\n",
       "\t\t<th>Confidence_upper</th>\n",
       "\t\t<th>Weight</th>\n",
       "\t</tr>\n",
       "\t<tr>\n",
       "\t\t<td>12</td>\n",
       "\t\t<td>82.52385799999999</td>\n",
       "\t\t<td>82.52385799999999</td>\n",
       "\t\t<td>82.52385799999999</td>\n",
       "\t\t<td>78</td>\n",
       "\t</tr>\n",
       "\t<tr>\n",
       "\t\t<td>15</td>\n",
       "\t\t<td>32.993939999999995</td>\n",
       "\t\t<td>32.993939999999995</td>\n",
       "\t\t<td>32.993939999999995</td>\n",
       "\t\t<td>19</td>\n",
       "\t</tr>\n",
       "\t<tr>\n",
       "\t\t<td>16</td>\n",
       "\t\t<td>39.907444999999996</td>\n",
       "\t\t<td>39.907444999999996</td>\n",
       "\t\t<td>39.907444999999996</td>\n",
       "\t\t<td>32</td>\n",
       "\t</tr>\n",
       "\t<tr>\n",
       "\t\t<td>18</td>\n",
       "\t\t<td>350.30328199999997</td>\n",
       "\t\t<td>350.30328199999997</td>\n",
       "\t\t<td>350.30328199999997</td>\n",
       "\t\t<td>500</td>\n",
       "\t</tr>\n",
       "\t<tr>\n",
       "\t\t<td>21</td>\n",
       "\t\t<td>568.6772109999999</td>\n",
       "\t\t<td>568.6772109999999</td>\n",
       "\t\t<td>568.6772109999999</td>\n",
       "\t\t<td>770</td>\n",
       "\t</tr>\n",
       "\t<tr>\n",
       "\t\t<td>23</td>\n",
       "\t\t<td>32.993939999999995</td>\n",
       "\t\t<td>32.993939999999995</td>\n",
       "\t\t<td>32.993939999999995</td>\n",
       "\t\t<td>19</td>\n",
       "\t</tr>\n",
       "\t<tr>\n",
       "\t\t<td>20</td>\n",
       "\t\t<td>133.814212</td>\n",
       "\t\t<td>133.814212</td>\n",
       "\t\t<td>133.814212</td>\n",
       "\t\t<td>150</td>\n",
       "\t</tr>\n",
       "\t<tr>\n",
       "\t\t<td>13</td>\n",
       "\t\t<td>432.34539599999994</td>\n",
       "\t\t<td>432.34539599999994</td>\n",
       "\t\t<td>432.34539599999994</td>\n",
       "\t\t<td>430</td>\n",
       "\t</tr>\n",
       "\t<tr>\n",
       "\t\t<td>10</td>\n",
       "\t\t<td>475.091131</td>\n",
       "\t\t<td>475.091131</td>\n",
       "\t\t<td>475.091131</td>\n",
       "\t\t<td>450</td>\n",
       "\t</tr>\n",
       "\t<tr>\n",
       "\t\t<td>8</td>\n",
       "\t\t<td>274.396577</td>\n",
       "\t\t<td>274.396577</td>\n",
       "\t\t<td>274.396577</td>\n",
       "\t\t<td>300</td>\n",
       "\t</tr>\n",
       "</table></html>"
      ],
      "text/plain": [
       "   id  Prediction  Confidence_Lower  Confidence_upper  Weight\n",
       "0  12   82.523858         82.523858         82.523858      78\n",
       "1  15   32.993940         32.993940         32.993940      19\n",
       "2  16   39.907445         39.907445         39.907445      32\n",
       "3  18  350.303282        350.303282        350.303282     500\n",
       "4  21  568.677211        568.677211        568.677211     770\n",
       "5  23   32.993940         32.993940         32.993940      19\n",
       "6  20  133.814212        133.814212        133.814212     150\n",
       "7  13  432.345396        432.345396        432.345396     430\n",
       "8  10  475.091131        475.091131        475.091131     450\n",
       "9   8  274.396577        274.396577        274.396577     300"
      ]
     },
     "execution_count": 23,
     "metadata": {},
     "output_type": "execute_result"
    }
   ],
   "source": [
    "# Printing prediction\n",
    "prediction.head()"
   ]
  },
  {
   "cell_type": "code",
   "execution_count": 24,
   "id": "0ac30831-9a9c-4dfc-b46f-a0379b352429",
   "metadata": {},
   "outputs": [
    {
     "name": "stdout",
     "output_type": "stream",
     "text": [
      "\n",
      "Skipping data transformation as data is already transformed.\n",
      "\n",
      "Following model is being picked for evaluation:\n",
      "Model ID : XGBOOST_1 \n",
      "Feature Selection Method : rfe\n",
      "\n",
      "Performance Metrics : \n",
      "        MAE           MSE      MSLE       MAPE       MPE        RMSE     RMSLE          ME       R2        EV        MPD       MGD\n",
      "0  83.24744  42462.498579  0.065073  17.193586  0.151194  206.064307  0.255094  846.122158  0.77661  0.797579  44.182919  0.073153\n"
     ]
    }
   ],
   "source": [
    "# Fetching performance metrics on test data\n",
    "performance_metrics = aml.evaluate(fish_df_test)"
   ]
  },
  {
   "cell_type": "code",
   "execution_count": 25,
   "id": "f9dba517-91db-4ff7-8ce8-37ce6d3a7487",
   "metadata": {},
   "outputs": [
    {
     "data": {
      "text/html": [
       "<style type=\"text/css\">\n",
       "\ttable {border:ridge 5px;}\n",
       "\ttable td {border:inset 1px;}\n",
       "\ttable tr#HeaderRow {background-color:grey; color:white;}</style>\n",
       "<html><table>\n",
       "\t<tr id=\"HeaderRow\">\n",
       "\t\t<th>MAE</th>\n",
       "\t\t<th>MSE</th>\n",
       "\t\t<th>MSLE</th>\n",
       "\t\t<th>MAPE</th>\n",
       "\t\t<th>MPE</th>\n",
       "\t\t<th>RMSE</th>\n",
       "\t\t<th>RMSLE</th>\n",
       "\t\t<th>ME</th>\n",
       "\t\t<th>R2</th>\n",
       "\t\t<th>EV</th>\n",
       "\t\t<th>MPD</th>\n",
       "\t\t<th>MGD</th>\n",
       "\t</tr>\n",
       "\t<tr>\n",
       "\t\t<td>83.2474400625</td>\n",
       "\t\t<td>42462.4985793462</td>\n",
       "\t\t<td>0.06507319408658034</td>\n",
       "\t\t<td>17.19358606414227</td>\n",
       "\t\t<td>0.1511937650026286</td>\n",
       "\t\t<td>206.06430690283602</td>\n",
       "\t\t<td>0.2550944807058364</td>\n",
       "\t\t<td>846.122158</td>\n",
       "\t\t<td>0.7766101452274004</td>\n",
       "\t\t<td>0.7975785957745694</td>\n",
       "\t\t<td>44.18291940394445</td>\n",
       "\t\t<td>0.0731525707725495</td>\n",
       "\t</tr>\n",
       "</table></html>"
      ],
      "text/plain": [
       "        MAE           MSE      MSLE       MAPE       MPE        RMSE     RMSLE          ME       R2        EV        MPD       MGD\n",
       "0  83.24744  42462.498579  0.065073  17.193586  0.151194  206.064307  0.255094  846.122158  0.77661  0.797579  44.182919  0.073153"
      ]
     },
     "execution_count": 25,
     "metadata": {},
     "output_type": "execute_result"
    }
   ],
   "source": [
    "performance_metrics"
   ]
  },
  {
   "cell_type": "code",
   "execution_count": 26,
   "id": "9bbf0fe8-c8d3-4eff-a689-073c3986e9df",
   "metadata": {},
   "outputs": [
    {
     "name": "stdout",
     "output_type": "stream",
     "text": [
      "\n",
      "Skipping data transformation as data is already transformed.\n",
      "\n",
      "Following model is being picked for evaluation:\n",
      "Model ID : XGBOOST_2 \n",
      "Feature Selection Method : pca\n",
      "\n",
      "Prediction : \n",
      "   id  Prediction  Confidence_Lower  Confidence_upper  Weight\n",
      "0  40   68.941593         68.941593         68.941593     115\n",
      "1  80  532.138428        532.138428        532.138428     900\n",
      "2  50  419.831298        419.831298        419.831298     650\n",
      "3  36   18.257558         18.257558         18.257558      69\n",
      "4  20   80.967564         80.967564         80.967564     150\n",
      "5  13  237.726427        237.726427        237.726427     430\n",
      "6  15   14.295089         14.295089         14.295089      19\n",
      "7  45  334.698527        334.698527        334.698527     510\n",
      "8  34  430.836709        430.836709        430.836709     700\n",
      "9  26  397.052612        397.052612        397.052612     600\n"
     ]
    }
   ],
   "source": [
    "# Generating prediction on test data\n",
    "prediction = aml.predict(fish_df_test, 2)"
   ]
  },
  {
   "cell_type": "code",
   "execution_count": 27,
   "id": "ead03d63-db8c-4e8e-8ffb-6352824c19c1",
   "metadata": {},
   "outputs": [
    {
     "data": {
      "text/html": [
       "<style type=\"text/css\">\n",
       "\ttable {border:ridge 5px;}\n",
       "\ttable td {border:inset 1px;}\n",
       "\ttable tr#HeaderRow {background-color:grey; color:white;}</style>\n",
       "<html><table>\n",
       "\t<tr id=\"HeaderRow\">\n",
       "\t\t<th>id</th>\n",
       "\t\t<th>Prediction</th>\n",
       "\t\t<th>Confidence_Lower</th>\n",
       "\t\t<th>Confidence_upper</th>\n",
       "\t\t<th>Weight</th>\n",
       "\t</tr>\n",
       "\t<tr>\n",
       "\t\t<td>12</td>\n",
       "\t\t<td>18.257558</td>\n",
       "\t\t<td>18.257558</td>\n",
       "\t\t<td>18.257558</td>\n",
       "\t\t<td>78</td>\n",
       "\t</tr>\n",
       "\t<tr>\n",
       "\t\t<td>15</td>\n",
       "\t\t<td>14.295089</td>\n",
       "\t\t<td>14.295089</td>\n",
       "\t\t<td>14.295089</td>\n",
       "\t\t<td>19</td>\n",
       "\t</tr>\n",
       "\t<tr>\n",
       "\t\t<td>16</td>\n",
       "\t\t<td>24.022711</td>\n",
       "\t\t<td>24.022711</td>\n",
       "\t\t<td>24.022711</td>\n",
       "\t\t<td>32</td>\n",
       "\t</tr>\n",
       "\t<tr>\n",
       "\t\t<td>18</td>\n",
       "\t\t<td>261.890632</td>\n",
       "\t\t<td>261.890632</td>\n",
       "\t\t<td>261.890632</td>\n",
       "\t\t<td>500</td>\n",
       "\t</tr>\n",
       "\t<tr>\n",
       "\t\t<td>21</td>\n",
       "\t\t<td>610.7705589999998</td>\n",
       "\t\t<td>610.7705589999998</td>\n",
       "\t\t<td>610.7705589999998</td>\n",
       "\t\t<td>770</td>\n",
       "\t</tr>\n",
       "\t<tr>\n",
       "\t\t<td>23</td>\n",
       "\t\t<td>14.295089</td>\n",
       "\t\t<td>14.295089</td>\n",
       "\t\t<td>14.295089</td>\n",
       "\t\t<td>19</td>\n",
       "\t</tr>\n",
       "\t<tr>\n",
       "\t\t<td>20</td>\n",
       "\t\t<td>80.967564</td>\n",
       "\t\t<td>80.967564</td>\n",
       "\t\t<td>80.967564</td>\n",
       "\t\t<td>150</td>\n",
       "\t</tr>\n",
       "\t<tr>\n",
       "\t\t<td>13</td>\n",
       "\t\t<td>237.726427</td>\n",
       "\t\t<td>237.726427</td>\n",
       "\t\t<td>237.726427</td>\n",
       "\t\t<td>430</td>\n",
       "\t</tr>\n",
       "\t<tr>\n",
       "\t\t<td>10</td>\n",
       "\t\t<td>312.065205</td>\n",
       "\t\t<td>312.065205</td>\n",
       "\t\t<td>312.065205</td>\n",
       "\t\t<td>450</td>\n",
       "\t</tr>\n",
       "\t<tr>\n",
       "\t\t<td>8</td>\n",
       "\t\t<td>167.605064</td>\n",
       "\t\t<td>167.605064</td>\n",
       "\t\t<td>167.605064</td>\n",
       "\t\t<td>300</td>\n",
       "\t</tr>\n",
       "</table></html>"
      ],
      "text/plain": [
       "   id  Prediction  Confidence_Lower  Confidence_upper  Weight\n",
       "0  12   18.257558         18.257558         18.257558      78\n",
       "1  15   14.295089         14.295089         14.295089      19\n",
       "2  16   24.022711         24.022711         24.022711      32\n",
       "3  18  261.890632        261.890632        261.890632     500\n",
       "4  21  610.770559        610.770559        610.770559     770\n",
       "5  23   14.295089         14.295089         14.295089      19\n",
       "6  20   80.967564         80.967564         80.967564     150\n",
       "7  13  237.726427        237.726427        237.726427     430\n",
       "8  10  312.065205        312.065205        312.065205     450\n",
       "9   8  167.605064        167.605064        167.605064     300"
      ]
     },
     "execution_count": 27,
     "metadata": {},
     "output_type": "execute_result"
    }
   ],
   "source": [
    "# Printing prediction\n",
    "prediction.head()"
   ]
  },
  {
   "cell_type": "code",
   "execution_count": 28,
   "id": "15ceb9a3-9d9b-474b-a623-82dd81c91499",
   "metadata": {},
   "outputs": [
    {
     "name": "stdout",
     "output_type": "stream",
     "text": [
      "\n",
      "Skipping data transformation as data is already transformed.\n",
      "\n",
      "Following model is being picked for evaluation:\n",
      "Model ID : XGBOOST_2 \n",
      "Feature Selection Method : pca\n",
      "\n",
      "Performance Metrics : \n",
      "          MAE           MSE      MSLE       MAPE        MPE        RMSE     RMSLE           ME        R2        EV         MPD       MGD\n",
      "0  201.743208  96257.955168  0.351524  39.687065  39.687065  310.254662  0.592895  1029.906344  0.493599  0.707718  143.038399  0.504925\n"
     ]
    }
   ],
   "source": [
    "# Fetching performance metrics on test data\n",
    "performance_metrics = aml.evaluate(fish_df_test, 2)"
   ]
  },
  {
   "cell_type": "code",
   "execution_count": 29,
   "id": "e98fc25c-f45a-4f11-82cd-19eebb2cef5f",
   "metadata": {},
   "outputs": [
    {
     "data": {
      "text/html": [
       "<style type=\"text/css\">\n",
       "\ttable {border:ridge 5px;}\n",
       "\ttable td {border:inset 1px;}\n",
       "\ttable tr#HeaderRow {background-color:grey; color:white;}</style>\n",
       "<html><table>\n",
       "\t<tr id=\"HeaderRow\">\n",
       "\t\t<th>MAE</th>\n",
       "\t\t<th>MSE</th>\n",
       "\t\t<th>MSLE</th>\n",
       "\t\t<th>MAPE</th>\n",
       "\t\t<th>MPE</th>\n",
       "\t\t<th>RMSE</th>\n",
       "\t\t<th>RMSLE</th>\n",
       "\t\t<th>ME</th>\n",
       "\t\t<th>R2</th>\n",
       "\t\t<th>EV</th>\n",
       "\t\t<th>MPD</th>\n",
       "\t\t<th>MGD</th>\n",
       "\t</tr>\n",
       "\t<tr>\n",
       "\t\t<td>201.74320793749996</td>\n",
       "\t\t<td>96257.95516784451</td>\n",
       "\t\t<td>0.35152415240214946</td>\n",
       "\t\t<td>39.68706534840945</td>\n",
       "\t\t<td>39.68706534840945</td>\n",
       "\t\t<td>310.2546617987303</td>\n",
       "\t\t<td>0.5928947228658301</td>\n",
       "\t\t<td>1029.906344</td>\n",
       "\t\t<td>0.4935990263156276</td>\n",
       "\t\t<td>0.7077182918688842</td>\n",
       "\t\t<td>143.03839873153603</td>\n",
       "\t\t<td>0.5049250827930201</td>\n",
       "\t</tr>\n",
       "</table></html>"
      ],
      "text/plain": [
       "          MAE           MSE      MSLE       MAPE        MPE        RMSE     RMSLE           ME        R2        EV         MPD       MGD\n",
       "0  201.743208  96257.955168  0.351524  39.687065  39.687065  310.254662  0.592895  1029.906344  0.493599  0.707718  143.038399  0.504925"
      ]
     },
     "execution_count": 29,
     "metadata": {},
     "output_type": "execute_result"
    }
   ],
   "source": [
    "performance_metrics"
   ]
  },
  {
   "cell_type": "code",
   "execution_count": 30,
   "id": "b2cba357-75ac-4089-a234-64a57067b117",
   "metadata": {},
   "outputs": [
    {
     "data": {
      "text/plain": [
       "True"
      ]
     },
     "execution_count": 30,
     "metadata": {},
     "output_type": "execute_result"
    }
   ],
   "source": [
    "remove_context()"
   ]
  },
  {
   "cell_type": "code",
   "execution_count": null,
   "id": "fc34254d-3006-44bb-ab98-627efaa3a467",
   "metadata": {},
   "outputs": [],
   "source": []
  }
 ],
 "metadata": {
  "kernelspec": {
   "display_name": "Python 3 (ipykernel)",
   "language": "python",
   "name": "python3"
  },
  "language_info": {
   "codemirror_mode": {
    "name": "ipython",
    "version": 3
   },
   "file_extension": ".py",
   "mimetype": "text/x-python",
   "name": "python",
   "nbconvert_exporter": "python",
   "pygments_lexer": "ipython3",
   "version": "3.10.9"
  }
 },
 "nbformat": 4,
 "nbformat_minor": 5
}
