{
 "cells": [
  {
   "cell_type": "markdown",
   "id": "2762f1d8-5a66-411f-a625-34cf16ac6dd3",
   "metadata": {},
   "source": [
    "# <b><span style='color:#F1A424'>AutoML - Multiclass Classification - BMI Value Prediction </span> </b>"
   ]
  },
  {
   "cell_type": "markdown",
   "id": "32650b88-cafe-4304-bcc7-84859c682b08",
   "metadata": {},
   "source": [
    "### Disclaimer\n",
    "Please note, the Vantage Functions via SQLAlchemy feature is a preview/beta code release with limited functionality (the “Code”). As such, you acknowledge that the Code is experimental in nature and that the Code is provided “AS IS” and may not be functional on any machine or in any environment. TERADATA DISCLAIMS ALL WARRANTIES RELATING TO THE CODE, EXPRESS OR IMPLIED, INCLUDING, BUT NOT LIMITED TO, ANY WARRANTIES AGAINST INFRINGEMENT OF THIRD-PARTY RIGHTS, MERCHANTABILITY AND FITNESS FOR A PARTICULAR PURPOSE.\n",
    "\n",
    "TERADATA SHALL NOT BE RESPONSIBLE OR LIABLE WITH RESPECT TO ANY SUBJECT MATTER OF THE CODE UNDER ANY CONTRACT, NEGLIGENCE, STRICT LIABILITY OR OTHER THEORY \n",
    "    (A) FOR LOSS OR INACCURACY OF DATA OR COST OF PROCUREMENT OF SUBSTITUTE GOODS, SERVICES OR TECHNOLOGY, OR \n",
    "    (B) FOR ANY INDIRECT, INCIDENTAL OR CONSEQUENTIAL DAMAGES INCLUDING, BUT NOT LIMITED TO LOSS OF REVENUES AND LOSS OF PROFITS. TERADATA SHALL NOT BE RESPONSIBLE FOR ANY MATTER BEYOND ITS REASONABLE CONTROL.\n",
    "\n",
    "Notwithstanding anything to the contrary: \n",
    "    (a) Teradata will have no obligation of any kind with respect to any Code-related comments, suggestions, design changes or improvements that you elect to provide to Teradata in either verbal or written form (collectively, “Feedback”), and \n",
    "    (b) Teradata and its affiliates are hereby free to use any ideas, concepts, know-how or techniques, in whole or in part, contained in Feedback: \n",
    "        (i) for any purpose whatsoever, including developing, manufacturing, and/or marketing products and/or services incorporating Feedback in whole or in part, and \n",
    "        (ii) without any restrictions or limitations, including requiring the payment of any license fees, royalties, or other consideration. "
   ]
  },
  {
   "cell_type": "markdown",
   "id": "f225fb94-b2c8-4c92-af38-733d08e0e2a1",
   "metadata": {},
   "source": [
    "## <b> Problem overview:</b>\n",
    "    "
   ]
  },
  {
   "cell_type": "markdown",
   "id": "af9813eb-9c44-4968-a5fe-d1c74415c894",
   "metadata": {},
   "source": [
    "**Dataset used: BMI Dataset**\n",
    "\n",
    "**Features**:\n",
    "\n",
    "- `gender`: Gender of person.\n",
    "- `height`: Height of person.\n",
    "- `weight`: Weight of person.\n",
    "\n",
    "**Target Variable**:\n",
    "\n",
    "- `bmi`: BMI value of person.\n",
    "\n",
    "        \n",
    "**Objective**:\n",
    "\n",
    "The primary objective is typically to build a model that can accurately predict BMI of person.\n",
    "\n",
    "**Usecase**:\n",
    "\n",
    "Here, we will use AutoML(Automated Machine Learning) functionality to automate the entire process of developing a predictive model. It will perform feature exploration, feature engineering, data preparation, model training and evaluation on dataset in auto run and at end we will get leaderboard containined different models along with their performance. Model will also have rank associated with them which indicates which is best performing model for given data followed by other models."
   ]
  },
  {
   "cell_type": "code",
   "execution_count": 1,
   "id": "66568348-4d00-477c-a071-17995f797c95",
   "metadata": {},
   "outputs": [],
   "source": [
    "# Importing AutoML from teradataml\n",
    "from teradataml import AutoML, AutoClassifier"
   ]
  },
  {
   "cell_type": "code",
   "execution_count": 2,
   "id": "17dfae70-0401-4cc4-ba1c-400a5cf62451",
   "metadata": {},
   "outputs": [],
   "source": [
    "# Importing other important libraries\n",
    "import getpass\n",
    "from teradataml import create_context, remove_context\n",
    "from teradataml import DataFrame\n",
    "from teradataml import load_example_data\n",
    "from teradataml import TrainTestSplit"
   ]
  },
  {
   "cell_type": "code",
   "execution_count": 3,
   "id": "cadd9ed2-42d6-4899-b23e-4e2cf601162f",
   "metadata": {},
   "outputs": [
    {
     "name": "stdin",
     "output_type": "stream",
     "text": [
      "Host:  ········\n",
      "Username:  ········\n",
      "Password:  ········\n"
     ]
    }
   ],
   "source": [
    "# Create the connection.\n",
    "host = getpass.getpass(\"Host: \")\n",
    "username = getpass.getpass(\"Username: \")\n",
    "password = getpass.getpass(\"Password: \")\n",
    "\n",
    "con = create_context(host=host, username=username, password=password)"
   ]
  },
  {
   "cell_type": "markdown",
   "id": "0720caca-f00a-40fb-856a-affae5489230",
   "metadata": {
    "tags": []
   },
   "source": [
    "## <b><span style='color:#F1A424'>| 1.</span> Loading Deployed Models - 'BMI_top_3_models' </b>"
   ]
  },
  {
   "cell_type": "markdown",
   "id": "788ca569-85a3-4e40-8c58-fc66f34a77c8",
   "metadata": {},
   "source": [
    "### <b><span style='color:#F1A424'>| 1.1.</span> Loading Model </b>"
   ]
  },
  {
   "cell_type": "code",
   "execution_count": 4,
   "id": "3d7b33af-a017-4949-a01f-33cbc071331d",
   "metadata": {},
   "outputs": [],
   "source": [
    "# Creating AutoML object\n",
    "\n",
    "aml=AutoML()"
   ]
  },
  {
   "cell_type": "code",
   "execution_count": 6,
   "id": "9c608142-9082-489c-9592-b305b17d0312",
   "metadata": {},
   "outputs": [],
   "source": [
    "# Loading models\n",
    "\n",
    "models_1 = aml.load('BMI_top_3_models')"
   ]
  },
  {
   "cell_type": "code",
   "execution_count": 7,
   "id": "a7324767-1da9-4243-9857-04218d433937",
   "metadata": {},
   "outputs": [
    {
     "data": {
      "text/html": [
       "<div>\n",
       "<style scoped>\n",
       "    .dataframe tbody tr th:only-of-type {\n",
       "        vertical-align: middle;\n",
       "    }\n",
       "\n",
       "    .dataframe tbody tr th {\n",
       "        vertical-align: top;\n",
       "    }\n",
       "\n",
       "    .dataframe thead th {\n",
       "        text-align: right;\n",
       "    }\n",
       "</style>\n",
       "<table border=\"1\" class=\"dataframe\">\n",
       "  <thead>\n",
       "    <tr style=\"text-align: right;\">\n",
       "      <th></th>\n",
       "      <th>RANK</th>\n",
       "      <th>MODEL_ID</th>\n",
       "      <th>FEATURE_SELECTION</th>\n",
       "      <th>ACCURACY</th>\n",
       "      <th>MICRO-PRECISION</th>\n",
       "      <th>MICRO-RECALL</th>\n",
       "      <th>MICRO-F1</th>\n",
       "      <th>MACRO-PRECISION</th>\n",
       "      <th>MACRO-RECALL</th>\n",
       "      <th>MACRO-F1</th>\n",
       "      <th>WEIGHTED-PRECISION</th>\n",
       "      <th>WEIGHTED-RECALL</th>\n",
       "      <th>WEIGHTED-F1</th>\n",
       "      <th>DATA_TABLE</th>\n",
       "    </tr>\n",
       "  </thead>\n",
       "  <tbody>\n",
       "    <tr>\n",
       "      <th>0</th>\n",
       "      <td>1</td>\n",
       "      <td>XGBOOST_1</td>\n",
       "      <td>lasso</td>\n",
       "      <td>0.888889</td>\n",
       "      <td>0.888889</td>\n",
       "      <td>0.888889</td>\n",
       "      <td>0.888889</td>\n",
       "      <td>0.893743</td>\n",
       "      <td>0.890104</td>\n",
       "      <td>0.887555</td>\n",
       "      <td>0.894391</td>\n",
       "      <td>0.888889</td>\n",
       "      <td>0.887258</td>\n",
       "      <td>ml__bmi_lasso_1723380027544739</td>\n",
       "    </tr>\n",
       "    <tr>\n",
       "      <th>1</th>\n",
       "      <td>2</td>\n",
       "      <td>XGBOOST_5</td>\n",
       "      <td>pca</td>\n",
       "      <td>0.851351</td>\n",
       "      <td>0.851351</td>\n",
       "      <td>0.851351</td>\n",
       "      <td>0.851351</td>\n",
       "      <td>0.854743</td>\n",
       "      <td>0.805479</td>\n",
       "      <td>0.823015</td>\n",
       "      <td>0.858455</td>\n",
       "      <td>0.851351</td>\n",
       "      <td>0.850751</td>\n",
       "      <td>ml__bmi_pca_1723379618418365</td>\n",
       "    </tr>\n",
       "    <tr>\n",
       "      <th>2</th>\n",
       "      <td>3</td>\n",
       "      <td>XGBOOST_4</td>\n",
       "      <td>pca</td>\n",
       "      <td>0.432432</td>\n",
       "      <td>0.432432</td>\n",
       "      <td>0.432432</td>\n",
       "      <td>0.432432</td>\n",
       "      <td>0.214548</td>\n",
       "      <td>0.278646</td>\n",
       "      <td>0.234151</td>\n",
       "      <td>0.309902</td>\n",
       "      <td>0.432432</td>\n",
       "      <td>0.350252</td>\n",
       "      <td>ml__bmi_pca_1723379618418365</td>\n",
       "    </tr>\n",
       "  </tbody>\n",
       "</table>\n",
       "</div>"
      ],
      "text/plain": [
       "   RANK   MODEL_ID FEATURE_SELECTION  ACCURACY  MICRO-PRECISION  MICRO-RECALL  \\\n",
       "0     1  XGBOOST_1             lasso  0.888889         0.888889      0.888889   \n",
       "1     2  XGBOOST_5               pca  0.851351         0.851351      0.851351   \n",
       "2     3  XGBOOST_4               pca  0.432432         0.432432      0.432432   \n",
       "\n",
       "   MICRO-F1  MACRO-PRECISION  MACRO-RECALL  MACRO-F1  WEIGHTED-PRECISION  \\\n",
       "0  0.888889         0.893743      0.890104  0.887555            0.894391   \n",
       "1  0.851351         0.854743      0.805479  0.823015            0.858455   \n",
       "2  0.432432         0.214548      0.278646  0.234151            0.309902   \n",
       "\n",
       "   WEIGHTED-RECALL  WEIGHTED-F1                      DATA_TABLE  \n",
       "0         0.888889     0.887258  ml__bmi_lasso_1723380027544739  \n",
       "1         0.851351     0.850751    ml__bmi_pca_1723379618418365  \n",
       "2         0.432432     0.350252    ml__bmi_pca_1723379618418365  "
      ]
     },
     "execution_count": 7,
     "metadata": {},
     "output_type": "execute_result"
    }
   ],
   "source": [
    "# Display loaded models\n",
    "\n",
    "\n",
    "models_1"
   ]
  },
  {
   "cell_type": "markdown",
   "id": "f7f86314-6042-493c-93e4-3db3d5633a71",
   "metadata": {},
   "source": [
    "### <b><span style='color:#F1A424'>| 1.2.</span> Get Loaded Model Hyperparameters</b>"
   ]
  },
  {
   "cell_type": "code",
   "execution_count": 8,
   "id": "369bc5ec-c9c1-4bf4-825b-809777d89a51",
   "metadata": {},
   "outputs": [
    {
     "data": {
      "text/plain": [
       "{'response_column': 'bmi',\n",
       " 'name': 'xgboost',\n",
       " 'model_type': 'Classification',\n",
       " 'column_sampling': 1,\n",
       " 'min_impurity': 0.0,\n",
       " 'lambda1': 1,\n",
       " 'shrinkage_factor': 0.5,\n",
       " 'max_depth': 7,\n",
       " 'min_node_size': 1,\n",
       " 'iter_num': 10,\n",
       " 'seed': 42,\n",
       " 'persist': False,\n",
       " 'output_prob': True,\n",
       " 'output_responses': ['2', '4', '3', '5'],\n",
       " 'max_models': 2}"
      ]
     },
     "execution_count": 8,
     "metadata": {},
     "output_type": "execute_result"
    }
   ],
   "source": [
    "aml.model_hyperparameters(rank=1, use_loaded_models=True)"
   ]
  },
  {
   "cell_type": "code",
   "execution_count": 9,
   "id": "ef22f037-a80d-4ca9-b524-06c4f017a070",
   "metadata": {},
   "outputs": [
    {
     "data": {
      "text/plain": [
       "{'response_column': 'bmi',\n",
       " 'name': 'xgboost',\n",
       " 'model_type': 'Classification',\n",
       " 'column_sampling': 0.6,\n",
       " 'min_impurity': 0.0,\n",
       " 'lambda1': 10,\n",
       " 'shrinkage_factor': 0.1,\n",
       " 'max_depth': 8,\n",
       " 'min_node_size': 2,\n",
       " 'iter_num': 10,\n",
       " 'seed': 42,\n",
       " 'persist': False,\n",
       " 'output_prob': True,\n",
       " 'output_responses': ['2', '4', '3', '5'],\n",
       " 'max_models': 2}"
      ]
     },
     "execution_count": 9,
     "metadata": {},
     "output_type": "execute_result"
    }
   ],
   "source": [
    "aml.model_hyperparameters(rank=3, use_loaded_models=True)"
   ]
  },
  {
   "cell_type": "markdown",
   "id": "60f32e93-3391-42f8-a143-488da7370b2d",
   "metadata": {},
   "source": [
    "### <b><span style='color:#F1A424'>| 1.3.</span> Loading Dataset</b>"
   ]
  },
  {
   "cell_type": "code",
   "execution_count": 10,
   "id": "901721b9-4136-431c-9079-b4f3e0730dac",
   "metadata": {},
   "outputs": [
    {
     "name": "stdout",
     "output_type": "stream",
     "text": [
      "WARNING: Skipped loading table bmi since it already exists in the database.\n"
     ]
    }
   ],
   "source": [
    "### Loading Dataset for Prediction\n",
    "\n",
    "load_example_data('teradataml','bmi')\n",
    "df = DataFrame('bmi')"
   ]
  },
  {
   "cell_type": "code",
   "execution_count": 11,
   "id": "103f0e7b-fda9-4a54-a36c-4922ea6249de",
   "metadata": {},
   "outputs": [
    {
     "data": {
      "text/html": [
       "<style type=\"text/css\">\n",
       "\ttable {border:ridge 5px;}\n",
       "\ttable td {border:inset 1px;}\n",
       "\ttable tr#HeaderRow {background-color:grey; color:white;}</style>\n",
       "<html><table>\n",
       "\t<tr id=\"HeaderRow\">\n",
       "\t\t<th>gender</th>\n",
       "\t\t<th>height</th>\n",
       "\t\t<th>weight</th>\n",
       "\t\t<th>bmi</th>\n",
       "\t</tr>\n",
       "\t<tr>\n",
       "\t\t<td>Male</td>\n",
       "\t\t<td>149</td>\n",
       "\t\t<td>61</td>\n",
       "\t\t<td>3</td>\n",
       "\t</tr>\n",
       "\t<tr>\n",
       "\t\t<td>Male</td>\n",
       "\t\t<td>147</td>\n",
       "\t\t<td>92</td>\n",
       "\t\t<td>5</td>\n",
       "\t</tr>\n",
       "\t<tr>\n",
       "\t\t<td>Male</td>\n",
       "\t\t<td>154</td>\n",
       "\t\t<td>111</td>\n",
       "\t\t<td>5</td>\n",
       "\t</tr>\n",
       "\t<tr>\n",
       "\t\t<td>Male</td>\n",
       "\t\t<td>174</td>\n",
       "\t\t<td>90</td>\n",
       "\t\t<td>3</td>\n",
       "\t</tr>\n",
       "\t<tr>\n",
       "\t\t<td>Male</td>\n",
       "\t\t<td>155</td>\n",
       "\t\t<td>51</td>\n",
       "\t\t<td>2</td>\n",
       "\t</tr>\n",
       "\t<tr>\n",
       "\t\t<td>Male</td>\n",
       "\t\t<td>191</td>\n",
       "\t\t<td>79</td>\n",
       "\t\t<td>2</td>\n",
       "\t</tr>\n",
       "\t<tr>\n",
       "\t\t<td>Female</td>\n",
       "\t\t<td>185</td>\n",
       "\t\t<td>110</td>\n",
       "\t\t<td>4</td>\n",
       "\t</tr>\n",
       "\t<tr>\n",
       "\t\t<td>Female</td>\n",
       "\t\t<td>195</td>\n",
       "\t\t<td>104</td>\n",
       "\t\t<td>3</td>\n",
       "\t</tr>\n",
       "\t<tr>\n",
       "\t\t<td>Female</td>\n",
       "\t\t<td>169</td>\n",
       "\t\t<td>103</td>\n",
       "\t\t<td>4</td>\n",
       "\t</tr>\n",
       "\t<tr>\n",
       "\t\t<td>Female</td>\n",
       "\t\t<td>159</td>\n",
       "\t\t<td>80</td>\n",
       "\t\t<td>4</td>\n",
       "\t</tr>\n",
       "</table></html>"
      ],
      "text/plain": [
       "        height  weight  bmi\n",
       "gender                     \n",
       "Male       149      61    3\n",
       "Male       147      92    5\n",
       "Male       154     111    5\n",
       "Male       174      90    3\n",
       "Male       155      51    2\n",
       "Male       191      79    2\n",
       "Female     185     110    4\n",
       "Female     195     104    3\n",
       "Female     169     103    4\n",
       "Female     159      80    4"
      ]
     },
     "execution_count": 11,
     "metadata": {},
     "output_type": "execute_result"
    }
   ],
   "source": [
    "# Display data\n",
    "\n",
    "df"
   ]
  },
  {
   "cell_type": "markdown",
   "id": "b32f28b3-1f4d-42aa-8bdd-758fb5e0258a",
   "metadata": {},
   "source": [
    "### <b><span style='color:#F1A424'>| 1.4.</span> Generating Prediction & Performance Metrics</b>"
   ]
  },
  {
   "cell_type": "code",
   "execution_count": 12,
   "id": "39ecd317-b312-486d-9620-97d941d035f2",
   "metadata": {
    "tags": []
   },
   "outputs": [
    {
     "name": "stdout",
     "output_type": "stream",
     "text": [
      "Generating prediction using:\n",
      "Model Name: XGBOOST\n",
      "Feature Selection: lasso\n",
      "Completed: ｜⫿⫿⫿⫿⫿⫿⫿⫿⫿⫿⫿⫿⫿⫿⫿⫿⫿⫿⫿⫿⫿⫿⫿⫿⫿⫿⫿⫿⫿⫿⫿⫿⫿⫿⫿⫿⫿⫿⫿⫿⫿⫿⫿⫿⫿⫿⫿⫿⫿⫿⫿⫿⫿⫿⫿⫿⫿⫿⫿⫿｜ 100% - 10/10           \r"
     ]
    }
   ],
   "source": [
    "# Generate prediction using some data rows and model rank\n",
    "\n",
    "prediction = aml.predict(df, rank=1)"
   ]
  },
  {
   "cell_type": "code",
   "execution_count": 13,
   "id": "f44f2daf-706e-415a-a81b-0ef555505a30",
   "metadata": {},
   "outputs": [
    {
     "data": {
      "text/html": [
       "<style type=\"text/css\">\n",
       "\ttable {border:ridge 5px;}\n",
       "\ttable td {border:inset 1px;}\n",
       "\ttable tr#HeaderRow {background-color:grey; color:white;}</style>\n",
       "<html><table>\n",
       "\t<tr id=\"HeaderRow\">\n",
       "\t\t<th>id</th>\n",
       "\t\t<th>Prediction</th>\n",
       "\t\t<th>Prob_2</th>\n",
       "\t\t<th>Prob_4</th>\n",
       "\t\t<th>Prob_3</th>\n",
       "\t\t<th>Prob_5</th>\n",
       "\t\t<th>bmi</th>\n",
       "\t</tr>\n",
       "\t<tr>\n",
       "\t\t<td>703</td>\n",
       "\t\t<td>2</td>\n",
       "\t\t<td>0.9852497520459085</td>\n",
       "\t\t<td>0.003782061246856876</td>\n",
       "\t\t<td>0.007480316952435487</td>\n",
       "\t\t<td>0.0034878697547990867</td>\n",
       "\t\t<td>2</td>\n",
       "\t</tr>\n",
       "\t<tr>\n",
       "\t\t<td>844</td>\n",
       "\t\t<td>5</td>\n",
       "\t\t<td>0.008448834500276977</td>\n",
       "\t\t<td>0.034531795312916606</td>\n",
       "\t\t<td>0.01531018821043332</td>\n",
       "\t\t<td>0.941709181976373</td>\n",
       "\t\t<td>5</td>\n",
       "\t</tr>\n",
       "\t<tr>\n",
       "\t\t<td>644</td>\n",
       "\t\t<td>2</td>\n",
       "\t\t<td>0.7704632887868583</td>\n",
       "\t\t<td>0.08471367219204928</td>\n",
       "\t\t<td>0.10645176882242044</td>\n",
       "\t\t<td>0.03837127019867201</td>\n",
       "\t\t<td>2</td>\n",
       "\t</tr>\n",
       "\t<tr>\n",
       "\t\t<td>191</td>\n",
       "\t\t<td>4</td>\n",
       "\t\t<td>0.004132659007027322</td>\n",
       "\t\t<td>0.9715259960896021</td>\n",
       "\t\t<td>0.013416898937687776</td>\n",
       "\t\t<td>0.010924445965682691</td>\n",
       "\t\t<td>4</td>\n",
       "\t</tr>\n",
       "\t<tr>\n",
       "\t\t<td>1703</td>\n",
       "\t\t<td>2</td>\n",
       "\t\t<td>0.974802107569527</td>\n",
       "\t\t<td>0.01107660785087025</td>\n",
       "\t\t<td>0.007483963144310558</td>\n",
       "\t\t<td>0.00663732143529214</td>\n",
       "\t\t<td>2</td>\n",
       "\t</tr>\n",
       "\t<tr>\n",
       "\t\t<td>380</td>\n",
       "\t\t<td>2</td>\n",
       "\t\t<td>0.9747610818546727</td>\n",
       "\t\t<td>0.011076141678555158</td>\n",
       "\t\t<td>0.00752573437110651</td>\n",
       "\t\t<td>0.00663704209566568</td>\n",
       "\t\t<td>2</td>\n",
       "\t</tr>\n",
       "\t<tr>\n",
       "\t\t<td>660</td>\n",
       "\t\t<td>2</td>\n",
       "\t\t<td>0.9692765871483442</td>\n",
       "\t\t<td>0.00731782393263597</td>\n",
       "\t\t<td>0.018037285043259462</td>\n",
       "\t\t<td>0.005368303875760341</td>\n",
       "\t\t<td>2</td>\n",
       "\t</tr>\n",
       "\t<tr>\n",
       "\t\t<td>951</td>\n",
       "\t\t<td>4</td>\n",
       "\t\t<td>0.009413610653942849</td>\n",
       "\t\t<td>0.898795545213552</td>\n",
       "\t\t<td>0.08320775760520152</td>\n",
       "\t\t<td>0.008583086527303595</td>\n",
       "\t\t<td>2</td>\n",
       "\t</tr>\n",
       "\t<tr>\n",
       "\t\t<td>1532</td>\n",
       "\t\t<td>5</td>\n",
       "\t\t<td>0.005997655752338248</td>\n",
       "\t\t<td>0.029565220427569303</td>\n",
       "\t\t<td>0.021353756761859567</td>\n",
       "\t\t<td>0.9430833670582328</td>\n",
       "\t\t<td>5</td>\n",
       "\t</tr>\n",
       "\t<tr>\n",
       "\t\t<td>167</td>\n",
       "\t\t<td>4</td>\n",
       "\t\t<td>0.004523768249751634</td>\n",
       "\t\t<td>0.9597658323733901</td>\n",
       "\t\t<td>0.016070693441036676</td>\n",
       "\t\t<td>0.01963970593582154</td>\n",
       "\t\t<td>4</td>\n",
       "\t</tr>\n",
       "</table></html>"
      ],
      "text/plain": [
       "     id  Prediction    Prob_2    Prob_4    Prob_3    Prob_5  bmi\n",
       "0   703           2  0.985250  0.003782  0.007480  0.003488    2\n",
       "1   844           5  0.008449  0.034532  0.015310  0.941709    5\n",
       "2   644           2  0.770463  0.084714  0.106452  0.038371    2\n",
       "3   191           4  0.004133  0.971526  0.013417  0.010924    4\n",
       "4  1703           2  0.974802  0.011077  0.007484  0.006637    2\n",
       "5   380           2  0.974761  0.011076  0.007526  0.006637    2\n",
       "6   660           2  0.969277  0.007318  0.018037  0.005368    2\n",
       "7   951           4  0.009414  0.898796  0.083208  0.008583    2\n",
       "8  1532           5  0.005998  0.029565  0.021354  0.943083    5\n",
       "9   167           4  0.004524  0.959766  0.016071  0.019640    4"
      ]
     },
     "execution_count": 13,
     "metadata": {},
     "output_type": "execute_result"
    }
   ],
   "source": [
    "prediction"
   ]
  },
  {
   "cell_type": "code",
   "execution_count": 14,
   "id": "ab029333-fd2f-4c82-9307-0df80fe76b63",
   "metadata": {},
   "outputs": [
    {
     "name": "stdout",
     "output_type": "stream",
     "text": [
      "Generating performance metrics using:\n",
      "Model Name: XGBOOST\n",
      "Feature Selection: lasso\n"
     ]
    }
   ],
   "source": [
    "# Generate performance metrics\n",
    "\n",
    "performance_metric = aml.evaluate(df, rank=1)"
   ]
  },
  {
   "cell_type": "code",
   "execution_count": 15,
   "id": "67a60191-536b-45a2-ae75-b2472f1518a8",
   "metadata": {
    "tags": []
   },
   "outputs": [
    {
     "data": {
      "text/plain": [
       "\n",
       "############ output_data Output ############\n",
       "\n",
       "   SeqNum              Metric  MetricValue\n",
       "0       3        Micro-Recall     0.892000\n",
       "1       5     Macro-Precision     0.579769\n",
       "2       6        Macro-Recall     0.630184\n",
       "3       7            Macro-F1     0.599494\n",
       "4       9     Weighted-Recall     0.892000\n",
       "5      10         Weighted-F1     0.865583\n",
       "6       8  Weighted-Precision     0.848340\n",
       "7       4            Micro-F1     0.892000\n",
       "8       2     Micro-Precision     0.892000\n",
       "9       1            Accuracy     0.892000\n",
       "\n",
       "\n",
       "############ result Output ############\n",
       "\n",
       "       Prediction  Mapping  CLASS_1  CLASS_2  CLASS_3  CLASS_4  CLASS_5  CLASS_6  Precision    Recall        F1  Support\n",
       "SeqNum                                                                                                                  \n",
       "2               2  CLASS_3       13       22       65        4        0        0   0.625000  0.942029  0.751445       69\n",
       "4               4  CLASS_5        0        0        1        4      127        3   0.940741  0.976923  0.958491      130\n",
       "3               3  CLASS_4        0        0        3       60        1        1   0.923077  0.882353  0.902256       68\n",
       "0               0  CLASS_1        0        0        0        0        0        0   0.000000  0.000000  0.000000       13\n",
       "1               1  CLASS_2        0        0        0        0        0        0   0.000000  0.000000  0.000000       22\n",
       "5               5  CLASS_6        0        0        0        0        2      194   0.989796  0.979798  0.984772      198\n"
      ]
     },
     "execution_count": 15,
     "metadata": {},
     "output_type": "execute_result"
    }
   ],
   "source": [
    "performance_metric"
   ]
  },
  {
   "cell_type": "code",
   "execution_count": 16,
   "id": "9a73d6a9-b721-46f5-987d-b9a935cc398a",
   "metadata": {},
   "outputs": [
    {
     "name": "stdout",
     "output_type": "stream",
     "text": [
      "Generating prediction using:\n",
      "Model Name: XGBOOST\n",
      "Feature Selection: pca\n"
     ]
    }
   ],
   "source": [
    "# Generate prediction using data and model rank\n",
    "\n",
    "prediction = aml.predict(df, rank=3)"
   ]
  },
  {
   "cell_type": "code",
   "execution_count": 17,
   "id": "93a89587-4994-4dd4-98f5-80dacf076e65",
   "metadata": {},
   "outputs": [
    {
     "data": {
      "text/html": [
       "<style type=\"text/css\">\n",
       "\ttable {border:ridge 5px;}\n",
       "\ttable td {border:inset 1px;}\n",
       "\ttable tr#HeaderRow {background-color:grey; color:white;}</style>\n",
       "<html><table>\n",
       "\t<tr id=\"HeaderRow\">\n",
       "\t\t<th>id</th>\n",
       "\t\t<th>Prediction</th>\n",
       "\t\t<th>Prob_2</th>\n",
       "\t\t<th>Prob_4</th>\n",
       "\t\t<th>Prob_3</th>\n",
       "\t\t<th>Prob_5</th>\n",
       "\t\t<th>bmi</th>\n",
       "\t</tr>\n",
       "\t<tr>\n",
       "\t\t<td>1532</td>\n",
       "\t\t<td>5</td>\n",
       "\t\t<td>0.15226633613416382</td>\n",
       "\t\t<td>0.23085762971182228</td>\n",
       "\t\t<td>0.18406154749335046</td>\n",
       "\t\t<td>0.43281448666066347</td>\n",
       "\t\t<td>5</td>\n",
       "\t</tr>\n",
       "\t<tr>\n",
       "\t\t<td>703</td>\n",
       "\t\t<td>4</td>\n",
       "\t\t<td>0.18525267654048613</td>\n",
       "\t\t<td>0.29943989481793987</td>\n",
       "\t\t<td>0.251078016195688</td>\n",
       "\t\t<td>0.26422941244588605</td>\n",
       "\t\t<td>2</td>\n",
       "\t</tr>\n",
       "\t<tr>\n",
       "\t\t<td>844</td>\n",
       "\t\t<td>5</td>\n",
       "\t\t<td>0.15195241770914442</td>\n",
       "\t\t<td>0.23244332466992385</td>\n",
       "\t\t<td>0.18368207877713447</td>\n",
       "\t\t<td>0.4319221788437972</td>\n",
       "\t\t<td>5</td>\n",
       "\t</tr>\n",
       "\t<tr>\n",
       "\t\t<td>1703</td>\n",
       "\t\t<td>4</td>\n",
       "\t\t<td>0.23713897074312063</td>\n",
       "\t\t<td>0.2854789636025671</td>\n",
       "\t\t<td>0.20494698659680727</td>\n",
       "\t\t<td>0.27243507905750497</td>\n",
       "\t\t<td>2</td>\n",
       "\t</tr>\n",
       "\t<tr>\n",
       "\t\t<td>196</td>\n",
       "\t\t<td>2</td>\n",
       "\t\t<td>0.27848049848122725</td>\n",
       "\t\t<td>0.2641293733050792</td>\n",
       "\t\t<td>0.21657849245870936</td>\n",
       "\t\t<td>0.24081163575498418</td>\n",
       "\t\t<td>2</td>\n",
       "\t</tr>\n",
       "\t<tr>\n",
       "\t\t<td>1831</td>\n",
       "\t\t<td>5</td>\n",
       "\t\t<td>0.20615678194801534</td>\n",
       "\t\t<td>0.24818115835508311</td>\n",
       "\t\t<td>0.18470573863122505</td>\n",
       "\t\t<td>0.3609563210656765</td>\n",
       "\t\t<td>5</td>\n",
       "\t</tr>\n",
       "\t<tr>\n",
       "\t\t<td>660</td>\n",
       "\t\t<td>5</td>\n",
       "\t\t<td>0.19273408159838445</td>\n",
       "\t\t<td>0.27460162837128993</td>\n",
       "\t\t<td>0.2054427534876824</td>\n",
       "\t\t<td>0.32722153654264324</td>\n",
       "\t\t<td>2</td>\n",
       "\t</tr>\n",
       "\t<tr>\n",
       "\t\t<td>191</td>\n",
       "\t\t<td>4</td>\n",
       "\t\t<td>0.19023793909143333</td>\n",
       "\t\t<td>0.3219439943029892</td>\n",
       "\t\t<td>0.24832257327546867</td>\n",
       "\t\t<td>0.23949549333010875</td>\n",
       "\t\t<td>4</td>\n",
       "\t</tr>\n",
       "\t<tr>\n",
       "\t\t<td>47</td>\n",
       "\t\t<td>4</td>\n",
       "\t\t<td>0.1950080929850465</td>\n",
       "\t\t<td>0.3067702389893672</td>\n",
       "\t\t<td>0.25454918031000295</td>\n",
       "\t\t<td>0.24367248771558325</td>\n",
       "\t\t<td>3</td>\n",
       "\t</tr>\n",
       "\t<tr>\n",
       "\t\t<td>1175</td>\n",
       "\t\t<td>5</td>\n",
       "\t\t<td>0.20615678194801534</td>\n",
       "\t\t<td>0.24818115835508311</td>\n",
       "\t\t<td>0.18470573863122505</td>\n",
       "\t\t<td>0.3609563210656765</td>\n",
       "\t\t<td>4</td>\n",
       "\t</tr>\n",
       "</table></html>"
      ],
      "text/plain": [
       "     id  Prediction    Prob_2    Prob_4    Prob_3    Prob_5  bmi\n",
       "0  1532           5  0.152266  0.230858  0.184062  0.432814    5\n",
       "1   703           4  0.185253  0.299440  0.251078  0.264229    2\n",
       "2   844           5  0.151952  0.232443  0.183682  0.431922    5\n",
       "3  1703           4  0.237139  0.285479  0.204947  0.272435    2\n",
       "4   196           2  0.278480  0.264129  0.216578  0.240812    2\n",
       "5  1831           5  0.206157  0.248181  0.184706  0.360956    5\n",
       "6   660           5  0.192734  0.274602  0.205443  0.327222    2\n",
       "7   191           4  0.190238  0.321944  0.248323  0.239495    4\n",
       "8    47           4  0.195008  0.306770  0.254549  0.243672    3\n",
       "9  1175           5  0.206157  0.248181  0.184706  0.360956    4"
      ]
     },
     "execution_count": 17,
     "metadata": {},
     "output_type": "execute_result"
    }
   ],
   "source": [
    "prediction"
   ]
  },
  {
   "cell_type": "code",
   "execution_count": 18,
   "id": "b8263bee-77a6-49ad-927d-ea9645df864c",
   "metadata": {},
   "outputs": [
    {
     "name": "stdout",
     "output_type": "stream",
     "text": [
      "Generating performance metrics using:\n",
      "Model Name: XGBOOST\n",
      "Feature Selection: pca\n"
     ]
    }
   ],
   "source": [
    "# Generate performance metrics\n",
    "\n",
    "performance_metric = aml.evaluate(df, rank=3)"
   ]
  },
  {
   "cell_type": "code",
   "execution_count": 19,
   "id": "2dd569de-4d14-496d-af2f-9f857d60936d",
   "metadata": {},
   "outputs": [
    {
     "data": {
      "text/plain": [
       "\n",
       "############ output_data Output ############\n",
       "\n",
       "   SeqNum              Metric  MetricValue\n",
       "0       3        Micro-Recall     0.492000\n",
       "1       5     Macro-Precision     0.299825\n",
       "2       6        Macro-Recall     0.242562\n",
       "3       7            Macro-F1     0.210418\n",
       "4       9     Weighted-Recall     0.492000\n",
       "5      10         Weighted-F1     0.398458\n",
       "6       8  Weighted-Precision     0.433836\n",
       "7       4            Micro-F1     0.492000\n",
       "8       2     Micro-Precision     0.492000\n",
       "9       1            Accuracy     0.492000\n",
       "\n",
       "\n",
       "############ result Output ############\n",
       "\n",
       "       Prediction  Mapping  CLASS_1  CLASS_2  CLASS_3  CLASS_4  CLASS_5  CLASS_6  Precision    Recall        F1  Support\n",
       "SeqNum                                                                                                                  \n",
       "2               2  CLASS_3        0        2        4        1        0        2   0.444444  0.057971  0.102564       69\n",
       "3               3  CLASS_4        1        1        0        2        1        0   0.400000  0.029412  0.054795       68\n",
       "0               0  CLASS_1        0        0        0        0        0        0   0.000000  0.000000  0.000000       13\n",
       "4               4  CLASS_5        5       10       24       21       59       15   0.440299  0.453846  0.446970      130\n",
       "1               1  CLASS_2        0        0        0        0        0        0   0.000000  0.000000  0.000000       22\n",
       "5               5  CLASS_6        7        9       41       44       70      181   0.514205  0.914141  0.658182      198\n"
      ]
     },
     "execution_count": 19,
     "metadata": {},
     "output_type": "execute_result"
    }
   ],
   "source": [
    "performance_metric"
   ]
  },
  {
   "cell_type": "code",
   "execution_count": null,
   "id": "b48cf506-bc15-4f53-af8b-1739cd4963f7",
   "metadata": {},
   "outputs": [],
   "source": []
  },
  {
   "cell_type": "markdown",
   "id": "e1d0010a-f972-4add-baed-13e0de84cb5c",
   "metadata": {
    "tags": []
   },
   "source": [
    "## <b><span style='color:#F1A424'>| 2.</span> Loading Deployed Models - 'BMI_mixed_models' </b>"
   ]
  },
  {
   "cell_type": "markdown",
   "id": "549072d8-7090-432f-bc7e-160857070ccf",
   "metadata": {},
   "source": [
    "### <b><span style='color:#F1A424'>| 2.1.</span> Loading Model </b>"
   ]
  },
  {
   "cell_type": "code",
   "execution_count": 20,
   "id": "41e7076b-bdab-4cca-908f-0491f46f27a8",
   "metadata": {},
   "outputs": [],
   "source": [
    "# Loading models\n",
    "\n",
    "models_2 = aml.load('BMI_mixed_models')"
   ]
  },
  {
   "cell_type": "code",
   "execution_count": 21,
   "id": "a01c591a-4898-4d03-b91a-e662a4cac5ce",
   "metadata": {},
   "outputs": [
    {
     "data": {
      "text/html": [
       "<div>\n",
       "<style scoped>\n",
       "    .dataframe tbody tr th:only-of-type {\n",
       "        vertical-align: middle;\n",
       "    }\n",
       "\n",
       "    .dataframe tbody tr th {\n",
       "        vertical-align: top;\n",
       "    }\n",
       "\n",
       "    .dataframe thead th {\n",
       "        text-align: right;\n",
       "    }\n",
       "</style>\n",
       "<table border=\"1\" class=\"dataframe\">\n",
       "  <thead>\n",
       "    <tr style=\"text-align: right;\">\n",
       "      <th></th>\n",
       "      <th>RANK</th>\n",
       "      <th>MODEL_ID</th>\n",
       "      <th>FEATURE_SELECTION</th>\n",
       "      <th>ACCURACY</th>\n",
       "      <th>MICRO-PRECISION</th>\n",
       "      <th>MICRO-RECALL</th>\n",
       "      <th>MICRO-F1</th>\n",
       "      <th>MACRO-PRECISION</th>\n",
       "      <th>MACRO-RECALL</th>\n",
       "      <th>MACRO-F1</th>\n",
       "      <th>WEIGHTED-PRECISION</th>\n",
       "      <th>WEIGHTED-RECALL</th>\n",
       "      <th>WEIGHTED-F1</th>\n",
       "      <th>DATA_TABLE</th>\n",
       "    </tr>\n",
       "  </thead>\n",
       "  <tbody>\n",
       "    <tr>\n",
       "      <th>0</th>\n",
       "      <td>1</td>\n",
       "      <td>XGBOOST_5</td>\n",
       "      <td>pca</td>\n",
       "      <td>0.851351</td>\n",
       "      <td>0.851351</td>\n",
       "      <td>0.851351</td>\n",
       "      <td>0.851351</td>\n",
       "      <td>0.854743</td>\n",
       "      <td>0.805479</td>\n",
       "      <td>0.823015</td>\n",
       "      <td>0.858455</td>\n",
       "      <td>0.851351</td>\n",
       "      <td>0.850751</td>\n",
       "      <td>ml__bmi_pca_1723379823021962</td>\n",
       "    </tr>\n",
       "    <tr>\n",
       "      <th>1</th>\n",
       "      <td>2</td>\n",
       "      <td>XGBOOST_2</td>\n",
       "      <td>rfe</td>\n",
       "      <td>0.396825</td>\n",
       "      <td>0.396825</td>\n",
       "      <td>0.396825</td>\n",
       "      <td>0.396825</td>\n",
       "      <td>0.398428</td>\n",
       "      <td>0.397396</td>\n",
       "      <td>0.394433</td>\n",
       "      <td>0.399594</td>\n",
       "      <td>0.396825</td>\n",
       "      <td>0.394798</td>\n",
       "      <td>ml__bmi_rfe_1723385483489996</td>\n",
       "    </tr>\n",
       "  </tbody>\n",
       "</table>\n",
       "</div>"
      ],
      "text/plain": [
       "   RANK   MODEL_ID FEATURE_SELECTION  ACCURACY  MICRO-PRECISION  MICRO-RECALL  \\\n",
       "0     1  XGBOOST_5               pca  0.851351         0.851351      0.851351   \n",
       "1     2  XGBOOST_2               rfe  0.396825         0.396825      0.396825   \n",
       "\n",
       "   MICRO-F1  MACRO-PRECISION  MACRO-RECALL  MACRO-F1  WEIGHTED-PRECISION  \\\n",
       "0  0.851351         0.854743      0.805479  0.823015            0.858455   \n",
       "1  0.396825         0.398428      0.397396  0.394433            0.399594   \n",
       "\n",
       "   WEIGHTED-RECALL  WEIGHTED-F1                    DATA_TABLE  \n",
       "0         0.851351     0.850751  ml__bmi_pca_1723379823021962  \n",
       "1         0.396825     0.394798  ml__bmi_rfe_1723385483489996  "
      ]
     },
     "execution_count": 21,
     "metadata": {},
     "output_type": "execute_result"
    }
   ],
   "source": [
    "models_2"
   ]
  },
  {
   "cell_type": "markdown",
   "id": "1e3ce0d9-3389-4b5d-b7d9-548e65c8faad",
   "metadata": {},
   "source": [
    "### <b><span style='color:#F1A424'>| 2.2.</span> Generating Prediction & Performance Metrics</b>"
   ]
  },
  {
   "cell_type": "code",
   "execution_count": 22,
   "id": "bfecf520-7ff7-4534-9356-306797fc5e3a",
   "metadata": {},
   "outputs": [
    {
     "name": "stdout",
     "output_type": "stream",
     "text": [
      "Generating prediction using:\n",
      "Model Name: XGBOOST\n",
      "Feature Selection: rfe\n",
      "Completed: ｜⫿⫿⫿⫿⫿⫿⫿⫿⫿⫿⫿⫿⫿⫿⫿⫿⫿⫿⫿⫿⫿⫿⫿⫿⫿⫿⫿⫿⫿⫿⫿⫿⫿⫿⫿⫿⫿⫿⫿⫿⫿⫿⫿⫿⫿⫿⫿⫿⫿⫿⫿⫿⫿⫿⫿⫿⫿⫿⫿⫿｜ 100% - 10/10           \r"
     ]
    }
   ],
   "source": [
    "# Generate prediction using data and model rank\n",
    "\n",
    "prediction = aml.predict(df.iloc[:80], rank=2)"
   ]
  },
  {
   "cell_type": "code",
   "execution_count": 23,
   "id": "06c842b2-703e-423c-9baa-f78a7961bd50",
   "metadata": {},
   "outputs": [
    {
     "data": {
      "text/html": [
       "<style type=\"text/css\">\n",
       "\ttable {border:ridge 5px;}\n",
       "\ttable td {border:inset 1px;}\n",
       "\ttable tr#HeaderRow {background-color:grey; color:white;}</style>\n",
       "<html><table>\n",
       "\t<tr id=\"HeaderRow\">\n",
       "\t\t<th>id</th>\n",
       "\t\t<th>Prediction</th>\n",
       "\t\t<th>Prob_2</th>\n",
       "\t\t<th>Prob_4</th>\n",
       "\t\t<th>Prob_3</th>\n",
       "\t\t<th>Prob_5</th>\n",
       "\t\t<th>bmi</th>\n",
       "\t</tr>\n",
       "\t<tr>\n",
       "\t\t<td>416</td>\n",
       "\t\t<td>4</td>\n",
       "\t\t<td>0.2243578675660911</td>\n",
       "\t\t<td>0.3768719219215852</td>\n",
       "\t\t<td>0.18395559557279045</td>\n",
       "\t\t<td>0.21481461493953327</td>\n",
       "\t\t<td>5</td>\n",
       "\t</tr>\n",
       "\t<tr>\n",
       "\t\t<td>456</td>\n",
       "\t\t<td>2</td>\n",
       "\t\t<td>0.3343996727955216</td>\n",
       "\t\t<td>0.17997355127410525</td>\n",
       "\t\t<td>0.1989564392910261</td>\n",
       "\t\t<td>0.28667033663934705</td>\n",
       "\t\t<td>5</td>\n",
       "\t</tr>\n",
       "\t<tr>\n",
       "\t\t<td>64</td>\n",
       "\t\t<td>5</td>\n",
       "\t\t<td>0.11845680188404846</td>\n",
       "\t\t<td>0.173541255164818</td>\n",
       "\t\t<td>0.1548358236098994</td>\n",
       "\t\t<td>0.5531661193412342</td>\n",
       "\t\t<td>5</td>\n",
       "\t</tr>\n",
       "\t<tr>\n",
       "\t\t<td>568</td>\n",
       "\t\t<td>5</td>\n",
       "\t\t<td>0.15053898207290772</td>\n",
       "\t\t<td>0.2089069772058458</td>\n",
       "\t\t<td>0.3077971825165772</td>\n",
       "\t\t<td>0.33275685820466927</td>\n",
       "\t\t<td>3</td>\n",
       "\t</tr>\n",
       "\t<tr>\n",
       "\t\t<td>296</td>\n",
       "\t\t<td>4</td>\n",
       "\t\t<td>0.27628758772362055</td>\n",
       "\t\t<td>0.3114566950116919</td>\n",
       "\t\t<td>0.2265338332033145</td>\n",
       "\t\t<td>0.1857218840613731</td>\n",
       "\t\t<td>4</td>\n",
       "\t</tr>\n",
       "\t<tr>\n",
       "\t\t<td>184</td>\n",
       "\t\t<td>5</td>\n",
       "\t\t<td>0.16307196531265128</td>\n",
       "\t\t<td>0.22629933371001237</td>\n",
       "\t\t<td>0.2501684793689671</td>\n",
       "\t\t<td>0.36046022160836927</td>\n",
       "\t\t<td>2</td>\n",
       "\t</tr>\n",
       "\t<tr>\n",
       "\t\t<td>480</td>\n",
       "\t\t<td>3</td>\n",
       "\t\t<td>0.2120762988967763</td>\n",
       "\t\t<td>0.2559602375587901</td>\n",
       "\t\t<td>0.36695972848307673</td>\n",
       "\t\t<td>0.1650037350613569</td>\n",
       "\t\t<td>4</td>\n",
       "\t</tr>\n",
       "\t<tr>\n",
       "\t\t<td>512</td>\n",
       "\t\t<td>4</td>\n",
       "\t\t<td>0.27628758772362055</td>\n",
       "\t\t<td>0.3114566950116919</td>\n",
       "\t\t<td>0.2265338332033145</td>\n",
       "\t\t<td>0.1857218840613731</td>\n",
       "\t\t<td>4</td>\n",
       "\t</tr>\n",
       "\t<tr>\n",
       "\t\t<td>240</td>\n",
       "\t\t<td>5</td>\n",
       "\t\t<td>0.16307196531265128</td>\n",
       "\t\t<td>0.22629933371001237</td>\n",
       "\t\t<td>0.2501684793689671</td>\n",
       "\t\t<td>0.36046022160836927</td>\n",
       "\t\t<td>5</td>\n",
       "\t</tr>\n",
       "\t<tr>\n",
       "\t\t<td>32</td>\n",
       "\t\t<td>5</td>\n",
       "\t\t<td>0.26152706490692534</td>\n",
       "\t\t<td>0.2420929581139058</td>\n",
       "\t\t<td>0.21443137923026157</td>\n",
       "\t\t<td>0.28194859774890724</td>\n",
       "\t\t<td>5</td>\n",
       "\t</tr>\n",
       "</table></html>"
      ],
      "text/plain": [
       "    id  Prediction    Prob_2    Prob_4    Prob_3    Prob_5  bmi\n",
       "0  416           4  0.224358  0.376872  0.183956  0.214815    5\n",
       "1  456           2  0.334400  0.179974  0.198956  0.286670    5\n",
       "2   64           5  0.118457  0.173541  0.154836  0.553166    5\n",
       "3  568           5  0.150539  0.208907  0.307797  0.332757    3\n",
       "4  296           4  0.276288  0.311457  0.226534  0.185722    4\n",
       "5  184           5  0.163072  0.226299  0.250168  0.360460    2\n",
       "6  480           3  0.212076  0.255960  0.366960  0.165004    4\n",
       "7  512           4  0.276288  0.311457  0.226534  0.185722    4\n",
       "8  240           5  0.163072  0.226299  0.250168  0.360460    5\n",
       "9   32           5  0.261527  0.242093  0.214431  0.281949    5"
      ]
     },
     "execution_count": 23,
     "metadata": {},
     "output_type": "execute_result"
    }
   ],
   "source": [
    "prediction"
   ]
  },
  {
   "cell_type": "code",
   "execution_count": 24,
   "id": "9cdf111d-4384-4c64-911c-0a8a5a2a632d",
   "metadata": {},
   "outputs": [
    {
     "name": "stdout",
     "output_type": "stream",
     "text": [
      "Generating performance metrics using:\n",
      "Model Name: XGBOOST\n",
      "Feature Selection: rfe\n",
      "Completed: ｜⫿⫿⫿⫿⫿⫿⫿⫿⫿⫿⫿⫿⫿⫿⫿⫿⫿⫿⫿⫿⫿⫿⫿⫿⫿⫿⫿⫿⫿⫿⫿⫿⫿⫿⫿⫿⫿⫿⫿⫿⫿⫿⫿⫿⫿⫿⫿⫿⫿⫿⫿⫿⫿⫿⫿⫿⫿⫿⫿⫿｜ 100% - 10/10           \r"
     ]
    }
   ],
   "source": [
    "# Generate performance metrics\n",
    "\n",
    "performance_metric = aml.evaluate(df.iloc[:80], rank=2)"
   ]
  },
  {
   "cell_type": "code",
   "execution_count": 25,
   "id": "e02a0caa-02b7-4687-88a3-a22ae39e0915",
   "metadata": {},
   "outputs": [
    {
     "data": {
      "text/plain": [
       "\n",
       "############ output_data Output ############\n",
       "\n",
       "   SeqNum              Metric  MetricValue\n",
       "0       3        Micro-Recall     0.437500\n",
       "1       5     Macro-Precision     0.301410\n",
       "2       6        Macro-Recall     0.312886\n",
       "3       7            Macro-F1     0.297066\n",
       "4       9     Weighted-Recall     0.437500\n",
       "5      10         Weighted-F1     0.427887\n",
       "6       8  Weighted-Precision     0.445418\n",
       "7       4            Micro-F1     0.437500\n",
       "8       2     Micro-Precision     0.437500\n",
       "9       1            Accuracy     0.437500\n",
       "\n",
       "\n",
       "############ result Output ############\n",
       "\n",
       "       Prediction  Mapping  CLASS_1  CLASS_2  CLASS_3  CLASS_4  CLASS_5  CLASS_6  Precision    Recall        F1  Support\n",
       "SeqNum                                                                                                                  \n",
       "5               5  CLASS_6        0        0        2        3        7       13   0.520000  0.481481  0.500000       27\n",
       "2               2  CLASS_3        2        0        9        3        3       11   0.321429  0.562500  0.409091       16\n",
       "0               0  CLASS_1        0        0        0        0        0        0   0.000000  0.000000  0.000000        3\n",
       "1               1  CLASS_2        0        0        0        0        0        0   0.000000  0.000000  0.000000        1\n",
       "3               3  CLASS_4        1        1        1        6        4        1   0.428571  0.500000  0.461538       12\n",
       "4               4  CLASS_5        0        0        4        0        7        2   0.538462  0.333333  0.411765       21\n"
      ]
     },
     "execution_count": 25,
     "metadata": {},
     "output_type": "execute_result"
    }
   ],
   "source": [
    "performance_metric"
   ]
  },
  {
   "cell_type": "code",
   "execution_count": null,
   "id": "c0c38e18-83fe-40f4-a9ea-070dd8850d9e",
   "metadata": {},
   "outputs": [],
   "source": []
  },
  {
   "cell_type": "markdown",
   "id": "0aab10eb-19e0-41fd-ad33-06c266ff8832",
   "metadata": {
    "tags": []
   },
   "source": [
    "## <b><span style='color:#F1A424'>| 3.</span> Loading Deployed Models - 'BMI_range_models' </b>"
   ]
  },
  {
   "cell_type": "markdown",
   "id": "0d0264a9-4a4c-4ad5-8d21-1474cc1393cc",
   "metadata": {},
   "source": [
    "### <b><span style='color:#F1A424'>| 3.1.</span> Loading Model</b>"
   ]
  },
  {
   "cell_type": "code",
   "execution_count": 26,
   "id": "ddccb9c1-8ed5-4bf3-b187-f36f5f143406",
   "metadata": {},
   "outputs": [],
   "source": [
    "# Creating another AutoML object\n",
    "\n",
    "obj=AutoML()"
   ]
  },
  {
   "cell_type": "code",
   "execution_count": 27,
   "id": "f93bd37c-de8a-41b1-821b-aa87a3ad9ac5",
   "metadata": {},
   "outputs": [],
   "source": [
    "# Loading models\n",
    "\n",
    "models_3 = obj.load('BMI_range_models')"
   ]
  },
  {
   "cell_type": "code",
   "execution_count": 28,
   "id": "4222f023-71a9-4b59-a3af-7154cb2e0ccf",
   "metadata": {},
   "outputs": [
    {
     "data": {
      "text/html": [
       "<div>\n",
       "<style scoped>\n",
       "    .dataframe tbody tr th:only-of-type {\n",
       "        vertical-align: middle;\n",
       "    }\n",
       "\n",
       "    .dataframe tbody tr th {\n",
       "        vertical-align: top;\n",
       "    }\n",
       "\n",
       "    .dataframe thead th {\n",
       "        text-align: right;\n",
       "    }\n",
       "</style>\n",
       "<table border=\"1\" class=\"dataframe\">\n",
       "  <thead>\n",
       "    <tr style=\"text-align: right;\">\n",
       "      <th></th>\n",
       "      <th>RANK</th>\n",
       "      <th>MODEL_ID</th>\n",
       "      <th>FEATURE_SELECTION</th>\n",
       "      <th>ACCURACY</th>\n",
       "      <th>MICRO-PRECISION</th>\n",
       "      <th>MICRO-RECALL</th>\n",
       "      <th>MICRO-F1</th>\n",
       "      <th>MACRO-PRECISION</th>\n",
       "      <th>MACRO-RECALL</th>\n",
       "      <th>MACRO-F1</th>\n",
       "      <th>WEIGHTED-PRECISION</th>\n",
       "      <th>WEIGHTED-RECALL</th>\n",
       "      <th>WEIGHTED-F1</th>\n",
       "      <th>DATA_TABLE</th>\n",
       "    </tr>\n",
       "  </thead>\n",
       "  <tbody>\n",
       "    <tr>\n",
       "      <th>0</th>\n",
       "      <td>1</td>\n",
       "      <td>XGBOOST_4</td>\n",
       "      <td>pca</td>\n",
       "      <td>0.432432</td>\n",
       "      <td>0.432432</td>\n",
       "      <td>0.432432</td>\n",
       "      <td>0.432432</td>\n",
       "      <td>0.214548</td>\n",
       "      <td>0.278646</td>\n",
       "      <td>0.234151</td>\n",
       "      <td>0.309902</td>\n",
       "      <td>0.432432</td>\n",
       "      <td>0.350252</td>\n",
       "      <td>ml__bmi_pca_1723380955260316</td>\n",
       "    </tr>\n",
       "    <tr>\n",
       "      <th>1</th>\n",
       "      <td>2</td>\n",
       "      <td>XGBOOST_2</td>\n",
       "      <td>rfe</td>\n",
       "      <td>0.396825</td>\n",
       "      <td>0.396825</td>\n",
       "      <td>0.396825</td>\n",
       "      <td>0.396825</td>\n",
       "      <td>0.398428</td>\n",
       "      <td>0.397396</td>\n",
       "      <td>0.394433</td>\n",
       "      <td>0.399594</td>\n",
       "      <td>0.396825</td>\n",
       "      <td>0.394798</td>\n",
       "      <td>ml__bmi_rfe_1723380015568744</td>\n",
       "    </tr>\n",
       "    <tr>\n",
       "      <th>2</th>\n",
       "      <td>3</td>\n",
       "      <td>XGBOOST_3</td>\n",
       "      <td>rfe</td>\n",
       "      <td>0.396825</td>\n",
       "      <td>0.396825</td>\n",
       "      <td>0.396825</td>\n",
       "      <td>0.396825</td>\n",
       "      <td>0.398428</td>\n",
       "      <td>0.397396</td>\n",
       "      <td>0.394433</td>\n",
       "      <td>0.399594</td>\n",
       "      <td>0.396825</td>\n",
       "      <td>0.394798</td>\n",
       "      <td>ml__bmi_rfe_1723380015568744</td>\n",
       "    </tr>\n",
       "    <tr>\n",
       "      <th>3</th>\n",
       "      <td>4</td>\n",
       "      <td>XGBOOST_0</td>\n",
       "      <td>lasso</td>\n",
       "      <td>0.285714</td>\n",
       "      <td>0.285714</td>\n",
       "      <td>0.285714</td>\n",
       "      <td>0.285714</td>\n",
       "      <td>0.145889</td>\n",
       "      <td>0.293750</td>\n",
       "      <td>0.187071</td>\n",
       "      <td>0.143826</td>\n",
       "      <td>0.285714</td>\n",
       "      <td>0.183529</td>\n",
       "      <td>ml__bmi_lasso_1723387770647383</td>\n",
       "    </tr>\n",
       "  </tbody>\n",
       "</table>\n",
       "</div>"
      ],
      "text/plain": [
       "   RANK   MODEL_ID FEATURE_SELECTION  ACCURACY  MICRO-PRECISION  MICRO-RECALL  \\\n",
       "0     1  XGBOOST_4               pca  0.432432         0.432432      0.432432   \n",
       "1     2  XGBOOST_2               rfe  0.396825         0.396825      0.396825   \n",
       "2     3  XGBOOST_3               rfe  0.396825         0.396825      0.396825   \n",
       "3     4  XGBOOST_0             lasso  0.285714         0.285714      0.285714   \n",
       "\n",
       "   MICRO-F1  MACRO-PRECISION  MACRO-RECALL  MACRO-F1  WEIGHTED-PRECISION  \\\n",
       "0  0.432432         0.214548      0.278646  0.234151            0.309902   \n",
       "1  0.396825         0.398428      0.397396  0.394433            0.399594   \n",
       "2  0.396825         0.398428      0.397396  0.394433            0.399594   \n",
       "3  0.285714         0.145889      0.293750  0.187071            0.143826   \n",
       "\n",
       "   WEIGHTED-RECALL  WEIGHTED-F1                      DATA_TABLE  \n",
       "0         0.432432     0.350252    ml__bmi_pca_1723380955260316  \n",
       "1         0.396825     0.394798    ml__bmi_rfe_1723380015568744  \n",
       "2         0.396825     0.394798    ml__bmi_rfe_1723380015568744  \n",
       "3         0.285714     0.183529  ml__bmi_lasso_1723387770647383  "
      ]
     },
     "execution_count": 28,
     "metadata": {},
     "output_type": "execute_result"
    }
   ],
   "source": [
    "models_3"
   ]
  },
  {
   "cell_type": "markdown",
   "id": "f3e94d0b-71fe-4594-a60a-042a5e1fbee5",
   "metadata": {},
   "source": [
    "### <b><span style='color:#F1A424'>| 3.2.</span> Generating Prediction & Performance Metrics</b>"
   ]
  },
  {
   "cell_type": "code",
   "execution_count": 29,
   "id": "b238fa86-6c91-47ad-b274-3e214f5a6841",
   "metadata": {},
   "outputs": [
    {
     "name": "stdout",
     "output_type": "stream",
     "text": [
      "Generating prediction using:\n",
      "Model Name: XGBOOST\n",
      "Feature Selection: pca\n",
      "Completed: ｜⫿⫿⫿⫿⫿⫿⫿⫿⫿⫿⫿⫿⫿⫿⫿⫿⫿⫿⫿⫿⫿⫿⫿⫿⫿⫿⫿⫿⫿⫿⫿⫿⫿⫿⫿⫿⫿⫿⫿⫿⫿⫿⫿⫿⫿⫿⫿⫿⫿⫿⫿⫿⫿⫿⫿⫿⫿⫿⫿⫿｜ 100% - 10/10           \r"
     ]
    }
   ],
   "source": [
    "# Generate prediction using data and model rank\n",
    "\n",
    "prediction = obj.predict(df.iloc[:80], rank=1)"
   ]
  },
  {
   "cell_type": "code",
   "execution_count": 30,
   "id": "21b7b20f-6768-485e-9007-38f9bd309d47",
   "metadata": {},
   "outputs": [
    {
     "data": {
      "text/html": [
       "<style type=\"text/css\">\n",
       "\ttable {border:ridge 5px;}\n",
       "\ttable td {border:inset 1px;}\n",
       "\ttable tr#HeaderRow {background-color:grey; color:white;}</style>\n",
       "<html><table>\n",
       "\t<tr id=\"HeaderRow\">\n",
       "\t\t<th>id</th>\n",
       "\t\t<th>Prediction</th>\n",
       "\t\t<th>Prob_2</th>\n",
       "\t\t<th>Prob_4</th>\n",
       "\t\t<th>Prob_3</th>\n",
       "\t\t<th>Prob_5</th>\n",
       "\t\t<th>bmi</th>\n",
       "\t</tr>\n",
       "\t<tr>\n",
       "\t\t<td>396</td>\n",
       "\t\t<td>4</td>\n",
       "\t\t<td>0.23713897074312063</td>\n",
       "\t\t<td>0.2854789636025671</td>\n",
       "\t\t<td>0.20494698659680727</td>\n",
       "\t\t<td>0.27243507905750497</td>\n",
       "\t\t<td>4</td>\n",
       "\t</tr>\n",
       "\t<tr>\n",
       "\t\t<td>628</td>\n",
       "\t\t<td>4</td>\n",
       "\t\t<td>0.239084859831899</td>\n",
       "\t\t<td>0.28782151572974046</td>\n",
       "\t\t<td>0.20662871821496773</td>\n",
       "\t\t<td>0.26646490622339275</td>\n",
       "\t\t<td>4</td>\n",
       "\t</tr>\n",
       "\t<tr>\n",
       "\t\t<td>156</td>\n",
       "\t\t<td>4</td>\n",
       "\t\t<td>0.23902132247862734</td>\n",
       "\t\t<td>0.2877450264976872</td>\n",
       "\t\t<td>0.22233733672478365</td>\n",
       "\t\t<td>0.25089631429890186</td>\n",
       "\t\t<td>4</td>\n",
       "\t</tr>\n",
       "\t<tr>\n",
       "\t\t<td>588</td>\n",
       "\t\t<td>4</td>\n",
       "\t\t<td>0.23713897074312063</td>\n",
       "\t\t<td>0.2854789636025671</td>\n",
       "\t\t<td>0.20494698659680727</td>\n",
       "\t\t<td>0.27243507905750497</td>\n",
       "\t\t<td>2</td>\n",
       "\t</tr>\n",
       "\t<tr>\n",
       "\t\t<td>644</td>\n",
       "\t\t<td>5</td>\n",
       "\t\t<td>0.20615678194801534</td>\n",
       "\t\t<td>0.24818115835508311</td>\n",
       "\t\t<td>0.18470573863122505</td>\n",
       "\t\t<td>0.3609563210656765</td>\n",
       "\t\t<td>2</td>\n",
       "\t</tr>\n",
       "\t<tr>\n",
       "\t\t<td>204</td>\n",
       "\t\t<td>5</td>\n",
       "\t\t<td>0.20615678194801534</td>\n",
       "\t\t<td>0.24818115835508311</td>\n",
       "\t\t<td>0.18470573863122505</td>\n",
       "\t\t<td>0.3609563210656765</td>\n",
       "\t\t<td>5</td>\n",
       "\t</tr>\n",
       "\t<tr>\n",
       "\t\t<td>444</td>\n",
       "\t\t<td>5</td>\n",
       "\t\t<td>0.20615678194801534</td>\n",
       "\t\t<td>0.24818115835508311</td>\n",
       "\t\t<td>0.18470573863122505</td>\n",
       "\t\t<td>0.3609563210656765</td>\n",
       "\t\t<td>5</td>\n",
       "\t</tr>\n",
       "\t<tr>\n",
       "\t\t<td>268</td>\n",
       "\t\t<td>4</td>\n",
       "\t\t<td>0.23902132247862734</td>\n",
       "\t\t<td>0.2877450264976872</td>\n",
       "\t\t<td>0.22233733672478365</td>\n",
       "\t\t<td>0.25089631429890186</td>\n",
       "\t\t<td>4</td>\n",
       "\t</tr>\n",
       "\t<tr>\n",
       "\t\t<td>20</td>\n",
       "\t\t<td>4</td>\n",
       "\t\t<td>0.1950080929850465</td>\n",
       "\t\t<td>0.3067702389893672</td>\n",
       "\t\t<td>0.25454918031000295</td>\n",
       "\t\t<td>0.24367248771558325</td>\n",
       "\t\t<td>3</td>\n",
       "\t</tr>\n",
       "\t<tr>\n",
       "\t\t<td>276</td>\n",
       "\t\t<td>4</td>\n",
       "\t\t<td>0.239084859831899</td>\n",
       "\t\t<td>0.28782151572974046</td>\n",
       "\t\t<td>0.20662871821496773</td>\n",
       "\t\t<td>0.26646490622339275</td>\n",
       "\t\t<td>5</td>\n",
       "\t</tr>\n",
       "</table></html>"
      ],
      "text/plain": [
       "    id  Prediction    Prob_2    Prob_4    Prob_3    Prob_5  bmi\n",
       "0  396           4  0.237139  0.285479  0.204947  0.272435    4\n",
       "1  628           4  0.239085  0.287822  0.206629  0.266465    4\n",
       "2  156           4  0.239021  0.287745  0.222337  0.250896    4\n",
       "3  588           4  0.237139  0.285479  0.204947  0.272435    2\n",
       "4  644           5  0.206157  0.248181  0.184706  0.360956    2\n",
       "5  204           5  0.206157  0.248181  0.184706  0.360956    5\n",
       "6  444           5  0.206157  0.248181  0.184706  0.360956    5\n",
       "7  268           4  0.239021  0.287745  0.222337  0.250896    4\n",
       "8   20           4  0.195008  0.306770  0.254549  0.243672    3\n",
       "9  276           4  0.239085  0.287822  0.206629  0.266465    5"
      ]
     },
     "execution_count": 30,
     "metadata": {},
     "output_type": "execute_result"
    }
   ],
   "source": [
    "prediction"
   ]
  },
  {
   "cell_type": "code",
   "execution_count": 31,
   "id": "5ccde57c-4546-435e-ade4-193ece793133",
   "metadata": {},
   "outputs": [
    {
     "name": "stdout",
     "output_type": "stream",
     "text": [
      "Generating performance metrics using:\n",
      "Model Name: XGBOOST\n",
      "Feature Selection: pca\n",
      "Completed: ｜⫿⫿⫿⫿⫿⫿⫿⫿⫿⫿⫿⫿⫿⫿⫿⫿⫿⫿⫿⫿⫿⫿⫿⫿⫿⫿⫿⫿⫿⫿⫿⫿⫿⫿⫿⫿⫿⫿⫿⫿⫿⫿⫿⫿⫿⫿⫿⫿⫿⫿⫿⫿⫿⫿⫿⫿⫿⫿⫿⫿｜ 100% - 10/10           \r"
     ]
    }
   ],
   "source": [
    "# Generate performance metrics\n",
    "\n",
    "performance_metric = obj.evaluate(df.iloc[:80], rank=1)"
   ]
  },
  {
   "cell_type": "code",
   "execution_count": 32,
   "id": "2fcc91d8-4fe8-4650-9514-830770a97cb8",
   "metadata": {},
   "outputs": [
    {
     "data": {
      "text/plain": [
       "\n",
       "############ output_data Output ############\n",
       "\n",
       "   SeqNum              Metric  MetricValue\n",
       "0       3        Micro-Recall     0.512500\n",
       "1       5     Macro-Precision     0.175366\n",
       "2       6        Macro-Recall     0.247575\n",
       "3       7            Macro-F1     0.201136\n",
       "4       9     Weighted-Recall     0.512500\n",
       "5      10         Weighted-F1     0.415114\n",
       "6       8  Weighted-Precision     0.361126\n",
       "7       4            Micro-F1     0.512500\n",
       "8       2     Micro-Precision     0.512500\n",
       "9       1            Accuracy     0.512500\n",
       "\n",
       "\n",
       "############ result Output ############\n",
       "\n",
       "       Prediction  Mapping  CLASS_1  CLASS_2  CLASS_3  CLASS_4  CLASS_5  CLASS_6  Precision    Recall        F1  Support\n",
       "SeqNum                                                                                                                  \n",
       "2               2  CLASS_3        0        0        0        0        0        0   0.000000  0.000000  0.000000       10\n",
       "4               4  CLASS_5        2        1        4        2       16        3   0.571429  0.592593  0.581818       27\n",
       "0               0  CLASS_1        0        0        0        0        0        0   0.000000  0.000000  0.000000        4\n",
       "3               3  CLASS_4        0        0        0        0        0        0   0.000000  0.000000  0.000000       10\n",
       "1               1  CLASS_2        0        0        0        0        0        0   0.000000  0.000000  0.000000        1\n",
       "5               5  CLASS_6        2        0        6        8       11       25   0.480769  0.892857  0.625000       28\n"
      ]
     },
     "execution_count": 32,
     "metadata": {},
     "output_type": "execute_result"
    }
   ],
   "source": [
    "performance_metric"
   ]
  },
  {
   "cell_type": "code",
   "execution_count": 33,
   "id": "46151b99-43a8-4504-8e6c-4496ea98c4f6",
   "metadata": {},
   "outputs": [
    {
     "data": {
      "text/plain": [
       "True"
      ]
     },
     "execution_count": 33,
     "metadata": {},
     "output_type": "execute_result"
    }
   ],
   "source": [
    "remove_context()"
   ]
  },
  {
   "cell_type": "code",
   "execution_count": null,
   "id": "9ba93bb2-b8fe-421e-8e7b-4c8edcc5160c",
   "metadata": {},
   "outputs": [],
   "source": []
  }
 ],
 "metadata": {
  "kernelspec": {
   "display_name": "Python 3 (ipykernel)",
   "language": "python",
   "name": "python3"
  },
  "language_info": {
   "codemirror_mode": {
    "name": "ipython",
    "version": 3
   },
   "file_extension": ".py",
   "mimetype": "text/x-python",
   "name": "python",
   "nbconvert_exporter": "python",
   "pygments_lexer": "ipython3",
   "version": "3.10.9"
  }
 },
 "nbformat": 4,
 "nbformat_minor": 5
}
