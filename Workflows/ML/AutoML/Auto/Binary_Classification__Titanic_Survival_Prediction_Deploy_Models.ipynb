{
 "cells": [
  {
   "cell_type": "markdown",
   "id": "87bfc574-b0ad-4d8e-905c-9a5a63d72d96",
   "metadata": {},
   "source": [
    "# <b><span style='color:#F1A424'>AutoML - Binary Classification - Titanic Survival Prediction</span> </b> "
   ]
  },
  {
   "cell_type": "markdown",
   "id": "e1c0e4d2-2c1d-4f74-9583-70e3d87a4111",
   "metadata": {},
   "source": [
    "### Disclaimer\n",
    "Please note, the Vantage Functions via SQLAlchemy feature is a preview/beta code release with limited functionality (the “Code”). As such, you acknowledge that the Code is experimental in nature and that the Code is provided “AS IS” and may not be functional on any machine or in any environment. TERADATA DISCLAIMS ALL WARRANTIES RELATING TO THE CODE, EXPRESS OR IMPLIED, INCLUDING, BUT NOT LIMITED TO, ANY WARRANTIES AGAINST INFRINGEMENT OF THIRD-PARTY RIGHTS, MERCHANTABILITY AND FITNESS FOR A PARTICULAR PURPOSE.\n",
    "\n",
    "TERADATA SHALL NOT BE RESPONSIBLE OR LIABLE WITH RESPECT TO ANY SUBJECT MATTER OF THE CODE UNDER ANY CONTRACT, NEGLIGENCE, STRICT LIABILITY OR OTHER THEORY \n",
    "    (A) FOR LOSS OR INACCURACY OF DATA OR COST OF PROCUREMENT OF SUBSTITUTE GOODS, SERVICES OR TECHNOLOGY, OR \n",
    "    (B) FOR ANY INDIRECT, INCIDENTAL OR CONSEQUENTIAL DAMAGES INCLUDING, BUT NOT LIMITED TO LOSS OF REVENUES AND LOSS OF PROFITS. TERADATA SHALL NOT BE RESPONSIBLE FOR ANY MATTER BEYOND ITS REASONABLE CONTROL.\n",
    "\n",
    "Notwithstanding anything to the contrary: \n",
    "    (a) Teradata will have no obligation of any kind with respect to any Code-related comments, suggestions, design changes or improvements that you elect to provide to Teradata in either verbal or written form (collectively, “Feedback”), and \n",
    "    (b) Teradata and its affiliates are hereby free to use any ideas, concepts, know-how or techniques, in whole or in part, contained in Feedback: \n",
    "        (i) for any purpose whatsoever, including developing, manufacturing, and/or marketing products and/or services incorporating Feedback in whole or in part, and \n",
    "        (ii) without any restrictions or limitations, including requiring the payment of any license fees, royalties, or other consideration. "
   ]
  },
  {
   "cell_type": "markdown",
   "id": "3527f0b2-4503-495f-bc5d-94e9820d4244",
   "metadata": {},
   "source": [
    "## <b> Problem overview - Binary Classification </b>\n",
    "    "
   ]
  },
  {
   "cell_type": "markdown",
   "id": "57a02e0c-df6d-41a4-8bea-055a708e3d7d",
   "metadata": {
    "tags": []
   },
   "source": [
    "\n",
    "The Titanic dataset is a well-known dataset in the field of machine learning and data science. It contains information about passengers aboard the RMS Titanic, including whether they survived or not. The dataset is often used for predictive modeling and classification tasks. Here are some key details about the Titanic dataset:\n",
    "\n",
    "**Features**:\n",
    "\n",
    "- `PassengerId`: Unique identifier for each passenger.\n",
    "- `Pclass`: Ticket class (1st, 2nd, or 3rd).\n",
    "- `Name`: Passenger's name.\n",
    "- `Sex`: Passenger's gender (male or female).\n",
    "- `Age`: Passenger's age.\n",
    "- `SibSp`: Number of siblings or spouses aboard.\n",
    "- `Parch`: Number of parents or children aboard.\n",
    "- `Ticket`: Ticket number.\n",
    "- `Fare`: Fare paid for the ticket.\n",
    "- `Cabin`: Cabin number.\n",
    "- `Embarked`: Port of embarkation (C = Cherbourg, Q = Queenstown, S = Southampton).\n",
    "\n",
    "**Target Variable**:\n",
    "\n",
    "- `Survived`: Binary variable indicating whether the passenger survived (1) or not (0).\n",
    "        \n",
    "**Objective**:\n",
    "\n",
    "The main objective is typically to build a predictive model that can accurately predict whether a passenger survived based on the available features.\n",
    "\n",
    "**Challenges**:\n",
    "\n",
    "- Missing data in the columns such as `Age`, `Cabin`, and `Embarked`.\n",
    "- Exploring feature engineering techniques to improve model performance.(`Feature exploration and engineering`)\n",
    "- Understanding passenger demographics and characteristics that influenced survival.(`Model training`)\n",
    "\n",
    "**Usecase**:\n",
    "\n",
    "- Here, we will use AutoML(Automated Machine Learning) functionality to automate the entire process of developing a predictive model. \n",
    "- It will perform `feature exploration`, `feature engineering`, `data preparation`, `model training` and `model evaluation` on dataset in auto run and at end we will get `leaderboard` containined different models along with their performance. \n",
    "- Model will also have `rank` associated with them which indicates which is `best performing model` for given data followed by other models."
   ]
  },
  {
   "cell_type": "code",
   "execution_count": 1,
   "id": "de8e6a87",
   "metadata": {},
   "outputs": [],
   "source": [
    "# Importing AutoML from teradataml\n",
    "from teradataml import AutoML, AutoClassifier, AutoRegressor"
   ]
  },
  {
   "cell_type": "code",
   "execution_count": 2,
   "id": "b58949b5-3128-42de-a4e0-b61462d07d65",
   "metadata": {},
   "outputs": [],
   "source": [
    "# Importing other important libraries\n",
    "import getpass\n",
    "from teradataml import create_context, remove_context\n",
    "from teradataml import DataFrame\n",
    "from teradataml import load_example_data\n",
    "from teradataml import TrainTestSplit"
   ]
  },
  {
   "cell_type": "code",
   "execution_count": 3,
   "id": "ec336991-7b4e-4cd5-b599-1c6d399058f1",
   "metadata": {},
   "outputs": [
    {
     "name": "stdin",
     "output_type": "stream",
     "text": [
      "Host:  ········\n",
      "Username:  ········\n",
      "Password:  ········\n"
     ]
    }
   ],
   "source": [
    "# Create the connection.\n",
    "host = getpass.getpass(\"Host: \")\n",
    "username = getpass.getpass(\"Username: \")\n",
    "password = getpass.getpass(\"Password: \")\n",
    "\n",
    "con = create_context(host=host, username=username, password=password)"
   ]
  },
  {
   "cell_type": "markdown",
   "id": "f5134f20-9ac3-46d8-98ae-a11b7719a3e9",
   "metadata": {},
   "source": [
    "## <b><span style='color:#F1A424'>| 1.</span> Loading Dataset </b>"
   ]
  },
  {
   "cell_type": "code",
   "execution_count": 4,
   "id": "8c6744b0-5987-4e48-bfca-f0c21a104636",
   "metadata": {},
   "outputs": [
    {
     "name": "stdout",
     "output_type": "stream",
     "text": [
      "WARNING: Skipped loading table titanic since it already exists in the database.\n"
     ]
    }
   ],
   "source": [
    "# Loading titanic dataset from example data collection\n",
    "load_example_data(\"teradataml\", \"titanic\")"
   ]
  },
  {
   "cell_type": "code",
   "execution_count": 5,
   "id": "224330fe-9ea1-40d2-9d3c-5adfbef33a33",
   "metadata": {},
   "outputs": [],
   "source": [
    "# Fetching in teradata dataframe\n",
    "titanic = DataFrame.from_table(\"titanic\")"
   ]
  },
  {
   "cell_type": "code",
   "execution_count": 6,
   "id": "a728d1e2-4be9-44b0-a7e1-cda1bbd5ec58",
   "metadata": {},
   "outputs": [
    {
     "data": {
      "text/html": [
       "<style type=\"text/css\">\n",
       "\ttable {border:ridge 5px;}\n",
       "\ttable td {border:inset 1px;}\n",
       "\ttable tr#HeaderRow {background-color:grey; color:white;}</style>\n",
       "<html><table>\n",
       "\t<tr id=\"HeaderRow\">\n",
       "\t\t<th>passenger</th>\n",
       "\t\t<th>survived</th>\n",
       "\t\t<th>pclass</th>\n",
       "\t\t<th>name</th>\n",
       "\t\t<th>sex</th>\n",
       "\t\t<th>age</th>\n",
       "\t\t<th>sibsp</th>\n",
       "\t\t<th>parch</th>\n",
       "\t\t<th>ticket</th>\n",
       "\t\t<th>fare</th>\n",
       "\t\t<th>cabin</th>\n",
       "\t\t<th>embarked</th>\n",
       "\t</tr>\n",
       "\t<tr>\n",
       "\t\t<td>3</td>\n",
       "\t\t<td>1</td>\n",
       "\t\t<td>3</td>\n",
       "\t\t<td>Heikkinen, Miss. Laina</td>\n",
       "\t\t<td>female</td>\n",
       "\t\t<td>26</td>\n",
       "\t\t<td>0</td>\n",
       "\t\t<td>0</td>\n",
       "\t\t<td>STON/O2. 3101282</td>\n",
       "\t\t<td>7.925</td>\n",
       "\t\t<td>None</td>\n",
       "\t\t<td>S</td>\n",
       "\t</tr>\n",
       "\t<tr>\n",
       "\t\t<td>5</td>\n",
       "\t\t<td>0</td>\n",
       "\t\t<td>3</td>\n",
       "\t\t<td>Allen, Mr. William Henry</td>\n",
       "\t\t<td>male</td>\n",
       "\t\t<td>35</td>\n",
       "\t\t<td>0</td>\n",
       "\t\t<td>0</td>\n",
       "\t\t<td>373450</td>\n",
       "\t\t<td>8.05</td>\n",
       "\t\t<td>None</td>\n",
       "\t\t<td>S</td>\n",
       "\t</tr>\n",
       "\t<tr>\n",
       "\t\t<td>6</td>\n",
       "\t\t<td>0</td>\n",
       "\t\t<td>3</td>\n",
       "\t\t<td>Moran, Mr. James</td>\n",
       "\t\t<td>male</td>\n",
       "\t\t<td>None</td>\n",
       "\t\t<td>0</td>\n",
       "\t\t<td>0</td>\n",
       "\t\t<td>330877</td>\n",
       "\t\t<td>8.4583</td>\n",
       "\t\t<td>None</td>\n",
       "\t\t<td>Q</td>\n",
       "\t</tr>\n",
       "\t<tr>\n",
       "\t\t<td>7</td>\n",
       "\t\t<td>0</td>\n",
       "\t\t<td>1</td>\n",
       "\t\t<td>McCarthy, Mr. Timothy J</td>\n",
       "\t\t<td>male</td>\n",
       "\t\t<td>54</td>\n",
       "\t\t<td>0</td>\n",
       "\t\t<td>0</td>\n",
       "\t\t<td>17463</td>\n",
       "\t\t<td>51.8625</td>\n",
       "\t\t<td>E46</td>\n",
       "\t\t<td>S</td>\n",
       "\t</tr>\n",
       "\t<tr>\n",
       "\t\t<td>9</td>\n",
       "\t\t<td>1</td>\n",
       "\t\t<td>3</td>\n",
       "\t\t<td>Johnson, Mrs. Oscar W (Elisabeth Vilhelmina Berg)</td>\n",
       "\t\t<td>female</td>\n",
       "\t\t<td>27</td>\n",
       "\t\t<td>0</td>\n",
       "\t\t<td>2</td>\n",
       "\t\t<td>347742</td>\n",
       "\t\t<td>11.1333</td>\n",
       "\t\t<td>None</td>\n",
       "\t\t<td>S</td>\n",
       "\t</tr>\n",
       "\t<tr>\n",
       "\t\t<td>10</td>\n",
       "\t\t<td>1</td>\n",
       "\t\t<td>2</td>\n",
       "\t\t<td>Nasser, Mrs. Nicholas (Adele Achem)</td>\n",
       "\t\t<td>female</td>\n",
       "\t\t<td>14</td>\n",
       "\t\t<td>1</td>\n",
       "\t\t<td>0</td>\n",
       "\t\t<td>237736</td>\n",
       "\t\t<td>30.0708</td>\n",
       "\t\t<td>None</td>\n",
       "\t\t<td>C</td>\n",
       "\t</tr>\n",
       "\t<tr>\n",
       "\t\t<td>8</td>\n",
       "\t\t<td>0</td>\n",
       "\t\t<td>3</td>\n",
       "\t\t<td>Palsson, Master. Gosta Leonard</td>\n",
       "\t\t<td>male</td>\n",
       "\t\t<td>2</td>\n",
       "\t\t<td>3</td>\n",
       "\t\t<td>1</td>\n",
       "\t\t<td>349909</td>\n",
       "\t\t<td>21.075</td>\n",
       "\t\t<td>None</td>\n",
       "\t\t<td>S</td>\n",
       "\t</tr>\n",
       "\t<tr>\n",
       "\t\t<td>4</td>\n",
       "\t\t<td>1</td>\n",
       "\t\t<td>1</td>\n",
       "\t\t<td>Futrelle, Mrs. Jacques Heath (Lily May Peel)</td>\n",
       "\t\t<td>female</td>\n",
       "\t\t<td>35</td>\n",
       "\t\t<td>1</td>\n",
       "\t\t<td>0</td>\n",
       "\t\t<td>113803</td>\n",
       "\t\t<td>53.1</td>\n",
       "\t\t<td>C123</td>\n",
       "\t\t<td>S</td>\n",
       "\t</tr>\n",
       "\t<tr>\n",
       "\t\t<td>2</td>\n",
       "\t\t<td>1</td>\n",
       "\t\t<td>1</td>\n",
       "\t\t<td>Cumings, Mrs. John Bradley (Florence Briggs Thayer)</td>\n",
       "\t\t<td>female</td>\n",
       "\t\t<td>38</td>\n",
       "\t\t<td>1</td>\n",
       "\t\t<td>0</td>\n",
       "\t\t<td>PC 17599</td>\n",
       "\t\t<td>71.2833</td>\n",
       "\t\t<td>C85</td>\n",
       "\t\t<td>C</td>\n",
       "\t</tr>\n",
       "\t<tr>\n",
       "\t\t<td>1</td>\n",
       "\t\t<td>0</td>\n",
       "\t\t<td>3</td>\n",
       "\t\t<td>Braund, Mr. Owen Harris</td>\n",
       "\t\t<td>male</td>\n",
       "\t\t<td>22</td>\n",
       "\t\t<td>1</td>\n",
       "\t\t<td>0</td>\n",
       "\t\t<td>A/5 21171</td>\n",
       "\t\t<td>7.25</td>\n",
       "\t\t<td>None</td>\n",
       "\t\t<td>S</td>\n",
       "\t</tr>\n",
       "</table></html>"
      ],
      "text/plain": [
       "           survived  pclass                                                 name     sex   age  sibsp  parch            ticket     fare cabin embarked\n",
       "passenger                                                                                                                                             \n",
       "3                 1       3                               Heikkinen, Miss. Laina  female  26.0      0      0  STON/O2. 3101282   7.9250  None        S\n",
       "5                 0       3                             Allen, Mr. William Henry    male  35.0      0      0            373450   8.0500  None        S\n",
       "6                 0       3                                     Moran, Mr. James    male   NaN      0      0            330877   8.4583  None        Q\n",
       "7                 0       1                              McCarthy, Mr. Timothy J    male  54.0      0      0             17463  51.8625   E46        S\n",
       "9                 1       3    Johnson, Mrs. Oscar W (Elisabeth Vilhelmina Berg)  female  27.0      0      2            347742  11.1333  None        S\n",
       "10                1       2                  Nasser, Mrs. Nicholas (Adele Achem)  female  14.0      1      0            237736  30.0708  None        C\n",
       "8                 0       3                       Palsson, Master. Gosta Leonard    male   2.0      3      1            349909  21.0750  None        S\n",
       "4                 1       1         Futrelle, Mrs. Jacques Heath (Lily May Peel)  female  35.0      1      0            113803  53.1000  C123        S\n",
       "2                 1       1  Cumings, Mrs. John Bradley (Florence Briggs Thayer)  female  38.0      1      0          PC 17599  71.2833   C85        C\n",
       "1                 0       3                              Braund, Mr. Owen Harris    male  22.0      1      0         A/5 21171   7.2500  None        S"
      ]
     },
     "execution_count": 6,
     "metadata": {},
     "output_type": "execute_result"
    }
   ],
   "source": [
    "# titanic dataset\n",
    "titanic.head()"
   ]
  },
  {
   "cell_type": "code",
   "execution_count": 7,
   "id": "7170529f-2bcb-4650-8031-b5a39e47688f",
   "metadata": {},
   "outputs": [
    {
     "data": {
      "text/plain": [
       "(891, 12)"
      ]
     },
     "execution_count": 7,
     "metadata": {},
     "output_type": "execute_result"
    }
   ],
   "source": [
    "# titanic dataset\n",
    "titanic.shape"
   ]
  },
  {
   "cell_type": "code",
   "execution_count": 8,
   "id": "3421238e-7a29-4160-ab1b-8cbf0e2bbee6",
   "metadata": {},
   "outputs": [],
   "source": [
    "# Performing sampling to get 80% for trainning and 20% for testing\n",
    "titanic_sample = titanic.sample(frac = [0.8, 0.2])"
   ]
  },
  {
   "cell_type": "code",
   "execution_count": 9,
   "id": "4dadeaf7-2e28-4466-b3fa-d65e25be17be",
   "metadata": {},
   "outputs": [
    {
     "data": {
      "text/html": [
       "<style type=\"text/css\">\n",
       "\ttable {border:ridge 5px;}\n",
       "\ttable td {border:inset 1px;}\n",
       "\ttable tr#HeaderRow {background-color:grey; color:white;}</style>\n",
       "<html><table>\n",
       "\t<tr id=\"HeaderRow\">\n",
       "\t\t<th>passenger</th>\n",
       "\t\t<th>survived</th>\n",
       "\t\t<th>pclass</th>\n",
       "\t\t<th>name</th>\n",
       "\t\t<th>sex</th>\n",
       "\t\t<th>age</th>\n",
       "\t\t<th>sibsp</th>\n",
       "\t\t<th>parch</th>\n",
       "\t\t<th>ticket</th>\n",
       "\t\t<th>fare</th>\n",
       "\t\t<th>cabin</th>\n",
       "\t\t<th>embarked</th>\n",
       "\t\t<th>sampleid</th>\n",
       "\t</tr>\n",
       "\t<tr>\n",
       "\t\t<td>3</td>\n",
       "\t\t<td>1</td>\n",
       "\t\t<td>3</td>\n",
       "\t\t<td>Heikkinen, Miss. Laina</td>\n",
       "\t\t<td>female</td>\n",
       "\t\t<td>26</td>\n",
       "\t\t<td>0</td>\n",
       "\t\t<td>0</td>\n",
       "\t\t<td>STON/O2. 3101282</td>\n",
       "\t\t<td>7.925</td>\n",
       "\t\t<td>None</td>\n",
       "\t\t<td>S</td>\n",
       "\t\t<td>2</td>\n",
       "\t</tr>\n",
       "\t<tr>\n",
       "\t\t<td>5</td>\n",
       "\t\t<td>0</td>\n",
       "\t\t<td>3</td>\n",
       "\t\t<td>Allen, Mr. William Henry</td>\n",
       "\t\t<td>male</td>\n",
       "\t\t<td>35</td>\n",
       "\t\t<td>0</td>\n",
       "\t\t<td>0</td>\n",
       "\t\t<td>373450</td>\n",
       "\t\t<td>8.05</td>\n",
       "\t\t<td>None</td>\n",
       "\t\t<td>S</td>\n",
       "\t\t<td>1</td>\n",
       "\t</tr>\n",
       "\t<tr>\n",
       "\t\t<td>6</td>\n",
       "\t\t<td>0</td>\n",
       "\t\t<td>3</td>\n",
       "\t\t<td>Moran, Mr. James</td>\n",
       "\t\t<td>male</td>\n",
       "\t\t<td>None</td>\n",
       "\t\t<td>0</td>\n",
       "\t\t<td>0</td>\n",
       "\t\t<td>330877</td>\n",
       "\t\t<td>8.4583</td>\n",
       "\t\t<td>None</td>\n",
       "\t\t<td>Q</td>\n",
       "\t\t<td>1</td>\n",
       "\t</tr>\n",
       "\t<tr>\n",
       "\t\t<td>7</td>\n",
       "\t\t<td>0</td>\n",
       "\t\t<td>1</td>\n",
       "\t\t<td>McCarthy, Mr. Timothy J</td>\n",
       "\t\t<td>male</td>\n",
       "\t\t<td>54</td>\n",
       "\t\t<td>0</td>\n",
       "\t\t<td>0</td>\n",
       "\t\t<td>17463</td>\n",
       "\t\t<td>51.8625</td>\n",
       "\t\t<td>E46</td>\n",
       "\t\t<td>S</td>\n",
       "\t\t<td>1</td>\n",
       "\t</tr>\n",
       "\t<tr>\n",
       "\t\t<td>9</td>\n",
       "\t\t<td>1</td>\n",
       "\t\t<td>3</td>\n",
       "\t\t<td>Johnson, Mrs. Oscar W (Elisabeth Vilhelmina Berg)</td>\n",
       "\t\t<td>female</td>\n",
       "\t\t<td>27</td>\n",
       "\t\t<td>0</td>\n",
       "\t\t<td>2</td>\n",
       "\t\t<td>347742</td>\n",
       "\t\t<td>11.1333</td>\n",
       "\t\t<td>None</td>\n",
       "\t\t<td>S</td>\n",
       "\t\t<td>1</td>\n",
       "\t</tr>\n",
       "\t<tr>\n",
       "\t\t<td>10</td>\n",
       "\t\t<td>1</td>\n",
       "\t\t<td>2</td>\n",
       "\t\t<td>Nasser, Mrs. Nicholas (Adele Achem)</td>\n",
       "\t\t<td>female</td>\n",
       "\t\t<td>14</td>\n",
       "\t\t<td>1</td>\n",
       "\t\t<td>0</td>\n",
       "\t\t<td>237736</td>\n",
       "\t\t<td>30.0708</td>\n",
       "\t\t<td>None</td>\n",
       "\t\t<td>C</td>\n",
       "\t\t<td>1</td>\n",
       "\t</tr>\n",
       "\t<tr>\n",
       "\t\t<td>8</td>\n",
       "\t\t<td>0</td>\n",
       "\t\t<td>3</td>\n",
       "\t\t<td>Palsson, Master. Gosta Leonard</td>\n",
       "\t\t<td>male</td>\n",
       "\t\t<td>2</td>\n",
       "\t\t<td>3</td>\n",
       "\t\t<td>1</td>\n",
       "\t\t<td>349909</td>\n",
       "\t\t<td>21.075</td>\n",
       "\t\t<td>None</td>\n",
       "\t\t<td>S</td>\n",
       "\t\t<td>1</td>\n",
       "\t</tr>\n",
       "\t<tr>\n",
       "\t\t<td>4</td>\n",
       "\t\t<td>1</td>\n",
       "\t\t<td>1</td>\n",
       "\t\t<td>Futrelle, Mrs. Jacques Heath (Lily May Peel)</td>\n",
       "\t\t<td>female</td>\n",
       "\t\t<td>35</td>\n",
       "\t\t<td>1</td>\n",
       "\t\t<td>0</td>\n",
       "\t\t<td>113803</td>\n",
       "\t\t<td>53.1</td>\n",
       "\t\t<td>C123</td>\n",
       "\t\t<td>S</td>\n",
       "\t\t<td>1</td>\n",
       "\t</tr>\n",
       "\t<tr>\n",
       "\t\t<td>2</td>\n",
       "\t\t<td>1</td>\n",
       "\t\t<td>1</td>\n",
       "\t\t<td>Cumings, Mrs. John Bradley (Florence Briggs Thayer)</td>\n",
       "\t\t<td>female</td>\n",
       "\t\t<td>38</td>\n",
       "\t\t<td>1</td>\n",
       "\t\t<td>0</td>\n",
       "\t\t<td>PC 17599</td>\n",
       "\t\t<td>71.2833</td>\n",
       "\t\t<td>C85</td>\n",
       "\t\t<td>C</td>\n",
       "\t\t<td>1</td>\n",
       "\t</tr>\n",
       "\t<tr>\n",
       "\t\t<td>1</td>\n",
       "\t\t<td>0</td>\n",
       "\t\t<td>3</td>\n",
       "\t\t<td>Braund, Mr. Owen Harris</td>\n",
       "\t\t<td>male</td>\n",
       "\t\t<td>22</td>\n",
       "\t\t<td>1</td>\n",
       "\t\t<td>0</td>\n",
       "\t\t<td>A/5 21171</td>\n",
       "\t\t<td>7.25</td>\n",
       "\t\t<td>None</td>\n",
       "\t\t<td>S</td>\n",
       "\t\t<td>1</td>\n",
       "\t</tr>\n",
       "</table></html>"
      ],
      "text/plain": [
       "           survived  pclass                                                 name     sex   age  sibsp  parch            ticket     fare cabin embarked  sampleid\n",
       "passenger                                                                                                                                                       \n",
       "3                 1       3                               Heikkinen, Miss. Laina  female  26.0      0      0  STON/O2. 3101282   7.9250  None        S         2\n",
       "5                 0       3                             Allen, Mr. William Henry    male  35.0      0      0            373450   8.0500  None        S         1\n",
       "6                 0       3                                     Moran, Mr. James    male   NaN      0      0            330877   8.4583  None        Q         1\n",
       "7                 0       1                              McCarthy, Mr. Timothy J    male  54.0      0      0             17463  51.8625   E46        S         1\n",
       "9                 1       3    Johnson, Mrs. Oscar W (Elisabeth Vilhelmina Berg)  female  27.0      0      2            347742  11.1333  None        S         1\n",
       "10                1       2                  Nasser, Mrs. Nicholas (Adele Achem)  female  14.0      1      0            237736  30.0708  None        C         1\n",
       "8                 0       3                       Palsson, Master. Gosta Leonard    male   2.0      3      1            349909  21.0750  None        S         1\n",
       "4                 1       1         Futrelle, Mrs. Jacques Heath (Lily May Peel)  female  35.0      1      0            113803  53.1000  C123        S         1\n",
       "2                 1       1  Cumings, Mrs. John Bradley (Florence Briggs Thayer)  female  38.0      1      0          PC 17599  71.2833   C85        C         1\n",
       "1                 0       3                              Braund, Mr. Owen Harris    male  22.0      1      0         A/5 21171   7.2500  None        S         1"
      ]
     },
     "execution_count": 9,
     "metadata": {},
     "output_type": "execute_result"
    }
   ],
   "source": [
    "titanic_sample.head()"
   ]
  },
  {
   "cell_type": "code",
   "execution_count": 10,
   "id": "130524cb-ccaa-4d4d-846c-cb893cebeb04",
   "metadata": {},
   "outputs": [
    {
     "name": "stdout",
     "output_type": "stream",
     "text": [
      "       passenger  survived   pclass      age    sibsp    parch     fare  sampleid\n",
      "func                                                                             \n",
      "min        1.000     0.000    1.000    0.000    0.000    0.000    0.000       1.0\n",
      "std      257.354     0.487    0.836   14.536    1.103    0.806   49.693       0.4\n",
      "25%      223.500     0.000    2.000   20.000    0.000    0.000    7.910       1.0\n",
      "50%      446.000     0.000    3.000   28.000    0.000    0.000   14.454       1.0\n",
      "75%      668.500     1.000    3.000   38.000    1.000    0.000   31.000       1.0\n",
      "max      891.000     1.000    3.000   80.000    8.000    6.000  512.329       2.0\n",
      "mean     446.000     0.384    2.309   29.679    0.523    0.382   32.204       1.2\n",
      "count    891.000   891.000  891.000  714.000  891.000  891.000  891.000     891.0\n"
     ]
    },
    {
     "data": {
      "text/html": [
       "<style type=\"text/css\">\n",
       "\ttable {border:ridge 5px;}\n",
       "\ttable td {border:inset 1px;}\n",
       "\ttable tr#HeaderRow {background-color:grey; color:white;}</style>\n",
       "<html><table>\n",
       "\t<tr id=\"HeaderRow\">\n",
       "\t\t<th>func</th>\n",
       "\t\t<th>passenger</th>\n",
       "\t\t<th>survived</th>\n",
       "\t\t<th>pclass</th>\n",
       "\t\t<th>age</th>\n",
       "\t\t<th>sibsp</th>\n",
       "\t\t<th>parch</th>\n",
       "\t\t<th>fare</th>\n",
       "\t\t<th>sampleid</th>\n",
       "\t</tr>\n",
       "\t<tr>\n",
       "\t\t<td>min</td>\n",
       "\t\t<td>1</td>\n",
       "\t\t<td>0</td>\n",
       "\t\t<td>1</td>\n",
       "\t\t<td>0</td>\n",
       "\t\t<td>0</td>\n",
       "\t\t<td>0</td>\n",
       "\t\t<td>0</td>\n",
       "\t\t<td>1</td>\n",
       "\t</tr>\n",
       "\t<tr>\n",
       "\t\t<td>std</td>\n",
       "\t\t<td>257.354</td>\n",
       "\t\t<td>0.487</td>\n",
       "\t\t<td>0.836</td>\n",
       "\t\t<td>14.536</td>\n",
       "\t\t<td>1.103</td>\n",
       "\t\t<td>0.806</td>\n",
       "\t\t<td>49.693</td>\n",
       "\t\t<td>0.4</td>\n",
       "\t</tr>\n",
       "\t<tr>\n",
       "\t\t<td>25%</td>\n",
       "\t\t<td>223.5</td>\n",
       "\t\t<td>0</td>\n",
       "\t\t<td>2</td>\n",
       "\t\t<td>20</td>\n",
       "\t\t<td>0</td>\n",
       "\t\t<td>0</td>\n",
       "\t\t<td>7.91</td>\n",
       "\t\t<td>1</td>\n",
       "\t</tr>\n",
       "\t<tr>\n",
       "\t\t<td>50%</td>\n",
       "\t\t<td>446</td>\n",
       "\t\t<td>0</td>\n",
       "\t\t<td>3</td>\n",
       "\t\t<td>28</td>\n",
       "\t\t<td>0</td>\n",
       "\t\t<td>0</td>\n",
       "\t\t<td>14.454</td>\n",
       "\t\t<td>1</td>\n",
       "\t</tr>\n",
       "\t<tr>\n",
       "\t\t<td>75%</td>\n",
       "\t\t<td>668.5</td>\n",
       "\t\t<td>1</td>\n",
       "\t\t<td>3</td>\n",
       "\t\t<td>38</td>\n",
       "\t\t<td>1</td>\n",
       "\t\t<td>0</td>\n",
       "\t\t<td>31</td>\n",
       "\t\t<td>1</td>\n",
       "\t</tr>\n",
       "\t<tr>\n",
       "\t\t<td>max</td>\n",
       "\t\t<td>891</td>\n",
       "\t\t<td>1</td>\n",
       "\t\t<td>3</td>\n",
       "\t\t<td>80</td>\n",
       "\t\t<td>8</td>\n",
       "\t\t<td>6</td>\n",
       "\t\t<td>512.329</td>\n",
       "\t\t<td>2</td>\n",
       "\t</tr>\n",
       "\t<tr>\n",
       "\t\t<td>mean</td>\n",
       "\t\t<td>446</td>\n",
       "\t\t<td>0.384</td>\n",
       "\t\t<td>2.309</td>\n",
       "\t\t<td>29.679</td>\n",
       "\t\t<td>0.523</td>\n",
       "\t\t<td>0.382</td>\n",
       "\t\t<td>32.204</td>\n",
       "\t\t<td>1.2</td>\n",
       "\t</tr>\n",
       "\t<tr>\n",
       "\t\t<td>count</td>\n",
       "\t\t<td>891</td>\n",
       "\t\t<td>891</td>\n",
       "\t\t<td>891</td>\n",
       "\t\t<td>714</td>\n",
       "\t\t<td>891</td>\n",
       "\t\t<td>891</td>\n",
       "\t\t<td>891</td>\n",
       "\t\t<td>891</td>\n",
       "\t</tr>\n",
       "</table></html>"
      ],
      "text/plain": [
       "       passenger  survived   pclass      age    sibsp    parch     fare  sampleid\n",
       "func                                                                             \n",
       "min        1.000     0.000    1.000    0.000    0.000    0.000    0.000       1.0\n",
       "std      257.354     0.487    0.836   14.536    1.103    0.806   49.693       0.4\n",
       "25%      223.500     0.000    2.000   20.000    0.000    0.000    7.910       1.0\n",
       "50%      446.000     0.000    3.000   28.000    0.000    0.000   14.454       1.0\n",
       "75%      668.500     1.000    3.000   38.000    1.000    0.000   31.000       1.0\n",
       "max      891.000     1.000    3.000   80.000    8.000    6.000  512.329       2.0\n",
       "mean     446.000     0.384    2.309   29.679    0.523    0.382   32.204       1.2\n",
       "count    891.000   891.000  891.000  714.000  891.000  891.000  891.000     891.0"
      ]
     },
     "execution_count": 10,
     "metadata": {},
     "output_type": "execute_result"
    }
   ],
   "source": [
    "titanic_sample.describe()"
   ]
  },
  {
   "cell_type": "code",
   "execution_count": 11,
   "id": "3c03f74c-0df6-432c-ad61-a5a57b8733db",
   "metadata": {},
   "outputs": [],
   "source": [
    "# Fetching train and test data\n",
    "titanic_train= titanic_sample[titanic_sample['sampleid'] == 1].drop('sampleid', axis=1)\n",
    "titanic_test = titanic_sample[titanic_sample['sampleid'] == 2].drop('sampleid', axis=1)"
   ]
  },
  {
   "cell_type": "code",
   "execution_count": 12,
   "id": "0920de8e-1f40-4887-be43-fce52480d39e",
   "metadata": {},
   "outputs": [
    {
     "data": {
      "text/plain": [
       "(713, 12)"
      ]
     },
     "execution_count": 12,
     "metadata": {},
     "output_type": "execute_result"
    }
   ],
   "source": [
    "# train data shape\n",
    "titanic_train.shape"
   ]
  },
  {
   "cell_type": "code",
   "execution_count": 13,
   "id": "a0e85414-7219-4dd8-87e9-75dc4c4264b9",
   "metadata": {},
   "outputs": [
    {
     "data": {
      "text/plain": [
       "(178, 12)"
      ]
     },
     "execution_count": 13,
     "metadata": {},
     "output_type": "execute_result"
    }
   ],
   "source": [
    "# test data shape\n",
    "titanic_test.shape"
   ]
  },
  {
   "cell_type": "code",
   "execution_count": 14,
   "id": "e38fa5e9-61a0-4899-a6aa-48f1420ca9a5",
   "metadata": {},
   "outputs": [
    {
     "data": {
      "text/html": [
       "<style type=\"text/css\">\n",
       "\ttable {border:ridge 5px;}\n",
       "\ttable td {border:inset 1px;}\n",
       "\ttable tr#HeaderRow {background-color:grey; color:white;}</style>\n",
       "<html><table>\n",
       "\t<tr id=\"HeaderRow\">\n",
       "\t\t<th>passenger</th>\n",
       "\t\t<th>survived</th>\n",
       "\t\t<th>pclass</th>\n",
       "\t\t<th>name</th>\n",
       "\t\t<th>sex</th>\n",
       "\t\t<th>age</th>\n",
       "\t\t<th>sibsp</th>\n",
       "\t\t<th>parch</th>\n",
       "\t\t<th>ticket</th>\n",
       "\t\t<th>fare</th>\n",
       "\t\t<th>cabin</th>\n",
       "\t\t<th>embarked</th>\n",
       "\t</tr>\n",
       "\t<tr>\n",
       "\t\t<td>4</td>\n",
       "\t\t<td>1</td>\n",
       "\t\t<td>1</td>\n",
       "\t\t<td>Futrelle, Mrs. Jacques Heath (Lily May Peel)</td>\n",
       "\t\t<td>female</td>\n",
       "\t\t<td>35</td>\n",
       "\t\t<td>1</td>\n",
       "\t\t<td>0</td>\n",
       "\t\t<td>113803</td>\n",
       "\t\t<td>53.1</td>\n",
       "\t\t<td>C123</td>\n",
       "\t\t<td>S</td>\n",
       "\t</tr>\n",
       "\t<tr>\n",
       "\t\t<td>6</td>\n",
       "\t\t<td>0</td>\n",
       "\t\t<td>3</td>\n",
       "\t\t<td>Moran, Mr. James</td>\n",
       "\t\t<td>male</td>\n",
       "\t\t<td>None</td>\n",
       "\t\t<td>0</td>\n",
       "\t\t<td>0</td>\n",
       "\t\t<td>330877</td>\n",
       "\t\t<td>8.4583</td>\n",
       "\t\t<td>None</td>\n",
       "\t\t<td>Q</td>\n",
       "\t</tr>\n",
       "\t<tr>\n",
       "\t\t<td>7</td>\n",
       "\t\t<td>0</td>\n",
       "\t\t<td>1</td>\n",
       "\t\t<td>McCarthy, Mr. Timothy J</td>\n",
       "\t\t<td>male</td>\n",
       "\t\t<td>54</td>\n",
       "\t\t<td>0</td>\n",
       "\t\t<td>0</td>\n",
       "\t\t<td>17463</td>\n",
       "\t\t<td>51.8625</td>\n",
       "\t\t<td>E46</td>\n",
       "\t\t<td>S</td>\n",
       "\t</tr>\n",
       "\t<tr>\n",
       "\t\t<td>8</td>\n",
       "\t\t<td>0</td>\n",
       "\t\t<td>3</td>\n",
       "\t\t<td>Palsson, Master. Gosta Leonard</td>\n",
       "\t\t<td>male</td>\n",
       "\t\t<td>2</td>\n",
       "\t\t<td>3</td>\n",
       "\t\t<td>1</td>\n",
       "\t\t<td>349909</td>\n",
       "\t\t<td>21.075</td>\n",
       "\t\t<td>None</td>\n",
       "\t\t<td>S</td>\n",
       "\t</tr>\n",
       "\t<tr>\n",
       "\t\t<td>10</td>\n",
       "\t\t<td>1</td>\n",
       "\t\t<td>2</td>\n",
       "\t\t<td>Nasser, Mrs. Nicholas (Adele Achem)</td>\n",
       "\t\t<td>female</td>\n",
       "\t\t<td>14</td>\n",
       "\t\t<td>1</td>\n",
       "\t\t<td>0</td>\n",
       "\t\t<td>237736</td>\n",
       "\t\t<td>30.0708</td>\n",
       "\t\t<td>None</td>\n",
       "\t\t<td>C</td>\n",
       "\t</tr>\n",
       "\t<tr>\n",
       "\t\t<td>11</td>\n",
       "\t\t<td>1</td>\n",
       "\t\t<td>3</td>\n",
       "\t\t<td>Sandstrom, Miss. Marguerite Rut</td>\n",
       "\t\t<td>female</td>\n",
       "\t\t<td>4</td>\n",
       "\t\t<td>1</td>\n",
       "\t\t<td>1</td>\n",
       "\t\t<td>PP 9549</td>\n",
       "\t\t<td>16.7</td>\n",
       "\t\t<td>G6</td>\n",
       "\t\t<td>S</td>\n",
       "\t</tr>\n",
       "\t<tr>\n",
       "\t\t<td>9</td>\n",
       "\t\t<td>1</td>\n",
       "\t\t<td>3</td>\n",
       "\t\t<td>Johnson, Mrs. Oscar W (Elisabeth Vilhelmina Berg)</td>\n",
       "\t\t<td>female</td>\n",
       "\t\t<td>27</td>\n",
       "\t\t<td>0</td>\n",
       "\t\t<td>2</td>\n",
       "\t\t<td>347742</td>\n",
       "\t\t<td>11.1333</td>\n",
       "\t\t<td>None</td>\n",
       "\t\t<td>S</td>\n",
       "\t</tr>\n",
       "\t<tr>\n",
       "\t\t<td>5</td>\n",
       "\t\t<td>0</td>\n",
       "\t\t<td>3</td>\n",
       "\t\t<td>Allen, Mr. William Henry</td>\n",
       "\t\t<td>male</td>\n",
       "\t\t<td>35</td>\n",
       "\t\t<td>0</td>\n",
       "\t\t<td>0</td>\n",
       "\t\t<td>373450</td>\n",
       "\t\t<td>8.05</td>\n",
       "\t\t<td>None</td>\n",
       "\t\t<td>S</td>\n",
       "\t</tr>\n",
       "\t<tr>\n",
       "\t\t<td>2</td>\n",
       "\t\t<td>1</td>\n",
       "\t\t<td>1</td>\n",
       "\t\t<td>Cumings, Mrs. John Bradley (Florence Briggs Thayer)</td>\n",
       "\t\t<td>female</td>\n",
       "\t\t<td>38</td>\n",
       "\t\t<td>1</td>\n",
       "\t\t<td>0</td>\n",
       "\t\t<td>PC 17599</td>\n",
       "\t\t<td>71.2833</td>\n",
       "\t\t<td>C85</td>\n",
       "\t\t<td>C</td>\n",
       "\t</tr>\n",
       "\t<tr>\n",
       "\t\t<td>1</td>\n",
       "\t\t<td>0</td>\n",
       "\t\t<td>3</td>\n",
       "\t\t<td>Braund, Mr. Owen Harris</td>\n",
       "\t\t<td>male</td>\n",
       "\t\t<td>22</td>\n",
       "\t\t<td>1</td>\n",
       "\t\t<td>0</td>\n",
       "\t\t<td>A/5 21171</td>\n",
       "\t\t<td>7.25</td>\n",
       "\t\t<td>None</td>\n",
       "\t\t<td>S</td>\n",
       "\t</tr>\n",
       "</table></html>"
      ],
      "text/plain": [
       "           survived  pclass                                                 name     sex   age  sibsp  parch     ticket     fare cabin embarked\n",
       "passenger                                                                                                                                      \n",
       "4                 1       1         Futrelle, Mrs. Jacques Heath (Lily May Peel)  female  35.0      1      0     113803  53.1000  C123        S\n",
       "6                 0       3                                     Moran, Mr. James    male   NaN      0      0     330877   8.4583  None        Q\n",
       "7                 0       1                              McCarthy, Mr. Timothy J    male  54.0      0      0      17463  51.8625   E46        S\n",
       "8                 0       3                       Palsson, Master. Gosta Leonard    male   2.0      3      1     349909  21.0750  None        S\n",
       "10                1       2                  Nasser, Mrs. Nicholas (Adele Achem)  female  14.0      1      0     237736  30.0708  None        C\n",
       "11                1       3                      Sandstrom, Miss. Marguerite Rut  female   4.0      1      1    PP 9549  16.7000    G6        S\n",
       "9                 1       3    Johnson, Mrs. Oscar W (Elisabeth Vilhelmina Berg)  female  27.0      0      2     347742  11.1333  None        S\n",
       "5                 0       3                             Allen, Mr. William Henry    male  35.0      0      0     373450   8.0500  None        S\n",
       "2                 1       1  Cumings, Mrs. John Bradley (Florence Briggs Thayer)  female  38.0      1      0   PC 17599  71.2833   C85        C\n",
       "1                 0       3                              Braund, Mr. Owen Harris    male  22.0      1      0  A/5 21171   7.2500  None        S"
      ]
     },
     "execution_count": 14,
     "metadata": {},
     "output_type": "execute_result"
    }
   ],
   "source": [
    "# train dataset\n",
    "titanic_train.head()"
   ]
  },
  {
   "cell_type": "code",
   "execution_count": 15,
   "id": "54c0977c-dd9e-4b92-9567-a93d76c0ac35",
   "metadata": {},
   "outputs": [
    {
     "data": {
      "text/html": [
       "<style type=\"text/css\">\n",
       "\ttable {border:ridge 5px;}\n",
       "\ttable td {border:inset 1px;}\n",
       "\ttable tr#HeaderRow {background-color:grey; color:white;}</style>\n",
       "<html><table>\n",
       "\t<tr id=\"HeaderRow\">\n",
       "\t\t<th>passenger</th>\n",
       "\t\t<th>survived</th>\n",
       "\t\t<th>pclass</th>\n",
       "\t\t<th>name</th>\n",
       "\t\t<th>sex</th>\n",
       "\t\t<th>age</th>\n",
       "\t\t<th>sibsp</th>\n",
       "\t\t<th>parch</th>\n",
       "\t\t<th>ticket</th>\n",
       "\t\t<th>fare</th>\n",
       "\t\t<th>cabin</th>\n",
       "\t\t<th>embarked</th>\n",
       "\t</tr>\n",
       "\t<tr>\n",
       "\t\t<td>15</td>\n",
       "\t\t<td>0</td>\n",
       "\t\t<td>3</td>\n",
       "\t\t<td>Vestrom, Miss. Hulda Amanda Adolfina</td>\n",
       "\t\t<td>female</td>\n",
       "\t\t<td>14</td>\n",
       "\t\t<td>0</td>\n",
       "\t\t<td>0</td>\n",
       "\t\t<td>350406</td>\n",
       "\t\t<td>7.8542</td>\n",
       "\t\t<td>None</td>\n",
       "\t\t<td>S</td>\n",
       "\t</tr>\n",
       "\t<tr>\n",
       "\t\t<td>24</td>\n",
       "\t\t<td>1</td>\n",
       "\t\t<td>1</td>\n",
       "\t\t<td>Sloper, Mr. William Thompson</td>\n",
       "\t\t<td>male</td>\n",
       "\t\t<td>28</td>\n",
       "\t\t<td>0</td>\n",
       "\t\t<td>0</td>\n",
       "\t\t<td>113788</td>\n",
       "\t\t<td>35.5</td>\n",
       "\t\t<td>A6</td>\n",
       "\t\t<td>S</td>\n",
       "\t</tr>\n",
       "\t<tr>\n",
       "\t\t<td>26</td>\n",
       "\t\t<td>1</td>\n",
       "\t\t<td>3</td>\n",
       "\t\t<td>Asplund, Mrs. Carl Oscar (Selma Augusta Emilia Johansson)</td>\n",
       "\t\t<td>female</td>\n",
       "\t\t<td>38</td>\n",
       "\t\t<td>1</td>\n",
       "\t\t<td>5</td>\n",
       "\t\t<td>347077</td>\n",
       "\t\t<td>31.3875</td>\n",
       "\t\t<td>None</td>\n",
       "\t\t<td>S</td>\n",
       "\t</tr>\n",
       "\t<tr>\n",
       "\t\t<td>33</td>\n",
       "\t\t<td>1</td>\n",
       "\t\t<td>3</td>\n",
       "\t\t<td>Glynn, Miss. Mary Agatha</td>\n",
       "\t\t<td>female</td>\n",
       "\t\t<td>None</td>\n",
       "\t\t<td>0</td>\n",
       "\t\t<td>0</td>\n",
       "\t\t<td>335677</td>\n",
       "\t\t<td>7.75</td>\n",
       "\t\t<td>None</td>\n",
       "\t\t<td>Q</td>\n",
       "\t</tr>\n",
       "\t<tr>\n",
       "\t\t<td>49</td>\n",
       "\t\t<td>0</td>\n",
       "\t\t<td>3</td>\n",
       "\t\t<td>Samaan, Mr. Youssef</td>\n",
       "\t\t<td>male</td>\n",
       "\t\t<td>None</td>\n",
       "\t\t<td>2</td>\n",
       "\t\t<td>0</td>\n",
       "\t\t<td>2662</td>\n",
       "\t\t<td>21.6792</td>\n",
       "\t\t<td>None</td>\n",
       "\t\t<td>C</td>\n",
       "\t</tr>\n",
       "\t<tr>\n",
       "\t\t<td>50</td>\n",
       "\t\t<td>0</td>\n",
       "\t\t<td>3</td>\n",
       "\t\t<td>Arnold-Franchi, Mrs. Josef (Josefine Franchi)</td>\n",
       "\t\t<td>female</td>\n",
       "\t\t<td>18</td>\n",
       "\t\t<td>1</td>\n",
       "\t\t<td>0</td>\n",
       "\t\t<td>349237</td>\n",
       "\t\t<td>17.8</td>\n",
       "\t\t<td>None</td>\n",
       "\t\t<td>S</td>\n",
       "\t</tr>\n",
       "\t<tr>\n",
       "\t\t<td>43</td>\n",
       "\t\t<td>0</td>\n",
       "\t\t<td>3</td>\n",
       "\t\t<td>Kraeff, Mr. Theodor</td>\n",
       "\t\t<td>male</td>\n",
       "\t\t<td>None</td>\n",
       "\t\t<td>0</td>\n",
       "\t\t<td>0</td>\n",
       "\t\t<td>349253</td>\n",
       "\t\t<td>7.8958</td>\n",
       "\t\t<td>None</td>\n",
       "\t\t<td>C</td>\n",
       "\t</tr>\n",
       "\t<tr>\n",
       "\t\t<td>16</td>\n",
       "\t\t<td>1</td>\n",
       "\t\t<td>2</td>\n",
       "\t\t<td>Hewlett, Mrs. (Mary D Kingcome) </td>\n",
       "\t\t<td>female</td>\n",
       "\t\t<td>55</td>\n",
       "\t\t<td>0</td>\n",
       "\t\t<td>0</td>\n",
       "\t\t<td>248706</td>\n",
       "\t\t<td>16.0</td>\n",
       "\t\t<td>None</td>\n",
       "\t\t<td>S</td>\n",
       "\t</tr>\n",
       "\t<tr>\n",
       "\t\t<td>12</td>\n",
       "\t\t<td>1</td>\n",
       "\t\t<td>1</td>\n",
       "\t\t<td>Bonnell, Miss. Elizabeth</td>\n",
       "\t\t<td>female</td>\n",
       "\t\t<td>58</td>\n",
       "\t\t<td>0</td>\n",
       "\t\t<td>0</td>\n",
       "\t\t<td>113783</td>\n",
       "\t\t<td>26.55</td>\n",
       "\t\t<td>C103</td>\n",
       "\t\t<td>S</td>\n",
       "\t</tr>\n",
       "\t<tr>\n",
       "\t\t<td>3</td>\n",
       "\t\t<td>1</td>\n",
       "\t\t<td>3</td>\n",
       "\t\t<td>Heikkinen, Miss. Laina</td>\n",
       "\t\t<td>female</td>\n",
       "\t\t<td>26</td>\n",
       "\t\t<td>0</td>\n",
       "\t\t<td>0</td>\n",
       "\t\t<td>STON/O2. 3101282</td>\n",
       "\t\t<td>7.925</td>\n",
       "\t\t<td>None</td>\n",
       "\t\t<td>S</td>\n",
       "\t</tr>\n",
       "</table></html>"
      ],
      "text/plain": [
       "           survived  pclass                                                       name     sex   age  sibsp  parch            ticket     fare cabin embarked\n",
       "passenger                                                                                                                                                   \n",
       "15                0       3                       Vestrom, Miss. Hulda Amanda Adolfina  female  14.0      0      0            350406   7.8542  None        S\n",
       "24                1       1                               Sloper, Mr. William Thompson    male  28.0      0      0            113788  35.5000    A6        S\n",
       "26                1       3  Asplund, Mrs. Carl Oscar (Selma Augusta Emilia Johansson)  female  38.0      1      5            347077  31.3875  None        S\n",
       "33                1       3                                   Glynn, Miss. Mary Agatha  female   NaN      0      0            335677   7.7500  None        Q\n",
       "49                0       3                                        Samaan, Mr. Youssef    male   NaN      2      0              2662  21.6792  None        C\n",
       "50                0       3              Arnold-Franchi, Mrs. Josef (Josefine Franchi)  female  18.0      1      0            349237  17.8000  None        S\n",
       "43                0       3                                        Kraeff, Mr. Theodor    male   NaN      0      0            349253   7.8958  None        C\n",
       "16                1       2                           Hewlett, Mrs. (Mary D Kingcome)   female  55.0      0      0            248706  16.0000  None        S\n",
       "12                1       1                                   Bonnell, Miss. Elizabeth  female  58.0      0      0            113783  26.5500  C103        S\n",
       "3                 1       3                                     Heikkinen, Miss. Laina  female  26.0      0      0  STON/O2. 3101282   7.9250  None        S"
      ]
     },
     "execution_count": 15,
     "metadata": {},
     "output_type": "execute_result"
    }
   ],
   "source": [
    "# test dataset\n",
    "titanic_test.head()"
   ]
  },
  {
   "cell_type": "markdown",
   "id": "856ea871-93d8-4ea2-b524-1acb23bd7eb5",
   "metadata": {},
   "source": [
    "## <b><span style='color:#F1A424'>| 2.</span> Fitting AutoML </b>"
   ]
  },
  {
   "cell_type": "code",
   "execution_count": 16,
   "id": "f3650aa5-a408-4227-a88d-79c0f3d36d3c",
   "metadata": {},
   "outputs": [],
   "source": [
    "# Creating AutoClassifier Instance \n",
    "# Excluding knn and svm model from default model list for training\n",
    "# Using early stopping timer criteria with value 100 sec  \n",
    "\n",
    "aml = AutoClassifier(exclude=['knn', 'svm'],\n",
    "                    verbose=2,\n",
    "                    max_runtime_secs=100)"
   ]
  },
  {
   "cell_type": "code",
   "execution_count": 17,
   "id": "a1b7a771-1bfa-40c9-8ad0-c377d320c137",
   "metadata": {
    "tags": []
   },
   "outputs": [
    {
     "data": {
      "text/html": [
       "\n",
       "            <style>\n",
       "                .custom-div {\n",
       "                    background-color: lightgray;\n",
       "                    color: #000000;\n",
       "                    padding: 10px;\n",
       "                    border-radius: 8px;\n",
       "                    box-shadow: 0 3px 4px rgba(0, 0, 0, 0.2);\n",
       "                    margin-bottom: 10px;\n",
       "                    text-align: center;\n",
       "                }\n",
       "            </style>\n",
       "        <br><div class=\"custom-div\"><h3><span style=\"color: green;\"></span>1. Feature Exploration -> 2. Feature Engineering -> 3. Data Preparation -> 4. Model Training & Evaluation<center></h3></center></div>"
      ],
      "text/plain": [
       "<IPython.core.display.HTML object>"
      ]
     },
     "metadata": {},
     "output_type": "display_data"
    },
    {
     "name": "stdout",
     "output_type": "stream",
     "text": [
      "Feature Exploration started ...\n",
      "\n",
      "Data Overview:\n",
      "Total Rows in the data: 713\n",
      "Total Columns in the data: 12\n",
      "\n",
      "Column Summary:\n"
     ]
    },
    {
     "data": {
      "text/html": [
       "<style type=\"text/css\">\n",
       "\ttable {border:ridge 5px;}\n",
       "\ttable td {border:inset 1px;}\n",
       "\ttable tr#HeaderRow {background-color:grey; color:white;}</style>\n",
       "<html><table>\n",
       "\t<tr id=\"HeaderRow\">\n",
       "\t\t<th>ColumnName</th>\n",
       "\t\t<th>Datatype</th>\n",
       "\t\t<th>NonNullCount</th>\n",
       "\t\t<th>NullCount</th>\n",
       "\t\t<th>BlankCount</th>\n",
       "\t\t<th>ZeroCount</th>\n",
       "\t\t<th>PositiveCount</th>\n",
       "\t\t<th>NegativeCount</th>\n",
       "\t\t<th>NullPercentage</th>\n",
       "\t\t<th>NonNullPercentage</th>\n",
       "\t</tr>\n",
       "\t<tr>\n",
       "\t\t<td>age</td>\n",
       "\t\t<td>INTEGER</td>\n",
       "\t\t<td>578</td>\n",
       "\t\t<td>135</td>\n",
       "\t\t<td>None</td>\n",
       "\t\t<td>6</td>\n",
       "\t\t<td>572</td>\n",
       "\t\t<td>0</td>\n",
       "\t\t<td>18.93408134642356</td>\n",
       "\t\t<td>81.06591865357643</td>\n",
       "\t</tr>\n",
       "\t<tr>\n",
       "\t\t<td>fare</td>\n",
       "\t\t<td>FLOAT</td>\n",
       "\t\t<td>713</td>\n",
       "\t\t<td>0</td>\n",
       "\t\t<td>None</td>\n",
       "\t\t<td>11</td>\n",
       "\t\t<td>702</td>\n",
       "\t\t<td>0</td>\n",
       "\t\t<td>0.0</td>\n",
       "\t\t<td>100.0</td>\n",
       "\t</tr>\n",
       "\t<tr>\n",
       "\t\t<td>embarked</td>\n",
       "\t\t<td>VARCHAR(20) CHARACTER SET LATIN</td>\n",
       "\t\t<td>711</td>\n",
       "\t\t<td>2</td>\n",
       "\t\t<td>0</td>\n",
       "\t\t<td>None</td>\n",
       "\t\t<td>None</td>\n",
       "\t\t<td>None</td>\n",
       "\t\t<td>0.2805049088359046</td>\n",
       "\t\t<td>99.71949509116409</td>\n",
       "\t</tr>\n",
       "\t<tr>\n",
       "\t\t<td>name</td>\n",
       "\t\t<td>VARCHAR(1000) CHARACTER SET LATIN</td>\n",
       "\t\t<td>713</td>\n",
       "\t\t<td>0</td>\n",
       "\t\t<td>0</td>\n",
       "\t\t<td>None</td>\n",
       "\t\t<td>None</td>\n",
       "\t\t<td>None</td>\n",
       "\t\t<td>0.0</td>\n",
       "\t\t<td>100.0</td>\n",
       "\t</tr>\n",
       "\t<tr>\n",
       "\t\t<td>parch</td>\n",
       "\t\t<td>INTEGER</td>\n",
       "\t\t<td>713</td>\n",
       "\t\t<td>0</td>\n",
       "\t\t<td>None</td>\n",
       "\t\t<td>545</td>\n",
       "\t\t<td>168</td>\n",
       "\t\t<td>0</td>\n",
       "\t\t<td>0.0</td>\n",
       "\t\t<td>100.0</td>\n",
       "\t</tr>\n",
       "\t<tr>\n",
       "\t\t<td>sibsp</td>\n",
       "\t\t<td>INTEGER</td>\n",
       "\t\t<td>713</td>\n",
       "\t\t<td>0</td>\n",
       "\t\t<td>None</td>\n",
       "\t\t<td>489</td>\n",
       "\t\t<td>224</td>\n",
       "\t\t<td>0</td>\n",
       "\t\t<td>0.0</td>\n",
       "\t\t<td>100.0</td>\n",
       "\t</tr>\n",
       "\t<tr>\n",
       "\t\t<td>passenger</td>\n",
       "\t\t<td>INTEGER</td>\n",
       "\t\t<td>713</td>\n",
       "\t\t<td>0</td>\n",
       "\t\t<td>None</td>\n",
       "\t\t<td>0</td>\n",
       "\t\t<td>713</td>\n",
       "\t\t<td>0</td>\n",
       "\t\t<td>0.0</td>\n",
       "\t\t<td>100.0</td>\n",
       "\t</tr>\n",
       "\t<tr>\n",
       "\t\t<td>cabin</td>\n",
       "\t\t<td>VARCHAR(20) CHARACTER SET LATIN</td>\n",
       "\t\t<td>171</td>\n",
       "\t\t<td>542</td>\n",
       "\t\t<td>0</td>\n",
       "\t\t<td>None</td>\n",
       "\t\t<td>None</td>\n",
       "\t\t<td>None</td>\n",
       "\t\t<td>76.01683029453015</td>\n",
       "\t\t<td>23.983169705469845</td>\n",
       "\t</tr>\n",
       "\t<tr>\n",
       "\t\t<td>sex</td>\n",
       "\t\t<td>VARCHAR(20) CHARACTER SET LATIN</td>\n",
       "\t\t<td>713</td>\n",
       "\t\t<td>0</td>\n",
       "\t\t<td>0</td>\n",
       "\t\t<td>None</td>\n",
       "\t\t<td>None</td>\n",
       "\t\t<td>None</td>\n",
       "\t\t<td>0.0</td>\n",
       "\t\t<td>100.0</td>\n",
       "\t</tr>\n",
       "\t<tr>\n",
       "\t\t<td>ticket</td>\n",
       "\t\t<td>VARCHAR(20) CHARACTER SET LATIN</td>\n",
       "\t\t<td>713</td>\n",
       "\t\t<td>0</td>\n",
       "\t\t<td>0</td>\n",
       "\t\t<td>None</td>\n",
       "\t\t<td>None</td>\n",
       "\t\t<td>None</td>\n",
       "\t\t<td>0.0</td>\n",
       "\t\t<td>100.0</td>\n",
       "\t</tr>\n",
       "\t<tr>\n",
       "\t\t<td>pclass</td>\n",
       "\t\t<td>INTEGER</td>\n",
       "\t\t<td>713</td>\n",
       "\t\t<td>0</td>\n",
       "\t\t<td>None</td>\n",
       "\t\t<td>0</td>\n",
       "\t\t<td>713</td>\n",
       "\t\t<td>0</td>\n",
       "\t\t<td>0.0</td>\n",
       "\t\t<td>100.0</td>\n",
       "\t</tr>\n",
       "\t<tr>\n",
       "\t\t<td>survived</td>\n",
       "\t\t<td>INTEGER</td>\n",
       "\t\t<td>713</td>\n",
       "\t\t<td>0</td>\n",
       "\t\t<td>None</td>\n",
       "\t\t<td>442</td>\n",
       "\t\t<td>271</td>\n",
       "\t\t<td>0</td>\n",
       "\t\t<td>0.0</td>\n",
       "\t\t<td>100.0</td>\n",
       "\t</tr>\n",
       "</table></html>"
      ],
      "text/plain": [
       "   ColumnName                           Datatype  NonNullCount  NullCount  BlankCount  ZeroCount  PositiveCount  NegativeCount  NullPercentage  NonNullPercentage\n",
       "0         age                            INTEGER           578        135         NaN        6.0          572.0            0.0       18.934081          81.065919\n",
       "1        fare                              FLOAT           713          0         NaN       11.0          702.0            0.0        0.000000         100.000000\n",
       "2    embarked    VARCHAR(20) CHARACTER SET LATIN           711          2         0.0        NaN            NaN            NaN        0.280505          99.719495\n",
       "3        name  VARCHAR(1000) CHARACTER SET LATIN           713          0         0.0        NaN            NaN            NaN        0.000000         100.000000\n",
       "4       parch                            INTEGER           713          0         NaN      545.0          168.0            0.0        0.000000         100.000000\n",
       "5       sibsp                            INTEGER           713          0         NaN      489.0          224.0            0.0        0.000000         100.000000\n",
       "6   passenger                            INTEGER           713          0         NaN        0.0          713.0            0.0        0.000000         100.000000\n",
       "7       cabin    VARCHAR(20) CHARACTER SET LATIN           171        542         0.0        NaN            NaN            NaN       76.016830          23.983170\n",
       "8         sex    VARCHAR(20) CHARACTER SET LATIN           713          0         0.0        NaN            NaN            NaN        0.000000         100.000000\n",
       "9      ticket    VARCHAR(20) CHARACTER SET LATIN           713          0         0.0        NaN            NaN            NaN        0.000000         100.000000\n",
       "10     pclass                            INTEGER           713          0         NaN        0.0          713.0            0.0        0.000000         100.000000\n",
       "11   survived                            INTEGER           713          0         NaN      442.0          271.0            0.0        0.000000         100.000000"
      ]
     },
     "metadata": {},
     "output_type": "display_data"
    },
    {
     "name": "stdout",
     "output_type": "stream",
     "text": [
      "       passenger  survived   pclass      age    sibsp    parch     fare\n",
      "func                                                                   \n",
      "min        1.000     0.000    1.000    0.000    0.000    0.000    0.000\n",
      "std      259.051     0.486    0.841   14.582    1.108    0.751   52.441\n",
      "25%      232.000     0.000    1.000   21.000    0.000    0.000    7.925\n",
      "50%      460.000     0.000    3.000   29.000    0.000    0.000   14.454\n",
      "75%      675.000     1.000    3.000   38.750    1.000    0.000   31.275\n",
      "max      891.000     1.000    3.000   80.000    8.000    5.000  512.329\n",
      "mean     453.097     0.380    2.288   30.104    0.527    0.365   33.255\n",
      "count    713.000   713.000  713.000  578.000  713.000  713.000  713.000\n",
      "\n",
      "Statistics of Data:\n"
     ]
    },
    {
     "data": {
      "text/html": [
       "<style type=\"text/css\">\n",
       "\ttable {border:ridge 5px;}\n",
       "\ttable td {border:inset 1px;}\n",
       "\ttable tr#HeaderRow {background-color:grey; color:white;}</style>\n",
       "<html><table>\n",
       "\t<tr id=\"HeaderRow\">\n",
       "\t\t<th>func</th>\n",
       "\t\t<th>passenger</th>\n",
       "\t\t<th>survived</th>\n",
       "\t\t<th>pclass</th>\n",
       "\t\t<th>age</th>\n",
       "\t\t<th>sibsp</th>\n",
       "\t\t<th>parch</th>\n",
       "\t\t<th>fare</th>\n",
       "\t</tr>\n",
       "\t<tr>\n",
       "\t\t<td>50%</td>\n",
       "\t\t<td>460</td>\n",
       "\t\t<td>0</td>\n",
       "\t\t<td>3</td>\n",
       "\t\t<td>29</td>\n",
       "\t\t<td>0</td>\n",
       "\t\t<td>0</td>\n",
       "\t\t<td>14.454</td>\n",
       "\t</tr>\n",
       "\t<tr>\n",
       "\t\t<td>count</td>\n",
       "\t\t<td>713</td>\n",
       "\t\t<td>713</td>\n",
       "\t\t<td>713</td>\n",
       "\t\t<td>578</td>\n",
       "\t\t<td>713</td>\n",
       "\t\t<td>713</td>\n",
       "\t\t<td>713</td>\n",
       "\t</tr>\n",
       "\t<tr>\n",
       "\t\t<td>mean</td>\n",
       "\t\t<td>453.097</td>\n",
       "\t\t<td>0.38</td>\n",
       "\t\t<td>2.288</td>\n",
       "\t\t<td>30.104</td>\n",
       "\t\t<td>0.527</td>\n",
       "\t\t<td>0.365</td>\n",
       "\t\t<td>33.255</td>\n",
       "\t</tr>\n",
       "\t<tr>\n",
       "\t\t<td>min</td>\n",
       "\t\t<td>1</td>\n",
       "\t\t<td>0</td>\n",
       "\t\t<td>1</td>\n",
       "\t\t<td>0</td>\n",
       "\t\t<td>0</td>\n",
       "\t\t<td>0</td>\n",
       "\t\t<td>0</td>\n",
       "\t</tr>\n",
       "\t<tr>\n",
       "\t\t<td>max</td>\n",
       "\t\t<td>891</td>\n",
       "\t\t<td>1</td>\n",
       "\t\t<td>3</td>\n",
       "\t\t<td>80</td>\n",
       "\t\t<td>8</td>\n",
       "\t\t<td>5</td>\n",
       "\t\t<td>512.329</td>\n",
       "\t</tr>\n",
       "\t<tr>\n",
       "\t\t<td>75%</td>\n",
       "\t\t<td>675</td>\n",
       "\t\t<td>1</td>\n",
       "\t\t<td>3</td>\n",
       "\t\t<td>38.75</td>\n",
       "\t\t<td>1</td>\n",
       "\t\t<td>0</td>\n",
       "\t\t<td>31.275</td>\n",
       "\t</tr>\n",
       "\t<tr>\n",
       "\t\t<td>25%</td>\n",
       "\t\t<td>232</td>\n",
       "\t\t<td>0</td>\n",
       "\t\t<td>1</td>\n",
       "\t\t<td>21</td>\n",
       "\t\t<td>0</td>\n",
       "\t\t<td>0</td>\n",
       "\t\t<td>7.925</td>\n",
       "\t</tr>\n",
       "\t<tr>\n",
       "\t\t<td>std</td>\n",
       "\t\t<td>259.051</td>\n",
       "\t\t<td>0.486</td>\n",
       "\t\t<td>0.841</td>\n",
       "\t\t<td>14.582</td>\n",
       "\t\t<td>1.108</td>\n",
       "\t\t<td>0.751</td>\n",
       "\t\t<td>52.441</td>\n",
       "\t</tr>\n",
       "</table></html>"
      ],
      "text/plain": [
       "       passenger  survived   pclass      age    sibsp    parch     fare\n",
       "func                                                                   \n",
       "50%      460.000     0.000    3.000   29.000    0.000    0.000   14.454\n",
       "count    713.000   713.000  713.000  578.000  713.000  713.000  713.000\n",
       "mean     453.097     0.380    2.288   30.104    0.527    0.365   33.255\n",
       "min        1.000     0.000    1.000    0.000    0.000    0.000    0.000\n",
       "max      891.000     1.000    3.000   80.000    8.000    5.000  512.329\n",
       "75%      675.000     1.000    3.000   38.750    1.000    0.000   31.275\n",
       "25%      232.000     0.000    1.000   21.000    0.000    0.000    7.925\n",
       "std      259.051     0.486    0.841   14.582    1.108    0.751   52.441"
      ]
     },
     "metadata": {},
     "output_type": "display_data"
    },
    {
     "name": "stdout",
     "output_type": "stream",
     "text": [
      "\n",
      "Categorical Columns with their Distinct values:\n",
      "ColumnName                DistinctValueCount\n",
      "name                      713       \n",
      "sex                       2         \n",
      "ticket                    570       \n",
      "cabin                     128       \n",
      "embarked                  3         \n",
      "\n",
      "Futile columns in dataset:\n"
     ]
    },
    {
     "data": {
      "text/html": [
       "<style type=\"text/css\">\n",
       "\ttable {border:ridge 5px;}\n",
       "\ttable td {border:inset 1px;}\n",
       "\ttable tr#HeaderRow {background-color:grey; color:white;}</style>\n",
       "<html><table>\n",
       "\t<tr id=\"HeaderRow\">\n",
       "\t\t<th>ColumnName</th>\n",
       "\t</tr>\n",
       "\t<tr>\n",
       "\t\t<td>ticket</td>\n",
       "\t</tr>\n",
       "\t<tr>\n",
       "\t\t<td>name</td>\n",
       "\t</tr>\n",
       "</table></html>"
      ],
      "text/plain": [
       "  ColumnName\n",
       "0     ticket\n",
       "1       name"
      ]
     },
     "metadata": {},
     "output_type": "display_data"
    },
    {
     "name": "stdout",
     "output_type": "stream",
     "text": [
      "\n",
      "Target Column Distribution:\n"
     ]
    },
    {
     "data": {
      "image/png": "[encoded data removed]",
      "text/plain": [
       "<Figure size 600x600 with 1 Axes>"
      ]
     },
     "metadata": {},
     "output_type": "display_data"
    },
    {
     "name": "stdout",
     "output_type": "stream",
     "text": [
      "Columns with outlier percentage :-                                                                                                                                                                                                                                                                                                                                                                                                                                                                                  \n",
      "  ColumnName  OutlierPercentage\n",
      "0      sibsp           5.750351\n",
      "1       fare          13.744741\n",
      "2        age          19.775596\n",
      "3      parch          23.562412\n",
      "                                                                                        \r"
     ]
    },
    {
     "data": {
      "text/html": [
       "\n",
       "            <style>\n",
       "                .custom-div {\n",
       "                    background-color: lightgray;\n",
       "                    color: #000000;\n",
       "                    padding: 10px;\n",
       "                    border-radius: 8px;\n",
       "                    box-shadow: 0 3px 4px rgba(0 -  0 -  0 -  0.2);\n",
       "                    margin-bottom: 10px;\n",
       "                    text-align: center;\n",
       "                }\n",
       "            </style>\n",
       "        <br><div class=\"custom-div\"><h3><span style=\"color: green;\">1. Feature Exploration -></span> 2. Feature Engineering -> 3. Data Preparation -> 4. Model Training & Evaluation<center></h3></center></div>"
      ],
      "text/plain": [
       "<IPython.core.display.HTML object>"
      ]
     },
     "metadata": {},
     "output_type": "display_data"
    },
    {
     "name": "stdout",
     "output_type": "stream",
     "text": [
      "                                                                                        \r"
     ]
    },
    {
     "data": {
      "text/html": [
       "Feature Engineering started ..."
      ],
      "text/plain": [
       "<IPython.core.display.HTML object>"
      ]
     },
     "metadata": {},
     "output_type": "display_data"
    },
    {
     "name": "stdout",
     "output_type": "stream",
     "text": [
      "                                                                                        \r"
     ]
    },
    {
     "data": {
      "text/html": [
       "\n",
       "Handling duplicate records present in dataset ..."
      ],
      "text/plain": [
       "<IPython.core.display.HTML object>"
      ]
     },
     "metadata": {},
     "output_type": "display_data"
    },
    {
     "name": "stdout",
     "output_type": "stream",
     "text": [
      "Analysis completed. No action taken.                                                    \n",
      "                                                                                        \r"
     ]
    },
    {
     "data": {
      "text/html": [
       "Total time to handle duplicate records: 1.75 sec  "
      ],
      "text/plain": [
       "<IPython.core.display.HTML object>"
      ]
     },
     "metadata": {},
     "output_type": "display_data"
    },
    {
     "name": "stdout",
     "output_type": "stream",
     "text": [
      "                                                                                        \r"
     ]
    },
    {
     "data": {
      "text/html": [
       "\n",
       "Handling less significant features from data ..."
      ],
      "text/plain": [
       "<IPython.core.display.HTML object>"
      ]
     },
     "metadata": {},
     "output_type": "display_data"
    },
    {
     "name": "stdout",
     "output_type": "stream",
     "text": [
      "                                                                                        \r"
     ]
    },
    {
     "data": {
      "text/html": [
       "Removing Futile columns:"
      ],
      "text/plain": [
       "<IPython.core.display.HTML object>"
      ]
     },
     "metadata": {},
     "output_type": "display_data"
    },
    {
     "name": "stdout",
     "output_type": "stream",
     "text": [
      "['ticket', 'name']\n",
      "                                                                                        \r"
     ]
    },
    {
     "data": {
      "text/html": [
       "Sample of Data after removing Futile columns:"
      ],
      "text/plain": [
       "<IPython.core.display.HTML object>"
      ]
     },
     "metadata": {},
     "output_type": "display_data"
    },
    {
     "data": {
      "text/html": [
       "<style type=\"text/css\">\n",
       "\ttable {border:ridge 5px;}\n",
       "\ttable td {border:inset 1px;}\n",
       "\ttable tr#HeaderRow {background-color:grey; color:white;}</style>\n",
       "<html><table>\n",
       "\t<tr id=\"HeaderRow\">\n",
       "\t\t<th>passenger</th>\n",
       "\t\t<th>survived</th>\n",
       "\t\t<th>pclass</th>\n",
       "\t\t<th>sex</th>\n",
       "\t\t<th>age</th>\n",
       "\t\t<th>sibsp</th>\n",
       "\t\t<th>parch</th>\n",
       "\t\t<th>fare</th>\n",
       "\t\t<th>cabin</th>\n",
       "\t\t<th>embarked</th>\n",
       "\t\t<th>id</th>\n",
       "\t</tr>\n",
       "\t<tr>\n",
       "\t\t<td>530</td>\n",
       "\t\t<td>0</td>\n",
       "\t\t<td>2</td>\n",
       "\t\t<td>male</td>\n",
       "\t\t<td>23</td>\n",
       "\t\t<td>2</td>\n",
       "\t\t<td>1</td>\n",
       "\t\t<td>11.5</td>\n",
       "\t\t<td>None</td>\n",
       "\t\t<td>S</td>\n",
       "\t\t<td>9</td>\n",
       "\t</tr>\n",
       "\t<tr>\n",
       "\t\t<td>122</td>\n",
       "\t\t<td>0</td>\n",
       "\t\t<td>3</td>\n",
       "\t\t<td>male</td>\n",
       "\t\t<td>None</td>\n",
       "\t\t<td>0</td>\n",
       "\t\t<td>0</td>\n",
       "\t\t<td>8.05</td>\n",
       "\t\t<td>None</td>\n",
       "\t\t<td>S</td>\n",
       "\t\t<td>11</td>\n",
       "\t</tr>\n",
       "\t<tr>\n",
       "\t\t<td>591</td>\n",
       "\t\t<td>0</td>\n",
       "\t\t<td>3</td>\n",
       "\t\t<td>male</td>\n",
       "\t\t<td>35</td>\n",
       "\t\t<td>0</td>\n",
       "\t\t<td>0</td>\n",
       "\t\t<td>7.125</td>\n",
       "\t\t<td>None</td>\n",
       "\t\t<td>S</td>\n",
       "\t\t<td>19</td>\n",
       "\t</tr>\n",
       "\t<tr>\n",
       "\t\t<td>40</td>\n",
       "\t\t<td>1</td>\n",
       "\t\t<td>3</td>\n",
       "\t\t<td>female</td>\n",
       "\t\t<td>14</td>\n",
       "\t\t<td>1</td>\n",
       "\t\t<td>0</td>\n",
       "\t\t<td>11.2417</td>\n",
       "\t\t<td>None</td>\n",
       "\t\t<td>C</td>\n",
       "\t\t<td>10</td>\n",
       "\t</tr>\n",
       "\t<tr>\n",
       "\t\t<td>305</td>\n",
       "\t\t<td>0</td>\n",
       "\t\t<td>3</td>\n",
       "\t\t<td>male</td>\n",
       "\t\t<td>None</td>\n",
       "\t\t<td>0</td>\n",
       "\t\t<td>0</td>\n",
       "\t\t<td>8.05</td>\n",
       "\t\t<td>None</td>\n",
       "\t\t<td>S</td>\n",
       "\t\t<td>13</td>\n",
       "\t</tr>\n",
       "\t<tr>\n",
       "\t\t<td>732</td>\n",
       "\t\t<td>0</td>\n",
       "\t\t<td>3</td>\n",
       "\t\t<td>male</td>\n",
       "\t\t<td>11</td>\n",
       "\t\t<td>0</td>\n",
       "\t\t<td>0</td>\n",
       "\t\t<td>18.7875</td>\n",
       "\t\t<td>None</td>\n",
       "\t\t<td>C</td>\n",
       "\t\t<td>21</td>\n",
       "\t</tr>\n",
       "\t<tr>\n",
       "\t\t<td>734</td>\n",
       "\t\t<td>0</td>\n",
       "\t\t<td>2</td>\n",
       "\t\t<td>male</td>\n",
       "\t\t<td>23</td>\n",
       "\t\t<td>0</td>\n",
       "\t\t<td>0</td>\n",
       "\t\t<td>13.0</td>\n",
       "\t\t<td>None</td>\n",
       "\t\t<td>S</td>\n",
       "\t\t<td>14</td>\n",
       "\t</tr>\n",
       "\t<tr>\n",
       "\t\t<td>61</td>\n",
       "\t\t<td>0</td>\n",
       "\t\t<td>3</td>\n",
       "\t\t<td>male</td>\n",
       "\t\t<td>22</td>\n",
       "\t\t<td>0</td>\n",
       "\t\t<td>0</td>\n",
       "\t\t<td>7.2292</td>\n",
       "\t\t<td>None</td>\n",
       "\t\t<td>C</td>\n",
       "\t\t<td>22</td>\n",
       "\t</tr>\n",
       "\t<tr>\n",
       "\t\t<td>469</td>\n",
       "\t\t<td>0</td>\n",
       "\t\t<td>3</td>\n",
       "\t\t<td>male</td>\n",
       "\t\t<td>None</td>\n",
       "\t\t<td>0</td>\n",
       "\t\t<td>0</td>\n",
       "\t\t<td>7.725</td>\n",
       "\t\t<td>None</td>\n",
       "\t\t<td>Q</td>\n",
       "\t\t<td>8</td>\n",
       "\t</tr>\n",
       "\t<tr>\n",
       "\t\t<td>774</td>\n",
       "\t\t<td>0</td>\n",
       "\t\t<td>3</td>\n",
       "\t\t<td>male</td>\n",
       "\t\t<td>None</td>\n",
       "\t\t<td>0</td>\n",
       "\t\t<td>0</td>\n",
       "\t\t<td>7.225</td>\n",
       "\t\t<td>None</td>\n",
       "\t\t<td>C</td>\n",
       "\t\t<td>16</td>\n",
       "\t</tr>\n",
       "</table></html>"
      ],
      "text/plain": [
       "   passenger  survived  pclass     sex   age  sibsp  parch     fare cabin embarked  id\n",
       "0        530         0       2    male  23.0      2      1  11.5000  None        S   9\n",
       "1        122         0       3    male   NaN      0      0   8.0500  None        S  11\n",
       "2        591         0       3    male  35.0      0      0   7.1250  None        S  19\n",
       "3         40         1       3  female  14.0      1      0  11.2417  None        C  10\n",
       "4        305         0       3    male   NaN      0      0   8.0500  None        S  13\n",
       "5        732         0       3    male  11.0      0      0  18.7875  None        C  21\n",
       "6        734         0       2    male  23.0      0      0  13.0000  None        S  14\n",
       "7         61         0       3    male  22.0      0      0   7.2292  None        C  22\n",
       "8        469         0       3    male   NaN      0      0   7.7250  None        Q   8\n",
       "9        774         0       3    male   NaN      0      0   7.2250  None        C  16"
      ]
     },
     "metadata": {},
     "output_type": "display_data"
    },
    {
     "name": "stdout",
     "output_type": "stream",
     "text": [
      "                                                                                        \r"
     ]
    },
    {
     "data": {
      "text/html": [
       "713 rows X 11 columns"
      ],
      "text/plain": [
       "<IPython.core.display.HTML object>"
      ]
     },
     "metadata": {},
     "output_type": "display_data"
    },
    {
     "name": "stdout",
     "output_type": "stream",
     "text": [
      "                                                                                        \r"
     ]
    },
    {
     "data": {
      "text/html": [
       "Total time to handle less significant features: 19.91 sec  "
      ],
      "text/plain": [
       "<IPython.core.display.HTML object>"
      ]
     },
     "metadata": {},
     "output_type": "display_data"
    },
    {
     "name": "stdout",
     "output_type": "stream",
     "text": [
      "                                                                                         \r"
     ]
    },
    {
     "data": {
      "text/html": [
       "\n",
       "Handling Date Features ..."
      ],
      "text/plain": [
       "<IPython.core.display.HTML object>"
      ]
     },
     "metadata": {},
     "output_type": "display_data"
    },
    {
     "name": "stdout",
     "output_type": "stream",
     "text": [
      "Analysis Completed. Dataset does not contain any feature related to dates. No action needed.\n",
      "                                                                                         \r"
     ]
    },
    {
     "data": {
      "text/html": [
       "Total time to handle date features: 0.00 sec\n"
      ],
      "text/plain": [
       "<IPython.core.display.HTML object>"
      ]
     },
     "metadata": {},
     "output_type": "display_data"
    },
    {
     "name": "stdout",
     "output_type": "stream",
     "text": [
      "                                                                                         \r"
     ]
    },
    {
     "data": {
      "text/html": [
       "\n",
       "Checking Missing values in dataset ..."
      ],
      "text/plain": [
       "<IPython.core.display.HTML object>"
      ]
     },
     "metadata": {},
     "output_type": "display_data"
    },
    {
     "name": "stdout",
     "output_type": "stream",
     "text": [
      "                                                                                         \r"
     ]
    },
    {
     "data": {
      "text/html": [
       "Columns with their missing values:"
      ],
      "text/plain": [
       "<IPython.core.display.HTML object>"
      ]
     },
     "metadata": {},
     "output_type": "display_data"
    },
    {
     "name": "stdout",
     "output_type": "stream",
     "text": [
      "embarked: 2\n",
      "age: 135\n",
      "cabin: 542\n",
      "                                                                                         \r"
     ]
    },
    {
     "data": {
      "text/html": [
       "Deleting rows of these columns for handling missing values:"
      ],
      "text/plain": [
       "<IPython.core.display.HTML object>"
      ]
     },
     "metadata": {},
     "output_type": "display_data"
    },
    {
     "name": "stdout",
     "output_type": "stream",
     "text": [
      "['embarked']\n",
      "                                                                                         \r"
     ]
    },
    {
     "data": {
      "text/html": [
       "Sample of dataset after removing 2 rows:"
      ],
      "text/plain": [
       "<IPython.core.display.HTML object>"
      ]
     },
     "metadata": {},
     "output_type": "display_data"
    },
    {
     "data": {
      "text/html": [
       "<style type=\"text/css\">\n",
       "\ttable {border:ridge 5px;}\n",
       "\ttable td {border:inset 1px;}\n",
       "\ttable tr#HeaderRow {background-color:grey; color:white;}</style>\n",
       "<html><table>\n",
       "\t<tr id=\"HeaderRow\">\n",
       "\t\t<th>passenger</th>\n",
       "\t\t<th>survived</th>\n",
       "\t\t<th>pclass</th>\n",
       "\t\t<th>sex</th>\n",
       "\t\t<th>age</th>\n",
       "\t\t<th>sibsp</th>\n",
       "\t\t<th>parch</th>\n",
       "\t\t<th>fare</th>\n",
       "\t\t<th>cabin</th>\n",
       "\t\t<th>embarked</th>\n",
       "\t\t<th>id</th>\n",
       "\t</tr>\n",
       "\t<tr>\n",
       "\t\t<td>40</td>\n",
       "\t\t<td>1</td>\n",
       "\t\t<td>3</td>\n",
       "\t\t<td>female</td>\n",
       "\t\t<td>14</td>\n",
       "\t\t<td>1</td>\n",
       "\t\t<td>0</td>\n",
       "\t\t<td>11.2417</td>\n",
       "\t\t<td>None</td>\n",
       "\t\t<td>C</td>\n",
       "\t\t<td>10</td>\n",
       "\t</tr>\n",
       "\t<tr>\n",
       "\t\t<td>530</td>\n",
       "\t\t<td>0</td>\n",
       "\t\t<td>2</td>\n",
       "\t\t<td>male</td>\n",
       "\t\t<td>23</td>\n",
       "\t\t<td>2</td>\n",
       "\t\t<td>1</td>\n",
       "\t\t<td>11.5</td>\n",
       "\t\t<td>None</td>\n",
       "\t\t<td>S</td>\n",
       "\t\t<td>9</td>\n",
       "\t</tr>\n",
       "\t<tr>\n",
       "\t\t<td>101</td>\n",
       "\t\t<td>0</td>\n",
       "\t\t<td>3</td>\n",
       "\t\t<td>female</td>\n",
       "\t\t<td>28</td>\n",
       "\t\t<td>0</td>\n",
       "\t\t<td>0</td>\n",
       "\t\t<td>7.8958</td>\n",
       "\t\t<td>None</td>\n",
       "\t\t<td>S</td>\n",
       "\t\t<td>17</td>\n",
       "\t</tr>\n",
       "\t<tr>\n",
       "\t\t<td>122</td>\n",
       "\t\t<td>0</td>\n",
       "\t\t<td>3</td>\n",
       "\t\t<td>male</td>\n",
       "\t\t<td>None</td>\n",
       "\t\t<td>0</td>\n",
       "\t\t<td>0</td>\n",
       "\t\t<td>8.05</td>\n",
       "\t\t<td>None</td>\n",
       "\t\t<td>S</td>\n",
       "\t\t<td>11</td>\n",
       "\t</tr>\n",
       "\t<tr>\n",
       "\t\t<td>570</td>\n",
       "\t\t<td>1</td>\n",
       "\t\t<td>3</td>\n",
       "\t\t<td>male</td>\n",
       "\t\t<td>32</td>\n",
       "\t\t<td>0</td>\n",
       "\t\t<td>0</td>\n",
       "\t\t<td>7.8542</td>\n",
       "\t\t<td>None</td>\n",
       "\t\t<td>S</td>\n",
       "\t\t<td>15</td>\n",
       "\t</tr>\n",
       "\t<tr>\n",
       "\t\t<td>835</td>\n",
       "\t\t<td>0</td>\n",
       "\t\t<td>3</td>\n",
       "\t\t<td>male</td>\n",
       "\t\t<td>18</td>\n",
       "\t\t<td>0</td>\n",
       "\t\t<td>0</td>\n",
       "\t\t<td>8.3</td>\n",
       "\t\t<td>None</td>\n",
       "\t\t<td>S</td>\n",
       "\t\t<td>23</td>\n",
       "\t</tr>\n",
       "\t<tr>\n",
       "\t\t<td>734</td>\n",
       "\t\t<td>0</td>\n",
       "\t\t<td>2</td>\n",
       "\t\t<td>male</td>\n",
       "\t\t<td>23</td>\n",
       "\t\t<td>0</td>\n",
       "\t\t<td>0</td>\n",
       "\t\t<td>13.0</td>\n",
       "\t\t<td>None</td>\n",
       "\t\t<td>S</td>\n",
       "\t\t<td>14</td>\n",
       "\t</tr>\n",
       "\t<tr>\n",
       "\t\t<td>61</td>\n",
       "\t\t<td>0</td>\n",
       "\t\t<td>3</td>\n",
       "\t\t<td>male</td>\n",
       "\t\t<td>22</td>\n",
       "\t\t<td>0</td>\n",
       "\t\t<td>0</td>\n",
       "\t\t<td>7.2292</td>\n",
       "\t\t<td>None</td>\n",
       "\t\t<td>C</td>\n",
       "\t\t<td>22</td>\n",
       "\t</tr>\n",
       "\t<tr>\n",
       "\t\t<td>80</td>\n",
       "\t\t<td>1</td>\n",
       "\t\t<td>3</td>\n",
       "\t\t<td>female</td>\n",
       "\t\t<td>30</td>\n",
       "\t\t<td>0</td>\n",
       "\t\t<td>0</td>\n",
       "\t\t<td>12.475</td>\n",
       "\t\t<td>None</td>\n",
       "\t\t<td>S</td>\n",
       "\t\t<td>12</td>\n",
       "\t</tr>\n",
       "\t<tr>\n",
       "\t\t<td>345</td>\n",
       "\t\t<td>0</td>\n",
       "\t\t<td>2</td>\n",
       "\t\t<td>male</td>\n",
       "\t\t<td>36</td>\n",
       "\t\t<td>0</td>\n",
       "\t\t<td>0</td>\n",
       "\t\t<td>13.0</td>\n",
       "\t\t<td>None</td>\n",
       "\t\t<td>S</td>\n",
       "\t\t<td>20</td>\n",
       "\t</tr>\n",
       "</table></html>"
      ],
      "text/plain": [
       "   passenger  survived  pclass     sex   age  sibsp  parch     fare cabin embarked  id\n",
       "0         40         1       3  female  14.0      1      0  11.2417  None        C  10\n",
       "1        530         0       2    male  23.0      2      1  11.5000  None        S   9\n",
       "2        101         0       3  female  28.0      0      0   7.8958  None        S  17\n",
       "3        122         0       3    male   NaN      0      0   8.0500  None        S  11\n",
       "4        570         1       3    male  32.0      0      0   7.8542  None        S  15\n",
       "5        835         0       3    male  18.0      0      0   8.3000  None        S  23\n",
       "6        734         0       2    male  23.0      0      0  13.0000  None        S  14\n",
       "7         61         0       3    male  22.0      0      0   7.2292  None        C  22\n",
       "8         80         1       3  female  30.0      0      0  12.4750  None        S  12\n",
       "9        345         0       2    male  36.0      0      0  13.0000  None        S  20"
      ]
     },
     "metadata": {},
     "output_type": "display_data"
    },
    {
     "name": "stdout",
     "output_type": "stream",
     "text": [
      "                                                                                         \r"
     ]
    },
    {
     "data": {
      "text/html": [
       "711 rows X 11 columns"
      ],
      "text/plain": [
       "<IPython.core.display.HTML object>"
      ]
     },
     "metadata": {},
     "output_type": "display_data"
    },
    {
     "name": "stdout",
     "output_type": "stream",
     "text": [
      "                                                                                         \r"
     ]
    },
    {
     "data": {
      "text/html": [
       "Dropping these columns for handling missing values:"
      ],
      "text/plain": [
       "<IPython.core.display.HTML object>"
      ]
     },
     "metadata": {},
     "output_type": "display_data"
    },
    {
     "name": "stdout",
     "output_type": "stream",
     "text": [
      "['cabin']\n",
      "                                                                                         \r"
     ]
    },
    {
     "data": {
      "text/html": [
       "Sample of dataset after removing 1 columns:"
      ],
      "text/plain": [
       "<IPython.core.display.HTML object>"
      ]
     },
     "metadata": {},
     "output_type": "display_data"
    },
    {
     "data": {
      "text/html": [
       "<style type=\"text/css\">\n",
       "\ttable {border:ridge 5px;}\n",
       "\ttable td {border:inset 1px;}\n",
       "\ttable tr#HeaderRow {background-color:grey; color:white;}</style>\n",
       "<html><table>\n",
       "\t<tr id=\"HeaderRow\">\n",
       "\t\t<th>passenger</th>\n",
       "\t\t<th>survived</th>\n",
       "\t\t<th>pclass</th>\n",
       "\t\t<th>sex</th>\n",
       "\t\t<th>age</th>\n",
       "\t\t<th>sibsp</th>\n",
       "\t\t<th>parch</th>\n",
       "\t\t<th>fare</th>\n",
       "\t\t<th>embarked</th>\n",
       "\t\t<th>id</th>\n",
       "\t</tr>\n",
       "\t<tr>\n",
       "\t\t<td>530</td>\n",
       "\t\t<td>0</td>\n",
       "\t\t<td>2</td>\n",
       "\t\t<td>male</td>\n",
       "\t\t<td>23</td>\n",
       "\t\t<td>2</td>\n",
       "\t\t<td>1</td>\n",
       "\t\t<td>11.5</td>\n",
       "\t\t<td>S</td>\n",
       "\t\t<td>9</td>\n",
       "\t</tr>\n",
       "\t<tr>\n",
       "\t\t<td>122</td>\n",
       "\t\t<td>0</td>\n",
       "\t\t<td>3</td>\n",
       "\t\t<td>male</td>\n",
       "\t\t<td>None</td>\n",
       "\t\t<td>0</td>\n",
       "\t\t<td>0</td>\n",
       "\t\t<td>8.05</td>\n",
       "\t\t<td>S</td>\n",
       "\t\t<td>11</td>\n",
       "\t</tr>\n",
       "\t<tr>\n",
       "\t\t<td>591</td>\n",
       "\t\t<td>0</td>\n",
       "\t\t<td>3</td>\n",
       "\t\t<td>male</td>\n",
       "\t\t<td>35</td>\n",
       "\t\t<td>0</td>\n",
       "\t\t<td>0</td>\n",
       "\t\t<td>7.125</td>\n",
       "\t\t<td>S</td>\n",
       "\t\t<td>19</td>\n",
       "\t</tr>\n",
       "\t<tr>\n",
       "\t\t<td>734</td>\n",
       "\t\t<td>0</td>\n",
       "\t\t<td>2</td>\n",
       "\t\t<td>male</td>\n",
       "\t\t<td>23</td>\n",
       "\t\t<td>0</td>\n",
       "\t\t<td>0</td>\n",
       "\t\t<td>13.0</td>\n",
       "\t\t<td>S</td>\n",
       "\t\t<td>14</td>\n",
       "\t</tr>\n",
       "\t<tr>\n",
       "\t\t<td>40</td>\n",
       "\t\t<td>1</td>\n",
       "\t\t<td>3</td>\n",
       "\t\t<td>female</td>\n",
       "\t\t<td>14</td>\n",
       "\t\t<td>1</td>\n",
       "\t\t<td>0</td>\n",
       "\t\t<td>11.2417</td>\n",
       "\t\t<td>C</td>\n",
       "\t\t<td>10</td>\n",
       "\t</tr>\n",
       "\t<tr>\n",
       "\t\t<td>631</td>\n",
       "\t\t<td>1</td>\n",
       "\t\t<td>1</td>\n",
       "\t\t<td>male</td>\n",
       "\t\t<td>80</td>\n",
       "\t\t<td>0</td>\n",
       "\t\t<td>0</td>\n",
       "\t\t<td>30.0</td>\n",
       "\t\t<td>S</td>\n",
       "\t\t<td>18</td>\n",
       "\t</tr>\n",
       "\t<tr>\n",
       "\t\t<td>80</td>\n",
       "\t\t<td>1</td>\n",
       "\t\t<td>3</td>\n",
       "\t\t<td>female</td>\n",
       "\t\t<td>30</td>\n",
       "\t\t<td>0</td>\n",
       "\t\t<td>0</td>\n",
       "\t\t<td>12.475</td>\n",
       "\t\t<td>S</td>\n",
       "\t\t<td>12</td>\n",
       "\t</tr>\n",
       "\t<tr>\n",
       "\t\t<td>345</td>\n",
       "\t\t<td>0</td>\n",
       "\t\t<td>2</td>\n",
       "\t\t<td>male</td>\n",
       "\t\t<td>36</td>\n",
       "\t\t<td>0</td>\n",
       "\t\t<td>0</td>\n",
       "\t\t<td>13.0</td>\n",
       "\t\t<td>S</td>\n",
       "\t\t<td>20</td>\n",
       "\t</tr>\n",
       "\t<tr>\n",
       "\t\t<td>305</td>\n",
       "\t\t<td>0</td>\n",
       "\t\t<td>3</td>\n",
       "\t\t<td>male</td>\n",
       "\t\t<td>None</td>\n",
       "\t\t<td>0</td>\n",
       "\t\t<td>0</td>\n",
       "\t\t<td>8.05</td>\n",
       "\t\t<td>S</td>\n",
       "\t\t<td>13</td>\n",
       "\t</tr>\n",
       "\t<tr>\n",
       "\t\t<td>732</td>\n",
       "\t\t<td>0</td>\n",
       "\t\t<td>3</td>\n",
       "\t\t<td>male</td>\n",
       "\t\t<td>11</td>\n",
       "\t\t<td>0</td>\n",
       "\t\t<td>0</td>\n",
       "\t\t<td>18.7875</td>\n",
       "\t\t<td>C</td>\n",
       "\t\t<td>21</td>\n",
       "\t</tr>\n",
       "</table></html>"
      ],
      "text/plain": [
       "   passenger  survived  pclass     sex   age  sibsp  parch     fare embarked  id\n",
       "0        530         0       2    male  23.0      2      1  11.5000        S   9\n",
       "1        122         0       3    male   NaN      0      0   8.0500        S  11\n",
       "2        591         0       3    male  35.0      0      0   7.1250        S  19\n",
       "3        734         0       2    male  23.0      0      0  13.0000        S  14\n",
       "4         40         1       3  female  14.0      1      0  11.2417        C  10\n",
       "5        631         1       1    male  80.0      0      0  30.0000        S  18\n",
       "6         80         1       3  female  30.0      0      0  12.4750        S  12\n",
       "7        345         0       2    male  36.0      0      0  13.0000        S  20\n",
       "8        305         0       3    male   NaN      0      0   8.0500        S  13\n",
       "9        732         0       3    male  11.0      0      0  18.7875        C  21"
      ]
     },
     "metadata": {},
     "output_type": "display_data"
    },
    {
     "name": "stdout",
     "output_type": "stream",
     "text": [
      "                                                                                         \r"
     ]
    },
    {
     "data": {
      "text/html": [
       "711 rows X 10 columns"
      ],
      "text/plain": [
       "<IPython.core.display.HTML object>"
      ]
     },
     "metadata": {},
     "output_type": "display_data"
    },
    {
     "name": "stdout",
     "output_type": "stream",
     "text": [
      "                                                                                         \r"
     ]
    },
    {
     "data": {
      "text/html": [
       "Total time to find missing values in data: 14.97 sec  "
      ],
      "text/plain": [
       "<IPython.core.display.HTML object>"
      ]
     },
     "metadata": {},
     "output_type": "display_data"
    },
    {
     "name": "stdout",
     "output_type": "stream",
     "text": [
      "                                                                                         \r"
     ]
    },
    {
     "data": {
      "text/html": [
       "\n",
       "Imputing Missing Values ..."
      ],
      "text/plain": [
       "<IPython.core.display.HTML object>"
      ]
     },
     "metadata": {},
     "output_type": "display_data"
    },
    {
     "name": "stdout",
     "output_type": "stream",
     "text": [
      "                                                                                         \r"
     ]
    },
    {
     "data": {
      "text/html": [
       "Columns with their imputation method:"
      ],
      "text/plain": [
       "<IPython.core.display.HTML object>"
      ]
     },
     "metadata": {},
     "output_type": "display_data"
    },
    {
     "name": "stdout",
     "output_type": "stream",
     "text": [
      "age: mean\n",
      "                                                                                         \r"
     ]
    },
    {
     "data": {
      "text/html": [
       "Sample of dataset after Imputation:"
      ],
      "text/plain": [
       "<IPython.core.display.HTML object>"
      ]
     },
     "metadata": {},
     "output_type": "display_data"
    },
    {
     "data": {
      "text/html": [
       "<style type=\"text/css\">\n",
       "\ttable {border:ridge 5px;}\n",
       "\ttable td {border:inset 1px;}\n",
       "\ttable tr#HeaderRow {background-color:grey; color:white;}</style>\n",
       "<html><table>\n",
       "\t<tr id=\"HeaderRow\">\n",
       "\t\t<th>passenger</th>\n",
       "\t\t<th>survived</th>\n",
       "\t\t<th>pclass</th>\n",
       "\t\t<th>sex</th>\n",
       "\t\t<th>age</th>\n",
       "\t\t<th>sibsp</th>\n",
       "\t\t<th>parch</th>\n",
       "\t\t<th>fare</th>\n",
       "\t\t<th>embarked</th>\n",
       "\t\t<th>id</th>\n",
       "\t</tr>\n",
       "\t<tr>\n",
       "\t\t<td>305</td>\n",
       "\t\t<td>0</td>\n",
       "\t\t<td>3</td>\n",
       "\t\t<td>male</td>\n",
       "\t\t<td>30</td>\n",
       "\t\t<td>0</td>\n",
       "\t\t<td>0</td>\n",
       "\t\t<td>8.05</td>\n",
       "\t\t<td>S</td>\n",
       "\t\t<td>13</td>\n",
       "\t</tr>\n",
       "\t<tr>\n",
       "\t\t<td>80</td>\n",
       "\t\t<td>1</td>\n",
       "\t\t<td>3</td>\n",
       "\t\t<td>female</td>\n",
       "\t\t<td>30</td>\n",
       "\t\t<td>0</td>\n",
       "\t\t<td>0</td>\n",
       "\t\t<td>12.475</td>\n",
       "\t\t<td>S</td>\n",
       "\t\t<td>12</td>\n",
       "\t</tr>\n",
       "\t<tr>\n",
       "\t\t<td>345</td>\n",
       "\t\t<td>0</td>\n",
       "\t\t<td>2</td>\n",
       "\t\t<td>male</td>\n",
       "\t\t<td>36</td>\n",
       "\t\t<td>0</td>\n",
       "\t\t<td>0</td>\n",
       "\t\t<td>13.0</td>\n",
       "\t\t<td>S</td>\n",
       "\t\t<td>20</td>\n",
       "\t</tr>\n",
       "\t<tr>\n",
       "\t\t<td>734</td>\n",
       "\t\t<td>0</td>\n",
       "\t\t<td>2</td>\n",
       "\t\t<td>male</td>\n",
       "\t\t<td>23</td>\n",
       "\t\t<td>0</td>\n",
       "\t\t<td>0</td>\n",
       "\t\t<td>13.0</td>\n",
       "\t\t<td>S</td>\n",
       "\t\t<td>14</td>\n",
       "\t</tr>\n",
       "\t<tr>\n",
       "\t\t<td>122</td>\n",
       "\t\t<td>0</td>\n",
       "\t\t<td>3</td>\n",
       "\t\t<td>male</td>\n",
       "\t\t<td>30</td>\n",
       "\t\t<td>0</td>\n",
       "\t\t<td>0</td>\n",
       "\t\t<td>8.05</td>\n",
       "\t\t<td>S</td>\n",
       "\t\t<td>11</td>\n",
       "\t</tr>\n",
       "\t<tr>\n",
       "\t\t<td>591</td>\n",
       "\t\t<td>0</td>\n",
       "\t\t<td>3</td>\n",
       "\t\t<td>male</td>\n",
       "\t\t<td>35</td>\n",
       "\t\t<td>0</td>\n",
       "\t\t<td>0</td>\n",
       "\t\t<td>7.125</td>\n",
       "\t\t<td>S</td>\n",
       "\t\t<td>19</td>\n",
       "\t</tr>\n",
       "\t<tr>\n",
       "\t\t<td>570</td>\n",
       "\t\t<td>1</td>\n",
       "\t\t<td>3</td>\n",
       "\t\t<td>male</td>\n",
       "\t\t<td>32</td>\n",
       "\t\t<td>0</td>\n",
       "\t\t<td>0</td>\n",
       "\t\t<td>7.8542</td>\n",
       "\t\t<td>S</td>\n",
       "\t\t<td>15</td>\n",
       "\t</tr>\n",
       "\t<tr>\n",
       "\t\t<td>835</td>\n",
       "\t\t<td>0</td>\n",
       "\t\t<td>3</td>\n",
       "\t\t<td>male</td>\n",
       "\t\t<td>18</td>\n",
       "\t\t<td>0</td>\n",
       "\t\t<td>0</td>\n",
       "\t\t<td>8.3</td>\n",
       "\t\t<td>S</td>\n",
       "\t\t<td>23</td>\n",
       "\t</tr>\n",
       "\t<tr>\n",
       "\t\t<td>469</td>\n",
       "\t\t<td>0</td>\n",
       "\t\t<td>3</td>\n",
       "\t\t<td>male</td>\n",
       "\t\t<td>30</td>\n",
       "\t\t<td>0</td>\n",
       "\t\t<td>0</td>\n",
       "\t\t<td>7.725</td>\n",
       "\t\t<td>Q</td>\n",
       "\t\t<td>8</td>\n",
       "\t</tr>\n",
       "\t<tr>\n",
       "\t\t<td>774</td>\n",
       "\t\t<td>0</td>\n",
       "\t\t<td>3</td>\n",
       "\t\t<td>male</td>\n",
       "\t\t<td>30</td>\n",
       "\t\t<td>0</td>\n",
       "\t\t<td>0</td>\n",
       "\t\t<td>7.225</td>\n",
       "\t\t<td>C</td>\n",
       "\t\t<td>16</td>\n",
       "\t</tr>\n",
       "</table></html>"
      ],
      "text/plain": [
       "   passenger  survived  pclass     sex  age  sibsp  parch     fare embarked  id\n",
       "0        305         0       3    male   30      0      0   8.0500        S  13\n",
       "1         80         1       3  female   30      0      0  12.4750        S  12\n",
       "2        345         0       2    male   36      0      0  13.0000        S  20\n",
       "3        734         0       2    male   23      0      0  13.0000        S  14\n",
       "4        122         0       3    male   30      0      0   8.0500        S  11\n",
       "5        591         0       3    male   35      0      0   7.1250        S  19\n",
       "6        570         1       3    male   32      0      0   7.8542        S  15\n",
       "7        835         0       3    male   18      0      0   8.3000        S  23\n",
       "8        469         0       3    male   30      0      0   7.7250        Q   8\n",
       "9        774         0       3    male   30      0      0   7.2250        C  16"
      ]
     },
     "metadata": {},
     "output_type": "display_data"
    },
    {
     "name": "stdout",
     "output_type": "stream",
     "text": [
      "                                                                                         \r"
     ]
    },
    {
     "data": {
      "text/html": [
       "711 rows X 10 columns"
      ],
      "text/plain": [
       "<IPython.core.display.HTML object>"
      ]
     },
     "metadata": {},
     "output_type": "display_data"
    },
    {
     "name": "stdout",
     "output_type": "stream",
     "text": [
      "                                                                                         \r"
     ]
    },
    {
     "data": {
      "text/html": [
       "Time taken to perform imputation: 15.47 sec  "
      ],
      "text/plain": [
       "<IPython.core.display.HTML object>"
      ]
     },
     "metadata": {},
     "output_type": "display_data"
    },
    {
     "name": "stdout",
     "output_type": "stream",
     "text": [
      "                                                                                         \r"
     ]
    },
    {
     "data": {
      "text/html": [
       "\n",
       "Performing encoding for categorical columns ..."
      ],
      "text/plain": [
       "<IPython.core.display.HTML object>"
      ]
     },
     "metadata": {},
     "output_type": "display_data"
    },
    {
     "name": "stdout",
     "output_type": "stream",
     "text": [
      "                                                                                         \r"
     ]
    },
    {
     "data": {
      "text/html": [
       "ONE HOT Encoding these Columns:"
      ],
      "text/plain": [
       "<IPython.core.display.HTML object>"
      ]
     },
     "metadata": {},
     "output_type": "display_data"
    },
    {
     "name": "stdout",
     "output_type": "stream",
     "text": [
      "['sex', 'embarked']\n",
      "                                                                                         \r"
     ]
    },
    {
     "data": {
      "text/html": [
       "Sample of dataset after performing one hot encoding:"
      ],
      "text/plain": [
       "<IPython.core.display.HTML object>"
      ]
     },
     "metadata": {},
     "output_type": "display_data"
    },
    {
     "data": {
      "text/html": [
       "<style type=\"text/css\">\n",
       "\ttable {border:ridge 5px;}\n",
       "\ttable td {border:inset 1px;}\n",
       "\ttable tr#HeaderRow {background-color:grey; color:white;}</style>\n",
       "<html><table>\n",
       "\t<tr id=\"HeaderRow\">\n",
       "\t\t<th>passenger</th>\n",
       "\t\t<th>survived</th>\n",
       "\t\t<th>pclass</th>\n",
       "\t\t<th>sex_0</th>\n",
       "\t\t<th>sex_1</th>\n",
       "\t\t<th>age</th>\n",
       "\t\t<th>sibsp</th>\n",
       "\t\t<th>parch</th>\n",
       "\t\t<th>fare</th>\n",
       "\t\t<th>embarked_0</th>\n",
       "\t\t<th>embarked_1</th>\n",
       "\t\t<th>embarked_2</th>\n",
       "\t\t<th>id</th>\n",
       "\t</tr>\n",
       "\t<tr>\n",
       "\t\t<td>242</td>\n",
       "\t\t<td>1</td>\n",
       "\t\t<td>3</td>\n",
       "\t\t<td>1</td>\n",
       "\t\t<td>0</td>\n",
       "\t\t<td>30</td>\n",
       "\t\t<td>1</td>\n",
       "\t\t<td>0</td>\n",
       "\t\t<td>15.5</td>\n",
       "\t\t<td>0</td>\n",
       "\t\t<td>1</td>\n",
       "\t\t<td>0</td>\n",
       "\t\t<td>28</td>\n",
       "\t</tr>\n",
       "\t<tr>\n",
       "\t\t<td>507</td>\n",
       "\t\t<td>1</td>\n",
       "\t\t<td>2</td>\n",
       "\t\t<td>1</td>\n",
       "\t\t<td>0</td>\n",
       "\t\t<td>33</td>\n",
       "\t\t<td>0</td>\n",
       "\t\t<td>2</td>\n",
       "\t\t<td>26.0</td>\n",
       "\t\t<td>0</td>\n",
       "\t\t<td>0</td>\n",
       "\t\t<td>1</td>\n",
       "\t\t<td>44</td>\n",
       "\t</tr>\n",
       "\t<tr>\n",
       "\t\t<td>772</td>\n",
       "\t\t<td>0</td>\n",
       "\t\t<td>3</td>\n",
       "\t\t<td>0</td>\n",
       "\t\t<td>1</td>\n",
       "\t\t<td>48</td>\n",
       "\t\t<td>0</td>\n",
       "\t\t<td>0</td>\n",
       "\t\t<td>7.8542</td>\n",
       "\t\t<td>0</td>\n",
       "\t\t<td>0</td>\n",
       "\t\t<td>1</td>\n",
       "\t\t<td>52</td>\n",
       "\t</tr>\n",
       "\t<tr>\n",
       "\t\t<td>587</td>\n",
       "\t\t<td>0</td>\n",
       "\t\t<td>2</td>\n",
       "\t\t<td>0</td>\n",
       "\t\t<td>1</td>\n",
       "\t\t<td>47</td>\n",
       "\t\t<td>0</td>\n",
       "\t\t<td>0</td>\n",
       "\t\t<td>15.0</td>\n",
       "\t\t<td>0</td>\n",
       "\t\t<td>0</td>\n",
       "\t\t<td>1</td>\n",
       "\t\t<td>60</td>\n",
       "\t</tr>\n",
       "\t<tr>\n",
       "\t\t<td>240</td>\n",
       "\t\t<td>0</td>\n",
       "\t\t<td>2</td>\n",
       "\t\t<td>0</td>\n",
       "\t\t<td>1</td>\n",
       "\t\t<td>33</td>\n",
       "\t\t<td>0</td>\n",
       "\t\t<td>0</td>\n",
       "\t\t<td>12.275</td>\n",
       "\t\t<td>0</td>\n",
       "\t\t<td>0</td>\n",
       "\t\t<td>1</td>\n",
       "\t\t<td>76</td>\n",
       "\t</tr>\n",
       "\t<tr>\n",
       "\t\t<td>505</td>\n",
       "\t\t<td>1</td>\n",
       "\t\t<td>1</td>\n",
       "\t\t<td>1</td>\n",
       "\t\t<td>0</td>\n",
       "\t\t<td>16</td>\n",
       "\t\t<td>0</td>\n",
       "\t\t<td>0</td>\n",
       "\t\t<td>86.5</td>\n",
       "\t\t<td>0</td>\n",
       "\t\t<td>0</td>\n",
       "\t\t<td>1</td>\n",
       "\t\t<td>84</td>\n",
       "\t</tr>\n",
       "\t<tr>\n",
       "\t\t<td>852</td>\n",
       "\t\t<td>0</td>\n",
       "\t\t<td>3</td>\n",
       "\t\t<td>0</td>\n",
       "\t\t<td>1</td>\n",
       "\t\t<td>74</td>\n",
       "\t\t<td>0</td>\n",
       "\t\t<td>0</td>\n",
       "\t\t<td>7.775</td>\n",
       "\t\t<td>0</td>\n",
       "\t\t<td>0</td>\n",
       "\t\t<td>1</td>\n",
       "\t\t<td>68</td>\n",
       "\t</tr>\n",
       "\t<tr>\n",
       "\t\t<td>38</td>\n",
       "\t\t<td>0</td>\n",
       "\t\t<td>3</td>\n",
       "\t\t<td>0</td>\n",
       "\t\t<td>1</td>\n",
       "\t\t<td>21</td>\n",
       "\t\t<td>0</td>\n",
       "\t\t<td>0</td>\n",
       "\t\t<td>8.05</td>\n",
       "\t\t<td>0</td>\n",
       "\t\t<td>0</td>\n",
       "\t\t<td>1</td>\n",
       "\t\t<td>36</td>\n",
       "\t</tr>\n",
       "\t<tr>\n",
       "\t\t<td>345</td>\n",
       "\t\t<td>0</td>\n",
       "\t\t<td>2</td>\n",
       "\t\t<td>0</td>\n",
       "\t\t<td>1</td>\n",
       "\t\t<td>36</td>\n",
       "\t\t<td>0</td>\n",
       "\t\t<td>0</td>\n",
       "\t\t<td>13.0</td>\n",
       "\t\t<td>0</td>\n",
       "\t\t<td>0</td>\n",
       "\t\t<td>1</td>\n",
       "\t\t<td>20</td>\n",
       "\t</tr>\n",
       "\t<tr>\n",
       "\t\t<td>80</td>\n",
       "\t\t<td>1</td>\n",
       "\t\t<td>3</td>\n",
       "\t\t<td>1</td>\n",
       "\t\t<td>0</td>\n",
       "\t\t<td>30</td>\n",
       "\t\t<td>0</td>\n",
       "\t\t<td>0</td>\n",
       "\t\t<td>12.475</td>\n",
       "\t\t<td>0</td>\n",
       "\t\t<td>0</td>\n",
       "\t\t<td>1</td>\n",
       "\t\t<td>12</td>\n",
       "\t</tr>\n",
       "</table></html>"
      ],
      "text/plain": [
       "           survived  pclass  sex_0  sex_1  age  sibsp  parch     fare  embarked_0  embarked_1  embarked_2  id\n",
       "passenger                                                                                                    \n",
       "242               1       3      1      0   30      1      0  15.5000           0           1           0  28\n",
       "507               1       2      1      0   33      0      2  26.0000           0           0           1  44\n",
       "772               0       3      0      1   48      0      0   7.8542           0           0           1  52\n",
       "587               0       2      0      1   47      0      0  15.0000           0           0           1  60\n",
       "240               0       2      0      1   33      0      0  12.2750           0           0           1  76\n",
       "505               1       1      1      0   16      0      0  86.5000           0           0           1  84\n",
       "852               0       3      0      1   74      0      0   7.7750           0           0           1  68\n",
       "38                0       3      0      1   21      0      0   8.0500           0           0           1  36\n",
       "345               0       2      0      1   36      0      0  13.0000           0           0           1  20\n",
       "80                1       3      1      0   30      0      0  12.4750           0           0           1  12"
      ]
     },
     "metadata": {},
     "output_type": "display_data"
    },
    {
     "name": "stdout",
     "output_type": "stream",
     "text": [
      "                                                                                         \r"
     ]
    },
    {
     "data": {
      "text/html": [
       "711 rows X 13 columns"
      ],
      "text/plain": [
       "<IPython.core.display.HTML object>"
      ]
     },
     "metadata": {},
     "output_type": "display_data"
    },
    {
     "name": "stdout",
     "output_type": "stream",
     "text": [
      "                                                                                         \r"
     ]
    },
    {
     "data": {
      "text/html": [
       "Time taken to encode the columns: 17.96 sec"
      ],
      "text/plain": [
       "<IPython.core.display.HTML object>"
      ]
     },
     "metadata": {},
     "output_type": "display_data"
    },
    {
     "name": "stdout",
     "output_type": "stream",
     "text": [
      "                                                                                         \r"
     ]
    },
    {
     "data": {
      "text/html": [
       "\n",
       "            <style>\n",
       "                .custom-div {\n",
       "                    background-color: lightgray;\n",
       "                    color: #000000;\n",
       "                    padding: 10px;\n",
       "                    border-radius: 8px;\n",
       "                    box-shadow: 0 3px 4px rgba(0 -  0 -  0 -  0.2);\n",
       "                    margin-bottom: 10px;\n",
       "                    text-align: center;\n",
       "                }\n",
       "            </style>\n",
       "        <br><div class=\"custom-div\"><h3><span style=\"color: green;\">1. Feature Exploration -> 2. Feature Engineering -></span> 3. Data Preparation -> 4. Model Training & Evaluation<center></h3></center></div>"
      ],
      "text/plain": [
       "<IPython.core.display.HTML object>"
      ]
     },
     "metadata": {},
     "output_type": "display_data"
    },
    {
     "name": "stdout",
     "output_type": "stream",
     "text": [
      "                                                                                         \r"
     ]
    },
    {
     "data": {
      "text/html": [
       "Data preparation started ..."
      ],
      "text/plain": [
       "<IPython.core.display.HTML object>"
      ]
     },
     "metadata": {},
     "output_type": "display_data"
    },
    {
     "name": "stdout",
     "output_type": "stream",
     "text": [
      "                                                                                         \r"
     ]
    },
    {
     "data": {
      "text/html": [
       "\n",
       "Outlier preprocessing ..."
      ],
      "text/plain": [
       "<IPython.core.display.HTML object>"
      ]
     },
     "metadata": {},
     "output_type": "display_data"
    },
    {
     "name": "stdout",
     "output_type": "stream",
     "text": [
      "Columns with outlier percentage :-                                                                                                                                                                                                                                                                                                                                                                                                                                                                                  \n",
      "  ColumnName  OutlierPercentage\n",
      "0      sibsp           5.766526\n",
      "1        age           7.313643\n",
      "2      parch          23.628692\n",
      "3       fare          13.502110\n",
      "                                                                                         \r"
     ]
    },
    {
     "data": {
      "text/html": [
       "Deleting rows of these columns:"
      ],
      "text/plain": [
       "<IPython.core.display.HTML object>"
      ]
     },
     "metadata": {},
     "output_type": "display_data"
    },
    {
     "name": "stdout",
     "output_type": "stream",
     "text": [
      "['sibsp', 'age']\n",
      "                                                                                         \r"
     ]
    },
    {
     "data": {
      "text/html": [
       "Sample of dataset after removing outlier rows:"
      ],
      "text/plain": [
       "<IPython.core.display.HTML object>"
      ]
     },
     "metadata": {},
     "output_type": "display_data"
    },
    {
     "data": {
      "text/html": [
       "<style type=\"text/css\">\n",
       "\ttable {border:ridge 5px;}\n",
       "\ttable td {border:inset 1px;}\n",
       "\ttable tr#HeaderRow {background-color:grey; color:white;}</style>\n",
       "<html><table>\n",
       "\t<tr id=\"HeaderRow\">\n",
       "\t\t<th>passenger</th>\n",
       "\t\t<th>survived</th>\n",
       "\t\t<th>pclass</th>\n",
       "\t\t<th>sex_0</th>\n",
       "\t\t<th>sex_1</th>\n",
       "\t\t<th>age</th>\n",
       "\t\t<th>sibsp</th>\n",
       "\t\t<th>parch</th>\n",
       "\t\t<th>fare</th>\n",
       "\t\t<th>embarked_0</th>\n",
       "\t\t<th>embarked_1</th>\n",
       "\t\t<th>embarked_2</th>\n",
       "\t\t<th>id</th>\n",
       "\t</tr>\n",
       "\t<tr>\n",
       "\t\t<td>856</td>\n",
       "\t\t<td>1</td>\n",
       "\t\t<td>3</td>\n",
       "\t\t<td>1</td>\n",
       "\t\t<td>0</td>\n",
       "\t\t<td>18</td>\n",
       "\t\t<td>0</td>\n",
       "\t\t<td>1</td>\n",
       "\t\t<td>9.35</td>\n",
       "\t\t<td>0</td>\n",
       "\t\t<td>0</td>\n",
       "\t\t<td>1</td>\n",
       "\t\t<td>35</td>\n",
       "\t</tr>\n",
       "\t<tr>\n",
       "\t\t<td>713</td>\n",
       "\t\t<td>1</td>\n",
       "\t\t<td>1</td>\n",
       "\t\t<td>0</td>\n",
       "\t\t<td>1</td>\n",
       "\t\t<td>48</td>\n",
       "\t\t<td>1</td>\n",
       "\t\t<td>0</td>\n",
       "\t\t<td>52.0</td>\n",
       "\t\t<td>0</td>\n",
       "\t\t<td>0</td>\n",
       "\t\t<td>1</td>\n",
       "\t\t<td>51</td>\n",
       "\t</tr>\n",
       "\t<tr>\n",
       "\t\t<td>19</td>\n",
       "\t\t<td>0</td>\n",
       "\t\t<td>3</td>\n",
       "\t\t<td>1</td>\n",
       "\t\t<td>0</td>\n",
       "\t\t<td>31</td>\n",
       "\t\t<td>1</td>\n",
       "\t\t<td>0</td>\n",
       "\t\t<td>18.0</td>\n",
       "\t\t<td>0</td>\n",
       "\t\t<td>0</td>\n",
       "\t\t<td>1</td>\n",
       "\t\t<td>59</td>\n",
       "\t</tr>\n",
       "\t<tr>\n",
       "\t\t<td>263</td>\n",
       "\t\t<td>0</td>\n",
       "\t\t<td>1</td>\n",
       "\t\t<td>0</td>\n",
       "\t\t<td>1</td>\n",
       "\t\t<td>52</td>\n",
       "\t\t<td>1</td>\n",
       "\t\t<td>1</td>\n",
       "\t\t<td>79.65</td>\n",
       "\t\t<td>0</td>\n",
       "\t\t<td>0</td>\n",
       "\t\t<td>1</td>\n",
       "\t\t<td>67</td>\n",
       "\t</tr>\n",
       "\t<tr>\n",
       "\t\t<td>324</td>\n",
       "\t\t<td>1</td>\n",
       "\t\t<td>2</td>\n",
       "\t\t<td>1</td>\n",
       "\t\t<td>0</td>\n",
       "\t\t<td>22</td>\n",
       "\t\t<td>1</td>\n",
       "\t\t<td>1</td>\n",
       "\t\t<td>29.0</td>\n",
       "\t\t<td>0</td>\n",
       "\t\t<td>0</td>\n",
       "\t\t<td>1</td>\n",
       "\t\t<td>83</td>\n",
       "\t</tr>\n",
       "\t<tr>\n",
       "\t\t<td>854</td>\n",
       "\t\t<td>1</td>\n",
       "\t\t<td>1</td>\n",
       "\t\t<td>1</td>\n",
       "\t\t<td>0</td>\n",
       "\t\t<td>16</td>\n",
       "\t\t<td>0</td>\n",
       "\t\t<td>1</td>\n",
       "\t\t<td>39.4</td>\n",
       "\t\t<td>0</td>\n",
       "\t\t<td>0</td>\n",
       "\t\t<td>1</td>\n",
       "\t\t<td>91</td>\n",
       "\t</tr>\n",
       "\t<tr>\n",
       "\t\t<td>59</td>\n",
       "\t\t<td>1</td>\n",
       "\t\t<td>2</td>\n",
       "\t\t<td>1</td>\n",
       "\t\t<td>0</td>\n",
       "\t\t<td>5</td>\n",
       "\t\t<td>1</td>\n",
       "\t\t<td>2</td>\n",
       "\t\t<td>27.75</td>\n",
       "\t\t<td>0</td>\n",
       "\t\t<td>0</td>\n",
       "\t\t<td>1</td>\n",
       "\t\t<td>75</td>\n",
       "\t</tr>\n",
       "\t<tr>\n",
       "\t\t<td>448</td>\n",
       "\t\t<td>1</td>\n",
       "\t\t<td>1</td>\n",
       "\t\t<td>0</td>\n",
       "\t\t<td>1</td>\n",
       "\t\t<td>34</td>\n",
       "\t\t<td>0</td>\n",
       "\t\t<td>0</td>\n",
       "\t\t<td>26.55</td>\n",
       "\t\t<td>0</td>\n",
       "\t\t<td>0</td>\n",
       "\t\t<td>1</td>\n",
       "\t\t<td>43</td>\n",
       "\t</tr>\n",
       "\t<tr>\n",
       "\t\t<td>591</td>\n",
       "\t\t<td>0</td>\n",
       "\t\t<td>3</td>\n",
       "\t\t<td>0</td>\n",
       "\t\t<td>1</td>\n",
       "\t\t<td>35</td>\n",
       "\t\t<td>0</td>\n",
       "\t\t<td>0</td>\n",
       "\t\t<td>7.125</td>\n",
       "\t\t<td>0</td>\n",
       "\t\t<td>0</td>\n",
       "\t\t<td>1</td>\n",
       "\t\t<td>19</td>\n",
       "\t</tr>\n",
       "\t<tr>\n",
       "\t\t<td>122</td>\n",
       "\t\t<td>0</td>\n",
       "\t\t<td>3</td>\n",
       "\t\t<td>0</td>\n",
       "\t\t<td>1</td>\n",
       "\t\t<td>30</td>\n",
       "\t\t<td>0</td>\n",
       "\t\t<td>0</td>\n",
       "\t\t<td>8.05</td>\n",
       "\t\t<td>0</td>\n",
       "\t\t<td>0</td>\n",
       "\t\t<td>1</td>\n",
       "\t\t<td>11</td>\n",
       "\t</tr>\n",
       "</table></html>"
      ],
      "text/plain": [
       "           survived  pclass  sex_0  sex_1  age  sibsp  parch    fare  embarked_0  embarked_1  embarked_2  id\n",
       "passenger                                                                                                   \n",
       "856               1       3      1      0   18      0      1   9.350           0           0           1  35\n",
       "713               1       1      0      1   48      1      0  52.000           0           0           1  51\n",
       "19                0       3      1      0   31      1      0  18.000           0           0           1  59\n",
       "263               0       1      0      1   52      1      1  79.650           0           0           1  67\n",
       "324               1       2      1      0   22      1      1  29.000           0           0           1  83\n",
       "854               1       1      1      0   16      0      1  39.400           0           0           1  91\n",
       "59                1       2      1      0    5      1      2  27.750           0           0           1  75\n",
       "448               1       1      0      1   34      0      0  26.550           0           0           1  43\n",
       "591               0       3      0      1   35      0      0   7.125           0           0           1  19\n",
       "122               0       3      0      1   30      0      0   8.050           0           0           1  11"
      ]
     },
     "metadata": {},
     "output_type": "display_data"
    },
    {
     "name": "stdout",
     "output_type": "stream",
     "text": [
      "                                                                                         \r"
     ]
    },
    {
     "data": {
      "text/html": [
       "623 rows X 13 columns"
      ],
      "text/plain": [
       "<IPython.core.display.HTML object>"
      ]
     },
     "metadata": {},
     "output_type": "display_data"
    },
    {
     "name": "stdout",
     "output_type": "stream",
     "text": [
      "                                                                                         \r"
     ]
    },
    {
     "data": {
      "text/html": [
       "median inplace of outliers:"
      ],
      "text/plain": [
       "<IPython.core.display.HTML object>"
      ]
     },
     "metadata": {},
     "output_type": "display_data"
    },
    {
     "name": "stdout",
     "output_type": "stream",
     "text": [
      "['fare', 'parch']\n",
      "                                                                                         \r"
     ]
    },
    {
     "data": {
      "text/html": [
       "Sample of dataset after performing MEDIAN inplace:"
      ],
      "text/plain": [
       "<IPython.core.display.HTML object>"
      ]
     },
     "metadata": {},
     "output_type": "display_data"
    },
    {
     "data": {
      "text/html": [
       "<style type=\"text/css\">\n",
       "\ttable {border:ridge 5px;}\n",
       "\ttable td {border:inset 1px;}\n",
       "\ttable tr#HeaderRow {background-color:grey; color:white;}</style>\n",
       "<html><table>\n",
       "\t<tr id=\"HeaderRow\">\n",
       "\t\t<th>passenger</th>\n",
       "\t\t<th>survived</th>\n",
       "\t\t<th>pclass</th>\n",
       "\t\t<th>sex_0</th>\n",
       "\t\t<th>sex_1</th>\n",
       "\t\t<th>age</th>\n",
       "\t\t<th>sibsp</th>\n",
       "\t\t<th>parch</th>\n",
       "\t\t<th>fare</th>\n",
       "\t\t<th>embarked_0</th>\n",
       "\t\t<th>embarked_1</th>\n",
       "\t\t<th>embarked_2</th>\n",
       "\t\t<th>id</th>\n",
       "\t</tr>\n",
       "\t<tr>\n",
       "\t\t<td>856</td>\n",
       "\t\t<td>1</td>\n",
       "\t\t<td>3</td>\n",
       "\t\t<td>1</td>\n",
       "\t\t<td>0</td>\n",
       "\t\t<td>18</td>\n",
       "\t\t<td>0</td>\n",
       "\t\t<td>0</td>\n",
       "\t\t<td>9.35</td>\n",
       "\t\t<td>0</td>\n",
       "\t\t<td>0</td>\n",
       "\t\t<td>1</td>\n",
       "\t\t<td>35</td>\n",
       "\t</tr>\n",
       "\t<tr>\n",
       "\t\t<td>713</td>\n",
       "\t\t<td>1</td>\n",
       "\t\t<td>1</td>\n",
       "\t\t<td>0</td>\n",
       "\t\t<td>1</td>\n",
       "\t\t<td>48</td>\n",
       "\t\t<td>1</td>\n",
       "\t\t<td>0</td>\n",
       "\t\t<td>52.0</td>\n",
       "\t\t<td>0</td>\n",
       "\t\t<td>0</td>\n",
       "\t\t<td>1</td>\n",
       "\t\t<td>51</td>\n",
       "\t</tr>\n",
       "\t<tr>\n",
       "\t\t<td>19</td>\n",
       "\t\t<td>0</td>\n",
       "\t\t<td>3</td>\n",
       "\t\t<td>1</td>\n",
       "\t\t<td>0</td>\n",
       "\t\t<td>31</td>\n",
       "\t\t<td>1</td>\n",
       "\t\t<td>0</td>\n",
       "\t\t<td>18.0</td>\n",
       "\t\t<td>0</td>\n",
       "\t\t<td>0</td>\n",
       "\t\t<td>1</td>\n",
       "\t\t<td>59</td>\n",
       "\t</tr>\n",
       "\t<tr>\n",
       "\t\t<td>263</td>\n",
       "\t\t<td>0</td>\n",
       "\t\t<td>1</td>\n",
       "\t\t<td>0</td>\n",
       "\t\t<td>1</td>\n",
       "\t\t<td>52</td>\n",
       "\t\t<td>1</td>\n",
       "\t\t<td>0</td>\n",
       "\t\t<td>13.0</td>\n",
       "\t\t<td>0</td>\n",
       "\t\t<td>0</td>\n",
       "\t\t<td>1</td>\n",
       "\t\t<td>67</td>\n",
       "\t</tr>\n",
       "\t<tr>\n",
       "\t\t<td>324</td>\n",
       "\t\t<td>1</td>\n",
       "\t\t<td>2</td>\n",
       "\t\t<td>1</td>\n",
       "\t\t<td>0</td>\n",
       "\t\t<td>22</td>\n",
       "\t\t<td>1</td>\n",
       "\t\t<td>0</td>\n",
       "\t\t<td>29.0</td>\n",
       "\t\t<td>0</td>\n",
       "\t\t<td>0</td>\n",
       "\t\t<td>1</td>\n",
       "\t\t<td>83</td>\n",
       "\t</tr>\n",
       "\t<tr>\n",
       "\t\t<td>854</td>\n",
       "\t\t<td>1</td>\n",
       "\t\t<td>1</td>\n",
       "\t\t<td>1</td>\n",
       "\t\t<td>0</td>\n",
       "\t\t<td>16</td>\n",
       "\t\t<td>0</td>\n",
       "\t\t<td>0</td>\n",
       "\t\t<td>39.4</td>\n",
       "\t\t<td>0</td>\n",
       "\t\t<td>0</td>\n",
       "\t\t<td>1</td>\n",
       "\t\t<td>91</td>\n",
       "\t</tr>\n",
       "\t<tr>\n",
       "\t\t<td>59</td>\n",
       "\t\t<td>1</td>\n",
       "\t\t<td>2</td>\n",
       "\t\t<td>1</td>\n",
       "\t\t<td>0</td>\n",
       "\t\t<td>5</td>\n",
       "\t\t<td>1</td>\n",
       "\t\t<td>0</td>\n",
       "\t\t<td>27.75</td>\n",
       "\t\t<td>0</td>\n",
       "\t\t<td>0</td>\n",
       "\t\t<td>1</td>\n",
       "\t\t<td>75</td>\n",
       "\t</tr>\n",
       "\t<tr>\n",
       "\t\t<td>448</td>\n",
       "\t\t<td>1</td>\n",
       "\t\t<td>1</td>\n",
       "\t\t<td>0</td>\n",
       "\t\t<td>1</td>\n",
       "\t\t<td>34</td>\n",
       "\t\t<td>0</td>\n",
       "\t\t<td>0</td>\n",
       "\t\t<td>26.55</td>\n",
       "\t\t<td>0</td>\n",
       "\t\t<td>0</td>\n",
       "\t\t<td>1</td>\n",
       "\t\t<td>43</td>\n",
       "\t</tr>\n",
       "\t<tr>\n",
       "\t\t<td>591</td>\n",
       "\t\t<td>0</td>\n",
       "\t\t<td>3</td>\n",
       "\t\t<td>0</td>\n",
       "\t\t<td>1</td>\n",
       "\t\t<td>35</td>\n",
       "\t\t<td>0</td>\n",
       "\t\t<td>0</td>\n",
       "\t\t<td>7.125</td>\n",
       "\t\t<td>0</td>\n",
       "\t\t<td>0</td>\n",
       "\t\t<td>1</td>\n",
       "\t\t<td>19</td>\n",
       "\t</tr>\n",
       "\t<tr>\n",
       "\t\t<td>122</td>\n",
       "\t\t<td>0</td>\n",
       "\t\t<td>3</td>\n",
       "\t\t<td>0</td>\n",
       "\t\t<td>1</td>\n",
       "\t\t<td>30</td>\n",
       "\t\t<td>0</td>\n",
       "\t\t<td>0</td>\n",
       "\t\t<td>8.05</td>\n",
       "\t\t<td>0</td>\n",
       "\t\t<td>0</td>\n",
       "\t\t<td>1</td>\n",
       "\t\t<td>11</td>\n",
       "\t</tr>\n",
       "</table></html>"
      ],
      "text/plain": [
       "           survived  pclass  sex_0  sex_1  age  sibsp  parch    fare  embarked_0  embarked_1  embarked_2  id\n",
       "passenger                                                                                                   \n",
       "856               1       3      1      0   18      0      0   9.350           0           0           1  35\n",
       "713               1       1      0      1   48      1      0  52.000           0           0           1  51\n",
       "19                0       3      1      0   31      1      0  18.000           0           0           1  59\n",
       "263               0       1      0      1   52      1      0  13.000           0           0           1  67\n",
       "324               1       2      1      0   22      1      0  29.000           0           0           1  83\n",
       "854               1       1      1      0   16      0      0  39.400           0           0           1  91\n",
       "59                1       2      1      0    5      1      0  27.750           0           0           1  75\n",
       "448               1       1      0      1   34      0      0  26.550           0           0           1  43\n",
       "591               0       3      0      1   35      0      0   7.125           0           0           1  19\n",
       "122               0       3      0      1   30      0      0   8.050           0           0           1  11"
      ]
     },
     "metadata": {},
     "output_type": "display_data"
    },
    {
     "name": "stdout",
     "output_type": "stream",
     "text": [
      "                                                                                         \r"
     ]
    },
    {
     "data": {
      "text/html": [
       "623 rows X 13 columns"
      ],
      "text/plain": [
       "<IPython.core.display.HTML object>"
      ]
     },
     "metadata": {},
     "output_type": "display_data"
    },
    {
     "name": "stdout",
     "output_type": "stream",
     "text": [
      "                                                                                         \r"
     ]
    },
    {
     "data": {
      "text/html": [
       "Time Taken by Outlier processing: 46.84 sec "
      ],
      "text/plain": [
       "<IPython.core.display.HTML object>"
      ]
     },
     "metadata": {},
     "output_type": "display_data"
    },
    {
     "name": "stdout",
     "output_type": "stream",
     "text": [
      "                                                                                         \r"
     ]
    },
    {
     "data": {
      "text/html": [
       "\n",
       "Checking imbalance data ..."
      ],
      "text/plain": [
       "<IPython.core.display.HTML object>"
      ]
     },
     "metadata": {},
     "output_type": "display_data"
    },
    {
     "name": "stdout",
     "output_type": "stream",
     "text": [
      "                                                                                         \r"
     ]
    },
    {
     "data": {
      "text/html": [
       "Imbalance Not Found."
      ],
      "text/plain": [
       "<IPython.core.display.HTML object>"
      ]
     },
     "metadata": {},
     "output_type": "display_data"
    },
    {
     "name": "stdout",
     "output_type": "stream",
     "text": [
      "                                                                                         \r"
     ]
    },
    {
     "data": {
      "text/html": [
       "\n",
       "Feature selection using lasso ..."
      ],
      "text/plain": [
       "<IPython.core.display.HTML object>"
      ]
     },
     "metadata": {},
     "output_type": "display_data"
    },
    {
     "name": "stdout",
     "output_type": "stream",
     "text": [
      "                                                                                         \r"
     ]
    },
    {
     "data": {
      "text/html": [
       "feature selected by lasso:"
      ],
      "text/plain": [
       "<IPython.core.display.HTML object>"
      ]
     },
     "metadata": {},
     "output_type": "display_data"
    },
    {
     "name": "stdout",
     "output_type": "stream",
     "text": [
      "['sex_0', 'embarked_1', 'sex_1', 'embarked_0', 'age', 'embarked_2', 'passenger', 'sibsp', 'fare', 'pclass']\n",
      "                                                                                         \r"
     ]
    },
    {
     "data": {
      "text/html": [
       "Total time taken by feature selection: 3.89 sec  "
      ],
      "text/plain": [
       "<IPython.core.display.HTML object>"
      ]
     },
     "metadata": {},
     "output_type": "display_data"
    },
    {
     "name": "stdout",
     "output_type": "stream",
     "text": [
      "                                                                                         \r"
     ]
    },
    {
     "data": {
      "text/html": [
       "\n",
       "scaling Features of lasso data ..."
      ],
      "text/plain": [
       "<IPython.core.display.HTML object>"
      ]
     },
     "metadata": {},
     "output_type": "display_data"
    },
    {
     "name": "stdout",
     "output_type": "stream",
     "text": [
      "                                                                                         \r"
     ]
    },
    {
     "data": {
      "text/html": [
       "columns that will be scaled: "
      ],
      "text/plain": [
       "<IPython.core.display.HTML object>"
      ]
     },
     "metadata": {},
     "output_type": "display_data"
    },
    {
     "name": "stdout",
     "output_type": "stream",
     "text": [
      "['age', 'passenger', 'sibsp', 'fare', 'pclass']\n",
      "                                                                                         \r"
     ]
    },
    {
     "data": {
      "text/html": [
       "Dataset sample after scaling:"
      ],
      "text/plain": [
       "<IPython.core.display.HTML object>"
      ]
     },
     "metadata": {},
     "output_type": "display_data"
    },
    {
     "data": {
      "text/html": [
       "<style type=\"text/css\">\n",
       "\ttable {border:ridge 5px;}\n",
       "\ttable td {border:inset 1px;}\n",
       "\ttable tr#HeaderRow {background-color:grey; color:white;}</style>\n",
       "<html><table>\n",
       "\t<tr id=\"HeaderRow\">\n",
       "\t\t<th>sex_0</th>\n",
       "\t\t<th>embarked_1</th>\n",
       "\t\t<th>sex_1</th>\n",
       "\t\t<th>embarked_0</th>\n",
       "\t\t<th>embarked_2</th>\n",
       "\t\t<th>survived</th>\n",
       "\t\t<th>id</th>\n",
       "\t\t<th>age</th>\n",
       "\t\t<th>passenger</th>\n",
       "\t\t<th>sibsp</th>\n",
       "\t\t<th>fare</th>\n",
       "\t\t<th>pclass</th>\n",
       "\t</tr>\n",
       "\t<tr>\n",
       "\t\t<td>1</td>\n",
       "\t\t<td>0</td>\n",
       "\t\t<td>0</td>\n",
       "\t\t<td>1</td>\n",
       "\t\t<td>0</td>\n",
       "\t\t<td>1</td>\n",
       "\t\t<td>10</td>\n",
       "\t\t<td>0.21568627450980393</td>\n",
       "\t\t<td>0.043820224719101124</td>\n",
       "\t\t<td>0.5</td>\n",
       "\t\t<td>0.19722280701754386</td>\n",
       "\t\t<td>1.0</td>\n",
       "\t</tr>\n",
       "\t<tr>\n",
       "\t\t<td>1</td>\n",
       "\t\t<td>0</td>\n",
       "\t\t<td>0</td>\n",
       "\t\t<td>0</td>\n",
       "\t\t<td>1</td>\n",
       "\t\t<td>1</td>\n",
       "\t\t<td>12</td>\n",
       "\t\t<td>0.5294117647058824</td>\n",
       "\t\t<td>0.08876404494382023</td>\n",
       "\t\t<td>0.0</td>\n",
       "\t\t<td>0.218859649122807</td>\n",
       "\t\t<td>1.0</td>\n",
       "\t</tr>\n",
       "\t<tr>\n",
       "\t\t<td>0</td>\n",
       "\t\t<td>0</td>\n",
       "\t\t<td>1</td>\n",
       "\t\t<td>0</td>\n",
       "\t\t<td>1</td>\n",
       "\t\t<td>0</td>\n",
       "\t\t<td>13</td>\n",
       "\t\t<td>0.5294117647058824</td>\n",
       "\t\t<td>0.3415730337078652</td>\n",
       "\t\t<td>0.0</td>\n",
       "\t\t<td>0.14122807017543862</td>\n",
       "\t\t<td>1.0</td>\n",
       "\t</tr>\n",
       "\t<tr>\n",
       "\t\t<td>0</td>\n",
       "\t\t<td>0</td>\n",
       "\t\t<td>1</td>\n",
       "\t\t<td>0</td>\n",
       "\t\t<td>1</td>\n",
       "\t\t<td>0</td>\n",
       "\t\t<td>14</td>\n",
       "\t\t<td>0.39215686274509803</td>\n",
       "\t\t<td>0.8235955056179776</td>\n",
       "\t\t<td>0.0</td>\n",
       "\t\t<td>0.22807017543859648</td>\n",
       "\t\t<td>0.5</td>\n",
       "\t</tr>\n",
       "\t<tr>\n",
       "\t\t<td>0</td>\n",
       "\t\t<td>0</td>\n",
       "\t\t<td>1</td>\n",
       "\t\t<td>1</td>\n",
       "\t\t<td>0</td>\n",
       "\t\t<td>0</td>\n",
       "\t\t<td>16</td>\n",
       "\t\t<td>0.5294117647058824</td>\n",
       "\t\t<td>0.8685393258426967</td>\n",
       "\t\t<td>0.0</td>\n",
       "\t\t<td>0.1267543859649123</td>\n",
       "\t\t<td>1.0</td>\n",
       "\t</tr>\n",
       "\t<tr>\n",
       "\t\t<td>1</td>\n",
       "\t\t<td>0</td>\n",
       "\t\t<td>0</td>\n",
       "\t\t<td>0</td>\n",
       "\t\t<td>1</td>\n",
       "\t\t<td>0</td>\n",
       "\t\t<td>17</td>\n",
       "\t\t<td>0.49019607843137253</td>\n",
       "\t\t<td>0.11235955056179775</td>\n",
       "\t\t<td>0.0</td>\n",
       "\t\t<td>0.13852280701754385</td>\n",
       "\t\t<td>1.0</td>\n",
       "\t</tr>\n",
       "\t<tr>\n",
       "\t\t<td>0</td>\n",
       "\t\t<td>0</td>\n",
       "\t\t<td>1</td>\n",
       "\t\t<td>0</td>\n",
       "\t\t<td>1</td>\n",
       "\t\t<td>1</td>\n",
       "\t\t<td>15</td>\n",
       "\t\t<td>0.5686274509803921</td>\n",
       "\t\t<td>0.6393258426966292</td>\n",
       "\t\t<td>0.0</td>\n",
       "\t\t<td>0.13779298245614036</td>\n",
       "\t\t<td>1.0</td>\n",
       "\t</tr>\n",
       "\t<tr>\n",
       "\t\t<td>0</td>\n",
       "\t\t<td>0</td>\n",
       "\t\t<td>1</td>\n",
       "\t\t<td>0</td>\n",
       "\t\t<td>1</td>\n",
       "\t\t<td>0</td>\n",
       "\t\t<td>11</td>\n",
       "\t\t<td>0.5294117647058824</td>\n",
       "\t\t<td>0.13595505617977527</td>\n",
       "\t\t<td>0.0</td>\n",
       "\t\t<td>0.14122807017543862</td>\n",
       "\t\t<td>1.0</td>\n",
       "\t</tr>\n",
       "\t<tr>\n",
       "\t\t<td>0</td>\n",
       "\t\t<td>0</td>\n",
       "\t\t<td>1</td>\n",
       "\t\t<td>0</td>\n",
       "\t\t<td>1</td>\n",
       "\t\t<td>0</td>\n",
       "\t\t<td>9</td>\n",
       "\t\t<td>0.39215686274509803</td>\n",
       "\t\t<td>0.5943820224719101</td>\n",
       "\t\t<td>1.0</td>\n",
       "\t\t<td>0.20175438596491227</td>\n",
       "\t\t<td>0.5</td>\n",
       "\t</tr>\n",
       "\t<tr>\n",
       "\t\t<td>0</td>\n",
       "\t\t<td>1</td>\n",
       "\t\t<td>1</td>\n",
       "\t\t<td>0</td>\n",
       "\t\t<td>0</td>\n",
       "\t\t<td>0</td>\n",
       "\t\t<td>8</td>\n",
       "\t\t<td>0.5294117647058824</td>\n",
       "\t\t<td>0.5258426966292135</td>\n",
       "\t\t<td>0.0</td>\n",
       "\t\t<td>0.1355263157894737</td>\n",
       "\t\t<td>1.0</td>\n",
       "\t</tr>\n",
       "</table></html>"
      ],
      "text/plain": [
       "   sex_0  embarked_1  sex_1  embarked_0  embarked_2  survived  id       age  passenger  sibsp      fare  pclass\n",
       "0      1           0      0           1           0         1  10  0.215686   0.043820    0.5  0.197223     1.0\n",
       "1      1           0      0           0           1         1  12  0.529412   0.088764    0.0  0.218860     1.0\n",
       "2      0           0      1           0           1         0  13  0.529412   0.341573    0.0  0.141228     1.0\n",
       "3      0           0      1           0           1         0  14  0.392157   0.823596    0.0  0.228070     0.5\n",
       "4      0           0      1           1           0         0  16  0.529412   0.868539    0.0  0.126754     1.0\n",
       "5      1           0      0           0           1         0  17  0.490196   0.112360    0.0  0.138523     1.0\n",
       "6      0           0      1           0           1         1  15  0.568627   0.639326    0.0  0.137793     1.0\n",
       "7      0           0      1           0           1         0  11  0.529412   0.135955    0.0  0.141228     1.0\n",
       "8      0           0      1           0           1         0   9  0.392157   0.594382    1.0  0.201754     0.5\n",
       "9      0           1      1           0           0         0   8  0.529412   0.525843    0.0  0.135526     1.0"
      ]
     },
     "metadata": {},
     "output_type": "display_data"
    },
    {
     "name": "stdout",
     "output_type": "stream",
     "text": [
      "                                                                                         \r"
     ]
    },
    {
     "data": {
      "text/html": [
       "623 rows X 12 columns"
      ],
      "text/plain": [
       "<IPython.core.display.HTML object>"
      ]
     },
     "metadata": {},
     "output_type": "display_data"
    },
    {
     "name": "stdout",
     "output_type": "stream",
     "text": [
      "                                                                                         \r"
     ]
    },
    {
     "data": {
      "text/html": [
       "Total time taken by feature scaling: 33.36 sec"
      ],
      "text/plain": [
       "<IPython.core.display.HTML object>"
      ]
     },
     "metadata": {},
     "output_type": "display_data"
    },
    {
     "name": "stdout",
     "output_type": "stream",
     "text": [
      "                                                                                          \r"
     ]
    },
    {
     "data": {
      "text/html": [
       "\n",
       "Feature selection using rfe ..."
      ],
      "text/plain": [
       "<IPython.core.display.HTML object>"
      ]
     },
     "metadata": {},
     "output_type": "display_data"
    },
    {
     "name": "stdout",
     "output_type": "stream",
     "text": [
      "                                                                                          \r"
     ]
    },
    {
     "data": {
      "text/html": [
       "feature selected by RFE:"
      ],
      "text/plain": [
       "<IPython.core.display.HTML object>"
      ]
     },
     "metadata": {},
     "output_type": "display_data"
    },
    {
     "name": "stdout",
     "output_type": "stream",
     "text": [
      "['sex_0', 'embarked_1', 'sex_1', 'age', 'embarked_0', 'embarked_2', 'passenger', 'sibsp', 'parch', 'pclass', 'fare']\n",
      "                                                                                          \r"
     ]
    },
    {
     "data": {
      "text/html": [
       "Total time taken by feature selection: 20.40 sec  "
      ],
      "text/plain": [
       "<IPython.core.display.HTML object>"
      ]
     },
     "metadata": {},
     "output_type": "display_data"
    },
    {
     "name": "stdout",
     "output_type": "stream",
     "text": [
      "                                                                                          \r"
     ]
    },
    {
     "data": {
      "text/html": [
       "\n",
       "scaling Features of rfe data ..."
      ],
      "text/plain": [
       "<IPython.core.display.HTML object>"
      ]
     },
     "metadata": {},
     "output_type": "display_data"
    },
    {
     "name": "stdout",
     "output_type": "stream",
     "text": [
      "                                                                                          \r"
     ]
    },
    {
     "data": {
      "text/html": [
       "columns that will be scaled: "
      ],
      "text/plain": [
       "<IPython.core.display.HTML object>"
      ]
     },
     "metadata": {},
     "output_type": "display_data"
    },
    {
     "name": "stdout",
     "output_type": "stream",
     "text": [
      "['r_age', 'r_passenger', 'r_sibsp', 'r_pclass', 'r_fare']\n",
      "                                                                                          \r"
     ]
    },
    {
     "data": {
      "text/html": [
       "Dataset sample after scaling:"
      ],
      "text/plain": [
       "<IPython.core.display.HTML object>"
      ]
     },
     "metadata": {},
     "output_type": "display_data"
    },
    {
     "data": {
      "text/html": [
       "<style type=\"text/css\">\n",
       "\ttable {border:ridge 5px;}\n",
       "\ttable td {border:inset 1px;}\n",
       "\ttable tr#HeaderRow {background-color:grey; color:white;}</style>\n",
       "<html><table>\n",
       "\t<tr id=\"HeaderRow\">\n",
       "\t\t<th>id</th>\n",
       "\t\t<th>r_sex_0</th>\n",
       "\t\t<th>r_sex_1</th>\n",
       "\t\t<th>r_embarked_0</th>\n",
       "\t\t<th>r_parch</th>\n",
       "\t\t<th>r_embarked_1</th>\n",
       "\t\t<th>survived</th>\n",
       "\t\t<th>r_embarked_2</th>\n",
       "\t\t<th>r_age</th>\n",
       "\t\t<th>r_passenger</th>\n",
       "\t\t<th>r_sibsp</th>\n",
       "\t\t<th>r_pclass</th>\n",
       "\t\t<th>r_fare</th>\n",
       "\t</tr>\n",
       "\t<tr>\n",
       "\t\t<td>10</td>\n",
       "\t\t<td>1</td>\n",
       "\t\t<td>0</td>\n",
       "\t\t<td>1</td>\n",
       "\t\t<td>0</td>\n",
       "\t\t<td>0</td>\n",
       "\t\t<td>1</td>\n",
       "\t\t<td>0</td>\n",
       "\t\t<td>0.21568627450980393</td>\n",
       "\t\t<td>0.043820224719101124</td>\n",
       "\t\t<td>0.5</td>\n",
       "\t\t<td>1.0</td>\n",
       "\t\t<td>0.19722280701754386</td>\n",
       "\t</tr>\n",
       "\t<tr>\n",
       "\t\t<td>12</td>\n",
       "\t\t<td>1</td>\n",
       "\t\t<td>0</td>\n",
       "\t\t<td>0</td>\n",
       "\t\t<td>0</td>\n",
       "\t\t<td>0</td>\n",
       "\t\t<td>1</td>\n",
       "\t\t<td>1</td>\n",
       "\t\t<td>0.5294117647058824</td>\n",
       "\t\t<td>0.08876404494382023</td>\n",
       "\t\t<td>0.0</td>\n",
       "\t\t<td>1.0</td>\n",
       "\t\t<td>0.218859649122807</td>\n",
       "\t</tr>\n",
       "\t<tr>\n",
       "\t\t<td>13</td>\n",
       "\t\t<td>0</td>\n",
       "\t\t<td>1</td>\n",
       "\t\t<td>0</td>\n",
       "\t\t<td>0</td>\n",
       "\t\t<td>0</td>\n",
       "\t\t<td>0</td>\n",
       "\t\t<td>1</td>\n",
       "\t\t<td>0.5294117647058824</td>\n",
       "\t\t<td>0.3415730337078652</td>\n",
       "\t\t<td>0.0</td>\n",
       "\t\t<td>1.0</td>\n",
       "\t\t<td>0.14122807017543862</td>\n",
       "\t</tr>\n",
       "\t<tr>\n",
       "\t\t<td>14</td>\n",
       "\t\t<td>0</td>\n",
       "\t\t<td>1</td>\n",
       "\t\t<td>0</td>\n",
       "\t\t<td>0</td>\n",
       "\t\t<td>0</td>\n",
       "\t\t<td>0</td>\n",
       "\t\t<td>1</td>\n",
       "\t\t<td>0.39215686274509803</td>\n",
       "\t\t<td>0.8235955056179776</td>\n",
       "\t\t<td>0.0</td>\n",
       "\t\t<td>0.5</td>\n",
       "\t\t<td>0.22807017543859648</td>\n",
       "\t</tr>\n",
       "\t<tr>\n",
       "\t\t<td>16</td>\n",
       "\t\t<td>0</td>\n",
       "\t\t<td>1</td>\n",
       "\t\t<td>1</td>\n",
       "\t\t<td>0</td>\n",
       "\t\t<td>0</td>\n",
       "\t\t<td>0</td>\n",
       "\t\t<td>0</td>\n",
       "\t\t<td>0.5294117647058824</td>\n",
       "\t\t<td>0.8685393258426967</td>\n",
       "\t\t<td>0.0</td>\n",
       "\t\t<td>1.0</td>\n",
       "\t\t<td>0.1267543859649123</td>\n",
       "\t</tr>\n",
       "\t<tr>\n",
       "\t\t<td>17</td>\n",
       "\t\t<td>1</td>\n",
       "\t\t<td>0</td>\n",
       "\t\t<td>0</td>\n",
       "\t\t<td>0</td>\n",
       "\t\t<td>0</td>\n",
       "\t\t<td>0</td>\n",
       "\t\t<td>1</td>\n",
       "\t\t<td>0.49019607843137253</td>\n",
       "\t\t<td>0.11235955056179775</td>\n",
       "\t\t<td>0.0</td>\n",
       "\t\t<td>1.0</td>\n",
       "\t\t<td>0.13852280701754385</td>\n",
       "\t</tr>\n",
       "\t<tr>\n",
       "\t\t<td>15</td>\n",
       "\t\t<td>0</td>\n",
       "\t\t<td>1</td>\n",
       "\t\t<td>0</td>\n",
       "\t\t<td>0</td>\n",
       "\t\t<td>0</td>\n",
       "\t\t<td>1</td>\n",
       "\t\t<td>1</td>\n",
       "\t\t<td>0.5686274509803921</td>\n",
       "\t\t<td>0.6393258426966292</td>\n",
       "\t\t<td>0.0</td>\n",
       "\t\t<td>1.0</td>\n",
       "\t\t<td>0.13779298245614036</td>\n",
       "\t</tr>\n",
       "\t<tr>\n",
       "\t\t<td>11</td>\n",
       "\t\t<td>0</td>\n",
       "\t\t<td>1</td>\n",
       "\t\t<td>0</td>\n",
       "\t\t<td>0</td>\n",
       "\t\t<td>0</td>\n",
       "\t\t<td>0</td>\n",
       "\t\t<td>1</td>\n",
       "\t\t<td>0.5294117647058824</td>\n",
       "\t\t<td>0.13595505617977527</td>\n",
       "\t\t<td>0.0</td>\n",
       "\t\t<td>1.0</td>\n",
       "\t\t<td>0.14122807017543862</td>\n",
       "\t</tr>\n",
       "\t<tr>\n",
       "\t\t<td>9</td>\n",
       "\t\t<td>0</td>\n",
       "\t\t<td>1</td>\n",
       "\t\t<td>0</td>\n",
       "\t\t<td>0</td>\n",
       "\t\t<td>0</td>\n",
       "\t\t<td>0</td>\n",
       "\t\t<td>1</td>\n",
       "\t\t<td>0.39215686274509803</td>\n",
       "\t\t<td>0.5943820224719101</td>\n",
       "\t\t<td>1.0</td>\n",
       "\t\t<td>0.5</td>\n",
       "\t\t<td>0.20175438596491227</td>\n",
       "\t</tr>\n",
       "\t<tr>\n",
       "\t\t<td>8</td>\n",
       "\t\t<td>0</td>\n",
       "\t\t<td>1</td>\n",
       "\t\t<td>0</td>\n",
       "\t\t<td>0</td>\n",
       "\t\t<td>1</td>\n",
       "\t\t<td>0</td>\n",
       "\t\t<td>0</td>\n",
       "\t\t<td>0.5294117647058824</td>\n",
       "\t\t<td>0.5258426966292135</td>\n",
       "\t\t<td>0.0</td>\n",
       "\t\t<td>1.0</td>\n",
       "\t\t<td>0.1355263157894737</td>\n",
       "\t</tr>\n",
       "</table></html>"
      ],
      "text/plain": [
       "   id  r_sex_0  r_sex_1  r_embarked_0  r_parch  r_embarked_1  survived  r_embarked_2     r_age  r_passenger  r_sibsp  r_pclass    r_fare\n",
       "0  10        1        0             1        0             0         1             0  0.215686     0.043820      0.5       1.0  0.197223\n",
       "1  12        1        0             0        0             0         1             1  0.529412     0.088764      0.0       1.0  0.218860\n",
       "2  13        0        1             0        0             0         0             1  0.529412     0.341573      0.0       1.0  0.141228\n",
       "3  14        0        1             0        0             0         0             1  0.392157     0.823596      0.0       0.5  0.228070\n",
       "4  16        0        1             1        0             0         0             0  0.529412     0.868539      0.0       1.0  0.126754\n",
       "5  17        1        0             0        0             0         0             1  0.490196     0.112360      0.0       1.0  0.138523\n",
       "6  15        0        1             0        0             0         1             1  0.568627     0.639326      0.0       1.0  0.137793\n",
       "7  11        0        1             0        0             0         0             1  0.529412     0.135955      0.0       1.0  0.141228\n",
       "8   9        0        1             0        0             0         0             1  0.392157     0.594382      1.0       0.5  0.201754\n",
       "9   8        0        1             0        0             1         0             0  0.529412     0.525843      0.0       1.0  0.135526"
      ]
     },
     "metadata": {},
     "output_type": "display_data"
    },
    {
     "name": "stdout",
     "output_type": "stream",
     "text": [
      "                                                                                          \r"
     ]
    },
    {
     "data": {
      "text/html": [
       "623 rows X 13 columns"
      ],
      "text/plain": [
       "<IPython.core.display.HTML object>"
      ]
     },
     "metadata": {},
     "output_type": "display_data"
    },
    {
     "name": "stdout",
     "output_type": "stream",
     "text": [
      "                                                                                          \r"
     ]
    },
    {
     "data": {
      "text/html": [
       "Total time taken by feature scaling: 34.77 sec"
      ],
      "text/plain": [
       "<IPython.core.display.HTML object>"
      ]
     },
     "metadata": {},
     "output_type": "display_data"
    },
    {
     "name": "stdout",
     "output_type": "stream",
     "text": [
      "                                                                                          \r"
     ]
    },
    {
     "data": {
      "text/html": [
       "\n",
       "scaling Features of pca data ..."
      ],
      "text/plain": [
       "<IPython.core.display.HTML object>"
      ]
     },
     "metadata": {},
     "output_type": "display_data"
    },
    {
     "name": "stdout",
     "output_type": "stream",
     "text": [
      "                                                                                          \r"
     ]
    },
    {
     "data": {
      "text/html": [
       "columns that will be scaled: "
      ],
      "text/plain": [
       "<IPython.core.display.HTML object>"
      ]
     },
     "metadata": {},
     "output_type": "display_data"
    },
    {
     "name": "stdout",
     "output_type": "stream",
     "text": [
      "['passenger', 'pclass', 'age', 'sibsp', 'fare']\n",
      "                                                                                          \r"
     ]
    },
    {
     "data": {
      "text/html": [
       "Dataset sample after scaling:"
      ],
      "text/plain": [
       "<IPython.core.display.HTML object>"
      ]
     },
     "metadata": {},
     "output_type": "display_data"
    },
    {
     "data": {
      "text/html": [
       "<style type=\"text/css\">\n",
       "\ttable {border:ridge 5px;}\n",
       "\ttable td {border:inset 1px;}\n",
       "\ttable tr#HeaderRow {background-color:grey; color:white;}</style>\n",
       "<html><table>\n",
       "\t<tr id=\"HeaderRow\">\n",
       "\t\t<th>sex_0</th>\n",
       "\t\t<th>embarked_1</th>\n",
       "\t\t<th>sex_1</th>\n",
       "\t\t<th>embarked_0</th>\n",
       "\t\t<th>embarked_2</th>\n",
       "\t\t<th>parch</th>\n",
       "\t\t<th>survived</th>\n",
       "\t\t<th>id</th>\n",
       "\t\t<th>passenger</th>\n",
       "\t\t<th>pclass</th>\n",
       "\t\t<th>age</th>\n",
       "\t\t<th>sibsp</th>\n",
       "\t\t<th>fare</th>\n",
       "\t</tr>\n",
       "\t<tr>\n",
       "\t\t<td>0</td>\n",
       "\t\t<td>1</td>\n",
       "\t\t<td>1</td>\n",
       "\t\t<td>0</td>\n",
       "\t\t<td>0</td>\n",
       "\t\t<td>0</td>\n",
       "\t\t<td>0</td>\n",
       "\t\t<td>8</td>\n",
       "\t\t<td>0.5258426966292135</td>\n",
       "\t\t<td>1.0</td>\n",
       "\t\t<td>0.5294117647058824</td>\n",
       "\t\t<td>0.0</td>\n",
       "\t\t<td>0.1355263157894737</td>\n",
       "\t</tr>\n",
       "\t<tr>\n",
       "\t\t<td>0</td>\n",
       "\t\t<td>0</td>\n",
       "\t\t<td>1</td>\n",
       "\t\t<td>0</td>\n",
       "\t\t<td>1</td>\n",
       "\t\t<td>0</td>\n",
       "\t\t<td>0</td>\n",
       "\t\t<td>13</td>\n",
       "\t\t<td>0.3415730337078652</td>\n",
       "\t\t<td>1.0</td>\n",
       "\t\t<td>0.5294117647058824</td>\n",
       "\t\t<td>0.0</td>\n",
       "\t\t<td>0.14122807017543862</td>\n",
       "\t</tr>\n",
       "\t<tr>\n",
       "\t\t<td>0</td>\n",
       "\t\t<td>0</td>\n",
       "\t\t<td>1</td>\n",
       "\t\t<td>1</td>\n",
       "\t\t<td>0</td>\n",
       "\t\t<td>0</td>\n",
       "\t\t<td>0</td>\n",
       "\t\t<td>21</td>\n",
       "\t\t<td>0.8213483146067416</td>\n",
       "\t\t<td>1.0</td>\n",
       "\t\t<td>0.1568627450980392</td>\n",
       "\t\t<td>0.0</td>\n",
       "\t\t<td>0.32960526315789473</td>\n",
       "\t</tr>\n",
       "\t<tr>\n",
       "\t\t<td>0</td>\n",
       "\t\t<td>0</td>\n",
       "\t\t<td>1</td>\n",
       "\t\t<td>0</td>\n",
       "\t\t<td>1</td>\n",
       "\t\t<td>0</td>\n",
       "\t\t<td>0</td>\n",
       "\t\t<td>14</td>\n",
       "\t\t<td>0.8235955056179776</td>\n",
       "\t\t<td>0.5</td>\n",
       "\t\t<td>0.39215686274509803</td>\n",
       "\t\t<td>0.0</td>\n",
       "\t\t<td>0.22807017543859648</td>\n",
       "\t</tr>\n",
       "\t<tr>\n",
       "\t\t<td>0</td>\n",
       "\t\t<td>0</td>\n",
       "\t\t<td>1</td>\n",
       "\t\t<td>0</td>\n",
       "\t\t<td>1</td>\n",
       "\t\t<td>0</td>\n",
       "\t\t<td>0</td>\n",
       "\t\t<td>9</td>\n",
       "\t\t<td>0.5943820224719101</td>\n",
       "\t\t<td>0.5</td>\n",
       "\t\t<td>0.39215686274509803</td>\n",
       "\t\t<td>1.0</td>\n",
       "\t\t<td>0.20175438596491227</td>\n",
       "\t</tr>\n",
       "\t<tr>\n",
       "\t\t<td>1</td>\n",
       "\t\t<td>0</td>\n",
       "\t\t<td>0</td>\n",
       "\t\t<td>0</td>\n",
       "\t\t<td>1</td>\n",
       "\t\t<td>0</td>\n",
       "\t\t<td>0</td>\n",
       "\t\t<td>17</td>\n",
       "\t\t<td>0.11235955056179775</td>\n",
       "\t\t<td>1.0</td>\n",
       "\t\t<td>0.49019607843137253</td>\n",
       "\t\t<td>0.0</td>\n",
       "\t\t<td>0.13852280701754385</td>\n",
       "\t</tr>\n",
       "\t<tr>\n",
       "\t\t<td>0</td>\n",
       "\t\t<td>0</td>\n",
       "\t\t<td>1</td>\n",
       "\t\t<td>0</td>\n",
       "\t\t<td>1</td>\n",
       "\t\t<td>0</td>\n",
       "\t\t<td>1</td>\n",
       "\t\t<td>15</td>\n",
       "\t\t<td>0.6393258426966292</td>\n",
       "\t\t<td>1.0</td>\n",
       "\t\t<td>0.5686274509803921</td>\n",
       "\t\t<td>0.0</td>\n",
       "\t\t<td>0.13779298245614036</td>\n",
       "\t</tr>\n",
       "\t<tr>\n",
       "\t\t<td>0</td>\n",
       "\t\t<td>0</td>\n",
       "\t\t<td>1</td>\n",
       "\t\t<td>0</td>\n",
       "\t\t<td>1</td>\n",
       "\t\t<td>0</td>\n",
       "\t\t<td>0</td>\n",
       "\t\t<td>23</td>\n",
       "\t\t<td>0.9370786516853933</td>\n",
       "\t\t<td>1.0</td>\n",
       "\t\t<td>0.29411764705882354</td>\n",
       "\t\t<td>0.0</td>\n",
       "\t\t<td>0.1456140350877193</td>\n",
       "\t</tr>\n",
       "\t<tr>\n",
       "\t\t<td>1</td>\n",
       "\t\t<td>0</td>\n",
       "\t\t<td>0</td>\n",
       "\t\t<td>0</td>\n",
       "\t\t<td>1</td>\n",
       "\t\t<td>0</td>\n",
       "\t\t<td>1</td>\n",
       "\t\t<td>12</td>\n",
       "\t\t<td>0.08876404494382023</td>\n",
       "\t\t<td>1.0</td>\n",
       "\t\t<td>0.5294117647058824</td>\n",
       "\t\t<td>0.0</td>\n",
       "\t\t<td>0.218859649122807</td>\n",
       "\t</tr>\n",
       "\t<tr>\n",
       "\t\t<td>0</td>\n",
       "\t\t<td>0</td>\n",
       "\t\t<td>1</td>\n",
       "\t\t<td>0</td>\n",
       "\t\t<td>1</td>\n",
       "\t\t<td>0</td>\n",
       "\t\t<td>0</td>\n",
       "\t\t<td>20</td>\n",
       "\t\t<td>0.3865168539325843</td>\n",
       "\t\t<td>0.5</td>\n",
       "\t\t<td>0.6470588235294118</td>\n",
       "\t\t<td>0.0</td>\n",
       "\t\t<td>0.22807017543859648</td>\n",
       "\t</tr>\n",
       "</table></html>"
      ],
      "text/plain": [
       "   sex_0  embarked_1  sex_1  embarked_0  embarked_2  parch  survived  id  passenger  pclass       age  sibsp      fare\n",
       "0      0           1      1           0           0      0         0   8   0.525843     1.0  0.529412    0.0  0.135526\n",
       "1      0           0      1           0           1      0         0  13   0.341573     1.0  0.529412    0.0  0.141228\n",
       "2      0           0      1           1           0      0         0  21   0.821348     1.0  0.156863    0.0  0.329605\n",
       "3      0           0      1           0           1      0         0  14   0.823596     0.5  0.392157    0.0  0.228070\n",
       "4      0           0      1           0           1      0         0   9   0.594382     0.5  0.392157    1.0  0.201754\n",
       "5      1           0      0           0           1      0         0  17   0.112360     1.0  0.490196    0.0  0.138523\n",
       "6      0           0      1           0           1      0         1  15   0.639326     1.0  0.568627    0.0  0.137793\n",
       "7      0           0      1           0           1      0         0  23   0.937079     1.0  0.294118    0.0  0.145614\n",
       "8      1           0      0           0           1      0         1  12   0.088764     1.0  0.529412    0.0  0.218860\n",
       "9      0           0      1           0           1      0         0  20   0.386517     0.5  0.647059    0.0  0.228070"
      ]
     },
     "metadata": {},
     "output_type": "display_data"
    },
    {
     "name": "stdout",
     "output_type": "stream",
     "text": [
      "                                                                                          \r"
     ]
    },
    {
     "data": {
      "text/html": [
       "623 rows X 13 columns"
      ],
      "text/plain": [
       "<IPython.core.display.HTML object>"
      ]
     },
     "metadata": {},
     "output_type": "display_data"
    },
    {
     "name": "stdout",
     "output_type": "stream",
     "text": [
      "                                                                                          \r"
     ]
    },
    {
     "data": {
      "text/html": [
       "Total time taken by feature scaling: 30.18 sec"
      ],
      "text/plain": [
       "<IPython.core.display.HTML object>"
      ]
     },
     "metadata": {},
     "output_type": "display_data"
    },
    {
     "name": "stdout",
     "output_type": "stream",
     "text": [
      "                                                                                          \r"
     ]
    },
    {
     "data": {
      "text/html": [
       "\n",
       "Dimension Reduction using pca ..."
      ],
      "text/plain": [
       "<IPython.core.display.HTML object>"
      ]
     },
     "metadata": {},
     "output_type": "display_data"
    },
    {
     "name": "stdout",
     "output_type": "stream",
     "text": [
      "                                                                                          \r"
     ]
    },
    {
     "data": {
      "text/html": [
       "PCA columns:"
      ],
      "text/plain": [
       "<IPython.core.display.HTML object>"
      ]
     },
     "metadata": {},
     "output_type": "display_data"
    },
    {
     "name": "stdout",
     "output_type": "stream",
     "text": [
      "['col_0', 'col_1', 'col_2', 'col_3', 'col_4', 'col_5']\n",
      "                                                                                          \r"
     ]
    },
    {
     "data": {
      "text/html": [
       "Total time taken by PCA: 6.86 sec  "
      ],
      "text/plain": [
       "<IPython.core.display.HTML object>"
      ]
     },
     "metadata": {},
     "output_type": "display_data"
    },
    {
     "name": "stdout",
     "output_type": "stream",
     "text": [
      "                                                                                          \r"
     ]
    },
    {
     "data": {
      "text/html": [
       "\n",
       "            <style>\n",
       "                .custom-div {\n",
       "                    background-color: lightgray;\n",
       "                    color: #000000;\n",
       "                    padding: 10px;\n",
       "                    border-radius: 8px;\n",
       "                    box-shadow: 0 3px 4px rgba(0 -  0 -  0 -  0.2);\n",
       "                    margin-bottom: 10px;\n",
       "                    text-align: center;\n",
       "                }\n",
       "            </style>\n",
       "        <br><div class=\"custom-div\"><h3><span style=\"color: green;\">1. Feature Exploration -> 2. Feature Engineering -> 3. Data Preparation -></span> 4. Model Training & Evaluation<center></h3></center></div>"
      ],
      "text/plain": [
       "<IPython.core.display.HTML object>"
      ]
     },
     "metadata": {},
     "output_type": "display_data"
    },
    {
     "name": "stdout",
     "output_type": "stream",
     "text": [
      "                                                                                          \r"
     ]
    },
    {
     "data": {
      "text/html": [
       "Model Training started ..."
      ],
      "text/plain": [
       "<IPython.core.display.HTML object>"
      ]
     },
     "metadata": {},
     "output_type": "display_data"
    },
    {
     "name": "stdout",
     "output_type": "stream",
     "text": [
      "                                                                                          \r"
     ]
    },
    {
     "data": {
      "text/html": [
       "\n",
       "Hyperparameters used for model training: "
      ],
      "text/plain": [
       "<IPython.core.display.HTML object>"
      ]
     },
     "metadata": {},
     "output_type": "display_data"
    },
    {
     "name": "stdout",
     "output_type": "stream",
     "text": [
      "response_column : survived                                                                                                                            \n",
      "name : glm\n",
      "family : BINOMIAL\n",
      "lambda1 : (0.001, 0.02, 0.1)\n",
      "alpha : (0.15, 0.85)\n",
      "learning_rate : OPTIMAL\n",
      "initial_eta : (0.05, 0.1)\n",
      "momentum : (0.65, 0.8, 0.95)\n",
      "iter_num_no_change : (5, 10, 50)\n",
      "iter_max : (300, 200, 400)\n",
      "batch_size : (10, 50, 60, 80)\n",
      "Total number of models for glm : 1296\n",
      "--------------------------------------------------------------------------------------------------------------------------------------------------------------------------------------------------------\n",
      "\n",
      "response_column : survived\n",
      "name : xgboost\n",
      "model_type : Classification\n",
      "column_sampling : (1, 0.6)\n",
      "min_impurity : (0.0, 0.1, 0.2)\n",
      "lambda1 : (0.01, 0.1, 1, 10)\n",
      "shrinkage_factor : (0.5, 0.1, 0.3)\n",
      "max_depth : (5, 6, 8, 10)\n",
      "min_node_size : (1, 2, 3)\n",
      "iter_num : (10, 20, 30)\n",
      "seed : 42\n",
      "Total number of models for xgboost : 2592\n",
      "--------------------------------------------------------------------------------------------------------------------------------------------------------------------------------------------------------\n",
      "\n",
      "response_column : survived\n",
      "name : decision_forest\n",
      "tree_type : Classification\n",
      "min_impurity : (0.0, 0.1, 0.2)\n",
      "max_depth : (5, 6, 8, 10)\n",
      "min_node_size : (1, 2, 3)\n",
      "num_trees : (-1, 20, 30)\n",
      "seed : 42\n",
      "Total number of models for decision_forest : 108\n",
      "--------------------------------------------------------------------------------------------------------------------------------------------------------------------------------------------------------\n",
      "\n",
      "                                                                                          \r"
     ]
    },
    {
     "data": {
      "text/html": [
       "\n",
       "Performing hyperparameter tuning ..."
      ],
      "text/plain": [
       "<IPython.core.display.HTML object>"
      ]
     },
     "metadata": {},
     "output_type": "display_data"
    },
    {
     "name": "stdout",
     "output_type": "stream",
     "text": [
      "                                                                                          \r"
     ]
    },
    {
     "data": {
      "text/html": [
       "glm"
      ],
      "text/plain": [
       "<IPython.core.display.HTML object>"
      ]
     },
     "metadata": {},
     "output_type": "display_data"
    },
    {
     "name": "stdout",
     "output_type": "stream",
     "text": [
      "                                                                                                                                                                                                        \r"
     ]
    },
    {
     "data": {
      "text/html": [
       "----------------------------------------------------------------------------------------------------"
      ],
      "text/plain": [
       "<IPython.core.display.HTML object>"
      ]
     },
     "metadata": {},
     "output_type": "display_data"
    },
    {
     "name": "stdout",
     "output_type": "stream",
     "text": [
      "                                                                                          \r"
     ]
    },
    {
     "data": {
      "text/html": [
       "xgboost"
      ],
      "text/plain": [
       "<IPython.core.display.HTML object>"
      ]
     },
     "metadata": {},
     "output_type": "display_data"
    },
    {
     "name": "stdout",
     "output_type": "stream",
     "text": [
      "                                                                                                                                                                                                        \r"
     ]
    },
    {
     "data": {
      "text/html": [
       "----------------------------------------------------------------------------------------------------"
      ],
      "text/plain": [
       "<IPython.core.display.HTML object>"
      ]
     },
     "metadata": {},
     "output_type": "display_data"
    },
    {
     "name": "stdout",
     "output_type": "stream",
     "text": [
      "                                                                                          \r"
     ]
    },
    {
     "data": {
      "text/html": [
       "decision_forest"
      ],
      "text/plain": [
       "<IPython.core.display.HTML object>"
      ]
     },
     "metadata": {},
     "output_type": "display_data"
    },
    {
     "name": "stdout",
     "output_type": "stream",
     "text": [
      "                                                                                                                                                                                                        \r"
     ]
    },
    {
     "data": {
      "text/html": [
       "----------------------------------------------------------------------------------------------------"
      ],
      "text/plain": [
       "<IPython.core.display.HTML object>"
      ]
     },
     "metadata": {},
     "output_type": "display_data"
    },
    {
     "name": "stdout",
     "output_type": "stream",
     "text": [
      "                                                                                          \r"
     ]
    },
    {
     "data": {
      "text/html": [
       "Leaderboard"
      ],
      "text/plain": [
       "<IPython.core.display.HTML object>"
      ]
     },
     "metadata": {},
     "output_type": "display_data"
    },
    {
     "data": {
      "text/html": [
       "<div>\n",
       "<style scoped>\n",
       "    .dataframe tbody tr th:only-of-type {\n",
       "        vertical-align: middle;\n",
       "    }\n",
       "\n",
       "    .dataframe tbody tr th {\n",
       "        vertical-align: top;\n",
       "    }\n",
       "\n",
       "    .dataframe thead th {\n",
       "        text-align: right;\n",
       "    }\n",
       "</style>\n",
       "<table border=\"1\" class=\"dataframe\">\n",
       "  <thead>\n",
       "    <tr style=\"text-align: right;\">\n",
       "      <th></th>\n",
       "      <th>RANK</th>\n",
       "      <th>MODEL_ID</th>\n",
       "      <th>FEATURE_SELECTION</th>\n",
       "      <th>ACCURACY</th>\n",
       "      <th>MICRO-PRECISION</th>\n",
       "      <th>MICRO-RECALL</th>\n",
       "      <th>MICRO-F1</th>\n",
       "      <th>MACRO-PRECISION</th>\n",
       "      <th>MACRO-RECALL</th>\n",
       "      <th>MACRO-F1</th>\n",
       "      <th>WEIGHTED-PRECISION</th>\n",
       "      <th>WEIGHTED-RECALL</th>\n",
       "      <th>WEIGHTED-F1</th>\n",
       "    </tr>\n",
       "  </thead>\n",
       "  <tbody>\n",
       "    <tr>\n",
       "      <th>0</th>\n",
       "      <td>1</td>\n",
       "      <td>DECISIONFOREST_3</td>\n",
       "      <td>lasso</td>\n",
       "      <td>0.816</td>\n",
       "      <td>0.816</td>\n",
       "      <td>0.816</td>\n",
       "      <td>0.816</td>\n",
       "      <td>0.806990</td>\n",
       "      <td>0.816058</td>\n",
       "      <td>0.810118</td>\n",
       "      <td>0.821300</td>\n",
       "      <td>0.816</td>\n",
       "      <td>0.817337</td>\n",
       "    </tr>\n",
       "    <tr>\n",
       "      <th>1</th>\n",
       "      <td>2</td>\n",
       "      <td>DECISIONFOREST_0</td>\n",
       "      <td>lasso</td>\n",
       "      <td>0.808</td>\n",
       "      <td>0.808</td>\n",
       "      <td>0.808</td>\n",
       "      <td>0.808</td>\n",
       "      <td>0.803885</td>\n",
       "      <td>0.787728</td>\n",
       "      <td>0.793616</td>\n",
       "      <td>0.806734</td>\n",
       "      <td>0.808</td>\n",
       "      <td>0.805385</td>\n",
       "    </tr>\n",
       "    <tr>\n",
       "      <th>2</th>\n",
       "      <td>3</td>\n",
       "      <td>DECISIONFOREST_1</td>\n",
       "      <td>rfe</td>\n",
       "      <td>0.808</td>\n",
       "      <td>0.808</td>\n",
       "      <td>0.808</td>\n",
       "      <td>0.808</td>\n",
       "      <td>0.803885</td>\n",
       "      <td>0.787728</td>\n",
       "      <td>0.793616</td>\n",
       "      <td>0.806734</td>\n",
       "      <td>0.808</td>\n",
       "      <td>0.805385</td>\n",
       "    </tr>\n",
       "    <tr>\n",
       "      <th>3</th>\n",
       "      <td>4</td>\n",
       "      <td>XGBOOST_2</td>\n",
       "      <td>pca</td>\n",
       "      <td>0.792</td>\n",
       "      <td>0.792</td>\n",
       "      <td>0.792</td>\n",
       "      <td>0.792</td>\n",
       "      <td>0.781821</td>\n",
       "      <td>0.781821</td>\n",
       "      <td>0.781821</td>\n",
       "      <td>0.792000</td>\n",
       "      <td>0.792</td>\n",
       "      <td>0.792000</td>\n",
       "    </tr>\n",
       "    <tr>\n",
       "      <th>4</th>\n",
       "      <td>5</td>\n",
       "      <td>XGBOOST_0</td>\n",
       "      <td>lasso</td>\n",
       "      <td>0.784</td>\n",
       "      <td>0.784</td>\n",
       "      <td>0.784</td>\n",
       "      <td>0.784</td>\n",
       "      <td>0.775751</td>\n",
       "      <td>0.786117</td>\n",
       "      <td>0.778325</td>\n",
       "      <td>0.792884</td>\n",
       "      <td>0.784</td>\n",
       "      <td>0.785986</td>\n",
       "    </tr>\n",
       "    <tr>\n",
       "      <th>5</th>\n",
       "      <td>6</td>\n",
       "      <td>XGBOOST_3</td>\n",
       "      <td>lasso</td>\n",
       "      <td>0.784</td>\n",
       "      <td>0.784</td>\n",
       "      <td>0.784</td>\n",
       "      <td>0.784</td>\n",
       "      <td>0.775751</td>\n",
       "      <td>0.786117</td>\n",
       "      <td>0.778325</td>\n",
       "      <td>0.792884</td>\n",
       "      <td>0.784</td>\n",
       "      <td>0.785986</td>\n",
       "    </tr>\n",
       "    <tr>\n",
       "      <th>6</th>\n",
       "      <td>7</td>\n",
       "      <td>XGBOOST_1</td>\n",
       "      <td>rfe</td>\n",
       "      <td>0.784</td>\n",
       "      <td>0.784</td>\n",
       "      <td>0.784</td>\n",
       "      <td>0.784</td>\n",
       "      <td>0.775751</td>\n",
       "      <td>0.786117</td>\n",
       "      <td>0.778325</td>\n",
       "      <td>0.792884</td>\n",
       "      <td>0.784</td>\n",
       "      <td>0.785986</td>\n",
       "    </tr>\n",
       "    <tr>\n",
       "      <th>7</th>\n",
       "      <td>8</td>\n",
       "      <td>DECISIONFOREST_2</td>\n",
       "      <td>pca</td>\n",
       "      <td>0.728</td>\n",
       "      <td>0.728</td>\n",
       "      <td>0.728</td>\n",
       "      <td>0.728</td>\n",
       "      <td>0.714403</td>\n",
       "      <td>0.711063</td>\n",
       "      <td>0.712527</td>\n",
       "      <td>0.726245</td>\n",
       "      <td>0.728</td>\n",
       "      <td>0.726933</td>\n",
       "    </tr>\n",
       "    <tr>\n",
       "      <th>8</th>\n",
       "      <td>9</td>\n",
       "      <td>GLM_2</td>\n",
       "      <td>pca</td>\n",
       "      <td>0.712</td>\n",
       "      <td>0.712</td>\n",
       "      <td>0.712</td>\n",
       "      <td>0.712</td>\n",
       "      <td>0.711222</td>\n",
       "      <td>0.665279</td>\n",
       "      <td>0.669118</td>\n",
       "      <td>0.711555</td>\n",
       "      <td>0.712</td>\n",
       "      <td>0.694847</td>\n",
       "    </tr>\n",
       "    <tr>\n",
       "      <th>9</th>\n",
       "      <td>10</td>\n",
       "      <td>GLM_0</td>\n",
       "      <td>lasso</td>\n",
       "      <td>0.704</td>\n",
       "      <td>0.704</td>\n",
       "      <td>0.704</td>\n",
       "      <td>0.704</td>\n",
       "      <td>0.702632</td>\n",
       "      <td>0.655075</td>\n",
       "      <td>0.657636</td>\n",
       "      <td>0.703200</td>\n",
       "      <td>0.704</td>\n",
       "      <td>0.684850</td>\n",
       "    </tr>\n",
       "    <tr>\n",
       "      <th>10</th>\n",
       "      <td>11</td>\n",
       "      <td>GLM_1</td>\n",
       "      <td>rfe</td>\n",
       "      <td>0.704</td>\n",
       "      <td>0.704</td>\n",
       "      <td>0.704</td>\n",
       "      <td>0.704</td>\n",
       "      <td>0.702632</td>\n",
       "      <td>0.655075</td>\n",
       "      <td>0.657636</td>\n",
       "      <td>0.703200</td>\n",
       "      <td>0.704</td>\n",
       "      <td>0.684850</td>\n",
       "    </tr>\n",
       "    <tr>\n",
       "      <th>11</th>\n",
       "      <td>12</td>\n",
       "      <td>GLM_3</td>\n",
       "      <td>lasso</td>\n",
       "      <td>0.632</td>\n",
       "      <td>0.632</td>\n",
       "      <td>0.632</td>\n",
       "      <td>0.632</td>\n",
       "      <td>0.610228</td>\n",
       "      <td>0.559613</td>\n",
       "      <td>0.535391</td>\n",
       "      <td>0.616985</td>\n",
       "      <td>0.632</td>\n",
       "      <td>0.581153</td>\n",
       "    </tr>\n",
       "  </tbody>\n",
       "</table>\n",
       "</div>"
      ],
      "text/plain": [
       "    RANK          MODEL_ID FEATURE_SELECTION  ACCURACY  MICRO-PRECISION  \\\n",
       "0      1  DECISIONFOREST_3             lasso     0.816            0.816   \n",
       "1      2  DECISIONFOREST_0             lasso     0.808            0.808   \n",
       "2      3  DECISIONFOREST_1               rfe     0.808            0.808   \n",
       "3      4         XGBOOST_2               pca     0.792            0.792   \n",
       "4      5         XGBOOST_0             lasso     0.784            0.784   \n",
       "5      6         XGBOOST_3             lasso     0.784            0.784   \n",
       "6      7         XGBOOST_1               rfe     0.784            0.784   \n",
       "7      8  DECISIONFOREST_2               pca     0.728            0.728   \n",
       "8      9             GLM_2               pca     0.712            0.712   \n",
       "9     10             GLM_0             lasso     0.704            0.704   \n",
       "10    11             GLM_1               rfe     0.704            0.704   \n",
       "11    12             GLM_3             lasso     0.632            0.632   \n",
       "\n",
       "    MICRO-RECALL  MICRO-F1  MACRO-PRECISION  MACRO-RECALL  MACRO-F1  \\\n",
       "0          0.816     0.816         0.806990      0.816058  0.810118   \n",
       "1          0.808     0.808         0.803885      0.787728  0.793616   \n",
       "2          0.808     0.808         0.803885      0.787728  0.793616   \n",
       "3          0.792     0.792         0.781821      0.781821  0.781821   \n",
       "4          0.784     0.784         0.775751      0.786117  0.778325   \n",
       "5          0.784     0.784         0.775751      0.786117  0.778325   \n",
       "6          0.784     0.784         0.775751      0.786117  0.778325   \n",
       "7          0.728     0.728         0.714403      0.711063  0.712527   \n",
       "8          0.712     0.712         0.711222      0.665279  0.669118   \n",
       "9          0.704     0.704         0.702632      0.655075  0.657636   \n",
       "10         0.704     0.704         0.702632      0.655075  0.657636   \n",
       "11         0.632     0.632         0.610228      0.559613  0.535391   \n",
       "\n",
       "    WEIGHTED-PRECISION  WEIGHTED-RECALL  WEIGHTED-F1  \n",
       "0             0.821300            0.816     0.817337  \n",
       "1             0.806734            0.808     0.805385  \n",
       "2             0.806734            0.808     0.805385  \n",
       "3             0.792000            0.792     0.792000  \n",
       "4             0.792884            0.784     0.785986  \n",
       "5             0.792884            0.784     0.785986  \n",
       "6             0.792884            0.784     0.785986  \n",
       "7             0.726245            0.728     0.726933  \n",
       "8             0.711555            0.712     0.694847  \n",
       "9             0.703200            0.704     0.684850  \n",
       "10            0.703200            0.704     0.684850  \n",
       "11            0.616985            0.632     0.581153  "
      ]
     },
     "metadata": {},
     "output_type": "display_data"
    },
    {
     "name": "stdout",
     "output_type": "stream",
     "text": [
      "                                                                                          \r"
     ]
    },
    {
     "data": {
      "text/html": [
       "12 rows X 13 columns"
      ],
      "text/plain": [
       "<IPython.core.display.HTML object>"
      ]
     },
     "metadata": {},
     "output_type": "display_data"
    },
    {
     "name": "stdout",
     "output_type": "stream",
     "text": [
      "                                                                                          \r"
     ]
    },
    {
     "data": {
      "text/html": [
       "\n",
       "            <style>\n",
       "                .custom-div {\n",
       "                    background-color: lightgray;\n",
       "                    color: #000000;\n",
       "                    padding: 10px;\n",
       "                    border-radius: 8px;\n",
       "                    box-shadow: 0 3px 4px rgba(0 -  0 -  0 -  0.2);\n",
       "                    margin-bottom: 10px;\n",
       "                    text-align: center;\n",
       "                }\n",
       "            </style>\n",
       "        <br><div class=\"custom-div\"><h3><span style=\"color: green;\">1. Feature Exploration -> 2. Feature Engineering -> 3. Data Preparation -> 4. Model Training & Evaluation</span><center></h3></center></div>"
      ],
      "text/plain": [
       "<IPython.core.display.HTML object>"
      ]
     },
     "metadata": {},
     "output_type": "display_data"
    },
    {
     "name": "stdout",
     "output_type": "stream",
     "text": [
      "Completed: ｜⫿⫿⫿⫿⫿⫿⫿⫿⫿⫿⫿⫿⫿⫿⫿⫿⫿⫿⫿⫿⫿⫿⫿⫿⫿⫿⫿⫿⫿⫿⫿⫿⫿⫿⫿⫿⫿⫿⫿⫿⫿⫿⫿⫿⫿⫿⫿⫿⫿⫿⫿⫿⫿⫿⫿⫿⫿⫿⫿⫿｜ 100% - 16/16    \r"
     ]
    }
   ],
   "source": [
    "# Fitting train data \n",
    "\n",
    "aml.fit(titanic_train, 'survived')"
   ]
  },
  {
   "cell_type": "markdown",
   "id": "23a04eb1-68e6-48b7-95aa-442f434809da",
   "metadata": {},
   "source": [
    "## <b><span style='color:#F1A424'>| 3.</span> Leaderboard : </b>"
   ]
  },
  {
   "cell_type": "code",
   "execution_count": 18,
   "id": "77de1099-6122-4f8a-8e7f-dd67e5b4ced4",
   "metadata": {
    "tags": []
   },
   "outputs": [
    {
     "data": {
      "text/html": [
       "<div>\n",
       "<style scoped>\n",
       "    .dataframe tbody tr th:only-of-type {\n",
       "        vertical-align: middle;\n",
       "    }\n",
       "\n",
       "    .dataframe tbody tr th {\n",
       "        vertical-align: top;\n",
       "    }\n",
       "\n",
       "    .dataframe thead th {\n",
       "        text-align: right;\n",
       "    }\n",
       "</style>\n",
       "<table border=\"1\" class=\"dataframe\">\n",
       "  <thead>\n",
       "    <tr style=\"text-align: right;\">\n",
       "      <th></th>\n",
       "      <th>RANK</th>\n",
       "      <th>MODEL_ID</th>\n",
       "      <th>FEATURE_SELECTION</th>\n",
       "      <th>ACCURACY</th>\n",
       "      <th>MICRO-PRECISION</th>\n",
       "      <th>MICRO-RECALL</th>\n",
       "      <th>MICRO-F1</th>\n",
       "      <th>MACRO-PRECISION</th>\n",
       "      <th>MACRO-RECALL</th>\n",
       "      <th>MACRO-F1</th>\n",
       "      <th>WEIGHTED-PRECISION</th>\n",
       "      <th>WEIGHTED-RECALL</th>\n",
       "      <th>WEIGHTED-F1</th>\n",
       "    </tr>\n",
       "  </thead>\n",
       "  <tbody>\n",
       "    <tr>\n",
       "      <th>0</th>\n",
       "      <td>1</td>\n",
       "      <td>DECISIONFOREST_3</td>\n",
       "      <td>lasso</td>\n",
       "      <td>0.816</td>\n",
       "      <td>0.816</td>\n",
       "      <td>0.816</td>\n",
       "      <td>0.816</td>\n",
       "      <td>0.806990</td>\n",
       "      <td>0.816058</td>\n",
       "      <td>0.810118</td>\n",
       "      <td>0.821300</td>\n",
       "      <td>0.816</td>\n",
       "      <td>0.817337</td>\n",
       "    </tr>\n",
       "    <tr>\n",
       "      <th>1</th>\n",
       "      <td>2</td>\n",
       "      <td>DECISIONFOREST_0</td>\n",
       "      <td>lasso</td>\n",
       "      <td>0.808</td>\n",
       "      <td>0.808</td>\n",
       "      <td>0.808</td>\n",
       "      <td>0.808</td>\n",
       "      <td>0.803885</td>\n",
       "      <td>0.787728</td>\n",
       "      <td>0.793616</td>\n",
       "      <td>0.806734</td>\n",
       "      <td>0.808</td>\n",
       "      <td>0.805385</td>\n",
       "    </tr>\n",
       "    <tr>\n",
       "      <th>2</th>\n",
       "      <td>3</td>\n",
       "      <td>DECISIONFOREST_1</td>\n",
       "      <td>rfe</td>\n",
       "      <td>0.808</td>\n",
       "      <td>0.808</td>\n",
       "      <td>0.808</td>\n",
       "      <td>0.808</td>\n",
       "      <td>0.803885</td>\n",
       "      <td>0.787728</td>\n",
       "      <td>0.793616</td>\n",
       "      <td>0.806734</td>\n",
       "      <td>0.808</td>\n",
       "      <td>0.805385</td>\n",
       "    </tr>\n",
       "    <tr>\n",
       "      <th>3</th>\n",
       "      <td>4</td>\n",
       "      <td>XGBOOST_2</td>\n",
       "      <td>pca</td>\n",
       "      <td>0.792</td>\n",
       "      <td>0.792</td>\n",
       "      <td>0.792</td>\n",
       "      <td>0.792</td>\n",
       "      <td>0.781821</td>\n",
       "      <td>0.781821</td>\n",
       "      <td>0.781821</td>\n",
       "      <td>0.792000</td>\n",
       "      <td>0.792</td>\n",
       "      <td>0.792000</td>\n",
       "    </tr>\n",
       "    <tr>\n",
       "      <th>4</th>\n",
       "      <td>5</td>\n",
       "      <td>XGBOOST_0</td>\n",
       "      <td>lasso</td>\n",
       "      <td>0.784</td>\n",
       "      <td>0.784</td>\n",
       "      <td>0.784</td>\n",
       "      <td>0.784</td>\n",
       "      <td>0.775751</td>\n",
       "      <td>0.786117</td>\n",
       "      <td>0.778325</td>\n",
       "      <td>0.792884</td>\n",
       "      <td>0.784</td>\n",
       "      <td>0.785986</td>\n",
       "    </tr>\n",
       "    <tr>\n",
       "      <th>5</th>\n",
       "      <td>6</td>\n",
       "      <td>XGBOOST_3</td>\n",
       "      <td>lasso</td>\n",
       "      <td>0.784</td>\n",
       "      <td>0.784</td>\n",
       "      <td>0.784</td>\n",
       "      <td>0.784</td>\n",
       "      <td>0.775751</td>\n",
       "      <td>0.786117</td>\n",
       "      <td>0.778325</td>\n",
       "      <td>0.792884</td>\n",
       "      <td>0.784</td>\n",
       "      <td>0.785986</td>\n",
       "    </tr>\n",
       "    <tr>\n",
       "      <th>6</th>\n",
       "      <td>7</td>\n",
       "      <td>XGBOOST_1</td>\n",
       "      <td>rfe</td>\n",
       "      <td>0.784</td>\n",
       "      <td>0.784</td>\n",
       "      <td>0.784</td>\n",
       "      <td>0.784</td>\n",
       "      <td>0.775751</td>\n",
       "      <td>0.786117</td>\n",
       "      <td>0.778325</td>\n",
       "      <td>0.792884</td>\n",
       "      <td>0.784</td>\n",
       "      <td>0.785986</td>\n",
       "    </tr>\n",
       "    <tr>\n",
       "      <th>7</th>\n",
       "      <td>8</td>\n",
       "      <td>DECISIONFOREST_2</td>\n",
       "      <td>pca</td>\n",
       "      <td>0.728</td>\n",
       "      <td>0.728</td>\n",
       "      <td>0.728</td>\n",
       "      <td>0.728</td>\n",
       "      <td>0.714403</td>\n",
       "      <td>0.711063</td>\n",
       "      <td>0.712527</td>\n",
       "      <td>0.726245</td>\n",
       "      <td>0.728</td>\n",
       "      <td>0.726933</td>\n",
       "    </tr>\n",
       "    <tr>\n",
       "      <th>8</th>\n",
       "      <td>9</td>\n",
       "      <td>GLM_2</td>\n",
       "      <td>pca</td>\n",
       "      <td>0.712</td>\n",
       "      <td>0.712</td>\n",
       "      <td>0.712</td>\n",
       "      <td>0.712</td>\n",
       "      <td>0.711222</td>\n",
       "      <td>0.665279</td>\n",
       "      <td>0.669118</td>\n",
       "      <td>0.711555</td>\n",
       "      <td>0.712</td>\n",
       "      <td>0.694847</td>\n",
       "    </tr>\n",
       "    <tr>\n",
       "      <th>9</th>\n",
       "      <td>10</td>\n",
       "      <td>GLM_0</td>\n",
       "      <td>lasso</td>\n",
       "      <td>0.704</td>\n",
       "      <td>0.704</td>\n",
       "      <td>0.704</td>\n",
       "      <td>0.704</td>\n",
       "      <td>0.702632</td>\n",
       "      <td>0.655075</td>\n",
       "      <td>0.657636</td>\n",
       "      <td>0.703200</td>\n",
       "      <td>0.704</td>\n",
       "      <td>0.684850</td>\n",
       "    </tr>\n",
       "    <tr>\n",
       "      <th>10</th>\n",
       "      <td>11</td>\n",
       "      <td>GLM_1</td>\n",
       "      <td>rfe</td>\n",
       "      <td>0.704</td>\n",
       "      <td>0.704</td>\n",
       "      <td>0.704</td>\n",
       "      <td>0.704</td>\n",
       "      <td>0.702632</td>\n",
       "      <td>0.655075</td>\n",
       "      <td>0.657636</td>\n",
       "      <td>0.703200</td>\n",
       "      <td>0.704</td>\n",
       "      <td>0.684850</td>\n",
       "    </tr>\n",
       "    <tr>\n",
       "      <th>11</th>\n",
       "      <td>12</td>\n",
       "      <td>GLM_3</td>\n",
       "      <td>lasso</td>\n",
       "      <td>0.632</td>\n",
       "      <td>0.632</td>\n",
       "      <td>0.632</td>\n",
       "      <td>0.632</td>\n",
       "      <td>0.610228</td>\n",
       "      <td>0.559613</td>\n",
       "      <td>0.535391</td>\n",
       "      <td>0.616985</td>\n",
       "      <td>0.632</td>\n",
       "      <td>0.581153</td>\n",
       "    </tr>\n",
       "  </tbody>\n",
       "</table>\n",
       "</div>"
      ],
      "text/plain": [
       "    RANK          MODEL_ID FEATURE_SELECTION  ACCURACY  MICRO-PRECISION  \\\n",
       "0      1  DECISIONFOREST_3             lasso     0.816            0.816   \n",
       "1      2  DECISIONFOREST_0             lasso     0.808            0.808   \n",
       "2      3  DECISIONFOREST_1               rfe     0.808            0.808   \n",
       "3      4         XGBOOST_2               pca     0.792            0.792   \n",
       "4      5         XGBOOST_0             lasso     0.784            0.784   \n",
       "5      6         XGBOOST_3             lasso     0.784            0.784   \n",
       "6      7         XGBOOST_1               rfe     0.784            0.784   \n",
       "7      8  DECISIONFOREST_2               pca     0.728            0.728   \n",
       "8      9             GLM_2               pca     0.712            0.712   \n",
       "9     10             GLM_0             lasso     0.704            0.704   \n",
       "10    11             GLM_1               rfe     0.704            0.704   \n",
       "11    12             GLM_3             lasso     0.632            0.632   \n",
       "\n",
       "    MICRO-RECALL  MICRO-F1  MACRO-PRECISION  MACRO-RECALL  MACRO-F1  \\\n",
       "0          0.816     0.816         0.806990      0.816058  0.810118   \n",
       "1          0.808     0.808         0.803885      0.787728  0.793616   \n",
       "2          0.808     0.808         0.803885      0.787728  0.793616   \n",
       "3          0.792     0.792         0.781821      0.781821  0.781821   \n",
       "4          0.784     0.784         0.775751      0.786117  0.778325   \n",
       "5          0.784     0.784         0.775751      0.786117  0.778325   \n",
       "6          0.784     0.784         0.775751      0.786117  0.778325   \n",
       "7          0.728     0.728         0.714403      0.711063  0.712527   \n",
       "8          0.712     0.712         0.711222      0.665279  0.669118   \n",
       "9          0.704     0.704         0.702632      0.655075  0.657636   \n",
       "10         0.704     0.704         0.702632      0.655075  0.657636   \n",
       "11         0.632     0.632         0.610228      0.559613  0.535391   \n",
       "\n",
       "    WEIGHTED-PRECISION  WEIGHTED-RECALL  WEIGHTED-F1  \n",
       "0             0.821300            0.816     0.817337  \n",
       "1             0.806734            0.808     0.805385  \n",
       "2             0.806734            0.808     0.805385  \n",
       "3             0.792000            0.792     0.792000  \n",
       "4             0.792884            0.784     0.785986  \n",
       "5             0.792884            0.784     0.785986  \n",
       "6             0.792884            0.784     0.785986  \n",
       "7             0.726245            0.728     0.726933  \n",
       "8             0.711555            0.712     0.694847  \n",
       "9             0.703200            0.704     0.684850  \n",
       "10            0.703200            0.704     0.684850  \n",
       "11            0.616985            0.632     0.581153  "
      ]
     },
     "execution_count": 18,
     "metadata": {},
     "output_type": "execute_result"
    }
   ],
   "source": [
    "# Fetching leaderboard\n",
    "\n",
    "aml.leaderboard()"
   ]
  },
  {
   "cell_type": "markdown",
   "id": "a7a3aa08-e349-4a61-9217-2c17d50411d8",
   "metadata": {},
   "source": [
    "## <b><span style='color:#F1A424'>| 4.</span> Best Performing Model : </b>"
   ]
  },
  {
   "cell_type": "code",
   "execution_count": 19,
   "id": "c4c32832-a76b-4f42-826a-cefc38a6301b",
   "metadata": {},
   "outputs": [
    {
     "data": {
      "text/html": [
       "<div>\n",
       "<style scoped>\n",
       "    .dataframe tbody tr th:only-of-type {\n",
       "        vertical-align: middle;\n",
       "    }\n",
       "\n",
       "    .dataframe tbody tr th {\n",
       "        vertical-align: top;\n",
       "    }\n",
       "\n",
       "    .dataframe thead th {\n",
       "        text-align: right;\n",
       "    }\n",
       "</style>\n",
       "<table border=\"1\" class=\"dataframe\">\n",
       "  <thead>\n",
       "    <tr style=\"text-align: right;\">\n",
       "      <th></th>\n",
       "      <th>RANK</th>\n",
       "      <th>MODEL_ID</th>\n",
       "      <th>FEATURE_SELECTION</th>\n",
       "      <th>ACCURACY</th>\n",
       "      <th>MICRO-PRECISION</th>\n",
       "      <th>MICRO-RECALL</th>\n",
       "      <th>MICRO-F1</th>\n",
       "      <th>MACRO-PRECISION</th>\n",
       "      <th>MACRO-RECALL</th>\n",
       "      <th>MACRO-F1</th>\n",
       "      <th>WEIGHTED-PRECISION</th>\n",
       "      <th>WEIGHTED-RECALL</th>\n",
       "      <th>WEIGHTED-F1</th>\n",
       "    </tr>\n",
       "  </thead>\n",
       "  <tbody>\n",
       "    <tr>\n",
       "      <th>0</th>\n",
       "      <td>1</td>\n",
       "      <td>DECISIONFOREST_3</td>\n",
       "      <td>lasso</td>\n",
       "      <td>0.816</td>\n",
       "      <td>0.816</td>\n",
       "      <td>0.816</td>\n",
       "      <td>0.816</td>\n",
       "      <td>0.80699</td>\n",
       "      <td>0.816058</td>\n",
       "      <td>0.810118</td>\n",
       "      <td>0.8213</td>\n",
       "      <td>0.816</td>\n",
       "      <td>0.817337</td>\n",
       "    </tr>\n",
       "  </tbody>\n",
       "</table>\n",
       "</div>"
      ],
      "text/plain": [
       "   RANK          MODEL_ID FEATURE_SELECTION  ACCURACY  MICRO-PRECISION  \\\n",
       "0     1  DECISIONFOREST_3             lasso     0.816            0.816   \n",
       "\n",
       "   MICRO-RECALL  MICRO-F1  MACRO-PRECISION  MACRO-RECALL  MACRO-F1  \\\n",
       "0         0.816     0.816          0.80699      0.816058  0.810118   \n",
       "\n",
       "   WEIGHTED-PRECISION  WEIGHTED-RECALL  WEIGHTED-F1  \n",
       "0              0.8213            0.816     0.817337  "
      ]
     },
     "metadata": {},
     "output_type": "display_data"
    }
   ],
   "source": [
    "# Fetching best performing model\n",
    "aml.leader()"
   ]
  },
  {
   "cell_type": "markdown",
   "id": "84514f85-23e0-4bf8-9b5e-00210b093052",
   "metadata": {},
   "source": [
    "## <b><span style='color:#F1A424'>| 5.</span> Get Hyperparameter for Trained Model : </b>"
   ]
  },
  {
   "cell_type": "code",
   "execution_count": 20,
   "id": "c632592f-a861-4e00-af16-cd32212b62dc",
   "metadata": {},
   "outputs": [
    {
     "data": {
      "text/plain": [
       "{'response_column': 'survived',\n",
       " 'name': 'decision_forest',\n",
       " 'tree_type': 'Classification',\n",
       " 'min_impurity': 0.0,\n",
       " 'max_depth': 5,\n",
       " 'min_node_size': 1,\n",
       " 'num_trees': 20,\n",
       " 'seed': 42,\n",
       " 'persist': False,\n",
       " 'output_prob': True,\n",
       " 'output_responses': ['1', '0']}"
      ]
     },
     "execution_count": 20,
     "metadata": {},
     "output_type": "execute_result"
    }
   ],
   "source": [
    "aml.model_hyperparameters(rank=1)"
   ]
  },
  {
   "cell_type": "code",
   "execution_count": 21,
   "id": "3f83339c-d6d8-4286-83d4-11ef96016f9d",
   "metadata": {
    "tags": []
   },
   "outputs": [
    {
     "data": {
      "text/plain": [
       "{'response_column': 'survived',\n",
       " 'name': 'xgboost',\n",
       " 'model_type': 'Classification',\n",
       " 'column_sampling': 1,\n",
       " 'min_impurity': 0.0,\n",
       " 'lambda1': 0.01,\n",
       " 'shrinkage_factor': 0.5,\n",
       " 'max_depth': 5,\n",
       " 'min_node_size': 1,\n",
       " 'iter_num': 10,\n",
       " 'seed': 42,\n",
       " 'persist': False,\n",
       " 'output_prob': True,\n",
       " 'output_responses': ['1', '0']}"
      ]
     },
     "execution_count": 21,
     "metadata": {},
     "output_type": "execute_result"
    }
   ],
   "source": [
    "aml.model_hyperparameters(rank=4)"
   ]
  },
  {
   "cell_type": "markdown",
   "id": "e43181a9-3847-4e8b-b510-6da81f1c550f",
   "metadata": {},
   "source": [
    "## <b><span style='color:#F1A424'>| 6.</span> Generate Prediction and Performance Metrics : </b>"
   ]
  },
  {
   "cell_type": "code",
   "execution_count": 22,
   "id": "9b020546-8ecf-4539-b8fa-e61d9697c62a",
   "metadata": {
    "tags": []
   },
   "outputs": [
    {
     "name": "stdout",
     "output_type": "stream",
     "text": [
      "Data Transformation started ...\n",
      "                                                                                                \r"
     ]
    },
    {
     "data": {
      "text/html": [
       "Performing transformation carried out in feature engineering phase ..."
      ],
      "text/plain": [
       "<IPython.core.display.HTML object>"
      ]
     },
     "metadata": {},
     "output_type": "display_data"
    },
    {
     "name": "stdout",
     "output_type": "stream",
     "text": [
      "                                                                                                 \r"
     ]
    },
    {
     "data": {
      "text/html": [
       "\n",
       "Updated dataset after dropping futile columns :"
      ],
      "text/plain": [
       "<IPython.core.display.HTML object>"
      ]
     },
     "metadata": {},
     "output_type": "display_data"
    },
    {
     "data": {
      "text/html": [
       "<style type=\"text/css\">\n",
       "\ttable {border:ridge 5px;}\n",
       "\ttable td {border:inset 1px;}\n",
       "\ttable tr#HeaderRow {background-color:grey; color:white;}</style>\n",
       "<html><table>\n",
       "\t<tr id=\"HeaderRow\">\n",
       "\t\t<th>passenger</th>\n",
       "\t\t<th>survived</th>\n",
       "\t\t<th>pclass</th>\n",
       "\t\t<th>sex</th>\n",
       "\t\t<th>age</th>\n",
       "\t\t<th>sibsp</th>\n",
       "\t\t<th>parch</th>\n",
       "\t\t<th>fare</th>\n",
       "\t\t<th>cabin</th>\n",
       "\t\t<th>embarked</th>\n",
       "\t\t<th>id</th>\n",
       "\t</tr>\n",
       "\t<tr>\n",
       "\t\t<td>202</td>\n",
       "\t\t<td>0</td>\n",
       "\t\t<td>3</td>\n",
       "\t\t<td>male</td>\n",
       "\t\t<td>None</td>\n",
       "\t\t<td>8</td>\n",
       "\t\t<td>2</td>\n",
       "\t\t<td>69.55</td>\n",
       "\t\t<td>None</td>\n",
       "\t\t<td>S</td>\n",
       "\t\t<td>15</td>\n",
       "\t</tr>\n",
       "\t<tr>\n",
       "\t\t<td>303</td>\n",
       "\t\t<td>0</td>\n",
       "\t\t<td>3</td>\n",
       "\t\t<td>male</td>\n",
       "\t\t<td>19</td>\n",
       "\t\t<td>0</td>\n",
       "\t\t<td>0</td>\n",
       "\t\t<td>0.0</td>\n",
       "\t\t<td>None</td>\n",
       "\t\t<td>S</td>\n",
       "\t\t<td>11</td>\n",
       "\t</tr>\n",
       "\t<tr>\n",
       "\t\t<td>465</td>\n",
       "\t\t<td>0</td>\n",
       "\t\t<td>3</td>\n",
       "\t\t<td>male</td>\n",
       "\t\t<td>None</td>\n",
       "\t\t<td>0</td>\n",
       "\t\t<td>0</td>\n",
       "\t\t<td>8.05</td>\n",
       "\t\t<td>None</td>\n",
       "\t\t<td>S</td>\n",
       "\t\t<td>19</td>\n",
       "\t</tr>\n",
       "\t<tr>\n",
       "\t\t<td>183</td>\n",
       "\t\t<td>0</td>\n",
       "\t\t<td>3</td>\n",
       "\t\t<td>male</td>\n",
       "\t\t<td>9</td>\n",
       "\t\t<td>4</td>\n",
       "\t\t<td>2</td>\n",
       "\t\t<td>31.3875</td>\n",
       "\t\t<td>None</td>\n",
       "\t\t<td>S</td>\n",
       "\t\t<td>8</td>\n",
       "\t</tr>\n",
       "\t<tr>\n",
       "\t\t<td>326</td>\n",
       "\t\t<td>1</td>\n",
       "\t\t<td>1</td>\n",
       "\t\t<td>female</td>\n",
       "\t\t<td>36</td>\n",
       "\t\t<td>0</td>\n",
       "\t\t<td>0</td>\n",
       "\t\t<td>135.6333</td>\n",
       "\t\t<td>C32</td>\n",
       "\t\t<td>C</td>\n",
       "\t\t<td>13</td>\n",
       "\t</tr>\n",
       "\t<tr>\n",
       "\t\t<td>385</td>\n",
       "\t\t<td>0</td>\n",
       "\t\t<td>3</td>\n",
       "\t\t<td>male</td>\n",
       "\t\t<td>None</td>\n",
       "\t\t<td>0</td>\n",
       "\t\t<td>0</td>\n",
       "\t\t<td>7.8958</td>\n",
       "\t\t<td>None</td>\n",
       "\t\t<td>S</td>\n",
       "\t\t<td>21</td>\n",
       "\t</tr>\n",
       "\t<tr>\n",
       "\t\t<td>120</td>\n",
       "\t\t<td>0</td>\n",
       "\t\t<td>3</td>\n",
       "\t\t<td>female</td>\n",
       "\t\t<td>2</td>\n",
       "\t\t<td>4</td>\n",
       "\t\t<td>2</td>\n",
       "\t\t<td>31.275</td>\n",
       "\t\t<td>None</td>\n",
       "\t\t<td>S</td>\n",
       "\t\t<td>10</td>\n",
       "\t</tr>\n",
       "\t<tr>\n",
       "\t\t<td>751</td>\n",
       "\t\t<td>1</td>\n",
       "\t\t<td>2</td>\n",
       "\t\t<td>female</td>\n",
       "\t\t<td>4</td>\n",
       "\t\t<td>1</td>\n",
       "\t\t<td>1</td>\n",
       "\t\t<td>23.0</td>\n",
       "\t\t<td>None</td>\n",
       "\t\t<td>S</td>\n",
       "\t\t<td>18</td>\n",
       "\t</tr>\n",
       "\t<tr>\n",
       "\t\t<td>425</td>\n",
       "\t\t<td>0</td>\n",
       "\t\t<td>3</td>\n",
       "\t\t<td>male</td>\n",
       "\t\t<td>18</td>\n",
       "\t\t<td>1</td>\n",
       "\t\t<td>1</td>\n",
       "\t\t<td>20.2125</td>\n",
       "\t\t<td>None</td>\n",
       "\t\t<td>S</td>\n",
       "\t\t<td>12</td>\n",
       "\t</tr>\n",
       "\t<tr>\n",
       "\t\t<td>118</td>\n",
       "\t\t<td>0</td>\n",
       "\t\t<td>2</td>\n",
       "\t\t<td>male</td>\n",
       "\t\t<td>29</td>\n",
       "\t\t<td>1</td>\n",
       "\t\t<td>0</td>\n",
       "\t\t<td>21.0</td>\n",
       "\t\t<td>None</td>\n",
       "\t\t<td>S</td>\n",
       "\t\t<td>20</td>\n",
       "\t</tr>\n",
       "</table></html>"
      ],
      "text/plain": [
       "   passenger  survived  pclass     sex   age  sibsp  parch      fare cabin embarked  id\n",
       "0        202         0       3    male   NaN      8      2   69.5500  None        S  15\n",
       "1        303         0       3    male  19.0      0      0    0.0000  None        S  11\n",
       "2        465         0       3    male   NaN      0      0    8.0500  None        S  19\n",
       "3        183         0       3    male   9.0      4      2   31.3875  None        S   8\n",
       "4        326         1       1  female  36.0      0      0  135.6333   C32        C  13\n",
       "5        385         0       3    male   NaN      0      0    7.8958  None        S  21\n",
       "6        120         0       3  female   2.0      4      2   31.2750  None        S  10\n",
       "7        751         1       2  female   4.0      1      1   23.0000  None        S  18\n",
       "8        425         0       3    male  18.0      1      1   20.2125  None        S  12\n",
       "9        118         0       2    male  29.0      1      0   21.0000  None        S  20"
      ]
     },
     "metadata": {},
     "output_type": "display_data"
    },
    {
     "name": "stdout",
     "output_type": "stream",
     "text": [
      "                                                                                                 \r"
     ]
    },
    {
     "data": {
      "text/html": [
       "178 rows X 11 columns"
      ],
      "text/plain": [
       "<IPython.core.display.HTML object>"
      ]
     },
     "metadata": {},
     "output_type": "display_data"
    },
    {
     "name": "stdout",
     "output_type": "stream",
     "text": [
      "                                                                                                 \r"
     ]
    },
    {
     "data": {
      "text/html": [
       "\n",
       "Updated dataset after performing target column transformation :"
      ],
      "text/plain": [
       "<IPython.core.display.HTML object>"
      ]
     },
     "metadata": {},
     "output_type": "display_data"
    },
    {
     "data": {
      "text/html": [
       "<style type=\"text/css\">\n",
       "\ttable {border:ridge 5px;}\n",
       "\ttable td {border:inset 1px;}\n",
       "\ttable tr#HeaderRow {background-color:grey; color:white;}</style>\n",
       "<html><table>\n",
       "\t<tr id=\"HeaderRow\">\n",
       "\t\t<th>sex</th>\n",
       "\t\t<th>id</th>\n",
       "\t\t<th>embarked</th>\n",
       "\t\t<th>cabin</th>\n",
       "\t\t<th>age</th>\n",
       "\t\t<th>passenger</th>\n",
       "\t\t<th>sibsp</th>\n",
       "\t\t<th>parch</th>\n",
       "\t\t<th>fare</th>\n",
       "\t\t<th>pclass</th>\n",
       "\t\t<th>survived</th>\n",
       "\t</tr>\n",
       "\t<tr>\n",
       "\t\t<td>female</td>\n",
       "\t\t<td>10</td>\n",
       "\t\t<td>S</td>\n",
       "\t\t<td>None</td>\n",
       "\t\t<td>2</td>\n",
       "\t\t<td>120</td>\n",
       "\t\t<td>4</td>\n",
       "\t\t<td>2</td>\n",
       "\t\t<td>31.275</td>\n",
       "\t\t<td>3</td>\n",
       "\t\t<td>0</td>\n",
       "\t</tr>\n",
       "\t<tr>\n",
       "\t\t<td>male</td>\n",
       "\t\t<td>15</td>\n",
       "\t\t<td>S</td>\n",
       "\t\t<td>None</td>\n",
       "\t\t<td>None</td>\n",
       "\t\t<td>202</td>\n",
       "\t\t<td>8</td>\n",
       "\t\t<td>2</td>\n",
       "\t\t<td>69.55</td>\n",
       "\t\t<td>3</td>\n",
       "\t\t<td>0</td>\n",
       "\t</tr>\n",
       "\t<tr>\n",
       "\t\t<td>male</td>\n",
       "\t\t<td>23</td>\n",
       "\t\t<td>S</td>\n",
       "\t\t<td>C95</td>\n",
       "\t\t<td>None</td>\n",
       "\t\t<td>528</td>\n",
       "\t\t<td>0</td>\n",
       "\t\t<td>0</td>\n",
       "\t\t<td>221.7792</td>\n",
       "\t\t<td>1</td>\n",
       "\t\t<td>0</td>\n",
       "\t</tr>\n",
       "\t<tr>\n",
       "\t\t<td>female</td>\n",
       "\t\t<td>9</td>\n",
       "\t\t<td>Q</td>\n",
       "\t\t<td>None</td>\n",
       "\t\t<td>None</td>\n",
       "\t\t<td>265</td>\n",
       "\t\t<td>0</td>\n",
       "\t\t<td>0</td>\n",
       "\t\t<td>7.75</td>\n",
       "\t\t<td>3</td>\n",
       "\t\t<td>0</td>\n",
       "\t</tr>\n",
       "\t<tr>\n",
       "\t\t<td>male</td>\n",
       "\t\t<td>12</td>\n",
       "\t\t<td>S</td>\n",
       "\t\t<td>None</td>\n",
       "\t\t<td>18</td>\n",
       "\t\t<td>425</td>\n",
       "\t\t<td>1</td>\n",
       "\t\t<td>1</td>\n",
       "\t\t<td>20.2125</td>\n",
       "\t\t<td>3</td>\n",
       "\t\t<td>0</td>\n",
       "\t</tr>\n",
       "\t<tr>\n",
       "\t\t<td>male</td>\n",
       "\t\t<td>20</td>\n",
       "\t\t<td>S</td>\n",
       "\t\t<td>None</td>\n",
       "\t\t<td>29</td>\n",
       "\t\t<td>118</td>\n",
       "\t\t<td>1</td>\n",
       "\t\t<td>0</td>\n",
       "\t\t<td>21.0</td>\n",
       "\t\t<td>2</td>\n",
       "\t\t<td>0</td>\n",
       "\t</tr>\n",
       "\t<tr>\n",
       "\t\t<td>female</td>\n",
       "\t\t<td>14</td>\n",
       "\t\t<td>S</td>\n",
       "\t\t<td>None</td>\n",
       "\t\t<td>None</td>\n",
       "\t\t<td>181</td>\n",
       "\t\t<td>8</td>\n",
       "\t\t<td>2</td>\n",
       "\t\t<td>69.55</td>\n",
       "\t\t<td>3</td>\n",
       "\t\t<td>0</td>\n",
       "\t</tr>\n",
       "\t<tr>\n",
       "\t\t<td>female</td>\n",
       "\t\t<td>22</td>\n",
       "\t\t<td>S</td>\n",
       "\t\t<td>B22</td>\n",
       "\t\t<td>36</td>\n",
       "\t\t<td>541</td>\n",
       "\t\t<td>0</td>\n",
       "\t\t<td>2</td>\n",
       "\t\t<td>71.0</td>\n",
       "\t\t<td>1</td>\n",
       "\t\t<td>1</td>\n",
       "\t</tr>\n",
       "\t<tr>\n",
       "\t\t<td>female</td>\n",
       "\t\t<td>13</td>\n",
       "\t\t<td>C</td>\n",
       "\t\t<td>C32</td>\n",
       "\t\t<td>36</td>\n",
       "\t\t<td>326</td>\n",
       "\t\t<td>0</td>\n",
       "\t\t<td>0</td>\n",
       "\t\t<td>135.6333</td>\n",
       "\t\t<td>1</td>\n",
       "\t\t<td>1</td>\n",
       "\t</tr>\n",
       "\t<tr>\n",
       "\t\t<td>male</td>\n",
       "\t\t<td>21</td>\n",
       "\t\t<td>S</td>\n",
       "\t\t<td>None</td>\n",
       "\t\t<td>None</td>\n",
       "\t\t<td>385</td>\n",
       "\t\t<td>0</td>\n",
       "\t\t<td>0</td>\n",
       "\t\t<td>7.8958</td>\n",
       "\t\t<td>3</td>\n",
       "\t\t<td>0</td>\n",
       "\t</tr>\n",
       "</table></html>"
      ],
      "text/plain": [
       "      sex  id embarked cabin   age  passenger  sibsp  parch      fare  pclass  survived\n",
       "0  female  10        S  None   2.0        120      4      2   31.2750       3         0\n",
       "1    male  15        S  None   NaN        202      8      2   69.5500       3         0\n",
       "2    male  23        S   C95   NaN        528      0      0  221.7792       1         0\n",
       "3  female   9        Q  None   NaN        265      0      0    7.7500       3         0\n",
       "4    male  12        S  None  18.0        425      1      1   20.2125       3         0\n",
       "5    male  20        S  None  29.0        118      1      0   21.0000       2         0\n",
       "6  female  14        S  None   NaN        181      8      2   69.5500       3         0\n",
       "7  female  22        S   B22  36.0        541      0      2   71.0000       1         1\n",
       "8  female  13        C   C32  36.0        326      0      0  135.6333       1         1\n",
       "9    male  21        S  None   NaN        385      0      0    7.8958       3         0"
      ]
     },
     "metadata": {},
     "output_type": "display_data"
    },
    {
     "name": "stdout",
     "output_type": "stream",
     "text": [
      "                                                                                                 \r"
     ]
    },
    {
     "data": {
      "text/html": [
       "178 rows X 11 columns"
      ],
      "text/plain": [
       "<IPython.core.display.HTML object>"
      ]
     },
     "metadata": {},
     "output_type": "display_data"
    },
    {
     "name": "stdout",
     "output_type": "stream",
     "text": [
      "                                                                                                 \r"
     ]
    },
    {
     "data": {
      "text/html": [
       "\n",
       "Updated dataset after dropping missing value containing columns : "
      ],
      "text/plain": [
       "<IPython.core.display.HTML object>"
      ]
     },
     "metadata": {},
     "output_type": "display_data"
    },
    {
     "data": {
      "text/html": [
       "<style type=\"text/css\">\n",
       "\ttable {border:ridge 5px;}\n",
       "\ttable td {border:inset 1px;}\n",
       "\ttable tr#HeaderRow {background-color:grey; color:white;}</style>\n",
       "<html><table>\n",
       "\t<tr id=\"HeaderRow\">\n",
       "\t\t<th>sex</th>\n",
       "\t\t<th>id</th>\n",
       "\t\t<th>embarked</th>\n",
       "\t\t<th>age</th>\n",
       "\t\t<th>passenger</th>\n",
       "\t\t<th>sibsp</th>\n",
       "\t\t<th>parch</th>\n",
       "\t\t<th>fare</th>\n",
       "\t\t<th>pclass</th>\n",
       "\t\t<th>survived</th>\n",
       "\t</tr>\n",
       "\t<tr>\n",
       "\t\t<td>female</td>\n",
       "\t\t<td>9</td>\n",
       "\t\t<td>Q</td>\n",
       "\t\t<td>None</td>\n",
       "\t\t<td>265</td>\n",
       "\t\t<td>0</td>\n",
       "\t\t<td>0</td>\n",
       "\t\t<td>7.75</td>\n",
       "\t\t<td>3</td>\n",
       "\t\t<td>0</td>\n",
       "\t</tr>\n",
       "\t<tr>\n",
       "\t\t<td>male</td>\n",
       "\t\t<td>11</td>\n",
       "\t\t<td>S</td>\n",
       "\t\t<td>19</td>\n",
       "\t\t<td>303</td>\n",
       "\t\t<td>0</td>\n",
       "\t\t<td>0</td>\n",
       "\t\t<td>0.0</td>\n",
       "\t\t<td>3</td>\n",
       "\t\t<td>0</td>\n",
       "\t</tr>\n",
       "\t<tr>\n",
       "\t\t<td>male</td>\n",
       "\t\t<td>19</td>\n",
       "\t\t<td>S</td>\n",
       "\t\t<td>None</td>\n",
       "\t\t<td>465</td>\n",
       "\t\t<td>0</td>\n",
       "\t\t<td>0</td>\n",
       "\t\t<td>8.05</td>\n",
       "\t\t<td>3</td>\n",
       "\t\t<td>0</td>\n",
       "\t</tr>\n",
       "\t<tr>\n",
       "\t\t<td>female</td>\n",
       "\t\t<td>13</td>\n",
       "\t\t<td>C</td>\n",
       "\t\t<td>36</td>\n",
       "\t\t<td>326</td>\n",
       "\t\t<td>0</td>\n",
       "\t\t<td>0</td>\n",
       "\t\t<td>135.6333</td>\n",
       "\t\t<td>1</td>\n",
       "\t\t<td>1</td>\n",
       "\t</tr>\n",
       "\t<tr>\n",
       "\t\t<td>female</td>\n",
       "\t\t<td>14</td>\n",
       "\t\t<td>S</td>\n",
       "\t\t<td>None</td>\n",
       "\t\t<td>181</td>\n",
       "\t\t<td>8</td>\n",
       "\t\t<td>2</td>\n",
       "\t\t<td>69.55</td>\n",
       "\t\t<td>3</td>\n",
       "\t\t<td>0</td>\n",
       "\t</tr>\n",
       "\t<tr>\n",
       "\t\t<td>female</td>\n",
       "\t\t<td>22</td>\n",
       "\t\t<td>S</td>\n",
       "\t\t<td>36</td>\n",
       "\t\t<td>541</td>\n",
       "\t\t<td>0</td>\n",
       "\t\t<td>2</td>\n",
       "\t\t<td>71.0</td>\n",
       "\t\t<td>1</td>\n",
       "\t\t<td>1</td>\n",
       "\t</tr>\n",
       "\t<tr>\n",
       "\t\t<td>male</td>\n",
       "\t\t<td>15</td>\n",
       "\t\t<td>S</td>\n",
       "\t\t<td>None</td>\n",
       "\t\t<td>202</td>\n",
       "\t\t<td>8</td>\n",
       "\t\t<td>2</td>\n",
       "\t\t<td>69.55</td>\n",
       "\t\t<td>3</td>\n",
       "\t\t<td>0</td>\n",
       "\t</tr>\n",
       "\t<tr>\n",
       "\t\t<td>male</td>\n",
       "\t\t<td>23</td>\n",
       "\t\t<td>S</td>\n",
       "\t\t<td>None</td>\n",
       "\t\t<td>528</td>\n",
       "\t\t<td>0</td>\n",
       "\t\t<td>0</td>\n",
       "\t\t<td>221.7792</td>\n",
       "\t\t<td>1</td>\n",
       "\t\t<td>0</td>\n",
       "\t</tr>\n",
       "\t<tr>\n",
       "\t\t<td>male</td>\n",
       "\t\t<td>12</td>\n",
       "\t\t<td>S</td>\n",
       "\t\t<td>18</td>\n",
       "\t\t<td>425</td>\n",
       "\t\t<td>1</td>\n",
       "\t\t<td>1</td>\n",
       "\t\t<td>20.2125</td>\n",
       "\t\t<td>3</td>\n",
       "\t\t<td>0</td>\n",
       "\t</tr>\n",
       "\t<tr>\n",
       "\t\t<td>male</td>\n",
       "\t\t<td>20</td>\n",
       "\t\t<td>S</td>\n",
       "\t\t<td>29</td>\n",
       "\t\t<td>118</td>\n",
       "\t\t<td>1</td>\n",
       "\t\t<td>0</td>\n",
       "\t\t<td>21.0</td>\n",
       "\t\t<td>2</td>\n",
       "\t\t<td>0</td>\n",
       "\t</tr>\n",
       "</table></html>"
      ],
      "text/plain": [
       "      sex  id embarked   age  passenger  sibsp  parch      fare  pclass  survived\n",
       "0  female   9        Q   NaN        265      0      0    7.7500       3         0\n",
       "1    male  11        S  19.0        303      0      0    0.0000       3         0\n",
       "2    male  19        S   NaN        465      0      0    8.0500       3         0\n",
       "3  female  13        C  36.0        326      0      0  135.6333       1         1\n",
       "4  female  14        S   NaN        181      8      2   69.5500       3         0\n",
       "5  female  22        S  36.0        541      0      2   71.0000       1         1\n",
       "6    male  15        S   NaN        202      8      2   69.5500       3         0\n",
       "7    male  23        S   NaN        528      0      0  221.7792       1         0\n",
       "8    male  12        S  18.0        425      1      1   20.2125       3         0\n",
       "9    male  20        S  29.0        118      1      0   21.0000       2         0"
      ]
     },
     "metadata": {},
     "output_type": "display_data"
    },
    {
     "name": "stdout",
     "output_type": "stream",
     "text": [
      "                                                                                                 \r"
     ]
    },
    {
     "data": {
      "text/html": [
       "178 rows X 10 columns"
      ],
      "text/plain": [
       "<IPython.core.display.HTML object>"
      ]
     },
     "metadata": {},
     "output_type": "display_data"
    },
    {
     "name": "stdout",
     "output_type": "stream",
     "text": [
      "                                                                                                 \r"
     ]
    },
    {
     "data": {
      "text/html": [
       "\n",
       "Updated dataset after imputing missing value containing columns :"
      ],
      "text/plain": [
       "<IPython.core.display.HTML object>"
      ]
     },
     "metadata": {},
     "output_type": "display_data"
    },
    {
     "data": {
      "text/html": [
       "<style type=\"text/css\">\n",
       "\ttable {border:ridge 5px;}\n",
       "\ttable td {border:inset 1px;}\n",
       "\ttable tr#HeaderRow {background-color:grey; color:white;}</style>\n",
       "<html><table>\n",
       "\t<tr id=\"HeaderRow\">\n",
       "\t\t<th>sex</th>\n",
       "\t\t<th>id</th>\n",
       "\t\t<th>embarked</th>\n",
       "\t\t<th>age</th>\n",
       "\t\t<th>passenger</th>\n",
       "\t\t<th>sibsp</th>\n",
       "\t\t<th>parch</th>\n",
       "\t\t<th>fare</th>\n",
       "\t\t<th>pclass</th>\n",
       "\t\t<th>survived</th>\n",
       "\t</tr>\n",
       "\t<tr>\n",
       "\t\t<td>female</td>\n",
       "\t\t<td>9</td>\n",
       "\t\t<td>Q</td>\n",
       "\t\t<td>30</td>\n",
       "\t\t<td>265</td>\n",
       "\t\t<td>0</td>\n",
       "\t\t<td>0</td>\n",
       "\t\t<td>7.75</td>\n",
       "\t\t<td>3</td>\n",
       "\t\t<td>0</td>\n",
       "\t</tr>\n",
       "\t<tr>\n",
       "\t\t<td>female</td>\n",
       "\t\t<td>13</td>\n",
       "\t\t<td>C</td>\n",
       "\t\t<td>36</td>\n",
       "\t\t<td>326</td>\n",
       "\t\t<td>0</td>\n",
       "\t\t<td>0</td>\n",
       "\t\t<td>135.6333</td>\n",
       "\t\t<td>1</td>\n",
       "\t\t<td>1</td>\n",
       "\t</tr>\n",
       "\t<tr>\n",
       "\t\t<td>male</td>\n",
       "\t\t<td>21</td>\n",
       "\t\t<td>S</td>\n",
       "\t\t<td>30</td>\n",
       "\t\t<td>385</td>\n",
       "\t\t<td>0</td>\n",
       "\t\t<td>0</td>\n",
       "\t\t<td>7.8958</td>\n",
       "\t\t<td>3</td>\n",
       "\t\t<td>0</td>\n",
       "\t</tr>\n",
       "\t<tr>\n",
       "\t\t<td>female</td>\n",
       "\t\t<td>10</td>\n",
       "\t\t<td>S</td>\n",
       "\t\t<td>2</td>\n",
       "\t\t<td>120</td>\n",
       "\t\t<td>4</td>\n",
       "\t\t<td>2</td>\n",
       "\t\t<td>31.275</td>\n",
       "\t\t<td>3</td>\n",
       "\t\t<td>0</td>\n",
       "\t</tr>\n",
       "\t<tr>\n",
       "\t\t<td>male</td>\n",
       "\t\t<td>12</td>\n",
       "\t\t<td>S</td>\n",
       "\t\t<td>18</td>\n",
       "\t\t<td>425</td>\n",
       "\t\t<td>1</td>\n",
       "\t\t<td>1</td>\n",
       "\t\t<td>20.2125</td>\n",
       "\t\t<td>3</td>\n",
       "\t\t<td>0</td>\n",
       "\t</tr>\n",
       "\t<tr>\n",
       "\t\t<td>male</td>\n",
       "\t\t<td>20</td>\n",
       "\t\t<td>S</td>\n",
       "\t\t<td>29</td>\n",
       "\t\t<td>118</td>\n",
       "\t\t<td>1</td>\n",
       "\t\t<td>0</td>\n",
       "\t\t<td>21.0</td>\n",
       "\t\t<td>2</td>\n",
       "\t\t<td>0</td>\n",
       "\t</tr>\n",
       "\t<tr>\n",
       "\t\t<td>male</td>\n",
       "\t\t<td>15</td>\n",
       "\t\t<td>S</td>\n",
       "\t\t<td>30</td>\n",
       "\t\t<td>202</td>\n",
       "\t\t<td>8</td>\n",
       "\t\t<td>2</td>\n",
       "\t\t<td>69.55</td>\n",
       "\t\t<td>3</td>\n",
       "\t\t<td>0</td>\n",
       "\t</tr>\n",
       "\t<tr>\n",
       "\t\t<td>male</td>\n",
       "\t\t<td>23</td>\n",
       "\t\t<td>S</td>\n",
       "\t\t<td>30</td>\n",
       "\t\t<td>528</td>\n",
       "\t\t<td>0</td>\n",
       "\t\t<td>0</td>\n",
       "\t\t<td>221.7792</td>\n",
       "\t\t<td>1</td>\n",
       "\t\t<td>0</td>\n",
       "\t</tr>\n",
       "\t<tr>\n",
       "\t\t<td>female</td>\n",
       "\t\t<td>14</td>\n",
       "\t\t<td>S</td>\n",
       "\t\t<td>30</td>\n",
       "\t\t<td>181</td>\n",
       "\t\t<td>8</td>\n",
       "\t\t<td>2</td>\n",
       "\t\t<td>69.55</td>\n",
       "\t\t<td>3</td>\n",
       "\t\t<td>0</td>\n",
       "\t</tr>\n",
       "\t<tr>\n",
       "\t\t<td>female</td>\n",
       "\t\t<td>22</td>\n",
       "\t\t<td>S</td>\n",
       "\t\t<td>36</td>\n",
       "\t\t<td>541</td>\n",
       "\t\t<td>0</td>\n",
       "\t\t<td>2</td>\n",
       "\t\t<td>71.0</td>\n",
       "\t\t<td>1</td>\n",
       "\t\t<td>1</td>\n",
       "\t</tr>\n",
       "</table></html>"
      ],
      "text/plain": [
       "      sex  id embarked  age  passenger  sibsp  parch      fare  pclass  survived\n",
       "0  female   9        Q   30        265      0      0    7.7500       3         0\n",
       "1  female  13        C   36        326      0      0  135.6333       1         1\n",
       "2    male  21        S   30        385      0      0    7.8958       3         0\n",
       "3  female  10        S    2        120      4      2   31.2750       3         0\n",
       "4    male  12        S   18        425      1      1   20.2125       3         0\n",
       "5    male  20        S   29        118      1      0   21.0000       2         0\n",
       "6    male  15        S   30        202      8      2   69.5500       3         0\n",
       "7    male  23        S   30        528      0      0  221.7792       1         0\n",
       "8  female  14        S   30        181      8      2   69.5500       3         0\n",
       "9  female  22        S   36        541      0      2   71.0000       1         1"
      ]
     },
     "metadata": {},
     "output_type": "display_data"
    },
    {
     "name": "stdout",
     "output_type": "stream",
     "text": [
      "                                                                                                 \r"
     ]
    },
    {
     "data": {
      "text/html": [
       "178 rows X 10 columns"
      ],
      "text/plain": [
       "<IPython.core.display.HTML object>"
      ]
     },
     "metadata": {},
     "output_type": "display_data"
    },
    {
     "name": "stdout",
     "output_type": "stream",
     "text": [
      "                                                                                                 \r"
     ]
    },
    {
     "data": {
      "text/html": [
       "\n",
       "Updated dataset after performing categorical encoding :"
      ],
      "text/plain": [
       "<IPython.core.display.HTML object>"
      ]
     },
     "metadata": {},
     "output_type": "display_data"
    },
    {
     "data": {
      "text/html": [
       "<style type=\"text/css\">\n",
       "\ttable {border:ridge 5px;}\n",
       "\ttable td {border:inset 1px;}\n",
       "\ttable tr#HeaderRow {background-color:grey; color:white;}</style>\n",
       "<html><table>\n",
       "\t<tr id=\"HeaderRow\">\n",
       "\t\t<th>sex_0</th>\n",
       "\t\t<th>sex_1</th>\n",
       "\t\t<th>id</th>\n",
       "\t\t<th>embarked_0</th>\n",
       "\t\t<th>embarked_1</th>\n",
       "\t\t<th>embarked_2</th>\n",
       "\t\t<th>age</th>\n",
       "\t\t<th>passenger</th>\n",
       "\t\t<th>sibsp</th>\n",
       "\t\t<th>parch</th>\n",
       "\t\t<th>fare</th>\n",
       "\t\t<th>pclass</th>\n",
       "\t\t<th>survived</th>\n",
       "\t</tr>\n",
       "\t<tr>\n",
       "\t\t<td>1</td>\n",
       "\t\t<td>0</td>\n",
       "\t\t<td>163</td>\n",
       "\t\t<td>0</td>\n",
       "\t\t<td>0</td>\n",
       "\t\t<td>1</td>\n",
       "\t\t<td>35</td>\n",
       "\t\t<td>212</td>\n",
       "\t\t<td>0</td>\n",
       "\t\t<td>0</td>\n",
       "\t\t<td>21.0</td>\n",
       "\t\t<td>2</td>\n",
       "\t\t<td>1</td>\n",
       "\t</tr>\n",
       "\t<tr>\n",
       "\t\t<td>1</td>\n",
       "\t\t<td>0</td>\n",
       "\t\t<td>40</td>\n",
       "\t\t<td>0</td>\n",
       "\t\t<td>0</td>\n",
       "\t\t<td>1</td>\n",
       "\t\t<td>30</td>\n",
       "\t\t<td>236</td>\n",
       "\t\t<td>0</td>\n",
       "\t\t<td>0</td>\n",
       "\t\t<td>7.55</td>\n",
       "\t\t<td>3</td>\n",
       "\t\t<td>0</td>\n",
       "\t</tr>\n",
       "\t<tr>\n",
       "\t\t<td>1</td>\n",
       "\t\t<td>0</td>\n",
       "\t\t<td>48</td>\n",
       "\t\t<td>0</td>\n",
       "\t\t<td>0</td>\n",
       "\t\t<td>1</td>\n",
       "\t\t<td>38</td>\n",
       "\t\t<td>26</td>\n",
       "\t\t<td>1</td>\n",
       "\t\t<td>5</td>\n",
       "\t\t<td>31.3875</td>\n",
       "\t\t<td>3</td>\n",
       "\t\t<td>1</td>\n",
       "\t</tr>\n",
       "\t<tr>\n",
       "\t\t<td>1</td>\n",
       "\t\t<td>0</td>\n",
       "\t\t<td>72</td>\n",
       "\t\t<td>0</td>\n",
       "\t\t<td>0</td>\n",
       "\t\t<td>1</td>\n",
       "\t\t<td>24</td>\n",
       "\t\t<td>346</td>\n",
       "\t\t<td>0</td>\n",
       "\t\t<td>0</td>\n",
       "\t\t<td>13.0</td>\n",
       "\t\t<td>2</td>\n",
       "\t\t<td>1</td>\n",
       "\t</tr>\n",
       "\t<tr>\n",
       "\t\t<td>1</td>\n",
       "\t\t<td>0</td>\n",
       "\t\t<td>88</td>\n",
       "\t\t<td>1</td>\n",
       "\t\t<td>0</td>\n",
       "\t\t<td>0</td>\n",
       "\t\t<td>45</td>\n",
       "\t\t<td>363</td>\n",
       "\t\t<td>0</td>\n",
       "\t\t<td>1</td>\n",
       "\t\t<td>14.4542</td>\n",
       "\t\t<td>3</td>\n",
       "\t\t<td>0</td>\n",
       "\t</tr>\n",
       "\t<tr>\n",
       "\t\t<td>1</td>\n",
       "\t\t<td>0</td>\n",
       "\t\t<td>104</td>\n",
       "\t\t<td>0</td>\n",
       "\t\t<td>0</td>\n",
       "\t\t<td>1</td>\n",
       "\t\t<td>21</td>\n",
       "\t\t<td>403</td>\n",
       "\t\t<td>1</td>\n",
       "\t\t<td>0</td>\n",
       "\t\t<td>9.825</td>\n",
       "\t\t<td>3</td>\n",
       "\t\t<td>0</td>\n",
       "\t</tr>\n",
       "\t<tr>\n",
       "\t\t<td>0</td>\n",
       "\t\t<td>1</td>\n",
       "\t\t<td>27</td>\n",
       "\t\t<td>0</td>\n",
       "\t\t<td>0</td>\n",
       "\t\t<td>1</td>\n",
       "\t\t<td>20</td>\n",
       "\t\t<td>665</td>\n",
       "\t\t<td>1</td>\n",
       "\t\t<td>0</td>\n",
       "\t\t<td>7.925</td>\n",
       "\t\t<td>3</td>\n",
       "\t\t<td>1</td>\n",
       "\t</tr>\n",
       "\t<tr>\n",
       "\t\t<td>0</td>\n",
       "\t\t<td>1</td>\n",
       "\t\t<td>51</td>\n",
       "\t\t<td>0</td>\n",
       "\t\t<td>0</td>\n",
       "\t\t<td>1</td>\n",
       "\t\t<td>26</td>\n",
       "\t\t<td>70</td>\n",
       "\t\t<td>2</td>\n",
       "\t\t<td>0</td>\n",
       "\t\t<td>8.6625</td>\n",
       "\t\t<td>3</td>\n",
       "\t\t<td>0</td>\n",
       "\t</tr>\n",
       "\t<tr>\n",
       "\t\t<td>0</td>\n",
       "\t\t<td>1</td>\n",
       "\t\t<td>59</td>\n",
       "\t\t<td>0</td>\n",
       "\t\t<td>0</td>\n",
       "\t\t<td>1</td>\n",
       "\t\t<td>50</td>\n",
       "\t\t<td>661</td>\n",
       "\t\t<td>2</td>\n",
       "\t\t<td>0</td>\n",
       "\t\t<td>133.65</td>\n",
       "\t\t<td>1</td>\n",
       "\t\t<td>1</td>\n",
       "\t</tr>\n",
       "\t<tr>\n",
       "\t\t<td>0</td>\n",
       "\t\t<td>1</td>\n",
       "\t\t<td>67</td>\n",
       "\t\t<td>0</td>\n",
       "\t\t<td>0</td>\n",
       "\t\t<td>1</td>\n",
       "\t\t<td>33</td>\n",
       "\t\t<td>720</td>\n",
       "\t\t<td>0</td>\n",
       "\t\t<td>0</td>\n",
       "\t\t<td>7.775</td>\n",
       "\t\t<td>3</td>\n",
       "\t\t<td>0</td>\n",
       "\t</tr>\n",
       "</table></html>"
      ],
      "text/plain": [
       "       sex_1   id  embarked_0  embarked_1  embarked_2  age  passenger  sibsp  parch      fare  pclass  survived\n",
       "sex_0                                                                                                          \n",
       "1          0  163           0           0           1   35        212      0      0   21.0000       2         1\n",
       "1          0   40           0           0           1   30        236      0      0    7.5500       3         0\n",
       "1          0   48           0           0           1   38         26      1      5   31.3875       3         1\n",
       "1          0   72           0           0           1   24        346      0      0   13.0000       2         1\n",
       "1          0   88           1           0           0   45        363      0      1   14.4542       3         0\n",
       "1          0  104           0           0           1   21        403      1      0    9.8250       3         0\n",
       "0          1   27           0           0           1   20        665      1      0    7.9250       3         1\n",
       "0          1   51           0           0           1   26         70      2      0    8.6625       3         0\n",
       "0          1   59           0           0           1   50        661      2      0  133.6500       1         1\n",
       "0          1   67           0           0           1   33        720      0      0    7.7750       3         0"
      ]
     },
     "metadata": {},
     "output_type": "display_data"
    },
    {
     "name": "stdout",
     "output_type": "stream",
     "text": [
      "                                                                                                 \r"
     ]
    },
    {
     "data": {
      "text/html": [
       "178 rows X 13 columns"
      ],
      "text/plain": [
       "<IPython.core.display.HTML object>"
      ]
     },
     "metadata": {},
     "output_type": "display_data"
    },
    {
     "name": "stdout",
     "output_type": "stream",
     "text": [
      "                                                                                                 \r"
     ]
    },
    {
     "data": {
      "text/html": [
       "Performing transformation carried out in data preparation phase ..."
      ],
      "text/plain": [
       "<IPython.core.display.HTML object>"
      ]
     },
     "metadata": {},
     "output_type": "display_data"
    },
    {
     "name": "stdout",
     "output_type": "stream",
     "text": [
      "                                                                                                 \r"
     ]
    },
    {
     "data": {
      "text/html": [
       "\n",
       "Updated dataset after performing Lasso feature selection:"
      ],
      "text/plain": [
       "<IPython.core.display.HTML object>"
      ]
     },
     "metadata": {},
     "output_type": "display_data"
    },
    {
     "data": {
      "text/html": [
       "<style type=\"text/css\">\n",
       "\ttable {border:ridge 5px;}\n",
       "\ttable td {border:inset 1px;}\n",
       "\ttable tr#HeaderRow {background-color:grey; color:white;}</style>\n",
       "<html><table>\n",
       "\t<tr id=\"HeaderRow\">\n",
       "\t\t<th>id</th>\n",
       "\t\t<th>sex_0</th>\n",
       "\t\t<th>embarked_1</th>\n",
       "\t\t<th>sex_1</th>\n",
       "\t\t<th>embarked_0</th>\n",
       "\t\t<th>age</th>\n",
       "\t\t<th>embarked_2</th>\n",
       "\t\t<th>passenger</th>\n",
       "\t\t<th>sibsp</th>\n",
       "\t\t<th>fare</th>\n",
       "\t\t<th>pclass</th>\n",
       "\t\t<th>survived</th>\n",
       "\t</tr>\n",
       "\t<tr>\n",
       "\t\t<td>48</td>\n",
       "\t\t<td>1</td>\n",
       "\t\t<td>0</td>\n",
       "\t\t<td>0</td>\n",
       "\t\t<td>0</td>\n",
       "\t\t<td>38</td>\n",
       "\t\t<td>1</td>\n",
       "\t\t<td>26</td>\n",
       "\t\t<td>1</td>\n",
       "\t\t<td>31.3875</td>\n",
       "\t\t<td>3</td>\n",
       "\t\t<td>1</td>\n",
       "\t</tr>\n",
       "\t<tr>\n",
       "\t\t<td>88</td>\n",
       "\t\t<td>1</td>\n",
       "\t\t<td>0</td>\n",
       "\t\t<td>0</td>\n",
       "\t\t<td>1</td>\n",
       "\t\t<td>45</td>\n",
       "\t\t<td>0</td>\n",
       "\t\t<td>363</td>\n",
       "\t\t<td>0</td>\n",
       "\t\t<td>14.4542</td>\n",
       "\t\t<td>3</td>\n",
       "\t\t<td>0</td>\n",
       "\t</tr>\n",
       "\t<tr>\n",
       "\t\t<td>104</td>\n",
       "\t\t<td>1</td>\n",
       "\t\t<td>0</td>\n",
       "\t\t<td>0</td>\n",
       "\t\t<td>0</td>\n",
       "\t\t<td>21</td>\n",
       "\t\t<td>1</td>\n",
       "\t\t<td>403</td>\n",
       "\t\t<td>1</td>\n",
       "\t\t<td>9.825</td>\n",
       "\t\t<td>3</td>\n",
       "\t\t<td>0</td>\n",
       "\t</tr>\n",
       "\t<tr>\n",
       "\t\t<td>168</td>\n",
       "\t\t<td>1</td>\n",
       "\t\t<td>1</td>\n",
       "\t\t<td>0</td>\n",
       "\t\t<td>0</td>\n",
       "\t\t<td>22</td>\n",
       "\t\t<td>0</td>\n",
       "\t\t<td>290</td>\n",
       "\t\t<td>0</td>\n",
       "\t\t<td>7.75</td>\n",
       "\t\t<td>3</td>\n",
       "\t\t<td>1</td>\n",
       "\t</tr>\n",
       "\t<tr>\n",
       "\t\t<td>41</td>\n",
       "\t\t<td>1</td>\n",
       "\t\t<td>0</td>\n",
       "\t\t<td>0</td>\n",
       "\t\t<td>0</td>\n",
       "\t\t<td>18</td>\n",
       "\t\t<td>1</td>\n",
       "\t\t<td>787</td>\n",
       "\t\t<td>0</td>\n",
       "\t\t<td>7.4958</td>\n",
       "\t\t<td>3</td>\n",
       "\t\t<td>1</td>\n",
       "\t</tr>\n",
       "\t<tr>\n",
       "\t\t<td>105</td>\n",
       "\t\t<td>1</td>\n",
       "\t\t<td>0</td>\n",
       "\t\t<td>0</td>\n",
       "\t\t<td>0</td>\n",
       "\t\t<td>47</td>\n",
       "\t\t<td>1</td>\n",
       "\t\t<td>872</td>\n",
       "\t\t<td>1</td>\n",
       "\t\t<td>52.5542</td>\n",
       "\t\t<td>1</td>\n",
       "\t\t<td>1</td>\n",
       "\t</tr>\n",
       "\t<tr>\n",
       "\t\t<td>59</td>\n",
       "\t\t<td>0</td>\n",
       "\t\t<td>0</td>\n",
       "\t\t<td>1</td>\n",
       "\t\t<td>0</td>\n",
       "\t\t<td>50</td>\n",
       "\t\t<td>1</td>\n",
       "\t\t<td>661</td>\n",
       "\t\t<td>2</td>\n",
       "\t\t<td>133.65</td>\n",
       "\t\t<td>1</td>\n",
       "\t\t<td>1</td>\n",
       "\t</tr>\n",
       "\t<tr>\n",
       "\t\t<td>83</td>\n",
       "\t\t<td>0</td>\n",
       "\t\t<td>0</td>\n",
       "\t\t<td>1</td>\n",
       "\t\t<td>0</td>\n",
       "\t\t<td>42</td>\n",
       "\t\t<td>1</td>\n",
       "\t\t<td>350</td>\n",
       "\t\t<td>0</td>\n",
       "\t\t<td>8.6625</td>\n",
       "\t\t<td>3</td>\n",
       "\t\t<td>0</td>\n",
       "\t</tr>\n",
       "\t<tr>\n",
       "\t\t<td>91</td>\n",
       "\t\t<td>0</td>\n",
       "\t\t<td>0</td>\n",
       "\t\t<td>1</td>\n",
       "\t\t<td>0</td>\n",
       "\t\t<td>1</td>\n",
       "\t\t<td>1</td>\n",
       "\t\t<td>184</td>\n",
       "\t\t<td>2</td>\n",
       "\t\t<td>39.0</td>\n",
       "\t\t<td>2</td>\n",
       "\t\t<td>1</td>\n",
       "\t</tr>\n",
       "\t<tr>\n",
       "\t\t<td>107</td>\n",
       "\t\t<td>0</td>\n",
       "\t\t<td>0</td>\n",
       "\t\t<td>1</td>\n",
       "\t\t<td>0</td>\n",
       "\t\t<td>28</td>\n",
       "\t\t<td>1</td>\n",
       "\t\t<td>201</td>\n",
       "\t\t<td>0</td>\n",
       "\t\t<td>9.5</td>\n",
       "\t\t<td>3</td>\n",
       "\t\t<td>0</td>\n",
       "\t</tr>\n",
       "</table></html>"
      ],
      "text/plain": [
       "        id  embarked_1  sex_1  embarked_0  age  embarked_2  passenger  sibsp      fare  pclass  survived\n",
       "sex_0                                                                                                   \n",
       "1       48           0      0           0   38           1         26      1   31.3875       3         1\n",
       "1       88           0      0           1   45           0        363      0   14.4542       3         0\n",
       "1      104           0      0           0   21           1        403      1    9.8250       3         0\n",
       "1      168           1      0           0   22           0        290      0    7.7500       3         1\n",
       "1       41           0      0           0   18           1        787      0    7.4958       3         1\n",
       "1      105           0      0           0   47           1        872      1   52.5542       1         1\n",
       "0       59           0      1           0   50           1        661      2  133.6500       1         1\n",
       "0       83           0      1           0   42           1        350      0    8.6625       3         0\n",
       "0       91           0      1           0    1           1        184      2   39.0000       2         1\n",
       "0      107           0      1           0   28           1        201      0    9.5000       3         0"
      ]
     },
     "metadata": {},
     "output_type": "display_data"
    },
    {
     "name": "stdout",
     "output_type": "stream",
     "text": [
      "                                                                                                 \r"
     ]
    },
    {
     "data": {
      "text/html": [
       "178 rows X 12 columns"
      ],
      "text/plain": [
       "<IPython.core.display.HTML object>"
      ]
     },
     "metadata": {},
     "output_type": "display_data"
    },
    {
     "name": "stdout",
     "output_type": "stream",
     "text": [
      "                                                                                                 \r"
     ]
    },
    {
     "data": {
      "text/html": [
       "\n",
       "Updated dataset after performing scaling on Lasso selected features :"
      ],
      "text/plain": [
       "<IPython.core.display.HTML object>"
      ]
     },
     "metadata": {},
     "output_type": "display_data"
    },
    {
     "data": {
      "text/html": [
       "<style type=\"text/css\">\n",
       "\ttable {border:ridge 5px;}\n",
       "\ttable td {border:inset 1px;}\n",
       "\ttable tr#HeaderRow {background-color:grey; color:white;}</style>\n",
       "<html><table>\n",
       "\t<tr id=\"HeaderRow\">\n",
       "\t\t<th>sex_0</th>\n",
       "\t\t<th>embarked_1</th>\n",
       "\t\t<th>sex_1</th>\n",
       "\t\t<th>embarked_0</th>\n",
       "\t\t<th>embarked_2</th>\n",
       "\t\t<th>survived</th>\n",
       "\t\t<th>id</th>\n",
       "\t\t<th>age</th>\n",
       "\t\t<th>passenger</th>\n",
       "\t\t<th>sibsp</th>\n",
       "\t\t<th>fare</th>\n",
       "\t\t<th>pclass</th>\n",
       "\t</tr>\n",
       "\t<tr>\n",
       "\t\t<td>1</td>\n",
       "\t\t<td>0</td>\n",
       "\t\t<td>0</td>\n",
       "\t\t<td>0</td>\n",
       "\t\t<td>1</td>\n",
       "\t\t<td>1</td>\n",
       "\t\t<td>48</td>\n",
       "\t\t<td>0.6862745098039216</td>\n",
       "\t\t<td>0.028089887640449437</td>\n",
       "\t\t<td>0.5</td>\n",
       "\t\t<td>0.5506578947368421</td>\n",
       "\t\t<td>1.0</td>\n",
       "\t</tr>\n",
       "\t<tr>\n",
       "\t\t<td>1</td>\n",
       "\t\t<td>0</td>\n",
       "\t\t<td>0</td>\n",
       "\t\t<td>1</td>\n",
       "\t\t<td>0</td>\n",
       "\t\t<td>0</td>\n",
       "\t\t<td>88</td>\n",
       "\t\t<td>0.8235294117647058</td>\n",
       "\t\t<td>0.4067415730337079</td>\n",
       "\t\t<td>0.0</td>\n",
       "\t\t<td>0.25358245614035085</td>\n",
       "\t\t<td>1.0</td>\n",
       "\t</tr>\n",
       "\t<tr>\n",
       "\t\t<td>1</td>\n",
       "\t\t<td>0</td>\n",
       "\t\t<td>0</td>\n",
       "\t\t<td>0</td>\n",
       "\t\t<td>1</td>\n",
       "\t\t<td>0</td>\n",
       "\t\t<td>104</td>\n",
       "\t\t<td>0.35294117647058826</td>\n",
       "\t\t<td>0.451685393258427</td>\n",
       "\t\t<td>0.5</td>\n",
       "\t\t<td>0.17236842105263156</td>\n",
       "\t\t<td>1.0</td>\n",
       "\t</tr>\n",
       "\t<tr>\n",
       "\t\t<td>1</td>\n",
       "\t\t<td>1</td>\n",
       "\t\t<td>0</td>\n",
       "\t\t<td>0</td>\n",
       "\t\t<td>0</td>\n",
       "\t\t<td>1</td>\n",
       "\t\t<td>168</td>\n",
       "\t\t<td>0.37254901960784315</td>\n",
       "\t\t<td>0.32471910112359553</td>\n",
       "\t\t<td>0.0</td>\n",
       "\t\t<td>0.13596491228070176</td>\n",
       "\t\t<td>1.0</td>\n",
       "\t</tr>\n",
       "\t<tr>\n",
       "\t\t<td>1</td>\n",
       "\t\t<td>0</td>\n",
       "\t\t<td>0</td>\n",
       "\t\t<td>0</td>\n",
       "\t\t<td>1</td>\n",
       "\t\t<td>1</td>\n",
       "\t\t<td>41</td>\n",
       "\t\t<td>0.29411764705882354</td>\n",
       "\t\t<td>0.8831460674157303</td>\n",
       "\t\t<td>0.0</td>\n",
       "\t\t<td>0.13150526315789474</td>\n",
       "\t\t<td>1.0</td>\n",
       "\t</tr>\n",
       "\t<tr>\n",
       "\t\t<td>1</td>\n",
       "\t\t<td>0</td>\n",
       "\t\t<td>0</td>\n",
       "\t\t<td>0</td>\n",
       "\t\t<td>1</td>\n",
       "\t\t<td>1</td>\n",
       "\t\t<td>105</td>\n",
       "\t\t<td>0.8627450980392157</td>\n",
       "\t\t<td>0.9786516853932584</td>\n",
       "\t\t<td>0.5</td>\n",
       "\t\t<td>0.9220035087719298</td>\n",
       "\t\t<td>0.0</td>\n",
       "\t</tr>\n",
       "\t<tr>\n",
       "\t\t<td>0</td>\n",
       "\t\t<td>0</td>\n",
       "\t\t<td>1</td>\n",
       "\t\t<td>0</td>\n",
       "\t\t<td>1</td>\n",
       "\t\t<td>1</td>\n",
       "\t\t<td>59</td>\n",
       "\t\t<td>0.9215686274509803</td>\n",
       "\t\t<td>0.7415730337078652</td>\n",
       "\t\t<td>1.0</td>\n",
       "\t\t<td>2.3447368421052635</td>\n",
       "\t\t<td>0.0</td>\n",
       "\t</tr>\n",
       "\t<tr>\n",
       "\t\t<td>0</td>\n",
       "\t\t<td>0</td>\n",
       "\t\t<td>1</td>\n",
       "\t\t<td>0</td>\n",
       "\t\t<td>1</td>\n",
       "\t\t<td>0</td>\n",
       "\t\t<td>83</td>\n",
       "\t\t<td>0.7647058823529411</td>\n",
       "\t\t<td>0.3921348314606742</td>\n",
       "\t\t<td>0.0</td>\n",
       "\t\t<td>0.15197368421052632</td>\n",
       "\t\t<td>1.0</td>\n",
       "\t</tr>\n",
       "\t<tr>\n",
       "\t\t<td>0</td>\n",
       "\t\t<td>0</td>\n",
       "\t\t<td>1</td>\n",
       "\t\t<td>0</td>\n",
       "\t\t<td>1</td>\n",
       "\t\t<td>1</td>\n",
       "\t\t<td>91</td>\n",
       "\t\t<td>-0.0392156862745098</td>\n",
       "\t\t<td>0.20561797752808988</td>\n",
       "\t\t<td>1.0</td>\n",
       "\t\t<td>0.6842105263157895</td>\n",
       "\t\t<td>0.5</td>\n",
       "\t</tr>\n",
       "\t<tr>\n",
       "\t\t<td>0</td>\n",
       "\t\t<td>0</td>\n",
       "\t\t<td>1</td>\n",
       "\t\t<td>0</td>\n",
       "\t\t<td>1</td>\n",
       "\t\t<td>0</td>\n",
       "\t\t<td>107</td>\n",
       "\t\t<td>0.49019607843137253</td>\n",
       "\t\t<td>0.2247191011235955</td>\n",
       "\t\t<td>0.0</td>\n",
       "\t\t<td>0.16666666666666666</td>\n",
       "\t\t<td>1.0</td>\n",
       "\t</tr>\n",
       "</table></html>"
      ],
      "text/plain": [
       "   sex_0  embarked_1  sex_1  embarked_0  embarked_2  survived   id       age  passenger  sibsp      fare  pclass\n",
       "0      1           0      0           0           1         1   48  0.686275   0.028090    0.5  0.550658     1.0\n",
       "1      1           0      0           1           0         0   88  0.823529   0.406742    0.0  0.253582     1.0\n",
       "2      1           0      0           0           1         0  104  0.352941   0.451685    0.5  0.172368     1.0\n",
       "3      1           1      0           0           0         1  168  0.372549   0.324719    0.0  0.135965     1.0\n",
       "4      1           0      0           0           1         1   41  0.294118   0.883146    0.0  0.131505     1.0\n",
       "5      1           0      0           0           1         1  105  0.862745   0.978652    0.5  0.922004     0.0\n",
       "6      0           0      1           0           1         1   59  0.921569   0.741573    1.0  2.344737     0.0\n",
       "7      0           0      1           0           1         0   83  0.764706   0.392135    0.0  0.151974     1.0\n",
       "8      0           0      1           0           1         1   91 -0.039216   0.205618    1.0  0.684211     0.5\n",
       "9      0           0      1           0           1         0  107  0.490196   0.224719    0.0  0.166667     1.0"
      ]
     },
     "metadata": {},
     "output_type": "display_data"
    },
    {
     "name": "stdout",
     "output_type": "stream",
     "text": [
      "                                                                                                 \r"
     ]
    },
    {
     "data": {
      "text/html": [
       "178 rows X 12 columns"
      ],
      "text/plain": [
       "<IPython.core.display.HTML object>"
      ]
     },
     "metadata": {},
     "output_type": "display_data"
    },
    {
     "name": "stdout",
     "output_type": "stream",
     "text": [
      "                                                                                                 \r"
     ]
    },
    {
     "data": {
      "text/html": [
       "\n",
       "Updated dataset after performing RFE feature selection:"
      ],
      "text/plain": [
       "<IPython.core.display.HTML object>"
      ]
     },
     "metadata": {},
     "output_type": "display_data"
    },
    {
     "data": {
      "text/html": [
       "<style type=\"text/css\">\n",
       "\ttable {border:ridge 5px;}\n",
       "\ttable td {border:inset 1px;}\n",
       "\ttable tr#HeaderRow {background-color:grey; color:white;}</style>\n",
       "<html><table>\n",
       "\t<tr id=\"HeaderRow\">\n",
       "\t\t<th>id</th>\n",
       "\t\t<th>sex_0</th>\n",
       "\t\t<th>embarked_1</th>\n",
       "\t\t<th>sex_1</th>\n",
       "\t\t<th>age</th>\n",
       "\t\t<th>embarked_0</th>\n",
       "\t\t<th>embarked_2</th>\n",
       "\t\t<th>passenger</th>\n",
       "\t\t<th>sibsp</th>\n",
       "\t\t<th>parch</th>\n",
       "\t\t<th>pclass</th>\n",
       "\t\t<th>fare</th>\n",
       "\t\t<th>survived</th>\n",
       "\t</tr>\n",
       "\t<tr>\n",
       "\t\t<td>48</td>\n",
       "\t\t<td>1</td>\n",
       "\t\t<td>0</td>\n",
       "\t\t<td>0</td>\n",
       "\t\t<td>38</td>\n",
       "\t\t<td>0</td>\n",
       "\t\t<td>1</td>\n",
       "\t\t<td>26</td>\n",
       "\t\t<td>1</td>\n",
       "\t\t<td>5</td>\n",
       "\t\t<td>3</td>\n",
       "\t\t<td>31.3875</td>\n",
       "\t\t<td>1</td>\n",
       "\t</tr>\n",
       "\t<tr>\n",
       "\t\t<td>88</td>\n",
       "\t\t<td>1</td>\n",
       "\t\t<td>0</td>\n",
       "\t\t<td>0</td>\n",
       "\t\t<td>45</td>\n",
       "\t\t<td>1</td>\n",
       "\t\t<td>0</td>\n",
       "\t\t<td>363</td>\n",
       "\t\t<td>0</td>\n",
       "\t\t<td>1</td>\n",
       "\t\t<td>3</td>\n",
       "\t\t<td>14.4542</td>\n",
       "\t\t<td>0</td>\n",
       "\t</tr>\n",
       "\t<tr>\n",
       "\t\t<td>104</td>\n",
       "\t\t<td>1</td>\n",
       "\t\t<td>0</td>\n",
       "\t\t<td>0</td>\n",
       "\t\t<td>21</td>\n",
       "\t\t<td>0</td>\n",
       "\t\t<td>1</td>\n",
       "\t\t<td>403</td>\n",
       "\t\t<td>1</td>\n",
       "\t\t<td>0</td>\n",
       "\t\t<td>3</td>\n",
       "\t\t<td>9.825</td>\n",
       "\t\t<td>0</td>\n",
       "\t</tr>\n",
       "\t<tr>\n",
       "\t\t<td>168</td>\n",
       "\t\t<td>1</td>\n",
       "\t\t<td>1</td>\n",
       "\t\t<td>0</td>\n",
       "\t\t<td>22</td>\n",
       "\t\t<td>0</td>\n",
       "\t\t<td>0</td>\n",
       "\t\t<td>290</td>\n",
       "\t\t<td>0</td>\n",
       "\t\t<td>0</td>\n",
       "\t\t<td>3</td>\n",
       "\t\t<td>7.75</td>\n",
       "\t\t<td>1</td>\n",
       "\t</tr>\n",
       "\t<tr>\n",
       "\t\t<td>41</td>\n",
       "\t\t<td>1</td>\n",
       "\t\t<td>0</td>\n",
       "\t\t<td>0</td>\n",
       "\t\t<td>18</td>\n",
       "\t\t<td>0</td>\n",
       "\t\t<td>1</td>\n",
       "\t\t<td>787</td>\n",
       "\t\t<td>0</td>\n",
       "\t\t<td>0</td>\n",
       "\t\t<td>3</td>\n",
       "\t\t<td>7.4958</td>\n",
       "\t\t<td>1</td>\n",
       "\t</tr>\n",
       "\t<tr>\n",
       "\t\t<td>105</td>\n",
       "\t\t<td>1</td>\n",
       "\t\t<td>0</td>\n",
       "\t\t<td>0</td>\n",
       "\t\t<td>47</td>\n",
       "\t\t<td>0</td>\n",
       "\t\t<td>1</td>\n",
       "\t\t<td>872</td>\n",
       "\t\t<td>1</td>\n",
       "\t\t<td>1</td>\n",
       "\t\t<td>1</td>\n",
       "\t\t<td>52.5542</td>\n",
       "\t\t<td>1</td>\n",
       "\t</tr>\n",
       "\t<tr>\n",
       "\t\t<td>59</td>\n",
       "\t\t<td>0</td>\n",
       "\t\t<td>0</td>\n",
       "\t\t<td>1</td>\n",
       "\t\t<td>50</td>\n",
       "\t\t<td>0</td>\n",
       "\t\t<td>1</td>\n",
       "\t\t<td>661</td>\n",
       "\t\t<td>2</td>\n",
       "\t\t<td>0</td>\n",
       "\t\t<td>1</td>\n",
       "\t\t<td>133.65</td>\n",
       "\t\t<td>1</td>\n",
       "\t</tr>\n",
       "\t<tr>\n",
       "\t\t<td>83</td>\n",
       "\t\t<td>0</td>\n",
       "\t\t<td>0</td>\n",
       "\t\t<td>1</td>\n",
       "\t\t<td>42</td>\n",
       "\t\t<td>0</td>\n",
       "\t\t<td>1</td>\n",
       "\t\t<td>350</td>\n",
       "\t\t<td>0</td>\n",
       "\t\t<td>0</td>\n",
       "\t\t<td>3</td>\n",
       "\t\t<td>8.6625</td>\n",
       "\t\t<td>0</td>\n",
       "\t</tr>\n",
       "\t<tr>\n",
       "\t\t<td>91</td>\n",
       "\t\t<td>0</td>\n",
       "\t\t<td>0</td>\n",
       "\t\t<td>1</td>\n",
       "\t\t<td>1</td>\n",
       "\t\t<td>0</td>\n",
       "\t\t<td>1</td>\n",
       "\t\t<td>184</td>\n",
       "\t\t<td>2</td>\n",
       "\t\t<td>1</td>\n",
       "\t\t<td>2</td>\n",
       "\t\t<td>39.0</td>\n",
       "\t\t<td>1</td>\n",
       "\t</tr>\n",
       "\t<tr>\n",
       "\t\t<td>107</td>\n",
       "\t\t<td>0</td>\n",
       "\t\t<td>0</td>\n",
       "\t\t<td>1</td>\n",
       "\t\t<td>28</td>\n",
       "\t\t<td>0</td>\n",
       "\t\t<td>1</td>\n",
       "\t\t<td>201</td>\n",
       "\t\t<td>0</td>\n",
       "\t\t<td>0</td>\n",
       "\t\t<td>3</td>\n",
       "\t\t<td>9.5</td>\n",
       "\t\t<td>0</td>\n",
       "\t</tr>\n",
       "</table></html>"
      ],
      "text/plain": [
       "        id  embarked_1  sex_1  age  embarked_0  embarked_2  passenger  sibsp  parch  pclass      fare  survived\n",
       "sex_0                                                                                                          \n",
       "1       48           0      0   38           0           1         26      1      5       3   31.3875         1\n",
       "1       88           0      0   45           1           0        363      0      1       3   14.4542         0\n",
       "1      104           0      0   21           0           1        403      1      0       3    9.8250         0\n",
       "1      168           1      0   22           0           0        290      0      0       3    7.7500         1\n",
       "1       41           0      0   18           0           1        787      0      0       3    7.4958         1\n",
       "1      105           0      0   47           0           1        872      1      1       1   52.5542         1\n",
       "0       59           0      1   50           0           1        661      2      0       1  133.6500         1\n",
       "0       83           0      1   42           0           1        350      0      0       3    8.6625         0\n",
       "0       91           0      1    1           0           1        184      2      1       2   39.0000         1\n",
       "0      107           0      1   28           0           1        201      0      0       3    9.5000         0"
      ]
     },
     "metadata": {},
     "output_type": "display_data"
    },
    {
     "name": "stdout",
     "output_type": "stream",
     "text": [
      "                                                                                                 \r"
     ]
    },
    {
     "data": {
      "text/html": [
       "178 rows X 13 columns"
      ],
      "text/plain": [
       "<IPython.core.display.HTML object>"
      ]
     },
     "metadata": {},
     "output_type": "display_data"
    },
    {
     "name": "stdout",
     "output_type": "stream",
     "text": [
      "                                                                                                 \r"
     ]
    },
    {
     "data": {
      "text/html": [
       "\n",
       "Updated dataset after performing scaling on RFE selected features :"
      ],
      "text/plain": [
       "<IPython.core.display.HTML object>"
      ]
     },
     "metadata": {},
     "output_type": "display_data"
    },
    {
     "data": {
      "text/html": [
       "<style type=\"text/css\">\n",
       "\ttable {border:ridge 5px;}\n",
       "\ttable td {border:inset 1px;}\n",
       "\ttable tr#HeaderRow {background-color:grey; color:white;}</style>\n",
       "<html><table>\n",
       "\t<tr id=\"HeaderRow\">\n",
       "\t\t<th>id</th>\n",
       "\t\t<th>r_sex_0</th>\n",
       "\t\t<th>r_sex_1</th>\n",
       "\t\t<th>r_embarked_0</th>\n",
       "\t\t<th>r_parch</th>\n",
       "\t\t<th>r_embarked_1</th>\n",
       "\t\t<th>survived</th>\n",
       "\t\t<th>r_embarked_2</th>\n",
       "\t\t<th>r_age</th>\n",
       "\t\t<th>r_passenger</th>\n",
       "\t\t<th>r_sibsp</th>\n",
       "\t\t<th>r_pclass</th>\n",
       "\t\t<th>r_fare</th>\n",
       "\t</tr>\n",
       "\t<tr>\n",
       "\t\t<td>48</td>\n",
       "\t\t<td>1</td>\n",
       "\t\t<td>0</td>\n",
       "\t\t<td>0</td>\n",
       "\t\t<td>5</td>\n",
       "\t\t<td>0</td>\n",
       "\t\t<td>1</td>\n",
       "\t\t<td>1</td>\n",
       "\t\t<td>0.6862745098039216</td>\n",
       "\t\t<td>0.028089887640449437</td>\n",
       "\t\t<td>0.5</td>\n",
       "\t\t<td>1.0</td>\n",
       "\t\t<td>0.5506578947368421</td>\n",
       "\t</tr>\n",
       "\t<tr>\n",
       "\t\t<td>88</td>\n",
       "\t\t<td>1</td>\n",
       "\t\t<td>0</td>\n",
       "\t\t<td>1</td>\n",
       "\t\t<td>1</td>\n",
       "\t\t<td>0</td>\n",
       "\t\t<td>0</td>\n",
       "\t\t<td>0</td>\n",
       "\t\t<td>0.8235294117647058</td>\n",
       "\t\t<td>0.4067415730337079</td>\n",
       "\t\t<td>0.0</td>\n",
       "\t\t<td>1.0</td>\n",
       "\t\t<td>0.25358245614035085</td>\n",
       "\t</tr>\n",
       "\t<tr>\n",
       "\t\t<td>104</td>\n",
       "\t\t<td>1</td>\n",
       "\t\t<td>0</td>\n",
       "\t\t<td>0</td>\n",
       "\t\t<td>0</td>\n",
       "\t\t<td>0</td>\n",
       "\t\t<td>0</td>\n",
       "\t\t<td>1</td>\n",
       "\t\t<td>0.35294117647058826</td>\n",
       "\t\t<td>0.451685393258427</td>\n",
       "\t\t<td>0.5</td>\n",
       "\t\t<td>1.0</td>\n",
       "\t\t<td>0.17236842105263156</td>\n",
       "\t</tr>\n",
       "\t<tr>\n",
       "\t\t<td>168</td>\n",
       "\t\t<td>1</td>\n",
       "\t\t<td>0</td>\n",
       "\t\t<td>0</td>\n",
       "\t\t<td>0</td>\n",
       "\t\t<td>1</td>\n",
       "\t\t<td>1</td>\n",
       "\t\t<td>0</td>\n",
       "\t\t<td>0.37254901960784315</td>\n",
       "\t\t<td>0.32471910112359553</td>\n",
       "\t\t<td>0.0</td>\n",
       "\t\t<td>1.0</td>\n",
       "\t\t<td>0.13596491228070176</td>\n",
       "\t</tr>\n",
       "\t<tr>\n",
       "\t\t<td>41</td>\n",
       "\t\t<td>1</td>\n",
       "\t\t<td>0</td>\n",
       "\t\t<td>0</td>\n",
       "\t\t<td>0</td>\n",
       "\t\t<td>0</td>\n",
       "\t\t<td>1</td>\n",
       "\t\t<td>1</td>\n",
       "\t\t<td>0.29411764705882354</td>\n",
       "\t\t<td>0.8831460674157303</td>\n",
       "\t\t<td>0.0</td>\n",
       "\t\t<td>1.0</td>\n",
       "\t\t<td>0.13150526315789474</td>\n",
       "\t</tr>\n",
       "\t<tr>\n",
       "\t\t<td>105</td>\n",
       "\t\t<td>1</td>\n",
       "\t\t<td>0</td>\n",
       "\t\t<td>0</td>\n",
       "\t\t<td>1</td>\n",
       "\t\t<td>0</td>\n",
       "\t\t<td>1</td>\n",
       "\t\t<td>1</td>\n",
       "\t\t<td>0.8627450980392157</td>\n",
       "\t\t<td>0.9786516853932584</td>\n",
       "\t\t<td>0.5</td>\n",
       "\t\t<td>0.0</td>\n",
       "\t\t<td>0.9220035087719298</td>\n",
       "\t</tr>\n",
       "\t<tr>\n",
       "\t\t<td>59</td>\n",
       "\t\t<td>0</td>\n",
       "\t\t<td>1</td>\n",
       "\t\t<td>0</td>\n",
       "\t\t<td>0</td>\n",
       "\t\t<td>0</td>\n",
       "\t\t<td>1</td>\n",
       "\t\t<td>1</td>\n",
       "\t\t<td>0.9215686274509803</td>\n",
       "\t\t<td>0.7415730337078652</td>\n",
       "\t\t<td>1.0</td>\n",
       "\t\t<td>0.0</td>\n",
       "\t\t<td>2.3447368421052635</td>\n",
       "\t</tr>\n",
       "\t<tr>\n",
       "\t\t<td>83</td>\n",
       "\t\t<td>0</td>\n",
       "\t\t<td>1</td>\n",
       "\t\t<td>0</td>\n",
       "\t\t<td>0</td>\n",
       "\t\t<td>0</td>\n",
       "\t\t<td>0</td>\n",
       "\t\t<td>1</td>\n",
       "\t\t<td>0.7647058823529411</td>\n",
       "\t\t<td>0.3921348314606742</td>\n",
       "\t\t<td>0.0</td>\n",
       "\t\t<td>1.0</td>\n",
       "\t\t<td>0.15197368421052632</td>\n",
       "\t</tr>\n",
       "\t<tr>\n",
       "\t\t<td>91</td>\n",
       "\t\t<td>0</td>\n",
       "\t\t<td>1</td>\n",
       "\t\t<td>0</td>\n",
       "\t\t<td>1</td>\n",
       "\t\t<td>0</td>\n",
       "\t\t<td>1</td>\n",
       "\t\t<td>1</td>\n",
       "\t\t<td>-0.0392156862745098</td>\n",
       "\t\t<td>0.20561797752808988</td>\n",
       "\t\t<td>1.0</td>\n",
       "\t\t<td>0.5</td>\n",
       "\t\t<td>0.6842105263157895</td>\n",
       "\t</tr>\n",
       "\t<tr>\n",
       "\t\t<td>107</td>\n",
       "\t\t<td>0</td>\n",
       "\t\t<td>1</td>\n",
       "\t\t<td>0</td>\n",
       "\t\t<td>0</td>\n",
       "\t\t<td>0</td>\n",
       "\t\t<td>0</td>\n",
       "\t\t<td>1</td>\n",
       "\t\t<td>0.49019607843137253</td>\n",
       "\t\t<td>0.2247191011235955</td>\n",
       "\t\t<td>0.0</td>\n",
       "\t\t<td>1.0</td>\n",
       "\t\t<td>0.16666666666666666</td>\n",
       "\t</tr>\n",
       "</table></html>"
      ],
      "text/plain": [
       "    id  r_sex_0  r_sex_1  r_embarked_0  r_parch  r_embarked_1  survived  r_embarked_2     r_age  r_passenger  r_sibsp  r_pclass    r_fare\n",
       "0   48        1        0             0        5             0         1             1  0.686275     0.028090      0.5       1.0  0.550658\n",
       "1   88        1        0             1        1             0         0             0  0.823529     0.406742      0.0       1.0  0.253582\n",
       "2  104        1        0             0        0             0         0             1  0.352941     0.451685      0.5       1.0  0.172368\n",
       "3  168        1        0             0        0             1         1             0  0.372549     0.324719      0.0       1.0  0.135965\n",
       "4   41        1        0             0        0             0         1             1  0.294118     0.883146      0.0       1.0  0.131505\n",
       "5  105        1        0             0        1             0         1             1  0.862745     0.978652      0.5       0.0  0.922004\n",
       "6   59        0        1             0        0             0         1             1  0.921569     0.741573      1.0       0.0  2.344737\n",
       "7   83        0        1             0        0             0         0             1  0.764706     0.392135      0.0       1.0  0.151974\n",
       "8   91        0        1             0        1             0         1             1 -0.039216     0.205618      1.0       0.5  0.684211\n",
       "9  107        0        1             0        0             0         0             1  0.490196     0.224719      0.0       1.0  0.166667"
      ]
     },
     "metadata": {},
     "output_type": "display_data"
    },
    {
     "name": "stdout",
     "output_type": "stream",
     "text": [
      "                                                                                                 \r"
     ]
    },
    {
     "data": {
      "text/html": [
       "178 rows X 13 columns"
      ],
      "text/plain": [
       "<IPython.core.display.HTML object>"
      ]
     },
     "metadata": {},
     "output_type": "display_data"
    },
    {
     "name": "stdout",
     "output_type": "stream",
     "text": [
      "                                                                                                 \r"
     ]
    },
    {
     "data": {
      "text/html": [
       "\n",
       "Updated dataset after performing scaling for PCA feature selection :"
      ],
      "text/plain": [
       "<IPython.core.display.HTML object>"
      ]
     },
     "metadata": {},
     "output_type": "display_data"
    },
    {
     "data": {
      "text/html": [
       "<style type=\"text/css\">\n",
       "\ttable {border:ridge 5px;}\n",
       "\ttable td {border:inset 1px;}\n",
       "\ttable tr#HeaderRow {background-color:grey; color:white;}</style>\n",
       "<html><table>\n",
       "\t<tr id=\"HeaderRow\">\n",
       "\t\t<th>sex_0</th>\n",
       "\t\t<th>embarked_1</th>\n",
       "\t\t<th>sex_1</th>\n",
       "\t\t<th>embarked_0</th>\n",
       "\t\t<th>embarked_2</th>\n",
       "\t\t<th>parch</th>\n",
       "\t\t<th>survived</th>\n",
       "\t\t<th>id</th>\n",
       "\t\t<th>passenger</th>\n",
       "\t\t<th>pclass</th>\n",
       "\t\t<th>age</th>\n",
       "\t\t<th>sibsp</th>\n",
       "\t\t<th>fare</th>\n",
       "\t</tr>\n",
       "\t<tr>\n",
       "\t\t<td>1</td>\n",
       "\t\t<td>0</td>\n",
       "\t\t<td>0</td>\n",
       "\t\t<td>0</td>\n",
       "\t\t<td>1</td>\n",
       "\t\t<td>5</td>\n",
       "\t\t<td>1</td>\n",
       "\t\t<td>48</td>\n",
       "\t\t<td>0.028089887640449437</td>\n",
       "\t\t<td>1.0</td>\n",
       "\t\t<td>0.6862745098039216</td>\n",
       "\t\t<td>0.5</td>\n",
       "\t\t<td>0.5506578947368421</td>\n",
       "\t</tr>\n",
       "\t<tr>\n",
       "\t\t<td>1</td>\n",
       "\t\t<td>0</td>\n",
       "\t\t<td>0</td>\n",
       "\t\t<td>1</td>\n",
       "\t\t<td>0</td>\n",
       "\t\t<td>1</td>\n",
       "\t\t<td>0</td>\n",
       "\t\t<td>88</td>\n",
       "\t\t<td>0.4067415730337079</td>\n",
       "\t\t<td>1.0</td>\n",
       "\t\t<td>0.8235294117647058</td>\n",
       "\t\t<td>0.0</td>\n",
       "\t\t<td>0.25358245614035085</td>\n",
       "\t</tr>\n",
       "\t<tr>\n",
       "\t\t<td>1</td>\n",
       "\t\t<td>0</td>\n",
       "\t\t<td>0</td>\n",
       "\t\t<td>0</td>\n",
       "\t\t<td>1</td>\n",
       "\t\t<td>0</td>\n",
       "\t\t<td>0</td>\n",
       "\t\t<td>104</td>\n",
       "\t\t<td>0.451685393258427</td>\n",
       "\t\t<td>1.0</td>\n",
       "\t\t<td>0.35294117647058826</td>\n",
       "\t\t<td>0.5</td>\n",
       "\t\t<td>0.17236842105263156</td>\n",
       "\t</tr>\n",
       "\t<tr>\n",
       "\t\t<td>1</td>\n",
       "\t\t<td>1</td>\n",
       "\t\t<td>0</td>\n",
       "\t\t<td>0</td>\n",
       "\t\t<td>0</td>\n",
       "\t\t<td>0</td>\n",
       "\t\t<td>1</td>\n",
       "\t\t<td>168</td>\n",
       "\t\t<td>0.32471910112359553</td>\n",
       "\t\t<td>1.0</td>\n",
       "\t\t<td>0.37254901960784315</td>\n",
       "\t\t<td>0.0</td>\n",
       "\t\t<td>0.13596491228070176</td>\n",
       "\t</tr>\n",
       "\t<tr>\n",
       "\t\t<td>1</td>\n",
       "\t\t<td>0</td>\n",
       "\t\t<td>0</td>\n",
       "\t\t<td>0</td>\n",
       "\t\t<td>1</td>\n",
       "\t\t<td>0</td>\n",
       "\t\t<td>1</td>\n",
       "\t\t<td>41</td>\n",
       "\t\t<td>0.8831460674157303</td>\n",
       "\t\t<td>1.0</td>\n",
       "\t\t<td>0.29411764705882354</td>\n",
       "\t\t<td>0.0</td>\n",
       "\t\t<td>0.13150526315789474</td>\n",
       "\t</tr>\n",
       "\t<tr>\n",
       "\t\t<td>1</td>\n",
       "\t\t<td>0</td>\n",
       "\t\t<td>0</td>\n",
       "\t\t<td>0</td>\n",
       "\t\t<td>1</td>\n",
       "\t\t<td>1</td>\n",
       "\t\t<td>1</td>\n",
       "\t\t<td>105</td>\n",
       "\t\t<td>0.9786516853932584</td>\n",
       "\t\t<td>0.0</td>\n",
       "\t\t<td>0.8627450980392157</td>\n",
       "\t\t<td>0.5</td>\n",
       "\t\t<td>0.9220035087719298</td>\n",
       "\t</tr>\n",
       "\t<tr>\n",
       "\t\t<td>0</td>\n",
       "\t\t<td>0</td>\n",
       "\t\t<td>1</td>\n",
       "\t\t<td>0</td>\n",
       "\t\t<td>1</td>\n",
       "\t\t<td>0</td>\n",
       "\t\t<td>1</td>\n",
       "\t\t<td>59</td>\n",
       "\t\t<td>0.7415730337078652</td>\n",
       "\t\t<td>0.0</td>\n",
       "\t\t<td>0.9215686274509803</td>\n",
       "\t\t<td>1.0</td>\n",
       "\t\t<td>2.3447368421052635</td>\n",
       "\t</tr>\n",
       "\t<tr>\n",
       "\t\t<td>0</td>\n",
       "\t\t<td>0</td>\n",
       "\t\t<td>1</td>\n",
       "\t\t<td>0</td>\n",
       "\t\t<td>1</td>\n",
       "\t\t<td>0</td>\n",
       "\t\t<td>0</td>\n",
       "\t\t<td>83</td>\n",
       "\t\t<td>0.3921348314606742</td>\n",
       "\t\t<td>1.0</td>\n",
       "\t\t<td>0.7647058823529411</td>\n",
       "\t\t<td>0.0</td>\n",
       "\t\t<td>0.15197368421052632</td>\n",
       "\t</tr>\n",
       "\t<tr>\n",
       "\t\t<td>0</td>\n",
       "\t\t<td>0</td>\n",
       "\t\t<td>1</td>\n",
       "\t\t<td>0</td>\n",
       "\t\t<td>1</td>\n",
       "\t\t<td>1</td>\n",
       "\t\t<td>1</td>\n",
       "\t\t<td>91</td>\n",
       "\t\t<td>0.20561797752808988</td>\n",
       "\t\t<td>0.5</td>\n",
       "\t\t<td>-0.0392156862745098</td>\n",
       "\t\t<td>1.0</td>\n",
       "\t\t<td>0.6842105263157895</td>\n",
       "\t</tr>\n",
       "\t<tr>\n",
       "\t\t<td>0</td>\n",
       "\t\t<td>0</td>\n",
       "\t\t<td>1</td>\n",
       "\t\t<td>0</td>\n",
       "\t\t<td>1</td>\n",
       "\t\t<td>0</td>\n",
       "\t\t<td>0</td>\n",
       "\t\t<td>107</td>\n",
       "\t\t<td>0.2247191011235955</td>\n",
       "\t\t<td>1.0</td>\n",
       "\t\t<td>0.49019607843137253</td>\n",
       "\t\t<td>0.0</td>\n",
       "\t\t<td>0.16666666666666666</td>\n",
       "\t</tr>\n",
       "</table></html>"
      ],
      "text/plain": [
       "   sex_0  embarked_1  sex_1  embarked_0  embarked_2  parch  survived   id  passenger  pclass       age  sibsp      fare\n",
       "0      1           0      0           0           1      5         1   48   0.028090     1.0  0.686275    0.5  0.550658\n",
       "1      1           0      0           1           0      1         0   88   0.406742     1.0  0.823529    0.0  0.253582\n",
       "2      1           0      0           0           1      0         0  104   0.451685     1.0  0.352941    0.5  0.172368\n",
       "3      1           1      0           0           0      0         1  168   0.324719     1.0  0.372549    0.0  0.135965\n",
       "4      1           0      0           0           1      0         1   41   0.883146     1.0  0.294118    0.0  0.131505\n",
       "5      1           0      0           0           1      1         1  105   0.978652     0.0  0.862745    0.5  0.922004\n",
       "6      0           0      1           0           1      0         1   59   0.741573     0.0  0.921569    1.0  2.344737\n",
       "7      0           0      1           0           1      0         0   83   0.392135     1.0  0.764706    0.0  0.151974\n",
       "8      0           0      1           0           1      1         1   91   0.205618     0.5 -0.039216    1.0  0.684211\n",
       "9      0           0      1           0           1      0         0  107   0.224719     1.0  0.490196    0.0  0.166667"
      ]
     },
     "metadata": {},
     "output_type": "display_data"
    },
    {
     "name": "stdout",
     "output_type": "stream",
     "text": [
      "                                                                                                 \r"
     ]
    },
    {
     "data": {
      "text/html": [
       "178 rows X 13 columns"
      ],
      "text/plain": [
       "<IPython.core.display.HTML object>"
      ]
     },
     "metadata": {},
     "output_type": "display_data"
    },
    {
     "name": "stdout",
     "output_type": "stream",
     "text": [
      "                                                                                                 \r"
     ]
    },
    {
     "data": {
      "text/html": [
       "\n",
       "Updated dataset after performing PCA feature selection :"
      ],
      "text/plain": [
       "<IPython.core.display.HTML object>"
      ]
     },
     "metadata": {},
     "output_type": "display_data"
    },
    {
     "data": {
      "text/html": [
       "<div>\n",
       "<style scoped>\n",
       "    .dataframe tbody tr th:only-of-type {\n",
       "        vertical-align: middle;\n",
       "    }\n",
       "\n",
       "    .dataframe tbody tr th {\n",
       "        vertical-align: top;\n",
       "    }\n",
       "\n",
       "    .dataframe thead th {\n",
       "        text-align: right;\n",
       "    }\n",
       "</style>\n",
       "<table border=\"1\" class=\"dataframe\">\n",
       "  <thead>\n",
       "    <tr style=\"text-align: right;\">\n",
       "      <th></th>\n",
       "      <th>id</th>\n",
       "      <th>col_0</th>\n",
       "      <th>col_1</th>\n",
       "      <th>col_2</th>\n",
       "      <th>col_3</th>\n",
       "      <th>col_4</th>\n",
       "      <th>col_5</th>\n",
       "      <th>survived</th>\n",
       "    </tr>\n",
       "  </thead>\n",
       "  <tbody>\n",
       "    <tr>\n",
       "      <th>0</th>\n",
       "      <td>163</td>\n",
       "      <td>0.737094</td>\n",
       "      <td>-0.643210</td>\n",
       "      <td>-0.106455</td>\n",
       "      <td>-0.013106</td>\n",
       "      <td>0.211914</td>\n",
       "      <td>-0.291361</td>\n",
       "      <td>1</td>\n",
       "    </tr>\n",
       "    <tr>\n",
       "      <th>1</th>\n",
       "      <td>59</td>\n",
       "      <td>-0.264140</td>\n",
       "      <td>-0.088646</td>\n",
       "      <td>-1.334543</td>\n",
       "      <td>0.554672</td>\n",
       "      <td>0.042260</td>\n",
       "      <td>1.240676</td>\n",
       "      <td>1</td>\n",
       "    </tr>\n",
       "    <tr>\n",
       "      <th>2</th>\n",
       "      <td>40</td>\n",
       "      <td>0.633324</td>\n",
       "      <td>-0.702354</td>\n",
       "      <td>0.379652</td>\n",
       "      <td>-0.240178</td>\n",
       "      <td>0.187011</td>\n",
       "      <td>-0.247377</td>\n",
       "      <td>0</td>\n",
       "    </tr>\n",
       "    <tr>\n",
       "      <th>3</th>\n",
       "      <td>83</td>\n",
       "      <td>-0.655426</td>\n",
       "      <td>-0.162827</td>\n",
       "      <td>0.173182</td>\n",
       "      <td>-0.087436</td>\n",
       "      <td>0.108885</td>\n",
       "      <td>-0.110638</td>\n",
       "      <td>0</td>\n",
       "    </tr>\n",
       "    <tr>\n",
       "      <th>4</th>\n",
       "      <td>48</td>\n",
       "      <td>0.709263</td>\n",
       "      <td>-0.709839</td>\n",
       "      <td>0.215808</td>\n",
       "      <td>-0.146823</td>\n",
       "      <td>0.537865</td>\n",
       "      <td>0.255863</td>\n",
       "      <td>1</td>\n",
       "    </tr>\n",
       "    <tr>\n",
       "      <th>5</th>\n",
       "      <td>91</td>\n",
       "      <td>-0.425439</td>\n",
       "      <td>-0.137706</td>\n",
       "      <td>-0.349825</td>\n",
       "      <td>0.069458</td>\n",
       "      <td>0.538132</td>\n",
       "      <td>0.844262</td>\n",
       "      <td>1</td>\n",
       "    </tr>\n",
       "    <tr>\n",
       "      <th>6</th>\n",
       "      <td>72</td>\n",
       "      <td>0.728169</td>\n",
       "      <td>-0.647291</td>\n",
       "      <td>-0.048971</td>\n",
       "      <td>-0.068199</td>\n",
       "      <td>0.065490</td>\n",
       "      <td>-0.282484</td>\n",
       "      <td>1</td>\n",
       "    </tr>\n",
       "    <tr>\n",
       "      <th>7</th>\n",
       "      <td>107</td>\n",
       "      <td>-0.648931</td>\n",
       "      <td>-0.165699</td>\n",
       "      <td>0.217979</td>\n",
       "      <td>-0.118870</td>\n",
       "      <td>0.276722</td>\n",
       "      <td>-0.131621</td>\n",
       "      <td>0</td>\n",
       "    </tr>\n",
       "    <tr>\n",
       "      <th>8</th>\n",
       "      <td>88</td>\n",
       "      <td>1.126607</td>\n",
       "      <td>0.586259</td>\n",
       "      <td>0.442777</td>\n",
       "      <td>-0.465046</td>\n",
       "      <td>0.025732</td>\n",
       "      <td>-0.184397</td>\n",
       "      <td>0</td>\n",
       "    </tr>\n",
       "    <tr>\n",
       "      <th>9</th>\n",
       "      <td>131</td>\n",
       "      <td>-0.605878</td>\n",
       "      <td>-0.178108</td>\n",
       "      <td>0.167856</td>\n",
       "      <td>-0.131784</td>\n",
       "      <td>0.125334</td>\n",
       "      <td>0.383804</td>\n",
       "      <td>0</td>\n",
       "    </tr>\n",
       "  </tbody>\n",
       "</table>\n",
       "</div>"
      ],
      "text/plain": [
       "    id     col_0     col_1     col_2     col_3     col_4     col_5  survived\n",
       "0  163  0.737094 -0.643210 -0.106455 -0.013106  0.211914 -0.291361         1\n",
       "1   59 -0.264140 -0.088646 -1.334543  0.554672  0.042260  1.240676         1\n",
       "2   40  0.633324 -0.702354  0.379652 -0.240178  0.187011 -0.247377         0\n",
       "3   83 -0.655426 -0.162827  0.173182 -0.087436  0.108885 -0.110638         0\n",
       "4   48  0.709263 -0.709839  0.215808 -0.146823  0.537865  0.255863         1\n",
       "5   91 -0.425439 -0.137706 -0.349825  0.069458  0.538132  0.844262         1\n",
       "6   72  0.728169 -0.647291 -0.048971 -0.068199  0.065490 -0.282484         1\n",
       "7  107 -0.648931 -0.165699  0.217979 -0.118870  0.276722 -0.131621         0\n",
       "8   88  1.126607  0.586259  0.442777 -0.465046  0.025732 -0.184397         0\n",
       "9  131 -0.605878 -0.178108  0.167856 -0.131784  0.125334  0.383804         0"
      ]
     },
     "metadata": {},
     "output_type": "display_data"
    },
    {
     "name": "stdout",
     "output_type": "stream",
     "text": [
      "                                                                                                 \r"
     ]
    },
    {
     "data": {
      "text/html": [
       "10 rows X 8 columns"
      ],
      "text/plain": [
       "<IPython.core.display.HTML object>"
      ]
     },
     "metadata": {},
     "output_type": "display_data"
    },
    {
     "name": "stdout",
     "output_type": "stream",
     "text": [
      "Data Transformation completed.⫿⫿⫿⫿⫿⫿⫿⫿⫿⫿⫿⫿⫿⫿⫿⫿⫿⫿⫿⫿⫿⫿⫿⫿⫿⫿⫿⫿⫿⫿⫿⫿⫿⫿⫿⫿⫿⫿⫿⫿⫿⫿｜ 100% - 10/10           \n",
      "\n",
      "Following model is being picked for evaluation:\n",
      "Model ID : DECISIONFOREST_3 \n",
      "Feature Selection Method : lasso\n",
      "\n",
      "Prediction : \n",
      "    id  prediction  prob_1  prob_0  survived\n",
      "0   48           1    0.70    0.30         1\n",
      "1   88           1    0.70    0.30         0\n",
      "2  104           1    0.65    0.35         0\n",
      "3  168           1    0.65    0.35         1\n",
      "4   41           1    0.55    0.45         1\n",
      "5  105           1    0.85    0.15         1\n",
      "6   59           1    0.60    0.40         1\n",
      "7   83           0    0.15    0.85         0\n",
      "8   91           1    0.60    0.40         1\n",
      "9  107           0    0.15    0.85         0\n",
      "\n",
      "ROC-AUC : \n"
     ]
    },
    {
     "data": {
      "text/html": [
       "<style type=\"text/css\">\n",
       "\ttable {border:ridge 5px;}\n",
       "\ttable td {border:inset 1px;}\n",
       "\ttable tr#HeaderRow {background-color:grey; color:white;}</style>\n",
       "<html><table>\n",
       "\t<tr id=\"HeaderRow\">\n",
       "\t\t<th>AUC</th>\n",
       "\t\t<th>GINI</th>\n",
       "\t</tr>\n",
       "\t<tr>\n",
       "\t\t<td>0.8167039620902988</td>\n",
       "\t\t<td>0.6334079241805977</td>\n",
       "\t</tr>\n",
       "</table></html>"
      ],
      "text/plain": [
       "              GINI\n",
       "AUC               \n",
       "0.816704  0.633408"
      ]
     },
     "metadata": {},
     "output_type": "display_data"
    },
    {
     "data": {
      "text/html": [
       "<style type=\"text/css\">\n",
       "\ttable {border:ridge 5px;}\n",
       "\ttable td {border:inset 1px;}\n",
       "\ttable tr#HeaderRow {background-color:grey; color:white;}</style>\n",
       "<html><table>\n",
       "\t<tr id=\"HeaderRow\">\n",
       "\t\t<th>threshold_value</th>\n",
       "\t\t<th>tpr</th>\n",
       "\t\t<th>fpr</th>\n",
       "\t</tr>\n",
       "\t<tr>\n",
       "\t\t<td>0.04081632653061224</td>\n",
       "\t\t<td>1.0</td>\n",
       "\t\t<td>1.0</td>\n",
       "\t</tr>\n",
       "\t<tr>\n",
       "\t\t<td>0.08163265306122448</td>\n",
       "\t\t<td>1.0</td>\n",
       "\t\t<td>0.9906542056074766</td>\n",
       "\t</tr>\n",
       "\t<tr>\n",
       "\t\t<td>0.1020408163265306</td>\n",
       "\t\t<td>1.0</td>\n",
       "\t\t<td>0.9719626168224299</td>\n",
       "\t</tr>\n",
       "\t<tr>\n",
       "\t\t<td>0.12244897959183673</td>\n",
       "\t\t<td>1.0</td>\n",
       "\t\t<td>0.9719626168224299</td>\n",
       "\t</tr>\n",
       "\t<tr>\n",
       "\t\t<td>0.16326530612244897</td>\n",
       "\t\t<td>0.9577464788732394</td>\n",
       "\t\t<td>0.7850467289719626</td>\n",
       "\t</tr>\n",
       "\t<tr>\n",
       "\t\t<td>0.18367346938775508</td>\n",
       "\t\t<td>0.9577464788732394</td>\n",
       "\t\t<td>0.7850467289719626</td>\n",
       "\t</tr>\n",
       "\t<tr>\n",
       "\t\t<td>0.14285714285714285</td>\n",
       "\t\t<td>1.0</td>\n",
       "\t\t<td>0.9719626168224299</td>\n",
       "\t</tr>\n",
       "\t<tr>\n",
       "\t\t<td>0.061224489795918366</td>\n",
       "\t\t<td>1.0</td>\n",
       "\t\t<td>0.9906542056074766</td>\n",
       "\t</tr>\n",
       "\t<tr>\n",
       "\t\t<td>0.02040816326530612</td>\n",
       "\t\t<td>1.0</td>\n",
       "\t\t<td>1.0</td>\n",
       "\t</tr>\n",
       "\t<tr>\n",
       "\t\t<td>0.0</td>\n",
       "\t\t<td>1.0</td>\n",
       "\t\t<td>1.0</td>\n",
       "\t</tr>\n",
       "</table></html>"
      ],
      "text/plain": [
       "   threshold_value       tpr       fpr\n",
       "0         0.040816  1.000000  1.000000\n",
       "1         0.081633  1.000000  0.990654\n",
       "2         0.102041  1.000000  0.971963\n",
       "3         0.122449  1.000000  0.971963\n",
       "4         0.163265  0.957746  0.785047\n",
       "5         0.183673  0.957746  0.785047\n",
       "6         0.142857  1.000000  0.971963\n",
       "7         0.061224  1.000000  0.990654\n",
       "8         0.020408  1.000000  1.000000\n",
       "9         0.000000  1.000000  1.000000"
      ]
     },
     "metadata": {},
     "output_type": "display_data"
    },
    {
     "name": "stdout",
     "output_type": "stream",
     "text": [
      "\n",
      "Confusion Matrix : \n"
     ]
    },
    {
     "data": {
      "text/plain": [
       "array([[80, 27],\n",
       "       [19, 52]], dtype=int64)"
      ]
     },
     "metadata": {},
     "output_type": "display_data"
    }
   ],
   "source": [
    "# Fetching prediction on test data\n",
    "prediction = aml.predict(titanic_test)"
   ]
  },
  {
   "cell_type": "code",
   "execution_count": 23,
   "id": "f27ed879-0e82-4fbe-9322-7a036677c0a4",
   "metadata": {},
   "outputs": [
    {
     "data": {
      "text/html": [
       "<style type=\"text/css\">\n",
       "\ttable {border:ridge 5px;}\n",
       "\ttable td {border:inset 1px;}\n",
       "\ttable tr#HeaderRow {background-color:grey; color:white;}</style>\n",
       "<html><table>\n",
       "\t<tr id=\"HeaderRow\">\n",
       "\t\t<th>id</th>\n",
       "\t\t<th>prediction</th>\n",
       "\t\t<th>prob_1</th>\n",
       "\t\t<th>prob_0</th>\n",
       "\t\t<th>survived</th>\n",
       "\t</tr>\n",
       "\t<tr>\n",
       "\t\t<td>10</td>\n",
       "\t\t<td>1</td>\n",
       "\t\t<td>0.75</td>\n",
       "\t\t<td>0.25</td>\n",
       "\t\t<td>0</td>\n",
       "\t</tr>\n",
       "\t<tr>\n",
       "\t\t<td>12</td>\n",
       "\t\t<td>0</td>\n",
       "\t\t<td>0.35</td>\n",
       "\t\t<td>0.65</td>\n",
       "\t\t<td>0</td>\n",
       "\t</tr>\n",
       "\t<tr>\n",
       "\t\t<td>13</td>\n",
       "\t\t<td>1</td>\n",
       "\t\t<td>0.85</td>\n",
       "\t\t<td>0.15</td>\n",
       "\t\t<td>1</td>\n",
       "\t</tr>\n",
       "\t<tr>\n",
       "\t\t<td>14</td>\n",
       "\t\t<td>1</td>\n",
       "\t\t<td>0.75</td>\n",
       "\t\t<td>0.25</td>\n",
       "\t\t<td>0</td>\n",
       "\t</tr>\n",
       "\t<tr>\n",
       "\t\t<td>16</td>\n",
       "\t\t<td>0</td>\n",
       "\t\t<td>0.25</td>\n",
       "\t\t<td>0.75</td>\n",
       "\t\t<td>0</td>\n",
       "\t</tr>\n",
       "\t<tr>\n",
       "\t\t<td>17</td>\n",
       "\t\t<td>1</td>\n",
       "\t\t<td>0.65</td>\n",
       "\t\t<td>0.35</td>\n",
       "\t\t<td>1</td>\n",
       "\t</tr>\n",
       "\t<tr>\n",
       "\t\t<td>15</td>\n",
       "\t\t<td>0</td>\n",
       "\t\t<td>0.4</td>\n",
       "\t\t<td>0.6</td>\n",
       "\t\t<td>0</td>\n",
       "\t</tr>\n",
       "\t<tr>\n",
       "\t\t<td>11</td>\n",
       "\t\t<td>0</td>\n",
       "\t\t<td>0.25</td>\n",
       "\t\t<td>0.75</td>\n",
       "\t\t<td>0</td>\n",
       "\t</tr>\n",
       "\t<tr>\n",
       "\t\t<td>9</td>\n",
       "\t\t<td>1</td>\n",
       "\t\t<td>0.65</td>\n",
       "\t\t<td>0.35</td>\n",
       "\t\t<td>0</td>\n",
       "\t</tr>\n",
       "\t<tr>\n",
       "\t\t<td>8</td>\n",
       "\t\t<td>0</td>\n",
       "\t\t<td>0.5</td>\n",
       "\t\t<td>0.5</td>\n",
       "\t\t<td>0</td>\n",
       "\t</tr>\n",
       "</table></html>"
      ],
      "text/plain": [
       "   id  prediction  prob_1  prob_0  survived\n",
       "0  10           1    0.75    0.25         0\n",
       "1  12           0    0.35    0.65         0\n",
       "2  13           1    0.85    0.15         1\n",
       "3  14           1    0.75    0.25         0\n",
       "4  16           0    0.25    0.75         0\n",
       "5  17           1    0.65    0.35         1\n",
       "6  15           0    0.40    0.60         0\n",
       "7  11           0    0.25    0.75         0\n",
       "8   9           1    0.65    0.35         0\n",
       "9   8           0    0.50    0.50         0"
      ]
     },
     "execution_count": 23,
     "metadata": {},
     "output_type": "execute_result"
    }
   ],
   "source": [
    "# Printing prediction\n",
    "prediction.head()"
   ]
  },
  {
   "cell_type": "code",
   "execution_count": 24,
   "id": "fa3d86e5-1d36-4789-9add-d00ad841c8d2",
   "metadata": {},
   "outputs": [
    {
     "name": "stdout",
     "output_type": "stream",
     "text": [
      "\n",
      "Skipping data transformation as data is already transformed.\n",
      "\n",
      "Following model is being picked for evaluation:\n",
      "Model ID : DECISIONFOREST_3 \n",
      "Feature Selection Method : lasso\n",
      "\n",
      "Performance Metrics : \n",
      "       Prediction  Mapping  CLASS_1  CLASS_2  Precision    Recall        F1  Support\n",
      "SeqNum                                                                              \n",
      "0               0  CLASS_1       80       19   0.808081  0.747664  0.776699      107\n",
      "1               1  CLASS_2       27       52   0.658228  0.732394  0.693333       71\n",
      "--------------------------------------------------------------------------------\n",
      "   SeqNum              Metric  MetricValue\n",
      "0       3        Micro-Recall     0.741573\n",
      "1       5     Macro-Precision     0.733154\n",
      "2       6        Macro-Recall     0.740029\n",
      "3       7            Macro-F1     0.735016\n",
      "4       9     Weighted-Recall     0.741573\n",
      "5      10         Weighted-F1     0.743446\n",
      "6       8  Weighted-Precision     0.748308\n",
      "7       4            Micro-F1     0.741573\n",
      "8       2     Micro-Precision     0.741573\n",
      "9       1            Accuracy     0.741573\n"
     ]
    }
   ],
   "source": [
    "# Fetching performance metrics on test data\n",
    "performance_metrics = aml.evaluate(titanic_test)"
   ]
  },
  {
   "cell_type": "code",
   "execution_count": 25,
   "id": "3491c97d-839e-43dc-94ae-a1efb5865a1c",
   "metadata": {},
   "outputs": [
    {
     "data": {
      "text/html": [
       "<style type=\"text/css\">\n",
       "\ttable {border:ridge 5px;}\n",
       "\ttable td {border:inset 1px;}\n",
       "\ttable tr#HeaderRow {background-color:grey; color:white;}</style>\n",
       "<html><table>\n",
       "\t<tr id=\"HeaderRow\">\n",
       "\t\t<th>SeqNum</th>\n",
       "\t\t<th>Prediction</th>\n",
       "\t\t<th>Mapping</th>\n",
       "\t\t<th>CLASS_1</th>\n",
       "\t\t<th>CLASS_2</th>\n",
       "\t\t<th>Precision</th>\n",
       "\t\t<th>Recall</th>\n",
       "\t\t<th>F1</th>\n",
       "\t\t<th>Support</th>\n",
       "\t</tr>\n",
       "\t<tr>\n",
       "\t\t<td>0</td>\n",
       "\t\t<td>0</td>\n",
       "\t\t<td>CLASS_1</td>\n",
       "\t\t<td>80</td>\n",
       "\t\t<td>19</td>\n",
       "\t\t<td>0.8080808080808081</td>\n",
       "\t\t<td>0.7476635514018691</td>\n",
       "\t\t<td>0.7766990291262135</td>\n",
       "\t\t<td>107</td>\n",
       "\t</tr>\n",
       "\t<tr>\n",
       "\t\t<td>1</td>\n",
       "\t\t<td>1</td>\n",
       "\t\t<td>CLASS_2</td>\n",
       "\t\t<td>27</td>\n",
       "\t\t<td>52</td>\n",
       "\t\t<td>0.6582278481012658</td>\n",
       "\t\t<td>0.7323943661971831</td>\n",
       "\t\t<td>0.6933333333333334</td>\n",
       "\t\t<td>71</td>\n",
       "\t</tr>\n",
       "</table></html>"
      ],
      "text/plain": [
       "       Prediction  Mapping  CLASS_1  CLASS_2  Precision    Recall        F1  Support\n",
       "SeqNum                                                                              \n",
       "0               0  CLASS_1       80       19   0.808081  0.747664  0.776699      107\n",
       "1               1  CLASS_2       27       52   0.658228  0.732394  0.693333       71"
      ]
     },
     "execution_count": 25,
     "metadata": {},
     "output_type": "execute_result"
    }
   ],
   "source": [
    "performance_metrics"
   ]
  },
  {
   "cell_type": "code",
   "execution_count": 26,
   "id": "dd293d2b-acef-4249-ac05-35aef5501ac3",
   "metadata": {
    "tags": []
   },
   "outputs": [
    {
     "name": "stdout",
     "output_type": "stream",
     "text": [
      "\n",
      "Skipping data transformation as data is already transformed.\n",
      "\n",
      "Following model is being picked for evaluation:\n",
      "Model ID : DECISIONFOREST_1 \n",
      "Feature Selection Method : rfe\n",
      "\n",
      "Prediction : \n",
      "    id  prediction  prob_1  prob_0  survived\n",
      "0   48           1     1.0     0.0         1\n",
      "1   88           1     1.0     0.0         0\n",
      "2  104           0     0.0     1.0         0\n",
      "3  168           1     1.0     0.0         1\n",
      "4   41           1     1.0     0.0         1\n",
      "5  105           1     1.0     0.0         1\n",
      "6   59           1     1.0     0.0         1\n",
      "7   83           0     0.0     1.0         0\n",
      "8   91           1     1.0     0.0         1\n",
      "9  107           0     0.0     1.0         0\n",
      "\n",
      "ROC-AUC : \n"
     ]
    },
    {
     "data": {
      "text/html": [
       "<style type=\"text/css\">\n",
       "\ttable {border:ridge 5px;}\n",
       "\ttable td {border:inset 1px;}\n",
       "\ttable tr#HeaderRow {background-color:grey; color:white;}</style>\n",
       "<html><table>\n",
       "\t<tr id=\"HeaderRow\">\n",
       "\t\t<th>AUC</th>\n",
       "\t\t<th>GINI</th>\n",
       "\t</tr>\n",
       "\t<tr>\n",
       "\t\t<td>0.7329208898249309</td>\n",
       "\t\t<td>0.46584177964986173</td>\n",
       "\t</tr>\n",
       "</table></html>"
      ],
      "text/plain": [
       "              GINI\n",
       "AUC               \n",
       "0.732921  0.465842"
      ]
     },
     "metadata": {},
     "output_type": "display_data"
    },
    {
     "data": {
      "text/html": [
       "<style type=\"text/css\">\n",
       "\ttable {border:ridge 5px;}\n",
       "\ttable td {border:inset 1px;}\n",
       "\ttable tr#HeaderRow {background-color:grey; color:white;}</style>\n",
       "<html><table>\n",
       "\t<tr id=\"HeaderRow\">\n",
       "\t\t<th>threshold_value</th>\n",
       "\t\t<th>tpr</th>\n",
       "\t\t<th>fpr</th>\n",
       "\t</tr>\n",
       "\t<tr>\n",
       "\t\t<td>0.04081632653061224</td>\n",
       "\t\t<td>0.8028169014084507</td>\n",
       "\t\t<td>0.18691588785046728</td>\n",
       "\t</tr>\n",
       "\t<tr>\n",
       "\t\t<td>0.08163265306122448</td>\n",
       "\t\t<td>0.8028169014084507</td>\n",
       "\t\t<td>0.18691588785046728</td>\n",
       "\t</tr>\n",
       "\t<tr>\n",
       "\t\t<td>0.1020408163265306</td>\n",
       "\t\t<td>0.8028169014084507</td>\n",
       "\t\t<td>0.18691588785046728</td>\n",
       "\t</tr>\n",
       "\t<tr>\n",
       "\t\t<td>0.12244897959183673</td>\n",
       "\t\t<td>0.8028169014084507</td>\n",
       "\t\t<td>0.18691588785046728</td>\n",
       "\t</tr>\n",
       "\t<tr>\n",
       "\t\t<td>0.16326530612244897</td>\n",
       "\t\t<td>0.8028169014084507</td>\n",
       "\t\t<td>0.18691588785046728</td>\n",
       "\t</tr>\n",
       "\t<tr>\n",
       "\t\t<td>0.18367346938775508</td>\n",
       "\t\t<td>0.8028169014084507</td>\n",
       "\t\t<td>0.18691588785046728</td>\n",
       "\t</tr>\n",
       "\t<tr>\n",
       "\t\t<td>0.14285714285714285</td>\n",
       "\t\t<td>0.8028169014084507</td>\n",
       "\t\t<td>0.18691588785046728</td>\n",
       "\t</tr>\n",
       "\t<tr>\n",
       "\t\t<td>0.061224489795918366</td>\n",
       "\t\t<td>0.8028169014084507</td>\n",
       "\t\t<td>0.18691588785046728</td>\n",
       "\t</tr>\n",
       "\t<tr>\n",
       "\t\t<td>0.02040816326530612</td>\n",
       "\t\t<td>0.8028169014084507</td>\n",
       "\t\t<td>0.18691588785046728</td>\n",
       "\t</tr>\n",
       "\t<tr>\n",
       "\t\t<td>0.0</td>\n",
       "\t\t<td>1.0</td>\n",
       "\t\t<td>1.0</td>\n",
       "\t</tr>\n",
       "</table></html>"
      ],
      "text/plain": [
       "   threshold_value       tpr       fpr\n",
       "0         0.040816  0.802817  0.186916\n",
       "1         0.081633  0.802817  0.186916\n",
       "2         0.102041  0.802817  0.186916\n",
       "3         0.122449  0.802817  0.186916\n",
       "4         0.163265  0.802817  0.186916\n",
       "5         0.183673  0.802817  0.186916\n",
       "6         0.142857  0.802817  0.186916\n",
       "7         0.061224  0.802817  0.186916\n",
       "8         0.020408  0.802817  0.186916\n",
       "9         0.000000  1.000000  1.000000"
      ]
     },
     "metadata": {},
     "output_type": "display_data"
    },
    {
     "name": "stdout",
     "output_type": "stream",
     "text": [
      "\n",
      "Confusion Matrix : \n"
     ]
    },
    {
     "data": {
      "text/plain": [
       "array([[87, 20],\n",
       "       [14, 57]], dtype=int64)"
      ]
     },
     "metadata": {},
     "output_type": "display_data"
    }
   ],
   "source": [
    "# Fetching prediction on test data\n",
    "prediction = aml.predict(titanic_test, rank=3)"
   ]
  },
  {
   "cell_type": "code",
   "execution_count": 27,
   "id": "d4682b63-7929-486c-a853-4a32abb8252f",
   "metadata": {
    "tags": []
   },
   "outputs": [
    {
     "data": {
      "text/html": [
       "<style type=\"text/css\">\n",
       "\ttable {border:ridge 5px;}\n",
       "\ttable td {border:inset 1px;}\n",
       "\ttable tr#HeaderRow {background-color:grey; color:white;}</style>\n",
       "<html><table>\n",
       "\t<tr id=\"HeaderRow\">\n",
       "\t\t<th>id</th>\n",
       "\t\t<th>prediction</th>\n",
       "\t\t<th>prob_1</th>\n",
       "\t\t<th>prob_0</th>\n",
       "\t\t<th>survived</th>\n",
       "\t</tr>\n",
       "\t<tr>\n",
       "\t\t<td>10</td>\n",
       "\t\t<td>1</td>\n",
       "\t\t<td>1.0</td>\n",
       "\t\t<td>0.0</td>\n",
       "\t\t<td>0</td>\n",
       "\t</tr>\n",
       "\t<tr>\n",
       "\t\t<td>12</td>\n",
       "\t\t<td>0</td>\n",
       "\t\t<td>0.0</td>\n",
       "\t\t<td>1.0</td>\n",
       "\t\t<td>0</td>\n",
       "\t</tr>\n",
       "\t<tr>\n",
       "\t\t<td>13</td>\n",
       "\t\t<td>1</td>\n",
       "\t\t<td>1.0</td>\n",
       "\t\t<td>0.0</td>\n",
       "\t\t<td>1</td>\n",
       "\t</tr>\n",
       "\t<tr>\n",
       "\t\t<td>14</td>\n",
       "\t\t<td>1</td>\n",
       "\t\t<td>1.0</td>\n",
       "\t\t<td>0.0</td>\n",
       "\t\t<td>0</td>\n",
       "\t</tr>\n",
       "\t<tr>\n",
       "\t\t<td>16</td>\n",
       "\t\t<td>0</td>\n",
       "\t\t<td>0.0</td>\n",
       "\t\t<td>1.0</td>\n",
       "\t\t<td>0</td>\n",
       "\t</tr>\n",
       "\t<tr>\n",
       "\t\t<td>17</td>\n",
       "\t\t<td>1</td>\n",
       "\t\t<td>1.0</td>\n",
       "\t\t<td>0.0</td>\n",
       "\t\t<td>1</td>\n",
       "\t</tr>\n",
       "\t<tr>\n",
       "\t\t<td>15</td>\n",
       "\t\t<td>1</td>\n",
       "\t\t<td>1.0</td>\n",
       "\t\t<td>0.0</td>\n",
       "\t\t<td>0</td>\n",
       "\t</tr>\n",
       "\t<tr>\n",
       "\t\t<td>11</td>\n",
       "\t\t<td>0</td>\n",
       "\t\t<td>0.0</td>\n",
       "\t\t<td>1.0</td>\n",
       "\t\t<td>0</td>\n",
       "\t</tr>\n",
       "\t<tr>\n",
       "\t\t<td>9</td>\n",
       "\t\t<td>1</td>\n",
       "\t\t<td>1.0</td>\n",
       "\t\t<td>0.0</td>\n",
       "\t\t<td>0</td>\n",
       "\t</tr>\n",
       "\t<tr>\n",
       "\t\t<td>8</td>\n",
       "\t\t<td>1</td>\n",
       "\t\t<td>1.0</td>\n",
       "\t\t<td>0.0</td>\n",
       "\t\t<td>0</td>\n",
       "\t</tr>\n",
       "</table></html>"
      ],
      "text/plain": [
       "   id  prediction  prob_1  prob_0  survived\n",
       "0  10           1     1.0     0.0         0\n",
       "1  12           0     0.0     1.0         0\n",
       "2  13           1     1.0     0.0         1\n",
       "3  14           1     1.0     0.0         0\n",
       "4  16           0     0.0     1.0         0\n",
       "5  17           1     1.0     0.0         1\n",
       "6  15           1     1.0     0.0         0\n",
       "7  11           0     0.0     1.0         0\n",
       "8   9           1     1.0     0.0         0\n",
       "9   8           1     1.0     0.0         0"
      ]
     },
     "execution_count": 27,
     "metadata": {},
     "output_type": "execute_result"
    }
   ],
   "source": [
    "# Printing prediction\n",
    "prediction.head()"
   ]
  },
  {
   "cell_type": "code",
   "execution_count": 28,
   "id": "6e108aa7-0b55-42c2-b0e4-bab4207254bc",
   "metadata": {},
   "outputs": [
    {
     "name": "stdout",
     "output_type": "stream",
     "text": [
      "\n",
      "Skipping data transformation as data is already transformed.\n",
      "\n",
      "Following model is being picked for evaluation:\n",
      "Model ID : DECISIONFOREST_1 \n",
      "Feature Selection Method : rfe\n",
      "\n",
      "Performance Metrics : \n",
      "       Prediction  Mapping  CLASS_1  CLASS_2  Precision    Recall        F1  Support\n",
      "SeqNum                                                                              \n",
      "0               0  CLASS_1       87       14   0.861386  0.813084  0.836538      107\n",
      "1               1  CLASS_2       20       57   0.740260  0.802817  0.770270       71\n",
      "--------------------------------------------------------------------------------\n",
      "   SeqNum              Metric  MetricValue\n",
      "0       3        Micro-Recall     0.808989\n",
      "1       5     Macro-Precision     0.800823\n",
      "2       6        Macro-Recall     0.807951\n",
      "3       7            Macro-F1     0.803404\n",
      "4       9     Weighted-Recall     0.808989\n",
      "5      10         Weighted-F1     0.810106\n",
      "6       8  Weighted-Precision     0.813072\n",
      "7       4            Micro-F1     0.808989\n",
      "8       2     Micro-Precision     0.808989\n",
      "9       1            Accuracy     0.808989\n"
     ]
    }
   ],
   "source": [
    "# Fetching performance metrics on test data\n",
    "performance_metrics = aml.evaluate(titanic_test, rank=3)"
   ]
  },
  {
   "cell_type": "code",
   "execution_count": 29,
   "id": "69ebe141-e311-466a-99f2-2b1efcc06653",
   "metadata": {},
   "outputs": [
    {
     "data": {
      "text/html": [
       "<style type=\"text/css\">\n",
       "\ttable {border:ridge 5px;}\n",
       "\ttable td {border:inset 1px;}\n",
       "\ttable tr#HeaderRow {background-color:grey; color:white;}</style>\n",
       "<html><table>\n",
       "\t<tr id=\"HeaderRow\">\n",
       "\t\t<th>SeqNum</th>\n",
       "\t\t<th>Prediction</th>\n",
       "\t\t<th>Mapping</th>\n",
       "\t\t<th>CLASS_1</th>\n",
       "\t\t<th>CLASS_2</th>\n",
       "\t\t<th>Precision</th>\n",
       "\t\t<th>Recall</th>\n",
       "\t\t<th>F1</th>\n",
       "\t\t<th>Support</th>\n",
       "\t</tr>\n",
       "\t<tr>\n",
       "\t\t<td>0</td>\n",
       "\t\t<td>0</td>\n",
       "\t\t<td>CLASS_1</td>\n",
       "\t\t<td>87</td>\n",
       "\t\t<td>14</td>\n",
       "\t\t<td>0.8613861386138614</td>\n",
       "\t\t<td>0.8130841121495327</td>\n",
       "\t\t<td>0.8365384615384616</td>\n",
       "\t\t<td>107</td>\n",
       "\t</tr>\n",
       "\t<tr>\n",
       "\t\t<td>1</td>\n",
       "\t\t<td>1</td>\n",
       "\t\t<td>CLASS_2</td>\n",
       "\t\t<td>20</td>\n",
       "\t\t<td>57</td>\n",
       "\t\t<td>0.7402597402597403</td>\n",
       "\t\t<td>0.8028169014084507</td>\n",
       "\t\t<td>0.7702702702702703</td>\n",
       "\t\t<td>71</td>\n",
       "\t</tr>\n",
       "</table></html>"
      ],
      "text/plain": [
       "       Prediction  Mapping  CLASS_1  CLASS_2  Precision    Recall        F1  Support\n",
       "SeqNum                                                                              \n",
       "0               0  CLASS_1       87       14   0.861386  0.813084  0.836538      107\n",
       "1               1  CLASS_2       20       57   0.740260  0.802817  0.770270       71"
      ]
     },
     "execution_count": 29,
     "metadata": {},
     "output_type": "execute_result"
    }
   ],
   "source": [
    "performance_metrics"
   ]
  },
  {
   "cell_type": "markdown",
   "id": "e0ff85e0-756a-44c5-b7a4-5508bc81cd24",
   "metadata": {},
   "source": [
    "## <b><span style='color:#F1A424'>| 7.</span> Deploy Trained Model : </b>"
   ]
  },
  {
   "cell_type": "markdown",
   "id": "7f070e0e-cb2e-4d6e-89c8-ae218731b896",
   "metadata": {},
   "source": [
    "#### 7.1. Deploy top 10 models"
   ]
  },
  {
   "cell_type": "code",
   "execution_count": 30,
   "id": "a06f0f10-e327-4238-ac6e-68d5e68106c7",
   "metadata": {
    "tags": []
   },
   "outputs": [
    {
     "name": "stdout",
     "output_type": "stream",
     "text": [
      "Model Deployment Completed Successfully.\n"
     ]
    }
   ],
   "source": [
    "aml.deploy(table_name='top_10_models', top_n=10)"
   ]
  },
  {
   "cell_type": "code",
   "execution_count": null,
   "id": "635fcb68-03c4-4a7e-bff8-c36038d58a6f",
   "metadata": {},
   "outputs": [],
   "source": []
  },
  {
   "cell_type": "markdown",
   "id": "278bfbb4-8781-43a3-bd9c-d4b2855f793e",
   "metadata": {},
   "source": [
    "#### 7.2. Deploy models using list of model ranks"
   ]
  },
  {
   "cell_type": "code",
   "execution_count": 31,
   "id": "76da42ea-fa1f-4252-bd96-110b22543d6f",
   "metadata": {},
   "outputs": [
    {
     "name": "stdout",
     "output_type": "stream",
     "text": [
      "Model Deployment Completed Successfully.\n"
     ]
    }
   ],
   "source": [
    "aml.deploy(table_name='mixed_models', ranks=[1,4,9,7])"
   ]
  },
  {
   "cell_type": "code",
   "execution_count": null,
   "id": "4b92b64f-bf8e-4222-a90a-a93bf4db1d69",
   "metadata": {},
   "outputs": [],
   "source": []
  },
  {
   "cell_type": "markdown",
   "id": "8929590a-53e1-4ab0-b264-25e2c21e6706",
   "metadata": {},
   "source": [
    "#### 7.3. Deploy models using range of model rank"
   ]
  },
  {
   "cell_type": "code",
   "execution_count": 32,
   "id": "36ee6077-074e-4ff7-900c-34b8599d5b1f",
   "metadata": {
    "tags": []
   },
   "outputs": [
    {
     "name": "stdout",
     "output_type": "stream",
     "text": [
      "Model Deployment Completed Successfully.\n"
     ]
    }
   ],
   "source": [
    "aml.deploy(table_name='range_models', ranks=range(4,7))"
   ]
  },
  {
   "cell_type": "code",
   "execution_count": null,
   "id": "7ae6d39d-92db-4ddb-9c10-009f582c5c19",
   "metadata": {},
   "outputs": [],
   "source": []
  },
  {
   "cell_type": "markdown",
   "id": "f4d94c96-bc09-4cf1-ae3b-449c2788dd16",
   "metadata": {},
   "source": [
    "##### Note: \n",
    " - After deployment, saved models can be loaded in same session or different session using table name. After loading models can be used for predict and evaluate. Please refer to notebook: `Binary_Classification__Titanic_Survival_Prediction_Load_Models` for more details."
   ]
  },
  {
   "cell_type": "code",
   "execution_count": 33,
   "id": "b9abf6af-1a6f-4bff-87e1-4d0fe8b80bbf",
   "metadata": {},
   "outputs": [
    {
     "data": {
      "text/plain": [
       "True"
      ]
     },
     "execution_count": 33,
     "metadata": {},
     "output_type": "execute_result"
    }
   ],
   "source": [
    "remove_context()"
   ]
  }
 ],
 "metadata": {
  "kernelspec": {
   "display_name": "Python 3 (ipykernel)",
   "language": "python",
   "name": "python3"
  },
  "language_info": {
   "codemirror_mode": {
    "name": "ipython",
    "version": 3
   },
   "file_extension": ".py",
   "mimetype": "text/x-python",
   "name": "python",
   "nbconvert_exporter": "python",
   "pygments_lexer": "ipython3",
   "version": "3.10.9"
  }
 },
 "nbformat": 4,
 "nbformat_minor": 5
}
