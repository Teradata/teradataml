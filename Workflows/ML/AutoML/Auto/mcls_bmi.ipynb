{
 "cells": [
  {
   "cell_type": "markdown",
   "id": "2762f1d8-5a66-411f-a625-34cf16ac6dd3",
   "metadata": {},
   "source": [
    "# <b><span style='color:#F1A424'>AutoML - Multiclass Classification </span> </b>"
   ]
  },
  {
   "cell_type": "markdown",
   "id": "f225fb94-b2c8-4c92-af38-733d08e0e2a1",
   "metadata": {},
   "source": [
    "## <b> Problem overview:</b>\n",
    "    "
   ]
  },
  {
   "cell_type": "markdown",
   "id": "af9813eb-9c44-4968-a5fe-d1c74415c894",
   "metadata": {},
   "source": [
    "**Dataset used: BMI Dataset**\n",
    "\n",
    "**Features**:\n",
    "\n",
    "- `gender`: Gender of person.\n",
    "- `height`: Height of person.\n",
    "- `weight`: Weight of person.\n",
    "\n",
    "**Target Variable**:\n",
    "\n",
    "- `bmi`: BMI value of person.\n",
    "\n",
    "        \n",
    "**Objective**:\n",
    "\n",
    "The primary objective is typically to build a model that can accurately predict BMI of person.\n",
    "\n",
    "**Usecase**:\n",
    "\n",
    "Here, we will use AutoML(Automated Machine Learning) functionality to automate the entire process of developing a predictive model. It will perform feature exploration, feature engineering, data preparation, model training and evaluation on dataset in auto run and at end we will get leaderboard containined different models along with their performance. Model will also have rank associated with them which indicates which is best performing model for given data followed by other models."
   ]
  },
  {
   "cell_type": "code",
   "execution_count": 1,
   "id": "66568348-4d00-477c-a071-17995f797c95",
   "metadata": {},
   "outputs": [],
   "source": [
    "# Importing AutoML from teradataml\n",
    "from teradataml import AutoML, AutoClassifier"
   ]
  },
  {
   "cell_type": "code",
   "execution_count": 2,
   "id": "17dfae70-0401-4cc4-ba1c-400a5cf62451",
   "metadata": {},
   "outputs": [],
   "source": [
    "# Importing other important libraries\n",
    "import getpass\n",
    "from teradataml import create_context, remove_context\n",
    "from teradataml import DataFrame\n",
    "from teradataml import load_example_data\n",
    "from teradataml import TrainTestSplit"
   ]
  },
  {
   "cell_type": "code",
   "execution_count": 3,
   "id": "cadd9ed2-42d6-4899-b23e-4e2cf601162f",
   "metadata": {},
   "outputs": [
    {
     "name": "stdin",
     "output_type": "stream",
     "text": [
      "Host:  ········\n",
      "Username:  ········\n",
      "Password:  ········\n"
     ]
    }
   ],
   "source": [
    "# Create the connection.\n",
    "host = getpass.getpass(\"Host: \")\n",
    "username = getpass.getpass(\"Username: \")\n",
    "password = getpass.getpass(\"Password: \")\n",
    "\n",
    "con = create_context(host=host, username=username, password=password)"
   ]
  },
  {
   "cell_type": "markdown",
   "id": "be767a89-d5b8-4876-91cb-36980754586e",
   "metadata": {},
   "source": [
    "## <b><span style='color:#F1A424'>| 1.</span> Loading Dataset </b>"
   ]
  },
  {
   "cell_type": "code",
   "execution_count": 4,
   "id": "f1592c52-b247-4792-be2a-30b49bbeb9b6",
   "metadata": {},
   "outputs": [
    {
     "name": "stdout",
     "output_type": "stream",
     "text": [
      "WARNING: Skipped loading table bmi since it already exists in the database.\n"
     ]
    }
   ],
   "source": [
    "# Loading dataset from example data collection\n",
    "load_example_data('teradataml','bmi')"
   ]
  },
  {
   "cell_type": "code",
   "execution_count": 5,
   "id": "3846ae0f-004b-4b8e-9fea-06fac4294065",
   "metadata": {},
   "outputs": [],
   "source": [
    "# Fetching in teradata dataframe\n",
    "bmi_df = DataFrame(\"bmi\")"
   ]
  },
  {
   "cell_type": "code",
   "execution_count": 6,
   "id": "442ccd80-b444-413e-970d-d855ec3d6cae",
   "metadata": {},
   "outputs": [
    {
     "data": {
      "text/html": [
       "<style type=\"text/css\">\n",
       "\ttable {border:ridge 5px;}\n",
       "\ttable td {border:inset 1px;}\n",
       "\ttable tr#HeaderRow {background-color:grey; color:white;}</style>\n",
       "<html><table>\n",
       "\t<tr id=\"HeaderRow\">\n",
       "\t\t<th>gender</th>\n",
       "\t\t<th>height</th>\n",
       "\t\t<th>weight</th>\n",
       "\t\t<th>bmi</th>\n",
       "\t</tr>\n",
       "\t<tr>\n",
       "\t\t<td>Female</td>\n",
       "\t\t<td>153</td>\n",
       "\t\t<td>107</td>\n",
       "\t\t<td>5</td>\n",
       "\t</tr>\n",
       "\t<tr>\n",
       "\t\t<td>Female</td>\n",
       "\t\t<td>169</td>\n",
       "\t\t<td>97</td>\n",
       "\t\t<td>4</td>\n",
       "\t</tr>\n",
       "\t<tr>\n",
       "\t\t<td>Female</td>\n",
       "\t\t<td>172</td>\n",
       "\t\t<td>67</td>\n",
       "\t\t<td>2</td>\n",
       "\t</tr>\n",
       "\t<tr>\n",
       "\t\t<td>Female</td>\n",
       "\t\t<td>151</td>\n",
       "\t\t<td>64</td>\n",
       "\t\t<td>3</td>\n",
       "\t</tr>\n",
       "\t<tr>\n",
       "\t\t<td>Female</td>\n",
       "\t\t<td>195</td>\n",
       "\t\t<td>65</td>\n",
       "\t\t<td>1</td>\n",
       "\t</tr>\n",
       "\t<tr>\n",
       "\t\t<td>Female</td>\n",
       "\t\t<td>160</td>\n",
       "\t\t<td>131</td>\n",
       "\t\t<td>5</td>\n",
       "\t</tr>\n",
       "\t<tr>\n",
       "\t\t<td>Female</td>\n",
       "\t\t<td>163</td>\n",
       "\t\t<td>159</td>\n",
       "\t\t<td>5</td>\n",
       "\t</tr>\n",
       "\t<tr>\n",
       "\t\t<td>Female</td>\n",
       "\t\t<td>157</td>\n",
       "\t\t<td>110</td>\n",
       "\t\t<td>5</td>\n",
       "\t</tr>\n",
       "\t<tr>\n",
       "\t\t<td>Female</td>\n",
       "\t\t<td>192</td>\n",
       "\t\t<td>101</td>\n",
       "\t\t<td>3</td>\n",
       "\t</tr>\n",
       "\t<tr>\n",
       "\t\t<td>Female</td>\n",
       "\t\t<td>169</td>\n",
       "\t\t<td>103</td>\n",
       "\t\t<td>4</td>\n",
       "\t</tr>\n",
       "</table></html>"
      ],
      "text/plain": [
       "   gender  height  weight  bmi\n",
       "0  Female     153     107    5\n",
       "1  Female     169      97    4\n",
       "2  Female     172      67    2\n",
       "3  Female     151      64    3\n",
       "4  Female     195      65    1\n",
       "5  Female     160     131    5\n",
       "6  Female     163     159    5\n",
       "7  Female     157     110    5\n",
       "8  Female     192     101    3\n",
       "9  Female     169     103    4"
      ]
     },
     "execution_count": 6,
     "metadata": {},
     "output_type": "execute_result"
    }
   ],
   "source": [
    "# first 5 rows\n",
    "bmi_df.head()"
   ]
  },
  {
   "cell_type": "code",
   "execution_count": 7,
   "id": "636c220d-d12f-4ea5-ab2b-c9203ef00d49",
   "metadata": {},
   "outputs": [
    {
     "data": {
      "text/plain": [
       "(500, 4)"
      ]
     },
     "execution_count": 7,
     "metadata": {},
     "output_type": "execute_result"
    }
   ],
   "source": [
    "# bmi_df dataset\n",
    "bmi_df.shape"
   ]
  },
  {
   "cell_type": "code",
   "execution_count": 8,
   "id": "e5d1fad7-8784-4d7a-be1f-7be1d3991d8f",
   "metadata": {},
   "outputs": [],
   "source": [
    "# Performing sampling to get 80% for trainning and 20% for testing\n",
    "bmi_df_sample = bmi_df.sample(frac = [0.8, 0.2])"
   ]
  },
  {
   "cell_type": "code",
   "execution_count": 9,
   "id": "a0e6891a-1b7e-4bac-97c8-350ba5f5bde4",
   "metadata": {},
   "outputs": [
    {
     "data": {
      "text/html": [
       "<style type=\"text/css\">\n",
       "\ttable {border:ridge 5px;}\n",
       "\ttable td {border:inset 1px;}\n",
       "\ttable tr#HeaderRow {background-color:grey; color:white;}</style>\n",
       "<html><table>\n",
       "\t<tr id=\"HeaderRow\">\n",
       "\t\t<th>gender</th>\n",
       "\t\t<th>height</th>\n",
       "\t\t<th>weight</th>\n",
       "\t\t<th>bmi</th>\n",
       "\t\t<th>sampleid</th>\n",
       "\t</tr>\n",
       "\t<tr>\n",
       "\t\t<td>Female</td>\n",
       "\t\t<td>172</td>\n",
       "\t\t<td>67</td>\n",
       "\t\t<td>2</td>\n",
       "\t\t<td>1</td>\n",
       "\t</tr>\n",
       "\t<tr>\n",
       "\t\t<td>Female</td>\n",
       "\t\t<td>195</td>\n",
       "\t\t<td>65</td>\n",
       "\t\t<td>1</td>\n",
       "\t\t<td>1</td>\n",
       "\t</tr>\n",
       "\t<tr>\n",
       "\t\t<td>Female</td>\n",
       "\t\t<td>160</td>\n",
       "\t\t<td>131</td>\n",
       "\t\t<td>5</td>\n",
       "\t\t<td>1</td>\n",
       "\t</tr>\n",
       "\t<tr>\n",
       "\t\t<td>Female</td>\n",
       "\t\t<td>157</td>\n",
       "\t\t<td>153</td>\n",
       "\t\t<td>5</td>\n",
       "\t\t<td>1</td>\n",
       "\t</tr>\n",
       "\t<tr>\n",
       "\t\t<td>Female</td>\n",
       "\t\t<td>171</td>\n",
       "\t\t<td>152</td>\n",
       "\t\t<td>5</td>\n",
       "\t\t<td>1</td>\n",
       "\t</tr>\n",
       "\t<tr>\n",
       "\t\t<td>Female</td>\n",
       "\t\t<td>185</td>\n",
       "\t\t<td>81</td>\n",
       "\t\t<td>2</td>\n",
       "\t\t<td>1</td>\n",
       "\t</tr>\n",
       "\t<tr>\n",
       "\t\t<td>Female</td>\n",
       "\t\t<td>197</td>\n",
       "\t\t<td>114</td>\n",
       "\t\t<td>3</td>\n",
       "\t\t<td>2</td>\n",
       "\t</tr>\n",
       "\t<tr>\n",
       "\t\t<td>Female</td>\n",
       "\t\t<td>151</td>\n",
       "\t\t<td>64</td>\n",
       "\t\t<td>3</td>\n",
       "\t\t<td>1</td>\n",
       "\t</tr>\n",
       "\t<tr>\n",
       "\t\t<td>Female</td>\n",
       "\t\t<td>169</td>\n",
       "\t\t<td>97</td>\n",
       "\t\t<td>4</td>\n",
       "\t\t<td>1</td>\n",
       "\t</tr>\n",
       "\t<tr>\n",
       "\t\t<td>Female</td>\n",
       "\t\t<td>153</td>\n",
       "\t\t<td>107</td>\n",
       "\t\t<td>5</td>\n",
       "\t\t<td>1</td>\n",
       "\t</tr>\n",
       "</table></html>"
      ],
      "text/plain": [
       "   gender  height  weight  bmi  sampleid\n",
       "0  Female     172      67    2         1\n",
       "1  Female     195      65    1         1\n",
       "2  Female     160     131    5         1\n",
       "3  Female     157     153    5         1\n",
       "4  Female     171     152    5         1\n",
       "5  Female     185      81    2         1\n",
       "6  Female     197     114    3         2\n",
       "7  Female     151      64    3         1\n",
       "8  Female     169      97    4         1\n",
       "9  Female     153     107    5         1"
      ]
     },
     "execution_count": 9,
     "metadata": {},
     "output_type": "execute_result"
    }
   ],
   "source": [
    "bmi_df_sample.head()"
   ]
  },
  {
   "cell_type": "code",
   "execution_count": 10,
   "id": "5e3e5923-18ad-4cf6-b4e5-e87f8854700b",
   "metadata": {},
   "outputs": [],
   "source": [
    "# Fetching train and test data\n",
    "bmi_df_train= bmi_df_sample[bmi_df_sample['sampleid'] == 1].drop('sampleid', axis=1)\n",
    "bmi_df_test = bmi_df_sample[bmi_df_sample['sampleid'] == 2].drop('sampleid', axis=1)"
   ]
  },
  {
   "cell_type": "code",
   "execution_count": 11,
   "id": "83d72a72-3fac-4862-b374-d21ab59be1a6",
   "metadata": {},
   "outputs": [
    {
     "data": {
      "text/plain": [
       "(400, 4)"
      ]
     },
     "execution_count": 11,
     "metadata": {},
     "output_type": "execute_result"
    }
   ],
   "source": [
    "# train data shape\n",
    "bmi_df_train.shape"
   ]
  },
  {
   "cell_type": "code",
   "execution_count": 12,
   "id": "b22be730-8a7a-40f3-8e2a-cabd8d1f427f",
   "metadata": {},
   "outputs": [
    {
     "data": {
      "text/plain": [
       "(100, 4)"
      ]
     },
     "execution_count": 12,
     "metadata": {},
     "output_type": "execute_result"
    }
   ],
   "source": [
    "# test data shape\n",
    "bmi_df_test.shape"
   ]
  },
  {
   "cell_type": "code",
   "execution_count": 13,
   "id": "18473df2-be15-4e1e-bc5e-739abacf8b89",
   "metadata": {},
   "outputs": [
    {
     "data": {
      "text/html": [
       "<style type=\"text/css\">\n",
       "\ttable {border:ridge 5px;}\n",
       "\ttable td {border:inset 1px;}\n",
       "\ttable tr#HeaderRow {background-color:grey; color:white;}</style>\n",
       "<html><table>\n",
       "\t<tr id=\"HeaderRow\">\n",
       "\t\t<th>gender</th>\n",
       "\t\t<th>height</th>\n",
       "\t\t<th>weight</th>\n",
       "\t\t<th>bmi</th>\n",
       "\t</tr>\n",
       "\t<tr>\n",
       "\t\t<td>Female</td>\n",
       "\t\t<td>172</td>\n",
       "\t\t<td>67</td>\n",
       "\t\t<td>2</td>\n",
       "\t</tr>\n",
       "\t<tr>\n",
       "\t\t<td>Female</td>\n",
       "\t\t<td>195</td>\n",
       "\t\t<td>65</td>\n",
       "\t\t<td>1</td>\n",
       "\t</tr>\n",
       "\t<tr>\n",
       "\t\t<td>Female</td>\n",
       "\t\t<td>160</td>\n",
       "\t\t<td>131</td>\n",
       "\t\t<td>5</td>\n",
       "\t</tr>\n",
       "\t<tr>\n",
       "\t\t<td>Female</td>\n",
       "\t\t<td>157</td>\n",
       "\t\t<td>153</td>\n",
       "\t\t<td>5</td>\n",
       "\t</tr>\n",
       "\t<tr>\n",
       "\t\t<td>Female</td>\n",
       "\t\t<td>185</td>\n",
       "\t\t<td>81</td>\n",
       "\t\t<td>2</td>\n",
       "\t</tr>\n",
       "\t<tr>\n",
       "\t\t<td>Female</td>\n",
       "\t\t<td>175</td>\n",
       "\t\t<td>120</td>\n",
       "\t\t<td>4</td>\n",
       "\t</tr>\n",
       "\t<tr>\n",
       "\t\t<td>Female</td>\n",
       "\t\t<td>171</td>\n",
       "\t\t<td>152</td>\n",
       "\t\t<td>5</td>\n",
       "\t</tr>\n",
       "\t<tr>\n",
       "\t\t<td>Female</td>\n",
       "\t\t<td>151</td>\n",
       "\t\t<td>64</td>\n",
       "\t\t<td>3</td>\n",
       "\t</tr>\n",
       "\t<tr>\n",
       "\t\t<td>Female</td>\n",
       "\t\t<td>169</td>\n",
       "\t\t<td>97</td>\n",
       "\t\t<td>4</td>\n",
       "\t</tr>\n",
       "\t<tr>\n",
       "\t\t<td>Female</td>\n",
       "\t\t<td>153</td>\n",
       "\t\t<td>107</td>\n",
       "\t\t<td>5</td>\n",
       "\t</tr>\n",
       "</table></html>"
      ],
      "text/plain": [
       "   gender  height  weight  bmi\n",
       "0  Female     172      67    2\n",
       "1  Female     195      65    1\n",
       "2  Female     160     131    5\n",
       "3  Female     157     153    5\n",
       "4  Female     185      81    2\n",
       "5  Female     175     120    4\n",
       "6  Female     171     152    5\n",
       "7  Female     151      64    3\n",
       "8  Female     169      97    4\n",
       "9  Female     153     107    5"
      ]
     },
     "execution_count": 13,
     "metadata": {},
     "output_type": "execute_result"
    }
   ],
   "source": [
    "#train dataset\n",
    "bmi_df_train.head()"
   ]
  },
  {
   "cell_type": "code",
   "execution_count": 14,
   "id": "58c9d763-4f19-449e-a35b-676d4d026acc",
   "metadata": {},
   "outputs": [
    {
     "data": {
      "text/html": [
       "<style type=\"text/css\">\n",
       "\ttable {border:ridge 5px;}\n",
       "\ttable td {border:inset 1px;}\n",
       "\ttable tr#HeaderRow {background-color:grey; color:white;}</style>\n",
       "<html><table>\n",
       "\t<tr id=\"HeaderRow\">\n",
       "\t\t<th>gender</th>\n",
       "\t\t<th>height</th>\n",
       "\t\t<th>weight</th>\n",
       "\t\t<th>bmi</th>\n",
       "\t</tr>\n",
       "\t<tr>\n",
       "\t\t<td>Female</td>\n",
       "\t\t<td>146</td>\n",
       "\t\t<td>104</td>\n",
       "\t\t<td>5</td>\n",
       "\t</tr>\n",
       "\t<tr>\n",
       "\t\t<td>Female</td>\n",
       "\t\t<td>187</td>\n",
       "\t\t<td>102</td>\n",
       "\t\t<td>3</td>\n",
       "\t</tr>\n",
       "\t<tr>\n",
       "\t\t<td>Female</td>\n",
       "\t\t<td>196</td>\n",
       "\t\t<td>131</td>\n",
       "\t\t<td>4</td>\n",
       "\t</tr>\n",
       "\t<tr>\n",
       "\t\t<td>Female</td>\n",
       "\t\t<td>166</td>\n",
       "\t\t<td>126</td>\n",
       "\t\t<td>5</td>\n",
       "\t</tr>\n",
       "\t<tr>\n",
       "\t\t<td>Female</td>\n",
       "\t\t<td>182</td>\n",
       "\t\t<td>84</td>\n",
       "\t\t<td>3</td>\n",
       "\t</tr>\n",
       "\t<tr>\n",
       "\t\t<td>Female</td>\n",
       "\t\t<td>177</td>\n",
       "\t\t<td>117</td>\n",
       "\t\t<td>4</td>\n",
       "\t</tr>\n",
       "\t<tr>\n",
       "\t\t<td>Female</td>\n",
       "\t\t<td>167</td>\n",
       "\t\t<td>135</td>\n",
       "\t\t<td>5</td>\n",
       "\t</tr>\n",
       "\t<tr>\n",
       "\t\t<td>Female</td>\n",
       "\t\t<td>187</td>\n",
       "\t\t<td>70</td>\n",
       "\t\t<td>2</td>\n",
       "\t</tr>\n",
       "\t<tr>\n",
       "\t\t<td>Female</td>\n",
       "\t\t<td>183</td>\n",
       "\t\t<td>96</td>\n",
       "\t\t<td>3</td>\n",
       "\t</tr>\n",
       "\t<tr>\n",
       "\t\t<td>Female</td>\n",
       "\t\t<td>176</td>\n",
       "\t\t<td>54</td>\n",
       "\t\t<td>1</td>\n",
       "\t</tr>\n",
       "</table></html>"
      ],
      "text/plain": [
       "   gender  height  weight  bmi\n",
       "0  Female     146     104    5\n",
       "1  Female     187     102    3\n",
       "2  Female     196     131    4\n",
       "3  Female     166     126    5\n",
       "4  Female     182      84    3\n",
       "5  Female     177     117    4\n",
       "6  Female     167     135    5\n",
       "7  Female     187      70    2\n",
       "8  Female     183      96    3\n",
       "9  Female     176      54    1"
      ]
     },
     "execution_count": 14,
     "metadata": {},
     "output_type": "execute_result"
    }
   ],
   "source": [
    "# test dataset\n",
    "bmi_df_test.head()"
   ]
  },
  {
   "cell_type": "markdown",
   "id": "856ea871-93d8-4ea2-b524-1acb23bd7eb5",
   "metadata": {},
   "source": [
    "## <b><span style='color:#F1A424'>| 2.</span> Fitting AutoML </b>"
   ]
  },
  {
   "cell_type": "code",
   "execution_count": 15,
   "id": "f3650aa5-a408-4227-a88d-79c0f3d36d3c",
   "metadata": {},
   "outputs": [],
   "source": [
    "# Creating AutoML instance\n",
    "# Using all models from model training.\n",
    "# Keeping early stopping timer threshold to 300 sec\n",
    "# and verbose level 2 for detailed loggging\n",
    "\n",
    "aml = AutoML(task_type=\"Classification\",\n",
    "             max_runtime_secs=300,\n",
    "             verbose=2)"
   ]
  },
  {
   "cell_type": "code",
   "execution_count": 16,
   "id": "a1b7a771-1bfa-40c9-8ad0-c377d320c137",
   "metadata": {},
   "outputs": [
    {
     "data": {
      "text/html": [
       "\n",
       "            <style>\n",
       "                .custom-div {\n",
       "                    background-color: lightgray;\n",
       "                    color: #000000;\n",
       "                    padding: 10px;\n",
       "                    border-radius: 8px;\n",
       "                    box-shadow: 0 3px 4px rgba(0, 0, 0, 0.2);\n",
       "                    margin-bottom: 10px;\n",
       "                    text-align: center;\n",
       "                }\n",
       "            </style>\n",
       "        <br><div class=\"custom-div\"><h3><span style=\"color: green;\"></span>1. Feature Exploration -> 2. Feature Engineering -> 3. Data Preparation -> 4. Model Training & Evaluation<center></h3></center></div>"
      ],
      "text/plain": [
       "<IPython.core.display.HTML object>"
      ]
     },
     "metadata": {},
     "output_type": "display_data"
    },
    {
     "name": "stdout",
     "output_type": "stream",
     "text": [
      "Feature Exploration started ...\n",
      "\n",
      "Data Overview:\n",
      "Total Rows in the data: 400\n",
      "Total Columns in the data: 4\n",
      "\n",
      "Column Summary:\n"
     ]
    },
    {
     "data": {
      "text/html": [
       "<style type=\"text/css\">\n",
       "\ttable {border:ridge 5px;}\n",
       "\ttable td {border:inset 1px;}\n",
       "\ttable tr#HeaderRow {background-color:grey; color:white;}</style>\n",
       "<html><table>\n",
       "\t<tr id=\"HeaderRow\">\n",
       "\t\t<th>ColumnName</th>\n",
       "\t\t<th>Datatype</th>\n",
       "\t\t<th>NonNullCount</th>\n",
       "\t\t<th>NullCount</th>\n",
       "\t\t<th>BlankCount</th>\n",
       "\t\t<th>ZeroCount</th>\n",
       "\t\t<th>PositiveCount</th>\n",
       "\t\t<th>NegativeCount</th>\n",
       "\t\t<th>NullPercentage</th>\n",
       "\t\t<th>NonNullPercentage</th>\n",
       "\t</tr>\n",
       "\t<tr>\n",
       "\t\t<td>weight</td>\n",
       "\t\t<td>BIGINT</td>\n",
       "\t\t<td>400</td>\n",
       "\t\t<td>0</td>\n",
       "\t\t<td>None</td>\n",
       "\t\t<td>0</td>\n",
       "\t\t<td>400</td>\n",
       "\t\t<td>0</td>\n",
       "\t\t<td>0.0</td>\n",
       "\t\t<td>100.0</td>\n",
       "\t</tr>\n",
       "\t<tr>\n",
       "\t\t<td>gender</td>\n",
       "\t\t<td>VARCHAR(1024) CHARACTER SET UNICODE</td>\n",
       "\t\t<td>400</td>\n",
       "\t\t<td>0</td>\n",
       "\t\t<td>0</td>\n",
       "\t\t<td>None</td>\n",
       "\t\t<td>None</td>\n",
       "\t\t<td>None</td>\n",
       "\t\t<td>0.0</td>\n",
       "\t\t<td>100.0</td>\n",
       "\t</tr>\n",
       "\t<tr>\n",
       "\t\t<td>bmi</td>\n",
       "\t\t<td>BIGINT</td>\n",
       "\t\t<td>400</td>\n",
       "\t\t<td>0</td>\n",
       "\t\t<td>None</td>\n",
       "\t\t<td>10</td>\n",
       "\t\t<td>390</td>\n",
       "\t\t<td>0</td>\n",
       "\t\t<td>0.0</td>\n",
       "\t\t<td>100.0</td>\n",
       "\t</tr>\n",
       "\t<tr>\n",
       "\t\t<td>height</td>\n",
       "\t\t<td>BIGINT</td>\n",
       "\t\t<td>400</td>\n",
       "\t\t<td>0</td>\n",
       "\t\t<td>None</td>\n",
       "\t\t<td>0</td>\n",
       "\t\t<td>400</td>\n",
       "\t\t<td>0</td>\n",
       "\t\t<td>0.0</td>\n",
       "\t\t<td>100.0</td>\n",
       "\t</tr>\n",
       "</table></html>"
      ],
      "text/plain": [
       "                                       Datatype  NonNullCount  NullCount  BlankCount  ZeroCount  PositiveCount  NegativeCount  NullPercentage  NonNullPercentage\n",
       "ColumnName                                                                                                                                                      \n",
       "weight                                   BIGINT           400          0         NaN        0.0          400.0            0.0             0.0              100.0\n",
       "gender      VARCHAR(1024) CHARACTER SET UNICODE           400          0         0.0        NaN            NaN            NaN             0.0              100.0\n",
       "bmi                                      BIGINT           400          0         NaN       10.0          390.0            0.0             0.0              100.0\n",
       "height                                   BIGINT           400          0         NaN        0.0          400.0            0.0             0.0              100.0"
      ]
     },
     "metadata": {},
     "output_type": "display_data"
    },
    {
     "name": "stdout",
     "output_type": "stream",
     "text": [
      "\n",
      "Statistics of Data:\n"
     ]
    },
    {
     "data": {
      "text/html": [
       "<style type=\"text/css\">\n",
       "\ttable {border:ridge 5px;}\n",
       "\ttable td {border:inset 1px;}\n",
       "\ttable tr#HeaderRow {background-color:grey; color:white;}</style>\n",
       "<html><table>\n",
       "\t<tr id=\"HeaderRow\">\n",
       "\t\t<th>func</th>\n",
       "\t\t<th>height</th>\n",
       "\t\t<th>weight</th>\n",
       "\t\t<th>bmi</th>\n",
       "\t</tr>\n",
       "\t<tr>\n",
       "\t\t<td>min</td>\n",
       "\t\t<td>140</td>\n",
       "\t\t<td>50</td>\n",
       "\t\t<td>0</td>\n",
       "\t</tr>\n",
       "\t<tr>\n",
       "\t\t<td>std</td>\n",
       "\t\t<td>16.421</td>\n",
       "\t\t<td>32.983</td>\n",
       "\t\t<td>1.353</td>\n",
       "\t</tr>\n",
       "\t<tr>\n",
       "\t\t<td>25%</td>\n",
       "\t\t<td>155</td>\n",
       "\t\t<td>79</td>\n",
       "\t\t<td>3</td>\n",
       "\t</tr>\n",
       "\t<tr>\n",
       "\t\t<td>50%</td>\n",
       "\t\t<td>169</td>\n",
       "\t\t<td>106</td>\n",
       "\t\t<td>4</td>\n",
       "\t</tr>\n",
       "\t<tr>\n",
       "\t\t<td>75%</td>\n",
       "\t\t<td>184</td>\n",
       "\t\t<td>138</td>\n",
       "\t\t<td>5</td>\n",
       "\t</tr>\n",
       "\t<tr>\n",
       "\t\t<td>max</td>\n",
       "\t\t<td>199</td>\n",
       "\t\t<td>160</td>\n",
       "\t\t<td>5</td>\n",
       "\t</tr>\n",
       "\t<tr>\n",
       "\t\t<td>mean</td>\n",
       "\t\t<td>169.305</td>\n",
       "\t\t<td>106.15</td>\n",
       "\t\t<td>3.77</td>\n",
       "\t</tr>\n",
       "\t<tr>\n",
       "\t\t<td>count</td>\n",
       "\t\t<td>400</td>\n",
       "\t\t<td>400</td>\n",
       "\t\t<td>400</td>\n",
       "\t</tr>\n",
       "</table></html>"
      ],
      "text/plain": [
       "        height   weight      bmi\n",
       "func                            \n",
       "min    140.000   50.000    0.000\n",
       "std     16.421   32.983    1.353\n",
       "25%    155.000   79.000    3.000\n",
       "50%    169.000  106.000    4.000\n",
       "75%    184.000  138.000    5.000\n",
       "max    199.000  160.000    5.000\n",
       "mean   169.305  106.150    3.770\n",
       "count  400.000  400.000  400.000"
      ]
     },
     "metadata": {},
     "output_type": "display_data"
    },
    {
     "name": "stdout",
     "output_type": "stream",
     "text": [
      "\n",
      "Categorical Columns with their Distinct values:\n",
      "ColumnName                DistinctValueCount\n",
      "gender                    2         \n",
      "\n",
      "No Futile columns found.\n",
      "\n",
      "Target Column Distribution:\n"
     ]
    },
    {
     "data": {
      "image/png": "[encoded data removed]",
      "text/plain": [
       "<Figure size 600x600 with 1 Axes>"
      ]
     },
     "metadata": {},
     "output_type": "display_data"
    },
    {
     "name": "stdout",
     "output_type": "stream",
     "text": [
      "                                                                                                                                                                                                                                                                                                                                                                                                                                                                                                                    \n",
      "No outlier found!\n",
      "                                                                                        \r"
     ]
    },
    {
     "data": {
      "text/html": [
       "\n",
       "            <style>\n",
       "                .custom-div {\n",
       "                    background-color: lightgray;\n",
       "                    color: #000000;\n",
       "                    padding: 10px;\n",
       "                    border-radius: 8px;\n",
       "                    box-shadow: 0 3px 4px rgba(0 -  0 -  0 -  0.2);\n",
       "                    margin-bottom: 10px;\n",
       "                    text-align: center;\n",
       "                }\n",
       "            </style>\n",
       "        <br><div class=\"custom-div\"><h3><span style=\"color: green;\">1. Feature Exploration -></span> 2. Feature Engineering -> 3. Data Preparation -> 4. Model Training & Evaluation<center></h3></center></div>"
      ],
      "text/plain": [
       "<IPython.core.display.HTML object>"
      ]
     },
     "metadata": {},
     "output_type": "display_data"
    },
    {
     "name": "stdout",
     "output_type": "stream",
     "text": [
      "                                                                                        \r"
     ]
    },
    {
     "data": {
      "text/html": [
       "Feature Engineering started ..."
      ],
      "text/plain": [
       "<IPython.core.display.HTML object>"
      ]
     },
     "metadata": {},
     "output_type": "display_data"
    },
    {
     "name": "stdout",
     "output_type": "stream",
     "text": [
      "                                                                                        \r"
     ]
    },
    {
     "data": {
      "text/html": [
       "\n",
       "Handling duplicate records present in dataset ..."
      ],
      "text/plain": [
       "<IPython.core.display.HTML object>"
      ]
     },
     "metadata": {},
     "output_type": "display_data"
    },
    {
     "name": "stdout",
     "output_type": "stream",
     "text": [
      "                                                                                        \r"
     ]
    },
    {
     "data": {
      "text/html": [
       "Updated dataset sample after removing 5 duplicate records:"
      ],
      "text/plain": [
       "<IPython.core.display.HTML object>"
      ]
     },
     "metadata": {},
     "output_type": "display_data"
    },
    {
     "data": {
      "text/html": [
       "<style type=\"text/css\">\n",
       "\ttable {border:ridge 5px;}\n",
       "\ttable td {border:inset 1px;}\n",
       "\ttable tr#HeaderRow {background-color:grey; color:white;}</style>\n",
       "<html><table>\n",
       "\t<tr id=\"HeaderRow\">\n",
       "\t\t<th>gender</th>\n",
       "\t\t<th>height</th>\n",
       "\t\t<th>weight</th>\n",
       "\t\t<th>bmi</th>\n",
       "\t</tr>\n",
       "\t<tr>\n",
       "\t\t<td>Female</td>\n",
       "\t\t<td>184</td>\n",
       "\t\t<td>86</td>\n",
       "\t\t<td>3</td>\n",
       "\t</tr>\n",
       "\t<tr>\n",
       "\t\t<td>Female</td>\n",
       "\t\t<td>196</td>\n",
       "\t\t<td>50</td>\n",
       "\t\t<td>0</td>\n",
       "\t</tr>\n",
       "\t<tr>\n",
       "\t\t<td>Female</td>\n",
       "\t\t<td>146</td>\n",
       "\t\t<td>101</td>\n",
       "\t\t<td>5</td>\n",
       "\t</tr>\n",
       "\t<tr>\n",
       "\t\t<td>Female</td>\n",
       "\t\t<td>164</td>\n",
       "\t\t<td>160</td>\n",
       "\t\t<td>5</td>\n",
       "\t</tr>\n",
       "\t<tr>\n",
       "\t\t<td>Female</td>\n",
       "\t\t<td>180</td>\n",
       "\t\t<td>70</td>\n",
       "\t\t<td>2</td>\n",
       "\t</tr>\n",
       "\t<tr>\n",
       "\t\t<td>Female</td>\n",
       "\t\t<td>182</td>\n",
       "\t\t<td>84</td>\n",
       "\t\t<td>3</td>\n",
       "\t</tr>\n",
       "\t<tr>\n",
       "\t\t<td>Male</td>\n",
       "\t\t<td>197</td>\n",
       "\t\t<td>119</td>\n",
       "\t\t<td>4</td>\n",
       "\t</tr>\n",
       "\t<tr>\n",
       "\t\t<td>Male</td>\n",
       "\t\t<td>163</td>\n",
       "\t\t<td>123</td>\n",
       "\t\t<td>5</td>\n",
       "\t</tr>\n",
       "\t<tr>\n",
       "\t\t<td>Male</td>\n",
       "\t\t<td>188</td>\n",
       "\t\t<td>141</td>\n",
       "\t\t<td>4</td>\n",
       "\t</tr>\n",
       "\t<tr>\n",
       "\t\t<td>Male</td>\n",
       "\t\t<td>197</td>\n",
       "\t\t<td>149</td>\n",
       "\t\t<td>4</td>\n",
       "\t</tr>\n",
       "</table></html>"
      ],
      "text/plain": [
       "   gender  height  weight  bmi\n",
       "0  Female     184      86    3\n",
       "1  Female     196      50    0\n",
       "2  Female     146     101    5\n",
       "3  Female     164     160    5\n",
       "4  Female     180      70    2\n",
       "5  Female     182      84    3\n",
       "6    Male     197     119    4\n",
       "7    Male     163     123    5\n",
       "8    Male     188     141    4\n",
       "9    Male     197     149    4"
      ]
     },
     "metadata": {},
     "output_type": "display_data"
    },
    {
     "name": "stdout",
     "output_type": "stream",
     "text": [
      "Remaining Rows in the data: 395                                                         \n",
      "Remaining Columns in the data: 4\n",
      "                                                                                        \r"
     ]
    },
    {
     "data": {
      "text/html": [
       "Total time to handle duplicate records: 3.56 sec  "
      ],
      "text/plain": [
       "<IPython.core.display.HTML object>"
      ]
     },
     "metadata": {},
     "output_type": "display_data"
    },
    {
     "name": "stdout",
     "output_type": "stream",
     "text": [
      "                                                                                        \r"
     ]
    },
    {
     "data": {
      "text/html": [
       "\n",
       "Handling less significant features from data ..."
      ],
      "text/plain": [
       "<IPython.core.display.HTML object>"
      ]
     },
     "metadata": {},
     "output_type": "display_data"
    },
    {
     "name": "stdout",
     "output_type": "stream",
     "text": [
      "All categorical columns seem to be significant.                                         \n",
      "                                                                                        \r"
     ]
    },
    {
     "data": {
      "text/html": [
       "Total time to handle less significant features: 15.95 sec  "
      ],
      "text/plain": [
       "<IPython.core.display.HTML object>"
      ]
     },
     "metadata": {},
     "output_type": "display_data"
    },
    {
     "name": "stdout",
     "output_type": "stream",
     "text": [
      "                                                                                         \r"
     ]
    },
    {
     "data": {
      "text/html": [
       "\n",
       "Handling Date Features ..."
      ],
      "text/plain": [
       "<IPython.core.display.HTML object>"
      ]
     },
     "metadata": {},
     "output_type": "display_data"
    },
    {
     "name": "stdout",
     "output_type": "stream",
     "text": [
      "Dataset does not contain any feature related to dates.                                   \n",
      "                                                                                         \r"
     ]
    },
    {
     "data": {
      "text/html": [
       "Total time to handle date features: 0.00 sec\n"
      ],
      "text/plain": [
       "<IPython.core.display.HTML object>"
      ]
     },
     "metadata": {},
     "output_type": "display_data"
    },
    {
     "name": "stdout",
     "output_type": "stream",
     "text": [
      "                                                                                         \r"
     ]
    },
    {
     "data": {
      "text/html": [
       "\n",
       "Checking Missing values in dataset ..."
      ],
      "text/plain": [
       "<IPython.core.display.HTML object>"
      ]
     },
     "metadata": {},
     "output_type": "display_data"
    },
    {
     "name": "stdout",
     "output_type": "stream",
     "text": [
      "No Missing Values Detected.                                                              \n",
      "                                                                                         \r"
     ]
    },
    {
     "data": {
      "text/html": [
       "Total time to find missing values in data: 7.25 sec  "
      ],
      "text/plain": [
       "<IPython.core.display.HTML object>"
      ]
     },
     "metadata": {},
     "output_type": "display_data"
    },
    {
     "name": "stdout",
     "output_type": "stream",
     "text": [
      "                                                                                         \r"
     ]
    },
    {
     "data": {
      "text/html": [
       "\n",
       "Imputing Missing Values ..."
      ],
      "text/plain": [
       "<IPython.core.display.HTML object>"
      ]
     },
     "metadata": {},
     "output_type": "display_data"
    },
    {
     "name": "stdout",
     "output_type": "stream",
     "text": [
      "No imputation is Required.                                                               \n",
      "                                                                                         \r"
     ]
    },
    {
     "data": {
      "text/html": [
       "Time taken to perform imputation: 0.00 sec  "
      ],
      "text/plain": [
       "<IPython.core.display.HTML object>"
      ]
     },
     "metadata": {},
     "output_type": "display_data"
    },
    {
     "name": "stdout",
     "output_type": "stream",
     "text": [
      "                                                                                         \r"
     ]
    },
    {
     "data": {
      "text/html": [
       "\n",
       "Performing encoding for categorical columns ..."
      ],
      "text/plain": [
       "<IPython.core.display.HTML object>"
      ]
     },
     "metadata": {},
     "output_type": "display_data"
    },
    {
     "name": "stdout",
     "output_type": "stream",
     "text": [
      "result data stored in table '\"AUTOML_USR\".\"ml__td_sqlmr_persist_out__1711971216203991\"'17\n",
      "                                                                                         \r"
     ]
    },
    {
     "data": {
      "text/html": [
       "ONE HOT Encoding these Columns:"
      ],
      "text/plain": [
       "<IPython.core.display.HTML object>"
      ]
     },
     "metadata": {},
     "output_type": "display_data"
    },
    {
     "name": "stdout",
     "output_type": "stream",
     "text": [
      "['gender']\n",
      "                                                                                         \r"
     ]
    },
    {
     "data": {
      "text/html": [
       "Time taken to encode the columns: 11.65 sec"
      ],
      "text/plain": [
       "<IPython.core.display.HTML object>"
      ]
     },
     "metadata": {},
     "output_type": "display_data"
    },
    {
     "name": "stdout",
     "output_type": "stream",
     "text": [
      "                                                                                         \r"
     ]
    },
    {
     "data": {
      "text/html": [
       "\n",
       "            <style>\n",
       "                .custom-div {\n",
       "                    background-color: lightgray;\n",
       "                    color: #000000;\n",
       "                    padding: 10px;\n",
       "                    border-radius: 8px;\n",
       "                    box-shadow: 0 3px 4px rgba(0 -  0 -  0 -  0.2);\n",
       "                    margin-bottom: 10px;\n",
       "                    text-align: center;\n",
       "                }\n",
       "            </style>\n",
       "        <br><div class=\"custom-div\"><h3><span style=\"color: green;\">1. Feature Exploration -> 2. Feature Engineering -></span> 3. Data Preparation -> 4. Model Training & Evaluation<center></h3></center></div>"
      ],
      "text/plain": [
       "<IPython.core.display.HTML object>"
      ]
     },
     "metadata": {},
     "output_type": "display_data"
    },
    {
     "name": "stdout",
     "output_type": "stream",
     "text": [
      "                                                                                         \r"
     ]
    },
    {
     "data": {
      "text/html": [
       "Data preparation started ..."
      ],
      "text/plain": [
       "<IPython.core.display.HTML object>"
      ]
     },
     "metadata": {},
     "output_type": "display_data"
    },
    {
     "name": "stdout",
     "output_type": "stream",
     "text": [
      "                                                                                         \r"
     ]
    },
    {
     "data": {
      "text/html": [
       "\n",
       "Spliting of dataset into training and testing ..."
      ],
      "text/plain": [
       "<IPython.core.display.HTML object>"
      ]
     },
     "metadata": {},
     "output_type": "display_data"
    },
    {
     "name": "stdout",
     "output_type": "stream",
     "text": [
      "Training size : 0.8                                                                      \n",
      "Testing size  : 0.2                                                                      \n",
      "                                                                                         \r"
     ]
    },
    {
     "data": {
      "text/html": [
       "Training data sample"
      ],
      "text/plain": [
       "<IPython.core.display.HTML object>"
      ]
     },
     "metadata": {},
     "output_type": "display_data"
    },
    {
     "data": {
      "text/html": [
       "<style type=\"text/css\">\n",
       "\ttable {border:ridge 5px;}\n",
       "\ttable td {border:inset 1px;}\n",
       "\ttable tr#HeaderRow {background-color:grey; color:white;}</style>\n",
       "<html><table>\n",
       "\t<tr id=\"HeaderRow\">\n",
       "\t\t<th>gender_0</th>\n",
       "\t\t<th>gender_1</th>\n",
       "\t\t<th>height</th>\n",
       "\t\t<th>weight</th>\n",
       "\t\t<th>bmi</th>\n",
       "\t\t<th>id</th>\n",
       "\t</tr>\n",
       "\t<tr>\n",
       "\t\t<td>1</td>\n",
       "\t\t<td>0</td>\n",
       "\t\t<td>150</td>\n",
       "\t\t<td>70</td>\n",
       "\t\t<td>4</td>\n",
       "\t\t<td>39</td>\n",
       "\t</tr>\n",
       "\t<tr>\n",
       "\t\t<td>1</td>\n",
       "\t\t<td>0</td>\n",
       "\t\t<td>146</td>\n",
       "\t\t<td>101</td>\n",
       "\t\t<td>5</td>\n",
       "\t\t<td>55</td>\n",
       "\t</tr>\n",
       "\t<tr>\n",
       "\t\t<td>1</td>\n",
       "\t\t<td>0</td>\n",
       "\t\t<td>164</td>\n",
       "\t\t<td>160</td>\n",
       "\t\t<td>5</td>\n",
       "\t\t<td>63</td>\n",
       "\t</tr>\n",
       "\t<tr>\n",
       "\t\t<td>1</td>\n",
       "\t\t<td>0</td>\n",
       "\t\t<td>160</td>\n",
       "\t\t<td>131</td>\n",
       "\t\t<td>5</td>\n",
       "\t\t<td>71</td>\n",
       "\t</tr>\n",
       "\t<tr>\n",
       "\t\t<td>1</td>\n",
       "\t\t<td>0</td>\n",
       "\t\t<td>182</td>\n",
       "\t\t<td>84</td>\n",
       "\t\t<td>3</td>\n",
       "\t\t<td>87</td>\n",
       "\t</tr>\n",
       "\t<tr>\n",
       "\t\t<td>1</td>\n",
       "\t\t<td>0</td>\n",
       "\t\t<td>192</td>\n",
       "\t\t<td>90</td>\n",
       "\t\t<td>2</td>\n",
       "\t\t<td>95</td>\n",
       "\t</tr>\n",
       "\t<tr>\n",
       "\t\t<td>0</td>\n",
       "\t\t<td>1</td>\n",
       "\t\t<td>197</td>\n",
       "\t\t<td>119</td>\n",
       "\t\t<td>4</td>\n",
       "\t\t<td>12</td>\n",
       "\t</tr>\n",
       "\t<tr>\n",
       "\t\t<td>0</td>\n",
       "\t\t<td>1</td>\n",
       "\t\t<td>163</td>\n",
       "\t\t<td>123</td>\n",
       "\t\t<td>5</td>\n",
       "\t\t<td>20</td>\n",
       "\t</tr>\n",
       "\t<tr>\n",
       "\t\t<td>0</td>\n",
       "\t\t<td>1</td>\n",
       "\t\t<td>197</td>\n",
       "\t\t<td>149</td>\n",
       "\t\t<td>4</td>\n",
       "\t\t<td>36</td>\n",
       "\t</tr>\n",
       "\t<tr>\n",
       "\t\t<td>0</td>\n",
       "\t\t<td>1</td>\n",
       "\t\t<td>187</td>\n",
       "\t\t<td>138</td>\n",
       "\t\t<td>4</td>\n",
       "\t\t<td>44</td>\n",
       "\t</tr>\n",
       "</table></html>"
      ],
      "text/plain": [
       "   gender_0  gender_1  height  weight  bmi  id\n",
       "0         1         0     150      70    4  39\n",
       "1         1         0     146     101    5  55\n",
       "2         1         0     164     160    5  63\n",
       "3         1         0     160     131    5  71\n",
       "4         1         0     182      84    3  87\n",
       "5         1         0     192      90    2  95\n",
       "6         0         1     197     119    4  12\n",
       "7         0         1     163     123    5  20\n",
       "8         0         1     197     149    4  36\n",
       "9         0         1     187     138    4  44"
      ]
     },
     "metadata": {},
     "output_type": "display_data"
    },
    {
     "name": "stdout",
     "output_type": "stream",
     "text": [
      "                                                                                         \r"
     ]
    },
    {
     "data": {
      "text/html": [
       "Testing data sample"
      ],
      "text/plain": [
       "<IPython.core.display.HTML object>"
      ]
     },
     "metadata": {},
     "output_type": "display_data"
    },
    {
     "data": {
      "text/html": [
       "<style type=\"text/css\">\n",
       "\ttable {border:ridge 5px;}\n",
       "\ttable td {border:inset 1px;}\n",
       "\ttable tr#HeaderRow {background-color:grey; color:white;}</style>\n",
       "<html><table>\n",
       "\t<tr id=\"HeaderRow\">\n",
       "\t\t<th>gender_0</th>\n",
       "\t\t<th>gender_1</th>\n",
       "\t\t<th>height</th>\n",
       "\t\t<th>weight</th>\n",
       "\t\t<th>bmi</th>\n",
       "\t\t<th>id</th>\n",
       "\t</tr>\n",
       "\t<tr>\n",
       "\t\t<td>1</td>\n",
       "\t\t<td>0</td>\n",
       "\t\t<td>146</td>\n",
       "\t\t<td>123</td>\n",
       "\t\t<td>5</td>\n",
       "\t\t<td>191</td>\n",
       "\t</tr>\n",
       "\t<tr>\n",
       "\t\t<td>1</td>\n",
       "\t\t<td>0</td>\n",
       "\t\t<td>172</td>\n",
       "\t\t<td>116</td>\n",
       "\t\t<td>4</td>\n",
       "\t\t<td>215</td>\n",
       "\t</tr>\n",
       "\t<tr>\n",
       "\t\t<td>1</td>\n",
       "\t\t<td>0</td>\n",
       "\t\t<td>189</td>\n",
       "\t\t<td>125</td>\n",
       "\t\t<td>4</td>\n",
       "\t\t<td>247</td>\n",
       "\t</tr>\n",
       "\t<tr>\n",
       "\t\t<td>1</td>\n",
       "\t\t<td>0</td>\n",
       "\t\t<td>140</td>\n",
       "\t\t<td>76</td>\n",
       "\t\t<td>4</td>\n",
       "\t\t<td>375</td>\n",
       "\t</tr>\n",
       "\t<tr>\n",
       "\t\t<td>1</td>\n",
       "\t\t<td>0</td>\n",
       "\t\t<td>150</td>\n",
       "\t\t<td>97</td>\n",
       "\t\t<td>5</td>\n",
       "\t\t<td>487</td>\n",
       "\t</tr>\n",
       "\t<tr>\n",
       "\t\t<td>1</td>\n",
       "\t\t<td>0</td>\n",
       "\t\t<td>177</td>\n",
       "\t\t<td>101</td>\n",
       "\t\t<td>4</td>\n",
       "\t\t<td>543</td>\n",
       "\t</tr>\n",
       "\t<tr>\n",
       "\t\t<td>0</td>\n",
       "\t\t<td>1</td>\n",
       "\t\t<td>188</td>\n",
       "\t\t<td>141</td>\n",
       "\t\t<td>4</td>\n",
       "\t\t<td>28</td>\n",
       "\t</tr>\n",
       "\t<tr>\n",
       "\t\t<td>0</td>\n",
       "\t\t<td>1</td>\n",
       "\t\t<td>143</td>\n",
       "\t\t<td>88</td>\n",
       "\t\t<td>5</td>\n",
       "\t\t<td>124</td>\n",
       "\t</tr>\n",
       "\t<tr>\n",
       "\t\t<td>0</td>\n",
       "\t\t<td>1</td>\n",
       "\t\t<td>146</td>\n",
       "\t\t<td>85</td>\n",
       "\t\t<td>4</td>\n",
       "\t\t<td>188</td>\n",
       "\t</tr>\n",
       "\t<tr>\n",
       "\t\t<td>0</td>\n",
       "\t\t<td>1</td>\n",
       "\t\t<td>185</td>\n",
       "\t\t<td>76</td>\n",
       "\t\t<td>2</td>\n",
       "\t\t<td>204</td>\n",
       "\t</tr>\n",
       "</table></html>"
      ],
      "text/plain": [
       "   gender_0  gender_1  height  weight  bmi   id\n",
       "0         1         0     146     123    5  191\n",
       "1         1         0     172     116    4  215\n",
       "2         1         0     189     125    4  247\n",
       "3         1         0     140      76    4  375\n",
       "4         1         0     150      97    5  487\n",
       "5         1         0     177     101    4  543\n",
       "6         0         1     188     141    4   28\n",
       "7         0         1     143      88    5  124\n",
       "8         0         1     146      85    4  188\n",
       "9         0         1     185      76    2  204"
      ]
     },
     "metadata": {},
     "output_type": "display_data"
    },
    {
     "name": "stdout",
     "output_type": "stream",
     "text": [
      "                                                                                         \r"
     ]
    },
    {
     "data": {
      "text/html": [
       "Time taken for spliting of data: 9.18 sec  "
      ],
      "text/plain": [
       "<IPython.core.display.HTML object>"
      ]
     },
     "metadata": {},
     "output_type": "display_data"
    },
    {
     "name": "stdout",
     "output_type": "stream",
     "text": [
      "                                                                                         \r"
     ]
    },
    {
     "data": {
      "text/html": [
       "\n",
       "Outlier preprocessing ..."
      ],
      "text/plain": [
       "<IPython.core.display.HTML object>"
      ]
     },
     "metadata": {},
     "output_type": "display_data"
    },
    {
     "name": "stdout",
     "output_type": "stream",
     "text": [
      "                                                                                                                                                                                                                                                                                                                                                                                                                                                                                                                    \n",
      "No outlier found!\n",
      "                                                                                         \r"
     ]
    },
    {
     "data": {
      "text/html": [
       "Time Taken by Outlier processing: 19.65 sec "
      ],
      "text/plain": [
       "<IPython.core.display.HTML object>"
      ]
     },
     "metadata": {},
     "output_type": "display_data"
    },
    {
     "name": "stdout",
     "output_type": "stream",
     "text": [
      "                                                                                         \r"
     ]
    },
    {
     "data": {
      "text/html": [
       "\n",
       "Checking imbalance data ..."
      ],
      "text/plain": [
       "<IPython.core.display.HTML object>"
      ]
     },
     "metadata": {},
     "output_type": "display_data"
    },
    {
     "name": "stdout",
     "output_type": "stream",
     "text": [
      "                                                                                         \r"
     ]
    },
    {
     "data": {
      "text/html": [
       "Imbalance Found."
      ],
      "text/plain": [
       "<IPython.core.display.HTML object>"
      ]
     },
     "metadata": {},
     "output_type": "display_data"
    },
    {
     "name": "stdout",
     "output_type": "stream",
     "text": [
      "                                                                                         \r"
     ]
    },
    {
     "data": {
      "text/html": [
       "\n",
       "Starting data imbalance handling ..."
      ],
      "text/plain": [
       "<IPython.core.display.HTML object>"
      ]
     },
     "metadata": {},
     "output_type": "display_data"
    },
    {
     "name": "stdout",
     "output_type": "stream",
     "text": [
      "                                                                                         \r"
     ]
    },
    {
     "data": {
      "text/html": [
       "\n",
       "Balancing the data using SMOTE..."
      ],
      "text/plain": [
       "<IPython.core.display.HTML object>"
      ]
     },
     "metadata": {},
     "output_type": "display_data"
    },
    {
     "name": "stdout",
     "output_type": "stream",
     "text": [
      "                                                                                         \r"
     ]
    },
    {
     "data": {
      "text/html": [
       "Handled imbalanced dataset using SMOTE: 0.02 sec"
      ],
      "text/plain": [
       "<IPython.core.display.HTML object>"
      ]
     },
     "metadata": {},
     "output_type": "display_data"
    },
    {
     "name": "stdout",
     "output_type": "stream",
     "text": [
      "                                                                                         \r"
     ]
    },
    {
     "data": {
      "text/html": [
       "Completed data imbalance handling."
      ],
      "text/plain": [
       "<IPython.core.display.HTML object>"
      ]
     },
     "metadata": {},
     "output_type": "display_data"
    },
    {
     "name": "stdout",
     "output_type": "stream",
     "text": [
      "                                                                                          \r"
     ]
    },
    {
     "data": {
      "text/html": [
       "\n",
       "Feature selection using lasso ..."
      ],
      "text/plain": [
       "<IPython.core.display.HTML object>"
      ]
     },
     "metadata": {},
     "output_type": "display_data"
    },
    {
     "name": "stdout",
     "output_type": "stream",
     "text": [
      "                                                                                          \r"
     ]
    },
    {
     "data": {
      "text/html": [
       "feature selected by lasso:"
      ],
      "text/plain": [
       "<IPython.core.display.HTML object>"
      ]
     },
     "metadata": {},
     "output_type": "display_data"
    },
    {
     "name": "stdout",
     "output_type": "stream",
     "text": [
      "['height', 'weight']\n",
      "                                                                                          \r"
     ]
    },
    {
     "data": {
      "text/html": [
       "Total time taken by feature selection: 8.37 sec  "
      ],
      "text/plain": [
       "<IPython.core.display.HTML object>"
      ]
     },
     "metadata": {},
     "output_type": "display_data"
    },
    {
     "name": "stdout",
     "output_type": "stream",
     "text": [
      "                                                                                          \r"
     ]
    },
    {
     "data": {
      "text/html": [
       "\n",
       "scaling Features of lasso data ..."
      ],
      "text/plain": [
       "<IPython.core.display.HTML object>"
      ]
     },
     "metadata": {},
     "output_type": "display_data"
    },
    {
     "name": "stdout",
     "output_type": "stream",
     "text": [
      "                                                                                          \r"
     ]
    },
    {
     "data": {
      "text/html": [
       "columns that will be scaled: "
      ],
      "text/plain": [
       "<IPython.core.display.HTML object>"
      ]
     },
     "metadata": {},
     "output_type": "display_data"
    },
    {
     "name": "stdout",
     "output_type": "stream",
     "text": [
      "['height', 'weight']\n",
      "                                                                                          \r"
     ]
    },
    {
     "data": {
      "text/html": [
       "Training dataset sample after scaling:"
      ],
      "text/plain": [
       "<IPython.core.display.HTML object>"
      ]
     },
     "metadata": {},
     "output_type": "display_data"
    },
    {
     "data": {
      "text/html": [
       "<style type=\"text/css\">\n",
       "\ttable {border:ridge 5px;}\n",
       "\ttable td {border:inset 1px;}\n",
       "\ttable tr#HeaderRow {background-color:grey; color:white;}</style>\n",
       "<html><table>\n",
       "\t<tr id=\"HeaderRow\">\n",
       "\t\t<th>id</th>\n",
       "\t\t<th>bmi</th>\n",
       "\t\t<th>height</th>\n",
       "\t\t<th>weight</th>\n",
       "\t</tr>\n",
       "\t<tr>\n",
       "\t\t<td>2</td>\n",
       "\t\t<td>5</td>\n",
       "\t\t<td>0.2711864406779661</td>\n",
       "\t\t<td>0.6909090909090909</td>\n",
       "\t</tr>\n",
       "\t<tr>\n",
       "\t\t<td>4</td>\n",
       "\t\t<td>4</td>\n",
       "\t\t<td>0.1694915254237288</td>\n",
       "\t\t<td>0.18181818181818182</td>\n",
       "\t</tr>\n",
       "\t<tr>\n",
       "\t\t<td>5</td>\n",
       "\t\t<td>4</td>\n",
       "\t\t<td>0.9661016949152542</td>\n",
       "\t\t<td>0.9</td>\n",
       "\t</tr>\n",
       "\t<tr>\n",
       "\t\t<td>6</td>\n",
       "\t\t<td>0</td>\n",
       "\t\t<td>0.9491525423728814</td>\n",
       "\t\t<td>0.0</td>\n",
       "\t</tr>\n",
       "\t<tr>\n",
       "\t\t<td>8</td>\n",
       "\t\t<td>5</td>\n",
       "\t\t<td>0.1016949152542373</td>\n",
       "\t\t<td>0.4636363636363636</td>\n",
       "\t</tr>\n",
       "\t<tr>\n",
       "\t\t<td>9</td>\n",
       "\t\t<td>2</td>\n",
       "\t\t<td>0.6949152542372882</td>\n",
       "\t\t<td>0.2545454545454545</td>\n",
       "\t</tr>\n",
       "\t<tr>\n",
       "\t\t<td>7</td>\n",
       "\t\t<td>4</td>\n",
       "\t\t<td>0.7966101694915254</td>\n",
       "\t\t<td>0.8</td>\n",
       "\t</tr>\n",
       "\t<tr>\n",
       "\t\t<td>3</td>\n",
       "\t\t<td>5</td>\n",
       "\t\t<td>0.3898305084745763</td>\n",
       "\t\t<td>0.6636363636363637</td>\n",
       "\t</tr>\n",
       "\t<tr>\n",
       "\t\t<td>1</td>\n",
       "\t\t<td>4</td>\n",
       "\t\t<td>0.9661016949152542</td>\n",
       "\t\t<td>0.6272727272727273</td>\n",
       "\t</tr>\n",
       "\t<tr>\n",
       "\t\t<td>0</td>\n",
       "\t\t<td>3</td>\n",
       "\t\t<td>0.8813559322033898</td>\n",
       "\t\t<td>0.4636363636363636</td>\n",
       "\t</tr>\n",
       "</table></html>"
      ],
      "text/plain": [
       "   id  bmi    height    weight\n",
       "0   2    5  0.271186  0.690909\n",
       "1   4    4  0.169492  0.181818\n",
       "2   5    4  0.966102  0.900000\n",
       "3   6    0  0.949153  0.000000\n",
       "4   8    5  0.101695  0.463636\n",
       "5   9    2  0.694915  0.254545\n",
       "6   7    4  0.796610  0.800000\n",
       "7   3    5  0.389831  0.663636\n",
       "8   1    4  0.966102  0.627273\n",
       "9   0    3  0.881356  0.463636"
      ]
     },
     "metadata": {},
     "output_type": "display_data"
    },
    {
     "name": "stdout",
     "output_type": "stream",
     "text": [
      "                                                                                          \r"
     ]
    },
    {
     "data": {
      "text/html": [
       "Testing dataset sample after scaling:"
      ],
      "text/plain": [
       "<IPython.core.display.HTML object>"
      ]
     },
     "metadata": {},
     "output_type": "display_data"
    },
    {
     "data": {
      "text/html": [
       "<style type=\"text/css\">\n",
       "\ttable {border:ridge 5px;}\n",
       "\ttable td {border:inset 1px;}\n",
       "\ttable tr#HeaderRow {background-color:grey; color:white;}</style>\n",
       "<html><table>\n",
       "\t<tr id=\"HeaderRow\">\n",
       "\t\t<th>id</th>\n",
       "\t\t<th>bmi</th>\n",
       "\t\t<th>height</th>\n",
       "\t\t<th>weight</th>\n",
       "\t</tr>\n",
       "\t<tr>\n",
       "\t\t<td>127</td>\n",
       "\t\t<td>5</td>\n",
       "\t\t<td>0.3389830508474576</td>\n",
       "\t\t<td>0.5363636363636364</td>\n",
       "\t</tr>\n",
       "\t<tr>\n",
       "\t\t<td>191</td>\n",
       "\t\t<td>5</td>\n",
       "\t\t<td>0.1016949152542373</td>\n",
       "\t\t<td>0.6636363636363637</td>\n",
       "\t</tr>\n",
       "\t<tr>\n",
       "\t\t<td>188</td>\n",
       "\t\t<td>4</td>\n",
       "\t\t<td>0.1016949152542373</td>\n",
       "\t\t<td>0.3181818181818182</td>\n",
       "\t</tr>\n",
       "\t<tr>\n",
       "\t\t<td>207</td>\n",
       "\t\t<td>5</td>\n",
       "\t\t<td>0.288135593220339</td>\n",
       "\t\t<td>0.5454545454545454</td>\n",
       "\t</tr>\n",
       "\t<tr>\n",
       "\t\t<td>215</td>\n",
       "\t\t<td>4</td>\n",
       "\t\t<td>0.5423728813559322</td>\n",
       "\t\t<td>0.6</td>\n",
       "\t</tr>\n",
       "\t<tr>\n",
       "\t\t<td>212</td>\n",
       "\t\t<td>5</td>\n",
       "\t\t<td>0.1016949152542373</td>\n",
       "\t\t<td>0.8</td>\n",
       "\t</tr>\n",
       "\t<tr>\n",
       "\t\t<td>204</td>\n",
       "\t\t<td>2</td>\n",
       "\t\t<td>0.7627118644067796</td>\n",
       "\t\t<td>0.23636363636363636</td>\n",
       "\t</tr>\n",
       "\t<tr>\n",
       "\t\t<td>124</td>\n",
       "\t\t<td>5</td>\n",
       "\t\t<td>0.05084745762711865</td>\n",
       "\t\t<td>0.34545454545454546</td>\n",
       "\t</tr>\n",
       "\t<tr>\n",
       "\t\t<td>28</td>\n",
       "\t\t<td>4</td>\n",
       "\t\t<td>0.8135593220338984</td>\n",
       "\t\t<td>0.8272727272727273</td>\n",
       "\t</tr>\n",
       "\t<tr>\n",
       "\t\t<td>31</td>\n",
       "\t\t<td>3</td>\n",
       "\t\t<td>0.7457627118644068</td>\n",
       "\t\t<td>0.32727272727272727</td>\n",
       "\t</tr>\n",
       "</table></html>"
      ],
      "text/plain": [
       "    id  bmi    height    weight\n",
       "0  127    5  0.338983  0.536364\n",
       "1  191    5  0.101695  0.663636\n",
       "2  188    4  0.101695  0.318182\n",
       "3  207    5  0.288136  0.545455\n",
       "4  215    4  0.542373  0.600000\n",
       "5  212    5  0.101695  0.800000\n",
       "6  204    2  0.762712  0.236364\n",
       "7  124    5  0.050847  0.345455\n",
       "8   28    4  0.813559  0.827273\n",
       "9   31    3  0.745763  0.327273"
      ]
     },
     "metadata": {},
     "output_type": "display_data"
    },
    {
     "name": "stdout",
     "output_type": "stream",
     "text": [
      "                                                                                          \r"
     ]
    },
    {
     "data": {
      "text/html": [
       "Total time taken by feature scaling: 39.95 sec"
      ],
      "text/plain": [
       "<IPython.core.display.HTML object>"
      ]
     },
     "metadata": {},
     "output_type": "display_data"
    },
    {
     "name": "stdout",
     "output_type": "stream",
     "text": [
      "                                                                                          \r"
     ]
    },
    {
     "data": {
      "text/html": [
       "\n",
       "Feature selection using rfe ..."
      ],
      "text/plain": [
       "<IPython.core.display.HTML object>"
      ]
     },
     "metadata": {},
     "output_type": "display_data"
    },
    {
     "name": "stdout",
     "output_type": "stream",
     "text": [
      "                                                                                          \r"
     ]
    },
    {
     "data": {
      "text/html": [
       "feature selected by RFE:"
      ],
      "text/plain": [
       "<IPython.core.display.HTML object>"
      ]
     },
     "metadata": {},
     "output_type": "display_data"
    },
    {
     "name": "stdout",
     "output_type": "stream",
     "text": [
      "['height', 'weight']\n",
      "                                                                                          \r"
     ]
    },
    {
     "data": {
      "text/html": [
       "Total time taken by feature selection: 6.95 sec  "
      ],
      "text/plain": [
       "<IPython.core.display.HTML object>"
      ]
     },
     "metadata": {},
     "output_type": "display_data"
    },
    {
     "name": "stdout",
     "output_type": "stream",
     "text": [
      "                                                                                          \r"
     ]
    },
    {
     "data": {
      "text/html": [
       "\n",
       "scaling Features of rfe data ..."
      ],
      "text/plain": [
       "<IPython.core.display.HTML object>"
      ]
     },
     "metadata": {},
     "output_type": "display_data"
    },
    {
     "name": "stdout",
     "output_type": "stream",
     "text": [
      "                                                                                          \r"
     ]
    },
    {
     "data": {
      "text/html": [
       "columns that will be scaled: "
      ],
      "text/plain": [
       "<IPython.core.display.HTML object>"
      ]
     },
     "metadata": {},
     "output_type": "display_data"
    },
    {
     "name": "stdout",
     "output_type": "stream",
     "text": [
      "['r_height', 'r_weight']\n",
      "                                                                                          \r"
     ]
    },
    {
     "data": {
      "text/html": [
       "Training dataset sample after scaling:"
      ],
      "text/plain": [
       "<IPython.core.display.HTML object>"
      ]
     },
     "metadata": {},
     "output_type": "display_data"
    },
    {
     "data": {
      "text/html": [
       "<style type=\"text/css\">\n",
       "\ttable {border:ridge 5px;}\n",
       "\ttable td {border:inset 1px;}\n",
       "\ttable tr#HeaderRow {background-color:grey; color:white;}</style>\n",
       "<html><table>\n",
       "\t<tr id=\"HeaderRow\">\n",
       "\t\t<th>id</th>\n",
       "\t\t<th>bmi</th>\n",
       "\t\t<th>r_height</th>\n",
       "\t\t<th>r_weight</th>\n",
       "\t</tr>\n",
       "\t<tr>\n",
       "\t\t<td>2</td>\n",
       "\t\t<td>5</td>\n",
       "\t\t<td>0.2711864406779661</td>\n",
       "\t\t<td>0.6909090909090909</td>\n",
       "\t</tr>\n",
       "\t<tr>\n",
       "\t\t<td>4</td>\n",
       "\t\t<td>4</td>\n",
       "\t\t<td>0.1694915254237288</td>\n",
       "\t\t<td>0.18181818181818182</td>\n",
       "\t</tr>\n",
       "\t<tr>\n",
       "\t\t<td>5</td>\n",
       "\t\t<td>4</td>\n",
       "\t\t<td>0.9661016949152542</td>\n",
       "\t\t<td>0.9</td>\n",
       "\t</tr>\n",
       "\t<tr>\n",
       "\t\t<td>6</td>\n",
       "\t\t<td>0</td>\n",
       "\t\t<td>0.9491525423728814</td>\n",
       "\t\t<td>0.0</td>\n",
       "\t</tr>\n",
       "\t<tr>\n",
       "\t\t<td>8</td>\n",
       "\t\t<td>5</td>\n",
       "\t\t<td>0.1016949152542373</td>\n",
       "\t\t<td>0.4636363636363636</td>\n",
       "\t</tr>\n",
       "\t<tr>\n",
       "\t\t<td>9</td>\n",
       "\t\t<td>2</td>\n",
       "\t\t<td>0.6949152542372882</td>\n",
       "\t\t<td>0.2545454545454545</td>\n",
       "\t</tr>\n",
       "\t<tr>\n",
       "\t\t<td>7</td>\n",
       "\t\t<td>4</td>\n",
       "\t\t<td>0.7966101694915254</td>\n",
       "\t\t<td>0.8</td>\n",
       "\t</tr>\n",
       "\t<tr>\n",
       "\t\t<td>3</td>\n",
       "\t\t<td>5</td>\n",
       "\t\t<td>0.3898305084745763</td>\n",
       "\t\t<td>0.6636363636363637</td>\n",
       "\t</tr>\n",
       "\t<tr>\n",
       "\t\t<td>1</td>\n",
       "\t\t<td>4</td>\n",
       "\t\t<td>0.9661016949152542</td>\n",
       "\t\t<td>0.6272727272727273</td>\n",
       "\t</tr>\n",
       "\t<tr>\n",
       "\t\t<td>0</td>\n",
       "\t\t<td>3</td>\n",
       "\t\t<td>0.8813559322033898</td>\n",
       "\t\t<td>0.4636363636363636</td>\n",
       "\t</tr>\n",
       "</table></html>"
      ],
      "text/plain": [
       "   id  bmi  r_height  r_weight\n",
       "0   2    5  0.271186  0.690909\n",
       "1   4    4  0.169492  0.181818\n",
       "2   5    4  0.966102  0.900000\n",
       "3   6    0  0.949153  0.000000\n",
       "4   8    5  0.101695  0.463636\n",
       "5   9    2  0.694915  0.254545\n",
       "6   7    4  0.796610  0.800000\n",
       "7   3    5  0.389831  0.663636\n",
       "8   1    4  0.966102  0.627273\n",
       "9   0    3  0.881356  0.463636"
      ]
     },
     "metadata": {},
     "output_type": "display_data"
    },
    {
     "name": "stdout",
     "output_type": "stream",
     "text": [
      "                                                                                          \r"
     ]
    },
    {
     "data": {
      "text/html": [
       "Testing dataset sample after scaling:"
      ],
      "text/plain": [
       "<IPython.core.display.HTML object>"
      ]
     },
     "metadata": {},
     "output_type": "display_data"
    },
    {
     "data": {
      "text/html": [
       "<style type=\"text/css\">\n",
       "\ttable {border:ridge 5px;}\n",
       "\ttable td {border:inset 1px;}\n",
       "\ttable tr#HeaderRow {background-color:grey; color:white;}</style>\n",
       "<html><table>\n",
       "\t<tr id=\"HeaderRow\">\n",
       "\t\t<th>id</th>\n",
       "\t\t<th>bmi</th>\n",
       "\t\t<th>r_height</th>\n",
       "\t\t<th>r_weight</th>\n",
       "\t</tr>\n",
       "\t<tr>\n",
       "\t\t<td>127</td>\n",
       "\t\t<td>5</td>\n",
       "\t\t<td>0.3389830508474576</td>\n",
       "\t\t<td>0.5363636363636364</td>\n",
       "\t</tr>\n",
       "\t<tr>\n",
       "\t\t<td>191</td>\n",
       "\t\t<td>5</td>\n",
       "\t\t<td>0.1016949152542373</td>\n",
       "\t\t<td>0.6636363636363637</td>\n",
       "\t</tr>\n",
       "\t<tr>\n",
       "\t\t<td>188</td>\n",
       "\t\t<td>4</td>\n",
       "\t\t<td>0.1016949152542373</td>\n",
       "\t\t<td>0.3181818181818182</td>\n",
       "\t</tr>\n",
       "\t<tr>\n",
       "\t\t<td>207</td>\n",
       "\t\t<td>5</td>\n",
       "\t\t<td>0.288135593220339</td>\n",
       "\t\t<td>0.5454545454545454</td>\n",
       "\t</tr>\n",
       "\t<tr>\n",
       "\t\t<td>215</td>\n",
       "\t\t<td>4</td>\n",
       "\t\t<td>0.5423728813559322</td>\n",
       "\t\t<td>0.6</td>\n",
       "\t</tr>\n",
       "\t<tr>\n",
       "\t\t<td>212</td>\n",
       "\t\t<td>5</td>\n",
       "\t\t<td>0.1016949152542373</td>\n",
       "\t\t<td>0.8</td>\n",
       "\t</tr>\n",
       "\t<tr>\n",
       "\t\t<td>204</td>\n",
       "\t\t<td>2</td>\n",
       "\t\t<td>0.7627118644067796</td>\n",
       "\t\t<td>0.23636363636363636</td>\n",
       "\t</tr>\n",
       "\t<tr>\n",
       "\t\t<td>124</td>\n",
       "\t\t<td>5</td>\n",
       "\t\t<td>0.05084745762711865</td>\n",
       "\t\t<td>0.34545454545454546</td>\n",
       "\t</tr>\n",
       "\t<tr>\n",
       "\t\t<td>28</td>\n",
       "\t\t<td>4</td>\n",
       "\t\t<td>0.8135593220338984</td>\n",
       "\t\t<td>0.8272727272727273</td>\n",
       "\t</tr>\n",
       "\t<tr>\n",
       "\t\t<td>31</td>\n",
       "\t\t<td>3</td>\n",
       "\t\t<td>0.7457627118644068</td>\n",
       "\t\t<td>0.32727272727272727</td>\n",
       "\t</tr>\n",
       "</table></html>"
      ],
      "text/plain": [
       "    id  bmi  r_height  r_weight\n",
       "0  127    5  0.338983  0.536364\n",
       "1  191    5  0.101695  0.663636\n",
       "2  188    4  0.101695  0.318182\n",
       "3  207    5  0.288136  0.545455\n",
       "4  215    4  0.542373  0.600000\n",
       "5  212    5  0.101695  0.800000\n",
       "6  204    2  0.762712  0.236364\n",
       "7  124    5  0.050847  0.345455\n",
       "8   28    4  0.813559  0.827273\n",
       "9   31    3  0.745763  0.327273"
      ]
     },
     "metadata": {},
     "output_type": "display_data"
    },
    {
     "name": "stdout",
     "output_type": "stream",
     "text": [
      "                                                                                          \r"
     ]
    },
    {
     "data": {
      "text/html": [
       "Total time taken by feature scaling: 39.13 sec"
      ],
      "text/plain": [
       "<IPython.core.display.HTML object>"
      ]
     },
     "metadata": {},
     "output_type": "display_data"
    },
    {
     "name": "stdout",
     "output_type": "stream",
     "text": [
      "                                                                                          \r"
     ]
    },
    {
     "data": {
      "text/html": [
       "\n",
       "scaling Features of pca data ..."
      ],
      "text/plain": [
       "<IPython.core.display.HTML object>"
      ]
     },
     "metadata": {},
     "output_type": "display_data"
    },
    {
     "name": "stdout",
     "output_type": "stream",
     "text": [
      "                                                                                          \r"
     ]
    },
    {
     "data": {
      "text/html": [
       "columns that will be scaled: "
      ],
      "text/plain": [
       "<IPython.core.display.HTML object>"
      ]
     },
     "metadata": {},
     "output_type": "display_data"
    },
    {
     "name": "stdout",
     "output_type": "stream",
     "text": [
      "['height', 'weight']\n",
      "                                                                                          \r"
     ]
    },
    {
     "data": {
      "text/html": [
       "Training dataset sample after scaling:"
      ],
      "text/plain": [
       "<IPython.core.display.HTML object>"
      ]
     },
     "metadata": {},
     "output_type": "display_data"
    },
    {
     "data": {
      "text/html": [
       "<style type=\"text/css\">\n",
       "\ttable {border:ridge 5px;}\n",
       "\ttable td {border:inset 1px;}\n",
       "\ttable tr#HeaderRow {background-color:grey; color:white;}</style>\n",
       "<html><table>\n",
       "\t<tr id=\"HeaderRow\">\n",
       "\t\t<th>gender_0</th>\n",
       "\t\t<th>id</th>\n",
       "\t\t<th>bmi</th>\n",
       "\t\t<th>gender_1</th>\n",
       "\t\t<th>height</th>\n",
       "\t\t<th>weight</th>\n",
       "\t</tr>\n",
       "\t<tr>\n",
       "\t\t<td>1</td>\n",
       "\t\t<td>39</td>\n",
       "\t\t<td>4</td>\n",
       "\t\t<td>0</td>\n",
       "\t\t<td>0.1694915254237288</td>\n",
       "\t\t<td>0.18181818181818182</td>\n",
       "\t</tr>\n",
       "\t<tr>\n",
       "\t\t<td>1</td>\n",
       "\t\t<td>55</td>\n",
       "\t\t<td>5</td>\n",
       "\t\t<td>0</td>\n",
       "\t\t<td>0.1016949152542373</td>\n",
       "\t\t<td>0.4636363636363636</td>\n",
       "\t</tr>\n",
       "\t<tr>\n",
       "\t\t<td>1</td>\n",
       "\t\t<td>63</td>\n",
       "\t\t<td>5</td>\n",
       "\t\t<td>0</td>\n",
       "\t\t<td>0.4067796610169492</td>\n",
       "\t\t<td>1.0</td>\n",
       "\t</tr>\n",
       "\t<tr>\n",
       "\t\t<td>1</td>\n",
       "\t\t<td>71</td>\n",
       "\t\t<td>5</td>\n",
       "\t\t<td>0</td>\n",
       "\t\t<td>0.3389830508474576</td>\n",
       "\t\t<td>0.7363636363636363</td>\n",
       "\t</tr>\n",
       "\t<tr>\n",
       "\t\t<td>1</td>\n",
       "\t\t<td>87</td>\n",
       "\t\t<td>3</td>\n",
       "\t\t<td>0</td>\n",
       "\t\t<td>0.711864406779661</td>\n",
       "\t\t<td>0.3090909090909091</td>\n",
       "\t</tr>\n",
       "\t<tr>\n",
       "\t\t<td>1</td>\n",
       "\t\t<td>95</td>\n",
       "\t\t<td>2</td>\n",
       "\t\t<td>0</td>\n",
       "\t\t<td>0.8813559322033898</td>\n",
       "\t\t<td>0.36363636363636365</td>\n",
       "\t</tr>\n",
       "\t<tr>\n",
       "\t\t<td>0</td>\n",
       "\t\t<td>12</td>\n",
       "\t\t<td>4</td>\n",
       "\t\t<td>1</td>\n",
       "\t\t<td>0.9661016949152542</td>\n",
       "\t\t<td>0.6272727272727273</td>\n",
       "\t</tr>\n",
       "\t<tr>\n",
       "\t\t<td>0</td>\n",
       "\t\t<td>20</td>\n",
       "\t\t<td>5</td>\n",
       "\t\t<td>1</td>\n",
       "\t\t<td>0.3898305084745763</td>\n",
       "\t\t<td>0.6636363636363637</td>\n",
       "\t</tr>\n",
       "\t<tr>\n",
       "\t\t<td>0</td>\n",
       "\t\t<td>36</td>\n",
       "\t\t<td>4</td>\n",
       "\t\t<td>1</td>\n",
       "\t\t<td>0.9661016949152542</td>\n",
       "\t\t<td>0.9</td>\n",
       "\t</tr>\n",
       "\t<tr>\n",
       "\t\t<td>0</td>\n",
       "\t\t<td>44</td>\n",
       "\t\t<td>4</td>\n",
       "\t\t<td>1</td>\n",
       "\t\t<td>0.7966101694915254</td>\n",
       "\t\t<td>0.8</td>\n",
       "\t</tr>\n",
       "</table></html>"
      ],
      "text/plain": [
       "   gender_0  id  bmi  gender_1    height    weight\n",
       "0         1  39    4         0  0.169492  0.181818\n",
       "1         1  55    5         0  0.101695  0.463636\n",
       "2         1  63    5         0  0.406780  1.000000\n",
       "3         1  71    5         0  0.338983  0.736364\n",
       "4         1  87    3         0  0.711864  0.309091\n",
       "5         1  95    2         0  0.881356  0.363636\n",
       "6         0  12    4         1  0.966102  0.627273\n",
       "7         0  20    5         1  0.389831  0.663636\n",
       "8         0  36    4         1  0.966102  0.900000\n",
       "9         0  44    4         1  0.796610  0.800000"
      ]
     },
     "metadata": {},
     "output_type": "display_data"
    },
    {
     "name": "stdout",
     "output_type": "stream",
     "text": [
      "                                                                                          \r"
     ]
    },
    {
     "data": {
      "text/html": [
       "Testing dataset sample after scaling:"
      ],
      "text/plain": [
       "<IPython.core.display.HTML object>"
      ]
     },
     "metadata": {},
     "output_type": "display_data"
    },
    {
     "data": {
      "text/html": [
       "<style type=\"text/css\">\n",
       "\ttable {border:ridge 5px;}\n",
       "\ttable td {border:inset 1px;}\n",
       "\ttable tr#HeaderRow {background-color:grey; color:white;}</style>\n",
       "<html><table>\n",
       "\t<tr id=\"HeaderRow\">\n",
       "\t\t<th>gender_0</th>\n",
       "\t\t<th>id</th>\n",
       "\t\t<th>bmi</th>\n",
       "\t\t<th>gender_1</th>\n",
       "\t\t<th>height</th>\n",
       "\t\t<th>weight</th>\n",
       "\t</tr>\n",
       "\t<tr>\n",
       "\t\t<td>1</td>\n",
       "\t\t<td>191</td>\n",
       "\t\t<td>5</td>\n",
       "\t\t<td>0</td>\n",
       "\t\t<td>0.1016949152542373</td>\n",
       "\t\t<td>0.6636363636363637</td>\n",
       "\t</tr>\n",
       "\t<tr>\n",
       "\t\t<td>1</td>\n",
       "\t\t<td>215</td>\n",
       "\t\t<td>4</td>\n",
       "\t\t<td>0</td>\n",
       "\t\t<td>0.5423728813559322</td>\n",
       "\t\t<td>0.6</td>\n",
       "\t</tr>\n",
       "\t<tr>\n",
       "\t\t<td>1</td>\n",
       "\t\t<td>247</td>\n",
       "\t\t<td>4</td>\n",
       "\t\t<td>0</td>\n",
       "\t\t<td>0.8305084745762712</td>\n",
       "\t\t<td>0.6818181818181818</td>\n",
       "\t</tr>\n",
       "\t<tr>\n",
       "\t\t<td>1</td>\n",
       "\t\t<td>375</td>\n",
       "\t\t<td>4</td>\n",
       "\t\t<td>0</td>\n",
       "\t\t<td>0.0</td>\n",
       "\t\t<td>0.23636363636363636</td>\n",
       "\t</tr>\n",
       "\t<tr>\n",
       "\t\t<td>1</td>\n",
       "\t\t<td>487</td>\n",
       "\t\t<td>5</td>\n",
       "\t\t<td>0</td>\n",
       "\t\t<td>0.1694915254237288</td>\n",
       "\t\t<td>0.42727272727272725</td>\n",
       "\t</tr>\n",
       "\t<tr>\n",
       "\t\t<td>1</td>\n",
       "\t\t<td>543</td>\n",
       "\t\t<td>4</td>\n",
       "\t\t<td>0</td>\n",
       "\t\t<td>0.6271186440677966</td>\n",
       "\t\t<td>0.4636363636363636</td>\n",
       "\t</tr>\n",
       "\t<tr>\n",
       "\t\t<td>0</td>\n",
       "\t\t<td>28</td>\n",
       "\t\t<td>4</td>\n",
       "\t\t<td>1</td>\n",
       "\t\t<td>0.8135593220338984</td>\n",
       "\t\t<td>0.8272727272727273</td>\n",
       "\t</tr>\n",
       "\t<tr>\n",
       "\t\t<td>0</td>\n",
       "\t\t<td>124</td>\n",
       "\t\t<td>5</td>\n",
       "\t\t<td>1</td>\n",
       "\t\t<td>0.05084745762711865</td>\n",
       "\t\t<td>0.34545454545454546</td>\n",
       "\t</tr>\n",
       "\t<tr>\n",
       "\t\t<td>0</td>\n",
       "\t\t<td>188</td>\n",
       "\t\t<td>4</td>\n",
       "\t\t<td>1</td>\n",
       "\t\t<td>0.1016949152542373</td>\n",
       "\t\t<td>0.3181818181818182</td>\n",
       "\t</tr>\n",
       "\t<tr>\n",
       "\t\t<td>0</td>\n",
       "\t\t<td>204</td>\n",
       "\t\t<td>2</td>\n",
       "\t\t<td>1</td>\n",
       "\t\t<td>0.7627118644067796</td>\n",
       "\t\t<td>0.23636363636363636</td>\n",
       "\t</tr>\n",
       "</table></html>"
      ],
      "text/plain": [
       "   gender_0   id  bmi  gender_1    height    weight\n",
       "0         1  191    5         0  0.101695  0.663636\n",
       "1         1  215    4         0  0.542373  0.600000\n",
       "2         1  247    4         0  0.830508  0.681818\n",
       "3         1  375    4         0  0.000000  0.236364\n",
       "4         1  487    5         0  0.169492  0.427273\n",
       "5         1  543    4         0  0.627119  0.463636\n",
       "6         0   28    4         1  0.813559  0.827273\n",
       "7         0  124    5         1  0.050847  0.345455\n",
       "8         0  188    4         1  0.101695  0.318182\n",
       "9         0  204    2         1  0.762712  0.236364"
      ]
     },
     "metadata": {},
     "output_type": "display_data"
    },
    {
     "name": "stdout",
     "output_type": "stream",
     "text": [
      "                                                                                          \r"
     ]
    },
    {
     "data": {
      "text/html": [
       "Total time taken by feature scaling: 34.89 sec"
      ],
      "text/plain": [
       "<IPython.core.display.HTML object>"
      ]
     },
     "metadata": {},
     "output_type": "display_data"
    },
    {
     "name": "stdout",
     "output_type": "stream",
     "text": [
      "                                                                                          \r"
     ]
    },
    {
     "data": {
      "text/html": [
       "\n",
       "Dimension Reduction using pca ..."
      ],
      "text/plain": [
       "<IPython.core.display.HTML object>"
      ]
     },
     "metadata": {},
     "output_type": "display_data"
    },
    {
     "name": "stdout",
     "output_type": "stream",
     "text": [
      "                                                                                          \r"
     ]
    },
    {
     "data": {
      "text/html": [
       "PCA columns:"
      ],
      "text/plain": [
       "<IPython.core.display.HTML object>"
      ]
     },
     "metadata": {},
     "output_type": "display_data"
    },
    {
     "name": "stdout",
     "output_type": "stream",
     "text": [
      "['col_0', 'col_1', 'col_2']\n",
      "                                                                                          \r"
     ]
    },
    {
     "data": {
      "text/html": [
       "Total time taken by PCA: 10.22 sec  "
      ],
      "text/plain": [
       "<IPython.core.display.HTML object>"
      ]
     },
     "metadata": {},
     "output_type": "display_data"
    },
    {
     "name": "stdout",
     "output_type": "stream",
     "text": [
      "                                                                                          \r"
     ]
    },
    {
     "data": {
      "text/html": [
       "\n",
       "            <style>\n",
       "                .custom-div {\n",
       "                    background-color: lightgray;\n",
       "                    color: #000000;\n",
       "                    padding: 10px;\n",
       "                    border-radius: 8px;\n",
       "                    box-shadow: 0 3px 4px rgba(0 -  0 -  0 -  0.2);\n",
       "                    margin-bottom: 10px;\n",
       "                    text-align: center;\n",
       "                }\n",
       "            </style>\n",
       "        <br><div class=\"custom-div\"><h3><span style=\"color: green;\">1. Feature Exploration -> 2. Feature Engineering -> 3. Data Preparation -></span> 4. Model Training & Evaluation<center></h3></center></div>"
      ],
      "text/plain": [
       "<IPython.core.display.HTML object>"
      ]
     },
     "metadata": {},
     "output_type": "display_data"
    },
    {
     "name": "stdout",
     "output_type": "stream",
     "text": [
      "                                                                                          \r"
     ]
    },
    {
     "data": {
      "text/html": [
       "Model Training started ..."
      ],
      "text/plain": [
       "<IPython.core.display.HTML object>"
      ]
     },
     "metadata": {},
     "output_type": "display_data"
    },
    {
     "name": "stdout",
     "output_type": "stream",
     "text": [
      "                                                                                          \n",
      "Multi-class classification is not supported by glm model. Skipping glm model.\n",
      "                                                                                          \n",
      "Multi-class classification is not supported by svm model. Skipping svm model.\n",
      "                                                                                          \r"
     ]
    },
    {
     "data": {
      "text/html": [
       "\n",
       "Hyperparameters used for model training: "
      ],
      "text/plain": [
       "<IPython.core.display.HTML object>"
      ]
     },
     "metadata": {},
     "output_type": "display_data"
    },
    {
     "name": "stdout",
     "output_type": "stream",
     "text": [
      "response_column : bmi                                                                                                                                 \n",
      "name : decision_forest\n",
      "tree_type : Classification\n",
      "min_impurity : (0.0, 0.1)\n",
      "max_depth : (5, 6, 7, 8)\n",
      "min_node_size : (1, 2)\n",
      "num_trees : (-1, 10, 20)\n",
      "Total number of models for decision_forest : 48\n",
      "--------------------------------------------------------------------------------------------------------------------------------------------------------------------------------------------------------\n",
      "\n",
      "response_column : bmi\n",
      "name : xgboost\n",
      "model_type : Classification\n",
      "column_sampling : (1, 0.6)\n",
      "min_impurity : (0.0, 0.1)\n",
      "lambda1 : (0.01, 0.1, 1, 10)\n",
      "shrinkage_factor : (0.5, 0.1, 0.2)\n",
      "max_depth : (5, 6, 7, 8)\n",
      "min_node_size : (1, 2)\n",
      "iter_num : (10, 20)\n",
      "Total number of models for xgboost : 768\n",
      "--------------------------------------------------------------------------------------------------------------------------------------------------------------------------------------------------------\n",
      "\n",
      "response_column : bmi\n",
      "name : knn\n",
      "model_type : Classification\n",
      "k : (3, 5, 6, 8, 10, 12)\n",
      "id_column : id\n",
      "voting_weight : 1.0\n",
      "Total number of models for knn : 6\n",
      "--------------------------------------------------------------------------------------------------------------------------------------------------------------------------------------------------------\n",
      "\n",
      "                                                                                          \r"
     ]
    },
    {
     "data": {
      "text/html": [
       "\n",
       "Performing hyperParameter tuning ..."
      ],
      "text/plain": [
       "<IPython.core.display.HTML object>"
      ]
     },
     "metadata": {},
     "output_type": "display_data"
    },
    {
     "name": "stdout",
     "output_type": "stream",
     "text": [
      "                                                                                          \r"
     ]
    },
    {
     "data": {
      "text/html": [
       "decision_forest"
      ],
      "text/plain": [
       "<IPython.core.display.HTML object>"
      ]
     },
     "metadata": {},
     "output_type": "display_data"
    },
    {
     "name": "stdout",
     "output_type": "stream",
     "text": [
      "DECISIONFOREST_3                                                                                                                                                                                        \n",
      "DECISIONFOREST_1                                                                          \n",
      "DECISIONFOREST_2                                                                          \n",
      "                                                                                          \r"
     ]
    },
    {
     "data": {
      "text/html": [
       "----------------------------------------------------------------------------------------------------"
      ],
      "text/plain": [
       "<IPython.core.display.HTML object>"
      ]
     },
     "metadata": {},
     "output_type": "display_data"
    },
    {
     "name": "stdout",
     "output_type": "stream",
     "text": [
      "                                                                                          \r"
     ]
    },
    {
     "data": {
      "text/html": [
       "xgboost"
      ],
      "text/plain": [
       "<IPython.core.display.HTML object>"
      ]
     },
     "metadata": {},
     "output_type": "display_data"
    },
    {
     "name": "stdout",
     "output_type": "stream",
     "text": [
      "XGBOOST_0                                                                                                                                                                                               \n",
      "XGBOOST_1                                                                                 \n",
      "XGBOOST_2                                                                                 \n",
      "                                                                                          \r"
     ]
    },
    {
     "data": {
      "text/html": [
       "----------------------------------------------------------------------------------------------------"
      ],
      "text/plain": [
       "<IPython.core.display.HTML object>"
      ]
     },
     "metadata": {},
     "output_type": "display_data"
    },
    {
     "name": "stdout",
     "output_type": "stream",
     "text": [
      "                                                                                          \r"
     ]
    },
    {
     "data": {
      "text/html": [
       "knn"
      ],
      "text/plain": [
       "<IPython.core.display.HTML object>"
      ]
     },
     "metadata": {},
     "output_type": "display_data"
    },
    {
     "name": "stdout",
     "output_type": "stream",
     "text": [
      "KNN_9                                                                                                                                                                                                   \n",
      "KNN_4                                                                                     \n",
      "KNN_8                                                                                     \n",
      "                                                                                          \r"
     ]
    },
    {
     "data": {
      "text/html": [
       "----------------------------------------------------------------------------------------------------"
      ],
      "text/plain": [
       "<IPython.core.display.HTML object>"
      ]
     },
     "metadata": {},
     "output_type": "display_data"
    },
    {
     "name": "stdout",
     "output_type": "stream",
     "text": [
      "                                                                                          \r"
     ]
    },
    {
     "data": {
      "text/html": [
       "Evaluating models performance ..."
      ],
      "text/plain": [
       "<IPython.core.display.HTML object>"
      ]
     },
     "metadata": {},
     "output_type": "display_data"
    },
    {
     "name": "stdout",
     "output_type": "stream",
     "text": [
      "                                                                                          \r"
     ]
    },
    {
     "data": {
      "text/html": [
       "Evaluation completed."
      ],
      "text/plain": [
       "<IPython.core.display.HTML object>"
      ]
     },
     "metadata": {},
     "output_type": "display_data"
    },
    {
     "name": "stdout",
     "output_type": "stream",
     "text": [
      "                                                                                          \r"
     ]
    },
    {
     "data": {
      "text/html": [
       "Leaderboard"
      ],
      "text/plain": [
       "<IPython.core.display.HTML object>"
      ]
     },
     "metadata": {},
     "output_type": "display_data"
    },
    {
     "data": {
      "text/html": [
       "<div>\n",
       "<style scoped>\n",
       "    .dataframe tbody tr th:only-of-type {\n",
       "        vertical-align: middle;\n",
       "    }\n",
       "\n",
       "    .dataframe tbody tr th {\n",
       "        vertical-align: top;\n",
       "    }\n",
       "\n",
       "    .dataframe thead th {\n",
       "        text-align: right;\n",
       "    }\n",
       "</style>\n",
       "<table border=\"1\" class=\"dataframe\">\n",
       "  <thead>\n",
       "    <tr style=\"text-align: right;\">\n",
       "      <th></th>\n",
       "      <th>Rank</th>\n",
       "      <th>Name</th>\n",
       "      <th>Feature selection</th>\n",
       "      <th>Accuracy</th>\n",
       "      <th>Micro-Precision</th>\n",
       "      <th>Micro-Recall</th>\n",
       "      <th>Micro-F1</th>\n",
       "      <th>Macro-Precision</th>\n",
       "      <th>Macro-Recall</th>\n",
       "      <th>Macro-F1</th>\n",
       "      <th>Weighted-Precision</th>\n",
       "      <th>Weighted-Recall</th>\n",
       "      <th>Weighted-F1</th>\n",
       "    </tr>\n",
       "  </thead>\n",
       "  <tbody>\n",
       "    <tr>\n",
       "      <th>0</th>\n",
       "      <td>1</td>\n",
       "      <td>knn</td>\n",
       "      <td>lasso</td>\n",
       "      <td>0.913580</td>\n",
       "      <td>0.913580</td>\n",
       "      <td>0.913580</td>\n",
       "      <td>0.913580</td>\n",
       "      <td>0.827384</td>\n",
       "      <td>0.887807</td>\n",
       "      <td>0.848021</td>\n",
       "      <td>0.924417</td>\n",
       "      <td>0.913580</td>\n",
       "      <td>0.915674</td>\n",
       "    </tr>\n",
       "    <tr>\n",
       "      <th>1</th>\n",
       "      <td>2</td>\n",
       "      <td>knn</td>\n",
       "      <td>rfe</td>\n",
       "      <td>0.901235</td>\n",
       "      <td>0.901235</td>\n",
       "      <td>0.901235</td>\n",
       "      <td>0.901235</td>\n",
       "      <td>0.814757</td>\n",
       "      <td>0.873918</td>\n",
       "      <td>0.832148</td>\n",
       "      <td>0.915065</td>\n",
       "      <td>0.901235</td>\n",
       "      <td>0.902633</td>\n",
       "    </tr>\n",
       "    <tr>\n",
       "      <th>2</th>\n",
       "      <td>3</td>\n",
       "      <td>knn</td>\n",
       "      <td>pca</td>\n",
       "      <td>0.839506</td>\n",
       "      <td>0.839506</td>\n",
       "      <td>0.839506</td>\n",
       "      <td>0.839506</td>\n",
       "      <td>0.773280</td>\n",
       "      <td>0.813709</td>\n",
       "      <td>0.782788</td>\n",
       "      <td>0.847129</td>\n",
       "      <td>0.839506</td>\n",
       "      <td>0.839092</td>\n",
       "    </tr>\n",
       "    <tr>\n",
       "      <th>3</th>\n",
       "      <td>4</td>\n",
       "      <td>xgboost</td>\n",
       "      <td>rfe</td>\n",
       "      <td>0.790123</td>\n",
       "      <td>0.790123</td>\n",
       "      <td>0.790123</td>\n",
       "      <td>0.790123</td>\n",
       "      <td>0.675583</td>\n",
       "      <td>0.751840</td>\n",
       "      <td>0.698949</td>\n",
       "      <td>0.805505</td>\n",
       "      <td>0.790123</td>\n",
       "      <td>0.793859</td>\n",
       "    </tr>\n",
       "    <tr>\n",
       "      <th>4</th>\n",
       "      <td>5</td>\n",
       "      <td>xgboost</td>\n",
       "      <td>lasso</td>\n",
       "      <td>0.740741</td>\n",
       "      <td>0.740741</td>\n",
       "      <td>0.740741</td>\n",
       "      <td>0.740741</td>\n",
       "      <td>0.653292</td>\n",
       "      <td>0.717208</td>\n",
       "      <td>0.665397</td>\n",
       "      <td>0.746634</td>\n",
       "      <td>0.740741</td>\n",
       "      <td>0.737692</td>\n",
       "    </tr>\n",
       "    <tr>\n",
       "      <th>5</th>\n",
       "      <td>6</td>\n",
       "      <td>xgboost</td>\n",
       "      <td>pca</td>\n",
       "      <td>0.716049</td>\n",
       "      <td>0.716049</td>\n",
       "      <td>0.716049</td>\n",
       "      <td>0.716049</td>\n",
       "      <td>0.580357</td>\n",
       "      <td>0.517388</td>\n",
       "      <td>0.521377</td>\n",
       "      <td>0.680482</td>\n",
       "      <td>0.716049</td>\n",
       "      <td>0.685114</td>\n",
       "    </tr>\n",
       "    <tr>\n",
       "      <th>6</th>\n",
       "      <td>7</td>\n",
       "      <td>decision_forest</td>\n",
       "      <td>lasso</td>\n",
       "      <td>0.691358</td>\n",
       "      <td>0.691358</td>\n",
       "      <td>0.691358</td>\n",
       "      <td>0.691358</td>\n",
       "      <td>0.646907</td>\n",
       "      <td>0.712554</td>\n",
       "      <td>0.660279</td>\n",
       "      <td>0.765409</td>\n",
       "      <td>0.691358</td>\n",
       "      <td>0.714180</td>\n",
       "    </tr>\n",
       "    <tr>\n",
       "      <th>7</th>\n",
       "      <td>8</td>\n",
       "      <td>decision_forest</td>\n",
       "      <td>pca</td>\n",
       "      <td>0.679012</td>\n",
       "      <td>0.679012</td>\n",
       "      <td>0.679012</td>\n",
       "      <td>0.679012</td>\n",
       "      <td>0.564620</td>\n",
       "      <td>0.496140</td>\n",
       "      <td>0.513506</td>\n",
       "      <td>0.648733</td>\n",
       "      <td>0.679012</td>\n",
       "      <td>0.657981</td>\n",
       "    </tr>\n",
       "    <tr>\n",
       "      <th>8</th>\n",
       "      <td>9</td>\n",
       "      <td>decision_forest</td>\n",
       "      <td>rfe</td>\n",
       "      <td>0.666667</td>\n",
       "      <td>0.666667</td>\n",
       "      <td>0.666667</td>\n",
       "      <td>0.666667</td>\n",
       "      <td>0.577392</td>\n",
       "      <td>0.648882</td>\n",
       "      <td>0.584478</td>\n",
       "      <td>0.712661</td>\n",
       "      <td>0.666667</td>\n",
       "      <td>0.679094</td>\n",
       "    </tr>\n",
       "  </tbody>\n",
       "</table>\n",
       "</div>"
      ],
      "text/plain": [
       "   Rank             Name Feature selection  Accuracy  Micro-Precision  \\\n",
       "0     1              knn             lasso  0.913580         0.913580   \n",
       "1     2              knn               rfe  0.901235         0.901235   \n",
       "2     3              knn               pca  0.839506         0.839506   \n",
       "3     4          xgboost               rfe  0.790123         0.790123   \n",
       "4     5          xgboost             lasso  0.740741         0.740741   \n",
       "5     6          xgboost               pca  0.716049         0.716049   \n",
       "6     7  decision_forest             lasso  0.691358         0.691358   \n",
       "7     8  decision_forest               pca  0.679012         0.679012   \n",
       "8     9  decision_forest               rfe  0.666667         0.666667   \n",
       "\n",
       "   Micro-Recall  Micro-F1  Macro-Precision  Macro-Recall  Macro-F1  \\\n",
       "0      0.913580  0.913580         0.827384      0.887807  0.848021   \n",
       "1      0.901235  0.901235         0.814757      0.873918  0.832148   \n",
       "2      0.839506  0.839506         0.773280      0.813709  0.782788   \n",
       "3      0.790123  0.790123         0.675583      0.751840  0.698949   \n",
       "4      0.740741  0.740741         0.653292      0.717208  0.665397   \n",
       "5      0.716049  0.716049         0.580357      0.517388  0.521377   \n",
       "6      0.691358  0.691358         0.646907      0.712554  0.660279   \n",
       "7      0.679012  0.679012         0.564620      0.496140  0.513506   \n",
       "8      0.666667  0.666667         0.577392      0.648882  0.584478   \n",
       "\n",
       "   Weighted-Precision  Weighted-Recall  Weighted-F1  \n",
       "0            0.924417         0.913580     0.915674  \n",
       "1            0.915065         0.901235     0.902633  \n",
       "2            0.847129         0.839506     0.839092  \n",
       "3            0.805505         0.790123     0.793859  \n",
       "4            0.746634         0.740741     0.737692  \n",
       "5            0.680482         0.716049     0.685114  \n",
       "6            0.765409         0.691358     0.714180  \n",
       "7            0.648733         0.679012     0.657981  \n",
       "8            0.712661         0.666667     0.679094  "
      ]
     },
     "metadata": {},
     "output_type": "display_data"
    },
    {
     "name": "stdout",
     "output_type": "stream",
     "text": [
      "                                                                                          \r"
     ]
    },
    {
     "data": {
      "text/html": [
       "\n",
       "            <style>\n",
       "                .custom-div {\n",
       "                    background-color: lightgray;\n",
       "                    color: #000000;\n",
       "                    padding: 10px;\n",
       "                    border-radius: 8px;\n",
       "                    box-shadow: 0 3px 4px rgba(0 -  0 -  0 -  0.2);\n",
       "                    margin-bottom: 10px;\n",
       "                    text-align: center;\n",
       "                }\n",
       "            </style>\n",
       "        <br><div class=\"custom-div\"><h3><span style=\"color: green;\">1. Feature Exploration -> 2. Feature Engineering -> 3. Data Preparation -> 4. Model Training & Evaluation</span><center></h3></center></div>"
      ],
      "text/plain": [
       "<IPython.core.display.HTML object>"
      ]
     },
     "metadata": {},
     "output_type": "display_data"
    },
    {
     "name": "stdout",
     "output_type": "stream",
     "text": [
      "Completed: ｜⫿⫿⫿⫿⫿⫿⫿⫿⫿⫿⫿⫿⫿⫿⫿⫿⫿⫿⫿⫿⫿⫿⫿⫿⫿⫿⫿⫿⫿⫿⫿⫿⫿⫿⫿⫿⫿⫿⫿⫿⫿⫿⫿⫿⫿⫿⫿⫿⫿⫿⫿⫿⫿⫿⫿⫿⫿⫿⫿⫿｜ 100% - 17/17    \r"
     ]
    }
   ],
   "source": [
    "# Fitting train data\n",
    "aml.fit(bmi_df_train, bmi_df_train.bmi)"
   ]
  },
  {
   "cell_type": "markdown",
   "id": "23a04eb1-68e6-48b7-95aa-442f434809da",
   "metadata": {},
   "source": [
    "## <b><span style='color:#F1A424'>| 3.</span> Leaderboard : </b>"
   ]
  },
  {
   "cell_type": "code",
   "execution_count": 17,
   "id": "77de1099-6122-4f8a-8e7f-dd67e5b4ced4",
   "metadata": {},
   "outputs": [
    {
     "data": {
      "text/html": [
       "<div>\n",
       "<style scoped>\n",
       "    .dataframe tbody tr th:only-of-type {\n",
       "        vertical-align: middle;\n",
       "    }\n",
       "\n",
       "    .dataframe tbody tr th {\n",
       "        vertical-align: top;\n",
       "    }\n",
       "\n",
       "    .dataframe thead th {\n",
       "        text-align: right;\n",
       "    }\n",
       "</style>\n",
       "<table border=\"1\" class=\"dataframe\">\n",
       "  <thead>\n",
       "    <tr style=\"text-align: right;\">\n",
       "      <th></th>\n",
       "      <th>Rank</th>\n",
       "      <th>Name</th>\n",
       "      <th>Feature selection</th>\n",
       "      <th>Accuracy</th>\n",
       "      <th>Micro-Precision</th>\n",
       "      <th>Micro-Recall</th>\n",
       "      <th>Micro-F1</th>\n",
       "      <th>Macro-Precision</th>\n",
       "      <th>Macro-Recall</th>\n",
       "      <th>Macro-F1</th>\n",
       "      <th>Weighted-Precision</th>\n",
       "      <th>Weighted-Recall</th>\n",
       "      <th>Weighted-F1</th>\n",
       "    </tr>\n",
       "  </thead>\n",
       "  <tbody>\n",
       "    <tr>\n",
       "      <th>0</th>\n",
       "      <td>1</td>\n",
       "      <td>knn</td>\n",
       "      <td>lasso</td>\n",
       "      <td>0.913580</td>\n",
       "      <td>0.913580</td>\n",
       "      <td>0.913580</td>\n",
       "      <td>0.913580</td>\n",
       "      <td>0.827384</td>\n",
       "      <td>0.887807</td>\n",
       "      <td>0.848021</td>\n",
       "      <td>0.924417</td>\n",
       "      <td>0.913580</td>\n",
       "      <td>0.915674</td>\n",
       "    </tr>\n",
       "    <tr>\n",
       "      <th>1</th>\n",
       "      <td>2</td>\n",
       "      <td>knn</td>\n",
       "      <td>rfe</td>\n",
       "      <td>0.901235</td>\n",
       "      <td>0.901235</td>\n",
       "      <td>0.901235</td>\n",
       "      <td>0.901235</td>\n",
       "      <td>0.814757</td>\n",
       "      <td>0.873918</td>\n",
       "      <td>0.832148</td>\n",
       "      <td>0.915065</td>\n",
       "      <td>0.901235</td>\n",
       "      <td>0.902633</td>\n",
       "    </tr>\n",
       "    <tr>\n",
       "      <th>2</th>\n",
       "      <td>3</td>\n",
       "      <td>knn</td>\n",
       "      <td>pca</td>\n",
       "      <td>0.839506</td>\n",
       "      <td>0.839506</td>\n",
       "      <td>0.839506</td>\n",
       "      <td>0.839506</td>\n",
       "      <td>0.773280</td>\n",
       "      <td>0.813709</td>\n",
       "      <td>0.782788</td>\n",
       "      <td>0.847129</td>\n",
       "      <td>0.839506</td>\n",
       "      <td>0.839092</td>\n",
       "    </tr>\n",
       "    <tr>\n",
       "      <th>3</th>\n",
       "      <td>4</td>\n",
       "      <td>xgboost</td>\n",
       "      <td>rfe</td>\n",
       "      <td>0.790123</td>\n",
       "      <td>0.790123</td>\n",
       "      <td>0.790123</td>\n",
       "      <td>0.790123</td>\n",
       "      <td>0.675583</td>\n",
       "      <td>0.751840</td>\n",
       "      <td>0.698949</td>\n",
       "      <td>0.805505</td>\n",
       "      <td>0.790123</td>\n",
       "      <td>0.793859</td>\n",
       "    </tr>\n",
       "    <tr>\n",
       "      <th>4</th>\n",
       "      <td>5</td>\n",
       "      <td>xgboost</td>\n",
       "      <td>lasso</td>\n",
       "      <td>0.740741</td>\n",
       "      <td>0.740741</td>\n",
       "      <td>0.740741</td>\n",
       "      <td>0.740741</td>\n",
       "      <td>0.653292</td>\n",
       "      <td>0.717208</td>\n",
       "      <td>0.665397</td>\n",
       "      <td>0.746634</td>\n",
       "      <td>0.740741</td>\n",
       "      <td>0.737692</td>\n",
       "    </tr>\n",
       "    <tr>\n",
       "      <th>5</th>\n",
       "      <td>6</td>\n",
       "      <td>xgboost</td>\n",
       "      <td>pca</td>\n",
       "      <td>0.716049</td>\n",
       "      <td>0.716049</td>\n",
       "      <td>0.716049</td>\n",
       "      <td>0.716049</td>\n",
       "      <td>0.580357</td>\n",
       "      <td>0.517388</td>\n",
       "      <td>0.521377</td>\n",
       "      <td>0.680482</td>\n",
       "      <td>0.716049</td>\n",
       "      <td>0.685114</td>\n",
       "    </tr>\n",
       "    <tr>\n",
       "      <th>6</th>\n",
       "      <td>7</td>\n",
       "      <td>decision_forest</td>\n",
       "      <td>lasso</td>\n",
       "      <td>0.691358</td>\n",
       "      <td>0.691358</td>\n",
       "      <td>0.691358</td>\n",
       "      <td>0.691358</td>\n",
       "      <td>0.646907</td>\n",
       "      <td>0.712554</td>\n",
       "      <td>0.660279</td>\n",
       "      <td>0.765409</td>\n",
       "      <td>0.691358</td>\n",
       "      <td>0.714180</td>\n",
       "    </tr>\n",
       "    <tr>\n",
       "      <th>7</th>\n",
       "      <td>8</td>\n",
       "      <td>decision_forest</td>\n",
       "      <td>pca</td>\n",
       "      <td>0.679012</td>\n",
       "      <td>0.679012</td>\n",
       "      <td>0.679012</td>\n",
       "      <td>0.679012</td>\n",
       "      <td>0.564620</td>\n",
       "      <td>0.496140</td>\n",
       "      <td>0.513506</td>\n",
       "      <td>0.648733</td>\n",
       "      <td>0.679012</td>\n",
       "      <td>0.657981</td>\n",
       "    </tr>\n",
       "    <tr>\n",
       "      <th>8</th>\n",
       "      <td>9</td>\n",
       "      <td>decision_forest</td>\n",
       "      <td>rfe</td>\n",
       "      <td>0.666667</td>\n",
       "      <td>0.666667</td>\n",
       "      <td>0.666667</td>\n",
       "      <td>0.666667</td>\n",
       "      <td>0.577392</td>\n",
       "      <td>0.648882</td>\n",
       "      <td>0.584478</td>\n",
       "      <td>0.712661</td>\n",
       "      <td>0.666667</td>\n",
       "      <td>0.679094</td>\n",
       "    </tr>\n",
       "  </tbody>\n",
       "</table>\n",
       "</div>"
      ],
      "text/plain": [
       "   Rank             Name Feature selection  Accuracy  Micro-Precision  \\\n",
       "0     1              knn             lasso  0.913580         0.913580   \n",
       "1     2              knn               rfe  0.901235         0.901235   \n",
       "2     3              knn               pca  0.839506         0.839506   \n",
       "3     4          xgboost               rfe  0.790123         0.790123   \n",
       "4     5          xgboost             lasso  0.740741         0.740741   \n",
       "5     6          xgboost               pca  0.716049         0.716049   \n",
       "6     7  decision_forest             lasso  0.691358         0.691358   \n",
       "7     8  decision_forest               pca  0.679012         0.679012   \n",
       "8     9  decision_forest               rfe  0.666667         0.666667   \n",
       "\n",
       "   Micro-Recall  Micro-F1  Macro-Precision  Macro-Recall  Macro-F1  \\\n",
       "0      0.913580  0.913580         0.827384      0.887807  0.848021   \n",
       "1      0.901235  0.901235         0.814757      0.873918  0.832148   \n",
       "2      0.839506  0.839506         0.773280      0.813709  0.782788   \n",
       "3      0.790123  0.790123         0.675583      0.751840  0.698949   \n",
       "4      0.740741  0.740741         0.653292      0.717208  0.665397   \n",
       "5      0.716049  0.716049         0.580357      0.517388  0.521377   \n",
       "6      0.691358  0.691358         0.646907      0.712554  0.660279   \n",
       "7      0.679012  0.679012         0.564620      0.496140  0.513506   \n",
       "8      0.666667  0.666667         0.577392      0.648882  0.584478   \n",
       "\n",
       "   Weighted-Precision  Weighted-Recall  Weighted-F1  \n",
       "0            0.924417         0.913580     0.915674  \n",
       "1            0.915065         0.901235     0.902633  \n",
       "2            0.847129         0.839506     0.839092  \n",
       "3            0.805505         0.790123     0.793859  \n",
       "4            0.746634         0.740741     0.737692  \n",
       "5            0.680482         0.716049     0.685114  \n",
       "6            0.765409         0.691358     0.714180  \n",
       "7            0.648733         0.679012     0.657981  \n",
       "8            0.712661         0.666667     0.679094  "
      ]
     },
     "execution_count": 17,
     "metadata": {},
     "output_type": "execute_result"
    }
   ],
   "source": [
    "# Fetching Leaderboard\n",
    "aml.leaderboard()"
   ]
  },
  {
   "cell_type": "markdown",
   "id": "a7a3aa08-e349-4a61-9217-2c17d50411d8",
   "metadata": {},
   "source": [
    "## <b><span style='color:#F1A424'>| 4.</span> Best Performing Model : </b>"
   ]
  },
  {
   "cell_type": "code",
   "execution_count": 18,
   "id": "c4c32832-a76b-4f42-826a-cefc38a6301b",
   "metadata": {},
   "outputs": [
    {
     "data": {
      "text/html": [
       "<div>\n",
       "<style scoped>\n",
       "    .dataframe tbody tr th:only-of-type {\n",
       "        vertical-align: middle;\n",
       "    }\n",
       "\n",
       "    .dataframe tbody tr th {\n",
       "        vertical-align: top;\n",
       "    }\n",
       "\n",
       "    .dataframe thead th {\n",
       "        text-align: right;\n",
       "    }\n",
       "</style>\n",
       "<table border=\"1\" class=\"dataframe\">\n",
       "  <thead>\n",
       "    <tr style=\"text-align: right;\">\n",
       "      <th></th>\n",
       "      <th>Rank</th>\n",
       "      <th>Name</th>\n",
       "      <th>Feature selection</th>\n",
       "      <th>Accuracy</th>\n",
       "      <th>Micro-Precision</th>\n",
       "      <th>Micro-Recall</th>\n",
       "      <th>Micro-F1</th>\n",
       "      <th>Macro-Precision</th>\n",
       "      <th>Macro-Recall</th>\n",
       "      <th>Macro-F1</th>\n",
       "      <th>Weighted-Precision</th>\n",
       "      <th>Weighted-Recall</th>\n",
       "      <th>Weighted-F1</th>\n",
       "    </tr>\n",
       "  </thead>\n",
       "  <tbody>\n",
       "    <tr>\n",
       "      <th>0</th>\n",
       "      <td>1</td>\n",
       "      <td>knn</td>\n",
       "      <td>lasso</td>\n",
       "      <td>0.91358</td>\n",
       "      <td>0.91358</td>\n",
       "      <td>0.91358</td>\n",
       "      <td>0.91358</td>\n",
       "      <td>0.827384</td>\n",
       "      <td>0.887807</td>\n",
       "      <td>0.848021</td>\n",
       "      <td>0.924417</td>\n",
       "      <td>0.91358</td>\n",
       "      <td>0.915674</td>\n",
       "    </tr>\n",
       "  </tbody>\n",
       "</table>\n",
       "</div>"
      ],
      "text/plain": [
       "   Rank Name Feature selection  Accuracy  Micro-Precision  Micro-Recall  \\\n",
       "0     1  knn             lasso   0.91358          0.91358       0.91358   \n",
       "\n",
       "   Micro-F1  Macro-Precision  Macro-Recall  Macro-F1  Weighted-Precision  \\\n",
       "0   0.91358         0.827384      0.887807  0.848021            0.924417   \n",
       "\n",
       "   Weighted-Recall  Weighted-F1  \n",
       "0          0.91358     0.915674  "
      ]
     },
     "metadata": {},
     "output_type": "display_data"
    }
   ],
   "source": [
    "# Fetching best performing model for dataset\n",
    "aml.leader()"
   ]
  },
  {
   "cell_type": "markdown",
   "id": "e43181a9-3847-4e8b-b510-6da81f1c550f",
   "metadata": {},
   "source": [
    "## <b><span style='color:#F1A424'>| 5.</span> Generating Prediction : </b>"
   ]
  },
  {
   "cell_type": "markdown",
   "id": "8bf3bed8-dbdd-4239-97da-f289559c785c",
   "metadata": {},
   "source": [
    "### <b><span style='color:#F1A424'>| 5.1.</span> Generating prediction on default validation test data </b>"
   ]
  },
  {
   "cell_type": "code",
   "execution_count": 19,
   "id": "27663268-da3c-4717-b675-6d3a6d6f8f37",
   "metadata": {},
   "outputs": [
    {
     "name": "stdout",
     "output_type": "stream",
     "text": [
      "knn lasso\n",
      "\n",
      " Prediction : \n",
      "    id  prediction  bmi\n",
      "0  812           2    2\n",
      "1  215           4    4\n",
      "2  372           2    2\n",
      "3  191           5    5\n",
      "4   28           5    4\n",
      "5   31           3    3\n",
      "6  375           5    4\n",
      "7  823           4    4\n",
      "8  551           0    0\n",
      "9  679           5    5\n",
      "\n",
      " Performance Metrics : \n",
      "       Prediction  Mapping  CLASS_1  CLASS_2  CLASS_3  CLASS_4  CLASS_5  CLASS_6  Precision    Recall        F1  Support\n",
      "SeqNum                                                                                                                  \n",
      "2               2  CLASS_3        0        0       10        0        0        0   1.000000  0.833333  0.909091       12\n",
      "4               4  CLASS_5        0        0        0        0       18        1   0.947368  0.857143  0.900000       21\n",
      "0               0  CLASS_1        2        1        0        0        0        0   0.666667  1.000000  0.800000        2\n",
      "3               3  CLASS_4        0        0        0       10        1        0   0.909091  1.000000  0.952381       10\n",
      "1               1  CLASS_2        0        2        2        0        0        0   0.500000  0.666667  0.571429        3\n",
      "5               5  CLASS_6        0        0        0        0        2       32   0.941176  0.969697  0.955224       33\n",
      "\n",
      " Confusion Matrix : \n"
     ]
    },
    {
     "data": {
      "text/plain": [
       "array([[ 2,  0,  0,  0,  0,  0],\n",
       "       [ 1,  2,  0,  0,  0,  0],\n",
       "       [ 0,  2, 10,  0,  0,  0],\n",
       "       [ 0,  0,  0, 10,  0,  0],\n",
       "       [ 0,  0,  0,  1, 18,  2],\n",
       "       [ 0,  0,  0,  0,  1, 32]], dtype=int64)"
      ]
     },
     "metadata": {},
     "output_type": "display_data"
    }
   ],
   "source": [
    "# Generating prediction and metrics on default test data\n",
    "prediction = aml.predict()"
   ]
  },
  {
   "cell_type": "code",
   "execution_count": 20,
   "id": "742da363-550e-43e9-8c4b-d5feac54f522",
   "metadata": {},
   "outputs": [
    {
     "data": {
      "text/html": [
       "<style type=\"text/css\">\n",
       "\ttable {border:ridge 5px;}\n",
       "\ttable td {border:inset 1px;}\n",
       "\ttable tr#HeaderRow {background-color:grey; color:white;}</style>\n",
       "<html><table>\n",
       "\t<tr id=\"HeaderRow\">\n",
       "\t\t<th>id</th>\n",
       "\t\t<th>prediction</th>\n",
       "\t\t<th>bmi</th>\n",
       "\t</tr>\n",
       "\t<tr>\n",
       "\t\t<td>124</td>\n",
       "\t\t<td>5</td>\n",
       "\t\t<td>5</td>\n",
       "\t</tr>\n",
       "\t<tr>\n",
       "\t\t<td>188</td>\n",
       "\t\t<td>4</td>\n",
       "\t\t<td>4</td>\n",
       "\t</tr>\n",
       "\t<tr>\n",
       "\t\t<td>191</td>\n",
       "\t\t<td>5</td>\n",
       "\t\t<td>5</td>\n",
       "\t</tr>\n",
       "\t<tr>\n",
       "\t\t<td>204</td>\n",
       "\t\t<td>2</td>\n",
       "\t\t<td>2</td>\n",
       "\t</tr>\n",
       "\t<tr>\n",
       "\t\t<td>212</td>\n",
       "\t\t<td>5</td>\n",
       "\t\t<td>5</td>\n",
       "\t</tr>\n",
       "\t<tr>\n",
       "\t\t<td>215</td>\n",
       "\t\t<td>4</td>\n",
       "\t\t<td>4</td>\n",
       "\t</tr>\n",
       "\t<tr>\n",
       "\t\t<td>207</td>\n",
       "\t\t<td>5</td>\n",
       "\t\t<td>5</td>\n",
       "\t</tr>\n",
       "\t<tr>\n",
       "\t\t<td>127</td>\n",
       "\t\t<td>5</td>\n",
       "\t\t<td>5</td>\n",
       "\t</tr>\n",
       "\t<tr>\n",
       "\t\t<td>31</td>\n",
       "\t\t<td>3</td>\n",
       "\t\t<td>3</td>\n",
       "\t</tr>\n",
       "\t<tr>\n",
       "\t\t<td>28</td>\n",
       "\t\t<td>5</td>\n",
       "\t\t<td>4</td>\n",
       "\t</tr>\n",
       "</table></html>"
      ],
      "text/plain": [
       "    id  prediction  bmi\n",
       "0  124           5    5\n",
       "1  188           4    4\n",
       "2  191           5    5\n",
       "3  204           2    2\n",
       "4  212           5    5\n",
       "5  215           4    4\n",
       "6  207           5    5\n",
       "7  127           5    5\n",
       "8   31           3    3\n",
       "9   28           5    4"
      ]
     },
     "execution_count": 20,
     "metadata": {},
     "output_type": "execute_result"
    }
   ],
   "source": [
    "# Printing prediction\n",
    "prediction.head()"
   ]
  },
  {
   "cell_type": "markdown",
   "id": "ff38e5a7-70a4-4e80-9728-3b5e93b62344",
   "metadata": {},
   "source": [
    "### <b><span style='color:#F1A424'>| 5.2. </span> Generating prediction on external test data </b>"
   ]
  },
  {
   "cell_type": "code",
   "execution_count": 21,
   "id": "5b6edfe3-bd5a-46bd-ad80-b20fadfed7a0",
   "metadata": {},
   "outputs": [
    {
     "name": "stdout",
     "output_type": "stream",
     "text": [
      "Data Transformation started ...\n",
      "Performing transformation carried out in feature engineering phase ...\n",
      "\n",
      "Updated dataset after performing target column transformation :\n"
     ]
    },
    {
     "data": {
      "text/html": [
       "<style type=\"text/css\">\n",
       "\ttable {border:ridge 5px;}\n",
       "\ttable td {border:inset 1px;}\n",
       "\ttable tr#HeaderRow {background-color:grey; color:white;}</style>\n",
       "<html><table>\n",
       "\t<tr id=\"HeaderRow\">\n",
       "\t\t<th>height</th>\n",
       "\t\t<th>gender</th>\n",
       "\t\t<th>id</th>\n",
       "\t\t<th>weight</th>\n",
       "\t\t<th>bmi</th>\n",
       "\t</tr>\n",
       "\t<tr>\n",
       "\t\t<td>187</td>\n",
       "\t\t<td>Male</td>\n",
       "\t\t<td>28</td>\n",
       "\t\t<td>62</td>\n",
       "\t\t<td>1</td>\n",
       "\t</tr>\n",
       "\t<tr>\n",
       "\t\t<td>175</td>\n",
       "\t\t<td>Male</td>\n",
       "\t\t<td>44</td>\n",
       "\t\t<td>135</td>\n",
       "\t\t<td>5</td>\n",
       "\t</tr>\n",
       "\t<tr>\n",
       "\t\t<td>180</td>\n",
       "\t\t<td>Male</td>\n",
       "\t\t<td>52</td>\n",
       "\t\t<td>75</td>\n",
       "\t\t<td>2</td>\n",
       "\t</tr>\n",
       "\t<tr>\n",
       "\t\t<td>186</td>\n",
       "\t\t<td>Male</td>\n",
       "\t\t<td>60</td>\n",
       "\t\t<td>118</td>\n",
       "\t\t<td>4</td>\n",
       "\t</tr>\n",
       "\t<tr>\n",
       "\t\t<td>199</td>\n",
       "\t\t<td>Male</td>\n",
       "\t\t<td>76</td>\n",
       "\t\t<td>156</td>\n",
       "\t\t<td>4</td>\n",
       "\t</tr>\n",
       "\t<tr>\n",
       "\t\t<td>154</td>\n",
       "\t\t<td>Male</td>\n",
       "\t\t<td>84</td>\n",
       "\t\t<td>105</td>\n",
       "\t\t<td>5</td>\n",
       "\t</tr>\n",
       "\t<tr>\n",
       "\t\t<td>197</td>\n",
       "\t\t<td>Female</td>\n",
       "\t\t<td>15</td>\n",
       "\t\t<td>114</td>\n",
       "\t\t<td>3</td>\n",
       "\t</tr>\n",
       "\t<tr>\n",
       "\t\t<td>168</td>\n",
       "\t\t<td>Female</td>\n",
       "\t\t<td>23</td>\n",
       "\t\t<td>135</td>\n",
       "\t\t<td>5</td>\n",
       "\t</tr>\n",
       "\t<tr>\n",
       "\t\t<td>176</td>\n",
       "\t\t<td>Female</td>\n",
       "\t\t<td>31</td>\n",
       "\t\t<td>54</td>\n",
       "\t\t<td>1</td>\n",
       "\t</tr>\n",
       "\t<tr>\n",
       "\t\t<td>191</td>\n",
       "\t\t<td>Female</td>\n",
       "\t\t<td>39</td>\n",
       "\t\t<td>54</td>\n",
       "\t\t<td>0</td>\n",
       "\t</tr>\n",
       "</table></html>"
      ],
      "text/plain": [
       "   height  gender  id  weight  bmi\n",
       "0     187    Male  28      62    1\n",
       "1     175    Male  44     135    5\n",
       "2     180    Male  52      75    2\n",
       "3     186    Male  60     118    4\n",
       "4     199    Male  76     156    4\n",
       "5     154    Male  84     105    5\n",
       "6     197  Female  15     114    3\n",
       "7     168  Female  23     135    5\n",
       "8     176  Female  31      54    1\n",
       "9     191  Female  39      54    0"
      ]
     },
     "metadata": {},
     "output_type": "display_data"
    },
    {
     "name": "stdout",
     "output_type": "stream",
     "text": [
      "result data stored in table '\"AUTOML_USR\".\"ml__td_sqlmr_persist_out__1711971355186632\"'\n",
      "\n",
      "Updated dataset after performing categorical encoding :\n"
     ]
    },
    {
     "data": {
      "text/html": [
       "<style type=\"text/css\">\n",
       "\ttable {border:ridge 5px;}\n",
       "\ttable td {border:inset 1px;}\n",
       "\ttable tr#HeaderRow {background-color:grey; color:white;}</style>\n",
       "<html><table>\n",
       "\t<tr id=\"HeaderRow\">\n",
       "\t\t<th>height</th>\n",
       "\t\t<th>gender_0</th>\n",
       "\t\t<th>gender_1</th>\n",
       "\t\t<th>id</th>\n",
       "\t\t<th>weight</th>\n",
       "\t\t<th>bmi</th>\n",
       "\t</tr>\n",
       "\t<tr>\n",
       "\t\t<td>183</td>\n",
       "\t\t<td>1</td>\n",
       "\t\t<td>0</td>\n",
       "\t\t<td>279</td>\n",
       "\t\t<td>87</td>\n",
       "\t\t<td>3</td>\n",
       "\t</tr>\n",
       "\t<tr>\n",
       "\t\t<td>198</td>\n",
       "\t\t<td>0</td>\n",
       "\t\t<td>1</td>\n",
       "\t\t<td>68</td>\n",
       "\t\t<td>50</td>\n",
       "\t\t<td>0</td>\n",
       "\t</tr>\n",
       "\t<tr>\n",
       "\t\t<td>198</td>\n",
       "\t\t<td>1</td>\n",
       "\t\t<td>0</td>\n",
       "\t\t<td>351</td>\n",
       "\t\t<td>50</td>\n",
       "\t\t<td>0</td>\n",
       "\t</tr>\n",
       "\t<tr>\n",
       "\t\t<td>161</td>\n",
       "\t\t<td>1</td>\n",
       "\t\t<td>0</td>\n",
       "\t\t<td>215</td>\n",
       "\t\t<td>145</td>\n",
       "\t\t<td>5</td>\n",
       "\t</tr>\n",
       "\t<tr>\n",
       "\t\t<td>158</td>\n",
       "\t\t<td>0</td>\n",
       "\t\t<td>1</td>\n",
       "\t\t<td>396</td>\n",
       "\t\t<td>127</td>\n",
       "\t\t<td>5</td>\n",
       "\t</tr>\n",
       "\t<tr>\n",
       "\t\t<td>175</td>\n",
       "\t\t<td>0</td>\n",
       "\t\t<td>1</td>\n",
       "\t\t<td>44</td>\n",
       "\t\t<td>135</td>\n",
       "\t\t<td>5</td>\n",
       "\t</tr>\n",
       "\t<tr>\n",
       "\t\t<td>196</td>\n",
       "\t\t<td>1</td>\n",
       "\t\t<td>0</td>\n",
       "\t\t<td>87</td>\n",
       "\t\t<td>131</td>\n",
       "\t\t<td>4</td>\n",
       "\t</tr>\n",
       "\t<tr>\n",
       "\t\t<td>196</td>\n",
       "\t\t<td>1</td>\n",
       "\t\t<td>0</td>\n",
       "\t\t<td>127</td>\n",
       "\t\t<td>122</td>\n",
       "\t\t<td>4</td>\n",
       "\t</tr>\n",
       "\t<tr>\n",
       "\t\t<td>141</td>\n",
       "\t\t<td>0</td>\n",
       "\t\t<td>1</td>\n",
       "\t\t<td>172</td>\n",
       "\t\t<td>85</td>\n",
       "\t\t<td>5</td>\n",
       "\t</tr>\n",
       "\t<tr>\n",
       "\t\t<td>181</td>\n",
       "\t\t<td>0</td>\n",
       "\t\t<td>1</td>\n",
       "\t\t<td>356</td>\n",
       "\t\t<td>154</td>\n",
       "\t\t<td>5</td>\n",
       "\t</tr>\n",
       "</table></html>"
      ],
      "text/plain": [
       "        gender_0  gender_1   id  weight  bmi\n",
       "height                                      \n",
       "183            1         0  279      87    3\n",
       "198            0         1   68      50    0\n",
       "198            1         0  351      50    0\n",
       "161            1         0  215     145    5\n",
       "158            0         1  396     127    5\n",
       "175            0         1   44     135    5\n",
       "196            1         0   87     131    4\n",
       "196            1         0  127     122    4\n",
       "141            0         1  172      85    5\n",
       "181            0         1  356     154    5"
      ]
     },
     "metadata": {},
     "output_type": "display_data"
    },
    {
     "name": "stdout",
     "output_type": "stream",
     "text": [
      "Performing transformation carried out in data preparation phase ...\n",
      "\n",
      "Updated dataset after performing Lasso feature selection:\n"
     ]
    },
    {
     "data": {
      "text/html": [
       "<style type=\"text/css\">\n",
       "\ttable {border:ridge 5px;}\n",
       "\ttable td {border:inset 1px;}\n",
       "\ttable tr#HeaderRow {background-color:grey; color:white;}</style>\n",
       "<html><table>\n",
       "\t<tr id=\"HeaderRow\">\n",
       "\t\t<th>id</th>\n",
       "\t\t<th>height</th>\n",
       "\t\t<th>weight</th>\n",
       "\t\t<th>bmi</th>\n",
       "\t</tr>\n",
       "\t<tr>\n",
       "\t\t<td>215</td>\n",
       "\t\t<td>161</td>\n",
       "\t\t<td>145</td>\n",
       "\t\t<td>5</td>\n",
       "\t</tr>\n",
       "\t<tr>\n",
       "\t\t<td>68</td>\n",
       "\t\t<td>198</td>\n",
       "\t\t<td>50</td>\n",
       "\t\t<td>0</td>\n",
       "\t</tr>\n",
       "\t<tr>\n",
       "\t\t<td>351</td>\n",
       "\t\t<td>198</td>\n",
       "\t\t<td>50</td>\n",
       "\t\t<td>0</td>\n",
       "\t</tr>\n",
       "\t<tr>\n",
       "\t\t<td>279</td>\n",
       "\t\t<td>183</td>\n",
       "\t\t<td>87</td>\n",
       "\t\t<td>3</td>\n",
       "\t</tr>\n",
       "\t<tr>\n",
       "\t\t<td>87</td>\n",
       "\t\t<td>196</td>\n",
       "\t\t<td>131</td>\n",
       "\t\t<td>4</td>\n",
       "\t</tr>\n",
       "\t<tr>\n",
       "\t\t<td>127</td>\n",
       "\t\t<td>196</td>\n",
       "\t\t<td>122</td>\n",
       "\t\t<td>4</td>\n",
       "\t</tr>\n",
       "\t<tr>\n",
       "\t\t<td>172</td>\n",
       "\t\t<td>141</td>\n",
       "\t\t<td>85</td>\n",
       "\t\t<td>5</td>\n",
       "\t</tr>\n",
       "\t<tr>\n",
       "\t\t<td>356</td>\n",
       "\t\t<td>181</td>\n",
       "\t\t<td>154</td>\n",
       "\t\t<td>5</td>\n",
       "\t</tr>\n",
       "\t<tr>\n",
       "\t\t<td>380</td>\n",
       "\t\t<td>162</td>\n",
       "\t\t<td>157</td>\n",
       "\t\t<td>5</td>\n",
       "\t</tr>\n",
       "\t<tr>\n",
       "\t\t<td>292</td>\n",
       "\t\t<td>179</td>\n",
       "\t\t<td>83</td>\n",
       "\t\t<td>3</td>\n",
       "\t</tr>\n",
       "</table></html>"
      ],
      "text/plain": [
       "         id  weight  bmi\n",
       "height                  \n",
       "161     215     145    5\n",
       "198      68      50    0\n",
       "198     351      50    0\n",
       "183     279      87    3\n",
       "196      87     131    4\n",
       "196     127     122    4\n",
       "141     172      85    5\n",
       "181     356     154    5\n",
       "162     380     157    5\n",
       "179     292      83    3"
      ]
     },
     "metadata": {},
     "output_type": "display_data"
    },
    {
     "name": "stdout",
     "output_type": "stream",
     "text": [
      "\n",
      "Updated dataset after performing scaling on Lasso selected features :\n"
     ]
    },
    {
     "data": {
      "text/html": [
       "<style type=\"text/css\">\n",
       "\ttable {border:ridge 5px;}\n",
       "\ttable td {border:inset 1px;}\n",
       "\ttable tr#HeaderRow {background-color:grey; color:white;}</style>\n",
       "<html><table>\n",
       "\t<tr id=\"HeaderRow\">\n",
       "\t\t<th>id</th>\n",
       "\t\t<th>bmi</th>\n",
       "\t\t<th>height</th>\n",
       "\t\t<th>weight</th>\n",
       "\t</tr>\n",
       "\t<tr>\n",
       "\t\t<td>396</td>\n",
       "\t\t<td>5</td>\n",
       "\t\t<td>0.3050847457627119</td>\n",
       "\t\t<td>0.7</td>\n",
       "\t</tr>\n",
       "\t<tr>\n",
       "\t\t<td>172</td>\n",
       "\t\t<td>5</td>\n",
       "\t\t<td>0.01694915254237288</td>\n",
       "\t\t<td>0.3181818181818182</td>\n",
       "\t</tr>\n",
       "\t<tr>\n",
       "\t\t<td>356</td>\n",
       "\t\t<td>5</td>\n",
       "\t\t<td>0.6949152542372882</td>\n",
       "\t\t<td>0.9454545454545454</td>\n",
       "\t</tr>\n",
       "\t<tr>\n",
       "\t\t<td>372</td>\n",
       "\t\t<td>5</td>\n",
       "\t\t<td>0.2033898305084746</td>\n",
       "\t\t<td>0.8727272727272727</td>\n",
       "\t</tr>\n",
       "\t<tr>\n",
       "\t\t<td>380</td>\n",
       "\t\t<td>5</td>\n",
       "\t\t<td>0.3728813559322034</td>\n",
       "\t\t<td>0.9727272727272728</td>\n",
       "\t</tr>\n",
       "\t<tr>\n",
       "\t\t<td>292</td>\n",
       "\t\t<td>3</td>\n",
       "\t\t<td>0.6610169491525424</td>\n",
       "\t\t<td>0.3</td>\n",
       "\t</tr>\n",
       "\t<tr>\n",
       "\t\t<td>68</td>\n",
       "\t\t<td>0</td>\n",
       "\t\t<td>0.9830508474576272</td>\n",
       "\t\t<td>0.0</td>\n",
       "\t</tr>\n",
       "\t<tr>\n",
       "\t\t<td>351</td>\n",
       "\t\t<td>0</td>\n",
       "\t\t<td>0.9830508474576272</td>\n",
       "\t\t<td>0.0</td>\n",
       "\t</tr>\n",
       "\t<tr>\n",
       "\t\t<td>87</td>\n",
       "\t\t<td>4</td>\n",
       "\t\t<td>0.9491525423728814</td>\n",
       "\t\t<td>0.7363636363636363</td>\n",
       "\t</tr>\n",
       "\t<tr>\n",
       "\t\t<td>127</td>\n",
       "\t\t<td>4</td>\n",
       "\t\t<td>0.9491525423728814</td>\n",
       "\t\t<td>0.6545454545454545</td>\n",
       "\t</tr>\n",
       "</table></html>"
      ],
      "text/plain": [
       "    id  bmi    height    weight\n",
       "0  396    5  0.305085  0.700000\n",
       "1  172    5  0.016949  0.318182\n",
       "2  356    5  0.694915  0.945455\n",
       "3  372    5  0.203390  0.872727\n",
       "4  380    5  0.372881  0.972727\n",
       "5  292    3  0.661017  0.300000\n",
       "6   68    0  0.983051  0.000000\n",
       "7  351    0  0.983051  0.000000\n",
       "8   87    4  0.949153  0.736364\n",
       "9  127    4  0.949153  0.654545"
      ]
     },
     "metadata": {},
     "output_type": "display_data"
    },
    {
     "name": "stdout",
     "output_type": "stream",
     "text": [
      "\n",
      "Updated dataset after performing RFE feature selection:\n"
     ]
    },
    {
     "data": {
      "text/html": [
       "<style type=\"text/css\">\n",
       "\ttable {border:ridge 5px;}\n",
       "\ttable td {border:inset 1px;}\n",
       "\ttable tr#HeaderRow {background-color:grey; color:white;}</style>\n",
       "<html><table>\n",
       "\t<tr id=\"HeaderRow\">\n",
       "\t\t<th>id</th>\n",
       "\t\t<th>height</th>\n",
       "\t\t<th>weight</th>\n",
       "\t\t<th>bmi</th>\n",
       "\t</tr>\n",
       "\t<tr>\n",
       "\t\t<td>372</td>\n",
       "\t\t<td>152</td>\n",
       "\t\t<td>146</td>\n",
       "\t\t<td>5</td>\n",
       "\t</tr>\n",
       "\t<tr>\n",
       "\t\t<td>279</td>\n",
       "\t\t<td>183</td>\n",
       "\t\t<td>87</td>\n",
       "\t\t<td>3</td>\n",
       "\t</tr>\n",
       "\t<tr>\n",
       "\t\t<td>236</td>\n",
       "\t\t<td>183</td>\n",
       "\t\t<td>105</td>\n",
       "\t\t<td>3</td>\n",
       "\t</tr>\n",
       "\t<tr>\n",
       "\t\t<td>380</td>\n",
       "\t\t<td>162</td>\n",
       "\t\t<td>157</td>\n",
       "\t\t<td>5</td>\n",
       "\t</tr>\n",
       "\t<tr>\n",
       "\t\t<td>87</td>\n",
       "\t\t<td>196</td>\n",
       "\t\t<td>131</td>\n",
       "\t\t<td>4</td>\n",
       "\t</tr>\n",
       "\t<tr>\n",
       "\t\t<td>127</td>\n",
       "\t\t<td>196</td>\n",
       "\t\t<td>122</td>\n",
       "\t\t<td>4</td>\n",
       "\t</tr>\n",
       "\t<tr>\n",
       "\t\t<td>396</td>\n",
       "\t\t<td>158</td>\n",
       "\t\t<td>127</td>\n",
       "\t\t<td>5</td>\n",
       "\t</tr>\n",
       "\t<tr>\n",
       "\t\t<td>44</td>\n",
       "\t\t<td>175</td>\n",
       "\t\t<td>135</td>\n",
       "\t\t<td>5</td>\n",
       "\t</tr>\n",
       "\t<tr>\n",
       "\t\t<td>172</td>\n",
       "\t\t<td>141</td>\n",
       "\t\t<td>85</td>\n",
       "\t\t<td>5</td>\n",
       "\t</tr>\n",
       "\t<tr>\n",
       "\t\t<td>356</td>\n",
       "\t\t<td>181</td>\n",
       "\t\t<td>154</td>\n",
       "\t\t<td>5</td>\n",
       "\t</tr>\n",
       "</table></html>"
      ],
      "text/plain": [
       "         id  weight  bmi\n",
       "height                  \n",
       "152     372     146    5\n",
       "183     279      87    3\n",
       "183     236     105    3\n",
       "162     380     157    5\n",
       "196      87     131    4\n",
       "196     127     122    4\n",
       "158     396     127    5\n",
       "175      44     135    5\n",
       "141     172      85    5\n",
       "181     356     154    5"
      ]
     },
     "metadata": {},
     "output_type": "display_data"
    },
    {
     "name": "stdout",
     "output_type": "stream",
     "text": [
      "\n",
      "Updated dataset after performing scaling on RFE selected features :\n"
     ]
    },
    {
     "data": {
      "text/html": [
       "<style type=\"text/css\">\n",
       "\ttable {border:ridge 5px;}\n",
       "\ttable td {border:inset 1px;}\n",
       "\ttable tr#HeaderRow {background-color:grey; color:white;}</style>\n",
       "<html><table>\n",
       "\t<tr id=\"HeaderRow\">\n",
       "\t\t<th>id</th>\n",
       "\t\t<th>bmi</th>\n",
       "\t\t<th>r_height</th>\n",
       "\t\t<th>r_weight</th>\n",
       "\t</tr>\n",
       "\t<tr>\n",
       "\t\t<td>396</td>\n",
       "\t\t<td>5</td>\n",
       "\t\t<td>0.3050847457627119</td>\n",
       "\t\t<td>0.7</td>\n",
       "\t</tr>\n",
       "\t<tr>\n",
       "\t\t<td>215</td>\n",
       "\t\t<td>5</td>\n",
       "\t\t<td>0.3559322033898305</td>\n",
       "\t\t<td>0.8636363636363636</td>\n",
       "\t</tr>\n",
       "\t<tr>\n",
       "\t\t<td>287</td>\n",
       "\t\t<td>5</td>\n",
       "\t\t<td>0.3559322033898305</td>\n",
       "\t\t<td>0.9454545454545454</td>\n",
       "\t</tr>\n",
       "\t<tr>\n",
       "\t\t<td>279</td>\n",
       "\t\t<td>3</td>\n",
       "\t\t<td>0.7288135593220338</td>\n",
       "\t\t<td>0.33636363636363636</td>\n",
       "\t</tr>\n",
       "\t<tr>\n",
       "\t\t<td>68</td>\n",
       "\t\t<td>0</td>\n",
       "\t\t<td>0.9830508474576272</td>\n",
       "\t\t<td>0.0</td>\n",
       "\t</tr>\n",
       "\t<tr>\n",
       "\t\t<td>351</td>\n",
       "\t\t<td>0</td>\n",
       "\t\t<td>0.9830508474576272</td>\n",
       "\t\t<td>0.0</td>\n",
       "\t</tr>\n",
       "\t<tr>\n",
       "\t\t<td>372</td>\n",
       "\t\t<td>5</td>\n",
       "\t\t<td>0.2033898305084746</td>\n",
       "\t\t<td>0.8727272727272727</td>\n",
       "\t</tr>\n",
       "\t<tr>\n",
       "\t\t<td>183</td>\n",
       "\t\t<td>2</td>\n",
       "\t\t<td>0.4915254237288136</td>\n",
       "\t\t<td>0.34545454545454546</td>\n",
       "\t</tr>\n",
       "\t<tr>\n",
       "\t\t<td>380</td>\n",
       "\t\t<td>5</td>\n",
       "\t\t<td>0.3728813559322034</td>\n",
       "\t\t<td>0.9727272727272728</td>\n",
       "\t</tr>\n",
       "\t<tr>\n",
       "\t\t<td>292</td>\n",
       "\t\t<td>3</td>\n",
       "\t\t<td>0.6610169491525424</td>\n",
       "\t\t<td>0.3</td>\n",
       "\t</tr>\n",
       "</table></html>"
      ],
      "text/plain": [
       "    id  bmi  r_height  r_weight\n",
       "0  396    5  0.305085  0.700000\n",
       "1  215    5  0.355932  0.863636\n",
       "2  287    5  0.355932  0.945455\n",
       "3  279    3  0.728814  0.336364\n",
       "4   68    0  0.983051  0.000000\n",
       "5  351    0  0.983051  0.000000\n",
       "6  372    5  0.203390  0.872727\n",
       "7  183    2  0.491525  0.345455\n",
       "8  380    5  0.372881  0.972727\n",
       "9  292    3  0.661017  0.300000"
      ]
     },
     "metadata": {},
     "output_type": "display_data"
    },
    {
     "name": "stdout",
     "output_type": "stream",
     "text": [
      "\n",
      "Updated dataset after performing scaling for PCA feature selection :\n"
     ]
    },
    {
     "data": {
      "text/html": [
       "<style type=\"text/css\">\n",
       "\ttable {border:ridge 5px;}\n",
       "\ttable td {border:inset 1px;}\n",
       "\ttable tr#HeaderRow {background-color:grey; color:white;}</style>\n",
       "<html><table>\n",
       "\t<tr id=\"HeaderRow\">\n",
       "\t\t<th>gender_0</th>\n",
       "\t\t<th>id</th>\n",
       "\t\t<th>bmi</th>\n",
       "\t\t<th>gender_1</th>\n",
       "\t\t<th>height</th>\n",
       "\t\t<th>weight</th>\n",
       "\t</tr>\n",
       "\t<tr>\n",
       "\t\t<td>0</td>\n",
       "\t\t<td>396</td>\n",
       "\t\t<td>5</td>\n",
       "\t\t<td>1</td>\n",
       "\t\t<td>0.3050847457627119</td>\n",
       "\t\t<td>0.7</td>\n",
       "\t</tr>\n",
       "\t<tr>\n",
       "\t\t<td>0</td>\n",
       "\t\t<td>172</td>\n",
       "\t\t<td>5</td>\n",
       "\t\t<td>1</td>\n",
       "\t\t<td>0.01694915254237288</td>\n",
       "\t\t<td>0.3181818181818182</td>\n",
       "\t</tr>\n",
       "\t<tr>\n",
       "\t\t<td>0</td>\n",
       "\t\t<td>356</td>\n",
       "\t\t<td>5</td>\n",
       "\t\t<td>1</td>\n",
       "\t\t<td>0.6949152542372882</td>\n",
       "\t\t<td>0.9454545454545454</td>\n",
       "\t</tr>\n",
       "\t<tr>\n",
       "\t\t<td>0</td>\n",
       "\t\t<td>68</td>\n",
       "\t\t<td>0</td>\n",
       "\t\t<td>1</td>\n",
       "\t\t<td>0.9830508474576272</td>\n",
       "\t\t<td>0.0</td>\n",
       "\t</tr>\n",
       "\t<tr>\n",
       "\t\t<td>1</td>\n",
       "\t\t<td>215</td>\n",
       "\t\t<td>5</td>\n",
       "\t\t<td>0</td>\n",
       "\t\t<td>0.3559322033898305</td>\n",
       "\t\t<td>0.8636363636363636</td>\n",
       "\t</tr>\n",
       "\t<tr>\n",
       "\t\t<td>1</td>\n",
       "\t\t<td>287</td>\n",
       "\t\t<td>5</td>\n",
       "\t\t<td>0</td>\n",
       "\t\t<td>0.3559322033898305</td>\n",
       "\t\t<td>0.9454545454545454</td>\n",
       "\t</tr>\n",
       "\t<tr>\n",
       "\t\t<td>0</td>\n",
       "\t\t<td>380</td>\n",
       "\t\t<td>5</td>\n",
       "\t\t<td>1</td>\n",
       "\t\t<td>0.3728813559322034</td>\n",
       "\t\t<td>0.9727272727272728</td>\n",
       "\t</tr>\n",
       "\t<tr>\n",
       "\t\t<td>0</td>\n",
       "\t\t<td>292</td>\n",
       "\t\t<td>3</td>\n",
       "\t\t<td>1</td>\n",
       "\t\t<td>0.6610169491525424</td>\n",
       "\t\t<td>0.3</td>\n",
       "\t</tr>\n",
       "\t<tr>\n",
       "\t\t<td>1</td>\n",
       "\t\t<td>279</td>\n",
       "\t\t<td>3</td>\n",
       "\t\t<td>0</td>\n",
       "\t\t<td>0.7288135593220338</td>\n",
       "\t\t<td>0.33636363636363636</td>\n",
       "\t</tr>\n",
       "\t<tr>\n",
       "\t\t<td>0</td>\n",
       "\t\t<td>236</td>\n",
       "\t\t<td>3</td>\n",
       "\t\t<td>1</td>\n",
       "\t\t<td>0.7288135593220338</td>\n",
       "\t\t<td>0.5</td>\n",
       "\t</tr>\n",
       "</table></html>"
      ],
      "text/plain": [
       "   gender_0   id  bmi  gender_1    height    weight\n",
       "0         0  396    5         1  0.305085  0.700000\n",
       "1         0  172    5         1  0.016949  0.318182\n",
       "2         0  356    5         1  0.694915  0.945455\n",
       "3         0   68    0         1  0.983051  0.000000\n",
       "4         1  215    5         0  0.355932  0.863636\n",
       "5         1  287    5         0  0.355932  0.945455\n",
       "6         0  380    5         1  0.372881  0.972727\n",
       "7         0  292    3         1  0.661017  0.300000\n",
       "8         1  279    3         0  0.728814  0.336364\n",
       "9         0  236    3         1  0.728814  0.500000"
      ]
     },
     "metadata": {},
     "output_type": "display_data"
    },
    {
     "name": "stdout",
     "output_type": "stream",
     "text": [
      "\n",
      "Updated dataset after performing PCA feature selection :\n"
     ]
    },
    {
     "data": {
      "text/html": [
       "<div>\n",
       "<style scoped>\n",
       "    .dataframe tbody tr th:only-of-type {\n",
       "        vertical-align: middle;\n",
       "    }\n",
       "\n",
       "    .dataframe tbody tr th {\n",
       "        vertical-align: top;\n",
       "    }\n",
       "\n",
       "    .dataframe thead th {\n",
       "        text-align: right;\n",
       "    }\n",
       "</style>\n",
       "<table border=\"1\" class=\"dataframe\">\n",
       "  <thead>\n",
       "    <tr style=\"text-align: right;\">\n",
       "      <th></th>\n",
       "      <th>id</th>\n",
       "      <th>col_0</th>\n",
       "      <th>col_1</th>\n",
       "      <th>col_2</th>\n",
       "      <th>bmi</th>\n",
       "    </tr>\n",
       "  </thead>\n",
       "  <tbody>\n",
       "    <tr>\n",
       "      <th>0</th>\n",
       "      <td>279</td>\n",
       "      <td>-0.660061</td>\n",
       "      <td>0.136667</td>\n",
       "      <td>-0.254459</td>\n",
       "      <td>3</td>\n",
       "    </tr>\n",
       "    <tr>\n",
       "      <th>1</th>\n",
       "      <td>215</td>\n",
       "      <td>-0.666096</td>\n",
       "      <td>-0.302626</td>\n",
       "      <td>0.218872</td>\n",
       "      <td>5</td>\n",
       "    </tr>\n",
       "    <tr>\n",
       "      <th>2</th>\n",
       "      <td>396</td>\n",
       "      <td>0.750027</td>\n",
       "      <td>-0.148948</td>\n",
       "      <td>0.237327</td>\n",
       "      <td>5</td>\n",
       "    </tr>\n",
       "    <tr>\n",
       "      <th>3</th>\n",
       "      <td>372</td>\n",
       "      <td>0.748033</td>\n",
       "      <td>-0.297060</td>\n",
       "      <td>0.372365</td>\n",
       "      <td>5</td>\n",
       "    </tr>\n",
       "    <tr>\n",
       "      <th>4</th>\n",
       "      <td>68</td>\n",
       "      <td>0.757886</td>\n",
       "      <td>0.396635</td>\n",
       "      <td>-0.570086</td>\n",
       "      <td>0</td>\n",
       "    </tr>\n",
       "    <tr>\n",
       "      <th>...</th>\n",
       "      <td>...</td>\n",
       "      <td>...</td>\n",
       "      <td>...</td>\n",
       "      <td>...</td>\n",
       "      <td>...</td>\n",
       "    </tr>\n",
       "    <tr>\n",
       "      <th>95</th>\n",
       "      <td>319</td>\n",
       "      <td>-0.660233</td>\n",
       "      <td>0.148316</td>\n",
       "      <td>-0.066395</td>\n",
       "      <td>4</td>\n",
       "    </tr>\n",
       "    <tr>\n",
       "      <th>96</th>\n",
       "      <td>23</td>\n",
       "      <td>-0.665101</td>\n",
       "      <td>-0.238062</td>\n",
       "      <td>0.084070</td>\n",
       "      <td>5</td>\n",
       "    </tr>\n",
       "    <tr>\n",
       "      <th>97</th>\n",
       "      <td>343</td>\n",
       "      <td>-0.661739</td>\n",
       "      <td>0.084214</td>\n",
       "      <td>0.380057</td>\n",
       "      <td>5</td>\n",
       "    </tr>\n",
       "    <tr>\n",
       "      <th>98</th>\n",
       "      <td>95</td>\n",
       "      <td>-0.664088</td>\n",
       "      <td>-0.151028</td>\n",
       "      <td>0.100421</td>\n",
       "      <td>5</td>\n",
       "    </tr>\n",
       "    <tr>\n",
       "      <th>99</th>\n",
       "      <td>175</td>\n",
       "      <td>-0.663818</td>\n",
       "      <td>-0.084810</td>\n",
       "      <td>0.415573</td>\n",
       "      <td>5</td>\n",
       "    </tr>\n",
       "  </tbody>\n",
       "</table>\n",
       "<p>100 rows × 5 columns</p>\n",
       "</div>"
      ],
      "text/plain": [
       "     id     col_0     col_1     col_2  bmi\n",
       "0   279 -0.660061  0.136667 -0.254459    3\n",
       "1   215 -0.666096 -0.302626  0.218872    5\n",
       "2   396  0.750027 -0.148948  0.237327    5\n",
       "3   372  0.748033 -0.297060  0.372365    5\n",
       "4    68  0.757886  0.396635 -0.570086    0\n",
       "..  ...       ...       ...       ...  ...\n",
       "95  319 -0.660233  0.148316 -0.066395    4\n",
       "96   23 -0.665101 -0.238062  0.084070    5\n",
       "97  343 -0.661739  0.084214  0.380057    5\n",
       "98   95 -0.664088 -0.151028  0.100421    5\n",
       "99  175 -0.663818 -0.084810  0.415573    5\n",
       "\n",
       "[100 rows x 5 columns]"
      ]
     },
     "metadata": {},
     "output_type": "display_data"
    },
    {
     "name": "stdout",
     "output_type": "stream",
     "text": [
      "Data Transformation completed.\n",
      "knn lasso\n",
      "\n",
      " Prediction : \n",
      "    id  prediction  bmi\n",
      "0   12           2    2\n",
      "1   63           1    2\n",
      "2   71           0    2\n",
      "3   28           1    1\n",
      "4   15           3    3\n",
      "5   23           5    5\n",
      "6   52           2    2\n",
      "7  127           4    4\n",
      "8   68           0    0\n",
      "9   87           4    4\n",
      "\n",
      " Performance Metrics : \n",
      "       Prediction  Mapping  CLASS_1  CLASS_2  CLASS_3  CLASS_4  CLASS_5  CLASS_6  Precision    Recall        F1  Support\n",
      "SeqNum                                                                                                                  \n",
      "4               4  CLASS_5        0        0        1        1       24        1   0.888889  0.857143  0.872727       28\n",
      "1               1  CLASS_2        0        5        2        0        0        0   0.714286  1.000000  0.833333        5\n",
      "2               2  CLASS_3        0        0        9        0        0        0   1.000000  0.692308  0.818182       13\n",
      "5               5  CLASS_6        0        0        0        0        3       34   0.918919  0.971429  0.944444       35\n",
      "3               3  CLASS_4        0        0        0       15        1        0   0.937500  0.937500  0.937500       16\n",
      "0               0  CLASS_1        3        0        1        0        0        0   0.750000  1.000000  0.857143        3\n",
      "\n",
      " Confusion Matrix : \n"
     ]
    },
    {
     "data": {
      "text/plain": [
       "array([[ 3,  0,  0,  0,  0,  0],\n",
       "       [ 0,  5,  0,  0,  0,  0],\n",
       "       [ 1,  2,  9,  0,  1,  0],\n",
       "       [ 0,  0,  0, 15,  1,  0],\n",
       "       [ 0,  0,  0,  1, 24,  3],\n",
       "       [ 0,  0,  0,  0,  1, 34]], dtype=int64)"
      ]
     },
     "metadata": {},
     "output_type": "display_data"
    }
   ],
   "source": [
    "# Generating prediction and metrics on test data\n",
    "prediction = aml.predict(bmi_df_test)"
   ]
  },
  {
   "cell_type": "code",
   "execution_count": 22,
   "id": "cc4f6a78-1cdf-4938-a9f1-22035d8404ca",
   "metadata": {},
   "outputs": [
    {
     "data": {
      "text/html": [
       "<style type=\"text/css\">\n",
       "\ttable {border:ridge 5px;}\n",
       "\ttable td {border:inset 1px;}\n",
       "\ttable tr#HeaderRow {background-color:grey; color:white;}</style>\n",
       "<html><table>\n",
       "\t<tr id=\"HeaderRow\">\n",
       "\t\t<th>id</th>\n",
       "\t\t<th>prediction</th>\n",
       "\t\t<th>bmi</th>\n",
       "\t</tr>\n",
       "\t<tr>\n",
       "\t\t<td>20</td>\n",
       "\t\t<td>5</td>\n",
       "\t\t<td>5</td>\n",
       "\t</tr>\n",
       "\t<tr>\n",
       "\t\t<td>28</td>\n",
       "\t\t<td>1</td>\n",
       "\t\t<td>1</td>\n",
       "\t</tr>\n",
       "\t<tr>\n",
       "\t\t<td>31</td>\n",
       "\t\t<td>1</td>\n",
       "\t\t<td>1</td>\n",
       "\t</tr>\n",
       "\t<tr>\n",
       "\t\t<td>36</td>\n",
       "\t\t<td>5</td>\n",
       "\t\t<td>5</td>\n",
       "\t</tr>\n",
       "\t<tr>\n",
       "\t\t<td>44</td>\n",
       "\t\t<td>5</td>\n",
       "\t\t<td>5</td>\n",
       "\t</tr>\n",
       "\t<tr>\n",
       "\t\t<td>47</td>\n",
       "\t\t<td>3</td>\n",
       "\t\t<td>3</td>\n",
       "\t</tr>\n",
       "\t<tr>\n",
       "\t\t<td>39</td>\n",
       "\t\t<td>0</td>\n",
       "\t\t<td>0</td>\n",
       "\t</tr>\n",
       "\t<tr>\n",
       "\t\t<td>23</td>\n",
       "\t\t<td>5</td>\n",
       "\t\t<td>5</td>\n",
       "\t</tr>\n",
       "\t<tr>\n",
       "\t\t<td>15</td>\n",
       "\t\t<td>3</td>\n",
       "\t\t<td>3</td>\n",
       "\t</tr>\n",
       "\t<tr>\n",
       "\t\t<td>12</td>\n",
       "\t\t<td>2</td>\n",
       "\t\t<td>2</td>\n",
       "\t</tr>\n",
       "</table></html>"
      ],
      "text/plain": [
       "   id  prediction  bmi\n",
       "0  20           5    5\n",
       "1  28           1    1\n",
       "2  31           1    1\n",
       "3  36           5    5\n",
       "4  44           5    5\n",
       "5  47           3    3\n",
       "6  39           0    0\n",
       "7  23           5    5\n",
       "8  15           3    3\n",
       "9  12           2    2"
      ]
     },
     "execution_count": 22,
     "metadata": {},
     "output_type": "execute_result"
    }
   ],
   "source": [
    "# Printing prediction\n",
    "prediction.head()"
   ]
  },
  {
   "cell_type": "code",
   "execution_count": 23,
   "id": "b2cba357-75ac-4089-a234-64a57067b117",
   "metadata": {},
   "outputs": [
    {
     "data": {
      "text/plain": [
       "True"
      ]
     },
     "execution_count": 23,
     "metadata": {},
     "output_type": "execute_result"
    }
   ],
   "source": [
    "remove_context()"
   ]
  },
  {
   "cell_type": "code",
   "execution_count": null,
   "id": "b672112c-d042-4842-846b-163f495d7664",
   "metadata": {},
   "outputs": [],
   "source": []
  }
 ],
 "metadata": {
  "kernelspec": {
   "display_name": "Python 3 (ipykernel)",
   "language": "python",
   "name": "python3"
  },
  "language_info": {
   "codemirror_mode": {
    "name": "ipython",
    "version": 3
   },
   "file_extension": ".py",
   "mimetype": "text/x-python",
   "name": "python",
   "nbconvert_exporter": "python",
   "pygments_lexer": "ipython3",
   "version": "3.10.9"
  }
 },
 "nbformat": 4,
 "nbformat_minor": 5
}
