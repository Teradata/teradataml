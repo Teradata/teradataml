{
 "cells": [
  {
   "cell_type": "markdown",
   "id": "2762f1d8-5a66-411f-a625-34cf16ac6dd3",
   "metadata": {},
   "source": [
    "# <b><span style='color:#F1A424'>AutoML - Regression - Advertisment Sales Prediction </span> </b>"
   ]
  },
  {
   "cell_type": "markdown",
   "id": "237d9b7a-20db-4afb-b0aa-ead9ae9cec31",
   "metadata": {},
   "source": [
    "### Disclaimer\n",
    "Please note, the Vantage Functions via SQLAlchemy feature is a preview/beta code release with limited functionality (the “Code”). As such, you acknowledge that the Code is experimental in nature and that the Code is provided “AS IS” and may not be functional on any machine or in any environment. TERADATA DISCLAIMS ALL WARRANTIES RELATING TO THE CODE, EXPRESS OR IMPLIED, INCLUDING, BUT NOT LIMITED TO, ANY WARRANTIES AGAINST INFRINGEMENT OF THIRD-PARTY RIGHTS, MERCHANTABILITY AND FITNESS FOR A PARTICULAR PURPOSE.\n",
    "\n",
    "TERADATA SHALL NOT BE RESPONSIBLE OR LIABLE WITH RESPECT TO ANY SUBJECT MATTER OF THE CODE UNDER ANY CONTRACT, NEGLIGENCE, STRICT LIABILITY OR OTHER THEORY \n",
    "    (A) FOR LOSS OR INACCURACY OF DATA OR COST OF PROCUREMENT OF SUBSTITUTE GOODS, SERVICES OR TECHNOLOGY, OR \n",
    "    (B) FOR ANY INDIRECT, INCIDENTAL OR CONSEQUENTIAL DAMAGES INCLUDING, BUT NOT LIMITED TO LOSS OF REVENUES AND LOSS OF PROFITS. TERADATA SHALL NOT BE RESPONSIBLE FOR ANY MATTER BEYOND ITS REASONABLE CONTROL.\n",
    "\n",
    "Notwithstanding anything to the contrary: \n",
    "    (a) Teradata will have no obligation of any kind with respect to any Code-related comments, suggestions, design changes or improvements that you elect to provide to Teradata in either verbal or written form (collectively, “Feedback”), and \n",
    "    (b) Teradata and its affiliates are hereby free to use any ideas, concepts, know-how or techniques, in whole or in part, contained in Feedback: \n",
    "        (i) for any purpose whatsoever, including developing, manufacturing, and/or marketing products and/or services incorporating Feedback in whole or in part, and \n",
    "        (ii) without any restrictions or limitations, including requiring the payment of any license fees, royalties, or other consideration. "
   ]
  },
  {
   "cell_type": "markdown",
   "id": "f225fb94-b2c8-4c92-af38-733d08e0e2a1",
   "metadata": {},
   "source": [
    "## <b> Problem overview:</b>\n",
    "    "
   ]
  },
  {
   "cell_type": "markdown",
   "id": "af9813eb-9c44-4968-a5fe-d1c74415c894",
   "metadata": {},
   "source": [
    "**Dataset Used : Advertising Sales Dataset**\n",
    "\n",
    "**Features**:\n",
    "\n",
    "- `TV`: Advertising done on TV.\n",
    "- `Radio`: Advertising done on Radio.\n",
    "- `Newspapaer`: Advertising done on Newspaper.\n",
    "\n",
    "**Target Variable**:\n",
    "\n",
    "- `Sales`: The Sales received after advertisement.\n",
    "    \n",
    "**Objective**:\n",
    "\n",
    "The primary objective is typically to build a model that can accurately predict sales received based on advertisement.\n",
    "\n",
    "**Usecase**:\n",
    "\n",
    "Here, we will use AutoML(Automated Machine Learning) functionality to automate the entire process of developing a predictive model. It will perform feature exploration, feature engineering, data preparation, model training and evaluation on dataset in auto run and at end we will get leaderboard containined different models along with their performance. Model will also have rank associated with them which indicates which is best performing model for given data followed by other models."
   ]
  },
  {
   "cell_type": "code",
   "execution_count": 1,
   "id": "66568348-4d00-477c-a071-17995f797c95",
   "metadata": {},
   "outputs": [],
   "source": [
    "# Importing AutoML from teradataml\n",
    "from teradataml import AutoML, AutoRegressor"
   ]
  },
  {
   "cell_type": "code",
   "execution_count": 2,
   "id": "17dfae70-0401-4cc4-ba1c-400a5cf62451",
   "metadata": {},
   "outputs": [],
   "source": [
    "# Importing other important libraries\n",
    "import getpass\n",
    "from teradataml import create_context, remove_context\n",
    "from teradataml import DataFrame\n",
    "from teradataml import load_example_data\n",
    "from teradataml import TrainTestSplit"
   ]
  },
  {
   "cell_type": "code",
   "execution_count": 3,
   "id": "cadd9ed2-42d6-4899-b23e-4e2cf601162f",
   "metadata": {},
   "outputs": [
    {
     "name": "stdin",
     "output_type": "stream",
     "text": [
      "Host:  ········\n",
      "Username:  ········\n",
      "Password:  ········\n"
     ]
    }
   ],
   "source": [
    "# Create the connection.\n",
    "host = getpass.getpass(\"Host: \")\n",
    "username = getpass.getpass(\"Username: \")\n",
    "password = getpass.getpass(\"Password: \")\n",
    "\n",
    "con = create_context(host=host, username=username, password=password)"
   ]
  },
  {
   "cell_type": "markdown",
   "id": "be767a89-d5b8-4876-91cb-36980754586e",
   "metadata": {},
   "source": [
    "## <b><span style='color:#F1A424'>| 1.</span> Loading Dataset </b>"
   ]
  },
  {
   "cell_type": "code",
   "execution_count": 4,
   "id": "f1592c52-b247-4792-be2a-30b49bbeb9b6",
   "metadata": {},
   "outputs": [
    {
     "name": "stdout",
     "output_type": "stream",
     "text": [
      "WARNING: Skipped loading table advertising since it already exists in the database.\n"
     ]
    }
   ],
   "source": [
    "# Loading dataset from example data collection\n",
    "load_example_data('teradataml','advertising')"
   ]
  },
  {
   "cell_type": "code",
   "execution_count": 5,
   "id": "3846ae0f-004b-4b8e-9fea-06fac4294065",
   "metadata": {},
   "outputs": [],
   "source": [
    "# Fetching in teradata dataframe\n",
    "advertising_df = DataFrame(\"advertising\")"
   ]
  },
  {
   "cell_type": "code",
   "execution_count": 6,
   "id": "442ccd80-b444-413e-970d-d855ec3d6cae",
   "metadata": {},
   "outputs": [
    {
     "data": {
      "text/html": [
       "<style type=\"text/css\">\n",
       "\ttable {border:ridge 5px;}\n",
       "\ttable td {border:inset 1px;}\n",
       "\ttable tr#HeaderRow {background-color:grey; color:white;}</style>\n",
       "<html><table>\n",
       "\t<tr id=\"HeaderRow\">\n",
       "\t\t<th>TV</th>\n",
       "\t\t<th>radio</th>\n",
       "\t\t<th>newspaper</th>\n",
       "\t\t<th>sales</th>\n",
       "\t</tr>\n",
       "\t<tr>\n",
       "\t\t<td>5.4</td>\n",
       "\t\t<td>29.9</td>\n",
       "\t\t<td>9.4</td>\n",
       "\t\t<td>5.3</td>\n",
       "\t</tr>\n",
       "\t<tr>\n",
       "\t\t<td>7.8</td>\n",
       "\t\t<td>38.9</td>\n",
       "\t\t<td>50.6</td>\n",
       "\t\t<td>6.6</td>\n",
       "\t</tr>\n",
       "\t<tr>\n",
       "\t\t<td>8.4</td>\n",
       "\t\t<td>27.2</td>\n",
       "\t\t<td>2.1</td>\n",
       "\t\t<td>5.7</td>\n",
       "\t</tr>\n",
       "\t<tr>\n",
       "\t\t<td>8.6</td>\n",
       "\t\t<td>2.1</td>\n",
       "\t\t<td>1.0</td>\n",
       "\t\t<td>4.8</td>\n",
       "\t</tr>\n",
       "\t<tr>\n",
       "\t\t<td>11.7</td>\n",
       "\t\t<td>36.9</td>\n",
       "\t\t<td>45.2</td>\n",
       "\t\t<td>7.3</td>\n",
       "\t</tr>\n",
       "\t<tr>\n",
       "\t\t<td>13.1</td>\n",
       "\t\t<td>0.4</td>\n",
       "\t\t<td>25.6</td>\n",
       "\t\t<td>5.3</td>\n",
       "\t</tr>\n",
       "\t<tr>\n",
       "\t\t<td>8.7</td>\n",
       "\t\t<td>48.9</td>\n",
       "\t\t<td>75.0</td>\n",
       "\t\t<td>7.2</td>\n",
       "\t</tr>\n",
       "\t<tr>\n",
       "\t\t<td>7.3</td>\n",
       "\t\t<td>28.1</td>\n",
       "\t\t<td>41.4</td>\n",
       "\t\t<td>5.5</td>\n",
       "\t</tr>\n",
       "\t<tr>\n",
       "\t\t<td>4.1</td>\n",
       "\t\t<td>11.6</td>\n",
       "\t\t<td>5.7</td>\n",
       "\t\t<td>3.2</td>\n",
       "\t</tr>\n",
       "\t<tr>\n",
       "\t\t<td>0.7</td>\n",
       "\t\t<td>39.6</td>\n",
       "\t\t<td>8.7</td>\n",
       "\t\t<td>1.6</td>\n",
       "\t</tr>\n",
       "</table></html>"
      ],
      "text/plain": [
       "      radio  newspaper  sales\n",
       "TV                           \n",
       "5.4    29.9        9.4    5.3\n",
       "7.8    38.9       50.6    6.6\n",
       "8.4    27.2        2.1    5.7\n",
       "8.6     2.1        1.0    4.8\n",
       "11.7   36.9       45.2    7.3\n",
       "13.1    0.4       25.6    5.3\n",
       "8.7    48.9       75.0    7.2\n",
       "7.3    28.1       41.4    5.5\n",
       "4.1    11.6        5.7    3.2\n",
       "0.7    39.6        8.7    1.6"
      ]
     },
     "execution_count": 6,
     "metadata": {},
     "output_type": "execute_result"
    }
   ],
   "source": [
    "# first 5 rows\n",
    "advertising_df.head()"
   ]
  },
  {
   "cell_type": "code",
   "execution_count": 7,
   "id": "636c220d-d12f-4ea5-ab2b-c9203ef00d49",
   "metadata": {},
   "outputs": [
    {
     "data": {
      "text/plain": [
       "(200, 4)"
      ]
     },
     "execution_count": 7,
     "metadata": {},
     "output_type": "execute_result"
    }
   ],
   "source": [
    "# advertising_df dataset\n",
    "advertising_df.shape"
   ]
  },
  {
   "cell_type": "code",
   "execution_count": 8,
   "id": "e5d1fad7-8784-4d7a-be1f-7be1d3991d8f",
   "metadata": {},
   "outputs": [],
   "source": [
    "# Performing sampling to get 80% for trainning and 20% for testing\n",
    "advertising_df_sample = advertising_df.sample(frac = [0.8, 0.2])"
   ]
  },
  {
   "cell_type": "code",
   "execution_count": 9,
   "id": "a0e6891a-1b7e-4bac-97c8-350ba5f5bde4",
   "metadata": {},
   "outputs": [
    {
     "data": {
      "text/html": [
       "<style type=\"text/css\">\n",
       "\ttable {border:ridge 5px;}\n",
       "\ttable td {border:inset 1px;}\n",
       "\ttable tr#HeaderRow {background-color:grey; color:white;}</style>\n",
       "<html><table>\n",
       "\t<tr id=\"HeaderRow\">\n",
       "\t\t<th>TV</th>\n",
       "\t\t<th>radio</th>\n",
       "\t\t<th>newspaper</th>\n",
       "\t\t<th>sales</th>\n",
       "\t\t<th>sampleid</th>\n",
       "\t</tr>\n",
       "\t<tr>\n",
       "\t\t<td>5.4</td>\n",
       "\t\t<td>29.9</td>\n",
       "\t\t<td>9.4</td>\n",
       "\t\t<td>5.3</td>\n",
       "\t\t<td>2</td>\n",
       "\t</tr>\n",
       "\t<tr>\n",
       "\t\t<td>7.8</td>\n",
       "\t\t<td>38.9</td>\n",
       "\t\t<td>50.6</td>\n",
       "\t\t<td>6.6</td>\n",
       "\t\t<td>1</td>\n",
       "\t</tr>\n",
       "\t<tr>\n",
       "\t\t<td>8.4</td>\n",
       "\t\t<td>27.2</td>\n",
       "\t\t<td>2.1</td>\n",
       "\t\t<td>5.7</td>\n",
       "\t\t<td>1</td>\n",
       "\t</tr>\n",
       "\t<tr>\n",
       "\t\t<td>8.6</td>\n",
       "\t\t<td>2.1</td>\n",
       "\t\t<td>1.0</td>\n",
       "\t\t<td>4.8</td>\n",
       "\t\t<td>1</td>\n",
       "\t</tr>\n",
       "\t<tr>\n",
       "\t\t<td>11.7</td>\n",
       "\t\t<td>36.9</td>\n",
       "\t\t<td>45.2</td>\n",
       "\t\t<td>7.3</td>\n",
       "\t\t<td>1</td>\n",
       "\t</tr>\n",
       "\t<tr>\n",
       "\t\t<td>13.1</td>\n",
       "\t\t<td>0.4</td>\n",
       "\t\t<td>25.6</td>\n",
       "\t\t<td>5.3</td>\n",
       "\t\t<td>1</td>\n",
       "\t</tr>\n",
       "\t<tr>\n",
       "\t\t<td>8.7</td>\n",
       "\t\t<td>48.9</td>\n",
       "\t\t<td>75.0</td>\n",
       "\t\t<td>7.2</td>\n",
       "\t\t<td>1</td>\n",
       "\t</tr>\n",
       "\t<tr>\n",
       "\t\t<td>7.3</td>\n",
       "\t\t<td>28.1</td>\n",
       "\t\t<td>41.4</td>\n",
       "\t\t<td>5.5</td>\n",
       "\t\t<td>1</td>\n",
       "\t</tr>\n",
       "\t<tr>\n",
       "\t\t<td>4.1</td>\n",
       "\t\t<td>11.6</td>\n",
       "\t\t<td>5.7</td>\n",
       "\t\t<td>3.2</td>\n",
       "\t\t<td>1</td>\n",
       "\t</tr>\n",
       "\t<tr>\n",
       "\t\t<td>0.7</td>\n",
       "\t\t<td>39.6</td>\n",
       "\t\t<td>8.7</td>\n",
       "\t\t<td>1.6</td>\n",
       "\t\t<td>1</td>\n",
       "\t</tr>\n",
       "</table></html>"
      ],
      "text/plain": [
       "      radio  newspaper  sales  sampleid\n",
       "TV                                     \n",
       "5.4    29.9        9.4    5.3         2\n",
       "7.8    38.9       50.6    6.6         1\n",
       "8.4    27.2        2.1    5.7         1\n",
       "8.6     2.1        1.0    4.8         1\n",
       "11.7   36.9       45.2    7.3         1\n",
       "13.1    0.4       25.6    5.3         1\n",
       "8.7    48.9       75.0    7.2         1\n",
       "7.3    28.1       41.4    5.5         1\n",
       "4.1    11.6        5.7    3.2         1\n",
       "0.7    39.6        8.7    1.6         1"
      ]
     },
     "execution_count": 9,
     "metadata": {},
     "output_type": "execute_result"
    }
   ],
   "source": [
    "advertising_df_sample.head()"
   ]
  },
  {
   "cell_type": "code",
   "execution_count": 10,
   "id": "5e3e5923-18ad-4cf6-b4e5-e87f8854700b",
   "metadata": {},
   "outputs": [],
   "source": [
    "# Fetching train and test data\n",
    "advertising_df_train= advertising_df_sample[advertising_df_sample['sampleid'] == 1].drop('sampleid', axis=1)\n",
    "advertising_df_test = advertising_df_sample[advertising_df_sample['sampleid'] == 2].drop('sampleid', axis=1)"
   ]
  },
  {
   "cell_type": "code",
   "execution_count": 11,
   "id": "83d72a72-3fac-4862-b374-d21ab59be1a6",
   "metadata": {},
   "outputs": [
    {
     "data": {
      "text/plain": [
       "(160, 4)"
      ]
     },
     "execution_count": 11,
     "metadata": {},
     "output_type": "execute_result"
    }
   ],
   "source": [
    "# train data shape\n",
    "advertising_df_train.shape"
   ]
  },
  {
   "cell_type": "code",
   "execution_count": 12,
   "id": "b22be730-8a7a-40f3-8e2a-cabd8d1f427f",
   "metadata": {},
   "outputs": [
    {
     "data": {
      "text/plain": [
       "(40, 4)"
      ]
     },
     "execution_count": 12,
     "metadata": {},
     "output_type": "execute_result"
    }
   ],
   "source": [
    "# test data shape\n",
    "advertising_df_test.shape"
   ]
  },
  {
   "cell_type": "code",
   "execution_count": 13,
   "id": "18473df2-be15-4e1e-bc5e-739abacf8b89",
   "metadata": {},
   "outputs": [
    {
     "data": {
      "text/html": [
       "<style type=\"text/css\">\n",
       "\ttable {border:ridge 5px;}\n",
       "\ttable td {border:inset 1px;}\n",
       "\ttable tr#HeaderRow {background-color:grey; color:white;}</style>\n",
       "<html><table>\n",
       "\t<tr id=\"HeaderRow\">\n",
       "\t\t<th>TV</th>\n",
       "\t\t<th>radio</th>\n",
       "\t\t<th>newspaper</th>\n",
       "\t\t<th>sales</th>\n",
       "\t</tr>\n",
       "\t<tr>\n",
       "\t\t<td>7.3</td>\n",
       "\t\t<td>28.1</td>\n",
       "\t\t<td>41.4</td>\n",
       "\t\t<td>5.5</td>\n",
       "\t</tr>\n",
       "\t<tr>\n",
       "\t\t<td>8.4</td>\n",
       "\t\t<td>27.2</td>\n",
       "\t\t<td>2.1</td>\n",
       "\t\t<td>5.7</td>\n",
       "\t</tr>\n",
       "\t<tr>\n",
       "\t\t<td>8.6</td>\n",
       "\t\t<td>2.1</td>\n",
       "\t\t<td>1.0</td>\n",
       "\t\t<td>4.8</td>\n",
       "\t</tr>\n",
       "\t<tr>\n",
       "\t\t<td>8.7</td>\n",
       "\t\t<td>48.9</td>\n",
       "\t\t<td>75.0</td>\n",
       "\t\t<td>7.2</td>\n",
       "\t</tr>\n",
       "\t<tr>\n",
       "\t\t<td>13.1</td>\n",
       "\t\t<td>0.4</td>\n",
       "\t\t<td>25.6</td>\n",
       "\t\t<td>5.3</td>\n",
       "\t</tr>\n",
       "\t<tr>\n",
       "\t\t<td>13.2</td>\n",
       "\t\t<td>15.9</td>\n",
       "\t\t<td>49.6</td>\n",
       "\t\t<td>5.6</td>\n",
       "\t</tr>\n",
       "\t<tr>\n",
       "\t\t<td>11.7</td>\n",
       "\t\t<td>36.9</td>\n",
       "\t\t<td>45.2</td>\n",
       "\t\t<td>7.3</td>\n",
       "\t</tr>\n",
       "\t<tr>\n",
       "\t\t<td>7.8</td>\n",
       "\t\t<td>38.9</td>\n",
       "\t\t<td>50.6</td>\n",
       "\t\t<td>6.6</td>\n",
       "\t</tr>\n",
       "\t<tr>\n",
       "\t\t<td>4.1</td>\n",
       "\t\t<td>11.6</td>\n",
       "\t\t<td>5.7</td>\n",
       "\t\t<td>3.2</td>\n",
       "\t</tr>\n",
       "\t<tr>\n",
       "\t\t<td>0.7</td>\n",
       "\t\t<td>39.6</td>\n",
       "\t\t<td>8.7</td>\n",
       "\t\t<td>1.6</td>\n",
       "\t</tr>\n",
       "</table></html>"
      ],
      "text/plain": [
       "      radio  newspaper  sales\n",
       "TV                           \n",
       "7.3    28.1       41.4    5.5\n",
       "8.4    27.2        2.1    5.7\n",
       "8.6     2.1        1.0    4.8\n",
       "8.7    48.9       75.0    7.2\n",
       "13.1    0.4       25.6    5.3\n",
       "13.2   15.9       49.6    5.6\n",
       "11.7   36.9       45.2    7.3\n",
       "7.8    38.9       50.6    6.6\n",
       "4.1    11.6        5.7    3.2\n",
       "0.7    39.6        8.7    1.6"
      ]
     },
     "execution_count": 13,
     "metadata": {},
     "output_type": "execute_result"
    }
   ],
   "source": [
    "#train dataset\n",
    "advertising_df_train.head()"
   ]
  },
  {
   "cell_type": "code",
   "execution_count": 14,
   "id": "58c9d763-4f19-449e-a35b-676d4d026acc",
   "metadata": {},
   "outputs": [
    {
     "data": {
      "text/html": [
       "<style type=\"text/css\">\n",
       "\ttable {border:ridge 5px;}\n",
       "\ttable td {border:inset 1px;}\n",
       "\ttable tr#HeaderRow {background-color:grey; color:white;}</style>\n",
       "<html><table>\n",
       "\t<tr id=\"HeaderRow\">\n",
       "\t\t<th>TV</th>\n",
       "\t\t<th>radio</th>\n",
       "\t\t<th>newspaper</th>\n",
       "\t\t<th>sales</th>\n",
       "\t</tr>\n",
       "\t<tr>\n",
       "\t\t<td>26.8</td>\n",
       "\t\t<td>33.0</td>\n",
       "\t\t<td>19.3</td>\n",
       "\t\t<td>8.8</td>\n",
       "\t</tr>\n",
       "\t<tr>\n",
       "\t\t<td>50.0</td>\n",
       "\t\t<td>11.6</td>\n",
       "\t\t<td>18.4</td>\n",
       "\t\t<td>8.4</td>\n",
       "\t</tr>\n",
       "\t<tr>\n",
       "\t\t<td>56.2</td>\n",
       "\t\t<td>5.7</td>\n",
       "\t\t<td>29.7</td>\n",
       "\t\t<td>8.7</td>\n",
       "\t</tr>\n",
       "\t<tr>\n",
       "\t\t<td>62.3</td>\n",
       "\t\t<td>12.6</td>\n",
       "\t\t<td>18.3</td>\n",
       "\t\t<td>9.7</td>\n",
       "\t</tr>\n",
       "\t<tr>\n",
       "\t\t<td>69.0</td>\n",
       "\t\t<td>9.3</td>\n",
       "\t\t<td>0.9</td>\n",
       "\t\t<td>11.3</td>\n",
       "\t</tr>\n",
       "\t<tr>\n",
       "\t\t<td>74.7</td>\n",
       "\t\t<td>49.4</td>\n",
       "\t\t<td>45.7</td>\n",
       "\t\t<td>14.7</td>\n",
       "\t</tr>\n",
       "\t<tr>\n",
       "\t\t<td>66.9</td>\n",
       "\t\t<td>11.7</td>\n",
       "\t\t<td>36.8</td>\n",
       "\t\t<td>9.7</td>\n",
       "\t</tr>\n",
       "\t<tr>\n",
       "\t\t<td>44.7</td>\n",
       "\t\t<td>25.8</td>\n",
       "\t\t<td>20.6</td>\n",
       "\t\t<td>10.1</td>\n",
       "\t</tr>\n",
       "\t<tr>\n",
       "\t\t<td>25.1</td>\n",
       "\t\t<td>25.7</td>\n",
       "\t\t<td>43.3</td>\n",
       "\t\t<td>8.5</td>\n",
       "\t</tr>\n",
       "\t<tr>\n",
       "\t\t<td>5.4</td>\n",
       "\t\t<td>29.9</td>\n",
       "\t\t<td>9.4</td>\n",
       "\t\t<td>5.3</td>\n",
       "\t</tr>\n",
       "</table></html>"
      ],
      "text/plain": [
       "      radio  newspaper  sales\n",
       "TV                           \n",
       "26.8   33.0       19.3    8.8\n",
       "50.0   11.6       18.4    8.4\n",
       "56.2    5.7       29.7    8.7\n",
       "62.3   12.6       18.3    9.7\n",
       "69.0    9.3        0.9   11.3\n",
       "74.7   49.4       45.7   14.7\n",
       "66.9   11.7       36.8    9.7\n",
       "44.7   25.8       20.6   10.1\n",
       "25.1   25.7       43.3    8.5\n",
       "5.4    29.9        9.4    5.3"
      ]
     },
     "execution_count": 14,
     "metadata": {},
     "output_type": "execute_result"
    }
   ],
   "source": [
    "# test dataset\n",
    "advertising_df_test.head()"
   ]
  },
  {
   "cell_type": "markdown",
   "id": "856ea871-93d8-4ea2-b524-1acb23bd7eb5",
   "metadata": {},
   "source": [
    "## <b><span style='color:#F1A424'>| 2.</span> Fitting AutoML </b>"
   ]
  },
  {
   "cell_type": "code",
   "execution_count": 15,
   "id": "f3650aa5-a408-4227-a88d-79c0f3d36d3c",
   "metadata": {},
   "outputs": [],
   "source": [
    "# Creating AutoRegressor instance\n",
    "# Using all models from model training.\n",
    "# Keeping early stopping timer threshold to 300 sec and max_models to 8\n",
    "# and verbose level 2 for detailed loggging\n",
    "\n",
    "aml = AutoRegressor(max_runtime_secs=300,\n",
    "                    max_models=8,\n",
    "                    verbose=2)"
   ]
  },
  {
   "cell_type": "code",
   "execution_count": 16,
   "id": "a1b7a771-1bfa-40c9-8ad0-c377d320c137",
   "metadata": {},
   "outputs": [
    {
     "data": {
      "text/html": [
       "\n",
       "            <style>\n",
       "                .custom-div {\n",
       "                    background-color: lightgray;\n",
       "                    color: #000000;\n",
       "                    padding: 10px;\n",
       "                    border-radius: 8px;\n",
       "                    box-shadow: 0 3px 4px rgba(0, 0, 0, 0.2);\n",
       "                    margin-bottom: 10px;\n",
       "                    text-align: center;\n",
       "                }\n",
       "            </style>\n",
       "        <br><div class=\"custom-div\"><h3><span style=\"color: green;\"></span>1. Feature Exploration -> 2. Feature Engineering -> 3. Data Preparation -> 4. Model Training & Evaluation<center></h3></center></div>"
      ],
      "text/plain": [
       "<IPython.core.display.HTML object>"
      ]
     },
     "metadata": {},
     "output_type": "display_data"
    },
    {
     "name": "stdout",
     "output_type": "stream",
     "text": [
      "Feature Exploration started ...\n",
      "\n",
      "Data Overview:\n",
      "Total Rows in the data: 160\n",
      "Total Columns in the data: 4\n",
      "\n",
      "Column Summary:\n"
     ]
    },
    {
     "data": {
      "text/html": [
       "<style type=\"text/css\">\n",
       "\ttable {border:ridge 5px;}\n",
       "\ttable td {border:inset 1px;}\n",
       "\ttable tr#HeaderRow {background-color:grey; color:white;}</style>\n",
       "<html><table>\n",
       "\t<tr id=\"HeaderRow\">\n",
       "\t\t<th>ColumnName</th>\n",
       "\t\t<th>Datatype</th>\n",
       "\t\t<th>NonNullCount</th>\n",
       "\t\t<th>NullCount</th>\n",
       "\t\t<th>BlankCount</th>\n",
       "\t\t<th>ZeroCount</th>\n",
       "\t\t<th>PositiveCount</th>\n",
       "\t\t<th>NegativeCount</th>\n",
       "\t\t<th>NullPercentage</th>\n",
       "\t\t<th>NonNullPercentage</th>\n",
       "\t</tr>\n",
       "\t<tr>\n",
       "\t\t<td>TV</td>\n",
       "\t\t<td>FLOAT</td>\n",
       "\t\t<td>160</td>\n",
       "\t\t<td>0</td>\n",
       "\t\t<td>None</td>\n",
       "\t\t<td>0</td>\n",
       "\t\t<td>160</td>\n",
       "\t\t<td>0</td>\n",
       "\t\t<td>0.0</td>\n",
       "\t\t<td>100.0</td>\n",
       "\t</tr>\n",
       "\t<tr>\n",
       "\t\t<td>sales</td>\n",
       "\t\t<td>FLOAT</td>\n",
       "\t\t<td>160</td>\n",
       "\t\t<td>0</td>\n",
       "\t\t<td>None</td>\n",
       "\t\t<td>0</td>\n",
       "\t\t<td>160</td>\n",
       "\t\t<td>0</td>\n",
       "\t\t<td>0.0</td>\n",
       "\t\t<td>100.0</td>\n",
       "\t</tr>\n",
       "\t<tr>\n",
       "\t\t<td>newspaper</td>\n",
       "\t\t<td>FLOAT</td>\n",
       "\t\t<td>160</td>\n",
       "\t\t<td>0</td>\n",
       "\t\t<td>None</td>\n",
       "\t\t<td>0</td>\n",
       "\t\t<td>160</td>\n",
       "\t\t<td>0</td>\n",
       "\t\t<td>0.0</td>\n",
       "\t\t<td>100.0</td>\n",
       "\t</tr>\n",
       "\t<tr>\n",
       "\t\t<td>radio</td>\n",
       "\t\t<td>FLOAT</td>\n",
       "\t\t<td>160</td>\n",
       "\t\t<td>0</td>\n",
       "\t\t<td>None</td>\n",
       "\t\t<td>1</td>\n",
       "\t\t<td>159</td>\n",
       "\t\t<td>0</td>\n",
       "\t\t<td>0.0</td>\n",
       "\t\t<td>100.0</td>\n",
       "\t</tr>\n",
       "</table></html>"
      ],
      "text/plain": [
       "  ColumnName Datatype  NonNullCount  NullCount BlankCount  ZeroCount  PositiveCount  NegativeCount  NullPercentage  NonNullPercentage\n",
       "0         TV    FLOAT           160          0       None          0            160              0             0.0              100.0\n",
       "1      sales    FLOAT           160          0       None          0            160              0             0.0              100.0\n",
       "2  newspaper    FLOAT           160          0       None          0            160              0             0.0              100.0\n",
       "3      radio    FLOAT           160          0       None          1            159              0             0.0              100.0"
      ]
     },
     "metadata": {},
     "output_type": "display_data"
    },
    {
     "name": "stdout",
     "output_type": "stream",
     "text": [
      "            TV    radio  newspaper    sales\n",
      "func                                       \n",
      "std     87.602   15.027     22.265    5.430\n",
      "25%     72.700    9.825     11.825   10.900\n",
      "50%    150.650   22.400     25.750   16.000\n",
      "75%    218.825   36.825     43.675   19.050\n",
      "max    296.400   49.600    114.000   27.000\n",
      "min      0.700    0.000      0.300    1.600\n",
      "mean   147.039   23.412     30.391   15.122\n",
      "count  160.000  160.000    160.000  160.000\n",
      "\n",
      "Statistics of Data:\n"
     ]
    },
    {
     "data": {
      "text/html": [
       "<style type=\"text/css\">\n",
       "\ttable {border:ridge 5px;}\n",
       "\ttable td {border:inset 1px;}\n",
       "\ttable tr#HeaderRow {background-color:grey; color:white;}</style>\n",
       "<html><table>\n",
       "\t<tr id=\"HeaderRow\">\n",
       "\t\t<th>func</th>\n",
       "\t\t<th>TV</th>\n",
       "\t\t<th>radio</th>\n",
       "\t\t<th>newspaper</th>\n",
       "\t\t<th>sales</th>\n",
       "\t</tr>\n",
       "\t<tr>\n",
       "\t\t<td>std</td>\n",
       "\t\t<td>87.602</td>\n",
       "\t\t<td>15.027</td>\n",
       "\t\t<td>22.265</td>\n",
       "\t\t<td>5.43</td>\n",
       "\t</tr>\n",
       "\t<tr>\n",
       "\t\t<td>25%</td>\n",
       "\t\t<td>72.7</td>\n",
       "\t\t<td>9.825</td>\n",
       "\t\t<td>11.825</td>\n",
       "\t\t<td>10.9</td>\n",
       "\t</tr>\n",
       "\t<tr>\n",
       "\t\t<td>50%</td>\n",
       "\t\t<td>150.65</td>\n",
       "\t\t<td>22.4</td>\n",
       "\t\t<td>25.75</td>\n",
       "\t\t<td>16</td>\n",
       "\t</tr>\n",
       "\t<tr>\n",
       "\t\t<td>75%</td>\n",
       "\t\t<td>218.825</td>\n",
       "\t\t<td>36.825</td>\n",
       "\t\t<td>43.675</td>\n",
       "\t\t<td>19.05</td>\n",
       "\t</tr>\n",
       "\t<tr>\n",
       "\t\t<td>max</td>\n",
       "\t\t<td>296.4</td>\n",
       "\t\t<td>49.6</td>\n",
       "\t\t<td>114</td>\n",
       "\t\t<td>27</td>\n",
       "\t</tr>\n",
       "\t<tr>\n",
       "\t\t<td>min</td>\n",
       "\t\t<td>0.7</td>\n",
       "\t\t<td>0</td>\n",
       "\t\t<td>0.3</td>\n",
       "\t\t<td>1.6</td>\n",
       "\t</tr>\n",
       "\t<tr>\n",
       "\t\t<td>mean</td>\n",
       "\t\t<td>147.039</td>\n",
       "\t\t<td>23.412</td>\n",
       "\t\t<td>30.391</td>\n",
       "\t\t<td>15.122</td>\n",
       "\t</tr>\n",
       "\t<tr>\n",
       "\t\t<td>count</td>\n",
       "\t\t<td>160</td>\n",
       "\t\t<td>160</td>\n",
       "\t\t<td>160</td>\n",
       "\t\t<td>160</td>\n",
       "\t</tr>\n",
       "</table></html>"
      ],
      "text/plain": [
       "            TV    radio  newspaper    sales\n",
       "func                                       \n",
       "std     87.602   15.027     22.265    5.430\n",
       "25%     72.700    9.825     11.825   10.900\n",
       "50%    150.650   22.400     25.750   16.000\n",
       "75%    218.825   36.825     43.675   19.050\n",
       "max    296.400   49.600    114.000   27.000\n",
       "min      0.700    0.000      0.300    1.600\n",
       "mean   147.039   23.412     30.391   15.122\n",
       "count  160.000  160.000    160.000  160.000"
      ]
     },
     "metadata": {},
     "output_type": "display_data"
    },
    {
     "name": "stdout",
     "output_type": "stream",
     "text": [
      "\n",
      "Target Column Distribution:\n"
     ]
    },
    {
     "data": {
      "image/png": "[encoded data removed]",
      "text/plain": [
       "<Figure size 800x600 with 1 Axes>"
      ]
     },
     "metadata": {},
     "output_type": "display_data"
    },
    {
     "name": "stdout",
     "output_type": "stream",
     "text": [
      "Columns with outlier percentage :-                                                                                                                                                                                                                                                                                                                                                                                                                                                                                  \n",
      "  ColumnName  OutlierPercentage\n",
      "0  newspaper               1.25\n",
      "                                                                                        \r"
     ]
    },
    {
     "data": {
      "text/html": [
       "\n",
       "            <style>\n",
       "                .custom-div {\n",
       "                    background-color: lightgray;\n",
       "                    color: #000000;\n",
       "                    padding: 10px;\n",
       "                    border-radius: 8px;\n",
       "                    box-shadow: 0 3px 4px rgba(0 -  0 -  0 -  0.2);\n",
       "                    margin-bottom: 10px;\n",
       "                    text-align: center;\n",
       "                }\n",
       "            </style>\n",
       "        <br><div class=\"custom-div\"><h3><span style=\"color: green;\">1. Feature Exploration -></span> 2. Feature Engineering -> 3. Data Preparation -> 4. Model Training & Evaluation<center></h3></center></div>"
      ],
      "text/plain": [
       "<IPython.core.display.HTML object>"
      ]
     },
     "metadata": {},
     "output_type": "display_data"
    },
    {
     "name": "stdout",
     "output_type": "stream",
     "text": [
      "                                                                                        \r"
     ]
    },
    {
     "data": {
      "text/html": [
       "Feature Engineering started ..."
      ],
      "text/plain": [
       "<IPython.core.display.HTML object>"
      ]
     },
     "metadata": {},
     "output_type": "display_data"
    },
    {
     "name": "stdout",
     "output_type": "stream",
     "text": [
      "                                                                                        \r"
     ]
    },
    {
     "data": {
      "text/html": [
       "\n",
       "Handling duplicate records present in dataset ..."
      ],
      "text/plain": [
       "<IPython.core.display.HTML object>"
      ]
     },
     "metadata": {},
     "output_type": "display_data"
    },
    {
     "name": "stdout",
     "output_type": "stream",
     "text": [
      "Analysis completed. No action taken.                                                    \n",
      "                                                                                        \r"
     ]
    },
    {
     "data": {
      "text/html": [
       "Total time to handle duplicate records: 1.83 sec  "
      ],
      "text/plain": [
       "<IPython.core.display.HTML object>"
      ]
     },
     "metadata": {},
     "output_type": "display_data"
    },
    {
     "name": "stdout",
     "output_type": "stream",
     "text": [
      "                                                                                        \r"
     ]
    },
    {
     "data": {
      "text/html": [
       "\n",
       "Handling less significant features from data ..."
      ],
      "text/plain": [
       "<IPython.core.display.HTML object>"
      ]
     },
     "metadata": {},
     "output_type": "display_data"
    },
    {
     "name": "stdout",
     "output_type": "stream",
     "text": [
      "                                                                                        \r"
     ]
    },
    {
     "data": {
      "text/html": [
       "Total time to handle less significant features: 6.53 sec  "
      ],
      "text/plain": [
       "<IPython.core.display.HTML object>"
      ]
     },
     "metadata": {},
     "output_type": "display_data"
    },
    {
     "name": "stdout",
     "output_type": "stream",
     "text": [
      "                                                                                         \r"
     ]
    },
    {
     "data": {
      "text/html": [
       "\n",
       "Handling Date Features ..."
      ],
      "text/plain": [
       "<IPython.core.display.HTML object>"
      ]
     },
     "metadata": {},
     "output_type": "display_data"
    },
    {
     "name": "stdout",
     "output_type": "stream",
     "text": [
      "Analysis Completed. Dataset does not contain any feature related to dates. No action needed.\n",
      "                                                                                         \r"
     ]
    },
    {
     "data": {
      "text/html": [
       "Total time to handle date features: 0.00 sec\n"
      ],
      "text/plain": [
       "<IPython.core.display.HTML object>"
      ]
     },
     "metadata": {},
     "output_type": "display_data"
    },
    {
     "name": "stdout",
     "output_type": "stream",
     "text": [
      "                                                                                         \r"
     ]
    },
    {
     "data": {
      "text/html": [
       "\n",
       "Checking Missing values in dataset ..."
      ],
      "text/plain": [
       "<IPython.core.display.HTML object>"
      ]
     },
     "metadata": {},
     "output_type": "display_data"
    },
    {
     "name": "stdout",
     "output_type": "stream",
     "text": [
      "Analysis Completed. No Missing Values Detected.                                          \n",
      "                                                                                         \r"
     ]
    },
    {
     "data": {
      "text/html": [
       "Total time to find missing values in data: 8.37 sec  "
      ],
      "text/plain": [
       "<IPython.core.display.HTML object>"
      ]
     },
     "metadata": {},
     "output_type": "display_data"
    },
    {
     "name": "stdout",
     "output_type": "stream",
     "text": [
      "                                                                                         \r"
     ]
    },
    {
     "data": {
      "text/html": [
       "\n",
       "Imputing Missing Values ..."
      ],
      "text/plain": [
       "<IPython.core.display.HTML object>"
      ]
     },
     "metadata": {},
     "output_type": "display_data"
    },
    {
     "name": "stdout",
     "output_type": "stream",
     "text": [
      "Analysis completed. No imputation required.                                              \n",
      "                                                                                         \r"
     ]
    },
    {
     "data": {
      "text/html": [
       "Time taken to perform imputation: 0.01 sec  "
      ],
      "text/plain": [
       "<IPython.core.display.HTML object>"
      ]
     },
     "metadata": {},
     "output_type": "display_data"
    },
    {
     "name": "stdout",
     "output_type": "stream",
     "text": [
      "                                                                                         \r"
     ]
    },
    {
     "data": {
      "text/html": [
       "\n",
       "Performing encoding for categorical columns ..."
      ],
      "text/plain": [
       "<IPython.core.display.HTML object>"
      ]
     },
     "metadata": {},
     "output_type": "display_data"
    },
    {
     "name": "stdout",
     "output_type": "stream",
     "text": [
      "Analysis completed. No categorical columns were found.                                   \n",
      "                                                                                         \r"
     ]
    },
    {
     "data": {
      "text/html": [
       "Time taken to encode the columns: 1.51 sec"
      ],
      "text/plain": [
       "<IPython.core.display.HTML object>"
      ]
     },
     "metadata": {},
     "output_type": "display_data"
    },
    {
     "name": "stdout",
     "output_type": "stream",
     "text": [
      "                                                                                         \r"
     ]
    },
    {
     "data": {
      "text/html": [
       "\n",
       "            <style>\n",
       "                .custom-div {\n",
       "                    background-color: lightgray;\n",
       "                    color: #000000;\n",
       "                    padding: 10px;\n",
       "                    border-radius: 8px;\n",
       "                    box-shadow: 0 3px 4px rgba(0 -  0 -  0 -  0.2);\n",
       "                    margin-bottom: 10px;\n",
       "                    text-align: center;\n",
       "                }\n",
       "            </style>\n",
       "        <br><div class=\"custom-div\"><h3><span style=\"color: green;\">1. Feature Exploration -> 2. Feature Engineering -></span> 3. Data Preparation -> 4. Model Training & Evaluation<center></h3></center></div>"
      ],
      "text/plain": [
       "<IPython.core.display.HTML object>"
      ]
     },
     "metadata": {},
     "output_type": "display_data"
    },
    {
     "name": "stdout",
     "output_type": "stream",
     "text": [
      "                                                                                         \r"
     ]
    },
    {
     "data": {
      "text/html": [
       "Data preparation started ..."
      ],
      "text/plain": [
       "<IPython.core.display.HTML object>"
      ]
     },
     "metadata": {},
     "output_type": "display_data"
    },
    {
     "name": "stdout",
     "output_type": "stream",
     "text": [
      "                                                                                         \r"
     ]
    },
    {
     "data": {
      "text/html": [
       "\n",
       "Outlier preprocessing ..."
      ],
      "text/plain": [
       "<IPython.core.display.HTML object>"
      ]
     },
     "metadata": {},
     "output_type": "display_data"
    },
    {
     "name": "stdout",
     "output_type": "stream",
     "text": [
      "Columns with outlier percentage :-                                                                                                                                                                                                                                                                                                                                                                                                                                                                                  \n",
      "  ColumnName  OutlierPercentage\n",
      "0  newspaper               1.25\n",
      "                                                                                         \r"
     ]
    },
    {
     "data": {
      "text/html": [
       "Deleting rows of these columns:"
      ],
      "text/plain": [
       "<IPython.core.display.HTML object>"
      ]
     },
     "metadata": {},
     "output_type": "display_data"
    },
    {
     "name": "stdout",
     "output_type": "stream",
     "text": [
      "['newspaper']\n",
      "                                                                                         \r"
     ]
    },
    {
     "data": {
      "text/html": [
       "Sample of dataset after removing outlier rows:"
      ],
      "text/plain": [
       "<IPython.core.display.HTML object>"
      ]
     },
     "metadata": {},
     "output_type": "display_data"
    },
    {
     "data": {
      "text/html": [
       "<style type=\"text/css\">\n",
       "\ttable {border:ridge 5px;}\n",
       "\ttable td {border:inset 1px;}\n",
       "\ttable tr#HeaderRow {background-color:grey; color:white;}</style>\n",
       "<html><table>\n",
       "\t<tr id=\"HeaderRow\">\n",
       "\t\t<th>TV</th>\n",
       "\t\t<th>radio</th>\n",
       "\t\t<th>newspaper</th>\n",
       "\t\t<th>sales</th>\n",
       "\t\t<th>id</th>\n",
       "\t</tr>\n",
       "\t<tr>\n",
       "\t\t<td>149.7</td>\n",
       "\t\t<td>35.6</td>\n",
       "\t\t<td>6.0</td>\n",
       "\t\t<td>17.3</td>\n",
       "\t\t<td>12</td>\n",
       "\t</tr>\n",
       "\t<tr>\n",
       "\t\t<td>18.8</td>\n",
       "\t\t<td>21.7</td>\n",
       "\t\t<td>50.4</td>\n",
       "\t\t<td>7.0</td>\n",
       "\t\t<td>11</td>\n",
       "\t</tr>\n",
       "\t<tr>\n",
       "\t\t<td>276.7</td>\n",
       "\t\t<td>2.3</td>\n",
       "\t\t<td>23.7</td>\n",
       "\t\t<td>16.8</td>\n",
       "\t\t<td>19</td>\n",
       "\t</tr>\n",
       "\t<tr>\n",
       "\t\t<td>43.1</td>\n",
       "\t\t<td>26.7</td>\n",
       "\t\t<td>35.1</td>\n",
       "\t\t<td>10.1</td>\n",
       "\t\t<td>8</td>\n",
       "\t</tr>\n",
       "\t<tr>\n",
       "\t\t<td>255.4</td>\n",
       "\t\t<td>26.9</td>\n",
       "\t\t<td>5.5</td>\n",
       "\t\t<td>19.8</td>\n",
       "\t\t<td>14</td>\n",
       "\t</tr>\n",
       "\t<tr>\n",
       "\t\t<td>38.2</td>\n",
       "\t\t<td>3.7</td>\n",
       "\t\t<td>13.8</td>\n",
       "\t\t<td>7.6</td>\n",
       "\t\t<td>22</td>\n",
       "\t</tr>\n",
       "\t<tr>\n",
       "\t\t<td>239.9</td>\n",
       "\t\t<td>41.5</td>\n",
       "\t\t<td>18.5</td>\n",
       "\t\t<td>23.2</td>\n",
       "\t\t<td>13</td>\n",
       "\t</tr>\n",
       "\t<tr>\n",
       "\t\t<td>227.2</td>\n",
       "\t\t<td>15.8</td>\n",
       "\t\t<td>49.9</td>\n",
       "\t\t<td>19.8</td>\n",
       "\t\t<td>21</td>\n",
       "\t</tr>\n",
       "\t<tr>\n",
       "\t\t<td>218.5</td>\n",
       "\t\t<td>5.4</td>\n",
       "\t\t<td>27.4</td>\n",
       "\t\t<td>17.2</td>\n",
       "\t\t<td>15</td>\n",
       "\t</tr>\n",
       "\t<tr>\n",
       "\t\t<td>94.2</td>\n",
       "\t\t<td>4.9</td>\n",
       "\t\t<td>8.1</td>\n",
       "\t\t<td>14.0</td>\n",
       "\t\t<td>23</td>\n",
       "\t</tr>\n",
       "</table></html>"
      ],
      "text/plain": [
       "       radio  newspaper  sales  id\n",
       "TV                                \n",
       "149.7   35.6        6.0   17.3  12\n",
       "18.8    21.7       50.4    7.0  11\n",
       "276.7    2.3       23.7   16.8  19\n",
       "43.1    26.7       35.1   10.1   8\n",
       "255.4   26.9        5.5   19.8  14\n",
       "38.2     3.7       13.8    7.6  22\n",
       "239.9   41.5       18.5   23.2  13\n",
       "227.2   15.8       49.9   19.8  21\n",
       "218.5    5.4       27.4   17.2  15\n",
       "94.2     4.9        8.1   14.0  23"
      ]
     },
     "metadata": {},
     "output_type": "display_data"
    },
    {
     "name": "stdout",
     "output_type": "stream",
     "text": [
      "                                                                                         \r"
     ]
    },
    {
     "data": {
      "text/html": [
       "158 rows X 5 columns"
      ],
      "text/plain": [
       "<IPython.core.display.HTML object>"
      ]
     },
     "metadata": {},
     "output_type": "display_data"
    },
    {
     "name": "stdout",
     "output_type": "stream",
     "text": [
      "                                                                                         \r"
     ]
    },
    {
     "data": {
      "text/html": [
       "Time Taken by Outlier processing: 39.29 sec "
      ],
      "text/plain": [
       "<IPython.core.display.HTML object>"
      ]
     },
     "metadata": {},
     "output_type": "display_data"
    },
    {
     "name": "stdout",
     "output_type": "stream",
     "text": [
      "                                                                                         \r"
     ]
    },
    {
     "data": {
      "text/html": [
       "\n",
       "Feature selection using lasso ..."
      ],
      "text/plain": [
       "<IPython.core.display.HTML object>"
      ]
     },
     "metadata": {},
     "output_type": "display_data"
    },
    {
     "name": "stdout",
     "output_type": "stream",
     "text": [
      "                                                                                         \r"
     ]
    },
    {
     "data": {
      "text/html": [
       "feature selected by lasso:"
      ],
      "text/plain": [
       "<IPython.core.display.HTML object>"
      ]
     },
     "metadata": {},
     "output_type": "display_data"
    },
    {
     "name": "stdout",
     "output_type": "stream",
     "text": [
      "['TV', 'radio', 'newspaper']\n",
      "                                                                                         \r"
     ]
    },
    {
     "data": {
      "text/html": [
       "Total time taken by feature selection: 0.97 sec  "
      ],
      "text/plain": [
       "<IPython.core.display.HTML object>"
      ]
     },
     "metadata": {},
     "output_type": "display_data"
    },
    {
     "name": "stdout",
     "output_type": "stream",
     "text": [
      "                                                                                         \r"
     ]
    },
    {
     "data": {
      "text/html": [
       "\n",
       "scaling Features of lasso data ..."
      ],
      "text/plain": [
       "<IPython.core.display.HTML object>"
      ]
     },
     "metadata": {},
     "output_type": "display_data"
    },
    {
     "name": "stdout",
     "output_type": "stream",
     "text": [
      "                                                                                         \r"
     ]
    },
    {
     "data": {
      "text/html": [
       "columns that will be scaled: "
      ],
      "text/plain": [
       "<IPython.core.display.HTML object>"
      ]
     },
     "metadata": {},
     "output_type": "display_data"
    },
    {
     "name": "stdout",
     "output_type": "stream",
     "text": [
      "['TV', 'radio', 'newspaper']\n",
      "                                                                                         \r"
     ]
    },
    {
     "data": {
      "text/html": [
       "Dataset sample after scaling:"
      ],
      "text/plain": [
       "<IPython.core.display.HTML object>"
      ]
     },
     "metadata": {},
     "output_type": "display_data"
    },
    {
     "data": {
      "text/html": [
       "<style type=\"text/css\">\n",
       "\ttable {border:ridge 5px;}\n",
       "\ttable td {border:inset 1px;}\n",
       "\ttable tr#HeaderRow {background-color:grey; color:white;}</style>\n",
       "<html><table>\n",
       "\t<tr id=\"HeaderRow\">\n",
       "\t\t<th>sales</th>\n",
       "\t\t<th>id</th>\n",
       "\t\t<th>TV</th>\n",
       "\t\t<th>radio</th>\n",
       "\t\t<th>newspaper</th>\n",
       "\t</tr>\n",
       "\t<tr>\n",
       "\t\t<td>18.4</td>\n",
       "\t\t<td>10</td>\n",
       "\t\t<td>0.7381835376114487</td>\n",
       "\t\t<td>0.4168342943763467</td>\n",
       "\t\t<td>-0.9789379836284258</td>\n",
       "\t</tr>\n",
       "\t<tr>\n",
       "\t\t<td>17.3</td>\n",
       "\t\t<td>12</td>\n",
       "\t\t<td>0.03575546902357379</td>\n",
       "\t\t<td>0.8234586799228274</td>\n",
       "\t\t<td>-1.1395377774311637</td>\n",
       "\t</tr>\n",
       "\t<tr>\n",
       "\t\t<td>23.2</td>\n",
       "\t\t<td>13</td>\n",
       "\t\t<td>1.0744277933944972</td>\n",
       "\t\t<td>1.2167511184022102</td>\n",
       "\t\t<td>-0.5312052251480658</td>\n",
       "\t</tr>\n",
       "\t<tr>\n",
       "\t\t<td>19.8</td>\n",
       "\t\t<td>14</td>\n",
       "\t\t<td>1.2529136141012525</td>\n",
       "\t\t<td>0.24351898250407616</td>\n",
       "\t\t<td>-1.1638710795224876</td>\n",
       "\t</tr>\n",
       "\t<tr>\n",
       "\t\t<td>19.7</td>\n",
       "\t\t<td>16</td>\n",
       "\t\t<td>0.47563665295893176</td>\n",
       "\t\t<td>-0.4030804502501635</td>\n",
       "\t\t<td>-0.5604051876576546</td>\n",
       "\t</tr>\n",
       "\t<tr>\n",
       "\t\t<td>9.5</td>\n",
       "\t\t<td>17</td>\n",
       "\t\t<td>-1.3932826180543816</td>\n",
       "\t\t<td>1.0501017800634886</td>\n",
       "\t\t<td>-0.9789379836284258</td>\n",
       "\t</tr>\n",
       "\t<tr>\n",
       "\t\t<td>17.2</td>\n",
       "\t\t<td>15</td>\n",
       "\t\t<td>0.8280022086767838</td>\n",
       "\t\t<td>-1.1896653272089293</td>\n",
       "\t\t<td>-0.09807244792250025</td>\n",
       "\t</tr>\n",
       "\t<tr>\n",
       "\t\t<td>7.0</td>\n",
       "\t\t<td>11</td>\n",
       "\t\t<td>-1.471586074880571</td>\n",
       "\t\t<td>-0.10311164124046465</td>\n",
       "\t\t<td>1.0212594482783997</td>\n",
       "\t</tr>\n",
       "\t<tr>\n",
       "\t\t<td>24.7</td>\n",
       "\t\t<td>9</td>\n",
       "\t\t<td>0.8487295943072457</td>\n",
       "\t\t<td>1.716699133418375</td>\n",
       "\t\t<td>-1.2758042691425775</td>\n",
       "\t</tr>\n",
       "\t<tr>\n",
       "\t\t<td>10.1</td>\n",
       "\t\t<td>8</td>\n",
       "\t\t<td>-1.1917663688693356</td>\n",
       "\t\t<td>0.2301870354369785</td>\n",
       "\t\t<td>0.2766604042838881</td>\n",
       "\t</tr>\n",
       "</table></html>"
      ],
      "text/plain": [
       "   sales  id        TV     radio  newspaper\n",
       "0   18.4  10  0.738184  0.416834  -0.978938\n",
       "1   17.3  12  0.035755  0.823459  -1.139538\n",
       "2   23.2  13  1.074428  1.216751  -0.531205\n",
       "3   19.8  14  1.252914  0.243519  -1.163871\n",
       "4   19.7  16  0.475637 -0.403080  -0.560405\n",
       "5    9.5  17 -1.393283  1.050102  -0.978938\n",
       "6   17.2  15  0.828002 -1.189665  -0.098072\n",
       "7    7.0  11 -1.471586 -0.103112   1.021259\n",
       "8   24.7   9  0.848730  1.716699  -1.275804\n",
       "9   10.1   8 -1.191766  0.230187   0.276660"
      ]
     },
     "metadata": {},
     "output_type": "display_data"
    },
    {
     "name": "stdout",
     "output_type": "stream",
     "text": [
      "                                                                                         \r"
     ]
    },
    {
     "data": {
      "text/html": [
       "158 rows X 5 columns"
      ],
      "text/plain": [
       "<IPython.core.display.HTML object>"
      ]
     },
     "metadata": {},
     "output_type": "display_data"
    },
    {
     "name": "stdout",
     "output_type": "stream",
     "text": [
      "                                                                                         \r"
     ]
    },
    {
     "data": {
      "text/html": [
       "Total time taken by feature scaling: 27.67 sec"
      ],
      "text/plain": [
       "<IPython.core.display.HTML object>"
      ]
     },
     "metadata": {},
     "output_type": "display_data"
    },
    {
     "name": "stdout",
     "output_type": "stream",
     "text": [
      "                                                                                          \r"
     ]
    },
    {
     "data": {
      "text/html": [
       "\n",
       "Feature selection using rfe ..."
      ],
      "text/plain": [
       "<IPython.core.display.HTML object>"
      ]
     },
     "metadata": {},
     "output_type": "display_data"
    },
    {
     "name": "stdout",
     "output_type": "stream",
     "text": [
      "                                                                                          \r"
     ]
    },
    {
     "data": {
      "text/html": [
       "feature selected by RFE:"
      ],
      "text/plain": [
       "<IPython.core.display.HTML object>"
      ]
     },
     "metadata": {},
     "output_type": "display_data"
    },
    {
     "name": "stdout",
     "output_type": "stream",
     "text": [
      "['TV', 'radio']\n",
      "                                                                                          \r"
     ]
    },
    {
     "data": {
      "text/html": [
       "Total time taken by feature selection: 5.03 sec  "
      ],
      "text/plain": [
       "<IPython.core.display.HTML object>"
      ]
     },
     "metadata": {},
     "output_type": "display_data"
    },
    {
     "name": "stdout",
     "output_type": "stream",
     "text": [
      "                                                                                          \r"
     ]
    },
    {
     "data": {
      "text/html": [
       "\n",
       "scaling Features of rfe data ..."
      ],
      "text/plain": [
       "<IPython.core.display.HTML object>"
      ]
     },
     "metadata": {},
     "output_type": "display_data"
    },
    {
     "name": "stdout",
     "output_type": "stream",
     "text": [
      "                                                                                          \r"
     ]
    },
    {
     "data": {
      "text/html": [
       "columns that will be scaled: "
      ],
      "text/plain": [
       "<IPython.core.display.HTML object>"
      ]
     },
     "metadata": {},
     "output_type": "display_data"
    },
    {
     "name": "stdout",
     "output_type": "stream",
     "text": [
      "['r_TV', 'r_radio']\n",
      "                                                                                          \r"
     ]
    },
    {
     "data": {
      "text/html": [
       "Dataset sample after scaling:"
      ],
      "text/plain": [
       "<IPython.core.display.HTML object>"
      ]
     },
     "metadata": {},
     "output_type": "display_data"
    },
    {
     "data": {
      "text/html": [
       "<style type=\"text/css\">\n",
       "\ttable {border:ridge 5px;}\n",
       "\ttable td {border:inset 1px;}\n",
       "\ttable tr#HeaderRow {background-color:grey; color:white;}</style>\n",
       "<html><table>\n",
       "\t<tr id=\"HeaderRow\">\n",
       "\t\t<th>sales</th>\n",
       "\t\t<th>id</th>\n",
       "\t\t<th>r_TV</th>\n",
       "\t\t<th>r_radio</th>\n",
       "\t</tr>\n",
       "\t<tr>\n",
       "\t\t<td>18.4</td>\n",
       "\t\t<td>10</td>\n",
       "\t\t<td>0.7381835376114487</td>\n",
       "\t\t<td>0.4168342943763467</td>\n",
       "\t</tr>\n",
       "\t<tr>\n",
       "\t\t<td>17.3</td>\n",
       "\t\t<td>12</td>\n",
       "\t\t<td>0.03575546902357379</td>\n",
       "\t\t<td>0.8234586799228274</td>\n",
       "\t</tr>\n",
       "\t<tr>\n",
       "\t\t<td>23.2</td>\n",
       "\t\t<td>13</td>\n",
       "\t\t<td>1.0744277933944972</td>\n",
       "\t\t<td>1.2167511184022102</td>\n",
       "\t</tr>\n",
       "\t<tr>\n",
       "\t\t<td>19.8</td>\n",
       "\t\t<td>14</td>\n",
       "\t\t<td>1.2529136141012525</td>\n",
       "\t\t<td>0.24351898250407616</td>\n",
       "\t</tr>\n",
       "\t<tr>\n",
       "\t\t<td>19.7</td>\n",
       "\t\t<td>16</td>\n",
       "\t\t<td>0.47563665295893176</td>\n",
       "\t\t<td>-0.4030804502501635</td>\n",
       "\t</tr>\n",
       "\t<tr>\n",
       "\t\t<td>9.5</td>\n",
       "\t\t<td>17</td>\n",
       "\t\t<td>-1.3932826180543816</td>\n",
       "\t\t<td>1.0501017800634886</td>\n",
       "\t</tr>\n",
       "\t<tr>\n",
       "\t\t<td>17.2</td>\n",
       "\t\t<td>15</td>\n",
       "\t\t<td>0.8280022086767838</td>\n",
       "\t\t<td>-1.1896653272089293</td>\n",
       "\t</tr>\n",
       "\t<tr>\n",
       "\t\t<td>7.0</td>\n",
       "\t\t<td>11</td>\n",
       "\t\t<td>-1.471586074880571</td>\n",
       "\t\t<td>-0.10311164124046465</td>\n",
       "\t</tr>\n",
       "\t<tr>\n",
       "\t\t<td>24.7</td>\n",
       "\t\t<td>9</td>\n",
       "\t\t<td>0.8487295943072457</td>\n",
       "\t\t<td>1.716699133418375</td>\n",
       "\t</tr>\n",
       "\t<tr>\n",
       "\t\t<td>10.1</td>\n",
       "\t\t<td>8</td>\n",
       "\t\t<td>-1.1917663688693356</td>\n",
       "\t\t<td>0.2301870354369785</td>\n",
       "\t</tr>\n",
       "</table></html>"
      ],
      "text/plain": [
       "   sales  id      r_TV   r_radio\n",
       "0   18.4  10  0.738184  0.416834\n",
       "1   17.3  12  0.035755  0.823459\n",
       "2   23.2  13  1.074428  1.216751\n",
       "3   19.8  14  1.252914  0.243519\n",
       "4   19.7  16  0.475637 -0.403080\n",
       "5    9.5  17 -1.393283  1.050102\n",
       "6   17.2  15  0.828002 -1.189665\n",
       "7    7.0  11 -1.471586 -0.103112\n",
       "8   24.7   9  0.848730  1.716699\n",
       "9   10.1   8 -1.191766  0.230187"
      ]
     },
     "metadata": {},
     "output_type": "display_data"
    },
    {
     "name": "stdout",
     "output_type": "stream",
     "text": [
      "                                                                                          \r"
     ]
    },
    {
     "data": {
      "text/html": [
       "158 rows X 4 columns"
      ],
      "text/plain": [
       "<IPython.core.display.HTML object>"
      ]
     },
     "metadata": {},
     "output_type": "display_data"
    },
    {
     "name": "stdout",
     "output_type": "stream",
     "text": [
      "                                                                                          \r"
     ]
    },
    {
     "data": {
      "text/html": [
       "Total time taken by feature scaling: 27.07 sec"
      ],
      "text/plain": [
       "<IPython.core.display.HTML object>"
      ]
     },
     "metadata": {},
     "output_type": "display_data"
    },
    {
     "name": "stdout",
     "output_type": "stream",
     "text": [
      "                                                                                          \r"
     ]
    },
    {
     "data": {
      "text/html": [
       "\n",
       "scaling Features of pca data ..."
      ],
      "text/plain": [
       "<IPython.core.display.HTML object>"
      ]
     },
     "metadata": {},
     "output_type": "display_data"
    },
    {
     "name": "stdout",
     "output_type": "stream",
     "text": [
      "                                                                                          \r"
     ]
    },
    {
     "data": {
      "text/html": [
       "columns that will be scaled: "
      ],
      "text/plain": [
       "<IPython.core.display.HTML object>"
      ]
     },
     "metadata": {},
     "output_type": "display_data"
    },
    {
     "name": "stdout",
     "output_type": "stream",
     "text": [
      "['TV', 'radio', 'newspaper']\n",
      "                                                                                          \r"
     ]
    },
    {
     "data": {
      "text/html": [
       "Dataset sample after scaling:"
      ],
      "text/plain": [
       "<IPython.core.display.HTML object>"
      ]
     },
     "metadata": {},
     "output_type": "display_data"
    },
    {
     "data": {
      "text/html": [
       "<style type=\"text/css\">\n",
       "\ttable {border:ridge 5px;}\n",
       "\ttable td {border:inset 1px;}\n",
       "\ttable tr#HeaderRow {background-color:grey; color:white;}</style>\n",
       "<html><table>\n",
       "\t<tr id=\"HeaderRow\">\n",
       "\t\t<th>sales</th>\n",
       "\t\t<th>id</th>\n",
       "\t\t<th>TV</th>\n",
       "\t\t<th>radio</th>\n",
       "\t\t<th>newspaper</th>\n",
       "\t</tr>\n",
       "\t<tr>\n",
       "\t\t<td>17.2</td>\n",
       "\t\t<td>15</td>\n",
       "\t\t<td>0.8280022086767849</td>\n",
       "\t\t<td>-1.1896653272089288</td>\n",
       "\t\t<td>-0.09807244792250025</td>\n",
       "\t</tr>\n",
       "\t<tr>\n",
       "\t\t<td>18.4</td>\n",
       "\t\t<td>10</td>\n",
       "\t\t<td>0.7381835376114498</td>\n",
       "\t\t<td>0.41683429437634634</td>\n",
       "\t\t<td>-0.9789379836284258</td>\n",
       "\t</tr>\n",
       "\t<tr>\n",
       "\t\t<td>10.8</td>\n",
       "\t\t<td>18</td>\n",
       "\t\t<td>-1.2332211401302584</td>\n",
       "\t\t<td>1.1900872242680143</td>\n",
       "\t\t<td>-1.149271098267693</td>\n",
       "\t</tr>\n",
       "\t<tr>\n",
       "\t\t<td>7.0</td>\n",
       "\t\t<td>11</td>\n",
       "\t\t<td>-1.4715860748805702</td>\n",
       "\t\t<td>-0.10311164124046485</td>\n",
       "\t\t<td>1.0212594482783997</td>\n",
       "\t</tr>\n",
       "\t<tr>\n",
       "\t\t<td>23.2</td>\n",
       "\t\t<td>13</td>\n",
       "\t\t<td>1.0744277933944986</td>\n",
       "\t\t<td>1.2167511184022095</td>\n",
       "\t\t<td>-0.5312052251480658</td>\n",
       "\t</tr>\n",
       "\t<tr>\n",
       "\t\t<td>19.8</td>\n",
       "\t\t<td>21</td>\n",
       "\t\t<td>0.9281845725573505</td>\n",
       "\t\t<td>-0.4964040797198475</td>\n",
       "\t\t<td>0.9969261461870758</td>\n",
       "\t</tr>\n",
       "\t<tr>\n",
       "\t\t<td>19.8</td>\n",
       "\t\t<td>14</td>\n",
       "\t\t<td>1.2529136141012536</td>\n",
       "\t\t<td>0.24351898250407586</td>\n",
       "\t\t<td>-1.1638710795224876</td>\n",
       "\t</tr>\n",
       "\t<tr>\n",
       "\t\t<td>7.6</td>\n",
       "\t\t<td>22</td>\n",
       "\t\t<td>-1.2481909186411475</td>\n",
       "\t\t<td>-1.3029868772792597</td>\n",
       "\t\t<td>-0.7599382648065105</td>\n",
       "\t</tr>\n",
       "\t<tr>\n",
       "\t\t<td>17.3</td>\n",
       "\t\t<td>12</td>\n",
       "\t\t<td>0.03575546902357477</td>\n",
       "\t\t<td>0.823458679922827</td>\n",
       "\t\t<td>-1.1395377774311637</td>\n",
       "\t</tr>\n",
       "\t<tr>\n",
       "\t\t<td>5.7</td>\n",
       "\t\t<td>20</td>\n",
       "\t\t<td>-1.5913443029676833</td>\n",
       "\t\t<td>0.2635169031047225</td>\n",
       "\t\t<td>-1.32933753374349</td>\n",
       "\t</tr>\n",
       "</table></html>"
      ],
      "text/plain": [
       "   sales  id        TV     radio  newspaper\n",
       "0   17.2  15  0.828002 -1.189665  -0.098072\n",
       "1   18.4  10  0.738184  0.416834  -0.978938\n",
       "2   10.8  18 -1.233221  1.190087  -1.149271\n",
       "3    7.0  11 -1.471586 -0.103112   1.021259\n",
       "4   23.2  13  1.074428  1.216751  -0.531205\n",
       "5   19.8  21  0.928185 -0.496404   0.996926\n",
       "6   19.8  14  1.252914  0.243519  -1.163871\n",
       "7    7.6  22 -1.248191 -1.302987  -0.759938\n",
       "8   17.3  12  0.035755  0.823459  -1.139538\n",
       "9    5.7  20 -1.591344  0.263517  -1.329338"
      ]
     },
     "metadata": {},
     "output_type": "display_data"
    },
    {
     "name": "stdout",
     "output_type": "stream",
     "text": [
      "                                                                                          \r"
     ]
    },
    {
     "data": {
      "text/html": [
       "158 rows X 5 columns"
      ],
      "text/plain": [
       "<IPython.core.display.HTML object>"
      ]
     },
     "metadata": {},
     "output_type": "display_data"
    },
    {
     "name": "stdout",
     "output_type": "stream",
     "text": [
      "                                                                                          \r"
     ]
    },
    {
     "data": {
      "text/html": [
       "Total time taken by feature scaling: 25.35 sec"
      ],
      "text/plain": [
       "<IPython.core.display.HTML object>"
      ]
     },
     "metadata": {},
     "output_type": "display_data"
    },
    {
     "name": "stdout",
     "output_type": "stream",
     "text": [
      "                                                                                          \r"
     ]
    },
    {
     "data": {
      "text/html": [
       "\n",
       "Dimension Reduction using pca ..."
      ],
      "text/plain": [
       "<IPython.core.display.HTML object>"
      ]
     },
     "metadata": {},
     "output_type": "display_data"
    },
    {
     "name": "stdout",
     "output_type": "stream",
     "text": [
      "                                                                                          \r"
     ]
    },
    {
     "data": {
      "text/html": [
       "PCA columns:"
      ],
      "text/plain": [
       "<IPython.core.display.HTML object>"
      ]
     },
     "metadata": {},
     "output_type": "display_data"
    },
    {
     "name": "stdout",
     "output_type": "stream",
     "text": [
      "['col_0', 'col_1', 'col_2']\n",
      "                                                                                          \r"
     ]
    },
    {
     "data": {
      "text/html": [
       "Total time taken by PCA: 6.00 sec  "
      ],
      "text/plain": [
       "<IPython.core.display.HTML object>"
      ]
     },
     "metadata": {},
     "output_type": "display_data"
    },
    {
     "name": "stdout",
     "output_type": "stream",
     "text": [
      "                                                                                          \r"
     ]
    },
    {
     "data": {
      "text/html": [
       "\n",
       "            <style>\n",
       "                .custom-div {\n",
       "                    background-color: lightgray;\n",
       "                    color: #000000;\n",
       "                    padding: 10px;\n",
       "                    border-radius: 8px;\n",
       "                    box-shadow: 0 3px 4px rgba(0 -  0 -  0 -  0.2);\n",
       "                    margin-bottom: 10px;\n",
       "                    text-align: center;\n",
       "                }\n",
       "            </style>\n",
       "        <br><div class=\"custom-div\"><h3><span style=\"color: green;\">1. Feature Exploration -> 2. Feature Engineering -> 3. Data Preparation -></span> 4. Model Training & Evaluation<center></h3></center></div>"
      ],
      "text/plain": [
       "<IPython.core.display.HTML object>"
      ]
     },
     "metadata": {},
     "output_type": "display_data"
    },
    {
     "name": "stdout",
     "output_type": "stream",
     "text": [
      "                                                                                          \r"
     ]
    },
    {
     "data": {
      "text/html": [
       "Model Training started ..."
      ],
      "text/plain": [
       "<IPython.core.display.HTML object>"
      ]
     },
     "metadata": {},
     "output_type": "display_data"
    },
    {
     "name": "stdout",
     "output_type": "stream",
     "text": [
      "                                                                                          \r"
     ]
    },
    {
     "data": {
      "text/html": [
       "\n",
       "Hyperparameters used for model training: "
      ],
      "text/plain": [
       "<IPython.core.display.HTML object>"
      ]
     },
     "metadata": {},
     "output_type": "display_data"
    },
    {
     "name": "stdout",
     "output_type": "stream",
     "text": [
      "response_column : sales                                                                                                                               \n",
      "name : decision_forest\n",
      "tree_type : Regression\n",
      "min_impurity : (0.0, 0.1)\n",
      "max_depth : (5, 6, 7, 8)\n",
      "min_node_size : (1, 2)\n",
      "num_trees : (-1, 10, 20)\n",
      "seed : 42\n",
      "Total number of models for decision_forest : 48\n",
      "--------------------------------------------------------------------------------------------------------------------------------------------------------------------------------------------------------\n",
      "\n",
      "response_column : sales\n",
      "name : xgboost\n",
      "model_type : Regression\n",
      "column_sampling : (1, 0.6)\n",
      "min_impurity : (0.0, 0.1)\n",
      "lambda1 : (0.01, 0.1, 1, 10)\n",
      "shrinkage_factor : (0.5, 0.1, 0.2)\n",
      "max_depth : (5, 6, 7, 8)\n",
      "min_node_size : (1, 2)\n",
      "iter_num : (10, 20)\n",
      "seed : 42\n",
      "Total number of models for xgboost : 768\n",
      "--------------------------------------------------------------------------------------------------------------------------------------------------------------------------------------------------------\n",
      "\n",
      "response_column : sales\n",
      "name : knn\n",
      "model_type : Regression\n",
      "k : (3, 5, 6, 8, 10, 12)\n",
      "id_column : id\n",
      "voting_weight : 1.0\n",
      "Total number of models for knn : 6\n",
      "--------------------------------------------------------------------------------------------------------------------------------------------------------------------------------------------------------\n",
      "\n",
      "response_column : sales\n",
      "name : svm\n",
      "model_type : regression\n",
      "lambda1 : (0.001, 0.02, 0.1)\n",
      "alpha : (0.15, 0.85)\n",
      "tolerance : (0.001, 0.01)\n",
      "learning_rate : ('Invtime', 'Adaptive', 'constant')\n",
      "initial_eta : (0.05, 0.1)\n",
      "momentum : (0.65, 0.8, 0.95)\n",
      "nesterov : True\n",
      "intercept : True\n",
      "iter_num_no_change : (5, 10, 50)\n",
      "local_sgd_iterations  : (10, 20)\n",
      "iter_max : (300, 100, 200)\n",
      "batch_size : (10, 20, 40, 50)\n",
      "Total number of models for svm : 15552\n",
      "--------------------------------------------------------------------------------------------------------------------------------------------------------------------------------------------------------\n",
      "\n",
      "response_column : sales\n",
      "name : glm\n",
      "family : GAUSSIAN\n",
      "lambda1 : (0.001, 0.02, 0.1)\n",
      "alpha : (0.15, 0.85)\n",
      "learning_rate : ('invtime', 'constant', 'adaptive')\n",
      "initial_eta : (0.05, 0.1)\n",
      "momentum : (0.65, 0.8, 0.95)\n",
      "iter_num_no_change : (5, 10, 50)\n",
      "iter_max : (300, 100, 200)\n",
      "batch_size : (10, 20, 40, 50)\n",
      "Total number of models for glm : 3888\n",
      "--------------------------------------------------------------------------------------------------------------------------------------------------------------------------------------------------------\n",
      "\n",
      "                                                                                          \r"
     ]
    },
    {
     "data": {
      "text/html": [
       "\n",
       "Performing hyperparameter tuning ..."
      ],
      "text/plain": [
       "<IPython.core.display.HTML object>"
      ]
     },
     "metadata": {},
     "output_type": "display_data"
    },
    {
     "name": "stdout",
     "output_type": "stream",
     "text": [
      "                                                                                          \r"
     ]
    },
    {
     "data": {
      "text/html": [
       "decision_forest"
      ],
      "text/plain": [
       "<IPython.core.display.HTML object>"
      ]
     },
     "metadata": {},
     "output_type": "display_data"
    },
    {
     "name": "stdout",
     "output_type": "stream",
     "text": [
      "                                                                                                                                                                                                        \r"
     ]
    },
    {
     "data": {
      "text/html": [
       "----------------------------------------------------------------------------------------------------"
      ],
      "text/plain": [
       "<IPython.core.display.HTML object>"
      ]
     },
     "metadata": {},
     "output_type": "display_data"
    },
    {
     "name": "stdout",
     "output_type": "stream",
     "text": [
      "                                                                                          \r"
     ]
    },
    {
     "data": {
      "text/html": [
       "xgboost"
      ],
      "text/plain": [
       "<IPython.core.display.HTML object>"
      ]
     },
     "metadata": {},
     "output_type": "display_data"
    },
    {
     "name": "stdout",
     "output_type": "stream",
     "text": [
      "                                                                                                                                                                                                        \r"
     ]
    },
    {
     "data": {
      "text/html": [
       "----------------------------------------------------------------------------------------------------"
      ],
      "text/plain": [
       "<IPython.core.display.HTML object>"
      ]
     },
     "metadata": {},
     "output_type": "display_data"
    },
    {
     "name": "stdout",
     "output_type": "stream",
     "text": [
      "                                                                                          \r"
     ]
    },
    {
     "data": {
      "text/html": [
       "knn"
      ],
      "text/plain": [
       "<IPython.core.display.HTML object>"
      ]
     },
     "metadata": {},
     "output_type": "display_data"
    },
    {
     "name": "stdout",
     "output_type": "stream",
     "text": [
      "                                                                                                                                                                                                        \r"
     ]
    },
    {
     "data": {
      "text/html": [
       "----------------------------------------------------------------------------------------------------"
      ],
      "text/plain": [
       "<IPython.core.display.HTML object>"
      ]
     },
     "metadata": {},
     "output_type": "display_data"
    },
    {
     "name": "stdout",
     "output_type": "stream",
     "text": [
      "                                                                                          \r"
     ]
    },
    {
     "data": {
      "text/html": [
       "svm"
      ],
      "text/plain": [
       "<IPython.core.display.HTML object>"
      ]
     },
     "metadata": {},
     "output_type": "display_data"
    },
    {
     "name": "stdout",
     "output_type": "stream",
     "text": [
      "                                                                                                                                                                                                        \r"
     ]
    },
    {
     "data": {
      "text/html": [
       "----------------------------------------------------------------------------------------------------"
      ],
      "text/plain": [
       "<IPython.core.display.HTML object>"
      ]
     },
     "metadata": {},
     "output_type": "display_data"
    },
    {
     "name": "stdout",
     "output_type": "stream",
     "text": [
      "                                                                                          \r"
     ]
    },
    {
     "data": {
      "text/html": [
       "glm"
      ],
      "text/plain": [
       "<IPython.core.display.HTML object>"
      ]
     },
     "metadata": {},
     "output_type": "display_data"
    },
    {
     "name": "stdout",
     "output_type": "stream",
     "text": [
      "                                                                                                                                                                                                        \r"
     ]
    },
    {
     "data": {
      "text/html": [
       "----------------------------------------------------------------------------------------------------"
      ],
      "text/plain": [
       "<IPython.core.display.HTML object>"
      ]
     },
     "metadata": {},
     "output_type": "display_data"
    },
    {
     "name": "stdout",
     "output_type": "stream",
     "text": [
      "                                                                                          \r"
     ]
    },
    {
     "data": {
      "text/html": [
       "Leaderboard"
      ],
      "text/plain": [
       "<IPython.core.display.HTML object>"
      ]
     },
     "metadata": {},
     "output_type": "display_data"
    },
    {
     "data": {
      "text/html": [
       "<div>\n",
       "<style scoped>\n",
       "    .dataframe tbody tr th:only-of-type {\n",
       "        vertical-align: middle;\n",
       "    }\n",
       "\n",
       "    .dataframe tbody tr th {\n",
       "        vertical-align: top;\n",
       "    }\n",
       "\n",
       "    .dataframe thead th {\n",
       "        text-align: right;\n",
       "    }\n",
       "</style>\n",
       "<table border=\"1\" class=\"dataframe\">\n",
       "  <thead>\n",
       "    <tr style=\"text-align: right;\">\n",
       "      <th></th>\n",
       "      <th>RANK</th>\n",
       "      <th>MODEL_ID</th>\n",
       "      <th>FEATURE_SELECTION</th>\n",
       "      <th>MAE</th>\n",
       "      <th>MSE</th>\n",
       "      <th>MSLE</th>\n",
       "      <th>MAPE</th>\n",
       "      <th>MPE</th>\n",
       "      <th>RMSE</th>\n",
       "      <th>RMSLE</th>\n",
       "      <th>ME</th>\n",
       "      <th>R2</th>\n",
       "      <th>EV</th>\n",
       "      <th>MPD</th>\n",
       "      <th>MGD</th>\n",
       "      <th>ADJUSTED_R2</th>\n",
       "    </tr>\n",
       "  </thead>\n",
       "  <tbody>\n",
       "    <tr>\n",
       "      <th>0</th>\n",
       "      <td>1</td>\n",
       "      <td>KNN_1</td>\n",
       "      <td>rfe</td>\n",
       "      <td>1.055790</td>\n",
       "      <td>2.023639</td>\n",
       "      <td>0.009446</td>\n",
       "      <td>7.151976</td>\n",
       "      <td>2.392202</td>\n",
       "      <td>1.422547</td>\n",
       "      <td>0.097189</td>\n",
       "      <td>4.203217</td>\n",
       "      <td>0.922555</td>\n",
       "      <td>0.927300</td>\n",
       "      <td>0.149030</td>\n",
       "      <td>0.011623</td>\n",
       "      <td>0.921555</td>\n",
       "    </tr>\n",
       "    <tr>\n",
       "      <th>1</th>\n",
       "      <td>2</td>\n",
       "      <td>GLM_1</td>\n",
       "      <td>rfe</td>\n",
       "      <td>1.229208</td>\n",
       "      <td>2.311243</td>\n",
       "      <td>0.011298</td>\n",
       "      <td>8.779032</td>\n",
       "      <td>-0.090825</td>\n",
       "      <td>1.520277</td>\n",
       "      <td>0.106292</td>\n",
       "      <td>3.139551</td>\n",
       "      <td>0.911548</td>\n",
       "      <td>0.912892</td>\n",
       "      <td>0.164516</td>\n",
       "      <td>0.013240</td>\n",
       "      <td>0.910406</td>\n",
       "    </tr>\n",
       "    <tr>\n",
       "      <th>2</th>\n",
       "      <td>3</td>\n",
       "      <td>DECISIONFOREST_1</td>\n",
       "      <td>rfe</td>\n",
       "      <td>1.529687</td>\n",
       "      <td>3.415041</td>\n",
       "      <td>0.017554</td>\n",
       "      <td>11.224770</td>\n",
       "      <td>-2.792731</td>\n",
       "      <td>1.847983</td>\n",
       "      <td>0.132491</td>\n",
       "      <td>3.880000</td>\n",
       "      <td>0.869305</td>\n",
       "      <td>0.869330</td>\n",
       "      <td>0.250371</td>\n",
       "      <td>0.020938</td>\n",
       "      <td>0.867619</td>\n",
       "    </tr>\n",
       "    <tr>\n",
       "      <th>3</th>\n",
       "      <td>4</td>\n",
       "      <td>GLM_2</td>\n",
       "      <td>pca</td>\n",
       "      <td>1.647833</td>\n",
       "      <td>4.197219</td>\n",
       "      <td>0.019330</td>\n",
       "      <td>12.127324</td>\n",
       "      <td>-3.956709</td>\n",
       "      <td>2.048712</td>\n",
       "      <td>0.139032</td>\n",
       "      <td>4.823611</td>\n",
       "      <td>0.839371</td>\n",
       "      <td>0.839389</td>\n",
       "      <td>0.281034</td>\n",
       "      <td>0.021870</td>\n",
       "      <td>0.836242</td>\n",
       "    </tr>\n",
       "    <tr>\n",
       "      <th>4</th>\n",
       "      <td>5</td>\n",
       "      <td>XGBOOST_2</td>\n",
       "      <td>pca</td>\n",
       "      <td>1.594226</td>\n",
       "      <td>4.208329</td>\n",
       "      <td>0.019006</td>\n",
       "      <td>10.414319</td>\n",
       "      <td>2.439263</td>\n",
       "      <td>2.051421</td>\n",
       "      <td>0.137864</td>\n",
       "      <td>5.575339</td>\n",
       "      <td>0.838945</td>\n",
       "      <td>0.846603</td>\n",
       "      <td>0.293122</td>\n",
       "      <td>0.024563</td>\n",
       "      <td>0.835808</td>\n",
       "    </tr>\n",
       "    <tr>\n",
       "      <th>5</th>\n",
       "      <td>6</td>\n",
       "      <td>SVM_2</td>\n",
       "      <td>pca</td>\n",
       "      <td>1.719796</td>\n",
       "      <td>4.371814</td>\n",
       "      <td>0.015838</td>\n",
       "      <td>11.118059</td>\n",
       "      <td>-1.933912</td>\n",
       "      <td>2.090888</td>\n",
       "      <td>0.125850</td>\n",
       "      <td>5.371160</td>\n",
       "      <td>0.832689</td>\n",
       "      <td>0.842874</td>\n",
       "      <td>0.266629</td>\n",
       "      <td>0.018849</td>\n",
       "      <td>0.829430</td>\n",
       "    </tr>\n",
       "    <tr>\n",
       "      <th>6</th>\n",
       "      <td>7</td>\n",
       "      <td>DECISIONFOREST_2</td>\n",
       "      <td>pca</td>\n",
       "      <td>1.728646</td>\n",
       "      <td>5.222329</td>\n",
       "      <td>0.020647</td>\n",
       "      <td>11.687600</td>\n",
       "      <td>0.109286</td>\n",
       "      <td>2.285242</td>\n",
       "      <td>0.143692</td>\n",
       "      <td>5.575000</td>\n",
       "      <td>0.800139</td>\n",
       "      <td>0.812442</td>\n",
       "      <td>0.334104</td>\n",
       "      <td>0.024520</td>\n",
       "      <td>0.796246</td>\n",
       "    </tr>\n",
       "    <tr>\n",
       "      <th>7</th>\n",
       "      <td>8</td>\n",
       "      <td>DECISIONFOREST_0</td>\n",
       "      <td>lasso</td>\n",
       "      <td>1.970828</td>\n",
       "      <td>5.551455</td>\n",
       "      <td>0.023930</td>\n",
       "      <td>14.075638</td>\n",
       "      <td>-3.763811</td>\n",
       "      <td>2.356153</td>\n",
       "      <td>0.154693</td>\n",
       "      <td>5.338000</td>\n",
       "      <td>0.787544</td>\n",
       "      <td>0.787741</td>\n",
       "      <td>0.362873</td>\n",
       "      <td>0.027342</td>\n",
       "      <td>0.783405</td>\n",
       "    </tr>\n",
       "  </tbody>\n",
       "</table>\n",
       "</div>"
      ],
      "text/plain": [
       "   RANK          MODEL_ID FEATURE_SELECTION       MAE       MSE      MSLE  \\\n",
       "0     1             KNN_1               rfe  1.055790  2.023639  0.009446   \n",
       "1     2             GLM_1               rfe  1.229208  2.311243  0.011298   \n",
       "2     3  DECISIONFOREST_1               rfe  1.529687  3.415041  0.017554   \n",
       "3     4             GLM_2               pca  1.647833  4.197219  0.019330   \n",
       "4     5         XGBOOST_2               pca  1.594226  4.208329  0.019006   \n",
       "5     6             SVM_2               pca  1.719796  4.371814  0.015838   \n",
       "6     7  DECISIONFOREST_2               pca  1.728646  5.222329  0.020647   \n",
       "7     8  DECISIONFOREST_0             lasso  1.970828  5.551455  0.023930   \n",
       "\n",
       "        MAPE       MPE      RMSE     RMSLE        ME        R2        EV  \\\n",
       "0   7.151976  2.392202  1.422547  0.097189  4.203217  0.922555  0.927300   \n",
       "1   8.779032 -0.090825  1.520277  0.106292  3.139551  0.911548  0.912892   \n",
       "2  11.224770 -2.792731  1.847983  0.132491  3.880000  0.869305  0.869330   \n",
       "3  12.127324 -3.956709  2.048712  0.139032  4.823611  0.839371  0.839389   \n",
       "4  10.414319  2.439263  2.051421  0.137864  5.575339  0.838945  0.846603   \n",
       "5  11.118059 -1.933912  2.090888  0.125850  5.371160  0.832689  0.842874   \n",
       "6  11.687600  0.109286  2.285242  0.143692  5.575000  0.800139  0.812442   \n",
       "7  14.075638 -3.763811  2.356153  0.154693  5.338000  0.787544  0.787741   \n",
       "\n",
       "        MPD       MGD  ADJUSTED_R2  \n",
       "0  0.149030  0.011623     0.921555  \n",
       "1  0.164516  0.013240     0.910406  \n",
       "2  0.250371  0.020938     0.867619  \n",
       "3  0.281034  0.021870     0.836242  \n",
       "4  0.293122  0.024563     0.835808  \n",
       "5  0.266629  0.018849     0.829430  \n",
       "6  0.334104  0.024520     0.796246  \n",
       "7  0.362873  0.027342     0.783405  "
      ]
     },
     "metadata": {},
     "output_type": "display_data"
    },
    {
     "name": "stdout",
     "output_type": "stream",
     "text": [
      "                                                                                          \r"
     ]
    },
    {
     "data": {
      "text/html": [
       "8 rows X 16 columns"
      ],
      "text/plain": [
       "<IPython.core.display.HTML object>"
      ]
     },
     "metadata": {},
     "output_type": "display_data"
    },
    {
     "name": "stdout",
     "output_type": "stream",
     "text": [
      "                                                                                          \r"
     ]
    },
    {
     "data": {
      "text/html": [
       "\n",
       "            <style>\n",
       "                .custom-div {\n",
       "                    background-color: lightgray;\n",
       "                    color: #000000;\n",
       "                    padding: 10px;\n",
       "                    border-radius: 8px;\n",
       "                    box-shadow: 0 3px 4px rgba(0 -  0 -  0 -  0.2);\n",
       "                    margin-bottom: 10px;\n",
       "                    text-align: center;\n",
       "                }\n",
       "            </style>\n",
       "        <br><div class=\"custom-div\"><h3><span style=\"color: green;\">1. Feature Exploration -> 2. Feature Engineering -> 3. Data Preparation -> 4. Model Training & Evaluation</span><center></h3></center></div>"
      ],
      "text/plain": [
       "<IPython.core.display.HTML object>"
      ]
     },
     "metadata": {},
     "output_type": "display_data"
    },
    {
     "name": "stdout",
     "output_type": "stream",
     "text": [
      "Completed: ｜⫿⫿⫿⫿⫿⫿⫿⫿⫿⫿⫿⫿⫿⫿⫿⫿⫿⫿⫿⫿⫿⫿⫿⫿⫿⫿⫿⫿⫿⫿⫿⫿⫿⫿⫿⫿⫿⫿⫿⫿⫿⫿⫿⫿⫿⫿⫿⫿⫿⫿⫿⫿⫿⫿⫿⫿⫿⫿⫿⫿｜ 100% - 18/18    \r"
     ]
    }
   ],
   "source": [
    "# Fitting train data\n",
    "aml.fit(advertising_df_train, advertising_df_train.sales)"
   ]
  },
  {
   "cell_type": "markdown",
   "id": "23a04eb1-68e6-48b7-95aa-442f434809da",
   "metadata": {},
   "source": [
    "## <b><span style='color:#F1A424'>| 3.</span> Leaderboard : </b>"
   ]
  },
  {
   "cell_type": "code",
   "execution_count": 17,
   "id": "77de1099-6122-4f8a-8e7f-dd67e5b4ced4",
   "metadata": {},
   "outputs": [
    {
     "data": {
      "text/html": [
       "<div>\n",
       "<style scoped>\n",
       "    .dataframe tbody tr th:only-of-type {\n",
       "        vertical-align: middle;\n",
       "    }\n",
       "\n",
       "    .dataframe tbody tr th {\n",
       "        vertical-align: top;\n",
       "    }\n",
       "\n",
       "    .dataframe thead th {\n",
       "        text-align: right;\n",
       "    }\n",
       "</style>\n",
       "<table border=\"1\" class=\"dataframe\">\n",
       "  <thead>\n",
       "    <tr style=\"text-align: right;\">\n",
       "      <th></th>\n",
       "      <th>RANK</th>\n",
       "      <th>MODEL_ID</th>\n",
       "      <th>FEATURE_SELECTION</th>\n",
       "      <th>MAE</th>\n",
       "      <th>MSE</th>\n",
       "      <th>MSLE</th>\n",
       "      <th>MAPE</th>\n",
       "      <th>MPE</th>\n",
       "      <th>RMSE</th>\n",
       "      <th>RMSLE</th>\n",
       "      <th>ME</th>\n",
       "      <th>R2</th>\n",
       "      <th>EV</th>\n",
       "      <th>MPD</th>\n",
       "      <th>MGD</th>\n",
       "      <th>ADJUSTED_R2</th>\n",
       "    </tr>\n",
       "  </thead>\n",
       "  <tbody>\n",
       "    <tr>\n",
       "      <th>0</th>\n",
       "      <td>1</td>\n",
       "      <td>KNN_1</td>\n",
       "      <td>rfe</td>\n",
       "      <td>1.055790</td>\n",
       "      <td>2.023639</td>\n",
       "      <td>0.009446</td>\n",
       "      <td>7.151976</td>\n",
       "      <td>2.392202</td>\n",
       "      <td>1.422547</td>\n",
       "      <td>0.097189</td>\n",
       "      <td>4.203217</td>\n",
       "      <td>0.922555</td>\n",
       "      <td>0.927300</td>\n",
       "      <td>0.149030</td>\n",
       "      <td>0.011623</td>\n",
       "      <td>0.921555</td>\n",
       "    </tr>\n",
       "    <tr>\n",
       "      <th>1</th>\n",
       "      <td>2</td>\n",
       "      <td>GLM_1</td>\n",
       "      <td>rfe</td>\n",
       "      <td>1.229208</td>\n",
       "      <td>2.311243</td>\n",
       "      <td>0.011298</td>\n",
       "      <td>8.779032</td>\n",
       "      <td>-0.090825</td>\n",
       "      <td>1.520277</td>\n",
       "      <td>0.106292</td>\n",
       "      <td>3.139551</td>\n",
       "      <td>0.911548</td>\n",
       "      <td>0.912892</td>\n",
       "      <td>0.164516</td>\n",
       "      <td>0.013240</td>\n",
       "      <td>0.910406</td>\n",
       "    </tr>\n",
       "    <tr>\n",
       "      <th>2</th>\n",
       "      <td>3</td>\n",
       "      <td>DECISIONFOREST_1</td>\n",
       "      <td>rfe</td>\n",
       "      <td>1.529687</td>\n",
       "      <td>3.415041</td>\n",
       "      <td>0.017554</td>\n",
       "      <td>11.224770</td>\n",
       "      <td>-2.792731</td>\n",
       "      <td>1.847983</td>\n",
       "      <td>0.132491</td>\n",
       "      <td>3.880000</td>\n",
       "      <td>0.869305</td>\n",
       "      <td>0.869330</td>\n",
       "      <td>0.250371</td>\n",
       "      <td>0.020938</td>\n",
       "      <td>0.867619</td>\n",
       "    </tr>\n",
       "    <tr>\n",
       "      <th>3</th>\n",
       "      <td>4</td>\n",
       "      <td>GLM_2</td>\n",
       "      <td>pca</td>\n",
       "      <td>1.647833</td>\n",
       "      <td>4.197219</td>\n",
       "      <td>0.019330</td>\n",
       "      <td>12.127324</td>\n",
       "      <td>-3.956709</td>\n",
       "      <td>2.048712</td>\n",
       "      <td>0.139032</td>\n",
       "      <td>4.823611</td>\n",
       "      <td>0.839371</td>\n",
       "      <td>0.839389</td>\n",
       "      <td>0.281034</td>\n",
       "      <td>0.021870</td>\n",
       "      <td>0.836242</td>\n",
       "    </tr>\n",
       "    <tr>\n",
       "      <th>4</th>\n",
       "      <td>5</td>\n",
       "      <td>XGBOOST_2</td>\n",
       "      <td>pca</td>\n",
       "      <td>1.594226</td>\n",
       "      <td>4.208329</td>\n",
       "      <td>0.019006</td>\n",
       "      <td>10.414319</td>\n",
       "      <td>2.439263</td>\n",
       "      <td>2.051421</td>\n",
       "      <td>0.137864</td>\n",
       "      <td>5.575339</td>\n",
       "      <td>0.838945</td>\n",
       "      <td>0.846603</td>\n",
       "      <td>0.293122</td>\n",
       "      <td>0.024563</td>\n",
       "      <td>0.835808</td>\n",
       "    </tr>\n",
       "    <tr>\n",
       "      <th>5</th>\n",
       "      <td>6</td>\n",
       "      <td>SVM_2</td>\n",
       "      <td>pca</td>\n",
       "      <td>1.719796</td>\n",
       "      <td>4.371814</td>\n",
       "      <td>0.015838</td>\n",
       "      <td>11.118059</td>\n",
       "      <td>-1.933912</td>\n",
       "      <td>2.090888</td>\n",
       "      <td>0.125850</td>\n",
       "      <td>5.371160</td>\n",
       "      <td>0.832689</td>\n",
       "      <td>0.842874</td>\n",
       "      <td>0.266629</td>\n",
       "      <td>0.018849</td>\n",
       "      <td>0.829430</td>\n",
       "    </tr>\n",
       "    <tr>\n",
       "      <th>6</th>\n",
       "      <td>7</td>\n",
       "      <td>DECISIONFOREST_2</td>\n",
       "      <td>pca</td>\n",
       "      <td>1.728646</td>\n",
       "      <td>5.222329</td>\n",
       "      <td>0.020647</td>\n",
       "      <td>11.687600</td>\n",
       "      <td>0.109286</td>\n",
       "      <td>2.285242</td>\n",
       "      <td>0.143692</td>\n",
       "      <td>5.575000</td>\n",
       "      <td>0.800139</td>\n",
       "      <td>0.812442</td>\n",
       "      <td>0.334104</td>\n",
       "      <td>0.024520</td>\n",
       "      <td>0.796246</td>\n",
       "    </tr>\n",
       "    <tr>\n",
       "      <th>7</th>\n",
       "      <td>8</td>\n",
       "      <td>DECISIONFOREST_0</td>\n",
       "      <td>lasso</td>\n",
       "      <td>1.970828</td>\n",
       "      <td>5.551455</td>\n",
       "      <td>0.023930</td>\n",
       "      <td>14.075638</td>\n",
       "      <td>-3.763811</td>\n",
       "      <td>2.356153</td>\n",
       "      <td>0.154693</td>\n",
       "      <td>5.338000</td>\n",
       "      <td>0.787544</td>\n",
       "      <td>0.787741</td>\n",
       "      <td>0.362873</td>\n",
       "      <td>0.027342</td>\n",
       "      <td>0.783405</td>\n",
       "    </tr>\n",
       "  </tbody>\n",
       "</table>\n",
       "</div>"
      ],
      "text/plain": [
       "   RANK          MODEL_ID FEATURE_SELECTION       MAE       MSE      MSLE  \\\n",
       "0     1             KNN_1               rfe  1.055790  2.023639  0.009446   \n",
       "1     2             GLM_1               rfe  1.229208  2.311243  0.011298   \n",
       "2     3  DECISIONFOREST_1               rfe  1.529687  3.415041  0.017554   \n",
       "3     4             GLM_2               pca  1.647833  4.197219  0.019330   \n",
       "4     5         XGBOOST_2               pca  1.594226  4.208329  0.019006   \n",
       "5     6             SVM_2               pca  1.719796  4.371814  0.015838   \n",
       "6     7  DECISIONFOREST_2               pca  1.728646  5.222329  0.020647   \n",
       "7     8  DECISIONFOREST_0             lasso  1.970828  5.551455  0.023930   \n",
       "\n",
       "        MAPE       MPE      RMSE     RMSLE        ME        R2        EV  \\\n",
       "0   7.151976  2.392202  1.422547  0.097189  4.203217  0.922555  0.927300   \n",
       "1   8.779032 -0.090825  1.520277  0.106292  3.139551  0.911548  0.912892   \n",
       "2  11.224770 -2.792731  1.847983  0.132491  3.880000  0.869305  0.869330   \n",
       "3  12.127324 -3.956709  2.048712  0.139032  4.823611  0.839371  0.839389   \n",
       "4  10.414319  2.439263  2.051421  0.137864  5.575339  0.838945  0.846603   \n",
       "5  11.118059 -1.933912  2.090888  0.125850  5.371160  0.832689  0.842874   \n",
       "6  11.687600  0.109286  2.285242  0.143692  5.575000  0.800139  0.812442   \n",
       "7  14.075638 -3.763811  2.356153  0.154693  5.338000  0.787544  0.787741   \n",
       "\n",
       "        MPD       MGD  ADJUSTED_R2  \n",
       "0  0.149030  0.011623     0.921555  \n",
       "1  0.164516  0.013240     0.910406  \n",
       "2  0.250371  0.020938     0.867619  \n",
       "3  0.281034  0.021870     0.836242  \n",
       "4  0.293122  0.024563     0.835808  \n",
       "5  0.266629  0.018849     0.829430  \n",
       "6  0.334104  0.024520     0.796246  \n",
       "7  0.362873  0.027342     0.783405  "
      ]
     },
     "execution_count": 17,
     "metadata": {},
     "output_type": "execute_result"
    }
   ],
   "source": [
    "# Fetching Leaderboard\n",
    "aml.leaderboard()"
   ]
  },
  {
   "cell_type": "markdown",
   "id": "a7a3aa08-e349-4a61-9217-2c17d50411d8",
   "metadata": {},
   "source": [
    "## <b><span style='color:#F1A424'>| 4.</span> Best Performing Model : </b>"
   ]
  },
  {
   "cell_type": "code",
   "execution_count": 18,
   "id": "c4c32832-a76b-4f42-826a-cefc38a6301b",
   "metadata": {},
   "outputs": [
    {
     "data": {
      "text/html": [
       "<div>\n",
       "<style scoped>\n",
       "    .dataframe tbody tr th:only-of-type {\n",
       "        vertical-align: middle;\n",
       "    }\n",
       "\n",
       "    .dataframe tbody tr th {\n",
       "        vertical-align: top;\n",
       "    }\n",
       "\n",
       "    .dataframe thead th {\n",
       "        text-align: right;\n",
       "    }\n",
       "</style>\n",
       "<table border=\"1\" class=\"dataframe\">\n",
       "  <thead>\n",
       "    <tr style=\"text-align: right;\">\n",
       "      <th></th>\n",
       "      <th>RANK</th>\n",
       "      <th>MODEL_ID</th>\n",
       "      <th>FEATURE_SELECTION</th>\n",
       "      <th>MAE</th>\n",
       "      <th>MSE</th>\n",
       "      <th>MSLE</th>\n",
       "      <th>MAPE</th>\n",
       "      <th>MPE</th>\n",
       "      <th>RMSE</th>\n",
       "      <th>RMSLE</th>\n",
       "      <th>ME</th>\n",
       "      <th>R2</th>\n",
       "      <th>EV</th>\n",
       "      <th>MPD</th>\n",
       "      <th>MGD</th>\n",
       "      <th>ADJUSTED_R2</th>\n",
       "    </tr>\n",
       "  </thead>\n",
       "  <tbody>\n",
       "    <tr>\n",
       "      <th>0</th>\n",
       "      <td>1</td>\n",
       "      <td>KNN_1</td>\n",
       "      <td>rfe</td>\n",
       "      <td>1.05579</td>\n",
       "      <td>2.023639</td>\n",
       "      <td>0.009446</td>\n",
       "      <td>7.151976</td>\n",
       "      <td>2.392202</td>\n",
       "      <td>1.422547</td>\n",
       "      <td>0.097189</td>\n",
       "      <td>4.203217</td>\n",
       "      <td>0.922555</td>\n",
       "      <td>0.9273</td>\n",
       "      <td>0.14903</td>\n",
       "      <td>0.011623</td>\n",
       "      <td>0.921555</td>\n",
       "    </tr>\n",
       "  </tbody>\n",
       "</table>\n",
       "</div>"
      ],
      "text/plain": [
       "   RANK MODEL_ID FEATURE_SELECTION      MAE       MSE      MSLE      MAPE  \\\n",
       "0     1    KNN_1               rfe  1.05579  2.023639  0.009446  7.151976   \n",
       "\n",
       "        MPE      RMSE     RMSLE        ME        R2      EV      MPD  \\\n",
       "0  2.392202  1.422547  0.097189  4.203217  0.922555  0.9273  0.14903   \n",
       "\n",
       "        MGD  ADJUSTED_R2  \n",
       "0  0.011623     0.921555  "
      ]
     },
     "metadata": {},
     "output_type": "display_data"
    }
   ],
   "source": [
    "# Fetching best performing model for dataset\n",
    "aml.leader()"
   ]
  },
  {
   "cell_type": "markdown",
   "id": "abb42323-9656-483b-9c91-961e6df0db7e",
   "metadata": {},
   "source": [
    "## <b><span style='color:#F1A424'>| 5.</span> Get Hyperparameter for Trained Model : </b>"
   ]
  },
  {
   "cell_type": "code",
   "execution_count": 19,
   "id": "aeefc9b8-58ce-4fd0-9a25-872f0c2e4a6d",
   "metadata": {},
   "outputs": [
    {
     "data": {
      "text/plain": [
       "{'response_column': 'sales',\n",
       " 'name': 'knn',\n",
       " 'model_type': 'Regression',\n",
       " 'k': 5,\n",
       " 'id_column': 'id',\n",
       " 'voting_weight': 1.0,\n",
       " 'persist': False,\n",
       " 'max_models': 1}"
      ]
     },
     "execution_count": 19,
     "metadata": {},
     "output_type": "execute_result"
    }
   ],
   "source": [
    "aml.model_hyperparameters(rank=1)"
   ]
  },
  {
   "cell_type": "code",
   "execution_count": 20,
   "id": "34e5587e-4e71-433a-abd1-3e036daa0882",
   "metadata": {
    "tags": []
   },
   "outputs": [
    {
     "data": {
      "text/plain": [
       "{'response_column': 'sales',\n",
       " 'name': 'svm',\n",
       " 'model_type': 'regression',\n",
       " 'lambda1': 0.1,\n",
       " 'alpha': 0.85,\n",
       " 'tolerance': 0.01,\n",
       " 'learning_rate': 'Invtime',\n",
       " 'initial_eta': 0.1,\n",
       " 'momentum': 0.95,\n",
       " 'nesterov': True,\n",
       " 'intercept': True,\n",
       " 'iter_num_no_change': 5,\n",
       " 'local_sgd_iterations ': 10,\n",
       " 'iter_max': 300,\n",
       " 'batch_size': 20,\n",
       " 'persist': False,\n",
       " 'max_models': 1}"
      ]
     },
     "execution_count": 20,
     "metadata": {},
     "output_type": "execute_result"
    }
   ],
   "source": [
    "aml.model_hyperparameters(rank=6)"
   ]
  },
  {
   "cell_type": "markdown",
   "id": "06e917db-9176-460f-825f-6f53d61e4581",
   "metadata": {},
   "source": [
    "## <b><span style='color:#F1A424'>| 6.</span> Generate Prediction and Performance Metrics : </b>"
   ]
  },
  {
   "cell_type": "code",
   "execution_count": 21,
   "id": "5b6edfe3-bd5a-46bd-ad80-b20fadfed7a0",
   "metadata": {},
   "outputs": [
    {
     "name": "stdout",
     "output_type": "stream",
     "text": [
      "Data Transformation started ...\n",
      "                                                                                                \r"
     ]
    },
    {
     "data": {
      "text/html": [
       "Performing transformation carried out in feature engineering phase ..."
      ],
      "text/plain": [
       "<IPython.core.display.HTML object>"
      ]
     },
     "metadata": {},
     "output_type": "display_data"
    },
    {
     "name": "stdout",
     "output_type": "stream",
     "text": [
      "                                                                                                 \r"
     ]
    },
    {
     "data": {
      "text/html": [
       "Performing transformation carried out in data preparation phase ..."
      ],
      "text/plain": [
       "<IPython.core.display.HTML object>"
      ]
     },
     "metadata": {},
     "output_type": "display_data"
    },
    {
     "name": "stdout",
     "output_type": "stream",
     "text": [
      "                                                                                                 \r"
     ]
    },
    {
     "data": {
      "text/html": [
       "\n",
       "Updated dataset after performing Lasso feature selection:"
      ],
      "text/plain": [
       "<IPython.core.display.HTML object>"
      ]
     },
     "metadata": {},
     "output_type": "display_data"
    },
    {
     "data": {
      "text/html": [
       "<style type=\"text/css\">\n",
       "\ttable {border:ridge 5px;}\n",
       "\ttable td {border:inset 1px;}\n",
       "\ttable tr#HeaderRow {background-color:grey; color:white;}</style>\n",
       "<html><table>\n",
       "\t<tr id=\"HeaderRow\">\n",
       "\t\t<th>id</th>\n",
       "\t\t<th>TV</th>\n",
       "\t\t<th>radio</th>\n",
       "\t\t<th>newspaper</th>\n",
       "\t\t<th>sales</th>\n",
       "\t</tr>\n",
       "\t<tr>\n",
       "\t\t<td>26</td>\n",
       "\t\t<td>90.4</td>\n",
       "\t\t<td>0.3</td>\n",
       "\t\t<td>23.2</td>\n",
       "\t\t<td>12.0</td>\n",
       "\t</tr>\n",
       "\t<tr>\n",
       "\t\t<td>17</td>\n",
       "\t\t<td>97.5</td>\n",
       "\t\t<td>7.6</td>\n",
       "\t\t<td>7.2</td>\n",
       "\t\t<td>13.7</td>\n",
       "\t</tr>\n",
       "\t<tr>\n",
       "\t\t<td>34</td>\n",
       "\t\t<td>193.2</td>\n",
       "\t\t<td>18.4</td>\n",
       "\t\t<td>65.7</td>\n",
       "\t\t<td>20.2</td>\n",
       "\t</tr>\n",
       "\t<tr>\n",
       "\t\t<td>50</td>\n",
       "\t\t<td>44.7</td>\n",
       "\t\t<td>25.8</td>\n",
       "\t\t<td>20.6</td>\n",
       "\t\t<td>10.1</td>\n",
       "\t</tr>\n",
       "\t<tr>\n",
       "\t\t<td>36</td>\n",
       "\t\t<td>74.7</td>\n",
       "\t\t<td>49.4</td>\n",
       "\t\t<td>45.7</td>\n",
       "\t\t<td>14.7</td>\n",
       "\t</tr>\n",
       "\t<tr>\n",
       "\t\t<td>40</td>\n",
       "\t\t<td>26.8</td>\n",
       "\t\t<td>33.0</td>\n",
       "\t\t<td>19.3</td>\n",
       "\t\t<td>8.8</td>\n",
       "\t</tr>\n",
       "\t<tr>\n",
       "\t\t<td>22</td>\n",
       "\t\t<td>184.9</td>\n",
       "\t\t<td>43.9</td>\n",
       "\t\t<td>1.7</td>\n",
       "\t\t<td>20.7</td>\n",
       "\t</tr>\n",
       "\t<tr>\n",
       "\t\t<td>15</td>\n",
       "\t\t<td>163.3</td>\n",
       "\t\t<td>31.6</td>\n",
       "\t\t<td>52.9</td>\n",
       "\t\t<td>16.9</td>\n",
       "\t</tr>\n",
       "\t<tr>\n",
       "\t\t<td>32</td>\n",
       "\t\t<td>116.0</td>\n",
       "\t\t<td>7.7</td>\n",
       "\t\t<td>23.1</td>\n",
       "\t\t<td>11.0</td>\n",
       "\t</tr>\n",
       "\t<tr>\n",
       "\t\t<td>19</td>\n",
       "\t\t<td>215.4</td>\n",
       "\t\t<td>23.6</td>\n",
       "\t\t<td>57.6</td>\n",
       "\t\t<td>17.1</td>\n",
       "\t</tr>\n",
       "</table></html>"
      ],
      "text/plain": [
       "       TV  radio  newspaper  sales\n",
       "id                                \n",
       "26   90.4    0.3       23.2   12.0\n",
       "17   97.5    7.6        7.2   13.7\n",
       "34  193.2   18.4       65.7   20.2\n",
       "50   44.7   25.8       20.6   10.1\n",
       "36   74.7   49.4       45.7   14.7\n",
       "40   26.8   33.0       19.3    8.8\n",
       "22  184.9   43.9        1.7   20.7\n",
       "15  163.3   31.6       52.9   16.9\n",
       "32  116.0    7.7       23.1   11.0\n",
       "19  215.4   23.6       57.6   17.1"
      ]
     },
     "metadata": {},
     "output_type": "display_data"
    },
    {
     "name": "stdout",
     "output_type": "stream",
     "text": [
      "                                                                                                 \r"
     ]
    },
    {
     "data": {
      "text/html": [
       "40 rows X 5 columns"
      ],
      "text/plain": [
       "<IPython.core.display.HTML object>"
      ]
     },
     "metadata": {},
     "output_type": "display_data"
    },
    {
     "name": "stdout",
     "output_type": "stream",
     "text": [
      "                                                                                                 \r"
     ]
    },
    {
     "data": {
      "text/html": [
       "\n",
       "Updated dataset after performing scaling on Lasso selected features :"
      ],
      "text/plain": [
       "<IPython.core.display.HTML object>"
      ]
     },
     "metadata": {},
     "output_type": "display_data"
    },
    {
     "data": {
      "text/html": [
       "<style type=\"text/css\">\n",
       "\ttable {border:ridge 5px;}\n",
       "\ttable td {border:inset 1px;}\n",
       "\ttable tr#HeaderRow {background-color:grey; color:white;}</style>\n",
       "<html><table>\n",
       "\t<tr id=\"HeaderRow\">\n",
       "\t\t<th>sales</th>\n",
       "\t\t<th>id</th>\n",
       "\t\t<th>TV</th>\n",
       "\t\t<th>radio</th>\n",
       "\t\t<th>newspaper</th>\n",
       "\t</tr>\n",
       "\t<tr>\n",
       "\t\t<td>17.1</td>\n",
       "\t\t<td>19</td>\n",
       "\t\t<td>0.7923050445354327</td>\n",
       "\t\t<td>0.02354185589696389</td>\n",
       "\t\t<td>1.3716589983934642</td>\n",
       "\t</tr>\n",
       "\t<tr>\n",
       "\t\t<td>13.7</td>\n",
       "\t\t<td>17</td>\n",
       "\t\t<td>-0.5653387142598207</td>\n",
       "\t\t<td>-1.0430139094708544</td>\n",
       "\t\t<td>-1.0811378524119863</td>\n",
       "\t</tr>\n",
       "\t<tr>\n",
       "\t\t<td>20.2</td>\n",
       "\t\t<td>34</td>\n",
       "\t\t<td>0.5366672884264027</td>\n",
       "\t\t<td>-0.3230887678475772</td>\n",
       "\t\t<td>1.7658584922729115</td>\n",
       "\t</tr>\n",
       "\t<tr>\n",
       "\t\t<td>17.4</td>\n",
       "\t\t<td>38</td>\n",
       "\t\t<td>0.7842443945680307</td>\n",
       "\t\t<td>0.05020575003115925</td>\n",
       "\t\t<td>-1.2368709857964593</td>\n",
       "\t</tr>\n",
       "\t<tr>\n",
       "\t\t<td>15.6</td>\n",
       "\t\t<td>61</td>\n",
       "\t\t<td>0.6126677024047632</td>\n",
       "\t\t<td>-1.3763125861482972</td>\n",
       "\t\t<td>-0.3998053938549167</td>\n",
       "\t</tr>\n",
       "\t<tr>\n",
       "\t\t<td>14.7</td>\n",
       "\t\t<td>36</td>\n",
       "\t\t<td>-0.8278855989123379</td>\n",
       "\t\t<td>1.7433630275525702</td>\n",
       "\t\t<td>0.7925264086199552</td>\n",
       "\t</tr>\n",
       "\t<tr>\n",
       "\t\t<td>10.1</td>\n",
       "\t\t<td>50</td>\n",
       "\t\t<td>-1.1733420260867027</td>\n",
       "\t\t<td>0.17019327363503883</td>\n",
       "\t\t<td>-0.4290053563645053</td>\n",
       "\t</tr>\n",
       "\t<tr>\n",
       "\t\t<td>16.9</td>\n",
       "\t\t<td>15</td>\n",
       "\t\t<td>0.19236238267595274</td>\n",
       "\t\t<td>0.556819738580873</td>\n",
       "\t\t<td>1.1429259587350191</td>\n",
       "\t</tr>\n",
       "\t<tr>\n",
       "\t\t<td>11.0</td>\n",
       "\t\t<td>32</td>\n",
       "\t\t<td>-0.35230725083562914</td>\n",
       "\t\t<td>-1.0363479359373053</td>\n",
       "\t\t<td>-0.30733884590788574</td>\n",
       "\t</tr>\n",
       "\t<tr>\n",
       "\t\t<td>8.8</td>\n",
       "\t\t<td>40</td>\n",
       "\t\t<td>-1.379464360967407</td>\n",
       "\t\t<td>0.650143368050557</td>\n",
       "\t\t<td>-0.4922719418019475</td>\n",
       "\t</tr>\n",
       "</table></html>"
      ],
      "text/plain": [
       "   sales  id        TV     radio  newspaper\n",
       "0   17.1  19  0.792305  0.023542   1.371659\n",
       "1   13.7  17 -0.565339 -1.043014  -1.081138\n",
       "2   20.2  34  0.536667 -0.323089   1.765858\n",
       "3   17.4  38  0.784244  0.050206  -1.236871\n",
       "4   15.6  61  0.612668 -1.376313  -0.399805\n",
       "5   14.7  36 -0.827886  1.743363   0.792526\n",
       "6   10.1  50 -1.173342  0.170193  -0.429005\n",
       "7   16.9  15  0.192362  0.556820   1.142926\n",
       "8   11.0  32 -0.352307 -1.036348  -0.307339\n",
       "9    8.8  40 -1.379464  0.650143  -0.492272"
      ]
     },
     "metadata": {},
     "output_type": "display_data"
    },
    {
     "name": "stdout",
     "output_type": "stream",
     "text": [
      "                                                                                                 \r"
     ]
    },
    {
     "data": {
      "text/html": [
       "40 rows X 5 columns"
      ],
      "text/plain": [
       "<IPython.core.display.HTML object>"
      ]
     },
     "metadata": {},
     "output_type": "display_data"
    },
    {
     "name": "stdout",
     "output_type": "stream",
     "text": [
      "                                                                                                 \r"
     ]
    },
    {
     "data": {
      "text/html": [
       "\n",
       "Updated dataset after performing RFE feature selection:"
      ],
      "text/plain": [
       "<IPython.core.display.HTML object>"
      ]
     },
     "metadata": {},
     "output_type": "display_data"
    },
    {
     "data": {
      "text/html": [
       "<style type=\"text/css\">\n",
       "\ttable {border:ridge 5px;}\n",
       "\ttable td {border:inset 1px;}\n",
       "\ttable tr#HeaderRow {background-color:grey; color:white;}</style>\n",
       "<html><table>\n",
       "\t<tr id=\"HeaderRow\">\n",
       "\t\t<th>id</th>\n",
       "\t\t<th>TV</th>\n",
       "\t\t<th>radio</th>\n",
       "\t\t<th>sales</th>\n",
       "\t</tr>\n",
       "\t<tr>\n",
       "\t\t<td>38</td>\n",
       "\t\t<td>214.7</td>\n",
       "\t\t<td>24.0</td>\n",
       "\t\t<td>17.4</td>\n",
       "\t</tr>\n",
       "\t<tr>\n",
       "\t\t<td>19</td>\n",
       "\t\t<td>215.4</td>\n",
       "\t\t<td>23.6</td>\n",
       "\t\t<td>17.1</td>\n",
       "\t</tr>\n",
       "\t<tr>\n",
       "\t\t<td>53</td>\n",
       "\t\t<td>75.1</td>\n",
       "\t\t<td>35.0</td>\n",
       "\t\t<td>12.6</td>\n",
       "\t</tr>\n",
       "\t<tr>\n",
       "\t\t<td>40</td>\n",
       "\t\t<td>26.8</td>\n",
       "\t\t<td>33.0</td>\n",
       "\t\t<td>8.8</td>\n",
       "\t</tr>\n",
       "\t<tr>\n",
       "\t\t<td>61</td>\n",
       "\t\t<td>199.8</td>\n",
       "\t\t<td>2.6</td>\n",
       "\t\t<td>15.6</td>\n",
       "\t</tr>\n",
       "\t<tr>\n",
       "\t\t<td>36</td>\n",
       "\t\t<td>74.7</td>\n",
       "\t\t<td>49.4</td>\n",
       "\t\t<td>14.7</td>\n",
       "\t</tr>\n",
       "\t<tr>\n",
       "\t\t<td>50</td>\n",
       "\t\t<td>44.7</td>\n",
       "\t\t<td>25.8</td>\n",
       "\t\t<td>10.1</td>\n",
       "\t</tr>\n",
       "\t<tr>\n",
       "\t\t<td>26</td>\n",
       "\t\t<td>90.4</td>\n",
       "\t\t<td>0.3</td>\n",
       "\t\t<td>12.0</td>\n",
       "\t</tr>\n",
       "\t<tr>\n",
       "\t\t<td>20</td>\n",
       "\t\t<td>262.7</td>\n",
       "\t\t<td>28.8</td>\n",
       "\t\t<td>20.2</td>\n",
       "\t</tr>\n",
       "\t<tr>\n",
       "\t\t<td>15</td>\n",
       "\t\t<td>163.3</td>\n",
       "\t\t<td>31.6</td>\n",
       "\t\t<td>16.9</td>\n",
       "\t</tr>\n",
       "</table></html>"
      ],
      "text/plain": [
       "       TV  radio  sales\n",
       "id                     \n",
       "38  214.7   24.0   17.4\n",
       "19  215.4   23.6   17.1\n",
       "53   75.1   35.0   12.6\n",
       "40   26.8   33.0    8.8\n",
       "61  199.8    2.6   15.6\n",
       "36   74.7   49.4   14.7\n",
       "50   44.7   25.8   10.1\n",
       "26   90.4    0.3   12.0\n",
       "20  262.7   28.8   20.2\n",
       "15  163.3   31.6   16.9"
      ]
     },
     "metadata": {},
     "output_type": "display_data"
    },
    {
     "name": "stdout",
     "output_type": "stream",
     "text": [
      "                                                                                                 \r"
     ]
    },
    {
     "data": {
      "text/html": [
       "40 rows X 4 columns"
      ],
      "text/plain": [
       "<IPython.core.display.HTML object>"
      ]
     },
     "metadata": {},
     "output_type": "display_data"
    },
    {
     "name": "stdout",
     "output_type": "stream",
     "text": [
      "                                                                                                 \r"
     ]
    },
    {
     "data": {
      "text/html": [
       "\n",
       "Updated dataset after performing scaling on RFE selected features :"
      ],
      "text/plain": [
       "<IPython.core.display.HTML object>"
      ]
     },
     "metadata": {},
     "output_type": "display_data"
    },
    {
     "data": {
      "text/html": [
       "<style type=\"text/css\">\n",
       "\ttable {border:ridge 5px;}\n",
       "\ttable td {border:inset 1px;}\n",
       "\ttable tr#HeaderRow {background-color:grey; color:white;}</style>\n",
       "<html><table>\n",
       "\t<tr id=\"HeaderRow\">\n",
       "\t\t<th>sales</th>\n",
       "\t\t<th>id</th>\n",
       "\t\t<th>r_TV</th>\n",
       "\t\t<th>r_radio</th>\n",
       "\t</tr>\n",
       "\t<tr>\n",
       "\t\t<td>10.1</td>\n",
       "\t\t<td>50</td>\n",
       "\t\t<td>-1.1733420260867027</td>\n",
       "\t\t<td>0.17019327363503883</td>\n",
       "\t</tr>\n",
       "\t<tr>\n",
       "\t\t<td>20.7</td>\n",
       "\t\t<td>22</td>\n",
       "\t\t<td>0.4410910102414953</td>\n",
       "\t\t<td>1.376734483207383</td>\n",
       "\t</tr>\n",
       "\t<tr>\n",
       "\t\t<td>12.0</td>\n",
       "\t\t<td>26</td>\n",
       "\t\t<td>-0.6470967353577537</td>\n",
       "\t\t<td>-1.5296299774199211</td>\n",
       "\t</tr>\n",
       "\t<tr>\n",
       "\t\t<td>20.2</td>\n",
       "\t\t<td>20</td>\n",
       "\t\t<td>1.3369746780470142</td>\n",
       "\t\t<td>0.37017247964150474</td>\n",
       "\t</tr>\n",
       "\t<tr>\n",
       "\t\t<td>8.4</td>\n",
       "\t\t<td>12</td>\n",
       "\t\t<td>-1.1123113906192317</td>\n",
       "\t\t<td>-0.7763749681288997</td>\n",
       "\t</tr>\n",
       "\t<tr>\n",
       "\t\t<td>17.1</td>\n",
       "\t\t<td>19</td>\n",
       "\t\t<td>0.7923050445354327</td>\n",
       "\t\t<td>0.02354185589696389</td>\n",
       "\t</tr>\n",
       "\t<tr>\n",
       "\t\t<td>12.6</td>\n",
       "\t\t<td>53</td>\n",
       "\t\t<td>-0.8232795132166798</td>\n",
       "\t\t<td>0.7834628387215342</td>\n",
       "\t</tr>\n",
       "\t<tr>\n",
       "\t\t<td>15.6</td>\n",
       "\t\t<td>61</td>\n",
       "\t\t<td>0.6126677024047632</td>\n",
       "\t\t<td>-1.3763125861482972</td>\n",
       "\t</tr>\n",
       "\t<tr>\n",
       "\t\t<td>14.7</td>\n",
       "\t\t<td>36</td>\n",
       "\t\t<td>-0.8278855989123379</td>\n",
       "\t\t<td>1.7433630275525702</td>\n",
       "\t</tr>\n",
       "\t<tr>\n",
       "\t\t<td>16.9</td>\n",
       "\t\t<td>15</td>\n",
       "\t\t<td>0.19236238267595274</td>\n",
       "\t\t<td>0.556819738580873</td>\n",
       "\t</tr>\n",
       "</table></html>"
      ],
      "text/plain": [
       "   sales  id      r_TV   r_radio\n",
       "0   10.1  50 -1.173342  0.170193\n",
       "1   20.7  22  0.441091  1.376734\n",
       "2   12.0  26 -0.647097 -1.529630\n",
       "3   20.2  20  1.336975  0.370172\n",
       "4    8.4  12 -1.112311 -0.776375\n",
       "5   17.1  19  0.792305  0.023542\n",
       "6   12.6  53 -0.823280  0.783463\n",
       "7   15.6  61  0.612668 -1.376313\n",
       "8   14.7  36 -0.827886  1.743363\n",
       "9   16.9  15  0.192362  0.556820"
      ]
     },
     "metadata": {},
     "output_type": "display_data"
    },
    {
     "name": "stdout",
     "output_type": "stream",
     "text": [
      "                                                                                                 \r"
     ]
    },
    {
     "data": {
      "text/html": [
       "40 rows X 4 columns"
      ],
      "text/plain": [
       "<IPython.core.display.HTML object>"
      ]
     },
     "metadata": {},
     "output_type": "display_data"
    },
    {
     "name": "stdout",
     "output_type": "stream",
     "text": [
      "                                                                                                 \r"
     ]
    },
    {
     "data": {
      "text/html": [
       "\n",
       "Updated dataset after performing scaling for PCA feature selection :"
      ],
      "text/plain": [
       "<IPython.core.display.HTML object>"
      ]
     },
     "metadata": {},
     "output_type": "display_data"
    },
    {
     "data": {
      "text/html": [
       "<style type=\"text/css\">\n",
       "\ttable {border:ridge 5px;}\n",
       "\ttable td {border:inset 1px;}\n",
       "\ttable tr#HeaderRow {background-color:grey; color:white;}</style>\n",
       "<html><table>\n",
       "\t<tr id=\"HeaderRow\">\n",
       "\t\t<th>sales</th>\n",
       "\t\t<th>id</th>\n",
       "\t\t<th>TV</th>\n",
       "\t\t<th>radio</th>\n",
       "\t\t<th>newspaper</th>\n",
       "\t</tr>\n",
       "\t<tr>\n",
       "\t\t<td>8.4</td>\n",
       "\t\t<td>12</td>\n",
       "\t\t<td>-1.1123113906192308</td>\n",
       "\t\t<td>-0.7763749681288997</td>\n",
       "\t\t<td>-0.5360718855663307</td>\n",
       "\t</tr>\n",
       "\t<tr>\n",
       "\t\t<td>12.6</td>\n",
       "\t\t<td>53</td>\n",
       "\t\t<td>-0.8232795132166789</td>\n",
       "\t\t<td>0.7834628387215337</td>\n",
       "\t\t<td>1.1331926378984898</td>\n",
       "\t</tr>\n",
       "\t<tr>\n",
       "\t\t<td>16.9</td>\n",
       "\t\t<td>15</td>\n",
       "\t\t<td>0.19236238267595374</td>\n",
       "\t\t<td>0.5568197385808725</td>\n",
       "\t\t<td>1.1429259587350191</td>\n",
       "\t</tr>\n",
       "\t<tr>\n",
       "\t\t<td>11.0</td>\n",
       "\t\t<td>32</td>\n",
       "\t\t<td>-0.3523072508356282</td>\n",
       "\t\t<td>-1.0363479359373053</td>\n",
       "\t\t<td>-0.30733884590788574</td>\n",
       "\t</tr>\n",
       "\t<tr>\n",
       "\t\t<td>14.7</td>\n",
       "\t\t<td>36</td>\n",
       "\t\t<td>-0.827885598912337</td>\n",
       "\t\t<td>1.7433630275525696</td>\n",
       "\t\t<td>0.7925264086199552</td>\n",
       "\t</tr>\n",
       "\t<tr>\n",
       "\t\t<td>12.0</td>\n",
       "\t\t<td>26</td>\n",
       "\t\t<td>-0.6470967353577528</td>\n",
       "\t\t<td>-1.529629977419921</td>\n",
       "\t\t<td>-0.30247218548962107</td>\n",
       "\t</tr>\n",
       "\t<tr>\n",
       "\t\t<td>20.2</td>\n",
       "\t\t<td>20</td>\n",
       "\t\t<td>1.3369746780470155</td>\n",
       "\t\t<td>0.37017247964150435</td>\n",
       "\t\t<td>-0.6577383960229501</td>\n",
       "\t</tr>\n",
       "\t<tr>\n",
       "\t\t<td>13.7</td>\n",
       "\t\t<td>17</td>\n",
       "\t\t<td>-0.5653387142598199</td>\n",
       "\t\t<td>-1.0430139094708542</td>\n",
       "\t\t<td>-1.0811378524119863</td>\n",
       "\t</tr>\n",
       "\t<tr>\n",
       "\t\t<td>20.2</td>\n",
       "\t\t<td>34</td>\n",
       "\t\t<td>0.5366672884264038</td>\n",
       "\t\t<td>-0.3230887678475773</td>\n",
       "\t\t<td>1.7658584922729115</td>\n",
       "\t</tr>\n",
       "\t<tr>\n",
       "\t\t<td>8.8</td>\n",
       "\t\t<td>40</td>\n",
       "\t\t<td>-1.3794643609674062</td>\n",
       "\t\t<td>0.6501433680505564</td>\n",
       "\t\t<td>-0.4922719418019475</td>\n",
       "\t</tr>\n",
       "</table></html>"
      ],
      "text/plain": [
       "   sales  id        TV     radio  newspaper\n",
       "0    8.4  12 -1.112311 -0.776375  -0.536072\n",
       "1   12.6  53 -0.823280  0.783463   1.133193\n",
       "2   16.9  15  0.192362  0.556820   1.142926\n",
       "3   11.0  32 -0.352307 -1.036348  -0.307339\n",
       "4   14.7  36 -0.827886  1.743363   0.792526\n",
       "5   12.0  26 -0.647097 -1.529630  -0.302472\n",
       "6   20.2  20  1.336975  0.370172  -0.657738\n",
       "7   13.7  17 -0.565339 -1.043014  -1.081138\n",
       "8   20.2  34  0.536667 -0.323089   1.765858\n",
       "9    8.8  40 -1.379464  0.650143  -0.492272"
      ]
     },
     "metadata": {},
     "output_type": "display_data"
    },
    {
     "name": "stdout",
     "output_type": "stream",
     "text": [
      "                                                                                                 \r"
     ]
    },
    {
     "data": {
      "text/html": [
       "40 rows X 5 columns"
      ],
      "text/plain": [
       "<IPython.core.display.HTML object>"
      ]
     },
     "metadata": {},
     "output_type": "display_data"
    },
    {
     "name": "stdout",
     "output_type": "stream",
     "text": [
      "                                                                                                 \r"
     ]
    },
    {
     "name": "stderr",
     "output_type": "stream",
     "text": [
      "C:\\ProgramData\\anaconda3\\lib\\site-packages\\sklearn\\base.py:450: UserWarning: X does not have valid feature names, but PCA was fitted with feature names\n",
      "  warnings.warn(\n"
     ]
    },
    {
     "data": {
      "text/html": [
       "\n",
       "Updated dataset after performing PCA feature selection :"
      ],
      "text/plain": [
       "<IPython.core.display.HTML object>"
      ]
     },
     "metadata": {},
     "output_type": "display_data"
    },
    {
     "data": {
      "text/html": [
       "<div>\n",
       "<style scoped>\n",
       "    .dataframe tbody tr th:only-of-type {\n",
       "        vertical-align: middle;\n",
       "    }\n",
       "\n",
       "    .dataframe tbody tr th {\n",
       "        vertical-align: top;\n",
       "    }\n",
       "\n",
       "    .dataframe thead th {\n",
       "        text-align: right;\n",
       "    }\n",
       "</style>\n",
       "<table border=\"1\" class=\"dataframe\">\n",
       "  <thead>\n",
       "    <tr style=\"text-align: right;\">\n",
       "      <th></th>\n",
       "      <th>id</th>\n",
       "      <th>col_0</th>\n",
       "      <th>col_1</th>\n",
       "      <th>col_2</th>\n",
       "      <th>sales</th>\n",
       "    </tr>\n",
       "  </thead>\n",
       "  <tbody>\n",
       "    <tr>\n",
       "      <th>0</th>\n",
       "      <td>26</td>\n",
       "      <td>-1.357221</td>\n",
       "      <td>0.590556</td>\n",
       "      <td>0.811902</td>\n",
       "      <td>12.0</td>\n",
       "    </tr>\n",
       "    <tr>\n",
       "      <th>1</th>\n",
       "      <td>17</td>\n",
       "      <td>-1.550588</td>\n",
       "      <td>0.408650</td>\n",
       "      <td>-0.070888</td>\n",
       "      <td>13.7</td>\n",
       "    </tr>\n",
       "    <tr>\n",
       "      <th>2</th>\n",
       "      <td>40</td>\n",
       "      <td>-0.022315</td>\n",
       "      <td>1.305557</td>\n",
       "      <td>-0.928958</td>\n",
       "      <td>8.8</td>\n",
       "    </tr>\n",
       "    <tr>\n",
       "      <th>3</th>\n",
       "      <td>19</td>\n",
       "      <td>1.056096</td>\n",
       "      <td>-0.601551</td>\n",
       "      <td>1.016143</td>\n",
       "      <td>17.1</td>\n",
       "    </tr>\n",
       "    <tr>\n",
       "      <th>4</th>\n",
       "      <td>38</td>\n",
       "      <td>-0.752983</td>\n",
       "      <td>-0.942275</td>\n",
       "      <td>-0.832192</td>\n",
       "      <td>17.4</td>\n",
       "    </tr>\n",
       "    <tr>\n",
       "      <th>5</th>\n",
       "      <td>50</td>\n",
       "      <td>-0.296741</td>\n",
       "      <td>1.106535</td>\n",
       "      <td>-0.526563</td>\n",
       "      <td>10.1</td>\n",
       "    </tr>\n",
       "    <tr>\n",
       "      <th>6</th>\n",
       "      <td>61</td>\n",
       "      <td>-1.191921</td>\n",
       "      <td>-0.669852</td>\n",
       "      <td>0.748375</td>\n",
       "      <td>15.6</td>\n",
       "    </tr>\n",
       "    <tr>\n",
       "      <th>7</th>\n",
       "      <td>15</td>\n",
       "      <td>1.213199</td>\n",
       "      <td>-0.034030</td>\n",
       "      <td>0.424642</td>\n",
       "      <td>16.9</td>\n",
       "    </tr>\n",
       "    <tr>\n",
       "      <th>8</th>\n",
       "      <td>20</td>\n",
       "      <td>-0.066297</td>\n",
       "      <td>-1.410422</td>\n",
       "      <td>-0.602879</td>\n",
       "      <td>20.2</td>\n",
       "    </tr>\n",
       "    <tr>\n",
       "      <th>9</th>\n",
       "      <td>34</td>\n",
       "      <td>1.061835</td>\n",
       "      <td>-0.297816</td>\n",
       "      <td>1.514750</td>\n",
       "      <td>20.2</td>\n",
       "    </tr>\n",
       "  </tbody>\n",
       "</table>\n",
       "</div>"
      ],
      "text/plain": [
       "   id     col_0     col_1     col_2  sales\n",
       "0  26 -1.357221  0.590556  0.811902   12.0\n",
       "1  17 -1.550588  0.408650 -0.070888   13.7\n",
       "2  40 -0.022315  1.305557 -0.928958    8.8\n",
       "3  19  1.056096 -0.601551  1.016143   17.1\n",
       "4  38 -0.752983 -0.942275 -0.832192   17.4\n",
       "5  50 -0.296741  1.106535 -0.526563   10.1\n",
       "6  61 -1.191921 -0.669852  0.748375   15.6\n",
       "7  15  1.213199 -0.034030  0.424642   16.9\n",
       "8  20 -0.066297 -1.410422 -0.602879   20.2\n",
       "9  34  1.061835 -0.297816  1.514750   20.2"
      ]
     },
     "metadata": {},
     "output_type": "display_data"
    },
    {
     "name": "stdout",
     "output_type": "stream",
     "text": [
      "                                                                                                 \r"
     ]
    },
    {
     "data": {
      "text/html": [
       "10 rows X 5 columns"
      ],
      "text/plain": [
       "<IPython.core.display.HTML object>"
      ]
     },
     "metadata": {},
     "output_type": "display_data"
    },
    {
     "name": "stdout",
     "output_type": "stream",
     "text": [
      "Data Transformation completed.⫿⫿⫿⫿⫿⫿⫿⫿⫿⫿⫿⫿⫿⫿⫿⫿⫿⫿⫿⫿⫿⫿⫿⫿⫿⫿⫿⫿⫿⫿⫿⫿⫿⫿⫿⫿⫿⫿⫿⫿⫿⫿｜ 100% - 10/10           \n",
      "\n",
      "Following model is being picked for evaluation:\n",
      "Model ID : KNN_1 \n",
      "Feature Selection Method : rfe\n",
      "\n",
      "Prediction : \n",
      "   id  prediction  sales\n",
      "0  50    9.812579   10.1\n",
      "1  31   21.510660   22.1\n",
      "2   9    6.768630    5.3\n",
      "3  11   10.079512    9.7\n",
      "4  19   18.220002   17.1\n",
      "5  12    9.065966    8.4\n",
      "6  29   15.395922   15.0\n",
      "7  22   20.321686   20.7\n",
      "8  27   17.052169   17.3\n",
      "9  10   16.157814   15.0\n"
     ]
    }
   ],
   "source": [
    "# Generating prediction on test data\n",
    "prediction = aml.predict(advertising_df_test)"
   ]
  },
  {
   "cell_type": "code",
   "execution_count": 22,
   "id": "cc4f6a78-1cdf-4938-a9f1-22035d8404ca",
   "metadata": {},
   "outputs": [
    {
     "data": {
      "text/html": [
       "<style type=\"text/css\">\n",
       "\ttable {border:ridge 5px;}\n",
       "\ttable td {border:inset 1px;}\n",
       "\ttable tr#HeaderRow {background-color:grey; color:white;}</style>\n",
       "<html><table>\n",
       "\t<tr id=\"HeaderRow\">\n",
       "\t\t<th>id</th>\n",
       "\t\t<th>prediction</th>\n",
       "\t\t<th>sales</th>\n",
       "\t</tr>\n",
       "\t<tr>\n",
       "\t\t<td>10</td>\n",
       "\t\t<td>16.157814111588326</td>\n",
       "\t\t<td>15.0</td>\n",
       "\t</tr>\n",
       "\t<tr>\n",
       "\t\t<td>12</td>\n",
       "\t\t<td>9.0659655106987</td>\n",
       "\t\t<td>8.4</td>\n",
       "\t</tr>\n",
       "\t<tr>\n",
       "\t\t<td>13</td>\n",
       "\t\t<td>19.13738291457226</td>\n",
       "\t\t<td>19.8</td>\n",
       "\t</tr>\n",
       "\t<tr>\n",
       "\t\t<td>14</td>\n",
       "\t\t<td>14.705908499739252</td>\n",
       "\t\t<td>16.7</td>\n",
       "\t</tr>\n",
       "\t<tr>\n",
       "\t\t<td>16</td>\n",
       "\t\t<td>25.001314655214472</td>\n",
       "\t\t<td>25.4</td>\n",
       "\t</tr>\n",
       "\t<tr>\n",
       "\t\t<td>17</td>\n",
       "\t\t<td>11.504256988260126</td>\n",
       "\t\t<td>13.7</td>\n",
       "\t</tr>\n",
       "\t<tr>\n",
       "\t\t<td>15</td>\n",
       "\t\t<td>17.509759880137405</td>\n",
       "\t\t<td>16.9</td>\n",
       "\t</tr>\n",
       "\t<tr>\n",
       "\t\t<td>11</td>\n",
       "\t\t<td>10.079512321579701</td>\n",
       "\t\t<td>9.7</td>\n",
       "\t</tr>\n",
       "\t<tr>\n",
       "\t\t<td>9</td>\n",
       "\t\t<td>6.768630177714757</td>\n",
       "\t\t<td>5.3</td>\n",
       "\t</tr>\n",
       "\t<tr>\n",
       "\t\t<td>8</td>\n",
       "\t\t<td>11.54693435338136</td>\n",
       "\t\t<td>12.3</td>\n",
       "\t</tr>\n",
       "</table></html>"
      ],
      "text/plain": [
       "   id  prediction  sales\n",
       "0  10   16.157814   15.0\n",
       "1  12    9.065966    8.4\n",
       "2  13   19.137383   19.8\n",
       "3  14   14.705908   16.7\n",
       "4  16   25.001315   25.4\n",
       "5  17   11.504257   13.7\n",
       "6  15   17.509760   16.9\n",
       "7  11   10.079512    9.7\n",
       "8   9    6.768630    5.3\n",
       "9   8   11.546934   12.3"
      ]
     },
     "execution_count": 22,
     "metadata": {},
     "output_type": "execute_result"
    }
   ],
   "source": [
    "# Printing prediction\n",
    "prediction.head()"
   ]
  },
  {
   "cell_type": "code",
   "execution_count": 23,
   "id": "61fdd9b8-3bf0-4667-8eea-650d7e53c9bf",
   "metadata": {},
   "outputs": [
    {
     "name": "stdout",
     "output_type": "stream",
     "text": [
      "\n",
      "Skipping data transformation as data is already transformed.\n",
      "\n",
      "Following model is being picked for evaluation:\n",
      "Model ID : KNN_1 \n",
      "Feature Selection Method : rfe\n",
      "\n",
      "Performance Metrics : \n",
      "        MAE       MSE      MSLE      MAPE       MPE      RMSE     RMSLE        ME        R2        EV       MPD       MGD\n",
      "0  0.769864  1.211314  0.005557  5.740164 -1.300162  1.100597  0.074542  3.659037  0.944181  0.944228  0.083424  0.006497\n"
     ]
    }
   ],
   "source": [
    "# Fetching performance metrics on test data\n",
    "performance_metrics = aml.evaluate(advertising_df_test)"
   ]
  },
  {
   "cell_type": "code",
   "execution_count": 24,
   "id": "c3ed46c8-ab86-4f6f-87cc-c83468850c57",
   "metadata": {},
   "outputs": [
    {
     "data": {
      "text/html": [
       "<style type=\"text/css\">\n",
       "\ttable {border:ridge 5px;}\n",
       "\ttable td {border:inset 1px;}\n",
       "\ttable tr#HeaderRow {background-color:grey; color:white;}</style>\n",
       "<html><table>\n",
       "\t<tr id=\"HeaderRow\">\n",
       "\t\t<th>MAE</th>\n",
       "\t\t<th>MSE</th>\n",
       "\t\t<th>MSLE</th>\n",
       "\t\t<th>MAPE</th>\n",
       "\t\t<th>MPE</th>\n",
       "\t\t<th>RMSE</th>\n",
       "\t\t<th>RMSLE</th>\n",
       "\t\t<th>ME</th>\n",
       "\t\t<th>R2</th>\n",
       "\t\t<th>EV</th>\n",
       "\t\t<th>MPD</th>\n",
       "\t\t<th>MGD</th>\n",
       "\t</tr>\n",
       "\t<tr>\n",
       "\t\t<td>0.7698635441558909</td>\n",
       "\t\t<td>1.211313586316475</td>\n",
       "\t\t<td>0.005556527656556923</td>\n",
       "\t\t<td>5.7401637875750335</td>\n",
       "\t\t<td>-1.3001624758960495</td>\n",
       "\t\t<td>1.1005969227271513</td>\n",
       "\t\t<td>0.07454212001651767</td>\n",
       "\t\t<td>3.659037020496342</td>\n",
       "\t\t<td>0.9441812677759833</td>\n",
       "\t\t<td>0.9442278396368365</td>\n",
       "\t\t<td>0.0834239773247259</td>\n",
       "\t\t<td>0.006497375514069148</td>\n",
       "\t</tr>\n",
       "</table></html>"
      ],
      "text/plain": [
       "        MAE       MSE      MSLE      MAPE       MPE      RMSE     RMSLE        ME        R2        EV       MPD       MGD\n",
       "0  0.769864  1.211314  0.005557  5.740164 -1.300162  1.100597  0.074542  3.659037  0.944181  0.944228  0.083424  0.006497"
      ]
     },
     "execution_count": 24,
     "metadata": {},
     "output_type": "execute_result"
    }
   ],
   "source": [
    "performance_metrics"
   ]
  },
  {
   "cell_type": "markdown",
   "id": "e4273ed0-0048-4de0-9da8-6f1ce2eb03ed",
   "metadata": {},
   "source": [
    "## <b><span style='color:#F1A424'>| 7.</span> Deploy Trained Model : </b>"
   ]
  },
  {
   "cell_type": "markdown",
   "id": "5ef774e0-414e-472a-ad87-4ac726e4ef6d",
   "metadata": {},
   "source": [
    "#### 7.1. Deploy top 5 models"
   ]
  },
  {
   "cell_type": "code",
   "execution_count": 25,
   "id": "a06f0f10-e327-4238-ac6e-68d5e68106c7",
   "metadata": {
    "tags": []
   },
   "outputs": [
    {
     "name": "stdout",
     "output_type": "stream",
     "text": [
      "Model Deployment Completed Successfully.\n"
     ]
    }
   ],
   "source": [
    "aml.deploy(table_name='Advertising_top_5_models', top_n=5)"
   ]
  },
  {
   "cell_type": "code",
   "execution_count": null,
   "id": "635fcb68-03c4-4a7e-bff8-c36038d58a6f",
   "metadata": {},
   "outputs": [],
   "source": []
  },
  {
   "cell_type": "markdown",
   "id": "2b41a7fe-9dc2-4e77-8dce-533d0d132fa9",
   "metadata": {},
   "source": [
    "#### 7.2. Deploy models using list of model ranks"
   ]
  },
  {
   "cell_type": "code",
   "execution_count": 26,
   "id": "76da42ea-fa1f-4252-bd96-110b22543d6f",
   "metadata": {},
   "outputs": [
    {
     "name": "stdout",
     "output_type": "stream",
     "text": [
      "Model Deployment Completed Successfully.\n"
     ]
    }
   ],
   "source": [
    "aml.deploy(table_name='Advertising_mixed_models', ranks=[2, 4, 5])"
   ]
  },
  {
   "cell_type": "code",
   "execution_count": null,
   "id": "4b92b64f-bf8e-4222-a90a-a93bf4db1d69",
   "metadata": {},
   "outputs": [],
   "source": []
  },
  {
   "cell_type": "markdown",
   "id": "1bdd0433-96d6-4da2-a382-ddb8b5d7b9a0",
   "metadata": {},
   "source": [
    "#### 7.3. Deploy models using range of model rank"
   ]
  },
  {
   "cell_type": "code",
   "execution_count": 27,
   "id": "36ee6077-074e-4ff7-900c-34b8599d5b1f",
   "metadata": {
    "tags": []
   },
   "outputs": [
    {
     "name": "stdout",
     "output_type": "stream",
     "text": [
      "Model Deployment Completed Successfully.\n"
     ]
    }
   ],
   "source": [
    "aml.deploy(table_name='Advertising_range_models', ranks=range(2,7))"
   ]
  },
  {
   "cell_type": "code",
   "execution_count": null,
   "id": "7ae6d39d-92db-4ddb-9c10-009f582c5c19",
   "metadata": {},
   "outputs": [],
   "source": []
  },
  {
   "cell_type": "markdown",
   "id": "ed99d828-db5b-4b50-8cb4-06a9ca5f816f",
   "metadata": {},
   "source": [
    "##### Note: \n",
    " - After deployment, saved models can be loaded in same session or different session using table name. After loading models can be used for predict and evaluate. Please refer to notebook: `Regression__Advertisment_Sales_Prediction_Load_Models` for more details."
   ]
  },
  {
   "cell_type": "code",
   "execution_count": null,
   "id": "87a3e955-60bd-48b5-ad6f-a0b2b8c82627",
   "metadata": {},
   "outputs": [],
   "source": []
  },
  {
   "cell_type": "code",
   "execution_count": 28,
   "id": "b2cba357-75ac-4089-a234-64a57067b117",
   "metadata": {},
   "outputs": [
    {
     "data": {
      "text/plain": [
       "True"
      ]
     },
     "execution_count": 28,
     "metadata": {},
     "output_type": "execute_result"
    }
   ],
   "source": [
    "remove_context()"
   ]
  },
  {
   "cell_type": "code",
   "execution_count": null,
   "id": "9c50d6f8-5729-4198-b4cd-a859af5b6440",
   "metadata": {},
   "outputs": [],
   "source": []
  }
 ],
 "metadata": {
  "kernelspec": {
   "display_name": "Python 3 (ipykernel)",
   "language": "python",
   "name": "python3"
  },
  "language_info": {
   "codemirror_mode": {
    "name": "ipython",
    "version": 3
   },
   "file_extension": ".py",
   "mimetype": "text/x-python",
   "name": "python",
   "nbconvert_exporter": "python",
   "pygments_lexer": "ipython3",
   "version": "3.10.9"
  }
 },
 "nbformat": 4,
 "nbformat_minor": 5
}
