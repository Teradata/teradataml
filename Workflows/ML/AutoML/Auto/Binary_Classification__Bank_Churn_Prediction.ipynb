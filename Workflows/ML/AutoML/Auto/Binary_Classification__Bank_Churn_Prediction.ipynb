{
 "cells": [
  {
   "cell_type": "markdown",
   "id": "2762f1d8-5a66-411f-a625-34cf16ac6dd3",
   "metadata": {},
   "source": [
    "# <b><span style='color:#F1A424'>AutoML - Binary Classification - Bank Churn Prediction</span> </b>"
   ]
  },
  {
   "cell_type": "markdown",
   "id": "2f9c9da8-ca75-41f8-89dc-c2d2d58eae3b",
   "metadata": {},
   "source": [
    "### Disclaimer\n",
    "Please note, the Vantage Functions via SQLAlchemy feature is a preview/beta code release with limited functionality (the “Code”). As such, you acknowledge that the Code is experimental in nature and that the Code is provided “AS IS” and may not be functional on any machine or in any environment. TERADATA DISCLAIMS ALL WARRANTIES RELATING TO THE CODE, EXPRESS OR IMPLIED, INCLUDING, BUT NOT LIMITED TO, ANY WARRANTIES AGAINST INFRINGEMENT OF THIRD-PARTY RIGHTS, MERCHANTABILITY AND FITNESS FOR A PARTICULAR PURPOSE.\n",
    "\n",
    "TERADATA SHALL NOT BE RESPONSIBLE OR LIABLE WITH RESPECT TO ANY SUBJECT MATTER OF THE CODE UNDER ANY CONTRACT, NEGLIGENCE, STRICT LIABILITY OR OTHER THEORY \n",
    "    (A) FOR LOSS OR INACCURACY OF DATA OR COST OF PROCUREMENT OF SUBSTITUTE GOODS, SERVICES OR TECHNOLOGY, OR \n",
    "    (B) FOR ANY INDIRECT, INCIDENTAL OR CONSEQUENTIAL DAMAGES INCLUDING, BUT NOT LIMITED TO LOSS OF REVENUES AND LOSS OF PROFITS. TERADATA SHALL NOT BE RESPONSIBLE FOR ANY MATTER BEYOND ITS REASONABLE CONTROL.\n",
    "\n",
    "Notwithstanding anything to the contrary: \n",
    "    (a) Teradata will have no obligation of any kind with respect to any Code-related comments, suggestions, design changes or improvements that you elect to provide to Teradata in either verbal or written form (collectively, “Feedback”), and \n",
    "    (b) Teradata and its affiliates are hereby free to use any ideas, concepts, know-how or techniques, in whole or in part, contained in Feedback: \n",
    "        (i) for any purpose whatsoever, including developing, manufacturing, and/or marketing products and/or services incorporating Feedback in whole or in part, and \n",
    "        (ii) without any restrictions or limitations, including requiring the payment of any license fees, royalties, or other consideration. "
   ]
  },
  {
   "cell_type": "markdown",
   "id": "f225fb94-b2c8-4c92-af38-733d08e0e2a1",
   "metadata": {},
   "source": [
    "## <b> Problem overview:</b>\n",
    "    "
   ]
  },
  {
   "cell_type": "markdown",
   "id": "af9813eb-9c44-4968-a5fe-d1c74415c894",
   "metadata": {},
   "source": [
    "**Dataset used - Bank Churn Dataset**\n",
    "\n",
    "**Features**:\n",
    "\n",
    "- `customer_id`: customer_id .\n",
    "- `credit_score`: credit score of customer.\n",
    "- `country`: country of customer.\n",
    "- `gender`: Gender of customer.\n",
    "- `age`: Age of customer.\n",
    "- `tenure`: tenure.\n",
    "- `balance`: bank balance.\n",
    "- `products_number`: products number.\n",
    "- `credit_card`: having credit card or not.\n",
    "- `active_member`: active member or not.\n",
    "- `estimated_salary`: Estimated salary of customer..\n",
    "\n",
    "**Target Variable**:\n",
    "\n",
    "- `churn`: 1 if the client has left the bank during some period or 0 if he/she has not.\n",
    "\n",
    "        \n",
    "**Objective**:\n",
    "\n",
    "The primary objective is typically to build a model that can accurately predict the Customer Churn for ABC Bank.\n",
    "\n",
    "**Usecase**:\n",
    "\n",
    "Here, we will use AutoML(Automated Machine Learning) functionality to automate the entire process of developing a predictive model. It will perform feature exploration, feature engineering, data preparation, model training and evaluation on dataset in auto run and at end we will get leaderboard containined different models along with their performance. Model will also have rank associated with them which indicates which is best performing model for given data followed by other models."
   ]
  },
  {
   "cell_type": "code",
   "execution_count": 1,
   "id": "66568348-4d00-477c-a071-17995f797c95",
   "metadata": {},
   "outputs": [],
   "source": [
    "# Importing AutoML from teradataml\n",
    "from teradataml import AutoML, AutoClassifier"
   ]
  },
  {
   "cell_type": "code",
   "execution_count": 2,
   "id": "17dfae70-0401-4cc4-ba1c-400a5cf62451",
   "metadata": {},
   "outputs": [],
   "source": [
    "# Importing other important libraries\n",
    "import getpass\n",
    "from teradataml import create_context, remove_context\n",
    "from teradataml import DataFrame\n",
    "from teradataml import load_example_data\n",
    "from teradataml import TrainTestSplit"
   ]
  },
  {
   "cell_type": "code",
   "execution_count": 3,
   "id": "cadd9ed2-42d6-4899-b23e-4e2cf601162f",
   "metadata": {},
   "outputs": [
    {
     "name": "stdin",
     "output_type": "stream",
     "text": [
      "Host:  ········\n",
      "Username:  ········\n",
      "Password:  ········\n"
     ]
    }
   ],
   "source": [
    "# Create the connection.\n",
    "host = getpass.getpass(\"Host: \")\n",
    "username = getpass.getpass(\"Username: \")\n",
    "password = getpass.getpass(\"Password: \")\n",
    "\n",
    "con = create_context(host=host, username=username, password=password)"
   ]
  },
  {
   "cell_type": "markdown",
   "id": "be767a89-d5b8-4876-91cb-36980754586e",
   "metadata": {},
   "source": [
    "## <b><span style='color:#F1A424'>| 1.</span> Loading Dataset </b>"
   ]
  },
  {
   "cell_type": "code",
   "execution_count": 4,
   "id": "f1592c52-b247-4792-be2a-30b49bbeb9b6",
   "metadata": {},
   "outputs": [
    {
     "name": "stdout",
     "output_type": "stream",
     "text": [
      "WARNING: Skipped loading table bank_churn since it already exists in the database.\n"
     ]
    }
   ],
   "source": [
    "# Loading dataset from example data collection\n",
    "load_example_data('teradataml','bank_churn')"
   ]
  },
  {
   "cell_type": "code",
   "execution_count": 5,
   "id": "3846ae0f-004b-4b8e-9fea-06fac4294065",
   "metadata": {},
   "outputs": [],
   "source": [
    "# Fetching in teradata dataframe\n",
    "bank_df = DataFrame(\"bank_churn\")"
   ]
  },
  {
   "cell_type": "code",
   "execution_count": 6,
   "id": "442ccd80-b444-413e-970d-d855ec3d6cae",
   "metadata": {},
   "outputs": [
    {
     "data": {
      "text/html": [
       "<style type=\"text/css\">\n",
       "\ttable {border:ridge 5px;}\n",
       "\ttable td {border:inset 1px;}\n",
       "\ttable tr#HeaderRow {background-color:grey; color:white;}</style>\n",
       "<html><table>\n",
       "\t<tr id=\"HeaderRow\">\n",
       "\t\t<th>customer_id</th>\n",
       "\t\t<th>credit_score</th>\n",
       "\t\t<th>country</th>\n",
       "\t\t<th>gender</th>\n",
       "\t\t<th>age</th>\n",
       "\t\t<th>tenure</th>\n",
       "\t\t<th>balance</th>\n",
       "\t\t<th>products_number</th>\n",
       "\t\t<th>credit_card</th>\n",
       "\t\t<th>active_member</th>\n",
       "\t\t<th>estimated_salary</th>\n",
       "\t\t<th>churn</th>\n",
       "\t</tr>\n",
       "\t<tr>\n",
       "\t\t<td>15565714</td>\n",
       "\t\t<td>601</td>\n",
       "\t\t<td>France</td>\n",
       "\t\t<td>Male</td>\n",
       "\t\t<td>47</td>\n",
       "\t\t<td>1</td>\n",
       "\t\t<td>64430.06</td>\n",
       "\t\t<td>2</td>\n",
       "\t\t<td>0</td>\n",
       "\t\t<td>1</td>\n",
       "\t\t<td>96517.97</td>\n",
       "\t\t<td>0</td>\n",
       "\t</tr>\n",
       "\t<tr>\n",
       "\t\t<td>15565796</td>\n",
       "\t\t<td>745</td>\n",
       "\t\t<td>Germany</td>\n",
       "\t\t<td>Male</td>\n",
       "\t\t<td>48</td>\n",
       "\t\t<td>10</td>\n",
       "\t\t<td>96048.55</td>\n",
       "\t\t<td>1</td>\n",
       "\t\t<td>1</td>\n",
       "\t\t<td>0</td>\n",
       "\t\t<td>74510.65</td>\n",
       "\t\t<td>0</td>\n",
       "\t</tr>\n",
       "\t<tr>\n",
       "\t\t<td>15565806</td>\n",
       "\t\t<td>532</td>\n",
       "\t\t<td>France</td>\n",
       "\t\t<td>Male</td>\n",
       "\t\t<td>38</td>\n",
       "\t\t<td>9</td>\n",
       "\t\t<td>0.0</td>\n",
       "\t\t<td>2</td>\n",
       "\t\t<td>0</td>\n",
       "\t\t<td>0</td>\n",
       "\t\t<td>30583.95</td>\n",
       "\t\t<td>0</td>\n",
       "\t</tr>\n",
       "\t<tr>\n",
       "\t\t<td>15565878</td>\n",
       "\t\t<td>631</td>\n",
       "\t\t<td>Spain</td>\n",
       "\t\t<td>Male</td>\n",
       "\t\t<td>29</td>\n",
       "\t\t<td>3</td>\n",
       "\t\t<td>0.0</td>\n",
       "\t\t<td>2</td>\n",
       "\t\t<td>1</td>\n",
       "\t\t<td>1</td>\n",
       "\t\t<td>197963.46</td>\n",
       "\t\t<td>0</td>\n",
       "\t</tr>\n",
       "\t<tr>\n",
       "\t\t<td>15565891</td>\n",
       "\t\t<td>709</td>\n",
       "\t\t<td>France</td>\n",
       "\t\t<td>Male</td>\n",
       "\t\t<td>39</td>\n",
       "\t\t<td>8</td>\n",
       "\t\t<td>0.0</td>\n",
       "\t\t<td>2</td>\n",
       "\t\t<td>1</td>\n",
       "\t\t<td>0</td>\n",
       "\t\t<td>56214.09</td>\n",
       "\t\t<td>0</td>\n",
       "\t</tr>\n",
       "\t<tr>\n",
       "\t\t<td>15565996</td>\n",
       "\t\t<td>653</td>\n",
       "\t\t<td>France</td>\n",
       "\t\t<td>Male</td>\n",
       "\t\t<td>44</td>\n",
       "\t\t<td>8</td>\n",
       "\t\t<td>0.0</td>\n",
       "\t\t<td>2</td>\n",
       "\t\t<td>1</td>\n",
       "\t\t<td>1</td>\n",
       "\t\t<td>154639.72</td>\n",
       "\t\t<td>0</td>\n",
       "\t</tr>\n",
       "\t<tr>\n",
       "\t\t<td>15565879</td>\n",
       "\t\t<td>845</td>\n",
       "\t\t<td>France</td>\n",
       "\t\t<td>Female</td>\n",
       "\t\t<td>28</td>\n",
       "\t\t<td>9</td>\n",
       "\t\t<td>0.0</td>\n",
       "\t\t<td>2</td>\n",
       "\t\t<td>1</td>\n",
       "\t\t<td>1</td>\n",
       "\t\t<td>56185.98</td>\n",
       "\t\t<td>0</td>\n",
       "\t</tr>\n",
       "\t<tr>\n",
       "\t\t<td>15565779</td>\n",
       "\t\t<td>627</td>\n",
       "\t\t<td>Germany</td>\n",
       "\t\t<td>Female</td>\n",
       "\t\t<td>30</td>\n",
       "\t\t<td>6</td>\n",
       "\t\t<td>57809.32</td>\n",
       "\t\t<td>1</td>\n",
       "\t\t<td>1</td>\n",
       "\t\t<td>0</td>\n",
       "\t\t<td>188258.49</td>\n",
       "\t\t<td>0</td>\n",
       "\t</tr>\n",
       "\t<tr>\n",
       "\t\t<td>15565706</td>\n",
       "\t\t<td>612</td>\n",
       "\t\t<td>Spain</td>\n",
       "\t\t<td>Male</td>\n",
       "\t\t<td>35</td>\n",
       "\t\t<td>1</td>\n",
       "\t\t<td>0.0</td>\n",
       "\t\t<td>1</td>\n",
       "\t\t<td>1</td>\n",
       "\t\t<td>1</td>\n",
       "\t\t<td>83256.26</td>\n",
       "\t\t<td>1</td>\n",
       "\t</tr>\n",
       "\t<tr>\n",
       "\t\t<td>15565701</td>\n",
       "\t\t<td>698</td>\n",
       "\t\t<td>Spain</td>\n",
       "\t\t<td>Female</td>\n",
       "\t\t<td>39</td>\n",
       "\t\t<td>9</td>\n",
       "\t\t<td>161993.89</td>\n",
       "\t\t<td>1</td>\n",
       "\t\t<td>0</td>\n",
       "\t\t<td>0</td>\n",
       "\t\t<td>90212.38</td>\n",
       "\t\t<td>0</td>\n",
       "\t</tr>\n",
       "</table></html>"
      ],
      "text/plain": [
       "             credit_score  country  gender  age  tenure    balance  products_number  credit_card  active_member  estimated_salary  churn\n",
       "customer_id                                                                                                                             \n",
       "15565714              601   France    Male   47       1   64430.06                2            0              1          96517.97      0\n",
       "15565796              745  Germany    Male   48      10   96048.55                1            1              0          74510.65      0\n",
       "15565806              532   France    Male   38       9       0.00                2            0              0          30583.95      0\n",
       "15565878              631    Spain    Male   29       3       0.00                2            1              1         197963.46      0\n",
       "15565891              709   France    Male   39       8       0.00                2            1              0          56214.09      0\n",
       "15565996              653   France    Male   44       8       0.00                2            1              1         154639.72      0\n",
       "15565879              845   France  Female   28       9       0.00                2            1              1          56185.98      0\n",
       "15565779              627  Germany  Female   30       6   57809.32                1            1              0         188258.49      0\n",
       "15565706              612    Spain    Male   35       1       0.00                1            1              1          83256.26      1\n",
       "15565701              698    Spain  Female   39       9  161993.89                1            0              0          90212.38      0"
      ]
     },
     "execution_count": 6,
     "metadata": {},
     "output_type": "execute_result"
    }
   ],
   "source": [
    "# first 5 rows\n",
    "bank_df.head()"
   ]
  },
  {
   "cell_type": "code",
   "execution_count": 7,
   "id": "636c220d-d12f-4ea5-ab2b-c9203ef00d49",
   "metadata": {},
   "outputs": [
    {
     "data": {
      "text/plain": [
       "(10000, 12)"
      ]
     },
     "execution_count": 7,
     "metadata": {},
     "output_type": "execute_result"
    }
   ],
   "source": [
    "# bank_df dataset\n",
    "bank_df.shape"
   ]
  },
  {
   "cell_type": "code",
   "execution_count": 8,
   "id": "e5d1fad7-8784-4d7a-be1f-7be1d3991d8f",
   "metadata": {},
   "outputs": [],
   "source": [
    "# Performing sampling to get 80% for trainning and 20% for testing\n",
    "bank_df_sample = bank_df.sample(frac = [0.8, 0.2])"
   ]
  },
  {
   "cell_type": "code",
   "execution_count": 9,
   "id": "a0e6891a-1b7e-4bac-97c8-350ba5f5bde4",
   "metadata": {},
   "outputs": [
    {
     "data": {
      "text/html": [
       "<style type=\"text/css\">\n",
       "\ttable {border:ridge 5px;}\n",
       "\ttable td {border:inset 1px;}\n",
       "\ttable tr#HeaderRow {background-color:grey; color:white;}</style>\n",
       "<html><table>\n",
       "\t<tr id=\"HeaderRow\">\n",
       "\t\t<th>customer_id</th>\n",
       "\t\t<th>credit_score</th>\n",
       "\t\t<th>country</th>\n",
       "\t\t<th>gender</th>\n",
       "\t\t<th>age</th>\n",
       "\t\t<th>tenure</th>\n",
       "\t\t<th>balance</th>\n",
       "\t\t<th>products_number</th>\n",
       "\t\t<th>credit_card</th>\n",
       "\t\t<th>active_member</th>\n",
       "\t\t<th>estimated_salary</th>\n",
       "\t\t<th>churn</th>\n",
       "\t\t<th>sampleid</th>\n",
       "\t</tr>\n",
       "\t<tr>\n",
       "\t\t<td>15565714</td>\n",
       "\t\t<td>601</td>\n",
       "\t\t<td>France</td>\n",
       "\t\t<td>Male</td>\n",
       "\t\t<td>47</td>\n",
       "\t\t<td>1</td>\n",
       "\t\t<td>64430.06</td>\n",
       "\t\t<td>2</td>\n",
       "\t\t<td>0</td>\n",
       "\t\t<td>1</td>\n",
       "\t\t<td>96517.97</td>\n",
       "\t\t<td>0</td>\n",
       "\t\t<td>1</td>\n",
       "\t</tr>\n",
       "\t<tr>\n",
       "\t\t<td>15565796</td>\n",
       "\t\t<td>745</td>\n",
       "\t\t<td>Germany</td>\n",
       "\t\t<td>Male</td>\n",
       "\t\t<td>48</td>\n",
       "\t\t<td>10</td>\n",
       "\t\t<td>96048.55</td>\n",
       "\t\t<td>1</td>\n",
       "\t\t<td>1</td>\n",
       "\t\t<td>0</td>\n",
       "\t\t<td>74510.65</td>\n",
       "\t\t<td>0</td>\n",
       "\t\t<td>1</td>\n",
       "\t</tr>\n",
       "\t<tr>\n",
       "\t\t<td>15565806</td>\n",
       "\t\t<td>532</td>\n",
       "\t\t<td>France</td>\n",
       "\t\t<td>Male</td>\n",
       "\t\t<td>38</td>\n",
       "\t\t<td>9</td>\n",
       "\t\t<td>0.0</td>\n",
       "\t\t<td>2</td>\n",
       "\t\t<td>0</td>\n",
       "\t\t<td>0</td>\n",
       "\t\t<td>30583.95</td>\n",
       "\t\t<td>0</td>\n",
       "\t\t<td>1</td>\n",
       "\t</tr>\n",
       "\t<tr>\n",
       "\t\t<td>15565878</td>\n",
       "\t\t<td>631</td>\n",
       "\t\t<td>Spain</td>\n",
       "\t\t<td>Male</td>\n",
       "\t\t<td>29</td>\n",
       "\t\t<td>3</td>\n",
       "\t\t<td>0.0</td>\n",
       "\t\t<td>2</td>\n",
       "\t\t<td>1</td>\n",
       "\t\t<td>1</td>\n",
       "\t\t<td>197963.46</td>\n",
       "\t\t<td>0</td>\n",
       "\t\t<td>1</td>\n",
       "\t</tr>\n",
       "\t<tr>\n",
       "\t\t<td>15565891</td>\n",
       "\t\t<td>709</td>\n",
       "\t\t<td>France</td>\n",
       "\t\t<td>Male</td>\n",
       "\t\t<td>39</td>\n",
       "\t\t<td>8</td>\n",
       "\t\t<td>0.0</td>\n",
       "\t\t<td>2</td>\n",
       "\t\t<td>1</td>\n",
       "\t\t<td>0</td>\n",
       "\t\t<td>56214.09</td>\n",
       "\t\t<td>0</td>\n",
       "\t\t<td>1</td>\n",
       "\t</tr>\n",
       "\t<tr>\n",
       "\t\t<td>15565996</td>\n",
       "\t\t<td>653</td>\n",
       "\t\t<td>France</td>\n",
       "\t\t<td>Male</td>\n",
       "\t\t<td>44</td>\n",
       "\t\t<td>8</td>\n",
       "\t\t<td>0.0</td>\n",
       "\t\t<td>2</td>\n",
       "\t\t<td>1</td>\n",
       "\t\t<td>1</td>\n",
       "\t\t<td>154639.72</td>\n",
       "\t\t<td>0</td>\n",
       "\t\t<td>1</td>\n",
       "\t</tr>\n",
       "\t<tr>\n",
       "\t\t<td>15565879</td>\n",
       "\t\t<td>845</td>\n",
       "\t\t<td>France</td>\n",
       "\t\t<td>Female</td>\n",
       "\t\t<td>28</td>\n",
       "\t\t<td>9</td>\n",
       "\t\t<td>0.0</td>\n",
       "\t\t<td>2</td>\n",
       "\t\t<td>1</td>\n",
       "\t\t<td>1</td>\n",
       "\t\t<td>56185.98</td>\n",
       "\t\t<td>0</td>\n",
       "\t\t<td>1</td>\n",
       "\t</tr>\n",
       "\t<tr>\n",
       "\t\t<td>15565779</td>\n",
       "\t\t<td>627</td>\n",
       "\t\t<td>Germany</td>\n",
       "\t\t<td>Female</td>\n",
       "\t\t<td>30</td>\n",
       "\t\t<td>6</td>\n",
       "\t\t<td>57809.32</td>\n",
       "\t\t<td>1</td>\n",
       "\t\t<td>1</td>\n",
       "\t\t<td>0</td>\n",
       "\t\t<td>188258.49</td>\n",
       "\t\t<td>0</td>\n",
       "\t\t<td>1</td>\n",
       "\t</tr>\n",
       "\t<tr>\n",
       "\t\t<td>15565706</td>\n",
       "\t\t<td>612</td>\n",
       "\t\t<td>Spain</td>\n",
       "\t\t<td>Male</td>\n",
       "\t\t<td>35</td>\n",
       "\t\t<td>1</td>\n",
       "\t\t<td>0.0</td>\n",
       "\t\t<td>1</td>\n",
       "\t\t<td>1</td>\n",
       "\t\t<td>1</td>\n",
       "\t\t<td>83256.26</td>\n",
       "\t\t<td>1</td>\n",
       "\t\t<td>1</td>\n",
       "\t</tr>\n",
       "\t<tr>\n",
       "\t\t<td>15565701</td>\n",
       "\t\t<td>698</td>\n",
       "\t\t<td>Spain</td>\n",
       "\t\t<td>Female</td>\n",
       "\t\t<td>39</td>\n",
       "\t\t<td>9</td>\n",
       "\t\t<td>161993.89</td>\n",
       "\t\t<td>1</td>\n",
       "\t\t<td>0</td>\n",
       "\t\t<td>0</td>\n",
       "\t\t<td>90212.38</td>\n",
       "\t\t<td>0</td>\n",
       "\t\t<td>1</td>\n",
       "\t</tr>\n",
       "</table></html>"
      ],
      "text/plain": [
       "             credit_score  country  gender  age  tenure    balance  products_number  credit_card  active_member  estimated_salary  churn  sampleid\n",
       "customer_id                                                                                                                                       \n",
       "15565714              601   France    Male   47       1   64430.06                2            0              1          96517.97      0         1\n",
       "15565796              745  Germany    Male   48      10   96048.55                1            1              0          74510.65      0         1\n",
       "15565806              532   France    Male   38       9       0.00                2            0              0          30583.95      0         1\n",
       "15565878              631    Spain    Male   29       3       0.00                2            1              1         197963.46      0         1\n",
       "15565891              709   France    Male   39       8       0.00                2            1              0          56214.09      0         1\n",
       "15565996              653   France    Male   44       8       0.00                2            1              1         154639.72      0         1\n",
       "15565879              845   France  Female   28       9       0.00                2            1              1          56185.98      0         1\n",
       "15565779              627  Germany  Female   30       6   57809.32                1            1              0         188258.49      0         1\n",
       "15565706              612    Spain    Male   35       1       0.00                1            1              1          83256.26      1         1\n",
       "15565701              698    Spain  Female   39       9  161993.89                1            0              0          90212.38      0         1"
      ]
     },
     "execution_count": 9,
     "metadata": {},
     "output_type": "execute_result"
    }
   ],
   "source": [
    "bank_df_sample.head()"
   ]
  },
  {
   "cell_type": "code",
   "execution_count": 10,
   "id": "5e3e5923-18ad-4cf6-b4e5-e87f8854700b",
   "metadata": {},
   "outputs": [],
   "source": [
    "# Fetching train and test data\n",
    "bank_df_train= bank_df_sample[bank_df_sample['sampleid'] == 1].drop('sampleid', axis=1)\n",
    "bank_df_test = bank_df_sample[bank_df_sample['sampleid'] == 2].drop('sampleid', axis=1)"
   ]
  },
  {
   "cell_type": "code",
   "execution_count": 11,
   "id": "83d72a72-3fac-4862-b374-d21ab59be1a6",
   "metadata": {},
   "outputs": [
    {
     "data": {
      "text/plain": [
       "(8000, 12)"
      ]
     },
     "execution_count": 11,
     "metadata": {},
     "output_type": "execute_result"
    }
   ],
   "source": [
    "# train data shape\n",
    "bank_df_train.shape"
   ]
  },
  {
   "cell_type": "code",
   "execution_count": 12,
   "id": "b22be730-8a7a-40f3-8e2a-cabd8d1f427f",
   "metadata": {},
   "outputs": [
    {
     "data": {
      "text/plain": [
       "(2000, 12)"
      ]
     },
     "execution_count": 12,
     "metadata": {},
     "output_type": "execute_result"
    }
   ],
   "source": [
    "# test data shape\n",
    "bank_df_test.shape"
   ]
  },
  {
   "cell_type": "code",
   "execution_count": 13,
   "id": "18473df2-be15-4e1e-bc5e-739abacf8b89",
   "metadata": {},
   "outputs": [
    {
     "data": {
      "text/html": [
       "<style type=\"text/css\">\n",
       "\ttable {border:ridge 5px;}\n",
       "\ttable td {border:inset 1px;}\n",
       "\ttable tr#HeaderRow {background-color:grey; color:white;}</style>\n",
       "<html><table>\n",
       "\t<tr id=\"HeaderRow\">\n",
       "\t\t<th>customer_id</th>\n",
       "\t\t<th>credit_score</th>\n",
       "\t\t<th>country</th>\n",
       "\t\t<th>gender</th>\n",
       "\t\t<th>age</th>\n",
       "\t\t<th>tenure</th>\n",
       "\t\t<th>balance</th>\n",
       "\t\t<th>products_number</th>\n",
       "\t\t<th>credit_card</th>\n",
       "\t\t<th>active_member</th>\n",
       "\t\t<th>estimated_salary</th>\n",
       "\t\t<th>churn</th>\n",
       "\t</tr>\n",
       "\t<tr>\n",
       "\t\t<td>15565714</td>\n",
       "\t\t<td>601</td>\n",
       "\t\t<td>France</td>\n",
       "\t\t<td>Male</td>\n",
       "\t\t<td>47</td>\n",
       "\t\t<td>1</td>\n",
       "\t\t<td>64430.06</td>\n",
       "\t\t<td>2</td>\n",
       "\t\t<td>0</td>\n",
       "\t\t<td>1</td>\n",
       "\t\t<td>96517.97</td>\n",
       "\t\t<td>0</td>\n",
       "\t</tr>\n",
       "\t<tr>\n",
       "\t\t<td>15565796</td>\n",
       "\t\t<td>745</td>\n",
       "\t\t<td>Germany</td>\n",
       "\t\t<td>Male</td>\n",
       "\t\t<td>48</td>\n",
       "\t\t<td>10</td>\n",
       "\t\t<td>96048.55</td>\n",
       "\t\t<td>1</td>\n",
       "\t\t<td>1</td>\n",
       "\t\t<td>0</td>\n",
       "\t\t<td>74510.65</td>\n",
       "\t\t<td>0</td>\n",
       "\t</tr>\n",
       "\t<tr>\n",
       "\t\t<td>15565806</td>\n",
       "\t\t<td>532</td>\n",
       "\t\t<td>France</td>\n",
       "\t\t<td>Male</td>\n",
       "\t\t<td>38</td>\n",
       "\t\t<td>9</td>\n",
       "\t\t<td>0.0</td>\n",
       "\t\t<td>2</td>\n",
       "\t\t<td>0</td>\n",
       "\t\t<td>0</td>\n",
       "\t\t<td>30583.95</td>\n",
       "\t\t<td>0</td>\n",
       "\t</tr>\n",
       "\t<tr>\n",
       "\t\t<td>15565878</td>\n",
       "\t\t<td>631</td>\n",
       "\t\t<td>Spain</td>\n",
       "\t\t<td>Male</td>\n",
       "\t\t<td>29</td>\n",
       "\t\t<td>3</td>\n",
       "\t\t<td>0.0</td>\n",
       "\t\t<td>2</td>\n",
       "\t\t<td>1</td>\n",
       "\t\t<td>1</td>\n",
       "\t\t<td>197963.46</td>\n",
       "\t\t<td>0</td>\n",
       "\t</tr>\n",
       "\t<tr>\n",
       "\t\t<td>15565891</td>\n",
       "\t\t<td>709</td>\n",
       "\t\t<td>France</td>\n",
       "\t\t<td>Male</td>\n",
       "\t\t<td>39</td>\n",
       "\t\t<td>8</td>\n",
       "\t\t<td>0.0</td>\n",
       "\t\t<td>2</td>\n",
       "\t\t<td>1</td>\n",
       "\t\t<td>0</td>\n",
       "\t\t<td>56214.09</td>\n",
       "\t\t<td>0</td>\n",
       "\t</tr>\n",
       "\t<tr>\n",
       "\t\t<td>15565996</td>\n",
       "\t\t<td>653</td>\n",
       "\t\t<td>France</td>\n",
       "\t\t<td>Male</td>\n",
       "\t\t<td>44</td>\n",
       "\t\t<td>8</td>\n",
       "\t\t<td>0.0</td>\n",
       "\t\t<td>2</td>\n",
       "\t\t<td>1</td>\n",
       "\t\t<td>1</td>\n",
       "\t\t<td>154639.72</td>\n",
       "\t\t<td>0</td>\n",
       "\t</tr>\n",
       "\t<tr>\n",
       "\t\t<td>15565879</td>\n",
       "\t\t<td>845</td>\n",
       "\t\t<td>France</td>\n",
       "\t\t<td>Female</td>\n",
       "\t\t<td>28</td>\n",
       "\t\t<td>9</td>\n",
       "\t\t<td>0.0</td>\n",
       "\t\t<td>2</td>\n",
       "\t\t<td>1</td>\n",
       "\t\t<td>1</td>\n",
       "\t\t<td>56185.98</td>\n",
       "\t\t<td>0</td>\n",
       "\t</tr>\n",
       "\t<tr>\n",
       "\t\t<td>15565779</td>\n",
       "\t\t<td>627</td>\n",
       "\t\t<td>Germany</td>\n",
       "\t\t<td>Female</td>\n",
       "\t\t<td>30</td>\n",
       "\t\t<td>6</td>\n",
       "\t\t<td>57809.32</td>\n",
       "\t\t<td>1</td>\n",
       "\t\t<td>1</td>\n",
       "\t\t<td>0</td>\n",
       "\t\t<td>188258.49</td>\n",
       "\t\t<td>0</td>\n",
       "\t</tr>\n",
       "\t<tr>\n",
       "\t\t<td>15565706</td>\n",
       "\t\t<td>612</td>\n",
       "\t\t<td>Spain</td>\n",
       "\t\t<td>Male</td>\n",
       "\t\t<td>35</td>\n",
       "\t\t<td>1</td>\n",
       "\t\t<td>0.0</td>\n",
       "\t\t<td>1</td>\n",
       "\t\t<td>1</td>\n",
       "\t\t<td>1</td>\n",
       "\t\t<td>83256.26</td>\n",
       "\t\t<td>1</td>\n",
       "\t</tr>\n",
       "\t<tr>\n",
       "\t\t<td>15565701</td>\n",
       "\t\t<td>698</td>\n",
       "\t\t<td>Spain</td>\n",
       "\t\t<td>Female</td>\n",
       "\t\t<td>39</td>\n",
       "\t\t<td>9</td>\n",
       "\t\t<td>161993.89</td>\n",
       "\t\t<td>1</td>\n",
       "\t\t<td>0</td>\n",
       "\t\t<td>0</td>\n",
       "\t\t<td>90212.38</td>\n",
       "\t\t<td>0</td>\n",
       "\t</tr>\n",
       "</table></html>"
      ],
      "text/plain": [
       "             credit_score  country  gender  age  tenure    balance  products_number  credit_card  active_member  estimated_salary  churn\n",
       "customer_id                                                                                                                             \n",
       "15565714              601   France    Male   47       1   64430.06                2            0              1          96517.97      0\n",
       "15565796              745  Germany    Male   48      10   96048.55                1            1              0          74510.65      0\n",
       "15565806              532   France    Male   38       9       0.00                2            0              0          30583.95      0\n",
       "15565878              631    Spain    Male   29       3       0.00                2            1              1         197963.46      0\n",
       "15565891              709   France    Male   39       8       0.00                2            1              0          56214.09      0\n",
       "15565996              653   France    Male   44       8       0.00                2            1              1         154639.72      0\n",
       "15565879              845   France  Female   28       9       0.00                2            1              1          56185.98      0\n",
       "15565779              627  Germany  Female   30       6   57809.32                1            1              0         188258.49      0\n",
       "15565706              612    Spain    Male   35       1       0.00                1            1              1          83256.26      1\n",
       "15565701              698    Spain  Female   39       9  161993.89                1            0              0          90212.38      0"
      ]
     },
     "execution_count": 13,
     "metadata": {},
     "output_type": "execute_result"
    }
   ],
   "source": [
    "#train dataset\n",
    "bank_df_train.head()"
   ]
  },
  {
   "cell_type": "code",
   "execution_count": 14,
   "id": "58c9d763-4f19-449e-a35b-676d4d026acc",
   "metadata": {},
   "outputs": [
    {
     "data": {
      "text/html": [
       "<style type=\"text/css\">\n",
       "\ttable {border:ridge 5px;}\n",
       "\ttable td {border:inset 1px;}\n",
       "\ttable tr#HeaderRow {background-color:grey; color:white;}</style>\n",
       "<html><table>\n",
       "\t<tr id=\"HeaderRow\">\n",
       "\t\t<th>customer_id</th>\n",
       "\t\t<th>credit_score</th>\n",
       "\t\t<th>country</th>\n",
       "\t\t<th>gender</th>\n",
       "\t\t<th>age</th>\n",
       "\t\t<th>tenure</th>\n",
       "\t\t<th>balance</th>\n",
       "\t\t<th>products_number</th>\n",
       "\t\t<th>credit_card</th>\n",
       "\t\t<th>active_member</th>\n",
       "\t\t<th>estimated_salary</th>\n",
       "\t\t<th>churn</th>\n",
       "\t</tr>\n",
       "\t<tr>\n",
       "\t\t<td>15566494</td>\n",
       "\t\t<td>487</td>\n",
       "\t\t<td>France</td>\n",
       "\t\t<td>Male</td>\n",
       "\t\t<td>45</td>\n",
       "\t\t<td>2</td>\n",
       "\t\t<td>0.0</td>\n",
       "\t\t<td>2</td>\n",
       "\t\t<td>1</td>\n",
       "\t\t<td>0</td>\n",
       "\t\t<td>77475.73</td>\n",
       "\t\t<td>0</td>\n",
       "\t</tr>\n",
       "\t<tr>\n",
       "\t\t<td>15566958</td>\n",
       "\t\t<td>667</td>\n",
       "\t\t<td>Spain</td>\n",
       "\t\t<td>Male</td>\n",
       "\t\t<td>39</td>\n",
       "\t\t<td>7</td>\n",
       "\t\t<td>167557.12</td>\n",
       "\t\t<td>1</td>\n",
       "\t\t<td>1</td>\n",
       "\t\t<td>1</td>\n",
       "\t\t<td>41183.02</td>\n",
       "\t\t<td>0</td>\n",
       "\t</tr>\n",
       "\t<tr>\n",
       "\t\t<td>15567422</td>\n",
       "\t\t<td>630</td>\n",
       "\t\t<td>France</td>\n",
       "\t\t<td>Male</td>\n",
       "\t\t<td>42</td>\n",
       "\t\t<td>6</td>\n",
       "\t\t<td>0.0</td>\n",
       "\t\t<td>2</td>\n",
       "\t\t<td>1</td>\n",
       "\t\t<td>0</td>\n",
       "\t\t<td>162697.93</td>\n",
       "\t\t<td>0</td>\n",
       "\t</tr>\n",
       "\t<tr>\n",
       "\t\t<td>15567437</td>\n",
       "\t\t<td>734</td>\n",
       "\t\t<td>Germany</td>\n",
       "\t\t<td>Female</td>\n",
       "\t\t<td>30</td>\n",
       "\t\t<td>7</td>\n",
       "\t\t<td>123040.38</td>\n",
       "\t\t<td>1</td>\n",
       "\t\t<td>1</td>\n",
       "\t\t<td>1</td>\n",
       "\t\t<td>76503.06</td>\n",
       "\t\t<td>0</td>\n",
       "\t</tr>\n",
       "\t<tr>\n",
       "\t\t<td>15567778</td>\n",
       "\t\t<td>690</td>\n",
       "\t\t<td>Germany</td>\n",
       "\t\t<td>Female</td>\n",
       "\t\t<td>54</td>\n",
       "\t\t<td>1</td>\n",
       "\t\t<td>144027.8</td>\n",
       "\t\t<td>1</td>\n",
       "\t\t<td>1</td>\n",
       "\t\t<td>1</td>\n",
       "\t\t<td>108731.02</td>\n",
       "\t\t<td>1</td>\n",
       "\t</tr>\n",
       "\t<tr>\n",
       "\t\t<td>15567839</td>\n",
       "\t\t<td>501</td>\n",
       "\t\t<td>France</td>\n",
       "\t\t<td>Male</td>\n",
       "\t\t<td>42</td>\n",
       "\t\t<td>9</td>\n",
       "\t\t<td>114631.23</td>\n",
       "\t\t<td>1</td>\n",
       "\t\t<td>0</td>\n",
       "\t\t<td>1</td>\n",
       "\t\t<td>91429.74</td>\n",
       "\t\t<td>0</td>\n",
       "\t</tr>\n",
       "\t<tr>\n",
       "\t\t<td>15567446</td>\n",
       "\t\t<td>646</td>\n",
       "\t\t<td>Germany</td>\n",
       "\t\t<td>Male</td>\n",
       "\t\t<td>39</td>\n",
       "\t\t<td>9</td>\n",
       "\t\t<td>111574.41</td>\n",
       "\t\t<td>1</td>\n",
       "\t\t<td>1</td>\n",
       "\t\t<td>1</td>\n",
       "\t\t<td>30838.51</td>\n",
       "\t\t<td>0</td>\n",
       "\t</tr>\n",
       "\t<tr>\n",
       "\t\t<td>15566843</td>\n",
       "\t\t<td>535</td>\n",
       "\t\t<td>Germany</td>\n",
       "\t\t<td>Male</td>\n",
       "\t\t<td>20</td>\n",
       "\t\t<td>9</td>\n",
       "\t\t<td>134874.4</td>\n",
       "\t\t<td>1</td>\n",
       "\t\t<td>1</td>\n",
       "\t\t<td>1</td>\n",
       "\t\t<td>118825.56</td>\n",
       "\t\t<td>0</td>\n",
       "\t</tr>\n",
       "\t<tr>\n",
       "\t\t<td>15566378</td>\n",
       "\t\t<td>515</td>\n",
       "\t\t<td>France</td>\n",
       "\t\t<td>Male</td>\n",
       "\t\t<td>48</td>\n",
       "\t\t<td>5</td>\n",
       "\t\t<td>129387.94</td>\n",
       "\t\t<td>1</td>\n",
       "\t\t<td>0</td>\n",
       "\t\t<td>1</td>\n",
       "\t\t<td>147955.91</td>\n",
       "\t\t<td>1</td>\n",
       "\t</tr>\n",
       "\t<tr>\n",
       "\t\t<td>15566139</td>\n",
       "\t\t<td>526</td>\n",
       "\t\t<td>France</td>\n",
       "\t\t<td>Female</td>\n",
       "\t\t<td>37</td>\n",
       "\t\t<td>5</td>\n",
       "\t\t<td>53573.18</td>\n",
       "\t\t<td>1</td>\n",
       "\t\t<td>1</td>\n",
       "\t\t<td>0</td>\n",
       "\t\t<td>62830.97</td>\n",
       "\t\t<td>0</td>\n",
       "\t</tr>\n",
       "</table></html>"
      ],
      "text/plain": [
       "             credit_score  country  gender  age  tenure    balance  products_number  credit_card  active_member  estimated_salary  churn\n",
       "customer_id                                                                                                                             \n",
       "15566494              487   France    Male   45       2       0.00                2            1              0          77475.73      0\n",
       "15566958              667    Spain    Male   39       7  167557.12                1            1              1          41183.02      0\n",
       "15567422              630   France    Male   42       6       0.00                2            1              0         162697.93      0\n",
       "15567437              734  Germany  Female   30       7  123040.38                1            1              1          76503.06      0\n",
       "15567778              690  Germany  Female   54       1  144027.80                1            1              1         108731.02      1\n",
       "15567839              501   France    Male   42       9  114631.23                1            0              1          91429.74      0\n",
       "15567446              646  Germany    Male   39       9  111574.41                1            1              1          30838.51      0\n",
       "15566843              535  Germany    Male   20       9  134874.40                1            1              1         118825.56      0\n",
       "15566378              515   France    Male   48       5  129387.94                1            0              1         147955.91      1\n",
       "15566139              526   France  Female   37       5   53573.18                1            1              0          62830.97      0"
      ]
     },
     "execution_count": 14,
     "metadata": {},
     "output_type": "execute_result"
    }
   ],
   "source": [
    "# test dataset\n",
    "bank_df_test.head()"
   ]
  },
  {
   "cell_type": "markdown",
   "id": "856ea871-93d8-4ea2-b524-1acb23bd7eb5",
   "metadata": {},
   "source": [
    "## <b><span style='color:#F1A424'>| 2.</span> Fitting AutoML </b>"
   ]
  },
  {
   "cell_type": "code",
   "execution_count": 15,
   "id": "f3650aa5-a408-4227-a88d-79c0f3d36d3c",
   "metadata": {},
   "outputs": [],
   "source": [
    "# Creating AutoClassifier instance\n",
    "# Excluding svm and glm from model training.\n",
    "# Keeping early stopping metrics threshold to 0.5 for 'MICRO-RECALL', early stopping timer threshold to 100 sec\n",
    "# and verbose level 2 for detailed loggging\n",
    "\n",
    "aml = AutoClassifier(exclude=['svm', 'glm'],\n",
    "                     stopping_metric='MICRO-RECALL', \n",
    "                     stopping_tolerance=0.50,\n",
    "                     max_runtime_secs=100,\n",
    "                     verbose=2)"
   ]
  },
  {
   "cell_type": "code",
   "execution_count": 16,
   "id": "a1b7a771-1bfa-40c9-8ad0-c377d320c137",
   "metadata": {},
   "outputs": [
    {
     "data": {
      "text/html": [
       "\n",
       "            <style>\n",
       "                .custom-div {\n",
       "                    background-color: lightgray;\n",
       "                    color: #000000;\n",
       "                    padding: 10px;\n",
       "                    border-radius: 8px;\n",
       "                    box-shadow: 0 3px 4px rgba(0, 0, 0, 0.2);\n",
       "                    margin-bottom: 10px;\n",
       "                    text-align: center;\n",
       "                }\n",
       "            </style>\n",
       "        <br><div class=\"custom-div\"><h3><span style=\"color: green;\"></span>1. Feature Exploration -> 2. Feature Engineering -> 3. Data Preparation -> 4. Model Training & Evaluation<center></h3></center></div>"
      ],
      "text/plain": [
       "<IPython.core.display.HTML object>"
      ]
     },
     "metadata": {},
     "output_type": "display_data"
    },
    {
     "name": "stdout",
     "output_type": "stream",
     "text": [
      "Feature Exploration started ...\n",
      "\n",
      "Data Overview:\n",
      "Total Rows in the data: 8000\n",
      "Total Columns in the data: 12\n",
      "\n",
      "Column Summary:\n"
     ]
    },
    {
     "data": {
      "text/html": [
       "<style type=\"text/css\">\n",
       "\ttable {border:ridge 5px;}\n",
       "\ttable td {border:inset 1px;}\n",
       "\ttable tr#HeaderRow {background-color:grey; color:white;}</style>\n",
       "<html><table>\n",
       "\t<tr id=\"HeaderRow\">\n",
       "\t\t<th>ColumnName</th>\n",
       "\t\t<th>Datatype</th>\n",
       "\t\t<th>NonNullCount</th>\n",
       "\t\t<th>NullCount</th>\n",
       "\t\t<th>BlankCount</th>\n",
       "\t\t<th>ZeroCount</th>\n",
       "\t\t<th>PositiveCount</th>\n",
       "\t\t<th>NegativeCount</th>\n",
       "\t\t<th>NullPercentage</th>\n",
       "\t\t<th>NonNullPercentage</th>\n",
       "\t</tr>\n",
       "\t<tr>\n",
       "\t\t<td>age</td>\n",
       "\t\t<td>INTEGER</td>\n",
       "\t\t<td>8000</td>\n",
       "\t\t<td>0</td>\n",
       "\t\t<td>None</td>\n",
       "\t\t<td>0</td>\n",
       "\t\t<td>8000</td>\n",
       "\t\t<td>0</td>\n",
       "\t\t<td>0.0</td>\n",
       "\t\t<td>100.0</td>\n",
       "\t</tr>\n",
       "\t<tr>\n",
       "\t\t<td>gender</td>\n",
       "\t\t<td>VARCHAR(20) CHARACTER SET LATIN</td>\n",
       "\t\t<td>8000</td>\n",
       "\t\t<td>0</td>\n",
       "\t\t<td>0</td>\n",
       "\t\t<td>None</td>\n",
       "\t\t<td>None</td>\n",
       "\t\t<td>None</td>\n",
       "\t\t<td>0.0</td>\n",
       "\t\t<td>100.0</td>\n",
       "\t</tr>\n",
       "\t<tr>\n",
       "\t\t<td>customer_id</td>\n",
       "\t\t<td>BIGINT</td>\n",
       "\t\t<td>8000</td>\n",
       "\t\t<td>0</td>\n",
       "\t\t<td>None</td>\n",
       "\t\t<td>0</td>\n",
       "\t\t<td>8000</td>\n",
       "\t\t<td>0</td>\n",
       "\t\t<td>0.0</td>\n",
       "\t\t<td>100.0</td>\n",
       "\t</tr>\n",
       "\t<tr>\n",
       "\t\t<td>estimated_salary</td>\n",
       "\t\t<td>FLOAT</td>\n",
       "\t\t<td>8000</td>\n",
       "\t\t<td>0</td>\n",
       "\t\t<td>None</td>\n",
       "\t\t<td>0</td>\n",
       "\t\t<td>8000</td>\n",
       "\t\t<td>0</td>\n",
       "\t\t<td>0.0</td>\n",
       "\t\t<td>100.0</td>\n",
       "\t</tr>\n",
       "\t<tr>\n",
       "\t\t<td>credit_score</td>\n",
       "\t\t<td>BIGINT</td>\n",
       "\t\t<td>8000</td>\n",
       "\t\t<td>0</td>\n",
       "\t\t<td>None</td>\n",
       "\t\t<td>0</td>\n",
       "\t\t<td>8000</td>\n",
       "\t\t<td>0</td>\n",
       "\t\t<td>0.0</td>\n",
       "\t\t<td>100.0</td>\n",
       "\t</tr>\n",
       "\t<tr>\n",
       "\t\t<td>country</td>\n",
       "\t\t<td>VARCHAR(256) CHARACTER SET LATIN</td>\n",
       "\t\t<td>8000</td>\n",
       "\t\t<td>0</td>\n",
       "\t\t<td>0</td>\n",
       "\t\t<td>None</td>\n",
       "\t\t<td>None</td>\n",
       "\t\t<td>None</td>\n",
       "\t\t<td>0.0</td>\n",
       "\t\t<td>100.0</td>\n",
       "\t</tr>\n",
       "\t<tr>\n",
       "\t\t<td>tenure</td>\n",
       "\t\t<td>BIGINT</td>\n",
       "\t\t<td>8000</td>\n",
       "\t\t<td>0</td>\n",
       "\t\t<td>None</td>\n",
       "\t\t<td>324</td>\n",
       "\t\t<td>7676</td>\n",
       "\t\t<td>0</td>\n",
       "\t\t<td>0.0</td>\n",
       "\t\t<td>100.0</td>\n",
       "\t</tr>\n",
       "\t<tr>\n",
       "\t\t<td>credit_card</td>\n",
       "\t\t<td>BIGINT</td>\n",
       "\t\t<td>8000</td>\n",
       "\t\t<td>0</td>\n",
       "\t\t<td>None</td>\n",
       "\t\t<td>2368</td>\n",
       "\t\t<td>5632</td>\n",
       "\t\t<td>0</td>\n",
       "\t\t<td>0.0</td>\n",
       "\t\t<td>100.0</td>\n",
       "\t</tr>\n",
       "\t<tr>\n",
       "\t\t<td>balance</td>\n",
       "\t\t<td>FLOAT</td>\n",
       "\t\t<td>8000</td>\n",
       "\t\t<td>0</td>\n",
       "\t\t<td>None</td>\n",
       "\t\t<td>2913</td>\n",
       "\t\t<td>5087</td>\n",
       "\t\t<td>0</td>\n",
       "\t\t<td>0.0</td>\n",
       "\t\t<td>100.0</td>\n",
       "\t</tr>\n",
       "\t<tr>\n",
       "\t\t<td>products_number</td>\n",
       "\t\t<td>BIGINT</td>\n",
       "\t\t<td>8000</td>\n",
       "\t\t<td>0</td>\n",
       "\t\t<td>None</td>\n",
       "\t\t<td>0</td>\n",
       "\t\t<td>8000</td>\n",
       "\t\t<td>0</td>\n",
       "\t\t<td>0.0</td>\n",
       "\t\t<td>100.0</td>\n",
       "\t</tr>\n",
       "\t<tr>\n",
       "\t\t<td>churn</td>\n",
       "\t\t<td>BIGINT</td>\n",
       "\t\t<td>8000</td>\n",
       "\t\t<td>0</td>\n",
       "\t\t<td>None</td>\n",
       "\t\t<td>6379</td>\n",
       "\t\t<td>1621</td>\n",
       "\t\t<td>0</td>\n",
       "\t\t<td>0.0</td>\n",
       "\t\t<td>100.0</td>\n",
       "\t</tr>\n",
       "\t<tr>\n",
       "\t\t<td>active_member</td>\n",
       "\t\t<td>BIGINT</td>\n",
       "\t\t<td>8000</td>\n",
       "\t\t<td>0</td>\n",
       "\t\t<td>None</td>\n",
       "\t\t<td>3881</td>\n",
       "\t\t<td>4119</td>\n",
       "\t\t<td>0</td>\n",
       "\t\t<td>0.0</td>\n",
       "\t\t<td>100.0</td>\n",
       "\t</tr>\n",
       "</table></html>"
      ],
      "text/plain": [
       "          ColumnName                          Datatype  NonNullCount  NullCount  BlankCount  ZeroCount  PositiveCount  NegativeCount  NullPercentage  NonNullPercentage\n",
       "0                age                           INTEGER          8000          0         NaN        0.0         8000.0            0.0             0.0              100.0\n",
       "1             gender   VARCHAR(20) CHARACTER SET LATIN          8000          0         0.0        NaN            NaN            NaN             0.0              100.0\n",
       "2        customer_id                            BIGINT          8000          0         NaN        0.0         8000.0            0.0             0.0              100.0\n",
       "3   estimated_salary                             FLOAT          8000          0         NaN        0.0         8000.0            0.0             0.0              100.0\n",
       "4       credit_score                            BIGINT          8000          0         NaN        0.0         8000.0            0.0             0.0              100.0\n",
       "5            country  VARCHAR(256) CHARACTER SET LATIN          8000          0         0.0        NaN            NaN            NaN             0.0              100.0\n",
       "6             tenure                            BIGINT          8000          0         NaN      324.0         7676.0            0.0             0.0              100.0\n",
       "7        credit_card                            BIGINT          8000          0         NaN     2368.0         5632.0            0.0             0.0              100.0\n",
       "8            balance                             FLOAT          8000          0         NaN     2913.0         5087.0            0.0             0.0              100.0\n",
       "9    products_number                            BIGINT          8000          0         NaN        0.0         8000.0            0.0             0.0              100.0\n",
       "10             churn                            BIGINT          8000          0         NaN     6379.0         1621.0            0.0             0.0              100.0\n",
       "11     active_member                            BIGINT          8000          0         NaN     3881.0         4119.0            0.0             0.0              100.0"
      ]
     },
     "metadata": {},
     "output_type": "display_data"
    },
    {
     "name": "stdout",
     "output_type": "stream",
     "text": [
      "        customer_id  credit_score       age    tenure     balance  products_number  credit_card  active_member  estimated_salary     churn\n",
      "func                                                                                                                                      \n",
      "min    1.556570e+07       350.000    18.000     0.000       0.000            1.000        0.000          0.000            11.580     0.000\n",
      "std    7.206642e+04        96.876    10.490     2.893   62537.230            0.581        0.457          0.500         57477.609     0.402\n",
      "25%    1.562812e+07       583.000    32.000     3.000       0.000            1.000        0.000          0.000         52013.040     0.000\n",
      "50%    1.569191e+07       652.000    37.000     5.000   97267.100            1.000        1.000          1.000        100839.505     0.000\n",
      "75%    1.575293e+07       718.000    44.000     8.000  127611.333            2.000        1.000          1.000        149748.318     0.000\n",
      "max    1.581569e+07       850.000    92.000    10.000  250898.090            4.000        1.000          1.000        199970.740     1.000\n",
      "mean   1.569104e+07       650.796    38.801     5.032   76353.760            1.531        0.704          0.515        100781.929     0.203\n",
      "count  8.000000e+03      8000.000  8000.000  8000.000    8000.000         8000.000     8000.000       8000.000          8000.000  8000.000\n",
      "\n",
      "Statistics of Data:\n"
     ]
    },
    {
     "data": {
      "text/html": [
       "<style type=\"text/css\">\n",
       "\ttable {border:ridge 5px;}\n",
       "\ttable td {border:inset 1px;}\n",
       "\ttable tr#HeaderRow {background-color:grey; color:white;}</style>\n",
       "<html><table>\n",
       "\t<tr id=\"HeaderRow\">\n",
       "\t\t<th>func</th>\n",
       "\t\t<th>customer_id</th>\n",
       "\t\t<th>credit_score</th>\n",
       "\t\t<th>age</th>\n",
       "\t\t<th>tenure</th>\n",
       "\t\t<th>balance</th>\n",
       "\t\t<th>products_number</th>\n",
       "\t\t<th>credit_card</th>\n",
       "\t\t<th>active_member</th>\n",
       "\t\t<th>estimated_salary</th>\n",
       "\t\t<th>churn</th>\n",
       "\t</tr>\n",
       "\t<tr>\n",
       "\t\t<td>std</td>\n",
       "\t\t<td>72066.421</td>\n",
       "\t\t<td>96.876</td>\n",
       "\t\t<td>10.49</td>\n",
       "\t\t<td>2.893</td>\n",
       "\t\t<td>62537.23</td>\n",
       "\t\t<td>0.581</td>\n",
       "\t\t<td>0.457</td>\n",
       "\t\t<td>0.5</td>\n",
       "\t\t<td>57477.609</td>\n",
       "\t\t<td>0.402</td>\n",
       "\t</tr>\n",
       "\t<tr>\n",
       "\t\t<td>25%</td>\n",
       "\t\t<td>15628120.25</td>\n",
       "\t\t<td>583</td>\n",
       "\t\t<td>32</td>\n",
       "\t\t<td>3</td>\n",
       "\t\t<td>0</td>\n",
       "\t\t<td>1</td>\n",
       "\t\t<td>0</td>\n",
       "\t\t<td>0</td>\n",
       "\t\t<td>52013.04</td>\n",
       "\t\t<td>0</td>\n",
       "\t</tr>\n",
       "\t<tr>\n",
       "\t\t<td>50%</td>\n",
       "\t\t<td>15691908</td>\n",
       "\t\t<td>652</td>\n",
       "\t\t<td>37</td>\n",
       "\t\t<td>5</td>\n",
       "\t\t<td>97267.1</td>\n",
       "\t\t<td>1</td>\n",
       "\t\t<td>1</td>\n",
       "\t\t<td>1</td>\n",
       "\t\t<td>100839.505</td>\n",
       "\t\t<td>0</td>\n",
       "\t</tr>\n",
       "\t<tr>\n",
       "\t\t<td>75%</td>\n",
       "\t\t<td>15752925.25</td>\n",
       "\t\t<td>718</td>\n",
       "\t\t<td>44</td>\n",
       "\t\t<td>8</td>\n",
       "\t\t<td>127611.333</td>\n",
       "\t\t<td>2</td>\n",
       "\t\t<td>1</td>\n",
       "\t\t<td>1</td>\n",
       "\t\t<td>149748.318</td>\n",
       "\t\t<td>0</td>\n",
       "\t</tr>\n",
       "\t<tr>\n",
       "\t\t<td>max</td>\n",
       "\t\t<td>15815690</td>\n",
       "\t\t<td>850</td>\n",
       "\t\t<td>92</td>\n",
       "\t\t<td>10</td>\n",
       "\t\t<td>250898.09</td>\n",
       "\t\t<td>4</td>\n",
       "\t\t<td>1</td>\n",
       "\t\t<td>1</td>\n",
       "\t\t<td>199970.74</td>\n",
       "\t\t<td>1</td>\n",
       "\t</tr>\n",
       "\t<tr>\n",
       "\t\t<td>min</td>\n",
       "\t\t<td>15565701</td>\n",
       "\t\t<td>350</td>\n",
       "\t\t<td>18</td>\n",
       "\t\t<td>0</td>\n",
       "\t\t<td>0</td>\n",
       "\t\t<td>1</td>\n",
       "\t\t<td>0</td>\n",
       "\t\t<td>0</td>\n",
       "\t\t<td>11.58</td>\n",
       "\t\t<td>0</td>\n",
       "\t</tr>\n",
       "\t<tr>\n",
       "\t\t<td>mean</td>\n",
       "\t\t<td>15691040.312</td>\n",
       "\t\t<td>650.796</td>\n",
       "\t\t<td>38.801</td>\n",
       "\t\t<td>5.032</td>\n",
       "\t\t<td>76353.76</td>\n",
       "\t\t<td>1.531</td>\n",
       "\t\t<td>0.704</td>\n",
       "\t\t<td>0.515</td>\n",
       "\t\t<td>100781.929</td>\n",
       "\t\t<td>0.203</td>\n",
       "\t</tr>\n",
       "\t<tr>\n",
       "\t\t<td>count</td>\n",
       "\t\t<td>8000</td>\n",
       "\t\t<td>8000</td>\n",
       "\t\t<td>8000</td>\n",
       "\t\t<td>8000</td>\n",
       "\t\t<td>8000</td>\n",
       "\t\t<td>8000</td>\n",
       "\t\t<td>8000</td>\n",
       "\t\t<td>8000</td>\n",
       "\t\t<td>8000</td>\n",
       "\t\t<td>8000</td>\n",
       "\t</tr>\n",
       "</table></html>"
      ],
      "text/plain": [
       "        customer_id  credit_score       age    tenure     balance  products_number  credit_card  active_member  estimated_salary     churn\n",
       "func                                                                                                                                      \n",
       "std    7.206642e+04        96.876    10.490     2.893   62537.230            0.581        0.457          0.500         57477.609     0.402\n",
       "25%    1.562812e+07       583.000    32.000     3.000       0.000            1.000        0.000          0.000         52013.040     0.000\n",
       "50%    1.569191e+07       652.000    37.000     5.000   97267.100            1.000        1.000          1.000        100839.505     0.000\n",
       "75%    1.575293e+07       718.000    44.000     8.000  127611.333            2.000        1.000          1.000        149748.318     0.000\n",
       "max    1.581569e+07       850.000    92.000    10.000  250898.090            4.000        1.000          1.000        199970.740     1.000\n",
       "min    1.556570e+07       350.000    18.000     0.000       0.000            1.000        0.000          0.000            11.580     0.000\n",
       "mean   1.569104e+07       650.796    38.801     5.032   76353.760            1.531        0.704          0.515        100781.929     0.203\n",
       "count  8.000000e+03      8000.000  8000.000  8000.000    8000.000         8000.000     8000.000       8000.000          8000.000  8000.000"
      ]
     },
     "metadata": {},
     "output_type": "display_data"
    },
    {
     "name": "stdout",
     "output_type": "stream",
     "text": [
      "\n",
      "Categorical Columns with their Distinct values:\n",
      "ColumnName                DistinctValueCount\n",
      "country                   3         \n",
      "gender                    2         \n",
      "\n",
      "No Futile columns found.\n",
      "\n",
      "Target Column Distribution:\n"
     ]
    },
    {
     "data": {
      "image/png": "[encoded data removed]",
      "text/plain": [
       "<Figure size 600x600 with 1 Axes>"
      ]
     },
     "metadata": {},
     "output_type": "display_data"
    },
    {
     "name": "stdout",
     "output_type": "stream",
     "text": [
      "Columns with outlier percentage :-                                                                                                                                                                                                                                                                                                                                                                                                                                                                                  \n",
      "        ColumnName  OutlierPercentage\n",
      "0              age             3.5500\n",
      "1  products_number             0.5875\n",
      "2     credit_score             0.1125\n",
      "3            churn            20.2625\n",
      "                                                                                        \r"
     ]
    },
    {
     "data": {
      "text/html": [
       "\n",
       "            <style>\n",
       "                .custom-div {\n",
       "                    background-color: lightgray;\n",
       "                    color: #000000;\n",
       "                    padding: 10px;\n",
       "                    border-radius: 8px;\n",
       "                    box-shadow: 0 3px 4px rgba(0 -  0 -  0 -  0.2);\n",
       "                    margin-bottom: 10px;\n",
       "                    text-align: center;\n",
       "                }\n",
       "            </style>\n",
       "        <br><div class=\"custom-div\"><h3><span style=\"color: green;\">1. Feature Exploration -></span> 2. Feature Engineering -> 3. Data Preparation -> 4. Model Training & Evaluation<center></h3></center></div>"
      ],
      "text/plain": [
       "<IPython.core.display.HTML object>"
      ]
     },
     "metadata": {},
     "output_type": "display_data"
    },
    {
     "name": "stdout",
     "output_type": "stream",
     "text": [
      "                                                                                        \r"
     ]
    },
    {
     "data": {
      "text/html": [
       "Feature Engineering started ..."
      ],
      "text/plain": [
       "<IPython.core.display.HTML object>"
      ]
     },
     "metadata": {},
     "output_type": "display_data"
    },
    {
     "name": "stdout",
     "output_type": "stream",
     "text": [
      "                                                                                        \r"
     ]
    },
    {
     "data": {
      "text/html": [
       "\n",
       "Handling duplicate records present in dataset ..."
      ],
      "text/plain": [
       "<IPython.core.display.HTML object>"
      ]
     },
     "metadata": {},
     "output_type": "display_data"
    },
    {
     "name": "stdout",
     "output_type": "stream",
     "text": [
      "Analysis completed. No action taken.                                                    \n",
      "                                                                                        \r"
     ]
    },
    {
     "data": {
      "text/html": [
       "Total time to handle duplicate records: 1.81 sec  "
      ],
      "text/plain": [
       "<IPython.core.display.HTML object>"
      ]
     },
     "metadata": {},
     "output_type": "display_data"
    },
    {
     "name": "stdout",
     "output_type": "stream",
     "text": [
      "                                                                                        \r"
     ]
    },
    {
     "data": {
      "text/html": [
       "\n",
       "Handling less significant features from data ..."
      ],
      "text/plain": [
       "<IPython.core.display.HTML object>"
      ]
     },
     "metadata": {},
     "output_type": "display_data"
    },
    {
     "name": "stdout",
     "output_type": "stream",
     "text": [
      "Analysis indicates all categorical columns are significant. No action Needed.           \n",
      "                                                                                        \r"
     ]
    },
    {
     "data": {
      "text/html": [
       "Total time to handle less significant features: 17.60 sec  "
      ],
      "text/plain": [
       "<IPython.core.display.HTML object>"
      ]
     },
     "metadata": {},
     "output_type": "display_data"
    },
    {
     "name": "stdout",
     "output_type": "stream",
     "text": [
      "                                                                                         \r"
     ]
    },
    {
     "data": {
      "text/html": [
       "\n",
       "Handling Date Features ..."
      ],
      "text/plain": [
       "<IPython.core.display.HTML object>"
      ]
     },
     "metadata": {},
     "output_type": "display_data"
    },
    {
     "name": "stdout",
     "output_type": "stream",
     "text": [
      "Analysis Completed. Dataset does not contain any feature related to dates. No action needed.\n",
      "                                                                                         \r"
     ]
    },
    {
     "data": {
      "text/html": [
       "Total time to handle date features: 0.00 sec\n"
      ],
      "text/plain": [
       "<IPython.core.display.HTML object>"
      ]
     },
     "metadata": {},
     "output_type": "display_data"
    },
    {
     "name": "stdout",
     "output_type": "stream",
     "text": [
      "                                                                                         \r"
     ]
    },
    {
     "data": {
      "text/html": [
       "\n",
       "Checking Missing values in dataset ..."
      ],
      "text/plain": [
       "<IPython.core.display.HTML object>"
      ]
     },
     "metadata": {},
     "output_type": "display_data"
    },
    {
     "name": "stdout",
     "output_type": "stream",
     "text": [
      "Analysis Completed. No Missing Values Detected.                                          \n",
      "                                                                                         \r"
     ]
    },
    {
     "data": {
      "text/html": [
       "Total time to find missing values in data: 8.37 sec  "
      ],
      "text/plain": [
       "<IPython.core.display.HTML object>"
      ]
     },
     "metadata": {},
     "output_type": "display_data"
    },
    {
     "name": "stdout",
     "output_type": "stream",
     "text": [
      "                                                                                         \r"
     ]
    },
    {
     "data": {
      "text/html": [
       "\n",
       "Imputing Missing Values ..."
      ],
      "text/plain": [
       "<IPython.core.display.HTML object>"
      ]
     },
     "metadata": {},
     "output_type": "display_data"
    },
    {
     "name": "stdout",
     "output_type": "stream",
     "text": [
      "Analysis completed. No imputation required.                                              \n",
      "                                                                                         \r"
     ]
    },
    {
     "data": {
      "text/html": [
       "Time taken to perform imputation: 0.01 sec  "
      ],
      "text/plain": [
       "<IPython.core.display.HTML object>"
      ]
     },
     "metadata": {},
     "output_type": "display_data"
    },
    {
     "name": "stdout",
     "output_type": "stream",
     "text": [
      "                                                                                         \r"
     ]
    },
    {
     "data": {
      "text/html": [
       "\n",
       "Performing encoding for categorical columns ..."
      ],
      "text/plain": [
       "<IPython.core.display.HTML object>"
      ]
     },
     "metadata": {},
     "output_type": "display_data"
    },
    {
     "name": "stdout",
     "output_type": "stream",
     "text": [
      "                                                                                         \r"
     ]
    },
    {
     "data": {
      "text/html": [
       "ONE HOT Encoding these Columns:"
      ],
      "text/plain": [
       "<IPython.core.display.HTML object>"
      ]
     },
     "metadata": {},
     "output_type": "display_data"
    },
    {
     "name": "stdout",
     "output_type": "stream",
     "text": [
      "['country', 'gender']\n",
      "                                                                                         \r"
     ]
    },
    {
     "data": {
      "text/html": [
       "Sample of dataset after performing one hot encoding:"
      ],
      "text/plain": [
       "<IPython.core.display.HTML object>"
      ]
     },
     "metadata": {},
     "output_type": "display_data"
    },
    {
     "data": {
      "text/html": [
       "<style type=\"text/css\">\n",
       "\ttable {border:ridge 5px;}\n",
       "\ttable td {border:inset 1px;}\n",
       "\ttable tr#HeaderRow {background-color:grey; color:white;}</style>\n",
       "<html><table>\n",
       "\t<tr id=\"HeaderRow\">\n",
       "\t\t<th>customer_id</th>\n",
       "\t\t<th>credit_score</th>\n",
       "\t\t<th>country_0</th>\n",
       "\t\t<th>country_1</th>\n",
       "\t\t<th>country_2</th>\n",
       "\t\t<th>gender_0</th>\n",
       "\t\t<th>gender_1</th>\n",
       "\t\t<th>age</th>\n",
       "\t\t<th>tenure</th>\n",
       "\t\t<th>balance</th>\n",
       "\t\t<th>products_number</th>\n",
       "\t\t<th>credit_card</th>\n",
       "\t\t<th>active_member</th>\n",
       "\t\t<th>estimated_salary</th>\n",
       "\t\t<th>churn</th>\n",
       "\t\t<th>id</th>\n",
       "\t</tr>\n",
       "\t<tr>\n",
       "\t\t<td>15748589</td>\n",
       "\t\t<td>736</td>\n",
       "\t\t<td>1</td>\n",
       "\t\t<td>0</td>\n",
       "\t\t<td>0</td>\n",
       "\t\t<td>1</td>\n",
       "\t\t<td>0</td>\n",
       "\t\t<td>30</td>\n",
       "\t\t<td>9</td>\n",
       "\t\t<td>0.0</td>\n",
       "\t\t<td>2</td>\n",
       "\t\t<td>1</td>\n",
       "\t\t<td>0</td>\n",
       "\t\t<td>34180.33</td>\n",
       "\t\t<td>0</td>\n",
       "\t\t<td>28</td>\n",
       "\t</tr>\n",
       "\t<tr>\n",
       "\t\t<td>15664615</td>\n",
       "\t\t<td>689</td>\n",
       "\t\t<td>0</td>\n",
       "\t\t<td>1</td>\n",
       "\t\t<td>0</td>\n",
       "\t\t<td>1</td>\n",
       "\t\t<td>0</td>\n",
       "\t\t<td>30</td>\n",
       "\t\t<td>5</td>\n",
       "\t\t<td>136650.89</td>\n",
       "\t\t<td>1</td>\n",
       "\t\t<td>1</td>\n",
       "\t\t<td>1</td>\n",
       "\t\t<td>41865.72</td>\n",
       "\t\t<td>1</td>\n",
       "\t\t<td>44</td>\n",
       "\t</tr>\n",
       "\t<tr>\n",
       "\t\t<td>15769246</td>\n",
       "\t\t<td>813</td>\n",
       "\t\t<td>0</td>\n",
       "\t\t<td>1</td>\n",
       "\t\t<td>0</td>\n",
       "\t\t<td>0</td>\n",
       "\t\t<td>1</td>\n",
       "\t\t<td>59</td>\n",
       "\t\t<td>2</td>\n",
       "\t\t<td>135078.41</td>\n",
       "\t\t<td>1</td>\n",
       "\t\t<td>1</td>\n",
       "\t\t<td>0</td>\n",
       "\t\t<td>187636.06</td>\n",
       "\t\t<td>1</td>\n",
       "\t\t<td>52</td>\n",
       "\t</tr>\n",
       "\t<tr>\n",
       "\t\t<td>15748854</td>\n",
       "\t\t<td>723</td>\n",
       "\t\t<td>0</td>\n",
       "\t\t<td>1</td>\n",
       "\t\t<td>0</td>\n",
       "\t\t<td>1</td>\n",
       "\t\t<td>0</td>\n",
       "\t\t<td>28</td>\n",
       "\t\t<td>5</td>\n",
       "\t\t<td>91938.31</td>\n",
       "\t\t<td>1</td>\n",
       "\t\t<td>1</td>\n",
       "\t\t<td>0</td>\n",
       "\t\t<td>143481.85</td>\n",
       "\t\t<td>0</td>\n",
       "\t\t<td>60</td>\n",
       "\t</tr>\n",
       "\t<tr>\n",
       "\t\t<td>15684395</td>\n",
       "\t\t<td>446</td>\n",
       "\t\t<td>0</td>\n",
       "\t\t<td>0</td>\n",
       "\t\t<td>1</td>\n",
       "\t\t<td>1</td>\n",
       "\t\t<td>0</td>\n",
       "\t\t<td>45</td>\n",
       "\t\t<td>10</td>\n",
       "\t\t<td>125191.69</td>\n",
       "\t\t<td>1</td>\n",
       "\t\t<td>1</td>\n",
       "\t\t<td>1</td>\n",
       "\t\t<td>128260.86</td>\n",
       "\t\t<td>1</td>\n",
       "\t\t<td>76</td>\n",
       "\t</tr>\n",
       "\t<tr>\n",
       "\t\t<td>15677217</td>\n",
       "\t\t<td>705</td>\n",
       "\t\t<td>1</td>\n",
       "\t\t<td>0</td>\n",
       "\t\t<td>0</td>\n",
       "\t\t<td>0</td>\n",
       "\t\t<td>1</td>\n",
       "\t\t<td>30</td>\n",
       "\t\t<td>1</td>\n",
       "\t\t<td>0.0</td>\n",
       "\t\t<td>1</td>\n",
       "\t\t<td>1</td>\n",
       "\t\t<td>1</td>\n",
       "\t\t<td>181300.32</td>\n",
       "\t\t<td>0</td>\n",
       "\t\t<td>84</td>\n",
       "\t</tr>\n",
       "\t<tr>\n",
       "\t\t<td>15712903</td>\n",
       "\t\t<td>499</td>\n",
       "\t\t<td>1</td>\n",
       "\t\t<td>0</td>\n",
       "\t\t<td>0</td>\n",
       "\t\t<td>1</td>\n",
       "\t\t<td>0</td>\n",
       "\t\t<td>21</td>\n",
       "\t\t<td>3</td>\n",
       "\t\t<td>176511.08</td>\n",
       "\t\t<td>1</td>\n",
       "\t\t<td>1</td>\n",
       "\t\t<td>1</td>\n",
       "\t\t<td>153920.22</td>\n",
       "\t\t<td>0</td>\n",
       "\t\t<td>68</td>\n",
       "\t</tr>\n",
       "\t<tr>\n",
       "\t\t<td>15791045</td>\n",
       "\t\t<td>568</td>\n",
       "\t\t<td>1</td>\n",
       "\t\t<td>0</td>\n",
       "\t\t<td>0</td>\n",
       "\t\t<td>1</td>\n",
       "\t\t<td>0</td>\n",
       "\t\t<td>38</td>\n",
       "\t\t<td>3</td>\n",
       "\t\t<td>132951.92</td>\n",
       "\t\t<td>1</td>\n",
       "\t\t<td>0</td>\n",
       "\t\t<td>1</td>\n",
       "\t\t<td>124486.28</td>\n",
       "\t\t<td>0</td>\n",
       "\t\t<td>36</td>\n",
       "\t</tr>\n",
       "\t<tr>\n",
       "\t\t<td>15685476</td>\n",
       "\t\t<td>658</td>\n",
       "\t\t<td>1</td>\n",
       "\t\t<td>0</td>\n",
       "\t\t<td>0</td>\n",
       "\t\t<td>0</td>\n",
       "\t\t<td>1</td>\n",
       "\t\t<td>31</td>\n",
       "\t\t<td>5</td>\n",
       "\t\t<td>100082.14</td>\n",
       "\t\t<td>1</td>\n",
       "\t\t<td>0</td>\n",
       "\t\t<td>1</td>\n",
       "\t\t<td>49809.88</td>\n",
       "\t\t<td>0</td>\n",
       "\t\t<td>20</td>\n",
       "\t</tr>\n",
       "\t<tr>\n",
       "\t\t<td>15614716</td>\n",
       "\t\t<td>515</td>\n",
       "\t\t<td>1</td>\n",
       "\t\t<td>0</td>\n",
       "\t\t<td>0</td>\n",
       "\t\t<td>1</td>\n",
       "\t\t<td>0</td>\n",
       "\t\t<td>37</td>\n",
       "\t\t<td>0</td>\n",
       "\t\t<td>196853.62</td>\n",
       "\t\t<td>1</td>\n",
       "\t\t<td>1</td>\n",
       "\t\t<td>1</td>\n",
       "\t\t<td>132770.11</td>\n",
       "\t\t<td>0</td>\n",
       "\t\t<td>12</td>\n",
       "\t</tr>\n",
       "</table></html>"
      ],
      "text/plain": [
       "             credit_score  country_0  country_1  country_2  gender_0  gender_1  age  tenure    balance  products_number  credit_card  active_member  estimated_salary  churn  id\n",
       "customer_id                                                                                                                                                                     \n",
       "15748589              736          1          0          0         1         0   30       9       0.00                2            1              0          34180.33      0  28\n",
       "15664615              689          0          1          0         1         0   30       5  136650.89                1            1              1          41865.72      1  44\n",
       "15769246              813          0          1          0         0         1   59       2  135078.41                1            1              0         187636.06      1  52\n",
       "15748854              723          0          1          0         1         0   28       5   91938.31                1            1              0         143481.85      0  60\n",
       "15684395              446          0          0          1         1         0   45      10  125191.69                1            1              1         128260.86      1  76\n",
       "15677217              705          1          0          0         0         1   30       1       0.00                1            1              1         181300.32      0  84\n",
       "15712903              499          1          0          0         1         0   21       3  176511.08                1            1              1         153920.22      0  68\n",
       "15791045              568          1          0          0         1         0   38       3  132951.92                1            0              1         124486.28      0  36\n",
       "15685476              658          1          0          0         0         1   31       5  100082.14                1            0              1          49809.88      0  20\n",
       "15614716              515          1          0          0         1         0   37       0  196853.62                1            1              1         132770.11      0  12"
      ]
     },
     "metadata": {},
     "output_type": "display_data"
    },
    {
     "name": "stdout",
     "output_type": "stream",
     "text": [
      "                                                                                         \r"
     ]
    },
    {
     "data": {
      "text/html": [
       "8000 rows X 16 columns"
      ],
      "text/plain": [
       "<IPython.core.display.HTML object>"
      ]
     },
     "metadata": {},
     "output_type": "display_data"
    },
    {
     "name": "stdout",
     "output_type": "stream",
     "text": [
      "                                                                                         \r"
     ]
    },
    {
     "data": {
      "text/html": [
       "Time taken to encode the columns: 17.38 sec"
      ],
      "text/plain": [
       "<IPython.core.display.HTML object>"
      ]
     },
     "metadata": {},
     "output_type": "display_data"
    },
    {
     "name": "stdout",
     "output_type": "stream",
     "text": [
      "                                                                                         \r"
     ]
    },
    {
     "data": {
      "text/html": [
       "\n",
       "            <style>\n",
       "                .custom-div {\n",
       "                    background-color: lightgray;\n",
       "                    color: #000000;\n",
       "                    padding: 10px;\n",
       "                    border-radius: 8px;\n",
       "                    box-shadow: 0 3px 4px rgba(0 -  0 -  0 -  0.2);\n",
       "                    margin-bottom: 10px;\n",
       "                    text-align: center;\n",
       "                }\n",
       "            </style>\n",
       "        <br><div class=\"custom-div\"><h3><span style=\"color: green;\">1. Feature Exploration -> 2. Feature Engineering -></span> 3. Data Preparation -> 4. Model Training & Evaluation<center></h3></center></div>"
      ],
      "text/plain": [
       "<IPython.core.display.HTML object>"
      ]
     },
     "metadata": {},
     "output_type": "display_data"
    },
    {
     "name": "stdout",
     "output_type": "stream",
     "text": [
      "                                                                                         \r"
     ]
    },
    {
     "data": {
      "text/html": [
       "Data preparation started ..."
      ],
      "text/plain": [
       "<IPython.core.display.HTML object>"
      ]
     },
     "metadata": {},
     "output_type": "display_data"
    },
    {
     "name": "stdout",
     "output_type": "stream",
     "text": [
      "                                                                                         \r"
     ]
    },
    {
     "data": {
      "text/html": [
       "\n",
       "Outlier preprocessing ..."
      ],
      "text/plain": [
       "<IPython.core.display.HTML object>"
      ]
     },
     "metadata": {},
     "output_type": "display_data"
    },
    {
     "name": "stdout",
     "output_type": "stream",
     "text": [
      "Columns with outlier percentage :-                                                                                                                                                                                                                                                                                                                                                                                                                                                                                  \n",
      "        ColumnName  OutlierPercentage\n",
      "0  products_number             0.5875\n",
      "1            churn            20.2625\n",
      "2              age             3.5500\n",
      "3     credit_score             0.1125\n",
      "                                                                                         \r"
     ]
    },
    {
     "data": {
      "text/html": [
       "Deleting rows of these columns:"
      ],
      "text/plain": [
       "<IPython.core.display.HTML object>"
      ]
     },
     "metadata": {},
     "output_type": "display_data"
    },
    {
     "name": "stdout",
     "output_type": "stream",
     "text": [
      "['credit_score', 'age', 'products_number']\n",
      "                                                                                         \r"
     ]
    },
    {
     "data": {
      "text/html": [
       "Sample of dataset after removing outlier rows:"
      ],
      "text/plain": [
       "<IPython.core.display.HTML object>"
      ]
     },
     "metadata": {},
     "output_type": "display_data"
    },
    {
     "data": {
      "text/html": [
       "<style type=\"text/css\">\n",
       "\ttable {border:ridge 5px;}\n",
       "\ttable td {border:inset 1px;}\n",
       "\ttable tr#HeaderRow {background-color:grey; color:white;}</style>\n",
       "<html><table>\n",
       "\t<tr id=\"HeaderRow\">\n",
       "\t\t<th>customer_id</th>\n",
       "\t\t<th>credit_score</th>\n",
       "\t\t<th>country_0</th>\n",
       "\t\t<th>country_1</th>\n",
       "\t\t<th>country_2</th>\n",
       "\t\t<th>gender_0</th>\n",
       "\t\t<th>gender_1</th>\n",
       "\t\t<th>age</th>\n",
       "\t\t<th>tenure</th>\n",
       "\t\t<th>balance</th>\n",
       "\t\t<th>products_number</th>\n",
       "\t\t<th>credit_card</th>\n",
       "\t\t<th>active_member</th>\n",
       "\t\t<th>estimated_salary</th>\n",
       "\t\t<th>churn</th>\n",
       "\t\t<th>id</th>\n",
       "\t</tr>\n",
       "\t<tr>\n",
       "\t\t<td>15748589</td>\n",
       "\t\t<td>736</td>\n",
       "\t\t<td>1</td>\n",
       "\t\t<td>0</td>\n",
       "\t\t<td>0</td>\n",
       "\t\t<td>1</td>\n",
       "\t\t<td>0</td>\n",
       "\t\t<td>30</td>\n",
       "\t\t<td>9</td>\n",
       "\t\t<td>0.0</td>\n",
       "\t\t<td>2</td>\n",
       "\t\t<td>1</td>\n",
       "\t\t<td>0</td>\n",
       "\t\t<td>34180.33</td>\n",
       "\t\t<td>0</td>\n",
       "\t\t<td>28</td>\n",
       "\t</tr>\n",
       "\t<tr>\n",
       "\t\t<td>15664615</td>\n",
       "\t\t<td>689</td>\n",
       "\t\t<td>0</td>\n",
       "\t\t<td>1</td>\n",
       "\t\t<td>0</td>\n",
       "\t\t<td>1</td>\n",
       "\t\t<td>0</td>\n",
       "\t\t<td>30</td>\n",
       "\t\t<td>5</td>\n",
       "\t\t<td>136650.89</td>\n",
       "\t\t<td>1</td>\n",
       "\t\t<td>1</td>\n",
       "\t\t<td>1</td>\n",
       "\t\t<td>41865.72</td>\n",
       "\t\t<td>1</td>\n",
       "\t\t<td>44</td>\n",
       "\t</tr>\n",
       "\t<tr>\n",
       "\t\t<td>15769246</td>\n",
       "\t\t<td>813</td>\n",
       "\t\t<td>0</td>\n",
       "\t\t<td>1</td>\n",
       "\t\t<td>0</td>\n",
       "\t\t<td>0</td>\n",
       "\t\t<td>1</td>\n",
       "\t\t<td>59</td>\n",
       "\t\t<td>2</td>\n",
       "\t\t<td>135078.41</td>\n",
       "\t\t<td>1</td>\n",
       "\t\t<td>1</td>\n",
       "\t\t<td>0</td>\n",
       "\t\t<td>187636.06</td>\n",
       "\t\t<td>1</td>\n",
       "\t\t<td>52</td>\n",
       "\t</tr>\n",
       "\t<tr>\n",
       "\t\t<td>15748854</td>\n",
       "\t\t<td>723</td>\n",
       "\t\t<td>0</td>\n",
       "\t\t<td>1</td>\n",
       "\t\t<td>0</td>\n",
       "\t\t<td>1</td>\n",
       "\t\t<td>0</td>\n",
       "\t\t<td>28</td>\n",
       "\t\t<td>5</td>\n",
       "\t\t<td>91938.31</td>\n",
       "\t\t<td>1</td>\n",
       "\t\t<td>1</td>\n",
       "\t\t<td>0</td>\n",
       "\t\t<td>143481.85</td>\n",
       "\t\t<td>0</td>\n",
       "\t\t<td>60</td>\n",
       "\t</tr>\n",
       "\t<tr>\n",
       "\t\t<td>15684395</td>\n",
       "\t\t<td>446</td>\n",
       "\t\t<td>0</td>\n",
       "\t\t<td>0</td>\n",
       "\t\t<td>1</td>\n",
       "\t\t<td>1</td>\n",
       "\t\t<td>0</td>\n",
       "\t\t<td>45</td>\n",
       "\t\t<td>10</td>\n",
       "\t\t<td>125191.69</td>\n",
       "\t\t<td>1</td>\n",
       "\t\t<td>1</td>\n",
       "\t\t<td>1</td>\n",
       "\t\t<td>128260.86</td>\n",
       "\t\t<td>1</td>\n",
       "\t\t<td>76</td>\n",
       "\t</tr>\n",
       "\t<tr>\n",
       "\t\t<td>15677217</td>\n",
       "\t\t<td>705</td>\n",
       "\t\t<td>1</td>\n",
       "\t\t<td>0</td>\n",
       "\t\t<td>0</td>\n",
       "\t\t<td>0</td>\n",
       "\t\t<td>1</td>\n",
       "\t\t<td>30</td>\n",
       "\t\t<td>1</td>\n",
       "\t\t<td>0.0</td>\n",
       "\t\t<td>1</td>\n",
       "\t\t<td>1</td>\n",
       "\t\t<td>1</td>\n",
       "\t\t<td>181300.32</td>\n",
       "\t\t<td>0</td>\n",
       "\t\t<td>84</td>\n",
       "\t</tr>\n",
       "\t<tr>\n",
       "\t\t<td>15712903</td>\n",
       "\t\t<td>499</td>\n",
       "\t\t<td>1</td>\n",
       "\t\t<td>0</td>\n",
       "\t\t<td>0</td>\n",
       "\t\t<td>1</td>\n",
       "\t\t<td>0</td>\n",
       "\t\t<td>21</td>\n",
       "\t\t<td>3</td>\n",
       "\t\t<td>176511.08</td>\n",
       "\t\t<td>1</td>\n",
       "\t\t<td>1</td>\n",
       "\t\t<td>1</td>\n",
       "\t\t<td>153920.22</td>\n",
       "\t\t<td>0</td>\n",
       "\t\t<td>68</td>\n",
       "\t</tr>\n",
       "\t<tr>\n",
       "\t\t<td>15791045</td>\n",
       "\t\t<td>568</td>\n",
       "\t\t<td>1</td>\n",
       "\t\t<td>0</td>\n",
       "\t\t<td>0</td>\n",
       "\t\t<td>1</td>\n",
       "\t\t<td>0</td>\n",
       "\t\t<td>38</td>\n",
       "\t\t<td>3</td>\n",
       "\t\t<td>132951.92</td>\n",
       "\t\t<td>1</td>\n",
       "\t\t<td>0</td>\n",
       "\t\t<td>1</td>\n",
       "\t\t<td>124486.28</td>\n",
       "\t\t<td>0</td>\n",
       "\t\t<td>36</td>\n",
       "\t</tr>\n",
       "\t<tr>\n",
       "\t\t<td>15685476</td>\n",
       "\t\t<td>658</td>\n",
       "\t\t<td>1</td>\n",
       "\t\t<td>0</td>\n",
       "\t\t<td>0</td>\n",
       "\t\t<td>0</td>\n",
       "\t\t<td>1</td>\n",
       "\t\t<td>31</td>\n",
       "\t\t<td>5</td>\n",
       "\t\t<td>100082.14</td>\n",
       "\t\t<td>1</td>\n",
       "\t\t<td>0</td>\n",
       "\t\t<td>1</td>\n",
       "\t\t<td>49809.88</td>\n",
       "\t\t<td>0</td>\n",
       "\t\t<td>20</td>\n",
       "\t</tr>\n",
       "\t<tr>\n",
       "\t\t<td>15614716</td>\n",
       "\t\t<td>515</td>\n",
       "\t\t<td>1</td>\n",
       "\t\t<td>0</td>\n",
       "\t\t<td>0</td>\n",
       "\t\t<td>1</td>\n",
       "\t\t<td>0</td>\n",
       "\t\t<td>37</td>\n",
       "\t\t<td>0</td>\n",
       "\t\t<td>196853.62</td>\n",
       "\t\t<td>1</td>\n",
       "\t\t<td>1</td>\n",
       "\t\t<td>1</td>\n",
       "\t\t<td>132770.11</td>\n",
       "\t\t<td>0</td>\n",
       "\t\t<td>12</td>\n",
       "\t</tr>\n",
       "</table></html>"
      ],
      "text/plain": [
       "             credit_score  country_0  country_1  country_2  gender_0  gender_1  age  tenure    balance  products_number  credit_card  active_member  estimated_salary  churn  id\n",
       "customer_id                                                                                                                                                                     \n",
       "15748589              736          1          0          0         1         0   30       9       0.00                2            1              0          34180.33      0  28\n",
       "15664615              689          0          1          0         1         0   30       5  136650.89                1            1              1          41865.72      1  44\n",
       "15769246              813          0          1          0         0         1   59       2  135078.41                1            1              0         187636.06      1  52\n",
       "15748854              723          0          1          0         1         0   28       5   91938.31                1            1              0         143481.85      0  60\n",
       "15684395              446          0          0          1         1         0   45      10  125191.69                1            1              1         128260.86      1  76\n",
       "15677217              705          1          0          0         0         1   30       1       0.00                1            1              1         181300.32      0  84\n",
       "15712903              499          1          0          0         1         0   21       3  176511.08                1            1              1         153920.22      0  68\n",
       "15791045              568          1          0          0         1         0   38       3  132951.92                1            0              1         124486.28      0  36\n",
       "15685476              658          1          0          0         0         1   31       5  100082.14                1            0              1          49809.88      0  20\n",
       "15614716              515          1          0          0         1         0   37       0  196853.62                1            1              1         132770.11      0  12"
      ]
     },
     "metadata": {},
     "output_type": "display_data"
    },
    {
     "name": "stdout",
     "output_type": "stream",
     "text": [
      "                                                                                         \r"
     ]
    },
    {
     "data": {
      "text/html": [
       "7661 rows X 16 columns"
      ],
      "text/plain": [
       "<IPython.core.display.HTML object>"
      ]
     },
     "metadata": {},
     "output_type": "display_data"
    },
    {
     "name": "stdout",
     "output_type": "stream",
     "text": [
      "                                                                                         \r"
     ]
    },
    {
     "data": {
      "text/html": [
       "Time Taken by Outlier processing: 42.23 sec "
      ],
      "text/plain": [
       "<IPython.core.display.HTML object>"
      ]
     },
     "metadata": {},
     "output_type": "display_data"
    },
    {
     "name": "stdout",
     "output_type": "stream",
     "text": [
      "                                                                                         \r"
     ]
    },
    {
     "data": {
      "text/html": [
       "\n",
       "Checking imbalance data ..."
      ],
      "text/plain": [
       "<IPython.core.display.HTML object>"
      ]
     },
     "metadata": {},
     "output_type": "display_data"
    },
    {
     "name": "stdout",
     "output_type": "stream",
     "text": [
      "                                                                                         \r"
     ]
    },
    {
     "data": {
      "text/html": [
       "Imbalance Found."
      ],
      "text/plain": [
       "<IPython.core.display.HTML object>"
      ]
     },
     "metadata": {},
     "output_type": "display_data"
    },
    {
     "name": "stdout",
     "output_type": "stream",
     "text": [
      "                                                                                         \r"
     ]
    },
    {
     "data": {
      "text/html": [
       "\n",
       "Starting data imbalance handling ..."
      ],
      "text/plain": [
       "<IPython.core.display.HTML object>"
      ]
     },
     "metadata": {},
     "output_type": "display_data"
    },
    {
     "name": "stdout",
     "output_type": "stream",
     "text": [
      "                                                                                         \r"
     ]
    },
    {
     "data": {
      "text/html": [
       "\n",
       "Balancing the data using SMOTE..."
      ],
      "text/plain": [
       "<IPython.core.display.HTML object>"
      ]
     },
     "metadata": {},
     "output_type": "display_data"
    },
    {
     "name": "stdout",
     "output_type": "stream",
     "text": [
      "                                                                                         \r"
     ]
    },
    {
     "data": {
      "text/html": [
       "Handled imbalanced dataset using SMOTE: 0.04 sec"
      ],
      "text/plain": [
       "<IPython.core.display.HTML object>"
      ]
     },
     "metadata": {},
     "output_type": "display_data"
    },
    {
     "name": "stdout",
     "output_type": "stream",
     "text": [
      "                                                                                         \r"
     ]
    },
    {
     "data": {
      "text/html": [
       "Completed data imbalance handling."
      ],
      "text/plain": [
       "<IPython.core.display.HTML object>"
      ]
     },
     "metadata": {},
     "output_type": "display_data"
    },
    {
     "name": "stdout",
     "output_type": "stream",
     "text": [
      "                                                                                         \r"
     ]
    },
    {
     "data": {
      "text/html": [
       "\n",
       "Feature selection using lasso ..."
      ],
      "text/plain": [
       "<IPython.core.display.HTML object>"
      ]
     },
     "metadata": {},
     "output_type": "display_data"
    },
    {
     "name": "stdout",
     "output_type": "stream",
     "text": [
      "                                                                                         \r"
     ]
    },
    {
     "data": {
      "text/html": [
       "feature selected by lasso:"
      ],
      "text/plain": [
       "<IPython.core.display.HTML object>"
      ]
     },
     "metadata": {},
     "output_type": "display_data"
    },
    {
     "name": "stdout",
     "output_type": "stream",
     "text": [
      "['customer_id', 'country_2', 'balance', 'estimated_salary', 'products_number', 'credit_score', 'country_1', 'tenure', 'active_member', 'gender_1', 'credit_card', 'country_0', 'age', 'gender_0']\n",
      "                                                                                         \r"
     ]
    },
    {
     "data": {
      "text/html": [
       "Total time taken by feature selection: 23.11 sec  "
      ],
      "text/plain": [
       "<IPython.core.display.HTML object>"
      ]
     },
     "metadata": {},
     "output_type": "display_data"
    },
    {
     "name": "stdout",
     "output_type": "stream",
     "text": [
      "                                                                                         \r"
     ]
    },
    {
     "data": {
      "text/html": [
       "\n",
       "scaling Features of lasso data ..."
      ],
      "text/plain": [
       "<IPython.core.display.HTML object>"
      ]
     },
     "metadata": {},
     "output_type": "display_data"
    },
    {
     "name": "stdout",
     "output_type": "stream",
     "text": [
      "                                                                                         \r"
     ]
    },
    {
     "data": {
      "text/html": [
       "columns that will be scaled: "
      ],
      "text/plain": [
       "<IPython.core.display.HTML object>"
      ]
     },
     "metadata": {},
     "output_type": "display_data"
    },
    {
     "name": "stdout",
     "output_type": "stream",
     "text": [
      "['customer_id', 'balance', 'estimated_salary', 'products_number', 'credit_score', 'tenure', 'active_member', 'credit_card', 'age']\n",
      "                                                                                         \r"
     ]
    },
    {
     "data": {
      "text/html": [
       "Dataset sample after scaling:"
      ],
      "text/plain": [
       "<IPython.core.display.HTML object>"
      ]
     },
     "metadata": {},
     "output_type": "display_data"
    },
    {
     "data": {
      "text/html": [
       "<style type=\"text/css\">\n",
       "\ttable {border:ridge 5px;}\n",
       "\ttable td {border:inset 1px;}\n",
       "\ttable tr#HeaderRow {background-color:grey; color:white;}</style>\n",
       "<html><table>\n",
       "\t<tr id=\"HeaderRow\">\n",
       "\t\t<th>country_2</th>\n",
       "\t\t<th>country_1</th>\n",
       "\t\t<th>churn</th>\n",
       "\t\t<th>gender_1</th>\n",
       "\t\t<th>id</th>\n",
       "\t\t<th>country_0</th>\n",
       "\t\t<th>gender_0</th>\n",
       "\t\t<th>customer_id</th>\n",
       "\t\t<th>balance</th>\n",
       "\t\t<th>estimated_salary</th>\n",
       "\t\t<th>products_number</th>\n",
       "\t\t<th>credit_score</th>\n",
       "\t\t<th>tenure</th>\n",
       "\t\t<th>active_member</th>\n",
       "\t\t<th>credit_card</th>\n",
       "\t\t<th>age</th>\n",
       "\t</tr>\n",
       "\t<tr>\n",
       "\t\t<td>0</td>\n",
       "\t\t<td>1</td>\n",
       "\t\t<td>1</td>\n",
       "\t\t<td>0</td>\n",
       "\t\t<td>2</td>\n",
       "\t\t<td>0</td>\n",
       "\t\t<td>1</td>\n",
       "\t\t<td>0.9644704366992147</td>\n",
       "\t\t<td>0.44751875153772597</td>\n",
       "\t\t<td>0.7012109872836034</td>\n",
       "\t\t<td>1.0</td>\n",
       "\t\t<td>0.9657387580299786</td>\n",
       "\t\t<td>0.8</td>\n",
       "\t\t<td>0.0</td>\n",
       "\t\t<td>1.0</td>\n",
       "\t\t<td>0.8863636363636364</td>\n",
       "\t</tr>\n",
       "\t<tr>\n",
       "\t\t<td>0</td>\n",
       "\t\t<td>0</td>\n",
       "\t\t<td>0</td>\n",
       "\t\t<td>0</td>\n",
       "\t\t<td>4</td>\n",
       "\t\t<td>1</td>\n",
       "\t\t<td>1</td>\n",
       "\t\t<td>0.19606862701958885</td>\n",
       "\t\t<td>0.7845959289686103</td>\n",
       "\t\t<td>0.66392822414337</td>\n",
       "\t\t<td>0.0</td>\n",
       "\t\t<td>0.2826552462526767</td>\n",
       "\t\t<td>0.0</td>\n",
       "\t\t<td>1.0</td>\n",
       "\t\t<td>1.0</td>\n",
       "\t\t<td>0.4318181818181818</td>\n",
       "\t</tr>\n",
       "\t<tr>\n",
       "\t\t<td>0</td>\n",
       "\t\t<td>0</td>\n",
       "\t\t<td>1</td>\n",
       "\t\t<td>0</td>\n",
       "\t\t<td>5</td>\n",
       "\t\t<td>1</td>\n",
       "\t\t<td>1</td>\n",
       "\t\t<td>0.49306969506658294</td>\n",
       "\t\t<td>0.0</td>\n",
       "\t\t<td>0.1249613671111641</td>\n",
       "\t\t<td>0.0</td>\n",
       "\t\t<td>0.7451820128479657</td>\n",
       "\t\t<td>1.0</td>\n",
       "\t\t<td>1.0</td>\n",
       "\t\t<td>1.0</td>\n",
       "\t\t<td>0.7727272727272727</td>\n",
       "\t</tr>\n",
       "\t<tr>\n",
       "\t\t<td>0</td>\n",
       "\t\t<td>1</td>\n",
       "\t\t<td>1</td>\n",
       "\t\t<td>1</td>\n",
       "\t\t<td>6</td>\n",
       "\t\t<td>0</td>\n",
       "\t\t<td>0</td>\n",
       "\t\t<td>0.07265119665265271</td>\n",
       "\t\t<td>0.569738015941054</td>\n",
       "\t\t<td>0.9365358906288666</td>\n",
       "\t\t<td>0.0</td>\n",
       "\t\t<td>0.6381156316916489</td>\n",
       "\t\t<td>0.8</td>\n",
       "\t\t<td>0.0</td>\n",
       "\t\t<td>0.0</td>\n",
       "\t\t<td>0.7045454545454546</td>\n",
       "\t</tr>\n",
       "\t<tr>\n",
       "\t\t<td>0</td>\n",
       "\t\t<td>1</td>\n",
       "\t\t<td>0</td>\n",
       "\t\t<td>0</td>\n",
       "\t\t<td>8</td>\n",
       "\t\t<td>0</td>\n",
       "\t\t<td>1</td>\n",
       "\t\t<td>0.5469880674749689</td>\n",
       "\t\t<td>0.4016840064426158</td>\n",
       "\t\t<td>0.27223974135518475</td>\n",
       "\t\t<td>0.5</td>\n",
       "\t\t<td>0.4346895074946467</td>\n",
       "\t\t<td>0.9</td>\n",
       "\t\t<td>1.0</td>\n",
       "\t\t<td>1.0</td>\n",
       "\t\t<td>0.8636363636363636</td>\n",
       "\t</tr>\n",
       "\t<tr>\n",
       "\t\t<td>1</td>\n",
       "\t\t<td>0</td>\n",
       "\t\t<td>1</td>\n",
       "\t\t<td>1</td>\n",
       "\t\t<td>9</td>\n",
       "\t\t<td>0</td>\n",
       "\t\t<td>0</td>\n",
       "\t\t<td>0.553432351023445</td>\n",
       "\t\t<td>0.5224368985830065</td>\n",
       "\t\t<td>0.5968077681462555</td>\n",
       "\t\t<td>0.5</td>\n",
       "\t\t<td>0.7002141327623126</td>\n",
       "\t\t<td>0.3</td>\n",
       "\t\t<td>0.0</td>\n",
       "\t\t<td>1.0</td>\n",
       "\t\t<td>1.0</td>\n",
       "\t</tr>\n",
       "\t<tr>\n",
       "\t\t<td>0</td>\n",
       "\t\t<td>0</td>\n",
       "\t\t<td>1</td>\n",
       "\t\t<td>0</td>\n",
       "\t\t<td>7</td>\n",
       "\t\t<td>1</td>\n",
       "\t\t<td>1</td>\n",
       "\t\t<td>0.9765429678905871</td>\n",
       "\t\t<td>0.43725131586294663</td>\n",
       "\t\t<td>0.10134714508702676</td>\n",
       "\t\t<td>0.0</td>\n",
       "\t\t<td>0.7387580299785867</td>\n",
       "\t\t<td>0.2</td>\n",
       "\t\t<td>0.0</td>\n",
       "\t\t<td>1.0</td>\n",
       "\t\t<td>0.6363636363636364</td>\n",
       "\t</tr>\n",
       "\t<tr>\n",
       "\t\t<td>1</td>\n",
       "\t\t<td>0</td>\n",
       "\t\t<td>0</td>\n",
       "\t\t<td>0</td>\n",
       "\t\t<td>3</td>\n",
       "\t\t<td>0</td>\n",
       "\t\t<td>1</td>\n",
       "\t\t<td>0.15153066734936338</td>\n",
       "\t\t<td>0.0</td>\n",
       "\t\t<td>0.670066577595145</td>\n",
       "\t\t<td>0.0</td>\n",
       "\t\t<td>0.39828693790149894</td>\n",
       "\t\t<td>0.3</td>\n",
       "\t\t<td>0.0</td>\n",
       "\t\t<td>1.0</td>\n",
       "\t\t<td>0.36363636363636365</td>\n",
       "\t</tr>\n",
       "\t<tr>\n",
       "\t\t<td>0</td>\n",
       "\t\t<td>0</td>\n",
       "\t\t<td>0</td>\n",
       "\t\t<td>1</td>\n",
       "\t\t<td>1</td>\n",
       "\t\t<td>1</td>\n",
       "\t\t<td>0</td>\n",
       "\t\t<td>0.4123141418222402</td>\n",
       "\t\t<td>0.5211163624242815</td>\n",
       "\t\t<td>0.7192366681276318</td>\n",
       "\t\t<td>0.0</td>\n",
       "\t\t<td>0.8008565310492506</td>\n",
       "\t\t<td>0.3</td>\n",
       "\t\t<td>0.0</td>\n",
       "\t\t<td>1.0</td>\n",
       "\t\t<td>0.6590909090909091</td>\n",
       "\t</tr>\n",
       "\t<tr>\n",
       "\t\t<td>1</td>\n",
       "\t\t<td>0</td>\n",
       "\t\t<td>0</td>\n",
       "\t\t<td>0</td>\n",
       "\t\t<td>0</td>\n",
       "\t\t<td>0</td>\n",
       "\t\t<td>1</td>\n",
       "\t\t<td>0.14883854889615142</td>\n",
       "\t\t<td>0.0</td>\n",
       "\t\t<td>0.8312337879394973</td>\n",
       "\t\t<td>0.5</td>\n",
       "\t\t<td>0.4732334047109208</td>\n",
       "\t\t<td>1.0</td>\n",
       "\t\t<td>1.0</td>\n",
       "\t\t<td>1.0</td>\n",
       "\t\t<td>0.5227272727272727</td>\n",
       "\t</tr>\n",
       "</table></html>"
      ],
      "text/plain": [
       "   country_2  country_1  churn  gender_1  id  country_0  gender_0  customer_id   balance  estimated_salary  products_number  credit_score  tenure  active_member  credit_card       age\n",
       "0          0          1      1         0   2          0         1     0.964470  0.447519          0.701211              1.0      0.965739     0.8            0.0          1.0  0.886364\n",
       "1          0          0      0         0   4          1         1     0.196069  0.784596          0.663928              0.0      0.282655     0.0            1.0          1.0  0.431818\n",
       "2          0          0      1         0   5          1         1     0.493070  0.000000          0.124961              0.0      0.745182     1.0            1.0          1.0  0.772727\n",
       "3          0          1      1         1   6          0         0     0.072651  0.569738          0.936536              0.0      0.638116     0.8            0.0          0.0  0.704545\n",
       "4          0          1      0         0   8          0         1     0.546988  0.401684          0.272240              0.5      0.434690     0.9            1.0          1.0  0.863636\n",
       "5          1          0      1         1   9          0         0     0.553432  0.522437          0.596808              0.5      0.700214     0.3            0.0          1.0  1.000000\n",
       "6          0          0      1         0   7          1         1     0.976543  0.437251          0.101347              0.0      0.738758     0.2            0.0          1.0  0.636364\n",
       "7          1          0      0         0   3          0         1     0.151531  0.000000          0.670067              0.0      0.398287     0.3            0.0          1.0  0.363636\n",
       "8          0          0      0         1   1          1         0     0.412314  0.521116          0.719237              0.0      0.800857     0.3            0.0          1.0  0.659091\n",
       "9          1          0      0         0   0          0         1     0.148839  0.000000          0.831234              0.5      0.473233     1.0            1.0          1.0  0.522727"
      ]
     },
     "metadata": {},
     "output_type": "display_data"
    },
    {
     "name": "stdout",
     "output_type": "stream",
     "text": [
      "                                                                                         \r"
     ]
    },
    {
     "data": {
      "text/html": [
       "12294 rows X 16 columns"
      ],
      "text/plain": [
       "<IPython.core.display.HTML object>"
      ]
     },
     "metadata": {},
     "output_type": "display_data"
    },
    {
     "name": "stdout",
     "output_type": "stream",
     "text": [
      "                                                                                         \r"
     ]
    },
    {
     "data": {
      "text/html": [
       "Total time taken by feature scaling: 42.49 sec"
      ],
      "text/plain": [
       "<IPython.core.display.HTML object>"
      ]
     },
     "metadata": {},
     "output_type": "display_data"
    },
    {
     "name": "stdout",
     "output_type": "stream",
     "text": [
      "                                                                                          \r"
     ]
    },
    {
     "data": {
      "text/html": [
       "\n",
       "Feature selection using rfe ..."
      ],
      "text/plain": [
       "<IPython.core.display.HTML object>"
      ]
     },
     "metadata": {},
     "output_type": "display_data"
    },
    {
     "name": "stdout",
     "output_type": "stream",
     "text": [
      "                                                                                          \r"
     ]
    },
    {
     "data": {
      "text/html": [
       "feature selected by RFE:"
      ],
      "text/plain": [
       "<IPython.core.display.HTML object>"
      ]
     },
     "metadata": {},
     "output_type": "display_data"
    },
    {
     "name": "stdout",
     "output_type": "stream",
     "text": [
      "['customer_id', 'gender_0', 'credit_score', 'country_0', 'age', 'country_2', 'products_number', 'country_1', 'tenure', 'active_member', 'gender_1', 'balance', 'estimated_salary']\n",
      "                                                                                          \r"
     ]
    },
    {
     "data": {
      "text/html": [
       "Total time taken by feature selection: 61.89 sec  "
      ],
      "text/plain": [
       "<IPython.core.display.HTML object>"
      ]
     },
     "metadata": {},
     "output_type": "display_data"
    },
    {
     "name": "stdout",
     "output_type": "stream",
     "text": [
      "                                                                                          \r"
     ]
    },
    {
     "data": {
      "text/html": [
       "\n",
       "scaling Features of rfe data ..."
      ],
      "text/plain": [
       "<IPython.core.display.HTML object>"
      ]
     },
     "metadata": {},
     "output_type": "display_data"
    },
    {
     "name": "stdout",
     "output_type": "stream",
     "text": [
      "                                                                                          \r"
     ]
    },
    {
     "data": {
      "text/html": [
       "columns that will be scaled: "
      ],
      "text/plain": [
       "<IPython.core.display.HTML object>"
      ]
     },
     "metadata": {},
     "output_type": "display_data"
    },
    {
     "name": "stdout",
     "output_type": "stream",
     "text": [
      "['r_customer_id', 'r_credit_score', 'r_age', 'r_products_number', 'r_tenure', 'r_active_member', 'r_balance', 'r_estimated_salary']\n",
      "                                                                                          \r"
     ]
    },
    {
     "data": {
      "text/html": [
       "Dataset sample after scaling:"
      ],
      "text/plain": [
       "<IPython.core.display.HTML object>"
      ]
     },
     "metadata": {},
     "output_type": "display_data"
    },
    {
     "data": {
      "text/html": [
       "<style type=\"text/css\">\n",
       "\ttable {border:ridge 5px;}\n",
       "\ttable td {border:inset 1px;}\n",
       "\ttable tr#HeaderRow {background-color:grey; color:white;}</style>\n",
       "<html><table>\n",
       "\t<tr id=\"HeaderRow\">\n",
       "\t\t<th>r_gender_1</th>\n",
       "\t\t<th>r_country_0</th>\n",
       "\t\t<th>churn</th>\n",
       "\t\t<th>r_country_2</th>\n",
       "\t\t<th>r_country_1</th>\n",
       "\t\t<th>id</th>\n",
       "\t\t<th>r_gender_0</th>\n",
       "\t\t<th>r_customer_id</th>\n",
       "\t\t<th>r_credit_score</th>\n",
       "\t\t<th>r_age</th>\n",
       "\t\t<th>r_products_number</th>\n",
       "\t\t<th>r_tenure</th>\n",
       "\t\t<th>r_active_member</th>\n",
       "\t\t<th>r_balance</th>\n",
       "\t\t<th>r_estimated_salary</th>\n",
       "\t</tr>\n",
       "\t<tr>\n",
       "\t\t<td>0</td>\n",
       "\t\t<td>0</td>\n",
       "\t\t<td>1</td>\n",
       "\t\t<td>0</td>\n",
       "\t\t<td>1</td>\n",
       "\t\t<td>2</td>\n",
       "\t\t<td>1</td>\n",
       "\t\t<td>0.9644704366992147</td>\n",
       "\t\t<td>0.9657387580299786</td>\n",
       "\t\t<td>0.8863636363636364</td>\n",
       "\t\t<td>1.0</td>\n",
       "\t\t<td>0.8</td>\n",
       "\t\t<td>0.0</td>\n",
       "\t\t<td>0.44751875153772597</td>\n",
       "\t\t<td>0.7012109872836034</td>\n",
       "\t</tr>\n",
       "\t<tr>\n",
       "\t\t<td>0</td>\n",
       "\t\t<td>1</td>\n",
       "\t\t<td>0</td>\n",
       "\t\t<td>0</td>\n",
       "\t\t<td>0</td>\n",
       "\t\t<td>4</td>\n",
       "\t\t<td>1</td>\n",
       "\t\t<td>0.19606862701958885</td>\n",
       "\t\t<td>0.2826552462526767</td>\n",
       "\t\t<td>0.4318181818181818</td>\n",
       "\t\t<td>0.0</td>\n",
       "\t\t<td>0.0</td>\n",
       "\t\t<td>1.0</td>\n",
       "\t\t<td>0.7845959289686103</td>\n",
       "\t\t<td>0.66392822414337</td>\n",
       "\t</tr>\n",
       "\t<tr>\n",
       "\t\t<td>0</td>\n",
       "\t\t<td>1</td>\n",
       "\t\t<td>1</td>\n",
       "\t\t<td>0</td>\n",
       "\t\t<td>0</td>\n",
       "\t\t<td>5</td>\n",
       "\t\t<td>1</td>\n",
       "\t\t<td>0.49306969506658294</td>\n",
       "\t\t<td>0.7451820128479657</td>\n",
       "\t\t<td>0.7727272727272727</td>\n",
       "\t\t<td>0.0</td>\n",
       "\t\t<td>1.0</td>\n",
       "\t\t<td>1.0</td>\n",
       "\t\t<td>0.0</td>\n",
       "\t\t<td>0.1249613671111641</td>\n",
       "\t</tr>\n",
       "\t<tr>\n",
       "\t\t<td>1</td>\n",
       "\t\t<td>0</td>\n",
       "\t\t<td>1</td>\n",
       "\t\t<td>0</td>\n",
       "\t\t<td>1</td>\n",
       "\t\t<td>6</td>\n",
       "\t\t<td>0</td>\n",
       "\t\t<td>0.07265119665265271</td>\n",
       "\t\t<td>0.6381156316916489</td>\n",
       "\t\t<td>0.7045454545454546</td>\n",
       "\t\t<td>0.0</td>\n",
       "\t\t<td>0.8</td>\n",
       "\t\t<td>0.0</td>\n",
       "\t\t<td>0.569738015941054</td>\n",
       "\t\t<td>0.9365358906288666</td>\n",
       "\t</tr>\n",
       "\t<tr>\n",
       "\t\t<td>0</td>\n",
       "\t\t<td>0</td>\n",
       "\t\t<td>0</td>\n",
       "\t\t<td>0</td>\n",
       "\t\t<td>1</td>\n",
       "\t\t<td>8</td>\n",
       "\t\t<td>1</td>\n",
       "\t\t<td>0.5469880674749689</td>\n",
       "\t\t<td>0.4346895074946467</td>\n",
       "\t\t<td>0.8636363636363636</td>\n",
       "\t\t<td>0.5</td>\n",
       "\t\t<td>0.9</td>\n",
       "\t\t<td>1.0</td>\n",
       "\t\t<td>0.4016840064426158</td>\n",
       "\t\t<td>0.27223974135518475</td>\n",
       "\t</tr>\n",
       "\t<tr>\n",
       "\t\t<td>1</td>\n",
       "\t\t<td>0</td>\n",
       "\t\t<td>1</td>\n",
       "\t\t<td>1</td>\n",
       "\t\t<td>0</td>\n",
       "\t\t<td>9</td>\n",
       "\t\t<td>0</td>\n",
       "\t\t<td>0.553432351023445</td>\n",
       "\t\t<td>0.7002141327623126</td>\n",
       "\t\t<td>1.0</td>\n",
       "\t\t<td>0.5</td>\n",
       "\t\t<td>0.3</td>\n",
       "\t\t<td>0.0</td>\n",
       "\t\t<td>0.5224368985830065</td>\n",
       "\t\t<td>0.5968077681462555</td>\n",
       "\t</tr>\n",
       "\t<tr>\n",
       "\t\t<td>0</td>\n",
       "\t\t<td>1</td>\n",
       "\t\t<td>1</td>\n",
       "\t\t<td>0</td>\n",
       "\t\t<td>0</td>\n",
       "\t\t<td>7</td>\n",
       "\t\t<td>1</td>\n",
       "\t\t<td>0.9765429678905871</td>\n",
       "\t\t<td>0.7387580299785867</td>\n",
       "\t\t<td>0.6363636363636364</td>\n",
       "\t\t<td>0.0</td>\n",
       "\t\t<td>0.2</td>\n",
       "\t\t<td>0.0</td>\n",
       "\t\t<td>0.43725131586294663</td>\n",
       "\t\t<td>0.10134714508702676</td>\n",
       "\t</tr>\n",
       "\t<tr>\n",
       "\t\t<td>0</td>\n",
       "\t\t<td>0</td>\n",
       "\t\t<td>0</td>\n",
       "\t\t<td>1</td>\n",
       "\t\t<td>0</td>\n",
       "\t\t<td>3</td>\n",
       "\t\t<td>1</td>\n",
       "\t\t<td>0.15153066734936338</td>\n",
       "\t\t<td>0.39828693790149894</td>\n",
       "\t\t<td>0.36363636363636365</td>\n",
       "\t\t<td>0.0</td>\n",
       "\t\t<td>0.3</td>\n",
       "\t\t<td>0.0</td>\n",
       "\t\t<td>0.0</td>\n",
       "\t\t<td>0.670066577595145</td>\n",
       "\t</tr>\n",
       "\t<tr>\n",
       "\t\t<td>1</td>\n",
       "\t\t<td>1</td>\n",
       "\t\t<td>0</td>\n",
       "\t\t<td>0</td>\n",
       "\t\t<td>0</td>\n",
       "\t\t<td>1</td>\n",
       "\t\t<td>0</td>\n",
       "\t\t<td>0.4123141418222402</td>\n",
       "\t\t<td>0.8008565310492506</td>\n",
       "\t\t<td>0.6590909090909091</td>\n",
       "\t\t<td>0.0</td>\n",
       "\t\t<td>0.3</td>\n",
       "\t\t<td>0.0</td>\n",
       "\t\t<td>0.5211163624242815</td>\n",
       "\t\t<td>0.7192366681276318</td>\n",
       "\t</tr>\n",
       "\t<tr>\n",
       "\t\t<td>0</td>\n",
       "\t\t<td>0</td>\n",
       "\t\t<td>0</td>\n",
       "\t\t<td>1</td>\n",
       "\t\t<td>0</td>\n",
       "\t\t<td>0</td>\n",
       "\t\t<td>1</td>\n",
       "\t\t<td>0.14883854889615142</td>\n",
       "\t\t<td>0.4732334047109208</td>\n",
       "\t\t<td>0.5227272727272727</td>\n",
       "\t\t<td>0.5</td>\n",
       "\t\t<td>1.0</td>\n",
       "\t\t<td>1.0</td>\n",
       "\t\t<td>0.0</td>\n",
       "\t\t<td>0.8312337879394973</td>\n",
       "\t</tr>\n",
       "</table></html>"
      ],
      "text/plain": [
       "   r_gender_1  r_country_0  churn  r_country_2  r_country_1  id  r_gender_0  r_customer_id  r_credit_score     r_age  r_products_number  r_tenure  r_active_member  r_balance  r_estimated_salary\n",
       "0           0            0      1            0            1   2           1       0.964470        0.965739  0.886364                1.0       0.8              0.0   0.447519            0.701211\n",
       "1           0            1      0            0            0   4           1       0.196069        0.282655  0.431818                0.0       0.0              1.0   0.784596            0.663928\n",
       "2           0            1      1            0            0   5           1       0.493070        0.745182  0.772727                0.0       1.0              1.0   0.000000            0.124961\n",
       "3           1            0      1            0            1   6           0       0.072651        0.638116  0.704545                0.0       0.8              0.0   0.569738            0.936536\n",
       "4           0            0      0            0            1   8           1       0.546988        0.434690  0.863636                0.5       0.9              1.0   0.401684            0.272240\n",
       "5           1            0      1            1            0   9           0       0.553432        0.700214  1.000000                0.5       0.3              0.0   0.522437            0.596808\n",
       "6           0            1      1            0            0   7           1       0.976543        0.738758  0.636364                0.0       0.2              0.0   0.437251            0.101347\n",
       "7           0            0      0            1            0   3           1       0.151531        0.398287  0.363636                0.0       0.3              0.0   0.000000            0.670067\n",
       "8           1            1      0            0            0   1           0       0.412314        0.800857  0.659091                0.0       0.3              0.0   0.521116            0.719237\n",
       "9           0            0      0            1            0   0           1       0.148839        0.473233  0.522727                0.5       1.0              1.0   0.000000            0.831234"
      ]
     },
     "metadata": {},
     "output_type": "display_data"
    },
    {
     "name": "stdout",
     "output_type": "stream",
     "text": [
      "                                                                                          \r"
     ]
    },
    {
     "data": {
      "text/html": [
       "12294 rows X 15 columns"
      ],
      "text/plain": [
       "<IPython.core.display.HTML object>"
      ]
     },
     "metadata": {},
     "output_type": "display_data"
    },
    {
     "name": "stdout",
     "output_type": "stream",
     "text": [
      "                                                                                          \r"
     ]
    },
    {
     "data": {
      "text/html": [
       "Total time taken by feature scaling: 41.82 sec"
      ],
      "text/plain": [
       "<IPython.core.display.HTML object>"
      ]
     },
     "metadata": {},
     "output_type": "display_data"
    },
    {
     "name": "stdout",
     "output_type": "stream",
     "text": [
      "                                                                                          \r"
     ]
    },
    {
     "data": {
      "text/html": [
       "\n",
       "scaling Features of pca data ..."
      ],
      "text/plain": [
       "<IPython.core.display.HTML object>"
      ]
     },
     "metadata": {},
     "output_type": "display_data"
    },
    {
     "name": "stdout",
     "output_type": "stream",
     "text": [
      "                                                                                          \r"
     ]
    },
    {
     "data": {
      "text/html": [
       "columns that will be scaled: "
      ],
      "text/plain": [
       "<IPython.core.display.HTML object>"
      ]
     },
     "metadata": {},
     "output_type": "display_data"
    },
    {
     "name": "stdout",
     "output_type": "stream",
     "text": [
      "['customer_id', 'credit_score', 'age', 'tenure', 'balance', 'products_number', 'credit_card', 'active_member', 'estimated_salary']\n",
      "                                                                                          \r"
     ]
    },
    {
     "data": {
      "text/html": [
       "Dataset sample after scaling:"
      ],
      "text/plain": [
       "<IPython.core.display.HTML object>"
      ]
     },
     "metadata": {},
     "output_type": "display_data"
    },
    {
     "data": {
      "text/html": [
       "<style type=\"text/css\">\n",
       "\ttable {border:ridge 5px;}\n",
       "\ttable td {border:inset 1px;}\n",
       "\ttable tr#HeaderRow {background-color:grey; color:white;}</style>\n",
       "<html><table>\n",
       "\t<tr id=\"HeaderRow\">\n",
       "\t\t<th>country_2</th>\n",
       "\t\t<th>gender_0</th>\n",
       "\t\t<th>country_1</th>\n",
       "\t\t<th>churn</th>\n",
       "\t\t<th>id</th>\n",
       "\t\t<th>country_0</th>\n",
       "\t\t<th>gender_1</th>\n",
       "\t\t<th>customer_id</th>\n",
       "\t\t<th>credit_score</th>\n",
       "\t\t<th>age</th>\n",
       "\t\t<th>tenure</th>\n",
       "\t\t<th>balance</th>\n",
       "\t\t<th>products_number</th>\n",
       "\t\t<th>credit_card</th>\n",
       "\t\t<th>active_member</th>\n",
       "\t\t<th>estimated_salary</th>\n",
       "\t</tr>\n",
       "\t<tr>\n",
       "\t\t<td>1</td>\n",
       "\t\t<td>1</td>\n",
       "\t\t<td>0</td>\n",
       "\t\t<td>0</td>\n",
       "\t\t<td>11</td>\n",
       "\t\t<td>0</td>\n",
       "\t\t<td>0</td>\n",
       "\t\t<td>0.15153066734936338</td>\n",
       "\t\t<td>0.39828693790149894</td>\n",
       "\t\t<td>0.36363636363636365</td>\n",
       "\t\t<td>0.3</td>\n",
       "\t\t<td>0.0</td>\n",
       "\t\t<td>0.0</td>\n",
       "\t\t<td>1.0</td>\n",
       "\t\t<td>0.0</td>\n",
       "\t\t<td>0.670066577595145</td>\n",
       "\t</tr>\n",
       "\t<tr>\n",
       "\t\t<td>0</td>\n",
       "\t\t<td>1</td>\n",
       "\t\t<td>0</td>\n",
       "\t\t<td>1</td>\n",
       "\t\t<td>13</td>\n",
       "\t\t<td>1</td>\n",
       "\t\t<td>0</td>\n",
       "\t\t<td>0.49306969506658294</td>\n",
       "\t\t<td>0.7451820128479657</td>\n",
       "\t\t<td>0.7727272727272727</td>\n",
       "\t\t<td>1.0</td>\n",
       "\t\t<td>0.0</td>\n",
       "\t\t<td>0.0</td>\n",
       "\t\t<td>1.0</td>\n",
       "\t\t<td>1.0</td>\n",
       "\t\t<td>0.1249613671111641</td>\n",
       "\t</tr>\n",
       "\t<tr>\n",
       "\t\t<td>1</td>\n",
       "\t\t<td>1</td>\n",
       "\t\t<td>0</td>\n",
       "\t\t<td>0</td>\n",
       "\t\t<td>21</td>\n",
       "\t\t<td>0</td>\n",
       "\t\t<td>0</td>\n",
       "\t\t<td>0.5636287996671854</td>\n",
       "\t\t<td>0.8072805139186295</td>\n",
       "\t\t<td>0.3409090909090909</td>\n",
       "\t\t<td>0.1</td>\n",
       "\t\t<td>0.47076595919881253</td>\n",
       "\t\t<td>0.5</td>\n",
       "\t\t<td>0.0</td>\n",
       "\t\t<td>1.0</td>\n",
       "\t\t<td>0.7834031209172914</td>\n",
       "\t</tr>\n",
       "\t<tr>\n",
       "\t\t<td>0</td>\n",
       "\t\t<td>1</td>\n",
       "\t\t<td>0</td>\n",
       "\t\t<td>0</td>\n",
       "\t\t<td>12</td>\n",
       "\t\t<td>1</td>\n",
       "\t\t<td>0</td>\n",
       "\t\t<td>0.19606862701958885</td>\n",
       "\t\t<td>0.2826552462526767</td>\n",
       "\t\t<td>0.4318181818181818</td>\n",
       "\t\t<td>0.0</td>\n",
       "\t\t<td>0.7845959289686103</td>\n",
       "\t\t<td>0.0</td>\n",
       "\t\t<td>1.0</td>\n",
       "\t\t<td>1.0</td>\n",
       "\t\t<td>0.66392822414337</td>\n",
       "\t</tr>\n",
       "\t<tr>\n",
       "\t\t<td>0</td>\n",
       "\t\t<td>1</td>\n",
       "\t\t<td>0</td>\n",
       "\t\t<td>1</td>\n",
       "\t\t<td>15</td>\n",
       "\t\t<td>1</td>\n",
       "\t\t<td>0</td>\n",
       "\t\t<td>0.9765429678905871</td>\n",
       "\t\t<td>0.7387580299785867</td>\n",
       "\t\t<td>0.6363636363636364</td>\n",
       "\t\t<td>0.2</td>\n",
       "\t\t<td>0.43725131586294663</td>\n",
       "\t\t<td>0.0</td>\n",
       "\t\t<td>1.0</td>\n",
       "\t\t<td>0.0</td>\n",
       "\t\t<td>0.10134714508702676</td>\n",
       "\t</tr>\n",
       "\t<tr>\n",
       "\t\t<td>0</td>\n",
       "\t\t<td>1</td>\n",
       "\t\t<td>0</td>\n",
       "\t\t<td>0</td>\n",
       "\t\t<td>23</td>\n",
       "\t\t<td>1</td>\n",
       "\t\t<td>0</td>\n",
       "\t\t<td>0.40774594082139615</td>\n",
       "\t\t<td>0.49036402569593146</td>\n",
       "\t\t<td>0.45454545454545453</td>\n",
       "\t\t<td>0.1</td>\n",
       "\t\t<td>0.0</td>\n",
       "\t\t<td>0.5</td>\n",
       "\t\t<td>1.0</td>\n",
       "\t\t<td>1.0</td>\n",
       "\t\t<td>0.04599754269821897</td>\n",
       "\t</tr>\n",
       "\t<tr>\n",
       "\t\t<td>0</td>\n",
       "\t\t<td>0</td>\n",
       "\t\t<td>1</td>\n",
       "\t\t<td>1</td>\n",
       "\t\t<td>14</td>\n",
       "\t\t<td>0</td>\n",
       "\t\t<td>1</td>\n",
       "\t\t<td>0.07265119665265271</td>\n",
       "\t\t<td>0.6381156316916489</td>\n",
       "\t\t<td>0.7045454545454546</td>\n",
       "\t\t<td>0.8</td>\n",
       "\t\t<td>0.569738015941054</td>\n",
       "\t\t<td>0.0</td>\n",
       "\t\t<td>0.0</td>\n",
       "\t\t<td>0.0</td>\n",
       "\t\t<td>0.9365358906288666</td>\n",
       "\t</tr>\n",
       "\t<tr>\n",
       "\t\t<td>1</td>\n",
       "\t\t<td>0</td>\n",
       "\t\t<td>0</td>\n",
       "\t\t<td>0</td>\n",
       "\t\t<td>22</td>\n",
       "\t\t<td>0</td>\n",
       "\t\t<td>1</td>\n",
       "\t\t<td>0.4568521014924657</td>\n",
       "\t\t<td>0.6038543897216274</td>\n",
       "\t\t<td>0.5227272727272727</td>\n",
       "\t\t<td>0.8</td>\n",
       "\t\t<td>0.0</td>\n",
       "\t\t<td>0.5</td>\n",
       "\t\t<td>1.0</td>\n",
       "\t\t<td>0.0</td>\n",
       "\t\t<td>0.660838643250952</td>\n",
       "\t</tr>\n",
       "\t<tr>\n",
       "\t\t<td>0</td>\n",
       "\t\t<td>0</td>\n",
       "\t\t<td>0</td>\n",
       "\t\t<td>0</td>\n",
       "\t\t<td>9</td>\n",
       "\t\t<td>1</td>\n",
       "\t\t<td>1</td>\n",
       "\t\t<td>0.4123141418222402</td>\n",
       "\t\t<td>0.8008565310492506</td>\n",
       "\t\t<td>0.6590909090909091</td>\n",
       "\t\t<td>0.3</td>\n",
       "\t\t<td>0.5211163624242815</td>\n",
       "\t\t<td>0.0</td>\n",
       "\t\t<td>1.0</td>\n",
       "\t\t<td>0.0</td>\n",
       "\t\t<td>0.7192366681276318</td>\n",
       "\t</tr>\n",
       "\t<tr>\n",
       "\t\t<td>1</td>\n",
       "\t\t<td>0</td>\n",
       "\t\t<td>0</td>\n",
       "\t\t<td>1</td>\n",
       "\t\t<td>17</td>\n",
       "\t\t<td>0</td>\n",
       "\t\t<td>1</td>\n",
       "\t\t<td>0.553432351023445</td>\n",
       "\t\t<td>0.7002141327623126</td>\n",
       "\t\t<td>1.0</td>\n",
       "\t\t<td>0.3</td>\n",
       "\t\t<td>0.5224368985830065</td>\n",
       "\t\t<td>0.5</td>\n",
       "\t\t<td>1.0</td>\n",
       "\t\t<td>0.0</td>\n",
       "\t\t<td>0.5968077681462555</td>\n",
       "\t</tr>\n",
       "</table></html>"
      ],
      "text/plain": [
       "   country_2  gender_0  country_1  churn  id  country_0  gender_1  customer_id  credit_score       age  tenure   balance  products_number  credit_card  active_member  estimated_salary\n",
       "0          1         1          0      0  11          0         0     0.151531      0.398287  0.363636     0.3  0.000000              0.0          1.0            0.0          0.670067\n",
       "1          0         1          0      1  13          1         0     0.493070      0.745182  0.772727     1.0  0.000000              0.0          1.0            1.0          0.124961\n",
       "2          1         1          0      0  21          0         0     0.563629      0.807281  0.340909     0.1  0.470766              0.5          0.0            1.0          0.783403\n",
       "3          0         1          0      0  12          1         0     0.196069      0.282655  0.431818     0.0  0.784596              0.0          1.0            1.0          0.663928\n",
       "4          0         1          0      1  15          1         0     0.976543      0.738758  0.636364     0.2  0.437251              0.0          1.0            0.0          0.101347\n",
       "5          0         1          0      0  23          1         0     0.407746      0.490364  0.454545     0.1  0.000000              0.5          1.0            1.0          0.045998\n",
       "6          0         0          1      1  14          0         1     0.072651      0.638116  0.704545     0.8  0.569738              0.0          0.0            0.0          0.936536\n",
       "7          1         0          0      0  22          0         1     0.456852      0.603854  0.522727     0.8  0.000000              0.5          1.0            0.0          0.660839\n",
       "8          0         0          0      0   9          1         1     0.412314      0.800857  0.659091     0.3  0.521116              0.0          1.0            0.0          0.719237\n",
       "9          1         0          0      1  17          0         1     0.553432      0.700214  1.000000     0.3  0.522437              0.5          1.0            0.0          0.596808"
      ]
     },
     "metadata": {},
     "output_type": "display_data"
    },
    {
     "name": "stdout",
     "output_type": "stream",
     "text": [
      "                                                                                          \r"
     ]
    },
    {
     "data": {
      "text/html": [
       "7661 rows X 16 columns"
      ],
      "text/plain": [
       "<IPython.core.display.HTML object>"
      ]
     },
     "metadata": {},
     "output_type": "display_data"
    },
    {
     "name": "stdout",
     "output_type": "stream",
     "text": [
      "                                                                                          \r"
     ]
    },
    {
     "data": {
      "text/html": [
       "Total time taken by feature scaling: 35.35 sec"
      ],
      "text/plain": [
       "<IPython.core.display.HTML object>"
      ]
     },
     "metadata": {},
     "output_type": "display_data"
    },
    {
     "name": "stdout",
     "output_type": "stream",
     "text": [
      "                                                                                          \r"
     ]
    },
    {
     "data": {
      "text/html": [
       "\n",
       "Dimension Reduction using pca ..."
      ],
      "text/plain": [
       "<IPython.core.display.HTML object>"
      ]
     },
     "metadata": {},
     "output_type": "display_data"
    },
    {
     "name": "stdout",
     "output_type": "stream",
     "text": [
      "                                                                                          \r"
     ]
    },
    {
     "data": {
      "text/html": [
       "PCA columns:"
      ],
      "text/plain": [
       "<IPython.core.display.HTML object>"
      ]
     },
     "metadata": {},
     "output_type": "display_data"
    },
    {
     "name": "stdout",
     "output_type": "stream",
     "text": [
      "['col_0', 'col_1', 'col_2', 'col_3', 'col_4', 'col_5', 'col_6', 'col_7', 'col_8', 'col_9']\n",
      "                                                                                          \r"
     ]
    },
    {
     "data": {
      "text/html": [
       "Total time taken by PCA: 11.21 sec  "
      ],
      "text/plain": [
       "<IPython.core.display.HTML object>"
      ]
     },
     "metadata": {},
     "output_type": "display_data"
    },
    {
     "name": "stdout",
     "output_type": "stream",
     "text": [
      "                                                                                          \r"
     ]
    },
    {
     "data": {
      "text/html": [
       "\n",
       "            <style>\n",
       "                .custom-div {\n",
       "                    background-color: lightgray;\n",
       "                    color: #000000;\n",
       "                    padding: 10px;\n",
       "                    border-radius: 8px;\n",
       "                    box-shadow: 0 3px 4px rgba(0 -  0 -  0 -  0.2);\n",
       "                    margin-bottom: 10px;\n",
       "                    text-align: center;\n",
       "                }\n",
       "            </style>\n",
       "        <br><div class=\"custom-div\"><h3><span style=\"color: green;\">1. Feature Exploration -> 2. Feature Engineering -> 3. Data Preparation -></span> 4. Model Training & Evaluation<center></h3></center></div>"
      ],
      "text/plain": [
       "<IPython.core.display.HTML object>"
      ]
     },
     "metadata": {},
     "output_type": "display_data"
    },
    {
     "name": "stdout",
     "output_type": "stream",
     "text": [
      "                                                                                          \r"
     ]
    },
    {
     "data": {
      "text/html": [
       "Model Training started ..."
      ],
      "text/plain": [
       "<IPython.core.display.HTML object>"
      ]
     },
     "metadata": {},
     "output_type": "display_data"
    },
    {
     "name": "stdout",
     "output_type": "stream",
     "text": [
      "                                                                                          \r"
     ]
    },
    {
     "data": {
      "text/html": [
       "\n",
       "Hyperparameters used for model training: "
      ],
      "text/plain": [
       "<IPython.core.display.HTML object>"
      ]
     },
     "metadata": {},
     "output_type": "display_data"
    },
    {
     "name": "stdout",
     "output_type": "stream",
     "text": [
      "response_column : churn                                                                                                                               \n",
      "name : decision_forest\n",
      "tree_type : Classification\n",
      "min_impurity : (0.0, 0.2, 0.3)\n",
      "max_depth : (5, 4, 6, 7)\n",
      "min_node_size : (1, 3, 4)\n",
      "num_trees : (-1, 30, 40)\n",
      "seed : 42\n",
      "Total number of models for decision_forest : 108\n",
      "--------------------------------------------------------------------------------------------------------------------------------------------------------------------------------------------------------\n",
      "\n",
      "response_column : churn\n",
      "name : knn\n",
      "model_type : Classification\n",
      "k : (3, 5, 6, 8, 10, 12)\n",
      "id_column : id\n",
      "voting_weight : 1.0\n",
      "Total number of models for knn : 6\n",
      "--------------------------------------------------------------------------------------------------------------------------------------------------------------------------------------------------------\n",
      "\n",
      "response_column : churn\n",
      "name : xgboost\n",
      "model_type : Classification\n",
      "column_sampling : (1, 0.6)\n",
      "min_impurity : (0.0, 0.2, 0.3)\n",
      "lambda1 : (0.01, 0.1, 1, 10)\n",
      "shrinkage_factor : (0.5, 0.01, 0.1, 0.2)\n",
      "max_depth : (5, 4, 6, 7)\n",
      "min_node_size : (1, 3, 4)\n",
      "iter_num : (10, 30, 40)\n",
      "seed : 42\n",
      "Total number of models for xgboost : 3456\n",
      "--------------------------------------------------------------------------------------------------------------------------------------------------------------------------------------------------------\n",
      "\n",
      "                                                                                          \r"
     ]
    },
    {
     "data": {
      "text/html": [
       "\n",
       "Performing hyperparameter tuning ..."
      ],
      "text/plain": [
       "<IPython.core.display.HTML object>"
      ]
     },
     "metadata": {},
     "output_type": "display_data"
    },
    {
     "name": "stdout",
     "output_type": "stream",
     "text": [
      "                                                                                          \r"
     ]
    },
    {
     "data": {
      "text/html": [
       "decision_forest"
      ],
      "text/plain": [
       "<IPython.core.display.HTML object>"
      ]
     },
     "metadata": {},
     "output_type": "display_data"
    },
    {
     "name": "stdout",
     "output_type": "stream",
     "text": [
      "                                                                                                                                                                                                        \r"
     ]
    },
    {
     "data": {
      "text/html": [
       "----------------------------------------------------------------------------------------------------"
      ],
      "text/plain": [
       "<IPython.core.display.HTML object>"
      ]
     },
     "metadata": {},
     "output_type": "display_data"
    },
    {
     "name": "stdout",
     "output_type": "stream",
     "text": [
      "                                                                                          \r"
     ]
    },
    {
     "data": {
      "text/html": [
       "knn"
      ],
      "text/plain": [
       "<IPython.core.display.HTML object>"
      ]
     },
     "metadata": {},
     "output_type": "display_data"
    },
    {
     "name": "stdout",
     "output_type": "stream",
     "text": [
      "                                                                                                                                                                                                        \r"
     ]
    },
    {
     "data": {
      "text/html": [
       "----------------------------------------------------------------------------------------------------"
      ],
      "text/plain": [
       "<IPython.core.display.HTML object>"
      ]
     },
     "metadata": {},
     "output_type": "display_data"
    },
    {
     "name": "stdout",
     "output_type": "stream",
     "text": [
      "                                                                                          \r"
     ]
    },
    {
     "data": {
      "text/html": [
       "xgboost"
      ],
      "text/plain": [
       "<IPython.core.display.HTML object>"
      ]
     },
     "metadata": {},
     "output_type": "display_data"
    },
    {
     "name": "stdout",
     "output_type": "stream",
     "text": [
      "                                                                                                                                                                                                        \r"
     ]
    },
    {
     "data": {
      "text/html": [
       "----------------------------------------------------------------------------------------------------"
      ],
      "text/plain": [
       "<IPython.core.display.HTML object>"
      ]
     },
     "metadata": {},
     "output_type": "display_data"
    },
    {
     "name": "stdout",
     "output_type": "stream",
     "text": [
      "                                                                                          \r"
     ]
    },
    {
     "data": {
      "text/html": [
       "Leaderboard"
      ],
      "text/plain": [
       "<IPython.core.display.HTML object>"
      ]
     },
     "metadata": {},
     "output_type": "display_data"
    },
    {
     "data": {
      "text/html": [
       "<div>\n",
       "<style scoped>\n",
       "    .dataframe tbody tr th:only-of-type {\n",
       "        vertical-align: middle;\n",
       "    }\n",
       "\n",
       "    .dataframe tbody tr th {\n",
       "        vertical-align: top;\n",
       "    }\n",
       "\n",
       "    .dataframe thead th {\n",
       "        text-align: right;\n",
       "    }\n",
       "</style>\n",
       "<table border=\"1\" class=\"dataframe\">\n",
       "  <thead>\n",
       "    <tr style=\"text-align: right;\">\n",
       "      <th></th>\n",
       "      <th>RANK</th>\n",
       "      <th>MODEL_ID</th>\n",
       "      <th>FEATURE_SELECTION</th>\n",
       "      <th>ACCURACY</th>\n",
       "      <th>MICRO-PRECISION</th>\n",
       "      <th>MICRO-RECALL</th>\n",
       "      <th>MICRO-F1</th>\n",
       "      <th>MACRO-PRECISION</th>\n",
       "      <th>MACRO-RECALL</th>\n",
       "      <th>MACRO-F1</th>\n",
       "      <th>WEIGHTED-PRECISION</th>\n",
       "      <th>WEIGHTED-RECALL</th>\n",
       "      <th>WEIGHTED-F1</th>\n",
       "    </tr>\n",
       "  </thead>\n",
       "  <tbody>\n",
       "    <tr>\n",
       "      <th>0</th>\n",
       "      <td>1</td>\n",
       "      <td>KNN_4</td>\n",
       "      <td>rfe</td>\n",
       "      <td>0.881659</td>\n",
       "      <td>0.881659</td>\n",
       "      <td>0.881659</td>\n",
       "      <td>0.881659</td>\n",
       "      <td>0.881689</td>\n",
       "      <td>0.881661</td>\n",
       "      <td>0.881657</td>\n",
       "      <td>0.881690</td>\n",
       "      <td>0.881659</td>\n",
       "      <td>0.881657</td>\n",
       "    </tr>\n",
       "    <tr>\n",
       "      <th>1</th>\n",
       "      <td>2</td>\n",
       "      <td>KNN_9</td>\n",
       "      <td>lasso</td>\n",
       "      <td>0.877999</td>\n",
       "      <td>0.877999</td>\n",
       "      <td>0.877999</td>\n",
       "      <td>0.877999</td>\n",
       "      <td>0.878958</td>\n",
       "      <td>0.878009</td>\n",
       "      <td>0.877924</td>\n",
       "      <td>0.878965</td>\n",
       "      <td>0.877999</td>\n",
       "      <td>0.877923</td>\n",
       "    </tr>\n",
       "    <tr>\n",
       "      <th>2</th>\n",
       "      <td>3</td>\n",
       "      <td>KNN_0</td>\n",
       "      <td>lasso</td>\n",
       "      <td>0.876373</td>\n",
       "      <td>0.876373</td>\n",
       "      <td>0.876373</td>\n",
       "      <td>0.876373</td>\n",
       "      <td>0.876539</td>\n",
       "      <td>0.876377</td>\n",
       "      <td>0.876360</td>\n",
       "      <td>0.876542</td>\n",
       "      <td>0.876373</td>\n",
       "      <td>0.876359</td>\n",
       "    </tr>\n",
       "    <tr>\n",
       "      <th>3</th>\n",
       "      <td>4</td>\n",
       "      <td>DECISIONFOREST_3</td>\n",
       "      <td>lasso</td>\n",
       "      <td>0.845872</td>\n",
       "      <td>0.845872</td>\n",
       "      <td>0.845872</td>\n",
       "      <td>0.845872</td>\n",
       "      <td>0.845954</td>\n",
       "      <td>0.845875</td>\n",
       "      <td>0.845864</td>\n",
       "      <td>0.845956</td>\n",
       "      <td>0.845872</td>\n",
       "      <td>0.845864</td>\n",
       "    </tr>\n",
       "    <tr>\n",
       "      <th>4</th>\n",
       "      <td>5</td>\n",
       "      <td>XGBOOST_2</td>\n",
       "      <td>pca</td>\n",
       "      <td>0.814090</td>\n",
       "      <td>0.814090</td>\n",
       "      <td>0.814090</td>\n",
       "      <td>0.814090</td>\n",
       "      <td>0.700193</td>\n",
       "      <td>0.618003</td>\n",
       "      <td>0.637480</td>\n",
       "      <td>0.787236</td>\n",
       "      <td>0.814090</td>\n",
       "      <td>0.790487</td>\n",
       "    </tr>\n",
       "    <tr>\n",
       "      <th>5</th>\n",
       "      <td>6</td>\n",
       "      <td>DECISIONFOREST_2</td>\n",
       "      <td>pca</td>\n",
       "      <td>0.809524</td>\n",
       "      <td>0.809524</td>\n",
       "      <td>0.809524</td>\n",
       "      <td>0.809524</td>\n",
       "      <td>0.689906</td>\n",
       "      <td>0.579091</td>\n",
       "      <td>0.590620</td>\n",
       "      <td>0.774230</td>\n",
       "      <td>0.809524</td>\n",
       "      <td>0.771640</td>\n",
       "    </tr>\n",
       "    <tr>\n",
       "      <th>6</th>\n",
       "      <td>7</td>\n",
       "      <td>DECISIONFOREST_1</td>\n",
       "      <td>rfe</td>\n",
       "      <td>0.785279</td>\n",
       "      <td>0.785279</td>\n",
       "      <td>0.785279</td>\n",
       "      <td>0.785279</td>\n",
       "      <td>0.812340</td>\n",
       "      <td>0.785338</td>\n",
       "      <td>0.780549</td>\n",
       "      <td>0.812377</td>\n",
       "      <td>0.785279</td>\n",
       "      <td>0.780536</td>\n",
       "    </tr>\n",
       "    <tr>\n",
       "      <th>7</th>\n",
       "      <td>8</td>\n",
       "      <td>DECISIONFOREST_0</td>\n",
       "      <td>lasso</td>\n",
       "      <td>0.785279</td>\n",
       "      <td>0.785279</td>\n",
       "      <td>0.785279</td>\n",
       "      <td>0.785279</td>\n",
       "      <td>0.812340</td>\n",
       "      <td>0.785338</td>\n",
       "      <td>0.780549</td>\n",
       "      <td>0.812377</td>\n",
       "      <td>0.785279</td>\n",
       "      <td>0.780536</td>\n",
       "    </tr>\n",
       "    <tr>\n",
       "      <th>8</th>\n",
       "      <td>9</td>\n",
       "      <td>KNN_8</td>\n",
       "      <td>pca</td>\n",
       "      <td>0.761905</td>\n",
       "      <td>0.761905</td>\n",
       "      <td>0.761905</td>\n",
       "      <td>0.761905</td>\n",
       "      <td>0.582661</td>\n",
       "      <td>0.558122</td>\n",
       "      <td>0.563174</td>\n",
       "      <td>0.728287</td>\n",
       "      <td>0.761905</td>\n",
       "      <td>0.741340</td>\n",
       "    </tr>\n",
       "    <tr>\n",
       "      <th>9</th>\n",
       "      <td>10</td>\n",
       "      <td>XGBOOST_0</td>\n",
       "      <td>lasso</td>\n",
       "      <td>0.738918</td>\n",
       "      <td>0.738918</td>\n",
       "      <td>0.738918</td>\n",
       "      <td>0.738918</td>\n",
       "      <td>0.760517</td>\n",
       "      <td>0.738860</td>\n",
       "      <td>0.733361</td>\n",
       "      <td>0.760487</td>\n",
       "      <td>0.738918</td>\n",
       "      <td>0.733377</td>\n",
       "    </tr>\n",
       "    <tr>\n",
       "      <th>10</th>\n",
       "      <td>11</td>\n",
       "      <td>XGBOOST_3</td>\n",
       "      <td>lasso</td>\n",
       "      <td>0.738918</td>\n",
       "      <td>0.738918</td>\n",
       "      <td>0.738918</td>\n",
       "      <td>0.738918</td>\n",
       "      <td>0.760517</td>\n",
       "      <td>0.738860</td>\n",
       "      <td>0.733361</td>\n",
       "      <td>0.760487</td>\n",
       "      <td>0.738918</td>\n",
       "      <td>0.733377</td>\n",
       "    </tr>\n",
       "    <tr>\n",
       "      <th>11</th>\n",
       "      <td>12</td>\n",
       "      <td>XGBOOST_1</td>\n",
       "      <td>rfe</td>\n",
       "      <td>0.660838</td>\n",
       "      <td>0.660838</td>\n",
       "      <td>0.660838</td>\n",
       "      <td>0.660838</td>\n",
       "      <td>0.753760</td>\n",
       "      <td>0.660715</td>\n",
       "      <td>0.626560</td>\n",
       "      <td>0.753698</td>\n",
       "      <td>0.660838</td>\n",
       "      <td>0.626606</td>\n",
       "    </tr>\n",
       "  </tbody>\n",
       "</table>\n",
       "</div>"
      ],
      "text/plain": [
       "    RANK          MODEL_ID FEATURE_SELECTION  ACCURACY  MICRO-PRECISION  \\\n",
       "0      1             KNN_4               rfe  0.881659         0.881659   \n",
       "1      2             KNN_9             lasso  0.877999         0.877999   \n",
       "2      3             KNN_0             lasso  0.876373         0.876373   \n",
       "3      4  DECISIONFOREST_3             lasso  0.845872         0.845872   \n",
       "4      5         XGBOOST_2               pca  0.814090         0.814090   \n",
       "5      6  DECISIONFOREST_2               pca  0.809524         0.809524   \n",
       "6      7  DECISIONFOREST_1               rfe  0.785279         0.785279   \n",
       "7      8  DECISIONFOREST_0             lasso  0.785279         0.785279   \n",
       "8      9             KNN_8               pca  0.761905         0.761905   \n",
       "9     10         XGBOOST_0             lasso  0.738918         0.738918   \n",
       "10    11         XGBOOST_3             lasso  0.738918         0.738918   \n",
       "11    12         XGBOOST_1               rfe  0.660838         0.660838   \n",
       "\n",
       "    MICRO-RECALL  MICRO-F1  MACRO-PRECISION  MACRO-RECALL  MACRO-F1  \\\n",
       "0       0.881659  0.881659         0.881689      0.881661  0.881657   \n",
       "1       0.877999  0.877999         0.878958      0.878009  0.877924   \n",
       "2       0.876373  0.876373         0.876539      0.876377  0.876360   \n",
       "3       0.845872  0.845872         0.845954      0.845875  0.845864   \n",
       "4       0.814090  0.814090         0.700193      0.618003  0.637480   \n",
       "5       0.809524  0.809524         0.689906      0.579091  0.590620   \n",
       "6       0.785279  0.785279         0.812340      0.785338  0.780549   \n",
       "7       0.785279  0.785279         0.812340      0.785338  0.780549   \n",
       "8       0.761905  0.761905         0.582661      0.558122  0.563174   \n",
       "9       0.738918  0.738918         0.760517      0.738860  0.733361   \n",
       "10      0.738918  0.738918         0.760517      0.738860  0.733361   \n",
       "11      0.660838  0.660838         0.753760      0.660715  0.626560   \n",
       "\n",
       "    WEIGHTED-PRECISION  WEIGHTED-RECALL  WEIGHTED-F1  \n",
       "0             0.881690         0.881659     0.881657  \n",
       "1             0.878965         0.877999     0.877923  \n",
       "2             0.876542         0.876373     0.876359  \n",
       "3             0.845956         0.845872     0.845864  \n",
       "4             0.787236         0.814090     0.790487  \n",
       "5             0.774230         0.809524     0.771640  \n",
       "6             0.812377         0.785279     0.780536  \n",
       "7             0.812377         0.785279     0.780536  \n",
       "8             0.728287         0.761905     0.741340  \n",
       "9             0.760487         0.738918     0.733377  \n",
       "10            0.760487         0.738918     0.733377  \n",
       "11            0.753698         0.660838     0.626606  "
      ]
     },
     "metadata": {},
     "output_type": "display_data"
    },
    {
     "name": "stdout",
     "output_type": "stream",
     "text": [
      "                                                                                          \r"
     ]
    },
    {
     "data": {
      "text/html": [
       "12 rows X 13 columns"
      ],
      "text/plain": [
       "<IPython.core.display.HTML object>"
      ]
     },
     "metadata": {},
     "output_type": "display_data"
    },
    {
     "name": "stdout",
     "output_type": "stream",
     "text": [
      "                                                                                          \r"
     ]
    },
    {
     "data": {
      "text/html": [
       "\n",
       "            <style>\n",
       "                .custom-div {\n",
       "                    background-color: lightgray;\n",
       "                    color: #000000;\n",
       "                    padding: 10px;\n",
       "                    border-radius: 8px;\n",
       "                    box-shadow: 0 3px 4px rgba(0 -  0 -  0 -  0.2);\n",
       "                    margin-bottom: 10px;\n",
       "                    text-align: center;\n",
       "                }\n",
       "            </style>\n",
       "        <br><div class=\"custom-div\"><h3><span style=\"color: green;\">1. Feature Exploration -> 2. Feature Engineering -> 3. Data Preparation -> 4. Model Training & Evaluation</span><center></h3></center></div>"
      ],
      "text/plain": [
       "<IPython.core.display.HTML object>"
      ]
     },
     "metadata": {},
     "output_type": "display_data"
    },
    {
     "name": "stdout",
     "output_type": "stream",
     "text": [
      "Completed: ｜⫿⫿⫿⫿⫿⫿⫿⫿⫿⫿⫿⫿⫿⫿⫿⫿⫿⫿⫿⫿⫿⫿⫿⫿⫿⫿⫿⫿⫿⫿⫿⫿⫿⫿⫿⫿⫿⫿⫿⫿⫿⫿⫿⫿⫿⫿⫿⫿⫿⫿⫿⫿⫿⫿⫿⫿⫿⫿⫿⫿｜ 100% - 16/16    \r"
     ]
    }
   ],
   "source": [
    "# Fitting train data\n",
    "aml.fit(bank_df_train, bank_df_train.churn)"
   ]
  },
  {
   "cell_type": "markdown",
   "id": "23a04eb1-68e6-48b7-95aa-442f434809da",
   "metadata": {},
   "source": [
    "## <b><span style='color:#F1A424'>| 3.</span> Leaderboard : </b>"
   ]
  },
  {
   "cell_type": "code",
   "execution_count": 17,
   "id": "77de1099-6122-4f8a-8e7f-dd67e5b4ced4",
   "metadata": {},
   "outputs": [
    {
     "data": {
      "text/html": [
       "<div>\n",
       "<style scoped>\n",
       "    .dataframe tbody tr th:only-of-type {\n",
       "        vertical-align: middle;\n",
       "    }\n",
       "\n",
       "    .dataframe tbody tr th {\n",
       "        vertical-align: top;\n",
       "    }\n",
       "\n",
       "    .dataframe thead th {\n",
       "        text-align: right;\n",
       "    }\n",
       "</style>\n",
       "<table border=\"1\" class=\"dataframe\">\n",
       "  <thead>\n",
       "    <tr style=\"text-align: right;\">\n",
       "      <th></th>\n",
       "      <th>RANK</th>\n",
       "      <th>MODEL_ID</th>\n",
       "      <th>FEATURE_SELECTION</th>\n",
       "      <th>ACCURACY</th>\n",
       "      <th>MICRO-PRECISION</th>\n",
       "      <th>MICRO-RECALL</th>\n",
       "      <th>MICRO-F1</th>\n",
       "      <th>MACRO-PRECISION</th>\n",
       "      <th>MACRO-RECALL</th>\n",
       "      <th>MACRO-F1</th>\n",
       "      <th>WEIGHTED-PRECISION</th>\n",
       "      <th>WEIGHTED-RECALL</th>\n",
       "      <th>WEIGHTED-F1</th>\n",
       "    </tr>\n",
       "  </thead>\n",
       "  <tbody>\n",
       "    <tr>\n",
       "      <th>0</th>\n",
       "      <td>1</td>\n",
       "      <td>KNN_4</td>\n",
       "      <td>rfe</td>\n",
       "      <td>0.881659</td>\n",
       "      <td>0.881659</td>\n",
       "      <td>0.881659</td>\n",
       "      <td>0.881659</td>\n",
       "      <td>0.881689</td>\n",
       "      <td>0.881661</td>\n",
       "      <td>0.881657</td>\n",
       "      <td>0.881690</td>\n",
       "      <td>0.881659</td>\n",
       "      <td>0.881657</td>\n",
       "    </tr>\n",
       "    <tr>\n",
       "      <th>1</th>\n",
       "      <td>2</td>\n",
       "      <td>KNN_9</td>\n",
       "      <td>lasso</td>\n",
       "      <td>0.877999</td>\n",
       "      <td>0.877999</td>\n",
       "      <td>0.877999</td>\n",
       "      <td>0.877999</td>\n",
       "      <td>0.878958</td>\n",
       "      <td>0.878009</td>\n",
       "      <td>0.877924</td>\n",
       "      <td>0.878965</td>\n",
       "      <td>0.877999</td>\n",
       "      <td>0.877923</td>\n",
       "    </tr>\n",
       "    <tr>\n",
       "      <th>2</th>\n",
       "      <td>3</td>\n",
       "      <td>KNN_0</td>\n",
       "      <td>lasso</td>\n",
       "      <td>0.876373</td>\n",
       "      <td>0.876373</td>\n",
       "      <td>0.876373</td>\n",
       "      <td>0.876373</td>\n",
       "      <td>0.876539</td>\n",
       "      <td>0.876377</td>\n",
       "      <td>0.876360</td>\n",
       "      <td>0.876542</td>\n",
       "      <td>0.876373</td>\n",
       "      <td>0.876359</td>\n",
       "    </tr>\n",
       "    <tr>\n",
       "      <th>3</th>\n",
       "      <td>4</td>\n",
       "      <td>DECISIONFOREST_3</td>\n",
       "      <td>lasso</td>\n",
       "      <td>0.845872</td>\n",
       "      <td>0.845872</td>\n",
       "      <td>0.845872</td>\n",
       "      <td>0.845872</td>\n",
       "      <td>0.845954</td>\n",
       "      <td>0.845875</td>\n",
       "      <td>0.845864</td>\n",
       "      <td>0.845956</td>\n",
       "      <td>0.845872</td>\n",
       "      <td>0.845864</td>\n",
       "    </tr>\n",
       "    <tr>\n",
       "      <th>4</th>\n",
       "      <td>5</td>\n",
       "      <td>XGBOOST_2</td>\n",
       "      <td>pca</td>\n",
       "      <td>0.814090</td>\n",
       "      <td>0.814090</td>\n",
       "      <td>0.814090</td>\n",
       "      <td>0.814090</td>\n",
       "      <td>0.700193</td>\n",
       "      <td>0.618003</td>\n",
       "      <td>0.637480</td>\n",
       "      <td>0.787236</td>\n",
       "      <td>0.814090</td>\n",
       "      <td>0.790487</td>\n",
       "    </tr>\n",
       "    <tr>\n",
       "      <th>5</th>\n",
       "      <td>6</td>\n",
       "      <td>DECISIONFOREST_2</td>\n",
       "      <td>pca</td>\n",
       "      <td>0.809524</td>\n",
       "      <td>0.809524</td>\n",
       "      <td>0.809524</td>\n",
       "      <td>0.809524</td>\n",
       "      <td>0.689906</td>\n",
       "      <td>0.579091</td>\n",
       "      <td>0.590620</td>\n",
       "      <td>0.774230</td>\n",
       "      <td>0.809524</td>\n",
       "      <td>0.771640</td>\n",
       "    </tr>\n",
       "    <tr>\n",
       "      <th>6</th>\n",
       "      <td>7</td>\n",
       "      <td>DECISIONFOREST_1</td>\n",
       "      <td>rfe</td>\n",
       "      <td>0.785279</td>\n",
       "      <td>0.785279</td>\n",
       "      <td>0.785279</td>\n",
       "      <td>0.785279</td>\n",
       "      <td>0.812340</td>\n",
       "      <td>0.785338</td>\n",
       "      <td>0.780549</td>\n",
       "      <td>0.812377</td>\n",
       "      <td>0.785279</td>\n",
       "      <td>0.780536</td>\n",
       "    </tr>\n",
       "    <tr>\n",
       "      <th>7</th>\n",
       "      <td>8</td>\n",
       "      <td>DECISIONFOREST_0</td>\n",
       "      <td>lasso</td>\n",
       "      <td>0.785279</td>\n",
       "      <td>0.785279</td>\n",
       "      <td>0.785279</td>\n",
       "      <td>0.785279</td>\n",
       "      <td>0.812340</td>\n",
       "      <td>0.785338</td>\n",
       "      <td>0.780549</td>\n",
       "      <td>0.812377</td>\n",
       "      <td>0.785279</td>\n",
       "      <td>0.780536</td>\n",
       "    </tr>\n",
       "    <tr>\n",
       "      <th>8</th>\n",
       "      <td>9</td>\n",
       "      <td>KNN_8</td>\n",
       "      <td>pca</td>\n",
       "      <td>0.761905</td>\n",
       "      <td>0.761905</td>\n",
       "      <td>0.761905</td>\n",
       "      <td>0.761905</td>\n",
       "      <td>0.582661</td>\n",
       "      <td>0.558122</td>\n",
       "      <td>0.563174</td>\n",
       "      <td>0.728287</td>\n",
       "      <td>0.761905</td>\n",
       "      <td>0.741340</td>\n",
       "    </tr>\n",
       "    <tr>\n",
       "      <th>9</th>\n",
       "      <td>10</td>\n",
       "      <td>XGBOOST_0</td>\n",
       "      <td>lasso</td>\n",
       "      <td>0.738918</td>\n",
       "      <td>0.738918</td>\n",
       "      <td>0.738918</td>\n",
       "      <td>0.738918</td>\n",
       "      <td>0.760517</td>\n",
       "      <td>0.738860</td>\n",
       "      <td>0.733361</td>\n",
       "      <td>0.760487</td>\n",
       "      <td>0.738918</td>\n",
       "      <td>0.733377</td>\n",
       "    </tr>\n",
       "    <tr>\n",
       "      <th>10</th>\n",
       "      <td>11</td>\n",
       "      <td>XGBOOST_3</td>\n",
       "      <td>lasso</td>\n",
       "      <td>0.738918</td>\n",
       "      <td>0.738918</td>\n",
       "      <td>0.738918</td>\n",
       "      <td>0.738918</td>\n",
       "      <td>0.760517</td>\n",
       "      <td>0.738860</td>\n",
       "      <td>0.733361</td>\n",
       "      <td>0.760487</td>\n",
       "      <td>0.738918</td>\n",
       "      <td>0.733377</td>\n",
       "    </tr>\n",
       "    <tr>\n",
       "      <th>11</th>\n",
       "      <td>12</td>\n",
       "      <td>XGBOOST_1</td>\n",
       "      <td>rfe</td>\n",
       "      <td>0.660838</td>\n",
       "      <td>0.660838</td>\n",
       "      <td>0.660838</td>\n",
       "      <td>0.660838</td>\n",
       "      <td>0.753760</td>\n",
       "      <td>0.660715</td>\n",
       "      <td>0.626560</td>\n",
       "      <td>0.753698</td>\n",
       "      <td>0.660838</td>\n",
       "      <td>0.626606</td>\n",
       "    </tr>\n",
       "  </tbody>\n",
       "</table>\n",
       "</div>"
      ],
      "text/plain": [
       "    RANK          MODEL_ID FEATURE_SELECTION  ACCURACY  MICRO-PRECISION  \\\n",
       "0      1             KNN_4               rfe  0.881659         0.881659   \n",
       "1      2             KNN_9             lasso  0.877999         0.877999   \n",
       "2      3             KNN_0             lasso  0.876373         0.876373   \n",
       "3      4  DECISIONFOREST_3             lasso  0.845872         0.845872   \n",
       "4      5         XGBOOST_2               pca  0.814090         0.814090   \n",
       "5      6  DECISIONFOREST_2               pca  0.809524         0.809524   \n",
       "6      7  DECISIONFOREST_1               rfe  0.785279         0.785279   \n",
       "7      8  DECISIONFOREST_0             lasso  0.785279         0.785279   \n",
       "8      9             KNN_8               pca  0.761905         0.761905   \n",
       "9     10         XGBOOST_0             lasso  0.738918         0.738918   \n",
       "10    11         XGBOOST_3             lasso  0.738918         0.738918   \n",
       "11    12         XGBOOST_1               rfe  0.660838         0.660838   \n",
       "\n",
       "    MICRO-RECALL  MICRO-F1  MACRO-PRECISION  MACRO-RECALL  MACRO-F1  \\\n",
       "0       0.881659  0.881659         0.881689      0.881661  0.881657   \n",
       "1       0.877999  0.877999         0.878958      0.878009  0.877924   \n",
       "2       0.876373  0.876373         0.876539      0.876377  0.876360   \n",
       "3       0.845872  0.845872         0.845954      0.845875  0.845864   \n",
       "4       0.814090  0.814090         0.700193      0.618003  0.637480   \n",
       "5       0.809524  0.809524         0.689906      0.579091  0.590620   \n",
       "6       0.785279  0.785279         0.812340      0.785338  0.780549   \n",
       "7       0.785279  0.785279         0.812340      0.785338  0.780549   \n",
       "8       0.761905  0.761905         0.582661      0.558122  0.563174   \n",
       "9       0.738918  0.738918         0.760517      0.738860  0.733361   \n",
       "10      0.738918  0.738918         0.760517      0.738860  0.733361   \n",
       "11      0.660838  0.660838         0.753760      0.660715  0.626560   \n",
       "\n",
       "    WEIGHTED-PRECISION  WEIGHTED-RECALL  WEIGHTED-F1  \n",
       "0             0.881690         0.881659     0.881657  \n",
       "1             0.878965         0.877999     0.877923  \n",
       "2             0.876542         0.876373     0.876359  \n",
       "3             0.845956         0.845872     0.845864  \n",
       "4             0.787236         0.814090     0.790487  \n",
       "5             0.774230         0.809524     0.771640  \n",
       "6             0.812377         0.785279     0.780536  \n",
       "7             0.812377         0.785279     0.780536  \n",
       "8             0.728287         0.761905     0.741340  \n",
       "9             0.760487         0.738918     0.733377  \n",
       "10            0.760487         0.738918     0.733377  \n",
       "11            0.753698         0.660838     0.626606  "
      ]
     },
     "execution_count": 17,
     "metadata": {},
     "output_type": "execute_result"
    }
   ],
   "source": [
    "# Fetching Leaderboard\n",
    "aml.leaderboard()"
   ]
  },
  {
   "cell_type": "markdown",
   "id": "a7a3aa08-e349-4a61-9217-2c17d50411d8",
   "metadata": {},
   "source": [
    "## <b><span style='color:#F1A424'>| 4.</span> Best Performing Model : </b>"
   ]
  },
  {
   "cell_type": "code",
   "execution_count": 18,
   "id": "c4c32832-a76b-4f42-826a-cefc38a6301b",
   "metadata": {},
   "outputs": [
    {
     "data": {
      "text/html": [
       "<div>\n",
       "<style scoped>\n",
       "    .dataframe tbody tr th:only-of-type {\n",
       "        vertical-align: middle;\n",
       "    }\n",
       "\n",
       "    .dataframe tbody tr th {\n",
       "        vertical-align: top;\n",
       "    }\n",
       "\n",
       "    .dataframe thead th {\n",
       "        text-align: right;\n",
       "    }\n",
       "</style>\n",
       "<table border=\"1\" class=\"dataframe\">\n",
       "  <thead>\n",
       "    <tr style=\"text-align: right;\">\n",
       "      <th></th>\n",
       "      <th>RANK</th>\n",
       "      <th>MODEL_ID</th>\n",
       "      <th>FEATURE_SELECTION</th>\n",
       "      <th>ACCURACY</th>\n",
       "      <th>MICRO-PRECISION</th>\n",
       "      <th>MICRO-RECALL</th>\n",
       "      <th>MICRO-F1</th>\n",
       "      <th>MACRO-PRECISION</th>\n",
       "      <th>MACRO-RECALL</th>\n",
       "      <th>MACRO-F1</th>\n",
       "      <th>WEIGHTED-PRECISION</th>\n",
       "      <th>WEIGHTED-RECALL</th>\n",
       "      <th>WEIGHTED-F1</th>\n",
       "    </tr>\n",
       "  </thead>\n",
       "  <tbody>\n",
       "    <tr>\n",
       "      <th>0</th>\n",
       "      <td>1</td>\n",
       "      <td>KNN_4</td>\n",
       "      <td>rfe</td>\n",
       "      <td>0.881659</td>\n",
       "      <td>0.881659</td>\n",
       "      <td>0.881659</td>\n",
       "      <td>0.881659</td>\n",
       "      <td>0.881689</td>\n",
       "      <td>0.881661</td>\n",
       "      <td>0.881657</td>\n",
       "      <td>0.88169</td>\n",
       "      <td>0.881659</td>\n",
       "      <td>0.881657</td>\n",
       "    </tr>\n",
       "  </tbody>\n",
       "</table>\n",
       "</div>"
      ],
      "text/plain": [
       "   RANK MODEL_ID FEATURE_SELECTION  ACCURACY  MICRO-PRECISION  MICRO-RECALL  \\\n",
       "0     1    KNN_4               rfe  0.881659         0.881659      0.881659   \n",
       "\n",
       "   MICRO-F1  MACRO-PRECISION  MACRO-RECALL  MACRO-F1  WEIGHTED-PRECISION  \\\n",
       "0  0.881659         0.881689      0.881661  0.881657             0.88169   \n",
       "\n",
       "   WEIGHTED-RECALL  WEIGHTED-F1  \n",
       "0         0.881659     0.881657  "
      ]
     },
     "metadata": {},
     "output_type": "display_data"
    }
   ],
   "source": [
    "# Fetching best performing model for dataset\n",
    "aml.leader()"
   ]
  },
  {
   "cell_type": "markdown",
   "id": "c4193e87-6728-4ae9-a86c-d293868305b2",
   "metadata": {},
   "source": [
    "## <b><span style='color:#F1A424'>| 5.</span> Get Hyperparameter for Trained Model : </b>"
   ]
  },
  {
   "cell_type": "code",
   "execution_count": 19,
   "id": "a5348edb-698b-4c98-8c5a-f745b20d2ea2",
   "metadata": {},
   "outputs": [
    {
     "data": {
      "text/plain": [
       "{'response_column': 'churn',\n",
       " 'name': 'knn',\n",
       " 'model_type': 'Classification',\n",
       " 'k': 3,\n",
       " 'id_column': 'id',\n",
       " 'voting_weight': 1.0,\n",
       " 'persist': False,\n",
       " 'output_prob': True,\n",
       " 'output_responses': ['1', '0']}"
      ]
     },
     "execution_count": 19,
     "metadata": {},
     "output_type": "execute_result"
    }
   ],
   "source": [
    "aml.model_hyperparameters(rank=1)"
   ]
  },
  {
   "cell_type": "code",
   "execution_count": 20,
   "id": "e7c1e2a5-9d16-4e00-9aa0-9f4bd717699d",
   "metadata": {
    "tags": []
   },
   "outputs": [
    {
     "data": {
      "text/plain": [
       "{'response_column': 'churn',\n",
       " 'name': 'xgboost',\n",
       " 'model_type': 'Classification',\n",
       " 'column_sampling': 1,\n",
       " 'min_impurity': 0.0,\n",
       " 'lambda1': 0.01,\n",
       " 'shrinkage_factor': 0.5,\n",
       " 'max_depth': 5,\n",
       " 'min_node_size': 1,\n",
       " 'iter_num': 10,\n",
       " 'seed': 42,\n",
       " 'persist': False,\n",
       " 'output_prob': True,\n",
       " 'output_responses': ['1', '0']}"
      ]
     },
     "execution_count": 20,
     "metadata": {},
     "output_type": "execute_result"
    }
   ],
   "source": [
    "aml.model_hyperparameters(rank=5)"
   ]
  },
  {
   "cell_type": "markdown",
   "id": "07a57364-a3e4-4298-b641-fb7bb3d2c664",
   "metadata": {},
   "source": [
    "## <b><span style='color:#F1A424'>| 6.</span> Generate Prediction and Performance Metrics : </b>"
   ]
  },
  {
   "cell_type": "code",
   "execution_count": 21,
   "id": "5b6edfe3-bd5a-46bd-ad80-b20fadfed7a0",
   "metadata": {
    "tags": []
   },
   "outputs": [
    {
     "name": "stdout",
     "output_type": "stream",
     "text": [
      "Data Transformation started ...\n",
      "                                                                                                \r"
     ]
    },
    {
     "data": {
      "text/html": [
       "Performing transformation carried out in feature engineering phase ..."
      ],
      "text/plain": [
       "<IPython.core.display.HTML object>"
      ]
     },
     "metadata": {},
     "output_type": "display_data"
    },
    {
     "name": "stdout",
     "output_type": "stream",
     "text": [
      "                                                                                                 \r"
     ]
    },
    {
     "data": {
      "text/html": [
       "\n",
       "Updated dataset after performing target column transformation :"
      ],
      "text/plain": [
       "<IPython.core.display.HTML object>"
      ]
     },
     "metadata": {},
     "output_type": "display_data"
    },
    {
     "data": {
      "text/html": [
       "<style type=\"text/css\">\n",
       "\ttable {border:ridge 5px;}\n",
       "\ttable td {border:inset 1px;}\n",
       "\ttable tr#HeaderRow {background-color:grey; color:white;}</style>\n",
       "<html><table>\n",
       "\t<tr id=\"HeaderRow\">\n",
       "\t\t<th>customer_id</th>\n",
       "\t\t<th>balance</th>\n",
       "\t\t<th>estimated_salary</th>\n",
       "\t\t<th>products_number</th>\n",
       "\t\t<th>gender</th>\n",
       "\t\t<th>tenure</th>\n",
       "\t\t<th>active_member</th>\n",
       "\t\t<th>country</th>\n",
       "\t\t<th>credit_card</th>\n",
       "\t\t<th>id</th>\n",
       "\t\t<th>credit_score</th>\n",
       "\t\t<th>age</th>\n",
       "\t\t<th>churn</th>\n",
       "\t</tr>\n",
       "\t<tr>\n",
       "\t\t<td>15574523</td>\n",
       "\t\t<td>0.0</td>\n",
       "\t\t<td>68814.23</td>\n",
       "\t\t<td>2</td>\n",
       "\t\t<td>Male</td>\n",
       "\t\t<td>1</td>\n",
       "\t\t<td>1</td>\n",
       "\t\t<td>France</td>\n",
       "\t\t<td>1</td>\n",
       "\t\t<td>12</td>\n",
       "\t\t<td>576</td>\n",
       "\t\t<td>39</td>\n",
       "\t\t<td>0</td>\n",
       "\t</tr>\n",
       "\t<tr>\n",
       "\t\t<td>15609618</td>\n",
       "\t\t<td>154475.54</td>\n",
       "\t\t<td>101300.94</td>\n",
       "\t\t<td>2</td>\n",
       "\t\t<td>Male</td>\n",
       "\t\t<td>9</td>\n",
       "\t\t<td>1</td>\n",
       "\t\t<td>Germany</td>\n",
       "\t\t<td>0</td>\n",
       "\t\t<td>10</td>\n",
       "\t\t<td>721</td>\n",
       "\t\t<td>28</td>\n",
       "\t\t<td>1</td>\n",
       "\t</tr>\n",
       "\t<tr>\n",
       "\t\t<td>15576216</td>\n",
       "\t\t<td>108862.76</td>\n",
       "\t\t<td>79555.08</td>\n",
       "\t\t<td>1</td>\n",
       "\t\t<td>Female</td>\n",
       "\t\t<td>4</td>\n",
       "\t\t<td>0</td>\n",
       "\t\t<td>Germany</td>\n",
       "\t\t<td>1</td>\n",
       "\t\t<td>18</td>\n",
       "\t\t<td>655</td>\n",
       "\t\t<td>37</td>\n",
       "\t\t<td>1</td>\n",
       "\t</tr>\n",
       "\t<tr>\n",
       "\t\t<td>15642816</td>\n",
       "\t\t<td>43658.33</td>\n",
       "\t\t<td>3025.49</td>\n",
       "\t\t<td>2</td>\n",
       "\t\t<td>Female</td>\n",
       "\t\t<td>7</td>\n",
       "\t\t<td>1</td>\n",
       "\t\t<td>France</td>\n",
       "\t\t<td>1</td>\n",
       "\t\t<td>15</td>\n",
       "\t\t<td>850</td>\n",
       "\t\t<td>27</td>\n",
       "\t\t<td>0</td>\n",
       "\t</tr>\n",
       "\t<tr>\n",
       "\t\t<td>15721019</td>\n",
       "\t\t<td>110495.27</td>\n",
       "\t\t<td>158615.41</td>\n",
       "\t\t<td>1</td>\n",
       "\t\t<td>Female</td>\n",
       "\t\t<td>3</td>\n",
       "\t\t<td>0</td>\n",
       "\t\t<td>France</td>\n",
       "\t\t<td>1</td>\n",
       "\t\t<td>14</td>\n",
       "\t\t<td>687</td>\n",
       "\t\t<td>24</td>\n",
       "\t\t<td>0</td>\n",
       "\t</tr>\n",
       "\t<tr>\n",
       "\t\t<td>15609475</td>\n",
       "\t\t<td>98544.11</td>\n",
       "\t\t<td>52327.57</td>\n",
       "\t\t<td>1</td>\n",
       "\t\t<td>Female</td>\n",
       "\t\t<td>7</td>\n",
       "\t\t<td>1</td>\n",
       "\t\t<td>Spain</td>\n",
       "\t\t<td>1</td>\n",
       "\t\t<td>22</td>\n",
       "\t\t<td>604</td>\n",
       "\t\t<td>39</td>\n",
       "\t\t<td>0</td>\n",
       "\t</tr>\n",
       "\t<tr>\n",
       "\t\t<td>15566958</td>\n",
       "\t\t<td>167557.12</td>\n",
       "\t\t<td>41183.02</td>\n",
       "\t\t<td>1</td>\n",
       "\t\t<td>Male</td>\n",
       "\t\t<td>7</td>\n",
       "\t\t<td>1</td>\n",
       "\t\t<td>Spain</td>\n",
       "\t\t<td>1</td>\n",
       "\t\t<td>9</td>\n",
       "\t\t<td>667</td>\n",
       "\t\t<td>39</td>\n",
       "\t\t<td>0</td>\n",
       "\t</tr>\n",
       "\t<tr>\n",
       "\t\t<td>15591428</td>\n",
       "\t\t<td>0.0</td>\n",
       "\t\t<td>172097.4</td>\n",
       "\t\t<td>2</td>\n",
       "\t\t<td>Male</td>\n",
       "\t\t<td>9</td>\n",
       "\t\t<td>0</td>\n",
       "\t\t<td>France</td>\n",
       "\t\t<td>0</td>\n",
       "\t\t<td>17</td>\n",
       "\t\t<td>781</td>\n",
       "\t\t<td>29</td>\n",
       "\t\t<td>0</td>\n",
       "\t</tr>\n",
       "\t<tr>\n",
       "\t\t<td>15629133</td>\n",
       "\t\t<td>0.0</td>\n",
       "\t\t<td>126838.7</td>\n",
       "\t\t<td>2</td>\n",
       "\t\t<td>Female</td>\n",
       "\t\t<td>9</td>\n",
       "\t\t<td>0</td>\n",
       "\t\t<td>France</td>\n",
       "\t\t<td>1</td>\n",
       "\t\t<td>13</td>\n",
       "\t\t<td>579</td>\n",
       "\t\t<td>27</td>\n",
       "\t\t<td>0</td>\n",
       "\t</tr>\n",
       "\t<tr>\n",
       "\t\t<td>15589348</td>\n",
       "\t\t<td>137204.77</td>\n",
       "\t\t<td>28865.59</td>\n",
       "\t\t<td>1</td>\n",
       "\t\t<td>Male</td>\n",
       "\t\t<td>4</td>\n",
       "\t\t<td>1</td>\n",
       "\t\t<td>Spain</td>\n",
       "\t\t<td>1</td>\n",
       "\t\t<td>21</td>\n",
       "\t\t<td>850</td>\n",
       "\t\t<td>37</td>\n",
       "\t\t<td>0</td>\n",
       "\t</tr>\n",
       "</table></html>"
      ],
      "text/plain": [
       "   customer_id    balance  estimated_salary  products_number  gender  tenure  active_member  country  credit_card  id  credit_score  age  churn\n",
       "0     15574523       0.00          68814.23                2    Male       1              1   France            1  12           576   39      0\n",
       "1     15609618  154475.54         101300.94                2    Male       9              1  Germany            0  10           721   28      1\n",
       "2     15576216  108862.76          79555.08                1  Female       4              0  Germany            1  18           655   37      1\n",
       "3     15642816   43658.33           3025.49                2  Female       7              1   France            1  15           850   27      0\n",
       "4     15721019  110495.27         158615.41                1  Female       3              0   France            1  14           687   24      0\n",
       "5     15609475   98544.11          52327.57                1  Female       7              1    Spain            1  22           604   39      0\n",
       "6     15566958  167557.12          41183.02                1    Male       7              1    Spain            1   9           667   39      0\n",
       "7     15591428       0.00         172097.40                2    Male       9              0   France            0  17           781   29      0\n",
       "8     15629133       0.00         126838.70                2  Female       9              0   France            1  13           579   27      0\n",
       "9     15589348  137204.77          28865.59                1    Male       4              1    Spain            1  21           850   37      0"
      ]
     },
     "metadata": {},
     "output_type": "display_data"
    },
    {
     "name": "stdout",
     "output_type": "stream",
     "text": [
      "                                                                                                 \r"
     ]
    },
    {
     "data": {
      "text/html": [
       "2000 rows X 13 columns"
      ],
      "text/plain": [
       "<IPython.core.display.HTML object>"
      ]
     },
     "metadata": {},
     "output_type": "display_data"
    },
    {
     "name": "stdout",
     "output_type": "stream",
     "text": [
      "                                                                                                 \r"
     ]
    },
    {
     "data": {
      "text/html": [
       "\n",
       "Updated dataset after performing categorical encoding :"
      ],
      "text/plain": [
       "<IPython.core.display.HTML object>"
      ]
     },
     "metadata": {},
     "output_type": "display_data"
    },
    {
     "data": {
      "text/html": [
       "<style type=\"text/css\">\n",
       "\ttable {border:ridge 5px;}\n",
       "\ttable td {border:inset 1px;}\n",
       "\ttable tr#HeaderRow {background-color:grey; color:white;}</style>\n",
       "<html><table>\n",
       "\t<tr id=\"HeaderRow\">\n",
       "\t\t<th>customer_id</th>\n",
       "\t\t<th>balance</th>\n",
       "\t\t<th>estimated_salary</th>\n",
       "\t\t<th>products_number</th>\n",
       "\t\t<th>gender_0</th>\n",
       "\t\t<th>gender_1</th>\n",
       "\t\t<th>tenure</th>\n",
       "\t\t<th>active_member</th>\n",
       "\t\t<th>country_0</th>\n",
       "\t\t<th>country_1</th>\n",
       "\t\t<th>country_2</th>\n",
       "\t\t<th>credit_card</th>\n",
       "\t\t<th>id</th>\n",
       "\t\t<th>credit_score</th>\n",
       "\t\t<th>age</th>\n",
       "\t\t<th>churn</th>\n",
       "\t</tr>\n",
       "\t<tr>\n",
       "\t\t<td>15714493</td>\n",
       "\t\t<td>0.0</td>\n",
       "\t\t<td>95500.98</td>\n",
       "\t\t<td>2</td>\n",
       "\t\t<td>1</td>\n",
       "\t\t<td>0</td>\n",
       "\t\t<td>6</td>\n",
       "\t\t<td>1</td>\n",
       "\t\t<td>0</td>\n",
       "\t\t<td>0</td>\n",
       "\t\t<td>1</td>\n",
       "\t\t<td>1</td>\n",
       "\t\t<td>25</td>\n",
       "\t\t<td>465</td>\n",
       "\t\t<td>33</td>\n",
       "\t\t<td>0</td>\n",
       "\t</tr>\n",
       "\t<tr>\n",
       "\t\t<td>15643916</td>\n",
       "\t\t<td>62400.48</td>\n",
       "\t\t<td>132498.39</td>\n",
       "\t\t<td>1</td>\n",
       "\t\t<td>0</td>\n",
       "\t\t<td>1</td>\n",
       "\t\t<td>8</td>\n",
       "\t\t<td>1</td>\n",
       "\t\t<td>0</td>\n",
       "\t\t<td>0</td>\n",
       "\t\t<td>1</td>\n",
       "\t\t<td>1</td>\n",
       "\t\t<td>41</td>\n",
       "\t\t<td>619</td>\n",
       "\t\t<td>46</td>\n",
       "\t\t<td>1</td>\n",
       "\t</tr>\n",
       "\t<tr>\n",
       "\t\t<td>15660535</td>\n",
       "\t\t<td>0.0</td>\n",
       "\t\t<td>179843.33</td>\n",
       "\t\t<td>2</td>\n",
       "\t\t<td>1</td>\n",
       "\t\t<td>0</td>\n",
       "\t\t<td>5</td>\n",
       "\t\t<td>1</td>\n",
       "\t\t<td>1</td>\n",
       "\t\t<td>0</td>\n",
       "\t\t<td>0</td>\n",
       "\t\t<td>1</td>\n",
       "\t\t<td>49</td>\n",
       "\t\t<td>680</td>\n",
       "\t\t<td>47</td>\n",
       "\t\t<td>0</td>\n",
       "\t</tr>\n",
       "\t<tr>\n",
       "\t\t<td>15775627</td>\n",
       "\t\t<td>0.0</td>\n",
       "\t\t<td>67431.28</td>\n",
       "\t\t<td>2</td>\n",
       "\t\t<td>0</td>\n",
       "\t\t<td>1</td>\n",
       "\t\t<td>8</td>\n",
       "\t\t<td>1</td>\n",
       "\t\t<td>1</td>\n",
       "\t\t<td>0</td>\n",
       "\t\t<td>0</td>\n",
       "\t\t<td>0</td>\n",
       "\t\t<td>57</td>\n",
       "\t\t<td>509</td>\n",
       "\t\t<td>35</td>\n",
       "\t\t<td>0</td>\n",
       "\t</tr>\n",
       "\t<tr>\n",
       "\t\t<td>15794204</td>\n",
       "\t\t<td>108116.66</td>\n",
       "\t\t<td>27411.19</td>\n",
       "\t\t<td>1</td>\n",
       "\t\t<td>0</td>\n",
       "\t\t<td>1</td>\n",
       "\t\t<td>7</td>\n",
       "\t\t<td>1</td>\n",
       "\t\t<td>1</td>\n",
       "\t\t<td>0</td>\n",
       "\t\t<td>0</td>\n",
       "\t\t<td>1</td>\n",
       "\t\t<td>73</td>\n",
       "\t\t<td>687</td>\n",
       "\t\t<td>28</td>\n",
       "\t\t<td>0</td>\n",
       "\t</tr>\n",
       "\t<tr>\n",
       "\t\t<td>15802381</td>\n",
       "\t\t<td>63663.93</td>\n",
       "\t\t<td>167784.28</td>\n",
       "\t\t<td>1</td>\n",
       "\t\t<td>1</td>\n",
       "\t\t<td>0</td>\n",
       "\t\t<td>5</td>\n",
       "\t\t<td>1</td>\n",
       "\t\t<td>0</td>\n",
       "\t\t<td>1</td>\n",
       "\t\t<td>0</td>\n",
       "\t\t<td>0</td>\n",
       "\t\t<td>81</td>\n",
       "\t\t<td>461</td>\n",
       "\t\t<td>34</td>\n",
       "\t\t<td>0</td>\n",
       "\t</tr>\n",
       "\t<tr>\n",
       "\t\t<td>15790717</td>\n",
       "\t\t<td>0.0</td>\n",
       "\t\t<td>160387.98</td>\n",
       "\t\t<td>2</td>\n",
       "\t\t<td>0</td>\n",
       "\t\t<td>1</td>\n",
       "\t\t<td>7</td>\n",
       "\t\t<td>0</td>\n",
       "\t\t<td>0</td>\n",
       "\t\t<td>0</td>\n",
       "\t\t<td>1</td>\n",
       "\t\t<td>1</td>\n",
       "\t\t<td>65</td>\n",
       "\t\t<td>695</td>\n",
       "\t\t<td>35</td>\n",
       "\t\t<td>0</td>\n",
       "\t</tr>\n",
       "\t<tr>\n",
       "\t\t<td>15572626</td>\n",
       "\t\t<td>0.0</td>\n",
       "\t\t<td>15627.51</td>\n",
       "\t\t<td>2</td>\n",
       "\t\t<td>0</td>\n",
       "\t\t<td>1</td>\n",
       "\t\t<td>8</td>\n",
       "\t\t<td>1</td>\n",
       "\t\t<td>0</td>\n",
       "\t\t<td>0</td>\n",
       "\t\t<td>1</td>\n",
       "\t\t<td>1</td>\n",
       "\t\t<td>33</td>\n",
       "\t\t<td>620</td>\n",
       "\t\t<td>44</td>\n",
       "\t\t<td>0</td>\n",
       "\t</tr>\n",
       "\t<tr>\n",
       "\t\t<td>15591428</td>\n",
       "\t\t<td>0.0</td>\n",
       "\t\t<td>172097.4</td>\n",
       "\t\t<td>2</td>\n",
       "\t\t<td>0</td>\n",
       "\t\t<td>1</td>\n",
       "\t\t<td>9</td>\n",
       "\t\t<td>0</td>\n",
       "\t\t<td>1</td>\n",
       "\t\t<td>0</td>\n",
       "\t\t<td>0</td>\n",
       "\t\t<td>0</td>\n",
       "\t\t<td>17</td>\n",
       "\t\t<td>781</td>\n",
       "\t\t<td>29</td>\n",
       "\t\t<td>0</td>\n",
       "\t</tr>\n",
       "\t<tr>\n",
       "\t\t<td>15566958</td>\n",
       "\t\t<td>167557.12</td>\n",
       "\t\t<td>41183.02</td>\n",
       "\t\t<td>1</td>\n",
       "\t\t<td>0</td>\n",
       "\t\t<td>1</td>\n",
       "\t\t<td>7</td>\n",
       "\t\t<td>1</td>\n",
       "\t\t<td>0</td>\n",
       "\t\t<td>0</td>\n",
       "\t\t<td>1</td>\n",
       "\t\t<td>1</td>\n",
       "\t\t<td>9</td>\n",
       "\t\t<td>667</td>\n",
       "\t\t<td>39</td>\n",
       "\t\t<td>0</td>\n",
       "\t</tr>\n",
       "</table></html>"
      ],
      "text/plain": [
       "               balance  estimated_salary  products_number  gender_0  gender_1  tenure  active_member  country_0  country_1  country_2  credit_card  id  credit_score  age  churn\n",
       "customer_id                                                                                                                                                                     \n",
       "15714493          0.00          95500.98                2         1         0       6              1          0          0          1            1  25           465   33      0\n",
       "15643916      62400.48         132498.39                1         0         1       8              1          0          0          1            1  41           619   46      1\n",
       "15660535          0.00         179843.33                2         1         0       5              1          1          0          0            1  49           680   47      0\n",
       "15775627          0.00          67431.28                2         0         1       8              1          1          0          0            0  57           509   35      0\n",
       "15794204     108116.66          27411.19                1         0         1       7              1          1          0          0            1  73           687   28      0\n",
       "15802381      63663.93         167784.28                1         1         0       5              1          0          1          0            0  81           461   34      0\n",
       "15790717          0.00         160387.98                2         0         1       7              0          0          0          1            1  65           695   35      0\n",
       "15572626          0.00          15627.51                2         0         1       8              1          0          0          1            1  33           620   44      0\n",
       "15591428          0.00         172097.40                2         0         1       9              0          1          0          0            0  17           781   29      0\n",
       "15566958     167557.12          41183.02                1         0         1       7              1          0          0          1            1   9           667   39      0"
      ]
     },
     "metadata": {},
     "output_type": "display_data"
    },
    {
     "name": "stdout",
     "output_type": "stream",
     "text": [
      "                                                                                                 \r"
     ]
    },
    {
     "data": {
      "text/html": [
       "2000 rows X 16 columns"
      ],
      "text/plain": [
       "<IPython.core.display.HTML object>"
      ]
     },
     "metadata": {},
     "output_type": "display_data"
    },
    {
     "name": "stdout",
     "output_type": "stream",
     "text": [
      "                                                                                                 \r"
     ]
    },
    {
     "data": {
      "text/html": [
       "Performing transformation carried out in data preparation phase ..."
      ],
      "text/plain": [
       "<IPython.core.display.HTML object>"
      ]
     },
     "metadata": {},
     "output_type": "display_data"
    },
    {
     "name": "stdout",
     "output_type": "stream",
     "text": [
      "                                                                                                 \r"
     ]
    },
    {
     "data": {
      "text/html": [
       "\n",
       "Updated dataset after performing Lasso feature selection:"
      ],
      "text/plain": [
       "<IPython.core.display.HTML object>"
      ]
     },
     "metadata": {},
     "output_type": "display_data"
    },
    {
     "data": {
      "text/html": [
       "<style type=\"text/css\">\n",
       "\ttable {border:ridge 5px;}\n",
       "\ttable td {border:inset 1px;}\n",
       "\ttable tr#HeaderRow {background-color:grey; color:white;}</style>\n",
       "<html><table>\n",
       "\t<tr id=\"HeaderRow\">\n",
       "\t\t<th>id</th>\n",
       "\t\t<th>customer_id</th>\n",
       "\t\t<th>country_2</th>\n",
       "\t\t<th>balance</th>\n",
       "\t\t<th>estimated_salary</th>\n",
       "\t\t<th>products_number</th>\n",
       "\t\t<th>credit_score</th>\n",
       "\t\t<th>country_1</th>\n",
       "\t\t<th>tenure</th>\n",
       "\t\t<th>active_member</th>\n",
       "\t\t<th>gender_1</th>\n",
       "\t\t<th>credit_card</th>\n",
       "\t\t<th>country_0</th>\n",
       "\t\t<th>age</th>\n",
       "\t\t<th>gender_0</th>\n",
       "\t\t<th>churn</th>\n",
       "\t</tr>\n",
       "\t<tr>\n",
       "\t\t<td>26</td>\n",
       "\t\t<td>15607986</td>\n",
       "\t\t<td>0</td>\n",
       "\t\t<td>139930.18</td>\n",
       "\t\t<td>105720.09</td>\n",
       "\t\t<td>1</td>\n",
       "\t\t<td>555</td>\n",
       "\t\t<td>0</td>\n",
       "\t\t<td>10</td>\n",
       "\t\t<td>1</td>\n",
       "\t\t<td>1</td>\n",
       "\t\t<td>1</td>\n",
       "\t\t<td>1</td>\n",
       "\t\t<td>40</td>\n",
       "\t\t<td>0</td>\n",
       "\t\t<td>0</td>\n",
       "\t</tr>\n",
       "\t<tr>\n",
       "\t\t<td>42</td>\n",
       "\t\t<td>15659149</td>\n",
       "\t\t<td>0</td>\n",
       "\t\t<td>0.0</td>\n",
       "\t\t<td>197923.05</td>\n",
       "\t\t<td>2</td>\n",
       "\t\t<td>530</td>\n",
       "\t\t<td>0</td>\n",
       "\t\t<td>2</td>\n",
       "\t\t<td>0</td>\n",
       "\t\t<td>1</td>\n",
       "\t\t<td>1</td>\n",
       "\t\t<td>1</td>\n",
       "\t\t<td>39</td>\n",
       "\t\t<td>0</td>\n",
       "\t\t<td>0</td>\n",
       "\t</tr>\n",
       "\t<tr>\n",
       "\t\t<td>50</td>\n",
       "\t\t<td>15630641</td>\n",
       "\t\t<td>0</td>\n",
       "\t\t<td>127103.97</td>\n",
       "\t\t<td>41516.44</td>\n",
       "\t\t<td>1</td>\n",
       "\t\t<td>846</td>\n",
       "\t\t<td>0</td>\n",
       "\t\t<td>6</td>\n",
       "\t\t<td>1</td>\n",
       "\t\t<td>0</td>\n",
       "\t\t<td>1</td>\n",
       "\t\t<td>1</td>\n",
       "\t\t<td>37</td>\n",
       "\t\t<td>1</td>\n",
       "\t\t<td>0</td>\n",
       "\t</tr>\n",
       "\t<tr>\n",
       "\t\t<td>58</td>\n",
       "\t\t<td>15614878</td>\n",
       "\t\t<td>0</td>\n",
       "\t\t<td>180520.29</td>\n",
       "\t\t<td>123850.58</td>\n",
       "\t\t<td>1</td>\n",
       "\t\t<td>660</td>\n",
       "\t\t<td>1</td>\n",
       "\t\t<td>6</td>\n",
       "\t\t<td>1</td>\n",
       "\t\t<td>0</td>\n",
       "\t\t<td>1</td>\n",
       "\t\t<td>0</td>\n",
       "\t\t<td>29</td>\n",
       "\t\t<td>1</td>\n",
       "\t\t<td>0</td>\n",
       "\t</tr>\n",
       "\t<tr>\n",
       "\t\t<td>74</td>\n",
       "\t\t<td>15669589</td>\n",
       "\t\t<td>0</td>\n",
       "\t\t<td>95039.12</td>\n",
       "\t\t<td>116471.14</td>\n",
       "\t\t<td>1</td>\n",
       "\t\t<td>491</td>\n",
       "\t\t<td>1</td>\n",
       "\t\t<td>1</td>\n",
       "\t\t<td>1</td>\n",
       "\t\t<td>0</td>\n",
       "\t\t<td>0</td>\n",
       "\t\t<td>0</td>\n",
       "\t\t<td>68</td>\n",
       "\t\t<td>1</td>\n",
       "\t\t<td>1</td>\n",
       "\t</tr>\n",
       "\t<tr>\n",
       "\t\t<td>82</td>\n",
       "\t\t<td>15625175</td>\n",
       "\t\t<td>0</td>\n",
       "\t\t<td>97067.69</td>\n",
       "\t\t<td>60920.03</td>\n",
       "\t\t<td>1</td>\n",
       "\t\t<td>742</td>\n",
       "\t\t<td>1</td>\n",
       "\t\t<td>6</td>\n",
       "\t\t<td>1</td>\n",
       "\t\t<td>0</td>\n",
       "\t\t<td>0</td>\n",
       "\t\t<td>0</td>\n",
       "\t\t<td>43</td>\n",
       "\t\t<td>1</td>\n",
       "\t\t<td>1</td>\n",
       "\t</tr>\n",
       "\t<tr>\n",
       "\t\t<td>66</td>\n",
       "\t\t<td>15765982</td>\n",
       "\t\t<td>0</td>\n",
       "\t\t<td>74135.85</td>\n",
       "\t\t<td>11783.1</td>\n",
       "\t\t<td>1</td>\n",
       "\t\t<td>735</td>\n",
       "\t\t<td>0</td>\n",
       "\t\t<td>7</td>\n",
       "\t\t<td>1</td>\n",
       "\t\t<td>1</td>\n",
       "\t\t<td>1</td>\n",
       "\t\t<td>1</td>\n",
       "\t\t<td>41</td>\n",
       "\t\t<td>0</td>\n",
       "\t\t<td>1</td>\n",
       "\t</tr>\n",
       "\t<tr>\n",
       "\t\t<td>34</td>\n",
       "\t\t<td>15650034</td>\n",
       "\t\t<td>0</td>\n",
       "\t\t<td>0.0</td>\n",
       "\t\t<td>162428.05</td>\n",
       "\t\t<td>1</td>\n",
       "\t\t<td>564</td>\n",
       "\t\t<td>0</td>\n",
       "\t\t<td>1</td>\n",
       "\t\t<td>1</td>\n",
       "\t\t<td>0</td>\n",
       "\t\t<td>1</td>\n",
       "\t\t<td>1</td>\n",
       "\t\t<td>28</td>\n",
       "\t\t<td>1</td>\n",
       "\t\t<td>0</td>\n",
       "\t</tr>\n",
       "\t<tr>\n",
       "\t\t<td>18</td>\n",
       "\t\t<td>15576216</td>\n",
       "\t\t<td>0</td>\n",
       "\t\t<td>108862.76</td>\n",
       "\t\t<td>79555.08</td>\n",
       "\t\t<td>1</td>\n",
       "\t\t<td>655</td>\n",
       "\t\t<td>1</td>\n",
       "\t\t<td>4</td>\n",
       "\t\t<td>0</td>\n",
       "\t\t<td>0</td>\n",
       "\t\t<td>1</td>\n",
       "\t\t<td>0</td>\n",
       "\t\t<td>37</td>\n",
       "\t\t<td>1</td>\n",
       "\t\t<td>1</td>\n",
       "\t</tr>\n",
       "\t<tr>\n",
       "\t\t<td>10</td>\n",
       "\t\t<td>15609618</td>\n",
       "\t\t<td>0</td>\n",
       "\t\t<td>154475.54</td>\n",
       "\t\t<td>101300.94</td>\n",
       "\t\t<td>2</td>\n",
       "\t\t<td>721</td>\n",
       "\t\t<td>1</td>\n",
       "\t\t<td>9</td>\n",
       "\t\t<td>1</td>\n",
       "\t\t<td>1</td>\n",
       "\t\t<td>0</td>\n",
       "\t\t<td>0</td>\n",
       "\t\t<td>28</td>\n",
       "\t\t<td>0</td>\n",
       "\t\t<td>1</td>\n",
       "\t</tr>\n",
       "</table></html>"
      ],
      "text/plain": [
       "             id  country_2    balance  estimated_salary  products_number  credit_score  country_1  tenure  active_member  gender_1  credit_card  country_0  age  gender_0  churn\n",
       "customer_id                                                                                                                                                                     \n",
       "15607986     26          0  139930.18         105720.09                1           555          0      10              1         1            1          1   40         0      0\n",
       "15659149     42          0       0.00         197923.05                2           530          0       2              0         1            1          1   39         0      0\n",
       "15630641     50          0  127103.97          41516.44                1           846          0       6              1         0            1          1   37         1      0\n",
       "15614878     58          0  180520.29         123850.58                1           660          1       6              1         0            1          0   29         1      0\n",
       "15669589     74          0   95039.12         116471.14                1           491          1       1              1         0            0          0   68         1      1\n",
       "15625175     82          0   97067.69          60920.03                1           742          1       6              1         0            0          0   43         1      1\n",
       "15765982     66          0   74135.85          11783.10                1           735          0       7              1         1            1          1   41         0      1\n",
       "15650034     34          0       0.00         162428.05                1           564          0       1              1         0            1          1   28         1      0\n",
       "15576216     18          0  108862.76          79555.08                1           655          1       4              0         0            1          0   37         1      1\n",
       "15609618     10          0  154475.54         101300.94                2           721          1       9              1         1            0          0   28         0      1"
      ]
     },
     "metadata": {},
     "output_type": "display_data"
    },
    {
     "name": "stdout",
     "output_type": "stream",
     "text": [
      "                                                                                                 \r"
     ]
    },
    {
     "data": {
      "text/html": [
       "2000 rows X 16 columns"
      ],
      "text/plain": [
       "<IPython.core.display.HTML object>"
      ]
     },
     "metadata": {},
     "output_type": "display_data"
    },
    {
     "name": "stdout",
     "output_type": "stream",
     "text": [
      "                                                                                                 \r"
     ]
    },
    {
     "data": {
      "text/html": [
       "\n",
       "Updated dataset after performing scaling on Lasso selected features :"
      ],
      "text/plain": [
       "<IPython.core.display.HTML object>"
      ]
     },
     "metadata": {},
     "output_type": "display_data"
    },
    {
     "data": {
      "text/html": [
       "<style type=\"text/css\">\n",
       "\ttable {border:ridge 5px;}\n",
       "\ttable td {border:inset 1px;}\n",
       "\ttable tr#HeaderRow {background-color:grey; color:white;}</style>\n",
       "<html><table>\n",
       "\t<tr id=\"HeaderRow\">\n",
       "\t\t<th>country_2</th>\n",
       "\t\t<th>country_1</th>\n",
       "\t\t<th>churn</th>\n",
       "\t\t<th>gender_1</th>\n",
       "\t\t<th>id</th>\n",
       "\t\t<th>country_0</th>\n",
       "\t\t<th>gender_0</th>\n",
       "\t\t<th>customer_id</th>\n",
       "\t\t<th>balance</th>\n",
       "\t\t<th>estimated_salary</th>\n",
       "\t\t<th>products_number</th>\n",
       "\t\t<th>credit_score</th>\n",
       "\t\t<th>tenure</th>\n",
       "\t\t<th>active_member</th>\n",
       "\t\t<th>credit_card</th>\n",
       "\t\t<th>age</th>\n",
       "\t</tr>\n",
       "\t<tr>\n",
       "\t\t<td>0</td>\n",
       "\t\t<td>0</td>\n",
       "\t\t<td>0</td>\n",
       "\t\t<td>1</td>\n",
       "\t\t<td>11</td>\n",
       "\t\t<td>1</td>\n",
       "\t\t<td>0</td>\n",
       "\t\t<td>0.23147018468812627</td>\n",
       "\t\t<td>0.1854166765478366</td>\n",
       "\t\t<td>0.48347707601892304</td>\n",
       "\t\t<td>0.0</td>\n",
       "\t\t<td>0.708779443254818</td>\n",
       "\t\t<td>0.9</td>\n",
       "\t\t<td>1.0</td>\n",
       "\t\t<td>1.0</td>\n",
       "\t\t<td>0.5</td>\n",
       "\t</tr>\n",
       "\t<tr>\n",
       "\t\t<td>0</td>\n",
       "\t\t<td>1</td>\n",
       "\t\t<td>1</td>\n",
       "\t\t<td>1</td>\n",
       "\t\t<td>10</td>\n",
       "\t\t<td>0</td>\n",
       "\t\t<td>0</td>\n",
       "\t\t<td>0.1756757297321082</td>\n",
       "\t\t<td>0.6156903785118493</td>\n",
       "\t\t<td>0.5065502375585095</td>\n",
       "\t\t<td>0.5</td>\n",
       "\t\t<td>0.7237687366167024</td>\n",
       "\t\t<td>0.9</td>\n",
       "\t\t<td>1.0</td>\n",
       "\t\t<td>0.0</td>\n",
       "\t\t<td>0.22727272727272727</td>\n",
       "\t</tr>\n",
       "\t<tr>\n",
       "\t\t<td>0</td>\n",
       "\t\t<td>1</td>\n",
       "\t\t<td>1</td>\n",
       "\t\t<td>0</td>\n",
       "\t\t<td>18</td>\n",
       "\t\t<td>0</td>\n",
       "\t\t<td>1</td>\n",
       "\t\t<td>0.042061850721431746</td>\n",
       "\t\t<td>0.4338923425044806</td>\n",
       "\t\t<td>0.39779873050076825</td>\n",
       "\t\t<td>0.0</td>\n",
       "\t\t<td>0.582441113490364</td>\n",
       "\t\t<td>0.4</td>\n",
       "\t\t<td>0.0</td>\n",
       "\t\t<td>1.0</td>\n",
       "\t\t<td>0.4318181818181818</td>\n",
       "\t</tr>\n",
       "\t<tr>\n",
       "\t\t<td>0</td>\n",
       "\t\t<td>0</td>\n",
       "\t\t<td>0</td>\n",
       "\t\t<td>1</td>\n",
       "\t\t<td>12</td>\n",
       "\t\t<td>1</td>\n",
       "\t\t<td>0</td>\n",
       "\t\t<td>0.03528955274032058</td>\n",
       "\t\t<td>0.0</td>\n",
       "\t\t<td>0.34408351185312036</td>\n",
       "\t\t<td>0.5</td>\n",
       "\t\t<td>0.4132762312633833</td>\n",
       "\t\t<td>0.1</td>\n",
       "\t\t<td>1.0</td>\n",
       "\t\t<td>1.0</td>\n",
       "\t\t<td>0.4772727272727273</td>\n",
       "\t</tr>\n",
       "\t<tr>\n",
       "\t\t<td>0</td>\n",
       "\t\t<td>0</td>\n",
       "\t\t<td>0</td>\n",
       "\t\t<td>0</td>\n",
       "\t\t<td>15</td>\n",
       "\t\t<td>1</td>\n",
       "\t\t<td>1</td>\n",
       "\t\t<td>0.30847357283720483</td>\n",
       "\t\t<td>0.17400821983140646</td>\n",
       "\t\t<td>0.015072627830603008</td>\n",
       "\t\t<td>0.5</td>\n",
       "\t\t<td>1.0</td>\n",
       "\t\t<td>0.7</td>\n",
       "\t\t<td>1.0</td>\n",
       "\t\t<td>1.0</td>\n",
       "\t\t<td>0.20454545454545456</td>\n",
       "\t</tr>\n",
       "\t<tr>\n",
       "\t\t<td>0</td>\n",
       "\t\t<td>0</td>\n",
       "\t\t<td>0</td>\n",
       "\t\t<td>1</td>\n",
       "\t\t<td>23</td>\n",
       "\t\t<td>1</td>\n",
       "\t\t<td>0</td>\n",
       "\t\t<td>0.651316657932949</td>\n",
       "\t\t<td>0.5745268128585594</td>\n",
       "\t\t<td>0.07390669174645462</td>\n",
       "\t\t<td>0.0</td>\n",
       "\t\t<td>0.29764453961456105</td>\n",
       "\t\t<td>0.5</td>\n",
       "\t\t<td>1.0</td>\n",
       "\t\t<td>1.0</td>\n",
       "\t\t<td>0.5227272727272727</td>\n",
       "\t</tr>\n",
       "\t<tr>\n",
       "\t\t<td>0</td>\n",
       "\t\t<td>1</td>\n",
       "\t\t<td>0</td>\n",
       "\t\t<td>1</td>\n",
       "\t\t<td>8</td>\n",
       "\t\t<td>0</td>\n",
       "\t\t<td>0</td>\n",
       "\t\t<td>0.9523979055078423</td>\n",
       "\t\t<td>0.3576307017721817</td>\n",
       "\t\t<td>0.1864545740240157</td>\n",
       "\t\t<td>0.5</td>\n",
       "\t\t<td>0.5460385438972163</td>\n",
       "\t\t<td>0.2</td>\n",
       "\t\t<td>1.0</td>\n",
       "\t\t<td>1.0</td>\n",
       "\t\t<td>0.4318181818181818</td>\n",
       "\t</tr>\n",
       "\t<tr>\n",
       "\t\t<td>0</td>\n",
       "\t\t<td>1</td>\n",
       "\t\t<td>0</td>\n",
       "\t\t<td>0</td>\n",
       "\t\t<td>16</td>\n",
       "\t\t<td>0</td>\n",
       "\t\t<td>1</td>\n",
       "\t\t<td>0.6081667593374108</td>\n",
       "\t\t<td>0.4385489343501977</td>\n",
       "\t\t<td>0.6700568756140004</td>\n",
       "\t\t<td>0.5</td>\n",
       "\t\t<td>0.5481798715203426</td>\n",
       "\t\t<td>1.0</td>\n",
       "\t\t<td>1.0</td>\n",
       "\t\t<td>1.0</td>\n",
       "\t\t<td>0.6363636363636364</td>\n",
       "\t</tr>\n",
       "\t<tr>\n",
       "\t\t<td>0</td>\n",
       "\t\t<td>0</td>\n",
       "\t\t<td>0</td>\n",
       "\t\t<td>0</td>\n",
       "\t\t<td>14</td>\n",
       "\t\t<td>1</td>\n",
       "\t\t<td>1</td>\n",
       "\t\t<td>0.6212993371708355</td>\n",
       "\t\t<td>0.440399008218835</td>\n",
       "\t\t<td>0.7931811175842107</td>\n",
       "\t\t<td>0.0</td>\n",
       "\t\t<td>0.6509635974304069</td>\n",
       "\t\t<td>0.3</td>\n",
       "\t\t<td>0.0</td>\n",
       "\t\t<td>1.0</td>\n",
       "\t\t<td>0.13636363636363635</td>\n",
       "\t</tr>\n",
       "\t<tr>\n",
       "\t\t<td>1</td>\n",
       "\t\t<td>0</td>\n",
       "\t\t<td>0</td>\n",
       "\t\t<td>0</td>\n",
       "\t\t<td>22</td>\n",
       "\t\t<td>0</td>\n",
       "\t\t<td>1</td>\n",
       "\t\t<td>0.17510370456300078</td>\n",
       "\t\t<td>0.39276548498236874</td>\n",
       "\t\t<td>0.26163337553528426</td>\n",
       "\t\t<td>0.0</td>\n",
       "\t\t<td>0.4732334047109208</td>\n",
       "\t\t<td>0.7</td>\n",
       "\t\t<td>1.0</td>\n",
       "\t\t<td>1.0</td>\n",
       "\t\t<td>0.4772727272727273</td>\n",
       "\t</tr>\n",
       "</table></html>"
      ],
      "text/plain": [
       "   country_2  country_1  churn  gender_1  id  country_0  gender_0  customer_id   balance  estimated_salary  products_number  credit_score  tenure  active_member  credit_card       age\n",
       "0          0          0      0         1  11          1         0     0.231470  0.185417          0.483477              0.0      0.708779     0.9            1.0          1.0  0.500000\n",
       "1          0          1      1         1  10          0         0     0.175676  0.615690          0.506550              0.5      0.723769     0.9            1.0          0.0  0.227273\n",
       "2          0          1      1         0  18          0         1     0.042062  0.433892          0.397799              0.0      0.582441     0.4            0.0          1.0  0.431818\n",
       "3          0          0      0         1  12          1         0     0.035290  0.000000          0.344084              0.5      0.413276     0.1            1.0          1.0  0.477273\n",
       "4          0          0      0         0  15          1         1     0.308474  0.174008          0.015073              0.5      1.000000     0.7            1.0          1.0  0.204545\n",
       "5          0          0      0         1  23          1         0     0.651317  0.574527          0.073907              0.0      0.297645     0.5            1.0          1.0  0.522727\n",
       "6          0          1      0         1   8          0         0     0.952398  0.357631          0.186455              0.5      0.546039     0.2            1.0          1.0  0.431818\n",
       "7          0          1      0         0  16          0         1     0.608167  0.438549          0.670057              0.5      0.548180     1.0            1.0          1.0  0.636364\n",
       "8          0          0      0         0  14          1         1     0.621299  0.440399          0.793181              0.0      0.650964     0.3            0.0          1.0  0.136364\n",
       "9          1          0      0         0  22          0         1     0.175104  0.392765          0.261633              0.0      0.473233     0.7            1.0          1.0  0.477273"
      ]
     },
     "metadata": {},
     "output_type": "display_data"
    },
    {
     "name": "stdout",
     "output_type": "stream",
     "text": [
      "                                                                                                 \r"
     ]
    },
    {
     "data": {
      "text/html": [
       "2000 rows X 16 columns"
      ],
      "text/plain": [
       "<IPython.core.display.HTML object>"
      ]
     },
     "metadata": {},
     "output_type": "display_data"
    },
    {
     "name": "stdout",
     "output_type": "stream",
     "text": [
      "                                                                                                 \r"
     ]
    },
    {
     "data": {
      "text/html": [
       "\n",
       "Updated dataset after performing RFE feature selection:"
      ],
      "text/plain": [
       "<IPython.core.display.HTML object>"
      ]
     },
     "metadata": {},
     "output_type": "display_data"
    },
    {
     "data": {
      "text/html": [
       "<style type=\"text/css\">\n",
       "\ttable {border:ridge 5px;}\n",
       "\ttable td {border:inset 1px;}\n",
       "\ttable tr#HeaderRow {background-color:grey; color:white;}</style>\n",
       "<html><table>\n",
       "\t<tr id=\"HeaderRow\">\n",
       "\t\t<th>id</th>\n",
       "\t\t<th>customer_id</th>\n",
       "\t\t<th>gender_0</th>\n",
       "\t\t<th>credit_score</th>\n",
       "\t\t<th>country_0</th>\n",
       "\t\t<th>age</th>\n",
       "\t\t<th>country_2</th>\n",
       "\t\t<th>products_number</th>\n",
       "\t\t<th>country_1</th>\n",
       "\t\t<th>tenure</th>\n",
       "\t\t<th>active_member</th>\n",
       "\t\t<th>gender_1</th>\n",
       "\t\t<th>balance</th>\n",
       "\t\t<th>estimated_salary</th>\n",
       "\t\t<th>churn</th>\n",
       "\t</tr>\n",
       "\t<tr>\n",
       "\t\t<td>24</td>\n",
       "\t\t<td>15603378</td>\n",
       "\t\t<td>1</td>\n",
       "\t\t<td>768</td>\n",
       "\t\t<td>1</td>\n",
       "\t\t<td>36</td>\n",
       "\t\t<td>0</td>\n",
       "\t\t<td>1</td>\n",
       "\t\t<td>0</td>\n",
       "\t\t<td>3</td>\n",
       "\t\t<td>1</td>\n",
       "\t\t<td>0</td>\n",
       "\t\t<td>141334.95</td>\n",
       "\t\t<td>125870.5</td>\n",
       "\t\t<td>0</td>\n",
       "\t</tr>\n",
       "\t<tr>\n",
       "\t\t<td>40</td>\n",
       "\t\t<td>15704583</td>\n",
       "\t\t<td>0</td>\n",
       "\t\t<td>651</td>\n",
       "\t\t<td>1</td>\n",
       "\t\t<td>56</td>\n",
       "\t\t<td>0</td>\n",
       "\t\t<td>1</td>\n",
       "\t\t<td>0</td>\n",
       "\t\t<td>2</td>\n",
       "\t\t<td>0</td>\n",
       "\t\t<td>1</td>\n",
       "\t\t<td>0.0</td>\n",
       "\t\t<td>114522.68</td>\n",
       "\t\t<td>1</td>\n",
       "\t</tr>\n",
       "\t<tr>\n",
       "\t\t<td>48</td>\n",
       "\t\t<td>15652400</td>\n",
       "\t\t<td>0</td>\n",
       "\t\t<td>667</td>\n",
       "\t\t<td>0</td>\n",
       "\t\t<td>56</td>\n",
       "\t\t<td>1</td>\n",
       "\t\t<td>1</td>\n",
       "\t\t<td>0</td>\n",
       "\t\t<td>2</td>\n",
       "\t\t<td>1</td>\n",
       "\t\t<td>1</td>\n",
       "\t\t<td>168883.08</td>\n",
       "\t\t<td>18897.78</td>\n",
       "\t\t<td>0</td>\n",
       "\t</tr>\n",
       "\t<tr>\n",
       "\t\t<td>56</td>\n",
       "\t\t<td>15723873</td>\n",
       "\t\t<td>0</td>\n",
       "\t\t<td>657</td>\n",
       "\t\t<td>0</td>\n",
       "\t\t<td>31</td>\n",
       "\t\t<td>1</td>\n",
       "\t\t<td>1</td>\n",
       "\t\t<td>0</td>\n",
       "\t\t<td>3</td>\n",
       "\t\t<td>0</td>\n",
       "\t\t<td>1</td>\n",
       "\t\t<td>125167.02</td>\n",
       "\t\t<td>98820.39</td>\n",
       "\t\t<td>0</td>\n",
       "\t</tr>\n",
       "\t<tr>\n",
       "\t\t<td>72</td>\n",
       "\t\t<td>15662085</td>\n",
       "\t\t<td>1</td>\n",
       "\t\t<td>678</td>\n",
       "\t\t<td>1</td>\n",
       "\t\t<td>32</td>\n",
       "\t\t<td>0</td>\n",
       "\t\t<td>1</td>\n",
       "\t\t<td>0</td>\n",
       "\t\t<td>9</td>\n",
       "\t\t<td>1</td>\n",
       "\t\t<td>0</td>\n",
       "\t\t<td>0.0</td>\n",
       "\t\t<td>148210.64</td>\n",
       "\t\t<td>0</td>\n",
       "\t</tr>\n",
       "\t<tr>\n",
       "\t\t<td>80</td>\n",
       "\t\t<td>15567446</td>\n",
       "\t\t<td>0</td>\n",
       "\t\t<td>646</td>\n",
       "\t\t<td>0</td>\n",
       "\t\t<td>39</td>\n",
       "\t\t<td>0</td>\n",
       "\t\t<td>1</td>\n",
       "\t\t<td>1</td>\n",
       "\t\t<td>9</td>\n",
       "\t\t<td>1</td>\n",
       "\t\t<td>1</td>\n",
       "\t\t<td>111574.41</td>\n",
       "\t\t<td>30838.51</td>\n",
       "\t\t<td>0</td>\n",
       "\t</tr>\n",
       "\t<tr>\n",
       "\t\t<td>64</td>\n",
       "\t\t<td>15644446</td>\n",
       "\t\t<td>1</td>\n",
       "\t\t<td>672</td>\n",
       "\t\t<td>1</td>\n",
       "\t\t<td>28</td>\n",
       "\t\t<td>0</td>\n",
       "\t\t<td>1</td>\n",
       "\t\t<td>0</td>\n",
       "\t\t<td>6</td>\n",
       "\t\t<td>1</td>\n",
       "\t\t<td>0</td>\n",
       "\t\t<td>0.0</td>\n",
       "\t\t<td>8814.69</td>\n",
       "\t\t<td>0</td>\n",
       "\t</tr>\n",
       "\t<tr>\n",
       "\t\t<td>32</td>\n",
       "\t\t<td>15771856</td>\n",
       "\t\t<td>1</td>\n",
       "\t\t<td>632</td>\n",
       "\t\t<td>0</td>\n",
       "\t\t<td>32</td>\n",
       "\t\t<td>1</td>\n",
       "\t\t<td>2</td>\n",
       "\t\t<td>0</td>\n",
       "\t\t<td>1</td>\n",
       "\t\t<td>0</td>\n",
       "\t\t<td>0</td>\n",
       "\t\t<td>0.0</td>\n",
       "\t\t<td>19525.65</td>\n",
       "\t\t<td>0</td>\n",
       "\t</tr>\n",
       "\t<tr>\n",
       "\t\t<td>16</td>\n",
       "\t\t<td>15717736</td>\n",
       "\t\t<td>1</td>\n",
       "\t\t<td>639</td>\n",
       "\t\t<td>0</td>\n",
       "\t\t<td>46</td>\n",
       "\t\t<td>0</td>\n",
       "\t\t<td>2</td>\n",
       "\t\t<td>1</td>\n",
       "\t\t<td>10</td>\n",
       "\t\t<td>1</td>\n",
       "\t\t<td>0</td>\n",
       "\t\t<td>110031.09</td>\n",
       "\t\t<td>133995.59</td>\n",
       "\t\t<td>0</td>\n",
       "\t</tr>\n",
       "\t<tr>\n",
       "\t\t<td>8</td>\n",
       "\t\t<td>15803790</td>\n",
       "\t\t<td>0</td>\n",
       "\t\t<td>638</td>\n",
       "\t\t<td>0</td>\n",
       "\t\t<td>37</td>\n",
       "\t\t<td>0</td>\n",
       "\t\t<td>2</td>\n",
       "\t\t<td>1</td>\n",
       "\t\t<td>2</td>\n",
       "\t\t<td>1</td>\n",
       "\t\t<td>1</td>\n",
       "\t\t<td>89728.86</td>\n",
       "\t\t<td>37294.88</td>\n",
       "\t\t<td>0</td>\n",
       "\t</tr>\n",
       "</table></html>"
      ],
      "text/plain": [
       "             id  gender_0  credit_score  country_0  age  country_2  products_number  country_1  tenure  active_member  gender_1    balance  estimated_salary  churn\n",
       "customer_id                                                                                                                                                        \n",
       "15603378     24         1           768          1   36          0                1          0       3              1         0  141334.95         125870.50      0\n",
       "15704583     40         0           651          1   56          0                1          0       2              0         1       0.00         114522.68      1\n",
       "15652400     48         0           667          0   56          1                1          0       2              1         1  168883.08          18897.78      0\n",
       "15723873     56         0           657          0   31          1                1          0       3              0         1  125167.02          98820.39      0\n",
       "15662085     72         1           678          1   32          0                1          0       9              1         0       0.00         148210.64      0\n",
       "15567446     80         0           646          0   39          0                1          1       9              1         1  111574.41          30838.51      0\n",
       "15644446     64         1           672          1   28          0                1          0       6              1         0       0.00           8814.69      0\n",
       "15771856     32         1           632          0   32          1                2          0       1              0         0       0.00          19525.65      0\n",
       "15717736     16         1           639          0   46          0                2          1      10              1         0  110031.09         133995.59      0\n",
       "15803790      8         0           638          0   37          0                2          1       2              1         1   89728.86          37294.88      0"
      ]
     },
     "metadata": {},
     "output_type": "display_data"
    },
    {
     "name": "stdout",
     "output_type": "stream",
     "text": [
      "                                                                                                 \r"
     ]
    },
    {
     "data": {
      "text/html": [
       "2000 rows X 15 columns"
      ],
      "text/plain": [
       "<IPython.core.display.HTML object>"
      ]
     },
     "metadata": {},
     "output_type": "display_data"
    },
    {
     "name": "stdout",
     "output_type": "stream",
     "text": [
      "                                                                                                 \r"
     ]
    },
    {
     "data": {
      "text/html": [
       "\n",
       "Updated dataset after performing scaling on RFE selected features :"
      ],
      "text/plain": [
       "<IPython.core.display.HTML object>"
      ]
     },
     "metadata": {},
     "output_type": "display_data"
    },
    {
     "data": {
      "text/html": [
       "<style type=\"text/css\">\n",
       "\ttable {border:ridge 5px;}\n",
       "\ttable td {border:inset 1px;}\n",
       "\ttable tr#HeaderRow {background-color:grey; color:white;}</style>\n",
       "<html><table>\n",
       "\t<tr id=\"HeaderRow\">\n",
       "\t\t<th>r_gender_1</th>\n",
       "\t\t<th>r_country_0</th>\n",
       "\t\t<th>churn</th>\n",
       "\t\t<th>r_country_2</th>\n",
       "\t\t<th>r_country_1</th>\n",
       "\t\t<th>id</th>\n",
       "\t\t<th>r_gender_0</th>\n",
       "\t\t<th>r_customer_id</th>\n",
       "\t\t<th>r_credit_score</th>\n",
       "\t\t<th>r_age</th>\n",
       "\t\t<th>r_products_number</th>\n",
       "\t\t<th>r_tenure</th>\n",
       "\t\t<th>r_active_member</th>\n",
       "\t\t<th>r_balance</th>\n",
       "\t\t<th>r_estimated_salary</th>\n",
       "\t</tr>\n",
       "\t<tr>\n",
       "\t\t<td>1</td>\n",
       "\t\t<td>0</td>\n",
       "\t\t<td>1</td>\n",
       "\t\t<td>0</td>\n",
       "\t\t<td>1</td>\n",
       "\t\t<td>10</td>\n",
       "\t\t<td>0</td>\n",
       "\t\t<td>0.1756757297321082</td>\n",
       "\t\t<td>0.7237687366167024</td>\n",
       "\t\t<td>0.22727272727272727</td>\n",
       "\t\t<td>0.5</td>\n",
       "\t\t<td>0.9</td>\n",
       "\t\t<td>1.0</td>\n",
       "\t\t<td>0.6156903785118493</td>\n",
       "\t\t<td>0.5065502375585095</td>\n",
       "\t</tr>\n",
       "\t<tr>\n",
       "\t\t<td>0</td>\n",
       "\t\t<td>1</td>\n",
       "\t\t<td>0</td>\n",
       "\t\t<td>0</td>\n",
       "\t\t<td>0</td>\n",
       "\t\t<td>14</td>\n",
       "\t\t<td>1</td>\n",
       "\t\t<td>0.6212993371708355</td>\n",
       "\t\t<td>0.6509635974304069</td>\n",
       "\t\t<td>0.13636363636363635</td>\n",
       "\t\t<td>0.0</td>\n",
       "\t\t<td>0.3</td>\n",
       "\t\t<td>0.0</td>\n",
       "\t\t<td>0.440399008218835</td>\n",
       "\t\t<td>0.7931811175842107</td>\n",
       "\t</tr>\n",
       "\t<tr>\n",
       "\t\t<td>0</td>\n",
       "\t\t<td>0</td>\n",
       "\t\t<td>0</td>\n",
       "\t\t<td>1</td>\n",
       "\t\t<td>0</td>\n",
       "\t\t<td>22</td>\n",
       "\t\t<td>1</td>\n",
       "\t\t<td>0.17510370456300078</td>\n",
       "\t\t<td>0.4732334047109208</td>\n",
       "\t\t<td>0.4772727272727273</td>\n",
       "\t\t<td>0.0</td>\n",
       "\t\t<td>0.7</td>\n",
       "\t\t<td>1.0</td>\n",
       "\t\t<td>0.39276548498236874</td>\n",
       "\t\t<td>0.26163337553528426</td>\n",
       "\t</tr>\n",
       "\t<tr>\n",
       "\t\t<td>0</td>\n",
       "\t\t<td>1</td>\n",
       "\t\t<td>0</td>\n",
       "\t\t<td>0</td>\n",
       "\t\t<td>0</td>\n",
       "\t\t<td>13</td>\n",
       "\t\t<td>1</td>\n",
       "\t\t<td>0.253739164523239</td>\n",
       "\t\t<td>0.4197002141327623</td>\n",
       "\t\t<td>0.20454545454545456</td>\n",
       "\t\t<td>0.5</td>\n",
       "\t\t<td>0.9</td>\n",
       "\t\t<td>0.0</td>\n",
       "\t\t<td>0.0</td>\n",
       "\t\t<td>0.6342651169368785</td>\n",
       "\t</tr>\n",
       "\t<tr>\n",
       "\t\t<td>0</td>\n",
       "\t\t<td>1</td>\n",
       "\t\t<td>0</td>\n",
       "\t\t<td>0</td>\n",
       "\t\t<td>0</td>\n",
       "\t\t<td>15</td>\n",
       "\t\t<td>1</td>\n",
       "\t\t<td>0.30847357283720483</td>\n",
       "\t\t<td>1.0</td>\n",
       "\t\t<td>0.20454545454545456</td>\n",
       "\t\t<td>0.5</td>\n",
       "\t\t<td>0.7</td>\n",
       "\t\t<td>1.0</td>\n",
       "\t\t<td>0.17400821983140646</td>\n",
       "\t\t<td>0.015072627830603008</td>\n",
       "\t</tr>\n",
       "\t<tr>\n",
       "\t\t<td>1</td>\n",
       "\t\t<td>1</td>\n",
       "\t\t<td>0</td>\n",
       "\t\t<td>0</td>\n",
       "\t\t<td>0</td>\n",
       "\t\t<td>23</td>\n",
       "\t\t<td>0</td>\n",
       "\t\t<td>0.651316657932949</td>\n",
       "\t\t<td>0.29764453961456105</td>\n",
       "\t\t<td>0.5227272727272727</td>\n",
       "\t\t<td>0.0</td>\n",
       "\t\t<td>0.5</td>\n",
       "\t\t<td>1.0</td>\n",
       "\t\t<td>0.5745268128585594</td>\n",
       "\t\t<td>0.07390669174645462</td>\n",
       "\t</tr>\n",
       "\t<tr>\n",
       "\t\t<td>1</td>\n",
       "\t\t<td>1</td>\n",
       "\t\t<td>0</td>\n",
       "\t\t<td>0</td>\n",
       "\t\t<td>0</td>\n",
       "\t\t<td>11</td>\n",
       "\t\t<td>0</td>\n",
       "\t\t<td>0.23147018468812627</td>\n",
       "\t\t<td>0.708779443254818</td>\n",
       "\t\t<td>0.5</td>\n",
       "\t\t<td>0.0</td>\n",
       "\t\t<td>0.9</td>\n",
       "\t\t<td>1.0</td>\n",
       "\t\t<td>0.1854166765478366</td>\n",
       "\t\t<td>0.48347707601892304</td>\n",
       "\t</tr>\n",
       "\t<tr>\n",
       "\t\t<td>1</td>\n",
       "\t\t<td>0</td>\n",
       "\t\t<td>0</td>\n",
       "\t\t<td>0</td>\n",
       "\t\t<td>1</td>\n",
       "\t\t<td>19</td>\n",
       "\t\t<td>0</td>\n",
       "\t\t<td>0.3291104808611579</td>\n",
       "\t\t<td>0.5738758029978587</td>\n",
       "\t\t<td>0.18181818181818182</td>\n",
       "\t\t<td>0.0</td>\n",
       "\t\t<td>0.5</td>\n",
       "\t\t<td>0.0</td>\n",
       "\t\t<td>0.5860439989798248</td>\n",
       "\t\t<td>0.7089031580248688</td>\n",
       "\t</tr>\n",
       "\t<tr>\n",
       "\t\t<td>1</td>\n",
       "\t\t<td>0</td>\n",
       "\t\t<td>0</td>\n",
       "\t\t<td>1</td>\n",
       "\t\t<td>0</td>\n",
       "\t\t<td>9</td>\n",
       "\t\t<td>0</td>\n",
       "\t\t<td>0.005028221241734636</td>\n",
       "\t\t<td>0.6081370449678801</td>\n",
       "\t\t<td>0.4772727272727273</td>\n",
       "\t\t<td>0.0</td>\n",
       "\t\t<td>0.7</td>\n",
       "\t\t<td>1.0</td>\n",
       "\t\t<td>0.6678293963895859</td>\n",
       "\t\t<td>0.20589924462575254</td>\n",
       "\t</tr>\n",
       "\t<tr>\n",
       "\t\t<td>1</td>\n",
       "\t\t<td>1</td>\n",
       "\t\t<td>0</td>\n",
       "\t\t<td>0</td>\n",
       "\t\t<td>0</td>\n",
       "\t\t<td>17</td>\n",
       "\t\t<td>0</td>\n",
       "\t\t<td>0.10291252815123865</td>\n",
       "\t\t<td>0.8522483940042827</td>\n",
       "\t\t<td>0.25</td>\n",
       "\t\t<td>0.5</td>\n",
       "\t\t<td>0.9</td>\n",
       "\t\t<td>0.0</td>\n",
       "\t\t<td>0.0</td>\n",
       "\t\t<td>0.8606048355074106</td>\n",
       "\t</tr>\n",
       "</table></html>"
      ],
      "text/plain": [
       "   r_gender_1  r_country_0  churn  r_country_2  r_country_1  id  r_gender_0  r_customer_id  r_credit_score     r_age  r_products_number  r_tenure  r_active_member  r_balance  r_estimated_salary\n",
       "0           1            0      1            0            1  10           0       0.175676        0.723769  0.227273                0.5       0.9              1.0   0.615690            0.506550\n",
       "1           0            1      0            0            0  14           1       0.621299        0.650964  0.136364                0.0       0.3              0.0   0.440399            0.793181\n",
       "2           0            0      0            1            0  22           1       0.175104        0.473233  0.477273                0.0       0.7              1.0   0.392765            0.261633\n",
       "3           0            1      0            0            0  13           1       0.253739        0.419700  0.204545                0.5       0.9              0.0   0.000000            0.634265\n",
       "4           0            1      0            0            0  15           1       0.308474        1.000000  0.204545                0.5       0.7              1.0   0.174008            0.015073\n",
       "5           1            1      0            0            0  23           0       0.651317        0.297645  0.522727                0.0       0.5              1.0   0.574527            0.073907\n",
       "6           1            1      0            0            0  11           0       0.231470        0.708779  0.500000                0.0       0.9              1.0   0.185417            0.483477\n",
       "7           1            0      0            0            1  19           0       0.329110        0.573876  0.181818                0.0       0.5              0.0   0.586044            0.708903\n",
       "8           1            0      0            1            0   9           0       0.005028        0.608137  0.477273                0.0       0.7              1.0   0.667829            0.205899\n",
       "9           1            1      0            0            0  17           0       0.102913        0.852248  0.250000                0.5       0.9              0.0   0.000000            0.860605"
      ]
     },
     "metadata": {},
     "output_type": "display_data"
    },
    {
     "name": "stdout",
     "output_type": "stream",
     "text": [
      "                                                                                                 \r"
     ]
    },
    {
     "data": {
      "text/html": [
       "2000 rows X 15 columns"
      ],
      "text/plain": [
       "<IPython.core.display.HTML object>"
      ]
     },
     "metadata": {},
     "output_type": "display_data"
    },
    {
     "name": "stdout",
     "output_type": "stream",
     "text": [
      "                                                                                                 \r"
     ]
    },
    {
     "data": {
      "text/html": [
       "\n",
       "Updated dataset after performing scaling for PCA feature selection :"
      ],
      "text/plain": [
       "<IPython.core.display.HTML object>"
      ]
     },
     "metadata": {},
     "output_type": "display_data"
    },
    {
     "data": {
      "text/html": [
       "<style type=\"text/css\">\n",
       "\ttable {border:ridge 5px;}\n",
       "\ttable td {border:inset 1px;}\n",
       "\ttable tr#HeaderRow {background-color:grey; color:white;}</style>\n",
       "<html><table>\n",
       "\t<tr id=\"HeaderRow\">\n",
       "\t\t<th>country_2</th>\n",
       "\t\t<th>gender_0</th>\n",
       "\t\t<th>churn</th>\n",
       "\t\t<th>country_1</th>\n",
       "\t\t<th>id</th>\n",
       "\t\t<th>country_0</th>\n",
       "\t\t<th>gender_1</th>\n",
       "\t\t<th>customer_id</th>\n",
       "\t\t<th>credit_score</th>\n",
       "\t\t<th>age</th>\n",
       "\t\t<th>tenure</th>\n",
       "\t\t<th>balance</th>\n",
       "\t\t<th>products_number</th>\n",
       "\t\t<th>credit_card</th>\n",
       "\t\t<th>active_member</th>\n",
       "\t\t<th>estimated_salary</th>\n",
       "\t</tr>\n",
       "\t<tr>\n",
       "\t\t<td>0</td>\n",
       "\t\t<td>0</td>\n",
       "\t\t<td>0</td>\n",
       "\t\t<td>0</td>\n",
       "\t\t<td>11</td>\n",
       "\t\t<td>1</td>\n",
       "\t\t<td>1</td>\n",
       "\t\t<td>0.23147018468812627</td>\n",
       "\t\t<td>0.708779443254818</td>\n",
       "\t\t<td>0.5</td>\n",
       "\t\t<td>0.9</td>\n",
       "\t\t<td>0.1854166765478366</td>\n",
       "\t\t<td>0.0</td>\n",
       "\t\t<td>1.0</td>\n",
       "\t\t<td>1.0</td>\n",
       "\t\t<td>0.48347707601892304</td>\n",
       "\t</tr>\n",
       "\t<tr>\n",
       "\t\t<td>1</td>\n",
       "\t\t<td>0</td>\n",
       "\t\t<td>0</td>\n",
       "\t\t<td>0</td>\n",
       "\t\t<td>9</td>\n",
       "\t\t<td>0</td>\n",
       "\t\t<td>1</td>\n",
       "\t\t<td>0.005028221241734636</td>\n",
       "\t\t<td>0.6081370449678801</td>\n",
       "\t\t<td>0.4772727272727273</td>\n",
       "\t\t<td>0.7</td>\n",
       "\t\t<td>0.6678293963895859</td>\n",
       "\t\t<td>0.0</td>\n",
       "\t\t<td>1.0</td>\n",
       "\t\t<td>1.0</td>\n",
       "\t\t<td>0.20589924462575254</td>\n",
       "\t</tr>\n",
       "\t<tr>\n",
       "\t\t<td>0</td>\n",
       "\t\t<td>0</td>\n",
       "\t\t<td>0</td>\n",
       "\t\t<td>0</td>\n",
       "\t\t<td>17</td>\n",
       "\t\t<td>1</td>\n",
       "\t\t<td>1</td>\n",
       "\t\t<td>0.10291252815123865</td>\n",
       "\t\t<td>0.8522483940042827</td>\n",
       "\t\t<td>0.25</td>\n",
       "\t\t<td>0.9</td>\n",
       "\t\t<td>0.0</td>\n",
       "\t\t<td>0.5</td>\n",
       "\t\t<td>0.0</td>\n",
       "\t\t<td>0.0</td>\n",
       "\t\t<td>0.8606048355074106</td>\n",
       "\t</tr>\n",
       "\t<tr>\n",
       "\t\t<td>0</td>\n",
       "\t\t<td>0</td>\n",
       "\t\t<td>0</td>\n",
       "\t\t<td>0</td>\n",
       "\t\t<td>12</td>\n",
       "\t\t<td>1</td>\n",
       "\t\t<td>1</td>\n",
       "\t\t<td>0.03528955274032058</td>\n",
       "\t\t<td>0.4132762312633833</td>\n",
       "\t\t<td>0.4772727272727273</td>\n",
       "\t\t<td>0.1</td>\n",
       "\t\t<td>0.0</td>\n",
       "\t\t<td>0.5</td>\n",
       "\t\t<td>1.0</td>\n",
       "\t\t<td>1.0</td>\n",
       "\t\t<td>0.34408351185312036</td>\n",
       "\t</tr>\n",
       "\t<tr>\n",
       "\t\t<td>0</td>\n",
       "\t\t<td>1</td>\n",
       "\t\t<td>0</td>\n",
       "\t\t<td>0</td>\n",
       "\t\t<td>13</td>\n",
       "\t\t<td>1</td>\n",
       "\t\t<td>0</td>\n",
       "\t\t<td>0.253739164523239</td>\n",
       "\t\t<td>0.4197002141327623</td>\n",
       "\t\t<td>0.20454545454545456</td>\n",
       "\t\t<td>0.9</td>\n",
       "\t\t<td>0.0</td>\n",
       "\t\t<td>0.5</td>\n",
       "\t\t<td>1.0</td>\n",
       "\t\t<td>0.0</td>\n",
       "\t\t<td>0.6342651169368785</td>\n",
       "\t</tr>\n",
       "\t<tr>\n",
       "\t\t<td>1</td>\n",
       "\t\t<td>0</td>\n",
       "\t\t<td>0</td>\n",
       "\t\t<td>0</td>\n",
       "\t\t<td>21</td>\n",
       "\t\t<td>0</td>\n",
       "\t\t<td>1</td>\n",
       "\t\t<td>0.09459216205513042</td>\n",
       "\t\t<td>1.0</td>\n",
       "\t\t<td>0.4318181818181818</td>\n",
       "\t\t<td>0.4</td>\n",
       "\t\t<td>0.54685458147569</td>\n",
       "\t\t<td>0.0</td>\n",
       "\t\t<td>1.0</td>\n",
       "\t\t<td>1.0</td>\n",
       "\t\t<td>0.14429951596115925</td>\n",
       "\t</tr>\n",
       "\t<tr>\n",
       "\t\t<td>0</td>\n",
       "\t\t<td>1</td>\n",
       "\t\t<td>0</td>\n",
       "\t\t<td>0</td>\n",
       "\t\t<td>15</td>\n",
       "\t\t<td>1</td>\n",
       "\t\t<td>0</td>\n",
       "\t\t<td>0.30847357283720483</td>\n",
       "\t\t<td>1.0</td>\n",
       "\t\t<td>0.20454545454545456</td>\n",
       "\t\t<td>0.7</td>\n",
       "\t\t<td>0.17400821983140646</td>\n",
       "\t\t<td>0.5</td>\n",
       "\t\t<td>1.0</td>\n",
       "\t\t<td>1.0</td>\n",
       "\t\t<td>0.015072627830603008</td>\n",
       "\t</tr>\n",
       "\t<tr>\n",
       "\t\t<td>0</td>\n",
       "\t\t<td>0</td>\n",
       "\t\t<td>0</td>\n",
       "\t\t<td>0</td>\n",
       "\t\t<td>23</td>\n",
       "\t\t<td>1</td>\n",
       "\t\t<td>1</td>\n",
       "\t\t<td>0.651316657932949</td>\n",
       "\t\t<td>0.29764453961456105</td>\n",
       "\t\t<td>0.5227272727272727</td>\n",
       "\t\t<td>0.5</td>\n",
       "\t\t<td>0.5745268128585594</td>\n",
       "\t\t<td>0.0</td>\n",
       "\t\t<td>1.0</td>\n",
       "\t\t<td>1.0</td>\n",
       "\t\t<td>0.07390669174645462</td>\n",
       "\t</tr>\n",
       "\t<tr>\n",
       "\t\t<td>0</td>\n",
       "\t\t<td>1</td>\n",
       "\t\t<td>0</td>\n",
       "\t\t<td>0</td>\n",
       "\t\t<td>14</td>\n",
       "\t\t<td>1</td>\n",
       "\t\t<td>0</td>\n",
       "\t\t<td>0.6212993371708355</td>\n",
       "\t\t<td>0.6509635974304069</td>\n",
       "\t\t<td>0.13636363636363635</td>\n",
       "\t\t<td>0.3</td>\n",
       "\t\t<td>0.440399008218835</td>\n",
       "\t\t<td>0.0</td>\n",
       "\t\t<td>1.0</td>\n",
       "\t\t<td>0.0</td>\n",
       "\t\t<td>0.7931811175842107</td>\n",
       "\t</tr>\n",
       "\t<tr>\n",
       "\t\t<td>1</td>\n",
       "\t\t<td>1</td>\n",
       "\t\t<td>0</td>\n",
       "\t\t<td>0</td>\n",
       "\t\t<td>22</td>\n",
       "\t\t<td>0</td>\n",
       "\t\t<td>0</td>\n",
       "\t\t<td>0.17510370456300078</td>\n",
       "\t\t<td>0.4732334047109208</td>\n",
       "\t\t<td>0.4772727272727273</td>\n",
       "\t\t<td>0.7</td>\n",
       "\t\t<td>0.39276548498236874</td>\n",
       "\t\t<td>0.0</td>\n",
       "\t\t<td>1.0</td>\n",
       "\t\t<td>1.0</td>\n",
       "\t\t<td>0.26163337553528426</td>\n",
       "\t</tr>\n",
       "</table></html>"
      ],
      "text/plain": [
       "   country_2  gender_0  churn  country_1  id  country_0  gender_1  customer_id  credit_score       age  tenure   balance  products_number  credit_card  active_member  estimated_salary\n",
       "0          0         0      0          0  11          1         1     0.231470      0.708779  0.500000     0.9  0.185417              0.0          1.0            1.0          0.483477\n",
       "1          1         0      0          0   9          0         1     0.005028      0.608137  0.477273     0.7  0.667829              0.0          1.0            1.0          0.205899\n",
       "2          0         0      0          0  17          1         1     0.102913      0.852248  0.250000     0.9  0.000000              0.5          0.0            0.0          0.860605\n",
       "3          0         0      0          0  12          1         1     0.035290      0.413276  0.477273     0.1  0.000000              0.5          1.0            1.0          0.344084\n",
       "4          0         1      0          0  13          1         0     0.253739      0.419700  0.204545     0.9  0.000000              0.5          1.0            0.0          0.634265\n",
       "5          1         0      0          0  21          0         1     0.094592      1.000000  0.431818     0.4  0.546855              0.0          1.0            1.0          0.144300\n",
       "6          0         1      0          0  15          1         0     0.308474      1.000000  0.204545     0.7  0.174008              0.5          1.0            1.0          0.015073\n",
       "7          0         0      0          0  23          1         1     0.651317      0.297645  0.522727     0.5  0.574527              0.0          1.0            1.0          0.073907\n",
       "8          0         1      0          0  14          1         0     0.621299      0.650964  0.136364     0.3  0.440399              0.0          1.0            0.0          0.793181\n",
       "9          1         1      0          0  22          0         0     0.175104      0.473233  0.477273     0.7  0.392765              0.0          1.0            1.0          0.261633"
      ]
     },
     "metadata": {},
     "output_type": "display_data"
    },
    {
     "name": "stdout",
     "output_type": "stream",
     "text": [
      "                                                                                                 \r"
     ]
    },
    {
     "data": {
      "text/html": [
       "2000 rows X 16 columns"
      ],
      "text/plain": [
       "<IPython.core.display.HTML object>"
      ]
     },
     "metadata": {},
     "output_type": "display_data"
    },
    {
     "name": "stdout",
     "output_type": "stream",
     "text": [
      "                                                                                                 \r"
     ]
    },
    {
     "name": "stderr",
     "output_type": "stream",
     "text": [
      "C:\\ProgramData\\anaconda3\\lib\\site-packages\\sklearn\\base.py:450: UserWarning: X does not have valid feature names, but PCA was fitted with feature names\n",
      "  warnings.warn(\n"
     ]
    },
    {
     "data": {
      "text/html": [
       "\n",
       "Updated dataset after performing PCA feature selection :"
      ],
      "text/plain": [
       "<IPython.core.display.HTML object>"
      ]
     },
     "metadata": {},
     "output_type": "display_data"
    },
    {
     "data": {
      "text/html": [
       "<div>\n",
       "<style scoped>\n",
       "    .dataframe tbody tr th:only-of-type {\n",
       "        vertical-align: middle;\n",
       "    }\n",
       "\n",
       "    .dataframe tbody tr th {\n",
       "        vertical-align: top;\n",
       "    }\n",
       "\n",
       "    .dataframe thead th {\n",
       "        text-align: right;\n",
       "    }\n",
       "</style>\n",
       "<table border=\"1\" class=\"dataframe\">\n",
       "  <thead>\n",
       "    <tr style=\"text-align: right;\">\n",
       "      <th></th>\n",
       "      <th>id</th>\n",
       "      <th>col_0</th>\n",
       "      <th>col_1</th>\n",
       "      <th>col_2</th>\n",
       "      <th>col_3</th>\n",
       "      <th>col_4</th>\n",
       "      <th>col_5</th>\n",
       "      <th>col_6</th>\n",
       "      <th>col_7</th>\n",
       "      <th>col_8</th>\n",
       "      <th>col_9</th>\n",
       "      <th>churn</th>\n",
       "    </tr>\n",
       "  </thead>\n",
       "  <tbody>\n",
       "    <tr>\n",
       "      <th>0</th>\n",
       "      <td>8</td>\n",
       "      <td>-0.633621</td>\n",
       "      <td>0.662252</td>\n",
       "      <td>-0.322559</td>\n",
       "      <td>-0.757257</td>\n",
       "      <td>-0.244022</td>\n",
       "      <td>0.323401</td>\n",
       "      <td>-0.538847</td>\n",
       "      <td>0.277314</td>\n",
       "      <td>-0.170517</td>\n",
       "      <td>0.035164</td>\n",
       "      <td>0</td>\n",
       "    </tr>\n",
       "    <tr>\n",
       "      <th>1</th>\n",
       "      <td>9</td>\n",
       "      <td>-0.691257</td>\n",
       "      <td>0.614178</td>\n",
       "      <td>0.757862</td>\n",
       "      <td>-0.063569</td>\n",
       "      <td>-0.382643</td>\n",
       "      <td>-0.607080</td>\n",
       "      <td>0.383701</td>\n",
       "      <td>0.236918</td>\n",
       "      <td>0.023229</td>\n",
       "      <td>-0.062681</td>\n",
       "      <td>0</td>\n",
       "    </tr>\n",
       "    <tr>\n",
       "      <th>2</th>\n",
       "      <td>10</td>\n",
       "      <td>-0.627789</td>\n",
       "      <td>0.697176</td>\n",
       "      <td>-0.282603</td>\n",
       "      <td>-0.755262</td>\n",
       "      <td>0.724945</td>\n",
       "      <td>0.152941</td>\n",
       "      <td>0.551219</td>\n",
       "      <td>0.136915</td>\n",
       "      <td>0.019643</td>\n",
       "      <td>-0.211484</td>\n",
       "      <td>1</td>\n",
       "    </tr>\n",
       "    <tr>\n",
       "      <th>3</th>\n",
       "      <td>11</td>\n",
       "      <td>-0.674357</td>\n",
       "      <td>-0.609643</td>\n",
       "      <td>0.156652</td>\n",
       "      <td>-0.423394</td>\n",
       "      <td>-0.309983</td>\n",
       "      <td>-0.226212</td>\n",
       "      <td>0.455286</td>\n",
       "      <td>-0.009725</td>\n",
       "      <td>-0.118791</td>\n",
       "      <td>-0.095253</td>\n",
       "      <td>0</td>\n",
       "    </tr>\n",
       "    <tr>\n",
       "      <th>4</th>\n",
       "      <td>12</td>\n",
       "      <td>-0.667859</td>\n",
       "      <td>-0.640906</td>\n",
       "      <td>0.220572</td>\n",
       "      <td>-0.413026</td>\n",
       "      <td>-0.309421</td>\n",
       "      <td>0.079562</td>\n",
       "      <td>-0.031830</td>\n",
       "      <td>0.401422</td>\n",
       "      <td>0.564810</td>\n",
       "      <td>0.188858</td>\n",
       "      <td>0</td>\n",
       "    </tr>\n",
       "    <tr>\n",
       "      <th>5</th>\n",
       "      <td>13</td>\n",
       "      <td>0.778046</td>\n",
       "      <td>-0.654790</td>\n",
       "      <td>-0.242630</td>\n",
       "      <td>0.440043</td>\n",
       "      <td>-0.302355</td>\n",
       "      <td>0.299060</td>\n",
       "      <td>0.483923</td>\n",
       "      <td>0.016560</td>\n",
       "      <td>0.040136</td>\n",
       "      <td>0.108900</td>\n",
       "      <td>0</td>\n",
       "    </tr>\n",
       "    <tr>\n",
       "      <th>6</th>\n",
       "      <td>14</td>\n",
       "      <td>0.779289</td>\n",
       "      <td>-0.597093</td>\n",
       "      <td>-0.326019</td>\n",
       "      <td>0.372357</td>\n",
       "      <td>-0.259090</td>\n",
       "      <td>-0.218892</td>\n",
       "      <td>-0.222747</td>\n",
       "      <td>-0.373972</td>\n",
       "      <td>0.088093</td>\n",
       "      <td>-0.160151</td>\n",
       "      <td>0</td>\n",
       "    </tr>\n",
       "    <tr>\n",
       "      <th>7</th>\n",
       "      <td>15</td>\n",
       "      <td>0.736164</td>\n",
       "      <td>-0.635393</td>\n",
       "      <td>0.262694</td>\n",
       "      <td>-0.440318</td>\n",
       "      <td>-0.345151</td>\n",
       "      <td>0.089858</td>\n",
       "      <td>0.224340</td>\n",
       "      <td>0.540543</td>\n",
       "      <td>-0.116753</td>\n",
       "      <td>-0.469159</td>\n",
       "      <td>0</td>\n",
       "    </tr>\n",
       "    <tr>\n",
       "      <th>8</th>\n",
       "      <td>16</td>\n",
       "      <td>0.775784</td>\n",
       "      <td>0.663076</td>\n",
       "      <td>-0.292756</td>\n",
       "      <td>-0.772987</td>\n",
       "      <td>-0.285458</td>\n",
       "      <td>0.358690</td>\n",
       "      <td>0.362127</td>\n",
       "      <td>-0.145343</td>\n",
       "      <td>-0.280594</td>\n",
       "      <td>0.060505</td>\n",
       "      <td>0</td>\n",
       "    </tr>\n",
       "    <tr>\n",
       "      <th>9</th>\n",
       "      <td>17</td>\n",
       "      <td>-0.621071</td>\n",
       "      <td>-0.630260</td>\n",
       "      <td>-0.209559</td>\n",
       "      <td>0.466291</td>\n",
       "      <td>0.717492</td>\n",
       "      <td>0.326197</td>\n",
       "      <td>0.632117</td>\n",
       "      <td>-0.123225</td>\n",
       "      <td>0.226956</td>\n",
       "      <td>-0.291841</td>\n",
       "      <td>0</td>\n",
       "    </tr>\n",
       "  </tbody>\n",
       "</table>\n",
       "</div>"
      ],
      "text/plain": [
       "   id     col_0     col_1     col_2     col_3     col_4     col_5     col_6  \\\n",
       "0   8 -0.633621  0.662252 -0.322559 -0.757257 -0.244022  0.323401 -0.538847   \n",
       "1   9 -0.691257  0.614178  0.757862 -0.063569 -0.382643 -0.607080  0.383701   \n",
       "2  10 -0.627789  0.697176 -0.282603 -0.755262  0.724945  0.152941  0.551219   \n",
       "3  11 -0.674357 -0.609643  0.156652 -0.423394 -0.309983 -0.226212  0.455286   \n",
       "4  12 -0.667859 -0.640906  0.220572 -0.413026 -0.309421  0.079562 -0.031830   \n",
       "5  13  0.778046 -0.654790 -0.242630  0.440043 -0.302355  0.299060  0.483923   \n",
       "6  14  0.779289 -0.597093 -0.326019  0.372357 -0.259090 -0.218892 -0.222747   \n",
       "7  15  0.736164 -0.635393  0.262694 -0.440318 -0.345151  0.089858  0.224340   \n",
       "8  16  0.775784  0.663076 -0.292756 -0.772987 -0.285458  0.358690  0.362127   \n",
       "9  17 -0.621071 -0.630260 -0.209559  0.466291  0.717492  0.326197  0.632117   \n",
       "\n",
       "      col_7     col_8     col_9  churn  \n",
       "0  0.277314 -0.170517  0.035164      0  \n",
       "1  0.236918  0.023229 -0.062681      0  \n",
       "2  0.136915  0.019643 -0.211484      1  \n",
       "3 -0.009725 -0.118791 -0.095253      0  \n",
       "4  0.401422  0.564810  0.188858      0  \n",
       "5  0.016560  0.040136  0.108900      0  \n",
       "6 -0.373972  0.088093 -0.160151      0  \n",
       "7  0.540543 -0.116753 -0.469159      0  \n",
       "8 -0.145343 -0.280594  0.060505      0  \n",
       "9 -0.123225  0.226956 -0.291841      0  "
      ]
     },
     "metadata": {},
     "output_type": "display_data"
    },
    {
     "name": "stdout",
     "output_type": "stream",
     "text": [
      "                                                                                                 \r"
     ]
    },
    {
     "data": {
      "text/html": [
       "10 rows X 12 columns"
      ],
      "text/plain": [
       "<IPython.core.display.HTML object>"
      ]
     },
     "metadata": {},
     "output_type": "display_data"
    },
    {
     "name": "stdout",
     "output_type": "stream",
     "text": [
      "Data Transformation completed.⫿⫿⫿⫿⫿⫿⫿⫿⫿⫿⫿⫿⫿⫿⫿⫿⫿⫿⫿⫿⫿⫿⫿⫿⫿⫿⫿⫿⫿⫿⫿⫿⫿⫿⫿⫿⫿⫿⫿⫿⫿⫿｜ 100% - 10/10           \n",
      "\n",
      "Following model is being picked for evaluation:\n",
      "Model ID : KNN_9 \n",
      "Feature Selection Method : lasso\n",
      "\n",
      "Prediction : \n",
      "   id  prediction    prob_1    prob_0  churn\n",
      "0  14           0  1.000000  0.000000      0\n",
      "1  12           0  1.000000  0.000000      0\n",
      "2  29           0  0.686682  0.313318      0\n",
      "3  28           0  1.000000  0.000000      0\n",
      "4  22           0  0.793589  0.206411      0\n",
      "5  27           1  0.000000  1.000000      1\n",
      "6  41           0  0.561400  0.438600      1\n",
      "7  48           0  0.797733  0.202267      0\n",
      "8  10           0  1.000000  0.000000      1\n",
      "9  15           0  1.000000  0.000000      0\n",
      "\n",
      "ROC-AUC : \n"
     ]
    },
    {
     "data": {
      "text/html": [
       "<style type=\"text/css\">\n",
       "\ttable {border:ridge 5px;}\n",
       "\ttable td {border:inset 1px;}\n",
       "\ttable tr#HeaderRow {background-color:grey; color:white;}</style>\n",
       "<html><table>\n",
       "\t<tr id=\"HeaderRow\">\n",
       "\t\t<th>AUC</th>\n",
       "\t\t<th>GINI</th>\n",
       "\t</tr>\n",
       "\t<tr>\n",
       "\t\t<td>0.18366204108391607</td>\n",
       "\t\t<td>-0.6326759178321679</td>\n",
       "\t</tr>\n",
       "</table></html>"
      ],
      "text/plain": [
       "              GINI\n",
       "AUC               \n",
       "0.183662 -0.632676"
      ]
     },
     "metadata": {},
     "output_type": "display_data"
    },
    {
     "data": {
      "text/html": [
       "<style type=\"text/css\">\n",
       "\ttable {border:ridge 5px;}\n",
       "\ttable td {border:inset 1px;}\n",
       "\ttable tr#HeaderRow {background-color:grey; color:white;}</style>\n",
       "<html><table>\n",
       "\t<tr id=\"HeaderRow\">\n",
       "\t\t<th>threshold_value</th>\n",
       "\t\t<th>tpr</th>\n",
       "\t\t<th>fpr</th>\n",
       "\t</tr>\n",
       "\t<tr>\n",
       "\t\t<td>0.04081632653061224</td>\n",
       "\t\t<td>0.8701923076923077</td>\n",
       "\t\t<td>0.9873737373737373</td>\n",
       "\t</tr>\n",
       "\t<tr>\n",
       "\t\t<td>0.08163265306122448</td>\n",
       "\t\t<td>0.8701923076923077</td>\n",
       "\t\t<td>0.9873737373737373</td>\n",
       "\t</tr>\n",
       "\t<tr>\n",
       "\t\t<td>0.1020408163265306</td>\n",
       "\t\t<td>0.8701923076923077</td>\n",
       "\t\t<td>0.9873737373737373</td>\n",
       "\t</tr>\n",
       "\t<tr>\n",
       "\t\t<td>0.12244897959183673</td>\n",
       "\t\t<td>0.8677884615384616</td>\n",
       "\t\t<td>0.9861111111111112</td>\n",
       "\t</tr>\n",
       "\t<tr>\n",
       "\t\t<td>0.16326530612244897</td>\n",
       "\t\t<td>0.8557692307692307</td>\n",
       "\t\t<td>0.9842171717171717</td>\n",
       "\t</tr>\n",
       "\t<tr>\n",
       "\t\t<td>0.18367346938775508</td>\n",
       "\t\t<td>0.8052884615384616</td>\n",
       "\t\t<td>0.9772727272727273</td>\n",
       "\t</tr>\n",
       "\t<tr>\n",
       "\t\t<td>0.14285714285714285</td>\n",
       "\t\t<td>0.8677884615384616</td>\n",
       "\t\t<td>0.985479797979798</td>\n",
       "\t</tr>\n",
       "\t<tr>\n",
       "\t\t<td>0.061224489795918366</td>\n",
       "\t\t<td>0.8701923076923077</td>\n",
       "\t\t<td>0.9873737373737373</td>\n",
       "\t</tr>\n",
       "\t<tr>\n",
       "\t\t<td>0.02040816326530612</td>\n",
       "\t\t<td>0.8701923076923077</td>\n",
       "\t\t<td>0.9873737373737373</td>\n",
       "\t</tr>\n",
       "\t<tr>\n",
       "\t\t<td>0.0</td>\n",
       "\t\t<td>1.0</td>\n",
       "\t\t<td>1.0</td>\n",
       "\t</tr>\n",
       "</table></html>"
      ],
      "text/plain": [
       "   threshold_value       tpr       fpr\n",
       "0         0.040816  0.870192  0.987374\n",
       "1         0.081633  0.870192  0.987374\n",
       "2         0.102041  0.870192  0.987374\n",
       "3         0.122449  0.867788  0.986111\n",
       "4         0.163265  0.855769  0.984217\n",
       "5         0.183673  0.805288  0.977273\n",
       "6         0.142857  0.867788  0.985480\n",
       "7         0.061224  0.870192  0.987374\n",
       "8         0.020408  0.870192  0.987374\n",
       "9         0.000000  1.000000  1.000000"
      ]
     },
     "metadata": {},
     "output_type": "display_data"
    },
    {
     "name": "stdout",
     "output_type": "stream",
     "text": [
      "\n",
      "Confusion Matrix : \n"
     ]
    },
    {
     "data": {
      "text/plain": [
       "array([[1420,  164],\n",
       "       [ 216,  200]], dtype=int64)"
      ]
     },
     "metadata": {},
     "output_type": "display_data"
    }
   ],
   "source": [
    "# Generating prediction on test data\n",
    "prediction = aml.predict(bank_df_test, rank=2)"
   ]
  },
  {
   "cell_type": "code",
   "execution_count": 22,
   "id": "cc4f6a78-1cdf-4938-a9f1-22035d8404ca",
   "metadata": {},
   "outputs": [
    {
     "data": {
      "text/html": [
       "<style type=\"text/css\">\n",
       "\ttable {border:ridge 5px;}\n",
       "\ttable td {border:inset 1px;}\n",
       "\ttable tr#HeaderRow {background-color:grey; color:white;}</style>\n",
       "<html><table>\n",
       "\t<tr id=\"HeaderRow\">\n",
       "\t\t<th>id</th>\n",
       "\t\t<th>prediction</th>\n",
       "\t\t<th>prob_1</th>\n",
       "\t\t<th>prob_0</th>\n",
       "\t\t<th>churn</th>\n",
       "\t</tr>\n",
       "\t<tr>\n",
       "\t\t<td>10</td>\n",
       "\t\t<td>0</td>\n",
       "\t\t<td>1.0</td>\n",
       "\t\t<td>0.0</td>\n",
       "\t\t<td>1</td>\n",
       "\t</tr>\n",
       "\t<tr>\n",
       "\t\t<td>12</td>\n",
       "\t\t<td>0</td>\n",
       "\t\t<td>1.0</td>\n",
       "\t\t<td>0.0</td>\n",
       "\t\t<td>0</td>\n",
       "\t</tr>\n",
       "\t<tr>\n",
       "\t\t<td>13</td>\n",
       "\t\t<td>0</td>\n",
       "\t\t<td>1.0</td>\n",
       "\t\t<td>0.0</td>\n",
       "\t\t<td>0</td>\n",
       "\t</tr>\n",
       "\t<tr>\n",
       "\t\t<td>14</td>\n",
       "\t\t<td>0</td>\n",
       "\t\t<td>1.0</td>\n",
       "\t\t<td>0.0</td>\n",
       "\t\t<td>0</td>\n",
       "\t</tr>\n",
       "\t<tr>\n",
       "\t\t<td>16</td>\n",
       "\t\t<td>0</td>\n",
       "\t\t<td>0.6276070701631241</td>\n",
       "\t\t<td>0.372392929836876</td>\n",
       "\t\t<td>0</td>\n",
       "\t</tr>\n",
       "\t<tr>\n",
       "\t\t<td>17</td>\n",
       "\t\t<td>0</td>\n",
       "\t\t<td>1.0</td>\n",
       "\t\t<td>0.0</td>\n",
       "\t\t<td>0</td>\n",
       "\t</tr>\n",
       "\t<tr>\n",
       "\t\t<td>15</td>\n",
       "\t\t<td>0</td>\n",
       "\t\t<td>1.0</td>\n",
       "\t\t<td>0.0</td>\n",
       "\t\t<td>0</td>\n",
       "\t</tr>\n",
       "\t<tr>\n",
       "\t\t<td>11</td>\n",
       "\t\t<td>0</td>\n",
       "\t\t<td>1.0</td>\n",
       "\t\t<td>0.0</td>\n",
       "\t\t<td>0</td>\n",
       "\t</tr>\n",
       "\t<tr>\n",
       "\t\t<td>9</td>\n",
       "\t\t<td>0</td>\n",
       "\t\t<td>1.0</td>\n",
       "\t\t<td>0.0</td>\n",
       "\t\t<td>0</td>\n",
       "\t</tr>\n",
       "\t<tr>\n",
       "\t\t<td>8</td>\n",
       "\t\t<td>0</td>\n",
       "\t\t<td>0.754524363767377</td>\n",
       "\t\t<td>0.2454756362326229</td>\n",
       "\t\t<td>0</td>\n",
       "\t</tr>\n",
       "</table></html>"
      ],
      "text/plain": [
       "   id  prediction    prob_1    prob_0  churn\n",
       "0  10           0  1.000000  0.000000      1\n",
       "1  12           0  1.000000  0.000000      0\n",
       "2  13           0  1.000000  0.000000      0\n",
       "3  14           0  1.000000  0.000000      0\n",
       "4  16           0  0.627607  0.372393      0\n",
       "5  17           0  1.000000  0.000000      0\n",
       "6  15           0  1.000000  0.000000      0\n",
       "7  11           0  1.000000  0.000000      0\n",
       "8   9           0  1.000000  0.000000      0\n",
       "9   8           0  0.754524  0.245476      0"
      ]
     },
     "execution_count": 22,
     "metadata": {},
     "output_type": "execute_result"
    }
   ],
   "source": [
    "# Printing prediction\n",
    "prediction.head()"
   ]
  },
  {
   "cell_type": "code",
   "execution_count": 23,
   "id": "078b80eb-74ab-43f3-8fed-a8b22b2f4221",
   "metadata": {},
   "outputs": [
    {
     "name": "stdout",
     "output_type": "stream",
     "text": [
      "\n",
      "Skipping data transformation as data is already transformed.\n",
      "\n",
      "Following model is being picked for evaluation:\n",
      "Model ID : KNN_9 \n",
      "Feature Selection Method : lasso\n",
      "\n",
      "Performance Metrics : \n",
      "       Prediction  Mapping  CLASS_1  CLASS_2  Precision    Recall        F1  Support\n",
      "SeqNum                                                                              \n",
      "0               0  CLASS_1     1420      216   0.867971  0.896465  0.881988     1584\n",
      "1               1  CLASS_2      164      200   0.549451  0.480769  0.512821      416\n",
      "--------------------------------------------------------------------------------\n",
      "   SeqNum              Metric  MetricValue\n",
      "0       3        Micro-Recall     0.810000\n",
      "1       5     Macro-Precision     0.708711\n",
      "2       6        Macro-Recall     0.688617\n",
      "3       7            Macro-F1     0.697404\n",
      "4       9     Weighted-Recall     0.810000\n",
      "5      10         Weighted-F1     0.805201\n",
      "6       8  Weighted-Precision     0.801718\n",
      "7       4            Micro-F1     0.810000\n",
      "8       2     Micro-Precision     0.810000\n",
      "9       1            Accuracy     0.810000\n"
     ]
    }
   ],
   "source": [
    "# Fetching performance metrics on test data\n",
    "performance_metrics = aml.evaluate(bank_df_test, rank=2)"
   ]
  },
  {
   "cell_type": "code",
   "execution_count": 24,
   "id": "32474583-f43c-4a41-8137-d4331c00f67b",
   "metadata": {},
   "outputs": [
    {
     "data": {
      "text/html": [
       "<style type=\"text/css\">\n",
       "\ttable {border:ridge 5px;}\n",
       "\ttable td {border:inset 1px;}\n",
       "\ttable tr#HeaderRow {background-color:grey; color:white;}</style>\n",
       "<html><table>\n",
       "\t<tr id=\"HeaderRow\">\n",
       "\t\t<th>SeqNum</th>\n",
       "\t\t<th>Prediction</th>\n",
       "\t\t<th>Mapping</th>\n",
       "\t\t<th>CLASS_1</th>\n",
       "\t\t<th>CLASS_2</th>\n",
       "\t\t<th>Precision</th>\n",
       "\t\t<th>Recall</th>\n",
       "\t\t<th>F1</th>\n",
       "\t\t<th>Support</th>\n",
       "\t</tr>\n",
       "\t<tr>\n",
       "\t\t<td>0</td>\n",
       "\t\t<td>0</td>\n",
       "\t\t<td>CLASS_1</td>\n",
       "\t\t<td>1420</td>\n",
       "\t\t<td>216</td>\n",
       "\t\t<td>0.8679706601466992</td>\n",
       "\t\t<td>0.8964646464646465</td>\n",
       "\t\t<td>0.8819875776397514</td>\n",
       "\t\t<td>1584</td>\n",
       "\t</tr>\n",
       "\t<tr>\n",
       "\t\t<td>1</td>\n",
       "\t\t<td>1</td>\n",
       "\t\t<td>CLASS_2</td>\n",
       "\t\t<td>164</td>\n",
       "\t\t<td>200</td>\n",
       "\t\t<td>0.5494505494505495</td>\n",
       "\t\t<td>0.4807692307692308</td>\n",
       "\t\t<td>0.5128205128205129</td>\n",
       "\t\t<td>416</td>\n",
       "\t</tr>\n",
       "</table></html>"
      ],
      "text/plain": [
       "       Prediction  Mapping  CLASS_1  CLASS_2  Precision    Recall        F1  Support\n",
       "SeqNum                                                                              \n",
       "0               0  CLASS_1     1420      216   0.867971  0.896465  0.881988     1584\n",
       "1               1  CLASS_2      164      200   0.549451  0.480769  0.512821      416"
      ]
     },
     "execution_count": 24,
     "metadata": {},
     "output_type": "execute_result"
    }
   ],
   "source": [
    "performance_metrics"
   ]
  },
  {
   "cell_type": "code",
   "execution_count": 25,
   "id": "8f195b03-6057-4c47-adf0-38d756ff8440",
   "metadata": {},
   "outputs": [
    {
     "data": {
      "text/plain": [
       "True"
      ]
     },
     "execution_count": 25,
     "metadata": {},
     "output_type": "execute_result"
    }
   ],
   "source": [
    "remove_context()"
   ]
  },
  {
   "cell_type": "code",
   "execution_count": null,
   "id": "b672112c-d042-4842-846b-163f495d7664",
   "metadata": {},
   "outputs": [],
   "source": []
  }
 ],
 "metadata": {
  "kernelspec": {
   "display_name": "Python 3 (ipykernel)",
   "language": "python",
   "name": "python3"
  },
  "language_info": {
   "codemirror_mode": {
    "name": "ipython",
    "version": 3
   },
   "file_extension": ".py",
   "mimetype": "text/x-python",
   "name": "python",
   "nbconvert_exporter": "python",
   "pygments_lexer": "ipython3",
   "version": "3.10.9"
  }
 },
 "nbformat": 4,
 "nbformat_minor": 5
}
