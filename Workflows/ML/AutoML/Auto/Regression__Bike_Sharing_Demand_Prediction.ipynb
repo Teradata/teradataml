{
 "cells": [
  {
   "cell_type": "markdown",
   "id": "2762f1d8-5a66-411f-a625-34cf16ac6dd3",
   "metadata": {},
   "source": [
    "# <b><span style='color:#F1A424'>AutoML - Regression - Bike Sharing Demand Prediction </span> </b>"
   ]
  },
  {
   "cell_type": "markdown",
   "id": "559830ea-f05c-4760-b364-c465bd7ff113",
   "metadata": {},
   "source": [
    "### Disclaimer\n",
    "Please note, the Vantage Functions via SQLAlchemy feature is a preview/beta code release with limited functionality (the “Code”). As such, you acknowledge that the Code is experimental in nature and that the Code is provided “AS IS” and may not be functional on any machine or in any environment. TERADATA DISCLAIMS ALL WARRANTIES RELATING TO THE CODE, EXPRESS OR IMPLIED, INCLUDING, BUT NOT LIMITED TO, ANY WARRANTIES AGAINST INFRINGEMENT OF THIRD-PARTY RIGHTS, MERCHANTABILITY AND FITNESS FOR A PARTICULAR PURPOSE.\n",
    "\n",
    "TERADATA SHALL NOT BE RESPONSIBLE OR LIABLE WITH RESPECT TO ANY SUBJECT MATTER OF THE CODE UNDER ANY CONTRACT, NEGLIGENCE, STRICT LIABILITY OR OTHER THEORY \n",
    "    (A) FOR LOSS OR INACCURACY OF DATA OR COST OF PROCUREMENT OF SUBSTITUTE GOODS, SERVICES OR TECHNOLOGY, OR \n",
    "    (B) FOR ANY INDIRECT, INCIDENTAL OR CONSEQUENTIAL DAMAGES INCLUDING, BUT NOT LIMITED TO LOSS OF REVENUES AND LOSS OF PROFITS. TERADATA SHALL NOT BE RESPONSIBLE FOR ANY MATTER BEYOND ITS REASONABLE CONTROL.\n",
    "\n",
    "Notwithstanding anything to the contrary: \n",
    "    (a) Teradata will have no obligation of any kind with respect to any Code-related comments, suggestions, design changes or improvements that you elect to provide to Teradata in either verbal or written form (collectively, “Feedback”), and \n",
    "    (b) Teradata and its affiliates are hereby free to use any ideas, concepts, know-how or techniques, in whole or in part, contained in Feedback: \n",
    "        (i) for any purpose whatsoever, including developing, manufacturing, and/or marketing products and/or services incorporating Feedback in whole or in part, and \n",
    "        (ii) without any restrictions or limitations, including requiring the payment of any license fees, royalties, or other consideration. "
   ]
  },
  {
   "cell_type": "markdown",
   "id": "f225fb94-b2c8-4c92-af38-733d08e0e2a1",
   "metadata": {},
   "source": [
    "## <b> Problem overview:</b>\n",
    "    "
   ]
  },
  {
   "cell_type": "markdown",
   "id": "af9813eb-9c44-4968-a5fe-d1c74415c894",
   "metadata": {},
   "source": [
    "**Bike Sharing Dataset**\n",
    "\n",
    "**Features**:\n",
    "\n",
    "- `instant`: record index\n",
    "- `dteday` : date\n",
    "- `season` : season (1:springer, 2:summer, 3:fall, 4:winter)\n",
    "- `yr` : year (0: 2011, 1:2012)\n",
    "- `mnth` : month ( 1 to 12)\n",
    "- `hr` : hour (0 to 23)\n",
    "- `holiday` : weather day is holiday or not (extracted from [Web Link])\n",
    "- `weekday` : day of the week\n",
    "- `workingday` : if day is neither weekend nor holiday is 1, otherwise is 0.\n",
    "- `weathersit` :\n",
    "    - 1: Clear, Few clouds, Partly cloudy, Partly cloudy\n",
    "    - 2: Mist + Cloudy, Mist + Broken clouds, Mist + Few clouds, Mist\n",
    "    - 3: Light Snow, Light Rain + Thunderstorm + Scattered clouds, Light Rain + Scattered clouds\n",
    "    - 4: Heavy Rain + Ice Pallets + Thunderstorm + Mist, Snow + Fog\n",
    "- `temp` : Normalized temperature in Celsius. The values are derived via (t-t_min)/(t_max-t_min), t_min=-8, t_max=+39 (only in hourly scale)\n",
    "- `atemp`: Normalized feeling temperature in Celsius. The values are derived via (t-t_min)/(t_max-t_min), t_min=-16, t_max=+50 (only in hourly scale)\n",
    "- `hum`: Normalized humidity. The values are divided to 100 (max)\n",
    "- `windspeed`: Normalized wind speed. The values are divided to 67 (max)\n",
    "- `casual`: count of casual users\n",
    "- `registered`: count of registered users\n",
    "\n",
    "**Target Variable**:\n",
    "\n",
    "- `cnt`: count of total rental bikes including both casual and registered\n",
    "\n",
    "        \n",
    "**Objective**:\n",
    "\n",
    "The primary objective is typically to build a model that can accurately predict the count of total rental bikes including both casual and registered.\n",
    "\n",
    "**Usecase**:\n",
    "\n",
    "Here, we will use AutoML(Automated Machine Learning) functionality to automate the entire process of developing a predictive model. It will perform feature exploration, feature engineering, data preparation, model training and evaluation on dataset in auto run and at end we will get leaderboard containined different models along with their performance. Model will also have rank associated with them which indicates which is best performing model for given data followed by other models."
   ]
  },
  {
   "cell_type": "code",
   "execution_count": 1,
   "id": "66568348-4d00-477c-a071-17995f797c95",
   "metadata": {},
   "outputs": [],
   "source": [
    "# Importing AutoML from teradataml\n",
    "from teradataml import AutoML"
   ]
  },
  {
   "cell_type": "code",
   "execution_count": 2,
   "id": "17dfae70-0401-4cc4-ba1c-400a5cf62451",
   "metadata": {},
   "outputs": [],
   "source": [
    "# Importing other important libraries\n",
    "import getpass\n",
    "from teradataml import create_context, remove_context\n",
    "from teradataml import DataFrame\n",
    "from teradataml import load_example_data\n",
    "from teradataml import TrainTestSplit"
   ]
  },
  {
   "cell_type": "code",
   "execution_count": 3,
   "id": "cadd9ed2-42d6-4899-b23e-4e2cf601162f",
   "metadata": {},
   "outputs": [
    {
     "name": "stdin",
     "output_type": "stream",
     "text": [
      "Host:  ········\n",
      "Username:  ········\n",
      "Password:  ········\n"
     ]
    }
   ],
   "source": [
    "# Create the connection.\n",
    "host = getpass.getpass(\"Host: \")\n",
    "username = getpass.getpass(\"Username: \")\n",
    "password = getpass.getpass(\"Password: \")\n",
    "\n",
    "con = create_context(host=host, username=username, password=password)"
   ]
  },
  {
   "cell_type": "markdown",
   "id": "be767a89-d5b8-4876-91cb-36980754586e",
   "metadata": {},
   "source": [
    "## <b><span style='color:#F1A424'>| 1.</span> Loading Dataset </b>"
   ]
  },
  {
   "cell_type": "code",
   "execution_count": 4,
   "id": "f1592c52-b247-4792-be2a-30b49bbeb9b6",
   "metadata": {},
   "outputs": [],
   "source": [
    "# Loading dataset from example data collection\n",
    "load_example_data('teradataml','bike_sharing')"
   ]
  },
  {
   "cell_type": "code",
   "execution_count": 5,
   "id": "3846ae0f-004b-4b8e-9fea-06fac4294065",
   "metadata": {},
   "outputs": [],
   "source": [
    "# Fetching in teradata dataframe\n",
    "bike_df = DataFrame(\"bike_sharing\")"
   ]
  },
  {
   "cell_type": "code",
   "execution_count": 6,
   "id": "442ccd80-b444-413e-970d-d855ec3d6cae",
   "metadata": {},
   "outputs": [
    {
     "data": {
      "text/html": [
       "<style type=\"text/css\">\n",
       "\ttable {border:ridge 5px;}\n",
       "\ttable td {border:inset 1px;}\n",
       "\ttable tr#HeaderRow {background-color:grey; color:white;}</style>\n",
       "<html><table>\n",
       "\t<tr id=\"HeaderRow\">\n",
       "\t\t<th>instant</th>\n",
       "\t\t<th>dteday</th>\n",
       "\t\t<th>season</th>\n",
       "\t\t<th>yr</th>\n",
       "\t\t<th>mnth</th>\n",
       "\t\t<th>holiday</th>\n",
       "\t\t<th>weekday</th>\n",
       "\t\t<th>workingday</th>\n",
       "\t\t<th>weathersit</th>\n",
       "\t\t<th>temp</th>\n",
       "\t\t<th>atemp</th>\n",
       "\t\t<th>hum</th>\n",
       "\t\t<th>windspeed</th>\n",
       "\t\t<th>casual</th>\n",
       "\t\t<th>registered</th>\n",
       "\t\t<th>cnt</th>\n",
       "\t</tr>\n",
       "\t<tr>\n",
       "\t\t<td>3</td>\n",
       "\t\t<td>03-01-2011</td>\n",
       "\t\t<td>1</td>\n",
       "\t\t<td>0</td>\n",
       "\t\t<td>1</td>\n",
       "\t\t<td>0</td>\n",
       "\t\t<td>1</td>\n",
       "\t\t<td>1</td>\n",
       "\t\t<td>1</td>\n",
       "\t\t<td>0.196364</td>\n",
       "\t\t<td>0.189405</td>\n",
       "\t\t<td>0.437273</td>\n",
       "\t\t<td>0.248309</td>\n",
       "\t\t<td>120</td>\n",
       "\t\t<td>1229</td>\n",
       "\t\t<td>1349</td>\n",
       "\t</tr>\n",
       "\t<tr>\n",
       "\t\t<td>5</td>\n",
       "\t\t<td>05-01-2011</td>\n",
       "\t\t<td>1</td>\n",
       "\t\t<td>0</td>\n",
       "\t\t<td>1</td>\n",
       "\t\t<td>0</td>\n",
       "\t\t<td>3</td>\n",
       "\t\t<td>1</td>\n",
       "\t\t<td>1</td>\n",
       "\t\t<td>0.226957</td>\n",
       "\t\t<td>0.22927</td>\n",
       "\t\t<td>0.436957</td>\n",
       "\t\t<td>0.1869</td>\n",
       "\t\t<td>82</td>\n",
       "\t\t<td>1518</td>\n",
       "\t\t<td>1600</td>\n",
       "\t</tr>\n",
       "\t<tr>\n",
       "\t\t<td>6</td>\n",
       "\t\t<td>06-01-2011</td>\n",
       "\t\t<td>1</td>\n",
       "\t\t<td>0</td>\n",
       "\t\t<td>1</td>\n",
       "\t\t<td>0</td>\n",
       "\t\t<td>4</td>\n",
       "\t\t<td>1</td>\n",
       "\t\t<td>1</td>\n",
       "\t\t<td>0.204348</td>\n",
       "\t\t<td>0.233209</td>\n",
       "\t\t<td>0.518261</td>\n",
       "\t\t<td>0.0895652</td>\n",
       "\t\t<td>88</td>\n",
       "\t\t<td>1518</td>\n",
       "\t\t<td>1606</td>\n",
       "\t</tr>\n",
       "\t<tr>\n",
       "\t\t<td>7</td>\n",
       "\t\t<td>07-01-2011</td>\n",
       "\t\t<td>1</td>\n",
       "\t\t<td>0</td>\n",
       "\t\t<td>1</td>\n",
       "\t\t<td>0</td>\n",
       "\t\t<td>5</td>\n",
       "\t\t<td>1</td>\n",
       "\t\t<td>2</td>\n",
       "\t\t<td>0.196522</td>\n",
       "\t\t<td>0.208839</td>\n",
       "\t\t<td>0.498696</td>\n",
       "\t\t<td>0.168726</td>\n",
       "\t\t<td>148</td>\n",
       "\t\t<td>1362</td>\n",
       "\t\t<td>1510</td>\n",
       "\t</tr>\n",
       "\t<tr>\n",
       "\t\t<td>9</td>\n",
       "\t\t<td>09-01-2011</td>\n",
       "\t\t<td>1</td>\n",
       "\t\t<td>0</td>\n",
       "\t\t<td>1</td>\n",
       "\t\t<td>0</td>\n",
       "\t\t<td>0</td>\n",
       "\t\t<td>0</td>\n",
       "\t\t<td>1</td>\n",
       "\t\t<td>0.138333</td>\n",
       "\t\t<td>0.116175</td>\n",
       "\t\t<td>0.434167</td>\n",
       "\t\t<td>0.36195</td>\n",
       "\t\t<td>54</td>\n",
       "\t\t<td>768</td>\n",
       "\t\t<td>822</td>\n",
       "\t</tr>\n",
       "\t<tr>\n",
       "\t\t<td>10</td>\n",
       "\t\t<td>10-01-2011</td>\n",
       "\t\t<td>1</td>\n",
       "\t\t<td>0</td>\n",
       "\t\t<td>1</td>\n",
       "\t\t<td>0</td>\n",
       "\t\t<td>1</td>\n",
       "\t\t<td>1</td>\n",
       "\t\t<td>1</td>\n",
       "\t\t<td>0.150833</td>\n",
       "\t\t<td>0.150888</td>\n",
       "\t\t<td>0.482917</td>\n",
       "\t\t<td>0.223267</td>\n",
       "\t\t<td>41</td>\n",
       "\t\t<td>1280</td>\n",
       "\t\t<td>1321</td>\n",
       "\t</tr>\n",
       "\t<tr>\n",
       "\t\t<td>8</td>\n",
       "\t\t<td>08-01-2011</td>\n",
       "\t\t<td>1</td>\n",
       "\t\t<td>0</td>\n",
       "\t\t<td>1</td>\n",
       "\t\t<td>0</td>\n",
       "\t\t<td>6</td>\n",
       "\t\t<td>0</td>\n",
       "\t\t<td>2</td>\n",
       "\t\t<td>0.165</td>\n",
       "\t\t<td>0.162254</td>\n",
       "\t\t<td>0.535833</td>\n",
       "\t\t<td>0.266804</td>\n",
       "\t\t<td>68</td>\n",
       "\t\t<td>891</td>\n",
       "\t\t<td>959</td>\n",
       "\t</tr>\n",
       "\t<tr>\n",
       "\t\t<td>4</td>\n",
       "\t\t<td>04-01-2011</td>\n",
       "\t\t<td>1</td>\n",
       "\t\t<td>0</td>\n",
       "\t\t<td>1</td>\n",
       "\t\t<td>0</td>\n",
       "\t\t<td>2</td>\n",
       "\t\t<td>1</td>\n",
       "\t\t<td>1</td>\n",
       "\t\t<td>0.2</td>\n",
       "\t\t<td>0.212122</td>\n",
       "\t\t<td>0.590435</td>\n",
       "\t\t<td>0.160296</td>\n",
       "\t\t<td>108</td>\n",
       "\t\t<td>1454</td>\n",
       "\t\t<td>1562</td>\n",
       "\t</tr>\n",
       "\t<tr>\n",
       "\t\t<td>2</td>\n",
       "\t\t<td>02-01-2011</td>\n",
       "\t\t<td>1</td>\n",
       "\t\t<td>0</td>\n",
       "\t\t<td>1</td>\n",
       "\t\t<td>0</td>\n",
       "\t\t<td>0</td>\n",
       "\t\t<td>0</td>\n",
       "\t\t<td>2</td>\n",
       "\t\t<td>0.363478</td>\n",
       "\t\t<td>0.353739</td>\n",
       "\t\t<td>0.696087</td>\n",
       "\t\t<td>0.248539</td>\n",
       "\t\t<td>131</td>\n",
       "\t\t<td>670</td>\n",
       "\t\t<td>801</td>\n",
       "\t</tr>\n",
       "\t<tr>\n",
       "\t\t<td>1</td>\n",
       "\t\t<td>01-01-2011</td>\n",
       "\t\t<td>1</td>\n",
       "\t\t<td>0</td>\n",
       "\t\t<td>1</td>\n",
       "\t\t<td>0</td>\n",
       "\t\t<td>6</td>\n",
       "\t\t<td>0</td>\n",
       "\t\t<td>2</td>\n",
       "\t\t<td>0.344167</td>\n",
       "\t\t<td>0.363625</td>\n",
       "\t\t<td>0.805833</td>\n",
       "\t\t<td>0.160446</td>\n",
       "\t\t<td>331</td>\n",
       "\t\t<td>654</td>\n",
       "\t\t<td>985</td>\n",
       "\t</tr>\n",
       "</table></html>"
      ],
      "text/plain": [
       "             dteday  season  yr  mnth  holiday  weekday  workingday  weathersit      temp     atemp       hum  windspeed  casual  registered   cnt\n",
       "instant                                                                                                                                           \n",
       "3        03-01-2011       1   0     1        0        1           1           1  0.196364  0.189405  0.437273   0.248309     120        1229  1349\n",
       "5        05-01-2011       1   0     1        0        3           1           1  0.226957  0.229270  0.436957   0.186900      82        1518  1600\n",
       "6        06-01-2011       1   0     1        0        4           1           1  0.204348  0.233209  0.518261   0.089565      88        1518  1606\n",
       "7        07-01-2011       1   0     1        0        5           1           2  0.196522  0.208839  0.498696   0.168726     148        1362  1510\n",
       "9        09-01-2011       1   0     1        0        0           0           1  0.138333  0.116175  0.434167   0.361950      54         768   822\n",
       "10       10-01-2011       1   0     1        0        1           1           1  0.150833  0.150888  0.482917   0.223267      41        1280  1321\n",
       "8        08-01-2011       1   0     1        0        6           0           2  0.165000  0.162254  0.535833   0.266804      68         891   959\n",
       "4        04-01-2011       1   0     1        0        2           1           1  0.200000  0.212122  0.590435   0.160296     108        1454  1562\n",
       "2        02-01-2011       1   0     1        0        0           0           2  0.363478  0.353739  0.696087   0.248539     131         670   801\n",
       "1        01-01-2011       1   0     1        0        6           0           2  0.344167  0.363625  0.805833   0.160446     331         654   985"
      ]
     },
     "execution_count": 6,
     "metadata": {},
     "output_type": "execute_result"
    }
   ],
   "source": [
    "# first 5 rows\n",
    "bike_df.head()"
   ]
  },
  {
   "cell_type": "code",
   "execution_count": 7,
   "id": "636c220d-d12f-4ea5-ab2b-c9203ef00d49",
   "metadata": {},
   "outputs": [
    {
     "data": {
      "text/plain": [
       "(731, 16)"
      ]
     },
     "execution_count": 7,
     "metadata": {},
     "output_type": "execute_result"
    }
   ],
   "source": [
    "# bike_df dataset\n",
    "bike_df.shape"
   ]
  },
  {
   "cell_type": "code",
   "execution_count": 8,
   "id": "73a4b610-1b0e-4d05-a607-cc01a5337c31",
   "metadata": {},
   "outputs": [
    {
     "name": "stdout",
     "output_type": "stream",
     "text": [
      "<class 'teradataml.dataframe.dataframe.DataFrame'>\n",
      "Data columns (total 16 columns):\n",
      "instant                 int\n",
      "dteday        datetime.date\n",
      "season                  int\n",
      "yr                      int\n",
      "mnth                    int\n",
      "holiday                 int\n",
      "weekday                 int\n",
      "workingday              int\n",
      "weathersit              int\n",
      "temp                  float\n",
      "atemp                 float\n",
      "hum                   float\n",
      "windspeed             float\n",
      "casual                  int\n",
      "registered              int\n",
      "cnt                     int\n",
      "dtypes: int(11), datetime.date(1), float(4)\n"
     ]
    }
   ],
   "source": [
    "bike_df.info()"
   ]
  },
  {
   "cell_type": "code",
   "execution_count": 9,
   "id": "e5d1fad7-8784-4d7a-be1f-7be1d3991d8f",
   "metadata": {},
   "outputs": [],
   "source": [
    "# Performing sampling to get 80% for trainning and 20% for testing\n",
    "bike_df_sample = bike_df.sample(frac = [0.8, 0.2])"
   ]
  },
  {
   "cell_type": "code",
   "execution_count": 10,
   "id": "a0e6891a-1b7e-4bac-97c8-350ba5f5bde4",
   "metadata": {},
   "outputs": [
    {
     "data": {
      "text/html": [
       "<style type=\"text/css\">\n",
       "\ttable {border:ridge 5px;}\n",
       "\ttable td {border:inset 1px;}\n",
       "\ttable tr#HeaderRow {background-color:grey; color:white;}</style>\n",
       "<html><table>\n",
       "\t<tr id=\"HeaderRow\">\n",
       "\t\t<th>instant</th>\n",
       "\t\t<th>dteday</th>\n",
       "\t\t<th>season</th>\n",
       "\t\t<th>yr</th>\n",
       "\t\t<th>mnth</th>\n",
       "\t\t<th>holiday</th>\n",
       "\t\t<th>weekday</th>\n",
       "\t\t<th>workingday</th>\n",
       "\t\t<th>weathersit</th>\n",
       "\t\t<th>temp</th>\n",
       "\t\t<th>atemp</th>\n",
       "\t\t<th>hum</th>\n",
       "\t\t<th>windspeed</th>\n",
       "\t\t<th>casual</th>\n",
       "\t\t<th>registered</th>\n",
       "\t\t<th>cnt</th>\n",
       "\t\t<th>sampleid</th>\n",
       "\t</tr>\n",
       "\t<tr>\n",
       "\t\t<td>3</td>\n",
       "\t\t<td>11/01/03</td>\n",
       "\t\t<td>1</td>\n",
       "\t\t<td>0</td>\n",
       "\t\t<td>1</td>\n",
       "\t\t<td>0</td>\n",
       "\t\t<td>1</td>\n",
       "\t\t<td>1</td>\n",
       "\t\t<td>1</td>\n",
       "\t\t<td>0.196364</td>\n",
       "\t\t<td>0.189405</td>\n",
       "\t\t<td>0.437273</td>\n",
       "\t\t<td>0.248309</td>\n",
       "\t\t<td>120</td>\n",
       "\t\t<td>1229</td>\n",
       "\t\t<td>1349</td>\n",
       "\t\t<td>1</td>\n",
       "\t</tr>\n",
       "\t<tr>\n",
       "\t\t<td>5</td>\n",
       "\t\t<td>11/01/05</td>\n",
       "\t\t<td>1</td>\n",
       "\t\t<td>0</td>\n",
       "\t\t<td>1</td>\n",
       "\t\t<td>0</td>\n",
       "\t\t<td>3</td>\n",
       "\t\t<td>1</td>\n",
       "\t\t<td>1</td>\n",
       "\t\t<td>0.226957</td>\n",
       "\t\t<td>0.22927</td>\n",
       "\t\t<td>0.436957</td>\n",
       "\t\t<td>0.1869</td>\n",
       "\t\t<td>82</td>\n",
       "\t\t<td>1518</td>\n",
       "\t\t<td>1600</td>\n",
       "\t\t<td>1</td>\n",
       "\t</tr>\n",
       "\t<tr>\n",
       "\t\t<td>6</td>\n",
       "\t\t<td>11/01/06</td>\n",
       "\t\t<td>1</td>\n",
       "\t\t<td>0</td>\n",
       "\t\t<td>1</td>\n",
       "\t\t<td>0</td>\n",
       "\t\t<td>4</td>\n",
       "\t\t<td>1</td>\n",
       "\t\t<td>1</td>\n",
       "\t\t<td>0.204348</td>\n",
       "\t\t<td>0.233209</td>\n",
       "\t\t<td>0.518261</td>\n",
       "\t\t<td>0.0895652</td>\n",
       "\t\t<td>88</td>\n",
       "\t\t<td>1518</td>\n",
       "\t\t<td>1606</td>\n",
       "\t\t<td>1</td>\n",
       "\t</tr>\n",
       "\t<tr>\n",
       "\t\t<td>7</td>\n",
       "\t\t<td>11/01/07</td>\n",
       "\t\t<td>1</td>\n",
       "\t\t<td>0</td>\n",
       "\t\t<td>1</td>\n",
       "\t\t<td>0</td>\n",
       "\t\t<td>5</td>\n",
       "\t\t<td>1</td>\n",
       "\t\t<td>2</td>\n",
       "\t\t<td>0.196522</td>\n",
       "\t\t<td>0.208839</td>\n",
       "\t\t<td>0.498696</td>\n",
       "\t\t<td>0.168726</td>\n",
       "\t\t<td>148</td>\n",
       "\t\t<td>1362</td>\n",
       "\t\t<td>1510</td>\n",
       "\t\t<td>2</td>\n",
       "\t</tr>\n",
       "\t<tr>\n",
       "\t\t<td>9</td>\n",
       "\t\t<td>11/01/09</td>\n",
       "\t\t<td>1</td>\n",
       "\t\t<td>0</td>\n",
       "\t\t<td>1</td>\n",
       "\t\t<td>0</td>\n",
       "\t\t<td>0</td>\n",
       "\t\t<td>0</td>\n",
       "\t\t<td>1</td>\n",
       "\t\t<td>0.138333</td>\n",
       "\t\t<td>0.116175</td>\n",
       "\t\t<td>0.434167</td>\n",
       "\t\t<td>0.36195</td>\n",
       "\t\t<td>54</td>\n",
       "\t\t<td>768</td>\n",
       "\t\t<td>822</td>\n",
       "\t\t<td>1</td>\n",
       "\t</tr>\n",
       "\t<tr>\n",
       "\t\t<td>10</td>\n",
       "\t\t<td>11/01/10</td>\n",
       "\t\t<td>1</td>\n",
       "\t\t<td>0</td>\n",
       "\t\t<td>1</td>\n",
       "\t\t<td>0</td>\n",
       "\t\t<td>1</td>\n",
       "\t\t<td>1</td>\n",
       "\t\t<td>1</td>\n",
       "\t\t<td>0.150833</td>\n",
       "\t\t<td>0.150888</td>\n",
       "\t\t<td>0.482917</td>\n",
       "\t\t<td>0.223267</td>\n",
       "\t\t<td>41</td>\n",
       "\t\t<td>1280</td>\n",
       "\t\t<td>1321</td>\n",
       "\t\t<td>1</td>\n",
       "\t</tr>\n",
       "\t<tr>\n",
       "\t\t<td>8</td>\n",
       "\t\t<td>11/01/08</td>\n",
       "\t\t<td>1</td>\n",
       "\t\t<td>0</td>\n",
       "\t\t<td>1</td>\n",
       "\t\t<td>0</td>\n",
       "\t\t<td>6</td>\n",
       "\t\t<td>0</td>\n",
       "\t\t<td>2</td>\n",
       "\t\t<td>0.165</td>\n",
       "\t\t<td>0.162254</td>\n",
       "\t\t<td>0.535833</td>\n",
       "\t\t<td>0.266804</td>\n",
       "\t\t<td>68</td>\n",
       "\t\t<td>891</td>\n",
       "\t\t<td>959</td>\n",
       "\t\t<td>2</td>\n",
       "\t</tr>\n",
       "\t<tr>\n",
       "\t\t<td>4</td>\n",
       "\t\t<td>11/01/04</td>\n",
       "\t\t<td>1</td>\n",
       "\t\t<td>0</td>\n",
       "\t\t<td>1</td>\n",
       "\t\t<td>0</td>\n",
       "\t\t<td>2</td>\n",
       "\t\t<td>1</td>\n",
       "\t\t<td>1</td>\n",
       "\t\t<td>0.2</td>\n",
       "\t\t<td>0.212122</td>\n",
       "\t\t<td>0.590435</td>\n",
       "\t\t<td>0.160296</td>\n",
       "\t\t<td>108</td>\n",
       "\t\t<td>1454</td>\n",
       "\t\t<td>1562</td>\n",
       "\t\t<td>1</td>\n",
       "\t</tr>\n",
       "\t<tr>\n",
       "\t\t<td>2</td>\n",
       "\t\t<td>11/01/02</td>\n",
       "\t\t<td>1</td>\n",
       "\t\t<td>0</td>\n",
       "\t\t<td>1</td>\n",
       "\t\t<td>0</td>\n",
       "\t\t<td>0</td>\n",
       "\t\t<td>0</td>\n",
       "\t\t<td>2</td>\n",
       "\t\t<td>0.363478</td>\n",
       "\t\t<td>0.353739</td>\n",
       "\t\t<td>0.696087</td>\n",
       "\t\t<td>0.248539</td>\n",
       "\t\t<td>131</td>\n",
       "\t\t<td>670</td>\n",
       "\t\t<td>801</td>\n",
       "\t\t<td>1</td>\n",
       "\t</tr>\n",
       "\t<tr>\n",
       "\t\t<td>1</td>\n",
       "\t\t<td>11/01/01</td>\n",
       "\t\t<td>1</td>\n",
       "\t\t<td>0</td>\n",
       "\t\t<td>1</td>\n",
       "\t\t<td>0</td>\n",
       "\t\t<td>6</td>\n",
       "\t\t<td>0</td>\n",
       "\t\t<td>2</td>\n",
       "\t\t<td>0.344167</td>\n",
       "\t\t<td>0.363625</td>\n",
       "\t\t<td>0.805833</td>\n",
       "\t\t<td>0.160446</td>\n",
       "\t\t<td>331</td>\n",
       "\t\t<td>654</td>\n",
       "\t\t<td>985</td>\n",
       "\t\t<td>1</td>\n",
       "\t</tr>\n",
       "</table></html>"
      ],
      "text/plain": [
       "           dteday  season  yr  mnth  holiday  weekday  workingday  weathersit      temp     atemp       hum  windspeed  casual  registered   cnt  sampleid\n",
       "instant                                                                                                                                                   \n",
       "3        11/01/03       1   0     1        0        1           1           1  0.196364  0.189405  0.437273   0.248309     120        1229  1349         1\n",
       "5        11/01/05       1   0     1        0        3           1           1  0.226957  0.229270  0.436957   0.186900      82        1518  1600         1\n",
       "6        11/01/06       1   0     1        0        4           1           1  0.204348  0.233209  0.518261   0.089565      88        1518  1606         1\n",
       "7        11/01/07       1   0     1        0        5           1           2  0.196522  0.208839  0.498696   0.168726     148        1362  1510         2\n",
       "9        11/01/09       1   0     1        0        0           0           1  0.138333  0.116175  0.434167   0.361950      54         768   822         1\n",
       "10       11/01/10       1   0     1        0        1           1           1  0.150833  0.150888  0.482917   0.223267      41        1280  1321         1\n",
       "8        11/01/08       1   0     1        0        6           0           2  0.165000  0.162254  0.535833   0.266804      68         891   959         2\n",
       "4        11/01/04       1   0     1        0        2           1           1  0.200000  0.212122  0.590435   0.160296     108        1454  1562         1\n",
       "2        11/01/02       1   0     1        0        0           0           2  0.363478  0.353739  0.696087   0.248539     131         670   801         1\n",
       "1        11/01/01       1   0     1        0        6           0           2  0.344167  0.363625  0.805833   0.160446     331         654   985         1"
      ]
     },
     "execution_count": 10,
     "metadata": {},
     "output_type": "execute_result"
    }
   ],
   "source": [
    "bike_df_sample.head()"
   ]
  },
  {
   "cell_type": "code",
   "execution_count": 11,
   "id": "5e3e5923-18ad-4cf6-b4e5-e87f8854700b",
   "metadata": {},
   "outputs": [],
   "source": [
    "# Fetching train and test data\n",
    "bike_df_train= bike_df_sample[bike_df_sample['sampleid'] == 1].drop('sampleid', axis=1)\n",
    "bike_df_test = bike_df_sample[bike_df_sample['sampleid'] == 2].drop('sampleid', axis=1)"
   ]
  },
  {
   "cell_type": "code",
   "execution_count": 12,
   "id": "83d72a72-3fac-4862-b374-d21ab59be1a6",
   "metadata": {},
   "outputs": [
    {
     "data": {
      "text/plain": [
       "(585, 16)"
      ]
     },
     "execution_count": 12,
     "metadata": {},
     "output_type": "execute_result"
    }
   ],
   "source": [
    "# train data shape\n",
    "bike_df_train.shape"
   ]
  },
  {
   "cell_type": "code",
   "execution_count": 13,
   "id": "b22be730-8a7a-40f3-8e2a-cabd8d1f427f",
   "metadata": {},
   "outputs": [
    {
     "data": {
      "text/plain": [
       "(146, 16)"
      ]
     },
     "execution_count": 13,
     "metadata": {},
     "output_type": "execute_result"
    }
   ],
   "source": [
    "# test data shape\n",
    "bike_df_test.shape"
   ]
  },
  {
   "cell_type": "code",
   "execution_count": 14,
   "id": "18473df2-be15-4e1e-bc5e-739abacf8b89",
   "metadata": {},
   "outputs": [
    {
     "data": {
      "text/html": [
       "<style type=\"text/css\">\n",
       "\ttable {border:ridge 5px;}\n",
       "\ttable td {border:inset 1px;}\n",
       "\ttable tr#HeaderRow {background-color:grey; color:white;}</style>\n",
       "<html><table>\n",
       "\t<tr id=\"HeaderRow\">\n",
       "\t\t<th>instant</th>\n",
       "\t\t<th>dteday</th>\n",
       "\t\t<th>season</th>\n",
       "\t\t<th>yr</th>\n",
       "\t\t<th>mnth</th>\n",
       "\t\t<th>holiday</th>\n",
       "\t\t<th>weekday</th>\n",
       "\t\t<th>workingday</th>\n",
       "\t\t<th>weathersit</th>\n",
       "\t\t<th>temp</th>\n",
       "\t\t<th>atemp</th>\n",
       "\t\t<th>hum</th>\n",
       "\t\t<th>windspeed</th>\n",
       "\t\t<th>casual</th>\n",
       "\t\t<th>registered</th>\n",
       "\t\t<th>cnt</th>\n",
       "\t</tr>\n",
       "\t<tr>\n",
       "\t\t<td>3</td>\n",
       "\t\t<td>11/01/03</td>\n",
       "\t\t<td>1</td>\n",
       "\t\t<td>0</td>\n",
       "\t\t<td>1</td>\n",
       "\t\t<td>0</td>\n",
       "\t\t<td>1</td>\n",
       "\t\t<td>1</td>\n",
       "\t\t<td>1</td>\n",
       "\t\t<td>0.196364</td>\n",
       "\t\t<td>0.189405</td>\n",
       "\t\t<td>0.437273</td>\n",
       "\t\t<td>0.248309</td>\n",
       "\t\t<td>120</td>\n",
       "\t\t<td>1229</td>\n",
       "\t\t<td>1349</td>\n",
       "\t</tr>\n",
       "\t<tr>\n",
       "\t\t<td>5</td>\n",
       "\t\t<td>11/01/05</td>\n",
       "\t\t<td>1</td>\n",
       "\t\t<td>0</td>\n",
       "\t\t<td>1</td>\n",
       "\t\t<td>0</td>\n",
       "\t\t<td>3</td>\n",
       "\t\t<td>1</td>\n",
       "\t\t<td>1</td>\n",
       "\t\t<td>0.226957</td>\n",
       "\t\t<td>0.22927</td>\n",
       "\t\t<td>0.436957</td>\n",
       "\t\t<td>0.1869</td>\n",
       "\t\t<td>82</td>\n",
       "\t\t<td>1518</td>\n",
       "\t\t<td>1600</td>\n",
       "\t</tr>\n",
       "\t<tr>\n",
       "\t\t<td>6</td>\n",
       "\t\t<td>11/01/06</td>\n",
       "\t\t<td>1</td>\n",
       "\t\t<td>0</td>\n",
       "\t\t<td>1</td>\n",
       "\t\t<td>0</td>\n",
       "\t\t<td>4</td>\n",
       "\t\t<td>1</td>\n",
       "\t\t<td>1</td>\n",
       "\t\t<td>0.204348</td>\n",
       "\t\t<td>0.233209</td>\n",
       "\t\t<td>0.518261</td>\n",
       "\t\t<td>0.0895652</td>\n",
       "\t\t<td>88</td>\n",
       "\t\t<td>1518</td>\n",
       "\t\t<td>1606</td>\n",
       "\t</tr>\n",
       "\t<tr>\n",
       "\t\t<td>9</td>\n",
       "\t\t<td>11/01/09</td>\n",
       "\t\t<td>1</td>\n",
       "\t\t<td>0</td>\n",
       "\t\t<td>1</td>\n",
       "\t\t<td>0</td>\n",
       "\t\t<td>0</td>\n",
       "\t\t<td>0</td>\n",
       "\t\t<td>1</td>\n",
       "\t\t<td>0.138333</td>\n",
       "\t\t<td>0.116175</td>\n",
       "\t\t<td>0.434167</td>\n",
       "\t\t<td>0.36195</td>\n",
       "\t\t<td>54</td>\n",
       "\t\t<td>768</td>\n",
       "\t\t<td>822</td>\n",
       "\t</tr>\n",
       "\t<tr>\n",
       "\t\t<td>11</td>\n",
       "\t\t<td>11/01/11</td>\n",
       "\t\t<td>1</td>\n",
       "\t\t<td>0</td>\n",
       "\t\t<td>1</td>\n",
       "\t\t<td>0</td>\n",
       "\t\t<td>2</td>\n",
       "\t\t<td>1</td>\n",
       "\t\t<td>2</td>\n",
       "\t\t<td>0.169091</td>\n",
       "\t\t<td>0.191464</td>\n",
       "\t\t<td>0.686364</td>\n",
       "\t\t<td>0.122132</td>\n",
       "\t\t<td>43</td>\n",
       "\t\t<td>1220</td>\n",
       "\t\t<td>1263</td>\n",
       "\t</tr>\n",
       "\t<tr>\n",
       "\t\t<td>12</td>\n",
       "\t\t<td>11/01/12</td>\n",
       "\t\t<td>1</td>\n",
       "\t\t<td>0</td>\n",
       "\t\t<td>1</td>\n",
       "\t\t<td>0</td>\n",
       "\t\t<td>3</td>\n",
       "\t\t<td>1</td>\n",
       "\t\t<td>1</td>\n",
       "\t\t<td>0.172727</td>\n",
       "\t\t<td>0.160473</td>\n",
       "\t\t<td>0.599545</td>\n",
       "\t\t<td>0.304627</td>\n",
       "\t\t<td>25</td>\n",
       "\t\t<td>1137</td>\n",
       "\t\t<td>1162</td>\n",
       "\t</tr>\n",
       "\t<tr>\n",
       "\t\t<td>10</td>\n",
       "\t\t<td>11/01/10</td>\n",
       "\t\t<td>1</td>\n",
       "\t\t<td>0</td>\n",
       "\t\t<td>1</td>\n",
       "\t\t<td>0</td>\n",
       "\t\t<td>1</td>\n",
       "\t\t<td>1</td>\n",
       "\t\t<td>1</td>\n",
       "\t\t<td>0.150833</td>\n",
       "\t\t<td>0.150888</td>\n",
       "\t\t<td>0.482917</td>\n",
       "\t\t<td>0.223267</td>\n",
       "\t\t<td>41</td>\n",
       "\t\t<td>1280</td>\n",
       "\t\t<td>1321</td>\n",
       "\t</tr>\n",
       "\t<tr>\n",
       "\t\t<td>4</td>\n",
       "\t\t<td>11/01/04</td>\n",
       "\t\t<td>1</td>\n",
       "\t\t<td>0</td>\n",
       "\t\t<td>1</td>\n",
       "\t\t<td>0</td>\n",
       "\t\t<td>2</td>\n",
       "\t\t<td>1</td>\n",
       "\t\t<td>1</td>\n",
       "\t\t<td>0.2</td>\n",
       "\t\t<td>0.212122</td>\n",
       "\t\t<td>0.590435</td>\n",
       "\t\t<td>0.160296</td>\n",
       "\t\t<td>108</td>\n",
       "\t\t<td>1454</td>\n",
       "\t\t<td>1562</td>\n",
       "\t</tr>\n",
       "\t<tr>\n",
       "\t\t<td>2</td>\n",
       "\t\t<td>11/01/02</td>\n",
       "\t\t<td>1</td>\n",
       "\t\t<td>0</td>\n",
       "\t\t<td>1</td>\n",
       "\t\t<td>0</td>\n",
       "\t\t<td>0</td>\n",
       "\t\t<td>0</td>\n",
       "\t\t<td>2</td>\n",
       "\t\t<td>0.363478</td>\n",
       "\t\t<td>0.353739</td>\n",
       "\t\t<td>0.696087</td>\n",
       "\t\t<td>0.248539</td>\n",
       "\t\t<td>131</td>\n",
       "\t\t<td>670</td>\n",
       "\t\t<td>801</td>\n",
       "\t</tr>\n",
       "\t<tr>\n",
       "\t\t<td>1</td>\n",
       "\t\t<td>11/01/01</td>\n",
       "\t\t<td>1</td>\n",
       "\t\t<td>0</td>\n",
       "\t\t<td>1</td>\n",
       "\t\t<td>0</td>\n",
       "\t\t<td>6</td>\n",
       "\t\t<td>0</td>\n",
       "\t\t<td>2</td>\n",
       "\t\t<td>0.344167</td>\n",
       "\t\t<td>0.363625</td>\n",
       "\t\t<td>0.805833</td>\n",
       "\t\t<td>0.160446</td>\n",
       "\t\t<td>331</td>\n",
       "\t\t<td>654</td>\n",
       "\t\t<td>985</td>\n",
       "\t</tr>\n",
       "</table></html>"
      ],
      "text/plain": [
       "           dteday  season  yr  mnth  holiday  weekday  workingday  weathersit      temp     atemp       hum  windspeed  casual  registered   cnt\n",
       "instant                                                                                                                                         \n",
       "3        11/01/03       1   0     1        0        1           1           1  0.196364  0.189405  0.437273   0.248309     120        1229  1349\n",
       "5        11/01/05       1   0     1        0        3           1           1  0.226957  0.229270  0.436957   0.186900      82        1518  1600\n",
       "6        11/01/06       1   0     1        0        4           1           1  0.204348  0.233209  0.518261   0.089565      88        1518  1606\n",
       "9        11/01/09       1   0     1        0        0           0           1  0.138333  0.116175  0.434167   0.361950      54         768   822\n",
       "11       11/01/11       1   0     1        0        2           1           2  0.169091  0.191464  0.686364   0.122132      43        1220  1263\n",
       "12       11/01/12       1   0     1        0        3           1           1  0.172727  0.160473  0.599545   0.304627      25        1137  1162\n",
       "10       11/01/10       1   0     1        0        1           1           1  0.150833  0.150888  0.482917   0.223267      41        1280  1321\n",
       "4        11/01/04       1   0     1        0        2           1           1  0.200000  0.212122  0.590435   0.160296     108        1454  1562\n",
       "2        11/01/02       1   0     1        0        0           0           2  0.363478  0.353739  0.696087   0.248539     131         670   801\n",
       "1        11/01/01       1   0     1        0        6           0           2  0.344167  0.363625  0.805833   0.160446     331         654   985"
      ]
     },
     "execution_count": 14,
     "metadata": {},
     "output_type": "execute_result"
    }
   ],
   "source": [
    "#train dataset\n",
    "bike_df_train.head()"
   ]
  },
  {
   "cell_type": "code",
   "execution_count": 15,
   "id": "58c9d763-4f19-449e-a35b-676d4d026acc",
   "metadata": {},
   "outputs": [
    {
     "data": {
      "text/html": [
       "<style type=\"text/css\">\n",
       "\ttable {border:ridge 5px;}\n",
       "\ttable td {border:inset 1px;}\n",
       "\ttable tr#HeaderRow {background-color:grey; color:white;}</style>\n",
       "<html><table>\n",
       "\t<tr id=\"HeaderRow\">\n",
       "\t\t<th>instant</th>\n",
       "\t\t<th>dteday</th>\n",
       "\t\t<th>season</th>\n",
       "\t\t<th>yr</th>\n",
       "\t\t<th>mnth</th>\n",
       "\t\t<th>holiday</th>\n",
       "\t\t<th>weekday</th>\n",
       "\t\t<th>workingday</th>\n",
       "\t\t<th>weathersit</th>\n",
       "\t\t<th>temp</th>\n",
       "\t\t<th>atemp</th>\n",
       "\t\t<th>hum</th>\n",
       "\t\t<th>windspeed</th>\n",
       "\t\t<th>casual</th>\n",
       "\t\t<th>registered</th>\n",
       "\t\t<th>cnt</th>\n",
       "\t</tr>\n",
       "\t<tr>\n",
       "\t\t<td>18</td>\n",
       "\t\t<td>11/01/18</td>\n",
       "\t\t<td>1</td>\n",
       "\t\t<td>0</td>\n",
       "\t\t<td>1</td>\n",
       "\t\t<td>0</td>\n",
       "\t\t<td>2</td>\n",
       "\t\t<td>1</td>\n",
       "\t\t<td>2</td>\n",
       "\t\t<td>0.216667</td>\n",
       "\t\t<td>0.232333</td>\n",
       "\t\t<td>0.861667</td>\n",
       "\t\t<td>0.146775</td>\n",
       "\t\t<td>9</td>\n",
       "\t\t<td>674</td>\n",
       "\t\t<td>683</td>\n",
       "\t</tr>\n",
       "\t<tr>\n",
       "\t\t<td>29</td>\n",
       "\t\t<td>11/01/29</td>\n",
       "\t\t<td>1</td>\n",
       "\t\t<td>0</td>\n",
       "\t\t<td>1</td>\n",
       "\t\t<td>0</td>\n",
       "\t\t<td>6</td>\n",
       "\t\t<td>0</td>\n",
       "\t\t<td>1</td>\n",
       "\t\t<td>0.196522</td>\n",
       "\t\t<td>0.212126</td>\n",
       "\t\t<td>0.651739</td>\n",
       "\t\t<td>0.145365</td>\n",
       "\t\t<td>123</td>\n",
       "\t\t<td>975</td>\n",
       "\t\t<td>1098</td>\n",
       "\t</tr>\n",
       "\t<tr>\n",
       "\t\t<td>31</td>\n",
       "\t\t<td>11/01/31</td>\n",
       "\t\t<td>1</td>\n",
       "\t\t<td>0</td>\n",
       "\t\t<td>1</td>\n",
       "\t\t<td>0</td>\n",
       "\t\t<td>1</td>\n",
       "\t\t<td>1</td>\n",
       "\t\t<td>2</td>\n",
       "\t\t<td>0.180833</td>\n",
       "\t\t<td>0.18625</td>\n",
       "\t\t<td>0.60375</td>\n",
       "\t\t<td>0.187192</td>\n",
       "\t\t<td>42</td>\n",
       "\t\t<td>1459</td>\n",
       "\t\t<td>1501</td>\n",
       "\t</tr>\n",
       "\t<tr>\n",
       "\t\t<td>35</td>\n",
       "\t\t<td>11/02/04</td>\n",
       "\t\t<td>1</td>\n",
       "\t\t<td>0</td>\n",
       "\t\t<td>2</td>\n",
       "\t\t<td>0</td>\n",
       "\t\t<td>5</td>\n",
       "\t\t<td>1</td>\n",
       "\t\t<td>2</td>\n",
       "\t\t<td>0.211304</td>\n",
       "\t\t<td>0.228587</td>\n",
       "\t\t<td>0.585217</td>\n",
       "\t\t<td>0.127839</td>\n",
       "\t\t<td>88</td>\n",
       "\t\t<td>1620</td>\n",
       "\t\t<td>1708</td>\n",
       "\t</tr>\n",
       "\t<tr>\n",
       "\t\t<td>46</td>\n",
       "\t\t<td>11/02/15</td>\n",
       "\t\t<td>1</td>\n",
       "\t\t<td>0</td>\n",
       "\t\t<td>2</td>\n",
       "\t\t<td>0</td>\n",
       "\t\t<td>2</td>\n",
       "\t\t<td>1</td>\n",
       "\t\t<td>1</td>\n",
       "\t\t<td>0.266087</td>\n",
       "\t\t<td>0.254274</td>\n",
       "\t\t<td>0.314348</td>\n",
       "\t\t<td>0.291374</td>\n",
       "\t\t<td>140</td>\n",
       "\t\t<td>1675</td>\n",
       "\t\t<td>1815</td>\n",
       "\t</tr>\n",
       "\t<tr>\n",
       "\t\t<td>47</td>\n",
       "\t\t<td>11/02/16</td>\n",
       "\t\t<td>1</td>\n",
       "\t\t<td>0</td>\n",
       "\t\t<td>2</td>\n",
       "\t\t<td>0</td>\n",
       "\t\t<td>3</td>\n",
       "\t\t<td>1</td>\n",
       "\t\t<td>1</td>\n",
       "\t\t<td>0.318261</td>\n",
       "\t\t<td>0.3162</td>\n",
       "\t\t<td>0.423478</td>\n",
       "\t\t<td>0.251791</td>\n",
       "\t\t<td>218</td>\n",
       "\t\t<td>1897</td>\n",
       "\t\t<td>2115</td>\n",
       "\t</tr>\n",
       "\t<tr>\n",
       "\t\t<td>37</td>\n",
       "\t\t<td>11/02/06</td>\n",
       "\t\t<td>1</td>\n",
       "\t\t<td>0</td>\n",
       "\t\t<td>2</td>\n",
       "\t\t<td>0</td>\n",
       "\t\t<td>0</td>\n",
       "\t\t<td>0</td>\n",
       "\t\t<td>1</td>\n",
       "\t\t<td>0.285833</td>\n",
       "\t\t<td>0.291671</td>\n",
       "\t\t<td>0.568333</td>\n",
       "\t\t<td>0.1418</td>\n",
       "\t\t<td>354</td>\n",
       "\t\t<td>1269</td>\n",
       "\t\t<td>1623</td>\n",
       "\t</tr>\n",
       "\t<tr>\n",
       "\t\t<td>27</td>\n",
       "\t\t<td>11/01/27</td>\n",
       "\t\t<td>1</td>\n",
       "\t\t<td>0</td>\n",
       "\t\t<td>1</td>\n",
       "\t\t<td>0</td>\n",
       "\t\t<td>4</td>\n",
       "\t\t<td>1</td>\n",
       "\t\t<td>1</td>\n",
       "\t\t<td>0.195</td>\n",
       "\t\t<td>0.2197</td>\n",
       "\t\t<td>0.6875</td>\n",
       "\t\t<td>0.113837</td>\n",
       "\t\t<td>15</td>\n",
       "\t\t<td>416</td>\n",
       "\t\t<td>431</td>\n",
       "\t</tr>\n",
       "\t<tr>\n",
       "\t\t<td>8</td>\n",
       "\t\t<td>11/01/08</td>\n",
       "\t\t<td>1</td>\n",
       "\t\t<td>0</td>\n",
       "\t\t<td>1</td>\n",
       "\t\t<td>0</td>\n",
       "\t\t<td>6</td>\n",
       "\t\t<td>0</td>\n",
       "\t\t<td>2</td>\n",
       "\t\t<td>0.165</td>\n",
       "\t\t<td>0.162254</td>\n",
       "\t\t<td>0.535833</td>\n",
       "\t\t<td>0.266804</td>\n",
       "\t\t<td>68</td>\n",
       "\t\t<td>891</td>\n",
       "\t\t<td>959</td>\n",
       "\t</tr>\n",
       "\t<tr>\n",
       "\t\t<td>7</td>\n",
       "\t\t<td>11/01/07</td>\n",
       "\t\t<td>1</td>\n",
       "\t\t<td>0</td>\n",
       "\t\t<td>1</td>\n",
       "\t\t<td>0</td>\n",
       "\t\t<td>5</td>\n",
       "\t\t<td>1</td>\n",
       "\t\t<td>2</td>\n",
       "\t\t<td>0.196522</td>\n",
       "\t\t<td>0.208839</td>\n",
       "\t\t<td>0.498696</td>\n",
       "\t\t<td>0.168726</td>\n",
       "\t\t<td>148</td>\n",
       "\t\t<td>1362</td>\n",
       "\t\t<td>1510</td>\n",
       "\t</tr>\n",
       "</table></html>"
      ],
      "text/plain": [
       "           dteday  season  yr  mnth  holiday  weekday  workingday  weathersit      temp     atemp       hum  windspeed  casual  registered   cnt\n",
       "instant                                                                                                                                         \n",
       "18       11/01/18       1   0     1        0        2           1           2  0.216667  0.232333  0.861667   0.146775       9         674   683\n",
       "29       11/01/29       1   0     1        0        6           0           1  0.196522  0.212126  0.651739   0.145365     123         975  1098\n",
       "31       11/01/31       1   0     1        0        1           1           2  0.180833  0.186250  0.603750   0.187192      42        1459  1501\n",
       "35       11/02/04       1   0     2        0        5           1           2  0.211304  0.228587  0.585217   0.127839      88        1620  1708\n",
       "46       11/02/15       1   0     2        0        2           1           1  0.266087  0.254274  0.314348   0.291374     140        1675  1815\n",
       "47       11/02/16       1   0     2        0        3           1           1  0.318261  0.316200  0.423478   0.251791     218        1897  2115\n",
       "37       11/02/06       1   0     2        0        0           0           1  0.285833  0.291671  0.568333   0.141800     354        1269  1623\n",
       "27       11/01/27       1   0     1        0        4           1           1  0.195000  0.219700  0.687500   0.113837      15         416   431\n",
       "8        11/01/08       1   0     1        0        6           0           2  0.165000  0.162254  0.535833   0.266804      68         891   959\n",
       "7        11/01/07       1   0     1        0        5           1           2  0.196522  0.208839  0.498696   0.168726     148        1362  1510"
      ]
     },
     "execution_count": 15,
     "metadata": {},
     "output_type": "execute_result"
    }
   ],
   "source": [
    "# test dataset\n",
    "bike_df_test.head()"
   ]
  },
  {
   "cell_type": "markdown",
   "id": "856ea871-93d8-4ea2-b524-1acb23bd7eb5",
   "metadata": {},
   "source": [
    "## <b><span style='color:#F1A424'>| 2.</span> Fitting AutoML </b>"
   ]
  },
  {
   "cell_type": "code",
   "execution_count": 16,
   "id": "f3650aa5-a408-4227-a88d-79c0f3d36d3c",
   "metadata": {},
   "outputs": [],
   "source": [
    "# Creating AutoML instance\n",
    "# Using all models from model training.\n",
    "# Keeping early stopping criteria max_models as 8\n",
    "# and verbose level 2 for detailed loggging\n",
    "\n",
    "aml = AutoML(max_models=8, \n",
    "             verbose=2)"
   ]
  },
  {
   "cell_type": "code",
   "execution_count": 17,
   "id": "a1b7a771-1bfa-40c9-8ad0-c377d320c137",
   "metadata": {
    "tags": []
   },
   "outputs": [
    {
     "name": "stdout",
     "output_type": "stream",
     "text": [
      "\n",
      "Task type is set to Regression as target column is having distinct values greater than 20.\n"
     ]
    },
    {
     "data": {
      "text/html": [
       "\n",
       "            <style>\n",
       "                .custom-div {\n",
       "                    background-color: lightgray;\n",
       "                    color: #000000;\n",
       "                    padding: 10px;\n",
       "                    border-radius: 8px;\n",
       "                    box-shadow: 0 3px 4px rgba(0, 0, 0, 0.2);\n",
       "                    margin-bottom: 10px;\n",
       "                    text-align: center;\n",
       "                }\n",
       "            </style>\n",
       "        <br><div class=\"custom-div\"><h3><span style=\"color: green;\"></span>1. Feature Exploration -> 2. Feature Engineering -> 3. Data Preparation -> 4. Model Training & Evaluation<center></h3></center></div>"
      ],
      "text/plain": [
       "<IPython.core.display.HTML object>"
      ]
     },
     "metadata": {},
     "output_type": "display_data"
    },
    {
     "name": "stdout",
     "output_type": "stream",
     "text": [
      "Feature Exploration started ...\n",
      "\n",
      "Data Overview:\n",
      "Total Rows in the data: 585\n",
      "Total Columns in the data: 16\n",
      "Identified Date Columns:\n"
     ]
    },
    {
     "data": {
      "text/plain": [
       "['dteday']"
      ]
     },
     "metadata": {},
     "output_type": "display_data"
    },
    {
     "name": "stdout",
     "output_type": "stream",
     "text": [
      "\n",
      "Column Summary:\n"
     ]
    },
    {
     "data": {
      "text/html": [
       "<style type=\"text/css\">\n",
       "\ttable {border:ridge 5px;}\n",
       "\ttable td {border:inset 1px;}\n",
       "\ttable tr#HeaderRow {background-color:grey; color:white;}</style>\n",
       "<html><table>\n",
       "\t<tr id=\"HeaderRow\">\n",
       "\t\t<th>ColumnName</th>\n",
       "\t\t<th>Datatype</th>\n",
       "\t\t<th>NonNullCount</th>\n",
       "\t\t<th>NullCount</th>\n",
       "\t\t<th>BlankCount</th>\n",
       "\t\t<th>ZeroCount</th>\n",
       "\t\t<th>PositiveCount</th>\n",
       "\t\t<th>NegativeCount</th>\n",
       "\t\t<th>NullPercentage</th>\n",
       "\t\t<th>NonNullPercentage</th>\n",
       "\t</tr>\n",
       "\t<tr>\n",
       "\t\t<td>casual</td>\n",
       "\t\t<td>BIGINT</td>\n",
       "\t\t<td>585</td>\n",
       "\t\t<td>0</td>\n",
       "\t\t<td>None</td>\n",
       "\t\t<td>0</td>\n",
       "\t\t<td>585</td>\n",
       "\t\t<td>0</td>\n",
       "\t\t<td>0.0</td>\n",
       "\t\t<td>100.0</td>\n",
       "\t</tr>\n",
       "\t<tr>\n",
       "\t\t<td>season</td>\n",
       "\t\t<td>BIGINT</td>\n",
       "\t\t<td>585</td>\n",
       "\t\t<td>0</td>\n",
       "\t\t<td>None</td>\n",
       "\t\t<td>0</td>\n",
       "\t\t<td>585</td>\n",
       "\t\t<td>0</td>\n",
       "\t\t<td>0.0</td>\n",
       "\t\t<td>100.0</td>\n",
       "\t</tr>\n",
       "\t<tr>\n",
       "\t\t<td>holiday</td>\n",
       "\t\t<td>BIGINT</td>\n",
       "\t\t<td>585</td>\n",
       "\t\t<td>0</td>\n",
       "\t\t<td>None</td>\n",
       "\t\t<td>568</td>\n",
       "\t\t<td>17</td>\n",
       "\t\t<td>0</td>\n",
       "\t\t<td>0.0</td>\n",
       "\t\t<td>100.0</td>\n",
       "\t</tr>\n",
       "\t<tr>\n",
       "\t\t<td>weathersit</td>\n",
       "\t\t<td>BIGINT</td>\n",
       "\t\t<td>585</td>\n",
       "\t\t<td>0</td>\n",
       "\t\t<td>None</td>\n",
       "\t\t<td>0</td>\n",
       "\t\t<td>585</td>\n",
       "\t\t<td>0</td>\n",
       "\t\t<td>0.0</td>\n",
       "\t\t<td>100.0</td>\n",
       "\t</tr>\n",
       "\t<tr>\n",
       "\t\t<td>workingday</td>\n",
       "\t\t<td>BIGINT</td>\n",
       "\t\t<td>585</td>\n",
       "\t\t<td>0</td>\n",
       "\t\t<td>None</td>\n",
       "\t\t<td>186</td>\n",
       "\t\t<td>399</td>\n",
       "\t\t<td>0</td>\n",
       "\t\t<td>0.0</td>\n",
       "\t\t<td>100.0</td>\n",
       "\t</tr>\n",
       "\t<tr>\n",
       "\t\t<td>instant</td>\n",
       "\t\t<td>BIGINT</td>\n",
       "\t\t<td>585</td>\n",
       "\t\t<td>0</td>\n",
       "\t\t<td>None</td>\n",
       "\t\t<td>0</td>\n",
       "\t\t<td>585</td>\n",
       "\t\t<td>0</td>\n",
       "\t\t<td>0.0</td>\n",
       "\t\t<td>100.0</td>\n",
       "\t</tr>\n",
       "\t<tr>\n",
       "\t\t<td>atemp</td>\n",
       "\t\t<td>FLOAT</td>\n",
       "\t\t<td>585</td>\n",
       "\t\t<td>0</td>\n",
       "\t\t<td>None</td>\n",
       "\t\t<td>0</td>\n",
       "\t\t<td>585</td>\n",
       "\t\t<td>0</td>\n",
       "\t\t<td>0.0</td>\n",
       "\t\t<td>100.0</td>\n",
       "\t</tr>\n",
       "\t<tr>\n",
       "\t\t<td>cnt</td>\n",
       "\t\t<td>BIGINT</td>\n",
       "\t\t<td>585</td>\n",
       "\t\t<td>0</td>\n",
       "\t\t<td>None</td>\n",
       "\t\t<td>0</td>\n",
       "\t\t<td>585</td>\n",
       "\t\t<td>0</td>\n",
       "\t\t<td>0.0</td>\n",
       "\t\t<td>100.0</td>\n",
       "\t</tr>\n",
       "\t<tr>\n",
       "\t\t<td>yr</td>\n",
       "\t\t<td>BIGINT</td>\n",
       "\t\t<td>585</td>\n",
       "\t\t<td>0</td>\n",
       "\t\t<td>None</td>\n",
       "\t\t<td>287</td>\n",
       "\t\t<td>298</td>\n",
       "\t\t<td>0</td>\n",
       "\t\t<td>0.0</td>\n",
       "\t\t<td>100.0</td>\n",
       "\t</tr>\n",
       "\t<tr>\n",
       "\t\t<td>windspeed</td>\n",
       "\t\t<td>FLOAT</td>\n",
       "\t\t<td>585</td>\n",
       "\t\t<td>0</td>\n",
       "\t\t<td>None</td>\n",
       "\t\t<td>0</td>\n",
       "\t\t<td>585</td>\n",
       "\t\t<td>0</td>\n",
       "\t\t<td>0.0</td>\n",
       "\t\t<td>100.0</td>\n",
       "\t</tr>\n",
       "\t<tr>\n",
       "\t\t<td>weekday</td>\n",
       "\t\t<td>BIGINT</td>\n",
       "\t\t<td>585</td>\n",
       "\t\t<td>0</td>\n",
       "\t\t<td>None</td>\n",
       "\t\t<td>83</td>\n",
       "\t\t<td>502</td>\n",
       "\t\t<td>0</td>\n",
       "\t\t<td>0.0</td>\n",
       "\t\t<td>100.0</td>\n",
       "\t</tr>\n",
       "\t<tr>\n",
       "\t\t<td>registered</td>\n",
       "\t\t<td>BIGINT</td>\n",
       "\t\t<td>585</td>\n",
       "\t\t<td>0</td>\n",
       "\t\t<td>None</td>\n",
       "\t\t<td>0</td>\n",
       "\t\t<td>585</td>\n",
       "\t\t<td>0</td>\n",
       "\t\t<td>0.0</td>\n",
       "\t\t<td>100.0</td>\n",
       "\t</tr>\n",
       "\t<tr>\n",
       "\t\t<td>mnth</td>\n",
       "\t\t<td>BIGINT</td>\n",
       "\t\t<td>585</td>\n",
       "\t\t<td>0</td>\n",
       "\t\t<td>None</td>\n",
       "\t\t<td>0</td>\n",
       "\t\t<td>585</td>\n",
       "\t\t<td>0</td>\n",
       "\t\t<td>0.0</td>\n",
       "\t\t<td>100.0</td>\n",
       "\t</tr>\n",
       "\t<tr>\n",
       "\t\t<td>dteday</td>\n",
       "\t\t<td>DATE</td>\n",
       "\t\t<td>585</td>\n",
       "\t\t<td>0</td>\n",
       "\t\t<td>None</td>\n",
       "\t\t<td>None</td>\n",
       "\t\t<td>None</td>\n",
       "\t\t<td>None</td>\n",
       "\t\t<td>0.0</td>\n",
       "\t\t<td>100.0</td>\n",
       "\t</tr>\n",
       "\t<tr>\n",
       "\t\t<td>hum</td>\n",
       "\t\t<td>FLOAT</td>\n",
       "\t\t<td>585</td>\n",
       "\t\t<td>0</td>\n",
       "\t\t<td>None</td>\n",
       "\t\t<td>1</td>\n",
       "\t\t<td>584</td>\n",
       "\t\t<td>0</td>\n",
       "\t\t<td>0.0</td>\n",
       "\t\t<td>100.0</td>\n",
       "\t</tr>\n",
       "\t<tr>\n",
       "\t\t<td>temp</td>\n",
       "\t\t<td>FLOAT</td>\n",
       "\t\t<td>585</td>\n",
       "\t\t<td>0</td>\n",
       "\t\t<td>None</td>\n",
       "\t\t<td>0</td>\n",
       "\t\t<td>585</td>\n",
       "\t\t<td>0</td>\n",
       "\t\t<td>0.0</td>\n",
       "\t\t<td>100.0</td>\n",
       "\t</tr>\n",
       "</table></html>"
      ],
      "text/plain": [
       "    ColumnName Datatype  NonNullCount  NullCount BlankCount  ZeroCount  PositiveCount  NegativeCount  NullPercentage  NonNullPercentage\n",
       "0       casual   BIGINT           585          0       None        0.0          585.0            0.0             0.0              100.0\n",
       "1       season   BIGINT           585          0       None        0.0          585.0            0.0             0.0              100.0\n",
       "2      holiday   BIGINT           585          0       None      568.0           17.0            0.0             0.0              100.0\n",
       "3   weathersit   BIGINT           585          0       None        0.0          585.0            0.0             0.0              100.0\n",
       "4   workingday   BIGINT           585          0       None      186.0          399.0            0.0             0.0              100.0\n",
       "5      instant   BIGINT           585          0       None        0.0          585.0            0.0             0.0              100.0\n",
       "6        atemp    FLOAT           585          0       None        0.0          585.0            0.0             0.0              100.0\n",
       "7          cnt   BIGINT           585          0       None        0.0          585.0            0.0             0.0              100.0\n",
       "8           yr   BIGINT           585          0       None      287.0          298.0            0.0             0.0              100.0\n",
       "9    windspeed    FLOAT           585          0       None        0.0          585.0            0.0             0.0              100.0\n",
       "10     weekday   BIGINT           585          0       None       83.0          502.0            0.0             0.0              100.0\n",
       "11  registered   BIGINT           585          0       None        0.0          585.0            0.0             0.0              100.0\n",
       "12        mnth   BIGINT           585          0       None        0.0          585.0            0.0             0.0              100.0\n",
       "13      dteday     DATE           585          0       None        NaN            NaN            NaN             0.0              100.0\n",
       "14         hum    FLOAT           585          0       None        1.0          584.0            0.0             0.0              100.0\n",
       "15        temp    FLOAT           585          0       None        0.0          585.0            0.0             0.0              100.0"
      ]
     },
     "metadata": {},
     "output_type": "display_data"
    },
    {
     "name": "stdout",
     "output_type": "stream",
     "text": [
      "\n",
      "Statistics of Data:\n"
     ]
    },
    {
     "data": {
      "text/html": [
       "<style type=\"text/css\">\n",
       "\ttable {border:ridge 5px;}\n",
       "\ttable td {border:inset 1px;}\n",
       "\ttable tr#HeaderRow {background-color:grey; color:white;}</style>\n",
       "<html><table>\n",
       "\t<tr id=\"HeaderRow\">\n",
       "\t\t<th>func</th>\n",
       "\t\t<th>instant</th>\n",
       "\t\t<th>season</th>\n",
       "\t\t<th>yr</th>\n",
       "\t\t<th>mnth</th>\n",
       "\t\t<th>holiday</th>\n",
       "\t\t<th>weekday</th>\n",
       "\t\t<th>workingday</th>\n",
       "\t\t<th>weathersit</th>\n",
       "\t\t<th>temp</th>\n",
       "\t\t<th>atemp</th>\n",
       "\t\t<th>hum</th>\n",
       "\t\t<th>windspeed</th>\n",
       "\t\t<th>casual</th>\n",
       "\t\t<th>registered</th>\n",
       "\t\t<th>cnt</th>\n",
       "\t</tr>\n",
       "\t<tr>\n",
       "\t\t<td>std</td>\n",
       "\t\t<td>208.881</td>\n",
       "\t\t<td>1.097</td>\n",
       "\t\t<td>0.5</td>\n",
       "\t\t<td>3.415</td>\n",
       "\t\t<td>0.168</td>\n",
       "\t\t<td>2</td>\n",
       "\t\t<td>0.466</td>\n",
       "\t\t<td>0.54</td>\n",
       "\t\t<td>0.181</td>\n",
       "\t\t<td>0.161</td>\n",
       "\t\t<td>0.141</td>\n",
       "\t\t<td>0.077</td>\n",
       "\t\t<td>693.077</td>\n",
       "\t\t<td>1561.647</td>\n",
       "\t\t<td>1937.537</td>\n",
       "\t</tr>\n",
       "\t<tr>\n",
       "\t\t<td>25%</td>\n",
       "\t\t<td>190</td>\n",
       "\t\t<td>2</td>\n",
       "\t\t<td>0</td>\n",
       "\t\t<td>4</td>\n",
       "\t\t<td>0</td>\n",
       "\t\t<td>1</td>\n",
       "\t\t<td>0</td>\n",
       "\t\t<td>1</td>\n",
       "\t\t<td>0.342</td>\n",
       "\t\t<td>0.339</td>\n",
       "\t\t<td>0.519</td>\n",
       "\t\t<td>0.135</td>\n",
       "\t\t<td>318</td>\n",
       "\t\t<td>2553</td>\n",
       "\t\t<td>3194</td>\n",
       "\t</tr>\n",
       "\t<tr>\n",
       "\t\t<td>50%</td>\n",
       "\t\t<td>372</td>\n",
       "\t\t<td>3</td>\n",
       "\t\t<td>1</td>\n",
       "\t\t<td>7</td>\n",
       "\t\t<td>0</td>\n",
       "\t\t<td>3</td>\n",
       "\t\t<td>1</td>\n",
       "\t\t<td>1</td>\n",
       "\t\t<td>0.511</td>\n",
       "\t\t<td>0.494</td>\n",
       "\t\t<td>0.628</td>\n",
       "\t\t<td>0.182</td>\n",
       "\t\t<td>745</td>\n",
       "\t\t<td>3667</td>\n",
       "\t\t<td>4586</td>\n",
       "\t</tr>\n",
       "\t<tr>\n",
       "\t\t<td>75%</td>\n",
       "\t\t<td>549</td>\n",
       "\t\t<td>3</td>\n",
       "\t\t<td>1</td>\n",
       "\t\t<td>9</td>\n",
       "\t\t<td>0</td>\n",
       "\t\t<td>5</td>\n",
       "\t\t<td>1</td>\n",
       "\t\t<td>2</td>\n",
       "\t\t<td>0.655</td>\n",
       "\t\t<td>0.608</td>\n",
       "\t\t<td>0.734</td>\n",
       "\t\t<td>0.234</td>\n",
       "\t\t<td>1139</td>\n",
       "\t\t<td>4857</td>\n",
       "\t\t<td>6034</td>\n",
       "\t</tr>\n",
       "\t<tr>\n",
       "\t\t<td>max</td>\n",
       "\t\t<td>731</td>\n",
       "\t\t<td>4</td>\n",
       "\t\t<td>1</td>\n",
       "\t\t<td>12</td>\n",
       "\t\t<td>1</td>\n",
       "\t\t<td>6</td>\n",
       "\t\t<td>1</td>\n",
       "\t\t<td>3</td>\n",
       "\t\t<td>0.849</td>\n",
       "\t\t<td>0.826</td>\n",
       "\t\t<td>0.973</td>\n",
       "\t\t<td>0.422</td>\n",
       "\t\t<td>3283</td>\n",
       "\t\t<td>6946</td>\n",
       "\t\t<td>8714</td>\n",
       "\t</tr>\n",
       "\t<tr>\n",
       "\t\t<td>min</td>\n",
       "\t\t<td>1</td>\n",
       "\t\t<td>1</td>\n",
       "\t\t<td>0</td>\n",
       "\t\t<td>1</td>\n",
       "\t\t<td>0</td>\n",
       "\t\t<td>0</td>\n",
       "\t\t<td>0</td>\n",
       "\t\t<td>1</td>\n",
       "\t\t<td>0.059</td>\n",
       "\t\t<td>0.079</td>\n",
       "\t\t<td>0</td>\n",
       "\t\t<td>0.022</td>\n",
       "\t\t<td>9</td>\n",
       "\t\t<td>432</td>\n",
       "\t\t<td>441</td>\n",
       "\t</tr>\n",
       "\t<tr>\n",
       "\t\t<td>mean</td>\n",
       "\t\t<td>368.679</td>\n",
       "\t\t<td>2.504</td>\n",
       "\t\t<td>0.509</td>\n",
       "\t\t<td>6.499</td>\n",
       "\t\t<td>0.029</td>\n",
       "\t\t<td>3.002</td>\n",
       "\t\t<td>0.682</td>\n",
       "\t\t<td>1.398</td>\n",
       "\t\t<td>0.497</td>\n",
       "\t\t<td>0.476</td>\n",
       "\t\t<td>0.628</td>\n",
       "\t\t<td>0.19</td>\n",
       "\t\t<td>867.009</td>\n",
       "\t\t<td>3702.559</td>\n",
       "\t\t<td>4569.568</td>\n",
       "\t</tr>\n",
       "\t<tr>\n",
       "\t\t<td>count</td>\n",
       "\t\t<td>585</td>\n",
       "\t\t<td>585</td>\n",
       "\t\t<td>585</td>\n",
       "\t\t<td>585</td>\n",
       "\t\t<td>585</td>\n",
       "\t\t<td>585</td>\n",
       "\t\t<td>585</td>\n",
       "\t\t<td>585</td>\n",
       "\t\t<td>585</td>\n",
       "\t\t<td>585</td>\n",
       "\t\t<td>585</td>\n",
       "\t\t<td>585</td>\n",
       "\t\t<td>585</td>\n",
       "\t\t<td>585</td>\n",
       "\t\t<td>585</td>\n",
       "\t</tr>\n",
       "</table></html>"
      ],
      "text/plain": [
       "       instant   season       yr     mnth  holiday  weekday  workingday  weathersit     temp    atemp      hum  windspeed    casual  registered       cnt\n",
       "func                                                                                                                                                     \n",
       "std    208.881    1.097    0.500    3.415    0.168    2.000       0.466       0.540    0.181    0.161    0.141      0.077   693.077    1561.647  1937.537\n",
       "25%    190.000    2.000    0.000    4.000    0.000    1.000       0.000       1.000    0.342    0.339    0.519      0.135   318.000    2553.000  3194.000\n",
       "50%    372.000    3.000    1.000    7.000    0.000    3.000       1.000       1.000    0.511    0.494    0.628      0.182   745.000    3667.000  4586.000\n",
       "75%    549.000    3.000    1.000    9.000    0.000    5.000       1.000       2.000    0.655    0.608    0.734      0.234  1139.000    4857.000  6034.000\n",
       "max    731.000    4.000    1.000   12.000    1.000    6.000       1.000       3.000    0.849    0.826    0.973      0.422  3283.000    6946.000  8714.000\n",
       "min      1.000    1.000    0.000    1.000    0.000    0.000       0.000       1.000    0.059    0.079    0.000      0.022     9.000     432.000   441.000\n",
       "mean   368.679    2.504    0.509    6.499    0.029    3.002       0.682       1.398    0.497    0.476    0.628      0.190   867.009    3702.559  4569.568\n",
       "count  585.000  585.000  585.000  585.000  585.000  585.000     585.000     585.000  585.000  585.000  585.000    585.000   585.000     585.000   585.000"
      ]
     },
     "metadata": {},
     "output_type": "display_data"
    },
    {
     "name": "stdout",
     "output_type": "stream",
     "text": [
      "\n",
      "Target Column Distribution:\n"
     ]
    },
    {
     "data": {
      "image/png": "[encoded data removed]",
      "text/plain": [
       "<Figure size 800x600 with 1 Axes>"
      ]
     },
     "metadata": {},
     "output_type": "display_data"
    },
    {
     "name": "stdout",
     "output_type": "stream",
     "text": [
      "Columns with outlier percentage :-                                                                                                                                                                                                                                                                                                                                                                                                                                                                                  \n",
      "  ColumnName  OutlierPercentage\n",
      "0    holiday           2.905983\n",
      "1        hum           0.170940\n",
      "2     casual           5.299145\n",
      "3  windspeed           1.880342\n",
      "                                                                                        \r"
     ]
    },
    {
     "data": {
      "text/html": [
       "\n",
       "            <style>\n",
       "                .custom-div {\n",
       "                    background-color: lightgray;\n",
       "                    color: #000000;\n",
       "                    padding: 10px;\n",
       "                    border-radius: 8px;\n",
       "                    box-shadow: 0 3px 4px rgba(0 -  0 -  0 -  0.2);\n",
       "                    margin-bottom: 10px;\n",
       "                    text-align: center;\n",
       "                }\n",
       "            </style>\n",
       "        <br><div class=\"custom-div\"><h3><span style=\"color: green;\">1. Feature Exploration -></span> 2. Feature Engineering -> 3. Data Preparation -> 4. Model Training & Evaluation<center></h3></center></div>"
      ],
      "text/plain": [
       "<IPython.core.display.HTML object>"
      ]
     },
     "metadata": {},
     "output_type": "display_data"
    },
    {
     "name": "stdout",
     "output_type": "stream",
     "text": [
      "                                                                                        \r"
     ]
    },
    {
     "data": {
      "text/html": [
       "Feature Engineering started ..."
      ],
      "text/plain": [
       "<IPython.core.display.HTML object>"
      ]
     },
     "metadata": {},
     "output_type": "display_data"
    },
    {
     "name": "stdout",
     "output_type": "stream",
     "text": [
      "                                                                                        \r"
     ]
    },
    {
     "data": {
      "text/html": [
       "\n",
       "Handling duplicate records present in dataset ..."
      ],
      "text/plain": [
       "<IPython.core.display.HTML object>"
      ]
     },
     "metadata": {},
     "output_type": "display_data"
    },
    {
     "name": "stdout",
     "output_type": "stream",
     "text": [
      "Analysis completed. No action taken.                                                    \n",
      "                                                                                        \r"
     ]
    },
    {
     "data": {
      "text/html": [
       "Total time to handle duplicate records: 1.59 sec  "
      ],
      "text/plain": [
       "<IPython.core.display.HTML object>"
      ]
     },
     "metadata": {},
     "output_type": "display_data"
    },
    {
     "name": "stdout",
     "output_type": "stream",
     "text": [
      "                                                                                        \r"
     ]
    },
    {
     "data": {
      "text/html": [
       "\n",
       "Handling less significant features from data ..."
      ],
      "text/plain": [
       "<IPython.core.display.HTML object>"
      ]
     },
     "metadata": {},
     "output_type": "display_data"
    },
    {
     "name": "stdout",
     "output_type": "stream",
     "text": [
      "                                                                                        \r"
     ]
    },
    {
     "data": {
      "text/html": [
       "Total time to handle less significant features: 5.98 sec  "
      ],
      "text/plain": [
       "<IPython.core.display.HTML object>"
      ]
     },
     "metadata": {},
     "output_type": "display_data"
    },
    {
     "name": "stdout",
     "output_type": "stream",
     "text": [
      "                                                                                         \r"
     ]
    },
    {
     "data": {
      "text/html": [
       "\n",
       "Handling Date Features ..."
      ],
      "text/plain": [
       "<IPython.core.display.HTML object>"
      ]
     },
     "metadata": {},
     "output_type": "display_data"
    },
    {
     "name": "stdout",
     "output_type": "stream",
     "text": [
      "                                                                                         \r"
     ]
    },
    {
     "data": {
      "text/html": [
       "\n",
       "Dropping missing values for:"
      ],
      "text/plain": [
       "<IPython.core.display.HTML object>"
      ]
     },
     "metadata": {},
     "output_type": "display_data"
    },
    {
     "name": "stdout",
     "output_type": "stream",
     "text": [
      "['dteday']\n",
      "                                                                                         \r"
     ]
    },
    {
     "data": {
      "text/html": [
       "Dropping date features with all unique value:"
      ],
      "text/plain": [
       "<IPython.core.display.HTML object>"
      ]
     },
     "metadata": {},
     "output_type": "display_data"
    },
    {
     "name": "stdout",
     "output_type": "stream",
     "text": [
      "['dteday']\n",
      "No useful date feature found                                                             \n",
      "                                                                                         \r"
     ]
    },
    {
     "data": {
      "text/html": [
       "Total time to handle date features: 3.45 sec\n"
      ],
      "text/plain": [
       "<IPython.core.display.HTML object>"
      ]
     },
     "metadata": {},
     "output_type": "display_data"
    },
    {
     "name": "stdout",
     "output_type": "stream",
     "text": [
      "                                                                                         \r"
     ]
    },
    {
     "data": {
      "text/html": [
       "\n",
       "Checking Missing values in dataset ..."
      ],
      "text/plain": [
       "<IPython.core.display.HTML object>"
      ]
     },
     "metadata": {},
     "output_type": "display_data"
    },
    {
     "name": "stdout",
     "output_type": "stream",
     "text": [
      "Analysis Completed. No Missing Values Detected.                                          \n",
      "                                                                                         \r"
     ]
    },
    {
     "data": {
      "text/html": [
       "Total time to find missing values in data: 8.28 sec  "
      ],
      "text/plain": [
       "<IPython.core.display.HTML object>"
      ]
     },
     "metadata": {},
     "output_type": "display_data"
    },
    {
     "name": "stdout",
     "output_type": "stream",
     "text": [
      "                                                                                         \r"
     ]
    },
    {
     "data": {
      "text/html": [
       "\n",
       "Imputing Missing Values ..."
      ],
      "text/plain": [
       "<IPython.core.display.HTML object>"
      ]
     },
     "metadata": {},
     "output_type": "display_data"
    },
    {
     "name": "stdout",
     "output_type": "stream",
     "text": [
      "Analysis completed. No imputation required.                                              \n",
      "                                                                                         \r"
     ]
    },
    {
     "data": {
      "text/html": [
       "Time taken to perform imputation: 0.01 sec  "
      ],
      "text/plain": [
       "<IPython.core.display.HTML object>"
      ]
     },
     "metadata": {},
     "output_type": "display_data"
    },
    {
     "name": "stdout",
     "output_type": "stream",
     "text": [
      "                                                                                         \r"
     ]
    },
    {
     "data": {
      "text/html": [
       "\n",
       "Performing encoding for categorical columns ..."
      ],
      "text/plain": [
       "<IPython.core.display.HTML object>"
      ]
     },
     "metadata": {},
     "output_type": "display_data"
    },
    {
     "name": "stdout",
     "output_type": "stream",
     "text": [
      "Analysis completed. No categorical columns were found.                                   \n",
      "                                                                                         \r"
     ]
    },
    {
     "data": {
      "text/html": [
       "Time taken to encode the columns: 2.03 sec"
      ],
      "text/plain": [
       "<IPython.core.display.HTML object>"
      ]
     },
     "metadata": {},
     "output_type": "display_data"
    },
    {
     "name": "stdout",
     "output_type": "stream",
     "text": [
      "                                                                                         \r"
     ]
    },
    {
     "data": {
      "text/html": [
       "\n",
       "            <style>\n",
       "                .custom-div {\n",
       "                    background-color: lightgray;\n",
       "                    color: #000000;\n",
       "                    padding: 10px;\n",
       "                    border-radius: 8px;\n",
       "                    box-shadow: 0 3px 4px rgba(0 -  0 -  0 -  0.2);\n",
       "                    margin-bottom: 10px;\n",
       "                    text-align: center;\n",
       "                }\n",
       "            </style>\n",
       "        <br><div class=\"custom-div\"><h3><span style=\"color: green;\">1. Feature Exploration -> 2. Feature Engineering -></span> 3. Data Preparation -> 4. Model Training & Evaluation<center></h3></center></div>"
      ],
      "text/plain": [
       "<IPython.core.display.HTML object>"
      ]
     },
     "metadata": {},
     "output_type": "display_data"
    },
    {
     "name": "stdout",
     "output_type": "stream",
     "text": [
      "                                                                                         \r"
     ]
    },
    {
     "data": {
      "text/html": [
       "Data preparation started ..."
      ],
      "text/plain": [
       "<IPython.core.display.HTML object>"
      ]
     },
     "metadata": {},
     "output_type": "display_data"
    },
    {
     "name": "stdout",
     "output_type": "stream",
     "text": [
      "                                                                                         \r"
     ]
    },
    {
     "data": {
      "text/html": [
       "\n",
       "Spliting of dataset into training and testing ..."
      ],
      "text/plain": [
       "<IPython.core.display.HTML object>"
      ]
     },
     "metadata": {},
     "output_type": "display_data"
    },
    {
     "name": "stdout",
     "output_type": "stream",
     "text": [
      "Training size : 0.8                                                                      \n",
      "Testing size  : 0.2                                                                      \n",
      "                                                                                         \r"
     ]
    },
    {
     "data": {
      "text/html": [
       "Training data sample"
      ],
      "text/plain": [
       "<IPython.core.display.HTML object>"
      ]
     },
     "metadata": {},
     "output_type": "display_data"
    },
    {
     "data": {
      "text/html": [
       "<style type=\"text/css\">\n",
       "\ttable {border:ridge 5px;}\n",
       "\ttable td {border:inset 1px;}\n",
       "\ttable tr#HeaderRow {background-color:grey; color:white;}</style>\n",
       "<html><table>\n",
       "\t<tr id=\"HeaderRow\">\n",
       "\t\t<th>instant</th>\n",
       "\t\t<th>season</th>\n",
       "\t\t<th>yr</th>\n",
       "\t\t<th>mnth</th>\n",
       "\t\t<th>holiday</th>\n",
       "\t\t<th>weekday</th>\n",
       "\t\t<th>workingday</th>\n",
       "\t\t<th>weathersit</th>\n",
       "\t\t<th>temp</th>\n",
       "\t\t<th>atemp</th>\n",
       "\t\t<th>hum</th>\n",
       "\t\t<th>windspeed</th>\n",
       "\t\t<th>casual</th>\n",
       "\t\t<th>registered</th>\n",
       "\t\t<th>cnt</th>\n",
       "\t\t<th>id</th>\n",
       "\t</tr>\n",
       "\t<tr>\n",
       "\t\t<td>530</td>\n",
       "\t\t<td>2</td>\n",
       "\t\t<td>1</td>\n",
       "\t\t<td>6</td>\n",
       "\t\t<td>0</td>\n",
       "\t\t<td>3</td>\n",
       "\t\t<td>1</td>\n",
       "\t\t<td>1</td>\n",
       "\t\t<td>0.655833</td>\n",
       "\t\t<td>0.611117</td>\n",
       "\t\t<td>0.582083</td>\n",
       "\t\t<td>0.343279</td>\n",
       "\t\t<td>1173</td>\n",
       "\t\t<td>6248</td>\n",
       "\t\t<td>7421</td>\n",
       "\t\t<td>9</td>\n",
       "\t</tr>\n",
       "\t<tr>\n",
       "\t\t<td>40</td>\n",
       "\t\t<td>1</td>\n",
       "\t\t<td>0</td>\n",
       "\t\t<td>2</td>\n",
       "\t\t<td>0</td>\n",
       "\t\t<td>3</td>\n",
       "\t\t<td>1</td>\n",
       "\t\t<td>2</td>\n",
       "\t\t<td>0.134783</td>\n",
       "\t\t<td>0.144283</td>\n",
       "\t\t<td>0.494783</td>\n",
       "\t\t<td>0.188839</td>\n",
       "\t\t<td>53</td>\n",
       "\t\t<td>1552</td>\n",
       "\t\t<td>1605</td>\n",
       "\t\t<td>10</td>\n",
       "\t</tr>\n",
       "\t<tr>\n",
       "\t\t<td>631</td>\n",
       "\t\t<td>3</td>\n",
       "\t\t<td>1</td>\n",
       "\t\t<td>9</td>\n",
       "\t\t<td>0</td>\n",
       "\t\t<td>6</td>\n",
       "\t\t<td>0</td>\n",
       "\t\t<td>1</td>\n",
       "\t\t<td>0.65</td>\n",
       "\t\t<td>0.610488</td>\n",
       "\t\t<td>0.646667</td>\n",
       "\t\t<td>0.283583</td>\n",
       "\t\t<td>2512</td>\n",
       "\t\t<td>5883</td>\n",
       "\t\t<td>8395</td>\n",
       "\t\t<td>18</td>\n",
       "\t</tr>\n",
       "\t<tr>\n",
       "\t\t<td>38</td>\n",
       "\t\t<td>1</td>\n",
       "\t\t<td>0</td>\n",
       "\t\t<td>2</td>\n",
       "\t\t<td>0</td>\n",
       "\t\t<td>1</td>\n",
       "\t\t<td>1</td>\n",
       "\t\t<td>1</td>\n",
       "\t\t<td>0.271667</td>\n",
       "\t\t<td>0.303658</td>\n",
       "\t\t<td>0.738333</td>\n",
       "\t\t<td>0.0454083</td>\n",
       "\t\t<td>120</td>\n",
       "\t\t<td>1592</td>\n",
       "\t\t<td>1712</td>\n",
       "\t\t<td>12</td>\n",
       "\t</tr>\n",
       "\t<tr>\n",
       "\t\t<td>122</td>\n",
       "\t\t<td>2</td>\n",
       "\t\t<td>0</td>\n",
       "\t\t<td>5</td>\n",
       "\t\t<td>0</td>\n",
       "\t\t<td>1</td>\n",
       "\t\t<td>1</td>\n",
       "\t\t<td>2</td>\n",
       "\t\t<td>0.549167</td>\n",
       "\t\t<td>0.532833</td>\n",
       "\t\t<td>0.73</td>\n",
       "\t\t<td>0.183454</td>\n",
       "\t\t<td>847</td>\n",
       "\t\t<td>3554</td>\n",
       "\t\t<td>4401</td>\n",
       "\t\t<td>11</td>\n",
       "\t</tr>\n",
       "\t<tr>\n",
       "\t\t<td>591</td>\n",
       "\t\t<td>3</td>\n",
       "\t\t<td>1</td>\n",
       "\t\t<td>8</td>\n",
       "\t\t<td>0</td>\n",
       "\t\t<td>1</td>\n",
       "\t\t<td>1</td>\n",
       "\t\t<td>1</td>\n",
       "\t\t<td>0.720833</td>\n",
       "\t\t<td>0.662254</td>\n",
       "\t\t<td>0.545417</td>\n",
       "\t\t<td>0.136212</td>\n",
       "\t\t<td>1207</td>\n",
       "\t\t<td>5676</td>\n",
       "\t\t<td>6883</td>\n",
       "\t\t<td>19</td>\n",
       "\t</tr>\n",
       "\t<tr>\n",
       "\t\t<td>326</td>\n",
       "\t\t<td>4</td>\n",
       "\t\t<td>0</td>\n",
       "\t\t<td>11</td>\n",
       "\t\t<td>0</td>\n",
       "\t\t<td>2</td>\n",
       "\t\t<td>1</td>\n",
       "\t\t<td>3</td>\n",
       "\t\t<td>0.416667</td>\n",
       "\t\t<td>0.421696</td>\n",
       "\t\t<td>0.9625</td>\n",
       "\t\t<td>0.118792</td>\n",
       "\t\t<td>69</td>\n",
       "\t\t<td>1538</td>\n",
       "\t\t<td>1607</td>\n",
       "\t\t<td>13</td>\n",
       "\t</tr>\n",
       "\t<tr>\n",
       "\t\t<td>385</td>\n",
       "\t\t<td>1</td>\n",
       "\t\t<td>1</td>\n",
       "\t\t<td>1</td>\n",
       "\t\t<td>0</td>\n",
       "\t\t<td>5</td>\n",
       "\t\t<td>1</td>\n",
       "\t\t<td>2</td>\n",
       "\t\t<td>0.2175</td>\n",
       "\t\t<td>0.220958</td>\n",
       "\t\t<td>0.45</td>\n",
       "\t\t<td>0.20275</td>\n",
       "\t\t<td>115</td>\n",
       "\t\t<td>3048</td>\n",
       "\t\t<td>3163</td>\n",
       "\t\t<td>21</td>\n",
       "\t</tr>\n",
       "\t<tr>\n",
       "\t\t<td>570</td>\n",
       "\t\t<td>3</td>\n",
       "\t\t<td>1</td>\n",
       "\t\t<td>7</td>\n",
       "\t\t<td>0</td>\n",
       "\t\t<td>1</td>\n",
       "\t\t<td>1</td>\n",
       "\t\t<td>1</td>\n",
       "\t\t<td>0.741667</td>\n",
       "\t\t<td>0.690017</td>\n",
       "\t\t<td>0.694167</td>\n",
       "\t\t<td>0.138683</td>\n",
       "\t\t<td>1135</td>\n",
       "\t\t<td>5831</td>\n",
       "\t\t<td>6966</td>\n",
       "\t\t<td>15</td>\n",
       "\t</tr>\n",
       "\t<tr>\n",
       "\t\t<td>162</td>\n",
       "\t\t<td>2</td>\n",
       "\t\t<td>0</td>\n",
       "\t\t<td>6</td>\n",
       "\t\t<td>0</td>\n",
       "\t\t<td>6</td>\n",
       "\t\t<td>0</td>\n",
       "\t\t<td>1</td>\n",
       "\t\t<td>0.725</td>\n",
       "\t\t<td>0.678038</td>\n",
       "\t\t<td>0.654583</td>\n",
       "\t\t<td>0.15485</td>\n",
       "\t\t<td>1729</td>\n",
       "\t\t<td>3237</td>\n",
       "\t\t<td>4966</td>\n",
       "\t\t<td>23</td>\n",
       "\t</tr>\n",
       "</table></html>"
      ],
      "text/plain": [
       "   instant  season  yr  mnth  holiday  weekday  workingday  weathersit      temp     atemp       hum  windspeed  casual  registered   cnt  id\n",
       "0      530       2   1     6        0        3           1           1  0.655833  0.611117  0.582083   0.343279    1173        6248  7421   9\n",
       "1       40       1   0     2        0        3           1           2  0.134783  0.144283  0.494783   0.188839      53        1552  1605  10\n",
       "2      631       3   1     9        0        6           0           1  0.650000  0.610488  0.646667   0.283583    2512        5883  8395  18\n",
       "3       38       1   0     2        0        1           1           1  0.271667  0.303658  0.738333   0.045408     120        1592  1712  12\n",
       "4      122       2   0     5        0        1           1           2  0.549167  0.532833  0.730000   0.183454     847        3554  4401  11\n",
       "5      591       3   1     8        0        1           1           1  0.720833  0.662254  0.545417   0.136212    1207        5676  6883  19\n",
       "6      326       4   0    11        0        2           1           3  0.416667  0.421696  0.962500   0.118792      69        1538  1607  13\n",
       "7      385       1   1     1        0        5           1           2  0.217500  0.220958  0.450000   0.202750     115        3048  3163  21\n",
       "8      570       3   1     7        0        1           1           1  0.741667  0.690017  0.694167   0.138683    1135        5831  6966  15\n",
       "9      162       2   0     6        0        6           0           1  0.725000  0.678038  0.654583   0.154850    1729        3237  4966  23"
      ]
     },
     "metadata": {},
     "output_type": "display_data"
    },
    {
     "name": "stdout",
     "output_type": "stream",
     "text": [
      "                                                                                         \r"
     ]
    },
    {
     "data": {
      "text/html": [
       "468 rows X 16 columns"
      ],
      "text/plain": [
       "<IPython.core.display.HTML object>"
      ]
     },
     "metadata": {},
     "output_type": "display_data"
    },
    {
     "name": "stdout",
     "output_type": "stream",
     "text": [
      "                                                                                         \r"
     ]
    },
    {
     "data": {
      "text/html": [
       "Testing data sample"
      ],
      "text/plain": [
       "<IPython.core.display.HTML object>"
      ]
     },
     "metadata": {},
     "output_type": "display_data"
    },
    {
     "data": {
      "text/html": [
       "<style type=\"text/css\">\n",
       "\ttable {border:ridge 5px;}\n",
       "\ttable td {border:inset 1px;}\n",
       "\ttable tr#HeaderRow {background-color:grey; color:white;}</style>\n",
       "<html><table>\n",
       "\t<tr id=\"HeaderRow\">\n",
       "\t\t<th>instant</th>\n",
       "\t\t<th>season</th>\n",
       "\t\t<th>yr</th>\n",
       "\t\t<th>mnth</th>\n",
       "\t\t<th>holiday</th>\n",
       "\t\t<th>weekday</th>\n",
       "\t\t<th>workingday</th>\n",
       "\t\t<th>weathersit</th>\n",
       "\t\t<th>temp</th>\n",
       "\t\t<th>atemp</th>\n",
       "\t\t<th>hum</th>\n",
       "\t\t<th>windspeed</th>\n",
       "\t\t<th>casual</th>\n",
       "\t\t<th>registered</th>\n",
       "\t\t<th>cnt</th>\n",
       "\t\t<th>id</th>\n",
       "\t</tr>\n",
       "\t<tr>\n",
       "\t\t<td>120</td>\n",
       "\t\t<td>2</td>\n",
       "\t\t<td>0</td>\n",
       "\t\t<td>4</td>\n",
       "\t\t<td>0</td>\n",
       "\t\t<td>6</td>\n",
       "\t\t<td>0</td>\n",
       "\t\t<td>1</td>\n",
       "\t\t<td>0.4725</td>\n",
       "\t\t<td>0.464021</td>\n",
       "\t\t<td>0.503333</td>\n",
       "\t\t<td>0.235075</td>\n",
       "\t\t<td>1965</td>\n",
       "\t\t<td>3347</td>\n",
       "\t\t<td>5312</td>\n",
       "\t\t<td>26</td>\n",
       "\t</tr>\n",
       "\t<tr>\n",
       "\t\t<td>425</td>\n",
       "\t\t<td>1</td>\n",
       "\t\t<td>1</td>\n",
       "\t\t<td>2</td>\n",
       "\t\t<td>0</td>\n",
       "\t\t<td>3</td>\n",
       "\t\t<td>1</td>\n",
       "\t\t<td>2</td>\n",
       "\t\t<td>0.344348</td>\n",
       "\t\t<td>0.34847</td>\n",
       "\t\t<td>0.804783</td>\n",
       "\t\t<td>0.179117</td>\n",
       "\t\t<td>65</td>\n",
       "\t\t<td>1769</td>\n",
       "\t\t<td>1834</td>\n",
       "\t\t<td>28</td>\n",
       "\t</tr>\n",
       "\t<tr>\n",
       "\t\t<td>114</td>\n",
       "\t\t<td>2</td>\n",
       "\t\t<td>0</td>\n",
       "\t\t<td>4</td>\n",
       "\t\t<td>0</td>\n",
       "\t\t<td>0</td>\n",
       "\t\t<td>0</td>\n",
       "\t\t<td>2</td>\n",
       "\t\t<td>0.581667</td>\n",
       "\t\t<td>0.551763</td>\n",
       "\t\t<td>0.810833</td>\n",
       "\t\t<td>0.192175</td>\n",
       "\t\t<td>1710</td>\n",
       "\t\t<td>2481</td>\n",
       "\t\t<td>4191</td>\n",
       "\t\t<td>124</td>\n",
       "\t</tr>\n",
       "\t<tr>\n",
       "\t\t<td>427</td>\n",
       "\t\t<td>1</td>\n",
       "\t\t<td>1</td>\n",
       "\t\t<td>3</td>\n",
       "\t\t<td>0</td>\n",
       "\t\t<td>5</td>\n",
       "\t\t<td>1</td>\n",
       "\t\t<td>2</td>\n",
       "\t\t<td>0.353333</td>\n",
       "\t\t<td>0.359842</td>\n",
       "\t\t<td>0.657083</td>\n",
       "\t\t<td>0.144904</td>\n",
       "\t\t<td>246</td>\n",
       "\t\t<td>2948</td>\n",
       "\t\t<td>3194</td>\n",
       "\t\t<td>31</td>\n",
       "\t</tr>\n",
       "\t<tr>\n",
       "\t\t<td>387</td>\n",
       "\t\t<td>1</td>\n",
       "\t\t<td>1</td>\n",
       "\t\t<td>1</td>\n",
       "\t\t<td>0</td>\n",
       "\t\t<td>0</td>\n",
       "\t\t<td>0</td>\n",
       "\t\t<td>2</td>\n",
       "\t\t<td>0.1625</td>\n",
       "\t\t<td>0.16225</td>\n",
       "\t\t<td>0.79625</td>\n",
       "\t\t<td>0.199638</td>\n",
       "\t\t<td>196</td>\n",
       "\t\t<td>1781</td>\n",
       "\t\t<td>1977</td>\n",
       "\t\t<td>27</td>\n",
       "\t</tr>\n",
       "\t<tr>\n",
       "\t\t<td>665</td>\n",
       "\t\t<td>4</td>\n",
       "\t\t<td>1</td>\n",
       "\t\t<td>10</td>\n",
       "\t\t<td>0</td>\n",
       "\t\t<td>5</td>\n",
       "\t\t<td>1</td>\n",
       "\t\t<td>2</td>\n",
       "\t\t<td>0.545833</td>\n",
       "\t\t<td>0.52275</td>\n",
       "\t\t<td>0.807083</td>\n",
       "\t\t<td>0.132467</td>\n",
       "\t\t<td>1182</td>\n",
       "\t\t<td>6262</td>\n",
       "\t\t<td>7444</td>\n",
       "\t\t<td>123</td>\n",
       "\t</tr>\n",
       "\t<tr>\n",
       "\t\t<td>244</td>\n",
       "\t\t<td>3</td>\n",
       "\t\t<td>0</td>\n",
       "\t\t<td>9</td>\n",
       "\t\t<td>0</td>\n",
       "\t\t<td>4</td>\n",
       "\t\t<td>1</td>\n",
       "\t\t<td>1</td>\n",
       "\t\t<td>0.655</td>\n",
       "\t\t<td>0.614921</td>\n",
       "\t\t<td>0.639167</td>\n",
       "\t\t<td>0.141796</td>\n",
       "\t\t<td>783</td>\n",
       "\t\t<td>4332</td>\n",
       "\t\t<td>5115</td>\n",
       "\t\t<td>30</td>\n",
       "\t</tr>\n",
       "\t<tr>\n",
       "\t\t<td>400</td>\n",
       "\t\t<td>1</td>\n",
       "\t\t<td>1</td>\n",
       "\t\t<td>2</td>\n",
       "\t\t<td>0</td>\n",
       "\t\t<td>6</td>\n",
       "\t\t<td>0</td>\n",
       "\t\t<td>2</td>\n",
       "\t\t<td>0.264167</td>\n",
       "\t\t<td>0.272725</td>\n",
       "\t\t<td>0.779583</td>\n",
       "\t\t<td>0.121896</td>\n",
       "\t\t<td>384</td>\n",
       "\t\t<td>2448</td>\n",
       "\t\t<td>2832</td>\n",
       "\t\t<td>126</td>\n",
       "\t</tr>\n",
       "\t<tr>\n",
       "\t\t<td>509</td>\n",
       "\t\t<td>2</td>\n",
       "\t\t<td>1</td>\n",
       "\t\t<td>5</td>\n",
       "\t\t<td>0</td>\n",
       "\t\t<td>3</td>\n",
       "\t\t<td>1</td>\n",
       "\t\t<td>2</td>\n",
       "\t\t<td>0.621667</td>\n",
       "\t\t<td>0.584612</td>\n",
       "\t\t<td>0.774583</td>\n",
       "\t\t<td>0.102</td>\n",
       "\t\t<td>766</td>\n",
       "\t\t<td>4494</td>\n",
       "\t\t<td>5260</td>\n",
       "\t\t<td>24</td>\n",
       "\t</tr>\n",
       "\t<tr>\n",
       "\t\t<td>274</td>\n",
       "\t\t<td>4</td>\n",
       "\t\t<td>0</td>\n",
       "\t\t<td>10</td>\n",
       "\t\t<td>0</td>\n",
       "\t\t<td>6</td>\n",
       "\t\t<td>0</td>\n",
       "\t\t<td>2</td>\n",
       "\t\t<td>0.41</td>\n",
       "\t\t<td>0.412863</td>\n",
       "\t\t<td>0.75375</td>\n",
       "\t\t<td>0.292296</td>\n",
       "\t\t<td>480</td>\n",
       "\t\t<td>1949</td>\n",
       "\t\t<td>2429</td>\n",
       "\t\t<td>120</td>\n",
       "\t</tr>\n",
       "</table></html>"
      ],
      "text/plain": [
       "   instant  season  yr  mnth  holiday  weekday  workingday  weathersit      temp     atemp       hum  windspeed  casual  registered   cnt   id\n",
       "0      120       2   0     4        0        6           0           1  0.472500  0.464021  0.503333   0.235075    1965        3347  5312   26\n",
       "1      425       1   1     2        0        3           1           2  0.344348  0.348470  0.804783   0.179117      65        1769  1834   28\n",
       "2      114       2   0     4        0        0           0           2  0.581667  0.551763  0.810833   0.192175    1710        2481  4191  124\n",
       "3      427       1   1     3        0        5           1           2  0.353333  0.359842  0.657083   0.144904     246        2948  3194   31\n",
       "4      387       1   1     1        0        0           0           2  0.162500  0.162250  0.796250   0.199638     196        1781  1977   27\n",
       "5      665       4   1    10        0        5           1           2  0.545833  0.522750  0.807083   0.132467    1182        6262  7444  123\n",
       "6      244       3   0     9        0        4           1           1  0.655000  0.614921  0.639167   0.141796     783        4332  5115   30\n",
       "7      400       1   1     2        0        6           0           2  0.264167  0.272725  0.779583   0.121896     384        2448  2832  126\n",
       "8      509       2   1     5        0        3           1           2  0.621667  0.584612  0.774583   0.102000     766        4494  5260   24\n",
       "9      274       4   0    10        0        6           0           2  0.410000  0.412863  0.753750   0.292296     480        1949  2429  120"
      ]
     },
     "metadata": {},
     "output_type": "display_data"
    },
    {
     "name": "stdout",
     "output_type": "stream",
     "text": [
      "                                                                                         \r"
     ]
    },
    {
     "data": {
      "text/html": [
       "117 rows X 16 columns"
      ],
      "text/plain": [
       "<IPython.core.display.HTML object>"
      ]
     },
     "metadata": {},
     "output_type": "display_data"
    },
    {
     "name": "stdout",
     "output_type": "stream",
     "text": [
      "                                                                                         \r"
     ]
    },
    {
     "data": {
      "text/html": [
       "Time taken for spliting of data: 12.87 sec  "
      ],
      "text/plain": [
       "<IPython.core.display.HTML object>"
      ]
     },
     "metadata": {},
     "output_type": "display_data"
    },
    {
     "name": "stdout",
     "output_type": "stream",
     "text": [
      "                                                                                         \r"
     ]
    },
    {
     "data": {
      "text/html": [
       "\n",
       "Outlier preprocessing ..."
      ],
      "text/plain": [
       "<IPython.core.display.HTML object>"
      ]
     },
     "metadata": {},
     "output_type": "display_data"
    },
    {
     "name": "stdout",
     "output_type": "stream",
     "text": [
      "Columns with outlier percentage :-                                                                                                                                                                                                                                                                                                                                                                                                                                                                                  \n",
      "  ColumnName  OutlierPercentage\n",
      "0    holiday           2.905983\n",
      "1        hum           0.170940\n",
      "2     casual           5.299145\n",
      "3  windspeed           1.880342\n",
      "                                                                                         \r"
     ]
    },
    {
     "data": {
      "text/html": [
       "Deleting rows of these columns:"
      ],
      "text/plain": [
       "<IPython.core.display.HTML object>"
      ]
     },
     "metadata": {},
     "output_type": "display_data"
    },
    {
     "name": "stdout",
     "output_type": "stream",
     "text": [
      "['holiday', 'casual', 'windspeed', 'hum']\n",
      "result data stored in table '\"ALICE\".\"ml__td_sqlmr_persist_out__1719259638724276\"' - 7/19\n",
      "                                                                                         \r"
     ]
    },
    {
     "data": {
      "text/html": [
       "Sample of training dataset after removing outlier rows:"
      ],
      "text/plain": [
       "<IPython.core.display.HTML object>"
      ]
     },
     "metadata": {},
     "output_type": "display_data"
    },
    {
     "data": {
      "text/html": [
       "<style type=\"text/css\">\n",
       "\ttable {border:ridge 5px;}\n",
       "\ttable td {border:inset 1px;}\n",
       "\ttable tr#HeaderRow {background-color:grey; color:white;}</style>\n",
       "<html><table>\n",
       "\t<tr id=\"HeaderRow\">\n",
       "\t\t<th>instant</th>\n",
       "\t\t<th>season</th>\n",
       "\t\t<th>yr</th>\n",
       "\t\t<th>mnth</th>\n",
       "\t\t<th>holiday</th>\n",
       "\t\t<th>weekday</th>\n",
       "\t\t<th>workingday</th>\n",
       "\t\t<th>weathersit</th>\n",
       "\t\t<th>temp</th>\n",
       "\t\t<th>atemp</th>\n",
       "\t\t<th>hum</th>\n",
       "\t\t<th>windspeed</th>\n",
       "\t\t<th>casual</th>\n",
       "\t\t<th>registered</th>\n",
       "\t\t<th>cnt</th>\n",
       "\t\t<th>id</th>\n",
       "\t</tr>\n",
       "\t<tr>\n",
       "\t\t<td>713</td>\n",
       "\t\t<td>4</td>\n",
       "\t\t<td>1</td>\n",
       "\t\t<td>12</td>\n",
       "\t\t<td>0</td>\n",
       "\t\t<td>4</td>\n",
       "\t\t<td>1</td>\n",
       "\t\t<td>1</td>\n",
       "\t\t<td>0.295833</td>\n",
       "\t\t<td>0.294188</td>\n",
       "\t\t<td>0.485833</td>\n",
       "\t\t<td>0.174129</td>\n",
       "\t\t<td>425</td>\n",
       "\t\t<td>5107</td>\n",
       "\t\t<td>5532</td>\n",
       "\t\t<td>43</td>\n",
       "\t</tr>\n",
       "\t<tr>\n",
       "\t\t<td>263</td>\n",
       "\t\t<td>3</td>\n",
       "\t\t<td>0</td>\n",
       "\t\t<td>9</td>\n",
       "\t\t<td>0</td>\n",
       "\t\t<td>2</td>\n",
       "\t\t<td>1</td>\n",
       "\t\t<td>2</td>\n",
       "\t\t<td>0.561667</td>\n",
       "\t\t<td>0.532217</td>\n",
       "\t\t<td>0.88125</td>\n",
       "\t\t<td>0.134954</td>\n",
       "\t\t<td>438</td>\n",
       "\t\t<td>3203</td>\n",
       "\t\t<td>3641</td>\n",
       "\t\t<td>59</td>\n",
       "\t</tr>\n",
       "\t<tr>\n",
       "\t\t<td>59</td>\n",
       "\t\t<td>1</td>\n",
       "\t\t<td>0</td>\n",
       "\t\t<td>2</td>\n",
       "\t\t<td>0</td>\n",
       "\t\t<td>1</td>\n",
       "\t\t<td>1</td>\n",
       "\t\t<td>2</td>\n",
       "\t\t<td>0.407273</td>\n",
       "\t\t<td>0.400118</td>\n",
       "\t\t<td>0.876364</td>\n",
       "\t\t<td>0.289686</td>\n",
       "\t\t<td>81</td>\n",
       "\t\t<td>1365</td>\n",
       "\t\t<td>1446</td>\n",
       "\t\t<td>67</td>\n",
       "\t</tr>\n",
       "\t<tr>\n",
       "\t\t<td>324</td>\n",
       "\t\t<td>4</td>\n",
       "\t\t<td>0</td>\n",
       "\t\t<td>11</td>\n",
       "\t\t<td>0</td>\n",
       "\t\t<td>0</td>\n",
       "\t\t<td>0</td>\n",
       "\t\t<td>2</td>\n",
       "\t\t<td>0.463333</td>\n",
       "\t\t<td>0.457058</td>\n",
       "\t\t<td>0.684583</td>\n",
       "\t\t<td>0.18595</td>\n",
       "\t\t<td>787</td>\n",
       "\t\t<td>2733</td>\n",
       "\t\t<td>3520</td>\n",
       "\t\t<td>75</td>\n",
       "\t</tr>\n",
       "\t<tr>\n",
       "\t\t<td>690</td>\n",
       "\t\t<td>4</td>\n",
       "\t\t<td>1</td>\n",
       "\t\t<td>11</td>\n",
       "\t\t<td>0</td>\n",
       "\t\t<td>2</td>\n",
       "\t\t<td>1</td>\n",
       "\t\t<td>2</td>\n",
       "\t\t<td>0.374167</td>\n",
       "\t\t<td>0.380667</td>\n",
       "\t\t<td>0.685</td>\n",
       "\t\t<td>0.082725</td>\n",
       "\t\t<td>534</td>\n",
       "\t\t<td>5100</td>\n",
       "\t\t<td>5634</td>\n",
       "\t\t<td>91</td>\n",
       "\t</tr>\n",
       "\t<tr>\n",
       "\t\t<td>566</td>\n",
       "\t\t<td>3</td>\n",
       "\t\t<td>1</td>\n",
       "\t\t<td>7</td>\n",
       "\t\t<td>0</td>\n",
       "\t\t<td>4</td>\n",
       "\t\t<td>1</td>\n",
       "\t\t<td>1</td>\n",
       "\t\t<td>0.77</td>\n",
       "\t\t<td>0.714642</td>\n",
       "\t\t<td>0.600417</td>\n",
       "\t\t<td>0.165429</td>\n",
       "\t\t<td>888</td>\n",
       "\t\t<td>5703</td>\n",
       "\t\t<td>6591</td>\n",
       "\t\t<td>99</td>\n",
       "\t</tr>\n",
       "\t<tr>\n",
       "\t\t<td>568</td>\n",
       "\t\t<td>3</td>\n",
       "\t\t<td>1</td>\n",
       "\t\t<td>7</td>\n",
       "\t\t<td>0</td>\n",
       "\t\t<td>6</td>\n",
       "\t\t<td>0</td>\n",
       "\t\t<td>3</td>\n",
       "\t\t<td>0.595833</td>\n",
       "\t\t<td>0.549912</td>\n",
       "\t\t<td>0.865417</td>\n",
       "\t\t<td>0.2133</td>\n",
       "\t\t<td>1264</td>\n",
       "\t\t<td>3195</td>\n",
       "\t\t<td>4459</td>\n",
       "\t\t<td>83</td>\n",
       "\t</tr>\n",
       "\t<tr>\n",
       "\t\t<td>19</td>\n",
       "\t\t<td>1</td>\n",
       "\t\t<td>0</td>\n",
       "\t\t<td>1</td>\n",
       "\t\t<td>0</td>\n",
       "\t\t<td>3</td>\n",
       "\t\t<td>1</td>\n",
       "\t\t<td>2</td>\n",
       "\t\t<td>0.292174</td>\n",
       "\t\t<td>0.298422</td>\n",
       "\t\t<td>0.741739</td>\n",
       "\t\t<td>0.208317</td>\n",
       "\t\t<td>78</td>\n",
       "\t\t<td>1572</td>\n",
       "\t\t<td>1650</td>\n",
       "\t\t<td>51</td>\n",
       "\t</tr>\n",
       "\t<tr>\n",
       "\t\t<td>591</td>\n",
       "\t\t<td>3</td>\n",
       "\t\t<td>1</td>\n",
       "\t\t<td>8</td>\n",
       "\t\t<td>0</td>\n",
       "\t\t<td>1</td>\n",
       "\t\t<td>1</td>\n",
       "\t\t<td>1</td>\n",
       "\t\t<td>0.720833</td>\n",
       "\t\t<td>0.662254</td>\n",
       "\t\t<td>0.545417</td>\n",
       "\t\t<td>0.136212</td>\n",
       "\t\t<td>1207</td>\n",
       "\t\t<td>5676</td>\n",
       "\t\t<td>6883</td>\n",
       "\t\t<td>19</td>\n",
       "\t</tr>\n",
       "\t<tr>\n",
       "\t\t<td>122</td>\n",
       "\t\t<td>2</td>\n",
       "\t\t<td>0</td>\n",
       "\t\t<td>5</td>\n",
       "\t\t<td>0</td>\n",
       "\t\t<td>1</td>\n",
       "\t\t<td>1</td>\n",
       "\t\t<td>2</td>\n",
       "\t\t<td>0.549167</td>\n",
       "\t\t<td>0.532833</td>\n",
       "\t\t<td>0.73</td>\n",
       "\t\t<td>0.183454</td>\n",
       "\t\t<td>847</td>\n",
       "\t\t<td>3554</td>\n",
       "\t\t<td>4401</td>\n",
       "\t\t<td>11</td>\n",
       "\t</tr>\n",
       "</table></html>"
      ],
      "text/plain": [
       "         season  yr  mnth  holiday  weekday  workingday  weathersit      temp     atemp       hum  windspeed  casual  registered   cnt  id\n",
       "instant                                                                                                                                   \n",
       "713           4   1    12        0        4           1           1  0.295833  0.294188  0.485833   0.174129     425        5107  5532  43\n",
       "263           3   0     9        0        2           1           2  0.561667  0.532217  0.881250   0.134954     438        3203  3641  59\n",
       "59            1   0     2        0        1           1           2  0.407273  0.400118  0.876364   0.289686      81        1365  1446  67\n",
       "324           4   0    11        0        0           0           2  0.463333  0.457058  0.684583   0.185950     787        2733  3520  75\n",
       "690           4   1    11        0        2           1           2  0.374167  0.380667  0.685000   0.082725     534        5100  5634  91\n",
       "566           3   1     7        0        4           1           1  0.770000  0.714642  0.600417   0.165429     888        5703  6591  99\n",
       "568           3   1     7        0        6           0           3  0.595833  0.549912  0.865417   0.213300    1264        3195  4459  83\n",
       "19            1   0     1        0        3           1           2  0.292174  0.298422  0.741739   0.208317      78        1572  1650  51\n",
       "591           3   1     8        0        1           1           1  0.720833  0.662254  0.545417   0.136212    1207        5676  6883  19\n",
       "122           2   0     5        0        1           1           2  0.549167  0.532833  0.730000   0.183454     847        3554  4401  11"
      ]
     },
     "metadata": {},
     "output_type": "display_data"
    },
    {
     "name": "stdout",
     "output_type": "stream",
     "text": [
      "                                                                                         \r"
     ]
    },
    {
     "data": {
      "text/html": [
       "417 rows X 16 columns"
      ],
      "text/plain": [
       "<IPython.core.display.HTML object>"
      ]
     },
     "metadata": {},
     "output_type": "display_data"
    },
    {
     "name": "stdout",
     "output_type": "stream",
     "text": [
      "                                                                                         \r"
     ]
    },
    {
     "data": {
      "text/html": [
       "Time Taken by Outlier processing: 35.12 sec "
      ],
      "text/plain": [
       "<IPython.core.display.HTML object>"
      ]
     },
     "metadata": {},
     "output_type": "display_data"
    },
    {
     "name": "stdout",
     "output_type": "stream",
     "text": [
      "result data stored in table '\"ALICE\".\"ml__td_sqlmr_persist_out__1719266344840217\"' - 8/19\n",
      "result data stored in table '\"ALICE\".\"ml__td_sqlmr_persist_out__1719264909994814\"'\n",
      "                                                                                          \r"
     ]
    },
    {
     "data": {
      "text/html": [
       "\n",
       "Feature selection using lasso ..."
      ],
      "text/plain": [
       "<IPython.core.display.HTML object>"
      ]
     },
     "metadata": {},
     "output_type": "display_data"
    },
    {
     "name": "stdout",
     "output_type": "stream",
     "text": [
      "                                                                                          \r"
     ]
    },
    {
     "data": {
      "text/html": [
       "feature selected by lasso:"
      ],
      "text/plain": [
       "<IPython.core.display.HTML object>"
      ]
     },
     "metadata": {},
     "output_type": "display_data"
    },
    {
     "name": "stdout",
     "output_type": "stream",
     "text": [
      "['casual', 'registered']\n",
      "                                                                                          \r"
     ]
    },
    {
     "data": {
      "text/html": [
       "Total time taken by feature selection: 3.42 sec  "
      ],
      "text/plain": [
       "<IPython.core.display.HTML object>"
      ]
     },
     "metadata": {},
     "output_type": "display_data"
    },
    {
     "name": "stdout",
     "output_type": "stream",
     "text": [
      "                                                                                          \r"
     ]
    },
    {
     "data": {
      "text/html": [
       "\n",
       "scaling Features of lasso data ..."
      ],
      "text/plain": [
       "<IPython.core.display.HTML object>"
      ]
     },
     "metadata": {},
     "output_type": "display_data"
    },
    {
     "name": "stdout",
     "output_type": "stream",
     "text": [
      "                                                                                          \r"
     ]
    },
    {
     "data": {
      "text/html": [
       "columns that will be scaled: "
      ],
      "text/plain": [
       "<IPython.core.display.HTML object>"
      ]
     },
     "metadata": {},
     "output_type": "display_data"
    },
    {
     "name": "stdout",
     "output_type": "stream",
     "text": [
      "['casual', 'registered']\n",
      "                                                                                          \r"
     ]
    },
    {
     "data": {
      "text/html": [
       "Training dataset sample after scaling:"
      ],
      "text/plain": [
       "<IPython.core.display.HTML object>"
      ]
     },
     "metadata": {},
     "output_type": "display_data"
    },
    {
     "data": {
      "text/html": [
       "<style type=\"text/css\">\n",
       "\ttable {border:ridge 5px;}\n",
       "\ttable td {border:inset 1px;}\n",
       "\ttable tr#HeaderRow {background-color:grey; color:white;}</style>\n",
       "<html><table>\n",
       "\t<tr id=\"HeaderRow\">\n",
       "\t\t<th>id</th>\n",
       "\t\t<th>cnt</th>\n",
       "\t\t<th>casual</th>\n",
       "\t\t<th>registered</th>\n",
       "\t</tr>\n",
       "\t<tr>\n",
       "\t\t<td>10</td>\n",
       "\t\t<td>1605</td>\n",
       "\t\t<td>-1.3105292905321233</td>\n",
       "\t\t<td>-1.362016190182233</td>\n",
       "\t</tr>\n",
       "\t<tr>\n",
       "\t\t<td>12</td>\n",
       "\t\t<td>1712</td>\n",
       "\t\t<td>-1.183449454182702</td>\n",
       "\t\t<td>-1.3370858123574931</td>\n",
       "\t</tr>\n",
       "\t<tr>\n",
       "\t\t<td>13</td>\n",
       "\t\t<td>1607</td>\n",
       "\t\t<td>-1.2801818669262914</td>\n",
       "\t\t<td>-1.3707418224208918</td>\n",
       "\t</tr>\n",
       "\t<tr>\n",
       "\t\t<td>14</td>\n",
       "\t\t<td>2134</td>\n",
       "\t\t<td>-0.9729142029172431</td>\n",
       "\t\t<td>-1.1432521247701424</td>\n",
       "\t</tr>\n",
       "\t<tr>\n",
       "\t\t<td>16</td>\n",
       "\t\t<td>5119</td>\n",
       "\t\t<td>2.769302470476908</td>\n",
       "\t\t<td>-0.5125135658042287</td>\n",
       "\t</tr>\n",
       "\t<tr>\n",
       "\t\t<td>17</td>\n",
       "\t\t<td>3348</td>\n",
       "\t\t<td>0.21063531771020244</td>\n",
       "\t\t<td>-0.7755290518552321</td>\n",
       "\t</tr>\n",
       "\t<tr>\n",
       "\t\t<td>15</td>\n",
       "\t\t<td>6966</td>\n",
       "\t\t<td>0.7417152308122613</td>\n",
       "\t\t<td>1.3049109776192933</td>\n",
       "\t</tr>\n",
       "\t<tr>\n",
       "\t\t<td>11</td>\n",
       "\t\t<td>4401</td>\n",
       "\t\t<td>0.19546160590728648</td>\n",
       "\t\t<td>-0.11425078005401242</td>\n",
       "\t</tr>\n",
       "\t<tr>\n",
       "\t\t<td>9</td>\n",
       "\t\t<td>7421</td>\n",
       "\t\t<td>0.8137903618761122</td>\n",
       "\t\t<td>1.5648101664422043</td>\n",
       "\t</tr>\n",
       "\t<tr>\n",
       "\t\t<td>8</td>\n",
       "\t\t<td>6398</td>\n",
       "\t\t<td>0.9636307659299074</td>\n",
       "\t\t<td>0.8779782573706265</td>\n",
       "\t</tr>\n",
       "</table></html>"
      ],
      "text/plain": [
       "   id   cnt    casual  registered\n",
       "0  10  1605 -1.310529   -1.362016\n",
       "1  12  1712 -1.183449   -1.337086\n",
       "2  13  1607 -1.280182   -1.370742\n",
       "3  14  2134 -0.972914   -1.143252\n",
       "4  16  5119  2.769302   -0.512514\n",
       "5  17  3348  0.210635   -0.775529\n",
       "6  15  6966  0.741715    1.304911\n",
       "7  11  4401  0.195462   -0.114251\n",
       "8   9  7421  0.813790    1.564810\n",
       "9   8  6398  0.963631    0.877978"
      ]
     },
     "metadata": {},
     "output_type": "display_data"
    },
    {
     "name": "stdout",
     "output_type": "stream",
     "text": [
      "                                                                                          \r"
     ]
    },
    {
     "data": {
      "text/html": [
       "417 rows X 4 columns"
      ],
      "text/plain": [
       "<IPython.core.display.HTML object>"
      ]
     },
     "metadata": {},
     "output_type": "display_data"
    },
    {
     "name": "stdout",
     "output_type": "stream",
     "text": [
      "                                                                                          \r"
     ]
    },
    {
     "data": {
      "text/html": [
       "Testing dataset sample after scaling:"
      ],
      "text/plain": [
       "<IPython.core.display.HTML object>"
      ]
     },
     "metadata": {},
     "output_type": "display_data"
    },
    {
     "data": {
      "text/html": [
       "<style type=\"text/css\">\n",
       "\ttable {border:ridge 5px;}\n",
       "\ttable td {border:inset 1px;}\n",
       "\ttable tr#HeaderRow {background-color:grey; color:white;}</style>\n",
       "<html><table>\n",
       "\t<tr id=\"HeaderRow\">\n",
       "\t\t<th>id</th>\n",
       "\t\t<th>cnt</th>\n",
       "\t\t<th>casual</th>\n",
       "\t\t<th>registered</th>\n",
       "\t</tr>\n",
       "\t<tr>\n",
       "\t\t<td>513</td>\n",
       "\t\t<td>6904</td>\n",
       "\t\t<td>0.9769077637574589</td>\n",
       "\t\t<td>1.1889847207342539</td>\n",
       "\t</tr>\n",
       "\t<tr>\n",
       "\t\t<td>550</td>\n",
       "\t\t<td>6978</td>\n",
       "\t\t<td>3.5848894798836413</td>\n",
       "\t\t<td>0.3781241819845961</td>\n",
       "\t</tr>\n",
       "\t<tr>\n",
       "\t\t<td>31</td>\n",
       "\t\t<td>3194</td>\n",
       "\t\t<td>-0.9444634932867757</td>\n",
       "\t\t<td>-0.4919460040988184</td>\n",
       "\t</tr>\n",
       "\t<tr>\n",
       "\t\t<td>127</td>\n",
       "\t\t<td>3510</td>\n",
       "\t\t<td>0.07027848353322974</td>\n",
       "\t\t<td>-0.6284398226892681</td>\n",
       "\t</tr>\n",
       "\t<tr>\n",
       "\t\t<td>240</td>\n",
       "\t\t<td>2792</td>\n",
       "\t\t<td>0.6658466717976815</td>\n",
       "\t\t<td>-1.2716435705675515</td>\n",
       "\t</tr>\n",
       "\t<tr>\n",
       "\t\t<td>571</td>\n",
       "\t\t<td>4672</td>\n",
       "\t\t<td>0.870691781137047</td>\n",
       "\t\t<td>-0.16722783293158422</td>\n",
       "\t</tr>\n",
       "\t<tr>\n",
       "\t\t<td>212</td>\n",
       "\t\t<td>6855</td>\n",
       "\t\t<td>0.001996780420107882</td>\n",
       "\t\t<td>1.4788003629468525</td>\n",
       "\t</tr>\n",
       "\t<tr>\n",
       "\t\t<td>635</td>\n",
       "\t\t<td>5047</td>\n",
       "\t\t<td>0.04372448787812679</td>\n",
       "\t\t<td>0.3382355774650126</td>\n",
       "\t</tr>\n",
       "\t<tr>\n",
       "\t\t<td>521</td>\n",
       "\t\t<td>5087</td>\n",
       "\t\t<td>-0.7718625215286065</td>\n",
       "\t\t<td>0.6311675169057037</td>\n",
       "\t</tr>\n",
       "\t<tr>\n",
       "\t\t<td>631</td>\n",
       "\t\t<td>6296</td>\n",
       "\t\t<td>0.6165321084382046</td>\n",
       "\t\t<td>0.9284622724657243</td>\n",
       "\t</tr>\n",
       "</table></html>"
      ],
      "text/plain": [
       "    id   cnt    casual  registered\n",
       "0  513  6904  0.976908    1.188985\n",
       "1  550  6978  3.584889    0.378124\n",
       "2   31  3194 -0.944463   -0.491946\n",
       "3  127  3510  0.070278   -0.628440\n",
       "4  240  2792  0.665847   -1.271644\n",
       "5  571  4672  0.870692   -0.167228\n",
       "6  212  6855  0.001997    1.478800\n",
       "7  635  5047  0.043724    0.338236\n",
       "8  521  5087 -0.771863    0.631168\n",
       "9  631  6296  0.616532    0.928462"
      ]
     },
     "metadata": {},
     "output_type": "display_data"
    },
    {
     "name": "stdout",
     "output_type": "stream",
     "text": [
      "                                                                                          \r"
     ]
    },
    {
     "data": {
      "text/html": [
       "117 rows X 4 columns"
      ],
      "text/plain": [
       "<IPython.core.display.HTML object>"
      ]
     },
     "metadata": {},
     "output_type": "display_data"
    },
    {
     "name": "stdout",
     "output_type": "stream",
     "text": [
      "                                                                                          \r"
     ]
    },
    {
     "data": {
      "text/html": [
       "Total time taken by feature scaling: 33.47 sec"
      ],
      "text/plain": [
       "<IPython.core.display.HTML object>"
      ]
     },
     "metadata": {},
     "output_type": "display_data"
    },
    {
     "name": "stdout",
     "output_type": "stream",
     "text": [
      "                                                                                          \r"
     ]
    },
    {
     "data": {
      "text/html": [
       "\n",
       "Feature selection using rfe ..."
      ],
      "text/plain": [
       "<IPython.core.display.HTML object>"
      ]
     },
     "metadata": {},
     "output_type": "display_data"
    },
    {
     "name": "stdout",
     "output_type": "stream",
     "text": [
      "                                                                                          \r"
     ]
    },
    {
     "data": {
      "text/html": [
       "feature selected by RFE:"
      ],
      "text/plain": [
       "<IPython.core.display.HTML object>"
      ]
     },
     "metadata": {},
     "output_type": "display_data"
    },
    {
     "name": "stdout",
     "output_type": "stream",
     "text": [
      "['casual', 'registered']\n",
      "                                                                                          \r"
     ]
    },
    {
     "data": {
      "text/html": [
       "Total time taken by feature selection: 105.11 sec  "
      ],
      "text/plain": [
       "<IPython.core.display.HTML object>"
      ]
     },
     "metadata": {},
     "output_type": "display_data"
    },
    {
     "name": "stdout",
     "output_type": "stream",
     "text": [
      "                                                                                          \r"
     ]
    },
    {
     "data": {
      "text/html": [
       "\n",
       "scaling Features of rfe data ..."
      ],
      "text/plain": [
       "<IPython.core.display.HTML object>"
      ]
     },
     "metadata": {},
     "output_type": "display_data"
    },
    {
     "name": "stdout",
     "output_type": "stream",
     "text": [
      "                                                                                          \r"
     ]
    },
    {
     "data": {
      "text/html": [
       "columns that will be scaled: "
      ],
      "text/plain": [
       "<IPython.core.display.HTML object>"
      ]
     },
     "metadata": {},
     "output_type": "display_data"
    },
    {
     "name": "stdout",
     "output_type": "stream",
     "text": [
      "['r_casual', 'r_registered']\n",
      "                                                                                          \r"
     ]
    },
    {
     "data": {
      "text/html": [
       "Training dataset sample after scaling:"
      ],
      "text/plain": [
       "<IPython.core.display.HTML object>"
      ]
     },
     "metadata": {},
     "output_type": "display_data"
    },
    {
     "data": {
      "text/html": [
       "<style type=\"text/css\">\n",
       "\ttable {border:ridge 5px;}\n",
       "\ttable td {border:inset 1px;}\n",
       "\ttable tr#HeaderRow {background-color:grey; color:white;}</style>\n",
       "<html><table>\n",
       "\t<tr id=\"HeaderRow\">\n",
       "\t\t<th>id</th>\n",
       "\t\t<th>cnt</th>\n",
       "\t\t<th>r_casual</th>\n",
       "\t\t<th>r_registered</th>\n",
       "\t</tr>\n",
       "\t<tr>\n",
       "\t\t<td>10</td>\n",
       "\t\t<td>1605</td>\n",
       "\t\t<td>-1.3105292905321233</td>\n",
       "\t\t<td>-1.362016190182233</td>\n",
       "\t</tr>\n",
       "\t<tr>\n",
       "\t\t<td>12</td>\n",
       "\t\t<td>1712</td>\n",
       "\t\t<td>-1.183449454182702</td>\n",
       "\t\t<td>-1.3370858123574931</td>\n",
       "\t</tr>\n",
       "\t<tr>\n",
       "\t\t<td>13</td>\n",
       "\t\t<td>1607</td>\n",
       "\t\t<td>-1.2801818669262914</td>\n",
       "\t\t<td>-1.3707418224208918</td>\n",
       "\t</tr>\n",
       "\t<tr>\n",
       "\t\t<td>14</td>\n",
       "\t\t<td>2134</td>\n",
       "\t\t<td>-0.9729142029172431</td>\n",
       "\t\t<td>-1.1432521247701424</td>\n",
       "\t</tr>\n",
       "\t<tr>\n",
       "\t\t<td>16</td>\n",
       "\t\t<td>5119</td>\n",
       "\t\t<td>2.769302470476908</td>\n",
       "\t\t<td>-0.5125135658042287</td>\n",
       "\t</tr>\n",
       "\t<tr>\n",
       "\t\t<td>17</td>\n",
       "\t\t<td>3348</td>\n",
       "\t\t<td>0.21063531771020244</td>\n",
       "\t\t<td>-0.7755290518552321</td>\n",
       "\t</tr>\n",
       "\t<tr>\n",
       "\t\t<td>15</td>\n",
       "\t\t<td>6966</td>\n",
       "\t\t<td>0.7417152308122613</td>\n",
       "\t\t<td>1.3049109776192933</td>\n",
       "\t</tr>\n",
       "\t<tr>\n",
       "\t\t<td>11</td>\n",
       "\t\t<td>4401</td>\n",
       "\t\t<td>0.19546160590728648</td>\n",
       "\t\t<td>-0.11425078005401242</td>\n",
       "\t</tr>\n",
       "\t<tr>\n",
       "\t\t<td>9</td>\n",
       "\t\t<td>7421</td>\n",
       "\t\t<td>0.8137903618761122</td>\n",
       "\t\t<td>1.5648101664422043</td>\n",
       "\t</tr>\n",
       "\t<tr>\n",
       "\t\t<td>8</td>\n",
       "\t\t<td>6398</td>\n",
       "\t\t<td>0.9636307659299074</td>\n",
       "\t\t<td>0.8779782573706265</td>\n",
       "\t</tr>\n",
       "</table></html>"
      ],
      "text/plain": [
       "   id   cnt  r_casual  r_registered\n",
       "0  10  1605 -1.310529     -1.362016\n",
       "1  12  1712 -1.183449     -1.337086\n",
       "2  13  1607 -1.280182     -1.370742\n",
       "3  14  2134 -0.972914     -1.143252\n",
       "4  16  5119  2.769302     -0.512514\n",
       "5  17  3348  0.210635     -0.775529\n",
       "6  15  6966  0.741715      1.304911\n",
       "7  11  4401  0.195462     -0.114251\n",
       "8   9  7421  0.813790      1.564810\n",
       "9   8  6398  0.963631      0.877978"
      ]
     },
     "metadata": {},
     "output_type": "display_data"
    },
    {
     "name": "stdout",
     "output_type": "stream",
     "text": [
      "                                                                                          \r"
     ]
    },
    {
     "data": {
      "text/html": [
       "417 rows X 4 columns"
      ],
      "text/plain": [
       "<IPython.core.display.HTML object>"
      ]
     },
     "metadata": {},
     "output_type": "display_data"
    },
    {
     "name": "stdout",
     "output_type": "stream",
     "text": [
      "                                                                                          \r"
     ]
    },
    {
     "data": {
      "text/html": [
       "Testing dataset sample after scaling:"
      ],
      "text/plain": [
       "<IPython.core.display.HTML object>"
      ]
     },
     "metadata": {},
     "output_type": "display_data"
    },
    {
     "data": {
      "text/html": [
       "<style type=\"text/css\">\n",
       "\ttable {border:ridge 5px;}\n",
       "\ttable td {border:inset 1px;}\n",
       "\ttable tr#HeaderRow {background-color:grey; color:white;}</style>\n",
       "<html><table>\n",
       "\t<tr id=\"HeaderRow\">\n",
       "\t\t<th>id</th>\n",
       "\t\t<th>cnt</th>\n",
       "\t\t<th>r_casual</th>\n",
       "\t\t<th>r_registered</th>\n",
       "\t</tr>\n",
       "\t<tr>\n",
       "\t\t<td>513</td>\n",
       "\t\t<td>6904</td>\n",
       "\t\t<td>0.9769077637574589</td>\n",
       "\t\t<td>1.1889847207342539</td>\n",
       "\t</tr>\n",
       "\t<tr>\n",
       "\t\t<td>550</td>\n",
       "\t\t<td>6978</td>\n",
       "\t\t<td>3.5848894798836413</td>\n",
       "\t\t<td>0.3781241819845961</td>\n",
       "\t</tr>\n",
       "\t<tr>\n",
       "\t\t<td>31</td>\n",
       "\t\t<td>3194</td>\n",
       "\t\t<td>-0.9444634932867757</td>\n",
       "\t\t<td>-0.4919460040988184</td>\n",
       "\t</tr>\n",
       "\t<tr>\n",
       "\t\t<td>127</td>\n",
       "\t\t<td>3510</td>\n",
       "\t\t<td>0.07027848353322974</td>\n",
       "\t\t<td>-0.6284398226892681</td>\n",
       "\t</tr>\n",
       "\t<tr>\n",
       "\t\t<td>240</td>\n",
       "\t\t<td>2792</td>\n",
       "\t\t<td>0.6658466717976815</td>\n",
       "\t\t<td>-1.2716435705675515</td>\n",
       "\t</tr>\n",
       "\t<tr>\n",
       "\t\t<td>571</td>\n",
       "\t\t<td>4672</td>\n",
       "\t\t<td>0.870691781137047</td>\n",
       "\t\t<td>-0.16722783293158422</td>\n",
       "\t</tr>\n",
       "\t<tr>\n",
       "\t\t<td>212</td>\n",
       "\t\t<td>6855</td>\n",
       "\t\t<td>0.001996780420107882</td>\n",
       "\t\t<td>1.4788003629468525</td>\n",
       "\t</tr>\n",
       "\t<tr>\n",
       "\t\t<td>635</td>\n",
       "\t\t<td>5047</td>\n",
       "\t\t<td>0.04372448787812679</td>\n",
       "\t\t<td>0.3382355774650126</td>\n",
       "\t</tr>\n",
       "\t<tr>\n",
       "\t\t<td>521</td>\n",
       "\t\t<td>5087</td>\n",
       "\t\t<td>-0.7718625215286065</td>\n",
       "\t\t<td>0.6311675169057037</td>\n",
       "\t</tr>\n",
       "\t<tr>\n",
       "\t\t<td>631</td>\n",
       "\t\t<td>6296</td>\n",
       "\t\t<td>0.6165321084382046</td>\n",
       "\t\t<td>0.9284622724657243</td>\n",
       "\t</tr>\n",
       "</table></html>"
      ],
      "text/plain": [
       "    id   cnt  r_casual  r_registered\n",
       "0  513  6904  0.976908      1.188985\n",
       "1  550  6978  3.584889      0.378124\n",
       "2   31  3194 -0.944463     -0.491946\n",
       "3  127  3510  0.070278     -0.628440\n",
       "4  240  2792  0.665847     -1.271644\n",
       "5  571  4672  0.870692     -0.167228\n",
       "6  212  6855  0.001997      1.478800\n",
       "7  635  5047  0.043724      0.338236\n",
       "8  521  5087 -0.771863      0.631168\n",
       "9  631  6296  0.616532      0.928462"
      ]
     },
     "metadata": {},
     "output_type": "display_data"
    },
    {
     "name": "stdout",
     "output_type": "stream",
     "text": [
      "                                                                                          \r"
     ]
    },
    {
     "data": {
      "text/html": [
       "117 rows X 4 columns"
      ],
      "text/plain": [
       "<IPython.core.display.HTML object>"
      ]
     },
     "metadata": {},
     "output_type": "display_data"
    },
    {
     "name": "stdout",
     "output_type": "stream",
     "text": [
      "                                                                                          \r"
     ]
    },
    {
     "data": {
      "text/html": [
       "Total time taken by feature scaling: 33.02 sec"
      ],
      "text/plain": [
       "<IPython.core.display.HTML object>"
      ]
     },
     "metadata": {},
     "output_type": "display_data"
    },
    {
     "name": "stdout",
     "output_type": "stream",
     "text": [
      "                                                                                          \r"
     ]
    },
    {
     "data": {
      "text/html": [
       "\n",
       "scaling Features of pca data ..."
      ],
      "text/plain": [
       "<IPython.core.display.HTML object>"
      ]
     },
     "metadata": {},
     "output_type": "display_data"
    },
    {
     "name": "stdout",
     "output_type": "stream",
     "text": [
      "                                                                                          \r"
     ]
    },
    {
     "data": {
      "text/html": [
       "columns that will be scaled: "
      ],
      "text/plain": [
       "<IPython.core.display.HTML object>"
      ]
     },
     "metadata": {},
     "output_type": "display_data"
    },
    {
     "name": "stdout",
     "output_type": "stream",
     "text": [
      "['instant', 'season', 'yr', 'mnth', 'weekday', 'workingday', 'weathersit', 'temp', 'atemp', 'hum', 'windspeed', 'casual', 'registered']\n",
      "                                                                                          \r"
     ]
    },
    {
     "data": {
      "text/html": [
       "Training dataset sample after scaling:"
      ],
      "text/plain": [
       "<IPython.core.display.HTML object>"
      ]
     },
     "metadata": {},
     "output_type": "display_data"
    },
    {
     "data": {
      "text/html": [
       "<style type=\"text/css\">\n",
       "\ttable {border:ridge 5px;}\n",
       "\ttable td {border:inset 1px;}\n",
       "\ttable tr#HeaderRow {background-color:grey; color:white;}</style>\n",
       "<html><table>\n",
       "\t<tr id=\"HeaderRow\">\n",
       "\t\t<th>id</th>\n",
       "\t\t<th>cnt</th>\n",
       "\t\t<th>holiday</th>\n",
       "\t\t<th>instant</th>\n",
       "\t\t<th>season</th>\n",
       "\t\t<th>yr</th>\n",
       "\t\t<th>mnth</th>\n",
       "\t\t<th>weekday</th>\n",
       "\t\t<th>workingday</th>\n",
       "\t\t<th>weathersit</th>\n",
       "\t\t<th>temp</th>\n",
       "\t\t<th>atemp</th>\n",
       "\t\t<th>hum</th>\n",
       "\t\t<th>windspeed</th>\n",
       "\t\t<th>casual</th>\n",
       "\t\t<th>registered</th>\n",
       "\t</tr>\n",
       "\t<tr>\n",
       "\t\t<td>8</td>\n",
       "\t\t<td>6398</td>\n",
       "\t\t<td>0</td>\n",
       "\t\t<td>0.5204170944795976</td>\n",
       "\t\t<td>-0.45705773544862394</td>\n",
       "\t\t<td>1.0466505562673123</td>\n",
       "\t\t<td>-0.7362664661462585</td>\n",
       "\t\t<td>1.0854379977349495</td>\n",
       "\t\t<td>0.5579612484008015</td>\n",
       "\t\t<td>-0.7493516035789746</td>\n",
       "\t\t<td>-0.27123076275088404</td>\n",
       "\t\t<td>-0.24755942337211215</td>\n",
       "\t\t<td>-1.614920523914261</td>\n",
       "\t\t<td>-0.4627132911092068</td>\n",
       "\t\t<td>0.9636307659299074</td>\n",
       "\t\t<td>0.8779782573706268</td>\n",
       "\t</tr>\n",
       "\t<tr>\n",
       "\t\t<td>11</td>\n",
       "\t\t<td>4401</td>\n",
       "\t\t<td>0</td>\n",
       "\t\t<td>-1.1122217302993311</td>\n",
       "\t\t<td>-0.45705773544862394</td>\n",
       "\t\t<td>-0.955428718794473</td>\n",
       "\t\t<td>-0.44716748650125865</td>\n",
       "\t\t<td>-1.0321182364427062</td>\n",
       "\t\t<td>0.5579612484008015</td>\n",
       "\t\t<td>1.078014587604841</td>\n",
       "\t\t<td>0.30950228535043417</td>\n",
       "\t\t<td>0.37266926682357393</td>\n",
       "\t\t<td>0.7163829171512957</td>\n",
       "\t\t<td>-0.06858496520482517</td>\n",
       "\t\t<td>0.19546160590728648</td>\n",
       "\t\t<td>-0.11425078005401246</td>\n",
       "\t</tr>\n",
       "\t<tr>\n",
       "\t\t<td>19</td>\n",
       "\t\t<td>6883</td>\n",
       "\t\t<td>0</td>\n",
       "\t\t<td>1.0944284392145525</td>\n",
       "\t\t<td>0.45052833922792934</td>\n",
       "\t\t<td>1.0466505562673123</td>\n",
       "\t\t<td>0.4201294524337406</td>\n",
       "\t\t<td>-1.0321182364427062</td>\n",
       "\t\t<td>0.5579612484008015</td>\n",
       "\t\t<td>-0.7493516035789746</td>\n",
       "\t\t<td>1.2441129843985081</td>\n",
       "\t\t<td>1.1672311803481066</td>\n",
       "\t\t<td>-0.621394918505466</td>\n",
       "\t\t<td>-0.7339678895651437</td>\n",
       "\t\t<td>0.8782786370385051</td>\n",
       "\t\t<td>1.2083057635484276</td>\n",
       "\t</tr>\n",
       "\t<tr>\n",
       "\t\t<td>9</td>\n",
       "\t\t<td>7421</td>\n",
       "\t\t<td>0</td>\n",
       "\t\t<td>0.807422766847075</td>\n",
       "\t\t<td>-0.45705773544862394</td>\n",
       "\t\t<td>1.0466505562673123</td>\n",
       "\t\t<td>-0.1580685068562589</td>\n",
       "\t\t<td>0.026659880646121636</td>\n",
       "\t\t<td>0.5579612484008015</td>\n",
       "\t\t<td>-0.7493516035789746</td>\n",
       "\t\t<td>0.8902298890964404</td>\n",
       "\t\t<td>0.8532828058810261</td>\n",
       "\t\t<td>-0.35565559190339097</td>\n",
       "\t\t<td>2.1824803132738144</td>\n",
       "\t\t<td>0.8137903618761122</td>\n",
       "\t\t<td>1.564810166442205</td>\n",
       "\t</tr>\n",
       "\t<tr>\n",
       "\t\t<td>14</td>\n",
       "\t\t<td>2134</td>\n",
       "\t\t<td>0</td>\n",
       "\t\t<td>-1.3992274026668086</td>\n",
       "\t\t<td>-1.3646438101251772</td>\n",
       "\t\t<td>-0.955428718794473</td>\n",
       "\t\t<td>-1.0253654457912582</td>\n",
       "\t\t<td>0.026659880646121636</td>\n",
       "\t\t<td>0.5579612484008015</td>\n",
       "\t\t<td>-0.7493516035789746</td>\n",
       "\t\t<td>-0.8564989588273811</td>\n",
       "\t\t<td>-0.9335529215794411</td>\n",
       "\t\t<td>-1.315958345810961</td>\n",
       "\t\t<td>1.6832388938403477</td>\n",
       "\t\t<td>-0.9729142029172431</td>\n",
       "\t\t<td>-1.1432521247701428</td>\n",
       "\t</tr>\n",
       "\t<tr>\n",
       "\t\t<td>22</td>\n",
       "\t\t<td>7109</td>\n",
       "\t\t<td>0</td>\n",
       "\t\t<td>1.3814341115820297</td>\n",
       "\t\t<td>1.3581144139044825</td>\n",
       "\t\t<td>1.0466505562673123</td>\n",
       "\t\t<td>0.9983274117237402</td>\n",
       "\t\t<td>1.6148270562793634</td>\n",
       "\t\t<td>-1.7922391615298476</td>\n",
       "\t\t<td>-0.7493516035789746</td>\n",
       "\t\t<td>-0.5389133803926808</td>\n",
       "\t\t<td>-0.4956631781673418</td>\n",
       "\t\t<td>-0.9898177878800882</td>\n",
       "\t\t<td>-0.594108179161309</td>\n",
       "\t\t<td>2.8603447412944036</td>\n",
       "\t\t<td>0.6978562775868826</td>\n",
       "\t</tr>\n",
       "\t<tr>\n",
       "\t\t<td>13</td>\n",
       "\t\t<td>1607</td>\n",
       "\t\t<td>0</td>\n",
       "\t\t<td>-0.15239948172612805</td>\n",
       "\t\t<td>1.3581144139044825</td>\n",
       "\t\t<td>-0.955428718794473</td>\n",
       "\t\t<td>1.2874263913687398</td>\n",
       "\t\t<td>-0.5027291778982923</td>\n",
       "\t\t<td>0.5579612484008015</td>\n",
       "\t\t<td>2.9053807787886567</td>\n",
       "\t\t<td>-0.41187479353455053</td>\n",
       "\t\t<td>-0.3096406162972177</td>\n",
       "\t\t<td>2.4014424664608054</td>\n",
       "\t\t<td>-0.9793209766985579</td>\n",
       "\t\t<td>-1.2801818669262914</td>\n",
       "\t\t<td>-1.3707418224208925</td>\n",
       "\t</tr>\n",
       "\t<tr>\n",
       "\t\t<td>21</td>\n",
       "\t\t<td>3163</td>\n",
       "\t\t<td>0</td>\n",
       "\t\t<td>0.12519616859651403</td>\n",
       "\t\t<td>-1.3646438101251772</td>\n",
       "\t\t<td>1.0466505562673123</td>\n",
       "\t\t<td>-1.6035634050812577</td>\n",
       "\t\t<td>1.0854379977349495</td>\n",
       "\t\t<td>0.5579612484008015</td>\n",
       "\t\t<td>1.078014587604841</td>\n",
       "\t\t<td>-1.4962107080272735</td>\n",
       "\t\t<td>-1.542043158366029</td>\n",
       "\t\t<td>-1.3129361099741348</td>\n",
       "\t\t<td>0.20319076208141823</td>\n",
       "\t\t<td>-1.1929330240595246</td>\n",
       "\t\t<td>-0.4296200595369694</td>\n",
       "\t</tr>\n",
       "\t<tr>\n",
       "\t\t<td>15</td>\n",
       "\t\t<td>6966</td>\n",
       "\t\t<td>0</td>\n",
       "\t\t<td>0.9956232077437814</td>\n",
       "\t\t<td>0.45052833922792934</td>\n",
       "\t\t<td>1.0466505562673123</td>\n",
       "\t\t<td>0.13103047278874086</td>\n",
       "\t\t<td>-1.0321182364427062</td>\n",
       "\t\t<td>0.5579612484008015</td>\n",
       "\t\t<td>-0.7493516035789746</td>\n",
       "\t\t<td>1.3575406829757897</td>\n",
       "\t\t<td>1.3376781897606562</td>\n",
       "\t\t<td>0.45668081465491867</td>\n",
       "\t\t<td>-0.6991649344384694</td>\n",
       "\t\t<td>0.7417152308122613</td>\n",
       "\t\t<td>1.304910977619294</td>\n",
       "\t</tr>\n",
       "\t<tr>\n",
       "\t\t<td>23</td>\n",
       "\t\t<td>4966</td>\n",
       "\t\t<td>0</td>\n",
       "\t\t<td>-0.9240212894026246</td>\n",
       "\t\t<td>-0.45705773544862394</td>\n",
       "\t\t<td>-0.955428718794473</td>\n",
       "\t\t<td>-0.1580685068562589</td>\n",
       "\t\t<td>1.6148270562793634</td>\n",
       "\t\t<td>-1.7922391615298476</td>\n",
       "\t\t<td>-0.7493516035789746</td>\n",
       "\t\t<td>1.2667996129850272</td>\n",
       "\t\t<td>1.264134814557943</td>\n",
       "\t\t<td>0.16979308476301525</td>\n",
       "\t\t<td>-0.4714598047205646</td>\n",
       "\t\t<td>1.868363332178772</td>\n",
       "\t\t<td>-0.31182402431507444</td>\n",
       "\t</tr>\n",
       "</table></html>"
      ],
      "text/plain": [
       "   id   cnt  holiday   instant    season        yr      mnth   weekday  workingday  weathersit      temp     atemp       hum  windspeed    casual  registered\n",
       "0   8  6398        0  0.520417 -0.457058  1.046651 -0.736266  1.085438    0.557961   -0.749352 -0.271231 -0.247559 -1.614921  -0.462713  0.963631    0.877978\n",
       "1  11  4401        0 -1.112222 -0.457058 -0.955429 -0.447167 -1.032118    0.557961    1.078015  0.309502  0.372669  0.716383  -0.068585  0.195462   -0.114251\n",
       "2  19  6883        0  1.094428  0.450528  1.046651  0.420129 -1.032118    0.557961   -0.749352  1.244113  1.167231 -0.621395  -0.733968  0.878279    1.208306\n",
       "3   9  7421        0  0.807423 -0.457058  1.046651 -0.158069  0.026660    0.557961   -0.749352  0.890230  0.853283 -0.355656   2.182480  0.813790    1.564810\n",
       "4  14  2134        0 -1.399227 -1.364644 -0.955429 -1.025365  0.026660    0.557961   -0.749352 -0.856499 -0.933553 -1.315958   1.683239 -0.972914   -1.143252\n",
       "5  22  7109        0  1.381434  1.358114  1.046651  0.998327  1.614827   -1.792239   -0.749352 -0.538913 -0.495663 -0.989818  -0.594108  2.860345    0.697856\n",
       "6  13  1607        0 -0.152399  1.358114 -0.955429  1.287426 -0.502729    0.557961    2.905381 -0.411875 -0.309641  2.401442  -0.979321 -1.280182   -1.370742\n",
       "7  21  3163        0  0.125196 -1.364644  1.046651 -1.603563  1.085438    0.557961    1.078015 -1.496211 -1.542043 -1.312936   0.203191 -1.192933   -0.429620\n",
       "8  15  6966        0  0.995623  0.450528  1.046651  0.131030 -1.032118    0.557961   -0.749352  1.357541  1.337678  0.456681  -0.699165  0.741715    1.304911\n",
       "9  23  4966        0 -0.924021 -0.457058 -0.955429 -0.158069  1.614827   -1.792239   -0.749352  1.266800  1.264135  0.169793  -0.471460  1.868363   -0.311824"
      ]
     },
     "metadata": {},
     "output_type": "display_data"
    },
    {
     "name": "stdout",
     "output_type": "stream",
     "text": [
      "                                                                                          \r"
     ]
    },
    {
     "data": {
      "text/html": [
       "417 rows X 16 columns"
      ],
      "text/plain": [
       "<IPython.core.display.HTML object>"
      ]
     },
     "metadata": {},
     "output_type": "display_data"
    },
    {
     "name": "stdout",
     "output_type": "stream",
     "text": [
      "                                                                                          \r"
     ]
    },
    {
     "data": {
      "text/html": [
       "Testing dataset sample after scaling:"
      ],
      "text/plain": [
       "<IPython.core.display.HTML object>"
      ]
     },
     "metadata": {},
     "output_type": "display_data"
    },
    {
     "data": {
      "text/html": [
       "<style type=\"text/css\">\n",
       "\ttable {border:ridge 5px;}\n",
       "\ttable td {border:inset 1px;}\n",
       "\ttable tr#HeaderRow {background-color:grey; color:white;}</style>\n",
       "<html><table>\n",
       "\t<tr id=\"HeaderRow\">\n",
       "\t\t<th>id</th>\n",
       "\t\t<th>cnt</th>\n",
       "\t\t<th>holiday</th>\n",
       "\t\t<th>instant</th>\n",
       "\t\t<th>season</th>\n",
       "\t\t<th>yr</th>\n",
       "\t\t<th>mnth</th>\n",
       "\t\t<th>weekday</th>\n",
       "\t\t<th>workingday</th>\n",
       "\t\t<th>weathersit</th>\n",
       "\t\t<th>temp</th>\n",
       "\t\t<th>atemp</th>\n",
       "\t\t<th>hum</th>\n",
       "\t\t<th>windspeed</th>\n",
       "\t\t<th>casual</th>\n",
       "\t\t<th>registered</th>\n",
       "\t</tr>\n",
       "\t<tr>\n",
       "\t\t<td>26</td>\n",
       "\t\t<td>5312</td>\n",
       "\t\t<td>0</td>\n",
       "\t\t<td>-1.1216317523441663</td>\n",
       "\t\t<td>-0.45705773544862394</td>\n",
       "\t\t<td>-0.955428718794473</td>\n",
       "\t\t<td>-0.7362664661462585</td>\n",
       "\t\t<td>1.6148270562793634</td>\n",
       "\t\t<td>-1.7922391615298476</td>\n",
       "\t\t<td>-0.7493516035789746</td>\n",
       "\t\t<td>-0.10790010338069893</td>\n",
       "\t\t<td>-0.04979226873441223</td>\n",
       "\t\t<td>-0.9264015682824183</td>\n",
       "\t\t<td>0.6584742604503969</td>\n",
       "\t\t<td>2.315987830364793</td>\n",
       "\t\t<td>-0.2432654852970403</td>\n",
       "\t</tr>\n",
       "\t<tr>\n",
       "\t\t<td>27</td>\n",
       "\t\t<td>1977</td>\n",
       "\t\t<td>0</td>\n",
       "\t\t<td>0.13460619064134935</td>\n",
       "\t\t<td>-1.3646438101251772</td>\n",
       "\t\t<td>1.0466505562673123</td>\n",
       "\t\t<td>-1.6035634050812577</td>\n",
       "\t\t<td>-1.5615072949871203</td>\n",
       "\t\t<td>-1.7922391615298476</td>\n",
       "\t\t<td>1.078014587604841</td>\n",
       "\t\t<td>-1.7956502502059468</td>\n",
       "\t\t<td>-1.9024726158667302</td>\n",
       "\t\t<td>1.196534294105081</td>\n",
       "\t\t<td>0.15935960208376118</td>\n",
       "\t\t<td>-1.0392991920550005</td>\n",
       "\t\t<td>-1.2192897771355988</td>\n",
       "\t</tr>\n",
       "\t<tr>\n",
       "\t\t<td>123</td>\n",
       "\t\t<td>7444</td>\n",
       "\t\t<td>0</td>\n",
       "\t\t<td>1.4425992548734594</td>\n",
       "\t\t<td>1.3581144139044825</td>\n",
       "\t\t<td>1.0466505562673123</td>\n",
       "\t\t<td>0.9983274117237402</td>\n",
       "\t\t<td>1.0854379977349495</td>\n",
       "\t\t<td>0.5579612484008015</td>\n",
       "\t\t<td>1.078014587604841</td>\n",
       "\t\t<td>0.2913508047390945</td>\n",
       "\t\t<td>0.310766115294318</td>\n",
       "\t\t<td>1.2750471977509727</td>\n",
       "\t\t<td>-0.7867145779299334</td>\n",
       "\t\t<td>0.8308607876543926</td>\n",
       "\t\t<td>1.573535798680864</td>\n",
       "\t</tr>\n",
       "\t<tr>\n",
       "\t\t<td>30</td>\n",
       "\t\t<td>5115</td>\n",
       "\t\t<td>0</td>\n",
       "\t\t<td>-0.5382103855643763</td>\n",
       "\t\t<td>0.45052833922792934</td>\n",
       "\t\t<td>-0.955428718794473</td>\n",
       "\t\t<td>0.7092284320787404</td>\n",
       "\t\t<td>0.5560489391905356</td>\n",
       "\t\t<td>0.5579612484008015</td>\n",
       "\t\t<td>-0.7493516035789746</td>\n",
       "\t\t<td>0.8856947411212618</td>\n",
       "\t\t<td>0.8766369255296717</td>\n",
       "\t\t<td>0.058064577183852356</td>\n",
       "\t\t<td>-0.6553196898778311</td>\n",
       "\t\t<td>0.07407191148395874</td>\n",
       "\t\t<td>0.37064506863717434</td>\n",
       "\t</tr>\n",
       "\t<tr>\n",
       "\t\t<td>31</td>\n",
       "\t\t<td>3194</td>\n",
       "\t\t<td>0</td>\n",
       "\t\t<td>0.32280663153805583</td>\n",
       "\t\t<td>-1.3646438101251772</td>\n",
       "\t\t<td>1.0466505562673123</td>\n",
       "\t\t<td>-1.0253654457912582</td>\n",
       "\t\t<td>1.0854379977349495</td>\n",
       "\t\t<td>0.5579612484008015</td>\n",
       "\t\t<td>1.078014587604841</td>\n",
       "\t\t<td>-0.7566875928862611</td>\n",
       "\t\t<td>-0.6893844955683287</td>\n",
       "\t\t<td>0.18791200464806335</td>\n",
       "\t\t<td>-0.6115448681320992</td>\n",
       "\t\t<td>-0.9444634932867757</td>\n",
       "\t\t<td>-0.4919460040988186</td>\n",
       "\t</tr>\n",
       "\t<tr>\n",
       "\t\t<td>127</td>\n",
       "\t\t<td>3510</td>\n",
       "\t\t<td>0</td>\n",
       "\t\t<td>1.3532040454475238</td>\n",
       "\t\t<td>1.3581144139044825</td>\n",
       "\t\t<td>1.0466505562673123</td>\n",
       "\t\t<td>0.9983274117237402</td>\n",
       "\t\t<td>-1.5615072949871203</td>\n",
       "\t\t<td>-1.7922391615298476</td>\n",
       "\t\t<td>1.078014587604841</td>\n",
       "\t\t<td>-0.41641538586504173</td>\n",
       "\t\t<td>-0.32120102831046676</td>\n",
       "\t\t<td>0.5593498622915575</td>\n",
       "\t\t<td>-0.664249302807945</td>\n",
       "\t\t<td>0.07027848353322974</td>\n",
       "\t\t<td>-0.6284398226892683</td>\n",
       "\t</tr>\n",
       "\t<tr>\n",
       "\t\t<td>28</td>\n",
       "\t\t<td>1834</td>\n",
       "\t\t<td>0</td>\n",
       "\t\t<td>0.3133966094932205</td>\n",
       "\t\t<td>-1.3646438101251772</td>\n",
       "\t\t<td>1.0466505562673123</td>\n",
       "\t\t<td>-1.3144644254362579</td>\n",
       "\t\t<td>0.026659880646121636</td>\n",
       "\t\t<td>0.5579612484008015</td>\n",
       "\t\t<td>1.078014587604841</td>\n",
       "\t\t<td>-0.8056051253676316</td>\n",
       "\t\t<td>-0.759201280175162</td>\n",
       "\t\t<td>1.2583777914567285</td>\n",
       "\t\t<td>-0.12966971485451625</td>\n",
       "\t\t<td>-1.2877687228277495</td>\n",
       "\t\t<td>-1.2267688904830207</td>\n",
       "\t</tr>\n",
       "\t<tr>\n",
       "\t\t<td>124</td>\n",
       "\t\t<td>4191</td>\n",
       "\t\t<td>0</td>\n",
       "\t\t<td>-1.1498618184786724</td>\n",
       "\t\t<td>-0.45705773544862394</td>\n",
       "\t\t<td>-0.955428718794473</td>\n",
       "\t\t<td>-0.7362664661462585</td>\n",
       "\t\t<td>-1.5615072949871203</td>\n",
       "\t\t<td>-1.7922391615298476</td>\n",
       "\t\t<td>1.078014587604841</td>\n",
       "\t\t<td>0.48644383300146865</td>\n",
       "\t\t<td>0.4888873228038198</td>\n",
       "\t\t<td>1.3022255775785458</td>\n",
       "\t\t<td>0.05424650855467574</td>\n",
       "\t\t<td>1.8323257666468467</td>\n",
       "\t\t<td>-0.7830081652026544</td>\n",
       "\t</tr>\n",
       "\t<tr>\n",
       "\t\t<td>29</td>\n",
       "\t\t<td>7570</td>\n",
       "\t\t<td>0</td>\n",
       "\t\t<td>1.3720240895371945</td>\n",
       "\t\t<td>1.3581144139044825</td>\n",
       "\t\t<td>1.0466505562673123</td>\n",
       "\t\t<td>0.9983274117237402</td>\n",
       "\t\t<td>0.5560489391905356</td>\n",
       "\t\t<td>0.5579612484008015</td>\n",
       "\t\t<td>-0.7493516035789746</td>\n",
       "\t\t<td>-0.3120634275934304</td>\n",
       "\t\t<td>-0.2514947521562293</td>\n",
       "\t\t<td>-1.2163042864431943</td>\n",
       "\t\t<td>-0.09475408322399181</td>\n",
       "\t\t<td>0.17080432422754804</td>\n",
       "\t\t<td>1.8689607759040292</td>\n",
       "\t</tr>\n",
       "\t<tr>\n",
       "\t\t<td>125</td>\n",
       "\t\t<td>5538</td>\n",
       "\t\t<td>0</td>\n",
       "\t\t<td>-0.7640509146404241</td>\n",
       "\t\t<td>0.45052833922792934</td>\n",
       "\t\t<td>-0.955428718794473</td>\n",
       "\t\t<td>0.13103047278874086</td>\n",
       "\t\t<td>1.0854379977349495</td>\n",
       "\t\t<td>0.5579612484008015</td>\n",
       "\t\t<td>-0.7493516035789746</td>\n",
       "\t\t<td>0.9310625539389865</td>\n",
       "\t\t<td>0.9346538631426309</td>\n",
       "\t\t<td>-0.2892171364688949</td>\n",
       "\t\t<td>-0.07733147881618295</td>\n",
       "\t\t<td>1.0888138883039642</td>\n",
       "\t\t<td>0.30084001072790323</td>\n",
       "\t</tr>\n",
       "</table></html>"
      ],
      "text/plain": [
       "    id   cnt  holiday   instant    season        yr      mnth   weekday  workingday  weathersit      temp     atemp       hum  windspeed    casual  registered\n",
       "0   26  5312        0 -1.121632 -0.457058 -0.955429 -0.736266  1.614827   -1.792239   -0.749352 -0.107900 -0.049792 -0.926402   0.658474  2.315988   -0.243265\n",
       "1   27  1977        0  0.134606 -1.364644  1.046651 -1.603563 -1.561507   -1.792239    1.078015 -1.795650 -1.902473  1.196534   0.159360 -1.039299   -1.219290\n",
       "2  123  7444        0  1.442599  1.358114  1.046651  0.998327  1.085438    0.557961    1.078015  0.291351  0.310766  1.275047  -0.786715  0.830861    1.573536\n",
       "3   30  5115        0 -0.538210  0.450528 -0.955429  0.709228  0.556049    0.557961   -0.749352  0.885695  0.876637  0.058065  -0.655320  0.074072    0.370645\n",
       "4   31  3194        0  0.322807 -1.364644  1.046651 -1.025365  1.085438    0.557961    1.078015 -0.756688 -0.689384  0.187912  -0.611545 -0.944463   -0.491946\n",
       "5  127  3510        0  1.353204  1.358114  1.046651  0.998327 -1.561507   -1.792239    1.078015 -0.416415 -0.321201  0.559350  -0.664249  0.070278   -0.628440\n",
       "6   28  1834        0  0.313397 -1.364644  1.046651 -1.314464  0.026660    0.557961    1.078015 -0.805605 -0.759201  1.258378  -0.129670 -1.287769   -1.226769\n",
       "7  124  4191        0 -1.149862 -0.457058 -0.955429 -0.736266 -1.561507   -1.792239    1.078015  0.486444  0.488887  1.302226   0.054247  1.832326   -0.783008\n",
       "8   29  7570        0  1.372024  1.358114  1.046651  0.998327  0.556049    0.557961   -0.749352 -0.312063 -0.251495 -1.216304  -0.094754  0.170804    1.868961\n",
       "9  125  5538        0 -0.764051  0.450528 -0.955429  0.131030  1.085438    0.557961   -0.749352  0.931063  0.934654 -0.289217  -0.077331  1.088814    0.300840"
      ]
     },
     "metadata": {},
     "output_type": "display_data"
    },
    {
     "name": "stdout",
     "output_type": "stream",
     "text": [
      "                                                                                          \r"
     ]
    },
    {
     "data": {
      "text/html": [
       "117 rows X 16 columns"
      ],
      "text/plain": [
       "<IPython.core.display.HTML object>"
      ]
     },
     "metadata": {},
     "output_type": "display_data"
    },
    {
     "name": "stdout",
     "output_type": "stream",
     "text": [
      "                                                                                          \r"
     ]
    },
    {
     "data": {
      "text/html": [
       "Total time taken by feature scaling: 46.05 sec"
      ],
      "text/plain": [
       "<IPython.core.display.HTML object>"
      ]
     },
     "metadata": {},
     "output_type": "display_data"
    },
    {
     "name": "stdout",
     "output_type": "stream",
     "text": [
      "                                                                                          \r"
     ]
    },
    {
     "data": {
      "text/html": [
       "\n",
       "Dimension Reduction using pca ..."
      ],
      "text/plain": [
       "<IPython.core.display.HTML object>"
      ]
     },
     "metadata": {},
     "output_type": "display_data"
    },
    {
     "name": "stdout",
     "output_type": "stream",
     "text": [
      "                                                                                          \r"
     ]
    },
    {
     "data": {
      "text/html": [
       "PCA columns:"
      ],
      "text/plain": [
       "<IPython.core.display.HTML object>"
      ]
     },
     "metadata": {},
     "output_type": "display_data"
    },
    {
     "name": "stdout",
     "output_type": "stream",
     "text": [
      "['col_0', 'col_1', 'col_2', 'col_3', 'col_4', 'col_5', 'col_6', 'col_7']\n",
      "                                                                                          \r"
     ]
    },
    {
     "data": {
      "text/html": [
       "Total time taken by PCA: 10.00 sec  "
      ],
      "text/plain": [
       "<IPython.core.display.HTML object>"
      ]
     },
     "metadata": {},
     "output_type": "display_data"
    },
    {
     "name": "stdout",
     "output_type": "stream",
     "text": [
      "                                                                                          \r"
     ]
    },
    {
     "data": {
      "text/html": [
       "\n",
       "            <style>\n",
       "                .custom-div {\n",
       "                    background-color: lightgray;\n",
       "                    color: #000000;\n",
       "                    padding: 10px;\n",
       "                    border-radius: 8px;\n",
       "                    box-shadow: 0 3px 4px rgba(0 -  0 -  0 -  0.2);\n",
       "                    margin-bottom: 10px;\n",
       "                    text-align: center;\n",
       "                }\n",
       "            </style>\n",
       "        <br><div class=\"custom-div\"><h3><span style=\"color: green;\">1. Feature Exploration -> 2. Feature Engineering -> 3. Data Preparation -></span> 4. Model Training & Evaluation<center></h3></center></div>"
      ],
      "text/plain": [
       "<IPython.core.display.HTML object>"
      ]
     },
     "metadata": {},
     "output_type": "display_data"
    },
    {
     "name": "stdout",
     "output_type": "stream",
     "text": [
      "                                                                                          \r"
     ]
    },
    {
     "data": {
      "text/html": [
       "Model Training started ..."
      ],
      "text/plain": [
       "<IPython.core.display.HTML object>"
      ]
     },
     "metadata": {},
     "output_type": "display_data"
    },
    {
     "name": "stdout",
     "output_type": "stream",
     "text": [
      "                                                                                          \r"
     ]
    },
    {
     "data": {
      "text/html": [
       "\n",
       "Hyperparameters used for model training: "
      ],
      "text/plain": [
       "<IPython.core.display.HTML object>"
      ]
     },
     "metadata": {},
     "output_type": "display_data"
    },
    {
     "name": "stdout",
     "output_type": "stream",
     "text": [
      "response_column : cnt                                                                                                                                 \n",
      "name : decision_forest\n",
      "tree_type : Regression\n",
      "min_impurity : (0.0, 0.2, 0.3)\n",
      "max_depth : (5, 4, 6, 7)\n",
      "min_node_size : (1, 3, 4)\n",
      "num_trees : (-1, 30, 40)\n",
      "seed : 42\n",
      "Total number of models for decision_forest : 108\n",
      "--------------------------------------------------------------------------------------------------------------------------------------------------------------------------------------------------------\n",
      "\n",
      "response_column : cnt\n",
      "name : xgboost\n",
      "model_type : Regression\n",
      "column_sampling : (1, 0.6)\n",
      "min_impurity : (0.0, 0.2, 0.3)\n",
      "lambda1 : (0.01, 0.1, 1, 10)\n",
      "shrinkage_factor : (0.5, 0.01, 0.1, 0.2)\n",
      "max_depth : (5, 4, 6, 7)\n",
      "min_node_size : (1, 3, 4)\n",
      "iter_num : (10, 30, 40)\n",
      "seed : 42\n",
      "Total number of models for xgboost : 3456\n",
      "--------------------------------------------------------------------------------------------------------------------------------------------------------------------------------------------------------\n",
      "\n",
      "response_column : cnt\n",
      "name : knn\n",
      "model_type : Regression\n",
      "k : (3, 5, 6, 8, 10, 12)\n",
      "id_column : id\n",
      "voting_weight : 1.0\n",
      "Total number of models for knn : 6\n",
      "--------------------------------------------------------------------------------------------------------------------------------------------------------------------------------------------------------\n",
      "\n",
      "response_column : cnt\n",
      "name : svm\n",
      "model_type : regression\n",
      "lambda1 : (0.001, 0.02, 0.1)\n",
      "alpha : (0.15, 0.85)\n",
      "tolerance : (0.001, 0.01)\n",
      "learning_rate : ('Invtime', 'Adaptive', 'constant')\n",
      "initial_eta : (0.05, 0.1)\n",
      "momentum : (0.65, 0.8, 0.95)\n",
      "nesterov : True\n",
      "intercept : True\n",
      "iter_num_no_change : (5, 10, 50)\n",
      "local_sgd_iterations  : (10, 20)\n",
      "iter_max : (300, 400)\n",
      "batch_size : (10, 100, 150)\n",
      "Total number of models for svm : 7776\n",
      "--------------------------------------------------------------------------------------------------------------------------------------------------------------------------------------------------------\n",
      "\n",
      "response_column : cnt\n",
      "name : glm\n",
      "family : GAUSSIAN\n",
      "lambda1 : (0.001, 0.02, 0.1)\n",
      "alpha : (0.15, 0.85)\n",
      "learning_rate : ('invtime', 'constant', 'adaptive')\n",
      "initial_eta : (0.05, 0.1)\n",
      "momentum : (0.65, 0.8, 0.95)\n",
      "iter_num_no_change : (5, 10, 50)\n",
      "iter_max : (300, 400)\n",
      "batch_size : (10, 100, 150)\n",
      "Total number of models for glm : 1944\n",
      "--------------------------------------------------------------------------------------------------------------------------------------------------------------------------------------------------------\n",
      "\n",
      "                                                                                          \r"
     ]
    },
    {
     "data": {
      "text/html": [
       "\n",
       "Performing hyperParameter tuning ..."
      ],
      "text/plain": [
       "<IPython.core.display.HTML object>"
      ]
     },
     "metadata": {},
     "output_type": "display_data"
    },
    {
     "name": "stdout",
     "output_type": "stream",
     "text": [
      "                                                                                          \r"
     ]
    },
    {
     "data": {
      "text/html": [
       "decision_forest"
      ],
      "text/plain": [
       "<IPython.core.display.HTML object>"
      ]
     },
     "metadata": {},
     "output_type": "display_data"
    },
    {
     "name": "stdout",
     "output_type": "stream",
     "text": [
      "result data stored in table '\"ALICE\".\"ml__td_sqlmr_persist_out__1719260555111933\"'                                                                                                                      \n",
      "result data stored in table '\"ALICE\".\"ml__td_sqlmr_persist_out__1719261061523844\"'\n",
      "result data stored in table '\"ALICE\".\"ml__td_sqlmr_persist_out__1719262449734637\"'\n",
      "                                                                                          \r"
     ]
    },
    {
     "data": {
      "text/html": [
       "----------------------------------------------------------------------------------------------------"
      ],
      "text/plain": [
       "<IPython.core.display.HTML object>"
      ]
     },
     "metadata": {},
     "output_type": "display_data"
    },
    {
     "name": "stdout",
     "output_type": "stream",
     "text": [
      "                                                                                          \r"
     ]
    },
    {
     "data": {
      "text/html": [
       "xgboost"
      ],
      "text/plain": [
       "<IPython.core.display.HTML object>"
      ]
     },
     "metadata": {},
     "output_type": "display_data"
    },
    {
     "name": "stdout",
     "output_type": "stream",
     "text": [
      "result data stored in table '\"ALICE\".\"ml__td_sqlmr_persist_out__1719262338492584\"'                                                                                                                      \n",
      "result data stored in table '\"ALICE\".\"ml__td_sqlmr_persist_out__1719260660206849\"'\n",
      "result data stored in table '\"ALICE\".\"ml__td_sqlmr_persist_out__1719265098662289\"'\n",
      "                                                                                          \r"
     ]
    },
    {
     "data": {
      "text/html": [
       "----------------------------------------------------------------------------------------------------"
      ],
      "text/plain": [
       "<IPython.core.display.HTML object>"
      ]
     },
     "metadata": {},
     "output_type": "display_data"
    },
    {
     "name": "stdout",
     "output_type": "stream",
     "text": [
      "                                                                                          \r"
     ]
    },
    {
     "data": {
      "text/html": [
       "knn"
      ],
      "text/plain": [
       "<IPython.core.display.HTML object>"
      ]
     },
     "metadata": {},
     "output_type": "display_data"
    },
    {
     "name": "stdout",
     "output_type": "stream",
     "text": [
      "result data stored in table '\"ALICE\".\"ml__td_sqlmr_persist_out__1719261202918192\"'                                                                                                                      \n",
      "result data stored in table '\"ALICE\".\"ml__td_sqlmr_persist_out__1719260747653404\"'\n",
      "result data stored in table '\"ALICE\".\"ml__td_sqlmr_persist_out__1719260212507924\"'\n",
      "                                                                                          \r"
     ]
    },
    {
     "data": {
      "text/html": [
       "----------------------------------------------------------------------------------------------------"
      ],
      "text/plain": [
       "<IPython.core.display.HTML object>"
      ]
     },
     "metadata": {},
     "output_type": "display_data"
    },
    {
     "name": "stdout",
     "output_type": "stream",
     "text": [
      "                                                                                          \r"
     ]
    },
    {
     "data": {
      "text/html": [
       "svm"
      ],
      "text/plain": [
       "<IPython.core.display.HTML object>"
      ]
     },
     "metadata": {},
     "output_type": "display_data"
    },
    {
     "name": "stdout",
     "output_type": "stream",
     "text": [
      "result data stored in table '\"ALICE\".\"ml__td_sqlmr_persist_out__1719261222622659\"'                                                                                                                      \n",
      "result data stored in table '\"ALICE\".\"ml__td_sqlmr_persist_out__1719261206356068\"'\n",
      "result data stored in table '\"ALICE\".\"ml__td_sqlmr_persist_out__1719261374172326\"'\n",
      "                                                                                          \r"
     ]
    },
    {
     "data": {
      "text/html": [
       "----------------------------------------------------------------------------------------------------"
      ],
      "text/plain": [
       "<IPython.core.display.HTML object>"
      ]
     },
     "metadata": {},
     "output_type": "display_data"
    },
    {
     "name": "stdout",
     "output_type": "stream",
     "text": [
      "                                                                                          \r"
     ]
    },
    {
     "data": {
      "text/html": [
       "glm"
      ],
      "text/plain": [
       "<IPython.core.display.HTML object>"
      ]
     },
     "metadata": {},
     "output_type": "display_data"
    },
    {
     "name": "stdout",
     "output_type": "stream",
     "text": [
      "result data stored in table '\"ALICE\".\"ml__td_sqlmr_persist_out__1719261063490940\"'                                                                                                                      \n",
      "result data stored in table '\"ALICE\".\"ml__td_sqlmr_persist_out__1719261605896317\"'\n",
      "result data stored in table '\"ALICE\".\"ml__td_sqlmr_persist_out__1719266505046523\"'\n",
      "                                                                                          \r"
     ]
    },
    {
     "data": {
      "text/html": [
       "----------------------------------------------------------------------------------------------------"
      ],
      "text/plain": [
       "<IPython.core.display.HTML object>"
      ]
     },
     "metadata": {},
     "output_type": "display_data"
    },
    {
     "name": "stdout",
     "output_type": "stream",
     "text": [
      "                                                                                          \r"
     ]
    },
    {
     "data": {
      "text/html": [
       "Evaluating models performance ..."
      ],
      "text/plain": [
       "<IPython.core.display.HTML object>"
      ]
     },
     "metadata": {},
     "output_type": "display_data"
    },
    {
     "name": "stdout",
     "output_type": "stream",
     "text": [
      "                                                                                          \r"
     ]
    },
    {
     "data": {
      "text/html": [
       "Evaluation completed."
      ],
      "text/plain": [
       "<IPython.core.display.HTML object>"
      ]
     },
     "metadata": {},
     "output_type": "display_data"
    },
    {
     "name": "stdout",
     "output_type": "stream",
     "text": [
      "                                                                                          \r"
     ]
    },
    {
     "data": {
      "text/html": [
       "Leaderboard"
      ],
      "text/plain": [
       "<IPython.core.display.HTML object>"
      ]
     },
     "metadata": {},
     "output_type": "display_data"
    },
    {
     "data": {
      "text/html": [
       "<div>\n",
       "<style scoped>\n",
       "    .dataframe tbody tr th:only-of-type {\n",
       "        vertical-align: middle;\n",
       "    }\n",
       "\n",
       "    .dataframe tbody tr th {\n",
       "        vertical-align: top;\n",
       "    }\n",
       "\n",
       "    .dataframe thead th {\n",
       "        text-align: right;\n",
       "    }\n",
       "</style>\n",
       "<table border=\"1\" class=\"dataframe\">\n",
       "  <thead>\n",
       "    <tr style=\"text-align: right;\">\n",
       "      <th></th>\n",
       "      <th>Rank</th>\n",
       "      <th>Model-ID</th>\n",
       "      <th>Feature-Selection</th>\n",
       "      <th>MAE</th>\n",
       "      <th>MSE</th>\n",
       "      <th>MSLE</th>\n",
       "      <th>RMSE</th>\n",
       "      <th>RMSLE</th>\n",
       "      <th>R2-score</th>\n",
       "      <th>Adjusted R2-score</th>\n",
       "    </tr>\n",
       "  </thead>\n",
       "  <tbody>\n",
       "    <tr>\n",
       "      <th>0</th>\n",
       "      <td>1</td>\n",
       "      <td>GLM_1</td>\n",
       "      <td>rfe</td>\n",
       "      <td>0.386423</td>\n",
       "      <td>2.264876e-01</td>\n",
       "      <td>7.724585e-08</td>\n",
       "      <td>0.475907</td>\n",
       "      <td>0.000278</td>\n",
       "      <td>1.000000</td>\n",
       "      <td>1.000000</td>\n",
       "    </tr>\n",
       "    <tr>\n",
       "      <th>1</th>\n",
       "      <td>2</td>\n",
       "      <td>KNN_1</td>\n",
       "      <td>rfe</td>\n",
       "      <td>88.707166</td>\n",
       "      <td>3.443642e+04</td>\n",
       "      <td>1.519090e-03</td>\n",
       "      <td>185.570516</td>\n",
       "      <td>0.038976</td>\n",
       "      <td>0.988414</td>\n",
       "      <td>0.988210</td>\n",
       "    </tr>\n",
       "    <tr>\n",
       "      <th>2</th>\n",
       "      <td>3</td>\n",
       "      <td>DECISIONFOREST_0</td>\n",
       "      <td>lasso</td>\n",
       "      <td>298.648148</td>\n",
       "      <td>1.762768e+05</td>\n",
       "      <td>1.319662e-02</td>\n",
       "      <td>419.853267</td>\n",
       "      <td>0.114877</td>\n",
       "      <td>0.940690</td>\n",
       "      <td>0.939650</td>\n",
       "    </tr>\n",
       "    <tr>\n",
       "      <th>3</th>\n",
       "      <td>4</td>\n",
       "      <td>DECISIONFOREST_2</td>\n",
       "      <td>pca</td>\n",
       "      <td>566.318018</td>\n",
       "      <td>5.807889e+05</td>\n",
       "      <td>6.084368e-02</td>\n",
       "      <td>762.095051</td>\n",
       "      <td>0.246665</td>\n",
       "      <td>0.804589</td>\n",
       "      <td>0.790114</td>\n",
       "    </tr>\n",
       "    <tr>\n",
       "      <th>4</th>\n",
       "      <td>5</td>\n",
       "      <td>XGBOOST_2</td>\n",
       "      <td>pca</td>\n",
       "      <td>816.568373</td>\n",
       "      <td>9.408753e+05</td>\n",
       "      <td>6.548199e-02</td>\n",
       "      <td>969.987265</td>\n",
       "      <td>0.255894</td>\n",
       "      <td>0.683435</td>\n",
       "      <td>0.659986</td>\n",
       "    </tr>\n",
       "    <tr>\n",
       "      <th>5</th>\n",
       "      <td>6</td>\n",
       "      <td>DECISIONFOREST_1</td>\n",
       "      <td>rfe</td>\n",
       "      <td>928.776658</td>\n",
       "      <td>1.364854e+06</td>\n",
       "      <td>1.347478e-01</td>\n",
       "      <td>1168.269463</td>\n",
       "      <td>0.367080</td>\n",
       "      <td>0.540784</td>\n",
       "      <td>0.532728</td>\n",
       "    </tr>\n",
       "    <tr>\n",
       "      <th>6</th>\n",
       "      <td>7</td>\n",
       "      <td>XGBOOST_0</td>\n",
       "      <td>lasso</td>\n",
       "      <td>1019.532146</td>\n",
       "      <td>1.661624e+06</td>\n",
       "      <td>1.178348e-01</td>\n",
       "      <td>1289.039903</td>\n",
       "      <td>0.343271</td>\n",
       "      <td>0.440933</td>\n",
       "      <td>0.431125</td>\n",
       "    </tr>\n",
       "    <tr>\n",
       "      <th>7</th>\n",
       "      <td>8</td>\n",
       "      <td>XGBOOST_1</td>\n",
       "      <td>rfe</td>\n",
       "      <td>1135.675360</td>\n",
       "      <td>2.188197e+06</td>\n",
       "      <td>1.088479e-01</td>\n",
       "      <td>1479.255624</td>\n",
       "      <td>0.329921</td>\n",
       "      <td>0.263763</td>\n",
       "      <td>0.250847</td>\n",
       "    </tr>\n",
       "  </tbody>\n",
       "</table>\n",
       "</div>"
      ],
      "text/plain": [
       "   Rank          Model-ID Feature-Selection          MAE           MSE  \\\n",
       "0     1             GLM_1               rfe     0.386423  2.264876e-01   \n",
       "1     2             KNN_1               rfe    88.707166  3.443642e+04   \n",
       "2     3  DECISIONFOREST_0             lasso   298.648148  1.762768e+05   \n",
       "3     4  DECISIONFOREST_2               pca   566.318018  5.807889e+05   \n",
       "4     5         XGBOOST_2               pca   816.568373  9.408753e+05   \n",
       "5     6  DECISIONFOREST_1               rfe   928.776658  1.364854e+06   \n",
       "6     7         XGBOOST_0             lasso  1019.532146  1.661624e+06   \n",
       "7     8         XGBOOST_1               rfe  1135.675360  2.188197e+06   \n",
       "\n",
       "           MSLE         RMSE     RMSLE  R2-score  Adjusted R2-score  \n",
       "0  7.724585e-08     0.475907  0.000278  1.000000           1.000000  \n",
       "1  1.519090e-03   185.570516  0.038976  0.988414           0.988210  \n",
       "2  1.319662e-02   419.853267  0.114877  0.940690           0.939650  \n",
       "3  6.084368e-02   762.095051  0.246665  0.804589           0.790114  \n",
       "4  6.548199e-02   969.987265  0.255894  0.683435           0.659986  \n",
       "5  1.347478e-01  1168.269463  0.367080  0.540784           0.532728  \n",
       "6  1.178348e-01  1289.039903  0.343271  0.440933           0.431125  \n",
       "7  1.088479e-01  1479.255624  0.329921  0.263763           0.250847  "
      ]
     },
     "metadata": {},
     "output_type": "display_data"
    },
    {
     "name": "stdout",
     "output_type": "stream",
     "text": [
      "                                                                                          \r"
     ]
    },
    {
     "data": {
      "text/html": [
       "8 rows X 10 columns"
      ],
      "text/plain": [
       "<IPython.core.display.HTML object>"
      ]
     },
     "metadata": {},
     "output_type": "display_data"
    },
    {
     "name": "stdout",
     "output_type": "stream",
     "text": [
      "                                                                                          \r"
     ]
    },
    {
     "data": {
      "text/html": [
       "\n",
       "            <style>\n",
       "                .custom-div {\n",
       "                    background-color: lightgray;\n",
       "                    color: #000000;\n",
       "                    padding: 10px;\n",
       "                    border-radius: 8px;\n",
       "                    box-shadow: 0 3px 4px rgba(0 -  0 -  0 -  0.2);\n",
       "                    margin-bottom: 10px;\n",
       "                    text-align: center;\n",
       "                }\n",
       "            </style>\n",
       "        <br><div class=\"custom-div\"><h3><span style=\"color: green;\">1. Feature Exploration -> 2. Feature Engineering -> 3. Data Preparation -> 4. Model Training & Evaluation</span><center></h3></center></div>"
      ],
      "text/plain": [
       "<IPython.core.display.HTML object>"
      ]
     },
     "metadata": {},
     "output_type": "display_data"
    },
    {
     "name": "stdout",
     "output_type": "stream",
     "text": [
      "Completed: ｜⫿⫿⫿⫿⫿⫿⫿⫿⫿⫿⫿⫿⫿⫿⫿⫿⫿⫿⫿⫿⫿⫿⫿⫿⫿⫿⫿⫿⫿⫿⫿⫿⫿⫿⫿⫿⫿⫿⫿⫿⫿⫿⫿⫿⫿⫿⫿⫿⫿⫿⫿⫿⫿⫿⫿⫿⫿⫿⫿⫿｜ 100% - 19/19    \r"
     ]
    }
   ],
   "source": [
    "# Fitting train data\n",
    "aml.fit(bike_df_train, bike_df_train.cnt)"
   ]
  },
  {
   "cell_type": "markdown",
   "id": "23a04eb1-68e6-48b7-95aa-442f434809da",
   "metadata": {},
   "source": [
    "## <b><span style='color:#F1A424'>| 3.</span> Leaderboard : </b>"
   ]
  },
  {
   "cell_type": "code",
   "execution_count": 18,
   "id": "77de1099-6122-4f8a-8e7f-dd67e5b4ced4",
   "metadata": {},
   "outputs": [
    {
     "data": {
      "text/html": [
       "<div>\n",
       "<style scoped>\n",
       "    .dataframe tbody tr th:only-of-type {\n",
       "        vertical-align: middle;\n",
       "    }\n",
       "\n",
       "    .dataframe tbody tr th {\n",
       "        vertical-align: top;\n",
       "    }\n",
       "\n",
       "    .dataframe thead th {\n",
       "        text-align: right;\n",
       "    }\n",
       "</style>\n",
       "<table border=\"1\" class=\"dataframe\">\n",
       "  <thead>\n",
       "    <tr style=\"text-align: right;\">\n",
       "      <th></th>\n",
       "      <th>Rank</th>\n",
       "      <th>Model-ID</th>\n",
       "      <th>Feature-Selection</th>\n",
       "      <th>MAE</th>\n",
       "      <th>MSE</th>\n",
       "      <th>MSLE</th>\n",
       "      <th>RMSE</th>\n",
       "      <th>RMSLE</th>\n",
       "      <th>R2-score</th>\n",
       "      <th>Adjusted R2-score</th>\n",
       "    </tr>\n",
       "  </thead>\n",
       "  <tbody>\n",
       "    <tr>\n",
       "      <th>0</th>\n",
       "      <td>1</td>\n",
       "      <td>GLM_1</td>\n",
       "      <td>rfe</td>\n",
       "      <td>0.386423</td>\n",
       "      <td>2.264876e-01</td>\n",
       "      <td>7.724585e-08</td>\n",
       "      <td>0.475907</td>\n",
       "      <td>0.000278</td>\n",
       "      <td>1.000000</td>\n",
       "      <td>1.000000</td>\n",
       "    </tr>\n",
       "    <tr>\n",
       "      <th>1</th>\n",
       "      <td>2</td>\n",
       "      <td>KNN_1</td>\n",
       "      <td>rfe</td>\n",
       "      <td>88.707166</td>\n",
       "      <td>3.443642e+04</td>\n",
       "      <td>1.519090e-03</td>\n",
       "      <td>185.570516</td>\n",
       "      <td>0.038976</td>\n",
       "      <td>0.988414</td>\n",
       "      <td>0.988210</td>\n",
       "    </tr>\n",
       "    <tr>\n",
       "      <th>2</th>\n",
       "      <td>3</td>\n",
       "      <td>DECISIONFOREST_0</td>\n",
       "      <td>lasso</td>\n",
       "      <td>298.648148</td>\n",
       "      <td>1.762768e+05</td>\n",
       "      <td>1.319662e-02</td>\n",
       "      <td>419.853267</td>\n",
       "      <td>0.114877</td>\n",
       "      <td>0.940690</td>\n",
       "      <td>0.939650</td>\n",
       "    </tr>\n",
       "    <tr>\n",
       "      <th>3</th>\n",
       "      <td>4</td>\n",
       "      <td>DECISIONFOREST_2</td>\n",
       "      <td>pca</td>\n",
       "      <td>566.318018</td>\n",
       "      <td>5.807889e+05</td>\n",
       "      <td>6.084368e-02</td>\n",
       "      <td>762.095051</td>\n",
       "      <td>0.246665</td>\n",
       "      <td>0.804589</td>\n",
       "      <td>0.790114</td>\n",
       "    </tr>\n",
       "    <tr>\n",
       "      <th>4</th>\n",
       "      <td>5</td>\n",
       "      <td>XGBOOST_2</td>\n",
       "      <td>pca</td>\n",
       "      <td>816.568373</td>\n",
       "      <td>9.408753e+05</td>\n",
       "      <td>6.548199e-02</td>\n",
       "      <td>969.987265</td>\n",
       "      <td>0.255894</td>\n",
       "      <td>0.683435</td>\n",
       "      <td>0.659986</td>\n",
       "    </tr>\n",
       "    <tr>\n",
       "      <th>5</th>\n",
       "      <td>6</td>\n",
       "      <td>DECISIONFOREST_1</td>\n",
       "      <td>rfe</td>\n",
       "      <td>928.776658</td>\n",
       "      <td>1.364854e+06</td>\n",
       "      <td>1.347478e-01</td>\n",
       "      <td>1168.269463</td>\n",
       "      <td>0.367080</td>\n",
       "      <td>0.540784</td>\n",
       "      <td>0.532728</td>\n",
       "    </tr>\n",
       "    <tr>\n",
       "      <th>6</th>\n",
       "      <td>7</td>\n",
       "      <td>XGBOOST_0</td>\n",
       "      <td>lasso</td>\n",
       "      <td>1019.532146</td>\n",
       "      <td>1.661624e+06</td>\n",
       "      <td>1.178348e-01</td>\n",
       "      <td>1289.039903</td>\n",
       "      <td>0.343271</td>\n",
       "      <td>0.440933</td>\n",
       "      <td>0.431125</td>\n",
       "    </tr>\n",
       "    <tr>\n",
       "      <th>7</th>\n",
       "      <td>8</td>\n",
       "      <td>XGBOOST_1</td>\n",
       "      <td>rfe</td>\n",
       "      <td>1135.675360</td>\n",
       "      <td>2.188197e+06</td>\n",
       "      <td>1.088479e-01</td>\n",
       "      <td>1479.255624</td>\n",
       "      <td>0.329921</td>\n",
       "      <td>0.263763</td>\n",
       "      <td>0.250847</td>\n",
       "    </tr>\n",
       "  </tbody>\n",
       "</table>\n",
       "</div>"
      ],
      "text/plain": [
       "   Rank          Model-ID Feature-Selection          MAE           MSE  \\\n",
       "0     1             GLM_1               rfe     0.386423  2.264876e-01   \n",
       "1     2             KNN_1               rfe    88.707166  3.443642e+04   \n",
       "2     3  DECISIONFOREST_0             lasso   298.648148  1.762768e+05   \n",
       "3     4  DECISIONFOREST_2               pca   566.318018  5.807889e+05   \n",
       "4     5         XGBOOST_2               pca   816.568373  9.408753e+05   \n",
       "5     6  DECISIONFOREST_1               rfe   928.776658  1.364854e+06   \n",
       "6     7         XGBOOST_0             lasso  1019.532146  1.661624e+06   \n",
       "7     8         XGBOOST_1               rfe  1135.675360  2.188197e+06   \n",
       "\n",
       "           MSLE         RMSE     RMSLE  R2-score  Adjusted R2-score  \n",
       "0  7.724585e-08     0.475907  0.000278  1.000000           1.000000  \n",
       "1  1.519090e-03   185.570516  0.038976  0.988414           0.988210  \n",
       "2  1.319662e-02   419.853267  0.114877  0.940690           0.939650  \n",
       "3  6.084368e-02   762.095051  0.246665  0.804589           0.790114  \n",
       "4  6.548199e-02   969.987265  0.255894  0.683435           0.659986  \n",
       "5  1.347478e-01  1168.269463  0.367080  0.540784           0.532728  \n",
       "6  1.178348e-01  1289.039903  0.343271  0.440933           0.431125  \n",
       "7  1.088479e-01  1479.255624  0.329921  0.263763           0.250847  "
      ]
     },
     "execution_count": 18,
     "metadata": {},
     "output_type": "execute_result"
    }
   ],
   "source": [
    "# Fetching Leaderboard\n",
    "aml.leaderboard()"
   ]
  },
  {
   "cell_type": "markdown",
   "id": "a7a3aa08-e349-4a61-9217-2c17d50411d8",
   "metadata": {},
   "source": [
    "## <b><span style='color:#F1A424'>| 4.</span> Best Performing Model : </b>"
   ]
  },
  {
   "cell_type": "code",
   "execution_count": 19,
   "id": "c4c32832-a76b-4f42-826a-cefc38a6301b",
   "metadata": {},
   "outputs": [
    {
     "data": {
      "text/html": [
       "<div>\n",
       "<style scoped>\n",
       "    .dataframe tbody tr th:only-of-type {\n",
       "        vertical-align: middle;\n",
       "    }\n",
       "\n",
       "    .dataframe tbody tr th {\n",
       "        vertical-align: top;\n",
       "    }\n",
       "\n",
       "    .dataframe thead th {\n",
       "        text-align: right;\n",
       "    }\n",
       "</style>\n",
       "<table border=\"1\" class=\"dataframe\">\n",
       "  <thead>\n",
       "    <tr style=\"text-align: right;\">\n",
       "      <th></th>\n",
       "      <th>Rank</th>\n",
       "      <th>Model-ID</th>\n",
       "      <th>Feature-Selection</th>\n",
       "      <th>MAE</th>\n",
       "      <th>MSE</th>\n",
       "      <th>MSLE</th>\n",
       "      <th>RMSE</th>\n",
       "      <th>RMSLE</th>\n",
       "      <th>R2-score</th>\n",
       "      <th>Adjusted R2-score</th>\n",
       "    </tr>\n",
       "  </thead>\n",
       "  <tbody>\n",
       "    <tr>\n",
       "      <th>0</th>\n",
       "      <td>1</td>\n",
       "      <td>GLM_1</td>\n",
       "      <td>rfe</td>\n",
       "      <td>0.386423</td>\n",
       "      <td>0.226488</td>\n",
       "      <td>7.724585e-08</td>\n",
       "      <td>0.475907</td>\n",
       "      <td>0.000278</td>\n",
       "      <td>1.0</td>\n",
       "      <td>1.0</td>\n",
       "    </tr>\n",
       "  </tbody>\n",
       "</table>\n",
       "</div>"
      ],
      "text/plain": [
       "   Rank Model-ID Feature-Selection       MAE       MSE          MSLE  \\\n",
       "0     1    GLM_1               rfe  0.386423  0.226488  7.724585e-08   \n",
       "\n",
       "       RMSE     RMSLE  R2-score  Adjusted R2-score  \n",
       "0  0.475907  0.000278       1.0                1.0  "
      ]
     },
     "metadata": {},
     "output_type": "display_data"
    }
   ],
   "source": [
    "# Fetching best performing model for dataset\n",
    "aml.leader()"
   ]
  },
  {
   "cell_type": "markdown",
   "id": "e43181a9-3847-4e8b-b510-6da81f1c550f",
   "metadata": {},
   "source": [
    "## <b><span style='color:#F1A424'>| 5.</span> Generating Prediction : </b>"
   ]
  },
  {
   "cell_type": "code",
   "execution_count": 22,
   "id": "5b6edfe3-bd5a-46bd-ad80-b20fadfed7a0",
   "metadata": {},
   "outputs": [
    {
     "name": "stdout",
     "output_type": "stream",
     "text": [
      "Data Transformation started ...\n",
      "                                                                                                \r"
     ]
    },
    {
     "data": {
      "text/html": [
       "Performing transformation carried out in feature engineering phase ..."
      ],
      "text/plain": [
       "<IPython.core.display.HTML object>"
      ]
     },
     "metadata": {},
     "output_type": "display_data"
    },
    {
     "name": "stdout",
     "output_type": "stream",
     "text": [
      "                                                                                                 \r"
     ]
    },
    {
     "data": {
      "text/html": [
       "Performing transformation carried out in data preparation phase ..."
      ],
      "text/plain": [
       "<IPython.core.display.HTML object>"
      ]
     },
     "metadata": {},
     "output_type": "display_data"
    },
    {
     "name": "stdout",
     "output_type": "stream",
     "text": [
      "result data stored in table '\"ALICE\".\"ml__td_sqlmr_persist_out__1719261592479912\"'⫾⫾⫾｜ 60% - 6/10\n",
      "                                                                                                 \r"
     ]
    },
    {
     "data": {
      "text/html": [
       "\n",
       "Updated dataset after performing Lasso feature selection:"
      ],
      "text/plain": [
       "<IPython.core.display.HTML object>"
      ]
     },
     "metadata": {},
     "output_type": "display_data"
    },
    {
     "data": {
      "text/html": [
       "<style type=\"text/css\">\n",
       "\ttable {border:ridge 5px;}\n",
       "\ttable td {border:inset 1px;}\n",
       "\ttable tr#HeaderRow {background-color:grey; color:white;}</style>\n",
       "<html><table>\n",
       "\t<tr id=\"HeaderRow\">\n",
       "\t\t<th>id</th>\n",
       "\t\t<th>casual</th>\n",
       "\t\t<th>registered</th>\n",
       "\t\t<th>cnt</th>\n",
       "\t</tr>\n",
       "\t<tr>\n",
       "\t\t<td>41</td>\n",
       "\t\t<td>2090</td>\n",
       "\t\t<td>4446</td>\n",
       "\t\t<td>6536</td>\n",
       "\t</tr>\n",
       "\t<tr>\n",
       "\t\t<td>89</td>\n",
       "\t\t<td>603</td>\n",
       "\t\t<td>3848</td>\n",
       "\t\t<td>4451</td>\n",
       "\t</tr>\n",
       "\t<tr>\n",
       "\t\t<td>52</td>\n",
       "\t\t<td>1582</td>\n",
       "\t\t<td>2971</td>\n",
       "\t\t<td>4553</td>\n",
       "\t</tr>\n",
       "\t<tr>\n",
       "\t\t<td>39</td>\n",
       "\t\t<td>732</td>\n",
       "\t\t<td>3916</td>\n",
       "\t\t<td>4648</td>\n",
       "\t</tr>\n",
       "\t<tr>\n",
       "\t\t<td>123</td>\n",
       "\t\t<td>956</td>\n",
       "\t\t<td>3110</td>\n",
       "\t\t<td>4066</td>\n",
       "\t</tr>\n",
       "\t<tr>\n",
       "\t\t<td>12</td>\n",
       "\t\t<td>401</td>\n",
       "\t\t<td>1676</td>\n",
       "\t\t<td>2077</td>\n",
       "\t</tr>\n",
       "\t<tr>\n",
       "\t\t<td>92</td>\n",
       "\t\t<td>303</td>\n",
       "\t\t<td>451</td>\n",
       "\t\t<td>754</td>\n",
       "\t</tr>\n",
       "\t<tr>\n",
       "\t\t<td>132</td>\n",
       "\t\t<td>212</td>\n",
       "\t\t<td>4373</td>\n",
       "\t\t<td>4585</td>\n",
       "\t</tr>\n",
       "\t<tr>\n",
       "\t\t<td>87</td>\n",
       "\t\t<td>1448</td>\n",
       "\t\t<td>3392</td>\n",
       "\t\t<td>4840</td>\n",
       "\t</tr>\n",
       "\t<tr>\n",
       "\t\t<td>118</td>\n",
       "\t\t<td>954</td>\n",
       "\t\t<td>5336</td>\n",
       "\t\t<td>6290</td>\n",
       "\t</tr>\n",
       "</table></html>"
      ],
      "text/plain": [
       "    id  casual  registered   cnt\n",
       "0   41    2090        4446  6536\n",
       "1   89     603        3848  4451\n",
       "2   52    1582        2971  4553\n",
       "3   39     732        3916  4648\n",
       "4  123     956        3110  4066\n",
       "5   12     401        1676  2077\n",
       "6   92     303         451   754\n",
       "7  132     212        4373  4585\n",
       "8   87    1448        3392  4840\n",
       "9  118     954        5336  6290"
      ]
     },
     "metadata": {},
     "output_type": "display_data"
    },
    {
     "name": "stdout",
     "output_type": "stream",
     "text": [
      "                                                                                                 \r"
     ]
    },
    {
     "data": {
      "text/html": [
       "146 rows X 4 columns"
      ],
      "text/plain": [
       "<IPython.core.display.HTML object>"
      ]
     },
     "metadata": {},
     "output_type": "display_data"
    },
    {
     "name": "stdout",
     "output_type": "stream",
     "text": [
      "                                                                                                 \r"
     ]
    },
    {
     "data": {
      "text/html": [
       "\n",
       "Updated dataset after performing scaling on Lasso selected features :"
      ],
      "text/plain": [
       "<IPython.core.display.HTML object>"
      ]
     },
     "metadata": {},
     "output_type": "display_data"
    },
    {
     "data": {
      "text/html": [
       "<style type=\"text/css\">\n",
       "\ttable {border:ridge 5px;}\n",
       "\ttable td {border:inset 1px;}\n",
       "\ttable tr#HeaderRow {background-color:grey; color:white;}</style>\n",
       "<html><table>\n",
       "\t<tr id=\"HeaderRow\">\n",
       "\t\t<th>id</th>\n",
       "\t\t<th>cnt</th>\n",
       "\t\t<th>casual</th>\n",
       "\t\t<th>registered</th>\n",
       "\t</tr>\n",
       "\t<tr>\n",
       "\t\t<td>87</td>\n",
       "\t\t<td>4840</td>\n",
       "\t\t<td>1.3353867051013486</td>\n",
       "\t\t<td>-0.21521881024420808</td>\n",
       "\t</tr>\n",
       "\t<tr>\n",
       "\t\t<td>92</td>\n",
       "\t\t<td>754</td>\n",
       "\t\t<td>-0.8363507966909994</td>\n",
       "\t\t<td>-2.048224839808192</td>\n",
       "\t</tr>\n",
       "\t<tr>\n",
       "\t\t<td>132</td>\n",
       "\t\t<td>4585</td>\n",
       "\t\t<td>-1.0089517684491685</td>\n",
       "\t\t<td>0.3961987059075323</td>\n",
       "\t</tr>\n",
       "\t<tr>\n",
       "\t\t<td>140</td>\n",
       "\t\t<td>5217</td>\n",
       "\t\t<td>2.1908047079907367</td>\n",
       "\t\t<td>-0.26134000921997647</td>\n",
       "\t</tr>\n",
       "\t<tr>\n",
       "\t\t<td>89</td>\n",
       "\t\t<td>4451</td>\n",
       "\t\t<td>-0.26733660408165055</td>\n",
       "\t\t<td>0.06898749695782416</td>\n",
       "\t</tr>\n",
       "\t<tr>\n",
       "\t\t<td>52</td>\n",
       "\t\t<td>4553</td>\n",
       "\t\t<td>1.589546377800191</td>\n",
       "\t\t<td>-0.4776110368495931</td>\n",
       "\t</tr>\n",
       "\t<tr>\n",
       "\t\t<td>123</td>\n",
       "\t\t<td>4066</td>\n",
       "\t\t<td>0.4022034292220166</td>\n",
       "\t\t<td>-0.39097797390862277</td>\n",
       "\t</tr>\n",
       "\t<tr>\n",
       "\t\t<td>12</td>\n",
       "\t\t<td>2077</td>\n",
       "\t\t<td>-0.6504728271052788</td>\n",
       "\t\t<td>-1.28473201892554</td>\n",
       "\t</tr>\n",
       "\t<tr>\n",
       "\t\t<td>39</td>\n",
       "\t\t<td>4648</td>\n",
       "\t\t<td>-0.022660501259630567</td>\n",
       "\t\t<td>0.11136913925988161</td>\n",
       "\t</tr>\n",
       "\t<tr>\n",
       "\t\t<td>45</td>\n",
       "\t\t<td>4507</td>\n",
       "\t\t<td>-0.15732719351050978</td>\n",
       "\t\t<td>0.06774097806658719</td>\n",
       "\t</tr>\n",
       "</table></html>"
      ],
      "text/plain": [
       "    id   cnt    casual  registered\n",
       "0   87  4840  1.335387   -0.215219\n",
       "1   92   754 -0.836351   -2.048225\n",
       "2  132  4585 -1.008952    0.396199\n",
       "3  140  5217  2.190805   -0.261340\n",
       "4   89  4451 -0.267337    0.068987\n",
       "5   52  4553  1.589546   -0.477611\n",
       "6  123  4066  0.402203   -0.390978\n",
       "7   12  2077 -0.650473   -1.284732\n",
       "8   39  4648 -0.022661    0.111369\n",
       "9   45  4507 -0.157327    0.067741"
      ]
     },
     "metadata": {},
     "output_type": "display_data"
    },
    {
     "name": "stdout",
     "output_type": "stream",
     "text": [
      "                                                                                                 \r"
     ]
    },
    {
     "data": {
      "text/html": [
       "146 rows X 4 columns"
      ],
      "text/plain": [
       "<IPython.core.display.HTML object>"
      ]
     },
     "metadata": {},
     "output_type": "display_data"
    },
    {
     "name": "stdout",
     "output_type": "stream",
     "text": [
      "                                                                                                 \r"
     ]
    },
    {
     "data": {
      "text/html": [
       "\n",
       "Updated dataset after performing RFE feature selection:"
      ],
      "text/plain": [
       "<IPython.core.display.HTML object>"
      ]
     },
     "metadata": {},
     "output_type": "display_data"
    },
    {
     "data": {
      "text/html": [
       "<style type=\"text/css\">\n",
       "\ttable {border:ridge 5px;}\n",
       "\ttable td {border:inset 1px;}\n",
       "\ttable tr#HeaderRow {background-color:grey; color:white;}</style>\n",
       "<html><table>\n",
       "\t<tr id=\"HeaderRow\">\n",
       "\t\t<th>id</th>\n",
       "\t\t<th>casual</th>\n",
       "\t\t<th>registered</th>\n",
       "\t\t<th>cnt</th>\n",
       "\t</tr>\n",
       "\t<tr>\n",
       "\t\t<td>41</td>\n",
       "\t\t<td>2090</td>\n",
       "\t\t<td>4446</td>\n",
       "\t\t<td>6536</td>\n",
       "\t</tr>\n",
       "\t<tr>\n",
       "\t\t<td>39</td>\n",
       "\t\t<td>732</td>\n",
       "\t\t<td>3916</td>\n",
       "\t\t<td>4648</td>\n",
       "\t</tr>\n",
       "\t<tr>\n",
       "\t\t<td>45</td>\n",
       "\t\t<td>661</td>\n",
       "\t\t<td>3846</td>\n",
       "\t\t<td>4507</td>\n",
       "\t</tr>\n",
       "\t<tr>\n",
       "\t\t<td>92</td>\n",
       "\t\t<td>303</td>\n",
       "\t\t<td>451</td>\n",
       "\t\t<td>754</td>\n",
       "\t</tr>\n",
       "\t<tr>\n",
       "\t\t<td>140</td>\n",
       "\t\t<td>1899</td>\n",
       "\t\t<td>3318</td>\n",
       "\t\t<td>5217</td>\n",
       "\t</tr>\n",
       "\t<tr>\n",
       "\t\t<td>73</td>\n",
       "\t\t<td>922</td>\n",
       "\t\t<td>6612</td>\n",
       "\t\t<td>7534</td>\n",
       "\t</tr>\n",
       "\t<tr>\n",
       "\t\t<td>123</td>\n",
       "\t\t<td>956</td>\n",
       "\t\t<td>3110</td>\n",
       "\t\t<td>4066</td>\n",
       "\t</tr>\n",
       "\t<tr>\n",
       "\t\t<td>12</td>\n",
       "\t\t<td>401</td>\n",
       "\t\t<td>1676</td>\n",
       "\t\t<td>2077</td>\n",
       "\t</tr>\n",
       "\t<tr>\n",
       "\t\t<td>87</td>\n",
       "\t\t<td>1448</td>\n",
       "\t\t<td>3392</td>\n",
       "\t\t<td>4840</td>\n",
       "\t</tr>\n",
       "\t<tr>\n",
       "\t\t<td>118</td>\n",
       "\t\t<td>954</td>\n",
       "\t\t<td>5336</td>\n",
       "\t\t<td>6290</td>\n",
       "\t</tr>\n",
       "</table></html>"
      ],
      "text/plain": [
       "    id  casual  registered   cnt\n",
       "0   41    2090        4446  6536\n",
       "1   39     732        3916  4648\n",
       "2   45     661        3846  4507\n",
       "3   92     303         451   754\n",
       "4  140    1899        3318  5217\n",
       "5   73     922        6612  7534\n",
       "6  123     956        3110  4066\n",
       "7   12     401        1676  2077\n",
       "8   87    1448        3392  4840\n",
       "9  118     954        5336  6290"
      ]
     },
     "metadata": {},
     "output_type": "display_data"
    },
    {
     "name": "stdout",
     "output_type": "stream",
     "text": [
      "                                                                                                 \r"
     ]
    },
    {
     "data": {
      "text/html": [
       "146 rows X 4 columns"
      ],
      "text/plain": [
       "<IPython.core.display.HTML object>"
      ]
     },
     "metadata": {},
     "output_type": "display_data"
    },
    {
     "name": "stdout",
     "output_type": "stream",
     "text": [
      "                                                                                                 \r"
     ]
    },
    {
     "data": {
      "text/html": [
       "\n",
       "Updated dataset after performing scaling on RFE selected features :"
      ],
      "text/plain": [
       "<IPython.core.display.HTML object>"
      ]
     },
     "metadata": {},
     "output_type": "display_data"
    },
    {
     "data": {
      "text/html": [
       "<style type=\"text/css\">\n",
       "\ttable {border:ridge 5px;}\n",
       "\ttable td {border:inset 1px;}\n",
       "\ttable tr#HeaderRow {background-color:grey; color:white;}</style>\n",
       "<html><table>\n",
       "\t<tr id=\"HeaderRow\">\n",
       "\t\t<th>id</th>\n",
       "\t\t<th>cnt</th>\n",
       "\t\t<th>r_casual</th>\n",
       "\t\t<th>r_registered</th>\n",
       "\t</tr>\n",
       "\t<tr>\n",
       "\t\t<td>39</td>\n",
       "\t\t<td>4648</td>\n",
       "\t\t<td>-0.022660501259630567</td>\n",
       "\t\t<td>0.11136913925988161</td>\n",
       "\t</tr>\n",
       "\t<tr>\n",
       "\t\t<td>140</td>\n",
       "\t\t<td>5217</td>\n",
       "\t\t<td>2.1908047079907367</td>\n",
       "\t\t<td>-0.26134000921997647</td>\n",
       "\t</tr>\n",
       "\t<tr>\n",
       "\t\t<td>73</td>\n",
       "\t\t<td>7534</td>\n",
       "\t\t<td>0.3377151540596237</td>\n",
       "\t\t<td>1.7916766046473354</td>\n",
       "\t</tr>\n",
       "\t<tr>\n",
       "\t\t<td>41</td>\n",
       "\t\t<td>6536</td>\n",
       "\t\t<td>2.5530770772853555</td>\n",
       "\t\t<td>0.4416966454376822</td>\n",
       "\t</tr>\n",
       "\t<tr>\n",
       "\t\t<td>123</td>\n",
       "\t\t<td>4066</td>\n",
       "\t\t<td>0.4022034292220166</td>\n",
       "\t\t<td>-0.39097797390862277</td>\n",
       "\t</tr>\n",
       "\t<tr>\n",
       "\t\t<td>12</td>\n",
       "\t\t<td>2077</td>\n",
       "\t\t<td>-0.6504728271052788</td>\n",
       "\t\t<td>-1.28473201892554</td>\n",
       "\t</tr>\n",
       "\t<tr>\n",
       "\t\t<td>89</td>\n",
       "\t\t<td>4451</td>\n",
       "\t\t<td>-0.26733660408165055</td>\n",
       "\t\t<td>0.06898749695782416</td>\n",
       "\t</tr>\n",
       "\t<tr>\n",
       "\t\t<td>52</td>\n",
       "\t\t<td>4553</td>\n",
       "\t\t<td>1.589546377800191</td>\n",
       "\t\t<td>-0.4776110368495931</td>\n",
       "\t</tr>\n",
       "\t<tr>\n",
       "\t\t<td>87</td>\n",
       "\t\t<td>4840</td>\n",
       "\t\t<td>1.3353867051013486</td>\n",
       "\t\t<td>-0.21521881024420808</td>\n",
       "\t</tr>\n",
       "\t<tr>\n",
       "\t\t<td>118</td>\n",
       "\t\t<td>6290</td>\n",
       "\t\t<td>0.39841000127128756</td>\n",
       "\t\t<td>0.99639755203814</td>\n",
       "\t</tr>\n",
       "</table></html>"
      ],
      "text/plain": [
       "    id   cnt  r_casual  r_registered\n",
       "0   39  4648 -0.022661      0.111369\n",
       "1  140  5217  2.190805     -0.261340\n",
       "2   73  7534  0.337715      1.791677\n",
       "3   41  6536  2.553077      0.441697\n",
       "4  123  4066  0.402203     -0.390978\n",
       "5   12  2077 -0.650473     -1.284732\n",
       "6   89  4451 -0.267337      0.068987\n",
       "7   52  4553  1.589546     -0.477611\n",
       "8   87  4840  1.335387     -0.215219\n",
       "9  118  6290  0.398410      0.996398"
      ]
     },
     "metadata": {},
     "output_type": "display_data"
    },
    {
     "name": "stdout",
     "output_type": "stream",
     "text": [
      "                                                                                                 \r"
     ]
    },
    {
     "data": {
      "text/html": [
       "146 rows X 4 columns"
      ],
      "text/plain": [
       "<IPython.core.display.HTML object>"
      ]
     },
     "metadata": {},
     "output_type": "display_data"
    },
    {
     "name": "stdout",
     "output_type": "stream",
     "text": [
      "                                                                                                 \r"
     ]
    },
    {
     "data": {
      "text/html": [
       "\n",
       "Updated dataset after performing scaling for PCA feature selection :"
      ],
      "text/plain": [
       "<IPython.core.display.HTML object>"
      ]
     },
     "metadata": {},
     "output_type": "display_data"
    },
    {
     "data": {
      "text/html": [
       "<style type=\"text/css\">\n",
       "\ttable {border:ridge 5px;}\n",
       "\ttable td {border:inset 1px;}\n",
       "\ttable tr#HeaderRow {background-color:grey; color:white;}</style>\n",
       "<html><table>\n",
       "\t<tr id=\"HeaderRow\">\n",
       "\t\t<th>id</th>\n",
       "\t\t<th>cnt</th>\n",
       "\t\t<th>holiday</th>\n",
       "\t\t<th>instant</th>\n",
       "\t\t<th>season</th>\n",
       "\t\t<th>yr</th>\n",
       "\t\t<th>mnth</th>\n",
       "\t\t<th>weekday</th>\n",
       "\t\t<th>workingday</th>\n",
       "\t\t<th>weathersit</th>\n",
       "\t\t<th>temp</th>\n",
       "\t\t<th>atemp</th>\n",
       "\t\t<th>hum</th>\n",
       "\t\t<th>windspeed</th>\n",
       "\t\t<th>casual</th>\n",
       "\t\t<th>registered</th>\n",
       "\t</tr>\n",
       "\t<tr>\n",
       "\t\t<td>41</td>\n",
       "\t\t<td>6536</td>\n",
       "\t\t<td>0</td>\n",
       "\t\t<td>1.5131744202097244</td>\n",
       "\t\t<td>1.3581144139044825</td>\n",
       "\t\t<td>1.0466505562673123</td>\n",
       "\t\t<td>1.2874263913687398</td>\n",
       "\t\t<td>1.6148270562793634</td>\n",
       "\t\t<td>-1.7922391615298476</td>\n",
       "\t\t<td>-0.7493516035789746</td>\n",
       "\t\t<td>-0.5614149008985799</td>\n",
       "\t\t<td>-0.4802902245395272</td>\n",
       "\t\t<td>0.10323866824125476</td>\n",
       "\t\t<td>-1.8383666420510947</td>\n",
       "\t\t<td>2.5530770772853555</td>\n",
       "\t\t<td>0.44169664543768244</td>\n",
       "\t</tr>\n",
       "\t<tr>\n",
       "\t\t<td>140</td>\n",
       "\t\t<td>5217</td>\n",
       "\t\t<td>0</td>\n",
       "\t\t<td>-0.3311899005779992</td>\n",
       "\t\t<td>1.3581144139044825</td>\n",
       "\t\t<td>-0.955428718794473</td>\n",
       "\t\t<td>0.9983274117237402</td>\n",
       "\t\t<td>1.6148270562793634</td>\n",
       "\t\t<td>-1.7922391615298476</td>\n",
       "\t\t<td>-0.7493516035789746</td>\n",
       "\t\t<td>0.07829684830131264</td>\n",
       "\t\t<td>0.16311454390895502</td>\n",
       "\t\t<td>-1.071592097105289</td>\n",
       "\t\t<td>0.9827713230937296</td>\n",
       "\t\t<td>2.1908047079907367</td>\n",
       "\t\t<td>-0.2613400092199766</td>\n",
       "\t</tr>\n",
       "\t<tr>\n",
       "\t\t<td>73</td>\n",
       "\t\t<td>7534</td>\n",
       "\t\t<td>0</td>\n",
       "\t\t<td>1.3955491446492827</td>\n",
       "\t\t<td>1.3581144139044825</td>\n",
       "\t\t<td>1.0466505562673123</td>\n",
       "\t\t<td>0.9983274117237402</td>\n",
       "\t\t<td>-0.5027291778982923</td>\n",
       "\t\t<td>0.5579612484008015</td>\n",
       "\t\t<td>-0.7493516035789746</td>\n",
       "\t\t<td>-0.13076639569252477</td>\n",
       "\t\t<td>-0.06956714239063914</td>\n",
       "\t\t<td>-0.5280245005538342</td>\n",
       "\t\t<td>-0.08624700718331554</td>\n",
       "\t\t<td>0.3377151540596237</td>\n",
       "\t\t<td>1.7916766046473362</td>\n",
       "\t</tr>\n",
       "\t<tr>\n",
       "\t\t<td>39</td>\n",
       "\t\t<td>4648</td>\n",
       "\t\t<td>0</td>\n",
       "\t\t<td>-0.8440361020215243</td>\n",
       "\t\t<td>0.45052833922792934</td>\n",
       "\t\t<td>-0.955428718794473</td>\n",
       "\t\t<td>-0.1580685068562589</td>\n",
       "\t\t<td>-0.5027291778982923</td>\n",
       "\t\t<td>0.5579612484008015</td>\n",
       "\t\t<td>-0.7493516035789746</td>\n",
       "\t\t<td>1.3713312349819458</td>\n",
       "\t\t<td>1.3535361527081984</td>\n",
       "\t\t<td>0.022065907156237623</td>\n",
       "\t\t<td>-0.6200519441727754</td>\n",
       "\t\t<td>-0.022660501259630567</td>\n",
       "\t\t<td>0.11136913925988165</td>\n",
       "\t</tr>\n",
       "\t<tr>\n",
       "\t\t<td>87</td>\n",
       "\t\t<td>4840</td>\n",
       "\t\t<td>0</td>\n",
       "\t\t<td>0.9203430313850989</td>\n",
       "\t\t<td>0.45052833922792934</td>\n",
       "\t\t<td>1.0466505562673123</td>\n",
       "\t\t<td>0.13103047278874086</td>\n",
       "\t\t<td>1.6148270562793634</td>\n",
       "\t\t<td>-1.7922391615298476</td>\n",
       "\t\t<td>-0.7493516035789746</td>\n",
       "\t\t<td>2.0110429841818385</td>\n",
       "\t\t<td>2.0429861097383943</td>\n",
       "\t\t<td>-1.0078134991099186</td>\n",
       "\t\t<td>-0.34821987863460735</td>\n",
       "\t\t<td>1.3353867051013486</td>\n",
       "\t\t<td>-0.21521881024420816</td>\n",
       "\t</tr>\n",
       "\t<tr>\n",
       "\t\t<td>118</td>\n",
       "\t\t<td>6290</td>\n",
       "\t\t<td>0</td>\n",
       "\t\t<td>0.9344580644523519</td>\n",
       "\t\t<td>0.45052833922792934</td>\n",
       "\t\t<td>1.0466505562673123</td>\n",
       "\t\t<td>0.13103047278874086</td>\n",
       "\t\t<td>-0.5027291778982923</td>\n",
       "\t\t<td>0.5579612484008015</td>\n",
       "\t\t<td>1.078014587604841</td>\n",
       "\t\t<td>1.2439333206732013</td>\n",
       "\t\t<td>1.1828619870319785</td>\n",
       "\t\t<td>0.26340992002508345</td>\n",
       "\t\t<td>-0.515826178111509</td>\n",
       "\t\t<td>0.39841000127128756</td>\n",
       "\t\t<td>0.9963975520381403</td>\n",
       "\t</tr>\n",
       "\t<tr>\n",
       "\t\t<td>92</td>\n",
       "\t\t<td>754</td>\n",
       "\t\t<td>0</td>\n",
       "\t\t<td>0.0028658820136548066</td>\n",
       "\t\t<td>-1.3646438101251772</td>\n",
       "\t\t<td>-0.955428718794473</td>\n",
       "\t\t<td>1.5765253710137397</td>\n",
       "\t\t<td>-1.5615072949871203</td>\n",
       "\t\t<td>-1.7922391615298476</td>\n",
       "\t\t<td>-0.7493516035789746</td>\n",
       "\t\t<td>-1.1842491486302198</td>\n",
       "\t\t<td>-1.179563155133822</td>\n",
       "\t\t<td>0.3634263577905514</td>\n",
       "\t\t<td>-0.4679386639752515</td>\n",
       "\t\t<td>-0.8363507966909994</td>\n",
       "\t\t<td>-2.048224839808193</td>\n",
       "\t</tr>\n",
       "\t<tr>\n",
       "\t\t<td>132</td>\n",
       "\t\t<td>4585</td>\n",
       "\t\t<td>0</td>\n",
       "\t\t<td>1.6872598280391777</td>\n",
       "\t\t<td>1.3581144139044825</td>\n",
       "\t\t<td>1.0466505562673123</td>\n",
       "\t\t<td>1.5765253710137397</td>\n",
       "\t\t<td>-1.0321182364427062</td>\n",
       "\t\t<td>0.5579612484008015</td>\n",
       "\t\t<td>1.078014587604841</td>\n",
       "\t\t<td>-0.539093044117988</td>\n",
       "\t\t<td>-0.4336311001100568</td>\n",
       "\t\t<td>1.9999272018081309</td>\n",
       "\t\t<td>-1.2679418413103787</td>\n",
       "\t\t<td>-1.0089517684491685</td>\n",
       "\t\t<td>0.39619870590753253</td>\n",
       "\t</tr>\n",
       "\t<tr>\n",
       "\t\t<td>123</td>\n",
       "\t\t<td>4066</td>\n",
       "\t\t<td>0</td>\n",
       "\t\t<td>0.3275116425604735</td>\n",
       "\t\t<td>-1.3646438101251772</td>\n",
       "\t\t<td>1.0466505562673123</td>\n",
       "\t\t<td>-1.0253654457912582</td>\n",
       "\t\t<td>1.6148270562793634</td>\n",
       "\t\t<td>-1.7922391615298476</td>\n",
       "\t\t<td>1.078014587604841</td>\n",
       "\t\t<td>-0.4253060180900921</td>\n",
       "\t\t<td>-0.3599587983793148</td>\n",
       "\t\t<td>-0.0721524762460146</td>\n",
       "\t\t<td>-0.38343128608773797</td>\n",
       "\t\t<td>0.4022034292220166</td>\n",
       "\t\t<td>-0.39097797390862293</td>\n",
       "\t</tr>\n",
       "\t<tr>\n",
       "\t\t<td>12</td>\n",
       "\t\t<td>2077</td>\n",
       "\t\t<td>0</td>\n",
       "\t\t<td>-1.309832193240873</td>\n",
       "\t\t<td>-0.45705773544862394</td>\n",
       "\t\t<td>-0.955428718794473</td>\n",
       "\t\t<td>-1.0253654457912582</td>\n",
       "\t\t<td>-1.0321182364427062</td>\n",
       "\t\t<td>0.5579612484008015</td>\n",
       "\t\t<td>1.078014587604841</td>\n",
       "\t\t<td>-0.3371074620301921</td>\n",
       "\t\t<td>-0.3832883605940497</td>\n",
       "\t\t<td>0.7700149200110398</td>\n",
       "\t\t<td>1.4151674066181736</td>\n",
       "\t\t<td>-0.6504728271052788</td>\n",
       "\t\t<td>-1.2847320189255405</td>\n",
       "\t</tr>\n",
       "</table></html>"
      ],
      "text/plain": [
       "    id   cnt  holiday   instant    season        yr      mnth   weekday  workingday  weathersit      temp     atemp       hum  windspeed    casual  registered\n",
       "0   41  6536        0  1.513174  1.358114  1.046651  1.287426  1.614827   -1.792239   -0.749352 -0.561415 -0.480290  0.103239  -1.838367  2.553077    0.441697\n",
       "1  140  5217        0 -0.331190  1.358114 -0.955429  0.998327  1.614827   -1.792239   -0.749352  0.078297  0.163115 -1.071592   0.982771  2.190805   -0.261340\n",
       "2   73  7534        0  1.395549  1.358114  1.046651  0.998327 -0.502729    0.557961   -0.749352 -0.130766 -0.069567 -0.528025  -0.086247  0.337715    1.791677\n",
       "3   39  4648        0 -0.844036  0.450528 -0.955429 -0.158069 -0.502729    0.557961   -0.749352  1.371331  1.353536  0.022066  -0.620052 -0.022661    0.111369\n",
       "4   87  4840        0  0.920343  0.450528  1.046651  0.131030  1.614827   -1.792239   -0.749352  2.011043  2.042986 -1.007813  -0.348220  1.335387   -0.215219\n",
       "5  118  6290        0  0.934458  0.450528  1.046651  0.131030 -0.502729    0.557961    1.078015  1.243933  1.182862  0.263410  -0.515826  0.398410    0.996398\n",
       "6   92   754        0  0.002866 -1.364644 -0.955429  1.576525 -1.561507   -1.792239   -0.749352 -1.184249 -1.179563  0.363426  -0.467939 -0.836351   -2.048225\n",
       "7  132  4585        0  1.687260  1.358114  1.046651  1.576525 -1.032118    0.557961    1.078015 -0.539093 -0.433631  1.999927  -1.267942 -1.008952    0.396199\n",
       "8  123  4066        0  0.327512 -1.364644  1.046651 -1.025365  1.614827   -1.792239    1.078015 -0.425306 -0.359959 -0.072152  -0.383431  0.402203   -0.390978\n",
       "9   12  2077        0 -1.309832 -0.457058 -0.955429 -1.025365 -1.032118    0.557961    1.078015 -0.337107 -0.383288  0.770015   1.415167 -0.650473   -1.284732"
      ]
     },
     "metadata": {},
     "output_type": "display_data"
    },
    {
     "name": "stdout",
     "output_type": "stream",
     "text": [
      "                                                                                                 \r"
     ]
    },
    {
     "data": {
      "text/html": [
       "146 rows X 16 columns"
      ],
      "text/plain": [
       "<IPython.core.display.HTML object>"
      ]
     },
     "metadata": {},
     "output_type": "display_data"
    },
    {
     "name": "stdout",
     "output_type": "stream",
     "text": [
      "                                                                                                 \r"
     ]
    },
    {
     "data": {
      "text/html": [
       "\n",
       "Updated dataset after performing PCA feature selection :"
      ],
      "text/plain": [
       "<IPython.core.display.HTML object>"
      ]
     },
     "metadata": {},
     "output_type": "display_data"
    },
    {
     "data": {
      "text/html": [
       "<div>\n",
       "<style scoped>\n",
       "    .dataframe tbody tr th:only-of-type {\n",
       "        vertical-align: middle;\n",
       "    }\n",
       "\n",
       "    .dataframe tbody tr th {\n",
       "        vertical-align: top;\n",
       "    }\n",
       "\n",
       "    .dataframe thead th {\n",
       "        text-align: right;\n",
       "    }\n",
       "</style>\n",
       "<table border=\"1\" class=\"dataframe\">\n",
       "  <thead>\n",
       "    <tr style=\"text-align: right;\">\n",
       "      <th></th>\n",
       "      <th>id</th>\n",
       "      <th>col_0</th>\n",
       "      <th>col_1</th>\n",
       "      <th>col_2</th>\n",
       "      <th>col_3</th>\n",
       "      <th>col_4</th>\n",
       "      <th>col_5</th>\n",
       "      <th>col_6</th>\n",
       "      <th>col_7</th>\n",
       "      <th>cnt</th>\n",
       "    </tr>\n",
       "  </thead>\n",
       "  <tbody>\n",
       "    <tr>\n",
       "      <th>0</th>\n",
       "      <td>89</td>\n",
       "      <td>0.821556</td>\n",
       "      <td>0.055396</td>\n",
       "      <td>1.117210</td>\n",
       "      <td>-1.900097</td>\n",
       "      <td>0.074222</td>\n",
       "      <td>-0.939811</td>\n",
       "      <td>1.837830</td>\n",
       "      <td>0.117316</td>\n",
       "      <td>4451</td>\n",
       "    </tr>\n",
       "    <tr>\n",
       "      <th>1</th>\n",
       "      <td>41</td>\n",
       "      <td>-2.458712</td>\n",
       "      <td>0.309808</td>\n",
       "      <td>-0.117249</td>\n",
       "      <td>3.581857</td>\n",
       "      <td>0.240398</td>\n",
       "      <td>1.923953</td>\n",
       "      <td>-0.564753</td>\n",
       "      <td>-0.204376</td>\n",
       "      <td>6536</td>\n",
       "    </tr>\n",
       "    <tr>\n",
       "      <th>2</th>\n",
       "      <td>87</td>\n",
       "      <td>-2.654989</td>\n",
       "      <td>-1.577049</td>\n",
       "      <td>1.114570</td>\n",
       "      <td>1.086330</td>\n",
       "      <td>0.528988</td>\n",
       "      <td>1.572815</td>\n",
       "      <td>0.971272</td>\n",
       "      <td>0.251477</td>\n",
       "      <td>4840</td>\n",
       "    </tr>\n",
       "    <tr>\n",
       "      <th>3</th>\n",
       "      <td>92</td>\n",
       "      <td>2.315677</td>\n",
       "      <td>0.637837</td>\n",
       "      <td>0.703393</td>\n",
       "      <td>2.120914</td>\n",
       "      <td>-0.098105</td>\n",
       "      <td>-1.362642</td>\n",
       "      <td>-1.159759</td>\n",
       "      <td>-0.856143</td>\n",
       "      <td>754</td>\n",
       "    </tr>\n",
       "    <tr>\n",
       "      <th>4</th>\n",
       "      <td>39</td>\n",
       "      <td>-0.814856</td>\n",
       "      <td>-0.680445</td>\n",
       "      <td>1.661551</td>\n",
       "      <td>-1.332813</td>\n",
       "      <td>-0.536367</td>\n",
       "      <td>-0.228039</td>\n",
       "      <td>-0.897909</td>\n",
       "      <td>-0.174927</td>\n",
       "      <td>4648</td>\n",
       "    </tr>\n",
       "    <tr>\n",
       "      <th>5</th>\n",
       "      <td>123</td>\n",
       "      <td>0.824000</td>\n",
       "      <td>-0.241630</td>\n",
       "      <td>-0.524714</td>\n",
       "      <td>1.230457</td>\n",
       "      <td>2.060245</td>\n",
       "      <td>1.915939</td>\n",
       "      <td>0.788343</td>\n",
       "      <td>0.569315</td>\n",
       "      <td>4066</td>\n",
       "    </tr>\n",
       "    <tr>\n",
       "      <th>6</th>\n",
       "      <td>140</td>\n",
       "      <td>-0.832872</td>\n",
       "      <td>-0.877354</td>\n",
       "      <td>1.802998</td>\n",
       "      <td>2.342112</td>\n",
       "      <td>-1.542682</td>\n",
       "      <td>1.210162</td>\n",
       "      <td>1.675642</td>\n",
       "      <td>0.190163</td>\n",
       "      <td>5217</td>\n",
       "    </tr>\n",
       "    <tr>\n",
       "      <th>7</th>\n",
       "      <td>52</td>\n",
       "      <td>0.460132</td>\n",
       "      <td>0.402415</td>\n",
       "      <td>2.818899</td>\n",
       "      <td>0.693587</td>\n",
       "      <td>2.259138</td>\n",
       "      <td>-0.816000</td>\n",
       "      <td>-0.242249</td>\n",
       "      <td>0.003923</td>\n",
       "      <td>4553</td>\n",
       "    </tr>\n",
       "    <tr>\n",
       "      <th>8</th>\n",
       "      <td>88</td>\n",
       "      <td>-1.200729</td>\n",
       "      <td>1.755962</td>\n",
       "      <td>-1.785574</td>\n",
       "      <td>0.500505</td>\n",
       "      <td>-0.500653</td>\n",
       "      <td>-1.657557</td>\n",
       "      <td>0.528771</td>\n",
       "      <td>0.612846</td>\n",
       "      <td>5499</td>\n",
       "    </tr>\n",
       "    <tr>\n",
       "      <th>9</th>\n",
       "      <td>118</td>\n",
       "      <td>-2.297509</td>\n",
       "      <td>0.479623</td>\n",
       "      <td>-0.208963</td>\n",
       "      <td>-0.889178</td>\n",
       "      <td>1.080054</td>\n",
       "      <td>-0.402100</td>\n",
       "      <td>-0.001193</td>\n",
       "      <td>0.781407</td>\n",
       "      <td>6290</td>\n",
       "    </tr>\n",
       "  </tbody>\n",
       "</table>\n",
       "</div>"
      ],
      "text/plain": [
       "    id     col_0     col_1     col_2     col_3     col_4     col_5     col_6  \\\n",
       "0   89  0.821556  0.055396  1.117210 -1.900097  0.074222 -0.939811  1.837830   \n",
       "1   41 -2.458712  0.309808 -0.117249  3.581857  0.240398  1.923953 -0.564753   \n",
       "2   87 -2.654989 -1.577049  1.114570  1.086330  0.528988  1.572815  0.971272   \n",
       "3   92  2.315677  0.637837  0.703393  2.120914 -0.098105 -1.362642 -1.159759   \n",
       "4   39 -0.814856 -0.680445  1.661551 -1.332813 -0.536367 -0.228039 -0.897909   \n",
       "5  123  0.824000 -0.241630 -0.524714  1.230457  2.060245  1.915939  0.788343   \n",
       "6  140 -0.832872 -0.877354  1.802998  2.342112 -1.542682  1.210162  1.675642   \n",
       "7   52  0.460132  0.402415  2.818899  0.693587  2.259138 -0.816000 -0.242249   \n",
       "8   88 -1.200729  1.755962 -1.785574  0.500505 -0.500653 -1.657557  0.528771   \n",
       "9  118 -2.297509  0.479623 -0.208963 -0.889178  1.080054 -0.402100 -0.001193   \n",
       "\n",
       "      col_7   cnt  \n",
       "0  0.117316  4451  \n",
       "1 -0.204376  6536  \n",
       "2  0.251477  4840  \n",
       "3 -0.856143   754  \n",
       "4 -0.174927  4648  \n",
       "5  0.569315  4066  \n",
       "6  0.190163  5217  \n",
       "7  0.003923  4553  \n",
       "8  0.612846  5499  \n",
       "9  0.781407  6290  "
      ]
     },
     "metadata": {},
     "output_type": "display_data"
    },
    {
     "name": "stdout",
     "output_type": "stream",
     "text": [
      "                                                                                                 \r"
     ]
    },
    {
     "data": {
      "text/html": [
       "10 rows X 10 columns"
      ],
      "text/plain": [
       "<IPython.core.display.HTML object>"
      ]
     },
     "metadata": {},
     "output_type": "display_data"
    },
    {
     "name": "stdout",
     "output_type": "stream",
     "text": [
      "Data Transformation completed.⫿⫿⫿⫿⫿⫿⫿⫿⫿⫿⫿⫿⫿⫿⫿⫿⫿⫿⫿⫿⫿⫿⫿⫿⫿⫿⫿⫿⫿⫿⫿⫿⫿⫿⫿⫿⫿⫿⫿⫿⫿⫿｜ 100% - 10/10           \n",
      "\n",
      "Following model is being used for generating prediction :\n",
      "Model ID : GLM_1 \n",
      "Feature Selection Method : rfe\n",
      "\n",
      "Prediction : \n",
      "    id   prediction   cnt\n",
      "0   89  4450.931093  4451\n",
      "1   39  4647.922429  4648\n",
      "2   45  4506.938625  4507\n",
      "3  140  5217.269655  5217\n",
      "4   41  6535.896420  6536\n",
      "5   88  5498.491267  5499\n",
      "6   92   755.087510   754\n",
      "7  132  4584.700864  4585\n",
      "8   87  4840.190581  4840\n",
      "9  118  6289.450404  6290\n",
      "\n",
      "Performance Metrics : \n",
      "        MAE       MSE      MSLE      MAPE       MPE      RMSE     RMSLE        ME   R2   EV      MPD       MGD\n",
      "0  0.412747  0.269576  0.000018  0.056129 -0.050837  0.519207  0.004238  1.203267  1.0  1.0  0.00058  0.000019\n"
     ]
    }
   ],
   "source": [
    "# Generating prediction and metrics on test data\n",
    "prediction = aml.predict(bike_df_test)"
   ]
  },
  {
   "cell_type": "code",
   "execution_count": 23,
   "id": "cc4f6a78-1cdf-4938-a9f1-22035d8404ca",
   "metadata": {},
   "outputs": [
    {
     "data": {
      "text/html": [
       "<style type=\"text/css\">\n",
       "\ttable {border:ridge 5px;}\n",
       "\ttable td {border:inset 1px;}\n",
       "\ttable tr#HeaderRow {background-color:grey; color:white;}</style>\n",
       "<html><table>\n",
       "\t<tr id=\"HeaderRow\">\n",
       "\t\t<th>id</th>\n",
       "\t\t<th>prediction</th>\n",
       "\t\t<th>cnt</th>\n",
       "\t</tr>\n",
       "\t<tr>\n",
       "\t\t<td>10</td>\n",
       "\t\t<td>6456.5033411079785</td>\n",
       "\t\t<td>6457</td>\n",
       "\t</tr>\n",
       "\t<tr>\n",
       "\t\t<td>12</td>\n",
       "\t\t<td>2077.669292428342</td>\n",
       "\t\t<td>2077</td>\n",
       "\t</tr>\n",
       "\t<tr>\n",
       "\t\t<td>13</td>\n",
       "\t\t<td>4067.975020567437</td>\n",
       "\t\t<td>4068</td>\n",
       "\t</tr>\n",
       "\t<tr>\n",
       "\t\t<td>14</td>\n",
       "\t\t<td>3830.9724137169997</td>\n",
       "\t\t<td>3831</td>\n",
       "\t</tr>\n",
       "\t<tr>\n",
       "\t\t<td>16</td>\n",
       "\t\t<td>4602.020570161061</td>\n",
       "\t\t<td>4602</td>\n",
       "\t</tr>\n",
       "\t<tr>\n",
       "\t\t<td>17</td>\n",
       "\t\t<td>7332.652426566931</td>\n",
       "\t\t<td>7333</td>\n",
       "\t</tr>\n",
       "\t<tr>\n",
       "\t\t<td>15</td>\n",
       "\t\t<td>4791.909397685791</td>\n",
       "\t\t<td>4792</td>\n",
       "\t</tr>\n",
       "\t<tr>\n",
       "\t\t<td>11</td>\n",
       "\t\t<td>3331.45615758296</td>\n",
       "\t\t<td>3331</td>\n",
       "\t</tr>\n",
       "\t<tr>\n",
       "\t\t<td>9</td>\n",
       "\t\t<td>4794.787917585597</td>\n",
       "\t\t<td>4795</td>\n",
       "\t</tr>\n",
       "\t<tr>\n",
       "\t\t<td>8</td>\n",
       "\t\t<td>2999.388006454831</td>\n",
       "\t\t<td>2999</td>\n",
       "\t</tr>\n",
       "</table></html>"
      ],
      "text/plain": [
       "   id   prediction   cnt\n",
       "0  10  6456.503341  6457\n",
       "1  12  2077.669292  2077\n",
       "2  13  4067.975021  4068\n",
       "3  14  3830.972414  3831\n",
       "4  16  4602.020570  4602\n",
       "5  17  7332.652427  7333\n",
       "6  15  4791.909398  4792\n",
       "7  11  3331.456158  3331\n",
       "8   9  4794.787918  4795\n",
       "9   8  2999.388006  2999"
      ]
     },
     "execution_count": 23,
     "metadata": {},
     "output_type": "execute_result"
    }
   ],
   "source": [
    "# Printing prediction\n",
    "prediction.head()"
   ]
  },
  {
   "cell_type": "code",
   "execution_count": 24,
   "id": "ec2774f9-deae-47ca-95ec-930ed508d88d",
   "metadata": {},
   "outputs": [
    {
     "name": "stdout",
     "output_type": "stream",
     "text": [
      "Data Transformation started ...\n",
      "                                                                                                \r"
     ]
    },
    {
     "data": {
      "text/html": [
       "Performing transformation carried out in feature engineering phase ..."
      ],
      "text/plain": [
       "<IPython.core.display.HTML object>"
      ]
     },
     "metadata": {},
     "output_type": "display_data"
    },
    {
     "name": "stdout",
     "output_type": "stream",
     "text": [
      "                                                                                                 \r"
     ]
    },
    {
     "data": {
      "text/html": [
       "Performing transformation carried out in data preparation phase ..."
      ],
      "text/plain": [
       "<IPython.core.display.HTML object>"
      ]
     },
     "metadata": {},
     "output_type": "display_data"
    },
    {
     "name": "stdout",
     "output_type": "stream",
     "text": [
      "result data stored in table '\"ALICE\".\"ml__td_sqlmr_persist_out__1719260420782129\"'⫾⫾⫾｜ 60% - 6/10\n",
      "                                                                                                 \r"
     ]
    },
    {
     "data": {
      "text/html": [
       "\n",
       "Updated dataset after performing Lasso feature selection:"
      ],
      "text/plain": [
       "<IPython.core.display.HTML object>"
      ]
     },
     "metadata": {},
     "output_type": "display_data"
    },
    {
     "data": {
      "text/html": [
       "<style type=\"text/css\">\n",
       "\ttable {border:ridge 5px;}\n",
       "\ttable td {border:inset 1px;}\n",
       "\ttable tr#HeaderRow {background-color:grey; color:white;}</style>\n",
       "<html><table>\n",
       "\t<tr id=\"HeaderRow\">\n",
       "\t\t<th>id</th>\n",
       "\t\t<th>casual</th>\n",
       "\t\t<th>registered</th>\n",
       "\t\t<th>cnt</th>\n",
       "\t</tr>\n",
       "\t<tr>\n",
       "\t\t<td>91</td>\n",
       "\t\t<td>340</td>\n",
       "\t\t<td>4975</td>\n",
       "\t\t<td>5315</td>\n",
       "\t</tr>\n",
       "\t<tr>\n",
       "\t\t<td>123</td>\n",
       "\t\t<td>956</td>\n",
       "\t\t<td>3110</td>\n",
       "\t\t<td>4066</td>\n",
       "\t</tr>\n",
       "\t<tr>\n",
       "\t\t<td>32</td>\n",
       "\t\t<td>424</td>\n",
       "\t\t<td>2320</td>\n",
       "\t\t<td>2744</td>\n",
       "\t</tr>\n",
       "\t<tr>\n",
       "\t\t<td>120</td>\n",
       "\t\t<td>1639</td>\n",
       "\t\t<td>3105</td>\n",
       "\t\t<td>4744</td>\n",
       "\t</tr>\n",
       "\t<tr>\n",
       "\t\t<td>89</td>\n",
       "\t\t<td>603</td>\n",
       "\t\t<td>3848</td>\n",
       "\t\t<td>4451</td>\n",
       "\t</tr>\n",
       "\t<tr>\n",
       "\t\t<td>158</td>\n",
       "\t\t<td>1417</td>\n",
       "\t\t<td>5317</td>\n",
       "\t\t<td>6734</td>\n",
       "\t</tr>\n",
       "\t<tr>\n",
       "\t\t<td>100</td>\n",
       "\t\t<td>1619</td>\n",
       "\t\t<td>2762</td>\n",
       "\t\t<td>4381</td>\n",
       "\t</tr>\n",
       "\t<tr>\n",
       "\t\t<td>55</td>\n",
       "\t\t<td>699</td>\n",
       "\t\t<td>3488</td>\n",
       "\t\t<td>4187</td>\n",
       "\t</tr>\n",
       "\t<tr>\n",
       "\t\t<td>147</td>\n",
       "\t\t<td>841</td>\n",
       "\t\t<td>3617</td>\n",
       "\t\t<td>4458</td>\n",
       "\t</tr>\n",
       "\t<tr>\n",
       "\t\t<td>159</td>\n",
       "\t\t<td>662</td>\n",
       "\t\t<td>3596</td>\n",
       "\t\t<td>4258</td>\n",
       "\t</tr>\n",
       "</table></html>"
      ],
      "text/plain": [
       "    id  casual  registered   cnt\n",
       "0   91     340        4975  5315\n",
       "1  123     956        3110  4066\n",
       "2   32     424        2320  2744\n",
       "3  120    1639        3105  4744\n",
       "4   89     603        3848  4451\n",
       "5  158    1417        5317  6734\n",
       "6  100    1619        2762  4381\n",
       "7   55     699        3488  4187\n",
       "8  147     841        3617  4458\n",
       "9  159     662        3596  4258"
      ]
     },
     "metadata": {},
     "output_type": "display_data"
    },
    {
     "name": "stdout",
     "output_type": "stream",
     "text": [
      "                                                                                                 \r"
     ]
    },
    {
     "data": {
      "text/html": [
       "146 rows X 4 columns"
      ],
      "text/plain": [
       "<IPython.core.display.HTML object>"
      ]
     },
     "metadata": {},
     "output_type": "display_data"
    },
    {
     "name": "stdout",
     "output_type": "stream",
     "text": [
      "                                                                                                 \r"
     ]
    },
    {
     "data": {
      "text/html": [
       "\n",
       "Updated dataset after performing scaling on Lasso selected features :"
      ],
      "text/plain": [
       "<IPython.core.display.HTML object>"
      ]
     },
     "metadata": {},
     "output_type": "display_data"
    },
    {
     "data": {
      "text/html": [
       "<style type=\"text/css\">\n",
       "\ttable {border:ridge 5px;}\n",
       "\ttable td {border:inset 1px;}\n",
       "\ttable tr#HeaderRow {background-color:grey; color:white;}</style>\n",
       "<html><table>\n",
       "\t<tr id=\"HeaderRow\">\n",
       "\t\t<th>id</th>\n",
       "\t\t<th>cnt</th>\n",
       "\t\t<th>casual</th>\n",
       "\t\t<th>registered</th>\n",
       "\t</tr>\n",
       "\t<tr>\n",
       "\t\t<td>59</td>\n",
       "\t\t<td>3727</td>\n",
       "\t\t<td>-1.0658531877101034</td>\n",
       "\t\t<td>-0.11986011506457883</td>\n",
       "\t</tr>\n",
       "\t<tr>\n",
       "\t\t<td>120</td>\n",
       "\t\t<td>4744</td>\n",
       "\t\t<td>1.6976590743959674</td>\n",
       "\t\t<td>-0.3940942711367152</td>\n",
       "\t</tr>\n",
       "\t<tr>\n",
       "\t\t<td>86</td>\n",
       "\t\t<td>4972</td>\n",
       "\t\t<td>-0.5063225649775771</td>\n",
       "\t\t<td>0.4722363582729883</td>\n",
       "\t</tr>\n",
       "\t<tr>\n",
       "\t\t<td>91</td>\n",
       "\t\t<td>5315</td>\n",
       "\t\t<td>-0.766172379602513</td>\n",
       "\t\t<td>0.7714008921698644</td>\n",
       "\t</tr>\n",
       "\t<tr>\n",
       "\t\t<td>147</td>\n",
       "\t\t<td>4458</td>\n",
       "\t\t<td>0.1840813220550995</td>\n",
       "\t\t<td>-0.07498543498004744</td>\n",
       "\t</tr>\n",
       "\t<tr>\n",
       "\t\t<td>159</td>\n",
       "\t\t<td>4258</td>\n",
       "\t\t<td>-0.1554304795351453</td>\n",
       "\t\t<td>-0.08807388333803576</td>\n",
       "\t</tr>\n",
       "\t<tr>\n",
       "\t\t<td>123</td>\n",
       "\t\t<td>4066</td>\n",
       "\t\t<td>0.4022034292220166</td>\n",
       "\t\t<td>-0.39097797390862277</td>\n",
       "\t</tr>\n",
       "\t<tr>\n",
       "\t\t<td>32</td>\n",
       "\t\t<td>2744</td>\n",
       "\t\t<td>-0.6068484056718954</td>\n",
       "\t\t<td>-0.8833529359472312</td>\n",
       "\t</tr>\n",
       "\t<tr>\n",
       "\t\t<td>100</td>\n",
       "\t\t<td>4381</td>\n",
       "\t\t<td>1.6597247948886775</td>\n",
       "\t\t<td>-0.6078722609838579</td>\n",
       "\t</tr>\n",
       "\t<tr>\n",
       "\t\t<td>55</td>\n",
       "\t\t<td>4187</td>\n",
       "\t\t<td>-0.08525206244665894</td>\n",
       "\t\t<td>-0.15538590346483286</td>\n",
       "\t</tr>\n",
       "</table></html>"
      ],
      "text/plain": [
       "    id   cnt    casual  registered\n",
       "0   59  3727 -1.065853   -0.119860\n",
       "1  120  4744  1.697659   -0.394094\n",
       "2   86  4972 -0.506323    0.472236\n",
       "3   91  5315 -0.766172    0.771401\n",
       "4  147  4458  0.184081   -0.074985\n",
       "5  159  4258 -0.155430   -0.088074\n",
       "6  123  4066  0.402203   -0.390978\n",
       "7   32  2744 -0.606848   -0.883353\n",
       "8  100  4381  1.659725   -0.607872\n",
       "9   55  4187 -0.085252   -0.155386"
      ]
     },
     "metadata": {},
     "output_type": "display_data"
    },
    {
     "name": "stdout",
     "output_type": "stream",
     "text": [
      "                                                                                                 \r"
     ]
    },
    {
     "data": {
      "text/html": [
       "146 rows X 4 columns"
      ],
      "text/plain": [
       "<IPython.core.display.HTML object>"
      ]
     },
     "metadata": {},
     "output_type": "display_data"
    },
    {
     "name": "stdout",
     "output_type": "stream",
     "text": [
      "                                                                                                 \r"
     ]
    },
    {
     "data": {
      "text/html": [
       "\n",
       "Updated dataset after performing RFE feature selection:"
      ],
      "text/plain": [
       "<IPython.core.display.HTML object>"
      ]
     },
     "metadata": {},
     "output_type": "display_data"
    },
    {
     "data": {
      "text/html": [
       "<style type=\"text/css\">\n",
       "\ttable {border:ridge 5px;}\n",
       "\ttable td {border:inset 1px;}\n",
       "\ttable tr#HeaderRow {background-color:grey; color:white;}</style>\n",
       "<html><table>\n",
       "\t<tr id=\"HeaderRow\">\n",
       "\t\t<th>id</th>\n",
       "\t\t<th>casual</th>\n",
       "\t\t<th>registered</th>\n",
       "\t\t<th>cnt</th>\n",
       "\t</tr>\n",
       "\t<tr>\n",
       "\t\t<td>59</td>\n",
       "\t\t<td>182</td>\n",
       "\t\t<td>3545</td>\n",
       "\t\t<td>3727</td>\n",
       "\t</tr>\n",
       "\t<tr>\n",
       "\t\t<td>147</td>\n",
       "\t\t<td>841</td>\n",
       "\t\t<td>3617</td>\n",
       "\t\t<td>4458</td>\n",
       "\t</tr>\n",
       "\t<tr>\n",
       "\t\t<td>159</td>\n",
       "\t\t<td>662</td>\n",
       "\t\t<td>3596</td>\n",
       "\t\t<td>4258</td>\n",
       "\t</tr>\n",
       "\t<tr>\n",
       "\t\t<td>89</td>\n",
       "\t\t<td>603</td>\n",
       "\t\t<td>3848</td>\n",
       "\t\t<td>4451</td>\n",
       "\t</tr>\n",
       "\t<tr>\n",
       "\t\t<td>123</td>\n",
       "\t\t<td>956</td>\n",
       "\t\t<td>3110</td>\n",
       "\t\t<td>4066</td>\n",
       "\t</tr>\n",
       "\t<tr>\n",
       "\t\t<td>32</td>\n",
       "\t\t<td>424</td>\n",
       "\t\t<td>2320</td>\n",
       "\t\t<td>2744</td>\n",
       "\t</tr>\n",
       "\t<tr>\n",
       "\t\t<td>120</td>\n",
       "\t\t<td>1639</td>\n",
       "\t\t<td>3105</td>\n",
       "\t\t<td>4744</td>\n",
       "\t</tr>\n",
       "\t<tr>\n",
       "\t\t<td>86</td>\n",
       "\t\t<td>477</td>\n",
       "\t\t<td>4495</td>\n",
       "\t\t<td>4972</td>\n",
       "\t</tr>\n",
       "\t<tr>\n",
       "\t\t<td>91</td>\n",
       "\t\t<td>340</td>\n",
       "\t\t<td>4975</td>\n",
       "\t\t<td>5315</td>\n",
       "\t</tr>\n",
       "\t<tr>\n",
       "\t\t<td>77</td>\n",
       "\t\t<td>309</td>\n",
       "\t\t<td>2115</td>\n",
       "\t\t<td>2424</td>\n",
       "\t</tr>\n",
       "</table></html>"
      ],
      "text/plain": [
       "    id  casual  registered   cnt\n",
       "0   59     182        3545  3727\n",
       "1  147     841        3617  4458\n",
       "2  159     662        3596  4258\n",
       "3   89     603        3848  4451\n",
       "4  123     956        3110  4066\n",
       "5   32     424        2320  2744\n",
       "6  120    1639        3105  4744\n",
       "7   86     477        4495  4972\n",
       "8   91     340        4975  5315\n",
       "9   77     309        2115  2424"
      ]
     },
     "metadata": {},
     "output_type": "display_data"
    },
    {
     "name": "stdout",
     "output_type": "stream",
     "text": [
      "                                                                                                 \r"
     ]
    },
    {
     "data": {
      "text/html": [
       "146 rows X 4 columns"
      ],
      "text/plain": [
       "<IPython.core.display.HTML object>"
      ]
     },
     "metadata": {},
     "output_type": "display_data"
    },
    {
     "name": "stdout",
     "output_type": "stream",
     "text": [
      "                                                                                                 \r"
     ]
    },
    {
     "data": {
      "text/html": [
       "\n",
       "Updated dataset after performing scaling on RFE selected features :"
      ],
      "text/plain": [
       "<IPython.core.display.HTML object>"
      ]
     },
     "metadata": {},
     "output_type": "display_data"
    },
    {
     "data": {
      "text/html": [
       "<style type=\"text/css\">\n",
       "\ttable {border:ridge 5px;}\n",
       "\ttable td {border:inset 1px;}\n",
       "\ttable tr#HeaderRow {background-color:grey; color:white;}</style>\n",
       "<html><table>\n",
       "\t<tr id=\"HeaderRow\">\n",
       "\t\t<th>id</th>\n",
       "\t\t<th>cnt</th>\n",
       "\t\t<th>r_casual</th>\n",
       "\t\t<th>r_registered</th>\n",
       "\t</tr>\n",
       "\t<tr>\n",
       "\t\t<td>147</td>\n",
       "\t\t<td>4458</td>\n",
       "\t\t<td>0.1840813220550995</td>\n",
       "\t\t<td>-0.07498543498004744</td>\n",
       "\t</tr>\n",
       "\t<tr>\n",
       "\t\t<td>91</td>\n",
       "\t\t<td>5315</td>\n",
       "\t\t<td>-0.766172379602513</td>\n",
       "\t\t<td>0.7714008921698644</td>\n",
       "\t</tr>\n",
       "\t<tr>\n",
       "\t\t<td>77</td>\n",
       "\t\t<td>2424</td>\n",
       "\t\t<td>-0.8249705128388124</td>\n",
       "\t\t<td>-1.011121122299022</td>\n",
       "\t</tr>\n",
       "\t<tr>\n",
       "\t\t<td>123</td>\n",
       "\t\t<td>4066</td>\n",
       "\t\t<td>0.4022034292220166</td>\n",
       "\t\t<td>-0.39097797390862277</td>\n",
       "\t</tr>\n",
       "\t<tr>\n",
       "\t\t<td>59</td>\n",
       "\t\t<td>3727</td>\n",
       "\t\t<td>-1.0658531877101034</td>\n",
       "\t\t<td>-0.11986011506457883</td>\n",
       "\t</tr>\n",
       "\t<tr>\n",
       "\t\t<td>8</td>\n",
       "\t\t<td>2999</td>\n",
       "\t\t<td>-0.47976856932247414</td>\n",
       "\t\t<td>-0.7661801601709548</td>\n",
       "\t</tr>\n",
       "\t<tr>\n",
       "\t\t<td>120</td>\n",
       "\t\t<td>4744</td>\n",
       "\t\t<td>1.6976590743959674</td>\n",
       "\t\t<td>-0.3940942711367152</td>\n",
       "\t</tr>\n",
       "\t<tr>\n",
       "\t\t<td>86</td>\n",
       "\t\t<td>4972</td>\n",
       "\t\t<td>-0.5063225649775771</td>\n",
       "\t\t<td>0.4722363582729883</td>\n",
       "\t</tr>\n",
       "\t<tr>\n",
       "\t\t<td>100</td>\n",
       "\t\t<td>4381</td>\n",
       "\t\t<td>1.6597247948886775</td>\n",
       "\t\t<td>-0.6078722609838579</td>\n",
       "\t</tr>\n",
       "\t<tr>\n",
       "\t\t<td>55</td>\n",
       "\t\t<td>4187</td>\n",
       "\t\t<td>-0.08525206244665894</td>\n",
       "\t\t<td>-0.15538590346483286</td>\n",
       "\t</tr>\n",
       "</table></html>"
      ],
      "text/plain": [
       "    id   cnt  r_casual  r_registered\n",
       "0  147  4458  0.184081     -0.074985\n",
       "1   91  5315 -0.766172      0.771401\n",
       "2   77  2424 -0.824971     -1.011121\n",
       "3  123  4066  0.402203     -0.390978\n",
       "4   59  3727 -1.065853     -0.119860\n",
       "5    8  2999 -0.479769     -0.766180\n",
       "6  120  4744  1.697659     -0.394094\n",
       "7   86  4972 -0.506323      0.472236\n",
       "8  100  4381  1.659725     -0.607872\n",
       "9   55  4187 -0.085252     -0.155386"
      ]
     },
     "metadata": {},
     "output_type": "display_data"
    },
    {
     "name": "stdout",
     "output_type": "stream",
     "text": [
      "                                                                                                 \r"
     ]
    },
    {
     "data": {
      "text/html": [
       "146 rows X 4 columns"
      ],
      "text/plain": [
       "<IPython.core.display.HTML object>"
      ]
     },
     "metadata": {},
     "output_type": "display_data"
    },
    {
     "name": "stdout",
     "output_type": "stream",
     "text": [
      "                                                                                                 \r"
     ]
    },
    {
     "data": {
      "text/html": [
       "\n",
       "Updated dataset after performing scaling for PCA feature selection :"
      ],
      "text/plain": [
       "<IPython.core.display.HTML object>"
      ]
     },
     "metadata": {},
     "output_type": "display_data"
    },
    {
     "data": {
      "text/html": [
       "<style type=\"text/css\">\n",
       "\ttable {border:ridge 5px;}\n",
       "\ttable td {border:inset 1px;}\n",
       "\ttable tr#HeaderRow {background-color:grey; color:white;}</style>\n",
       "<html><table>\n",
       "\t<tr id=\"HeaderRow\">\n",
       "\t\t<th>id</th>\n",
       "\t\t<th>cnt</th>\n",
       "\t\t<th>holiday</th>\n",
       "\t\t<th>instant</th>\n",
       "\t\t<th>season</th>\n",
       "\t\t<th>yr</th>\n",
       "\t\t<th>mnth</th>\n",
       "\t\t<th>weekday</th>\n",
       "\t\t<th>workingday</th>\n",
       "\t\t<th>weathersit</th>\n",
       "\t\t<th>temp</th>\n",
       "\t\t<th>atemp</th>\n",
       "\t\t<th>hum</th>\n",
       "\t\t<th>windspeed</th>\n",
       "\t\t<th>casual</th>\n",
       "\t\t<th>registered</th>\n",
       "\t</tr>\n",
       "\t<tr>\n",
       "\t\t<td>123</td>\n",
       "\t\t<td>4066</td>\n",
       "\t\t<td>0</td>\n",
       "\t\t<td>0.3275116425604735</td>\n",
       "\t\t<td>-1.3646438101251772</td>\n",
       "\t\t<td>1.0466505562673123</td>\n",
       "\t\t<td>-1.0253654457912582</td>\n",
       "\t\t<td>1.6148270562793634</td>\n",
       "\t\t<td>-1.7922391615298476</td>\n",
       "\t\t<td>1.078014587604841</td>\n",
       "\t\t<td>-0.4253060180900921</td>\n",
       "\t\t<td>-0.3599587983793148</td>\n",
       "\t\t<td>-0.0721524762460146</td>\n",
       "\t\t<td>-0.38343128608773797</td>\n",
       "\t\t<td>0.4022034292220166</td>\n",
       "\t\t<td>-0.39097797390862293</td>\n",
       "\t</tr>\n",
       "\t<tr>\n",
       "\t\t<td>120</td>\n",
       "\t\t<td>4744</td>\n",
       "\t\t<td>0</td>\n",
       "\t\t<td>-0.8863812012232833</td>\n",
       "\t\t<td>-0.45705773544862394</td>\n",
       "\t\t<td>-0.955428718794473</td>\n",
       "\t\t<td>-0.1580685068562589</td>\n",
       "\t\t<td>-1.5615072949871203</td>\n",
       "\t\t<td>-1.7922391615298476</td>\n",
       "\t\t<td>1.078014587604841</td>\n",
       "\t\t<td>1.1263352459266682</td>\n",
       "\t\t<td>1.066214175958304</td>\n",
       "\t\t<td>0.2576118656618678</td>\n",
       "\t\t<td>-1.2158289582797455</td>\n",
       "\t\t<td>1.6976590743959674</td>\n",
       "\t\t<td>-0.39409427113671536</td>\n",
       "\t</tr>\n",
       "\t<tr>\n",
       "\t\t<td>86</td>\n",
       "\t\t<td>4972</td>\n",
       "\t\t<td>0</td>\n",
       "\t\t<td>0.8027177558246573</td>\n",
       "\t\t<td>-0.45705773544862394</td>\n",
       "\t\t<td>1.0466505562673123</td>\n",
       "\t\t<td>-0.1580685068562589</td>\n",
       "\t\t<td>-0.5027291778982923</td>\n",
       "\t\t<td>0.5579612484008015</td>\n",
       "\t\t<td>1.078014587604841</td>\n",
       "\t\t<td>0.8764393370902844</td>\n",
       "\t\t<td>0.7721389048830909</td>\n",
       "\t\t<td>1.4650566868014996</td>\n",
       "\t\t<td>0.36868437711113183</td>\n",
       "\t\t<td>-0.5063225649775771</td>\n",
       "\t\t<td>0.47223635827298854</td>\n",
       "\t</tr>\n",
       "\t<tr>\n",
       "\t\t<td>89</td>\n",
       "\t\t<td>4451</td>\n",
       "\t\t<td>0</td>\n",
       "\t\t<td>-1.1075167192769133</td>\n",
       "\t\t<td>-0.45705773544862394</td>\n",
       "\t\t<td>-0.955428718794473</td>\n",
       "\t\t<td>-0.44716748650125865</td>\n",
       "\t\t<td>-0.5027291778982923</td>\n",
       "\t\t<td>0.5579612484008015</td>\n",
       "\t\t<td>1.078014587604841</td>\n",
       "\t\t<td>0.6771759326586586</td>\n",
       "\t\t<td>0.6751370409376134</td>\n",
       "\t\t<td>0.4779379314640581</td>\n",
       "\t\t<td>2.1743253513076697</td>\n",
       "\t\t<td>-0.26733660408165055</td>\n",
       "\t\t<td>0.06898749695782419</td>\n",
       "\t</tr>\n",
       "\t<tr>\n",
       "\t\t<td>147</td>\n",
       "\t\t<td>4458</td>\n",
       "\t\t<td>0</td>\n",
       "\t\t<td>-0.7499358815731711</td>\n",
       "\t\t<td>0.45052833922792934</td>\n",
       "\t\t<td>-0.955428718794473</td>\n",
       "\t\t<td>0.13103047278874086</td>\n",
       "\t\t<td>-1.0321182364427062</td>\n",
       "\t\t<td>0.5579612484008015</td>\n",
       "\t\t<td>-0.7493516035789746</td>\n",
       "\t\t<td>1.3849421232627948</td>\n",
       "\t\t<td>1.4229109035046472</td>\n",
       "\t\t<td>0.14527456237456746</td>\n",
       "\t\t<td>0.3869943089867597</td>\n",
       "\t\t<td>0.1840813220550995</td>\n",
       "\t\t<td>-0.07498543498004746</td>\n",
       "\t</tr>\n",
       "\t<tr>\n",
       "\t\t<td>159</td>\n",
       "\t\t<td>4258</td>\n",
       "\t\t<td>0</td>\n",
       "\t\t<td>-0.7781659477076771</td>\n",
       "\t\t<td>0.45052833922792934</td>\n",
       "\t\t<td>-0.955428718794473</td>\n",
       "\t\t<td>0.13103047278874086</td>\n",
       "\t\t<td>-0.5027291778982923</td>\n",
       "\t\t<td>0.5579612484008015</td>\n",
       "\t\t<td>-0.7493516035789746</td>\n",
       "\t\t<td>1.6435490005989215</td>\n",
       "\t\t<td>1.6402441936103367</td>\n",
       "\t\t<td>-0.5215016893952167</td>\n",
       "\t\t<td>0.16868358277735013</td>\n",
       "\t\t<td>-0.1554304795351453</td>\n",
       "\t\t<td>-0.0880738833380358</td>\n",
       "\t</tr>\n",
       "\t<tr>\n",
       "\t\t<td>100</td>\n",
       "\t\t<td>4381</td>\n",
       "\t\t<td>0</td>\n",
       "\t\t<td>-0.2935498123986579</td>\n",
       "\t\t<td>1.3581144139044825</td>\n",
       "\t\t<td>-0.955428718794473</td>\n",
       "\t\t<td>0.9983274117237402</td>\n",
       "\t\t<td>-1.5615072949871203</td>\n",
       "\t\t<td>-1.7922391615298476</td>\n",
       "\t\t<td>-0.7493516035789746</td>\n",
       "\t\t<td>-0.3844733532475457</td>\n",
       "\t\t<td>-0.30593244377677037</td>\n",
       "\t\t<td>0.7975556782363128</td>\n",
       "\t\t<td>-1.251040365732876</td>\n",
       "\t\t<td>1.6597247948886775</td>\n",
       "\t\t<td>-0.6078722609838582</td>\n",
       "\t</tr>\n",
       "\t<tr>\n",
       "\t\t<td>55</td>\n",
       "\t\t<td>4187</td>\n",
       "\t\t<td>0</td>\n",
       "\t\t<td>-0.28884480137624025</td>\n",
       "\t\t<td>1.3581144139044825</td>\n",
       "\t\t<td>-0.955428718794473</td>\n",
       "\t\t<td>0.9983274117237402</td>\n",
       "\t\t<td>-1.0321182364427062</td>\n",
       "\t\t<td>0.5579612484008015</td>\n",
       "\t\t<td>-0.7493516035789746</td>\n",
       "\t\t<td>-0.15798817225422232</td>\n",
       "\t\t<td>-0.09228276875761789</td>\n",
       "\t\t<td>1.0215055280155125</td>\n",
       "\t\t<td>-0.9792083001947077</td>\n",
       "\t\t<td>-0.08525206244665894</td>\n",
       "\t\t<td>-0.15538590346483294</td>\n",
       "\t</tr>\n",
       "\t<tr>\n",
       "\t\t<td>59</td>\n",
       "\t\t<td>3727</td>\n",
       "\t\t<td>0</td>\n",
       "\t\t<td>-0.11005438252436908</td>\n",
       "\t\t<td>1.3581144139044825</td>\n",
       "\t\t<td>-0.955428718794473</td>\n",
       "\t\t<td>1.5765253710137397</td>\n",
       "\t\t<td>0.5560489391905356</td>\n",
       "\t\t<td>0.5579612484008015</td>\n",
       "\t\t<td>-0.7493516035789746</td>\n",
       "\t\t<td>-0.9789969533550202</td>\n",
       "\t\t<td>-1.0223955781082388</td>\n",
       "\t\t<td>-0.7722675406042884</td>\n",
       "\t\t<td>0.44896638610426975</td>\n",
       "\t\t<td>-1.0658531877101034</td>\n",
       "\t\t<td>-0.11986011506457889</td>\n",
       "\t</tr>\n",
       "\t<tr>\n",
       "\t\t<td>8</td>\n",
       "\t\t<td>2999</td>\n",
       "\t\t<td>0</td>\n",
       "\t\t<td>0.026390937125743117</td>\n",
       "\t\t<td>-1.3646438101251772</td>\n",
       "\t\t<td>-0.955428718794473</td>\n",
       "\t\t<td>1.5765253710137397</td>\n",
       "\t\t<td>1.0854379977349495</td>\n",
       "\t\t<td>0.5579612484008015</td>\n",
       "\t\t<td>-0.7493516035789746</td>\n",
       "\t\t<td>-0.983352437604892</td>\n",
       "\t\t<td>-0.9413560462044224</td>\n",
       "\t\t<td>0.04018482704128653</td>\n",
       "\t\t<td>-0.760897573985298</td>\n",
       "\t\t<td>-0.47976856932247414</td>\n",
       "\t\t<td>-0.7661801601709551</td>\n",
       "\t</tr>\n",
       "</table></html>"
      ],
      "text/plain": [
       "    id   cnt  holiday   instant    season        yr      mnth   weekday  workingday  weathersit      temp     atemp       hum  windspeed    casual  registered\n",
       "0  123  4066        0  0.327512 -1.364644  1.046651 -1.025365  1.614827   -1.792239    1.078015 -0.425306 -0.359959 -0.072152  -0.383431  0.402203   -0.390978\n",
       "1  120  4744        0 -0.886381 -0.457058 -0.955429 -0.158069 -1.561507   -1.792239    1.078015  1.126335  1.066214  0.257612  -1.215829  1.697659   -0.394094\n",
       "2   86  4972        0  0.802718 -0.457058  1.046651 -0.158069 -0.502729    0.557961    1.078015  0.876439  0.772139  1.465057   0.368684 -0.506323    0.472236\n",
       "3   89  4451        0 -1.107517 -0.457058 -0.955429 -0.447167 -0.502729    0.557961    1.078015  0.677176  0.675137  0.477938   2.174325 -0.267337    0.068987\n",
       "4  147  4458        0 -0.749936  0.450528 -0.955429  0.131030 -1.032118    0.557961   -0.749352  1.384942  1.422911  0.145275   0.386994  0.184081   -0.074985\n",
       "5  159  4258        0 -0.778166  0.450528 -0.955429  0.131030 -0.502729    0.557961   -0.749352  1.643549  1.640244 -0.521502   0.168684 -0.155430   -0.088074\n",
       "6  100  4381        0 -0.293550  1.358114 -0.955429  0.998327 -1.561507   -1.792239   -0.749352 -0.384473 -0.305932  0.797556  -1.251040  1.659725   -0.607872\n",
       "7   55  4187        0 -0.288845  1.358114 -0.955429  0.998327 -1.032118    0.557961   -0.749352 -0.157988 -0.092283  1.021506  -0.979208 -0.085252   -0.155386\n",
       "8   59  3727        0 -0.110054  1.358114 -0.955429  1.576525  0.556049    0.557961   -0.749352 -0.978997 -1.022396 -0.772268   0.448966 -1.065853   -0.119860\n",
       "9    8  2999        0  0.026391 -1.364644 -0.955429  1.576525  1.085438    0.557961   -0.749352 -0.983352 -0.941356  0.040185  -0.760898 -0.479769   -0.766180"
      ]
     },
     "metadata": {},
     "output_type": "display_data"
    },
    {
     "name": "stdout",
     "output_type": "stream",
     "text": [
      "                                                                                                 \r"
     ]
    },
    {
     "data": {
      "text/html": [
       "146 rows X 16 columns"
      ],
      "text/plain": [
       "<IPython.core.display.HTML object>"
      ]
     },
     "metadata": {},
     "output_type": "display_data"
    },
    {
     "name": "stdout",
     "output_type": "stream",
     "text": [
      "                                                                                                 \r"
     ]
    },
    {
     "data": {
      "text/html": [
       "\n",
       "Updated dataset after performing PCA feature selection :"
      ],
      "text/plain": [
       "<IPython.core.display.HTML object>"
      ]
     },
     "metadata": {},
     "output_type": "display_data"
    },
    {
     "data": {
      "text/html": [
       "<div>\n",
       "<style scoped>\n",
       "    .dataframe tbody tr th:only-of-type {\n",
       "        vertical-align: middle;\n",
       "    }\n",
       "\n",
       "    .dataframe tbody tr th {\n",
       "        vertical-align: top;\n",
       "    }\n",
       "\n",
       "    .dataframe thead th {\n",
       "        text-align: right;\n",
       "    }\n",
       "</style>\n",
       "<table border=\"1\" class=\"dataframe\">\n",
       "  <thead>\n",
       "    <tr style=\"text-align: right;\">\n",
       "      <th></th>\n",
       "      <th>id</th>\n",
       "      <th>col_0</th>\n",
       "      <th>col_1</th>\n",
       "      <th>col_2</th>\n",
       "      <th>col_3</th>\n",
       "      <th>col_4</th>\n",
       "      <th>col_5</th>\n",
       "      <th>col_6</th>\n",
       "      <th>col_7</th>\n",
       "      <th>cnt</th>\n",
       "    </tr>\n",
       "  </thead>\n",
       "  <tbody>\n",
       "    <tr>\n",
       "      <th>0</th>\n",
       "      <td>89</td>\n",
       "      <td>0.821556</td>\n",
       "      <td>0.055396</td>\n",
       "      <td>1.117210</td>\n",
       "      <td>-1.900097</td>\n",
       "      <td>0.074222</td>\n",
       "      <td>-0.939811</td>\n",
       "      <td>1.837830</td>\n",
       "      <td>0.117316</td>\n",
       "      <td>4451</td>\n",
       "    </tr>\n",
       "    <tr>\n",
       "      <th>1</th>\n",
       "      <td>91</td>\n",
       "      <td>-0.865323</td>\n",
       "      <td>-0.306696</td>\n",
       "      <td>-2.657509</td>\n",
       "      <td>0.934165</td>\n",
       "      <td>-2.647367</td>\n",
       "      <td>-0.783708</td>\n",
       "      <td>1.875190</td>\n",
       "      <td>0.310255</td>\n",
       "      <td>5315</td>\n",
       "    </tr>\n",
       "    <tr>\n",
       "      <th>2</th>\n",
       "      <td>147</td>\n",
       "      <td>-0.790934</td>\n",
       "      <td>-0.689591</td>\n",
       "      <td>1.787456</td>\n",
       "      <td>-1.307614</td>\n",
       "      <td>-0.620465</td>\n",
       "      <td>-1.055199</td>\n",
       "      <td>-0.123385</td>\n",
       "      <td>-0.390498</td>\n",
       "      <td>4458</td>\n",
       "    </tr>\n",
       "    <tr>\n",
       "      <th>3</th>\n",
       "      <td>59</td>\n",
       "      <td>0.501097</td>\n",
       "      <td>0.895778</td>\n",
       "      <td>-0.528733</td>\n",
       "      <td>0.612449</td>\n",
       "      <td>-2.934199</td>\n",
       "      <td>-0.069743</td>\n",
       "      <td>-0.083376</td>\n",
       "      <td>-0.196270</td>\n",
       "      <td>3727</td>\n",
       "    </tr>\n",
       "    <tr>\n",
       "      <th>4</th>\n",
       "      <td>120</td>\n",
       "      <td>-0.365622</td>\n",
       "      <td>-0.385433</td>\n",
       "      <td>3.016600</td>\n",
       "      <td>0.636251</td>\n",
       "      <td>1.847648</td>\n",
       "      <td>-0.634970</td>\n",
       "      <td>-0.715393</td>\n",
       "      <td>1.161655</td>\n",
       "      <td>4744</td>\n",
       "    </tr>\n",
       "    <tr>\n",
       "      <th>5</th>\n",
       "      <td>123</td>\n",
       "      <td>0.824000</td>\n",
       "      <td>-0.241630</td>\n",
       "      <td>-0.524714</td>\n",
       "      <td>1.230457</td>\n",
       "      <td>2.060245</td>\n",
       "      <td>1.915939</td>\n",
       "      <td>0.788343</td>\n",
       "      <td>0.569315</td>\n",
       "      <td>4066</td>\n",
       "    </tr>\n",
       "    <tr>\n",
       "      <th>6</th>\n",
       "      <td>100</td>\n",
       "      <td>-0.464539</td>\n",
       "      <td>0.464394</td>\n",
       "      <td>2.198406</td>\n",
       "      <td>2.533119</td>\n",
       "      <td>-0.002522</td>\n",
       "      <td>-1.053732</td>\n",
       "      <td>-1.371986</td>\n",
       "      <td>-0.456987</td>\n",
       "      <td>4381</td>\n",
       "    </tr>\n",
       "    <tr>\n",
       "      <th>7</th>\n",
       "      <td>158</td>\n",
       "      <td>-2.072707</td>\n",
       "      <td>-0.791889</td>\n",
       "      <td>-0.275474</td>\n",
       "      <td>-0.628217</td>\n",
       "      <td>1.164989</td>\n",
       "      <td>1.360847</td>\n",
       "      <td>-0.119952</td>\n",
       "      <td>-0.910881</td>\n",
       "      <td>6734</td>\n",
       "    </tr>\n",
       "    <tr>\n",
       "      <th>8</th>\n",
       "      <td>77</td>\n",
       "      <td>0.114312</td>\n",
       "      <td>0.586764</td>\n",
       "      <td>-1.345838</td>\n",
       "      <td>3.331772</td>\n",
       "      <td>-0.810501</td>\n",
       "      <td>-1.837612</td>\n",
       "      <td>-0.863674</td>\n",
       "      <td>0.254816</td>\n",
       "      <td>2424</td>\n",
       "    </tr>\n",
       "    <tr>\n",
       "      <th>9</th>\n",
       "      <td>159</td>\n",
       "      <td>-0.880621</td>\n",
       "      <td>-0.955583</td>\n",
       "      <td>1.697142</td>\n",
       "      <td>-1.456711</td>\n",
       "      <td>-0.985515</td>\n",
       "      <td>-0.539366</td>\n",
       "      <td>-0.159482</td>\n",
       "      <td>0.031618</td>\n",
       "      <td>4258</td>\n",
       "    </tr>\n",
       "  </tbody>\n",
       "</table>\n",
       "</div>"
      ],
      "text/plain": [
       "    id     col_0     col_1     col_2     col_3     col_4     col_5     col_6  \\\n",
       "0   89  0.821556  0.055396  1.117210 -1.900097  0.074222 -0.939811  1.837830   \n",
       "1   91 -0.865323 -0.306696 -2.657509  0.934165 -2.647367 -0.783708  1.875190   \n",
       "2  147 -0.790934 -0.689591  1.787456 -1.307614 -0.620465 -1.055199 -0.123385   \n",
       "3   59  0.501097  0.895778 -0.528733  0.612449 -2.934199 -0.069743 -0.083376   \n",
       "4  120 -0.365622 -0.385433  3.016600  0.636251  1.847648 -0.634970 -0.715393   \n",
       "5  123  0.824000 -0.241630 -0.524714  1.230457  2.060245  1.915939  0.788343   \n",
       "6  100 -0.464539  0.464394  2.198406  2.533119 -0.002522 -1.053732 -1.371986   \n",
       "7  158 -2.072707 -0.791889 -0.275474 -0.628217  1.164989  1.360847 -0.119952   \n",
       "8   77  0.114312  0.586764 -1.345838  3.331772 -0.810501 -1.837612 -0.863674   \n",
       "9  159 -0.880621 -0.955583  1.697142 -1.456711 -0.985515 -0.539366 -0.159482   \n",
       "\n",
       "      col_7   cnt  \n",
       "0  0.117316  4451  \n",
       "1  0.310255  5315  \n",
       "2 -0.390498  4458  \n",
       "3 -0.196270  3727  \n",
       "4  1.161655  4744  \n",
       "5  0.569315  4066  \n",
       "6 -0.456987  4381  \n",
       "7 -0.910881  6734  \n",
       "8  0.254816  2424  \n",
       "9  0.031618  4258  "
      ]
     },
     "metadata": {},
     "output_type": "display_data"
    },
    {
     "name": "stdout",
     "output_type": "stream",
     "text": [
      "                                                                                                 \r"
     ]
    },
    {
     "data": {
      "text/html": [
       "10 rows X 10 columns"
      ],
      "text/plain": [
       "<IPython.core.display.HTML object>"
      ]
     },
     "metadata": {},
     "output_type": "display_data"
    },
    {
     "name": "stdout",
     "output_type": "stream",
     "text": [
      "Data Transformation completed.⫿⫿⫿⫿⫿⫿⫿⫿⫿⫿⫿⫿⫿⫿⫿⫿⫿⫿⫿⫿⫿⫿⫿⫿⫿⫿⫿⫿⫿⫿⫿⫿⫿⫿⫿⫿⫿⫿⫿⫿⫿⫿｜ 100% - 10/10           \n",
      "\n",
      "Following model is being used for generating prediction :\n",
      "Model ID : DECISIONFOREST_0 \n",
      "Feature Selection Method : lasso\n",
      "\n",
      "Prediction : \n",
      "    id   prediction  confidence_lower  confidence_upper   cnt\n",
      "0   89  3802.843750       3802.843750       3802.843750  4451\n",
      "1  100  4274.140000       4274.140000       4274.140000  4381\n",
      "2   55  4274.140000       4274.140000       4274.140000  4187\n",
      "3   59  3802.843750       3802.843750       3802.843750  3727\n",
      "4  147  4274.140000       4274.140000       4274.140000  4458\n",
      "5  159  4274.140000       4274.140000       4274.140000  4258\n",
      "6  120  4274.140000       4274.140000       4274.140000  4744\n",
      "7   86  4939.200000       4939.200000       4939.200000  4972\n",
      "8  123  4274.140000       4274.140000       4274.140000  4066\n",
      "9   32  2963.833333       2963.833333       2963.833333  2744\n",
      "\n",
      "Performance Metrics : \n",
      "          MAE            MSE      MSLE       MAPE        MPE        RMSE     RMSLE      ME        R2        EV        MPD       MGD\n",
      "0  368.049245  249292.883418  0.128375  43.636318 -33.076516  499.292383  0.358294  2325.5  0.931932  0.934599  76.156747  0.066378\n"
     ]
    }
   ],
   "source": [
    "# Generating prediction and metrics on test data\n",
    "prediction = aml.predict(bike_df_test, 3)"
   ]
  },
  {
   "cell_type": "code",
   "execution_count": 25,
   "id": "10b648f8-55c3-4bc3-b1a7-f77a333b859a",
   "metadata": {},
   "outputs": [
    {
     "data": {
      "text/html": [
       "<style type=\"text/css\">\n",
       "\ttable {border:ridge 5px;}\n",
       "\ttable td {border:inset 1px;}\n",
       "\ttable tr#HeaderRow {background-color:grey; color:white;}</style>\n",
       "<html><table>\n",
       "\t<tr id=\"HeaderRow\">\n",
       "\t\t<th>id</th>\n",
       "\t\t<th>prediction</th>\n",
       "\t\t<th>confidence_lower</th>\n",
       "\t\t<th>confidence_upper</th>\n",
       "\t\t<th>cnt</th>\n",
       "\t</tr>\n",
       "\t<tr>\n",
       "\t\t<td>10</td>\n",
       "\t\t<td>5968.5</td>\n",
       "\t\t<td>5968.5</td>\n",
       "\t\t<td>5968.5</td>\n",
       "\t\t<td>6457</td>\n",
       "\t</tr>\n",
       "\t<tr>\n",
       "\t\t<td>12</td>\n",
       "\t\t<td>2842.0</td>\n",
       "\t\t<td>2842.0</td>\n",
       "\t\t<td>2842.0</td>\n",
       "\t\t<td>2077</td>\n",
       "\t</tr>\n",
       "\t<tr>\n",
       "\t\t<td>13</td>\n",
       "\t\t<td>3802.84375</td>\n",
       "\t\t<td>3802.84375</td>\n",
       "\t\t<td>3802.84375</td>\n",
       "\t\t<td>4068</td>\n",
       "\t</tr>\n",
       "\t<tr>\n",
       "\t\t<td>14</td>\n",
       "\t\t<td>3802.84375</td>\n",
       "\t\t<td>3802.84375</td>\n",
       "\t\t<td>3802.84375</td>\n",
       "\t\t<td>3831</td>\n",
       "\t</tr>\n",
       "\t<tr>\n",
       "\t\t<td>16</td>\n",
       "\t\t<td>4274.14</td>\n",
       "\t\t<td>4274.14</td>\n",
       "\t\t<td>4274.14</td>\n",
       "\t\t<td>4602</td>\n",
       "\t</tr>\n",
       "\t<tr>\n",
       "\t\t<td>17</td>\n",
       "\t\t<td>5968.5</td>\n",
       "\t\t<td>5968.5</td>\n",
       "\t\t<td>5968.5</td>\n",
       "\t\t<td>7333</td>\n",
       "\t</tr>\n",
       "\t<tr>\n",
       "\t\t<td>15</td>\n",
       "\t\t<td>4274.14</td>\n",
       "\t\t<td>4274.14</td>\n",
       "\t\t<td>4274.14</td>\n",
       "\t\t<td>4792</td>\n",
       "\t</tr>\n",
       "\t<tr>\n",
       "\t\t<td>11</td>\n",
       "\t\t<td>4274.14</td>\n",
       "\t\t<td>4274.14</td>\n",
       "\t\t<td>4274.14</td>\n",
       "\t\t<td>3331</td>\n",
       "\t</tr>\n",
       "\t<tr>\n",
       "\t\t<td>9</td>\n",
       "\t\t<td>4939.2</td>\n",
       "\t\t<td>4939.2</td>\n",
       "\t\t<td>4939.2</td>\n",
       "\t\t<td>4795</td>\n",
       "\t</tr>\n",
       "\t<tr>\n",
       "\t\t<td>8</td>\n",
       "\t\t<td>2963.8333333333335</td>\n",
       "\t\t<td>2963.8333333333335</td>\n",
       "\t\t<td>2963.8333333333335</td>\n",
       "\t\t<td>2999</td>\n",
       "\t</tr>\n",
       "</table></html>"
      ],
      "text/plain": [
       "   id   prediction  confidence_lower  confidence_upper   cnt\n",
       "0  10  5968.500000       5968.500000       5968.500000  6457\n",
       "1  12  2842.000000       2842.000000       2842.000000  2077\n",
       "2  13  3802.843750       3802.843750       3802.843750  4068\n",
       "3  14  3802.843750       3802.843750       3802.843750  3831\n",
       "4  16  4274.140000       4274.140000       4274.140000  4602\n",
       "5  17  5968.500000       5968.500000       5968.500000  7333\n",
       "6  15  4274.140000       4274.140000       4274.140000  4792\n",
       "7  11  4274.140000       4274.140000       4274.140000  3331\n",
       "8   9  4939.200000       4939.200000       4939.200000  4795\n",
       "9   8  2963.833333       2963.833333       2963.833333  2999"
      ]
     },
     "execution_count": 25,
     "metadata": {},
     "output_type": "execute_result"
    }
   ],
   "source": [
    "# Printing prediction\n",
    "prediction.head()"
   ]
  },
  {
   "cell_type": "code",
   "execution_count": 25,
   "id": "8f195b03-6057-4c47-adf0-38d756ff8440",
   "metadata": {},
   "outputs": [
    {
     "data": {
      "text/plain": [
       "True"
      ]
     },
     "execution_count": 25,
     "metadata": {},
     "output_type": "execute_result"
    }
   ],
   "source": [
    "remove_context()"
   ]
  }
 ],
 "metadata": {
  "kernelspec": {
   "display_name": "Python 3 (ipykernel)",
   "language": "python",
   "name": "python3"
  },
  "language_info": {
   "codemirror_mode": {
    "name": "ipython",
    "version": 3
   },
   "file_extension": ".py",
   "mimetype": "text/x-python",
   "name": "python",
   "nbconvert_exporter": "python",
   "pygments_lexer": "ipython3",
   "version": "3.10.9"
  }
 },
 "nbformat": 4,
 "nbformat_minor": 5
}
