{
 "cells": [
  {
   "cell_type": "markdown",
   "id": "2762f1d8-5a66-411f-a625-34cf16ac6dd3",
   "metadata": {},
   "source": [
    "# <b><span style='color:#F1A424'>AutoML - Regression - Bike Sharing Demand Prediction </span> </b>"
   ]
  },
  {
   "cell_type": "markdown",
   "id": "559830ea-f05c-4760-b364-c465bd7ff113",
   "metadata": {},
   "source": [
    "### Disclaimer\n",
    "Please note, the Vantage Functions via SQLAlchemy feature is a preview/beta code release with limited functionality (the “Code”). As such, you acknowledge that the Code is experimental in nature and that the Code is provided “AS IS” and may not be functional on any machine or in any environment. TERADATA DISCLAIMS ALL WARRANTIES RELATING TO THE CODE, EXPRESS OR IMPLIED, INCLUDING, BUT NOT LIMITED TO, ANY WARRANTIES AGAINST INFRINGEMENT OF THIRD-PARTY RIGHTS, MERCHANTABILITY AND FITNESS FOR A PARTICULAR PURPOSE.\n",
    "\n",
    "TERADATA SHALL NOT BE RESPONSIBLE OR LIABLE WITH RESPECT TO ANY SUBJECT MATTER OF THE CODE UNDER ANY CONTRACT, NEGLIGENCE, STRICT LIABILITY OR OTHER THEORY \n",
    "    (A) FOR LOSS OR INACCURACY OF DATA OR COST OF PROCUREMENT OF SUBSTITUTE GOODS, SERVICES OR TECHNOLOGY, OR \n",
    "    (B) FOR ANY INDIRECT, INCIDENTAL OR CONSEQUENTIAL DAMAGES INCLUDING, BUT NOT LIMITED TO LOSS OF REVENUES AND LOSS OF PROFITS. TERADATA SHALL NOT BE RESPONSIBLE FOR ANY MATTER BEYOND ITS REASONABLE CONTROL.\n",
    "\n",
    "Notwithstanding anything to the contrary: \n",
    "    (a) Teradata will have no obligation of any kind with respect to any Code-related comments, suggestions, design changes or improvements that you elect to provide to Teradata in either verbal or written form (collectively, “Feedback”), and \n",
    "    (b) Teradata and its affiliates are hereby free to use any ideas, concepts, know-how or techniques, in whole or in part, contained in Feedback: \n",
    "        (i) for any purpose whatsoever, including developing, manufacturing, and/or marketing products and/or services incorporating Feedback in whole or in part, and \n",
    "        (ii) without any restrictions or limitations, including requiring the payment of any license fees, royalties, or other consideration. "
   ]
  },
  {
   "cell_type": "markdown",
   "id": "f225fb94-b2c8-4c92-af38-733d08e0e2a1",
   "metadata": {},
   "source": [
    "## <b> Problem overview:</b>\n",
    "    "
   ]
  },
  {
   "cell_type": "markdown",
   "id": "af9813eb-9c44-4968-a5fe-d1c74415c894",
   "metadata": {},
   "source": [
    "**Bike Sharing Dataset**\n",
    "\n",
    "**Features**:\n",
    "\n",
    "- `instant`: record index\n",
    "- `dteday` : date\n",
    "- `season` : season (1:springer, 2:summer, 3:fall, 4:winter)\n",
    "- `yr` : year (0: 2011, 1:2012)\n",
    "- `mnth` : month ( 1 to 12)\n",
    "- `hr` : hour (0 to 23)\n",
    "- `holiday` : weather day is holiday or not (extracted from [Web Link])\n",
    "- `weekday` : day of the week\n",
    "- `workingday` : if day is neither weekend nor holiday is 1, otherwise is 0.\n",
    "- `weathersit` :\n",
    "    - 1: Clear, Few clouds, Partly cloudy, Partly cloudy\n",
    "    - 2: Mist + Cloudy, Mist + Broken clouds, Mist + Few clouds, Mist\n",
    "    - 3: Light Snow, Light Rain + Thunderstorm + Scattered clouds, Light Rain + Scattered clouds\n",
    "    - 4: Heavy Rain + Ice Pallets + Thunderstorm + Mist, Snow + Fog\n",
    "- `temp` : Normalized temperature in Celsius. The values are derived via (t-t_min)/(t_max-t_min), t_min=-8, t_max=+39 (only in hourly scale)\n",
    "- `atemp`: Normalized feeling temperature in Celsius. The values are derived via (t-t_min)/(t_max-t_min), t_min=-16, t_max=+50 (only in hourly scale)\n",
    "- `hum`: Normalized humidity. The values are divided to 100 (max)\n",
    "- `windspeed`: Normalized wind speed. The values are divided to 67 (max)\n",
    "- `casual`: count of casual users\n",
    "- `registered`: count of registered users\n",
    "\n",
    "**Target Variable**:\n",
    "\n",
    "- `cnt`: count of total rental bikes including both casual and registered\n",
    "\n",
    "        \n",
    "**Objective**:\n",
    "\n",
    "The primary objective is typically to build a model that can accurately predict the count of total rental bikes including both casual and registered.\n",
    "\n",
    "**Usecase**:\n",
    "\n",
    "Here, we will use AutoML(Automated Machine Learning) functionality to automate the entire process of developing a predictive model. It will perform feature exploration, feature engineering, data preparation, model training and evaluation on dataset in auto run and at end we will get leaderboard containined different models along with their performance. Model will also have rank associated with them which indicates which is best performing model for given data followed by other models."
   ]
  },
  {
   "cell_type": "code",
   "execution_count": 1,
   "id": "66568348-4d00-477c-a071-17995f797c95",
   "metadata": {},
   "outputs": [],
   "source": [
    "# Importing AutoML from teradataml\n",
    "from teradataml import AutoML"
   ]
  },
  {
   "cell_type": "code",
   "execution_count": 2,
   "id": "17dfae70-0401-4cc4-ba1c-400a5cf62451",
   "metadata": {},
   "outputs": [],
   "source": [
    "# Importing other important libraries\n",
    "import getpass\n",
    "from teradataml import create_context, remove_context\n",
    "from teradataml import DataFrame\n",
    "from teradataml import load_example_data\n",
    "from teradataml import TrainTestSplit"
   ]
  },
  {
   "cell_type": "code",
   "execution_count": 3,
   "id": "cadd9ed2-42d6-4899-b23e-4e2cf601162f",
   "metadata": {},
   "outputs": [
    {
     "name": "stdin",
     "output_type": "stream",
     "text": [
      "Host:  ········\n",
      "Username:  ········\n",
      "Password:  ········\n"
     ]
    }
   ],
   "source": [
    "# Create the connection.\n",
    "host = getpass.getpass(\"Host: \")\n",
    "username = getpass.getpass(\"Username: \")\n",
    "password = getpass.getpass(\"Password: \")\n",
    "\n",
    "con = create_context(host=host, username=username, password=password)"
   ]
  },
  {
   "cell_type": "markdown",
   "id": "be767a89-d5b8-4876-91cb-36980754586e",
   "metadata": {},
   "source": [
    "## <b><span style='color:#F1A424'>| 1.</span> Loading Dataset </b>"
   ]
  },
  {
   "cell_type": "code",
   "execution_count": 4,
   "id": "f1592c52-b247-4792-be2a-30b49bbeb9b6",
   "metadata": {},
   "outputs": [],
   "source": [
    "# Loading dataset from example data collection\n",
    "load_example_data('teradataml','bike_sharing')"
   ]
  },
  {
   "cell_type": "code",
   "execution_count": 5,
   "id": "3846ae0f-004b-4b8e-9fea-06fac4294065",
   "metadata": {},
   "outputs": [],
   "source": [
    "# Fetching in teradata dataframe\n",
    "bike_df = DataFrame(\"bike_sharing\")"
   ]
  },
  {
   "cell_type": "code",
   "execution_count": 6,
   "id": "442ccd80-b444-413e-970d-d855ec3d6cae",
   "metadata": {},
   "outputs": [
    {
     "data": {
      "text/html": [
       "<style type=\"text/css\">\n",
       "\ttable {border:ridge 5px;}\n",
       "\ttable td {border:inset 1px;}\n",
       "\ttable tr#HeaderRow {background-color:grey; color:white;}</style>\n",
       "<html><table>\n",
       "\t<tr id=\"HeaderRow\">\n",
       "\t\t<th>instant</th>\n",
       "\t\t<th>dteday</th>\n",
       "\t\t<th>season</th>\n",
       "\t\t<th>yr</th>\n",
       "\t\t<th>mnth</th>\n",
       "\t\t<th>holiday</th>\n",
       "\t\t<th>weekday</th>\n",
       "\t\t<th>workingday</th>\n",
       "\t\t<th>weathersit</th>\n",
       "\t\t<th>temp</th>\n",
       "\t\t<th>atemp</th>\n",
       "\t\t<th>hum</th>\n",
       "\t\t<th>windspeed</th>\n",
       "\t\t<th>casual</th>\n",
       "\t\t<th>registered</th>\n",
       "\t\t<th>cnt</th>\n",
       "\t</tr>\n",
       "\t<tr>\n",
       "\t\t<td>3</td>\n",
       "\t\t<td>03-01-2011</td>\n",
       "\t\t<td>1</td>\n",
       "\t\t<td>0</td>\n",
       "\t\t<td>1</td>\n",
       "\t\t<td>0</td>\n",
       "\t\t<td>1</td>\n",
       "\t\t<td>1</td>\n",
       "\t\t<td>1</td>\n",
       "\t\t<td>0.196364</td>\n",
       "\t\t<td>0.189405</td>\n",
       "\t\t<td>0.437273</td>\n",
       "\t\t<td>0.248309</td>\n",
       "\t\t<td>120</td>\n",
       "\t\t<td>1229</td>\n",
       "\t\t<td>1349</td>\n",
       "\t</tr>\n",
       "\t<tr>\n",
       "\t\t<td>5</td>\n",
       "\t\t<td>05-01-2011</td>\n",
       "\t\t<td>1</td>\n",
       "\t\t<td>0</td>\n",
       "\t\t<td>1</td>\n",
       "\t\t<td>0</td>\n",
       "\t\t<td>3</td>\n",
       "\t\t<td>1</td>\n",
       "\t\t<td>1</td>\n",
       "\t\t<td>0.226957</td>\n",
       "\t\t<td>0.22927</td>\n",
       "\t\t<td>0.436957</td>\n",
       "\t\t<td>0.1869</td>\n",
       "\t\t<td>82</td>\n",
       "\t\t<td>1518</td>\n",
       "\t\t<td>1600</td>\n",
       "\t</tr>\n",
       "\t<tr>\n",
       "\t\t<td>6</td>\n",
       "\t\t<td>06-01-2011</td>\n",
       "\t\t<td>1</td>\n",
       "\t\t<td>0</td>\n",
       "\t\t<td>1</td>\n",
       "\t\t<td>0</td>\n",
       "\t\t<td>4</td>\n",
       "\t\t<td>1</td>\n",
       "\t\t<td>1</td>\n",
       "\t\t<td>0.204348</td>\n",
       "\t\t<td>0.233209</td>\n",
       "\t\t<td>0.518261</td>\n",
       "\t\t<td>0.0895652</td>\n",
       "\t\t<td>88</td>\n",
       "\t\t<td>1518</td>\n",
       "\t\t<td>1606</td>\n",
       "\t</tr>\n",
       "\t<tr>\n",
       "\t\t<td>7</td>\n",
       "\t\t<td>07-01-2011</td>\n",
       "\t\t<td>1</td>\n",
       "\t\t<td>0</td>\n",
       "\t\t<td>1</td>\n",
       "\t\t<td>0</td>\n",
       "\t\t<td>5</td>\n",
       "\t\t<td>1</td>\n",
       "\t\t<td>2</td>\n",
       "\t\t<td>0.196522</td>\n",
       "\t\t<td>0.208839</td>\n",
       "\t\t<td>0.498696</td>\n",
       "\t\t<td>0.168726</td>\n",
       "\t\t<td>148</td>\n",
       "\t\t<td>1362</td>\n",
       "\t\t<td>1510</td>\n",
       "\t</tr>\n",
       "\t<tr>\n",
       "\t\t<td>9</td>\n",
       "\t\t<td>09-01-2011</td>\n",
       "\t\t<td>1</td>\n",
       "\t\t<td>0</td>\n",
       "\t\t<td>1</td>\n",
       "\t\t<td>0</td>\n",
       "\t\t<td>0</td>\n",
       "\t\t<td>0</td>\n",
       "\t\t<td>1</td>\n",
       "\t\t<td>0.138333</td>\n",
       "\t\t<td>0.116175</td>\n",
       "\t\t<td>0.434167</td>\n",
       "\t\t<td>0.36195</td>\n",
       "\t\t<td>54</td>\n",
       "\t\t<td>768</td>\n",
       "\t\t<td>822</td>\n",
       "\t</tr>\n",
       "\t<tr>\n",
       "\t\t<td>10</td>\n",
       "\t\t<td>10-01-2011</td>\n",
       "\t\t<td>1</td>\n",
       "\t\t<td>0</td>\n",
       "\t\t<td>1</td>\n",
       "\t\t<td>0</td>\n",
       "\t\t<td>1</td>\n",
       "\t\t<td>1</td>\n",
       "\t\t<td>1</td>\n",
       "\t\t<td>0.150833</td>\n",
       "\t\t<td>0.150888</td>\n",
       "\t\t<td>0.482917</td>\n",
       "\t\t<td>0.223267</td>\n",
       "\t\t<td>41</td>\n",
       "\t\t<td>1280</td>\n",
       "\t\t<td>1321</td>\n",
       "\t</tr>\n",
       "\t<tr>\n",
       "\t\t<td>8</td>\n",
       "\t\t<td>08-01-2011</td>\n",
       "\t\t<td>1</td>\n",
       "\t\t<td>0</td>\n",
       "\t\t<td>1</td>\n",
       "\t\t<td>0</td>\n",
       "\t\t<td>6</td>\n",
       "\t\t<td>0</td>\n",
       "\t\t<td>2</td>\n",
       "\t\t<td>0.165</td>\n",
       "\t\t<td>0.162254</td>\n",
       "\t\t<td>0.535833</td>\n",
       "\t\t<td>0.266804</td>\n",
       "\t\t<td>68</td>\n",
       "\t\t<td>891</td>\n",
       "\t\t<td>959</td>\n",
       "\t</tr>\n",
       "\t<tr>\n",
       "\t\t<td>4</td>\n",
       "\t\t<td>04-01-2011</td>\n",
       "\t\t<td>1</td>\n",
       "\t\t<td>0</td>\n",
       "\t\t<td>1</td>\n",
       "\t\t<td>0</td>\n",
       "\t\t<td>2</td>\n",
       "\t\t<td>1</td>\n",
       "\t\t<td>1</td>\n",
       "\t\t<td>0.2</td>\n",
       "\t\t<td>0.212122</td>\n",
       "\t\t<td>0.590435</td>\n",
       "\t\t<td>0.160296</td>\n",
       "\t\t<td>108</td>\n",
       "\t\t<td>1454</td>\n",
       "\t\t<td>1562</td>\n",
       "\t</tr>\n",
       "\t<tr>\n",
       "\t\t<td>2</td>\n",
       "\t\t<td>02-01-2011</td>\n",
       "\t\t<td>1</td>\n",
       "\t\t<td>0</td>\n",
       "\t\t<td>1</td>\n",
       "\t\t<td>0</td>\n",
       "\t\t<td>0</td>\n",
       "\t\t<td>0</td>\n",
       "\t\t<td>2</td>\n",
       "\t\t<td>0.363478</td>\n",
       "\t\t<td>0.353739</td>\n",
       "\t\t<td>0.696087</td>\n",
       "\t\t<td>0.248539</td>\n",
       "\t\t<td>131</td>\n",
       "\t\t<td>670</td>\n",
       "\t\t<td>801</td>\n",
       "\t</tr>\n",
       "\t<tr>\n",
       "\t\t<td>1</td>\n",
       "\t\t<td>01-01-2011</td>\n",
       "\t\t<td>1</td>\n",
       "\t\t<td>0</td>\n",
       "\t\t<td>1</td>\n",
       "\t\t<td>0</td>\n",
       "\t\t<td>6</td>\n",
       "\t\t<td>0</td>\n",
       "\t\t<td>2</td>\n",
       "\t\t<td>0.344167</td>\n",
       "\t\t<td>0.363625</td>\n",
       "\t\t<td>0.805833</td>\n",
       "\t\t<td>0.160446</td>\n",
       "\t\t<td>331</td>\n",
       "\t\t<td>654</td>\n",
       "\t\t<td>985</td>\n",
       "\t</tr>\n",
       "</table></html>"
      ],
      "text/plain": [
       "             dteday  season  yr  mnth  holiday  weekday  workingday  weathersit      temp     atemp       hum  windspeed  casual  registered   cnt\n",
       "instant                                                                                                                                           \n",
       "3        03-01-2011       1   0     1        0        1           1           1  0.196364  0.189405  0.437273   0.248309     120        1229  1349\n",
       "5        05-01-2011       1   0     1        0        3           1           1  0.226957  0.229270  0.436957   0.186900      82        1518  1600\n",
       "6        06-01-2011       1   0     1        0        4           1           1  0.204348  0.233209  0.518261   0.089565      88        1518  1606\n",
       "7        07-01-2011       1   0     1        0        5           1           2  0.196522  0.208839  0.498696   0.168726     148        1362  1510\n",
       "9        09-01-2011       1   0     1        0        0           0           1  0.138333  0.116175  0.434167   0.361950      54         768   822\n",
       "10       10-01-2011       1   0     1        0        1           1           1  0.150833  0.150888  0.482917   0.223267      41        1280  1321\n",
       "8        08-01-2011       1   0     1        0        6           0           2  0.165000  0.162254  0.535833   0.266804      68         891   959\n",
       "4        04-01-2011       1   0     1        0        2           1           1  0.200000  0.212122  0.590435   0.160296     108        1454  1562\n",
       "2        02-01-2011       1   0     1        0        0           0           2  0.363478  0.353739  0.696087   0.248539     131         670   801\n",
       "1        01-01-2011       1   0     1        0        6           0           2  0.344167  0.363625  0.805833   0.160446     331         654   985"
      ]
     },
     "execution_count": 6,
     "metadata": {},
     "output_type": "execute_result"
    }
   ],
   "source": [
    "# first 5 rows\n",
    "bike_df.head()"
   ]
  },
  {
   "cell_type": "code",
   "execution_count": 7,
   "id": "636c220d-d12f-4ea5-ab2b-c9203ef00d49",
   "metadata": {},
   "outputs": [
    {
     "data": {
      "text/plain": [
       "(731, 16)"
      ]
     },
     "execution_count": 7,
     "metadata": {},
     "output_type": "execute_result"
    }
   ],
   "source": [
    "# bike_df dataset\n",
    "bike_df.shape"
   ]
  },
  {
   "cell_type": "code",
   "execution_count": 8,
   "id": "73a4b610-1b0e-4d05-a607-cc01a5337c31",
   "metadata": {},
   "outputs": [
    {
     "name": "stdout",
     "output_type": "stream",
     "text": [
      "<class 'teradataml.dataframe.dataframe.DataFrame'>\n",
      "Data columns (total 16 columns):\n",
      "instant                 int\n",
      "dteday        datetime.date\n",
      "season                  int\n",
      "yr                      int\n",
      "mnth                    int\n",
      "holiday                 int\n",
      "weekday                 int\n",
      "workingday              int\n",
      "weathersit              int\n",
      "temp                  float\n",
      "atemp                 float\n",
      "hum                   float\n",
      "windspeed             float\n",
      "casual                  int\n",
      "registered              int\n",
      "cnt                     int\n",
      "dtypes: float(4), int(11), datetime.date(1)\n"
     ]
    }
   ],
   "source": [
    "bike_df.info()"
   ]
  },
  {
   "cell_type": "code",
   "execution_count": 9,
   "id": "e5d1fad7-8784-4d7a-be1f-7be1d3991d8f",
   "metadata": {},
   "outputs": [],
   "source": [
    "# Performing sampling to get 80% for trainning and 20% for testing\n",
    "bike_df_sample = bike_df.sample(frac = [0.8, 0.2])"
   ]
  },
  {
   "cell_type": "code",
   "execution_count": 10,
   "id": "a0e6891a-1b7e-4bac-97c8-350ba5f5bde4",
   "metadata": {},
   "outputs": [
    {
     "data": {
      "text/html": [
       "<style type=\"text/css\">\n",
       "\ttable {border:ridge 5px;}\n",
       "\ttable td {border:inset 1px;}\n",
       "\ttable tr#HeaderRow {background-color:grey; color:white;}</style>\n",
       "<html><table>\n",
       "\t<tr id=\"HeaderRow\">\n",
       "\t\t<th>instant</th>\n",
       "\t\t<th>dteday</th>\n",
       "\t\t<th>season</th>\n",
       "\t\t<th>yr</th>\n",
       "\t\t<th>mnth</th>\n",
       "\t\t<th>holiday</th>\n",
       "\t\t<th>weekday</th>\n",
       "\t\t<th>workingday</th>\n",
       "\t\t<th>weathersit</th>\n",
       "\t\t<th>temp</th>\n",
       "\t\t<th>atemp</th>\n",
       "\t\t<th>hum</th>\n",
       "\t\t<th>windspeed</th>\n",
       "\t\t<th>casual</th>\n",
       "\t\t<th>registered</th>\n",
       "\t\t<th>cnt</th>\n",
       "\t\t<th>sampleid</th>\n",
       "\t</tr>\n",
       "\t<tr>\n",
       "\t\t<td>3</td>\n",
       "\t\t<td>11/01/03</td>\n",
       "\t\t<td>1</td>\n",
       "\t\t<td>0</td>\n",
       "\t\t<td>1</td>\n",
       "\t\t<td>0</td>\n",
       "\t\t<td>1</td>\n",
       "\t\t<td>1</td>\n",
       "\t\t<td>1</td>\n",
       "\t\t<td>0.196364</td>\n",
       "\t\t<td>0.189405</td>\n",
       "\t\t<td>0.437273</td>\n",
       "\t\t<td>0.248309</td>\n",
       "\t\t<td>120</td>\n",
       "\t\t<td>1229</td>\n",
       "\t\t<td>1349</td>\n",
       "\t\t<td>1</td>\n",
       "\t</tr>\n",
       "\t<tr>\n",
       "\t\t<td>5</td>\n",
       "\t\t<td>11/01/05</td>\n",
       "\t\t<td>1</td>\n",
       "\t\t<td>0</td>\n",
       "\t\t<td>1</td>\n",
       "\t\t<td>0</td>\n",
       "\t\t<td>3</td>\n",
       "\t\t<td>1</td>\n",
       "\t\t<td>1</td>\n",
       "\t\t<td>0.226957</td>\n",
       "\t\t<td>0.22927</td>\n",
       "\t\t<td>0.436957</td>\n",
       "\t\t<td>0.1869</td>\n",
       "\t\t<td>82</td>\n",
       "\t\t<td>1518</td>\n",
       "\t\t<td>1600</td>\n",
       "\t\t<td>1</td>\n",
       "\t</tr>\n",
       "\t<tr>\n",
       "\t\t<td>6</td>\n",
       "\t\t<td>11/01/06</td>\n",
       "\t\t<td>1</td>\n",
       "\t\t<td>0</td>\n",
       "\t\t<td>1</td>\n",
       "\t\t<td>0</td>\n",
       "\t\t<td>4</td>\n",
       "\t\t<td>1</td>\n",
       "\t\t<td>1</td>\n",
       "\t\t<td>0.204348</td>\n",
       "\t\t<td>0.233209</td>\n",
       "\t\t<td>0.518261</td>\n",
       "\t\t<td>0.0895652</td>\n",
       "\t\t<td>88</td>\n",
       "\t\t<td>1518</td>\n",
       "\t\t<td>1606</td>\n",
       "\t\t<td>1</td>\n",
       "\t</tr>\n",
       "\t<tr>\n",
       "\t\t<td>7</td>\n",
       "\t\t<td>11/01/07</td>\n",
       "\t\t<td>1</td>\n",
       "\t\t<td>0</td>\n",
       "\t\t<td>1</td>\n",
       "\t\t<td>0</td>\n",
       "\t\t<td>5</td>\n",
       "\t\t<td>1</td>\n",
       "\t\t<td>2</td>\n",
       "\t\t<td>0.196522</td>\n",
       "\t\t<td>0.208839</td>\n",
       "\t\t<td>0.498696</td>\n",
       "\t\t<td>0.168726</td>\n",
       "\t\t<td>148</td>\n",
       "\t\t<td>1362</td>\n",
       "\t\t<td>1510</td>\n",
       "\t\t<td>1</td>\n",
       "\t</tr>\n",
       "\t<tr>\n",
       "\t\t<td>9</td>\n",
       "\t\t<td>11/01/09</td>\n",
       "\t\t<td>1</td>\n",
       "\t\t<td>0</td>\n",
       "\t\t<td>1</td>\n",
       "\t\t<td>0</td>\n",
       "\t\t<td>0</td>\n",
       "\t\t<td>0</td>\n",
       "\t\t<td>1</td>\n",
       "\t\t<td>0.138333</td>\n",
       "\t\t<td>0.116175</td>\n",
       "\t\t<td>0.434167</td>\n",
       "\t\t<td>0.36195</td>\n",
       "\t\t<td>54</td>\n",
       "\t\t<td>768</td>\n",
       "\t\t<td>822</td>\n",
       "\t\t<td>1</td>\n",
       "\t</tr>\n",
       "\t<tr>\n",
       "\t\t<td>10</td>\n",
       "\t\t<td>11/01/10</td>\n",
       "\t\t<td>1</td>\n",
       "\t\t<td>0</td>\n",
       "\t\t<td>1</td>\n",
       "\t\t<td>0</td>\n",
       "\t\t<td>1</td>\n",
       "\t\t<td>1</td>\n",
       "\t\t<td>1</td>\n",
       "\t\t<td>0.150833</td>\n",
       "\t\t<td>0.150888</td>\n",
       "\t\t<td>0.482917</td>\n",
       "\t\t<td>0.223267</td>\n",
       "\t\t<td>41</td>\n",
       "\t\t<td>1280</td>\n",
       "\t\t<td>1321</td>\n",
       "\t\t<td>1</td>\n",
       "\t</tr>\n",
       "\t<tr>\n",
       "\t\t<td>8</td>\n",
       "\t\t<td>11/01/08</td>\n",
       "\t\t<td>1</td>\n",
       "\t\t<td>0</td>\n",
       "\t\t<td>1</td>\n",
       "\t\t<td>0</td>\n",
       "\t\t<td>6</td>\n",
       "\t\t<td>0</td>\n",
       "\t\t<td>2</td>\n",
       "\t\t<td>0.165</td>\n",
       "\t\t<td>0.162254</td>\n",
       "\t\t<td>0.535833</td>\n",
       "\t\t<td>0.266804</td>\n",
       "\t\t<td>68</td>\n",
       "\t\t<td>891</td>\n",
       "\t\t<td>959</td>\n",
       "\t\t<td>1</td>\n",
       "\t</tr>\n",
       "\t<tr>\n",
       "\t\t<td>4</td>\n",
       "\t\t<td>11/01/04</td>\n",
       "\t\t<td>1</td>\n",
       "\t\t<td>0</td>\n",
       "\t\t<td>1</td>\n",
       "\t\t<td>0</td>\n",
       "\t\t<td>2</td>\n",
       "\t\t<td>1</td>\n",
       "\t\t<td>1</td>\n",
       "\t\t<td>0.2</td>\n",
       "\t\t<td>0.212122</td>\n",
       "\t\t<td>0.590435</td>\n",
       "\t\t<td>0.160296</td>\n",
       "\t\t<td>108</td>\n",
       "\t\t<td>1454</td>\n",
       "\t\t<td>1562</td>\n",
       "\t\t<td>1</td>\n",
       "\t</tr>\n",
       "\t<tr>\n",
       "\t\t<td>2</td>\n",
       "\t\t<td>11/01/02</td>\n",
       "\t\t<td>1</td>\n",
       "\t\t<td>0</td>\n",
       "\t\t<td>1</td>\n",
       "\t\t<td>0</td>\n",
       "\t\t<td>0</td>\n",
       "\t\t<td>0</td>\n",
       "\t\t<td>2</td>\n",
       "\t\t<td>0.363478</td>\n",
       "\t\t<td>0.353739</td>\n",
       "\t\t<td>0.696087</td>\n",
       "\t\t<td>0.248539</td>\n",
       "\t\t<td>131</td>\n",
       "\t\t<td>670</td>\n",
       "\t\t<td>801</td>\n",
       "\t\t<td>1</td>\n",
       "\t</tr>\n",
       "\t<tr>\n",
       "\t\t<td>1</td>\n",
       "\t\t<td>11/01/01</td>\n",
       "\t\t<td>1</td>\n",
       "\t\t<td>0</td>\n",
       "\t\t<td>1</td>\n",
       "\t\t<td>0</td>\n",
       "\t\t<td>6</td>\n",
       "\t\t<td>0</td>\n",
       "\t\t<td>2</td>\n",
       "\t\t<td>0.344167</td>\n",
       "\t\t<td>0.363625</td>\n",
       "\t\t<td>0.805833</td>\n",
       "\t\t<td>0.160446</td>\n",
       "\t\t<td>331</td>\n",
       "\t\t<td>654</td>\n",
       "\t\t<td>985</td>\n",
       "\t\t<td>1</td>\n",
       "\t</tr>\n",
       "</table></html>"
      ],
      "text/plain": [
       "           dteday  season  yr  mnth  holiday  weekday  workingday  weathersit      temp     atemp       hum  windspeed  casual  registered   cnt  sampleid\n",
       "instant                                                                                                                                                   \n",
       "3        11/01/03       1   0     1        0        1           1           1  0.196364  0.189405  0.437273   0.248309     120        1229  1349         1\n",
       "5        11/01/05       1   0     1        0        3           1           1  0.226957  0.229270  0.436957   0.186900      82        1518  1600         1\n",
       "6        11/01/06       1   0     1        0        4           1           1  0.204348  0.233209  0.518261   0.089565      88        1518  1606         1\n",
       "7        11/01/07       1   0     1        0        5           1           2  0.196522  0.208839  0.498696   0.168726     148        1362  1510         1\n",
       "9        11/01/09       1   0     1        0        0           0           1  0.138333  0.116175  0.434167   0.361950      54         768   822         1\n",
       "10       11/01/10       1   0     1        0        1           1           1  0.150833  0.150888  0.482917   0.223267      41        1280  1321         1\n",
       "8        11/01/08       1   0     1        0        6           0           2  0.165000  0.162254  0.535833   0.266804      68         891   959         1\n",
       "4        11/01/04       1   0     1        0        2           1           1  0.200000  0.212122  0.590435   0.160296     108        1454  1562         1\n",
       "2        11/01/02       1   0     1        0        0           0           2  0.363478  0.353739  0.696087   0.248539     131         670   801         1\n",
       "1        11/01/01       1   0     1        0        6           0           2  0.344167  0.363625  0.805833   0.160446     331         654   985         1"
      ]
     },
     "execution_count": 10,
     "metadata": {},
     "output_type": "execute_result"
    }
   ],
   "source": [
    "bike_df_sample.head()"
   ]
  },
  {
   "cell_type": "code",
   "execution_count": 11,
   "id": "5e3e5923-18ad-4cf6-b4e5-e87f8854700b",
   "metadata": {},
   "outputs": [],
   "source": [
    "# Fetching train and test data\n",
    "bike_df_train= bike_df_sample[bike_df_sample['sampleid'] == 1].drop('sampleid', axis=1)\n",
    "bike_df_test = bike_df_sample[bike_df_sample['sampleid'] == 2].drop('sampleid', axis=1)"
   ]
  },
  {
   "cell_type": "code",
   "execution_count": 12,
   "id": "83d72a72-3fac-4862-b374-d21ab59be1a6",
   "metadata": {},
   "outputs": [
    {
     "data": {
      "text/plain": [
       "(585, 16)"
      ]
     },
     "execution_count": 12,
     "metadata": {},
     "output_type": "execute_result"
    }
   ],
   "source": [
    "# train data shape\n",
    "bike_df_train.shape"
   ]
  },
  {
   "cell_type": "code",
   "execution_count": 13,
   "id": "b22be730-8a7a-40f3-8e2a-cabd8d1f427f",
   "metadata": {},
   "outputs": [
    {
     "data": {
      "text/plain": [
       "(146, 16)"
      ]
     },
     "execution_count": 13,
     "metadata": {},
     "output_type": "execute_result"
    }
   ],
   "source": [
    "# test data shape\n",
    "bike_df_test.shape"
   ]
  },
  {
   "cell_type": "code",
   "execution_count": 14,
   "id": "18473df2-be15-4e1e-bc5e-739abacf8b89",
   "metadata": {},
   "outputs": [
    {
     "data": {
      "text/html": [
       "<style type=\"text/css\">\n",
       "\ttable {border:ridge 5px;}\n",
       "\ttable td {border:inset 1px;}\n",
       "\ttable tr#HeaderRow {background-color:grey; color:white;}</style>\n",
       "<html><table>\n",
       "\t<tr id=\"HeaderRow\">\n",
       "\t\t<th>instant</th>\n",
       "\t\t<th>dteday</th>\n",
       "\t\t<th>season</th>\n",
       "\t\t<th>yr</th>\n",
       "\t\t<th>mnth</th>\n",
       "\t\t<th>holiday</th>\n",
       "\t\t<th>weekday</th>\n",
       "\t\t<th>workingday</th>\n",
       "\t\t<th>weathersit</th>\n",
       "\t\t<th>temp</th>\n",
       "\t\t<th>atemp</th>\n",
       "\t\t<th>hum</th>\n",
       "\t\t<th>windspeed</th>\n",
       "\t\t<th>casual</th>\n",
       "\t\t<th>registered</th>\n",
       "\t\t<th>cnt</th>\n",
       "\t</tr>\n",
       "\t<tr>\n",
       "\t\t<td>3</td>\n",
       "\t\t<td>11/01/03</td>\n",
       "\t\t<td>1</td>\n",
       "\t\t<td>0</td>\n",
       "\t\t<td>1</td>\n",
       "\t\t<td>0</td>\n",
       "\t\t<td>1</td>\n",
       "\t\t<td>1</td>\n",
       "\t\t<td>1</td>\n",
       "\t\t<td>0.196364</td>\n",
       "\t\t<td>0.189405</td>\n",
       "\t\t<td>0.437273</td>\n",
       "\t\t<td>0.248309</td>\n",
       "\t\t<td>120</td>\n",
       "\t\t<td>1229</td>\n",
       "\t\t<td>1349</td>\n",
       "\t</tr>\n",
       "\t<tr>\n",
       "\t\t<td>5</td>\n",
       "\t\t<td>11/01/05</td>\n",
       "\t\t<td>1</td>\n",
       "\t\t<td>0</td>\n",
       "\t\t<td>1</td>\n",
       "\t\t<td>0</td>\n",
       "\t\t<td>3</td>\n",
       "\t\t<td>1</td>\n",
       "\t\t<td>1</td>\n",
       "\t\t<td>0.226957</td>\n",
       "\t\t<td>0.22927</td>\n",
       "\t\t<td>0.436957</td>\n",
       "\t\t<td>0.1869</td>\n",
       "\t\t<td>82</td>\n",
       "\t\t<td>1518</td>\n",
       "\t\t<td>1600</td>\n",
       "\t</tr>\n",
       "\t<tr>\n",
       "\t\t<td>6</td>\n",
       "\t\t<td>11/01/06</td>\n",
       "\t\t<td>1</td>\n",
       "\t\t<td>0</td>\n",
       "\t\t<td>1</td>\n",
       "\t\t<td>0</td>\n",
       "\t\t<td>4</td>\n",
       "\t\t<td>1</td>\n",
       "\t\t<td>1</td>\n",
       "\t\t<td>0.204348</td>\n",
       "\t\t<td>0.233209</td>\n",
       "\t\t<td>0.518261</td>\n",
       "\t\t<td>0.0895652</td>\n",
       "\t\t<td>88</td>\n",
       "\t\t<td>1518</td>\n",
       "\t\t<td>1606</td>\n",
       "\t</tr>\n",
       "\t<tr>\n",
       "\t\t<td>7</td>\n",
       "\t\t<td>11/01/07</td>\n",
       "\t\t<td>1</td>\n",
       "\t\t<td>0</td>\n",
       "\t\t<td>1</td>\n",
       "\t\t<td>0</td>\n",
       "\t\t<td>5</td>\n",
       "\t\t<td>1</td>\n",
       "\t\t<td>2</td>\n",
       "\t\t<td>0.196522</td>\n",
       "\t\t<td>0.208839</td>\n",
       "\t\t<td>0.498696</td>\n",
       "\t\t<td>0.168726</td>\n",
       "\t\t<td>148</td>\n",
       "\t\t<td>1362</td>\n",
       "\t\t<td>1510</td>\n",
       "\t</tr>\n",
       "\t<tr>\n",
       "\t\t<td>9</td>\n",
       "\t\t<td>11/01/09</td>\n",
       "\t\t<td>1</td>\n",
       "\t\t<td>0</td>\n",
       "\t\t<td>1</td>\n",
       "\t\t<td>0</td>\n",
       "\t\t<td>0</td>\n",
       "\t\t<td>0</td>\n",
       "\t\t<td>1</td>\n",
       "\t\t<td>0.138333</td>\n",
       "\t\t<td>0.116175</td>\n",
       "\t\t<td>0.434167</td>\n",
       "\t\t<td>0.36195</td>\n",
       "\t\t<td>54</td>\n",
       "\t\t<td>768</td>\n",
       "\t\t<td>822</td>\n",
       "\t</tr>\n",
       "\t<tr>\n",
       "\t\t<td>10</td>\n",
       "\t\t<td>11/01/10</td>\n",
       "\t\t<td>1</td>\n",
       "\t\t<td>0</td>\n",
       "\t\t<td>1</td>\n",
       "\t\t<td>0</td>\n",
       "\t\t<td>1</td>\n",
       "\t\t<td>1</td>\n",
       "\t\t<td>1</td>\n",
       "\t\t<td>0.150833</td>\n",
       "\t\t<td>0.150888</td>\n",
       "\t\t<td>0.482917</td>\n",
       "\t\t<td>0.223267</td>\n",
       "\t\t<td>41</td>\n",
       "\t\t<td>1280</td>\n",
       "\t\t<td>1321</td>\n",
       "\t</tr>\n",
       "\t<tr>\n",
       "\t\t<td>8</td>\n",
       "\t\t<td>11/01/08</td>\n",
       "\t\t<td>1</td>\n",
       "\t\t<td>0</td>\n",
       "\t\t<td>1</td>\n",
       "\t\t<td>0</td>\n",
       "\t\t<td>6</td>\n",
       "\t\t<td>0</td>\n",
       "\t\t<td>2</td>\n",
       "\t\t<td>0.165</td>\n",
       "\t\t<td>0.162254</td>\n",
       "\t\t<td>0.535833</td>\n",
       "\t\t<td>0.266804</td>\n",
       "\t\t<td>68</td>\n",
       "\t\t<td>891</td>\n",
       "\t\t<td>959</td>\n",
       "\t</tr>\n",
       "\t<tr>\n",
       "\t\t<td>4</td>\n",
       "\t\t<td>11/01/04</td>\n",
       "\t\t<td>1</td>\n",
       "\t\t<td>0</td>\n",
       "\t\t<td>1</td>\n",
       "\t\t<td>0</td>\n",
       "\t\t<td>2</td>\n",
       "\t\t<td>1</td>\n",
       "\t\t<td>1</td>\n",
       "\t\t<td>0.2</td>\n",
       "\t\t<td>0.212122</td>\n",
       "\t\t<td>0.590435</td>\n",
       "\t\t<td>0.160296</td>\n",
       "\t\t<td>108</td>\n",
       "\t\t<td>1454</td>\n",
       "\t\t<td>1562</td>\n",
       "\t</tr>\n",
       "\t<tr>\n",
       "\t\t<td>2</td>\n",
       "\t\t<td>11/01/02</td>\n",
       "\t\t<td>1</td>\n",
       "\t\t<td>0</td>\n",
       "\t\t<td>1</td>\n",
       "\t\t<td>0</td>\n",
       "\t\t<td>0</td>\n",
       "\t\t<td>0</td>\n",
       "\t\t<td>2</td>\n",
       "\t\t<td>0.363478</td>\n",
       "\t\t<td>0.353739</td>\n",
       "\t\t<td>0.696087</td>\n",
       "\t\t<td>0.248539</td>\n",
       "\t\t<td>131</td>\n",
       "\t\t<td>670</td>\n",
       "\t\t<td>801</td>\n",
       "\t</tr>\n",
       "\t<tr>\n",
       "\t\t<td>1</td>\n",
       "\t\t<td>11/01/01</td>\n",
       "\t\t<td>1</td>\n",
       "\t\t<td>0</td>\n",
       "\t\t<td>1</td>\n",
       "\t\t<td>0</td>\n",
       "\t\t<td>6</td>\n",
       "\t\t<td>0</td>\n",
       "\t\t<td>2</td>\n",
       "\t\t<td>0.344167</td>\n",
       "\t\t<td>0.363625</td>\n",
       "\t\t<td>0.805833</td>\n",
       "\t\t<td>0.160446</td>\n",
       "\t\t<td>331</td>\n",
       "\t\t<td>654</td>\n",
       "\t\t<td>985</td>\n",
       "\t</tr>\n",
       "</table></html>"
      ],
      "text/plain": [
       "           dteday  season  yr  mnth  holiday  weekday  workingday  weathersit      temp     atemp       hum  windspeed  casual  registered   cnt\n",
       "instant                                                                                                                                         \n",
       "3        11/01/03       1   0     1        0        1           1           1  0.196364  0.189405  0.437273   0.248309     120        1229  1349\n",
       "5        11/01/05       1   0     1        0        3           1           1  0.226957  0.229270  0.436957   0.186900      82        1518  1600\n",
       "6        11/01/06       1   0     1        0        4           1           1  0.204348  0.233209  0.518261   0.089565      88        1518  1606\n",
       "7        11/01/07       1   0     1        0        5           1           2  0.196522  0.208839  0.498696   0.168726     148        1362  1510\n",
       "9        11/01/09       1   0     1        0        0           0           1  0.138333  0.116175  0.434167   0.361950      54         768   822\n",
       "10       11/01/10       1   0     1        0        1           1           1  0.150833  0.150888  0.482917   0.223267      41        1280  1321\n",
       "8        11/01/08       1   0     1        0        6           0           2  0.165000  0.162254  0.535833   0.266804      68         891   959\n",
       "4        11/01/04       1   0     1        0        2           1           1  0.200000  0.212122  0.590435   0.160296     108        1454  1562\n",
       "2        11/01/02       1   0     1        0        0           0           2  0.363478  0.353739  0.696087   0.248539     131         670   801\n",
       "1        11/01/01       1   0     1        0        6           0           2  0.344167  0.363625  0.805833   0.160446     331         654   985"
      ]
     },
     "execution_count": 14,
     "metadata": {},
     "output_type": "execute_result"
    }
   ],
   "source": [
    "#train dataset\n",
    "bike_df_train.head()"
   ]
  },
  {
   "cell_type": "code",
   "execution_count": 15,
   "id": "58c9d763-4f19-449e-a35b-676d4d026acc",
   "metadata": {},
   "outputs": [
    {
     "data": {
      "text/html": [
       "<style type=\"text/css\">\n",
       "\ttable {border:ridge 5px;}\n",
       "\ttable td {border:inset 1px;}\n",
       "\ttable tr#HeaderRow {background-color:grey; color:white;}</style>\n",
       "<html><table>\n",
       "\t<tr id=\"HeaderRow\">\n",
       "\t\t<th>instant</th>\n",
       "\t\t<th>dteday</th>\n",
       "\t\t<th>season</th>\n",
       "\t\t<th>yr</th>\n",
       "\t\t<th>mnth</th>\n",
       "\t\t<th>holiday</th>\n",
       "\t\t<th>weekday</th>\n",
       "\t\t<th>workingday</th>\n",
       "\t\t<th>weathersit</th>\n",
       "\t\t<th>temp</th>\n",
       "\t\t<th>atemp</th>\n",
       "\t\t<th>hum</th>\n",
       "\t\t<th>windspeed</th>\n",
       "\t\t<th>casual</th>\n",
       "\t\t<th>registered</th>\n",
       "\t\t<th>cnt</th>\n",
       "\t</tr>\n",
       "\t<tr>\n",
       "\t\t<td>20</td>\n",
       "\t\t<td>11/01/20</td>\n",
       "\t\t<td>1</td>\n",
       "\t\t<td>0</td>\n",
       "\t\t<td>1</td>\n",
       "\t\t<td>0</td>\n",
       "\t\t<td>4</td>\n",
       "\t\t<td>1</td>\n",
       "\t\t<td>2</td>\n",
       "\t\t<td>0.261667</td>\n",
       "\t\t<td>0.25505</td>\n",
       "\t\t<td>0.538333</td>\n",
       "\t\t<td>0.195904</td>\n",
       "\t\t<td>83</td>\n",
       "\t\t<td>1844</td>\n",
       "\t\t<td>1927</td>\n",
       "\t</tr>\n",
       "\t<tr>\n",
       "\t\t<td>42</td>\n",
       "\t\t<td>11/02/11</td>\n",
       "\t\t<td>1</td>\n",
       "\t\t<td>0</td>\n",
       "\t\t<td>2</td>\n",
       "\t\t<td>0</td>\n",
       "\t\t<td>5</td>\n",
       "\t\t<td>1</td>\n",
       "\t\t<td>1</td>\n",
       "\t\t<td>0.189091</td>\n",
       "\t\t<td>0.213509</td>\n",
       "\t\t<td>0.506364</td>\n",
       "\t\t<td>0.10855</td>\n",
       "\t\t<td>149</td>\n",
       "\t\t<td>1597</td>\n",
       "\t\t<td>1746</td>\n",
       "\t</tr>\n",
       "\t<tr>\n",
       "\t\t<td>49</td>\n",
       "\t\t<td>11/02/18</td>\n",
       "\t\t<td>1</td>\n",
       "\t\t<td>0</td>\n",
       "\t\t<td>2</td>\n",
       "\t\t<td>0</td>\n",
       "\t\t<td>5</td>\n",
       "\t\t<td>1</td>\n",
       "\t\t<td>1</td>\n",
       "\t\t<td>0.521667</td>\n",
       "\t\t<td>0.511983</td>\n",
       "\t\t<td>0.516667</td>\n",
       "\t\t<td>0.264925</td>\n",
       "\t\t<td>579</td>\n",
       "\t\t<td>2348</td>\n",
       "\t\t<td>2927</td>\n",
       "\t</tr>\n",
       "\t<tr>\n",
       "\t\t<td>52</td>\n",
       "\t\t<td>11/02/21</td>\n",
       "\t\t<td>1</td>\n",
       "\t\t<td>0</td>\n",
       "\t\t<td>2</td>\n",
       "\t\t<td>1</td>\n",
       "\t\t<td>1</td>\n",
       "\t\t<td>0</td>\n",
       "\t\t<td>2</td>\n",
       "\t\t<td>0.303333</td>\n",
       "\t\t<td>0.284075</td>\n",
       "\t\t<td>0.605</td>\n",
       "\t\t<td>0.307846</td>\n",
       "\t\t<td>195</td>\n",
       "\t\t<td>912</td>\n",
       "\t\t<td>1107</td>\n",
       "\t</tr>\n",
       "\t<tr>\n",
       "\t\t<td>66</td>\n",
       "\t\t<td>11/03/07</td>\n",
       "\t\t<td>1</td>\n",
       "\t\t<td>0</td>\n",
       "\t\t<td>3</td>\n",
       "\t\t<td>0</td>\n",
       "\t\t<td>1</td>\n",
       "\t\t<td>1</td>\n",
       "\t\t<td>1</td>\n",
       "\t\t<td>0.261739</td>\n",
       "\t\t<td>0.238461</td>\n",
       "\t\t<td>0.551304</td>\n",
       "\t\t<td>0.341352</td>\n",
       "\t\t<td>244</td>\n",
       "\t\t<td>1628</td>\n",
       "\t\t<td>1872</td>\n",
       "\t</tr>\n",
       "\t<tr>\n",
       "\t\t<td>81</td>\n",
       "\t\t<td>11/03/22</td>\n",
       "\t\t<td>2</td>\n",
       "\t\t<td>0</td>\n",
       "\t\t<td>3</td>\n",
       "\t\t<td>0</td>\n",
       "\t\t<td>2</td>\n",
       "\t\t<td>1</td>\n",
       "\t\t<td>1</td>\n",
       "\t\t<td>0.441667</td>\n",
       "\t\t<td>0.440642</td>\n",
       "\t\t<td>0.624583</td>\n",
       "\t\t<td>0.22575</td>\n",
       "\t\t<td>460</td>\n",
       "\t\t<td>2243</td>\n",
       "\t\t<td>2703</td>\n",
       "\t</tr>\n",
       "\t<tr>\n",
       "\t\t<td>64</td>\n",
       "\t\t<td>11/03/05</td>\n",
       "\t\t<td>1</td>\n",
       "\t\t<td>0</td>\n",
       "\t\t<td>3</td>\n",
       "\t\t<td>0</td>\n",
       "\t\t<td>6</td>\n",
       "\t\t<td>0</td>\n",
       "\t\t<td>2</td>\n",
       "\t\t<td>0.384167</td>\n",
       "\t\t<td>0.378779</td>\n",
       "\t\t<td>0.789167</td>\n",
       "\t\t<td>0.251871</td>\n",
       "\t\t<td>640</td>\n",
       "\t\t<td>1437</td>\n",
       "\t\t<td>2077</td>\n",
       "\t</tr>\n",
       "\t<tr>\n",
       "\t\t<td>26</td>\n",
       "\t\t<td>11/01/26</td>\n",
       "\t\t<td>1</td>\n",
       "\t\t<td>0</td>\n",
       "\t\t<td>1</td>\n",
       "\t\t<td>0</td>\n",
       "\t\t<td>3</td>\n",
       "\t\t<td>1</td>\n",
       "\t\t<td>3</td>\n",
       "\t\t<td>0.2175</td>\n",
       "\t\t<td>0.2036</td>\n",
       "\t\t<td>0.8625</td>\n",
       "\t\t<td>0.29385</td>\n",
       "\t\t<td>34</td>\n",
       "\t\t<td>472</td>\n",
       "\t\t<td>506</td>\n",
       "\t</tr>\n",
       "\t<tr>\n",
       "\t\t<td>18</td>\n",
       "\t\t<td>11/01/18</td>\n",
       "\t\t<td>1</td>\n",
       "\t\t<td>0</td>\n",
       "\t\t<td>1</td>\n",
       "\t\t<td>0</td>\n",
       "\t\t<td>2</td>\n",
       "\t\t<td>1</td>\n",
       "\t\t<td>2</td>\n",
       "\t\t<td>0.216667</td>\n",
       "\t\t<td>0.232333</td>\n",
       "\t\t<td>0.861667</td>\n",
       "\t\t<td>0.146775</td>\n",
       "\t\t<td>9</td>\n",
       "\t\t<td>674</td>\n",
       "\t\t<td>683</td>\n",
       "\t</tr>\n",
       "\t<tr>\n",
       "\t\t<td>13</td>\n",
       "\t\t<td>11/01/13</td>\n",
       "\t\t<td>1</td>\n",
       "\t\t<td>0</td>\n",
       "\t\t<td>1</td>\n",
       "\t\t<td>0</td>\n",
       "\t\t<td>4</td>\n",
       "\t\t<td>1</td>\n",
       "\t\t<td>1</td>\n",
       "\t\t<td>0.165</td>\n",
       "\t\t<td>0.150883</td>\n",
       "\t\t<td>0.470417</td>\n",
       "\t\t<td>0.301</td>\n",
       "\t\t<td>38</td>\n",
       "\t\t<td>1368</td>\n",
       "\t\t<td>1406</td>\n",
       "\t</tr>\n",
       "</table></html>"
      ],
      "text/plain": [
       "           dteday  season  yr  mnth  holiday  weekday  workingday  weathersit      temp     atemp       hum  windspeed  casual  registered   cnt\n",
       "instant                                                                                                                                         \n",
       "20       11/01/20       1   0     1        0        4           1           2  0.261667  0.255050  0.538333   0.195904      83        1844  1927\n",
       "42       11/02/11       1   0     2        0        5           1           1  0.189091  0.213509  0.506364   0.108550     149        1597  1746\n",
       "49       11/02/18       1   0     2        0        5           1           1  0.521667  0.511983  0.516667   0.264925     579        2348  2927\n",
       "52       11/02/21       1   0     2        1        1           0           2  0.303333  0.284075  0.605000   0.307846     195         912  1107\n",
       "66       11/03/07       1   0     3        0        1           1           1  0.261739  0.238461  0.551304   0.341352     244        1628  1872\n",
       "81       11/03/22       2   0     3        0        2           1           1  0.441667  0.440642  0.624583   0.225750     460        2243  2703\n",
       "64       11/03/05       1   0     3        0        6           0           2  0.384167  0.378779  0.789167   0.251871     640        1437  2077\n",
       "26       11/01/26       1   0     1        0        3           1           3  0.217500  0.203600  0.862500   0.293850      34         472   506\n",
       "18       11/01/18       1   0     1        0        2           1           2  0.216667  0.232333  0.861667   0.146775       9         674   683\n",
       "13       11/01/13       1   0     1        0        4           1           1  0.165000  0.150883  0.470417   0.301000      38        1368  1406"
      ]
     },
     "execution_count": 15,
     "metadata": {},
     "output_type": "execute_result"
    }
   ],
   "source": [
    "# test dataset\n",
    "bike_df_test.head()"
   ]
  },
  {
   "cell_type": "markdown",
   "id": "856ea871-93d8-4ea2-b524-1acb23bd7eb5",
   "metadata": {},
   "source": [
    "## <b><span style='color:#F1A424'>| 2.</span> Fitting AutoML </b>"
   ]
  },
  {
   "cell_type": "code",
   "execution_count": 16,
   "id": "f3650aa5-a408-4227-a88d-79c0f3d36d3c",
   "metadata": {},
   "outputs": [],
   "source": [
    "# Creating AutoML instance\n",
    "# Using all models from model training.\n",
    "# Keeping early stopping criteria max_models as 8\n",
    "# and verbose level 2 for detailed loggging\n",
    "\n",
    "aml = AutoML(max_models=8, \n",
    "             verbose=2)"
   ]
  },
  {
   "cell_type": "code",
   "execution_count": 17,
   "id": "a1b7a771-1bfa-40c9-8ad0-c377d320c137",
   "metadata": {
    "tags": []
   },
   "outputs": [
    {
     "name": "stdout",
     "output_type": "stream",
     "text": [
      "\n",
      "Task type is set to Regression as target column is having distinct values greater than 20.\n"
     ]
    },
    {
     "data": {
      "text/html": [
       "\n",
       "            <style>\n",
       "                .custom-div {\n",
       "                    background-color: lightgray;\n",
       "                    color: #000000;\n",
       "                    padding: 10px;\n",
       "                    border-radius: 8px;\n",
       "                    box-shadow: 0 3px 4px rgba(0, 0, 0, 0.2);\n",
       "                    margin-bottom: 10px;\n",
       "                    text-align: center;\n",
       "                }\n",
       "            </style>\n",
       "        <br><div class=\"custom-div\"><h3><span style=\"color: green;\"></span>1. Feature Exploration -> 2. Feature Engineering -> 3. Data Preparation -> 4. Model Training & Evaluation<center></h3></center></div>"
      ],
      "text/plain": [
       "<IPython.core.display.HTML object>"
      ]
     },
     "metadata": {},
     "output_type": "display_data"
    },
    {
     "name": "stdout",
     "output_type": "stream",
     "text": [
      "Feature Exploration started ...\n",
      "\n",
      "Data Overview:\n",
      "Total Rows in the data: 585\n",
      "Total Columns in the data: 16\n",
      "Identified Date Columns:\n"
     ]
    },
    {
     "data": {
      "text/plain": [
       "['dteday']"
      ]
     },
     "metadata": {},
     "output_type": "display_data"
    },
    {
     "name": "stdout",
     "output_type": "stream",
     "text": [
      "\n",
      "Column Summary:\n"
     ]
    },
    {
     "data": {
      "text/html": [
       "<style type=\"text/css\">\n",
       "\ttable {border:ridge 5px;}\n",
       "\ttable td {border:inset 1px;}\n",
       "\ttable tr#HeaderRow {background-color:grey; color:white;}</style>\n",
       "<html><table>\n",
       "\t<tr id=\"HeaderRow\">\n",
       "\t\t<th>ColumnName</th>\n",
       "\t\t<th>Datatype</th>\n",
       "\t\t<th>NonNullCount</th>\n",
       "\t\t<th>NullCount</th>\n",
       "\t\t<th>BlankCount</th>\n",
       "\t\t<th>ZeroCount</th>\n",
       "\t\t<th>PositiveCount</th>\n",
       "\t\t<th>NegativeCount</th>\n",
       "\t\t<th>NullPercentage</th>\n",
       "\t\t<th>NonNullPercentage</th>\n",
       "\t</tr>\n",
       "\t<tr>\n",
       "\t\t<td>dteday</td>\n",
       "\t\t<td>DATE</td>\n",
       "\t\t<td>585</td>\n",
       "\t\t<td>0</td>\n",
       "\t\t<td>None</td>\n",
       "\t\t<td>None</td>\n",
       "\t\t<td>None</td>\n",
       "\t\t<td>None</td>\n",
       "\t\t<td>0.0</td>\n",
       "\t\t<td>100.0</td>\n",
       "\t</tr>\n",
       "\t<tr>\n",
       "\t\t<td>holiday</td>\n",
       "\t\t<td>BIGINT</td>\n",
       "\t\t<td>585</td>\n",
       "\t\t<td>0</td>\n",
       "\t\t<td>None</td>\n",
       "\t\t<td>567</td>\n",
       "\t\t<td>18</td>\n",
       "\t\t<td>0</td>\n",
       "\t\t<td>0.0</td>\n",
       "\t\t<td>100.0</td>\n",
       "\t</tr>\n",
       "\t<tr>\n",
       "\t\t<td>weathersit</td>\n",
       "\t\t<td>BIGINT</td>\n",
       "\t\t<td>585</td>\n",
       "\t\t<td>0</td>\n",
       "\t\t<td>None</td>\n",
       "\t\t<td>0</td>\n",
       "\t\t<td>585</td>\n",
       "\t\t<td>0</td>\n",
       "\t\t<td>0.0</td>\n",
       "\t\t<td>100.0</td>\n",
       "\t</tr>\n",
       "\t<tr>\n",
       "\t\t<td>temp</td>\n",
       "\t\t<td>FLOAT</td>\n",
       "\t\t<td>585</td>\n",
       "\t\t<td>0</td>\n",
       "\t\t<td>None</td>\n",
       "\t\t<td>0</td>\n",
       "\t\t<td>585</td>\n",
       "\t\t<td>0</td>\n",
       "\t\t<td>0.0</td>\n",
       "\t\t<td>100.0</td>\n",
       "\t</tr>\n",
       "\t<tr>\n",
       "\t\t<td>casual</td>\n",
       "\t\t<td>BIGINT</td>\n",
       "\t\t<td>585</td>\n",
       "\t\t<td>0</td>\n",
       "\t\t<td>None</td>\n",
       "\t\t<td>0</td>\n",
       "\t\t<td>585</td>\n",
       "\t\t<td>0</td>\n",
       "\t\t<td>0.0</td>\n",
       "\t\t<td>100.0</td>\n",
       "\t</tr>\n",
       "\t<tr>\n",
       "\t\t<td>yr</td>\n",
       "\t\t<td>BIGINT</td>\n",
       "\t\t<td>585</td>\n",
       "\t\t<td>0</td>\n",
       "\t\t<td>None</td>\n",
       "\t\t<td>294</td>\n",
       "\t\t<td>291</td>\n",
       "\t\t<td>0</td>\n",
       "\t\t<td>0.0</td>\n",
       "\t\t<td>100.0</td>\n",
       "\t</tr>\n",
       "\t<tr>\n",
       "\t\t<td>registered</td>\n",
       "\t\t<td>BIGINT</td>\n",
       "\t\t<td>585</td>\n",
       "\t\t<td>0</td>\n",
       "\t\t<td>None</td>\n",
       "\t\t<td>0</td>\n",
       "\t\t<td>585</td>\n",
       "\t\t<td>0</td>\n",
       "\t\t<td>0.0</td>\n",
       "\t\t<td>100.0</td>\n",
       "\t</tr>\n",
       "\t<tr>\n",
       "\t\t<td>instant</td>\n",
       "\t\t<td>BIGINT</td>\n",
       "\t\t<td>585</td>\n",
       "\t\t<td>0</td>\n",
       "\t\t<td>None</td>\n",
       "\t\t<td>0</td>\n",
       "\t\t<td>585</td>\n",
       "\t\t<td>0</td>\n",
       "\t\t<td>0.0</td>\n",
       "\t\t<td>100.0</td>\n",
       "\t</tr>\n",
       "\t<tr>\n",
       "\t\t<td>atemp</td>\n",
       "\t\t<td>FLOAT</td>\n",
       "\t\t<td>585</td>\n",
       "\t\t<td>0</td>\n",
       "\t\t<td>None</td>\n",
       "\t\t<td>0</td>\n",
       "\t\t<td>585</td>\n",
       "\t\t<td>0</td>\n",
       "\t\t<td>0.0</td>\n",
       "\t\t<td>100.0</td>\n",
       "\t</tr>\n",
       "\t<tr>\n",
       "\t\t<td>cnt</td>\n",
       "\t\t<td>BIGINT</td>\n",
       "\t\t<td>585</td>\n",
       "\t\t<td>0</td>\n",
       "\t\t<td>None</td>\n",
       "\t\t<td>0</td>\n",
       "\t\t<td>585</td>\n",
       "\t\t<td>0</td>\n",
       "\t\t<td>0.0</td>\n",
       "\t\t<td>100.0</td>\n",
       "\t</tr>\n",
       "\t<tr>\n",
       "\t\t<td>windspeed</td>\n",
       "\t\t<td>FLOAT</td>\n",
       "\t\t<td>585</td>\n",
       "\t\t<td>0</td>\n",
       "\t\t<td>None</td>\n",
       "\t\t<td>0</td>\n",
       "\t\t<td>585</td>\n",
       "\t\t<td>0</td>\n",
       "\t\t<td>0.0</td>\n",
       "\t\t<td>100.0</td>\n",
       "\t</tr>\n",
       "\t<tr>\n",
       "\t\t<td>weekday</td>\n",
       "\t\t<td>BIGINT</td>\n",
       "\t\t<td>585</td>\n",
       "\t\t<td>0</td>\n",
       "\t\t<td>None</td>\n",
       "\t\t<td>76</td>\n",
       "\t\t<td>509</td>\n",
       "\t\t<td>0</td>\n",
       "\t\t<td>0.0</td>\n",
       "\t\t<td>100.0</td>\n",
       "\t</tr>\n",
       "\t<tr>\n",
       "\t\t<td>hum</td>\n",
       "\t\t<td>FLOAT</td>\n",
       "\t\t<td>585</td>\n",
       "\t\t<td>0</td>\n",
       "\t\t<td>None</td>\n",
       "\t\t<td>1</td>\n",
       "\t\t<td>584</td>\n",
       "\t\t<td>0</td>\n",
       "\t\t<td>0.0</td>\n",
       "\t\t<td>100.0</td>\n",
       "\t</tr>\n",
       "\t<tr>\n",
       "\t\t<td>season</td>\n",
       "\t\t<td>BIGINT</td>\n",
       "\t\t<td>585</td>\n",
       "\t\t<td>0</td>\n",
       "\t\t<td>None</td>\n",
       "\t\t<td>0</td>\n",
       "\t\t<td>585</td>\n",
       "\t\t<td>0</td>\n",
       "\t\t<td>0.0</td>\n",
       "\t\t<td>100.0</td>\n",
       "\t</tr>\n",
       "\t<tr>\n",
       "\t\t<td>workingday</td>\n",
       "\t\t<td>BIGINT</td>\n",
       "\t\t<td>585</td>\n",
       "\t\t<td>0</td>\n",
       "\t\t<td>None</td>\n",
       "\t\t<td>181</td>\n",
       "\t\t<td>404</td>\n",
       "\t\t<td>0</td>\n",
       "\t\t<td>0.0</td>\n",
       "\t\t<td>100.0</td>\n",
       "\t</tr>\n",
       "\t<tr>\n",
       "\t\t<td>mnth</td>\n",
       "\t\t<td>BIGINT</td>\n",
       "\t\t<td>585</td>\n",
       "\t\t<td>0</td>\n",
       "\t\t<td>None</td>\n",
       "\t\t<td>0</td>\n",
       "\t\t<td>585</td>\n",
       "\t\t<td>0</td>\n",
       "\t\t<td>0.0</td>\n",
       "\t\t<td>100.0</td>\n",
       "\t</tr>\n",
       "</table></html>"
      ],
      "text/plain": [
       "    ColumnName Datatype  NonNullCount  NullCount BlankCount  ZeroCount  PositiveCount  NegativeCount  NullPercentage  NonNullPercentage\n",
       "0       dteday     DATE           585          0       None        NaN            NaN            NaN             0.0              100.0\n",
       "1      holiday   BIGINT           585          0       None      567.0           18.0            0.0             0.0              100.0\n",
       "2   weathersit   BIGINT           585          0       None        0.0          585.0            0.0             0.0              100.0\n",
       "3         temp    FLOAT           585          0       None        0.0          585.0            0.0             0.0              100.0\n",
       "4       casual   BIGINT           585          0       None        0.0          585.0            0.0             0.0              100.0\n",
       "5           yr   BIGINT           585          0       None      294.0          291.0            0.0             0.0              100.0\n",
       "6   registered   BIGINT           585          0       None        0.0          585.0            0.0             0.0              100.0\n",
       "7      instant   BIGINT           585          0       None        0.0          585.0            0.0             0.0              100.0\n",
       "8        atemp    FLOAT           585          0       None        0.0          585.0            0.0             0.0              100.0\n",
       "9          cnt   BIGINT           585          0       None        0.0          585.0            0.0             0.0              100.0\n",
       "10   windspeed    FLOAT           585          0       None        0.0          585.0            0.0             0.0              100.0\n",
       "11     weekday   BIGINT           585          0       None       76.0          509.0            0.0             0.0              100.0\n",
       "12         hum    FLOAT           585          0       None        1.0          584.0            0.0             0.0              100.0\n",
       "13      season   BIGINT           585          0       None        0.0          585.0            0.0             0.0              100.0\n",
       "14  workingday   BIGINT           585          0       None      181.0          404.0            0.0             0.0              100.0\n",
       "15        mnth   BIGINT           585          0       None        0.0          585.0            0.0             0.0              100.0"
      ]
     },
     "metadata": {},
     "output_type": "display_data"
    },
    {
     "name": "stdout",
     "output_type": "stream",
     "text": [
      "       instant   season       yr     mnth  holiday  weekday  workingday  weathersit     temp    atemp      hum  windspeed    casual  registered       cnt\n",
      "func                                                                                                                                                     \n",
      "std    214.157    1.114    0.500    3.451    0.173    1.982       0.463       0.546    0.184    0.163    0.142      0.079   693.846    1572.070  1953.878\n",
      "25%    181.000    2.000    0.000    4.000    0.000    1.000       0.000       1.000    0.334    0.334    0.522      0.133   316.000    2507.000  3190.000\n",
      "50%    364.000    3.000    0.000    7.000    0.000    3.000       1.000       1.000    0.492    0.479    0.627      0.181   710.000    3702.000  4590.000\n",
      "75%    556.000    3.000    1.000   10.000    0.000    5.000       1.000       2.000    0.659    0.611    0.729      0.233  1071.000    4801.000  5992.000\n",
      "max    731.000    4.000    1.000   12.000    1.000    6.000       1.000       3.000    0.862    0.841    0.970      0.507  3410.000    6946.000  8714.000\n",
      "min      1.000    1.000    0.000    1.000    0.000    0.000       0.000       1.000    0.059    0.079    0.000      0.022     2.000      20.000    22.000\n",
      "mean   366.347    2.513    0.497    6.578    0.031    3.039       0.691       1.398    0.495    0.474    0.626      0.190   842.550    3679.783  4522.333\n",
      "count  585.000  585.000  585.000  585.000  585.000  585.000     585.000     585.000  585.000  585.000  585.000    585.000   585.000     585.000   585.000\n",
      "\n",
      "Statistics of Data:\n"
     ]
    },
    {
     "data": {
      "text/html": [
       "<style type=\"text/css\">\n",
       "\ttable {border:ridge 5px;}\n",
       "\ttable td {border:inset 1px;}\n",
       "\ttable tr#HeaderRow {background-color:grey; color:white;}</style>\n",
       "<html><table>\n",
       "\t<tr id=\"HeaderRow\">\n",
       "\t\t<th>func</th>\n",
       "\t\t<th>instant</th>\n",
       "\t\t<th>season</th>\n",
       "\t\t<th>yr</th>\n",
       "\t\t<th>mnth</th>\n",
       "\t\t<th>holiday</th>\n",
       "\t\t<th>weekday</th>\n",
       "\t\t<th>workingday</th>\n",
       "\t\t<th>weathersit</th>\n",
       "\t\t<th>temp</th>\n",
       "\t\t<th>atemp</th>\n",
       "\t\t<th>hum</th>\n",
       "\t\t<th>windspeed</th>\n",
       "\t\t<th>casual</th>\n",
       "\t\t<th>registered</th>\n",
       "\t\t<th>cnt</th>\n",
       "\t</tr>\n",
       "\t<tr>\n",
       "\t\t<td>std</td>\n",
       "\t\t<td>214.157</td>\n",
       "\t\t<td>1.114</td>\n",
       "\t\t<td>0.5</td>\n",
       "\t\t<td>3.451</td>\n",
       "\t\t<td>0.173</td>\n",
       "\t\t<td>1.982</td>\n",
       "\t\t<td>0.463</td>\n",
       "\t\t<td>0.546</td>\n",
       "\t\t<td>0.184</td>\n",
       "\t\t<td>0.163</td>\n",
       "\t\t<td>0.142</td>\n",
       "\t\t<td>0.079</td>\n",
       "\t\t<td>693.846</td>\n",
       "\t\t<td>1572.07</td>\n",
       "\t\t<td>1953.878</td>\n",
       "\t</tr>\n",
       "\t<tr>\n",
       "\t\t<td>25%</td>\n",
       "\t\t<td>181</td>\n",
       "\t\t<td>2</td>\n",
       "\t\t<td>0</td>\n",
       "\t\t<td>4</td>\n",
       "\t\t<td>0</td>\n",
       "\t\t<td>1</td>\n",
       "\t\t<td>0</td>\n",
       "\t\t<td>1</td>\n",
       "\t\t<td>0.334</td>\n",
       "\t\t<td>0.334</td>\n",
       "\t\t<td>0.522</td>\n",
       "\t\t<td>0.133</td>\n",
       "\t\t<td>316</td>\n",
       "\t\t<td>2507</td>\n",
       "\t\t<td>3190</td>\n",
       "\t</tr>\n",
       "\t<tr>\n",
       "\t\t<td>50%</td>\n",
       "\t\t<td>364</td>\n",
       "\t\t<td>3</td>\n",
       "\t\t<td>0</td>\n",
       "\t\t<td>7</td>\n",
       "\t\t<td>0</td>\n",
       "\t\t<td>3</td>\n",
       "\t\t<td>1</td>\n",
       "\t\t<td>1</td>\n",
       "\t\t<td>0.492</td>\n",
       "\t\t<td>0.479</td>\n",
       "\t\t<td>0.627</td>\n",
       "\t\t<td>0.181</td>\n",
       "\t\t<td>710</td>\n",
       "\t\t<td>3702</td>\n",
       "\t\t<td>4590</td>\n",
       "\t</tr>\n",
       "\t<tr>\n",
       "\t\t<td>75%</td>\n",
       "\t\t<td>556</td>\n",
       "\t\t<td>3</td>\n",
       "\t\t<td>1</td>\n",
       "\t\t<td>10</td>\n",
       "\t\t<td>0</td>\n",
       "\t\t<td>5</td>\n",
       "\t\t<td>1</td>\n",
       "\t\t<td>2</td>\n",
       "\t\t<td>0.659</td>\n",
       "\t\t<td>0.611</td>\n",
       "\t\t<td>0.729</td>\n",
       "\t\t<td>0.233</td>\n",
       "\t\t<td>1071</td>\n",
       "\t\t<td>4801</td>\n",
       "\t\t<td>5992</td>\n",
       "\t</tr>\n",
       "\t<tr>\n",
       "\t\t<td>max</td>\n",
       "\t\t<td>731</td>\n",
       "\t\t<td>4</td>\n",
       "\t\t<td>1</td>\n",
       "\t\t<td>12</td>\n",
       "\t\t<td>1</td>\n",
       "\t\t<td>6</td>\n",
       "\t\t<td>1</td>\n",
       "\t\t<td>3</td>\n",
       "\t\t<td>0.862</td>\n",
       "\t\t<td>0.841</td>\n",
       "\t\t<td>0.97</td>\n",
       "\t\t<td>0.507</td>\n",
       "\t\t<td>3410</td>\n",
       "\t\t<td>6946</td>\n",
       "\t\t<td>8714</td>\n",
       "\t</tr>\n",
       "\t<tr>\n",
       "\t\t<td>min</td>\n",
       "\t\t<td>1</td>\n",
       "\t\t<td>1</td>\n",
       "\t\t<td>0</td>\n",
       "\t\t<td>1</td>\n",
       "\t\t<td>0</td>\n",
       "\t\t<td>0</td>\n",
       "\t\t<td>0</td>\n",
       "\t\t<td>1</td>\n",
       "\t\t<td>0.059</td>\n",
       "\t\t<td>0.079</td>\n",
       "\t\t<td>0</td>\n",
       "\t\t<td>0.022</td>\n",
       "\t\t<td>2</td>\n",
       "\t\t<td>20</td>\n",
       "\t\t<td>22</td>\n",
       "\t</tr>\n",
       "\t<tr>\n",
       "\t\t<td>mean</td>\n",
       "\t\t<td>366.347</td>\n",
       "\t\t<td>2.513</td>\n",
       "\t\t<td>0.497</td>\n",
       "\t\t<td>6.578</td>\n",
       "\t\t<td>0.031</td>\n",
       "\t\t<td>3.039</td>\n",
       "\t\t<td>0.691</td>\n",
       "\t\t<td>1.398</td>\n",
       "\t\t<td>0.495</td>\n",
       "\t\t<td>0.474</td>\n",
       "\t\t<td>0.626</td>\n",
       "\t\t<td>0.19</td>\n",
       "\t\t<td>842.55</td>\n",
       "\t\t<td>3679.783</td>\n",
       "\t\t<td>4522.333</td>\n",
       "\t</tr>\n",
       "\t<tr>\n",
       "\t\t<td>count</td>\n",
       "\t\t<td>585</td>\n",
       "\t\t<td>585</td>\n",
       "\t\t<td>585</td>\n",
       "\t\t<td>585</td>\n",
       "\t\t<td>585</td>\n",
       "\t\t<td>585</td>\n",
       "\t\t<td>585</td>\n",
       "\t\t<td>585</td>\n",
       "\t\t<td>585</td>\n",
       "\t\t<td>585</td>\n",
       "\t\t<td>585</td>\n",
       "\t\t<td>585</td>\n",
       "\t\t<td>585</td>\n",
       "\t\t<td>585</td>\n",
       "\t\t<td>585</td>\n",
       "\t</tr>\n",
       "</table></html>"
      ],
      "text/plain": [
       "       instant   season       yr     mnth  holiday  weekday  workingday  weathersit     temp    atemp      hum  windspeed    casual  registered       cnt\n",
       "func                                                                                                                                                     \n",
       "std    214.157    1.114    0.500    3.451    0.173    1.982       0.463       0.546    0.184    0.163    0.142      0.079   693.846    1572.070  1953.878\n",
       "25%    181.000    2.000    0.000    4.000    0.000    1.000       0.000       1.000    0.334    0.334    0.522      0.133   316.000    2507.000  3190.000\n",
       "50%    364.000    3.000    0.000    7.000    0.000    3.000       1.000       1.000    0.492    0.479    0.627      0.181   710.000    3702.000  4590.000\n",
       "75%    556.000    3.000    1.000   10.000    0.000    5.000       1.000       2.000    0.659    0.611    0.729      0.233  1071.000    4801.000  5992.000\n",
       "max    731.000    4.000    1.000   12.000    1.000    6.000       1.000       3.000    0.862    0.841    0.970      0.507  3410.000    6946.000  8714.000\n",
       "min      1.000    1.000    0.000    1.000    0.000    0.000       0.000       1.000    0.059    0.079    0.000      0.022     2.000      20.000    22.000\n",
       "mean   366.347    2.513    0.497    6.578    0.031    3.039       0.691       1.398    0.495    0.474    0.626      0.190   842.550    3679.783  4522.333\n",
       "count  585.000  585.000  585.000  585.000  585.000  585.000     585.000     585.000  585.000  585.000  585.000    585.000   585.000     585.000   585.000"
      ]
     },
     "metadata": {},
     "output_type": "display_data"
    },
    {
     "name": "stdout",
     "output_type": "stream",
     "text": [
      "\n",
      "Target Column Distribution:\n"
     ]
    },
    {
     "data": {
      "image/png": "[encoded data removed]",
      "text/plain": [
       "<Figure size 800x600 with 1 Axes>"
      ]
     },
     "metadata": {},
     "output_type": "display_data"
    },
    {
     "name": "stdout",
     "output_type": "stream",
     "text": [
      "Columns with outlier percentage :-                                                                                                                                                                                                                                                                                                                                                                                                                                                                                  \n",
      "  ColumnName  OutlierPercentage\n",
      "0        hum           0.341880\n",
      "1     casual           7.692308\n",
      "2    holiday           3.076923\n",
      "3  windspeed           1.880342\n",
      "                                                                                        \r"
     ]
    },
    {
     "data": {
      "text/html": [
       "\n",
       "            <style>\n",
       "                .custom-div {\n",
       "                    background-color: lightgray;\n",
       "                    color: #000000;\n",
       "                    padding: 10px;\n",
       "                    border-radius: 8px;\n",
       "                    box-shadow: 0 3px 4px rgba(0 -  0 -  0 -  0.2);\n",
       "                    margin-bottom: 10px;\n",
       "                    text-align: center;\n",
       "                }\n",
       "            </style>\n",
       "        <br><div class=\"custom-div\"><h3><span style=\"color: green;\">1. Feature Exploration -></span> 2. Feature Engineering -> 3. Data Preparation -> 4. Model Training & Evaluation<center></h3></center></div>"
      ],
      "text/plain": [
       "<IPython.core.display.HTML object>"
      ]
     },
     "metadata": {},
     "output_type": "display_data"
    },
    {
     "name": "stdout",
     "output_type": "stream",
     "text": [
      "                                                                                        \r"
     ]
    },
    {
     "data": {
      "text/html": [
       "Feature Engineering started ..."
      ],
      "text/plain": [
       "<IPython.core.display.HTML object>"
      ]
     },
     "metadata": {},
     "output_type": "display_data"
    },
    {
     "name": "stdout",
     "output_type": "stream",
     "text": [
      "                                                                                        \r"
     ]
    },
    {
     "data": {
      "text/html": [
       "\n",
       "Handling duplicate records present in dataset ..."
      ],
      "text/plain": [
       "<IPython.core.display.HTML object>"
      ]
     },
     "metadata": {},
     "output_type": "display_data"
    },
    {
     "name": "stdout",
     "output_type": "stream",
     "text": [
      "Analysis completed. No action taken.                                                    \n",
      "                                                                                        \r"
     ]
    },
    {
     "data": {
      "text/html": [
       "Total time to handle duplicate records: 1.49 sec  "
      ],
      "text/plain": [
       "<IPython.core.display.HTML object>"
      ]
     },
     "metadata": {},
     "output_type": "display_data"
    },
    {
     "name": "stdout",
     "output_type": "stream",
     "text": [
      "                                                                                        \r"
     ]
    },
    {
     "data": {
      "text/html": [
       "\n",
       "Handling less significant features from data ..."
      ],
      "text/plain": [
       "<IPython.core.display.HTML object>"
      ]
     },
     "metadata": {},
     "output_type": "display_data"
    },
    {
     "name": "stdout",
     "output_type": "stream",
     "text": [
      "                                                                                        \r"
     ]
    },
    {
     "data": {
      "text/html": [
       "Total time to handle less significant features: 5.76 sec  "
      ],
      "text/plain": [
       "<IPython.core.display.HTML object>"
      ]
     },
     "metadata": {},
     "output_type": "display_data"
    },
    {
     "name": "stdout",
     "output_type": "stream",
     "text": [
      "                                                                                         \r"
     ]
    },
    {
     "data": {
      "text/html": [
       "\n",
       "Handling Date Features ..."
      ],
      "text/plain": [
       "<IPython.core.display.HTML object>"
      ]
     },
     "metadata": {},
     "output_type": "display_data"
    },
    {
     "name": "stdout",
     "output_type": "stream",
     "text": [
      "                                                                                         \r"
     ]
    },
    {
     "data": {
      "text/html": [
       "\n",
       "Dropping missing values for:"
      ],
      "text/plain": [
       "<IPython.core.display.HTML object>"
      ]
     },
     "metadata": {},
     "output_type": "display_data"
    },
    {
     "name": "stdout",
     "output_type": "stream",
     "text": [
      "['dteday']\n",
      "                                                                                         \r"
     ]
    },
    {
     "data": {
      "text/html": [
       "Dropping date features with all unique value:"
      ],
      "text/plain": [
       "<IPython.core.display.HTML object>"
      ]
     },
     "metadata": {},
     "output_type": "display_data"
    },
    {
     "name": "stdout",
     "output_type": "stream",
     "text": [
      "['dteday']\n",
      "No useful date feature found                                                             \n",
      "                                                                                         \r"
     ]
    },
    {
     "data": {
      "text/html": [
       "Total time to handle date features: 3.30 sec\n"
      ],
      "text/plain": [
       "<IPython.core.display.HTML object>"
      ]
     },
     "metadata": {},
     "output_type": "display_data"
    },
    {
     "name": "stdout",
     "output_type": "stream",
     "text": [
      "                                                                                         \r"
     ]
    },
    {
     "data": {
      "text/html": [
       "\n",
       "Checking Missing values in dataset ..."
      ],
      "text/plain": [
       "<IPython.core.display.HTML object>"
      ]
     },
     "metadata": {},
     "output_type": "display_data"
    },
    {
     "name": "stdout",
     "output_type": "stream",
     "text": [
      "Analysis Completed. No Missing Values Detected.                                          \n",
      "                                                                                         \r"
     ]
    },
    {
     "data": {
      "text/html": [
       "Total time to find missing values in data: 7.98 sec  "
      ],
      "text/plain": [
       "<IPython.core.display.HTML object>"
      ]
     },
     "metadata": {},
     "output_type": "display_data"
    },
    {
     "name": "stdout",
     "output_type": "stream",
     "text": [
      "                                                                                         \r"
     ]
    },
    {
     "data": {
      "text/html": [
       "\n",
       "Imputing Missing Values ..."
      ],
      "text/plain": [
       "<IPython.core.display.HTML object>"
      ]
     },
     "metadata": {},
     "output_type": "display_data"
    },
    {
     "name": "stdout",
     "output_type": "stream",
     "text": [
      "Analysis completed. No imputation required.                                              \n",
      "                                                                                         \r"
     ]
    },
    {
     "data": {
      "text/html": [
       "Time taken to perform imputation: 0.01 sec  "
      ],
      "text/plain": [
       "<IPython.core.display.HTML object>"
      ]
     },
     "metadata": {},
     "output_type": "display_data"
    },
    {
     "name": "stdout",
     "output_type": "stream",
     "text": [
      "                                                                                         \r"
     ]
    },
    {
     "data": {
      "text/html": [
       "\n",
       "Performing encoding for categorical columns ..."
      ],
      "text/plain": [
       "<IPython.core.display.HTML object>"
      ]
     },
     "metadata": {},
     "output_type": "display_data"
    },
    {
     "name": "stdout",
     "output_type": "stream",
     "text": [
      "Analysis completed. No categorical columns were found.                                   \n",
      "                                                                                         \r"
     ]
    },
    {
     "data": {
      "text/html": [
       "Time taken to encode the columns: 2.08 sec"
      ],
      "text/plain": [
       "<IPython.core.display.HTML object>"
      ]
     },
     "metadata": {},
     "output_type": "display_data"
    },
    {
     "name": "stdout",
     "output_type": "stream",
     "text": [
      "                                                                                         \r"
     ]
    },
    {
     "data": {
      "text/html": [
       "\n",
       "            <style>\n",
       "                .custom-div {\n",
       "                    background-color: lightgray;\n",
       "                    color: #000000;\n",
       "                    padding: 10px;\n",
       "                    border-radius: 8px;\n",
       "                    box-shadow: 0 3px 4px rgba(0 -  0 -  0 -  0.2);\n",
       "                    margin-bottom: 10px;\n",
       "                    text-align: center;\n",
       "                }\n",
       "            </style>\n",
       "        <br><div class=\"custom-div\"><h3><span style=\"color: green;\">1. Feature Exploration -> 2. Feature Engineering -></span> 3. Data Preparation -> 4. Model Training & Evaluation<center></h3></center></div>"
      ],
      "text/plain": [
       "<IPython.core.display.HTML object>"
      ]
     },
     "metadata": {},
     "output_type": "display_data"
    },
    {
     "name": "stdout",
     "output_type": "stream",
     "text": [
      "                                                                                         \r"
     ]
    },
    {
     "data": {
      "text/html": [
       "Data preparation started ..."
      ],
      "text/plain": [
       "<IPython.core.display.HTML object>"
      ]
     },
     "metadata": {},
     "output_type": "display_data"
    },
    {
     "name": "stdout",
     "output_type": "stream",
     "text": [
      "                                                                                         \r"
     ]
    },
    {
     "data": {
      "text/html": [
       "\n",
       "Outlier preprocessing ..."
      ],
      "text/plain": [
       "<IPython.core.display.HTML object>"
      ]
     },
     "metadata": {},
     "output_type": "display_data"
    },
    {
     "name": "stdout",
     "output_type": "stream",
     "text": [
      "Columns with outlier percentage :-                                                                                                                                                                                                                                                                                                                                                                                                                                                                                  \n",
      "  ColumnName  OutlierPercentage\n",
      "0        hum           0.341880\n",
      "1    holiday           3.076923\n",
      "2     casual           7.692308\n",
      "3  windspeed           1.880342\n",
      "                                                                                         \r"
     ]
    },
    {
     "data": {
      "text/html": [
       "Deleting rows of these columns:"
      ],
      "text/plain": [
       "<IPython.core.display.HTML object>"
      ]
     },
     "metadata": {},
     "output_type": "display_data"
    },
    {
     "name": "stdout",
     "output_type": "stream",
     "text": [
      "['holiday', 'casual', 'windspeed', 'hum']\n",
      "                                                                                         \r"
     ]
    },
    {
     "data": {
      "text/html": [
       "Sample of dataset after removing outlier rows:"
      ],
      "text/plain": [
       "<IPython.core.display.HTML object>"
      ]
     },
     "metadata": {},
     "output_type": "display_data"
    },
    {
     "data": {
      "text/html": [
       "<style type=\"text/css\">\n",
       "\ttable {border:ridge 5px;}\n",
       "\ttable td {border:inset 1px;}\n",
       "\ttable tr#HeaderRow {background-color:grey; color:white;}</style>\n",
       "<html><table>\n",
       "\t<tr id=\"HeaderRow\">\n",
       "\t\t<th>instant</th>\n",
       "\t\t<th>season</th>\n",
       "\t\t<th>yr</th>\n",
       "\t\t<th>mnth</th>\n",
       "\t\t<th>holiday</th>\n",
       "\t\t<th>weekday</th>\n",
       "\t\t<th>workingday</th>\n",
       "\t\t<th>weathersit</th>\n",
       "\t\t<th>temp</th>\n",
       "\t\t<th>atemp</th>\n",
       "\t\t<th>hum</th>\n",
       "\t\t<th>windspeed</th>\n",
       "\t\t<th>casual</th>\n",
       "\t\t<th>registered</th>\n",
       "\t\t<th>cnt</th>\n",
       "\t\t<th>id</th>\n",
       "\t</tr>\n",
       "\t<tr>\n",
       "\t\t<td>242</td>\n",
       "\t\t<td>3</td>\n",
       "\t\t<td>0</td>\n",
       "\t\t<td>8</td>\n",
       "\t\t<td>0</td>\n",
       "\t\t<td>2</td>\n",
       "\t\t<td>1</td>\n",
       "\t\t<td>1</td>\n",
       "\t\t<td>0.639167</td>\n",
       "\t\t<td>0.594704</td>\n",
       "\t\t<td>0.548333</td>\n",
       "\t\t<td>0.125008</td>\n",
       "\t\t<td>775</td>\n",
       "\t\t<td>4429</td>\n",
       "\t\t<td>5204</td>\n",
       "\t\t<td>28</td>\n",
       "\t</tr>\n",
       "\t<tr>\n",
       "\t\t<td>507</td>\n",
       "\t\t<td>2</td>\n",
       "\t\t<td>1</td>\n",
       "\t\t<td>5</td>\n",
       "\t\t<td>0</td>\n",
       "\t\t<td>1</td>\n",
       "\t\t<td>1</td>\n",
       "\t\t<td>2</td>\n",
       "\t\t<td>0.598333</td>\n",
       "\t\t<td>0.565667</td>\n",
       "\t\t<td>0.81125</td>\n",
       "\t\t<td>0.233204</td>\n",
       "\t\t<td>630</td>\n",
       "\t\t<td>3729</td>\n",
       "\t\t<td>4359</td>\n",
       "\t\t<td>44</td>\n",
       "\t</tr>\n",
       "\t<tr>\n",
       "\t\t<td>425</td>\n",
       "\t\t<td>1</td>\n",
       "\t\t<td>1</td>\n",
       "\t\t<td>2</td>\n",
       "\t\t<td>0</td>\n",
       "\t\t<td>3</td>\n",
       "\t\t<td>1</td>\n",
       "\t\t<td>2</td>\n",
       "\t\t<td>0.344348</td>\n",
       "\t\t<td>0.34847</td>\n",
       "\t\t<td>0.804783</td>\n",
       "\t\t<td>0.179117</td>\n",
       "\t\t<td>65</td>\n",
       "\t\t<td>1769</td>\n",
       "\t\t<td>1834</td>\n",
       "\t\t<td>52</td>\n",
       "\t</tr>\n",
       "\t<tr>\n",
       "\t\t<td>118</td>\n",
       "\t\t<td>2</td>\n",
       "\t\t<td>0</td>\n",
       "\t\t<td>4</td>\n",
       "\t\t<td>0</td>\n",
       "\t\t<td>4</td>\n",
       "\t\t<td>1</td>\n",
       "\t\t<td>2</td>\n",
       "\t\t<td>0.6175</td>\n",
       "\t\t<td>0.578929</td>\n",
       "\t\t<td>0.700833</td>\n",
       "\t\t<td>0.320908</td>\n",
       "\t\t<td>569</td>\n",
       "\t\t<td>3489</td>\n",
       "\t\t<td>4058</td>\n",
       "\t\t<td>60</td>\n",
       "\t</tr>\n",
       "\t<tr>\n",
       "\t\t<td>362</td>\n",
       "\t\t<td>1</td>\n",
       "\t\t<td>0</td>\n",
       "\t\t<td>12</td>\n",
       "\t\t<td>0</td>\n",
       "\t\t<td>3</td>\n",
       "\t\t<td>1</td>\n",
       "\t\t<td>1</td>\n",
       "\t\t<td>0.29913</td>\n",
       "\t\t<td>0.279974</td>\n",
       "\t\t<td>0.503913</td>\n",
       "\t\t<td>0.293961</td>\n",
       "\t\t<td>255</td>\n",
       "\t\t<td>2047</td>\n",
       "\t\t<td>2302</td>\n",
       "\t\t<td>84</td>\n",
       "\t</tr>\n",
       "\t<tr>\n",
       "\t\t<td>259</td>\n",
       "\t\t<td>3</td>\n",
       "\t\t<td>0</td>\n",
       "\t\t<td>9</td>\n",
       "\t\t<td>0</td>\n",
       "\t\t<td>5</td>\n",
       "\t\t<td>1</td>\n",
       "\t\t<td>2</td>\n",
       "\t\t<td>0.469167</td>\n",
       "\t\t<td>0.461475</td>\n",
       "\t\t<td>0.590417</td>\n",
       "\t\t<td>0.164183</td>\n",
       "\t\t<td>742</td>\n",
       "\t\t<td>4018</td>\n",
       "\t\t<td>4760</td>\n",
       "\t\t<td>92</td>\n",
       "\t</tr>\n",
       "\t<tr>\n",
       "\t\t<td>587</td>\n",
       "\t\t<td>3</td>\n",
       "\t\t<td>1</td>\n",
       "\t\t<td>8</td>\n",
       "\t\t<td>0</td>\n",
       "\t\t<td>4</td>\n",
       "\t\t<td>1</td>\n",
       "\t\t<td>1</td>\n",
       "\t\t<td>0.755833</td>\n",
       "\t\t<td>0.699508</td>\n",
       "\t\t<td>0.620417</td>\n",
       "\t\t<td>0.1561</td>\n",
       "\t\t<td>1196</td>\n",
       "\t\t<td>6090</td>\n",
       "\t\t<td>7286</td>\n",
       "\t\t<td>68</td>\n",
       "\t</tr>\n",
       "\t<tr>\n",
       "\t\t<td>38</td>\n",
       "\t\t<td>1</td>\n",
       "\t\t<td>0</td>\n",
       "\t\t<td>2</td>\n",
       "\t\t<td>0</td>\n",
       "\t\t<td>1</td>\n",
       "\t\t<td>1</td>\n",
       "\t\t<td>1</td>\n",
       "\t\t<td>0.271667</td>\n",
       "\t\t<td>0.303658</td>\n",
       "\t\t<td>0.738333</td>\n",
       "\t\t<td>0.0454083</td>\n",
       "\t\t<td>120</td>\n",
       "\t\t<td>1592</td>\n",
       "\t\t<td>1712</td>\n",
       "\t\t<td>36</td>\n",
       "\t</tr>\n",
       "\t<tr>\n",
       "\t\t<td>345</td>\n",
       "\t\t<td>4</td>\n",
       "\t\t<td>0</td>\n",
       "\t\t<td>12</td>\n",
       "\t\t<td>0</td>\n",
       "\t\t<td>0</td>\n",
       "\t\t<td>0</td>\n",
       "\t\t<td>1</td>\n",
       "\t\t<td>0.220833</td>\n",
       "\t\t<td>0.253154</td>\n",
       "\t\t<td>0.49</td>\n",
       "\t\t<td>0.0665417</td>\n",
       "\t\t<td>377</td>\n",
       "\t\t<td>2366</td>\n",
       "\t\t<td>2743</td>\n",
       "\t\t<td>20</td>\n",
       "\t</tr>\n",
       "\t<tr>\n",
       "\t\t<td>80</td>\n",
       "\t\t<td>2</td>\n",
       "\t\t<td>0</td>\n",
       "\t\t<td>3</td>\n",
       "\t\t<td>0</td>\n",
       "\t\t<td>1</td>\n",
       "\t\t<td>1</td>\n",
       "\t\t<td>2</td>\n",
       "\t\t<td>0.430435</td>\n",
       "\t\t<td>0.409735</td>\n",
       "\t\t<td>0.737391</td>\n",
       "\t\t<td>0.288783</td>\n",
       "\t\t<td>401</td>\n",
       "\t\t<td>1676</td>\n",
       "\t\t<td>2077</td>\n",
       "\t\t<td>12</td>\n",
       "\t</tr>\n",
       "</table></html>"
      ],
      "text/plain": [
       "         season  yr  mnth  holiday  weekday  workingday  weathersit      temp     atemp       hum  windspeed  casual  registered   cnt  id\n",
       "instant                                                                                                                                   \n",
       "242           3   0     8        0        2           1           1  0.639167  0.594704  0.548333   0.125008     775        4429  5204  28\n",
       "507           2   1     5        0        1           1           2  0.598333  0.565667  0.811250   0.233204     630        3729  4359  44\n",
       "425           1   1     2        0        3           1           2  0.344348  0.348470  0.804783   0.179117      65        1769  1834  52\n",
       "118           2   0     4        0        4           1           2  0.617500  0.578929  0.700833   0.320908     569        3489  4058  60\n",
       "362           1   0    12        0        3           1           1  0.299130  0.279974  0.503913   0.293961     255        2047  2302  84\n",
       "259           3   0     9        0        5           1           2  0.469167  0.461475  0.590417   0.164183     742        4018  4760  92\n",
       "587           3   1     8        0        4           1           1  0.755833  0.699508  0.620417   0.156100    1196        6090  7286  68\n",
       "38            1   0     2        0        1           1           1  0.271667  0.303658  0.738333   0.045408     120        1592  1712  36\n",
       "345           4   0    12        0        0           0           1  0.220833  0.253154  0.490000   0.066542     377        2366  2743  20\n",
       "80            2   0     3        0        1           1           2  0.430435  0.409735  0.737391   0.288783     401        1676  2077  12"
      ]
     },
     "metadata": {},
     "output_type": "display_data"
    },
    {
     "name": "stdout",
     "output_type": "stream",
     "text": [
      "                                                                                         \r"
     ]
    },
    {
     "data": {
      "text/html": [
       "513 rows X 16 columns"
      ],
      "text/plain": [
       "<IPython.core.display.HTML object>"
      ]
     },
     "metadata": {},
     "output_type": "display_data"
    },
    {
     "name": "stdout",
     "output_type": "stream",
     "text": [
      "                                                                                         \r"
     ]
    },
    {
     "data": {
      "text/html": [
       "Time Taken by Outlier processing: 35.08 sec "
      ],
      "text/plain": [
       "<IPython.core.display.HTML object>"
      ]
     },
     "metadata": {},
     "output_type": "display_data"
    },
    {
     "name": "stdout",
     "output_type": "stream",
     "text": [
      "                                                                                         \r"
     ]
    },
    {
     "data": {
      "text/html": [
       "\n",
       "Feature selection using lasso ..."
      ],
      "text/plain": [
       "<IPython.core.display.HTML object>"
      ]
     },
     "metadata": {},
     "output_type": "display_data"
    },
    {
     "name": "stdout",
     "output_type": "stream",
     "text": [
      "                                                                                         \r"
     ]
    },
    {
     "data": {
      "text/html": [
       "feature selected by lasso:"
      ],
      "text/plain": [
       "<IPython.core.display.HTML object>"
      ]
     },
     "metadata": {},
     "output_type": "display_data"
    },
    {
     "name": "stdout",
     "output_type": "stream",
     "text": [
      "['casual', 'registered', 'instant']\n",
      "                                                                                         \r"
     ]
    },
    {
     "data": {
      "text/html": [
       "Total time taken by feature selection: 1.72 sec  "
      ],
      "text/plain": [
       "<IPython.core.display.HTML object>"
      ]
     },
     "metadata": {},
     "output_type": "display_data"
    },
    {
     "name": "stdout",
     "output_type": "stream",
     "text": [
      "                                                                                         \r"
     ]
    },
    {
     "data": {
      "text/html": [
       "\n",
       "scaling Features of lasso data ..."
      ],
      "text/plain": [
       "<IPython.core.display.HTML object>"
      ]
     },
     "metadata": {},
     "output_type": "display_data"
    },
    {
     "name": "stdout",
     "output_type": "stream",
     "text": [
      "                                                                                         \r"
     ]
    },
    {
     "data": {
      "text/html": [
       "columns that will be scaled: "
      ],
      "text/plain": [
       "<IPython.core.display.HTML object>"
      ]
     },
     "metadata": {},
     "output_type": "display_data"
    },
    {
     "name": "stdout",
     "output_type": "stream",
     "text": [
      "['casual', 'registered', 'instant']\n",
      "                                                                                         \r"
     ]
    },
    {
     "data": {
      "text/html": [
       "Dataset sample after scaling:"
      ],
      "text/plain": [
       "<IPython.core.display.HTML object>"
      ]
     },
     "metadata": {},
     "output_type": "display_data"
    },
    {
     "data": {
      "text/html": [
       "<style type=\"text/css\">\n",
       "\ttable {border:ridge 5px;}\n",
       "\ttable td {border:inset 1px;}\n",
       "\ttable tr#HeaderRow {background-color:grey; color:white;}</style>\n",
       "<html><table>\n",
       "\t<tr id=\"HeaderRow\">\n",
       "\t\t<th>cnt</th>\n",
       "\t\t<th>id</th>\n",
       "\t\t<th>casual</th>\n",
       "\t\t<th>registered</th>\n",
       "\t\t<th>instant</th>\n",
       "\t</tr>\n",
       "\t<tr>\n",
       "\t\t<td>1977</td>\n",
       "\t\t<td>11</td>\n",
       "\t\t<td>-1.0391196730040158</td>\n",
       "\t\t<td>-1.1999303120498335</td>\n",
       "\t\t<td>0.139145197882178</td>\n",
       "\t</tr>\n",
       "\t<tr>\n",
       "\t\t<td>1607</td>\n",
       "\t\t<td>13</td>\n",
       "\t\t<td>-1.3021424120115361</td>\n",
       "\t\t<td>-1.3526818668297826</td>\n",
       "\t\t<td>-0.14387532063111363</td>\n",
       "\t</tr>\n",
       "\t<tr>\n",
       "\t\t<td>2134</td>\n",
       "\t\t<td>14</td>\n",
       "\t\t<td>-0.9666330913877701</td>\n",
       "\t\t<td>-1.1232402310492005</td>\n",
       "\t\t<td>-1.3733906879429543</td>\n",
       "\t</tr>\n",
       "\t<tr>\n",
       "\t\t<td>6966</td>\n",
       "\t\t<td>15</td>\n",
       "\t\t<td>0.9055917595004055</td>\n",
       "\t\t<td>1.3459289342826557</td>\n",
       "\t\t<td>0.9882067534220529</td>\n",
       "\t</tr>\n",
       "\t<tr>\n",
       "\t\t<td>7421</td>\n",
       "\t\t<td>17</td>\n",
       "\t\t<td>0.9842914766837579</td>\n",
       "\t\t<td>1.6080581455717047</td>\n",
       "\t\t<td>0.8026195281674354</td>\n",
       "\t</tr>\n",
       "\t<tr>\n",
       "\t\t<td>2743</td>\n",
       "\t\t<td>20</td>\n",
       "\t\t<td>-0.6642604937885737</td>\n",
       "\t\t<td>-0.8321950875795849</td>\n",
       "\t\t<td>-0.055721388635170344</td>\n",
       "\t</tr>\n",
       "\t<tr>\n",
       "\t\t<td>5260</td>\n",
       "\t\t<td>16</td>\n",
       "\t\t<td>0.14137608474627184</td>\n",
       "\t\t<td>0.5054810793822759</td>\n",
       "\t\t<td>0.7051862349087612</td>\n",
       "\t</tr>\n",
       "\t<tr>\n",
       "\t\t<td>2077</td>\n",
       "\t\t<td>12</td>\n",
       "\t\t<td>-0.6145554092517194</td>\n",
       "\t\t<td>-1.265934070288083</td>\n",
       "\t\t<td>-1.285236755947011</td>\n",
       "\t</tr>\n",
       "\t<tr>\n",
       "\t\t<td>1605</td>\n",
       "\t\t<td>10</td>\n",
       "\t\t<td>-1.3352791350361055</td>\n",
       "\t\t<td>-1.3438813657313495</td>\n",
       "\t\t<td>-1.4708239812016286</td>\n",
       "\t</tr>\n",
       "\t<tr>\n",
       "\t\t<td>4795</td>\n",
       "\t\t<td>9</td>\n",
       "\t\t<td>-0.2956144501402382</td>\n",
       "\t\t<td>0.34581484516784333</td>\n",
       "\t\t<td>-0.42689583914440526</td>\n",
       "\t</tr>\n",
       "</table></html>"
      ],
      "text/plain": [
       "    cnt  id    casual  registered   instant\n",
       "0  1977  11 -1.039120   -1.199930  0.139145\n",
       "1  1607  13 -1.302142   -1.352682 -0.143875\n",
       "2  2134  14 -0.966633   -1.123240 -1.373391\n",
       "3  6966  15  0.905592    1.345929  0.988207\n",
       "4  7421  17  0.984291    1.608058  0.802620\n",
       "5  2743  20 -0.664260   -0.832195 -0.055721\n",
       "6  5260  16  0.141376    0.505481  0.705186\n",
       "7  2077  12 -0.614555   -1.265934 -1.285237\n",
       "8  1605  10 -1.335279   -1.343881 -1.470824\n",
       "9  4795   9 -0.295614    0.345815 -0.426896"
      ]
     },
     "metadata": {},
     "output_type": "display_data"
    },
    {
     "name": "stdout",
     "output_type": "stream",
     "text": [
      "                                                                                         \r"
     ]
    },
    {
     "data": {
      "text/html": [
       "513 rows X 5 columns"
      ],
      "text/plain": [
       "<IPython.core.display.HTML object>"
      ]
     },
     "metadata": {},
     "output_type": "display_data"
    },
    {
     "name": "stdout",
     "output_type": "stream",
     "text": [
      "                                                                                         \r"
     ]
    },
    {
     "data": {
      "text/html": [
       "Total time taken by feature scaling: 23.27 sec"
      ],
      "text/plain": [
       "<IPython.core.display.HTML object>"
      ]
     },
     "metadata": {},
     "output_type": "display_data"
    },
    {
     "name": "stdout",
     "output_type": "stream",
     "text": [
      "                                                                                          \r"
     ]
    },
    {
     "data": {
      "text/html": [
       "\n",
       "Feature selection using rfe ..."
      ],
      "text/plain": [
       "<IPython.core.display.HTML object>"
      ]
     },
     "metadata": {},
     "output_type": "display_data"
    },
    {
     "name": "stdout",
     "output_type": "stream",
     "text": [
      "                                                                                          \r"
     ]
    },
    {
     "data": {
      "text/html": [
       "feature selected by RFE:"
      ],
      "text/plain": [
       "<IPython.core.display.HTML object>"
      ]
     },
     "metadata": {},
     "output_type": "display_data"
    },
    {
     "name": "stdout",
     "output_type": "stream",
     "text": [
      "['casual', 'registered']\n",
      "                                                                                          \r"
     ]
    },
    {
     "data": {
      "text/html": [
       "Total time taken by feature selection: 54.01 sec  "
      ],
      "text/plain": [
       "<IPython.core.display.HTML object>"
      ]
     },
     "metadata": {},
     "output_type": "display_data"
    },
    {
     "name": "stdout",
     "output_type": "stream",
     "text": [
      "                                                                                          \r"
     ]
    },
    {
     "data": {
      "text/html": [
       "\n",
       "scaling Features of rfe data ..."
      ],
      "text/plain": [
       "<IPython.core.display.HTML object>"
      ]
     },
     "metadata": {},
     "output_type": "display_data"
    },
    {
     "name": "stdout",
     "output_type": "stream",
     "text": [
      "                                                                                          \r"
     ]
    },
    {
     "data": {
      "text/html": [
       "columns that will be scaled: "
      ],
      "text/plain": [
       "<IPython.core.display.HTML object>"
      ]
     },
     "metadata": {},
     "output_type": "display_data"
    },
    {
     "name": "stdout",
     "output_type": "stream",
     "text": [
      "['r_casual', 'r_registered']\n",
      "                                                                                          \r"
     ]
    },
    {
     "data": {
      "text/html": [
       "Dataset sample after scaling:"
      ],
      "text/plain": [
       "<IPython.core.display.HTML object>"
      ]
     },
     "metadata": {},
     "output_type": "display_data"
    },
    {
     "data": {
      "text/html": [
       "<style type=\"text/css\">\n",
       "\ttable {border:ridge 5px;}\n",
       "\ttable td {border:inset 1px;}\n",
       "\ttable tr#HeaderRow {background-color:grey; color:white;}</style>\n",
       "<html><table>\n",
       "\t<tr id=\"HeaderRow\">\n",
       "\t\t<th>id</th>\n",
       "\t\t<th>cnt</th>\n",
       "\t\t<th>r_casual</th>\n",
       "\t\t<th>r_registered</th>\n",
       "\t</tr>\n",
       "\t<tr>\n",
       "\t\t<td>11</td>\n",
       "\t\t<td>1977</td>\n",
       "\t\t<td>-1.0391196730040158</td>\n",
       "\t\t<td>-1.1999303120498335</td>\n",
       "\t</tr>\n",
       "\t<tr>\n",
       "\t\t<td>13</td>\n",
       "\t\t<td>1607</td>\n",
       "\t\t<td>-1.3021424120115361</td>\n",
       "\t\t<td>-1.3526818668297826</td>\n",
       "\t</tr>\n",
       "\t<tr>\n",
       "\t\t<td>14</td>\n",
       "\t\t<td>2134</td>\n",
       "\t\t<td>-0.9666330913877701</td>\n",
       "\t\t<td>-1.1232402310492005</td>\n",
       "\t</tr>\n",
       "\t<tr>\n",
       "\t\t<td>15</td>\n",
       "\t\t<td>6966</td>\n",
       "\t\t<td>0.9055917595004055</td>\n",
       "\t\t<td>1.3459289342826557</td>\n",
       "\t</tr>\n",
       "\t<tr>\n",
       "\t\t<td>17</td>\n",
       "\t\t<td>7421</td>\n",
       "\t\t<td>0.9842914766837579</td>\n",
       "\t\t<td>1.6080581455717047</td>\n",
       "\t</tr>\n",
       "\t<tr>\n",
       "\t\t<td>20</td>\n",
       "\t\t<td>2743</td>\n",
       "\t\t<td>-0.6642604937885737</td>\n",
       "\t\t<td>-0.8321950875795849</td>\n",
       "\t</tr>\n",
       "\t<tr>\n",
       "\t\t<td>16</td>\n",
       "\t\t<td>5260</td>\n",
       "\t\t<td>0.14137608474627184</td>\n",
       "\t\t<td>0.5054810793822759</td>\n",
       "\t</tr>\n",
       "\t<tr>\n",
       "\t\t<td>12</td>\n",
       "\t\t<td>2077</td>\n",
       "\t\t<td>-0.6145554092517194</td>\n",
       "\t\t<td>-1.265934070288083</td>\n",
       "\t</tr>\n",
       "\t<tr>\n",
       "\t\t<td>10</td>\n",
       "\t\t<td>1605</td>\n",
       "\t\t<td>-1.3352791350361055</td>\n",
       "\t\t<td>-1.3438813657313495</td>\n",
       "\t</tr>\n",
       "\t<tr>\n",
       "\t\t<td>9</td>\n",
       "\t\t<td>4795</td>\n",
       "\t\t<td>-0.2956144501402382</td>\n",
       "\t\t<td>0.34581484516784333</td>\n",
       "\t</tr>\n",
       "</table></html>"
      ],
      "text/plain": [
       "   id   cnt  r_casual  r_registered\n",
       "0  11  1977 -1.039120     -1.199930\n",
       "1  13  1607 -1.302142     -1.352682\n",
       "2  14  2134 -0.966633     -1.123240\n",
       "3  15  6966  0.905592      1.345929\n",
       "4  17  7421  0.984291      1.608058\n",
       "5  20  2743 -0.664260     -0.832195\n",
       "6  16  5260  0.141376      0.505481\n",
       "7  12  2077 -0.614555     -1.265934\n",
       "8  10  1605 -1.335279     -1.343881\n",
       "9   9  4795 -0.295614      0.345815"
      ]
     },
     "metadata": {},
     "output_type": "display_data"
    },
    {
     "name": "stdout",
     "output_type": "stream",
     "text": [
      "                                                                                          \r"
     ]
    },
    {
     "data": {
      "text/html": [
       "513 rows X 4 columns"
      ],
      "text/plain": [
       "<IPython.core.display.HTML object>"
      ]
     },
     "metadata": {},
     "output_type": "display_data"
    },
    {
     "name": "stdout",
     "output_type": "stream",
     "text": [
      "                                                                                          \r"
     ]
    },
    {
     "data": {
      "text/html": [
       "Total time taken by feature scaling: 22.06 sec"
      ],
      "text/plain": [
       "<IPython.core.display.HTML object>"
      ]
     },
     "metadata": {},
     "output_type": "display_data"
    },
    {
     "name": "stdout",
     "output_type": "stream",
     "text": [
      "                                                                                          \r"
     ]
    },
    {
     "data": {
      "text/html": [
       "\n",
       "scaling Features of pca data ..."
      ],
      "text/plain": [
       "<IPython.core.display.HTML object>"
      ]
     },
     "metadata": {},
     "output_type": "display_data"
    },
    {
     "name": "stdout",
     "output_type": "stream",
     "text": [
      "                                                                                          \r"
     ]
    },
    {
     "data": {
      "text/html": [
       "columns that will be scaled: "
      ],
      "text/plain": [
       "<IPython.core.display.HTML object>"
      ]
     },
     "metadata": {},
     "output_type": "display_data"
    },
    {
     "name": "stdout",
     "output_type": "stream",
     "text": [
      "['instant', 'season', 'yr', 'mnth', 'weekday', 'workingday', 'weathersit', 'temp', 'atemp', 'hum', 'windspeed', 'casual', 'registered']\n",
      "                                                                                          \r"
     ]
    },
    {
     "data": {
      "text/html": [
       "Dataset sample after scaling:"
      ],
      "text/plain": [
       "<IPython.core.display.HTML object>"
      ]
     },
     "metadata": {},
     "output_type": "display_data"
    },
    {
     "data": {
      "text/html": [
       "<style type=\"text/css\">\n",
       "\ttable {border:ridge 5px;}\n",
       "\ttable td {border:inset 1px;}\n",
       "\ttable tr#HeaderRow {background-color:grey; color:white;}</style>\n",
       "<html><table>\n",
       "\t<tr id=\"HeaderRow\">\n",
       "\t\t<th>cnt</th>\n",
       "\t\t<th>holiday</th>\n",
       "\t\t<th>id</th>\n",
       "\t\t<th>instant</th>\n",
       "\t\t<th>season</th>\n",
       "\t\t<th>yr</th>\n",
       "\t\t<th>mnth</th>\n",
       "\t\t<th>weekday</th>\n",
       "\t\t<th>workingday</th>\n",
       "\t\t<th>weathersit</th>\n",
       "\t\t<th>temp</th>\n",
       "\t\t<th>atemp</th>\n",
       "\t\t<th>hum</th>\n",
       "\t\t<th>windspeed</th>\n",
       "\t\t<th>casual</th>\n",
       "\t\t<th>registered</th>\n",
       "\t</tr>\n",
       "\t<tr>\n",
       "\t\t<td>1605</td>\n",
       "\t\t<td>0</td>\n",
       "\t\t<td>10</td>\n",
       "\t\t<td>-1.470823981201629</td>\n",
       "\t\t<td>-1.3501353848375495</td>\n",
       "\t\t<td>-0.9412913532826627</td>\n",
       "\t\t<td>-1.3126405802267411</td>\n",
       "\t\t<td>-0.009348108095416379</td>\n",
       "\t\t<td>0.5465658031885915</td>\n",
       "\t\t<td>1.0585715534396725</td>\n",
       "\t\t<td>-1.900579241190248</td>\n",
       "\t\t<td>-1.9615476804922305</td>\n",
       "\t\t<td>-0.97912089456132</td>\n",
       "\t\t<td>0.03213503763314097</td>\n",
       "\t\t<td>-1.335279135036105</td>\n",
       "\t\t<td>-1.3438813657313493</td>\n",
       "\t</tr>\n",
       "\t<tr>\n",
       "\t\t<td>1977</td>\n",
       "\t\t<td>0</td>\n",
       "\t\t<td>11</td>\n",
       "\t\t<td>0.13914519788217805</td>\n",
       "\t\t<td>-1.3501353848375495</td>\n",
       "\t\t<td>1.062370324036864</td>\n",
       "\t\t<td>-1.5979730453353507</td>\n",
       "\t\t<td>-1.6078745924116122</td>\n",
       "\t\t<td>-1.8296058666058783</td>\n",
       "\t\t<td>1.0585715534396725</td>\n",
       "\t\t<td>-1.7513686815207257</td>\n",
       "\t\t<td>-1.8525384993814162</td>\n",
       "\t\t<td>1.1726583899721112</td>\n",
       "\t\t<td>0.17923569173480167</td>\n",
       "\t\t<td>-1.0391196730040155</td>\n",
       "\t\t<td>-1.1999303120498332</td>\n",
       "\t</tr>\n",
       "\t<tr>\n",
       "\t\t<td>1650</td>\n",
       "\t\t<td>0</td>\n",
       "\t\t<td>27</td>\n",
       "\t\t<td>-1.5682572744603034</td>\n",
       "\t\t<td>-1.3501353848375495</td>\n",
       "\t\t<td>-0.9412913532826627</td>\n",
       "\t\t<td>-1.5979730453353507</td>\n",
       "\t\t<td>-0.009348108095416379</td>\n",
       "\t\t<td>0.5465658031885915</td>\n",
       "\t\t<td>1.0585715534396725</td>\n",
       "\t\t<td>-1.053286994664802</td>\n",
       "\t\t<td>-1.0263572665533538</td>\n",
       "\t\t<td>0.783575536528113</td>\n",
       "\t\t<td>0.29745835836581486</td>\n",
       "\t\t<td>-1.2835030053102152</td>\n",
       "\t\t<td>-1.331309221305016</td>\n",
       "\t</tr>\n",
       "\t<tr>\n",
       "\t\t<td>6966</td>\n",
       "\t\t<td>0</td>\n",
       "\t\t<td>15</td>\n",
       "\t\t<td>0.9882067534220533</td>\n",
       "\t\t<td>0.4212698643227139</td>\n",
       "\t\t<td>1.062370324036864</td>\n",
       "\t\t<td>0.11402174531630585</td>\n",
       "\t\t<td>-1.0750324309728803</td>\n",
       "\t\t<td>0.5465658031885915</td>\n",
       "\t\t<td>-0.7515858029421676</td>\n",
       "\t\t<td>1.3664951642099892</td>\n",
       "\t\t<td>1.3495235303013962</td>\n",
       "\t\t<td>0.4440211437626544</td>\n",
       "\t\t<td>-0.651074556507325</td>\n",
       "\t\t<td>0.9055917595004052</td>\n",
       "\t\t<td>1.3459289342826555</td>\n",
       "\t</tr>\n",
       "\t<tr>\n",
       "\t\t<td>1607</td>\n",
       "\t\t<td>0</td>\n",
       "\t\t<td>13</td>\n",
       "\t\t<td>-0.1438753206311137</td>\n",
       "\t\t<td>1.3069724889028456</td>\n",
       "\t\t<td>-0.9412913532826627</td>\n",
       "\t\t<td>1.2553516057507434</td>\n",
       "\t\t<td>-0.5421902695341483</td>\n",
       "\t\t<td>0.5465658031885915</td>\n",
       "\t\t<td>2.8687289098215127</td>\n",
       "\t\t<td>-0.3830964904638479</td>\n",
       "\t\t<td>-0.27843063482549096</td>\n",
       "\t\t<td>2.3593000656901264</td>\n",
       "\t\t<td>-0.922023636119894</td>\n",
       "\t\t<td>-1.3021424120115357</td>\n",
       "\t\t<td>-1.3526818668297826</td>\n",
       "\t</tr>\n",
       "\t<tr>\n",
       "\t\t<td>3163</td>\n",
       "\t\t<td>0</td>\n",
       "\t\t<td>21</td>\n",
       "\t\t<td>0.12986583661944717</td>\n",
       "\t\t<td>-1.3501353848375495</td>\n",
       "\t\t<td>1.062370324036864</td>\n",
       "\t\t<td>-1.5979730453353507</td>\n",
       "\t\t<td>1.0563362147820474</td>\n",
       "\t\t<td>0.5465658031885915</td>\n",
       "\t\t<td>1.0585715534396725</td>\n",
       "\t\t<td>-1.4552839399605375</td>\n",
       "\t\t<td>-1.4963459795031016</td>\n",
       "\t\t<td>-1.2987682579518753</td>\n",
       "\t\t<td>0.2216263978709595</td>\n",
       "\t\t<td>-1.2068743333158984</td>\n",
       "\t\t<td>-0.4034849626416201</td>\n",
       "\t</tr>\n",
       "\t<tr>\n",
       "\t\t<td>4795</td>\n",
       "\t\t<td>0</td>\n",
       "\t\t<td>9</td>\n",
       "\t\t<td>-0.42689583914440543</td>\n",
       "\t\t<td>0.4212698643227139</td>\n",
       "\t\t<td>-0.9412913532826627</td>\n",
       "\t\t<td>0.6846866755335247</td>\n",
       "\t\t<td>0.5234940533433156</td>\n",
       "\t\t<td>0.5465658031885915</td>\n",
       "\t\t<td>1.0585715534396725</td>\n",
       "\t\t<td>0.7563775623921289</td>\n",
       "\t\t<td>0.5301254145480759</td>\n",
       "\t\t<td>1.9280619897691917</td>\n",
       "\t\t<td>-0.7948923827880302</td>\n",
       "\t\t<td>-0.29561445014023807</td>\n",
       "\t\t<td>0.3458148451678433</td>\n",
       "\t</tr>\n",
       "\t<tr>\n",
       "\t\t<td>7421</td>\n",
       "\t\t<td>0</td>\n",
       "\t\t<td>17</td>\n",
       "\t\t<td>0.8026195281674358</td>\n",
       "\t\t<td>-0.4644327602574178</td>\n",
       "\t\t<td>1.062370324036864</td>\n",
       "\t\t<td>-0.17131071979230356</td>\n",
       "\t\t<td>-0.009348108095416379</td>\n",
       "\t\t<td>0.5465658031885915</td>\n",
       "\t\t<td>-0.7515858029421676</td>\n",
       "\t\t<td>0.9044199331722228</td>\n",
       "\t\t<td>0.8708223342395472</td>\n",
       "\t\t<td>-0.3560001830414236</td>\n",
       "\t\t<td>2.135869181485393</td>\n",
       "\t\t<td>0.9842914766837576</td>\n",
       "\t\t<td>1.6080581455717045</td>\n",
       "\t</tr>\n",
       "\t<tr>\n",
       "\t\t<td>5260</td>\n",
       "\t\t<td>0</td>\n",
       "\t\t<td>16</td>\n",
       "\t\t<td>0.7051862349087615</td>\n",
       "\t\t<td>-0.4644327602574178</td>\n",
       "\t\t<td>1.062370324036864</td>\n",
       "\t\t<td>-0.456643184900913</td>\n",
       "\t\t<td>-0.009348108095416379</td>\n",
       "\t\t<td>0.5465658031885915</td>\n",
       "\t\t<td>1.0585715534396725</td>\n",
       "\t\t<td>0.7204920917150339</td>\n",
       "\t\t<td>0.7100114951822684</td>\n",
       "\t\t<td>1.0180059677899624</td>\n",
       "\t\t<td>-1.150759091594946</td>\n",
       "\t\t<td>0.14137608474627178</td>\n",
       "\t\t<td>0.5054810793822759</td>\n",
       "\t</tr>\n",
       "\t<tr>\n",
       "\t\t<td>2999</td>\n",
       "\t\t<td>0</td>\n",
       "\t\t<td>24</td>\n",
       "\t\t<td>0.03243254336077296</td>\n",
       "\t\t<td>-1.3501353848375495</td>\n",
       "\t\t<td>-0.9412913532826627</td>\n",
       "\t\t<td>1.540684070859353</td>\n",
       "\t\t<td>1.0563362147820474</td>\n",
       "\t\t<td>0.5465658031885915</td>\n",
       "\t\t<td>-0.7515858029421676</td>\n",
       "\t\t<td>-0.9483491788969338</td>\n",
       "\t\t<td>-0.9026472869880676</td>\n",
       "\t\t<td>0.03360372208574692</td>\n",
       "\t\t<td>-0.7102744308221519</td>\n",
       "\t\t<td>-0.42816134223851593</td>\n",
       "\t\t<td>-0.7429328621526186</td>\n",
       "\t</tr>\n",
       "</table></html>"
      ],
      "text/plain": [
       "    cnt  holiday  id   instant    season        yr      mnth   weekday  workingday  weathersit      temp     atemp       hum  windspeed    casual  registered\n",
       "0  1605        0  10 -1.470824 -1.350135 -0.941291 -1.312641 -0.009348    0.546566    1.058572 -1.900579 -1.961548 -0.979121   0.032135 -1.335279   -1.343881\n",
       "1  1977        0  11  0.139145 -1.350135  1.062370 -1.597973 -1.607875   -1.829606    1.058572 -1.751369 -1.852538  1.172658   0.179236 -1.039120   -1.199930\n",
       "2  1650        0  27 -1.568257 -1.350135 -0.941291 -1.597973 -0.009348    0.546566    1.058572 -1.053287 -1.026357  0.783576   0.297458 -1.283503   -1.331309\n",
       "3  6966        0  15  0.988207  0.421270  1.062370  0.114022 -1.075032    0.546566   -0.751586  1.366495  1.349524  0.444021  -0.651075  0.905592    1.345929\n",
       "4  1607        0  13 -0.143875  1.306972 -0.941291  1.255352 -0.542190    0.546566    2.868729 -0.383096 -0.278431  2.359300  -0.922024 -1.302142   -1.352682\n",
       "5  3163        0  21  0.129866 -1.350135  1.062370 -1.597973  1.056336    0.546566    1.058572 -1.455284 -1.496346 -1.298768   0.221626 -1.206874   -0.403485\n",
       "6  4795        0   9 -0.426896  0.421270 -0.941291  0.684687  0.523494    0.546566    1.058572  0.756378  0.530125  1.928062  -0.794892 -0.295614    0.345815\n",
       "7  7421        0  17  0.802620 -0.464433  1.062370 -0.171311 -0.009348    0.546566   -0.751586  0.904420  0.870822 -0.356000   2.135869  0.984291    1.608058\n",
       "8  5260        0  16  0.705186 -0.464433  1.062370 -0.456643 -0.009348    0.546566    1.058572  0.720492  0.710011  1.018006  -1.150759  0.141376    0.505481\n",
       "9  2999        0  24  0.032433 -1.350135 -0.941291  1.540684  1.056336    0.546566   -0.751586 -0.948349 -0.902647  0.033604  -0.710274 -0.428161   -0.742933"
      ]
     },
     "metadata": {},
     "output_type": "display_data"
    },
    {
     "name": "stdout",
     "output_type": "stream",
     "text": [
      "                                                                                          \r"
     ]
    },
    {
     "data": {
      "text/html": [
       "513 rows X 16 columns"
      ],
      "text/plain": [
       "<IPython.core.display.HTML object>"
      ]
     },
     "metadata": {},
     "output_type": "display_data"
    },
    {
     "name": "stdout",
     "output_type": "stream",
     "text": [
      "                                                                                          \r"
     ]
    },
    {
     "data": {
      "text/html": [
       "Total time taken by feature scaling: 32.89 sec"
      ],
      "text/plain": [
       "<IPython.core.display.HTML object>"
      ]
     },
     "metadata": {},
     "output_type": "display_data"
    },
    {
     "name": "stdout",
     "output_type": "stream",
     "text": [
      "                                                                                          \r"
     ]
    },
    {
     "data": {
      "text/html": [
       "\n",
       "Dimension Reduction using pca ..."
      ],
      "text/plain": [
       "<IPython.core.display.HTML object>"
      ]
     },
     "metadata": {},
     "output_type": "display_data"
    },
    {
     "name": "stdout",
     "output_type": "stream",
     "text": [
      "                                                                                          \r"
     ]
    },
    {
     "data": {
      "text/html": [
       "PCA columns:"
      ],
      "text/plain": [
       "<IPython.core.display.HTML object>"
      ]
     },
     "metadata": {},
     "output_type": "display_data"
    },
    {
     "name": "stdout",
     "output_type": "stream",
     "text": [
      "['col_0', 'col_1', 'col_2', 'col_3', 'col_4', 'col_5', 'col_6', 'col_7']\n",
      "                                                                                          \r"
     ]
    },
    {
     "data": {
      "text/html": [
       "Total time taken by PCA: 5.59 sec  "
      ],
      "text/plain": [
       "<IPython.core.display.HTML object>"
      ]
     },
     "metadata": {},
     "output_type": "display_data"
    },
    {
     "name": "stdout",
     "output_type": "stream",
     "text": [
      "                                                                                          \r"
     ]
    },
    {
     "data": {
      "text/html": [
       "\n",
       "            <style>\n",
       "                .custom-div {\n",
       "                    background-color: lightgray;\n",
       "                    color: #000000;\n",
       "                    padding: 10px;\n",
       "                    border-radius: 8px;\n",
       "                    box-shadow: 0 3px 4px rgba(0 -  0 -  0 -  0.2);\n",
       "                    margin-bottom: 10px;\n",
       "                    text-align: center;\n",
       "                }\n",
       "            </style>\n",
       "        <br><div class=\"custom-div\"><h3><span style=\"color: green;\">1. Feature Exploration -> 2. Feature Engineering -> 3. Data Preparation -></span> 4. Model Training & Evaluation<center></h3></center></div>"
      ],
      "text/plain": [
       "<IPython.core.display.HTML object>"
      ]
     },
     "metadata": {},
     "output_type": "display_data"
    },
    {
     "name": "stdout",
     "output_type": "stream",
     "text": [
      "                                                                                          \r"
     ]
    },
    {
     "data": {
      "text/html": [
       "Model Training started ..."
      ],
      "text/plain": [
       "<IPython.core.display.HTML object>"
      ]
     },
     "metadata": {},
     "output_type": "display_data"
    },
    {
     "name": "stdout",
     "output_type": "stream",
     "text": [
      "                                                                                          \r"
     ]
    },
    {
     "data": {
      "text/html": [
       "\n",
       "Hyperparameters used for model training: "
      ],
      "text/plain": [
       "<IPython.core.display.HTML object>"
      ]
     },
     "metadata": {},
     "output_type": "display_data"
    },
    {
     "name": "stdout",
     "output_type": "stream",
     "text": [
      "response_column : cnt                                                                                                                                 \n",
      "name : decision_forest\n",
      "tree_type : Regression\n",
      "min_impurity : (0.0, 0.2, 0.3)\n",
      "max_depth : (5, 4, 6, 7)\n",
      "min_node_size : (1, 3, 4)\n",
      "num_trees : (-1, 30, 40)\n",
      "seed : 42\n",
      "Total number of models for decision_forest : 108\n",
      "--------------------------------------------------------------------------------------------------------------------------------------------------------------------------------------------------------\n",
      "\n",
      "response_column : cnt\n",
      "name : xgboost\n",
      "model_type : Regression\n",
      "column_sampling : (1, 0.6)\n",
      "min_impurity : (0.0, 0.2, 0.3)\n",
      "lambda1 : (0.01, 0.1, 1, 10)\n",
      "shrinkage_factor : (0.5, 0.01, 0.1, 0.2)\n",
      "max_depth : (5, 4, 6, 7)\n",
      "min_node_size : (1, 3, 4)\n",
      "iter_num : (10, 30, 40)\n",
      "seed : 42\n",
      "Total number of models for xgboost : 3456\n",
      "--------------------------------------------------------------------------------------------------------------------------------------------------------------------------------------------------------\n",
      "\n",
      "response_column : cnt\n",
      "name : knn\n",
      "model_type : Regression\n",
      "k : (3, 5, 6, 8, 10, 12)\n",
      "id_column : id\n",
      "voting_weight : 1.0\n",
      "Total number of models for knn : 6\n",
      "--------------------------------------------------------------------------------------------------------------------------------------------------------------------------------------------------------\n",
      "\n",
      "response_column : cnt\n",
      "name : svm\n",
      "model_type : regression\n",
      "lambda1 : (0.001, 0.02, 0.1)\n",
      "alpha : (0.15, 0.85)\n",
      "tolerance : (0.001, 0.01)\n",
      "learning_rate : ('Invtime', 'Adaptive', 'constant')\n",
      "initial_eta : (0.05, 0.1)\n",
      "momentum : (0.65, 0.8, 0.95)\n",
      "nesterov : True\n",
      "intercept : True\n",
      "iter_num_no_change : (5, 10, 50)\n",
      "local_sgd_iterations  : (10, 20)\n",
      "iter_max : (300, 400)\n",
      "batch_size : (10, 100, 150)\n",
      "Total number of models for svm : 7776\n",
      "--------------------------------------------------------------------------------------------------------------------------------------------------------------------------------------------------------\n",
      "\n",
      "response_column : cnt\n",
      "name : glm\n",
      "family : GAUSSIAN\n",
      "lambda1 : (0.001, 0.02, 0.1)\n",
      "alpha : (0.15, 0.85)\n",
      "learning_rate : ('invtime', 'constant', 'adaptive')\n",
      "initial_eta : (0.05, 0.1)\n",
      "momentum : (0.65, 0.8, 0.95)\n",
      "iter_num_no_change : (5, 10, 50)\n",
      "iter_max : (300, 400)\n",
      "batch_size : (10, 100, 150)\n",
      "Total number of models for glm : 1944\n",
      "--------------------------------------------------------------------------------------------------------------------------------------------------------------------------------------------------------\n",
      "\n",
      "                                                                                          \r"
     ]
    },
    {
     "data": {
      "text/html": [
       "\n",
       "Performing hyperparameter tuning ..."
      ],
      "text/plain": [
       "<IPython.core.display.HTML object>"
      ]
     },
     "metadata": {},
     "output_type": "display_data"
    },
    {
     "name": "stdout",
     "output_type": "stream",
     "text": [
      "                                                                                          \r"
     ]
    },
    {
     "data": {
      "text/html": [
       "decision_forest"
      ],
      "text/plain": [
       "<IPython.core.display.HTML object>"
      ]
     },
     "metadata": {},
     "output_type": "display_data"
    },
    {
     "name": "stdout",
     "output_type": "stream",
     "text": [
      "                                                                                                                                                                                                        \r"
     ]
    },
    {
     "data": {
      "text/html": [
       "----------------------------------------------------------------------------------------------------"
      ],
      "text/plain": [
       "<IPython.core.display.HTML object>"
      ]
     },
     "metadata": {},
     "output_type": "display_data"
    },
    {
     "name": "stdout",
     "output_type": "stream",
     "text": [
      "                                                                                          \r"
     ]
    },
    {
     "data": {
      "text/html": [
       "xgboost"
      ],
      "text/plain": [
       "<IPython.core.display.HTML object>"
      ]
     },
     "metadata": {},
     "output_type": "display_data"
    },
    {
     "name": "stdout",
     "output_type": "stream",
     "text": [
      "                                                                                                                                                                                                        \r"
     ]
    },
    {
     "data": {
      "text/html": [
       "----------------------------------------------------------------------------------------------------"
      ],
      "text/plain": [
       "<IPython.core.display.HTML object>"
      ]
     },
     "metadata": {},
     "output_type": "display_data"
    },
    {
     "name": "stdout",
     "output_type": "stream",
     "text": [
      "                                                                                          \r"
     ]
    },
    {
     "data": {
      "text/html": [
       "knn"
      ],
      "text/plain": [
       "<IPython.core.display.HTML object>"
      ]
     },
     "metadata": {},
     "output_type": "display_data"
    },
    {
     "name": "stdout",
     "output_type": "stream",
     "text": [
      "                                                                                                                                                                                                        \r"
     ]
    },
    {
     "data": {
      "text/html": [
       "----------------------------------------------------------------------------------------------------"
      ],
      "text/plain": [
       "<IPython.core.display.HTML object>"
      ]
     },
     "metadata": {},
     "output_type": "display_data"
    },
    {
     "name": "stdout",
     "output_type": "stream",
     "text": [
      "                                                                                          \r"
     ]
    },
    {
     "data": {
      "text/html": [
       "svm"
      ],
      "text/plain": [
       "<IPython.core.display.HTML object>"
      ]
     },
     "metadata": {},
     "output_type": "display_data"
    },
    {
     "name": "stdout",
     "output_type": "stream",
     "text": [
      "                                                                                                                                                                                                        \r"
     ]
    },
    {
     "data": {
      "text/html": [
       "----------------------------------------------------------------------------------------------------"
      ],
      "text/plain": [
       "<IPython.core.display.HTML object>"
      ]
     },
     "metadata": {},
     "output_type": "display_data"
    },
    {
     "name": "stdout",
     "output_type": "stream",
     "text": [
      "                                                                                          \r"
     ]
    },
    {
     "data": {
      "text/html": [
       "glm"
      ],
      "text/plain": [
       "<IPython.core.display.HTML object>"
      ]
     },
     "metadata": {},
     "output_type": "display_data"
    },
    {
     "name": "stdout",
     "output_type": "stream",
     "text": [
      "                                                                                                                                                                                                        \r"
     ]
    },
    {
     "data": {
      "text/html": [
       "----------------------------------------------------------------------------------------------------"
      ],
      "text/plain": [
       "<IPython.core.display.HTML object>"
      ]
     },
     "metadata": {},
     "output_type": "display_data"
    },
    {
     "name": "stdout",
     "output_type": "stream",
     "text": [
      "                                                                                          \r"
     ]
    },
    {
     "data": {
      "text/html": [
       "Leaderboard"
      ],
      "text/plain": [
       "<IPython.core.display.HTML object>"
      ]
     },
     "metadata": {},
     "output_type": "display_data"
    },
    {
     "data": {
      "text/html": [
       "<div>\n",
       "<style scoped>\n",
       "    .dataframe tbody tr th:only-of-type {\n",
       "        vertical-align: middle;\n",
       "    }\n",
       "\n",
       "    .dataframe tbody tr th {\n",
       "        vertical-align: top;\n",
       "    }\n",
       "\n",
       "    .dataframe thead th {\n",
       "        text-align: right;\n",
       "    }\n",
       "</style>\n",
       "<table border=\"1\" class=\"dataframe\">\n",
       "  <thead>\n",
       "    <tr style=\"text-align: right;\">\n",
       "      <th></th>\n",
       "      <th>RANK</th>\n",
       "      <th>MODEL_ID</th>\n",
       "      <th>FEATURE_SELECTION</th>\n",
       "      <th>MAE</th>\n",
       "      <th>MSE</th>\n",
       "      <th>MSLE</th>\n",
       "      <th>MAPE</th>\n",
       "      <th>MPE</th>\n",
       "      <th>RMSE</th>\n",
       "      <th>RMSLE</th>\n",
       "      <th>ME</th>\n",
       "      <th>R2</th>\n",
       "      <th>EV</th>\n",
       "      <th>MPD</th>\n",
       "      <th>MGD</th>\n",
       "      <th>ADJUSTED_R2</th>\n",
       "    </tr>\n",
       "  </thead>\n",
       "  <tbody>\n",
       "    <tr>\n",
       "      <th>0</th>\n",
       "      <td>1</td>\n",
       "      <td>GLM_1</td>\n",
       "      <td>rfe</td>\n",
       "      <td>0.424202</td>\n",
       "      <td>2.653069e-01</td>\n",
       "      <td>9.833913e-08</td>\n",
       "      <td>0.016126</td>\n",
       "      <td>-0.008941</td>\n",
       "      <td>0.515079</td>\n",
       "      <td>0.000314</td>\n",
       "      <td>1.060263</td>\n",
       "      <td>1.000000</td>\n",
       "      <td>1.000000</td>\n",
       "      <td>0.000110</td>\n",
       "      <td>9.858096e-08</td>\n",
       "      <td>1.000000</td>\n",
       "    </tr>\n",
       "    <tr>\n",
       "      <th>1</th>\n",
       "      <td>2</td>\n",
       "      <td>KNN_1</td>\n",
       "      <td>rfe</td>\n",
       "      <td>63.019468</td>\n",
       "      <td>8.668818e+03</td>\n",
       "      <td>4.502509e-04</td>\n",
       "      <td>1.531550</td>\n",
       "      <td>0.081472</td>\n",
       "      <td>93.106489</td>\n",
       "      <td>0.021219</td>\n",
       "      <td>428.711653</td>\n",
       "      <td>0.997747</td>\n",
       "      <td>0.997844</td>\n",
       "      <td>1.737173</td>\n",
       "      <td>4.507162e-04</td>\n",
       "      <td>0.997738</td>\n",
       "    </tr>\n",
       "    <tr>\n",
       "      <th>2</th>\n",
       "      <td>3</td>\n",
       "      <td>DECISIONFOREST_0</td>\n",
       "      <td>lasso</td>\n",
       "      <td>282.892897</td>\n",
       "      <td>1.380505e+05</td>\n",
       "      <td>4.854032e-02</td>\n",
       "      <td>8.236190</td>\n",
       "      <td>0.993536</td>\n",
       "      <td>371.551432</td>\n",
       "      <td>0.220319</td>\n",
       "      <td>1055.596774</td>\n",
       "      <td>0.964113</td>\n",
       "      <td>0.964343</td>\n",
       "      <td>54.312940</td>\n",
       "      <td>8.506177e-02</td>\n",
       "      <td>0.963902</td>\n",
       "    </tr>\n",
       "    <tr>\n",
       "      <th>3</th>\n",
       "      <td>4</td>\n",
       "      <td>DECISIONFOREST_2</td>\n",
       "      <td>pca</td>\n",
       "      <td>529.427848</td>\n",
       "      <td>5.318989e+05</td>\n",
       "      <td>1.431576e-01</td>\n",
       "      <td>17.922541</td>\n",
       "      <td>-6.248622</td>\n",
       "      <td>729.314012</td>\n",
       "      <td>0.378362</td>\n",
       "      <td>2756.888889</td>\n",
       "      <td>0.861731</td>\n",
       "      <td>0.864110</td>\n",
       "      <td>160.719218</td>\n",
       "      <td>3.632554e-01</td>\n",
       "      <td>0.859537</td>\n",
       "    </tr>\n",
       "    <tr>\n",
       "      <th>4</th>\n",
       "      <td>5</td>\n",
       "      <td>XGBOOST_2</td>\n",
       "      <td>pca</td>\n",
       "      <td>735.305782</td>\n",
       "      <td>7.753352e+05</td>\n",
       "      <td>6.083180e-02</td>\n",
       "      <td>19.216930</td>\n",
       "      <td>9.778043</td>\n",
       "      <td>880.531184</td>\n",
       "      <td>0.246641</td>\n",
       "      <td>2549.408013</td>\n",
       "      <td>0.798450</td>\n",
       "      <td>0.900685</td>\n",
       "      <td>181.728396</td>\n",
       "      <td>6.015135e-02</td>\n",
       "      <td>0.795250</td>\n",
       "    </tr>\n",
       "    <tr>\n",
       "      <th>5</th>\n",
       "      <td>6</td>\n",
       "      <td>XGBOOST_1</td>\n",
       "      <td>rfe</td>\n",
       "      <td>906.099625</td>\n",
       "      <td>1.171885e+06</td>\n",
       "      <td>5.261207e-02</td>\n",
       "      <td>19.090117</td>\n",
       "      <td>18.971700</td>\n",
       "      <td>1082.536385</td>\n",
       "      <td>0.229373</td>\n",
       "      <td>2876.242912</td>\n",
       "      <td>0.695365</td>\n",
       "      <td>0.908545</td>\n",
       "      <td>243.069568</td>\n",
       "      <td>5.783523e-02</td>\n",
       "      <td>0.694171</td>\n",
       "    </tr>\n",
       "    <tr>\n",
       "      <th>6</th>\n",
       "      <td>7</td>\n",
       "      <td>DECISIONFOREST_1</td>\n",
       "      <td>rfe</td>\n",
       "      <td>852.730029</td>\n",
       "      <td>1.257471e+06</td>\n",
       "      <td>1.747342e-01</td>\n",
       "      <td>37.324755</td>\n",
       "      <td>-24.743560</td>\n",
       "      <td>1121.370358</td>\n",
       "      <td>0.418012</td>\n",
       "      <td>2700.208282</td>\n",
       "      <td>0.673117</td>\n",
       "      <td>0.673117</td>\n",
       "      <td>361.760782</td>\n",
       "      <td>1.313313e-01</td>\n",
       "      <td>0.671835</td>\n",
       "    </tr>\n",
       "    <tr>\n",
       "      <th>7</th>\n",
       "      <td>8</td>\n",
       "      <td>XGBOOST_0</td>\n",
       "      <td>lasso</td>\n",
       "      <td>963.859454</td>\n",
       "      <td>1.480416e+06</td>\n",
       "      <td>1.235468e-01</td>\n",
       "      <td>30.166077</td>\n",
       "      <td>-11.618318</td>\n",
       "      <td>1216.723605</td>\n",
       "      <td>0.351492</td>\n",
       "      <td>3208.507938</td>\n",
       "      <td>0.615162</td>\n",
       "      <td>0.620211</td>\n",
       "      <td>362.680921</td>\n",
       "      <td>1.114672e-01</td>\n",
       "      <td>0.612894</td>\n",
       "    </tr>\n",
       "  </tbody>\n",
       "</table>\n",
       "</div>"
      ],
      "text/plain": [
       "   RANK          MODEL_ID FEATURE_SELECTION         MAE           MSE  \\\n",
       "0     1             GLM_1               rfe    0.424202  2.653069e-01   \n",
       "1     2             KNN_1               rfe   63.019468  8.668818e+03   \n",
       "2     3  DECISIONFOREST_0             lasso  282.892897  1.380505e+05   \n",
       "3     4  DECISIONFOREST_2               pca  529.427848  5.318989e+05   \n",
       "4     5         XGBOOST_2               pca  735.305782  7.753352e+05   \n",
       "5     6         XGBOOST_1               rfe  906.099625  1.171885e+06   \n",
       "6     7  DECISIONFOREST_1               rfe  852.730029  1.257471e+06   \n",
       "7     8         XGBOOST_0             lasso  963.859454  1.480416e+06   \n",
       "\n",
       "           MSLE       MAPE        MPE         RMSE     RMSLE           ME  \\\n",
       "0  9.833913e-08   0.016126  -0.008941     0.515079  0.000314     1.060263   \n",
       "1  4.502509e-04   1.531550   0.081472    93.106489  0.021219   428.711653   \n",
       "2  4.854032e-02   8.236190   0.993536   371.551432  0.220319  1055.596774   \n",
       "3  1.431576e-01  17.922541  -6.248622   729.314012  0.378362  2756.888889   \n",
       "4  6.083180e-02  19.216930   9.778043   880.531184  0.246641  2549.408013   \n",
       "5  5.261207e-02  19.090117  18.971700  1082.536385  0.229373  2876.242912   \n",
       "6  1.747342e-01  37.324755 -24.743560  1121.370358  0.418012  2700.208282   \n",
       "7  1.235468e-01  30.166077 -11.618318  1216.723605  0.351492  3208.507938   \n",
       "\n",
       "         R2        EV         MPD           MGD  ADJUSTED_R2  \n",
       "0  1.000000  1.000000    0.000110  9.858096e-08     1.000000  \n",
       "1  0.997747  0.997844    1.737173  4.507162e-04     0.997738  \n",
       "2  0.964113  0.964343   54.312940  8.506177e-02     0.963902  \n",
       "3  0.861731  0.864110  160.719218  3.632554e-01     0.859537  \n",
       "4  0.798450  0.900685  181.728396  6.015135e-02     0.795250  \n",
       "5  0.695365  0.908545  243.069568  5.783523e-02     0.694171  \n",
       "6  0.673117  0.673117  361.760782  1.313313e-01     0.671835  \n",
       "7  0.615162  0.620211  362.680921  1.114672e-01     0.612894  "
      ]
     },
     "metadata": {},
     "output_type": "display_data"
    },
    {
     "name": "stdout",
     "output_type": "stream",
     "text": [
      "                                                                                          \r"
     ]
    },
    {
     "data": {
      "text/html": [
       "8 rows X 16 columns"
      ],
      "text/plain": [
       "<IPython.core.display.HTML object>"
      ]
     },
     "metadata": {},
     "output_type": "display_data"
    },
    {
     "name": "stdout",
     "output_type": "stream",
     "text": [
      "                                                                                          \r"
     ]
    },
    {
     "data": {
      "text/html": [
       "\n",
       "            <style>\n",
       "                .custom-div {\n",
       "                    background-color: lightgray;\n",
       "                    color: #000000;\n",
       "                    padding: 10px;\n",
       "                    border-radius: 8px;\n",
       "                    box-shadow: 0 3px 4px rgba(0 -  0 -  0 -  0.2);\n",
       "                    margin-bottom: 10px;\n",
       "                    text-align: center;\n",
       "                }\n",
       "            </style>\n",
       "        <br><div class=\"custom-div\"><h3><span style=\"color: green;\">1. Feature Exploration -> 2. Feature Engineering -> 3. Data Preparation -> 4. Model Training & Evaluation</span><center></h3></center></div>"
      ],
      "text/plain": [
       "<IPython.core.display.HTML object>"
      ]
     },
     "metadata": {},
     "output_type": "display_data"
    },
    {
     "name": "stdout",
     "output_type": "stream",
     "text": [
      "Completed: ｜⫿⫿⫿⫿⫿⫿⫿⫿⫿⫿⫿⫿⫿⫿⫿⫿⫿⫿⫿⫿⫿⫿⫿⫿⫿⫿⫿⫿⫿⫿⫿⫿⫿⫿⫿⫿⫿⫿⫿⫿⫿⫿⫿⫿⫿⫿⫿⫿⫿⫿⫿⫿⫿⫿⫿⫿⫿⫿⫿⫿｜ 100% - 18/18    \r"
     ]
    }
   ],
   "source": [
    "# Fitting train data\n",
    "aml.fit(bike_df_train, bike_df_train.cnt)"
   ]
  },
  {
   "cell_type": "markdown",
   "id": "23a04eb1-68e6-48b7-95aa-442f434809da",
   "metadata": {},
   "source": [
    "## <b><span style='color:#F1A424'>| 3.</span> Leaderboard : </b>"
   ]
  },
  {
   "cell_type": "code",
   "execution_count": 18,
   "id": "77de1099-6122-4f8a-8e7f-dd67e5b4ced4",
   "metadata": {},
   "outputs": [
    {
     "data": {
      "text/html": [
       "<div>\n",
       "<style scoped>\n",
       "    .dataframe tbody tr th:only-of-type {\n",
       "        vertical-align: middle;\n",
       "    }\n",
       "\n",
       "    .dataframe tbody tr th {\n",
       "        vertical-align: top;\n",
       "    }\n",
       "\n",
       "    .dataframe thead th {\n",
       "        text-align: right;\n",
       "    }\n",
       "</style>\n",
       "<table border=\"1\" class=\"dataframe\">\n",
       "  <thead>\n",
       "    <tr style=\"text-align: right;\">\n",
       "      <th></th>\n",
       "      <th>RANK</th>\n",
       "      <th>MODEL_ID</th>\n",
       "      <th>FEATURE_SELECTION</th>\n",
       "      <th>MAE</th>\n",
       "      <th>MSE</th>\n",
       "      <th>MSLE</th>\n",
       "      <th>MAPE</th>\n",
       "      <th>MPE</th>\n",
       "      <th>RMSE</th>\n",
       "      <th>RMSLE</th>\n",
       "      <th>ME</th>\n",
       "      <th>R2</th>\n",
       "      <th>EV</th>\n",
       "      <th>MPD</th>\n",
       "      <th>MGD</th>\n",
       "      <th>ADJUSTED_R2</th>\n",
       "    </tr>\n",
       "  </thead>\n",
       "  <tbody>\n",
       "    <tr>\n",
       "      <th>0</th>\n",
       "      <td>1</td>\n",
       "      <td>GLM_1</td>\n",
       "      <td>rfe</td>\n",
       "      <td>0.424202</td>\n",
       "      <td>2.653069e-01</td>\n",
       "      <td>9.833913e-08</td>\n",
       "      <td>0.016126</td>\n",
       "      <td>-0.008941</td>\n",
       "      <td>0.515079</td>\n",
       "      <td>0.000314</td>\n",
       "      <td>1.060263</td>\n",
       "      <td>1.000000</td>\n",
       "      <td>1.000000</td>\n",
       "      <td>0.000110</td>\n",
       "      <td>9.858096e-08</td>\n",
       "      <td>1.000000</td>\n",
       "    </tr>\n",
       "    <tr>\n",
       "      <th>1</th>\n",
       "      <td>2</td>\n",
       "      <td>KNN_1</td>\n",
       "      <td>rfe</td>\n",
       "      <td>63.019468</td>\n",
       "      <td>8.668818e+03</td>\n",
       "      <td>4.502509e-04</td>\n",
       "      <td>1.531550</td>\n",
       "      <td>0.081472</td>\n",
       "      <td>93.106489</td>\n",
       "      <td>0.021219</td>\n",
       "      <td>428.711653</td>\n",
       "      <td>0.997747</td>\n",
       "      <td>0.997844</td>\n",
       "      <td>1.737173</td>\n",
       "      <td>4.507162e-04</td>\n",
       "      <td>0.997738</td>\n",
       "    </tr>\n",
       "    <tr>\n",
       "      <th>2</th>\n",
       "      <td>3</td>\n",
       "      <td>DECISIONFOREST_0</td>\n",
       "      <td>lasso</td>\n",
       "      <td>282.892897</td>\n",
       "      <td>1.380505e+05</td>\n",
       "      <td>4.854032e-02</td>\n",
       "      <td>8.236190</td>\n",
       "      <td>0.993536</td>\n",
       "      <td>371.551432</td>\n",
       "      <td>0.220319</td>\n",
       "      <td>1055.596774</td>\n",
       "      <td>0.964113</td>\n",
       "      <td>0.964343</td>\n",
       "      <td>54.312940</td>\n",
       "      <td>8.506177e-02</td>\n",
       "      <td>0.963902</td>\n",
       "    </tr>\n",
       "    <tr>\n",
       "      <th>3</th>\n",
       "      <td>4</td>\n",
       "      <td>DECISIONFOREST_2</td>\n",
       "      <td>pca</td>\n",
       "      <td>529.427848</td>\n",
       "      <td>5.318989e+05</td>\n",
       "      <td>1.431576e-01</td>\n",
       "      <td>17.922541</td>\n",
       "      <td>-6.248622</td>\n",
       "      <td>729.314012</td>\n",
       "      <td>0.378362</td>\n",
       "      <td>2756.888889</td>\n",
       "      <td>0.861731</td>\n",
       "      <td>0.864110</td>\n",
       "      <td>160.719218</td>\n",
       "      <td>3.632554e-01</td>\n",
       "      <td>0.859537</td>\n",
       "    </tr>\n",
       "    <tr>\n",
       "      <th>4</th>\n",
       "      <td>5</td>\n",
       "      <td>XGBOOST_2</td>\n",
       "      <td>pca</td>\n",
       "      <td>735.305782</td>\n",
       "      <td>7.753352e+05</td>\n",
       "      <td>6.083180e-02</td>\n",
       "      <td>19.216930</td>\n",
       "      <td>9.778043</td>\n",
       "      <td>880.531184</td>\n",
       "      <td>0.246641</td>\n",
       "      <td>2549.408013</td>\n",
       "      <td>0.798450</td>\n",
       "      <td>0.900685</td>\n",
       "      <td>181.728396</td>\n",
       "      <td>6.015135e-02</td>\n",
       "      <td>0.795250</td>\n",
       "    </tr>\n",
       "    <tr>\n",
       "      <th>5</th>\n",
       "      <td>6</td>\n",
       "      <td>XGBOOST_1</td>\n",
       "      <td>rfe</td>\n",
       "      <td>906.099625</td>\n",
       "      <td>1.171885e+06</td>\n",
       "      <td>5.261207e-02</td>\n",
       "      <td>19.090117</td>\n",
       "      <td>18.971700</td>\n",
       "      <td>1082.536385</td>\n",
       "      <td>0.229373</td>\n",
       "      <td>2876.242912</td>\n",
       "      <td>0.695365</td>\n",
       "      <td>0.908545</td>\n",
       "      <td>243.069568</td>\n",
       "      <td>5.783523e-02</td>\n",
       "      <td>0.694171</td>\n",
       "    </tr>\n",
       "    <tr>\n",
       "      <th>6</th>\n",
       "      <td>7</td>\n",
       "      <td>DECISIONFOREST_1</td>\n",
       "      <td>rfe</td>\n",
       "      <td>852.730029</td>\n",
       "      <td>1.257471e+06</td>\n",
       "      <td>1.747342e-01</td>\n",
       "      <td>37.324755</td>\n",
       "      <td>-24.743560</td>\n",
       "      <td>1121.370358</td>\n",
       "      <td>0.418012</td>\n",
       "      <td>2700.208282</td>\n",
       "      <td>0.673117</td>\n",
       "      <td>0.673117</td>\n",
       "      <td>361.760782</td>\n",
       "      <td>1.313313e-01</td>\n",
       "      <td>0.671835</td>\n",
       "    </tr>\n",
       "    <tr>\n",
       "      <th>7</th>\n",
       "      <td>8</td>\n",
       "      <td>XGBOOST_0</td>\n",
       "      <td>lasso</td>\n",
       "      <td>963.859454</td>\n",
       "      <td>1.480416e+06</td>\n",
       "      <td>1.235468e-01</td>\n",
       "      <td>30.166077</td>\n",
       "      <td>-11.618318</td>\n",
       "      <td>1216.723605</td>\n",
       "      <td>0.351492</td>\n",
       "      <td>3208.507938</td>\n",
       "      <td>0.615162</td>\n",
       "      <td>0.620211</td>\n",
       "      <td>362.680921</td>\n",
       "      <td>1.114672e-01</td>\n",
       "      <td>0.612894</td>\n",
       "    </tr>\n",
       "  </tbody>\n",
       "</table>\n",
       "</div>"
      ],
      "text/plain": [
       "   RANK          MODEL_ID FEATURE_SELECTION         MAE           MSE  \\\n",
       "0     1             GLM_1               rfe    0.424202  2.653069e-01   \n",
       "1     2             KNN_1               rfe   63.019468  8.668818e+03   \n",
       "2     3  DECISIONFOREST_0             lasso  282.892897  1.380505e+05   \n",
       "3     4  DECISIONFOREST_2               pca  529.427848  5.318989e+05   \n",
       "4     5         XGBOOST_2               pca  735.305782  7.753352e+05   \n",
       "5     6         XGBOOST_1               rfe  906.099625  1.171885e+06   \n",
       "6     7  DECISIONFOREST_1               rfe  852.730029  1.257471e+06   \n",
       "7     8         XGBOOST_0             lasso  963.859454  1.480416e+06   \n",
       "\n",
       "           MSLE       MAPE        MPE         RMSE     RMSLE           ME  \\\n",
       "0  9.833913e-08   0.016126  -0.008941     0.515079  0.000314     1.060263   \n",
       "1  4.502509e-04   1.531550   0.081472    93.106489  0.021219   428.711653   \n",
       "2  4.854032e-02   8.236190   0.993536   371.551432  0.220319  1055.596774   \n",
       "3  1.431576e-01  17.922541  -6.248622   729.314012  0.378362  2756.888889   \n",
       "4  6.083180e-02  19.216930   9.778043   880.531184  0.246641  2549.408013   \n",
       "5  5.261207e-02  19.090117  18.971700  1082.536385  0.229373  2876.242912   \n",
       "6  1.747342e-01  37.324755 -24.743560  1121.370358  0.418012  2700.208282   \n",
       "7  1.235468e-01  30.166077 -11.618318  1216.723605  0.351492  3208.507938   \n",
       "\n",
       "         R2        EV         MPD           MGD  ADJUSTED_R2  \n",
       "0  1.000000  1.000000    0.000110  9.858096e-08     1.000000  \n",
       "1  0.997747  0.997844    1.737173  4.507162e-04     0.997738  \n",
       "2  0.964113  0.964343   54.312940  8.506177e-02     0.963902  \n",
       "3  0.861731  0.864110  160.719218  3.632554e-01     0.859537  \n",
       "4  0.798450  0.900685  181.728396  6.015135e-02     0.795250  \n",
       "5  0.695365  0.908545  243.069568  5.783523e-02     0.694171  \n",
       "6  0.673117  0.673117  361.760782  1.313313e-01     0.671835  \n",
       "7  0.615162  0.620211  362.680921  1.114672e-01     0.612894  "
      ]
     },
     "execution_count": 18,
     "metadata": {},
     "output_type": "execute_result"
    }
   ],
   "source": [
    "# Fetching Leaderboard\n",
    "aml.leaderboard()"
   ]
  },
  {
   "cell_type": "markdown",
   "id": "a7a3aa08-e349-4a61-9217-2c17d50411d8",
   "metadata": {},
   "source": [
    "## <b><span style='color:#F1A424'>| 4.</span> Best Performing Model : </b>"
   ]
  },
  {
   "cell_type": "code",
   "execution_count": 19,
   "id": "c4c32832-a76b-4f42-826a-cefc38a6301b",
   "metadata": {},
   "outputs": [
    {
     "data": {
      "text/html": [
       "<div>\n",
       "<style scoped>\n",
       "    .dataframe tbody tr th:only-of-type {\n",
       "        vertical-align: middle;\n",
       "    }\n",
       "\n",
       "    .dataframe tbody tr th {\n",
       "        vertical-align: top;\n",
       "    }\n",
       "\n",
       "    .dataframe thead th {\n",
       "        text-align: right;\n",
       "    }\n",
       "</style>\n",
       "<table border=\"1\" class=\"dataframe\">\n",
       "  <thead>\n",
       "    <tr style=\"text-align: right;\">\n",
       "      <th></th>\n",
       "      <th>RANK</th>\n",
       "      <th>MODEL_ID</th>\n",
       "      <th>FEATURE_SELECTION</th>\n",
       "      <th>MAE</th>\n",
       "      <th>MSE</th>\n",
       "      <th>MSLE</th>\n",
       "      <th>MAPE</th>\n",
       "      <th>MPE</th>\n",
       "      <th>RMSE</th>\n",
       "      <th>RMSLE</th>\n",
       "      <th>ME</th>\n",
       "      <th>R2</th>\n",
       "      <th>EV</th>\n",
       "      <th>MPD</th>\n",
       "      <th>MGD</th>\n",
       "      <th>ADJUSTED_R2</th>\n",
       "    </tr>\n",
       "  </thead>\n",
       "  <tbody>\n",
       "    <tr>\n",
       "      <th>0</th>\n",
       "      <td>1</td>\n",
       "      <td>GLM_1</td>\n",
       "      <td>rfe</td>\n",
       "      <td>0.424202</td>\n",
       "      <td>0.265307</td>\n",
       "      <td>9.833913e-08</td>\n",
       "      <td>0.016126</td>\n",
       "      <td>-0.008941</td>\n",
       "      <td>0.515079</td>\n",
       "      <td>0.000314</td>\n",
       "      <td>1.060263</td>\n",
       "      <td>1.0</td>\n",
       "      <td>1.0</td>\n",
       "      <td>0.00011</td>\n",
       "      <td>9.858096e-08</td>\n",
       "      <td>1.0</td>\n",
       "    </tr>\n",
       "  </tbody>\n",
       "</table>\n",
       "</div>"
      ],
      "text/plain": [
       "   RANK MODEL_ID FEATURE_SELECTION       MAE       MSE          MSLE  \\\n",
       "0     1    GLM_1               rfe  0.424202  0.265307  9.833913e-08   \n",
       "\n",
       "       MAPE       MPE      RMSE     RMSLE        ME   R2   EV      MPD  \\\n",
       "0  0.016126 -0.008941  0.515079  0.000314  1.060263  1.0  1.0  0.00011   \n",
       "\n",
       "            MGD  ADJUSTED_R2  \n",
       "0  9.858096e-08          1.0  "
      ]
     },
     "metadata": {},
     "output_type": "display_data"
    }
   ],
   "source": [
    "# Fetching best performing model for dataset\n",
    "aml.leader()"
   ]
  },
  {
   "cell_type": "markdown",
   "id": "d87cfab7-91b3-4e92-ba4c-954336f15cf3",
   "metadata": {},
   "source": [
    "## <b><span style='color:#F1A424'>| 5.</span> Get Hyperparameter for Trained Model : </b>"
   ]
  },
  {
   "cell_type": "code",
   "execution_count": 20,
   "id": "134fda96-97a2-409e-a4aa-c2a7585519bf",
   "metadata": {},
   "outputs": [
    {
     "data": {
      "text/plain": [
       "{'response_column': 'cnt',\n",
       " 'name': 'glm',\n",
       " 'family': 'GAUSSIAN',\n",
       " 'lambda1': 0.001,\n",
       " 'alpha': 0.15,\n",
       " 'learning_rate': 'constant',\n",
       " 'initial_eta': 0.1,\n",
       " 'momentum': 0.65,\n",
       " 'iter_num_no_change': 50,\n",
       " 'iter_max': 400,\n",
       " 'batch_size': 100,\n",
       " 'persist': False,\n",
       " 'max_models': 1}"
      ]
     },
     "execution_count": 20,
     "metadata": {},
     "output_type": "execute_result"
    }
   ],
   "source": [
    "aml.model_hyperparameters(rank=1)"
   ]
  },
  {
   "cell_type": "code",
   "execution_count": 21,
   "id": "a71df494-1481-4562-a6dc-5e8844ae8eff",
   "metadata": {
    "tags": []
   },
   "outputs": [
    {
     "data": {
      "text/plain": [
       "{'response_column': 'cnt',\n",
       " 'name': 'decision_forest',\n",
       " 'tree_type': 'Regression',\n",
       " 'min_impurity': 0.0,\n",
       " 'max_depth': 5,\n",
       " 'min_node_size': 3,\n",
       " 'num_trees': -1,\n",
       " 'seed': 42,\n",
       " 'persist': False,\n",
       " 'max_models': 1}"
      ]
     },
     "execution_count": 21,
     "metadata": {},
     "output_type": "execute_result"
    }
   ],
   "source": [
    "aml.model_hyperparameters(rank=4)"
   ]
  },
  {
   "cell_type": "markdown",
   "id": "a116d839-1a1c-49f1-ad3c-a8c91f1428b5",
   "metadata": {},
   "source": [
    "## <b><span style='color:#F1A424'>| 6.</span> Generate Prediction and Performance Metrics : </b>"
   ]
  },
  {
   "cell_type": "code",
   "execution_count": 22,
   "id": "5b6edfe3-bd5a-46bd-ad80-b20fadfed7a0",
   "metadata": {},
   "outputs": [
    {
     "name": "stdout",
     "output_type": "stream",
     "text": [
      "Data Transformation started ...\n",
      "                                                                                                \r"
     ]
    },
    {
     "data": {
      "text/html": [
       "Performing transformation carried out in feature engineering phase ..."
      ],
      "text/plain": [
       "<IPython.core.display.HTML object>"
      ]
     },
     "metadata": {},
     "output_type": "display_data"
    },
    {
     "name": "stdout",
     "output_type": "stream",
     "text": [
      "                                                                                                 \r"
     ]
    },
    {
     "data": {
      "text/html": [
       "Performing transformation carried out in data preparation phase ..."
      ],
      "text/plain": [
       "<IPython.core.display.HTML object>"
      ]
     },
     "metadata": {},
     "output_type": "display_data"
    },
    {
     "name": "stdout",
     "output_type": "stream",
     "text": [
      "                                                                                                 \r"
     ]
    },
    {
     "data": {
      "text/html": [
       "\n",
       "Updated dataset after performing Lasso feature selection:"
      ],
      "text/plain": [
       "<IPython.core.display.HTML object>"
      ]
     },
     "metadata": {},
     "output_type": "display_data"
    },
    {
     "data": {
      "text/html": [
       "<style type=\"text/css\">\n",
       "\ttable {border:ridge 5px;}\n",
       "\ttable td {border:inset 1px;}\n",
       "\ttable tr#HeaderRow {background-color:grey; color:white;}</style>\n",
       "<html><table>\n",
       "\t<tr id=\"HeaderRow\">\n",
       "\t\t<th>id</th>\n",
       "\t\t<th>casual</th>\n",
       "\t\t<th>registered</th>\n",
       "\t\t<th>instant</th>\n",
       "\t\t<th>cnt</th>\n",
       "\t</tr>\n",
       "\t<tr>\n",
       "\t\t<td>79</td>\n",
       "\t\t<td>190</td>\n",
       "\t\t<td>2743</td>\n",
       "\t\t<td>314</td>\n",
       "\t\t<td>2933</td>\n",
       "\t</tr>\n",
       "\t<tr>\n",
       "\t\t<td>113</td>\n",
       "\t\t<td>1208</td>\n",
       "\t\t<td>4728</td>\n",
       "\t\t<td>458</td>\n",
       "\t\t<td>5936</td>\n",
       "\t</tr>\n",
       "\t<tr>\n",
       "\t\t<td>72</td>\n",
       "\t\t<td>2001</td>\n",
       "\t\t<td>2757</td>\n",
       "\t\t<td>148</td>\n",
       "\t\t<td>4758</td>\n",
       "\t</tr>\n",
       "\t<tr>\n",
       "\t\t<td>21</td>\n",
       "\t\t<td>1122</td>\n",
       "\t\t<td>5108</td>\n",
       "\t\t<td>446</td>\n",
       "\t\t<td>6230</td>\n",
       "\t</tr>\n",
       "\t<tr>\n",
       "\t\t<td>24</td>\n",
       "\t\t<td>2708</td>\n",
       "\t\t<td>4790</td>\n",
       "\t\t<td>526</td>\n",
       "\t\t<td>7498</td>\n",
       "\t</tr>\n",
       "\t<tr>\n",
       "\t\t<td>131</td>\n",
       "\t\t<td>1524</td>\n",
       "\t\t<td>2778</td>\n",
       "\t\t<td>212</td>\n",
       "\t\t<td>4302</td>\n",
       "\t</tr>\n",
       "\t<tr>\n",
       "\t\t<td>102</td>\n",
       "\t\t<td>874</td>\n",
       "\t\t<td>4604</td>\n",
       "\t\t<td>647</td>\n",
       "\t\t<td>5478</td>\n",
       "\t</tr>\n",
       "\t<tr>\n",
       "\t\t<td>147</td>\n",
       "\t\t<td>1208</td>\n",
       "\t\t<td>3341</td>\n",
       "\t\t<td>597</td>\n",
       "\t\t<td>4549</td>\n",
       "\t</tr>\n",
       "\t<tr>\n",
       "\t\t<td>62</td>\n",
       "\t\t<td>95</td>\n",
       "\t\t<td>2273</td>\n",
       "\t\t<td>369</td>\n",
       "\t\t<td>2368</td>\n",
       "\t</tr>\n",
       "\t<tr>\n",
       "\t\t<td>44</td>\n",
       "\t\t<td>810</td>\n",
       "\t\t<td>2261</td>\n",
       "\t\t<td>331</td>\n",
       "\t\t<td>3071</td>\n",
       "\t</tr>\n",
       "</table></html>"
      ],
      "text/plain": [
       "         id  registered  instant   cnt\n",
       "casual                                \n",
       "190      79        2743      314  2933\n",
       "1208    113        4728      458  5936\n",
       "2001     72        2757      148  4758\n",
       "1122     21        5108      446  6230\n",
       "2708     24        4790      526  7498\n",
       "1524    131        2778      212  4302\n",
       "874     102        4604      647  5478\n",
       "1208    147        3341      597  4549\n",
       "95       62        2273      369  2368\n",
       "810      44        2261      331  3071"
      ]
     },
     "metadata": {},
     "output_type": "display_data"
    },
    {
     "name": "stdout",
     "output_type": "stream",
     "text": [
      "                                                                                                 \r"
     ]
    },
    {
     "data": {
      "text/html": [
       "146 rows X 5 columns"
      ],
      "text/plain": [
       "<IPython.core.display.HTML object>"
      ]
     },
     "metadata": {},
     "output_type": "display_data"
    },
    {
     "name": "stdout",
     "output_type": "stream",
     "text": [
      "                                                                                                 \r"
     ]
    },
    {
     "data": {
      "text/html": [
       "\n",
       "Updated dataset after performing scaling on Lasso selected features :"
      ],
      "text/plain": [
       "<IPython.core.display.HTML object>"
      ]
     },
     "metadata": {},
     "output_type": "display_data"
    },
    {
     "data": {
      "text/html": [
       "<style type=\"text/css\">\n",
       "\ttable {border:ridge 5px;}\n",
       "\ttable td {border:inset 1px;}\n",
       "\ttable tr#HeaderRow {background-color:grey; color:white;}</style>\n",
       "<html><table>\n",
       "\t<tr id=\"HeaderRow\">\n",
       "\t\t<th>cnt</th>\n",
       "\t\t<th>id</th>\n",
       "\t\t<th>casual</th>\n",
       "\t\t<th>registered</th>\n",
       "\t\t<th>instant</th>\n",
       "\t</tr>\n",
       "\t<tr>\n",
       "\t\t<td>3249</td>\n",
       "\t\t<td>48</td>\n",
       "\t\t<td>1.9742510770427713</td>\n",
       "\t\t<td>-1.314965433550783</td>\n",
       "\t\t<td>-1.2249209077392604</td>\n",
       "\t</tr>\n",
       "\t<tr>\n",
       "\t\t<td>3071</td>\n",
       "\t\t<td>44</td>\n",
       "\t\t<td>0.2325020730638379</td>\n",
       "\t\t<td>-0.8981988458178347</td>\n",
       "\t\t<td>-0.12067691747428647</td>\n",
       "\t</tr>\n",
       "\t<tr>\n",
       "\t\t<td>2368</td>\n",
       "\t\t<td>62</td>\n",
       "\t\t<td>-1.2482952370966107</td>\n",
       "\t\t<td>-0.8906555591620348</td>\n",
       "\t\t<td>0.05563094651760013</td>\n",
       "\t</tr>\n",
       "\t<tr>\n",
       "\t\t<td>7693</td>\n",
       "\t\t<td>33</td>\n",
       "\t\t<td>0.201436395228304</td>\n",
       "\t\t<td>2.016652839427536</td>\n",
       "\t\t<td>1.4196970521390384</td>\n",
       "\t</tr>\n",
       "\t<tr>\n",
       "\t\t<td>4105</td>\n",
       "\t\t<td>55</td>\n",
       "\t\t<td>-0.011881259242362009</td>\n",
       "\t\t<td>-0.1740433268610378</td>\n",
       "\t\t<td>-1.0393336824846429</td>\n",
       "\t</tr>\n",
       "\t<tr>\n",
       "\t\t<td>3372</td>\n",
       "\t\t<td>75</td>\n",
       "\t\t<td>0.694345150218775</td>\n",
       "\t\t<td>-0.8491674825551349</td>\n",
       "\t\t<td>0.42680539702683506</td>\n",
       "\t</tr>\n",
       "\t<tr>\n",
       "\t\t<td>1406</td>\n",
       "\t\t<td>17</td>\n",
       "\t\t<td>-1.3663448128716396</td>\n",
       "\t\t<td>-1.4595450944536157</td>\n",
       "\t\t<td>-1.5960953582484954</td>\n",
       "\t</tr>\n",
       "\t<tr>\n",
       "\t\t<td>5532</td>\n",
       "\t\t<td>27</td>\n",
       "\t\t<td>-0.5648503247148652</td>\n",
       "\t\t<td>0.890817306049391</td>\n",
       "\t\t<td>1.6516810837073104</td>\n",
       "\t</tr>\n",
       "\t<tr>\n",
       "\t\t<td>4191</td>\n",
       "\t\t<td>28</td>\n",
       "\t\t<td>2.096442743195871</td>\n",
       "\t\t<td>-0.7599052571281686</td>\n",
       "\t\t<td>-1.127487614480586</td>\n",
       "\t</tr>\n",
       "\t<tr>\n",
       "\t\t<td>6889</td>\n",
       "\t\t<td>121</td>\n",
       "\t\t<td>2.728111525851727</td>\n",
       "\t\t<td>0.7443518234826083</td>\n",
       "\t\t<td>1.308344716986268</td>\n",
       "\t</tr>\n",
       "</table></html>"
      ],
      "text/plain": [
       "    cnt   id    casual  registered   instant\n",
       "0  3249   48  1.974251   -1.314965 -1.224921\n",
       "1  3071   44  0.232502   -0.898199 -0.120677\n",
       "2  2368   62 -1.248295   -0.890656  0.055631\n",
       "3  7693   33  0.201436    2.016653  1.419697\n",
       "4  4105   55 -0.011881   -0.174043 -1.039334\n",
       "5  3372   75  0.694345   -0.849167  0.426805\n",
       "6  1406   17 -1.366345   -1.459545 -1.596095\n",
       "7  5532   27 -0.564850    0.890817  1.651681\n",
       "8  4191   28  2.096443   -0.759905 -1.127488\n",
       "9  6889  121  2.728112    0.744352  1.308345"
      ]
     },
     "metadata": {},
     "output_type": "display_data"
    },
    {
     "name": "stdout",
     "output_type": "stream",
     "text": [
      "                                                                                                 \r"
     ]
    },
    {
     "data": {
      "text/html": [
       "146 rows X 5 columns"
      ],
      "text/plain": [
       "<IPython.core.display.HTML object>"
      ]
     },
     "metadata": {},
     "output_type": "display_data"
    },
    {
     "name": "stdout",
     "output_type": "stream",
     "text": [
      "                                                                                                 \r"
     ]
    },
    {
     "data": {
      "text/html": [
       "\n",
       "Updated dataset after performing RFE feature selection:"
      ],
      "text/plain": [
       "<IPython.core.display.HTML object>"
      ]
     },
     "metadata": {},
     "output_type": "display_data"
    },
    {
     "data": {
      "text/html": [
       "<style type=\"text/css\">\n",
       "\ttable {border:ridge 5px;}\n",
       "\ttable td {border:inset 1px;}\n",
       "\ttable tr#HeaderRow {background-color:grey; color:white;}</style>\n",
       "<html><table>\n",
       "\t<tr id=\"HeaderRow\">\n",
       "\t\t<th>id</th>\n",
       "\t\t<th>casual</th>\n",
       "\t\t<th>registered</th>\n",
       "\t\t<th>cnt</th>\n",
       "\t</tr>\n",
       "\t<tr>\n",
       "\t\t<td>56</td>\n",
       "\t\t<td>1118</td>\n",
       "\t\t<td>6407</td>\n",
       "\t\t<td>7525</td>\n",
       "\t</tr>\n",
       "\t<tr>\n",
       "\t\t<td>106</td>\n",
       "\t\t<td>195</td>\n",
       "\t\t<td>912</td>\n",
       "\t\t<td>1107</td>\n",
       "\t</tr>\n",
       "\t<tr>\n",
       "\t\t<td>89</td>\n",
       "\t\t<td>460</td>\n",
       "\t\t<td>2243</td>\n",
       "\t\t<td>2703</td>\n",
       "\t</tr>\n",
       "\t<tr>\n",
       "\t\t<td>40</td>\n",
       "\t\t<td>317</td>\n",
       "\t\t<td>2415</td>\n",
       "\t\t<td>2732</td>\n",
       "\t</tr>\n",
       "\t<tr>\n",
       "\t\t<td>77</td>\n",
       "\t\t<td>599</td>\n",
       "\t\t<td>2826</td>\n",
       "\t\t<td>3425</td>\n",
       "\t</tr>\n",
       "\t<tr>\n",
       "\t\t<td>115</td>\n",
       "\t\t<td>841</td>\n",
       "\t\t<td>3617</td>\n",
       "\t\t<td>4458</td>\n",
       "\t</tr>\n",
       "\t<tr>\n",
       "\t\t<td>11</td>\n",
       "\t\t<td>847</td>\n",
       "\t\t<td>3554</td>\n",
       "\t\t<td>4401</td>\n",
       "\t</tr>\n",
       "\t<tr>\n",
       "\t\t<td>98</td>\n",
       "\t\t<td>1829</td>\n",
       "\t\t<td>4224</td>\n",
       "\t\t<td>6053</td>\n",
       "\t</tr>\n",
       "\t<tr>\n",
       "\t\t<td>22</td>\n",
       "\t\t<td>783</td>\n",
       "\t\t<td>4332</td>\n",
       "\t\t<td>5115</td>\n",
       "\t</tr>\n",
       "\t<tr>\n",
       "\t\t<td>67</td>\n",
       "\t\t<td>606</td>\n",
       "\t\t<td>3784</td>\n",
       "\t\t<td>4390</td>\n",
       "\t</tr>\n",
       "</table></html>"
      ],
      "text/plain": [
       "         id  registered   cnt\n",
       "casual                       \n",
       "1118     56        6407  7525\n",
       "195     106         912  1107\n",
       "460      89        2243  2703\n",
       "317      40        2415  2732\n",
       "599      77        2826  3425\n",
       "841     115        3617  4458\n",
       "847      11        3554  4401\n",
       "1829     98        4224  6053\n",
       "783      22        4332  5115\n",
       "606      67        3784  4390"
      ]
     },
     "metadata": {},
     "output_type": "display_data"
    },
    {
     "name": "stdout",
     "output_type": "stream",
     "text": [
      "                                                                                                 \r"
     ]
    },
    {
     "data": {
      "text/html": [
       "146 rows X 4 columns"
      ],
      "text/plain": [
       "<IPython.core.display.HTML object>"
      ]
     },
     "metadata": {},
     "output_type": "display_data"
    },
    {
     "name": "stdout",
     "output_type": "stream",
     "text": [
      "                                                                                                 \r"
     ]
    },
    {
     "data": {
      "text/html": [
       "\n",
       "Updated dataset after performing scaling on RFE selected features :"
      ],
      "text/plain": [
       "<IPython.core.display.HTML object>"
      ]
     },
     "metadata": {},
     "output_type": "display_data"
    },
    {
     "data": {
      "text/html": [
       "<style type=\"text/css\">\n",
       "\ttable {border:ridge 5px;}\n",
       "\ttable td {border:inset 1px;}\n",
       "\ttable tr#HeaderRow {background-color:grey; color:white;}</style>\n",
       "<html><table>\n",
       "\t<tr id=\"HeaderRow\">\n",
       "\t\t<th>id</th>\n",
       "\t\t<th>cnt</th>\n",
       "\t\t<th>r_casual</th>\n",
       "\t\t<th>r_registered</th>\n",
       "\t</tr>\n",
       "\t<tr>\n",
       "\t\t<td>67</td>\n",
       "\t\t<td>4390</td>\n",
       "\t\t<td>-0.18999114549942295</td>\n",
       "\t\t<td>0.05916995224744455</td>\n",
       "\t</tr>\n",
       "\t<tr>\n",
       "\t\t<td>17</td>\n",
       "\t\t<td>1406</td>\n",
       "\t\t<td>-1.3663448128716396</td>\n",
       "\t\t<td>-1.4595450944536157</td>\n",
       "\t</tr>\n",
       "\t<tr>\n",
       "\t\t<td>27</td>\n",
       "\t\t<td>5532</td>\n",
       "\t\t<td>-0.5648503247148652</td>\n",
       "\t\t<td>0.890817306049391</td>\n",
       "\t</tr>\n",
       "\t<tr>\n",
       "\t\t<td>33</td>\n",
       "\t\t<td>7693</td>\n",
       "\t\t<td>0.201436395228304</td>\n",
       "\t\t<td>2.016652839427536</td>\n",
       "\t</tr>\n",
       "\t<tr>\n",
       "\t\t<td>44</td>\n",
       "\t\t<td>3071</td>\n",
       "\t\t<td>0.2325020730638379</td>\n",
       "\t\t<td>-0.8981988458178347</td>\n",
       "\t</tr>\n",
       "\t<tr>\n",
       "\t\t<td>62</td>\n",
       "\t\t<td>2368</td>\n",
       "\t\t<td>-1.2482952370966107</td>\n",
       "\t\t<td>-0.8906555591620348</td>\n",
       "\t</tr>\n",
       "\t<tr>\n",
       "\t\t<td>78</td>\n",
       "\t\t<td>7592</td>\n",
       "\t\t<td>0.9159469854455834</td>\n",
       "\t\t<td>1.736294018720304</td>\n",
       "\t</tr>\n",
       "\t<tr>\n",
       "\t\t<td>70</td>\n",
       "\t\t<td>7363</td>\n",
       "\t\t<td>0.9987887930070071</td>\n",
       "\t\t<td>1.5671986761861214</td>\n",
       "\t</tr>\n",
       "\t<tr>\n",
       "\t\t<td>48</td>\n",
       "\t\t<td>3249</td>\n",
       "\t\t<td>1.9742510770427713</td>\n",
       "\t\t<td>-1.314965433550783</td>\n",
       "\t</tr>\n",
       "\t<tr>\n",
       "\t\t<td>35</td>\n",
       "\t\t<td>1796</td>\n",
       "\t\t<td>-0.6911840812460364</td>\n",
       "\t\t<td>-1.419314232289349</td>\n",
       "\t</tr>\n",
       "</table></html>"
      ],
      "text/plain": [
       "   id   cnt  r_casual  r_registered\n",
       "0  67  4390 -0.189991      0.059170\n",
       "1  17  1406 -1.366345     -1.459545\n",
       "2  27  5532 -0.564850      0.890817\n",
       "3  33  7693  0.201436      2.016653\n",
       "4  44  3071  0.232502     -0.898199\n",
       "5  62  2368 -1.248295     -0.890656\n",
       "6  78  7592  0.915947      1.736294\n",
       "7  70  7363  0.998789      1.567199\n",
       "8  48  3249  1.974251     -1.314965\n",
       "9  35  1796 -0.691184     -1.419314"
      ]
     },
     "metadata": {},
     "output_type": "display_data"
    },
    {
     "name": "stdout",
     "output_type": "stream",
     "text": [
      "                                                                                                 \r"
     ]
    },
    {
     "data": {
      "text/html": [
       "146 rows X 4 columns"
      ],
      "text/plain": [
       "<IPython.core.display.HTML object>"
      ]
     },
     "metadata": {},
     "output_type": "display_data"
    },
    {
     "name": "stdout",
     "output_type": "stream",
     "text": [
      "                                                                                                 \r"
     ]
    },
    {
     "data": {
      "text/html": [
       "\n",
       "Updated dataset after performing scaling for PCA feature selection :"
      ],
      "text/plain": [
       "<IPython.core.display.HTML object>"
      ]
     },
     "metadata": {},
     "output_type": "display_data"
    },
    {
     "data": {
      "text/html": [
       "<style type=\"text/css\">\n",
       "\ttable {border:ridge 5px;}\n",
       "\ttable td {border:inset 1px;}\n",
       "\ttable tr#HeaderRow {background-color:grey; color:white;}</style>\n",
       "<html><table>\n",
       "\t<tr id=\"HeaderRow\">\n",
       "\t\t<th>cnt</th>\n",
       "\t\t<th>holiday</th>\n",
       "\t\t<th>id</th>\n",
       "\t\t<th>instant</th>\n",
       "\t\t<th>season</th>\n",
       "\t\t<th>yr</th>\n",
       "\t\t<th>mnth</th>\n",
       "\t\t<th>weekday</th>\n",
       "\t\t<th>workingday</th>\n",
       "\t\t<th>weathersit</th>\n",
       "\t\t<th>temp</th>\n",
       "\t\t<th>atemp</th>\n",
       "\t\t<th>hum</th>\n",
       "\t\t<th>windspeed</th>\n",
       "\t\t<th>casual</th>\n",
       "\t\t<th>registered</th>\n",
       "\t</tr>\n",
       "\t<tr>\n",
       "\t\t<td>4191</td>\n",
       "\t\t<td>0</td>\n",
       "\t\t<td>28</td>\n",
       "\t\t<td>-1.1274876144805865</td>\n",
       "\t\t<td>-0.4644327602574178</td>\n",
       "\t\t<td>-0.9412913532826627</td>\n",
       "\t\t<td>-0.7419756500095224</td>\n",
       "\t\t<td>-1.6078745924116122</td>\n",
       "\t\t<td>-1.8296058666058783</td>\n",
       "\t\t<td>1.0585715534396725</td>\n",
       "\t\t<td>0.5053353850616517</td>\n",
       "\t\t<td>0.5109348963840247</td>\n",
       "\t\t<td>1.2765118418920935</td>\n",
       "\t\t<td>0.07791754512787955</td>\n",
       "\t\t<td>2.0964427431958703</td>\n",
       "\t\t<td>-0.7599052571281685</td>\n",
       "\t</tr>\n",
       "\t<tr>\n",
       "\t\t<td>1406</td>\n",
       "\t\t<td>0</td>\n",
       "\t\t<td>17</td>\n",
       "\t\t<td>-1.596095358248496</td>\n",
       "\t\t<td>-1.3501353848375495</td>\n",
       "\t\t<td>-0.9412913532826627</td>\n",
       "\t\t<td>-1.5979730453353507</td>\n",
       "\t\t<td>0.5234940533433156</td>\n",
       "\t\t<td>0.5465658031885915</td>\n",
       "\t\t<td>-0.7515858029421676</td>\n",
       "\t\t<td>-1.7379102841770806</td>\n",
       "\t\t<td>-1.9214010922242806</td>\n",
       "\t\t<td>-1.153159294435199</td>\n",
       "\t\t<td>1.5599576568290254</td>\n",
       "\t\t<td>-1.366344812871639</td>\n",
       "\t\t<td>-1.4595450944536155</td>\n",
       "\t</tr>\n",
       "\t<tr>\n",
       "\t\t<td>5532</td>\n",
       "\t\t<td>0</td>\n",
       "\t\t<td>27</td>\n",
       "\t\t<td>1.651681083707311</td>\n",
       "\t\t<td>1.3069724889028456</td>\n",
       "\t\t<td>1.062370324036864</td>\n",
       "\t\t<td>1.540684070859353</td>\n",
       "\t\t<td>0.5234940533433156</td>\n",
       "\t\t<td>0.5465658031885915</td>\n",
       "\t\t<td>-0.7515858029421676</td>\n",
       "\t\t<td>-1.0337669351575793</td>\n",
       "\t\t<td>-1.05197293765314</td>\n",
       "\t\t<td>-1.0432388023686878</td>\n",
       "\t\t<td>-0.1686350837488737</td>\n",
       "\t\t<td>-0.564850324714865</td>\n",
       "\t\t<td>0.8908173060493909</td>\n",
       "\t</tr>\n",
       "\t<tr>\n",
       "\t\t<td>4390</td>\n",
       "\t\t<td>0</td>\n",
       "\t\t<td>67</td>\n",
       "\t\t<td>-0.68671795450087</td>\n",
       "\t\t<td>0.4212698643227139</td>\n",
       "\t\t<td>-0.9412913532826627</td>\n",
       "\t\t<td>0.11402174531630585</td>\n",
       "\t\t<td>0.5234940533433156</td>\n",
       "\t\t<td>0.5465658031885915</td>\n",
       "\t\t<td>-0.7515858029421676</td>\n",
       "\t\t<td>1.568548775209599</td>\n",
       "\t\t<td>1.6521731090485854</td>\n",
       "\t\t<td>-0.34731360909045306</td>\n",
       "\t\t<td>-0.10869963805507754</td>\n",
       "\t\t<td>-0.1899911454994229</td>\n",
       "\t\t<td>0.05916995224744454</td>\n",
       "\t</tr>\n",
       "\t<tr>\n",
       "\t\t<td>7592</td>\n",
       "\t\t<td>0</td>\n",
       "\t\t<td>78</td>\n",
       "\t\t<td>0.9928464340534188</td>\n",
       "\t\t<td>0.4212698643227139</td>\n",
       "\t\t<td>1.062370324036864</td>\n",
       "\t\t<td>0.11402174531630585</td>\n",
       "\t\t<td>-0.5421902695341483</td>\n",
       "\t\t<td>0.5465658031885915</td>\n",
       "\t\t<td>-0.7515858029421676</td>\n",
       "\t\t<td>1.415661381385793</td>\n",
       "\t\t<td>1.449529003237866</td>\n",
       "\t\t<td>0.16445907150492542</td>\n",
       "\t\t<td>0.3408162046483951</td>\n",
       "\t\t<td>0.9159469854455831</td>\n",
       "\t\t<td>1.7362940187203038</td>\n",
       "\t</tr>\n",
       "\t<tr>\n",
       "\t\t<td>7363</td>\n",
       "\t\t<td>0</td>\n",
       "\t\t<td>70</td>\n",
       "\t\t<td>0.8072592087988012</td>\n",
       "\t\t<td>-0.4644327602574178</td>\n",
       "\t\t<td>1.062370324036864</td>\n",
       "\t\t<td>-0.17131071979230356</td>\n",
       "\t\t<td>0.5234940533433156</td>\n",
       "\t\t<td>0.5465658031885915</td>\n",
       "\t\t<td>-0.7515858029421676</td>\n",
       "\t\t<td>0.8638670902963519</td>\n",
       "\t\t<td>0.9514128030264866</td>\n",
       "\t\t<td>-0.4451000208639079</td>\n",
       "\t\t<td>0.9156516156207146</td>\n",
       "\t\t<td>0.9987887930070067</td>\n",
       "\t\t<td>1.5671986761861212</td>\n",
       "\t</tr>\n",
       "\t<tr>\n",
       "\t\t<td>4105</td>\n",
       "\t\t<td>0</td>\n",
       "\t\t<td>55</td>\n",
       "\t\t<td>-1.0393336824846433</td>\n",
       "\t\t<td>-0.4644327602574178</td>\n",
       "\t\t<td>-0.9412913532826627</td>\n",
       "\t\t<td>-0.456643184900913</td>\n",
       "\t\t<td>1.0563362147820474</td>\n",
       "\t\t<td>0.5465658031885915</td>\n",
       "\t\t<td>1.0585715534396725</td>\n",
       "\t\t<td>0.13280694658956058</td>\n",
       "\t\t<td>0.16207154057215786</td>\n",
       "\t\t<td>1.651240792118835</td>\n",
       "\t\t<td>-0.0923536074113148</td>\n",
       "\t\t<td>-0.011881259242362004</td>\n",
       "\t\t<td>-0.17404332686103777</td>\n",
       "\t</tr>\n",
       "\t<tr>\n",
       "\t\t<td>3372</td>\n",
       "\t\t<td>0</td>\n",
       "\t\t<td>75</td>\n",
       "\t\t<td>0.42680539702683523</td>\n",
       "\t\t<td>-0.4644327602574178</td>\n",
       "\t\t<td>1.062370324036864</td>\n",
       "\t\t<td>-1.0273081151181318</td>\n",
       "\t\t<td>1.5891783762207794</td>\n",
       "\t\t<td>-1.8296058666058783</td>\n",
       "\t\t<td>1.0585715534396725</td>\n",
       "\t\t<td>0.07897335721498092</td>\n",
       "\t\t<td>0.11596090571702412</td>\n",
       "\t\t<td>1.8089838359285684</td>\n",
       "\t\t<td>0.08609056044976071</td>\n",
       "\t\t<td>0.6943451502187747</td>\n",
       "\t\t<td>-0.8491674825551347</td>\n",
       "\t</tr>\n",
       "\t<tr>\n",
       "\t\t<td>7693</td>\n",
       "\t\t<td>0</td>\n",
       "\t\t<td>33</td>\n",
       "\t\t<td>1.419697052139039</td>\n",
       "\t\t<td>1.3069724889028456</td>\n",
       "\t\t<td>1.062370324036864</td>\n",
       "\t\t<td>0.9700191406421341</td>\n",
       "\t\t<td>-0.009348108095416379</td>\n",
       "\t\t<td>0.5465658031885915</td>\n",
       "\t\t<td>-0.7515858029421676</td>\n",
       "\t\t<td>0.536558866898908</td>\n",
       "\t\t<td>0.5527984990814488</td>\n",
       "\t\t<td>0.030270418852301462</td>\n",
       "\t\t<td>-1.5485125039265035</td>\n",
       "\t\t<td>0.20143639522830395</td>\n",
       "\t\t<td>2.016652839427536</td>\n",
       "\t</tr>\n",
       "\t<tr>\n",
       "\t\t<td>1951</td>\n",
       "\t\t<td>1</td>\n",
       "\t\t<td>76</td>\n",
       "\t\t<td>0.04635158525486928</td>\n",
       "\t\t<td>-1.3501353848375495</td>\n",
       "\t\t<td>1.062370324036864</td>\n",
       "\t\t<td>-1.5979730453353507</td>\n",
       "\t\t<td>-1.0750324309728803</td>\n",
       "\t\t<td>-1.8296058666058783</td>\n",
       "\t\t<td>-0.7515858029421676</td>\n",
       "\t\t<td>-1.1565075189316207</td>\n",
       "\t\t<td>-1.3061881482360485</td>\n",
       "\t\t<td>-1.7891278556771548</td>\n",
       "\t\t<td>1.9509002230590153</td>\n",
       "\t\t<td>-0.939709503930307</td>\n",
       "\t\t<td>-1.2464472464272665</td>\n",
       "\t</tr>\n",
       "</table></html>"
      ],
      "text/plain": [
       "    cnt  holiday  id   instant    season        yr      mnth   weekday  workingday  weathersit      temp     atemp       hum  windspeed    casual  registered\n",
       "0  4191        0  28 -1.127488 -0.464433 -0.941291 -0.741976 -1.607875   -1.829606    1.058572  0.505335  0.510935  1.276512   0.077918  2.096443   -0.759905\n",
       "1  1406        0  17 -1.596095 -1.350135 -0.941291 -1.597973  0.523494    0.546566   -0.751586 -1.737910 -1.921401 -1.153159   1.559958 -1.366345   -1.459545\n",
       "2  5532        0  27  1.651681  1.306972  1.062370  1.540684  0.523494    0.546566   -0.751586 -1.033767 -1.051973 -1.043239  -0.168635 -0.564850    0.890817\n",
       "3  4390        0  67 -0.686718  0.421270 -0.941291  0.114022  0.523494    0.546566   -0.751586  1.568549  1.652173 -0.347314  -0.108700 -0.189991    0.059170\n",
       "4  7592        0  78  0.992846  0.421270  1.062370  0.114022 -0.542190    0.546566   -0.751586  1.415661  1.449529  0.164459   0.340816  0.915947    1.736294\n",
       "5  7363        0  70  0.807259 -0.464433  1.062370 -0.171311  0.523494    0.546566   -0.751586  0.863867  0.951413 -0.445100   0.915652  0.998789    1.567199\n",
       "6  4105        0  55 -1.039334 -0.464433 -0.941291 -0.456643  1.056336    0.546566    1.058572  0.132807  0.162072  1.651241  -0.092354 -0.011881   -0.174043\n",
       "7  3372        0  75  0.426805 -0.464433  1.062370 -1.027308  1.589178   -1.829606    1.058572  0.078973  0.115961  1.808984   0.086091  0.694345   -0.849167\n",
       "8  7693        0  33  1.419697  1.306972  1.062370  0.970019 -0.009348    0.546566   -0.751586  0.536559  0.552798  0.030270  -1.548513  0.201436    2.016653\n",
       "9  1951        1  76  0.046352 -1.350135  1.062370 -1.597973 -1.075032   -1.829606   -0.751586 -1.156508 -1.306188 -1.789128   1.950900 -0.939710   -1.246447"
      ]
     },
     "metadata": {},
     "output_type": "display_data"
    },
    {
     "name": "stdout",
     "output_type": "stream",
     "text": [
      "                                                                                                 \r"
     ]
    },
    {
     "data": {
      "text/html": [
       "146 rows X 16 columns"
      ],
      "text/plain": [
       "<IPython.core.display.HTML object>"
      ]
     },
     "metadata": {},
     "output_type": "display_data"
    },
    {
     "name": "stdout",
     "output_type": "stream",
     "text": [
      "                                                                                                 \r"
     ]
    },
    {
     "name": "stderr",
     "output_type": "stream",
     "text": [
      "C:\\ProgramData\\anaconda3\\lib\\site-packages\\sklearn\\base.py:450: UserWarning: X does not have valid feature names, but PCA was fitted with feature names\n",
      "  warnings.warn(\n"
     ]
    },
    {
     "data": {
      "text/html": [
       "\n",
       "Updated dataset after performing PCA feature selection :"
      ],
      "text/plain": [
       "<IPython.core.display.HTML object>"
      ]
     },
     "metadata": {},
     "output_type": "display_data"
    },
    {
     "data": {
      "text/html": [
       "<div>\n",
       "<style scoped>\n",
       "    .dataframe tbody tr th:only-of-type {\n",
       "        vertical-align: middle;\n",
       "    }\n",
       "\n",
       "    .dataframe tbody tr th {\n",
       "        vertical-align: top;\n",
       "    }\n",
       "\n",
       "    .dataframe thead th {\n",
       "        text-align: right;\n",
       "    }\n",
       "</style>\n",
       "<table border=\"1\" class=\"dataframe\">\n",
       "  <thead>\n",
       "    <tr style=\"text-align: right;\">\n",
       "      <th></th>\n",
       "      <th>id</th>\n",
       "      <th>col_0</th>\n",
       "      <th>col_1</th>\n",
       "      <th>col_2</th>\n",
       "      <th>col_3</th>\n",
       "      <th>col_4</th>\n",
       "      <th>col_5</th>\n",
       "      <th>col_6</th>\n",
       "      <th>col_7</th>\n",
       "      <th>cnt</th>\n",
       "    </tr>\n",
       "  </thead>\n",
       "  <tbody>\n",
       "    <tr>\n",
       "      <th>0</th>\n",
       "      <td>48</td>\n",
       "      <td>1.549541</td>\n",
       "      <td>-2.060313</td>\n",
       "      <td>-0.896741</td>\n",
       "      <td>2.120916</td>\n",
       "      <td>0.911481</td>\n",
       "      <td>1.659889</td>\n",
       "      <td>-0.143206</td>\n",
       "      <td>0.626630</td>\n",
       "      <td>3249</td>\n",
       "    </tr>\n",
       "    <tr>\n",
       "      <th>1</th>\n",
       "      <td>78</td>\n",
       "      <td>-2.967555</td>\n",
       "      <td>-0.930678</td>\n",
       "      <td>0.316360</td>\n",
       "      <td>-0.999358</td>\n",
       "      <td>0.301397</td>\n",
       "      <td>0.515577</td>\n",
       "      <td>0.300726</td>\n",
       "      <td>-0.503007</td>\n",
       "      <td>7592</td>\n",
       "    </tr>\n",
       "    <tr>\n",
       "      <th>2</th>\n",
       "      <td>28</td>\n",
       "      <td>0.449699</td>\n",
       "      <td>-0.434053</td>\n",
       "      <td>-2.565962</td>\n",
       "      <td>0.697933</td>\n",
       "      <td>2.462018</td>\n",
       "      <td>1.483616</td>\n",
       "      <td>-0.102398</td>\n",
       "      <td>0.330057</td>\n",
       "      <td>4191</td>\n",
       "    </tr>\n",
       "    <tr>\n",
       "      <th>3</th>\n",
       "      <td>67</td>\n",
       "      <td>-0.940903</td>\n",
       "      <td>-1.097118</td>\n",
       "      <td>-1.729816</td>\n",
       "      <td>-0.699271</td>\n",
       "      <td>-1.204323</td>\n",
       "      <td>-0.330034</td>\n",
       "      <td>0.303547</td>\n",
       "      <td>-0.137761</td>\n",
       "      <td>4390</td>\n",
       "    </tr>\n",
       "    <tr>\n",
       "      <th>4</th>\n",
       "      <td>17</td>\n",
       "      <td>4.382121</td>\n",
       "      <td>-1.016717</td>\n",
       "      <td>0.974362</td>\n",
       "      <td>-0.389911</td>\n",
       "      <td>-1.009721</td>\n",
       "      <td>-0.370278</td>\n",
       "      <td>0.778019</td>\n",
       "      <td>-0.237619</td>\n",
       "      <td>1406</td>\n",
       "    </tr>\n",
       "    <tr>\n",
       "      <th>5</th>\n",
       "      <td>44</td>\n",
       "      <td>-0.057484</td>\n",
       "      <td>0.499234</td>\n",
       "      <td>-1.097921</td>\n",
       "      <td>2.399737</td>\n",
       "      <td>-0.084773</td>\n",
       "      <td>1.871280</td>\n",
       "      <td>0.753292</td>\n",
       "      <td>-0.717229</td>\n",
       "      <td>3071</td>\n",
       "    </tr>\n",
       "    <tr>\n",
       "      <th>6</th>\n",
       "      <td>33</td>\n",
       "      <td>-3.180386</td>\n",
       "      <td>0.343570</td>\n",
       "      <td>1.029732</td>\n",
       "      <td>0.216507</td>\n",
       "      <td>-0.843768</td>\n",
       "      <td>-0.083777</td>\n",
       "      <td>-1.168080</td>\n",
       "      <td>-0.136876</td>\n",
       "      <td>7693</td>\n",
       "    </tr>\n",
       "    <tr>\n",
       "      <th>7</th>\n",
       "      <td>55</td>\n",
       "      <td>0.811275</td>\n",
       "      <td>0.849932</td>\n",
       "      <td>-1.702447</td>\n",
       "      <td>-1.096986</td>\n",
       "      <td>0.326659</td>\n",
       "      <td>-1.182149</td>\n",
       "      <td>-0.331628</td>\n",
       "      <td>-0.285415</td>\n",
       "      <td>4105</td>\n",
       "    </tr>\n",
       "    <tr>\n",
       "      <th>8</th>\n",
       "      <td>35</td>\n",
       "      <td>1.391914</td>\n",
       "      <td>0.174048</td>\n",
       "      <td>2.687548</td>\n",
       "      <td>1.903804</td>\n",
       "      <td>1.073514</td>\n",
       "      <td>1.882209</td>\n",
       "      <td>2.053741</td>\n",
       "      <td>-0.939634</td>\n",
       "      <td>1796</td>\n",
       "    </tr>\n",
       "    <tr>\n",
       "      <th>9</th>\n",
       "      <td>70</td>\n",
       "      <td>-1.942140</td>\n",
       "      <td>-1.514083</td>\n",
       "      <td>0.908494</td>\n",
       "      <td>-1.032062</td>\n",
       "      <td>0.447139</td>\n",
       "      <td>-0.563208</td>\n",
       "      <td>0.687820</td>\n",
       "      <td>-0.388774</td>\n",
       "      <td>7363</td>\n",
       "    </tr>\n",
       "  </tbody>\n",
       "</table>\n",
       "</div>"
      ],
      "text/plain": [
       "   id     col_0     col_1     col_2     col_3     col_4     col_5     col_6  \\\n",
       "0  48  1.549541 -2.060313 -0.896741  2.120916  0.911481  1.659889 -0.143206   \n",
       "1  78 -2.967555 -0.930678  0.316360 -0.999358  0.301397  0.515577  0.300726   \n",
       "2  28  0.449699 -0.434053 -2.565962  0.697933  2.462018  1.483616 -0.102398   \n",
       "3  67 -0.940903 -1.097118 -1.729816 -0.699271 -1.204323 -0.330034  0.303547   \n",
       "4  17  4.382121 -1.016717  0.974362 -0.389911 -1.009721 -0.370278  0.778019   \n",
       "5  44 -0.057484  0.499234 -1.097921  2.399737 -0.084773  1.871280  0.753292   \n",
       "6  33 -3.180386  0.343570  1.029732  0.216507 -0.843768 -0.083777 -1.168080   \n",
       "7  55  0.811275  0.849932 -1.702447 -1.096986  0.326659 -1.182149 -0.331628   \n",
       "8  35  1.391914  0.174048  2.687548  1.903804  1.073514  1.882209  2.053741   \n",
       "9  70 -1.942140 -1.514083  0.908494 -1.032062  0.447139 -0.563208  0.687820   \n",
       "\n",
       "      col_7   cnt  \n",
       "0  0.626630  3249  \n",
       "1 -0.503007  7592  \n",
       "2  0.330057  4191  \n",
       "3 -0.137761  4390  \n",
       "4 -0.237619  1406  \n",
       "5 -0.717229  3071  \n",
       "6 -0.136876  7693  \n",
       "7 -0.285415  4105  \n",
       "8 -0.939634  1796  \n",
       "9 -0.388774  7363  "
      ]
     },
     "metadata": {},
     "output_type": "display_data"
    },
    {
     "name": "stdout",
     "output_type": "stream",
     "text": [
      "                                                                                                 \r"
     ]
    },
    {
     "data": {
      "text/html": [
       "10 rows X 10 columns"
      ],
      "text/plain": [
       "<IPython.core.display.HTML object>"
      ]
     },
     "metadata": {},
     "output_type": "display_data"
    },
    {
     "name": "stdout",
     "output_type": "stream",
     "text": [
      "Data Transformation completed.⫿⫿⫿⫿⫿⫿⫿⫿⫿⫿⫿⫿⫿⫿⫿⫿⫿⫿⫿⫿⫿⫿⫿⫿⫿⫿⫿⫿⫿⫿⫿⫿⫿⫿⫿⫿⫿⫿⫿⫿⫿⫿｜ 100% - 10/10           \n",
      "\n",
      "Following model is being picked for evaluation:\n",
      "Model ID : GLM_1 \n",
      "Feature Selection Method : rfe\n",
      "\n",
      "Prediction : \n",
      "   id   prediction   cnt\n",
      "0  17  1406.638968  1406\n",
      "1  44  3071.485388  3071\n",
      "2  62  2368.351557  2368\n",
      "3  28  4191.576492  4191\n",
      "4  55  4105.084918  4105\n",
      "5  75  3372.500233  3372\n",
      "6  33  7691.956983  7693\n",
      "7  76  1951.564850  1951\n",
      "8  67  4389.947228  4390\n",
      "9  22  5114.799076  5115\n"
     ]
    }
   ],
   "source": [
    "# Generating prediction on test data\n",
    "prediction = aml.predict(bike_df_test)"
   ]
  },
  {
   "cell_type": "code",
   "execution_count": 23,
   "id": "cc4f6a78-1cdf-4938-a9f1-22035d8404ca",
   "metadata": {},
   "outputs": [
    {
     "data": {
      "text/html": [
       "<style type=\"text/css\">\n",
       "\ttable {border:ridge 5px;}\n",
       "\ttable td {border:inset 1px;}\n",
       "\ttable tr#HeaderRow {background-color:grey; color:white;}</style>\n",
       "<html><table>\n",
       "\t<tr id=\"HeaderRow\">\n",
       "\t\t<th>id</th>\n",
       "\t\t<th>prediction</th>\n",
       "\t\t<th>cnt</th>\n",
       "\t</tr>\n",
       "\t<tr>\n",
       "\t\t<td>10</td>\n",
       "\t\t<td>3376.0270507433133</td>\n",
       "\t\t<td>3376</td>\n",
       "\t</tr>\n",
       "\t<tr>\n",
       "\t\t<td>12</td>\n",
       "\t\t<td>4334.378791912346</td>\n",
       "\t\t<td>4334</td>\n",
       "\t</tr>\n",
       "\t<tr>\n",
       "\t\t<td>13</td>\n",
       "\t\t<td>4067.9530807805827</td>\n",
       "\t\t<td>4068</td>\n",
       "\t</tr>\n",
       "\t<tr>\n",
       "\t\t<td>14</td>\n",
       "\t\t<td>7108.893190111565</td>\n",
       "\t\t<td>7109</td>\n",
       "\t</tr>\n",
       "\t<tr>\n",
       "\t\t<td>16</td>\n",
       "\t\t<td>2294.6777149216177</td>\n",
       "\t\t<td>2294</td>\n",
       "\t</tr>\n",
       "\t<tr>\n",
       "\t\t<td>17</td>\n",
       "\t\t<td>1406.6389681888404</td>\n",
       "\t\t<td>1406</td>\n",
       "\t</tr>\n",
       "\t<tr>\n",
       "\t\t<td>15</td>\n",
       "\t\t<td>4791.920160545047</td>\n",
       "\t\t<td>4792</td>\n",
       "\t</tr>\n",
       "\t<tr>\n",
       "\t\t<td>11</td>\n",
       "\t\t<td>4401.0666823172405</td>\n",
       "\t\t<td>4401</td>\n",
       "\t</tr>\n",
       "\t<tr>\n",
       "\t\t<td>9</td>\n",
       "\t\t<td>4906.328473711045</td>\n",
       "\t\t<td>4906</td>\n",
       "\t</tr>\n",
       "\t<tr>\n",
       "\t\t<td>8</td>\n",
       "\t\t<td>6397.6164476644035</td>\n",
       "\t\t<td>6398</td>\n",
       "\t</tr>\n",
       "</table></html>"
      ],
      "text/plain": [
       "   id   prediction   cnt\n",
       "0  10  3376.027051  3376\n",
       "1  12  4334.378792  4334\n",
       "2  13  4067.953081  4068\n",
       "3  14  7108.893190  7109\n",
       "4  16  2294.677715  2294\n",
       "5  17  1406.638968  1406\n",
       "6  15  4791.920161  4792\n",
       "7  11  4401.066682  4401\n",
       "8   9  4906.328474  4906\n",
       "9   8  6397.616448  6398"
      ]
     },
     "execution_count": 23,
     "metadata": {},
     "output_type": "execute_result"
    }
   ],
   "source": [
    "# Printing prediction\n",
    "prediction.head()"
   ]
  },
  {
   "cell_type": "code",
   "execution_count": 24,
   "id": "648b66ef-33dc-40c4-9e41-a8a58a09b286",
   "metadata": {},
   "outputs": [
    {
     "name": "stdout",
     "output_type": "stream",
     "text": [
      "\n",
      "Skipping data transformation as data is already transformed.\n",
      "\n",
      "Following model is being picked for evaluation:\n",
      "Model ID : GLM_1 \n",
      "Feature Selection Method : rfe\n",
      "\n",
      "Performance Metrics : \n",
      "        MAE       MSE          MSLE      MAPE       MPE      RMSE     RMSLE        ME   R2   EV       MPD           MGD\n",
      "0  0.390525  0.218552  8.143716e-08  0.014589 -0.009538  0.467495  0.000285  1.043017  1.0  1.0  0.000094  8.162014e-08\n"
     ]
    }
   ],
   "source": [
    "# Fetching performance metrics on test data\n",
    "performance_metrics = aml.evaluate(bike_df_test)"
   ]
  },
  {
   "cell_type": "code",
   "execution_count": 25,
   "id": "3c73b6c2-6a5b-407a-9f4f-7797f1197375",
   "metadata": {},
   "outputs": [
    {
     "data": {
      "text/html": [
       "<style type=\"text/css\">\n",
       "\ttable {border:ridge 5px;}\n",
       "\ttable td {border:inset 1px;}\n",
       "\ttable tr#HeaderRow {background-color:grey; color:white;}</style>\n",
       "<html><table>\n",
       "\t<tr id=\"HeaderRow\">\n",
       "\t\t<th>MAE</th>\n",
       "\t\t<th>MSE</th>\n",
       "\t\t<th>MSLE</th>\n",
       "\t\t<th>MAPE</th>\n",
       "\t\t<th>MPE</th>\n",
       "\t\t<th>RMSE</th>\n",
       "\t\t<th>RMSLE</th>\n",
       "\t\t<th>ME</th>\n",
       "\t\t<th>R2</th>\n",
       "\t\t<th>EV</th>\n",
       "\t\t<th>MPD</th>\n",
       "\t\t<th>MGD</th>\n",
       "\t</tr>\n",
       "\t<tr>\n",
       "\t\t<td>0.3905249212093918</td>\n",
       "\t\t<td>0.218552018317463</td>\n",
       "\t\t<td>8.143715695232421e-08</td>\n",
       "\t\t<td>0.014589396042942297</td>\n",
       "\t\t<td>-0.009537511867249918</td>\n",
       "\t\t<td>0.4674954741144164</td>\n",
       "\t\t<td>0.0002853719624495795</td>\n",
       "\t\t<td>1.043017094130846</td>\n",
       "\t\t<td>0.9999999373217967</td>\n",
       "\t\t<td>0.9999999386675118</td>\n",
       "\t\t<td>9.376015750043335e-05</td>\n",
       "\t\t<td>8.162013808809032e-08</td>\n",
       "\t</tr>\n",
       "</table></html>"
      ],
      "text/plain": [
       "        MAE       MSE          MSLE      MAPE       MPE      RMSE     RMSLE        ME   R2   EV       MPD           MGD\n",
       "0  0.390525  0.218552  8.143716e-08  0.014589 -0.009538  0.467495  0.000285  1.043017  1.0  1.0  0.000094  8.162014e-08"
      ]
     },
     "execution_count": 25,
     "metadata": {},
     "output_type": "execute_result"
    }
   ],
   "source": [
    "performance_metrics"
   ]
  },
  {
   "cell_type": "code",
   "execution_count": 26,
   "id": "ec2774f9-deae-47ca-95ec-930ed508d88d",
   "metadata": {},
   "outputs": [
    {
     "name": "stdout",
     "output_type": "stream",
     "text": [
      "\n",
      "Skipping data transformation as data is already transformed.\n",
      "\n",
      "Following model is being picked for evaluation:\n",
      "Model ID : DECISIONFOREST_0 \n",
      "Feature Selection Method : lasso\n",
      "\n",
      "Prediction : \n",
      "    id   prediction  confidence_lower  confidence_upper   cnt\n",
      "0   78  7474.906250       7474.906250       7474.906250  7592\n",
      "1   55  4564.594203       4564.594203       4564.594203  4105\n",
      "2   75  3946.000000       3946.000000       3946.000000  3372\n",
      "3   44  3424.636364       3424.636364       3424.636364  3071\n",
      "4   33  7474.906250       7474.906250       7474.906250  7693\n",
      "5   76  2068.838710       2068.838710       2068.838710  1951\n",
      "6   67  3841.725806       3841.725806       3841.725806  4390\n",
      "7   22  5185.403226       5185.403226       5185.403226  5115\n",
      "8   28  3946.000000       3946.000000       3946.000000  4191\n",
      "9  121  6558.000000       6558.000000       6558.000000  6889\n"
     ]
    }
   ],
   "source": [
    "# Generating prediction on test data\n",
    "prediction = aml.predict(bike_df_test, 3)"
   ]
  },
  {
   "cell_type": "code",
   "execution_count": 27,
   "id": "10b648f8-55c3-4bc3-b1a7-f77a333b859a",
   "metadata": {},
   "outputs": [
    {
     "data": {
      "text/html": [
       "<style type=\"text/css\">\n",
       "\ttable {border:ridge 5px;}\n",
       "\ttable td {border:inset 1px;}\n",
       "\ttable tr#HeaderRow {background-color:grey; color:white;}</style>\n",
       "<html><table>\n",
       "\t<tr id=\"HeaderRow\">\n",
       "\t\t<th>id</th>\n",
       "\t\t<th>prediction</th>\n",
       "\t\t<th>confidence_lower</th>\n",
       "\t\t<th>confidence_upper</th>\n",
       "\t\t<th>cnt</th>\n",
       "\t</tr>\n",
       "\t<tr>\n",
       "\t\t<td>10</td>\n",
       "\t\t<td>3841.7258064516127</td>\n",
       "\t\t<td>3841.7258064516127</td>\n",
       "\t\t<td>3841.7258064516127</td>\n",
       "\t\t<td>3376</td>\n",
       "\t</tr>\n",
       "\t<tr>\n",
       "\t\t<td>12</td>\n",
       "\t\t<td>3946.0</td>\n",
       "\t\t<td>3946.0</td>\n",
       "\t\t<td>3946.0</td>\n",
       "\t\t<td>4334</td>\n",
       "\t</tr>\n",
       "\t<tr>\n",
       "\t\t<td>13</td>\n",
       "\t\t<td>3841.7258064516127</td>\n",
       "\t\t<td>3841.7258064516127</td>\n",
       "\t\t<td>3841.7258064516127</td>\n",
       "\t\t<td>4068</td>\n",
       "\t</tr>\n",
       "\t<tr>\n",
       "\t\t<td>14</td>\n",
       "\t\t<td>6558.0</td>\n",
       "\t\t<td>6558.0</td>\n",
       "\t\t<td>6558.0</td>\n",
       "\t\t<td>7109</td>\n",
       "\t</tr>\n",
       "\t<tr>\n",
       "\t\t<td>16</td>\n",
       "\t\t<td>2068.8387096774195</td>\n",
       "\t\t<td>2068.8387096774195</td>\n",
       "\t\t<td>2068.8387096774195</td>\n",
       "\t\t<td>2294</td>\n",
       "\t</tr>\n",
       "\t<tr>\n",
       "\t\t<td>17</td>\n",
       "\t\t<td>1520.5416666666667</td>\n",
       "\t\t<td>1520.5416666666667</td>\n",
       "\t\t<td>1520.5416666666667</td>\n",
       "\t\t<td>1406</td>\n",
       "\t</tr>\n",
       "\t<tr>\n",
       "\t\t<td>15</td>\n",
       "\t\t<td>4564.594202898551</td>\n",
       "\t\t<td>4564.594202898551</td>\n",
       "\t\t<td>4564.594202898551</td>\n",
       "\t\t<td>4792</td>\n",
       "\t</tr>\n",
       "\t<tr>\n",
       "\t\t<td>11</td>\n",
       "\t\t<td>4564.594202898551</td>\n",
       "\t\t<td>4564.594202898551</td>\n",
       "\t\t<td>4564.594202898551</td>\n",
       "\t\t<td>4401</td>\n",
       "\t</tr>\n",
       "\t<tr>\n",
       "\t\t<td>9</td>\n",
       "\t\t<td>4564.594202898551</td>\n",
       "\t\t<td>4564.594202898551</td>\n",
       "\t\t<td>4564.594202898551</td>\n",
       "\t\t<td>4906</td>\n",
       "\t</tr>\n",
       "\t<tr>\n",
       "\t\t<td>8</td>\n",
       "\t\t<td>5185.403225806452</td>\n",
       "\t\t<td>5185.403225806452</td>\n",
       "\t\t<td>5185.403225806452</td>\n",
       "\t\t<td>6398</td>\n",
       "\t</tr>\n",
       "</table></html>"
      ],
      "text/plain": [
       "   id   prediction  confidence_lower  confidence_upper   cnt\n",
       "0  10  3841.725806       3841.725806       3841.725806  3376\n",
       "1  12  3946.000000       3946.000000       3946.000000  4334\n",
       "2  13  3841.725806       3841.725806       3841.725806  4068\n",
       "3  14  6558.000000       6558.000000       6558.000000  7109\n",
       "4  16  2068.838710       2068.838710       2068.838710  2294\n",
       "5  17  1520.541667       1520.541667       1520.541667  1406\n",
       "6  15  4564.594203       4564.594203       4564.594203  4792\n",
       "7  11  4564.594203       4564.594203       4564.594203  4401\n",
       "8   9  4564.594203       4564.594203       4564.594203  4906\n",
       "9   8  5185.403226       5185.403226       5185.403226  6398"
      ]
     },
     "execution_count": 27,
     "metadata": {},
     "output_type": "execute_result"
    }
   ],
   "source": [
    "# Printing prediction\n",
    "prediction.head()"
   ]
  },
  {
   "cell_type": "code",
   "execution_count": 28,
   "id": "98e09415-1309-4f50-ba38-2ca7a798c596",
   "metadata": {},
   "outputs": [
    {
     "name": "stdout",
     "output_type": "stream",
     "text": [
      "\n",
      "Skipping data transformation as data is already transformed.\n",
      "\n",
      "Following model is being picked for evaluation:\n",
      "Model ID : DECISIONFOREST_0 \n",
      "Feature Selection Method : lasso\n",
      "\n",
      "Performance Metrics : \n",
      "          MAE            MSE      MSLE       MAPE       MPE        RMSE     RMSLE           ME        R2        EV        MPD       MGD\n",
      "0  353.528167  221518.902292  0.031226  10.380074  0.008998  470.657946  0.176707  1691.277778  0.936471  0.939345  60.128183  0.037845\n"
     ]
    }
   ],
   "source": [
    "# Fetching performance metrics on test data\n",
    "performance_metrics = aml.evaluate(bike_df_test, 3)"
   ]
  },
  {
   "cell_type": "code",
   "execution_count": 29,
   "id": "ba4fd5db-b6d9-4d24-a1d5-6b023d02ef4b",
   "metadata": {},
   "outputs": [
    {
     "data": {
      "text/html": [
       "<style type=\"text/css\">\n",
       "\ttable {border:ridge 5px;}\n",
       "\ttable td {border:inset 1px;}\n",
       "\ttable tr#HeaderRow {background-color:grey; color:white;}</style>\n",
       "<html><table>\n",
       "\t<tr id=\"HeaderRow\">\n",
       "\t\t<th>MAE</th>\n",
       "\t\t<th>MSE</th>\n",
       "\t\t<th>MSLE</th>\n",
       "\t\t<th>MAPE</th>\n",
       "\t\t<th>MPE</th>\n",
       "\t\t<th>RMSE</th>\n",
       "\t\t<th>RMSLE</th>\n",
       "\t\t<th>ME</th>\n",
       "\t\t<th>R2</th>\n",
       "\t\t<th>EV</th>\n",
       "\t\t<th>MPD</th>\n",
       "\t\t<th>MGD</th>\n",
       "\t</tr>\n",
       "\t<tr>\n",
       "\t\t<td>353.5281673667799</td>\n",
       "\t\t<td>221518.90229241224</td>\n",
       "\t\t<td>0.031225528907547442</td>\n",
       "\t\t<td>10.38007352563336</td>\n",
       "\t\t<td>0.0089979685888608</td>\n",
       "\t\t<td>470.6579461694153</td>\n",
       "\t\t<td>0.17670746703958903</td>\n",
       "\t\t<td>1691.2777777777774</td>\n",
       "\t\t<td>0.9364709285200594</td>\n",
       "\t\t<td>0.9393445528689115</td>\n",
       "\t\t<td>60.12818347063235</td>\n",
       "\t\t<td>0.03784507427402046</td>\n",
       "\t</tr>\n",
       "</table></html>"
      ],
      "text/plain": [
       "          MAE            MSE      MSLE       MAPE       MPE        RMSE     RMSLE           ME        R2        EV        MPD       MGD\n",
       "0  353.528167  221518.902292  0.031226  10.380074  0.008998  470.657946  0.176707  1691.277778  0.936471  0.939345  60.128183  0.037845"
      ]
     },
     "execution_count": 29,
     "metadata": {},
     "output_type": "execute_result"
    }
   ],
   "source": [
    "performance_metrics"
   ]
  },
  {
   "cell_type": "code",
   "execution_count": 32,
   "id": "3f7a99e1-3f65-4004-81e2-df5f86a37b52",
   "metadata": {},
   "outputs": [
    {
     "data": {
      "text/plain": [
       "True"
      ]
     },
     "execution_count": 32,
     "metadata": {},
     "output_type": "execute_result"
    }
   ],
   "source": [
    "remove_context()"
   ]
  },
  {
   "cell_type": "code",
   "execution_count": null,
   "id": "c692ca9e-aeb9-47ae-b2be-062ce0f94447",
   "metadata": {},
   "outputs": [],
   "source": []
  }
 ],
 "metadata": {
  "kernelspec": {
   "display_name": "Python 3 (ipykernel)",
   "language": "python",
   "name": "python3"
  },
  "language_info": {
   "codemirror_mode": {
    "name": "ipython",
    "version": 3
   },
   "file_extension": ".py",
   "mimetype": "text/x-python",
   "name": "python",
   "nbconvert_exporter": "python",
   "pygments_lexer": "ipython3",
   "version": "3.10.9"
  }
 },
 "nbformat": 4,
 "nbformat_minor": 5
}
