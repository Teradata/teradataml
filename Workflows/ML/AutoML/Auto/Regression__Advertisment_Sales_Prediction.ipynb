{
 "cells": [
  {
   "cell_type": "markdown",
   "id": "2762f1d8-5a66-411f-a625-34cf16ac6dd3",
   "metadata": {},
   "source": [
    "# <b><span style='color:#F1A424'>AutoML - Regression - Advertisment Sales Prediction </span> </b>"
   ]
  },
  {
   "cell_type": "markdown",
   "id": "237d9b7a-20db-4afb-b0aa-ead9ae9cec31",
   "metadata": {},
   "source": [
    "### Disclaimer\n",
    "Please note, the Vantage Functions via SQLAlchemy feature is a preview/beta code release with limited functionality (the “Code”). As such, you acknowledge that the Code is experimental in nature and that the Code is provided “AS IS” and may not be functional on any machine or in any environment. TERADATA DISCLAIMS ALL WARRANTIES RELATING TO THE CODE, EXPRESS OR IMPLIED, INCLUDING, BUT NOT LIMITED TO, ANY WARRANTIES AGAINST INFRINGEMENT OF THIRD-PARTY RIGHTS, MERCHANTABILITY AND FITNESS FOR A PARTICULAR PURPOSE.\n",
    "\n",
    "TERADATA SHALL NOT BE RESPONSIBLE OR LIABLE WITH RESPECT TO ANY SUBJECT MATTER OF THE CODE UNDER ANY CONTRACT, NEGLIGENCE, STRICT LIABILITY OR OTHER THEORY \n",
    "    (A) FOR LOSS OR INACCURACY OF DATA OR COST OF PROCUREMENT OF SUBSTITUTE GOODS, SERVICES OR TECHNOLOGY, OR \n",
    "    (B) FOR ANY INDIRECT, INCIDENTAL OR CONSEQUENTIAL DAMAGES INCLUDING, BUT NOT LIMITED TO LOSS OF REVENUES AND LOSS OF PROFITS. TERADATA SHALL NOT BE RESPONSIBLE FOR ANY MATTER BEYOND ITS REASONABLE CONTROL.\n",
    "\n",
    "Notwithstanding anything to the contrary: \n",
    "    (a) Teradata will have no obligation of any kind with respect to any Code-related comments, suggestions, design changes or improvements that you elect to provide to Teradata in either verbal or written form (collectively, “Feedback”), and \n",
    "    (b) Teradata and its affiliates are hereby free to use any ideas, concepts, know-how or techniques, in whole or in part, contained in Feedback: \n",
    "        (i) for any purpose whatsoever, including developing, manufacturing, and/or marketing products and/or services incorporating Feedback in whole or in part, and \n",
    "        (ii) without any restrictions or limitations, including requiring the payment of any license fees, royalties, or other consideration. "
   ]
  },
  {
   "cell_type": "markdown",
   "id": "f225fb94-b2c8-4c92-af38-733d08e0e2a1",
   "metadata": {},
   "source": [
    "## <b> Problem overview:</b>\n",
    "    "
   ]
  },
  {
   "cell_type": "markdown",
   "id": "af9813eb-9c44-4968-a5fe-d1c74415c894",
   "metadata": {},
   "source": [
    "**Dataset Used : Advertising Sales Dataset**\n",
    "\n",
    "**Features**:\n",
    "\n",
    "- `TV`: Advertising done on TV.\n",
    "- `Radio`: Advertising done on Radio.\n",
    "- `Newspapaer`: Advertising done on Newspaper.\n",
    "\n",
    "**Target Variable**:\n",
    "\n",
    "- `Sales`: The Sales received after advertisement.\n",
    "    \n",
    "**Objective**:\n",
    "\n",
    "The primary objective is typically to build a model that can accurately predict sales received based on advertisement.\n",
    "\n",
    "**Usecase**:\n",
    "\n",
    "Here, we will use AutoML(Automated Machine Learning) functionality to automate the entire process of developing a predictive model. It will perform feature exploration, feature engineering, data preparation, model training and evaluation on dataset in auto run and at end we will get leaderboard containined different models along with their performance. Model will also have rank associated with them which indicates which is best performing model for given data followed by other models."
   ]
  },
  {
   "cell_type": "code",
   "execution_count": 1,
   "id": "66568348-4d00-477c-a071-17995f797c95",
   "metadata": {},
   "outputs": [],
   "source": [
    "# Importing AutoML from teradataml\n",
    "from teradataml import AutoML, AutoRegressor"
   ]
  },
  {
   "cell_type": "code",
   "execution_count": 2,
   "id": "17dfae70-0401-4cc4-ba1c-400a5cf62451",
   "metadata": {},
   "outputs": [],
   "source": [
    "# Importing other important libraries\n",
    "import getpass\n",
    "from teradataml import create_context, remove_context\n",
    "from teradataml import DataFrame\n",
    "from teradataml import load_example_data\n",
    "from teradataml import TrainTestSplit"
   ]
  },
  {
   "cell_type": "code",
   "execution_count": 3,
   "id": "cadd9ed2-42d6-4899-b23e-4e2cf601162f",
   "metadata": {},
   "outputs": [
    {
     "name": "stdin",
     "output_type": "stream",
     "text": [
      "Host:  ········\n",
      "Username:  ········\n",
      "Password:  ········\n"
     ]
    }
   ],
   "source": [
    "# Create the connection.\n",
    "host = getpass.getpass(\"Host: \")\n",
    "username = getpass.getpass(\"Username: \")\n",
    "password = getpass.getpass(\"Password: \")\n",
    "\n",
    "con = create_context(host=host, username=username, password=password)"
   ]
  },
  {
   "cell_type": "markdown",
   "id": "be767a89-d5b8-4876-91cb-36980754586e",
   "metadata": {},
   "source": [
    "## <b><span style='color:#F1A424'>| 1.</span> Loading Dataset </b>"
   ]
  },
  {
   "cell_type": "code",
   "execution_count": 4,
   "id": "f1592c52-b247-4792-be2a-30b49bbeb9b6",
   "metadata": {},
   "outputs": [],
   "source": [
    "# Loading dataset from example data collection\n",
    "load_example_data('teradataml','advertising')"
   ]
  },
  {
   "cell_type": "code",
   "execution_count": 5,
   "id": "3846ae0f-004b-4b8e-9fea-06fac4294065",
   "metadata": {},
   "outputs": [],
   "source": [
    "# Fetching in teradata dataframe\n",
    "advertising_df = DataFrame(\"advertising\")"
   ]
  },
  {
   "cell_type": "code",
   "execution_count": 6,
   "id": "442ccd80-b444-413e-970d-d855ec3d6cae",
   "metadata": {},
   "outputs": [
    {
     "data": {
      "text/html": [
       "<style type=\"text/css\">\n",
       "\ttable {border:ridge 5px;}\n",
       "\ttable td {border:inset 1px;}\n",
       "\ttable tr#HeaderRow {background-color:grey; color:white;}</style>\n",
       "<html><table>\n",
       "\t<tr id=\"HeaderRow\">\n",
       "\t\t<th>TV</th>\n",
       "\t\t<th>radio</th>\n",
       "\t\t<th>newspaper</th>\n",
       "\t\t<th>sales</th>\n",
       "\t</tr>\n",
       "\t<tr>\n",
       "\t\t<td>5.4</td>\n",
       "\t\t<td>29.9</td>\n",
       "\t\t<td>9.4</td>\n",
       "\t\t<td>5.3</td>\n",
       "\t</tr>\n",
       "\t<tr>\n",
       "\t\t<td>7.8</td>\n",
       "\t\t<td>38.9</td>\n",
       "\t\t<td>50.6</td>\n",
       "\t\t<td>6.6</td>\n",
       "\t</tr>\n",
       "\t<tr>\n",
       "\t\t<td>8.4</td>\n",
       "\t\t<td>27.2</td>\n",
       "\t\t<td>2.1</td>\n",
       "\t\t<td>5.7</td>\n",
       "\t</tr>\n",
       "\t<tr>\n",
       "\t\t<td>8.6</td>\n",
       "\t\t<td>2.1</td>\n",
       "\t\t<td>1.0</td>\n",
       "\t\t<td>4.8</td>\n",
       "\t</tr>\n",
       "\t<tr>\n",
       "\t\t<td>11.7</td>\n",
       "\t\t<td>36.9</td>\n",
       "\t\t<td>45.2</td>\n",
       "\t\t<td>7.3</td>\n",
       "\t</tr>\n",
       "\t<tr>\n",
       "\t\t<td>13.1</td>\n",
       "\t\t<td>0.4</td>\n",
       "\t\t<td>25.6</td>\n",
       "\t\t<td>5.3</td>\n",
       "\t</tr>\n",
       "\t<tr>\n",
       "\t\t<td>8.7</td>\n",
       "\t\t<td>48.9</td>\n",
       "\t\t<td>75.0</td>\n",
       "\t\t<td>7.2</td>\n",
       "\t</tr>\n",
       "\t<tr>\n",
       "\t\t<td>7.3</td>\n",
       "\t\t<td>28.1</td>\n",
       "\t\t<td>41.4</td>\n",
       "\t\t<td>5.5</td>\n",
       "\t</tr>\n",
       "\t<tr>\n",
       "\t\t<td>4.1</td>\n",
       "\t\t<td>11.6</td>\n",
       "\t\t<td>5.7</td>\n",
       "\t\t<td>3.2</td>\n",
       "\t</tr>\n",
       "\t<tr>\n",
       "\t\t<td>0.7</td>\n",
       "\t\t<td>39.6</td>\n",
       "\t\t<td>8.7</td>\n",
       "\t\t<td>1.6</td>\n",
       "\t</tr>\n",
       "</table></html>"
      ],
      "text/plain": [
       "      radio  newspaper  sales\n",
       "TV                           \n",
       "5.4    29.9        9.4    5.3\n",
       "7.8    38.9       50.6    6.6\n",
       "8.4    27.2        2.1    5.7\n",
       "8.6     2.1        1.0    4.8\n",
       "11.7   36.9       45.2    7.3\n",
       "13.1    0.4       25.6    5.3\n",
       "8.7    48.9       75.0    7.2\n",
       "7.3    28.1       41.4    5.5\n",
       "4.1    11.6        5.7    3.2\n",
       "0.7    39.6        8.7    1.6"
      ]
     },
     "execution_count": 6,
     "metadata": {},
     "output_type": "execute_result"
    }
   ],
   "source": [
    "# first 5 rows\n",
    "advertising_df.head()"
   ]
  },
  {
   "cell_type": "code",
   "execution_count": 7,
   "id": "636c220d-d12f-4ea5-ab2b-c9203ef00d49",
   "metadata": {},
   "outputs": [
    {
     "data": {
      "text/plain": [
       "(200, 4)"
      ]
     },
     "execution_count": 7,
     "metadata": {},
     "output_type": "execute_result"
    }
   ],
   "source": [
    "# advertising_df dataset\n",
    "advertising_df.shape"
   ]
  },
  {
   "cell_type": "code",
   "execution_count": 8,
   "id": "e5d1fad7-8784-4d7a-be1f-7be1d3991d8f",
   "metadata": {},
   "outputs": [],
   "source": [
    "# Performing sampling to get 80% for trainning and 20% for testing\n",
    "advertising_df_sample = advertising_df.sample(frac = [0.8, 0.2])"
   ]
  },
  {
   "cell_type": "code",
   "execution_count": 9,
   "id": "a0e6891a-1b7e-4bac-97c8-350ba5f5bde4",
   "metadata": {},
   "outputs": [
    {
     "data": {
      "text/html": [
       "<style type=\"text/css\">\n",
       "\ttable {border:ridge 5px;}\n",
       "\ttable td {border:inset 1px;}\n",
       "\ttable tr#HeaderRow {background-color:grey; color:white;}</style>\n",
       "<html><table>\n",
       "\t<tr id=\"HeaderRow\">\n",
       "\t\t<th>TV</th>\n",
       "\t\t<th>radio</th>\n",
       "\t\t<th>newspaper</th>\n",
       "\t\t<th>sales</th>\n",
       "\t\t<th>sampleid</th>\n",
       "\t</tr>\n",
       "\t<tr>\n",
       "\t\t<td>5.4</td>\n",
       "\t\t<td>29.9</td>\n",
       "\t\t<td>9.4</td>\n",
       "\t\t<td>5.3</td>\n",
       "\t\t<td>1</td>\n",
       "\t</tr>\n",
       "\t<tr>\n",
       "\t\t<td>7.8</td>\n",
       "\t\t<td>38.9</td>\n",
       "\t\t<td>50.6</td>\n",
       "\t\t<td>6.6</td>\n",
       "\t\t<td>1</td>\n",
       "\t</tr>\n",
       "\t<tr>\n",
       "\t\t<td>8.4</td>\n",
       "\t\t<td>27.2</td>\n",
       "\t\t<td>2.1</td>\n",
       "\t\t<td>5.7</td>\n",
       "\t\t<td>1</td>\n",
       "\t</tr>\n",
       "\t<tr>\n",
       "\t\t<td>8.6</td>\n",
       "\t\t<td>2.1</td>\n",
       "\t\t<td>1.0</td>\n",
       "\t\t<td>4.8</td>\n",
       "\t\t<td>1</td>\n",
       "\t</tr>\n",
       "\t<tr>\n",
       "\t\t<td>11.7</td>\n",
       "\t\t<td>36.9</td>\n",
       "\t\t<td>45.2</td>\n",
       "\t\t<td>7.3</td>\n",
       "\t\t<td>1</td>\n",
       "\t</tr>\n",
       "\t<tr>\n",
       "\t\t<td>13.1</td>\n",
       "\t\t<td>0.4</td>\n",
       "\t\t<td>25.6</td>\n",
       "\t\t<td>5.3</td>\n",
       "\t\t<td>1</td>\n",
       "\t</tr>\n",
       "\t<tr>\n",
       "\t\t<td>8.7</td>\n",
       "\t\t<td>48.9</td>\n",
       "\t\t<td>75.0</td>\n",
       "\t\t<td>7.2</td>\n",
       "\t\t<td>1</td>\n",
       "\t</tr>\n",
       "\t<tr>\n",
       "\t\t<td>7.3</td>\n",
       "\t\t<td>28.1</td>\n",
       "\t\t<td>41.4</td>\n",
       "\t\t<td>5.5</td>\n",
       "\t\t<td>2</td>\n",
       "\t</tr>\n",
       "\t<tr>\n",
       "\t\t<td>4.1</td>\n",
       "\t\t<td>11.6</td>\n",
       "\t\t<td>5.7</td>\n",
       "\t\t<td>3.2</td>\n",
       "\t\t<td>1</td>\n",
       "\t</tr>\n",
       "\t<tr>\n",
       "\t\t<td>0.7</td>\n",
       "\t\t<td>39.6</td>\n",
       "\t\t<td>8.7</td>\n",
       "\t\t<td>1.6</td>\n",
       "\t\t<td>1</td>\n",
       "\t</tr>\n",
       "</table></html>"
      ],
      "text/plain": [
       "      radio  newspaper  sales  sampleid\n",
       "TV                                     \n",
       "5.4    29.9        9.4    5.3         1\n",
       "7.8    38.9       50.6    6.6         1\n",
       "8.4    27.2        2.1    5.7         1\n",
       "8.6     2.1        1.0    4.8         1\n",
       "11.7   36.9       45.2    7.3         1\n",
       "13.1    0.4       25.6    5.3         1\n",
       "8.7    48.9       75.0    7.2         1\n",
       "7.3    28.1       41.4    5.5         2\n",
       "4.1    11.6        5.7    3.2         1\n",
       "0.7    39.6        8.7    1.6         1"
      ]
     },
     "execution_count": 9,
     "metadata": {},
     "output_type": "execute_result"
    }
   ],
   "source": [
    "advertising_df_sample.head()"
   ]
  },
  {
   "cell_type": "code",
   "execution_count": 10,
   "id": "5e3e5923-18ad-4cf6-b4e5-e87f8854700b",
   "metadata": {},
   "outputs": [],
   "source": [
    "# Fetching train and test data\n",
    "advertising_df_train= advertising_df_sample[advertising_df_sample['sampleid'] == 1].drop('sampleid', axis=1)\n",
    "advertising_df_test = advertising_df_sample[advertising_df_sample['sampleid'] == 2].drop('sampleid', axis=1)"
   ]
  },
  {
   "cell_type": "code",
   "execution_count": 11,
   "id": "83d72a72-3fac-4862-b374-d21ab59be1a6",
   "metadata": {},
   "outputs": [
    {
     "data": {
      "text/plain": [
       "(160, 4)"
      ]
     },
     "execution_count": 11,
     "metadata": {},
     "output_type": "execute_result"
    }
   ],
   "source": [
    "# train data shape\n",
    "advertising_df_train.shape"
   ]
  },
  {
   "cell_type": "code",
   "execution_count": 12,
   "id": "b22be730-8a7a-40f3-8e2a-cabd8d1f427f",
   "metadata": {},
   "outputs": [
    {
     "data": {
      "text/plain": [
       "(40, 4)"
      ]
     },
     "execution_count": 12,
     "metadata": {},
     "output_type": "execute_result"
    }
   ],
   "source": [
    "# test data shape\n",
    "advertising_df_test.shape"
   ]
  },
  {
   "cell_type": "code",
   "execution_count": 13,
   "id": "18473df2-be15-4e1e-bc5e-739abacf8b89",
   "metadata": {},
   "outputs": [
    {
     "data": {
      "text/html": [
       "<style type=\"text/css\">\n",
       "\ttable {border:ridge 5px;}\n",
       "\ttable td {border:inset 1px;}\n",
       "\ttable tr#HeaderRow {background-color:grey; color:white;}</style>\n",
       "<html><table>\n",
       "\t<tr id=\"HeaderRow\">\n",
       "\t\t<th>TV</th>\n",
       "\t\t<th>radio</th>\n",
       "\t\t<th>newspaper</th>\n",
       "\t\t<th>sales</th>\n",
       "\t</tr>\n",
       "\t<tr>\n",
       "\t\t<td>5.4</td>\n",
       "\t\t<td>29.9</td>\n",
       "\t\t<td>9.4</td>\n",
       "\t\t<td>5.3</td>\n",
       "\t</tr>\n",
       "\t<tr>\n",
       "\t\t<td>8.4</td>\n",
       "\t\t<td>27.2</td>\n",
       "\t\t<td>2.1</td>\n",
       "\t\t<td>5.7</td>\n",
       "\t</tr>\n",
       "\t<tr>\n",
       "\t\t<td>8.6</td>\n",
       "\t\t<td>2.1</td>\n",
       "\t\t<td>1.0</td>\n",
       "\t\t<td>4.8</td>\n",
       "\t</tr>\n",
       "\t<tr>\n",
       "\t\t<td>8.7</td>\n",
       "\t\t<td>48.9</td>\n",
       "\t\t<td>75.0</td>\n",
       "\t\t<td>7.2</td>\n",
       "\t</tr>\n",
       "\t<tr>\n",
       "\t\t<td>13.1</td>\n",
       "\t\t<td>0.4</td>\n",
       "\t\t<td>25.6</td>\n",
       "\t\t<td>5.3</td>\n",
       "\t</tr>\n",
       "\t<tr>\n",
       "\t\t<td>13.2</td>\n",
       "\t\t<td>15.9</td>\n",
       "\t\t<td>49.6</td>\n",
       "\t\t<td>5.6</td>\n",
       "\t</tr>\n",
       "\t<tr>\n",
       "\t\t<td>11.7</td>\n",
       "\t\t<td>36.9</td>\n",
       "\t\t<td>45.2</td>\n",
       "\t\t<td>7.3</td>\n",
       "\t</tr>\n",
       "\t<tr>\n",
       "\t\t<td>7.8</td>\n",
       "\t\t<td>38.9</td>\n",
       "\t\t<td>50.6</td>\n",
       "\t\t<td>6.6</td>\n",
       "\t</tr>\n",
       "\t<tr>\n",
       "\t\t<td>4.1</td>\n",
       "\t\t<td>11.6</td>\n",
       "\t\t<td>5.7</td>\n",
       "\t\t<td>3.2</td>\n",
       "\t</tr>\n",
       "\t<tr>\n",
       "\t\t<td>0.7</td>\n",
       "\t\t<td>39.6</td>\n",
       "\t\t<td>8.7</td>\n",
       "\t\t<td>1.6</td>\n",
       "\t</tr>\n",
       "</table></html>"
      ],
      "text/plain": [
       "      radio  newspaper  sales\n",
       "TV                           \n",
       "5.4    29.9        9.4    5.3\n",
       "8.4    27.2        2.1    5.7\n",
       "8.6     2.1        1.0    4.8\n",
       "8.7    48.9       75.0    7.2\n",
       "13.1    0.4       25.6    5.3\n",
       "13.2   15.9       49.6    5.6\n",
       "11.7   36.9       45.2    7.3\n",
       "7.8    38.9       50.6    6.6\n",
       "4.1    11.6        5.7    3.2\n",
       "0.7    39.6        8.7    1.6"
      ]
     },
     "execution_count": 13,
     "metadata": {},
     "output_type": "execute_result"
    }
   ],
   "source": [
    "#train dataset\n",
    "advertising_df_train.head()"
   ]
  },
  {
   "cell_type": "code",
   "execution_count": 14,
   "id": "58c9d763-4f19-449e-a35b-676d4d026acc",
   "metadata": {},
   "outputs": [
    {
     "data": {
      "text/html": [
       "<style type=\"text/css\">\n",
       "\ttable {border:ridge 5px;}\n",
       "\ttable td {border:inset 1px;}\n",
       "\ttable tr#HeaderRow {background-color:grey; color:white;}</style>\n",
       "<html><table>\n",
       "\t<tr id=\"HeaderRow\">\n",
       "\t\t<th>TV</th>\n",
       "\t\t<th>radio</th>\n",
       "\t\t<th>newspaper</th>\n",
       "\t\t<th>sales</th>\n",
       "\t</tr>\n",
       "\t<tr>\n",
       "\t\t<td>23.8</td>\n",
       "\t\t<td>35.1</td>\n",
       "\t\t<td>65.9</td>\n",
       "\t\t<td>9.2</td>\n",
       "\t</tr>\n",
       "\t<tr>\n",
       "\t\t<td>25.6</td>\n",
       "\t\t<td>39.0</td>\n",
       "\t\t<td>9.3</td>\n",
       "\t\t<td>9.5</td>\n",
       "\t</tr>\n",
       "\t<tr>\n",
       "\t\t<td>28.6</td>\n",
       "\t\t<td>1.5</td>\n",
       "\t\t<td>33.0</td>\n",
       "\t\t<td>7.3</td>\n",
       "\t</tr>\n",
       "\t<tr>\n",
       "\t\t<td>43.1</td>\n",
       "\t\t<td>26.7</td>\n",
       "\t\t<td>35.1</td>\n",
       "\t\t<td>10.1</td>\n",
       "\t</tr>\n",
       "\t<tr>\n",
       "\t\t<td>68.4</td>\n",
       "\t\t<td>44.5</td>\n",
       "\t\t<td>35.6</td>\n",
       "\t\t<td>13.6</td>\n",
       "\t</tr>\n",
       "\t<tr>\n",
       "\t\t<td>74.7</td>\n",
       "\t\t<td>49.4</td>\n",
       "\t\t<td>45.7</td>\n",
       "\t\t<td>14.7</td>\n",
       "\t</tr>\n",
       "\t<tr>\n",
       "\t\t<td>48.3</td>\n",
       "\t\t<td>47.0</td>\n",
       "\t\t<td>8.5</td>\n",
       "\t\t<td>11.6</td>\n",
       "\t</tr>\n",
       "\t<tr>\n",
       "\t\t<td>25.1</td>\n",
       "\t\t<td>25.7</td>\n",
       "\t\t<td>43.3</td>\n",
       "\t\t<td>8.5</td>\n",
       "\t</tr>\n",
       "\t<tr>\n",
       "\t\t<td>17.2</td>\n",
       "\t\t<td>45.9</td>\n",
       "\t\t<td>69.3</td>\n",
       "\t\t<td>12.0</td>\n",
       "\t</tr>\n",
       "\t<tr>\n",
       "\t\t<td>7.3</td>\n",
       "\t\t<td>28.1</td>\n",
       "\t\t<td>41.4</td>\n",
       "\t\t<td>5.5</td>\n",
       "\t</tr>\n",
       "</table></html>"
      ],
      "text/plain": [
       "      radio  newspaper  sales\n",
       "TV                           \n",
       "23.8   35.1       65.9    9.2\n",
       "25.6   39.0        9.3    9.5\n",
       "28.6    1.5       33.0    7.3\n",
       "43.1   26.7       35.1   10.1\n",
       "68.4   44.5       35.6   13.6\n",
       "74.7   49.4       45.7   14.7\n",
       "48.3   47.0        8.5   11.6\n",
       "25.1   25.7       43.3    8.5\n",
       "17.2   45.9       69.3   12.0\n",
       "7.3    28.1       41.4    5.5"
      ]
     },
     "execution_count": 14,
     "metadata": {},
     "output_type": "execute_result"
    }
   ],
   "source": [
    "# test dataset\n",
    "advertising_df_test.head()"
   ]
  },
  {
   "cell_type": "markdown",
   "id": "856ea871-93d8-4ea2-b524-1acb23bd7eb5",
   "metadata": {},
   "source": [
    "## <b><span style='color:#F1A424'>| 2.</span> Fitting AutoML </b>"
   ]
  },
  {
   "cell_type": "code",
   "execution_count": 15,
   "id": "f3650aa5-a408-4227-a88d-79c0f3d36d3c",
   "metadata": {},
   "outputs": [],
   "source": [
    "# Creating AutoRegressor instance\n",
    "# Using all models from model training.\n",
    "# Keeping early stopping timer threshold to 500 sec and max_models to 6\n",
    "# and verbose level 2 for detailed loggging\n",
    "\n",
    "aml = AutoRegressor(max_runtime_secs=500,\n",
    "                    max_models=6,\n",
    "                    verbose=2)"
   ]
  },
  {
   "cell_type": "code",
   "execution_count": 17,
   "id": "a1b7a771-1bfa-40c9-8ad0-c377d320c137",
   "metadata": {},
   "outputs": [
    {
     "data": {
      "text/html": [
       "\n",
       "            <style>\n",
       "                .custom-div {\n",
       "                    background-color: lightgray;\n",
       "                    color: #000000;\n",
       "                    padding: 10px;\n",
       "                    border-radius: 8px;\n",
       "                    box-shadow: 0 3px 4px rgba(0, 0, 0, 0.2);\n",
       "                    margin-bottom: 10px;\n",
       "                    text-align: center;\n",
       "                }\n",
       "            </style>\n",
       "        <br><div class=\"custom-div\"><h3><span style=\"color: green;\"></span>1. Feature Exploration -> 2. Feature Engineering -> 3. Data Preparation -> 4. Model Training & Evaluation<center></h3></center></div>"
      ],
      "text/plain": [
       "<IPython.core.display.HTML object>"
      ]
     },
     "metadata": {},
     "output_type": "display_data"
    },
    {
     "name": "stdout",
     "output_type": "stream",
     "text": [
      "Feature Exploration started ...\n",
      "\n",
      "Data Overview:\n",
      "Total Rows in the data: 160\n",
      "Total Columns in the data: 4\n",
      "\n",
      "Column Summary:\n"
     ]
    },
    {
     "data": {
      "text/html": [
       "<style type=\"text/css\">\n",
       "\ttable {border:ridge 5px;}\n",
       "\ttable td {border:inset 1px;}\n",
       "\ttable tr#HeaderRow {background-color:grey; color:white;}</style>\n",
       "<html><table>\n",
       "\t<tr id=\"HeaderRow\">\n",
       "\t\t<th>ColumnName</th>\n",
       "\t\t<th>Datatype</th>\n",
       "\t\t<th>NonNullCount</th>\n",
       "\t\t<th>NullCount</th>\n",
       "\t\t<th>BlankCount</th>\n",
       "\t\t<th>ZeroCount</th>\n",
       "\t\t<th>PositiveCount</th>\n",
       "\t\t<th>NegativeCount</th>\n",
       "\t\t<th>NullPercentage</th>\n",
       "\t\t<th>NonNullPercentage</th>\n",
       "\t</tr>\n",
       "\t<tr>\n",
       "\t\t<td>sales</td>\n",
       "\t\t<td>FLOAT</td>\n",
       "\t\t<td>160</td>\n",
       "\t\t<td>0</td>\n",
       "\t\t<td>None</td>\n",
       "\t\t<td>0</td>\n",
       "\t\t<td>160</td>\n",
       "\t\t<td>0</td>\n",
       "\t\t<td>0.0</td>\n",
       "\t\t<td>100.0</td>\n",
       "\t</tr>\n",
       "\t<tr>\n",
       "\t\t<td>TV</td>\n",
       "\t\t<td>FLOAT</td>\n",
       "\t\t<td>160</td>\n",
       "\t\t<td>0</td>\n",
       "\t\t<td>None</td>\n",
       "\t\t<td>0</td>\n",
       "\t\t<td>160</td>\n",
       "\t\t<td>0</td>\n",
       "\t\t<td>0.0</td>\n",
       "\t\t<td>100.0</td>\n",
       "\t</tr>\n",
       "\t<tr>\n",
       "\t\t<td>newspaper</td>\n",
       "\t\t<td>FLOAT</td>\n",
       "\t\t<td>160</td>\n",
       "\t\t<td>0</td>\n",
       "\t\t<td>None</td>\n",
       "\t\t<td>0</td>\n",
       "\t\t<td>160</td>\n",
       "\t\t<td>0</td>\n",
       "\t\t<td>0.0</td>\n",
       "\t\t<td>100.0</td>\n",
       "\t</tr>\n",
       "\t<tr>\n",
       "\t\t<td>radio</td>\n",
       "\t\t<td>FLOAT</td>\n",
       "\t\t<td>160</td>\n",
       "\t\t<td>0</td>\n",
       "\t\t<td>None</td>\n",
       "\t\t<td>1</td>\n",
       "\t\t<td>159</td>\n",
       "\t\t<td>0</td>\n",
       "\t\t<td>0.0</td>\n",
       "\t\t<td>100.0</td>\n",
       "\t</tr>\n",
       "</table></html>"
      ],
      "text/plain": [
       "  ColumnName Datatype  NonNullCount  NullCount BlankCount  ZeroCount  PositiveCount  NegativeCount  NullPercentage  NonNullPercentage\n",
       "0      sales    FLOAT           160          0       None          0            160              0             0.0              100.0\n",
       "1         TV    FLOAT           160          0       None          0            160              0             0.0              100.0\n",
       "2  newspaper    FLOAT           160          0       None          0            160              0             0.0              100.0\n",
       "3      radio    FLOAT           160          0       None          1            159              0             0.0              100.0"
      ]
     },
     "metadata": {},
     "output_type": "display_data"
    },
    {
     "name": "stdout",
     "output_type": "stream",
     "text": [
      "\n",
      "Statistics of Data:\n"
     ]
    },
    {
     "data": {
      "text/html": [
       "<style type=\"text/css\">\n",
       "\ttable {border:ridge 5px;}\n",
       "\ttable td {border:inset 1px;}\n",
       "\ttable tr#HeaderRow {background-color:grey; color:white;}</style>\n",
       "<html><table>\n",
       "\t<tr id=\"HeaderRow\">\n",
       "\t\t<th>func</th>\n",
       "\t\t<th>TV</th>\n",
       "\t\t<th>radio</th>\n",
       "\t\t<th>newspaper</th>\n",
       "\t\t<th>sales</th>\n",
       "\t</tr>\n",
       "\t<tr>\n",
       "\t\t<td>std</td>\n",
       "\t\t<td>87.014</td>\n",
       "\t\t<td>15.136</td>\n",
       "\t\t<td>21.848</td>\n",
       "\t\t<td>5.499</td>\n",
       "\t</tr>\n",
       "\t<tr>\n",
       "\t\t<td>25%</td>\n",
       "\t\t<td>72.7</td>\n",
       "\t\t<td>9.3</td>\n",
       "\t\t<td>14.65</td>\n",
       "\t\t<td>10.975</td>\n",
       "\t</tr>\n",
       "\t<tr>\n",
       "\t\t<td>50%</td>\n",
       "\t\t<td>163.4</td>\n",
       "\t\t<td>21.2</td>\n",
       "\t\t<td>26.5</td>\n",
       "\t\t<td>16.25</td>\n",
       "\t</tr>\n",
       "\t<tr>\n",
       "\t\t<td>75%</td>\n",
       "\t\t<td>220.35</td>\n",
       "\t\t<td>36.9</td>\n",
       "\t\t<td>46.05</td>\n",
       "\t\t<td>19.1</td>\n",
       "\t</tr>\n",
       "\t<tr>\n",
       "\t\t<td>max</td>\n",
       "\t\t<td>296.4</td>\n",
       "\t\t<td>49.6</td>\n",
       "\t\t<td>114</td>\n",
       "\t\t<td>27</td>\n",
       "\t</tr>\n",
       "\t<tr>\n",
       "\t\t<td>min</td>\n",
       "\t\t<td>0.7</td>\n",
       "\t\t<td>0</td>\n",
       "\t\t<td>0.9</td>\n",
       "\t\t<td>1.6</td>\n",
       "\t</tr>\n",
       "\t<tr>\n",
       "\t\t<td>mean</td>\n",
       "\t\t<td>149.596</td>\n",
       "\t\t<td>22.878</td>\n",
       "\t\t<td>31.652</td>\n",
       "\t\t<td>15.23</td>\n",
       "\t</tr>\n",
       "\t<tr>\n",
       "\t\t<td>count</td>\n",
       "\t\t<td>160</td>\n",
       "\t\t<td>160</td>\n",
       "\t\t<td>160</td>\n",
       "\t\t<td>160</td>\n",
       "\t</tr>\n",
       "</table></html>"
      ],
      "text/plain": [
       "            TV    radio  newspaper    sales\n",
       "func                                       \n",
       "std     87.014   15.136     21.848    5.499\n",
       "25%     72.700    9.300     14.650   10.975\n",
       "50%    163.400   21.200     26.500   16.250\n",
       "75%    220.350   36.900     46.050   19.100\n",
       "max    296.400   49.600    114.000   27.000\n",
       "min      0.700    0.000      0.900    1.600\n",
       "mean   149.596   22.878     31.652   15.230\n",
       "count  160.000  160.000    160.000  160.000"
      ]
     },
     "metadata": {},
     "output_type": "display_data"
    },
    {
     "name": "stdout",
     "output_type": "stream",
     "text": [
      "\n",
      "Target Column Distribution:\n"
     ]
    },
    {
     "data": {
      "image/png": "[encoded data removed]",
      "text/plain": [
       "<Figure size 800x600 with 1 Axes>"
      ]
     },
     "metadata": {},
     "output_type": "display_data"
    },
    {
     "name": "stdout",
     "output_type": "stream",
     "text": [
      "Columns with outlier percentage :-                                                                                                                                                                                                                                                                                                                                                                                                                                                                                  \n",
      "  ColumnName  OutlierPercentage\n",
      "0  newspaper               1.25\n",
      "                                                                                        \r"
     ]
    },
    {
     "data": {
      "text/html": [
       "\n",
       "            <style>\n",
       "                .custom-div {\n",
       "                    background-color: lightgray;\n",
       "                    color: #000000;\n",
       "                    padding: 10px;\n",
       "                    border-radius: 8px;\n",
       "                    box-shadow: 0 3px 4px rgba(0 -  0 -  0 -  0.2);\n",
       "                    margin-bottom: 10px;\n",
       "                    text-align: center;\n",
       "                }\n",
       "            </style>\n",
       "        <br><div class=\"custom-div\"><h3><span style=\"color: green;\">1. Feature Exploration -></span> 2. Feature Engineering -> 3. Data Preparation -> 4. Model Training & Evaluation<center></h3></center></div>"
      ],
      "text/plain": [
       "<IPython.core.display.HTML object>"
      ]
     },
     "metadata": {},
     "output_type": "display_data"
    },
    {
     "name": "stdout",
     "output_type": "stream",
     "text": [
      "                                                                                        \r"
     ]
    },
    {
     "data": {
      "text/html": [
       "Feature Engineering started ..."
      ],
      "text/plain": [
       "<IPython.core.display.HTML object>"
      ]
     },
     "metadata": {},
     "output_type": "display_data"
    },
    {
     "name": "stdout",
     "output_type": "stream",
     "text": [
      "                                                                                        \r"
     ]
    },
    {
     "data": {
      "text/html": [
       "\n",
       "Handling duplicate records present in dataset ..."
      ],
      "text/plain": [
       "<IPython.core.display.HTML object>"
      ]
     },
     "metadata": {},
     "output_type": "display_data"
    },
    {
     "name": "stdout",
     "output_type": "stream",
     "text": [
      "Analysis completed. No action taken.                                                    \n",
      "                                                                                        \r"
     ]
    },
    {
     "data": {
      "text/html": [
       "Total time to handle duplicate records: 1.65 sec  "
      ],
      "text/plain": [
       "<IPython.core.display.HTML object>"
      ]
     },
     "metadata": {},
     "output_type": "display_data"
    },
    {
     "name": "stdout",
     "output_type": "stream",
     "text": [
      "                                                                                        \r"
     ]
    },
    {
     "data": {
      "text/html": [
       "\n",
       "Handling less significant features from data ..."
      ],
      "text/plain": [
       "<IPython.core.display.HTML object>"
      ]
     },
     "metadata": {},
     "output_type": "display_data"
    },
    {
     "name": "stdout",
     "output_type": "stream",
     "text": [
      "                                                                                        \r"
     ]
    },
    {
     "data": {
      "text/html": [
       "Total time to handle less significant features: 5.83 sec  "
      ],
      "text/plain": [
       "<IPython.core.display.HTML object>"
      ]
     },
     "metadata": {},
     "output_type": "display_data"
    },
    {
     "name": "stdout",
     "output_type": "stream",
     "text": [
      "                                                                                         \r"
     ]
    },
    {
     "data": {
      "text/html": [
       "\n",
       "Handling Date Features ..."
      ],
      "text/plain": [
       "<IPython.core.display.HTML object>"
      ]
     },
     "metadata": {},
     "output_type": "display_data"
    },
    {
     "name": "stdout",
     "output_type": "stream",
     "text": [
      "Analysis Completed. Dataset does not contain any feature related to dates. No action needed.\n",
      "                                                                                         \r"
     ]
    },
    {
     "data": {
      "text/html": [
       "Total time to handle date features: 0.00 sec\n"
      ],
      "text/plain": [
       "<IPython.core.display.HTML object>"
      ]
     },
     "metadata": {},
     "output_type": "display_data"
    },
    {
     "name": "stdout",
     "output_type": "stream",
     "text": [
      "                                                                                         \r"
     ]
    },
    {
     "data": {
      "text/html": [
       "\n",
       "Checking Missing values in dataset ..."
      ],
      "text/plain": [
       "<IPython.core.display.HTML object>"
      ]
     },
     "metadata": {},
     "output_type": "display_data"
    },
    {
     "name": "stdout",
     "output_type": "stream",
     "text": [
      "Analysis Completed. No Missing Values Detected.                                          \n",
      "                                                                                         \r"
     ]
    },
    {
     "data": {
      "text/html": [
       "Total time to find missing values in data: 7.80 sec  "
      ],
      "text/plain": [
       "<IPython.core.display.HTML object>"
      ]
     },
     "metadata": {},
     "output_type": "display_data"
    },
    {
     "name": "stdout",
     "output_type": "stream",
     "text": [
      "                                                                                         \r"
     ]
    },
    {
     "data": {
      "text/html": [
       "\n",
       "Imputing Missing Values ..."
      ],
      "text/plain": [
       "<IPython.core.display.HTML object>"
      ]
     },
     "metadata": {},
     "output_type": "display_data"
    },
    {
     "name": "stdout",
     "output_type": "stream",
     "text": [
      "Analysis completed. No imputation required.                                              \n",
      "                                                                                         \r"
     ]
    },
    {
     "data": {
      "text/html": [
       "Time taken to perform imputation: 0.01 sec  "
      ],
      "text/plain": [
       "<IPython.core.display.HTML object>"
      ]
     },
     "metadata": {},
     "output_type": "display_data"
    },
    {
     "name": "stdout",
     "output_type": "stream",
     "text": [
      "                                                                                         \r"
     ]
    },
    {
     "data": {
      "text/html": [
       "\n",
       "Performing encoding for categorical columns ..."
      ],
      "text/plain": [
       "<IPython.core.display.HTML object>"
      ]
     },
     "metadata": {},
     "output_type": "display_data"
    },
    {
     "name": "stdout",
     "output_type": "stream",
     "text": [
      "Analysis completed. No categorical columns were found.                                   \n",
      "                                                                                         \r"
     ]
    },
    {
     "data": {
      "text/html": [
       "Time taken to encode the columns: 1.43 sec"
      ],
      "text/plain": [
       "<IPython.core.display.HTML object>"
      ]
     },
     "metadata": {},
     "output_type": "display_data"
    },
    {
     "name": "stdout",
     "output_type": "stream",
     "text": [
      "                                                                                         \r"
     ]
    },
    {
     "data": {
      "text/html": [
       "\n",
       "            <style>\n",
       "                .custom-div {\n",
       "                    background-color: lightgray;\n",
       "                    color: #000000;\n",
       "                    padding: 10px;\n",
       "                    border-radius: 8px;\n",
       "                    box-shadow: 0 3px 4px rgba(0 -  0 -  0 -  0.2);\n",
       "                    margin-bottom: 10px;\n",
       "                    text-align: center;\n",
       "                }\n",
       "            </style>\n",
       "        <br><div class=\"custom-div\"><h3><span style=\"color: green;\">1. Feature Exploration -> 2. Feature Engineering -></span> 3. Data Preparation -> 4. Model Training & Evaluation<center></h3></center></div>"
      ],
      "text/plain": [
       "<IPython.core.display.HTML object>"
      ]
     },
     "metadata": {},
     "output_type": "display_data"
    },
    {
     "name": "stdout",
     "output_type": "stream",
     "text": [
      "                                                                                         \r"
     ]
    },
    {
     "data": {
      "text/html": [
       "Data preparation started ..."
      ],
      "text/plain": [
       "<IPython.core.display.HTML object>"
      ]
     },
     "metadata": {},
     "output_type": "display_data"
    },
    {
     "name": "stdout",
     "output_type": "stream",
     "text": [
      "                                                                                         \r"
     ]
    },
    {
     "data": {
      "text/html": [
       "\n",
       "Spliting of dataset into training and testing ..."
      ],
      "text/plain": [
       "<IPython.core.display.HTML object>"
      ]
     },
     "metadata": {},
     "output_type": "display_data"
    },
    {
     "name": "stdout",
     "output_type": "stream",
     "text": [
      "Training size : 0.8                                                                      \n",
      "Testing size  : 0.2                                                                      \n",
      "                                                                                         \r"
     ]
    },
    {
     "data": {
      "text/html": [
       "Training data sample"
      ],
      "text/plain": [
       "<IPython.core.display.HTML object>"
      ]
     },
     "metadata": {},
     "output_type": "display_data"
    },
    {
     "data": {
      "text/html": [
       "<style type=\"text/css\">\n",
       "\ttable {border:ridge 5px;}\n",
       "\ttable td {border:inset 1px;}\n",
       "\ttable tr#HeaderRow {background-color:grey; color:white;}</style>\n",
       "<html><table>\n",
       "\t<tr id=\"HeaderRow\">\n",
       "\t\t<th>TV</th>\n",
       "\t\t<th>radio</th>\n",
       "\t\t<th>newspaper</th>\n",
       "\t\t<th>sales</th>\n",
       "\t\t<th>id</th>\n",
       "\t</tr>\n",
       "\t<tr>\n",
       "\t\t<td>137.9</td>\n",
       "\t\t<td>46.4</td>\n",
       "\t\t<td>59.0</td>\n",
       "\t\t<td>15.0</td>\n",
       "\t\t<td>10</td>\n",
       "\t</tr>\n",
       "\t<tr>\n",
       "\t\t<td>149.7</td>\n",
       "\t\t<td>35.6</td>\n",
       "\t\t<td>6.0</td>\n",
       "\t\t<td>17.3</td>\n",
       "\t\t<td>12</td>\n",
       "\t</tr>\n",
       "\t<tr>\n",
       "\t\t<td>8.4</td>\n",
       "\t\t<td>27.2</td>\n",
       "\t\t<td>2.1</td>\n",
       "\t\t<td>5.7</td>\n",
       "\t\t<td>20</td>\n",
       "\t</tr>\n",
       "\t<tr>\n",
       "\t\t<td>220.3</td>\n",
       "\t\t<td>49.0</td>\n",
       "\t\t<td>3.2</td>\n",
       "\t\t<td>24.7</td>\n",
       "\t\t<td>9</td>\n",
       "\t</tr>\n",
       "\t<tr>\n",
       "\t\t<td>239.9</td>\n",
       "\t\t<td>41.5</td>\n",
       "\t\t<td>18.5</td>\n",
       "\t\t<td>23.2</td>\n",
       "\t\t<td>13</td>\n",
       "\t</tr>\n",
       "\t<tr>\n",
       "\t\t<td>227.2</td>\n",
       "\t\t<td>15.8</td>\n",
       "\t\t<td>49.9</td>\n",
       "\t\t<td>19.8</td>\n",
       "\t\t<td>21</td>\n",
       "\t</tr>\n",
       "\t<tr>\n",
       "\t\t<td>18.8</td>\n",
       "\t\t<td>21.7</td>\n",
       "\t\t<td>50.4</td>\n",
       "\t\t<td>7.0</td>\n",
       "\t\t<td>11</td>\n",
       "\t</tr>\n",
       "\t<tr>\n",
       "\t\t<td>276.7</td>\n",
       "\t\t<td>2.3</td>\n",
       "\t\t<td>23.7</td>\n",
       "\t\t<td>16.8</td>\n",
       "\t\t<td>19</td>\n",
       "\t</tr>\n",
       "\t<tr>\n",
       "\t\t<td>38.2</td>\n",
       "\t\t<td>3.7</td>\n",
       "\t\t<td>13.8</td>\n",
       "\t\t<td>7.6</td>\n",
       "\t\t<td>14</td>\n",
       "\t</tr>\n",
       "\t<tr>\n",
       "\t\t<td>165.6</td>\n",
       "\t\t<td>10.0</td>\n",
       "\t\t<td>17.6</td>\n",
       "\t\t<td>17.6</td>\n",
       "\t\t<td>22</td>\n",
       "\t</tr>\n",
       "</table></html>"
      ],
      "text/plain": [
       "      TV  radio  newspaper  sales  id\n",
       "0  137.9   46.4       59.0   15.0  10\n",
       "1  149.7   35.6        6.0   17.3  12\n",
       "2    8.4   27.2        2.1    5.7  20\n",
       "3  220.3   49.0        3.2   24.7   9\n",
       "4  239.9   41.5       18.5   23.2  13\n",
       "5  227.2   15.8       49.9   19.8  21\n",
       "6   18.8   21.7       50.4    7.0  11\n",
       "7  276.7    2.3       23.7   16.8  19\n",
       "8   38.2    3.7       13.8    7.6  14\n",
       "9  165.6   10.0       17.6   17.6  22"
      ]
     },
     "metadata": {},
     "output_type": "display_data"
    },
    {
     "name": "stdout",
     "output_type": "stream",
     "text": [
      "                                                                                         \r"
     ]
    },
    {
     "data": {
      "text/html": [
       "128 rows X 5 columns"
      ],
      "text/plain": [
       "<IPython.core.display.HTML object>"
      ]
     },
     "metadata": {},
     "output_type": "display_data"
    },
    {
     "name": "stdout",
     "output_type": "stream",
     "text": [
      "                                                                                         \r"
     ]
    },
    {
     "data": {
      "text/html": [
       "Testing data sample"
      ],
      "text/plain": [
       "<IPython.core.display.HTML object>"
      ]
     },
     "metadata": {},
     "output_type": "display_data"
    },
    {
     "data": {
      "text/html": [
       "<style type=\"text/css\">\n",
       "\ttable {border:ridge 5px;}\n",
       "\ttable td {border:inset 1px;}\n",
       "\ttable tr#HeaderRow {background-color:grey; color:white;}</style>\n",
       "<html><table>\n",
       "\t<tr id=\"HeaderRow\">\n",
       "\t\t<th>TV</th>\n",
       "\t\t<th>radio</th>\n",
       "\t\t<th>newspaper</th>\n",
       "\t\t<th>sales</th>\n",
       "\t\t<th>id</th>\n",
       "\t</tr>\n",
       "\t<tr>\n",
       "\t\t<td>39.5</td>\n",
       "\t\t<td>41.1</td>\n",
       "\t\t<td>5.8</td>\n",
       "\t\t<td>10.8</td>\n",
       "\t\t<td>26</td>\n",
       "\t</tr>\n",
       "\t<tr>\n",
       "\t\t<td>261.3</td>\n",
       "\t\t<td>42.7</td>\n",
       "\t\t<td>54.7</td>\n",
       "\t\t<td>24.2</td>\n",
       "\t\t<td>30</td>\n",
       "\t</tr>\n",
       "\t<tr>\n",
       "\t\t<td>206.8</td>\n",
       "\t\t<td>5.2</td>\n",
       "\t\t<td>19.4</td>\n",
       "\t\t<td>17.2</td>\n",
       "\t\t<td>126</td>\n",
       "\t</tr>\n",
       "\t<tr>\n",
       "\t\t<td>13.2</td>\n",
       "\t\t<td>15.9</td>\n",
       "\t\t<td>49.6</td>\n",
       "\t\t<td>5.6</td>\n",
       "\t\t<td>24</td>\n",
       "\t</tr>\n",
       "\t<tr>\n",
       "\t\t<td>110.7</td>\n",
       "\t\t<td>40.6</td>\n",
       "\t\t<td>63.2</td>\n",
       "\t\t<td>16.0</td>\n",
       "\t\t<td>127</td>\n",
       "\t</tr>\n",
       "\t<tr>\n",
       "\t\t<td>139.2</td>\n",
       "\t\t<td>14.3</td>\n",
       "\t\t<td>25.6</td>\n",
       "\t\t<td>12.2</td>\n",
       "\t\t<td>27</td>\n",
       "\t</tr>\n",
       "\t<tr>\n",
       "\t\t<td>44.5</td>\n",
       "\t\t<td>39.3</td>\n",
       "\t\t<td>45.1</td>\n",
       "\t\t<td>10.4</td>\n",
       "\t\t<td>115</td>\n",
       "\t</tr>\n",
       "\t<tr>\n",
       "\t\t<td>8.6</td>\n",
       "\t\t<td>2.1</td>\n",
       "\t\t<td>1.0</td>\n",
       "\t\t<td>4.8</td>\n",
       "\t\t<td>29</td>\n",
       "\t</tr>\n",
       "\t<tr>\n",
       "\t\t<td>283.6</td>\n",
       "\t\t<td>42.0</td>\n",
       "\t\t<td>66.2</td>\n",
       "\t\t<td>25.5</td>\n",
       "\t\t<td>125</td>\n",
       "\t</tr>\n",
       "\t<tr>\n",
       "\t\t<td>229.5</td>\n",
       "\t\t<td>32.3</td>\n",
       "\t\t<td>74.2</td>\n",
       "\t\t<td>19.7</td>\n",
       "\t\t<td>25</td>\n",
       "\t</tr>\n",
       "</table></html>"
      ],
      "text/plain": [
       "      TV  radio  newspaper  sales   id\n",
       "0   39.5   41.1        5.8   10.8   26\n",
       "1  261.3   42.7       54.7   24.2   30\n",
       "2  206.8    5.2       19.4   17.2  126\n",
       "3   13.2   15.9       49.6    5.6   24\n",
       "4  110.7   40.6       63.2   16.0  127\n",
       "5  139.2   14.3       25.6   12.2   27\n",
       "6   44.5   39.3       45.1   10.4  115\n",
       "7    8.6    2.1        1.0    4.8   29\n",
       "8  283.6   42.0       66.2   25.5  125\n",
       "9  229.5   32.3       74.2   19.7   25"
      ]
     },
     "metadata": {},
     "output_type": "display_data"
    },
    {
     "name": "stdout",
     "output_type": "stream",
     "text": [
      "                                                                                         \r"
     ]
    },
    {
     "data": {
      "text/html": [
       "32 rows X 5 columns"
      ],
      "text/plain": [
       "<IPython.core.display.HTML object>"
      ]
     },
     "metadata": {},
     "output_type": "display_data"
    },
    {
     "name": "stdout",
     "output_type": "stream",
     "text": [
      "                                                                                         \r"
     ]
    },
    {
     "data": {
      "text/html": [
       "Time taken for spliting of data: 11.20 sec  "
      ],
      "text/plain": [
       "<IPython.core.display.HTML object>"
      ]
     },
     "metadata": {},
     "output_type": "display_data"
    },
    {
     "name": "stdout",
     "output_type": "stream",
     "text": [
      "                                                                                         \r"
     ]
    },
    {
     "data": {
      "text/html": [
       "\n",
       "Outlier preprocessing ..."
      ],
      "text/plain": [
       "<IPython.core.display.HTML object>"
      ]
     },
     "metadata": {},
     "output_type": "display_data"
    },
    {
     "name": "stdout",
     "output_type": "stream",
     "text": [
      "Columns with outlier percentage :-                                                                                                                                                                                                                                                                                                                                                                                                                                                                                  \n",
      "  ColumnName  OutlierPercentage\n",
      "0  newspaper               1.25\n",
      "                                                                                         \r"
     ]
    },
    {
     "data": {
      "text/html": [
       "Deleting rows of these columns:"
      ],
      "text/plain": [
       "<IPython.core.display.HTML object>"
      ]
     },
     "metadata": {},
     "output_type": "display_data"
    },
    {
     "name": "stdout",
     "output_type": "stream",
     "text": [
      "['newspaper']\n",
      "result data stored in table '\"ALICE\".\"ml__td_sqlmr_persist_out__1719259323205894\"' - 7/19\n",
      "                                                                                         \r"
     ]
    },
    {
     "data": {
      "text/html": [
       "Sample of training dataset after removing outlier rows:"
      ],
      "text/plain": [
       "<IPython.core.display.HTML object>"
      ]
     },
     "metadata": {},
     "output_type": "display_data"
    },
    {
     "data": {
      "text/html": [
       "<style type=\"text/css\">\n",
       "\ttable {border:ridge 5px;}\n",
       "\ttable td {border:inset 1px;}\n",
       "\ttable tr#HeaderRow {background-color:grey; color:white;}</style>\n",
       "<html><table>\n",
       "\t<tr id=\"HeaderRow\">\n",
       "\t\t<th>TV</th>\n",
       "\t\t<th>radio</th>\n",
       "\t\t<th>newspaper</th>\n",
       "\t\t<th>sales</th>\n",
       "\t\t<th>id</th>\n",
       "\t</tr>\n",
       "\t<tr>\n",
       "\t\t<td>149.7</td>\n",
       "\t\t<td>35.6</td>\n",
       "\t\t<td>6.0</td>\n",
       "\t\t<td>17.3</td>\n",
       "\t\t<td>12</td>\n",
       "\t</tr>\n",
       "\t<tr>\n",
       "\t\t<td>187.9</td>\n",
       "\t\t<td>17.2</td>\n",
       "\t\t<td>17.9</td>\n",
       "\t\t<td>19.7</td>\n",
       "\t\t<td>8</td>\n",
       "\t</tr>\n",
       "\t<tr>\n",
       "\t\t<td>93.9</td>\n",
       "\t\t<td>43.5</td>\n",
       "\t\t<td>50.5</td>\n",
       "\t\t<td>15.3</td>\n",
       "\t\t<td>16</td>\n",
       "\t</tr>\n",
       "\t<tr>\n",
       "\t\t<td>239.9</td>\n",
       "\t\t<td>41.5</td>\n",
       "\t\t<td>18.5</td>\n",
       "\t\t<td>23.2</td>\n",
       "\t\t<td>13</td>\n",
       "\t</tr>\n",
       "\t<tr>\n",
       "\t\t<td>137.9</td>\n",
       "\t\t<td>46.4</td>\n",
       "\t\t<td>59.0</td>\n",
       "\t\t<td>15.0</td>\n",
       "\t\t<td>10</td>\n",
       "\t</tr>\n",
       "\t<tr>\n",
       "\t\t<td>210.7</td>\n",
       "\t\t<td>29.5</td>\n",
       "\t\t<td>9.3</td>\n",
       "\t\t<td>18.4</td>\n",
       "\t\t<td>18</td>\n",
       "\t</tr>\n",
       "\t<tr>\n",
       "\t\t<td>18.8</td>\n",
       "\t\t<td>21.7</td>\n",
       "\t\t<td>50.4</td>\n",
       "\t\t<td>7.0</td>\n",
       "\t\t<td>11</td>\n",
       "\t</tr>\n",
       "\t<tr>\n",
       "\t\t<td>276.7</td>\n",
       "\t\t<td>2.3</td>\n",
       "\t\t<td>23.7</td>\n",
       "\t\t<td>16.8</td>\n",
       "\t\t<td>19</td>\n",
       "\t</tr>\n",
       "\t<tr>\n",
       "\t\t<td>220.3</td>\n",
       "\t\t<td>49.0</td>\n",
       "\t\t<td>3.2</td>\n",
       "\t\t<td>24.7</td>\n",
       "\t\t<td>9</td>\n",
       "\t</tr>\n",
       "\t<tr>\n",
       "\t\t<td>5.4</td>\n",
       "\t\t<td>29.9</td>\n",
       "\t\t<td>9.4</td>\n",
       "\t\t<td>5.3</td>\n",
       "\t\t<td>17</td>\n",
       "\t</tr>\n",
       "</table></html>"
      ],
      "text/plain": [
       "       radio  newspaper  sales  id\n",
       "TV                                \n",
       "149.7   35.6        6.0   17.3  12\n",
       "187.9   17.2       17.9   19.7   8\n",
       "93.9    43.5       50.5   15.3  16\n",
       "239.9   41.5       18.5   23.2  13\n",
       "137.9   46.4       59.0   15.0  10\n",
       "210.7   29.5        9.3   18.4  18\n",
       "18.8    21.7       50.4    7.0  11\n",
       "276.7    2.3       23.7   16.8  19\n",
       "220.3   49.0        3.2   24.7   9\n",
       "5.4     29.9        9.4    5.3  17"
      ]
     },
     "metadata": {},
     "output_type": "display_data"
    },
    {
     "name": "stdout",
     "output_type": "stream",
     "text": [
      "                                                                                         \r"
     ]
    },
    {
     "data": {
      "text/html": [
       "126 rows X 5 columns"
      ],
      "text/plain": [
       "<IPython.core.display.HTML object>"
      ]
     },
     "metadata": {},
     "output_type": "display_data"
    },
    {
     "name": "stdout",
     "output_type": "stream",
     "text": [
      "                                                                                         \r"
     ]
    },
    {
     "data": {
      "text/html": [
       "Time Taken by Outlier processing: 33.02 sec "
      ],
      "text/plain": [
       "<IPython.core.display.HTML object>"
      ]
     },
     "metadata": {},
     "output_type": "display_data"
    },
    {
     "name": "stdout",
     "output_type": "stream",
     "text": [
      "result data stored in table '\"ALICE\".\"ml__td_sqlmr_persist_out__1719257897161040\"' - 8/19\n",
      "result data stored in table '\"ALICE\".\"ml__td_sqlmr_persist_out__1719258059000748\"'\n",
      "                                                                                          \r"
     ]
    },
    {
     "data": {
      "text/html": [
       "\n",
       "Feature selection using lasso ..."
      ],
      "text/plain": [
       "<IPython.core.display.HTML object>"
      ]
     },
     "metadata": {},
     "output_type": "display_data"
    },
    {
     "name": "stdout",
     "output_type": "stream",
     "text": [
      "                                                                                          \r"
     ]
    },
    {
     "data": {
      "text/html": [
       "feature selected by lasso:"
      ],
      "text/plain": [
       "<IPython.core.display.HTML object>"
      ]
     },
     "metadata": {},
     "output_type": "display_data"
    },
    {
     "name": "stdout",
     "output_type": "stream",
     "text": [
      "['TV', 'radio', 'newspaper']\n",
      "                                                                                          \r"
     ]
    },
    {
     "data": {
      "text/html": [
       "Total time taken by feature selection: 0.83 sec  "
      ],
      "text/plain": [
       "<IPython.core.display.HTML object>"
      ]
     },
     "metadata": {},
     "output_type": "display_data"
    },
    {
     "name": "stdout",
     "output_type": "stream",
     "text": [
      "                                                                                          \r"
     ]
    },
    {
     "data": {
      "text/html": [
       "\n",
       "scaling Features of lasso data ..."
      ],
      "text/plain": [
       "<IPython.core.display.HTML object>"
      ]
     },
     "metadata": {},
     "output_type": "display_data"
    },
    {
     "name": "stdout",
     "output_type": "stream",
     "text": [
      "                                                                                          \r"
     ]
    },
    {
     "data": {
      "text/html": [
       "columns that will be scaled: "
      ],
      "text/plain": [
       "<IPython.core.display.HTML object>"
      ]
     },
     "metadata": {},
     "output_type": "display_data"
    },
    {
     "name": "stdout",
     "output_type": "stream",
     "text": [
      "['TV', 'radio', 'newspaper']\n",
      "                                                                                          \r"
     ]
    },
    {
     "data": {
      "text/html": [
       "Training dataset sample after scaling:"
      ],
      "text/plain": [
       "<IPython.core.display.HTML object>"
      ]
     },
     "metadata": {},
     "output_type": "display_data"
    },
    {
     "data": {
      "text/html": [
       "<style type=\"text/css\">\n",
       "\ttable {border:ridge 5px;}\n",
       "\ttable td {border:inset 1px;}\n",
       "\ttable tr#HeaderRow {background-color:grey; color:white;}</style>\n",
       "<html><table>\n",
       "\t<tr id=\"HeaderRow\">\n",
       "\t\t<th>sales</th>\n",
       "\t\t<th>id</th>\n",
       "\t\t<th>TV</th>\n",
       "\t\t<th>radio</th>\n",
       "\t\t<th>newspaper</th>\n",
       "\t</tr>\n",
       "\t<tr>\n",
       "\t\t<td>15.0</td>\n",
       "\t\t<td>10</td>\n",
       "\t\t<td>-0.1447805004573944</td>\n",
       "\t\t<td>1.5813074813697783</td>\n",
       "\t\t<td>1.4557133488208975</td>\n",
       "\t</tr>\n",
       "\t<tr>\n",
       "\t\t<td>17.3</td>\n",
       "\t\t<td>12</td>\n",
       "\t\t<td>-0.007567568228905058</td>\n",
       "\t\t<td>0.8626609794668315</td>\n",
       "\t\t<td>-1.1844967933371555</td>\n",
       "\t</tr>\n",
       "\t<tr>\n",
       "\t\t<td>23.2</td>\n",
       "\t\t<td>13</td>\n",
       "\t\t<td>1.0412973882973457</td>\n",
       "\t\t<td>1.2552549018027006</td>\n",
       "\t\t<td>-0.5618057220734638</td>\n",
       "\t</tr>\n",
       "\t<tr>\n",
       "\t\t<td>7.6</td>\n",
       "\t\t<td>14</td>\n",
       "\t\t<td>-1.3041134956421747</td>\n",
       "\t\t<td>-1.2600078548576135</td>\n",
       "\t\t<td>-0.7959375648686119</td>\n",
       "\t</tr>\n",
       "\t<tr>\n",
       "\t\t<td>15.3</td>\n",
       "\t\t<td>16</td>\n",
       "\t\t<td>-0.6564219426653215</td>\n",
       "\t\t<td>1.3883375873402832</td>\n",
       "\t\t<td>1.0322834203615872</td>\n",
       "\t</tr>\n",
       "\t<tr>\n",
       "\t\t<td>5.3</td>\n",
       "\t\t<td>17</td>\n",
       "\t\t<td>-1.6855189343789931</td>\n",
       "\t\t<td>0.4833753256847205</td>\n",
       "\t\t<td>-1.0151248219534315</td>\n",
       "\t</tr>\n",
       "\t<tr>\n",
       "\t\t<td>17.2</td>\n",
       "\t\t<td>15</td>\n",
       "\t\t<td>0.7924535959507629</td>\n",
       "\t\t<td>-1.1468875721506682</td>\n",
       "\t\t<td>-0.11844967933371534</td>\n",
       "\t</tr>\n",
       "\t<tr>\n",
       "\t\t<td>7.0</td>\n",
       "\t\t<td>11</td>\n",
       "\t\t<td>-1.5297008587974879</td>\n",
       "\t\t<td>-0.06226368501936867</td>\n",
       "\t\t<td>1.0273018917914774</td>\n",
       "\t</tr>\n",
       "\t<tr>\n",
       "\t\t<td>24.7</td>\n",
       "\t\t<td>9</td>\n",
       "\t\t<td>0.8133843822229055</td>\n",
       "\t\t<td>1.7543149725686358</td>\n",
       "\t\t<td>-1.3239795933002225</td>\n",
       "\t</tr>\n",
       "\t<tr>\n",
       "\t\t<td>19.7</td>\n",
       "\t\t<td>8</td>\n",
       "\t\t<td>0.436630229324341</td>\n",
       "\t\t<td>-0.36169972747892987</td>\n",
       "\t\t<td>-0.5916948934941211</td>\n",
       "\t</tr>\n",
       "</table></html>"
      ],
      "text/plain": [
       "   sales  id        TV     radio  newspaper\n",
       "0   15.0  10 -0.144781  1.581307   1.455713\n",
       "1   17.3  12 -0.007568  0.862661  -1.184497\n",
       "2   23.2  13  1.041297  1.255255  -0.561806\n",
       "3    7.6  14 -1.304113 -1.260008  -0.795938\n",
       "4   15.3  16 -0.656422  1.388338   1.032283\n",
       "5    5.3  17 -1.685519  0.483375  -1.015125\n",
       "6   17.2  15  0.792454 -1.146888  -0.118450\n",
       "7    7.0  11 -1.529701 -0.062264   1.027302\n",
       "8   24.7   9  0.813384  1.754315  -1.323980\n",
       "9   19.7   8  0.436630 -0.361700  -0.591695"
      ]
     },
     "metadata": {},
     "output_type": "display_data"
    },
    {
     "name": "stdout",
     "output_type": "stream",
     "text": [
      "                                                                                          \r"
     ]
    },
    {
     "data": {
      "text/html": [
       "126 rows X 5 columns"
      ],
      "text/plain": [
       "<IPython.core.display.HTML object>"
      ]
     },
     "metadata": {},
     "output_type": "display_data"
    },
    {
     "name": "stdout",
     "output_type": "stream",
     "text": [
      "                                                                                          \r"
     ]
    },
    {
     "data": {
      "text/html": [
       "Testing dataset sample after scaling:"
      ],
      "text/plain": [
       "<IPython.core.display.HTML object>"
      ]
     },
     "metadata": {},
     "output_type": "display_data"
    },
    {
     "data": {
      "text/html": [
       "<style type=\"text/css\">\n",
       "\ttable {border:ridge 5px;}\n",
       "\ttable td {border:inset 1px;}\n",
       "\ttable tr#HeaderRow {background-color:grey; color:white;}</style>\n",
       "<html><table>\n",
       "\t<tr id=\"HeaderRow\">\n",
       "\t\t<th>sales</th>\n",
       "\t\t<th>id</th>\n",
       "\t\t<th>TV</th>\n",
       "\t\t<th>radio</th>\n",
       "\t\t<th>newspaper</th>\n",
       "\t</tr>\n",
       "\t<tr>\n",
       "\t\t<td>6.7</td>\n",
       "\t\t<td>158</td>\n",
       "\t\t<td>-1.5308636802570517</td>\n",
       "\t\t<td>-0.7010605755997659</td>\n",
       "\t\t<td>-0.3177108221380967</td>\n",
       "\t</tr>\n",
       "\t<tr>\n",
       "\t\t<td>15.6</td>\n",
       "\t\t<td>205</td>\n",
       "\t\t<td>0.575005983012394</td>\n",
       "\t\t<td>-1.3332033319032837</td>\n",
       "\t\t<td>-0.42730445068050643</td>\n",
       "\t</tr>\n",
       "\t<tr>\n",
       "\t\t<td>19.4</td>\n",
       "\t\t<td>194</td>\n",
       "\t\t<td>0.783151024274255</td>\n",
       "\t\t<td>0.7229241596523696</td>\n",
       "\t\t<td>1.4557133488208975</td>\n",
       "\t</tr>\n",
       "\t<tr>\n",
       "\t\t<td>14.8</td>\n",
       "\t\t<td>28</td>\n",
       "\t\t<td>0.30988269023192255</td>\n",
       "\t\t<td>-0.8873763353523816</td>\n",
       "\t\t<td>-1.1645706790567174</td>\n",
       "\t</tr>\n",
       "\t<tr>\n",
       "\t\t<td>10.8</td>\n",
       "\t\t<td>26</td>\n",
       "\t\t<td>-1.2889968166678496</td>\n",
       "\t\t<td>1.2286383646951842</td>\n",
       "\t\t<td>-1.1944598504773745</td>\n",
       "\t</tr>\n",
       "\t<tr>\n",
       "\t\t<td>10.1</td>\n",
       "\t\t<td>123</td>\n",
       "\t\t<td>-0.0064047467693413235</td>\n",
       "\t\t<td>-1.4197070775027125</td>\n",
       "\t\t<td>-0.2728770650071108</td>\n",
       "\t</tr>\n",
       "\t<tr>\n",
       "\t\t<td>5.6</td>\n",
       "\t\t<td>24</td>\n",
       "\t\t<td>-1.5948188605330427</td>\n",
       "\t\t<td>-0.44820347307835856</td>\n",
       "\t\t<td>0.9874496632306013</td>\n",
       "\t</tr>\n",
       "\t<tr>\n",
       "\t\t<td>17.0</td>\n",
       "\t\t<td>122</td>\n",
       "\t\t<td>1.3087463239969437</td>\n",
       "\t\t<td>-1.2733161234113717</td>\n",
       "\t\t<td>-0.5119904363723684</td>\n",
       "\t</tr>\n",
       "\t<tr>\n",
       "\t\t<td>13.4</td>\n",
       "\t\t<td>156</td>\n",
       "\t\t<td>-0.12850100002350576</td>\n",
       "\t\t<td>-0.5413613529546665</td>\n",
       "\t\t<td>-0.9752725933925551</td>\n",
       "\t</tr>\n",
       "\t<tr>\n",
       "\t\t<td>11.0</td>\n",
       "\t\t<td>131</td>\n",
       "\t\t<td>-0.24362032452028942</td>\n",
       "\t\t<td>-1.1269251693200306</td>\n",
       "\t\t<td>0.07582993490055659</td>\n",
       "\t</tr>\n",
       "</table></html>"
      ],
      "text/plain": [
       "   sales   id        TV     radio  newspaper\n",
       "0    6.7  158 -1.530864 -0.701061  -0.317711\n",
       "1   15.6  205  0.575006 -1.333203  -0.427304\n",
       "2   19.4  194  0.783151  0.722924   1.455713\n",
       "3   14.8   28  0.309883 -0.887376  -1.164571\n",
       "4   10.8   26 -1.288997  1.228638  -1.194460\n",
       "5   10.1  123 -0.006405 -1.419707  -0.272877\n",
       "6    5.6   24 -1.594819 -0.448203   0.987450\n",
       "7   17.0  122  1.308746 -1.273316  -0.511990\n",
       "8   13.4  156 -0.128501 -0.541361  -0.975273\n",
       "9   11.0  131 -0.243620 -1.126925   0.075830"
      ]
     },
     "metadata": {},
     "output_type": "display_data"
    },
    {
     "name": "stdout",
     "output_type": "stream",
     "text": [
      "                                                                                          \r"
     ]
    },
    {
     "data": {
      "text/html": [
       "32 rows X 5 columns"
      ],
      "text/plain": [
       "<IPython.core.display.HTML object>"
      ]
     },
     "metadata": {},
     "output_type": "display_data"
    },
    {
     "name": "stdout",
     "output_type": "stream",
     "text": [
      "                                                                                          \r"
     ]
    },
    {
     "data": {
      "text/html": [
       "Total time taken by feature scaling: 34.62 sec"
      ],
      "text/plain": [
       "<IPython.core.display.HTML object>"
      ]
     },
     "metadata": {},
     "output_type": "display_data"
    },
    {
     "name": "stdout",
     "output_type": "stream",
     "text": [
      "                                                                                          \r"
     ]
    },
    {
     "data": {
      "text/html": [
       "\n",
       "Feature selection using rfe ..."
      ],
      "text/plain": [
       "<IPython.core.display.HTML object>"
      ]
     },
     "metadata": {},
     "output_type": "display_data"
    },
    {
     "name": "stdout",
     "output_type": "stream",
     "text": [
      "                                                                                          \r"
     ]
    },
    {
     "data": {
      "text/html": [
       "feature selected by RFE:"
      ],
      "text/plain": [
       "<IPython.core.display.HTML object>"
      ]
     },
     "metadata": {},
     "output_type": "display_data"
    },
    {
     "name": "stdout",
     "output_type": "stream",
     "text": [
      "['TV', 'radio']\n",
      "                                                                                          \r"
     ]
    },
    {
     "data": {
      "text/html": [
       "Total time taken by feature selection: 3.01 sec  "
      ],
      "text/plain": [
       "<IPython.core.display.HTML object>"
      ]
     },
     "metadata": {},
     "output_type": "display_data"
    },
    {
     "name": "stdout",
     "output_type": "stream",
     "text": [
      "                                                                                          \r"
     ]
    },
    {
     "data": {
      "text/html": [
       "\n",
       "scaling Features of rfe data ..."
      ],
      "text/plain": [
       "<IPython.core.display.HTML object>"
      ]
     },
     "metadata": {},
     "output_type": "display_data"
    },
    {
     "name": "stdout",
     "output_type": "stream",
     "text": [
      "                                                                                          \r"
     ]
    },
    {
     "data": {
      "text/html": [
       "columns that will be scaled: "
      ],
      "text/plain": [
       "<IPython.core.display.HTML object>"
      ]
     },
     "metadata": {},
     "output_type": "display_data"
    },
    {
     "name": "stdout",
     "output_type": "stream",
     "text": [
      "['r_TV', 'r_radio']\n",
      "                                                                                          \r"
     ]
    },
    {
     "data": {
      "text/html": [
       "Training dataset sample after scaling:"
      ],
      "text/plain": [
       "<IPython.core.display.HTML object>"
      ]
     },
     "metadata": {},
     "output_type": "display_data"
    },
    {
     "data": {
      "text/html": [
       "<style type=\"text/css\">\n",
       "\ttable {border:ridge 5px;}\n",
       "\ttable td {border:inset 1px;}\n",
       "\ttable tr#HeaderRow {background-color:grey; color:white;}</style>\n",
       "<html><table>\n",
       "\t<tr id=\"HeaderRow\">\n",
       "\t\t<th>sales</th>\n",
       "\t\t<th>id</th>\n",
       "\t\t<th>r_TV</th>\n",
       "\t\t<th>r_radio</th>\n",
       "\t</tr>\n",
       "\t<tr>\n",
       "\t\t<td>15.0</td>\n",
       "\t\t<td>10</td>\n",
       "\t\t<td>-0.1447805004573944</td>\n",
       "\t\t<td>1.5813074813697783</td>\n",
       "\t</tr>\n",
       "\t<tr>\n",
       "\t\t<td>17.3</td>\n",
       "\t\t<td>12</td>\n",
       "\t\t<td>-0.007567568228905058</td>\n",
       "\t\t<td>0.8626609794668315</td>\n",
       "\t</tr>\n",
       "\t<tr>\n",
       "\t\t<td>23.2</td>\n",
       "\t\t<td>13</td>\n",
       "\t\t<td>1.0412973882973457</td>\n",
       "\t\t<td>1.2552549018027006</td>\n",
       "\t</tr>\n",
       "\t<tr>\n",
       "\t\t<td>7.6</td>\n",
       "\t\t<td>14</td>\n",
       "\t\t<td>-1.3041134956421747</td>\n",
       "\t\t<td>-1.2600078548576135</td>\n",
       "\t</tr>\n",
       "\t<tr>\n",
       "\t\t<td>15.3</td>\n",
       "\t\t<td>16</td>\n",
       "\t\t<td>-0.6564219426653215</td>\n",
       "\t\t<td>1.3883375873402832</td>\n",
       "\t</tr>\n",
       "\t<tr>\n",
       "\t\t<td>5.3</td>\n",
       "\t\t<td>17</td>\n",
       "\t\t<td>-1.6855189343789931</td>\n",
       "\t\t<td>0.4833753256847205</td>\n",
       "\t</tr>\n",
       "\t<tr>\n",
       "\t\t<td>17.2</td>\n",
       "\t\t<td>15</td>\n",
       "\t\t<td>0.7924535959507629</td>\n",
       "\t\t<td>-1.1468875721506682</td>\n",
       "\t</tr>\n",
       "\t<tr>\n",
       "\t\t<td>7.0</td>\n",
       "\t\t<td>11</td>\n",
       "\t\t<td>-1.5297008587974879</td>\n",
       "\t\t<td>-0.06226368501936867</td>\n",
       "\t</tr>\n",
       "\t<tr>\n",
       "\t\t<td>24.7</td>\n",
       "\t\t<td>9</td>\n",
       "\t\t<td>0.8133843822229055</td>\n",
       "\t\t<td>1.7543149725686358</td>\n",
       "\t</tr>\n",
       "\t<tr>\n",
       "\t\t<td>19.7</td>\n",
       "\t\t<td>8</td>\n",
       "\t\t<td>0.436630229324341</td>\n",
       "\t\t<td>-0.36169972747892987</td>\n",
       "\t</tr>\n",
       "</table></html>"
      ],
      "text/plain": [
       "   sales  id      r_TV   r_radio\n",
       "0   15.0  10 -0.144781  1.581307\n",
       "1   17.3  12 -0.007568  0.862661\n",
       "2   23.2  13  1.041297  1.255255\n",
       "3    7.6  14 -1.304113 -1.260008\n",
       "4   15.3  16 -0.656422  1.388338\n",
       "5    5.3  17 -1.685519  0.483375\n",
       "6   17.2  15  0.792454 -1.146888\n",
       "7    7.0  11 -1.529701 -0.062264\n",
       "8   24.7   9  0.813384  1.754315\n",
       "9   19.7   8  0.436630 -0.361700"
      ]
     },
     "metadata": {},
     "output_type": "display_data"
    },
    {
     "name": "stdout",
     "output_type": "stream",
     "text": [
      "                                                                                          \r"
     ]
    },
    {
     "data": {
      "text/html": [
       "126 rows X 4 columns"
      ],
      "text/plain": [
       "<IPython.core.display.HTML object>"
      ]
     },
     "metadata": {},
     "output_type": "display_data"
    },
    {
     "name": "stdout",
     "output_type": "stream",
     "text": [
      "                                                                                          \r"
     ]
    },
    {
     "data": {
      "text/html": [
       "Testing dataset sample after scaling:"
      ],
      "text/plain": [
       "<IPython.core.display.HTML object>"
      ]
     },
     "metadata": {},
     "output_type": "display_data"
    },
    {
     "data": {
      "text/html": [
       "<style type=\"text/css\">\n",
       "\ttable {border:ridge 5px;}\n",
       "\ttable td {border:inset 1px;}\n",
       "\ttable tr#HeaderRow {background-color:grey; color:white;}</style>\n",
       "<html><table>\n",
       "\t<tr id=\"HeaderRow\">\n",
       "\t\t<th>sales</th>\n",
       "\t\t<th>id</th>\n",
       "\t\t<th>r_TV</th>\n",
       "\t\t<th>r_radio</th>\n",
       "\t</tr>\n",
       "\t<tr>\n",
       "\t\t<td>6.7</td>\n",
       "\t\t<td>158</td>\n",
       "\t\t<td>-1.5308636802570517</td>\n",
       "\t\t<td>-0.7010605755997659</td>\n",
       "\t</tr>\n",
       "\t<tr>\n",
       "\t\t<td>15.6</td>\n",
       "\t\t<td>205</td>\n",
       "\t\t<td>0.575005983012394</td>\n",
       "\t\t<td>-1.3332033319032837</td>\n",
       "\t</tr>\n",
       "\t<tr>\n",
       "\t\t<td>19.4</td>\n",
       "\t\t<td>194</td>\n",
       "\t\t<td>0.783151024274255</td>\n",
       "\t\t<td>0.7229241596523696</td>\n",
       "\t</tr>\n",
       "\t<tr>\n",
       "\t\t<td>14.8</td>\n",
       "\t\t<td>28</td>\n",
       "\t\t<td>0.30988269023192255</td>\n",
       "\t\t<td>-0.8873763353523816</td>\n",
       "\t</tr>\n",
       "\t<tr>\n",
       "\t\t<td>10.8</td>\n",
       "\t\t<td>26</td>\n",
       "\t\t<td>-1.2889968166678496</td>\n",
       "\t\t<td>1.2286383646951842</td>\n",
       "\t</tr>\n",
       "\t<tr>\n",
       "\t\t<td>10.1</td>\n",
       "\t\t<td>123</td>\n",
       "\t\t<td>-0.0064047467693413235</td>\n",
       "\t\t<td>-1.4197070775027125</td>\n",
       "\t</tr>\n",
       "\t<tr>\n",
       "\t\t<td>5.6</td>\n",
       "\t\t<td>24</td>\n",
       "\t\t<td>-1.5948188605330427</td>\n",
       "\t\t<td>-0.44820347307835856</td>\n",
       "\t</tr>\n",
       "\t<tr>\n",
       "\t\t<td>17.0</td>\n",
       "\t\t<td>122</td>\n",
       "\t\t<td>1.3087463239969437</td>\n",
       "\t\t<td>-1.2733161234113717</td>\n",
       "\t</tr>\n",
       "\t<tr>\n",
       "\t\t<td>13.4</td>\n",
       "\t\t<td>156</td>\n",
       "\t\t<td>-0.12850100002350576</td>\n",
       "\t\t<td>-0.5413613529546665</td>\n",
       "\t</tr>\n",
       "\t<tr>\n",
       "\t\t<td>11.0</td>\n",
       "\t\t<td>131</td>\n",
       "\t\t<td>-0.24362032452028942</td>\n",
       "\t\t<td>-1.1269251693200306</td>\n",
       "\t</tr>\n",
       "</table></html>"
      ],
      "text/plain": [
       "   sales   id      r_TV   r_radio\n",
       "0    6.7  158 -1.530864 -0.701061\n",
       "1   15.6  205  0.575006 -1.333203\n",
       "2   19.4  194  0.783151  0.722924\n",
       "3   14.8   28  0.309883 -0.887376\n",
       "4   10.8   26 -1.288997  1.228638\n",
       "5   10.1  123 -0.006405 -1.419707\n",
       "6    5.6   24 -1.594819 -0.448203\n",
       "7   17.0  122  1.308746 -1.273316\n",
       "8   13.4  156 -0.128501 -0.541361\n",
       "9   11.0  131 -0.243620 -1.126925"
      ]
     },
     "metadata": {},
     "output_type": "display_data"
    },
    {
     "name": "stdout",
     "output_type": "stream",
     "text": [
      "                                                                                          \r"
     ]
    },
    {
     "data": {
      "text/html": [
       "32 rows X 4 columns"
      ],
      "text/plain": [
       "<IPython.core.display.HTML object>"
      ]
     },
     "metadata": {},
     "output_type": "display_data"
    },
    {
     "name": "stdout",
     "output_type": "stream",
     "text": [
      "                                                                                          \r"
     ]
    },
    {
     "data": {
      "text/html": [
       "Total time taken by feature scaling: 32.74 sec"
      ],
      "text/plain": [
       "<IPython.core.display.HTML object>"
      ]
     },
     "metadata": {},
     "output_type": "display_data"
    },
    {
     "name": "stdout",
     "output_type": "stream",
     "text": [
      "                                                                                          \r"
     ]
    },
    {
     "data": {
      "text/html": [
       "\n",
       "scaling Features of pca data ..."
      ],
      "text/plain": [
       "<IPython.core.display.HTML object>"
      ]
     },
     "metadata": {},
     "output_type": "display_data"
    },
    {
     "name": "stdout",
     "output_type": "stream",
     "text": [
      "                                                                                          \r"
     ]
    },
    {
     "data": {
      "text/html": [
       "columns that will be scaled: "
      ],
      "text/plain": [
       "<IPython.core.display.HTML object>"
      ]
     },
     "metadata": {},
     "output_type": "display_data"
    },
    {
     "name": "stdout",
     "output_type": "stream",
     "text": [
      "['TV', 'radio', 'newspaper']\n",
      "                                                                                          \r"
     ]
    },
    {
     "data": {
      "text/html": [
       "Training dataset sample after scaling:"
      ],
      "text/plain": [
       "<IPython.core.display.HTML object>"
      ]
     },
     "metadata": {},
     "output_type": "display_data"
    },
    {
     "data": {
      "text/html": [
       "<style type=\"text/css\">\n",
       "\ttable {border:ridge 5px;}\n",
       "\ttable td {border:inset 1px;}\n",
       "\ttable tr#HeaderRow {background-color:grey; color:white;}</style>\n",
       "<html><table>\n",
       "\t<tr id=\"HeaderRow\">\n",
       "\t\t<th>sales</th>\n",
       "\t\t<th>id</th>\n",
       "\t\t<th>TV</th>\n",
       "\t\t<th>radio</th>\n",
       "\t\t<th>newspaper</th>\n",
       "\t</tr>\n",
       "\t<tr>\n",
       "\t\t<td>15.0</td>\n",
       "\t\t<td>10</td>\n",
       "\t\t<td>-0.14478050045739474</td>\n",
       "\t\t<td>1.5813074813697778</td>\n",
       "\t\t<td>1.455713348820897</td>\n",
       "\t</tr>\n",
       "\t<tr>\n",
       "\t\t<td>17.3</td>\n",
       "\t\t<td>12</td>\n",
       "\t\t<td>-0.007567568228905389</td>\n",
       "\t\t<td>0.8626609794668312</td>\n",
       "\t\t<td>-1.184496793337156</td>\n",
       "\t</tr>\n",
       "\t<tr>\n",
       "\t\t<td>5.7</td>\n",
       "\t\t<td>20</td>\n",
       "\t\t<td>-1.6506342905920892</td>\n",
       "\t\t<td>0.3037137002089834</td>\n",
       "\t\t<td>-1.3787764075714277</td>\n",
       "\t</tr>\n",
       "\t<tr>\n",
       "\t\t<td>7.6</td>\n",
       "\t\t<td>14</td>\n",
       "\t\t<td>-1.3041134956421752</td>\n",
       "\t\t<td>-1.260007854857614</td>\n",
       "\t\t<td>-0.7959375648686122</td>\n",
       "\t</tr>\n",
       "\t<tr>\n",
       "\t\t<td>23.2</td>\n",
       "\t\t<td>13</td>\n",
       "\t\t<td>1.0412973882973453</td>\n",
       "\t\t<td>1.2552549018027002</td>\n",
       "\t\t<td>-0.5618057220734641</td>\n",
       "\t</tr>\n",
       "\t<tr>\n",
       "\t\t<td>19.8</td>\n",
       "\t\t<td>21</td>\n",
       "\t\t<td>0.8936190629327844</td>\n",
       "\t\t<td>-0.4548576073552382</td>\n",
       "\t\t<td>1.0023942489409294</td>\n",
       "\t</tr>\n",
       "\t<tr>\n",
       "\t\t<td>24.7</td>\n",
       "\t\t<td>9</td>\n",
       "\t\t<td>0.8133843822229052</td>\n",
       "\t\t<td>1.7543149725686356</td>\n",
       "\t\t<td>-1.323979593300223</td>\n",
       "\t</tr>\n",
       "\t<tr>\n",
       "\t\t<td>5.3</td>\n",
       "\t\t<td>17</td>\n",
       "\t\t<td>-1.6855189343789934</td>\n",
       "\t\t<td>0.48337532568472014</td>\n",
       "\t\t<td>-1.015124821953432</td>\n",
       "\t</tr>\n",
       "\t<tr>\n",
       "\t\t<td>17.2</td>\n",
       "\t\t<td>15</td>\n",
       "\t\t<td>0.7924535959507626</td>\n",
       "\t\t<td>-1.1468875721506686</td>\n",
       "\t\t<td>-0.1184496793337157</td>\n",
       "\t</tr>\n",
       "\t<tr>\n",
       "\t\t<td>21.5</td>\n",
       "\t\t<td>23</td>\n",
       "\t\t<td>0.9029216346092923</td>\n",
       "\t\t<td>1.0023977992812931</td>\n",
       "\t\t<td>0.11070063489132294</td>\n",
       "\t</tr>\n",
       "</table></html>"
      ],
      "text/plain": [
       "   sales  id        TV     radio  newspaper\n",
       "0   15.0  10 -0.144781  1.581307   1.455713\n",
       "1   17.3  12 -0.007568  0.862661  -1.184497\n",
       "2    5.7  20 -1.650634  0.303714  -1.378776\n",
       "3    7.6  14 -1.304113 -1.260008  -0.795938\n",
       "4   23.2  13  1.041297  1.255255  -0.561806\n",
       "5   19.8  21  0.893619 -0.454858   1.002394\n",
       "6   24.7   9  0.813384  1.754315  -1.323980\n",
       "7    5.3  17 -1.685519  0.483375  -1.015125\n",
       "8   17.2  15  0.792454 -1.146888  -0.118450\n",
       "9   21.5  23  0.902922  1.002398   0.110701"
      ]
     },
     "metadata": {},
     "output_type": "display_data"
    },
    {
     "name": "stdout",
     "output_type": "stream",
     "text": [
      "                                                                                          \r"
     ]
    },
    {
     "data": {
      "text/html": [
       "126 rows X 5 columns"
      ],
      "text/plain": [
       "<IPython.core.display.HTML object>"
      ]
     },
     "metadata": {},
     "output_type": "display_data"
    },
    {
     "name": "stdout",
     "output_type": "stream",
     "text": [
      "                                                                                          \r"
     ]
    },
    {
     "data": {
      "text/html": [
       "Testing dataset sample after scaling:"
      ],
      "text/plain": [
       "<IPython.core.display.HTML object>"
      ]
     },
     "metadata": {},
     "output_type": "display_data"
    },
    {
     "data": {
      "text/html": [
       "<style type=\"text/css\">\n",
       "\ttable {border:ridge 5px;}\n",
       "\ttable td {border:inset 1px;}\n",
       "\ttable tr#HeaderRow {background-color:grey; color:white;}</style>\n",
       "<html><table>\n",
       "\t<tr id=\"HeaderRow\">\n",
       "\t\t<th>sales</th>\n",
       "\t\t<th>id</th>\n",
       "\t\t<th>TV</th>\n",
       "\t\t<th>radio</th>\n",
       "\t\t<th>newspaper</th>\n",
       "\t</tr>\n",
       "\t<tr>\n",
       "\t\t<td>5.6</td>\n",
       "\t\t<td>24</td>\n",
       "\t\t<td>-1.594818860533043</td>\n",
       "\t\t<td>-0.44820347307835906</td>\n",
       "\t\t<td>0.987449663230601</td>\n",
       "\t</tr>\n",
       "\t<tr>\n",
       "\t\t<td>17.0</td>\n",
       "\t\t<td>122</td>\n",
       "\t\t<td>1.3087463239969432</td>\n",
       "\t\t<td>-1.2733161234113721</td>\n",
       "\t\t<td>-0.5119904363723689</td>\n",
       "\t</tr>\n",
       "\t<tr>\n",
       "\t\t<td>4.8</td>\n",
       "\t\t<td>29</td>\n",
       "\t\t<td>-1.6483086476729625</td>\n",
       "\t\t<td>-1.36647400328768</td>\n",
       "\t\t<td>-1.4335732218426325</td>\n",
       "\t</tr>\n",
       "\t<tr>\n",
       "\t\t<td>25.5</td>\n",
       "\t\t<td>125</td>\n",
       "\t\t<td>1.5494503661265824</td>\n",
       "\t\t<td>1.288525573187096</td>\n",
       "\t\t<td>1.8143834058687838</td>\n",
       "\t</tr>\n",
       "\t<tr>\n",
       "\t\t<td>10.4</td>\n",
       "\t\t<td>115</td>\n",
       "\t\t<td>-1.2308557436896765</td>\n",
       "\t\t<td>1.108863947711359</td>\n",
       "\t\t<td>0.763280877575672</td>\n",
       "\t</tr>\n",
       "\t<tr>\n",
       "\t\t<td>24.2</td>\n",
       "\t\t<td>30</td>\n",
       "\t\t<td>1.2901411806439282</td>\n",
       "\t\t<td>1.3351045131252501</td>\n",
       "\t\t<td>1.2415076203061872</td>\n",
       "\t</tr>\n",
       "\t<tr>\n",
       "\t\t<td>17.2</td>\n",
       "\t\t<td>126</td>\n",
       "\t\t<td>0.6564034851818367</td>\n",
       "\t\t<td>-1.1601958407044268</td>\n",
       "\t\t<td>-0.5169719649424784</td>\n",
       "\t</tr>\n",
       "\t<tr>\n",
       "\t\t<td>14.8</td>\n",
       "\t\t<td>28</td>\n",
       "\t\t<td>0.3098826902319223</td>\n",
       "\t\t<td>-0.8873763353523821</td>\n",
       "\t\t<td>-1.1645706790567179</td>\n",
       "\t</tr>\n",
       "\t<tr>\n",
       "\t\t<td>12.9</td>\n",
       "\t\t<td>124</td>\n",
       "\t\t<td>-0.21687543095033013</td>\n",
       "\t\t<td>-0.2818501161563808</td>\n",
       "\t\t<td>0.2402203777141709</td>\n",
       "\t</tr>\n",
       "\t<tr>\n",
       "\t\t<td>16.9</td>\n",
       "\t\t<td>31</td>\n",
       "\t\t<td>0.15057615027172688</td>\n",
       "\t\t<td>0.5964956083916657</td>\n",
       "\t\t<td>1.1518401060442154</td>\n",
       "\t</tr>\n",
       "</table></html>"
      ],
      "text/plain": [
       "   sales   id        TV     radio  newspaper\n",
       "0    5.6   24 -1.594819 -0.448203   0.987450\n",
       "1   17.0  122  1.308746 -1.273316  -0.511990\n",
       "2    4.8   29 -1.648309 -1.366474  -1.433573\n",
       "3   25.5  125  1.549450  1.288526   1.814383\n",
       "4   10.4  115 -1.230856  1.108864   0.763281\n",
       "5   24.2   30  1.290141  1.335105   1.241508\n",
       "6   17.2  126  0.656403 -1.160196  -0.516972\n",
       "7   14.8   28  0.309883 -0.887376  -1.164571\n",
       "8   12.9  124 -0.216875 -0.281850   0.240220\n",
       "9   16.9   31  0.150576  0.596496   1.151840"
      ]
     },
     "metadata": {},
     "output_type": "display_data"
    },
    {
     "name": "stdout",
     "output_type": "stream",
     "text": [
      "                                                                                          \r"
     ]
    },
    {
     "data": {
      "text/html": [
       "32 rows X 5 columns"
      ],
      "text/plain": [
       "<IPython.core.display.HTML object>"
      ]
     },
     "metadata": {},
     "output_type": "display_data"
    },
    {
     "name": "stdout",
     "output_type": "stream",
     "text": [
      "                                                                                          \r"
     ]
    },
    {
     "data": {
      "text/html": [
       "Total time taken by feature scaling: 30.79 sec"
      ],
      "text/plain": [
       "<IPython.core.display.HTML object>"
      ]
     },
     "metadata": {},
     "output_type": "display_data"
    },
    {
     "name": "stdout",
     "output_type": "stream",
     "text": [
      "                                                                                          \r"
     ]
    },
    {
     "data": {
      "text/html": [
       "\n",
       "Dimension Reduction using pca ..."
      ],
      "text/plain": [
       "<IPython.core.display.HTML object>"
      ]
     },
     "metadata": {},
     "output_type": "display_data"
    },
    {
     "name": "stdout",
     "output_type": "stream",
     "text": [
      "                                                                                          \r"
     ]
    },
    {
     "data": {
      "text/html": [
       "PCA columns:"
      ],
      "text/plain": [
       "<IPython.core.display.HTML object>"
      ]
     },
     "metadata": {},
     "output_type": "display_data"
    },
    {
     "name": "stdout",
     "output_type": "stream",
     "text": [
      "['col_0', 'col_1', 'col_2']\n",
      "                                                                                          \r"
     ]
    },
    {
     "data": {
      "text/html": [
       "Total time taken by PCA: 9.78 sec  "
      ],
      "text/plain": [
       "<IPython.core.display.HTML object>"
      ]
     },
     "metadata": {},
     "output_type": "display_data"
    },
    {
     "name": "stdout",
     "output_type": "stream",
     "text": [
      "                                                                                          \r"
     ]
    },
    {
     "data": {
      "text/html": [
       "\n",
       "            <style>\n",
       "                .custom-div {\n",
       "                    background-color: lightgray;\n",
       "                    color: #000000;\n",
       "                    padding: 10px;\n",
       "                    border-radius: 8px;\n",
       "                    box-shadow: 0 3px 4px rgba(0 -  0 -  0 -  0.2);\n",
       "                    margin-bottom: 10px;\n",
       "                    text-align: center;\n",
       "                }\n",
       "            </style>\n",
       "        <br><div class=\"custom-div\"><h3><span style=\"color: green;\">1. Feature Exploration -> 2. Feature Engineering -> 3. Data Preparation -></span> 4. Model Training & Evaluation<center></h3></center></div>"
      ],
      "text/plain": [
       "<IPython.core.display.HTML object>"
      ]
     },
     "metadata": {},
     "output_type": "display_data"
    },
    {
     "name": "stdout",
     "output_type": "stream",
     "text": [
      "                                                                                          \r"
     ]
    },
    {
     "data": {
      "text/html": [
       "Model Training started ..."
      ],
      "text/plain": [
       "<IPython.core.display.HTML object>"
      ]
     },
     "metadata": {},
     "output_type": "display_data"
    },
    {
     "name": "stdout",
     "output_type": "stream",
     "text": [
      "                                                                                          \r"
     ]
    },
    {
     "data": {
      "text/html": [
       "\n",
       "Hyperparameters used for model training: "
      ],
      "text/plain": [
       "<IPython.core.display.HTML object>"
      ]
     },
     "metadata": {},
     "output_type": "display_data"
    },
    {
     "name": "stdout",
     "output_type": "stream",
     "text": [
      "response_column : sales                                                                                                                               \n",
      "name : decision_forest\n",
      "tree_type : Regression\n",
      "min_impurity : (0.0, 0.1)\n",
      "max_depth : (5, 6, 7, 8)\n",
      "min_node_size : (1, 2)\n",
      "num_trees : (-1, 10, 20)\n",
      "seed : 42\n",
      "Total number of models for decision_forest : 48\n",
      "--------------------------------------------------------------------------------------------------------------------------------------------------------------------------------------------------------\n",
      "\n",
      "response_column : sales\n",
      "name : xgboost\n",
      "model_type : Regression\n",
      "column_sampling : (1, 0.6)\n",
      "min_impurity : (0.0, 0.1)\n",
      "lambda1 : (0.01, 0.1, 1, 10)\n",
      "shrinkage_factor : (0.5, 0.1, 0.2)\n",
      "max_depth : (5, 6, 7, 8)\n",
      "min_node_size : (1, 2)\n",
      "iter_num : (10, 20)\n",
      "seed : 42\n",
      "Total number of models for xgboost : 768\n",
      "--------------------------------------------------------------------------------------------------------------------------------------------------------------------------------------------------------\n",
      "\n",
      "response_column : sales\n",
      "name : knn\n",
      "model_type : Regression\n",
      "k : (3, 5, 6, 8, 10, 12)\n",
      "id_column : id\n",
      "voting_weight : 1.0\n",
      "Total number of models for knn : 6\n",
      "--------------------------------------------------------------------------------------------------------------------------------------------------------------------------------------------------------\n",
      "\n",
      "response_column : sales\n",
      "name : svm\n",
      "model_type : regression\n",
      "lambda1 : (0.001, 0.02, 0.1)\n",
      "alpha : (0.15, 0.85)\n",
      "tolerance : (0.001, 0.01)\n",
      "learning_rate : ('Invtime', 'Adaptive', 'constant')\n",
      "initial_eta : (0.05, 0.1)\n",
      "momentum : (0.65, 0.8, 0.95)\n",
      "nesterov : True\n",
      "intercept : True\n",
      "iter_num_no_change : (5, 10, 50)\n",
      "local_sgd_iterations  : (10, 20)\n",
      "iter_max : (300, 100, 200)\n",
      "batch_size : (10, 20, 40, 50)\n",
      "Total number of models for svm : 15552\n",
      "--------------------------------------------------------------------------------------------------------------------------------------------------------------------------------------------------------\n",
      "\n",
      "response_column : sales\n",
      "name : glm\n",
      "family : GAUSSIAN\n",
      "lambda1 : (0.001, 0.02, 0.1)\n",
      "alpha : (0.15, 0.85)\n",
      "learning_rate : ('invtime', 'constant', 'adaptive')\n",
      "initial_eta : (0.05, 0.1)\n",
      "momentum : (0.65, 0.8, 0.95)\n",
      "iter_num_no_change : (5, 10, 50)\n",
      "iter_max : (300, 100, 200)\n",
      "batch_size : (10, 20, 40, 50)\n",
      "Total number of models for glm : 3888\n",
      "--------------------------------------------------------------------------------------------------------------------------------------------------------------------------------------------------------\n",
      "\n",
      "                                                                                          \r"
     ]
    },
    {
     "data": {
      "text/html": [
       "\n",
       "Performing hyperParameter tuning ..."
      ],
      "text/plain": [
       "<IPython.core.display.HTML object>"
      ]
     },
     "metadata": {},
     "output_type": "display_data"
    },
    {
     "name": "stdout",
     "output_type": "stream",
     "text": [
      "                                                                                          \r"
     ]
    },
    {
     "data": {
      "text/html": [
       "decision_forest"
      ],
      "text/plain": [
       "<IPython.core.display.HTML object>"
      ]
     },
     "metadata": {},
     "output_type": "display_data"
    },
    {
     "name": "stdout",
     "output_type": "stream",
     "text": [
      "result data stored in table '\"ALICE\".\"ml__td_sqlmr_persist_out__1719258189242751\"'                                                                                                                      \n",
      "result data stored in table '\"ALICE\".\"ml__td_sqlmr_persist_out__1719258067033005\"'\n",
      "result data stored in table '\"ALICE\".\"ml__td_sqlmr_persist_out__1719258429619242\"'\n",
      "                                                                                          \r"
     ]
    },
    {
     "data": {
      "text/html": [
       "----------------------------------------------------------------------------------------------------"
      ],
      "text/plain": [
       "<IPython.core.display.HTML object>"
      ]
     },
     "metadata": {},
     "output_type": "display_data"
    },
    {
     "name": "stdout",
     "output_type": "stream",
     "text": [
      "                                                                                          \r"
     ]
    },
    {
     "data": {
      "text/html": [
       "xgboost"
      ],
      "text/plain": [
       "<IPython.core.display.HTML object>"
      ]
     },
     "metadata": {},
     "output_type": "display_data"
    },
    {
     "name": "stdout",
     "output_type": "stream",
     "text": [
      "result data stored in table '\"ALICE\".\"ml__td_sqlmr_persist_out__1719258716000900\"'                                                                                                                      \n",
      "result data stored in table '\"ALICE\".\"ml__td_sqlmr_persist_out__1719258217515013\"'\n",
      "result data stored in table '\"ALICE\".\"ml__td_sqlmr_persist_out__1719258446303623\"'\n",
      "                                                                                          \r"
     ]
    },
    {
     "data": {
      "text/html": [
       "----------------------------------------------------------------------------------------------------"
      ],
      "text/plain": [
       "<IPython.core.display.HTML object>"
      ]
     },
     "metadata": {},
     "output_type": "display_data"
    },
    {
     "name": "stdout",
     "output_type": "stream",
     "text": [
      "                                                                                          \r"
     ]
    },
    {
     "data": {
      "text/html": [
       "knn"
      ],
      "text/plain": [
       "<IPython.core.display.HTML object>"
      ]
     },
     "metadata": {},
     "output_type": "display_data"
    },
    {
     "name": "stdout",
     "output_type": "stream",
     "text": [
      "result data stored in table '\"ALICE\".\"ml__td_sqlmr_persist_out__1719259233540674\"'                                                                                                                      \n",
      "result data stored in table '\"ALICE\".\"ml__td_sqlmr_persist_out__1719259062737615\"'\n",
      "result data stored in table '\"ALICE\".\"ml__td_sqlmr_persist_out__1719258841761982\"'\n",
      "                                                                                          \r"
     ]
    },
    {
     "data": {
      "text/html": [
       "----------------------------------------------------------------------------------------------------"
      ],
      "text/plain": [
       "<IPython.core.display.HTML object>"
      ]
     },
     "metadata": {},
     "output_type": "display_data"
    },
    {
     "name": "stdout",
     "output_type": "stream",
     "text": [
      "                                                                                          \r"
     ]
    },
    {
     "data": {
      "text/html": [
       "svm"
      ],
      "text/plain": [
       "<IPython.core.display.HTML object>"
      ]
     },
     "metadata": {},
     "output_type": "display_data"
    },
    {
     "name": "stdout",
     "output_type": "stream",
     "text": [
      "result data stored in table '\"ALICE\".\"ml__td_sqlmr_persist_out__1719258904323063\"'                                                                                                                      \n",
      "result data stored in table '\"ALICE\".\"ml__td_sqlmr_persist_out__1719258403236293\"'\n",
      "result data stored in table '\"ALICE\".\"ml__td_sqlmr_persist_out__1719258500532932\"'\n",
      "                                                                                          \r"
     ]
    },
    {
     "data": {
      "text/html": [
       "----------------------------------------------------------------------------------------------------"
      ],
      "text/plain": [
       "<IPython.core.display.HTML object>"
      ]
     },
     "metadata": {},
     "output_type": "display_data"
    },
    {
     "name": "stdout",
     "output_type": "stream",
     "text": [
      "                                                                                          \r"
     ]
    },
    {
     "data": {
      "text/html": [
       "glm"
      ],
      "text/plain": [
       "<IPython.core.display.HTML object>"
      ]
     },
     "metadata": {},
     "output_type": "display_data"
    },
    {
     "name": "stdout",
     "output_type": "stream",
     "text": [
      "result data stored in table '\"ALICE\".\"ml__td_sqlmr_persist_out__1719259087996092\"'                                                                                                                      \n",
      "result data stored in table '\"ALICE\".\"ml__td_sqlmr_persist_out__1719258376801097\"'\n",
      "result data stored in table '\"ALICE\".\"ml__td_sqlmr_persist_out__1719266755080618\"'\n",
      "                                                                                          \r"
     ]
    },
    {
     "data": {
      "text/html": [
       "----------------------------------------------------------------------------------------------------"
      ],
      "text/plain": [
       "<IPython.core.display.HTML object>"
      ]
     },
     "metadata": {},
     "output_type": "display_data"
    },
    {
     "name": "stdout",
     "output_type": "stream",
     "text": [
      "                                                                                          \r"
     ]
    },
    {
     "data": {
      "text/html": [
       "Evaluating models performance ..."
      ],
      "text/plain": [
       "<IPython.core.display.HTML object>"
      ]
     },
     "metadata": {},
     "output_type": "display_data"
    },
    {
     "name": "stdout",
     "output_type": "stream",
     "text": [
      "                                                                                          \r"
     ]
    },
    {
     "data": {
      "text/html": [
       "Evaluation completed."
      ],
      "text/plain": [
       "<IPython.core.display.HTML object>"
      ]
     },
     "metadata": {},
     "output_type": "display_data"
    },
    {
     "name": "stdout",
     "output_type": "stream",
     "text": [
      "                                                                                          \r"
     ]
    },
    {
     "data": {
      "text/html": [
       "Leaderboard"
      ],
      "text/plain": [
       "<IPython.core.display.HTML object>"
      ]
     },
     "metadata": {},
     "output_type": "display_data"
    },
    {
     "data": {
      "text/html": [
       "<div>\n",
       "<style scoped>\n",
       "    .dataframe tbody tr th:only-of-type {\n",
       "        vertical-align: middle;\n",
       "    }\n",
       "\n",
       "    .dataframe tbody tr th {\n",
       "        vertical-align: top;\n",
       "    }\n",
       "\n",
       "    .dataframe thead th {\n",
       "        text-align: right;\n",
       "    }\n",
       "</style>\n",
       "<table border=\"1\" class=\"dataframe\">\n",
       "  <thead>\n",
       "    <tr style=\"text-align: right;\">\n",
       "      <th></th>\n",
       "      <th>Rank</th>\n",
       "      <th>Model-ID</th>\n",
       "      <th>Feature-Selection</th>\n",
       "      <th>MAE</th>\n",
       "      <th>MSE</th>\n",
       "      <th>MSLE</th>\n",
       "      <th>RMSE</th>\n",
       "      <th>RMSLE</th>\n",
       "      <th>R2-score</th>\n",
       "      <th>Adjusted R2-score</th>\n",
       "    </tr>\n",
       "  </thead>\n",
       "  <tbody>\n",
       "    <tr>\n",
       "      <th>0</th>\n",
       "      <td>1</td>\n",
       "      <td>KNN_1</td>\n",
       "      <td>rfe</td>\n",
       "      <td>0.920625</td>\n",
       "      <td>1.786890</td>\n",
       "      <td>0.010297</td>\n",
       "      <td>1.336746</td>\n",
       "      <td>0.101475</td>\n",
       "      <td>0.939795</td>\n",
       "      <td>0.935643</td>\n",
       "    </tr>\n",
       "    <tr>\n",
       "      <th>1</th>\n",
       "      <td>2</td>\n",
       "      <td>GLM_1</td>\n",
       "      <td>rfe</td>\n",
       "      <td>1.344935</td>\n",
       "      <td>3.292778</td>\n",
       "      <td>0.020201</td>\n",
       "      <td>1.814601</td>\n",
       "      <td>0.142130</td>\n",
       "      <td>0.889058</td>\n",
       "      <td>0.881407</td>\n",
       "    </tr>\n",
       "    <tr>\n",
       "      <th>2</th>\n",
       "      <td>3</td>\n",
       "      <td>XGBOOST_1</td>\n",
       "      <td>rfe</td>\n",
       "      <td>1.622821</td>\n",
       "      <td>3.309030</td>\n",
       "      <td>0.015430</td>\n",
       "      <td>1.819074</td>\n",
       "      <td>0.124219</td>\n",
       "      <td>0.888510</td>\n",
       "      <td>0.880821</td>\n",
       "    </tr>\n",
       "    <tr>\n",
       "      <th>3</th>\n",
       "      <td>4</td>\n",
       "      <td>GLM_2</td>\n",
       "      <td>pca</td>\n",
       "      <td>1.479534</td>\n",
       "      <td>4.181279</td>\n",
       "      <td>0.016710</td>\n",
       "      <td>2.044818</td>\n",
       "      <td>0.129267</td>\n",
       "      <td>0.859122</td>\n",
       "      <td>0.844028</td>\n",
       "    </tr>\n",
       "    <tr>\n",
       "      <th>4</th>\n",
       "      <td>5</td>\n",
       "      <td>DECISIONFOREST_1</td>\n",
       "      <td>rfe</td>\n",
       "      <td>1.976406</td>\n",
       "      <td>5.795498</td>\n",
       "      <td>0.035381</td>\n",
       "      <td>2.407384</td>\n",
       "      <td>0.188097</td>\n",
       "      <td>0.804735</td>\n",
       "      <td>0.791268</td>\n",
       "    </tr>\n",
       "    <tr>\n",
       "      <th>5</th>\n",
       "      <td>6</td>\n",
       "      <td>XGBOOST_2</td>\n",
       "      <td>pca</td>\n",
       "      <td>1.898949</td>\n",
       "      <td>6.342013</td>\n",
       "      <td>0.036450</td>\n",
       "      <td>2.518335</td>\n",
       "      <td>0.190920</td>\n",
       "      <td>0.786321</td>\n",
       "      <td>0.763427</td>\n",
       "    </tr>\n",
       "  </tbody>\n",
       "</table>\n",
       "</div>"
      ],
      "text/plain": [
       "   Rank          Model-ID Feature-Selection       MAE       MSE      MSLE  \\\n",
       "0     1             KNN_1               rfe  0.920625  1.786890  0.010297   \n",
       "1     2             GLM_1               rfe  1.344935  3.292778  0.020201   \n",
       "2     3         XGBOOST_1               rfe  1.622821  3.309030  0.015430   \n",
       "3     4             GLM_2               pca  1.479534  4.181279  0.016710   \n",
       "4     5  DECISIONFOREST_1               rfe  1.976406  5.795498  0.035381   \n",
       "5     6         XGBOOST_2               pca  1.898949  6.342013  0.036450   \n",
       "\n",
       "       RMSE     RMSLE  R2-score  Adjusted R2-score  \n",
       "0  1.336746  0.101475  0.939795           0.935643  \n",
       "1  1.814601  0.142130  0.889058           0.881407  \n",
       "2  1.819074  0.124219  0.888510           0.880821  \n",
       "3  2.044818  0.129267  0.859122           0.844028  \n",
       "4  2.407384  0.188097  0.804735           0.791268  \n",
       "5  2.518335  0.190920  0.786321           0.763427  "
      ]
     },
     "metadata": {},
     "output_type": "display_data"
    },
    {
     "name": "stdout",
     "output_type": "stream",
     "text": [
      "                                                                                          \r"
     ]
    },
    {
     "data": {
      "text/html": [
       "6 rows X 10 columns"
      ],
      "text/plain": [
       "<IPython.core.display.HTML object>"
      ]
     },
     "metadata": {},
     "output_type": "display_data"
    },
    {
     "name": "stdout",
     "output_type": "stream",
     "text": [
      "                                                                                          \r"
     ]
    },
    {
     "data": {
      "text/html": [
       "\n",
       "            <style>\n",
       "                .custom-div {\n",
       "                    background-color: lightgray;\n",
       "                    color: #000000;\n",
       "                    padding: 10px;\n",
       "                    border-radius: 8px;\n",
       "                    box-shadow: 0 3px 4px rgba(0 -  0 -  0 -  0.2);\n",
       "                    margin-bottom: 10px;\n",
       "                    text-align: center;\n",
       "                }\n",
       "            </style>\n",
       "        <br><div class=\"custom-div\"><h3><span style=\"color: green;\">1. Feature Exploration -> 2. Feature Engineering -> 3. Data Preparation -> 4. Model Training & Evaluation</span><center></h3></center></div>"
      ],
      "text/plain": [
       "<IPython.core.display.HTML object>"
      ]
     },
     "metadata": {},
     "output_type": "display_data"
    },
    {
     "name": "stdout",
     "output_type": "stream",
     "text": [
      "Completed: ｜⫿⫿⫿⫿⫿⫿⫿⫿⫿⫿⫿⫿⫿⫿⫿⫿⫿⫿⫿⫿⫿⫿⫿⫿⫿⫿⫿⫿⫿⫿⫿⫿⫿⫿⫿⫿⫿⫿⫿⫿⫿⫿⫿⫿⫿⫿⫿⫿⫿⫿⫿⫿⫿⫿⫿⫿⫿⫿⫿⫿｜ 100% - 19/19    \r"
     ]
    }
   ],
   "source": [
    "# Fitting train data\n",
    "aml.fit(advertising_df_train, advertising_df_train.sales)"
   ]
  },
  {
   "cell_type": "markdown",
   "id": "23a04eb1-68e6-48b7-95aa-442f434809da",
   "metadata": {},
   "source": [
    "## <b><span style='color:#F1A424'>| 3.</span> Leaderboard : </b>"
   ]
  },
  {
   "cell_type": "code",
   "execution_count": 18,
   "id": "77de1099-6122-4f8a-8e7f-dd67e5b4ced4",
   "metadata": {},
   "outputs": [
    {
     "data": {
      "text/html": [
       "<div>\n",
       "<style scoped>\n",
       "    .dataframe tbody tr th:only-of-type {\n",
       "        vertical-align: middle;\n",
       "    }\n",
       "\n",
       "    .dataframe tbody tr th {\n",
       "        vertical-align: top;\n",
       "    }\n",
       "\n",
       "    .dataframe thead th {\n",
       "        text-align: right;\n",
       "    }\n",
       "</style>\n",
       "<table border=\"1\" class=\"dataframe\">\n",
       "  <thead>\n",
       "    <tr style=\"text-align: right;\">\n",
       "      <th></th>\n",
       "      <th>Rank</th>\n",
       "      <th>Model-ID</th>\n",
       "      <th>Feature-Selection</th>\n",
       "      <th>MAE</th>\n",
       "      <th>MSE</th>\n",
       "      <th>MSLE</th>\n",
       "      <th>RMSE</th>\n",
       "      <th>RMSLE</th>\n",
       "      <th>R2-score</th>\n",
       "      <th>Adjusted R2-score</th>\n",
       "    </tr>\n",
       "  </thead>\n",
       "  <tbody>\n",
       "    <tr>\n",
       "      <th>0</th>\n",
       "      <td>1</td>\n",
       "      <td>KNN_1</td>\n",
       "      <td>rfe</td>\n",
       "      <td>0.920625</td>\n",
       "      <td>1.786890</td>\n",
       "      <td>0.010297</td>\n",
       "      <td>1.336746</td>\n",
       "      <td>0.101475</td>\n",
       "      <td>0.939795</td>\n",
       "      <td>0.935643</td>\n",
       "    </tr>\n",
       "    <tr>\n",
       "      <th>1</th>\n",
       "      <td>2</td>\n",
       "      <td>GLM_1</td>\n",
       "      <td>rfe</td>\n",
       "      <td>1.344935</td>\n",
       "      <td>3.292778</td>\n",
       "      <td>0.020201</td>\n",
       "      <td>1.814601</td>\n",
       "      <td>0.142130</td>\n",
       "      <td>0.889058</td>\n",
       "      <td>0.881407</td>\n",
       "    </tr>\n",
       "    <tr>\n",
       "      <th>2</th>\n",
       "      <td>3</td>\n",
       "      <td>XGBOOST_1</td>\n",
       "      <td>rfe</td>\n",
       "      <td>1.622821</td>\n",
       "      <td>3.309030</td>\n",
       "      <td>0.015430</td>\n",
       "      <td>1.819074</td>\n",
       "      <td>0.124219</td>\n",
       "      <td>0.888510</td>\n",
       "      <td>0.880821</td>\n",
       "    </tr>\n",
       "    <tr>\n",
       "      <th>3</th>\n",
       "      <td>4</td>\n",
       "      <td>GLM_2</td>\n",
       "      <td>pca</td>\n",
       "      <td>1.479534</td>\n",
       "      <td>4.181279</td>\n",
       "      <td>0.016710</td>\n",
       "      <td>2.044818</td>\n",
       "      <td>0.129267</td>\n",
       "      <td>0.859122</td>\n",
       "      <td>0.844028</td>\n",
       "    </tr>\n",
       "    <tr>\n",
       "      <th>4</th>\n",
       "      <td>5</td>\n",
       "      <td>DECISIONFOREST_1</td>\n",
       "      <td>rfe</td>\n",
       "      <td>1.976406</td>\n",
       "      <td>5.795498</td>\n",
       "      <td>0.035381</td>\n",
       "      <td>2.407384</td>\n",
       "      <td>0.188097</td>\n",
       "      <td>0.804735</td>\n",
       "      <td>0.791268</td>\n",
       "    </tr>\n",
       "    <tr>\n",
       "      <th>5</th>\n",
       "      <td>6</td>\n",
       "      <td>XGBOOST_2</td>\n",
       "      <td>pca</td>\n",
       "      <td>1.898949</td>\n",
       "      <td>6.342013</td>\n",
       "      <td>0.036450</td>\n",
       "      <td>2.518335</td>\n",
       "      <td>0.190920</td>\n",
       "      <td>0.786321</td>\n",
       "      <td>0.763427</td>\n",
       "    </tr>\n",
       "  </tbody>\n",
       "</table>\n",
       "</div>"
      ],
      "text/plain": [
       "   Rank          Model-ID Feature-Selection       MAE       MSE      MSLE  \\\n",
       "0     1             KNN_1               rfe  0.920625  1.786890  0.010297   \n",
       "1     2             GLM_1               rfe  1.344935  3.292778  0.020201   \n",
       "2     3         XGBOOST_1               rfe  1.622821  3.309030  0.015430   \n",
       "3     4             GLM_2               pca  1.479534  4.181279  0.016710   \n",
       "4     5  DECISIONFOREST_1               rfe  1.976406  5.795498  0.035381   \n",
       "5     6         XGBOOST_2               pca  1.898949  6.342013  0.036450   \n",
       "\n",
       "       RMSE     RMSLE  R2-score  Adjusted R2-score  \n",
       "0  1.336746  0.101475  0.939795           0.935643  \n",
       "1  1.814601  0.142130  0.889058           0.881407  \n",
       "2  1.819074  0.124219  0.888510           0.880821  \n",
       "3  2.044818  0.129267  0.859122           0.844028  \n",
       "4  2.407384  0.188097  0.804735           0.791268  \n",
       "5  2.518335  0.190920  0.786321           0.763427  "
      ]
     },
     "execution_count": 18,
     "metadata": {},
     "output_type": "execute_result"
    }
   ],
   "source": [
    "# Fetching Leaderboard\n",
    "aml.leaderboard()"
   ]
  },
  {
   "cell_type": "markdown",
   "id": "a7a3aa08-e349-4a61-9217-2c17d50411d8",
   "metadata": {},
   "source": [
    "## <b><span style='color:#F1A424'>| 4.</span> Best Performing Model : </b>"
   ]
  },
  {
   "cell_type": "code",
   "execution_count": 19,
   "id": "c4c32832-a76b-4f42-826a-cefc38a6301b",
   "metadata": {},
   "outputs": [
    {
     "data": {
      "text/html": [
       "<div>\n",
       "<style scoped>\n",
       "    .dataframe tbody tr th:only-of-type {\n",
       "        vertical-align: middle;\n",
       "    }\n",
       "\n",
       "    .dataframe tbody tr th {\n",
       "        vertical-align: top;\n",
       "    }\n",
       "\n",
       "    .dataframe thead th {\n",
       "        text-align: right;\n",
       "    }\n",
       "</style>\n",
       "<table border=\"1\" class=\"dataframe\">\n",
       "  <thead>\n",
       "    <tr style=\"text-align: right;\">\n",
       "      <th></th>\n",
       "      <th>Rank</th>\n",
       "      <th>Model-ID</th>\n",
       "      <th>Feature-Selection</th>\n",
       "      <th>MAE</th>\n",
       "      <th>MSE</th>\n",
       "      <th>MSLE</th>\n",
       "      <th>RMSE</th>\n",
       "      <th>RMSLE</th>\n",
       "      <th>R2-score</th>\n",
       "      <th>Adjusted R2-score</th>\n",
       "    </tr>\n",
       "  </thead>\n",
       "  <tbody>\n",
       "    <tr>\n",
       "      <th>0</th>\n",
       "      <td>1</td>\n",
       "      <td>KNN_1</td>\n",
       "      <td>rfe</td>\n",
       "      <td>0.920625</td>\n",
       "      <td>1.78689</td>\n",
       "      <td>0.010297</td>\n",
       "      <td>1.336746</td>\n",
       "      <td>0.101475</td>\n",
       "      <td>0.939795</td>\n",
       "      <td>0.935643</td>\n",
       "    </tr>\n",
       "  </tbody>\n",
       "</table>\n",
       "</div>"
      ],
      "text/plain": [
       "   Rank Model-ID Feature-Selection       MAE      MSE      MSLE      RMSE  \\\n",
       "0     1    KNN_1               rfe  0.920625  1.78689  0.010297  1.336746   \n",
       "\n",
       "      RMSLE  R2-score  Adjusted R2-score  \n",
       "0  0.101475  0.939795           0.935643  "
      ]
     },
     "metadata": {},
     "output_type": "display_data"
    }
   ],
   "source": [
    "# Fetching best performing model for dataset\n",
    "aml.leader()"
   ]
  },
  {
   "cell_type": "markdown",
   "id": "e43181a9-3847-4e8b-b510-6da81f1c550f",
   "metadata": {},
   "source": [
    "## <b><span style='color:#F1A424'>| 5.</span> Generating Prediction : </b>"
   ]
  },
  {
   "cell_type": "code",
   "execution_count": 22,
   "id": "5b6edfe3-bd5a-46bd-ad80-b20fadfed7a0",
   "metadata": {},
   "outputs": [
    {
     "name": "stdout",
     "output_type": "stream",
     "text": [
      "Data Transformation started ...\n",
      "                                                                                                \r"
     ]
    },
    {
     "data": {
      "text/html": [
       "Performing transformation carried out in feature engineering phase ..."
      ],
      "text/plain": [
       "<IPython.core.display.HTML object>"
      ]
     },
     "metadata": {},
     "output_type": "display_data"
    },
    {
     "name": "stdout",
     "output_type": "stream",
     "text": [
      "                                                                                                 \r"
     ]
    },
    {
     "data": {
      "text/html": [
       "Performing transformation carried out in data preparation phase ..."
      ],
      "text/plain": [
       "<IPython.core.display.HTML object>"
      ]
     },
     "metadata": {},
     "output_type": "display_data"
    },
    {
     "name": "stdout",
     "output_type": "stream",
     "text": [
      "result data stored in table '\"ALICE\".\"ml__td_sqlmr_persist_out__1719259851940465\"'⫾⫾⫾｜ 60% - 6/10\n",
      "                                                                                                 \r"
     ]
    },
    {
     "data": {
      "text/html": [
       "\n",
       "Updated dataset after performing Lasso feature selection:"
      ],
      "text/plain": [
       "<IPython.core.display.HTML object>"
      ]
     },
     "metadata": {},
     "output_type": "display_data"
    },
    {
     "data": {
      "text/html": [
       "<style type=\"text/css\">\n",
       "\ttable {border:ridge 5px;}\n",
       "\ttable td {border:inset 1px;}\n",
       "\ttable tr#HeaderRow {background-color:grey; color:white;}</style>\n",
       "<html><table>\n",
       "\t<tr id=\"HeaderRow\">\n",
       "\t\t<th>id</th>\n",
       "\t\t<th>TV</th>\n",
       "\t\t<th>radio</th>\n",
       "\t\t<th>newspaper</th>\n",
       "\t\t<th>sales</th>\n",
       "\t</tr>\n",
       "\t<tr>\n",
       "\t\t<td>17</td>\n",
       "\t\t<td>89.7</td>\n",
       "\t\t<td>9.9</td>\n",
       "\t\t<td>35.7</td>\n",
       "\t\t<td>10.6</td>\n",
       "\t</tr>\n",
       "\t<tr>\n",
       "\t\t<td>26</td>\n",
       "\t\t<td>95.7</td>\n",
       "\t\t<td>1.4</td>\n",
       "\t\t<td>7.4</td>\n",
       "\t\t<td>11.9</td>\n",
       "\t</tr>\n",
       "\t<tr>\n",
       "\t\t<td>20</td>\n",
       "\t\t<td>175.1</td>\n",
       "\t\t<td>22.5</td>\n",
       "\t\t<td>31.5</td>\n",
       "\t\t<td>16.1</td>\n",
       "\t</tr>\n",
       "\t<tr>\n",
       "\t\t<td>50</td>\n",
       "\t\t<td>107.4</td>\n",
       "\t\t<td>14.0</td>\n",
       "\t\t<td>10.9</td>\n",
       "\t\t<td>11.5</td>\n",
       "\t</tr>\n",
       "\t<tr>\n",
       "\t\t<td>28</td>\n",
       "\t\t<td>74.7</td>\n",
       "\t\t<td>49.4</td>\n",
       "\t\t<td>45.7</td>\n",
       "\t\t<td>14.7</td>\n",
       "\t</tr>\n",
       "\t<tr>\n",
       "\t\t<td>15</td>\n",
       "\t\t<td>94.2</td>\n",
       "\t\t<td>4.9</td>\n",
       "\t\t<td>8.1</td>\n",
       "\t\t<td>14.0</td>\n",
       "\t</tr>\n",
       "\t<tr>\n",
       "\t\t<td>32</td>\n",
       "\t\t<td>102.7</td>\n",
       "\t\t<td>29.6</td>\n",
       "\t\t<td>8.4</td>\n",
       "\t\t<td>14.0</td>\n",
       "\t</tr>\n",
       "\t<tr>\n",
       "\t\t<td>19</td>\n",
       "\t\t<td>48.3</td>\n",
       "\t\t<td>47.0</td>\n",
       "\t\t<td>8.5</td>\n",
       "\t\t<td>11.6</td>\n",
       "\t</tr>\n",
       "\t<tr>\n",
       "\t\t<td>53</td>\n",
       "\t\t<td>293.6</td>\n",
       "\t\t<td>27.7</td>\n",
       "\t\t<td>1.8</td>\n",
       "\t\t<td>20.7</td>\n",
       "\t</tr>\n",
       "\t<tr>\n",
       "\t\t<td>38</td>\n",
       "\t\t<td>237.4</td>\n",
       "\t\t<td>5.1</td>\n",
       "\t\t<td>23.5</td>\n",
       "\t\t<td>17.5</td>\n",
       "\t</tr>\n",
       "</table></html>"
      ],
      "text/plain": [
       "       TV  radio  newspaper  sales\n",
       "id                                \n",
       "17   89.7    9.9       35.7   10.6\n",
       "26   95.7    1.4        7.4   11.9\n",
       "20  175.1   22.5       31.5   16.1\n",
       "50  107.4   14.0       10.9   11.5\n",
       "28   74.7   49.4       45.7   14.7\n",
       "15   94.2    4.9        8.1   14.0\n",
       "32  102.7   29.6        8.4   14.0\n",
       "19   48.3   47.0        8.5   11.6\n",
       "53  293.6   27.7        1.8   20.7\n",
       "38  237.4    5.1       23.5   17.5"
      ]
     },
     "metadata": {},
     "output_type": "display_data"
    },
    {
     "name": "stdout",
     "output_type": "stream",
     "text": [
      "                                                                                                 \r"
     ]
    },
    {
     "data": {
      "text/html": [
       "40 rows X 5 columns"
      ],
      "text/plain": [
       "<IPython.core.display.HTML object>"
      ]
     },
     "metadata": {},
     "output_type": "display_data"
    },
    {
     "name": "stdout",
     "output_type": "stream",
     "text": [
      "                                                                                                 \r"
     ]
    },
    {
     "data": {
      "text/html": [
       "\n",
       "Updated dataset after performing scaling on Lasso selected features :"
      ],
      "text/plain": [
       "<IPython.core.display.HTML object>"
      ]
     },
     "metadata": {},
     "output_type": "display_data"
    },
    {
     "data": {
      "text/html": [
       "<style type=\"text/css\">\n",
       "\ttable {border:ridge 5px;}\n",
       "\ttable td {border:inset 1px;}\n",
       "\ttable tr#HeaderRow {background-color:grey; color:white;}</style>\n",
       "<html><table>\n",
       "\t<tr id=\"HeaderRow\">\n",
       "\t\t<th>sales</th>\n",
       "\t\t<th>id</th>\n",
       "\t\t<th>TV</th>\n",
       "\t\t<th>radio</th>\n",
       "\t\t<th>newspaper</th>\n",
       "\t</tr>\n",
       "\t<tr>\n",
       "\t\t<td>17.5</td>\n",
       "\t\t<td>38</td>\n",
       "\t\t<td>1.0122268518082589</td>\n",
       "\t\t<td>-1.1668499749813053</td>\n",
       "\t\t<td>-0.31272929356798707</td>\n",
       "\t</tr>\n",
       "\t<tr>\n",
       "\t\t<td>9.2</td>\n",
       "\t\t<td>36</td>\n",
       "\t\t<td>-1.4715597858193146</td>\n",
       "\t\t<td>0.8293903080824359</td>\n",
       "\t\t<td>1.7994388201584555</td>\n",
       "\t</tr>\n",
       "\t<tr>\n",
       "\t\t<td>14.7</td>\n",
       "\t\t<td>28</td>\n",
       "\t\t<td>-0.8796836629015079</td>\n",
       "\t\t<td>1.7809315096761522</td>\n",
       "\t\t<td>0.7931700489963296</td>\n",
       "\t</tr>\n",
       "\t<tr>\n",
       "\t\t<td>11.5</td>\n",
       "\t\t<td>50</td>\n",
       "\t\t<td>-0.49944104562425296</td>\n",
       "\t\t<td>-0.5746320243390622</td>\n",
       "\t\t<td>-0.9404018934017885</td>\n",
       "\t</tr>\n",
       "\t<tr>\n",
       "\t\t<td>16.1</td>\n",
       "\t\t<td>20</td>\n",
       "\t\t<td>0.28778908250021656</td>\n",
       "\t\t<td>-0.009030610804335527</td>\n",
       "\t\t<td>0.08579299204077562</td>\n",
       "\t</tr>\n",
       "\t<tr>\n",
       "\t\t<td>14.0</td>\n",
       "\t\t<td>15</td>\n",
       "\t\t<td>-0.6529334782866312</td>\n",
       "\t\t<td>-1.1801582435350637</td>\n",
       "\t\t<td>-1.0798846933648552</td>\n",
       "\t</tr>\n",
       "\t<tr>\n",
       "\t\t<td>14.0</td>\n",
       "\t\t<td>32</td>\n",
       "\t\t<td>-0.5540936542237361</td>\n",
       "\t\t<td>0.4634129228540833</td>\n",
       "\t\t<td>-1.0649401076545268</td>\n",
       "\t</tr>\n",
       "\t<tr>\n",
       "\t\t<td>11.6</td>\n",
       "\t\t<td>19</td>\n",
       "\t\t<td>-1.1866685282262643</td>\n",
       "\t\t<td>1.6212322870310532</td>\n",
       "\t\t<td>-1.0599585790844173</td>\n",
       "\t</tr>\n",
       "\t<tr>\n",
       "\t\t<td>20.7</td>\n",
       "\t\t<td>53</td>\n",
       "\t\t<td>1.6657325120829296</td>\n",
       "\t\t<td>0.3369843715933796</td>\n",
       "\t\t<td>-1.3937209932817558</td>\n",
       "\t</tr>\n",
       "\t<tr>\n",
       "\t\t<td>11.8</td>\n",
       "\t\t<td>40</td>\n",
       "\t\t<td>-0.8599156980889289</td>\n",
       "\t\t<td>0.2704430288245882</td>\n",
       "\t\t<td>-0.37250763640930146</td>\n",
       "\t</tr>\n",
       "</table></html>"
      ],
      "text/plain": [
       "   sales  id        TV     radio  newspaper\n",
       "0   17.5  38  1.012227 -1.166850  -0.312729\n",
       "1    9.2  36 -1.471560  0.829390   1.799439\n",
       "2   14.7  28 -0.879684  1.780932   0.793170\n",
       "3   11.5  50 -0.499441 -0.574632  -0.940402\n",
       "4   16.1  20  0.287789 -0.009031   0.085793\n",
       "5   14.0  15 -0.652933 -1.180158  -1.079885\n",
       "6   14.0  32 -0.554094  0.463413  -1.064940\n",
       "7   11.6  19 -1.186669  1.621232  -1.059959\n",
       "8   20.7  53  1.665733  0.336984  -1.393721\n",
       "9   11.8  40 -0.859916  0.270443  -0.372508"
      ]
     },
     "metadata": {},
     "output_type": "display_data"
    },
    {
     "name": "stdout",
     "output_type": "stream",
     "text": [
      "                                                                                                 \r"
     ]
    },
    {
     "data": {
      "text/html": [
       "40 rows X 5 columns"
      ],
      "text/plain": [
       "<IPython.core.display.HTML object>"
      ]
     },
     "metadata": {},
     "output_type": "display_data"
    },
    {
     "name": "stdout",
     "output_type": "stream",
     "text": [
      "                                                                                                 \r"
     ]
    },
    {
     "data": {
      "text/html": [
       "\n",
       "Updated dataset after performing RFE feature selection:"
      ],
      "text/plain": [
       "<IPython.core.display.HTML object>"
      ]
     },
     "metadata": {},
     "output_type": "display_data"
    },
    {
     "data": {
      "text/html": [
       "<style type=\"text/css\">\n",
       "\ttable {border:ridge 5px;}\n",
       "\ttable td {border:inset 1px;}\n",
       "\ttable tr#HeaderRow {background-color:grey; color:white;}</style>\n",
       "<html><table>\n",
       "\t<tr id=\"HeaderRow\">\n",
       "\t\t<th>id</th>\n",
       "\t\t<th>TV</th>\n",
       "\t\t<th>radio</th>\n",
       "\t\t<th>sales</th>\n",
       "\t</tr>\n",
       "\t<tr>\n",
       "\t\t<td>50</td>\n",
       "\t\t<td>107.4</td>\n",
       "\t\t<td>14.0</td>\n",
       "\t\t<td>11.5</td>\n",
       "\t</tr>\n",
       "\t<tr>\n",
       "\t\t<td>28</td>\n",
       "\t\t<td>74.7</td>\n",
       "\t\t<td>49.4</td>\n",
       "\t\t<td>14.7</td>\n",
       "\t</tr>\n",
       "\t<tr>\n",
       "\t\t<td>15</td>\n",
       "\t\t<td>94.2</td>\n",
       "\t\t<td>4.9</td>\n",
       "\t\t<td>14.0</td>\n",
       "\t</tr>\n",
       "\t<tr>\n",
       "\t\t<td>32</td>\n",
       "\t\t<td>102.7</td>\n",
       "\t\t<td>29.6</td>\n",
       "\t\t<td>14.0</td>\n",
       "\t</tr>\n",
       "\t<tr>\n",
       "\t\t<td>34</td>\n",
       "\t\t<td>134.3</td>\n",
       "\t\t<td>4.9</td>\n",
       "\t\t<td>14.0</td>\n",
       "\t</tr>\n",
       "\t<tr>\n",
       "\t\t<td>26</td>\n",
       "\t\t<td>95.7</td>\n",
       "\t\t<td>1.4</td>\n",
       "\t\t<td>11.9</td>\n",
       "\t</tr>\n",
       "\t<tr>\n",
       "\t\t<td>20</td>\n",
       "\t\t<td>175.1</td>\n",
       "\t\t<td>22.5</td>\n",
       "\t\t<td>16.1</td>\n",
       "\t</tr>\n",
       "\t<tr>\n",
       "\t\t<td>40</td>\n",
       "\t\t<td>76.4</td>\n",
       "\t\t<td>26.7</td>\n",
       "\t\t<td>11.8</td>\n",
       "\t</tr>\n",
       "\t<tr>\n",
       "\t\t<td>22</td>\n",
       "\t\t<td>184.9</td>\n",
       "\t\t<td>21.0</td>\n",
       "\t\t<td>20.5</td>\n",
       "\t</tr>\n",
       "\t<tr>\n",
       "\t\t<td>19</td>\n",
       "\t\t<td>48.3</td>\n",
       "\t\t<td>47.0</td>\n",
       "\t\t<td>11.6</td>\n",
       "\t</tr>\n",
       "</table></html>"
      ],
      "text/plain": [
       "       TV  radio  sales\n",
       "id                     \n",
       "50  107.4   14.0   11.5\n",
       "28   74.7   49.4   14.7\n",
       "15   94.2    4.9   14.0\n",
       "32  102.7   29.6   14.0\n",
       "34  134.3    4.9   14.0\n",
       "26   95.7    1.4   11.9\n",
       "20  175.1   22.5   16.1\n",
       "40   76.4   26.7   11.8\n",
       "22  184.9   21.0   20.5\n",
       "19   48.3   47.0   11.6"
      ]
     },
     "metadata": {},
     "output_type": "display_data"
    },
    {
     "name": "stdout",
     "output_type": "stream",
     "text": [
      "                                                                                                 \r"
     ]
    },
    {
     "data": {
      "text/html": [
       "40 rows X 4 columns"
      ],
      "text/plain": [
       "<IPython.core.display.HTML object>"
      ]
     },
     "metadata": {},
     "output_type": "display_data"
    },
    {
     "name": "stdout",
     "output_type": "stream",
     "text": [
      "                                                                                                 \r"
     ]
    },
    {
     "data": {
      "text/html": [
       "\n",
       "Updated dataset after performing scaling on RFE selected features :"
      ],
      "text/plain": [
       "<IPython.core.display.HTML object>"
      ]
     },
     "metadata": {},
     "output_type": "display_data"
    },
    {
     "data": {
      "text/html": [
       "<style type=\"text/css\">\n",
       "\ttable {border:ridge 5px;}\n",
       "\ttable td {border:inset 1px;}\n",
       "\ttable tr#HeaderRow {background-color:grey; color:white;}</style>\n",
       "<html><table>\n",
       "\t<tr id=\"HeaderRow\">\n",
       "\t\t<th>sales</th>\n",
       "\t\t<th>id</th>\n",
       "\t\t<th>r_TV</th>\n",
       "\t\t<th>r_radio</th>\n",
       "\t</tr>\n",
       "\t<tr>\n",
       "\t\t<td>10.6</td>\n",
       "\t\t<td>17</td>\n",
       "\t\t<td>-0.7052604439669873</td>\n",
       "\t\t<td>-0.8474515296911068</td>\n",
       "\t</tr>\n",
       "\t<tr>\n",
       "\t\t<td>9.2</td>\n",
       "\t\t<td>36</td>\n",
       "\t\t<td>-1.4715597858193146</td>\n",
       "\t\t<td>0.8293903080824359</td>\n",
       "\t</tr>\n",
       "\t<tr>\n",
       "\t\t<td>14.7</td>\n",
       "\t\t<td>28</td>\n",
       "\t\t<td>-0.8796836629015079</td>\n",
       "\t\t<td>1.7809315096761522</td>\n",
       "\t</tr>\n",
       "\t<tr>\n",
       "\t\t<td>14.0</td>\n",
       "\t\t<td>15</td>\n",
       "\t\t<td>-0.6529334782866312</td>\n",
       "\t\t<td>-1.1801582435350637</td>\n",
       "\t</tr>\n",
       "\t<tr>\n",
       "\t\t<td>17.5</td>\n",
       "\t\t<td>38</td>\n",
       "\t\t<td>1.0122268518082589</td>\n",
       "\t\t<td>-1.1668499749813053</td>\n",
       "\t</tr>\n",
       "\t<tr>\n",
       "\t\t<td>10.7</td>\n",
       "\t\t<td>55</td>\n",
       "\t\t<td>-0.5808385477936959</td>\n",
       "\t\t<td>-0.8674139325217443</td>\n",
       "\t</tr>\n",
       "\t<tr>\n",
       "\t\t<td>11.8</td>\n",
       "\t\t<td>40</td>\n",
       "\t\t<td>-0.8599156980889289</td>\n",
       "\t\t<td>0.2704430288245882</td>\n",
       "\t</tr>\n",
       "\t<tr>\n",
       "\t\t<td>20.5</td>\n",
       "\t\t<td>22</td>\n",
       "\t\t<td>0.40174558553743683</td>\n",
       "\t\t<td>-0.10884262495752259</td>\n",
       "\t</tr>\n",
       "\t<tr>\n",
       "\t\t<td>11.5</td>\n",
       "\t\t<td>50</td>\n",
       "\t\t<td>-0.49944104562425296</td>\n",
       "\t\t<td>-0.5746320243390622</td>\n",
       "\t</tr>\n",
       "\t<tr>\n",
       "\t\t<td>11.6</td>\n",
       "\t\t<td>19</td>\n",
       "\t\t<td>-1.1866685282262643</td>\n",
       "\t\t<td>1.6212322870310532</td>\n",
       "\t</tr>\n",
       "</table></html>"
      ],
      "text/plain": [
       "   sales  id      r_TV   r_radio\n",
       "0   10.6  17 -0.705260 -0.847452\n",
       "1    9.2  36 -1.471560  0.829390\n",
       "2   14.7  28 -0.879684  1.780932\n",
       "3   14.0  15 -0.652933 -1.180158\n",
       "4   17.5  38  1.012227 -1.166850\n",
       "5   10.7  55 -0.580839 -0.867414\n",
       "6   11.8  40 -0.859916  0.270443\n",
       "7   20.5  22  0.401746 -0.108843\n",
       "8   11.5  50 -0.499441 -0.574632\n",
       "9   11.6  19 -1.186669  1.621232"
      ]
     },
     "metadata": {},
     "output_type": "display_data"
    },
    {
     "name": "stdout",
     "output_type": "stream",
     "text": [
      "                                                                                                 \r"
     ]
    },
    {
     "data": {
      "text/html": [
       "40 rows X 4 columns"
      ],
      "text/plain": [
       "<IPython.core.display.HTML object>"
      ]
     },
     "metadata": {},
     "output_type": "display_data"
    },
    {
     "name": "stdout",
     "output_type": "stream",
     "text": [
      "                                                                                                 \r"
     ]
    },
    {
     "data": {
      "text/html": [
       "\n",
       "Updated dataset after performing scaling for PCA feature selection :"
      ],
      "text/plain": [
       "<IPython.core.display.HTML object>"
      ]
     },
     "metadata": {},
     "output_type": "display_data"
    },
    {
     "data": {
      "text/html": [
       "<style type=\"text/css\">\n",
       "\ttable {border:ridge 5px;}\n",
       "\ttable td {border:inset 1px;}\n",
       "\ttable tr#HeaderRow {background-color:grey; color:white;}</style>\n",
       "<html><table>\n",
       "\t<tr id=\"HeaderRow\">\n",
       "\t\t<th>sales</th>\n",
       "\t\t<th>id</th>\n",
       "\t\t<th>TV</th>\n",
       "\t\t<th>radio</th>\n",
       "\t\t<th>newspaper</th>\n",
       "\t</tr>\n",
       "\t<tr>\n",
       "\t\t<td>10.6</td>\n",
       "\t\t<td>17</td>\n",
       "\t\t<td>-0.7052604439669876</td>\n",
       "\t\t<td>-0.8474515296911074</td>\n",
       "\t\t<td>0.29501719198537585</td>\n",
       "\t</tr>\n",
       "\t<tr>\n",
       "\t\t<td>14.0</td>\n",
       "\t\t<td>15</td>\n",
       "\t\t<td>-0.6529334782866315</td>\n",
       "\t\t<td>-1.1801582435350644</td>\n",
       "\t\t<td>-1.0798846933648556</td>\n",
       "\t</tr>\n",
       "\t<tr>\n",
       "\t\t<td>14.0</td>\n",
       "\t\t<td>32</td>\n",
       "\t\t<td>-0.5540936542237365</td>\n",
       "\t\t<td>0.4634129228540829</td>\n",
       "\t\t<td>-1.064940107654527</td>\n",
       "\t</tr>\n",
       "\t<tr>\n",
       "\t\t<td>11.6</td>\n",
       "\t\t<td>19</td>\n",
       "\t\t<td>-1.1866685282262646</td>\n",
       "\t\t<td>1.621232287031053</td>\n",
       "\t\t<td>-1.0599585790844175</td>\n",
       "\t</tr>\n",
       "\t<tr>\n",
       "\t\t<td>17.5</td>\n",
       "\t\t<td>38</td>\n",
       "\t\t<td>1.0122268518082587</td>\n",
       "\t\t<td>-1.166849974981306</td>\n",
       "\t\t<td>-0.31272929356798745</td>\n",
       "\t</tr>\n",
       "\t<tr>\n",
       "\t\t<td>10.7</td>\n",
       "\t\t<td>55</td>\n",
       "\t\t<td>-0.5808385477936963</td>\n",
       "\t\t<td>-0.8674139325217448</td>\n",
       "\t\t<td>-1.3040534790197846</td>\n",
       "\t</tr>\n",
       "\t<tr>\n",
       "\t\t<td>11.5</td>\n",
       "\t\t<td>50</td>\n",
       "\t\t<td>-0.4994410456242533</td>\n",
       "\t\t<td>-0.5746320243390627</td>\n",
       "\t\t<td>-0.9404018934017888</td>\n",
       "\t</tr>\n",
       "\t<tr>\n",
       "\t\t<td>11.8</td>\n",
       "\t\t<td>40</td>\n",
       "\t\t<td>-0.8599156980889292</td>\n",
       "\t\t<td>0.27044302882458776</td>\n",
       "\t\t<td>-0.3725076364093018</td>\n",
       "\t</tr>\n",
       "\t<tr>\n",
       "\t\t<td>20.5</td>\n",
       "\t\t<td>22</td>\n",
       "\t\t<td>0.4017455855374365</td>\n",
       "\t\t<td>-0.10884262495752307</td>\n",
       "\t\t<td>-0.38745222211963043</td>\n",
       "\t</tr>\n",
       "\t<tr>\n",
       "\t\t<td>9.2</td>\n",
       "\t\t<td>36</td>\n",
       "\t\t<td>-1.471559785819315</td>\n",
       "\t\t<td>0.8293903080824355</td>\n",
       "\t\t<td>1.7994388201584552</td>\n",
       "\t</tr>\n",
       "</table></html>"
      ],
      "text/plain": [
       "   sales  id        TV     radio  newspaper\n",
       "0   10.6  17 -0.705260 -0.847452   0.295017\n",
       "1   14.0  15 -0.652933 -1.180158  -1.079885\n",
       "2   14.0  32 -0.554094  0.463413  -1.064940\n",
       "3   11.6  19 -1.186669  1.621232  -1.059959\n",
       "4   17.5  38  1.012227 -1.166850  -0.312729\n",
       "5   10.7  55 -0.580839 -0.867414  -1.304053\n",
       "6   11.5  50 -0.499441 -0.574632  -0.940402\n",
       "7   11.8  40 -0.859916  0.270443  -0.372508\n",
       "8   20.5  22  0.401746 -0.108843  -0.387452\n",
       "9    9.2  36 -1.471560  0.829390   1.799439"
      ]
     },
     "metadata": {},
     "output_type": "display_data"
    },
    {
     "name": "stdout",
     "output_type": "stream",
     "text": [
      "                                                                                                 \r"
     ]
    },
    {
     "data": {
      "text/html": [
       "40 rows X 5 columns"
      ],
      "text/plain": [
       "<IPython.core.display.HTML object>"
      ]
     },
     "metadata": {},
     "output_type": "display_data"
    },
    {
     "name": "stdout",
     "output_type": "stream",
     "text": [
      "                                                                                                 \r"
     ]
    },
    {
     "data": {
      "text/html": [
       "\n",
       "Updated dataset after performing PCA feature selection :"
      ],
      "text/plain": [
       "<IPython.core.display.HTML object>"
      ]
     },
     "metadata": {},
     "output_type": "display_data"
    },
    {
     "data": {
      "text/html": [
       "<div>\n",
       "<style scoped>\n",
       "    .dataframe tbody tr th:only-of-type {\n",
       "        vertical-align: middle;\n",
       "    }\n",
       "\n",
       "    .dataframe tbody tr th {\n",
       "        vertical-align: top;\n",
       "    }\n",
       "\n",
       "    .dataframe thead th {\n",
       "        text-align: right;\n",
       "    }\n",
       "</style>\n",
       "<table border=\"1\" class=\"dataframe\">\n",
       "  <thead>\n",
       "    <tr style=\"text-align: right;\">\n",
       "      <th></th>\n",
       "      <th>id</th>\n",
       "      <th>col_0</th>\n",
       "      <th>col_1</th>\n",
       "      <th>col_2</th>\n",
       "      <th>sales</th>\n",
       "    </tr>\n",
       "  </thead>\n",
       "  <tbody>\n",
       "    <tr>\n",
       "      <th>0</th>\n",
       "      <td>26</td>\n",
       "      <td>-1.888529</td>\n",
       "      <td>0.193355</td>\n",
       "      <td>0.198287</td>\n",
       "      <td>11.9</td>\n",
       "    </tr>\n",
       "    <tr>\n",
       "      <th>1</th>\n",
       "      <td>17</td>\n",
       "      <td>-0.551606</td>\n",
       "      <td>0.615668</td>\n",
       "      <td>0.786946</td>\n",
       "      <td>10.6</td>\n",
       "    </tr>\n",
       "    <tr>\n",
       "      <th>2</th>\n",
       "      <td>40</td>\n",
       "      <td>-0.275228</td>\n",
       "      <td>0.802607</td>\n",
       "      <td>-0.481070</td>\n",
       "      <td>11.8</td>\n",
       "    </tr>\n",
       "    <tr>\n",
       "      <th>3</th>\n",
       "      <td>19</td>\n",
       "      <td>0.106570</td>\n",
       "      <td>1.187099</td>\n",
       "      <td>-1.933786</td>\n",
       "      <td>11.6</td>\n",
       "    </tr>\n",
       "    <tr>\n",
       "      <th>4</th>\n",
       "      <td>38</td>\n",
       "      <td>-0.774242</td>\n",
       "      <td>-1.214602</td>\n",
       "      <td>0.639713</td>\n",
       "      <td>17.5</td>\n",
       "    </tr>\n",
       "    <tr>\n",
       "      <th>5</th>\n",
       "      <td>50</td>\n",
       "      <td>-1.159035</td>\n",
       "      <td>0.218808</td>\n",
       "      <td>-0.269739</td>\n",
       "      <td>11.5</td>\n",
       "    </tr>\n",
       "    <tr>\n",
       "      <th>6</th>\n",
       "      <td>36</td>\n",
       "      <td>1.448029</td>\n",
       "      <td>1.896165</td>\n",
       "      <td>0.631764</td>\n",
       "      <td>9.2</td>\n",
       "    </tr>\n",
       "    <tr>\n",
       "      <th>7</th>\n",
       "      <td>15</td>\n",
       "      <td>-1.708448</td>\n",
       "      <td>0.251403</td>\n",
       "      <td>0.057004</td>\n",
       "      <td>14.0</td>\n",
       "    </tr>\n",
       "    <tr>\n",
       "      <th>8</th>\n",
       "      <td>20</td>\n",
       "      <td>0.121653</td>\n",
       "      <td>-0.264040</td>\n",
       "      <td>0.075815</td>\n",
       "      <td>16.1</td>\n",
       "    </tr>\n",
       "    <tr>\n",
       "      <th>9</th>\n",
       "      <td>34</td>\n",
       "      <td>-1.555441</td>\n",
       "      <td>-0.189478</td>\n",
       "      <td>0.113697</td>\n",
       "      <td>14.0</td>\n",
       "    </tr>\n",
       "  </tbody>\n",
       "</table>\n",
       "</div>"
      ],
      "text/plain": [
       "   id     col_0     col_1     col_2  sales\n",
       "0  26 -1.888529  0.193355  0.198287   11.9\n",
       "1  17 -0.551606  0.615668  0.786946   10.6\n",
       "2  40 -0.275228  0.802607 -0.481070   11.8\n",
       "3  19  0.106570  1.187099 -1.933786   11.6\n",
       "4  38 -0.774242 -1.214602  0.639713   17.5\n",
       "5  50 -1.159035  0.218808 -0.269739   11.5\n",
       "6  36  1.448029  1.896165  0.631764    9.2\n",
       "7  15 -1.708448  0.251403  0.057004   14.0\n",
       "8  20  0.121653 -0.264040  0.075815   16.1\n",
       "9  34 -1.555441 -0.189478  0.113697   14.0"
      ]
     },
     "metadata": {},
     "output_type": "display_data"
    },
    {
     "name": "stdout",
     "output_type": "stream",
     "text": [
      "                                                                                                 \r"
     ]
    },
    {
     "data": {
      "text/html": [
       "10 rows X 5 columns"
      ],
      "text/plain": [
       "<IPython.core.display.HTML object>"
      ]
     },
     "metadata": {},
     "output_type": "display_data"
    },
    {
     "name": "stdout",
     "output_type": "stream",
     "text": [
      "Data Transformation completed.⫿⫿⫿⫿⫿⫿⫿⫿⫿⫿⫿⫿⫿⫿⫿⫿⫿⫿⫿⫿⫿⫿⫿⫿⫿⫿⫿⫿⫿⫿⫿⫿⫿⫿⫿⫿⫿⫿⫿⫿⫿⫿｜ 100% - 10/10           \n",
      "\n",
      "Following model is being used for generating prediction :\n",
      "Model ID : KNN_1 \n",
      "Feature Selection Method : rfe\n",
      "\n",
      "Prediction : \n",
      "   id  prediction  sales\n",
      "0  12   18.197614   17.1\n",
      "1  10   21.796484   22.2\n",
      "2  15   12.431960   14.0\n",
      "3  14   19.602881   19.8\n",
      "4  22   19.724658   20.5\n",
      "5  27   13.714239   13.2\n",
      "6   9    7.619378    9.5\n",
      "7  11   20.198037   17.4\n",
      "8  50   12.161001   11.5\n",
      "9  28   13.760772   14.7\n",
      "\n",
      "Performance Metrics : \n",
      "        MAE       MSE      MSLE      MAPE       MPE      RMSE     RMSLE        ME        R2        EV       MPD      MGD\n",
      "0  1.020926  1.957473  0.011834  7.791038  1.001597  1.399097  0.108784  4.596665  0.894172  0.895531  0.164324  0.01545\n"
     ]
    }
   ],
   "source": [
    "# Generating prediction and metrics on test data\n",
    "prediction = aml.predict(advertising_df_test)"
   ]
  },
  {
   "cell_type": "code",
   "execution_count": 23,
   "id": "cc4f6a78-1cdf-4938-a9f1-22035d8404ca",
   "metadata": {},
   "outputs": [
    {
     "data": {
      "text/html": [
       "<style type=\"text/css\">\n",
       "\ttable {border:ridge 5px;}\n",
       "\ttable td {border:inset 1px;}\n",
       "\ttable tr#HeaderRow {background-color:grey; color:white;}</style>\n",
       "<html><table>\n",
       "\t<tr id=\"HeaderRow\">\n",
       "\t\t<th>id</th>\n",
       "\t\t<th>prediction</th>\n",
       "\t\t<th>sales</th>\n",
       "\t</tr>\n",
       "\t<tr>\n",
       "\t\t<td>10</td>\n",
       "\t\t<td>21.796484307339313</td>\n",
       "\t\t<td>22.2</td>\n",
       "\t</tr>\n",
       "\t<tr>\n",
       "\t\t<td>12</td>\n",
       "\t\t<td>18.197613646770282</td>\n",
       "\t\t<td>17.1</td>\n",
       "\t</tr>\n",
       "\t<tr>\n",
       "\t\t<td>13</td>\n",
       "\t\t<td>13.838660703735231</td>\n",
       "\t\t<td>13.6</td>\n",
       "\t</tr>\n",
       "\t<tr>\n",
       "\t\t<td>14</td>\n",
       "\t\t<td>19.602881018346427</td>\n",
       "\t\t<td>19.8</td>\n",
       "\t</tr>\n",
       "\t<tr>\n",
       "\t\t<td>16</td>\n",
       "\t\t<td>11.405373789687497</td>\n",
       "\t\t<td>12.3</td>\n",
       "\t</tr>\n",
       "\t<tr>\n",
       "\t\t<td>17</td>\n",
       "\t\t<td>11.422691041443578</td>\n",
       "\t\t<td>10.6</td>\n",
       "\t</tr>\n",
       "\t<tr>\n",
       "\t\t<td>15</td>\n",
       "\t\t<td>12.43195967604578</td>\n",
       "\t\t<td>14.0</td>\n",
       "\t</tr>\n",
       "\t<tr>\n",
       "\t\t<td>11</td>\n",
       "\t\t<td>20.19803720471646</td>\n",
       "\t\t<td>17.4</td>\n",
       "\t</tr>\n",
       "\t<tr>\n",
       "\t\t<td>9</td>\n",
       "\t\t<td>7.619378109969068</td>\n",
       "\t\t<td>9.5</td>\n",
       "\t</tr>\n",
       "\t<tr>\n",
       "\t\t<td>8</td>\n",
       "\t\t<td>9.528899334908152</td>\n",
       "\t\t<td>10.1</td>\n",
       "\t</tr>\n",
       "</table></html>"
      ],
      "text/plain": [
       "   id  prediction  sales\n",
       "0  10   21.796484   22.2\n",
       "1  12   18.197614   17.1\n",
       "2  13   13.838661   13.6\n",
       "3  14   19.602881   19.8\n",
       "4  16   11.405374   12.3\n",
       "5  17   11.422691   10.6\n",
       "6  15   12.431960   14.0\n",
       "7  11   20.198037   17.4\n",
       "8   9    7.619378    9.5\n",
       "9   8    9.528899   10.1"
      ]
     },
     "execution_count": 23,
     "metadata": {},
     "output_type": "execute_result"
    }
   ],
   "source": [
    "# Printing prediction\n",
    "prediction.head()"
   ]
  },
  {
   "cell_type": "code",
   "execution_count": 24,
   "id": "b2cba357-75ac-4089-a234-64a57067b117",
   "metadata": {},
   "outputs": [
    {
     "data": {
      "text/plain": [
       "True"
      ]
     },
     "execution_count": 24,
     "metadata": {},
     "output_type": "execute_result"
    }
   ],
   "source": [
    "remove_context()"
   ]
  }
 ],
 "metadata": {
  "kernelspec": {
   "display_name": "Python 3 (ipykernel)",
   "language": "python",
   "name": "python3"
  },
  "language_info": {
   "codemirror_mode": {
    "name": "ipython",
    "version": 3
   },
   "file_extension": ".py",
   "mimetype": "text/x-python",
   "name": "python",
   "nbconvert_exporter": "python",
   "pygments_lexer": "ipython3",
   "version": "3.10.9"
  }
 },
 "nbformat": 4,
 "nbformat_minor": 5
}
