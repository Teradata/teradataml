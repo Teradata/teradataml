{
 "cells": [
  {
   "cell_type": "markdown",
   "id": "2762f1d8-5a66-411f-a625-34cf16ac6dd3",
   "metadata": {},
   "source": [
    "# <b><span style='color:#F1A424'>AutoML - Regression - Advertisment Sales Prediction </span> </b>"
   ]
  },
  {
   "cell_type": "markdown",
   "id": "237d9b7a-20db-4afb-b0aa-ead9ae9cec31",
   "metadata": {},
   "source": [
    "### Disclaimer\n",
    "Please note, the Vantage Functions via SQLAlchemy feature is a preview/beta code release with limited functionality (the “Code”). As such, you acknowledge that the Code is experimental in nature and that the Code is provided “AS IS” and may not be functional on any machine or in any environment. TERADATA DISCLAIMS ALL WARRANTIES RELATING TO THE CODE, EXPRESS OR IMPLIED, INCLUDING, BUT NOT LIMITED TO, ANY WARRANTIES AGAINST INFRINGEMENT OF THIRD-PARTY RIGHTS, MERCHANTABILITY AND FITNESS FOR A PARTICULAR PURPOSE.\n",
    "\n",
    "TERADATA SHALL NOT BE RESPONSIBLE OR LIABLE WITH RESPECT TO ANY SUBJECT MATTER OF THE CODE UNDER ANY CONTRACT, NEGLIGENCE, STRICT LIABILITY OR OTHER THEORY \n",
    "    (A) FOR LOSS OR INACCURACY OF DATA OR COST OF PROCUREMENT OF SUBSTITUTE GOODS, SERVICES OR TECHNOLOGY, OR \n",
    "    (B) FOR ANY INDIRECT, INCIDENTAL OR CONSEQUENTIAL DAMAGES INCLUDING, BUT NOT LIMITED TO LOSS OF REVENUES AND LOSS OF PROFITS. TERADATA SHALL NOT BE RESPONSIBLE FOR ANY MATTER BEYOND ITS REASONABLE CONTROL.\n",
    "\n",
    "Notwithstanding anything to the contrary: \n",
    "    (a) Teradata will have no obligation of any kind with respect to any Code-related comments, suggestions, design changes or improvements that you elect to provide to Teradata in either verbal or written form (collectively, “Feedback”), and \n",
    "    (b) Teradata and its affiliates are hereby free to use any ideas, concepts, know-how or techniques, in whole or in part, contained in Feedback: \n",
    "        (i) for any purpose whatsoever, including developing, manufacturing, and/or marketing products and/or services incorporating Feedback in whole or in part, and \n",
    "        (ii) without any restrictions or limitations, including requiring the payment of any license fees, royalties, or other consideration. "
   ]
  },
  {
   "cell_type": "markdown",
   "id": "f225fb94-b2c8-4c92-af38-733d08e0e2a1",
   "metadata": {},
   "source": [
    "## <b> Problem overview:</b>\n",
    "    "
   ]
  },
  {
   "cell_type": "markdown",
   "id": "af9813eb-9c44-4968-a5fe-d1c74415c894",
   "metadata": {},
   "source": [
    "**Dataset Used : Advertising Sales Dataset**\n",
    "\n",
    "**Features**:\n",
    "\n",
    "- `TV`: Advertising done on TV.\n",
    "- `Radio`: Advertising done on Radio.\n",
    "- `Newspapaer`: Advertising done on Newspaper.\n",
    "\n",
    "**Target Variable**:\n",
    "\n",
    "- `Sales`: The Sales received after advertisement.\n",
    "    \n",
    "**Objective**:\n",
    "\n",
    "The primary objective is typically to build a model that can accurately predict sales received based on advertisement.\n",
    "\n",
    "**Usecase**:\n",
    "\n",
    "Here, we will use AutoML(Automated Machine Learning) functionality to automate the entire process of developing a predictive model. It will perform feature exploration, feature engineering, data preparation, model training and evaluation on dataset in auto run and at end we will get leaderboard containined different models along with their performance. Model will also have rank associated with them which indicates which is best performing model for given data followed by other models."
   ]
  },
  {
   "cell_type": "code",
   "execution_count": 1,
   "id": "66568348-4d00-477c-a071-17995f797c95",
   "metadata": {},
   "outputs": [],
   "source": [
    "# Importing AutoML from teradataml\n",
    "from teradataml import AutoML, AutoRegressor"
   ]
  },
  {
   "cell_type": "code",
   "execution_count": 2,
   "id": "17dfae70-0401-4cc4-ba1c-400a5cf62451",
   "metadata": {},
   "outputs": [],
   "source": [
    "# Importing other important libraries\n",
    "import getpass\n",
    "from teradataml import create_context, remove_context\n",
    "from teradataml import DataFrame\n",
    "from teradataml import load_example_data\n",
    "from teradataml import TrainTestSplit"
   ]
  },
  {
   "cell_type": "code",
   "execution_count": 3,
   "id": "cadd9ed2-42d6-4899-b23e-4e2cf601162f",
   "metadata": {},
   "outputs": [
    {
     "name": "stdin",
     "output_type": "stream",
     "text": [
      "Host:  ········\n",
      "Username:  ········\n",
      "Password:  ········\n"
     ]
    }
   ],
   "source": [
    "# Create the connection.\n",
    "host = getpass.getpass(\"Host: \")\n",
    "username = getpass.getpass(\"Username: \")\n",
    "password = getpass.getpass(\"Password: \")\n",
    "\n",
    "con = create_context(host=host, username=username, password=password)"
   ]
  },
  {
   "cell_type": "markdown",
   "id": "9ec1f35f-c198-4724-a8b2-e8f743d40bfa",
   "metadata": {
    "tags": []
   },
   "source": [
    "## <b><span style='color:#F1A424'>| 1.</span> Loading Deployed Models - 'Advertising_top_5_models' </b>"
   ]
  },
  {
   "cell_type": "markdown",
   "id": "22bfc86b-a727-4085-a953-dd98849754c0",
   "metadata": {},
   "source": [
    "### <b><span style='color:#F1A424'>| 1.1.</span> Loading Model </b>"
   ]
  },
  {
   "cell_type": "code",
   "execution_count": 4,
   "id": "3d7b33af-a017-4949-a01f-33cbc071331d",
   "metadata": {},
   "outputs": [],
   "source": [
    "# Creating AutoML object\n",
    "\n",
    "aml=AutoML()"
   ]
  },
  {
   "cell_type": "code",
   "execution_count": 5,
   "id": "9c608142-9082-489c-9592-b305b17d0312",
   "metadata": {},
   "outputs": [],
   "source": [
    "# Loading models\n",
    "\n",
    "models_1 = aml.load('Advertising_top_5_models')"
   ]
  },
  {
   "cell_type": "code",
   "execution_count": 6,
   "id": "a7324767-1da9-4243-9857-04218d433937",
   "metadata": {},
   "outputs": [
    {
     "data": {
      "text/html": [
       "<div>\n",
       "<style scoped>\n",
       "    .dataframe tbody tr th:only-of-type {\n",
       "        vertical-align: middle;\n",
       "    }\n",
       "\n",
       "    .dataframe tbody tr th {\n",
       "        vertical-align: top;\n",
       "    }\n",
       "\n",
       "    .dataframe thead th {\n",
       "        text-align: right;\n",
       "    }\n",
       "</style>\n",
       "<table border=\"1\" class=\"dataframe\">\n",
       "  <thead>\n",
       "    <tr style=\"text-align: right;\">\n",
       "      <th></th>\n",
       "      <th>RANK</th>\n",
       "      <th>MODEL_ID</th>\n",
       "      <th>FEATURE_SELECTION</th>\n",
       "      <th>MAE</th>\n",
       "      <th>MSE</th>\n",
       "      <th>MSLE</th>\n",
       "      <th>MAPE</th>\n",
       "      <th>MPE</th>\n",
       "      <th>RMSE</th>\n",
       "      <th>RMSLE</th>\n",
       "      <th>ME</th>\n",
       "      <th>R2</th>\n",
       "      <th>EV</th>\n",
       "      <th>MPD</th>\n",
       "      <th>MGD</th>\n",
       "      <th>DATA_TABLE</th>\n",
       "      <th>ADJUSTED_R2</th>\n",
       "    </tr>\n",
       "  </thead>\n",
       "  <tbody>\n",
       "    <tr>\n",
       "      <th>0</th>\n",
       "      <td>1</td>\n",
       "      <td>KNN_1</td>\n",
       "      <td>rfe</td>\n",
       "      <td>1.055790</td>\n",
       "      <td>2.023639</td>\n",
       "      <td>0.009446</td>\n",
       "      <td>7.151976</td>\n",
       "      <td>2.392202</td>\n",
       "      <td>1.422547</td>\n",
       "      <td>0.097189</td>\n",
       "      <td>4.203217</td>\n",
       "      <td>0.922555</td>\n",
       "      <td>0.927300</td>\n",
       "      <td>0.149030</td>\n",
       "      <td>0.011623</td>\n",
       "      <td>ml__sales_rfe_1723391384424642</td>\n",
       "      <td>0.921555</td>\n",
       "    </tr>\n",
       "    <tr>\n",
       "      <th>1</th>\n",
       "      <td>2</td>\n",
       "      <td>GLM_1</td>\n",
       "      <td>rfe</td>\n",
       "      <td>1.229208</td>\n",
       "      <td>2.311243</td>\n",
       "      <td>0.011298</td>\n",
       "      <td>8.779032</td>\n",
       "      <td>-0.090825</td>\n",
       "      <td>1.520277</td>\n",
       "      <td>0.106292</td>\n",
       "      <td>3.139551</td>\n",
       "      <td>0.911548</td>\n",
       "      <td>0.912892</td>\n",
       "      <td>0.164516</td>\n",
       "      <td>0.013240</td>\n",
       "      <td>ml__sales_rfe_1723391384424642</td>\n",
       "      <td>0.910406</td>\n",
       "    </tr>\n",
       "    <tr>\n",
       "      <th>2</th>\n",
       "      <td>3</td>\n",
       "      <td>DECISIONFOREST_1</td>\n",
       "      <td>rfe</td>\n",
       "      <td>1.529687</td>\n",
       "      <td>3.415041</td>\n",
       "      <td>0.017554</td>\n",
       "      <td>11.224770</td>\n",
       "      <td>-2.792731</td>\n",
       "      <td>1.847983</td>\n",
       "      <td>0.132491</td>\n",
       "      <td>3.880000</td>\n",
       "      <td>0.869305</td>\n",
       "      <td>0.869330</td>\n",
       "      <td>0.250371</td>\n",
       "      <td>0.020938</td>\n",
       "      <td>ml__sales_rfe_1723391384424642</td>\n",
       "      <td>0.867619</td>\n",
       "    </tr>\n",
       "    <tr>\n",
       "      <th>3</th>\n",
       "      <td>4</td>\n",
       "      <td>GLM_2</td>\n",
       "      <td>pca</td>\n",
       "      <td>1.647833</td>\n",
       "      <td>4.197219</td>\n",
       "      <td>0.019330</td>\n",
       "      <td>12.127324</td>\n",
       "      <td>-3.956709</td>\n",
       "      <td>2.048712</td>\n",
       "      <td>0.139032</td>\n",
       "      <td>4.823611</td>\n",
       "      <td>0.839371</td>\n",
       "      <td>0.839389</td>\n",
       "      <td>0.281034</td>\n",
       "      <td>0.021870</td>\n",
       "      <td>ml__sales_pca_1723396755457502</td>\n",
       "      <td>0.836242</td>\n",
       "    </tr>\n",
       "    <tr>\n",
       "      <th>4</th>\n",
       "      <td>5</td>\n",
       "      <td>XGBOOST_2</td>\n",
       "      <td>pca</td>\n",
       "      <td>1.594226</td>\n",
       "      <td>4.208329</td>\n",
       "      <td>0.019006</td>\n",
       "      <td>10.414319</td>\n",
       "      <td>2.439263</td>\n",
       "      <td>2.051421</td>\n",
       "      <td>0.137864</td>\n",
       "      <td>5.575339</td>\n",
       "      <td>0.838945</td>\n",
       "      <td>0.846603</td>\n",
       "      <td>0.293122</td>\n",
       "      <td>0.024563</td>\n",
       "      <td>ml__sales_pca_1723396755457502</td>\n",
       "      <td>0.835808</td>\n",
       "    </tr>\n",
       "  </tbody>\n",
       "</table>\n",
       "</div>"
      ],
      "text/plain": [
       "   RANK          MODEL_ID FEATURE_SELECTION       MAE       MSE      MSLE  \\\n",
       "0     1             KNN_1               rfe  1.055790  2.023639  0.009446   \n",
       "1     2             GLM_1               rfe  1.229208  2.311243  0.011298   \n",
       "2     3  DECISIONFOREST_1               rfe  1.529687  3.415041  0.017554   \n",
       "3     4             GLM_2               pca  1.647833  4.197219  0.019330   \n",
       "4     5         XGBOOST_2               pca  1.594226  4.208329  0.019006   \n",
       "\n",
       "        MAPE       MPE      RMSE     RMSLE        ME        R2        EV  \\\n",
       "0   7.151976  2.392202  1.422547  0.097189  4.203217  0.922555  0.927300   \n",
       "1   8.779032 -0.090825  1.520277  0.106292  3.139551  0.911548  0.912892   \n",
       "2  11.224770 -2.792731  1.847983  0.132491  3.880000  0.869305  0.869330   \n",
       "3  12.127324 -3.956709  2.048712  0.139032  4.823611  0.839371  0.839389   \n",
       "4  10.414319  2.439263  2.051421  0.137864  5.575339  0.838945  0.846603   \n",
       "\n",
       "        MPD       MGD                      DATA_TABLE  ADJUSTED_R2  \n",
       "0  0.149030  0.011623  ml__sales_rfe_1723391384424642     0.921555  \n",
       "1  0.164516  0.013240  ml__sales_rfe_1723391384424642     0.910406  \n",
       "2  0.250371  0.020938  ml__sales_rfe_1723391384424642     0.867619  \n",
       "3  0.281034  0.021870  ml__sales_pca_1723396755457502     0.836242  \n",
       "4  0.293122  0.024563  ml__sales_pca_1723396755457502     0.835808  "
      ]
     },
     "execution_count": 6,
     "metadata": {},
     "output_type": "execute_result"
    }
   ],
   "source": [
    "# Display loaded models\n",
    "\n",
    "models_1"
   ]
  },
  {
   "cell_type": "markdown",
   "id": "ea04e9b4-3ec7-4cb5-acc6-5bdadf54e500",
   "metadata": {},
   "source": [
    "### <b><span style='color:#F1A424'>| 1.2.</span> Get Loaded Model Hyperparameters</b>"
   ]
  },
  {
   "cell_type": "code",
   "execution_count": 7,
   "id": "369bc5ec-c9c1-4bf4-825b-809777d89a51",
   "metadata": {},
   "outputs": [
    {
     "data": {
      "text/plain": [
       "{'response_column': 'sales',\n",
       " 'name': 'knn',\n",
       " 'model_type': 'Regression',\n",
       " 'k': 5,\n",
       " 'id_column': 'id',\n",
       " 'voting_weight': 1.0,\n",
       " 'persist': False,\n",
       " 'max_models': 1}"
      ]
     },
     "execution_count": 7,
     "metadata": {},
     "output_type": "execute_result"
    }
   ],
   "source": [
    "aml.model_hyperparameters(rank=1, use_loaded_models=True)"
   ]
  },
  {
   "cell_type": "code",
   "execution_count": 8,
   "id": "ef22f037-a80d-4ca9-b524-06c4f017a070",
   "metadata": {},
   "outputs": [
    {
     "data": {
      "text/plain": [
       "{'response_column': 'sales',\n",
       " 'name': 'xgboost',\n",
       " 'model_type': 'Regression',\n",
       " 'column_sampling': 1,\n",
       " 'min_impurity': 0.1,\n",
       " 'lambda1': 0.1,\n",
       " 'shrinkage_factor': 0.5,\n",
       " 'max_depth': 7,\n",
       " 'min_node_size': 2,\n",
       " 'iter_num': 10,\n",
       " 'seed': 42,\n",
       " 'persist': False,\n",
       " 'max_models': 1}"
      ]
     },
     "execution_count": 8,
     "metadata": {},
     "output_type": "execute_result"
    }
   ],
   "source": [
    "aml.model_hyperparameters(rank=5, use_loaded_models=True)"
   ]
  },
  {
   "cell_type": "markdown",
   "id": "2160788d-e9d9-4562-96fc-438bb13e0a02",
   "metadata": {},
   "source": [
    "### <b><span style='color:#F1A424'>| 1.3.</span> Loading Dataset</b>"
   ]
  },
  {
   "cell_type": "code",
   "execution_count": 9,
   "id": "901721b9-4136-431c-9079-b4f3e0730dac",
   "metadata": {},
   "outputs": [
    {
     "name": "stdout",
     "output_type": "stream",
     "text": [
      "WARNING: Skipped loading table advertising since it already exists in the database.\n"
     ]
    }
   ],
   "source": [
    "### Loading Dataset for Prediction\n",
    "\n",
    "load_example_data('teradataml','advertising')\n",
    "df = DataFrame('advertising')"
   ]
  },
  {
   "cell_type": "code",
   "execution_count": 10,
   "id": "103f0e7b-fda9-4a54-a36c-4922ea6249de",
   "metadata": {},
   "outputs": [
    {
     "data": {
      "text/html": [
       "<style type=\"text/css\">\n",
       "\ttable {border:ridge 5px;}\n",
       "\ttable td {border:inset 1px;}\n",
       "\ttable tr#HeaderRow {background-color:grey; color:white;}</style>\n",
       "<html><table>\n",
       "\t<tr id=\"HeaderRow\">\n",
       "\t\t<th>TV</th>\n",
       "\t\t<th>radio</th>\n",
       "\t\t<th>newspaper</th>\n",
       "\t\t<th>sales</th>\n",
       "\t</tr>\n",
       "\t<tr>\n",
       "\t\t<td>228.0</td>\n",
       "\t\t<td>37.7</td>\n",
       "\t\t<td>32.0</td>\n",
       "\t\t<td>21.5</td>\n",
       "\t</tr>\n",
       "\t<tr>\n",
       "\t\t<td>239.3</td>\n",
       "\t\t<td>15.5</td>\n",
       "\t\t<td>27.3</td>\n",
       "\t\t<td>20.7</td>\n",
       "\t</tr>\n",
       "\t<tr>\n",
       "\t\t<td>241.7</td>\n",
       "\t\t<td>38.0</td>\n",
       "\t\t<td>23.2</td>\n",
       "\t\t<td>21.8</td>\n",
       "\t</tr>\n",
       "\t<tr>\n",
       "\t\t<td>7.3</td>\n",
       "\t\t<td>28.1</td>\n",
       "\t\t<td>41.4</td>\n",
       "\t\t<td>5.5</td>\n",
       "\t</tr>\n",
       "\t<tr>\n",
       "\t\t<td>296.4</td>\n",
       "\t\t<td>36.3</td>\n",
       "\t\t<td>100.9</td>\n",
       "\t\t<td>23.8</td>\n",
       "\t</tr>\n",
       "\t<tr>\n",
       "\t\t<td>230.1</td>\n",
       "\t\t<td>37.8</td>\n",
       "\t\t<td>69.2</td>\n",
       "\t\t<td>22.1</td>\n",
       "\t</tr>\n",
       "\t<tr>\n",
       "\t\t<td>199.1</td>\n",
       "\t\t<td>30.6</td>\n",
       "\t\t<td>38.7</td>\n",
       "\t\t<td>18.3</td>\n",
       "\t</tr>\n",
       "\t<tr>\n",
       "\t\t<td>163.3</td>\n",
       "\t\t<td>31.6</td>\n",
       "\t\t<td>52.9</td>\n",
       "\t\t<td>16.9</td>\n",
       "\t</tr>\n",
       "\t<tr>\n",
       "\t\t<td>94.2</td>\n",
       "\t\t<td>4.9</td>\n",
       "\t\t<td>8.1</td>\n",
       "\t\t<td>14.0</td>\n",
       "\t</tr>\n",
       "\t<tr>\n",
       "\t\t<td>218.5</td>\n",
       "\t\t<td>5.4</td>\n",
       "\t\t<td>27.4</td>\n",
       "\t\t<td>17.2</td>\n",
       "\t</tr>\n",
       "</table></html>"
      ],
      "text/plain": [
       "       radio  newspaper  sales\n",
       "TV                            \n",
       "228.0   37.7       32.0   21.5\n",
       "239.3   15.5       27.3   20.7\n",
       "241.7   38.0       23.2   21.8\n",
       "7.3     28.1       41.4    5.5\n",
       "296.4   36.3      100.9   23.8\n",
       "230.1   37.8       69.2   22.1\n",
       "199.1   30.6       38.7   18.3\n",
       "163.3   31.6       52.9   16.9\n",
       "94.2     4.9        8.1   14.0\n",
       "218.5    5.4       27.4   17.2"
      ]
     },
     "execution_count": 10,
     "metadata": {},
     "output_type": "execute_result"
    }
   ],
   "source": [
    "# Display data\n",
    "\n",
    "df"
   ]
  },
  {
   "cell_type": "markdown",
   "id": "eb058e55-7114-4ff1-adf5-c8f5880d1945",
   "metadata": {},
   "source": [
    "### <b><span style='color:#F1A424'>| 1.4.</span> Generating Prediction & Performance Metrics</b>"
   ]
  },
  {
   "cell_type": "code",
   "execution_count": 11,
   "id": "39ecd317-b312-486d-9620-97d941d035f2",
   "metadata": {
    "tags": []
   },
   "outputs": [
    {
     "name": "stdout",
     "output_type": "stream",
     "text": [
      "Generating prediction using:\n",
      "Model Name: KNN\n",
      "Feature Selection: rfe\n",
      "Completed: ｜⫿⫿⫿⫿⫿⫿⫿⫿⫿⫿⫿⫿⫿⫿⫿⫿⫿⫿⫿⫿⫿⫿⫿⫿⫿⫿⫿⫿⫿⫿⫿⫿⫿⫿⫿⫿⫿⫿⫿⫿⫿⫿⫿⫿⫿⫿⫿⫿⫿⫿⫿⫿⫿⫿⫿⫿⫿⫿⫿⫿｜ 100% - 10/10           \r"
     ]
    }
   ],
   "source": [
    "# Generate prediction using some data rows and model rank\n",
    "\n",
    "prediction = aml.predict(df, rank=1)"
   ]
  },
  {
   "cell_type": "code",
   "execution_count": 12,
   "id": "f44f2daf-706e-415a-a81b-0ef555505a30",
   "metadata": {},
   "outputs": [
    {
     "data": {
      "text/html": [
       "<style type=\"text/css\">\n",
       "\ttable {border:ridge 5px;}\n",
       "\ttable td {border:inset 1px;}\n",
       "\ttable tr#HeaderRow {background-color:grey; color:white;}</style>\n",
       "<html><table>\n",
       "\t<tr id=\"HeaderRow\">\n",
       "\t\t<th>id</th>\n",
       "\t\t<th>prediction</th>\n",
       "\t\t<th>sales</th>\n",
       "\t</tr>\n",
       "\t<tr>\n",
       "\t\t<td>22</td>\n",
       "\t\t<td>7.599999001202244</td>\n",
       "\t\t<td>7.6</td>\n",
       "\t</tr>\n",
       "\t<tr>\n",
       "\t\t<td>14</td>\n",
       "\t\t<td>19.799998979026974</td>\n",
       "\t\t<td>19.8</td>\n",
       "\t</tr>\n",
       "\t<tr>\n",
       "\t\t<td>19</td>\n",
       "\t\t<td>16.800001403614925</td>\n",
       "\t\t<td>16.8</td>\n",
       "\t</tr>\n",
       "\t<tr>\n",
       "\t\t<td>12</td>\n",
       "\t\t<td>17.299999182527102</td>\n",
       "\t\t<td>17.3</td>\n",
       "\t</tr>\n",
       "\t<tr>\n",
       "\t\t<td>41</td>\n",
       "\t\t<td>20.89999715407641</td>\n",
       "\t\t<td>20.9</td>\n",
       "\t</tr>\n",
       "\t<tr>\n",
       "\t\t<td>48</td>\n",
       "\t\t<td>5.600001720321714</td>\n",
       "\t\t<td>5.6</td>\n",
       "\t</tr>\n",
       "\t<tr>\n",
       "\t\t<td>28</td>\n",
       "\t\t<td>17.100002210555594</td>\n",
       "\t\t<td>17.1</td>\n",
       "\t</tr>\n",
       "\t<tr>\n",
       "\t\t<td>31</td>\n",
       "\t\t<td>21.50000000268524</td>\n",
       "\t\t<td>21.5</td>\n",
       "\t</tr>\n",
       "\t<tr>\n",
       "\t\t<td>10</td>\n",
       "\t\t<td>16.996971959116028</td>\n",
       "\t\t<td>15.0</td>\n",
       "\t</tr>\n",
       "\t<tr>\n",
       "\t\t<td>15</td>\n",
       "\t\t<td>17.199999802602743</td>\n",
       "\t\t<td>17.2</td>\n",
       "\t</tr>\n",
       "</table></html>"
      ],
      "text/plain": [
       "   id  prediction  sales\n",
       "0  22    7.599999    7.6\n",
       "1  14   19.799999   19.8\n",
       "2  19   16.800001   16.8\n",
       "3  12   17.299999   17.3\n",
       "4  41   20.899997   20.9\n",
       "5  48    5.600002    5.6\n",
       "6  28   17.100002   17.1\n",
       "7  31   21.500000   21.5\n",
       "8  10   16.996972   15.0\n",
       "9  15   17.200000   17.2"
      ]
     },
     "execution_count": 12,
     "metadata": {},
     "output_type": "execute_result"
    }
   ],
   "source": [
    "prediction"
   ]
  },
  {
   "cell_type": "code",
   "execution_count": 13,
   "id": "ab029333-fd2f-4c82-9307-0df80fe76b63",
   "metadata": {
    "tags": []
   },
   "outputs": [
    {
     "name": "stdout",
     "output_type": "stream",
     "text": [
      "Generating performance metrics using:\n",
      "Model Name: KNN\n",
      "Feature Selection: rfe\n"
     ]
    }
   ],
   "source": [
    "# Generate performance metrics\n",
    "\n",
    "performance_metric = aml.evaluate(df, rank=1)"
   ]
  },
  {
   "cell_type": "code",
   "execution_count": 14,
   "id": "67a60191-536b-45a2-ae75-b2472f1518a8",
   "metadata": {
    "tags": []
   },
   "outputs": [
    {
     "data": {
      "text/plain": [
       "\n",
       "############ result Output ############\n",
       "\n",
       "        MAE       MSE     MSLE      MAPE       MPE      RMSE     RMSLE        ME        R2        EV       MPD       MGD\n",
       "0  0.154975  0.255818  0.00118  1.179964 -0.389643  0.505785  0.034353  4.345287  0.990791  0.990814  0.017475  0.001366\n"
      ]
     },
     "execution_count": 14,
     "metadata": {},
     "output_type": "execute_result"
    }
   ],
   "source": [
    "performance_metric"
   ]
  },
  {
   "cell_type": "code",
   "execution_count": 15,
   "id": "9a73d6a9-b721-46f5-987d-b9a935cc398a",
   "metadata": {},
   "outputs": [
    {
     "name": "stdout",
     "output_type": "stream",
     "text": [
      "Generating prediction using:\n",
      "Model Name: GLM\n",
      "Feature Selection: pca\n"
     ]
    }
   ],
   "source": [
    "# Generate prediction using data and model rank\n",
    "\n",
    "prediction = aml.predict(df, rank=4)"
   ]
  },
  {
   "cell_type": "code",
   "execution_count": 16,
   "id": "93a89587-4994-4dd4-98f5-80dacf076e65",
   "metadata": {},
   "outputs": [
    {
     "data": {
      "text/html": [
       "<style type=\"text/css\">\n",
       "\ttable {border:ridge 5px;}\n",
       "\ttable td {border:inset 1px;}\n",
       "\ttable tr#HeaderRow {background-color:grey; color:white;}</style>\n",
       "<html><table>\n",
       "\t<tr id=\"HeaderRow\">\n",
       "\t\t<th>id</th>\n",
       "\t\t<th>prediction</th>\n",
       "\t\t<th>sales</th>\n",
       "\t</tr>\n",
       "\t<tr>\n",
       "\t\t<td>40</td>\n",
       "\t\t<td>12.93550309373279</td>\n",
       "\t\t<td>10.4</td>\n",
       "\t</tr>\n",
       "\t<tr>\n",
       "\t\t<td>80</td>\n",
       "\t\t<td>22.717112682919623</td>\n",
       "\t\t<td>26.2</td>\n",
       "\t</tr>\n",
       "\t<tr>\n",
       "\t\t<td>99</td>\n",
       "\t\t<td>18.689159962475454</td>\n",
       "\t\t<td>17.1</td>\n",
       "\t</tr>\n",
       "\t<tr>\n",
       "\t\t<td>61</td>\n",
       "\t\t<td>17.030076973964476</td>\n",
       "\t\t<td>19.6</td>\n",
       "\t</tr>\n",
       "\t<tr>\n",
       "\t\t<td>221</td>\n",
       "\t\t<td>12.687918793150505</td>\n",
       "\t\t<td>12.6</td>\n",
       "\t</tr>\n",
       "\t<tr>\n",
       "\t\t<td>17</td>\n",
       "\t\t<td>9.234658386551873</td>\n",
       "\t\t<td>5.3</td>\n",
       "\t</tr>\n",
       "\t<tr>\n",
       "\t\t<td>162</td>\n",
       "\t\t<td>12.319389225147917</td>\n",
       "\t\t<td>11.9</td>\n",
       "\t</tr>\n",
       "\t<tr>\n",
       "\t\t<td>122</td>\n",
       "\t\t<td>9.23974220603845</td>\n",
       "\t\t<td>6.9</td>\n",
       "\t</tr>\n",
       "\t<tr>\n",
       "\t\t<td>101</td>\n",
       "\t\t<td>21.667869588148697</td>\n",
       "\t\t<td>25.4</td>\n",
       "\t</tr>\n",
       "\t<tr>\n",
       "\t\t<td>183</td>\n",
       "\t\t<td>16.698419146041598</td>\n",
       "\t\t<td>18.0</td>\n",
       "\t</tr>\n",
       "</table></html>"
      ],
      "text/plain": [
       "    id  prediction  sales\n",
       "0   40   12.935503   10.4\n",
       "1   80   22.717113   26.2\n",
       "2   99   18.689160   17.1\n",
       "3   61   17.030077   19.6\n",
       "4  221   12.687919   12.6\n",
       "5   17    9.234658    5.3\n",
       "6  162   12.319389   11.9\n",
       "7  122    9.239742    6.9\n",
       "8  101   21.667870   25.4\n",
       "9  183   16.698419   18.0"
      ]
     },
     "execution_count": 16,
     "metadata": {},
     "output_type": "execute_result"
    }
   ],
   "source": [
    "prediction"
   ]
  },
  {
   "cell_type": "code",
   "execution_count": 17,
   "id": "b8263bee-77a6-49ad-927d-ea9645df864c",
   "metadata": {},
   "outputs": [
    {
     "name": "stdout",
     "output_type": "stream",
     "text": [
      "Generating performance metrics using:\n",
      "Model Name: GLM\n",
      "Feature Selection: pca\n"
     ]
    }
   ],
   "source": [
    "# Generate performance metrics\n",
    "\n",
    "performance_metric = aml.evaluate(df, rank=4)"
   ]
  },
  {
   "cell_type": "code",
   "execution_count": 18,
   "id": "2dd569de-4d14-496d-af2f-9f857d60936d",
   "metadata": {},
   "outputs": [
    {
     "data": {
      "text/plain": [
       "\n",
       "############ result Output ############\n",
       "\n",
       "       MAE       MSE      MSLE       MAPE       MPE      RMSE     RMSLE        ME        R2        EV       MPD       MGD\n",
       "0  1.69903  4.566835  0.035048  16.376698 -9.841271  2.137015  0.187211  7.770491  0.835607  0.840585  0.366177  0.037724\n"
      ]
     },
     "execution_count": 18,
     "metadata": {},
     "output_type": "execute_result"
    }
   ],
   "source": [
    "performance_metric"
   ]
  },
  {
   "cell_type": "code",
   "execution_count": null,
   "id": "b48cf506-bc15-4f53-af8b-1739cd4963f7",
   "metadata": {},
   "outputs": [],
   "source": []
  },
  {
   "cell_type": "markdown",
   "id": "9d66e47e-e6f7-4b90-98da-9c94a2324654",
   "metadata": {
    "tags": []
   },
   "source": [
    "## <b><span style='color:#F1A424'>| 2.</span> Loading Deployed Models - 'Advertising_mixed_models' </b>"
   ]
  },
  {
   "cell_type": "markdown",
   "id": "0dddfb69-272e-4b96-9aa9-3f53f411085b",
   "metadata": {},
   "source": [
    "### <b><span style='color:#F1A424'>| 2.1.</span> Loading Model </b>"
   ]
  },
  {
   "cell_type": "code",
   "execution_count": 19,
   "id": "41e7076b-bdab-4cca-908f-0491f46f27a8",
   "metadata": {},
   "outputs": [],
   "source": [
    "# Loading models\n",
    "\n",
    "models_2 = aml.load('Advertising_mixed_models')"
   ]
  },
  {
   "cell_type": "code",
   "execution_count": 20,
   "id": "a01c591a-4898-4d03-b91a-e662a4cac5ce",
   "metadata": {},
   "outputs": [
    {
     "data": {
      "text/html": [
       "<div>\n",
       "<style scoped>\n",
       "    .dataframe tbody tr th:only-of-type {\n",
       "        vertical-align: middle;\n",
       "    }\n",
       "\n",
       "    .dataframe tbody tr th {\n",
       "        vertical-align: top;\n",
       "    }\n",
       "\n",
       "    .dataframe thead th {\n",
       "        text-align: right;\n",
       "    }\n",
       "</style>\n",
       "<table border=\"1\" class=\"dataframe\">\n",
       "  <thead>\n",
       "    <tr style=\"text-align: right;\">\n",
       "      <th></th>\n",
       "      <th>RANK</th>\n",
       "      <th>MODEL_ID</th>\n",
       "      <th>FEATURE_SELECTION</th>\n",
       "      <th>MAE</th>\n",
       "      <th>MSE</th>\n",
       "      <th>MSLE</th>\n",
       "      <th>MAPE</th>\n",
       "      <th>MPE</th>\n",
       "      <th>RMSE</th>\n",
       "      <th>RMSLE</th>\n",
       "      <th>ME</th>\n",
       "      <th>R2</th>\n",
       "      <th>EV</th>\n",
       "      <th>MPD</th>\n",
       "      <th>MGD</th>\n",
       "      <th>DATA_TABLE</th>\n",
       "      <th>ADJUSTED_R2</th>\n",
       "    </tr>\n",
       "  </thead>\n",
       "  <tbody>\n",
       "    <tr>\n",
       "      <th>0</th>\n",
       "      <td>1</td>\n",
       "      <td>GLM_1</td>\n",
       "      <td>rfe</td>\n",
       "      <td>1.229208</td>\n",
       "      <td>2.311243</td>\n",
       "      <td>0.011298</td>\n",
       "      <td>8.779032</td>\n",
       "      <td>-0.090825</td>\n",
       "      <td>1.520277</td>\n",
       "      <td>0.106292</td>\n",
       "      <td>3.139551</td>\n",
       "      <td>0.911548</td>\n",
       "      <td>0.912892</td>\n",
       "      <td>0.164516</td>\n",
       "      <td>0.013240</td>\n",
       "      <td>ml__sales_rfe_1723397854656713</td>\n",
       "      <td>0.910406</td>\n",
       "    </tr>\n",
       "    <tr>\n",
       "      <th>1</th>\n",
       "      <td>2</td>\n",
       "      <td>GLM_2</td>\n",
       "      <td>pca</td>\n",
       "      <td>1.647833</td>\n",
       "      <td>4.197219</td>\n",
       "      <td>0.019330</td>\n",
       "      <td>12.127324</td>\n",
       "      <td>-3.956709</td>\n",
       "      <td>2.048712</td>\n",
       "      <td>0.139032</td>\n",
       "      <td>4.823611</td>\n",
       "      <td>0.839371</td>\n",
       "      <td>0.839389</td>\n",
       "      <td>0.281034</td>\n",
       "      <td>0.021870</td>\n",
       "      <td>ml__sales_pca_1723389958236912</td>\n",
       "      <td>0.836242</td>\n",
       "    </tr>\n",
       "    <tr>\n",
       "      <th>2</th>\n",
       "      <td>3</td>\n",
       "      <td>XGBOOST_2</td>\n",
       "      <td>pca</td>\n",
       "      <td>1.594226</td>\n",
       "      <td>4.208329</td>\n",
       "      <td>0.019006</td>\n",
       "      <td>10.414319</td>\n",
       "      <td>2.439263</td>\n",
       "      <td>2.051421</td>\n",
       "      <td>0.137864</td>\n",
       "      <td>5.575339</td>\n",
       "      <td>0.838945</td>\n",
       "      <td>0.846603</td>\n",
       "      <td>0.293122</td>\n",
       "      <td>0.024563</td>\n",
       "      <td>ml__sales_pca_1723389958236912</td>\n",
       "      <td>0.835808</td>\n",
       "    </tr>\n",
       "  </tbody>\n",
       "</table>\n",
       "</div>"
      ],
      "text/plain": [
       "   RANK   MODEL_ID FEATURE_SELECTION       MAE       MSE      MSLE       MAPE  \\\n",
       "0     1      GLM_1               rfe  1.229208  2.311243  0.011298   8.779032   \n",
       "1     2      GLM_2               pca  1.647833  4.197219  0.019330  12.127324   \n",
       "2     3  XGBOOST_2               pca  1.594226  4.208329  0.019006  10.414319   \n",
       "\n",
       "        MPE      RMSE     RMSLE        ME        R2        EV       MPD  \\\n",
       "0 -0.090825  1.520277  0.106292  3.139551  0.911548  0.912892  0.164516   \n",
       "1 -3.956709  2.048712  0.139032  4.823611  0.839371  0.839389  0.281034   \n",
       "2  2.439263  2.051421  0.137864  5.575339  0.838945  0.846603  0.293122   \n",
       "\n",
       "        MGD                      DATA_TABLE  ADJUSTED_R2  \n",
       "0  0.013240  ml__sales_rfe_1723397854656713     0.910406  \n",
       "1  0.021870  ml__sales_pca_1723389958236912     0.836242  \n",
       "2  0.024563  ml__sales_pca_1723389958236912     0.835808  "
      ]
     },
     "execution_count": 20,
     "metadata": {},
     "output_type": "execute_result"
    }
   ],
   "source": [
    "models_2"
   ]
  },
  {
   "cell_type": "markdown",
   "id": "14150881-6d2b-4c0f-9d80-ca3929dc66c7",
   "metadata": {},
   "source": [
    "### <b><span style='color:#F1A424'>| 2.2.</span> Generating Prediction & Performance Metrics</b>"
   ]
  },
  {
   "cell_type": "code",
   "execution_count": 21,
   "id": "bfecf520-7ff7-4534-9356-306797fc5e3a",
   "metadata": {},
   "outputs": [
    {
     "name": "stdout",
     "output_type": "stream",
     "text": [
      "Generating prediction using:\n",
      "Model Name: GLM\n",
      "Feature Selection: pca\n"
     ]
    }
   ],
   "source": [
    "# Generate prediction using data and model rank\n",
    "\n",
    "prediction = aml.predict(df, rank=2)"
   ]
  },
  {
   "cell_type": "code",
   "execution_count": 22,
   "id": "06c842b2-703e-423c-9baa-f78a7961bd50",
   "metadata": {},
   "outputs": [
    {
     "data": {
      "text/html": [
       "<style type=\"text/css\">\n",
       "\ttable {border:ridge 5px;}\n",
       "\ttable td {border:inset 1px;}\n",
       "\ttable tr#HeaderRow {background-color:grey; color:white;}</style>\n",
       "<html><table>\n",
       "\t<tr id=\"HeaderRow\">\n",
       "\t\t<th>id</th>\n",
       "\t\t<th>prediction</th>\n",
       "\t\t<th>sales</th>\n",
       "\t</tr>\n",
       "\t<tr>\n",
       "\t\t<td>40</td>\n",
       "\t\t<td>12.93550309373279</td>\n",
       "\t\t<td>10.4</td>\n",
       "\t</tr>\n",
       "\t<tr>\n",
       "\t\t<td>80</td>\n",
       "\t\t<td>22.717112682919623</td>\n",
       "\t\t<td>26.2</td>\n",
       "\t</tr>\n",
       "\t<tr>\n",
       "\t\t<td>99</td>\n",
       "\t\t<td>18.689159962475454</td>\n",
       "\t\t<td>17.1</td>\n",
       "\t</tr>\n",
       "\t<tr>\n",
       "\t\t<td>61</td>\n",
       "\t\t<td>17.030076973964476</td>\n",
       "\t\t<td>19.6</td>\n",
       "\t</tr>\n",
       "\t<tr>\n",
       "\t\t<td>221</td>\n",
       "\t\t<td>12.687918793150505</td>\n",
       "\t\t<td>12.6</td>\n",
       "\t</tr>\n",
       "\t<tr>\n",
       "\t\t<td>17</td>\n",
       "\t\t<td>9.234658386551873</td>\n",
       "\t\t<td>5.3</td>\n",
       "\t</tr>\n",
       "\t<tr>\n",
       "\t\t<td>162</td>\n",
       "\t\t<td>12.319389225147917</td>\n",
       "\t\t<td>11.9</td>\n",
       "\t</tr>\n",
       "\t<tr>\n",
       "\t\t<td>122</td>\n",
       "\t\t<td>9.23974220603845</td>\n",
       "\t\t<td>6.9</td>\n",
       "\t</tr>\n",
       "\t<tr>\n",
       "\t\t<td>101</td>\n",
       "\t\t<td>21.667869588148697</td>\n",
       "\t\t<td>25.4</td>\n",
       "\t</tr>\n",
       "\t<tr>\n",
       "\t\t<td>183</td>\n",
       "\t\t<td>16.698419146041598</td>\n",
       "\t\t<td>18.0</td>\n",
       "\t</tr>\n",
       "</table></html>"
      ],
      "text/plain": [
       "    id  prediction  sales\n",
       "0   40   12.935503   10.4\n",
       "1   80   22.717113   26.2\n",
       "2   99   18.689160   17.1\n",
       "3   61   17.030077   19.6\n",
       "4  221   12.687919   12.6\n",
       "5   17    9.234658    5.3\n",
       "6  162   12.319389   11.9\n",
       "7  122    9.239742    6.9\n",
       "8  101   21.667870   25.4\n",
       "9  183   16.698419   18.0"
      ]
     },
     "execution_count": 22,
     "metadata": {},
     "output_type": "execute_result"
    }
   ],
   "source": [
    "prediction"
   ]
  },
  {
   "cell_type": "code",
   "execution_count": 23,
   "id": "9cdf111d-4384-4c64-911c-0a8a5a2a632d",
   "metadata": {},
   "outputs": [
    {
     "name": "stdout",
     "output_type": "stream",
     "text": [
      "Generating performance metrics using:\n",
      "Model Name: GLM\n",
      "Feature Selection: pca\n"
     ]
    }
   ],
   "source": [
    "# Generate performance metrics\n",
    "\n",
    "performance_metric = aml.evaluate(df, rank=2)"
   ]
  },
  {
   "cell_type": "code",
   "execution_count": 24,
   "id": "e02a0caa-02b7-4687-88a3-a22ae39e0915",
   "metadata": {},
   "outputs": [
    {
     "data": {
      "text/plain": [
       "\n",
       "############ result Output ############\n",
       "\n",
       "       MAE       MSE      MSLE       MAPE       MPE      RMSE     RMSLE        ME        R2        EV       MPD       MGD\n",
       "0  1.69903  4.566835  0.035048  16.376698 -9.841271  2.137015  0.187211  7.770491  0.835607  0.840585  0.366177  0.037724\n"
      ]
     },
     "execution_count": 24,
     "metadata": {},
     "output_type": "execute_result"
    }
   ],
   "source": [
    "performance_metric"
   ]
  },
  {
   "cell_type": "code",
   "execution_count": null,
   "id": "c0c38e18-83fe-40f4-a9ea-070dd8850d9e",
   "metadata": {},
   "outputs": [],
   "source": []
  },
  {
   "cell_type": "markdown",
   "id": "a86853d4-7971-4fa8-90be-0d961f97af22",
   "metadata": {
    "tags": []
   },
   "source": [
    "## <b><span style='color:#F1A424'>| 3.</span> Loading Deployed Models - 'Advertising_range_models' </b>"
   ]
  },
  {
   "cell_type": "markdown",
   "id": "1e5cad46-ca8d-4b48-81a5-49e96f73f891",
   "metadata": {},
   "source": [
    "### <b><span style='color:#F1A424'>| 3.1.</span> Loading Model</b>"
   ]
  },
  {
   "cell_type": "code",
   "execution_count": 25,
   "id": "ddccb9c1-8ed5-4bf3-b187-f36f5f143406",
   "metadata": {},
   "outputs": [],
   "source": [
    "# Creating another AutoML object\n",
    "\n",
    "obj=AutoML()"
   ]
  },
  {
   "cell_type": "code",
   "execution_count": 26,
   "id": "f93bd37c-de8a-41b1-821b-aa87a3ad9ac5",
   "metadata": {},
   "outputs": [],
   "source": [
    "# Loading models\n",
    "\n",
    "models_3 = obj.load('Advertising_range_models')"
   ]
  },
  {
   "cell_type": "code",
   "execution_count": 27,
   "id": "4222f023-71a9-4b59-a3af-7154cb2e0ccf",
   "metadata": {},
   "outputs": [
    {
     "data": {
      "text/html": [
       "<div>\n",
       "<style scoped>\n",
       "    .dataframe tbody tr th:only-of-type {\n",
       "        vertical-align: middle;\n",
       "    }\n",
       "\n",
       "    .dataframe tbody tr th {\n",
       "        vertical-align: top;\n",
       "    }\n",
       "\n",
       "    .dataframe thead th {\n",
       "        text-align: right;\n",
       "    }\n",
       "</style>\n",
       "<table border=\"1\" class=\"dataframe\">\n",
       "  <thead>\n",
       "    <tr style=\"text-align: right;\">\n",
       "      <th></th>\n",
       "      <th>RANK</th>\n",
       "      <th>MODEL_ID</th>\n",
       "      <th>FEATURE_SELECTION</th>\n",
       "      <th>MAE</th>\n",
       "      <th>MSE</th>\n",
       "      <th>MSLE</th>\n",
       "      <th>MAPE</th>\n",
       "      <th>MPE</th>\n",
       "      <th>RMSE</th>\n",
       "      <th>RMSLE</th>\n",
       "      <th>ME</th>\n",
       "      <th>R2</th>\n",
       "      <th>EV</th>\n",
       "      <th>MPD</th>\n",
       "      <th>MGD</th>\n",
       "      <th>DATA_TABLE</th>\n",
       "      <th>ADJUSTED_R2</th>\n",
       "    </tr>\n",
       "  </thead>\n",
       "  <tbody>\n",
       "    <tr>\n",
       "      <th>0</th>\n",
       "      <td>1</td>\n",
       "      <td>GLM_1</td>\n",
       "      <td>rfe</td>\n",
       "      <td>1.229208</td>\n",
       "      <td>2.311243</td>\n",
       "      <td>0.011298</td>\n",
       "      <td>8.779032</td>\n",
       "      <td>-0.090825</td>\n",
       "      <td>1.520277</td>\n",
       "      <td>0.106292</td>\n",
       "      <td>3.139551</td>\n",
       "      <td>0.911548</td>\n",
       "      <td>0.912892</td>\n",
       "      <td>0.164516</td>\n",
       "      <td>0.013240</td>\n",
       "      <td>ml__sales_rfe_1723390582128520</td>\n",
       "      <td>0.910406</td>\n",
       "    </tr>\n",
       "    <tr>\n",
       "      <th>1</th>\n",
       "      <td>2</td>\n",
       "      <td>DECISIONFOREST_1</td>\n",
       "      <td>rfe</td>\n",
       "      <td>1.529687</td>\n",
       "      <td>3.415041</td>\n",
       "      <td>0.017554</td>\n",
       "      <td>11.224770</td>\n",
       "      <td>-2.792731</td>\n",
       "      <td>1.847983</td>\n",
       "      <td>0.132491</td>\n",
       "      <td>3.880000</td>\n",
       "      <td>0.869305</td>\n",
       "      <td>0.869330</td>\n",
       "      <td>0.250371</td>\n",
       "      <td>0.020938</td>\n",
       "      <td>ml__sales_rfe_1723390582128520</td>\n",
       "      <td>0.867619</td>\n",
       "    </tr>\n",
       "    <tr>\n",
       "      <th>2</th>\n",
       "      <td>3</td>\n",
       "      <td>GLM_2</td>\n",
       "      <td>pca</td>\n",
       "      <td>1.647833</td>\n",
       "      <td>4.197219</td>\n",
       "      <td>0.019330</td>\n",
       "      <td>12.127324</td>\n",
       "      <td>-3.956709</td>\n",
       "      <td>2.048712</td>\n",
       "      <td>0.139032</td>\n",
       "      <td>4.823611</td>\n",
       "      <td>0.839371</td>\n",
       "      <td>0.839389</td>\n",
       "      <td>0.281034</td>\n",
       "      <td>0.021870</td>\n",
       "      <td>ml__sales_pca_1723392367146603</td>\n",
       "      <td>0.836242</td>\n",
       "    </tr>\n",
       "    <tr>\n",
       "      <th>3</th>\n",
       "      <td>4</td>\n",
       "      <td>XGBOOST_2</td>\n",
       "      <td>pca</td>\n",
       "      <td>1.594226</td>\n",
       "      <td>4.208329</td>\n",
       "      <td>0.019006</td>\n",
       "      <td>10.414319</td>\n",
       "      <td>2.439263</td>\n",
       "      <td>2.051421</td>\n",
       "      <td>0.137864</td>\n",
       "      <td>5.575339</td>\n",
       "      <td>0.838945</td>\n",
       "      <td>0.846603</td>\n",
       "      <td>0.293122</td>\n",
       "      <td>0.024563</td>\n",
       "      <td>ml__sales_pca_1723392367146603</td>\n",
       "      <td>0.835808</td>\n",
       "    </tr>\n",
       "    <tr>\n",
       "      <th>4</th>\n",
       "      <td>5</td>\n",
       "      <td>SVM_2</td>\n",
       "      <td>pca</td>\n",
       "      <td>1.719796</td>\n",
       "      <td>4.371814</td>\n",
       "      <td>0.015838</td>\n",
       "      <td>11.118059</td>\n",
       "      <td>-1.933912</td>\n",
       "      <td>2.090888</td>\n",
       "      <td>0.125850</td>\n",
       "      <td>5.371160</td>\n",
       "      <td>0.832689</td>\n",
       "      <td>0.842874</td>\n",
       "      <td>0.266629</td>\n",
       "      <td>0.018849</td>\n",
       "      <td>ml__sales_pca_1723392367146603</td>\n",
       "      <td>0.829430</td>\n",
       "    </tr>\n",
       "    <tr>\n",
       "      <th>5</th>\n",
       "      <td>6</td>\n",
       "      <td>DECISIONFOREST_2</td>\n",
       "      <td>pca</td>\n",
       "      <td>1.728646</td>\n",
       "      <td>5.222329</td>\n",
       "      <td>0.020647</td>\n",
       "      <td>11.687600</td>\n",
       "      <td>0.109286</td>\n",
       "      <td>2.285242</td>\n",
       "      <td>0.143692</td>\n",
       "      <td>5.575000</td>\n",
       "      <td>0.800139</td>\n",
       "      <td>0.812442</td>\n",
       "      <td>0.334104</td>\n",
       "      <td>0.024520</td>\n",
       "      <td>ml__sales_pca_1723392367146603</td>\n",
       "      <td>0.796246</td>\n",
       "    </tr>\n",
       "  </tbody>\n",
       "</table>\n",
       "</div>"
      ],
      "text/plain": [
       "   RANK          MODEL_ID FEATURE_SELECTION       MAE       MSE      MSLE  \\\n",
       "0     1             GLM_1               rfe  1.229208  2.311243  0.011298   \n",
       "1     2  DECISIONFOREST_1               rfe  1.529687  3.415041  0.017554   \n",
       "2     3             GLM_2               pca  1.647833  4.197219  0.019330   \n",
       "3     4         XGBOOST_2               pca  1.594226  4.208329  0.019006   \n",
       "4     5             SVM_2               pca  1.719796  4.371814  0.015838   \n",
       "5     6  DECISIONFOREST_2               pca  1.728646  5.222329  0.020647   \n",
       "\n",
       "        MAPE       MPE      RMSE     RMSLE        ME        R2        EV  \\\n",
       "0   8.779032 -0.090825  1.520277  0.106292  3.139551  0.911548  0.912892   \n",
       "1  11.224770 -2.792731  1.847983  0.132491  3.880000  0.869305  0.869330   \n",
       "2  12.127324 -3.956709  2.048712  0.139032  4.823611  0.839371  0.839389   \n",
       "3  10.414319  2.439263  2.051421  0.137864  5.575339  0.838945  0.846603   \n",
       "4  11.118059 -1.933912  2.090888  0.125850  5.371160  0.832689  0.842874   \n",
       "5  11.687600  0.109286  2.285242  0.143692  5.575000  0.800139  0.812442   \n",
       "\n",
       "        MPD       MGD                      DATA_TABLE  ADJUSTED_R2  \n",
       "0  0.164516  0.013240  ml__sales_rfe_1723390582128520     0.910406  \n",
       "1  0.250371  0.020938  ml__sales_rfe_1723390582128520     0.867619  \n",
       "2  0.281034  0.021870  ml__sales_pca_1723392367146603     0.836242  \n",
       "3  0.293122  0.024563  ml__sales_pca_1723392367146603     0.835808  \n",
       "4  0.266629  0.018849  ml__sales_pca_1723392367146603     0.829430  \n",
       "5  0.334104  0.024520  ml__sales_pca_1723392367146603     0.796246  "
      ]
     },
     "execution_count": 27,
     "metadata": {},
     "output_type": "execute_result"
    }
   ],
   "source": [
    "models_3"
   ]
  },
  {
   "cell_type": "markdown",
   "id": "80fad15b-a1d4-40d0-b972-702fad2950fb",
   "metadata": {},
   "source": [
    "### <b><span style='color:#F1A424'>| 3.2.</span> Generating Prediction & Performance Metrics</b>"
   ]
  },
  {
   "cell_type": "code",
   "execution_count": 28,
   "id": "b238fa86-6c91-47ad-b274-3e214f5a6841",
   "metadata": {},
   "outputs": [
    {
     "name": "stdout",
     "output_type": "stream",
     "text": [
      "Generating prediction using:\n",
      "Model Name: GLM\n",
      "Feature Selection: rfe\n",
      "Completed: ｜⫿⫿⫿⫿⫿⫿⫿⫿⫿⫿⫿⫿⫿⫿⫿⫿⫿⫿⫿⫿⫿⫿⫿⫿⫿⫿⫿⫿⫿⫿⫿⫿⫿⫿⫿⫿⫿⫿⫿⫿⫿⫿⫿⫿⫿⫿⫿⫿⫿⫿⫿⫿⫿⫿⫿⫿⫿⫿⫿⫿｜ 100% - 10/10           \r"
     ]
    }
   ],
   "source": [
    "# Generate prediction using data and model rank\n",
    "\n",
    "prediction = obj.predict(df.iloc[:80], rank=1)"
   ]
  },
  {
   "cell_type": "code",
   "execution_count": 29,
   "id": "21b7b20f-6768-485e-9007-38f9bd309d47",
   "metadata": {},
   "outputs": [
    {
     "data": {
      "text/html": [
       "<style type=\"text/css\">\n",
       "\ttable {border:ridge 5px;}\n",
       "\ttable td {border:inset 1px;}\n",
       "\ttable tr#HeaderRow {background-color:grey; color:white;}</style>\n",
       "<html><table>\n",
       "\t<tr id=\"HeaderRow\">\n",
       "\t\t<th>id</th>\n",
       "\t\t<th>prediction</th>\n",
       "\t\t<th>sales</th>\n",
       "\t</tr>\n",
       "\t<tr>\n",
       "\t\t<td>80</td>\n",
       "\t\t<td>4.916385332034668</td>\n",
       "\t\t<td>5.3</td>\n",
       "\t</tr>\n",
       "\t<tr>\n",
       "\t\t<td>40</td>\n",
       "\t\t<td>9.409142273866005</td>\n",
       "\t\t<td>6.6</td>\n",
       "\t</tr>\n",
       "\t<tr>\n",
       "\t\t<td>120</td>\n",
       "\t\t<td>9.800748666616622</td>\n",
       "\t\t<td>8.0</td>\n",
       "\t</tr>\n",
       "\t<tr>\n",
       "\t\t<td>17</td>\n",
       "\t\t<td>8.930491003648847</td>\n",
       "\t\t<td>11.0</td>\n",
       "\t</tr>\n",
       "\t<tr>\n",
       "\t\t<td>160</td>\n",
       "\t\t<td>9.813268146069868</td>\n",
       "\t\t<td>9.2</td>\n",
       "\t</tr>\n",
       "\t<tr>\n",
       "\t\t<td>154</td>\n",
       "\t\t<td>9.658644914481744</td>\n",
       "\t\t<td>13.2</td>\n",
       "\t</tr>\n",
       "\t<tr>\n",
       "\t\t<td>162</td>\n",
       "\t\t<td>10.432900383398488</td>\n",
       "\t\t<td>13.7</td>\n",
       "\t</tr>\n",
       "\t<tr>\n",
       "\t\t<td>202</td>\n",
       "\t\t<td>16.100690786447874</td>\n",
       "\t\t<td>16.7</td>\n",
       "\t</tr>\n",
       "\t<tr>\n",
       "\t\t<td>122</td>\n",
       "\t\t<td>14.695747119612433</td>\n",
       "\t\t<td>15.3</td>\n",
       "\t</tr>\n",
       "\t<tr>\n",
       "\t\t<td>19</td>\n",
       "\t\t<td>12.49374848890492</td>\n",
       "\t\t<td>11.9</td>\n",
       "\t</tr>\n",
       "</table></html>"
      ],
      "text/plain": [
       "    id  prediction  sales\n",
       "0   80    4.916385    5.3\n",
       "1   40    9.409142    6.6\n",
       "2  120    9.800749    8.0\n",
       "3   17    8.930491   11.0\n",
       "4  160    9.813268    9.2\n",
       "5  154    9.658645   13.2\n",
       "6  162   10.432900   13.7\n",
       "7  202   16.100691   16.7\n",
       "8  122   14.695747   15.3\n",
       "9   19   12.493748   11.9"
      ]
     },
     "execution_count": 29,
     "metadata": {},
     "output_type": "execute_result"
    }
   ],
   "source": [
    "prediction"
   ]
  },
  {
   "cell_type": "code",
   "execution_count": 30,
   "id": "5ccde57c-4546-435e-ade4-193ece793133",
   "metadata": {},
   "outputs": [
    {
     "name": "stdout",
     "output_type": "stream",
     "text": [
      "Generating performance metrics using:\n",
      "Model Name: GLM\n",
      "Feature Selection: rfe\n",
      "Completed: ｜⫿⫿⫿⫿⫿⫿⫿⫿⫿⫿⫿⫿⫿⫿⫿⫿⫿⫿⫿⫿⫿⫿⫿⫿⫿⫿⫿⫿⫿⫿⫿⫿⫿⫿⫿⫿⫿⫿⫿⫿⫿⫿⫿⫿⫿⫿⫿⫿⫿⫿⫿⫿⫿⫿⫿⫿⫿⫿⫿⫿｜ 100% - 10/10           \r"
     ]
    }
   ],
   "source": [
    "# Generate performance metrics\n",
    "\n",
    "performance_metric = obj.evaluate(df.iloc[:80], rank=1)"
   ]
  },
  {
   "cell_type": "code",
   "execution_count": 31,
   "id": "2fcc91d8-4fe8-4650-9514-830770a97cb8",
   "metadata": {},
   "outputs": [
    {
     "data": {
      "text/plain": [
       "\n",
       "############ result Output ############\n",
       "\n",
       "        MAE       MSE      MSLE       MAPE       MPE     RMSE    RMSLE        ME        R2       EV       MPD       MGD\n",
       "0  1.137393  2.916206  0.045912  17.791905 -6.704899  1.70769  0.21427  7.507286  0.666776  0.66831  0.361321  0.051383\n"
      ]
     },
     "execution_count": 31,
     "metadata": {},
     "output_type": "execute_result"
    }
   ],
   "source": [
    "performance_metric"
   ]
  },
  {
   "cell_type": "code",
   "execution_count": 32,
   "id": "46151b99-43a8-4504-8e6c-4496ea98c4f6",
   "metadata": {},
   "outputs": [
    {
     "data": {
      "text/plain": [
       "True"
      ]
     },
     "execution_count": 32,
     "metadata": {},
     "output_type": "execute_result"
    }
   ],
   "source": [
    "remove_context()"
   ]
  }
 ],
 "metadata": {
  "kernelspec": {
   "display_name": "Python 3 (ipykernel)",
   "language": "python",
   "name": "python3"
  },
  "language_info": {
   "codemirror_mode": {
    "name": "ipython",
    "version": 3
   },
   "file_extension": ".py",
   "mimetype": "text/x-python",
   "name": "python",
   "nbconvert_exporter": "python",
   "pygments_lexer": "ipython3",
   "version": "3.10.9"
  }
 },
 "nbformat": 4,
 "nbformat_minor": 5
}
