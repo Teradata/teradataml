{
 "cells": [
  {
   "cell_type": "markdown",
   "id": "2762f1d8-5a66-411f-a625-34cf16ac6dd3",
   "metadata": {},
   "source": [
    "# <b><span style='color:#F1A424'>AutoML - Multiclass Classification - BMI Value Prediction </span> </b>"
   ]
  },
  {
   "cell_type": "markdown",
   "id": "32650b88-cafe-4304-bcc7-84859c682b08",
   "metadata": {},
   "source": [
    "### Disclaimer\n",
    "Please note, the Vantage Functions via SQLAlchemy feature is a preview/beta code release with limited functionality (the “Code”). As such, you acknowledge that the Code is experimental in nature and that the Code is provided “AS IS” and may not be functional on any machine or in any environment. TERADATA DISCLAIMS ALL WARRANTIES RELATING TO THE CODE, EXPRESS OR IMPLIED, INCLUDING, BUT NOT LIMITED TO, ANY WARRANTIES AGAINST INFRINGEMENT OF THIRD-PARTY RIGHTS, MERCHANTABILITY AND FITNESS FOR A PARTICULAR PURPOSE.\n",
    "\n",
    "TERADATA SHALL NOT BE RESPONSIBLE OR LIABLE WITH RESPECT TO ANY SUBJECT MATTER OF THE CODE UNDER ANY CONTRACT, NEGLIGENCE, STRICT LIABILITY OR OTHER THEORY \n",
    "    (A) FOR LOSS OR INACCURACY OF DATA OR COST OF PROCUREMENT OF SUBSTITUTE GOODS, SERVICES OR TECHNOLOGY, OR \n",
    "    (B) FOR ANY INDIRECT, INCIDENTAL OR CONSEQUENTIAL DAMAGES INCLUDING, BUT NOT LIMITED TO LOSS OF REVENUES AND LOSS OF PROFITS. TERADATA SHALL NOT BE RESPONSIBLE FOR ANY MATTER BEYOND ITS REASONABLE CONTROL.\n",
    "\n",
    "Notwithstanding anything to the contrary: \n",
    "    (a) Teradata will have no obligation of any kind with respect to any Code-related comments, suggestions, design changes or improvements that you elect to provide to Teradata in either verbal or written form (collectively, “Feedback”), and \n",
    "    (b) Teradata and its affiliates are hereby free to use any ideas, concepts, know-how or techniques, in whole or in part, contained in Feedback: \n",
    "        (i) for any purpose whatsoever, including developing, manufacturing, and/or marketing products and/or services incorporating Feedback in whole or in part, and \n",
    "        (ii) without any restrictions or limitations, including requiring the payment of any license fees, royalties, or other consideration. "
   ]
  },
  {
   "cell_type": "markdown",
   "id": "f225fb94-b2c8-4c92-af38-733d08e0e2a1",
   "metadata": {},
   "source": [
    "## <b> Problem overview:</b>\n",
    "    "
   ]
  },
  {
   "cell_type": "markdown",
   "id": "af9813eb-9c44-4968-a5fe-d1c74415c894",
   "metadata": {},
   "source": [
    "**Dataset used: BMI Dataset**\n",
    "\n",
    "**Features**:\n",
    "\n",
    "- `gender`: Gender of person.\n",
    "- `height`: Height of person.\n",
    "- `weight`: Weight of person.\n",
    "\n",
    "**Target Variable**:\n",
    "\n",
    "- `bmi`: BMI value of person.\n",
    "\n",
    "        \n",
    "**Objective**:\n",
    "\n",
    "The primary objective is typically to build a model that can accurately predict BMI of person.\n",
    "\n",
    "**Usecase**:\n",
    "\n",
    "Here, we will use AutoML(Automated Machine Learning) functionality to automate the entire process of developing a predictive model. It will perform feature exploration, feature engineering, data preparation, model training and evaluation on dataset in auto run and at end we will get leaderboard containined different models along with their performance. Model will also have rank associated with them which indicates which is best performing model for given data followed by other models."
   ]
  },
  {
   "cell_type": "code",
   "execution_count": 1,
   "id": "66568348-4d00-477c-a071-17995f797c95",
   "metadata": {},
   "outputs": [],
   "source": [
    "# Importing AutoML from teradataml\n",
    "from teradataml import AutoML, AutoClassifier"
   ]
  },
  {
   "cell_type": "code",
   "execution_count": 2,
   "id": "17dfae70-0401-4cc4-ba1c-400a5cf62451",
   "metadata": {},
   "outputs": [],
   "source": [
    "# Importing other important libraries\n",
    "import getpass\n",
    "from teradataml import create_context, remove_context\n",
    "from teradataml import DataFrame\n",
    "from teradataml import load_example_data\n",
    "from teradataml import TrainTestSplit"
   ]
  },
  {
   "cell_type": "code",
   "execution_count": 3,
   "id": "cadd9ed2-42d6-4899-b23e-4e2cf601162f",
   "metadata": {},
   "outputs": [
    {
     "name": "stdin",
     "output_type": "stream",
     "text": [
      "Host:  ········\n",
      "Username:  ········\n",
      "Password:  ········\n"
     ]
    }
   ],
   "source": [
    "# Create the connection.\n",
    "host = getpass.getpass(\"Host: \")\n",
    "username = getpass.getpass(\"Username: \")\n",
    "password = getpass.getpass(\"Password: \")\n",
    "\n",
    "con = create_context(host=host, username=username, password=password)"
   ]
  },
  {
   "cell_type": "markdown",
   "id": "be767a89-d5b8-4876-91cb-36980754586e",
   "metadata": {},
   "source": [
    "## <b><span style='color:#F1A424'>| 1.</span> Loading Dataset </b>"
   ]
  },
  {
   "cell_type": "code",
   "execution_count": 4,
   "id": "f1592c52-b247-4792-be2a-30b49bbeb9b6",
   "metadata": {},
   "outputs": [
    {
     "name": "stdout",
     "output_type": "stream",
     "text": [
      "WARNING: Skipped loading table bmi since it already exists in the database.\n"
     ]
    }
   ],
   "source": [
    "# Loading dataset from example data collection\n",
    "load_example_data('teradataml','bmi')"
   ]
  },
  {
   "cell_type": "code",
   "execution_count": 5,
   "id": "3846ae0f-004b-4b8e-9fea-06fac4294065",
   "metadata": {},
   "outputs": [],
   "source": [
    "# Fetching in teradata dataframe\n",
    "bmi_df = DataFrame(\"bmi\")"
   ]
  },
  {
   "cell_type": "code",
   "execution_count": 6,
   "id": "442ccd80-b444-413e-970d-d855ec3d6cae",
   "metadata": {},
   "outputs": [
    {
     "data": {
      "text/html": [
       "<style type=\"text/css\">\n",
       "\ttable {border:ridge 5px;}\n",
       "\ttable td {border:inset 1px;}\n",
       "\ttable tr#HeaderRow {background-color:grey; color:white;}</style>\n",
       "<html><table>\n",
       "\t<tr id=\"HeaderRow\">\n",
       "\t\t<th>gender</th>\n",
       "\t\t<th>height</th>\n",
       "\t\t<th>weight</th>\n",
       "\t\t<th>bmi</th>\n",
       "\t</tr>\n",
       "\t<tr>\n",
       "\t\t<td>Female</td>\n",
       "\t\t<td>188</td>\n",
       "\t\t<td>90</td>\n",
       "\t\t<td>3</td>\n",
       "\t</tr>\n",
       "\t<tr>\n",
       "\t\t<td>Female</td>\n",
       "\t\t<td>159</td>\n",
       "\t\t<td>104</td>\n",
       "\t\t<td>5</td>\n",
       "\t</tr>\n",
       "\t<tr>\n",
       "\t\t<td>Female</td>\n",
       "\t\t<td>197</td>\n",
       "\t\t<td>72</td>\n",
       "\t\t<td>2</td>\n",
       "\t</tr>\n",
       "\t<tr>\n",
       "\t\t<td>Female</td>\n",
       "\t\t<td>196</td>\n",
       "\t\t<td>159</td>\n",
       "\t\t<td>5</td>\n",
       "\t</tr>\n",
       "\t<tr>\n",
       "\t\t<td>Female</td>\n",
       "\t\t<td>191</td>\n",
       "\t\t<td>68</td>\n",
       "\t\t<td>2</td>\n",
       "\t</tr>\n",
       "\t<tr>\n",
       "\t\t<td>Female</td>\n",
       "\t\t<td>146</td>\n",
       "\t\t<td>123</td>\n",
       "\t\t<td>5</td>\n",
       "\t</tr>\n",
       "\t<tr>\n",
       "\t\t<td>Female</td>\n",
       "\t\t<td>146</td>\n",
       "\t\t<td>110</td>\n",
       "\t\t<td>5</td>\n",
       "\t</tr>\n",
       "\t<tr>\n",
       "\t\t<td>Female</td>\n",
       "\t\t<td>166</td>\n",
       "\t\t<td>133</td>\n",
       "\t\t<td>5</td>\n",
       "\t</tr>\n",
       "\t<tr>\n",
       "\t\t<td>Female</td>\n",
       "\t\t<td>196</td>\n",
       "\t\t<td>50</td>\n",
       "\t\t<td>0</td>\n",
       "\t</tr>\n",
       "\t<tr>\n",
       "\t\t<td>Female</td>\n",
       "\t\t<td>162</td>\n",
       "\t\t<td>58</td>\n",
       "\t\t<td>2</td>\n",
       "\t</tr>\n",
       "</table></html>"
      ],
      "text/plain": [
       "        height  weight  bmi\n",
       "gender                     \n",
       "Female     188      90    3\n",
       "Female     159     104    5\n",
       "Female     197      72    2\n",
       "Female     196     159    5\n",
       "Female     191      68    2\n",
       "Female     146     123    5\n",
       "Female     146     110    5\n",
       "Female     166     133    5\n",
       "Female     196      50    0\n",
       "Female     162      58    2"
      ]
     },
     "execution_count": 6,
     "metadata": {},
     "output_type": "execute_result"
    }
   ],
   "source": [
    "# first 5 rows\n",
    "bmi_df.head()"
   ]
  },
  {
   "cell_type": "code",
   "execution_count": 7,
   "id": "636c220d-d12f-4ea5-ab2b-c9203ef00d49",
   "metadata": {},
   "outputs": [
    {
     "data": {
      "text/plain": [
       "(500, 4)"
      ]
     },
     "execution_count": 7,
     "metadata": {},
     "output_type": "execute_result"
    }
   ],
   "source": [
    "# bmi_df dataset\n",
    "bmi_df.shape"
   ]
  },
  {
   "cell_type": "code",
   "execution_count": 8,
   "id": "302b7531-0f59-44a4-90dc-8181b670948d",
   "metadata": {},
   "outputs": [],
   "source": [
    "# Removing less count category rows i.e, 0 and 1\n",
    "bmi_df = bmi_df[(bmi_df.bmi != 0) & (bmi_df.bmi != 1)]"
   ]
  },
  {
   "cell_type": "code",
   "execution_count": 9,
   "id": "4c6fc196-5b51-4ed1-a9b4-771994b8998c",
   "metadata": {},
   "outputs": [
    {
     "data": {
      "text/plain": [
       "(465, 4)"
      ]
     },
     "execution_count": 9,
     "metadata": {},
     "output_type": "execute_result"
    }
   ],
   "source": [
    "# bmi_df dataset\n",
    "bmi_df.shape"
   ]
  },
  {
   "cell_type": "code",
   "execution_count": 10,
   "id": "e5d1fad7-8784-4d7a-be1f-7be1d3991d8f",
   "metadata": {},
   "outputs": [],
   "source": [
    "# Performing sampling to get 80% for trainning and 20% for testing\n",
    "bmi_df_sample = bmi_df.sample(frac = [0.8, 0.2])"
   ]
  },
  {
   "cell_type": "code",
   "execution_count": 11,
   "id": "a0e6891a-1b7e-4bac-97c8-350ba5f5bde4",
   "metadata": {},
   "outputs": [
    {
     "data": {
      "text/html": [
       "<style type=\"text/css\">\n",
       "\ttable {border:ridge 5px;}\n",
       "\ttable td {border:inset 1px;}\n",
       "\ttable tr#HeaderRow {background-color:grey; color:white;}</style>\n",
       "<html><table>\n",
       "\t<tr id=\"HeaderRow\">\n",
       "\t\t<th>gender</th>\n",
       "\t\t<th>height</th>\n",
       "\t\t<th>weight</th>\n",
       "\t\t<th>bmi</th>\n",
       "\t\t<th>sampleid</th>\n",
       "\t</tr>\n",
       "\t<tr>\n",
       "\t\t<td>Female</td>\n",
       "\t\t<td>146</td>\n",
       "\t\t<td>104</td>\n",
       "\t\t<td>5</td>\n",
       "\t\t<td>1</td>\n",
       "\t</tr>\n",
       "\t<tr>\n",
       "\t\t<td>Female</td>\n",
       "\t\t<td>178</td>\n",
       "\t\t<td>154</td>\n",
       "\t\t<td>5</td>\n",
       "\t\t<td>1</td>\n",
       "\t</tr>\n",
       "\t<tr>\n",
       "\t\t<td>Female</td>\n",
       "\t\t<td>198</td>\n",
       "\t\t<td>145</td>\n",
       "\t\t<td>4</td>\n",
       "\t\t<td>1</td>\n",
       "\t</tr>\n",
       "\t<tr>\n",
       "\t\t<td>Female</td>\n",
       "\t\t<td>146</td>\n",
       "\t\t<td>157</td>\n",
       "\t\t<td>5</td>\n",
       "\t\t<td>1</td>\n",
       "\t</tr>\n",
       "\t<tr>\n",
       "\t\t<td>Female</td>\n",
       "\t\t<td>158</td>\n",
       "\t\t<td>149</td>\n",
       "\t\t<td>5</td>\n",
       "\t\t<td>1</td>\n",
       "\t</tr>\n",
       "\t<tr>\n",
       "\t\t<td>Female</td>\n",
       "\t\t<td>158</td>\n",
       "\t\t<td>153</td>\n",
       "\t\t<td>5</td>\n",
       "\t\t<td>1</td>\n",
       "\t</tr>\n",
       "\t<tr>\n",
       "\t\t<td>Female</td>\n",
       "\t\t<td>166</td>\n",
       "\t\t<td>126</td>\n",
       "\t\t<td>5</td>\n",
       "\t\t<td>1</td>\n",
       "\t</tr>\n",
       "\t<tr>\n",
       "\t\t<td>Female</td>\n",
       "\t\t<td>151</td>\n",
       "\t\t<td>64</td>\n",
       "\t\t<td>3</td>\n",
       "\t\t<td>1</td>\n",
       "\t</tr>\n",
       "\t<tr>\n",
       "\t\t<td>Female</td>\n",
       "\t\t<td>169</td>\n",
       "\t\t<td>97</td>\n",
       "\t\t<td>4</td>\n",
       "\t\t<td>1</td>\n",
       "\t</tr>\n",
       "\t<tr>\n",
       "\t\t<td>Female</td>\n",
       "\t\t<td>172</td>\n",
       "\t\t<td>67</td>\n",
       "\t\t<td>2</td>\n",
       "\t\t<td>1</td>\n",
       "\t</tr>\n",
       "</table></html>"
      ],
      "text/plain": [
       "        height  weight  bmi  sampleid\n",
       "gender                               \n",
       "Female     146     104    5         1\n",
       "Female     178     154    5         1\n",
       "Female     198     145    4         1\n",
       "Female     146     157    5         1\n",
       "Female     158     149    5         1\n",
       "Female     158     153    5         1\n",
       "Female     166     126    5         1\n",
       "Female     151      64    3         1\n",
       "Female     169      97    4         1\n",
       "Female     172      67    2         1"
      ]
     },
     "execution_count": 11,
     "metadata": {},
     "output_type": "execute_result"
    }
   ],
   "source": [
    "bmi_df_sample.head()"
   ]
  },
  {
   "cell_type": "code",
   "execution_count": 12,
   "id": "5e3e5923-18ad-4cf6-b4e5-e87f8854700b",
   "metadata": {},
   "outputs": [],
   "source": [
    "# Fetching train and test data\n",
    "bmi_df_train= bmi_df_sample[bmi_df_sample['sampleid'] == 1].drop('sampleid', axis=1)\n",
    "bmi_df_test = bmi_df_sample[bmi_df_sample['sampleid'] == 2].drop('sampleid', axis=1)"
   ]
  },
  {
   "cell_type": "code",
   "execution_count": 13,
   "id": "83d72a72-3fac-4862-b374-d21ab59be1a6",
   "metadata": {},
   "outputs": [
    {
     "data": {
      "text/plain": [
       "(372, 4)"
      ]
     },
     "execution_count": 13,
     "metadata": {},
     "output_type": "execute_result"
    }
   ],
   "source": [
    "# train data shape\n",
    "bmi_df_train.shape"
   ]
  },
  {
   "cell_type": "code",
   "execution_count": 14,
   "id": "b22be730-8a7a-40f3-8e2a-cabd8d1f427f",
   "metadata": {},
   "outputs": [
    {
     "data": {
      "text/plain": [
       "(93, 4)"
      ]
     },
     "execution_count": 14,
     "metadata": {},
     "output_type": "execute_result"
    }
   ],
   "source": [
    "# test data shape\n",
    "bmi_df_test.shape"
   ]
  },
  {
   "cell_type": "code",
   "execution_count": 15,
   "id": "18473df2-be15-4e1e-bc5e-739abacf8b89",
   "metadata": {},
   "outputs": [
    {
     "data": {
      "text/html": [
       "<style type=\"text/css\">\n",
       "\ttable {border:ridge 5px;}\n",
       "\ttable td {border:inset 1px;}\n",
       "\ttable tr#HeaderRow {background-color:grey; color:white;}</style>\n",
       "<html><table>\n",
       "\t<tr id=\"HeaderRow\">\n",
       "\t\t<th>gender</th>\n",
       "\t\t<th>height</th>\n",
       "\t\t<th>weight</th>\n",
       "\t\t<th>bmi</th>\n",
       "\t</tr>\n",
       "\t<tr>\n",
       "\t\t<td>Female</td>\n",
       "\t\t<td>172</td>\n",
       "\t\t<td>67</td>\n",
       "\t\t<td>2</td>\n",
       "\t</tr>\n",
       "\t<tr>\n",
       "\t\t<td>Female</td>\n",
       "\t\t<td>160</td>\n",
       "\t\t<td>131</td>\n",
       "\t\t<td>5</td>\n",
       "\t</tr>\n",
       "\t<tr>\n",
       "\t\t<td>Female</td>\n",
       "\t\t<td>157</td>\n",
       "\t\t<td>153</td>\n",
       "\t\t<td>5</td>\n",
       "\t</tr>\n",
       "\t<tr>\n",
       "\t\t<td>Female</td>\n",
       "\t\t<td>189</td>\n",
       "\t\t<td>132</td>\n",
       "\t\t<td>4</td>\n",
       "\t</tr>\n",
       "\t<tr>\n",
       "\t\t<td>Female</td>\n",
       "\t\t<td>185</td>\n",
       "\t\t<td>81</td>\n",
       "\t\t<td>2</td>\n",
       "\t</tr>\n",
       "\t<tr>\n",
       "\t\t<td>Female</td>\n",
       "\t\t<td>175</td>\n",
       "\t\t<td>120</td>\n",
       "\t\t<td>4</td>\n",
       "\t</tr>\n",
       "\t<tr>\n",
       "\t\t<td>Female</td>\n",
       "\t\t<td>171</td>\n",
       "\t\t<td>152</td>\n",
       "\t\t<td>5</td>\n",
       "\t</tr>\n",
       "\t<tr>\n",
       "\t\t<td>Female</td>\n",
       "\t\t<td>151</td>\n",
       "\t\t<td>64</td>\n",
       "\t\t<td>3</td>\n",
       "\t</tr>\n",
       "\t<tr>\n",
       "\t\t<td>Female</td>\n",
       "\t\t<td>169</td>\n",
       "\t\t<td>97</td>\n",
       "\t\t<td>4</td>\n",
       "\t</tr>\n",
       "\t<tr>\n",
       "\t\t<td>Female</td>\n",
       "\t\t<td>153</td>\n",
       "\t\t<td>107</td>\n",
       "\t\t<td>5</td>\n",
       "\t</tr>\n",
       "</table></html>"
      ],
      "text/plain": [
       "        height  weight  bmi\n",
       "gender                     \n",
       "Female     172      67    2\n",
       "Female     160     131    5\n",
       "Female     157     153    5\n",
       "Female     189     132    4\n",
       "Female     185      81    2\n",
       "Female     175     120    4\n",
       "Female     171     152    5\n",
       "Female     151      64    3\n",
       "Female     169      97    4\n",
       "Female     153     107    5"
      ]
     },
     "execution_count": 15,
     "metadata": {},
     "output_type": "execute_result"
    }
   ],
   "source": [
    "#train dataset\n",
    "bmi_df_train.head()"
   ]
  },
  {
   "cell_type": "code",
   "execution_count": 16,
   "id": "58c9d763-4f19-449e-a35b-676d4d026acc",
   "metadata": {},
   "outputs": [
    {
     "data": {
      "text/html": [
       "<style type=\"text/css\">\n",
       "\ttable {border:ridge 5px;}\n",
       "\ttable td {border:inset 1px;}\n",
       "\ttable tr#HeaderRow {background-color:grey; color:white;}</style>\n",
       "<html><table>\n",
       "\t<tr id=\"HeaderRow\">\n",
       "\t\t<th>gender</th>\n",
       "\t\t<th>height</th>\n",
       "\t\t<th>weight</th>\n",
       "\t\t<th>bmi</th>\n",
       "\t</tr>\n",
       "\t<tr>\n",
       "\t\t<td>Female</td>\n",
       "\t\t<td>165</td>\n",
       "\t\t<td>57</td>\n",
       "\t\t<td>2</td>\n",
       "\t</tr>\n",
       "\t<tr>\n",
       "\t\t<td>Female</td>\n",
       "\t\t<td>183</td>\n",
       "\t\t<td>150</td>\n",
       "\t\t<td>5</td>\n",
       "\t</tr>\n",
       "\t<tr>\n",
       "\t\t<td>Female</td>\n",
       "\t\t<td>169</td>\n",
       "\t\t<td>54</td>\n",
       "\t\t<td>2</td>\n",
       "\t</tr>\n",
       "\t<tr>\n",
       "\t\t<td>Female</td>\n",
       "\t\t<td>188</td>\n",
       "\t\t<td>80</td>\n",
       "\t\t<td>2</td>\n",
       "\t</tr>\n",
       "\t<tr>\n",
       "\t\t<td>Female</td>\n",
       "\t\t<td>170</td>\n",
       "\t\t<td>102</td>\n",
       "\t\t<td>4</td>\n",
       "\t</tr>\n",
       "\t<tr>\n",
       "\t\t<td>Female</td>\n",
       "\t\t<td>161</td>\n",
       "\t\t<td>134</td>\n",
       "\t\t<td>5</td>\n",
       "\t</tr>\n",
       "\t<tr>\n",
       "\t\t<td>Female</td>\n",
       "\t\t<td>185</td>\n",
       "\t\t<td>119</td>\n",
       "\t\t<td>4</td>\n",
       "\t</tr>\n",
       "\t<tr>\n",
       "\t\t<td>Female</td>\n",
       "\t\t<td>168</td>\n",
       "\t\t<td>139</td>\n",
       "\t\t<td>5</td>\n",
       "\t</tr>\n",
       "\t<tr>\n",
       "\t\t<td>Female</td>\n",
       "\t\t<td>192</td>\n",
       "\t\t<td>90</td>\n",
       "\t\t<td>2</td>\n",
       "\t</tr>\n",
       "\t<tr>\n",
       "\t\t<td>Female</td>\n",
       "\t\t<td>164</td>\n",
       "\t\t<td>82</td>\n",
       "\t\t<td>4</td>\n",
       "\t</tr>\n",
       "</table></html>"
      ],
      "text/plain": [
       "        height  weight  bmi\n",
       "gender                     \n",
       "Female     165      57    2\n",
       "Female     183     150    5\n",
       "Female     169      54    2\n",
       "Female     188      80    2\n",
       "Female     170     102    4\n",
       "Female     161     134    5\n",
       "Female     185     119    4\n",
       "Female     168     139    5\n",
       "Female     192      90    2\n",
       "Female     164      82    4"
      ]
     },
     "execution_count": 16,
     "metadata": {},
     "output_type": "execute_result"
    }
   ],
   "source": [
    "# test dataset\n",
    "bmi_df_test.head()"
   ]
  },
  {
   "cell_type": "markdown",
   "id": "856ea871-93d8-4ea2-b524-1acb23bd7eb5",
   "metadata": {},
   "source": [
    "## <b><span style='color:#F1A424'>| 2.</span> Fitting AutoML </b>"
   ]
  },
  {
   "cell_type": "code",
   "execution_count": 23,
   "id": "f3650aa5-a408-4227-a88d-79c0f3d36d3c",
   "metadata": {},
   "outputs": [],
   "source": [
    "# Creating AutoML instance\n",
    "# Using xgboost model for model training.\n",
    "# Keeping early stopping criteria max_models with value 6\n",
    "# and verbose level 2 for detailed loggging\n",
    "\n",
    "aml = AutoML(task_type=\"Classification\",\n",
    "             include='xgboost',\n",
    "             max_models=6,\n",
    "             verbose=2)"
   ]
  },
  {
   "cell_type": "code",
   "execution_count": 24,
   "id": "a1b7a771-1bfa-40c9-8ad0-c377d320c137",
   "metadata": {
    "tags": []
   },
   "outputs": [
    {
     "data": {
      "text/html": [
       "\n",
       "            <style>\n",
       "                .custom-div {\n",
       "                    background-color: lightgray;\n",
       "                    color: #000000;\n",
       "                    padding: 10px;\n",
       "                    border-radius: 8px;\n",
       "                    box-shadow: 0 3px 4px rgba(0, 0, 0, 0.2);\n",
       "                    margin-bottom: 10px;\n",
       "                    text-align: center;\n",
       "                }\n",
       "            </style>\n",
       "        <br><div class=\"custom-div\"><h3><span style=\"color: green;\"></span>1. Feature Exploration -> 2. Feature Engineering -> 3. Data Preparation -> 4. Model Training & Evaluation<center></h3></center></div>"
      ],
      "text/plain": [
       "<IPython.core.display.HTML object>"
      ]
     },
     "metadata": {},
     "output_type": "display_data"
    },
    {
     "name": "stdout",
     "output_type": "stream",
     "text": [
      "Feature Exploration started ...\n",
      "\n",
      "Data Overview:\n",
      "Total Rows in the data: 372\n",
      "Total Columns in the data: 4\n",
      "\n",
      "Column Summary:\n"
     ]
    },
    {
     "data": {
      "text/html": [
       "<style type=\"text/css\">\n",
       "\ttable {border:ridge 5px;}\n",
       "\ttable td {border:inset 1px;}\n",
       "\ttable tr#HeaderRow {background-color:grey; color:white;}</style>\n",
       "<html><table>\n",
       "\t<tr id=\"HeaderRow\">\n",
       "\t\t<th>ColumnName</th>\n",
       "\t\t<th>Datatype</th>\n",
       "\t\t<th>NonNullCount</th>\n",
       "\t\t<th>NullCount</th>\n",
       "\t\t<th>BlankCount</th>\n",
       "\t\t<th>ZeroCount</th>\n",
       "\t\t<th>PositiveCount</th>\n",
       "\t\t<th>NegativeCount</th>\n",
       "\t\t<th>NullPercentage</th>\n",
       "\t\t<th>NonNullPercentage</th>\n",
       "\t</tr>\n",
       "\t<tr>\n",
       "\t\t<td>bmi</td>\n",
       "\t\t<td>INTEGER</td>\n",
       "\t\t<td>372</td>\n",
       "\t\t<td>0</td>\n",
       "\t\t<td>None</td>\n",
       "\t\t<td>0</td>\n",
       "\t\t<td>372</td>\n",
       "\t\t<td>0</td>\n",
       "\t\t<td>0.0</td>\n",
       "\t\t<td>100.0</td>\n",
       "\t</tr>\n",
       "\t<tr>\n",
       "\t\t<td>gender</td>\n",
       "\t\t<td>VARCHAR(20) CHARACTER SET LATIN</td>\n",
       "\t\t<td>372</td>\n",
       "\t\t<td>0</td>\n",
       "\t\t<td>0</td>\n",
       "\t\t<td>None</td>\n",
       "\t\t<td>None</td>\n",
       "\t\t<td>None</td>\n",
       "\t\t<td>0.0</td>\n",
       "\t\t<td>100.0</td>\n",
       "\t</tr>\n",
       "\t<tr>\n",
       "\t\t<td>weight</td>\n",
       "\t\t<td>INTEGER</td>\n",
       "\t\t<td>372</td>\n",
       "\t\t<td>0</td>\n",
       "\t\t<td>None</td>\n",
       "\t\t<td>0</td>\n",
       "\t\t<td>372</td>\n",
       "\t\t<td>0</td>\n",
       "\t\t<td>0.0</td>\n",
       "\t\t<td>100.0</td>\n",
       "\t</tr>\n",
       "\t<tr>\n",
       "\t\t<td>height</td>\n",
       "\t\t<td>INTEGER</td>\n",
       "\t\t<td>372</td>\n",
       "\t\t<td>0</td>\n",
       "\t\t<td>None</td>\n",
       "\t\t<td>0</td>\n",
       "\t\t<td>372</td>\n",
       "\t\t<td>0</td>\n",
       "\t\t<td>0.0</td>\n",
       "\t\t<td>100.0</td>\n",
       "\t</tr>\n",
       "</table></html>"
      ],
      "text/plain": [
       "  ColumnName                         Datatype  NonNullCount  NullCount  BlankCount  ZeroCount  PositiveCount  NegativeCount  NullPercentage  NonNullPercentage\n",
       "0        bmi                          INTEGER           372          0         NaN        0.0          372.0            0.0             0.0              100.0\n",
       "1     gender  VARCHAR(20) CHARACTER SET LATIN           372          0         0.0        NaN            NaN            NaN             0.0              100.0\n",
       "2     weight                          INTEGER           372          0         NaN        0.0          372.0            0.0             0.0              100.0\n",
       "3     height                          INTEGER           372          0         NaN        0.0          372.0            0.0             0.0              100.0"
      ]
     },
     "metadata": {},
     "output_type": "display_data"
    },
    {
     "name": "stdout",
     "output_type": "stream",
     "text": [
      "        height   weight      bmi\n",
      "func                            \n",
      "50%    169.000  109.000    4.000\n",
      "count  372.000  372.000  372.000\n",
      "mean   168.989  110.054    3.997\n",
      "min    140.000   50.000    2.000\n",
      "max    199.000  160.000    5.000\n",
      "75%    182.250  139.000    5.000\n",
      "25%    155.000   83.750    3.000\n",
      "std     16.219   30.835    1.063\n",
      "\n",
      "Statistics of Data:\n"
     ]
    },
    {
     "data": {
      "text/html": [
       "<style type=\"text/css\">\n",
       "\ttable {border:ridge 5px;}\n",
       "\ttable td {border:inset 1px;}\n",
       "\ttable tr#HeaderRow {background-color:grey; color:white;}</style>\n",
       "<html><table>\n",
       "\t<tr id=\"HeaderRow\">\n",
       "\t\t<th>func</th>\n",
       "\t\t<th>height</th>\n",
       "\t\t<th>weight</th>\n",
       "\t\t<th>bmi</th>\n",
       "\t</tr>\n",
       "\t<tr>\n",
       "\t\t<td>50%</td>\n",
       "\t\t<td>169</td>\n",
       "\t\t<td>109</td>\n",
       "\t\t<td>4</td>\n",
       "\t</tr>\n",
       "\t<tr>\n",
       "\t\t<td>count</td>\n",
       "\t\t<td>372</td>\n",
       "\t\t<td>372</td>\n",
       "\t\t<td>372</td>\n",
       "\t</tr>\n",
       "\t<tr>\n",
       "\t\t<td>mean</td>\n",
       "\t\t<td>168.989</td>\n",
       "\t\t<td>110.054</td>\n",
       "\t\t<td>3.997</td>\n",
       "\t</tr>\n",
       "\t<tr>\n",
       "\t\t<td>min</td>\n",
       "\t\t<td>140</td>\n",
       "\t\t<td>50</td>\n",
       "\t\t<td>2</td>\n",
       "\t</tr>\n",
       "\t<tr>\n",
       "\t\t<td>max</td>\n",
       "\t\t<td>199</td>\n",
       "\t\t<td>160</td>\n",
       "\t\t<td>5</td>\n",
       "\t</tr>\n",
       "\t<tr>\n",
       "\t\t<td>75%</td>\n",
       "\t\t<td>182.25</td>\n",
       "\t\t<td>139</td>\n",
       "\t\t<td>5</td>\n",
       "\t</tr>\n",
       "\t<tr>\n",
       "\t\t<td>25%</td>\n",
       "\t\t<td>155</td>\n",
       "\t\t<td>83.75</td>\n",
       "\t\t<td>3</td>\n",
       "\t</tr>\n",
       "\t<tr>\n",
       "\t\t<td>std</td>\n",
       "\t\t<td>16.219</td>\n",
       "\t\t<td>30.835</td>\n",
       "\t\t<td>1.063</td>\n",
       "\t</tr>\n",
       "</table></html>"
      ],
      "text/plain": [
       "        height   weight      bmi\n",
       "func                            \n",
       "50%    169.000  109.000    4.000\n",
       "count  372.000  372.000  372.000\n",
       "mean   168.989  110.054    3.997\n",
       "min    140.000   50.000    2.000\n",
       "max    199.000  160.000    5.000\n",
       "75%    182.250  139.000    5.000\n",
       "25%    155.000   83.750    3.000\n",
       "std     16.219   30.835    1.063"
      ]
     },
     "metadata": {},
     "output_type": "display_data"
    },
    {
     "name": "stdout",
     "output_type": "stream",
     "text": [
      "\n",
      "Categorical Columns with their Distinct values:\n",
      "ColumnName                DistinctValueCount\n",
      "gender                    2         \n",
      "\n",
      "No Futile columns found.\n",
      "\n",
      "Target Column Distribution:\n"
     ]
    },
    {
     "data": {
      "image/png": "[encoded data removed]",
      "text/plain": [
       "<Figure size 600x600 with 1 Axes>"
      ]
     },
     "metadata": {},
     "output_type": "display_data"
    },
    {
     "name": "stdout",
     "output_type": "stream",
     "text": [
      "                                                                                                                                                                                                                                                                                                                                                                                                                                                                                                                    \n",
      "No outlier found!\n",
      "                                                                                        \r"
     ]
    },
    {
     "data": {
      "text/html": [
       "\n",
       "            <style>\n",
       "                .custom-div {\n",
       "                    background-color: lightgray;\n",
       "                    color: #000000;\n",
       "                    padding: 10px;\n",
       "                    border-radius: 8px;\n",
       "                    box-shadow: 0 3px 4px rgba(0 -  0 -  0 -  0.2);\n",
       "                    margin-bottom: 10px;\n",
       "                    text-align: center;\n",
       "                }\n",
       "            </style>\n",
       "        <br><div class=\"custom-div\"><h3><span style=\"color: green;\">1. Feature Exploration -></span> 2. Feature Engineering -> 3. Data Preparation -> 4. Model Training & Evaluation<center></h3></center></div>"
      ],
      "text/plain": [
       "<IPython.core.display.HTML object>"
      ]
     },
     "metadata": {},
     "output_type": "display_data"
    },
    {
     "name": "stdout",
     "output_type": "stream",
     "text": [
      "                                                                                        \r"
     ]
    },
    {
     "data": {
      "text/html": [
       "Feature Engineering started ..."
      ],
      "text/plain": [
       "<IPython.core.display.HTML object>"
      ]
     },
     "metadata": {},
     "output_type": "display_data"
    },
    {
     "name": "stdout",
     "output_type": "stream",
     "text": [
      "                                                                                        \r"
     ]
    },
    {
     "data": {
      "text/html": [
       "\n",
       "Handling duplicate records present in dataset ..."
      ],
      "text/plain": [
       "<IPython.core.display.HTML object>"
      ]
     },
     "metadata": {},
     "output_type": "display_data"
    },
    {
     "name": "stdout",
     "output_type": "stream",
     "text": [
      "                                                                                        \r"
     ]
    },
    {
     "data": {
      "text/html": [
       "Updated dataset sample after removing 5 duplicate records:"
      ],
      "text/plain": [
       "<IPython.core.display.HTML object>"
      ]
     },
     "metadata": {},
     "output_type": "display_data"
    },
    {
     "data": {
      "text/html": [
       "<style type=\"text/css\">\n",
       "\ttable {border:ridge 5px;}\n",
       "\ttable td {border:inset 1px;}\n",
       "\ttable tr#HeaderRow {background-color:grey; color:white;}</style>\n",
       "<html><table>\n",
       "\t<tr id=\"HeaderRow\">\n",
       "\t\t<th>gender</th>\n",
       "\t\t<th>height</th>\n",
       "\t\t<th>weight</th>\n",
       "\t\t<th>bmi</th>\n",
       "\t</tr>\n",
       "\t<tr>\n",
       "\t\t<td>Female</td>\n",
       "\t\t<td>147</td>\n",
       "\t\t<td>94</td>\n",
       "\t\t<td>5</td>\n",
       "\t</tr>\n",
       "\t<tr>\n",
       "\t\t<td>Female</td>\n",
       "\t\t<td>160</td>\n",
       "\t\t<td>83</td>\n",
       "\t\t<td>4</td>\n",
       "\t</tr>\n",
       "\t<tr>\n",
       "\t\t<td>Female</td>\n",
       "\t\t<td>166</td>\n",
       "\t\t<td>153</td>\n",
       "\t\t<td>5</td>\n",
       "\t</tr>\n",
       "\t<tr>\n",
       "\t\t<td>Female</td>\n",
       "\t\t<td>181</td>\n",
       "\t\t<td>94</td>\n",
       "\t\t<td>3</td>\n",
       "\t</tr>\n",
       "\t<tr>\n",
       "\t\t<td>Female</td>\n",
       "\t\t<td>187</td>\n",
       "\t\t<td>102</td>\n",
       "\t\t<td>3</td>\n",
       "\t</tr>\n",
       "\t<tr>\n",
       "\t\t<td>Female</td>\n",
       "\t\t<td>188</td>\n",
       "\t\t<td>122</td>\n",
       "\t\t<td>4</td>\n",
       "\t</tr>\n",
       "\t<tr>\n",
       "\t\t<td>Male</td>\n",
       "\t\t<td>170</td>\n",
       "\t\t<td>95</td>\n",
       "\t\t<td>4</td>\n",
       "\t</tr>\n",
       "\t<tr>\n",
       "\t\t<td>Male</td>\n",
       "\t\t<td>174</td>\n",
       "\t\t<td>90</td>\n",
       "\t\t<td>3</td>\n",
       "\t</tr>\n",
       "\t<tr>\n",
       "\t\t<td>Male</td>\n",
       "\t\t<td>173</td>\n",
       "\t\t<td>139</td>\n",
       "\t\t<td>5</td>\n",
       "\t</tr>\n",
       "\t<tr>\n",
       "\t\t<td>Male</td>\n",
       "\t\t<td>159</td>\n",
       "\t\t<td>154</td>\n",
       "\t\t<td>5</td>\n",
       "\t</tr>\n",
       "</table></html>"
      ],
      "text/plain": [
       "        height  weight  bmi\n",
       "gender                     \n",
       "Female     147      94    5\n",
       "Female     160      83    4\n",
       "Female     166     153    5\n",
       "Female     181      94    3\n",
       "Female     187     102    3\n",
       "Female     188     122    4\n",
       "Male       170      95    4\n",
       "Male       174      90    3\n",
       "Male       173     139    5\n",
       "Male       159     154    5"
      ]
     },
     "metadata": {},
     "output_type": "display_data"
    },
    {
     "name": "stdout",
     "output_type": "stream",
     "text": [
      "                                                                                        \r"
     ]
    },
    {
     "data": {
      "text/html": [
       "367 rows X 4 columns"
      ],
      "text/plain": [
       "<IPython.core.display.HTML object>"
      ]
     },
     "metadata": {},
     "output_type": "display_data"
    },
    {
     "name": "stdout",
     "output_type": "stream",
     "text": [
      "Remaining Rows in the data: 367                                                         \n",
      "Remaining Columns in the data: 4\n",
      "                                                                                        \r"
     ]
    },
    {
     "data": {
      "text/html": [
       "Total time to handle duplicate records: 4.01 sec  "
      ],
      "text/plain": [
       "<IPython.core.display.HTML object>"
      ]
     },
     "metadata": {},
     "output_type": "display_data"
    },
    {
     "name": "stdout",
     "output_type": "stream",
     "text": [
      "                                                                                        \r"
     ]
    },
    {
     "data": {
      "text/html": [
       "\n",
       "Handling less significant features from data ..."
      ],
      "text/plain": [
       "<IPython.core.display.HTML object>"
      ]
     },
     "metadata": {},
     "output_type": "display_data"
    },
    {
     "name": "stdout",
     "output_type": "stream",
     "text": [
      "Analysis indicates all categorical columns are significant. No action Needed.           \n",
      "                                                                                        \r"
     ]
    },
    {
     "data": {
      "text/html": [
       "Total time to handle less significant features: 14.01 sec  "
      ],
      "text/plain": [
       "<IPython.core.display.HTML object>"
      ]
     },
     "metadata": {},
     "output_type": "display_data"
    },
    {
     "name": "stdout",
     "output_type": "stream",
     "text": [
      "                                                                                         \r"
     ]
    },
    {
     "data": {
      "text/html": [
       "\n",
       "Handling Date Features ..."
      ],
      "text/plain": [
       "<IPython.core.display.HTML object>"
      ]
     },
     "metadata": {},
     "output_type": "display_data"
    },
    {
     "name": "stdout",
     "output_type": "stream",
     "text": [
      "Analysis Completed. Dataset does not contain any feature related to dates. No action needed.\n",
      "                                                                                         \r"
     ]
    },
    {
     "data": {
      "text/html": [
       "Total time to handle date features: 0.00 sec\n"
      ],
      "text/plain": [
       "<IPython.core.display.HTML object>"
      ]
     },
     "metadata": {},
     "output_type": "display_data"
    },
    {
     "name": "stdout",
     "output_type": "stream",
     "text": [
      "                                                                                         \r"
     ]
    },
    {
     "data": {
      "text/html": [
       "\n",
       "Checking Missing values in dataset ..."
      ],
      "text/plain": [
       "<IPython.core.display.HTML object>"
      ]
     },
     "metadata": {},
     "output_type": "display_data"
    },
    {
     "name": "stdout",
     "output_type": "stream",
     "text": [
      "Analysis Completed. No Missing Values Detected.                                          \n",
      "                                                                                         \r"
     ]
    },
    {
     "data": {
      "text/html": [
       "Total time to find missing values in data: 6.96 sec  "
      ],
      "text/plain": [
       "<IPython.core.display.HTML object>"
      ]
     },
     "metadata": {},
     "output_type": "display_data"
    },
    {
     "name": "stdout",
     "output_type": "stream",
     "text": [
      "                                                                                         \r"
     ]
    },
    {
     "data": {
      "text/html": [
       "\n",
       "Imputing Missing Values ..."
      ],
      "text/plain": [
       "<IPython.core.display.HTML object>"
      ]
     },
     "metadata": {},
     "output_type": "display_data"
    },
    {
     "name": "stdout",
     "output_type": "stream",
     "text": [
      "Analysis completed. No imputation required.                                              \n",
      "                                                                                         \r"
     ]
    },
    {
     "data": {
      "text/html": [
       "Time taken to perform imputation: 0.01 sec  "
      ],
      "text/plain": [
       "<IPython.core.display.HTML object>"
      ]
     },
     "metadata": {},
     "output_type": "display_data"
    },
    {
     "name": "stdout",
     "output_type": "stream",
     "text": [
      "                                                                                         \r"
     ]
    },
    {
     "data": {
      "text/html": [
       "\n",
       "Performing encoding for categorical columns ..."
      ],
      "text/plain": [
       "<IPython.core.display.HTML object>"
      ]
     },
     "metadata": {},
     "output_type": "display_data"
    },
    {
     "name": "stdout",
     "output_type": "stream",
     "text": [
      "                                                                                         \r"
     ]
    },
    {
     "data": {
      "text/html": [
       "ONE HOT Encoding these Columns:"
      ],
      "text/plain": [
       "<IPython.core.display.HTML object>"
      ]
     },
     "metadata": {},
     "output_type": "display_data"
    },
    {
     "name": "stdout",
     "output_type": "stream",
     "text": [
      "['gender']\n",
      "                                                                                         \r"
     ]
    },
    {
     "data": {
      "text/html": [
       "Sample of dataset after performing one hot encoding:"
      ],
      "text/plain": [
       "<IPython.core.display.HTML object>"
      ]
     },
     "metadata": {},
     "output_type": "display_data"
    },
    {
     "data": {
      "text/html": [
       "<style type=\"text/css\">\n",
       "\ttable {border:ridge 5px;}\n",
       "\ttable td {border:inset 1px;}\n",
       "\ttable tr#HeaderRow {background-color:grey; color:white;}</style>\n",
       "<html><table>\n",
       "\t<tr id=\"HeaderRow\">\n",
       "\t\t<th>gender_0</th>\n",
       "\t\t<th>gender_1</th>\n",
       "\t\t<th>height</th>\n",
       "\t\t<th>weight</th>\n",
       "\t\t<th>bmi</th>\n",
       "\t\t<th>id</th>\n",
       "\t</tr>\n",
       "\t<tr>\n",
       "\t\t<td>1</td>\n",
       "\t\t<td>0</td>\n",
       "\t\t<td>166</td>\n",
       "\t\t<td>153</td>\n",
       "\t\t<td>5</td>\n",
       "\t\t<td>55</td>\n",
       "\t</tr>\n",
       "\t<tr>\n",
       "\t\t<td>1</td>\n",
       "\t\t<td>0</td>\n",
       "\t\t<td>187</td>\n",
       "\t\t<td>102</td>\n",
       "\t\t<td>3</td>\n",
       "\t\t<td>79</td>\n",
       "\t</tr>\n",
       "\t<tr>\n",
       "\t\t<td>1</td>\n",
       "\t\t<td>0</td>\n",
       "\t\t<td>188</td>\n",
       "\t\t<td>122</td>\n",
       "\t\t<td>4</td>\n",
       "\t\t<td>87</td>\n",
       "\t</tr>\n",
       "\t<tr>\n",
       "\t\t<td>1</td>\n",
       "\t\t<td>0</td>\n",
       "\t\t<td>164</td>\n",
       "\t\t<td>142</td>\n",
       "\t\t<td>5</td>\n",
       "\t\t<td>95</td>\n",
       "\t</tr>\n",
       "\t<tr>\n",
       "\t\t<td>1</td>\n",
       "\t\t<td>0</td>\n",
       "\t\t<td>143</td>\n",
       "\t\t<td>118</td>\n",
       "\t\t<td>5</td>\n",
       "\t\t<td>111</td>\n",
       "\t</tr>\n",
       "\t<tr>\n",
       "\t\t<td>1</td>\n",
       "\t\t<td>0</td>\n",
       "\t\t<td>150</td>\n",
       "\t\t<td>84</td>\n",
       "\t\t<td>4</td>\n",
       "\t\t<td>119</td>\n",
       "\t</tr>\n",
       "\t<tr>\n",
       "\t\t<td>0</td>\n",
       "\t\t<td>1</td>\n",
       "\t\t<td>173</td>\n",
       "\t\t<td>139</td>\n",
       "\t\t<td>5</td>\n",
       "\t\t<td>28</td>\n",
       "\t</tr>\n",
       "\t<tr>\n",
       "\t\t<td>0</td>\n",
       "\t\t<td>1</td>\n",
       "\t\t<td>168</td>\n",
       "\t\t<td>158</td>\n",
       "\t\t<td>5</td>\n",
       "\t\t<td>44</td>\n",
       "\t</tr>\n",
       "\t<tr>\n",
       "\t\t<td>0</td>\n",
       "\t\t<td>1</td>\n",
       "\t\t<td>155</td>\n",
       "\t\t<td>57</td>\n",
       "\t\t<td>2</td>\n",
       "\t\t<td>52</td>\n",
       "\t</tr>\n",
       "\t<tr>\n",
       "\t\t<td>0</td>\n",
       "\t\t<td>1</td>\n",
       "\t\t<td>142</td>\n",
       "\t\t<td>135</td>\n",
       "\t\t<td>5</td>\n",
       "\t\t<td>60</td>\n",
       "\t</tr>\n",
       "</table></html>"
      ],
      "text/plain": [
       "          gender_1  height  weight  bmi   id\n",
       "gender_0                                    \n",
       "1                0     166     153    5   55\n",
       "1                0     187     102    3   79\n",
       "1                0     188     122    4   87\n",
       "1                0     164     142    5   95\n",
       "1                0     143     118    5  111\n",
       "1                0     150      84    4  119\n",
       "0                1     173     139    5   28\n",
       "0                1     168     158    5   44\n",
       "0                1     155      57    2   52\n",
       "0                1     142     135    5   60"
      ]
     },
     "metadata": {},
     "output_type": "display_data"
    },
    {
     "name": "stdout",
     "output_type": "stream",
     "text": [
      "                                                                                         \r"
     ]
    },
    {
     "data": {
      "text/html": [
       "367 rows X 6 columns"
      ],
      "text/plain": [
       "<IPython.core.display.HTML object>"
      ]
     },
     "metadata": {},
     "output_type": "display_data"
    },
    {
     "name": "stdout",
     "output_type": "stream",
     "text": [
      "                                                                                         \r"
     ]
    },
    {
     "data": {
      "text/html": [
       "Time taken to encode the columns: 12.82 sec"
      ],
      "text/plain": [
       "<IPython.core.display.HTML object>"
      ]
     },
     "metadata": {},
     "output_type": "display_data"
    },
    {
     "name": "stdout",
     "output_type": "stream",
     "text": [
      "                                                                                         \r"
     ]
    },
    {
     "data": {
      "text/html": [
       "\n",
       "            <style>\n",
       "                .custom-div {\n",
       "                    background-color: lightgray;\n",
       "                    color: #000000;\n",
       "                    padding: 10px;\n",
       "                    border-radius: 8px;\n",
       "                    box-shadow: 0 3px 4px rgba(0 -  0 -  0 -  0.2);\n",
       "                    margin-bottom: 10px;\n",
       "                    text-align: center;\n",
       "                }\n",
       "            </style>\n",
       "        <br><div class=\"custom-div\"><h3><span style=\"color: green;\">1. Feature Exploration -> 2. Feature Engineering -></span> 3. Data Preparation -> 4. Model Training & Evaluation<center></h3></center></div>"
      ],
      "text/plain": [
       "<IPython.core.display.HTML object>"
      ]
     },
     "metadata": {},
     "output_type": "display_data"
    },
    {
     "name": "stdout",
     "output_type": "stream",
     "text": [
      "                                                                                         \r"
     ]
    },
    {
     "data": {
      "text/html": [
       "Data preparation started ..."
      ],
      "text/plain": [
       "<IPython.core.display.HTML object>"
      ]
     },
     "metadata": {},
     "output_type": "display_data"
    },
    {
     "name": "stdout",
     "output_type": "stream",
     "text": [
      "                                                                                         \r"
     ]
    },
    {
     "data": {
      "text/html": [
       "\n",
       "Outlier preprocessing ..."
      ],
      "text/plain": [
       "<IPython.core.display.HTML object>"
      ]
     },
     "metadata": {},
     "output_type": "display_data"
    },
    {
     "name": "stdout",
     "output_type": "stream",
     "text": [
      "                                                                                                                                                                                                                                                                                                                                                                                                                                                                                                                    \n",
      "No outlier found!\n",
      "                                                                                         \r"
     ]
    },
    {
     "data": {
      "text/html": [
       "Analysis indicates not outlier in the dataset. No Action Taken."
      ],
      "text/plain": [
       "<IPython.core.display.HTML object>"
      ]
     },
     "metadata": {},
     "output_type": "display_data"
    },
    {
     "name": "stdout",
     "output_type": "stream",
     "text": [
      "                                                                                         \r"
     ]
    },
    {
     "data": {
      "text/html": [
       "Time Taken by Outlier processing: 17.44 sec "
      ],
      "text/plain": [
       "<IPython.core.display.HTML object>"
      ]
     },
     "metadata": {},
     "output_type": "display_data"
    },
    {
     "name": "stdout",
     "output_type": "stream",
     "text": [
      "                                                                                         \r"
     ]
    },
    {
     "data": {
      "text/html": [
       "\n",
       "Checking imbalance data ..."
      ],
      "text/plain": [
       "<IPython.core.display.HTML object>"
      ]
     },
     "metadata": {},
     "output_type": "display_data"
    },
    {
     "name": "stdout",
     "output_type": "stream",
     "text": [
      "                                                                                         \r"
     ]
    },
    {
     "data": {
      "text/html": [
       "Imbalance Found."
      ],
      "text/plain": [
       "<IPython.core.display.HTML object>"
      ]
     },
     "metadata": {},
     "output_type": "display_data"
    },
    {
     "name": "stdout",
     "output_type": "stream",
     "text": [
      "                                                                                         \r"
     ]
    },
    {
     "data": {
      "text/html": [
       "\n",
       "Starting data imbalance handling ..."
      ],
      "text/plain": [
       "<IPython.core.display.HTML object>"
      ]
     },
     "metadata": {},
     "output_type": "display_data"
    },
    {
     "name": "stdout",
     "output_type": "stream",
     "text": [
      "                                                                                         \r"
     ]
    },
    {
     "data": {
      "text/html": [
       "\n",
       "Balancing the data using SMOTE..."
      ],
      "text/plain": [
       "<IPython.core.display.HTML object>"
      ]
     },
     "metadata": {},
     "output_type": "display_data"
    },
    {
     "name": "stdout",
     "output_type": "stream",
     "text": [
      "                                                                                         \r"
     ]
    },
    {
     "data": {
      "text/html": [
       "Handled imbalanced dataset using SMOTE: 0.02 sec"
      ],
      "text/plain": [
       "<IPython.core.display.HTML object>"
      ]
     },
     "metadata": {},
     "output_type": "display_data"
    },
    {
     "name": "stdout",
     "output_type": "stream",
     "text": [
      "                                                                                         \r"
     ]
    },
    {
     "data": {
      "text/html": [
       "Completed data imbalance handling."
      ],
      "text/plain": [
       "<IPython.core.display.HTML object>"
      ]
     },
     "metadata": {},
     "output_type": "display_data"
    },
    {
     "name": "stdout",
     "output_type": "stream",
     "text": [
      "                                                                                         \r"
     ]
    },
    {
     "data": {
      "text/html": [
       "\n",
       "Feature selection using lasso ..."
      ],
      "text/plain": [
       "<IPython.core.display.HTML object>"
      ]
     },
     "metadata": {},
     "output_type": "display_data"
    },
    {
     "name": "stdout",
     "output_type": "stream",
     "text": [
      "                                                                                         \r"
     ]
    },
    {
     "data": {
      "text/html": [
       "feature selected by lasso:"
      ],
      "text/plain": [
       "<IPython.core.display.HTML object>"
      ]
     },
     "metadata": {},
     "output_type": "display_data"
    },
    {
     "name": "stdout",
     "output_type": "stream",
     "text": [
      "['gender_1', 'height', 'weight']\n",
      "                                                                                         \r"
     ]
    },
    {
     "data": {
      "text/html": [
       "Total time taken by feature selection: 4.79 sec  "
      ],
      "text/plain": [
       "<IPython.core.display.HTML object>"
      ]
     },
     "metadata": {},
     "output_type": "display_data"
    },
    {
     "name": "stdout",
     "output_type": "stream",
     "text": [
      "                                                                                         \r"
     ]
    },
    {
     "data": {
      "text/html": [
       "\n",
       "scaling Features of lasso data ..."
      ],
      "text/plain": [
       "<IPython.core.display.HTML object>"
      ]
     },
     "metadata": {},
     "output_type": "display_data"
    },
    {
     "name": "stdout",
     "output_type": "stream",
     "text": [
      "                                                                                         \r"
     ]
    },
    {
     "data": {
      "text/html": [
       "columns that will be scaled: "
      ],
      "text/plain": [
       "<IPython.core.display.HTML object>"
      ]
     },
     "metadata": {},
     "output_type": "display_data"
    },
    {
     "name": "stdout",
     "output_type": "stream",
     "text": [
      "['height', 'weight']\n",
      "                                                                                         \r"
     ]
    },
    {
     "data": {
      "text/html": [
       "Dataset sample after scaling:"
      ],
      "text/plain": [
       "<IPython.core.display.HTML object>"
      ]
     },
     "metadata": {},
     "output_type": "display_data"
    },
    {
     "data": {
      "text/html": [
       "<style type=\"text/css\">\n",
       "\ttable {border:ridge 5px;}\n",
       "\ttable td {border:inset 1px;}\n",
       "\ttable tr#HeaderRow {background-color:grey; color:white;}</style>\n",
       "<html><table>\n",
       "\t<tr id=\"HeaderRow\">\n",
       "\t\t<th>id</th>\n",
       "\t\t<th>bmi</th>\n",
       "\t\t<th>gender_1</th>\n",
       "\t\t<th>height</th>\n",
       "\t\t<th>weight</th>\n",
       "\t</tr>\n",
       "\t<tr>\n",
       "\t\t<td>2</td>\n",
       "\t\t<td>4</td>\n",
       "\t\t<td>0</td>\n",
       "\t\t<td>0.3389830508474576</td>\n",
       "\t\t<td>0.3</td>\n",
       "\t</tr>\n",
       "\t<tr>\n",
       "\t\t<td>4</td>\n",
       "\t\t<td>5</td>\n",
       "\t\t<td>0</td>\n",
       "\t\t<td>0.4406779661016949</td>\n",
       "\t\t<td>0.9363636363636364</td>\n",
       "\t</tr>\n",
       "\t<tr>\n",
       "\t\t<td>5</td>\n",
       "\t\t<td>2</td>\n",
       "\t\t<td>1</td>\n",
       "\t\t<td>0.2542372881355932</td>\n",
       "\t\t<td>0.06363636363636363</td>\n",
       "\t</tr>\n",
       "\t<tr>\n",
       "\t\t<td>6</td>\n",
       "\t\t<td>3</td>\n",
       "\t\t<td>0</td>\n",
       "\t\t<td>0.6949152542372882</td>\n",
       "\t\t<td>0.4</td>\n",
       "\t</tr>\n",
       "\t<tr>\n",
       "\t\t<td>8</td>\n",
       "\t\t<td>3</td>\n",
       "\t\t<td>0</td>\n",
       "\t\t<td>0.7966101694915254</td>\n",
       "\t\t<td>0.4727272727272727</td>\n",
       "\t</tr>\n",
       "\t<tr>\n",
       "\t\t<td>9</td>\n",
       "\t\t<td>4</td>\n",
       "\t\t<td>1</td>\n",
       "\t\t<td>0.7966101694915254</td>\n",
       "\t\t<td>0.6545454545454545</td>\n",
       "\t</tr>\n",
       "\t<tr>\n",
       "\t\t<td>7</td>\n",
       "\t\t<td>5</td>\n",
       "\t\t<td>1</td>\n",
       "\t\t<td>0.03389830508474576</td>\n",
       "\t\t<td>0.7727272727272727</td>\n",
       "\t</tr>\n",
       "\t<tr>\n",
       "\t\t<td>3</td>\n",
       "\t\t<td>5</td>\n",
       "\t\t<td>1</td>\n",
       "\t\t<td>0.4745762711864407</td>\n",
       "\t\t<td>0.9818181818181818</td>\n",
       "\t</tr>\n",
       "\t<tr>\n",
       "\t\t<td>1</td>\n",
       "\t\t<td>5</td>\n",
       "\t\t<td>1</td>\n",
       "\t\t<td>0.559322033898305</td>\n",
       "\t\t<td>0.8090909090909091</td>\n",
       "\t</tr>\n",
       "\t<tr>\n",
       "\t\t<td>0</td>\n",
       "\t\t<td>5</td>\n",
       "\t\t<td>0</td>\n",
       "\t\t<td>0.11864406779661017</td>\n",
       "\t\t<td>0.4</td>\n",
       "\t</tr>\n",
       "</table></html>"
      ],
      "text/plain": [
       "   id  bmi  gender_1    height    weight\n",
       "0   2    4         0  0.338983  0.300000\n",
       "1   4    5         0  0.440678  0.936364\n",
       "2   5    2         1  0.254237  0.063636\n",
       "3   6    3         0  0.694915  0.400000\n",
       "4   8    3         0  0.796610  0.472727\n",
       "5   9    4         1  0.796610  0.654545\n",
       "6   7    5         1  0.033898  0.772727\n",
       "7   3    5         1  0.474576  0.981818\n",
       "8   1    5         1  0.559322  0.809091\n",
       "9   0    5         0  0.118644  0.400000"
      ]
     },
     "metadata": {},
     "output_type": "display_data"
    },
    {
     "name": "stdout",
     "output_type": "stream",
     "text": [
      "                                                                                         \r"
     ]
    },
    {
     "data": {
      "text/html": [
       "628 rows X 5 columns"
      ],
      "text/plain": [
       "<IPython.core.display.HTML object>"
      ]
     },
     "metadata": {},
     "output_type": "display_data"
    },
    {
     "name": "stdout",
     "output_type": "stream",
     "text": [
      "                                                                                         \r"
     ]
    },
    {
     "data": {
      "text/html": [
       "Total time taken by feature scaling: 22.36 sec"
      ],
      "text/plain": [
       "<IPython.core.display.HTML object>"
      ]
     },
     "metadata": {},
     "output_type": "display_data"
    },
    {
     "name": "stdout",
     "output_type": "stream",
     "text": [
      "                                                                                          \r"
     ]
    },
    {
     "data": {
      "text/html": [
       "\n",
       "Feature selection using rfe ..."
      ],
      "text/plain": [
       "<IPython.core.display.HTML object>"
      ]
     },
     "metadata": {},
     "output_type": "display_data"
    },
    {
     "name": "stdout",
     "output_type": "stream",
     "text": [
      "                                                                                          \r"
     ]
    },
    {
     "data": {
      "text/html": [
       "feature selected by RFE:"
      ],
      "text/plain": [
       "<IPython.core.display.HTML object>"
      ]
     },
     "metadata": {},
     "output_type": "display_data"
    },
    {
     "name": "stdout",
     "output_type": "stream",
     "text": [
      "['height', 'weight']\n",
      "                                                                                          \r"
     ]
    },
    {
     "data": {
      "text/html": [
       "Total time taken by feature selection: 7.96 sec  "
      ],
      "text/plain": [
       "<IPython.core.display.HTML object>"
      ]
     },
     "metadata": {},
     "output_type": "display_data"
    },
    {
     "name": "stdout",
     "output_type": "stream",
     "text": [
      "                                                                                          \r"
     ]
    },
    {
     "data": {
      "text/html": [
       "\n",
       "scaling Features of rfe data ..."
      ],
      "text/plain": [
       "<IPython.core.display.HTML object>"
      ]
     },
     "metadata": {},
     "output_type": "display_data"
    },
    {
     "name": "stdout",
     "output_type": "stream",
     "text": [
      "                                                                                          \r"
     ]
    },
    {
     "data": {
      "text/html": [
       "columns that will be scaled: "
      ],
      "text/plain": [
       "<IPython.core.display.HTML object>"
      ]
     },
     "metadata": {},
     "output_type": "display_data"
    },
    {
     "name": "stdout",
     "output_type": "stream",
     "text": [
      "['r_height', 'r_weight']\n",
      "                                                                                          \r"
     ]
    },
    {
     "data": {
      "text/html": [
       "Dataset sample after scaling:"
      ],
      "text/plain": [
       "<IPython.core.display.HTML object>"
      ]
     },
     "metadata": {},
     "output_type": "display_data"
    },
    {
     "data": {
      "text/html": [
       "<style type=\"text/css\">\n",
       "\ttable {border:ridge 5px;}\n",
       "\ttable td {border:inset 1px;}\n",
       "\ttable tr#HeaderRow {background-color:grey; color:white;}</style>\n",
       "<html><table>\n",
       "\t<tr id=\"HeaderRow\">\n",
       "\t\t<th>id</th>\n",
       "\t\t<th>bmi</th>\n",
       "\t\t<th>r_height</th>\n",
       "\t\t<th>r_weight</th>\n",
       "\t</tr>\n",
       "\t<tr>\n",
       "\t\t<td>2</td>\n",
       "\t\t<td>4</td>\n",
       "\t\t<td>0.3389830508474576</td>\n",
       "\t\t<td>0.3</td>\n",
       "\t</tr>\n",
       "\t<tr>\n",
       "\t\t<td>4</td>\n",
       "\t\t<td>5</td>\n",
       "\t\t<td>0.4406779661016949</td>\n",
       "\t\t<td>0.9363636363636364</td>\n",
       "\t</tr>\n",
       "\t<tr>\n",
       "\t\t<td>5</td>\n",
       "\t\t<td>2</td>\n",
       "\t\t<td>0.2542372881355932</td>\n",
       "\t\t<td>0.06363636363636363</td>\n",
       "\t</tr>\n",
       "\t<tr>\n",
       "\t\t<td>6</td>\n",
       "\t\t<td>3</td>\n",
       "\t\t<td>0.6949152542372882</td>\n",
       "\t\t<td>0.4</td>\n",
       "\t</tr>\n",
       "\t<tr>\n",
       "\t\t<td>8</td>\n",
       "\t\t<td>3</td>\n",
       "\t\t<td>0.7966101694915254</td>\n",
       "\t\t<td>0.4727272727272727</td>\n",
       "\t</tr>\n",
       "\t<tr>\n",
       "\t\t<td>9</td>\n",
       "\t\t<td>4</td>\n",
       "\t\t<td>0.7966101694915254</td>\n",
       "\t\t<td>0.6545454545454545</td>\n",
       "\t</tr>\n",
       "\t<tr>\n",
       "\t\t<td>7</td>\n",
       "\t\t<td>5</td>\n",
       "\t\t<td>0.03389830508474576</td>\n",
       "\t\t<td>0.7727272727272727</td>\n",
       "\t</tr>\n",
       "\t<tr>\n",
       "\t\t<td>3</td>\n",
       "\t\t<td>5</td>\n",
       "\t\t<td>0.4745762711864407</td>\n",
       "\t\t<td>0.9818181818181818</td>\n",
       "\t</tr>\n",
       "\t<tr>\n",
       "\t\t<td>1</td>\n",
       "\t\t<td>5</td>\n",
       "\t\t<td>0.559322033898305</td>\n",
       "\t\t<td>0.8090909090909091</td>\n",
       "\t</tr>\n",
       "\t<tr>\n",
       "\t\t<td>0</td>\n",
       "\t\t<td>5</td>\n",
       "\t\t<td>0.11864406779661017</td>\n",
       "\t\t<td>0.4</td>\n",
       "\t</tr>\n",
       "</table></html>"
      ],
      "text/plain": [
       "   id  bmi  r_height  r_weight\n",
       "0   2    4  0.338983  0.300000\n",
       "1   4    5  0.440678  0.936364\n",
       "2   5    2  0.254237  0.063636\n",
       "3   6    3  0.694915  0.400000\n",
       "4   8    3  0.796610  0.472727\n",
       "5   9    4  0.796610  0.654545\n",
       "6   7    5  0.033898  0.772727\n",
       "7   3    5  0.474576  0.981818\n",
       "8   1    5  0.559322  0.809091\n",
       "9   0    5  0.118644  0.400000"
      ]
     },
     "metadata": {},
     "output_type": "display_data"
    },
    {
     "name": "stdout",
     "output_type": "stream",
     "text": [
      "                                                                                          \r"
     ]
    },
    {
     "data": {
      "text/html": [
       "628 rows X 4 columns"
      ],
      "text/plain": [
       "<IPython.core.display.HTML object>"
      ]
     },
     "metadata": {},
     "output_type": "display_data"
    },
    {
     "name": "stdout",
     "output_type": "stream",
     "text": [
      "                                                                                          \r"
     ]
    },
    {
     "data": {
      "text/html": [
       "Total time taken by feature scaling: 21.52 sec"
      ],
      "text/plain": [
       "<IPython.core.display.HTML object>"
      ]
     },
     "metadata": {},
     "output_type": "display_data"
    },
    {
     "name": "stdout",
     "output_type": "stream",
     "text": [
      "                                                                                          \r"
     ]
    },
    {
     "data": {
      "text/html": [
       "\n",
       "scaling Features of pca data ..."
      ],
      "text/plain": [
       "<IPython.core.display.HTML object>"
      ]
     },
     "metadata": {},
     "output_type": "display_data"
    },
    {
     "name": "stdout",
     "output_type": "stream",
     "text": [
      "                                                                                          \r"
     ]
    },
    {
     "data": {
      "text/html": [
       "columns that will be scaled: "
      ],
      "text/plain": [
       "<IPython.core.display.HTML object>"
      ]
     },
     "metadata": {},
     "output_type": "display_data"
    },
    {
     "name": "stdout",
     "output_type": "stream",
     "text": [
      "['height', 'weight']\n",
      "                                                                                          \r"
     ]
    },
    {
     "data": {
      "text/html": [
       "Dataset sample after scaling:"
      ],
      "text/plain": [
       "<IPython.core.display.HTML object>"
      ]
     },
     "metadata": {},
     "output_type": "display_data"
    },
    {
     "data": {
      "text/html": [
       "<style type=\"text/css\">\n",
       "\ttable {border:ridge 5px;}\n",
       "\ttable td {border:inset 1px;}\n",
       "\ttable tr#HeaderRow {background-color:grey; color:white;}</style>\n",
       "<html><table>\n",
       "\t<tr id=\"HeaderRow\">\n",
       "\t\t<th>id</th>\n",
       "\t\t<th>bmi</th>\n",
       "\t\t<th>gender_0</th>\n",
       "\t\t<th>gender_1</th>\n",
       "\t\t<th>height</th>\n",
       "\t\t<th>weight</th>\n",
       "\t</tr>\n",
       "\t<tr>\n",
       "\t\t<td>55</td>\n",
       "\t\t<td>5</td>\n",
       "\t\t<td>1</td>\n",
       "\t\t<td>0</td>\n",
       "\t\t<td>0.4406779661016949</td>\n",
       "\t\t<td>0.9363636363636364</td>\n",
       "\t</tr>\n",
       "\t<tr>\n",
       "\t\t<td>79</td>\n",
       "\t\t<td>3</td>\n",
       "\t\t<td>1</td>\n",
       "\t\t<td>0</td>\n",
       "\t\t<td>0.7966101694915254</td>\n",
       "\t\t<td>0.4727272727272727</td>\n",
       "\t</tr>\n",
       "\t<tr>\n",
       "\t\t<td>87</td>\n",
       "\t\t<td>4</td>\n",
       "\t\t<td>1</td>\n",
       "\t\t<td>0</td>\n",
       "\t\t<td>0.8135593220338984</td>\n",
       "\t\t<td>0.6545454545454545</td>\n",
       "\t</tr>\n",
       "\t<tr>\n",
       "\t\t<td>95</td>\n",
       "\t\t<td>5</td>\n",
       "\t\t<td>1</td>\n",
       "\t\t<td>0</td>\n",
       "\t\t<td>0.4067796610169492</td>\n",
       "\t\t<td>0.8363636363636363</td>\n",
       "\t</tr>\n",
       "\t<tr>\n",
       "\t\t<td>111</td>\n",
       "\t\t<td>5</td>\n",
       "\t\t<td>1</td>\n",
       "\t\t<td>0</td>\n",
       "\t\t<td>0.05084745762711865</td>\n",
       "\t\t<td>0.6181818181818182</td>\n",
       "\t</tr>\n",
       "\t<tr>\n",
       "\t\t<td>119</td>\n",
       "\t\t<td>4</td>\n",
       "\t\t<td>1</td>\n",
       "\t\t<td>0</td>\n",
       "\t\t<td>0.1694915254237288</td>\n",
       "\t\t<td>0.3090909090909091</td>\n",
       "\t</tr>\n",
       "\t<tr>\n",
       "\t\t<td>28</td>\n",
       "\t\t<td>5</td>\n",
       "\t\t<td>0</td>\n",
       "\t\t<td>1</td>\n",
       "\t\t<td>0.559322033898305</td>\n",
       "\t\t<td>0.8090909090909091</td>\n",
       "\t</tr>\n",
       "\t<tr>\n",
       "\t\t<td>44</td>\n",
       "\t\t<td>5</td>\n",
       "\t\t<td>0</td>\n",
       "\t\t<td>1</td>\n",
       "\t\t<td>0.4745762711864407</td>\n",
       "\t\t<td>0.9818181818181818</td>\n",
       "\t</tr>\n",
       "\t<tr>\n",
       "\t\t<td>52</td>\n",
       "\t\t<td>2</td>\n",
       "\t\t<td>0</td>\n",
       "\t\t<td>1</td>\n",
       "\t\t<td>0.2542372881355932</td>\n",
       "\t\t<td>0.06363636363636363</td>\n",
       "\t</tr>\n",
       "\t<tr>\n",
       "\t\t<td>60</td>\n",
       "\t\t<td>5</td>\n",
       "\t\t<td>0</td>\n",
       "\t\t<td>1</td>\n",
       "\t\t<td>0.03389830508474576</td>\n",
       "\t\t<td>0.7727272727272727</td>\n",
       "\t</tr>\n",
       "</table></html>"
      ],
      "text/plain": [
       "    id  bmi  gender_0  gender_1    height    weight\n",
       "0   55    5         1         0  0.440678  0.936364\n",
       "1   79    3         1         0  0.796610  0.472727\n",
       "2   87    4         1         0  0.813559  0.654545\n",
       "3   95    5         1         0  0.406780  0.836364\n",
       "4  111    5         1         0  0.050847  0.618182\n",
       "5  119    4         1         0  0.169492  0.309091\n",
       "6   28    5         0         1  0.559322  0.809091\n",
       "7   44    5         0         1  0.474576  0.981818\n",
       "8   52    2         0         1  0.254237  0.063636\n",
       "9   60    5         0         1  0.033898  0.772727"
      ]
     },
     "metadata": {},
     "output_type": "display_data"
    },
    {
     "name": "stdout",
     "output_type": "stream",
     "text": [
      "                                                                                          \r"
     ]
    },
    {
     "data": {
      "text/html": [
       "367 rows X 6 columns"
      ],
      "text/plain": [
       "<IPython.core.display.HTML object>"
      ]
     },
     "metadata": {},
     "output_type": "display_data"
    },
    {
     "name": "stdout",
     "output_type": "stream",
     "text": [
      "                                                                                          \r"
     ]
    },
    {
     "data": {
      "text/html": [
       "Total time taken by feature scaling: 19.71 sec"
      ],
      "text/plain": [
       "<IPython.core.display.HTML object>"
      ]
     },
     "metadata": {},
     "output_type": "display_data"
    },
    {
     "name": "stdout",
     "output_type": "stream",
     "text": [
      "                                                                                          \r"
     ]
    },
    {
     "data": {
      "text/html": [
       "\n",
       "Dimension Reduction using pca ..."
      ],
      "text/plain": [
       "<IPython.core.display.HTML object>"
      ]
     },
     "metadata": {},
     "output_type": "display_data"
    },
    {
     "name": "stdout",
     "output_type": "stream",
     "text": [
      "                                                                                          \r"
     ]
    },
    {
     "data": {
      "text/html": [
       "PCA columns:"
      ],
      "text/plain": [
       "<IPython.core.display.HTML object>"
      ]
     },
     "metadata": {},
     "output_type": "display_data"
    },
    {
     "name": "stdout",
     "output_type": "stream",
     "text": [
      "['col_0', 'col_1', 'col_2']\n",
      "                                                                                          \r"
     ]
    },
    {
     "data": {
      "text/html": [
       "Total time taken by PCA: 4.99 sec  "
      ],
      "text/plain": [
       "<IPython.core.display.HTML object>"
      ]
     },
     "metadata": {},
     "output_type": "display_data"
    },
    {
     "name": "stdout",
     "output_type": "stream",
     "text": [
      "                                                                                          \r"
     ]
    },
    {
     "data": {
      "text/html": [
       "\n",
       "            <style>\n",
       "                .custom-div {\n",
       "                    background-color: lightgray;\n",
       "                    color: #000000;\n",
       "                    padding: 10px;\n",
       "                    border-radius: 8px;\n",
       "                    box-shadow: 0 3px 4px rgba(0 -  0 -  0 -  0.2);\n",
       "                    margin-bottom: 10px;\n",
       "                    text-align: center;\n",
       "                }\n",
       "            </style>\n",
       "        <br><div class=\"custom-div\"><h3><span style=\"color: green;\">1. Feature Exploration -> 2. Feature Engineering -> 3. Data Preparation -></span> 4. Model Training & Evaluation<center></h3></center></div>"
      ],
      "text/plain": [
       "<IPython.core.display.HTML object>"
      ]
     },
     "metadata": {},
     "output_type": "display_data"
    },
    {
     "name": "stdout",
     "output_type": "stream",
     "text": [
      "                                                                                          \r"
     ]
    },
    {
     "data": {
      "text/html": [
       "Model Training started ..."
      ],
      "text/plain": [
       "<IPython.core.display.HTML object>"
      ]
     },
     "metadata": {},
     "output_type": "display_data"
    },
    {
     "name": "stdout",
     "output_type": "stream",
     "text": [
      "                                                                                          \r"
     ]
    },
    {
     "data": {
      "text/html": [
       "\n",
       "Hyperparameters used for model training: "
      ],
      "text/plain": [
       "<IPython.core.display.HTML object>"
      ]
     },
     "metadata": {},
     "output_type": "display_data"
    },
    {
     "name": "stdout",
     "output_type": "stream",
     "text": [
      "response_column : bmi                                                                                                                                 \n",
      "name : xgboost\n",
      "model_type : Classification\n",
      "column_sampling : (1, 0.6)\n",
      "min_impurity : (0.0, 0.1)\n",
      "lambda1 : (0.01, 0.1, 1, 10)\n",
      "shrinkage_factor : (0.5, 0.1, 0.2)\n",
      "max_depth : (5, 6, 7, 8)\n",
      "min_node_size : (1, 2)\n",
      "iter_num : (10, 20)\n",
      "seed : 42\n",
      "Total number of models for xgboost : 768\n",
      "--------------------------------------------------------------------------------------------------------------------------------------------------------------------------------------------------------\n",
      "\n",
      "                                                                                          \r"
     ]
    },
    {
     "data": {
      "text/html": [
       "\n",
       "Performing hyperparameter tuning ..."
      ],
      "text/plain": [
       "<IPython.core.display.HTML object>"
      ]
     },
     "metadata": {},
     "output_type": "display_data"
    },
    {
     "name": "stdout",
     "output_type": "stream",
     "text": [
      "                                                                                          \r"
     ]
    },
    {
     "data": {
      "text/html": [
       "xgboost"
      ],
      "text/plain": [
       "<IPython.core.display.HTML object>"
      ]
     },
     "metadata": {},
     "output_type": "display_data"
    },
    {
     "name": "stdout",
     "output_type": "stream",
     "text": [
      "                                                                                                                                                                                                        \r"
     ]
    },
    {
     "data": {
      "text/html": [
       "----------------------------------------------------------------------------------------------------"
      ],
      "text/plain": [
       "<IPython.core.display.HTML object>"
      ]
     },
     "metadata": {},
     "output_type": "display_data"
    },
    {
     "name": "stdout",
     "output_type": "stream",
     "text": [
      "                                                                                          \r"
     ]
    },
    {
     "data": {
      "text/html": [
       "Leaderboard"
      ],
      "text/plain": [
       "<IPython.core.display.HTML object>"
      ]
     },
     "metadata": {},
     "output_type": "display_data"
    },
    {
     "data": {
      "text/html": [
       "<div>\n",
       "<style scoped>\n",
       "    .dataframe tbody tr th:only-of-type {\n",
       "        vertical-align: middle;\n",
       "    }\n",
       "\n",
       "    .dataframe tbody tr th {\n",
       "        vertical-align: top;\n",
       "    }\n",
       "\n",
       "    .dataframe thead th {\n",
       "        text-align: right;\n",
       "    }\n",
       "</style>\n",
       "<table border=\"1\" class=\"dataframe\">\n",
       "  <thead>\n",
       "    <tr style=\"text-align: right;\">\n",
       "      <th></th>\n",
       "      <th>RANK</th>\n",
       "      <th>MODEL_ID</th>\n",
       "      <th>FEATURE_SELECTION</th>\n",
       "      <th>ACCURACY</th>\n",
       "      <th>MICRO-PRECISION</th>\n",
       "      <th>MICRO-RECALL</th>\n",
       "      <th>MICRO-F1</th>\n",
       "      <th>MACRO-PRECISION</th>\n",
       "      <th>MACRO-RECALL</th>\n",
       "      <th>MACRO-F1</th>\n",
       "      <th>WEIGHTED-PRECISION</th>\n",
       "      <th>WEIGHTED-RECALL</th>\n",
       "      <th>WEIGHTED-F1</th>\n",
       "    </tr>\n",
       "  </thead>\n",
       "  <tbody>\n",
       "    <tr>\n",
       "      <th>0</th>\n",
       "      <td>1</td>\n",
       "      <td>XGBOOST_1</td>\n",
       "      <td>lasso</td>\n",
       "      <td>0.888889</td>\n",
       "      <td>0.888889</td>\n",
       "      <td>0.888889</td>\n",
       "      <td>0.888889</td>\n",
       "      <td>0.893743</td>\n",
       "      <td>0.890104</td>\n",
       "      <td>0.887555</td>\n",
       "      <td>0.894391</td>\n",
       "      <td>0.888889</td>\n",
       "      <td>0.887258</td>\n",
       "    </tr>\n",
       "    <tr>\n",
       "      <th>1</th>\n",
       "      <td>2</td>\n",
       "      <td>XGBOOST_5</td>\n",
       "      <td>pca</td>\n",
       "      <td>0.851351</td>\n",
       "      <td>0.851351</td>\n",
       "      <td>0.851351</td>\n",
       "      <td>0.851351</td>\n",
       "      <td>0.854743</td>\n",
       "      <td>0.805479</td>\n",
       "      <td>0.823015</td>\n",
       "      <td>0.858455</td>\n",
       "      <td>0.851351</td>\n",
       "      <td>0.850751</td>\n",
       "    </tr>\n",
       "    <tr>\n",
       "      <th>2</th>\n",
       "      <td>3</td>\n",
       "      <td>XGBOOST_4</td>\n",
       "      <td>pca</td>\n",
       "      <td>0.432432</td>\n",
       "      <td>0.432432</td>\n",
       "      <td>0.432432</td>\n",
       "      <td>0.432432</td>\n",
       "      <td>0.214548</td>\n",
       "      <td>0.278646</td>\n",
       "      <td>0.234151</td>\n",
       "      <td>0.309902</td>\n",
       "      <td>0.432432</td>\n",
       "      <td>0.350252</td>\n",
       "    </tr>\n",
       "    <tr>\n",
       "      <th>3</th>\n",
       "      <td>4</td>\n",
       "      <td>XGBOOST_2</td>\n",
       "      <td>rfe</td>\n",
       "      <td>0.396825</td>\n",
       "      <td>0.396825</td>\n",
       "      <td>0.396825</td>\n",
       "      <td>0.396825</td>\n",
       "      <td>0.398428</td>\n",
       "      <td>0.397396</td>\n",
       "      <td>0.394433</td>\n",
       "      <td>0.399594</td>\n",
       "      <td>0.396825</td>\n",
       "      <td>0.394798</td>\n",
       "    </tr>\n",
       "    <tr>\n",
       "      <th>4</th>\n",
       "      <td>5</td>\n",
       "      <td>XGBOOST_3</td>\n",
       "      <td>rfe</td>\n",
       "      <td>0.396825</td>\n",
       "      <td>0.396825</td>\n",
       "      <td>0.396825</td>\n",
       "      <td>0.396825</td>\n",
       "      <td>0.398428</td>\n",
       "      <td>0.397396</td>\n",
       "      <td>0.394433</td>\n",
       "      <td>0.399594</td>\n",
       "      <td>0.396825</td>\n",
       "      <td>0.394798</td>\n",
       "    </tr>\n",
       "    <tr>\n",
       "      <th>5</th>\n",
       "      <td>6</td>\n",
       "      <td>XGBOOST_0</td>\n",
       "      <td>lasso</td>\n",
       "      <td>0.285714</td>\n",
       "      <td>0.285714</td>\n",
       "      <td>0.285714</td>\n",
       "      <td>0.285714</td>\n",
       "      <td>0.145889</td>\n",
       "      <td>0.293750</td>\n",
       "      <td>0.187071</td>\n",
       "      <td>0.143826</td>\n",
       "      <td>0.285714</td>\n",
       "      <td>0.183529</td>\n",
       "    </tr>\n",
       "  </tbody>\n",
       "</table>\n",
       "</div>"
      ],
      "text/plain": [
       "   RANK   MODEL_ID FEATURE_SELECTION  ACCURACY  MICRO-PRECISION  MICRO-RECALL  \\\n",
       "0     1  XGBOOST_1             lasso  0.888889         0.888889      0.888889   \n",
       "1     2  XGBOOST_5               pca  0.851351         0.851351      0.851351   \n",
       "2     3  XGBOOST_4               pca  0.432432         0.432432      0.432432   \n",
       "3     4  XGBOOST_2               rfe  0.396825         0.396825      0.396825   \n",
       "4     5  XGBOOST_3               rfe  0.396825         0.396825      0.396825   \n",
       "5     6  XGBOOST_0             lasso  0.285714         0.285714      0.285714   \n",
       "\n",
       "   MICRO-F1  MACRO-PRECISION  MACRO-RECALL  MACRO-F1  WEIGHTED-PRECISION  \\\n",
       "0  0.888889         0.893743      0.890104  0.887555            0.894391   \n",
       "1  0.851351         0.854743      0.805479  0.823015            0.858455   \n",
       "2  0.432432         0.214548      0.278646  0.234151            0.309902   \n",
       "3  0.396825         0.398428      0.397396  0.394433            0.399594   \n",
       "4  0.396825         0.398428      0.397396  0.394433            0.399594   \n",
       "5  0.285714         0.145889      0.293750  0.187071            0.143826   \n",
       "\n",
       "   WEIGHTED-RECALL  WEIGHTED-F1  \n",
       "0         0.888889     0.887258  \n",
       "1         0.851351     0.850751  \n",
       "2         0.432432     0.350252  \n",
       "3         0.396825     0.394798  \n",
       "4         0.396825     0.394798  \n",
       "5         0.285714     0.183529  "
      ]
     },
     "metadata": {},
     "output_type": "display_data"
    },
    {
     "name": "stdout",
     "output_type": "stream",
     "text": [
      "                                                                                          \r"
     ]
    },
    {
     "data": {
      "text/html": [
       "6 rows X 13 columns"
      ],
      "text/plain": [
       "<IPython.core.display.HTML object>"
      ]
     },
     "metadata": {},
     "output_type": "display_data"
    },
    {
     "name": "stdout",
     "output_type": "stream",
     "text": [
      "                                                                                          \r"
     ]
    },
    {
     "data": {
      "text/html": [
       "\n",
       "            <style>\n",
       "                .custom-div {\n",
       "                    background-color: lightgray;\n",
       "                    color: #000000;\n",
       "                    padding: 10px;\n",
       "                    border-radius: 8px;\n",
       "                    box-shadow: 0 3px 4px rgba(0 -  0 -  0 -  0.2);\n",
       "                    margin-bottom: 10px;\n",
       "                    text-align: center;\n",
       "                }\n",
       "            </style>\n",
       "        <br><div class=\"custom-div\"><h3><span style=\"color: green;\">1. Feature Exploration -> 2. Feature Engineering -> 3. Data Preparation -> 4. Model Training & Evaluation</span><center></h3></center></div>"
      ],
      "text/plain": [
       "<IPython.core.display.HTML object>"
      ]
     },
     "metadata": {},
     "output_type": "display_data"
    },
    {
     "name": "stdout",
     "output_type": "stream",
     "text": [
      "Completed: ｜⫿⫿⫿⫿⫿⫿⫿⫿⫿⫿⫿⫿⫿⫿⫿⫿⫿⫿⫿⫿⫿⫿⫿⫿⫿⫿⫿⫿⫿⫿⫿⫿⫿⫿⫿⫿⫿⫿⫿⫿⫿⫿⫿⫿⫿⫿⫿⫿⫿⫿⫿⫿⫿⫿⫿⫿⫿⫿⫿⫿｜ 100% - 14/14    \r"
     ]
    }
   ],
   "source": [
    "# Fitting train data\n",
    "aml.fit(bmi_df_train, bmi_df_train.bmi)"
   ]
  },
  {
   "cell_type": "markdown",
   "id": "23a04eb1-68e6-48b7-95aa-442f434809da",
   "metadata": {},
   "source": [
    "## <b><span style='color:#F1A424'>| 3.</span> Leaderboard : </b>"
   ]
  },
  {
   "cell_type": "code",
   "execution_count": 25,
   "id": "77de1099-6122-4f8a-8e7f-dd67e5b4ced4",
   "metadata": {},
   "outputs": [
    {
     "data": {
      "text/html": [
       "<div>\n",
       "<style scoped>\n",
       "    .dataframe tbody tr th:only-of-type {\n",
       "        vertical-align: middle;\n",
       "    }\n",
       "\n",
       "    .dataframe tbody tr th {\n",
       "        vertical-align: top;\n",
       "    }\n",
       "\n",
       "    .dataframe thead th {\n",
       "        text-align: right;\n",
       "    }\n",
       "</style>\n",
       "<table border=\"1\" class=\"dataframe\">\n",
       "  <thead>\n",
       "    <tr style=\"text-align: right;\">\n",
       "      <th></th>\n",
       "      <th>RANK</th>\n",
       "      <th>MODEL_ID</th>\n",
       "      <th>FEATURE_SELECTION</th>\n",
       "      <th>ACCURACY</th>\n",
       "      <th>MICRO-PRECISION</th>\n",
       "      <th>MICRO-RECALL</th>\n",
       "      <th>MICRO-F1</th>\n",
       "      <th>MACRO-PRECISION</th>\n",
       "      <th>MACRO-RECALL</th>\n",
       "      <th>MACRO-F1</th>\n",
       "      <th>WEIGHTED-PRECISION</th>\n",
       "      <th>WEIGHTED-RECALL</th>\n",
       "      <th>WEIGHTED-F1</th>\n",
       "    </tr>\n",
       "  </thead>\n",
       "  <tbody>\n",
       "    <tr>\n",
       "      <th>0</th>\n",
       "      <td>1</td>\n",
       "      <td>XGBOOST_1</td>\n",
       "      <td>lasso</td>\n",
       "      <td>0.888889</td>\n",
       "      <td>0.888889</td>\n",
       "      <td>0.888889</td>\n",
       "      <td>0.888889</td>\n",
       "      <td>0.893743</td>\n",
       "      <td>0.890104</td>\n",
       "      <td>0.887555</td>\n",
       "      <td>0.894391</td>\n",
       "      <td>0.888889</td>\n",
       "      <td>0.887258</td>\n",
       "    </tr>\n",
       "    <tr>\n",
       "      <th>1</th>\n",
       "      <td>2</td>\n",
       "      <td>XGBOOST_5</td>\n",
       "      <td>pca</td>\n",
       "      <td>0.851351</td>\n",
       "      <td>0.851351</td>\n",
       "      <td>0.851351</td>\n",
       "      <td>0.851351</td>\n",
       "      <td>0.854743</td>\n",
       "      <td>0.805479</td>\n",
       "      <td>0.823015</td>\n",
       "      <td>0.858455</td>\n",
       "      <td>0.851351</td>\n",
       "      <td>0.850751</td>\n",
       "    </tr>\n",
       "    <tr>\n",
       "      <th>2</th>\n",
       "      <td>3</td>\n",
       "      <td>XGBOOST_4</td>\n",
       "      <td>pca</td>\n",
       "      <td>0.432432</td>\n",
       "      <td>0.432432</td>\n",
       "      <td>0.432432</td>\n",
       "      <td>0.432432</td>\n",
       "      <td>0.214548</td>\n",
       "      <td>0.278646</td>\n",
       "      <td>0.234151</td>\n",
       "      <td>0.309902</td>\n",
       "      <td>0.432432</td>\n",
       "      <td>0.350252</td>\n",
       "    </tr>\n",
       "    <tr>\n",
       "      <th>3</th>\n",
       "      <td>4</td>\n",
       "      <td>XGBOOST_2</td>\n",
       "      <td>rfe</td>\n",
       "      <td>0.396825</td>\n",
       "      <td>0.396825</td>\n",
       "      <td>0.396825</td>\n",
       "      <td>0.396825</td>\n",
       "      <td>0.398428</td>\n",
       "      <td>0.397396</td>\n",
       "      <td>0.394433</td>\n",
       "      <td>0.399594</td>\n",
       "      <td>0.396825</td>\n",
       "      <td>0.394798</td>\n",
       "    </tr>\n",
       "    <tr>\n",
       "      <th>4</th>\n",
       "      <td>5</td>\n",
       "      <td>XGBOOST_3</td>\n",
       "      <td>rfe</td>\n",
       "      <td>0.396825</td>\n",
       "      <td>0.396825</td>\n",
       "      <td>0.396825</td>\n",
       "      <td>0.396825</td>\n",
       "      <td>0.398428</td>\n",
       "      <td>0.397396</td>\n",
       "      <td>0.394433</td>\n",
       "      <td>0.399594</td>\n",
       "      <td>0.396825</td>\n",
       "      <td>0.394798</td>\n",
       "    </tr>\n",
       "    <tr>\n",
       "      <th>5</th>\n",
       "      <td>6</td>\n",
       "      <td>XGBOOST_0</td>\n",
       "      <td>lasso</td>\n",
       "      <td>0.285714</td>\n",
       "      <td>0.285714</td>\n",
       "      <td>0.285714</td>\n",
       "      <td>0.285714</td>\n",
       "      <td>0.145889</td>\n",
       "      <td>0.293750</td>\n",
       "      <td>0.187071</td>\n",
       "      <td>0.143826</td>\n",
       "      <td>0.285714</td>\n",
       "      <td>0.183529</td>\n",
       "    </tr>\n",
       "  </tbody>\n",
       "</table>\n",
       "</div>"
      ],
      "text/plain": [
       "   RANK   MODEL_ID FEATURE_SELECTION  ACCURACY  MICRO-PRECISION  MICRO-RECALL  \\\n",
       "0     1  XGBOOST_1             lasso  0.888889         0.888889      0.888889   \n",
       "1     2  XGBOOST_5               pca  0.851351         0.851351      0.851351   \n",
       "2     3  XGBOOST_4               pca  0.432432         0.432432      0.432432   \n",
       "3     4  XGBOOST_2               rfe  0.396825         0.396825      0.396825   \n",
       "4     5  XGBOOST_3               rfe  0.396825         0.396825      0.396825   \n",
       "5     6  XGBOOST_0             lasso  0.285714         0.285714      0.285714   \n",
       "\n",
       "   MICRO-F1  MACRO-PRECISION  MACRO-RECALL  MACRO-F1  WEIGHTED-PRECISION  \\\n",
       "0  0.888889         0.893743      0.890104  0.887555            0.894391   \n",
       "1  0.851351         0.854743      0.805479  0.823015            0.858455   \n",
       "2  0.432432         0.214548      0.278646  0.234151            0.309902   \n",
       "3  0.396825         0.398428      0.397396  0.394433            0.399594   \n",
       "4  0.396825         0.398428      0.397396  0.394433            0.399594   \n",
       "5  0.285714         0.145889      0.293750  0.187071            0.143826   \n",
       "\n",
       "   WEIGHTED-RECALL  WEIGHTED-F1  \n",
       "0         0.888889     0.887258  \n",
       "1         0.851351     0.850751  \n",
       "2         0.432432     0.350252  \n",
       "3         0.396825     0.394798  \n",
       "4         0.396825     0.394798  \n",
       "5         0.285714     0.183529  "
      ]
     },
     "execution_count": 25,
     "metadata": {},
     "output_type": "execute_result"
    }
   ],
   "source": [
    "# Fetching Leaderboard\n",
    "aml.leaderboard()"
   ]
  },
  {
   "cell_type": "markdown",
   "id": "a7a3aa08-e349-4a61-9217-2c17d50411d8",
   "metadata": {},
   "source": [
    "## <b><span style='color:#F1A424'>| 4.</span> Best Performing Model : </b>"
   ]
  },
  {
   "cell_type": "code",
   "execution_count": 26,
   "id": "e4158bc7-d6bc-464d-af05-1444dadd4a7b",
   "metadata": {},
   "outputs": [
    {
     "data": {
      "text/html": [
       "<div>\n",
       "<style scoped>\n",
       "    .dataframe tbody tr th:only-of-type {\n",
       "        vertical-align: middle;\n",
       "    }\n",
       "\n",
       "    .dataframe tbody tr th {\n",
       "        vertical-align: top;\n",
       "    }\n",
       "\n",
       "    .dataframe thead th {\n",
       "        text-align: right;\n",
       "    }\n",
       "</style>\n",
       "<table border=\"1\" class=\"dataframe\">\n",
       "  <thead>\n",
       "    <tr style=\"text-align: right;\">\n",
       "      <th></th>\n",
       "      <th>RANK</th>\n",
       "      <th>MODEL_ID</th>\n",
       "      <th>FEATURE_SELECTION</th>\n",
       "      <th>ACCURACY</th>\n",
       "      <th>MICRO-PRECISION</th>\n",
       "      <th>MICRO-RECALL</th>\n",
       "      <th>MICRO-F1</th>\n",
       "      <th>MACRO-PRECISION</th>\n",
       "      <th>MACRO-RECALL</th>\n",
       "      <th>MACRO-F1</th>\n",
       "      <th>WEIGHTED-PRECISION</th>\n",
       "      <th>WEIGHTED-RECALL</th>\n",
       "      <th>WEIGHTED-F1</th>\n",
       "    </tr>\n",
       "  </thead>\n",
       "  <tbody>\n",
       "    <tr>\n",
       "      <th>0</th>\n",
       "      <td>1</td>\n",
       "      <td>XGBOOST_1</td>\n",
       "      <td>lasso</td>\n",
       "      <td>0.888889</td>\n",
       "      <td>0.888889</td>\n",
       "      <td>0.888889</td>\n",
       "      <td>0.888889</td>\n",
       "      <td>0.893743</td>\n",
       "      <td>0.890104</td>\n",
       "      <td>0.887555</td>\n",
       "      <td>0.894391</td>\n",
       "      <td>0.888889</td>\n",
       "      <td>0.887258</td>\n",
       "    </tr>\n",
       "  </tbody>\n",
       "</table>\n",
       "</div>"
      ],
      "text/plain": [
       "   RANK   MODEL_ID FEATURE_SELECTION  ACCURACY  MICRO-PRECISION  MICRO-RECALL  \\\n",
       "0     1  XGBOOST_1             lasso  0.888889         0.888889      0.888889   \n",
       "\n",
       "   MICRO-F1  MACRO-PRECISION  MACRO-RECALL  MACRO-F1  WEIGHTED-PRECISION  \\\n",
       "0  0.888889         0.893743      0.890104  0.887555            0.894391   \n",
       "\n",
       "   WEIGHTED-RECALL  WEIGHTED-F1  \n",
       "0         0.888889     0.887258  "
      ]
     },
     "metadata": {},
     "output_type": "display_data"
    }
   ],
   "source": [
    "# Fetching best performing model for dataset\n",
    "aml.leader()"
   ]
  },
  {
   "cell_type": "markdown",
   "id": "46030ff5-77a0-4e14-b4de-d1e3ec8458cb",
   "metadata": {},
   "source": [
    "## <b><span style='color:#F1A424'>| 5.</span> Get Hyperparameter for Trained Model : </b>"
   ]
  },
  {
   "cell_type": "code",
   "execution_count": 27,
   "id": "0543832e-7454-41dd-a2fc-567a944d33fc",
   "metadata": {},
   "outputs": [
    {
     "data": {
      "text/plain": [
       "{'response_column': 'bmi',\n",
       " 'name': 'xgboost',\n",
       " 'model_type': 'Classification',\n",
       " 'column_sampling': 1,\n",
       " 'min_impurity': 0.0,\n",
       " 'lambda1': 0.1,\n",
       " 'shrinkage_factor': 0.2,\n",
       " 'max_depth': 7,\n",
       " 'min_node_size': 1,\n",
       " 'iter_num': 20,\n",
       " 'seed': 42,\n",
       " 'persist': False,\n",
       " 'output_prob': True,\n",
       " 'output_responses': ['2', '4', '3', '5'],\n",
       " 'max_models': 2}"
      ]
     },
     "execution_count": 27,
     "metadata": {},
     "output_type": "execute_result"
    }
   ],
   "source": [
    "aml.model_hyperparameters(rank=2)"
   ]
  },
  {
   "cell_type": "code",
   "execution_count": 28,
   "id": "5cb756c7-fd7e-48e8-a874-390520d23f64",
   "metadata": {
    "tags": []
   },
   "outputs": [
    {
     "data": {
      "text/plain": [
       "{'response_column': 'bmi',\n",
       " 'name': 'xgboost',\n",
       " 'model_type': 'Classification',\n",
       " 'column_sampling': 0.6,\n",
       " 'min_impurity': 0.1,\n",
       " 'lambda1': 1,\n",
       " 'shrinkage_factor': 0.1,\n",
       " 'max_depth': 6,\n",
       " 'min_node_size': 1,\n",
       " 'iter_num': 10,\n",
       " 'seed': 42,\n",
       " 'persist': False,\n",
       " 'output_prob': True,\n",
       " 'output_responses': ['2', '4', '3', '5'],\n",
       " 'max_models': 2}"
      ]
     },
     "execution_count": 28,
     "metadata": {},
     "output_type": "execute_result"
    }
   ],
   "source": [
    "aml.model_hyperparameters(rank=4)"
   ]
  },
  {
   "cell_type": "markdown",
   "id": "478fc03e-7b47-40da-932b-a94cb8ac3885",
   "metadata": {},
   "source": [
    "## <b><span style='color:#F1A424'>| 6.</span> Generate Prediction and Performance Metrics : </b>"
   ]
  },
  {
   "cell_type": "code",
   "execution_count": 29,
   "id": "5b6edfe3-bd5a-46bd-ad80-b20fadfed7a0",
   "metadata": {
    "tags": []
   },
   "outputs": [
    {
     "name": "stdout",
     "output_type": "stream",
     "text": [
      "Data Transformation started ...\n",
      "                                                                                                \r"
     ]
    },
    {
     "data": {
      "text/html": [
       "Performing transformation carried out in feature engineering phase ..."
      ],
      "text/plain": [
       "<IPython.core.display.HTML object>"
      ]
     },
     "metadata": {},
     "output_type": "display_data"
    },
    {
     "name": "stdout",
     "output_type": "stream",
     "text": [
      "                                                                                                 \r"
     ]
    },
    {
     "data": {
      "text/html": [
       "\n",
       "Updated dataset after performing target column transformation :"
      ],
      "text/plain": [
       "<IPython.core.display.HTML object>"
      ]
     },
     "metadata": {},
     "output_type": "display_data"
    },
    {
     "data": {
      "text/html": [
       "<style type=\"text/css\">\n",
       "\ttable {border:ridge 5px;}\n",
       "\ttable td {border:inset 1px;}\n",
       "\ttable tr#HeaderRow {background-color:grey; color:white;}</style>\n",
       "<html><table>\n",
       "\t<tr id=\"HeaderRow\">\n",
       "\t\t<th>id</th>\n",
       "\t\t<th>gender</th>\n",
       "\t\t<th>weight</th>\n",
       "\t\t<th>height</th>\n",
       "\t\t<th>bmi</th>\n",
       "\t</tr>\n",
       "\t<tr>\n",
       "\t\t<td>31</td>\n",
       "\t\t<td>Female</td>\n",
       "\t\t<td>82</td>\n",
       "\t\t<td>164</td>\n",
       "\t\t<td>4</td>\n",
       "\t</tr>\n",
       "\t<tr>\n",
       "\t\t<td>47</td>\n",
       "\t\t<td>Female</td>\n",
       "\t\t<td>90</td>\n",
       "\t\t<td>192</td>\n",
       "\t\t<td>2</td>\n",
       "\t</tr>\n",
       "\t<tr>\n",
       "\t\t<td>55</td>\n",
       "\t\t<td>Female</td>\n",
       "\t\t<td>57</td>\n",
       "\t\t<td>165</td>\n",
       "\t\t<td>2</td>\n",
       "\t</tr>\n",
       "\t<tr>\n",
       "\t\t<td>63</td>\n",
       "\t\t<td>Female</td>\n",
       "\t\t<td>139</td>\n",
       "\t\t<td>168</td>\n",
       "\t\t<td>5</td>\n",
       "\t</tr>\n",
       "\t<tr>\n",
       "\t\t<td>79</td>\n",
       "\t\t<td>Female</td>\n",
       "\t\t<td>150</td>\n",
       "\t\t<td>183</td>\n",
       "\t\t<td>5</td>\n",
       "\t</tr>\n",
       "\t<tr>\n",
       "\t\t<td>87</td>\n",
       "\t\t<td>Female</td>\n",
       "\t\t<td>54</td>\n",
       "\t\t<td>169</td>\n",
       "\t\t<td>2</td>\n",
       "\t</tr>\n",
       "\t<tr>\n",
       "\t\t<td>12</td>\n",
       "\t\t<td>Male</td>\n",
       "\t\t<td>145</td>\n",
       "\t\t<td>144</td>\n",
       "\t\t<td>5</td>\n",
       "\t</tr>\n",
       "\t<tr>\n",
       "\t\t<td>20</td>\n",
       "\t\t<td>Male</td>\n",
       "\t\t<td>121</td>\n",
       "\t\t<td>153</td>\n",
       "\t\t<td>5</td>\n",
       "\t</tr>\n",
       "\t<tr>\n",
       "\t\t<td>28</td>\n",
       "\t\t<td>Male</td>\n",
       "\t\t<td>80</td>\n",
       "\t\t<td>144</td>\n",
       "\t\t<td>4</td>\n",
       "\t</tr>\n",
       "\t<tr>\n",
       "\t\t<td>36</td>\n",
       "\t\t<td>Male</td>\n",
       "\t\t<td>56</td>\n",
       "\t\t<td>157</td>\n",
       "\t\t<td>2</td>\n",
       "\t</tr>\n",
       "</table></html>"
      ],
      "text/plain": [
       "   id  gender  weight  height  bmi\n",
       "0  31  Female      82     164    4\n",
       "1  47  Female      90     192    2\n",
       "2  55  Female      57     165    2\n",
       "3  63  Female     139     168    5\n",
       "4  79  Female     150     183    5\n",
       "5  87  Female      54     169    2\n",
       "6  12    Male     145     144    5\n",
       "7  20    Male     121     153    5\n",
       "8  28    Male      80     144    4\n",
       "9  36    Male      56     157    2"
      ]
     },
     "metadata": {},
     "output_type": "display_data"
    },
    {
     "name": "stdout",
     "output_type": "stream",
     "text": [
      "                                                                                                 \r"
     ]
    },
    {
     "data": {
      "text/html": [
       "93 rows X 5 columns"
      ],
      "text/plain": [
       "<IPython.core.display.HTML object>"
      ]
     },
     "metadata": {},
     "output_type": "display_data"
    },
    {
     "name": "stdout",
     "output_type": "stream",
     "text": [
      "                                                                                                 \r"
     ]
    },
    {
     "data": {
      "text/html": [
       "\n",
       "Updated dataset after performing categorical encoding :"
      ],
      "text/plain": [
       "<IPython.core.display.HTML object>"
      ]
     },
     "metadata": {},
     "output_type": "display_data"
    },
    {
     "data": {
      "text/html": [
       "<style type=\"text/css\">\n",
       "\ttable {border:ridge 5px;}\n",
       "\ttable td {border:inset 1px;}\n",
       "\ttable tr#HeaderRow {background-color:grey; color:white;}</style>\n",
       "<html><table>\n",
       "\t<tr id=\"HeaderRow\">\n",
       "\t\t<th>id</th>\n",
       "\t\t<th>gender_0</th>\n",
       "\t\t<th>gender_1</th>\n",
       "\t\t<th>weight</th>\n",
       "\t\t<th>height</th>\n",
       "\t\t<th>bmi</th>\n",
       "\t</tr>\n",
       "\t<tr>\n",
       "\t\t<td>223</td>\n",
       "\t\t<td>1</td>\n",
       "\t\t<td>0</td>\n",
       "\t\t<td>132</td>\n",
       "\t\t<td>154</td>\n",
       "\t\t<td>5</td>\n",
       "\t</tr>\n",
       "\t<tr>\n",
       "\t\t<td>183</td>\n",
       "\t\t<td>1</td>\n",
       "\t\t<td>0</td>\n",
       "\t\t<td>109</td>\n",
       "\t\t<td>172</td>\n",
       "\t\t<td>4</td>\n",
       "\t</tr>\n",
       "\t<tr>\n",
       "\t\t<td>364</td>\n",
       "\t\t<td>0</td>\n",
       "\t\t<td>1</td>\n",
       "\t\t<td>124</td>\n",
       "\t\t<td>159</td>\n",
       "\t\t<td>5</td>\n",
       "\t</tr>\n",
       "\t<tr>\n",
       "\t\t<td>263</td>\n",
       "\t\t<td>1</td>\n",
       "\t\t<td>0</td>\n",
       "\t\t<td>158</td>\n",
       "\t\t<td>151</td>\n",
       "\t\t<td>5</td>\n",
       "\t</tr>\n",
       "\t<tr>\n",
       "\t\t<td>244</td>\n",
       "\t\t<td>0</td>\n",
       "\t\t<td>1</td>\n",
       "\t\t<td>105</td>\n",
       "\t\t<td>183</td>\n",
       "\t\t<td>3</td>\n",
       "\t</tr>\n",
       "\t<tr>\n",
       "\t\t<td>343</td>\n",
       "\t\t<td>1</td>\n",
       "\t\t<td>0</td>\n",
       "\t\t<td>99</td>\n",
       "\t\t<td>188</td>\n",
       "\t\t<td>3</td>\n",
       "\t</tr>\n",
       "\t<tr>\n",
       "\t\t<td>383</td>\n",
       "\t\t<td>1</td>\n",
       "\t\t<td>0</td>\n",
       "\t\t<td>51</td>\n",
       "\t\t<td>153</td>\n",
       "\t\t<td>2</td>\n",
       "\t</tr>\n",
       "\t<tr>\n",
       "\t\t<td>175</td>\n",
       "\t\t<td>1</td>\n",
       "\t\t<td>0</td>\n",
       "\t\t<td>110</td>\n",
       "\t\t<td>146</td>\n",
       "\t\t<td>5</td>\n",
       "\t</tr>\n",
       "\t<tr>\n",
       "\t\t<td>95</td>\n",
       "\t\t<td>1</td>\n",
       "\t\t<td>0</td>\n",
       "\t\t<td>80</td>\n",
       "\t\t<td>188</td>\n",
       "\t\t<td>2</td>\n",
       "\t</tr>\n",
       "\t<tr>\n",
       "\t\t<td>196</td>\n",
       "\t\t<td>0</td>\n",
       "\t\t<td>1</td>\n",
       "\t\t<td>155</td>\n",
       "\t\t<td>148</td>\n",
       "\t\t<td>5</td>\n",
       "\t</tr>\n",
       "</table></html>"
      ],
      "text/plain": [
       "     gender_0  gender_1  weight  height  bmi\n",
       "id                                          \n",
       "223         1         0     132     154    5\n",
       "183         1         0     109     172    4\n",
       "364         0         1     124     159    5\n",
       "263         1         0     158     151    5\n",
       "244         0         1     105     183    3\n",
       "343         1         0      99     188    3\n",
       "383         1         0      51     153    2\n",
       "175         1         0     110     146    5\n",
       "95          1         0      80     188    2\n",
       "196         0         1     155     148    5"
      ]
     },
     "metadata": {},
     "output_type": "display_data"
    },
    {
     "name": "stdout",
     "output_type": "stream",
     "text": [
      "                                                                                                 \r"
     ]
    },
    {
     "data": {
      "text/html": [
       "93 rows X 6 columns"
      ],
      "text/plain": [
       "<IPython.core.display.HTML object>"
      ]
     },
     "metadata": {},
     "output_type": "display_data"
    },
    {
     "name": "stdout",
     "output_type": "stream",
     "text": [
      "                                                                                                 \r"
     ]
    },
    {
     "data": {
      "text/html": [
       "Performing transformation carried out in data preparation phase ..."
      ],
      "text/plain": [
       "<IPython.core.display.HTML object>"
      ]
     },
     "metadata": {},
     "output_type": "display_data"
    },
    {
     "name": "stdout",
     "output_type": "stream",
     "text": [
      "                                                                                                 \r"
     ]
    },
    {
     "data": {
      "text/html": [
       "\n",
       "Updated dataset after performing Lasso feature selection:"
      ],
      "text/plain": [
       "<IPython.core.display.HTML object>"
      ]
     },
     "metadata": {},
     "output_type": "display_data"
    },
    {
     "data": {
      "text/html": [
       "<style type=\"text/css\">\n",
       "\ttable {border:ridge 5px;}\n",
       "\ttable td {border:inset 1px;}\n",
       "\ttable tr#HeaderRow {background-color:grey; color:white;}</style>\n",
       "<html><table>\n",
       "\t<tr id=\"HeaderRow\">\n",
       "\t\t<th>id</th>\n",
       "\t\t<th>gender_1</th>\n",
       "\t\t<th>height</th>\n",
       "\t\t<th>weight</th>\n",
       "\t\t<th>bmi</th>\n",
       "\t</tr>\n",
       "\t<tr>\n",
       "\t\t<td>383</td>\n",
       "\t\t<td>0</td>\n",
       "\t\t<td>153</td>\n",
       "\t\t<td>51</td>\n",
       "\t\t<td>2</td>\n",
       "\t</tr>\n",
       "\t<tr>\n",
       "\t\t<td>284</td>\n",
       "\t\t<td>1</td>\n",
       "\t\t<td>174</td>\n",
       "\t\t<td>107</td>\n",
       "\t\t<td>4</td>\n",
       "\t</tr>\n",
       "\t<tr>\n",
       "\t\t<td>156</td>\n",
       "\t\t<td>1</td>\n",
       "\t\t<td>162</td>\n",
       "\t\t<td>97</td>\n",
       "\t\t<td>4</td>\n",
       "\t</tr>\n",
       "\t<tr>\n",
       "\t\t<td>263</td>\n",
       "\t\t<td>0</td>\n",
       "\t\t<td>151</td>\n",
       "\t\t<td>158</td>\n",
       "\t\t<td>5</td>\n",
       "\t</tr>\n",
       "\t<tr>\n",
       "\t\t<td>55</td>\n",
       "\t\t<td>0</td>\n",
       "\t\t<td>165</td>\n",
       "\t\t<td>57</td>\n",
       "\t\t<td>2</td>\n",
       "\t</tr>\n",
       "\t<tr>\n",
       "\t\t<td>135</td>\n",
       "\t\t<td>0</td>\n",
       "\t\t<td>153</td>\n",
       "\t\t<td>146</td>\n",
       "\t\t<td>5</td>\n",
       "\t</tr>\n",
       "\t<tr>\n",
       "\t\t<td>223</td>\n",
       "\t\t<td>0</td>\n",
       "\t\t<td>154</td>\n",
       "\t\t<td>132</td>\n",
       "\t\t<td>5</td>\n",
       "\t</tr>\n",
       "\t<tr>\n",
       "\t\t<td>15</td>\n",
       "\t\t<td>0</td>\n",
       "\t\t<td>182</td>\n",
       "\t\t<td>126</td>\n",
       "\t\t<td>4</td>\n",
       "\t</tr>\n",
       "\t<tr>\n",
       "\t\t<td>244</td>\n",
       "\t\t<td>1</td>\n",
       "\t\t<td>183</td>\n",
       "\t\t<td>105</td>\n",
       "\t\t<td>3</td>\n",
       "\t</tr>\n",
       "\t<tr>\n",
       "\t\t<td>343</td>\n",
       "\t\t<td>0</td>\n",
       "\t\t<td>188</td>\n",
       "\t\t<td>99</td>\n",
       "\t\t<td>3</td>\n",
       "\t</tr>\n",
       "</table></html>"
      ],
      "text/plain": [
       "     gender_1  height  weight  bmi\n",
       "id                                \n",
       "383         0     153      51    2\n",
       "284         1     174     107    4\n",
       "156         1     162      97    4\n",
       "263         0     151     158    5\n",
       "55          0     165      57    2\n",
       "135         0     153     146    5\n",
       "223         0     154     132    5\n",
       "15          0     182     126    4\n",
       "244         1     183     105    3\n",
       "343         0     188      99    3"
      ]
     },
     "metadata": {},
     "output_type": "display_data"
    },
    {
     "name": "stdout",
     "output_type": "stream",
     "text": [
      "                                                                                                 \r"
     ]
    },
    {
     "data": {
      "text/html": [
       "93 rows X 5 columns"
      ],
      "text/plain": [
       "<IPython.core.display.HTML object>"
      ]
     },
     "metadata": {},
     "output_type": "display_data"
    },
    {
     "name": "stdout",
     "output_type": "stream",
     "text": [
      "                                                                                                 \r"
     ]
    },
    {
     "data": {
      "text/html": [
       "\n",
       "Updated dataset after performing scaling on Lasso selected features :"
      ],
      "text/plain": [
       "<IPython.core.display.HTML object>"
      ]
     },
     "metadata": {},
     "output_type": "display_data"
    },
    {
     "data": {
      "text/html": [
       "<style type=\"text/css\">\n",
       "\ttable {border:ridge 5px;}\n",
       "\ttable td {border:inset 1px;}\n",
       "\ttable tr#HeaderRow {background-color:grey; color:white;}</style>\n",
       "<html><table>\n",
       "\t<tr id=\"HeaderRow\">\n",
       "\t\t<th>id</th>\n",
       "\t\t<th>bmi</th>\n",
       "\t\t<th>gender_1</th>\n",
       "\t\t<th>height</th>\n",
       "\t\t<th>weight</th>\n",
       "\t</tr>\n",
       "\t<tr>\n",
       "\t\t<td>183</td>\n",
       "\t\t<td>4</td>\n",
       "\t\t<td>0</td>\n",
       "\t\t<td>0.5423728813559322</td>\n",
       "\t\t<td>0.5363636363636364</td>\n",
       "\t</tr>\n",
       "\t<tr>\n",
       "\t\t<td>223</td>\n",
       "\t\t<td>5</td>\n",
       "\t\t<td>0</td>\n",
       "\t\t<td>0.23728813559322035</td>\n",
       "\t\t<td>0.7454545454545455</td>\n",
       "\t</tr>\n",
       "\t<tr>\n",
       "\t\t<td>15</td>\n",
       "\t\t<td>4</td>\n",
       "\t\t<td>0</td>\n",
       "\t\t<td>0.711864406779661</td>\n",
       "\t\t<td>0.6909090909090909</td>\n",
       "\t</tr>\n",
       "\t<tr>\n",
       "\t\t<td>263</td>\n",
       "\t\t<td>5</td>\n",
       "\t\t<td>0</td>\n",
       "\t\t<td>0.1864406779661017</td>\n",
       "\t\t<td>0.9818181818181818</td>\n",
       "\t</tr>\n",
       "\t<tr>\n",
       "\t\t<td>244</td>\n",
       "\t\t<td>3</td>\n",
       "\t\t<td>1</td>\n",
       "\t\t<td>0.7288135593220338</td>\n",
       "\t\t<td>0.5</td>\n",
       "\t</tr>\n",
       "\t<tr>\n",
       "\t\t<td>343</td>\n",
       "\t\t<td>3</td>\n",
       "\t\t<td>0</td>\n",
       "\t\t<td>0.8135593220338984</td>\n",
       "\t\t<td>0.44545454545454544</td>\n",
       "\t</tr>\n",
       "\t<tr>\n",
       "\t\t<td>55</td>\n",
       "\t\t<td>2</td>\n",
       "\t\t<td>0</td>\n",
       "\t\t<td>0.423728813559322</td>\n",
       "\t\t<td>0.06363636363636363</td>\n",
       "\t</tr>\n",
       "\t<tr>\n",
       "\t\t<td>135</td>\n",
       "\t\t<td>5</td>\n",
       "\t\t<td>0</td>\n",
       "\t\t<td>0.22033898305084745</td>\n",
       "\t\t<td>0.8727272727272727</td>\n",
       "\t</tr>\n",
       "\t<tr>\n",
       "\t\t<td>383</td>\n",
       "\t\t<td>2</td>\n",
       "\t\t<td>0</td>\n",
       "\t\t<td>0.22033898305084745</td>\n",
       "\t\t<td>0.00909090909090909</td>\n",
       "\t</tr>\n",
       "\t<tr>\n",
       "\t\t<td>175</td>\n",
       "\t\t<td>5</td>\n",
       "\t\t<td>0</td>\n",
       "\t\t<td>0.1016949152542373</td>\n",
       "\t\t<td>0.5454545454545454</td>\n",
       "\t</tr>\n",
       "</table></html>"
      ],
      "text/plain": [
       "    id  bmi  gender_1    height    weight\n",
       "0  183    4         0  0.542373  0.536364\n",
       "1  223    5         0  0.237288  0.745455\n",
       "2   15    4         0  0.711864  0.690909\n",
       "3  263    5         0  0.186441  0.981818\n",
       "4  244    3         1  0.728814  0.500000\n",
       "5  343    3         0  0.813559  0.445455\n",
       "6   55    2         0  0.423729  0.063636\n",
       "7  135    5         0  0.220339  0.872727\n",
       "8  383    2         0  0.220339  0.009091\n",
       "9  175    5         0  0.101695  0.545455"
      ]
     },
     "metadata": {},
     "output_type": "display_data"
    },
    {
     "name": "stdout",
     "output_type": "stream",
     "text": [
      "                                                                                                 \r"
     ]
    },
    {
     "data": {
      "text/html": [
       "93 rows X 5 columns"
      ],
      "text/plain": [
       "<IPython.core.display.HTML object>"
      ]
     },
     "metadata": {},
     "output_type": "display_data"
    },
    {
     "name": "stdout",
     "output_type": "stream",
     "text": [
      "                                                                                                 \r"
     ]
    },
    {
     "data": {
      "text/html": [
       "\n",
       "Updated dataset after performing RFE feature selection:"
      ],
      "text/plain": [
       "<IPython.core.display.HTML object>"
      ]
     },
     "metadata": {},
     "output_type": "display_data"
    },
    {
     "data": {
      "text/html": [
       "<style type=\"text/css\">\n",
       "\ttable {border:ridge 5px;}\n",
       "\ttable td {border:inset 1px;}\n",
       "\ttable tr#HeaderRow {background-color:grey; color:white;}</style>\n",
       "<html><table>\n",
       "\t<tr id=\"HeaderRow\">\n",
       "\t\t<th>id</th>\n",
       "\t\t<th>height</th>\n",
       "\t\t<th>weight</th>\n",
       "\t\t<th>bmi</th>\n",
       "\t</tr>\n",
       "\t<tr>\n",
       "\t\t<td>284</td>\n",
       "\t\t<td>174</td>\n",
       "\t\t<td>107</td>\n",
       "\t\t<td>4</td>\n",
       "\t</tr>\n",
       "\t<tr>\n",
       "\t\t<td>55</td>\n",
       "\t\t<td>165</td>\n",
       "\t\t<td>57</td>\n",
       "\t\t<td>2</td>\n",
       "\t</tr>\n",
       "\t<tr>\n",
       "\t\t<td>135</td>\n",
       "\t\t<td>153</td>\n",
       "\t\t<td>146</td>\n",
       "\t\t<td>5</td>\n",
       "\t</tr>\n",
       "\t<tr>\n",
       "\t\t<td>263</td>\n",
       "\t\t<td>151</td>\n",
       "\t\t<td>158</td>\n",
       "\t\t<td>5</td>\n",
       "\t</tr>\n",
       "\t<tr>\n",
       "\t\t<td>223</td>\n",
       "\t\t<td>154</td>\n",
       "\t\t<td>132</td>\n",
       "\t\t<td>5</td>\n",
       "\t</tr>\n",
       "\t<tr>\n",
       "\t\t<td>15</td>\n",
       "\t\t<td>182</td>\n",
       "\t\t<td>126</td>\n",
       "\t\t<td>4</td>\n",
       "\t</tr>\n",
       "\t<tr>\n",
       "\t\t<td>244</td>\n",
       "\t\t<td>183</td>\n",
       "\t\t<td>105</td>\n",
       "\t\t<td>3</td>\n",
       "\t</tr>\n",
       "\t<tr>\n",
       "\t\t<td>343</td>\n",
       "\t\t<td>188</td>\n",
       "\t\t<td>99</td>\n",
       "\t\t<td>3</td>\n",
       "\t</tr>\n",
       "\t<tr>\n",
       "\t\t<td>95</td>\n",
       "\t\t<td>188</td>\n",
       "\t\t<td>80</td>\n",
       "\t\t<td>2</td>\n",
       "\t</tr>\n",
       "\t<tr>\n",
       "\t\t<td>196</td>\n",
       "\t\t<td>148</td>\n",
       "\t\t<td>155</td>\n",
       "\t\t<td>5</td>\n",
       "\t</tr>\n",
       "</table></html>"
      ],
      "text/plain": [
       "     height  weight  bmi\n",
       "id                      \n",
       "284     174     107    4\n",
       "55      165      57    2\n",
       "135     153     146    5\n",
       "263     151     158    5\n",
       "223     154     132    5\n",
       "15      182     126    4\n",
       "244     183     105    3\n",
       "343     188      99    3\n",
       "95      188      80    2\n",
       "196     148     155    5"
      ]
     },
     "metadata": {},
     "output_type": "display_data"
    },
    {
     "name": "stdout",
     "output_type": "stream",
     "text": [
      "                                                                                                 \r"
     ]
    },
    {
     "data": {
      "text/html": [
       "93 rows X 4 columns"
      ],
      "text/plain": [
       "<IPython.core.display.HTML object>"
      ]
     },
     "metadata": {},
     "output_type": "display_data"
    },
    {
     "name": "stdout",
     "output_type": "stream",
     "text": [
      "                                                                                                 \r"
     ]
    },
    {
     "data": {
      "text/html": [
       "\n",
       "Updated dataset after performing scaling on RFE selected features :"
      ],
      "text/plain": [
       "<IPython.core.display.HTML object>"
      ]
     },
     "metadata": {},
     "output_type": "display_data"
    },
    {
     "data": {
      "text/html": [
       "<style type=\"text/css\">\n",
       "\ttable {border:ridge 5px;}\n",
       "\ttable td {border:inset 1px;}\n",
       "\ttable tr#HeaderRow {background-color:grey; color:white;}</style>\n",
       "<html><table>\n",
       "\t<tr id=\"HeaderRow\">\n",
       "\t\t<th>id</th>\n",
       "\t\t<th>bmi</th>\n",
       "\t\t<th>r_height</th>\n",
       "\t\t<th>r_weight</th>\n",
       "\t</tr>\n",
       "\t<tr>\n",
       "\t\t<td>183</td>\n",
       "\t\t<td>4</td>\n",
       "\t\t<td>0.5423728813559322</td>\n",
       "\t\t<td>0.5363636363636364</td>\n",
       "\t</tr>\n",
       "\t<tr>\n",
       "\t\t<td>244</td>\n",
       "\t\t<td>3</td>\n",
       "\t\t<td>0.7288135593220338</td>\n",
       "\t\t<td>0.5</td>\n",
       "\t</tr>\n",
       "\t<tr>\n",
       "\t\t<td>343</td>\n",
       "\t\t<td>3</td>\n",
       "\t\t<td>0.8135593220338984</td>\n",
       "\t\t<td>0.44545454545454544</td>\n",
       "\t</tr>\n",
       "\t<tr>\n",
       "\t\t<td>263</td>\n",
       "\t\t<td>5</td>\n",
       "\t\t<td>0.1864406779661017</td>\n",
       "\t\t<td>0.9818181818181818</td>\n",
       "\t</tr>\n",
       "\t<tr>\n",
       "\t\t<td>55</td>\n",
       "\t\t<td>2</td>\n",
       "\t\t<td>0.423728813559322</td>\n",
       "\t\t<td>0.06363636363636363</td>\n",
       "\t</tr>\n",
       "\t<tr>\n",
       "\t\t<td>135</td>\n",
       "\t\t<td>5</td>\n",
       "\t\t<td>0.22033898305084745</td>\n",
       "\t\t<td>0.8727272727272727</td>\n",
       "\t</tr>\n",
       "\t<tr>\n",
       "\t\t<td>223</td>\n",
       "\t\t<td>5</td>\n",
       "\t\t<td>0.23728813559322035</td>\n",
       "\t\t<td>0.7454545454545455</td>\n",
       "\t</tr>\n",
       "\t<tr>\n",
       "\t\t<td>15</td>\n",
       "\t\t<td>4</td>\n",
       "\t\t<td>0.711864406779661</td>\n",
       "\t\t<td>0.6909090909090909</td>\n",
       "\t</tr>\n",
       "\t<tr>\n",
       "\t\t<td>95</td>\n",
       "\t\t<td>2</td>\n",
       "\t\t<td>0.8135593220338984</td>\n",
       "\t\t<td>0.2727272727272727</td>\n",
       "\t</tr>\n",
       "\t<tr>\n",
       "\t\t<td>196</td>\n",
       "\t\t<td>5</td>\n",
       "\t\t<td>0.13559322033898305</td>\n",
       "\t\t<td>0.9545454545454546</td>\n",
       "\t</tr>\n",
       "</table></html>"
      ],
      "text/plain": [
       "    id  bmi  r_height  r_weight\n",
       "0  183    4  0.542373  0.536364\n",
       "1  244    3  0.728814  0.500000\n",
       "2  343    3  0.813559  0.445455\n",
       "3  263    5  0.186441  0.981818\n",
       "4   55    2  0.423729  0.063636\n",
       "5  135    5  0.220339  0.872727\n",
       "6  223    5  0.237288  0.745455\n",
       "7   15    4  0.711864  0.690909\n",
       "8   95    2  0.813559  0.272727\n",
       "9  196    5  0.135593  0.954545"
      ]
     },
     "metadata": {},
     "output_type": "display_data"
    },
    {
     "name": "stdout",
     "output_type": "stream",
     "text": [
      "                                                                                                 \r"
     ]
    },
    {
     "data": {
      "text/html": [
       "93 rows X 4 columns"
      ],
      "text/plain": [
       "<IPython.core.display.HTML object>"
      ]
     },
     "metadata": {},
     "output_type": "display_data"
    },
    {
     "name": "stdout",
     "output_type": "stream",
     "text": [
      "                                                                                                 \r"
     ]
    },
    {
     "data": {
      "text/html": [
       "\n",
       "Updated dataset after performing scaling for PCA feature selection :"
      ],
      "text/plain": [
       "<IPython.core.display.HTML object>"
      ]
     },
     "metadata": {},
     "output_type": "display_data"
    },
    {
     "data": {
      "text/html": [
       "<style type=\"text/css\">\n",
       "\ttable {border:ridge 5px;}\n",
       "\ttable td {border:inset 1px;}\n",
       "\ttable tr#HeaderRow {background-color:grey; color:white;}</style>\n",
       "<html><table>\n",
       "\t<tr id=\"HeaderRow\">\n",
       "\t\t<th>id</th>\n",
       "\t\t<th>bmi</th>\n",
       "\t\t<th>gender_0</th>\n",
       "\t\t<th>gender_1</th>\n",
       "\t\t<th>height</th>\n",
       "\t\t<th>weight</th>\n",
       "\t</tr>\n",
       "\t<tr>\n",
       "\t\t<td>263</td>\n",
       "\t\t<td>5</td>\n",
       "\t\t<td>1</td>\n",
       "\t\t<td>0</td>\n",
       "\t\t<td>0.1864406779661017</td>\n",
       "\t\t<td>0.9818181818181818</td>\n",
       "\t</tr>\n",
       "\t<tr>\n",
       "\t\t<td>244</td>\n",
       "\t\t<td>3</td>\n",
       "\t\t<td>0</td>\n",
       "\t\t<td>1</td>\n",
       "\t\t<td>0.7288135593220338</td>\n",
       "\t\t<td>0.5</td>\n",
       "\t</tr>\n",
       "\t<tr>\n",
       "\t\t<td>343</td>\n",
       "\t\t<td>3</td>\n",
       "\t\t<td>1</td>\n",
       "\t\t<td>0</td>\n",
       "\t\t<td>0.8135593220338984</td>\n",
       "\t\t<td>0.44545454545454544</td>\n",
       "\t</tr>\n",
       "\t<tr>\n",
       "\t\t<td>284</td>\n",
       "\t\t<td>4</td>\n",
       "\t\t<td>0</td>\n",
       "\t\t<td>1</td>\n",
       "\t\t<td>0.576271186440678</td>\n",
       "\t\t<td>0.5181818181818182</td>\n",
       "\t</tr>\n",
       "\t<tr>\n",
       "\t\t<td>95</td>\n",
       "\t\t<td>2</td>\n",
       "\t\t<td>1</td>\n",
       "\t\t<td>0</td>\n",
       "\t\t<td>0.8135593220338984</td>\n",
       "\t\t<td>0.2727272727272727</td>\n",
       "\t</tr>\n",
       "\t<tr>\n",
       "\t\t<td>196</td>\n",
       "\t\t<td>5</td>\n",
       "\t\t<td>0</td>\n",
       "\t\t<td>1</td>\n",
       "\t\t<td>0.13559322033898305</td>\n",
       "\t\t<td>0.9545454545454546</td>\n",
       "\t</tr>\n",
       "\t<tr>\n",
       "\t\t<td>223</td>\n",
       "\t\t<td>5</td>\n",
       "\t\t<td>1</td>\n",
       "\t\t<td>0</td>\n",
       "\t\t<td>0.23728813559322035</td>\n",
       "\t\t<td>0.7454545454545455</td>\n",
       "\t</tr>\n",
       "\t<tr>\n",
       "\t\t<td>15</td>\n",
       "\t\t<td>4</td>\n",
       "\t\t<td>1</td>\n",
       "\t\t<td>0</td>\n",
       "\t\t<td>0.711864406779661</td>\n",
       "\t\t<td>0.6909090909090909</td>\n",
       "\t</tr>\n",
       "\t<tr>\n",
       "\t\t<td>383</td>\n",
       "\t\t<td>2</td>\n",
       "\t\t<td>1</td>\n",
       "\t\t<td>0</td>\n",
       "\t\t<td>0.22033898305084745</td>\n",
       "\t\t<td>0.00909090909090909</td>\n",
       "\t</tr>\n",
       "\t<tr>\n",
       "\t\t<td>175</td>\n",
       "\t\t<td>5</td>\n",
       "\t\t<td>1</td>\n",
       "\t\t<td>0</td>\n",
       "\t\t<td>0.1016949152542373</td>\n",
       "\t\t<td>0.5454545454545454</td>\n",
       "\t</tr>\n",
       "</table></html>"
      ],
      "text/plain": [
       "    id  bmi  gender_0  gender_1    height    weight\n",
       "0  263    5         1         0  0.186441  0.981818\n",
       "1  244    3         0         1  0.728814  0.500000\n",
       "2  343    3         1         0  0.813559  0.445455\n",
       "3  284    4         0         1  0.576271  0.518182\n",
       "4   95    2         1         0  0.813559  0.272727\n",
       "5  196    5         0         1  0.135593  0.954545\n",
       "6  223    5         1         0  0.237288  0.745455\n",
       "7   15    4         1         0  0.711864  0.690909\n",
       "8  383    2         1         0  0.220339  0.009091\n",
       "9  175    5         1         0  0.101695  0.545455"
      ]
     },
     "metadata": {},
     "output_type": "display_data"
    },
    {
     "name": "stdout",
     "output_type": "stream",
     "text": [
      "                                                                                                 \r"
     ]
    },
    {
     "data": {
      "text/html": [
       "93 rows X 6 columns"
      ],
      "text/plain": [
       "<IPython.core.display.HTML object>"
      ]
     },
     "metadata": {},
     "output_type": "display_data"
    },
    {
     "name": "stdout",
     "output_type": "stream",
     "text": [
      "                                                                                                 \r"
     ]
    },
    {
     "name": "stderr",
     "output_type": "stream",
     "text": [
      "C:\\ProgramData\\anaconda3\\lib\\site-packages\\sklearn\\base.py:450: UserWarning: X does not have valid feature names, but PCA was fitted with feature names\n",
      "  warnings.warn(\n"
     ]
    },
    {
     "data": {
      "text/html": [
       "\n",
       "Updated dataset after performing PCA feature selection :"
      ],
      "text/plain": [
       "<IPython.core.display.HTML object>"
      ]
     },
     "metadata": {},
     "output_type": "display_data"
    },
    {
     "data": {
      "text/html": [
       "<div>\n",
       "<style scoped>\n",
       "    .dataframe tbody tr th:only-of-type {\n",
       "        vertical-align: middle;\n",
       "    }\n",
       "\n",
       "    .dataframe tbody tr th {\n",
       "        vertical-align: top;\n",
       "    }\n",
       "\n",
       "    .dataframe thead th {\n",
       "        text-align: right;\n",
       "    }\n",
       "</style>\n",
       "<table border=\"1\" class=\"dataframe\">\n",
       "  <thead>\n",
       "    <tr style=\"text-align: right;\">\n",
       "      <th></th>\n",
       "      <th>id</th>\n",
       "      <th>col_0</th>\n",
       "      <th>col_1</th>\n",
       "      <th>col_2</th>\n",
       "      <th>bmi</th>\n",
       "    </tr>\n",
       "  </thead>\n",
       "  <tbody>\n",
       "    <tr>\n",
       "      <th>0</th>\n",
       "      <td>183</td>\n",
       "      <td>-0.681740</td>\n",
       "      <td>-0.027306</td>\n",
       "      <td>-0.048810</td>\n",
       "      <td>4</td>\n",
       "    </tr>\n",
       "    <tr>\n",
       "      <th>1</th>\n",
       "      <td>284</td>\n",
       "      <td>0.732647</td>\n",
       "      <td>-0.029875</td>\n",
       "      <td>-0.080144</td>\n",
       "      <td>4</td>\n",
       "    </tr>\n",
       "    <tr>\n",
       "      <th>2</th>\n",
       "      <td>383</td>\n",
       "      <td>-0.684008</td>\n",
       "      <td>0.580690</td>\n",
       "      <td>-0.158623</td>\n",
       "      <td>2</td>\n",
       "    </tr>\n",
       "    <tr>\n",
       "      <th>3</th>\n",
       "      <td>263</td>\n",
       "      <td>-0.683721</td>\n",
       "      <td>-0.123595</td>\n",
       "      <td>0.513188</td>\n",
       "      <td>5</td>\n",
       "    </tr>\n",
       "    <tr>\n",
       "      <th>4</th>\n",
       "      <td>55</td>\n",
       "      <td>-0.682718</td>\n",
       "      <td>0.404762</td>\n",
       "      <td>-0.274341</td>\n",
       "      <td>2</td>\n",
       "    </tr>\n",
       "    <tr>\n",
       "      <th>5</th>\n",
       "      <td>95</td>\n",
       "      <td>-0.680191</td>\n",
       "      <td>-0.010548</td>\n",
       "      <td>-0.426650</td>\n",
       "      <td>2</td>\n",
       "    </tr>\n",
       "    <tr>\n",
       "      <th>6</th>\n",
       "      <td>244</td>\n",
       "      <td>0.733585</td>\n",
       "      <td>-0.117669</td>\n",
       "      <td>-0.206204</td>\n",
       "      <td>3</td>\n",
       "    </tr>\n",
       "    <tr>\n",
       "      <th>7</th>\n",
       "      <td>223</td>\n",
       "      <td>-0.683527</td>\n",
       "      <td>0.019221</td>\n",
       "      <td>0.318106</td>\n",
       "      <td>5</td>\n",
       "    </tr>\n",
       "    <tr>\n",
       "      <th>8</th>\n",
       "      <td>364</td>\n",
       "      <td>0.731148</td>\n",
       "      <td>0.023614</td>\n",
       "      <td>0.212530</td>\n",
       "      <td>5</td>\n",
       "    </tr>\n",
       "    <tr>\n",
       "      <th>9</th>\n",
       "      <td>156</td>\n",
       "      <td>0.731339</td>\n",
       "      <td>0.173223</td>\n",
       "      <td>0.011406</td>\n",
       "      <td>4</td>\n",
       "    </tr>\n",
       "  </tbody>\n",
       "</table>\n",
       "</div>"
      ],
      "text/plain": [
       "    id     col_0     col_1     col_2  bmi\n",
       "0  183 -0.681740 -0.027306 -0.048810    4\n",
       "1  284  0.732647 -0.029875 -0.080144    4\n",
       "2  383 -0.684008  0.580690 -0.158623    2\n",
       "3  263 -0.683721 -0.123595  0.513188    5\n",
       "4   55 -0.682718  0.404762 -0.274341    2\n",
       "5   95 -0.680191 -0.010548 -0.426650    2\n",
       "6  244  0.733585 -0.117669 -0.206204    3\n",
       "7  223 -0.683527  0.019221  0.318106    5\n",
       "8  364  0.731148  0.023614  0.212530    5\n",
       "9  156  0.731339  0.173223  0.011406    4"
      ]
     },
     "metadata": {},
     "output_type": "display_data"
    },
    {
     "name": "stdout",
     "output_type": "stream",
     "text": [
      "                                                                                                 \r"
     ]
    },
    {
     "data": {
      "text/html": [
       "10 rows X 5 columns"
      ],
      "text/plain": [
       "<IPython.core.display.HTML object>"
      ]
     },
     "metadata": {},
     "output_type": "display_data"
    },
    {
     "name": "stdout",
     "output_type": "stream",
     "text": [
      "Data Transformation completed.⫿⫿⫿⫿⫿⫿⫿⫿⫿⫿⫿⫿⫿⫿⫿⫿⫿⫿⫿⫿⫿⫿⫿⫿⫿⫿⫿⫿⫿⫿⫿⫿⫿⫿⫿⫿⫿⫿⫿⫿⫿⫿｜ 100% - 10/10           \n",
      "\n",
      "Following model is being picked for evaluation:\n",
      "Model ID : XGBOOST_1 \n",
      "Feature Selection Method : lasso\n",
      "\n",
      "Prediction : \n",
      "    id  Prediction  bmi    prob_2    prob_3    prob_4    prob_5\n",
      "0  383           2    2  0.875846  0.088963  0.020821  0.014370\n",
      "1   55           2    2  0.967036  0.016245  0.010470  0.006250\n",
      "2  135           5    5  0.004770  0.009441  0.015224  0.970564\n",
      "3  244           4    3  0.010981  0.056161  0.928976  0.003882\n",
      "4  223           5    5  0.003990  0.011816  0.015615  0.968579\n",
      "5   15           4    4  0.009975  0.015222  0.948059  0.026744\n",
      "6  263           5    5  0.004008  0.007149  0.005214  0.983630\n",
      "7  324           5    5  0.003852  0.012668  0.011463  0.972017\n",
      "8   95           2    2  0.985250  0.007480  0.003782  0.003488\n",
      "9  196           5    5  0.004008  0.007150  0.005055  0.983786\n",
      "\n",
      "Confusion Matrix : \n"
     ]
    },
    {
     "data": {
      "text/plain": [
       "array([[15,  2,  1,  0],\n",
       "       [ 1,  8,  2,  0],\n",
       "       [ 0,  1, 23,  0],\n",
       "       [ 0,  1,  2, 37]], dtype=int64)"
      ]
     },
     "metadata": {},
     "output_type": "display_data"
    }
   ],
   "source": [
    "# Generating prediction on test data\n",
    "prediction = aml.predict(bmi_df_test)"
   ]
  },
  {
   "cell_type": "code",
   "execution_count": 30,
   "id": "cc4f6a78-1cdf-4938-a9f1-22035d8404ca",
   "metadata": {},
   "outputs": [
    {
     "data": {
      "text/html": [
       "<style type=\"text/css\">\n",
       "\ttable {border:ridge 5px;}\n",
       "\ttable td {border:inset 1px;}\n",
       "\ttable tr#HeaderRow {background-color:grey; color:white;}</style>\n",
       "<html><table>\n",
       "\t<tr id=\"HeaderRow\">\n",
       "\t\t<th>id</th>\n",
       "\t\t<th>Prediction</th>\n",
       "\t\t<th>bmi</th>\n",
       "\t\t<th>prob_2</th>\n",
       "\t\t<th>prob_3</th>\n",
       "\t\t<th>prob_4</th>\n",
       "\t\t<th>prob_5</th>\n",
       "\t</tr>\n",
       "\t<tr>\n",
       "\t\t<td>20</td>\n",
       "\t\t<td>5</td>\n",
       "\t\t<td>5</td>\n",
       "\t\t<td>0.0065734808357699745</td>\n",
       "\t\t<td>0.023403895895667756</td>\n",
       "\t\t<td>0.02257988576923994</td>\n",
       "\t\t<td>0.9474427374993223</td>\n",
       "\t</tr>\n",
       "\t<tr>\n",
       "\t\t<td>28</td>\n",
       "\t\t<td>4</td>\n",
       "\t\t<td>4</td>\n",
       "\t\t<td>0.0256418740968586</td>\n",
       "\t\t<td>0.03806109843561501</td>\n",
       "\t\t<td>0.894435436545288</td>\n",
       "\t\t<td>0.04186159092223835</td>\n",
       "\t</tr>\n",
       "\t<tr>\n",
       "\t\t<td>31</td>\n",
       "\t\t<td>3</td>\n",
       "\t\t<td>4</td>\n",
       "\t\t<td>0.1067998606421078</td>\n",
       "\t\t<td>0.43787068264314993</td>\n",
       "\t\t<td>0.39234149516147804</td>\n",
       "\t\t<td>0.06298796155326415</td>\n",
       "\t</tr>\n",
       "\t<tr>\n",
       "\t\t<td>36</td>\n",
       "\t\t<td>2</td>\n",
       "\t\t<td>2</td>\n",
       "\t\t<td>0.9574417301739402</td>\n",
       "\t\t<td>0.028397862066580775</td>\n",
       "\t\t<td>0.0093687048438488</td>\n",
       "\t\t<td>0.004791702915630228</td>\n",
       "\t</tr>\n",
       "\t<tr>\n",
       "\t\t<td>44</td>\n",
       "\t\t<td>5</td>\n",
       "\t\t<td>5</td>\n",
       "\t\t<td>0.004945822276919229</td>\n",
       "\t\t<td>0.009228377390956333</td>\n",
       "\t\t<td>0.008639582291572339</td>\n",
       "\t\t<td>0.9771862180405522</td>\n",
       "\t</tr>\n",
       "\t<tr>\n",
       "\t\t<td>47</td>\n",
       "\t\t<td>3</td>\n",
       "\t\t<td>2</td>\n",
       "\t\t<td>0.005995930243241813</td>\n",
       "\t\t<td>0.9789582012732537</td>\n",
       "\t\t<td>0.011782447762103264</td>\n",
       "\t\t<td>0.003263420721401197</td>\n",
       "\t</tr>\n",
       "\t<tr>\n",
       "\t\t<td>39</td>\n",
       "\t\t<td>4</td>\n",
       "\t\t<td>3</td>\n",
       "\t\t<td>0.04591396365853169</td>\n",
       "\t\t<td>0.32710011625038765</td>\n",
       "\t\t<td>0.599021379785262</td>\n",
       "\t\t<td>0.027964540305818682</td>\n",
       "\t</tr>\n",
       "\t<tr>\n",
       "\t\t<td>23</td>\n",
       "\t\t<td>3</td>\n",
       "\t\t<td>3</td>\n",
       "\t\t<td>0.030771493187342482</td>\n",
       "\t\t<td>0.9378243914415731</td>\n",
       "\t\t<td>0.022388909295955394</td>\n",
       "\t\t<td>0.009015206075128776</td>\n",
       "\t</tr>\n",
       "\t<tr>\n",
       "\t\t<td>15</td>\n",
       "\t\t<td>4</td>\n",
       "\t\t<td>4</td>\n",
       "\t\t<td>0.009974868094409</td>\n",
       "\t\t<td>0.015222167278904344</td>\n",
       "\t\t<td>0.9480590023369692</td>\n",
       "\t\t<td>0.026743962289717614</td>\n",
       "\t</tr>\n",
       "\t<tr>\n",
       "\t\t<td>12</td>\n",
       "\t\t<td>5</td>\n",
       "\t\t<td>5</td>\n",
       "\t\t<td>0.004791625014219031</td>\n",
       "\t\t<td>0.009376012868176372</td>\n",
       "\t\t<td>0.010851730987638178</td>\n",
       "\t\t<td>0.9749806311299665</td>\n",
       "\t</tr>\n",
       "</table></html>"
      ],
      "text/plain": [
       "   id  Prediction  bmi    prob_2    prob_3    prob_4    prob_5\n",
       "0  20           5    5  0.006573  0.023404  0.022580  0.947443\n",
       "1  28           4    4  0.025642  0.038061  0.894435  0.041862\n",
       "2  31           3    4  0.106800  0.437871  0.392341  0.062988\n",
       "3  36           2    2  0.957442  0.028398  0.009369  0.004792\n",
       "4  44           5    5  0.004946  0.009228  0.008640  0.977186\n",
       "5  47           3    2  0.005996  0.978958  0.011782  0.003263\n",
       "6  39           4    3  0.045914  0.327100  0.599021  0.027965\n",
       "7  23           3    3  0.030771  0.937824  0.022389  0.009015\n",
       "8  15           4    4  0.009975  0.015222  0.948059  0.026744\n",
       "9  12           5    5  0.004792  0.009376  0.010852  0.974981"
      ]
     },
     "execution_count": 30,
     "metadata": {},
     "output_type": "execute_result"
    }
   ],
   "source": [
    "# Printing prediction\n",
    "prediction.head()"
   ]
  },
  {
   "cell_type": "code",
   "execution_count": 31,
   "id": "19a91203-70cc-4a2d-a779-01db0bf285db",
   "metadata": {},
   "outputs": [
    {
     "name": "stdout",
     "output_type": "stream",
     "text": [
      "\n",
      "Skipping data transformation as data is already transformed.\n",
      "\n",
      "Following model is being picked for evaluation:\n",
      "Model ID : XGBOOST_1 \n",
      "Feature Selection Method : lasso\n",
      "\n",
      "Performance Metrics : \n",
      "       Prediction  Mapping  CLASS_1  CLASS_2  CLASS_3  CLASS_4  Precision    Recall        F1  Support\n",
      "SeqNum                                                                                                \n",
      "1               3  CLASS_2        2        8        1        1   0.666667  0.727273  0.695652       11\n",
      "2               4  CLASS_3        1        2       23        2   0.821429  0.958333  0.884615       24\n",
      "0               2  CLASS_1       15        1        0        0   0.937500  0.833333  0.882353       18\n",
      "3               5  CLASS_4        0        0        0       37   1.000000  0.925000  0.961039       40\n",
      "--------------------------------------------------------------------------------\n",
      "   SeqNum              Metric  MetricValue\n",
      "0       3        Micro-Recall     0.892473\n",
      "1       5     Macro-Precision     0.856399\n",
      "2       6        Macro-Recall     0.860985\n",
      "3       7            Macro-F1     0.855915\n",
      "4       9     Weighted-Recall     0.892473\n",
      "5      10         Weighted-F1     0.894697\n",
      "6       8  Weighted-Precision     0.902394\n",
      "7       4            Micro-F1     0.892473\n",
      "8       2     Micro-Precision     0.892473\n",
      "9       1            Accuracy     0.892473\n"
     ]
    }
   ],
   "source": [
    "# Fetching performance metrics on test data\n",
    "performance_metrics = aml.evaluate(bmi_df_test)"
   ]
  },
  {
   "cell_type": "code",
   "execution_count": 32,
   "id": "093f8f6c-a066-41b4-bc36-64b6a5664f98",
   "metadata": {},
   "outputs": [
    {
     "data": {
      "text/html": [
       "<style type=\"text/css\">\n",
       "\ttable {border:ridge 5px;}\n",
       "\ttable td {border:inset 1px;}\n",
       "\ttable tr#HeaderRow {background-color:grey; color:white;}</style>\n",
       "<html><table>\n",
       "\t<tr id=\"HeaderRow\">\n",
       "\t\t<th>SeqNum</th>\n",
       "\t\t<th>Prediction</th>\n",
       "\t\t<th>Mapping</th>\n",
       "\t\t<th>CLASS_1</th>\n",
       "\t\t<th>CLASS_2</th>\n",
       "\t\t<th>CLASS_3</th>\n",
       "\t\t<th>CLASS_4</th>\n",
       "\t\t<th>Precision</th>\n",
       "\t\t<th>Recall</th>\n",
       "\t\t<th>F1</th>\n",
       "\t\t<th>Support</th>\n",
       "\t</tr>\n",
       "\t<tr>\n",
       "\t\t<td>3</td>\n",
       "\t\t<td>5</td>\n",
       "\t\t<td>CLASS_4</td>\n",
       "\t\t<td>0</td>\n",
       "\t\t<td>0</td>\n",
       "\t\t<td>0</td>\n",
       "\t\t<td>37</td>\n",
       "\t\t<td>1.0</td>\n",
       "\t\t<td>0.925</td>\n",
       "\t\t<td>0.961038961038961</td>\n",
       "\t\t<td>40</td>\n",
       "\t</tr>\n",
       "\t<tr>\n",
       "\t\t<td>0</td>\n",
       "\t\t<td>2</td>\n",
       "\t\t<td>CLASS_1</td>\n",
       "\t\t<td>15</td>\n",
       "\t\t<td>1</td>\n",
       "\t\t<td>0</td>\n",
       "\t\t<td>0</td>\n",
       "\t\t<td>0.9375</td>\n",
       "\t\t<td>0.8333333333333334</td>\n",
       "\t\t<td>0.8823529411764706</td>\n",
       "\t\t<td>18</td>\n",
       "\t</tr>\n",
       "\t<tr>\n",
       "\t\t<td>2</td>\n",
       "\t\t<td>4</td>\n",
       "\t\t<td>CLASS_3</td>\n",
       "\t\t<td>1</td>\n",
       "\t\t<td>2</td>\n",
       "\t\t<td>23</td>\n",
       "\t\t<td>2</td>\n",
       "\t\t<td>0.8214285714285714</td>\n",
       "\t\t<td>0.9583333333333334</td>\n",
       "\t\t<td>0.8846153846153847</td>\n",
       "\t\t<td>24</td>\n",
       "\t</tr>\n",
       "\t<tr>\n",
       "\t\t<td>1</td>\n",
       "\t\t<td>3</td>\n",
       "\t\t<td>CLASS_2</td>\n",
       "\t\t<td>2</td>\n",
       "\t\t<td>8</td>\n",
       "\t\t<td>1</td>\n",
       "\t\t<td>1</td>\n",
       "\t\t<td>0.6666666666666666</td>\n",
       "\t\t<td>0.7272727272727273</td>\n",
       "\t\t<td>0.6956521739130435</td>\n",
       "\t\t<td>11</td>\n",
       "\t</tr>\n",
       "</table></html>"
      ],
      "text/plain": [
       "       Prediction  Mapping  CLASS_1  CLASS_2  CLASS_3  CLASS_4  Precision    Recall        F1  Support\n",
       "SeqNum                                                                                                \n",
       "3               5  CLASS_4        0        0        0       37   1.000000  0.925000  0.961039       40\n",
       "0               2  CLASS_1       15        1        0        0   0.937500  0.833333  0.882353       18\n",
       "2               4  CLASS_3        1        2       23        2   0.821429  0.958333  0.884615       24\n",
       "1               3  CLASS_2        2        8        1        1   0.666667  0.727273  0.695652       11"
      ]
     },
     "execution_count": 32,
     "metadata": {},
     "output_type": "execute_result"
    }
   ],
   "source": [
    "performance_metrics"
   ]
  },
  {
   "cell_type": "code",
   "execution_count": 33,
   "id": "53bd1df1-d202-4727-98ff-24a35cef52cb",
   "metadata": {
    "tags": []
   },
   "outputs": [
    {
     "name": "stdout",
     "output_type": "stream",
     "text": [
      "\n",
      "Skipping data transformation as data is already transformed.\n",
      "\n",
      "Following model is being picked for evaluation:\n",
      "Model ID : XGBOOST_5 \n",
      "Feature Selection Method : pca\n",
      "\n",
      "Prediction : \n",
      "    id  Prediction  bmi    prob_2    prob_3    prob_4    prob_5\n",
      "0  383           2    2  0.870650  0.069927  0.025590  0.033833\n",
      "1   55           2    2  0.927135  0.028495  0.024789  0.019581\n",
      "2   95           2    2  0.925916  0.028182  0.024399  0.021503\n",
      "3  244           4    3  0.018641  0.019427  0.946201  0.015730\n",
      "4  364           5    5  0.015817  0.015566  0.015928  0.952690\n",
      "5  156           4    4  0.045345  0.041491  0.868558  0.044607\n",
      "6  223           5    5  0.016309  0.017127  0.016626  0.949937\n",
      "7  263           5    5  0.016309  0.017127  0.016626  0.949937\n",
      "8  284           4    4  0.016062  0.016127  0.951984  0.015826\n",
      "9  183           4    4  0.018157  0.017902  0.945991  0.017950\n",
      "\n",
      "Confusion Matrix : \n"
     ]
    },
    {
     "data": {
      "text/plain": [
       "array([[14,  3,  1,  0],\n",
       "       [ 1,  7,  3,  0],\n",
       "       [ 0,  2, 20,  2],\n",
       "       [ 0,  0,  0, 40]], dtype=int64)"
      ]
     },
     "metadata": {},
     "output_type": "display_data"
    }
   ],
   "source": [
    "# Generating prediction on test data\n",
    "prediction = aml.predict(bmi_df_test, 2)"
   ]
  },
  {
   "cell_type": "code",
   "execution_count": 34,
   "id": "e3943eef-9278-4608-bc88-c68054100c8b",
   "metadata": {
    "tags": []
   },
   "outputs": [
    {
     "data": {
      "text/html": [
       "<style type=\"text/css\">\n",
       "\ttable {border:ridge 5px;}\n",
       "\ttable td {border:inset 1px;}\n",
       "\ttable tr#HeaderRow {background-color:grey; color:white;}</style>\n",
       "<html><table>\n",
       "\t<tr id=\"HeaderRow\">\n",
       "\t\t<th>id</th>\n",
       "\t\t<th>Prediction</th>\n",
       "\t\t<th>bmi</th>\n",
       "\t\t<th>prob_2</th>\n",
       "\t\t<th>prob_3</th>\n",
       "\t\t<th>prob_4</th>\n",
       "\t\t<th>prob_5</th>\n",
       "\t</tr>\n",
       "\t<tr>\n",
       "\t\t<td>20</td>\n",
       "\t\t<td>5</td>\n",
       "\t\t<td>5</td>\n",
       "\t\t<td>0.01581710766030708</td>\n",
       "\t\t<td>0.015565705323479876</td>\n",
       "\t\t<td>0.01592761057816096</td>\n",
       "\t\t<td>0.9526895764380521</td>\n",
       "\t</tr>\n",
       "\t<tr>\n",
       "\t\t<td>28</td>\n",
       "\t\t<td>4</td>\n",
       "\t\t<td>4</td>\n",
       "\t\t<td>0.15420145136726152</td>\n",
       "\t\t<td>0.13605957935851612</td>\n",
       "\t\t<td>0.5394487977434931</td>\n",
       "\t\t<td>0.17029017153072923</td>\n",
       "\t</tr>\n",
       "\t<tr>\n",
       "\t\t<td>31</td>\n",
       "\t\t<td>3</td>\n",
       "\t\t<td>4</td>\n",
       "\t\t<td>0.04735228018472415</td>\n",
       "\t\t<td>0.7957889197082348</td>\n",
       "\t\t<td>0.11442195495020904</td>\n",
       "\t\t<td>0.042436845156831805</td>\n",
       "\t</tr>\n",
       "\t<tr>\n",
       "\t\t<td>36</td>\n",
       "\t\t<td>2</td>\n",
       "\t\t<td>2</td>\n",
       "\t\t<td>0.40057718402105585</td>\n",
       "\t\t<td>0.3896958125983765</td>\n",
       "\t\t<td>0.11382446341579486</td>\n",
       "\t\t<td>0.09590253996477287</td>\n",
       "\t</tr>\n",
       "\t<tr>\n",
       "\t\t<td>44</td>\n",
       "\t\t<td>5</td>\n",
       "\t\t<td>5</td>\n",
       "\t\t<td>0.01581710766030708</td>\n",
       "\t\t<td>0.015565705323479876</td>\n",
       "\t\t<td>0.01592761057816096</td>\n",
       "\t\t<td>0.9526895764380521</td>\n",
       "\t</tr>\n",
       "\t<tr>\n",
       "\t\t<td>47</td>\n",
       "\t\t<td>2</td>\n",
       "\t\t<td>2</td>\n",
       "\t\t<td>0.9227313676052085</td>\n",
       "\t\t<td>0.03041318250524004</td>\n",
       "\t\t<td>0.024905910616548895</td>\n",
       "\t\t<td>0.021949539273002642</td>\n",
       "\t</tr>\n",
       "\t<tr>\n",
       "\t\t<td>39</td>\n",
       "\t\t<td>4</td>\n",
       "\t\t<td>3</td>\n",
       "\t\t<td>0.028045270680659005</td>\n",
       "\t\t<td>0.22635012238443605</td>\n",
       "\t\t<td>0.71939387311715</td>\n",
       "\t\t<td>0.026210733817754916</td>\n",
       "\t</tr>\n",
       "\t<tr>\n",
       "\t\t<td>23</td>\n",
       "\t\t<td>2</td>\n",
       "\t\t<td>3</td>\n",
       "\t\t<td>0.7403848644911242</td>\n",
       "\t\t<td>0.140139749879409</td>\n",
       "\t\t<td>0.06484249258066344</td>\n",
       "\t\t<td>0.054632893048803484</td>\n",
       "\t</tr>\n",
       "\t<tr>\n",
       "\t\t<td>15</td>\n",
       "\t\t<td>4</td>\n",
       "\t\t<td>4</td>\n",
       "\t\t<td>0.016045540973877413</td>\n",
       "\t\t<td>0.015764301579265724</td>\n",
       "\t\t<td>0.9509999310420701</td>\n",
       "\t\t<td>0.017190226404786742</td>\n",
       "\t</tr>\n",
       "\t<tr>\n",
       "\t\t<td>12</td>\n",
       "\t\t<td>5</td>\n",
       "\t\t<td>5</td>\n",
       "\t\t<td>0.01581710766030708</td>\n",
       "\t\t<td>0.015565705323479876</td>\n",
       "\t\t<td>0.01592761057816096</td>\n",
       "\t\t<td>0.9526895764380521</td>\n",
       "\t</tr>\n",
       "</table></html>"
      ],
      "text/plain": [
       "   id  Prediction  bmi    prob_2    prob_3    prob_4    prob_5\n",
       "0  20           5    5  0.015817  0.015566  0.015928  0.952690\n",
       "1  28           4    4  0.154201  0.136060  0.539449  0.170290\n",
       "2  31           3    4  0.047352  0.795789  0.114422  0.042437\n",
       "3  36           2    2  0.400577  0.389696  0.113824  0.095903\n",
       "4  44           5    5  0.015817  0.015566  0.015928  0.952690\n",
       "5  47           2    2  0.922731  0.030413  0.024906  0.021950\n",
       "6  39           4    3  0.028045  0.226350  0.719394  0.026211\n",
       "7  23           2    3  0.740385  0.140140  0.064842  0.054633\n",
       "8  15           4    4  0.016046  0.015764  0.951000  0.017190\n",
       "9  12           5    5  0.015817  0.015566  0.015928  0.952690"
      ]
     },
     "execution_count": 34,
     "metadata": {},
     "output_type": "execute_result"
    }
   ],
   "source": [
    "# Printing prediction\n",
    "prediction.head()"
   ]
  },
  {
   "cell_type": "code",
   "execution_count": 35,
   "id": "0dd8b92e-652c-4410-ace6-a93e959fa2e0",
   "metadata": {},
   "outputs": [
    {
     "name": "stdout",
     "output_type": "stream",
     "text": [
      "\n",
      "Skipping data transformation as data is already transformed.\n",
      "\n",
      "Following model is being picked for evaluation:\n",
      "Model ID : XGBOOST_5 \n",
      "Feature Selection Method : pca\n",
      "\n",
      "Performance Metrics : \n",
      "       Prediction  Mapping  CLASS_1  CLASS_2  CLASS_3  CLASS_4  Precision    Recall        F1  Support\n",
      "SeqNum                                                                                                \n",
      "2               4  CLASS_3        1        3       20        0   0.833333  0.833333  0.833333       24\n",
      "0               2  CLASS_1       14        1        0        0   0.933333  0.777778  0.848485       18\n",
      "1               3  CLASS_2        3        7        2        0   0.583333  0.636364  0.608696       11\n",
      "3               5  CLASS_4        0        0        2       40   0.952381  1.000000  0.975610       40\n",
      "--------------------------------------------------------------------------------\n",
      "   SeqNum              Metric  MetricValue\n",
      "0       3        Micro-Recall     0.870968\n",
      "1       5     Macro-Precision     0.825595\n",
      "2       6        Macro-Recall     0.811869\n",
      "3       7            Macro-F1     0.816531\n",
      "4       9     Weighted-Recall     0.870968\n",
      "5      10         Weighted-F1     0.870890\n",
      "6       8  Weighted-Precision     0.874322\n",
      "7       4            Micro-F1     0.870968\n",
      "8       2     Micro-Precision     0.870968\n",
      "9       1            Accuracy     0.870968\n"
     ]
    }
   ],
   "source": [
    "# Fetching performance metrics on test data\n",
    "performance_metrics = aml.evaluate(bmi_df_test, 2)"
   ]
  },
  {
   "cell_type": "code",
   "execution_count": 36,
   "id": "9a53620e-b041-4ead-a049-c9943ec2b634",
   "metadata": {},
   "outputs": [
    {
     "data": {
      "text/html": [
       "<style type=\"text/css\">\n",
       "\ttable {border:ridge 5px;}\n",
       "\ttable td {border:inset 1px;}\n",
       "\ttable tr#HeaderRow {background-color:grey; color:white;}</style>\n",
       "<html><table>\n",
       "\t<tr id=\"HeaderRow\">\n",
       "\t\t<th>SeqNum</th>\n",
       "\t\t<th>Prediction</th>\n",
       "\t\t<th>Mapping</th>\n",
       "\t\t<th>CLASS_1</th>\n",
       "\t\t<th>CLASS_2</th>\n",
       "\t\t<th>CLASS_3</th>\n",
       "\t\t<th>CLASS_4</th>\n",
       "\t\t<th>Precision</th>\n",
       "\t\t<th>Recall</th>\n",
       "\t\t<th>F1</th>\n",
       "\t\t<th>Support</th>\n",
       "\t</tr>\n",
       "\t<tr>\n",
       "\t\t<td>3</td>\n",
       "\t\t<td>5</td>\n",
       "\t\t<td>CLASS_4</td>\n",
       "\t\t<td>0</td>\n",
       "\t\t<td>0</td>\n",
       "\t\t<td>2</td>\n",
       "\t\t<td>40</td>\n",
       "\t\t<td>0.9523809523809523</td>\n",
       "\t\t<td>1.0</td>\n",
       "\t\t<td>0.975609756097561</td>\n",
       "\t\t<td>40</td>\n",
       "\t</tr>\n",
       "\t<tr>\n",
       "\t\t<td>0</td>\n",
       "\t\t<td>2</td>\n",
       "\t\t<td>CLASS_1</td>\n",
       "\t\t<td>14</td>\n",
       "\t\t<td>1</td>\n",
       "\t\t<td>0</td>\n",
       "\t\t<td>0</td>\n",
       "\t\t<td>0.9333333333333333</td>\n",
       "\t\t<td>0.7777777777777778</td>\n",
       "\t\t<td>0.8484848484848485</td>\n",
       "\t\t<td>18</td>\n",
       "\t</tr>\n",
       "\t<tr>\n",
       "\t\t<td>2</td>\n",
       "\t\t<td>4</td>\n",
       "\t\t<td>CLASS_3</td>\n",
       "\t\t<td>1</td>\n",
       "\t\t<td>3</td>\n",
       "\t\t<td>20</td>\n",
       "\t\t<td>0</td>\n",
       "\t\t<td>0.8333333333333334</td>\n",
       "\t\t<td>0.8333333333333334</td>\n",
       "\t\t<td>0.8333333333333334</td>\n",
       "\t\t<td>24</td>\n",
       "\t</tr>\n",
       "\t<tr>\n",
       "\t\t<td>1</td>\n",
       "\t\t<td>3</td>\n",
       "\t\t<td>CLASS_2</td>\n",
       "\t\t<td>3</td>\n",
       "\t\t<td>7</td>\n",
       "\t\t<td>2</td>\n",
       "\t\t<td>0</td>\n",
       "\t\t<td>0.5833333333333334</td>\n",
       "\t\t<td>0.6363636363636364</td>\n",
       "\t\t<td>0.6086956521739131</td>\n",
       "\t\t<td>11</td>\n",
       "\t</tr>\n",
       "</table></html>"
      ],
      "text/plain": [
       "       Prediction  Mapping  CLASS_1  CLASS_2  CLASS_3  CLASS_4  Precision    Recall        F1  Support\n",
       "SeqNum                                                                                                \n",
       "3               5  CLASS_4        0        0        2       40   0.952381  1.000000  0.975610       40\n",
       "0               2  CLASS_1       14        1        0        0   0.933333  0.777778  0.848485       18\n",
       "2               4  CLASS_3        1        3       20        0   0.833333  0.833333  0.833333       24\n",
       "1               3  CLASS_2        3        7        2        0   0.583333  0.636364  0.608696       11"
      ]
     },
     "execution_count": 36,
     "metadata": {},
     "output_type": "execute_result"
    }
   ],
   "source": [
    "performance_metrics"
   ]
  },
  {
   "cell_type": "markdown",
   "id": "0a030d89-370d-406b-aa72-47e136e950fe",
   "metadata": {},
   "source": [
    "## <b><span style='color:#F1A424'>| 7.</span> Deploy Trained Model : </b>"
   ]
  },
  {
   "cell_type": "markdown",
   "id": "23d64424-9a23-447e-98a9-96ccba74dd02",
   "metadata": {},
   "source": [
    "#### 7.1. Deploy top 3 models"
   ]
  },
  {
   "cell_type": "code",
   "execution_count": 37,
   "id": "a06f0f10-e327-4238-ac6e-68d5e68106c7",
   "metadata": {
    "tags": []
   },
   "outputs": [
    {
     "name": "stdout",
     "output_type": "stream",
     "text": [
      "Model Deployment Completed Successfully.\n"
     ]
    }
   ],
   "source": [
    "aml.deploy(table_name='BMI_top_3_models', top_n=3)"
   ]
  },
  {
   "cell_type": "code",
   "execution_count": null,
   "id": "635fcb68-03c4-4a7e-bff8-c36038d58a6f",
   "metadata": {},
   "outputs": [],
   "source": []
  },
  {
   "cell_type": "markdown",
   "id": "35e92c0b-5983-4b25-8357-c86d66dfd170",
   "metadata": {},
   "source": [
    "#### 7.2. Deploy models using list of model ranks"
   ]
  },
  {
   "cell_type": "code",
   "execution_count": 38,
   "id": "76da42ea-fa1f-4252-bd96-110b22543d6f",
   "metadata": {},
   "outputs": [
    {
     "name": "stdout",
     "output_type": "stream",
     "text": [
      "Model Deployment Completed Successfully.\n"
     ]
    }
   ],
   "source": [
    "aml.deploy(table_name='BMI_mixed_models', ranks=[2, 4])"
   ]
  },
  {
   "cell_type": "code",
   "execution_count": null,
   "id": "4b92b64f-bf8e-4222-a90a-a93bf4db1d69",
   "metadata": {},
   "outputs": [],
   "source": []
  },
  {
   "cell_type": "markdown",
   "id": "ea523c64-6099-4fba-97e5-638a07138180",
   "metadata": {},
   "source": [
    "#### 7.3. Deploy models using range of model rank"
   ]
  },
  {
   "cell_type": "code",
   "execution_count": 39,
   "id": "36ee6077-074e-4ff7-900c-34b8599d5b1f",
   "metadata": {
    "tags": []
   },
   "outputs": [
    {
     "name": "stdout",
     "output_type": "stream",
     "text": [
      "Model Deployment Completed Successfully.\n"
     ]
    }
   ],
   "source": [
    "aml.deploy(table_name='BMI_range_models', ranks=range(3,6))"
   ]
  },
  {
   "cell_type": "code",
   "execution_count": null,
   "id": "7ae6d39d-92db-4ddb-9c10-009f582c5c19",
   "metadata": {},
   "outputs": [],
   "source": []
  },
  {
   "cell_type": "markdown",
   "id": "218ebd1a-b0ed-49fd-adb0-d5682418b024",
   "metadata": {},
   "source": [
    "##### Note: \n",
    " - After deployment, saved models can be loaded in same session or different session using table name. After loading models can be used for predict and evaluate. Please refer to notebook: `Multi_Classification__BMI_Value_Prediction_Load_Models` for more details."
   ]
  },
  {
   "cell_type": "code",
   "execution_count": 40,
   "id": "b9abf6af-1a6f-4bff-87e1-4d0fe8b80bbf",
   "metadata": {},
   "outputs": [
    {
     "data": {
      "text/plain": [
       "True"
      ]
     },
     "execution_count": 40,
     "metadata": {},
     "output_type": "execute_result"
    }
   ],
   "source": [
    "remove_context()"
   ]
  },
  {
   "cell_type": "code",
   "execution_count": null,
   "id": "311f09b6-0207-4639-9aff-8370e2de0c7a",
   "metadata": {},
   "outputs": [],
   "source": []
  }
 ],
 "metadata": {
  "kernelspec": {
   "display_name": "Python 3 (ipykernel)",
   "language": "python",
   "name": "python3"
  },
  "language_info": {
   "codemirror_mode": {
    "name": "ipython",
    "version": 3
   },
   "file_extension": ".py",
   "mimetype": "text/x-python",
   "name": "python",
   "nbconvert_exporter": "python",
   "pygments_lexer": "ipython3",
   "version": "3.10.9"
  }
 },
 "nbformat": 4,
 "nbformat_minor": 5
}
