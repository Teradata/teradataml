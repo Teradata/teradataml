{
 "cells": [
  {
   "cell_type": "markdown",
   "id": "2762f1d8-5a66-411f-a625-34cf16ac6dd3",
   "metadata": {},
   "source": [
    "# <b><span style='color:#F1A424'>AutoML - Regression </span> </b>"
   ]
  },
  {
   "cell_type": "markdown",
   "id": "f225fb94-b2c8-4c92-af38-733d08e0e2a1",
   "metadata": {},
   "source": [
    "## <b> Problem overview:</b>\n",
    "    "
   ]
  },
  {
   "cell_type": "markdown",
   "id": "af9813eb-9c44-4968-a5fe-d1c74415c894",
   "metadata": {},
   "source": [
    "**Dataset Used : Advertising Sales Dataset**\n",
    "\n",
    "**Features**:\n",
    "\n",
    "- `TV`: Advertising done on TV.\n",
    "- `Radio`: Advertising done on Radio.\n",
    "- `Newspapaer`: Advertising done on Newspaper.\n",
    "\n",
    "**Target Variable**:\n",
    "\n",
    "- `Sales`: The Sales received after advertisement.\n",
    "    \n",
    "**Objective**:\n",
    "\n",
    "The primary objective is typically to build a model that can accurately predict sales received based on advertisement.\n",
    "\n",
    "**Usecase**:\n",
    "\n",
    "Here, we will use AutoML(Automated Machine Learning) functionality to automate the entire process of developing a predictive model. It will perform feature exploration, feature engineering, data preparation, model training and evaluation on dataset in auto run and at end we will get leaderboard containined different models along with their performance. Model will also have rank associated with them which indicates which is best performing model for given data followed by other models."
   ]
  },
  {
   "cell_type": "code",
   "execution_count": 1,
   "id": "66568348-4d00-477c-a071-17995f797c95",
   "metadata": {},
   "outputs": [],
   "source": [
    "# Importing AutoML from teradataml\n",
    "from teradataml import AutoML, AutoRegressor"
   ]
  },
  {
   "cell_type": "code",
   "execution_count": 2,
   "id": "17dfae70-0401-4cc4-ba1c-400a5cf62451",
   "metadata": {},
   "outputs": [],
   "source": [
    "# Importing other important libraries\n",
    "import getpass\n",
    "from teradataml import create_context, remove_context\n",
    "from teradataml import DataFrame\n",
    "from teradataml import load_example_data\n",
    "from teradataml import TrainTestSplit"
   ]
  },
  {
   "cell_type": "code",
   "execution_count": 3,
   "id": "cadd9ed2-42d6-4899-b23e-4e2cf601162f",
   "metadata": {},
   "outputs": [
    {
     "name": "stdin",
     "output_type": "stream",
     "text": [
      "Host:  ········\n",
      "Username:  ········\n",
      "Password:  ········\n"
     ]
    }
   ],
   "source": [
    "# Create the connection.\n",
    "host = getpass.getpass(\"Host: \")\n",
    "username = getpass.getpass(\"Username: \")\n",
    "password = getpass.getpass(\"Password: \")\n",
    "\n",
    "con = create_context(host=host, username=username, password=password)"
   ]
  },
  {
   "cell_type": "markdown",
   "id": "be767a89-d5b8-4876-91cb-36980754586e",
   "metadata": {},
   "source": [
    "## <b><span style='color:#F1A424'>| 1.</span> Loading Dataset </b>"
   ]
  },
  {
   "cell_type": "code",
   "execution_count": 4,
   "id": "f1592c52-b247-4792-be2a-30b49bbeb9b6",
   "metadata": {},
   "outputs": [
    {
     "name": "stdout",
     "output_type": "stream",
     "text": [
      "WARNING: Skipped loading table advertising since it already exists in the database.\n"
     ]
    }
   ],
   "source": [
    "# Loading dataset from example data collection\n",
    "load_example_data('teradataml','advertising')"
   ]
  },
  {
   "cell_type": "code",
   "execution_count": 5,
   "id": "3846ae0f-004b-4b8e-9fea-06fac4294065",
   "metadata": {},
   "outputs": [],
   "source": [
    "# Fetching in teradata dataframe\n",
    "advertising_df = DataFrame(\"advertising\")"
   ]
  },
  {
   "cell_type": "code",
   "execution_count": 6,
   "id": "442ccd80-b444-413e-970d-d855ec3d6cae",
   "metadata": {},
   "outputs": [
    {
     "data": {
      "text/html": [
       "<style type=\"text/css\">\n",
       "\ttable {border:ridge 5px;}\n",
       "\ttable td {border:inset 1px;}\n",
       "\ttable tr#HeaderRow {background-color:grey; color:white;}</style>\n",
       "<html><table>\n",
       "\t<tr id=\"HeaderRow\">\n",
       "\t\t<th>TV</th>\n",
       "\t\t<th>Radio</th>\n",
       "\t\t<th>Newspaper</th>\n",
       "\t\t<th>Sales</th>\n",
       "\t</tr>\n",
       "\t<tr>\n",
       "\t\t<td>5.4</td>\n",
       "\t\t<td>29.9</td>\n",
       "\t\t<td>9.4</td>\n",
       "\t\t<td>5.3</td>\n",
       "\t</tr>\n",
       "\t<tr>\n",
       "\t\t<td>7.8</td>\n",
       "\t\t<td>38.9</td>\n",
       "\t\t<td>50.6</td>\n",
       "\t\t<td>6.6</td>\n",
       "\t</tr>\n",
       "\t<tr>\n",
       "\t\t<td>8.4</td>\n",
       "\t\t<td>27.2</td>\n",
       "\t\t<td>2.1</td>\n",
       "\t\t<td>5.7</td>\n",
       "\t</tr>\n",
       "\t<tr>\n",
       "\t\t<td>8.6</td>\n",
       "\t\t<td>2.1</td>\n",
       "\t\t<td>1.0</td>\n",
       "\t\t<td>4.8</td>\n",
       "\t</tr>\n",
       "\t<tr>\n",
       "\t\t<td>11.7</td>\n",
       "\t\t<td>36.9</td>\n",
       "\t\t<td>45.2</td>\n",
       "\t\t<td>7.3</td>\n",
       "\t</tr>\n",
       "\t<tr>\n",
       "\t\t<td>13.1</td>\n",
       "\t\t<td>0.4</td>\n",
       "\t\t<td>25.6</td>\n",
       "\t\t<td>5.3</td>\n",
       "\t</tr>\n",
       "\t<tr>\n",
       "\t\t<td>8.7</td>\n",
       "\t\t<td>48.9</td>\n",
       "\t\t<td>75.0</td>\n",
       "\t\t<td>7.2</td>\n",
       "\t</tr>\n",
       "\t<tr>\n",
       "\t\t<td>7.3</td>\n",
       "\t\t<td>28.1</td>\n",
       "\t\t<td>41.4</td>\n",
       "\t\t<td>5.5</td>\n",
       "\t</tr>\n",
       "\t<tr>\n",
       "\t\t<td>4.1</td>\n",
       "\t\t<td>11.6</td>\n",
       "\t\t<td>5.7</td>\n",
       "\t\t<td>3.2</td>\n",
       "\t</tr>\n",
       "\t<tr>\n",
       "\t\t<td>0.7</td>\n",
       "\t\t<td>39.6</td>\n",
       "\t\t<td>8.7</td>\n",
       "\t\t<td>1.6</td>\n",
       "\t</tr>\n",
       "</table></html>"
      ],
      "text/plain": [
       "     TV  Radio  Newspaper  Sales\n",
       "0   5.4   29.9        9.4    5.3\n",
       "1   7.8   38.9       50.6    6.6\n",
       "2   8.4   27.2        2.1    5.7\n",
       "3   8.6    2.1        1.0    4.8\n",
       "4  11.7   36.9       45.2    7.3\n",
       "5  13.1    0.4       25.6    5.3\n",
       "6   8.7   48.9       75.0    7.2\n",
       "7   7.3   28.1       41.4    5.5\n",
       "8   4.1   11.6        5.7    3.2\n",
       "9   0.7   39.6        8.7    1.6"
      ]
     },
     "execution_count": 6,
     "metadata": {},
     "output_type": "execute_result"
    }
   ],
   "source": [
    "# first 5 rows\n",
    "advertising_df.head()"
   ]
  },
  {
   "cell_type": "code",
   "execution_count": 7,
   "id": "636c220d-d12f-4ea5-ab2b-c9203ef00d49",
   "metadata": {},
   "outputs": [
    {
     "data": {
      "text/plain": [
       "(200, 4)"
      ]
     },
     "execution_count": 7,
     "metadata": {},
     "output_type": "execute_result"
    }
   ],
   "source": [
    "# advertising_df dataset\n",
    "advertising_df.shape"
   ]
  },
  {
   "cell_type": "code",
   "execution_count": 8,
   "id": "e5d1fad7-8784-4d7a-be1f-7be1d3991d8f",
   "metadata": {},
   "outputs": [],
   "source": [
    "# Performing sampling to get 80% for trainning and 20% for testing\n",
    "advertising_df_sample = advertising_df.sample(frac = [0.8, 0.2])"
   ]
  },
  {
   "cell_type": "code",
   "execution_count": 9,
   "id": "a0e6891a-1b7e-4bac-97c8-350ba5f5bde4",
   "metadata": {},
   "outputs": [
    {
     "data": {
      "text/html": [
       "<style type=\"text/css\">\n",
       "\ttable {border:ridge 5px;}\n",
       "\ttable td {border:inset 1px;}\n",
       "\ttable tr#HeaderRow {background-color:grey; color:white;}</style>\n",
       "<html><table>\n",
       "\t<tr id=\"HeaderRow\">\n",
       "\t\t<th>TV</th>\n",
       "\t\t<th>Radio</th>\n",
       "\t\t<th>Newspaper</th>\n",
       "\t\t<th>Sales</th>\n",
       "\t\t<th>sampleid</th>\n",
       "\t</tr>\n",
       "\t<tr>\n",
       "\t\t<td>5.4</td>\n",
       "\t\t<td>29.9</td>\n",
       "\t\t<td>9.4</td>\n",
       "\t\t<td>5.3</td>\n",
       "\t\t<td>1</td>\n",
       "\t</tr>\n",
       "\t<tr>\n",
       "\t\t<td>7.8</td>\n",
       "\t\t<td>38.9</td>\n",
       "\t\t<td>50.6</td>\n",
       "\t\t<td>6.6</td>\n",
       "\t\t<td>1</td>\n",
       "\t</tr>\n",
       "\t<tr>\n",
       "\t\t<td>8.4</td>\n",
       "\t\t<td>27.2</td>\n",
       "\t\t<td>2.1</td>\n",
       "\t\t<td>5.7</td>\n",
       "\t\t<td>2</td>\n",
       "\t</tr>\n",
       "\t<tr>\n",
       "\t\t<td>8.6</td>\n",
       "\t\t<td>2.1</td>\n",
       "\t\t<td>1.0</td>\n",
       "\t\t<td>4.8</td>\n",
       "\t\t<td>2</td>\n",
       "\t</tr>\n",
       "\t<tr>\n",
       "\t\t<td>11.7</td>\n",
       "\t\t<td>36.9</td>\n",
       "\t\t<td>45.2</td>\n",
       "\t\t<td>7.3</td>\n",
       "\t\t<td>1</td>\n",
       "\t</tr>\n",
       "\t<tr>\n",
       "\t\t<td>13.1</td>\n",
       "\t\t<td>0.4</td>\n",
       "\t\t<td>25.6</td>\n",
       "\t\t<td>5.3</td>\n",
       "\t\t<td>2</td>\n",
       "\t</tr>\n",
       "\t<tr>\n",
       "\t\t<td>8.7</td>\n",
       "\t\t<td>48.9</td>\n",
       "\t\t<td>75.0</td>\n",
       "\t\t<td>7.2</td>\n",
       "\t\t<td>1</td>\n",
       "\t</tr>\n",
       "\t<tr>\n",
       "\t\t<td>7.3</td>\n",
       "\t\t<td>28.1</td>\n",
       "\t\t<td>41.4</td>\n",
       "\t\t<td>5.5</td>\n",
       "\t\t<td>2</td>\n",
       "\t</tr>\n",
       "\t<tr>\n",
       "\t\t<td>4.1</td>\n",
       "\t\t<td>11.6</td>\n",
       "\t\t<td>5.7</td>\n",
       "\t\t<td>3.2</td>\n",
       "\t\t<td>1</td>\n",
       "\t</tr>\n",
       "\t<tr>\n",
       "\t\t<td>0.7</td>\n",
       "\t\t<td>39.6</td>\n",
       "\t\t<td>8.7</td>\n",
       "\t\t<td>1.6</td>\n",
       "\t\t<td>1</td>\n",
       "\t</tr>\n",
       "</table></html>"
      ],
      "text/plain": [
       "     TV  Radio  Newspaper  Sales  sampleid\n",
       "0   5.4   29.9        9.4    5.3         1\n",
       "1   7.8   38.9       50.6    6.6         1\n",
       "2   8.4   27.2        2.1    5.7         2\n",
       "3   8.6    2.1        1.0    4.8         2\n",
       "4  11.7   36.9       45.2    7.3         1\n",
       "5  13.1    0.4       25.6    5.3         2\n",
       "6   8.7   48.9       75.0    7.2         1\n",
       "7   7.3   28.1       41.4    5.5         2\n",
       "8   4.1   11.6        5.7    3.2         1\n",
       "9   0.7   39.6        8.7    1.6         1"
      ]
     },
     "execution_count": 9,
     "metadata": {},
     "output_type": "execute_result"
    }
   ],
   "source": [
    "advertising_df_sample.head()"
   ]
  },
  {
   "cell_type": "code",
   "execution_count": 10,
   "id": "5e3e5923-18ad-4cf6-b4e5-e87f8854700b",
   "metadata": {},
   "outputs": [],
   "source": [
    "# Fetching train and test data\n",
    "advertising_df_train= advertising_df_sample[advertising_df_sample['sampleid'] == 1].drop('sampleid', axis=1)\n",
    "advertising_df_test = advertising_df_sample[advertising_df_sample['sampleid'] == 2].drop('sampleid', axis=1)"
   ]
  },
  {
   "cell_type": "code",
   "execution_count": 11,
   "id": "83d72a72-3fac-4862-b374-d21ab59be1a6",
   "metadata": {},
   "outputs": [
    {
     "data": {
      "text/plain": [
       "(160, 4)"
      ]
     },
     "execution_count": 11,
     "metadata": {},
     "output_type": "execute_result"
    }
   ],
   "source": [
    "# train data shape\n",
    "advertising_df_train.shape"
   ]
  },
  {
   "cell_type": "code",
   "execution_count": 12,
   "id": "b22be730-8a7a-40f3-8e2a-cabd8d1f427f",
   "metadata": {},
   "outputs": [
    {
     "data": {
      "text/plain": [
       "(40, 4)"
      ]
     },
     "execution_count": 12,
     "metadata": {},
     "output_type": "execute_result"
    }
   ],
   "source": [
    "# test data shape\n",
    "advertising_df_test.shape"
   ]
  },
  {
   "cell_type": "code",
   "execution_count": 13,
   "id": "18473df2-be15-4e1e-bc5e-739abacf8b89",
   "metadata": {},
   "outputs": [
    {
     "data": {
      "text/html": [
       "<style type=\"text/css\">\n",
       "\ttable {border:ridge 5px;}\n",
       "\ttable td {border:inset 1px;}\n",
       "\ttable tr#HeaderRow {background-color:grey; color:white;}</style>\n",
       "<html><table>\n",
       "\t<tr id=\"HeaderRow\">\n",
       "\t\t<th>TV</th>\n",
       "\t\t<th>Radio</th>\n",
       "\t\t<th>Newspaper</th>\n",
       "\t\t<th>Sales</th>\n",
       "\t</tr>\n",
       "\t<tr>\n",
       "\t\t<td>5.4</td>\n",
       "\t\t<td>29.9</td>\n",
       "\t\t<td>9.4</td>\n",
       "\t\t<td>5.3</td>\n",
       "\t</tr>\n",
       "\t<tr>\n",
       "\t\t<td>8.7</td>\n",
       "\t\t<td>48.9</td>\n",
       "\t\t<td>75.0</td>\n",
       "\t\t<td>7.2</td>\n",
       "\t</tr>\n",
       "\t<tr>\n",
       "\t\t<td>11.7</td>\n",
       "\t\t<td>36.9</td>\n",
       "\t\t<td>45.2</td>\n",
       "\t\t<td>7.3</td>\n",
       "\t</tr>\n",
       "\t<tr>\n",
       "\t\t<td>13.2</td>\n",
       "\t\t<td>15.9</td>\n",
       "\t\t<td>49.6</td>\n",
       "\t\t<td>5.6</td>\n",
       "\t</tr>\n",
       "\t<tr>\n",
       "\t\t<td>17.2</td>\n",
       "\t\t<td>4.1</td>\n",
       "\t\t<td>31.6</td>\n",
       "\t\t<td>5.9</td>\n",
       "\t</tr>\n",
       "\t<tr>\n",
       "\t\t<td>17.9</td>\n",
       "\t\t<td>37.6</td>\n",
       "\t\t<td>21.6</td>\n",
       "\t\t<td>8.0</td>\n",
       "\t</tr>\n",
       "\t<tr>\n",
       "\t\t<td>17.2</td>\n",
       "\t\t<td>45.9</td>\n",
       "\t\t<td>69.3</td>\n",
       "\t\t<td>12.0</td>\n",
       "\t</tr>\n",
       "\t<tr>\n",
       "\t\t<td>7.8</td>\n",
       "\t\t<td>38.9</td>\n",
       "\t\t<td>50.6</td>\n",
       "\t\t<td>6.6</td>\n",
       "\t</tr>\n",
       "\t<tr>\n",
       "\t\t<td>4.1</td>\n",
       "\t\t<td>11.6</td>\n",
       "\t\t<td>5.7</td>\n",
       "\t\t<td>3.2</td>\n",
       "\t</tr>\n",
       "\t<tr>\n",
       "\t\t<td>0.7</td>\n",
       "\t\t<td>39.6</td>\n",
       "\t\t<td>8.7</td>\n",
       "\t\t<td>1.6</td>\n",
       "\t</tr>\n",
       "</table></html>"
      ],
      "text/plain": [
       "     TV  Radio  Newspaper  Sales\n",
       "0   5.4   29.9        9.4    5.3\n",
       "1   8.7   48.9       75.0    7.2\n",
       "2  11.7   36.9       45.2    7.3\n",
       "3  13.2   15.9       49.6    5.6\n",
       "4  17.2    4.1       31.6    5.9\n",
       "5  17.9   37.6       21.6    8.0\n",
       "6  17.2   45.9       69.3   12.0\n",
       "7   7.8   38.9       50.6    6.6\n",
       "8   4.1   11.6        5.7    3.2\n",
       "9   0.7   39.6        8.7    1.6"
      ]
     },
     "execution_count": 13,
     "metadata": {},
     "output_type": "execute_result"
    }
   ],
   "source": [
    "#train dataset\n",
    "advertising_df_train.head()"
   ]
  },
  {
   "cell_type": "code",
   "execution_count": 14,
   "id": "58c9d763-4f19-449e-a35b-676d4d026acc",
   "metadata": {},
   "outputs": [
    {
     "data": {
      "text/html": [
       "<style type=\"text/css\">\n",
       "\ttable {border:ridge 5px;}\n",
       "\ttable td {border:inset 1px;}\n",
       "\ttable tr#HeaderRow {background-color:grey; color:white;}</style>\n",
       "<html><table>\n",
       "\t<tr id=\"HeaderRow\">\n",
       "\t\t<th>TV</th>\n",
       "\t\t<th>Radio</th>\n",
       "\t\t<th>Newspaper</th>\n",
       "\t\t<th>Sales</th>\n",
       "\t</tr>\n",
       "\t<tr>\n",
       "\t\t<td>8.6</td>\n",
       "\t\t<td>2.1</td>\n",
       "\t\t<td>1.0</td>\n",
       "\t\t<td>4.8</td>\n",
       "\t</tr>\n",
       "\t<tr>\n",
       "\t\t<td>16.9</td>\n",
       "\t\t<td>43.7</td>\n",
       "\t\t<td>89.4</td>\n",
       "\t\t<td>8.7</td>\n",
       "\t</tr>\n",
       "\t<tr>\n",
       "\t\t<td>19.4</td>\n",
       "\t\t<td>16.0</td>\n",
       "\t\t<td>22.3</td>\n",
       "\t\t<td>6.6</td>\n",
       "\t</tr>\n",
       "\t<tr>\n",
       "\t\t<td>23.8</td>\n",
       "\t\t<td>35.1</td>\n",
       "\t\t<td>65.9</td>\n",
       "\t\t<td>9.2</td>\n",
       "\t</tr>\n",
       "\t<tr>\n",
       "\t\t<td>31.5</td>\n",
       "\t\t<td>24.6</td>\n",
       "\t\t<td>2.2</td>\n",
       "\t\t<td>11.0</td>\n",
       "\t</tr>\n",
       "\t<tr>\n",
       "\t\t<td>36.9</td>\n",
       "\t\t<td>38.6</td>\n",
       "\t\t<td>65.6</td>\n",
       "\t\t<td>10.8</td>\n",
       "\t</tr>\n",
       "\t<tr>\n",
       "\t\t<td>25.0</td>\n",
       "\t\t<td>11.0</td>\n",
       "\t\t<td>29.7</td>\n",
       "\t\t<td>7.2</td>\n",
       "\t</tr>\n",
       "\t<tr>\n",
       "\t\t<td>13.1</td>\n",
       "\t\t<td>0.4</td>\n",
       "\t\t<td>25.6</td>\n",
       "\t\t<td>5.3</td>\n",
       "\t</tr>\n",
       "\t<tr>\n",
       "\t\t<td>8.4</td>\n",
       "\t\t<td>27.2</td>\n",
       "\t\t<td>2.1</td>\n",
       "\t\t<td>5.7</td>\n",
       "\t</tr>\n",
       "\t<tr>\n",
       "\t\t<td>7.3</td>\n",
       "\t\t<td>28.1</td>\n",
       "\t\t<td>41.4</td>\n",
       "\t\t<td>5.5</td>\n",
       "\t</tr>\n",
       "</table></html>"
      ],
      "text/plain": [
       "     TV  Radio  Newspaper  Sales\n",
       "0   8.6    2.1        1.0    4.8\n",
       "1  16.9   43.7       89.4    8.7\n",
       "2  19.4   16.0       22.3    6.6\n",
       "3  23.8   35.1       65.9    9.2\n",
       "4  31.5   24.6        2.2   11.0\n",
       "5  36.9   38.6       65.6   10.8\n",
       "6  25.0   11.0       29.7    7.2\n",
       "7  13.1    0.4       25.6    5.3\n",
       "8   8.4   27.2        2.1    5.7\n",
       "9   7.3   28.1       41.4    5.5"
      ]
     },
     "execution_count": 14,
     "metadata": {},
     "output_type": "execute_result"
    }
   ],
   "source": [
    "# test dataset\n",
    "advertising_df_test.head()"
   ]
  },
  {
   "cell_type": "markdown",
   "id": "856ea871-93d8-4ea2-b524-1acb23bd7eb5",
   "metadata": {},
   "source": [
    "## <b><span style='color:#F1A424'>| 2.</span> Fitting AutoML </b>"
   ]
  },
  {
   "cell_type": "code",
   "execution_count": 15,
   "id": "f3650aa5-a408-4227-a88d-79c0f3d36d3c",
   "metadata": {},
   "outputs": [],
   "source": [
    "# Creating AutoRegressor instance\n",
    "# Using all models from model training.\n",
    "# Keeping early stopping timer threshold to 500 sec\n",
    "# and verbose level 2 for detailed loggging\n",
    "\n",
    "aml = AutoRegressor(max_runtime_secs=500, \n",
    "                    verbose=2)"
   ]
  },
  {
   "cell_type": "code",
   "execution_count": 17,
   "id": "a1b7a771-1bfa-40c9-8ad0-c377d320c137",
   "metadata": {},
   "outputs": [
    {
     "data": {
      "text/html": [
       "\n",
       "            <style>\n",
       "                .custom-div {\n",
       "                    background-color: lightgray;\n",
       "                    color: #000000;\n",
       "                    padding: 10px;\n",
       "                    border-radius: 8px;\n",
       "                    box-shadow: 0 3px 4px rgba(0, 0, 0, 0.2);\n",
       "                    margin-bottom: 10px;\n",
       "                    text-align: center;\n",
       "                }\n",
       "            </style>\n",
       "        <br><div class=\"custom-div\"><h3><span style=\"color: green;\"></span>1. Feature Exploration -> 2. Feature Engineering -> 3. Data Preparation -> 4. Model Training & Evaluation<center></h3></center></div>"
      ],
      "text/plain": [
       "<IPython.core.display.HTML object>"
      ]
     },
     "metadata": {},
     "output_type": "display_data"
    },
    {
     "name": "stdout",
     "output_type": "stream",
     "text": [
      "Feature Exploration started ...\n",
      "\n",
      "Data Overview:\n",
      "Total Rows in the data: 160\n",
      "Total Columns in the data: 4\n",
      "\n",
      "Column Summary:\n"
     ]
    },
    {
     "data": {
      "text/html": [
       "<style type=\"text/css\">\n",
       "\ttable {border:ridge 5px;}\n",
       "\ttable td {border:inset 1px;}\n",
       "\ttable tr#HeaderRow {background-color:grey; color:white;}</style>\n",
       "<html><table>\n",
       "\t<tr id=\"HeaderRow\">\n",
       "\t\t<th>ColumnName</th>\n",
       "\t\t<th>Datatype</th>\n",
       "\t\t<th>NonNullCount</th>\n",
       "\t\t<th>NullCount</th>\n",
       "\t\t<th>BlankCount</th>\n",
       "\t\t<th>ZeroCount</th>\n",
       "\t\t<th>PositiveCount</th>\n",
       "\t\t<th>NegativeCount</th>\n",
       "\t\t<th>NullPercentage</th>\n",
       "\t\t<th>NonNullPercentage</th>\n",
       "\t</tr>\n",
       "\t<tr>\n",
       "\t\t<td>Radio</td>\n",
       "\t\t<td>FLOAT</td>\n",
       "\t\t<td>160</td>\n",
       "\t\t<td>0</td>\n",
       "\t\t<td>None</td>\n",
       "\t\t<td>1</td>\n",
       "\t\t<td>159</td>\n",
       "\t\t<td>0</td>\n",
       "\t\t<td>0.0</td>\n",
       "\t\t<td>100.0</td>\n",
       "\t</tr>\n",
       "\t<tr>\n",
       "\t\t<td>Newspaper</td>\n",
       "\t\t<td>FLOAT</td>\n",
       "\t\t<td>160</td>\n",
       "\t\t<td>0</td>\n",
       "\t\t<td>None</td>\n",
       "\t\t<td>0</td>\n",
       "\t\t<td>160</td>\n",
       "\t\t<td>0</td>\n",
       "\t\t<td>0.0</td>\n",
       "\t\t<td>100.0</td>\n",
       "\t</tr>\n",
       "\t<tr>\n",
       "\t\t<td>Sales</td>\n",
       "\t\t<td>FLOAT</td>\n",
       "\t\t<td>160</td>\n",
       "\t\t<td>0</td>\n",
       "\t\t<td>None</td>\n",
       "\t\t<td>0</td>\n",
       "\t\t<td>160</td>\n",
       "\t\t<td>0</td>\n",
       "\t\t<td>0.0</td>\n",
       "\t\t<td>100.0</td>\n",
       "\t</tr>\n",
       "\t<tr>\n",
       "\t\t<td>TV</td>\n",
       "\t\t<td>FLOAT</td>\n",
       "\t\t<td>160</td>\n",
       "\t\t<td>0</td>\n",
       "\t\t<td>None</td>\n",
       "\t\t<td>0</td>\n",
       "\t\t<td>160</td>\n",
       "\t\t<td>0</td>\n",
       "\t\t<td>0.0</td>\n",
       "\t\t<td>100.0</td>\n",
       "\t</tr>\n",
       "</table></html>"
      ],
      "text/plain": [
       "           Datatype  NonNullCount  NullCount BlankCount  ZeroCount  PositiveCount  NegativeCount  NullPercentage  NonNullPercentage\n",
       "ColumnName                                                                                                                         \n",
       "Radio         FLOAT           160          0       None          1            159              0             0.0              100.0\n",
       "Newspaper     FLOAT           160          0       None          0            160              0             0.0              100.0\n",
       "Sales         FLOAT           160          0       None          0            160              0             0.0              100.0\n",
       "TV            FLOAT           160          0       None          0            160              0             0.0              100.0"
      ]
     },
     "metadata": {},
     "output_type": "display_data"
    },
    {
     "name": "stdout",
     "output_type": "stream",
     "text": [
      "\n",
      "Statistics of Data:\n"
     ]
    },
    {
     "data": {
      "text/html": [
       "<style type=\"text/css\">\n",
       "\ttable {border:ridge 5px;}\n",
       "\ttable td {border:inset 1px;}\n",
       "\ttable tr#HeaderRow {background-color:grey; color:white;}</style>\n",
       "<html><table>\n",
       "\t<tr id=\"HeaderRow\">\n",
       "\t\t<th>func</th>\n",
       "\t\t<th>TV</th>\n",
       "\t\t<th>Radio</th>\n",
       "\t\t<th>Newspaper</th>\n",
       "\t\t<th>Sales</th>\n",
       "\t</tr>\n",
       "\t<tr>\n",
       "\t\t<td>min</td>\n",
       "\t\t<td>0.7</td>\n",
       "\t\t<td>0</td>\n",
       "\t\t<td>0.3</td>\n",
       "\t\t<td>1.6</td>\n",
       "\t</tr>\n",
       "\t<tr>\n",
       "\t\t<td>std</td>\n",
       "\t\t<td>84.174</td>\n",
       "\t\t<td>14.951</td>\n",
       "\t\t<td>21.175</td>\n",
       "\t\t<td>5.259</td>\n",
       "\t</tr>\n",
       "\t<tr>\n",
       "\t\t<td>25%</td>\n",
       "\t\t<td>75.45</td>\n",
       "\t\t<td>10.75</td>\n",
       "\t\t<td>12.75</td>\n",
       "\t\t<td>11.3</td>\n",
       "\t</tr>\n",
       "\t<tr>\n",
       "\t\t<td>50%</td>\n",
       "\t\t<td>165.05</td>\n",
       "\t\t<td>23.45</td>\n",
       "\t\t<td>24.95</td>\n",
       "\t\t<td>16.5</td>\n",
       "\t</tr>\n",
       "\t<tr>\n",
       "\t\t<td>75%</td>\n",
       "\t\t<td>219.925</td>\n",
       "\t\t<td>37.075</td>\n",
       "\t\t<td>43.55</td>\n",
       "\t\t<td>19.625</td>\n",
       "\t</tr>\n",
       "\t<tr>\n",
       "\t\t<td>max</td>\n",
       "\t\t<td>296.4</td>\n",
       "\t\t<td>49.6</td>\n",
       "\t\t<td>114</td>\n",
       "\t\t<td>27</td>\n",
       "\t</tr>\n",
       "\t<tr>\n",
       "\t\t<td>mean</td>\n",
       "\t\t<td>153.069</td>\n",
       "\t\t<td>23.747</td>\n",
       "\t\t<td>29.967</td>\n",
       "\t\t<td>15.531</td>\n",
       "\t</tr>\n",
       "\t<tr>\n",
       "\t\t<td>count</td>\n",
       "\t\t<td>160</td>\n",
       "\t\t<td>160</td>\n",
       "\t\t<td>160</td>\n",
       "\t\t<td>160</td>\n",
       "\t</tr>\n",
       "</table></html>"
      ],
      "text/plain": [
       "            TV    Radio  Newspaper    Sales\n",
       "func                                       \n",
       "min      0.700    0.000      0.300    1.600\n",
       "std     84.174   14.951     21.175    5.259\n",
       "25%     75.450   10.750     12.750   11.300\n",
       "50%    165.050   23.450     24.950   16.500\n",
       "75%    219.925   37.075     43.550   19.625\n",
       "max    296.400   49.600    114.000   27.000\n",
       "mean   153.069   23.747     29.967   15.531\n",
       "count  160.000  160.000    160.000  160.000"
      ]
     },
     "metadata": {},
     "output_type": "display_data"
    },
    {
     "name": "stdout",
     "output_type": "stream",
     "text": [
      "\n",
      "Target Column Distribution:\n"
     ]
    },
    {
     "data": {
      "image/png": "[encoded data removed]",
      "text/plain": [
       "<Figure size 800x600 with 1 Axes>"
      ]
     },
     "metadata": {},
     "output_type": "display_data"
    },
    {
     "name": "stdout",
     "output_type": "stream",
     "text": [
      "Columns with outlier percentage :-                                                                                                                                                                                                                                                                                                                                                                                                                                                                                  \n",
      "  ColumnName  OutlierPercentage\n",
      "0  Newspaper               1.25\n",
      "                                                                                        \r"
     ]
    },
    {
     "data": {
      "text/html": [
       "\n",
       "            <style>\n",
       "                .custom-div {\n",
       "                    background-color: lightgray;\n",
       "                    color: #000000;\n",
       "                    padding: 10px;\n",
       "                    border-radius: 8px;\n",
       "                    box-shadow: 0 3px 4px rgba(0 -  0 -  0 -  0.2);\n",
       "                    margin-bottom: 10px;\n",
       "                    text-align: center;\n",
       "                }\n",
       "            </style>\n",
       "        <br><div class=\"custom-div\"><h3><span style=\"color: green;\">1. Feature Exploration -></span> 2. Feature Engineering -> 3. Data Preparation -> 4. Model Training & Evaluation<center></h3></center></div>"
      ],
      "text/plain": [
       "<IPython.core.display.HTML object>"
      ]
     },
     "metadata": {},
     "output_type": "display_data"
    },
    {
     "name": "stdout",
     "output_type": "stream",
     "text": [
      "                                                                                        \r"
     ]
    },
    {
     "data": {
      "text/html": [
       "Feature Engineering started ..."
      ],
      "text/plain": [
       "<IPython.core.display.HTML object>"
      ]
     },
     "metadata": {},
     "output_type": "display_data"
    },
    {
     "name": "stdout",
     "output_type": "stream",
     "text": [
      "                                                                                        \r"
     ]
    },
    {
     "data": {
      "text/html": [
       "\n",
       "Handling duplicate records present in dataset ..."
      ],
      "text/plain": [
       "<IPython.core.display.HTML object>"
      ]
     },
     "metadata": {},
     "output_type": "display_data"
    },
    {
     "name": "stdout",
     "output_type": "stream",
     "text": [
      "Analysis complete. No action taken.                                                     \n",
      "                                                                                        \r"
     ]
    },
    {
     "data": {
      "text/html": [
       "Total time to handle duplicate records: 1.76 sec  "
      ],
      "text/plain": [
       "<IPython.core.display.HTML object>"
      ]
     },
     "metadata": {},
     "output_type": "display_data"
    },
    {
     "name": "stdout",
     "output_type": "stream",
     "text": [
      "                                                                                        \r"
     ]
    },
    {
     "data": {
      "text/html": [
       "\n",
       "Handling less significant features from data ..."
      ],
      "text/plain": [
       "<IPython.core.display.HTML object>"
      ]
     },
     "metadata": {},
     "output_type": "display_data"
    },
    {
     "name": "stdout",
     "output_type": "stream",
     "text": [
      "                                                                                        \r"
     ]
    },
    {
     "data": {
      "text/html": [
       "Total time to handle less significant features: 6.51 sec  "
      ],
      "text/plain": [
       "<IPython.core.display.HTML object>"
      ]
     },
     "metadata": {},
     "output_type": "display_data"
    },
    {
     "name": "stdout",
     "output_type": "stream",
     "text": [
      "                                                                                         \r"
     ]
    },
    {
     "data": {
      "text/html": [
       "\n",
       "Handling Date Features ..."
      ],
      "text/plain": [
       "<IPython.core.display.HTML object>"
      ]
     },
     "metadata": {},
     "output_type": "display_data"
    },
    {
     "name": "stdout",
     "output_type": "stream",
     "text": [
      "Dataset does not contain any feature related to dates.                                   \n",
      "                                                                                         \r"
     ]
    },
    {
     "data": {
      "text/html": [
       "Total time to handle date features: 0.00 sec\n"
      ],
      "text/plain": [
       "<IPython.core.display.HTML object>"
      ]
     },
     "metadata": {},
     "output_type": "display_data"
    },
    {
     "name": "stdout",
     "output_type": "stream",
     "text": [
      "                                                                                         \r"
     ]
    },
    {
     "data": {
      "text/html": [
       "\n",
       "Checking Missing values in dataset ..."
      ],
      "text/plain": [
       "<IPython.core.display.HTML object>"
      ]
     },
     "metadata": {},
     "output_type": "display_data"
    },
    {
     "name": "stdout",
     "output_type": "stream",
     "text": [
      "No Missing Values Detected.                                                              \n",
      "                                                                                         \r"
     ]
    },
    {
     "data": {
      "text/html": [
       "Total time to find missing values in data: 7.56 sec  "
      ],
      "text/plain": [
       "<IPython.core.display.HTML object>"
      ]
     },
     "metadata": {},
     "output_type": "display_data"
    },
    {
     "name": "stdout",
     "output_type": "stream",
     "text": [
      "                                                                                         \r"
     ]
    },
    {
     "data": {
      "text/html": [
       "\n",
       "Imputing Missing Values ..."
      ],
      "text/plain": [
       "<IPython.core.display.HTML object>"
      ]
     },
     "metadata": {},
     "output_type": "display_data"
    },
    {
     "name": "stdout",
     "output_type": "stream",
     "text": [
      "No imputation is Required.                                                               \n",
      "                                                                                         \r"
     ]
    },
    {
     "data": {
      "text/html": [
       "Time taken to perform imputation: 0.00 sec  "
      ],
      "text/plain": [
       "<IPython.core.display.HTML object>"
      ]
     },
     "metadata": {},
     "output_type": "display_data"
    },
    {
     "name": "stdout",
     "output_type": "stream",
     "text": [
      "                                                                                         \r"
     ]
    },
    {
     "data": {
      "text/html": [
       "\n",
       "Performing encoding for categorical columns ..."
      ],
      "text/plain": [
       "<IPython.core.display.HTML object>"
      ]
     },
     "metadata": {},
     "output_type": "display_data"
    },
    {
     "name": "stdout",
     "output_type": "stream",
     "text": [
      "Encoding not required.                                                                   \n",
      "                                                                                         \r"
     ]
    },
    {
     "data": {
      "text/html": [
       "Time taken to encode the columns: 1.48 sec"
      ],
      "text/plain": [
       "<IPython.core.display.HTML object>"
      ]
     },
     "metadata": {},
     "output_type": "display_data"
    },
    {
     "name": "stdout",
     "output_type": "stream",
     "text": [
      "                                                                                         \r"
     ]
    },
    {
     "data": {
      "text/html": [
       "\n",
       "            <style>\n",
       "                .custom-div {\n",
       "                    background-color: lightgray;\n",
       "                    color: #000000;\n",
       "                    padding: 10px;\n",
       "                    border-radius: 8px;\n",
       "                    box-shadow: 0 3px 4px rgba(0 -  0 -  0 -  0.2);\n",
       "                    margin-bottom: 10px;\n",
       "                    text-align: center;\n",
       "                }\n",
       "            </style>\n",
       "        <br><div class=\"custom-div\"><h3><span style=\"color: green;\">1. Feature Exploration -> 2. Feature Engineering -></span> 3. Data Preparation -> 4. Model Training & Evaluation<center></h3></center></div>"
      ],
      "text/plain": [
       "<IPython.core.display.HTML object>"
      ]
     },
     "metadata": {},
     "output_type": "display_data"
    },
    {
     "name": "stdout",
     "output_type": "stream",
     "text": [
      "                                                                                         \r"
     ]
    },
    {
     "data": {
      "text/html": [
       "Data preparation started ..."
      ],
      "text/plain": [
       "<IPython.core.display.HTML object>"
      ]
     },
     "metadata": {},
     "output_type": "display_data"
    },
    {
     "name": "stdout",
     "output_type": "stream",
     "text": [
      "                                                                                         \r"
     ]
    },
    {
     "data": {
      "text/html": [
       "\n",
       "Spliting of dataset into training and testing ..."
      ],
      "text/plain": [
       "<IPython.core.display.HTML object>"
      ]
     },
     "metadata": {},
     "output_type": "display_data"
    },
    {
     "name": "stdout",
     "output_type": "stream",
     "text": [
      "Training size : 0.8                                                                      \n",
      "Testing size  : 0.2                                                                      \n",
      "                                                                                         \r"
     ]
    },
    {
     "data": {
      "text/html": [
       "Training data sample"
      ],
      "text/plain": [
       "<IPython.core.display.HTML object>"
      ]
     },
     "metadata": {},
     "output_type": "display_data"
    },
    {
     "data": {
      "text/html": [
       "<style type=\"text/css\">\n",
       "\ttable {border:ridge 5px;}\n",
       "\ttable td {border:inset 1px;}\n",
       "\ttable tr#HeaderRow {background-color:grey; color:white;}</style>\n",
       "<html><table>\n",
       "\t<tr id=\"HeaderRow\">\n",
       "\t\t<th>TV</th>\n",
       "\t\t<th>Radio</th>\n",
       "\t\t<th>Newspaper</th>\n",
       "\t\t<th>Sales</th>\n",
       "\t\t<th>id</th>\n",
       "\t</tr>\n",
       "\t<tr>\n",
       "\t\t<td>220.3</td>\n",
       "\t\t<td>49.0</td>\n",
       "\t\t<td>3.2</td>\n",
       "\t\t<td>24.7</td>\n",
       "\t\t<td>9</td>\n",
       "\t</tr>\n",
       "\t<tr>\n",
       "\t\t<td>137.9</td>\n",
       "\t\t<td>46.4</td>\n",
       "\t\t<td>59.0</td>\n",
       "\t\t<td>15.0</td>\n",
       "\t\t<td>10</td>\n",
       "\t</tr>\n",
       "\t<tr>\n",
       "\t\t<td>210.7</td>\n",
       "\t\t<td>29.5</td>\n",
       "\t\t<td>9.3</td>\n",
       "\t\t<td>18.4</td>\n",
       "\t\t<td>18</td>\n",
       "\t</tr>\n",
       "\t<tr>\n",
       "\t\t<td>149.7</td>\n",
       "\t\t<td>35.6</td>\n",
       "\t\t<td>6.0</td>\n",
       "\t\t<td>17.3</td>\n",
       "\t\t<td>12</td>\n",
       "\t</tr>\n",
       "\t<tr>\n",
       "\t\t<td>218.5</td>\n",
       "\t\t<td>5.4</td>\n",
       "\t\t<td>27.4</td>\n",
       "\t\t<td>17.2</td>\n",
       "\t\t<td>15</td>\n",
       "\t</tr>\n",
       "\t<tr>\n",
       "\t\t<td>228.0</td>\n",
       "\t\t<td>37.7</td>\n",
       "\t\t<td>32.0</td>\n",
       "\t\t<td>21.5</td>\n",
       "\t\t<td>23</td>\n",
       "\t</tr>\n",
       "\t<tr>\n",
       "\t\t<td>255.4</td>\n",
       "\t\t<td>26.9</td>\n",
       "\t\t<td>5.5</td>\n",
       "\t\t<td>19.8</td>\n",
       "\t\t<td>14</td>\n",
       "\t</tr>\n",
       "\t<tr>\n",
       "\t\t<td>38.2</td>\n",
       "\t\t<td>3.7</td>\n",
       "\t\t<td>13.8</td>\n",
       "\t\t<td>7.6</td>\n",
       "\t\t<td>22</td>\n",
       "\t</tr>\n",
       "\t<tr>\n",
       "\t\t<td>239.9</td>\n",
       "\t\t<td>41.5</td>\n",
       "\t\t<td>18.5</td>\n",
       "\t\t<td>23.2</td>\n",
       "\t\t<td>13</td>\n",
       "\t</tr>\n",
       "\t<tr>\n",
       "\t\t<td>280.2</td>\n",
       "\t\t<td>10.1</td>\n",
       "\t\t<td>21.4</td>\n",
       "\t\t<td>19.8</td>\n",
       "\t\t<td>21</td>\n",
       "\t</tr>\n",
       "</table></html>"
      ],
      "text/plain": [
       "      TV  Radio  Newspaper  Sales  id\n",
       "0  220.3   49.0        3.2   24.7   9\n",
       "1  137.9   46.4       59.0   15.0  10\n",
       "2  210.7   29.5        9.3   18.4  18\n",
       "3  149.7   35.6        6.0   17.3  12\n",
       "4  218.5    5.4       27.4   17.2  15\n",
       "5  228.0   37.7       32.0   21.5  23\n",
       "6  255.4   26.9        5.5   19.8  14\n",
       "7   38.2    3.7       13.8    7.6  22\n",
       "8  239.9   41.5       18.5   23.2  13\n",
       "9  280.2   10.1       21.4   19.8  21"
      ]
     },
     "metadata": {},
     "output_type": "display_data"
    },
    {
     "name": "stdout",
     "output_type": "stream",
     "text": [
      "                                                                                         \r"
     ]
    },
    {
     "data": {
      "text/html": [
       "Testing data sample"
      ],
      "text/plain": [
       "<IPython.core.display.HTML object>"
      ]
     },
     "metadata": {},
     "output_type": "display_data"
    },
    {
     "data": {
      "text/html": [
       "<style type=\"text/css\">\n",
       "\ttable {border:ridge 5px;}\n",
       "\ttable td {border:inset 1px;}\n",
       "\ttable tr#HeaderRow {background-color:grey; color:white;}</style>\n",
       "<html><table>\n",
       "\t<tr id=\"HeaderRow\">\n",
       "\t\t<th>TV</th>\n",
       "\t\t<th>Radio</th>\n",
       "\t\t<th>Newspaper</th>\n",
       "\t\t<th>Sales</th>\n",
       "\t\t<th>id</th>\n",
       "\t</tr>\n",
       "\t<tr>\n",
       "\t\t<td>39.5</td>\n",
       "\t\t<td>41.1</td>\n",
       "\t\t<td>5.8</td>\n",
       "\t\t<td>10.8</td>\n",
       "\t\t<td>26</td>\n",
       "\t</tr>\n",
       "\t<tr>\n",
       "\t\t<td>93.9</td>\n",
       "\t\t<td>43.5</td>\n",
       "\t\t<td>50.5</td>\n",
       "\t\t<td>15.3</td>\n",
       "\t\t<td>24</td>\n",
       "\t</tr>\n",
       "\t<tr>\n",
       "\t\t<td>165.6</td>\n",
       "\t\t<td>10.0</td>\n",
       "\t\t<td>17.6</td>\n",
       "\t\t<td>17.6</td>\n",
       "\t\t<td>30</td>\n",
       "\t</tr>\n",
       "\t<tr>\n",
       "\t\t<td>171.3</td>\n",
       "\t\t<td>39.7</td>\n",
       "\t\t<td>37.7</td>\n",
       "\t\t<td>16.0</td>\n",
       "\t\t<td>126</td>\n",
       "\t</tr>\n",
       "\t<tr>\n",
       "\t\t<td>209.6</td>\n",
       "\t\t<td>20.6</td>\n",
       "\t\t<td>10.7</td>\n",
       "\t\t<td>20.9</td>\n",
       "\t\t<td>124</td>\n",
       "\t</tr>\n",
       "\t<tr>\n",
       "\t\t<td>265.6</td>\n",
       "\t\t<td>20.0</td>\n",
       "\t\t<td>0.3</td>\n",
       "\t\t<td>17.4</td>\n",
       "\t\t<td>27</td>\n",
       "\t</tr>\n",
       "\t<tr>\n",
       "\t\t<td>44.5</td>\n",
       "\t\t<td>39.3</td>\n",
       "\t\t<td>45.1</td>\n",
       "\t\t<td>10.4</td>\n",
       "\t\t<td>115</td>\n",
       "\t</tr>\n",
       "\t<tr>\n",
       "\t\t<td>163.3</td>\n",
       "\t\t<td>31.6</td>\n",
       "\t\t<td>52.9</td>\n",
       "\t\t<td>16.9</td>\n",
       "\t\t<td>31</td>\n",
       "\t</tr>\n",
       "\t<tr>\n",
       "\t\t<td>17.2</td>\n",
       "\t\t<td>45.9</td>\n",
       "\t\t<td>69.3</td>\n",
       "\t\t<td>12.0</td>\n",
       "\t\t<td>127</td>\n",
       "\t</tr>\n",
       "\t<tr>\n",
       "\t\t<td>68.4</td>\n",
       "\t\t<td>44.5</td>\n",
       "\t\t<td>35.6</td>\n",
       "\t\t<td>13.6</td>\n",
       "\t\t<td>29</td>\n",
       "\t</tr>\n",
       "</table></html>"
      ],
      "text/plain": [
       "      TV  Radio  Newspaper  Sales   id\n",
       "0   39.5   41.1        5.8   10.8   26\n",
       "1   93.9   43.5       50.5   15.3   24\n",
       "2  165.6   10.0       17.6   17.6   30\n",
       "3  171.3   39.7       37.7   16.0  126\n",
       "4  209.6   20.6       10.7   20.9  124\n",
       "5  265.6   20.0        0.3   17.4   27\n",
       "6   44.5   39.3       45.1   10.4  115\n",
       "7  163.3   31.6       52.9   16.9   31\n",
       "8   17.2   45.9       69.3   12.0  127\n",
       "9   68.4   44.5       35.6   13.6   29"
      ]
     },
     "metadata": {},
     "output_type": "display_data"
    },
    {
     "name": "stdout",
     "output_type": "stream",
     "text": [
      "                                                                                         \r"
     ]
    },
    {
     "data": {
      "text/html": [
       "Time taken for spliting of data: 9.50 sec  "
      ],
      "text/plain": [
       "<IPython.core.display.HTML object>"
      ]
     },
     "metadata": {},
     "output_type": "display_data"
    },
    {
     "name": "stdout",
     "output_type": "stream",
     "text": [
      "                                                                                         \r"
     ]
    },
    {
     "data": {
      "text/html": [
       "\n",
       "Outlier preprocessing ..."
      ],
      "text/plain": [
       "<IPython.core.display.HTML object>"
      ]
     },
     "metadata": {},
     "output_type": "display_data"
    },
    {
     "name": "stdout",
     "output_type": "stream",
     "text": [
      "Columns with outlier percentage :-                                                                                                                                                                                                                                                                                                                                                                                                                                                                                  \n",
      "  ColumnName  OutlierPercentage\n",
      "0  Newspaper               1.25\n",
      "                                                                                         \r"
     ]
    },
    {
     "data": {
      "text/html": [
       "Deleting rows of these columns:"
      ],
      "text/plain": [
       "<IPython.core.display.HTML object>"
      ]
     },
     "metadata": {},
     "output_type": "display_data"
    },
    {
     "name": "stdout",
     "output_type": "stream",
     "text": [
      "['Newspaper']\n",
      "result data stored in table '\"AUTOML_USR\".\"ml__td_sqlmr_persist_out__1712117176256535\"'19\n",
      "                                                                                         \r"
     ]
    },
    {
     "data": {
      "text/html": [
       "Time Taken by Outlier processing: 35.29 sec "
      ],
      "text/plain": [
       "<IPython.core.display.HTML object>"
      ]
     },
     "metadata": {},
     "output_type": "display_data"
    },
    {
     "name": "stdout",
     "output_type": "stream",
     "text": [
      "result data stored in table '\"AUTOML_USR\".\"ml__td_sqlmr_persist_out__1712118150379222\"'19\n",
      "result data stored in table '\"AUTOML_USR\".\"ml__td_sqlmr_persist_out__1712115029009697\"'\n",
      "                                                                                          \r"
     ]
    },
    {
     "data": {
      "text/html": [
       "\n",
       "Feature selection using lasso ..."
      ],
      "text/plain": [
       "<IPython.core.display.HTML object>"
      ]
     },
     "metadata": {},
     "output_type": "display_data"
    },
    {
     "name": "stdout",
     "output_type": "stream",
     "text": [
      "                                                                                          \r"
     ]
    },
    {
     "data": {
      "text/html": [
       "feature selected by lasso:"
      ],
      "text/plain": [
       "<IPython.core.display.HTML object>"
      ]
     },
     "metadata": {},
     "output_type": "display_data"
    },
    {
     "name": "stdout",
     "output_type": "stream",
     "text": [
      "['TV', 'Radio', 'Newspaper']\n",
      "                                                                                          \r"
     ]
    },
    {
     "data": {
      "text/html": [
       "Total time taken by feature selection: 0.47 sec  "
      ],
      "text/plain": [
       "<IPython.core.display.HTML object>"
      ]
     },
     "metadata": {},
     "output_type": "display_data"
    },
    {
     "name": "stdout",
     "output_type": "stream",
     "text": [
      "                                                                                          \r"
     ]
    },
    {
     "data": {
      "text/html": [
       "\n",
       "scaling Features of lasso data ..."
      ],
      "text/plain": [
       "<IPython.core.display.HTML object>"
      ]
     },
     "metadata": {},
     "output_type": "display_data"
    },
    {
     "name": "stdout",
     "output_type": "stream",
     "text": [
      "                                                                                          \r"
     ]
    },
    {
     "data": {
      "text/html": [
       "columns that will be scaled: "
      ],
      "text/plain": [
       "<IPython.core.display.HTML object>"
      ]
     },
     "metadata": {},
     "output_type": "display_data"
    },
    {
     "name": "stdout",
     "output_type": "stream",
     "text": [
      "['TV', 'Radio', 'Newspaper']\n",
      "                                                                                          \r"
     ]
    },
    {
     "data": {
      "text/html": [
       "Training dataset sample after scaling:"
      ],
      "text/plain": [
       "<IPython.core.display.HTML object>"
      ]
     },
     "metadata": {},
     "output_type": "display_data"
    },
    {
     "data": {
      "text/html": [
       "<style type=\"text/css\">\n",
       "\ttable {border:ridge 5px;}\n",
       "\ttable td {border:inset 1px;}\n",
       "\ttable tr#HeaderRow {background-color:grey; color:white;}</style>\n",
       "<html><table>\n",
       "\t<tr id=\"HeaderRow\">\n",
       "\t\t<th>id</th>\n",
       "\t\t<th>Sales</th>\n",
       "\t\t<th>TV</th>\n",
       "\t\t<th>Radio</th>\n",
       "\t\t<th>Newspaper</th>\n",
       "\t</tr>\n",
       "\t<tr>\n",
       "\t\t<td>40</td>\n",
       "\t\t<td>10.4</td>\n",
       "\t\t<td>-0.6485049986951452</td>\n",
       "\t\t<td>-1.1345834170126068</td>\n",
       "\t\t<td>0.3270685438509377</td>\n",
       "\t</tr>\n",
       "\t<tr>\n",
       "\t\t<td>80</td>\n",
       "\t\t<td>27.0</td>\n",
       "\t\t<td>1.421953952270581</td>\n",
       "\t\t<td>1.7606228346788377</td>\n",
       "\t\t<td>0.7158481337114863</td>\n",
       "\t</tr>\n",
       "\t<tr>\n",
       "\t\t<td>99</td>\n",
       "\t\t<td>20.6</td>\n",
       "\t\t<td>0.35127552783038285</td>\n",
       "\t\t<td>-0.10249600321519345</td>\n",
       "\t\t<td>-0.9811222382473948</td>\n",
       "\t</tr>\n",
       "\t<tr>\n",
       "\t\t<td>141</td>\n",
       "\t\t<td>17.5</td>\n",
       "\t\t<td>0.07128891403176733</td>\n",
       "\t\t<td>-0.1158997358619133</td>\n",
       "\t\t<td>1.0100597152275772</td>\n",
       "\t</tr>\n",
       "\t<tr>\n",
       "\t\t<td>76</td>\n",
       "\t\t<td>21.2</td>\n",
       "\t\t<td>0.28878924492253716</td>\n",
       "\t\t<td>1.579672443948123</td>\n",
       "\t\t<td>1.603736656501118</td>\n",
       "\t</tr>\n",
       "\t<tr>\n",
       "\t\t<td>17</td>\n",
       "\t\t<td>5.3</td>\n",
       "\t\t<td>-1.8405510110909666</td>\n",
       "\t\t<td>0.48726823324047097</td>\n",
       "\t\t<td>-0.9863760164887534</td>\n",
       "\t</tr>\n",
       "\t<tr>\n",
       "\t\t<td>162</td>\n",
       "\t\t<td>10.9</td>\n",
       "\t\t<td>-1.448810083630243</td>\n",
       "\t\t<td>1.1842623308698927</td>\n",
       "\t\t<td>-0.8550315604547843</td>\n",
       "\t</tr>\n",
       "\t<tr>\n",
       "\t\t<td>19</td>\n",
       "\t\t<td>12.2</td>\n",
       "\t\t<td>-0.2327308855006349</td>\n",
       "\t\t<td>-0.5582229132036616</td>\n",
       "\t\t<td>-0.13526394138863349</td>\n",
       "\t</tr>\n",
       "\t<tr>\n",
       "\t\t<td>101</td>\n",
       "\t\t<td>7.3</td>\n",
       "\t\t<td>-1.5617660565790408</td>\n",
       "\t\t<td>-1.4160618025937193</td>\n",
       "\t\t<td>0.25351564847191504</td>\n",
       "\t</tr>\n",
       "\t<tr>\n",
       "\t\t<td>221</td>\n",
       "\t\t<td>15.6</td>\n",
       "\t\t<td>0.49547464223310317</td>\n",
       "\t\t<td>-1.3423412730367612</td>\n",
       "\t\t<td>-0.36643018400841926</td>\n",
       "\t</tr>\n",
       "</table></html>"
      ],
      "text/plain": [
       "    id  Sales        TV     Radio  Newspaper\n",
       "0   40   10.4 -0.648505 -1.134583   0.327069\n",
       "1   80   27.0  1.421954  1.760623   0.715848\n",
       "2   99   20.6  0.351276 -0.102496  -0.981122\n",
       "3  141   17.5  0.071289 -0.115900   1.010060\n",
       "4   76   21.2  0.288789  1.579672   1.603737\n",
       "5   17    5.3 -1.840551  0.487268  -0.986376\n",
       "6  162   10.9 -1.448810  1.184262  -0.855032\n",
       "7   19   12.2 -0.232731 -0.558223  -0.135264\n",
       "8  101    7.3 -1.561766 -1.416062   0.253516\n",
       "9  221   15.6  0.495475 -1.342341  -0.366430"
      ]
     },
     "metadata": {},
     "output_type": "display_data"
    },
    {
     "name": "stdout",
     "output_type": "stream",
     "text": [
      "                                                                                          \r"
     ]
    },
    {
     "data": {
      "text/html": [
       "Testing dataset sample after scaling:"
      ],
      "text/plain": [
       "<IPython.core.display.HTML object>"
      ]
     },
     "metadata": {},
     "output_type": "display_data"
    },
    {
     "data": {
      "text/html": [
       "<style type=\"text/css\">\n",
       "\ttable {border:ridge 5px;}\n",
       "\ttable td {border:inset 1px;}\n",
       "\ttable tr#HeaderRow {background-color:grey; color:white;}</style>\n",
       "<html><table>\n",
       "\t<tr id=\"HeaderRow\">\n",
       "\t\t<th>id</th>\n",
       "\t\t<th>Sales</th>\n",
       "\t\t<th>TV</th>\n",
       "\t\t<th>Radio</th>\n",
       "\t\t<th>Newspaper</th>\n",
       "\t</tr>\n",
       "\t<tr>\n",
       "\t\t<td>175</td>\n",
       "\t\t<td>10.7</td>\n",
       "\t\t<td>-0.6989746887360972</td>\n",
       "\t\t<td>-0.8732106304015734</td>\n",
       "\t\t<td>-1.2910951544875617</td>\n",
       "\t</tr>\n",
       "\t<tr>\n",
       "\t\t<td>205</td>\n",
       "\t\t<td>15.9</td>\n",
       "\t\t<td>-0.39495488920369515</td>\n",
       "\t\t<td>0.9563988758756587</td>\n",
       "\t\t<td>2.6807611959796644</td>\n",
       "\t</tr>\n",
       "\t<tr>\n",
       "\t\t<td>194</td>\n",
       "\t\t<td>19.4</td>\n",
       "\t\t<td>0.7105716545504941</td>\n",
       "\t\t<td>0.7285354208814248</td>\n",
       "\t\t<td>1.6194979912251941</td>\n",
       "\t</tr>\n",
       "\t<tr>\n",
       "\t\t<td>28</td>\n",
       "\t\t<td>16.1</td>\n",
       "\t\t<td>0.19866479842083692</td>\n",
       "\t\t<td>-0.008669874688155993</td>\n",
       "\t\t<td>0.17470897485153358</td>\n",
       "\t</tr>\n",
       "\t<tr>\n",
       "\t\t<td>26</td>\n",
       "\t\t<td>10.8</td>\n",
       "\t\t<td>-1.430785194329903</td>\n",
       "\t\t<td>1.2378772614567717</td>\n",
       "\t\t<td>-1.175512033177669</td>\n",
       "\t</tr>\n",
       "\t<tr>\n",
       "\t\t<td>89</td>\n",
       "\t\t<td>16.0</td>\n",
       "\t\t<td>-0.33006528772247107</td>\n",
       "\t\t<td>1.3518089889538885</td>\n",
       "\t\t<td>0.0381107405762056</td>\n",
       "\t</tr>\n",
       "\t<tr>\n",
       "\t\t<td>97</td>\n",
       "\t\t<td>13.2</td>\n",
       "\t\t<td>-0.737427785910156</td>\n",
       "\t\t<td>-1.4160618025937193</td>\n",
       "\t\t<td>0.09590230123115209</td>\n",
       "\t</tr>\n",
       "\t<tr>\n",
       "\t\t<td>122</td>\n",
       "\t\t<td>18.4</td>\n",
       "\t\t<td>0.8836105918337587</td>\n",
       "\t\t<td>-0.9402292936351717</td>\n",
       "\t\t<td>-1.023152464178265</td>\n",
       "\t</tr>\n",
       "\t<tr>\n",
       "\t\t<td>156</td>\n",
       "\t\t<td>13.4</td>\n",
       "\t\t<td>-0.23152922621394528</td>\n",
       "\t\t<td>-0.544819180556942</td>\n",
       "\t\t<td>-0.9443457905578835</td>\n",
       "\t</tr>\n",
       "\t<tr>\n",
       "\t\t<td>183</td>\n",
       "\t\t<td>24.4</td>\n",
       "\t\t<td>1.4760286201716013</td>\n",
       "\t\t<td>1.1373492666063743</td>\n",
       "\t\t<td>1.4513770875017133</td>\n",
       "\t</tr>\n",
       "</table></html>"
      ],
      "text/plain": [
       "    id  Sales        TV     Radio  Newspaper\n",
       "0  175   10.7 -0.698975 -0.873211  -1.291095\n",
       "1  205   15.9 -0.394955  0.956399   2.680761\n",
       "2  194   19.4  0.710572  0.728535   1.619498\n",
       "3   28   16.1  0.198665 -0.008670   0.174709\n",
       "4   26   10.8 -1.430785  1.237877  -1.175512\n",
       "5   89   16.0 -0.330065  1.351809   0.038111\n",
       "6   97   13.2 -0.737428 -1.416062   0.095902\n",
       "7  122   18.4  0.883611 -0.940229  -1.023152\n",
       "8  156   13.4 -0.231529 -0.544819  -0.944346\n",
       "9  183   24.4  1.476029  1.137349   1.451377"
      ]
     },
     "metadata": {},
     "output_type": "display_data"
    },
    {
     "name": "stdout",
     "output_type": "stream",
     "text": [
      "                                                                                          \r"
     ]
    },
    {
     "data": {
      "text/html": [
       "Total time taken by feature scaling: 38.90 sec"
      ],
      "text/plain": [
       "<IPython.core.display.HTML object>"
      ]
     },
     "metadata": {},
     "output_type": "display_data"
    },
    {
     "name": "stdout",
     "output_type": "stream",
     "text": [
      "                                                                                          \r"
     ]
    },
    {
     "data": {
      "text/html": [
       "\n",
       "Feature selection using rfe ..."
      ],
      "text/plain": [
       "<IPython.core.display.HTML object>"
      ]
     },
     "metadata": {},
     "output_type": "display_data"
    },
    {
     "name": "stdout",
     "output_type": "stream",
     "text": [
      "                                                                                          \r"
     ]
    },
    {
     "data": {
      "text/html": [
       "feature selected by RFE:"
      ],
      "text/plain": [
       "<IPython.core.display.HTML object>"
      ]
     },
     "metadata": {},
     "output_type": "display_data"
    },
    {
     "name": "stdout",
     "output_type": "stream",
     "text": [
      "['TV', 'Radio']\n",
      "                                                                                          \r"
     ]
    },
    {
     "data": {
      "text/html": [
       "Total time taken by feature selection: 3.19 sec  "
      ],
      "text/plain": [
       "<IPython.core.display.HTML object>"
      ]
     },
     "metadata": {},
     "output_type": "display_data"
    },
    {
     "name": "stdout",
     "output_type": "stream",
     "text": [
      "                                                                                          \r"
     ]
    },
    {
     "data": {
      "text/html": [
       "\n",
       "scaling Features of rfe data ..."
      ],
      "text/plain": [
       "<IPython.core.display.HTML object>"
      ]
     },
     "metadata": {},
     "output_type": "display_data"
    },
    {
     "name": "stdout",
     "output_type": "stream",
     "text": [
      "                                                                                          \r"
     ]
    },
    {
     "data": {
      "text/html": [
       "columns that will be scaled: "
      ],
      "text/plain": [
       "<IPython.core.display.HTML object>"
      ]
     },
     "metadata": {},
     "output_type": "display_data"
    },
    {
     "name": "stdout",
     "output_type": "stream",
     "text": [
      "['r_TV', 'r_Radio']\n",
      "                                                                                          \r"
     ]
    },
    {
     "data": {
      "text/html": [
       "Training dataset sample after scaling:"
      ],
      "text/plain": [
       "<IPython.core.display.HTML object>"
      ]
     },
     "metadata": {},
     "output_type": "display_data"
    },
    {
     "data": {
      "text/html": [
       "<style type=\"text/css\">\n",
       "\ttable {border:ridge 5px;}\n",
       "\ttable td {border:inset 1px;}\n",
       "\ttable tr#HeaderRow {background-color:grey; color:white;}</style>\n",
       "<html><table>\n",
       "\t<tr id=\"HeaderRow\">\n",
       "\t\t<th>id</th>\n",
       "\t\t<th>Sales</th>\n",
       "\t\t<th>r_TV</th>\n",
       "\t\t<th>r_Radio</th>\n",
       "\t</tr>\n",
       "\t<tr>\n",
       "\t\t<td>40</td>\n",
       "\t\t<td>10.4</td>\n",
       "\t\t<td>-0.6485049986951452</td>\n",
       "\t\t<td>-1.1345834170126068</td>\n",
       "\t</tr>\n",
       "\t<tr>\n",
       "\t\t<td>80</td>\n",
       "\t\t<td>27.0</td>\n",
       "\t\t<td>1.421953952270581</td>\n",
       "\t\t<td>1.7606228346788377</td>\n",
       "\t</tr>\n",
       "\t<tr>\n",
       "\t\t<td>99</td>\n",
       "\t\t<td>20.6</td>\n",
       "\t\t<td>0.35127552783038285</td>\n",
       "\t\t<td>-0.10249600321519345</td>\n",
       "\t</tr>\n",
       "\t<tr>\n",
       "\t\t<td>141</td>\n",
       "\t\t<td>17.5</td>\n",
       "\t\t<td>0.07128891403176733</td>\n",
       "\t\t<td>-0.1158997358619133</td>\n",
       "\t</tr>\n",
       "\t<tr>\n",
       "\t\t<td>76</td>\n",
       "\t\t<td>21.2</td>\n",
       "\t\t<td>0.28878924492253716</td>\n",
       "\t\t<td>1.579672443948123</td>\n",
       "\t</tr>\n",
       "\t<tr>\n",
       "\t\t<td>17</td>\n",
       "\t\t<td>5.3</td>\n",
       "\t\t<td>-1.8405510110909666</td>\n",
       "\t\t<td>0.48726823324047097</td>\n",
       "\t</tr>\n",
       "\t<tr>\n",
       "\t\t<td>162</td>\n",
       "\t\t<td>10.9</td>\n",
       "\t\t<td>-1.448810083630243</td>\n",
       "\t\t<td>1.1842623308698927</td>\n",
       "\t</tr>\n",
       "\t<tr>\n",
       "\t\t<td>19</td>\n",
       "\t\t<td>12.2</td>\n",
       "\t\t<td>-0.2327308855006349</td>\n",
       "\t\t<td>-0.5582229132036616</td>\n",
       "\t</tr>\n",
       "\t<tr>\n",
       "\t\t<td>101</td>\n",
       "\t\t<td>7.3</td>\n",
       "\t\t<td>-1.5617660565790408</td>\n",
       "\t\t<td>-1.4160618025937193</td>\n",
       "\t</tr>\n",
       "\t<tr>\n",
       "\t\t<td>221</td>\n",
       "\t\t<td>15.6</td>\n",
       "\t\t<td>0.49547464223310317</td>\n",
       "\t\t<td>-1.3423412730367612</td>\n",
       "\t</tr>\n",
       "</table></html>"
      ],
      "text/plain": [
       "    id  Sales      r_TV   r_Radio\n",
       "0   40   10.4 -0.648505 -1.134583\n",
       "1   80   27.0  1.421954  1.760623\n",
       "2   99   20.6  0.351276 -0.102496\n",
       "3  141   17.5  0.071289 -0.115900\n",
       "4   76   21.2  0.288789  1.579672\n",
       "5   17    5.3 -1.840551  0.487268\n",
       "6  162   10.9 -1.448810  1.184262\n",
       "7   19   12.2 -0.232731 -0.558223\n",
       "8  101    7.3 -1.561766 -1.416062\n",
       "9  221   15.6  0.495475 -1.342341"
      ]
     },
     "metadata": {},
     "output_type": "display_data"
    },
    {
     "name": "stdout",
     "output_type": "stream",
     "text": [
      "                                                                                          \r"
     ]
    },
    {
     "data": {
      "text/html": [
       "Testing dataset sample after scaling:"
      ],
      "text/plain": [
       "<IPython.core.display.HTML object>"
      ]
     },
     "metadata": {},
     "output_type": "display_data"
    },
    {
     "data": {
      "text/html": [
       "<style type=\"text/css\">\n",
       "\ttable {border:ridge 5px;}\n",
       "\ttable td {border:inset 1px;}\n",
       "\ttable tr#HeaderRow {background-color:grey; color:white;}</style>\n",
       "<html><table>\n",
       "\t<tr id=\"HeaderRow\">\n",
       "\t\t<th>id</th>\n",
       "\t\t<th>Sales</th>\n",
       "\t\t<th>r_TV</th>\n",
       "\t\t<th>r_Radio</th>\n",
       "\t</tr>\n",
       "\t<tr>\n",
       "\t\t<td>175</td>\n",
       "\t\t<td>10.7</td>\n",
       "\t\t<td>-0.6989746887360972</td>\n",
       "\t\t<td>-0.8732106304015734</td>\n",
       "\t</tr>\n",
       "\t<tr>\n",
       "\t\t<td>205</td>\n",
       "\t\t<td>15.9</td>\n",
       "\t\t<td>-0.39495488920369515</td>\n",
       "\t\t<td>0.9563988758756587</td>\n",
       "\t</tr>\n",
       "\t<tr>\n",
       "\t\t<td>194</td>\n",
       "\t\t<td>19.4</td>\n",
       "\t\t<td>0.7105716545504941</td>\n",
       "\t\t<td>0.7285354208814248</td>\n",
       "\t</tr>\n",
       "\t<tr>\n",
       "\t\t<td>28</td>\n",
       "\t\t<td>16.1</td>\n",
       "\t\t<td>0.19866479842083692</td>\n",
       "\t\t<td>-0.008669874688155993</td>\n",
       "\t</tr>\n",
       "\t<tr>\n",
       "\t\t<td>26</td>\n",
       "\t\t<td>10.8</td>\n",
       "\t\t<td>-1.430785194329903</td>\n",
       "\t\t<td>1.2378772614567717</td>\n",
       "\t</tr>\n",
       "\t<tr>\n",
       "\t\t<td>89</td>\n",
       "\t\t<td>16.0</td>\n",
       "\t\t<td>-0.33006528772247107</td>\n",
       "\t\t<td>1.3518089889538885</td>\n",
       "\t</tr>\n",
       "\t<tr>\n",
       "\t\t<td>97</td>\n",
       "\t\t<td>13.2</td>\n",
       "\t\t<td>-0.737427785910156</td>\n",
       "\t\t<td>-1.4160618025937193</td>\n",
       "\t</tr>\n",
       "\t<tr>\n",
       "\t\t<td>122</td>\n",
       "\t\t<td>18.4</td>\n",
       "\t\t<td>0.8836105918337587</td>\n",
       "\t\t<td>-0.9402292936351717</td>\n",
       "\t</tr>\n",
       "\t<tr>\n",
       "\t\t<td>156</td>\n",
       "\t\t<td>13.4</td>\n",
       "\t\t<td>-0.23152922621394528</td>\n",
       "\t\t<td>-0.544819180556942</td>\n",
       "\t</tr>\n",
       "\t<tr>\n",
       "\t\t<td>183</td>\n",
       "\t\t<td>24.4</td>\n",
       "\t\t<td>1.4760286201716013</td>\n",
       "\t\t<td>1.1373492666063743</td>\n",
       "\t</tr>\n",
       "</table></html>"
      ],
      "text/plain": [
       "    id  Sales      r_TV   r_Radio\n",
       "0  175   10.7 -0.698975 -0.873211\n",
       "1  205   15.9 -0.394955  0.956399\n",
       "2  194   19.4  0.710572  0.728535\n",
       "3   28   16.1  0.198665 -0.008670\n",
       "4   26   10.8 -1.430785  1.237877\n",
       "5   89   16.0 -0.330065  1.351809\n",
       "6   97   13.2 -0.737428 -1.416062\n",
       "7  122   18.4  0.883611 -0.940229\n",
       "8  156   13.4 -0.231529 -0.544819\n",
       "9  183   24.4  1.476029  1.137349"
      ]
     },
     "metadata": {},
     "output_type": "display_data"
    },
    {
     "name": "stdout",
     "output_type": "stream",
     "text": [
      "                                                                                          \r"
     ]
    },
    {
     "data": {
      "text/html": [
       "Total time taken by feature scaling: 37.14 sec"
      ],
      "text/plain": [
       "<IPython.core.display.HTML object>"
      ]
     },
     "metadata": {},
     "output_type": "display_data"
    },
    {
     "name": "stdout",
     "output_type": "stream",
     "text": [
      "                                                                                          \r"
     ]
    },
    {
     "data": {
      "text/html": [
       "\n",
       "scaling Features of pca data ..."
      ],
      "text/plain": [
       "<IPython.core.display.HTML object>"
      ]
     },
     "metadata": {},
     "output_type": "display_data"
    },
    {
     "name": "stdout",
     "output_type": "stream",
     "text": [
      "                                                                                          \r"
     ]
    },
    {
     "data": {
      "text/html": [
       "columns that will be scaled: "
      ],
      "text/plain": [
       "<IPython.core.display.HTML object>"
      ]
     },
     "metadata": {},
     "output_type": "display_data"
    },
    {
     "name": "stdout",
     "output_type": "stream",
     "text": [
      "['TV', 'Radio', 'Newspaper']\n",
      "                                                                                          \r"
     ]
    },
    {
     "data": {
      "text/html": [
       "Training dataset sample after scaling:"
      ],
      "text/plain": [
       "<IPython.core.display.HTML object>"
      ]
     },
     "metadata": {},
     "output_type": "display_data"
    },
    {
     "data": {
      "text/html": [
       "<style type=\"text/css\">\n",
       "\ttable {border:ridge 5px;}\n",
       "\ttable td {border:inset 1px;}\n",
       "\ttable tr#HeaderRow {background-color:grey; color:white;}</style>\n",
       "<html><table>\n",
       "\t<tr id=\"HeaderRow\">\n",
       "\t\t<th>id</th>\n",
       "\t\t<th>Sales</th>\n",
       "\t\t<th>TV</th>\n",
       "\t\t<th>Radio</th>\n",
       "\t\t<th>Newspaper</th>\n",
       "\t</tr>\n",
       "\t<tr>\n",
       "\t\t<td>8</td>\n",
       "\t\t<td>10.1</td>\n",
       "\t\t<td>-1.3875254600090865</td>\n",
       "\t\t<td>0.2728085108929569</td>\n",
       "\t\t<td>0.36384499154044925</td>\n",
       "\t</tr>\n",
       "\t<tr>\n",
       "\t\t<td>12</td>\n",
       "\t\t<td>17.3</td>\n",
       "\t\t<td>-0.10655666039825423</td>\n",
       "\t\t<td>0.8692746136719814</td>\n",
       "\t\t<td>-1.1650044766949517</td>\n",
       "\t</tr>\n",
       "\t<tr>\n",
       "\t\t<td>20</td>\n",
       "\t\t<td>17.1</td>\n",
       "\t\t<td>0.22149632486793466</td>\n",
       "\t\t<td>0.7218335545580651</td>\n",
       "\t\t<td>0.5529810082293649</td>\n",
       "\t</tr>\n",
       "\t<tr>\n",
       "\t\t<td>14</td>\n",
       "\t\t<td>19.8</td>\n",
       "\t\t<td>1.1635972056323742</td>\n",
       "\t\t<td>0.28621224353967645</td>\n",
       "\t\t<td>-1.1912733679017455</td>\n",
       "\t</tr>\n",
       "\t<tr>\n",
       "\t\t<td>13</td>\n",
       "\t\t<td>23.2</td>\n",
       "\t\t<td>0.9773400161955271</td>\n",
       "\t\t<td>1.264684726750211</td>\n",
       "\t\t<td>-0.508282196525106</td>\n",
       "\t</tr>\n",
       "\t<tr>\n",
       "\t\t<td>21</td>\n",
       "\t\t<td>19.8</td>\n",
       "\t\t<td>1.4616087087313294</td>\n",
       "\t\t<td>-0.8397012987847741</td>\n",
       "\t\t<td>-0.35592262752570186</td>\n",
       "\t</tr>\n",
       "\t<tr>\n",
       "\t\t<td>11</td>\n",
       "\t\t<td>7.0</td>\n",
       "\t\t<td>-1.679528666674595</td>\n",
       "\t\t<td>-0.062284805275034404</td>\n",
       "\t\t<td>1.1676730624683402</td>\n",
       "\t</tr>\n",
       "\t<tr>\n",
       "\t\t<td>19</td>\n",
       "\t\t<td>12.2</td>\n",
       "\t\t<td>-0.23273088550063453</td>\n",
       "\t\t<td>-0.5582229132036614</td>\n",
       "\t\t<td>-0.1352639413886335</td>\n",
       "\t</tr>\n",
       "\t<tr>\n",
       "\t\t<td>15</td>\n",
       "\t\t<td>17.2</td>\n",
       "\t\t<td>0.7201849288440092</td>\n",
       "\t\t<td>-1.1546890159826857</td>\n",
       "\t\t<td>-0.04069593304417588</td>\n",
       "\t</tr>\n",
       "\t<tr>\n",
       "\t\t<td>23</td>\n",
       "\t\t<td>21.5</td>\n",
       "\t\t<td>0.8343425610794961</td>\n",
       "\t\t<td>1.010013806462538</td>\n",
       "\t\t<td>0.20097786605832743</td>\n",
       "\t</tr>\n",
       "</table></html>"
      ],
      "text/plain": [
       "   id  Sales        TV     Radio  Newspaper\n",
       "0   8   10.1 -1.387525  0.272809   0.363845\n",
       "1  12   17.3 -0.106557  0.869275  -1.165004\n",
       "2  20   17.1  0.221496  0.721834   0.552981\n",
       "3  14   19.8  1.163597  0.286212  -1.191273\n",
       "4  13   23.2  0.977340  1.264685  -0.508282\n",
       "5  21   19.8  1.461609 -0.839701  -0.355923\n",
       "6  11    7.0 -1.679529 -0.062285   1.167673\n",
       "7  19   12.2 -0.232731 -0.558223  -0.135264\n",
       "8  15   17.2  0.720185 -1.154689  -0.040696\n",
       "9  23   21.5  0.834343  1.010014   0.200978"
      ]
     },
     "metadata": {},
     "output_type": "display_data"
    },
    {
     "name": "stdout",
     "output_type": "stream",
     "text": [
      "                                                                                          \r"
     ]
    },
    {
     "data": {
      "text/html": [
       "Testing dataset sample after scaling:"
      ],
      "text/plain": [
       "<IPython.core.display.HTML object>"
      ]
     },
     "metadata": {},
     "output_type": "display_data"
    },
    {
     "data": {
      "text/html": [
       "<style type=\"text/css\">\n",
       "\ttable {border:ridge 5px;}\n",
       "\ttable td {border:inset 1px;}\n",
       "\ttable tr#HeaderRow {background-color:grey; color:white;}</style>\n",
       "<html><table>\n",
       "\t<tr id=\"HeaderRow\">\n",
       "\t\t<th>id</th>\n",
       "\t\t<th>Sales</th>\n",
       "\t\t<th>TV</th>\n",
       "\t\t<th>Radio</th>\n",
       "\t\t<th>Newspaper</th>\n",
       "\t</tr>\n",
       "\t<tr>\n",
       "\t\t<td>127</td>\n",
       "\t\t<td>12.0</td>\n",
       "\t\t<td>-1.6987552152616245</td>\n",
       "\t\t<td>1.5595668449780433</td>\n",
       "\t\t<td>2.160637150085147</td>\n",
       "\t</tr>\n",
       "\t<tr>\n",
       "\t\t<td>89</td>\n",
       "\t\t<td>16.0</td>\n",
       "\t\t<td>-0.3300652877224707</td>\n",
       "\t\t<td>1.3518089889538887</td>\n",
       "\t\t<td>0.03811074057620561</td>\n",
       "\t</tr>\n",
       "\t<tr>\n",
       "\t\t<td>26</td>\n",
       "\t\t<td>10.8</td>\n",
       "\t\t<td>-1.4307851943299026</td>\n",
       "\t\t<td>1.237877261456772</td>\n",
       "\t\t<td>-1.1755120331776692</td>\n",
       "\t</tr>\n",
       "\t<tr>\n",
       "\t\t<td>122</td>\n",
       "\t\t<td>18.4</td>\n",
       "\t\t<td>0.8836105918337588</td>\n",
       "\t\t<td>-0.9402292936351715</td>\n",
       "\t\t<td>-1.0231524641782652</td>\n",
       "\t</tr>\n",
       "\t<tr>\n",
       "\t\t<td>126</td>\n",
       "\t\t<td>16.0</td>\n",
       "\t\t<td>0.15300174552664264</td>\n",
       "\t\t<td>1.1440511329297345</td>\n",
       "\t\t<td>0.5004432258157773</td>\n",
       "\t</tr>\n",
       "\t<tr>\n",
       "\t\t<td>29</td>\n",
       "\t\t<td>13.6</td>\n",
       "\t\t<td>-1.0835056604766844</td>\n",
       "\t\t<td>1.465740716451006</td>\n",
       "\t\t<td>0.39011388274724307</td>\n",
       "\t</tr>\n",
       "\t<tr>\n",
       "\t\t<td>125</td>\n",
       "\t\t<td>10.9</td>\n",
       "\t\t<td>-1.0234226961422175</td>\n",
       "\t\t<td>-0.3772725224729461</td>\n",
       "\t\t<td>-0.8024937780411969</td>\n",
       "\t</tr>\n",
       "\t<tr>\n",
       "\t\t<td>27</td>\n",
       "\t\t<td>17.4</td>\n",
       "\t\t<td>1.2861664528746868</td>\n",
       "\t\t<td>-0.17621653277215138</td>\n",
       "\t\t<td>-1.4644698364524014</td>\n",
       "\t</tr>\n",
       "\t<tr>\n",
       "\t\t<td>115</td>\n",
       "\t\t<td>10.4</td>\n",
       "\t\t<td>-1.3707022299954357</td>\n",
       "\t\t<td>1.1172436676362947</td>\n",
       "\t\t<td>0.8892228156763259</td>\n",
       "\t</tr>\n",
       "\t<tr>\n",
       "\t\t<td>28</td>\n",
       "\t\t<td>16.1</td>\n",
       "\t\t<td>0.19866479842083723</td>\n",
       "\t\t<td>-0.008669874688155756</td>\n",
       "\t\t<td>0.1747089748515336</td>\n",
       "\t</tr>\n",
       "</table></html>"
      ],
      "text/plain": [
       "    id  Sales        TV     Radio  Newspaper\n",
       "0  127   12.0 -1.698755  1.559567   2.160637\n",
       "1   89   16.0 -0.330065  1.351809   0.038111\n",
       "2   26   10.8 -1.430785  1.237877  -1.175512\n",
       "3  122   18.4  0.883611 -0.940229  -1.023152\n",
       "4  126   16.0  0.153002  1.144051   0.500443\n",
       "5   29   13.6 -1.083506  1.465741   0.390114\n",
       "6  125   10.9 -1.023423 -0.377273  -0.802494\n",
       "7   27   17.4  1.286166 -0.176217  -1.464470\n",
       "8  115   10.4 -1.370702  1.117244   0.889223\n",
       "9   28   16.1  0.198665 -0.008670   0.174709"
      ]
     },
     "metadata": {},
     "output_type": "display_data"
    },
    {
     "name": "stdout",
     "output_type": "stream",
     "text": [
      "                                                                                          \r"
     ]
    },
    {
     "data": {
      "text/html": [
       "Total time taken by feature scaling: 34.81 sec"
      ],
      "text/plain": [
       "<IPython.core.display.HTML object>"
      ]
     },
     "metadata": {},
     "output_type": "display_data"
    },
    {
     "name": "stdout",
     "output_type": "stream",
     "text": [
      "                                                                                          \r"
     ]
    },
    {
     "data": {
      "text/html": [
       "\n",
       "Dimension Reduction using pca ..."
      ],
      "text/plain": [
       "<IPython.core.display.HTML object>"
      ]
     },
     "metadata": {},
     "output_type": "display_data"
    },
    {
     "name": "stdout",
     "output_type": "stream",
     "text": [
      "                                                                                          \r"
     ]
    },
    {
     "data": {
      "text/html": [
       "PCA columns:"
      ],
      "text/plain": [
       "<IPython.core.display.HTML object>"
      ]
     },
     "metadata": {},
     "output_type": "display_data"
    },
    {
     "name": "stdout",
     "output_type": "stream",
     "text": [
      "['col_0', 'col_1', 'col_2']\n",
      "                                                                                          \r"
     ]
    },
    {
     "data": {
      "text/html": [
       "Total time taken by PCA: 11.79 sec  "
      ],
      "text/plain": [
       "<IPython.core.display.HTML object>"
      ]
     },
     "metadata": {},
     "output_type": "display_data"
    },
    {
     "name": "stdout",
     "output_type": "stream",
     "text": [
      "                                                                                          \r"
     ]
    },
    {
     "data": {
      "text/html": [
       "\n",
       "            <style>\n",
       "                .custom-div {\n",
       "                    background-color: lightgray;\n",
       "                    color: #000000;\n",
       "                    padding: 10px;\n",
       "                    border-radius: 8px;\n",
       "                    box-shadow: 0 3px 4px rgba(0 -  0 -  0 -  0.2);\n",
       "                    margin-bottom: 10px;\n",
       "                    text-align: center;\n",
       "                }\n",
       "            </style>\n",
       "        <br><div class=\"custom-div\"><h3><span style=\"color: green;\">1. Feature Exploration -> 2. Feature Engineering -> 3. Data Preparation -></span> 4. Model Training & Evaluation<center></h3></center></div>"
      ],
      "text/plain": [
       "<IPython.core.display.HTML object>"
      ]
     },
     "metadata": {},
     "output_type": "display_data"
    },
    {
     "name": "stdout",
     "output_type": "stream",
     "text": [
      "                                                                                          \r"
     ]
    },
    {
     "data": {
      "text/html": [
       "Model Training started ..."
      ],
      "text/plain": [
       "<IPython.core.display.HTML object>"
      ]
     },
     "metadata": {},
     "output_type": "display_data"
    },
    {
     "name": "stdout",
     "output_type": "stream",
     "text": [
      "                                                                                          \r"
     ]
    },
    {
     "data": {
      "text/html": [
       "\n",
       "Hyperparameters used for model training: "
      ],
      "text/plain": [
       "<IPython.core.display.HTML object>"
      ]
     },
     "metadata": {},
     "output_type": "display_data"
    },
    {
     "name": "stdout",
     "output_type": "stream",
     "text": [
      "response_column : Sales                                                                                                                               \n",
      "name : decision_forest\n",
      "tree_type : Regression\n",
      "min_impurity : (0.0, 0.1)\n",
      "max_depth : (5, 6, 7, 8)\n",
      "min_node_size : (1, 2)\n",
      "num_trees : (-1, 10, 20)\n",
      "Total number of models for decision_forest : 48\n",
      "--------------------------------------------------------------------------------------------------------------------------------------------------------------------------------------------------------\n",
      "\n",
      "response_column : Sales\n",
      "name : xgboost\n",
      "model_type : Regression\n",
      "column_sampling : (1, 0.6)\n",
      "min_impurity : (0.0, 0.1)\n",
      "lambda1 : (0.01, 0.1, 1, 10)\n",
      "shrinkage_factor : (0.5, 0.1, 0.2)\n",
      "max_depth : (5, 6, 7, 8)\n",
      "min_node_size : (1, 2)\n",
      "iter_num : (10, 20)\n",
      "Total number of models for xgboost : 768\n",
      "--------------------------------------------------------------------------------------------------------------------------------------------------------------------------------------------------------\n",
      "\n",
      "response_column : Sales\n",
      "name : knn\n",
      "model_type : Regression\n",
      "k : (3, 5, 6, 8, 10, 12)\n",
      "id_column : id\n",
      "voting_weight : 1.0\n",
      "Total number of models for knn : 6\n",
      "--------------------------------------------------------------------------------------------------------------------------------------------------------------------------------------------------------\n",
      "\n",
      "response_column : Sales\n",
      "name : svm\n",
      "model_type : regression\n",
      "lambda1 : (0.001, 0.02, 0.1)\n",
      "alpha : (0.15, 0.85)\n",
      "tolerance : (0.001, 0.01)\n",
      "learning_rate : ('Invtime', 'Adaptive', 'constant')\n",
      "initial_eta : (0.05, 0.1)\n",
      "momentum : (0.65, 0.8, 0.95)\n",
      "nesterov : True\n",
      "intercept : True\n",
      "iter_num_no_change : (5, 10, 50)\n",
      "local_sgd_iterations  : (10, 20)\n",
      "iter_max : (300, 100, 200)\n",
      "batch_size : (10, 20, 40, 50)\n",
      "Total number of models for svm : 15552\n",
      "--------------------------------------------------------------------------------------------------------------------------------------------------------------------------------------------------------\n",
      "\n",
      "response_column : Sales\n",
      "name : glm\n",
      "family : GAUSSIAN\n",
      "lambda1 : (0.001, 0.02, 0.1)\n",
      "alpha : (0.15, 0.85)\n",
      "learning_rate : ('invtime', 'constant', 'adaptive')\n",
      "initial_eta : (0.05, 0.1)\n",
      "momentum : (0.65, 0.8, 0.95)\n",
      "iter_num_no_change : (5, 10, 50)\n",
      "iter_max : (300, 100, 200)\n",
      "batch_size : (10, 20, 40, 50)\n",
      "Total number of models for glm : 3888\n",
      "--------------------------------------------------------------------------------------------------------------------------------------------------------------------------------------------------------\n",
      "\n",
      "                                                                                          \r"
     ]
    },
    {
     "data": {
      "text/html": [
       "\n",
       "Performing hyperParameter tuning ..."
      ],
      "text/plain": [
       "<IPython.core.display.HTML object>"
      ]
     },
     "metadata": {},
     "output_type": "display_data"
    },
    {
     "name": "stdout",
     "output_type": "stream",
     "text": [
      "                                                                                          \r"
     ]
    },
    {
     "data": {
      "text/html": [
       "decision_forest"
      ],
      "text/plain": [
       "<IPython.core.display.HTML object>"
      ]
     },
     "metadata": {},
     "output_type": "display_data"
    },
    {
     "name": "stdout",
     "output_type": "stream",
     "text": [
      "DECISIONFOREST_6                                                                                                                                                                                        \n",
      "DECISIONFOREST_7                                                                          \n",
      "DECISIONFOREST_8                                                                          \n",
      "                                                                                          \r"
     ]
    },
    {
     "data": {
      "text/html": [
       "----------------------------------------------------------------------------------------------------"
      ],
      "text/plain": [
       "<IPython.core.display.HTML object>"
      ]
     },
     "metadata": {},
     "output_type": "display_data"
    },
    {
     "name": "stdout",
     "output_type": "stream",
     "text": [
      "                                                                                          \r"
     ]
    },
    {
     "data": {
      "text/html": [
       "xgboost"
      ],
      "text/plain": [
       "<IPython.core.display.HTML object>"
      ]
     },
     "metadata": {},
     "output_type": "display_data"
    },
    {
     "name": "stdout",
     "output_type": "stream",
     "text": [
      "XGBOOST_6                                                                                                                                                                                               \n",
      "XGBOOST_7                                                                                 \n",
      "XGBOOST_5                                                                                 \n",
      "                                                                                          \r"
     ]
    },
    {
     "data": {
      "text/html": [
       "----------------------------------------------------------------------------------------------------"
      ],
      "text/plain": [
       "<IPython.core.display.HTML object>"
      ]
     },
     "metadata": {},
     "output_type": "display_data"
    },
    {
     "name": "stdout",
     "output_type": "stream",
     "text": [
      "                                                                                          \r"
     ]
    },
    {
     "data": {
      "text/html": [
       "knn"
      ],
      "text/plain": [
       "<IPython.core.display.HTML object>"
      ]
     },
     "metadata": {},
     "output_type": "display_data"
    },
    {
     "name": "stdout",
     "output_type": "stream",
     "text": [
      "KNN_18                                                                                                                                                                                                  \n",
      "KNN_13                                                                                    \n",
      "KNN_8                                                                                     \n",
      "                                                                                          \r"
     ]
    },
    {
     "data": {
      "text/html": [
       "----------------------------------------------------------------------------------------------------"
      ],
      "text/plain": [
       "<IPython.core.display.HTML object>"
      ]
     },
     "metadata": {},
     "output_type": "display_data"
    },
    {
     "name": "stdout",
     "output_type": "stream",
     "text": [
      "                                                                                          \r"
     ]
    },
    {
     "data": {
      "text/html": [
       "svm"
      ],
      "text/plain": [
       "<IPython.core.display.HTML object>"
      ]
     },
     "metadata": {},
     "output_type": "display_data"
    },
    {
     "name": "stdout",
     "output_type": "stream",
     "text": [
      "SVM_3                                                                                                                                                                                                   \n",
      "SVM_4                                                                                     \n",
      "SVM_2                                                                                     \n",
      "                                                                                          \r"
     ]
    },
    {
     "data": {
      "text/html": [
       "----------------------------------------------------------------------------------------------------"
      ],
      "text/plain": [
       "<IPython.core.display.HTML object>"
      ]
     },
     "metadata": {},
     "output_type": "display_data"
    },
    {
     "name": "stdout",
     "output_type": "stream",
     "text": [
      "                                                                                          \r"
     ]
    },
    {
     "data": {
      "text/html": [
       "glm"
      ],
      "text/plain": [
       "<IPython.core.display.HTML object>"
      ]
     },
     "metadata": {},
     "output_type": "display_data"
    },
    {
     "name": "stdout",
     "output_type": "stream",
     "text": [
      "GLM_0                                                                                                                                                                                                   \n",
      "GLM_4                                                                                     \n",
      "GLM_5                                                                                     \n",
      "                                                                                          \r"
     ]
    },
    {
     "data": {
      "text/html": [
       "----------------------------------------------------------------------------------------------------"
      ],
      "text/plain": [
       "<IPython.core.display.HTML object>"
      ]
     },
     "metadata": {},
     "output_type": "display_data"
    },
    {
     "name": "stdout",
     "output_type": "stream",
     "text": [
      "                                                                                          \r"
     ]
    },
    {
     "data": {
      "text/html": [
       "Evaluating models performance ..."
      ],
      "text/plain": [
       "<IPython.core.display.HTML object>"
      ]
     },
     "metadata": {},
     "output_type": "display_data"
    },
    {
     "name": "stdout",
     "output_type": "stream",
     "text": [
      "                                                                                          \r"
     ]
    },
    {
     "data": {
      "text/html": [
       "Evaluation completed."
      ],
      "text/plain": [
       "<IPython.core.display.HTML object>"
      ]
     },
     "metadata": {},
     "output_type": "display_data"
    },
    {
     "name": "stdout",
     "output_type": "stream",
     "text": [
      "                                                                                          \r"
     ]
    },
    {
     "data": {
      "text/html": [
       "Leaderboard"
      ],
      "text/plain": [
       "<IPython.core.display.HTML object>"
      ]
     },
     "metadata": {},
     "output_type": "display_data"
    },
    {
     "data": {
      "text/html": [
       "<div>\n",
       "<style scoped>\n",
       "    .dataframe tbody tr th:only-of-type {\n",
       "        vertical-align: middle;\n",
       "    }\n",
       "\n",
       "    .dataframe tbody tr th {\n",
       "        vertical-align: top;\n",
       "    }\n",
       "\n",
       "    .dataframe thead th {\n",
       "        text-align: right;\n",
       "    }\n",
       "</style>\n",
       "<table border=\"1\" class=\"dataframe\">\n",
       "  <thead>\n",
       "    <tr style=\"text-align: right;\">\n",
       "      <th></th>\n",
       "      <th>Rank</th>\n",
       "      <th>Name</th>\n",
       "      <th>Feature selection</th>\n",
       "      <th>MAE</th>\n",
       "      <th>MSE</th>\n",
       "      <th>MSLE</th>\n",
       "      <th>RMSE</th>\n",
       "      <th>RMSLE</th>\n",
       "      <th>R2-score</th>\n",
       "      <th>Adjusted R2-score</th>\n",
       "    </tr>\n",
       "  </thead>\n",
       "  <tbody>\n",
       "    <tr>\n",
       "      <th>0</th>\n",
       "      <td>1</td>\n",
       "      <td>glm</td>\n",
       "      <td>rfe</td>\n",
       "      <td>1.179464</td>\n",
       "      <td>2.939096</td>\n",
       "      <td>0.011382</td>\n",
       "      <td>1.714379</td>\n",
       "      <td>0.106687</td>\n",
       "      <td>0.837993</td>\n",
       "      <td>0.826820</td>\n",
       "    </tr>\n",
       "    <tr>\n",
       "      <th>1</th>\n",
       "      <td>2</td>\n",
       "      <td>glm</td>\n",
       "      <td>lasso</td>\n",
       "      <td>1.135109</td>\n",
       "      <td>2.967279</td>\n",
       "      <td>0.010849</td>\n",
       "      <td>1.722579</td>\n",
       "      <td>0.104161</td>\n",
       "      <td>0.836440</td>\n",
       "      <td>0.818915</td>\n",
       "    </tr>\n",
       "    <tr>\n",
       "      <th>2</th>\n",
       "      <td>3</td>\n",
       "      <td>knn</td>\n",
       "      <td>rfe</td>\n",
       "      <td>1.284586</td>\n",
       "      <td>2.986201</td>\n",
       "      <td>0.012677</td>\n",
       "      <td>1.728063</td>\n",
       "      <td>0.112594</td>\n",
       "      <td>0.835397</td>\n",
       "      <td>0.824045</td>\n",
       "    </tr>\n",
       "    <tr>\n",
       "      <th>3</th>\n",
       "      <td>4</td>\n",
       "      <td>glm</td>\n",
       "      <td>pca</td>\n",
       "      <td>1.155514</td>\n",
       "      <td>3.062390</td>\n",
       "      <td>0.011296</td>\n",
       "      <td>1.749969</td>\n",
       "      <td>0.106285</td>\n",
       "      <td>0.831197</td>\n",
       "      <td>0.813111</td>\n",
       "    </tr>\n",
       "    <tr>\n",
       "      <th>4</th>\n",
       "      <td>5</td>\n",
       "      <td>knn</td>\n",
       "      <td>lasso</td>\n",
       "      <td>1.510355</td>\n",
       "      <td>3.456614</td>\n",
       "      <td>0.015233</td>\n",
       "      <td>1.859197</td>\n",
       "      <td>0.123420</td>\n",
       "      <td>0.809467</td>\n",
       "      <td>0.789052</td>\n",
       "    </tr>\n",
       "    <tr>\n",
       "      <th>5</th>\n",
       "      <td>6</td>\n",
       "      <td>decision_forest</td>\n",
       "      <td>lasso</td>\n",
       "      <td>1.556592</td>\n",
       "      <td>3.890410</td>\n",
       "      <td>0.016990</td>\n",
       "      <td>1.972412</td>\n",
       "      <td>0.130345</td>\n",
       "      <td>0.785555</td>\n",
       "      <td>0.762579</td>\n",
       "    </tr>\n",
       "    <tr>\n",
       "      <th>6</th>\n",
       "      <td>7</td>\n",
       "      <td>knn</td>\n",
       "      <td>pca</td>\n",
       "      <td>1.676530</td>\n",
       "      <td>4.230765</td>\n",
       "      <td>0.024678</td>\n",
       "      <td>2.056882</td>\n",
       "      <td>0.157093</td>\n",
       "      <td>0.766795</td>\n",
       "      <td>0.741808</td>\n",
       "    </tr>\n",
       "    <tr>\n",
       "      <th>7</th>\n",
       "      <td>8</td>\n",
       "      <td>decision_forest</td>\n",
       "      <td>rfe</td>\n",
       "      <td>1.749219</td>\n",
       "      <td>4.957814</td>\n",
       "      <td>0.022874</td>\n",
       "      <td>2.226615</td>\n",
       "      <td>0.151241</td>\n",
       "      <td>0.726719</td>\n",
       "      <td>0.707872</td>\n",
       "    </tr>\n",
       "    <tr>\n",
       "      <th>8</th>\n",
       "      <td>9</td>\n",
       "      <td>decision_forest</td>\n",
       "      <td>pca</td>\n",
       "      <td>1.924333</td>\n",
       "      <td>5.618099</td>\n",
       "      <td>0.028026</td>\n",
       "      <td>2.370253</td>\n",
       "      <td>0.167410</td>\n",
       "      <td>0.690323</td>\n",
       "      <td>0.657143</td>\n",
       "    </tr>\n",
       "    <tr>\n",
       "      <th>9</th>\n",
       "      <td>10</td>\n",
       "      <td>svm</td>\n",
       "      <td>lasso</td>\n",
       "      <td>3.101326</td>\n",
       "      <td>14.127804</td>\n",
       "      <td>0.055843</td>\n",
       "      <td>3.758697</td>\n",
       "      <td>0.236311</td>\n",
       "      <td>0.221256</td>\n",
       "      <td>0.137819</td>\n",
       "    </tr>\n",
       "    <tr>\n",
       "      <th>10</th>\n",
       "      <td>11</td>\n",
       "      <td>svm</td>\n",
       "      <td>pca</td>\n",
       "      <td>3.547128</td>\n",
       "      <td>19.362805</td>\n",
       "      <td>0.074880</td>\n",
       "      <td>4.400319</td>\n",
       "      <td>0.273642</td>\n",
       "      <td>-0.067304</td>\n",
       "      <td>-0.181658</td>\n",
       "    </tr>\n",
       "    <tr>\n",
       "      <th>11</th>\n",
       "      <td>12</td>\n",
       "      <td>svm</td>\n",
       "      <td>rfe</td>\n",
       "      <td>3.838206</td>\n",
       "      <td>21.127507</td>\n",
       "      <td>0.093238</td>\n",
       "      <td>4.596467</td>\n",
       "      <td>0.305348</td>\n",
       "      <td>-0.164577</td>\n",
       "      <td>-0.244893</td>\n",
       "    </tr>\n",
       "    <tr>\n",
       "      <th>12</th>\n",
       "      <td>13</td>\n",
       "      <td>xgboost</td>\n",
       "      <td>lasso</td>\n",
       "      <td>17.912377</td>\n",
       "      <td>386.053591</td>\n",
       "      <td>0.241238</td>\n",
       "      <td>19.648247</td>\n",
       "      <td>0.491159</td>\n",
       "      <td>-20.279799</td>\n",
       "      <td>-22.559778</td>\n",
       "    </tr>\n",
       "    <tr>\n",
       "      <th>13</th>\n",
       "      <td>14</td>\n",
       "      <td>xgboost</td>\n",
       "      <td>rfe</td>\n",
       "      <td>19.681330</td>\n",
       "      <td>485.548999</td>\n",
       "      <td>0.354574</td>\n",
       "      <td>22.035176</td>\n",
       "      <td>0.595461</td>\n",
       "      <td>-25.764122</td>\n",
       "      <td>-27.609923</td>\n",
       "    </tr>\n",
       "    <tr>\n",
       "      <th>14</th>\n",
       "      <td>15</td>\n",
       "      <td>xgboost</td>\n",
       "      <td>pca</td>\n",
       "      <td>24.095797</td>\n",
       "      <td>778.996267</td>\n",
       "      <td>0.322922</td>\n",
       "      <td>27.910505</td>\n",
       "      <td>0.568263</td>\n",
       "      <td>-41.939335</td>\n",
       "      <td>-46.539978</td>\n",
       "    </tr>\n",
       "  </tbody>\n",
       "</table>\n",
       "</div>"
      ],
      "text/plain": [
       "    Rank             Name Feature selection        MAE         MSE      MSLE  \\\n",
       "0      1              glm               rfe   1.179464    2.939096  0.011382   \n",
       "1      2              glm             lasso   1.135109    2.967279  0.010849   \n",
       "2      3              knn               rfe   1.284586    2.986201  0.012677   \n",
       "3      4              glm               pca   1.155514    3.062390  0.011296   \n",
       "4      5              knn             lasso   1.510355    3.456614  0.015233   \n",
       "5      6  decision_forest             lasso   1.556592    3.890410  0.016990   \n",
       "6      7              knn               pca   1.676530    4.230765  0.024678   \n",
       "7      8  decision_forest               rfe   1.749219    4.957814  0.022874   \n",
       "8      9  decision_forest               pca   1.924333    5.618099  0.028026   \n",
       "9     10              svm             lasso   3.101326   14.127804  0.055843   \n",
       "10    11              svm               pca   3.547128   19.362805  0.074880   \n",
       "11    12              svm               rfe   3.838206   21.127507  0.093238   \n",
       "12    13          xgboost             lasso  17.912377  386.053591  0.241238   \n",
       "13    14          xgboost               rfe  19.681330  485.548999  0.354574   \n",
       "14    15          xgboost               pca  24.095797  778.996267  0.322922   \n",
       "\n",
       "         RMSE     RMSLE   R2-score  Adjusted R2-score  \n",
       "0    1.714379  0.106687   0.837993           0.826820  \n",
       "1    1.722579  0.104161   0.836440           0.818915  \n",
       "2    1.728063  0.112594   0.835397           0.824045  \n",
       "3    1.749969  0.106285   0.831197           0.813111  \n",
       "4    1.859197  0.123420   0.809467           0.789052  \n",
       "5    1.972412  0.130345   0.785555           0.762579  \n",
       "6    2.056882  0.157093   0.766795           0.741808  \n",
       "7    2.226615  0.151241   0.726719           0.707872  \n",
       "8    2.370253  0.167410   0.690323           0.657143  \n",
       "9    3.758697  0.236311   0.221256           0.137819  \n",
       "10   4.400319  0.273642  -0.067304          -0.181658  \n",
       "11   4.596467  0.305348  -0.164577          -0.244893  \n",
       "12  19.648247  0.491159 -20.279799         -22.559778  \n",
       "13  22.035176  0.595461 -25.764122         -27.609923  \n",
       "14  27.910505  0.568263 -41.939335         -46.539978  "
      ]
     },
     "metadata": {},
     "output_type": "display_data"
    },
    {
     "name": "stdout",
     "output_type": "stream",
     "text": [
      "                                                                                          \r"
     ]
    },
    {
     "data": {
      "text/html": [
       "\n",
       "            <style>\n",
       "                .custom-div {\n",
       "                    background-color: lightgray;\n",
       "                    color: #000000;\n",
       "                    padding: 10px;\n",
       "                    border-radius: 8px;\n",
       "                    box-shadow: 0 3px 4px rgba(0 -  0 -  0 -  0.2);\n",
       "                    margin-bottom: 10px;\n",
       "                    text-align: center;\n",
       "                }\n",
       "            </style>\n",
       "        <br><div class=\"custom-div\"><h3><span style=\"color: green;\">1. Feature Exploration -> 2. Feature Engineering -> 3. Data Preparation -> 4. Model Training & Evaluation</span><center></h3></center></div>"
      ],
      "text/plain": [
       "<IPython.core.display.HTML object>"
      ]
     },
     "metadata": {},
     "output_type": "display_data"
    },
    {
     "name": "stdout",
     "output_type": "stream",
     "text": [
      "Completed: ｜⫿⫿⫿⫿⫿⫿⫿⫿⫿⫿⫿⫿⫿⫿⫿⫿⫿⫿⫿⫿⫿⫿⫿⫿⫿⫿⫿⫿⫿⫿⫿⫿⫿⫿⫿⫿⫿⫿⫿⫿⫿⫿⫿⫿⫿⫿⫿⫿⫿⫿⫿⫿⫿⫿⫿⫿⫿⫿⫿⫿｜ 100% - 19/19    \r"
     ]
    }
   ],
   "source": [
    "# Fitting train data\n",
    "aml.fit(advertising_df_train, advertising_df_train.Sales)"
   ]
  },
  {
   "cell_type": "markdown",
   "id": "23a04eb1-68e6-48b7-95aa-442f434809da",
   "metadata": {},
   "source": [
    "## <b><span style='color:#F1A424'>| 3.</span> Leaderboard : </b>"
   ]
  },
  {
   "cell_type": "code",
   "execution_count": 18,
   "id": "77de1099-6122-4f8a-8e7f-dd67e5b4ced4",
   "metadata": {},
   "outputs": [
    {
     "data": {
      "text/html": [
       "<div>\n",
       "<style scoped>\n",
       "    .dataframe tbody tr th:only-of-type {\n",
       "        vertical-align: middle;\n",
       "    }\n",
       "\n",
       "    .dataframe tbody tr th {\n",
       "        vertical-align: top;\n",
       "    }\n",
       "\n",
       "    .dataframe thead th {\n",
       "        text-align: right;\n",
       "    }\n",
       "</style>\n",
       "<table border=\"1\" class=\"dataframe\">\n",
       "  <thead>\n",
       "    <tr style=\"text-align: right;\">\n",
       "      <th></th>\n",
       "      <th>Rank</th>\n",
       "      <th>Name</th>\n",
       "      <th>Feature selection</th>\n",
       "      <th>MAE</th>\n",
       "      <th>MSE</th>\n",
       "      <th>MSLE</th>\n",
       "      <th>RMSE</th>\n",
       "      <th>RMSLE</th>\n",
       "      <th>R2-score</th>\n",
       "      <th>Adjusted R2-score</th>\n",
       "    </tr>\n",
       "  </thead>\n",
       "  <tbody>\n",
       "    <tr>\n",
       "      <th>0</th>\n",
       "      <td>1</td>\n",
       "      <td>glm</td>\n",
       "      <td>rfe</td>\n",
       "      <td>1.179464</td>\n",
       "      <td>2.939096</td>\n",
       "      <td>0.011382</td>\n",
       "      <td>1.714379</td>\n",
       "      <td>0.106687</td>\n",
       "      <td>0.837993</td>\n",
       "      <td>0.826820</td>\n",
       "    </tr>\n",
       "    <tr>\n",
       "      <th>1</th>\n",
       "      <td>2</td>\n",
       "      <td>glm</td>\n",
       "      <td>lasso</td>\n",
       "      <td>1.135109</td>\n",
       "      <td>2.967279</td>\n",
       "      <td>0.010849</td>\n",
       "      <td>1.722579</td>\n",
       "      <td>0.104161</td>\n",
       "      <td>0.836440</td>\n",
       "      <td>0.818915</td>\n",
       "    </tr>\n",
       "    <tr>\n",
       "      <th>2</th>\n",
       "      <td>3</td>\n",
       "      <td>knn</td>\n",
       "      <td>rfe</td>\n",
       "      <td>1.284586</td>\n",
       "      <td>2.986201</td>\n",
       "      <td>0.012677</td>\n",
       "      <td>1.728063</td>\n",
       "      <td>0.112594</td>\n",
       "      <td>0.835397</td>\n",
       "      <td>0.824045</td>\n",
       "    </tr>\n",
       "    <tr>\n",
       "      <th>3</th>\n",
       "      <td>4</td>\n",
       "      <td>glm</td>\n",
       "      <td>pca</td>\n",
       "      <td>1.155514</td>\n",
       "      <td>3.062390</td>\n",
       "      <td>0.011296</td>\n",
       "      <td>1.749969</td>\n",
       "      <td>0.106285</td>\n",
       "      <td>0.831197</td>\n",
       "      <td>0.813111</td>\n",
       "    </tr>\n",
       "    <tr>\n",
       "      <th>4</th>\n",
       "      <td>5</td>\n",
       "      <td>knn</td>\n",
       "      <td>lasso</td>\n",
       "      <td>1.510355</td>\n",
       "      <td>3.456614</td>\n",
       "      <td>0.015233</td>\n",
       "      <td>1.859197</td>\n",
       "      <td>0.123420</td>\n",
       "      <td>0.809467</td>\n",
       "      <td>0.789052</td>\n",
       "    </tr>\n",
       "    <tr>\n",
       "      <th>5</th>\n",
       "      <td>6</td>\n",
       "      <td>decision_forest</td>\n",
       "      <td>lasso</td>\n",
       "      <td>1.556592</td>\n",
       "      <td>3.890410</td>\n",
       "      <td>0.016990</td>\n",
       "      <td>1.972412</td>\n",
       "      <td>0.130345</td>\n",
       "      <td>0.785555</td>\n",
       "      <td>0.762579</td>\n",
       "    </tr>\n",
       "    <tr>\n",
       "      <th>6</th>\n",
       "      <td>7</td>\n",
       "      <td>knn</td>\n",
       "      <td>pca</td>\n",
       "      <td>1.676530</td>\n",
       "      <td>4.230765</td>\n",
       "      <td>0.024678</td>\n",
       "      <td>2.056882</td>\n",
       "      <td>0.157093</td>\n",
       "      <td>0.766795</td>\n",
       "      <td>0.741808</td>\n",
       "    </tr>\n",
       "    <tr>\n",
       "      <th>7</th>\n",
       "      <td>8</td>\n",
       "      <td>decision_forest</td>\n",
       "      <td>rfe</td>\n",
       "      <td>1.749219</td>\n",
       "      <td>4.957814</td>\n",
       "      <td>0.022874</td>\n",
       "      <td>2.226615</td>\n",
       "      <td>0.151241</td>\n",
       "      <td>0.726719</td>\n",
       "      <td>0.707872</td>\n",
       "    </tr>\n",
       "    <tr>\n",
       "      <th>8</th>\n",
       "      <td>9</td>\n",
       "      <td>decision_forest</td>\n",
       "      <td>pca</td>\n",
       "      <td>1.924333</td>\n",
       "      <td>5.618099</td>\n",
       "      <td>0.028026</td>\n",
       "      <td>2.370253</td>\n",
       "      <td>0.167410</td>\n",
       "      <td>0.690323</td>\n",
       "      <td>0.657143</td>\n",
       "    </tr>\n",
       "    <tr>\n",
       "      <th>9</th>\n",
       "      <td>10</td>\n",
       "      <td>svm</td>\n",
       "      <td>lasso</td>\n",
       "      <td>3.101326</td>\n",
       "      <td>14.127804</td>\n",
       "      <td>0.055843</td>\n",
       "      <td>3.758697</td>\n",
       "      <td>0.236311</td>\n",
       "      <td>0.221256</td>\n",
       "      <td>0.137819</td>\n",
       "    </tr>\n",
       "    <tr>\n",
       "      <th>10</th>\n",
       "      <td>11</td>\n",
       "      <td>svm</td>\n",
       "      <td>pca</td>\n",
       "      <td>3.547128</td>\n",
       "      <td>19.362805</td>\n",
       "      <td>0.074880</td>\n",
       "      <td>4.400319</td>\n",
       "      <td>0.273642</td>\n",
       "      <td>-0.067304</td>\n",
       "      <td>-0.181658</td>\n",
       "    </tr>\n",
       "    <tr>\n",
       "      <th>11</th>\n",
       "      <td>12</td>\n",
       "      <td>svm</td>\n",
       "      <td>rfe</td>\n",
       "      <td>3.838206</td>\n",
       "      <td>21.127507</td>\n",
       "      <td>0.093238</td>\n",
       "      <td>4.596467</td>\n",
       "      <td>0.305348</td>\n",
       "      <td>-0.164577</td>\n",
       "      <td>-0.244893</td>\n",
       "    </tr>\n",
       "    <tr>\n",
       "      <th>12</th>\n",
       "      <td>13</td>\n",
       "      <td>xgboost</td>\n",
       "      <td>lasso</td>\n",
       "      <td>17.912377</td>\n",
       "      <td>386.053591</td>\n",
       "      <td>0.241238</td>\n",
       "      <td>19.648247</td>\n",
       "      <td>0.491159</td>\n",
       "      <td>-20.279799</td>\n",
       "      <td>-22.559778</td>\n",
       "    </tr>\n",
       "    <tr>\n",
       "      <th>13</th>\n",
       "      <td>14</td>\n",
       "      <td>xgboost</td>\n",
       "      <td>rfe</td>\n",
       "      <td>19.681330</td>\n",
       "      <td>485.548999</td>\n",
       "      <td>0.354574</td>\n",
       "      <td>22.035176</td>\n",
       "      <td>0.595461</td>\n",
       "      <td>-25.764122</td>\n",
       "      <td>-27.609923</td>\n",
       "    </tr>\n",
       "    <tr>\n",
       "      <th>14</th>\n",
       "      <td>15</td>\n",
       "      <td>xgboost</td>\n",
       "      <td>pca</td>\n",
       "      <td>24.095797</td>\n",
       "      <td>778.996267</td>\n",
       "      <td>0.322922</td>\n",
       "      <td>27.910505</td>\n",
       "      <td>0.568263</td>\n",
       "      <td>-41.939335</td>\n",
       "      <td>-46.539978</td>\n",
       "    </tr>\n",
       "  </tbody>\n",
       "</table>\n",
       "</div>"
      ],
      "text/plain": [
       "    Rank             Name Feature selection        MAE         MSE      MSLE  \\\n",
       "0      1              glm               rfe   1.179464    2.939096  0.011382   \n",
       "1      2              glm             lasso   1.135109    2.967279  0.010849   \n",
       "2      3              knn               rfe   1.284586    2.986201  0.012677   \n",
       "3      4              glm               pca   1.155514    3.062390  0.011296   \n",
       "4      5              knn             lasso   1.510355    3.456614  0.015233   \n",
       "5      6  decision_forest             lasso   1.556592    3.890410  0.016990   \n",
       "6      7              knn               pca   1.676530    4.230765  0.024678   \n",
       "7      8  decision_forest               rfe   1.749219    4.957814  0.022874   \n",
       "8      9  decision_forest               pca   1.924333    5.618099  0.028026   \n",
       "9     10              svm             lasso   3.101326   14.127804  0.055843   \n",
       "10    11              svm               pca   3.547128   19.362805  0.074880   \n",
       "11    12              svm               rfe   3.838206   21.127507  0.093238   \n",
       "12    13          xgboost             lasso  17.912377  386.053591  0.241238   \n",
       "13    14          xgboost               rfe  19.681330  485.548999  0.354574   \n",
       "14    15          xgboost               pca  24.095797  778.996267  0.322922   \n",
       "\n",
       "         RMSE     RMSLE   R2-score  Adjusted R2-score  \n",
       "0    1.714379  0.106687   0.837993           0.826820  \n",
       "1    1.722579  0.104161   0.836440           0.818915  \n",
       "2    1.728063  0.112594   0.835397           0.824045  \n",
       "3    1.749969  0.106285   0.831197           0.813111  \n",
       "4    1.859197  0.123420   0.809467           0.789052  \n",
       "5    1.972412  0.130345   0.785555           0.762579  \n",
       "6    2.056882  0.157093   0.766795           0.741808  \n",
       "7    2.226615  0.151241   0.726719           0.707872  \n",
       "8    2.370253  0.167410   0.690323           0.657143  \n",
       "9    3.758697  0.236311   0.221256           0.137819  \n",
       "10   4.400319  0.273642  -0.067304          -0.181658  \n",
       "11   4.596467  0.305348  -0.164577          -0.244893  \n",
       "12  19.648247  0.491159 -20.279799         -22.559778  \n",
       "13  22.035176  0.595461 -25.764122         -27.609923  \n",
       "14  27.910505  0.568263 -41.939335         -46.539978  "
      ]
     },
     "execution_count": 18,
     "metadata": {},
     "output_type": "execute_result"
    }
   ],
   "source": [
    "# Fetching Leaderboard\n",
    "aml.leaderboard()"
   ]
  },
  {
   "cell_type": "markdown",
   "id": "a7a3aa08-e349-4a61-9217-2c17d50411d8",
   "metadata": {},
   "source": [
    "## <b><span style='color:#F1A424'>| 4.</span> Best Performing Model : </b>"
   ]
  },
  {
   "cell_type": "code",
   "execution_count": 19,
   "id": "c4c32832-a76b-4f42-826a-cefc38a6301b",
   "metadata": {},
   "outputs": [
    {
     "data": {
      "text/html": [
       "<div>\n",
       "<style scoped>\n",
       "    .dataframe tbody tr th:only-of-type {\n",
       "        vertical-align: middle;\n",
       "    }\n",
       "\n",
       "    .dataframe tbody tr th {\n",
       "        vertical-align: top;\n",
       "    }\n",
       "\n",
       "    .dataframe thead th {\n",
       "        text-align: right;\n",
       "    }\n",
       "</style>\n",
       "<table border=\"1\" class=\"dataframe\">\n",
       "  <thead>\n",
       "    <tr style=\"text-align: right;\">\n",
       "      <th></th>\n",
       "      <th>Rank</th>\n",
       "      <th>Name</th>\n",
       "      <th>Feature selection</th>\n",
       "      <th>MAE</th>\n",
       "      <th>MSE</th>\n",
       "      <th>MSLE</th>\n",
       "      <th>RMSE</th>\n",
       "      <th>RMSLE</th>\n",
       "      <th>R2-score</th>\n",
       "      <th>Adjusted R2-score</th>\n",
       "    </tr>\n",
       "  </thead>\n",
       "  <tbody>\n",
       "    <tr>\n",
       "      <th>0</th>\n",
       "      <td>1</td>\n",
       "      <td>glm</td>\n",
       "      <td>rfe</td>\n",
       "      <td>1.179464</td>\n",
       "      <td>2.939096</td>\n",
       "      <td>0.011382</td>\n",
       "      <td>1.714379</td>\n",
       "      <td>0.106687</td>\n",
       "      <td>0.837993</td>\n",
       "      <td>0.82682</td>\n",
       "    </tr>\n",
       "  </tbody>\n",
       "</table>\n",
       "</div>"
      ],
      "text/plain": [
       "   Rank Name Feature selection       MAE       MSE      MSLE      RMSE  \\\n",
       "0     1  glm               rfe  1.179464  2.939096  0.011382  1.714379   \n",
       "\n",
       "      RMSLE  R2-score  Adjusted R2-score  \n",
       "0  0.106687  0.837993            0.82682  "
      ]
     },
     "metadata": {},
     "output_type": "display_data"
    }
   ],
   "source": [
    "# Fetching best performing model for dataset\n",
    "aml.leader()"
   ]
  },
  {
   "cell_type": "markdown",
   "id": "e43181a9-3847-4e8b-b510-6da81f1c550f",
   "metadata": {},
   "source": [
    "## <b><span style='color:#F1A424'>| 5.</span> Generating Prediction : </b>"
   ]
  },
  {
   "cell_type": "markdown",
   "id": "8bf3bed8-dbdd-4239-97da-f289559c785c",
   "metadata": {},
   "source": [
    "### <b><span style='color:#F1A424'>| 5.1.</span> Generating prediction on default validation test data </b>"
   ]
  },
  {
   "cell_type": "code",
   "execution_count": 20,
   "id": "27663268-da3c-4717-b675-6d3a6d6f8f37",
   "metadata": {},
   "outputs": [
    {
     "name": "stdout",
     "output_type": "stream",
     "text": [
      "glm lasso\n",
      "\n",
      " Prediction : \n",
      "    id  prediction  Sales\n",
      "0  175   10.999769   10.7\n",
      "1  205   15.699914   15.9\n",
      "2  194   20.269561   19.4\n",
      "3   28   16.613653   16.1\n",
      "4   26   10.683028   10.8\n",
      "5   89   16.110911   16.0\n",
      "6   97   10.283371   13.2\n",
      "7  122   18.219511   18.4\n",
      "8  156   13.677125   13.4\n",
      "9  183   24.342714   24.4\n",
      "\n",
      " Performance Metrics : \n",
      "        MAE       MSE      MSLE      MAPE       MPE      RMSE     RMSLE        ME       R2       EV       MPD       MGD\n",
      "0  1.135109  2.967279  0.010849  7.890898 -1.357989  1.722579  0.104161  5.566438  0.83644  0.83717  0.183583  0.012201\n"
     ]
    }
   ],
   "source": [
    "# Generating prediction and metrics on default test data\n",
    "prediction = aml.predict(rank=2)"
   ]
  },
  {
   "cell_type": "code",
   "execution_count": 21,
   "id": "742da363-550e-43e9-8c4b-d5feac54f522",
   "metadata": {},
   "outputs": [
    {
     "data": {
      "text/html": [
       "<style type=\"text/css\">\n",
       "\ttable {border:ridge 5px;}\n",
       "\ttable td {border:inset 1px;}\n",
       "\ttable tr#HeaderRow {background-color:grey; color:white;}</style>\n",
       "<html><table>\n",
       "\t<tr id=\"HeaderRow\">\n",
       "\t\t<th>id</th>\n",
       "\t\t<th>prediction</th>\n",
       "\t\t<th>Sales</th>\n",
       "\t</tr>\n",
       "\t<tr>\n",
       "\t\t<td>26</td>\n",
       "\t\t<td>10.683027713381462</td>\n",
       "\t\t<td>10.8</td>\n",
       "\t</tr>\n",
       "\t<tr>\n",
       "\t\t<td>28</td>\n",
       "\t\t<td>16.61365326853085</td>\n",
       "\t\t<td>16.1</td>\n",
       "\t</tr>\n",
       "\t<tr>\n",
       "\t\t<td>29</td>\n",
       "\t\t<td>12.873589311162872</td>\n",
       "\t\t<td>13.6</td>\n",
       "\t</tr>\n",
       "\t<tr>\n",
       "\t\t<td>30</td>\n",
       "\t\t<td>14.763463962991793</td>\n",
       "\t\t<td>17.6</td>\n",
       "\t</tr>\n",
       "\t<tr>\n",
       "\t\t<td>89</td>\n",
       "\t\t<td>16.11091103016623</td>\n",
       "\t\t<td>16.0</td>\n",
       "\t</tr>\n",
       "\t<tr>\n",
       "\t\t<td>97</td>\n",
       "\t\t<td>10.283370728906439</td>\n",
       "\t\t<td>13.2</td>\n",
       "\t</tr>\n",
       "\t<tr>\n",
       "\t\t<td>31</td>\n",
       "\t\t<td>17.02922383195737</td>\n",
       "\t\t<td>16.9</td>\n",
       "\t</tr>\n",
       "\t<tr>\n",
       "\t\t<td>27</td>\n",
       "\t\t<td>21.087717296857267</td>\n",
       "\t\t<td>17.4</td>\n",
       "\t</tr>\n",
       "\t<tr>\n",
       "\t\t<td>25</td>\n",
       "\t\t<td>9.74565149929717</td>\n",
       "\t\t<td>9.5</td>\n",
       "\t</tr>\n",
       "\t<tr>\n",
       "\t\t<td>24</td>\n",
       "\t\t<td>14.319533382626402</td>\n",
       "\t\t<td>15.3</td>\n",
       "\t</tr>\n",
       "</table></html>"
      ],
      "text/plain": [
       "   id  prediction  Sales\n",
       "0  26   10.683028   10.8\n",
       "1  28   16.613653   16.1\n",
       "2  29   12.873589   13.6\n",
       "3  30   14.763464   17.6\n",
       "4  89   16.110911   16.0\n",
       "5  97   10.283371   13.2\n",
       "6  31   17.029224   16.9\n",
       "7  27   21.087717   17.4\n",
       "8  25    9.745651    9.5\n",
       "9  24   14.319533   15.3"
      ]
     },
     "execution_count": 21,
     "metadata": {},
     "output_type": "execute_result"
    }
   ],
   "source": [
    "# Printing prediction\n",
    "prediction.head()"
   ]
  },
  {
   "cell_type": "markdown",
   "id": "ff38e5a7-70a4-4e80-9728-3b5e93b62344",
   "metadata": {},
   "source": [
    "### <b><span style='color:#F1A424'>| 5.2. </span> Generating prediction on external test data </b>"
   ]
  },
  {
   "cell_type": "code",
   "execution_count": 22,
   "id": "5b6edfe3-bd5a-46bd-ad80-b20fadfed7a0",
   "metadata": {},
   "outputs": [
    {
     "name": "stdout",
     "output_type": "stream",
     "text": [
      "Data Transformation started ...\n",
      "Performing transformation carried out in feature engineering phase ...\n",
      "Performing transformation carried out in data preparation phase ...\n",
      "result data stored in table '\"AUTOML_USR\".\"ml__td_sqlmr_persist_out__1712115723136997\"'\n",
      "\n",
      "Updated dataset after performing Lasso feature selection:\n"
     ]
    },
    {
     "data": {
      "text/html": [
       "<style type=\"text/css\">\n",
       "\ttable {border:ridge 5px;}\n",
       "\ttable td {border:inset 1px;}\n",
       "\ttable tr#HeaderRow {background-color:grey; color:white;}</style>\n",
       "<html><table>\n",
       "\t<tr id=\"HeaderRow\">\n",
       "\t\t<th>id</th>\n",
       "\t\t<th>TV</th>\n",
       "\t\t<th>Radio</th>\n",
       "\t\t<th>Newspaper</th>\n",
       "\t\t<th>Sales</th>\n",
       "\t</tr>\n",
       "\t<tr>\n",
       "\t\t<td>17</td>\n",
       "\t\t<td>13.1</td>\n",
       "\t\t<td>0.4</td>\n",
       "\t\t<td>25.6</td>\n",
       "\t\t<td>5.3</td>\n",
       "\t</tr>\n",
       "\t<tr>\n",
       "\t\t<td>26</td>\n",
       "\t\t<td>224.0</td>\n",
       "\t\t<td>2.4</td>\n",
       "\t\t<td>15.6</td>\n",
       "\t\t<td>16.6</td>\n",
       "\t</tr>\n",
       "\t<tr>\n",
       "\t\t<td>43</td>\n",
       "\t\t<td>129.4</td>\n",
       "\t\t<td>5.7</td>\n",
       "\t\t<td>31.3</td>\n",
       "\t\t<td>11.0</td>\n",
       "\t</tr>\n",
       "\t<tr>\n",
       "\t\t<td>38</td>\n",
       "\t\t<td>188.4</td>\n",
       "\t\t<td>18.1</td>\n",
       "\t\t<td>25.6</td>\n",
       "\t\t<td>19.9</td>\n",
       "\t</tr>\n",
       "\t<tr>\n",
       "\t\t<td>36</td>\n",
       "\t\t<td>253.8</td>\n",
       "\t\t<td>21.3</td>\n",
       "\t\t<td>30.0</td>\n",
       "\t\t<td>17.6</td>\n",
       "\t</tr>\n",
       "\t<tr>\n",
       "\t\t<td>28</td>\n",
       "\t\t<td>78.2</td>\n",
       "\t\t<td>46.8</td>\n",
       "\t\t<td>34.5</td>\n",
       "\t\t<td>14.6</td>\n",
       "\t</tr>\n",
       "\t<tr>\n",
       "\t\t<td>41</td>\n",
       "\t\t<td>248.8</td>\n",
       "\t\t<td>27.1</td>\n",
       "\t\t<td>22.9</td>\n",
       "\t\t<td>18.9</td>\n",
       "\t</tr>\n",
       "\t<tr>\n",
       "\t\t<td>50</td>\n",
       "\t\t<td>107.4</td>\n",
       "\t\t<td>14.0</td>\n",
       "\t\t<td>10.9</td>\n",
       "\t\t<td>11.5</td>\n",
       "\t</tr>\n",
       "\t<tr>\n",
       "\t\t<td>19</td>\n",
       "\t\t<td>16.9</td>\n",
       "\t\t<td>43.7</td>\n",
       "\t\t<td>89.4</td>\n",
       "\t\t<td>8.7</td>\n",
       "\t</tr>\n",
       "\t<tr>\n",
       "\t\t<td>30</td>\n",
       "\t\t<td>56.2</td>\n",
       "\t\t<td>5.7</td>\n",
       "\t\t<td>29.7</td>\n",
       "\t\t<td>8.7</td>\n",
       "\t</tr>\n",
       "</table></html>"
      ],
      "text/plain": [
       "       TV  Radio  Newspaper  Sales\n",
       "id                                \n",
       "17   13.1    0.4       25.6    5.3\n",
       "26  224.0    2.4       15.6   16.6\n",
       "43  129.4    5.7       31.3   11.0\n",
       "38  188.4   18.1       25.6   19.9\n",
       "36  253.8   21.3       30.0   17.6\n",
       "28   78.2   46.8       34.5   14.6\n",
       "41  248.8   27.1       22.9   18.9\n",
       "50  107.4   14.0       10.9   11.5\n",
       "19   16.9   43.7       89.4    8.7\n",
       "30   56.2    5.7       29.7    8.7"
      ]
     },
     "metadata": {},
     "output_type": "display_data"
    },
    {
     "name": "stdout",
     "output_type": "stream",
     "text": [
      "\n",
      "Updated dataset after performing scaling on Lasso selected features :\n"
     ]
    },
    {
     "data": {
      "text/html": [
       "<style type=\"text/css\">\n",
       "\ttable {border:ridge 5px;}\n",
       "\ttable td {border:inset 1px;}\n",
       "\ttable tr#HeaderRow {background-color:grey; color:white;}</style>\n",
       "<html><table>\n",
       "\t<tr id=\"HeaderRow\">\n",
       "\t\t<th>id</th>\n",
       "\t\t<th>Sales</th>\n",
       "\t\t<th>TV</th>\n",
       "\t\t<th>Radio</th>\n",
       "\t\t<th>Newspaper</th>\n",
       "\t</tr>\n",
       "\t<tr>\n",
       "\t\t<td>41</td>\n",
       "\t\t<td>18.9</td>\n",
       "\t\t<td>1.084287692710878</td>\n",
       "\t\t<td>0.29961597618639607</td>\n",
       "\t\t<td>-0.2771159539053203</td>\n",
       "\t</tr>\n",
       "\t<tr>\n",
       "\t\t<td>22</td>\n",
       "\t\t<td>11.0</td>\n",
       "\t\t<td>-1.52691793726505</td>\n",
       "\t\t<td>0.13206931810240044</td>\n",
       "\t\t<td>-1.3646480498665847</td>\n",
       "\t</tr>\n",
       "\t<tr>\n",
       "\t\t<td>62</td>\n",
       "\t\t<td>6.6</td>\n",
       "\t\t<td>-1.6723187109544597</td>\n",
       "\t\t<td>-0.44429118570654463</td>\n",
       "\t\t<td>-0.3086386233534728</td>\n",
       "\t</tr>\n",
       "\t<tr>\n",
       "\t\t<td>38</td>\n",
       "\t\t<td>19.9</td>\n",
       "\t\t<td>0.3584854835505188</td>\n",
       "\t\t<td>-0.3035519929159882</td>\n",
       "\t\t<td>-0.13526394138863349</td>\n",
       "\t</tr>\n",
       "\t<tr>\n",
       "\t\t<td>15</td>\n",
       "\t\t<td>14.0</td>\n",
       "\t\t<td>-0.773477564510836</td>\n",
       "\t\t<td>-1.1881983475994853</td>\n",
       "\t\t<td>-1.0546751336264175</td>\n",
       "\t</tr>\n",
       "\t<tr>\n",
       "\t\t<td>32</td>\n",
       "\t\t<td>11.9</td>\n",
       "\t\t<td>-0.5487672778999302</td>\n",
       "\t\t<td>-0.35046505717950716</td>\n",
       "\t\t<td>0.5477272299880059</td>\n",
       "\t</tr>\n",
       "\t<tr>\n",
       "\t\t<td>19</td>\n",
       "\t\t<td>8.7</td>\n",
       "\t\t<td>-1.702360193121693</td>\n",
       "\t\t<td>1.4121257858641272</td>\n",
       "\t\t<td>3.216646576598259</td>\n",
       "\t</tr>\n",
       "\t<tr>\n",
       "\t\t<td>30</td>\n",
       "\t\t<td>8.7</td>\n",
       "\t\t<td>-1.230108093452784</td>\n",
       "\t\t<td>-1.1345834170126068</td>\n",
       "\t\t<td>0.08014096650707576</td>\n",
       "\t</tr>\n",
       "\t<tr>\n",
       "\t\t<td>36</td>\n",
       "\t\t<td>17.6</td>\n",
       "\t\t<td>1.144370657045345</td>\n",
       "\t\t<td>-0.08909227056847385</td>\n",
       "\t\t<td>0.09590230123115209</td>\n",
       "\t</tr>\n",
       "\t<tr>\n",
       "\t\t<td>28</td>\n",
       "\t\t<td>14.6</td>\n",
       "\t\t<td>-0.96574305038113</td>\n",
       "\t\t<td>1.6198836418882814</td>\n",
       "\t\t<td>0.3323223220922965</td>\n",
       "\t</tr>\n",
       "</table></html>"
      ],
      "text/plain": [
       "   id  Sales        TV     Radio  Newspaper\n",
       "0  41   18.9  1.084288  0.299616  -0.277116\n",
       "1  22   11.0 -1.526918  0.132069  -1.364648\n",
       "2  62    6.6 -1.672319 -0.444291  -0.308639\n",
       "3  38   19.9  0.358485 -0.303552  -0.135264\n",
       "4  15   14.0 -0.773478 -1.188198  -1.054675\n",
       "5  32   11.9 -0.548767 -0.350465   0.547727\n",
       "6  19    8.7 -1.702360  1.412126   3.216647\n",
       "7  30    8.7 -1.230108 -1.134583   0.080141\n",
       "8  36   17.6  1.144371 -0.089092   0.095902\n",
       "9  28   14.6 -0.965743  1.619884   0.332322"
      ]
     },
     "metadata": {},
     "output_type": "display_data"
    },
    {
     "name": "stdout",
     "output_type": "stream",
     "text": [
      "\n",
      "Updated dataset after performing RFE feature selection:\n"
     ]
    },
    {
     "data": {
      "text/html": [
       "<style type=\"text/css\">\n",
       "\ttable {border:ridge 5px;}\n",
       "\ttable td {border:inset 1px;}\n",
       "\ttable tr#HeaderRow {background-color:grey; color:white;}</style>\n",
       "<html><table>\n",
       "\t<tr id=\"HeaderRow\">\n",
       "\t\t<th>id</th>\n",
       "\t\t<th>TV</th>\n",
       "\t\t<th>Radio</th>\n",
       "\t\t<th>Sales</th>\n",
       "\t</tr>\n",
       "\t<tr>\n",
       "\t\t<td>15</td>\n",
       "\t\t<td>94.2</td>\n",
       "\t\t<td>4.9</td>\n",
       "\t\t<td>14.0</td>\n",
       "\t</tr>\n",
       "\t<tr>\n",
       "\t\t<td>26</td>\n",
       "\t\t<td>224.0</td>\n",
       "\t\t<td>2.4</td>\n",
       "\t\t<td>16.6</td>\n",
       "\t</tr>\n",
       "\t<tr>\n",
       "\t\t<td>43</td>\n",
       "\t\t<td>129.4</td>\n",
       "\t\t<td>5.7</td>\n",
       "\t\t<td>11.0</td>\n",
       "\t</tr>\n",
       "\t<tr>\n",
       "\t\t<td>19</td>\n",
       "\t\t<td>16.9</td>\n",
       "\t\t<td>43.7</td>\n",
       "\t\t<td>8.7</td>\n",
       "\t</tr>\n",
       "\t<tr>\n",
       "\t\t<td>22</td>\n",
       "\t\t<td>31.5</td>\n",
       "\t\t<td>24.6</td>\n",
       "\t\t<td>11.0</td>\n",
       "\t</tr>\n",
       "\t<tr>\n",
       "\t\t<td>62</td>\n",
       "\t\t<td>19.4</td>\n",
       "\t\t<td>16.0</td>\n",
       "\t\t<td>6.6</td>\n",
       "\t</tr>\n",
       "\t<tr>\n",
       "\t\t<td>17</td>\n",
       "\t\t<td>13.1</td>\n",
       "\t\t<td>0.4</td>\n",
       "\t\t<td>5.3</td>\n",
       "\t</tr>\n",
       "\t<tr>\n",
       "\t\t<td>34</td>\n",
       "\t\t<td>25.0</td>\n",
       "\t\t<td>11.0</td>\n",
       "\t\t<td>7.2</td>\n",
       "\t</tr>\n",
       "\t<tr>\n",
       "\t\t<td>36</td>\n",
       "\t\t<td>253.8</td>\n",
       "\t\t<td>21.3</td>\n",
       "\t\t<td>17.6</td>\n",
       "\t</tr>\n",
       "\t<tr>\n",
       "\t\t<td>28</td>\n",
       "\t\t<td>78.2</td>\n",
       "\t\t<td>46.8</td>\n",
       "\t\t<td>14.6</td>\n",
       "\t</tr>\n",
       "</table></html>"
      ],
      "text/plain": [
       "       TV  Radio  Sales\n",
       "id                     \n",
       "15   94.2    4.9   14.0\n",
       "26  224.0    2.4   16.6\n",
       "43  129.4    5.7   11.0\n",
       "19   16.9   43.7    8.7\n",
       "22   31.5   24.6   11.0\n",
       "62   19.4   16.0    6.6\n",
       "17   13.1    0.4    5.3\n",
       "34   25.0   11.0    7.2\n",
       "36  253.8   21.3   17.6\n",
       "28   78.2   46.8   14.6"
      ]
     },
     "metadata": {},
     "output_type": "display_data"
    },
    {
     "name": "stdout",
     "output_type": "stream",
     "text": [
      "\n",
      "Updated dataset after performing scaling on RFE selected features :\n"
     ]
    },
    {
     "data": {
      "text/html": [
       "<style type=\"text/css\">\n",
       "\ttable {border:ridge 5px;}\n",
       "\ttable td {border:inset 1px;}\n",
       "\ttable tr#HeaderRow {background-color:grey; color:white;}</style>\n",
       "<html><table>\n",
       "\t<tr id=\"HeaderRow\">\n",
       "\t\t<th>id</th>\n",
       "\t\t<th>Sales</th>\n",
       "\t\t<th>r_TV</th>\n",
       "\t\t<th>r_Radio</th>\n",
       "\t</tr>\n",
       "\t<tr>\n",
       "\t\t<td>22</td>\n",
       "\t\t<td>11.0</td>\n",
       "\t\t<td>-1.52691793726505</td>\n",
       "\t\t<td>0.13206931810240044</td>\n",
       "\t</tr>\n",
       "\t<tr>\n",
       "\t\t<td>15</td>\n",
       "\t\t<td>14.0</td>\n",
       "\t\t<td>-0.773477564510836</td>\n",
       "\t\t<td>-1.1881983475994853</td>\n",
       "\t</tr>\n",
       "\t<tr>\n",
       "\t\t<td>32</td>\n",
       "\t\t<td>11.9</td>\n",
       "\t\t<td>-0.5487672778999302</td>\n",
       "\t\t<td>-0.35046505717950716</td>\n",
       "\t</tr>\n",
       "\t<tr>\n",
       "\t\t<td>36</td>\n",
       "\t\t<td>17.6</td>\n",
       "\t\t<td>1.144370657045345</td>\n",
       "\t\t<td>-0.08909227056847385</td>\n",
       "\t</tr>\n",
       "\t<tr>\n",
       "\t\t<td>26</td>\n",
       "\t\t<td>16.6</td>\n",
       "\t\t<td>0.7862761896119225</td>\n",
       "\t\t<td>-1.355745005683481</td>\n",
       "\t</tr>\n",
       "\t<tr>\n",
       "\t\t<td>43</td>\n",
       "\t\t<td>11.0</td>\n",
       "\t\t<td>-0.35049349559618964</td>\n",
       "\t\t<td>-1.1345834170126068</td>\n",
       "\t</tr>\n",
       "\t<tr>\n",
       "\t\t<td>41</td>\n",
       "\t\t<td>18.9</td>\n",
       "\t\t<td>1.084287692710878</td>\n",
       "\t\t<td>0.29961597618639607</td>\n",
       "\t</tr>\n",
       "\t<tr>\n",
       "\t\t<td>50</td>\n",
       "\t\t<td>11.5</td>\n",
       "\t\t<td>-0.6148585386678437</td>\n",
       "\t\t<td>-0.5783285121737411</td>\n",
       "\t</tr>\n",
       "\t<tr>\n",
       "\t\t<td>38</td>\n",
       "\t\t<td>19.9</td>\n",
       "\t\t<td>0.3584854835505188</td>\n",
       "\t\t<td>-0.3035519929159882</td>\n",
       "\t</tr>\n",
       "\t<tr>\n",
       "\t\t<td>12</td>\n",
       "\t\t<td>5.7</td>\n",
       "\t\t<td>-1.8045012324902867</td>\n",
       "\t\t<td>0.30631784250975574</td>\n",
       "\t</tr>\n",
       "</table></html>"
      ],
      "text/plain": [
       "   id  Sales      r_TV   r_Radio\n",
       "0  22   11.0 -1.526918  0.132069\n",
       "1  15   14.0 -0.773478 -1.188198\n",
       "2  32   11.9 -0.548767 -0.350465\n",
       "3  36   17.6  1.144371 -0.089092\n",
       "4  26   16.6  0.786276 -1.355745\n",
       "5  43   11.0 -0.350493 -1.134583\n",
       "6  41   18.9  1.084288  0.299616\n",
       "7  50   11.5 -0.614859 -0.578329\n",
       "8  38   19.9  0.358485 -0.303552\n",
       "9  12    5.7 -1.804501  0.306318"
      ]
     },
     "metadata": {},
     "output_type": "display_data"
    },
    {
     "name": "stdout",
     "output_type": "stream",
     "text": [
      "\n",
      "Updated dataset after performing scaling for PCA feature selection :\n"
     ]
    },
    {
     "data": {
      "text/html": [
       "<style type=\"text/css\">\n",
       "\ttable {border:ridge 5px;}\n",
       "\ttable td {border:inset 1px;}\n",
       "\ttable tr#HeaderRow {background-color:grey; color:white;}</style>\n",
       "<html><table>\n",
       "\t<tr id=\"HeaderRow\">\n",
       "\t\t<th>id</th>\n",
       "\t\t<th>Sales</th>\n",
       "\t\t<th>TV</th>\n",
       "\t\t<th>Radio</th>\n",
       "\t\t<th>Newspaper</th>\n",
       "\t</tr>\n",
       "\t<tr>\n",
       "\t\t<td>41</td>\n",
       "\t\t<td>18.9</td>\n",
       "\t\t<td>1.0842876927108782</td>\n",
       "\t\t<td>0.2996159761863963</td>\n",
       "\t\t<td>-0.27711595390532034</td>\n",
       "\t</tr>\n",
       "\t<tr>\n",
       "\t\t<td>26</td>\n",
       "\t\t<td>16.6</td>\n",
       "\t\t<td>0.7862761896119227</td>\n",
       "\t\t<td>-1.3557450056834808</td>\n",
       "\t\t<td>-0.6606417655245103</td>\n",
       "\t</tr>\n",
       "\t<tr>\n",
       "\t\t<td>43</td>\n",
       "\t\t<td>11.0</td>\n",
       "\t\t<td>-0.35049349559618925</td>\n",
       "\t\t<td>-1.1345834170126063</td>\n",
       "\t\t<td>0.1642014183688161</td>\n",
       "\t</tr>\n",
       "\t<tr>\n",
       "\t\t<td>19</td>\n",
       "\t\t<td>8.7</td>\n",
       "\t\t<td>-1.7023601931216925</td>\n",
       "\t\t<td>1.4121257858641274</td>\n",
       "\t\t<td>3.2166465765982593</td>\n",
       "\t</tr>\n",
       "\t<tr>\n",
       "\t\t<td>38</td>\n",
       "\t\t<td>19.9</td>\n",
       "\t\t<td>0.35848548355051907</td>\n",
       "\t\t<td>-0.303551992915988</td>\n",
       "\t\t<td>-0.1352639413886335</td>\n",
       "\t</tr>\n",
       "\t<tr>\n",
       "\t\t<td>12</td>\n",
       "\t\t<td>5.7</td>\n",
       "\t\t<td>-1.804501232490286</td>\n",
       "\t\t<td>0.30631784250975597</td>\n",
       "\t\t<td>-1.3699018281079436</td>\n",
       "\t</tr>\n",
       "\t<tr>\n",
       "\t\t<td>22</td>\n",
       "\t\t<td>11.0</td>\n",
       "\t\t<td>-1.5269179372650494</td>\n",
       "\t\t<td>0.13206931810240066</td>\n",
       "\t\t<td>-1.364648049866585</td>\n",
       "\t</tr>\n",
       "\t<tr>\n",
       "\t\t<td>62</td>\n",
       "\t\t<td>6.6</td>\n",
       "\t\t<td>-1.672318710954459</td>\n",
       "\t\t<td>-0.4442911857065444</td>\n",
       "\t\t<td>-0.30863862335347286</td>\n",
       "\t</tr>\n",
       "\t<tr>\n",
       "\t\t<td>15</td>\n",
       "\t\t<td>14.0</td>\n",
       "\t\t<td>-0.7734775645108356</td>\n",
       "\t\t<td>-1.1881983475994848</td>\n",
       "\t\t<td>-1.0546751336264177</td>\n",
       "\t</tr>\n",
       "\t<tr>\n",
       "\t\t<td>32</td>\n",
       "\t\t<td>11.9</td>\n",
       "\t\t<td>-0.5487672778999297</td>\n",
       "\t\t<td>-0.35046505717950693</td>\n",
       "\t\t<td>0.547727229988006</td>\n",
       "\t</tr>\n",
       "</table></html>"
      ],
      "text/plain": [
       "   id  Sales        TV     Radio  Newspaper\n",
       "0  41   18.9  1.084288  0.299616  -0.277116\n",
       "1  26   16.6  0.786276 -1.355745  -0.660642\n",
       "2  43   11.0 -0.350493 -1.134583   0.164201\n",
       "3  19    8.7 -1.702360  1.412126   3.216647\n",
       "4  38   19.9  0.358485 -0.303552  -0.135264\n",
       "5  12    5.7 -1.804501  0.306318  -1.369902\n",
       "6  22   11.0 -1.526918  0.132069  -1.364648\n",
       "7  62    6.6 -1.672319 -0.444291  -0.308639\n",
       "8  15   14.0 -0.773478 -1.188198  -1.054675\n",
       "9  32   11.9 -0.548767 -0.350465   0.547727"
      ]
     },
     "metadata": {},
     "output_type": "display_data"
    },
    {
     "name": "stdout",
     "output_type": "stream",
     "text": [
      "\n",
      "Updated dataset after performing PCA feature selection :\n"
     ]
    },
    {
     "data": {
      "text/html": [
       "<div>\n",
       "<style scoped>\n",
       "    .dataframe tbody tr th:only-of-type {\n",
       "        vertical-align: middle;\n",
       "    }\n",
       "\n",
       "    .dataframe tbody tr th {\n",
       "        vertical-align: top;\n",
       "    }\n",
       "\n",
       "    .dataframe thead th {\n",
       "        text-align: right;\n",
       "    }\n",
       "</style>\n",
       "<table border=\"1\" class=\"dataframe\">\n",
       "  <thead>\n",
       "    <tr style=\"text-align: right;\">\n",
       "      <th></th>\n",
       "      <th>id</th>\n",
       "      <th>col_0</th>\n",
       "      <th>col_1</th>\n",
       "      <th>col_2</th>\n",
       "      <th>Sales</th>\n",
       "    </tr>\n",
       "  </thead>\n",
       "  <tbody>\n",
       "    <tr>\n",
       "      <th>0</th>\n",
       "      <td>26</td>\n",
       "      <td>-1.021700</td>\n",
       "      <td>-1.109459</td>\n",
       "      <td>-0.786098</td>\n",
       "      <td>16.6</td>\n",
       "    </tr>\n",
       "    <tr>\n",
       "      <th>1</th>\n",
       "      <td>17</td>\n",
       "      <td>-1.791557</td>\n",
       "      <td>1.349903</td>\n",
       "      <td>-0.511291</td>\n",
       "      <td>5.3</td>\n",
       "    </tr>\n",
       "    <tr>\n",
       "      <th>2</th>\n",
       "      <td>22</td>\n",
       "      <td>-1.350535</td>\n",
       "      <td>0.697938</td>\n",
       "      <td>1.378449</td>\n",
       "      <td>11.0</td>\n",
       "    </tr>\n",
       "    <tr>\n",
       "      <th>3</th>\n",
       "      <td>19</td>\n",
       "      <td>2.267715</td>\n",
       "      <td>3.133295</td>\n",
       "      <td>-0.528089</td>\n",
       "      <td>8.7</td>\n",
       "    </tr>\n",
       "    <tr>\n",
       "      <th>4</th>\n",
       "      <td>38</td>\n",
       "      <td>-0.148945</td>\n",
       "      <td>-0.402174</td>\n",
       "      <td>-0.234570</td>\n",
       "      <td>19.9</td>\n",
       "    </tr>\n",
       "    <tr>\n",
       "      <th>5</th>\n",
       "      <td>41</td>\n",
       "      <td>0.462831</td>\n",
       "      <td>-1.058165</td>\n",
       "      <td>0.091204</td>\n",
       "      <td>18.9</td>\n",
       "    </tr>\n",
       "    <tr>\n",
       "      <th>6</th>\n",
       "      <td>36</td>\n",
       "      <td>0.449901</td>\n",
       "      <td>-0.963630</td>\n",
       "      <td>-0.442409</td>\n",
       "      <td>17.6</td>\n",
       "    </tr>\n",
       "    <tr>\n",
       "      <th>7</th>\n",
       "      <td>15</td>\n",
       "      <td>-1.765052</td>\n",
       "      <td>0.082180</td>\n",
       "      <td>0.016142</td>\n",
       "      <td>14.0</td>\n",
       "    </tr>\n",
       "    <tr>\n",
       "      <th>8</th>\n",
       "      <td>43</td>\n",
       "      <td>-0.813049</td>\n",
       "      <td>0.296277</td>\n",
       "      <td>-0.829614</td>\n",
       "      <td>11.0</td>\n",
       "    </tr>\n",
       "    <tr>\n",
       "      <th>9</th>\n",
       "      <td>34</td>\n",
       "      <td>-1.117308</td>\n",
       "      <td>1.382881</td>\n",
       "      <td>-0.170977</td>\n",
       "      <td>7.2</td>\n",
       "    </tr>\n",
       "    <tr>\n",
       "      <th>10</th>\n",
       "      <td>62</td>\n",
       "      <td>-1.153546</td>\n",
       "      <td>1.282956</td>\n",
       "      <td>0.335646</td>\n",
       "      <td>6.6</td>\n",
       "    </tr>\n",
       "    <tr>\n",
       "      <th>11</th>\n",
       "      <td>30</td>\n",
       "      <td>-1.212019</td>\n",
       "      <td>1.026675</td>\n",
       "      <td>-0.532746</td>\n",
       "      <td>8.7</td>\n",
       "    </tr>\n",
       "    <tr>\n",
       "      <th>12</th>\n",
       "      <td>12</td>\n",
       "      <td>-1.344286</td>\n",
       "      <td>0.952214</td>\n",
       "      <td>1.585204</td>\n",
       "      <td>5.7</td>\n",
       "    </tr>\n",
       "    <tr>\n",
       "      <th>13</th>\n",
       "      <td>50</td>\n",
       "      <td>-1.195273</td>\n",
       "      <td>0.061079</td>\n",
       "      <td>0.322162</td>\n",
       "      <td>11.5</td>\n",
       "    </tr>\n",
       "    <tr>\n",
       "      <th>14</th>\n",
       "      <td>28</td>\n",
       "      <td>0.929789</td>\n",
       "      <td>1.131012</td>\n",
       "      <td>1.234271</td>\n",
       "      <td>14.6</td>\n",
       "    </tr>\n",
       "    <tr>\n",
       "      <th>15</th>\n",
       "      <td>32</td>\n",
       "      <td>-0.119966</td>\n",
       "      <td>0.713990</td>\n",
       "      <td>-0.446993</td>\n",
       "      <td>11.9</td>\n",
       "    </tr>\n",
       "    <tr>\n",
       "      <th>16</th>\n",
       "      <td>20</td>\n",
       "      <td>-1.225427</td>\n",
       "      <td>-0.808706</td>\n",
       "      <td>0.010447</td>\n",
       "      <td>14.8</td>\n",
       "    </tr>\n",
       "    <tr>\n",
       "      <th>17</th>\n",
       "      <td>13</td>\n",
       "      <td>0.713626</td>\n",
       "      <td>-0.214727</td>\n",
       "      <td>-1.279491</td>\n",
       "      <td>19.8</td>\n",
       "    </tr>\n",
       "    <tr>\n",
       "      <th>18</th>\n",
       "      <td>37</td>\n",
       "      <td>1.261478</td>\n",
       "      <td>0.020625</td>\n",
       "      <td>-0.241770</td>\n",
       "      <td>19.0</td>\n",
       "    </tr>\n",
       "    <tr>\n",
       "      <th>19</th>\n",
       "      <td>14</td>\n",
       "      <td>2.262422</td>\n",
       "      <td>-0.312302</td>\n",
       "      <td>-0.243485</td>\n",
       "      <td>24.2</td>\n",
       "    </tr>\n",
       "    <tr>\n",
       "      <th>20</th>\n",
       "      <td>29</td>\n",
       "      <td>-0.167995</td>\n",
       "      <td>0.834143</td>\n",
       "      <td>-1.245812</td>\n",
       "      <td>11.6</td>\n",
       "    </tr>\n",
       "    <tr>\n",
       "      <th>21</th>\n",
       "      <td>54</td>\n",
       "      <td>2.281394</td>\n",
       "      <td>0.883687</td>\n",
       "      <td>-1.064557</td>\n",
       "      <td>19.2</td>\n",
       "    </tr>\n",
       "    <tr>\n",
       "      <th>22</th>\n",
       "      <td>24</td>\n",
       "      <td>-0.164518</td>\n",
       "      <td>1.000190</td>\n",
       "      <td>0.986133</td>\n",
       "      <td>11.8</td>\n",
       "    </tr>\n",
       "    <tr>\n",
       "      <th>23</th>\n",
       "      <td>18</td>\n",
       "      <td>-0.559985</td>\n",
       "      <td>0.586871</td>\n",
       "      <td>0.913757</td>\n",
       "      <td>12.0</td>\n",
       "    </tr>\n",
       "    <tr>\n",
       "      <th>24</th>\n",
       "      <td>11</td>\n",
       "      <td>-0.514932</td>\n",
       "      <td>-1.462017</td>\n",
       "      <td>-1.234505</td>\n",
       "      <td>16.8</td>\n",
       "    </tr>\n",
       "    <tr>\n",
       "      <th>25</th>\n",
       "      <td>35</td>\n",
       "      <td>-0.128806</td>\n",
       "      <td>0.041529</td>\n",
       "      <td>1.222208</td>\n",
       "      <td>15.2</td>\n",
       "    </tr>\n",
       "    <tr>\n",
       "      <th>26</th>\n",
       "      <td>21</td>\n",
       "      <td>-2.528522</td>\n",
       "      <td>0.790796</td>\n",
       "      <td>0.400060</td>\n",
       "      <td>4.8</td>\n",
       "    </tr>\n",
       "    <tr>\n",
       "      <th>27</th>\n",
       "      <td>46</td>\n",
       "      <td>0.938902</td>\n",
       "      <td>1.364555</td>\n",
       "      <td>0.184715</td>\n",
       "      <td>13.3</td>\n",
       "    </tr>\n",
       "    <tr>\n",
       "      <th>28</th>\n",
       "      <td>31</td>\n",
       "      <td>1.725748</td>\n",
       "      <td>1.474359</td>\n",
       "      <td>-0.124883</td>\n",
       "      <td>16.0</td>\n",
       "    </tr>\n",
       "    <tr>\n",
       "      <th>29</th>\n",
       "      <td>39</td>\n",
       "      <td>1.219200</td>\n",
       "      <td>-0.525585</td>\n",
       "      <td>0.872770</td>\n",
       "      <td>22.3</td>\n",
       "    </tr>\n",
       "    <tr>\n",
       "      <th>30</th>\n",
       "      <td>8</td>\n",
       "      <td>1.305994</td>\n",
       "      <td>0.516393</td>\n",
       "      <td>-3.061301</td>\n",
       "      <td>16.9</td>\n",
       "    </tr>\n",
       "    <tr>\n",
       "      <th>31</th>\n",
       "      <td>9</td>\n",
       "      <td>-0.667136</td>\n",
       "      <td>0.846240</td>\n",
       "      <td>-0.638556</td>\n",
       "      <td>10.6</td>\n",
       "    </tr>\n",
       "    <tr>\n",
       "      <th>32</th>\n",
       "      <td>27</td>\n",
       "      <td>-0.584568</td>\n",
       "      <td>-1.999311</td>\n",
       "      <td>-0.039758</td>\n",
       "      <td>20.9</td>\n",
       "    </tr>\n",
       "    <tr>\n",
       "      <th>33</th>\n",
       "      <td>44</td>\n",
       "      <td>1.148537</td>\n",
       "      <td>2.427638</td>\n",
       "      <td>-0.192104</td>\n",
       "      <td>9.2</td>\n",
       "    </tr>\n",
       "    <tr>\n",
       "      <th>34</th>\n",
       "      <td>16</td>\n",
       "      <td>-0.392947</td>\n",
       "      <td>0.739220</td>\n",
       "      <td>0.666134</td>\n",
       "      <td>11.8</td>\n",
       "    </tr>\n",
       "    <tr>\n",
       "      <th>35</th>\n",
       "      <td>25</td>\n",
       "      <td>1.361342</td>\n",
       "      <td>2.300634</td>\n",
       "      <td>-0.055599</td>\n",
       "      <td>10.8</td>\n",
       "    </tr>\n",
       "    <tr>\n",
       "      <th>36</th>\n",
       "      <td>33</td>\n",
       "      <td>-1.915331</td>\n",
       "      <td>0.190396</td>\n",
       "      <td>0.552286</td>\n",
       "      <td>11.3</td>\n",
       "    </tr>\n",
       "    <tr>\n",
       "      <th>37</th>\n",
       "      <td>42</td>\n",
       "      <td>-1.940830</td>\n",
       "      <td>0.030504</td>\n",
       "      <td>-0.135943</td>\n",
       "      <td>11.9</td>\n",
       "    </tr>\n",
       "    <tr>\n",
       "      <th>38</th>\n",
       "      <td>10</td>\n",
       "      <td>2.496772</td>\n",
       "      <td>0.204885</td>\n",
       "      <td>-1.092528</td>\n",
       "      <td>22.2</td>\n",
       "    </tr>\n",
       "    <tr>\n",
       "      <th>39</th>\n",
       "      <td>23</td>\n",
       "      <td>-0.040650</td>\n",
       "      <td>1.951649</td>\n",
       "      <td>0.332764</td>\n",
       "      <td>5.5</td>\n",
       "    </tr>\n",
       "  </tbody>\n",
       "</table>\n",
       "</div>"
      ],
      "text/plain": [
       "    id     col_0     col_1     col_2  Sales\n",
       "0   26 -1.021700 -1.109459 -0.786098   16.6\n",
       "1   17 -1.791557  1.349903 -0.511291    5.3\n",
       "2   22 -1.350535  0.697938  1.378449   11.0\n",
       "3   19  2.267715  3.133295 -0.528089    8.7\n",
       "4   38 -0.148945 -0.402174 -0.234570   19.9\n",
       "5   41  0.462831 -1.058165  0.091204   18.9\n",
       "6   36  0.449901 -0.963630 -0.442409   17.6\n",
       "7   15 -1.765052  0.082180  0.016142   14.0\n",
       "8   43 -0.813049  0.296277 -0.829614   11.0\n",
       "9   34 -1.117308  1.382881 -0.170977    7.2\n",
       "10  62 -1.153546  1.282956  0.335646    6.6\n",
       "11  30 -1.212019  1.026675 -0.532746    8.7\n",
       "12  12 -1.344286  0.952214  1.585204    5.7\n",
       "13  50 -1.195273  0.061079  0.322162   11.5\n",
       "14  28  0.929789  1.131012  1.234271   14.6\n",
       "15  32 -0.119966  0.713990 -0.446993   11.9\n",
       "16  20 -1.225427 -0.808706  0.010447   14.8\n",
       "17  13  0.713626 -0.214727 -1.279491   19.8\n",
       "18  37  1.261478  0.020625 -0.241770   19.0\n",
       "19  14  2.262422 -0.312302 -0.243485   24.2\n",
       "20  29 -0.167995  0.834143 -1.245812   11.6\n",
       "21  54  2.281394  0.883687 -1.064557   19.2\n",
       "22  24 -0.164518  1.000190  0.986133   11.8\n",
       "23  18 -0.559985  0.586871  0.913757   12.0\n",
       "24  11 -0.514932 -1.462017 -1.234505   16.8\n",
       "25  35 -0.128806  0.041529  1.222208   15.2\n",
       "26  21 -2.528522  0.790796  0.400060    4.8\n",
       "27  46  0.938902  1.364555  0.184715   13.3\n",
       "28  31  1.725748  1.474359 -0.124883   16.0\n",
       "29  39  1.219200 -0.525585  0.872770   22.3\n",
       "30   8  1.305994  0.516393 -3.061301   16.9\n",
       "31   9 -0.667136  0.846240 -0.638556   10.6\n",
       "32  27 -0.584568 -1.999311 -0.039758   20.9\n",
       "33  44  1.148537  2.427638 -0.192104    9.2\n",
       "34  16 -0.392947  0.739220  0.666134   11.8\n",
       "35  25  1.361342  2.300634 -0.055599   10.8\n",
       "36  33 -1.915331  0.190396  0.552286   11.3\n",
       "37  42 -1.940830  0.030504 -0.135943   11.9\n",
       "38  10  2.496772  0.204885 -1.092528   22.2\n",
       "39  23 -0.040650  1.951649  0.332764    5.5"
      ]
     },
     "metadata": {},
     "output_type": "display_data"
    },
    {
     "name": "stdout",
     "output_type": "stream",
     "text": [
      "Data Transformation completed.\n",
      "glm rfe\n",
      "\n",
      " Prediction : \n",
      "   id  prediction  Sales\n",
      "0  38   16.776429   19.9\n",
      "1  22    9.040864   11.0\n",
      "2  62    7.406722    6.6\n",
      "3  41   21.065601   18.9\n",
      "4  15   10.182380   14.0\n",
      "5  32   12.617706   11.9\n",
      "6  19   10.429569    8.7\n",
      "7  30    8.220617    8.7\n",
      "8  36   20.674505   17.6\n",
      "9  28   14.094741   14.6\n",
      "\n",
      " Performance Metrics : \n",
      "        MAE       MSE      MSLE      MAPE       MPE      RMSE     RMSLE       ME      R2        EV       MPD       MGD\n",
      "0  1.023169  2.097692  0.013707  8.900733 -2.252356  1.448341  0.117078  3.81762  0.9185  0.918753  0.173284  0.016473\n"
     ]
    }
   ],
   "source": [
    "# Generating prediction and metrics on test data\n",
    "prediction = aml.predict(advertising_df_test)"
   ]
  },
  {
   "cell_type": "code",
   "execution_count": 23,
   "id": "cc4f6a78-1cdf-4938-a9f1-22035d8404ca",
   "metadata": {},
   "outputs": [
    {
     "data": {
      "text/html": [
       "<style type=\"text/css\">\n",
       "\ttable {border:ridge 5px;}\n",
       "\ttable td {border:inset 1px;}\n",
       "\ttable tr#HeaderRow {background-color:grey; color:white;}</style>\n",
       "<html><table>\n",
       "\t<tr id=\"HeaderRow\">\n",
       "\t\t<th>id</th>\n",
       "\t\t<th>prediction</th>\n",
       "\t\t<th>Sales</th>\n",
       "\t</tr>\n",
       "\t<tr>\n",
       "\t\t<td>10</td>\n",
       "\t\t<td>22.25069209319428</td>\n",
       "\t\t<td>22.2</td>\n",
       "\t</tr>\n",
       "\t<tr>\n",
       "\t\t<td>12</td>\n",
       "\t\t<td>8.089287113462174</td>\n",
       "\t\t<td>5.7</td>\n",
       "\t</tr>\n",
       "\t<tr>\n",
       "\t\t<td>13</td>\n",
       "\t\t<td>18.610406739913877</td>\n",
       "\t\t<td>19.8</td>\n",
       "\t</tr>\n",
       "\t<tr>\n",
       "\t\t<td>14</td>\n",
       "\t\t<td>23.51938133913283</td>\n",
       "\t\t<td>24.2</td>\n",
       "\t</tr>\n",
       "\t<tr>\n",
       "\t\t<td>16</td>\n",
       "\t\t<td>11.706014672247543</td>\n",
       "\t\t<td>11.8</td>\n",
       "\t</tr>\n",
       "\t<tr>\n",
       "\t\t<td>17</td>\n",
       "\t\t<td>5.287899775545614</td>\n",
       "\t\t<td>5.3</td>\n",
       "\t</tr>\n",
       "\t<tr>\n",
       "\t\t<td>15</td>\n",
       "\t\t<td>10.182380467994786</td>\n",
       "\t\t<td>14.0</td>\n",
       "\t</tr>\n",
       "\t<tr>\n",
       "\t\t<td>11</td>\n",
       "\t\t<td>19.745611913555134</td>\n",
       "\t\t<td>16.8</td>\n",
       "\t</tr>\n",
       "\t<tr>\n",
       "\t\t<td>9</td>\n",
       "\t\t<td>10.509285952692053</td>\n",
       "\t\t<td>10.6</td>\n",
       "\t</tr>\n",
       "\t<tr>\n",
       "\t\t<td>8</td>\n",
       "\t\t<td>17.591142960307224</td>\n",
       "\t\t<td>16.9</td>\n",
       "\t</tr>\n",
       "</table></html>"
      ],
      "text/plain": [
       "   id  prediction  Sales\n",
       "0  10   22.250692   22.2\n",
       "1  12    8.089287    5.7\n",
       "2  13   18.610407   19.8\n",
       "3  14   23.519381   24.2\n",
       "4  16   11.706015   11.8\n",
       "5  17    5.287900    5.3\n",
       "6  15   10.182380   14.0\n",
       "7  11   19.745612   16.8\n",
       "8   9   10.509286   10.6\n",
       "9   8   17.591143   16.9"
      ]
     },
     "execution_count": 23,
     "metadata": {},
     "output_type": "execute_result"
    }
   ],
   "source": [
    "# Printing prediction\n",
    "prediction.head()"
   ]
  },
  {
   "cell_type": "code",
   "execution_count": 24,
   "id": "b2cba357-75ac-4089-a234-64a57067b117",
   "metadata": {},
   "outputs": [
    {
     "data": {
      "text/plain": [
       "True"
      ]
     },
     "execution_count": 24,
     "metadata": {},
     "output_type": "execute_result"
    }
   ],
   "source": [
    "remove_context()"
   ]
  },
  {
   "cell_type": "code",
   "execution_count": null,
   "id": "b672112c-d042-4842-846b-163f495d7664",
   "metadata": {},
   "outputs": [],
   "source": []
  }
 ],
 "metadata": {
  "kernelspec": {
   "display_name": "Python 3 (ipykernel)",
   "language": "python",
   "name": "python3"
  },
  "language_info": {
   "codemirror_mode": {
    "name": "ipython",
    "version": 3
   },
   "file_extension": ".py",
   "mimetype": "text/x-python",
   "name": "python",
   "nbconvert_exporter": "python",
   "pygments_lexer": "ipython3",
   "version": "3.10.9"
  }
 },
 "nbformat": 4,
 "nbformat_minor": 5
}
