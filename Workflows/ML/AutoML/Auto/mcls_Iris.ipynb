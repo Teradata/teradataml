{
 "cells": [
  {
   "cell_type": "markdown",
   "id": "2762f1d8-5a66-411f-a625-34cf16ac6dd3",
   "metadata": {},
   "source": [
    "# <b><span style='color:#F1A424'>AutoML - Multi-Class Classification </span> </b>"
   ]
  },
  {
   "cell_type": "markdown",
   "id": "f225fb94-b2c8-4c92-af38-733d08e0e2a1",
   "metadata": {},
   "source": [
    "## <b> Problem overview:</b>\n",
    "    "
   ]
  },
  {
   "cell_type": "markdown",
   "id": "af9813eb-9c44-4968-a5fe-d1c74415c894",
   "metadata": {},
   "source": [
    "\n",
    "The Iris dataset is a classic dataset in the field of machine learning and statistics.It contains measurements of various features of iris flowers, making it a quintessential dataset for practicing classification algorithms and statistical analysis.\n",
    "\n",
    "Here are some key details about the Iris dataset:\n",
    "\n",
    "**Features**:\n",
    "\n",
    "- `Sepal Length (cm)`: Measurement of the length of the outermost petal parts (sepals).\n",
    "- `Sepal Width (cm)`: Measurement of the width of the sepals.\n",
    "- `Petal Length (cm)`: Measurement of the length of the innermost petal parts (petals).\n",
    "- `Petal Width (cm)`: Measurement of the width of the petals.\n",
    "\n",
    "**Target Variable**:\n",
    "\n",
    "- `Species`: The species of iris flowers. It includes three classes: `Setosa`, `Versicolor` and `Virginica`.\n",
    "\n",
    "        \n",
    "**Objective**:\n",
    "\n",
    "The primary objective is typically to build a model that can accurately classify iris flowers into one of the three species based on the provided features.\n",
    "\n",
    "**Challenges**:\n",
    "\n",
    "- The dataset consists of 150 instances, with 50 instances for each of the three classes.\n",
    "\n",
    "**Usecase**:\n",
    "\n",
    "Here, we will use AutoML(Automated Machine Learning) functionality to automate the entire process of developing a predictive model. It will perform feature exploration, feature engineering, data preparation, model training and evaluation on dataset in auto run and at end we will get leaderboard containined different models along with their performance. Model will also have rank associated with them which indicates which is best performing model for given data followed by other models."
   ]
  },
  {
   "cell_type": "code",
   "execution_count": 1,
   "id": "66568348-4d00-477c-a071-17995f797c95",
   "metadata": {},
   "outputs": [],
   "source": [
    "# Importing AutoML from teradataml\n",
    "from teradataml import AutoML, AutoClassifier"
   ]
  },
  {
   "cell_type": "code",
   "execution_count": 2,
   "id": "17dfae70-0401-4cc4-ba1c-400a5cf62451",
   "metadata": {},
   "outputs": [],
   "source": [
    "# Importing other important libraries\n",
    "import getpass\n",
    "from teradataml import create_context, remove_context\n",
    "from teradataml import DataFrame\n",
    "from teradataml import load_example_data\n",
    "from teradataml import TrainTestSplit"
   ]
  },
  {
   "cell_type": "code",
   "execution_count": 3,
   "id": "cadd9ed2-42d6-4899-b23e-4e2cf601162f",
   "metadata": {},
   "outputs": [
    {
     "name": "stdin",
     "output_type": "stream",
     "text": [
      "Host:  ········\n",
      "Username:  ········\n",
      "Password:  ········\n"
     ]
    }
   ],
   "source": [
    "# Create the connection.\n",
    "host = getpass.getpass(\"Host: \")\n",
    "username = getpass.getpass(\"Username: \")\n",
    "password = getpass.getpass(\"Password: \")\n",
    "\n",
    "con = create_context(host=host, username=username, password=password)"
   ]
  },
  {
   "cell_type": "markdown",
   "id": "be767a89-d5b8-4876-91cb-36980754586e",
   "metadata": {},
   "source": [
    "## <b><span style='color:#F1A424'>| 1.</span> Loading Dataset </b>"
   ]
  },
  {
   "cell_type": "code",
   "execution_count": 4,
   "id": "f1592c52-b247-4792-be2a-30b49bbeb9b6",
   "metadata": {},
   "outputs": [
    {
     "name": "stdout",
     "output_type": "stream",
     "text": [
      "WARNING: Skipped loading table iris_input since it already exists in the database.\n"
     ]
    }
   ],
   "source": [
    "# Loading dataset from example data collection\n",
    "load_example_data(\"teradataml\", \"iris_input\")"
   ]
  },
  {
   "cell_type": "code",
   "execution_count": 5,
   "id": "3846ae0f-004b-4b8e-9fea-06fac4294065",
   "metadata": {},
   "outputs": [],
   "source": [
    "# Fetching in teradata dataframe\n",
    "iris = DataFrame.from_table(\"iris_input\")"
   ]
  },
  {
   "cell_type": "code",
   "execution_count": 6,
   "id": "442ccd80-b444-413e-970d-d855ec3d6cae",
   "metadata": {},
   "outputs": [
    {
     "data": {
      "text/html": [
       "<style type=\"text/css\">\n",
       "\ttable {border:ridge 5px;}\n",
       "\ttable td {border:inset 1px;}\n",
       "\ttable tr#HeaderRow {background-color:grey; color:white;}</style>\n",
       "<html><table>\n",
       "\t<tr id=\"HeaderRow\">\n",
       "\t\t<th>id</th>\n",
       "\t\t<th>sepal_length</th>\n",
       "\t\t<th>sepal_width</th>\n",
       "\t\t<th>petal_length</th>\n",
       "\t\t<th>petal_width</th>\n",
       "\t\t<th>species</th>\n",
       "\t</tr>\n",
       "\t<tr>\n",
       "\t\t<td>3</td>\n",
       "\t\t<td>4.7</td>\n",
       "\t\t<td>3.2</td>\n",
       "\t\t<td>1.3</td>\n",
       "\t\t<td>0.2</td>\n",
       "\t\t<td>1</td>\n",
       "\t</tr>\n",
       "\t<tr>\n",
       "\t\t<td>5</td>\n",
       "\t\t<td>5.0</td>\n",
       "\t\t<td>3.6</td>\n",
       "\t\t<td>1.4</td>\n",
       "\t\t<td>0.2</td>\n",
       "\t\t<td>1</td>\n",
       "\t</tr>\n",
       "\t<tr>\n",
       "\t\t<td>6</td>\n",
       "\t\t<td>5.4</td>\n",
       "\t\t<td>3.9</td>\n",
       "\t\t<td>1.7</td>\n",
       "\t\t<td>0.4</td>\n",
       "\t\t<td>1</td>\n",
       "\t</tr>\n",
       "\t<tr>\n",
       "\t\t<td>7</td>\n",
       "\t\t<td>4.6</td>\n",
       "\t\t<td>3.4</td>\n",
       "\t\t<td>1.4</td>\n",
       "\t\t<td>0.3</td>\n",
       "\t\t<td>1</td>\n",
       "\t</tr>\n",
       "\t<tr>\n",
       "\t\t<td>9</td>\n",
       "\t\t<td>4.4</td>\n",
       "\t\t<td>2.9</td>\n",
       "\t\t<td>1.4</td>\n",
       "\t\t<td>0.2</td>\n",
       "\t\t<td>1</td>\n",
       "\t</tr>\n",
       "\t<tr>\n",
       "\t\t<td>10</td>\n",
       "\t\t<td>4.9</td>\n",
       "\t\t<td>3.1</td>\n",
       "\t\t<td>1.5</td>\n",
       "\t\t<td>0.1</td>\n",
       "\t\t<td>1</td>\n",
       "\t</tr>\n",
       "\t<tr>\n",
       "\t\t<td>8</td>\n",
       "\t\t<td>5.0</td>\n",
       "\t\t<td>3.4</td>\n",
       "\t\t<td>1.5</td>\n",
       "\t\t<td>0.2</td>\n",
       "\t\t<td>1</td>\n",
       "\t</tr>\n",
       "\t<tr>\n",
       "\t\t<td>4</td>\n",
       "\t\t<td>4.6</td>\n",
       "\t\t<td>3.1</td>\n",
       "\t\t<td>1.5</td>\n",
       "\t\t<td>0.2</td>\n",
       "\t\t<td>1</td>\n",
       "\t</tr>\n",
       "\t<tr>\n",
       "\t\t<td>2</td>\n",
       "\t\t<td>4.9</td>\n",
       "\t\t<td>3.0</td>\n",
       "\t\t<td>1.4</td>\n",
       "\t\t<td>0.2</td>\n",
       "\t\t<td>1</td>\n",
       "\t</tr>\n",
       "\t<tr>\n",
       "\t\t<td>1</td>\n",
       "\t\t<td>5.1</td>\n",
       "\t\t<td>3.5</td>\n",
       "\t\t<td>1.4</td>\n",
       "\t\t<td>0.2</td>\n",
       "\t\t<td>1</td>\n",
       "\t</tr>\n",
       "</table></html>"
      ],
      "text/plain": [
       "    sepal_length  sepal_width  petal_length  petal_width  species\n",
       "id                                                               \n",
       "3            4.7          3.2           1.3          0.2        1\n",
       "5            5.0          3.6           1.4          0.2        1\n",
       "6            5.4          3.9           1.7          0.4        1\n",
       "7            4.6          3.4           1.4          0.3        1\n",
       "9            4.4          2.9           1.4          0.2        1\n",
       "10           4.9          3.1           1.5          0.1        1\n",
       "8            5.0          3.4           1.5          0.2        1\n",
       "4            4.6          3.1           1.5          0.2        1\n",
       "2            4.9          3.0           1.4          0.2        1\n",
       "1            5.1          3.5           1.4          0.2        1"
      ]
     },
     "execution_count": 6,
     "metadata": {},
     "output_type": "execute_result"
    }
   ],
   "source": [
    "# first 5 rows\n",
    "iris.head()"
   ]
  },
  {
   "cell_type": "code",
   "execution_count": 7,
   "id": "636c220d-d12f-4ea5-ab2b-c9203ef00d49",
   "metadata": {},
   "outputs": [
    {
     "data": {
      "text/plain": [
       "(150, 6)"
      ]
     },
     "execution_count": 7,
     "metadata": {},
     "output_type": "execute_result"
    }
   ],
   "source": [
    "# iris dataset\n",
    "iris.shape"
   ]
  },
  {
   "cell_type": "code",
   "execution_count": 8,
   "id": "e5d1fad7-8784-4d7a-be1f-7be1d3991d8f",
   "metadata": {},
   "outputs": [],
   "source": [
    "# Performing sampling to get 80% for trainning and 20% for testing\n",
    "iris_sample = iris.sample(frac = [0.8, 0.2])"
   ]
  },
  {
   "cell_type": "code",
   "execution_count": 9,
   "id": "a0e6891a-1b7e-4bac-97c8-350ba5f5bde4",
   "metadata": {},
   "outputs": [
    {
     "data": {
      "text/html": [
       "<style type=\"text/css\">\n",
       "\ttable {border:ridge 5px;}\n",
       "\ttable td {border:inset 1px;}\n",
       "\ttable tr#HeaderRow {background-color:grey; color:white;}</style>\n",
       "<html><table>\n",
       "\t<tr id=\"HeaderRow\">\n",
       "\t\t<th>id</th>\n",
       "\t\t<th>sepal_length</th>\n",
       "\t\t<th>sepal_width</th>\n",
       "\t\t<th>petal_length</th>\n",
       "\t\t<th>petal_width</th>\n",
       "\t\t<th>species</th>\n",
       "\t\t<th>sampleid</th>\n",
       "\t</tr>\n",
       "\t<tr>\n",
       "\t\t<td>3</td>\n",
       "\t\t<td>4.7</td>\n",
       "\t\t<td>3.2</td>\n",
       "\t\t<td>1.3</td>\n",
       "\t\t<td>0.2</td>\n",
       "\t\t<td>1</td>\n",
       "\t\t<td>1</td>\n",
       "\t</tr>\n",
       "\t<tr>\n",
       "\t\t<td>5</td>\n",
       "\t\t<td>5.0</td>\n",
       "\t\t<td>3.6</td>\n",
       "\t\t<td>1.4</td>\n",
       "\t\t<td>0.2</td>\n",
       "\t\t<td>1</td>\n",
       "\t\t<td>2</td>\n",
       "\t</tr>\n",
       "\t<tr>\n",
       "\t\t<td>6</td>\n",
       "\t\t<td>5.4</td>\n",
       "\t\t<td>3.9</td>\n",
       "\t\t<td>1.7</td>\n",
       "\t\t<td>0.4</td>\n",
       "\t\t<td>1</td>\n",
       "\t\t<td>2</td>\n",
       "\t</tr>\n",
       "\t<tr>\n",
       "\t\t<td>7</td>\n",
       "\t\t<td>4.6</td>\n",
       "\t\t<td>3.4</td>\n",
       "\t\t<td>1.4</td>\n",
       "\t\t<td>0.3</td>\n",
       "\t\t<td>1</td>\n",
       "\t\t<td>1</td>\n",
       "\t</tr>\n",
       "\t<tr>\n",
       "\t\t<td>9</td>\n",
       "\t\t<td>4.4</td>\n",
       "\t\t<td>2.9</td>\n",
       "\t\t<td>1.4</td>\n",
       "\t\t<td>0.2</td>\n",
       "\t\t<td>1</td>\n",
       "\t\t<td>1</td>\n",
       "\t</tr>\n",
       "\t<tr>\n",
       "\t\t<td>10</td>\n",
       "\t\t<td>4.9</td>\n",
       "\t\t<td>3.1</td>\n",
       "\t\t<td>1.5</td>\n",
       "\t\t<td>0.1</td>\n",
       "\t\t<td>1</td>\n",
       "\t\t<td>1</td>\n",
       "\t</tr>\n",
       "\t<tr>\n",
       "\t\t<td>8</td>\n",
       "\t\t<td>5.0</td>\n",
       "\t\t<td>3.4</td>\n",
       "\t\t<td>1.5</td>\n",
       "\t\t<td>0.2</td>\n",
       "\t\t<td>1</td>\n",
       "\t\t<td>1</td>\n",
       "\t</tr>\n",
       "\t<tr>\n",
       "\t\t<td>4</td>\n",
       "\t\t<td>4.6</td>\n",
       "\t\t<td>3.1</td>\n",
       "\t\t<td>1.5</td>\n",
       "\t\t<td>0.2</td>\n",
       "\t\t<td>1</td>\n",
       "\t\t<td>2</td>\n",
       "\t</tr>\n",
       "\t<tr>\n",
       "\t\t<td>2</td>\n",
       "\t\t<td>4.9</td>\n",
       "\t\t<td>3.0</td>\n",
       "\t\t<td>1.4</td>\n",
       "\t\t<td>0.2</td>\n",
       "\t\t<td>1</td>\n",
       "\t\t<td>1</td>\n",
       "\t</tr>\n",
       "\t<tr>\n",
       "\t\t<td>1</td>\n",
       "\t\t<td>5.1</td>\n",
       "\t\t<td>3.5</td>\n",
       "\t\t<td>1.4</td>\n",
       "\t\t<td>0.2</td>\n",
       "\t\t<td>1</td>\n",
       "\t\t<td>1</td>\n",
       "\t</tr>\n",
       "</table></html>"
      ],
      "text/plain": [
       "    sepal_length  sepal_width  petal_length  petal_width  species  sampleid\n",
       "id                                                                         \n",
       "3            4.7          3.2           1.3          0.2        1         1\n",
       "5            5.0          3.6           1.4          0.2        1         2\n",
       "6            5.4          3.9           1.7          0.4        1         2\n",
       "7            4.6          3.4           1.4          0.3        1         1\n",
       "9            4.4          2.9           1.4          0.2        1         1\n",
       "10           4.9          3.1           1.5          0.1        1         1\n",
       "8            5.0          3.4           1.5          0.2        1         1\n",
       "4            4.6          3.1           1.5          0.2        1         2\n",
       "2            4.9          3.0           1.4          0.2        1         1\n",
       "1            5.1          3.5           1.4          0.2        1         1"
      ]
     },
     "execution_count": 9,
     "metadata": {},
     "output_type": "execute_result"
    }
   ],
   "source": [
    "iris_sample.head()"
   ]
  },
  {
   "cell_type": "code",
   "execution_count": 10,
   "id": "5e3e5923-18ad-4cf6-b4e5-e87f8854700b",
   "metadata": {},
   "outputs": [],
   "source": [
    "# Fetching train and test data\n",
    "iris_train= iris_sample[iris_sample['sampleid'] == 1].drop('sampleid', axis=1)\n",
    "iris_test = iris_sample[iris_sample['sampleid'] == 2].drop('sampleid', axis=1)"
   ]
  },
  {
   "cell_type": "code",
   "execution_count": 11,
   "id": "83d72a72-3fac-4862-b374-d21ab59be1a6",
   "metadata": {},
   "outputs": [
    {
     "data": {
      "text/plain": [
       "(120, 6)"
      ]
     },
     "execution_count": 11,
     "metadata": {},
     "output_type": "execute_result"
    }
   ],
   "source": [
    "# train data shape\n",
    "iris_train.shape"
   ]
  },
  {
   "cell_type": "code",
   "execution_count": 12,
   "id": "b22be730-8a7a-40f3-8e2a-cabd8d1f427f",
   "metadata": {},
   "outputs": [
    {
     "data": {
      "text/plain": [
       "(30, 6)"
      ]
     },
     "execution_count": 12,
     "metadata": {},
     "output_type": "execute_result"
    }
   ],
   "source": [
    "# test data shape\n",
    "iris_test.shape"
   ]
  },
  {
   "cell_type": "code",
   "execution_count": 13,
   "id": "18473df2-be15-4e1e-bc5e-739abacf8b89",
   "metadata": {},
   "outputs": [
    {
     "data": {
      "text/html": [
       "<style type=\"text/css\">\n",
       "\ttable {border:ridge 5px;}\n",
       "\ttable td {border:inset 1px;}\n",
       "\ttable tr#HeaderRow {background-color:grey; color:white;}</style>\n",
       "<html><table>\n",
       "\t<tr id=\"HeaderRow\">\n",
       "\t\t<th>id</th>\n",
       "\t\t<th>sepal_length</th>\n",
       "\t\t<th>sepal_width</th>\n",
       "\t\t<th>petal_length</th>\n",
       "\t\t<th>petal_width</th>\n",
       "\t\t<th>species</th>\n",
       "\t</tr>\n",
       "\t<tr>\n",
       "\t\t<td>3</td>\n",
       "\t\t<td>4.7</td>\n",
       "\t\t<td>3.2</td>\n",
       "\t\t<td>1.3</td>\n",
       "\t\t<td>0.2</td>\n",
       "\t\t<td>1</td>\n",
       "\t</tr>\n",
       "\t<tr>\n",
       "\t\t<td>8</td>\n",
       "\t\t<td>5.0</td>\n",
       "\t\t<td>3.4</td>\n",
       "\t\t<td>1.5</td>\n",
       "\t\t<td>0.2</td>\n",
       "\t\t<td>1</td>\n",
       "\t</tr>\n",
       "\t<tr>\n",
       "\t\t<td>9</td>\n",
       "\t\t<td>4.4</td>\n",
       "\t\t<td>2.9</td>\n",
       "\t\t<td>1.4</td>\n",
       "\t\t<td>0.2</td>\n",
       "\t\t<td>1</td>\n",
       "\t</tr>\n",
       "\t<tr>\n",
       "\t\t<td>10</td>\n",
       "\t\t<td>4.9</td>\n",
       "\t\t<td>3.1</td>\n",
       "\t\t<td>1.5</td>\n",
       "\t\t<td>0.1</td>\n",
       "\t\t<td>1</td>\n",
       "\t</tr>\n",
       "\t<tr>\n",
       "\t\t<td>14</td>\n",
       "\t\t<td>4.3</td>\n",
       "\t\t<td>3.0</td>\n",
       "\t\t<td>1.1</td>\n",
       "\t\t<td>0.1</td>\n",
       "\t\t<td>1</td>\n",
       "\t</tr>\n",
       "\t<tr>\n",
       "\t\t<td>15</td>\n",
       "\t\t<td>5.8</td>\n",
       "\t\t<td>4.0</td>\n",
       "\t\t<td>1.2</td>\n",
       "\t\t<td>0.2</td>\n",
       "\t\t<td>1</td>\n",
       "\t</tr>\n",
       "\t<tr>\n",
       "\t\t<td>13</td>\n",
       "\t\t<td>4.8</td>\n",
       "\t\t<td>3.0</td>\n",
       "\t\t<td>1.4</td>\n",
       "\t\t<td>0.1</td>\n",
       "\t\t<td>1</td>\n",
       "\t</tr>\n",
       "\t<tr>\n",
       "\t\t<td>7</td>\n",
       "\t\t<td>4.6</td>\n",
       "\t\t<td>3.4</td>\n",
       "\t\t<td>1.4</td>\n",
       "\t\t<td>0.3</td>\n",
       "\t\t<td>1</td>\n",
       "\t</tr>\n",
       "\t<tr>\n",
       "\t\t<td>2</td>\n",
       "\t\t<td>4.9</td>\n",
       "\t\t<td>3.0</td>\n",
       "\t\t<td>1.4</td>\n",
       "\t\t<td>0.2</td>\n",
       "\t\t<td>1</td>\n",
       "\t</tr>\n",
       "\t<tr>\n",
       "\t\t<td>1</td>\n",
       "\t\t<td>5.1</td>\n",
       "\t\t<td>3.5</td>\n",
       "\t\t<td>1.4</td>\n",
       "\t\t<td>0.2</td>\n",
       "\t\t<td>1</td>\n",
       "\t</tr>\n",
       "</table></html>"
      ],
      "text/plain": [
       "    sepal_length  sepal_width  petal_length  petal_width  species\n",
       "id                                                               \n",
       "3            4.7          3.2           1.3          0.2        1\n",
       "8            5.0          3.4           1.5          0.2        1\n",
       "9            4.4          2.9           1.4          0.2        1\n",
       "10           4.9          3.1           1.5          0.1        1\n",
       "14           4.3          3.0           1.1          0.1        1\n",
       "15           5.8          4.0           1.2          0.2        1\n",
       "13           4.8          3.0           1.4          0.1        1\n",
       "7            4.6          3.4           1.4          0.3        1\n",
       "2            4.9          3.0           1.4          0.2        1\n",
       "1            5.1          3.5           1.4          0.2        1"
      ]
     },
     "execution_count": 13,
     "metadata": {},
     "output_type": "execute_result"
    }
   ],
   "source": [
    "#train dataset\n",
    "iris_train.head()"
   ]
  },
  {
   "cell_type": "code",
   "execution_count": 14,
   "id": "58c9d763-4f19-449e-a35b-676d4d026acc",
   "metadata": {},
   "outputs": [
    {
     "data": {
      "text/html": [
       "<style type=\"text/css\">\n",
       "\ttable {border:ridge 5px;}\n",
       "\ttable td {border:inset 1px;}\n",
       "\ttable tr#HeaderRow {background-color:grey; color:white;}</style>\n",
       "<html><table>\n",
       "\t<tr id=\"HeaderRow\">\n",
       "\t\t<th>id</th>\n",
       "\t\t<th>sepal_length</th>\n",
       "\t\t<th>sepal_width</th>\n",
       "\t\t<th>petal_length</th>\n",
       "\t\t<th>petal_width</th>\n",
       "\t\t<th>species</th>\n",
       "\t</tr>\n",
       "\t<tr>\n",
       "\t\t<td>6</td>\n",
       "\t\t<td>5.4</td>\n",
       "\t\t<td>3.9</td>\n",
       "\t\t<td>1.7</td>\n",
       "\t\t<td>0.4</td>\n",
       "\t\t<td>1</td>\n",
       "\t</tr>\n",
       "\t<tr>\n",
       "\t\t<td>12</td>\n",
       "\t\t<td>4.8</td>\n",
       "\t\t<td>3.4</td>\n",
       "\t\t<td>1.6</td>\n",
       "\t\t<td>0.2</td>\n",
       "\t\t<td>1</td>\n",
       "\t</tr>\n",
       "\t<tr>\n",
       "\t\t<td>19</td>\n",
       "\t\t<td>5.7</td>\n",
       "\t\t<td>3.8</td>\n",
       "\t\t<td>1.7</td>\n",
       "\t\t<td>0.3</td>\n",
       "\t\t<td>1</td>\n",
       "\t</tr>\n",
       "\t<tr>\n",
       "\t\t<td>31</td>\n",
       "\t\t<td>4.8</td>\n",
       "\t\t<td>3.1</td>\n",
       "\t\t<td>1.6</td>\n",
       "\t\t<td>0.2</td>\n",
       "\t\t<td>1</td>\n",
       "\t</tr>\n",
       "\t<tr>\n",
       "\t\t<td>38</td>\n",
       "\t\t<td>4.9</td>\n",
       "\t\t<td>3.6</td>\n",
       "\t\t<td>1.4</td>\n",
       "\t\t<td>0.1</td>\n",
       "\t\t<td>1</td>\n",
       "\t</tr>\n",
       "\t<tr>\n",
       "\t\t<td>45</td>\n",
       "\t\t<td>5.1</td>\n",
       "\t\t<td>3.8</td>\n",
       "\t\t<td>1.9</td>\n",
       "\t\t<td>0.4</td>\n",
       "\t\t<td>1</td>\n",
       "\t</tr>\n",
       "\t<tr>\n",
       "\t\t<td>34</td>\n",
       "\t\t<td>5.5</td>\n",
       "\t\t<td>4.2</td>\n",
       "\t\t<td>1.4</td>\n",
       "\t\t<td>0.2</td>\n",
       "\t\t<td>1</td>\n",
       "\t</tr>\n",
       "\t<tr>\n",
       "\t\t<td>11</td>\n",
       "\t\t<td>5.4</td>\n",
       "\t\t<td>3.7</td>\n",
       "\t\t<td>1.5</td>\n",
       "\t\t<td>0.2</td>\n",
       "\t\t<td>1</td>\n",
       "\t</tr>\n",
       "\t<tr>\n",
       "\t\t<td>5</td>\n",
       "\t\t<td>5.0</td>\n",
       "\t\t<td>3.6</td>\n",
       "\t\t<td>1.4</td>\n",
       "\t\t<td>0.2</td>\n",
       "\t\t<td>1</td>\n",
       "\t</tr>\n",
       "\t<tr>\n",
       "\t\t<td>4</td>\n",
       "\t\t<td>4.6</td>\n",
       "\t\t<td>3.1</td>\n",
       "\t\t<td>1.5</td>\n",
       "\t\t<td>0.2</td>\n",
       "\t\t<td>1</td>\n",
       "\t</tr>\n",
       "</table></html>"
      ],
      "text/plain": [
       "    sepal_length  sepal_width  petal_length  petal_width  species\n",
       "id                                                               \n",
       "6            5.4          3.9           1.7          0.4        1\n",
       "12           4.8          3.4           1.6          0.2        1\n",
       "19           5.7          3.8           1.7          0.3        1\n",
       "31           4.8          3.1           1.6          0.2        1\n",
       "38           4.9          3.6           1.4          0.1        1\n",
       "45           5.1          3.8           1.9          0.4        1\n",
       "34           5.5          4.2           1.4          0.2        1\n",
       "11           5.4          3.7           1.5          0.2        1\n",
       "5            5.0          3.6           1.4          0.2        1\n",
       "4            4.6          3.1           1.5          0.2        1"
      ]
     },
     "execution_count": 14,
     "metadata": {},
     "output_type": "execute_result"
    }
   ],
   "source": [
    "# test dataset\n",
    "iris_test.head()"
   ]
  },
  {
   "cell_type": "markdown",
   "id": "856ea871-93d8-4ea2-b524-1acb23bd7eb5",
   "metadata": {},
   "source": [
    "## <b><span style='color:#F1A424'>| 2.</span> Fitting AutoML </b>"
   ]
  },
  {
   "cell_type": "code",
   "execution_count": 16,
   "id": "f3650aa5-a408-4227-a88d-79c0f3d36d3c",
   "metadata": {},
   "outputs": [],
   "source": [
    "# Creating AutoClassifier instance\n",
    "# Using only 'xgboost' for model training\n",
    "# Keeping early stopping timer threshold to 300 sec\n",
    "# and verbose level 2 for detailed loggging\n",
    "\n",
    "aml = AutoClassifier(include=['xgboost'],\n",
    "                     verbose=2,\n",
    "                     max_runtime_secs=300)"
   ]
  },
  {
   "cell_type": "code",
   "execution_count": 17,
   "id": "a1b7a771-1bfa-40c9-8ad0-c377d320c137",
   "metadata": {},
   "outputs": [
    {
     "data": {
      "text/html": [
       "\n",
       "            <style>\n",
       "                .custom-div {\n",
       "                    background-color: lightgray;\n",
       "                    color: #000000;\n",
       "                    padding: 10px;\n",
       "                    border-radius: 8px;\n",
       "                    box-shadow: 0 3px 4px rgba(0, 0, 0, 0.2);\n",
       "                    margin-bottom: 10px;\n",
       "                    text-align: center;\n",
       "                }\n",
       "            </style>\n",
       "        <br><div class=\"custom-div\"><h3><span style=\"color: green;\"></span>1. Feature Exploration -> 2. Feature Engineering -> 3. Data Preparation -> 4. Model Training & Evaluation<center></h3></center></div>"
      ],
      "text/plain": [
       "<IPython.core.display.HTML object>"
      ]
     },
     "metadata": {},
     "output_type": "display_data"
    },
    {
     "name": "stdout",
     "output_type": "stream",
     "text": [
      "Feature Exploration started ...\n",
      "\n",
      "Data Overview:\n",
      "Total Rows in the data: 120\n",
      "Total Columns in the data: 6\n",
      "\n",
      "Column Summary:\n"
     ]
    },
    {
     "data": {
      "text/html": [
       "<style type=\"text/css\">\n",
       "\ttable {border:ridge 5px;}\n",
       "\ttable td {border:inset 1px;}\n",
       "\ttable tr#HeaderRow {background-color:grey; color:white;}</style>\n",
       "<html><table>\n",
       "\t<tr id=\"HeaderRow\">\n",
       "\t\t<th>ColumnName</th>\n",
       "\t\t<th>Datatype</th>\n",
       "\t\t<th>NonNullCount</th>\n",
       "\t\t<th>NullCount</th>\n",
       "\t\t<th>BlankCount</th>\n",
       "\t\t<th>ZeroCount</th>\n",
       "\t\t<th>PositiveCount</th>\n",
       "\t\t<th>NegativeCount</th>\n",
       "\t\t<th>NullPercentage</th>\n",
       "\t\t<th>NonNullPercentage</th>\n",
       "\t</tr>\n",
       "\t<tr>\n",
       "\t\t<td>petal_length</td>\n",
       "\t\t<td>FLOAT</td>\n",
       "\t\t<td>120</td>\n",
       "\t\t<td>0</td>\n",
       "\t\t<td>None</td>\n",
       "\t\t<td>0</td>\n",
       "\t\t<td>120</td>\n",
       "\t\t<td>0</td>\n",
       "\t\t<td>0.0</td>\n",
       "\t\t<td>100.0</td>\n",
       "\t</tr>\n",
       "\t<tr>\n",
       "\t\t<td>species</td>\n",
       "\t\t<td>INTEGER</td>\n",
       "\t\t<td>120</td>\n",
       "\t\t<td>0</td>\n",
       "\t\t<td>None</td>\n",
       "\t\t<td>0</td>\n",
       "\t\t<td>120</td>\n",
       "\t\t<td>0</td>\n",
       "\t\t<td>0.0</td>\n",
       "\t\t<td>100.0</td>\n",
       "\t</tr>\n",
       "\t<tr>\n",
       "\t\t<td>sepal_width</td>\n",
       "\t\t<td>FLOAT</td>\n",
       "\t\t<td>120</td>\n",
       "\t\t<td>0</td>\n",
       "\t\t<td>None</td>\n",
       "\t\t<td>0</td>\n",
       "\t\t<td>120</td>\n",
       "\t\t<td>0</td>\n",
       "\t\t<td>0.0</td>\n",
       "\t\t<td>100.0</td>\n",
       "\t</tr>\n",
       "\t<tr>\n",
       "\t\t<td>petal_width</td>\n",
       "\t\t<td>FLOAT</td>\n",
       "\t\t<td>120</td>\n",
       "\t\t<td>0</td>\n",
       "\t\t<td>None</td>\n",
       "\t\t<td>0</td>\n",
       "\t\t<td>120</td>\n",
       "\t\t<td>0</td>\n",
       "\t\t<td>0.0</td>\n",
       "\t\t<td>100.0</td>\n",
       "\t</tr>\n",
       "\t<tr>\n",
       "\t\t<td>sepal_length</td>\n",
       "\t\t<td>FLOAT</td>\n",
       "\t\t<td>120</td>\n",
       "\t\t<td>0</td>\n",
       "\t\t<td>None</td>\n",
       "\t\t<td>0</td>\n",
       "\t\t<td>120</td>\n",
       "\t\t<td>0</td>\n",
       "\t\t<td>0.0</td>\n",
       "\t\t<td>100.0</td>\n",
       "\t</tr>\n",
       "\t<tr>\n",
       "\t\t<td>id</td>\n",
       "\t\t<td>INTEGER</td>\n",
       "\t\t<td>120</td>\n",
       "\t\t<td>0</td>\n",
       "\t\t<td>None</td>\n",
       "\t\t<td>0</td>\n",
       "\t\t<td>120</td>\n",
       "\t\t<td>0</td>\n",
       "\t\t<td>0.0</td>\n",
       "\t\t<td>100.0</td>\n",
       "\t</tr>\n",
       "</table></html>"
      ],
      "text/plain": [
       "             Datatype  NonNullCount  NullCount BlankCount  ZeroCount  PositiveCount  NegativeCount  NullPercentage  NonNullPercentage\n",
       "ColumnName                                                                                                                           \n",
       "petal_length    FLOAT           120          0       None          0            120              0             0.0              100.0\n",
       "species       INTEGER           120          0       None          0            120              0             0.0              100.0\n",
       "sepal_width     FLOAT           120          0       None          0            120              0             0.0              100.0\n",
       "petal_width     FLOAT           120          0       None          0            120              0             0.0              100.0\n",
       "sepal_length    FLOAT           120          0       None          0            120              0             0.0              100.0\n",
       "id            INTEGER           120          0       None          0            120              0             0.0              100.0"
      ]
     },
     "metadata": {},
     "output_type": "display_data"
    },
    {
     "name": "stdout",
     "output_type": "stream",
     "text": [
      "\n",
      "Statistics of Data:\n"
     ]
    },
    {
     "data": {
      "text/html": [
       "<style type=\"text/css\">\n",
       "\ttable {border:ridge 5px;}\n",
       "\ttable td {border:inset 1px;}\n",
       "\ttable tr#HeaderRow {background-color:grey; color:white;}</style>\n",
       "<html><table>\n",
       "\t<tr id=\"HeaderRow\">\n",
       "\t\t<th>func</th>\n",
       "\t\t<th>id</th>\n",
       "\t\t<th>sepal_length</th>\n",
       "\t\t<th>sepal_width</th>\n",
       "\t\t<th>petal_length</th>\n",
       "\t\t<th>petal_width</th>\n",
       "\t\t<th>species</th>\n",
       "\t</tr>\n",
       "\t<tr>\n",
       "\t\t<td>std</td>\n",
       "\t\t<td>42.54</td>\n",
       "\t\t<td>0.835</td>\n",
       "\t\t<td>0.428</td>\n",
       "\t\t<td>1.764</td>\n",
       "\t\t<td>0.758</td>\n",
       "\t\t<td>0.81</td>\n",
       "\t</tr>\n",
       "\t<tr>\n",
       "\t\t<td>25%</td>\n",
       "\t\t<td>39.75</td>\n",
       "\t\t<td>5.1</td>\n",
       "\t\t<td>2.8</td>\n",
       "\t\t<td>1.5</td>\n",
       "\t\t<td>0.3</td>\n",
       "\t\t<td>1</td>\n",
       "\t</tr>\n",
       "\t<tr>\n",
       "\t\t<td>50%</td>\n",
       "\t\t<td>73.5</td>\n",
       "\t\t<td>5.8</td>\n",
       "\t\t<td>3</td>\n",
       "\t\t<td>4.35</td>\n",
       "\t\t<td>1.3</td>\n",
       "\t\t<td>2</td>\n",
       "\t</tr>\n",
       "\t<tr>\n",
       "\t\t<td>75%</td>\n",
       "\t\t<td>110.5</td>\n",
       "\t\t<td>6.4</td>\n",
       "\t\t<td>3.3</td>\n",
       "\t\t<td>5.1</td>\n",
       "\t\t<td>1.8</td>\n",
       "\t\t<td>3</td>\n",
       "\t</tr>\n",
       "\t<tr>\n",
       "\t\t<td>max</td>\n",
       "\t\t<td>150</td>\n",
       "\t\t<td>7.9</td>\n",
       "\t\t<td>4.4</td>\n",
       "\t\t<td>6.7</td>\n",
       "\t\t<td>2.5</td>\n",
       "\t\t<td>3</td>\n",
       "\t</tr>\n",
       "\t<tr>\n",
       "\t\t<td>min</td>\n",
       "\t\t<td>1</td>\n",
       "\t\t<td>4.3</td>\n",
       "\t\t<td>2</td>\n",
       "\t\t<td>1</td>\n",
       "\t\t<td>0.1</td>\n",
       "\t\t<td>1</td>\n",
       "\t</tr>\n",
       "\t<tr>\n",
       "\t\t<td>mean</td>\n",
       "\t\t<td>75.275</td>\n",
       "\t\t<td>5.837</td>\n",
       "\t\t<td>3.04</td>\n",
       "\t\t<td>3.768</td>\n",
       "\t\t<td>1.212</td>\n",
       "\t\t<td>2</td>\n",
       "\t</tr>\n",
       "\t<tr>\n",
       "\t\t<td>count</td>\n",
       "\t\t<td>120</td>\n",
       "\t\t<td>120</td>\n",
       "\t\t<td>120</td>\n",
       "\t\t<td>120</td>\n",
       "\t\t<td>120</td>\n",
       "\t\t<td>120</td>\n",
       "\t</tr>\n",
       "</table></html>"
      ],
      "text/plain": [
       "            id  sepal_length  sepal_width  petal_length  petal_width  species\n",
       "func                                                                         \n",
       "std     42.540         0.835        0.428         1.764        0.758     0.81\n",
       "25%     39.750         5.100        2.800         1.500        0.300     1.00\n",
       "50%     73.500         5.800        3.000         4.350        1.300     2.00\n",
       "75%    110.500         6.400        3.300         5.100        1.800     3.00\n",
       "max    150.000         7.900        4.400         6.700        2.500     3.00\n",
       "min      1.000         4.300        2.000         1.000        0.100     1.00\n",
       "mean    75.275         5.837        3.040         3.768        1.212     2.00\n",
       "count  120.000       120.000      120.000       120.000      120.000   120.00"
      ]
     },
     "metadata": {},
     "output_type": "display_data"
    },
    {
     "name": "stdout",
     "output_type": "stream",
     "text": [
      "\n",
      "Target Column Distribution:\n"
     ]
    },
    {
     "data": {
      "image/png": "[encoded data removed]",
      "text/plain": [
       "<Figure size 600x600 with 1 Axes>"
      ]
     },
     "metadata": {},
     "output_type": "display_data"
    },
    {
     "name": "stdout",
     "output_type": "stream",
     "text": [
      "Columns with outlier percentage :-                                                                                                                                                                                                                                                                                                                                                                                                                                                                                  \n",
      "    ColumnName  OutlierPercentage\n",
      "0  sepal_width                2.5\n",
      "                                                                                        \r"
     ]
    },
    {
     "data": {
      "text/html": [
       "\n",
       "            <style>\n",
       "                .custom-div {\n",
       "                    background-color: lightgray;\n",
       "                    color: #000000;\n",
       "                    padding: 10px;\n",
       "                    border-radius: 8px;\n",
       "                    box-shadow: 0 3px 4px rgba(0 -  0 -  0 -  0.2);\n",
       "                    margin-bottom: 10px;\n",
       "                    text-align: center;\n",
       "                }\n",
       "            </style>\n",
       "        <br><div class=\"custom-div\"><h3><span style=\"color: green;\">1. Feature Exploration -></span> 2. Feature Engineering -> 3. Data Preparation -> 4. Model Training & Evaluation<center></h3></center></div>"
      ],
      "text/plain": [
       "<IPython.core.display.HTML object>"
      ]
     },
     "metadata": {},
     "output_type": "display_data"
    },
    {
     "name": "stdout",
     "output_type": "stream",
     "text": [
      "                                                                                        \r"
     ]
    },
    {
     "data": {
      "text/html": [
       "Feature Engineering started ..."
      ],
      "text/plain": [
       "<IPython.core.display.HTML object>"
      ]
     },
     "metadata": {},
     "output_type": "display_data"
    },
    {
     "name": "stdout",
     "output_type": "stream",
     "text": [
      "                                                                                        \r"
     ]
    },
    {
     "data": {
      "text/html": [
       "\n",
       "Handling duplicate records present in dataset ..."
      ],
      "text/plain": [
       "<IPython.core.display.HTML object>"
      ]
     },
     "metadata": {},
     "output_type": "display_data"
    },
    {
     "name": "stdout",
     "output_type": "stream",
     "text": [
      "Analysis complete. No action taken.                                                     \n",
      "                                                                                        \r"
     ]
    },
    {
     "data": {
      "text/html": [
       "Total time to handle duplicate records: 1.46 sec  "
      ],
      "text/plain": [
       "<IPython.core.display.HTML object>"
      ]
     },
     "metadata": {},
     "output_type": "display_data"
    },
    {
     "name": "stdout",
     "output_type": "stream",
     "text": [
      "                                                                                        \r"
     ]
    },
    {
     "data": {
      "text/html": [
       "\n",
       "Handling less significant features from data ..."
      ],
      "text/plain": [
       "<IPython.core.display.HTML object>"
      ]
     },
     "metadata": {},
     "output_type": "display_data"
    },
    {
     "name": "stdout",
     "output_type": "stream",
     "text": [
      "                                                                                        \r"
     ]
    },
    {
     "data": {
      "text/html": [
       "Total time to handle less significant features: 5.51 sec  "
      ],
      "text/plain": [
       "<IPython.core.display.HTML object>"
      ]
     },
     "metadata": {},
     "output_type": "display_data"
    },
    {
     "name": "stdout",
     "output_type": "stream",
     "text": [
      "                                                                                         \r"
     ]
    },
    {
     "data": {
      "text/html": [
       "\n",
       "Handling Date Features ..."
      ],
      "text/plain": [
       "<IPython.core.display.HTML object>"
      ]
     },
     "metadata": {},
     "output_type": "display_data"
    },
    {
     "name": "stdout",
     "output_type": "stream",
     "text": [
      "Dataset does not contain any feature related to dates.                                   \n",
      "                                                                                         \r"
     ]
    },
    {
     "data": {
      "text/html": [
       "Total time to handle date features: 0.00 sec\n"
      ],
      "text/plain": [
       "<IPython.core.display.HTML object>"
      ]
     },
     "metadata": {},
     "output_type": "display_data"
    },
    {
     "name": "stdout",
     "output_type": "stream",
     "text": [
      "                                                                                         \r"
     ]
    },
    {
     "data": {
      "text/html": [
       "\n",
       "Checking Missing values in dataset ..."
      ],
      "text/plain": [
       "<IPython.core.display.HTML object>"
      ]
     },
     "metadata": {},
     "output_type": "display_data"
    },
    {
     "name": "stdout",
     "output_type": "stream",
     "text": [
      "No Missing Values Detected.                                                              \n",
      "                                                                                         \r"
     ]
    },
    {
     "data": {
      "text/html": [
       "Total time to find missing values in data: 6.93 sec  "
      ],
      "text/plain": [
       "<IPython.core.display.HTML object>"
      ]
     },
     "metadata": {},
     "output_type": "display_data"
    },
    {
     "name": "stdout",
     "output_type": "stream",
     "text": [
      "                                                                                         \r"
     ]
    },
    {
     "data": {
      "text/html": [
       "\n",
       "Imputing Missing Values ..."
      ],
      "text/plain": [
       "<IPython.core.display.HTML object>"
      ]
     },
     "metadata": {},
     "output_type": "display_data"
    },
    {
     "name": "stdout",
     "output_type": "stream",
     "text": [
      "No imputation is Required.                                                               \n",
      "                                                                                         \r"
     ]
    },
    {
     "data": {
      "text/html": [
       "Time taken to perform imputation: 0.01 sec  "
      ],
      "text/plain": [
       "<IPython.core.display.HTML object>"
      ]
     },
     "metadata": {},
     "output_type": "display_data"
    },
    {
     "name": "stdout",
     "output_type": "stream",
     "text": [
      "                                                                                         \r"
     ]
    },
    {
     "data": {
      "text/html": [
       "\n",
       "Performing encoding for categorical columns ..."
      ],
      "text/plain": [
       "<IPython.core.display.HTML object>"
      ]
     },
     "metadata": {},
     "output_type": "display_data"
    },
    {
     "name": "stdout",
     "output_type": "stream",
     "text": [
      "Encoding not required.                                                                   \n",
      "                                                                                         \r"
     ]
    },
    {
     "data": {
      "text/html": [
       "Time taken to encode the columns: 1.45 sec"
      ],
      "text/plain": [
       "<IPython.core.display.HTML object>"
      ]
     },
     "metadata": {},
     "output_type": "display_data"
    },
    {
     "name": "stdout",
     "output_type": "stream",
     "text": [
      "                                                                                         \r"
     ]
    },
    {
     "data": {
      "text/html": [
       "\n",
       "            <style>\n",
       "                .custom-div {\n",
       "                    background-color: lightgray;\n",
       "                    color: #000000;\n",
       "                    padding: 10px;\n",
       "                    border-radius: 8px;\n",
       "                    box-shadow: 0 3px 4px rgba(0 -  0 -  0 -  0.2);\n",
       "                    margin-bottom: 10px;\n",
       "                    text-align: center;\n",
       "                }\n",
       "            </style>\n",
       "        <br><div class=\"custom-div\"><h3><span style=\"color: green;\">1. Feature Exploration -> 2. Feature Engineering -></span> 3. Data Preparation -> 4. Model Training & Evaluation<center></h3></center></div>"
      ],
      "text/plain": [
       "<IPython.core.display.HTML object>"
      ]
     },
     "metadata": {},
     "output_type": "display_data"
    },
    {
     "name": "stdout",
     "output_type": "stream",
     "text": [
      "                                                                                         \r"
     ]
    },
    {
     "data": {
      "text/html": [
       "Data preparation started ..."
      ],
      "text/plain": [
       "<IPython.core.display.HTML object>"
      ]
     },
     "metadata": {},
     "output_type": "display_data"
    },
    {
     "name": "stdout",
     "output_type": "stream",
     "text": [
      "                                                                                         \r"
     ]
    },
    {
     "data": {
      "text/html": [
       "\n",
       "Spliting of dataset into training and testing ..."
      ],
      "text/plain": [
       "<IPython.core.display.HTML object>"
      ]
     },
     "metadata": {},
     "output_type": "display_data"
    },
    {
     "name": "stdout",
     "output_type": "stream",
     "text": [
      "Training size : 0.8                                                                      \n",
      "Testing size  : 0.2                                                                      \n",
      "                                                                                         \r"
     ]
    },
    {
     "data": {
      "text/html": [
       "Training data sample"
      ],
      "text/plain": [
       "<IPython.core.display.HTML object>"
      ]
     },
     "metadata": {},
     "output_type": "display_data"
    },
    {
     "data": {
      "text/html": [
       "<style type=\"text/css\">\n",
       "\ttable {border:ridge 5px;}\n",
       "\ttable td {border:inset 1px;}\n",
       "\ttable tr#HeaderRow {background-color:grey; color:white;}</style>\n",
       "<html><table>\n",
       "\t<tr id=\"HeaderRow\">\n",
       "\t\t<th>sepal_length</th>\n",
       "\t\t<th>sepal_width</th>\n",
       "\t\t<th>petal_length</th>\n",
       "\t\t<th>petal_width</th>\n",
       "\t\t<th>species</th>\n",
       "\t\t<th>id</th>\n",
       "\t</tr>\n",
       "\t<tr>\n",
       "\t\t<td>5.7</td>\n",
       "\t\t<td>2.9</td>\n",
       "\t\t<td>4.2</td>\n",
       "\t\t<td>1.3</td>\n",
       "\t\t<td>2</td>\n",
       "\t\t<td>15</td>\n",
       "\t</tr>\n",
       "\t<tr>\n",
       "\t\t<td>5.1</td>\n",
       "\t\t<td>2.5</td>\n",
       "\t\t<td>3.0</td>\n",
       "\t\t<td>1.1</td>\n",
       "\t\t<td>2</td>\n",
       "\t\t<td>13</td>\n",
       "\t</tr>\n",
       "\t<tr>\n",
       "\t\t<td>5.6</td>\n",
       "\t\t<td>2.7</td>\n",
       "\t\t<td>4.2</td>\n",
       "\t\t<td>1.3</td>\n",
       "\t\t<td>2</td>\n",
       "\t\t<td>21</td>\n",
       "\t</tr>\n",
       "\t<tr>\n",
       "\t\t<td>5.6</td>\n",
       "\t\t<td>2.8</td>\n",
       "\t\t<td>4.9</td>\n",
       "\t\t<td>2.0</td>\n",
       "\t\t<td>3</td>\n",
       "\t\t<td>11</td>\n",
       "\t</tr>\n",
       "\t<tr>\n",
       "\t\t<td>5.7</td>\n",
       "\t\t<td>2.6</td>\n",
       "\t\t<td>3.5</td>\n",
       "\t\t<td>1.0</td>\n",
       "\t\t<td>2</td>\n",
       "\t\t<td>12</td>\n",
       "\t</tr>\n",
       "\t<tr>\n",
       "\t\t<td>7.7</td>\n",
       "\t\t<td>3.8</td>\n",
       "\t\t<td>6.7</td>\n",
       "\t\t<td>2.2</td>\n",
       "\t\t<td>3</td>\n",
       "\t\t<td>20</td>\n",
       "\t</tr>\n",
       "\t<tr>\n",
       "\t\t<td>5.1</td>\n",
       "\t\t<td>3.4</td>\n",
       "\t\t<td>1.5</td>\n",
       "\t\t<td>0.2</td>\n",
       "\t\t<td>1</td>\n",
       "\t\t<td>10</td>\n",
       "\t</tr>\n",
       "\t<tr>\n",
       "\t\t<td>6.0</td>\n",
       "\t\t<td>2.2</td>\n",
       "\t\t<td>5.0</td>\n",
       "\t\t<td>1.5</td>\n",
       "\t\t<td>3</td>\n",
       "\t\t<td>18</td>\n",
       "\t</tr>\n",
       "\t<tr>\n",
       "\t\t<td>5.0</td>\n",
       "\t\t<td>2.0</td>\n",
       "\t\t<td>3.5</td>\n",
       "\t\t<td>1.0</td>\n",
       "\t\t<td>2</td>\n",
       "\t\t<td>14</td>\n",
       "\t</tr>\n",
       "\t<tr>\n",
       "\t\t<td>5.0</td>\n",
       "\t\t<td>3.2</td>\n",
       "\t\t<td>1.2</td>\n",
       "\t\t<td>0.2</td>\n",
       "\t\t<td>1</td>\n",
       "\t\t<td>22</td>\n",
       "\t</tr>\n",
       "</table></html>"
      ],
      "text/plain": [
       "   sepal_length  sepal_width  petal_length  petal_width  species  id\n",
       "0           5.7          2.9           4.2          1.3        2  15\n",
       "1           5.1          2.5           3.0          1.1        2  13\n",
       "2           5.6          2.7           4.2          1.3        2  21\n",
       "3           5.6          2.8           4.9          2.0        3  11\n",
       "4           5.7          2.6           3.5          1.0        2  12\n",
       "5           7.7          3.8           6.7          2.2        3  20\n",
       "6           5.1          3.4           1.5          0.2        1  10\n",
       "7           6.0          2.2           5.0          1.5        3  18\n",
       "8           5.0          2.0           3.5          1.0        2  14\n",
       "9           5.0          3.2           1.2          0.2        1  22"
      ]
     },
     "metadata": {},
     "output_type": "display_data"
    },
    {
     "name": "stdout",
     "output_type": "stream",
     "text": [
      "                                                                                         \r"
     ]
    },
    {
     "data": {
      "text/html": [
       "Testing data sample"
      ],
      "text/plain": [
       "<IPython.core.display.HTML object>"
      ]
     },
     "metadata": {},
     "output_type": "display_data"
    },
    {
     "data": {
      "text/html": [
       "<style type=\"text/css\">\n",
       "\ttable {border:ridge 5px;}\n",
       "\ttable td {border:inset 1px;}\n",
       "\ttable tr#HeaderRow {background-color:grey; color:white;}</style>\n",
       "<html><table>\n",
       "\t<tr id=\"HeaderRow\">\n",
       "\t\t<th>sepal_length</th>\n",
       "\t\t<th>sepal_width</th>\n",
       "\t\t<th>petal_length</th>\n",
       "\t\t<th>petal_width</th>\n",
       "\t\t<th>species</th>\n",
       "\t\t<th>id</th>\n",
       "\t</tr>\n",
       "\t<tr>\n",
       "\t\t<td>5.4</td>\n",
       "\t\t<td>3.4</td>\n",
       "\t\t<td>1.5</td>\n",
       "\t\t<td>0.4</td>\n",
       "\t\t<td>1</td>\n",
       "\t\t<td>31</td>\n",
       "\t</tr>\n",
       "\t<tr>\n",
       "\t\t<td>6.3</td>\n",
       "\t\t<td>3.3</td>\n",
       "\t\t<td>4.7</td>\n",
       "\t\t<td>1.6</td>\n",
       "\t\t<td>2</td>\n",
       "\t\t<td>26</td>\n",
       "\t</tr>\n",
       "\t<tr>\n",
       "\t\t<td>5.0</td>\n",
       "\t\t<td>3.4</td>\n",
       "\t\t<td>1.6</td>\n",
       "\t\t<td>0.4</td>\n",
       "\t\t<td>1</td>\n",
       "\t\t<td>106</td>\n",
       "\t</tr>\n",
       "\t<tr>\n",
       "\t\t<td>6.3</td>\n",
       "\t\t<td>3.4</td>\n",
       "\t\t<td>5.6</td>\n",
       "\t\t<td>2.4</td>\n",
       "\t\t<td>3</td>\n",
       "\t\t<td>27</td>\n",
       "\t</tr>\n",
       "\t<tr>\n",
       "\t\t<td>6.5</td>\n",
       "\t\t<td>2.8</td>\n",
       "\t\t<td>4.6</td>\n",
       "\t\t<td>1.5</td>\n",
       "\t\t<td>2</td>\n",
       "\t\t<td>28</td>\n",
       "\t</tr>\n",
       "\t<tr>\n",
       "\t\t<td>6.1</td>\n",
       "\t\t<td>3.0</td>\n",
       "\t\t<td>4.6</td>\n",
       "\t\t<td>1.4</td>\n",
       "\t\t<td>2</td>\n",
       "\t\t<td>84</td>\n",
       "\t</tr>\n",
       "\t<tr>\n",
       "\t\t<td>6.4</td>\n",
       "\t\t<td>3.2</td>\n",
       "\t\t<td>5.3</td>\n",
       "\t\t<td>2.3</td>\n",
       "\t\t<td>3</td>\n",
       "\t\t<td>30</td>\n",
       "\t</tr>\n",
       "\t<tr>\n",
       "\t\t<td>5.6</td>\n",
       "\t\t<td>2.9</td>\n",
       "\t\t<td>3.6</td>\n",
       "\t\t<td>1.3</td>\n",
       "\t\t<td>2</td>\n",
       "\t\t<td>102</td>\n",
       "\t</tr>\n",
       "\t<tr>\n",
       "\t\t<td>5.6</td>\n",
       "\t\t<td>2.5</td>\n",
       "\t\t<td>3.9</td>\n",
       "\t\t<td>1.1</td>\n",
       "\t\t<td>2</td>\n",
       "\t\t<td>67</td>\n",
       "\t</tr>\n",
       "\t<tr>\n",
       "\t\t<td>6.0</td>\n",
       "\t\t<td>2.9</td>\n",
       "\t\t<td>4.5</td>\n",
       "\t\t<td>1.5</td>\n",
       "\t\t<td>2</td>\n",
       "\t\t<td>103</td>\n",
       "\t</tr>\n",
       "</table></html>"
      ],
      "text/plain": [
       "   sepal_length  sepal_width  petal_length  petal_width  species   id\n",
       "0           5.4          3.4           1.5          0.4        1   31\n",
       "1           6.3          3.3           4.7          1.6        2   26\n",
       "2           5.0          3.4           1.6          0.4        1  106\n",
       "3           6.3          3.4           5.6          2.4        3   27\n",
       "4           6.5          2.8           4.6          1.5        2   28\n",
       "5           6.1          3.0           4.6          1.4        2   84\n",
       "6           6.4          3.2           5.3          2.3        3   30\n",
       "7           5.6          2.9           3.6          1.3        2  102\n",
       "8           5.6          2.5           3.9          1.1        2   67\n",
       "9           6.0          2.9           4.5          1.5        2  103"
      ]
     },
     "metadata": {},
     "output_type": "display_data"
    },
    {
     "name": "stdout",
     "output_type": "stream",
     "text": [
      "                                                                                         \r"
     ]
    },
    {
     "data": {
      "text/html": [
       "Time taken for spliting of data: 8.98 sec  "
      ],
      "text/plain": [
       "<IPython.core.display.HTML object>"
      ]
     },
     "metadata": {},
     "output_type": "display_data"
    },
    {
     "name": "stdout",
     "output_type": "stream",
     "text": [
      "                                                                                         \r"
     ]
    },
    {
     "data": {
      "text/html": [
       "\n",
       "Outlier preprocessing ..."
      ],
      "text/plain": [
       "<IPython.core.display.HTML object>"
      ]
     },
     "metadata": {},
     "output_type": "display_data"
    },
    {
     "name": "stdout",
     "output_type": "stream",
     "text": [
      "Columns with outlier percentage :-                                                                                                                                                                                                                                                                                                                                                                                                                                                                                  \n",
      "    ColumnName  OutlierPercentage\n",
      "0  sepal_width                2.5\n",
      "                                                                                         \r"
     ]
    },
    {
     "data": {
      "text/html": [
       "Deleting rows of these columns:"
      ],
      "text/plain": [
       "<IPython.core.display.HTML object>"
      ]
     },
     "metadata": {},
     "output_type": "display_data"
    },
    {
     "name": "stdout",
     "output_type": "stream",
     "text": [
      "['sepal_width']\n",
      "result data stored in table '\"AUTOML_USR\".\"ml__td_sqlmr_persist_out__1711271899453845\"'15\n",
      "                                                                                         \r"
     ]
    },
    {
     "data": {
      "text/html": [
       "Time Taken by Outlier processing: 33.57 sec "
      ],
      "text/plain": [
       "<IPython.core.display.HTML object>"
      ]
     },
     "metadata": {},
     "output_type": "display_data"
    },
    {
     "name": "stdout",
     "output_type": "stream",
     "text": [
      "result data stored in table '\"AUTOML_USR\".\"ml__td_sqlmr_persist_out__1711270799217283\"'15\n",
      "result data stored in table '\"AUTOML_USR\".\"ml__td_sqlmr_persist_out__1711271433304460\"'\n",
      "                                                                                         \r"
     ]
    },
    {
     "data": {
      "text/html": [
       "\n",
       "Checking imbalance data ..."
      ],
      "text/plain": [
       "<IPython.core.display.HTML object>"
      ]
     },
     "metadata": {},
     "output_type": "display_data"
    },
    {
     "name": "stdout",
     "output_type": "stream",
     "text": [
      "                                                                                         \r"
     ]
    },
    {
     "data": {
      "text/html": [
       "Imbalance Not Found."
      ],
      "text/plain": [
       "<IPython.core.display.HTML object>"
      ]
     },
     "metadata": {},
     "output_type": "display_data"
    },
    {
     "name": "stdout",
     "output_type": "stream",
     "text": [
      "                                                                                          \r"
     ]
    },
    {
     "data": {
      "text/html": [
       "\n",
       "Feature selection using lasso ..."
      ],
      "text/plain": [
       "<IPython.core.display.HTML object>"
      ]
     },
     "metadata": {},
     "output_type": "display_data"
    },
    {
     "name": "stdout",
     "output_type": "stream",
     "text": [
      "                                                                                          \r"
     ]
    },
    {
     "data": {
      "text/html": [
       "feature selected by lasso:"
      ],
      "text/plain": [
       "<IPython.core.display.HTML object>"
      ]
     },
     "metadata": {},
     "output_type": "display_data"
    },
    {
     "name": "stdout",
     "output_type": "stream",
     "text": [
      "['petal_length', 'sepal_length', 'sepal_width', 'petal_width']\n",
      "                                                                                          \r"
     ]
    },
    {
     "data": {
      "text/html": [
       "Total time taken by feature selection: 2.48 sec  "
      ],
      "text/plain": [
       "<IPython.core.display.HTML object>"
      ]
     },
     "metadata": {},
     "output_type": "display_data"
    },
    {
     "name": "stdout",
     "output_type": "stream",
     "text": [
      "                                                                                          \r"
     ]
    },
    {
     "data": {
      "text/html": [
       "\n",
       "scaling Features of lasso data ..."
      ],
      "text/plain": [
       "<IPython.core.display.HTML object>"
      ]
     },
     "metadata": {},
     "output_type": "display_data"
    },
    {
     "name": "stdout",
     "output_type": "stream",
     "text": [
      "                                                                                          \r"
     ]
    },
    {
     "data": {
      "text/html": [
       "columns that will be scaled: "
      ],
      "text/plain": [
       "<IPython.core.display.HTML object>"
      ]
     },
     "metadata": {},
     "output_type": "display_data"
    },
    {
     "name": "stdout",
     "output_type": "stream",
     "text": [
      "['petal_length', 'sepal_length', 'sepal_width', 'petal_width']\n",
      "                                                                                          \r"
     ]
    },
    {
     "data": {
      "text/html": [
       "Training dataset sample after scaling:"
      ],
      "text/plain": [
       "<IPython.core.display.HTML object>"
      ]
     },
     "metadata": {},
     "output_type": "display_data"
    },
    {
     "data": {
      "text/html": [
       "<style type=\"text/css\">\n",
       "\ttable {border:ridge 5px;}\n",
       "\ttable td {border:inset 1px;}\n",
       "\ttable tr#HeaderRow {background-color:grey; color:white;}</style>\n",
       "<html><table>\n",
       "\t<tr id=\"HeaderRow\">\n",
       "\t\t<th>species</th>\n",
       "\t\t<th>id</th>\n",
       "\t\t<th>petal_length</th>\n",
       "\t\t<th>sepal_length</th>\n",
       "\t\t<th>sepal_width</th>\n",
       "\t\t<th>petal_width</th>\n",
       "\t</tr>\n",
       "\t<tr>\n",
       "\t\t<td>1</td>\n",
       "\t\t<td>50</td>\n",
       "\t\t<td>0.05357142857142854</td>\n",
       "\t\t<td>0.088235294117647</td>\n",
       "\t\t<td>0.6666666666666666</td>\n",
       "\t\t<td>0.08333333333333333</td>\n",
       "\t</tr>\n",
       "\t<tr>\n",
       "\t\t<td>1</td>\n",
       "\t\t<td>92</td>\n",
       "\t\t<td>0.05357142857142854</td>\n",
       "\t\t<td>0.26470588235294124</td>\n",
       "\t\t<td>0.6666666666666666</td>\n",
       "\t\t<td>0.04166666666666667</td>\n",
       "\t</tr>\n",
       "\t<tr>\n",
       "\t\t<td>3</td>\n",
       "\t\t<td>118</td>\n",
       "\t\t<td>0.6785714285714287</td>\n",
       "\t\t<td>0.588235294117647</td>\n",
       "\t\t<td>0.2777777777777778</td>\n",
       "\t\t<td>0.7083333333333334</td>\n",
       "\t</tr>\n",
       "\t<tr>\n",
       "\t\t<td>1</td>\n",
       "\t\t<td>56</td>\n",
       "\t\t<td>0.07142857142857141</td>\n",
       "\t\t<td>0.23529411764705874</td>\n",
       "\t\t<td>0.8888888888888887</td>\n",
       "\t\t<td>0.08333333333333333</td>\n",
       "\t</tr>\n",
       "\t<tr>\n",
       "\t\t<td>1</td>\n",
       "\t\t<td>90</td>\n",
       "\t\t<td>0.07142857142857141</td>\n",
       "\t\t<td>0.17647058823529427</td>\n",
       "\t\t<td>0.5</td>\n",
       "\t\t<td>0.04166666666666667</td>\n",
       "\t</tr>\n",
       "\t<tr>\n",
       "\t\t<td>3</td>\n",
       "\t\t<td>94</td>\n",
       "\t\t<td>0.6964285714285715</td>\n",
       "\t\t<td>0.588235294117647</td>\n",
       "\t\t<td>0.16666666666666657</td>\n",
       "\t\t<td>0.75</td>\n",
       "\t</tr>\n",
       "\t<tr>\n",
       "\t\t<td>3</td>\n",
       "\t\t<td>79</td>\n",
       "\t\t<td>0.8035714285714286</td>\n",
       "\t\t<td>0.588235294117647</td>\n",
       "\t\t<td>0.3888888888888888</td>\n",
       "\t\t<td>0.7083333333333334</td>\n",
       "\t</tr>\n",
       "\t<tr>\n",
       "\t\t<td>3</td>\n",
       "\t\t<td>36</td>\n",
       "\t\t<td>0.6964285714285715</td>\n",
       "\t\t<td>0.411764705882353</td>\n",
       "\t\t<td>0.16666666666666657</td>\n",
       "\t\t<td>0.7916666666666666</td>\n",
       "\t</tr>\n",
       "\t<tr>\n",
       "\t\t<td>3</td>\n",
       "\t\t<td>100</td>\n",
       "\t\t<td>0.8392857142857142</td>\n",
       "\t\t<td>0.7058823529411765</td>\n",
       "\t\t<td>0.16666666666666657</td>\n",
       "\t\t<td>0.7083333333333334</td>\n",
       "\t</tr>\n",
       "\t<tr>\n",
       "\t\t<td>1</td>\n",
       "\t\t<td>23</td>\n",
       "\t\t<td>0.017857142857142835</td>\n",
       "\t\t<td>0.4411764705882352</td>\n",
       "\t\t<td>1.0</td>\n",
       "\t\t<td>0.04166666666666667</td>\n",
       "\t</tr>\n",
       "</table></html>"
      ],
      "text/plain": [
       "   species   id  petal_length  sepal_length  sepal_width  petal_width\n",
       "0        1   50      0.053571      0.088235     0.666667     0.083333\n",
       "1        1   92      0.053571      0.264706     0.666667     0.041667\n",
       "2        3  118      0.678571      0.588235     0.277778     0.708333\n",
       "3        1   56      0.071429      0.235294     0.888889     0.083333\n",
       "4        1   90      0.071429      0.176471     0.500000     0.041667\n",
       "5        3   94      0.696429      0.588235     0.166667     0.750000\n",
       "6        3   79      0.803571      0.588235     0.388889     0.708333\n",
       "7        3   36      0.696429      0.411765     0.166667     0.791667\n",
       "8        3  100      0.839286      0.705882     0.166667     0.708333\n",
       "9        1   23      0.017857      0.441176     1.000000     0.041667"
      ]
     },
     "metadata": {},
     "output_type": "display_data"
    },
    {
     "name": "stdout",
     "output_type": "stream",
     "text": [
      "                                                                                          \r"
     ]
    },
    {
     "data": {
      "text/html": [
       "Testing dataset sample after scaling:"
      ],
      "text/plain": [
       "<IPython.core.display.HTML object>"
      ]
     },
     "metadata": {},
     "output_type": "display_data"
    },
    {
     "data": {
      "text/html": [
       "<style type=\"text/css\">\n",
       "\ttable {border:ridge 5px;}\n",
       "\ttable td {border:inset 1px;}\n",
       "\ttable tr#HeaderRow {background-color:grey; color:white;}</style>\n",
       "<html><table>\n",
       "\t<tr id=\"HeaderRow\">\n",
       "\t\t<th>species</th>\n",
       "\t\t<th>id</th>\n",
       "\t\t<th>petal_length</th>\n",
       "\t\t<th>sepal_length</th>\n",
       "\t\t<th>sepal_width</th>\n",
       "\t\t<th>petal_width</th>\n",
       "\t</tr>\n",
       "\t<tr>\n",
       "\t\t<td>1</td>\n",
       "\t\t<td>31</td>\n",
       "\t\t<td>0.07142857142857141</td>\n",
       "\t\t<td>0.323529411764706</td>\n",
       "\t\t<td>0.6666666666666666</td>\n",
       "\t\t<td>0.12500000000000003</td>\n",
       "\t</tr>\n",
       "\t<tr>\n",
       "\t\t<td>1</td>\n",
       "\t\t<td>116</td>\n",
       "\t\t<td>0.05357142857142854</td>\n",
       "\t\t<td>0.14705882352941174</td>\n",
       "\t\t<td>0.44444444444444436</td>\n",
       "\t\t<td>0.08333333333333333</td>\n",
       "\t</tr>\n",
       "\t<tr>\n",
       "\t\t<td>3</td>\n",
       "\t\t<td>134</td>\n",
       "\t\t<td>0.8571428571428573</td>\n",
       "\t\t<td>0.8235294117647057</td>\n",
       "\t\t<td>0.44444444444444436</td>\n",
       "\t\t<td>0.8333333333333334</td>\n",
       "\t</tr>\n",
       "\t<tr>\n",
       "\t\t<td>1</td>\n",
       "\t\t<td>115</td>\n",
       "\t\t<td>0.10714285714285712</td>\n",
       "\t\t<td>0.323529411764706</td>\n",
       "\t\t<td>0.6666666666666666</td>\n",
       "\t\t<td>0.04166666666666667</td>\n",
       "\t</tr>\n",
       "\t<tr>\n",
       "\t\t<td>1</td>\n",
       "\t\t<td>135</td>\n",
       "\t\t<td>-0.017857142857142873</td>\n",
       "\t\t<td>0.088235294117647</td>\n",
       "\t\t<td>0.7777777777777778</td>\n",
       "\t\t<td>0.04166666666666667</td>\n",
       "\t</tr>\n",
       "\t<tr>\n",
       "\t\t<td>3</td>\n",
       "\t\t<td>130</td>\n",
       "\t\t<td>0.8392857142857142</td>\n",
       "\t\t<td>0.6470588235294118</td>\n",
       "\t\t<td>0.44444444444444436</td>\n",
       "\t\t<td>0.8750000000000001</td>\n",
       "\t</tr>\n",
       "\t<tr>\n",
       "\t\t<td>3</td>\n",
       "\t\t<td>122</td>\n",
       "\t\t<td>0.6071428571428572</td>\n",
       "\t\t<td>0.17647058823529427</td>\n",
       "\t\t<td>0.16666666666666657</td>\n",
       "\t\t<td>0.6666666666666666</td>\n",
       "\t</tr>\n",
       "\t<tr>\n",
       "\t\t<td>3</td>\n",
       "\t\t<td>30</td>\n",
       "\t\t<td>0.7499999999999999</td>\n",
       "\t\t<td>0.6176470588235295</td>\n",
       "\t\t<td>0.5555555555555556</td>\n",
       "\t\t<td>0.9166666666666666</td>\n",
       "\t</tr>\n",
       "\t<tr>\n",
       "\t\t<td>3</td>\n",
       "\t\t<td>108</td>\n",
       "\t\t<td>0.6785714285714287</td>\n",
       "\t\t<td>0.5294117647058822</td>\n",
       "\t\t<td>0.44444444444444436</td>\n",
       "\t\t<td>0.7083333333333334</td>\n",
       "\t</tr>\n",
       "\t<tr>\n",
       "\t\t<td>1</td>\n",
       "\t\t<td>126</td>\n",
       "\t\t<td>0.035714285714285705</td>\n",
       "\t\t<td>0.058823529411764754</td>\n",
       "\t\t<td>0.055555555555555365</td>\n",
       "\t\t<td>0.08333333333333333</td>\n",
       "\t</tr>\n",
       "</table></html>"
      ],
      "text/plain": [
       "   species   id  petal_length  sepal_length  sepal_width  petal_width\n",
       "0        1   31      0.071429      0.323529     0.666667     0.125000\n",
       "1        1  116      0.053571      0.147059     0.444444     0.083333\n",
       "2        3  134      0.857143      0.823529     0.444444     0.833333\n",
       "3        1  115      0.107143      0.323529     0.666667     0.041667\n",
       "4        1  135     -0.017857      0.088235     0.777778     0.041667\n",
       "5        3  130      0.839286      0.647059     0.444444     0.875000\n",
       "6        3  122      0.607143      0.176471     0.166667     0.666667\n",
       "7        3   30      0.750000      0.617647     0.555556     0.916667\n",
       "8        3  108      0.678571      0.529412     0.444444     0.708333\n",
       "9        1  126      0.035714      0.058824     0.055556     0.083333"
      ]
     },
     "metadata": {},
     "output_type": "display_data"
    },
    {
     "name": "stdout",
     "output_type": "stream",
     "text": [
      "                                                                                          \r"
     ]
    },
    {
     "data": {
      "text/html": [
       "Total time taken by feature scaling: 37.42 sec"
      ],
      "text/plain": [
       "<IPython.core.display.HTML object>"
      ]
     },
     "metadata": {},
     "output_type": "display_data"
    },
    {
     "name": "stdout",
     "output_type": "stream",
     "text": [
      "                                                                                          \r"
     ]
    },
    {
     "data": {
      "text/html": [
       "\n",
       "Feature selection using rfe ..."
      ],
      "text/plain": [
       "<IPython.core.display.HTML object>"
      ]
     },
     "metadata": {},
     "output_type": "display_data"
    },
    {
     "name": "stdout",
     "output_type": "stream",
     "text": [
      "                                                                                          \r"
     ]
    },
    {
     "data": {
      "text/html": [
       "feature selected by RFE:"
      ],
      "text/plain": [
       "<IPython.core.display.HTML object>"
      ]
     },
     "metadata": {},
     "output_type": "display_data"
    },
    {
     "name": "stdout",
     "output_type": "stream",
     "text": [
      "['sepal_length', 'sepal_width', 'petal_length', 'petal_width']\n",
      "                                                                                          \r"
     ]
    },
    {
     "data": {
      "text/html": [
       "Total time taken by feature selection: 6.63 sec  "
      ],
      "text/plain": [
       "<IPython.core.display.HTML object>"
      ]
     },
     "metadata": {},
     "output_type": "display_data"
    },
    {
     "name": "stdout",
     "output_type": "stream",
     "text": [
      "                                                                                          \r"
     ]
    },
    {
     "data": {
      "text/html": [
       "\n",
       "scaling Features of rfe data ..."
      ],
      "text/plain": [
       "<IPython.core.display.HTML object>"
      ]
     },
     "metadata": {},
     "output_type": "display_data"
    },
    {
     "name": "stdout",
     "output_type": "stream",
     "text": [
      "                                                                                          \r"
     ]
    },
    {
     "data": {
      "text/html": [
       "columns that will be scaled: "
      ],
      "text/plain": [
       "<IPython.core.display.HTML object>"
      ]
     },
     "metadata": {},
     "output_type": "display_data"
    },
    {
     "name": "stdout",
     "output_type": "stream",
     "text": [
      "['r_sepal_length', 'r_sepal_width', 'r_petal_length', 'r_petal_width']\n",
      "                                                                                          \r"
     ]
    },
    {
     "data": {
      "text/html": [
       "Training dataset sample after scaling:"
      ],
      "text/plain": [
       "<IPython.core.display.HTML object>"
      ]
     },
     "metadata": {},
     "output_type": "display_data"
    },
    {
     "data": {
      "text/html": [
       "<style type=\"text/css\">\n",
       "\ttable {border:ridge 5px;}\n",
       "\ttable td {border:inset 1px;}\n",
       "\ttable tr#HeaderRow {background-color:grey; color:white;}</style>\n",
       "<html><table>\n",
       "\t<tr id=\"HeaderRow\">\n",
       "\t\t<th>species</th>\n",
       "\t\t<th>id</th>\n",
       "\t\t<th>r_sepal_length</th>\n",
       "\t\t<th>r_sepal_width</th>\n",
       "\t\t<th>r_petal_length</th>\n",
       "\t\t<th>r_petal_width</th>\n",
       "\t</tr>\n",
       "\t<tr>\n",
       "\t\t<td>1</td>\n",
       "\t\t<td>50</td>\n",
       "\t\t<td>0.088235294117647</td>\n",
       "\t\t<td>0.6666666666666666</td>\n",
       "\t\t<td>0.05357142857142854</td>\n",
       "\t\t<td>0.08333333333333333</td>\n",
       "\t</tr>\n",
       "\t<tr>\n",
       "\t\t<td>1</td>\n",
       "\t\t<td>92</td>\n",
       "\t\t<td>0.26470588235294124</td>\n",
       "\t\t<td>0.6666666666666666</td>\n",
       "\t\t<td>0.05357142857142854</td>\n",
       "\t\t<td>0.04166666666666667</td>\n",
       "\t</tr>\n",
       "\t<tr>\n",
       "\t\t<td>3</td>\n",
       "\t\t<td>118</td>\n",
       "\t\t<td>0.588235294117647</td>\n",
       "\t\t<td>0.2777777777777778</td>\n",
       "\t\t<td>0.6785714285714287</td>\n",
       "\t\t<td>0.7083333333333334</td>\n",
       "\t</tr>\n",
       "\t<tr>\n",
       "\t\t<td>1</td>\n",
       "\t\t<td>56</td>\n",
       "\t\t<td>0.23529411764705874</td>\n",
       "\t\t<td>0.8888888888888887</td>\n",
       "\t\t<td>0.07142857142857141</td>\n",
       "\t\t<td>0.08333333333333333</td>\n",
       "\t</tr>\n",
       "\t<tr>\n",
       "\t\t<td>1</td>\n",
       "\t\t<td>90</td>\n",
       "\t\t<td>0.17647058823529427</td>\n",
       "\t\t<td>0.5</td>\n",
       "\t\t<td>0.07142857142857141</td>\n",
       "\t\t<td>0.04166666666666667</td>\n",
       "\t</tr>\n",
       "\t<tr>\n",
       "\t\t<td>3</td>\n",
       "\t\t<td>94</td>\n",
       "\t\t<td>0.588235294117647</td>\n",
       "\t\t<td>0.16666666666666657</td>\n",
       "\t\t<td>0.6964285714285715</td>\n",
       "\t\t<td>0.75</td>\n",
       "\t</tr>\n",
       "\t<tr>\n",
       "\t\t<td>3</td>\n",
       "\t\t<td>79</td>\n",
       "\t\t<td>0.588235294117647</td>\n",
       "\t\t<td>0.3888888888888888</td>\n",
       "\t\t<td>0.8035714285714286</td>\n",
       "\t\t<td>0.7083333333333334</td>\n",
       "\t</tr>\n",
       "\t<tr>\n",
       "\t\t<td>3</td>\n",
       "\t\t<td>36</td>\n",
       "\t\t<td>0.411764705882353</td>\n",
       "\t\t<td>0.16666666666666657</td>\n",
       "\t\t<td>0.6964285714285715</td>\n",
       "\t\t<td>0.7916666666666666</td>\n",
       "\t</tr>\n",
       "\t<tr>\n",
       "\t\t<td>3</td>\n",
       "\t\t<td>100</td>\n",
       "\t\t<td>0.7058823529411765</td>\n",
       "\t\t<td>0.16666666666666657</td>\n",
       "\t\t<td>0.8392857142857142</td>\n",
       "\t\t<td>0.7083333333333334</td>\n",
       "\t</tr>\n",
       "\t<tr>\n",
       "\t\t<td>1</td>\n",
       "\t\t<td>23</td>\n",
       "\t\t<td>0.4411764705882352</td>\n",
       "\t\t<td>1.0</td>\n",
       "\t\t<td>0.017857142857142835</td>\n",
       "\t\t<td>0.04166666666666667</td>\n",
       "\t</tr>\n",
       "</table></html>"
      ],
      "text/plain": [
       "   species   id  r_sepal_length  r_sepal_width  r_petal_length  r_petal_width\n",
       "0        1   50        0.088235       0.666667        0.053571       0.083333\n",
       "1        1   92        0.264706       0.666667        0.053571       0.041667\n",
       "2        3  118        0.588235       0.277778        0.678571       0.708333\n",
       "3        1   56        0.235294       0.888889        0.071429       0.083333\n",
       "4        1   90        0.176471       0.500000        0.071429       0.041667\n",
       "5        3   94        0.588235       0.166667        0.696429       0.750000\n",
       "6        3   79        0.588235       0.388889        0.803571       0.708333\n",
       "7        3   36        0.411765       0.166667        0.696429       0.791667\n",
       "8        3  100        0.705882       0.166667        0.839286       0.708333\n",
       "9        1   23        0.441176       1.000000        0.017857       0.041667"
      ]
     },
     "metadata": {},
     "output_type": "display_data"
    },
    {
     "name": "stdout",
     "output_type": "stream",
     "text": [
      "                                                                                          \r"
     ]
    },
    {
     "data": {
      "text/html": [
       "Testing dataset sample after scaling:"
      ],
      "text/plain": [
       "<IPython.core.display.HTML object>"
      ]
     },
     "metadata": {},
     "output_type": "display_data"
    },
    {
     "data": {
      "text/html": [
       "<style type=\"text/css\">\n",
       "\ttable {border:ridge 5px;}\n",
       "\ttable td {border:inset 1px;}\n",
       "\ttable tr#HeaderRow {background-color:grey; color:white;}</style>\n",
       "<html><table>\n",
       "\t<tr id=\"HeaderRow\">\n",
       "\t\t<th>species</th>\n",
       "\t\t<th>id</th>\n",
       "\t\t<th>r_sepal_length</th>\n",
       "\t\t<th>r_sepal_width</th>\n",
       "\t\t<th>r_petal_length</th>\n",
       "\t\t<th>r_petal_width</th>\n",
       "\t</tr>\n",
       "\t<tr>\n",
       "\t\t<td>1</td>\n",
       "\t\t<td>31</td>\n",
       "\t\t<td>0.323529411764706</td>\n",
       "\t\t<td>0.6666666666666666</td>\n",
       "\t\t<td>0.07142857142857141</td>\n",
       "\t\t<td>0.12500000000000003</td>\n",
       "\t</tr>\n",
       "\t<tr>\n",
       "\t\t<td>1</td>\n",
       "\t\t<td>116</td>\n",
       "\t\t<td>0.14705882352941174</td>\n",
       "\t\t<td>0.44444444444444436</td>\n",
       "\t\t<td>0.05357142857142854</td>\n",
       "\t\t<td>0.08333333333333333</td>\n",
       "\t</tr>\n",
       "\t<tr>\n",
       "\t\t<td>3</td>\n",
       "\t\t<td>134</td>\n",
       "\t\t<td>0.8235294117647057</td>\n",
       "\t\t<td>0.44444444444444436</td>\n",
       "\t\t<td>0.8571428571428573</td>\n",
       "\t\t<td>0.8333333333333334</td>\n",
       "\t</tr>\n",
       "\t<tr>\n",
       "\t\t<td>1</td>\n",
       "\t\t<td>115</td>\n",
       "\t\t<td>0.323529411764706</td>\n",
       "\t\t<td>0.6666666666666666</td>\n",
       "\t\t<td>0.10714285714285712</td>\n",
       "\t\t<td>0.04166666666666667</td>\n",
       "\t</tr>\n",
       "\t<tr>\n",
       "\t\t<td>1</td>\n",
       "\t\t<td>135</td>\n",
       "\t\t<td>0.088235294117647</td>\n",
       "\t\t<td>0.7777777777777778</td>\n",
       "\t\t<td>-0.017857142857142873</td>\n",
       "\t\t<td>0.04166666666666667</td>\n",
       "\t</tr>\n",
       "\t<tr>\n",
       "\t\t<td>3</td>\n",
       "\t\t<td>130</td>\n",
       "\t\t<td>0.6470588235294118</td>\n",
       "\t\t<td>0.44444444444444436</td>\n",
       "\t\t<td>0.8392857142857142</td>\n",
       "\t\t<td>0.8750000000000001</td>\n",
       "\t</tr>\n",
       "\t<tr>\n",
       "\t\t<td>3</td>\n",
       "\t\t<td>122</td>\n",
       "\t\t<td>0.17647058823529427</td>\n",
       "\t\t<td>0.16666666666666657</td>\n",
       "\t\t<td>0.6071428571428572</td>\n",
       "\t\t<td>0.6666666666666666</td>\n",
       "\t</tr>\n",
       "\t<tr>\n",
       "\t\t<td>3</td>\n",
       "\t\t<td>30</td>\n",
       "\t\t<td>0.6176470588235295</td>\n",
       "\t\t<td>0.5555555555555556</td>\n",
       "\t\t<td>0.7499999999999999</td>\n",
       "\t\t<td>0.9166666666666666</td>\n",
       "\t</tr>\n",
       "\t<tr>\n",
       "\t\t<td>3</td>\n",
       "\t\t<td>108</td>\n",
       "\t\t<td>0.5294117647058822</td>\n",
       "\t\t<td>0.44444444444444436</td>\n",
       "\t\t<td>0.6785714285714287</td>\n",
       "\t\t<td>0.7083333333333334</td>\n",
       "\t</tr>\n",
       "\t<tr>\n",
       "\t\t<td>1</td>\n",
       "\t\t<td>126</td>\n",
       "\t\t<td>0.058823529411764754</td>\n",
       "\t\t<td>0.055555555555555365</td>\n",
       "\t\t<td>0.035714285714285705</td>\n",
       "\t\t<td>0.08333333333333333</td>\n",
       "\t</tr>\n",
       "</table></html>"
      ],
      "text/plain": [
       "   species   id  r_sepal_length  r_sepal_width  r_petal_length  r_petal_width\n",
       "0        1   31        0.323529       0.666667        0.071429       0.125000\n",
       "1        1  116        0.147059       0.444444        0.053571       0.083333\n",
       "2        3  134        0.823529       0.444444        0.857143       0.833333\n",
       "3        1  115        0.323529       0.666667        0.107143       0.041667\n",
       "4        1  135        0.088235       0.777778       -0.017857       0.041667\n",
       "5        3  130        0.647059       0.444444        0.839286       0.875000\n",
       "6        3  122        0.176471       0.166667        0.607143       0.666667\n",
       "7        3   30        0.617647       0.555556        0.750000       0.916667\n",
       "8        3  108        0.529412       0.444444        0.678571       0.708333\n",
       "9        1  126        0.058824       0.055556        0.035714       0.083333"
      ]
     },
     "metadata": {},
     "output_type": "display_data"
    },
    {
     "name": "stdout",
     "output_type": "stream",
     "text": [
      "                                                                                          \r"
     ]
    },
    {
     "data": {
      "text/html": [
       "Total time taken by feature scaling: 38.59 sec"
      ],
      "text/plain": [
       "<IPython.core.display.HTML object>"
      ]
     },
     "metadata": {},
     "output_type": "display_data"
    },
    {
     "name": "stdout",
     "output_type": "stream",
     "text": [
      "                                                                                          \r"
     ]
    },
    {
     "data": {
      "text/html": [
       "\n",
       "scaling Features of pca data ..."
      ],
      "text/plain": [
       "<IPython.core.display.HTML object>"
      ]
     },
     "metadata": {},
     "output_type": "display_data"
    },
    {
     "name": "stdout",
     "output_type": "stream",
     "text": [
      "                                                                                          \r"
     ]
    },
    {
     "data": {
      "text/html": [
       "columns that will be scaled: "
      ],
      "text/plain": [
       "<IPython.core.display.HTML object>"
      ]
     },
     "metadata": {},
     "output_type": "display_data"
    },
    {
     "name": "stdout",
     "output_type": "stream",
     "text": [
      "['sepal_length', 'sepal_width', 'petal_length', 'petal_width']\n",
      "                                                                                          \r"
     ]
    },
    {
     "data": {
      "text/html": [
       "Training dataset sample after scaling:"
      ],
      "text/plain": [
       "<IPython.core.display.HTML object>"
      ]
     },
     "metadata": {},
     "output_type": "display_data"
    },
    {
     "data": {
      "text/html": [
       "<style type=\"text/css\">\n",
       "\ttable {border:ridge 5px;}\n",
       "\ttable td {border:inset 1px;}\n",
       "\ttable tr#HeaderRow {background-color:grey; color:white;}</style>\n",
       "<html><table>\n",
       "\t<tr id=\"HeaderRow\">\n",
       "\t\t<th>species</th>\n",
       "\t\t<th>id</th>\n",
       "\t\t<th>sepal_length</th>\n",
       "\t\t<th>sepal_width</th>\n",
       "\t\t<th>petal_length</th>\n",
       "\t\t<th>petal_width</th>\n",
       "\t</tr>\n",
       "\t<tr>\n",
       "\t\t<td>2</td>\n",
       "\t\t<td>63</td>\n",
       "\t\t<td>0.323529411764706</td>\n",
       "\t\t<td>0.44444444444444436</td>\n",
       "\t\t<td>0.6071428571428572</td>\n",
       "\t\t<td>0.5833333333333334</td>\n",
       "\t</tr>\n",
       "\t<tr>\n",
       "\t\t<td>2</td>\n",
       "\t\t<td>35</td>\n",
       "\t\t<td>0.5294117647058822</td>\n",
       "\t\t<td>0.33333333333333315</td>\n",
       "\t\t<td>0.6428571428571429</td>\n",
       "\t\t<td>0.4583333333333333</td>\n",
       "\t</tr>\n",
       "\t<tr>\n",
       "\t\t<td>2</td>\n",
       "\t\t<td>65</td>\n",
       "\t\t<td>0.5294117647058822</td>\n",
       "\t\t<td>0.3888888888888888</td>\n",
       "\t\t<td>0.6428571428571429</td>\n",
       "\t\t<td>0.5416666666666666</td>\n",
       "\t</tr>\n",
       "\t<tr>\n",
       "\t\t<td>3</td>\n",
       "\t\t<td>136</td>\n",
       "\t\t<td>0.7058823529411765</td>\n",
       "\t\t<td>0.6111111111111109</td>\n",
       "\t\t<td>0.8214285714285714</td>\n",
       "\t\t<td>1.0</td>\n",
       "\t</tr>\n",
       "\t<tr>\n",
       "\t\t<td>3</td>\n",
       "\t\t<td>112</td>\n",
       "\t\t<td>0.8529411764705882</td>\n",
       "\t\t<td>0.44444444444444436</td>\n",
       "\t\t<td>0.8392857142857142</td>\n",
       "\t\t<td>0.625</td>\n",
       "\t</tr>\n",
       "\t<tr>\n",
       "\t\t<td>3</td>\n",
       "\t\t<td>34</td>\n",
       "\t\t<td>0.8529411764705882</td>\n",
       "\t\t<td>0.7777777777777778</td>\n",
       "\t\t<td>0.8928571428571429</td>\n",
       "\t\t<td>1.0</td>\n",
       "\t</tr>\n",
       "\t<tr>\n",
       "\t\t<td>3</td>\n",
       "\t\t<td>47</td>\n",
       "\t\t<td>0.8823529411764705</td>\n",
       "\t\t<td>0.3888888888888888</td>\n",
       "\t\t<td>0.9285714285714285</td>\n",
       "\t\t<td>0.7083333333333334</td>\n",
       "\t</tr>\n",
       "\t<tr>\n",
       "\t\t<td>3</td>\n",
       "\t\t<td>18</td>\n",
       "\t\t<td>0.5</td>\n",
       "\t\t<td>0.0</td>\n",
       "\t\t<td>0.6964285714285715</td>\n",
       "\t\t<td>0.5833333333333334</td>\n",
       "\t</tr>\n",
       "\t<tr>\n",
       "\t\t<td>3</td>\n",
       "\t\t<td>114</td>\n",
       "\t\t<td>0.5588235294117647</td>\n",
       "\t\t<td>0.6666666666666666</td>\n",
       "\t\t<td>0.767857142857143</td>\n",
       "\t\t<td>0.9166666666666666</td>\n",
       "\t</tr>\n",
       "\t<tr>\n",
       "\t\t<td>2</td>\n",
       "\t\t<td>80</td>\n",
       "\t\t<td>0.5588235294117647</td>\n",
       "\t\t<td>0.3888888888888888</td>\n",
       "\t\t<td>0.5714285714285714</td>\n",
       "\t\t<td>0.5</td>\n",
       "\t</tr>\n",
       "</table></html>"
      ],
      "text/plain": [
       "   species   id  sepal_length  sepal_width  petal_length  petal_width\n",
       "0        2   63      0.323529     0.444444      0.607143     0.583333\n",
       "1        2   35      0.529412     0.333333      0.642857     0.458333\n",
       "2        2   65      0.529412     0.388889      0.642857     0.541667\n",
       "3        3  136      0.705882     0.611111      0.821429     1.000000\n",
       "4        3  112      0.852941     0.444444      0.839286     0.625000\n",
       "5        3   34      0.852941     0.777778      0.892857     1.000000\n",
       "6        3   47      0.882353     0.388889      0.928571     0.708333\n",
       "7        3   18      0.500000     0.000000      0.696429     0.583333\n",
       "8        3  114      0.558824     0.666667      0.767857     0.916667\n",
       "9        2   80      0.558824     0.388889      0.571429     0.500000"
      ]
     },
     "metadata": {},
     "output_type": "display_data"
    },
    {
     "name": "stdout",
     "output_type": "stream",
     "text": [
      "                                                                                          \r"
     ]
    },
    {
     "data": {
      "text/html": [
       "Testing dataset sample after scaling:"
      ],
      "text/plain": [
       "<IPython.core.display.HTML object>"
      ]
     },
     "metadata": {},
     "output_type": "display_data"
    },
    {
     "data": {
      "text/html": [
       "<style type=\"text/css\">\n",
       "\ttable {border:ridge 5px;}\n",
       "\ttable td {border:inset 1px;}\n",
       "\ttable tr#HeaderRow {background-color:grey; color:white;}</style>\n",
       "<html><table>\n",
       "\t<tr id=\"HeaderRow\">\n",
       "\t\t<th>species</th>\n",
       "\t\t<th>id</th>\n",
       "\t\t<th>sepal_length</th>\n",
       "\t\t<th>sepal_width</th>\n",
       "\t\t<th>petal_length</th>\n",
       "\t\t<th>petal_width</th>\n",
       "\t</tr>\n",
       "\t<tr>\n",
       "\t\t<td>3</td>\n",
       "\t\t<td>30</td>\n",
       "\t\t<td>0.6176470588235295</td>\n",
       "\t\t<td>0.5555555555555556</td>\n",
       "\t\t<td>0.7499999999999999</td>\n",
       "\t\t<td>0.9166666666666666</td>\n",
       "\t</tr>\n",
       "\t<tr>\n",
       "\t\t<td>1</td>\n",
       "\t\t<td>31</td>\n",
       "\t\t<td>0.323529411764706</td>\n",
       "\t\t<td>0.6666666666666666</td>\n",
       "\t\t<td>0.07142857142857141</td>\n",
       "\t\t<td>0.12500000000000003</td>\n",
       "\t</tr>\n",
       "\t<tr>\n",
       "\t\t<td>2</td>\n",
       "\t\t<td>103</td>\n",
       "\t\t<td>0.5</td>\n",
       "\t\t<td>0.3888888888888888</td>\n",
       "\t\t<td>0.6071428571428572</td>\n",
       "\t\t<td>0.5833333333333334</td>\n",
       "\t</tr>\n",
       "\t<tr>\n",
       "\t\t<td>3</td>\n",
       "\t\t<td>29</td>\n",
       "\t\t<td>0.6176470588235295</td>\n",
       "\t\t<td>0.2777777777777778</td>\n",
       "\t\t<td>0.7499999999999999</td>\n",
       "\t\t<td>0.75</td>\n",
       "\t</tr>\n",
       "\t<tr>\n",
       "\t\t<td>2</td>\n",
       "\t\t<td>26</td>\n",
       "\t\t<td>0.588235294117647</td>\n",
       "\t\t<td>0.6111111111111109</td>\n",
       "\t\t<td>0.6428571428571429</td>\n",
       "\t\t<td>0.625</td>\n",
       "\t</tr>\n",
       "\t<tr>\n",
       "\t\t<td>1</td>\n",
       "\t\t<td>106</td>\n",
       "\t\t<td>0.2058823529411765</td>\n",
       "\t\t<td>0.6666666666666666</td>\n",
       "\t\t<td>0.08928571428571429</td>\n",
       "\t\t<td>0.12500000000000003</td>\n",
       "\t</tr>\n",
       "\t<tr>\n",
       "\t\t<td>2</td>\n",
       "\t\t<td>28</td>\n",
       "\t\t<td>0.6470588235294118</td>\n",
       "\t\t<td>0.33333333333333315</td>\n",
       "\t\t<td>0.625</td>\n",
       "\t\t<td>0.5833333333333334</td>\n",
       "\t</tr>\n",
       "\t<tr>\n",
       "\t\t<td>2</td>\n",
       "\t\t<td>84</td>\n",
       "\t\t<td>0.5294117647058822</td>\n",
       "\t\t<td>0.44444444444444436</td>\n",
       "\t\t<td>0.625</td>\n",
       "\t\t<td>0.5416666666666666</td>\n",
       "\t</tr>\n",
       "\t<tr>\n",
       "\t\t<td>1</td>\n",
       "\t\t<td>77</td>\n",
       "\t\t<td>0.088235294117647</td>\n",
       "\t\t<td>0.5555555555555556</td>\n",
       "\t\t<td>0.05357142857142854</td>\n",
       "\t\t<td>0.04166666666666667</td>\n",
       "\t</tr>\n",
       "\t<tr>\n",
       "\t\t<td>2</td>\n",
       "\t\t<td>102</td>\n",
       "\t\t<td>0.3823529411764705</td>\n",
       "\t\t<td>0.3888888888888888</td>\n",
       "\t\t<td>0.44642857142857145</td>\n",
       "\t\t<td>0.5</td>\n",
       "\t</tr>\n",
       "</table></html>"
      ],
      "text/plain": [
       "   species   id  sepal_length  sepal_width  petal_length  petal_width\n",
       "0        3   30      0.617647     0.555556      0.750000     0.916667\n",
       "1        1   31      0.323529     0.666667      0.071429     0.125000\n",
       "2        2  103      0.500000     0.388889      0.607143     0.583333\n",
       "3        3   29      0.617647     0.277778      0.750000     0.750000\n",
       "4        2   26      0.588235     0.611111      0.642857     0.625000\n",
       "5        1  106      0.205882     0.666667      0.089286     0.125000\n",
       "6        2   28      0.647059     0.333333      0.625000     0.583333\n",
       "7        2   84      0.529412     0.444444      0.625000     0.541667\n",
       "8        1   77      0.088235     0.555556      0.053571     0.041667\n",
       "9        2  102      0.382353     0.388889      0.446429     0.500000"
      ]
     },
     "metadata": {},
     "output_type": "display_data"
    },
    {
     "name": "stdout",
     "output_type": "stream",
     "text": [
      "                                                                                          \r"
     ]
    },
    {
     "data": {
      "text/html": [
       "Total time taken by feature scaling: 34.83 sec"
      ],
      "text/plain": [
       "<IPython.core.display.HTML object>"
      ]
     },
     "metadata": {},
     "output_type": "display_data"
    },
    {
     "name": "stdout",
     "output_type": "stream",
     "text": [
      "                                                                                          \r"
     ]
    },
    {
     "data": {
      "text/html": [
       "\n",
       "Dimension Reduction using pca ..."
      ],
      "text/plain": [
       "<IPython.core.display.HTML object>"
      ]
     },
     "metadata": {},
     "output_type": "display_data"
    },
    {
     "name": "stdout",
     "output_type": "stream",
     "text": [
      "                                                                                          \r"
     ]
    },
    {
     "data": {
      "text/html": [
       "PCA columns:"
      ],
      "text/plain": [
       "<IPython.core.display.HTML object>"
      ]
     },
     "metadata": {},
     "output_type": "display_data"
    },
    {
     "name": "stdout",
     "output_type": "stream",
     "text": [
      "['col_0', 'col_1']\n",
      "                                                                                          \r"
     ]
    },
    {
     "data": {
      "text/html": [
       "Total time taken by PCA: 10.08 sec  "
      ],
      "text/plain": [
       "<IPython.core.display.HTML object>"
      ]
     },
     "metadata": {},
     "output_type": "display_data"
    },
    {
     "name": "stdout",
     "output_type": "stream",
     "text": [
      "                                                                                          \r"
     ]
    },
    {
     "data": {
      "text/html": [
       "\n",
       "            <style>\n",
       "                .custom-div {\n",
       "                    background-color: lightgray;\n",
       "                    color: #000000;\n",
       "                    padding: 10px;\n",
       "                    border-radius: 8px;\n",
       "                    box-shadow: 0 3px 4px rgba(0 -  0 -  0 -  0.2);\n",
       "                    margin-bottom: 10px;\n",
       "                    text-align: center;\n",
       "                }\n",
       "            </style>\n",
       "        <br><div class=\"custom-div\"><h3><span style=\"color: green;\">1. Feature Exploration -> 2. Feature Engineering -> 3. Data Preparation -></span> 4. Model Training & Evaluation<center></h3></center></div>"
      ],
      "text/plain": [
       "<IPython.core.display.HTML object>"
      ]
     },
     "metadata": {},
     "output_type": "display_data"
    },
    {
     "name": "stdout",
     "output_type": "stream",
     "text": [
      "                                                                                          \r"
     ]
    },
    {
     "data": {
      "text/html": [
       "Model Training started ..."
      ],
      "text/plain": [
       "<IPython.core.display.HTML object>"
      ]
     },
     "metadata": {},
     "output_type": "display_data"
    },
    {
     "name": "stdout",
     "output_type": "stream",
     "text": [
      "                                                                                          \r"
     ]
    },
    {
     "data": {
      "text/html": [
       "\n",
       "Hyperparameters used for model training: "
      ],
      "text/plain": [
       "<IPython.core.display.HTML object>"
      ]
     },
     "metadata": {},
     "output_type": "display_data"
    },
    {
     "name": "stdout",
     "output_type": "stream",
     "text": [
      "response_column : species                                                                                                                             \n",
      "name : xgboost\n",
      "model_type : Classification\n",
      "column_sampling : (1, 0.6)\n",
      "min_impurity : (0.0, 0.1)\n",
      "lambda1 : (0.01, 0.1, 1, 10)\n",
      "shrinkage_factor : (0.5, 0.1, 0.2)\n",
      "max_depth : (5, 6, 7, 8)\n",
      "min_node_size : (1, 2)\n",
      "iter_num : (10, 20)\n",
      "Total number of models for xgboost : 768\n",
      "--------------------------------------------------------------------------------------------------------------------------------------------------------------------------------------------------------\n",
      "\n",
      "                                                                                          \r"
     ]
    },
    {
     "data": {
      "text/html": [
       "\n",
       "Performing hyperParameter tuning ..."
      ],
      "text/plain": [
       "<IPython.core.display.HTML object>"
      ]
     },
     "metadata": {},
     "output_type": "display_data"
    },
    {
     "name": "stdout",
     "output_type": "stream",
     "text": [
      "                                                                                          \r"
     ]
    },
    {
     "data": {
      "text/html": [
       "xgboost"
      ],
      "text/plain": [
       "<IPython.core.display.HTML object>"
      ]
     },
     "metadata": {},
     "output_type": "display_data"
    },
    {
     "name": "stdout",
     "output_type": "stream",
     "text": [
      "XGBOOST_0                                                                                                                                                                                               \n",
      "XGBOOST_1                                                                                 \n",
      "XGBOOST_11                                                                                \n",
      "                                                                                          \r"
     ]
    },
    {
     "data": {
      "text/html": [
       "----------------------------------------------------------------------------------------------------"
      ],
      "text/plain": [
       "<IPython.core.display.HTML object>"
      ]
     },
     "metadata": {},
     "output_type": "display_data"
    },
    {
     "name": "stdout",
     "output_type": "stream",
     "text": [
      "                                                                                          \r"
     ]
    },
    {
     "data": {
      "text/html": [
       "Evaluating models performance ..."
      ],
      "text/plain": [
       "<IPython.core.display.HTML object>"
      ]
     },
     "metadata": {},
     "output_type": "display_data"
    },
    {
     "name": "stdout",
     "output_type": "stream",
     "text": [
      "                                                                                          \r"
     ]
    },
    {
     "data": {
      "text/html": [
       "Evaluation completed."
      ],
      "text/plain": [
       "<IPython.core.display.HTML object>"
      ]
     },
     "metadata": {},
     "output_type": "display_data"
    },
    {
     "name": "stdout",
     "output_type": "stream",
     "text": [
      "                                                                                          \r"
     ]
    },
    {
     "data": {
      "text/html": [
       "Leaderboard"
      ],
      "text/plain": [
       "<IPython.core.display.HTML object>"
      ]
     },
     "metadata": {},
     "output_type": "display_data"
    },
    {
     "data": {
      "text/html": [
       "<div>\n",
       "<style scoped>\n",
       "    .dataframe tbody tr th:only-of-type {\n",
       "        vertical-align: middle;\n",
       "    }\n",
       "\n",
       "    .dataframe tbody tr th {\n",
       "        vertical-align: top;\n",
       "    }\n",
       "\n",
       "    .dataframe thead th {\n",
       "        text-align: right;\n",
       "    }\n",
       "</style>\n",
       "<table border=\"1\" class=\"dataframe\">\n",
       "  <thead>\n",
       "    <tr style=\"text-align: right;\">\n",
       "      <th></th>\n",
       "      <th>Rank</th>\n",
       "      <th>Name</th>\n",
       "      <th>Feature selection</th>\n",
       "      <th>Accuracy</th>\n",
       "      <th>Micro-Precision</th>\n",
       "      <th>Micro-Recall</th>\n",
       "      <th>Micro-F1</th>\n",
       "      <th>Macro-Precision</th>\n",
       "      <th>Macro-Recall</th>\n",
       "      <th>Macro-F1</th>\n",
       "      <th>Weighted-Precision</th>\n",
       "      <th>Weighted-Recall</th>\n",
       "      <th>Weighted-F1</th>\n",
       "    </tr>\n",
       "  </thead>\n",
       "  <tbody>\n",
       "    <tr>\n",
       "      <th>0</th>\n",
       "      <td>1</td>\n",
       "      <td>xgboost</td>\n",
       "      <td>pca</td>\n",
       "      <td>0.916667</td>\n",
       "      <td>0.916667</td>\n",
       "      <td>0.916667</td>\n",
       "      <td>0.916667</td>\n",
       "      <td>0.939394</td>\n",
       "      <td>0.916667</td>\n",
       "      <td>0.919048</td>\n",
       "      <td>0.931818</td>\n",
       "      <td>0.916667</td>\n",
       "      <td>0.914881</td>\n",
       "    </tr>\n",
       "    <tr>\n",
       "      <th>1</th>\n",
       "      <td>2</td>\n",
       "      <td>xgboost</td>\n",
       "      <td>lasso</td>\n",
       "      <td>0.291667</td>\n",
       "      <td>0.291667</td>\n",
       "      <td>0.291667</td>\n",
       "      <td>0.291667</td>\n",
       "      <td>0.097222</td>\n",
       "      <td>0.333333</td>\n",
       "      <td>0.150538</td>\n",
       "      <td>0.085069</td>\n",
       "      <td>0.291667</td>\n",
       "      <td>0.131720</td>\n",
       "    </tr>\n",
       "    <tr>\n",
       "      <th>2</th>\n",
       "      <td>3</td>\n",
       "      <td>xgboost</td>\n",
       "      <td>rfe</td>\n",
       "      <td>0.291667</td>\n",
       "      <td>0.291667</td>\n",
       "      <td>0.291667</td>\n",
       "      <td>0.291667</td>\n",
       "      <td>0.097222</td>\n",
       "      <td>0.333333</td>\n",
       "      <td>0.150538</td>\n",
       "      <td>0.085069</td>\n",
       "      <td>0.291667</td>\n",
       "      <td>0.131720</td>\n",
       "    </tr>\n",
       "  </tbody>\n",
       "</table>\n",
       "</div>"
      ],
      "text/plain": [
       "   Rank     Name Feature selection  Accuracy  Micro-Precision  Micro-Recall  \\\n",
       "0     1  xgboost               pca  0.916667         0.916667      0.916667   \n",
       "1     2  xgboost             lasso  0.291667         0.291667      0.291667   \n",
       "2     3  xgboost               rfe  0.291667         0.291667      0.291667   \n",
       "\n",
       "   Micro-F1  Macro-Precision  Macro-Recall  Macro-F1  Weighted-Precision  \\\n",
       "0  0.916667         0.939394      0.916667  0.919048            0.931818   \n",
       "1  0.291667         0.097222      0.333333  0.150538            0.085069   \n",
       "2  0.291667         0.097222      0.333333  0.150538            0.085069   \n",
       "\n",
       "   Weighted-Recall  Weighted-F1  \n",
       "0         0.916667     0.914881  \n",
       "1         0.291667     0.131720  \n",
       "2         0.291667     0.131720  "
      ]
     },
     "metadata": {},
     "output_type": "display_data"
    },
    {
     "name": "stdout",
     "output_type": "stream",
     "text": [
      "                                                                                          \r"
     ]
    },
    {
     "data": {
      "text/html": [
       "\n",
       "            <style>\n",
       "                .custom-div {\n",
       "                    background-color: lightgray;\n",
       "                    color: #000000;\n",
       "                    padding: 10px;\n",
       "                    border-radius: 8px;\n",
       "                    box-shadow: 0 3px 4px rgba(0 -  0 -  0 -  0.2);\n",
       "                    margin-bottom: 10px;\n",
       "                    text-align: center;\n",
       "                }\n",
       "            </style>\n",
       "        <br><div class=\"custom-div\"><h3><span style=\"color: green;\">1. Feature Exploration -> 2. Feature Engineering -> 3. Data Preparation -> 4. Model Training & Evaluation</span><center></h3></center></div>"
      ],
      "text/plain": [
       "<IPython.core.display.HTML object>"
      ]
     },
     "metadata": {},
     "output_type": "display_data"
    },
    {
     "name": "stdout",
     "output_type": "stream",
     "text": [
      "Completed: ｜⫿⫿⫿⫿⫿⫿⫿⫿⫿⫿⫿⫿⫿⫿⫿⫿⫿⫿⫿⫿⫿⫿⫿⫿⫿⫿⫿⫿⫿⫿⫿⫿⫿⫿⫿⫿⫿⫿⫿⫿⫿⫿⫿⫿⫿⫿⫿⫿⫿⫿⫿⫿⫿⫿⫿⫿⫿⫿⫿⫿｜ 100% - 15/15    \r"
     ]
    }
   ],
   "source": [
    "# Fitting train data\n",
    "aml.fit(iris_train, iris_train.species)"
   ]
  },
  {
   "cell_type": "markdown",
   "id": "23a04eb1-68e6-48b7-95aa-442f434809da",
   "metadata": {},
   "source": [
    "## <b><span style='color:#F1A424'>| 3.</span> Leaderboard : </b>"
   ]
  },
  {
   "cell_type": "code",
   "execution_count": 18,
   "id": "77de1099-6122-4f8a-8e7f-dd67e5b4ced4",
   "metadata": {},
   "outputs": [
    {
     "data": {
      "text/html": [
       "<div>\n",
       "<style scoped>\n",
       "    .dataframe tbody tr th:only-of-type {\n",
       "        vertical-align: middle;\n",
       "    }\n",
       "\n",
       "    .dataframe tbody tr th {\n",
       "        vertical-align: top;\n",
       "    }\n",
       "\n",
       "    .dataframe thead th {\n",
       "        text-align: right;\n",
       "    }\n",
       "</style>\n",
       "<table border=\"1\" class=\"dataframe\">\n",
       "  <thead>\n",
       "    <tr style=\"text-align: right;\">\n",
       "      <th></th>\n",
       "      <th>Rank</th>\n",
       "      <th>Name</th>\n",
       "      <th>Feature selection</th>\n",
       "      <th>Accuracy</th>\n",
       "      <th>Micro-Precision</th>\n",
       "      <th>Micro-Recall</th>\n",
       "      <th>Micro-F1</th>\n",
       "      <th>Macro-Precision</th>\n",
       "      <th>Macro-Recall</th>\n",
       "      <th>Macro-F1</th>\n",
       "      <th>Weighted-Precision</th>\n",
       "      <th>Weighted-Recall</th>\n",
       "      <th>Weighted-F1</th>\n",
       "    </tr>\n",
       "  </thead>\n",
       "  <tbody>\n",
       "    <tr>\n",
       "      <th>0</th>\n",
       "      <td>1</td>\n",
       "      <td>xgboost</td>\n",
       "      <td>pca</td>\n",
       "      <td>0.916667</td>\n",
       "      <td>0.916667</td>\n",
       "      <td>0.916667</td>\n",
       "      <td>0.916667</td>\n",
       "      <td>0.939394</td>\n",
       "      <td>0.916667</td>\n",
       "      <td>0.919048</td>\n",
       "      <td>0.931818</td>\n",
       "      <td>0.916667</td>\n",
       "      <td>0.914881</td>\n",
       "    </tr>\n",
       "    <tr>\n",
       "      <th>1</th>\n",
       "      <td>2</td>\n",
       "      <td>xgboost</td>\n",
       "      <td>lasso</td>\n",
       "      <td>0.291667</td>\n",
       "      <td>0.291667</td>\n",
       "      <td>0.291667</td>\n",
       "      <td>0.291667</td>\n",
       "      <td>0.097222</td>\n",
       "      <td>0.333333</td>\n",
       "      <td>0.150538</td>\n",
       "      <td>0.085069</td>\n",
       "      <td>0.291667</td>\n",
       "      <td>0.131720</td>\n",
       "    </tr>\n",
       "    <tr>\n",
       "      <th>2</th>\n",
       "      <td>3</td>\n",
       "      <td>xgboost</td>\n",
       "      <td>rfe</td>\n",
       "      <td>0.291667</td>\n",
       "      <td>0.291667</td>\n",
       "      <td>0.291667</td>\n",
       "      <td>0.291667</td>\n",
       "      <td>0.097222</td>\n",
       "      <td>0.333333</td>\n",
       "      <td>0.150538</td>\n",
       "      <td>0.085069</td>\n",
       "      <td>0.291667</td>\n",
       "      <td>0.131720</td>\n",
       "    </tr>\n",
       "  </tbody>\n",
       "</table>\n",
       "</div>"
      ],
      "text/plain": [
       "   Rank     Name Feature selection  Accuracy  Micro-Precision  Micro-Recall  \\\n",
       "0     1  xgboost               pca  0.916667         0.916667      0.916667   \n",
       "1     2  xgboost             lasso  0.291667         0.291667      0.291667   \n",
       "2     3  xgboost               rfe  0.291667         0.291667      0.291667   \n",
       "\n",
       "   Micro-F1  Macro-Precision  Macro-Recall  Macro-F1  Weighted-Precision  \\\n",
       "0  0.916667         0.939394      0.916667  0.919048            0.931818   \n",
       "1  0.291667         0.097222      0.333333  0.150538            0.085069   \n",
       "2  0.291667         0.097222      0.333333  0.150538            0.085069   \n",
       "\n",
       "   Weighted-Recall  Weighted-F1  \n",
       "0         0.916667     0.914881  \n",
       "1         0.291667     0.131720  \n",
       "2         0.291667     0.131720  "
      ]
     },
     "execution_count": 18,
     "metadata": {},
     "output_type": "execute_result"
    }
   ],
   "source": [
    "# Fetching Leaderboard\n",
    "aml.leaderboard()"
   ]
  },
  {
   "cell_type": "markdown",
   "id": "a7a3aa08-e349-4a61-9217-2c17d50411d8",
   "metadata": {},
   "source": [
    "## <b><span style='color:#F1A424'>| 4.</span> Best Performing Model : </b>"
   ]
  },
  {
   "cell_type": "code",
   "execution_count": 19,
   "id": "c4c32832-a76b-4f42-826a-cefc38a6301b",
   "metadata": {},
   "outputs": [
    {
     "data": {
      "text/html": [
       "<div>\n",
       "<style scoped>\n",
       "    .dataframe tbody tr th:only-of-type {\n",
       "        vertical-align: middle;\n",
       "    }\n",
       "\n",
       "    .dataframe tbody tr th {\n",
       "        vertical-align: top;\n",
       "    }\n",
       "\n",
       "    .dataframe thead th {\n",
       "        text-align: right;\n",
       "    }\n",
       "</style>\n",
       "<table border=\"1\" class=\"dataframe\">\n",
       "  <thead>\n",
       "    <tr style=\"text-align: right;\">\n",
       "      <th></th>\n",
       "      <th>Rank</th>\n",
       "      <th>Name</th>\n",
       "      <th>Feature selection</th>\n",
       "      <th>Accuracy</th>\n",
       "      <th>Micro-Precision</th>\n",
       "      <th>Micro-Recall</th>\n",
       "      <th>Micro-F1</th>\n",
       "      <th>Macro-Precision</th>\n",
       "      <th>Macro-Recall</th>\n",
       "      <th>Macro-F1</th>\n",
       "      <th>Weighted-Precision</th>\n",
       "      <th>Weighted-Recall</th>\n",
       "      <th>Weighted-F1</th>\n",
       "    </tr>\n",
       "  </thead>\n",
       "  <tbody>\n",
       "    <tr>\n",
       "      <th>0</th>\n",
       "      <td>1</td>\n",
       "      <td>xgboost</td>\n",
       "      <td>pca</td>\n",
       "      <td>0.916667</td>\n",
       "      <td>0.916667</td>\n",
       "      <td>0.916667</td>\n",
       "      <td>0.916667</td>\n",
       "      <td>0.939394</td>\n",
       "      <td>0.916667</td>\n",
       "      <td>0.919048</td>\n",
       "      <td>0.931818</td>\n",
       "      <td>0.916667</td>\n",
       "      <td>0.914881</td>\n",
       "    </tr>\n",
       "  </tbody>\n",
       "</table>\n",
       "</div>"
      ],
      "text/plain": [
       "   Rank     Name Feature selection  Accuracy  Micro-Precision  Micro-Recall  \\\n",
       "0     1  xgboost               pca  0.916667         0.916667      0.916667   \n",
       "\n",
       "   Micro-F1  Macro-Precision  Macro-Recall  Macro-F1  Weighted-Precision  \\\n",
       "0  0.916667         0.939394      0.916667  0.919048            0.931818   \n",
       "\n",
       "   Weighted-Recall  Weighted-F1  \n",
       "0         0.916667     0.914881  "
      ]
     },
     "metadata": {},
     "output_type": "display_data"
    }
   ],
   "source": [
    "# Fetching best performing model for dataset\n",
    "aml.leader()"
   ]
  },
  {
   "cell_type": "markdown",
   "id": "e43181a9-3847-4e8b-b510-6da81f1c550f",
   "metadata": {},
   "source": [
    "## <b><span style='color:#F1A424'>| 5.</span> Generating Prediction : </b>"
   ]
  },
  {
   "cell_type": "markdown",
   "id": "8bf3bed8-dbdd-4239-97da-f289559c785c",
   "metadata": {},
   "source": [
    "### <b><span style='color:#F1A424'>| 5.1.</span> Generating prediction on default validation test data </b>"
   ]
  },
  {
   "cell_type": "code",
   "execution_count": 20,
   "id": "27663268-da3c-4717-b675-6d3a6d6f8f37",
   "metadata": {},
   "outputs": [
    {
     "name": "stdout",
     "output_type": "stream",
     "text": [
      "xgboost pca\n",
      "\n",
      " Prediction : \n",
      "   species   id  Prediction  Confidence_Lower  Confidence_upper\n",
      "0        2   28           2             0.750             0.750\n",
      "1        3   30           3             1.000             1.000\n",
      "2        1   31           1             0.875             0.875\n",
      "3        1  106           1             0.875             0.875\n",
      "4        2   84           2             0.875             0.875\n",
      "5        1   77           1             0.875             0.875\n",
      "6        2   67           2             1.000             1.000\n",
      "7        3   29           3             1.000             1.000\n",
      "8        3   27           3             1.000             1.000\n",
      "9        2   26           2             0.750             0.750\n",
      "\n",
      " Performance Metrics : \n",
      "       Prediction  Mapping  CLASS_1  CLASS_2  CLASS_3  Precision  Recall        F1  Support\n",
      "SeqNum                                                                                     \n",
      "0               1  CLASS_1        7        0        0   1.000000    1.00  1.000000        7\n",
      "2               3  CLASS_3        0        0        6   1.000000    0.75  0.857143        8\n",
      "1               2  CLASS_2        0        9        2   0.818182    1.00  0.900000        9\n",
      "\n",
      " Confusion Matrix : \n"
     ]
    },
    {
     "data": {
      "text/plain": [
       "array([[7, 0, 0],\n",
       "       [0, 9, 0],\n",
       "       [0, 2, 6]], dtype=int64)"
      ]
     },
     "metadata": {},
     "output_type": "display_data"
    }
   ],
   "source": [
    "# Generating prediction and metrics on default test data\n",
    "prediction = aml.predict()"
   ]
  },
  {
   "cell_type": "code",
   "execution_count": 21,
   "id": "742da363-550e-43e9-8c4b-d5feac54f522",
   "metadata": {},
   "outputs": [
    {
     "data": {
      "text/html": [
       "<style type=\"text/css\">\n",
       "\ttable {border:ridge 5px;}\n",
       "\ttable td {border:inset 1px;}\n",
       "\ttable tr#HeaderRow {background-color:grey; color:white;}</style>\n",
       "<html><table>\n",
       "\t<tr id=\"HeaderRow\">\n",
       "\t\t<th>species</th>\n",
       "\t\t<th>id</th>\n",
       "\t\t<th>Prediction</th>\n",
       "\t\t<th>Confidence_Lower</th>\n",
       "\t\t<th>Confidence_upper</th>\n",
       "\t</tr>\n",
       "\t<tr>\n",
       "\t\t<td>1</td>\n",
       "\t\t<td>126</td>\n",
       "\t\t<td>1</td>\n",
       "\t\t<td>0.75</td>\n",
       "\t\t<td>0.75</td>\n",
       "\t</tr>\n",
       "\t<tr>\n",
       "\t\t<td>1</td>\n",
       "\t\t<td>135</td>\n",
       "\t\t<td>1</td>\n",
       "\t\t<td>0.875</td>\n",
       "\t\t<td>0.875</td>\n",
       "\t</tr>\n",
       "\t<tr>\n",
       "\t\t<td>1</td>\n",
       "\t\t<td>106</td>\n",
       "\t\t<td>1</td>\n",
       "\t\t<td>0.875</td>\n",
       "\t\t<td>0.875</td>\n",
       "\t</tr>\n",
       "\t<tr>\n",
       "\t\t<td>1</td>\n",
       "\t\t<td>115</td>\n",
       "\t\t<td>1</td>\n",
       "\t\t<td>0.875</td>\n",
       "\t\t<td>0.875</td>\n",
       "\t</tr>\n",
       "\t<tr>\n",
       "\t\t<td>2</td>\n",
       "\t\t<td>103</td>\n",
       "\t\t<td>2</td>\n",
       "\t\t<td>0.875</td>\n",
       "\t\t<td>0.875</td>\n",
       "\t</tr>\n",
       "\t<tr>\n",
       "\t\t<td>2</td>\n",
       "\t\t<td>28</td>\n",
       "\t\t<td>2</td>\n",
       "\t\t<td>0.75</td>\n",
       "\t\t<td>0.75</td>\n",
       "\t</tr>\n",
       "\t<tr>\n",
       "\t\t<td>2</td>\n",
       "\t\t<td>107</td>\n",
       "\t\t<td>2</td>\n",
       "\t\t<td>0.75</td>\n",
       "\t\t<td>0.75</td>\n",
       "\t</tr>\n",
       "\t<tr>\n",
       "\t\t<td>1</td>\n",
       "\t\t<td>31</td>\n",
       "\t\t<td>1</td>\n",
       "\t\t<td>0.875</td>\n",
       "\t\t<td>0.875</td>\n",
       "\t</tr>\n",
       "\t<tr>\n",
       "\t\t<td>1</td>\n",
       "\t\t<td>77</td>\n",
       "\t\t<td>1</td>\n",
       "\t\t<td>0.875</td>\n",
       "\t\t<td>0.875</td>\n",
       "\t</tr>\n",
       "\t<tr>\n",
       "\t\t<td>1</td>\n",
       "\t\t<td>116</td>\n",
       "\t\t<td>1</td>\n",
       "\t\t<td>0.875</td>\n",
       "\t\t<td>0.875</td>\n",
       "\t</tr>\n",
       "</table></html>"
      ],
      "text/plain": [
       "   species   id  Prediction  Confidence_Lower  Confidence_upper\n",
       "0        1  126           1             0.750             0.750\n",
       "1        1  135           1             0.875             0.875\n",
       "2        1  106           1             0.875             0.875\n",
       "3        1  115           1             0.875             0.875\n",
       "4        2  103           2             0.875             0.875\n",
       "5        2   28           2             0.750             0.750\n",
       "6        2  107           2             0.750             0.750\n",
       "7        1   31           1             0.875             0.875\n",
       "8        1   77           1             0.875             0.875\n",
       "9        1  116           1             0.875             0.875"
      ]
     },
     "execution_count": 21,
     "metadata": {},
     "output_type": "execute_result"
    }
   ],
   "source": [
    "# Printing prediction\n",
    "prediction.head()"
   ]
  },
  {
   "cell_type": "markdown",
   "id": "ff38e5a7-70a4-4e80-9728-3b5e93b62344",
   "metadata": {},
   "source": [
    "### <b><span style='color:#F1A424'>| 5.2. </span> Generating prediction on external test data </b>"
   ]
  },
  {
   "cell_type": "code",
   "execution_count": 22,
   "id": "5b6edfe3-bd5a-46bd-ad80-b20fadfed7a0",
   "metadata": {},
   "outputs": [
    {
     "name": "stdout",
     "output_type": "stream",
     "text": [
      "Data Transformation started ...\n",
      "Performing transformation carried out in feature engineering phase ...\n",
      "\n",
      "Updated dataset after dropping irrelevent columns :\n"
     ]
    },
    {
     "data": {
      "text/html": [
       "<style type=\"text/css\">\n",
       "\ttable {border:ridge 5px;}\n",
       "\ttable td {border:inset 1px;}\n",
       "\ttable tr#HeaderRow {background-color:grey; color:white;}</style>\n",
       "<html><table>\n",
       "\t<tr id=\"HeaderRow\">\n",
       "\t\t<th>sepal_length</th>\n",
       "\t\t<th>sepal_width</th>\n",
       "\t\t<th>petal_length</th>\n",
       "\t\t<th>petal_width</th>\n",
       "\t\t<th>species</th>\n",
       "\t</tr>\n",
       "\t<tr>\n",
       "\t\t<td>5.0</td>\n",
       "\t\t<td>3.3</td>\n",
       "\t\t<td>1.4</td>\n",
       "\t\t<td>0.2</td>\n",
       "\t\t<td>1</td>\n",
       "\t</tr>\n",
       "\t<tr>\n",
       "\t\t<td>6.2</td>\n",
       "\t\t<td>2.8</td>\n",
       "\t\t<td>4.8</td>\n",
       "\t\t<td>1.8</td>\n",
       "\t\t<td>3</td>\n",
       "\t</tr>\n",
       "\t<tr>\n",
       "\t\t<td>5.0</td>\n",
       "\t\t<td>2.3</td>\n",
       "\t\t<td>3.3</td>\n",
       "\t\t<td>1.0</td>\n",
       "\t\t<td>2</td>\n",
       "\t</tr>\n",
       "\t<tr>\n",
       "\t\t<td>7.4</td>\n",
       "\t\t<td>2.8</td>\n",
       "\t\t<td>6.1</td>\n",
       "\t\t<td>1.9</td>\n",
       "\t\t<td>3</td>\n",
       "\t</tr>\n",
       "\t<tr>\n",
       "\t\t<td>5.5</td>\n",
       "\t\t<td>4.2</td>\n",
       "\t\t<td>1.4</td>\n",
       "\t\t<td>0.2</td>\n",
       "\t\t<td>1</td>\n",
       "\t</tr>\n",
       "\t<tr>\n",
       "\t\t<td>5.4</td>\n",
       "\t\t<td>3.7</td>\n",
       "\t\t<td>1.5</td>\n",
       "\t\t<td>0.2</td>\n",
       "\t\t<td>1</td>\n",
       "\t</tr>\n",
       "\t<tr>\n",
       "\t\t<td>6.7</td>\n",
       "\t\t<td>3.0</td>\n",
       "\t\t<td>5.0</td>\n",
       "\t\t<td>1.7</td>\n",
       "\t\t<td>2</td>\n",
       "\t</tr>\n",
       "\t<tr>\n",
       "\t\t<td>6.0</td>\n",
       "\t\t<td>3.0</td>\n",
       "\t\t<td>4.8</td>\n",
       "\t\t<td>1.8</td>\n",
       "\t\t<td>3</td>\n",
       "\t</tr>\n",
       "\t<tr>\n",
       "\t\t<td>4.9</td>\n",
       "\t\t<td>3.6</td>\n",
       "\t\t<td>1.4</td>\n",
       "\t\t<td>0.1</td>\n",
       "\t\t<td>1</td>\n",
       "\t</tr>\n",
       "\t<tr>\n",
       "\t\t<td>6.1</td>\n",
       "\t\t<td>2.6</td>\n",
       "\t\t<td>5.6</td>\n",
       "\t\t<td>1.4</td>\n",
       "\t\t<td>3</td>\n",
       "\t</tr>\n",
       "</table></html>"
      ],
      "text/plain": [
       "   sepal_length  sepal_width  petal_length  petal_width  species\n",
       "0           5.0          3.3           1.4          0.2        1\n",
       "1           6.2          2.8           4.8          1.8        3\n",
       "2           5.0          2.3           3.3          1.0        2\n",
       "3           7.4          2.8           6.1          1.9        3\n",
       "4           5.5          4.2           1.4          0.2        1\n",
       "5           5.4          3.7           1.5          0.2        1\n",
       "6           6.7          3.0           5.0          1.7        2\n",
       "7           6.0          3.0           4.8          1.8        3\n",
       "8           4.9          3.6           1.4          0.1        1\n",
       "9           6.1          2.6           5.6          1.4        3"
      ]
     },
     "metadata": {},
     "output_type": "display_data"
    },
    {
     "name": "stdout",
     "output_type": "stream",
     "text": [
      "\n",
      "Updated dataset after performing target column transformation :\n"
     ]
    },
    {
     "data": {
      "text/html": [
       "<style type=\"text/css\">\n",
       "\ttable {border:ridge 5px;}\n",
       "\ttable td {border:inset 1px;}\n",
       "\ttable tr#HeaderRow {background-color:grey; color:white;}</style>\n",
       "<html><table>\n",
       "\t<tr id=\"HeaderRow\">\n",
       "\t\t<th>id</th>\n",
       "\t\t<th>petal_length</th>\n",
       "\t\t<th>sepal_length</th>\n",
       "\t\t<th>sepal_width</th>\n",
       "\t\t<th>petal_width</th>\n",
       "\t\t<th>species</th>\n",
       "\t</tr>\n",
       "\t<tr>\n",
       "\t\t<td>10</td>\n",
       "\t\t<td>4.8</td>\n",
       "\t\t<td>6.2</td>\n",
       "\t\t<td>2.8</td>\n",
       "\t\t<td>1.8</td>\n",
       "\t\t<td>3</td>\n",
       "\t</tr>\n",
       "\t<tr>\n",
       "\t\t<td>15</td>\n",
       "\t\t<td>5.0</td>\n",
       "\t\t<td>6.7</td>\n",
       "\t\t<td>3.0</td>\n",
       "\t\t<td>1.7</td>\n",
       "\t\t<td>2</td>\n",
       "\t</tr>\n",
       "\t<tr>\n",
       "\t\t<td>23</td>\n",
       "\t\t<td>4.8</td>\n",
       "\t\t<td>6.0</td>\n",
       "\t\t<td>3.0</td>\n",
       "\t\t<td>1.8</td>\n",
       "\t\t<td>3</td>\n",
       "\t</tr>\n",
       "\t<tr>\n",
       "\t\t<td>9</td>\n",
       "\t\t<td>1.4</td>\n",
       "\t\t<td>5.5</td>\n",
       "\t\t<td>4.2</td>\n",
       "\t\t<td>0.2</td>\n",
       "\t\t<td>1</td>\n",
       "\t</tr>\n",
       "\t<tr>\n",
       "\t\t<td>8</td>\n",
       "\t\t<td>6.1</td>\n",
       "\t\t<td>7.4</td>\n",
       "\t\t<td>2.8</td>\n",
       "\t\t<td>1.9</td>\n",
       "\t\t<td>3</td>\n",
       "\t</tr>\n",
       "\t<tr>\n",
       "\t\t<td>16</td>\n",
       "\t\t<td>1.4</td>\n",
       "\t\t<td>5.0</td>\n",
       "\t\t<td>3.6</td>\n",
       "\t\t<td>0.2</td>\n",
       "\t\t<td>1</td>\n",
       "\t</tr>\n",
       "\t<tr>\n",
       "\t\t<td>12</td>\n",
       "\t\t<td>1.4</td>\n",
       "\t\t<td>4.9</td>\n",
       "\t\t<td>3.6</td>\n",
       "\t\t<td>0.1</td>\n",
       "\t\t<td>1</td>\n",
       "\t</tr>\n",
       "\t<tr>\n",
       "\t\t<td>20</td>\n",
       "\t\t<td>5.6</td>\n",
       "\t\t<td>6.1</td>\n",
       "\t\t<td>2.6</td>\n",
       "\t\t<td>1.4</td>\n",
       "\t\t<td>3</td>\n",
       "\t</tr>\n",
       "\t<tr>\n",
       "\t\t<td>11</td>\n",
       "\t\t<td>1.7</td>\n",
       "\t\t<td>5.7</td>\n",
       "\t\t<td>3.8</td>\n",
       "\t\t<td>0.3</td>\n",
       "\t\t<td>1</td>\n",
       "\t</tr>\n",
       "\t<tr>\n",
       "\t\t<td>19</td>\n",
       "\t\t<td>1.9</td>\n",
       "\t\t<td>5.1</td>\n",
       "\t\t<td>3.8</td>\n",
       "\t\t<td>0.4</td>\n",
       "\t\t<td>1</td>\n",
       "\t</tr>\n",
       "</table></html>"
      ],
      "text/plain": [
       "   id  petal_length  sepal_length  sepal_width  petal_width  species\n",
       "0  10           4.8           6.2          2.8          1.8        3\n",
       "1  15           5.0           6.7          3.0          1.7        2\n",
       "2  23           4.8           6.0          3.0          1.8        3\n",
       "3   9           1.4           5.5          4.2          0.2        1\n",
       "4   8           6.1           7.4          2.8          1.9        3\n",
       "5  16           1.4           5.0          3.6          0.2        1\n",
       "6  12           1.4           4.9          3.6          0.1        1\n",
       "7  20           5.6           6.1          2.6          1.4        3\n",
       "8  11           1.7           5.7          3.8          0.3        1\n",
       "9  19           1.9           5.1          3.8          0.4        1"
      ]
     },
     "metadata": {},
     "output_type": "display_data"
    },
    {
     "name": "stdout",
     "output_type": "stream",
     "text": [
      "Performing transformation carried out in data preparation phase ...\n",
      "result data stored in table '\"AUTOML_USR\".\"ml__td_sqlmr_persist_out__1711274149564094\"'\n",
      "\n",
      "Updated dataset after performing Lasso feature selection:\n"
     ]
    },
    {
     "data": {
      "text/html": [
       "<style type=\"text/css\">\n",
       "\ttable {border:ridge 5px;}\n",
       "\ttable td {border:inset 1px;}\n",
       "\ttable tr#HeaderRow {background-color:grey; color:white;}</style>\n",
       "<html><table>\n",
       "\t<tr id=\"HeaderRow\">\n",
       "\t\t<th>id</th>\n",
       "\t\t<th>petal_length</th>\n",
       "\t\t<th>sepal_length</th>\n",
       "\t\t<th>sepal_width</th>\n",
       "\t\t<th>petal_width</th>\n",
       "\t\t<th>species</th>\n",
       "\t</tr>\n",
       "\t<tr>\n",
       "\t\t<td>28</td>\n",
       "\t\t<td>1.6</td>\n",
       "\t\t<td>4.8</td>\n",
       "\t\t<td>3.4</td>\n",
       "\t\t<td>0.2</td>\n",
       "\t\t<td>1</td>\n",
       "\t</tr>\n",
       "\t<tr>\n",
       "\t\t<td>13</td>\n",
       "\t\t<td>1.4</td>\n",
       "\t\t<td>5.0</td>\n",
       "\t\t<td>3.3</td>\n",
       "\t\t<td>0.2</td>\n",
       "\t\t<td>1</td>\n",
       "\t</tr>\n",
       "\t<tr>\n",
       "\t\t<td>11</td>\n",
       "\t\t<td>1.7</td>\n",
       "\t\t<td>5.7</td>\n",
       "\t\t<td>3.8</td>\n",
       "\t\t<td>0.3</td>\n",
       "\t\t<td>1</td>\n",
       "\t</tr>\n",
       "\t<tr>\n",
       "\t\t<td>16</td>\n",
       "\t\t<td>1.4</td>\n",
       "\t\t<td>5.0</td>\n",
       "\t\t<td>3.6</td>\n",
       "\t\t<td>0.2</td>\n",
       "\t\t<td>1</td>\n",
       "\t</tr>\n",
       "\t<tr>\n",
       "\t\t<td>9</td>\n",
       "\t\t<td>1.4</td>\n",
       "\t\t<td>5.5</td>\n",
       "\t\t<td>4.2</td>\n",
       "\t\t<td>0.2</td>\n",
       "\t\t<td>1</td>\n",
       "\t</tr>\n",
       "\t<tr>\n",
       "\t\t<td>17</td>\n",
       "\t\t<td>1.5</td>\n",
       "\t\t<td>5.4</td>\n",
       "\t\t<td>3.7</td>\n",
       "\t\t<td>0.2</td>\n",
       "\t\t<td>1</td>\n",
       "\t</tr>\n",
       "\t<tr>\n",
       "\t\t<td>8</td>\n",
       "\t\t<td>6.1</td>\n",
       "\t\t<td>7.4</td>\n",
       "\t\t<td>2.8</td>\n",
       "\t\t<td>1.9</td>\n",
       "\t\t<td>3</td>\n",
       "\t</tr>\n",
       "\t<tr>\n",
       "\t\t<td>14</td>\n",
       "\t\t<td>5.6</td>\n",
       "\t\t<td>6.7</td>\n",
       "\t\t<td>3.1</td>\n",
       "\t\t<td>2.4</td>\n",
       "\t\t<td>3</td>\n",
       "\t</tr>\n",
       "\t<tr>\n",
       "\t\t<td>22</td>\n",
       "\t\t<td>6.9</td>\n",
       "\t\t<td>7.7</td>\n",
       "\t\t<td>2.6</td>\n",
       "\t\t<td>2.3</td>\n",
       "\t\t<td>3</td>\n",
       "\t</tr>\n",
       "\t<tr>\n",
       "\t\t<td>30</td>\n",
       "\t\t<td>5.1</td>\n",
       "\t\t<td>6.3</td>\n",
       "\t\t<td>2.8</td>\n",
       "\t\t<td>1.5</td>\n",
       "\t\t<td>3</td>\n",
       "\t</tr>\n",
       "</table></html>"
      ],
      "text/plain": [
       "         id  petal_length  sepal_length  sepal_width  petal_width\n",
       "species                                                          \n",
       "1        28           1.6           4.8          3.4          0.2\n",
       "1        13           1.4           5.0          3.3          0.2\n",
       "1        11           1.7           5.7          3.8          0.3\n",
       "1        16           1.4           5.0          3.6          0.2\n",
       "1         9           1.4           5.5          4.2          0.2\n",
       "1        17           1.5           5.4          3.7          0.2\n",
       "3         8           6.1           7.4          2.8          1.9\n",
       "3        14           5.6           6.7          3.1          2.4\n",
       "3        22           6.9           7.7          2.6          2.3\n",
       "3        30           5.1           6.3          2.8          1.5"
      ]
     },
     "metadata": {},
     "output_type": "display_data"
    },
    {
     "name": "stdout",
     "output_type": "stream",
     "text": [
      "\n",
      "Updated dataset after performing scaling on Lasso selected features :\n"
     ]
    },
    {
     "data": {
      "text/html": [
       "<style type=\"text/css\">\n",
       "\ttable {border:ridge 5px;}\n",
       "\ttable td {border:inset 1px;}\n",
       "\ttable tr#HeaderRow {background-color:grey; color:white;}</style>\n",
       "<html><table>\n",
       "\t<tr id=\"HeaderRow\">\n",
       "\t\t<th>species</th>\n",
       "\t\t<th>id</th>\n",
       "\t\t<th>petal_length</th>\n",
       "\t\t<th>sepal_length</th>\n",
       "\t\t<th>sepal_width</th>\n",
       "\t\t<th>petal_width</th>\n",
       "\t</tr>\n",
       "\t<tr>\n",
       "\t\t<td>1</td>\n",
       "\t\t<td>28</td>\n",
       "\t\t<td>0.08928571428571429</td>\n",
       "\t\t<td>0.14705882352941174</td>\n",
       "\t\t<td>0.6666666666666666</td>\n",
       "\t\t<td>0.04166666666666667</td>\n",
       "\t</tr>\n",
       "\t<tr>\n",
       "\t\t<td>1</td>\n",
       "\t\t<td>13</td>\n",
       "\t\t<td>0.05357142857142854</td>\n",
       "\t\t<td>0.2058823529411765</td>\n",
       "\t\t<td>0.6111111111111109</td>\n",
       "\t\t<td>0.04166666666666667</td>\n",
       "\t</tr>\n",
       "\t<tr>\n",
       "\t\t<td>1</td>\n",
       "\t\t<td>11</td>\n",
       "\t\t<td>0.10714285714285712</td>\n",
       "\t\t<td>0.411764705882353</td>\n",
       "\t\t<td>0.8888888888888887</td>\n",
       "\t\t<td>0.08333333333333333</td>\n",
       "\t</tr>\n",
       "\t<tr>\n",
       "\t\t<td>1</td>\n",
       "\t\t<td>16</td>\n",
       "\t\t<td>0.05357142857142854</td>\n",
       "\t\t<td>0.2058823529411765</td>\n",
       "\t\t<td>0.7777777777777778</td>\n",
       "\t\t<td>0.04166666666666667</td>\n",
       "\t</tr>\n",
       "\t<tr>\n",
       "\t\t<td>1</td>\n",
       "\t\t<td>9</td>\n",
       "\t\t<td>0.05357142857142854</td>\n",
       "\t\t<td>0.35294117647058826</td>\n",
       "\t\t<td>1.1111111111111112</td>\n",
       "\t\t<td>0.04166666666666667</td>\n",
       "\t</tr>\n",
       "\t<tr>\n",
       "\t\t<td>1</td>\n",
       "\t\t<td>17</td>\n",
       "\t\t<td>0.07142857142857141</td>\n",
       "\t\t<td>0.323529411764706</td>\n",
       "\t\t<td>0.8333333333333334</td>\n",
       "\t\t<td>0.04166666666666667</td>\n",
       "\t</tr>\n",
       "\t<tr>\n",
       "\t\t<td>3</td>\n",
       "\t\t<td>8</td>\n",
       "\t\t<td>0.8928571428571429</td>\n",
       "\t\t<td>0.911764705882353</td>\n",
       "\t\t<td>0.33333333333333315</td>\n",
       "\t\t<td>0.75</td>\n",
       "\t</tr>\n",
       "\t<tr>\n",
       "\t\t<td>3</td>\n",
       "\t\t<td>14</td>\n",
       "\t\t<td>0.8035714285714286</td>\n",
       "\t\t<td>0.7058823529411765</td>\n",
       "\t\t<td>0.5</td>\n",
       "\t\t<td>0.9583333333333333</td>\n",
       "\t</tr>\n",
       "\t<tr>\n",
       "\t\t<td>3</td>\n",
       "\t\t<td>22</td>\n",
       "\t\t<td>1.0357142857142858</td>\n",
       "\t\t<td>1.0</td>\n",
       "\t\t<td>0.22222222222222218</td>\n",
       "\t\t<td>0.9166666666666666</td>\n",
       "\t</tr>\n",
       "\t<tr>\n",
       "\t\t<td>3</td>\n",
       "\t\t<td>30</td>\n",
       "\t\t<td>0.7142857142857143</td>\n",
       "\t\t<td>0.588235294117647</td>\n",
       "\t\t<td>0.33333333333333315</td>\n",
       "\t\t<td>0.5833333333333334</td>\n",
       "\t</tr>\n",
       "</table></html>"
      ],
      "text/plain": [
       "   species  id  petal_length  sepal_length  sepal_width  petal_width\n",
       "0        1  28      0.089286      0.147059     0.666667     0.041667\n",
       "1        1  13      0.053571      0.205882     0.611111     0.041667\n",
       "2        1  11      0.107143      0.411765     0.888889     0.083333\n",
       "3        1  16      0.053571      0.205882     0.777778     0.041667\n",
       "4        1   9      0.053571      0.352941     1.111111     0.041667\n",
       "5        1  17      0.071429      0.323529     0.833333     0.041667\n",
       "6        3   8      0.892857      0.911765     0.333333     0.750000\n",
       "7        3  14      0.803571      0.705882     0.500000     0.958333\n",
       "8        3  22      1.035714      1.000000     0.222222     0.916667\n",
       "9        3  30      0.714286      0.588235     0.333333     0.583333"
      ]
     },
     "metadata": {},
     "output_type": "display_data"
    },
    {
     "name": "stdout",
     "output_type": "stream",
     "text": [
      "\n",
      "Updated dataset after performing RFE feature selection:\n"
     ]
    },
    {
     "data": {
      "text/html": [
       "<style type=\"text/css\">\n",
       "\ttable {border:ridge 5px;}\n",
       "\ttable td {border:inset 1px;}\n",
       "\ttable tr#HeaderRow {background-color:grey; color:white;}</style>\n",
       "<html><table>\n",
       "\t<tr id=\"HeaderRow\">\n",
       "\t\t<th>id</th>\n",
       "\t\t<th>sepal_length</th>\n",
       "\t\t<th>sepal_width</th>\n",
       "\t\t<th>petal_length</th>\n",
       "\t\t<th>petal_width</th>\n",
       "\t\t<th>species</th>\n",
       "\t</tr>\n",
       "\t<tr>\n",
       "\t\t<td>28</td>\n",
       "\t\t<td>4.8</td>\n",
       "\t\t<td>3.4</td>\n",
       "\t\t<td>1.6</td>\n",
       "\t\t<td>0.2</td>\n",
       "\t\t<td>1</td>\n",
       "\t</tr>\n",
       "\t<tr>\n",
       "\t\t<td>13</td>\n",
       "\t\t<td>5.0</td>\n",
       "\t\t<td>3.3</td>\n",
       "\t\t<td>1.4</td>\n",
       "\t\t<td>0.2</td>\n",
       "\t\t<td>1</td>\n",
       "\t</tr>\n",
       "\t<tr>\n",
       "\t\t<td>11</td>\n",
       "\t\t<td>5.7</td>\n",
       "\t\t<td>3.8</td>\n",
       "\t\t<td>1.7</td>\n",
       "\t\t<td>0.3</td>\n",
       "\t\t<td>1</td>\n",
       "\t</tr>\n",
       "\t<tr>\n",
       "\t\t<td>16</td>\n",
       "\t\t<td>5.0</td>\n",
       "\t\t<td>3.6</td>\n",
       "\t\t<td>1.4</td>\n",
       "\t\t<td>0.2</td>\n",
       "\t\t<td>1</td>\n",
       "\t</tr>\n",
       "\t<tr>\n",
       "\t\t<td>9</td>\n",
       "\t\t<td>5.5</td>\n",
       "\t\t<td>4.2</td>\n",
       "\t\t<td>1.4</td>\n",
       "\t\t<td>0.2</td>\n",
       "\t\t<td>1</td>\n",
       "\t</tr>\n",
       "\t<tr>\n",
       "\t\t<td>17</td>\n",
       "\t\t<td>5.4</td>\n",
       "\t\t<td>3.7</td>\n",
       "\t\t<td>1.5</td>\n",
       "\t\t<td>0.2</td>\n",
       "\t\t<td>1</td>\n",
       "\t</tr>\n",
       "\t<tr>\n",
       "\t\t<td>8</td>\n",
       "\t\t<td>7.4</td>\n",
       "\t\t<td>2.8</td>\n",
       "\t\t<td>6.1</td>\n",
       "\t\t<td>1.9</td>\n",
       "\t\t<td>3</td>\n",
       "\t</tr>\n",
       "\t<tr>\n",
       "\t\t<td>14</td>\n",
       "\t\t<td>6.7</td>\n",
       "\t\t<td>3.1</td>\n",
       "\t\t<td>5.6</td>\n",
       "\t\t<td>2.4</td>\n",
       "\t\t<td>3</td>\n",
       "\t</tr>\n",
       "\t<tr>\n",
       "\t\t<td>22</td>\n",
       "\t\t<td>7.7</td>\n",
       "\t\t<td>2.6</td>\n",
       "\t\t<td>6.9</td>\n",
       "\t\t<td>2.3</td>\n",
       "\t\t<td>3</td>\n",
       "\t</tr>\n",
       "\t<tr>\n",
       "\t\t<td>30</td>\n",
       "\t\t<td>6.3</td>\n",
       "\t\t<td>2.8</td>\n",
       "\t\t<td>5.1</td>\n",
       "\t\t<td>1.5</td>\n",
       "\t\t<td>3</td>\n",
       "\t</tr>\n",
       "</table></html>"
      ],
      "text/plain": [
       "         id  sepal_length  sepal_width  petal_length  petal_width\n",
       "species                                                          \n",
       "1        28           4.8          3.4           1.6          0.2\n",
       "1        13           5.0          3.3           1.4          0.2\n",
       "1        11           5.7          3.8           1.7          0.3\n",
       "1        16           5.0          3.6           1.4          0.2\n",
       "1         9           5.5          4.2           1.4          0.2\n",
       "1        17           5.4          3.7           1.5          0.2\n",
       "3         8           7.4          2.8           6.1          1.9\n",
       "3        14           6.7          3.1           5.6          2.4\n",
       "3        22           7.7          2.6           6.9          2.3\n",
       "3        30           6.3          2.8           5.1          1.5"
      ]
     },
     "metadata": {},
     "output_type": "display_data"
    },
    {
     "name": "stdout",
     "output_type": "stream",
     "text": [
      "\n",
      "Updated dataset after performing scaling on RFE selected features :\n"
     ]
    },
    {
     "data": {
      "text/html": [
       "<style type=\"text/css\">\n",
       "\ttable {border:ridge 5px;}\n",
       "\ttable td {border:inset 1px;}\n",
       "\ttable tr#HeaderRow {background-color:grey; color:white;}</style>\n",
       "<html><table>\n",
       "\t<tr id=\"HeaderRow\">\n",
       "\t\t<th>species</th>\n",
       "\t\t<th>id</th>\n",
       "\t\t<th>r_sepal_length</th>\n",
       "\t\t<th>r_sepal_width</th>\n",
       "\t\t<th>r_petal_length</th>\n",
       "\t\t<th>r_petal_width</th>\n",
       "\t</tr>\n",
       "\t<tr>\n",
       "\t\t<td>1</td>\n",
       "\t\t<td>28</td>\n",
       "\t\t<td>0.14705882352941174</td>\n",
       "\t\t<td>0.6666666666666666</td>\n",
       "\t\t<td>0.08928571428571429</td>\n",
       "\t\t<td>0.04166666666666667</td>\n",
       "\t</tr>\n",
       "\t<tr>\n",
       "\t\t<td>1</td>\n",
       "\t\t<td>13</td>\n",
       "\t\t<td>0.2058823529411765</td>\n",
       "\t\t<td>0.6111111111111109</td>\n",
       "\t\t<td>0.05357142857142854</td>\n",
       "\t\t<td>0.04166666666666667</td>\n",
       "\t</tr>\n",
       "\t<tr>\n",
       "\t\t<td>1</td>\n",
       "\t\t<td>11</td>\n",
       "\t\t<td>0.411764705882353</td>\n",
       "\t\t<td>0.8888888888888887</td>\n",
       "\t\t<td>0.10714285714285712</td>\n",
       "\t\t<td>0.08333333333333333</td>\n",
       "\t</tr>\n",
       "\t<tr>\n",
       "\t\t<td>1</td>\n",
       "\t\t<td>16</td>\n",
       "\t\t<td>0.2058823529411765</td>\n",
       "\t\t<td>0.7777777777777778</td>\n",
       "\t\t<td>0.05357142857142854</td>\n",
       "\t\t<td>0.04166666666666667</td>\n",
       "\t</tr>\n",
       "\t<tr>\n",
       "\t\t<td>1</td>\n",
       "\t\t<td>9</td>\n",
       "\t\t<td>0.35294117647058826</td>\n",
       "\t\t<td>1.1111111111111112</td>\n",
       "\t\t<td>0.05357142857142854</td>\n",
       "\t\t<td>0.04166666666666667</td>\n",
       "\t</tr>\n",
       "\t<tr>\n",
       "\t\t<td>1</td>\n",
       "\t\t<td>17</td>\n",
       "\t\t<td>0.323529411764706</td>\n",
       "\t\t<td>0.8333333333333334</td>\n",
       "\t\t<td>0.07142857142857141</td>\n",
       "\t\t<td>0.04166666666666667</td>\n",
       "\t</tr>\n",
       "\t<tr>\n",
       "\t\t<td>3</td>\n",
       "\t\t<td>8</td>\n",
       "\t\t<td>0.911764705882353</td>\n",
       "\t\t<td>0.33333333333333315</td>\n",
       "\t\t<td>0.8928571428571429</td>\n",
       "\t\t<td>0.75</td>\n",
       "\t</tr>\n",
       "\t<tr>\n",
       "\t\t<td>3</td>\n",
       "\t\t<td>14</td>\n",
       "\t\t<td>0.7058823529411765</td>\n",
       "\t\t<td>0.5</td>\n",
       "\t\t<td>0.8035714285714286</td>\n",
       "\t\t<td>0.9583333333333333</td>\n",
       "\t</tr>\n",
       "\t<tr>\n",
       "\t\t<td>3</td>\n",
       "\t\t<td>22</td>\n",
       "\t\t<td>1.0</td>\n",
       "\t\t<td>0.22222222222222218</td>\n",
       "\t\t<td>1.0357142857142858</td>\n",
       "\t\t<td>0.9166666666666666</td>\n",
       "\t</tr>\n",
       "\t<tr>\n",
       "\t\t<td>3</td>\n",
       "\t\t<td>30</td>\n",
       "\t\t<td>0.588235294117647</td>\n",
       "\t\t<td>0.33333333333333315</td>\n",
       "\t\t<td>0.7142857142857143</td>\n",
       "\t\t<td>0.5833333333333334</td>\n",
       "\t</tr>\n",
       "</table></html>"
      ],
      "text/plain": [
       "   species  id  r_sepal_length  r_sepal_width  r_petal_length  r_petal_width\n",
       "0        1  28        0.147059       0.666667        0.089286       0.041667\n",
       "1        1  13        0.205882       0.611111        0.053571       0.041667\n",
       "2        1  11        0.411765       0.888889        0.107143       0.083333\n",
       "3        1  16        0.205882       0.777778        0.053571       0.041667\n",
       "4        1   9        0.352941       1.111111        0.053571       0.041667\n",
       "5        1  17        0.323529       0.833333        0.071429       0.041667\n",
       "6        3   8        0.911765       0.333333        0.892857       0.750000\n",
       "7        3  14        0.705882       0.500000        0.803571       0.958333\n",
       "8        3  22        1.000000       0.222222        1.035714       0.916667\n",
       "9        3  30        0.588235       0.333333        0.714286       0.583333"
      ]
     },
     "metadata": {},
     "output_type": "display_data"
    },
    {
     "name": "stdout",
     "output_type": "stream",
     "text": [
      "\n",
      "Updated dataset after performing scaling for PCA feature selection :\n"
     ]
    },
    {
     "data": {
      "text/html": [
       "<style type=\"text/css\">\n",
       "\ttable {border:ridge 5px;}\n",
       "\ttable td {border:inset 1px;}\n",
       "\ttable tr#HeaderRow {background-color:grey; color:white;}</style>\n",
       "<html><table>\n",
       "\t<tr id=\"HeaderRow\">\n",
       "\t\t<th>species</th>\n",
       "\t\t<th>id</th>\n",
       "\t\t<th>sepal_length</th>\n",
       "\t\t<th>sepal_width</th>\n",
       "\t\t<th>petal_length</th>\n",
       "\t\t<th>petal_width</th>\n",
       "\t</tr>\n",
       "\t<tr>\n",
       "\t\t<td>1</td>\n",
       "\t\t<td>28</td>\n",
       "\t\t<td>0.14705882352941174</td>\n",
       "\t\t<td>0.6666666666666666</td>\n",
       "\t\t<td>0.08928571428571429</td>\n",
       "\t\t<td>0.04166666666666667</td>\n",
       "\t</tr>\n",
       "\t<tr>\n",
       "\t\t<td>1</td>\n",
       "\t\t<td>13</td>\n",
       "\t\t<td>0.2058823529411765</td>\n",
       "\t\t<td>0.6111111111111109</td>\n",
       "\t\t<td>0.05357142857142854</td>\n",
       "\t\t<td>0.04166666666666667</td>\n",
       "\t</tr>\n",
       "\t<tr>\n",
       "\t\t<td>1</td>\n",
       "\t\t<td>11</td>\n",
       "\t\t<td>0.411764705882353</td>\n",
       "\t\t<td>0.8888888888888887</td>\n",
       "\t\t<td>0.10714285714285712</td>\n",
       "\t\t<td>0.08333333333333333</td>\n",
       "\t</tr>\n",
       "\t<tr>\n",
       "\t\t<td>1</td>\n",
       "\t\t<td>16</td>\n",
       "\t\t<td>0.2058823529411765</td>\n",
       "\t\t<td>0.7777777777777778</td>\n",
       "\t\t<td>0.05357142857142854</td>\n",
       "\t\t<td>0.04166666666666667</td>\n",
       "\t</tr>\n",
       "\t<tr>\n",
       "\t\t<td>1</td>\n",
       "\t\t<td>9</td>\n",
       "\t\t<td>0.35294117647058826</td>\n",
       "\t\t<td>1.1111111111111112</td>\n",
       "\t\t<td>0.05357142857142854</td>\n",
       "\t\t<td>0.04166666666666667</td>\n",
       "\t</tr>\n",
       "\t<tr>\n",
       "\t\t<td>1</td>\n",
       "\t\t<td>17</td>\n",
       "\t\t<td>0.323529411764706</td>\n",
       "\t\t<td>0.8333333333333334</td>\n",
       "\t\t<td>0.07142857142857141</td>\n",
       "\t\t<td>0.04166666666666667</td>\n",
       "\t</tr>\n",
       "\t<tr>\n",
       "\t\t<td>3</td>\n",
       "\t\t<td>8</td>\n",
       "\t\t<td>0.911764705882353</td>\n",
       "\t\t<td>0.33333333333333315</td>\n",
       "\t\t<td>0.8928571428571429</td>\n",
       "\t\t<td>0.75</td>\n",
       "\t</tr>\n",
       "\t<tr>\n",
       "\t\t<td>3</td>\n",
       "\t\t<td>14</td>\n",
       "\t\t<td>0.7058823529411765</td>\n",
       "\t\t<td>0.5</td>\n",
       "\t\t<td>0.8035714285714286</td>\n",
       "\t\t<td>0.9583333333333333</td>\n",
       "\t</tr>\n",
       "\t<tr>\n",
       "\t\t<td>3</td>\n",
       "\t\t<td>22</td>\n",
       "\t\t<td>1.0</td>\n",
       "\t\t<td>0.22222222222222218</td>\n",
       "\t\t<td>1.0357142857142858</td>\n",
       "\t\t<td>0.9166666666666666</td>\n",
       "\t</tr>\n",
       "\t<tr>\n",
       "\t\t<td>3</td>\n",
       "\t\t<td>30</td>\n",
       "\t\t<td>0.588235294117647</td>\n",
       "\t\t<td>0.33333333333333315</td>\n",
       "\t\t<td>0.7142857142857143</td>\n",
       "\t\t<td>0.5833333333333334</td>\n",
       "\t</tr>\n",
       "</table></html>"
      ],
      "text/plain": [
       "   species  id  sepal_length  sepal_width  petal_length  petal_width\n",
       "0        1  28      0.147059     0.666667      0.089286     0.041667\n",
       "1        1  13      0.205882     0.611111      0.053571     0.041667\n",
       "2        1  11      0.411765     0.888889      0.107143     0.083333\n",
       "3        1  16      0.205882     0.777778      0.053571     0.041667\n",
       "4        1   9      0.352941     1.111111      0.053571     0.041667\n",
       "5        1  17      0.323529     0.833333      0.071429     0.041667\n",
       "6        3   8      0.911765     0.333333      0.892857     0.750000\n",
       "7        3  14      0.705882     0.500000      0.803571     0.958333\n",
       "8        3  22      1.000000     0.222222      1.035714     0.916667\n",
       "9        3  30      0.588235     0.333333      0.714286     0.583333"
      ]
     },
     "metadata": {},
     "output_type": "display_data"
    },
    {
     "name": "stdout",
     "output_type": "stream",
     "text": [
      "\n",
      "Updated dataset after performing PCA feature selection :\n"
     ]
    },
    {
     "data": {
      "text/html": [
       "<div>\n",
       "<style scoped>\n",
       "    .dataframe tbody tr th:only-of-type {\n",
       "        vertical-align: middle;\n",
       "    }\n",
       "\n",
       "    .dataframe tbody tr th {\n",
       "        vertical-align: top;\n",
       "    }\n",
       "\n",
       "    .dataframe thead th {\n",
       "        text-align: right;\n",
       "    }\n",
       "</style>\n",
       "<table border=\"1\" class=\"dataframe\">\n",
       "  <thead>\n",
       "    <tr style=\"text-align: right;\">\n",
       "      <th></th>\n",
       "      <th>id</th>\n",
       "      <th>col_0</th>\n",
       "      <th>col_1</th>\n",
       "      <th>species</th>\n",
       "    </tr>\n",
       "  </thead>\n",
       "  <tbody>\n",
       "    <tr>\n",
       "      <th>0</th>\n",
       "      <td>38</td>\n",
       "      <td>-0.651458</td>\n",
       "      <td>-0.078244</td>\n",
       "      <td>1</td>\n",
       "    </tr>\n",
       "    <tr>\n",
       "      <th>1</th>\n",
       "      <td>8</td>\n",
       "      <td>0.657326</td>\n",
       "      <td>0.033435</td>\n",
       "      <td>3</td>\n",
       "    </tr>\n",
       "    <tr>\n",
       "      <th>2</th>\n",
       "      <td>21</td>\n",
       "      <td>-0.584361</td>\n",
       "      <td>0.401139</td>\n",
       "      <td>1</td>\n",
       "    </tr>\n",
       "    <tr>\n",
       "      <th>3</th>\n",
       "      <td>14</td>\n",
       "      <td>0.611075</td>\n",
       "      <td>0.123469</td>\n",
       "      <td>3</td>\n",
       "    </tr>\n",
       "    <tr>\n",
       "      <th>4</th>\n",
       "      <td>28</td>\n",
       "      <td>-0.679134</td>\n",
       "      <td>0.077020</td>\n",
       "      <td>1</td>\n",
       "    </tr>\n",
       "    <tr>\n",
       "      <th>5</th>\n",
       "      <td>22</td>\n",
       "      <td>0.907559</td>\n",
       "      <td>-0.038685</td>\n",
       "      <td>3</td>\n",
       "    </tr>\n",
       "    <tr>\n",
       "      <th>6</th>\n",
       "      <td>26</td>\n",
       "      <td>-0.688737</td>\n",
       "      <td>-0.098822</td>\n",
       "      <td>1</td>\n",
       "    </tr>\n",
       "    <tr>\n",
       "      <th>7</th>\n",
       "      <td>30</td>\n",
       "      <td>0.298854</td>\n",
       "      <td>-0.081544</td>\n",
       "      <td>3</td>\n",
       "    </tr>\n",
       "    <tr>\n",
       "      <th>8</th>\n",
       "      <td>13</td>\n",
       "      <td>-0.666269</td>\n",
       "      <td>0.047759</td>\n",
       "      <td>1</td>\n",
       "    </tr>\n",
       "    <tr>\n",
       "      <th>9</th>\n",
       "      <td>36</td>\n",
       "      <td>0.416740</td>\n",
       "      <td>0.152528</td>\n",
       "      <td>3</td>\n",
       "    </tr>\n",
       "    <tr>\n",
       "      <th>10</th>\n",
       "      <td>11</td>\n",
       "      <td>-0.561781</td>\n",
       "      <td>0.380043</td>\n",
       "      <td>1</td>\n",
       "    </tr>\n",
       "    <tr>\n",
       "      <th>11</th>\n",
       "      <td>23</td>\n",
       "      <td>0.284898</td>\n",
       "      <td>-0.004443</td>\n",
       "      <td>3</td>\n",
       "    </tr>\n",
       "    <tr>\n",
       "      <th>12</th>\n",
       "      <td>16</td>\n",
       "      <td>-0.693945</td>\n",
       "      <td>0.203022</td>\n",
       "      <td>1</td>\n",
       "    </tr>\n",
       "    <tr>\n",
       "      <th>13</th>\n",
       "      <td>39</td>\n",
       "      <td>0.549703</td>\n",
       "      <td>0.073100</td>\n",
       "      <td>3</td>\n",
       "    </tr>\n",
       "    <tr>\n",
       "      <th>14</th>\n",
       "      <td>12</td>\n",
       "      <td>-0.732722</td>\n",
       "      <td>0.191247</td>\n",
       "      <td>1</td>\n",
       "    </tr>\n",
       "    <tr>\n",
       "      <th>15</th>\n",
       "      <td>20</td>\n",
       "      <td>0.321561</td>\n",
       "      <td>-0.210628</td>\n",
       "      <td>3</td>\n",
       "    </tr>\n",
       "    <tr>\n",
       "      <th>16</th>\n",
       "      <td>9</td>\n",
       "      <td>-0.684132</td>\n",
       "      <td>0.566591</td>\n",
       "      <td>1</td>\n",
       "    </tr>\n",
       "    <tr>\n",
       "      <th>17</th>\n",
       "      <td>32</td>\n",
       "      <td>0.544887</td>\n",
       "      <td>0.079459</td>\n",
       "      <td>3</td>\n",
       "    </tr>\n",
       "    <tr>\n",
       "      <th>18</th>\n",
       "      <td>17</td>\n",
       "      <td>-0.639826</td>\n",
       "      <td>0.296572</td>\n",
       "      <td>1</td>\n",
       "    </tr>\n",
       "    <tr>\n",
       "      <th>19</th>\n",
       "      <td>10</td>\n",
       "      <td>0.329414</td>\n",
       "      <td>-0.086735</td>\n",
       "      <td>3</td>\n",
       "    </tr>\n",
       "    <tr>\n",
       "      <th>20</th>\n",
       "      <td>19</td>\n",
       "      <td>-0.591807</td>\n",
       "      <td>0.316283</td>\n",
       "      <td>1</td>\n",
       "    </tr>\n",
       "    <tr>\n",
       "      <th>21</th>\n",
       "      <td>27</td>\n",
       "      <td>0.345892</td>\n",
       "      <td>-0.181670</td>\n",
       "      <td>3</td>\n",
       "    </tr>\n",
       "    <tr>\n",
       "      <th>22</th>\n",
       "      <td>18</td>\n",
       "      <td>-0.155009</td>\n",
       "      <td>-0.472574</td>\n",
       "      <td>2</td>\n",
       "    </tr>\n",
       "    <tr>\n",
       "      <th>23</th>\n",
       "      <td>35</td>\n",
       "      <td>0.162868</td>\n",
       "      <td>0.202155</td>\n",
       "      <td>2</td>\n",
       "    </tr>\n",
       "    <tr>\n",
       "      <th>24</th>\n",
       "      <td>29</td>\n",
       "      <td>0.294725</td>\n",
       "      <td>-0.163956</td>\n",
       "      <td>2</td>\n",
       "    </tr>\n",
       "    <tr>\n",
       "      <th>25</th>\n",
       "      <td>24</td>\n",
       "      <td>0.024053</td>\n",
       "      <td>-0.039443</td>\n",
       "      <td>2</td>\n",
       "    </tr>\n",
       "    <tr>\n",
       "      <th>26</th>\n",
       "      <td>31</td>\n",
       "      <td>0.282585</td>\n",
       "      <td>0.201118</td>\n",
       "      <td>2</td>\n",
       "    </tr>\n",
       "    <tr>\n",
       "      <th>27</th>\n",
       "      <td>15</td>\n",
       "      <td>0.372810</td>\n",
       "      <td>0.067372</td>\n",
       "      <td>2</td>\n",
       "    </tr>\n",
       "    <tr>\n",
       "      <th>28</th>\n",
       "      <td>25</td>\n",
       "      <td>0.002060</td>\n",
       "      <td>-0.185795</td>\n",
       "      <td>2</td>\n",
       "    </tr>\n",
       "    <tr>\n",
       "      <th>29</th>\n",
       "      <td>34</td>\n",
       "      <td>-0.054217</td>\n",
       "      <td>-0.370331</td>\n",
       "      <td>2</td>\n",
       "    </tr>\n",
       "  </tbody>\n",
       "</table>\n",
       "</div>"
      ],
      "text/plain": [
       "    id     col_0     col_1  species\n",
       "0   38 -0.651458 -0.078244        1\n",
       "1    8  0.657326  0.033435        3\n",
       "2   21 -0.584361  0.401139        1\n",
       "3   14  0.611075  0.123469        3\n",
       "4   28 -0.679134  0.077020        1\n",
       "5   22  0.907559 -0.038685        3\n",
       "6   26 -0.688737 -0.098822        1\n",
       "7   30  0.298854 -0.081544        3\n",
       "8   13 -0.666269  0.047759        1\n",
       "9   36  0.416740  0.152528        3\n",
       "10  11 -0.561781  0.380043        1\n",
       "11  23  0.284898 -0.004443        3\n",
       "12  16 -0.693945  0.203022        1\n",
       "13  39  0.549703  0.073100        3\n",
       "14  12 -0.732722  0.191247        1\n",
       "15  20  0.321561 -0.210628        3\n",
       "16   9 -0.684132  0.566591        1\n",
       "17  32  0.544887  0.079459        3\n",
       "18  17 -0.639826  0.296572        1\n",
       "19  10  0.329414 -0.086735        3\n",
       "20  19 -0.591807  0.316283        1\n",
       "21  27  0.345892 -0.181670        3\n",
       "22  18 -0.155009 -0.472574        2\n",
       "23  35  0.162868  0.202155        2\n",
       "24  29  0.294725 -0.163956        2\n",
       "25  24  0.024053 -0.039443        2\n",
       "26  31  0.282585  0.201118        2\n",
       "27  15  0.372810  0.067372        2\n",
       "28  25  0.002060 -0.185795        2\n",
       "29  34 -0.054217 -0.370331        2"
      ]
     },
     "metadata": {},
     "output_type": "display_data"
    },
    {
     "name": "stdout",
     "output_type": "stream",
     "text": [
      "Data Transformation completed.\n",
      "xgboost pca\n",
      "\n",
      " Prediction : \n",
      "   species  id  Prediction  Confidence_Lower  Confidence_upper\n",
      "0        1  21           1             1.000             1.000\n",
      "1        1  28           1             0.875             0.875\n",
      "2        3  22           3             1.000             1.000\n",
      "3        1  26           1             0.875             0.875\n",
      "4        1  13           1             0.875             0.875\n",
      "5        3  36           3             1.000             1.000\n",
      "6        3  30           2             0.625             0.625\n",
      "7        3  14           3             1.000             1.000\n",
      "8        3   8           3             1.000             1.000\n",
      "9        1  38           1             0.875             0.875\n",
      "\n",
      " Performance Metrics : \n",
      "       Prediction  Mapping  CLASS_1  CLASS_2  CLASS_3  Precision    Recall        F1  Support\n",
      "SeqNum                                                                                       \n",
      "0               1  CLASS_1       11        0        0   1.000000  1.000000  1.000000       11\n",
      "2               3  CLASS_3        0        1        7   0.875000  0.636364  0.736842       11\n",
      "1               2  CLASS_2        0        7        4   0.636364  0.875000  0.736842        8\n",
      "\n",
      " Confusion Matrix : \n"
     ]
    },
    {
     "data": {
      "text/plain": [
       "array([[11,  0,  0],\n",
       "       [ 0,  7,  1],\n",
       "       [ 0,  4,  7]], dtype=int64)"
      ]
     },
     "metadata": {},
     "output_type": "display_data"
    }
   ],
   "source": [
    "# Generating prediction and metrics on test data\n",
    "prediction = aml.predict(iris_test)"
   ]
  },
  {
   "cell_type": "code",
   "execution_count": 23,
   "id": "cc4f6a78-1cdf-4938-a9f1-22035d8404ca",
   "metadata": {},
   "outputs": [
    {
     "data": {
      "text/html": [
       "<style type=\"text/css\">\n",
       "\ttable {border:ridge 5px;}\n",
       "\ttable td {border:inset 1px;}\n",
       "\ttable tr#HeaderRow {background-color:grey; color:white;}</style>\n",
       "<html><table>\n",
       "\t<tr id=\"HeaderRow\">\n",
       "\t\t<th>species</th>\n",
       "\t\t<th>id</th>\n",
       "\t\t<th>Prediction</th>\n",
       "\t\t<th>Confidence_Lower</th>\n",
       "\t\t<th>Confidence_upper</th>\n",
       "\t</tr>\n",
       "\t<tr>\n",
       "\t\t<td>1</td>\n",
       "\t\t<td>9</td>\n",
       "\t\t<td>1</td>\n",
       "\t\t<td>1.0</td>\n",
       "\t\t<td>1.0</td>\n",
       "\t</tr>\n",
       "\t<tr>\n",
       "\t\t<td>1</td>\n",
       "\t\t<td>13</td>\n",
       "\t\t<td>1</td>\n",
       "\t\t<td>0.875</td>\n",
       "\t\t<td>0.875</td>\n",
       "\t</tr>\n",
       "\t<tr>\n",
       "\t\t<td>1</td>\n",
       "\t\t<td>26</td>\n",
       "\t\t<td>1</td>\n",
       "\t\t<td>0.875</td>\n",
       "\t\t<td>0.875</td>\n",
       "\t</tr>\n",
       "\t<tr>\n",
       "\t\t<td>1</td>\n",
       "\t\t<td>17</td>\n",
       "\t\t<td>1</td>\n",
       "\t\t<td>1.0</td>\n",
       "\t\t<td>1.0</td>\n",
       "\t</tr>\n",
       "\t<tr>\n",
       "\t\t<td>1</td>\n",
       "\t\t<td>21</td>\n",
       "\t\t<td>1</td>\n",
       "\t\t<td>1.0</td>\n",
       "\t\t<td>1.0</td>\n",
       "\t</tr>\n",
       "\t<tr>\n",
       "\t\t<td>1</td>\n",
       "\t\t<td>12</td>\n",
       "\t\t<td>1</td>\n",
       "\t\t<td>0.875</td>\n",
       "\t\t<td>0.875</td>\n",
       "\t</tr>\n",
       "\t<tr>\n",
       "\t\t<td>1</td>\n",
       "\t\t<td>19</td>\n",
       "\t\t<td>1</td>\n",
       "\t\t<td>1.0</td>\n",
       "\t\t<td>1.0</td>\n",
       "\t</tr>\n",
       "\t<tr>\n",
       "\t\t<td>1</td>\n",
       "\t\t<td>11</td>\n",
       "\t\t<td>1</td>\n",
       "\t\t<td>1.0</td>\n",
       "\t\t<td>1.0</td>\n",
       "\t</tr>\n",
       "\t<tr>\n",
       "\t\t<td>1</td>\n",
       "\t\t<td>28</td>\n",
       "\t\t<td>1</td>\n",
       "\t\t<td>0.875</td>\n",
       "\t\t<td>0.875</td>\n",
       "\t</tr>\n",
       "\t<tr>\n",
       "\t\t<td>1</td>\n",
       "\t\t<td>16</td>\n",
       "\t\t<td>1</td>\n",
       "\t\t<td>0.875</td>\n",
       "\t\t<td>0.875</td>\n",
       "\t</tr>\n",
       "</table></html>"
      ],
      "text/plain": [
       "   species  id  Prediction  Confidence_Lower  Confidence_upper\n",
       "0        1   9           1             1.000             1.000\n",
       "1        1  13           1             0.875             0.875\n",
       "2        1  26           1             0.875             0.875\n",
       "3        1  17           1             1.000             1.000\n",
       "4        1  21           1             1.000             1.000\n",
       "5        1  12           1             0.875             0.875\n",
       "6        1  19           1             1.000             1.000\n",
       "7        1  11           1             1.000             1.000\n",
       "8        1  28           1             0.875             0.875\n",
       "9        1  16           1             0.875             0.875"
      ]
     },
     "execution_count": 23,
     "metadata": {},
     "output_type": "execute_result"
    }
   ],
   "source": [
    "# Printing prediction\n",
    "prediction.head()"
   ]
  },
  {
   "cell_type": "code",
   "execution_count": 24,
   "id": "b2cba357-75ac-4089-a234-64a57067b117",
   "metadata": {},
   "outputs": [
    {
     "data": {
      "text/plain": [
       "True"
      ]
     },
     "execution_count": 24,
     "metadata": {},
     "output_type": "execute_result"
    }
   ],
   "source": [
    "remove_context()"
   ]
  },
  {
   "cell_type": "code",
   "execution_count": null,
   "id": "b672112c-d042-4842-846b-163f495d7664",
   "metadata": {},
   "outputs": [],
   "source": []
  }
 ],
 "metadata": {
  "kernelspec": {
   "display_name": "Python 3 (ipykernel)",
   "language": "python",
   "name": "python3"
  },
  "language_info": {
   "codemirror_mode": {
    "name": "ipython",
    "version": 3
   },
   "file_extension": ".py",
   "mimetype": "text/x-python",
   "name": "python",
   "nbconvert_exporter": "python",
   "pygments_lexer": "ipython3",
   "version": "3.10.9"
  }
 },
 "nbformat": 4,
 "nbformat_minor": 5
}
