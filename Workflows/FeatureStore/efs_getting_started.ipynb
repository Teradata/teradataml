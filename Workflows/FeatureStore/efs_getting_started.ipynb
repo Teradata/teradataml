{
 "cells": [
  {
   "cell_type": "markdown",
   "metadata": {},
   "source": [
    "<header>\n",
    "   <p  style='font-size:36px;font-family:Arial; color:#F0F0F0; background-color: #00233c; padding-left: 20pt; padding-top: 20pt;padding-bottom: 10pt; padding-right: 20pt;'>\n",
    "       Enterprise Feature Store Functions - Getting Started\n",
    "  <br>\n",
    "       <img id=\"teradata-logo\" src=\"https://storage.googleapis.com/clearscape_analytics_demo_data/DEMO_Logo/teradata.svg\" alt=\"Teradata\" style=\"width: 125px; height: auto; margin-top: 20pt;\">\n",
    "    </p>\n",
    "</header>"
   ]
  },
  {
   "cell_type": "markdown",
   "metadata": {},
   "source": [
    "### Disclaimer\n",
    "The sample code (“Sample Code”) provided is not covered by any Teradata agreements. Please be aware that Teradata has no control over the model responses to such sample code and such response may vary. The use of the model by Teradata is strictly for demonstration purposes and does not constitute any form of certification or endorsement. The sample code is provided “AS IS” and any express or implied warranties, including the implied warranties of merchantability and fitness for a particular purpose, are disclaimed. In no event shall Teradata be liable for any direct, indirect, incidental, special, exemplary, or consequential damages (including, but not limited to, procurement of substitute goods or services; loss of use, data, or profits; or business interruption) sustained by you or a third party, however caused and on any theory of liability, whether in contract, strict liability, or tort arising in any way out of the use of this sample code, even if advised of the possibility of such damage."
   ]
  },
  {
   "cell_type": "markdown",
   "metadata": {},
   "source": [
    "\n",
    "<p style = 'font-size:20px;font-family:Arial;color:#00233C'><b>Introduction</b></p>\n",
    "\n",
    "<p style = 'font-size:16px;font-family:Arial;color:#00233C'>\n",
    "Teradata Enterprise Feature Store (EFS) Functions are designed to handle feature management within the Vantage environment. While inspired by the syntax of Feast, Teradata EFS Functions stands out, offering efficiency and robustness in data management and feature handling tailored specifically for the use of Teradata Vantage.  \n",
    "</p>\n",
    "\n",
    "<p style = 'font-size:16px;font-family:Arial;color:#00233C'>\n",
    " Teradata EFS Functions use Teradata Dataframes for Feature management, to the contrary of the pandas dataframe of Feast. With Teradata Dataframes we avoid extracting the data to create or use Features from the Enterprise Feature Store (EFS). The EFS Functions are crafted to empower Data Science teams for effective and streamlined feature management. This notebook will walk you through the capabilities of EFS Functions, demonstrating how it integrates seamlessly with your data models and processes.\n",
    "\n",
    "</p>\n",
    "\n",
    "\n",
    "\n"
   ]
  },
  {
   "cell_type": "markdown",
   "metadata": {},
   "source": [
    "<div style = 'font-size:16px;font-family:Arial;color:#00233C'>\n",
    "<p style = 'font-size:20px;font-family:Arial;color:#00233C'>\n",
    "<b>Key Concepts of the Enterprise Feature Store (EFS) SDK\n",
    "</b>\n",
    "</p>\n",
    "The Enterprise Feature Store (EFS) SDK is designed with a totally object-oriented approach, focusing on intuitive interaction with feature stores. Central to this design are several core objects: Feature, Entity, DataSource, FeatureGroup. Together, these objects facilitate the efficient management and utilization of features within your data ecosystem, leveraging Teradata Vantage for metadata storage. Here's a closer look at each of these objects and their roles:\n",
    "</p>\n",
    "</div>"
   ]
  },
  {
   "attachments": {},
   "cell_type": "markdown",
   "metadata": {},
   "source": [
    "![EFS Concepts Diagram](./EFS_key_concepts.png)"
   ]
  },
  {
   "cell_type": "markdown",
   "metadata": {},
   "source": [
    "\n",
    "<div style = 'font-size:16px;font-family:Arial;color:#00233C'>\n",
    "<p style = 'font-size:18px;font-family:Arial;color:#00233C'>\n",
    "<b>Feature\n",
    "</b>\n",
    "\n",
    "A Feature represents a single, distinct piece of data that can be used in machine learning models. Features are the fundamental building blocks of the EFS, designed to encapsulate specific data types, validation rules, and metadata essential for downstream analysis and modeling.\n",
    "</p>\n",
    "\n",
    "<p style = 'font-size:18px;font-family:Arial;color:#00233C'>\n",
    "<b>Entity\n",
    "</b>\n",
    "</p>\n",
    "<p>\n",
    "An Entity serves as the anchor for one or more Features, grouping them by a common identifier. This shared identifier ensures that features within an entity relate to the same logical unit, such as a customer or transaction. The Entity concept ensures data consistency and simplifies the management of feature relationships.\n",
    "</p>\n",
    "\n",
    "<p style = 'font-size:18px;font-family:Arial;color:#00233C'>\n",
    "<b>Data Source\n",
    "</b>\n",
    "</p>\n",
    "\n",
    "The DataSource object provides a flexible mapping between the results of a SQL query or DataFrame and Features. It describes how raw data from Teradata Vantage can be transformed into structured features ready for machine learning. This abstraction allows for the separation of data retrieval logic from feature management, promoting modularity and reuse.\n",
    "\n",
    "<p style = 'font-size:18px;font-family:Arial;color:#00233C'>\n",
    "<b>Feature Group\n",
    "</b>\n",
    "</p>\n",
    "\n",
    "A FeatureGroup represents a collection of Features that are related by a common Entity and originate from the same DataSource. By grouping features this way, the EFS SDK encourages logical organization of features and simplifies batch operations like updates, retrievals, and analysis.\n",
    "\n",
    "\n",
    "<p style = 'font-size:18px;font-family:Arial;color:#00233C'>\n",
    "<b>Repository\n",
    "</b>\n",
    "</p>\n",
    "A Repository is a logical workspace to enable the user to work in their Feature Groups, with the possibility to promote features between repositories. This enables the possibility to have personal repositories (for example, a Lab), team repositories to collaborate and a central production repository.\n",
    "</div>\n"
   ]
  },
  {
   "cell_type": "markdown",
   "metadata": {},
   "source": [
    "<p style = 'font-size:20px;font-family:Arial;color:#00233C'><b>What You Will Do in This Notebook</b></p>\r\n",
    "\r\n",
    "<p style = 'font-size:16px;font-family:Arial;color:#00233C'>\r\n",
    "This notebook is designed to guide you through a series of practical exercises that demonstrate the use of Teradata's Enterprise Feature Store capabilities. By the end of this tutorial, you will have a comprehensive understanding of how to manage and utilize feature stores for machine learning workflows. Here's what you'll learn:\r\n",
    "</p>\r\n",
    "\r\n",
    "<div style = 'font-size:16px;font-family:Arial;color:#00233C'>\r\n",
    "<ol>\r\n",
    "<li>\r\n",
    "<b>Setup a Feature Store Repository and Grant access on it to users</b>\r\n",
    "<ul>\r\n",
    "<li>Learn how to set up a new feature store repository, using Feature Groups, which serves as the foundational environment for storing and managing your data features.</li>\r\n",
    "<li>Owner of the FeatureStore can grant/revoke read only, write only or read and write authorization to other user(s) </li>\r\n",
    "</ul>\r\n",
    "</li>\r\n",
    "\r\n",
    "<li>\r\n",
    "<b>Create and Register objects with FeatureStore</b>\r\n",
    "<ul>\r\n",
    "    <li>Discover <span style=\"color: #FF4500\">how to create a Feature</span> from Teradata DataFrame and register the feature with the Teradata Enterprise Feature Store.</li>\r\n",
    "    <li>Discover <span style=\"color: #FF4500\">how to create an Entity</span> from Teradata DataFrame and register the Entity with the Teradata Enterprise Feature Store.</li>\r\n",
    "    <li>Discover <span style=\"color: #FF4500\">different ways to create DataSource</span> and register DataSource with the Teradata Enterprise Feature Store.</li>\r\n",
    "    <li>Discover <span style=\"color: #FF4500\">different ways to create FeatureGroup</span> and register FeatureGroup with the Teradata Enterprise Feature Store.</li>\r\n",
    "</ul>\r\n",
    "</li>\r\n",
    "\r\n",
    "<li>\r\n",
    "<b>Searching inside Teradata Enterprise Feature Store</b>\r\n",
    "<ul>\r\n",
    "<li>Explore methods to search in Features, Entities, DataSources and FeatureGroups. </li>\r\n",
    "</ul>\r\n",
    "</li>\r\n",
    "\r\n",
    "\r\n",
    "<li>\r\n",
    "<b>Modifying FeatureStore Objects</b>\r\n",
    "<ul>\r\n",
    "<li>Explore methods to modify existing features and other objects within your Enterprise Feature Store to adapt to changes in your data or analysis requirements. </li>\r\n",
    "</ul>\r\n",
    "</li>\r\n",
    "\r\n",
    "<li>\r\n",
    "<b>Combining multiple FeatureGroups.</b>\r\n",
    "<ul>\r\n",
    "<li>Explore a way to combine multiple FeatureGroups to a single FeatureGroup and store the combined FeatureGroup within your Enterprise Feature Store. </li>\r\n",
    "</ul>\r\n",
    "</li>\r\n",
    "\r\n",
    "\r\n",
    "<li>\r\n",
    "<b>Archive and Delete objects in FeatureStore.</b>\r\n",
    "<ul>\r\n",
    "<li>Explore method to archive and delete different objects from FeatureStore. </li>\r\n",
    "</ul>\r\n",
    "</li>\r\n",
    "\r\n",
    "\r\n",
    "<li>\r\n",
    "<b>Creating Datasets and historic Datasets for ML models</b>\r\n",
    "<ul>\r\n",
    "<li>Teradata EFS approach to get Datasets or historic Datasets to feed your ML Model.</li>\r\n",
    "</ul>\r\n",
    "</li>\r\n",
    "\r\n",
    "\r\n",
    "<li>\r\n",
    "<b>Use Enterprise Feature Store with teradataml anaylytic functions.</b>\r\n",
    "<ul>\r\n",
    "<li>Apply Teradata EFS Functions to create suitable for training a machine learning model, ensuring it is clean, well-structured, and aligned with your model's requirements.</li>\r\n",
    "</ul>\r\n",
    "</li>\r\n",
    "\r\n",
    "\r\n",
    "<li>\r\n",
    "<b>Repository Governance</b>\r\n",
    "<ul>\r\n",
    "<li>Promote features from one repository to another repository.</li>\r\n",
    "</ul>\r\n",
    "</li>\r\n",
    "</ol>\r\n",
    "</div>"
   ]
  },
  {
   "cell_type": "markdown",
   "metadata": {},
   "source": [
    "<hr style=\"height:2px;border:none;background-color:#00233C;\">\n",
    "<b style = 'font-size:20px;font-family:Arial;color:#00233C'>Connect to Vantage</b>\n",
    "<p style = 'font-size:16px;font-family:Arial;color:#00233C'>You will be prompted to provide the password. Enter your password, press the Enter key, then use down arrow to go to next cell. Begin running steps with Shift + Enter keys.</p>"
   ]
  },
  {
   "cell_type": "code",
   "execution_count": 2,
   "metadata": {},
   "outputs": [
    {
     "name": "stdin",
     "output_type": "stream",
     "text": [
      "username:  ········\n",
      "password:  ········\n",
      "hostname:  ········\n"
     ]
    }
   ],
   "source": [
    "from getpass import getpass\n",
    "from teradataml import create_context, DataFrame, DataSource, Entity, FeatureGroup, FeatureStore, FeatureType, FeatureStatus, load_example_data, remove_context\n",
    "\n",
    "# Connect to Vantage using create_context.\n",
    "username = getpass(prompt = 'username: ')\n",
    "password = getpass(prompt = 'password: ')\n",
    "hostname = getpass(prompt = 'hostname: ')\n",
    "context=create_context(host=hostname, username=username, password=password)"
   ]
  },
  {
   "cell_type": "markdown",
   "metadata": {},
   "source": [
    "\n",
    "<p style = 'font-size:18px;font-family:Arial;color:#00233C'><b>Getting Data for This Demo</b></p>\n",
    "<p style = 'font-size:14px;font-family:Arial;color:#00233C'>\n",
    "In this tutorial, we will use the <span style=\"background-color: #eee; font-style: italic; \"> load_example_data() </span> function provided by teradataml, which is responsible to load the data to Vantage.\n",
    "</p>\n",
    "\n",
    "\n",
    "\n",
    "\n",
    "<p style = 'font-size:14px;font-family:Arial;color:#00233C'>\n",
    "This will create two tables in Vantage. <b>patient_profile </b> and <b>medical_readings</b></p>\n"
   ]
  },
  {
   "cell_type": "code",
   "execution_count": 3,
   "metadata": {},
   "outputs": [
    {
     "name": "stdout",
     "output_type": "stream",
     "text": [
      "WARNING: Skipped loading table patient_profile since it already exists in the database.\n",
      "WARNING: Skipped loading table medical_readings since it already exists in the database.\n"
     ]
    }
   ],
   "source": [
    "load_example_data('dataframe', 'patient_profile')\n",
    "load_example_data('dataframe', 'medical_readings')"
   ]
  },
  {
   "cell_type": "code",
   "execution_count": 4,
   "metadata": {},
   "outputs": [
    {
     "data": {
      "text/html": [
       "<style type=\"text/css\">\n",
       "\ttable {border:ridge 5px;}\n",
       "\ttable td {border:inset 1px;}\n",
       "\ttable tr#HeaderRow {background-color:grey; color:white;}</style>\n",
       "<html><table>\n",
       "\t<tr id=\"HeaderRow\">\n",
       "\t\t<th>patient_id</th>\n",
       "\t\t<th>record_timestamp</th>\n",
       "\t\t<th>pregnancies</th>\n",
       "\t\t<th>age</th>\n",
       "\t\t<th>bmi</th>\n",
       "\t\t<th>skin_thickness</th>\n",
       "\t</tr>\n",
       "\t<tr>\n",
       "\t\t<td>17</td>\n",
       "\t\t<td>2024-04-10 11:10:59.000000</td>\n",
       "\t\t<td>7</td>\n",
       "\t\t<td>31</td>\n",
       "\t\t<td>29.6</td>\n",
       "\t\t<td>0.0</td>\n",
       "\t</tr>\n",
       "\t<tr>\n",
       "\t\t<td>34</td>\n",
       "\t\t<td>2024-04-10 11:10:59.000000</td>\n",
       "\t\t<td>10</td>\n",
       "\t\t<td>45</td>\n",
       "\t\t<td>27.6</td>\n",
       "\t\t<td>31.0</td>\n",
       "\t</tr>\n",
       "\t<tr>\n",
       "\t\t<td>13</td>\n",
       "\t\t<td>2024-04-10 11:10:59.000000</td>\n",
       "\t\t<td>1</td>\n",
       "\t\t<td>59</td>\n",
       "\t\t<td>30.1</td>\n",
       "\t\t<td>23.0</td>\n",
       "\t</tr>\n",
       "\t<tr>\n",
       "\t\t<td>53</td>\n",
       "\t\t<td>2024-04-10 11:10:59.000000</td>\n",
       "\t\t<td>8</td>\n",
       "\t\t<td>58</td>\n",
       "\t\t<td>33.7</td>\n",
       "\t\t<td>34.0</td>\n",
       "\t</tr>\n",
       "\t<tr>\n",
       "\t\t<td>11</td>\n",
       "\t\t<td>2024-04-10 11:10:59.000000</td>\n",
       "\t\t<td>10</td>\n",
       "\t\t<td>34</td>\n",
       "\t\t<td>38.0</td>\n",
       "\t\t<td>0.0</td>\n",
       "\t</tr>\n",
       "\t<tr>\n",
       "\t\t<td>51</td>\n",
       "\t\t<td>2024-04-10 11:10:59.000000</td>\n",
       "\t\t<td>1</td>\n",
       "\t\t<td>26</td>\n",
       "\t\t<td>24.2</td>\n",
       "\t\t<td>15.0</td>\n",
       "\t</tr>\n",
       "\t<tr>\n",
       "\t\t<td>32</td>\n",
       "\t\t<td>2024-04-10 11:10:59.000000</td>\n",
       "\t\t<td>3</td>\n",
       "\t\t<td>22</td>\n",
       "\t\t<td>24.8</td>\n",
       "\t\t<td>11.0</td>\n",
       "\t</tr>\n",
       "\t<tr>\n",
       "\t\t<td>15</td>\n",
       "\t\t<td>2024-04-10 11:10:59.000000</td>\n",
       "\t\t<td>7</td>\n",
       "\t\t<td>32</td>\n",
       "\t\t<td>30.0</td>\n",
       "\t\t<td>0.0</td>\n",
       "\t</tr>\n",
       "\t<tr>\n",
       "\t\t<td>99</td>\n",
       "\t\t<td>2024-04-10 11:10:59.000000</td>\n",
       "\t\t<td>1</td>\n",
       "\t\t<td>31</td>\n",
       "\t\t<td>49.7</td>\n",
       "\t\t<td>51.0</td>\n",
       "\t</tr>\n",
       "\t<tr>\n",
       "\t\t<td>0</td>\n",
       "\t\t<td>2024-04-10 11:10:59.000000</td>\n",
       "\t\t<td>6</td>\n",
       "\t\t<td>50</td>\n",
       "\t\t<td>33.6</td>\n",
       "\t\t<td>35.0</td>\n",
       "\t</tr>\n",
       "</table></html>"
      ],
      "text/plain": [
       "                      record_timestamp  pregnancies  age   bmi  skin_thickness\n",
       "patient_id                                                                    \n",
       "17          2024-04-10 11:10:59.000000            7   31  29.6             0.0\n",
       "34          2024-04-10 11:10:59.000000           10   45  27.6            31.0\n",
       "13          2024-04-10 11:10:59.000000            1   59  30.1            23.0\n",
       "53          2024-04-10 11:10:59.000000            8   58  33.7            34.0\n",
       "11          2024-04-10 11:10:59.000000           10   34  38.0             0.0\n",
       "51          2024-04-10 11:10:59.000000            1   26  24.2            15.0\n",
       "32          2024-04-10 11:10:59.000000            3   22  24.8            11.0\n",
       "15          2024-04-10 11:10:59.000000            7   32  30.0             0.0\n",
       "99          2024-04-10 11:10:59.000000            1   31  49.7            51.0\n",
       "0           2024-04-10 11:10:59.000000            6   50  33.6            35.0"
      ]
     },
     "execution_count": 4,
     "metadata": {},
     "output_type": "execute_result"
    }
   ],
   "source": [
    "patient_profile_df = DataFrame('patient_profile')\n",
    "patient_profile_df"
   ]
  },
  {
   "cell_type": "code",
   "execution_count": 5,
   "metadata": {},
   "outputs": [
    {
     "data": {
      "text/html": [
       "<style type=\"text/css\">\n",
       "\ttable {border:ridge 5px;}\n",
       "\ttable td {border:inset 1px;}\n",
       "\ttable tr#HeaderRow {background-color:grey; color:white;}</style>\n",
       "<html><table>\n",
       "\t<tr id=\"HeaderRow\">\n",
       "\t\t<th>patient_id</th>\n",
       "\t\t<th>record_timestamp</th>\n",
       "\t\t<th>glucose</th>\n",
       "\t\t<th>blood_pressure</th>\n",
       "\t\t<th>insulin</th>\n",
       "\t\t<th>diabetes_pedigree_function</th>\n",
       "\t\t<th>outcome</th>\n",
       "\t</tr>\n",
       "\t<tr>\n",
       "\t\t<td>19</td>\n",
       "\t\t<td>2024-04-10 11:10:59.000000</td>\n",
       "\t\t<td>115</td>\n",
       "\t\t<td>70</td>\n",
       "\t\t<td>96</td>\n",
       "\t\t<td>0.529</td>\n",
       "\t\t<td>1</td>\n",
       "\t</tr>\n",
       "\t<tr>\n",
       "\t\t<td>59</td>\n",
       "\t\t<td>2024-04-10 11:10:59.000000</td>\n",
       "\t\t<td>105</td>\n",
       "\t\t<td>64</td>\n",
       "\t\t<td>142</td>\n",
       "\t\t<td>0.173</td>\n",
       "\t\t<td>0</td>\n",
       "\t</tr>\n",
       "\t<tr>\n",
       "\t\t<td>38</td>\n",
       "\t\t<td>2024-04-10 11:10:59.000000</td>\n",
       "\t\t<td>90</td>\n",
       "\t\t<td>68</td>\n",
       "\t\t<td>0</td>\n",
       "\t\t<td>0.503</td>\n",
       "\t\t<td>1</td>\n",
       "\t</tr>\n",
       "\t<tr>\n",
       "\t\t<td>78</td>\n",
       "\t\t<td>2024-04-10 11:10:59.000000</td>\n",
       "\t\t<td>131</td>\n",
       "\t\t<td>0</td>\n",
       "\t\t<td>0</td>\n",
       "\t\t<td>0.27</td>\n",
       "\t\t<td>1</td>\n",
       "\t</tr>\n",
       "\t<tr>\n",
       "\t\t<td>36</td>\n",
       "\t\t<td>2024-04-10 11:10:59.000000</td>\n",
       "\t\t<td>138</td>\n",
       "\t\t<td>76</td>\n",
       "\t\t<td>0</td>\n",
       "\t\t<td>0.42</td>\n",
       "\t\t<td>0</td>\n",
       "\t</tr>\n",
       "\t<tr>\n",
       "\t\t<td>97</td>\n",
       "\t\t<td>2024-04-10 11:10:59.000000</td>\n",
       "\t\t<td>71</td>\n",
       "\t\t<td>48</td>\n",
       "\t\t<td>76</td>\n",
       "\t\t<td>0.323</td>\n",
       "\t\t<td>0</td>\n",
       "\t</tr>\n",
       "\t<tr>\n",
       "\t\t<td>57</td>\n",
       "\t\t<td>2024-04-10 11:10:59.000000</td>\n",
       "\t\t<td>100</td>\n",
       "\t\t<td>88</td>\n",
       "\t\t<td>110</td>\n",
       "\t\t<td>0.962</td>\n",
       "\t\t<td>0</td>\n",
       "\t</tr>\n",
       "\t<tr>\n",
       "\t\t<td>80</td>\n",
       "\t\t<td>2024-04-10 11:10:59.000000</td>\n",
       "\t\t<td>113</td>\n",
       "\t\t<td>44</td>\n",
       "\t\t<td>0</td>\n",
       "\t\t<td>0.14</td>\n",
       "\t\t<td>0</td>\n",
       "\t</tr>\n",
       "\t<tr>\n",
       "\t\t<td>40</td>\n",
       "\t\t<td>2024-04-10 11:10:59.000000</td>\n",
       "\t\t<td>180</td>\n",
       "\t\t<td>64</td>\n",
       "\t\t<td>70</td>\n",
       "\t\t<td>0.271</td>\n",
       "\t\t<td>0</td>\n",
       "\t</tr>\n",
       "\t<tr>\n",
       "\t\t<td>61</td>\n",
       "\t\t<td>2024-04-10 11:10:59.000000</td>\n",
       "\t\t<td>133</td>\n",
       "\t\t<td>72</td>\n",
       "\t\t<td>0</td>\n",
       "\t\t<td>0.27</td>\n",
       "\t\t<td>1</td>\n",
       "\t</tr>\n",
       "</table></html>"
      ],
      "text/plain": [
       "                      record_timestamp  glucose  blood_pressure  insulin  diabetes_pedigree_function  outcome\n",
       "patient_id                                                                                                   \n",
       "19          2024-04-10 11:10:59.000000      115              70       96                       0.529        1\n",
       "59          2024-04-10 11:10:59.000000      105              64      142                       0.173        0\n",
       "38          2024-04-10 11:10:59.000000       90              68        0                       0.503        1\n",
       "78          2024-04-10 11:10:59.000000      131               0        0                       0.270        1\n",
       "36          2024-04-10 11:10:59.000000      138              76        0                       0.420        0\n",
       "97          2024-04-10 11:10:59.000000       71              48       76                       0.323        0\n",
       "57          2024-04-10 11:10:59.000000      100              88      110                       0.962        0\n",
       "80          2024-04-10 11:10:59.000000      113              44        0                       0.140        0\n",
       "40          2024-04-10 11:10:59.000000      180              64       70                       0.271        0\n",
       "61          2024-04-10 11:10:59.000000      133              72        0                       0.270        1"
      ]
     },
     "execution_count": 5,
     "metadata": {},
     "output_type": "execute_result"
    }
   ],
   "source": [
    "medical_readings_df = DataFrame('medical_readings')\n",
    "medical_readings_df"
   ]
  },
  {
   "cell_type": "markdown",
   "metadata": {},
   "source": [
    "<hr style=\"height:2px;border:none;background-color:#00233C;\">\n",
    "<b style = 'font-size:20px;font-family:Arial;color:#00233C'>1. Setup a Feature Store Repository and Grant access on it to different users. </b>\n"
   ]
  },
  {
   "cell_type": "markdown",
   "metadata": {},
   "source": [
    "<p style = 'font-size:14px;font-family:Arial;color:#00233C'>Let's first setup the FeatureStore with repo name as <span style=\"background-color: #eee; font-style: italic; \"> LabRepoOne </span><i>. Look at Prerequisite for setting up FeatureStore in teradataml user guide.</i>\n",
    "</p>"
   ]
  },
  {
   "cell_type": "code",
   "execution_count": 7,
   "metadata": {},
   "outputs": [
    {
     "data": {
      "text/html": [
       "<style type=\"text/css\">\n",
       "\ttable {border:ridge 5px;}\n",
       "\ttable td {border:inset 1px;}\n",
       "\ttable tr#HeaderRow {background-color:grey; color:white;}</style>\n",
       "<html><table>\n",
       "\t<tr id=\"HeaderRow\">\n",
       "\t\t<th>repos</th>\n",
       "\t</tr>\n",
       "\t<tr>\n",
       "\t\t<td>FSStaging</td>\n",
       "\t</tr>\n",
       "\t<tr>\n",
       "\t\t<td>ProdLabRepoOne</td>\n",
       "\t</tr>\n",
       "\t<tr>\n",
       "\t\t<td>ProdRepoOne</td>\n",
       "\t</tr>\n",
       "\t<tr>\n",
       "\t\t<td>AdmissionsStaging</td>\n",
       "\t</tr>\n",
       "</table></html>"
      ],
      "text/plain": [
       "               repos\n",
       "0          FSStaging\n",
       "1     ProdLabRepoOne\n",
       "2        ProdRepoOne\n",
       "3  AdmissionsStaging"
      ]
     },
     "execution_count": 7,
     "metadata": {},
     "output_type": "execute_result"
    }
   ],
   "source": [
    "# Before creating Repo, let's check existing FeatureStores.\n",
    "FeatureStore.list_repos()"
   ]
  },
  {
   "cell_type": "code",
   "execution_count": 8,
   "metadata": {},
   "outputs": [],
   "source": [
    "# FeatureStore is not setup for repo LabRepoOne. Let's setup.\n",
    "fs = FeatureStore('LabRepoOne')\n",
    "fs.setup(perm_size='10e8')"
   ]
  },
  {
   "cell_type": "code",
   "execution_count": 9,
   "metadata": {},
   "outputs": [
    {
     "data": {
      "text/html": [
       "<style type=\"text/css\">\n",
       "\ttable {border:ridge 5px;}\n",
       "\ttable td {border:inset 1px;}\n",
       "\ttable tr#HeaderRow {background-color:grey; color:white;}</style>\n",
       "<html><table>\n",
       "\t<tr id=\"HeaderRow\">\n",
       "\t\t<th>repos</th>\n",
       "\t</tr>\n",
       "\t<tr>\n",
       "\t\t<td>ProdRepoOne</td>\n",
       "\t</tr>\n",
       "\t<tr>\n",
       "\t\t<td>ProdLabRepoOne</td>\n",
       "\t</tr>\n",
       "\t<tr>\n",
       "\t\t<td>FSStaging</td>\n",
       "\t</tr>\n",
       "\t<tr>\n",
       "\t\t<td>LabRepoOne</td>\n",
       "\t</tr>\n",
       "\t<tr>\n",
       "\t\t<td>AdmissionsStaging</td>\n",
       "\t</tr>\n",
       "</table></html>"
      ],
      "text/plain": [
       "               repos\n",
       "0        ProdRepoOne\n",
       "1     ProdLabRepoOne\n",
       "2          FSStaging\n",
       "3         LabRepoOne\n",
       "4  AdmissionsStaging"
      ]
     },
     "execution_count": 9,
     "metadata": {},
     "output_type": "execute_result"
    }
   ],
   "source": [
    "# Let's verify by listing the repo's.\n",
    "FeatureStore.list_repos()"
   ]
  },
  {
   "cell_type": "markdown",
   "metadata": {},
   "source": [
    "<p style = 'font-size:16px;font-family:Arial;color:#00233C'>Let's Look at the ways to authorize access for FeatureStore to user <span style=\"background-color: #eee; font-style: italic; \"> user1 </span>. </p>"
   ]
  },
  {
   "cell_type": "markdown",
   "metadata": {},
   "source": [
    "##### Grant Access"
   ]
  },
  {
   "cell_type": "code",
   "execution_count": 10,
   "metadata": {},
   "outputs": [],
   "source": [
    "user='user1'"
   ]
  },
  {
   "cell_type": "code",
   "execution_count": 12,
   "metadata": {},
   "outputs": [
    {
     "data": {
      "text/plain": [
       "True"
      ]
     },
     "execution_count": 12,
     "metadata": {},
     "output_type": "execute_result"
    }
   ],
   "source": [
    "# Grant read only access to user1. user1 can able to only see the all objects in FeatureStore but cannot modify these objects.\n",
    "fs.grant.read(user)"
   ]
  },
  {
   "cell_type": "code",
   "execution_count": 13,
   "metadata": {},
   "outputs": [
    {
     "data": {
      "text/plain": [
       "True"
      ]
     },
     "execution_count": 13,
     "metadata": {},
     "output_type": "execute_result"
    }
   ],
   "source": [
    "# Grant write only access to user1. user1 can able to modify all objects in FeatureStore but cannot see these objects.\n",
    "fs.grant.write(user)"
   ]
  },
  {
   "cell_type": "code",
   "execution_count": 14,
   "metadata": {},
   "outputs": [
    {
     "data": {
      "text/plain": [
       "True"
      ]
     },
     "execution_count": 14,
     "metadata": {},
     "output_type": "execute_result"
    }
   ],
   "source": [
    "# Grant read and write to user1. user1 will get full access on all objects of FeatureStore.\n",
    "fs.grant.read_write(user)"
   ]
  },
  {
   "cell_type": "markdown",
   "metadata": {},
   "source": [
    "##### Revoke Access."
   ]
  },
  {
   "cell_type": "code",
   "execution_count": 15,
   "metadata": {},
   "outputs": [
    {
     "data": {
      "text/plain": [
       "True"
      ]
     },
     "execution_count": 15,
     "metadata": {},
     "output_type": "execute_result"
    }
   ],
   "source": [
    "# Revoke read access from user1 on FeatureStore LabRepoOne.\n",
    "fs.revoke.read(user)"
   ]
  },
  {
   "cell_type": "code",
   "execution_count": 16,
   "metadata": {},
   "outputs": [
    {
     "data": {
      "text/plain": [
       "True"
      ]
     },
     "execution_count": 16,
     "metadata": {},
     "output_type": "execute_result"
    }
   ],
   "source": [
    "# Revoke write access from user1 on FeatureStore LabRepoOne.\n",
    "fs.revoke.write(user)"
   ]
  },
  {
   "cell_type": "code",
   "execution_count": 17,
   "metadata": {},
   "outputs": [
    {
     "data": {
      "text/plain": [
       "True"
      ]
     },
     "execution_count": 17,
     "metadata": {},
     "output_type": "execute_result"
    }
   ],
   "source": [
    "# Revoke read and write access from user1 on FeatureStore LabRepoOne.\n",
    "fs.revoke.write(user)"
   ]
  },
  {
   "cell_type": "markdown",
   "metadata": {},
   "source": [
    "<hr style=\"height:2px;border:none;background-color:#00233C;\">\n",
    "<b style = 'font-size:20px;font-family:Arial;color:#00233C'>2. Create and Register objects with FeatureStore </b>\n"
   ]
  },
  {
   "cell_type": "markdown",
   "metadata": {},
   "source": [
    "### Create and Register Feature"
   ]
  },
  {
   "cell_type": "markdown",
   "metadata": {},
   "source": [
    "#### creating a Feature"
   ]
  },
  {
   "cell_type": "code",
   "execution_count": 18,
   "metadata": {},
   "outputs": [],
   "source": [
    "# Creating Feature for Column 'age' from Teradata DataFrame 'patient_profile_df'.\n",
    "f1 = Feature(name='PatientAge', \n",
    "             column=patient_profile_df.age, \n",
    "             feature_type=FeatureType.CONTINUOUS, \n",
    "             description=None, \n",
    "             tags=[\"PatientProfile\", \"PatientDetails\"])"
   ]
  },
  {
   "cell_type": "code",
   "execution_count": 19,
   "metadata": {},
   "outputs": [
    {
     "name": "stdout",
     "output_type": "stream",
     "text": [
      "The history saving thread hit an unexpected error (OperationalError('attempt to write a readonly database')).History will not be written to the database.\n"
     ]
    },
    {
     "data": {
      "text/plain": [
       "('PatientAge',\n",
       " 'age',\n",
       " BIGINT(),\n",
       " None,\n",
       " ['PatientProfile', 'PatientDetails'],\n",
       " <FeatureStatus.ACTIVE: 1>)"
      ]
     },
     "execution_count": 19,
     "metadata": {},
     "output_type": "execute_result"
    }
   ],
   "source": [
    "# Look at underlying properties.\n",
    "f1.name, f1.column_name, f1.data_type, f1.description, f1.tags, f1.status"
   ]
  },
  {
   "cell_type": "markdown",
   "metadata": {},
   "source": [
    "#### Register Feature with FeatureStore `fs`"
   ]
  },
  {
   "cell_type": "code",
   "execution_count": 20,
   "metadata": {},
   "outputs": [
    {
     "data": {
      "text/html": [
       "<style type=\"text/css\">\n",
       "\ttable {border:ridge 5px;}\n",
       "\ttable td {border:inset 1px;}\n",
       "\ttable tr#HeaderRow {background-color:grey; color:white;}</style>\n",
       "<html><table>\n",
       "\t<tr id=\"HeaderRow\">\n",
       "\t\t<th>name</th>\n",
       "\t\t<th>column_name</th>\n",
       "\t\t<th>description</th>\n",
       "\t\t<th>tags</th>\n",
       "\t\t<th>data_type</th>\n",
       "\t\t<th>feature_type</th>\n",
       "\t\t<th>status</th>\n",
       "\t\t<th>creation_time</th>\n",
       "\t\t<th>modified_time</th>\n",
       "\t\t<th>group_name</th>\n",
       "\t</tr>\n",
       "</table></html>"
      ],
      "text/plain": [
       "Empty DataFrame\n",
       "Columns: [column_name, description, tags, data_type, feature_type, status, creation_time, modified_time, group_name]\n",
       "Index: []"
      ]
     },
     "execution_count": 20,
     "metadata": {},
     "output_type": "execute_result"
    }
   ],
   "source": [
    "# Before even register the Feature, let's look at available Features.\n",
    "fs.list_features()"
   ]
  },
  {
   "cell_type": "code",
   "execution_count": 21,
   "metadata": {},
   "outputs": [
    {
     "data": {
      "text/plain": [
       "True"
      ]
     },
     "execution_count": 21,
     "metadata": {},
     "output_type": "execute_result"
    }
   ],
   "source": [
    "# FeatureStore.apply() register every object.\n",
    "fs.apply(f1)"
   ]
  },
  {
   "cell_type": "code",
   "execution_count": 22,
   "metadata": {},
   "outputs": [
    {
     "data": {
      "text/html": [
       "<style type=\"text/css\">\n",
       "\ttable {border:ridge 5px;}\n",
       "\ttable td {border:inset 1px;}\n",
       "\ttable tr#HeaderRow {background-color:grey; color:white;}</style>\n",
       "<html><table>\n",
       "\t<tr id=\"HeaderRow\">\n",
       "\t\t<th>name</th>\n",
       "\t\t<th>column_name</th>\n",
       "\t\t<th>description</th>\n",
       "\t\t<th>tags</th>\n",
       "\t\t<th>data_type</th>\n",
       "\t\t<th>feature_type</th>\n",
       "\t\t<th>status</th>\n",
       "\t\t<th>creation_time</th>\n",
       "\t\t<th>modified_time</th>\n",
       "\t\t<th>group_name</th>\n",
       "\t</tr>\n",
       "\t<tr>\n",
       "\t\t<td>PatientAge</td>\n",
       "\t\t<td>age</td>\n",
       "\t\t<td>None</td>\n",
       "\t\t<td>PatientProfile, PatientDetails</td>\n",
       "\t\t<td>BIGINT</td>\n",
       "\t\t<td>CONTINUOUS</td>\n",
       "\t\t<td>ACTIVE</td>\n",
       "\t\t<td>2024-10-18 09:41:31.294087</td>\n",
       "\t\t<td>None</td>\n",
       "\t\t<td>None</td>\n",
       "\t</tr>\n",
       "</table></html>"
      ],
      "text/plain": [
       "           column_name description                            tags data_type feature_type  status               creation_time modified_time group_name\n",
       "name                                                                                                                                                  \n",
       "PatientAge         age        None  PatientProfile, PatientDetails    BIGINT   CONTINUOUS  ACTIVE  2024-10-18 09:41:31.294087          None       None"
      ]
     },
     "execution_count": 22,
     "metadata": {},
     "output_type": "execute_result"
    }
   ],
   "source": [
    "# Let's look at available Features again.\n",
    "fs.list_features()"
   ]
  },
  {
   "cell_type": "markdown",
   "metadata": {},
   "source": [
    "### Create and Register Entity"
   ]
  },
  {
   "cell_type": "markdown",
   "metadata": {},
   "source": [
    "#### Creating an Entity"
   ]
  },
  {
   "cell_type": "code",
   "execution_count": 23,
   "metadata": {},
   "outputs": [],
   "source": [
    "# Create entity for DataFrame 'patient_profile_df'\n",
    "entity=Entity(name='PatientEntity', columns=patient_profile_df.patient_id)"
   ]
  },
  {
   "cell_type": "code",
   "execution_count": 24,
   "metadata": {},
   "outputs": [
    {
     "data": {
      "text/plain": [
       "('PatientEntity', ['patient_id'], None)"
      ]
     },
     "execution_count": 24,
     "metadata": {},
     "output_type": "execute_result"
    }
   ],
   "source": [
    "# Look at Entity properties.\n",
    "entity.name, entity.columns, entity.description"
   ]
  },
  {
   "cell_type": "markdown",
   "metadata": {},
   "source": [
    "#### Register Entity with FeatureStore `fs`"
   ]
  },
  {
   "cell_type": "code",
   "execution_count": 25,
   "metadata": {},
   "outputs": [
    {
     "data": {
      "text/html": [
       "<style type=\"text/css\">\n",
       "\ttable {border:ridge 5px;}\n",
       "\ttable td {border:inset 1px;}\n",
       "\ttable tr#HeaderRow {background-color:grey; color:white;}</style>\n",
       "<html><table>\n",
       "\t<tr id=\"HeaderRow\">\n",
       "\t\t<th>name</th>\n",
       "\t\t<th>description</th>\n",
       "\t\t<th>creation_time</th>\n",
       "\t\t<th>modified_time</th>\n",
       "\t\t<th>entity_column</th>\n",
       "\t</tr>\n",
       "</table></html>"
      ],
      "text/plain": [
       "Empty DataFrame\n",
       "Columns: [description, creation_time, modified_time, entity_column]\n",
       "Index: []"
      ]
     },
     "execution_count": 25,
     "metadata": {},
     "output_type": "execute_result"
    }
   ],
   "source": [
    "# Before even registering Entity, let's look at existing Entities.\n",
    "fs.list_entities()"
   ]
  },
  {
   "cell_type": "code",
   "execution_count": 26,
   "metadata": {},
   "outputs": [
    {
     "data": {
      "text/plain": [
       "True"
      ]
     },
     "execution_count": 26,
     "metadata": {},
     "output_type": "execute_result"
    }
   ],
   "source": [
    "# Register the Entity.\n",
    "fs.apply(entity)"
   ]
  },
  {
   "cell_type": "code",
   "execution_count": 27,
   "metadata": {},
   "outputs": [
    {
     "data": {
      "text/html": [
       "<style type=\"text/css\">\n",
       "\ttable {border:ridge 5px;}\n",
       "\ttable td {border:inset 1px;}\n",
       "\ttable tr#HeaderRow {background-color:grey; color:white;}</style>\n",
       "<html><table>\n",
       "\t<tr id=\"HeaderRow\">\n",
       "\t\t<th>name</th>\n",
       "\t\t<th>description</th>\n",
       "\t\t<th>creation_time</th>\n",
       "\t\t<th>modified_time</th>\n",
       "\t\t<th>entity_column</th>\n",
       "\t</tr>\n",
       "\t<tr>\n",
       "\t\t<td>PatientEntity</td>\n",
       "\t\t<td>None</td>\n",
       "\t\t<td>2024-10-18 09:42:05.465919</td>\n",
       "\t\t<td>None</td>\n",
       "\t\t<td>patient_id</td>\n",
       "\t</tr>\n",
       "</table></html>"
      ],
      "text/plain": [
       "              description               creation_time modified_time entity_column\n",
       "name                                                                             \n",
       "PatientEntity        None  2024-10-18 09:42:05.465919          None    patient_id"
      ]
     },
     "execution_count": 27,
     "metadata": {},
     "output_type": "execute_result"
    }
   ],
   "source": [
    "# Look at existing Entities after registering the Entity.\n",
    "fs.list_entities()"
   ]
  },
  {
   "cell_type": "markdown",
   "metadata": {},
   "source": [
    "### Create and Register DataSource\n",
    "- ##### DataSource can be either created from a SQL Query or from Teradata DataFrame.\n",
    "- ##### DataSource has argument `timestamp_col_name` which accepts the name of Column in DataSource which indicates when the corresponding record is created. This is much helpfull to get historic dataset. "
   ]
  },
  {
   "cell_type": "markdown",
   "metadata": {},
   "source": [
    "#### Creating a DataSource from Teradata DataFrame"
   ]
  },
  {
   "cell_type": "code",
   "execution_count": 28,
   "metadata": {},
   "outputs": [],
   "source": [
    "# Let's create DataSource from DataFrame `patient_profile_df`.\n",
    "ds = DataSource(name='PatientProfileSource', source=patient_profile_df, timestamp_col_name='record_timestamp')"
   ]
  },
  {
   "cell_type": "code",
   "execution_count": 29,
   "metadata": {},
   "outputs": [
    {
     "data": {
      "text/plain": [
       "('PatientProfileSource',\n",
       " 'select * from \"patient_profile\"',\n",
       " None,\n",
       " 'record_timestamp')"
      ]
     },
     "execution_count": 29,
     "metadata": {},
     "output_type": "execute_result"
    }
   ],
   "source": [
    "# Let's look at properties of DataSource.\n",
    "ds.name, ds.source, ds.description, ds.timestamp_col_name"
   ]
  },
  {
   "cell_type": "markdown",
   "metadata": {},
   "source": [
    "#### Creating a DataSource from SQL Query"
   ]
  },
  {
   "cell_type": "code",
   "execution_count": 30,
   "metadata": {},
   "outputs": [],
   "source": [
    "# Let's create DataSource from DataFrame `patient_profile_df`.\n",
    "ds = DataSource(name='PatientProfileSource', source=\"SELECT * FROM PATIENT_PROFILE\")"
   ]
  },
  {
   "cell_type": "code",
   "execution_count": 31,
   "metadata": {},
   "outputs": [
    {
     "data": {
      "text/plain": [
       "('PatientProfileSource', 'SELECT * FROM PATIENT_PROFILE', None)"
      ]
     },
     "execution_count": 31,
     "metadata": {},
     "output_type": "execute_result"
    }
   ],
   "source": [
    "# Let's look at properties of DataSource.\n",
    "ds.name, ds.source, ds.description"
   ]
  },
  {
   "cell_type": "markdown",
   "metadata": {},
   "source": [
    "#### Register DataSource with FeatureStore `fs`"
   ]
  },
  {
   "cell_type": "code",
   "execution_count": 32,
   "metadata": {},
   "outputs": [
    {
     "data": {
      "text/html": [
       "<style type=\"text/css\">\n",
       "\ttable {border:ridge 5px;}\n",
       "\ttable td {border:inset 1px;}\n",
       "\ttable tr#HeaderRow {background-color:grey; color:white;}</style>\n",
       "<html><table>\n",
       "\t<tr id=\"HeaderRow\">\n",
       "\t\t<th>name</th>\n",
       "\t\t<th>description</th>\n",
       "\t\t<th>timestamp_col_name</th>\n",
       "\t\t<th>source</th>\n",
       "\t\t<th>creation_time</th>\n",
       "\t\t<th>modified_time</th>\n",
       "\t</tr>\n",
       "</table></html>"
      ],
      "text/plain": [
       "Empty DataFrame\n",
       "Columns: [description, timestamp_col_name, source, creation_time, modified_time]\n",
       "Index: []"
      ]
     },
     "execution_count": 32,
     "metadata": {},
     "output_type": "execute_result"
    }
   ],
   "source": [
    "# Before registering let's look at existing DataSources.\n",
    "fs.list_data_sources()"
   ]
  },
  {
   "cell_type": "code",
   "execution_count": 33,
   "metadata": {},
   "outputs": [
    {
     "data": {
      "text/plain": [
       "True"
      ]
     },
     "execution_count": 33,
     "metadata": {},
     "output_type": "execute_result"
    }
   ],
   "source": [
    "# Register DataSource with repo.\n",
    "fs.apply(ds)"
   ]
  },
  {
   "cell_type": "code",
   "execution_count": 34,
   "metadata": {},
   "outputs": [
    {
     "data": {
      "text/html": [
       "<style type=\"text/css\">\n",
       "\ttable {border:ridge 5px;}\n",
       "\ttable td {border:inset 1px;}\n",
       "\ttable tr#HeaderRow {background-color:grey; color:white;}</style>\n",
       "<html><table>\n",
       "\t<tr id=\"HeaderRow\">\n",
       "\t\t<th>name</th>\n",
       "\t\t<th>description</th>\n",
       "\t\t<th>timestamp_col_name</th>\n",
       "\t\t<th>source</th>\n",
       "\t\t<th>creation_time</th>\n",
       "\t\t<th>modified_time</th>\n",
       "\t</tr>\n",
       "\t<tr>\n",
       "\t\t<td>PatientProfileSource</td>\n",
       "\t\t<td>None</td>\n",
       "\t\t<td>None</td>\n",
       "\t\t<td>SELECT * FROM PATIENT_PROFILE</td>\n",
       "\t\t<td>2024-10-18 09:42:55.680803</td>\n",
       "\t\t<td>None</td>\n",
       "\t</tr>\n",
       "</table></html>"
      ],
      "text/plain": [
       "                     description timestamp_col_name                         source               creation_time modified_time\n",
       "name                                                                                                                        \n",
       "PatientProfileSource        None               None  SELECT * FROM PATIENT_PROFILE  2024-10-18 09:42:55.680803          None"
      ]
     },
     "execution_count": 34,
     "metadata": {},
     "output_type": "execute_result"
    }
   ],
   "source": [
    "# Let's look at available DataSources after registration.\n",
    "fs.list_data_sources()"
   ]
  },
  {
   "cell_type": "markdown",
   "metadata": {},
   "source": [
    "### Create and Register FeatureGroup\n",
    "- ##### FeatureGroup can be created using Teradata DataFrame. \n",
    "- ##### FeatureGroup can be created using SQL Query.\n",
    "- ##### FeatureGroup can be created using objects of Feature, Entity, DataSource. "
   ]
  },
  {
   "cell_type": "markdown",
   "metadata": {},
   "source": [
    "#### Creating a FeatureGroup from Teradata DataFrame"
   ]
  },
  {
   "cell_type": "code",
   "execution_count": 35,
   "metadata": {},
   "outputs": [],
   "source": [
    "fg = FeatureGroup.from_DataFrame(\n",
    "    name='PatientProfileDF', \n",
    "    entity_columns='patient_id', \n",
    "    df=patient_profile_df, \n",
    "    timestamp_col_name='record_timestamp'\n",
    ")"
   ]
  },
  {
   "cell_type": "code",
   "execution_count": 36,
   "metadata": {},
   "outputs": [
    {
     "data": {
      "text/plain": [
       "([Feature(name=pregnancies),\n",
       "  Feature(name=age),\n",
       "  Feature(name=bmi),\n",
       "  Feature(name=skin_thickness)],\n",
       " Entity(name=PatientProfileDF),\n",
       " DataSource(name=PatientProfileDF),\n",
       " None)"
      ]
     },
     "execution_count": 36,
     "metadata": {},
     "output_type": "execute_result"
    }
   ],
   "source": [
    "# Let's look at Properties.\n",
    "fg.features, fg.entity, fg.data_source, fg.description"
   ]
  },
  {
   "cell_type": "markdown",
   "metadata": {},
   "source": [
    "#### Creating a FeatureGroup from SQL Query"
   ]
  },
  {
   "cell_type": "code",
   "execution_count": 37,
   "metadata": {},
   "outputs": [],
   "source": [
    "fg = FeatureGroup.from_query(\n",
    "    name='PatientProfileQuery', \n",
    "    entity_columns='patient_id', \n",
    "    query=\"select * from patient_profile\", \n",
    "    timestamp_col_name='record_timestamp'\n",
    ")"
   ]
  },
  {
   "cell_type": "code",
   "execution_count": 38,
   "metadata": {},
   "outputs": [
    {
     "data": {
      "text/plain": [
       "([Feature(name=pregnancies),\n",
       "  Feature(name=age),\n",
       "  Feature(name=bmi),\n",
       "  Feature(name=skin_thickness)],\n",
       " Entity(name=PatientProfileQuery),\n",
       " DataSource(name=PatientProfileQuery),\n",
       " None)"
      ]
     },
     "execution_count": 38,
     "metadata": {},
     "output_type": "execute_result"
    }
   ],
   "source": [
    "# Let's look at Properties.\n",
    "fg.features, fg.entity, fg.data_source, fg.description"
   ]
  },
  {
   "cell_type": "markdown",
   "metadata": {},
   "source": [
    "#### Creating a FeatureGroup using objects of Feature, Entity and DataSource"
   ]
  },
  {
   "cell_type": "code",
   "execution_count": 39,
   "metadata": {},
   "outputs": [],
   "source": [
    "fg = FeatureGroup(name='PatientProfileObjs', features=[f1], entity=entity, data_source=ds)"
   ]
  },
  {
   "cell_type": "code",
   "execution_count": 40,
   "metadata": {},
   "outputs": [
    {
     "data": {
      "text/plain": [
       "([Feature(name=PatientAge)],\n",
       " Entity(name=PatientEntity),\n",
       " DataSource(name=PatientProfileSource),\n",
       " None)"
      ]
     },
     "execution_count": 40,
     "metadata": {},
     "output_type": "execute_result"
    }
   ],
   "source": [
    "# Let's look at Properties.\n",
    "fg.features, fg.entity, fg.data_source, fg.description"
   ]
  },
  {
   "cell_type": "markdown",
   "metadata": {},
   "source": [
    "#### Register FeatureGroup with FeatureStore `fs`"
   ]
  },
  {
   "cell_type": "code",
   "execution_count": 41,
   "metadata": {},
   "outputs": [
    {
     "data": {
      "text/html": [
       "<style type=\"text/css\">\n",
       "\ttable {border:ridge 5px;}\n",
       "\ttable td {border:inset 1px;}\n",
       "\ttable tr#HeaderRow {background-color:grey; color:white;}</style>\n",
       "<html><table>\n",
       "\t<tr id=\"HeaderRow\">\n",
       "\t\t<th>name</th>\n",
       "\t\t<th>description</th>\n",
       "\t\t<th>data_source_name</th>\n",
       "\t\t<th>entity_name</th>\n",
       "\t\t<th>creation_time</th>\n",
       "\t\t<th>modified_time</th>\n",
       "\t</tr>\n",
       "</table></html>"
      ],
      "text/plain": [
       "Empty DataFrame\n",
       "Columns: [description, data_source_name, entity_name, creation_time, modified_time]\n",
       "Index: []"
      ]
     },
     "execution_count": 41,
     "metadata": {},
     "output_type": "execute_result"
    }
   ],
   "source": [
    "# Let's look at underlying FeatureGroups first.\n",
    "fs.list_feature_groups()"
   ]
  },
  {
   "cell_type": "code",
   "execution_count": 42,
   "metadata": {},
   "outputs": [
    {
     "data": {
      "text/html": [
       "<style type=\"text/css\">\n",
       "\ttable {border:ridge 5px;}\n",
       "\ttable td {border:inset 1px;}\n",
       "\ttable tr#HeaderRow {background-color:grey; color:white;}</style>\n",
       "<html><table>\n",
       "\t<tr id=\"HeaderRow\">\n",
       "\t\t<th>name</th>\n",
       "\t\t<th>column_name</th>\n",
       "\t\t<th>description</th>\n",
       "\t\t<th>tags</th>\n",
       "\t\t<th>data_type</th>\n",
       "\t\t<th>feature_type</th>\n",
       "\t\t<th>status</th>\n",
       "\t\t<th>creation_time</th>\n",
       "\t\t<th>modified_time</th>\n",
       "\t\t<th>group_name</th>\n",
       "\t</tr>\n",
       "\t<tr>\n",
       "\t\t<td>PatientAge</td>\n",
       "\t\t<td>age</td>\n",
       "\t\t<td>None</td>\n",
       "\t\t<td>PatientProfile, PatientDetails</td>\n",
       "\t\t<td>BIGINT</td>\n",
       "\t\t<td>CONTINUOUS</td>\n",
       "\t\t<td>ACTIVE</td>\n",
       "\t\t<td>2024-10-18 09:41:31.294087</td>\n",
       "\t\t<td>None</td>\n",
       "\t\t<td>None</td>\n",
       "\t</tr>\n",
       "</table></html>"
      ],
      "text/plain": [
       "           column_name description                            tags data_type feature_type  status               creation_time modified_time group_name\n",
       "name                                                                                                                                                  \n",
       "PatientAge         age        None  PatientProfile, PatientDetails    BIGINT   CONTINUOUS  ACTIVE  2024-10-18 09:41:31.294087          None       None"
      ]
     },
     "execution_count": 42,
     "metadata": {},
     "output_type": "execute_result"
    }
   ],
   "source": [
    "# Let's look at Available Features also. Notice: Feature is not associated with any group.\n",
    "fs.list_features()"
   ]
  },
  {
   "cell_type": "code",
   "execution_count": 43,
   "metadata": {},
   "outputs": [
    {
     "data": {
      "text/plain": [
       "True"
      ]
     },
     "execution_count": 43,
     "metadata": {},
     "output_type": "execute_result"
    }
   ],
   "source": [
    "# Register FeatureGroup with FeatureStore.\n",
    "fs.apply(fg)"
   ]
  },
  {
   "cell_type": "code",
   "execution_count": 44,
   "metadata": {},
   "outputs": [
    {
     "data": {
      "text/html": [
       "<style type=\"text/css\">\n",
       "\ttable {border:ridge 5px;}\n",
       "\ttable td {border:inset 1px;}\n",
       "\ttable tr#HeaderRow {background-color:grey; color:white;}</style>\n",
       "<html><table>\n",
       "\t<tr id=\"HeaderRow\">\n",
       "\t\t<th>name</th>\n",
       "\t\t<th>description</th>\n",
       "\t\t<th>data_source_name</th>\n",
       "\t\t<th>entity_name</th>\n",
       "\t\t<th>creation_time</th>\n",
       "\t\t<th>modified_time</th>\n",
       "\t</tr>\n",
       "\t<tr>\n",
       "\t\t<td>PatientProfileObjs</td>\n",
       "\t\t<td>None</td>\n",
       "\t\t<td>PatientProfileSource</td>\n",
       "\t\t<td>PatientEntity</td>\n",
       "\t\t<td>2024-10-18 09:44:00.994420</td>\n",
       "\t\t<td>None</td>\n",
       "\t</tr>\n",
       "</table></html>"
      ],
      "text/plain": [
       "                   description      data_source_name    entity_name               creation_time modified_time\n",
       "name                                                                                                         \n",
       "PatientProfileObjs        None  PatientProfileSource  PatientEntity  2024-10-18 09:44:00.994420          None"
      ]
     },
     "execution_count": 44,
     "metadata": {},
     "output_type": "execute_result"
    }
   ],
   "source": [
    "# Let's look at FeatureGroups after registration.\n",
    "fs.list_feature_groups()"
   ]
  },
  {
   "cell_type": "code",
   "execution_count": 45,
   "metadata": {},
   "outputs": [
    {
     "data": {
      "text/html": [
       "<style type=\"text/css\">\n",
       "\ttable {border:ridge 5px;}\n",
       "\ttable td {border:inset 1px;}\n",
       "\ttable tr#HeaderRow {background-color:grey; color:white;}</style>\n",
       "<html><table>\n",
       "\t<tr id=\"HeaderRow\">\n",
       "\t\t<th>name</th>\n",
       "\t\t<th>column_name</th>\n",
       "\t\t<th>description</th>\n",
       "\t\t<th>tags</th>\n",
       "\t\t<th>data_type</th>\n",
       "\t\t<th>feature_type</th>\n",
       "\t\t<th>status</th>\n",
       "\t\t<th>creation_time</th>\n",
       "\t\t<th>modified_time</th>\n",
       "\t\t<th>group_name</th>\n",
       "\t</tr>\n",
       "\t<tr>\n",
       "\t\t<td>PatientAge</td>\n",
       "\t\t<td>age</td>\n",
       "\t\t<td>None</td>\n",
       "\t\t<td>PatientProfile, PatientDetails</td>\n",
       "\t\t<td>BIGINT</td>\n",
       "\t\t<td>CONTINUOUS</td>\n",
       "\t\t<td>ACTIVE</td>\n",
       "\t\t<td>2024-10-18 09:41:31.294087</td>\n",
       "\t\t<td>2024-10-18 09:44:00.820498</td>\n",
       "\t\t<td>PatientProfileObjs</td>\n",
       "\t</tr>\n",
       "</table></html>"
      ],
      "text/plain": [
       "           column_name description                            tags data_type feature_type  status               creation_time               modified_time          group_name\n",
       "name                                                                                                                                                                         \n",
       "PatientAge         age        None  PatientProfile, PatientDetails    BIGINT   CONTINUOUS  ACTIVE  2024-10-18 09:41:31.294087  2024-10-18 09:44:00.820498  PatientProfileObjs"
      ]
     },
     "execution_count": 45,
     "metadata": {},
     "output_type": "execute_result"
    }
   ],
   "source": [
    "# Let's look at Available Features again. Notice: Feature is now associated with group.\n",
    "fs.list_features()"
   ]
  },
  {
   "cell_type": "markdown",
   "metadata": {},
   "source": [
    "<hr style=\"height:2px;border:none;background-color:#00233C;\">\n",
    "<b style = 'font-size:20px;font-family:Arial;color:#00233C'>3. Searching inside Teradata Enterprise Feature Store </b>"
   ]
  },
  {
   "cell_type": "markdown",
   "metadata": {},
   "source": [
    "- ##### How to search for Features: `FeatureStore.list_features()` returns Teradata DataFrame. All the filter options available on Teradata DataFrame can be used for searching. Look at example below.\n",
    "- ##### How to search for Entities: `FeatureStore.list_entities()` returns Teradata DataFrame. All the filter options available on Teradata DataFrame can be used for searching.\n",
    "- ##### How to search for DataSources: `FeatureStore.list_data_sources()` returns Teradata DataFrame. All the filter options available on Teradata DataFrame can be used for searching.\n",
    "- ##### How to search for FeatureGroups: `FeatureStore.list_feature_groups()` returns Teradata DataFrame. All the filter options available on Teradata DataFrame can be used for searching. "
   ]
  },
  {
   "cell_type": "code",
   "execution_count": 46,
   "metadata": {},
   "outputs": [
    {
     "data": {
      "text/plain": [
       "True"
      ]
     },
     "execution_count": 46,
     "metadata": {},
     "output_type": "execute_result"
    }
   ],
   "source": [
    "# Let's first create some more Features and register with repo. Then we can use same for searching.\n",
    "f1=Feature(name='PatientBMI', column=patient_profile_df.bmi)\n",
    "fs.apply(f1)"
   ]
  },
  {
   "cell_type": "code",
   "execution_count": 47,
   "metadata": {},
   "outputs": [
    {
     "data": {
      "text/html": [
       "<style type=\"text/css\">\n",
       "\ttable {border:ridge 5px;}\n",
       "\ttable td {border:inset 1px;}\n",
       "\ttable tr#HeaderRow {background-color:grey; color:white;}</style>\n",
       "<html><table>\n",
       "\t<tr id=\"HeaderRow\">\n",
       "\t\t<th>name</th>\n",
       "\t\t<th>column_name</th>\n",
       "\t\t<th>description</th>\n",
       "\t\t<th>tags</th>\n",
       "\t\t<th>data_type</th>\n",
       "\t\t<th>feature_type</th>\n",
       "\t\t<th>status</th>\n",
       "\t\t<th>creation_time</th>\n",
       "\t\t<th>modified_time</th>\n",
       "\t\t<th>group_name</th>\n",
       "\t</tr>\n",
       "\t<tr>\n",
       "\t\t<td>PatientBMI</td>\n",
       "\t\t<td>bmi</td>\n",
       "\t\t<td>None</td>\n",
       "\t\t<td>None</td>\n",
       "\t\t<td>FLOAT</td>\n",
       "\t\t<td>CONTINUOUS</td>\n",
       "\t\t<td>ACTIVE</td>\n",
       "\t\t<td>2024-10-18 09:44:15.268962</td>\n",
       "\t\t<td>None</td>\n",
       "\t\t<td>None</td>\n",
       "\t</tr>\n",
       "\t<tr>\n",
       "\t\t<td>PatientAge</td>\n",
       "\t\t<td>age</td>\n",
       "\t\t<td>None</td>\n",
       "\t\t<td>PatientProfile, PatientDetails</td>\n",
       "\t\t<td>BIGINT</td>\n",
       "\t\t<td>CONTINUOUS</td>\n",
       "\t\t<td>ACTIVE</td>\n",
       "\t\t<td>2024-10-18 09:41:31.294087</td>\n",
       "\t\t<td>2024-10-18 09:44:00.820498</td>\n",
       "\t\t<td>PatientProfileObjs</td>\n",
       "\t</tr>\n",
       "</table></html>"
      ],
      "text/plain": [
       "           column_name description                            tags data_type feature_type  status               creation_time               modified_time          group_name\n",
       "name                                                                                                                                                                         \n",
       "PatientBMI         bmi        None                            None     FLOAT   CONTINUOUS  ACTIVE  2024-10-18 09:44:15.268962                        None                None\n",
       "PatientAge         age        None  PatientProfile, PatientDetails    BIGINT   CONTINUOUS  ACTIVE  2024-10-18 09:41:31.294087  2024-10-18 09:44:00.820498  PatientProfileObjs"
      ]
     },
     "execution_count": 47,
     "metadata": {},
     "output_type": "execute_result"
    }
   ],
   "source": [
    "# First list the Features.\n",
    "fs.list_features()"
   ]
  },
  {
   "cell_type": "code",
   "execution_count": 49,
   "metadata": {},
   "outputs": [
    {
     "data": {
      "text/html": [
       "<style type=\"text/css\">\n",
       "\ttable {border:ridge 5px;}\n",
       "\ttable td {border:inset 1px;}\n",
       "\ttable tr#HeaderRow {background-color:grey; color:white;}</style>\n",
       "<html><table>\n",
       "\t<tr id=\"HeaderRow\">\n",
       "\t\t<th>name</th>\n",
       "\t\t<th>column_name</th>\n",
       "\t\t<th>description</th>\n",
       "\t\t<th>tags</th>\n",
       "\t\t<th>data_type</th>\n",
       "\t\t<th>feature_type</th>\n",
       "\t\t<th>status</th>\n",
       "\t\t<th>creation_time</th>\n",
       "\t\t<th>modified_time</th>\n",
       "\t\t<th>group_name</th>\n",
       "\t</tr>\n",
       "\t<tr>\n",
       "\t\t<td>PatientBMI</td>\n",
       "\t\t<td>bmi</td>\n",
       "\t\t<td>None</td>\n",
       "\t\t<td>None</td>\n",
       "\t\t<td>FLOAT</td>\n",
       "\t\t<td>CONTINUOUS</td>\n",
       "\t\t<td>ACTIVE</td>\n",
       "\t\t<td>2024-10-18 09:44:15.268962</td>\n",
       "\t\t<td>None</td>\n",
       "\t\t<td>None</td>\n",
       "\t</tr>\n",
       "\t<tr>\n",
       "\t\t<td>PatientAge</td>\n",
       "\t\t<td>age</td>\n",
       "\t\t<td>None</td>\n",
       "\t\t<td>PatientProfile, PatientDetails</td>\n",
       "\t\t<td>BIGINT</td>\n",
       "\t\t<td>CONTINUOUS</td>\n",
       "\t\t<td>ACTIVE</td>\n",
       "\t\t<td>2024-10-18 09:41:31.294087</td>\n",
       "\t\t<td>2024-10-18 09:44:00.820498</td>\n",
       "\t\t<td>PatientProfileObjs</td>\n",
       "\t</tr>\n",
       "</table></html>"
      ],
      "text/plain": [
       "           column_name description                            tags data_type feature_type  status               creation_time               modified_time          group_name\n",
       "name                                                                                                                                                                         \n",
       "PatientBMI         bmi        None                            None     FLOAT   CONTINUOUS  ACTIVE  2024-10-18 09:44:15.268962                        None                None\n",
       "PatientAge         age        None  PatientProfile, PatientDetails    BIGINT   CONTINUOUS  ACTIVE  2024-10-18 09:41:31.294087  2024-10-18 09:44:00.820498  PatientProfileObjs"
      ]
     },
     "execution_count": 49,
     "metadata": {},
     "output_type": "execute_result"
    }
   ],
   "source": [
    "# Filter the Features registerd at day 18. \n",
    "# Note: One can use all the filter options available on Teradata DataFrame. Look at user guide to look at available filter options.\n",
    "features_df = fs.list_features()\n",
    "features_df[features_df.creation_time.day_of_month()==18]"
   ]
  },
  {
   "cell_type": "markdown",
   "metadata": {},
   "source": [
    "<hr style=\"height:2px;border:none;background-color:#00233C;\">\n",
    "<b style = 'font-size:20px;font-family:Arial;color:#00233C'>4. Modifying FeatureStore Objects </b>"
   ]
  },
  {
   "cell_type": "markdown",
   "metadata": {},
   "source": [
    "#### Teradata EFS exposed below API's to get the objects from FeatureStore\n",
    "- ##### `FeatureStore.get_feature()` to get the `Feature` object from FeatureStore.\n",
    "- ##### `FeatureStore.get_entity()` to get the `Entity` object from FeatureStore.\n",
    "- ##### `FeatureStore.get_data_source()` to get the `DataSource` object from FeatureStore.\n",
    "- ##### `FeatureStore.get_feature_group()` to get the `FeatureGroup` object from FeatureStore.\n",
    "##### Use these API's to get corresponding object, modify the corresponding property, then again register object with repository using `FeatureStore.apply()`."
   ]
  },
  {
   "cell_type": "markdown",
   "metadata": {},
   "source": [
    "#### Update description for Feature `PatientAge`"
   ]
  },
  {
   "cell_type": "code",
   "execution_count": 50,
   "metadata": {},
   "outputs": [
    {
     "data": {
      "text/plain": [
       "Feature(name=PatientAge)"
      ]
     },
     "execution_count": 50,
     "metadata": {},
     "output_type": "execute_result"
    }
   ],
   "source": [
    "feature=fs.get_feature('PatientAge')\n",
    "feature"
   ]
  },
  {
   "cell_type": "code",
   "execution_count": 51,
   "metadata": {},
   "outputs": [
    {
     "data": {
      "text/plain": [
       "True"
      ]
     },
     "execution_count": 51,
     "metadata": {},
     "output_type": "execute_result"
    }
   ],
   "source": [
    "# Update Description and tags.\n",
    "feature.description=\"Patient's age for patient profile.\"\n",
    "feature.tags = ['PatientProfile']\n",
    "fs.apply(feature)"
   ]
  },
  {
   "cell_type": "code",
   "execution_count": 52,
   "metadata": {},
   "outputs": [
    {
     "data": {
      "text/html": [
       "<style type=\"text/css\">\n",
       "\ttable {border:ridge 5px;}\n",
       "\ttable td {border:inset 1px;}\n",
       "\ttable tr#HeaderRow {background-color:grey; color:white;}</style>\n",
       "<html><table>\n",
       "\t<tr id=\"HeaderRow\">\n",
       "\t\t<th>name</th>\n",
       "\t\t<th>column_name</th>\n",
       "\t\t<th>description</th>\n",
       "\t\t<th>tags</th>\n",
       "\t\t<th>data_type</th>\n",
       "\t\t<th>feature_type</th>\n",
       "\t\t<th>status</th>\n",
       "\t\t<th>creation_time</th>\n",
       "\t\t<th>modified_time</th>\n",
       "\t\t<th>group_name</th>\n",
       "\t</tr>\n",
       "\t<tr>\n",
       "\t\t<td>PatientBMI</td>\n",
       "\t\t<td>bmi</td>\n",
       "\t\t<td>None</td>\n",
       "\t\t<td>None</td>\n",
       "\t\t<td>FLOAT</td>\n",
       "\t\t<td>CONTINUOUS</td>\n",
       "\t\t<td>ACTIVE</td>\n",
       "\t\t<td>2024-10-18 09:44:15.268962</td>\n",
       "\t\t<td>None</td>\n",
       "\t\t<td>None</td>\n",
       "\t</tr>\n",
       "\t<tr>\n",
       "\t\t<td>PatientAge</td>\n",
       "\t\t<td>age</td>\n",
       "\t\t<td>Patient's age for patient profile.</td>\n",
       "\t\t<td>PatientProfile</td>\n",
       "\t\t<td>BIGINT</td>\n",
       "\t\t<td>CONTINUOUS</td>\n",
       "\t\t<td>ACTIVE</td>\n",
       "\t\t<td>2024-10-18 09:41:31.294087</td>\n",
       "\t\t<td>2024-10-18 09:45:00.961683</td>\n",
       "\t\t<td>PatientProfileObjs</td>\n",
       "\t</tr>\n",
       "</table></html>"
      ],
      "text/plain": [
       "           column_name                         description            tags data_type feature_type  status               creation_time               modified_time          group_name\n",
       "name                                                                                                                                                                                 \n",
       "PatientBMI         bmi                                None            None     FLOAT   CONTINUOUS  ACTIVE  2024-10-18 09:44:15.268962                        None                None\n",
       "PatientAge         age  Patient's age for patient profile.  PatientProfile    BIGINT   CONTINUOUS  ACTIVE  2024-10-18 09:41:31.294087  2024-10-18 09:45:00.961683  PatientProfileObjs"
      ]
     },
     "execution_count": 52,
     "metadata": {},
     "output_type": "execute_result"
    }
   ],
   "source": [
    "# Let's look at features again. Look for description column. \n",
    "fs.list_features()"
   ]
  },
  {
   "cell_type": "markdown",
   "metadata": {},
   "source": [
    "#### Update description for Entity `PatientEntity`"
   ]
  },
  {
   "cell_type": "code",
   "execution_count": 53,
   "metadata": {},
   "outputs": [
    {
     "data": {
      "text/html": [
       "<style type=\"text/css\">\n",
       "\ttable {border:ridge 5px;}\n",
       "\ttable td {border:inset 1px;}\n",
       "\ttable tr#HeaderRow {background-color:grey; color:white;}</style>\n",
       "<html><table>\n",
       "\t<tr id=\"HeaderRow\">\n",
       "\t\t<th>name</th>\n",
       "\t\t<th>description</th>\n",
       "\t\t<th>creation_time</th>\n",
       "\t\t<th>modified_time</th>\n",
       "\t\t<th>entity_column</th>\n",
       "\t</tr>\n",
       "\t<tr>\n",
       "\t\t<td>PatientEntity</td>\n",
       "\t\t<td>None</td>\n",
       "\t\t<td>2024-10-18 09:42:05.465919</td>\n",
       "\t\t<td>2024-10-18 09:44:00.863871</td>\n",
       "\t\t<td>patient_id</td>\n",
       "\t</tr>\n",
       "</table></html>"
      ],
      "text/plain": [
       "              description               creation_time               modified_time entity_column\n",
       "name                                                                                           \n",
       "PatientEntity        None  2024-10-18 09:42:05.465919  2024-10-18 09:44:00.863871    patient_id"
      ]
     },
     "execution_count": 53,
     "metadata": {},
     "output_type": "execute_result"
    }
   ],
   "source": [
    "# Before updating description, let's look at Entities.\n",
    "fs.list_entities()"
   ]
  },
  {
   "cell_type": "code",
   "execution_count": 54,
   "metadata": {},
   "outputs": [
    {
     "data": {
      "text/plain": [
       "Entity(name=PatientEntity)"
      ]
     },
     "execution_count": 54,
     "metadata": {},
     "output_type": "execute_result"
    }
   ],
   "source": [
    "# Get Entity from FeatureStore.\n",
    "entity = fs.get_entity('PatientEntity')\n",
    "entity"
   ]
  },
  {
   "cell_type": "code",
   "execution_count": 55,
   "metadata": {},
   "outputs": [
    {
     "data": {
      "text/plain": [
       "True"
      ]
     },
     "execution_count": 55,
     "metadata": {},
     "output_type": "execute_result"
    }
   ],
   "source": [
    "# Update Entity description.\n",
    "entity.description = \"Entity for Patient Profile.\"\n",
    "fs.apply(entity)"
   ]
  },
  {
   "cell_type": "code",
   "execution_count": 56,
   "metadata": {},
   "outputs": [
    {
     "data": {
      "text/html": [
       "<style type=\"text/css\">\n",
       "\ttable {border:ridge 5px;}\n",
       "\ttable td {border:inset 1px;}\n",
       "\ttable tr#HeaderRow {background-color:grey; color:white;}</style>\n",
       "<html><table>\n",
       "\t<tr id=\"HeaderRow\">\n",
       "\t\t<th>name</th>\n",
       "\t\t<th>description</th>\n",
       "\t\t<th>creation_time</th>\n",
       "\t\t<th>modified_time</th>\n",
       "\t\t<th>entity_column</th>\n",
       "\t</tr>\n",
       "\t<tr>\n",
       "\t\t<td>PatientEntity</td>\n",
       "\t\t<td>Entity for Patient Profile.</td>\n",
       "\t\t<td>2024-10-18 09:42:05.465919</td>\n",
       "\t\t<td>2024-10-18 09:45:24.025992</td>\n",
       "\t\t<td>patient_id</td>\n",
       "\t</tr>\n",
       "</table></html>"
      ],
      "text/plain": [
       "                               description               creation_time               modified_time entity_column\n",
       "name                                                                                                            \n",
       "PatientEntity  Entity for Patient Profile.  2024-10-18 09:42:05.465919  2024-10-18 09:45:24.025992    patient_id"
      ]
     },
     "execution_count": 56,
     "metadata": {},
     "output_type": "execute_result"
    }
   ],
   "source": [
    "# After updating description, let's look at Entities.\n",
    "fs.list_entities()"
   ]
  },
  {
   "cell_type": "markdown",
   "metadata": {},
   "source": [
    "#### Update `timestamp_col_name` for DataSource `PatientProfileSource`"
   ]
  },
  {
   "cell_type": "code",
   "execution_count": 57,
   "metadata": {},
   "outputs": [
    {
     "data": {
      "text/html": [
       "<style type=\"text/css\">\n",
       "\ttable {border:ridge 5px;}\n",
       "\ttable td {border:inset 1px;}\n",
       "\ttable tr#HeaderRow {background-color:grey; color:white;}</style>\n",
       "<html><table>\n",
       "\t<tr id=\"HeaderRow\">\n",
       "\t\t<th>name</th>\n",
       "\t\t<th>description</th>\n",
       "\t\t<th>timestamp_col_name</th>\n",
       "\t\t<th>source</th>\n",
       "\t\t<th>creation_time</th>\n",
       "\t\t<th>modified_time</th>\n",
       "\t</tr>\n",
       "\t<tr>\n",
       "\t\t<td>PatientProfileSource</td>\n",
       "\t\t<td>None</td>\n",
       "\t\t<td>None</td>\n",
       "\t\t<td>SELECT * FROM PATIENT_PROFILE</td>\n",
       "\t\t<td>2024-10-18 09:42:55.680803</td>\n",
       "\t\t<td>2024-10-18 09:44:00.972704</td>\n",
       "\t</tr>\n",
       "</table></html>"
      ],
      "text/plain": [
       "                     description timestamp_col_name                         source               creation_time               modified_time\n",
       "name                                                                                                                                      \n",
       "PatientProfileSource        None               None  SELECT * FROM PATIENT_PROFILE  2024-10-18 09:42:55.680803  2024-10-18 09:44:00.972704"
      ]
     },
     "execution_count": 57,
     "metadata": {},
     "output_type": "execute_result"
    }
   ],
   "source": [
    "# Before updating time stamp column, let's look at DataSource.\n",
    "fs.list_data_sources()"
   ]
  },
  {
   "cell_type": "code",
   "execution_count": 58,
   "metadata": {},
   "outputs": [
    {
     "data": {
      "text/plain": [
       "DataSource(name=PatientProfileSource)"
      ]
     },
     "execution_count": 58,
     "metadata": {},
     "output_type": "execute_result"
    }
   ],
   "source": [
    "# First get the DataSource.\n",
    "data_source = fs.get_data_source('PatientProfileSource')\n",
    "data_source"
   ]
  },
  {
   "cell_type": "code",
   "execution_count": 59,
   "metadata": {},
   "outputs": [
    {
     "data": {
      "text/plain": [
       "True"
      ]
     },
     "execution_count": 59,
     "metadata": {},
     "output_type": "execute_result"
    }
   ],
   "source": [
    "# Update time stamp column.\n",
    "data_source.timestamp_col_name = 'record_timestamp'\n",
    "fs.apply(data_source)"
   ]
  },
  {
   "cell_type": "code",
   "execution_count": 60,
   "metadata": {},
   "outputs": [
    {
     "data": {
      "text/html": [
       "<style type=\"text/css\">\n",
       "\ttable {border:ridge 5px;}\n",
       "\ttable td {border:inset 1px;}\n",
       "\ttable tr#HeaderRow {background-color:grey; color:white;}</style>\n",
       "<html><table>\n",
       "\t<tr id=\"HeaderRow\">\n",
       "\t\t<th>name</th>\n",
       "\t\t<th>description</th>\n",
       "\t\t<th>timestamp_col_name</th>\n",
       "\t\t<th>source</th>\n",
       "\t\t<th>creation_time</th>\n",
       "\t\t<th>modified_time</th>\n",
       "\t</tr>\n",
       "\t<tr>\n",
       "\t\t<td>PatientProfileSource</td>\n",
       "\t\t<td>None</td>\n",
       "\t\t<td>record_timestamp</td>\n",
       "\t\t<td>SELECT * FROM PATIENT_PROFILE</td>\n",
       "\t\t<td>2024-10-18 09:42:55.680803</td>\n",
       "\t\t<td>2024-10-18 09:45:54.985598</td>\n",
       "\t</tr>\n",
       "</table></html>"
      ],
      "text/plain": [
       "                     description timestamp_col_name                         source               creation_time               modified_time\n",
       "name                                                                                                                                      \n",
       "PatientProfileSource        None   record_timestamp  SELECT * FROM PATIENT_PROFILE  2024-10-18 09:42:55.680803  2024-10-18 09:45:54.985598"
      ]
     },
     "execution_count": 60,
     "metadata": {},
     "output_type": "execute_result"
    }
   ],
   "source": [
    "# After updating time stamp column, let's look at DataSource.\n",
    "fs.list_data_sources()"
   ]
  },
  {
   "cell_type": "markdown",
   "metadata": {},
   "source": [
    "#### Update `FeatureGroup` \n",
    "- ##### Note: Updating FeatureGroup will update the underlying Feature(s), DataSource, Entity."
   ]
  },
  {
   "cell_type": "code",
   "execution_count": 61,
   "metadata": {},
   "outputs": [
    {
     "data": {
      "text/html": [
       "<style type=\"text/css\">\n",
       "\ttable {border:ridge 5px;}\n",
       "\ttable td {border:inset 1px;}\n",
       "\ttable tr#HeaderRow {background-color:grey; color:white;}</style>\n",
       "<html><table>\n",
       "\t<tr id=\"HeaderRow\">\n",
       "\t\t<th>name</th>\n",
       "\t\t<th>description</th>\n",
       "\t\t<th>data_source_name</th>\n",
       "\t\t<th>entity_name</th>\n",
       "\t\t<th>creation_time</th>\n",
       "\t\t<th>modified_time</th>\n",
       "\t</tr>\n",
       "\t<tr>\n",
       "\t\t<td>PatientProfileObjs</td>\n",
       "\t\t<td>None</td>\n",
       "\t\t<td>PatientProfileSource</td>\n",
       "\t\t<td>PatientEntity</td>\n",
       "\t\t<td>2024-10-18 09:44:00.994420</td>\n",
       "\t\t<td>None</td>\n",
       "\t</tr>\n",
       "</table></html>"
      ],
      "text/plain": [
       "                   description      data_source_name    entity_name               creation_time modified_time\n",
       "name                                                                                                         \n",
       "PatientProfileObjs        None  PatientProfileSource  PatientEntity  2024-10-18 09:44:00.994420          None"
      ]
     },
     "execution_count": 61,
     "metadata": {},
     "output_type": "execute_result"
    }
   ],
   "source": [
    "# Before updating description, let's look at FeatureGroup.\n",
    "fs.list_feature_groups()"
   ]
  },
  {
   "cell_type": "code",
   "execution_count": 62,
   "metadata": {},
   "outputs": [
    {
     "data": {
      "text/html": [
       "<style type=\"text/css\">\n",
       "\ttable {border:ridge 5px;}\n",
       "\ttable td {border:inset 1px;}\n",
       "\ttable tr#HeaderRow {background-color:grey; color:white;}</style>\n",
       "<html><table>\n",
       "\t<tr id=\"HeaderRow\">\n",
       "\t\t<th>name</th>\n",
       "\t\t<th>description</th>\n",
       "\t\t<th>timestamp_col_name</th>\n",
       "\t\t<th>source</th>\n",
       "\t\t<th>creation_time</th>\n",
       "\t\t<th>modified_time</th>\n",
       "\t</tr>\n",
       "\t<tr>\n",
       "\t\t<td>PatientProfileSource</td>\n",
       "\t\t<td>None</td>\n",
       "\t\t<td>record_timestamp</td>\n",
       "\t\t<td>SELECT * FROM PATIENT_PROFILE</td>\n",
       "\t\t<td>2024-10-18 09:42:55.680803</td>\n",
       "\t\t<td>2024-10-18 09:45:54.985598</td>\n",
       "\t</tr>\n",
       "</table></html>"
      ],
      "text/plain": [
       "                     description timestamp_col_name                         source               creation_time               modified_time\n",
       "name                                                                                                                                      \n",
       "PatientProfileSource        None   record_timestamp  SELECT * FROM PATIENT_PROFILE  2024-10-18 09:42:55.680803  2024-10-18 09:45:54.985598"
      ]
     },
     "execution_count": 62,
     "metadata": {},
     "output_type": "execute_result"
    }
   ],
   "source": [
    "# Before updating description, let's look at DataSources.\n",
    "fs.list_data_sources()"
   ]
  },
  {
   "cell_type": "code",
   "execution_count": 63,
   "metadata": {},
   "outputs": [
    {
     "data": {
      "text/plain": [
       "True"
      ]
     },
     "execution_count": 63,
     "metadata": {},
     "output_type": "execute_result"
    }
   ],
   "source": [
    "# Get FeatureGroup.\n",
    "fg = fs.get_feature_group('PatientProfileObjs')\n",
    "\n",
    "# Update DataSource description and FeatureGroup description.\n",
    "fg.data_source.description = \"Data Source for Patient Profile.\"\n",
    "fg.description = \"FeatureGroup for Patient Profile.\"\n",
    "\n",
    "# Register FeatureGroup with FeatureStore.\n",
    "fs.apply(fg)"
   ]
  },
  {
   "cell_type": "code",
   "execution_count": 64,
   "metadata": {},
   "outputs": [
    {
     "data": {
      "text/html": [
       "<style type=\"text/css\">\n",
       "\ttable {border:ridge 5px;}\n",
       "\ttable td {border:inset 1px;}\n",
       "\ttable tr#HeaderRow {background-color:grey; color:white;}</style>\n",
       "<html><table>\n",
       "\t<tr id=\"HeaderRow\">\n",
       "\t\t<th>name</th>\n",
       "\t\t<th>description</th>\n",
       "\t\t<th>data_source_name</th>\n",
       "\t\t<th>entity_name</th>\n",
       "\t\t<th>creation_time</th>\n",
       "\t\t<th>modified_time</th>\n",
       "\t</tr>\n",
       "\t<tr>\n",
       "\t\t<td>PatientProfileObjs</td>\n",
       "\t\t<td>FeatureGroup for Patient Profile.</td>\n",
       "\t\t<td>PatientProfileSource</td>\n",
       "\t\t<td>PatientEntity</td>\n",
       "\t\t<td>2024-10-18 09:44:00.994420</td>\n",
       "\t\t<td>2024-10-18 09:46:25.247166</td>\n",
       "\t</tr>\n",
       "</table></html>"
      ],
      "text/plain": [
       "                                          description      data_source_name    entity_name               creation_time               modified_time\n",
       "name                                                                                                                                              \n",
       "PatientProfileObjs  FeatureGroup for Patient Profile.  PatientProfileSource  PatientEntity  2024-10-18 09:44:00.994420  2024-10-18 09:46:25.247166"
      ]
     },
     "execution_count": 64,
     "metadata": {},
     "output_type": "execute_result"
    }
   ],
   "source": [
    "# After updating description, let's look at FeatureGroup.\n",
    "fs.list_feature_groups()"
   ]
  },
  {
   "cell_type": "code",
   "execution_count": 65,
   "metadata": {},
   "outputs": [
    {
     "data": {
      "text/html": [
       "<style type=\"text/css\">\n",
       "\ttable {border:ridge 5px;}\n",
       "\ttable td {border:inset 1px;}\n",
       "\ttable tr#HeaderRow {background-color:grey; color:white;}</style>\n",
       "<html><table>\n",
       "\t<tr id=\"HeaderRow\">\n",
       "\t\t<th>name</th>\n",
       "\t\t<th>description</th>\n",
       "\t\t<th>timestamp_col_name</th>\n",
       "\t\t<th>source</th>\n",
       "\t\t<th>creation_time</th>\n",
       "\t\t<th>modified_time</th>\n",
       "\t</tr>\n",
       "\t<tr>\n",
       "\t\t<td>PatientProfileSource</td>\n",
       "\t\t<td>Data Source for Patient Profile.</td>\n",
       "\t\t<td>record_timestamp</td>\n",
       "\t\t<td>SELECT * FROM PATIENT_PROFILE</td>\n",
       "\t\t<td>2024-10-18 09:42:55.680803</td>\n",
       "\t\t<td>2024-10-18 09:46:25.205373</td>\n",
       "\t</tr>\n",
       "</table></html>"
      ],
      "text/plain": [
       "                                           description timestamp_col_name                         source               creation_time               modified_time\n",
       "name                                                                                                                                                            \n",
       "PatientProfileSource  Data Source for Patient Profile.   record_timestamp  SELECT * FROM PATIENT_PROFILE  2024-10-18 09:42:55.680803  2024-10-18 09:46:25.205373"
      ]
     },
     "execution_count": 65,
     "metadata": {},
     "output_type": "execute_result"
    }
   ],
   "source": [
    "# After updating description, let's look at DataSource.\n",
    "fs.list_data_sources()"
   ]
  },
  {
   "cell_type": "markdown",
   "metadata": {},
   "source": [
    "#### How to add a new Feature or change Entity or DataSource to an Existing FeatureGroup\n",
    "- ##### You can always modify FeatureGroup with `FeatureGroup.apply()` method.\n",
    "- ##### Note: `FeatureGroup.apply()` will not update details to `repo`. You should do `FeatureStore.apply()` to update repo."
   ]
  },
  {
   "cell_type": "code",
   "execution_count": 66,
   "metadata": {},
   "outputs": [
    {
     "data": {
      "text/html": [
       "<style type=\"text/css\">\n",
       "\ttable {border:ridge 5px;}\n",
       "\ttable td {border:inset 1px;}\n",
       "\ttable tr#HeaderRow {background-color:grey; color:white;}</style>\n",
       "<html><table>\n",
       "\t<tr id=\"HeaderRow\">\n",
       "\t\t<th>name</th>\n",
       "\t\t<th>column_name</th>\n",
       "\t\t<th>description</th>\n",
       "\t\t<th>tags</th>\n",
       "\t\t<th>data_type</th>\n",
       "\t\t<th>feature_type</th>\n",
       "\t\t<th>status</th>\n",
       "\t\t<th>creation_time</th>\n",
       "\t\t<th>modified_time</th>\n",
       "\t\t<th>group_name</th>\n",
       "\t</tr>\n",
       "\t<tr>\n",
       "\t\t<td>PatientBMI</td>\n",
       "\t\t<td>bmi</td>\n",
       "\t\t<td>None</td>\n",
       "\t\t<td>None</td>\n",
       "\t\t<td>FLOAT</td>\n",
       "\t\t<td>CONTINUOUS</td>\n",
       "\t\t<td>ACTIVE</td>\n",
       "\t\t<td>2024-10-18 09:44:15.268962</td>\n",
       "\t\t<td>None</td>\n",
       "\t\t<td>None</td>\n",
       "\t</tr>\n",
       "\t<tr>\n",
       "\t\t<td>PatientAge</td>\n",
       "\t\t<td>age</td>\n",
       "\t\t<td>Patient's age for patient profile.</td>\n",
       "\t\t<td>PatientProfile</td>\n",
       "\t\t<td>BIGINT</td>\n",
       "\t\t<td>CONTINUOUS</td>\n",
       "\t\t<td>ACTIVE</td>\n",
       "\t\t<td>2024-10-18 09:41:31.294087</td>\n",
       "\t\t<td>2024-10-18 09:46:25.053138</td>\n",
       "\t\t<td>PatientProfileObjs</td>\n",
       "\t</tr>\n",
       "</table></html>"
      ],
      "text/plain": [
       "           column_name                         description            tags data_type feature_type  status               creation_time               modified_time          group_name\n",
       "name                                                                                                                                                                                 \n",
       "PatientBMI         bmi                                None            None     FLOAT   CONTINUOUS  ACTIVE  2024-10-18 09:44:15.268962                        None                None\n",
       "PatientAge         age  Patient's age for patient profile.  PatientProfile    BIGINT   CONTINUOUS  ACTIVE  2024-10-18 09:41:31.294087  2024-10-18 09:46:25.053138  PatientProfileObjs"
      ]
     },
     "execution_count": 66,
     "metadata": {},
     "output_type": "execute_result"
    }
   ],
   "source": [
    "# Before adding Feature, let's look at available Features.\n",
    "fs.list_features()"
   ]
  },
  {
   "cell_type": "code",
   "execution_count": 67,
   "metadata": {},
   "outputs": [
    {
     "data": {
      "text/plain": [
       "True"
      ]
     },
     "execution_count": 67,
     "metadata": {},
     "output_type": "execute_result"
    }
   ],
   "source": [
    "# Let's add a new Feature for FeatureGroup PatientProfileObjs\n",
    "f2 = fs.get_feature('PatientBMI')\n",
    "# First register the Feature with FeatureGroup.\n",
    "fg.apply(f2)"
   ]
  },
  {
   "cell_type": "code",
   "execution_count": 68,
   "metadata": {},
   "outputs": [
    {
     "data": {
      "text/plain": [
       "True"
      ]
     },
     "execution_count": 68,
     "metadata": {},
     "output_type": "execute_result"
    }
   ],
   "source": [
    "# Then, Register FeatureGroup with FeatureStore.\n",
    "fs.apply(fg)"
   ]
  },
  {
   "cell_type": "code",
   "execution_count": 69,
   "metadata": {},
   "outputs": [
    {
     "data": {
      "text/html": [
       "<style type=\"text/css\">\n",
       "\ttable {border:ridge 5px;}\n",
       "\ttable td {border:inset 1px;}\n",
       "\ttable tr#HeaderRow {background-color:grey; color:white;}</style>\n",
       "<html><table>\n",
       "\t<tr id=\"HeaderRow\">\n",
       "\t\t<th>name</th>\n",
       "\t\t<th>column_name</th>\n",
       "\t\t<th>description</th>\n",
       "\t\t<th>tags</th>\n",
       "\t\t<th>data_type</th>\n",
       "\t\t<th>feature_type</th>\n",
       "\t\t<th>status</th>\n",
       "\t\t<th>creation_time</th>\n",
       "\t\t<th>modified_time</th>\n",
       "\t\t<th>group_name</th>\n",
       "\t</tr>\n",
       "\t<tr>\n",
       "\t\t<td>PatientBMI</td>\n",
       "\t\t<td>bmi</td>\n",
       "\t\t<td>None</td>\n",
       "\t\t<td>None</td>\n",
       "\t\t<td>FLOAT</td>\n",
       "\t\t<td>CONTINUOUS</td>\n",
       "\t\t<td>ACTIVE</td>\n",
       "\t\t<td>2024-10-18 09:44:15.268962</td>\n",
       "\t\t<td>2024-10-18 09:47:56.250386</td>\n",
       "\t\t<td>PatientProfileObjs</td>\n",
       "\t</tr>\n",
       "\t<tr>\n",
       "\t\t<td>PatientAge</td>\n",
       "\t\t<td>age</td>\n",
       "\t\t<td>Patient's age for patient profile.</td>\n",
       "\t\t<td>PatientProfile</td>\n",
       "\t\t<td>BIGINT</td>\n",
       "\t\t<td>CONTINUOUS</td>\n",
       "\t\t<td>ACTIVE</td>\n",
       "\t\t<td>2024-10-18 09:41:31.294087</td>\n",
       "\t\t<td>2024-10-18 09:47:56.207898</td>\n",
       "\t\t<td>PatientProfileObjs</td>\n",
       "\t</tr>\n",
       "</table></html>"
      ],
      "text/plain": [
       "           column_name                         description            tags data_type feature_type  status               creation_time               modified_time          group_name\n",
       "name                                                                                                                                                                                 \n",
       "PatientBMI         bmi                                None            None     FLOAT   CONTINUOUS  ACTIVE  2024-10-18 09:44:15.268962  2024-10-18 09:47:56.250386  PatientProfileObjs\n",
       "PatientAge         age  Patient's age for patient profile.  PatientProfile    BIGINT   CONTINUOUS  ACTIVE  2024-10-18 09:41:31.294087  2024-10-18 09:47:56.207898  PatientProfileObjs"
      ]
     },
     "execution_count": 69,
     "metadata": {},
     "output_type": "execute_result"
    }
   ],
   "source": [
    "# Let's look at Features.\n",
    "fs.list_features()"
   ]
  },
  {
   "cell_type": "markdown",
   "metadata": {},
   "source": [
    "#### How to remove a new Feature from an Existing FeatureGroup\n",
    "- ##### You can use `FeatureGroup.remove()` method to remove object from FeatureGroup.\n",
    "- ##### Note: `FeatureGroup.remove()` will not update details to `repo`. You should do `FeatureStore.apply()` to update repo."
   ]
  },
  {
   "cell_type": "code",
   "execution_count": 70,
   "metadata": {},
   "outputs": [
    {
     "data": {
      "text/plain": [
       "True"
      ]
     },
     "execution_count": 70,
     "metadata": {},
     "output_type": "execute_result"
    }
   ],
   "source": [
    "# Let's remove Feature `PatientBMI` from FeatureGroup `PatientProfileObjs`.\n",
    "fg.remove(f2)"
   ]
  },
  {
   "cell_type": "code",
   "execution_count": 71,
   "metadata": {},
   "outputs": [
    {
     "data": {
      "text/plain": [
       "True"
      ]
     },
     "execution_count": 71,
     "metadata": {},
     "output_type": "execute_result"
    }
   ],
   "source": [
    "# Update FeatureGroup with FeatureStore.\n",
    "fs.apply(fg)"
   ]
  },
  {
   "cell_type": "code",
   "execution_count": 72,
   "metadata": {},
   "outputs": [
    {
     "data": {
      "text/html": [
       "<style type=\"text/css\">\n",
       "\ttable {border:ridge 5px;}\n",
       "\ttable td {border:inset 1px;}\n",
       "\ttable tr#HeaderRow {background-color:grey; color:white;}</style>\n",
       "<html><table>\n",
       "\t<tr id=\"HeaderRow\">\n",
       "\t\t<th>name</th>\n",
       "\t\t<th>column_name</th>\n",
       "\t\t<th>description</th>\n",
       "\t\t<th>tags</th>\n",
       "\t\t<th>data_type</th>\n",
       "\t\t<th>feature_type</th>\n",
       "\t\t<th>status</th>\n",
       "\t\t<th>creation_time</th>\n",
       "\t\t<th>modified_time</th>\n",
       "\t\t<th>group_name</th>\n",
       "\t</tr>\n",
       "\t<tr>\n",
       "\t\t<td>PatientBMI</td>\n",
       "\t\t<td>bmi</td>\n",
       "\t\t<td>None</td>\n",
       "\t\t<td>None</td>\n",
       "\t\t<td>FLOAT</td>\n",
       "\t\t<td>CONTINUOUS</td>\n",
       "\t\t<td>ACTIVE</td>\n",
       "\t\t<td>2024-10-18 09:44:15.268962</td>\n",
       "\t\t<td>2024-10-18 09:47:56.250386</td>\n",
       "\t\t<td>None</td>\n",
       "\t</tr>\n",
       "\t<tr>\n",
       "\t\t<td>PatientAge</td>\n",
       "\t\t<td>age</td>\n",
       "\t\t<td>Patient's age for patient profile.</td>\n",
       "\t\t<td>PatientProfile</td>\n",
       "\t\t<td>BIGINT</td>\n",
       "\t\t<td>CONTINUOUS</td>\n",
       "\t\t<td>ACTIVE</td>\n",
       "\t\t<td>2024-10-18 09:41:31.294087</td>\n",
       "\t\t<td>2024-10-18 09:48:31.080967</td>\n",
       "\t\t<td>PatientProfileObjs</td>\n",
       "\t</tr>\n",
       "</table></html>"
      ],
      "text/plain": [
       "           column_name                         description            tags data_type feature_type  status               creation_time               modified_time          group_name\n",
       "name                                                                                                                                                                                 \n",
       "PatientBMI         bmi                                None            None     FLOAT   CONTINUOUS  ACTIVE  2024-10-18 09:44:15.268962  2024-10-18 09:47:56.250386                None\n",
       "PatientAge         age  Patient's age for patient profile.  PatientProfile    BIGINT   CONTINUOUS  ACTIVE  2024-10-18 09:41:31.294087  2024-10-18 09:48:31.080967  PatientProfileObjs"
      ]
     },
     "execution_count": 72,
     "metadata": {},
     "output_type": "execute_result"
    }
   ],
   "source": [
    "# Let's look at Features.\n",
    "fs.list_features()"
   ]
  },
  {
   "cell_type": "code",
   "execution_count": 73,
   "metadata": {},
   "outputs": [
    {
     "data": {
      "text/html": [
       "<style type=\"text/css\">\n",
       "\ttable {border:ridge 5px;}\n",
       "\ttable td {border:inset 1px;}\n",
       "\ttable tr#HeaderRow {background-color:grey; color:white;}</style>\n",
       "<html><table>\n",
       "\t<tr id=\"HeaderRow\">\n",
       "\t\t<th>name</th>\n",
       "\t\t<th>description</th>\n",
       "\t\t<th>data_source_name</th>\n",
       "\t\t<th>entity_name</th>\n",
       "\t\t<th>creation_time</th>\n",
       "\t\t<th>modified_time</th>\n",
       "\t</tr>\n",
       "\t<tr>\n",
       "\t\t<td>PatientProfileObjs</td>\n",
       "\t\t<td>FeatureGroup for Patient Profile.</td>\n",
       "\t\t<td>PatientProfileSource</td>\n",
       "\t\t<td>PatientEntity</td>\n",
       "\t\t<td>2024-10-18 09:44:00.994420</td>\n",
       "\t\t<td>2024-10-18 09:48:31.277138</td>\n",
       "\t</tr>\n",
       "</table></html>"
      ],
      "text/plain": [
       "                                          description      data_source_name    entity_name               creation_time               modified_time\n",
       "name                                                                                                                                              \n",
       "PatientProfileObjs  FeatureGroup for Patient Profile.  PatientProfileSource  PatientEntity  2024-10-18 09:44:00.994420  2024-10-18 09:48:31.277138"
      ]
     },
     "execution_count": 73,
     "metadata": {},
     "output_type": "execute_result"
    }
   ],
   "source": [
    "# Let's look at FeatureGroups.\n",
    "fs.list_feature_groups()"
   ]
  },
  {
   "cell_type": "markdown",
   "metadata": {},
   "source": [
    "<hr style=\"height:2px;border:none;background-color:#00233C;\">\n",
    "<b style = 'font-size:20px;font-family:Arial;color:#00233C'>5. Combining multiple FeatureGroups </b>"
   ]
  },
  {
   "cell_type": "markdown",
   "metadata": {},
   "source": [
    "- ##### One can combine multiple FeatureGroups to a single group using `+` operator. Once you combine multiple FeatureGroups, you will again get a new FeatureGroup. The name of new FeatureGroup is combined name of all FeatureGroups. For example, if you are combining FeatureGroups `group1`, `group2`, `group3`, then the new name is `group1_group2_group3` . You can change the name if you are looking to.\n",
    "- ##### New FeatureGroup will have Features from all the individual FeatureGroups.\n",
    "- ##### When you are combining multiple FeatureGroups, corresponding `Entity` and `time_stamp_column` should be same for all individual FeatureGroups."
   ]
  },
  {
   "cell_type": "code",
   "execution_count": 74,
   "metadata": {},
   "outputs": [],
   "source": [
    "# Let's first create individual FeatureGroups first.\n",
    "patient_profile_fg = FeatureGroup.from_DataFrame(\n",
    "    name='PatientProfile', \n",
    "    df=patient_profile_df, \n",
    "    entity_columns='patient_id', \n",
    "    timestamp_col_name='record_timestamp'\n",
    ")\n",
    "medical_readings_fg = FeatureGroup.from_DataFrame(\n",
    "    name='MedicalReadings', \n",
    "    df=medical_readings_df, \n",
    "    entity_columns='patient_id', \n",
    "    timestamp_col_name='record_timestamp'\n",
    ")"
   ]
  },
  {
   "cell_type": "code",
   "execution_count": 75,
   "metadata": {},
   "outputs": [
    {
     "data": {
      "text/plain": [
       "[Feature(name=pregnancies),\n",
       " Feature(name=age),\n",
       " Feature(name=bmi),\n",
       " Feature(name=skin_thickness)]"
      ]
     },
     "execution_count": 75,
     "metadata": {},
     "output_type": "execute_result"
    }
   ],
   "source": [
    "# Look at Features first for FeatureGroups.\n",
    "patient_profile_fg.features"
   ]
  },
  {
   "cell_type": "code",
   "execution_count": 76,
   "metadata": {},
   "outputs": [
    {
     "data": {
      "text/plain": [
       "[Feature(name=glucose),\n",
       " Feature(name=blood_pressure),\n",
       " Feature(name=insulin),\n",
       " Feature(name=diabetes_pedigree_function),\n",
       " Feature(name=outcome)]"
      ]
     },
     "execution_count": 76,
     "metadata": {},
     "output_type": "execute_result"
    }
   ],
   "source": [
    "medical_readings_fg.features"
   ]
  },
  {
   "cell_type": "code",
   "execution_count": 77,
   "metadata": {},
   "outputs": [],
   "source": [
    "# Create new FeatureGroup.\n",
    "combined_fg = patient_profile_fg + medical_readings_fg"
   ]
  },
  {
   "cell_type": "code",
   "execution_count": 78,
   "metadata": {},
   "outputs": [
    {
     "data": {
      "text/plain": [
       "'PatientProfile_MedicalReadings'"
      ]
     },
     "execution_count": 78,
     "metadata": {},
     "output_type": "execute_result"
    }
   ],
   "source": [
    "# Look at new FeatureGroup name.\n",
    "combined_fg.name"
   ]
  },
  {
   "cell_type": "code",
   "execution_count": 79,
   "metadata": {},
   "outputs": [
    {
     "data": {
      "text/plain": [
       "[Feature(name=pregnancies),\n",
       " Feature(name=age),\n",
       " Feature(name=bmi),\n",
       " Feature(name=skin_thickness),\n",
       " Feature(name=glucose),\n",
       " Feature(name=blood_pressure),\n",
       " Feature(name=insulin),\n",
       " Feature(name=diabetes_pedigree_function),\n",
       " Feature(name=outcome)]"
      ]
     },
     "execution_count": 79,
     "metadata": {},
     "output_type": "execute_result"
    }
   ],
   "source": [
    "# Look at combined features.\n",
    "combined_fg.features"
   ]
  },
  {
   "cell_type": "code",
   "execution_count": 80,
   "metadata": {},
   "outputs": [
    {
     "data": {
      "text/plain": [
       "True"
      ]
     },
     "execution_count": 80,
     "metadata": {},
     "output_type": "execute_result"
    }
   ],
   "source": [
    "# Push individual FeatureGroups and also Combined FeatureGroup.\n",
    "fs.apply(patient_profile_fg)"
   ]
  },
  {
   "cell_type": "code",
   "execution_count": 81,
   "metadata": {},
   "outputs": [
    {
     "data": {
      "text/plain": [
       "True"
      ]
     },
     "execution_count": 81,
     "metadata": {},
     "output_type": "execute_result"
    }
   ],
   "source": [
    "# Push individual FeatureGroups and also Combined FeatureGroup.\n",
    "fs.apply(medical_readings_fg)"
   ]
  },
  {
   "cell_type": "code",
   "execution_count": 82,
   "metadata": {},
   "outputs": [
    {
     "data": {
      "text/plain": [
       "True"
      ]
     },
     "execution_count": 82,
     "metadata": {},
     "output_type": "execute_result"
    }
   ],
   "source": [
    "# Push individual FeatureGroups and also Combined FeatureGroup.\n",
    "fs.apply(combined_fg)"
   ]
  },
  {
   "cell_type": "code",
   "execution_count": 83,
   "metadata": {},
   "outputs": [
    {
     "data": {
      "text/html": [
       "<style type=\"text/css\">\n",
       "\ttable {border:ridge 5px;}\n",
       "\ttable td {border:inset 1px;}\n",
       "\ttable tr#HeaderRow {background-color:grey; color:white;}</style>\n",
       "<html><table>\n",
       "\t<tr id=\"HeaderRow\">\n",
       "\t\t<th>name</th>\n",
       "\t\t<th>description</th>\n",
       "\t\t<th>data_source_name</th>\n",
       "\t\t<th>entity_name</th>\n",
       "\t\t<th>creation_time</th>\n",
       "\t\t<th>modified_time</th>\n",
       "\t</tr>\n",
       "\t<tr>\n",
       "\t\t<td>MedicalReadings</td>\n",
       "\t\t<td>None</td>\n",
       "\t\t<td>MedicalReadings</td>\n",
       "\t\t<td>MedicalReadings</td>\n",
       "\t\t<td>2024-10-18 09:49:06.464922</td>\n",
       "\t\t<td>None</td>\n",
       "\t</tr>\n",
       "\t<tr>\n",
       "\t\t<td>PatientProfile</td>\n",
       "\t\t<td>None</td>\n",
       "\t\t<td>PatientProfile</td>\n",
       "\t\t<td>PatientProfile</td>\n",
       "\t\t<td>2024-10-18 09:49:03.150774</td>\n",
       "\t\t<td>None</td>\n",
       "\t</tr>\n",
       "\t<tr>\n",
       "\t\t<td>PatientProfile_MedicalReadings</td>\n",
       "\t\t<td>Combined FeatureGroup for groups PatientProfile and MedicalReadings.</td>\n",
       "\t\t<td>PatientProfile_MedicalReadings</td>\n",
       "\t\t<td>PatientProfile_MedicalReadings</td>\n",
       "\t\t<td>2024-10-18 09:49:09.855764</td>\n",
       "\t\t<td>None</td>\n",
       "\t</tr>\n",
       "\t<tr>\n",
       "\t\t<td>PatientProfileObjs</td>\n",
       "\t\t<td>FeatureGroup for Patient Profile.</td>\n",
       "\t\t<td>PatientProfileSource</td>\n",
       "\t\t<td>PatientEntity</td>\n",
       "\t\t<td>2024-10-18 09:44:00.994420</td>\n",
       "\t\t<td>2024-10-18 09:48:31.277138</td>\n",
       "\t</tr>\n",
       "</table></html>"
      ],
      "text/plain": [
       "                                                                                         description                data_source_name                     entity_name               creation_time               modified_time\n",
       "name                                                                                                                                                                                                                        \n",
       "MedicalReadings                                                                                 None                 MedicalReadings                 MedicalReadings  2024-10-18 09:49:06.464922                        None\n",
       "PatientProfile                                                                                  None                  PatientProfile                  PatientProfile  2024-10-18 09:49:03.150774                        None\n",
       "PatientProfile_MedicalReadings  Combined FeatureGroup for groups PatientProfile and MedicalReadings.  PatientProfile_MedicalReadings  PatientProfile_MedicalReadings  2024-10-18 09:49:09.855764                        None\n",
       "PatientProfileObjs                                                 FeatureGroup for Patient Profile.            PatientProfileSource                   PatientEntity  2024-10-18 09:44:00.994420  2024-10-18 09:48:31.277138"
      ]
     },
     "execution_count": 83,
     "metadata": {},
     "output_type": "execute_result"
    }
   ],
   "source": [
    "# Let's look at FeatureGroups.\n",
    "fs.list_feature_groups()"
   ]
  },
  {
   "cell_type": "code",
   "execution_count": 84,
   "metadata": {},
   "outputs": [
    {
     "data": {
      "text/html": [
       "<style type=\"text/css\">\n",
       "\ttable {border:ridge 5px;}\n",
       "\ttable td {border:inset 1px;}\n",
       "\ttable tr#HeaderRow {background-color:grey; color:white;}</style>\n",
       "<html><table>\n",
       "\t<tr id=\"HeaderRow\">\n",
       "\t\t<th>name</th>\n",
       "\t\t<th>description</th>\n",
       "\t\t<th>timestamp_col_name</th>\n",
       "\t\t<th>source</th>\n",
       "\t\t<th>creation_time</th>\n",
       "\t\t<th>modified_time</th>\n",
       "\t</tr>\n",
       "\t<tr>\n",
       "\t\t<td>PatientProfile</td>\n",
       "\t\t<td>None</td>\n",
       "\t\t<td>record_timestamp</td>\n",
       "\t\t<td>select * from \"patient_profile\"</td>\n",
       "\t\t<td>2024-10-18 09:49:03.109021</td>\n",
       "\t\t<td>None</td>\n",
       "\t</tr>\n",
       "\t<tr>\n",
       "\t\t<td>PatientProfileSource</td>\n",
       "\t\t<td>Data Source for Patient Profile.</td>\n",
       "\t\t<td>record_timestamp</td>\n",
       "\t\t<td>SELECT * FROM PATIENT_PROFILE</td>\n",
       "\t\t<td>2024-10-18 09:42:55.680803</td>\n",
       "\t\t<td>2024-10-18 09:48:31.255960</td>\n",
       "\t</tr>\n",
       "\t<tr>\n",
       "\t\t<td>MedicalReadings</td>\n",
       "\t\t<td>None</td>\n",
       "\t\t<td>record_timestamp</td>\n",
       "\t\t<td>select * from \"medical_readings\"</td>\n",
       "\t\t<td>2024-10-18 09:49:06.422885</td>\n",
       "\t\t<td>None</td>\n",
       "\t</tr>\n",
       "\t<tr>\n",
       "\t\t<td>PatientProfile_MedicalReadings</td>\n",
       "\t\t<td>Combined DataSource for PatientProfile and MedicalReadings</td>\n",
       "\t\t<td>record_timestamp</td>\n",
       "\t\t<td>\n",
       "                SELECT A.patient_id, A.record_timestamp, A.pregnancies, A.age, A.bmi, A.skin_thickness, B.glucose, B.blood_pressure, B.insulin, B.diabetes_pedigree_function, B.outcome\n",
       "                FROM (select * from \"patient_profile\") AS A, (select * from \"medical_readings\") AS B\n",
       "                WHERE A.patient_id = B.patient_id AND A.record_timestamp = B.record_timestamp\n",
       "                </td>\n",
       "\t\t<td>2024-10-18 09:49:09.813927</td>\n",
       "\t\t<td>None</td>\n",
       "\t</tr>\n",
       "</table></html>"
      ],
      "text/plain": [
       "                                                                               description timestamp_col_name                                                                                                                                                                                                                                                                                                                                                                                                            source               creation_time               modified_time\n",
       "name                                                                                                                                                                                                                                                                                                                                                                                                                                                                                                                                                                                   \n",
       "PatientProfile                                                                        None   record_timestamp                                                                                                                                                                                                                                                                                                                                                                                   select * from \"patient_profile\"  2024-10-18 09:49:03.109021                        None\n",
       "PatientProfileSource                                      Data Source for Patient Profile.   record_timestamp                                                                                                                                                                                                                                                                                                                                                                                     SELECT * FROM PATIENT_PROFILE  2024-10-18 09:42:55.680803  2024-10-18 09:48:31.255960\n",
       "MedicalReadings                                                                       None   record_timestamp                                                                                                                                                                                                                                                                                                                                                                                  select * from \"medical_readings\"  2024-10-18 09:49:06.422885                        None\n",
       "PatientProfile_MedicalReadings  Combined DataSource for PatientProfile and MedicalReadings   record_timestamp  \\n                SELECT A.patient_id, A.record_timestamp, A.pregnancies, A.age, A.bmi, A.skin_thickness, B.glucose, B.blood_pressure, B.insulin, B.diabetes_pedigree_function, B.outcome\\n                FROM (select * from \"patient_profile\") AS A, (select * from \"medical_readings\") AS B\\n                WHERE A.patient_id = B.patient_id AND A.record_timestamp = B.record_timestamp\\n                  2024-10-18 09:49:09.813927                        None"
      ]
     },
     "execution_count": 84,
     "metadata": {},
     "output_type": "execute_result"
    }
   ],
   "source": [
    "# Let's look at DataSources.\n",
    "fs.list_data_sources()"
   ]
  },
  {
   "cell_type": "code",
   "execution_count": 85,
   "metadata": {},
   "outputs": [
    {
     "data": {
      "text/html": [
       "<style type=\"text/css\">\n",
       "\ttable {border:ridge 5px;}\n",
       "\ttable td {border:inset 1px;}\n",
       "\ttable tr#HeaderRow {background-color:grey; color:white;}</style>\n",
       "<html><table>\n",
       "\t<tr id=\"HeaderRow\">\n",
       "\t\t<th>name</th>\n",
       "\t\t<th>description</th>\n",
       "\t\t<th>creation_time</th>\n",
       "\t\t<th>modified_time</th>\n",
       "\t\t<th>entity_column</th>\n",
       "\t</tr>\n",
       "\t<tr>\n",
       "\t\t<td>PatientProfile</td>\n",
       "\t\t<td>None</td>\n",
       "\t\t<td>2024-10-18 09:49:03.019868</td>\n",
       "\t\t<td>None</td>\n",
       "\t\t<td>patient_id</td>\n",
       "\t</tr>\n",
       "\t<tr>\n",
       "\t\t<td>PatientEntity</td>\n",
       "\t\t<td>Entity for Patient Profile.</td>\n",
       "\t\t<td>2024-10-18 09:42:05.465919</td>\n",
       "\t\t<td>2024-10-18 09:48:31.126957</td>\n",
       "\t\t<td>patient_id</td>\n",
       "\t</tr>\n",
       "\t<tr>\n",
       "\t\t<td>MedicalReadings</td>\n",
       "\t\t<td>None</td>\n",
       "\t\t<td>2024-10-18 09:49:06.294178</td>\n",
       "\t\t<td>None</td>\n",
       "\t\t<td>patient_id</td>\n",
       "\t</tr>\n",
       "\t<tr>\n",
       "\t\t<td>PatientProfile_MedicalReadings</td>\n",
       "\t\t<td>None</td>\n",
       "\t\t<td>2024-10-18 09:49:09.706350</td>\n",
       "\t\t<td>None</td>\n",
       "\t\t<td>patient_id</td>\n",
       "\t</tr>\n",
       "</table></html>"
      ],
      "text/plain": [
       "                                                description               creation_time               modified_time entity_column\n",
       "name                                                                                                                             \n",
       "PatientProfile                                         None  2024-10-18 09:49:03.019868                        None    patient_id\n",
       "PatientEntity                   Entity for Patient Profile.  2024-10-18 09:42:05.465919  2024-10-18 09:48:31.126957    patient_id\n",
       "MedicalReadings                                        None  2024-10-18 09:49:06.294178                        None    patient_id\n",
       "PatientProfile_MedicalReadings                         None  2024-10-18 09:49:09.706350                        None    patient_id"
      ]
     },
     "execution_count": 85,
     "metadata": {},
     "output_type": "execute_result"
    }
   ],
   "source": [
    "# Let's look at Entities.\n",
    "fs.list_entities()"
   ]
  },
  {
   "cell_type": "code",
   "execution_count": 86,
   "metadata": {},
   "outputs": [
    {
     "data": {
      "text/html": [
       "<style type=\"text/css\">\n",
       "\ttable {border:ridge 5px;}\n",
       "\ttable td {border:inset 1px;}\n",
       "\ttable tr#HeaderRow {background-color:grey; color:white;}</style>\n",
       "<html><table>\n",
       "\t<tr id=\"HeaderRow\">\n",
       "\t\t<th>name</th>\n",
       "\t\t<th>column_name</th>\n",
       "\t\t<th>description</th>\n",
       "\t\t<th>tags</th>\n",
       "\t\t<th>data_type</th>\n",
       "\t\t<th>feature_type</th>\n",
       "\t\t<th>status</th>\n",
       "\t\t<th>creation_time</th>\n",
       "\t\t<th>modified_time</th>\n",
       "\t\t<th>group_name</th>\n",
       "\t</tr>\n",
       "\t<tr>\n",
       "\t\t<td>PatientAge</td>\n",
       "\t\t<td>age</td>\n",
       "\t\t<td>Patient's age for patient profile.</td>\n",
       "\t\t<td>PatientProfile</td>\n",
       "\t\t<td>BIGINT</td>\n",
       "\t\t<td>CONTINUOUS</td>\n",
       "\t\t<td>ACTIVE</td>\n",
       "\t\t<td>2024-10-18 09:41:31.294087</td>\n",
       "\t\t<td>2024-10-18 09:48:31.080967</td>\n",
       "\t\t<td>PatientProfileObjs</td>\n",
       "\t</tr>\n",
       "\t<tr>\n",
       "\t\t<td>bmi</td>\n",
       "\t\t<td>bmi</td>\n",
       "\t\t<td>None</td>\n",
       "\t\t<td>None</td>\n",
       "\t\t<td>FLOAT</td>\n",
       "\t\t<td>CONTINUOUS</td>\n",
       "\t\t<td>ACTIVE</td>\n",
       "\t\t<td>2024-10-18 09:49:02.936402</td>\n",
       "\t\t<td>2024-10-18 09:49:09.552748</td>\n",
       "\t\t<td>PatientProfile_MedicalReadings</td>\n",
       "\t</tr>\n",
       "\t<tr>\n",
       "\t\t<td>bmi</td>\n",
       "\t\t<td>bmi</td>\n",
       "\t\t<td>None</td>\n",
       "\t\t<td>None</td>\n",
       "\t\t<td>FLOAT</td>\n",
       "\t\t<td>CONTINUOUS</td>\n",
       "\t\t<td>ACTIVE</td>\n",
       "\t\t<td>2024-10-18 09:49:02.936402</td>\n",
       "\t\t<td>2024-10-18 09:49:09.552748</td>\n",
       "\t\t<td>PatientProfile</td>\n",
       "\t</tr>\n",
       "\t<tr>\n",
       "\t\t<td>age</td>\n",
       "\t\t<td>age</td>\n",
       "\t\t<td>None</td>\n",
       "\t\t<td>None</td>\n",
       "\t\t<td>BIGINT</td>\n",
       "\t\t<td>CONTINUOUS</td>\n",
       "\t\t<td>ACTIVE</td>\n",
       "\t\t<td>2024-10-18 09:49:02.894388</td>\n",
       "\t\t<td>2024-10-18 09:49:09.530402</td>\n",
       "\t\t<td>PatientProfile</td>\n",
       "\t</tr>\n",
       "\t<tr>\n",
       "\t\t<td>skin_thickness</td>\n",
       "\t\t<td>skin_thickness</td>\n",
       "\t\t<td>None</td>\n",
       "\t\t<td>None</td>\n",
       "\t\t<td>FLOAT</td>\n",
       "\t\t<td>CONTINUOUS</td>\n",
       "\t\t<td>ACTIVE</td>\n",
       "\t\t<td>2024-10-18 09:49:02.978316</td>\n",
       "\t\t<td>2024-10-18 09:49:09.574718</td>\n",
       "\t\t<td>PatientProfile_MedicalReadings</td>\n",
       "\t</tr>\n",
       "\t<tr>\n",
       "\t\t<td>skin_thickness</td>\n",
       "\t\t<td>skin_thickness</td>\n",
       "\t\t<td>None</td>\n",
       "\t\t<td>None</td>\n",
       "\t\t<td>FLOAT</td>\n",
       "\t\t<td>CONTINUOUS</td>\n",
       "\t\t<td>ACTIVE</td>\n",
       "\t\t<td>2024-10-18 09:49:02.978316</td>\n",
       "\t\t<td>2024-10-18 09:49:09.574718</td>\n",
       "\t\t<td>PatientProfile</td>\n",
       "\t</tr>\n",
       "\t<tr>\n",
       "\t\t<td>blood_pressure</td>\n",
       "\t\t<td>blood_pressure</td>\n",
       "\t\t<td>None</td>\n",
       "\t\t<td>None</td>\n",
       "\t\t<td>BIGINT</td>\n",
       "\t\t<td>CONTINUOUS</td>\n",
       "\t\t<td>ACTIVE</td>\n",
       "\t\t<td>2024-10-18 09:49:06.164910</td>\n",
       "\t\t<td>2024-10-18 09:49:09.618582</td>\n",
       "\t\t<td>PatientProfile_MedicalReadings</td>\n",
       "\t</tr>\n",
       "\t<tr>\n",
       "\t\t<td>blood_pressure</td>\n",
       "\t\t<td>blood_pressure</td>\n",
       "\t\t<td>None</td>\n",
       "\t\t<td>None</td>\n",
       "\t\t<td>BIGINT</td>\n",
       "\t\t<td>CONTINUOUS</td>\n",
       "\t\t<td>ACTIVE</td>\n",
       "\t\t<td>2024-10-18 09:49:06.164910</td>\n",
       "\t\t<td>2024-10-18 09:49:09.618582</td>\n",
       "\t\t<td>MedicalReadings</td>\n",
       "\t</tr>\n",
       "\t<tr>\n",
       "\t\t<td>age</td>\n",
       "\t\t<td>age</td>\n",
       "\t\t<td>None</td>\n",
       "\t\t<td>None</td>\n",
       "\t\t<td>BIGINT</td>\n",
       "\t\t<td>CONTINUOUS</td>\n",
       "\t\t<td>ACTIVE</td>\n",
       "\t\t<td>2024-10-18 09:49:02.894388</td>\n",
       "\t\t<td>2024-10-18 09:49:09.530402</td>\n",
       "\t\t<td>PatientProfile_MedicalReadings</td>\n",
       "\t</tr>\n",
       "\t<tr>\n",
       "\t\t<td>PatientBMI</td>\n",
       "\t\t<td>bmi</td>\n",
       "\t\t<td>None</td>\n",
       "\t\t<td>None</td>\n",
       "\t\t<td>FLOAT</td>\n",
       "\t\t<td>CONTINUOUS</td>\n",
       "\t\t<td>ACTIVE</td>\n",
       "\t\t<td>2024-10-18 09:44:15.268962</td>\n",
       "\t\t<td>2024-10-18 09:47:56.250386</td>\n",
       "\t\t<td>None</td>\n",
       "\t</tr>\n",
       "</table></html>"
      ],
      "text/plain": [
       "                   column_name                         description            tags data_type feature_type  status               creation_time               modified_time                      group_name\n",
       "name                                                                                                                                                                                                     \n",
       "PatientAge                 age  Patient's age for patient profile.  PatientProfile    BIGINT   CONTINUOUS  ACTIVE  2024-10-18 09:41:31.294087  2024-10-18 09:48:31.080967              PatientProfileObjs\n",
       "bmi                        bmi                                None            None     FLOAT   CONTINUOUS  ACTIVE  2024-10-18 09:49:02.936402  2024-10-18 09:49:09.552748  PatientProfile_MedicalReadings\n",
       "bmi                        bmi                                None            None     FLOAT   CONTINUOUS  ACTIVE  2024-10-18 09:49:02.936402  2024-10-18 09:49:09.552748                  PatientProfile\n",
       "age                        age                                None            None    BIGINT   CONTINUOUS  ACTIVE  2024-10-18 09:49:02.894388  2024-10-18 09:49:09.530402                  PatientProfile\n",
       "skin_thickness  skin_thickness                                None            None     FLOAT   CONTINUOUS  ACTIVE  2024-10-18 09:49:02.978316  2024-10-18 09:49:09.574718  PatientProfile_MedicalReadings\n",
       "skin_thickness  skin_thickness                                None            None     FLOAT   CONTINUOUS  ACTIVE  2024-10-18 09:49:02.978316  2024-10-18 09:49:09.574718                  PatientProfile\n",
       "blood_pressure  blood_pressure                                None            None    BIGINT   CONTINUOUS  ACTIVE  2024-10-18 09:49:06.164910  2024-10-18 09:49:09.618582  PatientProfile_MedicalReadings\n",
       "blood_pressure  blood_pressure                                None            None    BIGINT   CONTINUOUS  ACTIVE  2024-10-18 09:49:06.164910  2024-10-18 09:49:09.618582                 MedicalReadings\n",
       "age                        age                                None            None    BIGINT   CONTINUOUS  ACTIVE  2024-10-18 09:49:02.894388  2024-10-18 09:49:09.530402  PatientProfile_MedicalReadings\n",
       "PatientBMI                 bmi                                None            None     FLOAT   CONTINUOUS  ACTIVE  2024-10-18 09:44:15.268962  2024-10-18 09:47:56.250386                            None"
      ]
     },
     "execution_count": 86,
     "metadata": {},
     "output_type": "execute_result"
    }
   ],
   "source": [
    "# Let's look at Features after pushing all FeatureGroups.\n",
    "fs.list_features()"
   ]
  },
  {
   "cell_type": "code",
   "execution_count": 87,
   "metadata": {},
   "outputs": [
    {
     "data": {
      "text/html": [
       "<style type=\"text/css\">\n",
       "\ttable {border:ridge 5px;}\n",
       "\ttable td {border:inset 1px;}\n",
       "\ttable tr#HeaderRow {background-color:grey; color:white;}</style>\n",
       "<html><table>\n",
       "\t<tr id=\"HeaderRow\">\n",
       "\t\t<th>name</th>\n",
       "\t\t<th>column_name</th>\n",
       "\t\t<th>description</th>\n",
       "\t\t<th>tags</th>\n",
       "\t\t<th>data_type</th>\n",
       "\t\t<th>feature_type</th>\n",
       "\t\t<th>status</th>\n",
       "\t\t<th>creation_time</th>\n",
       "\t\t<th>modified_time</th>\n",
       "\t\t<th>group_name</th>\n",
       "\t</tr>\n",
       "\t<tr>\n",
       "\t\t<td>blood_pressure</td>\n",
       "\t\t<td>blood_pressure</td>\n",
       "\t\t<td>None</td>\n",
       "\t\t<td>None</td>\n",
       "\t\t<td>BIGINT</td>\n",
       "\t\t<td>CONTINUOUS</td>\n",
       "\t\t<td>ACTIVE</td>\n",
       "\t\t<td>2024-10-18 09:49:06.164910</td>\n",
       "\t\t<td>2024-10-18 09:49:09.618582</td>\n",
       "\t\t<td>MedicalReadings</td>\n",
       "\t</tr>\n",
       "\t<tr>\n",
       "\t\t<td>blood_pressure</td>\n",
       "\t\t<td>blood_pressure</td>\n",
       "\t\t<td>None</td>\n",
       "\t\t<td>None</td>\n",
       "\t\t<td>BIGINT</td>\n",
       "\t\t<td>CONTINUOUS</td>\n",
       "\t\t<td>ACTIVE</td>\n",
       "\t\t<td>2024-10-18 09:49:06.164910</td>\n",
       "\t\t<td>2024-10-18 09:49:09.618582</td>\n",
       "\t\t<td>PatientProfile_MedicalReadings</td>\n",
       "\t</tr>\n",
       "</table></html>"
      ],
      "text/plain": [
       "                   column_name description  tags data_type feature_type  status               creation_time               modified_time                      group_name\n",
       "name                                                                                                                                                                   \n",
       "blood_pressure  blood_pressure        None  None    BIGINT   CONTINUOUS  ACTIVE  2024-10-18 09:49:06.164910  2024-10-18 09:49:09.618582                 MedicalReadings\n",
       "blood_pressure  blood_pressure        None  None    BIGINT   CONTINUOUS  ACTIVE  2024-10-18 09:49:06.164910  2024-10-18 09:49:09.618582  PatientProfile_MedicalReadings"
      ]
     },
     "execution_count": 87,
     "metadata": {},
     "output_type": "execute_result"
    }
   ],
   "source": [
    "# Filter the features to understand the data more. Note that, Feature `blood_pressure` is mapped to two FeatureGroups.\n",
    "features_df = fs.list_features()\n",
    "features_df = features_df[features_df.name == 'blood_pressure']\n",
    "features_df"
   ]
  },
  {
   "cell_type": "markdown",
   "metadata": {},
   "source": [
    "<hr style=\"height:2px;border:none;background-color:#00233C;\">\n",
    "<b style = 'font-size:20px;font-family:Arial;color:#00233C'>6. Archive and Delete objects in FeatureStore </b>"
   ]
  },
  {
   "cell_type": "markdown",
   "metadata": {},
   "source": [
    "- ##### Archive and Delete are two different operations and they are not same in FeatureStore.\n",
    "- ##### Archive stages objects instead of removing it completly from FeatureStore. Archived objects will not be part of any further processing.\n",
    "  - ##### use `FeatureStore.archive_feature()` to archive a Feature. `FeatureStore.list_features(archived=True)` lists archived Features.\n",
    "  - ##### use `FeatureStore.archive_feature()` to archive a Entity. `FeatureStore.list_entities(archived=True)` lists archived Entities.\n",
    "  - ##### use `FeatureStore.archive_data_source()` to archive a DataSource. `FeatureStore.list_data_sources(archived=True)` to list archived DataSources.\n",
    "  - ##### use `FeatureStore.archive_feature_group()` to archive a FeatureGroup. `FeatureStore.list_feature_groups(archived=True)` to list archived FeatureGroups.\n",
    "- ##### Archiving FeatureGroup will archive the corresponding Feature, Entity and DataSource.\n",
    "- ##### If a Feature is associated with a FeatureGroup, it can not be archived. First the Feature should be removed from FeatureGroup and then archive it.\n",
    "- ##### If an Entity is associated with a FeatureGroup, it can not be archived. First the Entity should be removed from FeatureGroup and then archive it.\n",
    "- ##### If a DataSource is associated with a FeatureGroup, it can not be archived. First the DataSource should be removed from FeatureGroup and then archive it.\n",
    "- ##### Delete will remove the archived objects.\n",
    "  - ##### use `FeatureStore.delete_feature()` to delete a Feature.\n",
    "  - ##### use `FeatureStore.delete_entity()` to delete a Entity.\n",
    "  - ##### use `FeatureStore.delete_data_source()` to delete a DataSource.\n",
    "  - ##### use `FeatureStore.delete_feature_group()` to delete a FeatureGroup.\n",
    "- ##### Deleting FeatureGroup <u><b> will not </b></u> remove corresponding archived Features or archived Entities or archived DataSources. You should delete these with corresponding API's."
   ]
  },
  {
   "cell_type": "markdown",
   "metadata": {},
   "source": [
    "#### Archive a Feature. Delete the archived Feature."
   ]
  },
  {
   "cell_type": "code",
   "execution_count": 88,
   "metadata": {},
   "outputs": [
    {
     "data": {
      "text/html": [
       "<style type=\"text/css\">\n",
       "\ttable {border:ridge 5px;}\n",
       "\ttable td {border:inset 1px;}\n",
       "\ttable tr#HeaderRow {background-color:grey; color:white;}</style>\n",
       "<html><table>\n",
       "\t<tr id=\"HeaderRow\">\n",
       "\t\t<th>name</th>\n",
       "\t\t<th>column_name</th>\n",
       "\t\t<th>description</th>\n",
       "\t\t<th>tags</th>\n",
       "\t\t<th>data_type</th>\n",
       "\t\t<th>feature_type</th>\n",
       "\t\t<th>status</th>\n",
       "\t\t<th>creation_time</th>\n",
       "\t\t<th>modified_time</th>\n",
       "\t\t<th>group_name</th>\n",
       "\t</tr>\n",
       "\t<tr>\n",
       "\t\t<td>PatientBMI</td>\n",
       "\t\t<td>bmi</td>\n",
       "\t\t<td>None</td>\n",
       "\t\t<td>None</td>\n",
       "\t\t<td>FLOAT</td>\n",
       "\t\t<td>CONTINUOUS</td>\n",
       "\t\t<td>ACTIVE</td>\n",
       "\t\t<td>2024-10-18 09:44:15.268962</td>\n",
       "\t\t<td>2024-10-18 09:47:56.250386</td>\n",
       "\t\t<td>None</td>\n",
       "\t</tr>\n",
       "</table></html>"
      ],
      "text/plain": [
       "           column_name description  tags data_type feature_type  status               creation_time               modified_time group_name\n",
       "name                                                                                                                                      \n",
       "PatientBMI         bmi        None  None     FLOAT   CONTINUOUS  ACTIVE  2024-10-18 09:44:15.268962  2024-10-18 09:47:56.250386       None"
      ]
     },
     "execution_count": 88,
     "metadata": {},
     "output_type": "execute_result"
    }
   ],
   "source": [
    "# Let's first look at Features which are not associated with any FeatureGroup.\n",
    "features_df = fs.list_features()\n",
    "features_df[features_df.group_name == None]"
   ]
  },
  {
   "cell_type": "code",
   "execution_count": 89,
   "metadata": {},
   "outputs": [
    {
     "data": {
      "text/html": [
       "<style type=\"text/css\">\n",
       "\ttable {border:ridge 5px;}\n",
       "\ttable td {border:inset 1px;}\n",
       "\ttable tr#HeaderRow {background-color:grey; color:white;}</style>\n",
       "<html><table>\n",
       "\t<tr id=\"HeaderRow\">\n",
       "\t\t<th>name</th>\n",
       "\t\t<th>column_name</th>\n",
       "\t\t<th>description</th>\n",
       "\t\t<th>tags</th>\n",
       "\t\t<th>data_type</th>\n",
       "\t\t<th>feature_type</th>\n",
       "\t\t<th>status</th>\n",
       "\t\t<th>creation_time</th>\n",
       "\t\t<th>modified_time</th>\n",
       "\t\t<th>archived_time</th>\n",
       "\t\t<th>group_name</th>\n",
       "\t</tr>\n",
       "</table></html>"
      ],
      "text/plain": [
       "Empty DataFrame\n",
       "Columns: [name, column_name, description, tags, data_type, feature_type, status, creation_time, modified_time, archived_time, group_name]\n",
       "Index: []"
      ]
     },
     "execution_count": 89,
     "metadata": {},
     "output_type": "execute_result"
    }
   ],
   "source": [
    "# Let's archive the Feature `PatientBMI`. Before archiving Feature, let's look at features which are archived.\n",
    "fs.list_features(archived=True)"
   ]
  },
  {
   "cell_type": "code",
   "execution_count": 90,
   "metadata": {},
   "outputs": [
    {
     "name": "stdout",
     "output_type": "stream",
     "text": [
      "Feature 'PatientBMI' is archived.\n"
     ]
    },
    {
     "data": {
      "text/plain": [
       "True"
      ]
     },
     "execution_count": 90,
     "metadata": {},
     "output_type": "execute_result"
    }
   ],
   "source": [
    "# Archive it.\n",
    "fs.archive_feature('PatientBMI')"
   ]
  },
  {
   "cell_type": "code",
   "execution_count": 91,
   "metadata": {},
   "outputs": [
    {
     "data": {
      "text/html": [
       "<style type=\"text/css\">\n",
       "\ttable {border:ridge 5px;}\n",
       "\ttable td {border:inset 1px;}\n",
       "\ttable tr#HeaderRow {background-color:grey; color:white;}</style>\n",
       "<html><table>\n",
       "\t<tr id=\"HeaderRow\">\n",
       "\t\t<th>name</th>\n",
       "\t\t<th>column_name</th>\n",
       "\t\t<th>description</th>\n",
       "\t\t<th>tags</th>\n",
       "\t\t<th>data_type</th>\n",
       "\t\t<th>feature_type</th>\n",
       "\t\t<th>status</th>\n",
       "\t\t<th>creation_time</th>\n",
       "\t\t<th>modified_time</th>\n",
       "\t\t<th>archived_time</th>\n",
       "\t\t<th>group_name</th>\n",
       "\t</tr>\n",
       "\t<tr>\n",
       "\t\t<td>PatientBMI</td>\n",
       "\t\t<td>bmi</td>\n",
       "\t\t<td>None</td>\n",
       "\t\t<td>None</td>\n",
       "\t\t<td>FLOAT</td>\n",
       "\t\t<td>CONTINUOUS</td>\n",
       "\t\t<td>ACTIVE</td>\n",
       "\t\t<td>2024-10-18 09:44:15.268962</td>\n",
       "\t\t<td>2024-10-18 09:47:56.250386</td>\n",
       "\t\t<td>2024-10-18 09:58:49.380000</td>\n",
       "\t\t<td>PatientProfileObjs</td>\n",
       "\t</tr>\n",
       "</table></html>"
      ],
      "text/plain": [
       "         name column_name description  tags data_type feature_type  status               creation_time               modified_time               archived_time          group_name\n",
       "0  PatientBMI         bmi        None  None     FLOAT   CONTINUOUS  ACTIVE  2024-10-18 09:44:15.268962  2024-10-18 09:47:56.250386  2024-10-18 09:58:49.380000  PatientProfileObjs"
      ]
     },
     "execution_count": 91,
     "metadata": {},
     "output_type": "execute_result"
    }
   ],
   "source": [
    "# Let's look at archived Features.\n",
    "fs.list_features(archived=True)"
   ]
  },
  {
   "cell_type": "code",
   "execution_count": 92,
   "metadata": {},
   "outputs": [
    {
     "name": "stdout",
     "output_type": "stream",
     "text": [
      "Feature 'PatientBMI' is deleted.\n"
     ]
    },
    {
     "data": {
      "text/plain": [
       "True"
      ]
     },
     "execution_count": 92,
     "metadata": {},
     "output_type": "execute_result"
    }
   ],
   "source": [
    "# Delete the archived Feature.\n",
    "fs.delete_feature('PatientBMI')"
   ]
  },
  {
   "cell_type": "code",
   "execution_count": 93,
   "metadata": {},
   "outputs": [
    {
     "data": {
      "text/html": [
       "<style type=\"text/css\">\n",
       "\ttable {border:ridge 5px;}\n",
       "\ttable td {border:inset 1px;}\n",
       "\ttable tr#HeaderRow {background-color:grey; color:white;}</style>\n",
       "<html><table>\n",
       "\t<tr id=\"HeaderRow\">\n",
       "\t\t<th>name</th>\n",
       "\t\t<th>column_name</th>\n",
       "\t\t<th>description</th>\n",
       "\t\t<th>tags</th>\n",
       "\t\t<th>data_type</th>\n",
       "\t\t<th>feature_type</th>\n",
       "\t\t<th>status</th>\n",
       "\t\t<th>creation_time</th>\n",
       "\t\t<th>modified_time</th>\n",
       "\t\t<th>archived_time</th>\n",
       "\t\t<th>group_name</th>\n",
       "\t</tr>\n",
       "</table></html>"
      ],
      "text/plain": [
       "Empty DataFrame\n",
       "Columns: [name, column_name, description, tags, data_type, feature_type, status, creation_time, modified_time, archived_time, group_name]\n",
       "Index: []"
      ]
     },
     "execution_count": 93,
     "metadata": {},
     "output_type": "execute_result"
    }
   ],
   "source": [
    "# Let's look at archived Features again.\n",
    "fs.list_features(archived=True)"
   ]
  },
  {
   "cell_type": "markdown",
   "metadata": {},
   "source": [
    "#### Archive a FeatureGroup. Delete the archived objects."
   ]
  },
  {
   "cell_type": "code",
   "execution_count": 94,
   "metadata": {},
   "outputs": [
    {
     "data": {
      "text/html": [
       "<style type=\"text/css\">\n",
       "\ttable {border:ridge 5px;}\n",
       "\ttable td {border:inset 1px;}\n",
       "\ttable tr#HeaderRow {background-color:grey; color:white;}</style>\n",
       "<html><table>\n",
       "\t<tr id=\"HeaderRow\">\n",
       "\t\t<th>name</th>\n",
       "\t\t<th>column_name</th>\n",
       "\t\t<th>description</th>\n",
       "\t\t<th>tags</th>\n",
       "\t\t<th>data_type</th>\n",
       "\t\t<th>feature_type</th>\n",
       "\t\t<th>status</th>\n",
       "\t\t<th>creation_time</th>\n",
       "\t\t<th>modified_time</th>\n",
       "\t\t<th>group_name</th>\n",
       "\t</tr>\n",
       "\t<tr>\n",
       "\t\t<td>pregnancies</td>\n",
       "\t\t<td>pregnancies</td>\n",
       "\t\t<td>None</td>\n",
       "\t\t<td>None</td>\n",
       "\t\t<td>BIGINT</td>\n",
       "\t\t<td>CONTINUOUS</td>\n",
       "\t\t<td>ACTIVE</td>\n",
       "\t\t<td>2024-10-18 09:49:02.829843</td>\n",
       "\t\t<td>2024-10-18 09:49:09.484713</td>\n",
       "\t\t<td>PatientProfile</td>\n",
       "\t</tr>\n",
       "\t<tr>\n",
       "\t\t<td>bmi</td>\n",
       "\t\t<td>bmi</td>\n",
       "\t\t<td>None</td>\n",
       "\t\t<td>None</td>\n",
       "\t\t<td>FLOAT</td>\n",
       "\t\t<td>CONTINUOUS</td>\n",
       "\t\t<td>ACTIVE</td>\n",
       "\t\t<td>2024-10-18 09:49:02.936402</td>\n",
       "\t\t<td>2024-10-18 09:49:09.552748</td>\n",
       "\t\t<td>PatientProfile</td>\n",
       "\t</tr>\n",
       "\t<tr>\n",
       "\t\t<td>skin_thickness</td>\n",
       "\t\t<td>skin_thickness</td>\n",
       "\t\t<td>None</td>\n",
       "\t\t<td>None</td>\n",
       "\t\t<td>FLOAT</td>\n",
       "\t\t<td>CONTINUOUS</td>\n",
       "\t\t<td>ACTIVE</td>\n",
       "\t\t<td>2024-10-18 09:49:02.978316</td>\n",
       "\t\t<td>2024-10-18 09:49:09.574718</td>\n",
       "\t\t<td>PatientProfile</td>\n",
       "\t</tr>\n",
       "\t<tr>\n",
       "\t\t<td>age</td>\n",
       "\t\t<td>age</td>\n",
       "\t\t<td>None</td>\n",
       "\t\t<td>None</td>\n",
       "\t\t<td>BIGINT</td>\n",
       "\t\t<td>CONTINUOUS</td>\n",
       "\t\t<td>ACTIVE</td>\n",
       "\t\t<td>2024-10-18 09:49:02.894388</td>\n",
       "\t\t<td>2024-10-18 09:49:09.530402</td>\n",
       "\t\t<td>PatientProfile</td>\n",
       "\t</tr>\n",
       "</table></html>"
      ],
      "text/plain": [
       "                   column_name description  tags data_type feature_type  status               creation_time               modified_time      group_name\n",
       "name                                                                                                                                                   \n",
       "pregnancies        pregnancies        None  None    BIGINT   CONTINUOUS  ACTIVE  2024-10-18 09:49:02.829843  2024-10-18 09:49:09.484713  PatientProfile\n",
       "bmi                        bmi        None  None     FLOAT   CONTINUOUS  ACTIVE  2024-10-18 09:49:02.936402  2024-10-18 09:49:09.552748  PatientProfile\n",
       "skin_thickness  skin_thickness        None  None     FLOAT   CONTINUOUS  ACTIVE  2024-10-18 09:49:02.978316  2024-10-18 09:49:09.574718  PatientProfile\n",
       "age                        age        None  None    BIGINT   CONTINUOUS  ACTIVE  2024-10-18 09:49:02.894388  2024-10-18 09:49:09.530402  PatientProfile"
      ]
     },
     "execution_count": 94,
     "metadata": {},
     "output_type": "execute_result"
    }
   ],
   "source": [
    "# Before archiving group, let's look at Features for FeatureGroup. \n",
    "features_df[features_df.group_name == 'PatientProfile']"
   ]
  },
  {
   "cell_type": "code",
   "execution_count": 95,
   "metadata": {},
   "outputs": [
    {
     "data": {
      "text/html": [
       "<style type=\"text/css\">\n",
       "\ttable {border:ridge 5px;}\n",
       "\ttable td {border:inset 1px;}\n",
       "\ttable tr#HeaderRow {background-color:grey; color:white;}</style>\n",
       "<html><table>\n",
       "\t<tr id=\"HeaderRow\">\n",
       "\t\t<th>name</th>\n",
       "\t\t<th>column_name</th>\n",
       "\t\t<th>description</th>\n",
       "\t\t<th>tags</th>\n",
       "\t\t<th>data_type</th>\n",
       "\t\t<th>feature_type</th>\n",
       "\t\t<th>status</th>\n",
       "\t\t<th>creation_time</th>\n",
       "\t\t<th>modified_time</th>\n",
       "\t\t<th>group_name</th>\n",
       "\t</tr>\n",
       "\t<tr>\n",
       "\t\t<td>skin_thickness</td>\n",
       "\t\t<td>skin_thickness</td>\n",
       "\t\t<td>None</td>\n",
       "\t\t<td>None</td>\n",
       "\t\t<td>FLOAT</td>\n",
       "\t\t<td>CONTINUOUS</td>\n",
       "\t\t<td>ACTIVE</td>\n",
       "\t\t<td>2024-10-18 09:49:02.978316</td>\n",
       "\t\t<td>2024-10-18 09:49:09.574718</td>\n",
       "\t\t<td>PatientProfile</td>\n",
       "\t</tr>\n",
       "\t<tr>\n",
       "\t\t<td>pregnancies</td>\n",
       "\t\t<td>pregnancies</td>\n",
       "\t\t<td>None</td>\n",
       "\t\t<td>None</td>\n",
       "\t\t<td>BIGINT</td>\n",
       "\t\t<td>CONTINUOUS</td>\n",
       "\t\t<td>ACTIVE</td>\n",
       "\t\t<td>2024-10-18 09:49:02.829843</td>\n",
       "\t\t<td>2024-10-18 09:49:09.484713</td>\n",
       "\t\t<td>PatientProfile</td>\n",
       "\t</tr>\n",
       "\t<tr>\n",
       "\t\t<td>pregnancies</td>\n",
       "\t\t<td>pregnancies</td>\n",
       "\t\t<td>None</td>\n",
       "\t\t<td>None</td>\n",
       "\t\t<td>BIGINT</td>\n",
       "\t\t<td>CONTINUOUS</td>\n",
       "\t\t<td>ACTIVE</td>\n",
       "\t\t<td>2024-10-18 09:49:02.829843</td>\n",
       "\t\t<td>2024-10-18 09:49:09.484713</td>\n",
       "\t\t<td>PatientProfile_MedicalReadings</td>\n",
       "\t</tr>\n",
       "\t<tr>\n",
       "\t\t<td>bmi</td>\n",
       "\t\t<td>bmi</td>\n",
       "\t\t<td>None</td>\n",
       "\t\t<td>None</td>\n",
       "\t\t<td>FLOAT</td>\n",
       "\t\t<td>CONTINUOUS</td>\n",
       "\t\t<td>ACTIVE</td>\n",
       "\t\t<td>2024-10-18 09:49:02.936402</td>\n",
       "\t\t<td>2024-10-18 09:49:09.552748</td>\n",
       "\t\t<td>PatientProfile_MedicalReadings</td>\n",
       "\t</tr>\n",
       "\t<tr>\n",
       "\t\t<td>bmi</td>\n",
       "\t\t<td>bmi</td>\n",
       "\t\t<td>None</td>\n",
       "\t\t<td>None</td>\n",
       "\t\t<td>FLOAT</td>\n",
       "\t\t<td>CONTINUOUS</td>\n",
       "\t\t<td>ACTIVE</td>\n",
       "\t\t<td>2024-10-18 09:49:02.936402</td>\n",
       "\t\t<td>2024-10-18 09:49:09.552748</td>\n",
       "\t\t<td>PatientProfile</td>\n",
       "\t</tr>\n",
       "\t<tr>\n",
       "\t\t<td>skin_thickness</td>\n",
       "\t\t<td>skin_thickness</td>\n",
       "\t\t<td>None</td>\n",
       "\t\t<td>None</td>\n",
       "\t\t<td>FLOAT</td>\n",
       "\t\t<td>CONTINUOUS</td>\n",
       "\t\t<td>ACTIVE</td>\n",
       "\t\t<td>2024-10-18 09:49:02.978316</td>\n",
       "\t\t<td>2024-10-18 09:49:09.574718</td>\n",
       "\t\t<td>PatientProfile_MedicalReadings</td>\n",
       "\t</tr>\n",
       "\t<tr>\n",
       "\t\t<td>age</td>\n",
       "\t\t<td>age</td>\n",
       "\t\t<td>None</td>\n",
       "\t\t<td>None</td>\n",
       "\t\t<td>BIGINT</td>\n",
       "\t\t<td>CONTINUOUS</td>\n",
       "\t\t<td>ACTIVE</td>\n",
       "\t\t<td>2024-10-18 09:49:02.894388</td>\n",
       "\t\t<td>2024-10-18 09:49:09.530402</td>\n",
       "\t\t<td>PatientProfile</td>\n",
       "\t</tr>\n",
       "\t<tr>\n",
       "\t\t<td>age</td>\n",
       "\t\t<td>age</td>\n",
       "\t\t<td>None</td>\n",
       "\t\t<td>None</td>\n",
       "\t\t<td>BIGINT</td>\n",
       "\t\t<td>CONTINUOUS</td>\n",
       "\t\t<td>ACTIVE</td>\n",
       "\t\t<td>2024-10-18 09:49:02.894388</td>\n",
       "\t\t<td>2024-10-18 09:49:09.530402</td>\n",
       "\t\t<td>PatientProfile_MedicalReadings</td>\n",
       "\t</tr>\n",
       "</table></html>"
      ],
      "text/plain": [
       "                   column_name description  tags data_type feature_type  status               creation_time               modified_time                      group_name\n",
       "name                                                                                                                                                                   \n",
       "skin_thickness  skin_thickness        None  None     FLOAT   CONTINUOUS  ACTIVE  2024-10-18 09:49:02.978316  2024-10-18 09:49:09.574718                  PatientProfile\n",
       "pregnancies        pregnancies        None  None    BIGINT   CONTINUOUS  ACTIVE  2024-10-18 09:49:02.829843  2024-10-18 09:49:09.484713                  PatientProfile\n",
       "pregnancies        pregnancies        None  None    BIGINT   CONTINUOUS  ACTIVE  2024-10-18 09:49:02.829843  2024-10-18 09:49:09.484713  PatientProfile_MedicalReadings\n",
       "bmi                        bmi        None  None     FLOAT   CONTINUOUS  ACTIVE  2024-10-18 09:49:02.936402  2024-10-18 09:49:09.552748  PatientProfile_MedicalReadings\n",
       "bmi                        bmi        None  None     FLOAT   CONTINUOUS  ACTIVE  2024-10-18 09:49:02.936402  2024-10-18 09:49:09.552748                  PatientProfile\n",
       "skin_thickness  skin_thickness        None  None     FLOAT   CONTINUOUS  ACTIVE  2024-10-18 09:49:02.978316  2024-10-18 09:49:09.574718  PatientProfile_MedicalReadings\n",
       "age                        age        None  None    BIGINT   CONTINUOUS  ACTIVE  2024-10-18 09:49:02.894388  2024-10-18 09:49:09.530402                  PatientProfile\n",
       "age                        age        None  None    BIGINT   CONTINUOUS  ACTIVE  2024-10-18 09:49:02.894388  2024-10-18 09:49:09.530402  PatientProfile_MedicalReadings"
      ]
     },
     "execution_count": 95,
     "metadata": {},
     "output_type": "execute_result"
    }
   ],
   "source": [
    "# Note: These Features are mapped to other FeatureGroups also.\n",
    "features_df[(\n",
    "    (features_df.name == 'skin_thickness') | (features_df.name == 'pregnancies') | (features_df.name == 'age') | (features_df.name == 'bmi')\n",
    ")]"
   ]
  },
  {
   "cell_type": "code",
   "execution_count": 96,
   "metadata": {},
   "outputs": [
    {
     "data": {
      "text/html": [
       "<style type=\"text/css\">\n",
       "\ttable {border:ridge 5px;}\n",
       "\ttable td {border:inset 1px;}\n",
       "\ttable tr#HeaderRow {background-color:grey; color:white;}</style>\n",
       "<html><table>\n",
       "\t<tr id=\"HeaderRow\">\n",
       "\t\t<th>name</th>\n",
       "\t\t<th>description</th>\n",
       "\t\t<th>timestamp_col_name</th>\n",
       "\t\t<th>source</th>\n",
       "\t\t<th>creation_time</th>\n",
       "\t\t<th>modified_time</th>\n",
       "\t</tr>\n",
       "\t<tr>\n",
       "\t\t<td>MedicalReadings</td>\n",
       "\t\t<td>None</td>\n",
       "\t\t<td>record_timestamp</td>\n",
       "\t\t<td>select * from \"medical_readings\"</td>\n",
       "\t\t<td>2024-10-18 09:49:06.422885</td>\n",
       "\t\t<td>None</td>\n",
       "\t</tr>\n",
       "\t<tr>\n",
       "\t\t<td>PatientProfile</td>\n",
       "\t\t<td>None</td>\n",
       "\t\t<td>record_timestamp</td>\n",
       "\t\t<td>select * from \"patient_profile\"</td>\n",
       "\t\t<td>2024-10-18 09:49:03.109021</td>\n",
       "\t\t<td>None</td>\n",
       "\t</tr>\n",
       "\t<tr>\n",
       "\t\t<td>PatientProfile_MedicalReadings</td>\n",
       "\t\t<td>Combined DataSource for PatientProfile and MedicalReadings</td>\n",
       "\t\t<td>record_timestamp</td>\n",
       "\t\t<td>\n",
       "                SELECT A.patient_id, A.record_timestamp, A.pregnancies, A.age, A.bmi, A.skin_thickness, B.glucose, B.blood_pressure, B.insulin, B.diabetes_pedigree_function, B.outcome\n",
       "                FROM (select * from \"patient_profile\") AS A, (select * from \"medical_readings\") AS B\n",
       "                WHERE A.patient_id = B.patient_id AND A.record_timestamp = B.record_timestamp\n",
       "                </td>\n",
       "\t\t<td>2024-10-18 09:49:09.813927</td>\n",
       "\t\t<td>None</td>\n",
       "\t</tr>\n",
       "\t<tr>\n",
       "\t\t<td>PatientProfileSource</td>\n",
       "\t\t<td>Data Source for Patient Profile.</td>\n",
       "\t\t<td>record_timestamp</td>\n",
       "\t\t<td>SELECT * FROM PATIENT_PROFILE</td>\n",
       "\t\t<td>2024-10-18 09:42:55.680803</td>\n",
       "\t\t<td>2024-10-18 09:48:31.255960</td>\n",
       "\t</tr>\n",
       "</table></html>"
      ],
      "text/plain": [
       "                                                                               description timestamp_col_name                                                                                                                                                                                                                                                                                                                                                                                                            source               creation_time               modified_time\n",
       "name                                                                                                                                                                                                                                                                                                                                                                                                                                                                                                                                                                                   \n",
       "MedicalReadings                                                                       None   record_timestamp                                                                                                                                                                                                                                                                                                                                                                                  select * from \"medical_readings\"  2024-10-18 09:49:06.422885                        None\n",
       "PatientProfile                                                                        None   record_timestamp                                                                                                                                                                                                                                                                                                                                                                                   select * from \"patient_profile\"  2024-10-18 09:49:03.109021                        None\n",
       "PatientProfile_MedicalReadings  Combined DataSource for PatientProfile and MedicalReadings   record_timestamp  \\n                SELECT A.patient_id, A.record_timestamp, A.pregnancies, A.age, A.bmi, A.skin_thickness, B.glucose, B.blood_pressure, B.insulin, B.diabetes_pedigree_function, B.outcome\\n                FROM (select * from \"patient_profile\") AS A, (select * from \"medical_readings\") AS B\\n                WHERE A.patient_id = B.patient_id AND A.record_timestamp = B.record_timestamp\\n                  2024-10-18 09:49:09.813927                        None\n",
       "PatientProfileSource                                      Data Source for Patient Profile.   record_timestamp                                                                                                                                                                                                                                                                                                                                                                                     SELECT * FROM PATIENT_PROFILE  2024-10-18 09:42:55.680803  2024-10-18 09:48:31.255960"
      ]
     },
     "execution_count": 96,
     "metadata": {},
     "output_type": "execute_result"
    }
   ],
   "source": [
    "# Before archiving group, let's look at DataSources.\n",
    "fs.list_data_sources()"
   ]
  },
  {
   "cell_type": "code",
   "execution_count": 97,
   "metadata": {},
   "outputs": [
    {
     "data": {
      "text/html": [
       "<style type=\"text/css\">\n",
       "\ttable {border:ridge 5px;}\n",
       "\ttable td {border:inset 1px;}\n",
       "\ttable tr#HeaderRow {background-color:grey; color:white;}</style>\n",
       "<html><table>\n",
       "\t<tr id=\"HeaderRow\">\n",
       "\t\t<th>name</th>\n",
       "\t\t<th>description</th>\n",
       "\t\t<th>timestamp_col_name</th>\n",
       "\t\t<th>source</th>\n",
       "\t\t<th>creation_time</th>\n",
       "\t\t<th>modified_time</th>\n",
       "\t\t<th>archived_time</th>\n",
       "\t</tr>\n",
       "</table></html>"
      ],
      "text/plain": [
       "Empty DataFrame\n",
       "Columns: [name, description, timestamp_col_name, source, creation_time, modified_time, archived_time]\n",
       "Index: []"
      ]
     },
     "execution_count": 97,
     "metadata": {},
     "output_type": "execute_result"
    }
   ],
   "source": [
    "# Let's look at archived DataSources.\n",
    "fs.list_data_sources(archived=True)"
   ]
  },
  {
   "cell_type": "code",
   "execution_count": 98,
   "metadata": {},
   "outputs": [
    {
     "data": {
      "text/html": [
       "<style type=\"text/css\">\n",
       "\ttable {border:ridge 5px;}\n",
       "\ttable td {border:inset 1px;}\n",
       "\ttable tr#HeaderRow {background-color:grey; color:white;}</style>\n",
       "<html><table>\n",
       "\t<tr id=\"HeaderRow\">\n",
       "\t\t<th>name</th>\n",
       "\t\t<th>description</th>\n",
       "\t\t<th>creation_time</th>\n",
       "\t\t<th>modified_time</th>\n",
       "\t\t<th>entity_column</th>\n",
       "\t</tr>\n",
       "\t<tr>\n",
       "\t\t<td>MedicalReadings</td>\n",
       "\t\t<td>None</td>\n",
       "\t\t<td>2024-10-18 09:49:06.294178</td>\n",
       "\t\t<td>None</td>\n",
       "\t\t<td>patient_id</td>\n",
       "\t</tr>\n",
       "\t<tr>\n",
       "\t\t<td>PatientProfile</td>\n",
       "\t\t<td>None</td>\n",
       "\t\t<td>2024-10-18 09:49:03.019868</td>\n",
       "\t\t<td>None</td>\n",
       "\t\t<td>patient_id</td>\n",
       "\t</tr>\n",
       "\t<tr>\n",
       "\t\t<td>PatientProfile_MedicalReadings</td>\n",
       "\t\t<td>None</td>\n",
       "\t\t<td>2024-10-18 09:49:09.706350</td>\n",
       "\t\t<td>None</td>\n",
       "\t\t<td>patient_id</td>\n",
       "\t</tr>\n",
       "\t<tr>\n",
       "\t\t<td>PatientEntity</td>\n",
       "\t\t<td>Entity for Patient Profile.</td>\n",
       "\t\t<td>2024-10-18 09:42:05.465919</td>\n",
       "\t\t<td>2024-10-18 09:48:31.126957</td>\n",
       "\t\t<td>patient_id</td>\n",
       "\t</tr>\n",
       "</table></html>"
      ],
      "text/plain": [
       "                                                description               creation_time               modified_time entity_column\n",
       "name                                                                                                                             \n",
       "MedicalReadings                                        None  2024-10-18 09:49:06.294178                        None    patient_id\n",
       "PatientProfile                                         None  2024-10-18 09:49:03.019868                        None    patient_id\n",
       "PatientProfile_MedicalReadings                         None  2024-10-18 09:49:09.706350                        None    patient_id\n",
       "PatientEntity                   Entity for Patient Profile.  2024-10-18 09:42:05.465919  2024-10-18 09:48:31.126957    patient_id"
      ]
     },
     "execution_count": 98,
     "metadata": {},
     "output_type": "execute_result"
    }
   ],
   "source": [
    "# Before archiving group, let's look at Entities.\n",
    "fs.list_entities()"
   ]
  },
  {
   "cell_type": "code",
   "execution_count": 99,
   "metadata": {},
   "outputs": [
    {
     "data": {
      "text/html": [
       "<style type=\"text/css\">\n",
       "\ttable {border:ridge 5px;}\n",
       "\ttable td {border:inset 1px;}\n",
       "\ttable tr#HeaderRow {background-color:grey; color:white;}</style>\n",
       "<html><table>\n",
       "\t<tr id=\"HeaderRow\">\n",
       "\t\t<th>name</th>\n",
       "\t\t<th>description</th>\n",
       "\t\t<th>creation_time</th>\n",
       "\t\t<th>modified_time</th>\n",
       "\t\t<th>archived_time</th>\n",
       "\t\t<th>entity_column</th>\n",
       "\t</tr>\n",
       "</table></html>"
      ],
      "text/plain": [
       "Empty DataFrame\n",
       "Columns: [name, description, creation_time, modified_time, archived_time, entity_column]\n",
       "Index: []"
      ]
     },
     "execution_count": 99,
     "metadata": {},
     "output_type": "execute_result"
    }
   ],
   "source": [
    "# Let's look at archived Entities.\n",
    "fs.list_entities(archived=True)"
   ]
  },
  {
   "cell_type": "code",
   "execution_count": 100,
   "metadata": {},
   "outputs": [
    {
     "data": {
      "text/html": [
       "<style type=\"text/css\">\n",
       "\ttable {border:ridge 5px;}\n",
       "\ttable td {border:inset 1px;}\n",
       "\ttable tr#HeaderRow {background-color:grey; color:white;}</style>\n",
       "<html><table>\n",
       "\t<tr id=\"HeaderRow\">\n",
       "\t\t<th>name</th>\n",
       "\t\t<th>description</th>\n",
       "\t\t<th>data_source_name</th>\n",
       "\t\t<th>entity_name</th>\n",
       "\t\t<th>creation_time</th>\n",
       "\t\t<th>modified_time</th>\n",
       "\t</tr>\n",
       "\t<tr>\n",
       "\t\t<td>MedicalReadings</td>\n",
       "\t\t<td>None</td>\n",
       "\t\t<td>MedicalReadings</td>\n",
       "\t\t<td>MedicalReadings</td>\n",
       "\t\t<td>2024-10-18 09:49:06.464922</td>\n",
       "\t\t<td>None</td>\n",
       "\t</tr>\n",
       "\t<tr>\n",
       "\t\t<td>PatientProfile</td>\n",
       "\t\t<td>None</td>\n",
       "\t\t<td>PatientProfile</td>\n",
       "\t\t<td>PatientProfile</td>\n",
       "\t\t<td>2024-10-18 09:49:03.150774</td>\n",
       "\t\t<td>None</td>\n",
       "\t</tr>\n",
       "\t<tr>\n",
       "\t\t<td>PatientProfile_MedicalReadings</td>\n",
       "\t\t<td>Combined FeatureGroup for groups PatientProfile and MedicalReadings.</td>\n",
       "\t\t<td>PatientProfile_MedicalReadings</td>\n",
       "\t\t<td>PatientProfile_MedicalReadings</td>\n",
       "\t\t<td>2024-10-18 09:49:09.855764</td>\n",
       "\t\t<td>None</td>\n",
       "\t</tr>\n",
       "\t<tr>\n",
       "\t\t<td>PatientProfileObjs</td>\n",
       "\t\t<td>FeatureGroup for Patient Profile.</td>\n",
       "\t\t<td>PatientProfileSource</td>\n",
       "\t\t<td>PatientEntity</td>\n",
       "\t\t<td>2024-10-18 09:44:00.994420</td>\n",
       "\t\t<td>2024-10-18 09:48:31.277138</td>\n",
       "\t</tr>\n",
       "</table></html>"
      ],
      "text/plain": [
       "                                                                                         description                data_source_name                     entity_name               creation_time               modified_time\n",
       "name                                                                                                                                                                                                                        \n",
       "MedicalReadings                                                                                 None                 MedicalReadings                 MedicalReadings  2024-10-18 09:49:06.464922                        None\n",
       "PatientProfile                                                                                  None                  PatientProfile                  PatientProfile  2024-10-18 09:49:03.150774                        None\n",
       "PatientProfile_MedicalReadings  Combined FeatureGroup for groups PatientProfile and MedicalReadings.  PatientProfile_MedicalReadings  PatientProfile_MedicalReadings  2024-10-18 09:49:09.855764                        None\n",
       "PatientProfileObjs                                                 FeatureGroup for Patient Profile.            PatientProfileSource                   PatientEntity  2024-10-18 09:44:00.994420  2024-10-18 09:48:31.277138"
      ]
     },
     "execution_count": 100,
     "metadata": {},
     "output_type": "execute_result"
    }
   ],
   "source": [
    "# Before archiving group, let's look at FeatureGroups. \n",
    "# Notice, FeatureGroup `PatientProfileObjs` is associated with DataSource `PatientProfileSource` and Entity `PatientEntity`\n",
    "fs.list_feature_groups()"
   ]
  },
  {
   "cell_type": "code",
   "execution_count": 101,
   "metadata": {},
   "outputs": [
    {
     "data": {
      "text/html": [
       "<style type=\"text/css\">\n",
       "\ttable {border:ridge 5px;}\n",
       "\ttable td {border:inset 1px;}\n",
       "\ttable tr#HeaderRow {background-color:grey; color:white;}</style>\n",
       "<html><table>\n",
       "\t<tr id=\"HeaderRow\">\n",
       "\t\t<th>name</th>\n",
       "\t\t<th>description</th>\n",
       "\t\t<th>data_source_name</th>\n",
       "\t\t<th>entity_name</th>\n",
       "\t\t<th>creation_time</th>\n",
       "\t\t<th>modified_time</th>\n",
       "\t\t<th>archived_time</th>\n",
       "\t</tr>\n",
       "</table></html>"
      ],
      "text/plain": [
       "Empty DataFrame\n",
       "Columns: [name, description, data_source_name, entity_name, creation_time, modified_time, archived_time]\n",
       "Index: []"
      ]
     },
     "execution_count": 101,
     "metadata": {},
     "output_type": "execute_result"
    }
   ],
   "source": [
    "# Let's look at archived FeatureGroups.\n",
    "fs.list_feature_groups(archived=True)"
   ]
  },
  {
   "cell_type": "code",
   "execution_count": 102,
   "metadata": {},
   "outputs": [
    {
     "name": "stdout",
     "output_type": "stream",
     "text": [
      "FeatureGroup 'PatientProfile' is archived.\n"
     ]
    },
    {
     "data": {
      "text/plain": [
       "True"
      ]
     },
     "execution_count": 102,
     "metadata": {},
     "output_type": "execute_result"
    }
   ],
   "source": [
    "# Let's archive FeatureGroup `PatientProfileObjs`.\n",
    "fs.archive_feature_group('PatientProfile')"
   ]
  },
  {
   "cell_type": "code",
   "execution_count": 103,
   "metadata": {},
   "outputs": [
    {
     "data": {
      "text/html": [
       "<style type=\"text/css\">\n",
       "\ttable {border:ridge 5px;}\n",
       "\ttable td {border:inset 1px;}\n",
       "\ttable tr#HeaderRow {background-color:grey; color:white;}</style>\n",
       "<html><table>\n",
       "\t<tr id=\"HeaderRow\">\n",
       "\t\t<th>name</th>\n",
       "\t\t<th>description</th>\n",
       "\t\t<th>data_source_name</th>\n",
       "\t\t<th>entity_name</th>\n",
       "\t\t<th>creation_time</th>\n",
       "\t\t<th>modified_time</th>\n",
       "\t</tr>\n",
       "\t<tr>\n",
       "\t\t<td>MedicalReadings</td>\n",
       "\t\t<td>None</td>\n",
       "\t\t<td>MedicalReadings</td>\n",
       "\t\t<td>MedicalReadings</td>\n",
       "\t\t<td>2024-10-18 09:49:06.464922</td>\n",
       "\t\t<td>None</td>\n",
       "\t</tr>\n",
       "\t<tr>\n",
       "\t\t<td>PatientProfile_MedicalReadings</td>\n",
       "\t\t<td>Combined FeatureGroup for groups PatientProfile and MedicalReadings.</td>\n",
       "\t\t<td>PatientProfile_MedicalReadings</td>\n",
       "\t\t<td>PatientProfile_MedicalReadings</td>\n",
       "\t\t<td>2024-10-18 09:49:09.855764</td>\n",
       "\t\t<td>None</td>\n",
       "\t</tr>\n",
       "\t<tr>\n",
       "\t\t<td>PatientProfileObjs</td>\n",
       "\t\t<td>FeatureGroup for Patient Profile.</td>\n",
       "\t\t<td>PatientProfileSource</td>\n",
       "\t\t<td>PatientEntity</td>\n",
       "\t\t<td>2024-10-18 09:44:00.994420</td>\n",
       "\t\t<td>2024-10-18 09:48:31.277138</td>\n",
       "\t</tr>\n",
       "</table></html>"
      ],
      "text/plain": [
       "                                                                                         description                data_source_name                     entity_name               creation_time               modified_time\n",
       "name                                                                                                                                                                                                                        \n",
       "MedicalReadings                                                                                 None                 MedicalReadings                 MedicalReadings  2024-10-18 09:49:06.464922                        None\n",
       "PatientProfile_MedicalReadings  Combined FeatureGroup for groups PatientProfile and MedicalReadings.  PatientProfile_MedicalReadings  PatientProfile_MedicalReadings  2024-10-18 09:49:09.855764                        None\n",
       "PatientProfileObjs                                                 FeatureGroup for Patient Profile.            PatientProfileSource                   PatientEntity  2024-10-18 09:44:00.994420  2024-10-18 09:48:31.277138"
      ]
     },
     "execution_count": 103,
     "metadata": {},
     "output_type": "execute_result"
    }
   ],
   "source": [
    "# Let's look at FeatureGroups after archive.\n",
    "fs.list_feature_groups()"
   ]
  },
  {
   "cell_type": "code",
   "execution_count": 104,
   "metadata": {},
   "outputs": [
    {
     "data": {
      "text/html": [
       "<style type=\"text/css\">\n",
       "\ttable {border:ridge 5px;}\n",
       "\ttable td {border:inset 1px;}\n",
       "\ttable tr#HeaderRow {background-color:grey; color:white;}</style>\n",
       "<html><table>\n",
       "\t<tr id=\"HeaderRow\">\n",
       "\t\t<th>name</th>\n",
       "\t\t<th>description</th>\n",
       "\t\t<th>data_source_name</th>\n",
       "\t\t<th>entity_name</th>\n",
       "\t\t<th>creation_time</th>\n",
       "\t\t<th>modified_time</th>\n",
       "\t\t<th>archived_time</th>\n",
       "\t</tr>\n",
       "\t<tr>\n",
       "\t\t<td>PatientProfile</td>\n",
       "\t\t<td>None</td>\n",
       "\t\t<td>PatientProfile</td>\n",
       "\t\t<td>PatientProfile</td>\n",
       "\t\t<td>2024-10-18 09:49:03.150774</td>\n",
       "\t\t<td>None</td>\n",
       "\t\t<td>2024-10-18 10:00:14.540000</td>\n",
       "\t</tr>\n",
       "</table></html>"
      ],
      "text/plain": [
       "             name description data_source_name     entity_name               creation_time modified_time               archived_time\n",
       "0  PatientProfile        None   PatientProfile  PatientProfile  2024-10-18 09:49:03.150774          None  2024-10-18 10:00:14.540000"
      ]
     },
     "execution_count": 104,
     "metadata": {},
     "output_type": "execute_result"
    }
   ],
   "source": [
    "# Look at archived FeatureGroup.\n",
    "fs.list_feature_groups(archived=True)"
   ]
  },
  {
   "cell_type": "code",
   "execution_count": 105,
   "metadata": {},
   "outputs": [
    {
     "data": {
      "text/html": [
       "<style type=\"text/css\">\n",
       "\ttable {border:ridge 5px;}\n",
       "\ttable td {border:inset 1px;}\n",
       "\ttable tr#HeaderRow {background-color:grey; color:white;}</style>\n",
       "<html><table>\n",
       "\t<tr id=\"HeaderRow\">\n",
       "\t\t<th>name</th>\n",
       "\t\t<th>column_name</th>\n",
       "\t\t<th>description</th>\n",
       "\t\t<th>tags</th>\n",
       "\t\t<th>data_type</th>\n",
       "\t\t<th>feature_type</th>\n",
       "\t\t<th>status</th>\n",
       "\t\t<th>creation_time</th>\n",
       "\t\t<th>modified_time</th>\n",
       "\t\t<th>group_name</th>\n",
       "\t</tr>\n",
       "</table></html>"
      ],
      "text/plain": [
       "Empty DataFrame\n",
       "Columns: [column_name, description, tags, data_type, feature_type, status, creation_time, modified_time, group_name]\n",
       "Index: []"
      ]
     },
     "execution_count": 105,
     "metadata": {},
     "output_type": "execute_result"
    }
   ],
   "source": [
    "# After archiving group, let's look at Features for FeatureGroup.\n",
    "features_df[features_df.group_name == 'PatientProfile']"
   ]
  },
  {
   "cell_type": "code",
   "execution_count": 106,
   "metadata": {},
   "outputs": [
    {
     "data": {
      "text/html": [
       "<style type=\"text/css\">\n",
       "\ttable {border:ridge 5px;}\n",
       "\ttable td {border:inset 1px;}\n",
       "\ttable tr#HeaderRow {background-color:grey; color:white;}</style>\n",
       "<html><table>\n",
       "\t<tr id=\"HeaderRow\">\n",
       "\t\t<th>name</th>\n",
       "\t\t<th>column_name</th>\n",
       "\t\t<th>description</th>\n",
       "\t\t<th>tags</th>\n",
       "\t\t<th>data_type</th>\n",
       "\t\t<th>feature_type</th>\n",
       "\t\t<th>status</th>\n",
       "\t\t<th>creation_time</th>\n",
       "\t\t<th>modified_time</th>\n",
       "\t\t<th>group_name</th>\n",
       "\t</tr>\n",
       "\t<tr>\n",
       "\t\t<td>pregnancies</td>\n",
       "\t\t<td>pregnancies</td>\n",
       "\t\t<td>None</td>\n",
       "\t\t<td>None</td>\n",
       "\t\t<td>BIGINT</td>\n",
       "\t\t<td>CONTINUOUS</td>\n",
       "\t\t<td>ACTIVE</td>\n",
       "\t\t<td>2024-10-18 09:49:02.829843</td>\n",
       "\t\t<td>2024-10-18 09:49:09.484713</td>\n",
       "\t\t<td>PatientProfile_MedicalReadings</td>\n",
       "\t</tr>\n",
       "\t<tr>\n",
       "\t\t<td>bmi</td>\n",
       "\t\t<td>bmi</td>\n",
       "\t\t<td>None</td>\n",
       "\t\t<td>None</td>\n",
       "\t\t<td>FLOAT</td>\n",
       "\t\t<td>CONTINUOUS</td>\n",
       "\t\t<td>ACTIVE</td>\n",
       "\t\t<td>2024-10-18 09:49:02.936402</td>\n",
       "\t\t<td>2024-10-18 09:49:09.552748</td>\n",
       "\t\t<td>PatientProfile_MedicalReadings</td>\n",
       "\t</tr>\n",
       "\t<tr>\n",
       "\t\t<td>skin_thickness</td>\n",
       "\t\t<td>skin_thickness</td>\n",
       "\t\t<td>None</td>\n",
       "\t\t<td>None</td>\n",
       "\t\t<td>FLOAT</td>\n",
       "\t\t<td>CONTINUOUS</td>\n",
       "\t\t<td>ACTIVE</td>\n",
       "\t\t<td>2024-10-18 09:49:02.978316</td>\n",
       "\t\t<td>2024-10-18 09:49:09.574718</td>\n",
       "\t\t<td>PatientProfile_MedicalReadings</td>\n",
       "\t</tr>\n",
       "\t<tr>\n",
       "\t\t<td>age</td>\n",
       "\t\t<td>age</td>\n",
       "\t\t<td>None</td>\n",
       "\t\t<td>None</td>\n",
       "\t\t<td>BIGINT</td>\n",
       "\t\t<td>CONTINUOUS</td>\n",
       "\t\t<td>ACTIVE</td>\n",
       "\t\t<td>2024-10-18 09:49:02.894388</td>\n",
       "\t\t<td>2024-10-18 09:49:09.530402</td>\n",
       "\t\t<td>PatientProfile_MedicalReadings</td>\n",
       "\t</tr>\n",
       "</table></html>"
      ],
      "text/plain": [
       "                   column_name description  tags data_type feature_type  status               creation_time               modified_time                      group_name\n",
       "name                                                                                                                                                                   \n",
       "pregnancies        pregnancies        None  None    BIGINT   CONTINUOUS  ACTIVE  2024-10-18 09:49:02.829843  2024-10-18 09:49:09.484713  PatientProfile_MedicalReadings\n",
       "bmi                        bmi        None  None     FLOAT   CONTINUOUS  ACTIVE  2024-10-18 09:49:02.936402  2024-10-18 09:49:09.552748  PatientProfile_MedicalReadings\n",
       "skin_thickness  skin_thickness        None  None     FLOAT   CONTINUOUS  ACTIVE  2024-10-18 09:49:02.978316  2024-10-18 09:49:09.574718  PatientProfile_MedicalReadings\n",
       "age                        age        None  None    BIGINT   CONTINUOUS  ACTIVE  2024-10-18 09:49:02.894388  2024-10-18 09:49:09.530402  PatientProfile_MedicalReadings"
      ]
     },
     "execution_count": 106,
     "metadata": {},
     "output_type": "execute_result"
    }
   ],
   "source": [
    "# Look at Features and observe group_name.\n",
    "features_df[(\n",
    "    (features_df.name == 'skin_thickness') | (features_df.name == 'pregnancies') | (features_df.name == 'age') | (features_df.name == 'bmi')\n",
    ")]"
   ]
  },
  {
   "cell_type": "code",
   "execution_count": 108,
   "metadata": {},
   "outputs": [
    {
     "data": {
      "text/html": [
       "<style type=\"text/css\">\n",
       "\ttable {border:ridge 5px;}\n",
       "\ttable td {border:inset 1px;}\n",
       "\ttable tr#HeaderRow {background-color:grey; color:white;}</style>\n",
       "<html><table>\n",
       "\t<tr id=\"HeaderRow\">\n",
       "\t\t<th>name</th>\n",
       "\t\t<th>column_name</th>\n",
       "\t\t<th>description</th>\n",
       "\t\t<th>tags</th>\n",
       "\t\t<th>data_type</th>\n",
       "\t\t<th>feature_type</th>\n",
       "\t\t<th>status</th>\n",
       "\t\t<th>creation_time</th>\n",
       "\t\t<th>modified_time</th>\n",
       "\t\t<th>archived_time</th>\n",
       "\t\t<th>group_name</th>\n",
       "\t</tr>\n",
       "</table></html>"
      ],
      "text/plain": [
       "Empty DataFrame\n",
       "Columns: [name, column_name, description, tags, data_type, feature_type, status, creation_time, modified_time, archived_time, group_name]\n",
       "Index: []"
      ]
     },
     "execution_count": 108,
     "metadata": {},
     "output_type": "execute_result"
    }
   ],
   "source": [
    "# Let's look at archived Features. No Feature is archived because these Features are mapped to other FeatureGroup also.\n",
    "fs.list_features(archived=True)"
   ]
  },
  {
   "cell_type": "code",
   "execution_count": 109,
   "metadata": {},
   "outputs": [
    {
     "data": {
      "text/html": [
       "<style type=\"text/css\">\n",
       "\ttable {border:ridge 5px;}\n",
       "\ttable td {border:inset 1px;}\n",
       "\ttable tr#HeaderRow {background-color:grey; color:white;}</style>\n",
       "<html><table>\n",
       "\t<tr id=\"HeaderRow\">\n",
       "\t\t<th>name</th>\n",
       "\t\t<th>description</th>\n",
       "\t\t<th>timestamp_col_name</th>\n",
       "\t\t<th>source</th>\n",
       "\t\t<th>creation_time</th>\n",
       "\t\t<th>modified_time</th>\n",
       "\t</tr>\n",
       "\t<tr>\n",
       "\t\t<td>PatientProfileSource</td>\n",
       "\t\t<td>Data Source for Patient Profile.</td>\n",
       "\t\t<td>record_timestamp</td>\n",
       "\t\t<td>SELECT * FROM PATIENT_PROFILE</td>\n",
       "\t\t<td>2024-10-18 09:42:55.680803</td>\n",
       "\t\t<td>2024-10-18 09:48:31.255960</td>\n",
       "\t</tr>\n",
       "\t<tr>\n",
       "\t\t<td>MedicalReadings</td>\n",
       "\t\t<td>None</td>\n",
       "\t\t<td>record_timestamp</td>\n",
       "\t\t<td>select * from \"medical_readings\"</td>\n",
       "\t\t<td>2024-10-18 09:49:06.422885</td>\n",
       "\t\t<td>None</td>\n",
       "\t</tr>\n",
       "\t<tr>\n",
       "\t\t<td>PatientProfile_MedicalReadings</td>\n",
       "\t\t<td>Combined DataSource for PatientProfile and MedicalReadings</td>\n",
       "\t\t<td>record_timestamp</td>\n",
       "\t\t<td>\n",
       "                SELECT A.patient_id, A.record_timestamp, A.pregnancies, A.age, A.bmi, A.skin_thickness, B.glucose, B.blood_pressure, B.insulin, B.diabetes_pedigree_function, B.outcome\n",
       "                FROM (select * from \"patient_profile\") AS A, (select * from \"medical_readings\") AS B\n",
       "                WHERE A.patient_id = B.patient_id AND A.record_timestamp = B.record_timestamp\n",
       "                </td>\n",
       "\t\t<td>2024-10-18 09:49:09.813927</td>\n",
       "\t\t<td>None</td>\n",
       "\t</tr>\n",
       "</table></html>"
      ],
      "text/plain": [
       "                                                                               description timestamp_col_name                                                                                                                                                                                                                                                                                                                                                                                                            source               creation_time               modified_time\n",
       "name                                                                                                                                                                                                                                                                                                                                                                                                                                                                                                                                                                                   \n",
       "PatientProfileSource                                      Data Source for Patient Profile.   record_timestamp                                                                                                                                                                                                                                                                                                                                                                                     SELECT * FROM PATIENT_PROFILE  2024-10-18 09:42:55.680803  2024-10-18 09:48:31.255960\n",
       "MedicalReadings                                                                       None   record_timestamp                                                                                                                                                                                                                                                                                                                                                                                  select * from \"medical_readings\"  2024-10-18 09:49:06.422885                        None\n",
       "PatientProfile_MedicalReadings  Combined DataSource for PatientProfile and MedicalReadings   record_timestamp  \\n                SELECT A.patient_id, A.record_timestamp, A.pregnancies, A.age, A.bmi, A.skin_thickness, B.glucose, B.blood_pressure, B.insulin, B.diabetes_pedigree_function, B.outcome\\n                FROM (select * from \"patient_profile\") AS A, (select * from \"medical_readings\") AS B\\n                WHERE A.patient_id = B.patient_id AND A.record_timestamp = B.record_timestamp\\n                  2024-10-18 09:49:09.813927                        None"
      ]
     },
     "execution_count": 109,
     "metadata": {},
     "output_type": "execute_result"
    }
   ],
   "source": [
    "# After archiving group, let's look at DataSources. \n",
    "# Notice, DataSource `PatientProfileSource`, which is associated with FeatureGroup `PatientProfileObjs` is also archived.\n",
    "fs.list_data_sources()"
   ]
  },
  {
   "cell_type": "code",
   "execution_count": 110,
   "metadata": {},
   "outputs": [
    {
     "data": {
      "text/html": [
       "<style type=\"text/css\">\n",
       "\ttable {border:ridge 5px;}\n",
       "\ttable td {border:inset 1px;}\n",
       "\ttable tr#HeaderRow {background-color:grey; color:white;}</style>\n",
       "<html><table>\n",
       "\t<tr id=\"HeaderRow\">\n",
       "\t\t<th>name</th>\n",
       "\t\t<th>description</th>\n",
       "\t\t<th>timestamp_col_name</th>\n",
       "\t\t<th>source</th>\n",
       "\t\t<th>creation_time</th>\n",
       "\t\t<th>modified_time</th>\n",
       "\t\t<th>archived_time</th>\n",
       "\t</tr>\n",
       "\t<tr>\n",
       "\t\t<td>PatientProfile</td>\n",
       "\t\t<td>None</td>\n",
       "\t\t<td>record_timestamp</td>\n",
       "\t\t<td>select * from \"patient_profile\"</td>\n",
       "\t\t<td>2024-10-18 09:49:03.109021</td>\n",
       "\t\t<td>None</td>\n",
       "\t\t<td>2024-10-18 10:00:14.670000</td>\n",
       "\t</tr>\n",
       "</table></html>"
      ],
      "text/plain": [
       "             name description timestamp_col_name                           source               creation_time modified_time               archived_time\n",
       "0  PatientProfile        None   record_timestamp  select * from \"patient_profile\"  2024-10-18 09:49:03.109021          None  2024-10-18 10:00:14.670000"
      ]
     },
     "execution_count": 110,
     "metadata": {},
     "output_type": "execute_result"
    }
   ],
   "source": [
    "# Look at archived DataSources.\n",
    "fs.list_data_sources(archived=True)"
   ]
  },
  {
   "cell_type": "code",
   "execution_count": 111,
   "metadata": {},
   "outputs": [
    {
     "data": {
      "text/html": [
       "<style type=\"text/css\">\n",
       "\ttable {border:ridge 5px;}\n",
       "\ttable td {border:inset 1px;}\n",
       "\ttable tr#HeaderRow {background-color:grey; color:white;}</style>\n",
       "<html><table>\n",
       "\t<tr id=\"HeaderRow\">\n",
       "\t\t<th>name</th>\n",
       "\t\t<th>description</th>\n",
       "\t\t<th>creation_time</th>\n",
       "\t\t<th>modified_time</th>\n",
       "\t\t<th>entity_column</th>\n",
       "\t</tr>\n",
       "\t<tr>\n",
       "\t\t<td>MedicalReadings</td>\n",
       "\t\t<td>None</td>\n",
       "\t\t<td>2024-10-18 09:49:06.294178</td>\n",
       "\t\t<td>None</td>\n",
       "\t\t<td>patient_id</td>\n",
       "\t</tr>\n",
       "\t<tr>\n",
       "\t\t<td>PatientProfile_MedicalReadings</td>\n",
       "\t\t<td>None</td>\n",
       "\t\t<td>2024-10-18 09:49:09.706350</td>\n",
       "\t\t<td>None</td>\n",
       "\t\t<td>patient_id</td>\n",
       "\t</tr>\n",
       "\t<tr>\n",
       "\t\t<td>PatientEntity</td>\n",
       "\t\t<td>Entity for Patient Profile.</td>\n",
       "\t\t<td>2024-10-18 09:42:05.465919</td>\n",
       "\t\t<td>2024-10-18 09:48:31.126957</td>\n",
       "\t\t<td>patient_id</td>\n",
       "\t</tr>\n",
       "</table></html>"
      ],
      "text/plain": [
       "                                                description               creation_time               modified_time entity_column\n",
       "name                                                                                                                             \n",
       "MedicalReadings                                        None  2024-10-18 09:49:06.294178                        None    patient_id\n",
       "PatientProfile_MedicalReadings                         None  2024-10-18 09:49:09.706350                        None    patient_id\n",
       "PatientEntity                   Entity for Patient Profile.  2024-10-18 09:42:05.465919  2024-10-18 09:48:31.126957    patient_id"
      ]
     },
     "execution_count": 111,
     "metadata": {},
     "output_type": "execute_result"
    }
   ],
   "source": [
    "# After archiving group, let's look at Entities. \n",
    "# Notice, Entity `PatientEntity`, which is associated with FeatureGroup `PatientProfileObjs` is also archived.\n",
    "fs.list_entities()"
   ]
  },
  {
   "cell_type": "code",
   "execution_count": 112,
   "metadata": {},
   "outputs": [
    {
     "data": {
      "text/html": [
       "<style type=\"text/css\">\n",
       "\ttable {border:ridge 5px;}\n",
       "\ttable td {border:inset 1px;}\n",
       "\ttable tr#HeaderRow {background-color:grey; color:white;}</style>\n",
       "<html><table>\n",
       "\t<tr id=\"HeaderRow\">\n",
       "\t\t<th>name</th>\n",
       "\t\t<th>description</th>\n",
       "\t\t<th>creation_time</th>\n",
       "\t\t<th>modified_time</th>\n",
       "\t\t<th>archived_time</th>\n",
       "\t\t<th>entity_column</th>\n",
       "\t</tr>\n",
       "\t<tr>\n",
       "\t\t<td>PatientProfile</td>\n",
       "\t\t<td>None</td>\n",
       "\t\t<td>2024-10-18 09:49:03.019868</td>\n",
       "\t\t<td>None</td>\n",
       "\t\t<td>2024-10-18 10:00:14.620000</td>\n",
       "\t\t<td>patient_id</td>\n",
       "\t</tr>\n",
       "</table></html>"
      ],
      "text/plain": [
       "             name description               creation_time modified_time               archived_time entity_column\n",
       "0  PatientProfile        None  2024-10-18 09:49:03.019868          None  2024-10-18 10:00:14.620000    patient_id"
      ]
     },
     "execution_count": 112,
     "metadata": {},
     "output_type": "execute_result"
    }
   ],
   "source": [
    "fs.list_entities(archived=True)"
   ]
  },
  {
   "cell_type": "code",
   "execution_count": 113,
   "metadata": {},
   "outputs": [
    {
     "name": "stdout",
     "output_type": "stream",
     "text": [
      "FeatureGroup 'PatientProfile' is deleted.\n"
     ]
    },
    {
     "data": {
      "text/plain": [
       "True"
      ]
     },
     "execution_count": 113,
     "metadata": {},
     "output_type": "execute_result"
    }
   ],
   "source": [
    "# Delete archived FeatureGroup. \n",
    "fs.delete_feature_group('PatientProfile')"
   ]
  },
  {
   "cell_type": "code",
   "execution_count": 114,
   "metadata": {},
   "outputs": [
    {
     "data": {
      "text/html": [
       "<style type=\"text/css\">\n",
       "\ttable {border:ridge 5px;}\n",
       "\ttable td {border:inset 1px;}\n",
       "\ttable tr#HeaderRow {background-color:grey; color:white;}</style>\n",
       "<html><table>\n",
       "\t<tr id=\"HeaderRow\">\n",
       "\t\t<th>name</th>\n",
       "\t\t<th>description</th>\n",
       "\t\t<th>data_source_name</th>\n",
       "\t\t<th>entity_name</th>\n",
       "\t\t<th>creation_time</th>\n",
       "\t\t<th>modified_time</th>\n",
       "\t\t<th>archived_time</th>\n",
       "\t</tr>\n",
       "</table></html>"
      ],
      "text/plain": [
       "Empty DataFrame\n",
       "Columns: [name, description, data_source_name, entity_name, creation_time, modified_time, archived_time]\n",
       "Index: []"
      ]
     },
     "execution_count": 114,
     "metadata": {},
     "output_type": "execute_result"
    }
   ],
   "source": [
    "# Let's look at archived FeatureGroups after delete.\n",
    "fs.list_feature_groups(archived=True)"
   ]
  },
  {
   "cell_type": "code",
   "execution_count": 115,
   "metadata": {},
   "outputs": [
    {
     "name": "stdout",
     "output_type": "stream",
     "text": [
      "DataSource 'PatientProfile' is deleted.\n"
     ]
    },
    {
     "data": {
      "text/plain": [
       "True"
      ]
     },
     "execution_count": 115,
     "metadata": {},
     "output_type": "execute_result"
    }
   ],
   "source": [
    "# Delete archived DataSources.\n",
    "fs.delete_data_source('PatientProfile')"
   ]
  },
  {
   "cell_type": "code",
   "execution_count": 116,
   "metadata": {},
   "outputs": [
    {
     "data": {
      "text/html": [
       "<style type=\"text/css\">\n",
       "\ttable {border:ridge 5px;}\n",
       "\ttable td {border:inset 1px;}\n",
       "\ttable tr#HeaderRow {background-color:grey; color:white;}</style>\n",
       "<html><table>\n",
       "\t<tr id=\"HeaderRow\">\n",
       "\t\t<th>name</th>\n",
       "\t\t<th>description</th>\n",
       "\t\t<th>timestamp_col_name</th>\n",
       "\t\t<th>source</th>\n",
       "\t\t<th>creation_time</th>\n",
       "\t\t<th>modified_time</th>\n",
       "\t\t<th>archived_time</th>\n",
       "\t</tr>\n",
       "</table></html>"
      ],
      "text/plain": [
       "Empty DataFrame\n",
       "Columns: [name, description, timestamp_col_name, source, creation_time, modified_time, archived_time]\n",
       "Index: []"
      ]
     },
     "execution_count": 116,
     "metadata": {},
     "output_type": "execute_result"
    }
   ],
   "source": [
    "# Let's look at archived DataSources after delete.\n",
    "fs.list_data_sources(archived=True)"
   ]
  },
  {
   "cell_type": "code",
   "execution_count": 117,
   "metadata": {},
   "outputs": [
    {
     "name": "stdout",
     "output_type": "stream",
     "text": [
      "Entity 'PatientProfile' is deleted.\n"
     ]
    },
    {
     "data": {
      "text/plain": [
       "True"
      ]
     },
     "execution_count": 117,
     "metadata": {},
     "output_type": "execute_result"
    }
   ],
   "source": [
    "# Delete archived Entities.\n",
    "fs.delete_entity('PatientProfile')"
   ]
  },
  {
   "cell_type": "code",
   "execution_count": 118,
   "metadata": {},
   "outputs": [
    {
     "data": {
      "text/html": [
       "<style type=\"text/css\">\n",
       "\ttable {border:ridge 5px;}\n",
       "\ttable td {border:inset 1px;}\n",
       "\ttable tr#HeaderRow {background-color:grey; color:white;}</style>\n",
       "<html><table>\n",
       "\t<tr id=\"HeaderRow\">\n",
       "\t\t<th>name</th>\n",
       "\t\t<th>description</th>\n",
       "\t\t<th>creation_time</th>\n",
       "\t\t<th>modified_time</th>\n",
       "\t\t<th>archived_time</th>\n",
       "\t\t<th>entity_column</th>\n",
       "\t</tr>\n",
       "</table></html>"
      ],
      "text/plain": [
       "Empty DataFrame\n",
       "Columns: [name, description, creation_time, modified_time, archived_time, entity_column]\n",
       "Index: []"
      ]
     },
     "execution_count": 118,
     "metadata": {},
     "output_type": "execute_result"
    }
   ],
   "source": [
    "# Let's look at archived Entities after delete.\n",
    "fs.list_entities(archived=True)"
   ]
  },
  {
   "cell_type": "markdown",
   "metadata": {},
   "source": [
    "<hr style=\"height:2px;border:none;background-color:#00233C;\">\n",
    "<b style = 'font-size:20px;font-family:Arial;color:#00233C'>7. Creating Datasets and historic Datasets for ML models </b>\n"
   ]
  },
  {
   "cell_type": "markdown",
   "metadata": {},
   "source": [
    "##### Since FeatureStore stores DataSource also, you can retrive Teradata DataFrame from FeatureStore. \n",
    "###### `FeatureStore.get_dataset()` get's Teradata DataFrame from FeatureGroup."
   ]
  },
  {
   "cell_type": "code",
   "execution_count": 119,
   "metadata": {},
   "outputs": [
    {
     "data": {
      "text/html": [
       "<style type=\"text/css\">\n",
       "\ttable {border:ridge 5px;}\n",
       "\ttable td {border:inset 1px;}\n",
       "\ttable tr#HeaderRow {background-color:grey; color:white;}</style>\n",
       "<html><table>\n",
       "\t<tr id=\"HeaderRow\">\n",
       "\t\t<th>name</th>\n",
       "\t\t<th>description</th>\n",
       "\t\t<th>data_source_name</th>\n",
       "\t\t<th>entity_name</th>\n",
       "\t\t<th>creation_time</th>\n",
       "\t\t<th>modified_time</th>\n",
       "\t</tr>\n",
       "\t<tr>\n",
       "\t\t<td>MedicalReadings</td>\n",
       "\t\t<td>None</td>\n",
       "\t\t<td>MedicalReadings</td>\n",
       "\t\t<td>MedicalReadings</td>\n",
       "\t\t<td>2024-10-18 09:49:06.464922</td>\n",
       "\t\t<td>None</td>\n",
       "\t</tr>\n",
       "\t<tr>\n",
       "\t\t<td>PatientProfile_MedicalReadings</td>\n",
       "\t\t<td>Combined FeatureGroup for groups PatientProfile and MedicalReadings.</td>\n",
       "\t\t<td>PatientProfile_MedicalReadings</td>\n",
       "\t\t<td>PatientProfile_MedicalReadings</td>\n",
       "\t\t<td>2024-10-18 09:49:09.855764</td>\n",
       "\t\t<td>None</td>\n",
       "\t</tr>\n",
       "\t<tr>\n",
       "\t\t<td>PatientProfileObjs</td>\n",
       "\t\t<td>FeatureGroup for Patient Profile.</td>\n",
       "\t\t<td>PatientProfileSource</td>\n",
       "\t\t<td>PatientEntity</td>\n",
       "\t\t<td>2024-10-18 09:44:00.994420</td>\n",
       "\t\t<td>2024-10-18 09:48:31.277138</td>\n",
       "\t</tr>\n",
       "</table></html>"
      ],
      "text/plain": [
       "                                                                                         description                data_source_name                     entity_name               creation_time               modified_time\n",
       "name                                                                                                                                                                                                                        \n",
       "MedicalReadings                                                                                 None                 MedicalReadings                 MedicalReadings  2024-10-18 09:49:06.464922                        None\n",
       "PatientProfile_MedicalReadings  Combined FeatureGroup for groups PatientProfile and MedicalReadings.  PatientProfile_MedicalReadings  PatientProfile_MedicalReadings  2024-10-18 09:49:09.855764                        None\n",
       "PatientProfileObjs                                                 FeatureGroup for Patient Profile.            PatientProfileSource                   PatientEntity  2024-10-18 09:44:00.994420  2024-10-18 09:48:31.277138"
      ]
     },
     "execution_count": 119,
     "metadata": {},
     "output_type": "execute_result"
    }
   ],
   "source": [
    "# Let's look at available FeatureGroups first.\n",
    "fs.list_feature_groups()"
   ]
  },
  {
   "cell_type": "code",
   "execution_count": 120,
   "metadata": {},
   "outputs": [
    {
     "data": {
      "text/html": [
       "<style type=\"text/css\">\n",
       "\ttable {border:ridge 5px;}\n",
       "\ttable td {border:inset 1px;}\n",
       "\ttable tr#HeaderRow {background-color:grey; color:white;}</style>\n",
       "<html><table>\n",
       "\t<tr id=\"HeaderRow\">\n",
       "\t\t<th>patient_id</th>\n",
       "\t\t<th>record_timestamp</th>\n",
       "\t\t<th>outcome</th>\n",
       "\t\t<th>blood_pressure</th>\n",
       "\t\t<th>diabetes_pedigree_function</th>\n",
       "\t\t<th>insulin</th>\n",
       "\t\t<th>glucose</th>\n",
       "\t</tr>\n",
       "\t<tr>\n",
       "\t\t<td>19</td>\n",
       "\t\t<td>2024-04-10 11:10:59.000000</td>\n",
       "\t\t<td>1</td>\n",
       "\t\t<td>70</td>\n",
       "\t\t<td>0.529</td>\n",
       "\t\t<td>96</td>\n",
       "\t\t<td>115</td>\n",
       "\t</tr>\n",
       "\t<tr>\n",
       "\t\t<td>59</td>\n",
       "\t\t<td>2024-04-10 11:10:59.000000</td>\n",
       "\t\t<td>0</td>\n",
       "\t\t<td>64</td>\n",
       "\t\t<td>0.173</td>\n",
       "\t\t<td>142</td>\n",
       "\t\t<td>105</td>\n",
       "\t</tr>\n",
       "\t<tr>\n",
       "\t\t<td>38</td>\n",
       "\t\t<td>2024-04-10 11:10:59.000000</td>\n",
       "\t\t<td>1</td>\n",
       "\t\t<td>68</td>\n",
       "\t\t<td>0.503</td>\n",
       "\t\t<td>0</td>\n",
       "\t\t<td>90</td>\n",
       "\t</tr>\n",
       "\t<tr>\n",
       "\t\t<td>78</td>\n",
       "\t\t<td>2024-04-10 11:10:59.000000</td>\n",
       "\t\t<td>1</td>\n",
       "\t\t<td>0</td>\n",
       "\t\t<td>0.27</td>\n",
       "\t\t<td>0</td>\n",
       "\t\t<td>131</td>\n",
       "\t</tr>\n",
       "\t<tr>\n",
       "\t\t<td>36</td>\n",
       "\t\t<td>2024-04-10 11:10:59.000000</td>\n",
       "\t\t<td>0</td>\n",
       "\t\t<td>76</td>\n",
       "\t\t<td>0.42</td>\n",
       "\t\t<td>0</td>\n",
       "\t\t<td>138</td>\n",
       "\t</tr>\n",
       "\t<tr>\n",
       "\t\t<td>97</td>\n",
       "\t\t<td>2024-04-10 11:10:59.000000</td>\n",
       "\t\t<td>0</td>\n",
       "\t\t<td>48</td>\n",
       "\t\t<td>0.323</td>\n",
       "\t\t<td>76</td>\n",
       "\t\t<td>71</td>\n",
       "\t</tr>\n",
       "\t<tr>\n",
       "\t\t<td>57</td>\n",
       "\t\t<td>2024-04-10 11:10:59.000000</td>\n",
       "\t\t<td>0</td>\n",
       "\t\t<td>88</td>\n",
       "\t\t<td>0.962</td>\n",
       "\t\t<td>110</td>\n",
       "\t\t<td>100</td>\n",
       "\t</tr>\n",
       "\t<tr>\n",
       "\t\t<td>80</td>\n",
       "\t\t<td>2024-04-10 11:10:59.000000</td>\n",
       "\t\t<td>0</td>\n",
       "\t\t<td>44</td>\n",
       "\t\t<td>0.14</td>\n",
       "\t\t<td>0</td>\n",
       "\t\t<td>113</td>\n",
       "\t</tr>\n",
       "\t<tr>\n",
       "\t\t<td>40</td>\n",
       "\t\t<td>2024-04-10 11:10:59.000000</td>\n",
       "\t\t<td>0</td>\n",
       "\t\t<td>64</td>\n",
       "\t\t<td>0.271</td>\n",
       "\t\t<td>70</td>\n",
       "\t\t<td>180</td>\n",
       "\t</tr>\n",
       "\t<tr>\n",
       "\t\t<td>61</td>\n",
       "\t\t<td>2024-04-10 11:10:59.000000</td>\n",
       "\t\t<td>1</td>\n",
       "\t\t<td>72</td>\n",
       "\t\t<td>0.27</td>\n",
       "\t\t<td>0</td>\n",
       "\t\t<td>133</td>\n",
       "\t</tr>\n",
       "</table></html>"
      ],
      "text/plain": [
       "                      record_timestamp  outcome  blood_pressure  diabetes_pedigree_function  insulin  glucose\n",
       "patient_id                                                                                                   \n",
       "19          2024-04-10 11:10:59.000000        1              70                       0.529       96      115\n",
       "59          2024-04-10 11:10:59.000000        0              64                       0.173      142      105\n",
       "38          2024-04-10 11:10:59.000000        1              68                       0.503        0       90\n",
       "78          2024-04-10 11:10:59.000000        1               0                       0.270        0      131\n",
       "36          2024-04-10 11:10:59.000000        0              76                       0.420        0      138\n",
       "97          2024-04-10 11:10:59.000000        0              48                       0.323       76       71\n",
       "57          2024-04-10 11:10:59.000000        0              88                       0.962      110      100\n",
       "80          2024-04-10 11:10:59.000000        0              44                       0.140        0      113\n",
       "40          2024-04-10 11:10:59.000000        0              64                       0.271       70      180\n",
       "61          2024-04-10 11:10:59.000000        1              72                       0.270        0      133"
      ]
     },
     "execution_count": 120,
     "metadata": {},
     "output_type": "execute_result"
    }
   ],
   "source": [
    "# Get DataSet for FeatureGroup PatientProfile. \n",
    "fs.get_dataset('MedicalReadings')"
   ]
  },
  {
   "cell_type": "code",
   "execution_count": 121,
   "metadata": {},
   "outputs": [
    {
     "data": {
      "text/html": [
       "<style type=\"text/css\">\n",
       "\ttable {border:ridge 5px;}\n",
       "\ttable td {border:inset 1px;}\n",
       "\ttable tr#HeaderRow {background-color:grey; color:white;}</style>\n",
       "<html><table>\n",
       "\t<tr id=\"HeaderRow\">\n",
       "\t\t<th>patient_id</th>\n",
       "\t\t<th>record_timestamp</th>\n",
       "\t\t<th>outcome</th>\n",
       "\t\t<th>age</th>\n",
       "\t\t<th>bmi</th>\n",
       "\t\t<th>skin_thickness</th>\n",
       "\t\t<th>diabetes_pedigree_function</th>\n",
       "\t\t<th>blood_pressure</th>\n",
       "\t\t<th>insulin</th>\n",
       "\t\t<th>glucose</th>\n",
       "\t\t<th>pregnancies</th>\n",
       "\t</tr>\n",
       "\t<tr>\n",
       "\t\t<td>19</td>\n",
       "\t\t<td>2024-04-10 11:10:59.000000</td>\n",
       "\t\t<td>1</td>\n",
       "\t\t<td>32</td>\n",
       "\t\t<td>34.6</td>\n",
       "\t\t<td>30.0</td>\n",
       "\t\t<td>0.529</td>\n",
       "\t\t<td>70</td>\n",
       "\t\t<td>96</td>\n",
       "\t\t<td>115</td>\n",
       "\t\t<td>1</td>\n",
       "\t</tr>\n",
       "\t<tr>\n",
       "\t\t<td>59</td>\n",
       "\t\t<td>2024-04-10 11:10:59.000000</td>\n",
       "\t\t<td>0</td>\n",
       "\t\t<td>22</td>\n",
       "\t\t<td>41.5</td>\n",
       "\t\t<td>41.0</td>\n",
       "\t\t<td>0.173</td>\n",
       "\t\t<td>64</td>\n",
       "\t\t<td>142</td>\n",
       "\t\t<td>105</td>\n",
       "\t\t<td>0</td>\n",
       "\t</tr>\n",
       "\t<tr>\n",
       "\t\t<td>38</td>\n",
       "\t\t<td>2024-04-10 11:10:59.000000</td>\n",
       "\t\t<td>1</td>\n",
       "\t\t<td>27</td>\n",
       "\t\t<td>38.2</td>\n",
       "\t\t<td>42.0</td>\n",
       "\t\t<td>0.503</td>\n",
       "\t\t<td>68</td>\n",
       "\t\t<td>0</td>\n",
       "\t\t<td>90</td>\n",
       "\t\t<td>2</td>\n",
       "\t</tr>\n",
       "\t<tr>\n",
       "\t\t<td>0</td>\n",
       "\t\t<td>2024-04-10 11:10:59.000000</td>\n",
       "\t\t<td>1</td>\n",
       "\t\t<td>50</td>\n",
       "\t\t<td>33.6</td>\n",
       "\t\t<td>35.0</td>\n",
       "\t\t<td>0.627</td>\n",
       "\t\t<td>72</td>\n",
       "\t\t<td>0</td>\n",
       "\t\t<td>148</td>\n",
       "\t\t<td>6</td>\n",
       "\t</tr>\n",
       "\t<tr>\n",
       "\t\t<td>17</td>\n",
       "\t\t<td>2024-04-10 11:10:59.000000</td>\n",
       "\t\t<td>1</td>\n",
       "\t\t<td>31</td>\n",
       "\t\t<td>29.6</td>\n",
       "\t\t<td>0.0</td>\n",
       "\t\t<td>0.254</td>\n",
       "\t\t<td>74</td>\n",
       "\t\t<td>0</td>\n",
       "\t\t<td>107</td>\n",
       "\t\t<td>7</td>\n",
       "\t</tr>\n",
       "\t<tr>\n",
       "\t\t<td>15</td>\n",
       "\t\t<td>2024-04-10 11:10:59.000000</td>\n",
       "\t\t<td>1</td>\n",
       "\t\t<td>32</td>\n",
       "\t\t<td>30.0</td>\n",
       "\t\t<td>0.0</td>\n",
       "\t\t<td>0.484</td>\n",
       "\t\t<td>0</td>\n",
       "\t\t<td>0</td>\n",
       "\t\t<td>100</td>\n",
       "\t\t<td>7</td>\n",
       "\t</tr>\n",
       "\t<tr>\n",
       "\t\t<td>34</td>\n",
       "\t\t<td>2024-04-10 11:10:59.000000</td>\n",
       "\t\t<td>0</td>\n",
       "\t\t<td>45</td>\n",
       "\t\t<td>27.6</td>\n",
       "\t\t<td>31.0</td>\n",
       "\t\t<td>0.512</td>\n",
       "\t\t<td>78</td>\n",
       "\t\t<td>0</td>\n",
       "\t\t<td>122</td>\n",
       "\t\t<td>10</td>\n",
       "\t</tr>\n",
       "\t<tr>\n",
       "\t\t<td>13</td>\n",
       "\t\t<td>2024-04-10 11:10:59.000000</td>\n",
       "\t\t<td>1</td>\n",
       "\t\t<td>59</td>\n",
       "\t\t<td>30.1</td>\n",
       "\t\t<td>23.0</td>\n",
       "\t\t<td>0.398</td>\n",
       "\t\t<td>60</td>\n",
       "\t\t<td>846</td>\n",
       "\t\t<td>189</td>\n",
       "\t\t<td>1</td>\n",
       "\t</tr>\n",
       "\t<tr>\n",
       "\t\t<td>99</td>\n",
       "\t\t<td>2024-04-10 11:10:59.000000</td>\n",
       "\t\t<td>1</td>\n",
       "\t\t<td>31</td>\n",
       "\t\t<td>49.7</td>\n",
       "\t\t<td>51.0</td>\n",
       "\t\t<td>0.325</td>\n",
       "\t\t<td>90</td>\n",
       "\t\t<td>220</td>\n",
       "\t\t<td>122</td>\n",
       "\t\t<td>1</td>\n",
       "\t</tr>\n",
       "\t<tr>\n",
       "\t\t<td>80</td>\n",
       "\t\t<td>2024-04-10 11:10:59.000000</td>\n",
       "\t\t<td>0</td>\n",
       "\t\t<td>22</td>\n",
       "\t\t<td>22.4</td>\n",
       "\t\t<td>13.0</td>\n",
       "\t\t<td>0.14</td>\n",
       "\t\t<td>44</td>\n",
       "\t\t<td>0</td>\n",
       "\t\t<td>113</td>\n",
       "\t\t<td>3</td>\n",
       "\t</tr>\n",
       "</table></html>"
      ],
      "text/plain": [
       "   patient_id            record_timestamp  outcome  age   bmi  skin_thickness  diabetes_pedigree_function  blood_pressure  insulin  glucose  pregnancies\n",
       "0          19  2024-04-10 11:10:59.000000        1   32  34.6            30.0                       0.529              70       96      115            1\n",
       "1          59  2024-04-10 11:10:59.000000        0   22  41.5            41.0                       0.173              64      142      105            0\n",
       "2          38  2024-04-10 11:10:59.000000        1   27  38.2            42.0                       0.503              68        0       90            2\n",
       "3           0  2024-04-10 11:10:59.000000        1   50  33.6            35.0                       0.627              72        0      148            6\n",
       "4          17  2024-04-10 11:10:59.000000        1   31  29.6             0.0                       0.254              74        0      107            7\n",
       "5          15  2024-04-10 11:10:59.000000        1   32  30.0             0.0                       0.484               0        0      100            7\n",
       "6          34  2024-04-10 11:10:59.000000        0   45  27.6            31.0                       0.512              78        0      122           10\n",
       "7          13  2024-04-10 11:10:59.000000        1   59  30.1            23.0                       0.398              60      846      189            1\n",
       "8          99  2024-04-10 11:10:59.000000        1   31  49.7            51.0                       0.325              90      220      122            1\n",
       "9          80  2024-04-10 11:10:59.000000        0   22  22.4            13.0                       0.140              44        0      113            3"
      ]
     },
     "execution_count": 121,
     "metadata": {},
     "output_type": "execute_result"
    }
   ],
   "source": [
    "# Let's get DataSet for combined FeatureGroup. \n",
    "# Interesting point to observe:\n",
    "#     DataSet will have all the combined Features of both FeatureGroups.\n",
    "#     patient_id and record_timestamp will remain as it is.\n",
    "fs.get_dataset('PatientProfile_MedicalReadings')"
   ]
  },
  {
   "cell_type": "markdown",
   "metadata": {},
   "source": [
    "#### In some cases, you need the historic DataSet to perform ML Model. In such cases, use API `FeatureStore.get_dataset()` and filter the data using filter options. Let's look at an example."
   ]
  },
  {
   "cell_type": "code",
   "execution_count": 122,
   "metadata": {},
   "outputs": [],
   "source": [
    "df = fs.get_dataset('PatientProfile_MedicalReadings')"
   ]
  },
  {
   "cell_type": "code",
   "execution_count": 123,
   "metadata": {},
   "outputs": [
    {
     "data": {
      "text/html": [
       "<style type=\"text/css\">\n",
       "\ttable {border:ridge 5px;}\n",
       "\ttable td {border:inset 1px;}\n",
       "\ttable tr#HeaderRow {background-color:grey; color:white;}</style>\n",
       "<html><table>\n",
       "\t<tr id=\"HeaderRow\">\n",
       "\t\t<th>patient_id</th>\n",
       "\t\t<th>record_timestamp</th>\n",
       "\t\t<th>outcome</th>\n",
       "\t\t<th>age</th>\n",
       "\t\t<th>bmi</th>\n",
       "\t\t<th>skin_thickness</th>\n",
       "\t\t<th>diabetes_pedigree_function</th>\n",
       "\t\t<th>blood_pressure</th>\n",
       "\t\t<th>insulin</th>\n",
       "\t\t<th>glucose</th>\n",
       "\t\t<th>pregnancies</th>\n",
       "\t</tr>\n",
       "\t<tr>\n",
       "\t\t<td>19</td>\n",
       "\t\t<td>2024-04-10 11:10:59.000000</td>\n",
       "\t\t<td>1</td>\n",
       "\t\t<td>32</td>\n",
       "\t\t<td>34.6</td>\n",
       "\t\t<td>30.0</td>\n",
       "\t\t<td>0.529</td>\n",
       "\t\t<td>70</td>\n",
       "\t\t<td>96</td>\n",
       "\t\t<td>115</td>\n",
       "\t\t<td>1</td>\n",
       "\t</tr>\n",
       "\t<tr>\n",
       "\t\t<td>59</td>\n",
       "\t\t<td>2024-04-10 11:10:59.000000</td>\n",
       "\t\t<td>0</td>\n",
       "\t\t<td>22</td>\n",
       "\t\t<td>41.5</td>\n",
       "\t\t<td>41.0</td>\n",
       "\t\t<td>0.173</td>\n",
       "\t\t<td>64</td>\n",
       "\t\t<td>142</td>\n",
       "\t\t<td>105</td>\n",
       "\t\t<td>0</td>\n",
       "\t</tr>\n",
       "\t<tr>\n",
       "\t\t<td>38</td>\n",
       "\t\t<td>2024-04-10 11:10:59.000000</td>\n",
       "\t\t<td>1</td>\n",
       "\t\t<td>27</td>\n",
       "\t\t<td>38.2</td>\n",
       "\t\t<td>42.0</td>\n",
       "\t\t<td>0.503</td>\n",
       "\t\t<td>68</td>\n",
       "\t\t<td>0</td>\n",
       "\t\t<td>90</td>\n",
       "\t\t<td>2</td>\n",
       "\t</tr>\n",
       "\t<tr>\n",
       "\t\t<td>0</td>\n",
       "\t\t<td>2024-04-10 11:10:59.000000</td>\n",
       "\t\t<td>1</td>\n",
       "\t\t<td>50</td>\n",
       "\t\t<td>33.6</td>\n",
       "\t\t<td>35.0</td>\n",
       "\t\t<td>0.627</td>\n",
       "\t\t<td>72</td>\n",
       "\t\t<td>0</td>\n",
       "\t\t<td>148</td>\n",
       "\t\t<td>6</td>\n",
       "\t</tr>\n",
       "\t<tr>\n",
       "\t\t<td>17</td>\n",
       "\t\t<td>2024-04-10 11:10:59.000000</td>\n",
       "\t\t<td>1</td>\n",
       "\t\t<td>31</td>\n",
       "\t\t<td>29.6</td>\n",
       "\t\t<td>0.0</td>\n",
       "\t\t<td>0.254</td>\n",
       "\t\t<td>74</td>\n",
       "\t\t<td>0</td>\n",
       "\t\t<td>107</td>\n",
       "\t\t<td>7</td>\n",
       "\t</tr>\n",
       "\t<tr>\n",
       "\t\t<td>15</td>\n",
       "\t\t<td>2024-04-10 11:10:59.000000</td>\n",
       "\t\t<td>1</td>\n",
       "\t\t<td>32</td>\n",
       "\t\t<td>30.0</td>\n",
       "\t\t<td>0.0</td>\n",
       "\t\t<td>0.484</td>\n",
       "\t\t<td>0</td>\n",
       "\t\t<td>0</td>\n",
       "\t\t<td>100</td>\n",
       "\t\t<td>7</td>\n",
       "\t</tr>\n",
       "\t<tr>\n",
       "\t\t<td>34</td>\n",
       "\t\t<td>2024-04-10 11:10:59.000000</td>\n",
       "\t\t<td>0</td>\n",
       "\t\t<td>45</td>\n",
       "\t\t<td>27.6</td>\n",
       "\t\t<td>31.0</td>\n",
       "\t\t<td>0.512</td>\n",
       "\t\t<td>78</td>\n",
       "\t\t<td>0</td>\n",
       "\t\t<td>122</td>\n",
       "\t\t<td>10</td>\n",
       "\t</tr>\n",
       "\t<tr>\n",
       "\t\t<td>13</td>\n",
       "\t\t<td>2024-04-10 11:10:59.000000</td>\n",
       "\t\t<td>1</td>\n",
       "\t\t<td>59</td>\n",
       "\t\t<td>30.1</td>\n",
       "\t\t<td>23.0</td>\n",
       "\t\t<td>0.398</td>\n",
       "\t\t<td>60</td>\n",
       "\t\t<td>846</td>\n",
       "\t\t<td>189</td>\n",
       "\t\t<td>1</td>\n",
       "\t</tr>\n",
       "\t<tr>\n",
       "\t\t<td>99</td>\n",
       "\t\t<td>2024-04-10 11:10:59.000000</td>\n",
       "\t\t<td>1</td>\n",
       "\t\t<td>31</td>\n",
       "\t\t<td>49.7</td>\n",
       "\t\t<td>51.0</td>\n",
       "\t\t<td>0.325</td>\n",
       "\t\t<td>90</td>\n",
       "\t\t<td>220</td>\n",
       "\t\t<td>122</td>\n",
       "\t\t<td>1</td>\n",
       "\t</tr>\n",
       "\t<tr>\n",
       "\t\t<td>80</td>\n",
       "\t\t<td>2024-04-10 11:10:59.000000</td>\n",
       "\t\t<td>0</td>\n",
       "\t\t<td>22</td>\n",
       "\t\t<td>22.4</td>\n",
       "\t\t<td>13.0</td>\n",
       "\t\t<td>0.14</td>\n",
       "\t\t<td>44</td>\n",
       "\t\t<td>0</td>\n",
       "\t\t<td>113</td>\n",
       "\t\t<td>3</td>\n",
       "\t</tr>\n",
       "</table></html>"
      ],
      "text/plain": [
       "   patient_id            record_timestamp  outcome  age   bmi  skin_thickness  diabetes_pedigree_function  blood_pressure  insulin  glucose  pregnancies\n",
       "0          19  2024-04-10 11:10:59.000000        1   32  34.6            30.0                       0.529              70       96      115            1\n",
       "1          59  2024-04-10 11:10:59.000000        0   22  41.5            41.0                       0.173              64      142      105            0\n",
       "2          38  2024-04-10 11:10:59.000000        1   27  38.2            42.0                       0.503              68        0       90            2\n",
       "3           0  2024-04-10 11:10:59.000000        1   50  33.6            35.0                       0.627              72        0      148            6\n",
       "4          17  2024-04-10 11:10:59.000000        1   31  29.6             0.0                       0.254              74        0      107            7\n",
       "5          15  2024-04-10 11:10:59.000000        1   32  30.0             0.0                       0.484               0        0      100            7\n",
       "6          34  2024-04-10 11:10:59.000000        0   45  27.6            31.0                       0.512              78        0      122           10\n",
       "7          13  2024-04-10 11:10:59.000000        1   59  30.1            23.0                       0.398              60      846      189            1\n",
       "8          99  2024-04-10 11:10:59.000000        1   31  49.7            51.0                       0.325              90      220      122            1\n",
       "9          80  2024-04-10 11:10:59.000000        0   22  22.4            13.0                       0.140              44        0      113            3"
      ]
     },
     "execution_count": 123,
     "metadata": {},
     "output_type": "execute_result"
    }
   ],
   "source": [
    "# Assume you want to feed only week 15 data to your model. \n",
    "week15_df = df[df.record_timestamp.week()==15]\n",
    "week15_df"
   ]
  },
  {
   "cell_type": "markdown",
   "metadata": {},
   "source": [
    "<hr style=\"height:2px;border:none;background-color:#00233C;\">\n",
    "<b style = 'font-size:20px;font-family:Arial;color:#00233C'>8. Use Enterprise Feature Store with teradataml analytic functions </b>\n"
   ]
  },
  {
   "cell_type": "markdown",
   "metadata": {},
   "source": [
    "##### teradataml analytic functions accepts Features as input.\n",
    "###### Let's look at Diabetes prediction using teradataml analytic function `XGBoost()`."
   ]
  },
  {
   "cell_type": "code",
   "execution_count": 124,
   "metadata": {},
   "outputs": [
    {
     "data": {
      "text/html": [
       "<style type=\"text/css\">\n",
       "\ttable {border:ridge 5px;}\n",
       "\ttable td {border:inset 1px;}\n",
       "\ttable tr#HeaderRow {background-color:grey; color:white;}</style>\n",
       "<html><table>\n",
       "\t<tr id=\"HeaderRow\">\n",
       "\t\t<th>patient_id</th>\n",
       "\t\t<th>record_timestamp</th>\n",
       "\t\t<th>outcome</th>\n",
       "\t\t<th>blood_pressure</th>\n",
       "\t\t<th>diabetes_pedigree_function</th>\n",
       "\t\t<th>insulin</th>\n",
       "\t\t<th>glucose</th>\n",
       "\t</tr>\n",
       "\t<tr>\n",
       "\t\t<td>19</td>\n",
       "\t\t<td>2024-04-10 11:10:59.000000</td>\n",
       "\t\t<td>1</td>\n",
       "\t\t<td>70</td>\n",
       "\t\t<td>0.529</td>\n",
       "\t\t<td>96</td>\n",
       "\t\t<td>115</td>\n",
       "\t</tr>\n",
       "\t<tr>\n",
       "\t\t<td>59</td>\n",
       "\t\t<td>2024-04-10 11:10:59.000000</td>\n",
       "\t\t<td>0</td>\n",
       "\t\t<td>64</td>\n",
       "\t\t<td>0.173</td>\n",
       "\t\t<td>142</td>\n",
       "\t\t<td>105</td>\n",
       "\t</tr>\n",
       "\t<tr>\n",
       "\t\t<td>38</td>\n",
       "\t\t<td>2024-04-10 11:10:59.000000</td>\n",
       "\t\t<td>1</td>\n",
       "\t\t<td>68</td>\n",
       "\t\t<td>0.503</td>\n",
       "\t\t<td>0</td>\n",
       "\t\t<td>90</td>\n",
       "\t</tr>\n",
       "\t<tr>\n",
       "\t\t<td>78</td>\n",
       "\t\t<td>2024-04-10 11:10:59.000000</td>\n",
       "\t\t<td>1</td>\n",
       "\t\t<td>0</td>\n",
       "\t\t<td>0.27</td>\n",
       "\t\t<td>0</td>\n",
       "\t\t<td>131</td>\n",
       "\t</tr>\n",
       "\t<tr>\n",
       "\t\t<td>36</td>\n",
       "\t\t<td>2024-04-10 11:10:59.000000</td>\n",
       "\t\t<td>0</td>\n",
       "\t\t<td>76</td>\n",
       "\t\t<td>0.42</td>\n",
       "\t\t<td>0</td>\n",
       "\t\t<td>138</td>\n",
       "\t</tr>\n",
       "\t<tr>\n",
       "\t\t<td>97</td>\n",
       "\t\t<td>2024-04-10 11:10:59.000000</td>\n",
       "\t\t<td>0</td>\n",
       "\t\t<td>48</td>\n",
       "\t\t<td>0.323</td>\n",
       "\t\t<td>76</td>\n",
       "\t\t<td>71</td>\n",
       "\t</tr>\n",
       "\t<tr>\n",
       "\t\t<td>57</td>\n",
       "\t\t<td>2024-04-10 11:10:59.000000</td>\n",
       "\t\t<td>0</td>\n",
       "\t\t<td>88</td>\n",
       "\t\t<td>0.962</td>\n",
       "\t\t<td>110</td>\n",
       "\t\t<td>100</td>\n",
       "\t</tr>\n",
       "\t<tr>\n",
       "\t\t<td>80</td>\n",
       "\t\t<td>2024-04-10 11:10:59.000000</td>\n",
       "\t\t<td>0</td>\n",
       "\t\t<td>44</td>\n",
       "\t\t<td>0.14</td>\n",
       "\t\t<td>0</td>\n",
       "\t\t<td>113</td>\n",
       "\t</tr>\n",
       "\t<tr>\n",
       "\t\t<td>40</td>\n",
       "\t\t<td>2024-04-10 11:10:59.000000</td>\n",
       "\t\t<td>0</td>\n",
       "\t\t<td>64</td>\n",
       "\t\t<td>0.271</td>\n",
       "\t\t<td>70</td>\n",
       "\t\t<td>180</td>\n",
       "\t</tr>\n",
       "\t<tr>\n",
       "\t\t<td>61</td>\n",
       "\t\t<td>2024-04-10 11:10:59.000000</td>\n",
       "\t\t<td>1</td>\n",
       "\t\t<td>72</td>\n",
       "\t\t<td>0.27</td>\n",
       "\t\t<td>0</td>\n",
       "\t\t<td>133</td>\n",
       "\t</tr>\n",
       "</table></html>"
      ],
      "text/plain": [
       "                      record_timestamp  outcome  blood_pressure  diabetes_pedigree_function  insulin  glucose\n",
       "patient_id                                                                                                   \n",
       "19          2024-04-10 11:10:59.000000        1              70                       0.529       96      115\n",
       "59          2024-04-10 11:10:59.000000        0              64                       0.173      142      105\n",
       "38          2024-04-10 11:10:59.000000        1              68                       0.503        0       90\n",
       "78          2024-04-10 11:10:59.000000        1               0                       0.270        0      131\n",
       "36          2024-04-10 11:10:59.000000        0              76                       0.420        0      138\n",
       "97          2024-04-10 11:10:59.000000        0              48                       0.323       76       71\n",
       "57          2024-04-10 11:10:59.000000        0              88                       0.962      110      100\n",
       "80          2024-04-10 11:10:59.000000        0              44                       0.140        0      113\n",
       "40          2024-04-10 11:10:59.000000        0              64                       0.271       70      180\n",
       "61          2024-04-10 11:10:59.000000        1              72                       0.270        0      133"
      ]
     },
     "execution_count": 124,
     "metadata": {},
     "output_type": "execute_result"
    }
   ],
   "source": [
    "# First get the Dataset.\n",
    "medical_readings_df = fs.get_dataset('MedicalReadings')\n",
    "medical_readings_df"
   ]
  },
  {
   "cell_type": "code",
   "execution_count": 125,
   "metadata": {},
   "outputs": [],
   "source": [
    "# Split DataSet in to two samples.\n",
    "sampled_df = medical_readings_df.sample(frac=[0.7, 0.3])\n",
    "train_df = sampled_df[sampled_df.sampleid==2]\n",
    "test_df = sampled_df[sampled_df.sampleid==1]"
   ]
  },
  {
   "cell_type": "code",
   "execution_count": 126,
   "metadata": {},
   "outputs": [],
   "source": [
    "# Get the FeatureGroup. Notice the Feature `outcome` should be set as label. \n",
    "medical_readings_fg=fs.get_feature_group('MedicalReadings')\n",
    "medical_readings_fg.labels='outcome'"
   ]
  },
  {
   "cell_type": "code",
   "execution_count": 127,
   "metadata": {},
   "outputs": [],
   "source": [
    "from teradataml import XGBoost\n",
    "model = XGBoost(data=train_df,\n",
    "                input_columns=medical_readings_fg.features,\n",
    "                response_column = medical_readings_fg.labels,\n",
    "                max_depth=3,\n",
    "                lambda1 = 1000.0,\n",
    "                model_type='Classification',\n",
    "                seed=-1,\n",
    "                shrinkage_factor=0.1,\n",
    "                iter_num=2)"
   ]
  },
  {
   "cell_type": "code",
   "execution_count": 128,
   "metadata": {},
   "outputs": [],
   "source": [
    "# Score the model using test data.\n",
    "XGBoostPredict_out_1 = model.predict(newdata=test_df,\n",
    "                                     id_column='patient_id',\n",
    "                                     model_type='Classification'\n",
    "                                    )"
   ]
  },
  {
   "cell_type": "code",
   "execution_count": 129,
   "metadata": {},
   "outputs": [
    {
     "data": {
      "text/html": [
       "<style type=\"text/css\">\n",
       "\ttable {border:ridge 5px;}\n",
       "\ttable td {border:inset 1px;}\n",
       "\ttable tr#HeaderRow {background-color:grey; color:white;}</style>\n",
       "<html><table>\n",
       "\t<tr id=\"HeaderRow\">\n",
       "\t\t<th>patient_id</th>\n",
       "\t\t<th>Prediction</th>\n",
       "\t\t<th>Confidence_Lower</th>\n",
       "\t\t<th>Confidence_upper</th>\n",
       "\t</tr>\n",
       "\t<tr>\n",
       "\t\t<td>17</td>\n",
       "\t\t<td>0</td>\n",
       "\t\t<td>1.0</td>\n",
       "\t\t<td>1.0</td>\n",
       "\t</tr>\n",
       "\t<tr>\n",
       "\t\t<td>34</td>\n",
       "\t\t<td>0</td>\n",
       "\t\t<td>0.5</td>\n",
       "\t\t<td>0.5</td>\n",
       "\t</tr>\n",
       "\t<tr>\n",
       "\t\t<td>13</td>\n",
       "\t\t<td>0</td>\n",
       "\t\t<td>0.5</td>\n",
       "\t\t<td>0.5</td>\n",
       "\t</tr>\n",
       "\t<tr>\n",
       "\t\t<td>40</td>\n",
       "\t\t<td>1</td>\n",
       "\t\t<td>1.0</td>\n",
       "\t\t<td>1.0</td>\n",
       "\t</tr>\n",
       "\t<tr>\n",
       "\t\t<td>80</td>\n",
       "\t\t<td>0</td>\n",
       "\t\t<td>0.5</td>\n",
       "\t\t<td>0.5</td>\n",
       "\t</tr>\n",
       "\t<tr>\n",
       "\t\t<td>59</td>\n",
       "\t\t<td>0</td>\n",
       "\t\t<td>1.0</td>\n",
       "\t\t<td>1.0</td>\n",
       "\t</tr>\n",
       "\t<tr>\n",
       "\t\t<td>38</td>\n",
       "\t\t<td>0</td>\n",
       "\t\t<td>1.0</td>\n",
       "\t\t<td>1.0</td>\n",
       "\t</tr>\n",
       "\t<tr>\n",
       "\t\t<td>57</td>\n",
       "\t\t<td>0</td>\n",
       "\t\t<td>1.0</td>\n",
       "\t\t<td>1.0</td>\n",
       "\t</tr>\n",
       "\t<tr>\n",
       "\t\t<td>19</td>\n",
       "\t\t<td>0</td>\n",
       "\t\t<td>0.5</td>\n",
       "\t\t<td>0.5</td>\n",
       "\t</tr>\n",
       "\t<tr>\n",
       "\t\t<td>15</td>\n",
       "\t\t<td>0</td>\n",
       "\t\t<td>1.0</td>\n",
       "\t\t<td>1.0</td>\n",
       "\t</tr>\n",
       "</table></html>"
      ],
      "text/plain": [
       "   patient_id  Prediction  Confidence_Lower  Confidence_upper\n",
       "0          17           0               1.0               1.0\n",
       "1          34           0               0.5               0.5\n",
       "2          13           0               0.5               0.5\n",
       "3          40           1               1.0               1.0\n",
       "4          80           0               0.5               0.5\n",
       "5          59           0               1.0               1.0\n",
       "6          38           0               1.0               1.0\n",
       "7          57           0               1.0               1.0\n",
       "8          19           0               0.5               0.5\n",
       "9          15           0               1.0               1.0"
      ]
     },
     "execution_count": 129,
     "metadata": {},
     "output_type": "execute_result"
    }
   ],
   "source": [
    "XGBoostPredict_out_1.result"
   ]
  },
  {
   "cell_type": "markdown",
   "metadata": {},
   "source": [
    "<hr style=\"height:2px;border:none;background-color:#00233C;\">\n",
    "<b style = 'font-size:20px;font-family:Arial;color:#00233C'>9. Repository Governance </b>\n"
   ]
  },
  {
   "cell_type": "markdown",
   "metadata": {},
   "source": [
    "<p style = 'font-size:16px;font-family:Arial;color:#00233C'>\n",
    "So far, we have been working in a repo called \"LabRepoOne\", with Teradata EFS Functions, you can manage your Feature Store Repos and \"Promote\" them to work as a production repo.\n",
    "</p> \n",
    "\n",
    "<p style = 'font-size:16px;font-family:Arial;color:#00233C'>\n",
    "<b>Note : </b> The Feature Store Functions are not materializing the data of your features into production, this only for the metadata of the feature repo. Make sure that your ETL processes are executed in the production datasources. \n",
    "</p> "
   ]
  },
  {
   "cell_type": "code",
   "execution_count": 130,
   "metadata": {},
   "outputs": [
    {
     "name": "stdout",
     "output_type": "stream",
     "text": [
      "EFS is already setup for the repo ProdLabRepoOne.\n"
     ]
    }
   ],
   "source": [
    "# First, create a new repo to 'ProdRepoOne' to move Features.\n",
    "ProdLabRepoOne = FeatureStore(\"ProdLabRepoOne\")\n",
    "# Setup prod repo if it is not setup.\n",
    "ProdLabRepoOne.setup()"
   ]
  },
  {
   "cell_type": "code",
   "execution_count": 132,
   "metadata": {},
   "outputs": [
    {
     "data": {
      "text/plain": [
       "True"
      ]
     },
     "execution_count": 132,
     "metadata": {},
     "output_type": "execute_result"
    }
   ],
   "source": [
    "# Assume you want to promote FeatureGroup 'MedicalReadings' from 'LabRepoOne' to 'ProdLabRepoOne'.\n",
    "# First get the FeatureGroup from LabRepoOne. Then apply it to 'ProdLabRepoOne'.\n",
    "ProdLabRepoOne.apply(fs.get_feature_group('MedicalReadings'))"
   ]
  },
  {
   "cell_type": "code",
   "execution_count": 133,
   "metadata": {},
   "outputs": [
    {
     "data": {
      "text/html": [
       "<style type=\"text/css\">\n",
       "\ttable {border:ridge 5px;}\n",
       "\ttable td {border:inset 1px;}\n",
       "\ttable tr#HeaderRow {background-color:grey; color:white;}</style>\n",
       "<html><table>\n",
       "\t<tr id=\"HeaderRow\">\n",
       "\t\t<th>name</th>\n",
       "\t\t<th>description</th>\n",
       "\t\t<th>data_source_name</th>\n",
       "\t\t<th>entity_name</th>\n",
       "\t\t<th>creation_time</th>\n",
       "\t\t<th>modified_time</th>\n",
       "\t</tr>\n",
       "\t<tr>\n",
       "\t\t<td>MedicalReadings</td>\n",
       "\t\t<td>None</td>\n",
       "\t\t<td>MedicalReadings</td>\n",
       "\t\t<td>MedicalReadings</td>\n",
       "\t\t<td>2024-10-18 09:55:37.349290</td>\n",
       "\t\t<td>None</td>\n",
       "\t</tr>\n",
       "</table></html>"
      ],
      "text/plain": [
       "                description data_source_name      entity_name               creation_time modified_time\n",
       "name                                                                                                   \n",
       "MedicalReadings        None  MedicalReadings  MedicalReadings  2024-10-18 09:55:37.349290          None"
      ]
     },
     "execution_count": 133,
     "metadata": {},
     "output_type": "execute_result"
    }
   ],
   "source": [
    "# Let's verify ProdLabRepoOne FeatureGroups.\n",
    "ProdLabRepoOne.list_feature_groups()"
   ]
  },
  {
   "cell_type": "code",
   "execution_count": 134,
   "metadata": {},
   "outputs": [
    {
     "data": {
      "text/html": [
       "<style type=\"text/css\">\n",
       "\ttable {border:ridge 5px;}\n",
       "\ttable td {border:inset 1px;}\n",
       "\ttable tr#HeaderRow {background-color:grey; color:white;}</style>\n",
       "<html><table>\n",
       "\t<tr id=\"HeaderRow\">\n",
       "\t\t<th>name</th>\n",
       "\t\t<th>column_name</th>\n",
       "\t\t<th>description</th>\n",
       "\t\t<th>tags</th>\n",
       "\t\t<th>data_type</th>\n",
       "\t\t<th>feature_type</th>\n",
       "\t\t<th>status</th>\n",
       "\t\t<th>creation_time</th>\n",
       "\t\t<th>modified_time</th>\n",
       "\t\t<th>group_name</th>\n",
       "\t</tr>\n",
       "\t<tr>\n",
       "\t\t<td>glucose</td>\n",
       "\t\t<td>glucose</td>\n",
       "\t\t<td>None</td>\n",
       "\t\t<td>None</td>\n",
       "\t\t<td>BIGINT</td>\n",
       "\t\t<td>CONTINUOUS</td>\n",
       "\t\t<td>ACTIVE</td>\n",
       "\t\t<td>2024-10-18 09:55:37.192882</td>\n",
       "\t\t<td>None</td>\n",
       "\t\t<td>MedicalReadings</td>\n",
       "\t</tr>\n",
       "\t<tr>\n",
       "\t\t<td>diabetes_pedigree_function</td>\n",
       "\t\t<td>diabetes_pedigree_function</td>\n",
       "\t\t<td>None</td>\n",
       "\t\t<td>None</td>\n",
       "\t\t<td>FLOAT</td>\n",
       "\t\t<td>CONTINUOUS</td>\n",
       "\t\t<td>ACTIVE</td>\n",
       "\t\t<td>2024-10-18 09:55:37.129559</td>\n",
       "\t\t<td>None</td>\n",
       "\t\t<td>MedicalReadings</td>\n",
       "\t</tr>\n",
       "\t<tr>\n",
       "\t\t<td>outcome</td>\n",
       "\t\t<td>outcome</td>\n",
       "\t\t<td>None</td>\n",
       "\t\t<td>None</td>\n",
       "\t\t<td>BIGINT</td>\n",
       "\t\t<td>CONTINUOUS</td>\n",
       "\t\t<td>ACTIVE</td>\n",
       "\t\t<td>2024-10-18 09:55:37.022138</td>\n",
       "\t\t<td>None</td>\n",
       "\t\t<td>MedicalReadings</td>\n",
       "\t</tr>\n",
       "\t<tr>\n",
       "\t\t<td>insulin</td>\n",
       "\t\t<td>insulin</td>\n",
       "\t\t<td>None</td>\n",
       "\t\t<td>None</td>\n",
       "\t\t<td>BIGINT</td>\n",
       "\t\t<td>CONTINUOUS</td>\n",
       "\t\t<td>ACTIVE</td>\n",
       "\t\t<td>2024-10-18 09:55:37.171440</td>\n",
       "\t\t<td>None</td>\n",
       "\t\t<td>MedicalReadings</td>\n",
       "\t</tr>\n",
       "\t<tr>\n",
       "\t\t<td>blood_pressure</td>\n",
       "\t\t<td>blood_pressure</td>\n",
       "\t\t<td>None</td>\n",
       "\t\t<td>None</td>\n",
       "\t\t<td>BIGINT</td>\n",
       "\t\t<td>CONTINUOUS</td>\n",
       "\t\t<td>ACTIVE</td>\n",
       "\t\t<td>2024-10-18 09:55:37.085649</td>\n",
       "\t\t<td>None</td>\n",
       "\t\t<td>MedicalReadings</td>\n",
       "\t</tr>\n",
       "</table></html>"
      ],
      "text/plain": [
       "                                           column_name description  tags data_type feature_type  status               creation_time modified_time       group_name\n",
       "name                                                                                                                                                              \n",
       "glucose                                        glucose        None  None    BIGINT   CONTINUOUS  ACTIVE  2024-10-18 09:55:37.192882          None  MedicalReadings\n",
       "diabetes_pedigree_function  diabetes_pedigree_function        None  None     FLOAT   CONTINUOUS  ACTIVE  2024-10-18 09:55:37.129559          None  MedicalReadings\n",
       "outcome                                        outcome        None  None    BIGINT   CONTINUOUS  ACTIVE  2024-10-18 09:55:37.022138          None  MedicalReadings\n",
       "insulin                                        insulin        None  None    BIGINT   CONTINUOUS  ACTIVE  2024-10-18 09:55:37.171440          None  MedicalReadings\n",
       "blood_pressure                          blood_pressure        None  None    BIGINT   CONTINUOUS  ACTIVE  2024-10-18 09:55:37.085649          None  MedicalReadings"
      ]
     },
     "execution_count": 134,
     "metadata": {},
     "output_type": "execute_result"
    }
   ],
   "source": [
    "# Let's verify ProdLabRepoOne Features.\n",
    "ProdLabRepoOne.list_features()"
   ]
  },
  {
   "cell_type": "code",
   "execution_count": 135,
   "metadata": {},
   "outputs": [
    {
     "data": {
      "text/html": [
       "<style type=\"text/css\">\n",
       "\ttable {border:ridge 5px;}\n",
       "\ttable td {border:inset 1px;}\n",
       "\ttable tr#HeaderRow {background-color:grey; color:white;}</style>\n",
       "<html><table>\n",
       "\t<tr id=\"HeaderRow\">\n",
       "\t\t<th>name</th>\n",
       "\t\t<th>description</th>\n",
       "\t\t<th>timestamp_col_name</th>\n",
       "\t\t<th>source</th>\n",
       "\t\t<th>creation_time</th>\n",
       "\t\t<th>modified_time</th>\n",
       "\t</tr>\n",
       "\t<tr>\n",
       "\t\t<td>MedicalReadings</td>\n",
       "\t\t<td>None</td>\n",
       "\t\t<td>record_timestamp</td>\n",
       "\t\t<td>select * from \"medical_readings\"</td>\n",
       "\t\t<td>2024-10-18 09:55:37.306158</td>\n",
       "\t\t<td>None</td>\n",
       "\t</tr>\n",
       "</table></html>"
      ],
      "text/plain": [
       "                description timestamp_col_name                            source               creation_time modified_time\n",
       "name                                                                                                                      \n",
       "MedicalReadings        None   record_timestamp  select * from \"medical_readings\"  2024-10-18 09:55:37.306158          None"
      ]
     },
     "execution_count": 135,
     "metadata": {},
     "output_type": "execute_result"
    }
   ],
   "source": [
    "# Let's verify ProdLabRepoOne DataSources.\n",
    "ProdLabRepoOne.list_data_sources()"
   ]
  },
  {
   "cell_type": "code",
   "execution_count": 136,
   "metadata": {},
   "outputs": [
    {
     "data": {
      "text/html": [
       "<style type=\"text/css\">\n",
       "\ttable {border:ridge 5px;}\n",
       "\ttable td {border:inset 1px;}\n",
       "\ttable tr#HeaderRow {background-color:grey; color:white;}</style>\n",
       "<html><table>\n",
       "\t<tr id=\"HeaderRow\">\n",
       "\t\t<th>name</th>\n",
       "\t\t<th>description</th>\n",
       "\t\t<th>creation_time</th>\n",
       "\t\t<th>modified_time</th>\n",
       "\t\t<th>entity_column</th>\n",
       "\t</tr>\n",
       "\t<tr>\n",
       "\t\t<td>MedicalReadings</td>\n",
       "\t\t<td>None</td>\n",
       "\t\t<td>2024-10-18 09:55:37.215982</td>\n",
       "\t\t<td>None</td>\n",
       "\t\t<td>patient_id</td>\n",
       "\t</tr>\n",
       "</table></html>"
      ],
      "text/plain": [
       "                description               creation_time modified_time entity_column\n",
       "name                                                                               \n",
       "MedicalReadings        None  2024-10-18 09:55:37.215982          None    patient_id"
      ]
     },
     "execution_count": 136,
     "metadata": {},
     "output_type": "execute_result"
    }
   ],
   "source": [
    "# Let's verify ProdLabRepoOne Entities.\n",
    "ProdLabRepoOne.list_entities()"
   ]
  },
  {
   "cell_type": "markdown",
   "metadata": {},
   "source": [
    "<hr style=\"height:2px;border:none;background-color:#00233C;\">\n",
    "<b style = 'font-size:20px;font-family:Arial;color:#00233C'> Disconnect from Vantage </b>"
   ]
  },
  {
   "cell_type": "code",
   "execution_count": 137,
   "metadata": {},
   "outputs": [
    {
     "data": {
      "text/plain": [
       "True"
      ]
     },
     "execution_count": 137,
     "metadata": {},
     "output_type": "execute_result"
    }
   ],
   "source": [
    "remove_context()"
   ]
  },
  {
   "cell_type": "markdown",
   "metadata": {},
   "source": [
    "<footer style=\"padding-bottom:35px; background:#f9f9f9; border-bottom:3px solid #00233C\">\n",
    "    <div style=\"float:left;margin-top:14px\">ClearScape Analytics™</div>\n",
    "    <div style=\"float:right;\">\n",
    "        <div style=\"float:left; margin-top:14px\">\n",
    "            Copyright © Teradata Corporation - 2023, 2024. All Rights Reserved\n",
    "        </div>\n",
    "    </div>\n",
    "</footer>"
   ]
  }
 ],
 "metadata": {
  "kernelspec": {
   "display_name": "Teradataml Dev Environment",
   "language": "python",
   "name": "python3"
  },
  "language_info": {
   "codemirror_mode": {
    "name": "ipython",
    "version": 3
   },
   "file_extension": ".py",
   "mimetype": "text/x-python",
   "name": "python",
   "nbconvert_exporter": "python",
   "pygments_lexer": "ipython3",
   "version": "3.8.19"
  }
 },
 "nbformat": 4,
 "nbformat_minor": 4
}
