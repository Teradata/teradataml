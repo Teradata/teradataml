{
 "cells": [
  {
   "cell_type": "markdown",
   "id": "b7ff0f30-dc36-4a29-b567-bb83477980a5",
   "metadata": {},
   "source": [
    "<header style=\"padding:1px;background:#f9f9f9;border-top:3px solid #00b2b1\"><img id=\"Teradata-logo\" src=\"https://www.teradata.com/Teradata/Images/Rebrand/Teradata_logo-two_color.png\" alt=\"Teradata\" width=\"220\" align=\"right\" />\n",
    "\n",
    "<b style = 'font-size:28px;font-family:Arial;color:#E37C4D'>Sentiment Analysis using UDF</b>\n",
    "</header>"
   ]
  },
  {
   "cell_type": "markdown",
   "id": "16a5e063-0ff1-434c-8b15-d2d2114accd0",
   "metadata": {},
   "source": [
    "### Disclaimer\n",
    "The sample code (“Sample Code”) provided is not covered by any Teradata agreements. Please be aware that Teradata has no control over the model responses to such sample code and such response may vary. The use of the model by Teradata is strictly for demonstration purposes and does not constitute any form of certification or endorsement. The sample code is provided “AS IS” and any express or implied warranties, including the implied warranties of merchantability and fitness for a particular purpose, are disclaimed. In no event shall Teradata be liable for any direct, indirect, incidental, special, exemplary, or consequential damages (including, but not limited to, procurement of substitute goods or services; loss of use, data, or profits; or business interruption) sustained by you or a third party, however caused and on any theory of liability, whether in contract, strict liability, or tort arising in any way out of the use of this sample code, even if advised of the possibility of such damage."
   ]
  },
  {
   "cell_type": "markdown",
   "id": "0814d414-543b-4ef8-8a86-196dd08d9f58",
   "metadata": {},
   "source": [
    "<b style = 'font-size:28px;font-family:Arial;color:#E37C4D'>Usecase</b><br>\n",
    "Create a user defined function to determine whether the reviews of the product provided by the customer in the given dataset is positive, negative or neutral using VADER Sentiment Analysis Tool."
   ]
  },
  {
   "cell_type": "markdown",
   "id": "570a4804-ac75-4771-b677-cc4f99398a93",
   "metadata": {},
   "source": [
    "<b style = 'font-size:28px;font-family:Arial;color:#E37C4D'>Import the required libraries</b>"
   ]
  },
  {
   "cell_type": "code",
   "execution_count": 2,
   "id": "cb7a4673-34bf-4b07-bde2-3c6ded25151b",
   "metadata": {},
   "outputs": [],
   "source": [
    "# Importing required libraries\n",
    "import getpass\n",
    "from teradataml import *\n",
    "from teradataml.dataframe.functions import udf\n",
    "from teradatasqlalchemy.types import VARCHAR"
   ]
  },
  {
   "cell_type": "markdown",
   "id": "a77127d9-de0a-404a-b29e-47e26830c8ff",
   "metadata": {},
   "source": [
    "<b style = 'font-size:28px;font-family:Arial;color:#E37C4D'>Connect to Vantage</b>"
   ]
  },
  {
   "cell_type": "code",
   "execution_count": 3,
   "id": "e300dd06-97a4-4339-a2c2-4dc8a5a63a5d",
   "metadata": {},
   "outputs": [
    {
     "name": "stdout",
     "output_type": "stream",
     "text": [
      "Hostname:  ········\n",
      "Username:  ········\n",
      "Password:  ········\n"
     ]
    }
   ],
   "source": [
    "# Create the connection.\n",
    "td_context = create_context(host=getpass.getpass(\"Hostname: \"), username=getpass.getpass(\"Username: \"), password=getpass.getpass(\"Password: \"))"
   ]
  },
  {
   "cell_type": "code",
   "execution_count": 4,
   "id": "ce7400f9-a545-4d6f-9bbe-7d346ed2ebb7",
   "metadata": {},
   "outputs": [
    {
     "name": "stdout",
     "output_type": "stream",
     "text": [
      "auth_data:  ········\n",
      "ues_url:  ········\n"
     ]
    },
    {
     "data": {
      "text/plain": [
       "True"
      ]
     },
     "execution_count": 4,
     "metadata": {},
     "output_type": "execute_result"
    }
   ],
   "source": [
    "# Set the Authentication Token\n",
    "set_config_params(auth_token=getpass.getpass(\"auth_data: \"), ues_url=getpass.getpass(\"ues_url: \"))"
   ]
  },
  {
   "cell_type": "markdown",
   "id": "ecc208da-9f1e-44f3-8846-5068a0604e6c",
   "metadata": {},
   "source": [
    "<b style = 'font-size:28px;font-family:Arial;color:#E37C4D'>Loading Dataset</b>"
   ]
  },
  {
   "cell_type": "code",
   "execution_count": 5,
   "id": "8c3e2cf7-e51e-4e00-8f6a-e5ae633784fb",
   "metadata": {},
   "outputs": [
    {
     "name": "stdout",
     "output_type": "stream",
     "text": [
      "WARNING: Skipped loading table sentiment_extract_input since it already exists in the database.\n"
     ]
    }
   ],
   "source": [
    "# Load the example dataset.\n",
    "load_example_data(\"sentimentextractor\", \"sentiment_extract_input\")\n",
    "df = DataFrame(\"sentiment_extract_input\")"
   ]
  },
  {
   "cell_type": "code",
   "execution_count": 6,
   "id": "2ca25322-6454-450e-8644-ac873241eb4d",
   "metadata": {},
   "outputs": [
    {
     "data": {
      "text/html": [
       "<style type=\"text/css\">\n",
       "\ttable {border:ridge 5px;}\n",
       "\ttable td {border:inset 1px;}\n",
       "\ttable tr#HeaderRow {background-color:grey; color:white;}</style>\n",
       "<html><table>\n",
       "\t<tr id=\"HeaderRow\">\n",
       "\t\t<th>id</th>\n",
       "\t\t<th>product</th>\n",
       "\t\t<th>category</th>\n",
       "\t\t<th>review</th>\n",
       "\t</tr>\n",
       "\t<tr>\n",
       "\t\t<td>4</td>\n",
       "\t\t<td>gps</td>\n",
       "\t\t<td>pos</td>\n",
       "\t\t<td>it is a fine gps . outstanding performance ,  works great . you can even get incredible coordinate accuracy from streets and trips to compare .</td>\n",
       "\t</tr>\n",
       "\t<tr>\n",
       "\t\t<td>8</td>\n",
       "\t\t<td>camera</td>\n",
       "\t\t<td>neg</td>\n",
       "\t\t<td>i hate my camera , and im stuck with it  . this camera sucks so bad , even the dealers on ebay have difficulty selling it. horrible indoors , does not capture fast action, screwy software , no suprise , and screwy audio/video codec that does not work with hardly any app</td>\n",
       "\t</tr>\n",
       "\t<tr>\n",
       "\t\t<td>6</td>\n",
       "\t\t<td>gps</td>\n",
       "\t\t<td>neg</td>\n",
       "\t\t<td>most of the complaints i have seen in here are from a lack of rtfm. i have never seen so many mistakes do to what i think has to be none update of data to the system . i wish i could make all the rating stars be empty .</td>\n",
       "\t</tr>\n",
       "\t<tr>\n",
       "\t\t<td>5</td>\n",
       "\t\t<td>gps</td>\n",
       "\t\t<td>pos</td>\n",
       "\t\t<td>nice graphs and map route info  .i would not run outside again without this unique gadget  . great job. big display , good backlight , really watertight , training assistant .i use in trail running and  it worked well through out the race</td>\n",
       "\t</tr>\n",
       "\t<tr>\n",
       "\t\t<td>3</td>\n",
       "\t\t<td>camera</td>\n",
       "\t\t<td>pos</td>\n",
       "\t\t<td>this is a nice camera , delivering good quality video images decent photos  .</td>\n",
       "\t</tr>\n",
       "\t<tr>\n",
       "\t\t<td>10</td>\n",
       "\t\t<td>camera</td>\n",
       "\t\t<td>neg</td>\n",
       "\t\t<td>i returned my camera to the vendor as i will not tolerate a sub standard product that is a known issue especially from vendor who will not admt that this needs to be removed from the shelf due to failing parts updated  . due to the constant need for repair , i would never recommend this product  .</td>\n",
       "\t</tr>\n",
       "\t<tr>\n",
       "\t\t<td>2</td>\n",
       "\t\t<td>office suite</td>\n",
       "\t\t<td>pos</td>\n",
       "\t\t<td>it is the best office suite i have used to date  . it is launched before office 2010 and it is ages ahead of it already  . the fact that i could comfortable import xls , doc , ppt and modify them , and then export them back to the doc , xls , ppt is terrific . i needed the compatibility  .it is a very intuitive suite and the drag    drop functionality is terrific .</td>\n",
       "\t</tr>\n",
       "\t<tr>\n",
       "\t\t<td>1</td>\n",
       "\t\t<td>camera</td>\n",
       "\t\t<td>pos</td>\n",
       "\t\t<td>we primarily bought this camera for high image quality and excellent video capability without paying the price for a dslr  .it has excelled in what we expected of it , and consequently represented excellent value for me  .all my friends want my camera for their vacations  . i would recommend this camera to anybody  .definitely worth the price  .plus , when you buy some accessories , it becomes even more powerful  </td>\n",
       "\t</tr>\n",
       "\t<tr>\n",
       "\t\t<td>7</td>\n",
       "\t\t<td>gps</td>\n",
       "\t\t<td>neg</td>\n",
       "\t\t<td>this machine is all screwed up  . on my way home from a friends house it told me there is no possible route  . i found their website support difficult to navigate . i am is so disapointed and just returned it and now looking for another one</td>\n",
       "\t</tr>\n",
       "\t<tr>\n",
       "\t\t<td>9</td>\n",
       "\t\t<td>television</td>\n",
       "\t\t<td>neg</td>\n",
       "\t\t<td>$3k is way too much money to drop onto a piece of crap .poor customer support . after about 1 and a half years and hardly using the tv , a big yellow pixilated stain appeared. product is very inferior and subject to several lawsuits  . i expressed my dissatifaction with the situation as this is a known issue</td>\n",
       "\t</tr>\n",
       "</table></html>"
      ],
      "text/plain": [
       "         product category                                                                                                                                                                                                                                                                                                                                                                                                                             review\n",
       "id                                                                                                                                                                                                                                                                                                                                                                                                                                                          \n",
       "4            gps      pos                                                                                                                                                                                                                                                                                    it is a fine gps . outstanding performance ,  works great . you can even get incredible coordinate accuracy from streets and trips to compare .\n",
       "8         camera      neg                                                                                                                                                     i hate my camera , and im stuck with it  . this camera sucks so bad , even the dealers on ebay have difficulty selling it. horrible indoors , does not capture fast action, screwy software , no suprise , and screwy audio/video codec that does not work with hardly any app\n",
       "6            gps      neg                                                                                                                                                                                                        most of the complaints i have seen in here are from a lack of rtfm. i have never seen so many mistakes do to what i think has to be none update of data to the system . i wish i could make all the rating stars be empty .\n",
       "5            gps      pos                                                                                                                                                                                     nice graphs and map route info  .i would not run outside again without this unique gadget  . great job. big display , good backlight , really watertight , training assistant .i use in trail running and  it worked well through out the race\n",
       "3         camera      pos                                                                                                                                                                                                                                                                                                                                                      this is a nice camera , delivering good quality video images decent photos  .\n",
       "10        camera      neg                                                                                                                         i returned my camera to the vendor as i will not tolerate a sub standard product that is a known issue especially from vendor who will not admt that this needs to be removed from the shelf due to failing parts updated  . due to the constant need for repair , i would never recommend this product  .\n",
       "2   office suite      pos                                                    it is the best office suite i have used to date  . it is launched before office 2010 and it is ages ahead of it already  . the fact that i could comfortable import xls , doc , ppt and modify them , and then export them back to the doc , xls , ppt is terrific . i needed the compatibility  .it is a very intuitive suite and the drag    drop functionality is terrific .\n",
       "1         camera      pos  we primarily bought this camera for high image quality and excellent video capability without paying the price for a dslr  .it has excelled in what we expected of it , and consequently represented excellent value for me  .all my friends want my camera for their vacations  . i would recommend this camera to anybody  .definitely worth the price  .plus , when you buy some accessories , it becomes even more powerful  \n",
       "7            gps      neg                                                                                                                                                                                   this machine is all screwed up  . on my way home from a friends house it told me there is no possible route  . i found their website support difficult to navigate . i am is so disapointed and just returned it and now looking for another one\n",
       "9     television      neg                                                                                                              $3k is way too much money to drop onto a piece of crap .poor customer support . after about 1 and a half years and hardly using the tv , a big yellow pixilated stain appeared. product is very inferior and subject to several lawsuits  . i expressed my dissatifaction with the situation as this is a known issue"
      ]
     },
     "execution_count": 6,
     "metadata": {},
     "output_type": "execute_result"
    }
   ],
   "source": [
    "df"
   ]
  },
  {
   "cell_type": "markdown",
   "id": "8186de1b-1a54-4ae1-a63b-687586c9e894",
   "metadata": {},
   "source": [
    "<b style = 'font-size:28px;font-family:Arial;color:#E37C4D'>Setting up the Environment</b>"
   ]
  },
  {
   "cell_type": "code",
   "execution_count": 7,
   "id": "ef89628b-c82d-4868-9523-5ef0768d0932",
   "metadata": {},
   "outputs": [
    {
     "data": {
      "text/html": [
       "<div>\n",
       "<style scoped>\n",
       "    .dataframe tbody tr th:only-of-type {\n",
       "        vertical-align: middle;\n",
       "    }\n",
       "\n",
       "    .dataframe tbody tr th {\n",
       "        vertical-align: top;\n",
       "    }\n",
       "\n",
       "    .dataframe thead th {\n",
       "        text-align: right;\n",
       "    }\n",
       "</style>\n",
       "<table border=\"1\" class=\"dataframe\">\n",
       "  <thead>\n",
       "    <tr style=\"text-align: right;\">\n",
       "      <th></th>\n",
       "      <th>env_name</th>\n",
       "      <th>env_description</th>\n",
       "      <th>base_env_name</th>\n",
       "      <th>language</th>\n",
       "      <th>conda</th>\n",
       "    </tr>\n",
       "  </thead>\n",
       "  <tbody>\n",
       "    <tr>\n",
       "      <th>0</th>\n",
       "      <td>conda_env_3_10_demo</td>\n",
       "      <td>Conda environment for notebook demo</td>\n",
       "      <td>python_3.10</td>\n",
       "      <td>python</td>\n",
       "      <td>True</td>\n",
       "    </tr>\n",
       "    <tr>\n",
       "      <th>1</th>\n",
       "      <td>demo_env</td>\n",
       "      <td>Demo env 1.</td>\n",
       "      <td>python_3.10</td>\n",
       "      <td>Python</td>\n",
       "      <td>False</td>\n",
       "    </tr>\n",
       "    <tr>\n",
       "      <th>2</th>\n",
       "      <td>non_conda_env_3_8_demo</td>\n",
       "      <td>Non Conda environment for notebook demo</td>\n",
       "      <td>python_3.8</td>\n",
       "      <td>Python</td>\n",
       "      <td>False</td>\n",
       "    </tr>\n",
       "    <tr>\n",
       "      <th>3</th>\n",
       "      <td>openml_env</td>\n",
       "      <td>DONT DELETE: OpenML environment</td>\n",
       "      <td>python_3.10</td>\n",
       "      <td>Python</td>\n",
       "      <td>False</td>\n",
       "    </tr>\n",
       "    <tr>\n",
       "      <th>4</th>\n",
       "      <td>openml_env_dhan</td>\n",
       "      <td>DONT DELETE: OpenML environment</td>\n",
       "      <td>python_3.10</td>\n",
       "      <td>Python</td>\n",
       "      <td>False</td>\n",
       "    </tr>\n",
       "    <tr>\n",
       "      <th>5</th>\n",
       "      <td>testenv</td>\n",
       "      <td>This env 'testenv' is created with base env 'p...</td>\n",
       "      <td>python_3.10</td>\n",
       "      <td>Python</td>\n",
       "      <td>False</td>\n",
       "    </tr>\n",
       "    <tr>\n",
       "      <th>6</th>\n",
       "      <td>testudf</td>\n",
       "      <td>Test environment for UDF</td>\n",
       "      <td>python_3.10</td>\n",
       "      <td>Python</td>\n",
       "      <td>False</td>\n",
       "    </tr>\n",
       "  </tbody>\n",
       "</table>\n",
       "</div>"
      ],
      "text/plain": [
       "                 env_name                                    env_description  \\\n",
       "0     conda_env_3_10_demo                Conda environment for notebook demo   \n",
       "1                demo_env                                        Demo env 1.   \n",
       "2  non_conda_env_3_8_demo            Non Conda environment for notebook demo   \n",
       "3              openml_env                    DONT DELETE: OpenML environment   \n",
       "4         openml_env_dhan                    DONT DELETE: OpenML environment   \n",
       "5                 testenv  This env 'testenv' is created with base env 'p...   \n",
       "6                 testudf                           Test environment for UDF   \n",
       "\n",
       "  base_env_name language  conda  \n",
       "0   python_3.10   python   True  \n",
       "1   python_3.10   Python  False  \n",
       "2    python_3.8   Python  False  \n",
       "3   python_3.10   Python  False  \n",
       "4   python_3.10   Python  False  \n",
       "5   python_3.10   Python  False  \n",
       "6   python_3.10   Python  False  "
      ]
     },
     "execution_count": 7,
     "metadata": {},
     "output_type": "execute_result"
    }
   ],
   "source": [
    "list_user_envs()"
   ]
  },
  {
   "cell_type": "code",
   "execution_count": 8,
   "id": "7836553b-e65e-42a6-acff-14f8d9c777e6",
   "metadata": {},
   "outputs": [
    {
     "name": "stdout",
     "output_type": "stream",
     "text": [
      "User environment 'text_analysis' created.\n"
     ]
    }
   ],
   "source": [
    "# create a new environment use create_env function, if environment is already created use get_env to get access to the environment.\n",
    "env = create_env('text_analysis', 'python_3.10', 'Test environment for UDF')"
   ]
  },
  {
   "cell_type": "code",
   "execution_count": 9,
   "id": "97364aec-ec1f-42ea-8dd0-351009501859",
   "metadata": {},
   "outputs": [
    {
     "data": {
      "text/html": [
       "<div>\n",
       "<style scoped>\n",
       "    .dataframe tbody tr th:only-of-type {\n",
       "        vertical-align: middle;\n",
       "    }\n",
       "\n",
       "    .dataframe tbody tr th {\n",
       "        vertical-align: top;\n",
       "    }\n",
       "\n",
       "    .dataframe thead th {\n",
       "        text-align: right;\n",
       "    }\n",
       "</style>\n",
       "<table border=\"1\" class=\"dataframe\">\n",
       "  <thead>\n",
       "    <tr style=\"text-align: right;\">\n",
       "      <th></th>\n",
       "      <th>Claim Id</th>\n",
       "      <th>File/Libs/Model</th>\n",
       "      <th>Method Name</th>\n",
       "      <th>Stage</th>\n",
       "      <th>Timestamp</th>\n",
       "      <th>Additional Details</th>\n",
       "    </tr>\n",
       "  </thead>\n",
       "  <tbody>\n",
       "    <tr>\n",
       "      <th>0</th>\n",
       "      <td>68d0071a-0871-4425-a43d-260f360df6f7</td>\n",
       "      <td>vaderSentiment</td>\n",
       "      <td>install_lib</td>\n",
       "      <td>Started</td>\n",
       "      <td>2024-09-04T10:14:34Z</td>\n",
       "      <td></td>\n",
       "    </tr>\n",
       "    <tr>\n",
       "      <th>1</th>\n",
       "      <td>68d0071a-0871-4425-a43d-260f360df6f7</td>\n",
       "      <td>vaderSentiment</td>\n",
       "      <td>install_lib</td>\n",
       "      <td>Finished</td>\n",
       "      <td>2024-09-04T10:14:40Z</td>\n",
       "      <td></td>\n",
       "    </tr>\n",
       "  </tbody>\n",
       "</table>\n",
       "</div>"
      ],
      "text/plain": [
       "                               Claim Id File/Libs/Model  Method Name  \\\n",
       "0  68d0071a-0871-4425-a43d-260f360df6f7  vaderSentiment  install_lib   \n",
       "1  68d0071a-0871-4425-a43d-260f360df6f7  vaderSentiment  install_lib   \n",
       "\n",
       "      Stage             Timestamp Additional Details  \n",
       "0   Started  2024-09-04T10:14:34Z                     \n",
       "1  Finished  2024-09-04T10:14:40Z                     "
      ]
     },
     "execution_count": 9,
     "metadata": {},
     "output_type": "execute_result"
    }
   ],
   "source": [
    "# Install the required package to run the user defined function in the user environment using install_lib function Of UserEnv class.\n",
    "env.install_lib('vaderSentiment')"
   ]
  },
  {
   "cell_type": "code",
   "execution_count": 10,
   "id": "f90a9526-6be2-4db5-bcbf-b87e5fc3c6fb",
   "metadata": {},
   "outputs": [
    {
     "data": {
      "text/html": [
       "<div>\n",
       "<style scoped>\n",
       "    .dataframe tbody tr th:only-of-type {\n",
       "        vertical-align: middle;\n",
       "    }\n",
       "\n",
       "    .dataframe tbody tr th {\n",
       "        vertical-align: top;\n",
       "    }\n",
       "\n",
       "    .dataframe thead th {\n",
       "        text-align: right;\n",
       "    }\n",
       "</style>\n",
       "<table border=\"1\" class=\"dataframe\">\n",
       "  <thead>\n",
       "    <tr style=\"text-align: right;\">\n",
       "      <th></th>\n",
       "      <th>name</th>\n",
       "      <th>version</th>\n",
       "    </tr>\n",
       "  </thead>\n",
       "  <tbody>\n",
       "    <tr>\n",
       "      <th>0</th>\n",
       "      <td>certifi</td>\n",
       "      <td>2024.8.30</td>\n",
       "    </tr>\n",
       "    <tr>\n",
       "      <th>1</th>\n",
       "      <td>charset-normalizer</td>\n",
       "      <td>3.3.2</td>\n",
       "    </tr>\n",
       "    <tr>\n",
       "      <th>2</th>\n",
       "      <td>idna</td>\n",
       "      <td>3.8</td>\n",
       "    </tr>\n",
       "    <tr>\n",
       "      <th>3</th>\n",
       "      <td>pip</td>\n",
       "      <td>23.0.1</td>\n",
       "    </tr>\n",
       "    <tr>\n",
       "      <th>4</th>\n",
       "      <td>requests</td>\n",
       "      <td>2.32.3</td>\n",
       "    </tr>\n",
       "    <tr>\n",
       "      <th>5</th>\n",
       "      <td>setuptools</td>\n",
       "      <td>65.5.0</td>\n",
       "    </tr>\n",
       "    <tr>\n",
       "      <th>6</th>\n",
       "      <td>urllib3</td>\n",
       "      <td>2.2.2</td>\n",
       "    </tr>\n",
       "    <tr>\n",
       "      <th>7</th>\n",
       "      <td>vaderSentiment</td>\n",
       "      <td>3.3.2</td>\n",
       "    </tr>\n",
       "  </tbody>\n",
       "</table>\n",
       "</div>"
      ],
      "text/plain": [
       "                 name    version\n",
       "0             certifi  2024.8.30\n",
       "1  charset-normalizer      3.3.2\n",
       "2                idna        3.8\n",
       "3                 pip     23.0.1\n",
       "4            requests     2.32.3\n",
       "5          setuptools     65.5.0\n",
       "6             urllib3      2.2.2\n",
       "7      vaderSentiment      3.3.2"
      ]
     },
     "execution_count": 10,
     "metadata": {},
     "output_type": "execute_result"
    }
   ],
   "source": [
    "env.libs"
   ]
  },
  {
   "cell_type": "markdown",
   "id": "92c6fae0-bad8-4b23-9525-7cf0914f656e",
   "metadata": {},
   "source": [
    "<b style = 'font-size:28px;font-family:Arial;color:#E37C4D'>Create a UDF to determine whether the values in 'review' column is positive, negative or neutral.</b>"
   ]
  },
  {
   "cell_type": "markdown",
   "id": "d81da008-2a38-4d99-a672-e7829bb737e2",
   "metadata": {},
   "source": [
    "udf to determine the sentiment of the values in 'review' column. As the data in 'review' column contains `,`  character which is same as the default delimiter, so here passing the different delimiter `|`."
   ]
  },
  {
   "cell_type": "code",
   "execution_count": 11,
   "id": "05b7cdc7-46fb-4405-8624-b5a648392b4a",
   "metadata": {},
   "outputs": [],
   "source": [
    "@udf(env_name = 'text_analysis', returns = VARCHAR(80),  delimiter='|')\n",
    "def sentiment_analysis(txt):\n",
    "    from vaderSentiment.vaderSentiment import SentimentIntensityAnalyzer\n",
    "    # Create a SentimentIntensityAnalyzer object.\n",
    "    sid_obj = SentimentIntensityAnalyzer()\n",
    " \n",
    "    # polarity_scores method of SentimentIntensityAnalyzer\n",
    "    # object gives a sentiment dictionary.\n",
    "    # which contains pos, neg, neu, and compound scores.\n",
    "    sentiment_dict = sid_obj.polarity_scores(txt)\n",
    "\n",
    "    if sentiment_dict['compound'] >= 0.05 :\n",
    "        sentiment = \"Positive\"\n",
    "    elif sentiment_dict['compound'] <= - 0.05 :\n",
    "        sentiment = \"Negative\"\n",
    "    else :\n",
    "        sentiment = \"Neutral\"\n",
    "    return sentiment"
   ]
  },
  {
   "cell_type": "code",
   "execution_count": 12,
   "id": "14cf0561-854b-4218-9e1e-8a781c510042",
   "metadata": {},
   "outputs": [
    {
     "data": {
      "text/html": [
       "<style type=\"text/css\">\n",
       "\ttable {border:ridge 5px;}\n",
       "\ttable td {border:inset 1px;}\n",
       "\ttable tr#HeaderRow {background-color:grey; color:white;}</style>\n",
       "<html><table>\n",
       "\t<tr id=\"HeaderRow\">\n",
       "\t\t<th>id</th>\n",
       "\t\t<th>product</th>\n",
       "\t\t<th>category</th>\n",
       "\t\t<th>review</th>\n",
       "\t\t<th>sentiment</th>\n",
       "\t</tr>\n",
       "\t<tr>\n",
       "\t\t<td>6</td>\n",
       "\t\t<td>gps</td>\n",
       "\t\t<td>neg</td>\n",
       "\t\t<td>most of the complaints i have seen in here are from a lack of rtfm. i have never seen so many mistakes do to what i think has to be none update of data to the system . i wish i could make all the rating stars be empty .</td>\n",
       "\t\t<td>Negative</td>\n",
       "\t</tr>\n",
       "\t<tr>\n",
       "\t\t<td>2</td>\n",
       "\t\t<td>office suite</td>\n",
       "\t\t<td>pos</td>\n",
       "\t\t<td>it is the best office suite i have used to date  . it is launched before office 2010 and it is ages ahead of it already  . the fact that i could comfortable import xls , doc , ppt and modify them , and then export them back to the doc , xls , ppt is terrific . i needed the compatibility  .it is a very intuitive suite and the drag    drop functionality is terrific .</td>\n",
       "\t\t<td>Positive</td>\n",
       "\t</tr>\n",
       "\t<tr>\n",
       "\t\t<td>9</td>\n",
       "\t\t<td>television</td>\n",
       "\t\t<td>neg</td>\n",
       "\t\t<td>$3k is way too much money to drop onto a piece of crap .poor customer support . after about 1 and a half years and hardly using the tv , a big yellow pixilated stain appeared. product is very inferior and subject to several lawsuits  . i expressed my dissatifaction with the situation as this is a known issue</td>\n",
       "\t\t<td>Negative</td>\n",
       "\t</tr>\n",
       "\t<tr>\n",
       "\t\t<td>7</td>\n",
       "\t\t<td>gps</td>\n",
       "\t\t<td>neg</td>\n",
       "\t\t<td>this machine is all screwed up  . on my way home from a friends house it told me there is no possible route  . i found their website support difficult to navigate . i am is so disapointed and just returned it and now looking for another one</td>\n",
       "\t\t<td>Negative</td>\n",
       "\t</tr>\n",
       "\t<tr>\n",
       "\t\t<td>1</td>\n",
       "\t\t<td>camera</td>\n",
       "\t\t<td>pos</td>\n",
       "\t\t<td>we primarily bought this camera for high image quality and excellent video capability without paying the price for a dslr  .it has excelled in what we expected of it , and consequently represented excellent value for me  .all my friends want my camera for their vacations  . i would recommend this camera to anybody  .definitely worth the price  .plus , when you buy some accessories , it becomes even more powerful  </td>\n",
       "\t\t<td>Positive</td>\n",
       "\t</tr>\n",
       "\t<tr>\n",
       "\t\t<td>8</td>\n",
       "\t\t<td>camera</td>\n",
       "\t\t<td>neg</td>\n",
       "\t\t<td>i hate my camera , and im stuck with it  . this camera sucks so bad , even the dealers on ebay have difficulty selling it. horrible indoors , does not capture fast action, screwy software , no suprise , and screwy audio/video codec that does not work with hardly any app</td>\n",
       "\t\t<td>Negative</td>\n",
       "\t</tr>\n",
       "\t<tr>\n",
       "\t\t<td>5</td>\n",
       "\t\t<td>gps</td>\n",
       "\t\t<td>pos</td>\n",
       "\t\t<td>nice graphs and map route info  .i would not run outside again without this unique gadget  . great job. big display , good backlight , really watertight , training assistant .i use in trail running and  it worked well through out the race</td>\n",
       "\t\t<td>Positive</td>\n",
       "\t</tr>\n",
       "\t<tr>\n",
       "\t\t<td>3</td>\n",
       "\t\t<td>camera</td>\n",
       "\t\t<td>pos</td>\n",
       "\t\t<td>this is a nice camera , delivering good quality video images decent photos  .</td>\n",
       "\t\t<td>Positive</td>\n",
       "\t</tr>\n",
       "\t<tr>\n",
       "\t\t<td>4</td>\n",
       "\t\t<td>gps</td>\n",
       "\t\t<td>pos</td>\n",
       "\t\t<td>it is a fine gps . outstanding performance ,  works great . you can even get incredible coordinate accuracy from streets and trips to compare .</td>\n",
       "\t\t<td>Positive</td>\n",
       "\t</tr>\n",
       "\t<tr>\n",
       "\t\t<td>10</td>\n",
       "\t\t<td>camera</td>\n",
       "\t\t<td>neg</td>\n",
       "\t\t<td>i returned my camera to the vendor as i will not tolerate a sub standard product that is a known issue especially from vendor who will not admt that this needs to be removed from the shelf due to failing parts updated  . due to the constant need for repair , i would never recommend this product  .</td>\n",
       "\t\t<td>Negative</td>\n",
       "\t</tr>\n",
       "</table></html>"
      ],
      "text/plain": [
       "   id       product category                                                                                                                                                                                                                                                                                                                                                                                                                             review sentiment\n",
       "0   6           gps      neg                                                                                                                                                                                                        most of the complaints i have seen in here are from a lack of rtfm. i have never seen so many mistakes do to what i think has to be none update of data to the system . i wish i could make all the rating stars be empty .  Negative\n",
       "1   2  office suite      pos                                                    it is the best office suite i have used to date  . it is launched before office 2010 and it is ages ahead of it already  . the fact that i could comfortable import xls , doc , ppt and modify them , and then export them back to the doc , xls , ppt is terrific . i needed the compatibility  .it is a very intuitive suite and the drag    drop functionality is terrific .  Positive\n",
       "2   9    television      neg                                                                                                              $3k is way too much money to drop onto a piece of crap .poor customer support . after about 1 and a half years and hardly using the tv , a big yellow pixilated stain appeared. product is very inferior and subject to several lawsuits  . i expressed my dissatifaction with the situation as this is a known issue  Negative\n",
       "3   7           gps      neg                                                                                                                                                                                   this machine is all screwed up  . on my way home from a friends house it told me there is no possible route  . i found their website support difficult to navigate . i am is so disapointed and just returned it and now looking for another one  Negative\n",
       "4   1        camera      pos  we primarily bought this camera for high image quality and excellent video capability without paying the price for a dslr  .it has excelled in what we expected of it , and consequently represented excellent value for me  .all my friends want my camera for their vacations  . i would recommend this camera to anybody  .definitely worth the price  .plus , when you buy some accessories , it becomes even more powerful    Positive\n",
       "5   8        camera      neg                                                                                                                                                     i hate my camera , and im stuck with it  . this camera sucks so bad , even the dealers on ebay have difficulty selling it. horrible indoors , does not capture fast action, screwy software , no suprise , and screwy audio/video codec that does not work with hardly any app  Negative\n",
       "6   5           gps      pos                                                                                                                                                                                     nice graphs and map route info  .i would not run outside again without this unique gadget  . great job. big display , good backlight , really watertight , training assistant .i use in trail running and  it worked well through out the race  Positive\n",
       "7   3        camera      pos                                                                                                                                                                                                                                                                                                                                                      this is a nice camera , delivering good quality video images decent photos  .  Positive\n",
       "8   4           gps      pos                                                                                                                                                                                                                                                                                    it is a fine gps . outstanding performance ,  works great . you can even get incredible coordinate accuracy from streets and trips to compare .  Positive\n",
       "9  10        camera      neg                                                                                                                         i returned my camera to the vendor as i will not tolerate a sub standard product that is a known issue especially from vendor who will not admt that this needs to be removed from the shelf due to failing parts updated  . due to the constant need for repair , i would never recommend this product  .  Negative"
      ]
     },
     "execution_count": 12,
     "metadata": {},
     "output_type": "execute_result"
    }
   ],
   "source": [
    "#Assign the Column Expression returned by user defined function to the DataFrame.\n",
    "out_df = df.assign(sentiment = sentiment_analysis('review'))\n",
    "\n",
    "# Print the result.\n",
    "out_df"
   ]
  },
  {
   "cell_type": "markdown",
   "id": "67dd9052-ba11-4681-bae3-0fb55000e732",
   "metadata": {},
   "source": [
    "<b style = 'font-size:28px;font-family:Arial;color:#E37C4D'>Disconnect from Vantage</b>"
   ]
  },
  {
   "cell_type": "code",
   "execution_count": 13,
   "id": "699baf3e-ebf9-4bb1-9c7e-dbc207465e72",
   "metadata": {},
   "outputs": [
    {
     "data": {
      "text/plain": [
       "True"
      ]
     },
     "execution_count": 13,
     "metadata": {},
     "output_type": "execute_result"
    }
   ],
   "source": [
    "remove_context()"
   ]
  }
 ],
 "metadata": {
  "kernelspec": {
   "display_name": "Python 3 (ipykernel)",
   "language": "python",
   "name": "python3"
  },
  "language_info": {
   "codemirror_mode": {
    "name": "ipython",
    "version": 3
   },
   "file_extension": ".py",
   "mimetype": "text/x-python",
   "name": "python",
   "nbconvert_exporter": "python",
   "pygments_lexer": "ipython3",
   "version": "3.10.5"
  }
 },
 "nbformat": 4,
 "nbformat_minor": 5
}
