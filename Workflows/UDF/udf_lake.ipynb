{
 "cells": [
  {
   "cell_type": "markdown",
   "id": "b7ff0f30-dc36-4a29-b567-bb83477980a5",
   "metadata": {},
   "source": [
    "<header style=\"padding:1px;background:#f9f9f9;border-top:3px solid #00b2b1\"><img id=\"Teradata-logo\" src=\"https://www.teradata.com/Teradata/Images/Rebrand/Teradata_logo-two_color.png\" alt=\"Teradata\" width=\"220\" align=\"right\" />\n",
    "\n",
    "<b style = 'font-size:28px;font-family:Arial;color:#E37C4D'>Executing udf on VantageCloud Lake</b>\n",
    "</header>"
   ]
  },
  {
   "cell_type": "markdown",
   "id": "16a5e063-0ff1-434c-8b15-d2d2114accd0",
   "metadata": {},
   "source": [
    "### Disclaimer\n",
    "The sample code (“Sample Code”) provided is not covered by any Teradata agreements. Please be aware that Teradata has no control over the model responses to such sample code and such response may vary. The use of the model by Teradata is strictly for demonstration purposes and does not constitute any form of certification or endorsement. The sample code is provided “AS IS” and any express or implied warranties, including the implied warranties of merchantability and fitness for a particular purpose, are disclaimed. In no event shall Teradata be liable for any direct, indirect, incidental, special, exemplary, or consequential damages (including, but not limited to, procurement of substitute goods or services; loss of use, data, or profits; or business interruption) sustained by you or a third party, however caused and on any theory of liability, whether in contract, strict liability, or tort arising in any way out of the use of this sample code, even if advised of the possibility of such damage."
   ]
  },
  {
   "cell_type": "markdown",
   "id": "8070f667",
   "metadata": {},
   "source": [
    "<b style = 'font-size:28px;font-family:Arial;color:#E37C4D'>Introduction</b><br>\n",
    "* udf() function creates a user-defined Python function which runs on each teradataml DataFrame row.\n",
    "* The function returns a teradataml DataFrame Column, and can be passed to teradataml DataFrame.assign(). \n",
    "* UDF leverages Apply table operator for running the function VantageCloud Lake."
   ]
  },
  {
   "cell_type": "markdown",
   "id": "7684e9a8-58fa-4680-9511-09262a850675",
   "metadata": {},
   "source": [
    "<b style = 'font-size:28px;font-family:Arial;color:#E37C4D'>Import the required libraries</b>"
   ]
  },
  {
   "cell_type": "code",
   "execution_count": 2,
   "id": "cb7a4673-34bf-4b07-bde2-3c6ded25151b",
   "metadata": {},
   "outputs": [],
   "source": [
    "# Importing required libraries\n",
    "import getpass\n",
    "import random\n",
    "from teradataml import *\n",
    "from teradataml.dataframe.functions import udf\n",
    "from teradatasqlalchemy.types import INTEGER, DATE"
   ]
  },
  {
   "cell_type": "markdown",
   "id": "96a77650-ff5b-478d-9d07-16c8213b4340",
   "metadata": {},
   "source": [
    "<b style = 'font-size:28px;font-family:Arial;color:#E37C4D'>Connect to Vantage</b>"
   ]
  },
  {
   "cell_type": "code",
   "execution_count": 3,
   "id": "e300dd06-97a4-4339-a2c2-4dc8a5a63a5d",
   "metadata": {},
   "outputs": [
    {
     "name": "stdout",
     "output_type": "stream",
     "text": [
      "Hostname:  ········\n",
      "Username:  ········\n",
      "Password:  ········\n"
     ]
    }
   ],
   "source": [
    "# Create the connection.\n",
    "td_context = create_context(host=getpass.getpass(\"Hostname: \"), username=getpass.getpass(\"Username: \"), password=getpass.getpass(\"Password: \"))"
   ]
  },
  {
   "cell_type": "code",
   "execution_count": 4,
   "id": "ce7400f9-a545-4d6f-9bbe-7d346ed2ebb7",
   "metadata": {},
   "outputs": [
    {
     "name": "stdout",
     "output_type": "stream",
     "text": [
      "auth_data:  ········\n",
      "ues_url:  ········\n"
     ]
    },
    {
     "data": {
      "text/plain": [
       "True"
      ]
     },
     "execution_count": 4,
     "metadata": {},
     "output_type": "execute_result"
    }
   ],
   "source": [
    "# Set the Authentication Token\n",
    "set_config_params(auth_token=getpass.getpass(\"auth_data: \"), ues_url=getpass.getpass(\"ues_url: \"))"
   ]
  },
  {
   "cell_type": "markdown",
   "id": "ecc208da-9f1e-44f3-8846-5068a0604e6c",
   "metadata": {},
   "source": [
    "<b style = 'font-size:28px;font-family:Arial;color:#E37C4D'>Loading Dataset</b>"
   ]
  },
  {
   "cell_type": "code",
   "execution_count": 5,
   "id": "8c3e2cf7-e51e-4e00-8f6a-e5ae633784fb",
   "metadata": {},
   "outputs": [
    {
     "name": "stdout",
     "output_type": "stream",
     "text": [
      "WARNING: Skipped loading table sales since it already exists in the database.\n"
     ]
    }
   ],
   "source": [
    "# Load the example dataset.\n",
    "load_example_data(\"dataframe\", [\"sales\"])\n",
    "df = DataFrame('sales')\n",
    "\n",
    "# Preparing the data \n",
    "df_sales = df.assign(id = case([(df.accounts == 'Alpha Co', random.randrange(1, 9)),\n",
    "                                   (df.accounts == 'Blue Inc', random.randrange(1, 9)),\n",
    "                                   (df.accounts == 'Jones LLC', random.randrange(1, 9)),\n",
    "                                   (df.accounts == 'Orange Inc', random.randrange(1, 9)),\n",
    "                                   (df.accounts == 'Yellow Inc', random.randrange(1, 9)),\n",
    "                                   (df.accounts == 'Red Inc', random.randrange(1, 9))]))"
   ]
  },
  {
   "cell_type": "code",
   "execution_count": 6,
   "id": "2ca25322-6454-450e-8644-ac873241eb4d",
   "metadata": {},
   "outputs": [
    {
     "data": {
      "text/html": [
       "<style type=\"text/css\">\n",
       "\ttable {border:ridge 5px;}\n",
       "\ttable td {border:inset 1px;}\n",
       "\ttable tr#HeaderRow {background-color:grey; color:white;}</style>\n",
       "<html><table>\n",
       "\t<tr id=\"HeaderRow\">\n",
       "\t\t<th>accounts</th>\n",
       "\t\t<th>Feb</th>\n",
       "\t\t<th>Jan</th>\n",
       "\t\t<th>Mar</th>\n",
       "\t\t<th>Apr</th>\n",
       "\t\t<th>datetime</th>\n",
       "\t\t<th>id</th>\n",
       "\t</tr>\n",
       "\t<tr>\n",
       "\t\t<td>Jones LLC</td>\n",
       "\t\t<td>200.0</td>\n",
       "\t\t<td>150</td>\n",
       "\t\t<td>140</td>\n",
       "\t\t<td>180</td>\n",
       "\t\t<td>04/01/2017</td>\n",
       "\t\t<td>5</td>\n",
       "\t</tr>\n",
       "\t<tr>\n",
       "\t\t<td>Orange Inc</td>\n",
       "\t\t<td>210.0</td>\n",
       "\t\t<td>None</td>\n",
       "\t\t<td>None</td>\n",
       "\t\t<td>250</td>\n",
       "\t\t<td>04/01/2017</td>\n",
       "\t\t<td>4</td>\n",
       "\t</tr>\n",
       "\t<tr>\n",
       "\t\t<td>Alpha Co</td>\n",
       "\t\t<td>210.0</td>\n",
       "\t\t<td>200</td>\n",
       "\t\t<td>215</td>\n",
       "\t\t<td>250</td>\n",
       "\t\t<td>04/01/2017</td>\n",
       "\t\t<td>2</td>\n",
       "\t</tr>\n",
       "\t<tr>\n",
       "\t\t<td>Blue Inc</td>\n",
       "\t\t<td>90.0</td>\n",
       "\t\t<td>50</td>\n",
       "\t\t<td>95</td>\n",
       "\t\t<td>101</td>\n",
       "\t\t<td>04/01/2017</td>\n",
       "\t\t<td>1</td>\n",
       "\t</tr>\n",
       "\t<tr>\n",
       "\t\t<td>Yellow Inc</td>\n",
       "\t\t<td>90.0</td>\n",
       "\t\t<td>None</td>\n",
       "\t\t<td>None</td>\n",
       "\t\t<td>None</td>\n",
       "\t\t<td>04/01/2017</td>\n",
       "\t\t<td>4</td>\n",
       "\t</tr>\n",
       "\t<tr>\n",
       "\t\t<td>Red Inc</td>\n",
       "\t\t<td>200.0</td>\n",
       "\t\t<td>150</td>\n",
       "\t\t<td>140</td>\n",
       "\t\t<td>None</td>\n",
       "\t\t<td>04/01/2017</td>\n",
       "\t\t<td>3</td>\n",
       "\t</tr>\n",
       "</table></html>"
      ],
      "text/plain": [
       "              Feb    Jan    Mar    Apr    datetime  id\n",
       "accounts                                              \n",
       "Jones LLC   200.0  150.0  140.0  180.0  04/01/2017   5\n",
       "Orange Inc  210.0    NaN    NaN  250.0  04/01/2017   4\n",
       "Alpha Co    210.0  200.0  215.0  250.0  04/01/2017   2\n",
       "Blue Inc     90.0   50.0   95.0  101.0  04/01/2017   1\n",
       "Yellow Inc   90.0    NaN    NaN    NaN  04/01/2017   4\n",
       "Red Inc     200.0  150.0  140.0    NaN  04/01/2017   3"
      ]
     },
     "execution_count": 6,
     "metadata": {},
     "output_type": "execute_result"
    }
   ],
   "source": [
    "df_sales"
   ]
  },
  {
   "cell_type": "markdown",
   "id": "8186de1b-1a54-4ae1-a63b-687586c9e894",
   "metadata": {},
   "source": [
    "<b style = 'font-size:28px;font-family:Arial;color:#E37C4D'>Setting up the Environment</b>"
   ]
  },
  {
   "cell_type": "code",
   "execution_count": 7,
   "id": "ef89628b-c82d-4868-9523-5ef0768d0932",
   "metadata": {},
   "outputs": [
    {
     "data": {
      "text/html": [
       "<div>\n",
       "<style scoped>\n",
       "    .dataframe tbody tr th:only-of-type {\n",
       "        vertical-align: middle;\n",
       "    }\n",
       "\n",
       "    .dataframe tbody tr th {\n",
       "        vertical-align: top;\n",
       "    }\n",
       "\n",
       "    .dataframe thead th {\n",
       "        text-align: right;\n",
       "    }\n",
       "</style>\n",
       "<table border=\"1\" class=\"dataframe\">\n",
       "  <thead>\n",
       "    <tr style=\"text-align: right;\">\n",
       "      <th></th>\n",
       "      <th>env_name</th>\n",
       "      <th>env_description</th>\n",
       "      <th>base_env_name</th>\n",
       "      <th>language</th>\n",
       "      <th>conda</th>\n",
       "    </tr>\n",
       "  </thead>\n",
       "  <tbody>\n",
       "    <tr>\n",
       "      <th>0</th>\n",
       "      <td>conda_env_3_10_demo</td>\n",
       "      <td>Conda environment for notebook demo</td>\n",
       "      <td>python_3.10</td>\n",
       "      <td>python</td>\n",
       "      <td>True</td>\n",
       "    </tr>\n",
       "    <tr>\n",
       "      <th>1</th>\n",
       "      <td>demo_env</td>\n",
       "      <td>Demo env 1.</td>\n",
       "      <td>python_3.10</td>\n",
       "      <td>Python</td>\n",
       "      <td>False</td>\n",
       "    </tr>\n",
       "    <tr>\n",
       "      <th>2</th>\n",
       "      <td>non_conda_env_3_8_demo</td>\n",
       "      <td>Non Conda environment for notebook demo</td>\n",
       "      <td>python_3.8</td>\n",
       "      <td>Python</td>\n",
       "      <td>False</td>\n",
       "    </tr>\n",
       "    <tr>\n",
       "      <th>3</th>\n",
       "      <td>openml_env</td>\n",
       "      <td>DONT DELETE: OpenML environment</td>\n",
       "      <td>python_3.10</td>\n",
       "      <td>Python</td>\n",
       "      <td>False</td>\n",
       "    </tr>\n",
       "    <tr>\n",
       "      <th>4</th>\n",
       "      <td>openml_env_dhan</td>\n",
       "      <td>DONT DELETE: OpenML environment</td>\n",
       "      <td>python_3.10</td>\n",
       "      <td>Python</td>\n",
       "      <td>False</td>\n",
       "    </tr>\n",
       "    <tr>\n",
       "      <th>5</th>\n",
       "      <td>testenv</td>\n",
       "      <td>This env 'testenv' is created with base env 'p...</td>\n",
       "      <td>python_3.10</td>\n",
       "      <td>Python</td>\n",
       "      <td>False</td>\n",
       "    </tr>\n",
       "  </tbody>\n",
       "</table>\n",
       "</div>"
      ],
      "text/plain": [
       "                 env_name                                    env_description  \\\n",
       "0     conda_env_3_10_demo                Conda environment for notebook demo   \n",
       "1                demo_env                                        Demo env 1.   \n",
       "2  non_conda_env_3_8_demo            Non Conda environment for notebook demo   \n",
       "3              openml_env                    DONT DELETE: OpenML environment   \n",
       "4         openml_env_dhan                    DONT DELETE: OpenML environment   \n",
       "5                 testenv  This env 'testenv' is created with base env 'p...   \n",
       "\n",
       "  base_env_name language  conda  \n",
       "0   python_3.10   python   True  \n",
       "1   python_3.10   Python  False  \n",
       "2    python_3.8   Python  False  \n",
       "3   python_3.10   Python  False  \n",
       "4   python_3.10   Python  False  \n",
       "5   python_3.10   Python  False  "
      ]
     },
     "execution_count": 7,
     "metadata": {},
     "output_type": "execute_result"
    }
   ],
   "source": [
    "list_user_envs()"
   ]
  },
  {
   "cell_type": "code",
   "execution_count": 8,
   "id": "7836553b-e65e-42a6-acff-14f8d9c777e6",
   "metadata": {},
   "outputs": [
    {
     "name": "stdout",
     "output_type": "stream",
     "text": [
      "User environment 'testudf' created.\n"
     ]
    }
   ],
   "source": [
    "# create a new environment use create_env function, if environment is already created use get_env to get access to the environment.\n",
    "env = create_env('testudf', 'python_3.10', 'Test environment for UDF')"
   ]
  },
  {
   "cell_type": "markdown",
   "id": "92c6fae0-bad8-4b23-9525-7cf0914f656e",
   "metadata": {},
   "source": [
    "<b style = 'font-size:28px;font-family:Arial;color:#E37C4D'>UDF to upper case values in column 'accounts'.</b>"
   ]
  },
  {
   "cell_type": "markdown",
   "id": "b606cfd5-1afa-4a5a-9330-549209032f7f",
   "metadata": {},
   "source": [
    "udf to get the values in 'accounts' to upper case without passing any arguments.\n",
    "If no ``env_name`` is provided, udf use the default `openml_env` user environment."
   ]
  },
  {
   "cell_type": "code",
   "execution_count": 9,
   "id": "05b7cdc7-46fb-4405-8624-b5a648392b4a",
   "metadata": {},
   "outputs": [],
   "source": [
    "@udf\n",
    "def to_upper(s):\n",
    "        return s.upper()"
   ]
  },
  {
   "cell_type": "code",
   "execution_count": 10,
   "id": "14cf0561-854b-4218-9e1e-8a781c510042",
   "metadata": {},
   "outputs": [
    {
     "data": {
      "text/html": [
       "<style type=\"text/css\">\n",
       "\ttable {border:ridge 5px;}\n",
       "\ttable td {border:inset 1px;}\n",
       "\ttable tr#HeaderRow {background-color:grey; color:white;}</style>\n",
       "<html><table>\n",
       "\t<tr id=\"HeaderRow\">\n",
       "\t\t<th>accounts</th>\n",
       "\t\t<th>Feb</th>\n",
       "\t\t<th>Jan</th>\n",
       "\t\t<th>Mar</th>\n",
       "\t\t<th>Apr</th>\n",
       "\t\t<th>datetime</th>\n",
       "\t\t<th>id</th>\n",
       "\t\t<th>upper_col</th>\n",
       "\t</tr>\n",
       "\t<tr>\n",
       "\t\t<td>Orange Inc</td>\n",
       "\t\t<td>210.0</td>\n",
       "\t\t<td>None</td>\n",
       "\t\t<td>None</td>\n",
       "\t\t<td>250</td>\n",
       "\t\t<td>17/01/04</td>\n",
       "\t\t<td>4</td>\n",
       "\t\t<td>ORANGE INC</td>\n",
       "\t</tr>\n",
       "\t<tr>\n",
       "\t\t<td>Alpha Co</td>\n",
       "\t\t<td>210.0</td>\n",
       "\t\t<td>200</td>\n",
       "\t\t<td>215</td>\n",
       "\t\t<td>250</td>\n",
       "\t\t<td>17/01/04</td>\n",
       "\t\t<td>2</td>\n",
       "\t\t<td>ALPHA CO</td>\n",
       "\t</tr>\n",
       "\t<tr>\n",
       "\t\t<td>Yellow Inc</td>\n",
       "\t\t<td>90.0</td>\n",
       "\t\t<td>None</td>\n",
       "\t\t<td>None</td>\n",
       "\t\t<td>None</td>\n",
       "\t\t<td>17/01/04</td>\n",
       "\t\t<td>4</td>\n",
       "\t\t<td>YELLOW INC</td>\n",
       "\t</tr>\n",
       "\t<tr>\n",
       "\t\t<td>Red Inc</td>\n",
       "\t\t<td>200.0</td>\n",
       "\t\t<td>150</td>\n",
       "\t\t<td>140</td>\n",
       "\t\t<td>None</td>\n",
       "\t\t<td>17/01/04</td>\n",
       "\t\t<td>3</td>\n",
       "\t\t<td>RED INC</td>\n",
       "\t</tr>\n",
       "\t<tr>\n",
       "\t\t<td>Jones LLC</td>\n",
       "\t\t<td>200.0</td>\n",
       "\t\t<td>150</td>\n",
       "\t\t<td>140</td>\n",
       "\t\t<td>180</td>\n",
       "\t\t<td>17/01/04</td>\n",
       "\t\t<td>5</td>\n",
       "\t\t<td>JONES LLC</td>\n",
       "\t</tr>\n",
       "\t<tr>\n",
       "\t\t<td>Blue Inc</td>\n",
       "\t\t<td>90.0</td>\n",
       "\t\t<td>50</td>\n",
       "\t\t<td>95</td>\n",
       "\t\t<td>101</td>\n",
       "\t\t<td>17/01/04</td>\n",
       "\t\t<td>1</td>\n",
       "\t\t<td>BLUE INC</td>\n",
       "\t</tr>\n",
       "</table></html>"
      ],
      "text/plain": [
       "     accounts    Feb    Jan    Mar    Apr  datetime  id   upper_col\n",
       "0  Orange Inc  210.0    NaN    NaN  250.0  17/01/04   4  ORANGE INC\n",
       "1    Alpha Co  210.0  200.0  215.0  250.0  17/01/04   2    ALPHA CO\n",
       "2  Yellow Inc   90.0    NaN    NaN    NaN  17/01/04   4  YELLOW INC\n",
       "3     Red Inc  200.0  150.0  140.0    NaN  17/01/04   3     RED INC\n",
       "4   Jones LLC  200.0  150.0  140.0  180.0  17/01/04   5   JONES LLC\n",
       "5    Blue Inc   90.0   50.0   95.0  101.0  17/01/04   1    BLUE INC"
      ]
     },
     "execution_count": 10,
     "metadata": {},
     "output_type": "execute_result"
    }
   ],
   "source": [
    "#Assign the Column Expression returned by user defined function to the DataFrame.\n",
    "out_df = df_sales.assign(upper_col = to_upper('accounts'))\n",
    "\n",
    "# Print the result.\n",
    "out_df"
   ]
  },
  {
   "cell_type": "markdown",
   "id": "9ef5f646-a910-4db8-b186-80573d840324",
   "metadata": {},
   "source": [
    "<b style = 'font-size:28px;font-family:Arial;color:#E37C4D'>UDF to get the factorial of values in column 'id'.</b>"
   ]
  },
  {
   "cell_type": "markdown",
   "id": "c5279309-e2f2-49bf-a7c8-f4d53ebe6c6a",
   "metadata": {},
   "source": [
    "udf to get the factorial of values in 'id'and store the result in INTEGER type column."
   ]
  },
  {
   "cell_type": "code",
   "execution_count": 11,
   "id": "74bda4e8-f64a-419c-b0d2-e9c48b0c9bc6",
   "metadata": {},
   "outputs": [],
   "source": [
    "@udf(returns = INTEGER(), env_name = 'testudf')\n",
    "def factorial(n):\n",
    "    import math\n",
    "    return math.factorial(n)"
   ]
  },
  {
   "cell_type": "code",
   "execution_count": 12,
   "id": "73231ee0-2778-45f9-9db7-181cc3fc1b13",
   "metadata": {},
   "outputs": [
    {
     "data": {
      "text/html": [
       "<style type=\"text/css\">\n",
       "\ttable {border:ridge 5px;}\n",
       "\ttable td {border:inset 1px;}\n",
       "\ttable tr#HeaderRow {background-color:grey; color:white;}</style>\n",
       "<html><table>\n",
       "\t<tr id=\"HeaderRow\">\n",
       "\t\t<th>accounts</th>\n",
       "\t\t<th>Feb</th>\n",
       "\t\t<th>Jan</th>\n",
       "\t\t<th>Mar</th>\n",
       "\t\t<th>Apr</th>\n",
       "\t\t<th>datetime</th>\n",
       "\t\t<th>id</th>\n",
       "\t\t<th>fact</th>\n",
       "\t</tr>\n",
       "\t<tr>\n",
       "\t\t<td>Orange Inc</td>\n",
       "\t\t<td>210.0</td>\n",
       "\t\t<td>None</td>\n",
       "\t\t<td>None</td>\n",
       "\t\t<td>250</td>\n",
       "\t\t<td>17/01/04</td>\n",
       "\t\t<td>4</td>\n",
       "\t\t<td>24</td>\n",
       "\t</tr>\n",
       "\t<tr>\n",
       "\t\t<td>Jones LLC</td>\n",
       "\t\t<td>200.0</td>\n",
       "\t\t<td>150</td>\n",
       "\t\t<td>140</td>\n",
       "\t\t<td>180</td>\n",
       "\t\t<td>17/01/04</td>\n",
       "\t\t<td>5</td>\n",
       "\t\t<td>120</td>\n",
       "\t</tr>\n",
       "\t<tr>\n",
       "\t\t<td>Alpha Co</td>\n",
       "\t\t<td>210.0</td>\n",
       "\t\t<td>200</td>\n",
       "\t\t<td>215</td>\n",
       "\t\t<td>250</td>\n",
       "\t\t<td>17/01/04</td>\n",
       "\t\t<td>2</td>\n",
       "\t\t<td>2</td>\n",
       "\t</tr>\n",
       "\t<tr>\n",
       "\t\t<td>Yellow Inc</td>\n",
       "\t\t<td>90.0</td>\n",
       "\t\t<td>None</td>\n",
       "\t\t<td>None</td>\n",
       "\t\t<td>None</td>\n",
       "\t\t<td>17/01/04</td>\n",
       "\t\t<td>4</td>\n",
       "\t\t<td>24</td>\n",
       "\t</tr>\n",
       "\t<tr>\n",
       "\t\t<td>Blue Inc</td>\n",
       "\t\t<td>90.0</td>\n",
       "\t\t<td>50</td>\n",
       "\t\t<td>95</td>\n",
       "\t\t<td>101</td>\n",
       "\t\t<td>17/01/04</td>\n",
       "\t\t<td>1</td>\n",
       "\t\t<td>1</td>\n",
       "\t</tr>\n",
       "\t<tr>\n",
       "\t\t<td>Red Inc</td>\n",
       "\t\t<td>200.0</td>\n",
       "\t\t<td>150</td>\n",
       "\t\t<td>140</td>\n",
       "\t\t<td>None</td>\n",
       "\t\t<td>17/01/04</td>\n",
       "\t\t<td>3</td>\n",
       "\t\t<td>6</td>\n",
       "\t</tr>\n",
       "</table></html>"
      ],
      "text/plain": [
       "     accounts    Feb    Jan    Mar    Apr  datetime  id  fact\n",
       "0  Orange Inc  210.0    NaN    NaN  250.0  17/01/04   4    24\n",
       "1   Jones LLC  200.0  150.0  140.0  180.0  17/01/04   5   120\n",
       "2    Alpha Co  210.0  200.0  215.0  250.0  17/01/04   2     2\n",
       "3  Yellow Inc   90.0    NaN    NaN    NaN  17/01/04   4    24\n",
       "4    Blue Inc   90.0   50.0   95.0  101.0  17/01/04   1     1\n",
       "5     Red Inc  200.0  150.0  140.0    NaN  17/01/04   3     6"
      ]
     },
     "execution_count": 12,
     "metadata": {},
     "output_type": "execute_result"
    }
   ],
   "source": [
    "#Assign the Column Expression returned by user defined function to the DataFrame.\n",
    "out_df = df_sales.assign(fact = factorial('id'))\n",
    "\n",
    "# Print the result.\n",
    "out_df"
   ]
  },
  {
   "cell_type": "markdown",
   "id": "a6c989ec-98e9-4e29-a06b-3726d38c7248",
   "metadata": {},
   "source": [
    "<b style = 'font-size:28px;font-family:Arial;color:#E37C4D'>UDF to add 30 days to values in column 'datetime'.</b>"
   ]
  },
  {
   "cell_type": "markdown",
   "id": "7db98a50-ce23-4bc9-a18b-c64a621605e3",
   "metadata": {},
   "source": [
    "udf to add 30 to the 'datetime' column and store the result in DATE type column."
   ]
  },
  {
   "cell_type": "code",
   "execution_count": 13,
   "id": "a6fece65-f797-4f93-8907-c0d908be4d19",
   "metadata": {},
   "outputs": [],
   "source": [
    "@udf(returns = DATE(), env_name = 'testudf')\n",
    "def updated_date(x, y):\n",
    "    import datetime\n",
    "    return (datetime.datetime.strptime(x, \"%Y-%m-%d\")+datetime.timedelta(y)).strftime(\"%Y-%m-%d\")"
   ]
  },
  {
   "cell_type": "code",
   "execution_count": 14,
   "id": "13962da3-5e41-43ae-9b80-52f084d3b395",
   "metadata": {},
   "outputs": [
    {
     "data": {
      "text/html": [
       "<style type=\"text/css\">\n",
       "\ttable {border:ridge 5px;}\n",
       "\ttable td {border:inset 1px;}\n",
       "\ttable tr#HeaderRow {background-color:grey; color:white;}</style>\n",
       "<html><table>\n",
       "\t<tr id=\"HeaderRow\">\n",
       "\t\t<th>accounts</th>\n",
       "\t\t<th>Feb</th>\n",
       "\t\t<th>Jan</th>\n",
       "\t\t<th>Mar</th>\n",
       "\t\t<th>Apr</th>\n",
       "\t\t<th>datetime</th>\n",
       "\t\t<th>id</th>\n",
       "\t\t<th>new_date</th>\n",
       "\t</tr>\n",
       "\t<tr>\n",
       "\t\t<td>Jones LLC</td>\n",
       "\t\t<td>200.0</td>\n",
       "\t\t<td>150</td>\n",
       "\t\t<td>140</td>\n",
       "\t\t<td>180</td>\n",
       "\t\t<td>17/01/04</td>\n",
       "\t\t<td>5</td>\n",
       "\t\t<td>17/02/03</td>\n",
       "\t</tr>\n",
       "\t<tr>\n",
       "\t\t<td>Blue Inc</td>\n",
       "\t\t<td>90.0</td>\n",
       "\t\t<td>50</td>\n",
       "\t\t<td>95</td>\n",
       "\t\t<td>101</td>\n",
       "\t\t<td>17/01/04</td>\n",
       "\t\t<td>1</td>\n",
       "\t\t<td>17/02/03</td>\n",
       "\t</tr>\n",
       "\t<tr>\n",
       "\t\t<td>Red Inc</td>\n",
       "\t\t<td>200.0</td>\n",
       "\t\t<td>150</td>\n",
       "\t\t<td>140</td>\n",
       "\t\t<td>None</td>\n",
       "\t\t<td>17/01/04</td>\n",
       "\t\t<td>3</td>\n",
       "\t\t<td>17/02/03</td>\n",
       "\t</tr>\n",
       "\t<tr>\n",
       "\t\t<td>Yellow Inc</td>\n",
       "\t\t<td>90.0</td>\n",
       "\t\t<td>None</td>\n",
       "\t\t<td>None</td>\n",
       "\t\t<td>None</td>\n",
       "\t\t<td>17/01/04</td>\n",
       "\t\t<td>4</td>\n",
       "\t\t<td>17/02/03</td>\n",
       "\t</tr>\n",
       "\t<tr>\n",
       "\t\t<td>Alpha Co</td>\n",
       "\t\t<td>210.0</td>\n",
       "\t\t<td>200</td>\n",
       "\t\t<td>215</td>\n",
       "\t\t<td>250</td>\n",
       "\t\t<td>17/01/04</td>\n",
       "\t\t<td>2</td>\n",
       "\t\t<td>17/02/03</td>\n",
       "\t</tr>\n",
       "\t<tr>\n",
       "\t\t<td>Orange Inc</td>\n",
       "\t\t<td>210.0</td>\n",
       "\t\t<td>None</td>\n",
       "\t\t<td>None</td>\n",
       "\t\t<td>250</td>\n",
       "\t\t<td>17/01/04</td>\n",
       "\t\t<td>4</td>\n",
       "\t\t<td>17/02/03</td>\n",
       "\t</tr>\n",
       "</table></html>"
      ],
      "text/plain": [
       "     accounts    Feb    Jan    Mar    Apr  datetime  id  new_date\n",
       "0   Jones LLC  200.0  150.0  140.0  180.0  17/01/04   5  17/02/03\n",
       "1    Blue Inc   90.0   50.0   95.0  101.0  17/01/04   1  17/02/03\n",
       "2     Red Inc  200.0  150.0  140.0    NaN  17/01/04   3  17/02/03\n",
       "3  Yellow Inc   90.0    NaN    NaN    NaN  17/01/04   4  17/02/03\n",
       "4    Alpha Co  210.0  200.0  215.0  250.0  17/01/04   2  17/02/03\n",
       "5  Orange Inc  210.0    NaN    NaN  250.0  17/01/04   4  17/02/03"
      ]
     },
     "execution_count": 14,
     "metadata": {},
     "output_type": "execute_result"
    }
   ],
   "source": [
    "#Assign the Column Expression returned by user defined function to the DataFrame.\n",
    "out_df = df_sales.assign(new_date = updated_date('datetime', 30))\n",
    "\n",
    "# Print the result.\n",
    "out_df"
   ]
  },
  {
   "cell_type": "markdown",
   "id": "801587f1-39ee-4dac-b2b5-6db9a8098093",
   "metadata": {},
   "source": [
    "<b style = 'font-size:28px;font-family:Arial;color:#E37C4D'>Disconnect from Vantage</b>"
   ]
  },
  {
   "cell_type": "code",
   "execution_count": 15,
   "id": "699baf3e-ebf9-4bb1-9c7e-dbc207465e72",
   "metadata": {},
   "outputs": [
    {
     "data": {
      "text/plain": [
       "True"
      ]
     },
     "execution_count": 15,
     "metadata": {},
     "output_type": "execute_result"
    }
   ],
   "source": [
    "remove_context()"
   ]
  }
 ],
 "metadata": {
  "kernelspec": {
   "display_name": "Python 3 (ipykernel)",
   "language": "python",
   "name": "python3"
  },
  "language_info": {
   "codemirror_mode": {
    "name": "ipython",
    "version": 3
   },
   "file_extension": ".py",
   "mimetype": "text/x-python",
   "name": "python",
   "nbconvert_exporter": "python",
   "pygments_lexer": "ipython3",
   "version": "3.10.5"
  }
 },
 "nbformat": 4,
 "nbformat_minor": 5
}
