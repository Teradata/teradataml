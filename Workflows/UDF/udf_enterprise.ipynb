{
 "cells": [
  {
   "cell_type": "markdown",
   "id": "b7ff0f30-dc36-4a29-b567-bb83477980a5",
   "metadata": {},
   "source": [
    "<header style=\"padding:1px;background:#f9f9f9;border-top:3px solid #00b2b1\"><img id=\"Teradata-logo\" src=\"https://www.teradata.com/Teradata/Images/Rebrand/Teradata_logo-two_color.png\" alt=\"Teradata\" width=\"220\" align=\"right\" />\n",
    "\n",
    "<b style = 'font-size:28px;font-family:Arial;color:#E37C4D'>Executing udf on VantageCloud Enterprise</b>\n",
    "</header>"
   ]
  },
  {
   "cell_type": "markdown",
   "id": "16a5e063-0ff1-434c-8b15-d2d2114accd0",
   "metadata": {},
   "source": [
    "### Disclaimer\n",
    "The sample code (“Sample Code”) provided is not covered by any Teradata agreements. Please be aware that Teradata has no control over the model responses to such sample code and such response may vary. The use of the model by Teradata is strictly for demonstration purposes and does not constitute any form of certification or endorsement. The sample code is provided “AS IS” and any express or implied warranties, including the implied warranties of merchantability and fitness for a particular purpose, are disclaimed. In no event shall Teradata be liable for any direct, indirect, incidental, special, exemplary, or consequential damages (including, but not limited to, procurement of substitute goods or services; loss of use, data, or profits; or business interruption) sustained by you or a third party, however caused and on any theory of liability, whether in contract, strict liability, or tort arising in any way out of the use of this sample code, even if advised of the possibility of such damage."
   ]
  },
  {
   "cell_type": "markdown",
   "id": "3466cffd",
   "metadata": {},
   "source": [
    "<b style = 'font-size:28px;font-family:Arial;color:#E37C4D'>Introduction</b><br>\n",
    "* udf() function creates a user-defined Python function which runs on each teradataml DataFrame row.\n",
    "* The function returns a teradataml DataFrame Column, and can be passed to teradataml DataFrame.assign(). \n",
    "* UDF leverages script table operator(STO) for running the function in VantageCloud Enterprise."
   ]
  },
  {
   "cell_type": "markdown",
   "id": "a90215c0-3ed0-4827-a18d-d690750c5dc0",
   "metadata": {},
   "source": [
    "<b style = 'font-size:28px;font-family:Arial;color:#E37C4D'>Import the required libraries</b>"
   ]
  },
  {
   "cell_type": "code",
   "execution_count": 2,
   "id": "cb7a4673-34bf-4b07-bde2-3c6ded25151b",
   "metadata": {},
   "outputs": [],
   "source": [
    "# Importing required libraries\n",
    "import getpass\n",
    "import random\n",
    "from teradataml import *\n",
    "from teradataml.dataframe.functions import udf\n",
    "from teradatasqlalchemy.types import INTEGER, DATE"
   ]
  },
  {
   "cell_type": "markdown",
   "id": "9ca0e4e7-205d-49f5-8ef5-623bd8e2c8b9",
   "metadata": {},
   "source": [
    "<b style = 'font-size:28px;font-family:Arial;color:#E37C4D'>Connect to Vantage</b>"
   ]
  },
  {
   "cell_type": "code",
   "execution_count": 3,
   "id": "e300dd06-97a4-4339-a2c2-4dc8a5a63a5d",
   "metadata": {},
   "outputs": [
    {
     "name": "stdout",
     "output_type": "stream",
     "text": [
      "Hostname:  ········\n",
      "Username:  ········\n",
      "Password:  ········\n"
     ]
    }
   ],
   "source": [
    "# Create the connection.\n",
    "td_context = create_context(host=getpass.getpass(\"Hostname: \"), username=getpass.getpass(\"Username: \"), password=getpass.getpass(\"Password: \"))"
   ]
  },
  {
   "cell_type": "markdown",
   "id": "73c58f34-0cfe-4012-ad3a-678cf4286e2f",
   "metadata": {},
   "source": [
    "<b style = 'font-size:28px;font-family:Arial;color:#E37C4D'>Loading Dataset</b>"
   ]
  },
  {
   "cell_type": "code",
   "execution_count": 4,
   "id": "8c3e2cf7-e51e-4e00-8f6a-e5ae633784fb",
   "metadata": {},
   "outputs": [
    {
     "name": "stdout",
     "output_type": "stream",
     "text": [
      "WARNING: Skipped loading table sales since it already exists in the database.\n"
     ]
    }
   ],
   "source": [
    "# Load the example dataset.\n",
    "load_example_data(\"dataframe\", [\"sales\"])\n",
    "df = DataFrame('sales')\n",
    "\n",
    "# Preparing the data \n",
    "df_sales = df.assign(id = case([(df.accounts == 'Alpha Co', random.randrange(1, 9)),\n",
    "                                   (df.accounts == 'Blue Inc', random.randrange(1, 9)),\n",
    "                                   (df.accounts == 'Jones LLC', random.randrange(1, 9)),\n",
    "                                   (df.accounts == 'Orange Inc', random.randrange(1, 9)),\n",
    "                                   (df.accounts == 'Yellow Inc', random.randrange(1, 9)),\n",
    "                                   (df.accounts == 'Red Inc', random.randrange(1, 9))]))"
   ]
  },
  {
   "cell_type": "code",
   "execution_count": 5,
   "id": "2ca25322-6454-450e-8644-ac873241eb4d",
   "metadata": {},
   "outputs": [
    {
     "data": {
      "text/html": [
       "<style type=\"text/css\">\n",
       "\ttable {border:ridge 5px;}\n",
       "\ttable td {border:inset 1px;}\n",
       "\ttable tr#HeaderRow {background-color:grey; color:white;}</style>\n",
       "<html><table>\n",
       "\t<tr id=\"HeaderRow\">\n",
       "\t\t<th>accounts</th>\n",
       "\t\t<th>Feb</th>\n",
       "\t\t<th>Jan</th>\n",
       "\t\t<th>Mar</th>\n",
       "\t\t<th>Apr</th>\n",
       "\t\t<th>datetime</th>\n",
       "\t\t<th>id</th>\n",
       "\t</tr>\n",
       "\t<tr>\n",
       "\t\t<td>Jones LLC</td>\n",
       "\t\t<td>200.0</td>\n",
       "\t\t<td>150</td>\n",
       "\t\t<td>140</td>\n",
       "\t\t<td>180</td>\n",
       "\t\t<td>04/01/2017</td>\n",
       "\t\t<td>5</td>\n",
       "\t</tr>\n",
       "\t<tr>\n",
       "\t\t<td>Yellow Inc</td>\n",
       "\t\t<td>90.0</td>\n",
       "\t\t<td>None</td>\n",
       "\t\t<td>None</td>\n",
       "\t\t<td>None</td>\n",
       "\t\t<td>04/01/2017</td>\n",
       "\t\t<td>4</td>\n",
       "\t</tr>\n",
       "\t<tr>\n",
       "\t\t<td>Orange Inc</td>\n",
       "\t\t<td>210.0</td>\n",
       "\t\t<td>None</td>\n",
       "\t\t<td>None</td>\n",
       "\t\t<td>250</td>\n",
       "\t\t<td>04/01/2017</td>\n",
       "\t\t<td>4</td>\n",
       "\t</tr>\n",
       "\t<tr>\n",
       "\t\t<td>Blue Inc</td>\n",
       "\t\t<td>90.0</td>\n",
       "\t\t<td>50</td>\n",
       "\t\t<td>95</td>\n",
       "\t\t<td>101</td>\n",
       "\t\t<td>04/01/2017</td>\n",
       "\t\t<td>1</td>\n",
       "\t</tr>\n",
       "\t<tr>\n",
       "\t\t<td>Alpha Co</td>\n",
       "\t\t<td>210.0</td>\n",
       "\t\t<td>200</td>\n",
       "\t\t<td>215</td>\n",
       "\t\t<td>250</td>\n",
       "\t\t<td>04/01/2017</td>\n",
       "\t\t<td>2</td>\n",
       "\t</tr>\n",
       "\t<tr>\n",
       "\t\t<td>Red Inc</td>\n",
       "\t\t<td>200.0</td>\n",
       "\t\t<td>150</td>\n",
       "\t\t<td>140</td>\n",
       "\t\t<td>None</td>\n",
       "\t\t<td>04/01/2017</td>\n",
       "\t\t<td>3</td>\n",
       "\t</tr>\n",
       "</table></html>"
      ],
      "text/plain": [
       "              Feb    Jan    Mar    Apr    datetime  id\n",
       "accounts                                              \n",
       "Jones LLC   200.0  150.0  140.0  180.0  04/01/2017   5\n",
       "Yellow Inc   90.0    NaN    NaN    NaN  04/01/2017   4\n",
       "Orange Inc  210.0    NaN    NaN  250.0  04/01/2017   4\n",
       "Blue Inc     90.0   50.0   95.0  101.0  04/01/2017   1\n",
       "Alpha Co    210.0  200.0  215.0  250.0  04/01/2017   2\n",
       "Red Inc     200.0  150.0  140.0    NaN  04/01/2017   3"
      ]
     },
     "execution_count": 5,
     "metadata": {},
     "output_type": "execute_result"
    }
   ],
   "source": [
    "df_sales"
   ]
  },
  {
   "cell_type": "markdown",
   "id": "623c88dd-cbd5-44c6-a3ad-69fb57a6ed79",
   "metadata": {},
   "source": [
    "<b style = 'font-size:28px;font-family:Arial;color:#E37C4D'>UDF to upper case values in column 'accounts'.</b>"
   ]
  },
  {
   "cell_type": "markdown",
   "id": "92c6fae0-bad8-4b23-9525-7cf0914f656e",
   "metadata": {},
   "source": [
    "udf to get the values in 'accounts' to upper case without passing any arguments."
   ]
  },
  {
   "cell_type": "code",
   "execution_count": 6,
   "id": "05b7cdc7-46fb-4405-8624-b5a648392b4a",
   "metadata": {},
   "outputs": [],
   "source": [
    "@udf\n",
    "def to_upper(s):\n",
    "        return s.upper()"
   ]
  },
  {
   "cell_type": "code",
   "execution_count": 7,
   "id": "14cf0561-854b-4218-9e1e-8a781c510042",
   "metadata": {},
   "outputs": [
    {
     "data": {
      "text/html": [
       "<style type=\"text/css\">\n",
       "\ttable {border:ridge 5px;}\n",
       "\ttable td {border:inset 1px;}\n",
       "\ttable tr#HeaderRow {background-color:grey; color:white;}</style>\n",
       "<html><table>\n",
       "\t<tr id=\"HeaderRow\">\n",
       "\t\t<th>accounts</th>\n",
       "\t\t<th>Feb</th>\n",
       "\t\t<th>Jan</th>\n",
       "\t\t<th>Mar</th>\n",
       "\t\t<th>Apr</th>\n",
       "\t\t<th>datetime</th>\n",
       "\t\t<th>id</th>\n",
       "\t\t<th>upper_col</th>\n",
       "\t</tr>\n",
       "\t<tr>\n",
       "\t\t<td>Jones LLC</td>\n",
       "\t\t<td>200.0</td>\n",
       "\t\t<td>150</td>\n",
       "\t\t<td>140</td>\n",
       "\t\t<td>180</td>\n",
       "\t\t<td>17/01/04</td>\n",
       "\t\t<td>5</td>\n",
       "\t\t<td>JONES LLC</td>\n",
       "\t</tr>\n",
       "\t<tr>\n",
       "\t\t<td>Blue Inc</td>\n",
       "\t\t<td>90.0</td>\n",
       "\t\t<td>50</td>\n",
       "\t\t<td>95</td>\n",
       "\t\t<td>101</td>\n",
       "\t\t<td>17/01/04</td>\n",
       "\t\t<td>1</td>\n",
       "\t\t<td>BLUE INC</td>\n",
       "\t</tr>\n",
       "\t<tr>\n",
       "\t\t<td>Yellow Inc</td>\n",
       "\t\t<td>90.0</td>\n",
       "\t\t<td>None</td>\n",
       "\t\t<td>None</td>\n",
       "\t\t<td>None</td>\n",
       "\t\t<td>17/01/04</td>\n",
       "\t\t<td>4</td>\n",
       "\t\t<td>YELLOW INC</td>\n",
       "\t</tr>\n",
       "\t<tr>\n",
       "\t\t<td>Red Inc</td>\n",
       "\t\t<td>200.0</td>\n",
       "\t\t<td>150</td>\n",
       "\t\t<td>140</td>\n",
       "\t\t<td>None</td>\n",
       "\t\t<td>17/01/04</td>\n",
       "\t\t<td>3</td>\n",
       "\t\t<td>RED INC</td>\n",
       "\t</tr>\n",
       "\t<tr>\n",
       "\t\t<td>Alpha Co</td>\n",
       "\t\t<td>210.0</td>\n",
       "\t\t<td>200</td>\n",
       "\t\t<td>215</td>\n",
       "\t\t<td>250</td>\n",
       "\t\t<td>17/01/04</td>\n",
       "\t\t<td>2</td>\n",
       "\t\t<td>ALPHA CO</td>\n",
       "\t</tr>\n",
       "\t<tr>\n",
       "\t\t<td>Orange Inc</td>\n",
       "\t\t<td>210.0</td>\n",
       "\t\t<td>None</td>\n",
       "\t\t<td>None</td>\n",
       "\t\t<td>250</td>\n",
       "\t\t<td>17/01/04</td>\n",
       "\t\t<td>4</td>\n",
       "\t\t<td>ORANGE INC</td>\n",
       "\t</tr>\n",
       "</table></html>"
      ],
      "text/plain": [
       "              Feb    Jan    Mar    Apr  datetime  id   upper_col\n",
       "accounts                                                        \n",
       "Jones LLC   200.0  150.0  140.0  180.0  17/01/04   5   JONES LLC\n",
       "Blue Inc     90.0   50.0   95.0  101.0  17/01/04   1    BLUE INC\n",
       "Yellow Inc   90.0    NaN    NaN    NaN  17/01/04   4  YELLOW INC\n",
       "Red Inc     200.0  150.0  140.0    NaN  17/01/04   3     RED INC\n",
       "Alpha Co    210.0  200.0  215.0  250.0  17/01/04   2    ALPHA CO\n",
       "Orange Inc  210.0    NaN    NaN  250.0  17/01/04   4  ORANGE INC"
      ]
     },
     "execution_count": 7,
     "metadata": {},
     "output_type": "execute_result"
    }
   ],
   "source": [
    "#Assign the Column Expression returned by user defined function to the DataFrame.\n",
    "out_df = df_sales.assign(upper_col = to_upper('accounts'))\n",
    "\n",
    "# Print the result.\n",
    "out_df"
   ]
  },
  {
   "cell_type": "markdown",
   "id": "a3eccc8f-9801-4f90-8fa0-ef82e8f34993",
   "metadata": {},
   "source": [
    "<b style = 'font-size:28px;font-family:Arial;color:#E37C4D'>UDF to get the factorial of values in column 'id'.</b>"
   ]
  },
  {
   "cell_type": "markdown",
   "id": "9ef5f646-a910-4db8-b186-80573d840324",
   "metadata": {},
   "source": [
    "udf to get the factorial of values in 'id' and store the result in INTEGER type column."
   ]
  },
  {
   "cell_type": "code",
   "execution_count": 8,
   "id": "c460aad1-f886-42af-9e7f-f952bffcb9ee",
   "metadata": {},
   "outputs": [],
   "source": [
    "@udf(returns = INTEGER())\n",
    "def factorial(n):\n",
    "    import math\n",
    "    return math.factorial(n)"
   ]
  },
  {
   "cell_type": "code",
   "execution_count": 9,
   "id": "73231ee0-2778-45f9-9db7-181cc3fc1b13",
   "metadata": {},
   "outputs": [
    {
     "data": {
      "text/html": [
       "<style type=\"text/css\">\n",
       "\ttable {border:ridge 5px;}\n",
       "\ttable td {border:inset 1px;}\n",
       "\ttable tr#HeaderRow {background-color:grey; color:white;}</style>\n",
       "<html><table>\n",
       "\t<tr id=\"HeaderRow\">\n",
       "\t\t<th>accounts</th>\n",
       "\t\t<th>Feb</th>\n",
       "\t\t<th>Jan</th>\n",
       "\t\t<th>Mar</th>\n",
       "\t\t<th>Apr</th>\n",
       "\t\t<th>datetime</th>\n",
       "\t\t<th>id</th>\n",
       "\t\t<th>fact</th>\n",
       "\t</tr>\n",
       "\t<tr>\n",
       "\t\t<td>Jones LLC</td>\n",
       "\t\t<td>200.0</td>\n",
       "\t\t<td>150</td>\n",
       "\t\t<td>140</td>\n",
       "\t\t<td>180</td>\n",
       "\t\t<td>17/01/04</td>\n",
       "\t\t<td>5</td>\n",
       "\t\t<td>120</td>\n",
       "\t</tr>\n",
       "\t<tr>\n",
       "\t\t<td>Yellow Inc</td>\n",
       "\t\t<td>90.0</td>\n",
       "\t\t<td>None</td>\n",
       "\t\t<td>None</td>\n",
       "\t\t<td>None</td>\n",
       "\t\t<td>17/01/04</td>\n",
       "\t\t<td>4</td>\n",
       "\t\t<td>24</td>\n",
       "\t</tr>\n",
       "\t<tr>\n",
       "\t\t<td>Orange Inc</td>\n",
       "\t\t<td>210.0</td>\n",
       "\t\t<td>None</td>\n",
       "\t\t<td>None</td>\n",
       "\t\t<td>250</td>\n",
       "\t\t<td>17/01/04</td>\n",
       "\t\t<td>4</td>\n",
       "\t\t<td>24</td>\n",
       "\t</tr>\n",
       "\t<tr>\n",
       "\t\t<td>Blue Inc</td>\n",
       "\t\t<td>90.0</td>\n",
       "\t\t<td>50</td>\n",
       "\t\t<td>95</td>\n",
       "\t\t<td>101</td>\n",
       "\t\t<td>17/01/04</td>\n",
       "\t\t<td>1</td>\n",
       "\t\t<td>1</td>\n",
       "\t</tr>\n",
       "\t<tr>\n",
       "\t\t<td>Alpha Co</td>\n",
       "\t\t<td>210.0</td>\n",
       "\t\t<td>200</td>\n",
       "\t\t<td>215</td>\n",
       "\t\t<td>250</td>\n",
       "\t\t<td>17/01/04</td>\n",
       "\t\t<td>2</td>\n",
       "\t\t<td>2</td>\n",
       "\t</tr>\n",
       "\t<tr>\n",
       "\t\t<td>Red Inc</td>\n",
       "\t\t<td>200.0</td>\n",
       "\t\t<td>150</td>\n",
       "\t\t<td>140</td>\n",
       "\t\t<td>None</td>\n",
       "\t\t<td>17/01/04</td>\n",
       "\t\t<td>3</td>\n",
       "\t\t<td>6</td>\n",
       "\t</tr>\n",
       "</table></html>"
      ],
      "text/plain": [
       "              Feb    Jan    Mar    Apr  datetime  id  fact\n",
       "accounts                                                  \n",
       "Jones LLC   200.0  150.0  140.0  180.0  17/01/04   5   120\n",
       "Yellow Inc   90.0    NaN    NaN    NaN  17/01/04   4    24\n",
       "Orange Inc  210.0    NaN    NaN  250.0  17/01/04   4    24\n",
       "Blue Inc     90.0   50.0   95.0  101.0  17/01/04   1     1\n",
       "Alpha Co    210.0  200.0  215.0  250.0  17/01/04   2     2\n",
       "Red Inc     200.0  150.0  140.0    NaN  17/01/04   3     6"
      ]
     },
     "execution_count": 9,
     "metadata": {},
     "output_type": "execute_result"
    }
   ],
   "source": [
    "#Assign the Column Expression returned by user defined function to the DataFrame.\n",
    "out_df = df_sales.assign(fact = factorial('id'))\n",
    "\n",
    "# Print the result.\n",
    "out_df"
   ]
  },
  {
   "cell_type": "markdown",
   "id": "deb570fa-6275-42b1-9082-19c37c83b9aa",
   "metadata": {},
   "source": [
    "<b style = 'font-size:28px;font-family:Arial;color:#E37C4D'>UDF to add 30 days to values in column 'datetime'.</b>"
   ]
  },
  {
   "cell_type": "markdown",
   "id": "a6c989ec-98e9-4e29-a06b-3726d38c7248",
   "metadata": {},
   "source": [
    "udf to add 30 to the 'datetime' column and store the result in DATE type column."
   ]
  },
  {
   "cell_type": "code",
   "execution_count": 10,
   "id": "a6fece65-f797-4f93-8907-c0d908be4d19",
   "metadata": {},
   "outputs": [],
   "source": [
    "@udf(returns = DATE())\n",
    "def updated_date(x, y):\n",
    "    import datetime\n",
    "    return (datetime.datetime.strptime(x, \"%y/%m/%d\")+datetime.timedelta(y)).strftime(\"%y/%m/%d\")"
   ]
  },
  {
   "cell_type": "code",
   "execution_count": 11,
   "id": "13962da3-5e41-43ae-9b80-52f084d3b395",
   "metadata": {},
   "outputs": [
    {
     "data": {
      "text/html": [
       "<style type=\"text/css\">\n",
       "\ttable {border:ridge 5px;}\n",
       "\ttable td {border:inset 1px;}\n",
       "\ttable tr#HeaderRow {background-color:grey; color:white;}</style>\n",
       "<html><table>\n",
       "\t<tr id=\"HeaderRow\">\n",
       "\t\t<th>accounts</th>\n",
       "\t\t<th>Feb</th>\n",
       "\t\t<th>Jan</th>\n",
       "\t\t<th>Mar</th>\n",
       "\t\t<th>Apr</th>\n",
       "\t\t<th>datetime</th>\n",
       "\t\t<th>id</th>\n",
       "\t\t<th>new_date</th>\n",
       "\t</tr>\n",
       "\t<tr>\n",
       "\t\t<td>Orange Inc</td>\n",
       "\t\t<td>210.0</td>\n",
       "\t\t<td>None</td>\n",
       "\t\t<td>None</td>\n",
       "\t\t<td>250</td>\n",
       "\t\t<td>17/01/04</td>\n",
       "\t\t<td>4</td>\n",
       "\t\t<td>17/02/03</td>\n",
       "\t</tr>\n",
       "\t<tr>\n",
       "\t\t<td>Blue Inc</td>\n",
       "\t\t<td>90.0</td>\n",
       "\t\t<td>50</td>\n",
       "\t\t<td>95</td>\n",
       "\t\t<td>101</td>\n",
       "\t\t<td>17/01/04</td>\n",
       "\t\t<td>1</td>\n",
       "\t\t<td>17/02/03</td>\n",
       "\t</tr>\n",
       "\t<tr>\n",
       "\t\t<td>Yellow Inc</td>\n",
       "\t\t<td>90.0</td>\n",
       "\t\t<td>None</td>\n",
       "\t\t<td>None</td>\n",
       "\t\t<td>None</td>\n",
       "\t\t<td>17/01/04</td>\n",
       "\t\t<td>4</td>\n",
       "\t\t<td>17/02/03</td>\n",
       "\t</tr>\n",
       "\t<tr>\n",
       "\t\t<td>Red Inc</td>\n",
       "\t\t<td>200.0</td>\n",
       "\t\t<td>150</td>\n",
       "\t\t<td>140</td>\n",
       "\t\t<td>None</td>\n",
       "\t\t<td>17/01/04</td>\n",
       "\t\t<td>3</td>\n",
       "\t\t<td>17/02/03</td>\n",
       "\t</tr>\n",
       "\t<tr>\n",
       "\t\t<td>Jones LLC</td>\n",
       "\t\t<td>200.0</td>\n",
       "\t\t<td>150</td>\n",
       "\t\t<td>140</td>\n",
       "\t\t<td>180</td>\n",
       "\t\t<td>17/01/04</td>\n",
       "\t\t<td>5</td>\n",
       "\t\t<td>17/02/03</td>\n",
       "\t</tr>\n",
       "\t<tr>\n",
       "\t\t<td>Alpha Co</td>\n",
       "\t\t<td>210.0</td>\n",
       "\t\t<td>200</td>\n",
       "\t\t<td>215</td>\n",
       "\t\t<td>250</td>\n",
       "\t\t<td>17/01/04</td>\n",
       "\t\t<td>2</td>\n",
       "\t\t<td>17/02/03</td>\n",
       "\t</tr>\n",
       "</table></html>"
      ],
      "text/plain": [
       "              Feb    Jan    Mar    Apr  datetime  id  new_date\n",
       "accounts                                                      \n",
       "Orange Inc  210.0    NaN    NaN  250.0  17/01/04   4  17/02/03\n",
       "Blue Inc     90.0   50.0   95.0  101.0  17/01/04   1  17/02/03\n",
       "Yellow Inc   90.0    NaN    NaN    NaN  17/01/04   4  17/02/03\n",
       "Red Inc     200.0  150.0  140.0    NaN  17/01/04   3  17/02/03\n",
       "Jones LLC   200.0  150.0  140.0  180.0  17/01/04   5  17/02/03\n",
       "Alpha Co    210.0  200.0  215.0  250.0  17/01/04   2  17/02/03"
      ]
     },
     "execution_count": 11,
     "metadata": {},
     "output_type": "execute_result"
    }
   ],
   "source": [
    "#Assign the Column Expression returned by user defined function to the DataFrame.\n",
    "out_df = df_sales.assign(new_date = updated_date('datetime', 30))\n",
    "\n",
    "# Print the result.\n",
    "out_df"
   ]
  },
  {
   "cell_type": "markdown",
   "id": "fccd80a6-f2c4-43c7-902f-ba9b3e774dfe",
   "metadata": {},
   "source": [
    "<b style = 'font-size:28px;font-family:Arial;color:#E37C4D'>Disconnect from Vantage</b>"
   ]
  },
  {
   "cell_type": "code",
   "execution_count": 12,
   "id": "699baf3e-ebf9-4bb1-9c7e-dbc207465e72",
   "metadata": {},
   "outputs": [
    {
     "data": {
      "text/plain": [
       "True"
      ]
     },
     "execution_count": 12,
     "metadata": {},
     "output_type": "execute_result"
    }
   ],
   "source": [
    "remove_context()"
   ]
  }
 ],
 "metadata": {
  "kernelspec": {
   "display_name": "Python 3 (ipykernel)",
   "language": "python",
   "name": "python3"
  },
  "language_info": {
   "codemirror_mode": {
    "name": "ipython",
    "version": 3
   },
   "file_extension": ".py",
   "mimetype": "text/x-python",
   "name": "python",
   "nbconvert_exporter": "python",
   "pygments_lexer": "ipython3",
   "version": "3.10.5"
  }
 },
 "nbformat": 4,
 "nbformat_minor": 5
}
