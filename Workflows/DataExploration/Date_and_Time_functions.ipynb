{
 "cells": [
  {
   "cell_type": "markdown",
   "id": "416f0cbb-e468-48d9-b9ab-5b145a583493",
   "metadata": {},
   "source": [
    "<header style=\"padding:1px;background:#f9f9f9;border-top:3px solid #00b2b1\"><img id=\"Teradata-logo\" src=\"https://www.teradata.com/Teradata/Images/Rebrand/Teradata_logo-two_color.png\" alt=\"Teradata\" width=\"220\" align=\"right\" />\n",
    "\n",
    "<b style = 'font-size:28px;font-family:Arial;color:#E37C4D'>Date and Time functions in teradataml.</b>\n",
    "</header>"
   ]
  },
  {
   "cell_type": "markdown",
   "id": "db300bf7-a056-4f75-84c7-9ea43e7c9847",
   "metadata": {},
   "source": [
    "### Disclaimer\n",
    "The sample code (“Sample Code”) provided is not covered by any Teradata agreements. Please be aware that Teradata has no control over the model responses to such sample code and such response may vary. The use of the model by Teradata is strictly for demonstration purposes and does not constitute any form of certification or endorsement. The sample code is provided “AS IS” and any express or implied warranties, including the implied warranties of merchantability and fitness for a particular purpose, are disclaimed. In no event shall Teradata be liable for any direct, indirect, incidental, special, exemplary, or consequential damages (including, but not limited to, procurement of substitute goods or services; loss of use, data, or profits; or business interruption) sustained by you or a third party, however caused and on any theory of liability, whether in contract, strict liability, or tort arising in any way out of the use of this sample code, even if advised of the possibility of such damage."
   ]
  },
  {
   "cell_type": "markdown",
   "id": "5e99b04d-67da-4c7b-a50b-b917eab9254e",
   "metadata": {},
   "source": [
    "<html lang=\"en\">\n",
    "<head>\n",
    "<meta http-equiv=\"Content-Type\" content=\"text/html; charset=utf-8\">\n",
    "</head><body>\n",
    "<b style = 'font-size:28px;font-family:Arial;color:#E37C4D'>List of available Date and Time functions in teradataml.</b>\n",
    " <ul style=\"list-style-type:disc;\">\n",
    " <li><h3>  week_start, week_begin </h3>    Returns  the  first  date  or  timestamp  of  the  week  that  begins  immediately  before  the  specified  date  or  timestamp  value  in  a  column  as  a  literal.</li>\n",
    " <li><h3>  week_end </h3>    Returns  the  last  date  or  timestamp  of  the  week  that  ends  immediately  after  the  specified  date  or  timestamp  value  in  a  column  as  a  literal.</li>\n",
    " <li><h3>  month_start, month_begin </h3>    Returns  the  first  date  or  timestamp  of  the  month  that  begins  immediately  before  the  specified  date  or  timestamp  value  in  a  column  or  as  a  literal.</li>\n",
    " <li><h3>  month_end </h3>    Returns  the  last  date  or  timestamp  of  the  month  that  ends  immediately  after  the  specified  date  or  timestamp  value  in  a  column  or  as  a  literal.</li>\n",
    " <li><h3>  year_start, year_begin </h3>    Returns  the  first  date  or  timestamp  of  the  year  that  begins  immediately  before  the  specified  date  or  timestamp  value  in  a  column  or  as  a  literal.</li>\n",
    " <li><h3>  year_end </h3>    Returns  the  last  date  or  timestamp  of  the  year  that  ends  immediately  after  the  specified  date  or  timestamp  value  in  a  column  or  as  a  literal.</li>\n",
    " <li><h3>  quarter_start, quarter_begin </h3>    Returns  the  first  date  or  timestamp  of  the  quarter  that  begins  immediately  before  the  specified  date  or  timestamp  value  in  a  column  as  a  literal.</li>\n",
    " <li> <h3>  quarter_end </h3>    Returns  the  last  date  or  timestamp  of  the  quarter  that  ends  immediately  after  the  specified  date  or  timestamp  value  in  a  column  as  a  literal.</li>\n",
    " <li><h3>  last_sunday </h3>    Returns  the  date  or  timestamp  of  Sunday  that  falls  immediately  before  the  specified  date  or  timestamp  value  in  a  column  as  a  literal.</li>\n",
    " <li><h3>  last_monday </h3>    Returns  the  date  or  timestamp  of  Monday  that  falls  immediately  before  the  specified  date  or  timestamp  value  in  a  column  as  a  literal.</li>\n",
    " <li><h3>  last_tuesday </h3>    Returns  the  date  or  timestamp  of  Tuesday  that  falls  immediately  before  the  specified  date  or  timestamp  value  in  a  column  as  a  literal.</li>\n",
    " <li><h3>  last_wednesday </h3>    Returns  the  date  or  timestamp  of  Wednesday  that  falls  immediately  before  specified  date  or  timestamp  value  in  a  column  as  a  literal.</li>\n",
    " <li><h3>  last_thursday </h3>    Returns  the  date  or  timestamp  of  Thursday  that  falls  immediately  before  specified  date  or  timestamp  value  in  a  column  as  a  literal.</li>\n",
    " <li><h3>  last_friday </h3>    Returns  the  date  or  timestamp  of  Friday  that  falls  immediately  before  specified  date  or  timestamp  value  in  a  column  as  a  literal.</li>\n",
    " <li><h3>  last_saturday </h3>    Returns  the  date  or  timestamp  of  Saturday  that  falls  immediately  before  specified  date  or  timestamp  value  in  a  column  as  a  literal.</li>\n",
    " <li><h3>  day_of_week </h3>    Returns  the  number  of  days  from  the  beginning  of  the  week  to  the  specified  date  or  timestamp  value  in  a  column  as  a  literal.</li>\n",
    " <li><h3>  day_of_month </h3>    Returns  the  number  of  days  from  the  beginning  of  the  month  to  the  specified  date  or  timestamp  value  in  a  column  as  a  literal.</li>\n",
    " <li><h3>  day_of_year </h3>    Returns  the  number  of  days  from  the  beginning  of  the  year  to  the  specified  date  or  timestamp  value  in  a  column  as  a  literal.</li>\n",
    " <li><h3>  day_of_calendar </h3>    Returns  the  number  of  days  from  the  beginning  of  the  business  calendar  to  the  specified  date  or  timestamp  value  in  a  column  as  a  literal.</li>\n",
    " <li><h3>  week_of_month </h3>    Returns  the  number  of  weeks  from  the  beginning  of  the  month  to  the  specified  date  or  timestamp  value  in  a  column  as  a  literal.</li>\n",
    " <li><h3>  week_of_quarter </h3>    Returns  the  number  of  weeks  from  the  beginning  of  the  quarter  to  the  specified  date  or  timestamp  value  in  a  column  as  a  literal.</li>\n",
    " <li><h3>  week_of_year </h3>    Returns  the  number  of  weeks  from  the  beginning  of  the  year  to  the  specified  date  or  timestamp  value  in  a  column  as  a  literal.</li>\n",
    " <li><h3>  week_of_calendar </h3>    Returns  the  number  of  weeks  from  the  beginning  of  the  calendar  to  the  specified  date  or  timestamp  value  in  a  column  as  a  literal.</li>\n",
    " <li><h3>  month_of_year </h3>    Returns  the  number  of  months  from  the  beginning  of  the  year  to  the  specified  date  or  timestamp  value  in  a  column  as  a  literal.</li>\n",
    " <li><h3>  month_of_calendar </h3>    Returns  the  number  of  months  from  the  beginning  of  the  calendar  to  the  specified  date  or  timestamp  value  in  a  column  as  a  literal.</li>\n",
    " <li><h3>  month_of_quarter </h3>    Returns  the  number  of  months  from  the  beginning  of  the  quarter  to  the  specified  date  or  timestamp  value  in  a  column  as  a  literal.</li>\n",
    " <li><h3>  quarter_of_year </h3>    Returns  the  number  of  quarters  from  the  beginning  of  the  year  to  the  specified  date  or  timestamp  value  in  a  column  as  a  literal.</li>\n",
    " <li><h3>  quarter_of_calendar </h3>    Returns  the  number  of  quarters  from  the  beginning  of  the  calendar  to  the  specified  date  or  timestamp  value  in  a  column  as  a  literal.</li>\n",
    " <li><h3>  year_of_calendar </h3>    Returns  the  year  of  the  specified  date  or  timestamp  value  in  a  column  as  a  literal.</li>\n",
    " <li><h3>  day_occurrence_of_month </h3>    Returns  the  nth  occurrence  of  the  weekday  in  the  month  for  the  date  to  the  specified  date  or  timestamp  value  in  a  column  as  a  literal.</li>\n",
    " <li><h3>  year </h3>    Returns  the  integer  value  for  year  in  the  specified  date  or  timestamp  value  in  a  column  as  a  literal.</li>\n",
    " <li><h3>  month </h3>    Returns  the  integer  value  for  month  in  the  specified  date  or  timestamp  value  in  a  column  as  a  literal.</li>\n",
    " <li><h3>  hour </h3>    Returns  the  integer  value  for  hour  in  the  specified  timestamp  value  in  a  column  as  a  literal.</li>\n",
    " <li><h3>  minute </h3>    Returns  the  integer  value  for  minute  in  the  specified  timestamp  value  in  a  column  as  a  literal.</li>\n",
    " <li><h3>  second </h3>    Returns  the  integer  value  for  seconds  in  the  specified  timestamp  value  in  a  column  as  a  literal.</li>\n",
    " <li><h3>  week </h3>    Returns  the  number  of  weeks  from  the  beginning  of  the  year  to  the  specified  date  or  timestamp  value  in  a  column  as  a  literal.</li>\n",
    " <li><h3>  next_day </h3>    Returns  the  date  of  the  first  weekday  specified  as  'day_value'  that  is  later  than  the  specified  date  or  timestamp  value  in  a  column  as  a  literal.</li>\n",
    " <li><h3>  months_between </h3>    Returns  the  number  of  months  between  value  in  specified  date  or  timestamp  value  in  a  column  as  a  literal  and  date  or  timestamp  value  in  argument.</li>\n",
    " <li><h3>  add_months </h3>    Adds  an  integer  number  of  months  to  specified  date  or  timestamp  value  in  a  column  as  a  literal.</li>\n",
    " <li><h3>  oadd_months </h3>    Adds  an  integer  number  of  months,  date  or  timestamp  value  in  specified  date  or  timestamp  value  in  a  column  as  a  literal.</li>\n",
    " <li><h3>  to_timestamp </h3>   Converts  string  or  integer  value  to  a  TIMESTAMP  data  type  or  TIMESTAMP  WITH  TIME  ZONE  data  type.</li>\n",
    " <li><h3>  extract </h3>   Extracts  date  component.</li>\n",
    " <li><h3>  to_interval </h3>   Converts  a  numeric  value  or  string  value  into  an  INTERVAL_DAY_TO_SECOND  or  INTERVAL_YEAR_TO_MONTH  value.</li>\n",
    " <li><h3>  trunc </h3>   Function  to truncate  hours, minutes and seconds from a Date </li>\n",
    " <li><h3>  round </h3>   Function  to round the hours, minutes and seconds from a Date </li>     \n",
    " <li><h3>  to_date </h3>   Convert  a  stringlike  representation  of  a  DATE  or  PERIOD  type  to  Date  type.</li>\n",
    " <li><h3>Convert a date to string and string to date.</h3> Use cast function to convert date to string or string to date.</li>\n",
    " <li><h3>Arithmetic operations on date.</h3> Use trunc and round function.</li>\n",
    " <li><h3>Add Seconds, Minutes, Days, Hours to date.</h3> Use INTERVAL_MINUTE, INTERVAL_SECOND, INTERVAL_YEAR, INTERVAL_MONTH, INTERVAL_DAY, INTERVAL_HOUR.</li>\n",
    "</ul><br>\n",
    "</body>\n",
    "</html>"
   ]
  },
  {
   "cell_type": "markdown",
   "id": "9bbc3287-e399-416a-b293-ce4e33fce0d3",
   "metadata": {},
   "source": [
    "<hr>\n",
    "<b style = 'font-size:28px;font-family:Arial;color:#E37C4D'>Import libraries and create connection. Also prepare the dataset to use in examples.</b>"
   ]
  },
  {
   "cell_type": "code",
   "execution_count": 2,
   "id": "a2beb033-3ac6-4464-b9a1-32a34918c4fd",
   "metadata": {},
   "outputs": [
    {
     "name": "stdin",
     "output_type": "stream",
     "text": [
      "Hostname:  ········\n",
      "Username:  ········\n",
      "Password:  ········\n"
     ]
    },
    {
     "name": "stdout",
     "output_type": "stream",
     "text": [
      "WARNING: Skipped loading table sales since it already exists in the database.\n"
     ]
    }
   ],
   "source": [
    "import getpass\n",
    "import random\n",
    "from teradataml import *\n",
    "from teradataml.dataframe.sql_functions import case\n",
    "\n",
    "# Get the connection to the Vantage using create_context()\n",
    "td_context = create_context(host=getpass.getpass(\"Hostname: \"), username=getpass.getpass(\"Username: \"), password=getpass.getpass(\"Password: \"))\n",
    "\n",
    "# Load the example dataset.\n",
    "load_example_data(\"dataframe\", [\"sales\"])\n",
    "df = DataFrame.from_table('sales')\n",
    "\n",
    "# Preparing the data \n",
    "df_sales = df.assign(dates = case([(df.accounts == 'Alpha Co', df.datetime + random.randrange(20,1000,3)),\n",
    "                                   (df.accounts == 'Blue Inc', df.datetime + random.randrange(20,1000,3)),\n",
    "                                   (df.accounts == 'Jones LLC', df.datetime + random.randrange(20,1000,3)),\n",
    "                                   (df.accounts == 'Orange Inc', df.datetime + random.randrange(20,1000,3)),\n",
    "                                   (df.accounts == 'Yellow Inc', df.datetime + random.randrange(20,1000,3)),\n",
    "                                   (df.accounts == 'Red Inc', df.datetime + random.randrange(20,1000,3))]))"
   ]
  },
  {
   "cell_type": "code",
   "execution_count": 3,
   "id": "684ed0fd",
   "metadata": {},
   "outputs": [],
   "source": [
    "from IPython.core.display import display\n",
    "def print_variables(df):\n",
    "    print(\"Equivalent SQL: {}\".format(df.show_query()))\n",
    "    print(\"\\n\")\n",
    "    print(\" ************************* DataFrame ********************* \")\n",
    "    display(df)\n",
    "    print(\"\\n\\n\")\n",
    "    print(\" ************************* DataFrame.dtypes ********************* \")\n",
    "    display(df.dtypes)\n",
    "    print(\"\\n\\n\")"
   ]
  },
  {
   "cell_type": "code",
   "execution_count": 4,
   "id": "2972dbeb",
   "metadata": {},
   "outputs": [
    {
     "name": "stdout",
     "output_type": "stream",
     "text": [
      "Equivalent SQL: select accounts AS accounts, \"Feb\" AS \"Feb\", \"Jan\" AS \"Jan\", \"Mar\" AS \"Mar\", \"Apr\" AS \"Apr\", datetime AS datetime, CASE WHEN (accounts = 'Alpha Co') THEN datetime + 191 WHEN (accounts = 'Blue Inc') THEN datetime + 56 WHEN (accounts = 'Jones LLC') THEN datetime + 440 WHEN (accounts = 'Orange Inc') THEN datetime + 395 WHEN (accounts = 'Yellow Inc') THEN datetime + 362 WHEN (accounts = 'Red Inc') THEN datetime + 233 END AS dates from \"sales\"\n",
      "\n",
      "\n",
      " ************************* DataFrame ********************* \n"
     ]
    },
    {
     "data": {
      "text/html": [
       "<style type=\"text/css\">\n",
       "\ttable {border:ridge 5px;}\n",
       "\ttable td {border:inset 1px;}\n",
       "\ttable tr#HeaderRow {background-color:grey; color:white;}</style>\n",
       "<html><table>\n",
       "\t<tr id=\"HeaderRow\">\n",
       "\t\t<th>accounts</th>\n",
       "\t\t<th>Feb</th>\n",
       "\t\t<th>Jan</th>\n",
       "\t\t<th>Mar</th>\n",
       "\t\t<th>Apr</th>\n",
       "\t\t<th>datetime</th>\n",
       "\t\t<th>dates</th>\n",
       "\t</tr>\n",
       "\t<tr>\n",
       "\t\t<td>Blue Inc</td>\n",
       "\t\t<td>90.0</td>\n",
       "\t\t<td>50</td>\n",
       "\t\t<td>95</td>\n",
       "\t\t<td>101</td>\n",
       "\t\t<td>04/01/2017</td>\n",
       "\t\t<td>17/03/01</td>\n",
       "\t</tr>\n",
       "\t<tr>\n",
       "\t\t<td>Red Inc</td>\n",
       "\t\t<td>200.0</td>\n",
       "\t\t<td>150</td>\n",
       "\t\t<td>140</td>\n",
       "\t\t<td>None</td>\n",
       "\t\t<td>04/01/2017</td>\n",
       "\t\t<td>17/08/25</td>\n",
       "\t</tr>\n",
       "\t<tr>\n",
       "\t\t<td>Yellow Inc</td>\n",
       "\t\t<td>90.0</td>\n",
       "\t\t<td>None</td>\n",
       "\t\t<td>None</td>\n",
       "\t\t<td>None</td>\n",
       "\t\t<td>04/01/2017</td>\n",
       "\t\t<td>18/01/01</td>\n",
       "\t</tr>\n",
       "\t<tr>\n",
       "\t\t<td>Jones LLC</td>\n",
       "\t\t<td>200.0</td>\n",
       "\t\t<td>150</td>\n",
       "\t\t<td>140</td>\n",
       "\t\t<td>180</td>\n",
       "\t\t<td>04/01/2017</td>\n",
       "\t\t<td>18/03/20</td>\n",
       "\t</tr>\n",
       "\t<tr>\n",
       "\t\t<td>Orange Inc</td>\n",
       "\t\t<td>210.0</td>\n",
       "\t\t<td>None</td>\n",
       "\t\t<td>None</td>\n",
       "\t\t<td>250</td>\n",
       "\t\t<td>04/01/2017</td>\n",
       "\t\t<td>18/02/03</td>\n",
       "\t</tr>\n",
       "\t<tr>\n",
       "\t\t<td>Alpha Co</td>\n",
       "\t\t<td>210.0</td>\n",
       "\t\t<td>200</td>\n",
       "\t\t<td>215</td>\n",
       "\t\t<td>250</td>\n",
       "\t\t<td>04/01/2017</td>\n",
       "\t\t<td>17/07/14</td>\n",
       "\t</tr>\n",
       "</table></html>"
      ],
      "text/plain": [
       "              Feb    Jan    Mar    Apr    datetime     dates\n",
       "accounts                                                    \n",
       "Blue Inc     90.0   50.0   95.0  101.0  04/01/2017  17/03/01\n",
       "Red Inc     200.0  150.0  140.0    NaN  04/01/2017  17/08/25\n",
       "Yellow Inc   90.0    NaN    NaN    NaN  04/01/2017  18/01/01\n",
       "Jones LLC   200.0  150.0  140.0  180.0  04/01/2017  18/03/20\n",
       "Orange Inc  210.0    NaN    NaN  250.0  04/01/2017  18/02/03\n",
       "Alpha Co    210.0  200.0  215.0  250.0  04/01/2017  17/07/14"
      ]
     },
     "metadata": {},
     "output_type": "display_data"
    },
    {
     "name": "stdout",
     "output_type": "stream",
     "text": [
      "\n",
      "\n",
      "\n",
      " ************************* DataFrame.dtypes ********************* \n"
     ]
    },
    {
     "data": {
      "text/html": [
       "<style type=\"text/css\">\n",
       "                                table {border:ridge 5px;}\n",
       "                                table td {border:inset 1px;}\n",
       "                                table tr#HeaderRow {background-color:grey; color:white;}\n",
       "                               </style>\n",
       "                               <html>\n",
       "                                  <table>\n",
       "                                    <tr id=\"HeaderRow\">\n",
       "                                        <th>COLUMN NAME</th>\n",
       "                                        <th>TYPE</th>\n",
       "                                    </tr>\n",
       "                                    <tr><td>accounts</td><td>str</td></tr>\n",
       "<tr><td>Feb</td><td>float</td></tr>\n",
       "<tr><td>Jan</td><td>int</td></tr>\n",
       "<tr><td>Mar</td><td>int</td></tr>\n",
       "<tr><td>Apr</td><td>int</td></tr>\n",
       "<tr><td>datetime</td><td>datetime.date</td></tr>\n",
       "<tr><td>dates</td><td>datetime.date</td></tr>\n",
       "                                  </table>\n",
       "                               </html>\n",
       "                            "
      ],
      "text/plain": [
       "accounts              str\n",
       "Feb                 float\n",
       "Jan                   int\n",
       "Mar                   int\n",
       "Apr                   int\n",
       "datetime    datetime.date\n",
       "dates       datetime.date"
      ]
     },
     "metadata": {},
     "output_type": "display_data"
    },
    {
     "name": "stdout",
     "output_type": "stream",
     "text": [
      "\n",
      "\n",
      "\n"
     ]
    }
   ],
   "source": [
    "print_variables(df_sales)"
   ]
  },
  {
   "cell_type": "markdown",
   "id": "560a6ce4",
   "metadata": {},
   "source": [
    "### DataFrameColumn.week_begin()"
   ]
  },
  {
   "cell_type": "code",
   "execution_count": 5,
   "id": "a07f7079",
   "metadata": {},
   "outputs": [
    {
     "name": "stdout",
     "output_type": "stream",
     "text": [
      "Equivalent SQL: select accounts AS accounts, \"Feb\" AS \"Feb\", \"Jan\" AS \"Jan\", \"Mar\" AS \"Mar\", \"Apr\" AS \"Apr\", datetime AS datetime, dates AS dates, td_week_begin(dates, 'Teradata', NULL) AS res from (select accounts AS accounts, \"Feb\" AS \"Feb\", \"Jan\" AS \"Jan\", \"Mar\" AS \"Mar\", \"Apr\" AS \"Apr\", datetime AS datetime, CASE WHEN (accounts = 'Alpha Co') THEN datetime + 191 WHEN (accounts = 'Blue Inc') THEN datetime + 56 WHEN (accounts = 'Jones LLC') THEN datetime + 440 WHEN (accounts = 'Orange Inc') THEN datetime + 395 WHEN (accounts = 'Yellow Inc') THEN datetime + 362 WHEN (accounts = 'Red Inc') THEN datetime + 233 END AS dates from \"sales\") as temp_table\n",
      "\n",
      "\n",
      " ************************* DataFrame ********************* \n"
     ]
    },
    {
     "data": {
      "text/html": [
       "<style type=\"text/css\">\n",
       "\ttable {border:ridge 5px;}\n",
       "\ttable td {border:inset 1px;}\n",
       "\ttable tr#HeaderRow {background-color:grey; color:white;}</style>\n",
       "<html><table>\n",
       "\t<tr id=\"HeaderRow\">\n",
       "\t\t<th>accounts</th>\n",
       "\t\t<th>Feb</th>\n",
       "\t\t<th>Jan</th>\n",
       "\t\t<th>Mar</th>\n",
       "\t\t<th>Apr</th>\n",
       "\t\t<th>datetime</th>\n",
       "\t\t<th>dates</th>\n",
       "\t\t<th>res</th>\n",
       "\t</tr>\n",
       "\t<tr>\n",
       "\t\t<td>Blue Inc</td>\n",
       "\t\t<td>90.0</td>\n",
       "\t\t<td>50</td>\n",
       "\t\t<td>95</td>\n",
       "\t\t<td>101</td>\n",
       "\t\t<td>04/01/2017</td>\n",
       "\t\t<td>17/03/01</td>\n",
       "\t\t<td>17/02/26</td>\n",
       "\t</tr>\n",
       "\t<tr>\n",
       "\t\t<td>Red Inc</td>\n",
       "\t\t<td>200.0</td>\n",
       "\t\t<td>150</td>\n",
       "\t\t<td>140</td>\n",
       "\t\t<td>None</td>\n",
       "\t\t<td>04/01/2017</td>\n",
       "\t\t<td>17/08/25</td>\n",
       "\t\t<td>17/08/20</td>\n",
       "\t</tr>\n",
       "\t<tr>\n",
       "\t\t<td>Yellow Inc</td>\n",
       "\t\t<td>90.0</td>\n",
       "\t\t<td>None</td>\n",
       "\t\t<td>None</td>\n",
       "\t\t<td>None</td>\n",
       "\t\t<td>04/01/2017</td>\n",
       "\t\t<td>18/01/01</td>\n",
       "\t\t<td>18/01/01</td>\n",
       "\t</tr>\n",
       "\t<tr>\n",
       "\t\t<td>Jones LLC</td>\n",
       "\t\t<td>200.0</td>\n",
       "\t\t<td>150</td>\n",
       "\t\t<td>140</td>\n",
       "\t\t<td>180</td>\n",
       "\t\t<td>04/01/2017</td>\n",
       "\t\t<td>18/03/20</td>\n",
       "\t\t<td>18/03/18</td>\n",
       "\t</tr>\n",
       "\t<tr>\n",
       "\t\t<td>Orange Inc</td>\n",
       "\t\t<td>210.0</td>\n",
       "\t\t<td>None</td>\n",
       "\t\t<td>None</td>\n",
       "\t\t<td>250</td>\n",
       "\t\t<td>04/01/2017</td>\n",
       "\t\t<td>18/02/03</td>\n",
       "\t\t<td>18/01/28</td>\n",
       "\t</tr>\n",
       "\t<tr>\n",
       "\t\t<td>Alpha Co</td>\n",
       "\t\t<td>210.0</td>\n",
       "\t\t<td>200</td>\n",
       "\t\t<td>215</td>\n",
       "\t\t<td>250</td>\n",
       "\t\t<td>04/01/2017</td>\n",
       "\t\t<td>17/07/14</td>\n",
       "\t\t<td>17/07/09</td>\n",
       "\t</tr>\n",
       "</table></html>"
      ],
      "text/plain": [
       "              Feb    Jan    Mar    Apr    datetime     dates       res\n",
       "accounts                                                              \n",
       "Blue Inc     90.0   50.0   95.0  101.0  04/01/2017  17/03/01  17/02/26\n",
       "Red Inc     200.0  150.0  140.0    NaN  04/01/2017  17/08/25  17/08/20\n",
       "Yellow Inc   90.0    NaN    NaN    NaN  04/01/2017  18/01/01  18/01/01\n",
       "Jones LLC   200.0  150.0  140.0  180.0  04/01/2017  18/03/20  18/03/18\n",
       "Orange Inc  210.0    NaN    NaN  250.0  04/01/2017  18/02/03  18/01/28\n",
       "Alpha Co    210.0  200.0  215.0  250.0  04/01/2017  17/07/14  17/07/09"
      ]
     },
     "metadata": {},
     "output_type": "display_data"
    },
    {
     "name": "stdout",
     "output_type": "stream",
     "text": [
      "\n",
      "\n",
      "\n",
      " ************************* DataFrame.dtypes ********************* \n"
     ]
    },
    {
     "data": {
      "text/html": [
       "<style type=\"text/css\">\n",
       "                                table {border:ridge 5px;}\n",
       "                                table td {border:inset 1px;}\n",
       "                                table tr#HeaderRow {background-color:grey; color:white;}\n",
       "                               </style>\n",
       "                               <html>\n",
       "                                  <table>\n",
       "                                    <tr id=\"HeaderRow\">\n",
       "                                        <th>COLUMN NAME</th>\n",
       "                                        <th>TYPE</th>\n",
       "                                    </tr>\n",
       "                                    <tr><td>accounts</td><td>str</td></tr>\n",
       "<tr><td>Feb</td><td>float</td></tr>\n",
       "<tr><td>Jan</td><td>int</td></tr>\n",
       "<tr><td>Mar</td><td>int</td></tr>\n",
       "<tr><td>Apr</td><td>int</td></tr>\n",
       "<tr><td>datetime</td><td>datetime.date</td></tr>\n",
       "<tr><td>dates</td><td>datetime.date</td></tr>\n",
       "<tr><td>res</td><td>datetime.date</td></tr>\n",
       "                                  </table>\n",
       "                               </html>\n",
       "                            "
      ],
      "text/plain": [
       "accounts              str\n",
       "Feb                 float\n",
       "Jan                   int\n",
       "Mar                   int\n",
       "Apr                   int\n",
       "datetime    datetime.date\n",
       "dates       datetime.date\n",
       "res         datetime.date"
      ]
     },
     "metadata": {},
     "output_type": "display_data"
    },
    {
     "name": "stdout",
     "output_type": "stream",
     "text": [
      "\n",
      "\n",
      "\n"
     ]
    }
   ],
   "source": [
    "# Returns the first date or timestamp of the week that begins immediately before the specified date or timestamp value in a column as a literal.\n",
    "df = df_sales.assign(res = df_sales.dates.week_begin())\n",
    "print_variables(df)"
   ]
  },
  {
   "cell_type": "markdown",
   "id": "b5a1232a",
   "metadata": {},
   "source": [
    "### DataFrameColumn.week_end()"
   ]
  },
  {
   "cell_type": "code",
   "execution_count": 6,
   "id": "0ddedd1c",
   "metadata": {},
   "outputs": [
    {
     "name": "stdout",
     "output_type": "stream",
     "text": [
      "Equivalent SQL: select accounts AS accounts, \"Feb\" AS \"Feb\", \"Jan\" AS \"Jan\", \"Mar\" AS \"Mar\", \"Apr\" AS \"Apr\", datetime AS datetime, dates AS dates, td_week_end(dates, 'Teradata', NULL) AS res from (select accounts AS accounts, \"Feb\" AS \"Feb\", \"Jan\" AS \"Jan\", \"Mar\" AS \"Mar\", \"Apr\" AS \"Apr\", datetime AS datetime, CASE WHEN (accounts = 'Alpha Co') THEN datetime + 191 WHEN (accounts = 'Blue Inc') THEN datetime + 56 WHEN (accounts = 'Jones LLC') THEN datetime + 440 WHEN (accounts = 'Orange Inc') THEN datetime + 395 WHEN (accounts = 'Yellow Inc') THEN datetime + 362 WHEN (accounts = 'Red Inc') THEN datetime + 233 END AS dates from \"sales\") as temp_table\n",
      "\n",
      "\n",
      " ************************* DataFrame ********************* \n"
     ]
    },
    {
     "data": {
      "text/html": [
       "<style type=\"text/css\">\n",
       "\ttable {border:ridge 5px;}\n",
       "\ttable td {border:inset 1px;}\n",
       "\ttable tr#HeaderRow {background-color:grey; color:white;}</style>\n",
       "<html><table>\n",
       "\t<tr id=\"HeaderRow\">\n",
       "\t\t<th>accounts</th>\n",
       "\t\t<th>Feb</th>\n",
       "\t\t<th>Jan</th>\n",
       "\t\t<th>Mar</th>\n",
       "\t\t<th>Apr</th>\n",
       "\t\t<th>datetime</th>\n",
       "\t\t<th>dates</th>\n",
       "\t\t<th>res</th>\n",
       "\t</tr>\n",
       "\t<tr>\n",
       "\t\t<td>Blue Inc</td>\n",
       "\t\t<td>90.0</td>\n",
       "\t\t<td>50</td>\n",
       "\t\t<td>95</td>\n",
       "\t\t<td>101</td>\n",
       "\t\t<td>04/01/2017</td>\n",
       "\t\t<td>17/03/01</td>\n",
       "\t\t<td>17/03/04</td>\n",
       "\t</tr>\n",
       "\t<tr>\n",
       "\t\t<td>Red Inc</td>\n",
       "\t\t<td>200.0</td>\n",
       "\t\t<td>150</td>\n",
       "\t\t<td>140</td>\n",
       "\t\t<td>None</td>\n",
       "\t\t<td>04/01/2017</td>\n",
       "\t\t<td>17/08/25</td>\n",
       "\t\t<td>17/08/26</td>\n",
       "\t</tr>\n",
       "\t<tr>\n",
       "\t\t<td>Yellow Inc</td>\n",
       "\t\t<td>90.0</td>\n",
       "\t\t<td>None</td>\n",
       "\t\t<td>None</td>\n",
       "\t\t<td>None</td>\n",
       "\t\t<td>04/01/2017</td>\n",
       "\t\t<td>18/01/01</td>\n",
       "\t\t<td>18/01/06</td>\n",
       "\t</tr>\n",
       "\t<tr>\n",
       "\t\t<td>Jones LLC</td>\n",
       "\t\t<td>200.0</td>\n",
       "\t\t<td>150</td>\n",
       "\t\t<td>140</td>\n",
       "\t\t<td>180</td>\n",
       "\t\t<td>04/01/2017</td>\n",
       "\t\t<td>18/03/20</td>\n",
       "\t\t<td>18/03/24</td>\n",
       "\t</tr>\n",
       "\t<tr>\n",
       "\t\t<td>Orange Inc</td>\n",
       "\t\t<td>210.0</td>\n",
       "\t\t<td>None</td>\n",
       "\t\t<td>None</td>\n",
       "\t\t<td>250</td>\n",
       "\t\t<td>04/01/2017</td>\n",
       "\t\t<td>18/02/03</td>\n",
       "\t\t<td>18/02/03</td>\n",
       "\t</tr>\n",
       "\t<tr>\n",
       "\t\t<td>Alpha Co</td>\n",
       "\t\t<td>210.0</td>\n",
       "\t\t<td>200</td>\n",
       "\t\t<td>215</td>\n",
       "\t\t<td>250</td>\n",
       "\t\t<td>04/01/2017</td>\n",
       "\t\t<td>17/07/14</td>\n",
       "\t\t<td>17/07/15</td>\n",
       "\t</tr>\n",
       "</table></html>"
      ],
      "text/plain": [
       "              Feb    Jan    Mar    Apr    datetime     dates       res\n",
       "accounts                                                              \n",
       "Blue Inc     90.0   50.0   95.0  101.0  04/01/2017  17/03/01  17/03/04\n",
       "Red Inc     200.0  150.0  140.0    NaN  04/01/2017  17/08/25  17/08/26\n",
       "Yellow Inc   90.0    NaN    NaN    NaN  04/01/2017  18/01/01  18/01/06\n",
       "Jones LLC   200.0  150.0  140.0  180.0  04/01/2017  18/03/20  18/03/24\n",
       "Orange Inc  210.0    NaN    NaN  250.0  04/01/2017  18/02/03  18/02/03\n",
       "Alpha Co    210.0  200.0  215.0  250.0  04/01/2017  17/07/14  17/07/15"
      ]
     },
     "metadata": {},
     "output_type": "display_data"
    },
    {
     "name": "stdout",
     "output_type": "stream",
     "text": [
      "\n",
      "\n",
      "\n",
      " ************************* DataFrame.dtypes ********************* \n"
     ]
    },
    {
     "data": {
      "text/html": [
       "<style type=\"text/css\">\n",
       "                                table {border:ridge 5px;}\n",
       "                                table td {border:inset 1px;}\n",
       "                                table tr#HeaderRow {background-color:grey; color:white;}\n",
       "                               </style>\n",
       "                               <html>\n",
       "                                  <table>\n",
       "                                    <tr id=\"HeaderRow\">\n",
       "                                        <th>COLUMN NAME</th>\n",
       "                                        <th>TYPE</th>\n",
       "                                    </tr>\n",
       "                                    <tr><td>accounts</td><td>str</td></tr>\n",
       "<tr><td>Feb</td><td>float</td></tr>\n",
       "<tr><td>Jan</td><td>int</td></tr>\n",
       "<tr><td>Mar</td><td>int</td></tr>\n",
       "<tr><td>Apr</td><td>int</td></tr>\n",
       "<tr><td>datetime</td><td>datetime.date</td></tr>\n",
       "<tr><td>dates</td><td>datetime.date</td></tr>\n",
       "<tr><td>res</td><td>datetime.date</td></tr>\n",
       "                                  </table>\n",
       "                               </html>\n",
       "                            "
      ],
      "text/plain": [
       "accounts              str\n",
       "Feb                 float\n",
       "Jan                   int\n",
       "Mar                   int\n",
       "Apr                   int\n",
       "datetime    datetime.date\n",
       "dates       datetime.date\n",
       "res         datetime.date"
      ]
     },
     "metadata": {},
     "output_type": "display_data"
    },
    {
     "name": "stdout",
     "output_type": "stream",
     "text": [
      "\n",
      "\n",
      "\n"
     ]
    }
   ],
   "source": [
    "# Returns the last date or timestamp of the week that ends immediately after the specified date or timestamp value in a column as a literal.\n",
    "df = df_sales.assign(res = df_sales.dates.week_end())\n",
    "print_variables(df)"
   ]
  },
  {
   "cell_type": "markdown",
   "id": "621fc712",
   "metadata": {},
   "source": [
    "### DataFrameColumn.month_begin()"
   ]
  },
  {
   "cell_type": "code",
   "execution_count": 7,
   "id": "d6ab862c",
   "metadata": {},
   "outputs": [
    {
     "name": "stdout",
     "output_type": "stream",
     "text": [
      "Equivalent SQL: select accounts AS accounts, \"Feb\" AS \"Feb\", \"Jan\" AS \"Jan\", \"Mar\" AS \"Mar\", \"Apr\" AS \"Apr\", datetime AS datetime, dates AS dates, td_month_begin(dates, 'Teradata', NULL) AS res from (select accounts AS accounts, \"Feb\" AS \"Feb\", \"Jan\" AS \"Jan\", \"Mar\" AS \"Mar\", \"Apr\" AS \"Apr\", datetime AS datetime, CASE WHEN (accounts = 'Alpha Co') THEN datetime + 191 WHEN (accounts = 'Blue Inc') THEN datetime + 56 WHEN (accounts = 'Jones LLC') THEN datetime + 440 WHEN (accounts = 'Orange Inc') THEN datetime + 395 WHEN (accounts = 'Yellow Inc') THEN datetime + 362 WHEN (accounts = 'Red Inc') THEN datetime + 233 END AS dates from \"sales\") as temp_table\n",
      "\n",
      "\n",
      " ************************* DataFrame ********************* \n"
     ]
    },
    {
     "data": {
      "text/html": [
       "<style type=\"text/css\">\n",
       "\ttable {border:ridge 5px;}\n",
       "\ttable td {border:inset 1px;}\n",
       "\ttable tr#HeaderRow {background-color:grey; color:white;}</style>\n",
       "<html><table>\n",
       "\t<tr id=\"HeaderRow\">\n",
       "\t\t<th>accounts</th>\n",
       "\t\t<th>Feb</th>\n",
       "\t\t<th>Jan</th>\n",
       "\t\t<th>Mar</th>\n",
       "\t\t<th>Apr</th>\n",
       "\t\t<th>datetime</th>\n",
       "\t\t<th>dates</th>\n",
       "\t\t<th>res</th>\n",
       "\t</tr>\n",
       "\t<tr>\n",
       "\t\t<td>Blue Inc</td>\n",
       "\t\t<td>90.0</td>\n",
       "\t\t<td>50</td>\n",
       "\t\t<td>95</td>\n",
       "\t\t<td>101</td>\n",
       "\t\t<td>04/01/2017</td>\n",
       "\t\t<td>17/03/01</td>\n",
       "\t\t<td>17/03/01</td>\n",
       "\t</tr>\n",
       "\t<tr>\n",
       "\t\t<td>Red Inc</td>\n",
       "\t\t<td>200.0</td>\n",
       "\t\t<td>150</td>\n",
       "\t\t<td>140</td>\n",
       "\t\t<td>None</td>\n",
       "\t\t<td>04/01/2017</td>\n",
       "\t\t<td>17/08/25</td>\n",
       "\t\t<td>17/08/01</td>\n",
       "\t</tr>\n",
       "\t<tr>\n",
       "\t\t<td>Yellow Inc</td>\n",
       "\t\t<td>90.0</td>\n",
       "\t\t<td>None</td>\n",
       "\t\t<td>None</td>\n",
       "\t\t<td>None</td>\n",
       "\t\t<td>04/01/2017</td>\n",
       "\t\t<td>18/01/01</td>\n",
       "\t\t<td>18/01/01</td>\n",
       "\t</tr>\n",
       "\t<tr>\n",
       "\t\t<td>Jones LLC</td>\n",
       "\t\t<td>200.0</td>\n",
       "\t\t<td>150</td>\n",
       "\t\t<td>140</td>\n",
       "\t\t<td>180</td>\n",
       "\t\t<td>04/01/2017</td>\n",
       "\t\t<td>18/03/20</td>\n",
       "\t\t<td>18/03/01</td>\n",
       "\t</tr>\n",
       "\t<tr>\n",
       "\t\t<td>Orange Inc</td>\n",
       "\t\t<td>210.0</td>\n",
       "\t\t<td>None</td>\n",
       "\t\t<td>None</td>\n",
       "\t\t<td>250</td>\n",
       "\t\t<td>04/01/2017</td>\n",
       "\t\t<td>18/02/03</td>\n",
       "\t\t<td>18/02/01</td>\n",
       "\t</tr>\n",
       "\t<tr>\n",
       "\t\t<td>Alpha Co</td>\n",
       "\t\t<td>210.0</td>\n",
       "\t\t<td>200</td>\n",
       "\t\t<td>215</td>\n",
       "\t\t<td>250</td>\n",
       "\t\t<td>04/01/2017</td>\n",
       "\t\t<td>17/07/14</td>\n",
       "\t\t<td>17/07/01</td>\n",
       "\t</tr>\n",
       "</table></html>"
      ],
      "text/plain": [
       "              Feb    Jan    Mar    Apr    datetime     dates       res\n",
       "accounts                                                              \n",
       "Blue Inc     90.0   50.0   95.0  101.0  04/01/2017  17/03/01  17/03/01\n",
       "Red Inc     200.0  150.0  140.0    NaN  04/01/2017  17/08/25  17/08/01\n",
       "Yellow Inc   90.0    NaN    NaN    NaN  04/01/2017  18/01/01  18/01/01\n",
       "Jones LLC   200.0  150.0  140.0  180.0  04/01/2017  18/03/20  18/03/01\n",
       "Orange Inc  210.0    NaN    NaN  250.0  04/01/2017  18/02/03  18/02/01\n",
       "Alpha Co    210.0  200.0  215.0  250.0  04/01/2017  17/07/14  17/07/01"
      ]
     },
     "metadata": {},
     "output_type": "display_data"
    },
    {
     "name": "stdout",
     "output_type": "stream",
     "text": [
      "\n",
      "\n",
      "\n",
      " ************************* DataFrame.dtypes ********************* \n"
     ]
    },
    {
     "data": {
      "text/html": [
       "<style type=\"text/css\">\n",
       "                                table {border:ridge 5px;}\n",
       "                                table td {border:inset 1px;}\n",
       "                                table tr#HeaderRow {background-color:grey; color:white;}\n",
       "                               </style>\n",
       "                               <html>\n",
       "                                  <table>\n",
       "                                    <tr id=\"HeaderRow\">\n",
       "                                        <th>COLUMN NAME</th>\n",
       "                                        <th>TYPE</th>\n",
       "                                    </tr>\n",
       "                                    <tr><td>accounts</td><td>str</td></tr>\n",
       "<tr><td>Feb</td><td>float</td></tr>\n",
       "<tr><td>Jan</td><td>int</td></tr>\n",
       "<tr><td>Mar</td><td>int</td></tr>\n",
       "<tr><td>Apr</td><td>int</td></tr>\n",
       "<tr><td>datetime</td><td>datetime.date</td></tr>\n",
       "<tr><td>dates</td><td>datetime.date</td></tr>\n",
       "<tr><td>res</td><td>datetime.date</td></tr>\n",
       "                                  </table>\n",
       "                               </html>\n",
       "                            "
      ],
      "text/plain": [
       "accounts              str\n",
       "Feb                 float\n",
       "Jan                   int\n",
       "Mar                   int\n",
       "Apr                   int\n",
       "datetime    datetime.date\n",
       "dates       datetime.date\n",
       "res         datetime.date"
      ]
     },
     "metadata": {},
     "output_type": "display_data"
    },
    {
     "name": "stdout",
     "output_type": "stream",
     "text": [
      "\n",
      "\n",
      "\n"
     ]
    }
   ],
   "source": [
    "# Returns the first date or timestamp of the month that begins immediately before the specified date or timestamp value in a column or as a literal.\n",
    "df = df_sales.assign(res = df_sales.dates.month_begin())\n",
    "print_variables(df)"
   ]
  },
  {
   "cell_type": "markdown",
   "id": "42d6f015",
   "metadata": {},
   "source": [
    "### DataFrameColumn.month_end()"
   ]
  },
  {
   "cell_type": "code",
   "execution_count": 8,
   "id": "78f3208e",
   "metadata": {},
   "outputs": [
    {
     "name": "stdout",
     "output_type": "stream",
     "text": [
      "Equivalent SQL: select accounts AS accounts, \"Feb\" AS \"Feb\", \"Jan\" AS \"Jan\", \"Mar\" AS \"Mar\", \"Apr\" AS \"Apr\", datetime AS datetime, dates AS dates, td_month_end(dates, 'Teradata', NULL) AS res from (select accounts AS accounts, \"Feb\" AS \"Feb\", \"Jan\" AS \"Jan\", \"Mar\" AS \"Mar\", \"Apr\" AS \"Apr\", datetime AS datetime, CASE WHEN (accounts = 'Alpha Co') THEN datetime + 191 WHEN (accounts = 'Blue Inc') THEN datetime + 56 WHEN (accounts = 'Jones LLC') THEN datetime + 440 WHEN (accounts = 'Orange Inc') THEN datetime + 395 WHEN (accounts = 'Yellow Inc') THEN datetime + 362 WHEN (accounts = 'Red Inc') THEN datetime + 233 END AS dates from \"sales\") as temp_table\n",
      "\n",
      "\n",
      " ************************* DataFrame ********************* \n"
     ]
    },
    {
     "data": {
      "text/html": [
       "<style type=\"text/css\">\n",
       "\ttable {border:ridge 5px;}\n",
       "\ttable td {border:inset 1px;}\n",
       "\ttable tr#HeaderRow {background-color:grey; color:white;}</style>\n",
       "<html><table>\n",
       "\t<tr id=\"HeaderRow\">\n",
       "\t\t<th>accounts</th>\n",
       "\t\t<th>Feb</th>\n",
       "\t\t<th>Jan</th>\n",
       "\t\t<th>Mar</th>\n",
       "\t\t<th>Apr</th>\n",
       "\t\t<th>datetime</th>\n",
       "\t\t<th>dates</th>\n",
       "\t\t<th>res</th>\n",
       "\t</tr>\n",
       "\t<tr>\n",
       "\t\t<td>Blue Inc</td>\n",
       "\t\t<td>90.0</td>\n",
       "\t\t<td>50</td>\n",
       "\t\t<td>95</td>\n",
       "\t\t<td>101</td>\n",
       "\t\t<td>04/01/2017</td>\n",
       "\t\t<td>17/03/01</td>\n",
       "\t\t<td>17/03/31</td>\n",
       "\t</tr>\n",
       "\t<tr>\n",
       "\t\t<td>Red Inc</td>\n",
       "\t\t<td>200.0</td>\n",
       "\t\t<td>150</td>\n",
       "\t\t<td>140</td>\n",
       "\t\t<td>None</td>\n",
       "\t\t<td>04/01/2017</td>\n",
       "\t\t<td>17/08/25</td>\n",
       "\t\t<td>17/08/31</td>\n",
       "\t</tr>\n",
       "\t<tr>\n",
       "\t\t<td>Yellow Inc</td>\n",
       "\t\t<td>90.0</td>\n",
       "\t\t<td>None</td>\n",
       "\t\t<td>None</td>\n",
       "\t\t<td>None</td>\n",
       "\t\t<td>04/01/2017</td>\n",
       "\t\t<td>18/01/01</td>\n",
       "\t\t<td>18/01/31</td>\n",
       "\t</tr>\n",
       "\t<tr>\n",
       "\t\t<td>Jones LLC</td>\n",
       "\t\t<td>200.0</td>\n",
       "\t\t<td>150</td>\n",
       "\t\t<td>140</td>\n",
       "\t\t<td>180</td>\n",
       "\t\t<td>04/01/2017</td>\n",
       "\t\t<td>18/03/20</td>\n",
       "\t\t<td>18/03/31</td>\n",
       "\t</tr>\n",
       "\t<tr>\n",
       "\t\t<td>Orange Inc</td>\n",
       "\t\t<td>210.0</td>\n",
       "\t\t<td>None</td>\n",
       "\t\t<td>None</td>\n",
       "\t\t<td>250</td>\n",
       "\t\t<td>04/01/2017</td>\n",
       "\t\t<td>18/02/03</td>\n",
       "\t\t<td>18/02/28</td>\n",
       "\t</tr>\n",
       "\t<tr>\n",
       "\t\t<td>Alpha Co</td>\n",
       "\t\t<td>210.0</td>\n",
       "\t\t<td>200</td>\n",
       "\t\t<td>215</td>\n",
       "\t\t<td>250</td>\n",
       "\t\t<td>04/01/2017</td>\n",
       "\t\t<td>17/07/14</td>\n",
       "\t\t<td>17/07/31</td>\n",
       "\t</tr>\n",
       "</table></html>"
      ],
      "text/plain": [
       "              Feb    Jan    Mar    Apr    datetime     dates       res\n",
       "accounts                                                              \n",
       "Blue Inc     90.0   50.0   95.0  101.0  04/01/2017  17/03/01  17/03/31\n",
       "Red Inc     200.0  150.0  140.0    NaN  04/01/2017  17/08/25  17/08/31\n",
       "Yellow Inc   90.0    NaN    NaN    NaN  04/01/2017  18/01/01  18/01/31\n",
       "Jones LLC   200.0  150.0  140.0  180.0  04/01/2017  18/03/20  18/03/31\n",
       "Orange Inc  210.0    NaN    NaN  250.0  04/01/2017  18/02/03  18/02/28\n",
       "Alpha Co    210.0  200.0  215.0  250.0  04/01/2017  17/07/14  17/07/31"
      ]
     },
     "metadata": {},
     "output_type": "display_data"
    },
    {
     "name": "stdout",
     "output_type": "stream",
     "text": [
      "\n",
      "\n",
      "\n",
      " ************************* DataFrame.dtypes ********************* \n"
     ]
    },
    {
     "data": {
      "text/html": [
       "<style type=\"text/css\">\n",
       "                                table {border:ridge 5px;}\n",
       "                                table td {border:inset 1px;}\n",
       "                                table tr#HeaderRow {background-color:grey; color:white;}\n",
       "                               </style>\n",
       "                               <html>\n",
       "                                  <table>\n",
       "                                    <tr id=\"HeaderRow\">\n",
       "                                        <th>COLUMN NAME</th>\n",
       "                                        <th>TYPE</th>\n",
       "                                    </tr>\n",
       "                                    <tr><td>accounts</td><td>str</td></tr>\n",
       "<tr><td>Feb</td><td>float</td></tr>\n",
       "<tr><td>Jan</td><td>int</td></tr>\n",
       "<tr><td>Mar</td><td>int</td></tr>\n",
       "<tr><td>Apr</td><td>int</td></tr>\n",
       "<tr><td>datetime</td><td>datetime.date</td></tr>\n",
       "<tr><td>dates</td><td>datetime.date</td></tr>\n",
       "<tr><td>res</td><td>datetime.date</td></tr>\n",
       "                                  </table>\n",
       "                               </html>\n",
       "                            "
      ],
      "text/plain": [
       "accounts              str\n",
       "Feb                 float\n",
       "Jan                   int\n",
       "Mar                   int\n",
       "Apr                   int\n",
       "datetime    datetime.date\n",
       "dates       datetime.date\n",
       "res         datetime.date"
      ]
     },
     "metadata": {},
     "output_type": "display_data"
    },
    {
     "name": "stdout",
     "output_type": "stream",
     "text": [
      "\n",
      "\n",
      "\n"
     ]
    }
   ],
   "source": [
    "# Returns the last date or timestamp of the month that ends immediately after the specified date or timestamp value in a column or as a literal.\n",
    "df = df_sales.assign(res = df_sales.dates.month_end())\n",
    "print_variables(df)"
   ]
  },
  {
   "cell_type": "markdown",
   "id": "16e4ecda",
   "metadata": {},
   "source": [
    "### DataFrameColumn.year_begin()"
   ]
  },
  {
   "cell_type": "code",
   "execution_count": 9,
   "id": "67b8f611",
   "metadata": {},
   "outputs": [
    {
     "name": "stdout",
     "output_type": "stream",
     "text": [
      "Equivalent SQL: select accounts AS accounts, \"Feb\" AS \"Feb\", \"Jan\" AS \"Jan\", \"Mar\" AS \"Mar\", \"Apr\" AS \"Apr\", datetime AS datetime, dates AS dates, td_year_begin(dates, 'Teradata', NULL) AS res from (select accounts AS accounts, \"Feb\" AS \"Feb\", \"Jan\" AS \"Jan\", \"Mar\" AS \"Mar\", \"Apr\" AS \"Apr\", datetime AS datetime, CASE WHEN (accounts = 'Alpha Co') THEN datetime + 191 WHEN (accounts = 'Blue Inc') THEN datetime + 56 WHEN (accounts = 'Jones LLC') THEN datetime + 440 WHEN (accounts = 'Orange Inc') THEN datetime + 395 WHEN (accounts = 'Yellow Inc') THEN datetime + 362 WHEN (accounts = 'Red Inc') THEN datetime + 233 END AS dates from \"sales\") as temp_table\n",
      "\n",
      "\n",
      " ************************* DataFrame ********************* \n"
     ]
    },
    {
     "data": {
      "text/html": [
       "<style type=\"text/css\">\n",
       "\ttable {border:ridge 5px;}\n",
       "\ttable td {border:inset 1px;}\n",
       "\ttable tr#HeaderRow {background-color:grey; color:white;}</style>\n",
       "<html><table>\n",
       "\t<tr id=\"HeaderRow\">\n",
       "\t\t<th>accounts</th>\n",
       "\t\t<th>Feb</th>\n",
       "\t\t<th>Jan</th>\n",
       "\t\t<th>Mar</th>\n",
       "\t\t<th>Apr</th>\n",
       "\t\t<th>datetime</th>\n",
       "\t\t<th>dates</th>\n",
       "\t\t<th>res</th>\n",
       "\t</tr>\n",
       "\t<tr>\n",
       "\t\t<td>Blue Inc</td>\n",
       "\t\t<td>90.0</td>\n",
       "\t\t<td>50</td>\n",
       "\t\t<td>95</td>\n",
       "\t\t<td>101</td>\n",
       "\t\t<td>04/01/2017</td>\n",
       "\t\t<td>17/03/01</td>\n",
       "\t\t<td>17/01/01</td>\n",
       "\t</tr>\n",
       "\t<tr>\n",
       "\t\t<td>Red Inc</td>\n",
       "\t\t<td>200.0</td>\n",
       "\t\t<td>150</td>\n",
       "\t\t<td>140</td>\n",
       "\t\t<td>None</td>\n",
       "\t\t<td>04/01/2017</td>\n",
       "\t\t<td>17/08/25</td>\n",
       "\t\t<td>17/01/01</td>\n",
       "\t</tr>\n",
       "\t<tr>\n",
       "\t\t<td>Yellow Inc</td>\n",
       "\t\t<td>90.0</td>\n",
       "\t\t<td>None</td>\n",
       "\t\t<td>None</td>\n",
       "\t\t<td>None</td>\n",
       "\t\t<td>04/01/2017</td>\n",
       "\t\t<td>18/01/01</td>\n",
       "\t\t<td>18/01/01</td>\n",
       "\t</tr>\n",
       "\t<tr>\n",
       "\t\t<td>Jones LLC</td>\n",
       "\t\t<td>200.0</td>\n",
       "\t\t<td>150</td>\n",
       "\t\t<td>140</td>\n",
       "\t\t<td>180</td>\n",
       "\t\t<td>04/01/2017</td>\n",
       "\t\t<td>18/03/20</td>\n",
       "\t\t<td>18/01/01</td>\n",
       "\t</tr>\n",
       "\t<tr>\n",
       "\t\t<td>Orange Inc</td>\n",
       "\t\t<td>210.0</td>\n",
       "\t\t<td>None</td>\n",
       "\t\t<td>None</td>\n",
       "\t\t<td>250</td>\n",
       "\t\t<td>04/01/2017</td>\n",
       "\t\t<td>18/02/03</td>\n",
       "\t\t<td>18/01/01</td>\n",
       "\t</tr>\n",
       "\t<tr>\n",
       "\t\t<td>Alpha Co</td>\n",
       "\t\t<td>210.0</td>\n",
       "\t\t<td>200</td>\n",
       "\t\t<td>215</td>\n",
       "\t\t<td>250</td>\n",
       "\t\t<td>04/01/2017</td>\n",
       "\t\t<td>17/07/14</td>\n",
       "\t\t<td>17/01/01</td>\n",
       "\t</tr>\n",
       "</table></html>"
      ],
      "text/plain": [
       "              Feb    Jan    Mar    Apr    datetime     dates       res\n",
       "accounts                                                              \n",
       "Blue Inc     90.0   50.0   95.0  101.0  04/01/2017  17/03/01  17/01/01\n",
       "Red Inc     200.0  150.0  140.0    NaN  04/01/2017  17/08/25  17/01/01\n",
       "Yellow Inc   90.0    NaN    NaN    NaN  04/01/2017  18/01/01  18/01/01\n",
       "Jones LLC   200.0  150.0  140.0  180.0  04/01/2017  18/03/20  18/01/01\n",
       "Orange Inc  210.0    NaN    NaN  250.0  04/01/2017  18/02/03  18/01/01\n",
       "Alpha Co    210.0  200.0  215.0  250.0  04/01/2017  17/07/14  17/01/01"
      ]
     },
     "metadata": {},
     "output_type": "display_data"
    },
    {
     "name": "stdout",
     "output_type": "stream",
     "text": [
      "\n",
      "\n",
      "\n",
      " ************************* DataFrame.dtypes ********************* \n"
     ]
    },
    {
     "data": {
      "text/html": [
       "<style type=\"text/css\">\n",
       "                                table {border:ridge 5px;}\n",
       "                                table td {border:inset 1px;}\n",
       "                                table tr#HeaderRow {background-color:grey; color:white;}\n",
       "                               </style>\n",
       "                               <html>\n",
       "                                  <table>\n",
       "                                    <tr id=\"HeaderRow\">\n",
       "                                        <th>COLUMN NAME</th>\n",
       "                                        <th>TYPE</th>\n",
       "                                    </tr>\n",
       "                                    <tr><td>accounts</td><td>str</td></tr>\n",
       "<tr><td>Feb</td><td>float</td></tr>\n",
       "<tr><td>Jan</td><td>int</td></tr>\n",
       "<tr><td>Mar</td><td>int</td></tr>\n",
       "<tr><td>Apr</td><td>int</td></tr>\n",
       "<tr><td>datetime</td><td>datetime.date</td></tr>\n",
       "<tr><td>dates</td><td>datetime.date</td></tr>\n",
       "<tr><td>res</td><td>datetime.date</td></tr>\n",
       "                                  </table>\n",
       "                               </html>\n",
       "                            "
      ],
      "text/plain": [
       "accounts              str\n",
       "Feb                 float\n",
       "Jan                   int\n",
       "Mar                   int\n",
       "Apr                   int\n",
       "datetime    datetime.date\n",
       "dates       datetime.date\n",
       "res         datetime.date"
      ]
     },
     "metadata": {},
     "output_type": "display_data"
    },
    {
     "name": "stdout",
     "output_type": "stream",
     "text": [
      "\n",
      "\n",
      "\n"
     ]
    }
   ],
   "source": [
    "# Returns the first date or timestamp of the year that begins immediately before the specified date or timestamp value in a column or as a literal.\n",
    "df = df_sales.assign(res = df_sales.dates.year_begin())\n",
    "print_variables(df)"
   ]
  },
  {
   "cell_type": "markdown",
   "id": "472cec2f",
   "metadata": {},
   "source": [
    "### DataFrameColumn.year_end()"
   ]
  },
  {
   "cell_type": "code",
   "execution_count": 10,
   "id": "b3febb0e",
   "metadata": {},
   "outputs": [
    {
     "name": "stdout",
     "output_type": "stream",
     "text": [
      "Equivalent SQL: select accounts AS accounts, \"Feb\" AS \"Feb\", \"Jan\" AS \"Jan\", \"Mar\" AS \"Mar\", \"Apr\" AS \"Apr\", datetime AS datetime, dates AS dates, td_year_end(dates, 'Teradata', NULL) AS res from (select accounts AS accounts, \"Feb\" AS \"Feb\", \"Jan\" AS \"Jan\", \"Mar\" AS \"Mar\", \"Apr\" AS \"Apr\", datetime AS datetime, CASE WHEN (accounts = 'Alpha Co') THEN datetime + 191 WHEN (accounts = 'Blue Inc') THEN datetime + 56 WHEN (accounts = 'Jones LLC') THEN datetime + 440 WHEN (accounts = 'Orange Inc') THEN datetime + 395 WHEN (accounts = 'Yellow Inc') THEN datetime + 362 WHEN (accounts = 'Red Inc') THEN datetime + 233 END AS dates from \"sales\") as temp_table\n",
      "\n",
      "\n",
      " ************************* DataFrame ********************* \n"
     ]
    },
    {
     "data": {
      "text/html": [
       "<style type=\"text/css\">\n",
       "\ttable {border:ridge 5px;}\n",
       "\ttable td {border:inset 1px;}\n",
       "\ttable tr#HeaderRow {background-color:grey; color:white;}</style>\n",
       "<html><table>\n",
       "\t<tr id=\"HeaderRow\">\n",
       "\t\t<th>accounts</th>\n",
       "\t\t<th>Feb</th>\n",
       "\t\t<th>Jan</th>\n",
       "\t\t<th>Mar</th>\n",
       "\t\t<th>Apr</th>\n",
       "\t\t<th>datetime</th>\n",
       "\t\t<th>dates</th>\n",
       "\t\t<th>res</th>\n",
       "\t</tr>\n",
       "\t<tr>\n",
       "\t\t<td>Alpha Co</td>\n",
       "\t\t<td>210.0</td>\n",
       "\t\t<td>200</td>\n",
       "\t\t<td>215</td>\n",
       "\t\t<td>250</td>\n",
       "\t\t<td>04/01/2017</td>\n",
       "\t\t<td>17/07/14</td>\n",
       "\t\t<td>17/12/31</td>\n",
       "\t</tr>\n",
       "\t<tr>\n",
       "\t\t<td>Blue Inc</td>\n",
       "\t\t<td>90.0</td>\n",
       "\t\t<td>50</td>\n",
       "\t\t<td>95</td>\n",
       "\t\t<td>101</td>\n",
       "\t\t<td>04/01/2017</td>\n",
       "\t\t<td>17/03/01</td>\n",
       "\t\t<td>17/12/31</td>\n",
       "\t</tr>\n",
       "\t<tr>\n",
       "\t\t<td>Jones LLC</td>\n",
       "\t\t<td>200.0</td>\n",
       "\t\t<td>150</td>\n",
       "\t\t<td>140</td>\n",
       "\t\t<td>180</td>\n",
       "\t\t<td>04/01/2017</td>\n",
       "\t\t<td>18/03/20</td>\n",
       "\t\t<td>18/12/31</td>\n",
       "\t</tr>\n",
       "\t<tr>\n",
       "\t\t<td>Orange Inc</td>\n",
       "\t\t<td>210.0</td>\n",
       "\t\t<td>None</td>\n",
       "\t\t<td>None</td>\n",
       "\t\t<td>250</td>\n",
       "\t\t<td>04/01/2017</td>\n",
       "\t\t<td>18/02/03</td>\n",
       "\t\t<td>18/12/31</td>\n",
       "\t</tr>\n",
       "\t<tr>\n",
       "\t\t<td>Yellow Inc</td>\n",
       "\t\t<td>90.0</td>\n",
       "\t\t<td>None</td>\n",
       "\t\t<td>None</td>\n",
       "\t\t<td>None</td>\n",
       "\t\t<td>04/01/2017</td>\n",
       "\t\t<td>18/01/01</td>\n",
       "\t\t<td>18/12/31</td>\n",
       "\t</tr>\n",
       "\t<tr>\n",
       "\t\t<td>Red Inc</td>\n",
       "\t\t<td>200.0</td>\n",
       "\t\t<td>150</td>\n",
       "\t\t<td>140</td>\n",
       "\t\t<td>None</td>\n",
       "\t\t<td>04/01/2017</td>\n",
       "\t\t<td>17/08/25</td>\n",
       "\t\t<td>17/12/31</td>\n",
       "\t</tr>\n",
       "</table></html>"
      ],
      "text/plain": [
       "              Feb    Jan    Mar    Apr    datetime     dates       res\n",
       "accounts                                                              \n",
       "Alpha Co    210.0  200.0  215.0  250.0  04/01/2017  17/07/14  17/12/31\n",
       "Blue Inc     90.0   50.0   95.0  101.0  04/01/2017  17/03/01  17/12/31\n",
       "Jones LLC   200.0  150.0  140.0  180.0  04/01/2017  18/03/20  18/12/31\n",
       "Orange Inc  210.0    NaN    NaN  250.0  04/01/2017  18/02/03  18/12/31\n",
       "Yellow Inc   90.0    NaN    NaN    NaN  04/01/2017  18/01/01  18/12/31\n",
       "Red Inc     200.0  150.0  140.0    NaN  04/01/2017  17/08/25  17/12/31"
      ]
     },
     "metadata": {},
     "output_type": "display_data"
    },
    {
     "name": "stdout",
     "output_type": "stream",
     "text": [
      "\n",
      "\n",
      "\n",
      " ************************* DataFrame.dtypes ********************* \n"
     ]
    },
    {
     "data": {
      "text/html": [
       "<style type=\"text/css\">\n",
       "                                table {border:ridge 5px;}\n",
       "                                table td {border:inset 1px;}\n",
       "                                table tr#HeaderRow {background-color:grey; color:white;}\n",
       "                               </style>\n",
       "                               <html>\n",
       "                                  <table>\n",
       "                                    <tr id=\"HeaderRow\">\n",
       "                                        <th>COLUMN NAME</th>\n",
       "                                        <th>TYPE</th>\n",
       "                                    </tr>\n",
       "                                    <tr><td>accounts</td><td>str</td></tr>\n",
       "<tr><td>Feb</td><td>float</td></tr>\n",
       "<tr><td>Jan</td><td>int</td></tr>\n",
       "<tr><td>Mar</td><td>int</td></tr>\n",
       "<tr><td>Apr</td><td>int</td></tr>\n",
       "<tr><td>datetime</td><td>datetime.date</td></tr>\n",
       "<tr><td>dates</td><td>datetime.date</td></tr>\n",
       "<tr><td>res</td><td>datetime.date</td></tr>\n",
       "                                  </table>\n",
       "                               </html>\n",
       "                            "
      ],
      "text/plain": [
       "accounts              str\n",
       "Feb                 float\n",
       "Jan                   int\n",
       "Mar                   int\n",
       "Apr                   int\n",
       "datetime    datetime.date\n",
       "dates       datetime.date\n",
       "res         datetime.date"
      ]
     },
     "metadata": {},
     "output_type": "display_data"
    },
    {
     "name": "stdout",
     "output_type": "stream",
     "text": [
      "\n",
      "\n",
      "\n"
     ]
    }
   ],
   "source": [
    "# Returns the last date or timestamp of the year that ends immediately after the specified date or timestamp value in a column or as a literal.\n",
    "df = df_sales.assign(res = df_sales.dates.year_end())\n",
    "print_variables(df)"
   ]
  },
  {
   "cell_type": "markdown",
   "id": "4fe61f05",
   "metadata": {},
   "source": [
    "### DataFrameColumn.quarter_begin()"
   ]
  },
  {
   "cell_type": "code",
   "execution_count": 11,
   "id": "9fa1e6cd",
   "metadata": {},
   "outputs": [
    {
     "name": "stdout",
     "output_type": "stream",
     "text": [
      "Equivalent SQL: select accounts AS accounts, \"Feb\" AS \"Feb\", \"Jan\" AS \"Jan\", \"Mar\" AS \"Mar\", \"Apr\" AS \"Apr\", datetime AS datetime, dates AS dates, td_quarter_begin(dates, 'Teradata', NULL) AS res from (select accounts AS accounts, \"Feb\" AS \"Feb\", \"Jan\" AS \"Jan\", \"Mar\" AS \"Mar\", \"Apr\" AS \"Apr\", datetime AS datetime, CASE WHEN (accounts = 'Alpha Co') THEN datetime + 191 WHEN (accounts = 'Blue Inc') THEN datetime + 56 WHEN (accounts = 'Jones LLC') THEN datetime + 440 WHEN (accounts = 'Orange Inc') THEN datetime + 395 WHEN (accounts = 'Yellow Inc') THEN datetime + 362 WHEN (accounts = 'Red Inc') THEN datetime + 233 END AS dates from \"sales\") as temp_table\n",
      "\n",
      "\n",
      " ************************* DataFrame ********************* \n"
     ]
    },
    {
     "data": {
      "text/html": [
       "<style type=\"text/css\">\n",
       "\ttable {border:ridge 5px;}\n",
       "\ttable td {border:inset 1px;}\n",
       "\ttable tr#HeaderRow {background-color:grey; color:white;}</style>\n",
       "<html><table>\n",
       "\t<tr id=\"HeaderRow\">\n",
       "\t\t<th>accounts</th>\n",
       "\t\t<th>Feb</th>\n",
       "\t\t<th>Jan</th>\n",
       "\t\t<th>Mar</th>\n",
       "\t\t<th>Apr</th>\n",
       "\t\t<th>datetime</th>\n",
       "\t\t<th>dates</th>\n",
       "\t\t<th>res</th>\n",
       "\t</tr>\n",
       "\t<tr>\n",
       "\t\t<td>Blue Inc</td>\n",
       "\t\t<td>90.0</td>\n",
       "\t\t<td>50</td>\n",
       "\t\t<td>95</td>\n",
       "\t\t<td>101</td>\n",
       "\t\t<td>04/01/2017</td>\n",
       "\t\t<td>17/03/01</td>\n",
       "\t\t<td>17/01/01</td>\n",
       "\t</tr>\n",
       "\t<tr>\n",
       "\t\t<td>Red Inc</td>\n",
       "\t\t<td>200.0</td>\n",
       "\t\t<td>150</td>\n",
       "\t\t<td>140</td>\n",
       "\t\t<td>None</td>\n",
       "\t\t<td>04/01/2017</td>\n",
       "\t\t<td>17/08/25</td>\n",
       "\t\t<td>17/07/01</td>\n",
       "\t</tr>\n",
       "\t<tr>\n",
       "\t\t<td>Yellow Inc</td>\n",
       "\t\t<td>90.0</td>\n",
       "\t\t<td>None</td>\n",
       "\t\t<td>None</td>\n",
       "\t\t<td>None</td>\n",
       "\t\t<td>04/01/2017</td>\n",
       "\t\t<td>18/01/01</td>\n",
       "\t\t<td>18/01/01</td>\n",
       "\t</tr>\n",
       "\t<tr>\n",
       "\t\t<td>Jones LLC</td>\n",
       "\t\t<td>200.0</td>\n",
       "\t\t<td>150</td>\n",
       "\t\t<td>140</td>\n",
       "\t\t<td>180</td>\n",
       "\t\t<td>04/01/2017</td>\n",
       "\t\t<td>18/03/20</td>\n",
       "\t\t<td>18/01/01</td>\n",
       "\t</tr>\n",
       "\t<tr>\n",
       "\t\t<td>Orange Inc</td>\n",
       "\t\t<td>210.0</td>\n",
       "\t\t<td>None</td>\n",
       "\t\t<td>None</td>\n",
       "\t\t<td>250</td>\n",
       "\t\t<td>04/01/2017</td>\n",
       "\t\t<td>18/02/03</td>\n",
       "\t\t<td>18/01/01</td>\n",
       "\t</tr>\n",
       "\t<tr>\n",
       "\t\t<td>Alpha Co</td>\n",
       "\t\t<td>210.0</td>\n",
       "\t\t<td>200</td>\n",
       "\t\t<td>215</td>\n",
       "\t\t<td>250</td>\n",
       "\t\t<td>04/01/2017</td>\n",
       "\t\t<td>17/07/14</td>\n",
       "\t\t<td>17/07/01</td>\n",
       "\t</tr>\n",
       "</table></html>"
      ],
      "text/plain": [
       "              Feb    Jan    Mar    Apr    datetime     dates       res\n",
       "accounts                                                              \n",
       "Blue Inc     90.0   50.0   95.0  101.0  04/01/2017  17/03/01  17/01/01\n",
       "Red Inc     200.0  150.0  140.0    NaN  04/01/2017  17/08/25  17/07/01\n",
       "Yellow Inc   90.0    NaN    NaN    NaN  04/01/2017  18/01/01  18/01/01\n",
       "Jones LLC   200.0  150.0  140.0  180.0  04/01/2017  18/03/20  18/01/01\n",
       "Orange Inc  210.0    NaN    NaN  250.0  04/01/2017  18/02/03  18/01/01\n",
       "Alpha Co    210.0  200.0  215.0  250.0  04/01/2017  17/07/14  17/07/01"
      ]
     },
     "metadata": {},
     "output_type": "display_data"
    },
    {
     "name": "stdout",
     "output_type": "stream",
     "text": [
      "\n",
      "\n",
      "\n",
      " ************************* DataFrame.dtypes ********************* \n"
     ]
    },
    {
     "data": {
      "text/html": [
       "<style type=\"text/css\">\n",
       "                                table {border:ridge 5px;}\n",
       "                                table td {border:inset 1px;}\n",
       "                                table tr#HeaderRow {background-color:grey; color:white;}\n",
       "                               </style>\n",
       "                               <html>\n",
       "                                  <table>\n",
       "                                    <tr id=\"HeaderRow\">\n",
       "                                        <th>COLUMN NAME</th>\n",
       "                                        <th>TYPE</th>\n",
       "                                    </tr>\n",
       "                                    <tr><td>accounts</td><td>str</td></tr>\n",
       "<tr><td>Feb</td><td>float</td></tr>\n",
       "<tr><td>Jan</td><td>int</td></tr>\n",
       "<tr><td>Mar</td><td>int</td></tr>\n",
       "<tr><td>Apr</td><td>int</td></tr>\n",
       "<tr><td>datetime</td><td>datetime.date</td></tr>\n",
       "<tr><td>dates</td><td>datetime.date</td></tr>\n",
       "<tr><td>res</td><td>datetime.date</td></tr>\n",
       "                                  </table>\n",
       "                               </html>\n",
       "                            "
      ],
      "text/plain": [
       "accounts              str\n",
       "Feb                 float\n",
       "Jan                   int\n",
       "Mar                   int\n",
       "Apr                   int\n",
       "datetime    datetime.date\n",
       "dates       datetime.date\n",
       "res         datetime.date"
      ]
     },
     "metadata": {},
     "output_type": "display_data"
    },
    {
     "name": "stdout",
     "output_type": "stream",
     "text": [
      "\n",
      "\n",
      "\n"
     ]
    }
   ],
   "source": [
    "# Returns the first date or timestamp of the quarter that begins immediately before the specified date or timestamp value in a column as a literal.\n",
    "\n",
    "df = df_sales.assign(res = df_sales.dates.quarter_begin())\n",
    "print_variables(df)"
   ]
  },
  {
   "cell_type": "markdown",
   "id": "7dc9b0ba",
   "metadata": {},
   "source": [
    "### DataFrameColumn.quarter_end()"
   ]
  },
  {
   "cell_type": "code",
   "execution_count": 12,
   "id": "038c141f",
   "metadata": {},
   "outputs": [
    {
     "name": "stdout",
     "output_type": "stream",
     "text": [
      "Equivalent SQL: select accounts AS accounts, \"Feb\" AS \"Feb\", \"Jan\" AS \"Jan\", \"Mar\" AS \"Mar\", \"Apr\" AS \"Apr\", datetime AS datetime, dates AS dates, td_quarter_end(dates, 'Teradata', NULL) AS res from (select accounts AS accounts, \"Feb\" AS \"Feb\", \"Jan\" AS \"Jan\", \"Mar\" AS \"Mar\", \"Apr\" AS \"Apr\", datetime AS datetime, CASE WHEN (accounts = 'Alpha Co') THEN datetime + 191 WHEN (accounts = 'Blue Inc') THEN datetime + 56 WHEN (accounts = 'Jones LLC') THEN datetime + 440 WHEN (accounts = 'Orange Inc') THEN datetime + 395 WHEN (accounts = 'Yellow Inc') THEN datetime + 362 WHEN (accounts = 'Red Inc') THEN datetime + 233 END AS dates from \"sales\") as temp_table\n",
      "\n",
      "\n",
      " ************************* DataFrame ********************* \n"
     ]
    },
    {
     "data": {
      "text/html": [
       "<style type=\"text/css\">\n",
       "\ttable {border:ridge 5px;}\n",
       "\ttable td {border:inset 1px;}\n",
       "\ttable tr#HeaderRow {background-color:grey; color:white;}</style>\n",
       "<html><table>\n",
       "\t<tr id=\"HeaderRow\">\n",
       "\t\t<th>accounts</th>\n",
       "\t\t<th>Feb</th>\n",
       "\t\t<th>Jan</th>\n",
       "\t\t<th>Mar</th>\n",
       "\t\t<th>Apr</th>\n",
       "\t\t<th>datetime</th>\n",
       "\t\t<th>dates</th>\n",
       "\t\t<th>res</th>\n",
       "\t</tr>\n",
       "\t<tr>\n",
       "\t\t<td>Blue Inc</td>\n",
       "\t\t<td>90.0</td>\n",
       "\t\t<td>50</td>\n",
       "\t\t<td>95</td>\n",
       "\t\t<td>101</td>\n",
       "\t\t<td>04/01/2017</td>\n",
       "\t\t<td>17/03/01</td>\n",
       "\t\t<td>17/03/31</td>\n",
       "\t</tr>\n",
       "\t<tr>\n",
       "\t\t<td>Red Inc</td>\n",
       "\t\t<td>200.0</td>\n",
       "\t\t<td>150</td>\n",
       "\t\t<td>140</td>\n",
       "\t\t<td>None</td>\n",
       "\t\t<td>04/01/2017</td>\n",
       "\t\t<td>17/08/25</td>\n",
       "\t\t<td>17/09/30</td>\n",
       "\t</tr>\n",
       "\t<tr>\n",
       "\t\t<td>Yellow Inc</td>\n",
       "\t\t<td>90.0</td>\n",
       "\t\t<td>None</td>\n",
       "\t\t<td>None</td>\n",
       "\t\t<td>None</td>\n",
       "\t\t<td>04/01/2017</td>\n",
       "\t\t<td>18/01/01</td>\n",
       "\t\t<td>18/03/31</td>\n",
       "\t</tr>\n",
       "\t<tr>\n",
       "\t\t<td>Jones LLC</td>\n",
       "\t\t<td>200.0</td>\n",
       "\t\t<td>150</td>\n",
       "\t\t<td>140</td>\n",
       "\t\t<td>180</td>\n",
       "\t\t<td>04/01/2017</td>\n",
       "\t\t<td>18/03/20</td>\n",
       "\t\t<td>18/03/31</td>\n",
       "\t</tr>\n",
       "\t<tr>\n",
       "\t\t<td>Orange Inc</td>\n",
       "\t\t<td>210.0</td>\n",
       "\t\t<td>None</td>\n",
       "\t\t<td>None</td>\n",
       "\t\t<td>250</td>\n",
       "\t\t<td>04/01/2017</td>\n",
       "\t\t<td>18/02/03</td>\n",
       "\t\t<td>18/03/31</td>\n",
       "\t</tr>\n",
       "\t<tr>\n",
       "\t\t<td>Alpha Co</td>\n",
       "\t\t<td>210.0</td>\n",
       "\t\t<td>200</td>\n",
       "\t\t<td>215</td>\n",
       "\t\t<td>250</td>\n",
       "\t\t<td>04/01/2017</td>\n",
       "\t\t<td>17/07/14</td>\n",
       "\t\t<td>17/09/30</td>\n",
       "\t</tr>\n",
       "</table></html>"
      ],
      "text/plain": [
       "              Feb    Jan    Mar    Apr    datetime     dates       res\n",
       "accounts                                                              \n",
       "Blue Inc     90.0   50.0   95.0  101.0  04/01/2017  17/03/01  17/03/31\n",
       "Red Inc     200.0  150.0  140.0    NaN  04/01/2017  17/08/25  17/09/30\n",
       "Yellow Inc   90.0    NaN    NaN    NaN  04/01/2017  18/01/01  18/03/31\n",
       "Jones LLC   200.0  150.0  140.0  180.0  04/01/2017  18/03/20  18/03/31\n",
       "Orange Inc  210.0    NaN    NaN  250.0  04/01/2017  18/02/03  18/03/31\n",
       "Alpha Co    210.0  200.0  215.0  250.0  04/01/2017  17/07/14  17/09/30"
      ]
     },
     "metadata": {},
     "output_type": "display_data"
    },
    {
     "name": "stdout",
     "output_type": "stream",
     "text": [
      "\n",
      "\n",
      "\n",
      " ************************* DataFrame.dtypes ********************* \n"
     ]
    },
    {
     "data": {
      "text/html": [
       "<style type=\"text/css\">\n",
       "                                table {border:ridge 5px;}\n",
       "                                table td {border:inset 1px;}\n",
       "                                table tr#HeaderRow {background-color:grey; color:white;}\n",
       "                               </style>\n",
       "                               <html>\n",
       "                                  <table>\n",
       "                                    <tr id=\"HeaderRow\">\n",
       "                                        <th>COLUMN NAME</th>\n",
       "                                        <th>TYPE</th>\n",
       "                                    </tr>\n",
       "                                    <tr><td>accounts</td><td>str</td></tr>\n",
       "<tr><td>Feb</td><td>float</td></tr>\n",
       "<tr><td>Jan</td><td>int</td></tr>\n",
       "<tr><td>Mar</td><td>int</td></tr>\n",
       "<tr><td>Apr</td><td>int</td></tr>\n",
       "<tr><td>datetime</td><td>datetime.date</td></tr>\n",
       "<tr><td>dates</td><td>datetime.date</td></tr>\n",
       "<tr><td>res</td><td>datetime.date</td></tr>\n",
       "                                  </table>\n",
       "                               </html>\n",
       "                            "
      ],
      "text/plain": [
       "accounts              str\n",
       "Feb                 float\n",
       "Jan                   int\n",
       "Mar                   int\n",
       "Apr                   int\n",
       "datetime    datetime.date\n",
       "dates       datetime.date\n",
       "res         datetime.date"
      ]
     },
     "metadata": {},
     "output_type": "display_data"
    },
    {
     "name": "stdout",
     "output_type": "stream",
     "text": [
      "\n",
      "\n",
      "\n"
     ]
    }
   ],
   "source": [
    "# Returns the last date or timestamp of the quarter that ends immediately after the specified date or timestamp value in a column as a literal.\n",
    "\n",
    "df = df_sales.assign(res = df_sales.dates.quarter_end())\n",
    "print_variables(df)"
   ]
  },
  {
   "cell_type": "markdown",
   "id": "cf16ea8a",
   "metadata": {},
   "source": [
    "### DataFrameColumn.last_sunday()"
   ]
  },
  {
   "cell_type": "code",
   "execution_count": 13,
   "id": "948b0719",
   "metadata": {},
   "outputs": [
    {
     "name": "stdout",
     "output_type": "stream",
     "text": [
      "Equivalent SQL: select accounts AS accounts, \"Feb\" AS \"Feb\", \"Jan\" AS \"Jan\", \"Mar\" AS \"Mar\", \"Apr\" AS \"Apr\", datetime AS datetime, dates AS dates, td_sunday(dates, 'Teradata', NULL) AS res from (select accounts AS accounts, \"Feb\" AS \"Feb\", \"Jan\" AS \"Jan\", \"Mar\" AS \"Mar\", \"Apr\" AS \"Apr\", datetime AS datetime, CASE WHEN (accounts = 'Alpha Co') THEN datetime + 191 WHEN (accounts = 'Blue Inc') THEN datetime + 56 WHEN (accounts = 'Jones LLC') THEN datetime + 440 WHEN (accounts = 'Orange Inc') THEN datetime + 395 WHEN (accounts = 'Yellow Inc') THEN datetime + 362 WHEN (accounts = 'Red Inc') THEN datetime + 233 END AS dates from \"sales\") as temp_table\n",
      "\n",
      "\n",
      " ************************* DataFrame ********************* \n"
     ]
    },
    {
     "data": {
      "text/html": [
       "<style type=\"text/css\">\n",
       "\ttable {border:ridge 5px;}\n",
       "\ttable td {border:inset 1px;}\n",
       "\ttable tr#HeaderRow {background-color:grey; color:white;}</style>\n",
       "<html><table>\n",
       "\t<tr id=\"HeaderRow\">\n",
       "\t\t<th>accounts</th>\n",
       "\t\t<th>Feb</th>\n",
       "\t\t<th>Jan</th>\n",
       "\t\t<th>Mar</th>\n",
       "\t\t<th>Apr</th>\n",
       "\t\t<th>datetime</th>\n",
       "\t\t<th>dates</th>\n",
       "\t\t<th>res</th>\n",
       "\t</tr>\n",
       "\t<tr>\n",
       "\t\t<td>Blue Inc</td>\n",
       "\t\t<td>90.0</td>\n",
       "\t\t<td>50</td>\n",
       "\t\t<td>95</td>\n",
       "\t\t<td>101</td>\n",
       "\t\t<td>04/01/2017</td>\n",
       "\t\t<td>17/03/01</td>\n",
       "\t\t<td>17/02/26</td>\n",
       "\t</tr>\n",
       "\t<tr>\n",
       "\t\t<td>Red Inc</td>\n",
       "\t\t<td>200.0</td>\n",
       "\t\t<td>150</td>\n",
       "\t\t<td>140</td>\n",
       "\t\t<td>None</td>\n",
       "\t\t<td>04/01/2017</td>\n",
       "\t\t<td>17/08/25</td>\n",
       "\t\t<td>17/08/20</td>\n",
       "\t</tr>\n",
       "\t<tr>\n",
       "\t\t<td>Yellow Inc</td>\n",
       "\t\t<td>90.0</td>\n",
       "\t\t<td>None</td>\n",
       "\t\t<td>None</td>\n",
       "\t\t<td>None</td>\n",
       "\t\t<td>04/01/2017</td>\n",
       "\t\t<td>18/01/01</td>\n",
       "\t\t<td>17/12/31</td>\n",
       "\t</tr>\n",
       "\t<tr>\n",
       "\t\t<td>Jones LLC</td>\n",
       "\t\t<td>200.0</td>\n",
       "\t\t<td>150</td>\n",
       "\t\t<td>140</td>\n",
       "\t\t<td>180</td>\n",
       "\t\t<td>04/01/2017</td>\n",
       "\t\t<td>18/03/20</td>\n",
       "\t\t<td>18/03/18</td>\n",
       "\t</tr>\n",
       "\t<tr>\n",
       "\t\t<td>Orange Inc</td>\n",
       "\t\t<td>210.0</td>\n",
       "\t\t<td>None</td>\n",
       "\t\t<td>None</td>\n",
       "\t\t<td>250</td>\n",
       "\t\t<td>04/01/2017</td>\n",
       "\t\t<td>18/02/03</td>\n",
       "\t\t<td>18/01/28</td>\n",
       "\t</tr>\n",
       "\t<tr>\n",
       "\t\t<td>Alpha Co</td>\n",
       "\t\t<td>210.0</td>\n",
       "\t\t<td>200</td>\n",
       "\t\t<td>215</td>\n",
       "\t\t<td>250</td>\n",
       "\t\t<td>04/01/2017</td>\n",
       "\t\t<td>17/07/14</td>\n",
       "\t\t<td>17/07/09</td>\n",
       "\t</tr>\n",
       "</table></html>"
      ],
      "text/plain": [
       "              Feb    Jan    Mar    Apr    datetime     dates       res\n",
       "accounts                                                              \n",
       "Blue Inc     90.0   50.0   95.0  101.0  04/01/2017  17/03/01  17/02/26\n",
       "Red Inc     200.0  150.0  140.0    NaN  04/01/2017  17/08/25  17/08/20\n",
       "Yellow Inc   90.0    NaN    NaN    NaN  04/01/2017  18/01/01  17/12/31\n",
       "Jones LLC   200.0  150.0  140.0  180.0  04/01/2017  18/03/20  18/03/18\n",
       "Orange Inc  210.0    NaN    NaN  250.0  04/01/2017  18/02/03  18/01/28\n",
       "Alpha Co    210.0  200.0  215.0  250.0  04/01/2017  17/07/14  17/07/09"
      ]
     },
     "metadata": {},
     "output_type": "display_data"
    },
    {
     "name": "stdout",
     "output_type": "stream",
     "text": [
      "\n",
      "\n",
      "\n",
      " ************************* DataFrame.dtypes ********************* \n"
     ]
    },
    {
     "data": {
      "text/html": [
       "<style type=\"text/css\">\n",
       "                                table {border:ridge 5px;}\n",
       "                                table td {border:inset 1px;}\n",
       "                                table tr#HeaderRow {background-color:grey; color:white;}\n",
       "                               </style>\n",
       "                               <html>\n",
       "                                  <table>\n",
       "                                    <tr id=\"HeaderRow\">\n",
       "                                        <th>COLUMN NAME</th>\n",
       "                                        <th>TYPE</th>\n",
       "                                    </tr>\n",
       "                                    <tr><td>accounts</td><td>str</td></tr>\n",
       "<tr><td>Feb</td><td>float</td></tr>\n",
       "<tr><td>Jan</td><td>int</td></tr>\n",
       "<tr><td>Mar</td><td>int</td></tr>\n",
       "<tr><td>Apr</td><td>int</td></tr>\n",
       "<tr><td>datetime</td><td>datetime.date</td></tr>\n",
       "<tr><td>dates</td><td>datetime.date</td></tr>\n",
       "<tr><td>res</td><td>datetime.date</td></tr>\n",
       "                                  </table>\n",
       "                               </html>\n",
       "                            "
      ],
      "text/plain": [
       "accounts              str\n",
       "Feb                 float\n",
       "Jan                   int\n",
       "Mar                   int\n",
       "Apr                   int\n",
       "datetime    datetime.date\n",
       "dates       datetime.date\n",
       "res         datetime.date"
      ]
     },
     "metadata": {},
     "output_type": "display_data"
    },
    {
     "name": "stdout",
     "output_type": "stream",
     "text": [
      "\n",
      "\n",
      "\n"
     ]
    }
   ],
   "source": [
    "# Returns the date or timestamp of Sunday that falls immediately before the specified date or timestamp value in a column as a literal.\n",
    "df = df_sales.assign(res = df_sales.dates.last_sunday())\n",
    "print_variables(df)"
   ]
  },
  {
   "cell_type": "markdown",
   "id": "3fe0ff64",
   "metadata": {},
   "source": [
    "### DataFrameColumn.last_monday()"
   ]
  },
  {
   "cell_type": "code",
   "execution_count": 14,
   "id": "f4358600",
   "metadata": {},
   "outputs": [
    {
     "name": "stdout",
     "output_type": "stream",
     "text": [
      "Equivalent SQL: select accounts AS accounts, \"Feb\" AS \"Feb\", \"Jan\" AS \"Jan\", \"Mar\" AS \"Mar\", \"Apr\" AS \"Apr\", datetime AS datetime, dates AS dates, td_monday(dates, 'Teradata', NULL) AS res from (select accounts AS accounts, \"Feb\" AS \"Feb\", \"Jan\" AS \"Jan\", \"Mar\" AS \"Mar\", \"Apr\" AS \"Apr\", datetime AS datetime, CASE WHEN (accounts = 'Alpha Co') THEN datetime + 191 WHEN (accounts = 'Blue Inc') THEN datetime + 56 WHEN (accounts = 'Jones LLC') THEN datetime + 440 WHEN (accounts = 'Orange Inc') THEN datetime + 395 WHEN (accounts = 'Yellow Inc') THEN datetime + 362 WHEN (accounts = 'Red Inc') THEN datetime + 233 END AS dates from \"sales\") as temp_table\n",
      "\n",
      "\n",
      " ************************* DataFrame ********************* \n"
     ]
    },
    {
     "data": {
      "text/html": [
       "<style type=\"text/css\">\n",
       "\ttable {border:ridge 5px;}\n",
       "\ttable td {border:inset 1px;}\n",
       "\ttable tr#HeaderRow {background-color:grey; color:white;}</style>\n",
       "<html><table>\n",
       "\t<tr id=\"HeaderRow\">\n",
       "\t\t<th>accounts</th>\n",
       "\t\t<th>Feb</th>\n",
       "\t\t<th>Jan</th>\n",
       "\t\t<th>Mar</th>\n",
       "\t\t<th>Apr</th>\n",
       "\t\t<th>datetime</th>\n",
       "\t\t<th>dates</th>\n",
       "\t\t<th>res</th>\n",
       "\t</tr>\n",
       "\t<tr>\n",
       "\t\t<td>Blue Inc</td>\n",
       "\t\t<td>90.0</td>\n",
       "\t\t<td>50</td>\n",
       "\t\t<td>95</td>\n",
       "\t\t<td>101</td>\n",
       "\t\t<td>04/01/2017</td>\n",
       "\t\t<td>17/03/01</td>\n",
       "\t\t<td>17/02/27</td>\n",
       "\t</tr>\n",
       "\t<tr>\n",
       "\t\t<td>Red Inc</td>\n",
       "\t\t<td>200.0</td>\n",
       "\t\t<td>150</td>\n",
       "\t\t<td>140</td>\n",
       "\t\t<td>None</td>\n",
       "\t\t<td>04/01/2017</td>\n",
       "\t\t<td>17/08/25</td>\n",
       "\t\t<td>17/08/21</td>\n",
       "\t</tr>\n",
       "\t<tr>\n",
       "\t\t<td>Yellow Inc</td>\n",
       "\t\t<td>90.0</td>\n",
       "\t\t<td>None</td>\n",
       "\t\t<td>None</td>\n",
       "\t\t<td>None</td>\n",
       "\t\t<td>04/01/2017</td>\n",
       "\t\t<td>18/01/01</td>\n",
       "\t\t<td>18/01/01</td>\n",
       "\t</tr>\n",
       "\t<tr>\n",
       "\t\t<td>Jones LLC</td>\n",
       "\t\t<td>200.0</td>\n",
       "\t\t<td>150</td>\n",
       "\t\t<td>140</td>\n",
       "\t\t<td>180</td>\n",
       "\t\t<td>04/01/2017</td>\n",
       "\t\t<td>18/03/20</td>\n",
       "\t\t<td>18/03/19</td>\n",
       "\t</tr>\n",
       "\t<tr>\n",
       "\t\t<td>Orange Inc</td>\n",
       "\t\t<td>210.0</td>\n",
       "\t\t<td>None</td>\n",
       "\t\t<td>None</td>\n",
       "\t\t<td>250</td>\n",
       "\t\t<td>04/01/2017</td>\n",
       "\t\t<td>18/02/03</td>\n",
       "\t\t<td>18/01/29</td>\n",
       "\t</tr>\n",
       "\t<tr>\n",
       "\t\t<td>Alpha Co</td>\n",
       "\t\t<td>210.0</td>\n",
       "\t\t<td>200</td>\n",
       "\t\t<td>215</td>\n",
       "\t\t<td>250</td>\n",
       "\t\t<td>04/01/2017</td>\n",
       "\t\t<td>17/07/14</td>\n",
       "\t\t<td>17/07/10</td>\n",
       "\t</tr>\n",
       "</table></html>"
      ],
      "text/plain": [
       "              Feb    Jan    Mar    Apr    datetime     dates       res\n",
       "accounts                                                              \n",
       "Blue Inc     90.0   50.0   95.0  101.0  04/01/2017  17/03/01  17/02/27\n",
       "Red Inc     200.0  150.0  140.0    NaN  04/01/2017  17/08/25  17/08/21\n",
       "Yellow Inc   90.0    NaN    NaN    NaN  04/01/2017  18/01/01  18/01/01\n",
       "Jones LLC   200.0  150.0  140.0  180.0  04/01/2017  18/03/20  18/03/19\n",
       "Orange Inc  210.0    NaN    NaN  250.0  04/01/2017  18/02/03  18/01/29\n",
       "Alpha Co    210.0  200.0  215.0  250.0  04/01/2017  17/07/14  17/07/10"
      ]
     },
     "metadata": {},
     "output_type": "display_data"
    },
    {
     "name": "stdout",
     "output_type": "stream",
     "text": [
      "\n",
      "\n",
      "\n",
      " ************************* DataFrame.dtypes ********************* \n"
     ]
    },
    {
     "data": {
      "text/html": [
       "<style type=\"text/css\">\n",
       "                                table {border:ridge 5px;}\n",
       "                                table td {border:inset 1px;}\n",
       "                                table tr#HeaderRow {background-color:grey; color:white;}\n",
       "                               </style>\n",
       "                               <html>\n",
       "                                  <table>\n",
       "                                    <tr id=\"HeaderRow\">\n",
       "                                        <th>COLUMN NAME</th>\n",
       "                                        <th>TYPE</th>\n",
       "                                    </tr>\n",
       "                                    <tr><td>accounts</td><td>str</td></tr>\n",
       "<tr><td>Feb</td><td>float</td></tr>\n",
       "<tr><td>Jan</td><td>int</td></tr>\n",
       "<tr><td>Mar</td><td>int</td></tr>\n",
       "<tr><td>Apr</td><td>int</td></tr>\n",
       "<tr><td>datetime</td><td>datetime.date</td></tr>\n",
       "<tr><td>dates</td><td>datetime.date</td></tr>\n",
       "<tr><td>res</td><td>datetime.date</td></tr>\n",
       "                                  </table>\n",
       "                               </html>\n",
       "                            "
      ],
      "text/plain": [
       "accounts              str\n",
       "Feb                 float\n",
       "Jan                   int\n",
       "Mar                   int\n",
       "Apr                   int\n",
       "datetime    datetime.date\n",
       "dates       datetime.date\n",
       "res         datetime.date"
      ]
     },
     "metadata": {},
     "output_type": "display_data"
    },
    {
     "name": "stdout",
     "output_type": "stream",
     "text": [
      "\n",
      "\n",
      "\n"
     ]
    }
   ],
   "source": [
    "# Returns the date or timestamp of Monday that falls immediately before the specified date or timestamp value in a column as a literal.\n",
    "df = df_sales.assign(res = df_sales.dates.last_monday())\n",
    "print_variables(df)"
   ]
  },
  {
   "cell_type": "markdown",
   "id": "f859764d",
   "metadata": {},
   "source": [
    "### DataFrameColumn.last_tuesday()"
   ]
  },
  {
   "cell_type": "code",
   "execution_count": 15,
   "id": "8b74a036",
   "metadata": {},
   "outputs": [
    {
     "name": "stdout",
     "output_type": "stream",
     "text": [
      "Equivalent SQL: select accounts AS accounts, \"Feb\" AS \"Feb\", \"Jan\" AS \"Jan\", \"Mar\" AS \"Mar\", \"Apr\" AS \"Apr\", datetime AS datetime, dates AS dates, td_tuesday(dates, 'Teradata', NULL) AS res from (select accounts AS accounts, \"Feb\" AS \"Feb\", \"Jan\" AS \"Jan\", \"Mar\" AS \"Mar\", \"Apr\" AS \"Apr\", datetime AS datetime, CASE WHEN (accounts = 'Alpha Co') THEN datetime + 191 WHEN (accounts = 'Blue Inc') THEN datetime + 56 WHEN (accounts = 'Jones LLC') THEN datetime + 440 WHEN (accounts = 'Orange Inc') THEN datetime + 395 WHEN (accounts = 'Yellow Inc') THEN datetime + 362 WHEN (accounts = 'Red Inc') THEN datetime + 233 END AS dates from \"sales\") as temp_table\n",
      "\n",
      "\n",
      " ************************* DataFrame ********************* \n"
     ]
    },
    {
     "data": {
      "text/html": [
       "<style type=\"text/css\">\n",
       "\ttable {border:ridge 5px;}\n",
       "\ttable td {border:inset 1px;}\n",
       "\ttable tr#HeaderRow {background-color:grey; color:white;}</style>\n",
       "<html><table>\n",
       "\t<tr id=\"HeaderRow\">\n",
       "\t\t<th>accounts</th>\n",
       "\t\t<th>Feb</th>\n",
       "\t\t<th>Jan</th>\n",
       "\t\t<th>Mar</th>\n",
       "\t\t<th>Apr</th>\n",
       "\t\t<th>datetime</th>\n",
       "\t\t<th>dates</th>\n",
       "\t\t<th>res</th>\n",
       "\t</tr>\n",
       "\t<tr>\n",
       "\t\t<td>Blue Inc</td>\n",
       "\t\t<td>90.0</td>\n",
       "\t\t<td>50</td>\n",
       "\t\t<td>95</td>\n",
       "\t\t<td>101</td>\n",
       "\t\t<td>04/01/2017</td>\n",
       "\t\t<td>17/03/01</td>\n",
       "\t\t<td>17/02/28</td>\n",
       "\t</tr>\n",
       "\t<tr>\n",
       "\t\t<td>Red Inc</td>\n",
       "\t\t<td>200.0</td>\n",
       "\t\t<td>150</td>\n",
       "\t\t<td>140</td>\n",
       "\t\t<td>None</td>\n",
       "\t\t<td>04/01/2017</td>\n",
       "\t\t<td>17/08/25</td>\n",
       "\t\t<td>17/08/22</td>\n",
       "\t</tr>\n",
       "\t<tr>\n",
       "\t\t<td>Yellow Inc</td>\n",
       "\t\t<td>90.0</td>\n",
       "\t\t<td>None</td>\n",
       "\t\t<td>None</td>\n",
       "\t\t<td>None</td>\n",
       "\t\t<td>04/01/2017</td>\n",
       "\t\t<td>18/01/01</td>\n",
       "\t\t<td>17/12/26</td>\n",
       "\t</tr>\n",
       "\t<tr>\n",
       "\t\t<td>Jones LLC</td>\n",
       "\t\t<td>200.0</td>\n",
       "\t\t<td>150</td>\n",
       "\t\t<td>140</td>\n",
       "\t\t<td>180</td>\n",
       "\t\t<td>04/01/2017</td>\n",
       "\t\t<td>18/03/20</td>\n",
       "\t\t<td>18/03/20</td>\n",
       "\t</tr>\n",
       "\t<tr>\n",
       "\t\t<td>Orange Inc</td>\n",
       "\t\t<td>210.0</td>\n",
       "\t\t<td>None</td>\n",
       "\t\t<td>None</td>\n",
       "\t\t<td>250</td>\n",
       "\t\t<td>04/01/2017</td>\n",
       "\t\t<td>18/02/03</td>\n",
       "\t\t<td>18/01/30</td>\n",
       "\t</tr>\n",
       "\t<tr>\n",
       "\t\t<td>Alpha Co</td>\n",
       "\t\t<td>210.0</td>\n",
       "\t\t<td>200</td>\n",
       "\t\t<td>215</td>\n",
       "\t\t<td>250</td>\n",
       "\t\t<td>04/01/2017</td>\n",
       "\t\t<td>17/07/14</td>\n",
       "\t\t<td>17/07/11</td>\n",
       "\t</tr>\n",
       "</table></html>"
      ],
      "text/plain": [
       "              Feb    Jan    Mar    Apr    datetime     dates       res\n",
       "accounts                                                              \n",
       "Blue Inc     90.0   50.0   95.0  101.0  04/01/2017  17/03/01  17/02/28\n",
       "Red Inc     200.0  150.0  140.0    NaN  04/01/2017  17/08/25  17/08/22\n",
       "Yellow Inc   90.0    NaN    NaN    NaN  04/01/2017  18/01/01  17/12/26\n",
       "Jones LLC   200.0  150.0  140.0  180.0  04/01/2017  18/03/20  18/03/20\n",
       "Orange Inc  210.0    NaN    NaN  250.0  04/01/2017  18/02/03  18/01/30\n",
       "Alpha Co    210.0  200.0  215.0  250.0  04/01/2017  17/07/14  17/07/11"
      ]
     },
     "metadata": {},
     "output_type": "display_data"
    },
    {
     "name": "stdout",
     "output_type": "stream",
     "text": [
      "\n",
      "\n",
      "\n",
      " ************************* DataFrame.dtypes ********************* \n"
     ]
    },
    {
     "data": {
      "text/html": [
       "<style type=\"text/css\">\n",
       "                                table {border:ridge 5px;}\n",
       "                                table td {border:inset 1px;}\n",
       "                                table tr#HeaderRow {background-color:grey; color:white;}\n",
       "                               </style>\n",
       "                               <html>\n",
       "                                  <table>\n",
       "                                    <tr id=\"HeaderRow\">\n",
       "                                        <th>COLUMN NAME</th>\n",
       "                                        <th>TYPE</th>\n",
       "                                    </tr>\n",
       "                                    <tr><td>accounts</td><td>str</td></tr>\n",
       "<tr><td>Feb</td><td>float</td></tr>\n",
       "<tr><td>Jan</td><td>int</td></tr>\n",
       "<tr><td>Mar</td><td>int</td></tr>\n",
       "<tr><td>Apr</td><td>int</td></tr>\n",
       "<tr><td>datetime</td><td>datetime.date</td></tr>\n",
       "<tr><td>dates</td><td>datetime.date</td></tr>\n",
       "<tr><td>res</td><td>datetime.date</td></tr>\n",
       "                                  </table>\n",
       "                               </html>\n",
       "                            "
      ],
      "text/plain": [
       "accounts              str\n",
       "Feb                 float\n",
       "Jan                   int\n",
       "Mar                   int\n",
       "Apr                   int\n",
       "datetime    datetime.date\n",
       "dates       datetime.date\n",
       "res         datetime.date"
      ]
     },
     "metadata": {},
     "output_type": "display_data"
    },
    {
     "name": "stdout",
     "output_type": "stream",
     "text": [
      "\n",
      "\n",
      "\n"
     ]
    }
   ],
   "source": [
    "# Returns the date or timestamp of Tuesday that falls immediately before the specified date or timestamp value in a column as a literal.\n",
    "df = df_sales.assign(res = df_sales.dates.last_tuesday())\n",
    "print_variables(df)"
   ]
  },
  {
   "cell_type": "markdown",
   "id": "224abd88",
   "metadata": {},
   "source": [
    "### DataFrameColumn.last_wednesday()"
   ]
  },
  {
   "cell_type": "code",
   "execution_count": 16,
   "id": "3fdec8b5",
   "metadata": {},
   "outputs": [
    {
     "name": "stdout",
     "output_type": "stream",
     "text": [
      "Equivalent SQL: select accounts AS accounts, \"Feb\" AS \"Feb\", \"Jan\" AS \"Jan\", \"Mar\" AS \"Mar\", \"Apr\" AS \"Apr\", datetime AS datetime, dates AS dates, td_wednesday(dates, 'Teradata', NULL) AS res from (select accounts AS accounts, \"Feb\" AS \"Feb\", \"Jan\" AS \"Jan\", \"Mar\" AS \"Mar\", \"Apr\" AS \"Apr\", datetime AS datetime, CASE WHEN (accounts = 'Alpha Co') THEN datetime + 191 WHEN (accounts = 'Blue Inc') THEN datetime + 56 WHEN (accounts = 'Jones LLC') THEN datetime + 440 WHEN (accounts = 'Orange Inc') THEN datetime + 395 WHEN (accounts = 'Yellow Inc') THEN datetime + 362 WHEN (accounts = 'Red Inc') THEN datetime + 233 END AS dates from \"sales\") as temp_table\n",
      "\n",
      "\n",
      " ************************* DataFrame ********************* \n"
     ]
    },
    {
     "data": {
      "text/html": [
       "<style type=\"text/css\">\n",
       "\ttable {border:ridge 5px;}\n",
       "\ttable td {border:inset 1px;}\n",
       "\ttable tr#HeaderRow {background-color:grey; color:white;}</style>\n",
       "<html><table>\n",
       "\t<tr id=\"HeaderRow\">\n",
       "\t\t<th>accounts</th>\n",
       "\t\t<th>Feb</th>\n",
       "\t\t<th>Jan</th>\n",
       "\t\t<th>Mar</th>\n",
       "\t\t<th>Apr</th>\n",
       "\t\t<th>datetime</th>\n",
       "\t\t<th>dates</th>\n",
       "\t\t<th>res</th>\n",
       "\t</tr>\n",
       "\t<tr>\n",
       "\t\t<td>Alpha Co</td>\n",
       "\t\t<td>210.0</td>\n",
       "\t\t<td>200</td>\n",
       "\t\t<td>215</td>\n",
       "\t\t<td>250</td>\n",
       "\t\t<td>04/01/2017</td>\n",
       "\t\t<td>17/07/14</td>\n",
       "\t\t<td>17/07/12</td>\n",
       "\t</tr>\n",
       "\t<tr>\n",
       "\t\t<td>Blue Inc</td>\n",
       "\t\t<td>90.0</td>\n",
       "\t\t<td>50</td>\n",
       "\t\t<td>95</td>\n",
       "\t\t<td>101</td>\n",
       "\t\t<td>04/01/2017</td>\n",
       "\t\t<td>17/03/01</td>\n",
       "\t\t<td>17/03/01</td>\n",
       "\t</tr>\n",
       "\t<tr>\n",
       "\t\t<td>Jones LLC</td>\n",
       "\t\t<td>200.0</td>\n",
       "\t\t<td>150</td>\n",
       "\t\t<td>140</td>\n",
       "\t\t<td>180</td>\n",
       "\t\t<td>04/01/2017</td>\n",
       "\t\t<td>18/03/20</td>\n",
       "\t\t<td>18/03/14</td>\n",
       "\t</tr>\n",
       "\t<tr>\n",
       "\t\t<td>Orange Inc</td>\n",
       "\t\t<td>210.0</td>\n",
       "\t\t<td>None</td>\n",
       "\t\t<td>None</td>\n",
       "\t\t<td>250</td>\n",
       "\t\t<td>04/01/2017</td>\n",
       "\t\t<td>18/02/03</td>\n",
       "\t\t<td>18/01/31</td>\n",
       "\t</tr>\n",
       "\t<tr>\n",
       "\t\t<td>Yellow Inc</td>\n",
       "\t\t<td>90.0</td>\n",
       "\t\t<td>None</td>\n",
       "\t\t<td>None</td>\n",
       "\t\t<td>None</td>\n",
       "\t\t<td>04/01/2017</td>\n",
       "\t\t<td>18/01/01</td>\n",
       "\t\t<td>17/12/27</td>\n",
       "\t</tr>\n",
       "\t<tr>\n",
       "\t\t<td>Red Inc</td>\n",
       "\t\t<td>200.0</td>\n",
       "\t\t<td>150</td>\n",
       "\t\t<td>140</td>\n",
       "\t\t<td>None</td>\n",
       "\t\t<td>04/01/2017</td>\n",
       "\t\t<td>17/08/25</td>\n",
       "\t\t<td>17/08/23</td>\n",
       "\t</tr>\n",
       "</table></html>"
      ],
      "text/plain": [
       "              Feb    Jan    Mar    Apr    datetime     dates       res\n",
       "accounts                                                              \n",
       "Alpha Co    210.0  200.0  215.0  250.0  04/01/2017  17/07/14  17/07/12\n",
       "Blue Inc     90.0   50.0   95.0  101.0  04/01/2017  17/03/01  17/03/01\n",
       "Jones LLC   200.0  150.0  140.0  180.0  04/01/2017  18/03/20  18/03/14\n",
       "Orange Inc  210.0    NaN    NaN  250.0  04/01/2017  18/02/03  18/01/31\n",
       "Yellow Inc   90.0    NaN    NaN    NaN  04/01/2017  18/01/01  17/12/27\n",
       "Red Inc     200.0  150.0  140.0    NaN  04/01/2017  17/08/25  17/08/23"
      ]
     },
     "metadata": {},
     "output_type": "display_data"
    },
    {
     "name": "stdout",
     "output_type": "stream",
     "text": [
      "\n",
      "\n",
      "\n",
      " ************************* DataFrame.dtypes ********************* \n"
     ]
    },
    {
     "data": {
      "text/html": [
       "<style type=\"text/css\">\n",
       "                                table {border:ridge 5px;}\n",
       "                                table td {border:inset 1px;}\n",
       "                                table tr#HeaderRow {background-color:grey; color:white;}\n",
       "                               </style>\n",
       "                               <html>\n",
       "                                  <table>\n",
       "                                    <tr id=\"HeaderRow\">\n",
       "                                        <th>COLUMN NAME</th>\n",
       "                                        <th>TYPE</th>\n",
       "                                    </tr>\n",
       "                                    <tr><td>accounts</td><td>str</td></tr>\n",
       "<tr><td>Feb</td><td>float</td></tr>\n",
       "<tr><td>Jan</td><td>int</td></tr>\n",
       "<tr><td>Mar</td><td>int</td></tr>\n",
       "<tr><td>Apr</td><td>int</td></tr>\n",
       "<tr><td>datetime</td><td>datetime.date</td></tr>\n",
       "<tr><td>dates</td><td>datetime.date</td></tr>\n",
       "<tr><td>res</td><td>datetime.date</td></tr>\n",
       "                                  </table>\n",
       "                               </html>\n",
       "                            "
      ],
      "text/plain": [
       "accounts              str\n",
       "Feb                 float\n",
       "Jan                   int\n",
       "Mar                   int\n",
       "Apr                   int\n",
       "datetime    datetime.date\n",
       "dates       datetime.date\n",
       "res         datetime.date"
      ]
     },
     "metadata": {},
     "output_type": "display_data"
    },
    {
     "name": "stdout",
     "output_type": "stream",
     "text": [
      "\n",
      "\n",
      "\n"
     ]
    }
   ],
   "source": [
    "# Returns the date or timestamp of Wednesday that falls immediately before the specified date or timestamp value in a column as a literal.\n",
    "df = df_sales.assign(res = df_sales.dates.last_wednesday())\n",
    "print_variables(df)"
   ]
  },
  {
   "cell_type": "markdown",
   "id": "056ac9a3",
   "metadata": {},
   "source": [
    "### DataFrameColumn.last_thursday()"
   ]
  },
  {
   "cell_type": "code",
   "execution_count": 17,
   "id": "1619a719",
   "metadata": {},
   "outputs": [
    {
     "name": "stdout",
     "output_type": "stream",
     "text": [
      "Equivalent SQL: select accounts AS accounts, \"Feb\" AS \"Feb\", \"Jan\" AS \"Jan\", \"Mar\" AS \"Mar\", \"Apr\" AS \"Apr\", datetime AS datetime, dates AS dates, td_thursday(dates, 'Teradata', NULL) AS res from (select accounts AS accounts, \"Feb\" AS \"Feb\", \"Jan\" AS \"Jan\", \"Mar\" AS \"Mar\", \"Apr\" AS \"Apr\", datetime AS datetime, CASE WHEN (accounts = 'Alpha Co') THEN datetime + 191 WHEN (accounts = 'Blue Inc') THEN datetime + 56 WHEN (accounts = 'Jones LLC') THEN datetime + 440 WHEN (accounts = 'Orange Inc') THEN datetime + 395 WHEN (accounts = 'Yellow Inc') THEN datetime + 362 WHEN (accounts = 'Red Inc') THEN datetime + 233 END AS dates from \"sales\") as temp_table\n",
      "\n",
      "\n",
      " ************************* DataFrame ********************* \n"
     ]
    },
    {
     "data": {
      "text/html": [
       "<style type=\"text/css\">\n",
       "\ttable {border:ridge 5px;}\n",
       "\ttable td {border:inset 1px;}\n",
       "\ttable tr#HeaderRow {background-color:grey; color:white;}</style>\n",
       "<html><table>\n",
       "\t<tr id=\"HeaderRow\">\n",
       "\t\t<th>accounts</th>\n",
       "\t\t<th>Feb</th>\n",
       "\t\t<th>Jan</th>\n",
       "\t\t<th>Mar</th>\n",
       "\t\t<th>Apr</th>\n",
       "\t\t<th>datetime</th>\n",
       "\t\t<th>dates</th>\n",
       "\t\t<th>res</th>\n",
       "\t</tr>\n",
       "\t<tr>\n",
       "\t\t<td>Alpha Co</td>\n",
       "\t\t<td>210.0</td>\n",
       "\t\t<td>200</td>\n",
       "\t\t<td>215</td>\n",
       "\t\t<td>250</td>\n",
       "\t\t<td>04/01/2017</td>\n",
       "\t\t<td>17/07/14</td>\n",
       "\t\t<td>17/07/13</td>\n",
       "\t</tr>\n",
       "\t<tr>\n",
       "\t\t<td>Blue Inc</td>\n",
       "\t\t<td>90.0</td>\n",
       "\t\t<td>50</td>\n",
       "\t\t<td>95</td>\n",
       "\t\t<td>101</td>\n",
       "\t\t<td>04/01/2017</td>\n",
       "\t\t<td>17/03/01</td>\n",
       "\t\t<td>17/02/23</td>\n",
       "\t</tr>\n",
       "\t<tr>\n",
       "\t\t<td>Jones LLC</td>\n",
       "\t\t<td>200.0</td>\n",
       "\t\t<td>150</td>\n",
       "\t\t<td>140</td>\n",
       "\t\t<td>180</td>\n",
       "\t\t<td>04/01/2017</td>\n",
       "\t\t<td>18/03/20</td>\n",
       "\t\t<td>18/03/15</td>\n",
       "\t</tr>\n",
       "\t<tr>\n",
       "\t\t<td>Orange Inc</td>\n",
       "\t\t<td>210.0</td>\n",
       "\t\t<td>None</td>\n",
       "\t\t<td>None</td>\n",
       "\t\t<td>250</td>\n",
       "\t\t<td>04/01/2017</td>\n",
       "\t\t<td>18/02/03</td>\n",
       "\t\t<td>18/02/01</td>\n",
       "\t</tr>\n",
       "\t<tr>\n",
       "\t\t<td>Yellow Inc</td>\n",
       "\t\t<td>90.0</td>\n",
       "\t\t<td>None</td>\n",
       "\t\t<td>None</td>\n",
       "\t\t<td>None</td>\n",
       "\t\t<td>04/01/2017</td>\n",
       "\t\t<td>18/01/01</td>\n",
       "\t\t<td>17/12/28</td>\n",
       "\t</tr>\n",
       "\t<tr>\n",
       "\t\t<td>Red Inc</td>\n",
       "\t\t<td>200.0</td>\n",
       "\t\t<td>150</td>\n",
       "\t\t<td>140</td>\n",
       "\t\t<td>None</td>\n",
       "\t\t<td>04/01/2017</td>\n",
       "\t\t<td>17/08/25</td>\n",
       "\t\t<td>17/08/24</td>\n",
       "\t</tr>\n",
       "</table></html>"
      ],
      "text/plain": [
       "              Feb    Jan    Mar    Apr    datetime     dates       res\n",
       "accounts                                                              \n",
       "Alpha Co    210.0  200.0  215.0  250.0  04/01/2017  17/07/14  17/07/13\n",
       "Blue Inc     90.0   50.0   95.0  101.0  04/01/2017  17/03/01  17/02/23\n",
       "Jones LLC   200.0  150.0  140.0  180.0  04/01/2017  18/03/20  18/03/15\n",
       "Orange Inc  210.0    NaN    NaN  250.0  04/01/2017  18/02/03  18/02/01\n",
       "Yellow Inc   90.0    NaN    NaN    NaN  04/01/2017  18/01/01  17/12/28\n",
       "Red Inc     200.0  150.0  140.0    NaN  04/01/2017  17/08/25  17/08/24"
      ]
     },
     "metadata": {},
     "output_type": "display_data"
    },
    {
     "name": "stdout",
     "output_type": "stream",
     "text": [
      "\n",
      "\n",
      "\n",
      " ************************* DataFrame.dtypes ********************* \n"
     ]
    },
    {
     "data": {
      "text/html": [
       "<style type=\"text/css\">\n",
       "                                table {border:ridge 5px;}\n",
       "                                table td {border:inset 1px;}\n",
       "                                table tr#HeaderRow {background-color:grey; color:white;}\n",
       "                               </style>\n",
       "                               <html>\n",
       "                                  <table>\n",
       "                                    <tr id=\"HeaderRow\">\n",
       "                                        <th>COLUMN NAME</th>\n",
       "                                        <th>TYPE</th>\n",
       "                                    </tr>\n",
       "                                    <tr><td>accounts</td><td>str</td></tr>\n",
       "<tr><td>Feb</td><td>float</td></tr>\n",
       "<tr><td>Jan</td><td>int</td></tr>\n",
       "<tr><td>Mar</td><td>int</td></tr>\n",
       "<tr><td>Apr</td><td>int</td></tr>\n",
       "<tr><td>datetime</td><td>datetime.date</td></tr>\n",
       "<tr><td>dates</td><td>datetime.date</td></tr>\n",
       "<tr><td>res</td><td>datetime.date</td></tr>\n",
       "                                  </table>\n",
       "                               </html>\n",
       "                            "
      ],
      "text/plain": [
       "accounts              str\n",
       "Feb                 float\n",
       "Jan                   int\n",
       "Mar                   int\n",
       "Apr                   int\n",
       "datetime    datetime.date\n",
       "dates       datetime.date\n",
       "res         datetime.date"
      ]
     },
     "metadata": {},
     "output_type": "display_data"
    },
    {
     "name": "stdout",
     "output_type": "stream",
     "text": [
      "\n",
      "\n",
      "\n"
     ]
    }
   ],
   "source": [
    "# Returns the date or timestamp of Thursday that falls immediately before the specified date or timestamp value in a column as a literal.\n",
    "df = df_sales.assign(res = df_sales.dates.last_thursday())\n",
    "print_variables(df)"
   ]
  },
  {
   "cell_type": "markdown",
   "id": "6056aca2",
   "metadata": {},
   "source": [
    "### DataFrameColumn.last_friday()"
   ]
  },
  {
   "cell_type": "code",
   "execution_count": 18,
   "id": "7b2c07ca",
   "metadata": {},
   "outputs": [
    {
     "name": "stdout",
     "output_type": "stream",
     "text": [
      "Equivalent SQL: select accounts AS accounts, \"Feb\" AS \"Feb\", \"Jan\" AS \"Jan\", \"Mar\" AS \"Mar\", \"Apr\" AS \"Apr\", datetime AS datetime, dates AS dates, td_friday(dates, 'Teradata', NULL) AS res from (select accounts AS accounts, \"Feb\" AS \"Feb\", \"Jan\" AS \"Jan\", \"Mar\" AS \"Mar\", \"Apr\" AS \"Apr\", datetime AS datetime, CASE WHEN (accounts = 'Alpha Co') THEN datetime + 191 WHEN (accounts = 'Blue Inc') THEN datetime + 56 WHEN (accounts = 'Jones LLC') THEN datetime + 440 WHEN (accounts = 'Orange Inc') THEN datetime + 395 WHEN (accounts = 'Yellow Inc') THEN datetime + 362 WHEN (accounts = 'Red Inc') THEN datetime + 233 END AS dates from \"sales\") as temp_table\n",
      "\n",
      "\n",
      " ************************* DataFrame ********************* \n"
     ]
    },
    {
     "data": {
      "text/html": [
       "<style type=\"text/css\">\n",
       "\ttable {border:ridge 5px;}\n",
       "\ttable td {border:inset 1px;}\n",
       "\ttable tr#HeaderRow {background-color:grey; color:white;}</style>\n",
       "<html><table>\n",
       "\t<tr id=\"HeaderRow\">\n",
       "\t\t<th>accounts</th>\n",
       "\t\t<th>Feb</th>\n",
       "\t\t<th>Jan</th>\n",
       "\t\t<th>Mar</th>\n",
       "\t\t<th>Apr</th>\n",
       "\t\t<th>datetime</th>\n",
       "\t\t<th>dates</th>\n",
       "\t\t<th>res</th>\n",
       "\t</tr>\n",
       "\t<tr>\n",
       "\t\t<td>Alpha Co</td>\n",
       "\t\t<td>210.0</td>\n",
       "\t\t<td>200</td>\n",
       "\t\t<td>215</td>\n",
       "\t\t<td>250</td>\n",
       "\t\t<td>04/01/2017</td>\n",
       "\t\t<td>17/07/14</td>\n",
       "\t\t<td>17/07/14</td>\n",
       "\t</tr>\n",
       "\t<tr>\n",
       "\t\t<td>Blue Inc</td>\n",
       "\t\t<td>90.0</td>\n",
       "\t\t<td>50</td>\n",
       "\t\t<td>95</td>\n",
       "\t\t<td>101</td>\n",
       "\t\t<td>04/01/2017</td>\n",
       "\t\t<td>17/03/01</td>\n",
       "\t\t<td>17/02/24</td>\n",
       "\t</tr>\n",
       "\t<tr>\n",
       "\t\t<td>Jones LLC</td>\n",
       "\t\t<td>200.0</td>\n",
       "\t\t<td>150</td>\n",
       "\t\t<td>140</td>\n",
       "\t\t<td>180</td>\n",
       "\t\t<td>04/01/2017</td>\n",
       "\t\t<td>18/03/20</td>\n",
       "\t\t<td>18/03/16</td>\n",
       "\t</tr>\n",
       "\t<tr>\n",
       "\t\t<td>Orange Inc</td>\n",
       "\t\t<td>210.0</td>\n",
       "\t\t<td>None</td>\n",
       "\t\t<td>None</td>\n",
       "\t\t<td>250</td>\n",
       "\t\t<td>04/01/2017</td>\n",
       "\t\t<td>18/02/03</td>\n",
       "\t\t<td>18/02/02</td>\n",
       "\t</tr>\n",
       "\t<tr>\n",
       "\t\t<td>Yellow Inc</td>\n",
       "\t\t<td>90.0</td>\n",
       "\t\t<td>None</td>\n",
       "\t\t<td>None</td>\n",
       "\t\t<td>None</td>\n",
       "\t\t<td>04/01/2017</td>\n",
       "\t\t<td>18/01/01</td>\n",
       "\t\t<td>17/12/29</td>\n",
       "\t</tr>\n",
       "\t<tr>\n",
       "\t\t<td>Red Inc</td>\n",
       "\t\t<td>200.0</td>\n",
       "\t\t<td>150</td>\n",
       "\t\t<td>140</td>\n",
       "\t\t<td>None</td>\n",
       "\t\t<td>04/01/2017</td>\n",
       "\t\t<td>17/08/25</td>\n",
       "\t\t<td>17/08/25</td>\n",
       "\t</tr>\n",
       "</table></html>"
      ],
      "text/plain": [
       "              Feb    Jan    Mar    Apr    datetime     dates       res\n",
       "accounts                                                              \n",
       "Alpha Co    210.0  200.0  215.0  250.0  04/01/2017  17/07/14  17/07/14\n",
       "Blue Inc     90.0   50.0   95.0  101.0  04/01/2017  17/03/01  17/02/24\n",
       "Jones LLC   200.0  150.0  140.0  180.0  04/01/2017  18/03/20  18/03/16\n",
       "Orange Inc  210.0    NaN    NaN  250.0  04/01/2017  18/02/03  18/02/02\n",
       "Yellow Inc   90.0    NaN    NaN    NaN  04/01/2017  18/01/01  17/12/29\n",
       "Red Inc     200.0  150.0  140.0    NaN  04/01/2017  17/08/25  17/08/25"
      ]
     },
     "metadata": {},
     "output_type": "display_data"
    },
    {
     "name": "stdout",
     "output_type": "stream",
     "text": [
      "\n",
      "\n",
      "\n",
      " ************************* DataFrame.dtypes ********************* \n"
     ]
    },
    {
     "data": {
      "text/html": [
       "<style type=\"text/css\">\n",
       "                                table {border:ridge 5px;}\n",
       "                                table td {border:inset 1px;}\n",
       "                                table tr#HeaderRow {background-color:grey; color:white;}\n",
       "                               </style>\n",
       "                               <html>\n",
       "                                  <table>\n",
       "                                    <tr id=\"HeaderRow\">\n",
       "                                        <th>COLUMN NAME</th>\n",
       "                                        <th>TYPE</th>\n",
       "                                    </tr>\n",
       "                                    <tr><td>accounts</td><td>str</td></tr>\n",
       "<tr><td>Feb</td><td>float</td></tr>\n",
       "<tr><td>Jan</td><td>int</td></tr>\n",
       "<tr><td>Mar</td><td>int</td></tr>\n",
       "<tr><td>Apr</td><td>int</td></tr>\n",
       "<tr><td>datetime</td><td>datetime.date</td></tr>\n",
       "<tr><td>dates</td><td>datetime.date</td></tr>\n",
       "<tr><td>res</td><td>datetime.date</td></tr>\n",
       "                                  </table>\n",
       "                               </html>\n",
       "                            "
      ],
      "text/plain": [
       "accounts              str\n",
       "Feb                 float\n",
       "Jan                   int\n",
       "Mar                   int\n",
       "Apr                   int\n",
       "datetime    datetime.date\n",
       "dates       datetime.date\n",
       "res         datetime.date"
      ]
     },
     "metadata": {},
     "output_type": "display_data"
    },
    {
     "name": "stdout",
     "output_type": "stream",
     "text": [
      "\n",
      "\n",
      "\n"
     ]
    }
   ],
   "source": [
    "# Returns the date or timestamp of Friday that falls immediately before the specified date or timestamp value in a column as a literal.\n",
    "df = df_sales.assign(res = df_sales.dates.last_friday())\n",
    "print_variables(df)"
   ]
  },
  {
   "cell_type": "markdown",
   "id": "38351927",
   "metadata": {},
   "source": [
    "### DataFrameColumn.last_saturday()"
   ]
  },
  {
   "cell_type": "code",
   "execution_count": 19,
   "id": "45ec12d4",
   "metadata": {},
   "outputs": [
    {
     "name": "stdout",
     "output_type": "stream",
     "text": [
      "Equivalent SQL: select accounts AS accounts, \"Feb\" AS \"Feb\", \"Jan\" AS \"Jan\", \"Mar\" AS \"Mar\", \"Apr\" AS \"Apr\", datetime AS datetime, dates AS dates, td_saturday(dates, 'Teradata', NULL) AS res from (select accounts AS accounts, \"Feb\" AS \"Feb\", \"Jan\" AS \"Jan\", \"Mar\" AS \"Mar\", \"Apr\" AS \"Apr\", datetime AS datetime, CASE WHEN (accounts = 'Alpha Co') THEN datetime + 191 WHEN (accounts = 'Blue Inc') THEN datetime + 56 WHEN (accounts = 'Jones LLC') THEN datetime + 440 WHEN (accounts = 'Orange Inc') THEN datetime + 395 WHEN (accounts = 'Yellow Inc') THEN datetime + 362 WHEN (accounts = 'Red Inc') THEN datetime + 233 END AS dates from \"sales\") as temp_table\n",
      "\n",
      "\n",
      " ************************* DataFrame ********************* \n"
     ]
    },
    {
     "data": {
      "text/html": [
       "<style type=\"text/css\">\n",
       "\ttable {border:ridge 5px;}\n",
       "\ttable td {border:inset 1px;}\n",
       "\ttable tr#HeaderRow {background-color:grey; color:white;}</style>\n",
       "<html><table>\n",
       "\t<tr id=\"HeaderRow\">\n",
       "\t\t<th>accounts</th>\n",
       "\t\t<th>Feb</th>\n",
       "\t\t<th>Jan</th>\n",
       "\t\t<th>Mar</th>\n",
       "\t\t<th>Apr</th>\n",
       "\t\t<th>datetime</th>\n",
       "\t\t<th>dates</th>\n",
       "\t\t<th>res</th>\n",
       "\t</tr>\n",
       "\t<tr>\n",
       "\t\t<td>Blue Inc</td>\n",
       "\t\t<td>90.0</td>\n",
       "\t\t<td>50</td>\n",
       "\t\t<td>95</td>\n",
       "\t\t<td>101</td>\n",
       "\t\t<td>04/01/2017</td>\n",
       "\t\t<td>17/03/01</td>\n",
       "\t\t<td>17/02/25</td>\n",
       "\t</tr>\n",
       "\t<tr>\n",
       "\t\t<td>Red Inc</td>\n",
       "\t\t<td>200.0</td>\n",
       "\t\t<td>150</td>\n",
       "\t\t<td>140</td>\n",
       "\t\t<td>None</td>\n",
       "\t\t<td>04/01/2017</td>\n",
       "\t\t<td>17/08/25</td>\n",
       "\t\t<td>17/08/19</td>\n",
       "\t</tr>\n",
       "\t<tr>\n",
       "\t\t<td>Yellow Inc</td>\n",
       "\t\t<td>90.0</td>\n",
       "\t\t<td>None</td>\n",
       "\t\t<td>None</td>\n",
       "\t\t<td>None</td>\n",
       "\t\t<td>04/01/2017</td>\n",
       "\t\t<td>18/01/01</td>\n",
       "\t\t<td>17/12/30</td>\n",
       "\t</tr>\n",
       "\t<tr>\n",
       "\t\t<td>Jones LLC</td>\n",
       "\t\t<td>200.0</td>\n",
       "\t\t<td>150</td>\n",
       "\t\t<td>140</td>\n",
       "\t\t<td>180</td>\n",
       "\t\t<td>04/01/2017</td>\n",
       "\t\t<td>18/03/20</td>\n",
       "\t\t<td>18/03/17</td>\n",
       "\t</tr>\n",
       "\t<tr>\n",
       "\t\t<td>Orange Inc</td>\n",
       "\t\t<td>210.0</td>\n",
       "\t\t<td>None</td>\n",
       "\t\t<td>None</td>\n",
       "\t\t<td>250</td>\n",
       "\t\t<td>04/01/2017</td>\n",
       "\t\t<td>18/02/03</td>\n",
       "\t\t<td>18/02/03</td>\n",
       "\t</tr>\n",
       "\t<tr>\n",
       "\t\t<td>Alpha Co</td>\n",
       "\t\t<td>210.0</td>\n",
       "\t\t<td>200</td>\n",
       "\t\t<td>215</td>\n",
       "\t\t<td>250</td>\n",
       "\t\t<td>04/01/2017</td>\n",
       "\t\t<td>17/07/14</td>\n",
       "\t\t<td>17/07/08</td>\n",
       "\t</tr>\n",
       "</table></html>"
      ],
      "text/plain": [
       "              Feb    Jan    Mar    Apr    datetime     dates       res\n",
       "accounts                                                              \n",
       "Blue Inc     90.0   50.0   95.0  101.0  04/01/2017  17/03/01  17/02/25\n",
       "Red Inc     200.0  150.0  140.0    NaN  04/01/2017  17/08/25  17/08/19\n",
       "Yellow Inc   90.0    NaN    NaN    NaN  04/01/2017  18/01/01  17/12/30\n",
       "Jones LLC   200.0  150.0  140.0  180.0  04/01/2017  18/03/20  18/03/17\n",
       "Orange Inc  210.0    NaN    NaN  250.0  04/01/2017  18/02/03  18/02/03\n",
       "Alpha Co    210.0  200.0  215.0  250.0  04/01/2017  17/07/14  17/07/08"
      ]
     },
     "metadata": {},
     "output_type": "display_data"
    },
    {
     "name": "stdout",
     "output_type": "stream",
     "text": [
      "\n",
      "\n",
      "\n",
      " ************************* DataFrame.dtypes ********************* \n"
     ]
    },
    {
     "data": {
      "text/html": [
       "<style type=\"text/css\">\n",
       "                                table {border:ridge 5px;}\n",
       "                                table td {border:inset 1px;}\n",
       "                                table tr#HeaderRow {background-color:grey; color:white;}\n",
       "                               </style>\n",
       "                               <html>\n",
       "                                  <table>\n",
       "                                    <tr id=\"HeaderRow\">\n",
       "                                        <th>COLUMN NAME</th>\n",
       "                                        <th>TYPE</th>\n",
       "                                    </tr>\n",
       "                                    <tr><td>accounts</td><td>str</td></tr>\n",
       "<tr><td>Feb</td><td>float</td></tr>\n",
       "<tr><td>Jan</td><td>int</td></tr>\n",
       "<tr><td>Mar</td><td>int</td></tr>\n",
       "<tr><td>Apr</td><td>int</td></tr>\n",
       "<tr><td>datetime</td><td>datetime.date</td></tr>\n",
       "<tr><td>dates</td><td>datetime.date</td></tr>\n",
       "<tr><td>res</td><td>datetime.date</td></tr>\n",
       "                                  </table>\n",
       "                               </html>\n",
       "                            "
      ],
      "text/plain": [
       "accounts              str\n",
       "Feb                 float\n",
       "Jan                   int\n",
       "Mar                   int\n",
       "Apr                   int\n",
       "datetime    datetime.date\n",
       "dates       datetime.date\n",
       "res         datetime.date"
      ]
     },
     "metadata": {},
     "output_type": "display_data"
    },
    {
     "name": "stdout",
     "output_type": "stream",
     "text": [
      "\n",
      "\n",
      "\n"
     ]
    }
   ],
   "source": [
    "# Returns the Saturday that falls immediately before the value in column.\n",
    "df = df_sales.assign(res = df_sales.dates.last_saturday())\n",
    "print_variables(df)"
   ]
  },
  {
   "cell_type": "markdown",
   "id": "00cf2cd0",
   "metadata": {},
   "source": [
    "### DataFrameColumn.day_of_week()"
   ]
  },
  {
   "cell_type": "code",
   "execution_count": 20,
   "id": "31e188a1",
   "metadata": {},
   "outputs": [
    {
     "name": "stdout",
     "output_type": "stream",
     "text": [
      "Equivalent SQL: select accounts AS accounts, \"Feb\" AS \"Feb\", \"Jan\" AS \"Jan\", \"Mar\" AS \"Mar\", \"Apr\" AS \"Apr\", datetime AS datetime, dates AS dates, DayNumber_Of_Week(dates, 'Teradata') AS res from (select accounts AS accounts, \"Feb\" AS \"Feb\", \"Jan\" AS \"Jan\", \"Mar\" AS \"Mar\", \"Apr\" AS \"Apr\", datetime AS datetime, CASE WHEN (accounts = 'Alpha Co') THEN datetime + 191 WHEN (accounts = 'Blue Inc') THEN datetime + 56 WHEN (accounts = 'Jones LLC') THEN datetime + 440 WHEN (accounts = 'Orange Inc') THEN datetime + 395 WHEN (accounts = 'Yellow Inc') THEN datetime + 362 WHEN (accounts = 'Red Inc') THEN datetime + 233 END AS dates from \"sales\") as temp_table\n",
      "\n",
      "\n",
      " ************************* DataFrame ********************* \n"
     ]
    },
    {
     "data": {
      "text/html": [
       "<style type=\"text/css\">\n",
       "\ttable {border:ridge 5px;}\n",
       "\ttable td {border:inset 1px;}\n",
       "\ttable tr#HeaderRow {background-color:grey; color:white;}</style>\n",
       "<html><table>\n",
       "\t<tr id=\"HeaderRow\">\n",
       "\t\t<th>accounts</th>\n",
       "\t\t<th>Feb</th>\n",
       "\t\t<th>Jan</th>\n",
       "\t\t<th>Mar</th>\n",
       "\t\t<th>Apr</th>\n",
       "\t\t<th>datetime</th>\n",
       "\t\t<th>dates</th>\n",
       "\t\t<th>res</th>\n",
       "\t</tr>\n",
       "\t<tr>\n",
       "\t\t<td>Blue Inc</td>\n",
       "\t\t<td>90.0</td>\n",
       "\t\t<td>50</td>\n",
       "\t\t<td>95</td>\n",
       "\t\t<td>101</td>\n",
       "\t\t<td>04/01/2017</td>\n",
       "\t\t<td>17/03/01</td>\n",
       "\t\t<td>4</td>\n",
       "\t</tr>\n",
       "\t<tr>\n",
       "\t\t<td>Red Inc</td>\n",
       "\t\t<td>200.0</td>\n",
       "\t\t<td>150</td>\n",
       "\t\t<td>140</td>\n",
       "\t\t<td>None</td>\n",
       "\t\t<td>04/01/2017</td>\n",
       "\t\t<td>17/08/25</td>\n",
       "\t\t<td>6</td>\n",
       "\t</tr>\n",
       "\t<tr>\n",
       "\t\t<td>Yellow Inc</td>\n",
       "\t\t<td>90.0</td>\n",
       "\t\t<td>None</td>\n",
       "\t\t<td>None</td>\n",
       "\t\t<td>None</td>\n",
       "\t\t<td>04/01/2017</td>\n",
       "\t\t<td>18/01/01</td>\n",
       "\t\t<td>2</td>\n",
       "\t</tr>\n",
       "\t<tr>\n",
       "\t\t<td>Jones LLC</td>\n",
       "\t\t<td>200.0</td>\n",
       "\t\t<td>150</td>\n",
       "\t\t<td>140</td>\n",
       "\t\t<td>180</td>\n",
       "\t\t<td>04/01/2017</td>\n",
       "\t\t<td>18/03/20</td>\n",
       "\t\t<td>3</td>\n",
       "\t</tr>\n",
       "\t<tr>\n",
       "\t\t<td>Orange Inc</td>\n",
       "\t\t<td>210.0</td>\n",
       "\t\t<td>None</td>\n",
       "\t\t<td>None</td>\n",
       "\t\t<td>250</td>\n",
       "\t\t<td>04/01/2017</td>\n",
       "\t\t<td>18/02/03</td>\n",
       "\t\t<td>7</td>\n",
       "\t</tr>\n",
       "\t<tr>\n",
       "\t\t<td>Alpha Co</td>\n",
       "\t\t<td>210.0</td>\n",
       "\t\t<td>200</td>\n",
       "\t\t<td>215</td>\n",
       "\t\t<td>250</td>\n",
       "\t\t<td>04/01/2017</td>\n",
       "\t\t<td>17/07/14</td>\n",
       "\t\t<td>6</td>\n",
       "\t</tr>\n",
       "</table></html>"
      ],
      "text/plain": [
       "              Feb    Jan    Mar    Apr    datetime     dates  res\n",
       "accounts                                                         \n",
       "Blue Inc     90.0   50.0   95.0  101.0  04/01/2017  17/03/01    4\n",
       "Red Inc     200.0  150.0  140.0    NaN  04/01/2017  17/08/25    6\n",
       "Yellow Inc   90.0    NaN    NaN    NaN  04/01/2017  18/01/01    2\n",
       "Jones LLC   200.0  150.0  140.0  180.0  04/01/2017  18/03/20    3\n",
       "Orange Inc  210.0    NaN    NaN  250.0  04/01/2017  18/02/03    7\n",
       "Alpha Co    210.0  200.0  215.0  250.0  04/01/2017  17/07/14    6"
      ]
     },
     "metadata": {},
     "output_type": "display_data"
    },
    {
     "name": "stdout",
     "output_type": "stream",
     "text": [
      "\n",
      "\n",
      "\n",
      " ************************* DataFrame.dtypes ********************* \n"
     ]
    },
    {
     "data": {
      "text/html": [
       "<style type=\"text/css\">\n",
       "                                table {border:ridge 5px;}\n",
       "                                table td {border:inset 1px;}\n",
       "                                table tr#HeaderRow {background-color:grey; color:white;}\n",
       "                               </style>\n",
       "                               <html>\n",
       "                                  <table>\n",
       "                                    <tr id=\"HeaderRow\">\n",
       "                                        <th>COLUMN NAME</th>\n",
       "                                        <th>TYPE</th>\n",
       "                                    </tr>\n",
       "                                    <tr><td>accounts</td><td>str</td></tr>\n",
       "<tr><td>Feb</td><td>float</td></tr>\n",
       "<tr><td>Jan</td><td>int</td></tr>\n",
       "<tr><td>Mar</td><td>int</td></tr>\n",
       "<tr><td>Apr</td><td>int</td></tr>\n",
       "<tr><td>datetime</td><td>datetime.date</td></tr>\n",
       "<tr><td>dates</td><td>datetime.date</td></tr>\n",
       "<tr><td>res</td><td>int</td></tr>\n",
       "                                  </table>\n",
       "                               </html>\n",
       "                            "
      ],
      "text/plain": [
       "accounts              str\n",
       "Feb                 float\n",
       "Jan                   int\n",
       "Mar                   int\n",
       "Apr                   int\n",
       "datetime    datetime.date\n",
       "dates       datetime.date\n",
       "res                   int"
      ]
     },
     "metadata": {},
     "output_type": "display_data"
    },
    {
     "name": "stdout",
     "output_type": "stream",
     "text": [
      "\n",
      "\n",
      "\n"
     ]
    }
   ],
   "source": [
    "# Returns the number of days from the beginning of the week to the specified date or timestamp value in a column as a literal.\n",
    "df = df_sales.assign(res = df_sales.dates.day_of_week())\n",
    "print_variables(df)"
   ]
  },
  {
   "cell_type": "markdown",
   "id": "0318f075",
   "metadata": {},
   "source": [
    "### DataFrameColumn.day_of_month()"
   ]
  },
  {
   "cell_type": "code",
   "execution_count": 21,
   "id": "c100b496",
   "metadata": {},
   "outputs": [
    {
     "name": "stdout",
     "output_type": "stream",
     "text": [
      "Equivalent SQL: select accounts AS accounts, \"Feb\" AS \"Feb\", \"Jan\" AS \"Jan\", \"Mar\" AS \"Mar\", \"Apr\" AS \"Apr\", datetime AS datetime, dates AS dates, DayNumber_Of_Month(dates, 'Teradata') AS res from (select accounts AS accounts, \"Feb\" AS \"Feb\", \"Jan\" AS \"Jan\", \"Mar\" AS \"Mar\", \"Apr\" AS \"Apr\", datetime AS datetime, CASE WHEN (accounts = 'Alpha Co') THEN datetime + 191 WHEN (accounts = 'Blue Inc') THEN datetime + 56 WHEN (accounts = 'Jones LLC') THEN datetime + 440 WHEN (accounts = 'Orange Inc') THEN datetime + 395 WHEN (accounts = 'Yellow Inc') THEN datetime + 362 WHEN (accounts = 'Red Inc') THEN datetime + 233 END AS dates from \"sales\") as temp_table\n",
      "\n",
      "\n",
      " ************************* DataFrame ********************* \n"
     ]
    },
    {
     "data": {
      "text/html": [
       "<style type=\"text/css\">\n",
       "\ttable {border:ridge 5px;}\n",
       "\ttable td {border:inset 1px;}\n",
       "\ttable tr#HeaderRow {background-color:grey; color:white;}</style>\n",
       "<html><table>\n",
       "\t<tr id=\"HeaderRow\">\n",
       "\t\t<th>accounts</th>\n",
       "\t\t<th>Feb</th>\n",
       "\t\t<th>Jan</th>\n",
       "\t\t<th>Mar</th>\n",
       "\t\t<th>Apr</th>\n",
       "\t\t<th>datetime</th>\n",
       "\t\t<th>dates</th>\n",
       "\t\t<th>res</th>\n",
       "\t</tr>\n",
       "\t<tr>\n",
       "\t\t<td>Alpha Co</td>\n",
       "\t\t<td>210.0</td>\n",
       "\t\t<td>200</td>\n",
       "\t\t<td>215</td>\n",
       "\t\t<td>250</td>\n",
       "\t\t<td>04/01/2017</td>\n",
       "\t\t<td>17/07/14</td>\n",
       "\t\t<td>14</td>\n",
       "\t</tr>\n",
       "\t<tr>\n",
       "\t\t<td>Blue Inc</td>\n",
       "\t\t<td>90.0</td>\n",
       "\t\t<td>50</td>\n",
       "\t\t<td>95</td>\n",
       "\t\t<td>101</td>\n",
       "\t\t<td>04/01/2017</td>\n",
       "\t\t<td>17/03/01</td>\n",
       "\t\t<td>1</td>\n",
       "\t</tr>\n",
       "\t<tr>\n",
       "\t\t<td>Jones LLC</td>\n",
       "\t\t<td>200.0</td>\n",
       "\t\t<td>150</td>\n",
       "\t\t<td>140</td>\n",
       "\t\t<td>180</td>\n",
       "\t\t<td>04/01/2017</td>\n",
       "\t\t<td>18/03/20</td>\n",
       "\t\t<td>20</td>\n",
       "\t</tr>\n",
       "\t<tr>\n",
       "\t\t<td>Orange Inc</td>\n",
       "\t\t<td>210.0</td>\n",
       "\t\t<td>None</td>\n",
       "\t\t<td>None</td>\n",
       "\t\t<td>250</td>\n",
       "\t\t<td>04/01/2017</td>\n",
       "\t\t<td>18/02/03</td>\n",
       "\t\t<td>3</td>\n",
       "\t</tr>\n",
       "\t<tr>\n",
       "\t\t<td>Yellow Inc</td>\n",
       "\t\t<td>90.0</td>\n",
       "\t\t<td>None</td>\n",
       "\t\t<td>None</td>\n",
       "\t\t<td>None</td>\n",
       "\t\t<td>04/01/2017</td>\n",
       "\t\t<td>18/01/01</td>\n",
       "\t\t<td>1</td>\n",
       "\t</tr>\n",
       "\t<tr>\n",
       "\t\t<td>Red Inc</td>\n",
       "\t\t<td>200.0</td>\n",
       "\t\t<td>150</td>\n",
       "\t\t<td>140</td>\n",
       "\t\t<td>None</td>\n",
       "\t\t<td>04/01/2017</td>\n",
       "\t\t<td>17/08/25</td>\n",
       "\t\t<td>25</td>\n",
       "\t</tr>\n",
       "</table></html>"
      ],
      "text/plain": [
       "              Feb    Jan    Mar    Apr    datetime     dates  res\n",
       "accounts                                                         \n",
       "Alpha Co    210.0  200.0  215.0  250.0  04/01/2017  17/07/14   14\n",
       "Blue Inc     90.0   50.0   95.0  101.0  04/01/2017  17/03/01    1\n",
       "Jones LLC   200.0  150.0  140.0  180.0  04/01/2017  18/03/20   20\n",
       "Orange Inc  210.0    NaN    NaN  250.0  04/01/2017  18/02/03    3\n",
       "Yellow Inc   90.0    NaN    NaN    NaN  04/01/2017  18/01/01    1\n",
       "Red Inc     200.0  150.0  140.0    NaN  04/01/2017  17/08/25   25"
      ]
     },
     "metadata": {},
     "output_type": "display_data"
    },
    {
     "name": "stdout",
     "output_type": "stream",
     "text": [
      "\n",
      "\n",
      "\n",
      " ************************* DataFrame.dtypes ********************* \n"
     ]
    },
    {
     "data": {
      "text/html": [
       "<style type=\"text/css\">\n",
       "                                table {border:ridge 5px;}\n",
       "                                table td {border:inset 1px;}\n",
       "                                table tr#HeaderRow {background-color:grey; color:white;}\n",
       "                               </style>\n",
       "                               <html>\n",
       "                                  <table>\n",
       "                                    <tr id=\"HeaderRow\">\n",
       "                                        <th>COLUMN NAME</th>\n",
       "                                        <th>TYPE</th>\n",
       "                                    </tr>\n",
       "                                    <tr><td>accounts</td><td>str</td></tr>\n",
       "<tr><td>Feb</td><td>float</td></tr>\n",
       "<tr><td>Jan</td><td>int</td></tr>\n",
       "<tr><td>Mar</td><td>int</td></tr>\n",
       "<tr><td>Apr</td><td>int</td></tr>\n",
       "<tr><td>datetime</td><td>datetime.date</td></tr>\n",
       "<tr><td>dates</td><td>datetime.date</td></tr>\n",
       "<tr><td>res</td><td>int</td></tr>\n",
       "                                  </table>\n",
       "                               </html>\n",
       "                            "
      ],
      "text/plain": [
       "accounts              str\n",
       "Feb                 float\n",
       "Jan                   int\n",
       "Mar                   int\n",
       "Apr                   int\n",
       "datetime    datetime.date\n",
       "dates       datetime.date\n",
       "res                   int"
      ]
     },
     "metadata": {},
     "output_type": "display_data"
    },
    {
     "name": "stdout",
     "output_type": "stream",
     "text": [
      "\n",
      "\n",
      "\n"
     ]
    }
   ],
   "source": [
    "# Returns the number of days from the beginning of the month to the specified date or timestamp value in a column as a literal.\n",
    "\n",
    "df = df_sales.assign(res = df_sales.dates.day_of_month())\n",
    "print_variables(df)"
   ]
  },
  {
   "cell_type": "markdown",
   "id": "302ef176",
   "metadata": {},
   "source": [
    "### DataFrameColumn.week_of_month()"
   ]
  },
  {
   "cell_type": "code",
   "execution_count": 22,
   "id": "550461a2",
   "metadata": {},
   "outputs": [
    {
     "name": "stdout",
     "output_type": "stream",
     "text": [
      "Equivalent SQL: select accounts AS accounts, \"Feb\" AS \"Feb\", \"Jan\" AS \"Jan\", \"Mar\" AS \"Mar\", \"Apr\" AS \"Apr\", datetime AS datetime, dates AS dates, WeekNumber_Of_Month(dates, 'Teradata') AS res from (select accounts AS accounts, \"Feb\" AS \"Feb\", \"Jan\" AS \"Jan\", \"Mar\" AS \"Mar\", \"Apr\" AS \"Apr\", datetime AS datetime, CASE WHEN (accounts = 'Alpha Co') THEN datetime + 191 WHEN (accounts = 'Blue Inc') THEN datetime + 56 WHEN (accounts = 'Jones LLC') THEN datetime + 440 WHEN (accounts = 'Orange Inc') THEN datetime + 395 WHEN (accounts = 'Yellow Inc') THEN datetime + 362 WHEN (accounts = 'Red Inc') THEN datetime + 233 END AS dates from \"sales\") as temp_table\n",
      "\n",
      "\n",
      " ************************* DataFrame ********************* \n"
     ]
    },
    {
     "data": {
      "text/html": [
       "<style type=\"text/css\">\n",
       "\ttable {border:ridge 5px;}\n",
       "\ttable td {border:inset 1px;}\n",
       "\ttable tr#HeaderRow {background-color:grey; color:white;}</style>\n",
       "<html><table>\n",
       "\t<tr id=\"HeaderRow\">\n",
       "\t\t<th>accounts</th>\n",
       "\t\t<th>Feb</th>\n",
       "\t\t<th>Jan</th>\n",
       "\t\t<th>Mar</th>\n",
       "\t\t<th>Apr</th>\n",
       "\t\t<th>datetime</th>\n",
       "\t\t<th>dates</th>\n",
       "\t\t<th>res</th>\n",
       "\t</tr>\n",
       "\t<tr>\n",
       "\t\t<td>Blue Inc</td>\n",
       "\t\t<td>90.0</td>\n",
       "\t\t<td>50</td>\n",
       "\t\t<td>95</td>\n",
       "\t\t<td>101</td>\n",
       "\t\t<td>04/01/2017</td>\n",
       "\t\t<td>17/03/01</td>\n",
       "\t\t<td>0</td>\n",
       "\t</tr>\n",
       "\t<tr>\n",
       "\t\t<td>Red Inc</td>\n",
       "\t\t<td>200.0</td>\n",
       "\t\t<td>150</td>\n",
       "\t\t<td>140</td>\n",
       "\t\t<td>None</td>\n",
       "\t\t<td>04/01/2017</td>\n",
       "\t\t<td>17/08/25</td>\n",
       "\t\t<td>3</td>\n",
       "\t</tr>\n",
       "\t<tr>\n",
       "\t\t<td>Yellow Inc</td>\n",
       "\t\t<td>90.0</td>\n",
       "\t\t<td>None</td>\n",
       "\t\t<td>None</td>\n",
       "\t\t<td>None</td>\n",
       "\t\t<td>04/01/2017</td>\n",
       "\t\t<td>18/01/01</td>\n",
       "\t\t<td>0</td>\n",
       "\t</tr>\n",
       "\t<tr>\n",
       "\t\t<td>Jones LLC</td>\n",
       "\t\t<td>200.0</td>\n",
       "\t\t<td>150</td>\n",
       "\t\t<td>140</td>\n",
       "\t\t<td>180</td>\n",
       "\t\t<td>04/01/2017</td>\n",
       "\t\t<td>18/03/20</td>\n",
       "\t\t<td>3</td>\n",
       "\t</tr>\n",
       "\t<tr>\n",
       "\t\t<td>Orange Inc</td>\n",
       "\t\t<td>210.0</td>\n",
       "\t\t<td>None</td>\n",
       "\t\t<td>None</td>\n",
       "\t\t<td>250</td>\n",
       "\t\t<td>04/01/2017</td>\n",
       "\t\t<td>18/02/03</td>\n",
       "\t\t<td>0</td>\n",
       "\t</tr>\n",
       "\t<tr>\n",
       "\t\t<td>Alpha Co</td>\n",
       "\t\t<td>210.0</td>\n",
       "\t\t<td>200</td>\n",
       "\t\t<td>215</td>\n",
       "\t\t<td>250</td>\n",
       "\t\t<td>04/01/2017</td>\n",
       "\t\t<td>17/07/14</td>\n",
       "\t\t<td>2</td>\n",
       "\t</tr>\n",
       "</table></html>"
      ],
      "text/plain": [
       "              Feb    Jan    Mar    Apr    datetime     dates  res\n",
       "accounts                                                         \n",
       "Blue Inc     90.0   50.0   95.0  101.0  04/01/2017  17/03/01    0\n",
       "Red Inc     200.0  150.0  140.0    NaN  04/01/2017  17/08/25    3\n",
       "Yellow Inc   90.0    NaN    NaN    NaN  04/01/2017  18/01/01    0\n",
       "Jones LLC   200.0  150.0  140.0  180.0  04/01/2017  18/03/20    3\n",
       "Orange Inc  210.0    NaN    NaN  250.0  04/01/2017  18/02/03    0\n",
       "Alpha Co    210.0  200.0  215.0  250.0  04/01/2017  17/07/14    2"
      ]
     },
     "metadata": {},
     "output_type": "display_data"
    },
    {
     "name": "stdout",
     "output_type": "stream",
     "text": [
      "\n",
      "\n",
      "\n",
      " ************************* DataFrame.dtypes ********************* \n"
     ]
    },
    {
     "data": {
      "text/html": [
       "<style type=\"text/css\">\n",
       "                                table {border:ridge 5px;}\n",
       "                                table td {border:inset 1px;}\n",
       "                                table tr#HeaderRow {background-color:grey; color:white;}\n",
       "                               </style>\n",
       "                               <html>\n",
       "                                  <table>\n",
       "                                    <tr id=\"HeaderRow\">\n",
       "                                        <th>COLUMN NAME</th>\n",
       "                                        <th>TYPE</th>\n",
       "                                    </tr>\n",
       "                                    <tr><td>accounts</td><td>str</td></tr>\n",
       "<tr><td>Feb</td><td>float</td></tr>\n",
       "<tr><td>Jan</td><td>int</td></tr>\n",
       "<tr><td>Mar</td><td>int</td></tr>\n",
       "<tr><td>Apr</td><td>int</td></tr>\n",
       "<tr><td>datetime</td><td>datetime.date</td></tr>\n",
       "<tr><td>dates</td><td>datetime.date</td></tr>\n",
       "<tr><td>res</td><td>int</td></tr>\n",
       "                                  </table>\n",
       "                               </html>\n",
       "                            "
      ],
      "text/plain": [
       "accounts              str\n",
       "Feb                 float\n",
       "Jan                   int\n",
       "Mar                   int\n",
       "Apr                   int\n",
       "datetime    datetime.date\n",
       "dates       datetime.date\n",
       "res                   int"
      ]
     },
     "metadata": {},
     "output_type": "display_data"
    },
    {
     "name": "stdout",
     "output_type": "stream",
     "text": [
      "\n",
      "\n",
      "\n"
     ]
    }
   ],
   "source": [
    "# Returns the number of weeks from the beginning of the month to the date value in column.\n",
    "\n",
    "df = df_sales.assign(res = df_sales.dates.week_of_month())\n",
    "print_variables(df)"
   ]
  },
  {
   "cell_type": "markdown",
   "id": "6aaea520",
   "metadata": {},
   "source": [
    "### DataFrameColumn.day_occurrence_of_month()"
   ]
  },
  {
   "cell_type": "code",
   "execution_count": 23,
   "id": "cf1efb85",
   "metadata": {},
   "outputs": [
    {
     "name": "stdout",
     "output_type": "stream",
     "text": [
      "Equivalent SQL: select accounts AS accounts, \"Feb\" AS \"Feb\", \"Jan\" AS \"Jan\", \"Mar\" AS \"Mar\", \"Apr\" AS \"Apr\", datetime AS datetime, dates AS dates, DayOccurrence_Of_Month(dates, 'Teradata') AS res from (select accounts AS accounts, \"Feb\" AS \"Feb\", \"Jan\" AS \"Jan\", \"Mar\" AS \"Mar\", \"Apr\" AS \"Apr\", datetime AS datetime, CASE WHEN (accounts = 'Alpha Co') THEN datetime + 191 WHEN (accounts = 'Blue Inc') THEN datetime + 56 WHEN (accounts = 'Jones LLC') THEN datetime + 440 WHEN (accounts = 'Orange Inc') THEN datetime + 395 WHEN (accounts = 'Yellow Inc') THEN datetime + 362 WHEN (accounts = 'Red Inc') THEN datetime + 233 END AS dates from \"sales\") as temp_table\n",
      "\n",
      "\n",
      " ************************* DataFrame ********************* \n"
     ]
    },
    {
     "data": {
      "text/html": [
       "<style type=\"text/css\">\n",
       "\ttable {border:ridge 5px;}\n",
       "\ttable td {border:inset 1px;}\n",
       "\ttable tr#HeaderRow {background-color:grey; color:white;}</style>\n",
       "<html><table>\n",
       "\t<tr id=\"HeaderRow\">\n",
       "\t\t<th>accounts</th>\n",
       "\t\t<th>Feb</th>\n",
       "\t\t<th>Jan</th>\n",
       "\t\t<th>Mar</th>\n",
       "\t\t<th>Apr</th>\n",
       "\t\t<th>datetime</th>\n",
       "\t\t<th>dates</th>\n",
       "\t\t<th>res</th>\n",
       "\t</tr>\n",
       "\t<tr>\n",
       "\t\t<td>Blue Inc</td>\n",
       "\t\t<td>90.0</td>\n",
       "\t\t<td>50</td>\n",
       "\t\t<td>95</td>\n",
       "\t\t<td>101</td>\n",
       "\t\t<td>04/01/2017</td>\n",
       "\t\t<td>17/03/01</td>\n",
       "\t\t<td>1</td>\n",
       "\t</tr>\n",
       "\t<tr>\n",
       "\t\t<td>Red Inc</td>\n",
       "\t\t<td>200.0</td>\n",
       "\t\t<td>150</td>\n",
       "\t\t<td>140</td>\n",
       "\t\t<td>None</td>\n",
       "\t\t<td>04/01/2017</td>\n",
       "\t\t<td>17/08/25</td>\n",
       "\t\t<td>4</td>\n",
       "\t</tr>\n",
       "\t<tr>\n",
       "\t\t<td>Yellow Inc</td>\n",
       "\t\t<td>90.0</td>\n",
       "\t\t<td>None</td>\n",
       "\t\t<td>None</td>\n",
       "\t\t<td>None</td>\n",
       "\t\t<td>04/01/2017</td>\n",
       "\t\t<td>18/01/01</td>\n",
       "\t\t<td>1</td>\n",
       "\t</tr>\n",
       "\t<tr>\n",
       "\t\t<td>Jones LLC</td>\n",
       "\t\t<td>200.0</td>\n",
       "\t\t<td>150</td>\n",
       "\t\t<td>140</td>\n",
       "\t\t<td>180</td>\n",
       "\t\t<td>04/01/2017</td>\n",
       "\t\t<td>18/03/20</td>\n",
       "\t\t<td>3</td>\n",
       "\t</tr>\n",
       "\t<tr>\n",
       "\t\t<td>Orange Inc</td>\n",
       "\t\t<td>210.0</td>\n",
       "\t\t<td>None</td>\n",
       "\t\t<td>None</td>\n",
       "\t\t<td>250</td>\n",
       "\t\t<td>04/01/2017</td>\n",
       "\t\t<td>18/02/03</td>\n",
       "\t\t<td>1</td>\n",
       "\t</tr>\n",
       "\t<tr>\n",
       "\t\t<td>Alpha Co</td>\n",
       "\t\t<td>210.0</td>\n",
       "\t\t<td>200</td>\n",
       "\t\t<td>215</td>\n",
       "\t\t<td>250</td>\n",
       "\t\t<td>04/01/2017</td>\n",
       "\t\t<td>17/07/14</td>\n",
       "\t\t<td>2</td>\n",
       "\t</tr>\n",
       "</table></html>"
      ],
      "text/plain": [
       "              Feb    Jan    Mar    Apr    datetime     dates  res\n",
       "accounts                                                         \n",
       "Blue Inc     90.0   50.0   95.0  101.0  04/01/2017  17/03/01    1\n",
       "Red Inc     200.0  150.0  140.0    NaN  04/01/2017  17/08/25    4\n",
       "Yellow Inc   90.0    NaN    NaN    NaN  04/01/2017  18/01/01    1\n",
       "Jones LLC   200.0  150.0  140.0  180.0  04/01/2017  18/03/20    3\n",
       "Orange Inc  210.0    NaN    NaN  250.0  04/01/2017  18/02/03    1\n",
       "Alpha Co    210.0  200.0  215.0  250.0  04/01/2017  17/07/14    2"
      ]
     },
     "metadata": {},
     "output_type": "display_data"
    },
    {
     "name": "stdout",
     "output_type": "stream",
     "text": [
      "\n",
      "\n",
      "\n",
      " ************************* DataFrame.dtypes ********************* \n"
     ]
    },
    {
     "data": {
      "text/html": [
       "<style type=\"text/css\">\n",
       "                                table {border:ridge 5px;}\n",
       "                                table td {border:inset 1px;}\n",
       "                                table tr#HeaderRow {background-color:grey; color:white;}\n",
       "                               </style>\n",
       "                               <html>\n",
       "                                  <table>\n",
       "                                    <tr id=\"HeaderRow\">\n",
       "                                        <th>COLUMN NAME</th>\n",
       "                                        <th>TYPE</th>\n",
       "                                    </tr>\n",
       "                                    <tr><td>accounts</td><td>str</td></tr>\n",
       "<tr><td>Feb</td><td>float</td></tr>\n",
       "<tr><td>Jan</td><td>int</td></tr>\n",
       "<tr><td>Mar</td><td>int</td></tr>\n",
       "<tr><td>Apr</td><td>int</td></tr>\n",
       "<tr><td>datetime</td><td>datetime.date</td></tr>\n",
       "<tr><td>dates</td><td>datetime.date</td></tr>\n",
       "<tr><td>res</td><td>int</td></tr>\n",
       "                                  </table>\n",
       "                               </html>\n",
       "                            "
      ],
      "text/plain": [
       "accounts              str\n",
       "Feb                 float\n",
       "Jan                   int\n",
       "Mar                   int\n",
       "Apr                   int\n",
       "datetime    datetime.date\n",
       "dates       datetime.date\n",
       "res                   int"
      ]
     },
     "metadata": {},
     "output_type": "display_data"
    },
    {
     "name": "stdout",
     "output_type": "stream",
     "text": [
      "\n",
      "\n",
      "\n"
     ]
    }
   ],
   "source": [
    "# Returns the nth occurrence of the weekday in the month for the date value in column.\n",
    "\n",
    "df = df_sales.assign(res = df_sales.dates.day_occurrence_of_month())\n",
    "print_variables(df)"
   ]
  },
  {
   "cell_type": "markdown",
   "id": "4ccced14",
   "metadata": {},
   "source": [
    "### DataFrameColumn.day_of_year()"
   ]
  },
  {
   "cell_type": "code",
   "execution_count": 24,
   "id": "a0f55edf",
   "metadata": {},
   "outputs": [
    {
     "name": "stdout",
     "output_type": "stream",
     "text": [
      "Equivalent SQL: select accounts AS accounts, \"Feb\" AS \"Feb\", \"Jan\" AS \"Jan\", \"Mar\" AS \"Mar\", \"Apr\" AS \"Apr\", datetime AS datetime, dates AS dates, DayNumber_Of_Year(dates, 'Teradata') AS res from (select accounts AS accounts, \"Feb\" AS \"Feb\", \"Jan\" AS \"Jan\", \"Mar\" AS \"Mar\", \"Apr\" AS \"Apr\", datetime AS datetime, CASE WHEN (accounts = 'Alpha Co') THEN datetime + 191 WHEN (accounts = 'Blue Inc') THEN datetime + 56 WHEN (accounts = 'Jones LLC') THEN datetime + 440 WHEN (accounts = 'Orange Inc') THEN datetime + 395 WHEN (accounts = 'Yellow Inc') THEN datetime + 362 WHEN (accounts = 'Red Inc') THEN datetime + 233 END AS dates from \"sales\") as temp_table\n",
      "\n",
      "\n",
      " ************************* DataFrame ********************* \n"
     ]
    },
    {
     "data": {
      "text/html": [
       "<style type=\"text/css\">\n",
       "\ttable {border:ridge 5px;}\n",
       "\ttable td {border:inset 1px;}\n",
       "\ttable tr#HeaderRow {background-color:grey; color:white;}</style>\n",
       "<html><table>\n",
       "\t<tr id=\"HeaderRow\">\n",
       "\t\t<th>accounts</th>\n",
       "\t\t<th>Feb</th>\n",
       "\t\t<th>Jan</th>\n",
       "\t\t<th>Mar</th>\n",
       "\t\t<th>Apr</th>\n",
       "\t\t<th>datetime</th>\n",
       "\t\t<th>dates</th>\n",
       "\t\t<th>res</th>\n",
       "\t</tr>\n",
       "\t<tr>\n",
       "\t\t<td>Blue Inc</td>\n",
       "\t\t<td>90.0</td>\n",
       "\t\t<td>50</td>\n",
       "\t\t<td>95</td>\n",
       "\t\t<td>101</td>\n",
       "\t\t<td>04/01/2017</td>\n",
       "\t\t<td>17/03/01</td>\n",
       "\t\t<td>60</td>\n",
       "\t</tr>\n",
       "\t<tr>\n",
       "\t\t<td>Red Inc</td>\n",
       "\t\t<td>200.0</td>\n",
       "\t\t<td>150</td>\n",
       "\t\t<td>140</td>\n",
       "\t\t<td>None</td>\n",
       "\t\t<td>04/01/2017</td>\n",
       "\t\t<td>17/08/25</td>\n",
       "\t\t<td>237</td>\n",
       "\t</tr>\n",
       "\t<tr>\n",
       "\t\t<td>Yellow Inc</td>\n",
       "\t\t<td>90.0</td>\n",
       "\t\t<td>None</td>\n",
       "\t\t<td>None</td>\n",
       "\t\t<td>None</td>\n",
       "\t\t<td>04/01/2017</td>\n",
       "\t\t<td>18/01/01</td>\n",
       "\t\t<td>1</td>\n",
       "\t</tr>\n",
       "\t<tr>\n",
       "\t\t<td>Jones LLC</td>\n",
       "\t\t<td>200.0</td>\n",
       "\t\t<td>150</td>\n",
       "\t\t<td>140</td>\n",
       "\t\t<td>180</td>\n",
       "\t\t<td>04/01/2017</td>\n",
       "\t\t<td>18/03/20</td>\n",
       "\t\t<td>79</td>\n",
       "\t</tr>\n",
       "\t<tr>\n",
       "\t\t<td>Orange Inc</td>\n",
       "\t\t<td>210.0</td>\n",
       "\t\t<td>None</td>\n",
       "\t\t<td>None</td>\n",
       "\t\t<td>250</td>\n",
       "\t\t<td>04/01/2017</td>\n",
       "\t\t<td>18/02/03</td>\n",
       "\t\t<td>34</td>\n",
       "\t</tr>\n",
       "\t<tr>\n",
       "\t\t<td>Alpha Co</td>\n",
       "\t\t<td>210.0</td>\n",
       "\t\t<td>200</td>\n",
       "\t\t<td>215</td>\n",
       "\t\t<td>250</td>\n",
       "\t\t<td>04/01/2017</td>\n",
       "\t\t<td>17/07/14</td>\n",
       "\t\t<td>195</td>\n",
       "\t</tr>\n",
       "</table></html>"
      ],
      "text/plain": [
       "              Feb    Jan    Mar    Apr    datetime     dates  res\n",
       "accounts                                                         \n",
       "Blue Inc     90.0   50.0   95.0  101.0  04/01/2017  17/03/01   60\n",
       "Red Inc     200.0  150.0  140.0    NaN  04/01/2017  17/08/25  237\n",
       "Yellow Inc   90.0    NaN    NaN    NaN  04/01/2017  18/01/01    1\n",
       "Jones LLC   200.0  150.0  140.0  180.0  04/01/2017  18/03/20   79\n",
       "Orange Inc  210.0    NaN    NaN  250.0  04/01/2017  18/02/03   34\n",
       "Alpha Co    210.0  200.0  215.0  250.0  04/01/2017  17/07/14  195"
      ]
     },
     "metadata": {},
     "output_type": "display_data"
    },
    {
     "name": "stdout",
     "output_type": "stream",
     "text": [
      "\n",
      "\n",
      "\n",
      " ************************* DataFrame.dtypes ********************* \n"
     ]
    },
    {
     "data": {
      "text/html": [
       "<style type=\"text/css\">\n",
       "                                table {border:ridge 5px;}\n",
       "                                table td {border:inset 1px;}\n",
       "                                table tr#HeaderRow {background-color:grey; color:white;}\n",
       "                               </style>\n",
       "                               <html>\n",
       "                                  <table>\n",
       "                                    <tr id=\"HeaderRow\">\n",
       "                                        <th>COLUMN NAME</th>\n",
       "                                        <th>TYPE</th>\n",
       "                                    </tr>\n",
       "                                    <tr><td>accounts</td><td>str</td></tr>\n",
       "<tr><td>Feb</td><td>float</td></tr>\n",
       "<tr><td>Jan</td><td>int</td></tr>\n",
       "<tr><td>Mar</td><td>int</td></tr>\n",
       "<tr><td>Apr</td><td>int</td></tr>\n",
       "<tr><td>datetime</td><td>datetime.date</td></tr>\n",
       "<tr><td>dates</td><td>datetime.date</td></tr>\n",
       "<tr><td>res</td><td>int</td></tr>\n",
       "                                  </table>\n",
       "                               </html>\n",
       "                            "
      ],
      "text/plain": [
       "accounts              str\n",
       "Feb                 float\n",
       "Jan                   int\n",
       "Mar                   int\n",
       "Apr                   int\n",
       "datetime    datetime.date\n",
       "dates       datetime.date\n",
       "res                   int"
      ]
     },
     "metadata": {},
     "output_type": "display_data"
    },
    {
     "name": "stdout",
     "output_type": "stream",
     "text": [
      "\n",
      "\n",
      "\n"
     ]
    }
   ],
   "source": [
    "# Returns the number of days from the beginning of the year to the specified date or timestamp value in a column as a literal.\n",
    "\n",
    "df = df_sales.assign(res = df_sales.dates.day_of_year())\n",
    "print_variables(df)"
   ]
  },
  {
   "cell_type": "markdown",
   "id": "24adbe08",
   "metadata": {},
   "source": [
    "### DataFrameColumn.week_of_year()"
   ]
  },
  {
   "cell_type": "code",
   "execution_count": 25,
   "id": "98c65cbc",
   "metadata": {},
   "outputs": [
    {
     "name": "stdout",
     "output_type": "stream",
     "text": [
      "Equivalent SQL: select accounts AS accounts, \"Feb\" AS \"Feb\", \"Jan\" AS \"Jan\", \"Mar\" AS \"Mar\", \"Apr\" AS \"Apr\", datetime AS datetime, dates AS dates, WeekNumber_Of_Year(dates, 'Teradata') AS res from (select accounts AS accounts, \"Feb\" AS \"Feb\", \"Jan\" AS \"Jan\", \"Mar\" AS \"Mar\", \"Apr\" AS \"Apr\", datetime AS datetime, CASE WHEN (accounts = 'Alpha Co') THEN datetime + 191 WHEN (accounts = 'Blue Inc') THEN datetime + 56 WHEN (accounts = 'Jones LLC') THEN datetime + 440 WHEN (accounts = 'Orange Inc') THEN datetime + 395 WHEN (accounts = 'Yellow Inc') THEN datetime + 362 WHEN (accounts = 'Red Inc') THEN datetime + 233 END AS dates from \"sales\") as temp_table\n",
      "\n",
      "\n",
      " ************************* DataFrame ********************* \n"
     ]
    },
    {
     "data": {
      "text/html": [
       "<style type=\"text/css\">\n",
       "\ttable {border:ridge 5px;}\n",
       "\ttable td {border:inset 1px;}\n",
       "\ttable tr#HeaderRow {background-color:grey; color:white;}</style>\n",
       "<html><table>\n",
       "\t<tr id=\"HeaderRow\">\n",
       "\t\t<th>accounts</th>\n",
       "\t\t<th>Feb</th>\n",
       "\t\t<th>Jan</th>\n",
       "\t\t<th>Mar</th>\n",
       "\t\t<th>Apr</th>\n",
       "\t\t<th>datetime</th>\n",
       "\t\t<th>dates</th>\n",
       "\t\t<th>res</th>\n",
       "\t</tr>\n",
       "\t<tr>\n",
       "\t\t<td>Blue Inc</td>\n",
       "\t\t<td>90.0</td>\n",
       "\t\t<td>50</td>\n",
       "\t\t<td>95</td>\n",
       "\t\t<td>101</td>\n",
       "\t\t<td>04/01/2017</td>\n",
       "\t\t<td>17/03/01</td>\n",
       "\t\t<td>9</td>\n",
       "\t</tr>\n",
       "\t<tr>\n",
       "\t\t<td>Red Inc</td>\n",
       "\t\t<td>200.0</td>\n",
       "\t\t<td>150</td>\n",
       "\t\t<td>140</td>\n",
       "\t\t<td>None</td>\n",
       "\t\t<td>04/01/2017</td>\n",
       "\t\t<td>17/08/25</td>\n",
       "\t\t<td>34</td>\n",
       "\t</tr>\n",
       "\t<tr>\n",
       "\t\t<td>Yellow Inc</td>\n",
       "\t\t<td>90.0</td>\n",
       "\t\t<td>None</td>\n",
       "\t\t<td>None</td>\n",
       "\t\t<td>None</td>\n",
       "\t\t<td>04/01/2017</td>\n",
       "\t\t<td>18/01/01</td>\n",
       "\t\t<td>0</td>\n",
       "\t</tr>\n",
       "\t<tr>\n",
       "\t\t<td>Jones LLC</td>\n",
       "\t\t<td>200.0</td>\n",
       "\t\t<td>150</td>\n",
       "\t\t<td>140</td>\n",
       "\t\t<td>180</td>\n",
       "\t\t<td>04/01/2017</td>\n",
       "\t\t<td>18/03/20</td>\n",
       "\t\t<td>11</td>\n",
       "\t</tr>\n",
       "\t<tr>\n",
       "\t\t<td>Orange Inc</td>\n",
       "\t\t<td>210.0</td>\n",
       "\t\t<td>None</td>\n",
       "\t\t<td>None</td>\n",
       "\t\t<td>250</td>\n",
       "\t\t<td>04/01/2017</td>\n",
       "\t\t<td>18/02/03</td>\n",
       "\t\t<td>4</td>\n",
       "\t</tr>\n",
       "\t<tr>\n",
       "\t\t<td>Alpha Co</td>\n",
       "\t\t<td>210.0</td>\n",
       "\t\t<td>200</td>\n",
       "\t\t<td>215</td>\n",
       "\t\t<td>250</td>\n",
       "\t\t<td>04/01/2017</td>\n",
       "\t\t<td>17/07/14</td>\n",
       "\t\t<td>28</td>\n",
       "\t</tr>\n",
       "</table></html>"
      ],
      "text/plain": [
       "              Feb    Jan    Mar    Apr    datetime     dates  res\n",
       "accounts                                                         \n",
       "Blue Inc     90.0   50.0   95.0  101.0  04/01/2017  17/03/01    9\n",
       "Red Inc     200.0  150.0  140.0    NaN  04/01/2017  17/08/25   34\n",
       "Yellow Inc   90.0    NaN    NaN    NaN  04/01/2017  18/01/01    0\n",
       "Jones LLC   200.0  150.0  140.0  180.0  04/01/2017  18/03/20   11\n",
       "Orange Inc  210.0    NaN    NaN  250.0  04/01/2017  18/02/03    4\n",
       "Alpha Co    210.0  200.0  215.0  250.0  04/01/2017  17/07/14   28"
      ]
     },
     "metadata": {},
     "output_type": "display_data"
    },
    {
     "name": "stdout",
     "output_type": "stream",
     "text": [
      "\n",
      "\n",
      "\n",
      " ************************* DataFrame.dtypes ********************* \n"
     ]
    },
    {
     "data": {
      "text/html": [
       "<style type=\"text/css\">\n",
       "                                table {border:ridge 5px;}\n",
       "                                table td {border:inset 1px;}\n",
       "                                table tr#HeaderRow {background-color:grey; color:white;}\n",
       "                               </style>\n",
       "                               <html>\n",
       "                                  <table>\n",
       "                                    <tr id=\"HeaderRow\">\n",
       "                                        <th>COLUMN NAME</th>\n",
       "                                        <th>TYPE</th>\n",
       "                                    </tr>\n",
       "                                    <tr><td>accounts</td><td>str</td></tr>\n",
       "<tr><td>Feb</td><td>float</td></tr>\n",
       "<tr><td>Jan</td><td>int</td></tr>\n",
       "<tr><td>Mar</td><td>int</td></tr>\n",
       "<tr><td>Apr</td><td>int</td></tr>\n",
       "<tr><td>datetime</td><td>datetime.date</td></tr>\n",
       "<tr><td>dates</td><td>datetime.date</td></tr>\n",
       "<tr><td>res</td><td>int</td></tr>\n",
       "                                  </table>\n",
       "                               </html>\n",
       "                            "
      ],
      "text/plain": [
       "accounts              str\n",
       "Feb                 float\n",
       "Jan                   int\n",
       "Mar                   int\n",
       "Apr                   int\n",
       "datetime    datetime.date\n",
       "dates       datetime.date\n",
       "res                   int"
      ]
     },
     "metadata": {},
     "output_type": "display_data"
    },
    {
     "name": "stdout",
     "output_type": "stream",
     "text": [
      "\n",
      "\n",
      "\n"
     ]
    }
   ],
   "source": [
    "# Returns the number of weeks from the beginning of the year to the specified date or timestamp value in a column as a literal.\n",
    "\n",
    "df = df_sales.assign(res = df_sales.dates.week_of_year())\n",
    "print_variables(df)"
   ]
  },
  {
   "cell_type": "markdown",
   "id": "dd4b6021",
   "metadata": {},
   "source": [
    "### DataFrameColumn.month_of_year()"
   ]
  },
  {
   "cell_type": "code",
   "execution_count": 26,
   "id": "3030f8e9",
   "metadata": {},
   "outputs": [
    {
     "name": "stdout",
     "output_type": "stream",
     "text": [
      "Equivalent SQL: select accounts AS accounts, \"Feb\" AS \"Feb\", \"Jan\" AS \"Jan\", \"Mar\" AS \"Mar\", \"Apr\" AS \"Apr\", datetime AS datetime, dates AS dates, MonthNumber_Of_Year(dates, 'Teradata') AS res from (select accounts AS accounts, \"Feb\" AS \"Feb\", \"Jan\" AS \"Jan\", \"Mar\" AS \"Mar\", \"Apr\" AS \"Apr\", datetime AS datetime, CASE WHEN (accounts = 'Alpha Co') THEN datetime + 191 WHEN (accounts = 'Blue Inc') THEN datetime + 56 WHEN (accounts = 'Jones LLC') THEN datetime + 440 WHEN (accounts = 'Orange Inc') THEN datetime + 395 WHEN (accounts = 'Yellow Inc') THEN datetime + 362 WHEN (accounts = 'Red Inc') THEN datetime + 233 END AS dates from \"sales\") as temp_table\n",
      "\n",
      "\n",
      " ************************* DataFrame ********************* \n"
     ]
    },
    {
     "data": {
      "text/html": [
       "<style type=\"text/css\">\n",
       "\ttable {border:ridge 5px;}\n",
       "\ttable td {border:inset 1px;}\n",
       "\ttable tr#HeaderRow {background-color:grey; color:white;}</style>\n",
       "<html><table>\n",
       "\t<tr id=\"HeaderRow\">\n",
       "\t\t<th>accounts</th>\n",
       "\t\t<th>Feb</th>\n",
       "\t\t<th>Jan</th>\n",
       "\t\t<th>Mar</th>\n",
       "\t\t<th>Apr</th>\n",
       "\t\t<th>datetime</th>\n",
       "\t\t<th>dates</th>\n",
       "\t\t<th>res</th>\n",
       "\t</tr>\n",
       "\t<tr>\n",
       "\t\t<td>Blue Inc</td>\n",
       "\t\t<td>90.0</td>\n",
       "\t\t<td>50</td>\n",
       "\t\t<td>95</td>\n",
       "\t\t<td>101</td>\n",
       "\t\t<td>04/01/2017</td>\n",
       "\t\t<td>17/03/01</td>\n",
       "\t\t<td>3</td>\n",
       "\t</tr>\n",
       "\t<tr>\n",
       "\t\t<td>Red Inc</td>\n",
       "\t\t<td>200.0</td>\n",
       "\t\t<td>150</td>\n",
       "\t\t<td>140</td>\n",
       "\t\t<td>None</td>\n",
       "\t\t<td>04/01/2017</td>\n",
       "\t\t<td>17/08/25</td>\n",
       "\t\t<td>8</td>\n",
       "\t</tr>\n",
       "\t<tr>\n",
       "\t\t<td>Yellow Inc</td>\n",
       "\t\t<td>90.0</td>\n",
       "\t\t<td>None</td>\n",
       "\t\t<td>None</td>\n",
       "\t\t<td>None</td>\n",
       "\t\t<td>04/01/2017</td>\n",
       "\t\t<td>18/01/01</td>\n",
       "\t\t<td>1</td>\n",
       "\t</tr>\n",
       "\t<tr>\n",
       "\t\t<td>Jones LLC</td>\n",
       "\t\t<td>200.0</td>\n",
       "\t\t<td>150</td>\n",
       "\t\t<td>140</td>\n",
       "\t\t<td>180</td>\n",
       "\t\t<td>04/01/2017</td>\n",
       "\t\t<td>18/03/20</td>\n",
       "\t\t<td>3</td>\n",
       "\t</tr>\n",
       "\t<tr>\n",
       "\t\t<td>Orange Inc</td>\n",
       "\t\t<td>210.0</td>\n",
       "\t\t<td>None</td>\n",
       "\t\t<td>None</td>\n",
       "\t\t<td>250</td>\n",
       "\t\t<td>04/01/2017</td>\n",
       "\t\t<td>18/02/03</td>\n",
       "\t\t<td>2</td>\n",
       "\t</tr>\n",
       "\t<tr>\n",
       "\t\t<td>Alpha Co</td>\n",
       "\t\t<td>210.0</td>\n",
       "\t\t<td>200</td>\n",
       "\t\t<td>215</td>\n",
       "\t\t<td>250</td>\n",
       "\t\t<td>04/01/2017</td>\n",
       "\t\t<td>17/07/14</td>\n",
       "\t\t<td>7</td>\n",
       "\t</tr>\n",
       "</table></html>"
      ],
      "text/plain": [
       "              Feb    Jan    Mar    Apr    datetime     dates  res\n",
       "accounts                                                         \n",
       "Blue Inc     90.0   50.0   95.0  101.0  04/01/2017  17/03/01    3\n",
       "Red Inc     200.0  150.0  140.0    NaN  04/01/2017  17/08/25    8\n",
       "Yellow Inc   90.0    NaN    NaN    NaN  04/01/2017  18/01/01    1\n",
       "Jones LLC   200.0  150.0  140.0  180.0  04/01/2017  18/03/20    3\n",
       "Orange Inc  210.0    NaN    NaN  250.0  04/01/2017  18/02/03    2\n",
       "Alpha Co    210.0  200.0  215.0  250.0  04/01/2017  17/07/14    7"
      ]
     },
     "metadata": {},
     "output_type": "display_data"
    },
    {
     "name": "stdout",
     "output_type": "stream",
     "text": [
      "\n",
      "\n",
      "\n",
      " ************************* DataFrame.dtypes ********************* \n"
     ]
    },
    {
     "data": {
      "text/html": [
       "<style type=\"text/css\">\n",
       "                                table {border:ridge 5px;}\n",
       "                                table td {border:inset 1px;}\n",
       "                                table tr#HeaderRow {background-color:grey; color:white;}\n",
       "                               </style>\n",
       "                               <html>\n",
       "                                  <table>\n",
       "                                    <tr id=\"HeaderRow\">\n",
       "                                        <th>COLUMN NAME</th>\n",
       "                                        <th>TYPE</th>\n",
       "                                    </tr>\n",
       "                                    <tr><td>accounts</td><td>str</td></tr>\n",
       "<tr><td>Feb</td><td>float</td></tr>\n",
       "<tr><td>Jan</td><td>int</td></tr>\n",
       "<tr><td>Mar</td><td>int</td></tr>\n",
       "<tr><td>Apr</td><td>int</td></tr>\n",
       "<tr><td>datetime</td><td>datetime.date</td></tr>\n",
       "<tr><td>dates</td><td>datetime.date</td></tr>\n",
       "<tr><td>res</td><td>int</td></tr>\n",
       "                                  </table>\n",
       "                               </html>\n",
       "                            "
      ],
      "text/plain": [
       "accounts              str\n",
       "Feb                 float\n",
       "Jan                   int\n",
       "Mar                   int\n",
       "Apr                   int\n",
       "datetime    datetime.date\n",
       "dates       datetime.date\n",
       "res                   int"
      ]
     },
     "metadata": {},
     "output_type": "display_data"
    },
    {
     "name": "stdout",
     "output_type": "stream",
     "text": [
      "\n",
      "\n",
      "\n"
     ]
    }
   ],
   "source": [
    "# Returns the number of months from the beginning of the year to the specified date or timestamp value in a column as a literal.\n",
    "\n",
    "df = df_sales.assign(res = df_sales.dates.month_of_year())\n",
    "print_variables(df)"
   ]
  },
  {
   "cell_type": "markdown",
   "id": "282895eb",
   "metadata": {},
   "source": [
    "### DataFrameColumn.week_of_quarter()"
   ]
  },
  {
   "cell_type": "code",
   "execution_count": 27,
   "id": "d68b5b06",
   "metadata": {},
   "outputs": [
    {
     "name": "stdout",
     "output_type": "stream",
     "text": [
      "Equivalent SQL: select accounts AS accounts, \"Feb\" AS \"Feb\", \"Jan\" AS \"Jan\", \"Mar\" AS \"Mar\", \"Apr\" AS \"Apr\", datetime AS datetime, dates AS dates, WeekNumber_Of_Quarter(dates, 'Teradata') AS res from (select accounts AS accounts, \"Feb\" AS \"Feb\", \"Jan\" AS \"Jan\", \"Mar\" AS \"Mar\", \"Apr\" AS \"Apr\", datetime AS datetime, CASE WHEN (accounts = 'Alpha Co') THEN datetime + 191 WHEN (accounts = 'Blue Inc') THEN datetime + 56 WHEN (accounts = 'Jones LLC') THEN datetime + 440 WHEN (accounts = 'Orange Inc') THEN datetime + 395 WHEN (accounts = 'Yellow Inc') THEN datetime + 362 WHEN (accounts = 'Red Inc') THEN datetime + 233 END AS dates from \"sales\") as temp_table\n",
      "\n",
      "\n",
      " ************************* DataFrame ********************* \n"
     ]
    },
    {
     "data": {
      "text/html": [
       "<style type=\"text/css\">\n",
       "\ttable {border:ridge 5px;}\n",
       "\ttable td {border:inset 1px;}\n",
       "\ttable tr#HeaderRow {background-color:grey; color:white;}</style>\n",
       "<html><table>\n",
       "\t<tr id=\"HeaderRow\">\n",
       "\t\t<th>accounts</th>\n",
       "\t\t<th>Feb</th>\n",
       "\t\t<th>Jan</th>\n",
       "\t\t<th>Mar</th>\n",
       "\t\t<th>Apr</th>\n",
       "\t\t<th>datetime</th>\n",
       "\t\t<th>dates</th>\n",
       "\t\t<th>res</th>\n",
       "\t</tr>\n",
       "\t<tr>\n",
       "\t\t<td>Blue Inc</td>\n",
       "\t\t<td>90.0</td>\n",
       "\t\t<td>50</td>\n",
       "\t\t<td>95</td>\n",
       "\t\t<td>101</td>\n",
       "\t\t<td>04/01/2017</td>\n",
       "\t\t<td>17/03/01</td>\n",
       "\t\t<td>9</td>\n",
       "\t</tr>\n",
       "\t<tr>\n",
       "\t\t<td>Red Inc</td>\n",
       "\t\t<td>200.0</td>\n",
       "\t\t<td>150</td>\n",
       "\t\t<td>140</td>\n",
       "\t\t<td>None</td>\n",
       "\t\t<td>04/01/2017</td>\n",
       "\t\t<td>17/08/25</td>\n",
       "\t\t<td>8</td>\n",
       "\t</tr>\n",
       "\t<tr>\n",
       "\t\t<td>Yellow Inc</td>\n",
       "\t\t<td>90.0</td>\n",
       "\t\t<td>None</td>\n",
       "\t\t<td>None</td>\n",
       "\t\t<td>None</td>\n",
       "\t\t<td>04/01/2017</td>\n",
       "\t\t<td>18/01/01</td>\n",
       "\t\t<td>0</td>\n",
       "\t</tr>\n",
       "\t<tr>\n",
       "\t\t<td>Jones LLC</td>\n",
       "\t\t<td>200.0</td>\n",
       "\t\t<td>150</td>\n",
       "\t\t<td>140</td>\n",
       "\t\t<td>180</td>\n",
       "\t\t<td>04/01/2017</td>\n",
       "\t\t<td>18/03/20</td>\n",
       "\t\t<td>11</td>\n",
       "\t</tr>\n",
       "\t<tr>\n",
       "\t\t<td>Orange Inc</td>\n",
       "\t\t<td>210.0</td>\n",
       "\t\t<td>None</td>\n",
       "\t\t<td>None</td>\n",
       "\t\t<td>250</td>\n",
       "\t\t<td>04/01/2017</td>\n",
       "\t\t<td>18/02/03</td>\n",
       "\t\t<td>4</td>\n",
       "\t</tr>\n",
       "\t<tr>\n",
       "\t\t<td>Alpha Co</td>\n",
       "\t\t<td>210.0</td>\n",
       "\t\t<td>200</td>\n",
       "\t\t<td>215</td>\n",
       "\t\t<td>250</td>\n",
       "\t\t<td>04/01/2017</td>\n",
       "\t\t<td>17/07/14</td>\n",
       "\t\t<td>2</td>\n",
       "\t</tr>\n",
       "</table></html>"
      ],
      "text/plain": [
       "              Feb    Jan    Mar    Apr    datetime     dates  res\n",
       "accounts                                                         \n",
       "Blue Inc     90.0   50.0   95.0  101.0  04/01/2017  17/03/01    9\n",
       "Red Inc     200.0  150.0  140.0    NaN  04/01/2017  17/08/25    8\n",
       "Yellow Inc   90.0    NaN    NaN    NaN  04/01/2017  18/01/01    0\n",
       "Jones LLC   200.0  150.0  140.0  180.0  04/01/2017  18/03/20   11\n",
       "Orange Inc  210.0    NaN    NaN  250.0  04/01/2017  18/02/03    4\n",
       "Alpha Co    210.0  200.0  215.0  250.0  04/01/2017  17/07/14    2"
      ]
     },
     "metadata": {},
     "output_type": "display_data"
    },
    {
     "name": "stdout",
     "output_type": "stream",
     "text": [
      "\n",
      "\n",
      "\n",
      " ************************* DataFrame.dtypes ********************* \n"
     ]
    },
    {
     "data": {
      "text/html": [
       "<style type=\"text/css\">\n",
       "                                table {border:ridge 5px;}\n",
       "                                table td {border:inset 1px;}\n",
       "                                table tr#HeaderRow {background-color:grey; color:white;}\n",
       "                               </style>\n",
       "                               <html>\n",
       "                                  <table>\n",
       "                                    <tr id=\"HeaderRow\">\n",
       "                                        <th>COLUMN NAME</th>\n",
       "                                        <th>TYPE</th>\n",
       "                                    </tr>\n",
       "                                    <tr><td>accounts</td><td>str</td></tr>\n",
       "<tr><td>Feb</td><td>float</td></tr>\n",
       "<tr><td>Jan</td><td>int</td></tr>\n",
       "<tr><td>Mar</td><td>int</td></tr>\n",
       "<tr><td>Apr</td><td>int</td></tr>\n",
       "<tr><td>datetime</td><td>datetime.date</td></tr>\n",
       "<tr><td>dates</td><td>datetime.date</td></tr>\n",
       "<tr><td>res</td><td>int</td></tr>\n",
       "                                  </table>\n",
       "                               </html>\n",
       "                            "
      ],
      "text/plain": [
       "accounts              str\n",
       "Feb                 float\n",
       "Jan                   int\n",
       "Mar                   int\n",
       "Apr                   int\n",
       "datetime    datetime.date\n",
       "dates       datetime.date\n",
       "res                   int"
      ]
     },
     "metadata": {},
     "output_type": "display_data"
    },
    {
     "name": "stdout",
     "output_type": "stream",
     "text": [
      "\n",
      "\n",
      "\n"
     ]
    }
   ],
   "source": [
    "# Returns the number of weeks from the beginning of the quarter to the specified date or timestamp value in a column as a literal.\n",
    "\n",
    "df = df_sales.assign(res = df_sales.dates.week_of_quarter())\n",
    "print_variables(df)"
   ]
  },
  {
   "cell_type": "markdown",
   "id": "328fdbd6",
   "metadata": {},
   "source": [
    "### DataFrameColumn.month_of_quarter()"
   ]
  },
  {
   "cell_type": "code",
   "execution_count": 28,
   "id": "77337da1",
   "metadata": {},
   "outputs": [
    {
     "name": "stdout",
     "output_type": "stream",
     "text": [
      "Equivalent SQL: select accounts AS accounts, \"Feb\" AS \"Feb\", \"Jan\" AS \"Jan\", \"Mar\" AS \"Mar\", \"Apr\" AS \"Apr\", datetime AS datetime, dates AS dates, MonthNumber_Of_Quarter(dates, 'Teradata') AS res from (select accounts AS accounts, \"Feb\" AS \"Feb\", \"Jan\" AS \"Jan\", \"Mar\" AS \"Mar\", \"Apr\" AS \"Apr\", datetime AS datetime, CASE WHEN (accounts = 'Alpha Co') THEN datetime + 191 WHEN (accounts = 'Blue Inc') THEN datetime + 56 WHEN (accounts = 'Jones LLC') THEN datetime + 440 WHEN (accounts = 'Orange Inc') THEN datetime + 395 WHEN (accounts = 'Yellow Inc') THEN datetime + 362 WHEN (accounts = 'Red Inc') THEN datetime + 233 END AS dates from \"sales\") as temp_table\n",
      "\n",
      "\n",
      " ************************* DataFrame ********************* \n"
     ]
    },
    {
     "data": {
      "text/html": [
       "<style type=\"text/css\">\n",
       "\ttable {border:ridge 5px;}\n",
       "\ttable td {border:inset 1px;}\n",
       "\ttable tr#HeaderRow {background-color:grey; color:white;}</style>\n",
       "<html><table>\n",
       "\t<tr id=\"HeaderRow\">\n",
       "\t\t<th>accounts</th>\n",
       "\t\t<th>Feb</th>\n",
       "\t\t<th>Jan</th>\n",
       "\t\t<th>Mar</th>\n",
       "\t\t<th>Apr</th>\n",
       "\t\t<th>datetime</th>\n",
       "\t\t<th>dates</th>\n",
       "\t\t<th>res</th>\n",
       "\t</tr>\n",
       "\t<tr>\n",
       "\t\t<td>Blue Inc</td>\n",
       "\t\t<td>90.0</td>\n",
       "\t\t<td>50</td>\n",
       "\t\t<td>95</td>\n",
       "\t\t<td>101</td>\n",
       "\t\t<td>04/01/2017</td>\n",
       "\t\t<td>17/03/01</td>\n",
       "\t\t<td>3</td>\n",
       "\t</tr>\n",
       "\t<tr>\n",
       "\t\t<td>Red Inc</td>\n",
       "\t\t<td>200.0</td>\n",
       "\t\t<td>150</td>\n",
       "\t\t<td>140</td>\n",
       "\t\t<td>None</td>\n",
       "\t\t<td>04/01/2017</td>\n",
       "\t\t<td>17/08/25</td>\n",
       "\t\t<td>2</td>\n",
       "\t</tr>\n",
       "\t<tr>\n",
       "\t\t<td>Yellow Inc</td>\n",
       "\t\t<td>90.0</td>\n",
       "\t\t<td>None</td>\n",
       "\t\t<td>None</td>\n",
       "\t\t<td>None</td>\n",
       "\t\t<td>04/01/2017</td>\n",
       "\t\t<td>18/01/01</td>\n",
       "\t\t<td>1</td>\n",
       "\t</tr>\n",
       "\t<tr>\n",
       "\t\t<td>Jones LLC</td>\n",
       "\t\t<td>200.0</td>\n",
       "\t\t<td>150</td>\n",
       "\t\t<td>140</td>\n",
       "\t\t<td>180</td>\n",
       "\t\t<td>04/01/2017</td>\n",
       "\t\t<td>18/03/20</td>\n",
       "\t\t<td>3</td>\n",
       "\t</tr>\n",
       "\t<tr>\n",
       "\t\t<td>Orange Inc</td>\n",
       "\t\t<td>210.0</td>\n",
       "\t\t<td>None</td>\n",
       "\t\t<td>None</td>\n",
       "\t\t<td>250</td>\n",
       "\t\t<td>04/01/2017</td>\n",
       "\t\t<td>18/02/03</td>\n",
       "\t\t<td>2</td>\n",
       "\t</tr>\n",
       "\t<tr>\n",
       "\t\t<td>Alpha Co</td>\n",
       "\t\t<td>210.0</td>\n",
       "\t\t<td>200</td>\n",
       "\t\t<td>215</td>\n",
       "\t\t<td>250</td>\n",
       "\t\t<td>04/01/2017</td>\n",
       "\t\t<td>17/07/14</td>\n",
       "\t\t<td>1</td>\n",
       "\t</tr>\n",
       "</table></html>"
      ],
      "text/plain": [
       "              Feb    Jan    Mar    Apr    datetime     dates  res\n",
       "accounts                                                         \n",
       "Blue Inc     90.0   50.0   95.0  101.0  04/01/2017  17/03/01    3\n",
       "Red Inc     200.0  150.0  140.0    NaN  04/01/2017  17/08/25    2\n",
       "Yellow Inc   90.0    NaN    NaN    NaN  04/01/2017  18/01/01    1\n",
       "Jones LLC   200.0  150.0  140.0  180.0  04/01/2017  18/03/20    3\n",
       "Orange Inc  210.0    NaN    NaN  250.0  04/01/2017  18/02/03    2\n",
       "Alpha Co    210.0  200.0  215.0  250.0  04/01/2017  17/07/14    1"
      ]
     },
     "metadata": {},
     "output_type": "display_data"
    },
    {
     "name": "stdout",
     "output_type": "stream",
     "text": [
      "\n",
      "\n",
      "\n",
      " ************************* DataFrame.dtypes ********************* \n"
     ]
    },
    {
     "data": {
      "text/html": [
       "<style type=\"text/css\">\n",
       "                                table {border:ridge 5px;}\n",
       "                                table td {border:inset 1px;}\n",
       "                                table tr#HeaderRow {background-color:grey; color:white;}\n",
       "                               </style>\n",
       "                               <html>\n",
       "                                  <table>\n",
       "                                    <tr id=\"HeaderRow\">\n",
       "                                        <th>COLUMN NAME</th>\n",
       "                                        <th>TYPE</th>\n",
       "                                    </tr>\n",
       "                                    <tr><td>accounts</td><td>str</td></tr>\n",
       "<tr><td>Feb</td><td>float</td></tr>\n",
       "<tr><td>Jan</td><td>int</td></tr>\n",
       "<tr><td>Mar</td><td>int</td></tr>\n",
       "<tr><td>Apr</td><td>int</td></tr>\n",
       "<tr><td>datetime</td><td>datetime.date</td></tr>\n",
       "<tr><td>dates</td><td>datetime.date</td></tr>\n",
       "<tr><td>res</td><td>int</td></tr>\n",
       "                                  </table>\n",
       "                               </html>\n",
       "                            "
      ],
      "text/plain": [
       "accounts              str\n",
       "Feb                 float\n",
       "Jan                   int\n",
       "Mar                   int\n",
       "Apr                   int\n",
       "datetime    datetime.date\n",
       "dates       datetime.date\n",
       "res                   int"
      ]
     },
     "metadata": {},
     "output_type": "display_data"
    },
    {
     "name": "stdout",
     "output_type": "stream",
     "text": [
      "\n",
      "\n",
      "\n"
     ]
    }
   ],
   "source": [
    "# Returns the number of months from the beginning of the quarter to the specified date or timestamp value in a column as a literal.\n",
    "\n",
    "df = df_sales.assign(res = df_sales.dates.month_of_quarter())\n",
    "print_variables(df)"
   ]
  },
  {
   "cell_type": "markdown",
   "id": "7e7513ef",
   "metadata": {},
   "source": [
    "### DataFrameColumn.quarter_of_year()"
   ]
  },
  {
   "cell_type": "code",
   "execution_count": 29,
   "id": "e553b1fb",
   "metadata": {},
   "outputs": [
    {
     "name": "stdout",
     "output_type": "stream",
     "text": [
      "Equivalent SQL: select accounts AS accounts, \"Feb\" AS \"Feb\", \"Jan\" AS \"Jan\", \"Mar\" AS \"Mar\", \"Apr\" AS \"Apr\", datetime AS datetime, dates AS dates, QuarterNumber_Of_Year(dates, 'Teradata') AS res from (select accounts AS accounts, \"Feb\" AS \"Feb\", \"Jan\" AS \"Jan\", \"Mar\" AS \"Mar\", \"Apr\" AS \"Apr\", datetime AS datetime, CASE WHEN (accounts = 'Alpha Co') THEN datetime + 191 WHEN (accounts = 'Blue Inc') THEN datetime + 56 WHEN (accounts = 'Jones LLC') THEN datetime + 440 WHEN (accounts = 'Orange Inc') THEN datetime + 395 WHEN (accounts = 'Yellow Inc') THEN datetime + 362 WHEN (accounts = 'Red Inc') THEN datetime + 233 END AS dates from \"sales\") as temp_table\n",
      "\n",
      "\n",
      " ************************* DataFrame ********************* \n"
     ]
    },
    {
     "data": {
      "text/html": [
       "<style type=\"text/css\">\n",
       "\ttable {border:ridge 5px;}\n",
       "\ttable td {border:inset 1px;}\n",
       "\ttable tr#HeaderRow {background-color:grey; color:white;}</style>\n",
       "<html><table>\n",
       "\t<tr id=\"HeaderRow\">\n",
       "\t\t<th>accounts</th>\n",
       "\t\t<th>Feb</th>\n",
       "\t\t<th>Jan</th>\n",
       "\t\t<th>Mar</th>\n",
       "\t\t<th>Apr</th>\n",
       "\t\t<th>datetime</th>\n",
       "\t\t<th>dates</th>\n",
       "\t\t<th>res</th>\n",
       "\t</tr>\n",
       "\t<tr>\n",
       "\t\t<td>Alpha Co</td>\n",
       "\t\t<td>210.0</td>\n",
       "\t\t<td>200</td>\n",
       "\t\t<td>215</td>\n",
       "\t\t<td>250</td>\n",
       "\t\t<td>04/01/2017</td>\n",
       "\t\t<td>17/07/14</td>\n",
       "\t\t<td>3</td>\n",
       "\t</tr>\n",
       "\t<tr>\n",
       "\t\t<td>Blue Inc</td>\n",
       "\t\t<td>90.0</td>\n",
       "\t\t<td>50</td>\n",
       "\t\t<td>95</td>\n",
       "\t\t<td>101</td>\n",
       "\t\t<td>04/01/2017</td>\n",
       "\t\t<td>17/03/01</td>\n",
       "\t\t<td>1</td>\n",
       "\t</tr>\n",
       "\t<tr>\n",
       "\t\t<td>Jones LLC</td>\n",
       "\t\t<td>200.0</td>\n",
       "\t\t<td>150</td>\n",
       "\t\t<td>140</td>\n",
       "\t\t<td>180</td>\n",
       "\t\t<td>04/01/2017</td>\n",
       "\t\t<td>18/03/20</td>\n",
       "\t\t<td>1</td>\n",
       "\t</tr>\n",
       "\t<tr>\n",
       "\t\t<td>Orange Inc</td>\n",
       "\t\t<td>210.0</td>\n",
       "\t\t<td>None</td>\n",
       "\t\t<td>None</td>\n",
       "\t\t<td>250</td>\n",
       "\t\t<td>04/01/2017</td>\n",
       "\t\t<td>18/02/03</td>\n",
       "\t\t<td>1</td>\n",
       "\t</tr>\n",
       "\t<tr>\n",
       "\t\t<td>Yellow Inc</td>\n",
       "\t\t<td>90.0</td>\n",
       "\t\t<td>None</td>\n",
       "\t\t<td>None</td>\n",
       "\t\t<td>None</td>\n",
       "\t\t<td>04/01/2017</td>\n",
       "\t\t<td>18/01/01</td>\n",
       "\t\t<td>1</td>\n",
       "\t</tr>\n",
       "\t<tr>\n",
       "\t\t<td>Red Inc</td>\n",
       "\t\t<td>200.0</td>\n",
       "\t\t<td>150</td>\n",
       "\t\t<td>140</td>\n",
       "\t\t<td>None</td>\n",
       "\t\t<td>04/01/2017</td>\n",
       "\t\t<td>17/08/25</td>\n",
       "\t\t<td>3</td>\n",
       "\t</tr>\n",
       "</table></html>"
      ],
      "text/plain": [
       "              Feb    Jan    Mar    Apr    datetime     dates  res\n",
       "accounts                                                         \n",
       "Alpha Co    210.0  200.0  215.0  250.0  04/01/2017  17/07/14    3\n",
       "Blue Inc     90.0   50.0   95.0  101.0  04/01/2017  17/03/01    1\n",
       "Jones LLC   200.0  150.0  140.0  180.0  04/01/2017  18/03/20    1\n",
       "Orange Inc  210.0    NaN    NaN  250.0  04/01/2017  18/02/03    1\n",
       "Yellow Inc   90.0    NaN    NaN    NaN  04/01/2017  18/01/01    1\n",
       "Red Inc     200.0  150.0  140.0    NaN  04/01/2017  17/08/25    3"
      ]
     },
     "metadata": {},
     "output_type": "display_data"
    },
    {
     "name": "stdout",
     "output_type": "stream",
     "text": [
      "\n",
      "\n",
      "\n",
      " ************************* DataFrame.dtypes ********************* \n"
     ]
    },
    {
     "data": {
      "text/html": [
       "<style type=\"text/css\">\n",
       "                                table {border:ridge 5px;}\n",
       "                                table td {border:inset 1px;}\n",
       "                                table tr#HeaderRow {background-color:grey; color:white;}\n",
       "                               </style>\n",
       "                               <html>\n",
       "                                  <table>\n",
       "                                    <tr id=\"HeaderRow\">\n",
       "                                        <th>COLUMN NAME</th>\n",
       "                                        <th>TYPE</th>\n",
       "                                    </tr>\n",
       "                                    <tr><td>accounts</td><td>str</td></tr>\n",
       "<tr><td>Feb</td><td>float</td></tr>\n",
       "<tr><td>Jan</td><td>int</td></tr>\n",
       "<tr><td>Mar</td><td>int</td></tr>\n",
       "<tr><td>Apr</td><td>int</td></tr>\n",
       "<tr><td>datetime</td><td>datetime.date</td></tr>\n",
       "<tr><td>dates</td><td>datetime.date</td></tr>\n",
       "<tr><td>res</td><td>int</td></tr>\n",
       "                                  </table>\n",
       "                               </html>\n",
       "                            "
      ],
      "text/plain": [
       "accounts              str\n",
       "Feb                 float\n",
       "Jan                   int\n",
       "Mar                   int\n",
       "Apr                   int\n",
       "datetime    datetime.date\n",
       "dates       datetime.date\n",
       "res                   int"
      ]
     },
     "metadata": {},
     "output_type": "display_data"
    },
    {
     "name": "stdout",
     "output_type": "stream",
     "text": [
      "\n",
      "\n",
      "\n"
     ]
    }
   ],
   "source": [
    "# Returns the number of quarters from the beginning of the year to the specified date or timestamp value in a column as a literal.\n",
    "\n",
    "df = df_sales.assign(res = df_sales.dates.quarter_of_year())\n",
    "print_variables(df)"
   ]
  },
  {
   "cell_type": "markdown",
   "id": "fcbb9672",
   "metadata": {},
   "source": [
    "### DataFrameColumn.day_of_calendar()"
   ]
  },
  {
   "cell_type": "code",
   "execution_count": 30,
   "id": "d092179c",
   "metadata": {},
   "outputs": [
    {
     "name": "stdout",
     "output_type": "stream",
     "text": [
      "Equivalent SQL: select accounts AS accounts, \"Feb\" AS \"Feb\", \"Jan\" AS \"Jan\", \"Mar\" AS \"Mar\", \"Apr\" AS \"Apr\", datetime AS datetime, dates AS dates, DayNumber_Of_Calendar(dates, 'Teradata') AS res from (select accounts AS accounts, \"Feb\" AS \"Feb\", \"Jan\" AS \"Jan\", \"Mar\" AS \"Mar\", \"Apr\" AS \"Apr\", datetime AS datetime, CASE WHEN (accounts = 'Alpha Co') THEN datetime + 191 WHEN (accounts = 'Blue Inc') THEN datetime + 56 WHEN (accounts = 'Jones LLC') THEN datetime + 440 WHEN (accounts = 'Orange Inc') THEN datetime + 395 WHEN (accounts = 'Yellow Inc') THEN datetime + 362 WHEN (accounts = 'Red Inc') THEN datetime + 233 END AS dates from \"sales\") as temp_table\n",
      "\n",
      "\n",
      " ************************* DataFrame ********************* \n"
     ]
    },
    {
     "data": {
      "text/html": [
       "<style type=\"text/css\">\n",
       "\ttable {border:ridge 5px;}\n",
       "\ttable td {border:inset 1px;}\n",
       "\ttable tr#HeaderRow {background-color:grey; color:white;}</style>\n",
       "<html><table>\n",
       "\t<tr id=\"HeaderRow\">\n",
       "\t\t<th>accounts</th>\n",
       "\t\t<th>Feb</th>\n",
       "\t\t<th>Jan</th>\n",
       "\t\t<th>Mar</th>\n",
       "\t\t<th>Apr</th>\n",
       "\t\t<th>datetime</th>\n",
       "\t\t<th>dates</th>\n",
       "\t\t<th>res</th>\n",
       "\t</tr>\n",
       "\t<tr>\n",
       "\t\t<td>Blue Inc</td>\n",
       "\t\t<td>90.0</td>\n",
       "\t\t<td>50</td>\n",
       "\t\t<td>95</td>\n",
       "\t\t<td>101</td>\n",
       "\t\t<td>04/01/2017</td>\n",
       "\t\t<td>17/03/01</td>\n",
       "\t\t<td>42794</td>\n",
       "\t</tr>\n",
       "\t<tr>\n",
       "\t\t<td>Red Inc</td>\n",
       "\t\t<td>200.0</td>\n",
       "\t\t<td>150</td>\n",
       "\t\t<td>140</td>\n",
       "\t\t<td>None</td>\n",
       "\t\t<td>04/01/2017</td>\n",
       "\t\t<td>17/08/25</td>\n",
       "\t\t<td>42971</td>\n",
       "\t</tr>\n",
       "\t<tr>\n",
       "\t\t<td>Yellow Inc</td>\n",
       "\t\t<td>90.0</td>\n",
       "\t\t<td>None</td>\n",
       "\t\t<td>None</td>\n",
       "\t\t<td>None</td>\n",
       "\t\t<td>04/01/2017</td>\n",
       "\t\t<td>18/01/01</td>\n",
       "\t\t<td>43100</td>\n",
       "\t</tr>\n",
       "\t<tr>\n",
       "\t\t<td>Jones LLC</td>\n",
       "\t\t<td>200.0</td>\n",
       "\t\t<td>150</td>\n",
       "\t\t<td>140</td>\n",
       "\t\t<td>180</td>\n",
       "\t\t<td>04/01/2017</td>\n",
       "\t\t<td>18/03/20</td>\n",
       "\t\t<td>43178</td>\n",
       "\t</tr>\n",
       "\t<tr>\n",
       "\t\t<td>Orange Inc</td>\n",
       "\t\t<td>210.0</td>\n",
       "\t\t<td>None</td>\n",
       "\t\t<td>None</td>\n",
       "\t\t<td>250</td>\n",
       "\t\t<td>04/01/2017</td>\n",
       "\t\t<td>18/02/03</td>\n",
       "\t\t<td>43133</td>\n",
       "\t</tr>\n",
       "\t<tr>\n",
       "\t\t<td>Alpha Co</td>\n",
       "\t\t<td>210.0</td>\n",
       "\t\t<td>200</td>\n",
       "\t\t<td>215</td>\n",
       "\t\t<td>250</td>\n",
       "\t\t<td>04/01/2017</td>\n",
       "\t\t<td>17/07/14</td>\n",
       "\t\t<td>42929</td>\n",
       "\t</tr>\n",
       "</table></html>"
      ],
      "text/plain": [
       "              Feb    Jan    Mar    Apr    datetime     dates    res\n",
       "accounts                                                           \n",
       "Blue Inc     90.0   50.0   95.0  101.0  04/01/2017  17/03/01  42794\n",
       "Red Inc     200.0  150.0  140.0    NaN  04/01/2017  17/08/25  42971\n",
       "Yellow Inc   90.0    NaN    NaN    NaN  04/01/2017  18/01/01  43100\n",
       "Jones LLC   200.0  150.0  140.0  180.0  04/01/2017  18/03/20  43178\n",
       "Orange Inc  210.0    NaN    NaN  250.0  04/01/2017  18/02/03  43133\n",
       "Alpha Co    210.0  200.0  215.0  250.0  04/01/2017  17/07/14  42929"
      ]
     },
     "metadata": {},
     "output_type": "display_data"
    },
    {
     "name": "stdout",
     "output_type": "stream",
     "text": [
      "\n",
      "\n",
      "\n",
      " ************************* DataFrame.dtypes ********************* \n"
     ]
    },
    {
     "data": {
      "text/html": [
       "<style type=\"text/css\">\n",
       "                                table {border:ridge 5px;}\n",
       "                                table td {border:inset 1px;}\n",
       "                                table tr#HeaderRow {background-color:grey; color:white;}\n",
       "                               </style>\n",
       "                               <html>\n",
       "                                  <table>\n",
       "                                    <tr id=\"HeaderRow\">\n",
       "                                        <th>COLUMN NAME</th>\n",
       "                                        <th>TYPE</th>\n",
       "                                    </tr>\n",
       "                                    <tr><td>accounts</td><td>str</td></tr>\n",
       "<tr><td>Feb</td><td>float</td></tr>\n",
       "<tr><td>Jan</td><td>int</td></tr>\n",
       "<tr><td>Mar</td><td>int</td></tr>\n",
       "<tr><td>Apr</td><td>int</td></tr>\n",
       "<tr><td>datetime</td><td>datetime.date</td></tr>\n",
       "<tr><td>dates</td><td>datetime.date</td></tr>\n",
       "<tr><td>res</td><td>int</td></tr>\n",
       "                                  </table>\n",
       "                               </html>\n",
       "                            "
      ],
      "text/plain": [
       "accounts              str\n",
       "Feb                 float\n",
       "Jan                   int\n",
       "Mar                   int\n",
       "Apr                   int\n",
       "datetime    datetime.date\n",
       "dates       datetime.date\n",
       "res                   int"
      ]
     },
     "metadata": {},
     "output_type": "display_data"
    },
    {
     "name": "stdout",
     "output_type": "stream",
     "text": [
      "\n",
      "\n",
      "\n"
     ]
    }
   ],
   "source": [
    "# Returns the number of days from the beginning of the business calendar to the specified date or timestamp value in a column as a literal.\n",
    "\n",
    "df = df_sales.assign(res = df_sales.dates.day_of_calendar())\n",
    "print_variables(df)"
   ]
  },
  {
   "cell_type": "markdown",
   "id": "706a963a",
   "metadata": {},
   "source": [
    "### DataFrameColumn.week_of_calendar()"
   ]
  },
  {
   "cell_type": "code",
   "execution_count": 31,
   "id": "958a7e78",
   "metadata": {},
   "outputs": [
    {
     "name": "stdout",
     "output_type": "stream",
     "text": [
      "Equivalent SQL: select accounts AS accounts, \"Feb\" AS \"Feb\", \"Jan\" AS \"Jan\", \"Mar\" AS \"Mar\", \"Apr\" AS \"Apr\", datetime AS datetime, dates AS dates, WeekNumber_Of_Calendar(dates, 'Teradata') AS res from (select accounts AS accounts, \"Feb\" AS \"Feb\", \"Jan\" AS \"Jan\", \"Mar\" AS \"Mar\", \"Apr\" AS \"Apr\", datetime AS datetime, CASE WHEN (accounts = 'Alpha Co') THEN datetime + 191 WHEN (accounts = 'Blue Inc') THEN datetime + 56 WHEN (accounts = 'Jones LLC') THEN datetime + 440 WHEN (accounts = 'Orange Inc') THEN datetime + 395 WHEN (accounts = 'Yellow Inc') THEN datetime + 362 WHEN (accounts = 'Red Inc') THEN datetime + 233 END AS dates from \"sales\") as temp_table\n",
      "\n",
      "\n",
      " ************************* DataFrame ********************* \n"
     ]
    },
    {
     "data": {
      "text/html": [
       "<style type=\"text/css\">\n",
       "\ttable {border:ridge 5px;}\n",
       "\ttable td {border:inset 1px;}\n",
       "\ttable tr#HeaderRow {background-color:grey; color:white;}</style>\n",
       "<html><table>\n",
       "\t<tr id=\"HeaderRow\">\n",
       "\t\t<th>accounts</th>\n",
       "\t\t<th>Feb</th>\n",
       "\t\t<th>Jan</th>\n",
       "\t\t<th>Mar</th>\n",
       "\t\t<th>Apr</th>\n",
       "\t\t<th>datetime</th>\n",
       "\t\t<th>dates</th>\n",
       "\t\t<th>res</th>\n",
       "\t</tr>\n",
       "\t<tr>\n",
       "\t\t<td>Blue Inc</td>\n",
       "\t\t<td>90.0</td>\n",
       "\t\t<td>50</td>\n",
       "\t\t<td>95</td>\n",
       "\t\t<td>101</td>\n",
       "\t\t<td>04/01/2017</td>\n",
       "\t\t<td>17/03/01</td>\n",
       "\t\t<td>6113</td>\n",
       "\t</tr>\n",
       "\t<tr>\n",
       "\t\t<td>Red Inc</td>\n",
       "\t\t<td>200.0</td>\n",
       "\t\t<td>150</td>\n",
       "\t\t<td>140</td>\n",
       "\t\t<td>None</td>\n",
       "\t\t<td>04/01/2017</td>\n",
       "\t\t<td>17/08/25</td>\n",
       "\t\t<td>6138</td>\n",
       "\t</tr>\n",
       "\t<tr>\n",
       "\t\t<td>Yellow Inc</td>\n",
       "\t\t<td>90.0</td>\n",
       "\t\t<td>None</td>\n",
       "\t\t<td>None</td>\n",
       "\t\t<td>None</td>\n",
       "\t\t<td>04/01/2017</td>\n",
       "\t\t<td>18/01/01</td>\n",
       "\t\t<td>6157</td>\n",
       "\t</tr>\n",
       "\t<tr>\n",
       "\t\t<td>Jones LLC</td>\n",
       "\t\t<td>200.0</td>\n",
       "\t\t<td>150</td>\n",
       "\t\t<td>140</td>\n",
       "\t\t<td>180</td>\n",
       "\t\t<td>04/01/2017</td>\n",
       "\t\t<td>18/03/20</td>\n",
       "\t\t<td>6168</td>\n",
       "\t</tr>\n",
       "\t<tr>\n",
       "\t\t<td>Orange Inc</td>\n",
       "\t\t<td>210.0</td>\n",
       "\t\t<td>None</td>\n",
       "\t\t<td>None</td>\n",
       "\t\t<td>250</td>\n",
       "\t\t<td>04/01/2017</td>\n",
       "\t\t<td>18/02/03</td>\n",
       "\t\t<td>6161</td>\n",
       "\t</tr>\n",
       "\t<tr>\n",
       "\t\t<td>Alpha Co</td>\n",
       "\t\t<td>210.0</td>\n",
       "\t\t<td>200</td>\n",
       "\t\t<td>215</td>\n",
       "\t\t<td>250</td>\n",
       "\t\t<td>04/01/2017</td>\n",
       "\t\t<td>17/07/14</td>\n",
       "\t\t<td>6132</td>\n",
       "\t</tr>\n",
       "</table></html>"
      ],
      "text/plain": [
       "              Feb    Jan    Mar    Apr    datetime     dates   res\n",
       "accounts                                                          \n",
       "Blue Inc     90.0   50.0   95.0  101.0  04/01/2017  17/03/01  6113\n",
       "Red Inc     200.0  150.0  140.0    NaN  04/01/2017  17/08/25  6138\n",
       "Yellow Inc   90.0    NaN    NaN    NaN  04/01/2017  18/01/01  6157\n",
       "Jones LLC   200.0  150.0  140.0  180.0  04/01/2017  18/03/20  6168\n",
       "Orange Inc  210.0    NaN    NaN  250.0  04/01/2017  18/02/03  6161\n",
       "Alpha Co    210.0  200.0  215.0  250.0  04/01/2017  17/07/14  6132"
      ]
     },
     "metadata": {},
     "output_type": "display_data"
    },
    {
     "name": "stdout",
     "output_type": "stream",
     "text": [
      "\n",
      "\n",
      "\n",
      " ************************* DataFrame.dtypes ********************* \n"
     ]
    },
    {
     "data": {
      "text/html": [
       "<style type=\"text/css\">\n",
       "                                table {border:ridge 5px;}\n",
       "                                table td {border:inset 1px;}\n",
       "                                table tr#HeaderRow {background-color:grey; color:white;}\n",
       "                               </style>\n",
       "                               <html>\n",
       "                                  <table>\n",
       "                                    <tr id=\"HeaderRow\">\n",
       "                                        <th>COLUMN NAME</th>\n",
       "                                        <th>TYPE</th>\n",
       "                                    </tr>\n",
       "                                    <tr><td>accounts</td><td>str</td></tr>\n",
       "<tr><td>Feb</td><td>float</td></tr>\n",
       "<tr><td>Jan</td><td>int</td></tr>\n",
       "<tr><td>Mar</td><td>int</td></tr>\n",
       "<tr><td>Apr</td><td>int</td></tr>\n",
       "<tr><td>datetime</td><td>datetime.date</td></tr>\n",
       "<tr><td>dates</td><td>datetime.date</td></tr>\n",
       "<tr><td>res</td><td>int</td></tr>\n",
       "                                  </table>\n",
       "                               </html>\n",
       "                            "
      ],
      "text/plain": [
       "accounts              str\n",
       "Feb                 float\n",
       "Jan                   int\n",
       "Mar                   int\n",
       "Apr                   int\n",
       "datetime    datetime.date\n",
       "dates       datetime.date\n",
       "res                   int"
      ]
     },
     "metadata": {},
     "output_type": "display_data"
    },
    {
     "name": "stdout",
     "output_type": "stream",
     "text": [
      "\n",
      "\n",
      "\n"
     ]
    }
   ],
   "source": [
    "# Returns the number of weeks from the beginning of the calendar to the specified date or timestamp value in a column as a literal.\n",
    "\n",
    "df = df_sales.assign(res = df_sales.dates.week_of_calendar())\n",
    "print_variables(df)"
   ]
  },
  {
   "cell_type": "markdown",
   "id": "073166f0",
   "metadata": {},
   "source": [
    "### DataFrameColumn.month_of_calendar()"
   ]
  },
  {
   "cell_type": "code",
   "execution_count": 32,
   "id": "c7ac24d2",
   "metadata": {},
   "outputs": [
    {
     "name": "stdout",
     "output_type": "stream",
     "text": [
      "Equivalent SQL: select accounts AS accounts, \"Feb\" AS \"Feb\", \"Jan\" AS \"Jan\", \"Mar\" AS \"Mar\", \"Apr\" AS \"Apr\", datetime AS datetime, dates AS dates, MonthNumber_Of_Calendar(dates, 'Teradata') AS res from (select accounts AS accounts, \"Feb\" AS \"Feb\", \"Jan\" AS \"Jan\", \"Mar\" AS \"Mar\", \"Apr\" AS \"Apr\", datetime AS datetime, CASE WHEN (accounts = 'Alpha Co') THEN datetime + 191 WHEN (accounts = 'Blue Inc') THEN datetime + 56 WHEN (accounts = 'Jones LLC') THEN datetime + 440 WHEN (accounts = 'Orange Inc') THEN datetime + 395 WHEN (accounts = 'Yellow Inc') THEN datetime + 362 WHEN (accounts = 'Red Inc') THEN datetime + 233 END AS dates from \"sales\") as temp_table\n",
      "\n",
      "\n",
      " ************************* DataFrame ********************* \n"
     ]
    },
    {
     "data": {
      "text/html": [
       "<style type=\"text/css\">\n",
       "\ttable {border:ridge 5px;}\n",
       "\ttable td {border:inset 1px;}\n",
       "\ttable tr#HeaderRow {background-color:grey; color:white;}</style>\n",
       "<html><table>\n",
       "\t<tr id=\"HeaderRow\">\n",
       "\t\t<th>accounts</th>\n",
       "\t\t<th>Feb</th>\n",
       "\t\t<th>Jan</th>\n",
       "\t\t<th>Mar</th>\n",
       "\t\t<th>Apr</th>\n",
       "\t\t<th>datetime</th>\n",
       "\t\t<th>dates</th>\n",
       "\t\t<th>res</th>\n",
       "\t</tr>\n",
       "\t<tr>\n",
       "\t\t<td>Blue Inc</td>\n",
       "\t\t<td>90.0</td>\n",
       "\t\t<td>50</td>\n",
       "\t\t<td>95</td>\n",
       "\t\t<td>101</td>\n",
       "\t\t<td>04/01/2017</td>\n",
       "\t\t<td>17/03/01</td>\n",
       "\t\t<td>1407</td>\n",
       "\t</tr>\n",
       "\t<tr>\n",
       "\t\t<td>Red Inc</td>\n",
       "\t\t<td>200.0</td>\n",
       "\t\t<td>150</td>\n",
       "\t\t<td>140</td>\n",
       "\t\t<td>None</td>\n",
       "\t\t<td>04/01/2017</td>\n",
       "\t\t<td>17/08/25</td>\n",
       "\t\t<td>1412</td>\n",
       "\t</tr>\n",
       "\t<tr>\n",
       "\t\t<td>Yellow Inc</td>\n",
       "\t\t<td>90.0</td>\n",
       "\t\t<td>None</td>\n",
       "\t\t<td>None</td>\n",
       "\t\t<td>None</td>\n",
       "\t\t<td>04/01/2017</td>\n",
       "\t\t<td>18/01/01</td>\n",
       "\t\t<td>1417</td>\n",
       "\t</tr>\n",
       "\t<tr>\n",
       "\t\t<td>Jones LLC</td>\n",
       "\t\t<td>200.0</td>\n",
       "\t\t<td>150</td>\n",
       "\t\t<td>140</td>\n",
       "\t\t<td>180</td>\n",
       "\t\t<td>04/01/2017</td>\n",
       "\t\t<td>18/03/20</td>\n",
       "\t\t<td>1419</td>\n",
       "\t</tr>\n",
       "\t<tr>\n",
       "\t\t<td>Orange Inc</td>\n",
       "\t\t<td>210.0</td>\n",
       "\t\t<td>None</td>\n",
       "\t\t<td>None</td>\n",
       "\t\t<td>250</td>\n",
       "\t\t<td>04/01/2017</td>\n",
       "\t\t<td>18/02/03</td>\n",
       "\t\t<td>1418</td>\n",
       "\t</tr>\n",
       "\t<tr>\n",
       "\t\t<td>Alpha Co</td>\n",
       "\t\t<td>210.0</td>\n",
       "\t\t<td>200</td>\n",
       "\t\t<td>215</td>\n",
       "\t\t<td>250</td>\n",
       "\t\t<td>04/01/2017</td>\n",
       "\t\t<td>17/07/14</td>\n",
       "\t\t<td>1411</td>\n",
       "\t</tr>\n",
       "</table></html>"
      ],
      "text/plain": [
       "              Feb    Jan    Mar    Apr    datetime     dates   res\n",
       "accounts                                                          \n",
       "Blue Inc     90.0   50.0   95.0  101.0  04/01/2017  17/03/01  1407\n",
       "Red Inc     200.0  150.0  140.0    NaN  04/01/2017  17/08/25  1412\n",
       "Yellow Inc   90.0    NaN    NaN    NaN  04/01/2017  18/01/01  1417\n",
       "Jones LLC   200.0  150.0  140.0  180.0  04/01/2017  18/03/20  1419\n",
       "Orange Inc  210.0    NaN    NaN  250.0  04/01/2017  18/02/03  1418\n",
       "Alpha Co    210.0  200.0  215.0  250.0  04/01/2017  17/07/14  1411"
      ]
     },
     "metadata": {},
     "output_type": "display_data"
    },
    {
     "name": "stdout",
     "output_type": "stream",
     "text": [
      "\n",
      "\n",
      "\n",
      " ************************* DataFrame.dtypes ********************* \n"
     ]
    },
    {
     "data": {
      "text/html": [
       "<style type=\"text/css\">\n",
       "                                table {border:ridge 5px;}\n",
       "                                table td {border:inset 1px;}\n",
       "                                table tr#HeaderRow {background-color:grey; color:white;}\n",
       "                               </style>\n",
       "                               <html>\n",
       "                                  <table>\n",
       "                                    <tr id=\"HeaderRow\">\n",
       "                                        <th>COLUMN NAME</th>\n",
       "                                        <th>TYPE</th>\n",
       "                                    </tr>\n",
       "                                    <tr><td>accounts</td><td>str</td></tr>\n",
       "<tr><td>Feb</td><td>float</td></tr>\n",
       "<tr><td>Jan</td><td>int</td></tr>\n",
       "<tr><td>Mar</td><td>int</td></tr>\n",
       "<tr><td>Apr</td><td>int</td></tr>\n",
       "<tr><td>datetime</td><td>datetime.date</td></tr>\n",
       "<tr><td>dates</td><td>datetime.date</td></tr>\n",
       "<tr><td>res</td><td>int</td></tr>\n",
       "                                  </table>\n",
       "                               </html>\n",
       "                            "
      ],
      "text/plain": [
       "accounts              str\n",
       "Feb                 float\n",
       "Jan                   int\n",
       "Mar                   int\n",
       "Apr                   int\n",
       "datetime    datetime.date\n",
       "dates       datetime.date\n",
       "res                   int"
      ]
     },
     "metadata": {},
     "output_type": "display_data"
    },
    {
     "name": "stdout",
     "output_type": "stream",
     "text": [
      "\n",
      "\n",
      "\n"
     ]
    }
   ],
   "source": [
    "# Returns the number of months from the beginning of the calendar to the specified date or timestamp value in a column as a literal.\n",
    "\n",
    "df = df_sales.assign(res = df_sales.dates.month_of_calendar())\n",
    "print_variables(df)"
   ]
  },
  {
   "cell_type": "markdown",
   "id": "4d83d067",
   "metadata": {},
   "source": [
    "### DataFrameColumn.quarter_of_calendar()"
   ]
  },
  {
   "cell_type": "code",
   "execution_count": 33,
   "id": "3d0a67e6",
   "metadata": {},
   "outputs": [
    {
     "name": "stdout",
     "output_type": "stream",
     "text": [
      "Equivalent SQL: select accounts AS accounts, \"Feb\" AS \"Feb\", \"Jan\" AS \"Jan\", \"Mar\" AS \"Mar\", \"Apr\" AS \"Apr\", datetime AS datetime, dates AS dates, QuarterNumber_Of_Calendar(dates, 'Teradata') AS res from (select accounts AS accounts, \"Feb\" AS \"Feb\", \"Jan\" AS \"Jan\", \"Mar\" AS \"Mar\", \"Apr\" AS \"Apr\", datetime AS datetime, CASE WHEN (accounts = 'Alpha Co') THEN datetime + 191 WHEN (accounts = 'Blue Inc') THEN datetime + 56 WHEN (accounts = 'Jones LLC') THEN datetime + 440 WHEN (accounts = 'Orange Inc') THEN datetime + 395 WHEN (accounts = 'Yellow Inc') THEN datetime + 362 WHEN (accounts = 'Red Inc') THEN datetime + 233 END AS dates from \"sales\") as temp_table\n",
      "\n",
      "\n",
      " ************************* DataFrame ********************* \n"
     ]
    },
    {
     "data": {
      "text/html": [
       "<style type=\"text/css\">\n",
       "\ttable {border:ridge 5px;}\n",
       "\ttable td {border:inset 1px;}\n",
       "\ttable tr#HeaderRow {background-color:grey; color:white;}</style>\n",
       "<html><table>\n",
       "\t<tr id=\"HeaderRow\">\n",
       "\t\t<th>accounts</th>\n",
       "\t\t<th>Feb</th>\n",
       "\t\t<th>Jan</th>\n",
       "\t\t<th>Mar</th>\n",
       "\t\t<th>Apr</th>\n",
       "\t\t<th>datetime</th>\n",
       "\t\t<th>dates</th>\n",
       "\t\t<th>res</th>\n",
       "\t</tr>\n",
       "\t<tr>\n",
       "\t\t<td>Alpha Co</td>\n",
       "\t\t<td>210.0</td>\n",
       "\t\t<td>200</td>\n",
       "\t\t<td>215</td>\n",
       "\t\t<td>250</td>\n",
       "\t\t<td>04/01/2017</td>\n",
       "\t\t<td>17/07/14</td>\n",
       "\t\t<td>471</td>\n",
       "\t</tr>\n",
       "\t<tr>\n",
       "\t\t<td>Blue Inc</td>\n",
       "\t\t<td>90.0</td>\n",
       "\t\t<td>50</td>\n",
       "\t\t<td>95</td>\n",
       "\t\t<td>101</td>\n",
       "\t\t<td>04/01/2017</td>\n",
       "\t\t<td>17/03/01</td>\n",
       "\t\t<td>469</td>\n",
       "\t</tr>\n",
       "\t<tr>\n",
       "\t\t<td>Jones LLC</td>\n",
       "\t\t<td>200.0</td>\n",
       "\t\t<td>150</td>\n",
       "\t\t<td>140</td>\n",
       "\t\t<td>180</td>\n",
       "\t\t<td>04/01/2017</td>\n",
       "\t\t<td>18/03/20</td>\n",
       "\t\t<td>473</td>\n",
       "\t</tr>\n",
       "\t<tr>\n",
       "\t\t<td>Orange Inc</td>\n",
       "\t\t<td>210.0</td>\n",
       "\t\t<td>None</td>\n",
       "\t\t<td>None</td>\n",
       "\t\t<td>250</td>\n",
       "\t\t<td>04/01/2017</td>\n",
       "\t\t<td>18/02/03</td>\n",
       "\t\t<td>473</td>\n",
       "\t</tr>\n",
       "\t<tr>\n",
       "\t\t<td>Yellow Inc</td>\n",
       "\t\t<td>90.0</td>\n",
       "\t\t<td>None</td>\n",
       "\t\t<td>None</td>\n",
       "\t\t<td>None</td>\n",
       "\t\t<td>04/01/2017</td>\n",
       "\t\t<td>18/01/01</td>\n",
       "\t\t<td>473</td>\n",
       "\t</tr>\n",
       "\t<tr>\n",
       "\t\t<td>Red Inc</td>\n",
       "\t\t<td>200.0</td>\n",
       "\t\t<td>150</td>\n",
       "\t\t<td>140</td>\n",
       "\t\t<td>None</td>\n",
       "\t\t<td>04/01/2017</td>\n",
       "\t\t<td>17/08/25</td>\n",
       "\t\t<td>471</td>\n",
       "\t</tr>\n",
       "</table></html>"
      ],
      "text/plain": [
       "              Feb    Jan    Mar    Apr    datetime     dates  res\n",
       "accounts                                                         \n",
       "Alpha Co    210.0  200.0  215.0  250.0  04/01/2017  17/07/14  471\n",
       "Blue Inc     90.0   50.0   95.0  101.0  04/01/2017  17/03/01  469\n",
       "Jones LLC   200.0  150.0  140.0  180.0  04/01/2017  18/03/20  473\n",
       "Orange Inc  210.0    NaN    NaN  250.0  04/01/2017  18/02/03  473\n",
       "Yellow Inc   90.0    NaN    NaN    NaN  04/01/2017  18/01/01  473\n",
       "Red Inc     200.0  150.0  140.0    NaN  04/01/2017  17/08/25  471"
      ]
     },
     "metadata": {},
     "output_type": "display_data"
    },
    {
     "name": "stdout",
     "output_type": "stream",
     "text": [
      "\n",
      "\n",
      "\n",
      " ************************* DataFrame.dtypes ********************* \n"
     ]
    },
    {
     "data": {
      "text/html": [
       "<style type=\"text/css\">\n",
       "                                table {border:ridge 5px;}\n",
       "                                table td {border:inset 1px;}\n",
       "                                table tr#HeaderRow {background-color:grey; color:white;}\n",
       "                               </style>\n",
       "                               <html>\n",
       "                                  <table>\n",
       "                                    <tr id=\"HeaderRow\">\n",
       "                                        <th>COLUMN NAME</th>\n",
       "                                        <th>TYPE</th>\n",
       "                                    </tr>\n",
       "                                    <tr><td>accounts</td><td>str</td></tr>\n",
       "<tr><td>Feb</td><td>float</td></tr>\n",
       "<tr><td>Jan</td><td>int</td></tr>\n",
       "<tr><td>Mar</td><td>int</td></tr>\n",
       "<tr><td>Apr</td><td>int</td></tr>\n",
       "<tr><td>datetime</td><td>datetime.date</td></tr>\n",
       "<tr><td>dates</td><td>datetime.date</td></tr>\n",
       "<tr><td>res</td><td>int</td></tr>\n",
       "                                  </table>\n",
       "                               </html>\n",
       "                            "
      ],
      "text/plain": [
       "accounts              str\n",
       "Feb                 float\n",
       "Jan                   int\n",
       "Mar                   int\n",
       "Apr                   int\n",
       "datetime    datetime.date\n",
       "dates       datetime.date\n",
       "res                   int"
      ]
     },
     "metadata": {},
     "output_type": "display_data"
    },
    {
     "name": "stdout",
     "output_type": "stream",
     "text": [
      "\n",
      "\n",
      "\n"
     ]
    }
   ],
   "source": [
    "# Returns the number of quarters from the beginning of the calendar to the specified date or timestamp value in a column as a literal.\n",
    "df = df_sales.assign(res = df_sales.dates.quarter_of_calendar())\n",
    "print_variables(df)"
   ]
  },
  {
   "cell_type": "markdown",
   "id": "00e025b9",
   "metadata": {},
   "source": [
    "### DataFrameColumn.year_of_calendar()"
   ]
  },
  {
   "cell_type": "code",
   "execution_count": 34,
   "id": "298ee1fe",
   "metadata": {},
   "outputs": [
    {
     "name": "stdout",
     "output_type": "stream",
     "text": [
      "Equivalent SQL: select accounts AS accounts, \"Feb\" AS \"Feb\", \"Jan\" AS \"Jan\", \"Mar\" AS \"Mar\", \"Apr\" AS \"Apr\", datetime AS datetime, dates AS dates, YearNumber_Of_Calendar(dates, 'Teradata') AS res from (select accounts AS accounts, \"Feb\" AS \"Feb\", \"Jan\" AS \"Jan\", \"Mar\" AS \"Mar\", \"Apr\" AS \"Apr\", datetime AS datetime, CASE WHEN (accounts = 'Alpha Co') THEN datetime + 191 WHEN (accounts = 'Blue Inc') THEN datetime + 56 WHEN (accounts = 'Jones LLC') THEN datetime + 440 WHEN (accounts = 'Orange Inc') THEN datetime + 395 WHEN (accounts = 'Yellow Inc') THEN datetime + 362 WHEN (accounts = 'Red Inc') THEN datetime + 233 END AS dates from \"sales\") as temp_table\n",
      "\n",
      "\n",
      " ************************* DataFrame ********************* \n"
     ]
    },
    {
     "data": {
      "text/html": [
       "<style type=\"text/css\">\n",
       "\ttable {border:ridge 5px;}\n",
       "\ttable td {border:inset 1px;}\n",
       "\ttable tr#HeaderRow {background-color:grey; color:white;}</style>\n",
       "<html><table>\n",
       "\t<tr id=\"HeaderRow\">\n",
       "\t\t<th>accounts</th>\n",
       "\t\t<th>Feb</th>\n",
       "\t\t<th>Jan</th>\n",
       "\t\t<th>Mar</th>\n",
       "\t\t<th>Apr</th>\n",
       "\t\t<th>datetime</th>\n",
       "\t\t<th>dates</th>\n",
       "\t\t<th>res</th>\n",
       "\t</tr>\n",
       "\t<tr>\n",
       "\t\t<td>Alpha Co</td>\n",
       "\t\t<td>210.0</td>\n",
       "\t\t<td>200</td>\n",
       "\t\t<td>215</td>\n",
       "\t\t<td>250</td>\n",
       "\t\t<td>04/01/2017</td>\n",
       "\t\t<td>17/07/14</td>\n",
       "\t\t<td>2017</td>\n",
       "\t</tr>\n",
       "\t<tr>\n",
       "\t\t<td>Blue Inc</td>\n",
       "\t\t<td>90.0</td>\n",
       "\t\t<td>50</td>\n",
       "\t\t<td>95</td>\n",
       "\t\t<td>101</td>\n",
       "\t\t<td>04/01/2017</td>\n",
       "\t\t<td>17/03/01</td>\n",
       "\t\t<td>2017</td>\n",
       "\t</tr>\n",
       "\t<tr>\n",
       "\t\t<td>Jones LLC</td>\n",
       "\t\t<td>200.0</td>\n",
       "\t\t<td>150</td>\n",
       "\t\t<td>140</td>\n",
       "\t\t<td>180</td>\n",
       "\t\t<td>04/01/2017</td>\n",
       "\t\t<td>18/03/20</td>\n",
       "\t\t<td>2018</td>\n",
       "\t</tr>\n",
       "\t<tr>\n",
       "\t\t<td>Orange Inc</td>\n",
       "\t\t<td>210.0</td>\n",
       "\t\t<td>None</td>\n",
       "\t\t<td>None</td>\n",
       "\t\t<td>250</td>\n",
       "\t\t<td>04/01/2017</td>\n",
       "\t\t<td>18/02/03</td>\n",
       "\t\t<td>2018</td>\n",
       "\t</tr>\n",
       "\t<tr>\n",
       "\t\t<td>Yellow Inc</td>\n",
       "\t\t<td>90.0</td>\n",
       "\t\t<td>None</td>\n",
       "\t\t<td>None</td>\n",
       "\t\t<td>None</td>\n",
       "\t\t<td>04/01/2017</td>\n",
       "\t\t<td>18/01/01</td>\n",
       "\t\t<td>2018</td>\n",
       "\t</tr>\n",
       "\t<tr>\n",
       "\t\t<td>Red Inc</td>\n",
       "\t\t<td>200.0</td>\n",
       "\t\t<td>150</td>\n",
       "\t\t<td>140</td>\n",
       "\t\t<td>None</td>\n",
       "\t\t<td>04/01/2017</td>\n",
       "\t\t<td>17/08/25</td>\n",
       "\t\t<td>2017</td>\n",
       "\t</tr>\n",
       "</table></html>"
      ],
      "text/plain": [
       "              Feb    Jan    Mar    Apr    datetime     dates   res\n",
       "accounts                                                          \n",
       "Alpha Co    210.0  200.0  215.0  250.0  04/01/2017  17/07/14  2017\n",
       "Blue Inc     90.0   50.0   95.0  101.0  04/01/2017  17/03/01  2017\n",
       "Jones LLC   200.0  150.0  140.0  180.0  04/01/2017  18/03/20  2018\n",
       "Orange Inc  210.0    NaN    NaN  250.0  04/01/2017  18/02/03  2018\n",
       "Yellow Inc   90.0    NaN    NaN    NaN  04/01/2017  18/01/01  2018\n",
       "Red Inc     200.0  150.0  140.0    NaN  04/01/2017  17/08/25  2017"
      ]
     },
     "metadata": {},
     "output_type": "display_data"
    },
    {
     "name": "stdout",
     "output_type": "stream",
     "text": [
      "\n",
      "\n",
      "\n",
      " ************************* DataFrame.dtypes ********************* \n"
     ]
    },
    {
     "data": {
      "text/html": [
       "<style type=\"text/css\">\n",
       "                                table {border:ridge 5px;}\n",
       "                                table td {border:inset 1px;}\n",
       "                                table tr#HeaderRow {background-color:grey; color:white;}\n",
       "                               </style>\n",
       "                               <html>\n",
       "                                  <table>\n",
       "                                    <tr id=\"HeaderRow\">\n",
       "                                        <th>COLUMN NAME</th>\n",
       "                                        <th>TYPE</th>\n",
       "                                    </tr>\n",
       "                                    <tr><td>accounts</td><td>str</td></tr>\n",
       "<tr><td>Feb</td><td>float</td></tr>\n",
       "<tr><td>Jan</td><td>int</td></tr>\n",
       "<tr><td>Mar</td><td>int</td></tr>\n",
       "<tr><td>Apr</td><td>int</td></tr>\n",
       "<tr><td>datetime</td><td>datetime.date</td></tr>\n",
       "<tr><td>dates</td><td>datetime.date</td></tr>\n",
       "<tr><td>res</td><td>int</td></tr>\n",
       "                                  </table>\n",
       "                               </html>\n",
       "                            "
      ],
      "text/plain": [
       "accounts              str\n",
       "Feb                 float\n",
       "Jan                   int\n",
       "Mar                   int\n",
       "Apr                   int\n",
       "datetime    datetime.date\n",
       "dates       datetime.date\n",
       "res                   int"
      ]
     },
     "metadata": {},
     "output_type": "display_data"
    },
    {
     "name": "stdout",
     "output_type": "stream",
     "text": [
      "\n",
      "\n",
      "\n"
     ]
    }
   ],
   "source": [
    "# Returns the year of the specified date or timestamp value in a column as a literal.\n",
    "\n",
    "df = df_sales.assign(res = df_sales.dates.year_of_calendar())\n",
    "print_variables(df)"
   ]
  },
  {
   "cell_type": "markdown",
   "id": "2746bb1d",
   "metadata": {},
   "source": [
    "### DataFrameColumn.week()"
   ]
  },
  {
   "cell_type": "code",
   "execution_count": 35,
   "id": "62fc1141",
   "metadata": {},
   "outputs": [
    {
     "name": "stdout",
     "output_type": "stream",
     "text": [
      "Equivalent SQL: select accounts AS accounts, \"Feb\" AS \"Feb\", \"Jan\" AS \"Jan\", \"Mar\" AS \"Mar\", \"Apr\" AS \"Apr\", datetime AS datetime, dates AS dates, week(dates) AS res from (select accounts AS accounts, \"Feb\" AS \"Feb\", \"Jan\" AS \"Jan\", \"Mar\" AS \"Mar\", \"Apr\" AS \"Apr\", datetime AS datetime, CASE WHEN (accounts = 'Alpha Co') THEN datetime + 191 WHEN (accounts = 'Blue Inc') THEN datetime + 56 WHEN (accounts = 'Jones LLC') THEN datetime + 440 WHEN (accounts = 'Orange Inc') THEN datetime + 395 WHEN (accounts = 'Yellow Inc') THEN datetime + 362 WHEN (accounts = 'Red Inc') THEN datetime + 233 END AS dates from \"sales\") as temp_table\n",
      "\n",
      "\n",
      " ************************* DataFrame ********************* \n"
     ]
    },
    {
     "data": {
      "text/html": [
       "<style type=\"text/css\">\n",
       "\ttable {border:ridge 5px;}\n",
       "\ttable td {border:inset 1px;}\n",
       "\ttable tr#HeaderRow {background-color:grey; color:white;}</style>\n",
       "<html><table>\n",
       "\t<tr id=\"HeaderRow\">\n",
       "\t\t<th>accounts</th>\n",
       "\t\t<th>Feb</th>\n",
       "\t\t<th>Jan</th>\n",
       "\t\t<th>Mar</th>\n",
       "\t\t<th>Apr</th>\n",
       "\t\t<th>datetime</th>\n",
       "\t\t<th>dates</th>\n",
       "\t\t<th>res</th>\n",
       "\t</tr>\n",
       "\t<tr>\n",
       "\t\t<td>Alpha Co</td>\n",
       "\t\t<td>210.0</td>\n",
       "\t\t<td>200</td>\n",
       "\t\t<td>215</td>\n",
       "\t\t<td>250</td>\n",
       "\t\t<td>04/01/2017</td>\n",
       "\t\t<td>17/07/14</td>\n",
       "\t\t<td>28</td>\n",
       "\t</tr>\n",
       "\t<tr>\n",
       "\t\t<td>Blue Inc</td>\n",
       "\t\t<td>90.0</td>\n",
       "\t\t<td>50</td>\n",
       "\t\t<td>95</td>\n",
       "\t\t<td>101</td>\n",
       "\t\t<td>04/01/2017</td>\n",
       "\t\t<td>17/03/01</td>\n",
       "\t\t<td>9</td>\n",
       "\t</tr>\n",
       "\t<tr>\n",
       "\t\t<td>Jones LLC</td>\n",
       "\t\t<td>200.0</td>\n",
       "\t\t<td>150</td>\n",
       "\t\t<td>140</td>\n",
       "\t\t<td>180</td>\n",
       "\t\t<td>04/01/2017</td>\n",
       "\t\t<td>18/03/20</td>\n",
       "\t\t<td>12</td>\n",
       "\t</tr>\n",
       "\t<tr>\n",
       "\t\t<td>Orange Inc</td>\n",
       "\t\t<td>210.0</td>\n",
       "\t\t<td>None</td>\n",
       "\t\t<td>None</td>\n",
       "\t\t<td>250</td>\n",
       "\t\t<td>04/01/2017</td>\n",
       "\t\t<td>18/02/03</td>\n",
       "\t\t<td>5</td>\n",
       "\t</tr>\n",
       "\t<tr>\n",
       "\t\t<td>Yellow Inc</td>\n",
       "\t\t<td>90.0</td>\n",
       "\t\t<td>None</td>\n",
       "\t\t<td>None</td>\n",
       "\t\t<td>None</td>\n",
       "\t\t<td>04/01/2017</td>\n",
       "\t\t<td>18/01/01</td>\n",
       "\t\t<td>1</td>\n",
       "\t</tr>\n",
       "\t<tr>\n",
       "\t\t<td>Red Inc</td>\n",
       "\t\t<td>200.0</td>\n",
       "\t\t<td>150</td>\n",
       "\t\t<td>140</td>\n",
       "\t\t<td>None</td>\n",
       "\t\t<td>04/01/2017</td>\n",
       "\t\t<td>17/08/25</td>\n",
       "\t\t<td>34</td>\n",
       "\t</tr>\n",
       "</table></html>"
      ],
      "text/plain": [
       "              Feb    Jan    Mar    Apr    datetime     dates  res\n",
       "accounts                                                         \n",
       "Alpha Co    210.0  200.0  215.0  250.0  04/01/2017  17/07/14   28\n",
       "Blue Inc     90.0   50.0   95.0  101.0  04/01/2017  17/03/01    9\n",
       "Jones LLC   200.0  150.0  140.0  180.0  04/01/2017  18/03/20   12\n",
       "Orange Inc  210.0    NaN    NaN  250.0  04/01/2017  18/02/03    5\n",
       "Yellow Inc   90.0    NaN    NaN    NaN  04/01/2017  18/01/01    1\n",
       "Red Inc     200.0  150.0  140.0    NaN  04/01/2017  17/08/25   34"
      ]
     },
     "metadata": {},
     "output_type": "display_data"
    },
    {
     "name": "stdout",
     "output_type": "stream",
     "text": [
      "\n",
      "\n",
      "\n",
      " ************************* DataFrame.dtypes ********************* \n"
     ]
    },
    {
     "data": {
      "text/html": [
       "<style type=\"text/css\">\n",
       "                                table {border:ridge 5px;}\n",
       "                                table td {border:inset 1px;}\n",
       "                                table tr#HeaderRow {background-color:grey; color:white;}\n",
       "                               </style>\n",
       "                               <html>\n",
       "                                  <table>\n",
       "                                    <tr id=\"HeaderRow\">\n",
       "                                        <th>COLUMN NAME</th>\n",
       "                                        <th>TYPE</th>\n",
       "                                    </tr>\n",
       "                                    <tr><td>accounts</td><td>str</td></tr>\n",
       "<tr><td>Feb</td><td>float</td></tr>\n",
       "<tr><td>Jan</td><td>int</td></tr>\n",
       "<tr><td>Mar</td><td>int</td></tr>\n",
       "<tr><td>Apr</td><td>int</td></tr>\n",
       "<tr><td>datetime</td><td>datetime.date</td></tr>\n",
       "<tr><td>dates</td><td>datetime.date</td></tr>\n",
       "<tr><td>res</td><td>int</td></tr>\n",
       "                                  </table>\n",
       "                               </html>\n",
       "                            "
      ],
      "text/plain": [
       "accounts              str\n",
       "Feb                 float\n",
       "Jan                   int\n",
       "Mar                   int\n",
       "Apr                   int\n",
       "datetime    datetime.date\n",
       "dates       datetime.date\n",
       "res                   int"
      ]
     },
     "metadata": {},
     "output_type": "display_data"
    },
    {
     "name": "stdout",
     "output_type": "stream",
     "text": [
      "\n",
      "\n",
      "\n"
     ]
    }
   ],
   "source": [
    "# Returns the number of weeks from the beginning of the year to the specified date or timestamp value in a column as a literal.\n",
    "\n",
    "df = df_sales.assign(res = df_sales.dates.week())\n",
    "print_variables(df)"
   ]
  },
  {
   "cell_type": "markdown",
   "id": "39e4ed2f",
   "metadata": {},
   "source": [
    "### DataFrameColumn.next_day()"
   ]
  },
  {
   "cell_type": "code",
   "execution_count": 36,
   "id": "e56d7f9e",
   "metadata": {},
   "outputs": [
    {
     "name": "stdout",
     "output_type": "stream",
     "text": [
      "Equivalent SQL: select accounts AS accounts, \"Feb\" AS \"Feb\", \"Jan\" AS \"Jan\", \"Mar\" AS \"Mar\", \"Apr\" AS \"Apr\", datetime AS datetime, dates AS dates, next_day(dates, 'SUNDAY') AS res from (select accounts AS accounts, \"Feb\" AS \"Feb\", \"Jan\" AS \"Jan\", \"Mar\" AS \"Mar\", \"Apr\" AS \"Apr\", datetime AS datetime, CASE WHEN (accounts = 'Alpha Co') THEN datetime + 191 WHEN (accounts = 'Blue Inc') THEN datetime + 56 WHEN (accounts = 'Jones LLC') THEN datetime + 440 WHEN (accounts = 'Orange Inc') THEN datetime + 395 WHEN (accounts = 'Yellow Inc') THEN datetime + 362 WHEN (accounts = 'Red Inc') THEN datetime + 233 END AS dates from \"sales\") as temp_table\n",
      "\n",
      "\n",
      " ************************* DataFrame ********************* \n"
     ]
    },
    {
     "data": {
      "text/html": [
       "<style type=\"text/css\">\n",
       "\ttable {border:ridge 5px;}\n",
       "\ttable td {border:inset 1px;}\n",
       "\ttable tr#HeaderRow {background-color:grey; color:white;}</style>\n",
       "<html><table>\n",
       "\t<tr id=\"HeaderRow\">\n",
       "\t\t<th>accounts</th>\n",
       "\t\t<th>Feb</th>\n",
       "\t\t<th>Jan</th>\n",
       "\t\t<th>Mar</th>\n",
       "\t\t<th>Apr</th>\n",
       "\t\t<th>datetime</th>\n",
       "\t\t<th>dates</th>\n",
       "\t\t<th>res</th>\n",
       "\t</tr>\n",
       "\t<tr>\n",
       "\t\t<td>Alpha Co</td>\n",
       "\t\t<td>210.0</td>\n",
       "\t\t<td>200</td>\n",
       "\t\t<td>215</td>\n",
       "\t\t<td>250</td>\n",
       "\t\t<td>04/01/2017</td>\n",
       "\t\t<td>17/07/14</td>\n",
       "\t\t<td>17/07/16</td>\n",
       "\t</tr>\n",
       "\t<tr>\n",
       "\t\t<td>Blue Inc</td>\n",
       "\t\t<td>90.0</td>\n",
       "\t\t<td>50</td>\n",
       "\t\t<td>95</td>\n",
       "\t\t<td>101</td>\n",
       "\t\t<td>04/01/2017</td>\n",
       "\t\t<td>17/03/01</td>\n",
       "\t\t<td>17/03/05</td>\n",
       "\t</tr>\n",
       "\t<tr>\n",
       "\t\t<td>Jones LLC</td>\n",
       "\t\t<td>200.0</td>\n",
       "\t\t<td>150</td>\n",
       "\t\t<td>140</td>\n",
       "\t\t<td>180</td>\n",
       "\t\t<td>04/01/2017</td>\n",
       "\t\t<td>18/03/20</td>\n",
       "\t\t<td>18/03/25</td>\n",
       "\t</tr>\n",
       "\t<tr>\n",
       "\t\t<td>Orange Inc</td>\n",
       "\t\t<td>210.0</td>\n",
       "\t\t<td>None</td>\n",
       "\t\t<td>None</td>\n",
       "\t\t<td>250</td>\n",
       "\t\t<td>04/01/2017</td>\n",
       "\t\t<td>18/02/03</td>\n",
       "\t\t<td>18/02/04</td>\n",
       "\t</tr>\n",
       "\t<tr>\n",
       "\t\t<td>Yellow Inc</td>\n",
       "\t\t<td>90.0</td>\n",
       "\t\t<td>None</td>\n",
       "\t\t<td>None</td>\n",
       "\t\t<td>None</td>\n",
       "\t\t<td>04/01/2017</td>\n",
       "\t\t<td>18/01/01</td>\n",
       "\t\t<td>18/01/07</td>\n",
       "\t</tr>\n",
       "\t<tr>\n",
       "\t\t<td>Red Inc</td>\n",
       "\t\t<td>200.0</td>\n",
       "\t\t<td>150</td>\n",
       "\t\t<td>140</td>\n",
       "\t\t<td>None</td>\n",
       "\t\t<td>04/01/2017</td>\n",
       "\t\t<td>17/08/25</td>\n",
       "\t\t<td>17/08/27</td>\n",
       "\t</tr>\n",
       "</table></html>"
      ],
      "text/plain": [
       "              Feb    Jan    Mar    Apr    datetime     dates       res\n",
       "accounts                                                              \n",
       "Alpha Co    210.0  200.0  215.0  250.0  04/01/2017  17/07/14  17/07/16\n",
       "Blue Inc     90.0   50.0   95.0  101.0  04/01/2017  17/03/01  17/03/05\n",
       "Jones LLC   200.0  150.0  140.0  180.0  04/01/2017  18/03/20  18/03/25\n",
       "Orange Inc  210.0    NaN    NaN  250.0  04/01/2017  18/02/03  18/02/04\n",
       "Yellow Inc   90.0    NaN    NaN    NaN  04/01/2017  18/01/01  18/01/07\n",
       "Red Inc     200.0  150.0  140.0    NaN  04/01/2017  17/08/25  17/08/27"
      ]
     },
     "metadata": {},
     "output_type": "display_data"
    },
    {
     "name": "stdout",
     "output_type": "stream",
     "text": [
      "\n",
      "\n",
      "\n",
      " ************************* DataFrame.dtypes ********************* \n"
     ]
    },
    {
     "data": {
      "text/html": [
       "<style type=\"text/css\">\n",
       "                                table {border:ridge 5px;}\n",
       "                                table td {border:inset 1px;}\n",
       "                                table tr#HeaderRow {background-color:grey; color:white;}\n",
       "                               </style>\n",
       "                               <html>\n",
       "                                  <table>\n",
       "                                    <tr id=\"HeaderRow\">\n",
       "                                        <th>COLUMN NAME</th>\n",
       "                                        <th>TYPE</th>\n",
       "                                    </tr>\n",
       "                                    <tr><td>accounts</td><td>str</td></tr>\n",
       "<tr><td>Feb</td><td>float</td></tr>\n",
       "<tr><td>Jan</td><td>int</td></tr>\n",
       "<tr><td>Mar</td><td>int</td></tr>\n",
       "<tr><td>Apr</td><td>int</td></tr>\n",
       "<tr><td>datetime</td><td>datetime.date</td></tr>\n",
       "<tr><td>dates</td><td>datetime.date</td></tr>\n",
       "<tr><td>res</td><td>datetime.date</td></tr>\n",
       "                                  </table>\n",
       "                               </html>\n",
       "                            "
      ],
      "text/plain": [
       "accounts              str\n",
       "Feb                 float\n",
       "Jan                   int\n",
       "Mar                   int\n",
       "Apr                   int\n",
       "datetime    datetime.date\n",
       "dates       datetime.date\n",
       "res         datetime.date"
      ]
     },
     "metadata": {},
     "output_type": "display_data"
    },
    {
     "name": "stdout",
     "output_type": "stream",
     "text": [
      "\n",
      "\n",
      "\n"
     ]
    }
   ],
   "source": [
    "# Returns the date of the first weekday specified as 'day_value' that is later than the specified date or timestamp value in a column as a literal.\n",
    "df = df_sales.assign(res = df_sales.dates.next_day(\"SUNDAY\"))\n",
    "print_variables(df)"
   ]
  },
  {
   "cell_type": "markdown",
   "id": "2977fade",
   "metadata": {},
   "source": [
    "### DataFrameColumn.months_between()"
   ]
  },
  {
   "cell_type": "code",
   "execution_count": 37,
   "id": "3108d72f",
   "metadata": {},
   "outputs": [
    {
     "name": "stdout",
     "output_type": "stream",
     "text": [
      "Equivalent SQL: select accounts AS accounts, \"Feb\" AS \"Feb\", \"Jan\" AS \"Jan\", \"Mar\" AS \"Mar\", \"Apr\" AS \"Apr\", datetime AS datetime, dates AS dates, months_between(dates, datetime) AS res from (select accounts AS accounts, \"Feb\" AS \"Feb\", \"Jan\" AS \"Jan\", \"Mar\" AS \"Mar\", \"Apr\" AS \"Apr\", datetime AS datetime, CASE WHEN (accounts = 'Alpha Co') THEN datetime + 191 WHEN (accounts = 'Blue Inc') THEN datetime + 56 WHEN (accounts = 'Jones LLC') THEN datetime + 440 WHEN (accounts = 'Orange Inc') THEN datetime + 395 WHEN (accounts = 'Yellow Inc') THEN datetime + 362 WHEN (accounts = 'Red Inc') THEN datetime + 233 END AS dates from \"sales\") as temp_table\n",
      "\n",
      "\n",
      " ************************* DataFrame ********************* \n"
     ]
    },
    {
     "data": {
      "text/html": [
       "<style type=\"text/css\">\n",
       "\ttable {border:ridge 5px;}\n",
       "\ttable td {border:inset 1px;}\n",
       "\ttable tr#HeaderRow {background-color:grey; color:white;}</style>\n",
       "<html><table>\n",
       "\t<tr id=\"HeaderRow\">\n",
       "\t\t<th>accounts</th>\n",
       "\t\t<th>Feb</th>\n",
       "\t\t<th>Jan</th>\n",
       "\t\t<th>Mar</th>\n",
       "\t\t<th>Apr</th>\n",
       "\t\t<th>datetime</th>\n",
       "\t\t<th>dates</th>\n",
       "\t\t<th>res</th>\n",
       "\t</tr>\n",
       "\t<tr>\n",
       "\t\t<td>Alpha Co</td>\n",
       "\t\t<td>210.0</td>\n",
       "\t\t<td>200</td>\n",
       "\t\t<td>215</td>\n",
       "\t\t<td>250</td>\n",
       "\t\t<td>04/01/2017</td>\n",
       "\t\t<td>17/07/14</td>\n",
       "\t\t<td>6.32258064516129032258064516129032258065</td>\n",
       "\t</tr>\n",
       "\t<tr>\n",
       "\t\t<td>Blue Inc</td>\n",
       "\t\t<td>90.0</td>\n",
       "\t\t<td>50</td>\n",
       "\t\t<td>95</td>\n",
       "\t\t<td>101</td>\n",
       "\t\t<td>04/01/2017</td>\n",
       "\t\t<td>17/03/01</td>\n",
       "\t\t<td>1.90322580645161290322580645161290322581</td>\n",
       "\t</tr>\n",
       "\t<tr>\n",
       "\t\t<td>Jones LLC</td>\n",
       "\t\t<td>200.0</td>\n",
       "\t\t<td>150</td>\n",
       "\t\t<td>140</td>\n",
       "\t\t<td>180</td>\n",
       "\t\t<td>04/01/2017</td>\n",
       "\t\t<td>18/03/20</td>\n",
       "\t\t<td>14.51612903225806451612903225806451612903</td>\n",
       "\t</tr>\n",
       "\t<tr>\n",
       "\t\t<td>Orange Inc</td>\n",
       "\t\t<td>210.0</td>\n",
       "\t\t<td>None</td>\n",
       "\t\t<td>None</td>\n",
       "\t\t<td>250</td>\n",
       "\t\t<td>04/01/2017</td>\n",
       "\t\t<td>18/02/03</td>\n",
       "\t\t<td>12.96774193548387096774193548387096774194</td>\n",
       "\t</tr>\n",
       "\t<tr>\n",
       "\t\t<td>Yellow Inc</td>\n",
       "\t\t<td>90.0</td>\n",
       "\t\t<td>None</td>\n",
       "\t\t<td>None</td>\n",
       "\t\t<td>None</td>\n",
       "\t\t<td>04/01/2017</td>\n",
       "\t\t<td>18/01/01</td>\n",
       "\t\t<td>11.90322580645161290322580645161290322581</td>\n",
       "\t</tr>\n",
       "\t<tr>\n",
       "\t\t<td>Red Inc</td>\n",
       "\t\t<td>200.0</td>\n",
       "\t\t<td>150</td>\n",
       "\t\t<td>140</td>\n",
       "\t\t<td>None</td>\n",
       "\t\t<td>04/01/2017</td>\n",
       "\t\t<td>17/08/25</td>\n",
       "\t\t<td>7.67741935483870967741935483870967741935</td>\n",
       "\t</tr>\n",
       "</table></html>"
      ],
      "text/plain": [
       "              Feb    Jan    Mar    Apr    datetime     dates        res\n",
       "accounts                                                               \n",
       "Alpha Co    210.0  200.0  215.0  250.0  04/01/2017  17/07/14   6.322581\n",
       "Blue Inc     90.0   50.0   95.0  101.0  04/01/2017  17/03/01   1.903226\n",
       "Jones LLC   200.0  150.0  140.0  180.0  04/01/2017  18/03/20  14.516129\n",
       "Orange Inc  210.0    NaN    NaN  250.0  04/01/2017  18/02/03  12.967742\n",
       "Yellow Inc   90.0    NaN    NaN    NaN  04/01/2017  18/01/01  11.903226\n",
       "Red Inc     200.0  150.0  140.0    NaN  04/01/2017  17/08/25   7.677419"
      ]
     },
     "metadata": {},
     "output_type": "display_data"
    },
    {
     "name": "stdout",
     "output_type": "stream",
     "text": [
      "\n",
      "\n",
      "\n",
      " ************************* DataFrame.dtypes ********************* \n"
     ]
    },
    {
     "data": {
      "text/html": [
       "<style type=\"text/css\">\n",
       "                                table {border:ridge 5px;}\n",
       "                                table td {border:inset 1px;}\n",
       "                                table tr#HeaderRow {background-color:grey; color:white;}\n",
       "                               </style>\n",
       "                               <html>\n",
       "                                  <table>\n",
       "                                    <tr id=\"HeaderRow\">\n",
       "                                        <th>COLUMN NAME</th>\n",
       "                                        <th>TYPE</th>\n",
       "                                    </tr>\n",
       "                                    <tr><td>accounts</td><td>str</td></tr>\n",
       "<tr><td>Feb</td><td>float</td></tr>\n",
       "<tr><td>Jan</td><td>int</td></tr>\n",
       "<tr><td>Mar</td><td>int</td></tr>\n",
       "<tr><td>Apr</td><td>int</td></tr>\n",
       "<tr><td>datetime</td><td>datetime.date</td></tr>\n",
       "<tr><td>dates</td><td>datetime.date</td></tr>\n",
       "<tr><td>res</td><td>int</td></tr>\n",
       "                                  </table>\n",
       "                               </html>\n",
       "                            "
      ],
      "text/plain": [
       "accounts              str\n",
       "Feb                 float\n",
       "Jan                   int\n",
       "Mar                   int\n",
       "Apr                   int\n",
       "datetime    datetime.date\n",
       "dates       datetime.date\n",
       "res                   int"
      ]
     },
     "metadata": {},
     "output_type": "display_data"
    },
    {
     "name": "stdout",
     "output_type": "stream",
     "text": [
      "\n",
      "\n",
      "\n"
     ]
    }
   ],
   "source": [
    "# Returns the number of months between value in specified date or timestamp value in a column as a literal and date or timestamp value in argument.\n",
    "# It returns an integer value only when the two dates are same else it returns the fractional portion of the result based on a 31-day month\n",
    "df = df_sales.assign(res = df_sales.dates.months_between(df_sales.datetime))\n",
    "print_variables(df)"
   ]
  },
  {
   "cell_type": "markdown",
   "id": "8302db2b",
   "metadata": {},
   "source": [
    "### DataFrameColumn.add_months()"
   ]
  },
  {
   "cell_type": "code",
   "execution_count": 38,
   "id": "d9ac3a91",
   "metadata": {},
   "outputs": [
    {
     "name": "stdout",
     "output_type": "stream",
     "text": [
      "Equivalent SQL: select accounts AS accounts, \"Feb\" AS \"Feb\", \"Jan\" AS \"Jan\", \"Mar\" AS \"Mar\", \"Apr\" AS \"Apr\", datetime AS datetime, dates AS dates, add_months(dates, 2) AS res from (select accounts AS accounts, \"Feb\" AS \"Feb\", \"Jan\" AS \"Jan\", \"Mar\" AS \"Mar\", \"Apr\" AS \"Apr\", datetime AS datetime, CASE WHEN (accounts = 'Alpha Co') THEN datetime + 191 WHEN (accounts = 'Blue Inc') THEN datetime + 56 WHEN (accounts = 'Jones LLC') THEN datetime + 440 WHEN (accounts = 'Orange Inc') THEN datetime + 395 WHEN (accounts = 'Yellow Inc') THEN datetime + 362 WHEN (accounts = 'Red Inc') THEN datetime + 233 END AS dates from \"sales\") as temp_table\n",
      "\n",
      "\n",
      " ************************* DataFrame ********************* \n"
     ]
    },
    {
     "data": {
      "text/html": [
       "<style type=\"text/css\">\n",
       "\ttable {border:ridge 5px;}\n",
       "\ttable td {border:inset 1px;}\n",
       "\ttable tr#HeaderRow {background-color:grey; color:white;}</style>\n",
       "<html><table>\n",
       "\t<tr id=\"HeaderRow\">\n",
       "\t\t<th>accounts</th>\n",
       "\t\t<th>Feb</th>\n",
       "\t\t<th>Jan</th>\n",
       "\t\t<th>Mar</th>\n",
       "\t\t<th>Apr</th>\n",
       "\t\t<th>datetime</th>\n",
       "\t\t<th>dates</th>\n",
       "\t\t<th>res</th>\n",
       "\t</tr>\n",
       "\t<tr>\n",
       "\t\t<td>Blue Inc</td>\n",
       "\t\t<td>90.0</td>\n",
       "\t\t<td>50</td>\n",
       "\t\t<td>95</td>\n",
       "\t\t<td>101</td>\n",
       "\t\t<td>04/01/2017</td>\n",
       "\t\t<td>17/03/01</td>\n",
       "\t\t<td>2017-05-01</td>\n",
       "\t</tr>\n",
       "\t<tr>\n",
       "\t\t<td>Red Inc</td>\n",
       "\t\t<td>200.0</td>\n",
       "\t\t<td>150</td>\n",
       "\t\t<td>140</td>\n",
       "\t\t<td>None</td>\n",
       "\t\t<td>04/01/2017</td>\n",
       "\t\t<td>17/08/25</td>\n",
       "\t\t<td>2017-10-25</td>\n",
       "\t</tr>\n",
       "\t<tr>\n",
       "\t\t<td>Yellow Inc</td>\n",
       "\t\t<td>90.0</td>\n",
       "\t\t<td>None</td>\n",
       "\t\t<td>None</td>\n",
       "\t\t<td>None</td>\n",
       "\t\t<td>04/01/2017</td>\n",
       "\t\t<td>18/01/01</td>\n",
       "\t\t<td>2018-03-01</td>\n",
       "\t</tr>\n",
       "\t<tr>\n",
       "\t\t<td>Jones LLC</td>\n",
       "\t\t<td>200.0</td>\n",
       "\t\t<td>150</td>\n",
       "\t\t<td>140</td>\n",
       "\t\t<td>180</td>\n",
       "\t\t<td>04/01/2017</td>\n",
       "\t\t<td>18/03/20</td>\n",
       "\t\t<td>2018-05-20</td>\n",
       "\t</tr>\n",
       "\t<tr>\n",
       "\t\t<td>Orange Inc</td>\n",
       "\t\t<td>210.0</td>\n",
       "\t\t<td>None</td>\n",
       "\t\t<td>None</td>\n",
       "\t\t<td>250</td>\n",
       "\t\t<td>04/01/2017</td>\n",
       "\t\t<td>18/02/03</td>\n",
       "\t\t<td>2018-04-03</td>\n",
       "\t</tr>\n",
       "\t<tr>\n",
       "\t\t<td>Alpha Co</td>\n",
       "\t\t<td>210.0</td>\n",
       "\t\t<td>200</td>\n",
       "\t\t<td>215</td>\n",
       "\t\t<td>250</td>\n",
       "\t\t<td>04/01/2017</td>\n",
       "\t\t<td>17/07/14</td>\n",
       "\t\t<td>2017-09-14</td>\n",
       "\t</tr>\n",
       "</table></html>"
      ],
      "text/plain": [
       "              Feb    Jan    Mar    Apr    datetime     dates         res\n",
       "accounts                                                                \n",
       "Blue Inc     90.0   50.0   95.0  101.0  04/01/2017  17/03/01  2017-05-01\n",
       "Red Inc     200.0  150.0  140.0    NaN  04/01/2017  17/08/25  2017-10-25\n",
       "Yellow Inc   90.0    NaN    NaN    NaN  04/01/2017  18/01/01  2018-03-01\n",
       "Jones LLC   200.0  150.0  140.0  180.0  04/01/2017  18/03/20  2018-05-20\n",
       "Orange Inc  210.0    NaN    NaN  250.0  04/01/2017  18/02/03  2018-04-03\n",
       "Alpha Co    210.0  200.0  215.0  250.0  04/01/2017  17/07/14  2017-09-14"
      ]
     },
     "metadata": {},
     "output_type": "display_data"
    },
    {
     "name": "stdout",
     "output_type": "stream",
     "text": [
      "\n",
      "\n",
      "\n",
      " ************************* DataFrame.dtypes ********************* \n"
     ]
    },
    {
     "data": {
      "text/html": [
       "<style type=\"text/css\">\n",
       "                                table {border:ridge 5px;}\n",
       "                                table td {border:inset 1px;}\n",
       "                                table tr#HeaderRow {background-color:grey; color:white;}\n",
       "                               </style>\n",
       "                               <html>\n",
       "                                  <table>\n",
       "                                    <tr id=\"HeaderRow\">\n",
       "                                        <th>COLUMN NAME</th>\n",
       "                                        <th>TYPE</th>\n",
       "                                    </tr>\n",
       "                                    <tr><td>accounts</td><td>str</td></tr>\n",
       "<tr><td>Feb</td><td>float</td></tr>\n",
       "<tr><td>Jan</td><td>int</td></tr>\n",
       "<tr><td>Mar</td><td>int</td></tr>\n",
       "<tr><td>Apr</td><td>int</td></tr>\n",
       "<tr><td>datetime</td><td>datetime.date</td></tr>\n",
       "<tr><td>dates</td><td>datetime.date</td></tr>\n",
       "<tr><td>res</td><td>datetime.date</td></tr>\n",
       "                                  </table>\n",
       "                               </html>\n",
       "                            "
      ],
      "text/plain": [
       "accounts              str\n",
       "Feb                 float\n",
       "Jan                   int\n",
       "Mar                   int\n",
       "Apr                   int\n",
       "datetime    datetime.date\n",
       "dates       datetime.date\n",
       "res         datetime.date"
      ]
     },
     "metadata": {},
     "output_type": "display_data"
    },
    {
     "name": "stdout",
     "output_type": "stream",
     "text": [
      "\n",
      "\n",
      "\n"
     ]
    }
   ],
   "source": [
    "# Adds an integer number of months to specified date or timestamp value in a column as a literal.\n",
    "\n",
    "df = df_sales.assign(res = df_sales.dates.add_months(2))\n",
    "print_variables(df)"
   ]
  },
  {
   "cell_type": "markdown",
   "id": "65a6f984",
   "metadata": {},
   "source": [
    "### DataFrameColumn.oadd_months()"
   ]
  },
  {
   "cell_type": "code",
   "execution_count": 39,
   "id": "a3421a2e",
   "metadata": {},
   "outputs": [
    {
     "name": "stdout",
     "output_type": "stream",
     "text": [
      "Equivalent SQL: select accounts AS accounts, \"Feb\" AS \"Feb\", \"Jan\" AS \"Jan\", \"Mar\" AS \"Mar\", \"Apr\" AS \"Apr\", datetime AS datetime, dates AS dates, oadd_months(dates, 3) AS res from (select accounts AS accounts, \"Feb\" AS \"Feb\", \"Jan\" AS \"Jan\", \"Mar\" AS \"Mar\", \"Apr\" AS \"Apr\", datetime AS datetime, CASE WHEN (accounts = 'Alpha Co') THEN datetime + 191 WHEN (accounts = 'Blue Inc') THEN datetime + 56 WHEN (accounts = 'Jones LLC') THEN datetime + 440 WHEN (accounts = 'Orange Inc') THEN datetime + 395 WHEN (accounts = 'Yellow Inc') THEN datetime + 362 WHEN (accounts = 'Red Inc') THEN datetime + 233 END AS dates from \"sales\") as temp_table\n",
      "\n",
      "\n",
      " ************************* DataFrame ********************* \n"
     ]
    },
    {
     "data": {
      "text/html": [
       "<style type=\"text/css\">\n",
       "\ttable {border:ridge 5px;}\n",
       "\ttable td {border:inset 1px;}\n",
       "\ttable tr#HeaderRow {background-color:grey; color:white;}</style>\n",
       "<html><table>\n",
       "\t<tr id=\"HeaderRow\">\n",
       "\t\t<th>accounts</th>\n",
       "\t\t<th>Feb</th>\n",
       "\t\t<th>Jan</th>\n",
       "\t\t<th>Mar</th>\n",
       "\t\t<th>Apr</th>\n",
       "\t\t<th>datetime</th>\n",
       "\t\t<th>dates</th>\n",
       "\t\t<th>res</th>\n",
       "\t</tr>\n",
       "\t<tr>\n",
       "\t\t<td>Alpha Co</td>\n",
       "\t\t<td>210.0</td>\n",
       "\t\t<td>200</td>\n",
       "\t\t<td>215</td>\n",
       "\t\t<td>250</td>\n",
       "\t\t<td>04/01/2017</td>\n",
       "\t\t<td>17/07/14</td>\n",
       "\t\t<td>17/10/14</td>\n",
       "\t</tr>\n",
       "\t<tr>\n",
       "\t\t<td>Blue Inc</td>\n",
       "\t\t<td>90.0</td>\n",
       "\t\t<td>50</td>\n",
       "\t\t<td>95</td>\n",
       "\t\t<td>101</td>\n",
       "\t\t<td>04/01/2017</td>\n",
       "\t\t<td>17/03/01</td>\n",
       "\t\t<td>17/06/01</td>\n",
       "\t</tr>\n",
       "\t<tr>\n",
       "\t\t<td>Jones LLC</td>\n",
       "\t\t<td>200.0</td>\n",
       "\t\t<td>150</td>\n",
       "\t\t<td>140</td>\n",
       "\t\t<td>180</td>\n",
       "\t\t<td>04/01/2017</td>\n",
       "\t\t<td>18/03/20</td>\n",
       "\t\t<td>18/06/20</td>\n",
       "\t</tr>\n",
       "\t<tr>\n",
       "\t\t<td>Orange Inc</td>\n",
       "\t\t<td>210.0</td>\n",
       "\t\t<td>None</td>\n",
       "\t\t<td>None</td>\n",
       "\t\t<td>250</td>\n",
       "\t\t<td>04/01/2017</td>\n",
       "\t\t<td>18/02/03</td>\n",
       "\t\t<td>18/05/03</td>\n",
       "\t</tr>\n",
       "\t<tr>\n",
       "\t\t<td>Yellow Inc</td>\n",
       "\t\t<td>90.0</td>\n",
       "\t\t<td>None</td>\n",
       "\t\t<td>None</td>\n",
       "\t\t<td>None</td>\n",
       "\t\t<td>04/01/2017</td>\n",
       "\t\t<td>18/01/01</td>\n",
       "\t\t<td>18/04/01</td>\n",
       "\t</tr>\n",
       "\t<tr>\n",
       "\t\t<td>Red Inc</td>\n",
       "\t\t<td>200.0</td>\n",
       "\t\t<td>150</td>\n",
       "\t\t<td>140</td>\n",
       "\t\t<td>None</td>\n",
       "\t\t<td>04/01/2017</td>\n",
       "\t\t<td>17/08/25</td>\n",
       "\t\t<td>17/11/25</td>\n",
       "\t</tr>\n",
       "</table></html>"
      ],
      "text/plain": [
       "              Feb    Jan    Mar    Apr    datetime     dates       res\n",
       "accounts                                                              \n",
       "Alpha Co    210.0  200.0  215.0  250.0  04/01/2017  17/07/14  17/10/14\n",
       "Blue Inc     90.0   50.0   95.0  101.0  04/01/2017  17/03/01  17/06/01\n",
       "Jones LLC   200.0  150.0  140.0  180.0  04/01/2017  18/03/20  18/06/20\n",
       "Orange Inc  210.0    NaN    NaN  250.0  04/01/2017  18/02/03  18/05/03\n",
       "Yellow Inc   90.0    NaN    NaN    NaN  04/01/2017  18/01/01  18/04/01\n",
       "Red Inc     200.0  150.0  140.0    NaN  04/01/2017  17/08/25  17/11/25"
      ]
     },
     "metadata": {},
     "output_type": "display_data"
    },
    {
     "name": "stdout",
     "output_type": "stream",
     "text": [
      "\n",
      "\n",
      "\n",
      " ************************* DataFrame.dtypes ********************* \n"
     ]
    },
    {
     "data": {
      "text/html": [
       "<style type=\"text/css\">\n",
       "                                table {border:ridge 5px;}\n",
       "                                table td {border:inset 1px;}\n",
       "                                table tr#HeaderRow {background-color:grey; color:white;}\n",
       "                               </style>\n",
       "                               <html>\n",
       "                                  <table>\n",
       "                                    <tr id=\"HeaderRow\">\n",
       "                                        <th>COLUMN NAME</th>\n",
       "                                        <th>TYPE</th>\n",
       "                                    </tr>\n",
       "                                    <tr><td>accounts</td><td>str</td></tr>\n",
       "<tr><td>Feb</td><td>float</td></tr>\n",
       "<tr><td>Jan</td><td>int</td></tr>\n",
       "<tr><td>Mar</td><td>int</td></tr>\n",
       "<tr><td>Apr</td><td>int</td></tr>\n",
       "<tr><td>datetime</td><td>datetime.date</td></tr>\n",
       "<tr><td>dates</td><td>datetime.date</td></tr>\n",
       "<tr><td>res</td><td>datetime.date</td></tr>\n",
       "                                  </table>\n",
       "                               </html>\n",
       "                            "
      ],
      "text/plain": [
       "accounts              str\n",
       "Feb                 float\n",
       "Jan                   int\n",
       "Mar                   int\n",
       "Apr                   int\n",
       "datetime    datetime.date\n",
       "dates       datetime.date\n",
       "res         datetime.date"
      ]
     },
     "metadata": {},
     "output_type": "display_data"
    },
    {
     "name": "stdout",
     "output_type": "stream",
     "text": [
      "\n",
      "\n",
      "\n"
     ]
    }
   ],
   "source": [
    "# Adds an integer number of months, date or timestamp value in specified date or timestamp value in a column as a literal.\n",
    "df = df_sales.assign(res = df_sales.dates.oadd_months(3))\n",
    "print_variables(df)"
   ]
  },
  {
   "cell_type": "markdown",
   "id": "c81d1d9a",
   "metadata": {},
   "source": [
    "### DataFrameColumn.year()"
   ]
  },
  {
   "cell_type": "code",
   "execution_count": 40,
   "id": "fcc3b2f8",
   "metadata": {},
   "outputs": [
    {
     "name": "stdout",
     "output_type": "stream",
     "text": [
      "Equivalent SQL: select accounts AS accounts, \"Feb\" AS \"Feb\", \"Jan\" AS \"Jan\", \"Mar\" AS \"Mar\", \"Apr\" AS \"Apr\", datetime AS datetime, dates AS dates, year(dates) AS res from (select accounts AS accounts, \"Feb\" AS \"Feb\", \"Jan\" AS \"Jan\", \"Mar\" AS \"Mar\", \"Apr\" AS \"Apr\", datetime AS datetime, CASE WHEN (accounts = 'Alpha Co') THEN datetime + 191 WHEN (accounts = 'Blue Inc') THEN datetime + 56 WHEN (accounts = 'Jones LLC') THEN datetime + 440 WHEN (accounts = 'Orange Inc') THEN datetime + 395 WHEN (accounts = 'Yellow Inc') THEN datetime + 362 WHEN (accounts = 'Red Inc') THEN datetime + 233 END AS dates from \"sales\") as temp_table\n",
      "\n",
      "\n",
      " ************************* DataFrame ********************* \n"
     ]
    },
    {
     "data": {
      "text/html": [
       "<style type=\"text/css\">\n",
       "\ttable {border:ridge 5px;}\n",
       "\ttable td {border:inset 1px;}\n",
       "\ttable tr#HeaderRow {background-color:grey; color:white;}</style>\n",
       "<html><table>\n",
       "\t<tr id=\"HeaderRow\">\n",
       "\t\t<th>accounts</th>\n",
       "\t\t<th>Feb</th>\n",
       "\t\t<th>Jan</th>\n",
       "\t\t<th>Mar</th>\n",
       "\t\t<th>Apr</th>\n",
       "\t\t<th>datetime</th>\n",
       "\t\t<th>dates</th>\n",
       "\t\t<th>res</th>\n",
       "\t</tr>\n",
       "\t<tr>\n",
       "\t\t<td>Blue Inc</td>\n",
       "\t\t<td>90.0</td>\n",
       "\t\t<td>50</td>\n",
       "\t\t<td>95</td>\n",
       "\t\t<td>101</td>\n",
       "\t\t<td>04/01/2017</td>\n",
       "\t\t<td>17/03/01</td>\n",
       "\t\t<td>2017</td>\n",
       "\t</tr>\n",
       "\t<tr>\n",
       "\t\t<td>Red Inc</td>\n",
       "\t\t<td>200.0</td>\n",
       "\t\t<td>150</td>\n",
       "\t\t<td>140</td>\n",
       "\t\t<td>None</td>\n",
       "\t\t<td>04/01/2017</td>\n",
       "\t\t<td>17/08/25</td>\n",
       "\t\t<td>2017</td>\n",
       "\t</tr>\n",
       "\t<tr>\n",
       "\t\t<td>Yellow Inc</td>\n",
       "\t\t<td>90.0</td>\n",
       "\t\t<td>None</td>\n",
       "\t\t<td>None</td>\n",
       "\t\t<td>None</td>\n",
       "\t\t<td>04/01/2017</td>\n",
       "\t\t<td>18/01/01</td>\n",
       "\t\t<td>2018</td>\n",
       "\t</tr>\n",
       "\t<tr>\n",
       "\t\t<td>Jones LLC</td>\n",
       "\t\t<td>200.0</td>\n",
       "\t\t<td>150</td>\n",
       "\t\t<td>140</td>\n",
       "\t\t<td>180</td>\n",
       "\t\t<td>04/01/2017</td>\n",
       "\t\t<td>18/03/20</td>\n",
       "\t\t<td>2018</td>\n",
       "\t</tr>\n",
       "\t<tr>\n",
       "\t\t<td>Orange Inc</td>\n",
       "\t\t<td>210.0</td>\n",
       "\t\t<td>None</td>\n",
       "\t\t<td>None</td>\n",
       "\t\t<td>250</td>\n",
       "\t\t<td>04/01/2017</td>\n",
       "\t\t<td>18/02/03</td>\n",
       "\t\t<td>2018</td>\n",
       "\t</tr>\n",
       "\t<tr>\n",
       "\t\t<td>Alpha Co</td>\n",
       "\t\t<td>210.0</td>\n",
       "\t\t<td>200</td>\n",
       "\t\t<td>215</td>\n",
       "\t\t<td>250</td>\n",
       "\t\t<td>04/01/2017</td>\n",
       "\t\t<td>17/07/14</td>\n",
       "\t\t<td>2017</td>\n",
       "\t</tr>\n",
       "</table></html>"
      ],
      "text/plain": [
       "              Feb    Jan    Mar    Apr    datetime     dates   res\n",
       "accounts                                                          \n",
       "Blue Inc     90.0   50.0   95.0  101.0  04/01/2017  17/03/01  2017\n",
       "Red Inc     200.0  150.0  140.0    NaN  04/01/2017  17/08/25  2017\n",
       "Yellow Inc   90.0    NaN    NaN    NaN  04/01/2017  18/01/01  2018\n",
       "Jones LLC   200.0  150.0  140.0  180.0  04/01/2017  18/03/20  2018\n",
       "Orange Inc  210.0    NaN    NaN  250.0  04/01/2017  18/02/03  2018\n",
       "Alpha Co    210.0  200.0  215.0  250.0  04/01/2017  17/07/14  2017"
      ]
     },
     "metadata": {},
     "output_type": "display_data"
    },
    {
     "name": "stdout",
     "output_type": "stream",
     "text": [
      "\n",
      "\n",
      "\n",
      " ************************* DataFrame.dtypes ********************* \n"
     ]
    },
    {
     "data": {
      "text/html": [
       "<style type=\"text/css\">\n",
       "                                table {border:ridge 5px;}\n",
       "                                table td {border:inset 1px;}\n",
       "                                table tr#HeaderRow {background-color:grey; color:white;}\n",
       "                               </style>\n",
       "                               <html>\n",
       "                                  <table>\n",
       "                                    <tr id=\"HeaderRow\">\n",
       "                                        <th>COLUMN NAME</th>\n",
       "                                        <th>TYPE</th>\n",
       "                                    </tr>\n",
       "                                    <tr><td>accounts</td><td>str</td></tr>\n",
       "<tr><td>Feb</td><td>float</td></tr>\n",
       "<tr><td>Jan</td><td>int</td></tr>\n",
       "<tr><td>Mar</td><td>int</td></tr>\n",
       "<tr><td>Apr</td><td>int</td></tr>\n",
       "<tr><td>datetime</td><td>datetime.date</td></tr>\n",
       "<tr><td>dates</td><td>datetime.date</td></tr>\n",
       "<tr><td>res</td><td>int</td></tr>\n",
       "                                  </table>\n",
       "                               </html>\n",
       "                            "
      ],
      "text/plain": [
       "accounts              str\n",
       "Feb                 float\n",
       "Jan                   int\n",
       "Mar                   int\n",
       "Apr                   int\n",
       "datetime    datetime.date\n",
       "dates       datetime.date\n",
       "res                   int"
      ]
     },
     "metadata": {},
     "output_type": "display_data"
    },
    {
     "name": "stdout",
     "output_type": "stream",
     "text": [
      "\n",
      "\n",
      "\n"
     ]
    }
   ],
   "source": [
    "# Returns the integer value for year in the specified date or timestamp value in a column as a literal.\n",
    "df = df_sales.assign(res = df_sales.dates.year())\n",
    "print_variables(df)"
   ]
  },
  {
   "cell_type": "markdown",
   "id": "e3276407",
   "metadata": {},
   "source": [
    "### DataFrameColumn.month()"
   ]
  },
  {
   "cell_type": "code",
   "execution_count": 41,
   "id": "3ce0066a",
   "metadata": {},
   "outputs": [
    {
     "name": "stdout",
     "output_type": "stream",
     "text": [
      "Equivalent SQL: select accounts AS accounts, \"Feb\" AS \"Feb\", \"Jan\" AS \"Jan\", \"Mar\" AS \"Mar\", \"Apr\" AS \"Apr\", datetime AS datetime, dates AS dates, month(dates) AS res from (select accounts AS accounts, \"Feb\" AS \"Feb\", \"Jan\" AS \"Jan\", \"Mar\" AS \"Mar\", \"Apr\" AS \"Apr\", datetime AS datetime, CASE WHEN (accounts = 'Alpha Co') THEN datetime + 191 WHEN (accounts = 'Blue Inc') THEN datetime + 56 WHEN (accounts = 'Jones LLC') THEN datetime + 440 WHEN (accounts = 'Orange Inc') THEN datetime + 395 WHEN (accounts = 'Yellow Inc') THEN datetime + 362 WHEN (accounts = 'Red Inc') THEN datetime + 233 END AS dates from \"sales\") as temp_table\n",
      "\n",
      "\n",
      " ************************* DataFrame ********************* \n"
     ]
    },
    {
     "data": {
      "text/html": [
       "<style type=\"text/css\">\n",
       "\ttable {border:ridge 5px;}\n",
       "\ttable td {border:inset 1px;}\n",
       "\ttable tr#HeaderRow {background-color:grey; color:white;}</style>\n",
       "<html><table>\n",
       "\t<tr id=\"HeaderRow\">\n",
       "\t\t<th>accounts</th>\n",
       "\t\t<th>Feb</th>\n",
       "\t\t<th>Jan</th>\n",
       "\t\t<th>Mar</th>\n",
       "\t\t<th>Apr</th>\n",
       "\t\t<th>datetime</th>\n",
       "\t\t<th>dates</th>\n",
       "\t\t<th>res</th>\n",
       "\t</tr>\n",
       "\t<tr>\n",
       "\t\t<td>Blue Inc</td>\n",
       "\t\t<td>90.0</td>\n",
       "\t\t<td>50</td>\n",
       "\t\t<td>95</td>\n",
       "\t\t<td>101</td>\n",
       "\t\t<td>04/01/2017</td>\n",
       "\t\t<td>17/03/01</td>\n",
       "\t\t<td>3</td>\n",
       "\t</tr>\n",
       "\t<tr>\n",
       "\t\t<td>Red Inc</td>\n",
       "\t\t<td>200.0</td>\n",
       "\t\t<td>150</td>\n",
       "\t\t<td>140</td>\n",
       "\t\t<td>None</td>\n",
       "\t\t<td>04/01/2017</td>\n",
       "\t\t<td>17/08/25</td>\n",
       "\t\t<td>8</td>\n",
       "\t</tr>\n",
       "\t<tr>\n",
       "\t\t<td>Yellow Inc</td>\n",
       "\t\t<td>90.0</td>\n",
       "\t\t<td>None</td>\n",
       "\t\t<td>None</td>\n",
       "\t\t<td>None</td>\n",
       "\t\t<td>04/01/2017</td>\n",
       "\t\t<td>18/01/01</td>\n",
       "\t\t<td>1</td>\n",
       "\t</tr>\n",
       "\t<tr>\n",
       "\t\t<td>Jones LLC</td>\n",
       "\t\t<td>200.0</td>\n",
       "\t\t<td>150</td>\n",
       "\t\t<td>140</td>\n",
       "\t\t<td>180</td>\n",
       "\t\t<td>04/01/2017</td>\n",
       "\t\t<td>18/03/20</td>\n",
       "\t\t<td>3</td>\n",
       "\t</tr>\n",
       "\t<tr>\n",
       "\t\t<td>Orange Inc</td>\n",
       "\t\t<td>210.0</td>\n",
       "\t\t<td>None</td>\n",
       "\t\t<td>None</td>\n",
       "\t\t<td>250</td>\n",
       "\t\t<td>04/01/2017</td>\n",
       "\t\t<td>18/02/03</td>\n",
       "\t\t<td>2</td>\n",
       "\t</tr>\n",
       "\t<tr>\n",
       "\t\t<td>Alpha Co</td>\n",
       "\t\t<td>210.0</td>\n",
       "\t\t<td>200</td>\n",
       "\t\t<td>215</td>\n",
       "\t\t<td>250</td>\n",
       "\t\t<td>04/01/2017</td>\n",
       "\t\t<td>17/07/14</td>\n",
       "\t\t<td>7</td>\n",
       "\t</tr>\n",
       "</table></html>"
      ],
      "text/plain": [
       "              Feb    Jan    Mar    Apr    datetime     dates  res\n",
       "accounts                                                         \n",
       "Blue Inc     90.0   50.0   95.0  101.0  04/01/2017  17/03/01    3\n",
       "Red Inc     200.0  150.0  140.0    NaN  04/01/2017  17/08/25    8\n",
       "Yellow Inc   90.0    NaN    NaN    NaN  04/01/2017  18/01/01    1\n",
       "Jones LLC   200.0  150.0  140.0  180.0  04/01/2017  18/03/20    3\n",
       "Orange Inc  210.0    NaN    NaN  250.0  04/01/2017  18/02/03    2\n",
       "Alpha Co    210.0  200.0  215.0  250.0  04/01/2017  17/07/14    7"
      ]
     },
     "metadata": {},
     "output_type": "display_data"
    },
    {
     "name": "stdout",
     "output_type": "stream",
     "text": [
      "\n",
      "\n",
      "\n",
      " ************************* DataFrame.dtypes ********************* \n"
     ]
    },
    {
     "data": {
      "text/html": [
       "<style type=\"text/css\">\n",
       "                                table {border:ridge 5px;}\n",
       "                                table td {border:inset 1px;}\n",
       "                                table tr#HeaderRow {background-color:grey; color:white;}\n",
       "                               </style>\n",
       "                               <html>\n",
       "                                  <table>\n",
       "                                    <tr id=\"HeaderRow\">\n",
       "                                        <th>COLUMN NAME</th>\n",
       "                                        <th>TYPE</th>\n",
       "                                    </tr>\n",
       "                                    <tr><td>accounts</td><td>str</td></tr>\n",
       "<tr><td>Feb</td><td>float</td></tr>\n",
       "<tr><td>Jan</td><td>int</td></tr>\n",
       "<tr><td>Mar</td><td>int</td></tr>\n",
       "<tr><td>Apr</td><td>int</td></tr>\n",
       "<tr><td>datetime</td><td>datetime.date</td></tr>\n",
       "<tr><td>dates</td><td>datetime.date</td></tr>\n",
       "<tr><td>res</td><td>int</td></tr>\n",
       "                                  </table>\n",
       "                               </html>\n",
       "                            "
      ],
      "text/plain": [
       "accounts              str\n",
       "Feb                 float\n",
       "Jan                   int\n",
       "Mar                   int\n",
       "Apr                   int\n",
       "datetime    datetime.date\n",
       "dates       datetime.date\n",
       "res                   int"
      ]
     },
     "metadata": {},
     "output_type": "display_data"
    },
    {
     "name": "stdout",
     "output_type": "stream",
     "text": [
      "\n",
      "\n",
      "\n"
     ]
    }
   ],
   "source": [
    "# Returns the integer value for months in the specified date or timestamp value in a column as a literal.\n",
    "df = df_sales.assign(res = df_sales.dates.month())\n",
    "print_variables(df)"
   ]
  },
  {
   "cell_type": "code",
   "execution_count": 42,
   "id": "8826b475",
   "metadata": {},
   "outputs": [
    {
     "name": "stdout",
     "output_type": "stream",
     "text": [
      "WARNING: Skipped loading table ocean_buoys since it already exists in the database.\n",
      "Equivalent SQL: select * from \"ocean_buoys\"\n",
      "\n",
      "\n",
      " ************************* DataFrame ********************* \n"
     ]
    },
    {
     "data": {
      "text/html": [
       "<style type=\"text/css\">\n",
       "\ttable {border:ridge 5px;}\n",
       "\ttable td {border:inset 1px;}\n",
       "\ttable tr#HeaderRow {background-color:grey; color:white;}</style>\n",
       "<html><table>\n",
       "\t<tr id=\"HeaderRow\">\n",
       "\t\t<th>TD_TIMECODE</th>\n",
       "\t\t<th>buoyid</th>\n",
       "\t\t<th>salinity</th>\n",
       "\t\t<th>temperature</th>\n",
       "\t</tr>\n",
       "\t<tr>\n",
       "\t\t<td>2014-01-06 09:02:25.122200</td>\n",
       "\t\t<td>1</td>\n",
       "\t\t<td>55</td>\n",
       "\t\t<td>78</td>\n",
       "\t</tr>\n",
       "\t<tr>\n",
       "\t\t<td>2014-01-06 09:03:25.122200</td>\n",
       "\t\t<td>1</td>\n",
       "\t\t<td>55</td>\n",
       "\t\t<td>79</td>\n",
       "\t</tr>\n",
       "\t<tr>\n",
       "\t\t<td>2014-01-06 09:03:25.122200</td>\n",
       "\t\t<td>1</td>\n",
       "\t\t<td>55</td>\n",
       "\t\t<td>72</td>\n",
       "\t</tr>\n",
       "\t<tr>\n",
       "\t\t<td>2014-01-06 08:00:00.000000</td>\n",
       "\t\t<td>0</td>\n",
       "\t\t<td>55</td>\n",
       "\t\t<td>10</td>\n",
       "\t</tr>\n",
       "\t<tr>\n",
       "\t\t<td>2014-01-06 08:09:59.999999</td>\n",
       "\t\t<td>0</td>\n",
       "\t\t<td>55</td>\n",
       "\t\t<td>99</td>\n",
       "\t</tr>\n",
       "\t<tr>\n",
       "\t\t<td>2014-01-06 08:10:00.000000</td>\n",
       "\t\t<td>0</td>\n",
       "\t\t<td>55</td>\n",
       "\t\t<td>10</td>\n",
       "\t</tr>\n",
       "\t<tr>\n",
       "\t\t<td>2014-01-06 08:10:00.000000</td>\n",
       "\t\t<td>0</td>\n",
       "\t\t<td>55</td>\n",
       "\t\t<td>100</td>\n",
       "\t</tr>\n",
       "\t<tr>\n",
       "\t\t<td>2014-01-06 10:00:24.000000</td>\n",
       "\t\t<td>44</td>\n",
       "\t\t<td>55</td>\n",
       "\t\t<td>43</td>\n",
       "\t</tr>\n",
       "\t<tr>\n",
       "\t\t<td>2014-01-06 10:00:24.333300</td>\n",
       "\t\t<td>44</td>\n",
       "\t\t<td>55</td>\n",
       "\t\t<td>43</td>\n",
       "\t</tr>\n",
       "\t<tr>\n",
       "\t\t<td>2014-01-06 10:00:25.122200</td>\n",
       "\t\t<td>44</td>\n",
       "\t\t<td>55</td>\n",
       "\t\t<td>43</td>\n",
       "\t</tr>\n",
       "</table></html>"
      ],
      "text/plain": [
       "                       TD_TIMECODE  salinity  temperature\n",
       "buoyid                                                   \n",
       "1       2014-01-06 09:02:25.122200        55           78\n",
       "1       2014-01-06 09:03:25.122200        55           79\n",
       "1       2014-01-06 09:03:25.122200        55           72\n",
       "0       2014-01-06 08:00:00.000000        55           10\n",
       "0       2014-01-06 08:09:59.999999        55           99\n",
       "0       2014-01-06 08:10:00.000000        55           10\n",
       "0       2014-01-06 08:10:00.000000        55          100\n",
       "44      2014-01-06 10:00:24.000000        55           43\n",
       "44      2014-01-06 10:00:24.333300        55           43\n",
       "44      2014-01-06 10:00:25.122200        55           43"
      ]
     },
     "metadata": {},
     "output_type": "display_data"
    },
    {
     "name": "stdout",
     "output_type": "stream",
     "text": [
      "\n",
      "\n",
      "\n",
      " ************************* DataFrame.dtypes ********************* \n"
     ]
    },
    {
     "data": {
      "text/html": [
       "<style type=\"text/css\">\n",
       "                                table {border:ridge 5px;}\n",
       "                                table td {border:inset 1px;}\n",
       "                                table tr#HeaderRow {background-color:grey; color:white;}\n",
       "                               </style>\n",
       "                               <html>\n",
       "                                  <table>\n",
       "                                    <tr id=\"HeaderRow\">\n",
       "                                        <th>COLUMN NAME</th>\n",
       "                                        <th>TYPE</th>\n",
       "                                    </tr>\n",
       "                                    <tr><td>TD_TIMECODE</td><td>datetime.datetime</td></tr>\n",
       "<tr><td>buoyid</td><td>int</td></tr>\n",
       "<tr><td>salinity</td><td>int</td></tr>\n",
       "<tr><td>temperature</td><td>int</td></tr>\n",
       "                                  </table>\n",
       "                               </html>\n",
       "                            "
      ],
      "text/plain": [
       "TD_TIMECODE    datetime.datetime\n",
       "buoyid                       int\n",
       "salinity                     int\n",
       "temperature                  int"
      ]
     },
     "metadata": {},
     "output_type": "display_data"
    },
    {
     "name": "stdout",
     "output_type": "stream",
     "text": [
      "\n",
      "\n",
      "\n"
     ]
    }
   ],
   "source": [
    "# Loading another dataset for timestamp related functions.\n",
    "load_example_data(\"dataframe\", [\"ocean_buoys\"])\n",
    "ocean_df = DataFrame.from_table('ocean_buoys')\n",
    "print_variables(ocean_df)"
   ]
  },
  {
   "cell_type": "markdown",
   "id": "66f793ed",
   "metadata": {},
   "source": [
    "### DataFrameColumn.hour()"
   ]
  },
  {
   "cell_type": "code",
   "execution_count": 43,
   "id": "7a0ff97b",
   "metadata": {},
   "outputs": [
    {
     "name": "stdout",
     "output_type": "stream",
     "text": [
      "Equivalent SQL: select \"TD_TIMECODE\" AS \"TD_TIMECODE\", buoyid AS buoyid, salinity AS salinity, temperature AS temperature, hour(\"TD_TIMECODE\") AS res from \"ocean_buoys\"\n",
      "\n",
      "\n",
      " ************************* DataFrame ********************* \n"
     ]
    },
    {
     "data": {
      "text/html": [
       "<style type=\"text/css\">\n",
       "\ttable {border:ridge 5px;}\n",
       "\ttable td {border:inset 1px;}\n",
       "\ttable tr#HeaderRow {background-color:grey; color:white;}</style>\n",
       "<html><table>\n",
       "\t<tr id=\"HeaderRow\">\n",
       "\t\t<th>TD_TIMECODE</th>\n",
       "\t\t<th>buoyid</th>\n",
       "\t\t<th>salinity</th>\n",
       "\t\t<th>temperature</th>\n",
       "\t\t<th>res</th>\n",
       "\t</tr>\n",
       "\t<tr>\n",
       "\t\t<td>2014-01-06 09:02:25.122200</td>\n",
       "\t\t<td>1</td>\n",
       "\t\t<td>55</td>\n",
       "\t\t<td>78</td>\n",
       "\t\t<td>9</td>\n",
       "\t</tr>\n",
       "\t<tr>\n",
       "\t\t<td>2014-01-06 09:03:25.122200</td>\n",
       "\t\t<td>1</td>\n",
       "\t\t<td>55</td>\n",
       "\t\t<td>79</td>\n",
       "\t\t<td>9</td>\n",
       "\t</tr>\n",
       "\t<tr>\n",
       "\t\t<td>2014-01-06 09:03:25.122200</td>\n",
       "\t\t<td>1</td>\n",
       "\t\t<td>55</td>\n",
       "\t\t<td>72</td>\n",
       "\t\t<td>9</td>\n",
       "\t</tr>\n",
       "\t<tr>\n",
       "\t\t<td>2014-01-06 08:00:00.000000</td>\n",
       "\t\t<td>0</td>\n",
       "\t\t<td>55</td>\n",
       "\t\t<td>10</td>\n",
       "\t\t<td>8</td>\n",
       "\t</tr>\n",
       "\t<tr>\n",
       "\t\t<td>2014-01-06 08:09:59.999999</td>\n",
       "\t\t<td>0</td>\n",
       "\t\t<td>55</td>\n",
       "\t\t<td>99</td>\n",
       "\t\t<td>8</td>\n",
       "\t</tr>\n",
       "\t<tr>\n",
       "\t\t<td>2014-01-06 08:10:00.000000</td>\n",
       "\t\t<td>0</td>\n",
       "\t\t<td>55</td>\n",
       "\t\t<td>10</td>\n",
       "\t\t<td>8</td>\n",
       "\t</tr>\n",
       "\t<tr>\n",
       "\t\t<td>2014-01-06 08:10:00.000000</td>\n",
       "\t\t<td>0</td>\n",
       "\t\t<td>55</td>\n",
       "\t\t<td>100</td>\n",
       "\t\t<td>8</td>\n",
       "\t</tr>\n",
       "\t<tr>\n",
       "\t\t<td>2014-01-06 10:00:24.000000</td>\n",
       "\t\t<td>44</td>\n",
       "\t\t<td>55</td>\n",
       "\t\t<td>43</td>\n",
       "\t\t<td>10</td>\n",
       "\t</tr>\n",
       "\t<tr>\n",
       "\t\t<td>2014-01-06 10:00:24.333300</td>\n",
       "\t\t<td>44</td>\n",
       "\t\t<td>55</td>\n",
       "\t\t<td>43</td>\n",
       "\t\t<td>10</td>\n",
       "\t</tr>\n",
       "\t<tr>\n",
       "\t\t<td>2014-01-06 10:00:25.122200</td>\n",
       "\t\t<td>44</td>\n",
       "\t\t<td>55</td>\n",
       "\t\t<td>43</td>\n",
       "\t\t<td>10</td>\n",
       "\t</tr>\n",
       "</table></html>"
      ],
      "text/plain": [
       "                       TD_TIMECODE  salinity  temperature  res\n",
       "buoyid                                                        \n",
       "1       2014-01-06 09:02:25.122200        55           78    9\n",
       "1       2014-01-06 09:03:25.122200        55           79    9\n",
       "1       2014-01-06 09:03:25.122200        55           72    9\n",
       "0       2014-01-06 08:00:00.000000        55           10    8\n",
       "0       2014-01-06 08:09:59.999999        55           99    8\n",
       "0       2014-01-06 08:10:00.000000        55           10    8\n",
       "0       2014-01-06 08:10:00.000000        55          100    8\n",
       "44      2014-01-06 10:00:24.000000        55           43   10\n",
       "44      2014-01-06 10:00:24.333300        55           43   10\n",
       "44      2014-01-06 10:00:25.122200        55           43   10"
      ]
     },
     "metadata": {},
     "output_type": "display_data"
    },
    {
     "name": "stdout",
     "output_type": "stream",
     "text": [
      "\n",
      "\n",
      "\n",
      " ************************* DataFrame.dtypes ********************* \n"
     ]
    },
    {
     "data": {
      "text/html": [
       "<style type=\"text/css\">\n",
       "                                table {border:ridge 5px;}\n",
       "                                table td {border:inset 1px;}\n",
       "                                table tr#HeaderRow {background-color:grey; color:white;}\n",
       "                               </style>\n",
       "                               <html>\n",
       "                                  <table>\n",
       "                                    <tr id=\"HeaderRow\">\n",
       "                                        <th>COLUMN NAME</th>\n",
       "                                        <th>TYPE</th>\n",
       "                                    </tr>\n",
       "                                    <tr><td>TD_TIMECODE</td><td>datetime.datetime</td></tr>\n",
       "<tr><td>buoyid</td><td>int</td></tr>\n",
       "<tr><td>salinity</td><td>int</td></tr>\n",
       "<tr><td>temperature</td><td>int</td></tr>\n",
       "<tr><td>res</td><td>int</td></tr>\n",
       "                                  </table>\n",
       "                               </html>\n",
       "                            "
      ],
      "text/plain": [
       "TD_TIMECODE    datetime.datetime\n",
       "buoyid                       int\n",
       "salinity                     int\n",
       "temperature                  int\n",
       "res                          int"
      ]
     },
     "metadata": {},
     "output_type": "display_data"
    },
    {
     "name": "stdout",
     "output_type": "stream",
     "text": [
      "\n",
      "\n",
      "\n"
     ]
    }
   ],
   "source": [
    "# Returns the integer value for hour in the specified timestamp value in a column as a literal.\n",
    "res_df = ocean_df.assign(res = ocean_df.TD_TIMECODE.hour())\n",
    "print_variables(res_df)"
   ]
  },
  {
   "cell_type": "markdown",
   "id": "2ae16450",
   "metadata": {},
   "source": [
    "### DataFrameColumn.minute()"
   ]
  },
  {
   "cell_type": "code",
   "execution_count": 44,
   "id": "e94a31f0",
   "metadata": {},
   "outputs": [
    {
     "name": "stdout",
     "output_type": "stream",
     "text": [
      "Equivalent SQL: select \"TD_TIMECODE\" AS \"TD_TIMECODE\", buoyid AS buoyid, salinity AS salinity, temperature AS temperature, minute(\"TD_TIMECODE\") AS res from \"ocean_buoys\"\n",
      "\n",
      "\n",
      " ************************* DataFrame ********************* \n"
     ]
    },
    {
     "data": {
      "text/html": [
       "<style type=\"text/css\">\n",
       "\ttable {border:ridge 5px;}\n",
       "\ttable td {border:inset 1px;}\n",
       "\ttable tr#HeaderRow {background-color:grey; color:white;}</style>\n",
       "<html><table>\n",
       "\t<tr id=\"HeaderRow\">\n",
       "\t\t<th>TD_TIMECODE</th>\n",
       "\t\t<th>buoyid</th>\n",
       "\t\t<th>salinity</th>\n",
       "\t\t<th>temperature</th>\n",
       "\t\t<th>res</th>\n",
       "\t</tr>\n",
       "\t<tr>\n",
       "\t\t<td>2014-01-06 08:09:59.999999</td>\n",
       "\t\t<td>0</td>\n",
       "\t\t<td>55</td>\n",
       "\t\t<td>99</td>\n",
       "\t\t<td>9</td>\n",
       "\t</tr>\n",
       "\t<tr>\n",
       "\t\t<td>2014-01-06 08:10:00.000000</td>\n",
       "\t\t<td>0</td>\n",
       "\t\t<td>55</td>\n",
       "\t\t<td>100</td>\n",
       "\t\t<td>10</td>\n",
       "\t</tr>\n",
       "\t<tr>\n",
       "\t\t<td>2014-01-06 10:00:24.000000</td>\n",
       "\t\t<td>44</td>\n",
       "\t\t<td>55</td>\n",
       "\t\t<td>43</td>\n",
       "\t\t<td>0</td>\n",
       "\t</tr>\n",
       "\t<tr>\n",
       "\t\t<td>2014-01-06 10:00:24.333300</td>\n",
       "\t\t<td>44</td>\n",
       "\t\t<td>55</td>\n",
       "\t\t<td>43</td>\n",
       "\t\t<td>0</td>\n",
       "\t</tr>\n",
       "\t<tr>\n",
       "\t\t<td>2014-01-06 10:00:26.122200</td>\n",
       "\t\t<td>44</td>\n",
       "\t\t<td>55</td>\n",
       "\t\t<td>43</td>\n",
       "\t\t<td>0</td>\n",
       "\t</tr>\n",
       "\t<tr>\n",
       "\t\t<td>2014-01-06 10:01:25.122200</td>\n",
       "\t\t<td>44</td>\n",
       "\t\t<td>55</td>\n",
       "\t\t<td>53</td>\n",
       "\t\t<td>1</td>\n",
       "\t</tr>\n",
       "\t<tr>\n",
       "\t\t<td>2014-01-06 09:01:25.122200</td>\n",
       "\t\t<td>1</td>\n",
       "\t\t<td>55</td>\n",
       "\t\t<td>77</td>\n",
       "\t\t<td>1</td>\n",
       "\t</tr>\n",
       "\t<tr>\n",
       "\t\t<td>2014-01-06 09:01:25.122200</td>\n",
       "\t\t<td>1</td>\n",
       "\t\t<td>55</td>\n",
       "\t\t<td>70</td>\n",
       "\t\t<td>1</td>\n",
       "\t</tr>\n",
       "\t<tr>\n",
       "\t\t<td>2014-01-06 09:02:25.122200</td>\n",
       "\t\t<td>1</td>\n",
       "\t\t<td>55</td>\n",
       "\t\t<td>78</td>\n",
       "\t\t<td>2</td>\n",
       "\t</tr>\n",
       "\t<tr>\n",
       "\t\t<td>2014-01-06 09:02:25.122200</td>\n",
       "\t\t<td>1</td>\n",
       "\t\t<td>55</td>\n",
       "\t\t<td>71</td>\n",
       "\t\t<td>2</td>\n",
       "\t</tr>\n",
       "</table></html>"
      ],
      "text/plain": [
       "                       TD_TIMECODE  salinity  temperature  res\n",
       "buoyid                                                        \n",
       "0       2014-01-06 08:09:59.999999        55           99    9\n",
       "0       2014-01-06 08:10:00.000000        55          100   10\n",
       "44      2014-01-06 10:00:24.000000        55           43    0\n",
       "44      2014-01-06 10:00:24.333300        55           43    0\n",
       "44      2014-01-06 10:00:26.122200        55           43    0\n",
       "44      2014-01-06 10:01:25.122200        55           53    1\n",
       "1       2014-01-06 09:01:25.122200        55           77    1\n",
       "1       2014-01-06 09:01:25.122200        55           70    1\n",
       "1       2014-01-06 09:02:25.122200        55           78    2\n",
       "1       2014-01-06 09:02:25.122200        55           71    2"
      ]
     },
     "metadata": {},
     "output_type": "display_data"
    },
    {
     "name": "stdout",
     "output_type": "stream",
     "text": [
      "\n",
      "\n",
      "\n",
      " ************************* DataFrame.dtypes ********************* \n"
     ]
    },
    {
     "data": {
      "text/html": [
       "<style type=\"text/css\">\n",
       "                                table {border:ridge 5px;}\n",
       "                                table td {border:inset 1px;}\n",
       "                                table tr#HeaderRow {background-color:grey; color:white;}\n",
       "                               </style>\n",
       "                               <html>\n",
       "                                  <table>\n",
       "                                    <tr id=\"HeaderRow\">\n",
       "                                        <th>COLUMN NAME</th>\n",
       "                                        <th>TYPE</th>\n",
       "                                    </tr>\n",
       "                                    <tr><td>TD_TIMECODE</td><td>datetime.datetime</td></tr>\n",
       "<tr><td>buoyid</td><td>int</td></tr>\n",
       "<tr><td>salinity</td><td>int</td></tr>\n",
       "<tr><td>temperature</td><td>int</td></tr>\n",
       "<tr><td>res</td><td>int</td></tr>\n",
       "                                  </table>\n",
       "                               </html>\n",
       "                            "
      ],
      "text/plain": [
       "TD_TIMECODE    datetime.datetime\n",
       "buoyid                       int\n",
       "salinity                     int\n",
       "temperature                  int\n",
       "res                          int"
      ]
     },
     "metadata": {},
     "output_type": "display_data"
    },
    {
     "name": "stdout",
     "output_type": "stream",
     "text": [
      "\n",
      "\n",
      "\n"
     ]
    }
   ],
   "source": [
    "# Returns the integer value for minute in the specified timestamp value in a column as a literal.\n",
    "res_df = ocean_df.assign(res = ocean_df.TD_TIMECODE.minute())\n",
    "print_variables(res_df)"
   ]
  },
  {
   "cell_type": "markdown",
   "id": "468951ae",
   "metadata": {},
   "source": [
    "### DataFrameColumn.second()"
   ]
  },
  {
   "cell_type": "code",
   "execution_count": 45,
   "id": "18e49471",
   "metadata": {},
   "outputs": [
    {
     "name": "stdout",
     "output_type": "stream",
     "text": [
      "Equivalent SQL: select \"TD_TIMECODE\" AS \"TD_TIMECODE\", buoyid AS buoyid, salinity AS salinity, temperature AS temperature, second(\"TD_TIMECODE\") AS res from \"ocean_buoys\"\n",
      "\n",
      "\n",
      " ************************* DataFrame ********************* \n"
     ]
    },
    {
     "data": {
      "text/html": [
       "<style type=\"text/css\">\n",
       "\ttable {border:ridge 5px;}\n",
       "\ttable td {border:inset 1px;}\n",
       "\ttable tr#HeaderRow {background-color:grey; color:white;}</style>\n",
       "<html><table>\n",
       "\t<tr id=\"HeaderRow\">\n",
       "\t\t<th>TD_TIMECODE</th>\n",
       "\t\t<th>buoyid</th>\n",
       "\t\t<th>salinity</th>\n",
       "\t\t<th>temperature</th>\n",
       "\t\t<th>res</th>\n",
       "\t</tr>\n",
       "\t<tr>\n",
       "\t\t<td>2014-01-06 08:09:59.999999</td>\n",
       "\t\t<td>0</td>\n",
       "\t\t<td>55</td>\n",
       "\t\t<td>99</td>\n",
       "\t\t<td>59.000</td>\n",
       "\t</tr>\n",
       "\t<tr>\n",
       "\t\t<td>2014-01-06 08:10:00.000000</td>\n",
       "\t\t<td>0</td>\n",
       "\t\t<td>55</td>\n",
       "\t\t<td>100</td>\n",
       "\t\t<td>0.000</td>\n",
       "\t</tr>\n",
       "\t<tr>\n",
       "\t\t<td>2014-01-06 10:00:24.000000</td>\n",
       "\t\t<td>44</td>\n",
       "\t\t<td>55</td>\n",
       "\t\t<td>43</td>\n",
       "\t\t<td>24.000</td>\n",
       "\t</tr>\n",
       "\t<tr>\n",
       "\t\t<td>2014-01-06 10:00:24.333300</td>\n",
       "\t\t<td>44</td>\n",
       "\t\t<td>55</td>\n",
       "\t\t<td>43</td>\n",
       "\t\t<td>24.000</td>\n",
       "\t</tr>\n",
       "\t<tr>\n",
       "\t\t<td>2014-01-06 10:00:26.122200</td>\n",
       "\t\t<td>44</td>\n",
       "\t\t<td>55</td>\n",
       "\t\t<td>43</td>\n",
       "\t\t<td>26.000</td>\n",
       "\t</tr>\n",
       "\t<tr>\n",
       "\t\t<td>2014-01-06 10:01:25.122200</td>\n",
       "\t\t<td>44</td>\n",
       "\t\t<td>55</td>\n",
       "\t\t<td>53</td>\n",
       "\t\t<td>25.000</td>\n",
       "\t</tr>\n",
       "\t<tr>\n",
       "\t\t<td>2014-01-06 10:00:25.122200</td>\n",
       "\t\t<td>44</td>\n",
       "\t\t<td>55</td>\n",
       "\t\t<td>43</td>\n",
       "\t\t<td>25.000</td>\n",
       "\t</tr>\n",
       "\t<tr>\n",
       "\t\t<td>2014-01-06 08:10:00.000000</td>\n",
       "\t\t<td>0</td>\n",
       "\t\t<td>55</td>\n",
       "\t\t<td>10</td>\n",
       "\t\t<td>0.000</td>\n",
       "\t</tr>\n",
       "\t<tr>\n",
       "\t\t<td>2014-01-06 08:08:59.999999</td>\n",
       "\t\t<td>0</td>\n",
       "\t\t<td>55</td>\n",
       "\t\t<td>None</td>\n",
       "\t\t<td>59.000</td>\n",
       "\t</tr>\n",
       "\t<tr>\n",
       "\t\t<td>2014-01-06 08:00:00.000000</td>\n",
       "\t\t<td>0</td>\n",
       "\t\t<td>55</td>\n",
       "\t\t<td>10</td>\n",
       "\t\t<td>0.000</td>\n",
       "\t</tr>\n",
       "</table></html>"
      ],
      "text/plain": [
       "                       TD_TIMECODE  salinity  temperature   res\n",
       "buoyid                                                         \n",
       "0       2014-01-06 08:09:59.999999        55         99.0  59.0\n",
       "0       2014-01-06 08:10:00.000000        55        100.0   0.0\n",
       "44      2014-01-06 10:00:24.000000        55         43.0  24.0\n",
       "44      2014-01-06 10:00:24.333300        55         43.0  24.0\n",
       "44      2014-01-06 10:00:26.122200        55         43.0  26.0\n",
       "44      2014-01-06 10:01:25.122200        55         53.0  25.0\n",
       "44      2014-01-06 10:00:25.122200        55         43.0  25.0\n",
       "0       2014-01-06 08:10:00.000000        55         10.0   0.0\n",
       "0       2014-01-06 08:08:59.999999        55          NaN  59.0\n",
       "0       2014-01-06 08:00:00.000000        55         10.0   0.0"
      ]
     },
     "metadata": {},
     "output_type": "display_data"
    },
    {
     "name": "stdout",
     "output_type": "stream",
     "text": [
      "\n",
      "\n",
      "\n",
      " ************************* DataFrame.dtypes ********************* \n"
     ]
    },
    {
     "data": {
      "text/html": [
       "<style type=\"text/css\">\n",
       "                                table {border:ridge 5px;}\n",
       "                                table td {border:inset 1px;}\n",
       "                                table tr#HeaderRow {background-color:grey; color:white;}\n",
       "                               </style>\n",
       "                               <html>\n",
       "                                  <table>\n",
       "                                    <tr id=\"HeaderRow\">\n",
       "                                        <th>COLUMN NAME</th>\n",
       "                                        <th>TYPE</th>\n",
       "                                    </tr>\n",
       "                                    <tr><td>TD_TIMECODE</td><td>datetime.datetime</td></tr>\n",
       "<tr><td>buoyid</td><td>int</td></tr>\n",
       "<tr><td>salinity</td><td>int</td></tr>\n",
       "<tr><td>temperature</td><td>int</td></tr>\n",
       "<tr><td>res</td><td>decimal.Decimal</td></tr>\n",
       "                                  </table>\n",
       "                               </html>\n",
       "                            "
      ],
      "text/plain": [
       "TD_TIMECODE    datetime.datetime\n",
       "buoyid                       int\n",
       "salinity                     int\n",
       "temperature                  int\n",
       "res              decimal.Decimal"
      ]
     },
     "metadata": {},
     "output_type": "display_data"
    },
    {
     "name": "stdout",
     "output_type": "stream",
     "text": [
      "\n",
      "\n",
      "\n"
     ]
    }
   ],
   "source": [
    "# Returns the integer value for seconds in the specified timestamp value in a column as a literal.\n",
    "res_df = ocean_df.assign(res = ocean_df.TD_TIMECODE.second())\n",
    "print_variables(res_df)"
   ]
  },
  {
   "cell_type": "markdown",
   "id": "c3dcef58",
   "metadata": {},
   "source": [
    "## When session parameter calendar is not set."
   ]
  },
  {
   "cell_type": "code",
   "execution_count": 46,
   "id": "d77fe5d4",
   "metadata": {},
   "outputs": [
    {
     "name": "stdout",
     "output_type": "stream",
     "text": [
      "Equivalent SQL: select accounts AS accounts, \"Feb\" AS \"Feb\", \"Jan\" AS \"Jan\", \"Mar\" AS \"Mar\", \"Apr\" AS \"Apr\", datetime AS datetime, dates AS dates, DayNumber_Of_Week(dates, 'Teradata') AS res from (select accounts AS accounts, \"Feb\" AS \"Feb\", \"Jan\" AS \"Jan\", \"Mar\" AS \"Mar\", \"Apr\" AS \"Apr\", datetime AS datetime, CASE WHEN (accounts = 'Alpha Co') THEN datetime + 191 WHEN (accounts = 'Blue Inc') THEN datetime + 56 WHEN (accounts = 'Jones LLC') THEN datetime + 440 WHEN (accounts = 'Orange Inc') THEN datetime + 395 WHEN (accounts = 'Yellow Inc') THEN datetime + 362 WHEN (accounts = 'Red Inc') THEN datetime + 233 END AS dates from \"sales\") as temp_table\n",
      "\n",
      "\n",
      " ************************* DataFrame ********************* \n"
     ]
    },
    {
     "data": {
      "text/html": [
       "<style type=\"text/css\">\n",
       "\ttable {border:ridge 5px;}\n",
       "\ttable td {border:inset 1px;}\n",
       "\ttable tr#HeaderRow {background-color:grey; color:white;}</style>\n",
       "<html><table>\n",
       "\t<tr id=\"HeaderRow\">\n",
       "\t\t<th>accounts</th>\n",
       "\t\t<th>Feb</th>\n",
       "\t\t<th>Jan</th>\n",
       "\t\t<th>Mar</th>\n",
       "\t\t<th>Apr</th>\n",
       "\t\t<th>datetime</th>\n",
       "\t\t<th>dates</th>\n",
       "\t\t<th>res</th>\n",
       "\t</tr>\n",
       "\t<tr>\n",
       "\t\t<td>Alpha Co</td>\n",
       "\t\t<td>210.0</td>\n",
       "\t\t<td>200</td>\n",
       "\t\t<td>215</td>\n",
       "\t\t<td>250</td>\n",
       "\t\t<td>04/01/2017</td>\n",
       "\t\t<td>17/07/14</td>\n",
       "\t\t<td>6</td>\n",
       "\t</tr>\n",
       "\t<tr>\n",
       "\t\t<td>Blue Inc</td>\n",
       "\t\t<td>90.0</td>\n",
       "\t\t<td>50</td>\n",
       "\t\t<td>95</td>\n",
       "\t\t<td>101</td>\n",
       "\t\t<td>04/01/2017</td>\n",
       "\t\t<td>17/03/01</td>\n",
       "\t\t<td>4</td>\n",
       "\t</tr>\n",
       "\t<tr>\n",
       "\t\t<td>Jones LLC</td>\n",
       "\t\t<td>200.0</td>\n",
       "\t\t<td>150</td>\n",
       "\t\t<td>140</td>\n",
       "\t\t<td>180</td>\n",
       "\t\t<td>04/01/2017</td>\n",
       "\t\t<td>18/03/20</td>\n",
       "\t\t<td>3</td>\n",
       "\t</tr>\n",
       "\t<tr>\n",
       "\t\t<td>Orange Inc</td>\n",
       "\t\t<td>210.0</td>\n",
       "\t\t<td>None</td>\n",
       "\t\t<td>None</td>\n",
       "\t\t<td>250</td>\n",
       "\t\t<td>04/01/2017</td>\n",
       "\t\t<td>18/02/03</td>\n",
       "\t\t<td>7</td>\n",
       "\t</tr>\n",
       "\t<tr>\n",
       "\t\t<td>Red Inc</td>\n",
       "\t\t<td>200.0</td>\n",
       "\t\t<td>150</td>\n",
       "\t\t<td>140</td>\n",
       "\t\t<td>None</td>\n",
       "\t\t<td>04/01/2017</td>\n",
       "\t\t<td>17/08/25</td>\n",
       "\t\t<td>6</td>\n",
       "\t</tr>\n",
       "\t<tr>\n",
       "\t\t<td>Yellow Inc</td>\n",
       "\t\t<td>90.0</td>\n",
       "\t\t<td>None</td>\n",
       "\t\t<td>None</td>\n",
       "\t\t<td>None</td>\n",
       "\t\t<td>04/01/2017</td>\n",
       "\t\t<td>18/01/01</td>\n",
       "\t\t<td>2</td>\n",
       "\t</tr>\n",
       "</table></html>"
      ],
      "text/plain": [
       "              Feb    Jan    Mar    Apr    datetime     dates  res\n",
       "accounts                                                         \n",
       "Alpha Co    210.0  200.0  215.0  250.0  04/01/2017  17/07/14    6\n",
       "Blue Inc     90.0   50.0   95.0  101.0  04/01/2017  17/03/01    4\n",
       "Jones LLC   200.0  150.0  140.0  180.0  04/01/2017  18/03/20    3\n",
       "Orange Inc  210.0    NaN    NaN  250.0  04/01/2017  18/02/03    7\n",
       "Red Inc     200.0  150.0  140.0    NaN  04/01/2017  17/08/25    6\n",
       "Yellow Inc   90.0    NaN    NaN    NaN  04/01/2017  18/01/01    2"
      ]
     },
     "metadata": {},
     "output_type": "display_data"
    },
    {
     "name": "stdout",
     "output_type": "stream",
     "text": [
      "\n",
      "\n",
      "\n",
      " ************************* DataFrame.dtypes ********************* \n"
     ]
    },
    {
     "data": {
      "text/html": [
       "<style type=\"text/css\">\n",
       "                                table {border:ridge 5px;}\n",
       "                                table td {border:inset 1px;}\n",
       "                                table tr#HeaderRow {background-color:grey; color:white;}\n",
       "                               </style>\n",
       "                               <html>\n",
       "                                  <table>\n",
       "                                    <tr id=\"HeaderRow\">\n",
       "                                        <th>COLUMN NAME</th>\n",
       "                                        <th>TYPE</th>\n",
       "                                    </tr>\n",
       "                                    <tr><td>accounts</td><td>str</td></tr>\n",
       "<tr><td>Feb</td><td>float</td></tr>\n",
       "<tr><td>Jan</td><td>int</td></tr>\n",
       "<tr><td>Mar</td><td>int</td></tr>\n",
       "<tr><td>Apr</td><td>int</td></tr>\n",
       "<tr><td>datetime</td><td>datetime.date</td></tr>\n",
       "<tr><td>dates</td><td>datetime.date</td></tr>\n",
       "<tr><td>res</td><td>int</td></tr>\n",
       "                                  </table>\n",
       "                               </html>\n",
       "                            "
      ],
      "text/plain": [
       "accounts              str\n",
       "Feb                 float\n",
       "Jan                   int\n",
       "Mar                   int\n",
       "Apr                   int\n",
       "datetime    datetime.date\n",
       "dates       datetime.date\n",
       "res                   int"
      ]
     },
     "metadata": {},
     "output_type": "display_data"
    },
    {
     "name": "stdout",
     "output_type": "stream",
     "text": [
      "\n",
      "\n",
      "\n"
     ]
    }
   ],
   "source": [
    "# When nothing is specified it takes the default value of argument as \"Teradata\"\n",
    "df = df_sales.assign(res = df_sales.dates.day_of_week()).sort('accounts')\n",
    "print_variables(df)"
   ]
  },
  {
   "cell_type": "code",
   "execution_count": 47,
   "id": "f688098f",
   "metadata": {},
   "outputs": [
    {
     "name": "stdout",
     "output_type": "stream",
     "text": [
      "Equivalent SQL: select accounts AS accounts, \"Feb\" AS \"Feb\", \"Jan\" AS \"Jan\", \"Mar\" AS \"Mar\", \"Apr\" AS \"Apr\", datetime AS datetime, dates AS dates, DayNumber_Of_Week(dates, NULL) AS res from (select accounts AS accounts, \"Feb\" AS \"Feb\", \"Jan\" AS \"Jan\", \"Mar\" AS \"Mar\", \"Apr\" AS \"Apr\", datetime AS datetime, CASE WHEN (accounts = 'Alpha Co') THEN datetime + 191 WHEN (accounts = 'Blue Inc') THEN datetime + 56 WHEN (accounts = 'Jones LLC') THEN datetime + 440 WHEN (accounts = 'Orange Inc') THEN datetime + 395 WHEN (accounts = 'Yellow Inc') THEN datetime + 362 WHEN (accounts = 'Red Inc') THEN datetime + 233 END AS dates from \"sales\") as temp_table\n",
      "\n",
      "\n",
      " ************************* DataFrame ********************* \n"
     ]
    },
    {
     "data": {
      "text/html": [
       "<style type=\"text/css\">\n",
       "\ttable {border:ridge 5px;}\n",
       "\ttable td {border:inset 1px;}\n",
       "\ttable tr#HeaderRow {background-color:grey; color:white;}</style>\n",
       "<html><table>\n",
       "\t<tr id=\"HeaderRow\">\n",
       "\t\t<th>accounts</th>\n",
       "\t\t<th>Feb</th>\n",
       "\t\t<th>Jan</th>\n",
       "\t\t<th>Mar</th>\n",
       "\t\t<th>Apr</th>\n",
       "\t\t<th>datetime</th>\n",
       "\t\t<th>dates</th>\n",
       "\t\t<th>res</th>\n",
       "\t</tr>\n",
       "\t<tr>\n",
       "\t\t<td>Alpha Co</td>\n",
       "\t\t<td>210.0</td>\n",
       "\t\t<td>200</td>\n",
       "\t\t<td>215</td>\n",
       "\t\t<td>250</td>\n",
       "\t\t<td>04/01/2017</td>\n",
       "\t\t<td>17/07/14</td>\n",
       "\t\t<td>6</td>\n",
       "\t</tr>\n",
       "\t<tr>\n",
       "\t\t<td>Blue Inc</td>\n",
       "\t\t<td>90.0</td>\n",
       "\t\t<td>50</td>\n",
       "\t\t<td>95</td>\n",
       "\t\t<td>101</td>\n",
       "\t\t<td>04/01/2017</td>\n",
       "\t\t<td>17/03/01</td>\n",
       "\t\t<td>4</td>\n",
       "\t</tr>\n",
       "\t<tr>\n",
       "\t\t<td>Jones LLC</td>\n",
       "\t\t<td>200.0</td>\n",
       "\t\t<td>150</td>\n",
       "\t\t<td>140</td>\n",
       "\t\t<td>180</td>\n",
       "\t\t<td>04/01/2017</td>\n",
       "\t\t<td>18/03/20</td>\n",
       "\t\t<td>3</td>\n",
       "\t</tr>\n",
       "\t<tr>\n",
       "\t\t<td>Orange Inc</td>\n",
       "\t\t<td>210.0</td>\n",
       "\t\t<td>None</td>\n",
       "\t\t<td>None</td>\n",
       "\t\t<td>250</td>\n",
       "\t\t<td>04/01/2017</td>\n",
       "\t\t<td>18/02/03</td>\n",
       "\t\t<td>7</td>\n",
       "\t</tr>\n",
       "\t<tr>\n",
       "\t\t<td>Red Inc</td>\n",
       "\t\t<td>200.0</td>\n",
       "\t\t<td>150</td>\n",
       "\t\t<td>140</td>\n",
       "\t\t<td>None</td>\n",
       "\t\t<td>04/01/2017</td>\n",
       "\t\t<td>17/08/25</td>\n",
       "\t\t<td>6</td>\n",
       "\t</tr>\n",
       "\t<tr>\n",
       "\t\t<td>Yellow Inc</td>\n",
       "\t\t<td>90.0</td>\n",
       "\t\t<td>None</td>\n",
       "\t\t<td>None</td>\n",
       "\t\t<td>None</td>\n",
       "\t\t<td>04/01/2017</td>\n",
       "\t\t<td>18/01/01</td>\n",
       "\t\t<td>2</td>\n",
       "\t</tr>\n",
       "</table></html>"
      ],
      "text/plain": [
       "              Feb    Jan    Mar    Apr    datetime     dates  res\n",
       "accounts                                                         \n",
       "Alpha Co    210.0  200.0  215.0  250.0  04/01/2017  17/07/14    6\n",
       "Blue Inc     90.0   50.0   95.0  101.0  04/01/2017  17/03/01    4\n",
       "Jones LLC   200.0  150.0  140.0  180.0  04/01/2017  18/03/20    3\n",
       "Orange Inc  210.0    NaN    NaN  250.0  04/01/2017  18/02/03    7\n",
       "Red Inc     200.0  150.0  140.0    NaN  04/01/2017  17/08/25    6\n",
       "Yellow Inc   90.0    NaN    NaN    NaN  04/01/2017  18/01/01    2"
      ]
     },
     "metadata": {},
     "output_type": "display_data"
    },
    {
     "name": "stdout",
     "output_type": "stream",
     "text": [
      "\n",
      "\n",
      "\n",
      " ************************* DataFrame.dtypes ********************* \n"
     ]
    },
    {
     "data": {
      "text/html": [
       "<style type=\"text/css\">\n",
       "                                table {border:ridge 5px;}\n",
       "                                table td {border:inset 1px;}\n",
       "                                table tr#HeaderRow {background-color:grey; color:white;}\n",
       "                               </style>\n",
       "                               <html>\n",
       "                                  <table>\n",
       "                                    <tr id=\"HeaderRow\">\n",
       "                                        <th>COLUMN NAME</th>\n",
       "                                        <th>TYPE</th>\n",
       "                                    </tr>\n",
       "                                    <tr><td>accounts</td><td>str</td></tr>\n",
       "<tr><td>Feb</td><td>float</td></tr>\n",
       "<tr><td>Jan</td><td>int</td></tr>\n",
       "<tr><td>Mar</td><td>int</td></tr>\n",
       "<tr><td>Apr</td><td>int</td></tr>\n",
       "<tr><td>datetime</td><td>datetime.date</td></tr>\n",
       "<tr><td>dates</td><td>datetime.date</td></tr>\n",
       "<tr><td>res</td><td>int</td></tr>\n",
       "                                  </table>\n",
       "                               </html>\n",
       "                            "
      ],
      "text/plain": [
       "accounts              str\n",
       "Feb                 float\n",
       "Jan                   int\n",
       "Mar                   int\n",
       "Apr                   int\n",
       "datetime    datetime.date\n",
       "dates       datetime.date\n",
       "res                   int"
      ]
     },
     "metadata": {},
     "output_type": "display_data"
    },
    {
     "name": "stdout",
     "output_type": "stream",
     "text": [
      "\n",
      "\n",
      "\n"
     ]
    }
   ],
   "source": [
    "# When None is specified it takes the default value of argument as \"Teradata\"\n",
    "df = df_sales.assign(res = df_sales.dates.day_of_week(None)).sort('accounts')\n",
    "print_variables(df)"
   ]
  },
  {
   "cell_type": "code",
   "execution_count": 48,
   "id": "da8ac354",
   "metadata": {},
   "outputs": [
    {
     "name": "stdout",
     "output_type": "stream",
     "text": [
      "Equivalent SQL: select accounts AS accounts, \"Feb\" AS \"Feb\", \"Jan\" AS \"Jan\", \"Mar\" AS \"Mar\", \"Apr\" AS \"Apr\", datetime AS datetime, dates AS dates, DayNumber_Of_Week(dates, 'Teradata') AS res from (select accounts AS accounts, \"Feb\" AS \"Feb\", \"Jan\" AS \"Jan\", \"Mar\" AS \"Mar\", \"Apr\" AS \"Apr\", datetime AS datetime, CASE WHEN (accounts = 'Alpha Co') THEN datetime + 191 WHEN (accounts = 'Blue Inc') THEN datetime + 56 WHEN (accounts = 'Jones LLC') THEN datetime + 440 WHEN (accounts = 'Orange Inc') THEN datetime + 395 WHEN (accounts = 'Yellow Inc') THEN datetime + 362 WHEN (accounts = 'Red Inc') THEN datetime + 233 END AS dates from \"sales\") as temp_table\n",
      "\n",
      "\n",
      " ************************* DataFrame ********************* \n"
     ]
    },
    {
     "data": {
      "text/html": [
       "<style type=\"text/css\">\n",
       "\ttable {border:ridge 5px;}\n",
       "\ttable td {border:inset 1px;}\n",
       "\ttable tr#HeaderRow {background-color:grey; color:white;}</style>\n",
       "<html><table>\n",
       "\t<tr id=\"HeaderRow\">\n",
       "\t\t<th>accounts</th>\n",
       "\t\t<th>Feb</th>\n",
       "\t\t<th>Jan</th>\n",
       "\t\t<th>Mar</th>\n",
       "\t\t<th>Apr</th>\n",
       "\t\t<th>datetime</th>\n",
       "\t\t<th>dates</th>\n",
       "\t\t<th>res</th>\n",
       "\t</tr>\n",
       "\t<tr>\n",
       "\t\t<td>Alpha Co</td>\n",
       "\t\t<td>210.0</td>\n",
       "\t\t<td>200</td>\n",
       "\t\t<td>215</td>\n",
       "\t\t<td>250</td>\n",
       "\t\t<td>04/01/2017</td>\n",
       "\t\t<td>17/07/14</td>\n",
       "\t\t<td>6</td>\n",
       "\t</tr>\n",
       "\t<tr>\n",
       "\t\t<td>Blue Inc</td>\n",
       "\t\t<td>90.0</td>\n",
       "\t\t<td>50</td>\n",
       "\t\t<td>95</td>\n",
       "\t\t<td>101</td>\n",
       "\t\t<td>04/01/2017</td>\n",
       "\t\t<td>17/03/01</td>\n",
       "\t\t<td>4</td>\n",
       "\t</tr>\n",
       "\t<tr>\n",
       "\t\t<td>Jones LLC</td>\n",
       "\t\t<td>200.0</td>\n",
       "\t\t<td>150</td>\n",
       "\t\t<td>140</td>\n",
       "\t\t<td>180</td>\n",
       "\t\t<td>04/01/2017</td>\n",
       "\t\t<td>18/03/20</td>\n",
       "\t\t<td>3</td>\n",
       "\t</tr>\n",
       "\t<tr>\n",
       "\t\t<td>Orange Inc</td>\n",
       "\t\t<td>210.0</td>\n",
       "\t\t<td>None</td>\n",
       "\t\t<td>None</td>\n",
       "\t\t<td>250</td>\n",
       "\t\t<td>04/01/2017</td>\n",
       "\t\t<td>18/02/03</td>\n",
       "\t\t<td>7</td>\n",
       "\t</tr>\n",
       "\t<tr>\n",
       "\t\t<td>Red Inc</td>\n",
       "\t\t<td>200.0</td>\n",
       "\t\t<td>150</td>\n",
       "\t\t<td>140</td>\n",
       "\t\t<td>None</td>\n",
       "\t\t<td>04/01/2017</td>\n",
       "\t\t<td>17/08/25</td>\n",
       "\t\t<td>6</td>\n",
       "\t</tr>\n",
       "\t<tr>\n",
       "\t\t<td>Yellow Inc</td>\n",
       "\t\t<td>90.0</td>\n",
       "\t\t<td>None</td>\n",
       "\t\t<td>None</td>\n",
       "\t\t<td>None</td>\n",
       "\t\t<td>04/01/2017</td>\n",
       "\t\t<td>18/01/01</td>\n",
       "\t\t<td>2</td>\n",
       "\t</tr>\n",
       "</table></html>"
      ],
      "text/plain": [
       "              Feb    Jan    Mar    Apr    datetime     dates  res\n",
       "accounts                                                         \n",
       "Alpha Co    210.0  200.0  215.0  250.0  04/01/2017  17/07/14    6\n",
       "Blue Inc     90.0   50.0   95.0  101.0  04/01/2017  17/03/01    4\n",
       "Jones LLC   200.0  150.0  140.0  180.0  04/01/2017  18/03/20    3\n",
       "Orange Inc  210.0    NaN    NaN  250.0  04/01/2017  18/02/03    7\n",
       "Red Inc     200.0  150.0  140.0    NaN  04/01/2017  17/08/25    6\n",
       "Yellow Inc   90.0    NaN    NaN    NaN  04/01/2017  18/01/01    2"
      ]
     },
     "metadata": {},
     "output_type": "display_data"
    },
    {
     "name": "stdout",
     "output_type": "stream",
     "text": [
      "\n",
      "\n",
      "\n",
      " ************************* DataFrame.dtypes ********************* \n"
     ]
    },
    {
     "data": {
      "text/html": [
       "<style type=\"text/css\">\n",
       "                                table {border:ridge 5px;}\n",
       "                                table td {border:inset 1px;}\n",
       "                                table tr#HeaderRow {background-color:grey; color:white;}\n",
       "                               </style>\n",
       "                               <html>\n",
       "                                  <table>\n",
       "                                    <tr id=\"HeaderRow\">\n",
       "                                        <th>COLUMN NAME</th>\n",
       "                                        <th>TYPE</th>\n",
       "                                    </tr>\n",
       "                                    <tr><td>accounts</td><td>str</td></tr>\n",
       "<tr><td>Feb</td><td>float</td></tr>\n",
       "<tr><td>Jan</td><td>int</td></tr>\n",
       "<tr><td>Mar</td><td>int</td></tr>\n",
       "<tr><td>Apr</td><td>int</td></tr>\n",
       "<tr><td>datetime</td><td>datetime.date</td></tr>\n",
       "<tr><td>dates</td><td>datetime.date</td></tr>\n",
       "<tr><td>res</td><td>int</td></tr>\n",
       "                                  </table>\n",
       "                               </html>\n",
       "                            "
      ],
      "text/plain": [
       "accounts              str\n",
       "Feb                 float\n",
       "Jan                   int\n",
       "Mar                   int\n",
       "Apr                   int\n",
       "datetime    datetime.date\n",
       "dates       datetime.date\n",
       "res                   int"
      ]
     },
     "metadata": {},
     "output_type": "display_data"
    },
    {
     "name": "stdout",
     "output_type": "stream",
     "text": [
      "\n",
      "\n",
      "\n"
     ]
    }
   ],
   "source": [
    "# When \"Teradata\" is specified it takes the calendar_name as \"Teradata\"\n",
    "df = df_sales.assign(res = df_sales.dates.day_of_week(\"Teradata\")).sort('accounts')\n",
    "print_variables(df)"
   ]
  },
  {
   "cell_type": "code",
   "execution_count": 49,
   "id": "2e877ff8",
   "metadata": {},
   "outputs": [
    {
     "name": "stdout",
     "output_type": "stream",
     "text": [
      "Equivalent SQL: select accounts AS accounts, \"Feb\" AS \"Feb\", \"Jan\" AS \"Jan\", \"Mar\" AS \"Mar\", \"Apr\" AS \"Apr\", datetime AS datetime, dates AS dates, DayNumber_Of_Week(dates, 'ISO') AS res from (select accounts AS accounts, \"Feb\" AS \"Feb\", \"Jan\" AS \"Jan\", \"Mar\" AS \"Mar\", \"Apr\" AS \"Apr\", datetime AS datetime, CASE WHEN (accounts = 'Alpha Co') THEN datetime + 191 WHEN (accounts = 'Blue Inc') THEN datetime + 56 WHEN (accounts = 'Jones LLC') THEN datetime + 440 WHEN (accounts = 'Orange Inc') THEN datetime + 395 WHEN (accounts = 'Yellow Inc') THEN datetime + 362 WHEN (accounts = 'Red Inc') THEN datetime + 233 END AS dates from \"sales\") as temp_table\n",
      "\n",
      "\n",
      " ************************* DataFrame ********************* \n"
     ]
    },
    {
     "data": {
      "text/html": [
       "<style type=\"text/css\">\n",
       "\ttable {border:ridge 5px;}\n",
       "\ttable td {border:inset 1px;}\n",
       "\ttable tr#HeaderRow {background-color:grey; color:white;}</style>\n",
       "<html><table>\n",
       "\t<tr id=\"HeaderRow\">\n",
       "\t\t<th>accounts</th>\n",
       "\t\t<th>Feb</th>\n",
       "\t\t<th>Jan</th>\n",
       "\t\t<th>Mar</th>\n",
       "\t\t<th>Apr</th>\n",
       "\t\t<th>datetime</th>\n",
       "\t\t<th>dates</th>\n",
       "\t\t<th>res</th>\n",
       "\t</tr>\n",
       "\t<tr>\n",
       "\t\t<td>Alpha Co</td>\n",
       "\t\t<td>210.0</td>\n",
       "\t\t<td>200</td>\n",
       "\t\t<td>215</td>\n",
       "\t\t<td>250</td>\n",
       "\t\t<td>04/01/2017</td>\n",
       "\t\t<td>17/07/14</td>\n",
       "\t\t<td>5</td>\n",
       "\t</tr>\n",
       "\t<tr>\n",
       "\t\t<td>Blue Inc</td>\n",
       "\t\t<td>90.0</td>\n",
       "\t\t<td>50</td>\n",
       "\t\t<td>95</td>\n",
       "\t\t<td>101</td>\n",
       "\t\t<td>04/01/2017</td>\n",
       "\t\t<td>17/03/01</td>\n",
       "\t\t<td>3</td>\n",
       "\t</tr>\n",
       "\t<tr>\n",
       "\t\t<td>Jones LLC</td>\n",
       "\t\t<td>200.0</td>\n",
       "\t\t<td>150</td>\n",
       "\t\t<td>140</td>\n",
       "\t\t<td>180</td>\n",
       "\t\t<td>04/01/2017</td>\n",
       "\t\t<td>18/03/20</td>\n",
       "\t\t<td>2</td>\n",
       "\t</tr>\n",
       "\t<tr>\n",
       "\t\t<td>Orange Inc</td>\n",
       "\t\t<td>210.0</td>\n",
       "\t\t<td>None</td>\n",
       "\t\t<td>None</td>\n",
       "\t\t<td>250</td>\n",
       "\t\t<td>04/01/2017</td>\n",
       "\t\t<td>18/02/03</td>\n",
       "\t\t<td>6</td>\n",
       "\t</tr>\n",
       "\t<tr>\n",
       "\t\t<td>Red Inc</td>\n",
       "\t\t<td>200.0</td>\n",
       "\t\t<td>150</td>\n",
       "\t\t<td>140</td>\n",
       "\t\t<td>None</td>\n",
       "\t\t<td>04/01/2017</td>\n",
       "\t\t<td>17/08/25</td>\n",
       "\t\t<td>5</td>\n",
       "\t</tr>\n",
       "\t<tr>\n",
       "\t\t<td>Yellow Inc</td>\n",
       "\t\t<td>90.0</td>\n",
       "\t\t<td>None</td>\n",
       "\t\t<td>None</td>\n",
       "\t\t<td>None</td>\n",
       "\t\t<td>04/01/2017</td>\n",
       "\t\t<td>18/01/01</td>\n",
       "\t\t<td>1</td>\n",
       "\t</tr>\n",
       "</table></html>"
      ],
      "text/plain": [
       "              Feb    Jan    Mar    Apr    datetime     dates  res\n",
       "accounts                                                         \n",
       "Alpha Co    210.0  200.0  215.0  250.0  04/01/2017  17/07/14    5\n",
       "Blue Inc     90.0   50.0   95.0  101.0  04/01/2017  17/03/01    3\n",
       "Jones LLC   200.0  150.0  140.0  180.0  04/01/2017  18/03/20    2\n",
       "Orange Inc  210.0    NaN    NaN  250.0  04/01/2017  18/02/03    6\n",
       "Red Inc     200.0  150.0  140.0    NaN  04/01/2017  17/08/25    5\n",
       "Yellow Inc   90.0    NaN    NaN    NaN  04/01/2017  18/01/01    1"
      ]
     },
     "metadata": {},
     "output_type": "display_data"
    },
    {
     "name": "stdout",
     "output_type": "stream",
     "text": [
      "\n",
      "\n",
      "\n",
      " ************************* DataFrame.dtypes ********************* \n"
     ]
    },
    {
     "data": {
      "text/html": [
       "<style type=\"text/css\">\n",
       "                                table {border:ridge 5px;}\n",
       "                                table td {border:inset 1px;}\n",
       "                                table tr#HeaderRow {background-color:grey; color:white;}\n",
       "                               </style>\n",
       "                               <html>\n",
       "                                  <table>\n",
       "                                    <tr id=\"HeaderRow\">\n",
       "                                        <th>COLUMN NAME</th>\n",
       "                                        <th>TYPE</th>\n",
       "                                    </tr>\n",
       "                                    <tr><td>accounts</td><td>str</td></tr>\n",
       "<tr><td>Feb</td><td>float</td></tr>\n",
       "<tr><td>Jan</td><td>int</td></tr>\n",
       "<tr><td>Mar</td><td>int</td></tr>\n",
       "<tr><td>Apr</td><td>int</td></tr>\n",
       "<tr><td>datetime</td><td>datetime.date</td></tr>\n",
       "<tr><td>dates</td><td>datetime.date</td></tr>\n",
       "<tr><td>res</td><td>int</td></tr>\n",
       "                                  </table>\n",
       "                               </html>\n",
       "                            "
      ],
      "text/plain": [
       "accounts              str\n",
       "Feb                 float\n",
       "Jan                   int\n",
       "Mar                   int\n",
       "Apr                   int\n",
       "datetime    datetime.date\n",
       "dates       datetime.date\n",
       "res                   int"
      ]
     },
     "metadata": {},
     "output_type": "display_data"
    },
    {
     "name": "stdout",
     "output_type": "stream",
     "text": [
      "\n",
      "\n",
      "\n"
     ]
    }
   ],
   "source": [
    "# When \"ISO\" is specified it takes the calendar_name as \"ISO\"\n",
    "df = df_sales.assign(res = df_sales.dates.day_of_week(\"ISO\")).sort('accounts')\n",
    "print_variables(df)"
   ]
  },
  {
   "cell_type": "code",
   "execution_count": 50,
   "id": "60e1e226",
   "metadata": {},
   "outputs": [
    {
     "name": "stdout",
     "output_type": "stream",
     "text": [
      "Equivalent SQL: select accounts AS accounts, \"Feb\" AS \"Feb\", \"Jan\" AS \"Jan\", \"Mar\" AS \"Mar\", \"Apr\" AS \"Apr\", datetime AS datetime, dates AS dates, DayNumber_Of_Week(dates, 'Compatible') AS res from (select accounts AS accounts, \"Feb\" AS \"Feb\", \"Jan\" AS \"Jan\", \"Mar\" AS \"Mar\", \"Apr\" AS \"Apr\", datetime AS datetime, CASE WHEN (accounts = 'Alpha Co') THEN datetime + 191 WHEN (accounts = 'Blue Inc') THEN datetime + 56 WHEN (accounts = 'Jones LLC') THEN datetime + 440 WHEN (accounts = 'Orange Inc') THEN datetime + 395 WHEN (accounts = 'Yellow Inc') THEN datetime + 362 WHEN (accounts = 'Red Inc') THEN datetime + 233 END AS dates from \"sales\") as temp_table\n",
      "\n",
      "\n",
      " ************************* DataFrame ********************* \n"
     ]
    },
    {
     "data": {
      "text/html": [
       "<style type=\"text/css\">\n",
       "\ttable {border:ridge 5px;}\n",
       "\ttable td {border:inset 1px;}\n",
       "\ttable tr#HeaderRow {background-color:grey; color:white;}</style>\n",
       "<html><table>\n",
       "\t<tr id=\"HeaderRow\">\n",
       "\t\t<th>accounts</th>\n",
       "\t\t<th>Feb</th>\n",
       "\t\t<th>Jan</th>\n",
       "\t\t<th>Mar</th>\n",
       "\t\t<th>Apr</th>\n",
       "\t\t<th>datetime</th>\n",
       "\t\t<th>dates</th>\n",
       "\t\t<th>res</th>\n",
       "\t</tr>\n",
       "\t<tr>\n",
       "\t\t<td>Alpha Co</td>\n",
       "\t\t<td>210.0</td>\n",
       "\t\t<td>200</td>\n",
       "\t\t<td>215</td>\n",
       "\t\t<td>250</td>\n",
       "\t\t<td>04/01/2017</td>\n",
       "\t\t<td>17/07/14</td>\n",
       "\t\t<td>6</td>\n",
       "\t</tr>\n",
       "\t<tr>\n",
       "\t\t<td>Blue Inc</td>\n",
       "\t\t<td>90.0</td>\n",
       "\t\t<td>50</td>\n",
       "\t\t<td>95</td>\n",
       "\t\t<td>101</td>\n",
       "\t\t<td>04/01/2017</td>\n",
       "\t\t<td>17/03/01</td>\n",
       "\t\t<td>4</td>\n",
       "\t</tr>\n",
       "\t<tr>\n",
       "\t\t<td>Jones LLC</td>\n",
       "\t\t<td>200.0</td>\n",
       "\t\t<td>150</td>\n",
       "\t\t<td>140</td>\n",
       "\t\t<td>180</td>\n",
       "\t\t<td>04/01/2017</td>\n",
       "\t\t<td>18/03/20</td>\n",
       "\t\t<td>2</td>\n",
       "\t</tr>\n",
       "\t<tr>\n",
       "\t\t<td>Orange Inc</td>\n",
       "\t\t<td>210.0</td>\n",
       "\t\t<td>None</td>\n",
       "\t\t<td>None</td>\n",
       "\t\t<td>250</td>\n",
       "\t\t<td>04/01/2017</td>\n",
       "\t\t<td>18/02/03</td>\n",
       "\t\t<td>6</td>\n",
       "\t</tr>\n",
       "\t<tr>\n",
       "\t\t<td>Red Inc</td>\n",
       "\t\t<td>200.0</td>\n",
       "\t\t<td>150</td>\n",
       "\t\t<td>140</td>\n",
       "\t\t<td>None</td>\n",
       "\t\t<td>04/01/2017</td>\n",
       "\t\t<td>17/08/25</td>\n",
       "\t\t<td>6</td>\n",
       "\t</tr>\n",
       "\t<tr>\n",
       "\t\t<td>Yellow Inc</td>\n",
       "\t\t<td>90.0</td>\n",
       "\t\t<td>None</td>\n",
       "\t\t<td>None</td>\n",
       "\t\t<td>None</td>\n",
       "\t\t<td>04/01/2017</td>\n",
       "\t\t<td>18/01/01</td>\n",
       "\t\t<td>1</td>\n",
       "\t</tr>\n",
       "</table></html>"
      ],
      "text/plain": [
       "              Feb    Jan    Mar    Apr    datetime     dates  res\n",
       "accounts                                                         \n",
       "Alpha Co    210.0  200.0  215.0  250.0  04/01/2017  17/07/14    6\n",
       "Blue Inc     90.0   50.0   95.0  101.0  04/01/2017  17/03/01    4\n",
       "Jones LLC   200.0  150.0  140.0  180.0  04/01/2017  18/03/20    2\n",
       "Orange Inc  210.0    NaN    NaN  250.0  04/01/2017  18/02/03    6\n",
       "Red Inc     200.0  150.0  140.0    NaN  04/01/2017  17/08/25    6\n",
       "Yellow Inc   90.0    NaN    NaN    NaN  04/01/2017  18/01/01    1"
      ]
     },
     "metadata": {},
     "output_type": "display_data"
    },
    {
     "name": "stdout",
     "output_type": "stream",
     "text": [
      "\n",
      "\n",
      "\n",
      " ************************* DataFrame.dtypes ********************* \n"
     ]
    },
    {
     "data": {
      "text/html": [
       "<style type=\"text/css\">\n",
       "                                table {border:ridge 5px;}\n",
       "                                table td {border:inset 1px;}\n",
       "                                table tr#HeaderRow {background-color:grey; color:white;}\n",
       "                               </style>\n",
       "                               <html>\n",
       "                                  <table>\n",
       "                                    <tr id=\"HeaderRow\">\n",
       "                                        <th>COLUMN NAME</th>\n",
       "                                        <th>TYPE</th>\n",
       "                                    </tr>\n",
       "                                    <tr><td>accounts</td><td>str</td></tr>\n",
       "<tr><td>Feb</td><td>float</td></tr>\n",
       "<tr><td>Jan</td><td>int</td></tr>\n",
       "<tr><td>Mar</td><td>int</td></tr>\n",
       "<tr><td>Apr</td><td>int</td></tr>\n",
       "<tr><td>datetime</td><td>datetime.date</td></tr>\n",
       "<tr><td>dates</td><td>datetime.date</td></tr>\n",
       "<tr><td>res</td><td>int</td></tr>\n",
       "                                  </table>\n",
       "                               </html>\n",
       "                            "
      ],
      "text/plain": [
       "accounts              str\n",
       "Feb                 float\n",
       "Jan                   int\n",
       "Mar                   int\n",
       "Apr                   int\n",
       "datetime    datetime.date\n",
       "dates       datetime.date\n",
       "res                   int"
      ]
     },
     "metadata": {},
     "output_type": "display_data"
    },
    {
     "name": "stdout",
     "output_type": "stream",
     "text": [
      "\n",
      "\n",
      "\n"
     ]
    }
   ],
   "source": [
    "# When \"Compatible\" is specified it takes the calendar_name as \"Compatible\"\n",
    "df = df_sales.assign(res = df_sales.dates.day_of_week(\"Compatible\")).sort('accounts')\n",
    "print_variables(df)"
   ]
  },
  {
   "cell_type": "markdown",
   "id": "b7344dc0",
   "metadata": {},
   "source": [
    "## When session parameter calendar is set to ISO."
   ]
  },
  {
   "cell_type": "code",
   "execution_count": 51,
   "id": "377f5d16",
   "metadata": {},
   "outputs": [
    {
     "data": {
      "text/plain": [
       "True"
      ]
     },
     "execution_count": 51,
     "metadata": {},
     "output_type": "execute_result"
    }
   ],
   "source": [
    "set_session_param(\"calendar\", \"iso\")"
   ]
  },
  {
   "cell_type": "code",
   "execution_count": 52,
   "id": "d095d88f",
   "metadata": {},
   "outputs": [
    {
     "name": "stdout",
     "output_type": "stream",
     "text": [
      "Equivalent SQL: select accounts AS accounts, \"Feb\" AS \"Feb\", \"Jan\" AS \"Jan\", \"Mar\" AS \"Mar\", \"Apr\" AS \"Apr\", datetime AS datetime, dates AS dates, DayNumber_Of_Week(dates, NULL) AS res from (select accounts AS accounts, \"Feb\" AS \"Feb\", \"Jan\" AS \"Jan\", \"Mar\" AS \"Mar\", \"Apr\" AS \"Apr\", datetime AS datetime, CASE WHEN (accounts = 'Alpha Co') THEN datetime + 191 WHEN (accounts = 'Blue Inc') THEN datetime + 56 WHEN (accounts = 'Jones LLC') THEN datetime + 440 WHEN (accounts = 'Orange Inc') THEN datetime + 395 WHEN (accounts = 'Yellow Inc') THEN datetime + 362 WHEN (accounts = 'Red Inc') THEN datetime + 233 END AS dates from \"sales\") as temp_table\n",
      "\n",
      "\n",
      " ************************* DataFrame ********************* \n"
     ]
    },
    {
     "data": {
      "text/html": [
       "<style type=\"text/css\">\n",
       "\ttable {border:ridge 5px;}\n",
       "\ttable td {border:inset 1px;}\n",
       "\ttable tr#HeaderRow {background-color:grey; color:white;}</style>\n",
       "<html><table>\n",
       "\t<tr id=\"HeaderRow\">\n",
       "\t\t<th>accounts</th>\n",
       "\t\t<th>Feb</th>\n",
       "\t\t<th>Jan</th>\n",
       "\t\t<th>Mar</th>\n",
       "\t\t<th>Apr</th>\n",
       "\t\t<th>datetime</th>\n",
       "\t\t<th>dates</th>\n",
       "\t\t<th>res</th>\n",
       "\t</tr>\n",
       "\t<tr>\n",
       "\t\t<td>Alpha Co</td>\n",
       "\t\t<td>210.0</td>\n",
       "\t\t<td>200</td>\n",
       "\t\t<td>215</td>\n",
       "\t\t<td>250</td>\n",
       "\t\t<td>04/01/2017</td>\n",
       "\t\t<td>17/07/14</td>\n",
       "\t\t<td>5</td>\n",
       "\t</tr>\n",
       "\t<tr>\n",
       "\t\t<td>Blue Inc</td>\n",
       "\t\t<td>90.0</td>\n",
       "\t\t<td>50</td>\n",
       "\t\t<td>95</td>\n",
       "\t\t<td>101</td>\n",
       "\t\t<td>04/01/2017</td>\n",
       "\t\t<td>17/03/01</td>\n",
       "\t\t<td>3</td>\n",
       "\t</tr>\n",
       "\t<tr>\n",
       "\t\t<td>Jones LLC</td>\n",
       "\t\t<td>200.0</td>\n",
       "\t\t<td>150</td>\n",
       "\t\t<td>140</td>\n",
       "\t\t<td>180</td>\n",
       "\t\t<td>04/01/2017</td>\n",
       "\t\t<td>18/03/20</td>\n",
       "\t\t<td>2</td>\n",
       "\t</tr>\n",
       "\t<tr>\n",
       "\t\t<td>Orange Inc</td>\n",
       "\t\t<td>210.0</td>\n",
       "\t\t<td>None</td>\n",
       "\t\t<td>None</td>\n",
       "\t\t<td>250</td>\n",
       "\t\t<td>04/01/2017</td>\n",
       "\t\t<td>18/02/03</td>\n",
       "\t\t<td>6</td>\n",
       "\t</tr>\n",
       "\t<tr>\n",
       "\t\t<td>Red Inc</td>\n",
       "\t\t<td>200.0</td>\n",
       "\t\t<td>150</td>\n",
       "\t\t<td>140</td>\n",
       "\t\t<td>None</td>\n",
       "\t\t<td>04/01/2017</td>\n",
       "\t\t<td>17/08/25</td>\n",
       "\t\t<td>5</td>\n",
       "\t</tr>\n",
       "\t<tr>\n",
       "\t\t<td>Yellow Inc</td>\n",
       "\t\t<td>90.0</td>\n",
       "\t\t<td>None</td>\n",
       "\t\t<td>None</td>\n",
       "\t\t<td>None</td>\n",
       "\t\t<td>04/01/2017</td>\n",
       "\t\t<td>18/01/01</td>\n",
       "\t\t<td>1</td>\n",
       "\t</tr>\n",
       "</table></html>"
      ],
      "text/plain": [
       "              Feb    Jan    Mar    Apr    datetime     dates  res\n",
       "accounts                                                         \n",
       "Alpha Co    210.0  200.0  215.0  250.0  04/01/2017  17/07/14    5\n",
       "Blue Inc     90.0   50.0   95.0  101.0  04/01/2017  17/03/01    3\n",
       "Jones LLC   200.0  150.0  140.0  180.0  04/01/2017  18/03/20    2\n",
       "Orange Inc  210.0    NaN    NaN  250.0  04/01/2017  18/02/03    6\n",
       "Red Inc     200.0  150.0  140.0    NaN  04/01/2017  17/08/25    5\n",
       "Yellow Inc   90.0    NaN    NaN    NaN  04/01/2017  18/01/01    1"
      ]
     },
     "metadata": {},
     "output_type": "display_data"
    },
    {
     "name": "stdout",
     "output_type": "stream",
     "text": [
      "\n",
      "\n",
      "\n",
      " ************************* DataFrame.dtypes ********************* \n"
     ]
    },
    {
     "data": {
      "text/html": [
       "<style type=\"text/css\">\n",
       "                                table {border:ridge 5px;}\n",
       "                                table td {border:inset 1px;}\n",
       "                                table tr#HeaderRow {background-color:grey; color:white;}\n",
       "                               </style>\n",
       "                               <html>\n",
       "                                  <table>\n",
       "                                    <tr id=\"HeaderRow\">\n",
       "                                        <th>COLUMN NAME</th>\n",
       "                                        <th>TYPE</th>\n",
       "                                    </tr>\n",
       "                                    <tr><td>accounts</td><td>str</td></tr>\n",
       "<tr><td>Feb</td><td>float</td></tr>\n",
       "<tr><td>Jan</td><td>int</td></tr>\n",
       "<tr><td>Mar</td><td>int</td></tr>\n",
       "<tr><td>Apr</td><td>int</td></tr>\n",
       "<tr><td>datetime</td><td>datetime.date</td></tr>\n",
       "<tr><td>dates</td><td>datetime.date</td></tr>\n",
       "<tr><td>res</td><td>int</td></tr>\n",
       "                                  </table>\n",
       "                               </html>\n",
       "                            "
      ],
      "text/plain": [
       "accounts              str\n",
       "Feb                 float\n",
       "Jan                   int\n",
       "Mar                   int\n",
       "Apr                   int\n",
       "datetime    datetime.date\n",
       "dates       datetime.date\n",
       "res                   int"
      ]
     },
     "metadata": {},
     "output_type": "display_data"
    },
    {
     "name": "stdout",
     "output_type": "stream",
     "text": [
      "\n",
      "\n",
      "\n"
     ]
    }
   ],
   "source": [
    "# When None is set as calendar name it by defaults considers the calendar set for the session\n",
    "df = df_sales.assign(res = df_sales.dates.day_of_week(None)).sort('accounts')\n",
    "print_variables(df)"
   ]
  },
  {
   "cell_type": "code",
   "execution_count": 53,
   "id": "51425a3c",
   "metadata": {},
   "outputs": [
    {
     "name": "stdout",
     "output_type": "stream",
     "text": [
      "Equivalent SQL: select accounts AS accounts, \"Feb\" AS \"Feb\", \"Jan\" AS \"Jan\", \"Mar\" AS \"Mar\", \"Apr\" AS \"Apr\", datetime AS datetime, dates AS dates, DayNumber_Of_Week(dates, 'Teradata') AS res from (select accounts AS accounts, \"Feb\" AS \"Feb\", \"Jan\" AS \"Jan\", \"Mar\" AS \"Mar\", \"Apr\" AS \"Apr\", datetime AS datetime, CASE WHEN (accounts = 'Alpha Co') THEN datetime + 191 WHEN (accounts = 'Blue Inc') THEN datetime + 56 WHEN (accounts = 'Jones LLC') THEN datetime + 440 WHEN (accounts = 'Orange Inc') THEN datetime + 395 WHEN (accounts = 'Yellow Inc') THEN datetime + 362 WHEN (accounts = 'Red Inc') THEN datetime + 233 END AS dates from \"sales\") as temp_table\n",
      "\n",
      "\n",
      " ************************* DataFrame ********************* \n"
     ]
    },
    {
     "data": {
      "text/html": [
       "<style type=\"text/css\">\n",
       "\ttable {border:ridge 5px;}\n",
       "\ttable td {border:inset 1px;}\n",
       "\ttable tr#HeaderRow {background-color:grey; color:white;}</style>\n",
       "<html><table>\n",
       "\t<tr id=\"HeaderRow\">\n",
       "\t\t<th>accounts</th>\n",
       "\t\t<th>Feb</th>\n",
       "\t\t<th>Jan</th>\n",
       "\t\t<th>Mar</th>\n",
       "\t\t<th>Apr</th>\n",
       "\t\t<th>datetime</th>\n",
       "\t\t<th>dates</th>\n",
       "\t\t<th>res</th>\n",
       "\t</tr>\n",
       "\t<tr>\n",
       "\t\t<td>Alpha Co</td>\n",
       "\t\t<td>210.0</td>\n",
       "\t\t<td>200</td>\n",
       "\t\t<td>215</td>\n",
       "\t\t<td>250</td>\n",
       "\t\t<td>04/01/2017</td>\n",
       "\t\t<td>17/07/14</td>\n",
       "\t\t<td>6</td>\n",
       "\t</tr>\n",
       "\t<tr>\n",
       "\t\t<td>Blue Inc</td>\n",
       "\t\t<td>90.0</td>\n",
       "\t\t<td>50</td>\n",
       "\t\t<td>95</td>\n",
       "\t\t<td>101</td>\n",
       "\t\t<td>04/01/2017</td>\n",
       "\t\t<td>17/03/01</td>\n",
       "\t\t<td>4</td>\n",
       "\t</tr>\n",
       "\t<tr>\n",
       "\t\t<td>Jones LLC</td>\n",
       "\t\t<td>200.0</td>\n",
       "\t\t<td>150</td>\n",
       "\t\t<td>140</td>\n",
       "\t\t<td>180</td>\n",
       "\t\t<td>04/01/2017</td>\n",
       "\t\t<td>18/03/20</td>\n",
       "\t\t<td>3</td>\n",
       "\t</tr>\n",
       "\t<tr>\n",
       "\t\t<td>Orange Inc</td>\n",
       "\t\t<td>210.0</td>\n",
       "\t\t<td>None</td>\n",
       "\t\t<td>None</td>\n",
       "\t\t<td>250</td>\n",
       "\t\t<td>04/01/2017</td>\n",
       "\t\t<td>18/02/03</td>\n",
       "\t\t<td>7</td>\n",
       "\t</tr>\n",
       "\t<tr>\n",
       "\t\t<td>Red Inc</td>\n",
       "\t\t<td>200.0</td>\n",
       "\t\t<td>150</td>\n",
       "\t\t<td>140</td>\n",
       "\t\t<td>None</td>\n",
       "\t\t<td>04/01/2017</td>\n",
       "\t\t<td>17/08/25</td>\n",
       "\t\t<td>6</td>\n",
       "\t</tr>\n",
       "\t<tr>\n",
       "\t\t<td>Yellow Inc</td>\n",
       "\t\t<td>90.0</td>\n",
       "\t\t<td>None</td>\n",
       "\t\t<td>None</td>\n",
       "\t\t<td>None</td>\n",
       "\t\t<td>04/01/2017</td>\n",
       "\t\t<td>18/01/01</td>\n",
       "\t\t<td>2</td>\n",
       "\t</tr>\n",
       "</table></html>"
      ],
      "text/plain": [
       "              Feb    Jan    Mar    Apr    datetime     dates  res\n",
       "accounts                                                         \n",
       "Alpha Co    210.0  200.0  215.0  250.0  04/01/2017  17/07/14    6\n",
       "Blue Inc     90.0   50.0   95.0  101.0  04/01/2017  17/03/01    4\n",
       "Jones LLC   200.0  150.0  140.0  180.0  04/01/2017  18/03/20    3\n",
       "Orange Inc  210.0    NaN    NaN  250.0  04/01/2017  18/02/03    7\n",
       "Red Inc     200.0  150.0  140.0    NaN  04/01/2017  17/08/25    6\n",
       "Yellow Inc   90.0    NaN    NaN    NaN  04/01/2017  18/01/01    2"
      ]
     },
     "metadata": {},
     "output_type": "display_data"
    },
    {
     "name": "stdout",
     "output_type": "stream",
     "text": [
      "\n",
      "\n",
      "\n",
      " ************************* DataFrame.dtypes ********************* \n"
     ]
    },
    {
     "data": {
      "text/html": [
       "<style type=\"text/css\">\n",
       "                                table {border:ridge 5px;}\n",
       "                                table td {border:inset 1px;}\n",
       "                                table tr#HeaderRow {background-color:grey; color:white;}\n",
       "                               </style>\n",
       "                               <html>\n",
       "                                  <table>\n",
       "                                    <tr id=\"HeaderRow\">\n",
       "                                        <th>COLUMN NAME</th>\n",
       "                                        <th>TYPE</th>\n",
       "                                    </tr>\n",
       "                                    <tr><td>accounts</td><td>str</td></tr>\n",
       "<tr><td>Feb</td><td>float</td></tr>\n",
       "<tr><td>Jan</td><td>int</td></tr>\n",
       "<tr><td>Mar</td><td>int</td></tr>\n",
       "<tr><td>Apr</td><td>int</td></tr>\n",
       "<tr><td>datetime</td><td>datetime.date</td></tr>\n",
       "<tr><td>dates</td><td>datetime.date</td></tr>\n",
       "<tr><td>res</td><td>int</td></tr>\n",
       "                                  </table>\n",
       "                               </html>\n",
       "                            "
      ],
      "text/plain": [
       "accounts              str\n",
       "Feb                 float\n",
       "Jan                   int\n",
       "Mar                   int\n",
       "Apr                   int\n",
       "datetime    datetime.date\n",
       "dates       datetime.date\n",
       "res                   int"
      ]
     },
     "metadata": {},
     "output_type": "display_data"
    },
    {
     "name": "stdout",
     "output_type": "stream",
     "text": [
      "\n",
      "\n",
      "\n"
     ]
    }
   ],
   "source": [
    "# When nothing is specified it takes the default value of argument as \"Teradata\"\n",
    "df = df_sales.assign(res = df_sales.dates.day_of_week()).sort('accounts')\n",
    "print_variables(df)"
   ]
  },
  {
   "cell_type": "code",
   "execution_count": 54,
   "id": "07e3caab",
   "metadata": {},
   "outputs": [
    {
     "name": "stdout",
     "output_type": "stream",
     "text": [
      "Equivalent SQL: select accounts AS accounts, \"Feb\" AS \"Feb\", \"Jan\" AS \"Jan\", \"Mar\" AS \"Mar\", \"Apr\" AS \"Apr\", datetime AS datetime, dates AS dates, DayNumber_Of_Week(dates, 'Teradata') AS res from (select accounts AS accounts, \"Feb\" AS \"Feb\", \"Jan\" AS \"Jan\", \"Mar\" AS \"Mar\", \"Apr\" AS \"Apr\", datetime AS datetime, CASE WHEN (accounts = 'Alpha Co') THEN datetime + 191 WHEN (accounts = 'Blue Inc') THEN datetime + 56 WHEN (accounts = 'Jones LLC') THEN datetime + 440 WHEN (accounts = 'Orange Inc') THEN datetime + 395 WHEN (accounts = 'Yellow Inc') THEN datetime + 362 WHEN (accounts = 'Red Inc') THEN datetime + 233 END AS dates from \"sales\") as temp_table\n",
      "\n",
      "\n",
      " ************************* DataFrame ********************* \n"
     ]
    },
    {
     "data": {
      "text/html": [
       "<style type=\"text/css\">\n",
       "\ttable {border:ridge 5px;}\n",
       "\ttable td {border:inset 1px;}\n",
       "\ttable tr#HeaderRow {background-color:grey; color:white;}</style>\n",
       "<html><table>\n",
       "\t<tr id=\"HeaderRow\">\n",
       "\t\t<th>accounts</th>\n",
       "\t\t<th>Feb</th>\n",
       "\t\t<th>Jan</th>\n",
       "\t\t<th>Mar</th>\n",
       "\t\t<th>Apr</th>\n",
       "\t\t<th>datetime</th>\n",
       "\t\t<th>dates</th>\n",
       "\t\t<th>res</th>\n",
       "\t</tr>\n",
       "\t<tr>\n",
       "\t\t<td>Alpha Co</td>\n",
       "\t\t<td>210.0</td>\n",
       "\t\t<td>200</td>\n",
       "\t\t<td>215</td>\n",
       "\t\t<td>250</td>\n",
       "\t\t<td>04/01/2017</td>\n",
       "\t\t<td>17/07/14</td>\n",
       "\t\t<td>6</td>\n",
       "\t</tr>\n",
       "\t<tr>\n",
       "\t\t<td>Blue Inc</td>\n",
       "\t\t<td>90.0</td>\n",
       "\t\t<td>50</td>\n",
       "\t\t<td>95</td>\n",
       "\t\t<td>101</td>\n",
       "\t\t<td>04/01/2017</td>\n",
       "\t\t<td>17/03/01</td>\n",
       "\t\t<td>4</td>\n",
       "\t</tr>\n",
       "\t<tr>\n",
       "\t\t<td>Jones LLC</td>\n",
       "\t\t<td>200.0</td>\n",
       "\t\t<td>150</td>\n",
       "\t\t<td>140</td>\n",
       "\t\t<td>180</td>\n",
       "\t\t<td>04/01/2017</td>\n",
       "\t\t<td>18/03/20</td>\n",
       "\t\t<td>3</td>\n",
       "\t</tr>\n",
       "\t<tr>\n",
       "\t\t<td>Orange Inc</td>\n",
       "\t\t<td>210.0</td>\n",
       "\t\t<td>None</td>\n",
       "\t\t<td>None</td>\n",
       "\t\t<td>250</td>\n",
       "\t\t<td>04/01/2017</td>\n",
       "\t\t<td>18/02/03</td>\n",
       "\t\t<td>7</td>\n",
       "\t</tr>\n",
       "\t<tr>\n",
       "\t\t<td>Red Inc</td>\n",
       "\t\t<td>200.0</td>\n",
       "\t\t<td>150</td>\n",
       "\t\t<td>140</td>\n",
       "\t\t<td>None</td>\n",
       "\t\t<td>04/01/2017</td>\n",
       "\t\t<td>17/08/25</td>\n",
       "\t\t<td>6</td>\n",
       "\t</tr>\n",
       "\t<tr>\n",
       "\t\t<td>Yellow Inc</td>\n",
       "\t\t<td>90.0</td>\n",
       "\t\t<td>None</td>\n",
       "\t\t<td>None</td>\n",
       "\t\t<td>None</td>\n",
       "\t\t<td>04/01/2017</td>\n",
       "\t\t<td>18/01/01</td>\n",
       "\t\t<td>2</td>\n",
       "\t</tr>\n",
       "</table></html>"
      ],
      "text/plain": [
       "              Feb    Jan    Mar    Apr    datetime     dates  res\n",
       "accounts                                                         \n",
       "Alpha Co    210.0  200.0  215.0  250.0  04/01/2017  17/07/14    6\n",
       "Blue Inc     90.0   50.0   95.0  101.0  04/01/2017  17/03/01    4\n",
       "Jones LLC   200.0  150.0  140.0  180.0  04/01/2017  18/03/20    3\n",
       "Orange Inc  210.0    NaN    NaN  250.0  04/01/2017  18/02/03    7\n",
       "Red Inc     200.0  150.0  140.0    NaN  04/01/2017  17/08/25    6\n",
       "Yellow Inc   90.0    NaN    NaN    NaN  04/01/2017  18/01/01    2"
      ]
     },
     "metadata": {},
     "output_type": "display_data"
    },
    {
     "name": "stdout",
     "output_type": "stream",
     "text": [
      "\n",
      "\n",
      "\n",
      " ************************* DataFrame.dtypes ********************* \n"
     ]
    },
    {
     "data": {
      "text/html": [
       "<style type=\"text/css\">\n",
       "                                table {border:ridge 5px;}\n",
       "                                table td {border:inset 1px;}\n",
       "                                table tr#HeaderRow {background-color:grey; color:white;}\n",
       "                               </style>\n",
       "                               <html>\n",
       "                                  <table>\n",
       "                                    <tr id=\"HeaderRow\">\n",
       "                                        <th>COLUMN NAME</th>\n",
       "                                        <th>TYPE</th>\n",
       "                                    </tr>\n",
       "                                    <tr><td>accounts</td><td>str</td></tr>\n",
       "<tr><td>Feb</td><td>float</td></tr>\n",
       "<tr><td>Jan</td><td>int</td></tr>\n",
       "<tr><td>Mar</td><td>int</td></tr>\n",
       "<tr><td>Apr</td><td>int</td></tr>\n",
       "<tr><td>datetime</td><td>datetime.date</td></tr>\n",
       "<tr><td>dates</td><td>datetime.date</td></tr>\n",
       "<tr><td>res</td><td>int</td></tr>\n",
       "                                  </table>\n",
       "                               </html>\n",
       "                            "
      ],
      "text/plain": [
       "accounts              str\n",
       "Feb                 float\n",
       "Jan                   int\n",
       "Mar                   int\n",
       "Apr                   int\n",
       "datetime    datetime.date\n",
       "dates       datetime.date\n",
       "res                   int"
      ]
     },
     "metadata": {},
     "output_type": "display_data"
    },
    {
     "name": "stdout",
     "output_type": "stream",
     "text": [
      "\n",
      "\n",
      "\n"
     ]
    }
   ],
   "source": [
    "# When \"Teradata\" is specified it takes the calendar_name as \"Teradata\"\n",
    "df = df_sales.assign(res = df_sales.dates.day_of_week(\"Teradata\")).sort('accounts')\n",
    "print_variables(df)"
   ]
  },
  {
   "cell_type": "code",
   "execution_count": 55,
   "id": "2793fecd",
   "metadata": {},
   "outputs": [
    {
     "name": "stdout",
     "output_type": "stream",
     "text": [
      "Equivalent SQL: select accounts AS accounts, \"Feb\" AS \"Feb\", \"Jan\" AS \"Jan\", \"Mar\" AS \"Mar\", \"Apr\" AS \"Apr\", datetime AS datetime, dates AS dates, DayNumber_Of_Week(dates, 'ISO') AS res from (select accounts AS accounts, \"Feb\" AS \"Feb\", \"Jan\" AS \"Jan\", \"Mar\" AS \"Mar\", \"Apr\" AS \"Apr\", datetime AS datetime, CASE WHEN (accounts = 'Alpha Co') THEN datetime + 191 WHEN (accounts = 'Blue Inc') THEN datetime + 56 WHEN (accounts = 'Jones LLC') THEN datetime + 440 WHEN (accounts = 'Orange Inc') THEN datetime + 395 WHEN (accounts = 'Yellow Inc') THEN datetime + 362 WHEN (accounts = 'Red Inc') THEN datetime + 233 END AS dates from \"sales\") as temp_table\n",
      "\n",
      "\n",
      " ************************* DataFrame ********************* \n"
     ]
    },
    {
     "data": {
      "text/html": [
       "<style type=\"text/css\">\n",
       "\ttable {border:ridge 5px;}\n",
       "\ttable td {border:inset 1px;}\n",
       "\ttable tr#HeaderRow {background-color:grey; color:white;}</style>\n",
       "<html><table>\n",
       "\t<tr id=\"HeaderRow\">\n",
       "\t\t<th>accounts</th>\n",
       "\t\t<th>Feb</th>\n",
       "\t\t<th>Jan</th>\n",
       "\t\t<th>Mar</th>\n",
       "\t\t<th>Apr</th>\n",
       "\t\t<th>datetime</th>\n",
       "\t\t<th>dates</th>\n",
       "\t\t<th>res</th>\n",
       "\t</tr>\n",
       "\t<tr>\n",
       "\t\t<td>Alpha Co</td>\n",
       "\t\t<td>210.0</td>\n",
       "\t\t<td>200</td>\n",
       "\t\t<td>215</td>\n",
       "\t\t<td>250</td>\n",
       "\t\t<td>04/01/2017</td>\n",
       "\t\t<td>17/07/14</td>\n",
       "\t\t<td>5</td>\n",
       "\t</tr>\n",
       "\t<tr>\n",
       "\t\t<td>Blue Inc</td>\n",
       "\t\t<td>90.0</td>\n",
       "\t\t<td>50</td>\n",
       "\t\t<td>95</td>\n",
       "\t\t<td>101</td>\n",
       "\t\t<td>04/01/2017</td>\n",
       "\t\t<td>17/03/01</td>\n",
       "\t\t<td>3</td>\n",
       "\t</tr>\n",
       "\t<tr>\n",
       "\t\t<td>Jones LLC</td>\n",
       "\t\t<td>200.0</td>\n",
       "\t\t<td>150</td>\n",
       "\t\t<td>140</td>\n",
       "\t\t<td>180</td>\n",
       "\t\t<td>04/01/2017</td>\n",
       "\t\t<td>18/03/20</td>\n",
       "\t\t<td>2</td>\n",
       "\t</tr>\n",
       "\t<tr>\n",
       "\t\t<td>Orange Inc</td>\n",
       "\t\t<td>210.0</td>\n",
       "\t\t<td>None</td>\n",
       "\t\t<td>None</td>\n",
       "\t\t<td>250</td>\n",
       "\t\t<td>04/01/2017</td>\n",
       "\t\t<td>18/02/03</td>\n",
       "\t\t<td>6</td>\n",
       "\t</tr>\n",
       "\t<tr>\n",
       "\t\t<td>Red Inc</td>\n",
       "\t\t<td>200.0</td>\n",
       "\t\t<td>150</td>\n",
       "\t\t<td>140</td>\n",
       "\t\t<td>None</td>\n",
       "\t\t<td>04/01/2017</td>\n",
       "\t\t<td>17/08/25</td>\n",
       "\t\t<td>5</td>\n",
       "\t</tr>\n",
       "\t<tr>\n",
       "\t\t<td>Yellow Inc</td>\n",
       "\t\t<td>90.0</td>\n",
       "\t\t<td>None</td>\n",
       "\t\t<td>None</td>\n",
       "\t\t<td>None</td>\n",
       "\t\t<td>04/01/2017</td>\n",
       "\t\t<td>18/01/01</td>\n",
       "\t\t<td>1</td>\n",
       "\t</tr>\n",
       "</table></html>"
      ],
      "text/plain": [
       "              Feb    Jan    Mar    Apr    datetime     dates  res\n",
       "accounts                                                         \n",
       "Alpha Co    210.0  200.0  215.0  250.0  04/01/2017  17/07/14    5\n",
       "Blue Inc     90.0   50.0   95.0  101.0  04/01/2017  17/03/01    3\n",
       "Jones LLC   200.0  150.0  140.0  180.0  04/01/2017  18/03/20    2\n",
       "Orange Inc  210.0    NaN    NaN  250.0  04/01/2017  18/02/03    6\n",
       "Red Inc     200.0  150.0  140.0    NaN  04/01/2017  17/08/25    5\n",
       "Yellow Inc   90.0    NaN    NaN    NaN  04/01/2017  18/01/01    1"
      ]
     },
     "metadata": {},
     "output_type": "display_data"
    },
    {
     "name": "stdout",
     "output_type": "stream",
     "text": [
      "\n",
      "\n",
      "\n",
      " ************************* DataFrame.dtypes ********************* \n"
     ]
    },
    {
     "data": {
      "text/html": [
       "<style type=\"text/css\">\n",
       "                                table {border:ridge 5px;}\n",
       "                                table td {border:inset 1px;}\n",
       "                                table tr#HeaderRow {background-color:grey; color:white;}\n",
       "                               </style>\n",
       "                               <html>\n",
       "                                  <table>\n",
       "                                    <tr id=\"HeaderRow\">\n",
       "                                        <th>COLUMN NAME</th>\n",
       "                                        <th>TYPE</th>\n",
       "                                    </tr>\n",
       "                                    <tr><td>accounts</td><td>str</td></tr>\n",
       "<tr><td>Feb</td><td>float</td></tr>\n",
       "<tr><td>Jan</td><td>int</td></tr>\n",
       "<tr><td>Mar</td><td>int</td></tr>\n",
       "<tr><td>Apr</td><td>int</td></tr>\n",
       "<tr><td>datetime</td><td>datetime.date</td></tr>\n",
       "<tr><td>dates</td><td>datetime.date</td></tr>\n",
       "<tr><td>res</td><td>int</td></tr>\n",
       "                                  </table>\n",
       "                               </html>\n",
       "                            "
      ],
      "text/plain": [
       "accounts              str\n",
       "Feb                 float\n",
       "Jan                   int\n",
       "Mar                   int\n",
       "Apr                   int\n",
       "datetime    datetime.date\n",
       "dates       datetime.date\n",
       "res                   int"
      ]
     },
     "metadata": {},
     "output_type": "display_data"
    },
    {
     "name": "stdout",
     "output_type": "stream",
     "text": [
      "\n",
      "\n",
      "\n"
     ]
    }
   ],
   "source": [
    "# When \"ISO\" is specified it takes the calendar_name as \"ISO\"\n",
    "df = df_sales.assign(res = df_sales.dates.day_of_week(\"ISO\")).sort('accounts')\n",
    "print_variables(df)"
   ]
  },
  {
   "cell_type": "code",
   "execution_count": 56,
   "id": "26979fe6",
   "metadata": {},
   "outputs": [
    {
     "name": "stdout",
     "output_type": "stream",
     "text": [
      "Equivalent SQL: select accounts AS accounts, \"Feb\" AS \"Feb\", \"Jan\" AS \"Jan\", \"Mar\" AS \"Mar\", \"Apr\" AS \"Apr\", datetime AS datetime, dates AS dates, DayNumber_Of_Week(dates, 'Compatible') AS res from (select accounts AS accounts, \"Feb\" AS \"Feb\", \"Jan\" AS \"Jan\", \"Mar\" AS \"Mar\", \"Apr\" AS \"Apr\", datetime AS datetime, CASE WHEN (accounts = 'Alpha Co') THEN datetime + 191 WHEN (accounts = 'Blue Inc') THEN datetime + 56 WHEN (accounts = 'Jones LLC') THEN datetime + 440 WHEN (accounts = 'Orange Inc') THEN datetime + 395 WHEN (accounts = 'Yellow Inc') THEN datetime + 362 WHEN (accounts = 'Red Inc') THEN datetime + 233 END AS dates from \"sales\") as temp_table\n",
      "\n",
      "\n",
      " ************************* DataFrame ********************* \n"
     ]
    },
    {
     "data": {
      "text/html": [
       "<style type=\"text/css\">\n",
       "\ttable {border:ridge 5px;}\n",
       "\ttable td {border:inset 1px;}\n",
       "\ttable tr#HeaderRow {background-color:grey; color:white;}</style>\n",
       "<html><table>\n",
       "\t<tr id=\"HeaderRow\">\n",
       "\t\t<th>accounts</th>\n",
       "\t\t<th>Feb</th>\n",
       "\t\t<th>Jan</th>\n",
       "\t\t<th>Mar</th>\n",
       "\t\t<th>Apr</th>\n",
       "\t\t<th>datetime</th>\n",
       "\t\t<th>dates</th>\n",
       "\t\t<th>res</th>\n",
       "\t</tr>\n",
       "\t<tr>\n",
       "\t\t<td>Alpha Co</td>\n",
       "\t\t<td>210.0</td>\n",
       "\t\t<td>200</td>\n",
       "\t\t<td>215</td>\n",
       "\t\t<td>250</td>\n",
       "\t\t<td>04/01/2017</td>\n",
       "\t\t<td>17/07/14</td>\n",
       "\t\t<td>6</td>\n",
       "\t</tr>\n",
       "\t<tr>\n",
       "\t\t<td>Blue Inc</td>\n",
       "\t\t<td>90.0</td>\n",
       "\t\t<td>50</td>\n",
       "\t\t<td>95</td>\n",
       "\t\t<td>101</td>\n",
       "\t\t<td>04/01/2017</td>\n",
       "\t\t<td>17/03/01</td>\n",
       "\t\t<td>4</td>\n",
       "\t</tr>\n",
       "\t<tr>\n",
       "\t\t<td>Jones LLC</td>\n",
       "\t\t<td>200.0</td>\n",
       "\t\t<td>150</td>\n",
       "\t\t<td>140</td>\n",
       "\t\t<td>180</td>\n",
       "\t\t<td>04/01/2017</td>\n",
       "\t\t<td>18/03/20</td>\n",
       "\t\t<td>2</td>\n",
       "\t</tr>\n",
       "\t<tr>\n",
       "\t\t<td>Orange Inc</td>\n",
       "\t\t<td>210.0</td>\n",
       "\t\t<td>None</td>\n",
       "\t\t<td>None</td>\n",
       "\t\t<td>250</td>\n",
       "\t\t<td>04/01/2017</td>\n",
       "\t\t<td>18/02/03</td>\n",
       "\t\t<td>6</td>\n",
       "\t</tr>\n",
       "\t<tr>\n",
       "\t\t<td>Red Inc</td>\n",
       "\t\t<td>200.0</td>\n",
       "\t\t<td>150</td>\n",
       "\t\t<td>140</td>\n",
       "\t\t<td>None</td>\n",
       "\t\t<td>04/01/2017</td>\n",
       "\t\t<td>17/08/25</td>\n",
       "\t\t<td>6</td>\n",
       "\t</tr>\n",
       "\t<tr>\n",
       "\t\t<td>Yellow Inc</td>\n",
       "\t\t<td>90.0</td>\n",
       "\t\t<td>None</td>\n",
       "\t\t<td>None</td>\n",
       "\t\t<td>None</td>\n",
       "\t\t<td>04/01/2017</td>\n",
       "\t\t<td>18/01/01</td>\n",
       "\t\t<td>1</td>\n",
       "\t</tr>\n",
       "</table></html>"
      ],
      "text/plain": [
       "              Feb    Jan    Mar    Apr    datetime     dates  res\n",
       "accounts                                                         \n",
       "Alpha Co    210.0  200.0  215.0  250.0  04/01/2017  17/07/14    6\n",
       "Blue Inc     90.0   50.0   95.0  101.0  04/01/2017  17/03/01    4\n",
       "Jones LLC   200.0  150.0  140.0  180.0  04/01/2017  18/03/20    2\n",
       "Orange Inc  210.0    NaN    NaN  250.0  04/01/2017  18/02/03    6\n",
       "Red Inc     200.0  150.0  140.0    NaN  04/01/2017  17/08/25    6\n",
       "Yellow Inc   90.0    NaN    NaN    NaN  04/01/2017  18/01/01    1"
      ]
     },
     "metadata": {},
     "output_type": "display_data"
    },
    {
     "name": "stdout",
     "output_type": "stream",
     "text": [
      "\n",
      "\n",
      "\n",
      " ************************* DataFrame.dtypes ********************* \n"
     ]
    },
    {
     "data": {
      "text/html": [
       "<style type=\"text/css\">\n",
       "                                table {border:ridge 5px;}\n",
       "                                table td {border:inset 1px;}\n",
       "                                table tr#HeaderRow {background-color:grey; color:white;}\n",
       "                               </style>\n",
       "                               <html>\n",
       "                                  <table>\n",
       "                                    <tr id=\"HeaderRow\">\n",
       "                                        <th>COLUMN NAME</th>\n",
       "                                        <th>TYPE</th>\n",
       "                                    </tr>\n",
       "                                    <tr><td>accounts</td><td>str</td></tr>\n",
       "<tr><td>Feb</td><td>float</td></tr>\n",
       "<tr><td>Jan</td><td>int</td></tr>\n",
       "<tr><td>Mar</td><td>int</td></tr>\n",
       "<tr><td>Apr</td><td>int</td></tr>\n",
       "<tr><td>datetime</td><td>datetime.date</td></tr>\n",
       "<tr><td>dates</td><td>datetime.date</td></tr>\n",
       "<tr><td>res</td><td>int</td></tr>\n",
       "                                  </table>\n",
       "                               </html>\n",
       "                            "
      ],
      "text/plain": [
       "accounts              str\n",
       "Feb                 float\n",
       "Jan                   int\n",
       "Mar                   int\n",
       "Apr                   int\n",
       "datetime    datetime.date\n",
       "dates       datetime.date\n",
       "res                   int"
      ]
     },
     "metadata": {},
     "output_type": "display_data"
    },
    {
     "name": "stdout",
     "output_type": "stream",
     "text": [
      "\n",
      "\n",
      "\n"
     ]
    }
   ],
   "source": [
    "# When \"Compatible\" is specified it takes the calendar_name as \"Compatible\"\n",
    "df = df_sales.assign(res = df_sales.dates.day_of_week(\"Compatible\")).sort('accounts')\n",
    "print_variables(df)"
   ]
  },
  {
   "cell_type": "markdown",
   "id": "afd984e8-22c3-4dbe-9e54-1a361366366c",
   "metadata": {},
   "source": [
    "### DataFrameColumn.to_timestamp()"
   ]
  },
  {
   "cell_type": "code",
   "execution_count": 57,
   "id": "0e106844-a22b-42b2-98f4-85b3d8bc230d",
   "metadata": {},
   "outputs": [
    {
     "name": "stdout",
     "output_type": "stream",
     "text": [
      "WARNING: Skipped loading table timestamp_data since it already exists in the database.\n",
      "Equivalent SQL: select * from \"timestamp_data\"\n",
      "\n",
      "\n",
      " ************************* DataFrame ********************* \n"
     ]
    },
    {
     "data": {
      "text/html": [
       "<style type=\"text/css\">\n",
       "\ttable {border:ridge 5px;}\n",
       "\ttable td {border:inset 1px;}\n",
       "\ttable tr#HeaderRow {background-color:grey; color:white;}</style>\n",
       "<html><table>\n",
       "\t<tr id=\"HeaderRow\">\n",
       "\t\t<th>id</th>\n",
       "\t\t<th>timestamp_col</th>\n",
       "\t\t<th>timestamp_col1</th>\n",
       "\t\t<th>format_col</th>\n",
       "\t\t<th>timezone_col</th>\n",
       "\t</tr>\n",
       "\t<tr>\n",
       "\t\t<td>2</td>\n",
       "\t\t<td>2015-01-08 00:00:12.2+10:00</td>\n",
       "\t\t<td>45678910234</td>\n",
       "\t\t<td>YYYY-MM-DD HH24:MI:SS.FF6 TZH:TZM</td>\n",
       "\t\t<td>GMT+10</td>\n",
       "\t</tr>\n",
       "\t<tr>\n",
       "\t\t<td>1</td>\n",
       "\t\t<td>2015-01-08 13:00</td>\n",
       "\t\t<td>878986</td>\n",
       "\t\t<td>YYYY-MM-DD HH24:MI</td>\n",
       "\t\t<td>America Pacific</td>\n",
       "\t</tr>\n",
       "\t<tr>\n",
       "\t\t<td>0</td>\n",
       "\t\t<td>2015-01-08 00:00:12.2</td>\n",
       "\t\t<td>123456</td>\n",
       "\t\t<td>YYYY-MM-DD HH24:MI:SS.FF6</td>\n",
       "\t\t<td>GMT</td>\n",
       "\t</tr>\n",
       "</table></html>"
      ],
      "text/plain": [
       "                  timestamp_col  timestamp_col1                         format_col     timezone_col\n",
       "id                                                                                                 \n",
       "2   2015-01-08 00:00:12.2+10:00     45678910234  YYYY-MM-DD HH24:MI:SS.FF6 TZH:TZM           GMT+10\n",
       "1              2015-01-08 13:00          878986                 YYYY-MM-DD HH24:MI  America Pacific\n",
       "0         2015-01-08 00:00:12.2          123456          YYYY-MM-DD HH24:MI:SS.FF6              GMT"
      ]
     },
     "metadata": {},
     "output_type": "display_data"
    },
    {
     "name": "stdout",
     "output_type": "stream",
     "text": [
      "\n",
      "\n",
      "\n",
      " ************************* DataFrame.dtypes ********************* \n"
     ]
    },
    {
     "data": {
      "text/html": [
       "<style type=\"text/css\">\n",
       "                                table {border:ridge 5px;}\n",
       "                                table td {border:inset 1px;}\n",
       "                                table tr#HeaderRow {background-color:grey; color:white;}\n",
       "                               </style>\n",
       "                               <html>\n",
       "                                  <table>\n",
       "                                    <tr id=\"HeaderRow\">\n",
       "                                        <th>COLUMN NAME</th>\n",
       "                                        <th>TYPE</th>\n",
       "                                    </tr>\n",
       "                                    <tr><td>id</td><td>int</td></tr>\n",
       "<tr><td>timestamp_col</td><td>str</td></tr>\n",
       "<tr><td>timestamp_col1</td><td>int</td></tr>\n",
       "<tr><td>format_col</td><td>str</td></tr>\n",
       "<tr><td>timezone_col</td><td>str</td></tr>\n",
       "                                  </table>\n",
       "                               </html>\n",
       "                            "
      ],
      "text/plain": [
       "id                int\n",
       "timestamp_col     str\n",
       "timestamp_col1    int\n",
       "format_col        str\n",
       "timezone_col      str"
      ]
     },
     "metadata": {},
     "output_type": "display_data"
    },
    {
     "name": "stdout",
     "output_type": "stream",
     "text": [
      "\n",
      "\n",
      "\n"
     ]
    }
   ],
   "source": [
    "# Load the data for to_timestamp function.\n",
    "load_example_data(\"teradataml\", \"timestamp_data\")\n",
    "df = DataFrame(\"timestamp_data\")\n",
    "print_variables(df)"
   ]
  },
  {
   "cell_type": "code",
   "execution_count": 58,
   "id": "1a7ede27-5a11-45d9-b04d-3d23ef471f3a",
   "metadata": {},
   "outputs": [
    {
     "name": "stdout",
     "output_type": "stream",
     "text": [
      "Equivalent SQL: select id AS id, timestamp_col1 AS timestamp_col1, to_timestamp(timestamp_col1) AS col from (select id,timestamp_col1 from \"timestamp_data\") as temp_table\n",
      "\n",
      "\n",
      " ************************* DataFrame ********************* \n"
     ]
    },
    {
     "data": {
      "text/html": [
       "<style type=\"text/css\">\n",
       "\ttable {border:ridge 5px;}\n",
       "\ttable td {border:inset 1px;}\n",
       "\ttable tr#HeaderRow {background-color:grey; color:white;}</style>\n",
       "<html><table>\n",
       "\t<tr id=\"HeaderRow\">\n",
       "\t\t<th>id</th>\n",
       "\t\t<th>timestamp_col1</th>\n",
       "\t\t<th>col</th>\n",
       "\t</tr>\n",
       "\t<tr>\n",
       "\t\t<td>0</td>\n",
       "\t\t<td>123456</td>\n",
       "\t\t<td>1970-01-02 10:17:36.000000</td>\n",
       "\t</tr>\n",
       "\t<tr>\n",
       "\t\t<td>2</td>\n",
       "\t\t<td>45678910234</td>\n",
       "\t\t<td>3417-07-05 02:10:34.000000</td>\n",
       "\t</tr>\n",
       "\t<tr>\n",
       "\t\t<td>1</td>\n",
       "\t\t<td>878986</td>\n",
       "\t\t<td>1970-01-11 04:09:46.000000</td>\n",
       "\t</tr>\n",
       "</table></html>"
      ],
      "text/plain": [
       "    timestamp_col1                         col\n",
       "id                                            \n",
       "0           123456  1970-01-02 10:17:36.000000\n",
       "2      45678910234  3417-07-05 02:10:34.000000\n",
       "1           878986  1970-01-11 04:09:46.000000"
      ]
     },
     "metadata": {},
     "output_type": "display_data"
    },
    {
     "name": "stdout",
     "output_type": "stream",
     "text": [
      "\n",
      "\n",
      "\n",
      " ************************* DataFrame.dtypes ********************* \n"
     ]
    },
    {
     "data": {
      "text/html": [
       "<style type=\"text/css\">\n",
       "                                table {border:ridge 5px;}\n",
       "                                table td {border:inset 1px;}\n",
       "                                table tr#HeaderRow {background-color:grey; color:white;}\n",
       "                               </style>\n",
       "                               <html>\n",
       "                                  <table>\n",
       "                                    <tr id=\"HeaderRow\">\n",
       "                                        <th>COLUMN NAME</th>\n",
       "                                        <th>TYPE</th>\n",
       "                                    </tr>\n",
       "                                    <tr><td>id</td><td>int</td></tr>\n",
       "<tr><td>timestamp_col1</td><td>int</td></tr>\n",
       "<tr><td>col</td><td>datetime.datetime</td></tr>\n",
       "                                  </table>\n",
       "                               </html>\n",
       "                            "
      ],
      "text/plain": [
       "id                              int\n",
       "timestamp_col1                  int\n",
       "col               datetime.datetime"
      ]
     },
     "metadata": {},
     "output_type": "display_data"
    },
    {
     "name": "stdout",
     "output_type": "stream",
     "text": [
      "\n",
      "\n",
      "\n"
     ]
    }
   ],
   "source": [
    "# Convert Epoch seconds to timestamp.\n",
    "df1 = df.select(['id','timestamp_col1']).assign(col = df.timestamp_col1.to_timestamp())\n",
    "print_variables(df1)"
   ]
  },
  {
   "cell_type": "code",
   "execution_count": 59,
   "id": "56a121fe-2061-4092-a19a-f3e33ca61e7e",
   "metadata": {},
   "outputs": [
    {
     "name": "stdout",
     "output_type": "stream",
     "text": [
      "Equivalent SQL: select id AS id, timestamp_col AS timestamp_col, format_col AS format_col, to_timestamp_tz(timestamp_col, format_col) AS col from (select id,timestamp_col,format_col from \"timestamp_data\") as temp_table\n",
      "\n",
      "\n",
      " ************************* DataFrame ********************* \n"
     ]
    },
    {
     "data": {
      "text/html": [
       "<style type=\"text/css\">\n",
       "\ttable {border:ridge 5px;}\n",
       "\ttable td {border:inset 1px;}\n",
       "\ttable tr#HeaderRow {background-color:grey; color:white;}</style>\n",
       "<html><table>\n",
       "\t<tr id=\"HeaderRow\">\n",
       "\t\t<th>id</th>\n",
       "\t\t<th>timestamp_col</th>\n",
       "\t\t<th>format_col</th>\n",
       "\t\t<th>col</th>\n",
       "\t</tr>\n",
       "\t<tr>\n",
       "\t\t<td>0</td>\n",
       "\t\t<td>2015-01-08 00:00:12.2</td>\n",
       "\t\t<td>YYYY-MM-DD HH24:MI:SS.FF6</td>\n",
       "\t\t<td>2015-01-08 00:00:12.200000+00:</td>\n",
       "\t</tr>\n",
       "\t<tr>\n",
       "\t\t<td>2</td>\n",
       "\t\t<td>2015-01-08 00:00:12.2+10:00</td>\n",
       "\t\t<td>YYYY-MM-DD HH24:MI:SS.FF6 TZH:TZM</td>\n",
       "\t\t<td>2015-01-08 00:00:12.200000+10:</td>\n",
       "\t</tr>\n",
       "\t<tr>\n",
       "\t\t<td>1</td>\n",
       "\t\t<td>2015-01-08 13:00</td>\n",
       "\t\t<td>YYYY-MM-DD HH24:MI</td>\n",
       "\t\t<td>2015-01-08 13:00:00.000000+00:</td>\n",
       "\t</tr>\n",
       "</table></html>"
      ],
      "text/plain": [
       "                  timestamp_col                         format_col                             col\n",
       "id                                                                                                \n",
       "0         2015-01-08 00:00:12.2          YYYY-MM-DD HH24:MI:SS.FF6  2015-01-08 00:00:12.200000+00:\n",
       "2   2015-01-08 00:00:12.2+10:00  YYYY-MM-DD HH24:MI:SS.FF6 TZH:TZM  2015-01-08 00:00:12.200000+10:\n",
       "1              2015-01-08 13:00                 YYYY-MM-DD HH24:MI  2015-01-08 13:00:00.000000+00:"
      ]
     },
     "metadata": {},
     "output_type": "display_data"
    },
    {
     "name": "stdout",
     "output_type": "stream",
     "text": [
      "\n",
      "\n",
      "\n",
      " ************************* DataFrame.dtypes ********************* \n"
     ]
    },
    {
     "data": {
      "text/html": [
       "<style type=\"text/css\">\n",
       "                                table {border:ridge 5px;}\n",
       "                                table td {border:inset 1px;}\n",
       "                                table tr#HeaderRow {background-color:grey; color:white;}\n",
       "                               </style>\n",
       "                               <html>\n",
       "                                  <table>\n",
       "                                    <tr id=\"HeaderRow\">\n",
       "                                        <th>COLUMN NAME</th>\n",
       "                                        <th>TYPE</th>\n",
       "                                    </tr>\n",
       "                                    <tr><td>id</td><td>int</td></tr>\n",
       "<tr><td>timestamp_col</td><td>str</td></tr>\n",
       "<tr><td>format_col</td><td>str</td></tr>\n",
       "<tr><td>col</td><td>datetime.datetime</td></tr>\n",
       "                                  </table>\n",
       "                               </html>\n",
       "                            "
      ],
      "text/plain": [
       "id                             int\n",
       "timestamp_col                  str\n",
       "format_col                     str\n",
       "col              datetime.datetime"
      ]
     },
     "metadata": {},
     "output_type": "display_data"
    },
    {
     "name": "stdout",
     "output_type": "stream",
     "text": [
      "\n",
      "\n",
      "\n"
     ]
    }
   ],
   "source": [
    "# Convert timestamp string to timestamp with timezone in format mentioned in column \"format_col\".\n",
    "df1 = df.select(['id', 'timestamp_col', 'format_col']).assign(col = df.timestamp_col.to_timestamp(df.format_col, TIMESTAMP(timezone=True)))\n",
    "print_variables(df1)"
   ]
  },
  {
   "cell_type": "markdown",
   "id": "ac3668c5-705d-4d2a-aefe-7645a3e2c69c",
   "metadata": {},
   "source": [
    "### DataFrameColumn.extract()"
   ]
  },
  {
   "cell_type": "code",
   "execution_count": 60,
   "id": "2681f5fc-9f6d-4b54-b040-55d01d2b1967",
   "metadata": {},
   "outputs": [
    {
     "name": "stdout",
     "output_type": "stream",
     "text": [
      "WARNING: Skipped loading table Traindata since it already exists in the database.\n",
      "Equivalent SQL: select seq_no,schedule_date,\"arrivalTime\" from \"Traindata\"\n",
      "\n",
      "\n",
      " ************************* DataFrame ********************* \n"
     ]
    },
    {
     "data": {
      "text/html": [
       "<style type=\"text/css\">\n",
       "\ttable {border:ridge 5px;}\n",
       "\ttable td {border:inset 1px;}\n",
       "\ttable tr#HeaderRow {background-color:grey; color:white;}</style>\n",
       "<html><table>\n",
       "\t<tr id=\"HeaderRow\">\n",
       "\t\t<th>seq_no</th>\n",
       "\t\t<th>schedule_date</th>\n",
       "\t\t<th>arrivalTime</th>\n",
       "\t</tr>\n",
       "\t<tr>\n",
       "\t\t<td>13</td>\n",
       "\t\t<td>16/03/26</td>\n",
       "\t\t<td>2016-03-26 11:33:00</td>\n",
       "\t</tr>\n",
       "\t<tr>\n",
       "\t\t<td>9</td>\n",
       "\t\t<td>16/03/26</td>\n",
       "\t\t<td>2016-03-26 11:19:06</td>\n",
       "\t</tr>\n",
       "\t<tr>\n",
       "\t\t<td>16</td>\n",
       "\t\t<td>16/03/26</td>\n",
       "\t\t<td>2016-03-26 11:51:00</td>\n",
       "\t</tr>\n",
       "\t<tr>\n",
       "\t\t<td>19</td>\n",
       "\t\t<td>16/03/26</td>\n",
       "\t\t<td>2016-03-26 12:07:06</td>\n",
       "\t</tr>\n",
       "\t<tr>\n",
       "\t\t<td>26</td>\n",
       "\t\t<td>16/03/26</td>\n",
       "\t\t<td>2016-03-26 12:33:05</td>\n",
       "\t</tr>\n",
       "\t<tr>\n",
       "\t\t<td>5</td>\n",
       "\t\t<td>16/03/26</td>\n",
       "\t\t<td>2016-03-26 11:03:06</td>\n",
       "\t</tr>\n",
       "\t<tr>\n",
       "\t\t<td>24</td>\n",
       "\t\t<td>16/03/26</td>\n",
       "\t\t<td>2016-03-26 12:25:06</td>\n",
       "\t</tr>\n",
       "\t<tr>\n",
       "\t\t<td>3</td>\n",
       "\t\t<td>16/03/26</td>\n",
       "\t\t<td>2016-03-26 10:52:05</td>\n",
       "\t</tr>\n",
       "\t<tr>\n",
       "\t\t<td>7</td>\n",
       "\t\t<td>16/03/26</td>\n",
       "\t\t<td>2016-03-26 11:10:06</td>\n",
       "\t</tr>\n",
       "\t<tr>\n",
       "\t\t<td>11</td>\n",
       "\t\t<td>16/03/26</td>\n",
       "\t\t<td>2016-03-26 11:26:00</td>\n",
       "\t</tr>\n",
       "</table></html>"
      ],
      "text/plain": [
       "       schedule_date          arrivalTime\n",
       "seq_no                                   \n",
       "13          16/03/26  2016-03-26 11:33:00\n",
       "9           16/03/26  2016-03-26 11:19:06\n",
       "16          16/03/26  2016-03-26 11:51:00\n",
       "19          16/03/26  2016-03-26 12:07:06\n",
       "26          16/03/26  2016-03-26 12:33:05\n",
       "5           16/03/26  2016-03-26 11:03:06\n",
       "24          16/03/26  2016-03-26 12:25:06\n",
       "3           16/03/26  2016-03-26 10:52:05\n",
       "7           16/03/26  2016-03-26 11:10:06\n",
       "11          16/03/26  2016-03-26 11:26:00"
      ]
     },
     "metadata": {},
     "output_type": "display_data"
    },
    {
     "name": "stdout",
     "output_type": "stream",
     "text": [
      "\n",
      "\n",
      "\n",
      " ************************* DataFrame.dtypes ********************* \n"
     ]
    },
    {
     "data": {
      "text/html": [
       "<style type=\"text/css\">\n",
       "                                table {border:ridge 5px;}\n",
       "                                table td {border:inset 1px;}\n",
       "                                table tr#HeaderRow {background-color:grey; color:white;}\n",
       "                               </style>\n",
       "                               <html>\n",
       "                                  <table>\n",
       "                                    <tr id=\"HeaderRow\">\n",
       "                                        <th>COLUMN NAME</th>\n",
       "                                        <th>TYPE</th>\n",
       "                                    </tr>\n",
       "                                    <tr><td>seq_no</td><td>int</td></tr>\n",
       "<tr><td>schedule_date</td><td>datetime.date</td></tr>\n",
       "<tr><td>arrivalTime</td><td>datetime.datetime</td></tr>\n",
       "                                  </table>\n",
       "                               </html>\n",
       "                            "
      ],
      "text/plain": [
       "seq_no                         int\n",
       "schedule_date        datetime.date\n",
       "arrivalTime      datetime.datetime"
      ]
     },
     "metadata": {},
     "output_type": "display_data"
    },
    {
     "name": "stdout",
     "output_type": "stream",
     "text": [
      "\n",
      "\n",
      "\n"
     ]
    }
   ],
   "source": [
    "# Load the data for extract function.\n",
    "load_example_data(\"uaf\", \"Traindata\")\n",
    "temp_df = DataFrame(\"Traindata\")\n",
    "df = temp_df.select([\"seq_no\", \"schedule_date\", \"arrivalTime\"])\n",
    "print_variables(df)"
   ]
  },
  {
   "cell_type": "code",
   "execution_count": 61,
   "id": "4ab8fc97-ab94-4fc0-8662-3025574120b1",
   "metadata": {},
   "outputs": [
    {
     "name": "stdout",
     "output_type": "stream",
     "text": [
      "Equivalent SQL: select seq_no AS seq_no, schedule_date AS schedule_date, \"arrivalTime\" AS \"arrivalTime\", EXTRACT(HOUR FROM \"arrivalTime\") AS col from (select seq_no,schedule_date,\"arrivalTime\" from \"Traindata\") as temp_table\n",
      "\n",
      "\n",
      " ************************* DataFrame ********************* \n"
     ]
    },
    {
     "data": {
      "text/html": [
       "<style type=\"text/css\">\n",
       "\ttable {border:ridge 5px;}\n",
       "\ttable td {border:inset 1px;}\n",
       "\ttable tr#HeaderRow {background-color:grey; color:white;}</style>\n",
       "<html><table>\n",
       "\t<tr id=\"HeaderRow\">\n",
       "\t\t<th>seq_no</th>\n",
       "\t\t<th>schedule_date</th>\n",
       "\t\t<th>arrivalTime</th>\n",
       "\t\t<th>col</th>\n",
       "\t</tr>\n",
       "\t<tr>\n",
       "\t\t<td>13</td>\n",
       "\t\t<td>16/03/26</td>\n",
       "\t\t<td>2016-03-26 11:33:00</td>\n",
       "\t\t<td>11</td>\n",
       "\t</tr>\n",
       "\t<tr>\n",
       "\t\t<td>9</td>\n",
       "\t\t<td>16/03/26</td>\n",
       "\t\t<td>2016-03-26 11:19:06</td>\n",
       "\t\t<td>11</td>\n",
       "\t</tr>\n",
       "\t<tr>\n",
       "\t\t<td>16</td>\n",
       "\t\t<td>16/03/26</td>\n",
       "\t\t<td>2016-03-26 11:51:00</td>\n",
       "\t\t<td>11</td>\n",
       "\t</tr>\n",
       "\t<tr>\n",
       "\t\t<td>19</td>\n",
       "\t\t<td>16/03/26</td>\n",
       "\t\t<td>2016-03-26 12:07:06</td>\n",
       "\t\t<td>12</td>\n",
       "\t</tr>\n",
       "\t<tr>\n",
       "\t\t<td>26</td>\n",
       "\t\t<td>16/03/26</td>\n",
       "\t\t<td>2016-03-26 12:33:05</td>\n",
       "\t\t<td>12</td>\n",
       "\t</tr>\n",
       "\t<tr>\n",
       "\t\t<td>5</td>\n",
       "\t\t<td>16/03/26</td>\n",
       "\t\t<td>2016-03-26 11:03:06</td>\n",
       "\t\t<td>11</td>\n",
       "\t</tr>\n",
       "\t<tr>\n",
       "\t\t<td>24</td>\n",
       "\t\t<td>16/03/26</td>\n",
       "\t\t<td>2016-03-26 12:25:06</td>\n",
       "\t\t<td>12</td>\n",
       "\t</tr>\n",
       "\t<tr>\n",
       "\t\t<td>3</td>\n",
       "\t\t<td>16/03/26</td>\n",
       "\t\t<td>2016-03-26 10:52:05</td>\n",
       "\t\t<td>10</td>\n",
       "\t</tr>\n",
       "\t<tr>\n",
       "\t\t<td>7</td>\n",
       "\t\t<td>16/03/26</td>\n",
       "\t\t<td>2016-03-26 11:10:06</td>\n",
       "\t\t<td>11</td>\n",
       "\t</tr>\n",
       "\t<tr>\n",
       "\t\t<td>11</td>\n",
       "\t\t<td>16/03/26</td>\n",
       "\t\t<td>2016-03-26 11:26:00</td>\n",
       "\t\t<td>11</td>\n",
       "\t</tr>\n",
       "</table></html>"
      ],
      "text/plain": [
       "       schedule_date          arrivalTime col\n",
       "seq_no                                       \n",
       "13          16/03/26  2016-03-26 11:33:00  11\n",
       "9           16/03/26  2016-03-26 11:19:06  11\n",
       "16          16/03/26  2016-03-26 11:51:00  11\n",
       "19          16/03/26  2016-03-26 12:07:06  12\n",
       "26          16/03/26  2016-03-26 12:33:05  12\n",
       "5           16/03/26  2016-03-26 11:03:06  11\n",
       "24          16/03/26  2016-03-26 12:25:06  12\n",
       "3           16/03/26  2016-03-26 10:52:05  10\n",
       "7           16/03/26  2016-03-26 11:10:06  11\n",
       "11          16/03/26  2016-03-26 11:26:00  11"
      ]
     },
     "metadata": {},
     "output_type": "display_data"
    },
    {
     "name": "stdout",
     "output_type": "stream",
     "text": [
      "\n",
      "\n",
      "\n",
      " ************************* DataFrame.dtypes ********************* \n"
     ]
    },
    {
     "data": {
      "text/html": [
       "<style type=\"text/css\">\n",
       "                                table {border:ridge 5px;}\n",
       "                                table td {border:inset 1px;}\n",
       "                                table tr#HeaderRow {background-color:grey; color:white;}\n",
       "                               </style>\n",
       "                               <html>\n",
       "                                  <table>\n",
       "                                    <tr id=\"HeaderRow\">\n",
       "                                        <th>COLUMN NAME</th>\n",
       "                                        <th>TYPE</th>\n",
       "                                    </tr>\n",
       "                                    <tr><td>seq_no</td><td>int</td></tr>\n",
       "<tr><td>schedule_date</td><td>datetime.date</td></tr>\n",
       "<tr><td>arrivalTime</td><td>datetime.datetime</td></tr>\n",
       "<tr><td>col</td><td>int</td></tr>\n",
       "                                  </table>\n",
       "                               </html>\n",
       "                            "
      ],
      "text/plain": [
       "seq_no                         int\n",
       "schedule_date        datetime.date\n",
       "arrivalTime      datetime.datetime\n",
       "col                            int"
      ]
     },
     "metadata": {},
     "output_type": "display_data"
    },
    {
     "name": "stdout",
     "output_type": "stream",
     "text": [
      "\n",
      "\n",
      "\n"
     ]
    }
   ],
   "source": [
    "# Extract hour from column 'arrivalTime'.\n",
    "df1 = df.assign(col = df.arrivalTime.extract('HOUR'))\n",
    "print_variables(df1)"
   ]
  },
  {
   "cell_type": "markdown",
   "id": "4e78f19d-a8ec-4e5b-87d2-0db422c55ea8",
   "metadata": {},
   "source": [
    "### DataFrameColumn.to_interval()"
   ]
  },
  {
   "cell_type": "code",
   "execution_count": 62,
   "id": "bcd09f57-06f5-402f-84de-9e7b23186174",
   "metadata": {},
   "outputs": [
    {
     "name": "stdout",
     "output_type": "stream",
     "text": [
      "WARNING: Skipped loading table interval_data since it already exists in the database.\n",
      "Equivalent SQL: select * from \"interval_data\"\n",
      "\n",
      "\n",
      " ************************* DataFrame ********************* \n"
     ]
    },
    {
     "data": {
      "text/html": [
       "<style type=\"text/css\">\n",
       "\ttable {border:ridge 5px;}\n",
       "\ttable td {border:inset 1px;}\n",
       "\ttable tr#HeaderRow {background-color:grey; color:white;}</style>\n",
       "<html><table>\n",
       "\t<tr id=\"HeaderRow\">\n",
       "\t\t<th>id</th>\n",
       "\t\t<th>int_col</th>\n",
       "\t\t<th>value_col</th>\n",
       "\t\t<th>value_col1</th>\n",
       "\t\t<th>str_col1</th>\n",
       "\t\t<th>str_col2</th>\n",
       "\t</tr>\n",
       "\t<tr>\n",
       "\t\t<td>1</td>\n",
       "\t\t<td>240</td>\n",
       "\t\t<td>HOUR</td>\n",
       "\t\t<td>YEAR</td>\n",
       "\t\t<td>P100DT4H23M59S</td>\n",
       "\t\t<td>P100Y4M</td>\n",
       "\t</tr>\n",
       "\t<tr>\n",
       "\t\t<td>2</td>\n",
       "\t\t<td>657</td>\n",
       "\t\t<td>MINUTE</td>\n",
       "\t\t<td>MONTH</td>\n",
       "\t\t<td>PT73H</td>\n",
       "\t\t<td>-P14M</td>\n",
       "\t</tr>\n",
       "\t<tr>\n",
       "\t\t<td>3</td>\n",
       "\t\t<td>1234</td>\n",
       "\t\t<td>SECOND</td>\n",
       "\t\t<td>MONTH</td>\n",
       "\t\t<td>100 04:23:59</td>\n",
       "\t\t<td>06-10</td>\n",
       "\t</tr>\n",
       "\t<tr>\n",
       "\t\t<td>0</td>\n",
       "\t\t<td>20</td>\n",
       "\t\t<td>DAY</td>\n",
       "\t\t<td>YEAR</td>\n",
       "\t\t<td>100 04:23:59</td>\n",
       "\t\t<td>04-10</td>\n",
       "\t</tr>\n",
       "</table></html>"
      ],
      "text/plain": [
       "    int_col value_col value_col1        str_col1 str_col2\n",
       "id                                                       \n",
       "1       240      HOUR       YEAR  P100DT4H23M59S  P100Y4M\n",
       "2       657    MINUTE      MONTH           PT73H    -P14M\n",
       "3      1234    SECOND      MONTH    100 04:23:59    06-10\n",
       "0        20       DAY       YEAR    100 04:23:59    04-10"
      ]
     },
     "metadata": {},
     "output_type": "display_data"
    },
    {
     "name": "stdout",
     "output_type": "stream",
     "text": [
      "\n",
      "\n",
      "\n",
      " ************************* DataFrame.dtypes ********************* \n"
     ]
    },
    {
     "data": {
      "text/html": [
       "<style type=\"text/css\">\n",
       "                                table {border:ridge 5px;}\n",
       "                                table td {border:inset 1px;}\n",
       "                                table tr#HeaderRow {background-color:grey; color:white;}\n",
       "                               </style>\n",
       "                               <html>\n",
       "                                  <table>\n",
       "                                    <tr id=\"HeaderRow\">\n",
       "                                        <th>COLUMN NAME</th>\n",
       "                                        <th>TYPE</th>\n",
       "                                    </tr>\n",
       "                                    <tr><td>id</td><td>int</td></tr>\n",
       "<tr><td>int_col</td><td>int</td></tr>\n",
       "<tr><td>value_col</td><td>str</td></tr>\n",
       "<tr><td>value_col1</td><td>str</td></tr>\n",
       "<tr><td>str_col1</td><td>str</td></tr>\n",
       "<tr><td>str_col2</td><td>str</td></tr>\n",
       "                                  </table>\n",
       "                               </html>\n",
       "                            "
      ],
      "text/plain": [
       "id            int\n",
       "int_col       int\n",
       "value_col     str\n",
       "value_col1    str\n",
       "str_col1      str\n",
       "str_col2      str"
      ]
     },
     "metadata": {},
     "output_type": "display_data"
    },
    {
     "name": "stdout",
     "output_type": "stream",
     "text": [
      "\n",
      "\n",
      "\n"
     ]
    }
   ],
   "source": [
    "# Load the data for to_interval() function.\n",
    "load_example_data(\"teradataml\", \"interval_data\")\n",
    "df = DataFrame(\"interval_data\")\n",
    "print_variables(df)"
   ]
  },
  {
   "cell_type": "code",
   "execution_count": 63,
   "id": "fbee6ddb-a54a-4c23-a4cd-fd2665878221",
   "metadata": {},
   "outputs": [
    {
     "name": "stdout",
     "output_type": "stream",
     "text": [
      "Equivalent SQL: select id AS id, int_col AS int_col, value_col AS value_col, value_col1 AS value_col1, str_col1 AS str_col1, str_col2 AS str_col2, numtoyminterval(int_col, 'MONTH') AS col from \"interval_data\"\n",
      "\n",
      "\n",
      " ************************* DataFrame ********************* \n"
     ]
    },
    {
     "data": {
      "text/html": [
       "<style type=\"text/css\">\n",
       "\ttable {border:ridge 5px;}\n",
       "\ttable td {border:inset 1px;}\n",
       "\ttable tr#HeaderRow {background-color:grey; color:white;}</style>\n",
       "<html><table>\n",
       "\t<tr id=\"HeaderRow\">\n",
       "\t\t<th>id</th>\n",
       "\t\t<th>int_col</th>\n",
       "\t\t<th>value_col</th>\n",
       "\t\t<th>value_col1</th>\n",
       "\t\t<th>str_col1</th>\n",
       "\t\t<th>str_col2</th>\n",
       "\t\t<th>col</th>\n",
       "\t</tr>\n",
       "\t<tr>\n",
       "\t\t<td>1</td>\n",
       "\t\t<td>240</td>\n",
       "\t\t<td>HOUR</td>\n",
       "\t\t<td>YEAR</td>\n",
       "\t\t<td>P100DT4H23M59S</td>\n",
       "\t\t<td>P100Y4M</td>\n",
       "\t\t<td>   20-00</td>\n",
       "\t</tr>\n",
       "\t<tr>\n",
       "\t\t<td>2</td>\n",
       "\t\t<td>657</td>\n",
       "\t\t<td>MINUTE</td>\n",
       "\t\t<td>MONTH</td>\n",
       "\t\t<td>PT73H</td>\n",
       "\t\t<td>-P14M</td>\n",
       "\t\t<td>   54-09</td>\n",
       "\t</tr>\n",
       "\t<tr>\n",
       "\t\t<td>3</td>\n",
       "\t\t<td>1234</td>\n",
       "\t\t<td>SECOND</td>\n",
       "\t\t<td>MONTH</td>\n",
       "\t\t<td>100 04:23:59</td>\n",
       "\t\t<td>06-10</td>\n",
       "\t\t<td>  102-10</td>\n",
       "\t</tr>\n",
       "\t<tr>\n",
       "\t\t<td>0</td>\n",
       "\t\t<td>20</td>\n",
       "\t\t<td>DAY</td>\n",
       "\t\t<td>YEAR</td>\n",
       "\t\t<td>100 04:23:59</td>\n",
       "\t\t<td>04-10</td>\n",
       "\t\t<td>    1-08</td>\n",
       "\t</tr>\n",
       "</table></html>"
      ],
      "text/plain": [
       "    int_col value_col value_col1        str_col1 str_col2       col\n",
       "id                                                                 \n",
       "1       240      HOUR       YEAR  P100DT4H23M59S  P100Y4M     20-00\n",
       "2       657    MINUTE      MONTH           PT73H    -P14M     54-09\n",
       "3      1234    SECOND      MONTH    100 04:23:59    06-10    102-10\n",
       "0        20       DAY       YEAR    100 04:23:59    04-10      1-08"
      ]
     },
     "metadata": {},
     "output_type": "display_data"
    },
    {
     "name": "stdout",
     "output_type": "stream",
     "text": [
      "\n",
      "\n",
      "\n",
      " ************************* DataFrame.dtypes ********************* \n"
     ]
    },
    {
     "data": {
      "text/html": [
       "<style type=\"text/css\">\n",
       "                                table {border:ridge 5px;}\n",
       "                                table td {border:inset 1px;}\n",
       "                                table tr#HeaderRow {background-color:grey; color:white;}\n",
       "                               </style>\n",
       "                               <html>\n",
       "                                  <table>\n",
       "                                    <tr id=\"HeaderRow\">\n",
       "                                        <th>COLUMN NAME</th>\n",
       "                                        <th>TYPE</th>\n",
       "                                    </tr>\n",
       "                                    <tr><td>id</td><td>int</td></tr>\n",
       "<tr><td>int_col</td><td>int</td></tr>\n",
       "<tr><td>value_col</td><td>str</td></tr>\n",
       "<tr><td>value_col1</td><td>str</td></tr>\n",
       "<tr><td>str_col1</td><td>str</td></tr>\n",
       "<tr><td>str_col2</td><td>str</td></tr>\n",
       "<tr><td>col</td><td>str</td></tr>\n",
       "                                  </table>\n",
       "                               </html>\n",
       "                            "
      ],
      "text/plain": [
       "id            int\n",
       "int_col       int\n",
       "value_col     str\n",
       "value_col1    str\n",
       "str_col1      str\n",
       "str_col2      str\n",
       "col           str"
      ]
     },
     "metadata": {},
     "output_type": "display_data"
    },
    {
     "name": "stdout",
     "output_type": "stream",
     "text": [
      "\n",
      "\n",
      "\n"
     ]
    }
   ],
   "source": [
    "# Convert int_col to INTERVAL_YEAR_TO_MONTH when value = 'MONTH'.\n",
    "df = df.assign(col = df.int_col.to_interval('MONTH', INTERVAL_YEAR_TO_MONTH))\n",
    "print_variables(df)"
   ]
  },
  {
   "cell_type": "markdown",
   "id": "578189c0-2b71-4438-8e4a-3e7d721f8c6b",
   "metadata": {},
   "source": [
    "### DataFrameColumn.trunc()"
   ]
  },
  {
   "cell_type": "code",
   "execution_count": 64,
   "id": "5822bb16-96eb-4457-a120-e8b04d4087c3",
   "metadata": {},
   "outputs": [
    {
     "name": "stdout",
     "output_type": "stream",
     "text": [
      "Equivalent SQL: select accounts AS accounts, \"Feb\" AS \"Feb\", \"Jan\" AS \"Jan\", \"Mar\" AS \"Mar\", \"Apr\" AS \"Apr\", datetime AS datetime, dates AS dates, trunc(dates, 'MON') AS res from (select accounts AS accounts, \"Feb\" AS \"Feb\", \"Jan\" AS \"Jan\", \"Mar\" AS \"Mar\", \"Apr\" AS \"Apr\", datetime AS datetime, CASE WHEN (accounts = 'Alpha Co') THEN datetime + 191 WHEN (accounts = 'Blue Inc') THEN datetime + 56 WHEN (accounts = 'Jones LLC') THEN datetime + 440 WHEN (accounts = 'Orange Inc') THEN datetime + 395 WHEN (accounts = 'Yellow Inc') THEN datetime + 362 WHEN (accounts = 'Red Inc') THEN datetime + 233 END AS dates from \"sales\") as temp_table\n",
      "\n",
      "\n",
      " ************************* DataFrame ********************* \n"
     ]
    },
    {
     "data": {
      "text/html": [
       "<style type=\"text/css\">\n",
       "\ttable {border:ridge 5px;}\n",
       "\ttable td {border:inset 1px;}\n",
       "\ttable tr#HeaderRow {background-color:grey; color:white;}</style>\n",
       "<html><table>\n",
       "\t<tr id=\"HeaderRow\">\n",
       "\t\t<th>accounts</th>\n",
       "\t\t<th>Feb</th>\n",
       "\t\t<th>Jan</th>\n",
       "\t\t<th>Mar</th>\n",
       "\t\t<th>Apr</th>\n",
       "\t\t<th>datetime</th>\n",
       "\t\t<th>dates</th>\n",
       "\t\t<th>res</th>\n",
       "\t</tr>\n",
       "\t<tr>\n",
       "\t\t<td>Alpha Co</td>\n",
       "\t\t<td>210.0</td>\n",
       "\t\t<td>200</td>\n",
       "\t\t<td>215</td>\n",
       "\t\t<td>250</td>\n",
       "\t\t<td>04/01/2017</td>\n",
       "\t\t<td>17/07/14</td>\n",
       "\t\t<td>17/07/01</td>\n",
       "\t</tr>\n",
       "\t<tr>\n",
       "\t\t<td>Blue Inc</td>\n",
       "\t\t<td>90.0</td>\n",
       "\t\t<td>50</td>\n",
       "\t\t<td>95</td>\n",
       "\t\t<td>101</td>\n",
       "\t\t<td>04/01/2017</td>\n",
       "\t\t<td>17/03/01</td>\n",
       "\t\t<td>17/03/01</td>\n",
       "\t</tr>\n",
       "\t<tr>\n",
       "\t\t<td>Jones LLC</td>\n",
       "\t\t<td>200.0</td>\n",
       "\t\t<td>150</td>\n",
       "\t\t<td>140</td>\n",
       "\t\t<td>180</td>\n",
       "\t\t<td>04/01/2017</td>\n",
       "\t\t<td>18/03/20</td>\n",
       "\t\t<td>18/03/01</td>\n",
       "\t</tr>\n",
       "\t<tr>\n",
       "\t\t<td>Orange Inc</td>\n",
       "\t\t<td>210.0</td>\n",
       "\t\t<td>None</td>\n",
       "\t\t<td>None</td>\n",
       "\t\t<td>250</td>\n",
       "\t\t<td>04/01/2017</td>\n",
       "\t\t<td>18/02/03</td>\n",
       "\t\t<td>18/02/01</td>\n",
       "\t</tr>\n",
       "\t<tr>\n",
       "\t\t<td>Red Inc</td>\n",
       "\t\t<td>200.0</td>\n",
       "\t\t<td>150</td>\n",
       "\t\t<td>140</td>\n",
       "\t\t<td>None</td>\n",
       "\t\t<td>04/01/2017</td>\n",
       "\t\t<td>17/08/25</td>\n",
       "\t\t<td>17/08/01</td>\n",
       "\t</tr>\n",
       "\t<tr>\n",
       "\t\t<td>Yellow Inc</td>\n",
       "\t\t<td>90.0</td>\n",
       "\t\t<td>None</td>\n",
       "\t\t<td>None</td>\n",
       "\t\t<td>None</td>\n",
       "\t\t<td>04/01/2017</td>\n",
       "\t\t<td>18/01/01</td>\n",
       "\t\t<td>18/01/01</td>\n",
       "\t</tr>\n",
       "</table></html>"
      ],
      "text/plain": [
       "              Feb    Jan    Mar    Apr    datetime     dates       res\n",
       "accounts                                                              \n",
       "Alpha Co    210.0  200.0  215.0  250.0  04/01/2017  17/07/14  17/07/01\n",
       "Blue Inc     90.0   50.0   95.0  101.0  04/01/2017  17/03/01  17/03/01\n",
       "Jones LLC   200.0  150.0  140.0  180.0  04/01/2017  18/03/20  18/03/01\n",
       "Orange Inc  210.0    NaN    NaN  250.0  04/01/2017  18/02/03  18/02/01\n",
       "Red Inc     200.0  150.0  140.0    NaN  04/01/2017  17/08/25  17/08/01\n",
       "Yellow Inc   90.0    NaN    NaN    NaN  04/01/2017  18/01/01  18/01/01"
      ]
     },
     "metadata": {},
     "output_type": "display_data"
    },
    {
     "name": "stdout",
     "output_type": "stream",
     "text": [
      "\n",
      "\n",
      "\n",
      " ************************* DataFrame.dtypes ********************* \n"
     ]
    },
    {
     "data": {
      "text/html": [
       "<style type=\"text/css\">\n",
       "                                table {border:ridge 5px;}\n",
       "                                table td {border:inset 1px;}\n",
       "                                table tr#HeaderRow {background-color:grey; color:white;}\n",
       "                               </style>\n",
       "                               <html>\n",
       "                                  <table>\n",
       "                                    <tr id=\"HeaderRow\">\n",
       "                                        <th>COLUMN NAME</th>\n",
       "                                        <th>TYPE</th>\n",
       "                                    </tr>\n",
       "                                    <tr><td>accounts</td><td>str</td></tr>\n",
       "<tr><td>Feb</td><td>float</td></tr>\n",
       "<tr><td>Jan</td><td>int</td></tr>\n",
       "<tr><td>Mar</td><td>int</td></tr>\n",
       "<tr><td>Apr</td><td>int</td></tr>\n",
       "<tr><td>datetime</td><td>datetime.date</td></tr>\n",
       "<tr><td>dates</td><td>datetime.date</td></tr>\n",
       "<tr><td>res</td><td>str</td></tr>\n",
       "                                  </table>\n",
       "                               </html>\n",
       "                            "
      ],
      "text/plain": [
       "accounts              str\n",
       "Feb                 float\n",
       "Jan                   int\n",
       "Mar                   int\n",
       "Apr                   int\n",
       "datetime    datetime.date\n",
       "dates       datetime.date\n",
       "res                   str"
      ]
     },
     "metadata": {},
     "output_type": "display_data"
    },
    {
     "name": "stdout",
     "output_type": "stream",
     "text": [
      "\n",
      "\n",
      "\n"
     ]
    }
   ],
   "source": [
    "# Truncate the value of 'dates' to beginning of the month.\n",
    "df = df_sales.assign(res = df_sales.dates.trunc(formatter=\"MON\")).sort('accounts')\n",
    "print_variables(df)"
   ]
  },
  {
   "cell_type": "markdown",
   "id": "5e2e4ce8-b101-408e-a6b5-d1658e9ad43a",
   "metadata": {},
   "source": [
    "### DataFrameColumn.to_date()"
   ]
  },
  {
   "cell_type": "code",
   "execution_count": 65,
   "id": "6b8a3594-0f7a-40b6-b88b-a768199b05eb",
   "metadata": {},
   "outputs": [
    {
     "name": "stdout",
     "output_type": "stream",
     "text": [
      "Equivalent SQL: select accounts AS accounts, \"Feb\" AS \"Feb\", \"Jan\" AS \"Jan\", \"Mar\" AS \"Mar\", \"Apr\" AS \"Apr\", datetime AS datetime, dates AS dates, to_char(dates, 'DD-MON-YYYY') AS timevalue_char from (select accounts AS accounts, \"Feb\" AS \"Feb\", \"Jan\" AS \"Jan\", \"Mar\" AS \"Mar\", \"Apr\" AS \"Apr\", datetime AS datetime, CASE WHEN (accounts = 'Alpha Co') THEN datetime + 191 WHEN (accounts = 'Blue Inc') THEN datetime + 56 WHEN (accounts = 'Jones LLC') THEN datetime + 440 WHEN (accounts = 'Orange Inc') THEN datetime + 395 WHEN (accounts = 'Yellow Inc') THEN datetime + 362 WHEN (accounts = 'Red Inc') THEN datetime + 233 END AS dates from \"sales\") as temp_table\n",
      "\n",
      "\n",
      " ************************* DataFrame ********************* \n"
     ]
    },
    {
     "data": {
      "text/html": [
       "<style type=\"text/css\">\n",
       "\ttable {border:ridge 5px;}\n",
       "\ttable td {border:inset 1px;}\n",
       "\ttable tr#HeaderRow {background-color:grey; color:white;}</style>\n",
       "<html><table>\n",
       "\t<tr id=\"HeaderRow\">\n",
       "\t\t<th>accounts</th>\n",
       "\t\t<th>Feb</th>\n",
       "\t\t<th>Jan</th>\n",
       "\t\t<th>Mar</th>\n",
       "\t\t<th>Apr</th>\n",
       "\t\t<th>datetime</th>\n",
       "\t\t<th>dates</th>\n",
       "\t\t<th>timevalue_char</th>\n",
       "\t</tr>\n",
       "\t<tr>\n",
       "\t\t<td>Alpha Co</td>\n",
       "\t\t<td>210.0</td>\n",
       "\t\t<td>200</td>\n",
       "\t\t<td>215</td>\n",
       "\t\t<td>250</td>\n",
       "\t\t<td>04/01/2017</td>\n",
       "\t\t<td>17/07/14</td>\n",
       "\t\t<td>14-JUL-2017</td>\n",
       "\t</tr>\n",
       "\t<tr>\n",
       "\t\t<td>Blue Inc</td>\n",
       "\t\t<td>90.0</td>\n",
       "\t\t<td>50</td>\n",
       "\t\t<td>95</td>\n",
       "\t\t<td>101</td>\n",
       "\t\t<td>04/01/2017</td>\n",
       "\t\t<td>17/03/01</td>\n",
       "\t\t<td>01-MAR-2017</td>\n",
       "\t</tr>\n",
       "\t<tr>\n",
       "\t\t<td>Jones LLC</td>\n",
       "\t\t<td>200.0</td>\n",
       "\t\t<td>150</td>\n",
       "\t\t<td>140</td>\n",
       "\t\t<td>180</td>\n",
       "\t\t<td>04/01/2017</td>\n",
       "\t\t<td>18/03/20</td>\n",
       "\t\t<td>20-MAR-2018</td>\n",
       "\t</tr>\n",
       "\t<tr>\n",
       "\t\t<td>Orange Inc</td>\n",
       "\t\t<td>210.0</td>\n",
       "\t\t<td>None</td>\n",
       "\t\t<td>None</td>\n",
       "\t\t<td>250</td>\n",
       "\t\t<td>04/01/2017</td>\n",
       "\t\t<td>18/02/03</td>\n",
       "\t\t<td>03-FEB-2018</td>\n",
       "\t</tr>\n",
       "\t<tr>\n",
       "\t\t<td>Yellow Inc</td>\n",
       "\t\t<td>90.0</td>\n",
       "\t\t<td>None</td>\n",
       "\t\t<td>None</td>\n",
       "\t\t<td>None</td>\n",
       "\t\t<td>04/01/2017</td>\n",
       "\t\t<td>18/01/01</td>\n",
       "\t\t<td>01-JAN-2018</td>\n",
       "\t</tr>\n",
       "\t<tr>\n",
       "\t\t<td>Red Inc</td>\n",
       "\t\t<td>200.0</td>\n",
       "\t\t<td>150</td>\n",
       "\t\t<td>140</td>\n",
       "\t\t<td>None</td>\n",
       "\t\t<td>04/01/2017</td>\n",
       "\t\t<td>17/08/25</td>\n",
       "\t\t<td>25-AUG-2017</td>\n",
       "\t</tr>\n",
       "</table></html>"
      ],
      "text/plain": [
       "              Feb    Jan    Mar    Apr    datetime     dates timevalue_char\n",
       "accounts                                                                   \n",
       "Alpha Co    210.0  200.0  215.0  250.0  04/01/2017  17/07/14    14-JUL-2017\n",
       "Blue Inc     90.0   50.0   95.0  101.0  04/01/2017  17/03/01    01-MAR-2017\n",
       "Jones LLC   200.0  150.0  140.0  180.0  04/01/2017  18/03/20    20-MAR-2018\n",
       "Orange Inc  210.0    NaN    NaN  250.0  04/01/2017  18/02/03    03-FEB-2018\n",
       "Yellow Inc   90.0    NaN    NaN    NaN  04/01/2017  18/01/01    01-JAN-2018\n",
       "Red Inc     200.0  150.0  140.0    NaN  04/01/2017  17/08/25    25-AUG-2017"
      ]
     },
     "metadata": {},
     "output_type": "display_data"
    },
    {
     "name": "stdout",
     "output_type": "stream",
     "text": [
      "\n",
      "\n",
      "\n",
      " ************************* DataFrame.dtypes ********************* \n"
     ]
    },
    {
     "data": {
      "text/html": [
       "<style type=\"text/css\">\n",
       "                                table {border:ridge 5px;}\n",
       "                                table td {border:inset 1px;}\n",
       "                                table tr#HeaderRow {background-color:grey; color:white;}\n",
       "                               </style>\n",
       "                               <html>\n",
       "                                  <table>\n",
       "                                    <tr id=\"HeaderRow\">\n",
       "                                        <th>COLUMN NAME</th>\n",
       "                                        <th>TYPE</th>\n",
       "                                    </tr>\n",
       "                                    <tr><td>accounts</td><td>str</td></tr>\n",
       "<tr><td>Feb</td><td>float</td></tr>\n",
       "<tr><td>Jan</td><td>int</td></tr>\n",
       "<tr><td>Mar</td><td>int</td></tr>\n",
       "<tr><td>Apr</td><td>int</td></tr>\n",
       "<tr><td>datetime</td><td>datetime.date</td></tr>\n",
       "<tr><td>dates</td><td>datetime.date</td></tr>\n",
       "<tr><td>timevalue_char</td><td>str</td></tr>\n",
       "                                  </table>\n",
       "                               </html>\n",
       "                            "
      ],
      "text/plain": [
       "accounts                    str\n",
       "Feb                       float\n",
       "Jan                         int\n",
       "Mar                         int\n",
       "Apr                         int\n",
       "datetime          datetime.date\n",
       "dates             datetime.date\n",
       "timevalue_char              str"
      ]
     },
     "metadata": {},
     "output_type": "display_data"
    },
    {
     "name": "stdout",
     "output_type": "stream",
     "text": [
      "\n",
      "\n",
      "\n"
     ]
    }
   ],
   "source": [
    "# convert 'dates' col to VARCHAR type for to_date function.\n",
    "new_df = df_sales.assign(timevalue_char=df_sales.dates.to_char('DD-MON-YYYY'))\n",
    "print_variables(new_df)"
   ]
  },
  {
   "cell_type": "code",
   "execution_count": 66,
   "id": "72af7d27-2ff6-4291-bfc8-cf037ed971e3",
   "metadata": {},
   "outputs": [
    {
     "name": "stdout",
     "output_type": "stream",
     "text": [
      "Equivalent SQL: select accounts AS accounts, \"Feb\" AS \"Feb\", \"Jan\" AS \"Jan\", \"Mar\" AS \"Mar\", \"Apr\" AS \"Apr\", datetime AS datetime, dates AS dates, to_date(timevalue_char, 'DD-MON-YYYY') AS timevalue_char from (select accounts AS accounts, \"Feb\" AS \"Feb\", \"Jan\" AS \"Jan\", \"Mar\" AS \"Mar\", \"Apr\" AS \"Apr\", datetime AS datetime, dates AS dates, to_char(dates, 'DD-MON-YYYY') AS timevalue_char from (select accounts AS accounts, \"Feb\" AS \"Feb\", \"Jan\" AS \"Jan\", \"Mar\" AS \"Mar\", \"Apr\" AS \"Apr\", datetime AS datetime, CASE WHEN (accounts = 'Alpha Co') THEN datetime + 191 WHEN (accounts = 'Blue Inc') THEN datetime + 56 WHEN (accounts = 'Jones LLC') THEN datetime + 440 WHEN (accounts = 'Orange Inc') THEN datetime + 395 WHEN (accounts = 'Yellow Inc') THEN datetime + 362 WHEN (accounts = 'Red Inc') THEN datetime + 233 END AS dates from \"sales\") as temp_table) as temp_table\n",
      "\n",
      "\n",
      " ************************* DataFrame ********************* \n"
     ]
    },
    {
     "data": {
      "text/html": [
       "<style type=\"text/css\">\n",
       "\ttable {border:ridge 5px;}\n",
       "\ttable td {border:inset 1px;}\n",
       "\ttable tr#HeaderRow {background-color:grey; color:white;}</style>\n",
       "<html><table>\n",
       "\t<tr id=\"HeaderRow\">\n",
       "\t\t<th>accounts</th>\n",
       "\t\t<th>Feb</th>\n",
       "\t\t<th>Jan</th>\n",
       "\t\t<th>Mar</th>\n",
       "\t\t<th>Apr</th>\n",
       "\t\t<th>datetime</th>\n",
       "\t\t<th>dates</th>\n",
       "\t\t<th>timevalue_char</th>\n",
       "\t</tr>\n",
       "\t<tr>\n",
       "\t\t<td>Alpha Co</td>\n",
       "\t\t<td>210.0</td>\n",
       "\t\t<td>200</td>\n",
       "\t\t<td>215</td>\n",
       "\t\t<td>250</td>\n",
       "\t\t<td>04/01/2017</td>\n",
       "\t\t<td>17/07/14</td>\n",
       "\t\t<td>17/07/14</td>\n",
       "\t</tr>\n",
       "\t<tr>\n",
       "\t\t<td>Blue Inc</td>\n",
       "\t\t<td>90.0</td>\n",
       "\t\t<td>50</td>\n",
       "\t\t<td>95</td>\n",
       "\t\t<td>101</td>\n",
       "\t\t<td>04/01/2017</td>\n",
       "\t\t<td>17/03/01</td>\n",
       "\t\t<td>17/03/01</td>\n",
       "\t</tr>\n",
       "\t<tr>\n",
       "\t\t<td>Jones LLC</td>\n",
       "\t\t<td>200.0</td>\n",
       "\t\t<td>150</td>\n",
       "\t\t<td>140</td>\n",
       "\t\t<td>180</td>\n",
       "\t\t<td>04/01/2017</td>\n",
       "\t\t<td>18/03/20</td>\n",
       "\t\t<td>18/03/20</td>\n",
       "\t</tr>\n",
       "\t<tr>\n",
       "\t\t<td>Orange Inc</td>\n",
       "\t\t<td>210.0</td>\n",
       "\t\t<td>None</td>\n",
       "\t\t<td>None</td>\n",
       "\t\t<td>250</td>\n",
       "\t\t<td>04/01/2017</td>\n",
       "\t\t<td>18/02/03</td>\n",
       "\t\t<td>18/02/03</td>\n",
       "\t</tr>\n",
       "\t<tr>\n",
       "\t\t<td>Yellow Inc</td>\n",
       "\t\t<td>90.0</td>\n",
       "\t\t<td>None</td>\n",
       "\t\t<td>None</td>\n",
       "\t\t<td>None</td>\n",
       "\t\t<td>04/01/2017</td>\n",
       "\t\t<td>18/01/01</td>\n",
       "\t\t<td>18/01/01</td>\n",
       "\t</tr>\n",
       "\t<tr>\n",
       "\t\t<td>Red Inc</td>\n",
       "\t\t<td>200.0</td>\n",
       "\t\t<td>150</td>\n",
       "\t\t<td>140</td>\n",
       "\t\t<td>None</td>\n",
       "\t\t<td>04/01/2017</td>\n",
       "\t\t<td>17/08/25</td>\n",
       "\t\t<td>17/08/25</td>\n",
       "\t</tr>\n",
       "</table></html>"
      ],
      "text/plain": [
       "              Feb    Jan    Mar    Apr    datetime     dates timevalue_char\n",
       "accounts                                                                   \n",
       "Alpha Co    210.0  200.0  215.0  250.0  04/01/2017  17/07/14       17/07/14\n",
       "Blue Inc     90.0   50.0   95.0  101.0  04/01/2017  17/03/01       17/03/01\n",
       "Jones LLC   200.0  150.0  140.0  180.0  04/01/2017  18/03/20       18/03/20\n",
       "Orange Inc  210.0    NaN    NaN  250.0  04/01/2017  18/02/03       18/02/03\n",
       "Yellow Inc   90.0    NaN    NaN    NaN  04/01/2017  18/01/01       18/01/01\n",
       "Red Inc     200.0  150.0  140.0    NaN  04/01/2017  17/08/25       17/08/25"
      ]
     },
     "metadata": {},
     "output_type": "display_data"
    },
    {
     "name": "stdout",
     "output_type": "stream",
     "text": [
      "\n",
      "\n",
      "\n",
      " ************************* DataFrame.dtypes ********************* \n"
     ]
    },
    {
     "data": {
      "text/html": [
       "<style type=\"text/css\">\n",
       "                                table {border:ridge 5px;}\n",
       "                                table td {border:inset 1px;}\n",
       "                                table tr#HeaderRow {background-color:grey; color:white;}\n",
       "                               </style>\n",
       "                               <html>\n",
       "                                  <table>\n",
       "                                    <tr id=\"HeaderRow\">\n",
       "                                        <th>COLUMN NAME</th>\n",
       "                                        <th>TYPE</th>\n",
       "                                    </tr>\n",
       "                                    <tr><td>accounts</td><td>str</td></tr>\n",
       "<tr><td>Feb</td><td>float</td></tr>\n",
       "<tr><td>Jan</td><td>int</td></tr>\n",
       "<tr><td>Mar</td><td>int</td></tr>\n",
       "<tr><td>Apr</td><td>int</td></tr>\n",
       "<tr><td>datetime</td><td>datetime.date</td></tr>\n",
       "<tr><td>dates</td><td>datetime.date</td></tr>\n",
       "<tr><td>timevalue_char</td><td>datetime.date</td></tr>\n",
       "                                  </table>\n",
       "                               </html>\n",
       "                            "
      ],
      "text/plain": [
       "accounts                    str\n",
       "Feb                       float\n",
       "Jan                         int\n",
       "Mar                         int\n",
       "Apr                         int\n",
       "datetime          datetime.date\n",
       "dates             datetime.date\n",
       "timevalue_char    datetime.date"
      ]
     },
     "metadata": {},
     "output_type": "display_data"
    },
    {
     "name": "stdout",
     "output_type": "stream",
     "text": [
      "\n",
      "\n",
      "\n"
     ]
    }
   ],
   "source": [
    "# convert \"timevalue_char\" column to DATE type.\n",
    "res = new_df.assign(timevalue_char=new_df.timevalue_char.to_date('DD-MON-YYYY'))\n",
    "print_variables(res)"
   ]
  },
  {
   "cell_type": "markdown",
   "id": "e43a3e37-5c74-4baa-8fc8-7df437e95fb0",
   "metadata": {},
   "source": [
    "### Convert VARCHAR type column to DATE type column."
   ]
  },
  {
   "cell_type": "code",
   "execution_count": 67,
   "id": "ebab10c7-50a4-483d-901e-49e9c37055f6",
   "metadata": {},
   "outputs": [
    {
     "name": "stdout",
     "output_type": "stream",
     "text": [
      "Equivalent SQL: select * from \"cast_dataset\"\n",
      "\n",
      "\n",
      " ************************* DataFrame ********************* \n"
     ]
    },
    {
     "data": {
      "text/html": [
       "<style type=\"text/css\">\n",
       "\ttable {border:ridge 5px;}\n",
       "\ttable td {border:inset 1px;}\n",
       "\ttable tr#HeaderRow {background-color:grey; color:white;}</style>\n",
       "<html><table>\n",
       "\t<tr id=\"HeaderRow\">\n",
       "\t\t<th>id</th>\n",
       "\t\t<th>col</th>\n",
       "\t</tr>\n",
       "\t<tr>\n",
       "\t\t<td>1</td>\n",
       "\t\t<td>20050101</td>\n",
       "\t</tr>\n",
       "</table></html>"
      ],
      "text/plain": [
       "   id       col\n",
       "0   1  20050101"
      ]
     },
     "metadata": {},
     "output_type": "display_data"
    },
    {
     "name": "stdout",
     "output_type": "stream",
     "text": [
      "\n",
      "\n",
      "\n",
      " ************************* DataFrame.dtypes ********************* \n"
     ]
    },
    {
     "data": {
      "text/html": [
       "<style type=\"text/css\">\n",
       "                                table {border:ridge 5px;}\n",
       "                                table td {border:inset 1px;}\n",
       "                                table tr#HeaderRow {background-color:grey; color:white;}\n",
       "                               </style>\n",
       "                               <html>\n",
       "                                  <table>\n",
       "                                    <tr id=\"HeaderRow\">\n",
       "                                        <th>COLUMN NAME</th>\n",
       "                                        <th>TYPE</th>\n",
       "                                    </tr>\n",
       "                                    <tr><td>id</td><td>int</td></tr>\n",
       "<tr><td>col</td><td>str</td></tr>\n",
       "                                  </table>\n",
       "                               </html>\n",
       "                            "
      ],
      "text/plain": [
       "id     int\n",
       "col    str"
      ]
     },
     "metadata": {},
     "output_type": "display_data"
    },
    {
     "name": "stdout",
     "output_type": "stream",
     "text": [
      "\n",
      "\n",
      "\n"
     ]
    }
   ],
   "source": [
    "# Create DataSet for cast function.\n",
    "dict_data = {\"id\": [1], \"col\": ['20050101']}\n",
    "pandas_df = pd.DataFrame(dict_data)\n",
    "copy_to_sql(pandas_df, table_name=\"cast_dataset\", if_exists=\"replace\")\n",
    "df = DataFrame(\"cast_dataset\")\n",
    "print_variables(df)"
   ]
  },
  {
   "cell_type": "code",
   "execution_count": 68,
   "id": "fc21c320-a8c2-4e8d-a212-bdd51a7da884",
   "metadata": {},
   "outputs": [
    {
     "name": "stdout",
     "output_type": "stream",
     "text": [
      "Equivalent SQL: select id AS id, col AS col, CAST(col AS DATE FORMAT 'YYYYMMDD') AS new_col from \"cast_dataset\"\n",
      "\n",
      "\n",
      " ************************* DataFrame ********************* \n"
     ]
    },
    {
     "data": {
      "text/html": [
       "<style type=\"text/css\">\n",
       "\ttable {border:ridge 5px;}\n",
       "\ttable td {border:inset 1px;}\n",
       "\ttable tr#HeaderRow {background-color:grey; color:white;}</style>\n",
       "<html><table>\n",
       "\t<tr id=\"HeaderRow\">\n",
       "\t\t<th>id</th>\n",
       "\t\t<th>col</th>\n",
       "\t\t<th>new_col</th>\n",
       "\t</tr>\n",
       "\t<tr>\n",
       "\t\t<td>1</td>\n",
       "\t\t<td>20050101</td>\n",
       "\t\t<td>20050101</td>\n",
       "\t</tr>\n",
       "</table></html>"
      ],
      "text/plain": [
       "   id       col   new_col\n",
       "0   1  20050101  20050101"
      ]
     },
     "metadata": {},
     "output_type": "display_data"
    },
    {
     "name": "stdout",
     "output_type": "stream",
     "text": [
      "\n",
      "\n",
      "\n",
      " ************************* DataFrame.dtypes ********************* \n"
     ]
    },
    {
     "data": {
      "text/html": [
       "<style type=\"text/css\">\n",
       "                                table {border:ridge 5px;}\n",
       "                                table td {border:inset 1px;}\n",
       "                                table tr#HeaderRow {background-color:grey; color:white;}\n",
       "                               </style>\n",
       "                               <html>\n",
       "                                  <table>\n",
       "                                    <tr id=\"HeaderRow\">\n",
       "                                        <th>COLUMN NAME</th>\n",
       "                                        <th>TYPE</th>\n",
       "                                    </tr>\n",
       "                                    <tr><td>id</td><td>int</td></tr>\n",
       "<tr><td>col</td><td>str</td></tr>\n",
       "<tr><td>new_col</td><td>datetime.date</td></tr>\n",
       "                                  </table>\n",
       "                               </html>\n",
       "                            "
      ],
      "text/plain": [
       "id                   int\n",
       "col                  str\n",
       "new_col    datetime.date"
      ]
     },
     "metadata": {},
     "output_type": "display_data"
    },
    {
     "name": "stdout",
     "output_type": "stream",
     "text": [
      "\n",
      "\n",
      "\n"
     ]
    }
   ],
   "source": [
    "# DataFrameColumn.cast() converts 'VARCHAR' column to 'DATE' using format\n",
    "df1 = df.assign(new_col=df.col.cast(DATE, format='YYYYMMDD'))\n",
    "print_variables(df1)"
   ]
  },
  {
   "cell_type": "markdown",
   "id": "ef0c850c-ff2c-42c1-9b90-956543847840",
   "metadata": {},
   "source": [
    "### Convert VARCHAR type column to TIMESTAMP type column."
   ]
  },
  {
   "cell_type": "code",
   "execution_count": 69,
   "id": "c5a3ff7a-f1cd-45a8-a254-338528f361cc",
   "metadata": {},
   "outputs": [
    {
     "name": "stdout",
     "output_type": "stream",
     "text": [
      "Equivalent SQL: select * from \"cast_dataset\"\n",
      "\n",
      "\n",
      " ************************* DataFrame ********************* \n"
     ]
    },
    {
     "data": {
      "text/html": [
       "<style type=\"text/css\">\n",
       "\ttable {border:ridge 5px;}\n",
       "\ttable td {border:inset 1px;}\n",
       "\ttable tr#HeaderRow {background-color:grey; color:white;}</style>\n",
       "<html><table>\n",
       "\t<tr id=\"HeaderRow\">\n",
       "\t\t<th>id</th>\n",
       "\t\t<th>col</th>\n",
       "\t</tr>\n",
       "\t<tr>\n",
       "\t\t<td>1</td>\n",
       "\t\t<td>1000-01-10 23:00:12-02:00</td>\n",
       "\t</tr>\n",
       "</table></html>"
      ],
      "text/plain": [
       "   id                        col\n",
       "0   1  1000-01-10 23:00:12-02:00"
      ]
     },
     "metadata": {},
     "output_type": "display_data"
    },
    {
     "name": "stdout",
     "output_type": "stream",
     "text": [
      "\n",
      "\n",
      "\n",
      " ************************* DataFrame.dtypes ********************* \n"
     ]
    },
    {
     "data": {
      "text/html": [
       "<style type=\"text/css\">\n",
       "                                table {border:ridge 5px;}\n",
       "                                table td {border:inset 1px;}\n",
       "                                table tr#HeaderRow {background-color:grey; color:white;}\n",
       "                               </style>\n",
       "                               <html>\n",
       "                                  <table>\n",
       "                                    <tr id=\"HeaderRow\">\n",
       "                                        <th>COLUMN NAME</th>\n",
       "                                        <th>TYPE</th>\n",
       "                                    </tr>\n",
       "                                    <tr><td>id</td><td>int</td></tr>\n",
       "<tr><td>col</td><td>str</td></tr>\n",
       "                                  </table>\n",
       "                               </html>\n",
       "                            "
      ],
      "text/plain": [
       "id     int\n",
       "col    str"
      ]
     },
     "metadata": {},
     "output_type": "display_data"
    },
    {
     "name": "stdout",
     "output_type": "stream",
     "text": [
      "\n",
      "\n",
      "\n"
     ]
    }
   ],
   "source": [
    "# Create DataSet for cast function.\n",
    "dict_data = {\"id\": [1], \"col\": ['1000-01-10 23:00:12-02:00']}\n",
    "pandas_df = pd.DataFrame(dict_data)\n",
    "copy_to_sql(pandas_df, table_name=\"cast_dataset\", if_exists=\"replace\")\n",
    "df = DataFrame(\"cast_dataset\")\n",
    "print_variables(df)"
   ]
  },
  {
   "cell_type": "code",
   "execution_count": 70,
   "id": "f1073181-a16c-4dcf-ab3a-583632d821d8",
   "metadata": {},
   "outputs": [
    {
     "name": "stdout",
     "output_type": "stream",
     "text": [
      "Equivalent SQL: select id AS id, col AS col, CAST(col AS TIMESTAMP(6) FORMAT 'Y4-MM-DDBHH:MI:SSBZ') AS new_col from \"cast_dataset\"\n",
      "\n",
      "\n",
      " ************************* DataFrame ********************* \n"
     ]
    },
    {
     "data": {
      "text/html": [
       "<style type=\"text/css\">\n",
       "\ttable {border:ridge 5px;}\n",
       "\ttable td {border:inset 1px;}\n",
       "\ttable tr#HeaderRow {background-color:grey; color:white;}</style>\n",
       "<html><table>\n",
       "\t<tr id=\"HeaderRow\">\n",
       "\t\t<th>id</th>\n",
       "\t\t<th>col</th>\n",
       "\t\t<th>new_col</th>\n",
       "\t</tr>\n",
       "\t<tr>\n",
       "\t\t<td>1</td>\n",
       "\t\t<td>1000-01-10 23:00:12-02:00</td>\n",
       "\t\t<td>1000-01-11 01:00:12</td>\n",
       "\t</tr>\n",
       "</table></html>"
      ],
      "text/plain": [
       "   id                        col              new_col\n",
       "0   1  1000-01-10 23:00:12-02:00  1000-01-11 01:00:12"
      ]
     },
     "metadata": {},
     "output_type": "display_data"
    },
    {
     "name": "stdout",
     "output_type": "stream",
     "text": [
      "\n",
      "\n",
      "\n",
      " ************************* DataFrame.dtypes ********************* \n"
     ]
    },
    {
     "data": {
      "text/html": [
       "<style type=\"text/css\">\n",
       "                                table {border:ridge 5px;}\n",
       "                                table td {border:inset 1px;}\n",
       "                                table tr#HeaderRow {background-color:grey; color:white;}\n",
       "                               </style>\n",
       "                               <html>\n",
       "                                  <table>\n",
       "                                    <tr id=\"HeaderRow\">\n",
       "                                        <th>COLUMN NAME</th>\n",
       "                                        <th>TYPE</th>\n",
       "                                    </tr>\n",
       "                                    <tr><td>id</td><td>int</td></tr>\n",
       "<tr><td>col</td><td>str</td></tr>\n",
       "<tr><td>new_col</td><td>datetime.datetime</td></tr>\n",
       "                                  </table>\n",
       "                               </html>\n",
       "                            "
      ],
      "text/plain": [
       "id                       int\n",
       "col                      str\n",
       "new_col    datetime.datetime"
      ]
     },
     "metadata": {},
     "output_type": "display_data"
    },
    {
     "name": "stdout",
     "output_type": "stream",
     "text": [
      "\n",
      "\n",
      "\n"
     ]
    }
   ],
   "source": [
    "# DataFrameColumn.cast() converts 'VARCHAR' column to 'TIMESTAMP' using format\n",
    "df1 = df.assign(new_col=df.col.cast(TIMESTAMP, 'Y4-MM-DDBHH:MI:SSBZ'))\n",
    "print_variables(df1)"
   ]
  },
  {
   "cell_type": "markdown",
   "id": "b15a6a2c-f54c-4314-b8a3-dab1210acbbb",
   "metadata": {},
   "source": [
    "### Convert VARCHAR type column to TIME type column."
   ]
  },
  {
   "cell_type": "code",
   "execution_count": 71,
   "id": "83698288-9504-42b4-969f-1271932ba4d9",
   "metadata": {},
   "outputs": [
    {
     "name": "stdout",
     "output_type": "stream",
     "text": [
      "Equivalent SQL: select * from \"cast_dataset\"\n",
      "\n",
      "\n",
      " ************************* DataFrame ********************* \n"
     ]
    },
    {
     "data": {
      "text/html": [
       "<style type=\"text/css\">\n",
       "\ttable {border:ridge 5px;}\n",
       "\ttable td {border:inset 1px;}\n",
       "\ttable tr#HeaderRow {background-color:grey; color:white;}</style>\n",
       "<html><table>\n",
       "\t<tr id=\"HeaderRow\">\n",
       "\t\t<th>id</th>\n",
       "\t\t<th>col</th>\n",
       "\t</tr>\n",
       "\t<tr>\n",
       "\t\t<td>1</td>\n",
       "\t\t<td>10:15:12</td>\n",
       "\t</tr>\n",
       "</table></html>"
      ],
      "text/plain": [
       "   id       col\n",
       "0   1  10:15:12"
      ]
     },
     "metadata": {},
     "output_type": "display_data"
    },
    {
     "name": "stdout",
     "output_type": "stream",
     "text": [
      "\n",
      "\n",
      "\n",
      " ************************* DataFrame.dtypes ********************* \n"
     ]
    },
    {
     "data": {
      "text/html": [
       "<style type=\"text/css\">\n",
       "                                table {border:ridge 5px;}\n",
       "                                table td {border:inset 1px;}\n",
       "                                table tr#HeaderRow {background-color:grey; color:white;}\n",
       "                               </style>\n",
       "                               <html>\n",
       "                                  <table>\n",
       "                                    <tr id=\"HeaderRow\">\n",
       "                                        <th>COLUMN NAME</th>\n",
       "                                        <th>TYPE</th>\n",
       "                                    </tr>\n",
       "                                    <tr><td>id</td><td>int</td></tr>\n",
       "<tr><td>col</td><td>str</td></tr>\n",
       "                                  </table>\n",
       "                               </html>\n",
       "                            "
      ],
      "text/plain": [
       "id     int\n",
       "col    str"
      ]
     },
     "metadata": {},
     "output_type": "display_data"
    },
    {
     "name": "stdout",
     "output_type": "stream",
     "text": [
      "\n",
      "\n",
      "\n"
     ]
    }
   ],
   "source": [
    "# Create DataSet for cast function.\n",
    "dict_data = {\"id\": [1], \"col\": ['10:15:12']}\n",
    "pandas_df = pd.DataFrame(dict_data)\n",
    "copy_to_sql(pandas_df, table_name=\"cast_dataset\", if_exists=\"replace\")\n",
    "df = DataFrame(\"cast_dataset\")\n",
    "print_variables(df)"
   ]
  },
  {
   "cell_type": "code",
   "execution_count": 72,
   "id": "aa39e390-cc20-4b4d-bb0a-f4b8a621fab9",
   "metadata": {},
   "outputs": [
    {
     "name": "stdout",
     "output_type": "stream",
     "text": [
      "Equivalent SQL: select id AS id, col AS col, CAST(col AS TIME(6) FORMAT 'HH:MI:SSBZ') AS new_col from \"cast_dataset\"\n",
      "\n",
      "\n",
      " ************************* DataFrame ********************* \n"
     ]
    },
    {
     "data": {
      "text/html": [
       "<style type=\"text/css\">\n",
       "\ttable {border:ridge 5px;}\n",
       "\ttable td {border:inset 1px;}\n",
       "\ttable tr#HeaderRow {background-color:grey; color:white;}</style>\n",
       "<html><table>\n",
       "\t<tr id=\"HeaderRow\">\n",
       "\t\t<th>id</th>\n",
       "\t\t<th>col</th>\n",
       "\t\t<th>new_col</th>\n",
       "\t</tr>\n",
       "\t<tr>\n",
       "\t\t<td>1</td>\n",
       "\t\t<td>10:15:12</td>\n",
       "\t\t<td>10:15:12</td>\n",
       "\t</tr>\n",
       "</table></html>"
      ],
      "text/plain": [
       "   id       col   new_col\n",
       "0   1  10:15:12  10:15:12"
      ]
     },
     "metadata": {},
     "output_type": "display_data"
    },
    {
     "name": "stdout",
     "output_type": "stream",
     "text": [
      "\n",
      "\n",
      "\n",
      " ************************* DataFrame.dtypes ********************* \n"
     ]
    },
    {
     "data": {
      "text/html": [
       "<style type=\"text/css\">\n",
       "                                table {border:ridge 5px;}\n",
       "                                table td {border:inset 1px;}\n",
       "                                table tr#HeaderRow {background-color:grey; color:white;}\n",
       "                               </style>\n",
       "                               <html>\n",
       "                                  <table>\n",
       "                                    <tr id=\"HeaderRow\">\n",
       "                                        <th>COLUMN NAME</th>\n",
       "                                        <th>TYPE</th>\n",
       "                                    </tr>\n",
       "                                    <tr><td>id</td><td>int</td></tr>\n",
       "<tr><td>col</td><td>str</td></tr>\n",
       "<tr><td>new_col</td><td>datetime.time</td></tr>\n",
       "                                  </table>\n",
       "                               </html>\n",
       "                            "
      ],
      "text/plain": [
       "id                   int\n",
       "col                  str\n",
       "new_col    datetime.time"
      ]
     },
     "metadata": {},
     "output_type": "display_data"
    },
    {
     "name": "stdout",
     "output_type": "stream",
     "text": [
      "\n",
      "\n",
      "\n"
     ]
    }
   ],
   "source": [
    "# DataFrameColumn.cast() converts 'VARCHAR' column to 'TIME' using format\n",
    "df1 = df.assign(new_col=df.col.cast(TIME(), 'HH:MI:SSBZ'))\n",
    "print_variables(df1)"
   ]
  },
  {
   "cell_type": "markdown",
   "id": "b49518ba-0848-43d8-bbda-310d4d8d7870",
   "metadata": {},
   "source": [
    "### Convert TIMESTAMP type column to TIMESTAMP WITH TIMEZONE type column."
   ]
  },
  {
   "cell_type": "code",
   "execution_count": 73,
   "id": "969b7d0a-b2ba-4d4f-b7cd-de385c6f3f6d",
   "metadata": {},
   "outputs": [
    {
     "name": "stdout",
     "output_type": "stream",
     "text": [
      "Equivalent SQL: select id AS id, CAST(col AS TIMESTAMP(6)) AS col from \"cast_dataset\"\n",
      "\n",
      "\n",
      " ************************* DataFrame ********************* \n"
     ]
    },
    {
     "data": {
      "text/html": [
       "<style type=\"text/css\">\n",
       "\ttable {border:ridge 5px;}\n",
       "\ttable td {border:inset 1px;}\n",
       "\ttable tr#HeaderRow {background-color:grey; color:white;}</style>\n",
       "<html><table>\n",
       "\t<tr id=\"HeaderRow\">\n",
       "\t\t<th>id</th>\n",
       "\t\t<th>col</th>\n",
       "\t</tr>\n",
       "\t<tr>\n",
       "\t\t<td>1</td>\n",
       "\t\t<td>2002-02-20 10:15:30.000000</td>\n",
       "\t</tr>\n",
       "</table></html>"
      ],
      "text/plain": [
       "   id                         col\n",
       "0   1  2002-02-20 10:15:30.000000"
      ]
     },
     "metadata": {},
     "output_type": "display_data"
    },
    {
     "name": "stdout",
     "output_type": "stream",
     "text": [
      "\n",
      "\n",
      "\n",
      " ************************* DataFrame.dtypes ********************* \n"
     ]
    },
    {
     "data": {
      "text/html": [
       "<style type=\"text/css\">\n",
       "                                table {border:ridge 5px;}\n",
       "                                table td {border:inset 1px;}\n",
       "                                table tr#HeaderRow {background-color:grey; color:white;}\n",
       "                               </style>\n",
       "                               <html>\n",
       "                                  <table>\n",
       "                                    <tr id=\"HeaderRow\">\n",
       "                                        <th>COLUMN NAME</th>\n",
       "                                        <th>TYPE</th>\n",
       "                                    </tr>\n",
       "                                    <tr><td>id</td><td>int</td></tr>\n",
       "<tr><td>col</td><td>datetime.datetime</td></tr>\n",
       "                                  </table>\n",
       "                               </html>\n",
       "                            "
      ],
      "text/plain": [
       "id                   int\n",
       "col    datetime.datetime"
      ]
     },
     "metadata": {},
     "output_type": "display_data"
    },
    {
     "name": "stdout",
     "output_type": "stream",
     "text": [
      "\n",
      "\n",
      "\n"
     ]
    }
   ],
   "source": [
    "# Create DataSet for cast function.\n",
    "dict_data = {\"id\": [1], \"col\": ['2002-02-20 10:15:30']}\n",
    "pandas_df = pd.DataFrame(dict_data)\n",
    "copy_to_sql(pandas_df, table_name=\"cast_dataset\", if_exists=\"replace\")\n",
    "df = DataFrame(\"cast_dataset\")\n",
    "df = df.assign(col=df.col.cast(TIMESTAMP))\n",
    "print_variables(df)"
   ]
  },
  {
   "cell_type": "code",
   "execution_count": 74,
   "id": "fac9404a-5722-4109-8a84-045fc2d38b15",
   "metadata": {},
   "outputs": [
    {
     "name": "stdout",
     "output_type": "stream",
     "text": [
      "Equivalent SQL: select id AS id, col AS col, CAST(col AS TIMESTAMP(6) WITH TIME ZONE AT TIME ZONE 'AMERICA PACIFIC') AS new_col from (select id AS id, CAST(col AS TIMESTAMP(6)) AS col from \"cast_dataset\") as temp_table\n",
      "\n",
      "\n",
      " ************************* DataFrame ********************* \n"
     ]
    },
    {
     "data": {
      "text/html": [
       "<style type=\"text/css\">\n",
       "\ttable {border:ridge 5px;}\n",
       "\ttable td {border:inset 1px;}\n",
       "\ttable tr#HeaderRow {background-color:grey; color:white;}</style>\n",
       "<html><table>\n",
       "\t<tr id=\"HeaderRow\">\n",
       "\t\t<th>id</th>\n",
       "\t\t<th>col</th>\n",
       "\t\t<th>new_col</th>\n",
       "\t</tr>\n",
       "\t<tr>\n",
       "\t\t<td>1</td>\n",
       "\t\t<td>2002-02-20 10:15:30.000000</td>\n",
       "\t\t<td>2002-02-20 02:15:30.000000-08:</td>\n",
       "\t</tr>\n",
       "</table></html>"
      ],
      "text/plain": [
       "   id                         col                         new_col\n",
       "0   1  2002-02-20 10:15:30.000000  2002-02-20 02:15:30.000000-08:"
      ]
     },
     "metadata": {},
     "output_type": "display_data"
    },
    {
     "name": "stdout",
     "output_type": "stream",
     "text": [
      "\n",
      "\n",
      "\n",
      " ************************* DataFrame.dtypes ********************* \n"
     ]
    },
    {
     "data": {
      "text/html": [
       "<style type=\"text/css\">\n",
       "                                table {border:ridge 5px;}\n",
       "                                table td {border:inset 1px;}\n",
       "                                table tr#HeaderRow {background-color:grey; color:white;}\n",
       "                               </style>\n",
       "                               <html>\n",
       "                                  <table>\n",
       "                                    <tr id=\"HeaderRow\">\n",
       "                                        <th>COLUMN NAME</th>\n",
       "                                        <th>TYPE</th>\n",
       "                                    </tr>\n",
       "                                    <tr><td>id</td><td>int</td></tr>\n",
       "<tr><td>col</td><td>datetime.datetime</td></tr>\n",
       "<tr><td>new_col</td><td>datetime.datetime</td></tr>\n",
       "                                  </table>\n",
       "                               </html>\n",
       "                            "
      ],
      "text/plain": [
       "id                       int\n",
       "col        datetime.datetime\n",
       "new_col    datetime.datetime"
      ]
     },
     "metadata": {},
     "output_type": "display_data"
    },
    {
     "name": "stdout",
     "output_type": "stream",
     "text": [
      "\n",
      "\n",
      "\n"
     ]
    }
   ],
   "source": [
    "# DataFrameColumn.cast() converts 'TIMESTAMP' column to 'TIMESTAMP WITH TIMEZONE' to timezone 'AMERICA PACIFIC'.\n",
    "df1 = df.assign(new_col=df.col.cast(TIMESTAMP(timezone=True), timezone='AMERICA PACIFIC'))\n",
    "print_variables(df1)"
   ]
  },
  {
   "cell_type": "markdown",
   "id": "d2218dec-03ea-4402-948a-b976fa73900d",
   "metadata": {},
   "source": [
    "### Convert TIMESTAMP type column to VARCHAR type column."
   ]
  },
  {
   "cell_type": "code",
   "execution_count": 75,
   "id": "bc08e983-2585-4f18-90bd-8e95dd26c834",
   "metadata": {},
   "outputs": [
    {
     "name": "stdout",
     "output_type": "stream",
     "text": [
      "Equivalent SQL: select id AS id, CAST(col AS TIMESTAMP(6)) AS col from \"cast_dataset\"\n",
      "\n",
      "\n",
      " ************************* DataFrame ********************* \n"
     ]
    },
    {
     "data": {
      "text/html": [
       "<style type=\"text/css\">\n",
       "\ttable {border:ridge 5px;}\n",
       "\ttable td {border:inset 1px;}\n",
       "\ttable tr#HeaderRow {background-color:grey; color:white;}</style>\n",
       "<html><table>\n",
       "\t<tr id=\"HeaderRow\">\n",
       "\t\t<th>id</th>\n",
       "\t\t<th>col</th>\n",
       "\t</tr>\n",
       "\t<tr>\n",
       "\t\t<td>1</td>\n",
       "\t\t<td>2002-02-20 10:15:30.000000</td>\n",
       "\t</tr>\n",
       "</table></html>"
      ],
      "text/plain": [
       "   id                         col\n",
       "0   1  2002-02-20 10:15:30.000000"
      ]
     },
     "metadata": {},
     "output_type": "display_data"
    },
    {
     "name": "stdout",
     "output_type": "stream",
     "text": [
      "\n",
      "\n",
      "\n",
      " ************************* DataFrame.dtypes ********************* \n"
     ]
    },
    {
     "data": {
      "text/html": [
       "<style type=\"text/css\">\n",
       "                                table {border:ridge 5px;}\n",
       "                                table td {border:inset 1px;}\n",
       "                                table tr#HeaderRow {background-color:grey; color:white;}\n",
       "                               </style>\n",
       "                               <html>\n",
       "                                  <table>\n",
       "                                    <tr id=\"HeaderRow\">\n",
       "                                        <th>COLUMN NAME</th>\n",
       "                                        <th>TYPE</th>\n",
       "                                    </tr>\n",
       "                                    <tr><td>id</td><td>int</td></tr>\n",
       "<tr><td>col</td><td>datetime.datetime</td></tr>\n",
       "                                  </table>\n",
       "                               </html>\n",
       "                            "
      ],
      "text/plain": [
       "id                   int\n",
       "col    datetime.datetime"
      ]
     },
     "metadata": {},
     "output_type": "display_data"
    },
    {
     "name": "stdout",
     "output_type": "stream",
     "text": [
      "\n",
      "\n",
      "\n"
     ]
    }
   ],
   "source": [
    "# Create DataSet for cast function.\n",
    "dict_data = {\"id\": [1], \"col\": ['2002-02-20 10:15:30']}\n",
    "pandas_df = pd.DataFrame(dict_data)\n",
    "copy_to_sql(pandas_df, table_name=\"cast_dataset\", if_exists=\"replace\")\n",
    "df = DataFrame(\"cast_dataset\")\n",
    "df = df.assign(col=df.col.cast(TIMESTAMP))\n",
    "print_variables(df)"
   ]
  },
  {
   "cell_type": "code",
   "execution_count": 76,
   "id": "fe1a1e3d-ddba-4dce-85f3-d0e48d6cc31a",
   "metadata": {},
   "outputs": [
    {
     "name": "stdout",
     "output_type": "stream",
     "text": [
      "Equivalent SQL: select id AS id, col AS col, CAST(CAST(col AS FORMAT 'M3BDD,BY4BHHhMIm') AS LONG VARCHAR) AS new_col from (select id AS id, CAST(col AS TIMESTAMP(6)) AS col from \"cast_dataset\") as temp_table\n",
      "\n",
      "\n",
      " ************************* DataFrame ********************* \n"
     ]
    },
    {
     "data": {
      "text/html": [
       "<style type=\"text/css\">\n",
       "\ttable {border:ridge 5px;}\n",
       "\ttable td {border:inset 1px;}\n",
       "\ttable tr#HeaderRow {background-color:grey; color:white;}</style>\n",
       "<html><table>\n",
       "\t<tr id=\"HeaderRow\">\n",
       "\t\t<th>id</th>\n",
       "\t\t<th>col</th>\n",
       "\t\t<th>new_col</th>\n",
       "\t</tr>\n",
       "\t<tr>\n",
       "\t\t<td>1</td>\n",
       "\t\t<td>2002-02-20 10:15:30.000000</td>\n",
       "\t\t<td>Feb 20, 2002 10h15m</td>\n",
       "\t</tr>\n",
       "</table></html>"
      ],
      "text/plain": [
       "   id                         col              new_col\n",
       "0   1  2002-02-20 10:15:30.000000  Feb 20, 2002 10h15m"
      ]
     },
     "metadata": {},
     "output_type": "display_data"
    },
    {
     "name": "stdout",
     "output_type": "stream",
     "text": [
      "\n",
      "\n",
      "\n",
      " ************************* DataFrame.dtypes ********************* \n"
     ]
    },
    {
     "data": {
      "text/html": [
       "<style type=\"text/css\">\n",
       "                                table {border:ridge 5px;}\n",
       "                                table td {border:inset 1px;}\n",
       "                                table tr#HeaderRow {background-color:grey; color:white;}\n",
       "                               </style>\n",
       "                               <html>\n",
       "                                  <table>\n",
       "                                    <tr id=\"HeaderRow\">\n",
       "                                        <th>COLUMN NAME</th>\n",
       "                                        <th>TYPE</th>\n",
       "                                    </tr>\n",
       "                                    <tr><td>id</td><td>int</td></tr>\n",
       "<tr><td>col</td><td>datetime.datetime</td></tr>\n",
       "<tr><td>new_col</td><td>str</td></tr>\n",
       "                                  </table>\n",
       "                               </html>\n",
       "                            "
      ],
      "text/plain": [
       "id                       int\n",
       "col        datetime.datetime\n",
       "new_col                  str"
      ]
     },
     "metadata": {},
     "output_type": "display_data"
    },
    {
     "name": "stdout",
     "output_type": "stream",
     "text": [
      "\n",
      "\n",
      "\n"
     ]
    }
   ],
   "source": [
    "# DataFrameColumn.cast() converts 'TIMESTAMP' column to 'VARCHAR' with format.\n",
    "df1 = df.assign(new_col=df.col.cast(VARCHAR, format='M3BDD,BY4BHHhMIm'))\n",
    "print_variables(df1)"
   ]
  },
  {
   "cell_type": "markdown",
   "id": "6caa58dc-a127-42ae-9045-de1c76d3186d",
   "metadata": {},
   "source": [
    "### Subtract two timestamp columns"
   ]
  },
  {
   "cell_type": "code",
   "execution_count": 77,
   "id": "c9597cbd-a061-4c9e-8812-1a1a47baff3c",
   "metadata": {},
   "outputs": [
    {
     "name": "stdout",
     "output_type": "stream",
     "text": [
      "WARNING: Skipped loading table Convolve2RealsLeft since it already exists in the database.\n",
      "Equivalent SQL: select id,row_i_time,column_i_time from \"Convolve2RealsLeft\"\n",
      "\n",
      "\n",
      " ************************* DataFrame ********************* \n"
     ]
    },
    {
     "data": {
      "text/html": [
       "<style type=\"text/css\">\n",
       "\ttable {border:ridge 5px;}\n",
       "\ttable td {border:inset 1px;}\n",
       "\ttable tr#HeaderRow {background-color:grey; color:white;}</style>\n",
       "<html><table>\n",
       "\t<tr id=\"HeaderRow\">\n",
       "\t\t<th>id</th>\n",
       "\t\t<th>row_i_time</th>\n",
       "\t\t<th>column_i_time</th>\n",
       "\t</tr>\n",
       "\t<tr>\n",
       "\t\t<td>1</td>\n",
       "\t\t<td>2018-08-08 08:02:00.000000</td>\n",
       "\t\t<td>2018-08-08 08:00:00.000000</td>\n",
       "\t</tr>\n",
       "\t<tr>\n",
       "\t\t<td>1</td>\n",
       "\t\t<td>2018-08-08 08:02:00.000000</td>\n",
       "\t\t<td>2018-08-08 08:02:00.000000</td>\n",
       "\t</tr>\n",
       "\t<tr>\n",
       "\t\t<td>1</td>\n",
       "\t\t<td>2018-08-08 08:00:00.000000</td>\n",
       "\t\t<td>2018-08-08 08:02:00.000000</td>\n",
       "\t</tr>\n",
       "\t<tr>\n",
       "\t\t<td>1</td>\n",
       "\t\t<td>2018-08-08 08:00:00.000000</td>\n",
       "\t\t<td>2018-08-08 08:00:00.000000</td>\n",
       "\t</tr>\n",
       "</table></html>"
      ],
      "text/plain": [
       "                    row_i_time               column_i_time\n",
       "id                                                        \n",
       "1   2018-08-08 08:02:00.000000  2018-08-08 08:00:00.000000\n",
       "1   2018-08-08 08:02:00.000000  2018-08-08 08:02:00.000000\n",
       "1   2018-08-08 08:00:00.000000  2018-08-08 08:02:00.000000\n",
       "1   2018-08-08 08:00:00.000000  2018-08-08 08:00:00.000000"
      ]
     },
     "metadata": {},
     "output_type": "display_data"
    },
    {
     "name": "stdout",
     "output_type": "stream",
     "text": [
      "\n",
      "\n",
      "\n",
      " ************************* DataFrame.dtypes ********************* \n"
     ]
    },
    {
     "data": {
      "text/html": [
       "<style type=\"text/css\">\n",
       "                                table {border:ridge 5px;}\n",
       "                                table td {border:inset 1px;}\n",
       "                                table tr#HeaderRow {background-color:grey; color:white;}\n",
       "                               </style>\n",
       "                               <html>\n",
       "                                  <table>\n",
       "                                    <tr id=\"HeaderRow\">\n",
       "                                        <th>COLUMN NAME</th>\n",
       "                                        <th>TYPE</th>\n",
       "                                    </tr>\n",
       "                                    <tr><td>id</td><td>int</td></tr>\n",
       "<tr><td>row_i_time</td><td>datetime.datetime</td></tr>\n",
       "<tr><td>column_i_time</td><td>datetime.datetime</td></tr>\n",
       "                                  </table>\n",
       "                               </html>\n",
       "                            "
      ],
      "text/plain": [
       "id                             int\n",
       "row_i_time       datetime.datetime\n",
       "column_i_time    datetime.datetime"
      ]
     },
     "metadata": {},
     "output_type": "display_data"
    },
    {
     "name": "stdout",
     "output_type": "stream",
     "text": [
      "\n",
      "\n",
      "\n"
     ]
    }
   ],
   "source": [
    "# Load the dataset\n",
    "load_example_data(\"uaf\", \"Convolve2RealsLeft\")\n",
    "timestamp_df = DataFrame(\"Convolve2RealsLeft\")\n",
    "timestamp_df = timestamp_df.select([\"id\", \"row_i_time\", \"column_i_time\"])\n",
    "print_variables(timestamp_df)"
   ]
  },
  {
   "cell_type": "code",
   "execution_count": 78,
   "id": "07b18c9c-48fa-4102-8bf4-113cbd2a9077",
   "metadata": {},
   "outputs": [
    {
     "name": "stdout",
     "output_type": "stream",
     "text": [
      "Equivalent SQL: select id AS id, row_i_time AS row_i_time, column_i_time AS column_i_time, \n",
      "                (CAST((CAST(row_i_time AS DATE)-CAST(column_i_time AS DATE)) AS FLOAT) * 86400) +\n",
      "                ((EXTRACT(HOUR FROM row_i_time) - EXTRACT(HOUR FROM column_i_time)) * 3600) +\n",
      "                ((EXTRACT(MINUTE FROM row_i_time) - EXTRACT(MINUTE FROM column_i_time)) * 60) +\n",
      "                ((EXTRACT(SECOND FROM row_i_time) - EXTRACT(SECOND FROM column_i_time)))\n",
      "                 AS seconds from (select id,row_i_time,column_i_time from \"Convolve2RealsLeft\") as temp_table\n",
      "\n",
      "\n",
      " ************************* DataFrame ********************* \n"
     ]
    },
    {
     "data": {
      "text/html": [
       "<style type=\"text/css\">\n",
       "\ttable {border:ridge 5px;}\n",
       "\ttable td {border:inset 1px;}\n",
       "\ttable tr#HeaderRow {background-color:grey; color:white;}</style>\n",
       "<html><table>\n",
       "\t<tr id=\"HeaderRow\">\n",
       "\t\t<th>id</th>\n",
       "\t\t<th>row_i_time</th>\n",
       "\t\t<th>column_i_time</th>\n",
       "\t\t<th>seconds</th>\n",
       "\t</tr>\n",
       "\t<tr>\n",
       "\t\t<td>1</td>\n",
       "\t\t<td>2018-08-08 08:02:00.000000</td>\n",
       "\t\t<td>2018-08-08 08:00:00.000000</td>\n",
       "\t\t<td>120.0</td>\n",
       "\t</tr>\n",
       "\t<tr>\n",
       "\t\t<td>1</td>\n",
       "\t\t<td>2018-08-08 08:02:00.000000</td>\n",
       "\t\t<td>2018-08-08 08:02:00.000000</td>\n",
       "\t\t<td>0.0</td>\n",
       "\t</tr>\n",
       "\t<tr>\n",
       "\t\t<td>1</td>\n",
       "\t\t<td>2018-08-08 08:00:00.000000</td>\n",
       "\t\t<td>2018-08-08 08:02:00.000000</td>\n",
       "\t\t<td>-120.0</td>\n",
       "\t</tr>\n",
       "\t<tr>\n",
       "\t\t<td>1</td>\n",
       "\t\t<td>2018-08-08 08:00:00.000000</td>\n",
       "\t\t<td>2018-08-08 08:00:00.000000</td>\n",
       "\t\t<td>0.0</td>\n",
       "\t</tr>\n",
       "</table></html>"
      ],
      "text/plain": [
       "                    row_i_time               column_i_time  seconds\n",
       "id                                                                 \n",
       "1   2018-08-08 08:02:00.000000  2018-08-08 08:00:00.000000    120.0\n",
       "1   2018-08-08 08:02:00.000000  2018-08-08 08:02:00.000000      0.0\n",
       "1   2018-08-08 08:00:00.000000  2018-08-08 08:02:00.000000   -120.0\n",
       "1   2018-08-08 08:00:00.000000  2018-08-08 08:00:00.000000      0.0"
      ]
     },
     "metadata": {},
     "output_type": "display_data"
    },
    {
     "name": "stdout",
     "output_type": "stream",
     "text": [
      "\n",
      "\n",
      "\n",
      " ************************* DataFrame.dtypes ********************* \n"
     ]
    },
    {
     "data": {
      "text/html": [
       "<style type=\"text/css\">\n",
       "                                table {border:ridge 5px;}\n",
       "                                table td {border:inset 1px;}\n",
       "                                table tr#HeaderRow {background-color:grey; color:white;}\n",
       "                               </style>\n",
       "                               <html>\n",
       "                                  <table>\n",
       "                                    <tr id=\"HeaderRow\">\n",
       "                                        <th>COLUMN NAME</th>\n",
       "                                        <th>TYPE</th>\n",
       "                                    </tr>\n",
       "                                    <tr><td>id</td><td>int</td></tr>\n",
       "<tr><td>row_i_time</td><td>datetime.datetime</td></tr>\n",
       "<tr><td>column_i_time</td><td>datetime.datetime</td></tr>\n",
       "<tr><td>seconds</td><td>float</td></tr>\n",
       "                                  </table>\n",
       "                               </html>\n",
       "                            "
      ],
      "text/plain": [
       "id                             int\n",
       "row_i_time       datetime.datetime\n",
       "column_i_time    datetime.datetime\n",
       "seconds                      float"
      ]
     },
     "metadata": {},
     "output_type": "display_data"
    },
    {
     "name": "stdout",
     "output_type": "stream",
     "text": [
      "\n",
      "\n",
      "\n"
     ]
    }
   ],
   "source": [
    "# Subtract 2 timestamp columns and assign to new column 'seconds'.\n",
    "df1 = timestamp_df.assign(seconds = timestamp_df.row_i_time-timestamp_df.column_i_time)\n",
    "print_variables(df1)"
   ]
  },
  {
   "cell_type": "markdown",
   "id": "dc82ee2b-8f95-4962-8242-5f20706c4ae4",
   "metadata": {},
   "source": [
    "### Truncate hours/minutes/seconds from Date and Round hours/minutes/seconds from Date."
   ]
  },
  {
   "cell_type": "code",
   "execution_count": 79,
   "id": "0b7bacaf-a440-4f63-9774-46763c1c6c49",
   "metadata": {},
   "outputs": [
    {
     "name": "stdout",
     "output_type": "stream",
     "text": [
      "WARNING: Skipped loading table timestamp_data since it already exists in the database.\n",
      "Equivalent SQL: select id AS id, timestamp_col1 AS timestamp_col1, to_timestamp(timestamp_col1) AS col from (select id,timestamp_col1 from \"timestamp_data\") as temp_table\n",
      "\n",
      "\n",
      " ************************* DataFrame ********************* \n"
     ]
    },
    {
     "data": {
      "text/html": [
       "<style type=\"text/css\">\n",
       "\ttable {border:ridge 5px;}\n",
       "\ttable td {border:inset 1px;}\n",
       "\ttable tr#HeaderRow {background-color:grey; color:white;}</style>\n",
       "<html><table>\n",
       "\t<tr id=\"HeaderRow\">\n",
       "\t\t<th>id</th>\n",
       "\t\t<th>timestamp_col1</th>\n",
       "\t\t<th>col</th>\n",
       "\t</tr>\n",
       "\t<tr>\n",
       "\t\t<td>0</td>\n",
       "\t\t<td>123456</td>\n",
       "\t\t<td>1970-01-02 10:17:36.000000</td>\n",
       "\t</tr>\n",
       "\t<tr>\n",
       "\t\t<td>2</td>\n",
       "\t\t<td>45678910234</td>\n",
       "\t\t<td>3417-07-05 02:10:34.000000</td>\n",
       "\t</tr>\n",
       "\t<tr>\n",
       "\t\t<td>1</td>\n",
       "\t\t<td>878986</td>\n",
       "\t\t<td>1970-01-11 04:09:46.000000</td>\n",
       "\t</tr>\n",
       "</table></html>"
      ],
      "text/plain": [
       "    timestamp_col1                         col\n",
       "id                                            \n",
       "0           123456  1970-01-02 10:17:36.000000\n",
       "2      45678910234  3417-07-05 02:10:34.000000\n",
       "1           878986  1970-01-11 04:09:46.000000"
      ]
     },
     "metadata": {},
     "output_type": "display_data"
    },
    {
     "name": "stdout",
     "output_type": "stream",
     "text": [
      "\n",
      "\n",
      "\n",
      " ************************* DataFrame.dtypes ********************* \n"
     ]
    },
    {
     "data": {
      "text/html": [
       "<style type=\"text/css\">\n",
       "                                table {border:ridge 5px;}\n",
       "                                table td {border:inset 1px;}\n",
       "                                table tr#HeaderRow {background-color:grey; color:white;}\n",
       "                               </style>\n",
       "                               <html>\n",
       "                                  <table>\n",
       "                                    <tr id=\"HeaderRow\">\n",
       "                                        <th>COLUMN NAME</th>\n",
       "                                        <th>TYPE</th>\n",
       "                                    </tr>\n",
       "                                    <tr><td>id</td><td>int</td></tr>\n",
       "<tr><td>timestamp_col1</td><td>int</td></tr>\n",
       "<tr><td>col</td><td>datetime.datetime</td></tr>\n",
       "                                  </table>\n",
       "                               </html>\n",
       "                            "
      ],
      "text/plain": [
       "id                              int\n",
       "timestamp_col1                  int\n",
       "col               datetime.datetime"
      ]
     },
     "metadata": {},
     "output_type": "display_data"
    },
    {
     "name": "stdout",
     "output_type": "stream",
     "text": [
      "\n",
      "\n",
      "\n"
     ]
    }
   ],
   "source": [
    "# Load the data.\n",
    "load_example_data(\"teradataml\", \"timestamp_data\")\n",
    "df = DataFrame(\"timestamp_data\")\n",
    "df = df.select(['id','timestamp_col1']).assign(col = df.timestamp_col1.to_timestamp())\n",
    "print_variables(df)"
   ]
  },
  {
   "cell_type": "markdown",
   "id": "29f9e959-aee2-43a3-9f19-076249516aa0",
   "metadata": {},
   "source": [
    "### Truncate minutes from date. "
   ]
  },
  {
   "cell_type": "code",
   "execution_count": 80,
   "id": "8ec732d9-0388-444d-bc55-4d13df2a16c9",
   "metadata": {},
   "outputs": [
    {
     "name": "stdout",
     "output_type": "stream",
     "text": [
      "Equivalent SQL: select id AS id, timestamp_col1 AS timestamp_col1, col AS col, trunc(col, 'MI') AS res from (select id AS id, timestamp_col1 AS timestamp_col1, to_timestamp(timestamp_col1) AS col from (select id,timestamp_col1 from \"timestamp_data\") as temp_table) as temp_table\n",
      "\n",
      "\n",
      " ************************* DataFrame ********************* \n"
     ]
    },
    {
     "data": {
      "text/html": [
       "<style type=\"text/css\">\n",
       "\ttable {border:ridge 5px;}\n",
       "\ttable td {border:inset 1px;}\n",
       "\ttable tr#HeaderRow {background-color:grey; color:white;}</style>\n",
       "<html><table>\n",
       "\t<tr id=\"HeaderRow\">\n",
       "\t\t<th>id</th>\n",
       "\t\t<th>timestamp_col1</th>\n",
       "\t\t<th>col</th>\n",
       "\t\t<th>res</th>\n",
       "\t</tr>\n",
       "\t<tr>\n",
       "\t\t<td>2</td>\n",
       "\t\t<td>45678910234</td>\n",
       "\t\t<td>3417-07-05 02:10:34.000000</td>\n",
       "\t\t<td>3417-07-05 02:10:00.000000</td>\n",
       "\t</tr>\n",
       "\t<tr>\n",
       "\t\t<td>1</td>\n",
       "\t\t<td>878986</td>\n",
       "\t\t<td>1970-01-11 04:09:46.000000</td>\n",
       "\t\t<td>1970-01-11 04:09:00.000000</td>\n",
       "\t</tr>\n",
       "\t<tr>\n",
       "\t\t<td>0</td>\n",
       "\t\t<td>123456</td>\n",
       "\t\t<td>1970-01-02 10:17:36.000000</td>\n",
       "\t\t<td>1970-01-02 10:17:00.000000</td>\n",
       "\t</tr>\n",
       "</table></html>"
      ],
      "text/plain": [
       "    timestamp_col1                         col                         res\n",
       "id                                                                        \n",
       "2      45678910234  3417-07-05 02:10:34.000000  3417-07-05 02:10:00.000000\n",
       "1           878986  1970-01-11 04:09:46.000000  1970-01-11 04:09:00.000000\n",
       "0           123456  1970-01-02 10:17:36.000000  1970-01-02 10:17:00.000000"
      ]
     },
     "metadata": {},
     "output_type": "display_data"
    },
    {
     "name": "stdout",
     "output_type": "stream",
     "text": [
      "\n",
      "\n",
      "\n",
      " ************************* DataFrame.dtypes ********************* \n"
     ]
    },
    {
     "data": {
      "text/html": [
       "<style type=\"text/css\">\n",
       "                                table {border:ridge 5px;}\n",
       "                                table td {border:inset 1px;}\n",
       "                                table tr#HeaderRow {background-color:grey; color:white;}\n",
       "                               </style>\n",
       "                               <html>\n",
       "                                  <table>\n",
       "                                    <tr id=\"HeaderRow\">\n",
       "                                        <th>COLUMN NAME</th>\n",
       "                                        <th>TYPE</th>\n",
       "                                    </tr>\n",
       "                                    <tr><td>id</td><td>int</td></tr>\n",
       "<tr><td>timestamp_col1</td><td>int</td></tr>\n",
       "<tr><td>col</td><td>datetime.datetime</td></tr>\n",
       "<tr><td>res</td><td>str</td></tr>\n",
       "                                  </table>\n",
       "                               </html>\n",
       "                            "
      ],
      "text/plain": [
       "id                              int\n",
       "timestamp_col1                  int\n",
       "col               datetime.datetime\n",
       "res                             str"
      ]
     },
     "metadata": {},
     "output_type": "display_data"
    },
    {
     "name": "stdout",
     "output_type": "stream",
     "text": [
      "\n",
      "\n",
      "\n"
     ]
    }
   ],
   "source": [
    "df1 = df.assign(res = df.col.trunc(formatter=\"MI\"))\n",
    "print_variables(df1)"
   ]
  },
  {
   "cell_type": "markdown",
   "id": "c5b7524b-7aec-4bb6-8077-0241023091bc",
   "metadata": {},
   "source": [
    "### Round off minutes from date. "
   ]
  },
  {
   "cell_type": "code",
   "execution_count": 81,
   "id": "4538afa4-f87f-4c6f-8766-5e7670d48bad",
   "metadata": {},
   "outputs": [
    {
     "name": "stdout",
     "output_type": "stream",
     "text": [
      "Equivalent SQL: select id AS id, timestamp_col1 AS timestamp_col1, col AS col, round(col, 'MI') AS res from (select id AS id, timestamp_col1 AS timestamp_col1, to_timestamp(timestamp_col1) AS col from (select id,timestamp_col1 from \"timestamp_data\") as temp_table) as temp_table\n",
      "\n",
      "\n",
      " ************************* DataFrame ********************* \n"
     ]
    },
    {
     "data": {
      "text/html": [
       "<style type=\"text/css\">\n",
       "\ttable {border:ridge 5px;}\n",
       "\ttable td {border:inset 1px;}\n",
       "\ttable tr#HeaderRow {background-color:grey; color:white;}</style>\n",
       "<html><table>\n",
       "\t<tr id=\"HeaderRow\">\n",
       "\t\t<th>id</th>\n",
       "\t\t<th>timestamp_col1</th>\n",
       "\t\t<th>col</th>\n",
       "\t\t<th>res</th>\n",
       "\t</tr>\n",
       "\t<tr>\n",
       "\t\t<td>2</td>\n",
       "\t\t<td>45678910234</td>\n",
       "\t\t<td>3417-07-05 02:10:34.000000</td>\n",
       "\t\t<td>3417-07-05 02:10:00.000000</td>\n",
       "\t</tr>\n",
       "\t<tr>\n",
       "\t\t<td>1</td>\n",
       "\t\t<td>878986</td>\n",
       "\t\t<td>1970-01-11 04:09:46.000000</td>\n",
       "\t\t<td>1970-01-11 04:09:00.000000</td>\n",
       "\t</tr>\n",
       "\t<tr>\n",
       "\t\t<td>0</td>\n",
       "\t\t<td>123456</td>\n",
       "\t\t<td>1970-01-02 10:17:36.000000</td>\n",
       "\t\t<td>1970-01-02 10:17:00.000000</td>\n",
       "\t</tr>\n",
       "</table></html>"
      ],
      "text/plain": [
       "    timestamp_col1                         col                         res\n",
       "id                                                                        \n",
       "2      45678910234  3417-07-05 02:10:34.000000  3417-07-05 02:10:00.000000\n",
       "1           878986  1970-01-11 04:09:46.000000  1970-01-11 04:09:00.000000\n",
       "0           123456  1970-01-02 10:17:36.000000  1970-01-02 10:17:00.000000"
      ]
     },
     "metadata": {},
     "output_type": "display_data"
    },
    {
     "name": "stdout",
     "output_type": "stream",
     "text": [
      "\n",
      "\n",
      "\n",
      " ************************* DataFrame.dtypes ********************* \n"
     ]
    },
    {
     "data": {
      "text/html": [
       "<style type=\"text/css\">\n",
       "                                table {border:ridge 5px;}\n",
       "                                table td {border:inset 1px;}\n",
       "                                table tr#HeaderRow {background-color:grey; color:white;}\n",
       "                               </style>\n",
       "                               <html>\n",
       "                                  <table>\n",
       "                                    <tr id=\"HeaderRow\">\n",
       "                                        <th>COLUMN NAME</th>\n",
       "                                        <th>TYPE</th>\n",
       "                                    </tr>\n",
       "                                    <tr><td>id</td><td>int</td></tr>\n",
       "<tr><td>timestamp_col1</td><td>int</td></tr>\n",
       "<tr><td>col</td><td>datetime.datetime</td></tr>\n",
       "<tr><td>res</td><td>str</td></tr>\n",
       "                                  </table>\n",
       "                               </html>\n",
       "                            "
      ],
      "text/plain": [
       "id                              int\n",
       "timestamp_col1                  int\n",
       "col               datetime.datetime\n",
       "res                             str"
      ]
     },
     "metadata": {},
     "output_type": "display_data"
    },
    {
     "name": "stdout",
     "output_type": "stream",
     "text": [
      "\n",
      "\n",
      "\n"
     ]
    }
   ],
   "source": [
    "from sqlalchemy import func\n",
    "from teradataml.dataframe.sql import _SQLColumnExpression\n",
    "df1 = df.assign(res = _SQLColumnExpression(func.round(df.col.expression, 'MI')))\n",
    "print_variables(df1)"
   ]
  },
  {
   "cell_type": "markdown",
   "id": "96f2d274-be57-46cf-a3b4-92e544f87a7d",
   "metadata": {},
   "source": [
    "### Truncate hours from date."
   ]
  },
  {
   "cell_type": "code",
   "execution_count": 82,
   "id": "ee47f41d-220b-4a0e-869c-cadcb0d83f39",
   "metadata": {},
   "outputs": [
    {
     "name": "stdout",
     "output_type": "stream",
     "text": [
      "Equivalent SQL: select id AS id, timestamp_col1 AS timestamp_col1, col AS col, trunc(col, 'HH') AS res from (select id AS id, timestamp_col1 AS timestamp_col1, to_timestamp(timestamp_col1) AS col from (select id,timestamp_col1 from \"timestamp_data\") as temp_table) as temp_table\n",
      "\n",
      "\n",
      " ************************* DataFrame ********************* \n"
     ]
    },
    {
     "data": {
      "text/html": [
       "<style type=\"text/css\">\n",
       "\ttable {border:ridge 5px;}\n",
       "\ttable td {border:inset 1px;}\n",
       "\ttable tr#HeaderRow {background-color:grey; color:white;}</style>\n",
       "<html><table>\n",
       "\t<tr id=\"HeaderRow\">\n",
       "\t\t<th>id</th>\n",
       "\t\t<th>timestamp_col1</th>\n",
       "\t\t<th>col</th>\n",
       "\t\t<th>res</th>\n",
       "\t</tr>\n",
       "\t<tr>\n",
       "\t\t<td>0</td>\n",
       "\t\t<td>123456</td>\n",
       "\t\t<td>1970-01-02 10:17:36.000000</td>\n",
       "\t\t<td>1970-01-02 10:00:00.000000</td>\n",
       "\t</tr>\n",
       "\t<tr>\n",
       "\t\t<td>2</td>\n",
       "\t\t<td>45678910234</td>\n",
       "\t\t<td>3417-07-05 02:10:34.000000</td>\n",
       "\t\t<td>3417-07-05 02:00:00.000000</td>\n",
       "\t</tr>\n",
       "\t<tr>\n",
       "\t\t<td>1</td>\n",
       "\t\t<td>878986</td>\n",
       "\t\t<td>1970-01-11 04:09:46.000000</td>\n",
       "\t\t<td>1970-01-11 04:00:00.000000</td>\n",
       "\t</tr>\n",
       "</table></html>"
      ],
      "text/plain": [
       "    timestamp_col1                         col                         res\n",
       "id                                                                        \n",
       "0           123456  1970-01-02 10:17:36.000000  1970-01-02 10:00:00.000000\n",
       "2      45678910234  3417-07-05 02:10:34.000000  3417-07-05 02:00:00.000000\n",
       "1           878986  1970-01-11 04:09:46.000000  1970-01-11 04:00:00.000000"
      ]
     },
     "metadata": {},
     "output_type": "display_data"
    },
    {
     "name": "stdout",
     "output_type": "stream",
     "text": [
      "\n",
      "\n",
      "\n",
      " ************************* DataFrame.dtypes ********************* \n"
     ]
    },
    {
     "data": {
      "text/html": [
       "<style type=\"text/css\">\n",
       "                                table {border:ridge 5px;}\n",
       "                                table td {border:inset 1px;}\n",
       "                                table tr#HeaderRow {background-color:grey; color:white;}\n",
       "                               </style>\n",
       "                               <html>\n",
       "                                  <table>\n",
       "                                    <tr id=\"HeaderRow\">\n",
       "                                        <th>COLUMN NAME</th>\n",
       "                                        <th>TYPE</th>\n",
       "                                    </tr>\n",
       "                                    <tr><td>id</td><td>int</td></tr>\n",
       "<tr><td>timestamp_col1</td><td>int</td></tr>\n",
       "<tr><td>col</td><td>datetime.datetime</td></tr>\n",
       "<tr><td>res</td><td>str</td></tr>\n",
       "                                  </table>\n",
       "                               </html>\n",
       "                            "
      ],
      "text/plain": [
       "id                              int\n",
       "timestamp_col1                  int\n",
       "col               datetime.datetime\n",
       "res                             str"
      ]
     },
     "metadata": {},
     "output_type": "display_data"
    },
    {
     "name": "stdout",
     "output_type": "stream",
     "text": [
      "\n",
      "\n",
      "\n"
     ]
    }
   ],
   "source": [
    "df1 = df.assign(res = df.col.trunc(formatter=\"HH\"))\n",
    "print_variables(df1)"
   ]
  },
  {
   "cell_type": "markdown",
   "id": "5673acbd-149d-4d68-88a6-8cc6717aee2b",
   "metadata": {},
   "source": [
    "### Round off hours from date."
   ]
  },
  {
   "cell_type": "code",
   "execution_count": 83,
   "id": "734eb60c-7578-4a3a-83cd-eca03c0560d6",
   "metadata": {},
   "outputs": [
    {
     "name": "stdout",
     "output_type": "stream",
     "text": [
      "Equivalent SQL: select id AS id, timestamp_col1 AS timestamp_col1, col AS col, round(col, 'HH') AS res from (select id AS id, timestamp_col1 AS timestamp_col1, to_timestamp(timestamp_col1) AS col from (select id,timestamp_col1 from \"timestamp_data\") as temp_table) as temp_table\n",
      "\n",
      "\n",
      " ************************* DataFrame ********************* \n"
     ]
    },
    {
     "data": {
      "text/html": [
       "<style type=\"text/css\">\n",
       "\ttable {border:ridge 5px;}\n",
       "\ttable td {border:inset 1px;}\n",
       "\ttable tr#HeaderRow {background-color:grey; color:white;}</style>\n",
       "<html><table>\n",
       "\t<tr id=\"HeaderRow\">\n",
       "\t\t<th>id</th>\n",
       "\t\t<th>timestamp_col1</th>\n",
       "\t\t<th>col</th>\n",
       "\t\t<th>res</th>\n",
       "\t</tr>\n",
       "\t<tr>\n",
       "\t\t<td>2</td>\n",
       "\t\t<td>45678910234</td>\n",
       "\t\t<td>3417-07-05 02:10:34.000000</td>\n",
       "\t\t<td>3417-07-05 02:00:00.000000</td>\n",
       "\t</tr>\n",
       "\t<tr>\n",
       "\t\t<td>1</td>\n",
       "\t\t<td>878986</td>\n",
       "\t\t<td>1970-01-11 04:09:46.000000</td>\n",
       "\t\t<td>1970-01-11 04:00:00.000000</td>\n",
       "\t</tr>\n",
       "\t<tr>\n",
       "\t\t<td>0</td>\n",
       "\t\t<td>123456</td>\n",
       "\t\t<td>1970-01-02 10:17:36.000000</td>\n",
       "\t\t<td>1970-01-02 10:00:00.000000</td>\n",
       "\t</tr>\n",
       "</table></html>"
      ],
      "text/plain": [
       "    timestamp_col1                         col                         res\n",
       "id                                                                        \n",
       "2      45678910234  3417-07-05 02:10:34.000000  3417-07-05 02:00:00.000000\n",
       "1           878986  1970-01-11 04:09:46.000000  1970-01-11 04:00:00.000000\n",
       "0           123456  1970-01-02 10:17:36.000000  1970-01-02 10:00:00.000000"
      ]
     },
     "metadata": {},
     "output_type": "display_data"
    },
    {
     "name": "stdout",
     "output_type": "stream",
     "text": [
      "\n",
      "\n",
      "\n",
      " ************************* DataFrame.dtypes ********************* \n"
     ]
    },
    {
     "data": {
      "text/html": [
       "<style type=\"text/css\">\n",
       "                                table {border:ridge 5px;}\n",
       "                                table td {border:inset 1px;}\n",
       "                                table tr#HeaderRow {background-color:grey; color:white;}\n",
       "                               </style>\n",
       "                               <html>\n",
       "                                  <table>\n",
       "                                    <tr id=\"HeaderRow\">\n",
       "                                        <th>COLUMN NAME</th>\n",
       "                                        <th>TYPE</th>\n",
       "                                    </tr>\n",
       "                                    <tr><td>id</td><td>int</td></tr>\n",
       "<tr><td>timestamp_col1</td><td>int</td></tr>\n",
       "<tr><td>col</td><td>datetime.datetime</td></tr>\n",
       "<tr><td>res</td><td>str</td></tr>\n",
       "                                  </table>\n",
       "                               </html>\n",
       "                            "
      ],
      "text/plain": [
       "id                              int\n",
       "timestamp_col1                  int\n",
       "col               datetime.datetime\n",
       "res                             str"
      ]
     },
     "metadata": {},
     "output_type": "display_data"
    },
    {
     "name": "stdout",
     "output_type": "stream",
     "text": [
      "\n",
      "\n",
      "\n"
     ]
    }
   ],
   "source": [
    "from sqlalchemy import func\n",
    "from teradataml.dataframe.sql import _SQLColumnExpression\n",
    "df1 = df.assign(res = _SQLColumnExpression(func.round(df.col.expression, 'HH')))\n",
    "print_variables(df1)"
   ]
  },
  {
   "cell_type": "markdown",
   "id": "c03a4f7e-3c57-4ccd-8742-26decd20c396",
   "metadata": {},
   "source": [
    "### Truncate years from date."
   ]
  },
  {
   "cell_type": "code",
   "execution_count": 84,
   "id": "9c44529d-9ac4-4146-b56c-1e6709166652",
   "metadata": {},
   "outputs": [
    {
     "name": "stdout",
     "output_type": "stream",
     "text": [
      "Equivalent SQL: select accounts AS accounts, \"Feb\" AS \"Feb\", \"Jan\" AS \"Jan\", \"Mar\" AS \"Mar\", \"Apr\" AS \"Apr\", datetime AS datetime, dates AS dates, trunc(dates, 'YYYY') AS res from (select accounts AS accounts, \"Feb\" AS \"Feb\", \"Jan\" AS \"Jan\", \"Mar\" AS \"Mar\", \"Apr\" AS \"Apr\", datetime AS datetime, CASE WHEN (accounts = 'Alpha Co') THEN datetime + 191 WHEN (accounts = 'Blue Inc') THEN datetime + 56 WHEN (accounts = 'Jones LLC') THEN datetime + 440 WHEN (accounts = 'Orange Inc') THEN datetime + 395 WHEN (accounts = 'Yellow Inc') THEN datetime + 362 WHEN (accounts = 'Red Inc') THEN datetime + 233 END AS dates from \"sales\") as temp_table\n",
      "\n",
      "\n",
      " ************************* DataFrame ********************* \n"
     ]
    },
    {
     "data": {
      "text/html": [
       "<style type=\"text/css\">\n",
       "\ttable {border:ridge 5px;}\n",
       "\ttable td {border:inset 1px;}\n",
       "\ttable tr#HeaderRow {background-color:grey; color:white;}</style>\n",
       "<html><table>\n",
       "\t<tr id=\"HeaderRow\">\n",
       "\t\t<th>accounts</th>\n",
       "\t\t<th>Feb</th>\n",
       "\t\t<th>Jan</th>\n",
       "\t\t<th>Mar</th>\n",
       "\t\t<th>Apr</th>\n",
       "\t\t<th>datetime</th>\n",
       "\t\t<th>dates</th>\n",
       "\t\t<th>res</th>\n",
       "\t</tr>\n",
       "\t<tr>\n",
       "\t\t<td>Alpha Co</td>\n",
       "\t\t<td>210.0</td>\n",
       "\t\t<td>200</td>\n",
       "\t\t<td>215</td>\n",
       "\t\t<td>250</td>\n",
       "\t\t<td>04/01/2017</td>\n",
       "\t\t<td>17/07/14</td>\n",
       "\t\t<td>17/01/01</td>\n",
       "\t</tr>\n",
       "\t<tr>\n",
       "\t\t<td>Blue Inc</td>\n",
       "\t\t<td>90.0</td>\n",
       "\t\t<td>50</td>\n",
       "\t\t<td>95</td>\n",
       "\t\t<td>101</td>\n",
       "\t\t<td>04/01/2017</td>\n",
       "\t\t<td>17/03/01</td>\n",
       "\t\t<td>17/01/01</td>\n",
       "\t</tr>\n",
       "\t<tr>\n",
       "\t\t<td>Jones LLC</td>\n",
       "\t\t<td>200.0</td>\n",
       "\t\t<td>150</td>\n",
       "\t\t<td>140</td>\n",
       "\t\t<td>180</td>\n",
       "\t\t<td>04/01/2017</td>\n",
       "\t\t<td>18/03/20</td>\n",
       "\t\t<td>18/01/01</td>\n",
       "\t</tr>\n",
       "\t<tr>\n",
       "\t\t<td>Orange Inc</td>\n",
       "\t\t<td>210.0</td>\n",
       "\t\t<td>None</td>\n",
       "\t\t<td>None</td>\n",
       "\t\t<td>250</td>\n",
       "\t\t<td>04/01/2017</td>\n",
       "\t\t<td>18/02/03</td>\n",
       "\t\t<td>18/01/01</td>\n",
       "\t</tr>\n",
       "\t<tr>\n",
       "\t\t<td>Red Inc</td>\n",
       "\t\t<td>200.0</td>\n",
       "\t\t<td>150</td>\n",
       "\t\t<td>140</td>\n",
       "\t\t<td>None</td>\n",
       "\t\t<td>04/01/2017</td>\n",
       "\t\t<td>17/08/25</td>\n",
       "\t\t<td>17/01/01</td>\n",
       "\t</tr>\n",
       "\t<tr>\n",
       "\t\t<td>Yellow Inc</td>\n",
       "\t\t<td>90.0</td>\n",
       "\t\t<td>None</td>\n",
       "\t\t<td>None</td>\n",
       "\t\t<td>None</td>\n",
       "\t\t<td>04/01/2017</td>\n",
       "\t\t<td>18/01/01</td>\n",
       "\t\t<td>18/01/01</td>\n",
       "\t</tr>\n",
       "</table></html>"
      ],
      "text/plain": [
       "              Feb    Jan    Mar    Apr    datetime     dates       res\n",
       "accounts                                                              \n",
       "Alpha Co    210.0  200.0  215.0  250.0  04/01/2017  17/07/14  17/01/01\n",
       "Blue Inc     90.0   50.0   95.0  101.0  04/01/2017  17/03/01  17/01/01\n",
       "Jones LLC   200.0  150.0  140.0  180.0  04/01/2017  18/03/20  18/01/01\n",
       "Orange Inc  210.0    NaN    NaN  250.0  04/01/2017  18/02/03  18/01/01\n",
       "Red Inc     200.0  150.0  140.0    NaN  04/01/2017  17/08/25  17/01/01\n",
       "Yellow Inc   90.0    NaN    NaN    NaN  04/01/2017  18/01/01  18/01/01"
      ]
     },
     "metadata": {},
     "output_type": "display_data"
    },
    {
     "name": "stdout",
     "output_type": "stream",
     "text": [
      "\n",
      "\n",
      "\n",
      " ************************* DataFrame.dtypes ********************* \n"
     ]
    },
    {
     "data": {
      "text/html": [
       "<style type=\"text/css\">\n",
       "                                table {border:ridge 5px;}\n",
       "                                table td {border:inset 1px;}\n",
       "                                table tr#HeaderRow {background-color:grey; color:white;}\n",
       "                               </style>\n",
       "                               <html>\n",
       "                                  <table>\n",
       "                                    <tr id=\"HeaderRow\">\n",
       "                                        <th>COLUMN NAME</th>\n",
       "                                        <th>TYPE</th>\n",
       "                                    </tr>\n",
       "                                    <tr><td>accounts</td><td>str</td></tr>\n",
       "<tr><td>Feb</td><td>float</td></tr>\n",
       "<tr><td>Jan</td><td>int</td></tr>\n",
       "<tr><td>Mar</td><td>int</td></tr>\n",
       "<tr><td>Apr</td><td>int</td></tr>\n",
       "<tr><td>datetime</td><td>datetime.date</td></tr>\n",
       "<tr><td>dates</td><td>datetime.date</td></tr>\n",
       "<tr><td>res</td><td>str</td></tr>\n",
       "                                  </table>\n",
       "                               </html>\n",
       "                            "
      ],
      "text/plain": [
       "accounts              str\n",
       "Feb                 float\n",
       "Jan                   int\n",
       "Mar                   int\n",
       "Apr                   int\n",
       "datetime    datetime.date\n",
       "dates       datetime.date\n",
       "res                   str"
      ]
     },
     "metadata": {},
     "output_type": "display_data"
    },
    {
     "name": "stdout",
     "output_type": "stream",
     "text": [
      "\n",
      "\n",
      "\n"
     ]
    }
   ],
   "source": [
    "df1 = df_sales.assign(res = df_sales.dates.trunc(formatter=\"YYYY\")).sort('accounts')\n",
    "print_variables(df1)"
   ]
  },
  {
   "cell_type": "markdown",
   "id": "50f5f04b-2626-46a3-8a34-eb82445961bf",
   "metadata": {},
   "source": [
    "### Add a day to date."
   ]
  },
  {
   "cell_type": "code",
   "execution_count": 85,
   "id": "6101b1eb-c8d3-48fd-b8cc-21ef466ee939",
   "metadata": {},
   "outputs": [
    {
     "name": "stdout",
     "output_type": "stream",
     "text": [
      "Equivalent SQL: select accounts AS accounts, \"Feb\" AS \"Feb\", \"Jan\" AS \"Jan\", \"Mar\" AS \"Mar\", \"Apr\" AS \"Apr\", datetime AS datetime, dates AS dates, dates + CAST(\"Jan\" AS INTERVAL DAY(4)) AS res from (select accounts AS accounts, \"Feb\" AS \"Feb\", \"Jan\" AS \"Jan\", \"Mar\" AS \"Mar\", \"Apr\" AS \"Apr\", datetime AS datetime, CASE WHEN (accounts = 'Alpha Co') THEN datetime + 191 WHEN (accounts = 'Blue Inc') THEN datetime + 56 WHEN (accounts = 'Jones LLC') THEN datetime + 440 WHEN (accounts = 'Orange Inc') THEN datetime + 395 WHEN (accounts = 'Yellow Inc') THEN datetime + 362 WHEN (accounts = 'Red Inc') THEN datetime + 233 END AS dates from \"sales\") as temp_table\n",
      "\n",
      "\n",
      " ************************* DataFrame ********************* \n"
     ]
    },
    {
     "data": {
      "text/html": [
       "<style type=\"text/css\">\n",
       "\ttable {border:ridge 5px;}\n",
       "\ttable td {border:inset 1px;}\n",
       "\ttable tr#HeaderRow {background-color:grey; color:white;}</style>\n",
       "<html><table>\n",
       "\t<tr id=\"HeaderRow\">\n",
       "\t\t<th>accounts</th>\n",
       "\t\t<th>Feb</th>\n",
       "\t\t<th>Jan</th>\n",
       "\t\t<th>Mar</th>\n",
       "\t\t<th>Apr</th>\n",
       "\t\t<th>datetime</th>\n",
       "\t\t<th>dates</th>\n",
       "\t\t<th>res</th>\n",
       "\t</tr>\n",
       "\t<tr>\n",
       "\t\t<td>Alpha Co</td>\n",
       "\t\t<td>210.0</td>\n",
       "\t\t<td>200</td>\n",
       "\t\t<td>215</td>\n",
       "\t\t<td>250</td>\n",
       "\t\t<td>04/01/2017</td>\n",
       "\t\t<td>17/07/14</td>\n",
       "\t\t<td>18/01/30</td>\n",
       "\t</tr>\n",
       "\t<tr>\n",
       "\t\t<td>Blue Inc</td>\n",
       "\t\t<td>90.0</td>\n",
       "\t\t<td>50</td>\n",
       "\t\t<td>95</td>\n",
       "\t\t<td>101</td>\n",
       "\t\t<td>04/01/2017</td>\n",
       "\t\t<td>17/03/01</td>\n",
       "\t\t<td>17/04/20</td>\n",
       "\t</tr>\n",
       "\t<tr>\n",
       "\t\t<td>Jones LLC</td>\n",
       "\t\t<td>200.0</td>\n",
       "\t\t<td>150</td>\n",
       "\t\t<td>140</td>\n",
       "\t\t<td>180</td>\n",
       "\t\t<td>04/01/2017</td>\n",
       "\t\t<td>18/03/20</td>\n",
       "\t\t<td>18/08/17</td>\n",
       "\t</tr>\n",
       "\t<tr>\n",
       "\t\t<td>Orange Inc</td>\n",
       "\t\t<td>210.0</td>\n",
       "\t\t<td>None</td>\n",
       "\t\t<td>None</td>\n",
       "\t\t<td>250</td>\n",
       "\t\t<td>04/01/2017</td>\n",
       "\t\t<td>18/02/03</td>\n",
       "\t\t<td>None</td>\n",
       "\t</tr>\n",
       "\t<tr>\n",
       "\t\t<td>Yellow Inc</td>\n",
       "\t\t<td>90.0</td>\n",
       "\t\t<td>None</td>\n",
       "\t\t<td>None</td>\n",
       "\t\t<td>None</td>\n",
       "\t\t<td>04/01/2017</td>\n",
       "\t\t<td>18/01/01</td>\n",
       "\t\t<td>None</td>\n",
       "\t</tr>\n",
       "\t<tr>\n",
       "\t\t<td>Red Inc</td>\n",
       "\t\t<td>200.0</td>\n",
       "\t\t<td>150</td>\n",
       "\t\t<td>140</td>\n",
       "\t\t<td>None</td>\n",
       "\t\t<td>04/01/2017</td>\n",
       "\t\t<td>17/08/25</td>\n",
       "\t\t<td>18/01/22</td>\n",
       "\t</tr>\n",
       "</table></html>"
      ],
      "text/plain": [
       "              Feb    Jan    Mar    Apr    datetime     dates       res\n",
       "accounts                                                              \n",
       "Alpha Co    210.0  200.0  215.0  250.0  04/01/2017  17/07/14  18/01/30\n",
       "Blue Inc     90.0   50.0   95.0  101.0  04/01/2017  17/03/01  17/04/20\n",
       "Jones LLC   200.0  150.0  140.0  180.0  04/01/2017  18/03/20  18/08/17\n",
       "Orange Inc  210.0    NaN    NaN  250.0  04/01/2017  18/02/03      None\n",
       "Yellow Inc   90.0    NaN    NaN    NaN  04/01/2017  18/01/01      None\n",
       "Red Inc     200.0  150.0  140.0    NaN  04/01/2017  17/08/25  18/01/22"
      ]
     },
     "metadata": {},
     "output_type": "display_data"
    },
    {
     "name": "stdout",
     "output_type": "stream",
     "text": [
      "\n",
      "\n",
      "\n",
      " ************************* DataFrame.dtypes ********************* \n"
     ]
    },
    {
     "data": {
      "text/html": [
       "<style type=\"text/css\">\n",
       "                                table {border:ridge 5px;}\n",
       "                                table td {border:inset 1px;}\n",
       "                                table tr#HeaderRow {background-color:grey; color:white;}\n",
       "                               </style>\n",
       "                               <html>\n",
       "                                  <table>\n",
       "                                    <tr id=\"HeaderRow\">\n",
       "                                        <th>COLUMN NAME</th>\n",
       "                                        <th>TYPE</th>\n",
       "                                    </tr>\n",
       "                                    <tr><td>accounts</td><td>str</td></tr>\n",
       "<tr><td>Feb</td><td>float</td></tr>\n",
       "<tr><td>Jan</td><td>int</td></tr>\n",
       "<tr><td>Mar</td><td>int</td></tr>\n",
       "<tr><td>Apr</td><td>int</td></tr>\n",
       "<tr><td>datetime</td><td>datetime.date</td></tr>\n",
       "<tr><td>dates</td><td>datetime.date</td></tr>\n",
       "<tr><td>res</td><td>datetime.date</td></tr>\n",
       "                                  </table>\n",
       "                               </html>\n",
       "                            "
      ],
      "text/plain": [
       "accounts              str\n",
       "Feb                 float\n",
       "Jan                   int\n",
       "Mar                   int\n",
       "Apr                   int\n",
       "datetime    datetime.date\n",
       "dates       datetime.date\n",
       "res         datetime.date"
      ]
     },
     "metadata": {},
     "output_type": "display_data"
    },
    {
     "name": "stdout",
     "output_type": "stream",
     "text": [
      "\n",
      "\n",
      "\n"
     ]
    }
   ],
   "source": [
    "df = df_sales.assign(res = df_sales.dates + df_sales.Jan.cast(INTERVAL_DAY(4)))\n",
    "print_variables(df)"
   ]
  },
  {
   "cell_type": "markdown",
   "id": "10039bc7-1c89-4ca7-abee-bd4cfd3d03d1",
   "metadata": {},
   "source": [
    "### Add a month to date."
   ]
  },
  {
   "cell_type": "code",
   "execution_count": 86,
   "id": "26ab91fe-0dd6-412a-b8a1-bce969f5b2d7",
   "metadata": {},
   "outputs": [
    {
     "name": "stdout",
     "output_type": "stream",
     "text": [
      "Equivalent SQL: select accounts AS accounts, \"Feb\" AS \"Feb\", \"Jan\" AS \"Jan\", \"Mar\" AS \"Mar\", \"Apr\" AS \"Apr\", datetime AS datetime, dates AS dates, dates + CAST(\"Jan\" AS INTERVAL MONTH(4)) AS res from (select accounts AS accounts, \"Feb\" AS \"Feb\", \"Jan\" AS \"Jan\", \"Mar\" AS \"Mar\", \"Apr\" AS \"Apr\", datetime AS datetime, CASE WHEN (accounts = 'Alpha Co') THEN datetime + 191 WHEN (accounts = 'Blue Inc') THEN datetime + 56 WHEN (accounts = 'Jones LLC') THEN datetime + 440 WHEN (accounts = 'Orange Inc') THEN datetime + 395 WHEN (accounts = 'Yellow Inc') THEN datetime + 362 WHEN (accounts = 'Red Inc') THEN datetime + 233 END AS dates from \"sales\") as temp_table\n",
      "\n",
      "\n",
      " ************************* DataFrame ********************* \n"
     ]
    },
    {
     "data": {
      "text/html": [
       "<style type=\"text/css\">\n",
       "\ttable {border:ridge 5px;}\n",
       "\ttable td {border:inset 1px;}\n",
       "\ttable tr#HeaderRow {background-color:grey; color:white;}</style>\n",
       "<html><table>\n",
       "\t<tr id=\"HeaderRow\">\n",
       "\t\t<th>accounts</th>\n",
       "\t\t<th>Feb</th>\n",
       "\t\t<th>Jan</th>\n",
       "\t\t<th>Mar</th>\n",
       "\t\t<th>Apr</th>\n",
       "\t\t<th>datetime</th>\n",
       "\t\t<th>dates</th>\n",
       "\t\t<th>res</th>\n",
       "\t</tr>\n",
       "\t<tr>\n",
       "\t\t<td>Blue Inc</td>\n",
       "\t\t<td>90.0</td>\n",
       "\t\t<td>50</td>\n",
       "\t\t<td>95</td>\n",
       "\t\t<td>101</td>\n",
       "\t\t<td>04/01/2017</td>\n",
       "\t\t<td>17/03/01</td>\n",
       "\t\t<td>21/05/01</td>\n",
       "\t</tr>\n",
       "\t<tr>\n",
       "\t\t<td>Red Inc</td>\n",
       "\t\t<td>200.0</td>\n",
       "\t\t<td>150</td>\n",
       "\t\t<td>140</td>\n",
       "\t\t<td>None</td>\n",
       "\t\t<td>04/01/2017</td>\n",
       "\t\t<td>17/08/25</td>\n",
       "\t\t<td>30/02/25</td>\n",
       "\t</tr>\n",
       "\t<tr>\n",
       "\t\t<td>Yellow Inc</td>\n",
       "\t\t<td>90.0</td>\n",
       "\t\t<td>None</td>\n",
       "\t\t<td>None</td>\n",
       "\t\t<td>None</td>\n",
       "\t\t<td>04/01/2017</td>\n",
       "\t\t<td>18/01/01</td>\n",
       "\t\t<td>None</td>\n",
       "\t</tr>\n",
       "\t<tr>\n",
       "\t\t<td>Jones LLC</td>\n",
       "\t\t<td>200.0</td>\n",
       "\t\t<td>150</td>\n",
       "\t\t<td>140</td>\n",
       "\t\t<td>180</td>\n",
       "\t\t<td>04/01/2017</td>\n",
       "\t\t<td>18/03/20</td>\n",
       "\t\t<td>30/09/20</td>\n",
       "\t</tr>\n",
       "\t<tr>\n",
       "\t\t<td>Orange Inc</td>\n",
       "\t\t<td>210.0</td>\n",
       "\t\t<td>None</td>\n",
       "\t\t<td>None</td>\n",
       "\t\t<td>250</td>\n",
       "\t\t<td>04/01/2017</td>\n",
       "\t\t<td>18/02/03</td>\n",
       "\t\t<td>None</td>\n",
       "\t</tr>\n",
       "\t<tr>\n",
       "\t\t<td>Alpha Co</td>\n",
       "\t\t<td>210.0</td>\n",
       "\t\t<td>200</td>\n",
       "\t\t<td>215</td>\n",
       "\t\t<td>250</td>\n",
       "\t\t<td>04/01/2017</td>\n",
       "\t\t<td>17/07/14</td>\n",
       "\t\t<td>34/03/14</td>\n",
       "\t</tr>\n",
       "</table></html>"
      ],
      "text/plain": [
       "              Feb    Jan    Mar    Apr    datetime     dates       res\n",
       "accounts                                                              \n",
       "Blue Inc     90.0   50.0   95.0  101.0  04/01/2017  17/03/01  21/05/01\n",
       "Red Inc     200.0  150.0  140.0    NaN  04/01/2017  17/08/25  30/02/25\n",
       "Yellow Inc   90.0    NaN    NaN    NaN  04/01/2017  18/01/01      None\n",
       "Jones LLC   200.0  150.0  140.0  180.0  04/01/2017  18/03/20  30/09/20\n",
       "Orange Inc  210.0    NaN    NaN  250.0  04/01/2017  18/02/03      None\n",
       "Alpha Co    210.0  200.0  215.0  250.0  04/01/2017  17/07/14  34/03/14"
      ]
     },
     "metadata": {},
     "output_type": "display_data"
    },
    {
     "name": "stdout",
     "output_type": "stream",
     "text": [
      "\n",
      "\n",
      "\n",
      " ************************* DataFrame.dtypes ********************* \n"
     ]
    },
    {
     "data": {
      "text/html": [
       "<style type=\"text/css\">\n",
       "                                table {border:ridge 5px;}\n",
       "                                table td {border:inset 1px;}\n",
       "                                table tr#HeaderRow {background-color:grey; color:white;}\n",
       "                               </style>\n",
       "                               <html>\n",
       "                                  <table>\n",
       "                                    <tr id=\"HeaderRow\">\n",
       "                                        <th>COLUMN NAME</th>\n",
       "                                        <th>TYPE</th>\n",
       "                                    </tr>\n",
       "                                    <tr><td>accounts</td><td>str</td></tr>\n",
       "<tr><td>Feb</td><td>float</td></tr>\n",
       "<tr><td>Jan</td><td>int</td></tr>\n",
       "<tr><td>Mar</td><td>int</td></tr>\n",
       "<tr><td>Apr</td><td>int</td></tr>\n",
       "<tr><td>datetime</td><td>datetime.date</td></tr>\n",
       "<tr><td>dates</td><td>datetime.date</td></tr>\n",
       "<tr><td>res</td><td>datetime.date</td></tr>\n",
       "                                  </table>\n",
       "                               </html>\n",
       "                            "
      ],
      "text/plain": [
       "accounts              str\n",
       "Feb                 float\n",
       "Jan                   int\n",
       "Mar                   int\n",
       "Apr                   int\n",
       "datetime    datetime.date\n",
       "dates       datetime.date\n",
       "res         datetime.date"
      ]
     },
     "metadata": {},
     "output_type": "display_data"
    },
    {
     "name": "stdout",
     "output_type": "stream",
     "text": [
      "\n",
      "\n",
      "\n"
     ]
    }
   ],
   "source": [
    "df = df_sales.assign(res = df_sales.dates + df_sales.Jan.cast(INTERVAL_MONTH(4)))\n",
    "print_variables(df)"
   ]
  },
  {
   "cell_type": "markdown",
   "id": "9294fead-6ddd-4b81-b41c-0fe93c0d126b",
   "metadata": {},
   "source": [
    "### Add an year to date."
   ]
  },
  {
   "cell_type": "code",
   "execution_count": 87,
   "id": "a8c9f46b-474a-48e6-af93-6e1237a6116c",
   "metadata": {},
   "outputs": [
    {
     "name": "stdout",
     "output_type": "stream",
     "text": [
      "Equivalent SQL: select accounts AS accounts, \"Feb\" AS \"Feb\", \"Jan\" AS \"Jan\", \"Mar\" AS \"Mar\", \"Apr\" AS \"Apr\", datetime AS datetime, dates AS dates, dates + CAST(\"Jan\" AS INTERVAL YEAR(4)) AS res from (select accounts AS accounts, \"Feb\" AS \"Feb\", \"Jan\" AS \"Jan\", \"Mar\" AS \"Mar\", \"Apr\" AS \"Apr\", datetime AS datetime, CASE WHEN (accounts = 'Alpha Co') THEN datetime + 191 WHEN (accounts = 'Blue Inc') THEN datetime + 56 WHEN (accounts = 'Jones LLC') THEN datetime + 440 WHEN (accounts = 'Orange Inc') THEN datetime + 395 WHEN (accounts = 'Yellow Inc') THEN datetime + 362 WHEN (accounts = 'Red Inc') THEN datetime + 233 END AS dates from \"sales\") as temp_table\n",
      "\n",
      "\n",
      " ************************* DataFrame ********************* \n"
     ]
    },
    {
     "data": {
      "text/html": [
       "<style type=\"text/css\">\n",
       "\ttable {border:ridge 5px;}\n",
       "\ttable td {border:inset 1px;}\n",
       "\ttable tr#HeaderRow {background-color:grey; color:white;}</style>\n",
       "<html><table>\n",
       "\t<tr id=\"HeaderRow\">\n",
       "\t\t<th>accounts</th>\n",
       "\t\t<th>Feb</th>\n",
       "\t\t<th>Jan</th>\n",
       "\t\t<th>Mar</th>\n",
       "\t\t<th>Apr</th>\n",
       "\t\t<th>datetime</th>\n",
       "\t\t<th>dates</th>\n",
       "\t\t<th>res</th>\n",
       "\t</tr>\n",
       "\t<tr>\n",
       "\t\t<td>Blue Inc</td>\n",
       "\t\t<td>90.0</td>\n",
       "\t\t<td>50</td>\n",
       "\t\t<td>95</td>\n",
       "\t\t<td>101</td>\n",
       "\t\t<td>04/01/2017</td>\n",
       "\t\t<td>17/03/01</td>\n",
       "\t\t<td>67/03/01</td>\n",
       "\t</tr>\n",
       "\t<tr>\n",
       "\t\t<td>Red Inc</td>\n",
       "\t\t<td>200.0</td>\n",
       "\t\t<td>150</td>\n",
       "\t\t<td>140</td>\n",
       "\t\t<td>None</td>\n",
       "\t\t<td>04/01/2017</td>\n",
       "\t\t<td>17/08/25</td>\n",
       "\t\t<td>67/08/25</td>\n",
       "\t</tr>\n",
       "\t<tr>\n",
       "\t\t<td>Yellow Inc</td>\n",
       "\t\t<td>90.0</td>\n",
       "\t\t<td>None</td>\n",
       "\t\t<td>None</td>\n",
       "\t\t<td>None</td>\n",
       "\t\t<td>04/01/2017</td>\n",
       "\t\t<td>18/01/01</td>\n",
       "\t\t<td>None</td>\n",
       "\t</tr>\n",
       "\t<tr>\n",
       "\t\t<td>Jones LLC</td>\n",
       "\t\t<td>200.0</td>\n",
       "\t\t<td>150</td>\n",
       "\t\t<td>140</td>\n",
       "\t\t<td>180</td>\n",
       "\t\t<td>04/01/2017</td>\n",
       "\t\t<td>18/03/20</td>\n",
       "\t\t<td>68/03/20</td>\n",
       "\t</tr>\n",
       "\t<tr>\n",
       "\t\t<td>Orange Inc</td>\n",
       "\t\t<td>210.0</td>\n",
       "\t\t<td>None</td>\n",
       "\t\t<td>None</td>\n",
       "\t\t<td>250</td>\n",
       "\t\t<td>04/01/2017</td>\n",
       "\t\t<td>18/02/03</td>\n",
       "\t\t<td>None</td>\n",
       "\t</tr>\n",
       "\t<tr>\n",
       "\t\t<td>Alpha Co</td>\n",
       "\t\t<td>210.0</td>\n",
       "\t\t<td>200</td>\n",
       "\t\t<td>215</td>\n",
       "\t\t<td>250</td>\n",
       "\t\t<td>04/01/2017</td>\n",
       "\t\t<td>17/07/14</td>\n",
       "\t\t<td>17/07/14</td>\n",
       "\t</tr>\n",
       "</table></html>"
      ],
      "text/plain": [
       "              Feb    Jan    Mar    Apr    datetime     dates       res\n",
       "accounts                                                              \n",
       "Blue Inc     90.0   50.0   95.0  101.0  04/01/2017  17/03/01  67/03/01\n",
       "Red Inc     200.0  150.0  140.0    NaN  04/01/2017  17/08/25  67/08/25\n",
       "Yellow Inc   90.0    NaN    NaN    NaN  04/01/2017  18/01/01      None\n",
       "Jones LLC   200.0  150.0  140.0  180.0  04/01/2017  18/03/20  68/03/20\n",
       "Orange Inc  210.0    NaN    NaN  250.0  04/01/2017  18/02/03      None\n",
       "Alpha Co    210.0  200.0  215.0  250.0  04/01/2017  17/07/14  17/07/14"
      ]
     },
     "metadata": {},
     "output_type": "display_data"
    },
    {
     "name": "stdout",
     "output_type": "stream",
     "text": [
      "\n",
      "\n",
      "\n",
      " ************************* DataFrame.dtypes ********************* \n"
     ]
    },
    {
     "data": {
      "text/html": [
       "<style type=\"text/css\">\n",
       "                                table {border:ridge 5px;}\n",
       "                                table td {border:inset 1px;}\n",
       "                                table tr#HeaderRow {background-color:grey; color:white;}\n",
       "                               </style>\n",
       "                               <html>\n",
       "                                  <table>\n",
       "                                    <tr id=\"HeaderRow\">\n",
       "                                        <th>COLUMN NAME</th>\n",
       "                                        <th>TYPE</th>\n",
       "                                    </tr>\n",
       "                                    <tr><td>accounts</td><td>str</td></tr>\n",
       "<tr><td>Feb</td><td>float</td></tr>\n",
       "<tr><td>Jan</td><td>int</td></tr>\n",
       "<tr><td>Mar</td><td>int</td></tr>\n",
       "<tr><td>Apr</td><td>int</td></tr>\n",
       "<tr><td>datetime</td><td>datetime.date</td></tr>\n",
       "<tr><td>dates</td><td>datetime.date</td></tr>\n",
       "<tr><td>res</td><td>datetime.date</td></tr>\n",
       "                                  </table>\n",
       "                               </html>\n",
       "                            "
      ],
      "text/plain": [
       "accounts              str\n",
       "Feb                 float\n",
       "Jan                   int\n",
       "Mar                   int\n",
       "Apr                   int\n",
       "datetime    datetime.date\n",
       "dates       datetime.date\n",
       "res         datetime.date"
      ]
     },
     "metadata": {},
     "output_type": "display_data"
    },
    {
     "name": "stdout",
     "output_type": "stream",
     "text": [
      "\n",
      "\n",
      "\n"
     ]
    }
   ],
   "source": [
    "df = df_sales.assign(res = df_sales.dates + df_sales.Jan.cast(INTERVAL_YEAR(4)))\n",
    "print_variables(df)"
   ]
  },
  {
   "cell_type": "markdown",
   "id": "3f2830cc-407d-47b1-b54f-85862c073281",
   "metadata": {},
   "source": [
    "### Add an hour to date."
   ]
  },
  {
   "cell_type": "code",
   "execution_count": 88,
   "id": "82a111bf-c5ea-4b3d-87b9-1142fdf1d201",
   "metadata": {},
   "outputs": [
    {
     "name": "stdout",
     "output_type": "stream",
     "text": [
      "WARNING: Skipped loading table timestamp_data since it already exists in the database.\n",
      "Equivalent SQL: select id AS id, timestamp_col1 AS timestamp_col1, to_timestamp(timestamp_col1) AS col from (select id,timestamp_col1 from \"timestamp_data\") as temp_table\n",
      "\n",
      "\n",
      " ************************* DataFrame ********************* \n"
     ]
    },
    {
     "data": {
      "text/html": [
       "<style type=\"text/css\">\n",
       "\ttable {border:ridge 5px;}\n",
       "\ttable td {border:inset 1px;}\n",
       "\ttable tr#HeaderRow {background-color:grey; color:white;}</style>\n",
       "<html><table>\n",
       "\t<tr id=\"HeaderRow\">\n",
       "\t\t<th>id</th>\n",
       "\t\t<th>timestamp_col1</th>\n",
       "\t\t<th>col</th>\n",
       "\t</tr>\n",
       "\t<tr>\n",
       "\t\t<td>0</td>\n",
       "\t\t<td>123456</td>\n",
       "\t\t<td>1970-01-02 10:17:36.000000</td>\n",
       "\t</tr>\n",
       "\t<tr>\n",
       "\t\t<td>2</td>\n",
       "\t\t<td>45678910234</td>\n",
       "\t\t<td>3417-07-05 02:10:34.000000</td>\n",
       "\t</tr>\n",
       "\t<tr>\n",
       "\t\t<td>1</td>\n",
       "\t\t<td>878986</td>\n",
       "\t\t<td>1970-01-11 04:09:46.000000</td>\n",
       "\t</tr>\n",
       "</table></html>"
      ],
      "text/plain": [
       "    timestamp_col1                         col\n",
       "id                                            \n",
       "0           123456  1970-01-02 10:17:36.000000\n",
       "2      45678910234  3417-07-05 02:10:34.000000\n",
       "1           878986  1970-01-11 04:09:46.000000"
      ]
     },
     "metadata": {},
     "output_type": "display_data"
    },
    {
     "name": "stdout",
     "output_type": "stream",
     "text": [
      "\n",
      "\n",
      "\n",
      " ************************* DataFrame.dtypes ********************* \n"
     ]
    },
    {
     "data": {
      "text/html": [
       "<style type=\"text/css\">\n",
       "                                table {border:ridge 5px;}\n",
       "                                table td {border:inset 1px;}\n",
       "                                table tr#HeaderRow {background-color:grey; color:white;}\n",
       "                               </style>\n",
       "                               <html>\n",
       "                                  <table>\n",
       "                                    <tr id=\"HeaderRow\">\n",
       "                                        <th>COLUMN NAME</th>\n",
       "                                        <th>TYPE</th>\n",
       "                                    </tr>\n",
       "                                    <tr><td>id</td><td>int</td></tr>\n",
       "<tr><td>timestamp_col1</td><td>int</td></tr>\n",
       "<tr><td>col</td><td>datetime.datetime</td></tr>\n",
       "                                  </table>\n",
       "                               </html>\n",
       "                            "
      ],
      "text/plain": [
       "id                              int\n",
       "timestamp_col1                  int\n",
       "col               datetime.datetime"
      ]
     },
     "metadata": {},
     "output_type": "display_data"
    },
    {
     "name": "stdout",
     "output_type": "stream",
     "text": [
      "\n",
      "\n",
      "\n"
     ]
    }
   ],
   "source": [
    "# Load the data.\n",
    "load_example_data(\"teradataml\", \"timestamp_data\")\n",
    "df = DataFrame(\"timestamp_data\")\n",
    "df = df.select(['id','timestamp_col1']).assign(col = df.timestamp_col1.to_timestamp())\n",
    "print_variables(df)"
   ]
  },
  {
   "cell_type": "code",
   "execution_count": 89,
   "id": "73fcb769-a876-4fee-b170-3bfe4a343f4e",
   "metadata": {},
   "outputs": [
    {
     "name": "stdout",
     "output_type": "stream",
     "text": [
      "Equivalent SQL: select id AS id, timestamp_col1 AS timestamp_col1, col AS col, col + CAST(id AS INTERVAL MINUTE(3)) AS res from (select id AS id, timestamp_col1 AS timestamp_col1, to_timestamp(timestamp_col1) AS col from (select id,timestamp_col1 from \"timestamp_data\") as temp_table) as temp_table\n",
      "\n",
      "\n",
      " ************************* DataFrame ********************* \n"
     ]
    },
    {
     "data": {
      "text/html": [
       "<style type=\"text/css\">\n",
       "\ttable {border:ridge 5px;}\n",
       "\ttable td {border:inset 1px;}\n",
       "\ttable tr#HeaderRow {background-color:grey; color:white;}</style>\n",
       "<html><table>\n",
       "\t<tr id=\"HeaderRow\">\n",
       "\t\t<th>id</th>\n",
       "\t\t<th>timestamp_col1</th>\n",
       "\t\t<th>col</th>\n",
       "\t\t<th>res</th>\n",
       "\t</tr>\n",
       "\t<tr>\n",
       "\t\t<td>0</td>\n",
       "\t\t<td>123456</td>\n",
       "\t\t<td>1970-01-02 10:17:36.000000</td>\n",
       "\t\t<td>1970-01-02 10:17:36.000000</td>\n",
       "\t</tr>\n",
       "\t<tr>\n",
       "\t\t<td>2</td>\n",
       "\t\t<td>45678910234</td>\n",
       "\t\t<td>3417-07-05 02:10:34.000000</td>\n",
       "\t\t<td>3417-07-05 02:12:34.000000</td>\n",
       "\t</tr>\n",
       "\t<tr>\n",
       "\t\t<td>1</td>\n",
       "\t\t<td>878986</td>\n",
       "\t\t<td>1970-01-11 04:09:46.000000</td>\n",
       "\t\t<td>1970-01-11 04:10:46.000000</td>\n",
       "\t</tr>\n",
       "</table></html>"
      ],
      "text/plain": [
       "    timestamp_col1                         col                         res\n",
       "id                                                                        \n",
       "0           123456  1970-01-02 10:17:36.000000  1970-01-02 10:17:36.000000\n",
       "2      45678910234  3417-07-05 02:10:34.000000  3417-07-05 02:12:34.000000\n",
       "1           878986  1970-01-11 04:09:46.000000  1970-01-11 04:10:46.000000"
      ]
     },
     "metadata": {},
     "output_type": "display_data"
    },
    {
     "name": "stdout",
     "output_type": "stream",
     "text": [
      "\n",
      "\n",
      "\n",
      " ************************* DataFrame.dtypes ********************* \n"
     ]
    },
    {
     "data": {
      "text/html": [
       "<style type=\"text/css\">\n",
       "                                table {border:ridge 5px;}\n",
       "                                table td {border:inset 1px;}\n",
       "                                table tr#HeaderRow {background-color:grey; color:white;}\n",
       "                               </style>\n",
       "                               <html>\n",
       "                                  <table>\n",
       "                                    <tr id=\"HeaderRow\">\n",
       "                                        <th>COLUMN NAME</th>\n",
       "                                        <th>TYPE</th>\n",
       "                                    </tr>\n",
       "                                    <tr><td>id</td><td>int</td></tr>\n",
       "<tr><td>timestamp_col1</td><td>int</td></tr>\n",
       "<tr><td>col</td><td>datetime.datetime</td></tr>\n",
       "<tr><td>res</td><td>datetime.datetime</td></tr>\n",
       "                                  </table>\n",
       "                               </html>\n",
       "                            "
      ],
      "text/plain": [
       "id                              int\n",
       "timestamp_col1                  int\n",
       "col               datetime.datetime\n",
       "res               datetime.datetime"
      ]
     },
     "metadata": {},
     "output_type": "display_data"
    },
    {
     "name": "stdout",
     "output_type": "stream",
     "text": [
      "\n",
      "\n",
      "\n"
     ]
    }
   ],
   "source": [
    "df1 = df.assign(res = df.col + df.id.cast(INTERVAL_MINUTE(3)))\n",
    "print_variables(df1)"
   ]
  },
  {
   "cell_type": "markdown",
   "id": "8a7eb170-8a43-4a66-8e00-41a8460fb4a0",
   "metadata": {},
   "source": [
    "<b style = 'font-size:28px;font-family:Arial;color:#E37C4D'>Remove connection</b>"
   ]
  },
  {
   "cell_type": "code",
   "execution_count": 90,
   "id": "8b58ecc8",
   "metadata": {},
   "outputs": [
    {
     "data": {
      "text/plain": [
       "True"
      ]
     },
     "execution_count": 90,
     "metadata": {},
     "output_type": "execute_result"
    }
   ],
   "source": [
    "remove_context()"
   ]
  }
 ],
 "metadata": {
  "kernelspec": {
   "display_name": "Python 3 (ipykernel)",
   "language": "python",
   "name": "python3"
  },
  "language_info": {
   "codemirror_mode": {
    "name": "ipython",
    "version": 3
   },
   "file_extension": ".py",
   "mimetype": "text/x-python",
   "name": "python",
   "nbconvert_exporter": "python",
   "pygments_lexer": "ipython3",
   "version": "3.8.19"
  }
 },
 "nbformat": 4,
 "nbformat_minor": 5
}
